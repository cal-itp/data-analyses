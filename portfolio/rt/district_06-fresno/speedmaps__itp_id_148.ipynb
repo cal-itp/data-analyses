{
 "cells": [
  {
   "cell_type": "code",
   "execution_count": 1,
   "id": "46898b5c-b5cc-4096-ab68-8c3e42fab870",
   "metadata": {
    "execution": {
     "iopub.execute_input": "2022-04-22T03:42:01.135745Z",
     "iopub.status.busy": "2022-04-22T03:42:01.135375Z",
     "iopub.status.idle": "2022-04-22T03:42:10.108827Z",
     "shell.execute_reply": "2022-04-22T03:42:10.107942Z"
    },
    "jupyter": {
     "source_hidden": true
    },
    "papermill": {
     "duration": 8.997214,
     "end_time": "2022-04-22T03:42:10.112024",
     "exception": false,
     "start_time": "2022-04-22T03:42:01.114810",
     "status": "completed"
    },
    "tags": [
     "remove_input"
    ]
   },
   "outputs": [],
   "source": [
    "%%capture\n",
    "import warnings\n",
    "warnings.filterwarnings('ignore')\n",
    "\n",
    "import os\n",
    "os.environ[\"CALITP_BQ_MAX_BYTES\"] = str(800_000_000_000)\n",
    "import shared_utils\n",
    "import utils\n",
    "\n",
    "from calitp.tables import tbl\n",
    "from calitp import query_sql\n",
    "import calitp.magics\n",
    "\n",
    "from siuba import *\n",
    "import pandas as pd\n",
    "import geopandas as gpd\n",
    "\n",
    "import datetime as dt\n",
    "\n",
    "import importlib\n",
    "import rt_filter_map_plot\n",
    "\n",
    "from IPython.display import display, Markdown, Latex, HTML\n",
    "import json"
   ]
  },
  {
   "cell_type": "code",
   "execution_count": 2,
   "id": "9f15ed6a-5ab7-4f57-9695-3f762781b74c",
   "metadata": {
    "execution": {
     "iopub.execute_input": "2022-04-22T03:42:10.152998Z",
     "iopub.status.busy": "2022-04-22T03:42:10.152695Z",
     "iopub.status.idle": "2022-04-22T03:42:10.157026Z",
     "shell.execute_reply": "2022-04-22T03:42:10.156160Z"
    },
    "jupyter": {
     "source_hidden": true
    },
    "papermill": {
     "duration": 0.026875,
     "end_time": "2022-04-22T03:42:10.158749",
     "exception": false,
     "start_time": "2022-04-22T03:42:10.131874",
     "status": "completed"
    },
    "tags": [
     "parameters",
     "remove_input"
    ]
   },
   "outputs": [],
   "source": [
    "## parameters cell\n",
    "itp_id = 135"
   ]
  },
  {
   "cell_type": "code",
   "execution_count": 3,
   "id": "d920b051",
   "metadata": {
    "execution": {
     "iopub.execute_input": "2022-04-22T03:42:10.208495Z",
     "iopub.status.busy": "2022-04-22T03:42:10.207545Z",
     "iopub.status.idle": "2022-04-22T03:42:10.212424Z",
     "shell.execute_reply": "2022-04-22T03:42:10.211779Z"
    },
    "jupyter": {
     "source_hidden": true
    },
    "papermill": {
     "duration": 0.026703,
     "end_time": "2022-04-22T03:42:10.214331",
     "exception": false,
     "start_time": "2022-04-22T03:42:10.187628",
     "status": "completed"
    },
    "tags": [
     "injected-parameters",
     "remove_input"
    ]
   },
   "outputs": [],
   "source": [
    "# Parameters\n",
    "district = \"06 - Fresno\"\n",
    "itp_id = 148\n"
   ]
  },
  {
   "cell_type": "code",
   "execution_count": 4,
   "id": "6c2e9651-70e4-4403-b43d-da50315ef8fd",
   "metadata": {
    "execution": {
     "iopub.execute_input": "2022-04-22T03:42:10.256615Z",
     "iopub.status.busy": "2022-04-22T03:42:10.256049Z",
     "iopub.status.idle": "2022-04-22T03:42:11.877520Z",
     "shell.execute_reply": "2022-04-22T03:42:11.876531Z"
    },
    "jupyter": {
     "source_hidden": true
    },
    "papermill": {
     "duration": 1.645072,
     "end_time": "2022-04-22T03:42:11.879977",
     "exception": false,
     "start_time": "2022-04-22T03:42:10.234905",
     "status": "completed"
    },
    "tags": [
     "remove_input"
    ]
   },
   "outputs": [],
   "source": [
    "airtable_organizations = (\n",
    "    tbl.airtable.california_transit_organizations()\n",
    "    >> select(_.itp_id, _.name, _.caltrans_district,\n",
    "              _.website, _.ntp_id, _.drmt_organization_name)\n",
    "    >> filter(_.itp_id == itp_id)\n",
    "    >> collect()\n",
    ")"
   ]
  },
  {
   "cell_type": "code",
   "execution_count": 5,
   "id": "cc9c7000-4042-4f64-b7ef-8e8e5f1e706a",
   "metadata": {
    "execution": {
     "iopub.execute_input": "2022-04-22T03:42:11.920303Z",
     "iopub.status.busy": "2022-04-22T03:42:11.920007Z",
     "iopub.status.idle": "2022-04-22T03:42:11.924413Z",
     "shell.execute_reply": "2022-04-22T03:42:11.923269Z"
    },
    "jupyter": {
     "source_hidden": true
    },
    "papermill": {
     "duration": 0.02821,
     "end_time": "2022-04-22T03:42:11.927218",
     "exception": false,
     "start_time": "2022-04-22T03:42:11.899008",
     "status": "completed"
    },
    "tags": [
     "remove_input"
    ]
   },
   "outputs": [],
   "source": [
    "# airtable_organizations"
   ]
  },
  {
   "cell_type": "code",
   "execution_count": 6,
   "id": "306a7053-3fab-4723-a287-111e4eba11f2",
   "metadata": {
    "execution": {
     "iopub.execute_input": "2022-04-22T03:42:11.969601Z",
     "iopub.status.busy": "2022-04-22T03:42:11.968960Z",
     "iopub.status.idle": "2022-04-22T03:42:11.974464Z",
     "shell.execute_reply": "2022-04-22T03:42:11.973427Z"
    },
    "jupyter": {
     "source_hidden": true
    },
    "papermill": {
     "duration": 0.029782,
     "end_time": "2022-04-22T03:42:11.977068",
     "exception": false,
     "start_time": "2022-04-22T03:42:11.947286",
     "status": "completed"
    },
    "tags": [
     "remove_input"
    ]
   },
   "outputs": [],
   "source": [
    "analysis_date = dt.date(2022, 3, 30)\n",
    "if itp_id == 273:\n",
    "    analysis_date = dt.date(2022, 2, 8) # #override for SacRT "
   ]
  },
  {
   "cell_type": "code",
   "execution_count": 7,
   "id": "47c79d99-c82f-4e1e-b11e-2b1e83c13a1b",
   "metadata": {
    "execution": {
     "iopub.execute_input": "2022-04-22T03:42:12.019014Z",
     "iopub.status.busy": "2022-04-22T03:42:12.018699Z",
     "iopub.status.idle": "2022-04-22T03:42:12.023113Z",
     "shell.execute_reply": "2022-04-22T03:42:12.022281Z"
    },
    "jupyter": {
     "source_hidden": true
    },
    "papermill": {
     "duration": 0.029273,
     "end_time": "2022-04-22T03:42:12.026272",
     "exception": false,
     "start_time": "2022-04-22T03:42:11.996999",
     "status": "completed"
    },
    "tags": [
     "remove_input"
    ]
   },
   "outputs": [],
   "source": [
    "month_day = analysis_date.strftime('%m_%d')"
   ]
  },
  {
   "cell_type": "code",
   "execution_count": 8,
   "id": "1739d979-cd4d-456c-a1ad-a016cbf69cad",
   "metadata": {
    "execution": {
     "iopub.execute_input": "2022-04-22T03:42:12.079621Z",
     "iopub.status.busy": "2022-04-22T03:42:12.078853Z",
     "iopub.status.idle": "2022-04-22T03:42:12.458274Z",
     "shell.execute_reply": "2022-04-22T03:42:12.457600Z"
    },
    "jupyter": {
     "source_hidden": true
    },
    "papermill": {
     "duration": 0.416475,
     "end_time": "2022-04-22T03:42:12.460643",
     "exception": false,
     "start_time": "2022-04-22T03:42:12.044168",
     "status": "completed"
    },
    "tags": [
     "remove_input"
    ]
   },
   "outputs": [],
   "source": [
    "trips = pd.read_parquet(f'{utils.GCS_FILE_PATH}rt_trips/{itp_id}_{month_day}.parquet')"
   ]
  },
  {
   "cell_type": "code",
   "execution_count": 9,
   "id": "b77a9167-4017-4367-8fed-d4e6bf3999b9",
   "metadata": {
    "execution": {
     "iopub.execute_input": "2022-04-22T03:42:12.498306Z",
     "iopub.status.busy": "2022-04-22T03:42:12.497829Z",
     "iopub.status.idle": "2022-04-22T03:42:12.897793Z",
     "shell.execute_reply": "2022-04-22T03:42:12.896859Z"
    },
    "jupyter": {
     "source_hidden": true
    },
    "papermill": {
     "duration": 0.421727,
     "end_time": "2022-04-22T03:42:12.900222",
     "exception": false,
     "start_time": "2022-04-22T03:42:12.478495",
     "status": "completed"
    },
    "tags": [
     "remove_input"
    ]
   },
   "outputs": [],
   "source": [
    "stop_delay = gpd.read_parquet(f'{utils.GCS_FILE_PATH}stop_delay_views/{itp_id}_{month_day}.parquet')\n",
    "stop_delay['arrival_time'] = stop_delay.arrival_time.map(lambda x: dt.datetime.fromisoformat(x))\n",
    "stop_delay['actual_time'] = stop_delay.actual_time.map(lambda x: dt.datetime.fromisoformat(x))"
   ]
  },
  {
   "cell_type": "code",
   "execution_count": 10,
   "id": "2b2fe439-10af-4140-ab83-69b05c385b40",
   "metadata": {
    "execution": {
     "iopub.execute_input": "2022-04-22T03:42:12.939136Z",
     "iopub.status.busy": "2022-04-22T03:42:12.938577Z",
     "iopub.status.idle": "2022-04-22T03:42:16.737549Z",
     "shell.execute_reply": "2022-04-22T03:42:16.736469Z"
    },
    "jupyter": {
     "source_hidden": true
    },
    "papermill": {
     "duration": 3.821619,
     "end_time": "2022-04-22T03:42:16.740167",
     "exception": false,
     "start_time": "2022-04-22T03:42:12.918548",
     "status": "completed"
    },
    "tags": [
     "remove_input"
    ]
   },
   "outputs": [],
   "source": [
    "%%capture\n",
    "routelines = utils.get_routelines(itp_id, analysis_date)"
   ]
  },
  {
   "cell_type": "code",
   "execution_count": 11,
   "id": "e4cbefc6-9bbb-4989-85b7-1f31da17fcb8",
   "metadata": {
    "execution": {
     "iopub.execute_input": "2022-04-22T03:42:16.783871Z",
     "iopub.status.busy": "2022-04-22T03:42:16.783544Z",
     "iopub.status.idle": "2022-04-22T03:42:17.136116Z",
     "shell.execute_reply": "2022-04-22T03:42:17.135174Z"
    },
    "jupyter": {
     "source_hidden": true
    },
    "papermill": {
     "duration": 0.37704,
     "end_time": "2022-04-22T03:42:17.138484",
     "exception": false,
     "start_time": "2022-04-22T03:42:16.761444",
     "status": "completed"
    },
    "tags": [
     "remove_input"
    ]
   },
   "outputs": [],
   "source": [
    "%%capture\n",
    "rt_day = rt_filter_map_plot.RtFilterMapper(trips, stop_delay, routelines)"
   ]
  },
  {
   "cell_type": "code",
   "execution_count": 12,
   "id": "6c335d40-7a7b-4641-8a3d-c970b2823cdf",
   "metadata": {
    "execution": {
     "iopub.execute_input": "2022-04-22T03:42:17.182600Z",
     "iopub.status.busy": "2022-04-22T03:42:17.181653Z",
     "iopub.status.idle": "2022-04-22T03:42:17.188123Z",
     "shell.execute_reply": "2022-04-22T03:42:17.187510Z"
    },
    "jupyter": {
     "source_hidden": true
    },
    "papermill": {
     "duration": 0.029328,
     "end_time": "2022-04-22T03:42:17.189946",
     "exception": false,
     "start_time": "2022-04-22T03:42:17.160618",
     "status": "completed"
    },
    "tags": [
     "remove_input"
    ]
   },
   "outputs": [],
   "source": [
    "%%capture_parameters\n",
    "agency_name = rt_day.calitp_agency_name\n",
    "district = airtable_organizations.caltrans_district.iloc[0]\n",
    "agency_name, district"
   ]
  },
  {
   "cell_type": "markdown",
   "id": "52110155-d104-4043-8376-3f83e82a959a",
   "metadata": {
    "papermill": {
     "duration": 0.020295,
     "end_time": "2022-04-22T03:42:17.228452",
     "exception": false,
     "start_time": "2022-04-22T03:42:17.208157",
     "status": "completed"
    },
    "tags": []
   },
   "source": [
    "# Kings Area Rural Transit"
   ]
  },
  {
   "cell_type": "markdown",
   "id": "7d5572cd-dd67-4e26-b100-a0e7472a4a17",
   "metadata": {
    "papermill": {
     "duration": 0.018665,
     "end_time": "2022-04-22T03:42:17.277881",
     "exception": false,
     "start_time": "2022-04-22T03:42:17.259216",
     "status": "completed"
    },
    "tags": []
   },
   "source": [
    "## About These Maps:\n",
    "\n",
    "* Each map shows bus (and rail, if applicable) speeds for Kings Area Rural Transit, with a map each for the morning peak, midday, and afternoon peak periods.\n",
    "* On the map, routes are split into segments corresponding to the distance between two stops, allowing you to focus on specific portions of the route experiencing a slowdown.\n",
    "* Route segments are arrow-shaped to indicate direction of travel.\n",
    "* Hover over, or click, a segment with your mouse to see the exact speed, route name, and transit service frequency in that segment. \n",
    "    * Higher-frequency routes (3+ trips per hour) are especially important, since those slowdowns correspond to more vehicles, and riders, delayed in traffic."
   ]
  },
  {
   "cell_type": "code",
   "execution_count": 13,
   "id": "8e940d3d-c76e-42ba-be8b-739852771ca6",
   "metadata": {
    "execution": {
     "iopub.execute_input": "2022-04-22T03:42:17.318581Z",
     "iopub.status.busy": "2022-04-22T03:42:17.317587Z",
     "iopub.status.idle": "2022-04-22T03:42:17.322280Z",
     "shell.execute_reply": "2022-04-22T03:42:17.321653Z"
    },
    "jupyter": {
     "source_hidden": true
    },
    "papermill": {
     "duration": 0.02701,
     "end_time": "2022-04-22T03:42:17.324114",
     "exception": false,
     "start_time": "2022-04-22T03:42:17.297104",
     "status": "completed"
    },
    "tags": [
     "remove_input"
    ]
   },
   "outputs": [],
   "source": [
    "## avoid papermill errors when map fails to render\n",
    "m = None"
   ]
  },
  {
   "cell_type": "markdown",
   "id": "74fce4a9-514f-405d-9ce0-1cb1998a696b",
   "metadata": {
    "papermill": {
     "duration": 0.019227,
     "end_time": "2022-04-22T03:42:17.363065",
     "exception": false,
     "start_time": "2022-04-22T03:42:17.343838",
     "status": "completed"
    },
    "tags": []
   },
   "source": [
    "## Morning Peak"
   ]
  },
  {
   "cell_type": "code",
   "execution_count": 14,
   "id": "533a64f4-f374-4f2c-94d3-5146ebe7c036",
   "metadata": {
    "execution": {
     "iopub.execute_input": "2022-04-22T03:42:17.403588Z",
     "iopub.status.busy": "2022-04-22T03:42:17.402652Z",
     "iopub.status.idle": "2022-04-22T03:42:17.409641Z",
     "shell.execute_reply": "2022-04-22T03:42:17.409050Z"
    },
    "jupyter": {
     "source_hidden": true
    },
    "papermill": {
     "duration": 0.029675,
     "end_time": "2022-04-22T03:42:17.411743",
     "exception": false,
     "start_time": "2022-04-22T03:42:17.382068",
     "status": "completed"
    },
    "tags": [
     "remove_input"
    ]
   },
   "outputs": [],
   "source": [
    "%%capture\n",
    "rt_day.set_filter(start_time='06:00', end_time='09:00')"
   ]
  },
  {
   "cell_type": "code",
   "execution_count": 15,
   "id": "2f317120-99ee-435b-96cd-1236b8ee2e0b",
   "metadata": {
    "execution": {
     "iopub.execute_input": "2022-04-22T03:42:17.453398Z",
     "iopub.status.busy": "2022-04-22T03:42:17.452543Z",
     "iopub.status.idle": "2022-04-22T03:42:21.870755Z",
     "shell.execute_reply": "2022-04-22T03:42:21.869866Z"
    },
    "jupyter": {
     "source_hidden": true
    },
    "papermill": {
     "duration": 4.441461,
     "end_time": "2022-04-22T03:42:21.873240",
     "exception": false,
     "start_time": "2022-04-22T03:42:17.431779",
     "status": "completed"
    },
    "tags": [
     "remove_input"
    ]
   },
   "outputs": [],
   "source": [
    "%%capture\n",
    "m = rt_day.segment_speed_map(how='low_speeds', no_title=True)"
   ]
  },
  {
   "cell_type": "code",
   "execution_count": 16,
   "id": "275087be-b46d-4acb-95fe-2dc98c2089a2",
   "metadata": {
    "execution": {
     "iopub.execute_input": "2022-04-22T03:42:21.914018Z",
     "iopub.status.busy": "2022-04-22T03:42:21.913689Z",
     "iopub.status.idle": "2022-04-22T03:42:21.921889Z",
     "shell.execute_reply": "2022-04-22T03:42:21.920863Z"
    },
    "jupyter": {
     "source_hidden": true
    },
    "papermill": {
     "duration": 0.031211,
     "end_time": "2022-04-22T03:42:21.924008",
     "exception": false,
     "start_time": "2022-04-22T03:42:21.892797",
     "status": "completed"
    },
    "tags": [
     "remove_input"
    ]
   },
   "outputs": [],
   "source": [
    "m"
   ]
  },
  {
   "cell_type": "code",
   "execution_count": 17,
   "id": "b0cf9b97-7485-4f36-b5e8-124f22fa9661",
   "metadata": {
    "execution": {
     "iopub.execute_input": "2022-04-22T03:42:21.969342Z",
     "iopub.status.busy": "2022-04-22T03:42:21.968957Z",
     "iopub.status.idle": "2022-04-22T03:42:22.017420Z",
     "shell.execute_reply": "2022-04-22T03:42:22.016530Z"
    },
    "jupyter": {
     "source_hidden": true
    },
    "papermill": {
     "duration": 0.07448,
     "end_time": "2022-04-22T03:42:22.020359",
     "exception": false,
     "start_time": "2022-04-22T03:42:21.945879",
     "status": "completed"
    },
    "tags": [
     "remove_input"
    ]
   },
   "outputs": [
    {
     "data": {
      "text/markdown": [
       "AM Peak most delayed routes: \n",
       " * 13, Corcoran, Westbound: 0.0 minutes late on average\n",
       " * 4, Brown Line, Westbound: 0.0 minutes late on average\n",
       " * 7, Red Line, Southbound: 0.0 minutes late on average\n",
       " * 12, Avenal, Westbound: 0.0 minutes late on average\n",
       " * 3, Purple Line, Eastbound: 0.0 minutes late on average"
      ],
      "text/plain": [
       "<IPython.core.display.Markdown object>"
      ]
     },
     "metadata": {},
     "output_type": "display_data"
    }
   ],
   "source": [
    "rt_day.describe_delayed_routes()"
   ]
  },
  {
   "cell_type": "markdown",
   "id": "3d263ba2-49ae-4e02-9d06-3181b03f51ba",
   "metadata": {
    "papermill": {
     "duration": 0.020955,
     "end_time": "2022-04-22T03:42:22.061048",
     "exception": false,
     "start_time": "2022-04-22T03:42:22.040093",
     "status": "completed"
    },
    "tags": []
   },
   "source": [
    "## Midday"
   ]
  },
  {
   "cell_type": "code",
   "execution_count": 18,
   "id": "f5344e63-89d2-43d6-9783-55a3061c99d2",
   "metadata": {
    "execution": {
     "iopub.execute_input": "2022-04-22T03:42:22.110703Z",
     "iopub.status.busy": "2022-04-22T03:42:22.110356Z",
     "iopub.status.idle": "2022-04-22T03:42:22.117898Z",
     "shell.execute_reply": "2022-04-22T03:42:22.116991Z"
    },
    "jupyter": {
     "source_hidden": true
    },
    "papermill": {
     "duration": 0.031379,
     "end_time": "2022-04-22T03:42:22.120194",
     "exception": false,
     "start_time": "2022-04-22T03:42:22.088815",
     "status": "completed"
    },
    "tags": [
     "remove_input"
    ]
   },
   "outputs": [],
   "source": [
    "%%capture\n",
    "rt_day.set_filter(start_time='10:00', end_time='14:00')"
   ]
  },
  {
   "cell_type": "code",
   "execution_count": 19,
   "id": "a4c40f3c-cf35-45d5-9d87-aa4701bed3aa",
   "metadata": {
    "execution": {
     "iopub.execute_input": "2022-04-22T03:42:22.164485Z",
     "iopub.status.busy": "2022-04-22T03:42:22.164125Z",
     "iopub.status.idle": "2022-04-22T03:42:24.300937Z",
     "shell.execute_reply": "2022-04-22T03:42:24.300008Z"
    },
    "jupyter": {
     "source_hidden": true
    },
    "papermill": {
     "duration": 2.164194,
     "end_time": "2022-04-22T03:42:24.304441",
     "exception": false,
     "start_time": "2022-04-22T03:42:22.140247",
     "status": "completed"
    },
    "tags": [
     "remove_input"
    ]
   },
   "outputs": [],
   "source": [
    "%%capture\n",
    "m = rt_day.segment_speed_map(how='low_speeds', no_title=True)"
   ]
  },
  {
   "cell_type": "code",
   "execution_count": 20,
   "id": "a78b7db5-f43f-4bf1-8036-ae972a87fc53",
   "metadata": {
    "execution": {
     "iopub.execute_input": "2022-04-22T03:42:24.349368Z",
     "iopub.status.busy": "2022-04-22T03:42:24.349004Z",
     "iopub.status.idle": "2022-04-22T03:42:24.354222Z",
     "shell.execute_reply": "2022-04-22T03:42:24.353283Z"
    },
    "jupyter": {
     "source_hidden": true
    },
    "papermill": {
     "duration": 0.030142,
     "end_time": "2022-04-22T03:42:24.356591",
     "exception": false,
     "start_time": "2022-04-22T03:42:24.326449",
     "status": "completed"
    },
    "tags": [
     "remove_input"
    ]
   },
   "outputs": [],
   "source": [
    "m"
   ]
  },
  {
   "cell_type": "code",
   "execution_count": 21,
   "id": "6c745570-b50f-4722-b943-2176444f7af6",
   "metadata": {
    "execution": {
     "iopub.execute_input": "2022-04-22T03:42:24.402283Z",
     "iopub.status.busy": "2022-04-22T03:42:24.402014Z",
     "iopub.status.idle": "2022-04-22T03:42:24.442089Z",
     "shell.execute_reply": "2022-04-22T03:42:24.440996Z"
    },
    "jupyter": {
     "source_hidden": true
    },
    "papermill": {
     "duration": 0.065041,
     "end_time": "2022-04-22T03:42:24.444505",
     "exception": false,
     "start_time": "2022-04-22T03:42:24.379464",
     "status": "completed"
    },
    "tags": [
     "remove_input"
    ]
   },
   "outputs": [
    {
     "data": {
      "text/markdown": [
       "Midday most delayed routes: \n",
       " * 12, Avenal, Southbound: 10.0 minutes late on average\n",
       " * 4, Brown Line, Westbound: 0.0 minutes late on average\n",
       " * 7, Red Line, Southbound: 0.0 minutes late on average\n",
       " * 3, Purple Line, Eastbound: 0.0 minutes late on average\n",
       " * 5, Pink Line, Northbound: 0.0 minutes late on average"
      ],
      "text/plain": [
       "<IPython.core.display.Markdown object>"
      ]
     },
     "metadata": {},
     "output_type": "display_data"
    }
   ],
   "source": [
    "rt_day.describe_delayed_routes()"
   ]
  },
  {
   "cell_type": "markdown",
   "id": "704f0788-b4a8-497d-b2aa-c7ac6df939f4",
   "metadata": {
    "papermill": {
     "duration": 0.022021,
     "end_time": "2022-04-22T03:42:24.494087",
     "exception": false,
     "start_time": "2022-04-22T03:42:24.472066",
     "status": "completed"
    },
    "tags": []
   },
   "source": [
    "## Afternoon Peak"
   ]
  },
  {
   "cell_type": "code",
   "execution_count": 22,
   "id": "923f1462-b34a-42d2-a632-c5eb3ac16ac6",
   "metadata": {
    "execution": {
     "iopub.execute_input": "2022-04-22T03:42:24.536950Z",
     "iopub.status.busy": "2022-04-22T03:42:24.536638Z",
     "iopub.status.idle": "2022-04-22T03:42:24.542394Z",
     "shell.execute_reply": "2022-04-22T03:42:24.541776Z"
    },
    "jupyter": {
     "source_hidden": true
    },
    "papermill": {
     "duration": 0.029583,
     "end_time": "2022-04-22T03:42:24.544103",
     "exception": false,
     "start_time": "2022-04-22T03:42:24.514520",
     "status": "completed"
    },
    "tags": [
     "remove_input"
    ]
   },
   "outputs": [],
   "source": [
    "%%capture\n",
    "rt_day.set_filter(start_time='15:00', end_time='19:00')"
   ]
  },
  {
   "cell_type": "code",
   "execution_count": 23,
   "id": "5e46b095-7bc2-4552-a37b-661d076b2b51",
   "metadata": {
    "execution": {
     "iopub.execute_input": "2022-04-22T03:42:24.590599Z",
     "iopub.status.busy": "2022-04-22T03:42:24.589699Z",
     "iopub.status.idle": "2022-04-22T03:42:27.649195Z",
     "shell.execute_reply": "2022-04-22T03:42:27.648486Z"
    },
    "jupyter": {
     "source_hidden": true
    },
    "papermill": {
     "duration": 3.086725,
     "end_time": "2022-04-22T03:42:27.651178",
     "exception": false,
     "start_time": "2022-04-22T03:42:24.564453",
     "status": "completed"
    },
    "tags": [
     "remove_input"
    ]
   },
   "outputs": [],
   "source": [
    "%%capture\n",
    "m = rt_day.segment_speed_map(how='low_speeds', no_title=True)"
   ]
  },
  {
   "cell_type": "code",
   "execution_count": 24,
   "id": "0393f107-e9fe-4982-961a-032f7bf4e0eb",
   "metadata": {
    "execution": {
     "iopub.execute_input": "2022-04-22T03:42:27.699633Z",
     "iopub.status.busy": "2022-04-22T03:42:27.699341Z",
     "iopub.status.idle": "2022-04-22T03:42:27.704645Z",
     "shell.execute_reply": "2022-04-22T03:42:27.703749Z"
    },
    "jupyter": {
     "source_hidden": true
    },
    "papermill": {
     "duration": 0.032036,
     "end_time": "2022-04-22T03:42:27.707134",
     "exception": false,
     "start_time": "2022-04-22T03:42:27.675098",
     "status": "completed"
    },
    "tags": [
     "remove_input"
    ]
   },
   "outputs": [],
   "source": [
    "m"
   ]
  },
  {
   "cell_type": "code",
   "execution_count": 25,
   "id": "76580953-2a2b-4295-a41c-20442eae883e",
   "metadata": {
    "execution": {
     "iopub.execute_input": "2022-04-22T03:42:27.753452Z",
     "iopub.status.busy": "2022-04-22T03:42:27.752596Z",
     "iopub.status.idle": "2022-04-22T03:42:27.790252Z",
     "shell.execute_reply": "2022-04-22T03:42:27.789417Z"
    },
    "jupyter": {
     "source_hidden": true
    },
    "papermill": {
     "duration": 0.06249,
     "end_time": "2022-04-22T03:42:27.792163",
     "exception": false,
     "start_time": "2022-04-22T03:42:27.729673",
     "status": "completed"
    },
    "tags": [
     "remove_input"
    ]
   },
   "outputs": [
    {
     "data": {
      "text/markdown": [
       "PM Peak most delayed routes: \n",
       " * 20, Lemoore, Southbound: 5.0 minutes late on average\n",
       " * 9, Yellow Line, Northbound: 0.0 minutes late on average\n",
       " * 4, Brown Line, Westbound: 0.0 minutes late on average\n",
       " * 17, Fresno, Southbound: 0.0 minutes late on average\n",
       " * 7, Red Line, Southbound: 0.0 minutes late on average"
      ],
      "text/plain": [
       "<IPython.core.display.Markdown object>"
      ]
     },
     "metadata": {},
     "output_type": "display_data"
    }
   ],
   "source": [
    "rt_day.describe_delayed_routes()"
   ]
  },
  {
   "cell_type": "code",
   "execution_count": 26,
   "id": "91874f76-635b-4fde-8d61-abc795aca6c6",
   "metadata": {
    "execution": {
     "iopub.execute_input": "2022-04-22T03:42:27.840591Z",
     "iopub.status.busy": "2022-04-22T03:42:27.839951Z",
     "iopub.status.idle": "2022-04-22T03:42:27.866271Z",
     "shell.execute_reply": "2022-04-22T03:42:27.865595Z"
    },
    "jupyter": {
     "source_hidden": true
    },
    "papermill": {
     "duration": 0.054006,
     "end_time": "2022-04-22T03:42:27.868282",
     "exception": false,
     "start_time": "2022-04-22T03:42:27.814276",
     "status": "completed"
    },
    "tags": [
     "remove_input"
    ]
   },
   "outputs": [],
   "source": [
    "try:\n",
    "    metrics_df = (rt_day.rt_trips\n",
    "         >> group_by(_.route_short_name, _.direction_id)\n",
    "         >> summarize(speed_variance = _.mean_speed_mph.var(),\n",
    "                     mean_speed_mph = _.mean_speed_mph.mean(),\n",
    "                     min_hour = _.median_time.min().hour,\n",
    "                     max_hour = _.median_time.max().hour)\n",
    "         >> filter(_.min_hour <= 7, _.max_hour >= 15,\n",
    "                   _.mean_speed_mph < _.mean_speed_mph.quantile(.6),\n",
    "                   _.speed_variance)\n",
    "         >> arrange(-_.speed_variance)\n",
    "         >> head(20)\n",
    "        )\n",
    "except Exception as e:\n",
    "    pass\n",
    "    # print(e)\n",
    "## check that route has all-day span..."
   ]
  },
  {
   "cell_type": "code",
   "execution_count": 27,
   "id": "758b0bae-32d0-40dd-a1d1-1d107b0e7e8b",
   "metadata": {
    "execution": {
     "iopub.execute_input": "2022-04-22T03:42:27.914873Z",
     "iopub.status.busy": "2022-04-22T03:42:27.914555Z",
     "iopub.status.idle": "2022-04-22T03:42:27.923199Z",
     "shell.execute_reply": "2022-04-22T03:42:27.922650Z"
    },
    "jupyter": {
     "source_hidden": true
    },
    "papermill": {
     "duration": 0.034144,
     "end_time": "2022-04-22T03:42:27.924930",
     "exception": false,
     "start_time": "2022-04-22T03:42:27.890786",
     "status": "completed"
    },
    "tags": [
     "remove_input"
    ]
   },
   "outputs": [],
   "source": [
    "def map_from_metrics(rt_day, metrics_df):\n",
    "    try:\n",
    "        route_name = metrics_df.iloc[1,0]\n",
    "        direction_id = metrics_df.iloc[1,1]\n",
    "        # print(route_name, direction_id)\n",
    "    except Exception as e:\n",
    "        # print(e)\n",
    "        return\n",
    "    # route_name = '281'\n",
    "    # direction_id = '1'\n",
    "    rt_day.set_filter(start_time='06:00', end_time='09:00',\n",
    "                      route_names=[route_name], direction_id = direction_id)\n",
    "    try:\n",
    "        am_map = rt_day.segment_speed_map(how='low_speeds')\n",
    "        display(am_map)\n",
    "    except Exception as e:\n",
    "        # print(e)\n",
    "        pass\n",
    "    \n",
    "    rt_day.set_filter(start_time='10:00', end_time='14:00',\n",
    "                      route_names=[route_name], direction_id = direction_id)\n",
    "    try:\n",
    "        mid_map = rt_day.segment_speed_map(how='low_speeds')\n",
    "        display(mid_map)\n",
    "    except Exception as e:\n",
    "        # print(e)\n",
    "        pass\n",
    "\n",
    "    rt_day.set_filter(start_time='15:00', end_time='19:00',\n",
    "                      route_names=[route_name], direction_id = direction_id)\n",
    "    try:\n",
    "        pm_map = rt_day.segment_speed_map(how='low_speeds')\n",
    "        display(pm_map)\n",
    "    except Exception as e:\n",
    "        # print(e)\n",
    "        pass\n",
    "\n",
    "    return"
   ]
  },
  {
   "cell_type": "markdown",
   "id": "6ce187c8-c7bf-44f4-970e-b3abd69ddc38",
   "metadata": {
    "papermill": {
     "duration": 0.023592,
     "end_time": "2022-04-22T03:42:27.972274",
     "exception": false,
     "start_time": "2022-04-22T03:42:27.948682",
     "status": "completed"
    },
    "tags": []
   },
   "source": [
    "## Single-Route Detail Example"
   ]
  },
  {
   "cell_type": "code",
   "execution_count": 28,
   "id": "c7b4b043-6d15-4d9c-8aac-f0f6649e9552",
   "metadata": {
    "execution": {
     "iopub.execute_input": "2022-04-22T03:42:28.022080Z",
     "iopub.status.busy": "2022-04-22T03:42:28.021215Z",
     "iopub.status.idle": "2022-04-22T03:42:29.155626Z",
     "shell.execute_reply": "2022-04-22T03:42:29.154629Z"
    },
    "jupyter": {
     "source_hidden": true
    },
    "papermill": {
     "duration": 1.161029,
     "end_time": "2022-04-22T03:42:29.157915",
     "exception": false,
     "start_time": "2022-04-22T03:42:27.996886",
     "status": "completed"
    },
    "tags": [
     "remove_input"
    ]
   },
   "outputs": [],
   "source": [
    "try:\n",
    "    map_from_metrics(rt_day, metrics_df)\n",
    "except Exception as e:\n",
    "    # print(e)\n",
    "    pass"
   ]
  },
  {
   "cell_type": "code",
   "execution_count": null,
   "id": "a7d189cb-26d5-4a49-bf0f-2c33fd408f7e",
   "metadata": {
    "jupyter": {
     "source_hidden": true
    },
    "papermill": {
     "duration": 0.023876,
     "end_time": "2022-04-22T03:42:29.204910",
     "exception": false,
     "start_time": "2022-04-22T03:42:29.181034",
     "status": "completed"
    },
    "tags": [
     "remove_input"
    ]
   },
   "outputs": [],
   "source": []
  }
 ],
 "metadata": {
  "kernelspec": {
   "display_name": "Python 3 (ipykernel)",
   "language": "python",
   "name": "python3"
  },
  "language_info": {
   "codemirror_mode": {
    "name": "ipython",
    "version": 3
   },
   "file_extension": ".py",
   "mimetype": "text/x-python",
   "name": "python",
   "nbconvert_exporter": "python",
   "pygments_lexer": "ipython3",
   "version": "3.9.10"
  },
  "papermill": {
   "default_parameters": {},
   "duration": 30.90277,
   "end_time": "2022-04-22T03:42:30.654437",
   "environment_variables": {},
   "exception": null,
   "input_path": "rt_delay/speedmaps.ipynb",
   "output_path": "portfolio/rt/district_06-fresno/speedmaps__itp_id_148.ipynb",
   "parameters": {
    "district": "06 - Fresno",
    "itp_id": 148
   },
   "start_time": "2022-04-22T03:41:59.751667",
   "version": "2.3.4"
  }
 },
 "nbformat": 4,
 "nbformat_minor": 5
}