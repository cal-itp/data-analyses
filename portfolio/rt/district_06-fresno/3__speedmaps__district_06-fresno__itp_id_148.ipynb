version https://git-lfs.github.com/spec/v1
oid sha256:d6e2fd51b3e7d0fd14fd53b71df09872b8a91dc9ea3fc995d48eb0fada995446
size 19103683
