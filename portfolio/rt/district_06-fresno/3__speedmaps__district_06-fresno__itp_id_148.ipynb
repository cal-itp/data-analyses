version https://git-lfs.github.com/spec/v1
oid sha256:5c0cd74fa6233a477ef772dda3c055a6a66d6fa5089ec7e3cbb78c478843a38a
size 70637
