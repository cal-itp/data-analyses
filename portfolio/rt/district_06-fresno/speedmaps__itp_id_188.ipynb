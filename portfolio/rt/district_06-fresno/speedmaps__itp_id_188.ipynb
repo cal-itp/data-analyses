{
 "cells": [
  {
   "cell_type": "code",
   "execution_count": 1,
   "id": "46898b5c-b5cc-4096-ab68-8c3e42fab870",
   "metadata": {
    "execution": {
     "iopub.execute_input": "2022-04-22T03:40:04.451082Z",
     "iopub.status.busy": "2022-04-22T03:40:04.450579Z",
     "iopub.status.idle": "2022-04-22T03:40:13.225050Z",
     "shell.execute_reply": "2022-04-22T03:40:13.223751Z"
    },
    "jupyter": {
     "source_hidden": true
    },
    "papermill": {
     "duration": 8.798301,
     "end_time": "2022-04-22T03:40:13.227925",
     "exception": false,
     "start_time": "2022-04-22T03:40:04.429624",
     "status": "completed"
    },
    "tags": [
     "remove_input"
    ]
   },
   "outputs": [],
   "source": [
    "%%capture\n",
    "import warnings\n",
    "warnings.filterwarnings('ignore')\n",
    "\n",
    "import os\n",
    "os.environ[\"CALITP_BQ_MAX_BYTES\"] = str(800_000_000_000)\n",
    "import shared_utils\n",
    "import utils\n",
    "\n",
    "from calitp.tables import tbl\n",
    "from calitp import query_sql\n",
    "import calitp.magics\n",
    "\n",
    "from siuba import *\n",
    "import pandas as pd\n",
    "import geopandas as gpd\n",
    "\n",
    "import datetime as dt\n",
    "\n",
    "import importlib\n",
    "import rt_filter_map_plot\n",
    "\n",
    "from IPython.display import display, Markdown, Latex, HTML\n",
    "import json"
   ]
  },
  {
   "cell_type": "code",
   "execution_count": 2,
   "id": "9f15ed6a-5ab7-4f57-9695-3f762781b74c",
   "metadata": {
    "execution": {
     "iopub.execute_input": "2022-04-22T03:40:13.265241Z",
     "iopub.status.busy": "2022-04-22T03:40:13.264941Z",
     "iopub.status.idle": "2022-04-22T03:40:13.269380Z",
     "shell.execute_reply": "2022-04-22T03:40:13.268414Z"
    },
    "jupyter": {
     "source_hidden": true
    },
    "papermill": {
     "duration": 0.025982,
     "end_time": "2022-04-22T03:40:13.272019",
     "exception": false,
     "start_time": "2022-04-22T03:40:13.246037",
     "status": "completed"
    },
    "tags": [
     "parameters",
     "remove_input"
    ]
   },
   "outputs": [],
   "source": [
    "## parameters cell\n",
    "itp_id = 135"
   ]
  },
  {
   "cell_type": "code",
   "execution_count": 3,
   "id": "d7bb987f",
   "metadata": {
    "execution": {
     "iopub.execute_input": "2022-04-22T03:40:13.309621Z",
     "iopub.status.busy": "2022-04-22T03:40:13.308696Z",
     "iopub.status.idle": "2022-04-22T03:40:13.313821Z",
     "shell.execute_reply": "2022-04-22T03:40:13.312866Z"
    },
    "jupyter": {
     "source_hidden": true
    },
    "papermill": {
     "duration": 0.027946,
     "end_time": "2022-04-22T03:40:13.317369",
     "exception": false,
     "start_time": "2022-04-22T03:40:13.289423",
     "status": "completed"
    },
    "tags": [
     "injected-parameters",
     "remove_input"
    ]
   },
   "outputs": [],
   "source": [
    "# Parameters\n",
    "district = \"06 - Fresno\"\n",
    "itp_id = 188\n"
   ]
  },
  {
   "cell_type": "code",
   "execution_count": 4,
   "id": "6c2e9651-70e4-4403-b43d-da50315ef8fd",
   "metadata": {
    "execution": {
     "iopub.execute_input": "2022-04-22T03:40:13.356599Z",
     "iopub.status.busy": "2022-04-22T03:40:13.355660Z",
     "iopub.status.idle": "2022-04-22T03:40:15.214482Z",
     "shell.execute_reply": "2022-04-22T03:40:15.213504Z"
    },
    "jupyter": {
     "source_hidden": true
    },
    "papermill": {
     "duration": 1.881388,
     "end_time": "2022-04-22T03:40:15.216876",
     "exception": false,
     "start_time": "2022-04-22T03:40:13.335488",
     "status": "completed"
    },
    "tags": [
     "remove_input"
    ]
   },
   "outputs": [],
   "source": [
    "airtable_organizations = (\n",
    "    tbl.airtable.california_transit_organizations()\n",
    "    >> select(_.itp_id, _.name, _.caltrans_district,\n",
    "              _.website, _.ntp_id, _.drmt_organization_name)\n",
    "    >> filter(_.itp_id == itp_id)\n",
    "    >> collect()\n",
    ")"
   ]
  },
  {
   "cell_type": "code",
   "execution_count": 5,
   "id": "cc9c7000-4042-4f64-b7ef-8e8e5f1e706a",
   "metadata": {
    "execution": {
     "iopub.execute_input": "2022-04-22T03:40:15.257378Z",
     "iopub.status.busy": "2022-04-22T03:40:15.256689Z",
     "iopub.status.idle": "2022-04-22T03:40:15.261626Z",
     "shell.execute_reply": "2022-04-22T03:40:15.260821Z"
    },
    "jupyter": {
     "source_hidden": true
    },
    "papermill": {
     "duration": 0.026852,
     "end_time": "2022-04-22T03:40:15.263589",
     "exception": false,
     "start_time": "2022-04-22T03:40:15.236737",
     "status": "completed"
    },
    "tags": [
     "remove_input"
    ]
   },
   "outputs": [],
   "source": [
    "# airtable_organizations"
   ]
  },
  {
   "cell_type": "code",
   "execution_count": 6,
   "id": "306a7053-3fab-4723-a287-111e4eba11f2",
   "metadata": {
    "execution": {
     "iopub.execute_input": "2022-04-22T03:40:15.301435Z",
     "iopub.status.busy": "2022-04-22T03:40:15.300489Z",
     "iopub.status.idle": "2022-04-22T03:40:15.306419Z",
     "shell.execute_reply": "2022-04-22T03:40:15.305551Z"
    },
    "jupyter": {
     "source_hidden": true
    },
    "papermill": {
     "duration": 0.027479,
     "end_time": "2022-04-22T03:40:15.308382",
     "exception": false,
     "start_time": "2022-04-22T03:40:15.280903",
     "status": "completed"
    },
    "tags": [
     "remove_input"
    ]
   },
   "outputs": [],
   "source": [
    "analysis_date = dt.date(2022, 3, 30)\n",
    "if itp_id == 273:\n",
    "    analysis_date = dt.date(2022, 2, 8) # #override for SacRT "
   ]
  },
  {
   "cell_type": "code",
   "execution_count": 7,
   "id": "47c79d99-c82f-4e1e-b11e-2b1e83c13a1b",
   "metadata": {
    "execution": {
     "iopub.execute_input": "2022-04-22T03:40:15.346614Z",
     "iopub.status.busy": "2022-04-22T03:40:15.345644Z",
     "iopub.status.idle": "2022-04-22T03:40:15.350401Z",
     "shell.execute_reply": "2022-04-22T03:40:15.349817Z"
    },
    "jupyter": {
     "source_hidden": true
    },
    "papermill": {
     "duration": 0.025588,
     "end_time": "2022-04-22T03:40:15.352320",
     "exception": false,
     "start_time": "2022-04-22T03:40:15.326732",
     "status": "completed"
    },
    "tags": [
     "remove_input"
    ]
   },
   "outputs": [],
   "source": [
    "month_day = analysis_date.strftime('%m_%d')"
   ]
  },
  {
   "cell_type": "code",
   "execution_count": 8,
   "id": "1739d979-cd4d-456c-a1ad-a016cbf69cad",
   "metadata": {
    "execution": {
     "iopub.execute_input": "2022-04-22T03:40:15.391286Z",
     "iopub.status.busy": "2022-04-22T03:40:15.390290Z",
     "iopub.status.idle": "2022-04-22T03:40:15.767693Z",
     "shell.execute_reply": "2022-04-22T03:40:15.766740Z"
    },
    "jupyter": {
     "source_hidden": true
    },
    "papermill": {
     "duration": 0.399191,
     "end_time": "2022-04-22T03:40:15.770435",
     "exception": false,
     "start_time": "2022-04-22T03:40:15.371244",
     "status": "completed"
    },
    "tags": [
     "remove_input"
    ]
   },
   "outputs": [],
   "source": [
    "trips = pd.read_parquet(f'{utils.GCS_FILE_PATH}rt_trips/{itp_id}_{month_day}.parquet')"
   ]
  },
  {
   "cell_type": "code",
   "execution_count": 9,
   "id": "b77a9167-4017-4367-8fed-d4e6bf3999b9",
   "metadata": {
    "execution": {
     "iopub.execute_input": "2022-04-22T03:40:15.813842Z",
     "iopub.status.busy": "2022-04-22T03:40:15.813359Z",
     "iopub.status.idle": "2022-04-22T03:40:16.201659Z",
     "shell.execute_reply": "2022-04-22T03:40:16.200924Z"
    },
    "jupyter": {
     "source_hidden": true
    },
    "papermill": {
     "duration": 0.412463,
     "end_time": "2022-04-22T03:40:16.204042",
     "exception": false,
     "start_time": "2022-04-22T03:40:15.791579",
     "status": "completed"
    },
    "tags": [
     "remove_input"
    ]
   },
   "outputs": [],
   "source": [
    "stop_delay = gpd.read_parquet(f'{utils.GCS_FILE_PATH}stop_delay_views/{itp_id}_{month_day}.parquet')\n",
    "stop_delay['arrival_time'] = stop_delay.arrival_time.map(lambda x: dt.datetime.fromisoformat(x))\n",
    "stop_delay['actual_time'] = stop_delay.actual_time.map(lambda x: dt.datetime.fromisoformat(x))"
   ]
  },
  {
   "cell_type": "code",
   "execution_count": 10,
   "id": "2b2fe439-10af-4140-ab83-69b05c385b40",
   "metadata": {
    "execution": {
     "iopub.execute_input": "2022-04-22T03:40:16.247962Z",
     "iopub.status.busy": "2022-04-22T03:40:16.247014Z",
     "iopub.status.idle": "2022-04-22T03:40:19.108533Z",
     "shell.execute_reply": "2022-04-22T03:40:19.107803Z"
    },
    "jupyter": {
     "source_hidden": true
    },
    "papermill": {
     "duration": 2.884502,
     "end_time": "2022-04-22T03:40:19.111010",
     "exception": false,
     "start_time": "2022-04-22T03:40:16.226508",
     "status": "completed"
    },
    "tags": [
     "remove_input"
    ]
   },
   "outputs": [],
   "source": [
    "%%capture\n",
    "routelines = utils.get_routelines(itp_id, analysis_date)"
   ]
  },
  {
   "cell_type": "code",
   "execution_count": 11,
   "id": "e4cbefc6-9bbb-4989-85b7-1f31da17fcb8",
   "metadata": {
    "execution": {
     "iopub.execute_input": "2022-04-22T03:40:19.151558Z",
     "iopub.status.busy": "2022-04-22T03:40:19.150450Z",
     "iopub.status.idle": "2022-04-22T03:40:19.301863Z",
     "shell.execute_reply": "2022-04-22T03:40:19.300977Z"
    },
    "jupyter": {
     "source_hidden": true
    },
    "papermill": {
     "duration": 0.175308,
     "end_time": "2022-04-22T03:40:19.304850",
     "exception": false,
     "start_time": "2022-04-22T03:40:19.129542",
     "status": "completed"
    },
    "tags": [
     "remove_input"
    ]
   },
   "outputs": [],
   "source": [
    "%%capture\n",
    "rt_day = rt_filter_map_plot.RtFilterMapper(trips, stop_delay, routelines)"
   ]
  },
  {
   "cell_type": "code",
   "execution_count": 12,
   "id": "6c335d40-7a7b-4641-8a3d-c970b2823cdf",
   "metadata": {
    "execution": {
     "iopub.execute_input": "2022-04-22T03:40:19.344569Z",
     "iopub.status.busy": "2022-04-22T03:40:19.344270Z",
     "iopub.status.idle": "2022-04-22T03:40:19.350556Z",
     "shell.execute_reply": "2022-04-22T03:40:19.349512Z"
    },
    "jupyter": {
     "source_hidden": true
    },
    "papermill": {
     "duration": 0.030642,
     "end_time": "2022-04-22T03:40:19.354090",
     "exception": false,
     "start_time": "2022-04-22T03:40:19.323448",
     "status": "completed"
    },
    "tags": [
     "remove_input"
    ]
   },
   "outputs": [],
   "source": [
    "%%capture_parameters\n",
    "agency_name = rt_day.calitp_agency_name\n",
    "district = airtable_organizations.caltrans_district.iloc[0]\n",
    "agency_name, district"
   ]
  },
  {
   "cell_type": "markdown",
   "id": "52110155-d104-4043-8376-3f83e82a959a",
   "metadata": {
    "papermill": {
     "duration": 0.019754,
     "end_time": "2022-04-22T03:40:19.394610",
     "exception": false,
     "start_time": "2022-04-22T03:40:19.374856",
     "status": "completed"
    },
    "tags": []
   },
   "source": [
    "# Madera County Connection"
   ]
  },
  {
   "cell_type": "markdown",
   "id": "7d5572cd-dd67-4e26-b100-a0e7472a4a17",
   "metadata": {
    "papermill": {
     "duration": 0.019963,
     "end_time": "2022-04-22T03:40:19.433516",
     "exception": false,
     "start_time": "2022-04-22T03:40:19.413553",
     "status": "completed"
    },
    "tags": []
   },
   "source": [
    "## About These Maps:\n",
    "\n",
    "* Each map shows bus (and rail, if applicable) speeds for Madera County Connection, with a map each for the morning peak, midday, and afternoon peak periods.\n",
    "* On the map, routes are split into segments corresponding to the distance between two stops, allowing you to focus on specific portions of the route experiencing a slowdown.\n",
    "* Route segments are arrow-shaped to indicate direction of travel.\n",
    "* Hover over, or click, a segment with your mouse to see the exact speed, route name, and transit service frequency in that segment. \n",
    "    * Higher-frequency routes (3+ trips per hour) are especially important, since those slowdowns correspond to more vehicles, and riders, delayed in traffic."
   ]
  },
  {
   "cell_type": "code",
   "execution_count": 13,
   "id": "8e940d3d-c76e-42ba-be8b-739852771ca6",
   "metadata": {
    "execution": {
     "iopub.execute_input": "2022-04-22T03:40:19.476287Z",
     "iopub.status.busy": "2022-04-22T03:40:19.475979Z",
     "iopub.status.idle": "2022-04-22T03:40:19.480251Z",
     "shell.execute_reply": "2022-04-22T03:40:19.479371Z"
    },
    "jupyter": {
     "source_hidden": true
    },
    "papermill": {
     "duration": 0.028393,
     "end_time": "2022-04-22T03:40:19.482148",
     "exception": false,
     "start_time": "2022-04-22T03:40:19.453755",
     "status": "completed"
    },
    "tags": [
     "remove_input"
    ]
   },
   "outputs": [],
   "source": [
    "## avoid papermill errors when map fails to render\n",
    "m = None"
   ]
  },
  {
   "cell_type": "markdown",
   "id": "74fce4a9-514f-405d-9ce0-1cb1998a696b",
   "metadata": {
    "papermill": {
     "duration": 0.018335,
     "end_time": "2022-04-22T03:40:19.519185",
     "exception": false,
     "start_time": "2022-04-22T03:40:19.500850",
     "status": "completed"
    },
    "tags": []
   },
   "source": [
    "## Morning Peak"
   ]
  },
  {
   "cell_type": "code",
   "execution_count": 14,
   "id": "533a64f4-f374-4f2c-94d3-5146ebe7c036",
   "metadata": {
    "execution": {
     "iopub.execute_input": "2022-04-22T03:40:19.559698Z",
     "iopub.status.busy": "2022-04-22T03:40:19.559075Z",
     "iopub.status.idle": "2022-04-22T03:40:19.570844Z",
     "shell.execute_reply": "2022-04-22T03:40:19.565523Z"
    },
    "jupyter": {
     "source_hidden": true
    },
    "papermill": {
     "duration": 0.035096,
     "end_time": "2022-04-22T03:40:19.573070",
     "exception": false,
     "start_time": "2022-04-22T03:40:19.537974",
     "status": "completed"
    },
    "tags": [
     "remove_input"
    ]
   },
   "outputs": [],
   "source": [
    "%%capture\n",
    "rt_day.set_filter(start_time='06:00', end_time='09:00')"
   ]
  },
  {
   "cell_type": "code",
   "execution_count": 15,
   "id": "2f317120-99ee-435b-96cd-1236b8ee2e0b",
   "metadata": {
    "execution": {
     "iopub.execute_input": "2022-04-22T03:40:19.613673Z",
     "iopub.status.busy": "2022-04-22T03:40:19.613366Z",
     "iopub.status.idle": "2022-04-22T03:40:22.310343Z",
     "shell.execute_reply": "2022-04-22T03:40:22.309662Z"
    },
    "jupyter": {
     "source_hidden": true
    },
    "papermill": {
     "duration": 2.719526,
     "end_time": "2022-04-22T03:40:22.312219",
     "exception": false,
     "start_time": "2022-04-22T03:40:19.592693",
     "status": "completed"
    },
    "tags": [
     "remove_input"
    ]
   },
   "outputs": [],
   "source": [
    "%%capture\n",
    "m = rt_day.segment_speed_map(how='low_speeds', no_title=True)"
   ]
  },
  {
   "cell_type": "code",
   "execution_count": 16,
   "id": "275087be-b46d-4acb-95fe-2dc98c2089a2",
   "metadata": {
    "execution": {
     "iopub.execute_input": "2022-04-22T03:40:22.356306Z",
     "iopub.status.busy": "2022-04-22T03:40:22.355843Z",
     "iopub.status.idle": "2022-04-22T03:40:22.363226Z",
     "shell.execute_reply": "2022-04-22T03:40:22.362643Z"
    },
    "jupyter": {
     "source_hidden": true
    },
    "papermill": {
     "duration": 0.030182,
     "end_time": "2022-04-22T03:40:22.365026",
     "exception": false,
     "start_time": "2022-04-22T03:40:22.334844",
     "status": "completed"
    },
    "tags": [
     "remove_input"
    ]
   },
   "outputs": [],
   "source": [
    "m"
   ]
  },
  {
   "cell_type": "code",
   "execution_count": 17,
   "id": "b0cf9b97-7485-4f36-b5e8-124f22fa9661",
   "metadata": {
    "execution": {
     "iopub.execute_input": "2022-04-22T03:40:22.410451Z",
     "iopub.status.busy": "2022-04-22T03:40:22.409621Z",
     "iopub.status.idle": "2022-04-22T03:40:22.449869Z",
     "shell.execute_reply": "2022-04-22T03:40:22.449003Z"
    },
    "jupyter": {
     "source_hidden": true
    },
    "papermill": {
     "duration": 0.063336,
     "end_time": "2022-04-22T03:40:22.451757",
     "exception": false,
     "start_time": "2022-04-22T03:40:22.388421",
     "status": "completed"
    },
    "tags": [
     "remove_input"
    ]
   },
   "outputs": [
    {
     "data": {
      "text/markdown": [
       "AM Peak most delayed routes: \n",
       " * None, Monday through Friday. From Downtown Madera to Chowchilla via Fairmead., Westbound: 1.0 minutes late on average\n",
       " * None, Monday through Friday. Downtown Madera to Children’s Hospital via Madera Community College., Eastbound: 1.0 minutes late on average\n",
       " * None, Monday through Friday. From Downtown Madera to Chowchilla via Fairmead., Eastbound: 0.0 minutes late on average\n",
       " * None, Monday through Friday. From Downtown Madera to South Fork Via Oakhurst., Eastbound: 0.0 minutes late on average\n",
       " * None, Monday through Friday. From Downtown Madera to Chowchilla via Fairmead., Westbound: 0.0 minutes late on average"
      ],
      "text/plain": [
       "<IPython.core.display.Markdown object>"
      ]
     },
     "metadata": {},
     "output_type": "display_data"
    }
   ],
   "source": [
    "rt_day.describe_delayed_routes()"
   ]
  },
  {
   "cell_type": "markdown",
   "id": "3d263ba2-49ae-4e02-9d06-3181b03f51ba",
   "metadata": {
    "papermill": {
     "duration": 0.01977,
     "end_time": "2022-04-22T03:40:22.494924",
     "exception": false,
     "start_time": "2022-04-22T03:40:22.475154",
     "status": "completed"
    },
    "tags": []
   },
   "source": [
    "## Midday"
   ]
  },
  {
   "cell_type": "code",
   "execution_count": 18,
   "id": "f5344e63-89d2-43d6-9783-55a3061c99d2",
   "metadata": {
    "execution": {
     "iopub.execute_input": "2022-04-22T03:40:22.538478Z",
     "iopub.status.busy": "2022-04-22T03:40:22.538007Z",
     "iopub.status.idle": "2022-04-22T03:40:22.544364Z",
     "shell.execute_reply": "2022-04-22T03:40:22.543422Z"
    },
    "jupyter": {
     "source_hidden": true
    },
    "papermill": {
     "duration": 0.031445,
     "end_time": "2022-04-22T03:40:22.546340",
     "exception": false,
     "start_time": "2022-04-22T03:40:22.514895",
     "status": "completed"
    },
    "tags": [
     "remove_input"
    ]
   },
   "outputs": [],
   "source": [
    "%%capture\n",
    "rt_day.set_filter(start_time='10:00', end_time='14:00')"
   ]
  },
  {
   "cell_type": "code",
   "execution_count": 19,
   "id": "a4c40f3c-cf35-45d5-9d87-aa4701bed3aa",
   "metadata": {
    "execution": {
     "iopub.execute_input": "2022-04-22T03:40:22.591131Z",
     "iopub.status.busy": "2022-04-22T03:40:22.590856Z",
     "iopub.status.idle": "2022-04-22T03:40:23.691446Z",
     "shell.execute_reply": "2022-04-22T03:40:23.690790Z"
    },
    "jupyter": {
     "source_hidden": true
    },
    "papermill": {
     "duration": 1.127304,
     "end_time": "2022-04-22T03:40:23.693544",
     "exception": false,
     "start_time": "2022-04-22T03:40:22.566240",
     "status": "completed"
    },
    "tags": [
     "remove_input"
    ]
   },
   "outputs": [],
   "source": [
    "%%capture\n",
    "m = rt_day.segment_speed_map(how='low_speeds', no_title=True)"
   ]
  },
  {
   "cell_type": "code",
   "execution_count": 20,
   "id": "a78b7db5-f43f-4bf1-8036-ae972a87fc53",
   "metadata": {
    "execution": {
     "iopub.execute_input": "2022-04-22T03:40:23.736669Z",
     "iopub.status.busy": "2022-04-22T03:40:23.736357Z",
     "iopub.status.idle": "2022-04-22T03:40:23.741512Z",
     "shell.execute_reply": "2022-04-22T03:40:23.740876Z"
    },
    "jupyter": {
     "source_hidden": true
    },
    "papermill": {
     "duration": 0.029536,
     "end_time": "2022-04-22T03:40:23.743633",
     "exception": false,
     "start_time": "2022-04-22T03:40:23.714097",
     "status": "completed"
    },
    "tags": [
     "remove_input"
    ]
   },
   "outputs": [],
   "source": [
    "m"
   ]
  },
  {
   "cell_type": "code",
   "execution_count": 21,
   "id": "6c745570-b50f-4722-b943-2176444f7af6",
   "metadata": {
    "execution": {
     "iopub.execute_input": "2022-04-22T03:40:23.790136Z",
     "iopub.status.busy": "2022-04-22T03:40:23.788413Z",
     "iopub.status.idle": "2022-04-22T03:40:23.837234Z",
     "shell.execute_reply": "2022-04-22T03:40:23.836553Z"
    },
    "jupyter": {
     "source_hidden": true
    },
    "papermill": {
     "duration": 0.073702,
     "end_time": "2022-04-22T03:40:23.839011",
     "exception": false,
     "start_time": "2022-04-22T03:40:23.765309",
     "status": "completed"
    },
    "tags": [
     "remove_input"
    ]
   },
   "outputs": [
    {
     "data": {
      "text/markdown": [
       "Midday most delayed routes: \n",
       " * None, Monday through Friday. Downtown Madera to Children’s Hospital via Madera Community College., Eastbound: 3.0 minutes late on average\n",
       " * None, Monday through Friday. Downtown Madera to Children’s Hospital via Madera Community College., Westbound: 3.0 minutes late on average\n",
       " * None, Monday through Friday. From Downtown Madera to South Fork Via Oakhurst., Eastbound: 1.0 minutes late on average\n",
       " * None, Monday through Friday. From Downtown Madera to Chowchilla via Fairmead., Westbound: 1.0 minutes late on average\n",
       " * None, Wednesdays and Fridays. Loop through Downtown Madera, Eastin Arcola, Ripperdan, and La Vina., Southbound: 0.0 minutes late on average"
      ],
      "text/plain": [
       "<IPython.core.display.Markdown object>"
      ]
     },
     "metadata": {},
     "output_type": "display_data"
    }
   ],
   "source": [
    "rt_day.describe_delayed_routes()"
   ]
  },
  {
   "cell_type": "markdown",
   "id": "704f0788-b4a8-497d-b2aa-c7ac6df939f4",
   "metadata": {
    "papermill": {
     "duration": 0.049106,
     "end_time": "2022-04-22T03:40:23.915379",
     "exception": false,
     "start_time": "2022-04-22T03:40:23.866273",
     "status": "completed"
    },
    "tags": []
   },
   "source": [
    "## Afternoon Peak"
   ]
  },
  {
   "cell_type": "code",
   "execution_count": 22,
   "id": "923f1462-b34a-42d2-a632-c5eb3ac16ac6",
   "metadata": {
    "execution": {
     "iopub.execute_input": "2022-04-22T03:40:23.990595Z",
     "iopub.status.busy": "2022-04-22T03:40:23.990275Z",
     "iopub.status.idle": "2022-04-22T03:40:23.996690Z",
     "shell.execute_reply": "2022-04-22T03:40:23.995643Z"
    },
    "jupyter": {
     "source_hidden": true
    },
    "papermill": {
     "duration": 0.044356,
     "end_time": "2022-04-22T03:40:23.999591",
     "exception": false,
     "start_time": "2022-04-22T03:40:23.955235",
     "status": "completed"
    },
    "tags": [
     "remove_input"
    ]
   },
   "outputs": [],
   "source": [
    "%%capture\n",
    "rt_day.set_filter(start_time='15:00', end_time='19:00')"
   ]
  },
  {
   "cell_type": "code",
   "execution_count": 23,
   "id": "5e46b095-7bc2-4552-a37b-661d076b2b51",
   "metadata": {
    "execution": {
     "iopub.execute_input": "2022-04-22T03:40:24.045788Z",
     "iopub.status.busy": "2022-04-22T03:40:24.045427Z",
     "iopub.status.idle": "2022-04-22T03:40:25.119474Z",
     "shell.execute_reply": "2022-04-22T03:40:25.118154Z"
    },
    "jupyter": {
     "source_hidden": true
    },
    "papermill": {
     "duration": 1.100355,
     "end_time": "2022-04-22T03:40:25.121618",
     "exception": false,
     "start_time": "2022-04-22T03:40:24.021263",
     "status": "completed"
    },
    "tags": [
     "remove_input"
    ]
   },
   "outputs": [],
   "source": [
    "%%capture\n",
    "m = rt_day.segment_speed_map(how='low_speeds', no_title=True)"
   ]
  },
  {
   "cell_type": "code",
   "execution_count": 24,
   "id": "0393f107-e9fe-4982-961a-032f7bf4e0eb",
   "metadata": {
    "execution": {
     "iopub.execute_input": "2022-04-22T03:40:25.170661Z",
     "iopub.status.busy": "2022-04-22T03:40:25.169763Z",
     "iopub.status.idle": "2022-04-22T03:40:25.175021Z",
     "shell.execute_reply": "2022-04-22T03:40:25.174422Z"
    },
    "jupyter": {
     "source_hidden": true
    },
    "papermill": {
     "duration": 0.031711,
     "end_time": "2022-04-22T03:40:25.176850",
     "exception": false,
     "start_time": "2022-04-22T03:40:25.145139",
     "status": "completed"
    },
    "tags": [
     "remove_input"
    ]
   },
   "outputs": [],
   "source": [
    "m"
   ]
  },
  {
   "cell_type": "code",
   "execution_count": 25,
   "id": "76580953-2a2b-4295-a41c-20442eae883e",
   "metadata": {
    "execution": {
     "iopub.execute_input": "2022-04-22T03:40:25.223534Z",
     "iopub.status.busy": "2022-04-22T03:40:25.222841Z",
     "iopub.status.idle": "2022-04-22T03:40:25.260564Z",
     "shell.execute_reply": "2022-04-22T03:40:25.259822Z"
    },
    "jupyter": {
     "source_hidden": true
    },
    "papermill": {
     "duration": 0.063313,
     "end_time": "2022-04-22T03:40:25.262777",
     "exception": false,
     "start_time": "2022-04-22T03:40:25.199464",
     "status": "completed"
    },
    "tags": [
     "remove_input"
    ]
   },
   "outputs": [
    {
     "data": {
      "text/markdown": [
       "PM Peak most delayed routes: \n",
       " * None, Monday through Friday. From Downtown Madera to South Fork Via Oakhurst., Westbound: 0.0 minutes late on average\n",
       " * None, Monday through Friday. From Downtown Madera to Chowchilla via Fairmead., Westbound: 0.0 minutes late on average\n",
       " * None, Monday through Friday. From Downtown Madera to South Fork Via Oakhurst., Eastbound: 0.0 minutes late on average\n",
       " * None, Monday through Friday. Downtown Madera to Children’s Hospital via Madera Community College., Eastbound: 0.0 minutes late on average\n",
       " * None, Monday through Friday. Downtown Madera to Children’s Hospital via Madera Community College., Westbound: 0.0 minutes late on average"
      ],
      "text/plain": [
       "<IPython.core.display.Markdown object>"
      ]
     },
     "metadata": {},
     "output_type": "display_data"
    }
   ],
   "source": [
    "rt_day.describe_delayed_routes()"
   ]
  },
  {
   "cell_type": "code",
   "execution_count": 26,
   "id": "91874f76-635b-4fde-8d61-abc795aca6c6",
   "metadata": {
    "execution": {
     "iopub.execute_input": "2022-04-22T03:40:25.313555Z",
     "iopub.status.busy": "2022-04-22T03:40:25.312585Z",
     "iopub.status.idle": "2022-04-22T03:40:25.321996Z",
     "shell.execute_reply": "2022-04-22T03:40:25.321317Z"
    },
    "jupyter": {
     "source_hidden": true
    },
    "papermill": {
     "duration": 0.035564,
     "end_time": "2022-04-22T03:40:25.324103",
     "exception": false,
     "start_time": "2022-04-22T03:40:25.288539",
     "status": "completed"
    },
    "tags": [
     "remove_input"
    ]
   },
   "outputs": [],
   "source": [
    "try:\n",
    "    metrics_df = (rt_day.rt_trips\n",
    "         >> group_by(_.route_short_name, _.direction_id)\n",
    "         >> summarize(speed_variance = _.mean_speed_mph.var(),\n",
    "                     mean_speed_mph = _.mean_speed_mph.mean(),\n",
    "                     min_hour = _.median_time.min().hour,\n",
    "                     max_hour = _.median_time.max().hour)\n",
    "         >> filter(_.min_hour <= 7, _.max_hour >= 15,\n",
    "                   _.mean_speed_mph < _.mean_speed_mph.quantile(.6),\n",
    "                   _.speed_variance)\n",
    "         >> arrange(-_.speed_variance)\n",
    "         >> head(20)\n",
    "        )\n",
    "except Exception as e:\n",
    "    pass\n",
    "    # print(e)\n",
    "## check that route has all-day span..."
   ]
  },
  {
   "cell_type": "code",
   "execution_count": 27,
   "id": "758b0bae-32d0-40dd-a1d1-1d107b0e7e8b",
   "metadata": {
    "execution": {
     "iopub.execute_input": "2022-04-22T03:40:25.374239Z",
     "iopub.status.busy": "2022-04-22T03:40:25.373292Z",
     "iopub.status.idle": "2022-04-22T03:40:25.381503Z",
     "shell.execute_reply": "2022-04-22T03:40:25.380963Z"
    },
    "jupyter": {
     "source_hidden": true
    },
    "papermill": {
     "duration": 0.036369,
     "end_time": "2022-04-22T03:40:25.383376",
     "exception": false,
     "start_time": "2022-04-22T03:40:25.347007",
     "status": "completed"
    },
    "tags": [
     "remove_input"
    ]
   },
   "outputs": [],
   "source": [
    "def map_from_metrics(rt_day, metrics_df):\n",
    "    try:\n",
    "        route_name = metrics_df.iloc[1,0]\n",
    "        direction_id = metrics_df.iloc[1,1]\n",
    "        # print(route_name, direction_id)\n",
    "    except Exception as e:\n",
    "        # print(e)\n",
    "        return\n",
    "    # route_name = '281'\n",
    "    # direction_id = '1'\n",
    "    rt_day.set_filter(start_time='06:00', end_time='09:00',\n",
    "                      route_names=[route_name], direction_id = direction_id)\n",
    "    try:\n",
    "        am_map = rt_day.segment_speed_map(how='low_speeds')\n",
    "        display(am_map)\n",
    "    except Exception as e:\n",
    "        # print(e)\n",
    "        pass\n",
    "    \n",
    "    rt_day.set_filter(start_time='10:00', end_time='14:00',\n",
    "                      route_names=[route_name], direction_id = direction_id)\n",
    "    try:\n",
    "        mid_map = rt_day.segment_speed_map(how='low_speeds')\n",
    "        display(mid_map)\n",
    "    except Exception as e:\n",
    "        # print(e)\n",
    "        pass\n",
    "\n",
    "    rt_day.set_filter(start_time='15:00', end_time='19:00',\n",
    "                      route_names=[route_name], direction_id = direction_id)\n",
    "    try:\n",
    "        pm_map = rt_day.segment_speed_map(how='low_speeds')\n",
    "        display(pm_map)\n",
    "    except Exception as e:\n",
    "        # print(e)\n",
    "        pass\n",
    "\n",
    "    return"
   ]
  },
  {
   "cell_type": "markdown",
   "id": "6ce187c8-c7bf-44f4-970e-b3abd69ddc38",
   "metadata": {
    "papermill": {
     "duration": 0.022923,
     "end_time": "2022-04-22T03:40:25.430484",
     "exception": false,
     "start_time": "2022-04-22T03:40:25.407561",
     "status": "completed"
    },
    "tags": []
   },
   "source": [
    "## Single-Route Detail Example"
   ]
  },
  {
   "cell_type": "code",
   "execution_count": 28,
   "id": "c7b4b043-6d15-4d9c-8aac-f0f6649e9552",
   "metadata": {
    "execution": {
     "iopub.execute_input": "2022-04-22T03:40:25.504974Z",
     "iopub.status.busy": "2022-04-22T03:40:25.504226Z",
     "iopub.status.idle": "2022-04-22T03:40:25.512561Z",
     "shell.execute_reply": "2022-04-22T03:40:25.511656Z"
    },
    "jupyter": {
     "source_hidden": true
    },
    "papermill": {
     "duration": 0.052295,
     "end_time": "2022-04-22T03:40:25.515959",
     "exception": false,
     "start_time": "2022-04-22T03:40:25.463664",
     "status": "completed"
    },
    "tags": [
     "remove_input"
    ]
   },
   "outputs": [],
   "source": [
    "try:\n",
    "    map_from_metrics(rt_day, metrics_df)\n",
    "except Exception as e:\n",
    "    # print(e)\n",
    "    pass"
   ]
  },
  {
   "cell_type": "code",
   "execution_count": null,
   "id": "a7d189cb-26d5-4a49-bf0f-2c33fd408f7e",
   "metadata": {
    "jupyter": {
     "source_hidden": true
    },
    "papermill": {
     "duration": 0.039095,
     "end_time": "2022-04-22T03:40:25.594826",
     "exception": false,
     "start_time": "2022-04-22T03:40:25.555731",
     "status": "completed"
    },
    "tags": [
     "remove_input"
    ]
   },
   "outputs": [],
   "source": []
  }
 ],
 "metadata": {
  "kernelspec": {
   "display_name": "Python 3 (ipykernel)",
   "language": "python",
   "name": "python3"
  },
  "language_info": {
   "codemirror_mode": {
    "name": "ipython",
    "version": 3
   },
   "file_extension": ".py",
   "mimetype": "text/x-python",
   "name": "python",
   "nbconvert_exporter": "python",
   "pygments_lexer": "ipython3",
   "version": "3.9.10"
  },
  "papermill": {
   "default_parameters": {},
   "duration": 24.091022,
   "end_time": "2022-04-22T03:40:27.162678",
   "environment_variables": {},
   "exception": null,
   "input_path": "rt_delay/speedmaps.ipynb",
   "output_path": "portfolio/rt/district_06-fresno/speedmaps__itp_id_188.ipynb",
   "parameters": {
    "district": "06 - Fresno",
    "itp_id": 188
   },
   "start_time": "2022-04-22T03:40:03.071656",
   "version": "2.3.4"
  }
 },
 "nbformat": 4,
 "nbformat_minor": 5
}