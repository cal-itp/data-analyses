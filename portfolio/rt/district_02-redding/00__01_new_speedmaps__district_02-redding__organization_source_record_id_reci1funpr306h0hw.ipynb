version https://git-lfs.github.com/spec/v1
oid sha256:994686c673ec47d79de4cd226dfad7ffe9a0580fc6001610731bf897e9248b6f
size 57712
