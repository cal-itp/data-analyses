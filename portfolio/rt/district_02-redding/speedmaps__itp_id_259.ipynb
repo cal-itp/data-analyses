{
 "cells": [
  {
   "cell_type": "code",
   "execution_count": 1,
   "id": "46898b5c-b5cc-4096-ab68-8c3e42fab870",
   "metadata": {
    "execution": {
     "iopub.execute_input": "2022-04-22T02:53:25.629315Z",
     "iopub.status.busy": "2022-04-22T02:53:25.628762Z",
     "iopub.status.idle": "2022-04-22T02:53:33.952478Z",
     "shell.execute_reply": "2022-04-22T02:53:33.951376Z"
    },
    "jupyter": {
     "source_hidden": true
    },
    "papermill": {
     "duration": 8.362943,
     "end_time": "2022-04-22T02:53:33.955008",
     "exception": false,
     "start_time": "2022-04-22T02:53:25.592065",
     "status": "completed"
    },
    "tags": [
     "remove_input"
    ]
   },
   "outputs": [],
   "source": [
    "%%capture\n",
    "import warnings\n",
    "warnings.filterwarnings('ignore')\n",
    "\n",
    "import os\n",
    "os.environ[\"CALITP_BQ_MAX_BYTES\"] = str(800_000_000_000)\n",
    "import shared_utils\n",
    "import utils\n",
    "\n",
    "from calitp.tables import tbl\n",
    "from calitp import query_sql\n",
    "import calitp.magics\n",
    "\n",
    "from siuba import *\n",
    "import pandas as pd\n",
    "import geopandas as gpd\n",
    "\n",
    "import datetime as dt\n",
    "\n",
    "import importlib\n",
    "import rt_filter_map_plot\n",
    "\n",
    "from IPython.display import display, Markdown, Latex, HTML\n",
    "import json"
   ]
  },
  {
   "cell_type": "code",
   "execution_count": 2,
   "id": "9f15ed6a-5ab7-4f57-9695-3f762781b74c",
   "metadata": {
    "execution": {
     "iopub.execute_input": "2022-04-22T02:53:33.995545Z",
     "iopub.status.busy": "2022-04-22T02:53:33.994559Z",
     "iopub.status.idle": "2022-04-22T02:53:33.999612Z",
     "shell.execute_reply": "2022-04-22T02:53:33.998832Z"
    },
    "jupyter": {
     "source_hidden": true
    },
    "papermill": {
     "duration": 0.028224,
     "end_time": "2022-04-22T02:53:34.001624",
     "exception": false,
     "start_time": "2022-04-22T02:53:33.973400",
     "status": "completed"
    },
    "tags": [
     "parameters",
     "remove_input"
    ]
   },
   "outputs": [],
   "source": [
    "## parameters cell\n",
    "itp_id = 135"
   ]
  },
  {
   "cell_type": "code",
   "execution_count": 3,
   "id": "ca07d388",
   "metadata": {
    "execution": {
     "iopub.execute_input": "2022-04-22T02:53:34.038514Z",
     "iopub.status.busy": "2022-04-22T02:53:34.037610Z",
     "iopub.status.idle": "2022-04-22T02:53:34.042364Z",
     "shell.execute_reply": "2022-04-22T02:53:34.041757Z"
    },
    "jupyter": {
     "source_hidden": true
    },
    "papermill": {
     "duration": 0.025583,
     "end_time": "2022-04-22T02:53:34.044673",
     "exception": false,
     "start_time": "2022-04-22T02:53:34.019090",
     "status": "completed"
    },
    "tags": [
     "injected-parameters",
     "remove_input"
    ]
   },
   "outputs": [],
   "source": [
    "# Parameters\n",
    "district = \"02 - Redding\"\n",
    "itp_id = 259\n"
   ]
  },
  {
   "cell_type": "code",
   "execution_count": 4,
   "id": "6c2e9651-70e4-4403-b43d-da50315ef8fd",
   "metadata": {
    "execution": {
     "iopub.execute_input": "2022-04-22T02:53:34.089990Z",
     "iopub.status.busy": "2022-04-22T02:53:34.089041Z",
     "iopub.status.idle": "2022-04-22T02:53:36.187807Z",
     "shell.execute_reply": "2022-04-22T02:53:36.187048Z"
    },
    "jupyter": {
     "source_hidden": true
    },
    "papermill": {
     "duration": 2.12062,
     "end_time": "2022-04-22T02:53:36.190310",
     "exception": false,
     "start_time": "2022-04-22T02:53:34.069690",
     "status": "completed"
    },
    "tags": [
     "remove_input"
    ]
   },
   "outputs": [],
   "source": [
    "airtable_organizations = (\n",
    "    tbl.airtable.california_transit_organizations()\n",
    "    >> select(_.itp_id, _.name, _.caltrans_district,\n",
    "              _.website, _.ntp_id, _.drmt_organization_name)\n",
    "    >> filter(_.itp_id == itp_id)\n",
    "    >> collect()\n",
    ")"
   ]
  },
  {
   "cell_type": "code",
   "execution_count": 5,
   "id": "cc9c7000-4042-4f64-b7ef-8e8e5f1e706a",
   "metadata": {
    "execution": {
     "iopub.execute_input": "2022-04-22T02:53:36.227285Z",
     "iopub.status.busy": "2022-04-22T02:53:36.226991Z",
     "iopub.status.idle": "2022-04-22T02:53:36.231322Z",
     "shell.execute_reply": "2022-04-22T02:53:36.230704Z"
    },
    "jupyter": {
     "source_hidden": true
    },
    "papermill": {
     "duration": 0.025518,
     "end_time": "2022-04-22T02:53:36.233149",
     "exception": false,
     "start_time": "2022-04-22T02:53:36.207631",
     "status": "completed"
    },
    "tags": [
     "remove_input"
    ]
   },
   "outputs": [],
   "source": [
    "# airtable_organizations"
   ]
  },
  {
   "cell_type": "code",
   "execution_count": 6,
   "id": "306a7053-3fab-4723-a287-111e4eba11f2",
   "metadata": {
    "execution": {
     "iopub.execute_input": "2022-04-22T02:53:36.270524Z",
     "iopub.status.busy": "2022-04-22T02:53:36.269506Z",
     "iopub.status.idle": "2022-04-22T02:53:36.274625Z",
     "shell.execute_reply": "2022-04-22T02:53:36.274101Z"
    },
    "jupyter": {
     "source_hidden": true
    },
    "papermill": {
     "duration": 0.026009,
     "end_time": "2022-04-22T02:53:36.276470",
     "exception": false,
     "start_time": "2022-04-22T02:53:36.250461",
     "status": "completed"
    },
    "tags": [
     "remove_input"
    ]
   },
   "outputs": [],
   "source": [
    "analysis_date = dt.date(2022, 3, 30)\n",
    "if itp_id == 273:\n",
    "    analysis_date = dt.date(2022, 2, 8) # #override for SacRT "
   ]
  },
  {
   "cell_type": "code",
   "execution_count": 7,
   "id": "47c79d99-c82f-4e1e-b11e-2b1e83c13a1b",
   "metadata": {
    "execution": {
     "iopub.execute_input": "2022-04-22T02:53:36.314627Z",
     "iopub.status.busy": "2022-04-22T02:53:36.313645Z",
     "iopub.status.idle": "2022-04-22T02:53:36.318268Z",
     "shell.execute_reply": "2022-04-22T02:53:36.317734Z"
    },
    "jupyter": {
     "source_hidden": true
    },
    "papermill": {
     "duration": 0.025688,
     "end_time": "2022-04-22T02:53:36.320134",
     "exception": false,
     "start_time": "2022-04-22T02:53:36.294446",
     "status": "completed"
    },
    "tags": [
     "remove_input"
    ]
   },
   "outputs": [],
   "source": [
    "month_day = analysis_date.strftime('%m_%d')"
   ]
  },
  {
   "cell_type": "code",
   "execution_count": 8,
   "id": "1739d979-cd4d-456c-a1ad-a016cbf69cad",
   "metadata": {
    "execution": {
     "iopub.execute_input": "2022-04-22T02:53:36.357912Z",
     "iopub.status.busy": "2022-04-22T02:53:36.357224Z",
     "iopub.status.idle": "2022-04-22T02:53:36.764235Z",
     "shell.execute_reply": "2022-04-22T02:53:36.763446Z"
    },
    "jupyter": {
     "source_hidden": true
    },
    "papermill": {
     "duration": 0.428418,
     "end_time": "2022-04-22T02:53:36.766476",
     "exception": false,
     "start_time": "2022-04-22T02:53:36.338058",
     "status": "completed"
    },
    "tags": [
     "remove_input"
    ]
   },
   "outputs": [],
   "source": [
    "trips = pd.read_parquet(f'{utils.GCS_FILE_PATH}rt_trips/{itp_id}_{month_day}.parquet')"
   ]
  },
  {
   "cell_type": "code",
   "execution_count": 9,
   "id": "b77a9167-4017-4367-8fed-d4e6bf3999b9",
   "metadata": {
    "execution": {
     "iopub.execute_input": "2022-04-22T02:53:36.806028Z",
     "iopub.status.busy": "2022-04-22T02:53:36.805418Z",
     "iopub.status.idle": "2022-04-22T02:53:37.295063Z",
     "shell.execute_reply": "2022-04-22T02:53:37.294450Z"
    },
    "jupyter": {
     "source_hidden": true
    },
    "papermill": {
     "duration": 0.512274,
     "end_time": "2022-04-22T02:53:37.297157",
     "exception": false,
     "start_time": "2022-04-22T02:53:36.784883",
     "status": "completed"
    },
    "tags": [
     "remove_input"
    ]
   },
   "outputs": [],
   "source": [
    "stop_delay = gpd.read_parquet(f'{utils.GCS_FILE_PATH}stop_delay_views/{itp_id}_{month_day}.parquet')\n",
    "stop_delay['arrival_time'] = stop_delay.arrival_time.map(lambda x: dt.datetime.fromisoformat(x))\n",
    "stop_delay['actual_time'] = stop_delay.actual_time.map(lambda x: dt.datetime.fromisoformat(x))"
   ]
  },
  {
   "cell_type": "code",
   "execution_count": 10,
   "id": "2b2fe439-10af-4140-ab83-69b05c385b40",
   "metadata": {
    "execution": {
     "iopub.execute_input": "2022-04-22T02:53:37.335315Z",
     "iopub.status.busy": "2022-04-22T02:53:37.334787Z",
     "iopub.status.idle": "2022-04-22T02:53:40.356885Z",
     "shell.execute_reply": "2022-04-22T02:53:40.356117Z"
    },
    "jupyter": {
     "source_hidden": true
    },
    "papermill": {
     "duration": 3.043916,
     "end_time": "2022-04-22T02:53:40.359316",
     "exception": false,
     "start_time": "2022-04-22T02:53:37.315400",
     "status": "completed"
    },
    "tags": [
     "remove_input"
    ]
   },
   "outputs": [],
   "source": [
    "%%capture\n",
    "routelines = utils.get_routelines(itp_id, analysis_date)"
   ]
  },
  {
   "cell_type": "code",
   "execution_count": 11,
   "id": "e4cbefc6-9bbb-4989-85b7-1f31da17fcb8",
   "metadata": {
    "execution": {
     "iopub.execute_input": "2022-04-22T02:53:40.399830Z",
     "iopub.status.busy": "2022-04-22T02:53:40.399098Z",
     "iopub.status.idle": "2022-04-22T02:53:40.889845Z",
     "shell.execute_reply": "2022-04-22T02:53:40.888827Z"
    },
    "jupyter": {
     "source_hidden": true
    },
    "papermill": {
     "duration": 0.514978,
     "end_time": "2022-04-22T02:53:40.892321",
     "exception": false,
     "start_time": "2022-04-22T02:53:40.377343",
     "status": "completed"
    },
    "tags": [
     "remove_input"
    ]
   },
   "outputs": [],
   "source": [
    "%%capture\n",
    "rt_day = rt_filter_map_plot.RtFilterMapper(trips, stop_delay, routelines)"
   ]
  },
  {
   "cell_type": "code",
   "execution_count": 12,
   "id": "6c335d40-7a7b-4641-8a3d-c970b2823cdf",
   "metadata": {
    "execution": {
     "iopub.execute_input": "2022-04-22T02:53:40.934174Z",
     "iopub.status.busy": "2022-04-22T02:53:40.933365Z",
     "iopub.status.idle": "2022-04-22T02:53:40.941393Z",
     "shell.execute_reply": "2022-04-22T02:53:40.940765Z"
    },
    "jupyter": {
     "source_hidden": true
    },
    "papermill": {
     "duration": 0.031964,
     "end_time": "2022-04-22T02:53:40.943292",
     "exception": false,
     "start_time": "2022-04-22T02:53:40.911328",
     "status": "completed"
    },
    "tags": [
     "remove_input"
    ]
   },
   "outputs": [],
   "source": [
    "%%capture_parameters\n",
    "agency_name = rt_day.calitp_agency_name\n",
    "district = airtable_organizations.caltrans_district.iloc[0]\n",
    "agency_name, district"
   ]
  },
  {
   "cell_type": "markdown",
   "id": "52110155-d104-4043-8376-3f83e82a959a",
   "metadata": {
    "papermill": {
     "duration": 0.019938,
     "end_time": "2022-04-22T02:53:40.981602",
     "exception": false,
     "start_time": "2022-04-22T02:53:40.961664",
     "status": "completed"
    },
    "tags": []
   },
   "source": [
    "# Redding Area Bus Authority"
   ]
  },
  {
   "cell_type": "markdown",
   "id": "7d5572cd-dd67-4e26-b100-a0e7472a4a17",
   "metadata": {
    "papermill": {
     "duration": 0.019559,
     "end_time": "2022-04-22T02:53:41.021095",
     "exception": false,
     "start_time": "2022-04-22T02:53:41.001536",
     "status": "completed"
    },
    "tags": []
   },
   "source": [
    "## About These Maps:\n",
    "\n",
    "* Each map shows bus (and rail, if applicable) speeds for Redding Area Bus Authority, with a map each for the morning peak, midday, and afternoon peak periods.\n",
    "* On the map, routes are split into segments corresponding to the distance between two stops, allowing you to focus on specific portions of the route experiencing a slowdown.\n",
    "* Route segments are arrow-shaped to indicate direction of travel.\n",
    "* Hover over, or click, a segment with your mouse to see the exact speed, route name, and transit service frequency in that segment. \n",
    "    * Higher-frequency routes (3+ trips per hour) are especially important, since those slowdowns correspond to more vehicles, and riders, delayed in traffic."
   ]
  },
  {
   "cell_type": "code",
   "execution_count": 13,
   "id": "8e940d3d-c76e-42ba-be8b-739852771ca6",
   "metadata": {
    "execution": {
     "iopub.execute_input": "2022-04-22T02:53:41.062072Z",
     "iopub.status.busy": "2022-04-22T02:53:41.061126Z",
     "iopub.status.idle": "2022-04-22T02:53:41.070465Z",
     "shell.execute_reply": "2022-04-22T02:53:41.069849Z"
    },
    "jupyter": {
     "source_hidden": true
    },
    "papermill": {
     "duration": 0.031911,
     "end_time": "2022-04-22T02:53:41.072477",
     "exception": false,
     "start_time": "2022-04-22T02:53:41.040566",
     "status": "completed"
    },
    "tags": [
     "remove_input"
    ]
   },
   "outputs": [],
   "source": [
    "## avoid papermill errors when map fails to render\n",
    "m = None"
   ]
  },
  {
   "cell_type": "markdown",
   "id": "74fce4a9-514f-405d-9ce0-1cb1998a696b",
   "metadata": {
    "papermill": {
     "duration": 0.02011,
     "end_time": "2022-04-22T02:53:41.111734",
     "exception": false,
     "start_time": "2022-04-22T02:53:41.091624",
     "status": "completed"
    },
    "tags": []
   },
   "source": [
    "## Morning Peak"
   ]
  },
  {
   "cell_type": "code",
   "execution_count": 14,
   "id": "533a64f4-f374-4f2c-94d3-5146ebe7c036",
   "metadata": {
    "execution": {
     "iopub.execute_input": "2022-04-22T02:53:41.152813Z",
     "iopub.status.busy": "2022-04-22T02:53:41.151864Z",
     "iopub.status.idle": "2022-04-22T02:53:41.159385Z",
     "shell.execute_reply": "2022-04-22T02:53:41.158660Z"
    },
    "jupyter": {
     "source_hidden": true
    },
    "papermill": {
     "duration": 0.03053,
     "end_time": "2022-04-22T02:53:41.161898",
     "exception": false,
     "start_time": "2022-04-22T02:53:41.131368",
     "status": "completed"
    },
    "tags": [
     "remove_input"
    ]
   },
   "outputs": [],
   "source": [
    "%%capture\n",
    "rt_day.set_filter(start_time='06:00', end_time='09:00')"
   ]
  },
  {
   "cell_type": "code",
   "execution_count": 15,
   "id": "2f317120-99ee-435b-96cd-1236b8ee2e0b",
   "metadata": {
    "execution": {
     "iopub.execute_input": "2022-04-22T02:53:41.211986Z",
     "iopub.status.busy": "2022-04-22T02:53:41.211275Z",
     "iopub.status.idle": "2022-04-22T02:53:46.089104Z",
     "shell.execute_reply": "2022-04-22T02:53:46.088111Z"
    },
    "jupyter": {
     "source_hidden": true
    },
    "papermill": {
     "duration": 4.905641,
     "end_time": "2022-04-22T02:53:46.091543",
     "exception": false,
     "start_time": "2022-04-22T02:53:41.185902",
     "status": "completed"
    },
    "tags": [
     "remove_input"
    ]
   },
   "outputs": [],
   "source": [
    "%%capture\n",
    "m = rt_day.segment_speed_map(how='low_speeds', no_title=True)"
   ]
  },
  {
   "cell_type": "code",
   "execution_count": 16,
   "id": "275087be-b46d-4acb-95fe-2dc98c2089a2",
   "metadata": {
    "execution": {
     "iopub.execute_input": "2022-04-22T02:53:46.134643Z",
     "iopub.status.busy": "2022-04-22T02:53:46.134312Z",
     "iopub.status.idle": "2022-04-22T02:53:46.142620Z",
     "shell.execute_reply": "2022-04-22T02:53:46.141878Z"
    },
    "jupyter": {
     "source_hidden": true
    },
    "papermill": {
     "duration": 0.032388,
     "end_time": "2022-04-22T02:53:46.144404",
     "exception": false,
     "start_time": "2022-04-22T02:53:46.112016",
     "status": "completed"
    },
    "tags": [
     "remove_input"
    ]
   },
   "outputs": [],
   "source": [
    "m"
   ]
  },
  {
   "cell_type": "code",
   "execution_count": 17,
   "id": "b0cf9b97-7485-4f36-b5e8-124f22fa9661",
   "metadata": {
    "execution": {
     "iopub.execute_input": "2022-04-22T02:53:46.191483Z",
     "iopub.status.busy": "2022-04-22T02:53:46.190518Z",
     "iopub.status.idle": "2022-04-22T02:53:46.239863Z",
     "shell.execute_reply": "2022-04-22T02:53:46.238911Z"
    },
    "jupyter": {
     "source_hidden": true
    },
    "papermill": {
     "duration": 0.075162,
     "end_time": "2022-04-22T02:53:46.242472",
     "exception": false,
     "start_time": "2022-04-22T02:53:46.167310",
     "status": "completed"
    },
    "tags": [
     "remove_input"
    ]
   },
   "outputs": [
    {
     "data": {
      "text/markdown": [
       "AM Peak most delayed routes: \n",
       " * 5, Eastbound: 8.0 minutes late on average\n",
       " * 7, Eastbound: 7.0 minutes late on average\n",
       " * 6S, Route 6 South, Southbound: 4.0 minutes late on average\n",
       " * 3, Southbound: 2.0 minutes late on average\n",
       " * 3, Northbound: 2.0 minutes late on average"
      ],
      "text/plain": [
       "<IPython.core.display.Markdown object>"
      ]
     },
     "metadata": {},
     "output_type": "display_data"
    }
   ],
   "source": [
    "rt_day.describe_delayed_routes()"
   ]
  },
  {
   "cell_type": "markdown",
   "id": "3d263ba2-49ae-4e02-9d06-3181b03f51ba",
   "metadata": {
    "papermill": {
     "duration": 0.022467,
     "end_time": "2022-04-22T02:53:46.286334",
     "exception": false,
     "start_time": "2022-04-22T02:53:46.263867",
     "status": "completed"
    },
    "tags": []
   },
   "source": [
    "## Midday"
   ]
  },
  {
   "cell_type": "code",
   "execution_count": 18,
   "id": "f5344e63-89d2-43d6-9783-55a3061c99d2",
   "metadata": {
    "execution": {
     "iopub.execute_input": "2022-04-22T02:53:46.327700Z",
     "iopub.status.busy": "2022-04-22T02:53:46.327418Z",
     "iopub.status.idle": "2022-04-22T02:53:46.334894Z",
     "shell.execute_reply": "2022-04-22T02:53:46.334033Z"
    },
    "jupyter": {
     "source_hidden": true
    },
    "papermill": {
     "duration": 0.030647,
     "end_time": "2022-04-22T02:53:46.336879",
     "exception": false,
     "start_time": "2022-04-22T02:53:46.306232",
     "status": "completed"
    },
    "tags": [
     "remove_input"
    ]
   },
   "outputs": [],
   "source": [
    "%%capture\n",
    "rt_day.set_filter(start_time='10:00', end_time='14:00')"
   ]
  },
  {
   "cell_type": "code",
   "execution_count": 19,
   "id": "a4c40f3c-cf35-45d5-9d87-aa4701bed3aa",
   "metadata": {
    "execution": {
     "iopub.execute_input": "2022-04-22T02:53:46.379862Z",
     "iopub.status.busy": "2022-04-22T02:53:46.379168Z",
     "iopub.status.idle": "2022-04-22T02:53:49.754193Z",
     "shell.execute_reply": "2022-04-22T02:53:49.753526Z"
    },
    "jupyter": {
     "source_hidden": true
    },
    "papermill": {
     "duration": 3.399838,
     "end_time": "2022-04-22T02:53:49.756748",
     "exception": false,
     "start_time": "2022-04-22T02:53:46.356910",
     "status": "completed"
    },
    "tags": [
     "remove_input"
    ]
   },
   "outputs": [],
   "source": [
    "%%capture\n",
    "m = rt_day.segment_speed_map(how='low_speeds', no_title=True)"
   ]
  },
  {
   "cell_type": "code",
   "execution_count": 20,
   "id": "a78b7db5-f43f-4bf1-8036-ae972a87fc53",
   "metadata": {
    "execution": {
     "iopub.execute_input": "2022-04-22T02:53:49.804364Z",
     "iopub.status.busy": "2022-04-22T02:53:49.803479Z",
     "iopub.status.idle": "2022-04-22T02:53:49.808898Z",
     "shell.execute_reply": "2022-04-22T02:53:49.808302Z"
    },
    "jupyter": {
     "source_hidden": true
    },
    "papermill": {
     "duration": 0.03179,
     "end_time": "2022-04-22T02:53:49.810959",
     "exception": false,
     "start_time": "2022-04-22T02:53:49.779169",
     "status": "completed"
    },
    "tags": [
     "remove_input"
    ]
   },
   "outputs": [],
   "source": [
    "m"
   ]
  },
  {
   "cell_type": "code",
   "execution_count": 21,
   "id": "6c745570-b50f-4722-b943-2176444f7af6",
   "metadata": {
    "execution": {
     "iopub.execute_input": "2022-04-22T02:53:49.857520Z",
     "iopub.status.busy": "2022-04-22T02:53:49.856805Z",
     "iopub.status.idle": "2022-04-22T02:53:49.900675Z",
     "shell.execute_reply": "2022-04-22T02:53:49.899827Z"
    },
    "jupyter": {
     "source_hidden": true
    },
    "papermill": {
     "duration": 0.07088,
     "end_time": "2022-04-22T02:53:49.902681",
     "exception": false,
     "start_time": "2022-04-22T02:53:49.831801",
     "status": "completed"
    },
    "tags": [
     "remove_input"
    ]
   },
   "outputs": [
    {
     "data": {
      "text/markdown": [
       "Midday most delayed routes: \n",
       " * 5, Eastbound: 10.0 minutes late on average\n",
       " * 3, Southbound: 5.0 minutes late on average\n",
       " * 7, Westbound: 5.0 minutes late on average\n",
       " * 6S, Route 6 South, Southbound: 4.0 minutes late on average\n",
       " * 6N, Route 6 North, Northbound: 3.0 minutes late on average"
      ],
      "text/plain": [
       "<IPython.core.display.Markdown object>"
      ]
     },
     "metadata": {},
     "output_type": "display_data"
    }
   ],
   "source": [
    "rt_day.describe_delayed_routes()"
   ]
  },
  {
   "cell_type": "markdown",
   "id": "704f0788-b4a8-497d-b2aa-c7ac6df939f4",
   "metadata": {
    "papermill": {
     "duration": 0.026405,
     "end_time": "2022-04-22T02:53:49.950533",
     "exception": false,
     "start_time": "2022-04-22T02:53:49.924128",
     "status": "completed"
    },
    "tags": []
   },
   "source": [
    "## Afternoon Peak"
   ]
  },
  {
   "cell_type": "code",
   "execution_count": 22,
   "id": "923f1462-b34a-42d2-a632-c5eb3ac16ac6",
   "metadata": {
    "execution": {
     "iopub.execute_input": "2022-04-22T02:53:49.998379Z",
     "iopub.status.busy": "2022-04-22T02:53:49.997781Z",
     "iopub.status.idle": "2022-04-22T02:53:50.004199Z",
     "shell.execute_reply": "2022-04-22T02:53:50.003503Z"
    },
    "jupyter": {
     "source_hidden": true
    },
    "papermill": {
     "duration": 0.03445,
     "end_time": "2022-04-22T02:53:50.006427",
     "exception": false,
     "start_time": "2022-04-22T02:53:49.971977",
     "status": "completed"
    },
    "tags": [
     "remove_input"
    ]
   },
   "outputs": [],
   "source": [
    "%%capture\n",
    "rt_day.set_filter(start_time='15:00', end_time='19:00')"
   ]
  },
  {
   "cell_type": "code",
   "execution_count": 23,
   "id": "5e46b095-7bc2-4552-a37b-661d076b2b51",
   "metadata": {
    "execution": {
     "iopub.execute_input": "2022-04-22T02:53:50.060491Z",
     "iopub.status.busy": "2022-04-22T02:53:50.059636Z",
     "iopub.status.idle": "2022-04-22T02:53:53.164333Z",
     "shell.execute_reply": "2022-04-22T02:53:53.163747Z"
    },
    "jupyter": {
     "source_hidden": true
    },
    "papermill": {
     "duration": 3.13757,
     "end_time": "2022-04-22T02:53:53.166175",
     "exception": false,
     "start_time": "2022-04-22T02:53:50.028605",
     "status": "completed"
    },
    "tags": [
     "remove_input"
    ]
   },
   "outputs": [],
   "source": [
    "%%capture\n",
    "m = rt_day.segment_speed_map(how='low_speeds', no_title=True)"
   ]
  },
  {
   "cell_type": "code",
   "execution_count": 24,
   "id": "0393f107-e9fe-4982-961a-032f7bf4e0eb",
   "metadata": {
    "execution": {
     "iopub.execute_input": "2022-04-22T02:53:53.211201Z",
     "iopub.status.busy": "2022-04-22T02:53:53.210659Z",
     "iopub.status.idle": "2022-04-22T02:53:53.214646Z",
     "shell.execute_reply": "2022-04-22T02:53:53.214134Z"
    },
    "jupyter": {
     "source_hidden": true
    },
    "papermill": {
     "duration": 0.028825,
     "end_time": "2022-04-22T02:53:53.216468",
     "exception": false,
     "start_time": "2022-04-22T02:53:53.187643",
     "status": "completed"
    },
    "tags": [
     "remove_input"
    ]
   },
   "outputs": [],
   "source": [
    "m"
   ]
  },
  {
   "cell_type": "code",
   "execution_count": 25,
   "id": "76580953-2a2b-4295-a41c-20442eae883e",
   "metadata": {
    "execution": {
     "iopub.execute_input": "2022-04-22T02:53:53.262456Z",
     "iopub.status.busy": "2022-04-22T02:53:53.261976Z",
     "iopub.status.idle": "2022-04-22T02:53:53.307580Z",
     "shell.execute_reply": "2022-04-22T02:53:53.306858Z"
    },
    "jupyter": {
     "source_hidden": true
    },
    "papermill": {
     "duration": 0.071189,
     "end_time": "2022-04-22T02:53:53.309506",
     "exception": false,
     "start_time": "2022-04-22T02:53:53.238317",
     "status": "completed"
    },
    "tags": [
     "remove_input"
    ]
   },
   "outputs": [
    {
     "data": {
      "text/markdown": [
       "PM Peak most delayed routes: \n",
       " * 5, Eastbound: 12.0 minutes late on average\n",
       " * 14, Eastbound: 9.0 minutes late on average\n",
       " * 3, Southbound: 7.0 minutes late on average\n",
       " * CTE, Crosstown Express, Eastbound: 7.0 minutes late on average\n",
       " * 7, Eastbound: 7.0 minutes late on average"
      ],
      "text/plain": [
       "<IPython.core.display.Markdown object>"
      ]
     },
     "metadata": {},
     "output_type": "display_data"
    }
   ],
   "source": [
    "rt_day.describe_delayed_routes()"
   ]
  },
  {
   "cell_type": "code",
   "execution_count": 26,
   "id": "91874f76-635b-4fde-8d61-abc795aca6c6",
   "metadata": {
    "execution": {
     "iopub.execute_input": "2022-04-22T02:53:53.355505Z",
     "iopub.status.busy": "2022-04-22T02:53:53.355042Z",
     "iopub.status.idle": "2022-04-22T02:53:53.397278Z",
     "shell.execute_reply": "2022-04-22T02:53:53.396674Z"
    },
    "jupyter": {
     "source_hidden": true
    },
    "papermill": {
     "duration": 0.068376,
     "end_time": "2022-04-22T02:53:53.399403",
     "exception": false,
     "start_time": "2022-04-22T02:53:53.331027",
     "status": "completed"
    },
    "tags": [
     "remove_input"
    ]
   },
   "outputs": [],
   "source": [
    "try:\n",
    "    metrics_df = (rt_day.rt_trips\n",
    "         >> group_by(_.route_short_name, _.direction_id)\n",
    "         >> summarize(speed_variance = _.mean_speed_mph.var(),\n",
    "                     mean_speed_mph = _.mean_speed_mph.mean(),\n",
    "                     min_hour = _.median_time.min().hour,\n",
    "                     max_hour = _.median_time.max().hour)\n",
    "         >> filter(_.min_hour <= 7, _.max_hour >= 15,\n",
    "                   _.mean_speed_mph < _.mean_speed_mph.quantile(.6),\n",
    "                   _.speed_variance)\n",
    "         >> arrange(-_.speed_variance)\n",
    "         >> head(20)\n",
    "        )\n",
    "except Exception as e:\n",
    "    pass\n",
    "    # print(e)\n",
    "## check that route has all-day span..."
   ]
  },
  {
   "cell_type": "code",
   "execution_count": 27,
   "id": "758b0bae-32d0-40dd-a1d1-1d107b0e7e8b",
   "metadata": {
    "execution": {
     "iopub.execute_input": "2022-04-22T02:53:53.448083Z",
     "iopub.status.busy": "2022-04-22T02:53:53.447500Z",
     "iopub.status.idle": "2022-04-22T02:53:53.455523Z",
     "shell.execute_reply": "2022-04-22T02:53:53.454864Z"
    },
    "jupyter": {
     "source_hidden": true
    },
    "papermill": {
     "duration": 0.034383,
     "end_time": "2022-04-22T02:53:53.457551",
     "exception": false,
     "start_time": "2022-04-22T02:53:53.423168",
     "status": "completed"
    },
    "tags": [
     "remove_input"
    ]
   },
   "outputs": [],
   "source": [
    "def map_from_metrics(rt_day, metrics_df):\n",
    "    try:\n",
    "        route_name = metrics_df.iloc[1,0]\n",
    "        direction_id = metrics_df.iloc[1,1]\n",
    "        # print(route_name, direction_id)\n",
    "    except Exception as e:\n",
    "        # print(e)\n",
    "        return\n",
    "    # route_name = '281'\n",
    "    # direction_id = '1'\n",
    "    rt_day.set_filter(start_time='06:00', end_time='09:00',\n",
    "                      route_names=[route_name], direction_id = direction_id)\n",
    "    try:\n",
    "        am_map = rt_day.segment_speed_map(how='low_speeds')\n",
    "        display(am_map)\n",
    "    except Exception as e:\n",
    "        # print(e)\n",
    "        pass\n",
    "    \n",
    "    rt_day.set_filter(start_time='10:00', end_time='14:00',\n",
    "                      route_names=[route_name], direction_id = direction_id)\n",
    "    try:\n",
    "        mid_map = rt_day.segment_speed_map(how='low_speeds')\n",
    "        display(mid_map)\n",
    "    except Exception as e:\n",
    "        # print(e)\n",
    "        pass\n",
    "\n",
    "    rt_day.set_filter(start_time='15:00', end_time='19:00',\n",
    "                      route_names=[route_name], direction_id = direction_id)\n",
    "    try:\n",
    "        pm_map = rt_day.segment_speed_map(how='low_speeds')\n",
    "        display(pm_map)\n",
    "    except Exception as e:\n",
    "        # print(e)\n",
    "        pass\n",
    "\n",
    "    return"
   ]
  },
  {
   "cell_type": "markdown",
   "id": "6ce187c8-c7bf-44f4-970e-b3abd69ddc38",
   "metadata": {
    "papermill": {
     "duration": 0.021794,
     "end_time": "2022-04-22T02:53:53.503212",
     "exception": false,
     "start_time": "2022-04-22T02:53:53.481418",
     "status": "completed"
    },
    "tags": []
   },
   "source": [
    "## Single-Route Detail Example"
   ]
  },
  {
   "cell_type": "code",
   "execution_count": 28,
   "id": "c7b4b043-6d15-4d9c-8aac-f0f6649e9552",
   "metadata": {
    "execution": {
     "iopub.execute_input": "2022-04-22T02:53:53.549558Z",
     "iopub.status.busy": "2022-04-22T02:53:53.549009Z",
     "iopub.status.idle": "2022-04-22T02:53:54.840632Z",
     "shell.execute_reply": "2022-04-22T02:53:54.839703Z"
    },
    "jupyter": {
     "source_hidden": true
    },
    "papermill": {
     "duration": 1.317653,
     "end_time": "2022-04-22T02:53:54.842981",
     "exception": false,
     "start_time": "2022-04-22T02:53:53.525328",
     "status": "completed"
    },
    "tags": [
     "remove_input"
    ]
   },
   "outputs": [],
   "source": [
    "try:\n",
    "    map_from_metrics(rt_day, metrics_df)\n",
    "except Exception as e:\n",
    "    # print(e)\n",
    "    pass"
   ]
  },
  {
   "cell_type": "code",
   "execution_count": null,
   "id": "a7d189cb-26d5-4a49-bf0f-2c33fd408f7e",
   "metadata": {
    "jupyter": {
     "source_hidden": true
    },
    "papermill": {
     "duration": 0.022207,
     "end_time": "2022-04-22T02:53:54.887868",
     "exception": false,
     "start_time": "2022-04-22T02:53:54.865661",
     "status": "completed"
    },
    "tags": [
     "remove_input"
    ]
   },
   "outputs": [],
   "source": []
  }
 ],
 "metadata": {
  "kernelspec": {
   "display_name": "Python 3 (ipykernel)",
   "language": "python",
   "name": "python3"
  },
  "language_info": {
   "codemirror_mode": {
    "name": "ipython",
    "version": 3
   },
   "file_extension": ".py",
   "mimetype": "text/x-python",
   "name": "python",
   "nbconvert_exporter": "python",
   "pygments_lexer": "ipython3",
   "version": "3.9.10"
  },
  "papermill": {
   "default_parameters": {},
   "duration": 32.03768,
   "end_time": "2022-04-22T02:53:56.436334",
   "environment_variables": {},
   "exception": null,
   "input_path": "rt_delay/speedmaps.ipynb",
   "output_path": "portfolio/rt/district_02-redding/speedmaps__itp_id_259.ipynb",
   "parameters": {
    "district": "02 - Redding",
    "itp_id": 259
   },
   "start_time": "2022-04-22T02:53:24.398654",
   "version": "2.3.4"
  }
 },
 "nbformat": 4,
 "nbformat_minor": 5
}