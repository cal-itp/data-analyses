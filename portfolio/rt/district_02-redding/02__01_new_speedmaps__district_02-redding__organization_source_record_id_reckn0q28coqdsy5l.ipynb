version https://git-lfs.github.com/spec/v1
oid sha256:9a5e94f74c83e5b3bb1b9946ff1db9a3ec25099041a668616298667ffcef842e
size 64072
