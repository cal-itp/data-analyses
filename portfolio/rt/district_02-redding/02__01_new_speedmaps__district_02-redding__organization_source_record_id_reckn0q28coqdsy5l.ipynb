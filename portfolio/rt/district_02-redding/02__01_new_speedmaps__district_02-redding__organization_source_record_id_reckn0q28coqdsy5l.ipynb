version https://git-lfs.github.com/spec/v1
oid sha256:899e21c3b2e87afbf8e8f3c62acc0ac7ffccaa4ec5fdbe92ea8714c49223e5ad
size 64169
