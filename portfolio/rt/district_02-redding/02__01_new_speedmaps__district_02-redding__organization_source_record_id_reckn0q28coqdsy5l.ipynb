version https://git-lfs.github.com/spec/v1
oid sha256:0397ca1f7b8d20192d8918acd5d3a532239d20cf0cfe9f48ba677ebe211b161b
size 57710
