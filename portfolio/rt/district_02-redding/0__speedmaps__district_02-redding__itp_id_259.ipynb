version https://git-lfs.github.com/spec/v1
oid sha256:fe141a327657d4eec272078e8683ec3926212cc169801048256b2150f7307fb5
size 69140
