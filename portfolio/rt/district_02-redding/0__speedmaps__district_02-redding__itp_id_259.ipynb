version https://git-lfs.github.com/spec/v1
oid sha256:bb142120122334c77d62fd9042b75af933668f50ff01db738e65081629a2b847
size 1753437
