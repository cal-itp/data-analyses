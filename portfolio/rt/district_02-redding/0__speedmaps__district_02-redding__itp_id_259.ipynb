version https://git-lfs.github.com/spec/v1
oid sha256:ebc6272598b932ea1c56a54393ba08139c2d06d8f0653f828b6d407c5bc1c0df
size 71036
