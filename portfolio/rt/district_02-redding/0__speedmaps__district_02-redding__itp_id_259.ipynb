version https://git-lfs.github.com/spec/v1
oid sha256:ccb668afaf73553ea34097a838815b476811a8859dad349bb7e23485f97ecbbb
size 74093
