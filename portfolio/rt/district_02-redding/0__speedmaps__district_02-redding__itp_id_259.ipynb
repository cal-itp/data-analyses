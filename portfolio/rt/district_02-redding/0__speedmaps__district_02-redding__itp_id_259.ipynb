version https://git-lfs.github.com/spec/v1
oid sha256:0f976424b57b900df77f7de398f9834a9b65d146d9c3ccdea80e4fcb29fd4746
size 1915981
