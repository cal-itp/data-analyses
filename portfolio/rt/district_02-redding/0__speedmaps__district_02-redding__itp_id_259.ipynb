version https://git-lfs.github.com/spec/v1
oid sha256:c22512a458f62d376bbd397da9cfb34af0f782ca7f360af319cc17f8c087eef4
size 28264530
