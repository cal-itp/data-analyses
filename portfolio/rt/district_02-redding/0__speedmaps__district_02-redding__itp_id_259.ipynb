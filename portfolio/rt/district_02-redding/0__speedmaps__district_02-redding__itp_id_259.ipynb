version https://git-lfs.github.com/spec/v1
oid sha256:68ec5db61c03459577be44c2d205c42500d127f231e68621c7a6007d5e84431b
size 1769624
