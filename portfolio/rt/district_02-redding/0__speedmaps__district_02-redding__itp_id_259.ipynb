version https://git-lfs.github.com/spec/v1
oid sha256:94f4afc8a46748a9d6cab9b639fb0d0538faaca8c2580f597fbe90a836471128
size 69456
