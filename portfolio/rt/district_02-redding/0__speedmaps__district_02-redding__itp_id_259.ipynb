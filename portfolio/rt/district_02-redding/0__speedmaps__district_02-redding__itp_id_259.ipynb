version https://git-lfs.github.com/spec/v1
oid sha256:63c130c1347ef1888c04d4c2cc911d40e2b478172ceac85ce5246000d634d4ad
size 1915978
