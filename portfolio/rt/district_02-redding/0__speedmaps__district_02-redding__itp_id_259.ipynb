version https://git-lfs.github.com/spec/v1
oid sha256:3de5b82e59e9c6123a3fa643e9527b6f3b4f4daefe689a503aee51b34f3dda9d
size 57230
