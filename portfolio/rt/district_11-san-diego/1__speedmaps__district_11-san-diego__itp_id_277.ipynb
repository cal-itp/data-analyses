version https://git-lfs.github.com/spec/v1
oid sha256:a5dad3a1386ae4b8416a4f9ca3111a31418f0442ffead91f540bb667e4fddc07
size 23771608
