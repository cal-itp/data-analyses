version https://git-lfs.github.com/spec/v1
oid sha256:34af38162b74d96fe72fb67b92f79d61fd0a34b8bad1b3bc94dd7e4805649315
size 26056482
