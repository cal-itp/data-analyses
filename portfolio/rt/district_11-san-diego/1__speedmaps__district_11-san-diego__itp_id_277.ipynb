version https://git-lfs.github.com/spec/v1
oid sha256:d46359b5547e414eb5e65a5329567e6c9a8a69a82694fd900e0419487037d56d
size 24519584
