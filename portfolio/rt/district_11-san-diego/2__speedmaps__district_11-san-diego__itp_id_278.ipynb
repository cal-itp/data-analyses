version https://git-lfs.github.com/spec/v1
oid sha256:49a0a0eb840bfec9ea428423d17fdcc05c086252dcc31e18754332e58e1e17a4
size 71040
