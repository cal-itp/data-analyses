version https://git-lfs.github.com/spec/v1
oid sha256:31110e82ff13b6b84539d09a86efda0523bc32d03ddf65d8a2d8bba50406adda
size 24169251
