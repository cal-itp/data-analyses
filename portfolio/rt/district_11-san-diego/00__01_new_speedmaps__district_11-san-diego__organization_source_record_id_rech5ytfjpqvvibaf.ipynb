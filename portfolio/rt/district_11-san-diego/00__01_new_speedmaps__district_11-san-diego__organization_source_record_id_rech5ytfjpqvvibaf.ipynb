version https://git-lfs.github.com/spec/v1
oid sha256:51d225a4de69b6f152836dbc037199a8d6eab24e58c48fd4b4a11647572d1fae
size 71778
