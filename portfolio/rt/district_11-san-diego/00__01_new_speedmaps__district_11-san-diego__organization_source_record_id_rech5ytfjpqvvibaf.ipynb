version https://git-lfs.github.com/spec/v1
oid sha256:fe7e7016811009bc98e792c29fe53c5d4d7c5dcaea632e67175c775c81d61bdd
size 63580
