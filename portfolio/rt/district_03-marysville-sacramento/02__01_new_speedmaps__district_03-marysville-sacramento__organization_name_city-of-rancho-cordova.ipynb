version https://git-lfs.github.com/spec/v1
oid sha256:e92601c383ac7e833833baf9505e982e1a1eb3cdd94377e97f861fc492bc1d10
size 66826
