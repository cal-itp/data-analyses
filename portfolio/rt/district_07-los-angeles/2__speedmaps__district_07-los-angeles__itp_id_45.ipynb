version https://git-lfs.github.com/spec/v1
oid sha256:b14ceca41db31562d73b93b1af8a52ebada431e039326df4713a5c77fdc552b8
size 69823
