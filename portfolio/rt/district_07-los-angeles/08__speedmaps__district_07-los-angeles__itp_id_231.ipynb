version https://git-lfs.github.com/spec/v1
oid sha256:cd12c59b797ca9485a1ef87929fd18f42dbf9a0a47df1bcef5d19d7d1ba40575
size 89601
