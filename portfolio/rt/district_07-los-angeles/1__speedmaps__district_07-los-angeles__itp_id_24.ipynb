version https://git-lfs.github.com/spec/v1
oid sha256:71287dda7a7ea55a4cd88a404544f22025d32c7d0d3956483659cf5f437a78c8
size 68476
