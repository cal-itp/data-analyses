version https://git-lfs.github.com/spec/v1
oid sha256:b02eee02838139f0c20130cb722360450520b0400d341a13420d7e6a012f7931
size 67826
