version https://git-lfs.github.com/spec/v1
oid sha256:1246a7a52fb860cb1dcfea3c13767788dc66cda296a69e91acf2dbb08d7ceaa8
size 1439256
