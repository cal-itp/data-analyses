version https://git-lfs.github.com/spec/v1
oid sha256:9ca580d54522e7b9f6a0cbfb70bbcaef2a34dea07c7e8bc8b60bb9a170d5ebc4
size 71094
