version https://git-lfs.github.com/spec/v1
oid sha256:8a8b74a3b9adc4e0d3d2420589e4a731ef0b3e2a30b968f1b09f7efeee54053d
size 1352390
