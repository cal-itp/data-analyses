version https://git-lfs.github.com/spec/v1
oid sha256:c3afc4d9ed8692a6b75f38db90cfa9c9e05ec3a2470d40155a0c6027bab840bc
size 63141
