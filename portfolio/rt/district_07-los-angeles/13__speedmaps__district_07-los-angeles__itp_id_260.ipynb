version https://git-lfs.github.com/spec/v1
oid sha256:445e2f0e56dfbb0bc142c7c87b21237e8ccf004457b36598b05ee2cbd6ec78ad
size 72500
