version https://git-lfs.github.com/spec/v1
oid sha256:b0500b9719138a899fc23ac291b5f579c40365ce9e5ff77c15c4678af65bbc7b
size 9072525
