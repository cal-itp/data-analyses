version https://git-lfs.github.com/spec/v1
oid sha256:80694cb3872806a0fd807276f566ded2473627f5b03ab552f6b55c0941491b94
size 70706
