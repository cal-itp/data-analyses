version https://git-lfs.github.com/spec/v1
oid sha256:1eed27b069ec40850209d48c5bebf97f65e25defa2ff79e03d802ac205f671e8
size 324750
