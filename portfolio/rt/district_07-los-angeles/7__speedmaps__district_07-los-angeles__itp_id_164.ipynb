version https://git-lfs.github.com/spec/v1
oid sha256:7aa34f1349fe67259b71097ef21d1e7cfd67009428dbc494b2d92c3b1aae9311
size 69304
