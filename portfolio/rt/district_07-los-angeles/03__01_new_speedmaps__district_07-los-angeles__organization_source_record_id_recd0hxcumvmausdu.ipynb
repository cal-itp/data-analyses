version https://git-lfs.github.com/spec/v1
oid sha256:7a5146ace70389fea2a7020ff93002c44f280baaf1eca9e294a7d662b6f14fee
size 60360
