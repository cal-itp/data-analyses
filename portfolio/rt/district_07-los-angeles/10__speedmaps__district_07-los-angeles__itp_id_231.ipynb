version https://git-lfs.github.com/spec/v1
oid sha256:defbf2d6ed38b9042ca1023194c38ff3baacef3467f268113495a9fd882cfbd1
size 80007
