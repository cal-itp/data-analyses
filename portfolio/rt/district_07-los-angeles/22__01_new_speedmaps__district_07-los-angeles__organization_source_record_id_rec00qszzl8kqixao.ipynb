version https://git-lfs.github.com/spec/v1
oid sha256:12082fa5e1fb1ce3df2390adb1942430f0079f917a108f688c61aa78d1a2e717
size 60382
