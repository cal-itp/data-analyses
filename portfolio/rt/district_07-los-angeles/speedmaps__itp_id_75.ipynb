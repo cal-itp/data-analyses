{
 "cells": [
  {
   "cell_type": "code",
   "execution_count": 1,
   "id": "46898b5c-b5cc-4096-ab68-8c3e42fab870",
   "metadata": {
    "execution": {
     "iopub.execute_input": "2022-04-22T03:43:31.373925Z",
     "iopub.status.busy": "2022-04-22T03:43:31.373554Z",
     "iopub.status.idle": "2022-04-22T03:43:40.065036Z",
     "shell.execute_reply": "2022-04-22T03:43:40.063991Z"
    },
    "jupyter": {
     "source_hidden": true
    },
    "papermill": {
     "duration": 8.717934,
     "end_time": "2022-04-22T03:43:40.070140",
     "exception": false,
     "start_time": "2022-04-22T03:43:31.352206",
     "status": "completed"
    },
    "tags": [
     "remove_input"
    ]
   },
   "outputs": [],
   "source": [
    "%%capture\n",
    "import warnings\n",
    "warnings.filterwarnings('ignore')\n",
    "\n",
    "import os\n",
    "os.environ[\"CALITP_BQ_MAX_BYTES\"] = str(800_000_000_000)\n",
    "import shared_utils\n",
    "import utils\n",
    "\n",
    "from calitp.tables import tbl\n",
    "from calitp import query_sql\n",
    "import calitp.magics\n",
    "\n",
    "from siuba import *\n",
    "import pandas as pd\n",
    "import geopandas as gpd\n",
    "\n",
    "import datetime as dt\n",
    "\n",
    "import importlib\n",
    "import rt_filter_map_plot\n",
    "\n",
    "from IPython.display import display, Markdown, Latex, HTML\n",
    "import json"
   ]
  },
  {
   "cell_type": "code",
   "execution_count": 2,
   "id": "9f15ed6a-5ab7-4f57-9695-3f762781b74c",
   "metadata": {
    "execution": {
     "iopub.execute_input": "2022-04-22T03:43:40.109621Z",
     "iopub.status.busy": "2022-04-22T03:43:40.108570Z",
     "iopub.status.idle": "2022-04-22T03:43:40.113641Z",
     "shell.execute_reply": "2022-04-22T03:43:40.112954Z"
    },
    "jupyter": {
     "source_hidden": true
    },
    "papermill": {
     "duration": 0.026826,
     "end_time": "2022-04-22T03:43:40.115598",
     "exception": false,
     "start_time": "2022-04-22T03:43:40.088772",
     "status": "completed"
    },
    "tags": [
     "parameters",
     "remove_input"
    ]
   },
   "outputs": [],
   "source": [
    "## parameters cell\n",
    "itp_id = 135"
   ]
  },
  {
   "cell_type": "code",
   "execution_count": 3,
   "id": "5e8d3101",
   "metadata": {
    "execution": {
     "iopub.execute_input": "2022-04-22T03:43:40.154606Z",
     "iopub.status.busy": "2022-04-22T03:43:40.153703Z",
     "iopub.status.idle": "2022-04-22T03:43:40.158334Z",
     "shell.execute_reply": "2022-04-22T03:43:40.157471Z"
    },
    "jupyter": {
     "source_hidden": true
    },
    "papermill": {
     "duration": 0.026305,
     "end_time": "2022-04-22T03:43:40.160236",
     "exception": false,
     "start_time": "2022-04-22T03:43:40.133931",
     "status": "completed"
    },
    "tags": [
     "injected-parameters",
     "remove_input"
    ]
   },
   "outputs": [],
   "source": [
    "# Parameters\n",
    "district = \"07 - Los Angeles\"\n",
    "itp_id = 75\n"
   ]
  },
  {
   "cell_type": "code",
   "execution_count": 4,
   "id": "6c2e9651-70e4-4403-b43d-da50315ef8fd",
   "metadata": {
    "execution": {
     "iopub.execute_input": "2022-04-22T03:43:40.204168Z",
     "iopub.status.busy": "2022-04-22T03:43:40.203857Z",
     "iopub.status.idle": "2022-04-22T03:43:41.854755Z",
     "shell.execute_reply": "2022-04-22T03:43:41.853686Z"
    },
    "jupyter": {
     "source_hidden": true
    },
    "papermill": {
     "duration": 1.672763,
     "end_time": "2022-04-22T03:43:41.857052",
     "exception": false,
     "start_time": "2022-04-22T03:43:40.184289",
     "status": "completed"
    },
    "tags": [
     "remove_input"
    ]
   },
   "outputs": [],
   "source": [
    "airtable_organizations = (\n",
    "    tbl.airtable.california_transit_organizations()\n",
    "    >> select(_.itp_id, _.name, _.caltrans_district,\n",
    "              _.website, _.ntp_id, _.drmt_organization_name)\n",
    "    >> filter(_.itp_id == itp_id)\n",
    "    >> collect()\n",
    ")"
   ]
  },
  {
   "cell_type": "code",
   "execution_count": 5,
   "id": "cc9c7000-4042-4f64-b7ef-8e8e5f1e706a",
   "metadata": {
    "execution": {
     "iopub.execute_input": "2022-04-22T03:43:41.896418Z",
     "iopub.status.busy": "2022-04-22T03:43:41.896135Z",
     "iopub.status.idle": "2022-04-22T03:43:41.901496Z",
     "shell.execute_reply": "2022-04-22T03:43:41.900626Z"
    },
    "jupyter": {
     "source_hidden": true
    },
    "papermill": {
     "duration": 0.027329,
     "end_time": "2022-04-22T03:43:41.903512",
     "exception": false,
     "start_time": "2022-04-22T03:43:41.876183",
     "status": "completed"
    },
    "tags": [
     "remove_input"
    ]
   },
   "outputs": [],
   "source": [
    "# airtable_organizations"
   ]
  },
  {
   "cell_type": "code",
   "execution_count": 6,
   "id": "306a7053-3fab-4723-a287-111e4eba11f2",
   "metadata": {
    "execution": {
     "iopub.execute_input": "2022-04-22T03:43:41.943430Z",
     "iopub.status.busy": "2022-04-22T03:43:41.943138Z",
     "iopub.status.idle": "2022-04-22T03:43:41.947914Z",
     "shell.execute_reply": "2022-04-22T03:43:41.946950Z"
    },
    "jupyter": {
     "source_hidden": true
    },
    "papermill": {
     "duration": 0.029414,
     "end_time": "2022-04-22T03:43:41.950958",
     "exception": false,
     "start_time": "2022-04-22T03:43:41.921544",
     "status": "completed"
    },
    "tags": [
     "remove_input"
    ]
   },
   "outputs": [],
   "source": [
    "analysis_date = dt.date(2022, 3, 30)\n",
    "if itp_id == 273:\n",
    "    analysis_date = dt.date(2022, 2, 8) # #override for SacRT "
   ]
  },
  {
   "cell_type": "code",
   "execution_count": 7,
   "id": "47c79d99-c82f-4e1e-b11e-2b1e83c13a1b",
   "metadata": {
    "execution": {
     "iopub.execute_input": "2022-04-22T03:43:41.991232Z",
     "iopub.status.busy": "2022-04-22T03:43:41.990777Z",
     "iopub.status.idle": "2022-04-22T03:43:41.995263Z",
     "shell.execute_reply": "2022-04-22T03:43:41.994422Z"
    },
    "jupyter": {
     "source_hidden": true
    },
    "papermill": {
     "duration": 0.027603,
     "end_time": "2022-04-22T03:43:41.997113",
     "exception": false,
     "start_time": "2022-04-22T03:43:41.969510",
     "status": "completed"
    },
    "tags": [
     "remove_input"
    ]
   },
   "outputs": [],
   "source": [
    "month_day = analysis_date.strftime('%m_%d')"
   ]
  },
  {
   "cell_type": "code",
   "execution_count": 8,
   "id": "1739d979-cd4d-456c-a1ad-a016cbf69cad",
   "metadata": {
    "execution": {
     "iopub.execute_input": "2022-04-22T03:43:42.034763Z",
     "iopub.status.busy": "2022-04-22T03:43:42.034187Z",
     "iopub.status.idle": "2022-04-22T03:43:42.398847Z",
     "shell.execute_reply": "2022-04-22T03:43:42.397867Z"
    },
    "jupyter": {
     "source_hidden": true
    },
    "papermill": {
     "duration": 0.386079,
     "end_time": "2022-04-22T03:43:42.401181",
     "exception": false,
     "start_time": "2022-04-22T03:43:42.015102",
     "status": "completed"
    },
    "tags": [
     "remove_input"
    ]
   },
   "outputs": [],
   "source": [
    "trips = pd.read_parquet(f'{utils.GCS_FILE_PATH}rt_trips/{itp_id}_{month_day}.parquet')"
   ]
  },
  {
   "cell_type": "code",
   "execution_count": 9,
   "id": "b77a9167-4017-4367-8fed-d4e6bf3999b9",
   "metadata": {
    "execution": {
     "iopub.execute_input": "2022-04-22T03:43:42.439905Z",
     "iopub.status.busy": "2022-04-22T03:43:42.438928Z",
     "iopub.status.idle": "2022-04-22T03:43:42.823506Z",
     "shell.execute_reply": "2022-04-22T03:43:42.822502Z"
    },
    "jupyter": {
     "source_hidden": true
    },
    "papermill": {
     "duration": 0.406274,
     "end_time": "2022-04-22T03:43:42.826254",
     "exception": false,
     "start_time": "2022-04-22T03:43:42.419980",
     "status": "completed"
    },
    "tags": [
     "remove_input"
    ]
   },
   "outputs": [],
   "source": [
    "stop_delay = gpd.read_parquet(f'{utils.GCS_FILE_PATH}stop_delay_views/{itp_id}_{month_day}.parquet')\n",
    "stop_delay['arrival_time'] = stop_delay.arrival_time.map(lambda x: dt.datetime.fromisoformat(x))\n",
    "stop_delay['actual_time'] = stop_delay.actual_time.map(lambda x: dt.datetime.fromisoformat(x))"
   ]
  },
  {
   "cell_type": "code",
   "execution_count": 10,
   "id": "2b2fe439-10af-4140-ab83-69b05c385b40",
   "metadata": {
    "execution": {
     "iopub.execute_input": "2022-04-22T03:43:42.869702Z",
     "iopub.status.busy": "2022-04-22T03:43:42.869140Z",
     "iopub.status.idle": "2022-04-22T03:43:45.416557Z",
     "shell.execute_reply": "2022-04-22T03:43:45.415312Z"
    },
    "jupyter": {
     "source_hidden": true
    },
    "papermill": {
     "duration": 2.573291,
     "end_time": "2022-04-22T03:43:45.419683",
     "exception": false,
     "start_time": "2022-04-22T03:43:42.846392",
     "status": "completed"
    },
    "tags": [
     "remove_input"
    ]
   },
   "outputs": [],
   "source": [
    "%%capture\n",
    "routelines = utils.get_routelines(itp_id, analysis_date)"
   ]
  },
  {
   "cell_type": "code",
   "execution_count": 11,
   "id": "e4cbefc6-9bbb-4989-85b7-1f31da17fcb8",
   "metadata": {
    "execution": {
     "iopub.execute_input": "2022-04-22T03:43:45.470261Z",
     "iopub.status.busy": "2022-04-22T03:43:45.469963Z",
     "iopub.status.idle": "2022-04-22T03:43:45.762830Z",
     "shell.execute_reply": "2022-04-22T03:43:45.761879Z"
    },
    "jupyter": {
     "source_hidden": true
    },
    "papermill": {
     "duration": 0.328183,
     "end_time": "2022-04-22T03:43:45.765997",
     "exception": false,
     "start_time": "2022-04-22T03:43:45.437814",
     "status": "completed"
    },
    "tags": [
     "remove_input"
    ]
   },
   "outputs": [],
   "source": [
    "%%capture\n",
    "rt_day = rt_filter_map_plot.RtFilterMapper(trips, stop_delay, routelines)"
   ]
  },
  {
   "cell_type": "code",
   "execution_count": 12,
   "id": "6c335d40-7a7b-4641-8a3d-c970b2823cdf",
   "metadata": {
    "execution": {
     "iopub.execute_input": "2022-04-22T03:43:45.830642Z",
     "iopub.status.busy": "2022-04-22T03:43:45.829801Z",
     "iopub.status.idle": "2022-04-22T03:43:45.836317Z",
     "shell.execute_reply": "2022-04-22T03:43:45.835432Z"
    },
    "jupyter": {
     "source_hidden": true
    },
    "papermill": {
     "duration": 0.033013,
     "end_time": "2022-04-22T03:43:45.838356",
     "exception": false,
     "start_time": "2022-04-22T03:43:45.805343",
     "status": "completed"
    },
    "tags": [
     "remove_input"
    ]
   },
   "outputs": [],
   "source": [
    "%%capture_parameters\n",
    "agency_name = rt_day.calitp_agency_name\n",
    "district = airtable_organizations.caltrans_district.iloc[0]\n",
    "agency_name, district"
   ]
  },
  {
   "cell_type": "markdown",
   "id": "52110155-d104-4043-8376-3f83e82a959a",
   "metadata": {
    "papermill": {
     "duration": 0.020828,
     "end_time": "2022-04-22T03:43:45.878873",
     "exception": false,
     "start_time": "2022-04-22T03:43:45.858045",
     "status": "completed"
    },
    "tags": []
   },
   "source": [
    "# Commerce Municipal Bus Lines"
   ]
  },
  {
   "cell_type": "markdown",
   "id": "7d5572cd-dd67-4e26-b100-a0e7472a4a17",
   "metadata": {
    "papermill": {
     "duration": 0.023278,
     "end_time": "2022-04-22T03:43:45.921390",
     "exception": false,
     "start_time": "2022-04-22T03:43:45.898112",
     "status": "completed"
    },
    "tags": []
   },
   "source": [
    "## About These Maps:\n",
    "\n",
    "* Each map shows bus (and rail, if applicable) speeds for Commerce Municipal Bus Lines, with a map each for the morning peak, midday, and afternoon peak periods.\n",
    "* On the map, routes are split into segments corresponding to the distance between two stops, allowing you to focus on specific portions of the route experiencing a slowdown.\n",
    "* Route segments are arrow-shaped to indicate direction of travel.\n",
    "* Hover over, or click, a segment with your mouse to see the exact speed, route name, and transit service frequency in that segment. \n",
    "    * Higher-frequency routes (3+ trips per hour) are especially important, since those slowdowns correspond to more vehicles, and riders, delayed in traffic."
   ]
  },
  {
   "cell_type": "code",
   "execution_count": 13,
   "id": "8e940d3d-c76e-42ba-be8b-739852771ca6",
   "metadata": {
    "execution": {
     "iopub.execute_input": "2022-04-22T03:43:45.963333Z",
     "iopub.status.busy": "2022-04-22T03:43:45.962949Z",
     "iopub.status.idle": "2022-04-22T03:43:45.967364Z",
     "shell.execute_reply": "2022-04-22T03:43:45.966483Z"
    },
    "jupyter": {
     "source_hidden": true
    },
    "papermill": {
     "duration": 0.0274,
     "end_time": "2022-04-22T03:43:45.969383",
     "exception": false,
     "start_time": "2022-04-22T03:43:45.941983",
     "status": "completed"
    },
    "tags": [
     "remove_input"
    ]
   },
   "outputs": [],
   "source": [
    "## avoid papermill errors when map fails to render\n",
    "m = None"
   ]
  },
  {
   "cell_type": "markdown",
   "id": "74fce4a9-514f-405d-9ce0-1cb1998a696b",
   "metadata": {
    "papermill": {
     "duration": 0.019506,
     "end_time": "2022-04-22T03:43:46.009500",
     "exception": false,
     "start_time": "2022-04-22T03:43:45.989994",
     "status": "completed"
    },
    "tags": []
   },
   "source": [
    "## Morning Peak"
   ]
  },
  {
   "cell_type": "code",
   "execution_count": 14,
   "id": "533a64f4-f374-4f2c-94d3-5146ebe7c036",
   "metadata": {
    "execution": {
     "iopub.execute_input": "2022-04-22T03:43:46.050062Z",
     "iopub.status.busy": "2022-04-22T03:43:46.049695Z",
     "iopub.status.idle": "2022-04-22T03:43:46.056779Z",
     "shell.execute_reply": "2022-04-22T03:43:46.055659Z"
    },
    "jupyter": {
     "source_hidden": true
    },
    "papermill": {
     "duration": 0.031552,
     "end_time": "2022-04-22T03:43:46.059987",
     "exception": false,
     "start_time": "2022-04-22T03:43:46.028435",
     "status": "completed"
    },
    "tags": [
     "remove_input"
    ]
   },
   "outputs": [],
   "source": [
    "%%capture\n",
    "rt_day.set_filter(start_time='06:00', end_time='09:00')"
   ]
  },
  {
   "cell_type": "code",
   "execution_count": 15,
   "id": "2f317120-99ee-435b-96cd-1236b8ee2e0b",
   "metadata": {
    "execution": {
     "iopub.execute_input": "2022-04-22T03:43:46.104746Z",
     "iopub.status.busy": "2022-04-22T03:43:46.104430Z",
     "iopub.status.idle": "2022-04-22T03:43:49.458459Z",
     "shell.execute_reply": "2022-04-22T03:43:49.457579Z"
    },
    "jupyter": {
     "source_hidden": true
    },
    "papermill": {
     "duration": 3.377171,
     "end_time": "2022-04-22T03:43:49.460662",
     "exception": false,
     "start_time": "2022-04-22T03:43:46.083491",
     "status": "completed"
    },
    "tags": [
     "remove_input"
    ]
   },
   "outputs": [],
   "source": [
    "%%capture\n",
    "m = rt_day.segment_speed_map(how='low_speeds', no_title=True)"
   ]
  },
  {
   "cell_type": "code",
   "execution_count": 16,
   "id": "275087be-b46d-4acb-95fe-2dc98c2089a2",
   "metadata": {
    "execution": {
     "iopub.execute_input": "2022-04-22T03:43:49.505573Z",
     "iopub.status.busy": "2022-04-22T03:43:49.505293Z",
     "iopub.status.idle": "2022-04-22T03:43:49.513220Z",
     "shell.execute_reply": "2022-04-22T03:43:49.512233Z"
    },
    "jupyter": {
     "source_hidden": true
    },
    "papermill": {
     "duration": 0.033466,
     "end_time": "2022-04-22T03:43:49.515512",
     "exception": false,
     "start_time": "2022-04-22T03:43:49.482046",
     "status": "completed"
    },
    "tags": [
     "remove_input"
    ]
   },
   "outputs": [],
   "source": [
    "m"
   ]
  },
  {
   "cell_type": "code",
   "execution_count": 17,
   "id": "b0cf9b97-7485-4f36-b5e8-124f22fa9661",
   "metadata": {
    "execution": {
     "iopub.execute_input": "2022-04-22T03:43:49.556667Z",
     "iopub.status.busy": "2022-04-22T03:43:49.556387Z",
     "iopub.status.idle": "2022-04-22T03:43:49.600822Z",
     "shell.execute_reply": "2022-04-22T03:43:49.599790Z"
    },
    "jupyter": {
     "source_hidden": true
    },
    "papermill": {
     "duration": 0.068389,
     "end_time": "2022-04-22T03:43:49.603054",
     "exception": false,
     "start_time": "2022-04-22T03:43:49.534665",
     "status": "completed"
    },
    "tags": [
     "remove_input"
    ]
   },
   "outputs": [
    {
     "data": {
      "text/markdown": [
       "AM Peak most delayed routes: \n",
       " * 300, 300 (Yellow Route), Southbound: 10.0 minutes late on average\n",
       " * 200, Orange Route(200), Northbound: 1.0 minutes late on average\n",
       " * 100, Green Route (100), Northbound: 0.0 minutes late on average\n",
       " * 400, Red Route(400), Westbound: 0.0 minutes late on average"
      ],
      "text/plain": [
       "<IPython.core.display.Markdown object>"
      ]
     },
     "metadata": {},
     "output_type": "display_data"
    }
   ],
   "source": [
    "rt_day.describe_delayed_routes()"
   ]
  },
  {
   "cell_type": "markdown",
   "id": "3d263ba2-49ae-4e02-9d06-3181b03f51ba",
   "metadata": {
    "papermill": {
     "duration": 0.020234,
     "end_time": "2022-04-22T03:43:49.642937",
     "exception": false,
     "start_time": "2022-04-22T03:43:49.622703",
     "status": "completed"
    },
    "tags": []
   },
   "source": [
    "## Midday"
   ]
  },
  {
   "cell_type": "code",
   "execution_count": 18,
   "id": "f5344e63-89d2-43d6-9783-55a3061c99d2",
   "metadata": {
    "execution": {
     "iopub.execute_input": "2022-04-22T03:43:49.692213Z",
     "iopub.status.busy": "2022-04-22T03:43:49.691906Z",
     "iopub.status.idle": "2022-04-22T03:43:49.698394Z",
     "shell.execute_reply": "2022-04-22T03:43:49.697823Z"
    },
    "jupyter": {
     "source_hidden": true
    },
    "papermill": {
     "duration": 0.037091,
     "end_time": "2022-04-22T03:43:49.700284",
     "exception": false,
     "start_time": "2022-04-22T03:43:49.663193",
     "status": "completed"
    },
    "tags": [
     "remove_input"
    ]
   },
   "outputs": [],
   "source": [
    "%%capture\n",
    "rt_day.set_filter(start_time='10:00', end_time='14:00')"
   ]
  },
  {
   "cell_type": "code",
   "execution_count": 19,
   "id": "a4c40f3c-cf35-45d5-9d87-aa4701bed3aa",
   "metadata": {
    "execution": {
     "iopub.execute_input": "2022-04-22T03:43:49.742921Z",
     "iopub.status.busy": "2022-04-22T03:43:49.742118Z",
     "iopub.status.idle": "2022-04-22T03:43:51.771048Z",
     "shell.execute_reply": "2022-04-22T03:43:51.770106Z"
    },
    "jupyter": {
     "source_hidden": true
    },
    "papermill": {
     "duration": 2.053126,
     "end_time": "2022-04-22T03:43:51.773256",
     "exception": false,
     "start_time": "2022-04-22T03:43:49.720130",
     "status": "completed"
    },
    "tags": [
     "remove_input"
    ]
   },
   "outputs": [],
   "source": [
    "%%capture\n",
    "m = rt_day.segment_speed_map(how='low_speeds', no_title=True)"
   ]
  },
  {
   "cell_type": "code",
   "execution_count": 20,
   "id": "a78b7db5-f43f-4bf1-8036-ae972a87fc53",
   "metadata": {
    "execution": {
     "iopub.execute_input": "2022-04-22T03:43:51.818323Z",
     "iopub.status.busy": "2022-04-22T03:43:51.817381Z",
     "iopub.status.idle": "2022-04-22T03:43:51.821940Z",
     "shell.execute_reply": "2022-04-22T03:43:51.821218Z"
    },
    "jupyter": {
     "source_hidden": true
    },
    "papermill": {
     "duration": 0.028342,
     "end_time": "2022-04-22T03:43:51.823930",
     "exception": false,
     "start_time": "2022-04-22T03:43:51.795588",
     "status": "completed"
    },
    "tags": [
     "remove_input"
    ]
   },
   "outputs": [],
   "source": [
    "m"
   ]
  },
  {
   "cell_type": "code",
   "execution_count": 21,
   "id": "6c745570-b50f-4722-b943-2176444f7af6",
   "metadata": {
    "execution": {
     "iopub.execute_input": "2022-04-22T03:43:51.867388Z",
     "iopub.status.busy": "2022-04-22T03:43:51.867104Z",
     "iopub.status.idle": "2022-04-22T03:43:51.907902Z",
     "shell.execute_reply": "2022-04-22T03:43:51.906974Z"
    },
    "jupyter": {
     "source_hidden": true
    },
    "papermill": {
     "duration": 0.06589,
     "end_time": "2022-04-22T03:43:51.910381",
     "exception": false,
     "start_time": "2022-04-22T03:43:51.844491",
     "status": "completed"
    },
    "tags": [
     "remove_input"
    ]
   },
   "outputs": [
    {
     "data": {
      "text/markdown": [
       "Midday most delayed routes: \n",
       " * 300, 300 (Yellow Route), Southbound: 5.0 minutes late on average\n",
       " * 100, Green Route (100), Northbound: 2.0 minutes late on average\n",
       " * 600, Citadel Outlets Express(600), Southbound: 2.0 minutes late on average\n",
       " * 400, Red Route(400), Westbound: 1.0 minutes late on average\n",
       " * 200, Orange Route(200), Northbound: 0.0 minutes late on average"
      ],
      "text/plain": [
       "<IPython.core.display.Markdown object>"
      ]
     },
     "metadata": {},
     "output_type": "display_data"
    }
   ],
   "source": [
    "rt_day.describe_delayed_routes()"
   ]
  },
  {
   "cell_type": "markdown",
   "id": "704f0788-b4a8-497d-b2aa-c7ac6df939f4",
   "metadata": {
    "papermill": {
     "duration": 0.022258,
     "end_time": "2022-04-22T03:43:51.957422",
     "exception": false,
     "start_time": "2022-04-22T03:43:51.935164",
     "status": "completed"
    },
    "tags": []
   },
   "source": [
    "## Afternoon Peak"
   ]
  },
  {
   "cell_type": "code",
   "execution_count": 22,
   "id": "923f1462-b34a-42d2-a632-c5eb3ac16ac6",
   "metadata": {
    "execution": {
     "iopub.execute_input": "2022-04-22T03:43:52.024914Z",
     "iopub.status.busy": "2022-04-22T03:43:52.024483Z",
     "iopub.status.idle": "2022-04-22T03:43:52.034543Z",
     "shell.execute_reply": "2022-04-22T03:43:52.033471Z"
    },
    "jupyter": {
     "source_hidden": true
    },
    "papermill": {
     "duration": 0.053348,
     "end_time": "2022-04-22T03:43:52.037701",
     "exception": false,
     "start_time": "2022-04-22T03:43:51.984353",
     "status": "completed"
    },
    "tags": [
     "remove_input"
    ]
   },
   "outputs": [],
   "source": [
    "%%capture\n",
    "rt_day.set_filter(start_time='15:00', end_time='19:00')"
   ]
  },
  {
   "cell_type": "code",
   "execution_count": 23,
   "id": "5e46b095-7bc2-4552-a37b-661d076b2b51",
   "metadata": {
    "execution": {
     "iopub.execute_input": "2022-04-22T03:43:52.117936Z",
     "iopub.status.busy": "2022-04-22T03:43:52.116773Z",
     "iopub.status.idle": "2022-04-22T03:43:54.053384Z",
     "shell.execute_reply": "2022-04-22T03:43:54.052779Z"
    },
    "jupyter": {
     "source_hidden": true
    },
    "papermill": {
     "duration": 1.97231,
     "end_time": "2022-04-22T03:43:54.055240",
     "exception": false,
     "start_time": "2022-04-22T03:43:52.082930",
     "status": "completed"
    },
    "tags": [
     "remove_input"
    ]
   },
   "outputs": [],
   "source": [
    "%%capture\n",
    "m = rt_day.segment_speed_map(how='low_speeds', no_title=True)"
   ]
  },
  {
   "cell_type": "code",
   "execution_count": 24,
   "id": "0393f107-e9fe-4982-961a-032f7bf4e0eb",
   "metadata": {
    "execution": {
     "iopub.execute_input": "2022-04-22T03:43:54.108459Z",
     "iopub.status.busy": "2022-04-22T03:43:54.108160Z",
     "iopub.status.idle": "2022-04-22T03:43:54.113051Z",
     "shell.execute_reply": "2022-04-22T03:43:54.112057Z"
    },
    "jupyter": {
     "source_hidden": true
    },
    "papermill": {
     "duration": 0.039136,
     "end_time": "2022-04-22T03:43:54.115421",
     "exception": false,
     "start_time": "2022-04-22T03:43:54.076285",
     "status": "completed"
    },
    "tags": [
     "remove_input"
    ]
   },
   "outputs": [],
   "source": [
    "m"
   ]
  },
  {
   "cell_type": "code",
   "execution_count": 25,
   "id": "76580953-2a2b-4295-a41c-20442eae883e",
   "metadata": {
    "execution": {
     "iopub.execute_input": "2022-04-22T03:43:54.167992Z",
     "iopub.status.busy": "2022-04-22T03:43:54.167314Z",
     "iopub.status.idle": "2022-04-22T03:43:54.200956Z",
     "shell.execute_reply": "2022-04-22T03:43:54.200172Z"
    },
    "jupyter": {
     "source_hidden": true
    },
    "papermill": {
     "duration": 0.064883,
     "end_time": "2022-04-22T03:43:54.202863",
     "exception": false,
     "start_time": "2022-04-22T03:43:54.137980",
     "status": "completed"
    },
    "tags": [
     "remove_input"
    ]
   },
   "outputs": [
    {
     "data": {
      "text/markdown": [
       "PM Peak most delayed routes: \n",
       " * 100, Green Route (100), Northbound: 8.0 minutes late on average\n",
       " * 200, Orange Route(200), Northbound: 5.0 minutes late on average\n",
       " * 400, Red Route(400), Westbound: 0.0 minutes late on average\n",
       " * 600, Citadel Outlets Express(600), Southbound: 0.0 minutes late on average"
      ],
      "text/plain": [
       "<IPython.core.display.Markdown object>"
      ]
     },
     "metadata": {},
     "output_type": "display_data"
    }
   ],
   "source": [
    "rt_day.describe_delayed_routes()"
   ]
  },
  {
   "cell_type": "code",
   "execution_count": 26,
   "id": "91874f76-635b-4fde-8d61-abc795aca6c6",
   "metadata": {
    "execution": {
     "iopub.execute_input": "2022-04-22T03:43:54.256254Z",
     "iopub.status.busy": "2022-04-22T03:43:54.255612Z",
     "iopub.status.idle": "2022-04-22T03:43:54.279800Z",
     "shell.execute_reply": "2022-04-22T03:43:54.278832Z"
    },
    "jupyter": {
     "source_hidden": true
    },
    "papermill": {
     "duration": 0.056859,
     "end_time": "2022-04-22T03:43:54.282023",
     "exception": false,
     "start_time": "2022-04-22T03:43:54.225164",
     "status": "completed"
    },
    "tags": [
     "remove_input"
    ]
   },
   "outputs": [],
   "source": [
    "try:\n",
    "    metrics_df = (rt_day.rt_trips\n",
    "         >> group_by(_.route_short_name, _.direction_id)\n",
    "         >> summarize(speed_variance = _.mean_speed_mph.var(),\n",
    "                     mean_speed_mph = _.mean_speed_mph.mean(),\n",
    "                     min_hour = _.median_time.min().hour,\n",
    "                     max_hour = _.median_time.max().hour)\n",
    "         >> filter(_.min_hour <= 7, _.max_hour >= 15,\n",
    "                   _.mean_speed_mph < _.mean_speed_mph.quantile(.6),\n",
    "                   _.speed_variance)\n",
    "         >> arrange(-_.speed_variance)\n",
    "         >> head(20)\n",
    "        )\n",
    "except Exception as e:\n",
    "    pass\n",
    "    # print(e)\n",
    "## check that route has all-day span..."
   ]
  },
  {
   "cell_type": "code",
   "execution_count": 27,
   "id": "758b0bae-32d0-40dd-a1d1-1d107b0e7e8b",
   "metadata": {
    "execution": {
     "iopub.execute_input": "2022-04-22T03:43:54.329268Z",
     "iopub.status.busy": "2022-04-22T03:43:54.328666Z",
     "iopub.status.idle": "2022-04-22T03:43:54.336848Z",
     "shell.execute_reply": "2022-04-22T03:43:54.336194Z"
    },
    "jupyter": {
     "source_hidden": true
    },
    "papermill": {
     "duration": 0.034646,
     "end_time": "2022-04-22T03:43:54.338922",
     "exception": false,
     "start_time": "2022-04-22T03:43:54.304276",
     "status": "completed"
    },
    "tags": [
     "remove_input"
    ]
   },
   "outputs": [],
   "source": [
    "def map_from_metrics(rt_day, metrics_df):\n",
    "    try:\n",
    "        route_name = metrics_df.iloc[1,0]\n",
    "        direction_id = metrics_df.iloc[1,1]\n",
    "        # print(route_name, direction_id)\n",
    "    except Exception as e:\n",
    "        # print(e)\n",
    "        return\n",
    "    # route_name = '281'\n",
    "    # direction_id = '1'\n",
    "    rt_day.set_filter(start_time='06:00', end_time='09:00',\n",
    "                      route_names=[route_name], direction_id = direction_id)\n",
    "    try:\n",
    "        am_map = rt_day.segment_speed_map(how='low_speeds')\n",
    "        display(am_map)\n",
    "    except Exception as e:\n",
    "        # print(e)\n",
    "        pass\n",
    "    \n",
    "    rt_day.set_filter(start_time='10:00', end_time='14:00',\n",
    "                      route_names=[route_name], direction_id = direction_id)\n",
    "    try:\n",
    "        mid_map = rt_day.segment_speed_map(how='low_speeds')\n",
    "        display(mid_map)\n",
    "    except Exception as e:\n",
    "        # print(e)\n",
    "        pass\n",
    "\n",
    "    rt_day.set_filter(start_time='15:00', end_time='19:00',\n",
    "                      route_names=[route_name], direction_id = direction_id)\n",
    "    try:\n",
    "        pm_map = rt_day.segment_speed_map(how='low_speeds')\n",
    "        display(pm_map)\n",
    "    except Exception as e:\n",
    "        # print(e)\n",
    "        pass\n",
    "\n",
    "    return"
   ]
  },
  {
   "cell_type": "markdown",
   "id": "6ce187c8-c7bf-44f4-970e-b3abd69ddc38",
   "metadata": {
    "papermill": {
     "duration": 0.022347,
     "end_time": "2022-04-22T03:43:54.384031",
     "exception": false,
     "start_time": "2022-04-22T03:43:54.361684",
     "status": "completed"
    },
    "tags": []
   },
   "source": [
    "## Single-Route Detail Example"
   ]
  },
  {
   "cell_type": "code",
   "execution_count": 28,
   "id": "c7b4b043-6d15-4d9c-8aac-f0f6649e9552",
   "metadata": {
    "execution": {
     "iopub.execute_input": "2022-04-22T03:43:54.431146Z",
     "iopub.status.busy": "2022-04-22T03:43:54.430296Z",
     "iopub.status.idle": "2022-04-22T03:43:55.670024Z",
     "shell.execute_reply": "2022-04-22T03:43:55.668915Z"
    },
    "jupyter": {
     "source_hidden": true
    },
    "papermill": {
     "duration": 1.266222,
     "end_time": "2022-04-22T03:43:55.672465",
     "exception": false,
     "start_time": "2022-04-22T03:43:54.406243",
     "status": "completed"
    },
    "tags": [
     "remove_input"
    ]
   },
   "outputs": [],
   "source": [
    "try:\n",
    "    map_from_metrics(rt_day, metrics_df)\n",
    "except Exception as e:\n",
    "    # print(e)\n",
    "    pass"
   ]
  },
  {
   "cell_type": "code",
   "execution_count": null,
   "id": "a7d189cb-26d5-4a49-bf0f-2c33fd408f7e",
   "metadata": {
    "jupyter": {
     "source_hidden": true
    },
    "papermill": {
     "duration": 0.022022,
     "end_time": "2022-04-22T03:43:55.716360",
     "exception": false,
     "start_time": "2022-04-22T03:43:55.694338",
     "status": "completed"
    },
    "tags": [
     "remove_input"
    ]
   },
   "outputs": [],
   "source": []
  }
 ],
 "metadata": {
  "kernelspec": {
   "display_name": "Python 3 (ipykernel)",
   "language": "python",
   "name": "python3"
  },
  "language_info": {
   "codemirror_mode": {
    "name": "ipython",
    "version": 3
   },
   "file_extension": ".py",
   "mimetype": "text/x-python",
   "name": "python",
   "nbconvert_exporter": "python",
   "pygments_lexer": "ipython3",
   "version": "3.9.10"
  },
  "papermill": {
   "default_parameters": {},
   "duration": 26.986392,
   "end_time": "2022-04-22T03:43:57.166698",
   "environment_variables": {},
   "exception": null,
   "input_path": "rt_delay/speedmaps.ipynb",
   "output_path": "portfolio/rt/district_07-los-angeles/speedmaps__itp_id_75.ipynb",
   "parameters": {
    "district": "07 - Los Angeles",
    "itp_id": 75
   },
   "start_time": "2022-04-22T03:43:30.180306",
   "version": "2.3.4"
  }
 },
 "nbformat": 4,
 "nbformat_minor": 5
}