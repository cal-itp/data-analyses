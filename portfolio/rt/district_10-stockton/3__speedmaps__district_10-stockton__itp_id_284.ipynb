version https://git-lfs.github.com/spec/v1
oid sha256:6f36b3e8ea2ecfc93aa2e61e00c6c4b3f704212f71687886e5ad2e11828b55b4
size 71687
