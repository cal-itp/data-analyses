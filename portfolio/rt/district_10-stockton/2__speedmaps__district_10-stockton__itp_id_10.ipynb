version https://git-lfs.github.com/spec/v1
oid sha256:07138471e3781a8003c0a0ac87415a95f252171c8f6fa6ce3ac601c8769208df
size 68058
