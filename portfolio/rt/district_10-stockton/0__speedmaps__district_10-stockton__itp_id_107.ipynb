version https://git-lfs.github.com/spec/v1
oid sha256:6c7ea1894994382b7da7f2a6444f4adf6345a42fd3b557f439dcbf927bfbe71e
size 67303
