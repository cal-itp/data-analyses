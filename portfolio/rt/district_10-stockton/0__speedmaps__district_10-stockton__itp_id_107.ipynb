version https://git-lfs.github.com/spec/v1
oid sha256:2960a19146fc6e14316df1a1db124c91fbe68ffba3e349061403d43a4ab4251a
size 67859
