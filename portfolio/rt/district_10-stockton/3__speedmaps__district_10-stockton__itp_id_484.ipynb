version https://git-lfs.github.com/spec/v1
oid sha256:26ca4555fb4e68f69157ceb5d9c3c4c0e6f675a5727ef1b3683a83d6acc76abe
size 71473
