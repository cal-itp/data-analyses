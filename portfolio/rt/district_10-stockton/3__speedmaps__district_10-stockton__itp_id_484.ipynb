version https://git-lfs.github.com/spec/v1
oid sha256:81dc6fd8916b181d840dd894db84ed5797ae26a05ab656781b6b36307a1d5cca
size 58867
