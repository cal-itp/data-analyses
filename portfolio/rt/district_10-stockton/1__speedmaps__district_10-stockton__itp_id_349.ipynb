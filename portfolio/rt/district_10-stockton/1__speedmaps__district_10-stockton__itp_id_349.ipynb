version https://git-lfs.github.com/spec/v1
oid sha256:7ad007a840aa6edd5143768e2c6e5f3b123d7653f0a05c4193032aaa201ded93
size 74323
