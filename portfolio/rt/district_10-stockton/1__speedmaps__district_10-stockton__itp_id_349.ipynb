version https://git-lfs.github.com/spec/v1
oid sha256:bff3728a4e40c0b3f6c6f37c03fca0332830f8ede701b032f7aadb5451b29aa5
size 74706
