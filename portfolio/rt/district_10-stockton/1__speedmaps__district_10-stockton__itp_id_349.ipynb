version https://git-lfs.github.com/spec/v1
oid sha256:1dfb1bf4774d8e2a69d424216aac4886ecc9ab5cf253288c34ec17477867dacc
size 73418
