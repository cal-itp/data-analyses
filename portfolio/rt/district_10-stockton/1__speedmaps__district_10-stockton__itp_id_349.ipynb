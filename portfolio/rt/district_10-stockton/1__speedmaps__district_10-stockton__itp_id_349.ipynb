version https://git-lfs.github.com/spec/v1
oid sha256:3f80fb0daea7e246db2c23671c4cd4d172e834710f7bba9ef7cd2d80af6b29c9
size 71205
