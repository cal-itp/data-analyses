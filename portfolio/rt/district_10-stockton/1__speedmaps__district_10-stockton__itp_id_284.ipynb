version https://git-lfs.github.com/spec/v1
oid sha256:b32204888474eab969da6f4e8358acf9d5b42b97b431252ce5f69d538459d94a
size 3709461
