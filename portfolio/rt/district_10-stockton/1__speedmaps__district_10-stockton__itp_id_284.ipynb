version https://git-lfs.github.com/spec/v1
oid sha256:61a18d83cb09e7951dc35fc4e3516ff582c4b1abc1fcb92e47b2d76e37b4f12a
size 5847122
