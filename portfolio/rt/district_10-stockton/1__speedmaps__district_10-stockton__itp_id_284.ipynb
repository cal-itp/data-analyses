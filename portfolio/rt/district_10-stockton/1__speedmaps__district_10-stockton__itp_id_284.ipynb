version https://git-lfs.github.com/spec/v1
oid sha256:08a5b81b07990a4bd14cd88534b85865b04a6bc84b7869559788f8ef3dd0388d
size 3890442
