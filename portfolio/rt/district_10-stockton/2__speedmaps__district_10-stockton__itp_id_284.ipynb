version https://git-lfs.github.com/spec/v1
oid sha256:7479a848e0fcd4bee3f0b2acea587bededb281fb8165fcdc321a2c0ae5d3ebfd
size 58866
