version https://git-lfs.github.com/spec/v1
oid sha256:de60761d1123c84a8fa4dd995b7167ca1fb9f60b9e90754b608983c01d1c3263
size 58873
