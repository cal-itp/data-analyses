version https://git-lfs.github.com/spec/v1
oid sha256:3c3e122086ee0afda681aac8c2ea8f51d9b401f9291f67adf2cb2fa09bfe33ed
size 5686504
