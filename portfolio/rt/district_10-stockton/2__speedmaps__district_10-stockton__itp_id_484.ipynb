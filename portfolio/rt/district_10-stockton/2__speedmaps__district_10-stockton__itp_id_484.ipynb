version https://git-lfs.github.com/spec/v1
oid sha256:4ecbc822b890076c9c818c5c5c9a99eb1d7057a9889bdd9c830b41ef7abe63d2
size 23839693
