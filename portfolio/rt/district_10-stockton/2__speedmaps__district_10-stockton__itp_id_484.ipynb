version https://git-lfs.github.com/spec/v1
oid sha256:6a4400efb0ee5f9be85791908ec87111698d3e1a140f4779ebe97797b2d6ed9b
size 6539194
