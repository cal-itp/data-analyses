version https://git-lfs.github.com/spec/v1
oid sha256:57860a1b425a7a5ee352f3c7a913dbd3b9627953f3c3b76e7615c418235269d5
size 68012
