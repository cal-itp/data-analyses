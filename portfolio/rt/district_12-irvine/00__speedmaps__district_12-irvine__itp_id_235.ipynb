version https://git-lfs.github.com/spec/v1
oid sha256:18f85d3d1aefa5814f4ac6c363b81b934169863bd1b8ec52d8687df6058072b3
size 89897
