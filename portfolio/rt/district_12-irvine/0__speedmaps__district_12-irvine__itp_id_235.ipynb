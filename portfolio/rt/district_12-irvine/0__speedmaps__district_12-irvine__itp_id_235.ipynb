version https://git-lfs.github.com/spec/v1
oid sha256:af7db1d7ecf5dcad4c3e1ebe60e2d875037e96b12e9cb13a9038f323416b7506
size 19350119
