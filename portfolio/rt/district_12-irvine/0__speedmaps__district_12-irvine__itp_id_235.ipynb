version https://git-lfs.github.com/spec/v1
oid sha256:3ab23db06505ff34599ee87dbe8cecf64a6bf90e4c8b1d4103964a22a4418a00
size 28551608
