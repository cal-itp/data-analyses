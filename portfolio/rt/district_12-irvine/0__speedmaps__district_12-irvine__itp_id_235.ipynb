version https://git-lfs.github.com/spec/v1
oid sha256:c8bbb0bea234d9addece92b28dd0e1e617c863d5dd01accf42f4a9d46d66316a
size 31899454
