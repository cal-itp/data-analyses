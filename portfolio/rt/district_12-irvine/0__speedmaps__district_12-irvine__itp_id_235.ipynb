version https://git-lfs.github.com/spec/v1
oid sha256:0003b580b9cfd3a1409f4b9d46744f772526f4ce687d82dcbe7de939cb41da41
size 27626124
