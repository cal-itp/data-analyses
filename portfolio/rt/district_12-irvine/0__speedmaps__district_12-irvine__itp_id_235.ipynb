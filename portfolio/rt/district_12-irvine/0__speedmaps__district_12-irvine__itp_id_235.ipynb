version https://git-lfs.github.com/spec/v1
oid sha256:31ce6894b75c58a9d8671cf388037359574b45671ca17b68923c98086c48f6a3
size 71476
