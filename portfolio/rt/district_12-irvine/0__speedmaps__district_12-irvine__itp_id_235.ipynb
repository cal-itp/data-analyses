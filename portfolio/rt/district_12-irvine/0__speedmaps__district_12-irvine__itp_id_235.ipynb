version https://git-lfs.github.com/spec/v1
oid sha256:347ced9cbbe8c4c2d8ee1b3fadbf9c2cd2c97f4189962f8f19b2a85b3d1351af
size 59341
