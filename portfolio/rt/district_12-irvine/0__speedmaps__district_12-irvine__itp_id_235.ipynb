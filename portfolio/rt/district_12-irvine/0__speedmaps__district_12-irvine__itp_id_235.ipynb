version https://git-lfs.github.com/spec/v1
oid sha256:03009a2b9bb95d117acd58a69cf558b484f984c37824915905671a813e22c5a7
size 71462
