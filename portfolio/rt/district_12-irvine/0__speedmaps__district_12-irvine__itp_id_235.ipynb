version https://git-lfs.github.com/spec/v1
oid sha256:60f1b432c3a0aea7969bec2704cb8b82c7c79bb09f6e40b378a6930f32ee7a36
size 71472
