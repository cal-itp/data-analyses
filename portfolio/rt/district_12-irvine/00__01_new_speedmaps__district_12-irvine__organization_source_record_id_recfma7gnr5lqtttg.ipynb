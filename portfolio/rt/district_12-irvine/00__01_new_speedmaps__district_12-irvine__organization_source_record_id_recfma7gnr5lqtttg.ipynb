version https://git-lfs.github.com/spec/v1
oid sha256:621fa2717126ad02049b8ec00b18df836653301a53ba885777fa4ce3999e8816
size 72097
