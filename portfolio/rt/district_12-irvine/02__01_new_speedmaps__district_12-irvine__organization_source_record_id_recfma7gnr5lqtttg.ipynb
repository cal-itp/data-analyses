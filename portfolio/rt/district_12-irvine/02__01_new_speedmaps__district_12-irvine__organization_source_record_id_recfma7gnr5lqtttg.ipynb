version https://git-lfs.github.com/spec/v1
oid sha256:e3299c8fd0a1dc71fa736ae7bf23e22755685b6efa112857790e8c74c2cf19b7
size 72074
