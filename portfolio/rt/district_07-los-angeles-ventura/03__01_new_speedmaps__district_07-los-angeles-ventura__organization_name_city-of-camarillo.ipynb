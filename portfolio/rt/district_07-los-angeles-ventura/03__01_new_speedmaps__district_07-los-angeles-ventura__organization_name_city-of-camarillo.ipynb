version https://git-lfs.github.com/spec/v1
oid sha256:8166a217e3da58af1785938b0f36e47df454389854f5833e7d2049d19bb99ec4
size 66494
