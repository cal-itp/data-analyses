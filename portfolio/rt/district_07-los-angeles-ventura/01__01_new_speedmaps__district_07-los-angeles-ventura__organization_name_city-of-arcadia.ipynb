version https://git-lfs.github.com/spec/v1
oid sha256:fbcdbe4d17c796e2d7dbfe25ccbca0ab0328b8c8d5c41f2d9d1b368a3db62eab
size 62728
