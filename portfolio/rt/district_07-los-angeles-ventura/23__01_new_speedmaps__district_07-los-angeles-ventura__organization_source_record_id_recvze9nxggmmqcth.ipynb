version https://git-lfs.github.com/spec/v1
oid sha256:19ce9550561260b713ea868732fd7291a6e88306b99571562aefd4b7ff4ceac7
size 67406
