version https://git-lfs.github.com/spec/v1
oid sha256:51a64ab7400f7ed172fda56becd8fed0e4d7c40c9ea50c7f41142a5aa426c8a4
size 67500
