version https://git-lfs.github.com/spec/v1
oid sha256:fc6d29c67e26fbfa7595e8c4e4b455ea1e6f773dc3c4e5414e906803fcde7256
size 70309
