version https://git-lfs.github.com/spec/v1
oid sha256:e1627a8a6e38e26d6dc4d67dade2b0dce4bd69bb6ada5614cb9e03177eec3ad2
size 70375
