version https://git-lfs.github.com/spec/v1
oid sha256:60d0b623f65b7593be9c7d2f7978c5ae7f86fdcb8a641a45d3c7b3e4283978e3
size 71194
