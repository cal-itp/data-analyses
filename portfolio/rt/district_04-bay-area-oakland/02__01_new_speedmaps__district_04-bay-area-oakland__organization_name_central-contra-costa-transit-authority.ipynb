version https://git-lfs.github.com/spec/v1
oid sha256:354420f5ac907b35a531c3350b1e3a16ea30234564e920c22b8fd9689c9c5d72
size 67511
