version https://git-lfs.github.com/spec/v1
oid sha256:1c16ccd391ca085566c54087d6b228803424d5e00d94772468bc4e475f6130c6
size 70912
