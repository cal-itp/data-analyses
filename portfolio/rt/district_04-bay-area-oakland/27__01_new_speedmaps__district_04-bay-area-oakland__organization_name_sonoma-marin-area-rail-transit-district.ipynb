version https://git-lfs.github.com/spec/v1
oid sha256:53e3effd62ba2c564c8d3f16cca0eb97395394f6a262dbdb67a9c0e37683d254
size 67489
