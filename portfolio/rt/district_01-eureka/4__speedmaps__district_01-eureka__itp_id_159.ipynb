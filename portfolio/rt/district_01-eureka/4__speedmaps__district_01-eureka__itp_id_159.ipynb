version https://git-lfs.github.com/spec/v1
oid sha256:86ef5ad6816ab755e4cd69ac9112174c1350c273b875495554e1b63532af05b6
size 71004
