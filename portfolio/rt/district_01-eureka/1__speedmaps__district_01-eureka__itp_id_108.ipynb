version https://git-lfs.github.com/spec/v1
oid sha256:05b9ef4c08097caf220fcea257cd889e43ce6a01c1156d266133a6c017b15ea5
size 72105
