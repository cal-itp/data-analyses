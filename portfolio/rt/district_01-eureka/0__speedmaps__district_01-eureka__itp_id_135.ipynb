version https://git-lfs.github.com/spec/v1
oid sha256:dadf31e53035e98cdeda45d287ec34003c000fb3c5ae850b4818a2a6d35d9a6a
size 5314074
