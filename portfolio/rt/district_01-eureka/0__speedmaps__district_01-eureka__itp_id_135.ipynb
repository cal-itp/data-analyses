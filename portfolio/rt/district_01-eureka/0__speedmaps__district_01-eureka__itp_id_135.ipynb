version https://git-lfs.github.com/spec/v1
oid sha256:26095ddf1478a95a1741c72004e5c3a9527fc4b0559d9c05246d6183f256c12b
size 5097147
