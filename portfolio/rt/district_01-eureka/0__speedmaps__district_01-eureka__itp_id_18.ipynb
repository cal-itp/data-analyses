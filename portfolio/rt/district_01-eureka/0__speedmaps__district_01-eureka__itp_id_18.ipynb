version https://git-lfs.github.com/spec/v1
oid sha256:c94efb92362416ce802ce42be8d0d54448b9703aec694577dd4f1c99f87edd9d
size 72071
