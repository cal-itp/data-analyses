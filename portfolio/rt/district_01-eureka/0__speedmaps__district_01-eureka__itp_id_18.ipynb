version https://git-lfs.github.com/spec/v1
oid sha256:220cdece7959d17bed629d1e70b406b183b8fd5c2dfa20b30bc1be4a69119c83
size 69789
