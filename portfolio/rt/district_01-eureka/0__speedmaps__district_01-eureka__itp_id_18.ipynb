version https://git-lfs.github.com/spec/v1
oid sha256:8c0cf7917b8f736f7385a4ac4f1b1631acd474cab42e8dd2ffd0a3fa12738327
size 71362
