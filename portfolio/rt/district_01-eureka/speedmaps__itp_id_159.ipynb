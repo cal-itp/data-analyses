{
 "cells": [
  {
   "cell_type": "code",
   "execution_count": 1,
   "id": "46898b5c-b5cc-4096-ab68-8c3e42fab870",
   "metadata": {
    "execution": {
     "iopub.execute_input": "2022-04-22T02:53:01.528698Z",
     "iopub.status.busy": "2022-04-22T02:53:01.528291Z",
     "iopub.status.idle": "2022-04-22T02:53:10.332531Z",
     "shell.execute_reply": "2022-04-22T02:53:10.331739Z"
    },
    "jupyter": {
     "source_hidden": true
    },
    "papermill": {
     "duration": 8.826532,
     "end_time": "2022-04-22T02:53:10.334929",
     "exception": false,
     "start_time": "2022-04-22T02:53:01.508397",
     "status": "completed"
    },
    "tags": [
     "remove_input"
    ]
   },
   "outputs": [],
   "source": [
    "%%capture\n",
    "import warnings\n",
    "warnings.filterwarnings('ignore')\n",
    "\n",
    "import os\n",
    "os.environ[\"CALITP_BQ_MAX_BYTES\"] = str(800_000_000_000)\n",
    "import shared_utils\n",
    "import utils\n",
    "\n",
    "from calitp.tables import tbl\n",
    "from calitp import query_sql\n",
    "import calitp.magics\n",
    "\n",
    "from siuba import *\n",
    "import pandas as pd\n",
    "import geopandas as gpd\n",
    "\n",
    "import datetime as dt\n",
    "\n",
    "import importlib\n",
    "import rt_filter_map_plot\n",
    "\n",
    "from IPython.display import display, Markdown, Latex, HTML\n",
    "import json"
   ]
  },
  {
   "cell_type": "code",
   "execution_count": 2,
   "id": "9f15ed6a-5ab7-4f57-9695-3f762781b74c",
   "metadata": {
    "execution": {
     "iopub.execute_input": "2022-04-22T02:53:10.373244Z",
     "iopub.status.busy": "2022-04-22T02:53:10.372635Z",
     "iopub.status.idle": "2022-04-22T02:53:10.377002Z",
     "shell.execute_reply": "2022-04-22T02:53:10.376294Z"
    },
    "jupyter": {
     "source_hidden": true
    },
    "papermill": {
     "duration": 0.026025,
     "end_time": "2022-04-22T02:53:10.379014",
     "exception": false,
     "start_time": "2022-04-22T02:53:10.352989",
     "status": "completed"
    },
    "tags": [
     "parameters",
     "remove_input"
    ]
   },
   "outputs": [],
   "source": [
    "## parameters cell\n",
    "itp_id = 135"
   ]
  },
  {
   "cell_type": "code",
   "execution_count": 3,
   "id": "8c2e547d",
   "metadata": {
    "execution": {
     "iopub.execute_input": "2022-04-22T02:53:10.415600Z",
     "iopub.status.busy": "2022-04-22T02:53:10.415275Z",
     "iopub.status.idle": "2022-04-22T02:53:10.420585Z",
     "shell.execute_reply": "2022-04-22T02:53:10.418771Z"
    },
    "jupyter": {
     "source_hidden": true
    },
    "papermill": {
     "duration": 0.026279,
     "end_time": "2022-04-22T02:53:10.422567",
     "exception": false,
     "start_time": "2022-04-22T02:53:10.396288",
     "status": "completed"
    },
    "tags": [
     "injected-parameters",
     "remove_input"
    ]
   },
   "outputs": [],
   "source": [
    "# Parameters\n",
    "district = \"01 - Eureka\"\n",
    "itp_id = 159\n"
   ]
  },
  {
   "cell_type": "code",
   "execution_count": 4,
   "id": "6c2e9651-70e4-4403-b43d-da50315ef8fd",
   "metadata": {
    "execution": {
     "iopub.execute_input": "2022-04-22T02:53:10.465527Z",
     "iopub.status.busy": "2022-04-22T02:53:10.465204Z",
     "iopub.status.idle": "2022-04-22T02:53:12.444074Z",
     "shell.execute_reply": "2022-04-22T02:53:12.443278Z"
    },
    "jupyter": {
     "source_hidden": true
    },
    "papermill": {
     "duration": 2.000115,
     "end_time": "2022-04-22T02:53:12.446533",
     "exception": false,
     "start_time": "2022-04-22T02:53:10.446418",
     "status": "completed"
    },
    "tags": [
     "remove_input"
    ]
   },
   "outputs": [],
   "source": [
    "airtable_organizations = (\n",
    "    tbl.airtable.california_transit_organizations()\n",
    "    >> select(_.itp_id, _.name, _.caltrans_district,\n",
    "              _.website, _.ntp_id, _.drmt_organization_name)\n",
    "    >> filter(_.itp_id == itp_id)\n",
    "    >> collect()\n",
    ")"
   ]
  },
  {
   "cell_type": "code",
   "execution_count": 5,
   "id": "cc9c7000-4042-4f64-b7ef-8e8e5f1e706a",
   "metadata": {
    "execution": {
     "iopub.execute_input": "2022-04-22T02:53:12.484461Z",
     "iopub.status.busy": "2022-04-22T02:53:12.483798Z",
     "iopub.status.idle": "2022-04-22T02:53:12.488083Z",
     "shell.execute_reply": "2022-04-22T02:53:12.487146Z"
    },
    "jupyter": {
     "source_hidden": true
    },
    "papermill": {
     "duration": 0.026317,
     "end_time": "2022-04-22T02:53:12.490505",
     "exception": false,
     "start_time": "2022-04-22T02:53:12.464188",
     "status": "completed"
    },
    "tags": [
     "remove_input"
    ]
   },
   "outputs": [],
   "source": [
    "# airtable_organizations"
   ]
  },
  {
   "cell_type": "code",
   "execution_count": 6,
   "id": "306a7053-3fab-4723-a287-111e4eba11f2",
   "metadata": {
    "execution": {
     "iopub.execute_input": "2022-04-22T02:53:12.528561Z",
     "iopub.status.busy": "2022-04-22T02:53:12.528234Z",
     "iopub.status.idle": "2022-04-22T02:53:12.533292Z",
     "shell.execute_reply": "2022-04-22T02:53:12.532301Z"
    },
    "jupyter": {
     "source_hidden": true
    },
    "papermill": {
     "duration": 0.02677,
     "end_time": "2022-04-22T02:53:12.535473",
     "exception": false,
     "start_time": "2022-04-22T02:53:12.508703",
     "status": "completed"
    },
    "tags": [
     "remove_input"
    ]
   },
   "outputs": [],
   "source": [
    "analysis_date = dt.date(2022, 3, 30)\n",
    "if itp_id == 273:\n",
    "    analysis_date = dt.date(2022, 2, 8) # #override for SacRT "
   ]
  },
  {
   "cell_type": "code",
   "execution_count": 7,
   "id": "47c79d99-c82f-4e1e-b11e-2b1e83c13a1b",
   "metadata": {
    "execution": {
     "iopub.execute_input": "2022-04-22T02:53:12.575982Z",
     "iopub.status.busy": "2022-04-22T02:53:12.575634Z",
     "iopub.status.idle": "2022-04-22T02:53:12.580371Z",
     "shell.execute_reply": "2022-04-22T02:53:12.579740Z"
    },
    "jupyter": {
     "source_hidden": true
    },
    "papermill": {
     "duration": 0.028752,
     "end_time": "2022-04-22T02:53:12.582499",
     "exception": false,
     "start_time": "2022-04-22T02:53:12.553747",
     "status": "completed"
    },
    "tags": [
     "remove_input"
    ]
   },
   "outputs": [],
   "source": [
    "month_day = analysis_date.strftime('%m_%d')"
   ]
  },
  {
   "cell_type": "code",
   "execution_count": 8,
   "id": "1739d979-cd4d-456c-a1ad-a016cbf69cad",
   "metadata": {
    "execution": {
     "iopub.execute_input": "2022-04-22T02:53:12.622415Z",
     "iopub.status.busy": "2022-04-22T02:53:12.621500Z",
     "iopub.status.idle": "2022-04-22T02:53:12.994564Z",
     "shell.execute_reply": "2022-04-22T02:53:12.994001Z"
    },
    "jupyter": {
     "source_hidden": true
    },
    "papermill": {
     "duration": 0.396169,
     "end_time": "2022-04-22T02:53:12.996798",
     "exception": false,
     "start_time": "2022-04-22T02:53:12.600629",
     "status": "completed"
    },
    "tags": [
     "remove_input"
    ]
   },
   "outputs": [],
   "source": [
    "trips = pd.read_parquet(f'{utils.GCS_FILE_PATH}rt_trips/{itp_id}_{month_day}.parquet')"
   ]
  },
  {
   "cell_type": "code",
   "execution_count": 9,
   "id": "b77a9167-4017-4367-8fed-d4e6bf3999b9",
   "metadata": {
    "execution": {
     "iopub.execute_input": "2022-04-22T02:53:13.034924Z",
     "iopub.status.busy": "2022-04-22T02:53:13.034166Z",
     "iopub.status.idle": "2022-04-22T02:53:13.390552Z",
     "shell.execute_reply": "2022-04-22T02:53:13.389949Z"
    },
    "jupyter": {
     "source_hidden": true
    },
    "papermill": {
     "duration": 0.378461,
     "end_time": "2022-04-22T02:53:13.392928",
     "exception": false,
     "start_time": "2022-04-22T02:53:13.014467",
     "status": "completed"
    },
    "tags": [
     "remove_input"
    ]
   },
   "outputs": [],
   "source": [
    "stop_delay = gpd.read_parquet(f'{utils.GCS_FILE_PATH}stop_delay_views/{itp_id}_{month_day}.parquet')\n",
    "stop_delay['arrival_time'] = stop_delay.arrival_time.map(lambda x: dt.datetime.fromisoformat(x))\n",
    "stop_delay['actual_time'] = stop_delay.actual_time.map(lambda x: dt.datetime.fromisoformat(x))"
   ]
  },
  {
   "cell_type": "code",
   "execution_count": 10,
   "id": "2b2fe439-10af-4140-ab83-69b05c385b40",
   "metadata": {
    "execution": {
     "iopub.execute_input": "2022-04-22T02:53:13.430961Z",
     "iopub.status.busy": "2022-04-22T02:53:13.430108Z",
     "iopub.status.idle": "2022-04-22T02:53:17.596361Z",
     "shell.execute_reply": "2022-04-22T02:53:17.595652Z"
    },
    "jupyter": {
     "source_hidden": true
    },
    "papermill": {
     "duration": 4.188224,
     "end_time": "2022-04-22T02:53:17.598776",
     "exception": false,
     "start_time": "2022-04-22T02:53:13.410552",
     "status": "completed"
    },
    "tags": [
     "remove_input"
    ]
   },
   "outputs": [],
   "source": [
    "%%capture\n",
    "routelines = utils.get_routelines(itp_id, analysis_date)"
   ]
  },
  {
   "cell_type": "code",
   "execution_count": 11,
   "id": "e4cbefc6-9bbb-4989-85b7-1f31da17fcb8",
   "metadata": {
    "execution": {
     "iopub.execute_input": "2022-04-22T02:53:17.639623Z",
     "iopub.status.busy": "2022-04-22T02:53:17.638746Z",
     "iopub.status.idle": "2022-04-22T02:53:17.675165Z",
     "shell.execute_reply": "2022-04-22T02:53:17.674244Z"
    },
    "jupyter": {
     "source_hidden": true
    },
    "papermill": {
     "duration": 0.059609,
     "end_time": "2022-04-22T02:53:17.677343",
     "exception": false,
     "start_time": "2022-04-22T02:53:17.617734",
     "status": "completed"
    },
    "tags": [
     "remove_input"
    ]
   },
   "outputs": [],
   "source": [
    "%%capture\n",
    "rt_day = rt_filter_map_plot.RtFilterMapper(trips, stop_delay, routelines)"
   ]
  },
  {
   "cell_type": "code",
   "execution_count": 12,
   "id": "6c335d40-7a7b-4641-8a3d-c970b2823cdf",
   "metadata": {
    "execution": {
     "iopub.execute_input": "2022-04-22T02:53:17.718116Z",
     "iopub.status.busy": "2022-04-22T02:53:17.717691Z",
     "iopub.status.idle": "2022-04-22T02:53:17.725248Z",
     "shell.execute_reply": "2022-04-22T02:53:17.724023Z"
    },
    "jupyter": {
     "source_hidden": true
    },
    "papermill": {
     "duration": 0.032565,
     "end_time": "2022-04-22T02:53:17.728547",
     "exception": false,
     "start_time": "2022-04-22T02:53:17.695982",
     "status": "completed"
    },
    "tags": [
     "remove_input"
    ]
   },
   "outputs": [],
   "source": [
    "%%capture_parameters\n",
    "agency_name = rt_day.calitp_agency_name\n",
    "district = airtable_organizations.caltrans_district.iloc[0]\n",
    "agency_name, district"
   ]
  },
  {
   "cell_type": "markdown",
   "id": "52110155-d104-4043-8376-3f83e82a959a",
   "metadata": {
    "papermill": {
     "duration": 0.019407,
     "end_time": "2022-04-22T02:53:17.767497",
     "exception": false,
     "start_time": "2022-04-22T02:53:17.748090",
     "status": "completed"
    },
    "tags": []
   },
   "source": [
    "# Lake Transit"
   ]
  },
  {
   "cell_type": "markdown",
   "id": "7d5572cd-dd67-4e26-b100-a0e7472a4a17",
   "metadata": {
    "papermill": {
     "duration": 0.027771,
     "end_time": "2022-04-22T02:53:17.816066",
     "exception": false,
     "start_time": "2022-04-22T02:53:17.788295",
     "status": "completed"
    },
    "tags": []
   },
   "source": [
    "## About These Maps:\n",
    "\n",
    "* Each map shows bus (and rail, if applicable) speeds for Lake Transit, with a map each for the morning peak, midday, and afternoon peak periods.\n",
    "* On the map, routes are split into segments corresponding to the distance between two stops, allowing you to focus on specific portions of the route experiencing a slowdown.\n",
    "* Route segments are arrow-shaped to indicate direction of travel.\n",
    "* Hover over, or click, a segment with your mouse to see the exact speed, route name, and transit service frequency in that segment. \n",
    "    * Higher-frequency routes (3+ trips per hour) are especially important, since those slowdowns correspond to more vehicles, and riders, delayed in traffic."
   ]
  },
  {
   "cell_type": "code",
   "execution_count": 13,
   "id": "8e940d3d-c76e-42ba-be8b-739852771ca6",
   "metadata": {
    "execution": {
     "iopub.execute_input": "2022-04-22T02:53:17.856485Z",
     "iopub.status.busy": "2022-04-22T02:53:17.856192Z",
     "iopub.status.idle": "2022-04-22T02:53:17.861399Z",
     "shell.execute_reply": "2022-04-22T02:53:17.860830Z"
    },
    "jupyter": {
     "source_hidden": true
    },
    "papermill": {
     "duration": 0.027744,
     "end_time": "2022-04-22T02:53:17.863188",
     "exception": false,
     "start_time": "2022-04-22T02:53:17.835444",
     "status": "completed"
    },
    "tags": [
     "remove_input"
    ]
   },
   "outputs": [],
   "source": [
    "## avoid papermill errors when map fails to render\n",
    "m = None"
   ]
  },
  {
   "cell_type": "markdown",
   "id": "74fce4a9-514f-405d-9ce0-1cb1998a696b",
   "metadata": {
    "papermill": {
     "duration": 0.018837,
     "end_time": "2022-04-22T02:53:17.901511",
     "exception": false,
     "start_time": "2022-04-22T02:53:17.882674",
     "status": "completed"
    },
    "tags": []
   },
   "source": [
    "## Morning Peak"
   ]
  },
  {
   "cell_type": "code",
   "execution_count": 14,
   "id": "533a64f4-f374-4f2c-94d3-5146ebe7c036",
   "metadata": {
    "execution": {
     "iopub.execute_input": "2022-04-22T02:53:17.942207Z",
     "iopub.status.busy": "2022-04-22T02:53:17.941309Z",
     "iopub.status.idle": "2022-04-22T02:53:17.949330Z",
     "shell.execute_reply": "2022-04-22T02:53:17.948732Z"
    },
    "jupyter": {
     "source_hidden": true
    },
    "papermill": {
     "duration": 0.030565,
     "end_time": "2022-04-22T02:53:17.951148",
     "exception": false,
     "start_time": "2022-04-22T02:53:17.920583",
     "status": "completed"
    },
    "tags": [
     "remove_input"
    ]
   },
   "outputs": [],
   "source": [
    "%%capture\n",
    "rt_day.set_filter(start_time='06:00', end_time='09:00')"
   ]
  },
  {
   "cell_type": "code",
   "execution_count": 15,
   "id": "2f317120-99ee-435b-96cd-1236b8ee2e0b",
   "metadata": {
    "execution": {
     "iopub.execute_input": "2022-04-22T02:53:17.993471Z",
     "iopub.status.busy": "2022-04-22T02:53:17.992555Z",
     "iopub.status.idle": "2022-04-22T02:53:20.025827Z",
     "shell.execute_reply": "2022-04-22T02:53:20.024842Z"
    },
    "jupyter": {
     "source_hidden": true
    },
    "papermill": {
     "duration": 2.057219,
     "end_time": "2022-04-22T02:53:20.028011",
     "exception": false,
     "start_time": "2022-04-22T02:53:17.970792",
     "status": "completed"
    },
    "tags": [
     "remove_input"
    ]
   },
   "outputs": [],
   "source": [
    "%%capture\n",
    "m = rt_day.segment_speed_map(how='low_speeds', no_title=True)"
   ]
  },
  {
   "cell_type": "code",
   "execution_count": 16,
   "id": "275087be-b46d-4acb-95fe-2dc98c2089a2",
   "metadata": {
    "execution": {
     "iopub.execute_input": "2022-04-22T02:53:20.074850Z",
     "iopub.status.busy": "2022-04-22T02:53:20.073890Z",
     "iopub.status.idle": "2022-04-22T02:53:20.082066Z",
     "shell.execute_reply": "2022-04-22T02:53:20.081353Z"
    },
    "jupyter": {
     "source_hidden": true
    },
    "papermill": {
     "duration": 0.035185,
     "end_time": "2022-04-22T02:53:20.084180",
     "exception": false,
     "start_time": "2022-04-22T02:53:20.048995",
     "status": "completed"
    },
    "tags": [
     "remove_input"
    ]
   },
   "outputs": [],
   "source": [
    "m"
   ]
  },
  {
   "cell_type": "code",
   "execution_count": 17,
   "id": "b0cf9b97-7485-4f36-b5e8-124f22fa9661",
   "metadata": {
    "execution": {
     "iopub.execute_input": "2022-04-22T02:53:20.127157Z",
     "iopub.status.busy": "2022-04-22T02:53:20.126445Z",
     "iopub.status.idle": "2022-04-22T02:53:20.151366Z",
     "shell.execute_reply": "2022-04-22T02:53:20.150521Z"
    },
    "jupyter": {
     "source_hidden": true
    },
    "papermill": {
     "duration": 0.049352,
     "end_time": "2022-04-22T02:53:20.153621",
     "exception": false,
     "start_time": "2022-04-22T02:53:20.104269",
     "status": "completed"
    },
    "tags": [
     "remove_input"
    ]
   },
   "outputs": [],
   "source": [
    "rt_day.describe_delayed_routes()"
   ]
  },
  {
   "cell_type": "markdown",
   "id": "3d263ba2-49ae-4e02-9d06-3181b03f51ba",
   "metadata": {
    "papermill": {
     "duration": 0.019778,
     "end_time": "2022-04-22T02:53:20.200639",
     "exception": false,
     "start_time": "2022-04-22T02:53:20.180861",
     "status": "completed"
    },
    "tags": []
   },
   "source": [
    "## Midday"
   ]
  },
  {
   "cell_type": "code",
   "execution_count": 18,
   "id": "f5344e63-89d2-43d6-9783-55a3061c99d2",
   "metadata": {
    "execution": {
     "iopub.execute_input": "2022-04-22T02:53:20.243098Z",
     "iopub.status.busy": "2022-04-22T02:53:20.242800Z",
     "iopub.status.idle": "2022-04-22T02:53:20.252378Z",
     "shell.execute_reply": "2022-04-22T02:53:20.251367Z"
    },
    "jupyter": {
     "source_hidden": true
    },
    "papermill": {
     "duration": 0.033705,
     "end_time": "2022-04-22T02:53:20.254562",
     "exception": false,
     "start_time": "2022-04-22T02:53:20.220857",
     "status": "completed"
    },
    "tags": [
     "remove_input"
    ]
   },
   "outputs": [],
   "source": [
    "%%capture\n",
    "rt_day.set_filter(start_time='10:00', end_time='14:00')"
   ]
  },
  {
   "cell_type": "code",
   "execution_count": 19,
   "id": "a4c40f3c-cf35-45d5-9d87-aa4701bed3aa",
   "metadata": {
    "execution": {
     "iopub.execute_input": "2022-04-22T02:53:20.295955Z",
     "iopub.status.busy": "2022-04-22T02:53:20.295609Z",
     "iopub.status.idle": "2022-04-22T02:53:20.766620Z",
     "shell.execute_reply": "2022-04-22T02:53:20.765934Z"
    },
    "jupyter": {
     "source_hidden": true
    },
    "papermill": {
     "duration": 0.494255,
     "end_time": "2022-04-22T02:53:20.768534",
     "exception": false,
     "start_time": "2022-04-22T02:53:20.274279",
     "status": "completed"
    },
    "tags": [
     "remove_input"
    ]
   },
   "outputs": [],
   "source": [
    "%%capture\n",
    "m = rt_day.segment_speed_map(how='low_speeds', no_title=True)"
   ]
  },
  {
   "cell_type": "code",
   "execution_count": 20,
   "id": "a78b7db5-f43f-4bf1-8036-ae972a87fc53",
   "metadata": {
    "execution": {
     "iopub.execute_input": "2022-04-22T02:53:20.815219Z",
     "iopub.status.busy": "2022-04-22T02:53:20.814741Z",
     "iopub.status.idle": "2022-04-22T02:53:20.818658Z",
     "shell.execute_reply": "2022-04-22T02:53:20.818141Z"
    },
    "jupyter": {
     "source_hidden": true
    },
    "papermill": {
     "duration": 0.03127,
     "end_time": "2022-04-22T02:53:20.820548",
     "exception": false,
     "start_time": "2022-04-22T02:53:20.789278",
     "status": "completed"
    },
    "tags": [
     "remove_input"
    ]
   },
   "outputs": [],
   "source": [
    "m"
   ]
  },
  {
   "cell_type": "code",
   "execution_count": 21,
   "id": "6c745570-b50f-4722-b943-2176444f7af6",
   "metadata": {
    "execution": {
     "iopub.execute_input": "2022-04-22T02:53:20.863333Z",
     "iopub.status.busy": "2022-04-22T02:53:20.862854Z",
     "iopub.status.idle": "2022-04-22T02:53:20.883609Z",
     "shell.execute_reply": "2022-04-22T02:53:20.882891Z"
    },
    "jupyter": {
     "source_hidden": true
    },
    "papermill": {
     "duration": 0.04553,
     "end_time": "2022-04-22T02:53:20.886052",
     "exception": false,
     "start_time": "2022-04-22T02:53:20.840522",
     "status": "completed"
    },
    "tags": [
     "remove_input"
    ]
   },
   "outputs": [],
   "source": [
    "rt_day.describe_delayed_routes()"
   ]
  },
  {
   "cell_type": "markdown",
   "id": "704f0788-b4a8-497d-b2aa-c7ac6df939f4",
   "metadata": {
    "papermill": {
     "duration": 0.021871,
     "end_time": "2022-04-22T02:53:20.930547",
     "exception": false,
     "start_time": "2022-04-22T02:53:20.908676",
     "status": "completed"
    },
    "tags": []
   },
   "source": [
    "## Afternoon Peak"
   ]
  },
  {
   "cell_type": "code",
   "execution_count": 22,
   "id": "923f1462-b34a-42d2-a632-c5eb3ac16ac6",
   "metadata": {
    "execution": {
     "iopub.execute_input": "2022-04-22T02:53:20.975868Z",
     "iopub.status.busy": "2022-04-22T02:53:20.975272Z",
     "iopub.status.idle": "2022-04-22T02:53:20.981928Z",
     "shell.execute_reply": "2022-04-22T02:53:20.980790Z"
    },
    "jupyter": {
     "source_hidden": true
    },
    "papermill": {
     "duration": 0.033435,
     "end_time": "2022-04-22T02:53:20.985546",
     "exception": false,
     "start_time": "2022-04-22T02:53:20.952111",
     "status": "completed"
    },
    "tags": [
     "remove_input"
    ]
   },
   "outputs": [],
   "source": [
    "%%capture\n",
    "rt_day.set_filter(start_time='15:00', end_time='19:00')"
   ]
  },
  {
   "cell_type": "code",
   "execution_count": 23,
   "id": "5e46b095-7bc2-4552-a37b-661d076b2b51",
   "metadata": {
    "execution": {
     "iopub.execute_input": "2022-04-22T02:53:21.030178Z",
     "iopub.status.busy": "2022-04-22T02:53:21.029563Z",
     "iopub.status.idle": "2022-04-22T02:53:21.392259Z",
     "shell.execute_reply": "2022-04-22T02:53:21.391603Z"
    },
    "jupyter": {
     "source_hidden": true
    },
    "papermill": {
     "duration": 0.387195,
     "end_time": "2022-04-22T02:53:21.394223",
     "exception": false,
     "start_time": "2022-04-22T02:53:21.007028",
     "status": "completed"
    },
    "tags": [
     "remove_input"
    ]
   },
   "outputs": [],
   "source": [
    "%%capture\n",
    "m = rt_day.segment_speed_map(how='low_speeds', no_title=True)"
   ]
  },
  {
   "cell_type": "code",
   "execution_count": 24,
   "id": "0393f107-e9fe-4982-961a-032f7bf4e0eb",
   "metadata": {
    "execution": {
     "iopub.execute_input": "2022-04-22T02:53:21.438917Z",
     "iopub.status.busy": "2022-04-22T02:53:21.438294Z",
     "iopub.status.idle": "2022-04-22T02:53:21.442865Z",
     "shell.execute_reply": "2022-04-22T02:53:21.442041Z"
    },
    "jupyter": {
     "source_hidden": true
    },
    "papermill": {
     "duration": 0.029099,
     "end_time": "2022-04-22T02:53:21.444782",
     "exception": false,
     "start_time": "2022-04-22T02:53:21.415683",
     "status": "completed"
    },
    "tags": [
     "remove_input"
    ]
   },
   "outputs": [],
   "source": [
    "m"
   ]
  },
  {
   "cell_type": "code",
   "execution_count": 25,
   "id": "76580953-2a2b-4295-a41c-20442eae883e",
   "metadata": {
    "execution": {
     "iopub.execute_input": "2022-04-22T02:53:21.493077Z",
     "iopub.status.busy": "2022-04-22T02:53:21.492484Z",
     "iopub.status.idle": "2022-04-22T02:53:21.513756Z",
     "shell.execute_reply": "2022-04-22T02:53:21.512829Z"
    },
    "jupyter": {
     "source_hidden": true
    },
    "papermill": {
     "duration": 0.047797,
     "end_time": "2022-04-22T02:53:21.516273",
     "exception": false,
     "start_time": "2022-04-22T02:53:21.468476",
     "status": "completed"
    },
    "tags": [
     "remove_input"
    ]
   },
   "outputs": [],
   "source": [
    "rt_day.describe_delayed_routes()"
   ]
  },
  {
   "cell_type": "code",
   "execution_count": 26,
   "id": "91874f76-635b-4fde-8d61-abc795aca6c6",
   "metadata": {
    "execution": {
     "iopub.execute_input": "2022-04-22T02:53:21.561593Z",
     "iopub.status.busy": "2022-04-22T02:53:21.561288Z",
     "iopub.status.idle": "2022-04-22T02:53:21.598310Z",
     "shell.execute_reply": "2022-04-22T02:53:21.597349Z"
    },
    "jupyter": {
     "source_hidden": true
    },
    "papermill": {
     "duration": 0.063886,
     "end_time": "2022-04-22T02:53:21.601285",
     "exception": false,
     "start_time": "2022-04-22T02:53:21.537399",
     "status": "completed"
    },
    "tags": [
     "remove_input"
    ]
   },
   "outputs": [],
   "source": [
    "try:\n",
    "    metrics_df = (rt_day.rt_trips\n",
    "         >> group_by(_.route_short_name, _.direction_id)\n",
    "         >> summarize(speed_variance = _.mean_speed_mph.var(),\n",
    "                     mean_speed_mph = _.mean_speed_mph.mean(),\n",
    "                     min_hour = _.median_time.min().hour,\n",
    "                     max_hour = _.median_time.max().hour)\n",
    "         >> filter(_.min_hour <= 7, _.max_hour >= 15,\n",
    "                   _.mean_speed_mph < _.mean_speed_mph.quantile(.6),\n",
    "                   _.speed_variance)\n",
    "         >> arrange(-_.speed_variance)\n",
    "         >> head(20)\n",
    "        )\n",
    "except Exception as e:\n",
    "    pass\n",
    "    # print(e)\n",
    "## check that route has all-day span..."
   ]
  },
  {
   "cell_type": "code",
   "execution_count": 27,
   "id": "758b0bae-32d0-40dd-a1d1-1d107b0e7e8b",
   "metadata": {
    "execution": {
     "iopub.execute_input": "2022-04-22T02:53:21.647829Z",
     "iopub.status.busy": "2022-04-22T02:53:21.647499Z",
     "iopub.status.idle": "2022-04-22T02:53:21.655982Z",
     "shell.execute_reply": "2022-04-22T02:53:21.654946Z"
    },
    "jupyter": {
     "source_hidden": true
    },
    "papermill": {
     "duration": 0.035803,
     "end_time": "2022-04-22T02:53:21.658420",
     "exception": false,
     "start_time": "2022-04-22T02:53:21.622617",
     "status": "completed"
    },
    "tags": [
     "remove_input"
    ]
   },
   "outputs": [],
   "source": [
    "def map_from_metrics(rt_day, metrics_df):\n",
    "    try:\n",
    "        route_name = metrics_df.iloc[1,0]\n",
    "        direction_id = metrics_df.iloc[1,1]\n",
    "        # print(route_name, direction_id)\n",
    "    except Exception as e:\n",
    "        # print(e)\n",
    "        return\n",
    "    # route_name = '281'\n",
    "    # direction_id = '1'\n",
    "    rt_day.set_filter(start_time='06:00', end_time='09:00',\n",
    "                      route_names=[route_name], direction_id = direction_id)\n",
    "    try:\n",
    "        am_map = rt_day.segment_speed_map(how='low_speeds')\n",
    "        display(am_map)\n",
    "    except Exception as e:\n",
    "        # print(e)\n",
    "        pass\n",
    "    \n",
    "    rt_day.set_filter(start_time='10:00', end_time='14:00',\n",
    "                      route_names=[route_name], direction_id = direction_id)\n",
    "    try:\n",
    "        mid_map = rt_day.segment_speed_map(how='low_speeds')\n",
    "        display(mid_map)\n",
    "    except Exception as e:\n",
    "        # print(e)\n",
    "        pass\n",
    "\n",
    "    rt_day.set_filter(start_time='15:00', end_time='19:00',\n",
    "                      route_names=[route_name], direction_id = direction_id)\n",
    "    try:\n",
    "        pm_map = rt_day.segment_speed_map(how='low_speeds')\n",
    "        display(pm_map)\n",
    "    except Exception as e:\n",
    "        # print(e)\n",
    "        pass\n",
    "\n",
    "    return"
   ]
  },
  {
   "cell_type": "markdown",
   "id": "6ce187c8-c7bf-44f4-970e-b3abd69ddc38",
   "metadata": {
    "papermill": {
     "duration": 0.022981,
     "end_time": "2022-04-22T02:53:21.713533",
     "exception": false,
     "start_time": "2022-04-22T02:53:21.690552",
     "status": "completed"
    },
    "tags": []
   },
   "source": [
    "## Single-Route Detail Example"
   ]
  },
  {
   "cell_type": "code",
   "execution_count": 28,
   "id": "c7b4b043-6d15-4d9c-8aac-f0f6649e9552",
   "metadata": {
    "execution": {
     "iopub.execute_input": "2022-04-22T02:53:21.762024Z",
     "iopub.status.busy": "2022-04-22T02:53:21.761638Z",
     "iopub.status.idle": "2022-04-22T02:53:22.842133Z",
     "shell.execute_reply": "2022-04-22T02:53:22.841396Z"
    },
    "jupyter": {
     "source_hidden": true
    },
    "papermill": {
     "duration": 1.107687,
     "end_time": "2022-04-22T02:53:22.844371",
     "exception": false,
     "start_time": "2022-04-22T02:53:21.736684",
     "status": "completed"
    },
    "tags": [
     "remove_input"
    ]
   },
   "outputs": [],
   "source": [
    "try:\n",
    "    map_from_metrics(rt_day, metrics_df)\n",
    "except Exception as e:\n",
    "    # print(e)\n",
    "    pass"
   ]
  },
  {
   "cell_type": "code",
   "execution_count": null,
   "id": "a7d189cb-26d5-4a49-bf0f-2c33fd408f7e",
   "metadata": {
    "jupyter": {
     "source_hidden": true
    },
    "papermill": {
     "duration": 0.020932,
     "end_time": "2022-04-22T02:53:22.887836",
     "exception": false,
     "start_time": "2022-04-22T02:53:22.866904",
     "status": "completed"
    },
    "tags": [
     "remove_input"
    ]
   },
   "outputs": [],
   "source": []
  }
 ],
 "metadata": {
  "kernelspec": {
   "display_name": "Python 3 (ipykernel)",
   "language": "python",
   "name": "python3"
  },
  "language_info": {
   "codemirror_mode": {
    "name": "ipython",
    "version": 3
   },
   "file_extension": ".py",
   "mimetype": "text/x-python",
   "name": "python",
   "nbconvert_exporter": "python",
   "pygments_lexer": "ipython3",
   "version": "3.9.10"
  },
  "papermill": {
   "default_parameters": {},
   "duration": 23.929176,
   "end_time": "2022-04-22T02:53:24.333163",
   "environment_variables": {},
   "exception": null,
   "input_path": "rt_delay/speedmaps.ipynb",
   "output_path": "portfolio/rt/district_01-eureka/speedmaps__itp_id_159.ipynb",
   "parameters": {
    "district": "01 - Eureka",
    "itp_id": 159
   },
   "start_time": "2022-04-22T02:53:00.403987",
   "version": "2.3.4"
  }
 },
 "nbformat": 4,
 "nbformat_minor": 5
}