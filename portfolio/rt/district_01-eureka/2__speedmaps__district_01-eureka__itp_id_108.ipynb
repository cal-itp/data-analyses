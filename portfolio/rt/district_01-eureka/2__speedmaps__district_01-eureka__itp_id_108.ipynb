version https://git-lfs.github.com/spec/v1
oid sha256:60af14d1a6c666a5084711b399f1d866be48a8069b5c761484e9612d55e61477
size 251
