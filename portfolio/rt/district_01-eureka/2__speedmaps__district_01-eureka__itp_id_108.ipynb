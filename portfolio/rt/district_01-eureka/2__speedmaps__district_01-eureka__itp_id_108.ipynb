version https://git-lfs.github.com/spec/v1
oid sha256:07be1519683e2fa934d03274a2f10ff2f311bdbeb652d8f3502f00de8aa1a3d8
size 3846666
