version https://git-lfs.github.com/spec/v1
oid sha256:23cfb20aa7f4ea5e5d07b7adb7419f02dbe4b697a9b39cdea4bbed035464aacd
size 70226
