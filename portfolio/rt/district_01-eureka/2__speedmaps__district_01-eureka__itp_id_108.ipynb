version https://git-lfs.github.com/spec/v1
oid sha256:73b18debe17d2cd1bb9e46716373871f1b9b19330e0ca8641ed6065843bd0fb0
size 3997159
