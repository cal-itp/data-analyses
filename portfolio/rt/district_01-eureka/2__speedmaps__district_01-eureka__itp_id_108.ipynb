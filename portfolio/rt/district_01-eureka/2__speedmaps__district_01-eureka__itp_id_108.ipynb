version https://git-lfs.github.com/spec/v1
oid sha256:732154d8102ace894983e6b633a0571d2d6189971db3db91d02e3a1e642ca26e
size 70183
