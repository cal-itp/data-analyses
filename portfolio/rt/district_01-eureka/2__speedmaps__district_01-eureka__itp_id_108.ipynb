version https://git-lfs.github.com/spec/v1
oid sha256:7ae53db52ef67ce8ed149b542b6483bc56605d837d95f187edb7bf60d9d7cf96
size 69616
