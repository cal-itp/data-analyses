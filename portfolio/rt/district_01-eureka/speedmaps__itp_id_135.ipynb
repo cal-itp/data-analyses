{
 "cells": [
  {
   "cell_type": "code",
   "execution_count": 1,
   "id": "46898b5c-b5cc-4096-ab68-8c3e42fab870",
   "metadata": {
    "execution": {
     "iopub.execute_input": "2022-04-22T02:52:06.381343Z",
     "iopub.status.busy": "2022-04-22T02:52:06.380702Z",
     "iopub.status.idle": "2022-04-22T02:52:31.851116Z",
     "shell.execute_reply": "2022-04-22T02:52:31.850241Z"
    },
    "jupyter": {
     "source_hidden": true
    },
    "papermill": {
     "duration": 25.494464,
     "end_time": "2022-04-22T02:52:31.853878",
     "exception": false,
     "start_time": "2022-04-22T02:52:06.359414",
     "status": "completed"
    },
    "tags": [
     "remove_input"
    ]
   },
   "outputs": [],
   "source": [
    "%%capture\n",
    "import warnings\n",
    "warnings.filterwarnings('ignore')\n",
    "\n",
    "import os\n",
    "os.environ[\"CALITP_BQ_MAX_BYTES\"] = str(800_000_000_000)\n",
    "import shared_utils\n",
    "import utils\n",
    "\n",
    "from calitp.tables import tbl\n",
    "from calitp import query_sql\n",
    "import calitp.magics\n",
    "\n",
    "from siuba import *\n",
    "import pandas as pd\n",
    "import geopandas as gpd\n",
    "\n",
    "import datetime as dt\n",
    "\n",
    "import importlib\n",
    "import rt_filter_map_plot\n",
    "\n",
    "from IPython.display import display, Markdown, Latex, HTML\n",
    "import json"
   ]
  },
  {
   "cell_type": "code",
   "execution_count": 2,
   "id": "9f15ed6a-5ab7-4f57-9695-3f762781b74c",
   "metadata": {
    "execution": {
     "iopub.execute_input": "2022-04-22T02:52:31.893596Z",
     "iopub.status.busy": "2022-04-22T02:52:31.892651Z",
     "iopub.status.idle": "2022-04-22T02:52:31.897375Z",
     "shell.execute_reply": "2022-04-22T02:52:31.896839Z"
    },
    "jupyter": {
     "source_hidden": true
    },
    "papermill": {
     "duration": 0.025981,
     "end_time": "2022-04-22T02:52:31.899277",
     "exception": false,
     "start_time": "2022-04-22T02:52:31.873296",
     "status": "completed"
    },
    "tags": [
     "parameters",
     "remove_input"
    ]
   },
   "outputs": [],
   "source": [
    "## parameters cell\n",
    "itp_id = 135"
   ]
  },
  {
   "cell_type": "code",
   "execution_count": 3,
   "id": "c9024ddb",
   "metadata": {
    "execution": {
     "iopub.execute_input": "2022-04-22T02:52:31.937941Z",
     "iopub.status.busy": "2022-04-22T02:52:31.937200Z",
     "iopub.status.idle": "2022-04-22T02:52:31.941661Z",
     "shell.execute_reply": "2022-04-22T02:52:31.941127Z"
    },
    "jupyter": {
     "source_hidden": true
    },
    "papermill": {
     "duration": 0.02602,
     "end_time": "2022-04-22T02:52:31.943566",
     "exception": false,
     "start_time": "2022-04-22T02:52:31.917546",
     "status": "completed"
    },
    "tags": [
     "injected-parameters",
     "remove_input"
    ]
   },
   "outputs": [],
   "source": [
    "# Parameters\n",
    "district = \"01 - Eureka\"\n",
    "itp_id = 135\n"
   ]
  },
  {
   "cell_type": "code",
   "execution_count": 4,
   "id": "6c2e9651-70e4-4403-b43d-da50315ef8fd",
   "metadata": {
    "execution": {
     "iopub.execute_input": "2022-04-22T02:52:31.983235Z",
     "iopub.status.busy": "2022-04-22T02:52:31.982691Z",
     "iopub.status.idle": "2022-04-22T02:52:33.968283Z",
     "shell.execute_reply": "2022-04-22T02:52:33.967651Z"
    },
    "jupyter": {
     "source_hidden": true
    },
    "papermill": {
     "duration": 2.008971,
     "end_time": "2022-04-22T02:52:33.970598",
     "exception": false,
     "start_time": "2022-04-22T02:52:31.961627",
     "status": "completed"
    },
    "tags": [
     "remove_input"
    ]
   },
   "outputs": [],
   "source": [
    "airtable_organizations = (\n",
    "    tbl.airtable.california_transit_organizations()\n",
    "    >> select(_.itp_id, _.name, _.caltrans_district,\n",
    "              _.website, _.ntp_id, _.drmt_organization_name)\n",
    "    >> filter(_.itp_id == itp_id)\n",
    "    >> collect()\n",
    ")"
   ]
  },
  {
   "cell_type": "code",
   "execution_count": 5,
   "id": "cc9c7000-4042-4f64-b7ef-8e8e5f1e706a",
   "metadata": {
    "execution": {
     "iopub.execute_input": "2022-04-22T02:52:34.009408Z",
     "iopub.status.busy": "2022-04-22T02:52:34.008835Z",
     "iopub.status.idle": "2022-04-22T02:52:34.012990Z",
     "shell.execute_reply": "2022-04-22T02:52:34.012431Z"
    },
    "jupyter": {
     "source_hidden": true
    },
    "papermill": {
     "duration": 0.02513,
     "end_time": "2022-04-22T02:52:34.015025",
     "exception": false,
     "start_time": "2022-04-22T02:52:33.989895",
     "status": "completed"
    },
    "tags": [
     "remove_input"
    ]
   },
   "outputs": [],
   "source": [
    "# airtable_organizations"
   ]
  },
  {
   "cell_type": "code",
   "execution_count": 6,
   "id": "306a7053-3fab-4723-a287-111e4eba11f2",
   "metadata": {
    "execution": {
     "iopub.execute_input": "2022-04-22T02:52:34.053800Z",
     "iopub.status.busy": "2022-04-22T02:52:34.053196Z",
     "iopub.status.idle": "2022-04-22T02:52:34.058271Z",
     "shell.execute_reply": "2022-04-22T02:52:34.057640Z"
    },
    "jupyter": {
     "source_hidden": true
    },
    "papermill": {
     "duration": 0.027593,
     "end_time": "2022-04-22T02:52:34.060115",
     "exception": false,
     "start_time": "2022-04-22T02:52:34.032522",
     "status": "completed"
    },
    "tags": [
     "remove_input"
    ]
   },
   "outputs": [],
   "source": [
    "analysis_date = dt.date(2022, 3, 30)\n",
    "if itp_id == 273:\n",
    "    analysis_date = dt.date(2022, 2, 8) # #override for SacRT "
   ]
  },
  {
   "cell_type": "code",
   "execution_count": 7,
   "id": "47c79d99-c82f-4e1e-b11e-2b1e83c13a1b",
   "metadata": {
    "execution": {
     "iopub.execute_input": "2022-04-22T02:52:34.102387Z",
     "iopub.status.busy": "2022-04-22T02:52:34.101827Z",
     "iopub.status.idle": "2022-04-22T02:52:34.106203Z",
     "shell.execute_reply": "2022-04-22T02:52:34.105520Z"
    },
    "jupyter": {
     "source_hidden": true
    },
    "papermill": {
     "duration": 0.026677,
     "end_time": "2022-04-22T02:52:34.108087",
     "exception": false,
     "start_time": "2022-04-22T02:52:34.081410",
     "status": "completed"
    },
    "tags": [
     "remove_input"
    ]
   },
   "outputs": [],
   "source": [
    "month_day = analysis_date.strftime('%m_%d')"
   ]
  },
  {
   "cell_type": "code",
   "execution_count": 8,
   "id": "1739d979-cd4d-456c-a1ad-a016cbf69cad",
   "metadata": {
    "execution": {
     "iopub.execute_input": "2022-04-22T02:52:34.145942Z",
     "iopub.status.busy": "2022-04-22T02:52:34.145312Z",
     "iopub.status.idle": "2022-04-22T02:52:34.519212Z",
     "shell.execute_reply": "2022-04-22T02:52:34.518484Z"
    },
    "jupyter": {
     "source_hidden": true
    },
    "papermill": {
     "duration": 0.395755,
     "end_time": "2022-04-22T02:52:34.521415",
     "exception": false,
     "start_time": "2022-04-22T02:52:34.125660",
     "status": "completed"
    },
    "tags": [
     "remove_input"
    ]
   },
   "outputs": [],
   "source": [
    "trips = pd.read_parquet(f'{utils.GCS_FILE_PATH}rt_trips/{itp_id}_{month_day}.parquet')"
   ]
  },
  {
   "cell_type": "code",
   "execution_count": 9,
   "id": "b77a9167-4017-4367-8fed-d4e6bf3999b9",
   "metadata": {
    "execution": {
     "iopub.execute_input": "2022-04-22T02:52:34.558913Z",
     "iopub.status.busy": "2022-04-22T02:52:34.558343Z",
     "iopub.status.idle": "2022-04-22T02:52:35.011239Z",
     "shell.execute_reply": "2022-04-22T02:52:35.010405Z"
    },
    "jupyter": {
     "source_hidden": true
    },
    "papermill": {
     "duration": 0.475084,
     "end_time": "2022-04-22T02:52:35.013944",
     "exception": false,
     "start_time": "2022-04-22T02:52:34.538860",
     "status": "completed"
    },
    "tags": [
     "remove_input"
    ]
   },
   "outputs": [],
   "source": [
    "stop_delay = gpd.read_parquet(f'{utils.GCS_FILE_PATH}stop_delay_views/{itp_id}_{month_day}.parquet')\n",
    "stop_delay['arrival_time'] = stop_delay.arrival_time.map(lambda x: dt.datetime.fromisoformat(x))\n",
    "stop_delay['actual_time'] = stop_delay.actual_time.map(lambda x: dt.datetime.fromisoformat(x))"
   ]
  },
  {
   "cell_type": "code",
   "execution_count": 10,
   "id": "2b2fe439-10af-4140-ab83-69b05c385b40",
   "metadata": {
    "execution": {
     "iopub.execute_input": "2022-04-22T02:52:35.054545Z",
     "iopub.status.busy": "2022-04-22T02:52:35.053983Z",
     "iopub.status.idle": "2022-04-22T02:52:41.180838Z",
     "shell.execute_reply": "2022-04-22T02:52:41.179801Z"
    },
    "jupyter": {
     "source_hidden": true
    },
    "papermill": {
     "duration": 6.151157,
     "end_time": "2022-04-22T02:52:41.183550",
     "exception": false,
     "start_time": "2022-04-22T02:52:35.032393",
     "status": "completed"
    },
    "tags": [
     "remove_input"
    ]
   },
   "outputs": [],
   "source": [
    "%%capture\n",
    "routelines = utils.get_routelines(itp_id, analysis_date)"
   ]
  },
  {
   "cell_type": "code",
   "execution_count": 11,
   "id": "e4cbefc6-9bbb-4989-85b7-1f31da17fcb8",
   "metadata": {
    "execution": {
     "iopub.execute_input": "2022-04-22T02:52:41.224599Z",
     "iopub.status.busy": "2022-04-22T02:52:41.224271Z",
     "iopub.status.idle": "2022-04-22T02:52:41.535043Z",
     "shell.execute_reply": "2022-04-22T02:52:41.534195Z"
    },
    "jupyter": {
     "source_hidden": true
    },
    "papermill": {
     "duration": 0.334389,
     "end_time": "2022-04-22T02:52:41.537238",
     "exception": false,
     "start_time": "2022-04-22T02:52:41.202849",
     "status": "completed"
    },
    "tags": [
     "remove_input"
    ]
   },
   "outputs": [],
   "source": [
    "%%capture\n",
    "rt_day = rt_filter_map_plot.RtFilterMapper(trips, stop_delay, routelines)"
   ]
  },
  {
   "cell_type": "code",
   "execution_count": 12,
   "id": "6c335d40-7a7b-4641-8a3d-c970b2823cdf",
   "metadata": {
    "execution": {
     "iopub.execute_input": "2022-04-22T02:52:41.578274Z",
     "iopub.status.busy": "2022-04-22T02:52:41.577986Z",
     "iopub.status.idle": "2022-04-22T02:52:41.583962Z",
     "shell.execute_reply": "2022-04-22T02:52:41.582941Z"
    },
    "jupyter": {
     "source_hidden": true
    },
    "papermill": {
     "duration": 0.030676,
     "end_time": "2022-04-22T02:52:41.587214",
     "exception": false,
     "start_time": "2022-04-22T02:52:41.556538",
     "status": "completed"
    },
    "tags": [
     "remove_input"
    ]
   },
   "outputs": [],
   "source": [
    "%%capture_parameters\n",
    "agency_name = rt_day.calitp_agency_name\n",
    "district = airtable_organizations.caltrans_district.iloc[0]\n",
    "agency_name, district"
   ]
  },
  {
   "cell_type": "markdown",
   "id": "52110155-d104-4043-8376-3f83e82a959a",
   "metadata": {
    "papermill": {
     "duration": 0.018468,
     "end_time": "2022-04-22T02:52:41.624238",
     "exception": false,
     "start_time": "2022-04-22T02:52:41.605770",
     "status": "completed"
    },
    "tags": []
   },
   "source": [
    "# Humboldt Transit Authority"
   ]
  },
  {
   "cell_type": "markdown",
   "id": "7d5572cd-dd67-4e26-b100-a0e7472a4a17",
   "metadata": {
    "papermill": {
     "duration": 0.018529,
     "end_time": "2022-04-22T02:52:41.661455",
     "exception": false,
     "start_time": "2022-04-22T02:52:41.642926",
     "status": "completed"
    },
    "tags": []
   },
   "source": [
    "## About These Maps:\n",
    "\n",
    "* Each map shows bus (and rail, if applicable) speeds for Humboldt Transit Authority, with a map each for the morning peak, midday, and afternoon peak periods.\n",
    "* On the map, routes are split into segments corresponding to the distance between two stops, allowing you to focus on specific portions of the route experiencing a slowdown.\n",
    "* Route segments are arrow-shaped to indicate direction of travel.\n",
    "* Hover over, or click, a segment with your mouse to see the exact speed, route name, and transit service frequency in that segment. \n",
    "    * Higher-frequency routes (3+ trips per hour) are especially important, since those slowdowns correspond to more vehicles, and riders, delayed in traffic."
   ]
  },
  {
   "cell_type": "code",
   "execution_count": 13,
   "id": "8e940d3d-c76e-42ba-be8b-739852771ca6",
   "metadata": {
    "execution": {
     "iopub.execute_input": "2022-04-22T02:52:41.704843Z",
     "iopub.status.busy": "2022-04-22T02:52:41.704532Z",
     "iopub.status.idle": "2022-04-22T02:52:41.709492Z",
     "shell.execute_reply": "2022-04-22T02:52:41.708791Z"
    },
    "jupyter": {
     "source_hidden": true
    },
    "papermill": {
     "duration": 0.02727,
     "end_time": "2022-04-22T02:52:41.711277",
     "exception": false,
     "start_time": "2022-04-22T02:52:41.684007",
     "status": "completed"
    },
    "tags": [
     "remove_input"
    ]
   },
   "outputs": [],
   "source": [
    "## avoid papermill errors when map fails to render\n",
    "m = None"
   ]
  },
  {
   "cell_type": "markdown",
   "id": "74fce4a9-514f-405d-9ce0-1cb1998a696b",
   "metadata": {
    "papermill": {
     "duration": 0.019904,
     "end_time": "2022-04-22T02:52:41.750104",
     "exception": false,
     "start_time": "2022-04-22T02:52:41.730200",
     "status": "completed"
    },
    "tags": []
   },
   "source": [
    "## Morning Peak"
   ]
  },
  {
   "cell_type": "code",
   "execution_count": 14,
   "id": "533a64f4-f374-4f2c-94d3-5146ebe7c036",
   "metadata": {
    "execution": {
     "iopub.execute_input": "2022-04-22T02:52:41.792648Z",
     "iopub.status.busy": "2022-04-22T02:52:41.791756Z",
     "iopub.status.idle": "2022-04-22T02:52:41.799339Z",
     "shell.execute_reply": "2022-04-22T02:52:41.798649Z"
    },
    "jupyter": {
     "source_hidden": true
    },
    "papermill": {
     "duration": 0.030907,
     "end_time": "2022-04-22T02:52:41.801420",
     "exception": false,
     "start_time": "2022-04-22T02:52:41.770513",
     "status": "completed"
    },
    "tags": [
     "remove_input"
    ]
   },
   "outputs": [],
   "source": [
    "%%capture\n",
    "rt_day.set_filter(start_time='06:00', end_time='09:00')"
   ]
  },
  {
   "cell_type": "code",
   "execution_count": 15,
   "id": "2f317120-99ee-435b-96cd-1236b8ee2e0b",
   "metadata": {
    "execution": {
     "iopub.execute_input": "2022-04-22T02:52:41.843103Z",
     "iopub.status.busy": "2022-04-22T02:52:41.842399Z",
     "iopub.status.idle": "2022-04-22T02:52:46.810331Z",
     "shell.execute_reply": "2022-04-22T02:52:46.809467Z"
    },
    "jupyter": {
     "source_hidden": true
    },
    "papermill": {
     "duration": 4.991498,
     "end_time": "2022-04-22T02:52:46.813439",
     "exception": false,
     "start_time": "2022-04-22T02:52:41.821941",
     "status": "completed"
    },
    "tags": [
     "remove_input"
    ]
   },
   "outputs": [],
   "source": [
    "%%capture\n",
    "m = rt_day.segment_speed_map(how='low_speeds', no_title=True)"
   ]
  },
  {
   "cell_type": "code",
   "execution_count": 16,
   "id": "275087be-b46d-4acb-95fe-2dc98c2089a2",
   "metadata": {
    "execution": {
     "iopub.execute_input": "2022-04-22T02:52:46.858328Z",
     "iopub.status.busy": "2022-04-22T02:52:46.857648Z",
     "iopub.status.idle": "2022-04-22T02:52:46.865502Z",
     "shell.execute_reply": "2022-04-22T02:52:46.864594Z"
    },
    "jupyter": {
     "source_hidden": true
    },
    "papermill": {
     "duration": 0.035765,
     "end_time": "2022-04-22T02:52:46.871223",
     "exception": false,
     "start_time": "2022-04-22T02:52:46.835458",
     "status": "completed"
    },
    "tags": [
     "remove_input"
    ]
   },
   "outputs": [],
   "source": [
    "m"
   ]
  },
  {
   "cell_type": "code",
   "execution_count": 17,
   "id": "b0cf9b97-7485-4f36-b5e8-124f22fa9661",
   "metadata": {
    "execution": {
     "iopub.execute_input": "2022-04-22T02:52:46.914346Z",
     "iopub.status.busy": "2022-04-22T02:52:46.914058Z",
     "iopub.status.idle": "2022-04-22T02:52:46.971104Z",
     "shell.execute_reply": "2022-04-22T02:52:46.970036Z"
    },
    "jupyter": {
     "source_hidden": true
    },
    "papermill": {
     "duration": 0.081987,
     "end_time": "2022-04-22T02:52:46.973878",
     "exception": false,
     "start_time": "2022-04-22T02:52:46.891891",
     "status": "completed"
    },
    "tags": [
     "remove_input"
    ]
   },
   "outputs": [
    {
     "data": {
      "text/markdown": [
       "AM Peak most delayed routes: \n",
       " * RTS, HSU-College of the Redwoods, Southbound: 5.0 minutes late on average\n",
       " * RTS, HSU-College of the Redwoods, Northbound: 4.0 minutes late on average\n",
       " * RTS, Trinidad-Scotia, Northbound: 2.0 minutes late on average\n",
       " * None, Eastbound: 2.0 minutes late on average\n",
       " * None, Westbound: 2.0 minutes late on average"
      ],
      "text/plain": [
       "<IPython.core.display.Markdown object>"
      ]
     },
     "metadata": {},
     "output_type": "display_data"
    }
   ],
   "source": [
    "rt_day.describe_delayed_routes()"
   ]
  },
  {
   "cell_type": "markdown",
   "id": "3d263ba2-49ae-4e02-9d06-3181b03f51ba",
   "metadata": {
    "papermill": {
     "duration": 0.021197,
     "end_time": "2022-04-22T02:52:47.017860",
     "exception": false,
     "start_time": "2022-04-22T02:52:46.996663",
     "status": "completed"
    },
    "tags": []
   },
   "source": [
    "## Midday"
   ]
  },
  {
   "cell_type": "code",
   "execution_count": 18,
   "id": "f5344e63-89d2-43d6-9783-55a3061c99d2",
   "metadata": {
    "execution": {
     "iopub.execute_input": "2022-04-22T02:52:47.062512Z",
     "iopub.status.busy": "2022-04-22T02:52:47.062222Z",
     "iopub.status.idle": "2022-04-22T02:52:47.072120Z",
     "shell.execute_reply": "2022-04-22T02:52:47.071238Z"
    },
    "jupyter": {
     "source_hidden": true
    },
    "papermill": {
     "duration": 0.035052,
     "end_time": "2022-04-22T02:52:47.074224",
     "exception": false,
     "start_time": "2022-04-22T02:52:47.039172",
     "status": "completed"
    },
    "tags": [
     "remove_input"
    ]
   },
   "outputs": [],
   "source": [
    "%%capture\n",
    "rt_day.set_filter(start_time='10:00', end_time='14:00')"
   ]
  },
  {
   "cell_type": "code",
   "execution_count": 19,
   "id": "a4c40f3c-cf35-45d5-9d87-aa4701bed3aa",
   "metadata": {
    "execution": {
     "iopub.execute_input": "2022-04-22T02:52:47.118251Z",
     "iopub.status.busy": "2022-04-22T02:52:47.117907Z",
     "iopub.status.idle": "2022-04-22T02:52:51.642995Z",
     "shell.execute_reply": "2022-04-22T02:52:51.642206Z"
    },
    "jupyter": {
     "source_hidden": true
    },
    "papermill": {
     "duration": 4.549927,
     "end_time": "2022-04-22T02:52:51.645106",
     "exception": false,
     "start_time": "2022-04-22T02:52:47.095179",
     "status": "completed"
    },
    "tags": [
     "remove_input"
    ]
   },
   "outputs": [],
   "source": [
    "%%capture\n",
    "m = rt_day.segment_speed_map(how='low_speeds', no_title=True)"
   ]
  },
  {
   "cell_type": "code",
   "execution_count": 20,
   "id": "a78b7db5-f43f-4bf1-8036-ae972a87fc53",
   "metadata": {
    "execution": {
     "iopub.execute_input": "2022-04-22T02:52:51.689786Z",
     "iopub.status.busy": "2022-04-22T02:52:51.688859Z",
     "iopub.status.idle": "2022-04-22T02:52:51.693216Z",
     "shell.execute_reply": "2022-04-22T02:52:51.692398Z"
    },
    "jupyter": {
     "source_hidden": true
    },
    "papermill": {
     "duration": 0.028638,
     "end_time": "2022-04-22T02:52:51.694998",
     "exception": false,
     "start_time": "2022-04-22T02:52:51.666360",
     "status": "completed"
    },
    "tags": [
     "remove_input"
    ]
   },
   "outputs": [],
   "source": [
    "m"
   ]
  },
  {
   "cell_type": "code",
   "execution_count": 21,
   "id": "6c745570-b50f-4722-b943-2176444f7af6",
   "metadata": {
    "execution": {
     "iopub.execute_input": "2022-04-22T02:52:51.739635Z",
     "iopub.status.busy": "2022-04-22T02:52:51.738685Z",
     "iopub.status.idle": "2022-04-22T02:52:51.789983Z",
     "shell.execute_reply": "2022-04-22T02:52:51.789012Z"
    },
    "jupyter": {
     "source_hidden": true
    },
    "papermill": {
     "duration": 0.075339,
     "end_time": "2022-04-22T02:52:51.792235",
     "exception": false,
     "start_time": "2022-04-22T02:52:51.716896",
     "status": "completed"
    },
    "tags": [
     "remove_input"
    ]
   },
   "outputs": [
    {
     "data": {
      "text/markdown": [
       "Midday most delayed routes: \n",
       " * RTS, Trinidad-Scotia, Southbound: 17.0 minutes late on average\n",
       " * RTS, Trinidad-Scotia, Southbound: 4.0 minutes late on average\n",
       " * RTS, Trinidad-Scotia, Southbound: 4.0 minutes late on average\n",
       " * RTS, Trinidad-Scotia, Northbound: 4.0 minutes late on average\n",
       " * RTS, HSU-College of the Redwoods, Northbound: 3.0 minutes late on average"
      ],
      "text/plain": [
       "<IPython.core.display.Markdown object>"
      ]
     },
     "metadata": {},
     "output_type": "display_data"
    }
   ],
   "source": [
    "rt_day.describe_delayed_routes()"
   ]
  },
  {
   "cell_type": "markdown",
   "id": "704f0788-b4a8-497d-b2aa-c7ac6df939f4",
   "metadata": {
    "papermill": {
     "duration": 0.02253,
     "end_time": "2022-04-22T02:52:51.835857",
     "exception": false,
     "start_time": "2022-04-22T02:52:51.813327",
     "status": "completed"
    },
    "tags": []
   },
   "source": [
    "## Afternoon Peak"
   ]
  },
  {
   "cell_type": "code",
   "execution_count": 22,
   "id": "923f1462-b34a-42d2-a632-c5eb3ac16ac6",
   "metadata": {
    "execution": {
     "iopub.execute_input": "2022-04-22T02:52:51.886095Z",
     "iopub.status.busy": "2022-04-22T02:52:51.885791Z",
     "iopub.status.idle": "2022-04-22T02:52:51.891575Z",
     "shell.execute_reply": "2022-04-22T02:52:51.890777Z"
    },
    "jupyter": {
     "source_hidden": true
    },
    "papermill": {
     "duration": 0.034111,
     "end_time": "2022-04-22T02:52:51.893332",
     "exception": false,
     "start_time": "2022-04-22T02:52:51.859221",
     "status": "completed"
    },
    "tags": [
     "remove_input"
    ]
   },
   "outputs": [],
   "source": [
    "%%capture\n",
    "rt_day.set_filter(start_time='15:00', end_time='19:00')"
   ]
  },
  {
   "cell_type": "code",
   "execution_count": 23,
   "id": "5e46b095-7bc2-4552-a37b-661d076b2b51",
   "metadata": {
    "execution": {
     "iopub.execute_input": "2022-04-22T02:52:51.937930Z",
     "iopub.status.busy": "2022-04-22T02:52:51.936964Z",
     "iopub.status.idle": "2022-04-22T02:52:57.076207Z",
     "shell.execute_reply": "2022-04-22T02:52:57.075524Z"
    },
    "jupyter": {
     "source_hidden": true
    },
    "papermill": {
     "duration": 5.163849,
     "end_time": "2022-04-22T02:52:57.078091",
     "exception": false,
     "start_time": "2022-04-22T02:52:51.914242",
     "status": "completed"
    },
    "tags": [
     "remove_input"
    ]
   },
   "outputs": [],
   "source": [
    "%%capture\n",
    "m = rt_day.segment_speed_map(how='low_speeds', no_title=True)"
   ]
  },
  {
   "cell_type": "code",
   "execution_count": 24,
   "id": "0393f107-e9fe-4982-961a-032f7bf4e0eb",
   "metadata": {
    "execution": {
     "iopub.execute_input": "2022-04-22T02:52:57.123972Z",
     "iopub.status.busy": "2022-04-22T02:52:57.123050Z",
     "iopub.status.idle": "2022-04-22T02:52:57.127994Z",
     "shell.execute_reply": "2022-04-22T02:52:57.127124Z"
    },
    "jupyter": {
     "source_hidden": true
    },
    "papermill": {
     "duration": 0.030539,
     "end_time": "2022-04-22T02:52:57.130136",
     "exception": false,
     "start_time": "2022-04-22T02:52:57.099597",
     "status": "completed"
    },
    "tags": [
     "remove_input"
    ]
   },
   "outputs": [],
   "source": [
    "m"
   ]
  },
  {
   "cell_type": "code",
   "execution_count": 25,
   "id": "76580953-2a2b-4295-a41c-20442eae883e",
   "metadata": {
    "execution": {
     "iopub.execute_input": "2022-04-22T02:52:57.180162Z",
     "iopub.status.busy": "2022-04-22T02:52:57.179867Z",
     "iopub.status.idle": "2022-04-22T02:52:57.237836Z",
     "shell.execute_reply": "2022-04-22T02:52:57.236855Z"
    },
    "jupyter": {
     "source_hidden": true
    },
    "papermill": {
     "duration": 0.088112,
     "end_time": "2022-04-22T02:52:57.240364",
     "exception": false,
     "start_time": "2022-04-22T02:52:57.152252",
     "status": "completed"
    },
    "tags": [
     "remove_input"
    ]
   },
   "outputs": [
    {
     "data": {
      "text/markdown": [
       "PM Peak most delayed routes: \n",
       " * RTS, Trinidad-Scotia, Northbound: 5.0 minutes late on average\n",
       " * RTS, Trinidad-Scotia, Southbound: 4.0 minutes late on average\n",
       " * RTS, HSU-College of the Redwoods, Northbound: 4.0 minutes late on average\n",
       " * RTS, HSU-College of the Redwoods, Southbound: 3.0 minutes late on average\n",
       " * RTS, Trinidad-Scotia, Northbound: 3.0 minutes late on average"
      ],
      "text/plain": [
       "<IPython.core.display.Markdown object>"
      ]
     },
     "metadata": {},
     "output_type": "display_data"
    }
   ],
   "source": [
    "rt_day.describe_delayed_routes()"
   ]
  },
  {
   "cell_type": "code",
   "execution_count": 26,
   "id": "91874f76-635b-4fde-8d61-abc795aca6c6",
   "metadata": {
    "execution": {
     "iopub.execute_input": "2022-04-22T02:52:57.292939Z",
     "iopub.status.busy": "2022-04-22T02:52:57.292472Z",
     "iopub.status.idle": "2022-04-22T02:52:57.317557Z",
     "shell.execute_reply": "2022-04-22T02:52:57.316482Z"
    },
    "jupyter": {
     "source_hidden": true
    },
    "papermill": {
     "duration": 0.055332,
     "end_time": "2022-04-22T02:52:57.320163",
     "exception": false,
     "start_time": "2022-04-22T02:52:57.264831",
     "status": "completed"
    },
    "tags": [
     "remove_input"
    ]
   },
   "outputs": [],
   "source": [
    "try:\n",
    "    metrics_df = (rt_day.rt_trips\n",
    "         >> group_by(_.route_short_name, _.direction_id)\n",
    "         >> summarize(speed_variance = _.mean_speed_mph.var(),\n",
    "                     mean_speed_mph = _.mean_speed_mph.mean(),\n",
    "                     min_hour = _.median_time.min().hour,\n",
    "                     max_hour = _.median_time.max().hour)\n",
    "         >> filter(_.min_hour <= 7, _.max_hour >= 15,\n",
    "                   _.mean_speed_mph < _.mean_speed_mph.quantile(.6),\n",
    "                   _.speed_variance)\n",
    "         >> arrange(-_.speed_variance)\n",
    "         >> head(20)\n",
    "        )\n",
    "except Exception as e:\n",
    "    pass\n",
    "    # print(e)\n",
    "## check that route has all-day span..."
   ]
  },
  {
   "cell_type": "code",
   "execution_count": 27,
   "id": "758b0bae-32d0-40dd-a1d1-1d107b0e7e8b",
   "metadata": {
    "execution": {
     "iopub.execute_input": "2022-04-22T02:52:57.373652Z",
     "iopub.status.busy": "2022-04-22T02:52:57.373365Z",
     "iopub.status.idle": "2022-04-22T02:52:57.381327Z",
     "shell.execute_reply": "2022-04-22T02:52:57.380295Z"
    },
    "jupyter": {
     "source_hidden": true
    },
    "papermill": {
     "duration": 0.040088,
     "end_time": "2022-04-22T02:52:57.383916",
     "exception": false,
     "start_time": "2022-04-22T02:52:57.343828",
     "status": "completed"
    },
    "tags": [
     "remove_input"
    ]
   },
   "outputs": [],
   "source": [
    "def map_from_metrics(rt_day, metrics_df):\n",
    "    try:\n",
    "        route_name = metrics_df.iloc[1,0]\n",
    "        direction_id = metrics_df.iloc[1,1]\n",
    "        # print(route_name, direction_id)\n",
    "    except Exception as e:\n",
    "        # print(e)\n",
    "        return\n",
    "    # route_name = '281'\n",
    "    # direction_id = '1'\n",
    "    rt_day.set_filter(start_time='06:00', end_time='09:00',\n",
    "                      route_names=[route_name], direction_id = direction_id)\n",
    "    try:\n",
    "        am_map = rt_day.segment_speed_map(how='low_speeds')\n",
    "        display(am_map)\n",
    "    except Exception as e:\n",
    "        # print(e)\n",
    "        pass\n",
    "    \n",
    "    rt_day.set_filter(start_time='10:00', end_time='14:00',\n",
    "                      route_names=[route_name], direction_id = direction_id)\n",
    "    try:\n",
    "        mid_map = rt_day.segment_speed_map(how='low_speeds')\n",
    "        display(mid_map)\n",
    "    except Exception as e:\n",
    "        # print(e)\n",
    "        pass\n",
    "\n",
    "    rt_day.set_filter(start_time='15:00', end_time='19:00',\n",
    "                      route_names=[route_name], direction_id = direction_id)\n",
    "    try:\n",
    "        pm_map = rt_day.segment_speed_map(how='low_speeds')\n",
    "        display(pm_map)\n",
    "    except Exception as e:\n",
    "        # print(e)\n",
    "        pass\n",
    "\n",
    "    return"
   ]
  },
  {
   "cell_type": "markdown",
   "id": "6ce187c8-c7bf-44f4-970e-b3abd69ddc38",
   "metadata": {
    "papermill": {
     "duration": 0.025189,
     "end_time": "2022-04-22T02:52:57.432811",
     "exception": false,
     "start_time": "2022-04-22T02:52:57.407622",
     "status": "completed"
    },
    "tags": []
   },
   "source": [
    "## Single-Route Detail Example"
   ]
  },
  {
   "cell_type": "code",
   "execution_count": 28,
   "id": "c7b4b043-6d15-4d9c-8aac-f0f6649e9552",
   "metadata": {
    "execution": {
     "iopub.execute_input": "2022-04-22T02:52:57.482632Z",
     "iopub.status.busy": "2022-04-22T02:52:57.482305Z",
     "iopub.status.idle": "2022-04-22T02:52:58.841734Z",
     "shell.execute_reply": "2022-04-22T02:52:58.840648Z"
    },
    "jupyter": {
     "source_hidden": true
    },
    "papermill": {
     "duration": 1.387104,
     "end_time": "2022-04-22T02:52:58.844256",
     "exception": false,
     "start_time": "2022-04-22T02:52:57.457152",
     "status": "completed"
    },
    "tags": [
     "remove_input"
    ]
   },
   "outputs": [],
   "source": [
    "try:\n",
    "    map_from_metrics(rt_day, metrics_df)\n",
    "except Exception as e:\n",
    "    # print(e)\n",
    "    pass"
   ]
  },
  {
   "cell_type": "code",
   "execution_count": null,
   "id": "a7d189cb-26d5-4a49-bf0f-2c33fd408f7e",
   "metadata": {
    "jupyter": {
     "source_hidden": true
    },
    "papermill": {
     "duration": 0.023173,
     "end_time": "2022-04-22T02:52:58.890437",
     "exception": false,
     "start_time": "2022-04-22T02:52:58.867264",
     "status": "completed"
    },
    "tags": [
     "remove_input"
    ]
   },
   "outputs": [],
   "source": []
  }
 ],
 "metadata": {
  "kernelspec": {
   "display_name": "Python 3 (ipykernel)",
   "language": "python",
   "name": "python3"
  },
  "language_info": {
   "codemirror_mode": {
    "name": "ipython",
    "version": 3
   },
   "file_extension": ".py",
   "mimetype": "text/x-python",
   "name": "python",
   "nbconvert_exporter": "python",
   "pygments_lexer": "ipython3",
   "version": "3.9.10"
  },
  "papermill": {
   "default_parameters": {},
   "duration": 56.095499,
   "end_time": "2022-04-22T02:53:00.337220",
   "environment_variables": {},
   "exception": null,
   "input_path": "rt_delay/speedmaps.ipynb",
   "output_path": "portfolio/rt/district_01-eureka/speedmaps__itp_id_135.ipynb",
   "parameters": {
    "district": "01 - Eureka",
    "itp_id": 135
   },
   "start_time": "2022-04-22T02:52:04.241721",
   "version": "2.3.4"
  }
 },
 "nbformat": 4,
 "nbformat_minor": 5
}