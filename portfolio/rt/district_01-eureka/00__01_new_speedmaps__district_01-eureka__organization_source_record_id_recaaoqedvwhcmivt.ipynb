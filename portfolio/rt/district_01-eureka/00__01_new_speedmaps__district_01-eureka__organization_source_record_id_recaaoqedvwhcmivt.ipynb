version https://git-lfs.github.com/spec/v1
oid sha256:6b637c87b4a381353096bd6a2df09c959dcf5090f27184b4f5dc39619b588b04
size 67243
