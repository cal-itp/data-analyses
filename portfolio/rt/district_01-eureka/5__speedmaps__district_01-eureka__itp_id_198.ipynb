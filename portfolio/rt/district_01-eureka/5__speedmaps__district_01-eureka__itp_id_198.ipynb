version https://git-lfs.github.com/spec/v1
oid sha256:0b157051b0cbe12c35a852a118c2d476345907d5e6e683cd22a03754e19fbd60
size 21479189
