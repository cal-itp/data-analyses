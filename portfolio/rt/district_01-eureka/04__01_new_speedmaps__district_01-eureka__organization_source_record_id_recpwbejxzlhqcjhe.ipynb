version https://git-lfs.github.com/spec/v1
oid sha256:01743886325a2cef6ee9f40d3444c76d897a991f75e1e34c0eb655c8c3dae334
size 67855
