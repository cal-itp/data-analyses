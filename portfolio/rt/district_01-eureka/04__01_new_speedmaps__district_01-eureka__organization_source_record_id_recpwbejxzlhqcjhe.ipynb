version https://git-lfs.github.com/spec/v1
oid sha256:74d1de3c171b27400a8c6c79dfc91ea74f27d67fe7157a4a13fd5f9601a26248
size 60620
