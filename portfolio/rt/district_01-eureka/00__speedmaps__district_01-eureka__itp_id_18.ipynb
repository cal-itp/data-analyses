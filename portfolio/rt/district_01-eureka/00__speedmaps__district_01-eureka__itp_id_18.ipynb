version https://git-lfs.github.com/spec/v1
oid sha256:7736b84499cc3f35ec20107d2db8c3ade4643dee8d69aa8f9705fbec98bd2a02
size 79133
