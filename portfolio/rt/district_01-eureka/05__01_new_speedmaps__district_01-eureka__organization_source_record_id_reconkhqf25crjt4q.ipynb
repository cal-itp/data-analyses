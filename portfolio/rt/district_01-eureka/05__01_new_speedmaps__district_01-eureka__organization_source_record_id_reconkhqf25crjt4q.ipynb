version https://git-lfs.github.com/spec/v1
oid sha256:673e4ddfe0a4a332c9a8a3cf5c654487831b370a17fce0da407d6ef5f8691036
size 64261
