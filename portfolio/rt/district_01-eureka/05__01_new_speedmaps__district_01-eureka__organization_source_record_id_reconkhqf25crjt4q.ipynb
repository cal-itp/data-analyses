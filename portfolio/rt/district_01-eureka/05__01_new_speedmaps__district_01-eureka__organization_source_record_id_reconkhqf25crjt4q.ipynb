version https://git-lfs.github.com/spec/v1
oid sha256:398f6389acd2bf1d22a9396cffcf0f8a23c23a859a7e7344a0268e27b31558cd
size 64262
