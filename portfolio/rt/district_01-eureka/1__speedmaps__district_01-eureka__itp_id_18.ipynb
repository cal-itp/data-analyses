version https://git-lfs.github.com/spec/v1
oid sha256:887392eb43591d7b6e239ba7bde7bdb44705eac3bdb051439ba7c3f774831a9d
size 70193
