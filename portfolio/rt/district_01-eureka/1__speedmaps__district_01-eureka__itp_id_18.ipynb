version https://git-lfs.github.com/spec/v1
oid sha256:cc43b0195f0035781e9888fc1e3ef15dabf42b5255b8aeda7a2b630f861ed281
size 58321
