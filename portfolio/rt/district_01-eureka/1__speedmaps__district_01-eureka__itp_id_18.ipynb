version https://git-lfs.github.com/spec/v1
oid sha256:c20b2cce4a411f35569428d71423658f9b7bf053caa1588d931fbd1825715395
size 70193
