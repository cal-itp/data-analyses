version https://git-lfs.github.com/spec/v1
oid sha256:6c1e7428d185e1412f36e71a26c5868ae7b9f98572f1ce49f6cf6edb1c11ad45
size 3868602
