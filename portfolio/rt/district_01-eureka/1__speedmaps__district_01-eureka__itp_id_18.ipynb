version https://git-lfs.github.com/spec/v1
oid sha256:c69198532d6f0456b313424ded2774058fd49e9bfff567da2f3bef4c0730cdcd
size 23336716
