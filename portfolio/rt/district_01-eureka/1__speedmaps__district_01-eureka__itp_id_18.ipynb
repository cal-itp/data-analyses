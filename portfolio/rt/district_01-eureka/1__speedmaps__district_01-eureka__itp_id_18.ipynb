version https://git-lfs.github.com/spec/v1
oid sha256:9f42bcaac68826250e6af665c23c5a4926183fa12e6eb12b7dfa01696a6e98ff
size 3997156
