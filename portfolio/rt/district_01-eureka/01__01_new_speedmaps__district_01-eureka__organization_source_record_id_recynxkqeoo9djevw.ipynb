version https://git-lfs.github.com/spec/v1
oid sha256:fba3125b24e786cfc96d1faa25e12aaba90735081011d1e5ac9f4df131eacef7
size 60295
