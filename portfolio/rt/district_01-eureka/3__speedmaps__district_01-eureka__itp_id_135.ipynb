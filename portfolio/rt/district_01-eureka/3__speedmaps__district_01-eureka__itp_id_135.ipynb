version https://git-lfs.github.com/spec/v1
oid sha256:a0d3f3bacb18af7e9bde5ad63aa66c38c515bb7e400a9e4c88bd9a2a46cc48f7
size 35221
