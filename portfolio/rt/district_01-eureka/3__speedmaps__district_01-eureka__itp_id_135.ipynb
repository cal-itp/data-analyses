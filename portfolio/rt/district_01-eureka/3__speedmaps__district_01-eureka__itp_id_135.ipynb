version https://git-lfs.github.com/spec/v1
oid sha256:a7aad6d48d22d95029117cb733b36db7dccbeecdabdcf9f02d469d1765d88673
size 71494
