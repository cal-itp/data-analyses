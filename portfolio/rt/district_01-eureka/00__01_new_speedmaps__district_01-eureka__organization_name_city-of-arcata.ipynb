version https://git-lfs.github.com/spec/v1
oid sha256:0969acf34bedb1607864a1e8964a52d46d0166db003a474d55337280a365ffe2
size 66329
