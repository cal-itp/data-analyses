version https://git-lfs.github.com/spec/v1
oid sha256:6e115399aeda7fd27f49aaf5ce2070460210eaf3cf69ad132d811860b0d7ae44
size 67807
