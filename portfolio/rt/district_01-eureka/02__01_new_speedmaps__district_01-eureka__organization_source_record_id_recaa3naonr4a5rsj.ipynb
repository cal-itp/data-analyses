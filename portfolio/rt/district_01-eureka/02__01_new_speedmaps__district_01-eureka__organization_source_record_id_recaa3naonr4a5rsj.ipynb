version https://git-lfs.github.com/spec/v1
oid sha256:d25606f408a5a0ea7bc99c6732660e4c9d4b26e9b08cd356bad1edb116d09db6
size 60573
