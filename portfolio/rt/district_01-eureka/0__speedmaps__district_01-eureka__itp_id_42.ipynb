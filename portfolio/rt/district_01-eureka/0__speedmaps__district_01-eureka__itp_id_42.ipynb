version https://git-lfs.github.com/spec/v1
oid sha256:668170ece94832f479ee8d58539c16ab99e857ed34e5082c82c33fadd2d9e635
size 69627
