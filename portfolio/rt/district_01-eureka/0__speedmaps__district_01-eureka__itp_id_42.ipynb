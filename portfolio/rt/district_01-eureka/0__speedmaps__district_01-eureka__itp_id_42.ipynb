version https://git-lfs.github.com/spec/v1
oid sha256:0613911ddfdfdd7154ee28a2d34ba505fc2b92cc150e447527f7b40e935c6eea
size 251
