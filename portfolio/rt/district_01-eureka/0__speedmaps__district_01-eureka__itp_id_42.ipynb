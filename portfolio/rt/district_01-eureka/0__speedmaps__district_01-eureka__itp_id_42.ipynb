version https://git-lfs.github.com/spec/v1
oid sha256:21e41f96df7de1d27952301d5cc6113a1f1dc01df46139950ce0df60cde8ee63
size 23336732
