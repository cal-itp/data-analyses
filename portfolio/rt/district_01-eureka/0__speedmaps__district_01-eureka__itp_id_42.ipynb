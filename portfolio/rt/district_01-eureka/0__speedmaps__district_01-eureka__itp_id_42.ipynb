version https://git-lfs.github.com/spec/v1
oid sha256:e14645b047966fb8c5567fff5ea5c6f0041abe6a2dae3e49cfadfbabf9994863
size 3846669
