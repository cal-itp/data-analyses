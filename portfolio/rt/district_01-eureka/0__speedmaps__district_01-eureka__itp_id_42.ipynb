version https://git-lfs.github.com/spec/v1
oid sha256:aadcf3f474a94982890bb54b41ba8e8460bc5348164599a97a6c7982f929e0f0
size 70255
