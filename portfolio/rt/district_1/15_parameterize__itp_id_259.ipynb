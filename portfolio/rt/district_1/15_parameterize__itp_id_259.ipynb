{
 "cells": [
  {
   "cell_type": "markdown",
   "id": "d0c16a45",
   "metadata": {
    "tags": [
     "papermill-error-cell-tag"
    ]
   },
   "source": [
    "<span style=\"color:red; font-family:Helvetica Neue, Helvetica, Arial, sans-serif; font-size:2em;\">An Exception was encountered at '<a href=\"#papermill-error-cell\">In [13]</a>'.</span>"
   ]
  },
  {
   "cell_type": "code",
   "execution_count": 1,
   "id": "5019a239-e226-4a6e-b3eb-b9be480f8df7",
   "metadata": {
    "execution": {
     "iopub.execute_input": "2022-04-19T02:11:34.376593Z",
     "iopub.status.busy": "2022-04-19T02:11:34.376068Z",
     "iopub.status.idle": "2022-04-19T02:11:48.774724Z",
     "shell.execute_reply": "2022-04-19T02:11:48.774177Z"
    },
    "jupyter": {
     "source_hidden": true
    },
    "papermill": {
     "duration": 14.409618,
     "end_time": "2022-04-19T02:11:48.776419",
     "exception": false,
     "start_time": "2022-04-19T02:11:34.366801",
     "status": "completed"
    },
    "tags": [
     "remove_input"
    ]
   },
   "outputs": [],
   "source": [
    "%%capture\n",
    "import warnings\n",
    "warnings.filterwarnings('ignore')\n",
    "\n",
    "import os\n",
    "os.environ[\"CALITP_BQ_MAX_BYTES\"] = str(800_000_000_000)\n",
    "import shared_utils\n",
    "import utils\n",
    "\n",
    "from calitp.tables import tbl\n",
    "from calitp import query_sql\n",
    "import calitp.magics\n",
    "\n",
    "from siuba import *\n",
    "import pandas as pd\n",
    "import geopandas as gpd\n",
    "\n",
    "import datetime as dt\n",
    "\n",
    "import importlib\n",
    "import rt_filter_map_plot"
   ]
  },
  {
   "cell_type": "code",
   "execution_count": 2,
   "id": "9f15ed6a-5ab7-4f57-9695-3f762781b74c",
   "metadata": {
    "execution": {
     "iopub.execute_input": "2022-04-19T02:11:48.786034Z",
     "iopub.status.busy": "2022-04-19T02:11:48.785842Z",
     "iopub.status.idle": "2022-04-19T02:11:48.788846Z",
     "shell.execute_reply": "2022-04-19T02:11:48.788155Z"
    },
    "jupyter": {
     "source_hidden": true
    },
    "papermill": {
     "duration": 0.009729,
     "end_time": "2022-04-19T02:11:48.790509",
     "exception": false,
     "start_time": "2022-04-19T02:11:48.780780",
     "status": "completed"
    },
    "tags": [
     "parameters",
     "remove_input"
    ]
   },
   "outputs": [],
   "source": [
    "## parameters cell\n",
    "itp_id = 300"
   ]
  },
  {
   "cell_type": "code",
   "execution_count": 3,
   "id": "b7d20495",
   "metadata": {
    "execution": {
     "iopub.execute_input": "2022-04-19T02:11:48.802289Z",
     "iopub.status.busy": "2022-04-19T02:11:48.802040Z",
     "iopub.status.idle": "2022-04-19T02:11:48.805122Z",
     "shell.execute_reply": "2022-04-19T02:11:48.804494Z"
    },
    "jupyter": {
     "source_hidden": true
    },
    "papermill": {
     "duration": 0.01039,
     "end_time": "2022-04-19T02:11:48.806906",
     "exception": false,
     "start_time": "2022-04-19T02:11:48.796516",
     "status": "completed"
    },
    "tags": [
     "injected-parameters",
     "remove_input"
    ]
   },
   "outputs": [],
   "source": [
    "# Parameters\n",
    "district = 1\n",
    "itp_id = 259\n"
   ]
  },
  {
   "cell_type": "code",
   "execution_count": 4,
   "id": "6c2e9651-70e4-4403-b43d-da50315ef8fd",
   "metadata": {
    "execution": {
     "iopub.execute_input": "2022-04-19T02:11:48.817504Z",
     "iopub.status.busy": "2022-04-19T02:11:48.817267Z",
     "iopub.status.idle": "2022-04-19T02:11:51.498668Z",
     "shell.execute_reply": "2022-04-19T02:11:51.498171Z"
    },
    "jupyter": {
     "source_hidden": true
    },
    "papermill": {
     "duration": 2.688552,
     "end_time": "2022-04-19T02:11:51.500353",
     "exception": false,
     "start_time": "2022-04-19T02:11:48.811801",
     "status": "completed"
    },
    "tags": [
     "remove_input"
    ]
   },
   "outputs": [],
   "source": [
    "airtable_organizations = (\n",
    "    tbl.airtable.california_transit_organizations()\n",
    "    >> select(_.itp_id, _.name, _.caltrans_district,\n",
    "              _.website, _.ntp_id, _.drmt_organization_name)\n",
    "    >> filter(_.itp_id == itp_id)\n",
    "    >> collect()\n",
    ")"
   ]
  },
  {
   "cell_type": "code",
   "execution_count": 5,
   "id": "cc9c7000-4042-4f64-b7ef-8e8e5f1e706a",
   "metadata": {
    "execution": {
     "iopub.execute_input": "2022-04-19T02:11:51.510604Z",
     "iopub.status.busy": "2022-04-19T02:11:51.510177Z",
     "iopub.status.idle": "2022-04-19T02:11:51.514738Z",
     "shell.execute_reply": "2022-04-19T02:11:51.513629Z"
    },
    "jupyter": {
     "source_hidden": true
    },
    "papermill": {
     "duration": 0.012097,
     "end_time": "2022-04-19T02:11:51.516549",
     "exception": false,
     "start_time": "2022-04-19T02:11:51.504452",
     "status": "completed"
    },
    "tags": [
     "remove_input"
    ]
   },
   "outputs": [],
   "source": [
    "# airtable_organizations"
   ]
  },
  {
   "cell_type": "code",
   "execution_count": 6,
   "id": "306a7053-3fab-4723-a287-111e4eba11f2",
   "metadata": {
    "execution": {
     "iopub.execute_input": "2022-04-19T02:11:51.527818Z",
     "iopub.status.busy": "2022-04-19T02:11:51.527120Z",
     "iopub.status.idle": "2022-04-19T02:11:51.531157Z",
     "shell.execute_reply": "2022-04-19T02:11:51.530527Z"
    },
    "jupyter": {
     "source_hidden": true
    },
    "papermill": {
     "duration": 0.013015,
     "end_time": "2022-04-19T02:11:51.534327",
     "exception": false,
     "start_time": "2022-04-19T02:11:51.521312",
     "status": "completed"
    },
    "tags": [
     "remove_input"
    ]
   },
   "outputs": [],
   "source": [
    "analysis_date = dt.date(2022, 3, 30)"
   ]
  },
  {
   "cell_type": "code",
   "execution_count": 7,
   "id": "1739d979-cd4d-456c-a1ad-a016cbf69cad",
   "metadata": {
    "execution": {
     "iopub.execute_input": "2022-04-19T02:11:51.545520Z",
     "iopub.status.busy": "2022-04-19T02:11:51.545293Z",
     "iopub.status.idle": "2022-04-19T02:11:52.566857Z",
     "shell.execute_reply": "2022-04-19T02:11:52.566333Z"
    },
    "jupyter": {
     "source_hidden": true
    },
    "papermill": {
     "duration": 1.029168,
     "end_time": "2022-04-19T02:11:52.568819",
     "exception": false,
     "start_time": "2022-04-19T02:11:51.539651",
     "status": "completed"
    },
    "tags": [
     "remove_input"
    ]
   },
   "outputs": [],
   "source": [
    "trips = pd.read_parquet(f'{utils.GCS_FILE_PATH}rt_trips/{itp_id}_03_30.parquet')"
   ]
  },
  {
   "cell_type": "code",
   "execution_count": 8,
   "id": "b77a9167-4017-4367-8fed-d4e6bf3999b9",
   "metadata": {
    "execution": {
     "iopub.execute_input": "2022-04-19T02:11:52.580137Z",
     "iopub.status.busy": "2022-04-19T02:11:52.579895Z",
     "iopub.status.idle": "2022-04-19T02:11:53.824896Z",
     "shell.execute_reply": "2022-04-19T02:11:53.824286Z"
    },
    "jupyter": {
     "source_hidden": true
    },
    "papermill": {
     "duration": 1.253141,
     "end_time": "2022-04-19T02:11:53.827040",
     "exception": false,
     "start_time": "2022-04-19T02:11:52.573899",
     "status": "completed"
    },
    "tags": [
     "remove_input"
    ]
   },
   "outputs": [],
   "source": [
    "stop_delay = gpd.read_parquet(f'{utils.GCS_FILE_PATH}stop_delay_views/{itp_id}_03_30.parquet')\n",
    "stop_delay['arrival_time'] = stop_delay.arrival_time.map(lambda x: dt.datetime.fromisoformat(x))\n",
    "stop_delay['actual_time'] = stop_delay.actual_time.map(lambda x: dt.datetime.fromisoformat(x))"
   ]
  },
  {
   "cell_type": "code",
   "execution_count": 9,
   "id": "2b2fe439-10af-4140-ab83-69b05c385b40",
   "metadata": {
    "execution": {
     "iopub.execute_input": "2022-04-19T02:11:53.837783Z",
     "iopub.status.busy": "2022-04-19T02:11:53.837515Z",
     "iopub.status.idle": "2022-04-19T02:12:00.161736Z",
     "shell.execute_reply": "2022-04-19T02:12:00.160307Z"
    },
    "jupyter": {
     "source_hidden": true
    },
    "papermill": {
     "duration": 6.332128,
     "end_time": "2022-04-19T02:12:00.164389",
     "exception": false,
     "start_time": "2022-04-19T02:11:53.832261",
     "status": "completed"
    },
    "tags": [
     "remove_input"
    ]
   },
   "outputs": [],
   "source": [
    "%%capture\n",
    "routelines = utils.get_routelines(itp_id, analysis_date)"
   ]
  },
  {
   "cell_type": "code",
   "execution_count": 10,
   "id": "e4cbefc6-9bbb-4989-85b7-1f31da17fcb8",
   "metadata": {
    "execution": {
     "iopub.execute_input": "2022-04-19T02:12:00.178397Z",
     "iopub.status.busy": "2022-04-19T02:12:00.178141Z",
     "iopub.status.idle": "2022-04-19T02:12:00.191216Z",
     "shell.execute_reply": "2022-04-19T02:12:00.190646Z"
    },
    "jupyter": {
     "source_hidden": true
    },
    "papermill": {
     "duration": 0.021583,
     "end_time": "2022-04-19T02:12:00.192960",
     "exception": false,
     "start_time": "2022-04-19T02:12:00.171377",
     "status": "completed"
    },
    "tags": [
     "remove_input"
    ]
   },
   "outputs": [],
   "source": [
    "%%capture\n",
    "rt_day = rt_filter_map_plot.RtFilterMapper(trips, stop_delay, routelines)"
   ]
  },
  {
   "cell_type": "code",
   "execution_count": 11,
   "id": "079dd260-fc0e-43dd-9a21-41200a96bad9",
   "metadata": {
    "execution": {
     "iopub.execute_input": "2022-04-19T02:12:00.204656Z",
     "iopub.status.busy": "2022-04-19T02:12:00.204420Z",
     "iopub.status.idle": "2022-04-19T02:12:00.207719Z",
     "shell.execute_reply": "2022-04-19T02:12:00.207109Z"
    },
    "jupyter": {
     "source_hidden": true
    },
    "papermill": {
     "duration": 0.011556,
     "end_time": "2022-04-19T02:12:00.209758",
     "exception": false,
     "start_time": "2022-04-19T02:12:00.198202",
     "status": "completed"
    },
    "tags": [
     "remove_input"
    ]
   },
   "outputs": [],
   "source": [
    "from IPython.display import display, Markdown, Latex, HTML"
   ]
  },
  {
   "cell_type": "code",
   "execution_count": 12,
   "id": "94d831cc-bf41-4980-9dc2-bf8ccab5e21c",
   "metadata": {
    "execution": {
     "iopub.execute_input": "2022-04-19T02:12:00.220998Z",
     "iopub.status.busy": "2022-04-19T02:12:00.220769Z",
     "iopub.status.idle": "2022-04-19T02:12:00.223520Z",
     "shell.execute_reply": "2022-04-19T02:12:00.223072Z"
    },
    "jupyter": {
     "source_hidden": true
    },
    "papermill": {
     "duration": 0.01032,
     "end_time": "2022-04-19T02:12:00.225298",
     "exception": false,
     "start_time": "2022-04-19T02:12:00.214978",
     "status": "completed"
    },
    "tags": [
     "remove_input"
    ]
   },
   "outputs": [],
   "source": [
    "import json"
   ]
  },
  {
   "cell_type": "markdown",
   "id": "1aed5c7b",
   "metadata": {
    "tags": [
     "papermill-error-cell-tag"
    ]
   },
   "source": [
    "<span id=\"papermill-error-cell\" style=\"color:red; font-family:Helvetica Neue, Helvetica, Arial, sans-serif; font-size:2em;\">Execution using papermill encountered an exception here and stopped:</span>"
   ]
  },
  {
   "cell_type": "code",
   "execution_count": 13,
   "id": "6c335d40-7a7b-4641-8a3d-c970b2823cdf",
   "metadata": {
    "execution": {
     "iopub.execute_input": "2022-04-19T02:12:00.236618Z",
     "iopub.status.busy": "2022-04-19T02:12:00.236393Z",
     "iopub.status.idle": "2022-04-19T02:12:00.247697Z",
     "shell.execute_reply": "2022-04-19T02:12:00.246896Z"
    },
    "jupyter": {
     "source_hidden": true
    },
    "papermill": {
     "duration": 0.01846,
     "end_time": "2022-04-19T02:12:00.248986",
     "exception": true,
     "start_time": "2022-04-19T02:12:00.230526",
     "status": "failed"
    },
    "tags": [
     "remove_input"
    ]
   },
   "outputs": [
    {
     "ename": "NameError",
     "evalue": "name 'rt_day' is not defined",
     "output_type": "error",
     "traceback": [
      "\u001b[0;31m---------------------------------------------------------------------------\u001b[0m",
      "\u001b[0;31mNameError\u001b[0m                                 Traceback (most recent call last)",
      "\u001b[0;32m/var/folders/ls/cdr1pq6n7yn9m0cb41zkflk80000gn/T/ipykernel_93049/3769073389.py\u001b[0m in \u001b[0;36m<module>\u001b[0;34m\u001b[0m\n\u001b[1;32m      1\u001b[0m \u001b[0;31m#export_papermill\u001b[0m\u001b[0;34m\u001b[0m\u001b[0;34m\u001b[0m\u001b[0;34m\u001b[0m\u001b[0m\n\u001b[0;32m----> 2\u001b[0;31m \u001b[0magency_name\u001b[0m \u001b[0;34m=\u001b[0m \u001b[0mrt_day\u001b[0m\u001b[0;34m.\u001b[0m\u001b[0mcalitp_agency_name\u001b[0m\u001b[0;34m\u001b[0m\u001b[0;34m\u001b[0m\u001b[0m\n\u001b[0m\u001b[1;32m      3\u001b[0m \u001b[0mdistrict\u001b[0m \u001b[0;34m=\u001b[0m \u001b[0mairtable_organizations\u001b[0m\u001b[0;34m.\u001b[0m\u001b[0mcaltrans_district\u001b[0m\u001b[0;34m.\u001b[0m\u001b[0miloc\u001b[0m\u001b[0;34m[\u001b[0m\u001b[0;36m0\u001b[0m\u001b[0;34m]\u001b[0m\u001b[0;34m\u001b[0m\u001b[0;34m\u001b[0m\u001b[0m\n\u001b[1;32m      4\u001b[0m \u001b[0mprint\u001b[0m\u001b[0;34m(\u001b[0m\u001b[0mjson\u001b[0m\u001b[0;34m.\u001b[0m\u001b[0mdumps\u001b[0m\u001b[0;34m(\u001b[0m\u001b[0;34m{\u001b[0m\u001b[0;34m'agency_name'\u001b[0m\u001b[0;34m:\u001b[0m \u001b[0magency_name\u001b[0m\u001b[0;34m,\u001b[0m \u001b[0;34m'district'\u001b[0m\u001b[0;34m:\u001b[0m \u001b[0mdistrict\u001b[0m\u001b[0;34m}\u001b[0m\u001b[0;34m)\u001b[0m\u001b[0;34m)\u001b[0m\u001b[0;34m\u001b[0m\u001b[0;34m\u001b[0m\u001b[0m\n",
      "\u001b[0;31mNameError\u001b[0m: name 'rt_day' is not defined"
     ]
    }
   ],
   "source": [
    "#export_papermill\n",
    "agency_name = rt_day.calitp_agency_name\n",
    "district = airtable_organizations.caltrans_district.iloc[0]\n",
    "print(json.dumps({'agency_name': agency_name, 'district': district}))"
   ]
  },
  {
   "cell_type": "code",
   "execution_count": null,
   "id": "a92c695c-131d-4551-a71e-d8c08014ae58",
   "metadata": {
    "jupyter": {
     "source_hidden": true
    },
    "papermill": {
     "duration": null,
     "end_time": null,
     "exception": null,
     "start_time": null,
     "status": "pending"
    },
    "tags": [
     "remove_input"
    ]
   },
   "outputs": [],
   "source": [
    "# Bus Speed Maps and Delay Analysis {agency_name}, District {district}"
   ]
  },
  {
   "cell_type": "code",
   "execution_count": null,
   "id": "8b40cdfe-deae-490f-bfb5-4fe59e6992e2",
   "metadata": {
    "jupyter": {
     "source_hidden": true
    },
    "papermill": {
     "duration": null,
     "end_time": null,
     "exception": null,
     "start_time": null,
     "status": "pending"
    },
    "tags": [
     "remove_input"
    ]
   },
   "outputs": [],
   "source": [
    "display(HTML(f'<title> Bus Speed Maps and Delay Analysis {agency_name}, District {district} </title>'))"
   ]
  },
  {
   "cell_type": "code",
   "execution_count": null,
   "id": "de86aac8-6181-400c-a991-8e66ec770961",
   "metadata": {
    "jupyter": {
     "source_hidden": true
    },
    "papermill": {
     "duration": null,
     "end_time": null,
     "exception": null,
     "start_time": null,
     "status": "pending"
    },
    "tags": [
     "remove_input"
    ]
   },
   "outputs": [],
   "source": [
    "%%capture\n",
    "rt_day.set_filter(start_time='15:00', end_time='19:00')"
   ]
  },
  {
   "cell_type": "code",
   "execution_count": null,
   "id": "8e940d3d-c76e-42ba-be8b-739852771ca6",
   "metadata": {
    "jupyter": {
     "source_hidden": true
    },
    "papermill": {
     "duration": null,
     "end_time": null,
     "exception": null,
     "start_time": null,
     "status": "pending"
    },
    "tags": [
     "remove_input"
    ]
   },
   "outputs": [],
   "source": [
    "## avoid papermill errors when map fails to render\n",
    "m = None"
   ]
  },
  {
   "cell_type": "code",
   "execution_count": null,
   "id": "5e46b095-7bc2-4552-a37b-661d076b2b51",
   "metadata": {
    "jupyter": {
     "source_hidden": true
    },
    "papermill": {
     "duration": null,
     "end_time": null,
     "exception": null,
     "start_time": null,
     "status": "pending"
    },
    "tags": [
     "remove_input"
    ]
   },
   "outputs": [],
   "source": [
    "%%capture\n",
    "m = rt_day.segment_speed_map(how='low_speeds')"
   ]
  },
  {
   "cell_type": "code",
   "execution_count": null,
   "id": "0393f107-e9fe-4982-961a-032f7bf4e0eb",
   "metadata": {
    "jupyter": {
     "source_hidden": true
    },
    "papermill": {
     "duration": null,
     "end_time": null,
     "exception": null,
     "start_time": null,
     "status": "pending"
    },
    "tags": [
     "remove_input"
    ]
   },
   "outputs": [],
   "source": [
    "m"
   ]
  },
  {
   "cell_type": "code",
   "execution_count": null,
   "id": "533a64f4-f374-4f2c-94d3-5146ebe7c036",
   "metadata": {
    "jupyter": {
     "source_hidden": true
    },
    "papermill": {
     "duration": null,
     "end_time": null,
     "exception": null,
     "start_time": null,
     "status": "pending"
    },
    "tags": [
     "remove_input"
    ]
   },
   "outputs": [],
   "source": [
    "%%capture\n",
    "rt_day.set_filter(start_time='07:00', end_time='09:00')"
   ]
  },
  {
   "cell_type": "code",
   "execution_count": null,
   "id": "2f317120-99ee-435b-96cd-1236b8ee2e0b",
   "metadata": {
    "jupyter": {
     "source_hidden": true
    },
    "papermill": {
     "duration": null,
     "end_time": null,
     "exception": null,
     "start_time": null,
     "status": "pending"
    },
    "tags": [
     "remove_input"
    ]
   },
   "outputs": [],
   "source": [
    "%%capture\n",
    "m = rt_day.segment_speed_map(how='low_speeds')"
   ]
  },
  {
   "cell_type": "code",
   "execution_count": null,
   "id": "275087be-b46d-4acb-95fe-2dc98c2089a2",
   "metadata": {
    "jupyter": {
     "source_hidden": true
    },
    "papermill": {
     "duration": null,
     "end_time": null,
     "exception": null,
     "start_time": null,
     "status": "pending"
    },
    "tags": [
     "remove_input"
    ]
   },
   "outputs": [],
   "source": [
    "m"
   ]
  },
  {
   "cell_type": "code",
   "execution_count": null,
   "id": "91874f76-635b-4fde-8d61-abc795aca6c6",
   "metadata": {
    "jupyter": {
     "source_hidden": true
    },
    "papermill": {
     "duration": null,
     "end_time": null,
     "exception": null,
     "start_time": null,
     "status": "pending"
    },
    "tags": [
     "remove_input"
    ]
   },
   "outputs": [],
   "source": [
    "try:\n",
    "    metrics_df = (rt_day.rt_trips\n",
    "         >> group_by(_.route_short_name, _.direction_id)\n",
    "         >> summarize(speed_variance = _.mean_speed_mph.var(),\n",
    "                     mean_speed_mph = _.mean_speed_mph.mean(),\n",
    "                     min_hour = _.median_time.min().hour,\n",
    "                     max_hour = _.median_time.max().hour)\n",
    "         >> filter(_.min_hour <= 7, _.max_hour >= 15,\n",
    "                   _.mean_speed_mph < _.mean_speed_mph.quantile(.6),\n",
    "                   _.speed_variance)\n",
    "         >> arrange(-_.speed_variance)\n",
    "         >> head(20)\n",
    "        )\n",
    "    metrics_df\n",
    "except Exception as e:\n",
    "    print(e)\n",
    "## check that route has all-day span..."
   ]
  },
  {
   "cell_type": "code",
   "execution_count": null,
   "id": "758b0bae-32d0-40dd-a1d1-1d107b0e7e8b",
   "metadata": {
    "jupyter": {
     "source_hidden": true
    },
    "papermill": {
     "duration": null,
     "end_time": null,
     "exception": null,
     "start_time": null,
     "status": "pending"
    },
    "tags": [
     "remove_input"
    ]
   },
   "outputs": [],
   "source": [
    "def map_from_metrics(rt_day, metrics_df):\n",
    "    try:\n",
    "        route_name = metrics_df.iloc[1,0]\n",
    "        direction_id = metrics_df.iloc[1,1]\n",
    "    except Exception as e:\n",
    "        print(e)\n",
    "        return\n",
    "    # route_name = '281'\n",
    "    # direction_id = '1'\n",
    "    rt_day.set_filter(start_time='07:00', end_time='09:00',\n",
    "                      route_names=[route_name], direction_id = direction_id)\n",
    "    try:\n",
    "        am_map = rt_day.segment_speed_map(how='low_speeds')\n",
    "        display(am_map)\n",
    "    except Exception as e:\n",
    "        print(e)\n",
    "        pass\n",
    "    \n",
    "    rt_day.set_filter(start_time='11:00', end_time='14:00',\n",
    "                      route_names=[route_name], direction_id = direction_id)\n",
    "    try:\n",
    "        mid_map = rt_day.segment_speed_map(how='low_speeds')\n",
    "        display(mid_map)\n",
    "    except Exception as e:\n",
    "        print(e)\n",
    "        pass\n",
    "\n",
    "    rt_day.set_filter(start_time='15:00', end_time='19:00',\n",
    "                      route_names=[route_name], direction_id = direction_id)\n",
    "    try:\n",
    "        pm_map = rt_day.segment_speed_map(how='low_speeds')\n",
    "        display(pm_map)\n",
    "    except Exception as e:\n",
    "        print(e)\n",
    "        pass\n",
    "\n",
    "    return"
   ]
  },
  {
   "cell_type": "code",
   "execution_count": null,
   "id": "c7b4b043-6d15-4d9c-8aac-f0f6649e9552",
   "metadata": {
    "jupyter": {
     "source_hidden": true
    },
    "papermill": {
     "duration": null,
     "end_time": null,
     "exception": null,
     "start_time": null,
     "status": "pending"
    },
    "tags": [
     "remove_input"
    ]
   },
   "outputs": [],
   "source": [
    "try:\n",
    "    map_from_metrics(rt_day, metrics_df)\n",
    "except Exception as e:\n",
    "    print(e)\n",
    "    pass"
   ]
  },
  {
   "cell_type": "code",
   "execution_count": null,
   "id": "a3a161f7-2a8f-4b9d-a71e-bedad8c7e08d",
   "metadata": {
    "jupyter": {
     "source_hidden": true
    },
    "papermill": {
     "duration": null,
     "end_time": null,
     "exception": null,
     "start_time": null,
     "status": "pending"
    },
    "tags": [
     "remove_input"
    ]
   },
   "outputs": [],
   "source": []
  }
 ],
 "metadata": {
  "kernelspec": {
   "display_name": "Python 3 (ipykernel)",
   "language": "python",
   "name": "python3"
  },
  "language_info": {
   "codemirror_mode": {
    "name": "ipython",
    "version": 3
   },
   "file_extension": ".py",
   "mimetype": "text/x-python",
   "name": "python",
   "nbconvert_exporter": "python",
   "pygments_lexer": "ipython3",
   "version": "3.7.9"
  },
  "papermill": {
   "default_parameters": {},
   "duration": 28.075982,
   "end_time": "2022-04-19T02:12:00.878733",
   "environment_variables": {},
   "exception": true,
   "input_path": "rt_delay/15_parameterize.ipynb",
   "output_path": "portfolio/rt/district_1/15_parameterize__itp_id_259.ipynb",
   "parameters": {
    "district": 1,
    "itp_id": 259
   },
   "start_time": "2022-04-19T02:11:32.802751",
   "version": "2.3.4"
  }
 },
 "nbformat": 4,
 "nbformat_minor": 5
}