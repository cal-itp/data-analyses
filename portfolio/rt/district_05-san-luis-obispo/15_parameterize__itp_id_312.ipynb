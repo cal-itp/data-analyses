{
 "cells": [
  {
   "cell_type": "code",
   "execution_count": 1,
   "id": "46898b5c-b5cc-4096-ab68-8c3e42fab870",
   "metadata": {
    "execution": {
     "iopub.execute_input": "2022-04-19T22:20:42.322084Z",
     "iopub.status.busy": "2022-04-19T22:20:42.321518Z",
     "iopub.status.idle": "2022-04-19T22:20:50.104782Z",
     "shell.execute_reply": "2022-04-19T22:20:50.103730Z"
    },
    "jupyter": {
     "source_hidden": true
    },
    "papermill": {
     "duration": 7.805134,
     "end_time": "2022-04-19T22:20:50.107223",
     "exception": false,
     "start_time": "2022-04-19T22:20:42.302089",
     "status": "completed"
    },
    "tags": [
     "remove_input"
    ]
   },
   "outputs": [],
   "source": [
    "%%capture\n",
    "import warnings\n",
    "warnings.filterwarnings('ignore')\n",
    "\n",
    "import os\n",
    "os.environ[\"CALITP_BQ_MAX_BYTES\"] = str(800_000_000_000)\n",
    "import shared_utils\n",
    "import utils\n",
    "\n",
    "from calitp.tables import tbl\n",
    "from calitp import query_sql\n",
    "import calitp.magics\n",
    "\n",
    "from siuba import *\n",
    "import pandas as pd\n",
    "import geopandas as gpd\n",
    "\n",
    "import datetime as dt\n",
    "\n",
    "import importlib\n",
    "import rt_filter_map_plot\n",
    "\n",
    "from IPython.display import display, Markdown, Latex, HTML\n",
    "import json"
   ]
  },
  {
   "cell_type": "code",
   "execution_count": 2,
   "id": "9f15ed6a-5ab7-4f57-9695-3f762781b74c",
   "metadata": {
    "execution": {
     "iopub.execute_input": "2022-04-19T22:20:50.146877Z",
     "iopub.status.busy": "2022-04-19T22:20:50.146317Z",
     "iopub.status.idle": "2022-04-19T22:20:50.150529Z",
     "shell.execute_reply": "2022-04-19T22:20:50.149978Z"
    },
    "jupyter": {
     "source_hidden": true
    },
    "papermill": {
     "duration": 0.026048,
     "end_time": "2022-04-19T22:20:50.152270",
     "exception": false,
     "start_time": "2022-04-19T22:20:50.126222",
     "status": "completed"
    },
    "tags": [
     "parameters",
     "remove_input"
    ]
   },
   "outputs": [],
   "source": [
    "## parameters cell\n",
    "itp_id = 300"
   ]
  },
  {
   "cell_type": "code",
   "execution_count": 3,
   "id": "c768795a",
   "metadata": {
    "execution": {
     "iopub.execute_input": "2022-04-19T22:20:50.198973Z",
     "iopub.status.busy": "2022-04-19T22:20:50.198417Z",
     "iopub.status.idle": "2022-04-19T22:20:50.202605Z",
     "shell.execute_reply": "2022-04-19T22:20:50.202069Z"
    },
    "jupyter": {
     "source_hidden": true
    },
    "papermill": {
     "duration": 0.025414,
     "end_time": "2022-04-19T22:20:50.204347",
     "exception": false,
     "start_time": "2022-04-19T22:20:50.178933",
     "status": "completed"
    },
    "tags": [
     "injected-parameters",
     "remove_input"
    ]
   },
   "outputs": [],
   "source": [
    "# Parameters\n",
    "district = \"05 - San Luis Obispo\"\n",
    "itp_id = 312\n"
   ]
  },
  {
   "cell_type": "code",
   "execution_count": 4,
   "id": "6c2e9651-70e4-4403-b43d-da50315ef8fd",
   "metadata": {
    "execution": {
     "iopub.execute_input": "2022-04-19T22:20:50.241372Z",
     "iopub.status.busy": "2022-04-19T22:20:50.240825Z",
     "iopub.status.idle": "2022-04-19T22:20:51.670935Z",
     "shell.execute_reply": "2022-04-19T22:20:51.670075Z"
    },
    "jupyter": {
     "source_hidden": true
    },
    "papermill": {
     "duration": 1.451613,
     "end_time": "2022-04-19T22:20:51.673198",
     "exception": false,
     "start_time": "2022-04-19T22:20:50.221585",
     "status": "completed"
    },
    "tags": [
     "remove_input"
    ]
   },
   "outputs": [],
   "source": [
    "airtable_organizations = (\n",
    "    tbl.airtable.california_transit_organizations()\n",
    "    >> select(_.itp_id, _.name, _.caltrans_district,\n",
    "              _.website, _.ntp_id, _.drmt_organization_name)\n",
    "    >> filter(_.itp_id == itp_id)\n",
    "    >> collect()\n",
    ")"
   ]
  },
  {
   "cell_type": "code",
   "execution_count": 5,
   "id": "cc9c7000-4042-4f64-b7ef-8e8e5f1e706a",
   "metadata": {
    "execution": {
     "iopub.execute_input": "2022-04-19T22:20:51.714307Z",
     "iopub.status.busy": "2022-04-19T22:20:51.714005Z",
     "iopub.status.idle": "2022-04-19T22:20:51.718413Z",
     "shell.execute_reply": "2022-04-19T22:20:51.717450Z"
    },
    "jupyter": {
     "source_hidden": true
    },
    "papermill": {
     "duration": 0.027673,
     "end_time": "2022-04-19T22:20:51.720839",
     "exception": false,
     "start_time": "2022-04-19T22:20:51.693166",
     "status": "completed"
    },
    "tags": [
     "remove_input"
    ]
   },
   "outputs": [],
   "source": [
    "# airtable_organizations"
   ]
  },
  {
   "cell_type": "code",
   "execution_count": 6,
   "id": "306a7053-3fab-4723-a287-111e4eba11f2",
   "metadata": {
    "execution": {
     "iopub.execute_input": "2022-04-19T22:20:51.758024Z",
     "iopub.status.busy": "2022-04-19T22:20:51.757578Z",
     "iopub.status.idle": "2022-04-19T22:20:51.762455Z",
     "shell.execute_reply": "2022-04-19T22:20:51.761694Z"
    },
    "jupyter": {
     "source_hidden": true
    },
    "papermill": {
     "duration": 0.026012,
     "end_time": "2022-04-19T22:20:51.764150",
     "exception": false,
     "start_time": "2022-04-19T22:20:51.738138",
     "status": "completed"
    },
    "tags": [
     "remove_input"
    ]
   },
   "outputs": [],
   "source": [
    "analysis_date = dt.date(2022, 3, 30)\n",
    "if itp_id == 273:\n",
    "    analysis_date = dt.date(2022, 2, 8) # #override for SacRT "
   ]
  },
  {
   "cell_type": "code",
   "execution_count": 7,
   "id": "47c79d99-c82f-4e1e-b11e-2b1e83c13a1b",
   "metadata": {
    "execution": {
     "iopub.execute_input": "2022-04-19T22:20:51.803252Z",
     "iopub.status.busy": "2022-04-19T22:20:51.802791Z",
     "iopub.status.idle": "2022-04-19T22:20:51.809389Z",
     "shell.execute_reply": "2022-04-19T22:20:51.808506Z"
    },
    "jupyter": {
     "source_hidden": true
    },
    "papermill": {
     "duration": 0.028759,
     "end_time": "2022-04-19T22:20:51.811640",
     "exception": false,
     "start_time": "2022-04-19T22:20:51.782881",
     "status": "completed"
    },
    "tags": [
     "remove_input"
    ]
   },
   "outputs": [],
   "source": [
    "month_day = analysis_date.strftime('%m_%d')"
   ]
  },
  {
   "cell_type": "code",
   "execution_count": 8,
   "id": "1739d979-cd4d-456c-a1ad-a016cbf69cad",
   "metadata": {
    "execution": {
     "iopub.execute_input": "2022-04-19T22:20:51.851702Z",
     "iopub.status.busy": "2022-04-19T22:20:51.851412Z",
     "iopub.status.idle": "2022-04-19T22:20:52.243624Z",
     "shell.execute_reply": "2022-04-19T22:20:52.242628Z"
    },
    "jupyter": {
     "source_hidden": true
    },
    "papermill": {
     "duration": 0.415225,
     "end_time": "2022-04-19T22:20:52.245975",
     "exception": false,
     "start_time": "2022-04-19T22:20:51.830750",
     "status": "completed"
    },
    "tags": [
     "remove_input"
    ]
   },
   "outputs": [],
   "source": [
    "trips = pd.read_parquet(f'{utils.GCS_FILE_PATH}rt_trips/{itp_id}_{month_day}.parquet')"
   ]
  },
  {
   "cell_type": "code",
   "execution_count": 9,
   "id": "b77a9167-4017-4367-8fed-d4e6bf3999b9",
   "metadata": {
    "execution": {
     "iopub.execute_input": "2022-04-19T22:20:52.292135Z",
     "iopub.status.busy": "2022-04-19T22:20:52.290065Z",
     "iopub.status.idle": "2022-04-19T22:20:52.864702Z",
     "shell.execute_reply": "2022-04-19T22:20:52.863975Z"
    },
    "jupyter": {
     "source_hidden": true
    },
    "papermill": {
     "duration": 0.601394,
     "end_time": "2022-04-19T22:20:52.867219",
     "exception": false,
     "start_time": "2022-04-19T22:20:52.265825",
     "status": "completed"
    },
    "tags": [
     "remove_input"
    ]
   },
   "outputs": [],
   "source": [
    "stop_delay = gpd.read_parquet(f'{utils.GCS_FILE_PATH}stop_delay_views/{itp_id}_{month_day}.parquet')\n",
    "stop_delay['arrival_time'] = stop_delay.arrival_time.map(lambda x: dt.datetime.fromisoformat(x))\n",
    "stop_delay['actual_time'] = stop_delay.actual_time.map(lambda x: dt.datetime.fromisoformat(x))"
   ]
  },
  {
   "cell_type": "code",
   "execution_count": 10,
   "id": "2b2fe439-10af-4140-ab83-69b05c385b40",
   "metadata": {
    "execution": {
     "iopub.execute_input": "2022-04-19T22:20:52.907202Z",
     "iopub.status.busy": "2022-04-19T22:20:52.906893Z",
     "iopub.status.idle": "2022-04-19T22:20:54.453508Z",
     "shell.execute_reply": "2022-04-19T22:20:54.452763Z"
    },
    "jupyter": {
     "source_hidden": true
    },
    "papermill": {
     "duration": 1.570935,
     "end_time": "2022-04-19T22:20:54.456240",
     "exception": false,
     "start_time": "2022-04-19T22:20:52.885305",
     "status": "completed"
    },
    "tags": [
     "remove_input"
    ]
   },
   "outputs": [],
   "source": [
    "%%capture\n",
    "routelines = utils.get_routelines(itp_id, analysis_date)"
   ]
  },
  {
   "cell_type": "code",
   "execution_count": 11,
   "id": "e4cbefc6-9bbb-4989-85b7-1f31da17fcb8",
   "metadata": {
    "execution": {
     "iopub.execute_input": "2022-04-19T22:20:54.494762Z",
     "iopub.status.busy": "2022-04-19T22:20:54.494092Z",
     "iopub.status.idle": "2022-04-19T22:20:54.576106Z",
     "shell.execute_reply": "2022-04-19T22:20:54.575141Z"
    },
    "jupyter": {
     "source_hidden": true
    },
    "papermill": {
     "duration": 0.103919,
     "end_time": "2022-04-19T22:20:54.578404",
     "exception": false,
     "start_time": "2022-04-19T22:20:54.474485",
     "status": "completed"
    },
    "tags": [
     "remove_input"
    ]
   },
   "outputs": [],
   "source": [
    "%%capture\n",
    "rt_day = rt_filter_map_plot.RtFilterMapper(trips, stop_delay, routelines)"
   ]
  },
  {
   "cell_type": "code",
   "execution_count": 12,
   "id": "6c335d40-7a7b-4641-8a3d-c970b2823cdf",
   "metadata": {
    "execution": {
     "iopub.execute_input": "2022-04-19T22:20:54.618238Z",
     "iopub.status.busy": "2022-04-19T22:20:54.617166Z",
     "iopub.status.idle": "2022-04-19T22:20:54.624046Z",
     "shell.execute_reply": "2022-04-19T22:20:54.623080Z"
    },
    "jupyter": {
     "source_hidden": true
    },
    "papermill": {
     "duration": 0.029707,
     "end_time": "2022-04-19T22:20:54.626768",
     "exception": false,
     "start_time": "2022-04-19T22:20:54.597061",
     "status": "completed"
    },
    "tags": [
     "remove_input"
    ]
   },
   "outputs": [],
   "source": [
    "%%capture_parameters\n",
    "agency_name = rt_day.calitp_agency_name\n",
    "district = airtable_organizations.caltrans_district.iloc[0]\n",
    "agency_name, district"
   ]
  },
  {
   "cell_type": "markdown",
   "id": "52110155-d104-4043-8376-3f83e82a959a",
   "metadata": {
    "papermill": {
     "duration": 0.026583,
     "end_time": "2022-04-19T22:20:54.672583",
     "exception": false,
     "start_time": "2022-04-19T22:20:54.646000",
     "status": "completed"
    },
    "tags": []
   },
   "source": [
    "# Bus Speed and Delay for Santa Ynez Valley Transit, District 05 - San Luis Obispo"
   ]
  },
  {
   "cell_type": "markdown",
   "id": "7d5572cd-dd67-4e26-b100-a0e7472a4a17",
   "metadata": {
    "papermill": {
     "duration": 0.019465,
     "end_time": "2022-04-19T22:20:54.711026",
     "exception": false,
     "start_time": "2022-04-19T22:20:54.691561",
     "status": "completed"
    },
    "tags": []
   },
   "source": [
    "## About These Maps:\n",
    "\n",
    "* Each map shows bus (and occasionally rail) speeds for Santa Ynez Valley Transit, with a map each for the morning peak, midday, and afternoon peak periods.\n",
    "* On the map, routes are split into segments corresponding to the distance between two stops, allowing you to focus on specific portions of the route experiencing a slowdown.\n",
    "* Route segments are arrow-shaped to indicate direction of travel.\n",
    "* Hover over, or click, a segment with your mouse to see the exact speed, route name, and transit service frequency in that segment. \n",
    "    * Higher-frequency routes (3+ trips per hour) are especially important, since those slowdowns correspond to more vehicles, and riders, delayed in traffic."
   ]
  },
  {
   "cell_type": "code",
   "execution_count": 13,
   "id": "8e940d3d-c76e-42ba-be8b-739852771ca6",
   "metadata": {
    "execution": {
     "iopub.execute_input": "2022-04-19T22:20:54.751895Z",
     "iopub.status.busy": "2022-04-19T22:20:54.751579Z",
     "iopub.status.idle": "2022-04-19T22:20:54.756396Z",
     "shell.execute_reply": "2022-04-19T22:20:54.755759Z"
    },
    "jupyter": {
     "source_hidden": true
    },
    "papermill": {
     "duration": 0.02843,
     "end_time": "2022-04-19T22:20:54.758374",
     "exception": false,
     "start_time": "2022-04-19T22:20:54.729944",
     "status": "completed"
    },
    "tags": [
     "remove_input"
    ]
   },
   "outputs": [],
   "source": [
    "## avoid papermill errors when map fails to render\n",
    "m = None"
   ]
  },
  {
   "cell_type": "markdown",
   "id": "74fce4a9-514f-405d-9ce0-1cb1998a696b",
   "metadata": {
    "papermill": {
     "duration": 0.018385,
     "end_time": "2022-04-19T22:20:54.796207",
     "exception": false,
     "start_time": "2022-04-19T22:20:54.777822",
     "status": "completed"
    },
    "tags": []
   },
   "source": [
    "## Morning Peak"
   ]
  },
  {
   "cell_type": "code",
   "execution_count": 14,
   "id": "533a64f4-f374-4f2c-94d3-5146ebe7c036",
   "metadata": {
    "execution": {
     "iopub.execute_input": "2022-04-19T22:20:54.838764Z",
     "iopub.status.busy": "2022-04-19T22:20:54.837962Z",
     "iopub.status.idle": "2022-04-19T22:20:54.846045Z",
     "shell.execute_reply": "2022-04-19T22:20:54.845437Z"
    },
    "jupyter": {
     "source_hidden": true
    },
    "papermill": {
     "duration": 0.03085,
     "end_time": "2022-04-19T22:20:54.847906",
     "exception": false,
     "start_time": "2022-04-19T22:20:54.817056",
     "status": "completed"
    },
    "tags": [
     "remove_input"
    ]
   },
   "outputs": [],
   "source": [
    "%%capture\n",
    "rt_day.set_filter(start_time='06:00', end_time='09:00')"
   ]
  },
  {
   "cell_type": "code",
   "execution_count": 15,
   "id": "2f317120-99ee-435b-96cd-1236b8ee2e0b",
   "metadata": {
    "execution": {
     "iopub.execute_input": "2022-04-19T22:20:54.891949Z",
     "iopub.status.busy": "2022-04-19T22:20:54.891037Z",
     "iopub.status.idle": "2022-04-19T22:20:57.316978Z",
     "shell.execute_reply": "2022-04-19T22:20:57.316202Z"
    },
    "jupyter": {
     "source_hidden": true
    },
    "papermill": {
     "duration": 2.448807,
     "end_time": "2022-04-19T22:20:57.318801",
     "exception": false,
     "start_time": "2022-04-19T22:20:54.869994",
     "status": "completed"
    },
    "tags": [
     "remove_input"
    ]
   },
   "outputs": [],
   "source": [
    "%%capture\n",
    "m = rt_day.segment_speed_map(how='low_speeds', no_title=True)"
   ]
  },
  {
   "cell_type": "code",
   "execution_count": 16,
   "id": "275087be-b46d-4acb-95fe-2dc98c2089a2",
   "metadata": {
    "execution": {
     "iopub.execute_input": "2022-04-19T22:20:57.362500Z",
     "iopub.status.busy": "2022-04-19T22:20:57.361774Z",
     "iopub.status.idle": "2022-04-19T22:20:57.369444Z",
     "shell.execute_reply": "2022-04-19T22:20:57.365178Z"
    },
    "jupyter": {
     "source_hidden": true
    },
    "papermill": {
     "duration": 0.033225,
     "end_time": "2022-04-19T22:20:57.372117",
     "exception": false,
     "start_time": "2022-04-19T22:20:57.338892",
     "status": "completed"
    },
    "tags": [
     "remove_input"
    ]
   },
   "outputs": [],
   "source": [
    "m"
   ]
  },
  {
   "cell_type": "code",
   "execution_count": 17,
   "id": "b0cf9b97-7485-4f36-b5e8-124f22fa9661",
   "metadata": {
    "execution": {
     "iopub.execute_input": "2022-04-19T22:20:57.414294Z",
     "iopub.status.busy": "2022-04-19T22:20:57.413939Z",
     "iopub.status.idle": "2022-04-19T22:20:57.448168Z",
     "shell.execute_reply": "2022-04-19T22:20:57.447225Z"
    },
    "jupyter": {
     "source_hidden": true
    },
    "papermill": {
     "duration": 0.058358,
     "end_time": "2022-04-19T22:20:57.450867",
     "exception": false,
     "start_time": "2022-04-19T22:20:57.392509",
     "status": "completed"
    },
    "tags": [
     "remove_input"
    ]
   },
   "outputs": [
    {
     "data": {
      "text/markdown": [
       "AM Peak most delayed routes: \n",
       " * None, Express, Eastbound: 0.0 minutes late on average\n",
       " * None, Los Olivos Loop, Northbound: 0.0 minutes late on average"
      ],
      "text/plain": [
       "<IPython.core.display.Markdown object>"
      ]
     },
     "metadata": {},
     "output_type": "display_data"
    }
   ],
   "source": [
    "rt_day.describe_delayed_routes()"
   ]
  },
  {
   "cell_type": "markdown",
   "id": "3d263ba2-49ae-4e02-9d06-3181b03f51ba",
   "metadata": {
    "papermill": {
     "duration": 0.019591,
     "end_time": "2022-04-19T22:20:57.499599",
     "exception": false,
     "start_time": "2022-04-19T22:20:57.480008",
     "status": "completed"
    },
    "tags": []
   },
   "source": [
    "## Midday"
   ]
  },
  {
   "cell_type": "code",
   "execution_count": 18,
   "id": "f5344e63-89d2-43d6-9783-55a3061c99d2",
   "metadata": {
    "execution": {
     "iopub.execute_input": "2022-04-19T22:20:57.543136Z",
     "iopub.status.busy": "2022-04-19T22:20:57.542844Z",
     "iopub.status.idle": "2022-04-19T22:20:57.549490Z",
     "shell.execute_reply": "2022-04-19T22:20:57.548854Z"
    },
    "jupyter": {
     "source_hidden": true
    },
    "papermill": {
     "duration": 0.03085,
     "end_time": "2022-04-19T22:20:57.551481",
     "exception": false,
     "start_time": "2022-04-19T22:20:57.520631",
     "status": "completed"
    },
    "tags": [
     "remove_input"
    ]
   },
   "outputs": [],
   "source": [
    "%%capture\n",
    "rt_day.set_filter(start_time='10:00', end_time='14:00')"
   ]
  },
  {
   "cell_type": "code",
   "execution_count": 19,
   "id": "a4c40f3c-cf35-45d5-9d87-aa4701bed3aa",
   "metadata": {
    "execution": {
     "iopub.execute_input": "2022-04-19T22:20:57.596148Z",
     "iopub.status.busy": "2022-04-19T22:20:57.595785Z",
     "iopub.status.idle": "2022-04-19T22:20:58.284496Z",
     "shell.execute_reply": "2022-04-19T22:20:58.283810Z"
    },
    "jupyter": {
     "source_hidden": true
    },
    "papermill": {
     "duration": 0.712948,
     "end_time": "2022-04-19T22:20:58.286848",
     "exception": false,
     "start_time": "2022-04-19T22:20:57.573900",
     "status": "completed"
    },
    "tags": [
     "remove_input"
    ]
   },
   "outputs": [],
   "source": [
    "%%capture\n",
    "m = rt_day.segment_speed_map(how='low_speeds', no_title=True)"
   ]
  },
  {
   "cell_type": "code",
   "execution_count": 20,
   "id": "a78b7db5-f43f-4bf1-8036-ae972a87fc53",
   "metadata": {
    "execution": {
     "iopub.execute_input": "2022-04-19T22:20:58.331430Z",
     "iopub.status.busy": "2022-04-19T22:20:58.331126Z",
     "iopub.status.idle": "2022-04-19T22:20:58.335465Z",
     "shell.execute_reply": "2022-04-19T22:20:58.334623Z"
    },
    "jupyter": {
     "source_hidden": true
    },
    "papermill": {
     "duration": 0.028633,
     "end_time": "2022-04-19T22:20:58.337250",
     "exception": false,
     "start_time": "2022-04-19T22:20:58.308617",
     "status": "completed"
    },
    "tags": [
     "remove_input"
    ]
   },
   "outputs": [],
   "source": [
    "m"
   ]
  },
  {
   "cell_type": "code",
   "execution_count": 21,
   "id": "6c745570-b50f-4722-b943-2176444f7af6",
   "metadata": {
    "execution": {
     "iopub.execute_input": "2022-04-19T22:20:58.384109Z",
     "iopub.status.busy": "2022-04-19T22:20:58.383423Z",
     "iopub.status.idle": "2022-04-19T22:20:58.414088Z",
     "shell.execute_reply": "2022-04-19T22:20:58.413443Z"
    },
    "jupyter": {
     "source_hidden": true
    },
    "papermill": {
     "duration": 0.056515,
     "end_time": "2022-04-19T22:20:58.415962",
     "exception": false,
     "start_time": "2022-04-19T22:20:58.359447",
     "status": "completed"
    },
    "tags": [
     "remove_input"
    ]
   },
   "outputs": [
    {
     "data": {
      "text/markdown": [
       "Midday most delayed routes: \n",
       " * None, Express, Eastbound: 0.0 minutes late on average\n",
       " * None, Los Olivos Loop, Northbound: 0.0 minutes late on average"
      ],
      "text/plain": [
       "<IPython.core.display.Markdown object>"
      ]
     },
     "metadata": {},
     "output_type": "display_data"
    }
   ],
   "source": [
    "rt_day.describe_delayed_routes()"
   ]
  },
  {
   "cell_type": "markdown",
   "id": "704f0788-b4a8-497d-b2aa-c7ac6df939f4",
   "metadata": {
    "papermill": {
     "duration": 0.02165,
     "end_time": "2022-04-19T22:20:58.459539",
     "exception": false,
     "start_time": "2022-04-19T22:20:58.437889",
     "status": "completed"
    },
    "tags": []
   },
   "source": [
    "## Afternoon Peak"
   ]
  },
  {
   "cell_type": "code",
   "execution_count": 22,
   "id": "923f1462-b34a-42d2-a632-c5eb3ac16ac6",
   "metadata": {
    "execution": {
     "iopub.execute_input": "2022-04-19T22:20:58.509168Z",
     "iopub.status.busy": "2022-04-19T22:20:58.508535Z",
     "iopub.status.idle": "2022-04-19T22:20:58.514586Z",
     "shell.execute_reply": "2022-04-19T22:20:58.513904Z"
    },
    "jupyter": {
     "source_hidden": true
    },
    "papermill": {
     "duration": 0.03215,
     "end_time": "2022-04-19T22:20:58.516604",
     "exception": false,
     "start_time": "2022-04-19T22:20:58.484454",
     "status": "completed"
    },
    "tags": [
     "remove_input"
    ]
   },
   "outputs": [],
   "source": [
    "%%capture\n",
    "rt_day.set_filter(start_time='15:00', end_time='19:00')"
   ]
  },
  {
   "cell_type": "code",
   "execution_count": 23,
   "id": "5e46b095-7bc2-4552-a37b-661d076b2b51",
   "metadata": {
    "execution": {
     "iopub.execute_input": "2022-04-19T22:20:58.570646Z",
     "iopub.status.busy": "2022-04-19T22:20:58.564376Z",
     "iopub.status.idle": "2022-04-19T22:20:59.371507Z",
     "shell.execute_reply": "2022-04-19T22:20:59.370788Z"
    },
    "jupyter": {
     "source_hidden": true
    },
    "papermill": {
     "duration": 0.83503,
     "end_time": "2022-04-19T22:20:59.373568",
     "exception": false,
     "start_time": "2022-04-19T22:20:58.538538",
     "status": "completed"
    },
    "tags": [
     "remove_input"
    ]
   },
   "outputs": [],
   "source": [
    "%%capture\n",
    "m = rt_day.segment_speed_map(how='low_speeds', no_title=True)"
   ]
  },
  {
   "cell_type": "code",
   "execution_count": 24,
   "id": "0393f107-e9fe-4982-961a-032f7bf4e0eb",
   "metadata": {
    "execution": {
     "iopub.execute_input": "2022-04-19T22:20:59.419623Z",
     "iopub.status.busy": "2022-04-19T22:20:59.419078Z",
     "iopub.status.idle": "2022-04-19T22:20:59.423617Z",
     "shell.execute_reply": "2022-04-19T22:20:59.422768Z"
    },
    "jupyter": {
     "source_hidden": true
    },
    "papermill": {
     "duration": 0.029935,
     "end_time": "2022-04-19T22:20:59.425581",
     "exception": false,
     "start_time": "2022-04-19T22:20:59.395646",
     "status": "completed"
    },
    "tags": [
     "remove_input"
    ]
   },
   "outputs": [],
   "source": [
    "m"
   ]
  },
  {
   "cell_type": "code",
   "execution_count": 25,
   "id": "76580953-2a2b-4295-a41c-20442eae883e",
   "metadata": {
    "execution": {
     "iopub.execute_input": "2022-04-19T22:20:59.476788Z",
     "iopub.status.busy": "2022-04-19T22:20:59.476380Z",
     "iopub.status.idle": "2022-04-19T22:20:59.510691Z",
     "shell.execute_reply": "2022-04-19T22:20:59.510039Z"
    },
    "jupyter": {
     "source_hidden": true
    },
    "papermill": {
     "duration": 0.063871,
     "end_time": "2022-04-19T22:20:59.512394",
     "exception": false,
     "start_time": "2022-04-19T22:20:59.448523",
     "status": "completed"
    },
    "tags": [
     "remove_input"
    ]
   },
   "outputs": [
    {
     "data": {
      "text/markdown": [
       "PM Peak most delayed routes: \n",
       " * None, Express, Eastbound: 0.0 minutes late on average\n",
       " * None, Los Olivos Loop, Northbound: 0.0 minutes late on average"
      ],
      "text/plain": [
       "<IPython.core.display.Markdown object>"
      ]
     },
     "metadata": {},
     "output_type": "display_data"
    }
   ],
   "source": [
    "rt_day.describe_delayed_routes()"
   ]
  },
  {
   "cell_type": "code",
   "execution_count": 26,
   "id": "91874f76-635b-4fde-8d61-abc795aca6c6",
   "metadata": {
    "execution": {
     "iopub.execute_input": "2022-04-19T22:20:59.559426Z",
     "iopub.status.busy": "2022-04-19T22:20:59.558910Z",
     "iopub.status.idle": "2022-04-19T22:20:59.575166Z",
     "shell.execute_reply": "2022-04-19T22:20:59.574096Z"
    },
    "jupyter": {
     "source_hidden": true
    },
    "papermill": {
     "duration": 0.042977,
     "end_time": "2022-04-19T22:20:59.577178",
     "exception": false,
     "start_time": "2022-04-19T22:20:59.534201",
     "status": "completed"
    },
    "tags": [
     "remove_input"
    ]
   },
   "outputs": [
    {
     "name": "stdout",
     "output_type": "stream",
     "text": [
      "'float' object has no attribute 'hour'\n"
     ]
    }
   ],
   "source": [
    "try:\n",
    "    metrics_df = (rt_day.rt_trips\n",
    "         >> group_by(_.route_short_name, _.direction_id)\n",
    "         >> summarize(speed_variance = _.mean_speed_mph.var(),\n",
    "                     mean_speed_mph = _.mean_speed_mph.mean(),\n",
    "                     min_hour = _.median_time.min().hour,\n",
    "                     max_hour = _.median_time.max().hour)\n",
    "         >> filter(_.min_hour <= 7, _.max_hour >= 15,\n",
    "                   _.mean_speed_mph < _.mean_speed_mph.quantile(.6),\n",
    "                   _.speed_variance)\n",
    "         >> arrange(-_.speed_variance)\n",
    "         >> head(20)\n",
    "        )\n",
    "    metrics_df\n",
    "except Exception as e:\n",
    "    print(e)\n",
    "## check that route has all-day span..."
   ]
  },
  {
   "cell_type": "code",
   "execution_count": 27,
   "id": "758b0bae-32d0-40dd-a1d1-1d107b0e7e8b",
   "metadata": {
    "execution": {
     "iopub.execute_input": "2022-04-19T22:20:59.625942Z",
     "iopub.status.busy": "2022-04-19T22:20:59.625590Z",
     "iopub.status.idle": "2022-04-19T22:20:59.634301Z",
     "shell.execute_reply": "2022-04-19T22:20:59.633456Z"
    },
    "jupyter": {
     "source_hidden": true
    },
    "papermill": {
     "duration": 0.036511,
     "end_time": "2022-04-19T22:20:59.636277",
     "exception": false,
     "start_time": "2022-04-19T22:20:59.599766",
     "status": "completed"
    },
    "tags": [
     "remove_input"
    ]
   },
   "outputs": [],
   "source": [
    "def map_from_metrics(rt_day, metrics_df):\n",
    "    try:\n",
    "        route_name = metrics_df.iloc[1,0]\n",
    "        direction_id = metrics_df.iloc[1,1]\n",
    "    except Exception as e:\n",
    "        print(e)\n",
    "        return\n",
    "    # route_name = '281'\n",
    "    # direction_id = '1'\n",
    "    rt_day.set_filter(start_time='07:00', end_time='09:00',\n",
    "                      route_names=[route_name], direction_id = direction_id)\n",
    "    try:\n",
    "        am_map = rt_day.segment_speed_map(how='low_speeds')\n",
    "        display(am_map)\n",
    "    except Exception as e:\n",
    "        print(e)\n",
    "        pass\n",
    "    \n",
    "    rt_day.set_filter(start_time='11:00', end_time='14:00',\n",
    "                      route_names=[route_name], direction_id = direction_id)\n",
    "    try:\n",
    "        mid_map = rt_day.segment_speed_map(how='low_speeds')\n",
    "        display(mid_map)\n",
    "    except Exception as e:\n",
    "        print(e)\n",
    "        pass\n",
    "\n",
    "    rt_day.set_filter(start_time='15:00', end_time='19:00',\n",
    "                      route_names=[route_name], direction_id = direction_id)\n",
    "    try:\n",
    "        pm_map = rt_day.segment_speed_map(how='low_speeds')\n",
    "        display(pm_map)\n",
    "    except Exception as e:\n",
    "        print(e)\n",
    "        pass\n",
    "\n",
    "    return"
   ]
  },
  {
   "cell_type": "markdown",
   "id": "6ce187c8-c7bf-44f4-970e-b3abd69ddc38",
   "metadata": {
    "papermill": {
     "duration": 0.032493,
     "end_time": "2022-04-19T22:20:59.692542",
     "exception": false,
     "start_time": "2022-04-19T22:20:59.660049",
     "status": "completed"
    },
    "tags": []
   },
   "source": [
    "## Single-Route Detail Example"
   ]
  },
  {
   "cell_type": "code",
   "execution_count": 28,
   "id": "c7b4b043-6d15-4d9c-8aac-f0f6649e9552",
   "metadata": {
    "execution": {
     "iopub.execute_input": "2022-04-19T22:20:59.741851Z",
     "iopub.status.busy": "2022-04-19T22:20:59.740842Z",
     "iopub.status.idle": "2022-04-19T22:20:59.746800Z",
     "shell.execute_reply": "2022-04-19T22:20:59.746085Z"
    },
    "jupyter": {
     "source_hidden": true
    },
    "papermill": {
     "duration": 0.032698,
     "end_time": "2022-04-19T22:20:59.748687",
     "exception": false,
     "start_time": "2022-04-19T22:20:59.715989",
     "status": "completed"
    },
    "tags": [
     "remove_input"
    ]
   },
   "outputs": [
    {
     "name": "stdout",
     "output_type": "stream",
     "text": [
      "name 'metrics_df' is not defined\n"
     ]
    }
   ],
   "source": [
    "try:\n",
    "    map_from_metrics(rt_day, metrics_df)\n",
    "except Exception as e:\n",
    "    print(e)\n",
    "    pass"
   ]
  },
  {
   "cell_type": "code",
   "execution_count": null,
   "id": "b3f55461-ea1d-4dfe-b986-4316c804ca86",
   "metadata": {
    "jupyter": {
     "source_hidden": true
    },
    "papermill": {
     "duration": 0.023992,
     "end_time": "2022-04-19T22:20:59.800939",
     "exception": false,
     "start_time": "2022-04-19T22:20:59.776947",
     "status": "completed"
    },
    "tags": [
     "remove_input"
    ]
   },
   "outputs": [],
   "source": []
  }
 ],
 "metadata": {
  "kernelspec": {
   "display_name": "Python 3 (ipykernel)",
   "language": "python",
   "name": "python3"
  },
  "language_info": {
   "codemirror_mode": {
    "name": "ipython",
    "version": 3
   },
   "file_extension": ".py",
   "mimetype": "text/x-python",
   "name": "python",
   "nbconvert_exporter": "python",
   "pygments_lexer": "ipython3",
   "version": "3.9.10"
  },
  "papermill": {
   "default_parameters": {},
   "duration": 21.087013,
   "end_time": "2022-04-19T22:21:02.086225",
   "environment_variables": {},
   "exception": null,
   "input_path": "rt_delay/15_parameterize.ipynb",
   "output_path": "portfolio/rt/district_05-san-luis-obispo/15_parameterize__itp_id_312.ipynb",
   "parameters": {
    "district": "05 - San Luis Obispo",
    "itp_id": 312
   },
   "start_time": "2022-04-19T22:20:40.999212",
   "version": "2.3.4"
  }
 },
 "nbformat": 4,
 "nbformat_minor": 5
}