version https://git-lfs.github.com/spec/v1
oid sha256:4868dde1aaf423ee64201f1a16d990c354300cd192f2d5d28dea6005d8bd8e65
size 694374
