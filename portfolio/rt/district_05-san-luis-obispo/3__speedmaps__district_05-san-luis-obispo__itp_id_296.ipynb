version https://git-lfs.github.com/spec/v1
oid sha256:27ae7799ec5cc1bbc42ff67a079f18d294be6caab62519028a445ec645a3856f
size 25617717
