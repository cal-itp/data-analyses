version https://git-lfs.github.com/spec/v1
oid sha256:21d27e0ee5b292e400df527d0241e90573b61014c435193cdad8a6dd37bc3ccc
size 68463
