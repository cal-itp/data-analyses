version https://git-lfs.github.com/spec/v1
oid sha256:ced2e78cf5eed594e92eebe810f3e5bcd2d76ad7893818e44332a01d870eea03
size 83971
