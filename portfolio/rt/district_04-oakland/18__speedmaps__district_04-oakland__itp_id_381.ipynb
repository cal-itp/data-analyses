version https://git-lfs.github.com/spec/v1
oid sha256:dfa198c82fe7e9afdf6f418c85de6893552e16a50f2cca3b0bf4f66bad575946
size 70912
