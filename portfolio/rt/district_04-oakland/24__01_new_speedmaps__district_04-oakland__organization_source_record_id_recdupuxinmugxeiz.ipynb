version https://git-lfs.github.com/spec/v1
oid sha256:ecf38b65bbca967787ad8071c6e3faacf2a23b8edca8cc1c7a9ba399fb13d550
size 67203
