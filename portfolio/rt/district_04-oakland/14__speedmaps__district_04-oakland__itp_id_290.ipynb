version https://git-lfs.github.com/spec/v1
oid sha256:d8d7a8a8239d5c9d6370d2d63120805e26f103956a31e6a9dedc51730010f700
size 70970
