version https://git-lfs.github.com/spec/v1
oid sha256:6f7641c66d6cfeb32a58054a010d6f8f6990b4f5751a71adfed767100cfcef92
size 63694
