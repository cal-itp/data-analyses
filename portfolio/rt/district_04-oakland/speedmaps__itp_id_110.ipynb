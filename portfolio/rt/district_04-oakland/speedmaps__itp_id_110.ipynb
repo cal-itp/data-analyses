{
 "cells": [
  {
   "cell_type": "code",
   "execution_count": 1,
   "id": "46898b5c-b5cc-4096-ab68-8c3e42fab870",
   "metadata": {
    "execution": {
     "iopub.execute_input": "2022-04-22T03:01:10.251511Z",
     "iopub.status.busy": "2022-04-22T03:01:10.250736Z",
     "iopub.status.idle": "2022-04-22T03:01:18.699185Z",
     "shell.execute_reply": "2022-04-22T03:01:18.698232Z"
    },
    "jupyter": {
     "source_hidden": true
    },
    "papermill": {
     "duration": 8.471578,
     "end_time": "2022-04-22T03:01:18.701996",
     "exception": false,
     "start_time": "2022-04-22T03:01:10.230418",
     "status": "completed"
    },
    "tags": [
     "remove_input"
    ]
   },
   "outputs": [],
   "source": [
    "%%capture\n",
    "import warnings\n",
    "warnings.filterwarnings('ignore')\n",
    "\n",
    "import os\n",
    "os.environ[\"CALITP_BQ_MAX_BYTES\"] = str(800_000_000_000)\n",
    "import shared_utils\n",
    "import utils\n",
    "\n",
    "from calitp.tables import tbl\n",
    "from calitp import query_sql\n",
    "import calitp.magics\n",
    "\n",
    "from siuba import *\n",
    "import pandas as pd\n",
    "import geopandas as gpd\n",
    "\n",
    "import datetime as dt\n",
    "\n",
    "import importlib\n",
    "import rt_filter_map_plot\n",
    "\n",
    "from IPython.display import display, Markdown, Latex, HTML\n",
    "import json"
   ]
  },
  {
   "cell_type": "code",
   "execution_count": 2,
   "id": "9f15ed6a-5ab7-4f57-9695-3f762781b74c",
   "metadata": {
    "execution": {
     "iopub.execute_input": "2022-04-22T03:01:18.740333Z",
     "iopub.status.busy": "2022-04-22T03:01:18.740020Z",
     "iopub.status.idle": "2022-04-22T03:01:18.744002Z",
     "shell.execute_reply": "2022-04-22T03:01:18.743126Z"
    },
    "jupyter": {
     "source_hidden": true
    },
    "papermill": {
     "duration": 0.025234,
     "end_time": "2022-04-22T03:01:18.745977",
     "exception": false,
     "start_time": "2022-04-22T03:01:18.720743",
     "status": "completed"
    },
    "tags": [
     "parameters",
     "remove_input"
    ]
   },
   "outputs": [],
   "source": [
    "## parameters cell\n",
    "itp_id = 135"
   ]
  },
  {
   "cell_type": "code",
   "execution_count": 3,
   "id": "e03d41bb",
   "metadata": {
    "execution": {
     "iopub.execute_input": "2022-04-22T03:01:18.787336Z",
     "iopub.status.busy": "2022-04-22T03:01:18.786682Z",
     "iopub.status.idle": "2022-04-22T03:01:18.791491Z",
     "shell.execute_reply": "2022-04-22T03:01:18.790826Z"
    },
    "jupyter": {
     "source_hidden": true
    },
    "papermill": {
     "duration": 0.028261,
     "end_time": "2022-04-22T03:01:18.793741",
     "exception": false,
     "start_time": "2022-04-22T03:01:18.765480",
     "status": "completed"
    },
    "tags": [
     "injected-parameters",
     "remove_input"
    ]
   },
   "outputs": [],
   "source": [
    "# Parameters\n",
    "district = \"04 - Oakland\"\n",
    "itp_id = 110\n"
   ]
  },
  {
   "cell_type": "code",
   "execution_count": 4,
   "id": "6c2e9651-70e4-4403-b43d-da50315ef8fd",
   "metadata": {
    "execution": {
     "iopub.execute_input": "2022-04-22T03:01:18.849511Z",
     "iopub.status.busy": "2022-04-22T03:01:18.848829Z",
     "iopub.status.idle": "2022-04-22T03:01:20.512801Z",
     "shell.execute_reply": "2022-04-22T03:01:20.511609Z"
    },
    "jupyter": {
     "source_hidden": true
    },
    "papermill": {
     "duration": 1.699467,
     "end_time": "2022-04-22T03:01:20.515809",
     "exception": false,
     "start_time": "2022-04-22T03:01:18.816342",
     "status": "completed"
    },
    "tags": [
     "remove_input"
    ]
   },
   "outputs": [],
   "source": [
    "airtable_organizations = (\n",
    "    tbl.airtable.california_transit_organizations()\n",
    "    >> select(_.itp_id, _.name, _.caltrans_district,\n",
    "              _.website, _.ntp_id, _.drmt_organization_name)\n",
    "    >> filter(_.itp_id == itp_id)\n",
    "    >> collect()\n",
    ")"
   ]
  },
  {
   "cell_type": "code",
   "execution_count": 5,
   "id": "cc9c7000-4042-4f64-b7ef-8e8e5f1e706a",
   "metadata": {
    "execution": {
     "iopub.execute_input": "2022-04-22T03:01:20.555325Z",
     "iopub.status.busy": "2022-04-22T03:01:20.554705Z",
     "iopub.status.idle": "2022-04-22T03:01:20.559007Z",
     "shell.execute_reply": "2022-04-22T03:01:20.558155Z"
    },
    "jupyter": {
     "source_hidden": true
    },
    "papermill": {
     "duration": 0.027837,
     "end_time": "2022-04-22T03:01:20.561850",
     "exception": false,
     "start_time": "2022-04-22T03:01:20.534013",
     "status": "completed"
    },
    "tags": [
     "remove_input"
    ]
   },
   "outputs": [],
   "source": [
    "# airtable_organizations"
   ]
  },
  {
   "cell_type": "code",
   "execution_count": 6,
   "id": "306a7053-3fab-4723-a287-111e4eba11f2",
   "metadata": {
    "execution": {
     "iopub.execute_input": "2022-04-22T03:01:20.600904Z",
     "iopub.status.busy": "2022-04-22T03:01:20.600599Z",
     "iopub.status.idle": "2022-04-22T03:01:20.605548Z",
     "shell.execute_reply": "2022-04-22T03:01:20.604648Z"
    },
    "jupyter": {
     "source_hidden": true
    },
    "papermill": {
     "duration": 0.026166,
     "end_time": "2022-04-22T03:01:20.607388",
     "exception": false,
     "start_time": "2022-04-22T03:01:20.581222",
     "status": "completed"
    },
    "tags": [
     "remove_input"
    ]
   },
   "outputs": [],
   "source": [
    "analysis_date = dt.date(2022, 3, 30)\n",
    "if itp_id == 273:\n",
    "    analysis_date = dt.date(2022, 2, 8) # #override for SacRT "
   ]
  },
  {
   "cell_type": "code",
   "execution_count": 7,
   "id": "47c79d99-c82f-4e1e-b11e-2b1e83c13a1b",
   "metadata": {
    "execution": {
     "iopub.execute_input": "2022-04-22T03:01:20.644535Z",
     "iopub.status.busy": "2022-04-22T03:01:20.644241Z",
     "iopub.status.idle": "2022-04-22T03:01:20.649625Z",
     "shell.execute_reply": "2022-04-22T03:01:20.648957Z"
    },
    "jupyter": {
     "source_hidden": true
    },
    "papermill": {
     "duration": 0.026424,
     "end_time": "2022-04-22T03:01:20.651466",
     "exception": false,
     "start_time": "2022-04-22T03:01:20.625042",
     "status": "completed"
    },
    "tags": [
     "remove_input"
    ]
   },
   "outputs": [],
   "source": [
    "month_day = analysis_date.strftime('%m_%d')"
   ]
  },
  {
   "cell_type": "code",
   "execution_count": 8,
   "id": "1739d979-cd4d-456c-a1ad-a016cbf69cad",
   "metadata": {
    "execution": {
     "iopub.execute_input": "2022-04-22T03:01:20.699051Z",
     "iopub.status.busy": "2022-04-22T03:01:20.698436Z",
     "iopub.status.idle": "2022-04-22T03:01:21.106292Z",
     "shell.execute_reply": "2022-04-22T03:01:21.105224Z"
    },
    "jupyter": {
     "source_hidden": true
    },
    "papermill": {
     "duration": 0.432594,
     "end_time": "2022-04-22T03:01:21.108732",
     "exception": false,
     "start_time": "2022-04-22T03:01:20.676138",
     "status": "completed"
    },
    "tags": [
     "remove_input"
    ]
   },
   "outputs": [],
   "source": [
    "trips = pd.read_parquet(f'{utils.GCS_FILE_PATH}rt_trips/{itp_id}_{month_day}.parquet')"
   ]
  },
  {
   "cell_type": "code",
   "execution_count": 9,
   "id": "b77a9167-4017-4367-8fed-d4e6bf3999b9",
   "metadata": {
    "execution": {
     "iopub.execute_input": "2022-04-22T03:01:21.148687Z",
     "iopub.status.busy": "2022-04-22T03:01:21.147724Z",
     "iopub.status.idle": "2022-04-22T03:01:21.528135Z",
     "shell.execute_reply": "2022-04-22T03:01:21.527455Z"
    },
    "jupyter": {
     "source_hidden": true
    },
    "papermill": {
     "duration": 0.403375,
     "end_time": "2022-04-22T03:01:21.530577",
     "exception": false,
     "start_time": "2022-04-22T03:01:21.127202",
     "status": "completed"
    },
    "tags": [
     "remove_input"
    ]
   },
   "outputs": [],
   "source": [
    "stop_delay = gpd.read_parquet(f'{utils.GCS_FILE_PATH}stop_delay_views/{itp_id}_{month_day}.parquet')\n",
    "stop_delay['arrival_time'] = stop_delay.arrival_time.map(lambda x: dt.datetime.fromisoformat(x))\n",
    "stop_delay['actual_time'] = stop_delay.actual_time.map(lambda x: dt.datetime.fromisoformat(x))"
   ]
  },
  {
   "cell_type": "code",
   "execution_count": 10,
   "id": "2b2fe439-10af-4140-ab83-69b05c385b40",
   "metadata": {
    "execution": {
     "iopub.execute_input": "2022-04-22T03:01:21.571327Z",
     "iopub.status.busy": "2022-04-22T03:01:21.570671Z",
     "iopub.status.idle": "2022-04-22T03:01:27.121666Z",
     "shell.execute_reply": "2022-04-22T03:01:27.120881Z"
    },
    "jupyter": {
     "source_hidden": true
    },
    "papermill": {
     "duration": 5.574831,
     "end_time": "2022-04-22T03:01:27.123999",
     "exception": false,
     "start_time": "2022-04-22T03:01:21.549168",
     "status": "completed"
    },
    "tags": [
     "remove_input"
    ]
   },
   "outputs": [],
   "source": [
    "%%capture\n",
    "routelines = utils.get_routelines(itp_id, analysis_date)"
   ]
  },
  {
   "cell_type": "code",
   "execution_count": 11,
   "id": "e4cbefc6-9bbb-4989-85b7-1f31da17fcb8",
   "metadata": {
    "execution": {
     "iopub.execute_input": "2022-04-22T03:01:27.168406Z",
     "iopub.status.busy": "2022-04-22T03:01:27.167823Z",
     "iopub.status.idle": "2022-04-22T03:01:27.368426Z",
     "shell.execute_reply": "2022-04-22T03:01:27.367445Z"
    },
    "jupyter": {
     "source_hidden": true
    },
    "papermill": {
     "duration": 0.227399,
     "end_time": "2022-04-22T03:01:27.371339",
     "exception": false,
     "start_time": "2022-04-22T03:01:27.143940",
     "status": "completed"
    },
    "tags": [
     "remove_input"
    ]
   },
   "outputs": [],
   "source": [
    "%%capture\n",
    "rt_day = rt_filter_map_plot.RtFilterMapper(trips, stop_delay, routelines)"
   ]
  },
  {
   "cell_type": "code",
   "execution_count": 12,
   "id": "6c335d40-7a7b-4641-8a3d-c970b2823cdf",
   "metadata": {
    "execution": {
     "iopub.execute_input": "2022-04-22T03:01:27.416701Z",
     "iopub.status.busy": "2022-04-22T03:01:27.416007Z",
     "iopub.status.idle": "2022-04-22T03:01:27.423376Z",
     "shell.execute_reply": "2022-04-22T03:01:27.422748Z"
    },
    "jupyter": {
     "source_hidden": true
    },
    "papermill": {
     "duration": 0.031997,
     "end_time": "2022-04-22T03:01:27.425207",
     "exception": false,
     "start_time": "2022-04-22T03:01:27.393210",
     "status": "completed"
    },
    "tags": [
     "remove_input"
    ]
   },
   "outputs": [],
   "source": [
    "%%capture_parameters\n",
    "agency_name = rt_day.calitp_agency_name\n",
    "district = airtable_organizations.caltrans_district.iloc[0]\n",
    "agency_name, district"
   ]
  },
  {
   "cell_type": "markdown",
   "id": "52110155-d104-4043-8376-3f83e82a959a",
   "metadata": {
    "papermill": {
     "duration": 0.018874,
     "end_time": "2022-04-22T03:01:27.462573",
     "exception": false,
     "start_time": "2022-04-22T03:01:27.443699",
     "status": "completed"
    },
    "tags": []
   },
   "source": [
    "# Fairfield and Suisun Transit"
   ]
  },
  {
   "cell_type": "markdown",
   "id": "7d5572cd-dd67-4e26-b100-a0e7472a4a17",
   "metadata": {
    "papermill": {
     "duration": 0.019655,
     "end_time": "2022-04-22T03:01:27.504075",
     "exception": false,
     "start_time": "2022-04-22T03:01:27.484420",
     "status": "completed"
    },
    "tags": []
   },
   "source": [
    "## About These Maps:\n",
    "\n",
    "* Each map shows bus (and rail, if applicable) speeds for Fairfield and Suisun Transit, with a map each for the morning peak, midday, and afternoon peak periods.\n",
    "* On the map, routes are split into segments corresponding to the distance between two stops, allowing you to focus on specific portions of the route experiencing a slowdown.\n",
    "* Route segments are arrow-shaped to indicate direction of travel.\n",
    "* Hover over, or click, a segment with your mouse to see the exact speed, route name, and transit service frequency in that segment. \n",
    "    * Higher-frequency routes (3+ trips per hour) are especially important, since those slowdowns correspond to more vehicles, and riders, delayed in traffic."
   ]
  },
  {
   "cell_type": "code",
   "execution_count": 13,
   "id": "8e940d3d-c76e-42ba-be8b-739852771ca6",
   "metadata": {
    "execution": {
     "iopub.execute_input": "2022-04-22T03:01:27.545300Z",
     "iopub.status.busy": "2022-04-22T03:01:27.544263Z",
     "iopub.status.idle": "2022-04-22T03:01:27.548953Z",
     "shell.execute_reply": "2022-04-22T03:01:27.548263Z"
    },
    "jupyter": {
     "source_hidden": true
    },
    "papermill": {
     "duration": 0.027066,
     "end_time": "2022-04-22T03:01:27.550988",
     "exception": false,
     "start_time": "2022-04-22T03:01:27.523922",
     "status": "completed"
    },
    "tags": [
     "remove_input"
    ]
   },
   "outputs": [],
   "source": [
    "## avoid papermill errors when map fails to render\n",
    "m = None"
   ]
  },
  {
   "cell_type": "markdown",
   "id": "74fce4a9-514f-405d-9ce0-1cb1998a696b",
   "metadata": {
    "papermill": {
     "duration": 0.021215,
     "end_time": "2022-04-22T03:01:27.593383",
     "exception": false,
     "start_time": "2022-04-22T03:01:27.572168",
     "status": "completed"
    },
    "tags": []
   },
   "source": [
    "## Morning Peak"
   ]
  },
  {
   "cell_type": "code",
   "execution_count": 14,
   "id": "533a64f4-f374-4f2c-94d3-5146ebe7c036",
   "metadata": {
    "execution": {
     "iopub.execute_input": "2022-04-22T03:01:27.636147Z",
     "iopub.status.busy": "2022-04-22T03:01:27.635569Z",
     "iopub.status.idle": "2022-04-22T03:01:27.642286Z",
     "shell.execute_reply": "2022-04-22T03:01:27.641769Z"
    },
    "jupyter": {
     "source_hidden": true
    },
    "papermill": {
     "duration": 0.029771,
     "end_time": "2022-04-22T03:01:27.644453",
     "exception": false,
     "start_time": "2022-04-22T03:01:27.614682",
     "status": "completed"
    },
    "tags": [
     "remove_input"
    ]
   },
   "outputs": [],
   "source": [
    "%%capture\n",
    "rt_day.set_filter(start_time='06:00', end_time='09:00')"
   ]
  },
  {
   "cell_type": "code",
   "execution_count": 15,
   "id": "2f317120-99ee-435b-96cd-1236b8ee2e0b",
   "metadata": {
    "execution": {
     "iopub.execute_input": "2022-04-22T03:01:27.689005Z",
     "iopub.status.busy": "2022-04-22T03:01:27.688658Z",
     "iopub.status.idle": "2022-04-22T03:01:30.184180Z",
     "shell.execute_reply": "2022-04-22T03:01:30.183455Z"
    },
    "jupyter": {
     "source_hidden": true
    },
    "papermill": {
     "duration": 2.522289,
     "end_time": "2022-04-22T03:01:30.186312",
     "exception": false,
     "start_time": "2022-04-22T03:01:27.664023",
     "status": "completed"
    },
    "tags": [
     "remove_input"
    ]
   },
   "outputs": [],
   "source": [
    "%%capture\n",
    "m = rt_day.segment_speed_map(how='low_speeds', no_title=True)"
   ]
  },
  {
   "cell_type": "code",
   "execution_count": 16,
   "id": "275087be-b46d-4acb-95fe-2dc98c2089a2",
   "metadata": {
    "execution": {
     "iopub.execute_input": "2022-04-22T03:01:30.226350Z",
     "iopub.status.busy": "2022-04-22T03:01:30.226074Z",
     "iopub.status.idle": "2022-04-22T03:01:30.233802Z",
     "shell.execute_reply": "2022-04-22T03:01:30.232901Z"
    },
    "jupyter": {
     "source_hidden": true
    },
    "papermill": {
     "duration": 0.029949,
     "end_time": "2022-04-22T03:01:30.235595",
     "exception": false,
     "start_time": "2022-04-22T03:01:30.205646",
     "status": "completed"
    },
    "tags": [
     "remove_input"
    ]
   },
   "outputs": [],
   "source": [
    "m"
   ]
  },
  {
   "cell_type": "code",
   "execution_count": 17,
   "id": "b0cf9b97-7485-4f36-b5e8-124f22fa9661",
   "metadata": {
    "execution": {
     "iopub.execute_input": "2022-04-22T03:01:30.279042Z",
     "iopub.status.busy": "2022-04-22T03:01:30.278738Z",
     "iopub.status.idle": "2022-04-22T03:01:30.319959Z",
     "shell.execute_reply": "2022-04-22T03:01:30.319019Z"
    },
    "jupyter": {
     "source_hidden": true
    },
    "papermill": {
     "duration": 0.066502,
     "end_time": "2022-04-22T03:01:30.322130",
     "exception": false,
     "start_time": "2022-04-22T03:01:30.255628",
     "status": "completed"
    },
    "tags": [
     "remove_input"
    ]
   },
   "outputs": [
    {
     "data": {
      "text/markdown": [
       "AM Peak most delayed routes: \n",
       " * BLUE, Service between Walnut Creek BART and Sacramento., Northbound: 3.0 minutes late on average\n",
       " * BLUE, Service between Walnut Creek BART and Sacramento., Southbound: 1.0 minutes late on average\n",
       " * BLUE, Service between Walnut Creek BART and Sacramento., Southbound: 0.0 minutes late on average\n",
       " * GX, FTC/El Cerrito Del Norte BART/Suisun City Amtrak, Northbound: 0.0 minutes late on average"
      ],
      "text/plain": [
       "<IPython.core.display.Markdown object>"
      ]
     },
     "metadata": {},
     "output_type": "display_data"
    }
   ],
   "source": [
    "rt_day.describe_delayed_routes()"
   ]
  },
  {
   "cell_type": "markdown",
   "id": "3d263ba2-49ae-4e02-9d06-3181b03f51ba",
   "metadata": {
    "papermill": {
     "duration": 0.021077,
     "end_time": "2022-04-22T03:01:30.363480",
     "exception": false,
     "start_time": "2022-04-22T03:01:30.342403",
     "status": "completed"
    },
    "tags": []
   },
   "source": [
    "## Midday"
   ]
  },
  {
   "cell_type": "code",
   "execution_count": 18,
   "id": "f5344e63-89d2-43d6-9783-55a3061c99d2",
   "metadata": {
    "execution": {
     "iopub.execute_input": "2022-04-22T03:01:30.409468Z",
     "iopub.status.busy": "2022-04-22T03:01:30.409179Z",
     "iopub.status.idle": "2022-04-22T03:01:30.414956Z",
     "shell.execute_reply": "2022-04-22T03:01:30.413958Z"
    },
    "jupyter": {
     "source_hidden": true
    },
    "papermill": {
     "duration": 0.029498,
     "end_time": "2022-04-22T03:01:30.417312",
     "exception": false,
     "start_time": "2022-04-22T03:01:30.387814",
     "status": "completed"
    },
    "tags": [
     "remove_input"
    ]
   },
   "outputs": [],
   "source": [
    "%%capture\n",
    "rt_day.set_filter(start_time='10:00', end_time='14:00')"
   ]
  },
  {
   "cell_type": "code",
   "execution_count": 19,
   "id": "a4c40f3c-cf35-45d5-9d87-aa4701bed3aa",
   "metadata": {
    "execution": {
     "iopub.execute_input": "2022-04-22T03:01:30.459535Z",
     "iopub.status.busy": "2022-04-22T03:01:30.459246Z",
     "iopub.status.idle": "2022-04-22T03:01:31.221158Z",
     "shell.execute_reply": "2022-04-22T03:01:31.220480Z"
    },
    "jupyter": {
     "source_hidden": true
    },
    "papermill": {
     "duration": 0.785596,
     "end_time": "2022-04-22T03:01:31.222930",
     "exception": false,
     "start_time": "2022-04-22T03:01:30.437334",
     "status": "completed"
    },
    "tags": [
     "remove_input"
    ]
   },
   "outputs": [],
   "source": [
    "%%capture\n",
    "m = rt_day.segment_speed_map(how='low_speeds', no_title=True)"
   ]
  },
  {
   "cell_type": "code",
   "execution_count": 20,
   "id": "a78b7db5-f43f-4bf1-8036-ae972a87fc53",
   "metadata": {
    "execution": {
     "iopub.execute_input": "2022-04-22T03:01:31.271533Z",
     "iopub.status.busy": "2022-04-22T03:01:31.271225Z",
     "iopub.status.idle": "2022-04-22T03:01:31.275443Z",
     "shell.execute_reply": "2022-04-22T03:01:31.274521Z"
    },
    "jupyter": {
     "source_hidden": true
    },
    "papermill": {
     "duration": 0.029196,
     "end_time": "2022-04-22T03:01:31.277687",
     "exception": false,
     "start_time": "2022-04-22T03:01:31.248491",
     "status": "completed"
    },
    "tags": [
     "remove_input"
    ]
   },
   "outputs": [],
   "source": [
    "m"
   ]
  },
  {
   "cell_type": "code",
   "execution_count": 21,
   "id": "6c745570-b50f-4722-b943-2176444f7af6",
   "metadata": {
    "execution": {
     "iopub.execute_input": "2022-04-22T03:01:31.323052Z",
     "iopub.status.busy": "2022-04-22T03:01:31.322772Z",
     "iopub.status.idle": "2022-04-22T03:01:31.357360Z",
     "shell.execute_reply": "2022-04-22T03:01:31.356421Z"
    },
    "jupyter": {
     "source_hidden": true
    },
    "papermill": {
     "duration": 0.063323,
     "end_time": "2022-04-22T03:01:31.361524",
     "exception": false,
     "start_time": "2022-04-22T03:01:31.298201",
     "status": "completed"
    },
    "tags": [
     "remove_input"
    ]
   },
   "outputs": [
    {
     "data": {
      "text/markdown": [
       "Midday most delayed routes: \n",
       " * BLUE, Service between Walnut Creek BART and Sacramento., Southbound: 29.0 minutes late on average\n",
       " * BLUE, Service between Walnut Creek BART and Sacramento., Northbound: 3.0 minutes late on average\n",
       " * BLUE, Service between Walnut Creek BART and Sacramento., Northbound: 2.0 minutes late on average\n",
       " * BLUE, Service between Walnut Creek BART and Sacramento., Southbound: 0.0 minutes late on average"
      ],
      "text/plain": [
       "<IPython.core.display.Markdown object>"
      ]
     },
     "metadata": {},
     "output_type": "display_data"
    }
   ],
   "source": [
    "rt_day.describe_delayed_routes()"
   ]
  },
  {
   "cell_type": "markdown",
   "id": "704f0788-b4a8-497d-b2aa-c7ac6df939f4",
   "metadata": {
    "papermill": {
     "duration": 0.021199,
     "end_time": "2022-04-22T03:01:31.411924",
     "exception": false,
     "start_time": "2022-04-22T03:01:31.390725",
     "status": "completed"
    },
    "tags": []
   },
   "source": [
    "## Afternoon Peak"
   ]
  },
  {
   "cell_type": "code",
   "execution_count": 22,
   "id": "923f1462-b34a-42d2-a632-c5eb3ac16ac6",
   "metadata": {
    "execution": {
     "iopub.execute_input": "2022-04-22T03:01:31.456395Z",
     "iopub.status.busy": "2022-04-22T03:01:31.456098Z",
     "iopub.status.idle": "2022-04-22T03:01:31.462403Z",
     "shell.execute_reply": "2022-04-22T03:01:31.461765Z"
    },
    "jupyter": {
     "source_hidden": true
    },
    "papermill": {
     "duration": 0.030482,
     "end_time": "2022-04-22T03:01:31.464175",
     "exception": false,
     "start_time": "2022-04-22T03:01:31.433693",
     "status": "completed"
    },
    "tags": [
     "remove_input"
    ]
   },
   "outputs": [],
   "source": [
    "%%capture\n",
    "rt_day.set_filter(start_time='15:00', end_time='19:00')"
   ]
  },
  {
   "cell_type": "code",
   "execution_count": 23,
   "id": "5e46b095-7bc2-4552-a37b-661d076b2b51",
   "metadata": {
    "execution": {
     "iopub.execute_input": "2022-04-22T03:01:31.511695Z",
     "iopub.status.busy": "2022-04-22T03:01:31.510841Z",
     "iopub.status.idle": "2022-04-22T03:01:32.664408Z",
     "shell.execute_reply": "2022-04-22T03:01:32.663761Z"
    },
    "jupyter": {
     "source_hidden": true
    },
    "papermill": {
     "duration": 1.178803,
     "end_time": "2022-04-22T03:01:32.666323",
     "exception": false,
     "start_time": "2022-04-22T03:01:31.487520",
     "status": "completed"
    },
    "tags": [
     "remove_input"
    ]
   },
   "outputs": [],
   "source": [
    "%%capture\n",
    "m = rt_day.segment_speed_map(how='low_speeds', no_title=True)"
   ]
  },
  {
   "cell_type": "code",
   "execution_count": 24,
   "id": "0393f107-e9fe-4982-961a-032f7bf4e0eb",
   "metadata": {
    "execution": {
     "iopub.execute_input": "2022-04-22T03:01:32.715080Z",
     "iopub.status.busy": "2022-04-22T03:01:32.714345Z",
     "iopub.status.idle": "2022-04-22T03:01:32.718869Z",
     "shell.execute_reply": "2022-04-22T03:01:32.718286Z"
    },
    "jupyter": {
     "source_hidden": true
    },
    "papermill": {
     "duration": 0.029703,
     "end_time": "2022-04-22T03:01:32.720654",
     "exception": false,
     "start_time": "2022-04-22T03:01:32.690951",
     "status": "completed"
    },
    "tags": [
     "remove_input"
    ]
   },
   "outputs": [],
   "source": [
    "m"
   ]
  },
  {
   "cell_type": "code",
   "execution_count": 25,
   "id": "76580953-2a2b-4295-a41c-20442eae883e",
   "metadata": {
    "execution": {
     "iopub.execute_input": "2022-04-22T03:01:32.768211Z",
     "iopub.status.busy": "2022-04-22T03:01:32.767062Z",
     "iopub.status.idle": "2022-04-22T03:01:32.805116Z",
     "shell.execute_reply": "2022-04-22T03:01:32.804434Z"
    },
    "jupyter": {
     "source_hidden": true
    },
    "papermill": {
     "duration": 0.064443,
     "end_time": "2022-04-22T03:01:32.806970",
     "exception": false,
     "start_time": "2022-04-22T03:01:32.742527",
     "status": "completed"
    },
    "tags": [
     "remove_input"
    ]
   },
   "outputs": [
    {
     "data": {
      "text/markdown": [
       "PM Peak most delayed routes: \n",
       " * BLUE, Service between Walnut Creek BART and Sacramento., Southbound: 14.0 minutes late on average\n",
       " * GX, FTC/El Cerrito Del Norte BART/Suisun City Amtrak, Northbound: 2.0 minutes late on average\n",
       " * BLUE, Service between Walnut Creek BART and Sacramento., Northbound: 1.0 minutes late on average\n",
       " * BLUE, Service between Walnut Creek BART and Sacramento., Southbound: 1.0 minutes late on average\n",
       " * GX, FTC/El Cerrito Del Norte BART/Suisun City Amtrak, Southbound: 1.0 minutes late on average"
      ],
      "text/plain": [
       "<IPython.core.display.Markdown object>"
      ]
     },
     "metadata": {},
     "output_type": "display_data"
    }
   ],
   "source": [
    "rt_day.describe_delayed_routes()"
   ]
  },
  {
   "cell_type": "code",
   "execution_count": 26,
   "id": "91874f76-635b-4fde-8d61-abc795aca6c6",
   "metadata": {
    "execution": {
     "iopub.execute_input": "2022-04-22T03:01:32.855137Z",
     "iopub.status.busy": "2022-04-22T03:01:32.854486Z",
     "iopub.status.idle": "2022-04-22T03:01:32.900289Z",
     "shell.execute_reply": "2022-04-22T03:01:32.899219Z"
    },
    "jupyter": {
     "source_hidden": true
    },
    "papermill": {
     "duration": 0.072149,
     "end_time": "2022-04-22T03:01:32.902685",
     "exception": false,
     "start_time": "2022-04-22T03:01:32.830536",
     "status": "completed"
    },
    "tags": [
     "remove_input"
    ]
   },
   "outputs": [],
   "source": [
    "try:\n",
    "    metrics_df = (rt_day.rt_trips\n",
    "         >> group_by(_.route_short_name, _.direction_id)\n",
    "         >> summarize(speed_variance = _.mean_speed_mph.var(),\n",
    "                     mean_speed_mph = _.mean_speed_mph.mean(),\n",
    "                     min_hour = _.median_time.min().hour,\n",
    "                     max_hour = _.median_time.max().hour)\n",
    "         >> filter(_.min_hour <= 7, _.max_hour >= 15,\n",
    "                   _.mean_speed_mph < _.mean_speed_mph.quantile(.6),\n",
    "                   _.speed_variance)\n",
    "         >> arrange(-_.speed_variance)\n",
    "         >> head(20)\n",
    "        )\n",
    "except Exception as e:\n",
    "    pass\n",
    "    # print(e)\n",
    "## check that route has all-day span..."
   ]
  },
  {
   "cell_type": "code",
   "execution_count": 27,
   "id": "758b0bae-32d0-40dd-a1d1-1d107b0e7e8b",
   "metadata": {
    "execution": {
     "iopub.execute_input": "2022-04-22T03:01:32.949925Z",
     "iopub.status.busy": "2022-04-22T03:01:32.949045Z",
     "iopub.status.idle": "2022-04-22T03:01:32.957430Z",
     "shell.execute_reply": "2022-04-22T03:01:32.956769Z"
    },
    "jupyter": {
     "source_hidden": true
    },
    "papermill": {
     "duration": 0.034306,
     "end_time": "2022-04-22T03:01:32.959704",
     "exception": false,
     "start_time": "2022-04-22T03:01:32.925398",
     "status": "completed"
    },
    "tags": [
     "remove_input"
    ]
   },
   "outputs": [],
   "source": [
    "def map_from_metrics(rt_day, metrics_df):\n",
    "    try:\n",
    "        route_name = metrics_df.iloc[1,0]\n",
    "        direction_id = metrics_df.iloc[1,1]\n",
    "        # print(route_name, direction_id)\n",
    "    except Exception as e:\n",
    "        # print(e)\n",
    "        return\n",
    "    # route_name = '281'\n",
    "    # direction_id = '1'\n",
    "    rt_day.set_filter(start_time='06:00', end_time='09:00',\n",
    "                      route_names=[route_name], direction_id = direction_id)\n",
    "    try:\n",
    "        am_map = rt_day.segment_speed_map(how='low_speeds')\n",
    "        display(am_map)\n",
    "    except Exception as e:\n",
    "        # print(e)\n",
    "        pass\n",
    "    \n",
    "    rt_day.set_filter(start_time='10:00', end_time='14:00',\n",
    "                      route_names=[route_name], direction_id = direction_id)\n",
    "    try:\n",
    "        mid_map = rt_day.segment_speed_map(how='low_speeds')\n",
    "        display(mid_map)\n",
    "    except Exception as e:\n",
    "        # print(e)\n",
    "        pass\n",
    "\n",
    "    rt_day.set_filter(start_time='15:00', end_time='19:00',\n",
    "                      route_names=[route_name], direction_id = direction_id)\n",
    "    try:\n",
    "        pm_map = rt_day.segment_speed_map(how='low_speeds')\n",
    "        display(pm_map)\n",
    "    except Exception as e:\n",
    "        # print(e)\n",
    "        pass\n",
    "\n",
    "    return"
   ]
  },
  {
   "cell_type": "markdown",
   "id": "6ce187c8-c7bf-44f4-970e-b3abd69ddc38",
   "metadata": {
    "papermill": {
     "duration": 0.022801,
     "end_time": "2022-04-22T03:01:33.014056",
     "exception": false,
     "start_time": "2022-04-22T03:01:32.991255",
     "status": "completed"
    },
    "tags": []
   },
   "source": [
    "## Single-Route Detail Example"
   ]
  },
  {
   "cell_type": "code",
   "execution_count": 28,
   "id": "c7b4b043-6d15-4d9c-8aac-f0f6649e9552",
   "metadata": {
    "execution": {
     "iopub.execute_input": "2022-04-22T03:01:33.060316Z",
     "iopub.status.busy": "2022-04-22T03:01:33.059815Z",
     "iopub.status.idle": "2022-04-22T03:01:34.328381Z",
     "shell.execute_reply": "2022-04-22T03:01:34.327748Z"
    },
    "jupyter": {
     "source_hidden": true
    },
    "papermill": {
     "duration": 1.294449,
     "end_time": "2022-04-22T03:01:34.330661",
     "exception": false,
     "start_time": "2022-04-22T03:01:33.036212",
     "status": "completed"
    },
    "tags": [
     "remove_input"
    ]
   },
   "outputs": [],
   "source": [
    "try:\n",
    "    map_from_metrics(rt_day, metrics_df)\n",
    "except Exception as e:\n",
    "    # print(e)\n",
    "    pass"
   ]
  },
  {
   "cell_type": "code",
   "execution_count": null,
   "id": "a7d189cb-26d5-4a49-bf0f-2c33fd408f7e",
   "metadata": {
    "jupyter": {
     "source_hidden": true
    },
    "papermill": {
     "duration": 0.02218,
     "end_time": "2022-04-22T03:01:34.375701",
     "exception": false,
     "start_time": "2022-04-22T03:01:34.353521",
     "status": "completed"
    },
    "tags": [
     "remove_input"
    ]
   },
   "outputs": [],
   "source": []
  }
 ],
 "metadata": {
  "kernelspec": {
   "display_name": "Python 3 (ipykernel)",
   "language": "python",
   "name": "python3"
  },
  "language_info": {
   "codemirror_mode": {
    "name": "ipython",
    "version": 3
   },
   "file_extension": ".py",
   "mimetype": "text/x-python",
   "name": "python",
   "nbconvert_exporter": "python",
   "pygments_lexer": "ipython3",
   "version": "3.9.10"
  },
  "papermill": {
   "default_parameters": {},
   "duration": 27.054194,
   "end_time": "2022-04-22T03:01:35.931442",
   "environment_variables": {},
   "exception": null,
   "input_path": "rt_delay/speedmaps.ipynb",
   "output_path": "portfolio/rt/district_04-oakland/speedmaps__itp_id_110.ipynb",
   "parameters": {
    "district": "04 - Oakland",
    "itp_id": 110
   },
   "start_time": "2022-04-22T03:01:08.877248",
   "version": "2.3.4"
  }
 },
 "nbformat": 4,
 "nbformat_minor": 5
}