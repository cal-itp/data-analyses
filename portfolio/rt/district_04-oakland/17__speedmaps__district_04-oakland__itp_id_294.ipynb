version https://git-lfs.github.com/spec/v1
oid sha256:0e54af9fcabe64b717bf75aec7debec0c5ecada47aa3b5664957ca80d913efae
size 20553587
