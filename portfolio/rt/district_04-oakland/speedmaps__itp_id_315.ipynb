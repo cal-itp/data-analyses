{
 "cells": [
  {
   "cell_type": "code",
   "execution_count": 1,
   "id": "46898b5c-b5cc-4096-ab68-8c3e42fab870",
   "metadata": {
    "execution": {
     "iopub.execute_input": "2022-04-22T02:59:31.436905Z",
     "iopub.status.busy": "2022-04-22T02:59:31.436196Z",
     "iopub.status.idle": "2022-04-22T02:59:40.000603Z",
     "shell.execute_reply": "2022-04-22T02:59:39.999504Z"
    },
    "jupyter": {
     "source_hidden": true
    },
    "papermill": {
     "duration": 8.589578,
     "end_time": "2022-04-22T02:59:40.003170",
     "exception": false,
     "start_time": "2022-04-22T02:59:31.413592",
     "status": "completed"
    },
    "tags": [
     "remove_input"
    ]
   },
   "outputs": [],
   "source": [
    "%%capture\n",
    "import warnings\n",
    "warnings.filterwarnings('ignore')\n",
    "\n",
    "import os\n",
    "os.environ[\"CALITP_BQ_MAX_BYTES\"] = str(800_000_000_000)\n",
    "import shared_utils\n",
    "import utils\n",
    "\n",
    "from calitp.tables import tbl\n",
    "from calitp import query_sql\n",
    "import calitp.magics\n",
    "\n",
    "from siuba import *\n",
    "import pandas as pd\n",
    "import geopandas as gpd\n",
    "\n",
    "import datetime as dt\n",
    "\n",
    "import importlib\n",
    "import rt_filter_map_plot\n",
    "\n",
    "from IPython.display import display, Markdown, Latex, HTML\n",
    "import json"
   ]
  },
  {
   "cell_type": "code",
   "execution_count": 2,
   "id": "9f15ed6a-5ab7-4f57-9695-3f762781b74c",
   "metadata": {
    "execution": {
     "iopub.execute_input": "2022-04-22T02:59:40.040956Z",
     "iopub.status.busy": "2022-04-22T02:59:40.040565Z",
     "iopub.status.idle": "2022-04-22T02:59:40.047130Z",
     "shell.execute_reply": "2022-04-22T02:59:40.046244Z"
    },
    "jupyter": {
     "source_hidden": true
    },
    "papermill": {
     "duration": 0.028129,
     "end_time": "2022-04-22T02:59:40.049400",
     "exception": false,
     "start_time": "2022-04-22T02:59:40.021271",
     "status": "completed"
    },
    "tags": [
     "parameters",
     "remove_input"
    ]
   },
   "outputs": [],
   "source": [
    "## parameters cell\n",
    "itp_id = 135"
   ]
  },
  {
   "cell_type": "code",
   "execution_count": 3,
   "id": "b81dd956",
   "metadata": {
    "execution": {
     "iopub.execute_input": "2022-04-22T02:59:40.092560Z",
     "iopub.status.busy": "2022-04-22T02:59:40.092269Z",
     "iopub.status.idle": "2022-04-22T02:59:40.096699Z",
     "shell.execute_reply": "2022-04-22T02:59:40.095739Z"
    },
    "jupyter": {
     "source_hidden": true
    },
    "papermill": {
     "duration": 0.026868,
     "end_time": "2022-04-22T02:59:40.098747",
     "exception": false,
     "start_time": "2022-04-22T02:59:40.071879",
     "status": "completed"
    },
    "tags": [
     "injected-parameters",
     "remove_input"
    ]
   },
   "outputs": [],
   "source": [
    "# Parameters\n",
    "district = \"04 - Oakland\"\n",
    "itp_id = 315\n"
   ]
  },
  {
   "cell_type": "code",
   "execution_count": 4,
   "id": "6c2e9651-70e4-4403-b43d-da50315ef8fd",
   "metadata": {
    "execution": {
     "iopub.execute_input": "2022-04-22T02:59:40.135917Z",
     "iopub.status.busy": "2022-04-22T02:59:40.135550Z",
     "iopub.status.idle": "2022-04-22T02:59:41.863851Z",
     "shell.execute_reply": "2022-04-22T02:59:41.862813Z"
    },
    "jupyter": {
     "source_hidden": true
    },
    "papermill": {
     "duration": 1.750233,
     "end_time": "2022-04-22T02:59:41.866448",
     "exception": false,
     "start_time": "2022-04-22T02:59:40.116215",
     "status": "completed"
    },
    "tags": [
     "remove_input"
    ]
   },
   "outputs": [],
   "source": [
    "airtable_organizations = (\n",
    "    tbl.airtable.california_transit_organizations()\n",
    "    >> select(_.itp_id, _.name, _.caltrans_district,\n",
    "              _.website, _.ntp_id, _.drmt_organization_name)\n",
    "    >> filter(_.itp_id == itp_id)\n",
    "    >> collect()\n",
    ")"
   ]
  },
  {
   "cell_type": "code",
   "execution_count": 5,
   "id": "cc9c7000-4042-4f64-b7ef-8e8e5f1e706a",
   "metadata": {
    "execution": {
     "iopub.execute_input": "2022-04-22T02:59:41.906357Z",
     "iopub.status.busy": "2022-04-22T02:59:41.906065Z",
     "iopub.status.idle": "2022-04-22T02:59:41.911989Z",
     "shell.execute_reply": "2022-04-22T02:59:41.910783Z"
    },
    "jupyter": {
     "source_hidden": true
    },
    "papermill": {
     "duration": 0.02779,
     "end_time": "2022-04-22T02:59:41.914218",
     "exception": false,
     "start_time": "2022-04-22T02:59:41.886428",
     "status": "completed"
    },
    "tags": [
     "remove_input"
    ]
   },
   "outputs": [],
   "source": [
    "# airtable_organizations"
   ]
  },
  {
   "cell_type": "code",
   "execution_count": 6,
   "id": "306a7053-3fab-4723-a287-111e4eba11f2",
   "metadata": {
    "execution": {
     "iopub.execute_input": "2022-04-22T02:59:41.951612Z",
     "iopub.status.busy": "2022-04-22T02:59:41.951312Z",
     "iopub.status.idle": "2022-04-22T02:59:41.956637Z",
     "shell.execute_reply": "2022-04-22T02:59:41.955306Z"
    },
    "jupyter": {
     "source_hidden": true
    },
    "papermill": {
     "duration": 0.026459,
     "end_time": "2022-04-22T02:59:41.958621",
     "exception": false,
     "start_time": "2022-04-22T02:59:41.932162",
     "status": "completed"
    },
    "tags": [
     "remove_input"
    ]
   },
   "outputs": [],
   "source": [
    "analysis_date = dt.date(2022, 3, 30)\n",
    "if itp_id == 273:\n",
    "    analysis_date = dt.date(2022, 2, 8) # #override for SacRT "
   ]
  },
  {
   "cell_type": "code",
   "execution_count": 7,
   "id": "47c79d99-c82f-4e1e-b11e-2b1e83c13a1b",
   "metadata": {
    "execution": {
     "iopub.execute_input": "2022-04-22T02:59:42.000272Z",
     "iopub.status.busy": "2022-04-22T02:59:41.999946Z",
     "iopub.status.idle": "2022-04-22T02:59:42.004239Z",
     "shell.execute_reply": "2022-04-22T02:59:42.003429Z"
    },
    "jupyter": {
     "source_hidden": true
    },
    "papermill": {
     "duration": 0.027174,
     "end_time": "2022-04-22T02:59:42.006105",
     "exception": false,
     "start_time": "2022-04-22T02:59:41.978931",
     "status": "completed"
    },
    "tags": [
     "remove_input"
    ]
   },
   "outputs": [],
   "source": [
    "month_day = analysis_date.strftime('%m_%d')"
   ]
  },
  {
   "cell_type": "code",
   "execution_count": 8,
   "id": "1739d979-cd4d-456c-a1ad-a016cbf69cad",
   "metadata": {
    "execution": {
     "iopub.execute_input": "2022-04-22T02:59:42.044702Z",
     "iopub.status.busy": "2022-04-22T02:59:42.043833Z",
     "iopub.status.idle": "2022-04-22T02:59:42.433834Z",
     "shell.execute_reply": "2022-04-22T02:59:42.432858Z"
    },
    "jupyter": {
     "source_hidden": true
    },
    "papermill": {
     "duration": 0.411355,
     "end_time": "2022-04-22T02:59:42.436173",
     "exception": false,
     "start_time": "2022-04-22T02:59:42.024818",
     "status": "completed"
    },
    "tags": [
     "remove_input"
    ]
   },
   "outputs": [],
   "source": [
    "trips = pd.read_parquet(f'{utils.GCS_FILE_PATH}rt_trips/{itp_id}_{month_day}.parquet')"
   ]
  },
  {
   "cell_type": "code",
   "execution_count": 9,
   "id": "b77a9167-4017-4367-8fed-d4e6bf3999b9",
   "metadata": {
    "execution": {
     "iopub.execute_input": "2022-04-22T02:59:42.474046Z",
     "iopub.status.busy": "2022-04-22T02:59:42.473740Z",
     "iopub.status.idle": "2022-04-22T02:59:42.883941Z",
     "shell.execute_reply": "2022-04-22T02:59:42.882941Z"
    },
    "jupyter": {
     "source_hidden": true
    },
    "papermill": {
     "duration": 0.432498,
     "end_time": "2022-04-22T02:59:42.886598",
     "exception": false,
     "start_time": "2022-04-22T02:59:42.454100",
     "status": "completed"
    },
    "tags": [
     "remove_input"
    ]
   },
   "outputs": [],
   "source": [
    "stop_delay = gpd.read_parquet(f'{utils.GCS_FILE_PATH}stop_delay_views/{itp_id}_{month_day}.parquet')\n",
    "stop_delay['arrival_time'] = stop_delay.arrival_time.map(lambda x: dt.datetime.fromisoformat(x))\n",
    "stop_delay['actual_time'] = stop_delay.actual_time.map(lambda x: dt.datetime.fromisoformat(x))"
   ]
  },
  {
   "cell_type": "code",
   "execution_count": 10,
   "id": "2b2fe439-10af-4140-ab83-69b05c385b40",
   "metadata": {
    "execution": {
     "iopub.execute_input": "2022-04-22T02:59:42.925676Z",
     "iopub.status.busy": "2022-04-22T02:59:42.925398Z",
     "iopub.status.idle": "2022-04-22T02:59:45.854471Z",
     "shell.execute_reply": "2022-04-22T02:59:45.853444Z"
    },
    "jupyter": {
     "source_hidden": true
    },
    "papermill": {
     "duration": 2.95187,
     "end_time": "2022-04-22T02:59:45.857278",
     "exception": false,
     "start_time": "2022-04-22T02:59:42.905408",
     "status": "completed"
    },
    "tags": [
     "remove_input"
    ]
   },
   "outputs": [],
   "source": [
    "%%capture\n",
    "routelines = utils.get_routelines(itp_id, analysis_date)"
   ]
  },
  {
   "cell_type": "code",
   "execution_count": 11,
   "id": "e4cbefc6-9bbb-4989-85b7-1f31da17fcb8",
   "metadata": {
    "execution": {
     "iopub.execute_input": "2022-04-22T02:59:45.899404Z",
     "iopub.status.busy": "2022-04-22T02:59:45.899087Z",
     "iopub.status.idle": "2022-04-22T02:59:46.020658Z",
     "shell.execute_reply": "2022-04-22T02:59:46.019964Z"
    },
    "jupyter": {
     "source_hidden": true
    },
    "papermill": {
     "duration": 0.14556,
     "end_time": "2022-04-22T02:59:46.022837",
     "exception": false,
     "start_time": "2022-04-22T02:59:45.877277",
     "status": "completed"
    },
    "tags": [
     "remove_input"
    ]
   },
   "outputs": [],
   "source": [
    "%%capture\n",
    "rt_day = rt_filter_map_plot.RtFilterMapper(trips, stop_delay, routelines)"
   ]
  },
  {
   "cell_type": "code",
   "execution_count": 12,
   "id": "6c335d40-7a7b-4641-8a3d-c970b2823cdf",
   "metadata": {
    "execution": {
     "iopub.execute_input": "2022-04-22T02:59:46.062429Z",
     "iopub.status.busy": "2022-04-22T02:59:46.062056Z",
     "iopub.status.idle": "2022-04-22T02:59:46.071118Z",
     "shell.execute_reply": "2022-04-22T02:59:46.070155Z"
    },
    "jupyter": {
     "source_hidden": true
    },
    "papermill": {
     "duration": 0.032762,
     "end_time": "2022-04-22T02:59:46.074359",
     "exception": false,
     "start_time": "2022-04-22T02:59:46.041597",
     "status": "completed"
    },
    "tags": [
     "remove_input"
    ]
   },
   "outputs": [],
   "source": [
    "%%capture_parameters\n",
    "agency_name = rt_day.calitp_agency_name\n",
    "district = airtable_organizations.caltrans_district.iloc[0]\n",
    "agency_name, district"
   ]
  },
  {
   "cell_type": "markdown",
   "id": "52110155-d104-4043-8376-3f83e82a959a",
   "metadata": {
    "papermill": {
     "duration": 0.019561,
     "end_time": "2022-04-22T02:59:46.112176",
     "exception": false,
     "start_time": "2022-04-22T02:59:46.092615",
     "status": "completed"
    },
    "tags": []
   },
   "source": [
    "# Sonoma-Marin Area Rail Transit"
   ]
  },
  {
   "cell_type": "markdown",
   "id": "7d5572cd-dd67-4e26-b100-a0e7472a4a17",
   "metadata": {
    "papermill": {
     "duration": 0.018566,
     "end_time": "2022-04-22T02:59:46.149350",
     "exception": false,
     "start_time": "2022-04-22T02:59:46.130784",
     "status": "completed"
    },
    "tags": []
   },
   "source": [
    "## About These Maps:\n",
    "\n",
    "* Each map shows bus (and rail, if applicable) speeds for Sonoma-Marin Area Rail Transit, with a map each for the morning peak, midday, and afternoon peak periods.\n",
    "* On the map, routes are split into segments corresponding to the distance between two stops, allowing you to focus on specific portions of the route experiencing a slowdown.\n",
    "* Route segments are arrow-shaped to indicate direction of travel.\n",
    "* Hover over, or click, a segment with your mouse to see the exact speed, route name, and transit service frequency in that segment. \n",
    "    * Higher-frequency routes (3+ trips per hour) are especially important, since those slowdowns correspond to more vehicles, and riders, delayed in traffic."
   ]
  },
  {
   "cell_type": "code",
   "execution_count": 13,
   "id": "8e940d3d-c76e-42ba-be8b-739852771ca6",
   "metadata": {
    "execution": {
     "iopub.execute_input": "2022-04-22T02:59:46.194622Z",
     "iopub.status.busy": "2022-04-22T02:59:46.194321Z",
     "iopub.status.idle": "2022-04-22T02:59:46.198539Z",
     "shell.execute_reply": "2022-04-22T02:59:46.197541Z"
    },
    "jupyter": {
     "source_hidden": true
    },
    "papermill": {
     "duration": 0.02734,
     "end_time": "2022-04-22T02:59:46.201112",
     "exception": false,
     "start_time": "2022-04-22T02:59:46.173772",
     "status": "completed"
    },
    "tags": [
     "remove_input"
    ]
   },
   "outputs": [],
   "source": [
    "## avoid papermill errors when map fails to render\n",
    "m = None"
   ]
  },
  {
   "cell_type": "markdown",
   "id": "74fce4a9-514f-405d-9ce0-1cb1998a696b",
   "metadata": {
    "papermill": {
     "duration": 0.018382,
     "end_time": "2022-04-22T02:59:46.237751",
     "exception": false,
     "start_time": "2022-04-22T02:59:46.219369",
     "status": "completed"
    },
    "tags": []
   },
   "source": [
    "## Morning Peak"
   ]
  },
  {
   "cell_type": "code",
   "execution_count": 14,
   "id": "533a64f4-f374-4f2c-94d3-5146ebe7c036",
   "metadata": {
    "execution": {
     "iopub.execute_input": "2022-04-22T02:59:46.281388Z",
     "iopub.status.busy": "2022-04-22T02:59:46.281099Z",
     "iopub.status.idle": "2022-04-22T02:59:46.287799Z",
     "shell.execute_reply": "2022-04-22T02:59:46.286817Z"
    },
    "jupyter": {
     "source_hidden": true
    },
    "papermill": {
     "duration": 0.0336,
     "end_time": "2022-04-22T02:59:46.290216",
     "exception": false,
     "start_time": "2022-04-22T02:59:46.256616",
     "status": "completed"
    },
    "tags": [
     "remove_input"
    ]
   },
   "outputs": [],
   "source": [
    "%%capture\n",
    "rt_day.set_filter(start_time='06:00', end_time='09:00')"
   ]
  },
  {
   "cell_type": "code",
   "execution_count": 15,
   "id": "2f317120-99ee-435b-96cd-1236b8ee2e0b",
   "metadata": {
    "execution": {
     "iopub.execute_input": "2022-04-22T02:59:46.329939Z",
     "iopub.status.busy": "2022-04-22T02:59:46.329592Z",
     "iopub.status.idle": "2022-04-22T02:59:48.695676Z",
     "shell.execute_reply": "2022-04-22T02:59:48.695097Z"
    },
    "jupyter": {
     "source_hidden": true
    },
    "papermill": {
     "duration": 2.388476,
     "end_time": "2022-04-22T02:59:48.697702",
     "exception": false,
     "start_time": "2022-04-22T02:59:46.309226",
     "status": "completed"
    },
    "tags": [
     "remove_input"
    ]
   },
   "outputs": [],
   "source": [
    "%%capture\n",
    "m = rt_day.segment_speed_map(how='low_speeds', no_title=True)"
   ]
  },
  {
   "cell_type": "code",
   "execution_count": 16,
   "id": "275087be-b46d-4acb-95fe-2dc98c2089a2",
   "metadata": {
    "execution": {
     "iopub.execute_input": "2022-04-22T02:59:48.738376Z",
     "iopub.status.busy": "2022-04-22T02:59:48.737791Z",
     "iopub.status.idle": "2022-04-22T02:59:48.745431Z",
     "shell.execute_reply": "2022-04-22T02:59:48.744850Z"
    },
    "jupyter": {
     "source_hidden": true
    },
    "papermill": {
     "duration": 0.030469,
     "end_time": "2022-04-22T02:59:48.747452",
     "exception": false,
     "start_time": "2022-04-22T02:59:48.716983",
     "status": "completed"
    },
    "tags": [
     "remove_input"
    ]
   },
   "outputs": [],
   "source": [
    "m"
   ]
  },
  {
   "cell_type": "code",
   "execution_count": 17,
   "id": "b0cf9b97-7485-4f36-b5e8-124f22fa9661",
   "metadata": {
    "execution": {
     "iopub.execute_input": "2022-04-22T02:59:48.793530Z",
     "iopub.status.busy": "2022-04-22T02:59:48.792981Z",
     "iopub.status.idle": "2022-04-22T02:59:48.825060Z",
     "shell.execute_reply": "2022-04-22T02:59:48.824007Z"
    },
    "jupyter": {
     "source_hidden": true
    },
    "papermill": {
     "duration": 0.056359,
     "end_time": "2022-04-22T02:59:48.827364",
     "exception": false,
     "start_time": "2022-04-22T02:59:48.771005",
     "status": "completed"
    },
    "tags": [
     "remove_input"
    ]
   },
   "outputs": [
    {
     "data": {
      "text/markdown": [
       "AM Peak most delayed routes: \n",
       " * SMART, Sonoma County Airport to Larkspur, Northbound: 0.0 minutes late on average\n",
       " * SMART, Sonoma County Airport to Larkspur, Southbound: 0.0 minutes late on average"
      ],
      "text/plain": [
       "<IPython.core.display.Markdown object>"
      ]
     },
     "metadata": {},
     "output_type": "display_data"
    }
   ],
   "source": [
    "rt_day.describe_delayed_routes()"
   ]
  },
  {
   "cell_type": "markdown",
   "id": "3d263ba2-49ae-4e02-9d06-3181b03f51ba",
   "metadata": {
    "papermill": {
     "duration": 0.024112,
     "end_time": "2022-04-22T02:59:48.871558",
     "exception": false,
     "start_time": "2022-04-22T02:59:48.847446",
     "status": "completed"
    },
    "tags": []
   },
   "source": [
    "## Midday"
   ]
  },
  {
   "cell_type": "code",
   "execution_count": 18,
   "id": "f5344e63-89d2-43d6-9783-55a3061c99d2",
   "metadata": {
    "execution": {
     "iopub.execute_input": "2022-04-22T02:59:48.914429Z",
     "iopub.status.busy": "2022-04-22T02:59:48.914143Z",
     "iopub.status.idle": "2022-04-22T02:59:48.920089Z",
     "shell.execute_reply": "2022-04-22T02:59:48.918995Z"
    },
    "jupyter": {
     "source_hidden": true
    },
    "papermill": {
     "duration": 0.030371,
     "end_time": "2022-04-22T02:59:48.922497",
     "exception": false,
     "start_time": "2022-04-22T02:59:48.892126",
     "status": "completed"
    },
    "tags": [
     "remove_input"
    ]
   },
   "outputs": [],
   "source": [
    "%%capture\n",
    "rt_day.set_filter(start_time='10:00', end_time='14:00')"
   ]
  },
  {
   "cell_type": "code",
   "execution_count": 19,
   "id": "a4c40f3c-cf35-45d5-9d87-aa4701bed3aa",
   "metadata": {
    "execution": {
     "iopub.execute_input": "2022-04-22T02:59:48.965120Z",
     "iopub.status.busy": "2022-04-22T02:59:48.964828Z",
     "iopub.status.idle": "2022-04-22T02:59:49.654464Z",
     "shell.execute_reply": "2022-04-22T02:59:49.653760Z"
    },
    "jupyter": {
     "source_hidden": true
    },
    "papermill": {
     "duration": 0.713547,
     "end_time": "2022-04-22T02:59:49.656409",
     "exception": false,
     "start_time": "2022-04-22T02:59:48.942862",
     "status": "completed"
    },
    "tags": [
     "remove_input"
    ]
   },
   "outputs": [],
   "source": [
    "%%capture\n",
    "m = rt_day.segment_speed_map(how='low_speeds', no_title=True)"
   ]
  },
  {
   "cell_type": "code",
   "execution_count": 20,
   "id": "a78b7db5-f43f-4bf1-8036-ae972a87fc53",
   "metadata": {
    "execution": {
     "iopub.execute_input": "2022-04-22T02:59:49.702901Z",
     "iopub.status.busy": "2022-04-22T02:59:49.702548Z",
     "iopub.status.idle": "2022-04-22T02:59:49.706761Z",
     "shell.execute_reply": "2022-04-22T02:59:49.705661Z"
    },
    "jupyter": {
     "source_hidden": true
    },
    "papermill": {
     "duration": 0.030661,
     "end_time": "2022-04-22T02:59:49.709578",
     "exception": false,
     "start_time": "2022-04-22T02:59:49.678917",
     "status": "completed"
    },
    "tags": [
     "remove_input"
    ]
   },
   "outputs": [],
   "source": [
    "m"
   ]
  },
  {
   "cell_type": "code",
   "execution_count": 21,
   "id": "6c745570-b50f-4722-b943-2176444f7af6",
   "metadata": {
    "execution": {
     "iopub.execute_input": "2022-04-22T02:59:49.752783Z",
     "iopub.status.busy": "2022-04-22T02:59:49.752475Z",
     "iopub.status.idle": "2022-04-22T02:59:49.783789Z",
     "shell.execute_reply": "2022-04-22T02:59:49.783142Z"
    },
    "jupyter": {
     "source_hidden": true
    },
    "papermill": {
     "duration": 0.055203,
     "end_time": "2022-04-22T02:59:49.785540",
     "exception": false,
     "start_time": "2022-04-22T02:59:49.730337",
     "status": "completed"
    },
    "tags": [
     "remove_input"
    ]
   },
   "outputs": [
    {
     "data": {
      "text/markdown": [
       "Midday most delayed routes: \n",
       " * SMART, Sonoma County Airport to Larkspur, Southbound: 0.0 minutes late on average\n",
       " * SMART, Sonoma County Airport to Larkspur, Northbound: 0.0 minutes late on average"
      ],
      "text/plain": [
       "<IPython.core.display.Markdown object>"
      ]
     },
     "metadata": {},
     "output_type": "display_data"
    }
   ],
   "source": [
    "rt_day.describe_delayed_routes()"
   ]
  },
  {
   "cell_type": "markdown",
   "id": "704f0788-b4a8-497d-b2aa-c7ac6df939f4",
   "metadata": {
    "papermill": {
     "duration": 0.021213,
     "end_time": "2022-04-22T02:59:49.828532",
     "exception": false,
     "start_time": "2022-04-22T02:59:49.807319",
     "status": "completed"
    },
    "tags": []
   },
   "source": [
    "## Afternoon Peak"
   ]
  },
  {
   "cell_type": "code",
   "execution_count": 22,
   "id": "923f1462-b34a-42d2-a632-c5eb3ac16ac6",
   "metadata": {
    "execution": {
     "iopub.execute_input": "2022-04-22T02:59:49.876613Z",
     "iopub.status.busy": "2022-04-22T02:59:49.876289Z",
     "iopub.status.idle": "2022-04-22T02:59:49.882308Z",
     "shell.execute_reply": "2022-04-22T02:59:49.881270Z"
    },
    "jupyter": {
     "source_hidden": true
    },
    "papermill": {
     "duration": 0.033211,
     "end_time": "2022-04-22T02:59:49.884659",
     "exception": false,
     "start_time": "2022-04-22T02:59:49.851448",
     "status": "completed"
    },
    "tags": [
     "remove_input"
    ]
   },
   "outputs": [],
   "source": [
    "%%capture\n",
    "rt_day.set_filter(start_time='15:00', end_time='19:00')"
   ]
  },
  {
   "cell_type": "code",
   "execution_count": 23,
   "id": "5e46b095-7bc2-4552-a37b-661d076b2b51",
   "metadata": {
    "execution": {
     "iopub.execute_input": "2022-04-22T02:59:49.930351Z",
     "iopub.status.busy": "2022-04-22T02:59:49.929287Z",
     "iopub.status.idle": "2022-04-22T02:59:50.807844Z",
     "shell.execute_reply": "2022-04-22T02:59:50.806824Z"
    },
    "jupyter": {
     "source_hidden": true
    },
    "papermill": {
     "duration": 0.904081,
     "end_time": "2022-04-22T02:59:50.809968",
     "exception": false,
     "start_time": "2022-04-22T02:59:49.905887",
     "status": "completed"
    },
    "tags": [
     "remove_input"
    ]
   },
   "outputs": [],
   "source": [
    "%%capture\n",
    "m = rt_day.segment_speed_map(how='low_speeds', no_title=True)"
   ]
  },
  {
   "cell_type": "code",
   "execution_count": 24,
   "id": "0393f107-e9fe-4982-961a-032f7bf4e0eb",
   "metadata": {
    "execution": {
     "iopub.execute_input": "2022-04-22T02:59:50.854949Z",
     "iopub.status.busy": "2022-04-22T02:59:50.854621Z",
     "iopub.status.idle": "2022-04-22T02:59:50.860198Z",
     "shell.execute_reply": "2022-04-22T02:59:50.859168Z"
    },
    "jupyter": {
     "source_hidden": true
    },
    "papermill": {
     "duration": 0.030773,
     "end_time": "2022-04-22T02:59:50.862444",
     "exception": false,
     "start_time": "2022-04-22T02:59:50.831671",
     "status": "completed"
    },
    "tags": [
     "remove_input"
    ]
   },
   "outputs": [],
   "source": [
    "m"
   ]
  },
  {
   "cell_type": "code",
   "execution_count": 25,
   "id": "76580953-2a2b-4295-a41c-20442eae883e",
   "metadata": {
    "execution": {
     "iopub.execute_input": "2022-04-22T02:59:50.914563Z",
     "iopub.status.busy": "2022-04-22T02:59:50.914265Z",
     "iopub.status.idle": "2022-04-22T02:59:50.945588Z",
     "shell.execute_reply": "2022-04-22T02:59:50.944506Z"
    },
    "jupyter": {
     "source_hidden": true
    },
    "papermill": {
     "duration": 0.063841,
     "end_time": "2022-04-22T02:59:50.947844",
     "exception": false,
     "start_time": "2022-04-22T02:59:50.884003",
     "status": "completed"
    },
    "tags": [
     "remove_input"
    ]
   },
   "outputs": [
    {
     "data": {
      "text/markdown": [
       "PM Peak most delayed routes: \n",
       " * SMART, Sonoma County Airport to Larkspur, Northbound: 0.0 minutes late on average\n",
       " * SMART, Sonoma County Airport to Larkspur, Southbound: 0.0 minutes late on average"
      ],
      "text/plain": [
       "<IPython.core.display.Markdown object>"
      ]
     },
     "metadata": {},
     "output_type": "display_data"
    }
   ],
   "source": [
    "rt_day.describe_delayed_routes()"
   ]
  },
  {
   "cell_type": "code",
   "execution_count": 26,
   "id": "91874f76-635b-4fde-8d61-abc795aca6c6",
   "metadata": {
    "execution": {
     "iopub.execute_input": "2022-04-22T02:59:50.997403Z",
     "iopub.status.busy": "2022-04-22T02:59:50.997038Z",
     "iopub.status.idle": "2022-04-22T02:59:51.021738Z",
     "shell.execute_reply": "2022-04-22T02:59:51.020669Z"
    },
    "jupyter": {
     "source_hidden": true
    },
    "papermill": {
     "duration": 0.052362,
     "end_time": "2022-04-22T02:59:51.023799",
     "exception": false,
     "start_time": "2022-04-22T02:59:50.971437",
     "status": "completed"
    },
    "tags": [
     "remove_input"
    ]
   },
   "outputs": [],
   "source": [
    "try:\n",
    "    metrics_df = (rt_day.rt_trips\n",
    "         >> group_by(_.route_short_name, _.direction_id)\n",
    "         >> summarize(speed_variance = _.mean_speed_mph.var(),\n",
    "                     mean_speed_mph = _.mean_speed_mph.mean(),\n",
    "                     min_hour = _.median_time.min().hour,\n",
    "                     max_hour = _.median_time.max().hour)\n",
    "         >> filter(_.min_hour <= 7, _.max_hour >= 15,\n",
    "                   _.mean_speed_mph < _.mean_speed_mph.quantile(.6),\n",
    "                   _.speed_variance)\n",
    "         >> arrange(-_.speed_variance)\n",
    "         >> head(20)\n",
    "        )\n",
    "except Exception as e:\n",
    "    pass\n",
    "    # print(e)\n",
    "## check that route has all-day span..."
   ]
  },
  {
   "cell_type": "code",
   "execution_count": 27,
   "id": "758b0bae-32d0-40dd-a1d1-1d107b0e7e8b",
   "metadata": {
    "execution": {
     "iopub.execute_input": "2022-04-22T02:59:51.074515Z",
     "iopub.status.busy": "2022-04-22T02:59:51.074220Z",
     "iopub.status.idle": "2022-04-22T02:59:51.082274Z",
     "shell.execute_reply": "2022-04-22T02:59:51.081517Z"
    },
    "jupyter": {
     "source_hidden": true
    },
    "papermill": {
     "duration": 0.038178,
     "end_time": "2022-04-22T02:59:51.083980",
     "exception": false,
     "start_time": "2022-04-22T02:59:51.045802",
     "status": "completed"
    },
    "tags": [
     "remove_input"
    ]
   },
   "outputs": [],
   "source": [
    "def map_from_metrics(rt_day, metrics_df):\n",
    "    try:\n",
    "        route_name = metrics_df.iloc[1,0]\n",
    "        direction_id = metrics_df.iloc[1,1]\n",
    "        # print(route_name, direction_id)\n",
    "    except Exception as e:\n",
    "        # print(e)\n",
    "        return\n",
    "    # route_name = '281'\n",
    "    # direction_id = '1'\n",
    "    rt_day.set_filter(start_time='06:00', end_time='09:00',\n",
    "                      route_names=[route_name], direction_id = direction_id)\n",
    "    try:\n",
    "        am_map = rt_day.segment_speed_map(how='low_speeds')\n",
    "        display(am_map)\n",
    "    except Exception as e:\n",
    "        # print(e)\n",
    "        pass\n",
    "    \n",
    "    rt_day.set_filter(start_time='10:00', end_time='14:00',\n",
    "                      route_names=[route_name], direction_id = direction_id)\n",
    "    try:\n",
    "        mid_map = rt_day.segment_speed_map(how='low_speeds')\n",
    "        display(mid_map)\n",
    "    except Exception as e:\n",
    "        # print(e)\n",
    "        pass\n",
    "\n",
    "    rt_day.set_filter(start_time='15:00', end_time='19:00',\n",
    "                      route_names=[route_name], direction_id = direction_id)\n",
    "    try:\n",
    "        pm_map = rt_day.segment_speed_map(how='low_speeds')\n",
    "        display(pm_map)\n",
    "    except Exception as e:\n",
    "        # print(e)\n",
    "        pass\n",
    "\n",
    "    return"
   ]
  },
  {
   "cell_type": "markdown",
   "id": "6ce187c8-c7bf-44f4-970e-b3abd69ddc38",
   "metadata": {
    "papermill": {
     "duration": 0.022346,
     "end_time": "2022-04-22T02:59:51.128819",
     "exception": false,
     "start_time": "2022-04-22T02:59:51.106473",
     "status": "completed"
    },
    "tags": []
   },
   "source": [
    "## Single-Route Detail Example"
   ]
  },
  {
   "cell_type": "code",
   "execution_count": 28,
   "id": "c7b4b043-6d15-4d9c-8aac-f0f6649e9552",
   "metadata": {
    "execution": {
     "iopub.execute_input": "2022-04-22T02:59:51.178855Z",
     "iopub.status.busy": "2022-04-22T02:59:51.178328Z",
     "iopub.status.idle": "2022-04-22T02:59:51.183269Z",
     "shell.execute_reply": "2022-04-22T02:59:51.182559Z"
    },
    "jupyter": {
     "source_hidden": true
    },
    "papermill": {
     "duration": 0.034639,
     "end_time": "2022-04-22T02:59:51.185519",
     "exception": false,
     "start_time": "2022-04-22T02:59:51.150880",
     "status": "completed"
    },
    "tags": [
     "remove_input"
    ]
   },
   "outputs": [],
   "source": [
    "try:\n",
    "    map_from_metrics(rt_day, metrics_df)\n",
    "except Exception as e:\n",
    "    # print(e)\n",
    "    pass"
   ]
  },
  {
   "cell_type": "code",
   "execution_count": null,
   "id": "a7d189cb-26d5-4a49-bf0f-2c33fd408f7e",
   "metadata": {
    "jupyter": {
     "source_hidden": true
    },
    "papermill": {
     "duration": 0.022013,
     "end_time": "2022-04-22T02:59:51.231283",
     "exception": false,
     "start_time": "2022-04-22T02:59:51.209270",
     "status": "completed"
    },
    "tags": [
     "remove_input"
    ]
   },
   "outputs": [],
   "source": []
  }
 ],
 "metadata": {
  "kernelspec": {
   "display_name": "Python 3 (ipykernel)",
   "language": "python",
   "name": "python3"
  },
  "language_info": {
   "codemirror_mode": {
    "name": "ipython",
    "version": 3
   },
   "file_extension": ".py",
   "mimetype": "text/x-python",
   "name": "python",
   "nbconvert_exporter": "python",
   "pygments_lexer": "ipython3",
   "version": "3.9.10"
  },
  "papermill": {
   "default_parameters": {},
   "duration": 22.525086,
   "end_time": "2022-04-22T02:59:52.778456",
   "environment_variables": {},
   "exception": null,
   "input_path": "rt_delay/speedmaps.ipynb",
   "output_path": "portfolio/rt/district_04-oakland/speedmaps__itp_id_315.ipynb",
   "parameters": {
    "district": "04 - Oakland",
    "itp_id": 315
   },
   "start_time": "2022-04-22T02:59:30.253370",
   "version": "2.3.4"
  }
 },
 "nbformat": 4,
 "nbformat_minor": 5
}