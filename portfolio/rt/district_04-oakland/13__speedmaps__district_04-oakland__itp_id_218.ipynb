version https://git-lfs.github.com/spec/v1
oid sha256:8b888826953a9bbeee0b237c50ac541c717f0c38cd44a3976a3d138e730a4007
size 24887391
