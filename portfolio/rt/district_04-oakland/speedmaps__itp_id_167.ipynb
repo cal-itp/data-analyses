{
 "cells": [
  {
   "cell_type": "code",
   "execution_count": 1,
   "id": "46898b5c-b5cc-4096-ab68-8c3e42fab870",
   "metadata": {
    "execution": {
     "iopub.execute_input": "2022-04-22T03:00:22.628513Z",
     "iopub.status.busy": "2022-04-22T03:00:22.627790Z",
     "iopub.status.idle": "2022-04-22T03:00:31.001157Z",
     "shell.execute_reply": "2022-04-22T03:00:31.000121Z"
    },
    "jupyter": {
     "source_hidden": true
    },
    "papermill": {
     "duration": 8.395901,
     "end_time": "2022-04-22T03:00:31.003955",
     "exception": false,
     "start_time": "2022-04-22T03:00:22.608054",
     "status": "completed"
    },
    "tags": [
     "remove_input"
    ]
   },
   "outputs": [],
   "source": [
    "%%capture\n",
    "import warnings\n",
    "warnings.filterwarnings('ignore')\n",
    "\n",
    "import os\n",
    "os.environ[\"CALITP_BQ_MAX_BYTES\"] = str(800_000_000_000)\n",
    "import shared_utils\n",
    "import utils\n",
    "\n",
    "from calitp.tables import tbl\n",
    "from calitp import query_sql\n",
    "import calitp.magics\n",
    "\n",
    "from siuba import *\n",
    "import pandas as pd\n",
    "import geopandas as gpd\n",
    "\n",
    "import datetime as dt\n",
    "\n",
    "import importlib\n",
    "import rt_filter_map_plot\n",
    "\n",
    "from IPython.display import display, Markdown, Latex, HTML\n",
    "import json"
   ]
  },
  {
   "cell_type": "code",
   "execution_count": 2,
   "id": "9f15ed6a-5ab7-4f57-9695-3f762781b74c",
   "metadata": {
    "execution": {
     "iopub.execute_input": "2022-04-22T03:00:31.042391Z",
     "iopub.status.busy": "2022-04-22T03:00:31.042087Z",
     "iopub.status.idle": "2022-04-22T03:00:31.046625Z",
     "shell.execute_reply": "2022-04-22T03:00:31.045780Z"
    },
    "jupyter": {
     "source_hidden": true
    },
    "papermill": {
     "duration": 0.026883,
     "end_time": "2022-04-22T03:00:31.049231",
     "exception": false,
     "start_time": "2022-04-22T03:00:31.022348",
     "status": "completed"
    },
    "tags": [
     "parameters",
     "remove_input"
    ]
   },
   "outputs": [],
   "source": [
    "## parameters cell\n",
    "itp_id = 135"
   ]
  },
  {
   "cell_type": "code",
   "execution_count": 3,
   "id": "606d8daf",
   "metadata": {
    "execution": {
     "iopub.execute_input": "2022-04-22T03:00:31.091598Z",
     "iopub.status.busy": "2022-04-22T03:00:31.091316Z",
     "iopub.status.idle": "2022-04-22T03:00:31.095436Z",
     "shell.execute_reply": "2022-04-22T03:00:31.094460Z"
    },
    "jupyter": {
     "source_hidden": true
    },
    "papermill": {
     "duration": 0.025705,
     "end_time": "2022-04-22T03:00:31.097856",
     "exception": false,
     "start_time": "2022-04-22T03:00:31.072151",
     "status": "completed"
    },
    "tags": [
     "injected-parameters",
     "remove_input"
    ]
   },
   "outputs": [],
   "source": [
    "# Parameters\n",
    "district = \"04 - Oakland\"\n",
    "itp_id = 167\n"
   ]
  },
  {
   "cell_type": "code",
   "execution_count": 4,
   "id": "6c2e9651-70e4-4403-b43d-da50315ef8fd",
   "metadata": {
    "execution": {
     "iopub.execute_input": "2022-04-22T03:00:31.134346Z",
     "iopub.status.busy": "2022-04-22T03:00:31.134052Z",
     "iopub.status.idle": "2022-04-22T03:00:32.624964Z",
     "shell.execute_reply": "2022-04-22T03:00:32.623803Z"
    },
    "jupyter": {
     "source_hidden": true
    },
    "papermill": {
     "duration": 1.511993,
     "end_time": "2022-04-22T03:00:32.627285",
     "exception": false,
     "start_time": "2022-04-22T03:00:31.115292",
     "status": "completed"
    },
    "tags": [
     "remove_input"
    ]
   },
   "outputs": [],
   "source": [
    "airtable_organizations = (\n",
    "    tbl.airtable.california_transit_organizations()\n",
    "    >> select(_.itp_id, _.name, _.caltrans_district,\n",
    "              _.website, _.ntp_id, _.drmt_organization_name)\n",
    "    >> filter(_.itp_id == itp_id)\n",
    "    >> collect()\n",
    ")"
   ]
  },
  {
   "cell_type": "code",
   "execution_count": 5,
   "id": "cc9c7000-4042-4f64-b7ef-8e8e5f1e706a",
   "metadata": {
    "execution": {
     "iopub.execute_input": "2022-04-22T03:00:32.667824Z",
     "iopub.status.busy": "2022-04-22T03:00:32.666934Z",
     "iopub.status.idle": "2022-04-22T03:00:32.672852Z",
     "shell.execute_reply": "2022-04-22T03:00:32.672276Z"
    },
    "jupyter": {
     "source_hidden": true
    },
    "papermill": {
     "duration": 0.027607,
     "end_time": "2022-04-22T03:00:32.674644",
     "exception": false,
     "start_time": "2022-04-22T03:00:32.647037",
     "status": "completed"
    },
    "tags": [
     "remove_input"
    ]
   },
   "outputs": [],
   "source": [
    "# airtable_organizations"
   ]
  },
  {
   "cell_type": "code",
   "execution_count": 6,
   "id": "306a7053-3fab-4723-a287-111e4eba11f2",
   "metadata": {
    "execution": {
     "iopub.execute_input": "2022-04-22T03:00:32.712498Z",
     "iopub.status.busy": "2022-04-22T03:00:32.711552Z",
     "iopub.status.idle": "2022-04-22T03:00:32.720314Z",
     "shell.execute_reply": "2022-04-22T03:00:32.719483Z"
    },
    "jupyter": {
     "source_hidden": true
    },
    "papermill": {
     "duration": 0.029675,
     "end_time": "2022-04-22T03:00:32.722217",
     "exception": false,
     "start_time": "2022-04-22T03:00:32.692542",
     "status": "completed"
    },
    "tags": [
     "remove_input"
    ]
   },
   "outputs": [],
   "source": [
    "analysis_date = dt.date(2022, 3, 30)\n",
    "if itp_id == 273:\n",
    "    analysis_date = dt.date(2022, 2, 8) # #override for SacRT "
   ]
  },
  {
   "cell_type": "code",
   "execution_count": 7,
   "id": "47c79d99-c82f-4e1e-b11e-2b1e83c13a1b",
   "metadata": {
    "execution": {
     "iopub.execute_input": "2022-04-22T03:00:32.759481Z",
     "iopub.status.busy": "2022-04-22T03:00:32.759028Z",
     "iopub.status.idle": "2022-04-22T03:00:32.763486Z",
     "shell.execute_reply": "2022-04-22T03:00:32.762614Z"
    },
    "jupyter": {
     "source_hidden": true
    },
    "papermill": {
     "duration": 0.026873,
     "end_time": "2022-04-22T03:00:32.766857",
     "exception": false,
     "start_time": "2022-04-22T03:00:32.739984",
     "status": "completed"
    },
    "tags": [
     "remove_input"
    ]
   },
   "outputs": [],
   "source": [
    "month_day = analysis_date.strftime('%m_%d')"
   ]
  },
  {
   "cell_type": "code",
   "execution_count": 8,
   "id": "1739d979-cd4d-456c-a1ad-a016cbf69cad",
   "metadata": {
    "execution": {
     "iopub.execute_input": "2022-04-22T03:00:32.807495Z",
     "iopub.status.busy": "2022-04-22T03:00:32.806681Z",
     "iopub.status.idle": "2022-04-22T03:00:33.251697Z",
     "shell.execute_reply": "2022-04-22T03:00:33.251027Z"
    },
    "jupyter": {
     "source_hidden": true
    },
    "papermill": {
     "duration": 0.466695,
     "end_time": "2022-04-22T03:00:33.254032",
     "exception": false,
     "start_time": "2022-04-22T03:00:32.787337",
     "status": "completed"
    },
    "tags": [
     "remove_input"
    ]
   },
   "outputs": [],
   "source": [
    "trips = pd.read_parquet(f'{utils.GCS_FILE_PATH}rt_trips/{itp_id}_{month_day}.parquet')"
   ]
  },
  {
   "cell_type": "code",
   "execution_count": 9,
   "id": "b77a9167-4017-4367-8fed-d4e6bf3999b9",
   "metadata": {
    "execution": {
     "iopub.execute_input": "2022-04-22T03:00:33.292576Z",
     "iopub.status.busy": "2022-04-22T03:00:33.291615Z",
     "iopub.status.idle": "2022-04-22T03:00:33.764979Z",
     "shell.execute_reply": "2022-04-22T03:00:33.763837Z"
    },
    "jupyter": {
     "source_hidden": true
    },
    "papermill": {
     "duration": 0.495713,
     "end_time": "2022-04-22T03:00:33.767781",
     "exception": false,
     "start_time": "2022-04-22T03:00:33.272068",
     "status": "completed"
    },
    "tags": [
     "remove_input"
    ]
   },
   "outputs": [],
   "source": [
    "stop_delay = gpd.read_parquet(f'{utils.GCS_FILE_PATH}stop_delay_views/{itp_id}_{month_day}.parquet')\n",
    "stop_delay['arrival_time'] = stop_delay.arrival_time.map(lambda x: dt.datetime.fromisoformat(x))\n",
    "stop_delay['actual_time'] = stop_delay.actual_time.map(lambda x: dt.datetime.fromisoformat(x))"
   ]
  },
  {
   "cell_type": "code",
   "execution_count": 10,
   "id": "2b2fe439-10af-4140-ab83-69b05c385b40",
   "metadata": {
    "execution": {
     "iopub.execute_input": "2022-04-22T03:00:33.807769Z",
     "iopub.status.busy": "2022-04-22T03:00:33.807447Z",
     "iopub.status.idle": "2022-04-22T03:00:39.050374Z",
     "shell.execute_reply": "2022-04-22T03:00:39.049627Z"
    },
    "jupyter": {
     "source_hidden": true
    },
    "papermill": {
     "duration": 5.26518,
     "end_time": "2022-04-22T03:00:39.053024",
     "exception": false,
     "start_time": "2022-04-22T03:00:33.787844",
     "status": "completed"
    },
    "tags": [
     "remove_input"
    ]
   },
   "outputs": [],
   "source": [
    "%%capture\n",
    "routelines = utils.get_routelines(itp_id, analysis_date)"
   ]
  },
  {
   "cell_type": "code",
   "execution_count": 11,
   "id": "e4cbefc6-9bbb-4989-85b7-1f31da17fcb8",
   "metadata": {
    "execution": {
     "iopub.execute_input": "2022-04-22T03:00:39.091949Z",
     "iopub.status.busy": "2022-04-22T03:00:39.091626Z",
     "iopub.status.idle": "2022-04-22T03:00:40.077647Z",
     "shell.execute_reply": "2022-04-22T03:00:40.076676Z"
    },
    "jupyter": {
     "source_hidden": true
    },
    "papermill": {
     "duration": 1.008568,
     "end_time": "2022-04-22T03:00:40.080034",
     "exception": false,
     "start_time": "2022-04-22T03:00:39.071466",
     "status": "completed"
    },
    "tags": [
     "remove_input"
    ]
   },
   "outputs": [],
   "source": [
    "%%capture\n",
    "rt_day = rt_filter_map_plot.RtFilterMapper(trips, stop_delay, routelines)"
   ]
  },
  {
   "cell_type": "code",
   "execution_count": 12,
   "id": "6c335d40-7a7b-4641-8a3d-c970b2823cdf",
   "metadata": {
    "execution": {
     "iopub.execute_input": "2022-04-22T03:00:40.121869Z",
     "iopub.status.busy": "2022-04-22T03:00:40.121554Z",
     "iopub.status.idle": "2022-04-22T03:00:40.128481Z",
     "shell.execute_reply": "2022-04-22T03:00:40.127861Z"
    },
    "jupyter": {
     "source_hidden": true
    },
    "papermill": {
     "duration": 0.030127,
     "end_time": "2022-04-22T03:00:40.130236",
     "exception": false,
     "start_time": "2022-04-22T03:00:40.100109",
     "status": "completed"
    },
    "tags": [
     "remove_input"
    ]
   },
   "outputs": [],
   "source": [
    "%%capture_parameters\n",
    "agency_name = rt_day.calitp_agency_name\n",
    "district = airtable_organizations.caltrans_district.iloc[0]\n",
    "agency_name, district"
   ]
  },
  {
   "cell_type": "markdown",
   "id": "52110155-d104-4043-8376-3f83e82a959a",
   "metadata": {
    "papermill": {
     "duration": 0.027135,
     "end_time": "2022-04-22T03:00:40.177536",
     "exception": false,
     "start_time": "2022-04-22T03:00:40.150401",
     "status": "completed"
    },
    "tags": []
   },
   "source": [
    "# Tri-Valley Wheels"
   ]
  },
  {
   "cell_type": "markdown",
   "id": "7d5572cd-dd67-4e26-b100-a0e7472a4a17",
   "metadata": {
    "papermill": {
     "duration": 0.020177,
     "end_time": "2022-04-22T03:00:40.216964",
     "exception": false,
     "start_time": "2022-04-22T03:00:40.196787",
     "status": "completed"
    },
    "tags": []
   },
   "source": [
    "## About These Maps:\n",
    "\n",
    "* Each map shows bus (and rail, if applicable) speeds for Tri-Valley Wheels, with a map each for the morning peak, midday, and afternoon peak periods.\n",
    "* On the map, routes are split into segments corresponding to the distance between two stops, allowing you to focus on specific portions of the route experiencing a slowdown.\n",
    "* Route segments are arrow-shaped to indicate direction of travel.\n",
    "* Hover over, or click, a segment with your mouse to see the exact speed, route name, and transit service frequency in that segment. \n",
    "    * Higher-frequency routes (3+ trips per hour) are especially important, since those slowdowns correspond to more vehicles, and riders, delayed in traffic."
   ]
  },
  {
   "cell_type": "code",
   "execution_count": 13,
   "id": "8e940d3d-c76e-42ba-be8b-739852771ca6",
   "metadata": {
    "execution": {
     "iopub.execute_input": "2022-04-22T03:00:40.257917Z",
     "iopub.status.busy": "2022-04-22T03:00:40.256895Z",
     "iopub.status.idle": "2022-04-22T03:00:40.263554Z",
     "shell.execute_reply": "2022-04-22T03:00:40.260974Z"
    },
    "jupyter": {
     "source_hidden": true
    },
    "papermill": {
     "duration": 0.033114,
     "end_time": "2022-04-22T03:00:40.269102",
     "exception": false,
     "start_time": "2022-04-22T03:00:40.235988",
     "status": "completed"
    },
    "tags": [
     "remove_input"
    ]
   },
   "outputs": [],
   "source": [
    "## avoid papermill errors when map fails to render\n",
    "m = None"
   ]
  },
  {
   "cell_type": "markdown",
   "id": "74fce4a9-514f-405d-9ce0-1cb1998a696b",
   "metadata": {
    "papermill": {
     "duration": 0.020019,
     "end_time": "2022-04-22T03:00:40.307569",
     "exception": false,
     "start_time": "2022-04-22T03:00:40.287550",
     "status": "completed"
    },
    "tags": []
   },
   "source": [
    "## Morning Peak"
   ]
  },
  {
   "cell_type": "code",
   "execution_count": 14,
   "id": "533a64f4-f374-4f2c-94d3-5146ebe7c036",
   "metadata": {
    "execution": {
     "iopub.execute_input": "2022-04-22T03:00:40.350599Z",
     "iopub.status.busy": "2022-04-22T03:00:40.349698Z",
     "iopub.status.idle": "2022-04-22T03:00:40.357031Z",
     "shell.execute_reply": "2022-04-22T03:00:40.355967Z"
    },
    "jupyter": {
     "source_hidden": true
    },
    "papermill": {
     "duration": 0.031312,
     "end_time": "2022-04-22T03:00:40.359388",
     "exception": false,
     "start_time": "2022-04-22T03:00:40.328076",
     "status": "completed"
    },
    "tags": [
     "remove_input"
    ]
   },
   "outputs": [],
   "source": [
    "%%capture\n",
    "rt_day.set_filter(start_time='06:00', end_time='09:00')"
   ]
  },
  {
   "cell_type": "code",
   "execution_count": 15,
   "id": "2f317120-99ee-435b-96cd-1236b8ee2e0b",
   "metadata": {
    "execution": {
     "iopub.execute_input": "2022-04-22T03:00:40.400113Z",
     "iopub.status.busy": "2022-04-22T03:00:40.399812Z",
     "iopub.status.idle": "2022-04-22T03:00:51.198346Z",
     "shell.execute_reply": "2022-04-22T03:00:51.197752Z"
    },
    "jupyter": {
     "source_hidden": true
    },
    "papermill": {
     "duration": 10.82128,
     "end_time": "2022-04-22T03:00:51.200392",
     "exception": false,
     "start_time": "2022-04-22T03:00:40.379112",
     "status": "completed"
    },
    "tags": [
     "remove_input"
    ]
   },
   "outputs": [],
   "source": [
    "%%capture\n",
    "m = rt_day.segment_speed_map(how='low_speeds', no_title=True)"
   ]
  },
  {
   "cell_type": "code",
   "execution_count": 16,
   "id": "275087be-b46d-4acb-95fe-2dc98c2089a2",
   "metadata": {
    "execution": {
     "iopub.execute_input": "2022-04-22T03:00:51.242591Z",
     "iopub.status.busy": "2022-04-22T03:00:51.242112Z",
     "iopub.status.idle": "2022-04-22T03:00:51.249753Z",
     "shell.execute_reply": "2022-04-22T03:00:51.249107Z"
    },
    "jupyter": {
     "source_hidden": true
    },
    "papermill": {
     "duration": 0.031628,
     "end_time": "2022-04-22T03:00:51.251887",
     "exception": false,
     "start_time": "2022-04-22T03:00:51.220259",
     "status": "completed"
    },
    "tags": [
     "remove_input"
    ]
   },
   "outputs": [],
   "source": [
    "m"
   ]
  },
  {
   "cell_type": "code",
   "execution_count": 17,
   "id": "b0cf9b97-7485-4f36-b5e8-124f22fa9661",
   "metadata": {
    "execution": {
     "iopub.execute_input": "2022-04-22T03:00:51.294425Z",
     "iopub.status.busy": "2022-04-22T03:00:51.293965Z",
     "iopub.status.idle": "2022-04-22T03:00:51.364674Z",
     "shell.execute_reply": "2022-04-22T03:00:51.363731Z"
    },
    "jupyter": {
     "source_hidden": true
    },
    "papermill": {
     "duration": 0.098394,
     "end_time": "2022-04-22T03:00:51.371214",
     "exception": false,
     "start_time": "2022-04-22T03:00:51.272820",
     "status": "completed"
    },
    "tags": [
     "remove_input"
    ]
   },
   "outputs": [
    {
     "data": {
      "text/markdown": [
       "AM Peak most delayed routes: \n",
       " * 504, Dublin Ranch, Westbound: 13.0 minutes late on average\n",
       " * 501, Positano Hill, Westbound: 11.0 minutes late on average\n",
       " * 2, East Dublin, Eastbound: 10.0 minutes late on average\n",
       " * 502, Emerald Glen, Westbound: 10.0 minutes late on average\n",
       " * 501, Positano Hill, Westbound: 9.0 minutes late on average"
      ],
      "text/plain": [
       "<IPython.core.display.Markdown object>"
      ]
     },
     "metadata": {},
     "output_type": "display_data"
    }
   ],
   "source": [
    "rt_day.describe_delayed_routes()"
   ]
  },
  {
   "cell_type": "markdown",
   "id": "3d263ba2-49ae-4e02-9d06-3181b03f51ba",
   "metadata": {
    "papermill": {
     "duration": 0.019848,
     "end_time": "2022-04-22T03:00:51.412230",
     "exception": false,
     "start_time": "2022-04-22T03:00:51.392382",
     "status": "completed"
    },
    "tags": []
   },
   "source": [
    "## Midday"
   ]
  },
  {
   "cell_type": "code",
   "execution_count": 18,
   "id": "f5344e63-89d2-43d6-9783-55a3061c99d2",
   "metadata": {
    "execution": {
     "iopub.execute_input": "2022-04-22T03:00:51.454545Z",
     "iopub.status.busy": "2022-04-22T03:00:51.454263Z",
     "iopub.status.idle": "2022-04-22T03:00:51.460420Z",
     "shell.execute_reply": "2022-04-22T03:00:51.459774Z"
    },
    "jupyter": {
     "source_hidden": true
    },
    "papermill": {
     "duration": 0.03005,
     "end_time": "2022-04-22T03:00:51.462474",
     "exception": false,
     "start_time": "2022-04-22T03:00:51.432424",
     "status": "completed"
    },
    "tags": [
     "remove_input"
    ]
   },
   "outputs": [],
   "source": [
    "%%capture\n",
    "rt_day.set_filter(start_time='10:00', end_time='14:00')"
   ]
  },
  {
   "cell_type": "code",
   "execution_count": 19,
   "id": "a4c40f3c-cf35-45d5-9d87-aa4701bed3aa",
   "metadata": {
    "execution": {
     "iopub.execute_input": "2022-04-22T03:00:51.511930Z",
     "iopub.status.busy": "2022-04-22T03:00:51.510354Z",
     "iopub.status.idle": "2022-04-22T03:00:58.059485Z",
     "shell.execute_reply": "2022-04-22T03:00:58.058489Z"
    },
    "jupyter": {
     "source_hidden": true
    },
    "papermill": {
     "duration": 6.573778,
     "end_time": "2022-04-22T03:00:58.061784",
     "exception": false,
     "start_time": "2022-04-22T03:00:51.488006",
     "status": "completed"
    },
    "tags": [
     "remove_input"
    ]
   },
   "outputs": [],
   "source": [
    "%%capture\n",
    "m = rt_day.segment_speed_map(how='low_speeds', no_title=True)"
   ]
  },
  {
   "cell_type": "code",
   "execution_count": 20,
   "id": "a78b7db5-f43f-4bf1-8036-ae972a87fc53",
   "metadata": {
    "execution": {
     "iopub.execute_input": "2022-04-22T03:00:58.105637Z",
     "iopub.status.busy": "2022-04-22T03:00:58.105322Z",
     "iopub.status.idle": "2022-04-22T03:00:58.109634Z",
     "shell.execute_reply": "2022-04-22T03:00:58.108649Z"
    },
    "jupyter": {
     "source_hidden": true
    },
    "papermill": {
     "duration": 0.029755,
     "end_time": "2022-04-22T03:00:58.112185",
     "exception": false,
     "start_time": "2022-04-22T03:00:58.082430",
     "status": "completed"
    },
    "tags": [
     "remove_input"
    ]
   },
   "outputs": [],
   "source": [
    "m"
   ]
  },
  {
   "cell_type": "code",
   "execution_count": 21,
   "id": "6c745570-b50f-4722-b943-2176444f7af6",
   "metadata": {
    "execution": {
     "iopub.execute_input": "2022-04-22T03:00:58.156639Z",
     "iopub.status.busy": "2022-04-22T03:00:58.156348Z",
     "iopub.status.idle": "2022-04-22T03:00:58.210864Z",
     "shell.execute_reply": "2022-04-22T03:00:58.209673Z"
    },
    "jupyter": {
     "source_hidden": true
    },
    "papermill": {
     "duration": 0.0803,
     "end_time": "2022-04-22T03:00:58.213185",
     "exception": false,
     "start_time": "2022-04-22T03:00:58.132885",
     "status": "completed"
    },
    "tags": [
     "remove_input"
    ]
   },
   "outputs": [
    {
     "data": {
      "text/markdown": [
       "Midday most delayed routes: \n",
       " * 30R, Dublin - Livermore via College, Eastbound: 9.0 minutes late on average\n",
       " * 3, Stoneridge, Eastbound: 4.0 minutes late on average\n",
       " * 14, Pleasanton - Livermore via Outlets, Westbound: 3.0 minutes late on average\n",
       " * 10R, Pleasanton - Livermore via Stanley, Eastbound: 2.0 minutes late on average\n",
       " * 1, Santa Rita Jail, Northbound: 2.0 minutes late on average"
      ],
      "text/plain": [
       "<IPython.core.display.Markdown object>"
      ]
     },
     "metadata": {},
     "output_type": "display_data"
    }
   ],
   "source": [
    "rt_day.describe_delayed_routes()"
   ]
  },
  {
   "cell_type": "markdown",
   "id": "704f0788-b4a8-497d-b2aa-c7ac6df939f4",
   "metadata": {
    "papermill": {
     "duration": 0.022205,
     "end_time": "2022-04-22T03:00:58.256458",
     "exception": false,
     "start_time": "2022-04-22T03:00:58.234253",
     "status": "completed"
    },
    "tags": []
   },
   "source": [
    "## Afternoon Peak"
   ]
  },
  {
   "cell_type": "code",
   "execution_count": 22,
   "id": "923f1462-b34a-42d2-a632-c5eb3ac16ac6",
   "metadata": {
    "execution": {
     "iopub.execute_input": "2022-04-22T03:00:58.308455Z",
     "iopub.status.busy": "2022-04-22T03:00:58.307499Z",
     "iopub.status.idle": "2022-04-22T03:00:58.314378Z",
     "shell.execute_reply": "2022-04-22T03:00:58.313660Z"
    },
    "jupyter": {
     "source_hidden": true
    },
    "papermill": {
     "duration": 0.033153,
     "end_time": "2022-04-22T03:00:58.316366",
     "exception": false,
     "start_time": "2022-04-22T03:00:58.283213",
     "status": "completed"
    },
    "tags": [
     "remove_input"
    ]
   },
   "outputs": [],
   "source": [
    "%%capture\n",
    "rt_day.set_filter(start_time='15:00', end_time='19:00')"
   ]
  },
  {
   "cell_type": "code",
   "execution_count": 23,
   "id": "5e46b095-7bc2-4552-a37b-661d076b2b51",
   "metadata": {
    "execution": {
     "iopub.execute_input": "2022-04-22T03:00:58.363330Z",
     "iopub.status.busy": "2022-04-22T03:00:58.362359Z",
     "iopub.status.idle": "2022-04-22T03:01:06.867362Z",
     "shell.execute_reply": "2022-04-22T03:01:06.866332Z"
    },
    "jupyter": {
     "source_hidden": true
    },
    "papermill": {
     "duration": 8.530278,
     "end_time": "2022-04-22T03:01:06.869606",
     "exception": false,
     "start_time": "2022-04-22T03:00:58.339328",
     "status": "completed"
    },
    "tags": [
     "remove_input"
    ]
   },
   "outputs": [],
   "source": [
    "%%capture\n",
    "m = rt_day.segment_speed_map(how='low_speeds', no_title=True)"
   ]
  },
  {
   "cell_type": "code",
   "execution_count": 24,
   "id": "0393f107-e9fe-4982-961a-032f7bf4e0eb",
   "metadata": {
    "execution": {
     "iopub.execute_input": "2022-04-22T03:01:06.916433Z",
     "iopub.status.busy": "2022-04-22T03:01:06.916147Z",
     "iopub.status.idle": "2022-04-22T03:01:06.921056Z",
     "shell.execute_reply": "2022-04-22T03:01:06.919459Z"
    },
    "jupyter": {
     "source_hidden": true
    },
    "papermill": {
     "duration": 0.030703,
     "end_time": "2022-04-22T03:01:06.922940",
     "exception": false,
     "start_time": "2022-04-22T03:01:06.892237",
     "status": "completed"
    },
    "tags": [
     "remove_input"
    ]
   },
   "outputs": [],
   "source": [
    "m"
   ]
  },
  {
   "cell_type": "code",
   "execution_count": 25,
   "id": "76580953-2a2b-4295-a41c-20442eae883e",
   "metadata": {
    "execution": {
     "iopub.execute_input": "2022-04-22T03:01:06.974102Z",
     "iopub.status.busy": "2022-04-22T03:01:06.973514Z",
     "iopub.status.idle": "2022-04-22T03:01:07.024596Z",
     "shell.execute_reply": "2022-04-22T03:01:07.023917Z"
    },
    "jupyter": {
     "source_hidden": true
    },
    "papermill": {
     "duration": 0.080099,
     "end_time": "2022-04-22T03:01:07.026528",
     "exception": false,
     "start_time": "2022-04-22T03:01:06.946429",
     "status": "completed"
    },
    "tags": [
     "remove_input"
    ]
   },
   "outputs": [
    {
     "data": {
      "text/markdown": [
       "PM Peak most delayed routes: \n",
       " * 501, Positano Hill, Eastbound: 12.0 minutes late on average\n",
       " * 502, Emerald Glen, Eastbound: 11.0 minutes late on average\n",
       " * 504, Dublin Ranch, Eastbound: 9.0 minutes late on average\n",
       " * 30R, Dublin - Livermore via College, Eastbound: 4.0 minutes late on average\n",
       " * 501, Positano Hill, Eastbound: 4.0 minutes late on average"
      ],
      "text/plain": [
       "<IPython.core.display.Markdown object>"
      ]
     },
     "metadata": {},
     "output_type": "display_data"
    }
   ],
   "source": [
    "rt_day.describe_delayed_routes()"
   ]
  },
  {
   "cell_type": "code",
   "execution_count": 26,
   "id": "91874f76-635b-4fde-8d61-abc795aca6c6",
   "metadata": {
    "execution": {
     "iopub.execute_input": "2022-04-22T03:01:07.078409Z",
     "iopub.status.busy": "2022-04-22T03:01:07.077842Z",
     "iopub.status.idle": "2022-04-22T03:01:07.138937Z",
     "shell.execute_reply": "2022-04-22T03:01:07.138238Z"
    },
    "jupyter": {
     "source_hidden": true
    },
    "papermill": {
     "duration": 0.090507,
     "end_time": "2022-04-22T03:01:07.141179",
     "exception": false,
     "start_time": "2022-04-22T03:01:07.050672",
     "status": "completed"
    },
    "tags": [
     "remove_input"
    ]
   },
   "outputs": [],
   "source": [
    "try:\n",
    "    metrics_df = (rt_day.rt_trips\n",
    "         >> group_by(_.route_short_name, _.direction_id)\n",
    "         >> summarize(speed_variance = _.mean_speed_mph.var(),\n",
    "                     mean_speed_mph = _.mean_speed_mph.mean(),\n",
    "                     min_hour = _.median_time.min().hour,\n",
    "                     max_hour = _.median_time.max().hour)\n",
    "         >> filter(_.min_hour <= 7, _.max_hour >= 15,\n",
    "                   _.mean_speed_mph < _.mean_speed_mph.quantile(.6),\n",
    "                   _.speed_variance)\n",
    "         >> arrange(-_.speed_variance)\n",
    "         >> head(20)\n",
    "        )\n",
    "except Exception as e:\n",
    "    pass\n",
    "    # print(e)\n",
    "## check that route has all-day span..."
   ]
  },
  {
   "cell_type": "code",
   "execution_count": 27,
   "id": "758b0bae-32d0-40dd-a1d1-1d107b0e7e8b",
   "metadata": {
    "execution": {
     "iopub.execute_input": "2022-04-22T03:01:07.191723Z",
     "iopub.status.busy": "2022-04-22T03:01:07.191123Z",
     "iopub.status.idle": "2022-04-22T03:01:07.199969Z",
     "shell.execute_reply": "2022-04-22T03:01:07.198956Z"
    },
    "jupyter": {
     "source_hidden": true
    },
    "papermill": {
     "duration": 0.037478,
     "end_time": "2022-04-22T03:01:07.202214",
     "exception": false,
     "start_time": "2022-04-22T03:01:07.164736",
     "status": "completed"
    },
    "tags": [
     "remove_input"
    ]
   },
   "outputs": [],
   "source": [
    "def map_from_metrics(rt_day, metrics_df):\n",
    "    try:\n",
    "        route_name = metrics_df.iloc[1,0]\n",
    "        direction_id = metrics_df.iloc[1,1]\n",
    "        # print(route_name, direction_id)\n",
    "    except Exception as e:\n",
    "        # print(e)\n",
    "        return\n",
    "    # route_name = '281'\n",
    "    # direction_id = '1'\n",
    "    rt_day.set_filter(start_time='06:00', end_time='09:00',\n",
    "                      route_names=[route_name], direction_id = direction_id)\n",
    "    try:\n",
    "        am_map = rt_day.segment_speed_map(how='low_speeds')\n",
    "        display(am_map)\n",
    "    except Exception as e:\n",
    "        # print(e)\n",
    "        pass\n",
    "    \n",
    "    rt_day.set_filter(start_time='10:00', end_time='14:00',\n",
    "                      route_names=[route_name], direction_id = direction_id)\n",
    "    try:\n",
    "        mid_map = rt_day.segment_speed_map(how='low_speeds')\n",
    "        display(mid_map)\n",
    "    except Exception as e:\n",
    "        # print(e)\n",
    "        pass\n",
    "\n",
    "    rt_day.set_filter(start_time='15:00', end_time='19:00',\n",
    "                      route_names=[route_name], direction_id = direction_id)\n",
    "    try:\n",
    "        pm_map = rt_day.segment_speed_map(how='low_speeds')\n",
    "        display(pm_map)\n",
    "    except Exception as e:\n",
    "        # print(e)\n",
    "        pass\n",
    "\n",
    "    return"
   ]
  },
  {
   "cell_type": "markdown",
   "id": "6ce187c8-c7bf-44f4-970e-b3abd69ddc38",
   "metadata": {
    "papermill": {
     "duration": 0.022185,
     "end_time": "2022-04-22T03:01:07.247979",
     "exception": false,
     "start_time": "2022-04-22T03:01:07.225794",
     "status": "completed"
    },
    "tags": []
   },
   "source": [
    "## Single-Route Detail Example"
   ]
  },
  {
   "cell_type": "code",
   "execution_count": 28,
   "id": "c7b4b043-6d15-4d9c-8aac-f0f6649e9552",
   "metadata": {
    "execution": {
     "iopub.execute_input": "2022-04-22T03:01:07.299761Z",
     "iopub.status.busy": "2022-04-22T03:01:07.299426Z",
     "iopub.status.idle": "2022-04-22T03:01:07.304315Z",
     "shell.execute_reply": "2022-04-22T03:01:07.303734Z"
    },
    "jupyter": {
     "source_hidden": true
    },
    "papermill": {
     "duration": 0.032014,
     "end_time": "2022-04-22T03:01:07.306906",
     "exception": false,
     "start_time": "2022-04-22T03:01:07.274892",
     "status": "completed"
    },
    "tags": [
     "remove_input"
    ]
   },
   "outputs": [],
   "source": [
    "try:\n",
    "    map_from_metrics(rt_day, metrics_df)\n",
    "except Exception as e:\n",
    "    # print(e)\n",
    "    pass"
   ]
  },
  {
   "cell_type": "code",
   "execution_count": null,
   "id": "a7d189cb-26d5-4a49-bf0f-2c33fd408f7e",
   "metadata": {
    "jupyter": {
     "source_hidden": true
    },
    "papermill": {
     "duration": 0.023003,
     "end_time": "2022-04-22T03:01:07.351662",
     "exception": false,
     "start_time": "2022-04-22T03:01:07.328659",
     "status": "completed"
    },
    "tags": [
     "remove_input"
    ]
   },
   "outputs": [],
   "source": []
  }
 ],
 "metadata": {
  "kernelspec": {
   "display_name": "Python 3 (ipykernel)",
   "language": "python",
   "name": "python3"
  },
  "language_info": {
   "codemirror_mode": {
    "name": "ipython",
    "version": 3
   },
   "file_extension": ".py",
   "mimetype": "text/x-python",
   "name": "python",
   "nbconvert_exporter": "python",
   "pygments_lexer": "ipython3",
   "version": "3.9.10"
  },
  "papermill": {
   "default_parameters": {},
   "duration": 47.412155,
   "end_time": "2022-04-22T03:01:08.803548",
   "environment_variables": {},
   "exception": null,
   "input_path": "rt_delay/speedmaps.ipynb",
   "output_path": "portfolio/rt/district_04-oakland/speedmaps__itp_id_167.ipynb",
   "parameters": {
    "district": "04 - Oakland",
    "itp_id": 167
   },
   "start_time": "2022-04-22T03:00:21.391393",
   "version": "2.3.4"
  }
 },
 "nbformat": 4,
 "nbformat_minor": 5
}