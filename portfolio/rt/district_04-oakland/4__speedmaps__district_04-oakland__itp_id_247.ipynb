version https://git-lfs.github.com/spec/v1
oid sha256:d38e59e38f9a5ce6ae48c22c12dc49c96e8d80a650a6d3c754a03eab60fc5a12
size 70487
