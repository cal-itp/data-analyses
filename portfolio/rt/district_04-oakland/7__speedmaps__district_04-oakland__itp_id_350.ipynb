version https://git-lfs.github.com/spec/v1
oid sha256:8344803ae6e6c246d2006122c6edbd681d940ab0be73f33b8f8fe120ce862c43
size 71380
