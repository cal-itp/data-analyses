version https://git-lfs.github.com/spec/v1
oid sha256:2fdd1c4f1a46f18dbe740020a14998c7e2c7b8383eeb9ccf9da7df6e29ae6cd3
size 58332
