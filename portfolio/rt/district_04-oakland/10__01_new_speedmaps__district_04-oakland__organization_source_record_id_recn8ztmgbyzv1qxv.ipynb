version https://git-lfs.github.com/spec/v1
oid sha256:5d3a3027edfad32c6e6b76d21dbd44fdff438eb0a013fa6e3a2e729aee3ac87a
size 58147
