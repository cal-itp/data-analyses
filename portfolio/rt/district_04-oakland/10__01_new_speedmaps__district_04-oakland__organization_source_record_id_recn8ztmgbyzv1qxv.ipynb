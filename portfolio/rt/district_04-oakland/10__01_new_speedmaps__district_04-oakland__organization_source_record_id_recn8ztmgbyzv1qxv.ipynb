version https://git-lfs.github.com/spec/v1
oid sha256:0869b2e588e597d8a6d8fd6fd56e2939ee764e82cef85260bd188652ec1e4a09
size 64932
