version https://git-lfs.github.com/spec/v1
oid sha256:1ac551884f080cbc6dcf7eed694ba777a2a701734df80922ce030e1fc24acc24
size 70872
