{
 "cells": [
  {
   "cell_type": "code",
   "execution_count": 1,
   "id": "46898b5c-b5cc-4096-ab68-8c3e42fab870",
   "metadata": {
    "execution": {
     "iopub.execute_input": "2022-04-22T03:02:13.001183Z",
     "iopub.status.busy": "2022-04-22T03:02:13.000704Z",
     "iopub.status.idle": "2022-04-22T03:02:21.323818Z",
     "shell.execute_reply": "2022-04-22T03:02:21.322824Z"
    },
    "jupyter": {
     "source_hidden": true
    },
    "papermill": {
     "duration": 8.348498,
     "end_time": "2022-04-22T03:02:21.326292",
     "exception": false,
     "start_time": "2022-04-22T03:02:12.977794",
     "status": "completed"
    },
    "tags": [
     "remove_input"
    ]
   },
   "outputs": [],
   "source": [
    "%%capture\n",
    "import warnings\n",
    "warnings.filterwarnings('ignore')\n",
    "\n",
    "import os\n",
    "os.environ[\"CALITP_BQ_MAX_BYTES\"] = str(800_000_000_000)\n",
    "import shared_utils\n",
    "import utils\n",
    "\n",
    "from calitp.tables import tbl\n",
    "from calitp import query_sql\n",
    "import calitp.magics\n",
    "\n",
    "from siuba import *\n",
    "import pandas as pd\n",
    "import geopandas as gpd\n",
    "\n",
    "import datetime as dt\n",
    "\n",
    "import importlib\n",
    "import rt_filter_map_plot\n",
    "\n",
    "from IPython.display import display, Markdown, Latex, HTML\n",
    "import json"
   ]
  },
  {
   "cell_type": "code",
   "execution_count": 2,
   "id": "9f15ed6a-5ab7-4f57-9695-3f762781b74c",
   "metadata": {
    "execution": {
     "iopub.execute_input": "2022-04-22T03:02:21.368227Z",
     "iopub.status.busy": "2022-04-22T03:02:21.367642Z",
     "iopub.status.idle": "2022-04-22T03:02:21.372115Z",
     "shell.execute_reply": "2022-04-22T03:02:21.371498Z"
    },
    "jupyter": {
     "source_hidden": true
    },
    "papermill": {
     "duration": 0.02938,
     "end_time": "2022-04-22T03:02:21.374001",
     "exception": false,
     "start_time": "2022-04-22T03:02:21.344621",
     "status": "completed"
    },
    "tags": [
     "parameters",
     "remove_input"
    ]
   },
   "outputs": [],
   "source": [
    "## parameters cell\n",
    "itp_id = 135"
   ]
  },
  {
   "cell_type": "code",
   "execution_count": 3,
   "id": "f732f092",
   "metadata": {
    "execution": {
     "iopub.execute_input": "2022-04-22T03:02:21.411358Z",
     "iopub.status.busy": "2022-04-22T03:02:21.410542Z",
     "iopub.status.idle": "2022-04-22T03:02:21.415259Z",
     "shell.execute_reply": "2022-04-22T03:02:21.414723Z"
    },
    "jupyter": {
     "source_hidden": true
    },
    "papermill": {
     "duration": 0.025435,
     "end_time": "2022-04-22T03:02:21.416962",
     "exception": false,
     "start_time": "2022-04-22T03:02:21.391527",
     "status": "completed"
    },
    "tags": [
     "injected-parameters",
     "remove_input"
    ]
   },
   "outputs": [],
   "source": [
    "# Parameters\n",
    "district = \"04 - Oakland\"\n",
    "itp_id = 310\n"
   ]
  },
  {
   "cell_type": "code",
   "execution_count": 4,
   "id": "6c2e9651-70e4-4403-b43d-da50315ef8fd",
   "metadata": {
    "execution": {
     "iopub.execute_input": "2022-04-22T03:02:21.454513Z",
     "iopub.status.busy": "2022-04-22T03:02:21.453574Z",
     "iopub.status.idle": "2022-04-22T03:02:23.491657Z",
     "shell.execute_reply": "2022-04-22T03:02:23.490726Z"
    },
    "jupyter": {
     "source_hidden": true
    },
    "papermill": {
     "duration": 2.059583,
     "end_time": "2022-04-22T03:02:23.493914",
     "exception": false,
     "start_time": "2022-04-22T03:02:21.434331",
     "status": "completed"
    },
    "tags": [
     "remove_input"
    ]
   },
   "outputs": [],
   "source": [
    "airtable_organizations = (\n",
    "    tbl.airtable.california_transit_organizations()\n",
    "    >> select(_.itp_id, _.name, _.caltrans_district,\n",
    "              _.website, _.ntp_id, _.drmt_organization_name)\n",
    "    >> filter(_.itp_id == itp_id)\n",
    "    >> collect()\n",
    ")"
   ]
  },
  {
   "cell_type": "code",
   "execution_count": 5,
   "id": "cc9c7000-4042-4f64-b7ef-8e8e5f1e706a",
   "metadata": {
    "execution": {
     "iopub.execute_input": "2022-04-22T03:02:23.533857Z",
     "iopub.status.busy": "2022-04-22T03:02:23.532913Z",
     "iopub.status.idle": "2022-04-22T03:02:23.537293Z",
     "shell.execute_reply": "2022-04-22T03:02:23.536742Z"
    },
    "jupyter": {
     "source_hidden": true
    },
    "papermill": {
     "duration": 0.027329,
     "end_time": "2022-04-22T03:02:23.539105",
     "exception": false,
     "start_time": "2022-04-22T03:02:23.511776",
     "status": "completed"
    },
    "tags": [
     "remove_input"
    ]
   },
   "outputs": [],
   "source": [
    "# airtable_organizations"
   ]
  },
  {
   "cell_type": "code",
   "execution_count": 6,
   "id": "306a7053-3fab-4723-a287-111e4eba11f2",
   "metadata": {
    "execution": {
     "iopub.execute_input": "2022-04-22T03:02:23.577234Z",
     "iopub.status.busy": "2022-04-22T03:02:23.576267Z",
     "iopub.status.idle": "2022-04-22T03:02:23.583025Z",
     "shell.execute_reply": "2022-04-22T03:02:23.582243Z"
    },
    "jupyter": {
     "source_hidden": true
    },
    "papermill": {
     "duration": 0.028016,
     "end_time": "2022-04-22T03:02:23.585032",
     "exception": false,
     "start_time": "2022-04-22T03:02:23.557016",
     "status": "completed"
    },
    "tags": [
     "remove_input"
    ]
   },
   "outputs": [],
   "source": [
    "analysis_date = dt.date(2022, 3, 30)\n",
    "if itp_id == 273:\n",
    "    analysis_date = dt.date(2022, 2, 8) # #override for SacRT "
   ]
  },
  {
   "cell_type": "code",
   "execution_count": 7,
   "id": "47c79d99-c82f-4e1e-b11e-2b1e83c13a1b",
   "metadata": {
    "execution": {
     "iopub.execute_input": "2022-04-22T03:02:23.622792Z",
     "iopub.status.busy": "2022-04-22T03:02:23.622165Z",
     "iopub.status.idle": "2022-04-22T03:02:23.626446Z",
     "shell.execute_reply": "2022-04-22T03:02:23.625584Z"
    },
    "jupyter": {
     "source_hidden": true
    },
    "papermill": {
     "duration": 0.025436,
     "end_time": "2022-04-22T03:02:23.628319",
     "exception": false,
     "start_time": "2022-04-22T03:02:23.602883",
     "status": "completed"
    },
    "tags": [
     "remove_input"
    ]
   },
   "outputs": [],
   "source": [
    "month_day = analysis_date.strftime('%m_%d')"
   ]
  },
  {
   "cell_type": "code",
   "execution_count": 8,
   "id": "1739d979-cd4d-456c-a1ad-a016cbf69cad",
   "metadata": {
    "execution": {
     "iopub.execute_input": "2022-04-22T03:02:23.666734Z",
     "iopub.status.busy": "2022-04-22T03:02:23.665785Z",
     "iopub.status.idle": "2022-04-22T03:02:24.052022Z",
     "shell.execute_reply": "2022-04-22T03:02:24.051396Z"
    },
    "jupyter": {
     "source_hidden": true
    },
    "papermill": {
     "duration": 0.408044,
     "end_time": "2022-04-22T03:02:24.054572",
     "exception": false,
     "start_time": "2022-04-22T03:02:23.646528",
     "status": "completed"
    },
    "tags": [
     "remove_input"
    ]
   },
   "outputs": [],
   "source": [
    "trips = pd.read_parquet(f'{utils.GCS_FILE_PATH}rt_trips/{itp_id}_{month_day}.parquet')"
   ]
  },
  {
   "cell_type": "code",
   "execution_count": 9,
   "id": "b77a9167-4017-4367-8fed-d4e6bf3999b9",
   "metadata": {
    "execution": {
     "iopub.execute_input": "2022-04-22T03:02:24.093002Z",
     "iopub.status.busy": "2022-04-22T03:02:24.092667Z",
     "iopub.status.idle": "2022-04-22T03:02:24.521547Z",
     "shell.execute_reply": "2022-04-22T03:02:24.520927Z"
    },
    "jupyter": {
     "source_hidden": true
    },
    "papermill": {
     "duration": 0.45034,
     "end_time": "2022-04-22T03:02:24.523549",
     "exception": false,
     "start_time": "2022-04-22T03:02:24.073209",
     "status": "completed"
    },
    "tags": [
     "remove_input"
    ]
   },
   "outputs": [],
   "source": [
    "stop_delay = gpd.read_parquet(f'{utils.GCS_FILE_PATH}stop_delay_views/{itp_id}_{month_day}.parquet')\n",
    "stop_delay['arrival_time'] = stop_delay.arrival_time.map(lambda x: dt.datetime.fromisoformat(x))\n",
    "stop_delay['actual_time'] = stop_delay.actual_time.map(lambda x: dt.datetime.fromisoformat(x))"
   ]
  },
  {
   "cell_type": "code",
   "execution_count": 10,
   "id": "2b2fe439-10af-4140-ab83-69b05c385b40",
   "metadata": {
    "execution": {
     "iopub.execute_input": "2022-04-22T03:02:24.562469Z",
     "iopub.status.busy": "2022-04-22T03:02:24.562164Z",
     "iopub.status.idle": "2022-04-22T03:02:41.737402Z",
     "shell.execute_reply": "2022-04-22T03:02:41.736619Z"
    },
    "jupyter": {
     "source_hidden": true
    },
    "papermill": {
     "duration": 17.197653,
     "end_time": "2022-04-22T03:02:41.739816",
     "exception": false,
     "start_time": "2022-04-22T03:02:24.542163",
     "status": "completed"
    },
    "tags": [
     "remove_input"
    ]
   },
   "outputs": [],
   "source": [
    "%%capture\n",
    "routelines = utils.get_routelines(itp_id, analysis_date)"
   ]
  },
  {
   "cell_type": "code",
   "execution_count": 11,
   "id": "e4cbefc6-9bbb-4989-85b7-1f31da17fcb8",
   "metadata": {
    "execution": {
     "iopub.execute_input": "2022-04-22T03:02:41.781424Z",
     "iopub.status.busy": "2022-04-22T03:02:41.781118Z",
     "iopub.status.idle": "2022-04-22T03:02:42.818736Z",
     "shell.execute_reply": "2022-04-22T03:02:42.817950Z"
    },
    "jupyter": {
     "source_hidden": true
    },
    "papermill": {
     "duration": 1.061318,
     "end_time": "2022-04-22T03:02:42.821080",
     "exception": false,
     "start_time": "2022-04-22T03:02:41.759762",
     "status": "completed"
    },
    "tags": [
     "remove_input"
    ]
   },
   "outputs": [],
   "source": [
    "%%capture\n",
    "rt_day = rt_filter_map_plot.RtFilterMapper(trips, stop_delay, routelines)"
   ]
  },
  {
   "cell_type": "code",
   "execution_count": 12,
   "id": "6c335d40-7a7b-4641-8a3d-c970b2823cdf",
   "metadata": {
    "execution": {
     "iopub.execute_input": "2022-04-22T03:02:42.862248Z",
     "iopub.status.busy": "2022-04-22T03:02:42.861628Z",
     "iopub.status.idle": "2022-04-22T03:02:42.870938Z",
     "shell.execute_reply": "2022-04-22T03:02:42.870266Z"
    },
    "jupyter": {
     "source_hidden": true
    },
    "papermill": {
     "duration": 0.031253,
     "end_time": "2022-04-22T03:02:42.872808",
     "exception": false,
     "start_time": "2022-04-22T03:02:42.841555",
     "status": "completed"
    },
    "tags": [
     "remove_input"
    ]
   },
   "outputs": [],
   "source": [
    "%%capture_parameters\n",
    "agency_name = rt_day.calitp_agency_name\n",
    "district = airtable_organizations.caltrans_district.iloc[0]\n",
    "agency_name, district"
   ]
  },
  {
   "cell_type": "markdown",
   "id": "52110155-d104-4043-8376-3f83e82a959a",
   "metadata": {
    "papermill": {
     "duration": 0.018971,
     "end_time": "2022-04-22T03:02:42.910774",
     "exception": false,
     "start_time": "2022-04-22T03:02:42.891803",
     "status": "completed"
    },
    "tags": []
   },
   "source": [
    "# SolTrans"
   ]
  },
  {
   "cell_type": "markdown",
   "id": "7d5572cd-dd67-4e26-b100-a0e7472a4a17",
   "metadata": {
    "papermill": {
     "duration": 0.018833,
     "end_time": "2022-04-22T03:02:42.950289",
     "exception": false,
     "start_time": "2022-04-22T03:02:42.931456",
     "status": "completed"
    },
    "tags": []
   },
   "source": [
    "## About These Maps:\n",
    "\n",
    "* Each map shows bus (and rail, if applicable) speeds for SolTrans, with a map each for the morning peak, midday, and afternoon peak periods.\n",
    "* On the map, routes are split into segments corresponding to the distance between two stops, allowing you to focus on specific portions of the route experiencing a slowdown.\n",
    "* Route segments are arrow-shaped to indicate direction of travel.\n",
    "* Hover over, or click, a segment with your mouse to see the exact speed, route name, and transit service frequency in that segment. \n",
    "    * Higher-frequency routes (3+ trips per hour) are especially important, since those slowdowns correspond to more vehicles, and riders, delayed in traffic."
   ]
  },
  {
   "cell_type": "code",
   "execution_count": 13,
   "id": "8e940d3d-c76e-42ba-be8b-739852771ca6",
   "metadata": {
    "execution": {
     "iopub.execute_input": "2022-04-22T03:02:42.993642Z",
     "iopub.status.busy": "2022-04-22T03:02:42.993362Z",
     "iopub.status.idle": "2022-04-22T03:02:42.997193Z",
     "shell.execute_reply": "2022-04-22T03:02:42.996197Z"
    },
    "jupyter": {
     "source_hidden": true
    },
    "papermill": {
     "duration": 0.030341,
     "end_time": "2022-04-22T03:02:43.000321",
     "exception": false,
     "start_time": "2022-04-22T03:02:42.969980",
     "status": "completed"
    },
    "tags": [
     "remove_input"
    ]
   },
   "outputs": [],
   "source": [
    "## avoid papermill errors when map fails to render\n",
    "m = None"
   ]
  },
  {
   "cell_type": "markdown",
   "id": "74fce4a9-514f-405d-9ce0-1cb1998a696b",
   "metadata": {
    "papermill": {
     "duration": 0.019158,
     "end_time": "2022-04-22T03:02:43.039342",
     "exception": false,
     "start_time": "2022-04-22T03:02:43.020184",
     "status": "completed"
    },
    "tags": []
   },
   "source": [
    "## Morning Peak"
   ]
  },
  {
   "cell_type": "code",
   "execution_count": 14,
   "id": "533a64f4-f374-4f2c-94d3-5146ebe7c036",
   "metadata": {
    "execution": {
     "iopub.execute_input": "2022-04-22T03:02:43.091414Z",
     "iopub.status.busy": "2022-04-22T03:02:43.090948Z",
     "iopub.status.idle": "2022-04-22T03:02:43.098329Z",
     "shell.execute_reply": "2022-04-22T03:02:43.097726Z"
    },
    "jupyter": {
     "source_hidden": true
    },
    "papermill": {
     "duration": 0.036338,
     "end_time": "2022-04-22T03:02:43.100192",
     "exception": false,
     "start_time": "2022-04-22T03:02:43.063854",
     "status": "completed"
    },
    "tags": [
     "remove_input"
    ]
   },
   "outputs": [],
   "source": [
    "%%capture\n",
    "rt_day.set_filter(start_time='06:00', end_time='09:00')"
   ]
  },
  {
   "cell_type": "code",
   "execution_count": 15,
   "id": "2f317120-99ee-435b-96cd-1236b8ee2e0b",
   "metadata": {
    "execution": {
     "iopub.execute_input": "2022-04-22T03:02:43.141239Z",
     "iopub.status.busy": "2022-04-22T03:02:43.140635Z",
     "iopub.status.idle": "2022-04-22T03:02:50.665868Z",
     "shell.execute_reply": "2022-04-22T03:02:50.665099Z"
    },
    "jupyter": {
     "source_hidden": true
    },
    "papermill": {
     "duration": 7.54747,
     "end_time": "2022-04-22T03:02:50.667703",
     "exception": false,
     "start_time": "2022-04-22T03:02:43.120233",
     "status": "completed"
    },
    "tags": [
     "remove_input"
    ]
   },
   "outputs": [],
   "source": [
    "%%capture\n",
    "m = rt_day.segment_speed_map(how='low_speeds', no_title=True)"
   ]
  },
  {
   "cell_type": "code",
   "execution_count": 16,
   "id": "275087be-b46d-4acb-95fe-2dc98c2089a2",
   "metadata": {
    "execution": {
     "iopub.execute_input": "2022-04-22T03:02:50.710265Z",
     "iopub.status.busy": "2022-04-22T03:02:50.709697Z",
     "iopub.status.idle": "2022-04-22T03:02:50.717462Z",
     "shell.execute_reply": "2022-04-22T03:02:50.716800Z"
    },
    "jupyter": {
     "source_hidden": true
    },
    "papermill": {
     "duration": 0.0305,
     "end_time": "2022-04-22T03:02:50.719412",
     "exception": false,
     "start_time": "2022-04-22T03:02:50.688912",
     "status": "completed"
    },
    "tags": [
     "remove_input"
    ]
   },
   "outputs": [],
   "source": [
    "m"
   ]
  },
  {
   "cell_type": "code",
   "execution_count": 17,
   "id": "b0cf9b97-7485-4f36-b5e8-124f22fa9661",
   "metadata": {
    "execution": {
     "iopub.execute_input": "2022-04-22T03:02:50.762250Z",
     "iopub.status.busy": "2022-04-22T03:02:50.761640Z",
     "iopub.status.idle": "2022-04-22T03:02:50.830432Z",
     "shell.execute_reply": "2022-04-22T03:02:50.829426Z"
    },
    "jupyter": {
     "source_hidden": true
    },
    "papermill": {
     "duration": 0.092229,
     "end_time": "2022-04-22T03:02:50.832437",
     "exception": false,
     "start_time": "2022-04-22T03:02:50.740208",
     "status": "completed"
    },
    "tags": [
     "remove_input"
    ]
   },
   "outputs": [
    {
     "data": {
      "text/markdown": [
       "AM Peak most delayed routes: \n",
       " * R, Red Line, Northbound: 9.0 minutes late on average\n",
       " * R, Red Line, Southbound: 5.0 minutes late on average\n",
       " * 8, Glen Cove, Westbound: 5.0 minutes late on average\n",
       " * 8, Glen Cove, Eastbound: 5.0 minutes late on average\n",
       " * Y, Yellow Line, Southbound: 4.0 minutes late on average"
      ],
      "text/plain": [
       "<IPython.core.display.Markdown object>"
      ]
     },
     "metadata": {},
     "output_type": "display_data"
    }
   ],
   "source": [
    "rt_day.describe_delayed_routes()"
   ]
  },
  {
   "cell_type": "markdown",
   "id": "3d263ba2-49ae-4e02-9d06-3181b03f51ba",
   "metadata": {
    "papermill": {
     "duration": 0.023305,
     "end_time": "2022-04-22T03:02:50.876505",
     "exception": false,
     "start_time": "2022-04-22T03:02:50.853200",
     "status": "completed"
    },
    "tags": []
   },
   "source": [
    "## Midday"
   ]
  },
  {
   "cell_type": "code",
   "execution_count": 18,
   "id": "f5344e63-89d2-43d6-9783-55a3061c99d2",
   "metadata": {
    "execution": {
     "iopub.execute_input": "2022-04-22T03:02:50.918787Z",
     "iopub.status.busy": "2022-04-22T03:02:50.918314Z",
     "iopub.status.idle": "2022-04-22T03:02:50.925889Z",
     "shell.execute_reply": "2022-04-22T03:02:50.925054Z"
    },
    "jupyter": {
     "source_hidden": true
    },
    "papermill": {
     "duration": 0.031539,
     "end_time": "2022-04-22T03:02:50.928033",
     "exception": false,
     "start_time": "2022-04-22T03:02:50.896494",
     "status": "completed"
    },
    "tags": [
     "remove_input"
    ]
   },
   "outputs": [],
   "source": [
    "%%capture\n",
    "rt_day.set_filter(start_time='10:00', end_time='14:00')"
   ]
  },
  {
   "cell_type": "code",
   "execution_count": 19,
   "id": "a4c40f3c-cf35-45d5-9d87-aa4701bed3aa",
   "metadata": {
    "execution": {
     "iopub.execute_input": "2022-04-22T03:02:50.970488Z",
     "iopub.status.busy": "2022-04-22T03:02:50.970134Z",
     "iopub.status.idle": "2022-04-22T03:02:57.427063Z",
     "shell.execute_reply": "2022-04-22T03:02:57.426111Z"
    },
    "jupyter": {
     "source_hidden": true
    },
    "papermill": {
     "duration": 6.481009,
     "end_time": "2022-04-22T03:02:57.429391",
     "exception": false,
     "start_time": "2022-04-22T03:02:50.948382",
     "status": "completed"
    },
    "tags": [
     "remove_input"
    ]
   },
   "outputs": [],
   "source": [
    "%%capture\n",
    "m = rt_day.segment_speed_map(how='low_speeds', no_title=True)"
   ]
  },
  {
   "cell_type": "code",
   "execution_count": 20,
   "id": "a78b7db5-f43f-4bf1-8036-ae972a87fc53",
   "metadata": {
    "execution": {
     "iopub.execute_input": "2022-04-22T03:02:57.473325Z",
     "iopub.status.busy": "2022-04-22T03:02:57.472308Z",
     "iopub.status.idle": "2022-04-22T03:02:57.477323Z",
     "shell.execute_reply": "2022-04-22T03:02:57.476477Z"
    },
    "jupyter": {
     "source_hidden": true
    },
    "papermill": {
     "duration": 0.028925,
     "end_time": "2022-04-22T03:02:57.479239",
     "exception": false,
     "start_time": "2022-04-22T03:02:57.450314",
     "status": "completed"
    },
    "tags": [
     "remove_input"
    ]
   },
   "outputs": [],
   "source": [
    "m"
   ]
  },
  {
   "cell_type": "code",
   "execution_count": 21,
   "id": "6c745570-b50f-4722-b943-2176444f7af6",
   "metadata": {
    "execution": {
     "iopub.execute_input": "2022-04-22T03:02:57.524612Z",
     "iopub.status.busy": "2022-04-22T03:02:57.524328Z",
     "iopub.status.idle": "2022-04-22T03:02:57.588358Z",
     "shell.execute_reply": "2022-04-22T03:02:57.587739Z"
    },
    "jupyter": {
     "source_hidden": true
    },
    "papermill": {
     "duration": 0.090759,
     "end_time": "2022-04-22T03:02:57.590587",
     "exception": false,
     "start_time": "2022-04-22T03:02:57.499828",
     "status": "completed"
    },
    "tags": [
     "remove_input"
    ]
   },
   "outputs": [
    {
     "data": {
      "text/markdown": [
       "Midday most delayed routes: \n",
       " * R, Red Line, Southbound: 6.0 minutes late on average\n",
       " * 5, Six Flags, Northbound: 4.0 minutes late on average\n",
       " * 6, Tennessee, Eastbound: 3.0 minutes late on average\n",
       " * 8, Glen Cove, Eastbound: 3.0 minutes late on average\n",
       " * 3, South Vallejo, Eastbound: 3.0 minutes late on average"
      ],
      "text/plain": [
       "<IPython.core.display.Markdown object>"
      ]
     },
     "metadata": {},
     "output_type": "display_data"
    }
   ],
   "source": [
    "rt_day.describe_delayed_routes()"
   ]
  },
  {
   "cell_type": "markdown",
   "id": "704f0788-b4a8-497d-b2aa-c7ac6df939f4",
   "metadata": {
    "papermill": {
     "duration": 0.021462,
     "end_time": "2022-04-22T03:02:57.634054",
     "exception": false,
     "start_time": "2022-04-22T03:02:57.612592",
     "status": "completed"
    },
    "tags": []
   },
   "source": [
    "## Afternoon Peak"
   ]
  },
  {
   "cell_type": "code",
   "execution_count": 22,
   "id": "923f1462-b34a-42d2-a632-c5eb3ac16ac6",
   "metadata": {
    "execution": {
     "iopub.execute_input": "2022-04-22T03:02:57.684809Z",
     "iopub.status.busy": "2022-04-22T03:02:57.683884Z",
     "iopub.status.idle": "2022-04-22T03:02:57.690209Z",
     "shell.execute_reply": "2022-04-22T03:02:57.689536Z"
    },
    "jupyter": {
     "source_hidden": true
    },
    "papermill": {
     "duration": 0.035993,
     "end_time": "2022-04-22T03:02:57.692188",
     "exception": false,
     "start_time": "2022-04-22T03:02:57.656195",
     "status": "completed"
    },
    "tags": [
     "remove_input"
    ]
   },
   "outputs": [],
   "source": [
    "%%capture\n",
    "rt_day.set_filter(start_time='15:00', end_time='19:00')"
   ]
  },
  {
   "cell_type": "code",
   "execution_count": 23,
   "id": "5e46b095-7bc2-4552-a37b-661d076b2b51",
   "metadata": {
    "execution": {
     "iopub.execute_input": "2022-04-22T03:02:57.736498Z",
     "iopub.status.busy": "2022-04-22T03:02:57.735512Z",
     "iopub.status.idle": "2022-04-22T03:03:05.205517Z",
     "shell.execute_reply": "2022-04-22T03:03:05.204846Z"
    },
    "jupyter": {
     "source_hidden": true
    },
    "papermill": {
     "duration": 7.494272,
     "end_time": "2022-04-22T03:03:05.207591",
     "exception": false,
     "start_time": "2022-04-22T03:02:57.713319",
     "status": "completed"
    },
    "tags": [
     "remove_input"
    ]
   },
   "outputs": [],
   "source": [
    "%%capture\n",
    "m = rt_day.segment_speed_map(how='low_speeds', no_title=True)"
   ]
  },
  {
   "cell_type": "code",
   "execution_count": 24,
   "id": "0393f107-e9fe-4982-961a-032f7bf4e0eb",
   "metadata": {
    "execution": {
     "iopub.execute_input": "2022-04-22T03:03:05.253852Z",
     "iopub.status.busy": "2022-04-22T03:03:05.253183Z",
     "iopub.status.idle": "2022-04-22T03:03:05.257650Z",
     "shell.execute_reply": "2022-04-22T03:03:05.257060Z"
    },
    "jupyter": {
     "source_hidden": true
    },
    "papermill": {
     "duration": 0.029803,
     "end_time": "2022-04-22T03:03:05.259559",
     "exception": false,
     "start_time": "2022-04-22T03:03:05.229756",
     "status": "completed"
    },
    "tags": [
     "remove_input"
    ]
   },
   "outputs": [],
   "source": [
    "m"
   ]
  },
  {
   "cell_type": "code",
   "execution_count": 25,
   "id": "76580953-2a2b-4295-a41c-20442eae883e",
   "metadata": {
    "execution": {
     "iopub.execute_input": "2022-04-22T03:03:05.312528Z",
     "iopub.status.busy": "2022-04-22T03:03:05.311617Z",
     "iopub.status.idle": "2022-04-22T03:03:05.372006Z",
     "shell.execute_reply": "2022-04-22T03:03:05.371267Z"
    },
    "jupyter": {
     "source_hidden": true
    },
    "papermill": {
     "duration": 0.092353,
     "end_time": "2022-04-22T03:03:05.374308",
     "exception": false,
     "start_time": "2022-04-22T03:03:05.281955",
     "status": "completed"
    },
    "tags": [
     "remove_input"
    ]
   },
   "outputs": [
    {
     "data": {
      "text/markdown": [
       "PM Peak most delayed routes: \n",
       " * 8, Glen Cove, Eastbound: 9.0 minutes late on average\n",
       " * R, Red Line, Northbound: 6.0 minutes late on average\n",
       " * 4, Tuolumne, Southbound: 6.0 minutes late on average\n",
       " * Y, Yellow Line, Southbound: 5.0 minutes late on average\n",
       " * 8, Glen Cove, Westbound: 5.0 minutes late on average"
      ],
      "text/plain": [
       "<IPython.core.display.Markdown object>"
      ]
     },
     "metadata": {},
     "output_type": "display_data"
    }
   ],
   "source": [
    "rt_day.describe_delayed_routes()"
   ]
  },
  {
   "cell_type": "code",
   "execution_count": 26,
   "id": "91874f76-635b-4fde-8d61-abc795aca6c6",
   "metadata": {
    "execution": {
     "iopub.execute_input": "2022-04-22T03:03:05.420509Z",
     "iopub.status.busy": "2022-04-22T03:03:05.419884Z",
     "iopub.status.idle": "2022-04-22T03:03:05.481563Z",
     "shell.execute_reply": "2022-04-22T03:03:05.480491Z"
    },
    "jupyter": {
     "source_hidden": true
    },
    "papermill": {
     "duration": 0.088406,
     "end_time": "2022-04-22T03:03:05.484651",
     "exception": false,
     "start_time": "2022-04-22T03:03:05.396245",
     "status": "completed"
    },
    "tags": [
     "remove_input"
    ]
   },
   "outputs": [],
   "source": [
    "try:\n",
    "    metrics_df = (rt_day.rt_trips\n",
    "         >> group_by(_.route_short_name, _.direction_id)\n",
    "         >> summarize(speed_variance = _.mean_speed_mph.var(),\n",
    "                     mean_speed_mph = _.mean_speed_mph.mean(),\n",
    "                     min_hour = _.median_time.min().hour,\n",
    "                     max_hour = _.median_time.max().hour)\n",
    "         >> filter(_.min_hour <= 7, _.max_hour >= 15,\n",
    "                   _.mean_speed_mph < _.mean_speed_mph.quantile(.6),\n",
    "                   _.speed_variance)\n",
    "         >> arrange(-_.speed_variance)\n",
    "         >> head(20)\n",
    "        )\n",
    "except Exception as e:\n",
    "    pass\n",
    "    # print(e)\n",
    "## check that route has all-day span..."
   ]
  },
  {
   "cell_type": "code",
   "execution_count": 27,
   "id": "758b0bae-32d0-40dd-a1d1-1d107b0e7e8b",
   "metadata": {
    "execution": {
     "iopub.execute_input": "2022-04-22T03:03:05.571019Z",
     "iopub.status.busy": "2022-04-22T03:03:05.570491Z",
     "iopub.status.idle": "2022-04-22T03:03:05.583692Z",
     "shell.execute_reply": "2022-04-22T03:03:05.582652Z"
    },
    "jupyter": {
     "source_hidden": true
    },
    "papermill": {
     "duration": 0.060426,
     "end_time": "2022-04-22T03:03:05.586482",
     "exception": false,
     "start_time": "2022-04-22T03:03:05.526056",
     "status": "completed"
    },
    "tags": [
     "remove_input"
    ]
   },
   "outputs": [],
   "source": [
    "def map_from_metrics(rt_day, metrics_df):\n",
    "    try:\n",
    "        route_name = metrics_df.iloc[1,0]\n",
    "        direction_id = metrics_df.iloc[1,1]\n",
    "        # print(route_name, direction_id)\n",
    "    except Exception as e:\n",
    "        # print(e)\n",
    "        return\n",
    "    # route_name = '281'\n",
    "    # direction_id = '1'\n",
    "    rt_day.set_filter(start_time='06:00', end_time='09:00',\n",
    "                      route_names=[route_name], direction_id = direction_id)\n",
    "    try:\n",
    "        am_map = rt_day.segment_speed_map(how='low_speeds')\n",
    "        display(am_map)\n",
    "    except Exception as e:\n",
    "        # print(e)\n",
    "        pass\n",
    "    \n",
    "    rt_day.set_filter(start_time='10:00', end_time='14:00',\n",
    "                      route_names=[route_name], direction_id = direction_id)\n",
    "    try:\n",
    "        mid_map = rt_day.segment_speed_map(how='low_speeds')\n",
    "        display(mid_map)\n",
    "    except Exception as e:\n",
    "        # print(e)\n",
    "        pass\n",
    "\n",
    "    rt_day.set_filter(start_time='15:00', end_time='19:00',\n",
    "                      route_names=[route_name], direction_id = direction_id)\n",
    "    try:\n",
    "        pm_map = rt_day.segment_speed_map(how='low_speeds')\n",
    "        display(pm_map)\n",
    "    except Exception as e:\n",
    "        # print(e)\n",
    "        pass\n",
    "\n",
    "    return"
   ]
  },
  {
   "cell_type": "markdown",
   "id": "6ce187c8-c7bf-44f4-970e-b3abd69ddc38",
   "metadata": {
    "papermill": {
     "duration": 0.042302,
     "end_time": "2022-04-22T03:03:05.667669",
     "exception": false,
     "start_time": "2022-04-22T03:03:05.625367",
     "status": "completed"
    },
    "tags": []
   },
   "source": [
    "## Single-Route Detail Example"
   ]
  },
  {
   "cell_type": "code",
   "execution_count": 28,
   "id": "c7b4b043-6d15-4d9c-8aac-f0f6649e9552",
   "metadata": {
    "execution": {
     "iopub.execute_input": "2022-04-22T03:03:05.752082Z",
     "iopub.status.busy": "2022-04-22T03:03:05.751524Z",
     "iopub.status.idle": "2022-04-22T03:03:07.125642Z",
     "shell.execute_reply": "2022-04-22T03:03:07.125030Z"
    },
    "jupyter": {
     "source_hidden": true
    },
    "papermill": {
     "duration": 1.416501,
     "end_time": "2022-04-22T03:03:07.128180",
     "exception": false,
     "start_time": "2022-04-22T03:03:05.711679",
     "status": "completed"
    },
    "tags": [
     "remove_input"
    ]
   },
   "outputs": [],
   "source": [
    "try:\n",
    "    map_from_metrics(rt_day, metrics_df)\n",
    "except Exception as e:\n",
    "    # print(e)\n",
    "    pass"
   ]
  },
  {
   "cell_type": "code",
   "execution_count": null,
   "id": "a7d189cb-26d5-4a49-bf0f-2c33fd408f7e",
   "metadata": {
    "jupyter": {
     "source_hidden": true
    },
    "papermill": {
     "duration": 0.023864,
     "end_time": "2022-04-22T03:03:07.178370",
     "exception": false,
     "start_time": "2022-04-22T03:03:07.154506",
     "status": "completed"
    },
    "tags": [
     "remove_input"
    ]
   },
   "outputs": [],
   "source": []
  }
 ],
 "metadata": {
  "kernelspec": {
   "display_name": "Python 3 (ipykernel)",
   "language": "python",
   "name": "python3"
  },
  "language_info": {
   "codemirror_mode": {
    "name": "ipython",
    "version": 3
   },
   "file_extension": ".py",
   "mimetype": "text/x-python",
   "name": "python",
   "nbconvert_exporter": "python",
   "pygments_lexer": "ipython3",
   "version": "3.9.10"
  },
  "papermill": {
   "default_parameters": {},
   "duration": 57.049957,
   "end_time": "2022-04-22T03:03:08.727547",
   "environment_variables": {},
   "exception": null,
   "input_path": "rt_delay/speedmaps.ipynb",
   "output_path": "portfolio/rt/district_04-oakland/speedmaps__itp_id_310.ipynb",
   "parameters": {
    "district": "04 - Oakland",
    "itp_id": 310
   },
   "start_time": "2022-04-22T03:02:11.677590",
   "version": "2.3.4"
  }
 },
 "nbformat": 4,
 "nbformat_minor": 5
}