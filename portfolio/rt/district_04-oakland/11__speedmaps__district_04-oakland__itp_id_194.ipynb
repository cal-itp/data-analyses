version https://git-lfs.github.com/spec/v1
oid sha256:5d8db7d78db2642ae066ae424c9d48eacf02bdce77b40b7673011566dce908d5
size 59327
