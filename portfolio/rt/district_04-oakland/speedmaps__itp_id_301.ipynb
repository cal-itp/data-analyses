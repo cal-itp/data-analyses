{
 "cells": [
  {
   "cell_type": "code",
   "execution_count": 1,
   "id": "46898b5c-b5cc-4096-ab68-8c3e42fab870",
   "metadata": {
    "execution": {
     "iopub.execute_input": "2022-04-22T03:24:05.945978Z",
     "iopub.status.busy": "2022-04-22T03:24:05.945273Z",
     "iopub.status.idle": "2022-04-22T03:24:26.478894Z",
     "shell.execute_reply": "2022-04-22T03:24:26.478058Z"
    },
    "jupyter": {
     "source_hidden": true
    },
    "papermill": {
     "duration": 20.557161,
     "end_time": "2022-04-22T03:24:26.481542",
     "exception": false,
     "start_time": "2022-04-22T03:24:05.924381",
     "status": "completed"
    },
    "tags": [
     "remove_input"
    ]
   },
   "outputs": [],
   "source": [
    "%%capture\n",
    "import warnings\n",
    "warnings.filterwarnings('ignore')\n",
    "\n",
    "import os\n",
    "os.environ[\"CALITP_BQ_MAX_BYTES\"] = str(800_000_000_000)\n",
    "import shared_utils\n",
    "import utils\n",
    "\n",
    "from calitp.tables import tbl\n",
    "from calitp import query_sql\n",
    "import calitp.magics\n",
    "\n",
    "from siuba import *\n",
    "import pandas as pd\n",
    "import geopandas as gpd\n",
    "\n",
    "import datetime as dt\n",
    "\n",
    "import importlib\n",
    "import rt_filter_map_plot\n",
    "\n",
    "from IPython.display import display, Markdown, Latex, HTML\n",
    "import json"
   ]
  },
  {
   "cell_type": "code",
   "execution_count": 2,
   "id": "9f15ed6a-5ab7-4f57-9695-3f762781b74c",
   "metadata": {
    "execution": {
     "iopub.execute_input": "2022-04-22T03:24:26.518673Z",
     "iopub.status.busy": "2022-04-22T03:24:26.517743Z",
     "iopub.status.idle": "2022-04-22T03:24:26.522758Z",
     "shell.execute_reply": "2022-04-22T03:24:26.521942Z"
    },
    "jupyter": {
     "source_hidden": true
    },
    "papermill": {
     "duration": 0.025545,
     "end_time": "2022-04-22T03:24:26.524587",
     "exception": false,
     "start_time": "2022-04-22T03:24:26.499042",
     "status": "completed"
    },
    "tags": [
     "parameters",
     "remove_input"
    ]
   },
   "outputs": [],
   "source": [
    "## parameters cell\n",
    "itp_id = 135"
   ]
  },
  {
   "cell_type": "code",
   "execution_count": 3,
   "id": "2bee59e0",
   "metadata": {
    "execution": {
     "iopub.execute_input": "2022-04-22T03:24:26.563508Z",
     "iopub.status.busy": "2022-04-22T03:24:26.562599Z",
     "iopub.status.idle": "2022-04-22T03:24:26.571646Z",
     "shell.execute_reply": "2022-04-22T03:24:26.571077Z"
    },
    "jupyter": {
     "source_hidden": true
    },
    "papermill": {
     "duration": 0.030631,
     "end_time": "2022-04-22T03:24:26.573465",
     "exception": false,
     "start_time": "2022-04-22T03:24:26.542834",
     "status": "completed"
    },
    "tags": [
     "injected-parameters",
     "remove_input"
    ]
   },
   "outputs": [],
   "source": [
    "# Parameters\n",
    "district = \"04 - Oakland\"\n",
    "itp_id = 301\n"
   ]
  },
  {
   "cell_type": "code",
   "execution_count": 4,
   "id": "6c2e9651-70e4-4403-b43d-da50315ef8fd",
   "metadata": {
    "execution": {
     "iopub.execute_input": "2022-04-22T03:24:26.610340Z",
     "iopub.status.busy": "2022-04-22T03:24:26.609454Z",
     "iopub.status.idle": "2022-04-22T03:24:28.472948Z",
     "shell.execute_reply": "2022-04-22T03:24:28.471610Z"
    },
    "jupyter": {
     "source_hidden": true
    },
    "papermill": {
     "duration": 1.884841,
     "end_time": "2022-04-22T03:24:28.475222",
     "exception": false,
     "start_time": "2022-04-22T03:24:26.590381",
     "status": "completed"
    },
    "tags": [
     "remove_input"
    ]
   },
   "outputs": [],
   "source": [
    "airtable_organizations = (\n",
    "    tbl.airtable.california_transit_organizations()\n",
    "    >> select(_.itp_id, _.name, _.caltrans_district,\n",
    "              _.website, _.ntp_id, _.drmt_organization_name)\n",
    "    >> filter(_.itp_id == itp_id)\n",
    "    >> collect()\n",
    ")"
   ]
  },
  {
   "cell_type": "code",
   "execution_count": 5,
   "id": "cc9c7000-4042-4f64-b7ef-8e8e5f1e706a",
   "metadata": {
    "execution": {
     "iopub.execute_input": "2022-04-22T03:24:28.513153Z",
     "iopub.status.busy": "2022-04-22T03:24:28.512263Z",
     "iopub.status.idle": "2022-04-22T03:24:28.517035Z",
     "shell.execute_reply": "2022-04-22T03:24:28.516465Z"
    },
    "jupyter": {
     "source_hidden": true
    },
    "papermill": {
     "duration": 0.025402,
     "end_time": "2022-04-22T03:24:28.518857",
     "exception": false,
     "start_time": "2022-04-22T03:24:28.493455",
     "status": "completed"
    },
    "tags": [
     "remove_input"
    ]
   },
   "outputs": [],
   "source": [
    "# airtable_organizations"
   ]
  },
  {
   "cell_type": "code",
   "execution_count": 6,
   "id": "306a7053-3fab-4723-a287-111e4eba11f2",
   "metadata": {
    "execution": {
     "iopub.execute_input": "2022-04-22T03:24:28.559545Z",
     "iopub.status.busy": "2022-04-22T03:24:28.558549Z",
     "iopub.status.idle": "2022-04-22T03:24:28.564931Z",
     "shell.execute_reply": "2022-04-22T03:24:28.563994Z"
    },
    "jupyter": {
     "source_hidden": true
    },
    "papermill": {
     "duration": 0.031151,
     "end_time": "2022-04-22T03:24:28.567268",
     "exception": false,
     "start_time": "2022-04-22T03:24:28.536117",
     "status": "completed"
    },
    "tags": [
     "remove_input"
    ]
   },
   "outputs": [],
   "source": [
    "analysis_date = dt.date(2022, 3, 30)\n",
    "if itp_id == 273:\n",
    "    analysis_date = dt.date(2022, 2, 8) # #override for SacRT "
   ]
  },
  {
   "cell_type": "code",
   "execution_count": 7,
   "id": "47c79d99-c82f-4e1e-b11e-2b1e83c13a1b",
   "metadata": {
    "execution": {
     "iopub.execute_input": "2022-04-22T03:24:28.605536Z",
     "iopub.status.busy": "2022-04-22T03:24:28.605229Z",
     "iopub.status.idle": "2022-04-22T03:24:28.609658Z",
     "shell.execute_reply": "2022-04-22T03:24:28.608756Z"
    },
    "jupyter": {
     "source_hidden": true
    },
    "papermill": {
     "duration": 0.026476,
     "end_time": "2022-04-22T03:24:28.612416",
     "exception": false,
     "start_time": "2022-04-22T03:24:28.585940",
     "status": "completed"
    },
    "tags": [
     "remove_input"
    ]
   },
   "outputs": [],
   "source": [
    "month_day = analysis_date.strftime('%m_%d')"
   ]
  },
  {
   "cell_type": "code",
   "execution_count": 8,
   "id": "1739d979-cd4d-456c-a1ad-a016cbf69cad",
   "metadata": {
    "execution": {
     "iopub.execute_input": "2022-04-22T03:24:28.650509Z",
     "iopub.status.busy": "2022-04-22T03:24:28.650228Z",
     "iopub.status.idle": "2022-04-22T03:24:29.067194Z",
     "shell.execute_reply": "2022-04-22T03:24:29.066231Z"
    },
    "jupyter": {
     "source_hidden": true
    },
    "papermill": {
     "duration": 0.439471,
     "end_time": "2022-04-22T03:24:29.069891",
     "exception": false,
     "start_time": "2022-04-22T03:24:28.630420",
     "status": "completed"
    },
    "tags": [
     "remove_input"
    ]
   },
   "outputs": [],
   "source": [
    "trips = pd.read_parquet(f'{utils.GCS_FILE_PATH}rt_trips/{itp_id}_{month_day}.parquet')"
   ]
  },
  {
   "cell_type": "code",
   "execution_count": 9,
   "id": "b77a9167-4017-4367-8fed-d4e6bf3999b9",
   "metadata": {
    "execution": {
     "iopub.execute_input": "2022-04-22T03:24:29.111229Z",
     "iopub.status.busy": "2022-04-22T03:24:29.110958Z",
     "iopub.status.idle": "2022-04-22T03:24:29.603054Z",
     "shell.execute_reply": "2022-04-22T03:24:29.602153Z"
    },
    "jupyter": {
     "source_hidden": true
    },
    "papermill": {
     "duration": 0.51633,
     "end_time": "2022-04-22T03:24:29.605597",
     "exception": false,
     "start_time": "2022-04-22T03:24:29.089267",
     "status": "completed"
    },
    "tags": [
     "remove_input"
    ]
   },
   "outputs": [],
   "source": [
    "stop_delay = gpd.read_parquet(f'{utils.GCS_FILE_PATH}stop_delay_views/{itp_id}_{month_day}.parquet')\n",
    "stop_delay['arrival_time'] = stop_delay.arrival_time.map(lambda x: dt.datetime.fromisoformat(x))\n",
    "stop_delay['actual_time'] = stop_delay.actual_time.map(lambda x: dt.datetime.fromisoformat(x))"
   ]
  },
  {
   "cell_type": "code",
   "execution_count": 10,
   "id": "2b2fe439-10af-4140-ab83-69b05c385b40",
   "metadata": {
    "execution": {
     "iopub.execute_input": "2022-04-22T03:24:29.644391Z",
     "iopub.status.busy": "2022-04-22T03:24:29.643788Z",
     "iopub.status.idle": "2022-04-22T03:24:32.463078Z",
     "shell.execute_reply": "2022-04-22T03:24:32.462118Z"
    },
    "jupyter": {
     "source_hidden": true
    },
    "papermill": {
     "duration": 2.841386,
     "end_time": "2022-04-22T03:24:32.465459",
     "exception": false,
     "start_time": "2022-04-22T03:24:29.624073",
     "status": "completed"
    },
    "tags": [
     "remove_input"
    ]
   },
   "outputs": [],
   "source": [
    "%%capture\n",
    "routelines = utils.get_routelines(itp_id, analysis_date)"
   ]
  },
  {
   "cell_type": "code",
   "execution_count": 11,
   "id": "e4cbefc6-9bbb-4989-85b7-1f31da17fcb8",
   "metadata": {
    "execution": {
     "iopub.execute_input": "2022-04-22T03:24:32.508886Z",
     "iopub.status.busy": "2022-04-22T03:24:32.508570Z",
     "iopub.status.idle": "2022-04-22T03:24:34.065588Z",
     "shell.execute_reply": "2022-04-22T03:24:34.064857Z"
    },
    "jupyter": {
     "source_hidden": true
    },
    "papermill": {
     "duration": 1.582632,
     "end_time": "2022-04-22T03:24:34.069265",
     "exception": false,
     "start_time": "2022-04-22T03:24:32.486633",
     "status": "completed"
    },
    "tags": [
     "remove_input"
    ]
   },
   "outputs": [],
   "source": [
    "%%capture\n",
    "rt_day = rt_filter_map_plot.RtFilterMapper(trips, stop_delay, routelines)"
   ]
  },
  {
   "cell_type": "code",
   "execution_count": 12,
   "id": "6c335d40-7a7b-4641-8a3d-c970b2823cdf",
   "metadata": {
    "execution": {
     "iopub.execute_input": "2022-04-22T03:24:34.112000Z",
     "iopub.status.busy": "2022-04-22T03:24:34.111498Z",
     "iopub.status.idle": "2022-04-22T03:24:34.117862Z",
     "shell.execute_reply": "2022-04-22T03:24:34.117203Z"
    },
    "jupyter": {
     "source_hidden": true
    },
    "papermill": {
     "duration": 0.029652,
     "end_time": "2022-04-22T03:24:34.119663",
     "exception": false,
     "start_time": "2022-04-22T03:24:34.090011",
     "status": "completed"
    },
    "tags": [
     "remove_input"
    ]
   },
   "outputs": [],
   "source": [
    "%%capture_parameters\n",
    "agency_name = rt_day.calitp_agency_name\n",
    "district = airtable_organizations.caltrans_district.iloc[0]\n",
    "agency_name, district"
   ]
  },
  {
   "cell_type": "markdown",
   "id": "52110155-d104-4043-8376-3f83e82a959a",
   "metadata": {
    "papermill": {
     "duration": 0.018966,
     "end_time": "2022-04-22T03:24:34.156768",
     "exception": false,
     "start_time": "2022-04-22T03:24:34.137802",
     "status": "completed"
    },
    "tags": []
   },
   "source": [
    "# Santa Rosa CityBus"
   ]
  },
  {
   "cell_type": "markdown",
   "id": "7d5572cd-dd67-4e26-b100-a0e7472a4a17",
   "metadata": {
    "papermill": {
     "duration": 0.018546,
     "end_time": "2022-04-22T03:24:34.200684",
     "exception": false,
     "start_time": "2022-04-22T03:24:34.182138",
     "status": "completed"
    },
    "tags": []
   },
   "source": [
    "## About These Maps:\n",
    "\n",
    "* Each map shows bus (and rail, if applicable) speeds for Santa Rosa CityBus, with a map each for the morning peak, midday, and afternoon peak periods.\n",
    "* On the map, routes are split into segments corresponding to the distance between two stops, allowing you to focus on specific portions of the route experiencing a slowdown.\n",
    "* Route segments are arrow-shaped to indicate direction of travel.\n",
    "* Hover over, or click, a segment with your mouse to see the exact speed, route name, and transit service frequency in that segment. \n",
    "    * Higher-frequency routes (3+ trips per hour) are especially important, since those slowdowns correspond to more vehicles, and riders, delayed in traffic."
   ]
  },
  {
   "cell_type": "code",
   "execution_count": 13,
   "id": "8e940d3d-c76e-42ba-be8b-739852771ca6",
   "metadata": {
    "execution": {
     "iopub.execute_input": "2022-04-22T03:24:34.240956Z",
     "iopub.status.busy": "2022-04-22T03:24:34.240283Z",
     "iopub.status.idle": "2022-04-22T03:24:34.244555Z",
     "shell.execute_reply": "2022-04-22T03:24:34.244014Z"
    },
    "jupyter": {
     "source_hidden": true
    },
    "papermill": {
     "duration": 0.026673,
     "end_time": "2022-04-22T03:24:34.246479",
     "exception": false,
     "start_time": "2022-04-22T03:24:34.219806",
     "status": "completed"
    },
    "tags": [
     "remove_input"
    ]
   },
   "outputs": [],
   "source": [
    "## avoid papermill errors when map fails to render\n",
    "m = None"
   ]
  },
  {
   "cell_type": "markdown",
   "id": "74fce4a9-514f-405d-9ce0-1cb1998a696b",
   "metadata": {
    "papermill": {
     "duration": 0.022101,
     "end_time": "2022-04-22T03:24:34.287214",
     "exception": false,
     "start_time": "2022-04-22T03:24:34.265113",
     "status": "completed"
    },
    "tags": []
   },
   "source": [
    "## Morning Peak"
   ]
  },
  {
   "cell_type": "code",
   "execution_count": 14,
   "id": "533a64f4-f374-4f2c-94d3-5146ebe7c036",
   "metadata": {
    "execution": {
     "iopub.execute_input": "2022-04-22T03:24:34.327107Z",
     "iopub.status.busy": "2022-04-22T03:24:34.326486Z",
     "iopub.status.idle": "2022-04-22T03:24:34.334077Z",
     "shell.execute_reply": "2022-04-22T03:24:34.333207Z"
    },
    "jupyter": {
     "source_hidden": true
    },
    "papermill": {
     "duration": 0.029999,
     "end_time": "2022-04-22T03:24:34.336175",
     "exception": false,
     "start_time": "2022-04-22T03:24:34.306176",
     "status": "completed"
    },
    "tags": [
     "remove_input"
    ]
   },
   "outputs": [],
   "source": [
    "%%capture\n",
    "rt_day.set_filter(start_time='06:00', end_time='09:00')"
   ]
  },
  {
   "cell_type": "code",
   "execution_count": 15,
   "id": "2f317120-99ee-435b-96cd-1236b8ee2e0b",
   "metadata": {
    "execution": {
     "iopub.execute_input": "2022-04-22T03:24:34.379877Z",
     "iopub.status.busy": "2022-04-22T03:24:34.379141Z",
     "iopub.status.idle": "2022-04-22T03:24:43.570996Z",
     "shell.execute_reply": "2022-04-22T03:24:43.570268Z"
    },
    "jupyter": {
     "source_hidden": true
    },
    "papermill": {
     "duration": 9.21689,
     "end_time": "2022-04-22T03:24:43.572800",
     "exception": false,
     "start_time": "2022-04-22T03:24:34.355910",
     "status": "completed"
    },
    "tags": [
     "remove_input"
    ]
   },
   "outputs": [],
   "source": [
    "%%capture\n",
    "m = rt_day.segment_speed_map(how='low_speeds', no_title=True)"
   ]
  },
  {
   "cell_type": "code",
   "execution_count": 16,
   "id": "275087be-b46d-4acb-95fe-2dc98c2089a2",
   "metadata": {
    "execution": {
     "iopub.execute_input": "2022-04-22T03:24:43.615284Z",
     "iopub.status.busy": "2022-04-22T03:24:43.614492Z",
     "iopub.status.idle": "2022-04-22T03:24:43.622636Z",
     "shell.execute_reply": "2022-04-22T03:24:43.622029Z"
    },
    "jupyter": {
     "source_hidden": true
    },
    "papermill": {
     "duration": 0.03279,
     "end_time": "2022-04-22T03:24:43.624638",
     "exception": false,
     "start_time": "2022-04-22T03:24:43.591848",
     "status": "completed"
    },
    "tags": [
     "remove_input"
    ]
   },
   "outputs": [],
   "source": [
    "m"
   ]
  },
  {
   "cell_type": "code",
   "execution_count": 17,
   "id": "b0cf9b97-7485-4f36-b5e8-124f22fa9661",
   "metadata": {
    "execution": {
     "iopub.execute_input": "2022-04-22T03:24:43.670678Z",
     "iopub.status.busy": "2022-04-22T03:24:43.665551Z",
     "iopub.status.idle": "2022-04-22T03:24:43.733354Z",
     "shell.execute_reply": "2022-04-22T03:24:43.732453Z"
    },
    "jupyter": {
     "source_hidden": true
    },
    "papermill": {
     "duration": 0.09091,
     "end_time": "2022-04-22T03:24:43.735413",
     "exception": false,
     "start_time": "2022-04-22T03:24:43.644503",
     "status": "completed"
    },
    "tags": [
     "remove_input"
    ]
   },
   "outputs": [
    {
     "data": {
      "text/markdown": [
       "AM Peak most delayed routes: \n",
       " * 6, Route 6 West Third Street, Southbound: 4.0 minutes late on average\n",
       " * 6, Route 6 West Third Street, Northbound: 4.0 minutes late on average\n",
       " * 15, Route 15 Stony Point Road, Northbound: 2.0 minutes late on average\n",
       " * 9, Route 9 West 9th Street, Westbound: 2.0 minutes late on average\n",
       " * 9, Route 9 West 9th Street, Eastbound: 2.0 minutes late on average"
      ],
      "text/plain": [
       "<IPython.core.display.Markdown object>"
      ]
     },
     "metadata": {},
     "output_type": "display_data"
    }
   ],
   "source": [
    "rt_day.describe_delayed_routes()"
   ]
  },
  {
   "cell_type": "markdown",
   "id": "3d263ba2-49ae-4e02-9d06-3181b03f51ba",
   "metadata": {
    "papermill": {
     "duration": 0.024074,
     "end_time": "2022-04-22T03:24:43.781536",
     "exception": false,
     "start_time": "2022-04-22T03:24:43.757462",
     "status": "completed"
    },
    "tags": []
   },
   "source": [
    "## Midday"
   ]
  },
  {
   "cell_type": "code",
   "execution_count": 18,
   "id": "f5344e63-89d2-43d6-9783-55a3061c99d2",
   "metadata": {
    "execution": {
     "iopub.execute_input": "2022-04-22T03:24:43.823463Z",
     "iopub.status.busy": "2022-04-22T03:24:43.823171Z",
     "iopub.status.idle": "2022-04-22T03:24:43.829669Z",
     "shell.execute_reply": "2022-04-22T03:24:43.828757Z"
    },
    "jupyter": {
     "source_hidden": true
    },
    "papermill": {
     "duration": 0.030142,
     "end_time": "2022-04-22T03:24:43.831738",
     "exception": false,
     "start_time": "2022-04-22T03:24:43.801596",
     "status": "completed"
    },
    "tags": [
     "remove_input"
    ]
   },
   "outputs": [],
   "source": [
    "%%capture\n",
    "rt_day.set_filter(start_time='10:00', end_time='14:00')"
   ]
  },
  {
   "cell_type": "code",
   "execution_count": 19,
   "id": "a4c40f3c-cf35-45d5-9d87-aa4701bed3aa",
   "metadata": {
    "execution": {
     "iopub.execute_input": "2022-04-22T03:24:43.876418Z",
     "iopub.status.busy": "2022-04-22T03:24:43.876131Z",
     "iopub.status.idle": "2022-04-22T03:24:54.229473Z",
     "shell.execute_reply": "2022-04-22T03:24:54.228596Z"
    },
    "jupyter": {
     "source_hidden": true
    },
    "papermill": {
     "duration": 10.379477,
     "end_time": "2022-04-22T03:24:54.231511",
     "exception": false,
     "start_time": "2022-04-22T03:24:43.852034",
     "status": "completed"
    },
    "tags": [
     "remove_input"
    ]
   },
   "outputs": [],
   "source": [
    "%%capture\n",
    "m = rt_day.segment_speed_map(how='low_speeds', no_title=True)"
   ]
  },
  {
   "cell_type": "code",
   "execution_count": 20,
   "id": "a78b7db5-f43f-4bf1-8036-ae972a87fc53",
   "metadata": {
    "execution": {
     "iopub.execute_input": "2022-04-22T03:24:54.275467Z",
     "iopub.status.busy": "2022-04-22T03:24:54.275176Z",
     "iopub.status.idle": "2022-04-22T03:24:54.280410Z",
     "shell.execute_reply": "2022-04-22T03:24:54.279731Z"
    },
    "jupyter": {
     "source_hidden": true
    },
    "papermill": {
     "duration": 0.029327,
     "end_time": "2022-04-22T03:24:54.282347",
     "exception": false,
     "start_time": "2022-04-22T03:24:54.253020",
     "status": "completed"
    },
    "tags": [
     "remove_input"
    ]
   },
   "outputs": [],
   "source": [
    "m"
   ]
  },
  {
   "cell_type": "code",
   "execution_count": 21,
   "id": "6c745570-b50f-4722-b943-2176444f7af6",
   "metadata": {
    "execution": {
     "iopub.execute_input": "2022-04-22T03:24:54.326487Z",
     "iopub.status.busy": "2022-04-22T03:24:54.326024Z",
     "iopub.status.idle": "2022-04-22T03:24:54.390754Z",
     "shell.execute_reply": "2022-04-22T03:24:54.389998Z"
    },
    "jupyter": {
     "source_hidden": true
    },
    "papermill": {
     "duration": 0.089375,
     "end_time": "2022-04-22T03:24:54.392957",
     "exception": false,
     "start_time": "2022-04-22T03:24:54.303582",
     "status": "completed"
    },
    "tags": [
     "remove_input"
    ]
   },
   "outputs": [
    {
     "data": {
      "text/markdown": [
       "Midday most delayed routes: \n",
       " * 8, Route 8 Bennett Valley, Westbound: 3.0 minutes late on average\n",
       " * 18, Route 18 Southeast Circulator, Eastbound: 3.0 minutes late on average\n",
       " * 1, Route 1 Mendocino Ave, Southbound: 2.0 minutes late on average\n",
       " * 6, Route 6 West Third Street, Southbound: 2.0 minutes late on average\n",
       " * 2B, Route 2B Sebastopol Road, Eastbound: 2.0 minutes late on average"
      ],
      "text/plain": [
       "<IPython.core.display.Markdown object>"
      ]
     },
     "metadata": {},
     "output_type": "display_data"
    }
   ],
   "source": [
    "rt_day.describe_delayed_routes()"
   ]
  },
  {
   "cell_type": "markdown",
   "id": "704f0788-b4a8-497d-b2aa-c7ac6df939f4",
   "metadata": {
    "papermill": {
     "duration": 0.020878,
     "end_time": "2022-04-22T03:24:54.437360",
     "exception": false,
     "start_time": "2022-04-22T03:24:54.416482",
     "status": "completed"
    },
    "tags": []
   },
   "source": [
    "## Afternoon Peak"
   ]
  },
  {
   "cell_type": "code",
   "execution_count": 22,
   "id": "923f1462-b34a-42d2-a632-c5eb3ac16ac6",
   "metadata": {
    "execution": {
     "iopub.execute_input": "2022-04-22T03:24:54.482611Z",
     "iopub.status.busy": "2022-04-22T03:24:54.482088Z",
     "iopub.status.idle": "2022-04-22T03:24:54.487792Z",
     "shell.execute_reply": "2022-04-22T03:24:54.487195Z"
    },
    "jupyter": {
     "source_hidden": true
    },
    "papermill": {
     "duration": 0.030894,
     "end_time": "2022-04-22T03:24:54.489940",
     "exception": false,
     "start_time": "2022-04-22T03:24:54.459046",
     "status": "completed"
    },
    "tags": [
     "remove_input"
    ]
   },
   "outputs": [],
   "source": [
    "%%capture\n",
    "rt_day.set_filter(start_time='15:00', end_time='19:00')"
   ]
  },
  {
   "cell_type": "code",
   "execution_count": 23,
   "id": "5e46b095-7bc2-4552-a37b-661d076b2b51",
   "metadata": {
    "execution": {
     "iopub.execute_input": "2022-04-22T03:24:54.534201Z",
     "iopub.status.busy": "2022-04-22T03:24:54.533649Z",
     "iopub.status.idle": "2022-04-22T03:25:05.704002Z",
     "shell.execute_reply": "2022-04-22T03:25:05.702796Z"
    },
    "jupyter": {
     "source_hidden": true
    },
    "papermill": {
     "duration": 11.19664,
     "end_time": "2022-04-22T03:25:05.707511",
     "exception": false,
     "start_time": "2022-04-22T03:24:54.510871",
     "status": "completed"
    },
    "tags": [
     "remove_input"
    ]
   },
   "outputs": [],
   "source": [
    "%%capture\n",
    "m = rt_day.segment_speed_map(how='low_speeds', no_title=True)"
   ]
  },
  {
   "cell_type": "code",
   "execution_count": 24,
   "id": "0393f107-e9fe-4982-961a-032f7bf4e0eb",
   "metadata": {
    "execution": {
     "iopub.execute_input": "2022-04-22T03:25:05.794550Z",
     "iopub.status.busy": "2022-04-22T03:25:05.794037Z",
     "iopub.status.idle": "2022-04-22T03:25:05.803402Z",
     "shell.execute_reply": "2022-04-22T03:25:05.802460Z"
    },
    "jupyter": {
     "source_hidden": true
    },
    "papermill": {
     "duration": 0.054351,
     "end_time": "2022-04-22T03:25:05.806366",
     "exception": false,
     "start_time": "2022-04-22T03:25:05.752015",
     "status": "completed"
    },
    "tags": [
     "remove_input"
    ]
   },
   "outputs": [],
   "source": [
    "m"
   ]
  },
  {
   "cell_type": "code",
   "execution_count": 25,
   "id": "76580953-2a2b-4295-a41c-20442eae883e",
   "metadata": {
    "execution": {
     "iopub.execute_input": "2022-04-22T03:25:05.885524Z",
     "iopub.status.busy": "2022-04-22T03:25:05.884956Z",
     "iopub.status.idle": "2022-04-22T03:25:05.953627Z",
     "shell.execute_reply": "2022-04-22T03:25:05.952964Z"
    },
    "jupyter": {
     "source_hidden": true
    },
    "papermill": {
     "duration": 0.11193,
     "end_time": "2022-04-22T03:25:05.956170",
     "exception": false,
     "start_time": "2022-04-22T03:25:05.844240",
     "status": "completed"
    },
    "tags": [
     "remove_input"
    ]
   },
   "outputs": [
    {
     "data": {
      "text/markdown": [
       "PM Peak most delayed routes: \n",
       " * 9, Route 9 West 9th Street, Eastbound: 7.0 minutes late on average\n",
       " * 6, Route 6 West Third Street, Southbound: 6.0 minutes late on average\n",
       " * 8, Route 8 Bennett Valley, Westbound: 6.0 minutes late on average\n",
       " * 6, Route 6 West Third Street, Northbound: 5.0 minutes late on average\n",
       " * 18, Route 18 Southeast Circulator, Eastbound: 4.0 minutes late on average"
      ],
      "text/plain": [
       "<IPython.core.display.Markdown object>"
      ]
     },
     "metadata": {},
     "output_type": "display_data"
    }
   ],
   "source": [
    "rt_day.describe_delayed_routes()"
   ]
  },
  {
   "cell_type": "code",
   "execution_count": 26,
   "id": "91874f76-635b-4fde-8d61-abc795aca6c6",
   "metadata": {
    "execution": {
     "iopub.execute_input": "2022-04-22T03:25:06.003459Z",
     "iopub.status.busy": "2022-04-22T03:25:06.002867Z",
     "iopub.status.idle": "2022-04-22T03:25:06.035214Z",
     "shell.execute_reply": "2022-04-22T03:25:06.034634Z"
    },
    "jupyter": {
     "source_hidden": true
    },
    "papermill": {
     "duration": 0.059036,
     "end_time": "2022-04-22T03:25:06.037248",
     "exception": false,
     "start_time": "2022-04-22T03:25:05.978212",
     "status": "completed"
    },
    "tags": [
     "remove_input"
    ]
   },
   "outputs": [],
   "source": [
    "try:\n",
    "    metrics_df = (rt_day.rt_trips\n",
    "         >> group_by(_.route_short_name, _.direction_id)\n",
    "         >> summarize(speed_variance = _.mean_speed_mph.var(),\n",
    "                     mean_speed_mph = _.mean_speed_mph.mean(),\n",
    "                     min_hour = _.median_time.min().hour,\n",
    "                     max_hour = _.median_time.max().hour)\n",
    "         >> filter(_.min_hour <= 7, _.max_hour >= 15,\n",
    "                   _.mean_speed_mph < _.mean_speed_mph.quantile(.6),\n",
    "                   _.speed_variance)\n",
    "         >> arrange(-_.speed_variance)\n",
    "         >> head(20)\n",
    "        )\n",
    "except Exception as e:\n",
    "    pass\n",
    "    # print(e)\n",
    "## check that route has all-day span..."
   ]
  },
  {
   "cell_type": "code",
   "execution_count": 27,
   "id": "758b0bae-32d0-40dd-a1d1-1d107b0e7e8b",
   "metadata": {
    "execution": {
     "iopub.execute_input": "2022-04-22T03:25:06.089937Z",
     "iopub.status.busy": "2022-04-22T03:25:06.089122Z",
     "iopub.status.idle": "2022-04-22T03:25:06.097494Z",
     "shell.execute_reply": "2022-04-22T03:25:06.096861Z"
    },
    "jupyter": {
     "source_hidden": true
    },
    "papermill": {
     "duration": 0.039263,
     "end_time": "2022-04-22T03:25:06.099808",
     "exception": false,
     "start_time": "2022-04-22T03:25:06.060545",
     "status": "completed"
    },
    "tags": [
     "remove_input"
    ]
   },
   "outputs": [],
   "source": [
    "def map_from_metrics(rt_day, metrics_df):\n",
    "    try:\n",
    "        route_name = metrics_df.iloc[1,0]\n",
    "        direction_id = metrics_df.iloc[1,1]\n",
    "        # print(route_name, direction_id)\n",
    "    except Exception as e:\n",
    "        # print(e)\n",
    "        return\n",
    "    # route_name = '281'\n",
    "    # direction_id = '1'\n",
    "    rt_day.set_filter(start_time='06:00', end_time='09:00',\n",
    "                      route_names=[route_name], direction_id = direction_id)\n",
    "    try:\n",
    "        am_map = rt_day.segment_speed_map(how='low_speeds')\n",
    "        display(am_map)\n",
    "    except Exception as e:\n",
    "        # print(e)\n",
    "        pass\n",
    "    \n",
    "    rt_day.set_filter(start_time='10:00', end_time='14:00',\n",
    "                      route_names=[route_name], direction_id = direction_id)\n",
    "    try:\n",
    "        mid_map = rt_day.segment_speed_map(how='low_speeds')\n",
    "        display(mid_map)\n",
    "    except Exception as e:\n",
    "        # print(e)\n",
    "        pass\n",
    "\n",
    "    rt_day.set_filter(start_time='15:00', end_time='19:00',\n",
    "                      route_names=[route_name], direction_id = direction_id)\n",
    "    try:\n",
    "        pm_map = rt_day.segment_speed_map(how='low_speeds')\n",
    "        display(pm_map)\n",
    "    except Exception as e:\n",
    "        # print(e)\n",
    "        pass\n",
    "\n",
    "    return"
   ]
  },
  {
   "cell_type": "markdown",
   "id": "6ce187c8-c7bf-44f4-970e-b3abd69ddc38",
   "metadata": {
    "papermill": {
     "duration": 0.023155,
     "end_time": "2022-04-22T03:25:06.147330",
     "exception": false,
     "start_time": "2022-04-22T03:25:06.124175",
     "status": "completed"
    },
    "tags": []
   },
   "source": [
    "## Single-Route Detail Example"
   ]
  },
  {
   "cell_type": "code",
   "execution_count": 28,
   "id": "c7b4b043-6d15-4d9c-8aac-f0f6649e9552",
   "metadata": {
    "execution": {
     "iopub.execute_input": "2022-04-22T03:25:06.202602Z",
     "iopub.status.busy": "2022-04-22T03:25:06.202040Z",
     "iopub.status.idle": "2022-04-22T03:25:07.618401Z",
     "shell.execute_reply": "2022-04-22T03:25:07.617532Z"
    },
    "jupyter": {
     "source_hidden": true
    },
    "papermill": {
     "duration": 1.444337,
     "end_time": "2022-04-22T03:25:07.621339",
     "exception": false,
     "start_time": "2022-04-22T03:25:06.177002",
     "status": "completed"
    },
    "tags": [
     "remove_input"
    ]
   },
   "outputs": [],
   "source": [
    "try:\n",
    "    map_from_metrics(rt_day, metrics_df)\n",
    "except Exception as e:\n",
    "    # print(e)\n",
    "    pass"
   ]
  },
  {
   "cell_type": "code",
   "execution_count": null,
   "id": "a7d189cb-26d5-4a49-bf0f-2c33fd408f7e",
   "metadata": {
    "jupyter": {
     "source_hidden": true
    },
    "papermill": {
     "duration": 0.024962,
     "end_time": "2022-04-22T03:25:07.669868",
     "exception": false,
     "start_time": "2022-04-22T03:25:07.644906",
     "status": "completed"
    },
    "tags": [
     "remove_input"
    ]
   },
   "outputs": [],
   "source": []
  }
 ],
 "metadata": {
  "kernelspec": {
   "display_name": "Python 3 (ipykernel)",
   "language": "python",
   "name": "python3"
  },
  "language_info": {
   "codemirror_mode": {
    "name": "ipython",
    "version": 3
   },
   "file_extension": ".py",
   "mimetype": "text/x-python",
   "name": "python",
   "nbconvert_exporter": "python",
   "pygments_lexer": "ipython3",
   "version": "3.9.10"
  },
  "papermill": {
   "default_parameters": {},
   "duration": 64.549163,
   "end_time": "2022-04-22T03:25:09.220533",
   "environment_variables": {},
   "exception": null,
   "input_path": "rt_delay/speedmaps.ipynb",
   "output_path": "portfolio/rt/district_04-oakland/speedmaps__itp_id_301.ipynb",
   "parameters": {
    "district": "04 - Oakland",
    "itp_id": 301
   },
   "start_time": "2022-04-22T03:24:04.671370",
   "version": "2.3.4"
  }
 },
 "nbformat": 4,
 "nbformat_minor": 5
}