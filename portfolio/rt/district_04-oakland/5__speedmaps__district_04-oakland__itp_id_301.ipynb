version https://git-lfs.github.com/spec/v1
oid sha256:d55e193f57f4c0e3d34a61fdf227d405dca76e55a47ad100d1dac10836ee48ac
size 71144
