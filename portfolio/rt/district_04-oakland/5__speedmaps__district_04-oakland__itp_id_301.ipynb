version https://git-lfs.github.com/spec/v1
oid sha256:ea475f5bd555f60b1f63c82eeb1fff9ab6a39823e4620e3516ea3bc0eaea4594
size 58640
