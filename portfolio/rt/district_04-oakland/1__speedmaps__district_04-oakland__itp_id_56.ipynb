version https://git-lfs.github.com/spec/v1
oid sha256:ccb6fef8991d2dee2980631bd999f0c23dc66997f73ea91ce7841f2175def0ad
size 71390
