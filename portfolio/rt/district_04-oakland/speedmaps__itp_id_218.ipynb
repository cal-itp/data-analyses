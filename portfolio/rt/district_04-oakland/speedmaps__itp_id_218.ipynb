{
 "cells": [
  {
   "cell_type": "code",
   "execution_count": 1,
   "id": "46898b5c-b5cc-4096-ab68-8c3e42fab870",
   "metadata": {
    "execution": {
     "iopub.execute_input": "2022-04-22T03:32:52.038136Z",
     "iopub.status.busy": "2022-04-22T03:32:52.037476Z",
     "iopub.status.idle": "2022-04-22T03:33:00.494286Z",
     "shell.execute_reply": "2022-04-22T03:33:00.493462Z"
    },
    "jupyter": {
     "source_hidden": true
    },
    "papermill": {
     "duration": 8.488236,
     "end_time": "2022-04-22T03:33:00.497128",
     "exception": false,
     "start_time": "2022-04-22T03:32:52.008892",
     "status": "completed"
    },
    "tags": [
     "remove_input"
    ]
   },
   "outputs": [],
   "source": [
    "%%capture\n",
    "import warnings\n",
    "warnings.filterwarnings('ignore')\n",
    "\n",
    "import os\n",
    "os.environ[\"CALITP_BQ_MAX_BYTES\"] = str(800_000_000_000)\n",
    "import shared_utils\n",
    "import utils\n",
    "\n",
    "from calitp.tables import tbl\n",
    "from calitp import query_sql\n",
    "import calitp.magics\n",
    "\n",
    "from siuba import *\n",
    "import pandas as pd\n",
    "import geopandas as gpd\n",
    "\n",
    "import datetime as dt\n",
    "\n",
    "import importlib\n",
    "import rt_filter_map_plot\n",
    "\n",
    "from IPython.display import display, Markdown, Latex, HTML\n",
    "import json"
   ]
  },
  {
   "cell_type": "code",
   "execution_count": 2,
   "id": "9f15ed6a-5ab7-4f57-9695-3f762781b74c",
   "metadata": {
    "execution": {
     "iopub.execute_input": "2022-04-22T03:33:00.535792Z",
     "iopub.status.busy": "2022-04-22T03:33:00.535325Z",
     "iopub.status.idle": "2022-04-22T03:33:00.539368Z",
     "shell.execute_reply": "2022-04-22T03:33:00.538768Z"
    },
    "jupyter": {
     "source_hidden": true
    },
    "papermill": {
     "duration": 0.025479,
     "end_time": "2022-04-22T03:33:00.541156",
     "exception": false,
     "start_time": "2022-04-22T03:33:00.515677",
     "status": "completed"
    },
    "tags": [
     "parameters",
     "remove_input"
    ]
   },
   "outputs": [],
   "source": [
    "## parameters cell\n",
    "itp_id = 135"
   ]
  },
  {
   "cell_type": "code",
   "execution_count": 3,
   "id": "c463edd9",
   "metadata": {
    "execution": {
     "iopub.execute_input": "2022-04-22T03:33:00.580001Z",
     "iopub.status.busy": "2022-04-22T03:33:00.579438Z",
     "iopub.status.idle": "2022-04-22T03:33:00.584198Z",
     "shell.execute_reply": "2022-04-22T03:33:00.583236Z"
    },
    "jupyter": {
     "source_hidden": true
    },
    "papermill": {
     "duration": 0.027195,
     "end_time": "2022-04-22T03:33:00.586090",
     "exception": false,
     "start_time": "2022-04-22T03:33:00.558895",
     "status": "completed"
    },
    "tags": [
     "injected-parameters",
     "remove_input"
    ]
   },
   "outputs": [],
   "source": [
    "# Parameters\n",
    "district = \"04 - Oakland\"\n",
    "itp_id = 218\n"
   ]
  },
  {
   "cell_type": "code",
   "execution_count": 4,
   "id": "6c2e9651-70e4-4403-b43d-da50315ef8fd",
   "metadata": {
    "execution": {
     "iopub.execute_input": "2022-04-22T03:33:00.623341Z",
     "iopub.status.busy": "2022-04-22T03:33:00.623057Z",
     "iopub.status.idle": "2022-04-22T03:33:02.428362Z",
     "shell.execute_reply": "2022-04-22T03:33:02.427335Z"
    },
    "jupyter": {
     "source_hidden": true
    },
    "papermill": {
     "duration": 1.827308,
     "end_time": "2022-04-22T03:33:02.431281",
     "exception": false,
     "start_time": "2022-04-22T03:33:00.603973",
     "status": "completed"
    },
    "tags": [
     "remove_input"
    ]
   },
   "outputs": [],
   "source": [
    "airtable_organizations = (\n",
    "    tbl.airtable.california_transit_organizations()\n",
    "    >> select(_.itp_id, _.name, _.caltrans_district,\n",
    "              _.website, _.ntp_id, _.drmt_organization_name)\n",
    "    >> filter(_.itp_id == itp_id)\n",
    "    >> collect()\n",
    ")"
   ]
  },
  {
   "cell_type": "code",
   "execution_count": 5,
   "id": "cc9c7000-4042-4f64-b7ef-8e8e5f1e706a",
   "metadata": {
    "execution": {
     "iopub.execute_input": "2022-04-22T03:33:02.469932Z",
     "iopub.status.busy": "2022-04-22T03:33:02.469605Z",
     "iopub.status.idle": "2022-04-22T03:33:02.475668Z",
     "shell.execute_reply": "2022-04-22T03:33:02.474630Z"
    },
    "jupyter": {
     "source_hidden": true
    },
    "papermill": {
     "duration": 0.02755,
     "end_time": "2022-04-22T03:33:02.478150",
     "exception": false,
     "start_time": "2022-04-22T03:33:02.450600",
     "status": "completed"
    },
    "tags": [
     "remove_input"
    ]
   },
   "outputs": [],
   "source": [
    "# airtable_organizations"
   ]
  },
  {
   "cell_type": "code",
   "execution_count": 6,
   "id": "306a7053-3fab-4723-a287-111e4eba11f2",
   "metadata": {
    "execution": {
     "iopub.execute_input": "2022-04-22T03:33:02.516009Z",
     "iopub.status.busy": "2022-04-22T03:33:02.515642Z",
     "iopub.status.idle": "2022-04-22T03:33:02.520941Z",
     "shell.execute_reply": "2022-04-22T03:33:02.519879Z"
    },
    "jupyter": {
     "source_hidden": true
    },
    "papermill": {
     "duration": 0.027274,
     "end_time": "2022-04-22T03:33:02.523504",
     "exception": false,
     "start_time": "2022-04-22T03:33:02.496230",
     "status": "completed"
    },
    "tags": [
     "remove_input"
    ]
   },
   "outputs": [],
   "source": [
    "analysis_date = dt.date(2022, 3, 30)\n",
    "if itp_id == 273:\n",
    "    analysis_date = dt.date(2022, 2, 8) # #override for SacRT "
   ]
  },
  {
   "cell_type": "code",
   "execution_count": 7,
   "id": "47c79d99-c82f-4e1e-b11e-2b1e83c13a1b",
   "metadata": {
    "execution": {
     "iopub.execute_input": "2022-04-22T03:33:02.561518Z",
     "iopub.status.busy": "2022-04-22T03:33:02.561230Z",
     "iopub.status.idle": "2022-04-22T03:33:02.569471Z",
     "shell.execute_reply": "2022-04-22T03:33:02.565821Z"
    },
    "jupyter": {
     "source_hidden": true
    },
    "papermill": {
     "duration": 0.030678,
     "end_time": "2022-04-22T03:33:02.571684",
     "exception": false,
     "start_time": "2022-04-22T03:33:02.541006",
     "status": "completed"
    },
    "tags": [
     "remove_input"
    ]
   },
   "outputs": [],
   "source": [
    "month_day = analysis_date.strftime('%m_%d')"
   ]
  },
  {
   "cell_type": "code",
   "execution_count": 8,
   "id": "1739d979-cd4d-456c-a1ad-a016cbf69cad",
   "metadata": {
    "execution": {
     "iopub.execute_input": "2022-04-22T03:33:02.616191Z",
     "iopub.status.busy": "2022-04-22T03:33:02.615361Z",
     "iopub.status.idle": "2022-04-22T03:33:03.067810Z",
     "shell.execute_reply": "2022-04-22T03:33:03.067187Z"
    },
    "jupyter": {
     "source_hidden": true
    },
    "papermill": {
     "duration": 0.478593,
     "end_time": "2022-04-22T03:33:03.070555",
     "exception": false,
     "start_time": "2022-04-22T03:33:02.591962",
     "status": "completed"
    },
    "tags": [
     "remove_input"
    ]
   },
   "outputs": [],
   "source": [
    "trips = pd.read_parquet(f'{utils.GCS_FILE_PATH}rt_trips/{itp_id}_{month_day}.parquet')"
   ]
  },
  {
   "cell_type": "code",
   "execution_count": 9,
   "id": "b77a9167-4017-4367-8fed-d4e6bf3999b9",
   "metadata": {
    "execution": {
     "iopub.execute_input": "2022-04-22T03:33:03.110479Z",
     "iopub.status.busy": "2022-04-22T03:33:03.109790Z",
     "iopub.status.idle": "2022-04-22T03:33:03.545353Z",
     "shell.execute_reply": "2022-04-22T03:33:03.544273Z"
    },
    "jupyter": {
     "source_hidden": true
    },
    "papermill": {
     "duration": 0.458376,
     "end_time": "2022-04-22T03:33:03.547831",
     "exception": false,
     "start_time": "2022-04-22T03:33:03.089455",
     "status": "completed"
    },
    "tags": [
     "remove_input"
    ]
   },
   "outputs": [],
   "source": [
    "stop_delay = gpd.read_parquet(f'{utils.GCS_FILE_PATH}stop_delay_views/{itp_id}_{month_day}.parquet')\n",
    "stop_delay['arrival_time'] = stop_delay.arrival_time.map(lambda x: dt.datetime.fromisoformat(x))\n",
    "stop_delay['actual_time'] = stop_delay.actual_time.map(lambda x: dt.datetime.fromisoformat(x))"
   ]
  },
  {
   "cell_type": "code",
   "execution_count": 10,
   "id": "2b2fe439-10af-4140-ab83-69b05c385b40",
   "metadata": {
    "execution": {
     "iopub.execute_input": "2022-04-22T03:33:03.587155Z",
     "iopub.status.busy": "2022-04-22T03:33:03.586834Z",
     "iopub.status.idle": "2022-04-22T03:33:07.961355Z",
     "shell.execute_reply": "2022-04-22T03:33:07.960231Z"
    },
    "jupyter": {
     "source_hidden": true
    },
    "papermill": {
     "duration": 4.398366,
     "end_time": "2022-04-22T03:33:07.964222",
     "exception": false,
     "start_time": "2022-04-22T03:33:03.565856",
     "status": "completed"
    },
    "tags": [
     "remove_input"
    ]
   },
   "outputs": [],
   "source": [
    "%%capture\n",
    "routelines = utils.get_routelines(itp_id, analysis_date)"
   ]
  },
  {
   "cell_type": "code",
   "execution_count": 11,
   "id": "e4cbefc6-9bbb-4989-85b7-1f31da17fcb8",
   "metadata": {
    "execution": {
     "iopub.execute_input": "2022-04-22T03:33:08.005984Z",
     "iopub.status.busy": "2022-04-22T03:33:08.005610Z",
     "iopub.status.idle": "2022-04-22T03:33:08.509662Z",
     "shell.execute_reply": "2022-04-22T03:33:08.508424Z"
    },
    "jupyter": {
     "source_hidden": true
    },
    "papermill": {
     "duration": 0.529505,
     "end_time": "2022-04-22T03:33:08.513509",
     "exception": false,
     "start_time": "2022-04-22T03:33:07.984004",
     "status": "completed"
    },
    "tags": [
     "remove_input"
    ]
   },
   "outputs": [],
   "source": [
    "%%capture\n",
    "rt_day = rt_filter_map_plot.RtFilterMapper(trips, stop_delay, routelines)"
   ]
  },
  {
   "cell_type": "code",
   "execution_count": 12,
   "id": "6c335d40-7a7b-4641-8a3d-c970b2823cdf",
   "metadata": {
    "execution": {
     "iopub.execute_input": "2022-04-22T03:33:08.559930Z",
     "iopub.status.busy": "2022-04-22T03:33:08.559055Z",
     "iopub.status.idle": "2022-04-22T03:33:08.568609Z",
     "shell.execute_reply": "2022-04-22T03:33:08.567805Z"
    },
    "jupyter": {
     "source_hidden": true
    },
    "papermill": {
     "duration": 0.035516,
     "end_time": "2022-04-22T03:33:08.571323",
     "exception": false,
     "start_time": "2022-04-22T03:33:08.535807",
     "status": "completed"
    },
    "tags": [
     "remove_input"
    ]
   },
   "outputs": [],
   "source": [
    "%%capture_parameters\n",
    "agency_name = rt_day.calitp_agency_name\n",
    "district = airtable_organizations.caltrans_district.iloc[0]\n",
    "agency_name, district"
   ]
  },
  {
   "cell_type": "markdown",
   "id": "52110155-d104-4043-8376-3f83e82a959a",
   "metadata": {
    "papermill": {
     "duration": 0.021672,
     "end_time": "2022-04-22T03:33:08.614750",
     "exception": false,
     "start_time": "2022-04-22T03:33:08.593078",
     "status": "completed"
    },
    "tags": []
   },
   "source": [
    "# Vine Transit"
   ]
  },
  {
   "cell_type": "markdown",
   "id": "7d5572cd-dd67-4e26-b100-a0e7472a4a17",
   "metadata": {
    "papermill": {
     "duration": 0.019369,
     "end_time": "2022-04-22T03:33:08.654039",
     "exception": false,
     "start_time": "2022-04-22T03:33:08.634670",
     "status": "completed"
    },
    "tags": []
   },
   "source": [
    "## About These Maps:\n",
    "\n",
    "* Each map shows bus (and rail, if applicable) speeds for Vine Transit, with a map each for the morning peak, midday, and afternoon peak periods.\n",
    "* On the map, routes are split into segments corresponding to the distance between two stops, allowing you to focus on specific portions of the route experiencing a slowdown.\n",
    "* Route segments are arrow-shaped to indicate direction of travel.\n",
    "* Hover over, or click, a segment with your mouse to see the exact speed, route name, and transit service frequency in that segment. \n",
    "    * Higher-frequency routes (3+ trips per hour) are especially important, since those slowdowns correspond to more vehicles, and riders, delayed in traffic."
   ]
  },
  {
   "cell_type": "code",
   "execution_count": 13,
   "id": "8e940d3d-c76e-42ba-be8b-739852771ca6",
   "metadata": {
    "execution": {
     "iopub.execute_input": "2022-04-22T03:33:08.697360Z",
     "iopub.status.busy": "2022-04-22T03:33:08.696678Z",
     "iopub.status.idle": "2022-04-22T03:33:08.701411Z",
     "shell.execute_reply": "2022-04-22T03:33:08.700751Z"
    },
    "jupyter": {
     "source_hidden": true
    },
    "papermill": {
     "duration": 0.028377,
     "end_time": "2022-04-22T03:33:08.703183",
     "exception": false,
     "start_time": "2022-04-22T03:33:08.674806",
     "status": "completed"
    },
    "tags": [
     "remove_input"
    ]
   },
   "outputs": [],
   "source": [
    "## avoid papermill errors when map fails to render\n",
    "m = None"
   ]
  },
  {
   "cell_type": "markdown",
   "id": "74fce4a9-514f-405d-9ce0-1cb1998a696b",
   "metadata": {
    "papermill": {
     "duration": 0.018861,
     "end_time": "2022-04-22T03:33:08.740651",
     "exception": false,
     "start_time": "2022-04-22T03:33:08.721790",
     "status": "completed"
    },
    "tags": []
   },
   "source": [
    "## Morning Peak"
   ]
  },
  {
   "cell_type": "code",
   "execution_count": 14,
   "id": "533a64f4-f374-4f2c-94d3-5146ebe7c036",
   "metadata": {
    "execution": {
     "iopub.execute_input": "2022-04-22T03:33:08.782076Z",
     "iopub.status.busy": "2022-04-22T03:33:08.781144Z",
     "iopub.status.idle": "2022-04-22T03:33:08.788259Z",
     "shell.execute_reply": "2022-04-22T03:33:08.787606Z"
    },
    "jupyter": {
     "source_hidden": true
    },
    "papermill": {
     "duration": 0.030694,
     "end_time": "2022-04-22T03:33:08.790185",
     "exception": false,
     "start_time": "2022-04-22T03:33:08.759491",
     "status": "completed"
    },
    "tags": [
     "remove_input"
    ]
   },
   "outputs": [],
   "source": [
    "%%capture\n",
    "rt_day.set_filter(start_time='06:00', end_time='09:00')"
   ]
  },
  {
   "cell_type": "code",
   "execution_count": 15,
   "id": "2f317120-99ee-435b-96cd-1236b8ee2e0b",
   "metadata": {
    "execution": {
     "iopub.execute_input": "2022-04-22T03:33:08.830859Z",
     "iopub.status.busy": "2022-04-22T03:33:08.830082Z",
     "iopub.status.idle": "2022-04-22T03:33:14.207181Z",
     "shell.execute_reply": "2022-04-22T03:33:14.206210Z"
    },
    "jupyter": {
     "source_hidden": true
    },
    "papermill": {
     "duration": 5.399993,
     "end_time": "2022-04-22T03:33:14.209405",
     "exception": false,
     "start_time": "2022-04-22T03:33:08.809412",
     "status": "completed"
    },
    "tags": [
     "remove_input"
    ]
   },
   "outputs": [],
   "source": [
    "%%capture\n",
    "m = rt_day.segment_speed_map(how='low_speeds', no_title=True)"
   ]
  },
  {
   "cell_type": "code",
   "execution_count": 16,
   "id": "275087be-b46d-4acb-95fe-2dc98c2089a2",
   "metadata": {
    "execution": {
     "iopub.execute_input": "2022-04-22T03:33:14.251669Z",
     "iopub.status.busy": "2022-04-22T03:33:14.250465Z",
     "iopub.status.idle": "2022-04-22T03:33:14.258802Z",
     "shell.execute_reply": "2022-04-22T03:33:14.258086Z"
    },
    "jupyter": {
     "source_hidden": true
    },
    "papermill": {
     "duration": 0.031624,
     "end_time": "2022-04-22T03:33:14.260898",
     "exception": false,
     "start_time": "2022-04-22T03:33:14.229274",
     "status": "completed"
    },
    "tags": [
     "remove_input"
    ]
   },
   "outputs": [],
   "source": [
    "m"
   ]
  },
  {
   "cell_type": "code",
   "execution_count": 17,
   "id": "b0cf9b97-7485-4f36-b5e8-124f22fa9661",
   "metadata": {
    "execution": {
     "iopub.execute_input": "2022-04-22T03:33:14.306138Z",
     "iopub.status.busy": "2022-04-22T03:33:14.305195Z",
     "iopub.status.idle": "2022-04-22T03:33:14.353154Z",
     "shell.execute_reply": "2022-04-22T03:33:14.351610Z"
    },
    "jupyter": {
     "source_hidden": true
    },
    "papermill": {
     "duration": 0.071372,
     "end_time": "2022-04-22T03:33:14.355386",
     "exception": false,
     "start_time": "2022-04-22T03:33:14.284014",
     "status": "completed"
    },
    "tags": [
     "remove_input"
    ]
   },
   "outputs": [
    {
     "data": {
      "text/markdown": [
       "AM Peak most delayed routes: \n",
       " * 21, Napa-Solano Express, Eastbound: 25.0 minutes late on average\n",
       " * 11X, Napa-Vallejo Express, Northbound: 4.0 minutes late on average\n",
       " * 11, Napa-Vallejo Connector, Northbound: 4.0 minutes late on average\n",
       " * 29, Napa-BART Express, Southbound: 3.0 minutes late on average\n",
       " * N, Trancas | North Napa, Eastbound: 3.0 minutes late on average"
      ],
      "text/plain": [
       "<IPython.core.display.Markdown object>"
      ]
     },
     "metadata": {},
     "output_type": "display_data"
    }
   ],
   "source": [
    "rt_day.describe_delayed_routes()"
   ]
  },
  {
   "cell_type": "markdown",
   "id": "3d263ba2-49ae-4e02-9d06-3181b03f51ba",
   "metadata": {
    "papermill": {
     "duration": 0.019795,
     "end_time": "2022-04-22T03:33:14.399355",
     "exception": false,
     "start_time": "2022-04-22T03:33:14.379560",
     "status": "completed"
    },
    "tags": []
   },
   "source": [
    "## Midday"
   ]
  },
  {
   "cell_type": "code",
   "execution_count": 18,
   "id": "f5344e63-89d2-43d6-9783-55a3061c99d2",
   "metadata": {
    "execution": {
     "iopub.execute_input": "2022-04-22T03:33:14.444390Z",
     "iopub.status.busy": "2022-04-22T03:33:14.444075Z",
     "iopub.status.idle": "2022-04-22T03:33:14.449993Z",
     "shell.execute_reply": "2022-04-22T03:33:14.449005Z"
    },
    "jupyter": {
     "source_hidden": true
    },
    "papermill": {
     "duration": 0.030836,
     "end_time": "2022-04-22T03:33:14.452465",
     "exception": false,
     "start_time": "2022-04-22T03:33:14.421629",
     "status": "completed"
    },
    "tags": [
     "remove_input"
    ]
   },
   "outputs": [],
   "source": [
    "%%capture\n",
    "rt_day.set_filter(start_time='10:00', end_time='14:00')"
   ]
  },
  {
   "cell_type": "code",
   "execution_count": 19,
   "id": "a4c40f3c-cf35-45d5-9d87-aa4701bed3aa",
   "metadata": {
    "execution": {
     "iopub.execute_input": "2022-04-22T03:33:14.497830Z",
     "iopub.status.busy": "2022-04-22T03:33:14.497504Z",
     "iopub.status.idle": "2022-04-22T03:33:18.798492Z",
     "shell.execute_reply": "2022-04-22T03:33:18.797759Z"
    },
    "jupyter": {
     "source_hidden": true
    },
    "papermill": {
     "duration": 4.32471,
     "end_time": "2022-04-22T03:33:18.800685",
     "exception": false,
     "start_time": "2022-04-22T03:33:14.475975",
     "status": "completed"
    },
    "tags": [
     "remove_input"
    ]
   },
   "outputs": [],
   "source": [
    "%%capture\n",
    "m = rt_day.segment_speed_map(how='low_speeds', no_title=True)"
   ]
  },
  {
   "cell_type": "code",
   "execution_count": 20,
   "id": "a78b7db5-f43f-4bf1-8036-ae972a87fc53",
   "metadata": {
    "execution": {
     "iopub.execute_input": "2022-04-22T03:33:18.847274Z",
     "iopub.status.busy": "2022-04-22T03:33:18.846577Z",
     "iopub.status.idle": "2022-04-22T03:33:18.851285Z",
     "shell.execute_reply": "2022-04-22T03:33:18.850671Z"
    },
    "jupyter": {
     "source_hidden": true
    },
    "papermill": {
     "duration": 0.030643,
     "end_time": "2022-04-22T03:33:18.853059",
     "exception": false,
     "start_time": "2022-04-22T03:33:18.822416",
     "status": "completed"
    },
    "tags": [
     "remove_input"
    ]
   },
   "outputs": [],
   "source": [
    "m"
   ]
  },
  {
   "cell_type": "code",
   "execution_count": 21,
   "id": "6c745570-b50f-4722-b943-2176444f7af6",
   "metadata": {
    "execution": {
     "iopub.execute_input": "2022-04-22T03:33:18.897233Z",
     "iopub.status.busy": "2022-04-22T03:33:18.896584Z",
     "iopub.status.idle": "2022-04-22T03:33:18.934673Z",
     "shell.execute_reply": "2022-04-22T03:33:18.933983Z"
    },
    "jupyter": {
     "source_hidden": true
    },
    "papermill": {
     "duration": 0.063028,
     "end_time": "2022-04-22T03:33:18.936606",
     "exception": false,
     "start_time": "2022-04-22T03:33:18.873578",
     "status": "completed"
    },
    "tags": [
     "remove_input"
    ]
   },
   "outputs": [
    {
     "data": {
      "text/markdown": [
       "Midday most delayed routes: \n",
       " * 21, Napa-Solano Express, Eastbound: 8.0 minutes late on average\n",
       " * 10, Up Valley Connector, Southbound: 5.0 minutes late on average\n",
       " * 29, Napa-BART Express, Northbound: 5.0 minutes late on average\n",
       " * 11, Napa-Vallejo Connector, Northbound: 4.0 minutes late on average\n",
       " * 11, Napa-Vallejo Connector, Southbound: 1.0 minutes late on average"
      ],
      "text/plain": [
       "<IPython.core.display.Markdown object>"
      ]
     },
     "metadata": {},
     "output_type": "display_data"
    }
   ],
   "source": [
    "rt_day.describe_delayed_routes()"
   ]
  },
  {
   "cell_type": "markdown",
   "id": "704f0788-b4a8-497d-b2aa-c7ac6df939f4",
   "metadata": {
    "papermill": {
     "duration": 0.026697,
     "end_time": "2022-04-22T03:33:18.985469",
     "exception": false,
     "start_time": "2022-04-22T03:33:18.958772",
     "status": "completed"
    },
    "tags": []
   },
   "source": [
    "## Afternoon Peak"
   ]
  },
  {
   "cell_type": "code",
   "execution_count": 22,
   "id": "923f1462-b34a-42d2-a632-c5eb3ac16ac6",
   "metadata": {
    "execution": {
     "iopub.execute_input": "2022-04-22T03:33:19.031348Z",
     "iopub.status.busy": "2022-04-22T03:33:19.031047Z",
     "iopub.status.idle": "2022-04-22T03:33:19.038775Z",
     "shell.execute_reply": "2022-04-22T03:33:19.037850Z"
    },
    "jupyter": {
     "source_hidden": true
    },
    "papermill": {
     "duration": 0.033668,
     "end_time": "2022-04-22T03:33:19.041291",
     "exception": false,
     "start_time": "2022-04-22T03:33:19.007623",
     "status": "completed"
    },
    "tags": [
     "remove_input"
    ]
   },
   "outputs": [],
   "source": [
    "%%capture\n",
    "rt_day.set_filter(start_time='15:00', end_time='19:00')"
   ]
  },
  {
   "cell_type": "code",
   "execution_count": 23,
   "id": "5e46b095-7bc2-4552-a37b-661d076b2b51",
   "metadata": {
    "execution": {
     "iopub.execute_input": "2022-04-22T03:33:19.088608Z",
     "iopub.status.busy": "2022-04-22T03:33:19.088307Z",
     "iopub.status.idle": "2022-04-22T03:33:22.967512Z",
     "shell.execute_reply": "2022-04-22T03:33:22.966790Z"
    },
    "jupyter": {
     "source_hidden": true
    },
    "papermill": {
     "duration": 3.905745,
     "end_time": "2022-04-22T03:33:22.969672",
     "exception": false,
     "start_time": "2022-04-22T03:33:19.063927",
     "status": "completed"
    },
    "tags": [
     "remove_input"
    ]
   },
   "outputs": [],
   "source": [
    "%%capture\n",
    "m = rt_day.segment_speed_map(how='low_speeds', no_title=True)"
   ]
  },
  {
   "cell_type": "code",
   "execution_count": 24,
   "id": "0393f107-e9fe-4982-961a-032f7bf4e0eb",
   "metadata": {
    "execution": {
     "iopub.execute_input": "2022-04-22T03:33:23.018419Z",
     "iopub.status.busy": "2022-04-22T03:33:23.017748Z",
     "iopub.status.idle": "2022-04-22T03:33:23.022557Z",
     "shell.execute_reply": "2022-04-22T03:33:23.021822Z"
    },
    "jupyter": {
     "source_hidden": true
    },
    "papermill": {
     "duration": 0.030258,
     "end_time": "2022-04-22T03:33:23.024508",
     "exception": false,
     "start_time": "2022-04-22T03:33:22.994250",
     "status": "completed"
    },
    "tags": [
     "remove_input"
    ]
   },
   "outputs": [],
   "source": [
    "m"
   ]
  },
  {
   "cell_type": "code",
   "execution_count": 25,
   "id": "76580953-2a2b-4295-a41c-20442eae883e",
   "metadata": {
    "execution": {
     "iopub.execute_input": "2022-04-22T03:33:23.074082Z",
     "iopub.status.busy": "2022-04-22T03:33:23.073177Z",
     "iopub.status.idle": "2022-04-22T03:33:23.116035Z",
     "shell.execute_reply": "2022-04-22T03:33:23.115301Z"
    },
    "jupyter": {
     "source_hidden": true
    },
    "papermill": {
     "duration": 0.070651,
     "end_time": "2022-04-22T03:33:23.117885",
     "exception": false,
     "start_time": "2022-04-22T03:33:23.047234",
     "status": "completed"
    },
    "tags": [
     "remove_input"
    ]
   },
   "outputs": [
    {
     "data": {
      "text/markdown": [
       "PM Peak most delayed routes: \n",
       " * 29, Napa-BART Express, Southbound: 14.0 minutes late on average\n",
       " * 10, Up Valley Connector, Southbound: 11.0 minutes late on average\n",
       " * 21, Napa-Solano Express, Eastbound: 5.0 minutes late on average\n",
       " * 21, Napa-Solano Express, Westbound: 4.0 minutes late on average\n",
       " * 11, Napa-Vallejo Connector, Southbound: 4.0 minutes late on average"
      ],
      "text/plain": [
       "<IPython.core.display.Markdown object>"
      ]
     },
     "metadata": {},
     "output_type": "display_data"
    }
   ],
   "source": [
    "rt_day.describe_delayed_routes()"
   ]
  },
  {
   "cell_type": "code",
   "execution_count": 26,
   "id": "91874f76-635b-4fde-8d61-abc795aca6c6",
   "metadata": {
    "execution": {
     "iopub.execute_input": "2022-04-22T03:33:23.169435Z",
     "iopub.status.busy": "2022-04-22T03:33:23.163771Z",
     "iopub.status.idle": "2022-04-22T03:33:23.196877Z",
     "shell.execute_reply": "2022-04-22T03:33:23.196193Z"
    },
    "jupyter": {
     "source_hidden": true
    },
    "papermill": {
     "duration": 0.059439,
     "end_time": "2022-04-22T03:33:23.199085",
     "exception": false,
     "start_time": "2022-04-22T03:33:23.139646",
     "status": "completed"
    },
    "tags": [
     "remove_input"
    ]
   },
   "outputs": [],
   "source": [
    "try:\n",
    "    metrics_df = (rt_day.rt_trips\n",
    "         >> group_by(_.route_short_name, _.direction_id)\n",
    "         >> summarize(speed_variance = _.mean_speed_mph.var(),\n",
    "                     mean_speed_mph = _.mean_speed_mph.mean(),\n",
    "                     min_hour = _.median_time.min().hour,\n",
    "                     max_hour = _.median_time.max().hour)\n",
    "         >> filter(_.min_hour <= 7, _.max_hour >= 15,\n",
    "                   _.mean_speed_mph < _.mean_speed_mph.quantile(.6),\n",
    "                   _.speed_variance)\n",
    "         >> arrange(-_.speed_variance)\n",
    "         >> head(20)\n",
    "        )\n",
    "except Exception as e:\n",
    "    pass\n",
    "    # print(e)\n",
    "## check that route has all-day span..."
   ]
  },
  {
   "cell_type": "code",
   "execution_count": 27,
   "id": "758b0bae-32d0-40dd-a1d1-1d107b0e7e8b",
   "metadata": {
    "execution": {
     "iopub.execute_input": "2022-04-22T03:33:23.246447Z",
     "iopub.status.busy": "2022-04-22T03:33:23.245541Z",
     "iopub.status.idle": "2022-04-22T03:33:23.253746Z",
     "shell.execute_reply": "2022-04-22T03:33:23.253185Z"
    },
    "jupyter": {
     "source_hidden": true
    },
    "papermill": {
     "duration": 0.034261,
     "end_time": "2022-04-22T03:33:23.255659",
     "exception": false,
     "start_time": "2022-04-22T03:33:23.221398",
     "status": "completed"
    },
    "tags": [
     "remove_input"
    ]
   },
   "outputs": [],
   "source": [
    "def map_from_metrics(rt_day, metrics_df):\n",
    "    try:\n",
    "        route_name = metrics_df.iloc[1,0]\n",
    "        direction_id = metrics_df.iloc[1,1]\n",
    "        # print(route_name, direction_id)\n",
    "    except Exception as e:\n",
    "        # print(e)\n",
    "        return\n",
    "    # route_name = '281'\n",
    "    # direction_id = '1'\n",
    "    rt_day.set_filter(start_time='06:00', end_time='09:00',\n",
    "                      route_names=[route_name], direction_id = direction_id)\n",
    "    try:\n",
    "        am_map = rt_day.segment_speed_map(how='low_speeds')\n",
    "        display(am_map)\n",
    "    except Exception as e:\n",
    "        # print(e)\n",
    "        pass\n",
    "    \n",
    "    rt_day.set_filter(start_time='10:00', end_time='14:00',\n",
    "                      route_names=[route_name], direction_id = direction_id)\n",
    "    try:\n",
    "        mid_map = rt_day.segment_speed_map(how='low_speeds')\n",
    "        display(mid_map)\n",
    "    except Exception as e:\n",
    "        # print(e)\n",
    "        pass\n",
    "\n",
    "    rt_day.set_filter(start_time='15:00', end_time='19:00',\n",
    "                      route_names=[route_name], direction_id = direction_id)\n",
    "    try:\n",
    "        pm_map = rt_day.segment_speed_map(how='low_speeds')\n",
    "        display(pm_map)\n",
    "    except Exception as e:\n",
    "        # print(e)\n",
    "        pass\n",
    "\n",
    "    return"
   ]
  },
  {
   "cell_type": "markdown",
   "id": "6ce187c8-c7bf-44f4-970e-b3abd69ddc38",
   "metadata": {
    "papermill": {
     "duration": 0.02308,
     "end_time": "2022-04-22T03:33:23.305431",
     "exception": false,
     "start_time": "2022-04-22T03:33:23.282351",
     "status": "completed"
    },
    "tags": []
   },
   "source": [
    "## Single-Route Detail Example"
   ]
  },
  {
   "cell_type": "code",
   "execution_count": 28,
   "id": "c7b4b043-6d15-4d9c-8aac-f0f6649e9552",
   "metadata": {
    "execution": {
     "iopub.execute_input": "2022-04-22T03:33:23.357916Z",
     "iopub.status.busy": "2022-04-22T03:33:23.356929Z",
     "iopub.status.idle": "2022-04-22T03:33:24.737524Z",
     "shell.execute_reply": "2022-04-22T03:33:24.736655Z"
    },
    "jupyter": {
     "source_hidden": true
    },
    "papermill": {
     "duration": 1.412646,
     "end_time": "2022-04-22T03:33:24.740205",
     "exception": false,
     "start_time": "2022-04-22T03:33:23.327559",
     "status": "completed"
    },
    "tags": [
     "remove_input"
    ]
   },
   "outputs": [],
   "source": [
    "try:\n",
    "    map_from_metrics(rt_day, metrics_df)\n",
    "except Exception as e:\n",
    "    # print(e)\n",
    "    pass"
   ]
  },
  {
   "cell_type": "code",
   "execution_count": null,
   "id": "a7d189cb-26d5-4a49-bf0f-2c33fd408f7e",
   "metadata": {
    "jupyter": {
     "source_hidden": true
    },
    "papermill": {
     "duration": 0.022102,
     "end_time": "2022-04-22T03:33:24.785043",
     "exception": false,
     "start_time": "2022-04-22T03:33:24.762941",
     "status": "completed"
    },
    "tags": [
     "remove_input"
    ]
   },
   "outputs": [],
   "source": []
  }
 ],
 "metadata": {
  "kernelspec": {
   "display_name": "Python 3 (ipykernel)",
   "language": "python",
   "name": "python3"
  },
  "language_info": {
   "codemirror_mode": {
    "name": "ipython",
    "version": 3
   },
   "file_extension": ".py",
   "mimetype": "text/x-python",
   "name": "python",
   "nbconvert_exporter": "python",
   "pygments_lexer": "ipython3",
   "version": "3.9.10"
  },
  "papermill": {
   "default_parameters": {},
   "duration": 35.71712,
   "end_time": "2022-04-22T03:33:26.334628",
   "environment_variables": {},
   "exception": null,
   "input_path": "rt_delay/speedmaps.ipynb",
   "output_path": "portfolio/rt/district_04-oakland/speedmaps__itp_id_218.ipynb",
   "parameters": {
    "district": "04 - Oakland",
    "itp_id": 218
   },
   "start_time": "2022-04-22T03:32:50.617508",
   "version": "2.3.4"
  }
 },
 "nbformat": 4,
 "nbformat_minor": 5
}