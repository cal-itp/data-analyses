version https://git-lfs.github.com/spec/v1
oid sha256:c3597955292b98de560140c6cfc88a4795a013821db72fac12f518fd5207b8d3
size 88587
