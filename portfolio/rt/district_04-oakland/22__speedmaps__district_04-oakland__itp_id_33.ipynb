version https://git-lfs.github.com/spec/v1
oid sha256:6e500a01d8013102b65fc175b2d1171bee8b165427da9764754f7544639fde60
size 57686
