version https://git-lfs.github.com/spec/v1
oid sha256:ffb6429967d77cac4930993415c8ac65e99451e3abc6ac65ff7e633d2b89a4f0
size 20419044
