version https://git-lfs.github.com/spec/v1
oid sha256:05a61c8b1bdb61baa81786a90e0038ec2cb6b3a2a8ef602489073e475d8fe69d
size 22146340
