version https://git-lfs.github.com/spec/v1
oid sha256:10ddce7af947a21cd3a82dad5f5c9b43ada618de74281f71f7bd0b9500ade12b
size 61250
