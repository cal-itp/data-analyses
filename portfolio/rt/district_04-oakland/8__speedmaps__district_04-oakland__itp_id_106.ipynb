version https://git-lfs.github.com/spec/v1
oid sha256:7f5fd21d563785dc2cbc311de7f7d7cc09349e55852f23602e29a1acbaa3cb02
size 69800
