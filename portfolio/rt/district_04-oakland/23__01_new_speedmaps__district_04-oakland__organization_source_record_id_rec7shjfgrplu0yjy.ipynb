version https://git-lfs.github.com/spec/v1
oid sha256:cf14294ab5a0b8248dd447213ab3142f67b725a6eb5390245353fbe77b1a0827
size 63528
