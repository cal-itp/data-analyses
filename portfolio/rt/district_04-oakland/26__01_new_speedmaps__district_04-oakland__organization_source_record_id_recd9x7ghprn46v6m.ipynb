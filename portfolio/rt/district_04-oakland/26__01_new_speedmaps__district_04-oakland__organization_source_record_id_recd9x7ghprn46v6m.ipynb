version https://git-lfs.github.com/spec/v1
oid sha256:b1f7e4d703968e3bb0270ac6d7b44b44b3e6c0949902fc1aefdf1871911ab167
size 57819
