version https://git-lfs.github.com/spec/v1
oid sha256:3772c87d05cc31e2cab4632a2afdb82a24261b85256738a7f7e6f9a0f19a79d2
size 60709
