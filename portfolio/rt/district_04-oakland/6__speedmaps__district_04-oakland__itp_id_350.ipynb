version https://git-lfs.github.com/spec/v1
oid sha256:17fd70cd466864ae5094da05e4b08ae89eda15eae03b19c3f3f971b7c2eb259a
size 24425425
