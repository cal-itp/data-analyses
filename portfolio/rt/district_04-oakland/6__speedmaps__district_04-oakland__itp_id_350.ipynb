version https://git-lfs.github.com/spec/v1
oid sha256:6c2e54677e66f3117047abba3085af9303c3003befc6f744bc628d616150ff6b
size 71042
