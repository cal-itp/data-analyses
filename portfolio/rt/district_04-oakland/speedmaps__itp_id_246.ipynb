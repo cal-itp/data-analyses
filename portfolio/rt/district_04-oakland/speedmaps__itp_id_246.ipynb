{
 "cells": [
  {
   "cell_type": "code",
   "execution_count": 1,
   "id": "46898b5c-b5cc-4096-ab68-8c3e42fab870",
   "metadata": {
    "execution": {
     "iopub.execute_input": "2022-04-22T02:59:54.045907Z",
     "iopub.status.busy": "2022-04-22T02:59:54.044826Z",
     "iopub.status.idle": "2022-04-22T03:00:02.542056Z",
     "shell.execute_reply": "2022-04-22T03:00:02.541139Z"
    },
    "jupyter": {
     "source_hidden": true
    },
    "papermill": {
     "duration": 8.520394,
     "end_time": "2022-04-22T03:00:02.544769",
     "exception": false,
     "start_time": "2022-04-22T02:59:54.024375",
     "status": "completed"
    },
    "tags": [
     "remove_input"
    ]
   },
   "outputs": [],
   "source": [
    "%%capture\n",
    "import warnings\n",
    "warnings.filterwarnings('ignore')\n",
    "\n",
    "import os\n",
    "os.environ[\"CALITP_BQ_MAX_BYTES\"] = str(800_000_000_000)\n",
    "import shared_utils\n",
    "import utils\n",
    "\n",
    "from calitp.tables import tbl\n",
    "from calitp import query_sql\n",
    "import calitp.magics\n",
    "\n",
    "from siuba import *\n",
    "import pandas as pd\n",
    "import geopandas as gpd\n",
    "\n",
    "import datetime as dt\n",
    "\n",
    "import importlib\n",
    "import rt_filter_map_plot\n",
    "\n",
    "from IPython.display import display, Markdown, Latex, HTML\n",
    "import json"
   ]
  },
  {
   "cell_type": "code",
   "execution_count": 2,
   "id": "9f15ed6a-5ab7-4f57-9695-3f762781b74c",
   "metadata": {
    "execution": {
     "iopub.execute_input": "2022-04-22T03:00:02.584322Z",
     "iopub.status.busy": "2022-04-22T03:00:02.583264Z",
     "iopub.status.idle": "2022-04-22T03:00:02.588413Z",
     "shell.execute_reply": "2022-04-22T03:00:02.587798Z"
    },
    "jupyter": {
     "source_hidden": true
    },
    "papermill": {
     "duration": 0.026754,
     "end_time": "2022-04-22T03:00:02.590369",
     "exception": false,
     "start_time": "2022-04-22T03:00:02.563615",
     "status": "completed"
    },
    "tags": [
     "parameters",
     "remove_input"
    ]
   },
   "outputs": [],
   "source": [
    "## parameters cell\n",
    "itp_id = 135"
   ]
  },
  {
   "cell_type": "code",
   "execution_count": 3,
   "id": "7d84f661",
   "metadata": {
    "execution": {
     "iopub.execute_input": "2022-04-22T03:00:02.627876Z",
     "iopub.status.busy": "2022-04-22T03:00:02.627337Z",
     "iopub.status.idle": "2022-04-22T03:00:02.631619Z",
     "shell.execute_reply": "2022-04-22T03:00:02.630945Z"
    },
    "jupyter": {
     "source_hidden": true
    },
    "papermill": {
     "duration": 0.02506,
     "end_time": "2022-04-22T03:00:02.633524",
     "exception": false,
     "start_time": "2022-04-22T03:00:02.608464",
     "status": "completed"
    },
    "tags": [
     "injected-parameters",
     "remove_input"
    ]
   },
   "outputs": [],
   "source": [
    "# Parameters\n",
    "district = \"04 - Oakland\"\n",
    "itp_id = 246\n"
   ]
  },
  {
   "cell_type": "code",
   "execution_count": 4,
   "id": "6c2e9651-70e4-4403-b43d-da50315ef8fd",
   "metadata": {
    "execution": {
     "iopub.execute_input": "2022-04-22T03:00:02.681151Z",
     "iopub.status.busy": "2022-04-22T03:00:02.680134Z",
     "iopub.status.idle": "2022-04-22T03:00:04.501940Z",
     "shell.execute_reply": "2022-04-22T03:00:04.500884Z"
    },
    "jupyter": {
     "source_hidden": true
    },
    "papermill": {
     "duration": 1.850827,
     "end_time": "2022-04-22T03:00:04.504420",
     "exception": false,
     "start_time": "2022-04-22T03:00:02.653593",
     "status": "completed"
    },
    "tags": [
     "remove_input"
    ]
   },
   "outputs": [],
   "source": [
    "airtable_organizations = (\n",
    "    tbl.airtable.california_transit_organizations()\n",
    "    >> select(_.itp_id, _.name, _.caltrans_district,\n",
    "              _.website, _.ntp_id, _.drmt_organization_name)\n",
    "    >> filter(_.itp_id == itp_id)\n",
    "    >> collect()\n",
    ")"
   ]
  },
  {
   "cell_type": "code",
   "execution_count": 5,
   "id": "cc9c7000-4042-4f64-b7ef-8e8e5f1e706a",
   "metadata": {
    "execution": {
     "iopub.execute_input": "2022-04-22T03:00:04.542338Z",
     "iopub.status.busy": "2022-04-22T03:00:04.542050Z",
     "iopub.status.idle": "2022-04-22T03:00:04.547572Z",
     "shell.execute_reply": "2022-04-22T03:00:04.546676Z"
    },
    "jupyter": {
     "source_hidden": true
    },
    "papermill": {
     "duration": 0.027315,
     "end_time": "2022-04-22T03:00:04.549783",
     "exception": false,
     "start_time": "2022-04-22T03:00:04.522468",
     "status": "completed"
    },
    "tags": [
     "remove_input"
    ]
   },
   "outputs": [],
   "source": [
    "# airtable_organizations"
   ]
  },
  {
   "cell_type": "code",
   "execution_count": 6,
   "id": "306a7053-3fab-4723-a287-111e4eba11f2",
   "metadata": {
    "execution": {
     "iopub.execute_input": "2022-04-22T03:00:04.588135Z",
     "iopub.status.busy": "2022-04-22T03:00:04.587826Z",
     "iopub.status.idle": "2022-04-22T03:00:04.593003Z",
     "shell.execute_reply": "2022-04-22T03:00:04.591861Z"
    },
    "jupyter": {
     "source_hidden": true
    },
    "papermill": {
     "duration": 0.027263,
     "end_time": "2022-04-22T03:00:04.595078",
     "exception": false,
     "start_time": "2022-04-22T03:00:04.567815",
     "status": "completed"
    },
    "tags": [
     "remove_input"
    ]
   },
   "outputs": [],
   "source": [
    "analysis_date = dt.date(2022, 3, 30)\n",
    "if itp_id == 273:\n",
    "    analysis_date = dt.date(2022, 2, 8) # #override for SacRT "
   ]
  },
  {
   "cell_type": "code",
   "execution_count": 7,
   "id": "47c79d99-c82f-4e1e-b11e-2b1e83c13a1b",
   "metadata": {
    "execution": {
     "iopub.execute_input": "2022-04-22T03:00:04.632342Z",
     "iopub.status.busy": "2022-04-22T03:00:04.632050Z",
     "iopub.status.idle": "2022-04-22T03:00:04.636125Z",
     "shell.execute_reply": "2022-04-22T03:00:04.635243Z"
    },
    "jupyter": {
     "source_hidden": true
    },
    "papermill": {
     "duration": 0.025229,
     "end_time": "2022-04-22T03:00:04.638130",
     "exception": false,
     "start_time": "2022-04-22T03:00:04.612901",
     "status": "completed"
    },
    "tags": [
     "remove_input"
    ]
   },
   "outputs": [],
   "source": [
    "month_day = analysis_date.strftime('%m_%d')"
   ]
  },
  {
   "cell_type": "code",
   "execution_count": 8,
   "id": "1739d979-cd4d-456c-a1ad-a016cbf69cad",
   "metadata": {
    "execution": {
     "iopub.execute_input": "2022-04-22T03:00:04.682890Z",
     "iopub.status.busy": "2022-04-22T03:00:04.682541Z",
     "iopub.status.idle": "2022-04-22T03:00:05.062706Z",
     "shell.execute_reply": "2022-04-22T03:00:05.062004Z"
    },
    "jupyter": {
     "source_hidden": true
    },
    "papermill": {
     "duration": 0.408787,
     "end_time": "2022-04-22T03:00:05.065309",
     "exception": false,
     "start_time": "2022-04-22T03:00:04.656522",
     "status": "completed"
    },
    "tags": [
     "remove_input"
    ]
   },
   "outputs": [],
   "source": [
    "trips = pd.read_parquet(f'{utils.GCS_FILE_PATH}rt_trips/{itp_id}_{month_day}.parquet')"
   ]
  },
  {
   "cell_type": "code",
   "execution_count": 9,
   "id": "b77a9167-4017-4367-8fed-d4e6bf3999b9",
   "metadata": {
    "execution": {
     "iopub.execute_input": "2022-04-22T03:00:05.105415Z",
     "iopub.status.busy": "2022-04-22T03:00:05.104960Z",
     "iopub.status.idle": "2022-04-22T03:00:05.493120Z",
     "shell.execute_reply": "2022-04-22T03:00:05.492127Z"
    },
    "jupyter": {
     "source_hidden": true
    },
    "papermill": {
     "duration": 0.410998,
     "end_time": "2022-04-22T03:00:05.496076",
     "exception": false,
     "start_time": "2022-04-22T03:00:05.085078",
     "status": "completed"
    },
    "tags": [
     "remove_input"
    ]
   },
   "outputs": [],
   "source": [
    "stop_delay = gpd.read_parquet(f'{utils.GCS_FILE_PATH}stop_delay_views/{itp_id}_{month_day}.parquet')\n",
    "stop_delay['arrival_time'] = stop_delay.arrival_time.map(lambda x: dt.datetime.fromisoformat(x))\n",
    "stop_delay['actual_time'] = stop_delay.actual_time.map(lambda x: dt.datetime.fromisoformat(x))"
   ]
  },
  {
   "cell_type": "code",
   "execution_count": 10,
   "id": "2b2fe439-10af-4140-ab83-69b05c385b40",
   "metadata": {
    "execution": {
     "iopub.execute_input": "2022-04-22T03:00:05.567753Z",
     "iopub.status.busy": "2022-04-22T03:00:05.567324Z",
     "iopub.status.idle": "2022-04-22T03:00:10.102555Z",
     "shell.execute_reply": "2022-04-22T03:00:10.101810Z"
    },
    "jupyter": {
     "source_hidden": true
    },
    "papermill": {
     "duration": 4.575985,
     "end_time": "2022-04-22T03:00:10.105119",
     "exception": false,
     "start_time": "2022-04-22T03:00:05.529134",
     "status": "completed"
    },
    "tags": [
     "remove_input"
    ]
   },
   "outputs": [],
   "source": [
    "%%capture\n",
    "routelines = utils.get_routelines(itp_id, analysis_date)"
   ]
  },
  {
   "cell_type": "code",
   "execution_count": 11,
   "id": "e4cbefc6-9bbb-4989-85b7-1f31da17fcb8",
   "metadata": {
    "execution": {
     "iopub.execute_input": "2022-04-22T03:00:10.144706Z",
     "iopub.status.busy": "2022-04-22T03:00:10.144181Z",
     "iopub.status.idle": "2022-04-22T03:00:10.381152Z",
     "shell.execute_reply": "2022-04-22T03:00:10.379936Z"
    },
    "jupyter": {
     "source_hidden": true
    },
    "papermill": {
     "duration": 0.260801,
     "end_time": "2022-04-22T03:00:10.384084",
     "exception": false,
     "start_time": "2022-04-22T03:00:10.123283",
     "status": "completed"
    },
    "tags": [
     "remove_input"
    ]
   },
   "outputs": [],
   "source": [
    "%%capture\n",
    "rt_day = rt_filter_map_plot.RtFilterMapper(trips, stop_delay, routelines)"
   ]
  },
  {
   "cell_type": "code",
   "execution_count": 12,
   "id": "6c335d40-7a7b-4641-8a3d-c970b2823cdf",
   "metadata": {
    "execution": {
     "iopub.execute_input": "2022-04-22T03:00:10.425941Z",
     "iopub.status.busy": "2022-04-22T03:00:10.424974Z",
     "iopub.status.idle": "2022-04-22T03:00:10.432058Z",
     "shell.execute_reply": "2022-04-22T03:00:10.431335Z"
    },
    "jupyter": {
     "source_hidden": true
    },
    "papermill": {
     "duration": 0.031067,
     "end_time": "2022-04-22T03:00:10.433831",
     "exception": false,
     "start_time": "2022-04-22T03:00:10.402764",
     "status": "completed"
    },
    "tags": [
     "remove_input"
    ]
   },
   "outputs": [],
   "source": [
    "%%capture_parameters\n",
    "agency_name = rt_day.calitp_agency_name\n",
    "district = airtable_organizations.caltrans_district.iloc[0]\n",
    "agency_name, district"
   ]
  },
  {
   "cell_type": "markdown",
   "id": "52110155-d104-4043-8376-3f83e82a959a",
   "metadata": {
    "papermill": {
     "duration": 0.020997,
     "end_time": "2022-04-22T03:00:10.473889",
     "exception": false,
     "start_time": "2022-04-22T03:00:10.452892",
     "status": "completed"
    },
    "tags": []
   },
   "source": [
    "# Caltrain"
   ]
  },
  {
   "cell_type": "markdown",
   "id": "7d5572cd-dd67-4e26-b100-a0e7472a4a17",
   "metadata": {
    "papermill": {
     "duration": 0.019067,
     "end_time": "2022-04-22T03:00:10.514762",
     "exception": false,
     "start_time": "2022-04-22T03:00:10.495695",
     "status": "completed"
    },
    "tags": []
   },
   "source": [
    "## About These Maps:\n",
    "\n",
    "* Each map shows bus (and rail, if applicable) speeds for Caltrain, with a map each for the morning peak, midday, and afternoon peak periods.\n",
    "* On the map, routes are split into segments corresponding to the distance between two stops, allowing you to focus on specific portions of the route experiencing a slowdown.\n",
    "* Route segments are arrow-shaped to indicate direction of travel.\n",
    "* Hover over, or click, a segment with your mouse to see the exact speed, route name, and transit service frequency in that segment. \n",
    "    * Higher-frequency routes (3+ trips per hour) are especially important, since those slowdowns correspond to more vehicles, and riders, delayed in traffic."
   ]
  },
  {
   "cell_type": "code",
   "execution_count": 13,
   "id": "8e940d3d-c76e-42ba-be8b-739852771ca6",
   "metadata": {
    "execution": {
     "iopub.execute_input": "2022-04-22T03:00:10.556704Z",
     "iopub.status.busy": "2022-04-22T03:00:10.555670Z",
     "iopub.status.idle": "2022-04-22T03:00:10.560970Z",
     "shell.execute_reply": "2022-04-22T03:00:10.560039Z"
    },
    "jupyter": {
     "source_hidden": true
    },
    "papermill": {
     "duration": 0.029357,
     "end_time": "2022-04-22T03:00:10.563339",
     "exception": false,
     "start_time": "2022-04-22T03:00:10.533982",
     "status": "completed"
    },
    "tags": [
     "remove_input"
    ]
   },
   "outputs": [],
   "source": [
    "## avoid papermill errors when map fails to render\n",
    "m = None"
   ]
  },
  {
   "cell_type": "markdown",
   "id": "74fce4a9-514f-405d-9ce0-1cb1998a696b",
   "metadata": {
    "papermill": {
     "duration": 0.018866,
     "end_time": "2022-04-22T03:00:10.603883",
     "exception": false,
     "start_time": "2022-04-22T03:00:10.585017",
     "status": "completed"
    },
    "tags": []
   },
   "source": [
    "## Morning Peak"
   ]
  },
  {
   "cell_type": "code",
   "execution_count": 14,
   "id": "533a64f4-f374-4f2c-94d3-5146ebe7c036",
   "metadata": {
    "execution": {
     "iopub.execute_input": "2022-04-22T03:00:10.643392Z",
     "iopub.status.busy": "2022-04-22T03:00:10.643084Z",
     "iopub.status.idle": "2022-04-22T03:00:10.650405Z",
     "shell.execute_reply": "2022-04-22T03:00:10.649790Z"
    },
    "jupyter": {
     "source_hidden": true
    },
    "papermill": {
     "duration": 0.029613,
     "end_time": "2022-04-22T03:00:10.652140",
     "exception": false,
     "start_time": "2022-04-22T03:00:10.622527",
     "status": "completed"
    },
    "tags": [
     "remove_input"
    ]
   },
   "outputs": [],
   "source": [
    "%%capture\n",
    "rt_day.set_filter(start_time='06:00', end_time='09:00')"
   ]
  },
  {
   "cell_type": "code",
   "execution_count": 15,
   "id": "2f317120-99ee-435b-96cd-1236b8ee2e0b",
   "metadata": {
    "execution": {
     "iopub.execute_input": "2022-04-22T03:00:10.697684Z",
     "iopub.status.busy": "2022-04-22T03:00:10.697202Z",
     "iopub.status.idle": "2022-04-22T03:00:14.098858Z",
     "shell.execute_reply": "2022-04-22T03:00:14.098044Z"
    },
    "jupyter": {
     "source_hidden": true
    },
    "papermill": {
     "duration": 3.425623,
     "end_time": "2022-04-22T03:00:14.100983",
     "exception": false,
     "start_time": "2022-04-22T03:00:10.675360",
     "status": "completed"
    },
    "tags": [
     "remove_input"
    ]
   },
   "outputs": [],
   "source": [
    "%%capture\n",
    "m = rt_day.segment_speed_map(how='low_speeds', no_title=True)"
   ]
  },
  {
   "cell_type": "code",
   "execution_count": 16,
   "id": "275087be-b46d-4acb-95fe-2dc98c2089a2",
   "metadata": {
    "execution": {
     "iopub.execute_input": "2022-04-22T03:00:14.143055Z",
     "iopub.status.busy": "2022-04-22T03:00:14.142305Z",
     "iopub.status.idle": "2022-04-22T03:00:14.150194Z",
     "shell.execute_reply": "2022-04-22T03:00:14.149159Z"
    },
    "jupyter": {
     "source_hidden": true
    },
    "papermill": {
     "duration": 0.031748,
     "end_time": "2022-04-22T03:00:14.152822",
     "exception": false,
     "start_time": "2022-04-22T03:00:14.121074",
     "status": "completed"
    },
    "tags": [
     "remove_input"
    ]
   },
   "outputs": [],
   "source": [
    "m"
   ]
  },
  {
   "cell_type": "code",
   "execution_count": 17,
   "id": "b0cf9b97-7485-4f36-b5e8-124f22fa9661",
   "metadata": {
    "execution": {
     "iopub.execute_input": "2022-04-22T03:00:14.201036Z",
     "iopub.status.busy": "2022-04-22T03:00:14.200690Z",
     "iopub.status.idle": "2022-04-22T03:00:14.248042Z",
     "shell.execute_reply": "2022-04-22T03:00:14.247318Z"
    },
    "jupyter": {
     "source_hidden": true
    },
    "papermill": {
     "duration": 0.071242,
     "end_time": "2022-04-22T03:00:14.250046",
     "exception": false,
     "start_time": "2022-04-22T03:00:14.178804",
     "status": "completed"
    },
    "tags": [
     "remove_input"
    ]
   },
   "outputs": [
    {
     "data": {
      "text/markdown": [
       "AM Peak most delayed routes: \n",
       " * L6, LTD 6, Northbound: 16.0 minutes late on average\n",
       " * L6, LTD 6, Northbound: 8.0 minutes late on average\n",
       " * L6, LTD 6, Northbound: 5.0 minutes late on average\n",
       " * L6, LTD 6, Southbound: 1.0 minutes late on average\n",
       " * L6, LTD 6, Southbound: 0.0 minutes late on average"
      ],
      "text/plain": [
       "<IPython.core.display.Markdown object>"
      ]
     },
     "metadata": {},
     "output_type": "display_data"
    }
   ],
   "source": [
    "rt_day.describe_delayed_routes()"
   ]
  },
  {
   "cell_type": "markdown",
   "id": "3d263ba2-49ae-4e02-9d06-3181b03f51ba",
   "metadata": {
    "papermill": {
     "duration": 0.023161,
     "end_time": "2022-04-22T03:00:14.304809",
     "exception": false,
     "start_time": "2022-04-22T03:00:14.281648",
     "status": "completed"
    },
    "tags": []
   },
   "source": [
    "## Midday"
   ]
  },
  {
   "cell_type": "code",
   "execution_count": 18,
   "id": "f5344e63-89d2-43d6-9783-55a3061c99d2",
   "metadata": {
    "execution": {
     "iopub.execute_input": "2022-04-22T03:00:14.354052Z",
     "iopub.status.busy": "2022-04-22T03:00:14.353207Z",
     "iopub.status.idle": "2022-04-22T03:00:14.360224Z",
     "shell.execute_reply": "2022-04-22T03:00:14.359293Z"
    },
    "jupyter": {
     "source_hidden": true
    },
    "papermill": {
     "duration": 0.03462,
     "end_time": "2022-04-22T03:00:14.362971",
     "exception": false,
     "start_time": "2022-04-22T03:00:14.328351",
     "status": "completed"
    },
    "tags": [
     "remove_input"
    ]
   },
   "outputs": [],
   "source": [
    "%%capture\n",
    "rt_day.set_filter(start_time='10:00', end_time='14:00')"
   ]
  },
  {
   "cell_type": "code",
   "execution_count": 19,
   "id": "a4c40f3c-cf35-45d5-9d87-aa4701bed3aa",
   "metadata": {
    "execution": {
     "iopub.execute_input": "2022-04-22T03:00:14.412317Z",
     "iopub.status.busy": "2022-04-22T03:00:14.412035Z",
     "iopub.status.idle": "2022-04-22T03:00:15.730286Z",
     "shell.execute_reply": "2022-04-22T03:00:15.729221Z"
    },
    "jupyter": {
     "source_hidden": true
    },
    "papermill": {
     "duration": 1.344511,
     "end_time": "2022-04-22T03:00:15.732475",
     "exception": false,
     "start_time": "2022-04-22T03:00:14.387964",
     "status": "completed"
    },
    "tags": [
     "remove_input"
    ]
   },
   "outputs": [],
   "source": [
    "%%capture\n",
    "m = rt_day.segment_speed_map(how='low_speeds', no_title=True)"
   ]
  },
  {
   "cell_type": "code",
   "execution_count": 20,
   "id": "a78b7db5-f43f-4bf1-8036-ae972a87fc53",
   "metadata": {
    "execution": {
     "iopub.execute_input": "2022-04-22T03:00:15.783570Z",
     "iopub.status.busy": "2022-04-22T03:00:15.782878Z",
     "iopub.status.idle": "2022-04-22T03:00:15.788360Z",
     "shell.execute_reply": "2022-04-22T03:00:15.787526Z"
    },
    "jupyter": {
     "source_hidden": true
    },
    "papermill": {
     "duration": 0.033682,
     "end_time": "2022-04-22T03:00:15.790853",
     "exception": false,
     "start_time": "2022-04-22T03:00:15.757171",
     "status": "completed"
    },
    "tags": [
     "remove_input"
    ]
   },
   "outputs": [],
   "source": [
    "m"
   ]
  },
  {
   "cell_type": "code",
   "execution_count": 21,
   "id": "6c745570-b50f-4722-b943-2176444f7af6",
   "metadata": {
    "execution": {
     "iopub.execute_input": "2022-04-22T03:00:15.835437Z",
     "iopub.status.busy": "2022-04-22T03:00:15.835155Z",
     "iopub.status.idle": "2022-04-22T03:00:15.877508Z",
     "shell.execute_reply": "2022-04-22T03:00:15.876441Z"
    },
    "jupyter": {
     "source_hidden": true
    },
    "papermill": {
     "duration": 0.067539,
     "end_time": "2022-04-22T03:00:15.880096",
     "exception": false,
     "start_time": "2022-04-22T03:00:15.812557",
     "status": "completed"
    },
    "tags": [
     "remove_input"
    ]
   },
   "outputs": [
    {
     "data": {
      "text/markdown": [
       "Midday most delayed routes: \n",
       " * L5, LTD 5, Southbound: 8.0 minutes late on average\n",
       " * L1, Local, Southbound: 5.0 minutes late on average\n",
       " * L1, Local, Northbound: 4.0 minutes late on average\n",
       " * L5, LTD 5, Northbound: 2.0 minutes late on average"
      ],
      "text/plain": [
       "<IPython.core.display.Markdown object>"
      ]
     },
     "metadata": {},
     "output_type": "display_data"
    }
   ],
   "source": [
    "rt_day.describe_delayed_routes()"
   ]
  },
  {
   "cell_type": "markdown",
   "id": "704f0788-b4a8-497d-b2aa-c7ac6df939f4",
   "metadata": {
    "papermill": {
     "duration": 0.023053,
     "end_time": "2022-04-22T03:00:15.925322",
     "exception": false,
     "start_time": "2022-04-22T03:00:15.902269",
     "status": "completed"
    },
    "tags": []
   },
   "source": [
    "## Afternoon Peak"
   ]
  },
  {
   "cell_type": "code",
   "execution_count": 22,
   "id": "923f1462-b34a-42d2-a632-c5eb3ac16ac6",
   "metadata": {
    "execution": {
     "iopub.execute_input": "2022-04-22T03:00:15.976449Z",
     "iopub.status.busy": "2022-04-22T03:00:15.976170Z",
     "iopub.status.idle": "2022-04-22T03:00:15.982055Z",
     "shell.execute_reply": "2022-04-22T03:00:15.981113Z"
    },
    "jupyter": {
     "source_hidden": true
    },
    "papermill": {
     "duration": 0.033402,
     "end_time": "2022-04-22T03:00:15.985322",
     "exception": false,
     "start_time": "2022-04-22T03:00:15.951920",
     "status": "completed"
    },
    "tags": [
     "remove_input"
    ]
   },
   "outputs": [],
   "source": [
    "%%capture\n",
    "rt_day.set_filter(start_time='15:00', end_time='19:00')"
   ]
  },
  {
   "cell_type": "code",
   "execution_count": 23,
   "id": "5e46b095-7bc2-4552-a37b-661d076b2b51",
   "metadata": {
    "execution": {
     "iopub.execute_input": "2022-04-22T03:00:16.034748Z",
     "iopub.status.busy": "2022-04-22T03:00:16.034364Z",
     "iopub.status.idle": "2022-04-22T03:00:18.106413Z",
     "shell.execute_reply": "2022-04-22T03:00:18.105781Z"
    },
    "jupyter": {
     "source_hidden": true
    },
    "papermill": {
     "duration": 2.097943,
     "end_time": "2022-04-22T03:00:18.108327",
     "exception": false,
     "start_time": "2022-04-22T03:00:16.010384",
     "status": "completed"
    },
    "tags": [
     "remove_input"
    ]
   },
   "outputs": [],
   "source": [
    "%%capture\n",
    "m = rt_day.segment_speed_map(how='low_speeds', no_title=True)"
   ]
  },
  {
   "cell_type": "code",
   "execution_count": 24,
   "id": "0393f107-e9fe-4982-961a-032f7bf4e0eb",
   "metadata": {
    "execution": {
     "iopub.execute_input": "2022-04-22T03:00:18.155544Z",
     "iopub.status.busy": "2022-04-22T03:00:18.154963Z",
     "iopub.status.idle": "2022-04-22T03:00:18.159258Z",
     "shell.execute_reply": "2022-04-22T03:00:18.158524Z"
    },
    "jupyter": {
     "source_hidden": true
    },
    "papermill": {
     "duration": 0.029274,
     "end_time": "2022-04-22T03:00:18.161147",
     "exception": false,
     "start_time": "2022-04-22T03:00:18.131873",
     "status": "completed"
    },
    "tags": [
     "remove_input"
    ]
   },
   "outputs": [],
   "source": [
    "m"
   ]
  },
  {
   "cell_type": "code",
   "execution_count": 25,
   "id": "76580953-2a2b-4295-a41c-20442eae883e",
   "metadata": {
    "execution": {
     "iopub.execute_input": "2022-04-22T03:00:18.213304Z",
     "iopub.status.busy": "2022-04-22T03:00:18.212696Z",
     "iopub.status.idle": "2022-04-22T03:00:18.251315Z",
     "shell.execute_reply": "2022-04-22T03:00:18.250578Z"
    },
    "jupyter": {
     "source_hidden": true
    },
    "papermill": {
     "duration": 0.064657,
     "end_time": "2022-04-22T03:00:18.253232",
     "exception": false,
     "start_time": "2022-04-22T03:00:18.188575",
     "status": "completed"
    },
    "tags": [
     "remove_input"
    ]
   },
   "outputs": [
    {
     "data": {
      "text/markdown": [
       "PM Peak most delayed routes: \n",
       " * L6, LTD 6, Southbound: 6.0 minutes late on average\n",
       " * L1, Local, Southbound: 6.0 minutes late on average\n",
       " * L6, LTD 6, Northbound: 4.0 minutes late on average\n",
       " * L6, LTD 6, Northbound: 3.0 minutes late on average\n",
       " * L6, LTD 6, Southbound: 2.0 minutes late on average"
      ],
      "text/plain": [
       "<IPython.core.display.Markdown object>"
      ]
     },
     "metadata": {},
     "output_type": "display_data"
    }
   ],
   "source": [
    "rt_day.describe_delayed_routes()"
   ]
  },
  {
   "cell_type": "code",
   "execution_count": 26,
   "id": "91874f76-635b-4fde-8d61-abc795aca6c6",
   "metadata": {
    "execution": {
     "iopub.execute_input": "2022-04-22T03:00:18.302955Z",
     "iopub.status.busy": "2022-04-22T03:00:18.302381Z",
     "iopub.status.idle": "2022-04-22T03:00:18.326021Z",
     "shell.execute_reply": "2022-04-22T03:00:18.325382Z"
    },
    "jupyter": {
     "source_hidden": true
    },
    "papermill": {
     "duration": 0.049154,
     "end_time": "2022-04-22T03:00:18.328086",
     "exception": false,
     "start_time": "2022-04-22T03:00:18.278932",
     "status": "completed"
    },
    "tags": [
     "remove_input"
    ]
   },
   "outputs": [],
   "source": [
    "try:\n",
    "    metrics_df = (rt_day.rt_trips\n",
    "         >> group_by(_.route_short_name, _.direction_id)\n",
    "         >> summarize(speed_variance = _.mean_speed_mph.var(),\n",
    "                     mean_speed_mph = _.mean_speed_mph.mean(),\n",
    "                     min_hour = _.median_time.min().hour,\n",
    "                     max_hour = _.median_time.max().hour)\n",
    "         >> filter(_.min_hour <= 7, _.max_hour >= 15,\n",
    "                   _.mean_speed_mph < _.mean_speed_mph.quantile(.6),\n",
    "                   _.speed_variance)\n",
    "         >> arrange(-_.speed_variance)\n",
    "         >> head(20)\n",
    "        )\n",
    "except Exception as e:\n",
    "    pass\n",
    "    # print(e)\n",
    "## check that route has all-day span..."
   ]
  },
  {
   "cell_type": "code",
   "execution_count": 27,
   "id": "758b0bae-32d0-40dd-a1d1-1d107b0e7e8b",
   "metadata": {
    "execution": {
     "iopub.execute_input": "2022-04-22T03:00:18.376771Z",
     "iopub.status.busy": "2022-04-22T03:00:18.376193Z",
     "iopub.status.idle": "2022-04-22T03:00:18.384279Z",
     "shell.execute_reply": "2022-04-22T03:00:18.383554Z"
    },
    "jupyter": {
     "source_hidden": true
    },
    "papermill": {
     "duration": 0.036235,
     "end_time": "2022-04-22T03:00:18.386443",
     "exception": false,
     "start_time": "2022-04-22T03:00:18.350208",
     "status": "completed"
    },
    "tags": [
     "remove_input"
    ]
   },
   "outputs": [],
   "source": [
    "def map_from_metrics(rt_day, metrics_df):\n",
    "    try:\n",
    "        route_name = metrics_df.iloc[1,0]\n",
    "        direction_id = metrics_df.iloc[1,1]\n",
    "        # print(route_name, direction_id)\n",
    "    except Exception as e:\n",
    "        # print(e)\n",
    "        return\n",
    "    # route_name = '281'\n",
    "    # direction_id = '1'\n",
    "    rt_day.set_filter(start_time='06:00', end_time='09:00',\n",
    "                      route_names=[route_name], direction_id = direction_id)\n",
    "    try:\n",
    "        am_map = rt_day.segment_speed_map(how='low_speeds')\n",
    "        display(am_map)\n",
    "    except Exception as e:\n",
    "        # print(e)\n",
    "        pass\n",
    "    \n",
    "    rt_day.set_filter(start_time='10:00', end_time='14:00',\n",
    "                      route_names=[route_name], direction_id = direction_id)\n",
    "    try:\n",
    "        mid_map = rt_day.segment_speed_map(how='low_speeds')\n",
    "        display(mid_map)\n",
    "    except Exception as e:\n",
    "        # print(e)\n",
    "        pass\n",
    "\n",
    "    rt_day.set_filter(start_time='15:00', end_time='19:00',\n",
    "                      route_names=[route_name], direction_id = direction_id)\n",
    "    try:\n",
    "        pm_map = rt_day.segment_speed_map(how='low_speeds')\n",
    "        display(pm_map)\n",
    "    except Exception as e:\n",
    "        # print(e)\n",
    "        pass\n",
    "\n",
    "    return"
   ]
  },
  {
   "cell_type": "markdown",
   "id": "6ce187c8-c7bf-44f4-970e-b3abd69ddc38",
   "metadata": {
    "papermill": {
     "duration": 0.023726,
     "end_time": "2022-04-22T03:00:18.432796",
     "exception": false,
     "start_time": "2022-04-22T03:00:18.409070",
     "status": "completed"
    },
    "tags": []
   },
   "source": [
    "## Single-Route Detail Example"
   ]
  },
  {
   "cell_type": "code",
   "execution_count": 28,
   "id": "c7b4b043-6d15-4d9c-8aac-f0f6649e9552",
   "metadata": {
    "execution": {
     "iopub.execute_input": "2022-04-22T03:00:18.480545Z",
     "iopub.status.busy": "2022-04-22T03:00:18.479980Z",
     "iopub.status.idle": "2022-04-22T03:00:19.723827Z",
     "shell.execute_reply": "2022-04-22T03:00:19.723126Z"
    },
    "jupyter": {
     "source_hidden": true
    },
    "papermill": {
     "duration": 1.270876,
     "end_time": "2022-04-22T03:00:19.725958",
     "exception": false,
     "start_time": "2022-04-22T03:00:18.455082",
     "status": "completed"
    },
    "tags": [
     "remove_input"
    ]
   },
   "outputs": [],
   "source": [
    "try:\n",
    "    map_from_metrics(rt_day, metrics_df)\n",
    "except Exception as e:\n",
    "    # print(e)\n",
    "    pass"
   ]
  },
  {
   "cell_type": "code",
   "execution_count": null,
   "id": "a7d189cb-26d5-4a49-bf0f-2c33fd408f7e",
   "metadata": {
    "jupyter": {
     "source_hidden": true
    },
    "papermill": {
     "duration": 0.022568,
     "end_time": "2022-04-22T03:00:19.772422",
     "exception": false,
     "start_time": "2022-04-22T03:00:19.749854",
     "status": "completed"
    },
    "tags": [
     "remove_input"
    ]
   },
   "outputs": [],
   "source": []
  }
 ],
 "metadata": {
  "kernelspec": {
   "display_name": "Python 3 (ipykernel)",
   "language": "python",
   "name": "python3"
  },
  "language_info": {
   "codemirror_mode": {
    "name": "ipython",
    "version": 3
   },
   "file_extension": ".py",
   "mimetype": "text/x-python",
   "name": "python",
   "nbconvert_exporter": "python",
   "pygments_lexer": "ipython3",
   "version": "3.9.10"
  },
  "papermill": {
   "default_parameters": {},
   "duration": 28.473125,
   "end_time": "2022-04-22T03:00:21.319871",
   "environment_variables": {},
   "exception": null,
   "input_path": "rt_delay/speedmaps.ipynb",
   "output_path": "portfolio/rt/district_04-oakland/speedmaps__itp_id_246.ipynb",
   "parameters": {
    "district": "04 - Oakland",
    "itp_id": 246
   },
   "start_time": "2022-04-22T02:59:52.846746",
   "version": "2.3.4"
  }
 },
 "nbformat": 4,
 "nbformat_minor": 5
}