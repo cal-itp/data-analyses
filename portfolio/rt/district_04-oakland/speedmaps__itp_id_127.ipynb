{
 "cells": [
  {
   "cell_type": "code",
   "execution_count": 1,
   "id": "46898b5c-b5cc-4096-ab68-8c3e42fab870",
   "metadata": {
    "execution": {
     "iopub.execute_input": "2022-04-22T03:23:15.035908Z",
     "iopub.status.busy": "2022-04-22T03:23:15.035530Z",
     "iopub.status.idle": "2022-04-22T03:23:23.720865Z",
     "shell.execute_reply": "2022-04-22T03:23:23.719879Z"
    },
    "jupyter": {
     "source_hidden": true
    },
    "papermill": {
     "duration": 8.70879,
     "end_time": "2022-04-22T03:23:23.723327",
     "exception": false,
     "start_time": "2022-04-22T03:23:15.014537",
     "status": "completed"
    },
    "tags": [
     "remove_input"
    ]
   },
   "outputs": [],
   "source": [
    "%%capture\n",
    "import warnings\n",
    "warnings.filterwarnings('ignore')\n",
    "\n",
    "import os\n",
    "os.environ[\"CALITP_BQ_MAX_BYTES\"] = str(800_000_000_000)\n",
    "import shared_utils\n",
    "import utils\n",
    "\n",
    "from calitp.tables import tbl\n",
    "from calitp import query_sql\n",
    "import calitp.magics\n",
    "\n",
    "from siuba import *\n",
    "import pandas as pd\n",
    "import geopandas as gpd\n",
    "\n",
    "import datetime as dt\n",
    "\n",
    "import importlib\n",
    "import rt_filter_map_plot\n",
    "\n",
    "from IPython.display import display, Markdown, Latex, HTML\n",
    "import json"
   ]
  },
  {
   "cell_type": "code",
   "execution_count": 2,
   "id": "9f15ed6a-5ab7-4f57-9695-3f762781b74c",
   "metadata": {
    "execution": {
     "iopub.execute_input": "2022-04-22T03:23:23.762859Z",
     "iopub.status.busy": "2022-04-22T03:23:23.762556Z",
     "iopub.status.idle": "2022-04-22T03:23:23.769269Z",
     "shell.execute_reply": "2022-04-22T03:23:23.765630Z"
    },
    "jupyter": {
     "source_hidden": true
    },
    "papermill": {
     "duration": 0.030333,
     "end_time": "2022-04-22T03:23:23.771205",
     "exception": false,
     "start_time": "2022-04-22T03:23:23.740872",
     "status": "completed"
    },
    "tags": [
     "parameters",
     "remove_input"
    ]
   },
   "outputs": [],
   "source": [
    "## parameters cell\n",
    "itp_id = 135"
   ]
  },
  {
   "cell_type": "code",
   "execution_count": 3,
   "id": "a80d6557",
   "metadata": {
    "execution": {
     "iopub.execute_input": "2022-04-22T03:23:23.808084Z",
     "iopub.status.busy": "2022-04-22T03:23:23.807367Z",
     "iopub.status.idle": "2022-04-22T03:23:23.812230Z",
     "shell.execute_reply": "2022-04-22T03:23:23.811645Z"
    },
    "jupyter": {
     "source_hidden": true
    },
    "papermill": {
     "duration": 0.025999,
     "end_time": "2022-04-22T03:23:23.813982",
     "exception": false,
     "start_time": "2022-04-22T03:23:23.787983",
     "status": "completed"
    },
    "tags": [
     "injected-parameters",
     "remove_input"
    ]
   },
   "outputs": [],
   "source": [
    "# Parameters\n",
    "district = \"04 - Oakland\"\n",
    "itp_id = 127\n"
   ]
  },
  {
   "cell_type": "code",
   "execution_count": 4,
   "id": "6c2e9651-70e4-4403-b43d-da50315ef8fd",
   "metadata": {
    "execution": {
     "iopub.execute_input": "2022-04-22T03:23:23.852421Z",
     "iopub.status.busy": "2022-04-22T03:23:23.851596Z",
     "iopub.status.idle": "2022-04-22T03:23:25.783971Z",
     "shell.execute_reply": "2022-04-22T03:23:25.783043Z"
    },
    "jupyter": {
     "source_hidden": true
    },
    "papermill": {
     "duration": 1.954333,
     "end_time": "2022-04-22T03:23:25.786234",
     "exception": false,
     "start_time": "2022-04-22T03:23:23.831901",
     "status": "completed"
    },
    "tags": [
     "remove_input"
    ]
   },
   "outputs": [],
   "source": [
    "airtable_organizations = (\n",
    "    tbl.airtable.california_transit_organizations()\n",
    "    >> select(_.itp_id, _.name, _.caltrans_district,\n",
    "              _.website, _.ntp_id, _.drmt_organization_name)\n",
    "    >> filter(_.itp_id == itp_id)\n",
    "    >> collect()\n",
    ")"
   ]
  },
  {
   "cell_type": "code",
   "execution_count": 5,
   "id": "cc9c7000-4042-4f64-b7ef-8e8e5f1e706a",
   "metadata": {
    "execution": {
     "iopub.execute_input": "2022-04-22T03:23:25.826668Z",
     "iopub.status.busy": "2022-04-22T03:23:25.825760Z",
     "iopub.status.idle": "2022-04-22T03:23:25.830359Z",
     "shell.execute_reply": "2022-04-22T03:23:25.829661Z"
    },
    "jupyter": {
     "source_hidden": true
    },
    "papermill": {
     "duration": 0.026488,
     "end_time": "2022-04-22T03:23:25.832175",
     "exception": false,
     "start_time": "2022-04-22T03:23:25.805687",
     "status": "completed"
    },
    "tags": [
     "remove_input"
    ]
   },
   "outputs": [],
   "source": [
    "# airtable_organizations"
   ]
  },
  {
   "cell_type": "code",
   "execution_count": 6,
   "id": "306a7053-3fab-4723-a287-111e4eba11f2",
   "metadata": {
    "execution": {
     "iopub.execute_input": "2022-04-22T03:23:25.870516Z",
     "iopub.status.busy": "2022-04-22T03:23:25.869638Z",
     "iopub.status.idle": "2022-04-22T03:23:25.874487Z",
     "shell.execute_reply": "2022-04-22T03:23:25.873651Z"
    },
    "jupyter": {
     "source_hidden": true
    },
    "papermill": {
     "duration": 0.025918,
     "end_time": "2022-04-22T03:23:25.876358",
     "exception": false,
     "start_time": "2022-04-22T03:23:25.850440",
     "status": "completed"
    },
    "tags": [
     "remove_input"
    ]
   },
   "outputs": [],
   "source": [
    "analysis_date = dt.date(2022, 3, 30)\n",
    "if itp_id == 273:\n",
    "    analysis_date = dt.date(2022, 2, 8) # #override for SacRT "
   ]
  },
  {
   "cell_type": "code",
   "execution_count": 7,
   "id": "47c79d99-c82f-4e1e-b11e-2b1e83c13a1b",
   "metadata": {
    "execution": {
     "iopub.execute_input": "2022-04-22T03:23:25.914108Z",
     "iopub.status.busy": "2022-04-22T03:23:25.913168Z",
     "iopub.status.idle": "2022-04-22T03:23:25.917959Z",
     "shell.execute_reply": "2022-04-22T03:23:25.917240Z"
    },
    "jupyter": {
     "source_hidden": true
    },
    "papermill": {
     "duration": 0.025942,
     "end_time": "2022-04-22T03:23:25.920030",
     "exception": false,
     "start_time": "2022-04-22T03:23:25.894088",
     "status": "completed"
    },
    "tags": [
     "remove_input"
    ]
   },
   "outputs": [],
   "source": [
    "month_day = analysis_date.strftime('%m_%d')"
   ]
  },
  {
   "cell_type": "code",
   "execution_count": 8,
   "id": "1739d979-cd4d-456c-a1ad-a016cbf69cad",
   "metadata": {
    "execution": {
     "iopub.execute_input": "2022-04-22T03:23:25.959014Z",
     "iopub.status.busy": "2022-04-22T03:23:25.958022Z",
     "iopub.status.idle": "2022-04-22T03:23:26.338210Z",
     "shell.execute_reply": "2022-04-22T03:23:26.337308Z"
    },
    "jupyter": {
     "source_hidden": true
    },
    "papermill": {
     "duration": 0.402453,
     "end_time": "2022-04-22T03:23:26.340854",
     "exception": false,
     "start_time": "2022-04-22T03:23:25.938401",
     "status": "completed"
    },
    "tags": [
     "remove_input"
    ]
   },
   "outputs": [],
   "source": [
    "trips = pd.read_parquet(f'{utils.GCS_FILE_PATH}rt_trips/{itp_id}_{month_day}.parquet')"
   ]
  },
  {
   "cell_type": "code",
   "execution_count": 9,
   "id": "b77a9167-4017-4367-8fed-d4e6bf3999b9",
   "metadata": {
    "execution": {
     "iopub.execute_input": "2022-04-22T03:23:26.381571Z",
     "iopub.status.busy": "2022-04-22T03:23:26.380640Z",
     "iopub.status.idle": "2022-04-22T03:23:26.826630Z",
     "shell.execute_reply": "2022-04-22T03:23:26.825743Z"
    },
    "jupyter": {
     "source_hidden": true
    },
    "papermill": {
     "duration": 0.469062,
     "end_time": "2022-04-22T03:23:26.828942",
     "exception": false,
     "start_time": "2022-04-22T03:23:26.359880",
     "status": "completed"
    },
    "tags": [
     "remove_input"
    ]
   },
   "outputs": [],
   "source": [
    "stop_delay = gpd.read_parquet(f'{utils.GCS_FILE_PATH}stop_delay_views/{itp_id}_{month_day}.parquet')\n",
    "stop_delay['arrival_time'] = stop_delay.arrival_time.map(lambda x: dt.datetime.fromisoformat(x))\n",
    "stop_delay['actual_time'] = stop_delay.actual_time.map(lambda x: dt.datetime.fromisoformat(x))"
   ]
  },
  {
   "cell_type": "code",
   "execution_count": 10,
   "id": "2b2fe439-10af-4140-ab83-69b05c385b40",
   "metadata": {
    "execution": {
     "iopub.execute_input": "2022-04-22T03:23:26.868964Z",
     "iopub.status.busy": "2022-04-22T03:23:26.868630Z",
     "iopub.status.idle": "2022-04-22T03:23:33.456588Z",
     "shell.execute_reply": "2022-04-22T03:23:33.455759Z"
    },
    "jupyter": {
     "source_hidden": true
    },
    "papermill": {
     "duration": 6.612341,
     "end_time": "2022-04-22T03:23:33.459447",
     "exception": false,
     "start_time": "2022-04-22T03:23:26.847106",
     "status": "completed"
    },
    "tags": [
     "remove_input"
    ]
   },
   "outputs": [],
   "source": [
    "%%capture\n",
    "routelines = utils.get_routelines(itp_id, analysis_date)"
   ]
  },
  {
   "cell_type": "code",
   "execution_count": 11,
   "id": "e4cbefc6-9bbb-4989-85b7-1f31da17fcb8",
   "metadata": {
    "execution": {
     "iopub.execute_input": "2022-04-22T03:23:33.499021Z",
     "iopub.status.busy": "2022-04-22T03:23:33.498496Z",
     "iopub.status.idle": "2022-04-22T03:23:34.233669Z",
     "shell.execute_reply": "2022-04-22T03:23:34.232901Z"
    },
    "jupyter": {
     "source_hidden": true
    },
    "papermill": {
     "duration": 0.75811,
     "end_time": "2022-04-22T03:23:34.235807",
     "exception": false,
     "start_time": "2022-04-22T03:23:33.477697",
     "status": "completed"
    },
    "tags": [
     "remove_input"
    ]
   },
   "outputs": [],
   "source": [
    "%%capture\n",
    "rt_day = rt_filter_map_plot.RtFilterMapper(trips, stop_delay, routelines)"
   ]
  },
  {
   "cell_type": "code",
   "execution_count": 12,
   "id": "6c335d40-7a7b-4641-8a3d-c970b2823cdf",
   "metadata": {
    "execution": {
     "iopub.execute_input": "2022-04-22T03:23:34.276861Z",
     "iopub.status.busy": "2022-04-22T03:23:34.276367Z",
     "iopub.status.idle": "2022-04-22T03:23:34.283167Z",
     "shell.execute_reply": "2022-04-22T03:23:34.282154Z"
    },
    "jupyter": {
     "source_hidden": true
    },
    "papermill": {
     "duration": 0.029776,
     "end_time": "2022-04-22T03:23:34.285145",
     "exception": false,
     "start_time": "2022-04-22T03:23:34.255369",
     "status": "completed"
    },
    "tags": [
     "remove_input"
    ]
   },
   "outputs": [],
   "source": [
    "%%capture_parameters\n",
    "agency_name = rt_day.calitp_agency_name\n",
    "district = airtable_organizations.caltrans_district.iloc[0]\n",
    "agency_name, district"
   ]
  },
  {
   "cell_type": "markdown",
   "id": "52110155-d104-4043-8376-3f83e82a959a",
   "metadata": {
    "papermill": {
     "duration": 0.01927,
     "end_time": "2022-04-22T03:23:34.324433",
     "exception": false,
     "start_time": "2022-04-22T03:23:34.305163",
     "status": "completed"
    },
    "tags": []
   },
   "source": [
    "# Golden Gate Bridge Highway and Transportation District"
   ]
  },
  {
   "cell_type": "markdown",
   "id": "7d5572cd-dd67-4e26-b100-a0e7472a4a17",
   "metadata": {
    "papermill": {
     "duration": 0.019749,
     "end_time": "2022-04-22T03:23:34.363745",
     "exception": false,
     "start_time": "2022-04-22T03:23:34.343996",
     "status": "completed"
    },
    "tags": []
   },
   "source": [
    "## About These Maps:\n",
    "\n",
    "* Each map shows bus (and rail, if applicable) speeds for Golden Gate Bridge Highway and Transportation District, with a map each for the morning peak, midday, and afternoon peak periods.\n",
    "* On the map, routes are split into segments corresponding to the distance between two stops, allowing you to focus on specific portions of the route experiencing a slowdown.\n",
    "* Route segments are arrow-shaped to indicate direction of travel.\n",
    "* Hover over, or click, a segment with your mouse to see the exact speed, route name, and transit service frequency in that segment. \n",
    "    * Higher-frequency routes (3+ trips per hour) are especially important, since those slowdowns correspond to more vehicles, and riders, delayed in traffic."
   ]
  },
  {
   "cell_type": "code",
   "execution_count": 13,
   "id": "8e940d3d-c76e-42ba-be8b-739852771ca6",
   "metadata": {
    "execution": {
     "iopub.execute_input": "2022-04-22T03:23:34.407342Z",
     "iopub.status.busy": "2022-04-22T03:23:34.406976Z",
     "iopub.status.idle": "2022-04-22T03:23:34.411244Z",
     "shell.execute_reply": "2022-04-22T03:23:34.410351Z"
    },
    "jupyter": {
     "source_hidden": true
    },
    "papermill": {
     "duration": 0.028092,
     "end_time": "2022-04-22T03:23:34.414059",
     "exception": false,
     "start_time": "2022-04-22T03:23:34.385967",
     "status": "completed"
    },
    "tags": [
     "remove_input"
    ]
   },
   "outputs": [],
   "source": [
    "## avoid papermill errors when map fails to render\n",
    "m = None"
   ]
  },
  {
   "cell_type": "markdown",
   "id": "74fce4a9-514f-405d-9ce0-1cb1998a696b",
   "metadata": {
    "papermill": {
     "duration": 0.019397,
     "end_time": "2022-04-22T03:23:34.452679",
     "exception": false,
     "start_time": "2022-04-22T03:23:34.433282",
     "status": "completed"
    },
    "tags": []
   },
   "source": [
    "## Morning Peak"
   ]
  },
  {
   "cell_type": "code",
   "execution_count": 14,
   "id": "533a64f4-f374-4f2c-94d3-5146ebe7c036",
   "metadata": {
    "execution": {
     "iopub.execute_input": "2022-04-22T03:23:34.495908Z",
     "iopub.status.busy": "2022-04-22T03:23:34.495577Z",
     "iopub.status.idle": "2022-04-22T03:23:34.503826Z",
     "shell.execute_reply": "2022-04-22T03:23:34.503011Z"
    },
    "jupyter": {
     "source_hidden": true
    },
    "papermill": {
     "duration": 0.030958,
     "end_time": "2022-04-22T03:23:34.505942",
     "exception": false,
     "start_time": "2022-04-22T03:23:34.474984",
     "status": "completed"
    },
    "tags": [
     "remove_input"
    ]
   },
   "outputs": [],
   "source": [
    "%%capture\n",
    "rt_day.set_filter(start_time='06:00', end_time='09:00')"
   ]
  },
  {
   "cell_type": "code",
   "execution_count": 15,
   "id": "2f317120-99ee-435b-96cd-1236b8ee2e0b",
   "metadata": {
    "execution": {
     "iopub.execute_input": "2022-04-22T03:23:34.546392Z",
     "iopub.status.busy": "2022-04-22T03:23:34.545676Z",
     "iopub.status.idle": "2022-04-22T03:23:44.864380Z",
     "shell.execute_reply": "2022-04-22T03:23:44.863686Z"
    },
    "jupyter": {
     "source_hidden": true
    },
    "papermill": {
     "duration": 10.340769,
     "end_time": "2022-04-22T03:23:44.866320",
     "exception": false,
     "start_time": "2022-04-22T03:23:34.525551",
     "status": "completed"
    },
    "tags": [
     "remove_input"
    ]
   },
   "outputs": [],
   "source": [
    "%%capture\n",
    "m = rt_day.segment_speed_map(how='low_speeds', no_title=True)"
   ]
  },
  {
   "cell_type": "code",
   "execution_count": 16,
   "id": "275087be-b46d-4acb-95fe-2dc98c2089a2",
   "metadata": {
    "execution": {
     "iopub.execute_input": "2022-04-22T03:23:44.909840Z",
     "iopub.status.busy": "2022-04-22T03:23:44.909322Z",
     "iopub.status.idle": "2022-04-22T03:23:44.918198Z",
     "shell.execute_reply": "2022-04-22T03:23:44.917564Z"
    },
    "jupyter": {
     "source_hidden": true
    },
    "papermill": {
     "duration": 0.032081,
     "end_time": "2022-04-22T03:23:44.920377",
     "exception": false,
     "start_time": "2022-04-22T03:23:44.888296",
     "status": "completed"
    },
    "tags": [
     "remove_input"
    ]
   },
   "outputs": [],
   "source": [
    "m"
   ]
  },
  {
   "cell_type": "code",
   "execution_count": 17,
   "id": "b0cf9b97-7485-4f36-b5e8-124f22fa9661",
   "metadata": {
    "execution": {
     "iopub.execute_input": "2022-04-22T03:23:44.963586Z",
     "iopub.status.busy": "2022-04-22T03:23:44.963059Z",
     "iopub.status.idle": "2022-04-22T03:23:45.015004Z",
     "shell.execute_reply": "2022-04-22T03:23:45.014373Z"
    },
    "jupyter": {
     "source_hidden": true
    },
    "papermill": {
     "duration": 0.076637,
     "end_time": "2022-04-22T03:23:45.016957",
     "exception": false,
     "start_time": "2022-04-22T03:23:44.940320",
     "status": "completed"
    },
    "tags": [
     "remove_input"
    ]
   },
   "outputs": [
    {
     "data": {
      "text/markdown": [
       "AM Peak most delayed routes: \n",
       " * 172, Santa Rosa - San Francisco, Southbound: 8.0 minutes late on average\n",
       " * 130, San Rafael - San Francisco, Southbound: 8.0 minutes late on average\n",
       " * 150, Novato - San Francisco, Southbound: 6.0 minutes late on average\n",
       " * 154, Novato - San Francisco Commute, Southbound: 6.0 minutes late on average\n",
       " * 114, Mill Valley - San Francisco, Southbound: 5.0 minutes late on average"
      ],
      "text/plain": [
       "<IPython.core.display.Markdown object>"
      ]
     },
     "metadata": {},
     "output_type": "display_data"
    }
   ],
   "source": [
    "rt_day.describe_delayed_routes()"
   ]
  },
  {
   "cell_type": "markdown",
   "id": "3d263ba2-49ae-4e02-9d06-3181b03f51ba",
   "metadata": {
    "papermill": {
     "duration": 0.021929,
     "end_time": "2022-04-22T03:23:45.059032",
     "exception": false,
     "start_time": "2022-04-22T03:23:45.037103",
     "status": "completed"
    },
    "tags": []
   },
   "source": [
    "## Midday"
   ]
  },
  {
   "cell_type": "code",
   "execution_count": 18,
   "id": "f5344e63-89d2-43d6-9783-55a3061c99d2",
   "metadata": {
    "execution": {
     "iopub.execute_input": "2022-04-22T03:23:45.107575Z",
     "iopub.status.busy": "2022-04-22T03:23:45.107021Z",
     "iopub.status.idle": "2022-04-22T03:23:45.113131Z",
     "shell.execute_reply": "2022-04-22T03:23:45.112549Z"
    },
    "jupyter": {
     "source_hidden": true
    },
    "papermill": {
     "duration": 0.030127,
     "end_time": "2022-04-22T03:23:45.115249",
     "exception": false,
     "start_time": "2022-04-22T03:23:45.085122",
     "status": "completed"
    },
    "tags": [
     "remove_input"
    ]
   },
   "outputs": [],
   "source": [
    "%%capture\n",
    "rt_day.set_filter(start_time='10:00', end_time='14:00')"
   ]
  },
  {
   "cell_type": "code",
   "execution_count": 19,
   "id": "a4c40f3c-cf35-45d5-9d87-aa4701bed3aa",
   "metadata": {
    "execution": {
     "iopub.execute_input": "2022-04-22T03:23:45.157952Z",
     "iopub.status.busy": "2022-04-22T03:23:45.157408Z",
     "iopub.status.idle": "2022-04-22T03:23:50.953348Z",
     "shell.execute_reply": "2022-04-22T03:23:50.952342Z"
    },
    "jupyter": {
     "source_hidden": true
    },
    "papermill": {
     "duration": 5.819337,
     "end_time": "2022-04-22T03:23:50.955342",
     "exception": false,
     "start_time": "2022-04-22T03:23:45.136005",
     "status": "completed"
    },
    "tags": [
     "remove_input"
    ]
   },
   "outputs": [],
   "source": [
    "%%capture\n",
    "m = rt_day.segment_speed_map(how='low_speeds', no_title=True)"
   ]
  },
  {
   "cell_type": "code",
   "execution_count": 20,
   "id": "a78b7db5-f43f-4bf1-8036-ae972a87fc53",
   "metadata": {
    "execution": {
     "iopub.execute_input": "2022-04-22T03:23:51.002312Z",
     "iopub.status.busy": "2022-04-22T03:23:51.001583Z",
     "iopub.status.idle": "2022-04-22T03:23:51.006317Z",
     "shell.execute_reply": "2022-04-22T03:23:51.005748Z"
    },
    "jupyter": {
     "source_hidden": true
    },
    "papermill": {
     "duration": 0.032093,
     "end_time": "2022-04-22T03:23:51.008184",
     "exception": false,
     "start_time": "2022-04-22T03:23:50.976091",
     "status": "completed"
    },
    "tags": [
     "remove_input"
    ]
   },
   "outputs": [],
   "source": [
    "m"
   ]
  },
  {
   "cell_type": "code",
   "execution_count": 21,
   "id": "6c745570-b50f-4722-b943-2176444f7af6",
   "metadata": {
    "execution": {
     "iopub.execute_input": "2022-04-22T03:23:51.055968Z",
     "iopub.status.busy": "2022-04-22T03:23:51.055047Z",
     "iopub.status.idle": "2022-04-22T03:23:51.102286Z",
     "shell.execute_reply": "2022-04-22T03:23:51.101366Z"
    },
    "jupyter": {
     "source_hidden": true
    },
    "papermill": {
     "duration": 0.07289,
     "end_time": "2022-04-22T03:23:51.104592",
     "exception": false,
     "start_time": "2022-04-22T03:23:51.031702",
     "status": "completed"
    },
    "tags": [
     "remove_input"
    ]
   },
   "outputs": [
    {
     "data": {
      "text/markdown": [
       "Midday most delayed routes: \n",
       " * 101, Santa Rosa - San Francisco, Southbound: 7.0 minutes late on average\n",
       " * 101, Santa Rosa - San Francisco, Northbound: 3.0 minutes late on average\n",
       " * 580, Del Norte BART Station - San Rafael, Westbound: 1.0 minutes late on average\n",
       " * 130, San Rafael - San Francisco, Southbound: 1.0 minutes late on average\n",
       " * 580, Del Norte BART Station - San Rafael, Eastbound: 0.0 minutes late on average"
      ],
      "text/plain": [
       "<IPython.core.display.Markdown object>"
      ]
     },
     "metadata": {},
     "output_type": "display_data"
    }
   ],
   "source": [
    "rt_day.describe_delayed_routes()"
   ]
  },
  {
   "cell_type": "markdown",
   "id": "704f0788-b4a8-497d-b2aa-c7ac6df939f4",
   "metadata": {
    "papermill": {
     "duration": 0.038441,
     "end_time": "2022-04-22T03:23:51.164288",
     "exception": false,
     "start_time": "2022-04-22T03:23:51.125847",
     "status": "completed"
    },
    "tags": []
   },
   "source": [
    "## Afternoon Peak"
   ]
  },
  {
   "cell_type": "code",
   "execution_count": 22,
   "id": "923f1462-b34a-42d2-a632-c5eb3ac16ac6",
   "metadata": {
    "execution": {
     "iopub.execute_input": "2022-04-22T03:23:51.244788Z",
     "iopub.status.busy": "2022-04-22T03:23:51.243899Z",
     "iopub.status.idle": "2022-04-22T03:23:51.252455Z",
     "shell.execute_reply": "2022-04-22T03:23:51.251050Z"
    },
    "jupyter": {
     "source_hidden": true
    },
    "papermill": {
     "duration": 0.050587,
     "end_time": "2022-04-22T03:23:51.255234",
     "exception": false,
     "start_time": "2022-04-22T03:23:51.204647",
     "status": "completed"
    },
    "tags": [
     "remove_input"
    ]
   },
   "outputs": [],
   "source": [
    "%%capture\n",
    "rt_day.set_filter(start_time='15:00', end_time='19:00')"
   ]
  },
  {
   "cell_type": "code",
   "execution_count": 23,
   "id": "5e46b095-7bc2-4552-a37b-661d076b2b51",
   "metadata": {
    "execution": {
     "iopub.execute_input": "2022-04-22T03:23:51.302987Z",
     "iopub.status.busy": "2022-04-22T03:23:51.301982Z",
     "iopub.status.idle": "2022-04-22T03:24:01.118468Z",
     "shell.execute_reply": "2022-04-22T03:24:01.117531Z"
    },
    "jupyter": {
     "source_hidden": true
    },
    "papermill": {
     "duration": 9.842866,
     "end_time": "2022-04-22T03:24:01.120905",
     "exception": false,
     "start_time": "2022-04-22T03:23:51.278039",
     "status": "completed"
    },
    "tags": [
     "remove_input"
    ]
   },
   "outputs": [],
   "source": [
    "%%capture\n",
    "m = rt_day.segment_speed_map(how='low_speeds', no_title=True)"
   ]
  },
  {
   "cell_type": "code",
   "execution_count": 24,
   "id": "0393f107-e9fe-4982-961a-032f7bf4e0eb",
   "metadata": {
    "execution": {
     "iopub.execute_input": "2022-04-22T03:24:01.167179Z",
     "iopub.status.busy": "2022-04-22T03:24:01.166893Z",
     "iopub.status.idle": "2022-04-22T03:24:01.172287Z",
     "shell.execute_reply": "2022-04-22T03:24:01.171441Z"
    },
    "jupyter": {
     "source_hidden": true
    },
    "papermill": {
     "duration": 0.0312,
     "end_time": "2022-04-22T03:24:01.174464",
     "exception": false,
     "start_time": "2022-04-22T03:24:01.143264",
     "status": "completed"
    },
    "tags": [
     "remove_input"
    ]
   },
   "outputs": [],
   "source": [
    "m"
   ]
  },
  {
   "cell_type": "code",
   "execution_count": 25,
   "id": "76580953-2a2b-4295-a41c-20442eae883e",
   "metadata": {
    "execution": {
     "iopub.execute_input": "2022-04-22T03:24:01.222669Z",
     "iopub.status.busy": "2022-04-22T03:24:01.221970Z",
     "iopub.status.idle": "2022-04-22T03:24:01.285368Z",
     "shell.execute_reply": "2022-04-22T03:24:01.284389Z"
    },
    "jupyter": {
     "source_hidden": true
    },
    "papermill": {
     "duration": 0.090556,
     "end_time": "2022-04-22T03:24:01.287859",
     "exception": false,
     "start_time": "2022-04-22T03:24:01.197303",
     "status": "completed"
    },
    "tags": [
     "remove_input"
    ]
   },
   "outputs": [
    {
     "data": {
      "text/markdown": [
       "PM Peak most delayed routes: \n",
       " * 130, San Rafael - San Francisco, Northbound: 9.0 minutes late on average\n",
       " * 101, Santa Rosa - San Francisco, Northbound: 9.0 minutes late on average\n",
       " * 132, San Anselmo - San Rafael - San Francisco, Northbound: 7.0 minutes late on average\n",
       " * 172, Santa Rosa - San Francisco, Northbound: 7.0 minutes late on average\n",
       " * 150, Novato - San Francisco, Southbound: 5.0 minutes late on average"
      ],
      "text/plain": [
       "<IPython.core.display.Markdown object>"
      ]
     },
     "metadata": {},
     "output_type": "display_data"
    }
   ],
   "source": [
    "rt_day.describe_delayed_routes()"
   ]
  },
  {
   "cell_type": "code",
   "execution_count": 26,
   "id": "91874f76-635b-4fde-8d61-abc795aca6c6",
   "metadata": {
    "execution": {
     "iopub.execute_input": "2022-04-22T03:24:01.387669Z",
     "iopub.status.busy": "2022-04-22T03:24:01.386665Z",
     "iopub.status.idle": "2022-04-22T03:24:01.453384Z",
     "shell.execute_reply": "2022-04-22T03:24:01.452283Z"
    },
    "jupyter": {
     "source_hidden": true
    },
    "papermill": {
     "duration": 0.113372,
     "end_time": "2022-04-22T03:24:01.455952",
     "exception": false,
     "start_time": "2022-04-22T03:24:01.342580",
     "status": "completed"
    },
    "tags": [
     "remove_input"
    ]
   },
   "outputs": [],
   "source": [
    "try:\n",
    "    metrics_df = (rt_day.rt_trips\n",
    "         >> group_by(_.route_short_name, _.direction_id)\n",
    "         >> summarize(speed_variance = _.mean_speed_mph.var(),\n",
    "                     mean_speed_mph = _.mean_speed_mph.mean(),\n",
    "                     min_hour = _.median_time.min().hour,\n",
    "                     max_hour = _.median_time.max().hour)\n",
    "         >> filter(_.min_hour <= 7, _.max_hour >= 15,\n",
    "                   _.mean_speed_mph < _.mean_speed_mph.quantile(.6),\n",
    "                   _.speed_variance)\n",
    "         >> arrange(-_.speed_variance)\n",
    "         >> head(20)\n",
    "        )\n",
    "except Exception as e:\n",
    "    pass\n",
    "    # print(e)\n",
    "## check that route has all-day span..."
   ]
  },
  {
   "cell_type": "code",
   "execution_count": 27,
   "id": "758b0bae-32d0-40dd-a1d1-1d107b0e7e8b",
   "metadata": {
    "execution": {
     "iopub.execute_input": "2022-04-22T03:24:01.503670Z",
     "iopub.status.busy": "2022-04-22T03:24:01.503285Z",
     "iopub.status.idle": "2022-04-22T03:24:01.511883Z",
     "shell.execute_reply": "2022-04-22T03:24:01.510776Z"
    },
    "jupyter": {
     "source_hidden": true
    },
    "papermill": {
     "duration": 0.035319,
     "end_time": "2022-04-22T03:24:01.514410",
     "exception": false,
     "start_time": "2022-04-22T03:24:01.479091",
     "status": "completed"
    },
    "tags": [
     "remove_input"
    ]
   },
   "outputs": [],
   "source": [
    "def map_from_metrics(rt_day, metrics_df):\n",
    "    try:\n",
    "        route_name = metrics_df.iloc[1,0]\n",
    "        direction_id = metrics_df.iloc[1,1]\n",
    "        # print(route_name, direction_id)\n",
    "    except Exception as e:\n",
    "        # print(e)\n",
    "        return\n",
    "    # route_name = '281'\n",
    "    # direction_id = '1'\n",
    "    rt_day.set_filter(start_time='06:00', end_time='09:00',\n",
    "                      route_names=[route_name], direction_id = direction_id)\n",
    "    try:\n",
    "        am_map = rt_day.segment_speed_map(how='low_speeds')\n",
    "        display(am_map)\n",
    "    except Exception as e:\n",
    "        # print(e)\n",
    "        pass\n",
    "    \n",
    "    rt_day.set_filter(start_time='10:00', end_time='14:00',\n",
    "                      route_names=[route_name], direction_id = direction_id)\n",
    "    try:\n",
    "        mid_map = rt_day.segment_speed_map(how='low_speeds')\n",
    "        display(mid_map)\n",
    "    except Exception as e:\n",
    "        # print(e)\n",
    "        pass\n",
    "\n",
    "    rt_day.set_filter(start_time='15:00', end_time='19:00',\n",
    "                      route_names=[route_name], direction_id = direction_id)\n",
    "    try:\n",
    "        pm_map = rt_day.segment_speed_map(how='low_speeds')\n",
    "        display(pm_map)\n",
    "    except Exception as e:\n",
    "        # print(e)\n",
    "        pass\n",
    "\n",
    "    return"
   ]
  },
  {
   "cell_type": "markdown",
   "id": "6ce187c8-c7bf-44f4-970e-b3abd69ddc38",
   "metadata": {
    "papermill": {
     "duration": 0.025802,
     "end_time": "2022-04-22T03:24:01.562783",
     "exception": false,
     "start_time": "2022-04-22T03:24:01.536981",
     "status": "completed"
    },
    "tags": []
   },
   "source": [
    "## Single-Route Detail Example"
   ]
  },
  {
   "cell_type": "code",
   "execution_count": 28,
   "id": "c7b4b043-6d15-4d9c-8aac-f0f6649e9552",
   "metadata": {
    "execution": {
     "iopub.execute_input": "2022-04-22T03:24:01.610194Z",
     "iopub.status.busy": "2022-04-22T03:24:01.609884Z",
     "iopub.status.idle": "2022-04-22T03:24:03.107570Z",
     "shell.execute_reply": "2022-04-22T03:24:03.106680Z"
    },
    "jupyter": {
     "source_hidden": true
    },
    "papermill": {
     "duration": 1.524563,
     "end_time": "2022-04-22T03:24:03.110113",
     "exception": false,
     "start_time": "2022-04-22T03:24:01.585550",
     "status": "completed"
    },
    "tags": [
     "remove_input"
    ]
   },
   "outputs": [],
   "source": [
    "try:\n",
    "    map_from_metrics(rt_day, metrics_df)\n",
    "except Exception as e:\n",
    "    # print(e)\n",
    "    pass"
   ]
  },
  {
   "cell_type": "code",
   "execution_count": null,
   "id": "a7d189cb-26d5-4a49-bf0f-2c33fd408f7e",
   "metadata": {
    "jupyter": {
     "source_hidden": true
    },
    "papermill": {
     "duration": 0.022958,
     "end_time": "2022-04-22T03:24:03.155839",
     "exception": false,
     "start_time": "2022-04-22T03:24:03.132881",
     "status": "completed"
    },
    "tags": [
     "remove_input"
    ]
   },
   "outputs": [],
   "source": []
  }
 ],
 "metadata": {
  "kernelspec": {
   "display_name": "Python 3 (ipykernel)",
   "language": "python",
   "name": "python3"
  },
  "language_info": {
   "codemirror_mode": {
    "name": "ipython",
    "version": 3
   },
   "file_extension": ".py",
   "mimetype": "text/x-python",
   "name": "python",
   "nbconvert_exporter": "python",
   "pygments_lexer": "ipython3",
   "version": "3.9.10"
  },
  "papermill": {
   "default_parameters": {},
   "duration": 50.945165,
   "end_time": "2022-04-22T03:24:04.603536",
   "environment_variables": {},
   "exception": null,
   "input_path": "rt_delay/speedmaps.ipynb",
   "output_path": "portfolio/rt/district_04-oakland/speedmaps__itp_id_127.ipynb",
   "parameters": {
    "district": "04 - Oakland",
    "itp_id": 127
   },
   "start_time": "2022-04-22T03:23:13.658371",
   "version": "2.3.4"
  }
 },
 "nbformat": 4,
 "nbformat_minor": 5
}