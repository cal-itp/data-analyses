version https://git-lfs.github.com/spec/v1
oid sha256:66a06c3489cec8ee43855a07a47e9ff485027614d6e811dff3ea8993dc457b5d
size 5080640
