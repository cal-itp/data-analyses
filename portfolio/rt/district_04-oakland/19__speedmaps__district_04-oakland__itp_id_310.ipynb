version https://git-lfs.github.com/spec/v1
oid sha256:d3f494789486578cf99c0871ba11efbc4d706dd3e5bafd00e2cfa960ad13aa41
size 70496
