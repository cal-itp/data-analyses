version https://git-lfs.github.com/spec/v1
oid sha256:a02744de2f4a32b6e1d4abc4a897143e945da40784258e4251f5296d96ec5681
size 63511
