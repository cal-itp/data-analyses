version https://git-lfs.github.com/spec/v1
oid sha256:16fe2b3da0d4bf00862e6f77e78343a8d10a7eb255f68e7de41fd816c4ef5082
size 67674
