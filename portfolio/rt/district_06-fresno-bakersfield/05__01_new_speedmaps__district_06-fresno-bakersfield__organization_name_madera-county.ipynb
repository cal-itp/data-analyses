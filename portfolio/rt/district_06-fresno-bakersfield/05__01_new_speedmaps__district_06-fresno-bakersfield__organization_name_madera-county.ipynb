version https://git-lfs.github.com/spec/v1
oid sha256:e15f83a1b9e353f53cb3be79517757fddc321279c877545aeedb9212dddf0f91
size 62602
