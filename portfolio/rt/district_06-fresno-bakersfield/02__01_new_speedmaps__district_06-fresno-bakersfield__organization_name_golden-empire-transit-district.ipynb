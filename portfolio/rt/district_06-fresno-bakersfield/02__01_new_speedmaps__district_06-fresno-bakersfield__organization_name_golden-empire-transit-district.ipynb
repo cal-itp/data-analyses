version https://git-lfs.github.com/spec/v1
oid sha256:c6a0048928f1057087fab8b92975b6e37683dfb53c9dc0eb55cc68bdc53332d4
size 67102
