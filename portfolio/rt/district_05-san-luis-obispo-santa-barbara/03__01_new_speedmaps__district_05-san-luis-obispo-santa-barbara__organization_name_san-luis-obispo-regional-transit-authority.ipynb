version https://git-lfs.github.com/spec/v1
oid sha256:1469473b24f4db6ae9f3a154dd16971fd6f03b3305690b6a6839444cef695f50
size 67728
