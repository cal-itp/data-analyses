version https://git-lfs.github.com/spec/v1
oid sha256:a1cc7721f02fc775d01a2a6383ae8db91ee9dc42eea65ebc9d7aceb2ffd97318
size 59158
