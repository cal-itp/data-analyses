version https://git-lfs.github.com/spec/v1
oid sha256:2faf2964bf04754c8383473048f375b78ea26db1b4900acdbf13c144ccc868e2
size 68399
