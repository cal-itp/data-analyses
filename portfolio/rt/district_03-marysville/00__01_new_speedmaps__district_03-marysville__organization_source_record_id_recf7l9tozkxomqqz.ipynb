version https://git-lfs.github.com/spec/v1
oid sha256:c26d5c23c75ee9f2ff742a7217f75f737b0acb7d5402bbc8225fe086588dcfce
size 68371
