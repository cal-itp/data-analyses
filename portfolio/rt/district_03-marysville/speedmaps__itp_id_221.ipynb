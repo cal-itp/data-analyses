{
 "cells": [
  {
   "cell_type": "code",
   "execution_count": 1,
   "id": "46898b5c-b5cc-4096-ab68-8c3e42fab870",
   "metadata": {
    "execution": {
     "iopub.execute_input": "2022-04-22T02:53:57.689333Z",
     "iopub.status.busy": "2022-04-22T02:53:57.688417Z",
     "iopub.status.idle": "2022-04-22T02:54:06.174199Z",
     "shell.execute_reply": "2022-04-22T02:54:06.173305Z"
    },
    "jupyter": {
     "source_hidden": true
    },
    "papermill": {
     "duration": 8.508984,
     "end_time": "2022-04-22T02:54:06.176936",
     "exception": false,
     "start_time": "2022-04-22T02:53:57.667952",
     "status": "completed"
    },
    "tags": [
     "remove_input"
    ]
   },
   "outputs": [],
   "source": [
    "%%capture\n",
    "import warnings\n",
    "warnings.filterwarnings('ignore')\n",
    "\n",
    "import os\n",
    "os.environ[\"CALITP_BQ_MAX_BYTES\"] = str(800_000_000_000)\n",
    "import shared_utils\n",
    "import utils\n",
    "\n",
    "from calitp.tables import tbl\n",
    "from calitp import query_sql\n",
    "import calitp.magics\n",
    "\n",
    "from siuba import *\n",
    "import pandas as pd\n",
    "import geopandas as gpd\n",
    "\n",
    "import datetime as dt\n",
    "\n",
    "import importlib\n",
    "import rt_filter_map_plot\n",
    "\n",
    "from IPython.display import display, Markdown, Latex, HTML\n",
    "import json"
   ]
  },
  {
   "cell_type": "code",
   "execution_count": 2,
   "id": "9f15ed6a-5ab7-4f57-9695-3f762781b74c",
   "metadata": {
    "execution": {
     "iopub.execute_input": "2022-04-22T02:54:06.214534Z",
     "iopub.status.busy": "2022-04-22T02:54:06.213986Z",
     "iopub.status.idle": "2022-04-22T02:54:06.218579Z",
     "shell.execute_reply": "2022-04-22T02:54:06.217809Z"
    },
    "jupyter": {
     "source_hidden": true
    },
    "papermill": {
     "duration": 0.026168,
     "end_time": "2022-04-22T02:54:06.220740",
     "exception": false,
     "start_time": "2022-04-22T02:54:06.194572",
     "status": "completed"
    },
    "tags": [
     "parameters",
     "remove_input"
    ]
   },
   "outputs": [],
   "source": [
    "## parameters cell\n",
    "itp_id = 135"
   ]
  },
  {
   "cell_type": "code",
   "execution_count": 3,
   "id": "057e2f26",
   "metadata": {
    "execution": {
     "iopub.execute_input": "2022-04-22T02:54:06.257686Z",
     "iopub.status.busy": "2022-04-22T02:54:06.257407Z",
     "iopub.status.idle": "2022-04-22T02:54:06.261821Z",
     "shell.execute_reply": "2022-04-22T02:54:06.260427Z"
    },
    "jupyter": {
     "source_hidden": true
    },
    "papermill": {
     "duration": 0.025221,
     "end_time": "2022-04-22T02:54:06.263822",
     "exception": false,
     "start_time": "2022-04-22T02:54:06.238601",
     "status": "completed"
    },
    "tags": [
     "injected-parameters",
     "remove_input"
    ]
   },
   "outputs": [],
   "source": [
    "# Parameters\n",
    "district = \"03 - Marysville\"\n",
    "itp_id = 221\n"
   ]
  },
  {
   "cell_type": "code",
   "execution_count": 4,
   "id": "6c2e9651-70e4-4403-b43d-da50315ef8fd",
   "metadata": {
    "execution": {
     "iopub.execute_input": "2022-04-22T02:54:06.303622Z",
     "iopub.status.busy": "2022-04-22T02:54:06.303334Z",
     "iopub.status.idle": "2022-04-22T02:54:08.259397Z",
     "shell.execute_reply": "2022-04-22T02:54:08.258647Z"
    },
    "jupyter": {
     "source_hidden": true
    },
    "papermill": {
     "duration": 1.978627,
     "end_time": "2022-04-22T02:54:08.262035",
     "exception": false,
     "start_time": "2022-04-22T02:54:06.283408",
     "status": "completed"
    },
    "tags": [
     "remove_input"
    ]
   },
   "outputs": [],
   "source": [
    "airtable_organizations = (\n",
    "    tbl.airtable.california_transit_organizations()\n",
    "    >> select(_.itp_id, _.name, _.caltrans_district,\n",
    "              _.website, _.ntp_id, _.drmt_organization_name)\n",
    "    >> filter(_.itp_id == itp_id)\n",
    "    >> collect()\n",
    ")"
   ]
  },
  {
   "cell_type": "code",
   "execution_count": 5,
   "id": "cc9c7000-4042-4f64-b7ef-8e8e5f1e706a",
   "metadata": {
    "execution": {
     "iopub.execute_input": "2022-04-22T02:54:08.301108Z",
     "iopub.status.busy": "2022-04-22T02:54:08.300256Z",
     "iopub.status.idle": "2022-04-22T02:54:08.306449Z",
     "shell.execute_reply": "2022-04-22T02:54:08.305524Z"
    },
    "jupyter": {
     "source_hidden": true
    },
    "papermill": {
     "duration": 0.028507,
     "end_time": "2022-04-22T02:54:08.308612",
     "exception": false,
     "start_time": "2022-04-22T02:54:08.280105",
     "status": "completed"
    },
    "tags": [
     "remove_input"
    ]
   },
   "outputs": [],
   "source": [
    "# airtable_organizations"
   ]
  },
  {
   "cell_type": "code",
   "execution_count": 6,
   "id": "306a7053-3fab-4723-a287-111e4eba11f2",
   "metadata": {
    "execution": {
     "iopub.execute_input": "2022-04-22T02:54:08.345775Z",
     "iopub.status.busy": "2022-04-22T02:54:08.345443Z",
     "iopub.status.idle": "2022-04-22T02:54:08.350626Z",
     "shell.execute_reply": "2022-04-22T02:54:08.349699Z"
    },
    "jupyter": {
     "source_hidden": true
    },
    "papermill": {
     "duration": 0.027634,
     "end_time": "2022-04-22T02:54:08.353679",
     "exception": false,
     "start_time": "2022-04-22T02:54:08.326045",
     "status": "completed"
    },
    "tags": [
     "remove_input"
    ]
   },
   "outputs": [],
   "source": [
    "analysis_date = dt.date(2022, 3, 30)\n",
    "if itp_id == 273:\n",
    "    analysis_date = dt.date(2022, 2, 8) # #override for SacRT "
   ]
  },
  {
   "cell_type": "code",
   "execution_count": 7,
   "id": "47c79d99-c82f-4e1e-b11e-2b1e83c13a1b",
   "metadata": {
    "execution": {
     "iopub.execute_input": "2022-04-22T02:54:08.394631Z",
     "iopub.status.busy": "2022-04-22T02:54:08.394346Z",
     "iopub.status.idle": "2022-04-22T02:54:08.398517Z",
     "shell.execute_reply": "2022-04-22T02:54:08.397621Z"
    },
    "jupyter": {
     "source_hidden": true
    },
    "papermill": {
     "duration": 0.028423,
     "end_time": "2022-04-22T02:54:08.400880",
     "exception": false,
     "start_time": "2022-04-22T02:54:08.372457",
     "status": "completed"
    },
    "tags": [
     "remove_input"
    ]
   },
   "outputs": [],
   "source": [
    "month_day = analysis_date.strftime('%m_%d')"
   ]
  },
  {
   "cell_type": "code",
   "execution_count": 8,
   "id": "1739d979-cd4d-456c-a1ad-a016cbf69cad",
   "metadata": {
    "execution": {
     "iopub.execute_input": "2022-04-22T02:54:08.439464Z",
     "iopub.status.busy": "2022-04-22T02:54:08.438772Z",
     "iopub.status.idle": "2022-04-22T02:54:08.817531Z",
     "shell.execute_reply": "2022-04-22T02:54:08.816951Z"
    },
    "jupyter": {
     "source_hidden": true
    },
    "papermill": {
     "duration": 0.401195,
     "end_time": "2022-04-22T02:54:08.819680",
     "exception": false,
     "start_time": "2022-04-22T02:54:08.418485",
     "status": "completed"
    },
    "tags": [
     "remove_input"
    ]
   },
   "outputs": [],
   "source": [
    "trips = pd.read_parquet(f'{utils.GCS_FILE_PATH}rt_trips/{itp_id}_{month_day}.parquet')"
   ]
  },
  {
   "cell_type": "code",
   "execution_count": 9,
   "id": "b77a9167-4017-4367-8fed-d4e6bf3999b9",
   "metadata": {
    "execution": {
     "iopub.execute_input": "2022-04-22T02:54:08.858489Z",
     "iopub.status.busy": "2022-04-22T02:54:08.857545Z",
     "iopub.status.idle": "2022-04-22T02:54:09.248986Z",
     "shell.execute_reply": "2022-04-22T02:54:09.247961Z"
    },
    "jupyter": {
     "source_hidden": true
    },
    "papermill": {
     "duration": 0.413301,
     "end_time": "2022-04-22T02:54:09.251652",
     "exception": false,
     "start_time": "2022-04-22T02:54:08.838351",
     "status": "completed"
    },
    "tags": [
     "remove_input"
    ]
   },
   "outputs": [],
   "source": [
    "stop_delay = gpd.read_parquet(f'{utils.GCS_FILE_PATH}stop_delay_views/{itp_id}_{month_day}.parquet')\n",
    "stop_delay['arrival_time'] = stop_delay.arrival_time.map(lambda x: dt.datetime.fromisoformat(x))\n",
    "stop_delay['actual_time'] = stop_delay.actual_time.map(lambda x: dt.datetime.fromisoformat(x))"
   ]
  },
  {
   "cell_type": "code",
   "execution_count": 10,
   "id": "2b2fe439-10af-4140-ab83-69b05c385b40",
   "metadata": {
    "execution": {
     "iopub.execute_input": "2022-04-22T02:54:09.296894Z",
     "iopub.status.busy": "2022-04-22T02:54:09.296324Z",
     "iopub.status.idle": "2022-04-22T02:54:13.319809Z",
     "shell.execute_reply": "2022-04-22T02:54:13.318998Z"
    },
    "jupyter": {
     "source_hidden": true
    },
    "papermill": {
     "duration": 4.048853,
     "end_time": "2022-04-22T02:54:13.322536",
     "exception": false,
     "start_time": "2022-04-22T02:54:09.273683",
     "status": "completed"
    },
    "tags": [
     "remove_input"
    ]
   },
   "outputs": [],
   "source": [
    "%%capture\n",
    "routelines = utils.get_routelines(itp_id, analysis_date)"
   ]
  },
  {
   "cell_type": "code",
   "execution_count": 11,
   "id": "e4cbefc6-9bbb-4989-85b7-1f31da17fcb8",
   "metadata": {
    "execution": {
     "iopub.execute_input": "2022-04-22T02:54:13.361228Z",
     "iopub.status.busy": "2022-04-22T02:54:13.360910Z",
     "iopub.status.idle": "2022-04-22T02:54:13.456813Z",
     "shell.execute_reply": "2022-04-22T02:54:13.455878Z"
    },
    "jupyter": {
     "source_hidden": true
    },
    "papermill": {
     "duration": 0.11921,
     "end_time": "2022-04-22T02:54:13.459895",
     "exception": false,
     "start_time": "2022-04-22T02:54:13.340685",
     "status": "completed"
    },
    "tags": [
     "remove_input"
    ]
   },
   "outputs": [],
   "source": [
    "%%capture\n",
    "rt_day = rt_filter_map_plot.RtFilterMapper(trips, stop_delay, routelines)"
   ]
  },
  {
   "cell_type": "code",
   "execution_count": 12,
   "id": "6c335d40-7a7b-4641-8a3d-c970b2823cdf",
   "metadata": {
    "execution": {
     "iopub.execute_input": "2022-04-22T02:54:13.500335Z",
     "iopub.status.busy": "2022-04-22T02:54:13.499445Z",
     "iopub.status.idle": "2022-04-22T02:54:13.505867Z",
     "shell.execute_reply": "2022-04-22T02:54:13.505225Z"
    },
    "jupyter": {
     "source_hidden": true
    },
    "papermill": {
     "duration": 0.028626,
     "end_time": "2022-04-22T02:54:13.507655",
     "exception": false,
     "start_time": "2022-04-22T02:54:13.479029",
     "status": "completed"
    },
    "tags": [
     "remove_input"
    ]
   },
   "outputs": [],
   "source": [
    "%%capture_parameters\n",
    "agency_name = rt_day.calitp_agency_name\n",
    "district = airtable_organizations.caltrans_district.iloc[0]\n",
    "agency_name, district"
   ]
  },
  {
   "cell_type": "markdown",
   "id": "52110155-d104-4043-8376-3f83e82a959a",
   "metadata": {
    "papermill": {
     "duration": 0.018778,
     "end_time": "2022-04-22T02:54:13.545089",
     "exception": false,
     "start_time": "2022-04-22T02:54:13.526311",
     "status": "completed"
    },
    "tags": []
   },
   "source": [
    "# Gold Country Stage"
   ]
  },
  {
   "cell_type": "markdown",
   "id": "7d5572cd-dd67-4e26-b100-a0e7472a4a17",
   "metadata": {
    "papermill": {
     "duration": 0.020205,
     "end_time": "2022-04-22T02:54:13.584573",
     "exception": false,
     "start_time": "2022-04-22T02:54:13.564368",
     "status": "completed"
    },
    "tags": []
   },
   "source": [
    "## About These Maps:\n",
    "\n",
    "* Each map shows bus (and rail, if applicable) speeds for Gold Country Stage, with a map each for the morning peak, midday, and afternoon peak periods.\n",
    "* On the map, routes are split into segments corresponding to the distance between two stops, allowing you to focus on specific portions of the route experiencing a slowdown.\n",
    "* Route segments are arrow-shaped to indicate direction of travel.\n",
    "* Hover over, or click, a segment with your mouse to see the exact speed, route name, and transit service frequency in that segment. \n",
    "    * Higher-frequency routes (3+ trips per hour) are especially important, since those slowdowns correspond to more vehicles, and riders, delayed in traffic."
   ]
  },
  {
   "cell_type": "code",
   "execution_count": 13,
   "id": "8e940d3d-c76e-42ba-be8b-739852771ca6",
   "metadata": {
    "execution": {
     "iopub.execute_input": "2022-04-22T02:54:13.624391Z",
     "iopub.status.busy": "2022-04-22T02:54:13.623858Z",
     "iopub.status.idle": "2022-04-22T02:54:13.627693Z",
     "shell.execute_reply": "2022-04-22T02:54:13.627197Z"
    },
    "jupyter": {
     "source_hidden": true
    },
    "papermill": {
     "duration": 0.025589,
     "end_time": "2022-04-22T02:54:13.629437",
     "exception": false,
     "start_time": "2022-04-22T02:54:13.603848",
     "status": "completed"
    },
    "tags": [
     "remove_input"
    ]
   },
   "outputs": [],
   "source": [
    "## avoid papermill errors when map fails to render\n",
    "m = None"
   ]
  },
  {
   "cell_type": "markdown",
   "id": "74fce4a9-514f-405d-9ce0-1cb1998a696b",
   "metadata": {
    "papermill": {
     "duration": 0.022117,
     "end_time": "2022-04-22T02:54:13.670422",
     "exception": false,
     "start_time": "2022-04-22T02:54:13.648305",
     "status": "completed"
    },
    "tags": []
   },
   "source": [
    "## Morning Peak"
   ]
  },
  {
   "cell_type": "code",
   "execution_count": 14,
   "id": "533a64f4-f374-4f2c-94d3-5146ebe7c036",
   "metadata": {
    "execution": {
     "iopub.execute_input": "2022-04-22T02:54:13.710074Z",
     "iopub.status.busy": "2022-04-22T02:54:13.709664Z",
     "iopub.status.idle": "2022-04-22T02:54:13.716856Z",
     "shell.execute_reply": "2022-04-22T02:54:13.716029Z"
    },
    "jupyter": {
     "source_hidden": true
    },
    "papermill": {
     "duration": 0.029236,
     "end_time": "2022-04-22T02:54:13.718682",
     "exception": false,
     "start_time": "2022-04-22T02:54:13.689446",
     "status": "completed"
    },
    "tags": [
     "remove_input"
    ]
   },
   "outputs": [],
   "source": [
    "%%capture\n",
    "rt_day.set_filter(start_time='06:00', end_time='09:00')"
   ]
  },
  {
   "cell_type": "code",
   "execution_count": 15,
   "id": "2f317120-99ee-435b-96cd-1236b8ee2e0b",
   "metadata": {
    "execution": {
     "iopub.execute_input": "2022-04-22T02:54:13.759977Z",
     "iopub.status.busy": "2022-04-22T02:54:13.758942Z",
     "iopub.status.idle": "2022-04-22T02:54:16.588440Z",
     "shell.execute_reply": "2022-04-22T02:54:16.587729Z"
    },
    "jupyter": {
     "source_hidden": true
    },
    "papermill": {
     "duration": 2.852354,
     "end_time": "2022-04-22T02:54:16.590508",
     "exception": false,
     "start_time": "2022-04-22T02:54:13.738154",
     "status": "completed"
    },
    "tags": [
     "remove_input"
    ]
   },
   "outputs": [],
   "source": [
    "%%capture\n",
    "m = rt_day.segment_speed_map(how='low_speeds', no_title=True)"
   ]
  },
  {
   "cell_type": "code",
   "execution_count": 16,
   "id": "275087be-b46d-4acb-95fe-2dc98c2089a2",
   "metadata": {
    "execution": {
     "iopub.execute_input": "2022-04-22T02:54:16.636650Z",
     "iopub.status.busy": "2022-04-22T02:54:16.636014Z",
     "iopub.status.idle": "2022-04-22T02:54:16.644881Z",
     "shell.execute_reply": "2022-04-22T02:54:16.644026Z"
    },
    "jupyter": {
     "source_hidden": true
    },
    "papermill": {
     "duration": 0.03415,
     "end_time": "2022-04-22T02:54:16.647340",
     "exception": false,
     "start_time": "2022-04-22T02:54:16.613190",
     "status": "completed"
    },
    "tags": [
     "remove_input"
    ]
   },
   "outputs": [],
   "source": [
    "m"
   ]
  },
  {
   "cell_type": "code",
   "execution_count": 17,
   "id": "b0cf9b97-7485-4f36-b5e8-124f22fa9661",
   "metadata": {
    "execution": {
     "iopub.execute_input": "2022-04-22T02:54:16.689655Z",
     "iopub.status.busy": "2022-04-22T02:54:16.689365Z",
     "iopub.status.idle": "2022-04-22T02:54:16.727739Z",
     "shell.execute_reply": "2022-04-22T02:54:16.726788Z"
    },
    "jupyter": {
     "source_hidden": true
    },
    "papermill": {
     "duration": 0.062123,
     "end_time": "2022-04-22T02:54:16.730020",
     "exception": false,
     "start_time": "2022-04-22T02:54:16.667897",
     "status": "completed"
    },
    "tags": [
     "remove_input"
    ]
   },
   "outputs": [
    {
     "data": {
      "text/markdown": [
       "AM Peak most delayed routes: \n",
       " * 1, Nevada City - Grass Valley, Northbound: 2.0 minutes late on average\n",
       " * 3, Route 3 continues onto Route 2 at the Tinloy St Transit Center on selected runs.  Route 3 continues to Loma Rica on selected runs on weekdays only., Southbound: 2.0 minutes late on average\n",
       " * 7, Grass Valley to North San Juan, Eastbound: 2.0 minutes late on average\n",
       " * 1, Nevada City - Grass Valley, Northbound: 0.0 minutes late on average"
      ],
      "text/plain": [
       "<IPython.core.display.Markdown object>"
      ]
     },
     "metadata": {},
     "output_type": "display_data"
    }
   ],
   "source": [
    "rt_day.describe_delayed_routes()"
   ]
  },
  {
   "cell_type": "markdown",
   "id": "3d263ba2-49ae-4e02-9d06-3181b03f51ba",
   "metadata": {
    "papermill": {
     "duration": 0.025447,
     "end_time": "2022-04-22T02:54:16.775340",
     "exception": false,
     "start_time": "2022-04-22T02:54:16.749893",
     "status": "completed"
    },
    "tags": []
   },
   "source": [
    "## Midday"
   ]
  },
  {
   "cell_type": "code",
   "execution_count": 18,
   "id": "f5344e63-89d2-43d6-9783-55a3061c99d2",
   "metadata": {
    "execution": {
     "iopub.execute_input": "2022-04-22T02:54:16.820245Z",
     "iopub.status.busy": "2022-04-22T02:54:16.819924Z",
     "iopub.status.idle": "2022-04-22T02:54:16.826448Z",
     "shell.execute_reply": "2022-04-22T02:54:16.825801Z"
    },
    "jupyter": {
     "source_hidden": true
    },
    "papermill": {
     "duration": 0.03175,
     "end_time": "2022-04-22T02:54:16.828692",
     "exception": false,
     "start_time": "2022-04-22T02:54:16.796942",
     "status": "completed"
    },
    "tags": [
     "remove_input"
    ]
   },
   "outputs": [],
   "source": [
    "%%capture\n",
    "rt_day.set_filter(start_time='10:00', end_time='14:00')"
   ]
  },
  {
   "cell_type": "code",
   "execution_count": 19,
   "id": "a4c40f3c-cf35-45d5-9d87-aa4701bed3aa",
   "metadata": {
    "execution": {
     "iopub.execute_input": "2022-04-22T02:54:16.876788Z",
     "iopub.status.busy": "2022-04-22T02:54:16.874389Z",
     "iopub.status.idle": "2022-04-22T02:54:17.802492Z",
     "shell.execute_reply": "2022-04-22T02:54:17.801850Z"
    },
    "jupyter": {
     "source_hidden": true
    },
    "papermill": {
     "duration": 0.95431,
     "end_time": "2022-04-22T02:54:17.804458",
     "exception": false,
     "start_time": "2022-04-22T02:54:16.850148",
     "status": "completed"
    },
    "tags": [
     "remove_input"
    ]
   },
   "outputs": [],
   "source": [
    "%%capture\n",
    "m = rt_day.segment_speed_map(how='low_speeds', no_title=True)"
   ]
  },
  {
   "cell_type": "code",
   "execution_count": 20,
   "id": "a78b7db5-f43f-4bf1-8036-ae972a87fc53",
   "metadata": {
    "execution": {
     "iopub.execute_input": "2022-04-22T02:54:17.849406Z",
     "iopub.status.busy": "2022-04-22T02:54:17.848844Z",
     "iopub.status.idle": "2022-04-22T02:54:17.853345Z",
     "shell.execute_reply": "2022-04-22T02:54:17.852488Z"
    },
    "jupyter": {
     "source_hidden": true
    },
    "papermill": {
     "duration": 0.028827,
     "end_time": "2022-04-22T02:54:17.855286",
     "exception": false,
     "start_time": "2022-04-22T02:54:17.826459",
     "status": "completed"
    },
    "tags": [
     "remove_input"
    ]
   },
   "outputs": [],
   "source": [
    "m"
   ]
  },
  {
   "cell_type": "code",
   "execution_count": 21,
   "id": "6c745570-b50f-4722-b943-2176444f7af6",
   "metadata": {
    "execution": {
     "iopub.execute_input": "2022-04-22T02:54:17.900272Z",
     "iopub.status.busy": "2022-04-22T02:54:17.899939Z",
     "iopub.status.idle": "2022-04-22T02:54:17.939835Z",
     "shell.execute_reply": "2022-04-22T02:54:17.938982Z"
    },
    "jupyter": {
     "source_hidden": true
    },
    "papermill": {
     "duration": 0.066185,
     "end_time": "2022-04-22T02:54:17.943840",
     "exception": false,
     "start_time": "2022-04-22T02:54:17.877655",
     "status": "completed"
    },
    "tags": [
     "remove_input"
    ]
   },
   "outputs": [
    {
     "data": {
      "text/markdown": [
       "Midday most delayed routes: \n",
       " * 1, Nevada City - Grass Valley, Northbound: 4.0 minutes late on average\n",
       " * 1, Nevada City - Grass Valley, Northbound: 0.0 minutes late on average"
      ],
      "text/plain": [
       "<IPython.core.display.Markdown object>"
      ]
     },
     "metadata": {},
     "output_type": "display_data"
    }
   ],
   "source": [
    "rt_day.describe_delayed_routes()"
   ]
  },
  {
   "cell_type": "markdown",
   "id": "704f0788-b4a8-497d-b2aa-c7ac6df939f4",
   "metadata": {
    "papermill": {
     "duration": 0.023044,
     "end_time": "2022-04-22T02:54:17.989516",
     "exception": false,
     "start_time": "2022-04-22T02:54:17.966472",
     "status": "completed"
    },
    "tags": []
   },
   "source": [
    "## Afternoon Peak"
   ]
  },
  {
   "cell_type": "code",
   "execution_count": 22,
   "id": "923f1462-b34a-42d2-a632-c5eb3ac16ac6",
   "metadata": {
    "execution": {
     "iopub.execute_input": "2022-04-22T02:54:18.034625Z",
     "iopub.status.busy": "2022-04-22T02:54:18.034328Z",
     "iopub.status.idle": "2022-04-22T02:54:18.039899Z",
     "shell.execute_reply": "2022-04-22T02:54:18.038938Z"
    },
    "jupyter": {
     "source_hidden": true
    },
    "papermill": {
     "duration": 0.031567,
     "end_time": "2022-04-22T02:54:18.042556",
     "exception": false,
     "start_time": "2022-04-22T02:54:18.010989",
     "status": "completed"
    },
    "tags": [
     "remove_input"
    ]
   },
   "outputs": [],
   "source": [
    "%%capture\n",
    "rt_day.set_filter(start_time='15:00', end_time='19:00')"
   ]
  },
  {
   "cell_type": "code",
   "execution_count": 23,
   "id": "5e46b095-7bc2-4552-a37b-661d076b2b51",
   "metadata": {
    "execution": {
     "iopub.execute_input": "2022-04-22T02:54:18.089387Z",
     "iopub.status.busy": "2022-04-22T02:54:18.088830Z",
     "iopub.status.idle": "2022-04-22T02:54:19.159404Z",
     "shell.execute_reply": "2022-04-22T02:54:19.158761Z"
    },
    "jupyter": {
     "source_hidden": true
    },
    "papermill": {
     "duration": 1.098466,
     "end_time": "2022-04-22T02:54:19.161558",
     "exception": false,
     "start_time": "2022-04-22T02:54:18.063092",
     "status": "completed"
    },
    "tags": [
     "remove_input"
    ]
   },
   "outputs": [],
   "source": [
    "%%capture\n",
    "m = rt_day.segment_speed_map(how='low_speeds', no_title=True)"
   ]
  },
  {
   "cell_type": "code",
   "execution_count": 24,
   "id": "0393f107-e9fe-4982-961a-032f7bf4e0eb",
   "metadata": {
    "execution": {
     "iopub.execute_input": "2022-04-22T02:54:19.207899Z",
     "iopub.status.busy": "2022-04-22T02:54:19.206879Z",
     "iopub.status.idle": "2022-04-22T02:54:19.211482Z",
     "shell.execute_reply": "2022-04-22T02:54:19.210897Z"
    },
    "jupyter": {
     "source_hidden": true
    },
    "papermill": {
     "duration": 0.029941,
     "end_time": "2022-04-22T02:54:19.213314",
     "exception": false,
     "start_time": "2022-04-22T02:54:19.183373",
     "status": "completed"
    },
    "tags": [
     "remove_input"
    ]
   },
   "outputs": [],
   "source": [
    "m"
   ]
  },
  {
   "cell_type": "code",
   "execution_count": 25,
   "id": "76580953-2a2b-4295-a41c-20442eae883e",
   "metadata": {
    "execution": {
     "iopub.execute_input": "2022-04-22T02:54:19.259287Z",
     "iopub.status.busy": "2022-04-22T02:54:19.258288Z",
     "iopub.status.idle": "2022-04-22T02:54:19.293291Z",
     "shell.execute_reply": "2022-04-22T02:54:19.292527Z"
    },
    "jupyter": {
     "source_hidden": true
    },
    "papermill": {
     "duration": 0.060943,
     "end_time": "2022-04-22T02:54:19.295335",
     "exception": false,
     "start_time": "2022-04-22T02:54:19.234392",
     "status": "completed"
    },
    "tags": [
     "remove_input"
    ]
   },
   "outputs": [
    {
     "data": {
      "text/markdown": [
       "PM Peak most delayed routes: \n",
       " * 1, Nevada City - Grass Valley, Northbound: 6.0 minutes late on average\n",
       " * 1, Nevada City - Grass Valley, Northbound: 2.0 minutes late on average\n",
       " * 1, Nevada City - Grass Valley, Northbound: 0.0 minutes late on average\n",
       " * 7, Grass Valley to North San Juan, Eastbound: 0.0 minutes late on average"
      ],
      "text/plain": [
       "<IPython.core.display.Markdown object>"
      ]
     },
     "metadata": {},
     "output_type": "display_data"
    }
   ],
   "source": [
    "rt_day.describe_delayed_routes()"
   ]
  },
  {
   "cell_type": "code",
   "execution_count": 26,
   "id": "91874f76-635b-4fde-8d61-abc795aca6c6",
   "metadata": {
    "execution": {
     "iopub.execute_input": "2022-04-22T02:54:19.344856Z",
     "iopub.status.busy": "2022-04-22T02:54:19.344175Z",
     "iopub.status.idle": "2022-04-22T02:54:19.382133Z",
     "shell.execute_reply": "2022-04-22T02:54:19.381246Z"
    },
    "jupyter": {
     "source_hidden": true
    },
    "papermill": {
     "duration": 0.065596,
     "end_time": "2022-04-22T02:54:19.384440",
     "exception": false,
     "start_time": "2022-04-22T02:54:19.318844",
     "status": "completed"
    },
    "tags": [
     "remove_input"
    ]
   },
   "outputs": [],
   "source": [
    "try:\n",
    "    metrics_df = (rt_day.rt_trips\n",
    "         >> group_by(_.route_short_name, _.direction_id)\n",
    "         >> summarize(speed_variance = _.mean_speed_mph.var(),\n",
    "                     mean_speed_mph = _.mean_speed_mph.mean(),\n",
    "                     min_hour = _.median_time.min().hour,\n",
    "                     max_hour = _.median_time.max().hour)\n",
    "         >> filter(_.min_hour <= 7, _.max_hour >= 15,\n",
    "                   _.mean_speed_mph < _.mean_speed_mph.quantile(.6),\n",
    "                   _.speed_variance)\n",
    "         >> arrange(-_.speed_variance)\n",
    "         >> head(20)\n",
    "        )\n",
    "except Exception as e:\n",
    "    pass\n",
    "    # print(e)\n",
    "## check that route has all-day span..."
   ]
  },
  {
   "cell_type": "code",
   "execution_count": 27,
   "id": "758b0bae-32d0-40dd-a1d1-1d107b0e7e8b",
   "metadata": {
    "execution": {
     "iopub.execute_input": "2022-04-22T02:54:19.431535Z",
     "iopub.status.busy": "2022-04-22T02:54:19.430642Z",
     "iopub.status.idle": "2022-04-22T02:54:19.438800Z",
     "shell.execute_reply": "2022-04-22T02:54:19.438138Z"
    },
    "jupyter": {
     "source_hidden": true
    },
    "papermill": {
     "duration": 0.034277,
     "end_time": "2022-04-22T02:54:19.440810",
     "exception": false,
     "start_time": "2022-04-22T02:54:19.406533",
     "status": "completed"
    },
    "tags": [
     "remove_input"
    ]
   },
   "outputs": [],
   "source": [
    "def map_from_metrics(rt_day, metrics_df):\n",
    "    try:\n",
    "        route_name = metrics_df.iloc[1,0]\n",
    "        direction_id = metrics_df.iloc[1,1]\n",
    "        # print(route_name, direction_id)\n",
    "    except Exception as e:\n",
    "        # print(e)\n",
    "        return\n",
    "    # route_name = '281'\n",
    "    # direction_id = '1'\n",
    "    rt_day.set_filter(start_time='06:00', end_time='09:00',\n",
    "                      route_names=[route_name], direction_id = direction_id)\n",
    "    try:\n",
    "        am_map = rt_day.segment_speed_map(how='low_speeds')\n",
    "        display(am_map)\n",
    "    except Exception as e:\n",
    "        # print(e)\n",
    "        pass\n",
    "    \n",
    "    rt_day.set_filter(start_time='10:00', end_time='14:00',\n",
    "                      route_names=[route_name], direction_id = direction_id)\n",
    "    try:\n",
    "        mid_map = rt_day.segment_speed_map(how='low_speeds')\n",
    "        display(mid_map)\n",
    "    except Exception as e:\n",
    "        # print(e)\n",
    "        pass\n",
    "\n",
    "    rt_day.set_filter(start_time='15:00', end_time='19:00',\n",
    "                      route_names=[route_name], direction_id = direction_id)\n",
    "    try:\n",
    "        pm_map = rt_day.segment_speed_map(how='low_speeds')\n",
    "        display(pm_map)\n",
    "    except Exception as e:\n",
    "        # print(e)\n",
    "        pass\n",
    "\n",
    "    return"
   ]
  },
  {
   "cell_type": "markdown",
   "id": "6ce187c8-c7bf-44f4-970e-b3abd69ddc38",
   "metadata": {
    "papermill": {
     "duration": 0.025765,
     "end_time": "2022-04-22T02:54:19.489045",
     "exception": false,
     "start_time": "2022-04-22T02:54:19.463280",
     "status": "completed"
    },
    "tags": []
   },
   "source": [
    "## Single-Route Detail Example"
   ]
  },
  {
   "cell_type": "code",
   "execution_count": 28,
   "id": "c7b4b043-6d15-4d9c-8aac-f0f6649e9552",
   "metadata": {
    "execution": {
     "iopub.execute_input": "2022-04-22T02:54:19.538328Z",
     "iopub.status.busy": "2022-04-22T02:54:19.537496Z",
     "iopub.status.idle": "2022-04-22T02:54:20.652649Z",
     "shell.execute_reply": "2022-04-22T02:54:20.651966Z"
    },
    "jupyter": {
     "source_hidden": true
    },
    "papermill": {
     "duration": 1.141108,
     "end_time": "2022-04-22T02:54:20.655078",
     "exception": false,
     "start_time": "2022-04-22T02:54:19.513970",
     "status": "completed"
    },
    "tags": [
     "remove_input"
    ]
   },
   "outputs": [],
   "source": [
    "try:\n",
    "    map_from_metrics(rt_day, metrics_df)\n",
    "except Exception as e:\n",
    "    # print(e)\n",
    "    pass"
   ]
  },
  {
   "cell_type": "code",
   "execution_count": null,
   "id": "a7d189cb-26d5-4a49-bf0f-2c33fd408f7e",
   "metadata": {
    "jupyter": {
     "source_hidden": true
    },
    "papermill": {
     "duration": 0.024122,
     "end_time": "2022-04-22T02:54:20.707185",
     "exception": false,
     "start_time": "2022-04-22T02:54:20.683063",
     "status": "completed"
    },
    "tags": [
     "remove_input"
    ]
   },
   "outputs": [],
   "source": []
  }
 ],
 "metadata": {
  "kernelspec": {
   "display_name": "Python 3 (ipykernel)",
   "language": "python",
   "name": "python3"
  },
  "language_info": {
   "codemirror_mode": {
    "name": "ipython",
    "version": 3
   },
   "file_extension": ".py",
   "mimetype": "text/x-python",
   "name": "python",
   "nbconvert_exporter": "python",
   "pygments_lexer": "ipython3",
   "version": "3.9.10"
  },
  "papermill": {
   "default_parameters": {},
   "duration": 25.755134,
   "end_time": "2022-04-22T02:54:22.256807",
   "environment_variables": {},
   "exception": null,
   "input_path": "rt_delay/speedmaps.ipynb",
   "output_path": "portfolio/rt/district_03-marysville/speedmaps__itp_id_221.ipynb",
   "parameters": {
    "district": "03 - Marysville",
    "itp_id": 221
   },
   "start_time": "2022-04-22T02:53:56.501673",
   "version": "2.3.4"
  }
 },
 "nbformat": 4,
 "nbformat_minor": 5
}