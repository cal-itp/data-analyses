version https://git-lfs.github.com/spec/v1
oid sha256:389020f15b23be502aac3b3169c6a97c936d7137fc33b64c4b0ae4ec7e1da3ce
size 71197
