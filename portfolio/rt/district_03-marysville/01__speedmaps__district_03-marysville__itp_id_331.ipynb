version https://git-lfs.github.com/spec/v1
oid sha256:6ca1247e250c05bdb997b5600ac5f94e7422db5d637bd62206a8b2ab54a51ac4
size 92006
