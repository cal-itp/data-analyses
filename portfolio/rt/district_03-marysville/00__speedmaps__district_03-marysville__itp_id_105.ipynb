version https://git-lfs.github.com/spec/v1
oid sha256:d97f43cca9c3c062b239b84e2f0cc1785c12864421e0e30f05ccc5fd30bdda97
size 74208
