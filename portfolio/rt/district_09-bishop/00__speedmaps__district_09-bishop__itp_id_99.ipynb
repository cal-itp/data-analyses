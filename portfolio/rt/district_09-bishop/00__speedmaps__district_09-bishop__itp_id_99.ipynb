version https://git-lfs.github.com/spec/v1
oid sha256:ea2da450f4c2cbcf420865d6b7db064e796d8acb0aa139bd1d46e95d0ffc27b1
size 89990
