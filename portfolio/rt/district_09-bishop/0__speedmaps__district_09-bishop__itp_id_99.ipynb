version https://git-lfs.github.com/spec/v1
oid sha256:06b00332dd01ead9e171a11ec7183c2992b9bf82240643f4f141d22368aae554
size 72160
