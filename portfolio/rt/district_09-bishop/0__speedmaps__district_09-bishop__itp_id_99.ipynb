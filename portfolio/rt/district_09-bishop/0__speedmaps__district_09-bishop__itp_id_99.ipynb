version https://git-lfs.github.com/spec/v1
oid sha256:11148062e822f29a6c53fb42234b972f3356ac90a1dac2c42449a59418746085
size 688185
