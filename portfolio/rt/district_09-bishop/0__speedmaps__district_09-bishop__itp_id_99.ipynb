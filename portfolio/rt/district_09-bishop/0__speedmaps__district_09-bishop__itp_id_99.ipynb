version https://git-lfs.github.com/spec/v1
oid sha256:045e2632ea5b41a8a4a3a9653ba56b6c006f60813209afe06ccb48f556a754b5
size 251
