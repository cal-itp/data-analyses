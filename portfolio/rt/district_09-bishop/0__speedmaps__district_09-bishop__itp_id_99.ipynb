version https://git-lfs.github.com/spec/v1
oid sha256:4b16911fad5601f1b679dcd2cec75a9f3093303df85b6de923bdc064fa1ea56a
size 73461
