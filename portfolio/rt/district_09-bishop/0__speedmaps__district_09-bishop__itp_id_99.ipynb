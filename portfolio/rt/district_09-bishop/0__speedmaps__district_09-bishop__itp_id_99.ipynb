version https://git-lfs.github.com/spec/v1
oid sha256:0ef51b80927e3eea8cfba6affe16d4bca799645d5783528b68471256e15c75e9
size 70966
