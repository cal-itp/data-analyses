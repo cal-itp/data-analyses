{
 "cells": [
  {
   "cell_type": "code",
   "execution_count": 1,
   "id": "e983f1ab-ed21-4604-88a2-598cffea4ef1",
   "metadata": {
    "execution": {
     "iopub.execute_input": "2022-05-02T23:02:49.628199Z",
     "iopub.status.busy": "2022-05-02T23:02:49.627663Z",
     "iopub.status.idle": "2022-05-02T23:02:58.834309Z",
     "shell.execute_reply": "2022-05-02T23:02:58.833159Z"
    },
    "jupyter": {
     "source_hidden": true
    },
    "papermill": {
     "duration": 9.229557,
     "end_time": "2022-05-02T23:02:58.837702",
     "exception": false,
     "start_time": "2022-05-02T23:02:49.608145",
     "status": "completed"
    },
    "tags": [
     "remove_input"
    ]
   },
   "outputs": [],
   "source": [
    "%%capture\n",
    "\n",
    "import numpy as np\n",
    "import pandas as pd\n",
    "from siuba import *\n",
    "\n",
    "import altair as alt\n",
    "import altair_saver\n",
    "from plotnine import *\n",
    "\n",
    "from IPython.display import Markdown, HTML, Image\n",
    "import ipywidgets as widgets\n",
    "from ipywidgets import interact, interactive\n",
    "\n",
    "from shared_utils import altair_utils\n",
    "from shared_utils import geography_utils\n",
    "from shared_utils import calitp_color_palette as cp\n",
    "from shared_utils import styleguide\n",
    "\n",
    "from calitp import to_snakecase\n",
    "import intake\n",
    "\n",
    "import _dla_utils_reports\n",
    "\n",
    "\n"
   ]
  },
  {
   "cell_type": "code",
   "execution_count": 2,
   "id": "82cf8245-73d2-4ed3-93cf-7ee01661b024",
   "metadata": {
    "execution": {
     "iopub.execute_input": "2022-05-02T23:02:58.878422Z",
     "iopub.status.busy": "2022-05-02T23:02:58.878028Z",
     "iopub.status.idle": "2022-05-02T23:02:58.882478Z",
     "shell.execute_reply": "2022-05-02T23:02:58.881608Z"
    },
    "jupyter": {
     "source_hidden": true
    },
    "papermill": {
     "duration": 0.025457,
     "end_time": "2022-05-02T23:02:58.884453",
     "exception": false,
     "start_time": "2022-05-02T23:02:58.858996",
     "status": "completed"
    },
    "tags": [
     "parameters",
     "remove_input"
    ]
   },
   "outputs": [],
   "source": [
    "#Parameter Cell\n",
    "\n",
    "district = 4"
   ]
  },
  {
   "cell_type": "code",
   "execution_count": 3,
   "id": "956c85fa",
   "metadata": {
    "execution": {
     "iopub.execute_input": "2022-05-02T23:02:58.922934Z",
     "iopub.status.busy": "2022-05-02T23:02:58.922169Z",
     "iopub.status.idle": "2022-05-02T23:02:58.926974Z",
     "shell.execute_reply": "2022-05-02T23:02:58.926387Z"
    },
    "jupyter": {
     "source_hidden": true
    },
    "papermill": {
     "duration": 0.025272,
     "end_time": "2022-05-02T23:02:58.928907",
     "exception": false,
     "start_time": "2022-05-02T23:02:58.903635",
     "status": "completed"
    },
    "tags": [
     "injected-parameters",
     "remove_input"
    ]
   },
   "outputs": [],
   "source": [
    "# Parameters\n",
    "district = 1\n"
   ]
  },
  {
   "cell_type": "code",
   "execution_count": 4,
   "id": "948b2b4f-ef9b-48ff-b109-e7b76361066c",
   "metadata": {
    "execution": {
     "iopub.execute_input": "2022-05-02T23:02:58.971731Z",
     "iopub.status.busy": "2022-05-02T23:02:58.970876Z",
     "iopub.status.idle": "2022-05-02T23:02:59.397684Z",
     "shell.execute_reply": "2022-05-02T23:02:59.396461Z"
    },
    "jupyter": {
     "source_hidden": true
    },
    "papermill": {
     "duration": 0.449201,
     "end_time": "2022-05-02T23:02:59.400756",
     "exception": false,
     "start_time": "2022-05-02T23:02:58.951555",
     "status": "completed"
    },
    "tags": [
     "remove_input"
    ]
   },
   "outputs": [],
   "source": [
    "df= pd.read_parquet(\"gs://calitp-analytics-data/data-analyses/dla/e-76Obligated/dla_df.parquet\")\n"
   ]
  },
  {
   "cell_type": "code",
   "execution_count": 5,
   "id": "be910f27-7608-4522-8d8d-ef93611cb748",
   "metadata": {
    "execution": {
     "iopub.execute_input": "2022-05-02T23:02:59.454691Z",
     "iopub.status.busy": "2022-05-02T23:02:59.454189Z",
     "iopub.status.idle": "2022-05-02T23:02:59.564025Z",
     "shell.execute_reply": "2022-05-02T23:02:59.562906Z"
    },
    "jupyter": {
     "source_hidden": true
    },
    "papermill": {
     "duration": 0.149132,
     "end_time": "2022-05-02T23:02:59.567616",
     "exception": false,
     "start_time": "2022-05-02T23:02:59.418484",
     "status": "completed"
    },
    "tags": [
     "remove_input"
    ]
   },
   "outputs": [],
   "source": [
    "df = (df>>filter(_.dist==district))\n",
    "    \n",
    "    \n",
    "#subsetting the data\n",
    "df_years = _dla_utils_reports.count_all_years(df)\n",
    "df_top = _dla_utils_reports.find_top(df)\n",
    "    "
   ]
  },
  {
   "cell_type": "code",
   "execution_count": 6,
   "id": "7f5ac0a1-a951-4072-8f85-d2c90290907f",
   "metadata": {
    "execution": {
     "iopub.execute_input": "2022-05-02T23:02:59.606758Z",
     "iopub.status.busy": "2022-05-02T23:02:59.605981Z",
     "iopub.status.idle": "2022-05-02T23:02:59.773500Z",
     "shell.execute_reply": "2022-05-02T23:02:59.772572Z"
    },
    "jupyter": {
     "source_hidden": true
    },
    "papermill": {
     "duration": 0.189386,
     "end_time": "2022-05-02T23:02:59.776200",
     "exception": false,
     "start_time": "2022-05-02T23:02:59.586814",
     "status": "completed"
    },
    "tags": [
     "remove_input"
    ]
   },
   "outputs": [
    {
     "data": {
      "text/html": [
       "<h2>Quick Stats</h2>"
      ],
      "text/plain": [
       "<IPython.core.display.HTML object>"
      ]
     },
     "metadata": {},
     "output_type": "display_data"
    },
    {
     "data": {
      "text/html": [
       "There are <strong>20 Unique Agencies</strong>"
      ],
      "text/plain": [
       "<IPython.core.display.HTML object>"
      ]
     },
     "metadata": {},
     "output_type": "display_data"
    },
    {
     "data": {
      "text/html": [
       "Out of <strong>1266</strong> obligations, <strong>1 are transit-related</strong>."
      ],
      "text/plain": [
       "<IPython.core.display.HTML object>"
      ]
     },
     "metadata": {},
     "output_type": "display_data"
    },
    {
     "data": {
      "text/html": [
       "<strong>Trinidad</strong> has the <strong>highest transit</strong> obligations"
      ],
      "text/plain": [
       "<IPython.core.display.HTML object>"
      ]
     },
     "metadata": {},
     "output_type": "display_data"
    },
    {
     "data": {
      "text/html": [
       "There are <strong>1 agencies have over 269.35</strong> obligations (95th percentile) since 2013.0"
      ],
      "text/plain": [
       "<IPython.core.display.HTML object>"
      ]
     },
     "metadata": {},
     "output_type": "display_data"
    },
    {
     "data": {
      "text/html": [
       "There are <strong>2 agencies have less than 1.90</strong> obligations (5th percentile) since 2013.0"
      ],
      "text/plain": [
       "<IPython.core.display.HTML object>"
      ]
     },
     "metadata": {},
     "output_type": "display_data"
    },
    {
     "data": {
      "text/html": [
       "<h4><strong>Number of Unique Prefix Codes by Agency</strong></h4>"
      ],
      "text/plain": [
       "<IPython.core.display.HTML object>"
      ]
     },
     "metadata": {},
     "output_type": "display_data"
    },
    {
     "data": {
      "text/html": [
       "<div>\n",
       "<style scoped>\n",
       "    .dataframe tbody tr th:only-of-type {\n",
       "        vertical-align: middle;\n",
       "    }\n",
       "\n",
       "    .dataframe tbody tr th {\n",
       "        vertical-align: top;\n",
       "    }\n",
       "\n",
       "    .dataframe thead th {\n",
       "        text-align: right;\n",
       "    }\n",
       "</style>\n",
       "<table border=\"1\" class=\"dataframe\">\n",
       "  <thead>\n",
       "    <tr style=\"text-align: right;\">\n",
       "      <th></th>\n",
       "      <th>Agency</th>\n",
       "      <th>Number of Unqiue Prefix Codes</th>\n",
       "    </tr>\n",
       "  </thead>\n",
       "  <tbody>\n",
       "    <tr>\n",
       "      <th>12</th>\n",
       "      <td>Humboldt County</td>\n",
       "      <td>16</td>\n",
       "    </tr>\n",
       "    <tr>\n",
       "      <th>13</th>\n",
       "      <td>Lake County</td>\n",
       "      <td>11</td>\n",
       "    </tr>\n",
       "    <tr>\n",
       "      <th>15</th>\n",
       "      <td>Mendocino County</td>\n",
       "      <td>10</td>\n",
       "    </tr>\n",
       "    <tr>\n",
       "      <th>7</th>\n",
       "      <td>Eureka</td>\n",
       "      <td>6</td>\n",
       "    </tr>\n",
       "    <tr>\n",
       "      <th>5</th>\n",
       "      <td>Del Norte County</td>\n",
       "      <td>5</td>\n",
       "    </tr>\n",
       "  </tbody>\n",
       "</table>\n",
       "</div>"
      ],
      "text/plain": [
       "              Agency  Number of Unqiue Prefix Codes\n",
       "12   Humboldt County                             16\n",
       "13       Lake County                             11\n",
       "15  Mendocino County                             10\n",
       "7             Eureka                              6\n",
       "5   Del Norte County                              5"
      ]
     },
     "metadata": {},
     "output_type": "display_data"
    },
    {
     "data": {
      "text/html": [
       "<h4><strong>Number of Unique Agencies by Prefix Codes</strong></h4>"
      ],
      "text/plain": [
       "<IPython.core.display.HTML object>"
      ]
     },
     "metadata": {},
     "output_type": "display_data"
    },
    {
     "data": {
      "text/html": [
       "<div>\n",
       "<style scoped>\n",
       "    .dataframe tbody tr th:only-of-type {\n",
       "        vertical-align: middle;\n",
       "    }\n",
       "\n",
       "    .dataframe tbody tr th {\n",
       "        vertical-align: top;\n",
       "    }\n",
       "\n",
       "    .dataframe thead th {\n",
       "        text-align: right;\n",
       "    }\n",
       "</style>\n",
       "<table border=\"1\" class=\"dataframe\">\n",
       "  <thead>\n",
       "    <tr style=\"text-align: right;\">\n",
       "      <th></th>\n",
       "      <th>Prefix</th>\n",
       "      <th>Number of Unqiue Agencies</th>\n",
       "    </tr>\n",
       "  </thead>\n",
       "  <tbody>\n",
       "    <tr>\n",
       "      <th>21</th>\n",
       "      <td>RPSTPL</td>\n",
       "      <td>12</td>\n",
       "    </tr>\n",
       "    <tr>\n",
       "      <th>19</th>\n",
       "      <td>HSIPL</td>\n",
       "      <td>9</td>\n",
       "    </tr>\n",
       "    <tr>\n",
       "      <th>13</th>\n",
       "      <td>ER</td>\n",
       "      <td>5</td>\n",
       "    </tr>\n",
       "    <tr>\n",
       "      <th>22</th>\n",
       "      <td>RPSTPLE</td>\n",
       "      <td>5</td>\n",
       "    </tr>\n",
       "    <tr>\n",
       "      <th>0</th>\n",
       "      <td>ACSTER</td>\n",
       "      <td>4</td>\n",
       "    </tr>\n",
       "  </tbody>\n",
       "</table>\n",
       "</div>"
      ],
      "text/plain": [
       "     Prefix  Number of Unqiue Agencies\n",
       "21   RPSTPL                         12\n",
       "19    HSIPL                          9\n",
       "13       ER                          5\n",
       "22  RPSTPLE                          5\n",
       "0    ACSTER                          4"
      ]
     },
     "metadata": {},
     "output_type": "display_data"
    },
    {
     "data": {
      "text/html": [
       "<h4><strong>Top 5 Types of Work</strong></h4>"
      ],
      "text/plain": [
       "<IPython.core.display.HTML object>"
      ]
     },
     "metadata": {},
     "output_type": "display_data"
    },
    {
     "data": {
      "text/html": [
       "<style type=\"text/css\">\n",
       "</style>\n",
       "<table id=\"T_46fbb\">\n",
       "  <thead>\n",
       "    <tr>\n",
       "      <th class=\"blank level0\" >&nbsp;</th>\n",
       "      <th id=\"T_46fbb_level0_col0\" class=\"col_heading level0 col0\" >Type of Work</th>\n",
       "    </tr>\n",
       "  </thead>\n",
       "  <tbody>\n",
       "    <tr>\n",
       "      <th id=\"T_46fbb_level0_row0\" class=\"row_heading level0 row0\" >116</th>\n",
       "      <td id=\"T_46fbb_row0_col0\" class=\"data row0 col0\" >Permanent Restoration</td>\n",
       "    </tr>\n",
       "    <tr>\n",
       "      <th id=\"T_46fbb_level0_row1\" class=\"row_heading level0 row1\" >200</th>\n",
       "      <td id=\"T_46fbb_row1_col0\" class=\"data row1 col0\" >Storm Damage Restoration</td>\n",
       "    </tr>\n",
       "    <tr>\n",
       "      <th id=\"T_46fbb_level0_row2\" class=\"row_heading level0 row2\" >52</th>\n",
       "      <td id=\"T_46fbb_row2_col0\" class=\"data row2 col0\" >Emergency Opening</td>\n",
       "    </tr>\n",
       "    <tr>\n",
       "      <th id=\"T_46fbb_level0_row3\" class=\"row_heading level0 row3\" >25</th>\n",
       "      <td id=\"T_46fbb_row3_col0\" class=\"data row3 col0\" >Bridge Replacement (tc)</td>\n",
       "    </tr>\n",
       "    <tr>\n",
       "      <th id=\"T_46fbb_level0_row4\" class=\"row_heading level0 row4\" >146</th>\n",
       "      <td id=\"T_46fbb_row4_col0\" class=\"data row4 col0\" >Replace Bridge (tc)</td>\n",
       "    </tr>\n",
       "  </tbody>\n",
       "</table>\n"
      ],
      "text/plain": [
       "<pandas.io.formats.style.Styler at 0x7ff425a61220>"
      ]
     },
     "metadata": {},
     "output_type": "display_data"
    }
   ],
   "source": [
    "display(HTML(\"<h2>Quick Stats</h2>\"))\n",
    "\n",
    "display(\n",
    "    HTML(\n",
    "        f\"There are <strong>{(df.primary_agency_name.nunique())} Unique Agencies</strong>\"\n",
    "    )\n",
    ")\n",
    "\n",
    "transit = df >> filter(_.transit == 1)\n",
    "\n",
    "display(\n",
    "    HTML(\n",
    "        f\"Out of <strong>{len(df)}</strong> obligations, <strong>{len(transit)} are transit-related</strong>.\"\n",
    "    )\n",
    ")\n",
    "display(\n",
    "    HTML(\n",
    "        f\"<strong>{(transit>>count(_.primary_agency_name)>>arrange(-_.n)).iloc[0, 0]}</strong> has the <strong>highest transit</strong> obligations\"\n",
    "    )\n",
    ")\n",
    "\n",
    "q = df >> count(_.primary_agency_name) >> arrange(_.n)\n",
    "\n",
    "q2 = q.n.quantile(0.95)\n",
    "\n",
    "display(\n",
    "    HTML(\n",
    "        f\"There are <strong>{len(q>>filter(_.n> (q2)))} agencies have over {('%.2f'%(q2))}</strong> obligations (95th percentile) since {(df.prepared_y.min())}\"\n",
    "    )\n",
    ")\n",
    "\n",
    "q3 = q.n.quantile(0.1)\n",
    "display(\n",
    "    HTML(\n",
    "        (\n",
    "            f\"There are <strong>{len(q>>filter(_.n< (q3)))} agencies have less than {('%.2f'%(q3))}</strong> obligations (5th percentile) since {(df.prepared_y.min())}\"\n",
    "        )\n",
    "    )\n",
    ")\n",
    "\n",
    "## tables\n",
    "display(HTML(\"<h4><strong>Number of Unique Prefix Codes by Agency</strong></h4>\"))\n",
    "display(\n",
    "    (_dla_utils_reports.get_nunique(df, \"prefix\", \"primary_agency_name\"))\n",
    "    .rename(\n",
    "        columns={\"primary_agency_name\": \"Agency\", \"n\": \"Number of Unqiue Prefix Codes\"}\n",
    "    )\n",
    "    .head(5)\n",
    ")\n",
    "\n",
    "display(HTML(\"<h4><strong>Number of Unique Agencies by Prefix Codes</strong></h4>\"))\n",
    "display(\n",
    "    (_dla_utils_reports.get_nunique(df, \"primary_agency_name\", \"prefix\"))\n",
    "    .rename(columns={\"prefix\": \"Prefix\", \"n\": \"Number of Unqiue Agencies\"})\n",
    "    .head(5)\n",
    ")\n",
    "\n",
    "display(HTML(\"<h4><strong>Top 5 Types of Work</strong></h4>\"))\n",
    "work_types = (\n",
    "    (df >> count(_.type_of_work) >> arrange(-_.n) >> select(_.type_of_work))\n",
    "    .rename(columns={\"type_of_work\": \"Type of Work\"})\n",
    "    .head(5)\n",
    ")\n",
    "display(work_types.style)"
   ]
  },
  {
   "cell_type": "code",
   "execution_count": 7,
   "id": "88ad1708-b3c0-40b1-859c-67e50724b983",
   "metadata": {
    "execution": {
     "iopub.execute_input": "2022-05-02T23:02:59.823654Z",
     "iopub.status.busy": "2022-05-02T23:02:59.822684Z",
     "iopub.status.idle": "2022-05-02T23:02:59.829998Z",
     "shell.execute_reply": "2022-05-02T23:02:59.829154Z"
    },
    "jupyter": {
     "source_hidden": true
    },
    "papermill": {
     "duration": 0.032803,
     "end_time": "2022-05-02T23:02:59.832012",
     "exception": false,
     "start_time": "2022-05-02T23:02:59.799209",
     "status": "completed"
    },
    "tags": [
     "remove_input"
    ]
   },
   "outputs": [
    {
     "data": {
      "text/markdown": [
       "<h2> Number of Obligations </h2>"
      ],
      "text/plain": [
       "<IPython.core.display.Markdown object>"
      ]
     },
     "metadata": {},
     "output_type": "display_data"
    }
   ],
   "source": [
    " #Visual Charts\n",
    "\n",
    "display(Markdown(\"<h2> Number of Obligations </h2>\"))"
   ]
  },
  {
   "cell_type": "code",
   "execution_count": 8,
   "id": "ae85287b-0772-4595-8ea2-ccba83dd22cf",
   "metadata": {
    "execution": {
     "iopub.execute_input": "2022-05-02T23:02:59.891012Z",
     "iopub.status.busy": "2022-05-02T23:02:59.889878Z",
     "iopub.status.idle": "2022-05-02T23:02:59.936474Z",
     "shell.execute_reply": "2022-05-02T23:02:59.935538Z"
    },
    "jupyter": {
     "source_hidden": true
    },
    "papermill": {
     "duration": 0.075189,
     "end_time": "2022-05-02T23:02:59.938687",
     "exception": false,
     "start_time": "2022-05-02T23:02:59.863498",
     "status": "completed"
    },
    "tags": [
     "remove_input"
    ]
   },
   "outputs": [
    {
     "data": {
      "text/html": [
       "<h4><strong>Obligations by Year</strong></h4>"
      ],
      "text/plain": [
       "<IPython.core.display.HTML object>"
      ]
     },
     "metadata": {},
     "output_type": "display_data"
    },
    {
     "data": {
      "text/html": [
       "\n",
       "<div id=\"altair-viz-8ffbded6ac3c47579aa80bd61374bbcc\"></div>\n",
       "<script type=\"text/javascript\">\n",
       "  var VEGA_DEBUG = (typeof VEGA_DEBUG == \"undefined\") ? {} : VEGA_DEBUG;\n",
       "  (function(spec, embedOpt){\n",
       "    let outputDiv = document.currentScript.previousElementSibling;\n",
       "    if (outputDiv.id !== \"altair-viz-8ffbded6ac3c47579aa80bd61374bbcc\") {\n",
       "      outputDiv = document.getElementById(\"altair-viz-8ffbded6ac3c47579aa80bd61374bbcc\");\n",
       "    }\n",
       "    const paths = {\n",
       "      \"vega\": \"https://cdn.jsdelivr.net/npm//vega@5?noext\",\n",
       "      \"vega-lib\": \"https://cdn.jsdelivr.net/npm//vega-lib?noext\",\n",
       "      \"vega-lite\": \"https://cdn.jsdelivr.net/npm//vega-lite@4.17.0?noext\",\n",
       "      \"vega-embed\": \"https://cdn.jsdelivr.net/npm//vega-embed@6?noext\",\n",
       "    };\n",
       "\n",
       "    function maybeLoadScript(lib, version) {\n",
       "      var key = `${lib.replace(\"-\", \"\")}_version`;\n",
       "      return (VEGA_DEBUG[key] == version) ?\n",
       "        Promise.resolve(paths[lib]) :\n",
       "        new Promise(function(resolve, reject) {\n",
       "          var s = document.createElement('script');\n",
       "          document.getElementsByTagName(\"head\")[0].appendChild(s);\n",
       "          s.async = true;\n",
       "          s.onload = () => {\n",
       "            VEGA_DEBUG[key] = version;\n",
       "            return resolve(paths[lib]);\n",
       "          };\n",
       "          s.onerror = () => reject(`Error loading script: ${paths[lib]}`);\n",
       "          s.src = paths[lib];\n",
       "        });\n",
       "    }\n",
       "\n",
       "    function showError(err) {\n",
       "      outputDiv.innerHTML = `<div class=\"error\" style=\"color:red;\">${err}</div>`;\n",
       "      throw err;\n",
       "    }\n",
       "\n",
       "    function displayChart(vegaEmbed) {\n",
       "      vegaEmbed(outputDiv, spec, embedOpt)\n",
       "        .catch(err => showError(`Javascript Error: ${err.message}<br>This usually means there's a typo in your chart specification. See the javascript console for the full traceback.`));\n",
       "    }\n",
       "\n",
       "    if(typeof define === \"function\" && define.amd) {\n",
       "      requirejs.config({paths});\n",
       "      require([\"vega-embed\"], displayChart, err => showError(`Error loading script: ${err.message}`));\n",
       "    } else {\n",
       "      maybeLoadScript(\"vega\", \"5\")\n",
       "        .then(() => maybeLoadScript(\"vega-lite\", \"4.17.0\"))\n",
       "        .then(() => maybeLoadScript(\"vega-embed\", \"6\"))\n",
       "        .catch(showError)\n",
       "        .then(() => displayChart(vegaEmbed));\n",
       "    }\n",
       "  })({\"config\": {\"view\": {\"continuousWidth\": 400, \"continuousHeight\": 300}, \"axis\": {\"domainColor\": \"#cbcbcb\", \"grid\": true, \"gridColor\": \"#cbcbcb\", \"gridWidth\": 1, \"labelColor\": \"#474747\", \"labelFont\": \"Nunito Sans\", \"labelFontSize\": 10, \"labelPadding\": 4, \"tickColor\": \"#cbcbcb\", \"tickSize\": 10, \"titleColor\": \"#333\", \"titleFont\": \"Raleway\", \"titleFontSize\": 12, \"titlePadding\": 10}, \"axisBand\": {\"grid\": false}, \"background\": \"white\", \"font\": \"Raleway\", \"header\": {\"labelFont\": \"Nunito Sans\", \"titleFont\": \"Raleway\"}, \"legend\": {\"labelColor\": \"#333\", \"labelFont\": \"Nunito Sans\", \"labelFontSize\": 11, \"labelLimit\": 0, \"padding\": 1, \"symbolSize\": 30, \"symbolType\": \"square\", \"titleColor\": \"#333\", \"titleFont\": \"Raleway\", \"titleFontSize\": 14, \"titlePadding\": 10}, \"title\": {\"anchor\": \"middle\", \"font\": \"Raleway\", \"fontSize\": 18, \"fontWeight\": 300, \"offset\": 20}}, \"data\": {\"name\": \"data-d3056f8d52bbdd016992f0682721b745\"}, \"mark\": \"line\", \"encoding\": {\"tooltip\": [{\"field\": \"Year\", \"type\": \"quantitative\"}, {\"field\": \"count\", \"type\": \"quantitative\"}], \"x\": {\"field\": \"Year\", \"title\": \"Prepared Year\", \"type\": \"ordinal\"}, \"y\": {\"field\": \"count\", \"title\": \"Count\", \"type\": \"quantitative\"}}, \"height\": 250, \"width\": 400, \"$schema\": \"https://vega.github.io/schema/vega-lite/v4.17.0.json\", \"datasets\": {\"data-d3056f8d52bbdd016992f0682721b745\": [{\"Year\": 2018.0, \"count\": 248, \"variable\": \"prepared_y\"}, {\"Year\": 2019.0, \"count\": 209, \"variable\": \"prepared_y\"}, {\"Year\": 2020.0, \"count\": 144, \"variable\": \"prepared_y\"}, {\"Year\": 2014.0, \"count\": 138, \"variable\": \"prepared_y\"}, {\"Year\": 2017.0, \"count\": 115, \"variable\": \"prepared_y\"}, {\"Year\": 2015.0, \"count\": 113, \"variable\": \"prepared_y\"}, {\"Year\": 2021.0, \"count\": 113, \"variable\": \"prepared_y\"}, {\"Year\": 2016.0, \"count\": 93, \"variable\": \"prepared_y\"}, {\"Year\": 2022.0, \"count\": 88, \"variable\": \"prepared_y\"}, {\"Year\": 2013.0, \"count\": 5, \"variable\": \"prepared_y\"}]}}, {\"mode\": \"vega-lite\"});\n",
       "</script>"
      ],
      "text/plain": [
       "alt.Chart(...)"
      ]
     },
     "metadata": {},
     "output_type": "display_data"
    }
   ],
   "source": [
    " #Line chart for Obligations by Year\n",
    "chart_df = (df_top>>filter(_.variable=='prepared_y')).rename(columns= {\"value\":\"Year\"})\n",
    "    \n",
    "chart1= (_dla_utils_reports.basic_line_chart_test_no_save(chart_df, 'Year', 'count', district)).encode(x=alt.X('Year:O', title='Prepared Year'))\n",
    "    \n",
    "display(HTML(\"<h4><strong>Obligations by Year</strong></h4>\"))\n",
    "display(chart1)"
   ]
  },
  {
   "cell_type": "code",
   "execution_count": 9,
   "id": "0bc7e34d-545e-4afd-92e9-a17630d0ae89",
   "metadata": {
    "execution": {
     "iopub.execute_input": "2022-05-02T23:02:59.995283Z",
     "iopub.status.busy": "2022-05-02T23:02:59.994026Z",
     "iopub.status.idle": "2022-05-02T23:03:00.062937Z",
     "shell.execute_reply": "2022-05-02T23:03:00.061804Z"
    },
    "jupyter": {
     "source_hidden": true
    },
    "papermill": {
     "duration": 0.097048,
     "end_time": "2022-05-02T23:03:00.066143",
     "exception": false,
     "start_time": "2022-05-02T23:02:59.969095",
     "status": "completed"
    },
    "tags": [
     "remove_input"
    ]
   },
   "outputs": [
    {
     "data": {
      "text/html": [
       "<h4><strong>Number of Unique Agencies by District</strong></h4>"
      ],
      "text/plain": [
       "<IPython.core.display.HTML object>"
      ]
     },
     "metadata": {},
     "output_type": "display_data"
    },
    {
     "data": {
      "text/html": [
       "\n",
       "<div id=\"altair-viz-5c5e689558f745db86cedd78f2b722d5\"></div>\n",
       "<script type=\"text/javascript\">\n",
       "  var VEGA_DEBUG = (typeof VEGA_DEBUG == \"undefined\") ? {} : VEGA_DEBUG;\n",
       "  (function(spec, embedOpt){\n",
       "    let outputDiv = document.currentScript.previousElementSibling;\n",
       "    if (outputDiv.id !== \"altair-viz-5c5e689558f745db86cedd78f2b722d5\") {\n",
       "      outputDiv = document.getElementById(\"altair-viz-5c5e689558f745db86cedd78f2b722d5\");\n",
       "    }\n",
       "    const paths = {\n",
       "      \"vega\": \"https://cdn.jsdelivr.net/npm//vega@5?noext\",\n",
       "      \"vega-lib\": \"https://cdn.jsdelivr.net/npm//vega-lib?noext\",\n",
       "      \"vega-lite\": \"https://cdn.jsdelivr.net/npm//vega-lite@4.17.0?noext\",\n",
       "      \"vega-embed\": \"https://cdn.jsdelivr.net/npm//vega-embed@6?noext\",\n",
       "    };\n",
       "\n",
       "    function maybeLoadScript(lib, version) {\n",
       "      var key = `${lib.replace(\"-\", \"\")}_version`;\n",
       "      return (VEGA_DEBUG[key] == version) ?\n",
       "        Promise.resolve(paths[lib]) :\n",
       "        new Promise(function(resolve, reject) {\n",
       "          var s = document.createElement('script');\n",
       "          document.getElementsByTagName(\"head\")[0].appendChild(s);\n",
       "          s.async = true;\n",
       "          s.onload = () => {\n",
       "            VEGA_DEBUG[key] = version;\n",
       "            return resolve(paths[lib]);\n",
       "          };\n",
       "          s.onerror = () => reject(`Error loading script: ${paths[lib]}`);\n",
       "          s.src = paths[lib];\n",
       "        });\n",
       "    }\n",
       "\n",
       "    function showError(err) {\n",
       "      outputDiv.innerHTML = `<div class=\"error\" style=\"color:red;\">${err}</div>`;\n",
       "      throw err;\n",
       "    }\n",
       "\n",
       "    function displayChart(vegaEmbed) {\n",
       "      vegaEmbed(outputDiv, spec, embedOpt)\n",
       "        .catch(err => showError(`Javascript Error: ${err.message}<br>This usually means there's a typo in your chart specification. See the javascript console for the full traceback.`));\n",
       "    }\n",
       "\n",
       "    if(typeof define === \"function\" && define.amd) {\n",
       "      requirejs.config({paths});\n",
       "      require([\"vega-embed\"], displayChart, err => showError(`Error loading script: ${err.message}`));\n",
       "    } else {\n",
       "      maybeLoadScript(\"vega\", \"5\")\n",
       "        .then(() => maybeLoadScript(\"vega-lite\", \"4.17.0\"))\n",
       "        .then(() => maybeLoadScript(\"vega-embed\", \"6\"))\n",
       "        .catch(showError)\n",
       "        .then(() => displayChart(vegaEmbed));\n",
       "    }\n",
       "  })({\"config\": {\"view\": {\"continuousWidth\": 400, \"continuousHeight\": 300}, \"axis\": {\"domainColor\": \"#cbcbcb\", \"grid\": true, \"gridColor\": \"#cbcbcb\", \"gridWidth\": 1, \"labelColor\": \"#474747\", \"labelFont\": \"Nunito Sans\", \"labelFontSize\": 10, \"labelPadding\": 4, \"tickColor\": \"#cbcbcb\", \"tickSize\": 10, \"titleColor\": \"#333\", \"titleFont\": \"Raleway\", \"titleFontSize\": 12, \"titlePadding\": 10}, \"axisBand\": {\"grid\": false}, \"background\": \"white\", \"font\": \"Raleway\", \"header\": {\"labelFont\": \"Nunito Sans\", \"titleFont\": \"Raleway\"}, \"legend\": {\"labelColor\": \"#333\", \"labelFont\": \"Nunito Sans\", \"labelFontSize\": 11, \"labelLimit\": 0, \"padding\": 1, \"symbolSize\": 30, \"symbolType\": \"square\", \"titleColor\": \"#333\", \"titleFont\": \"Raleway\", \"titleFontSize\": 14, \"titlePadding\": 10}, \"title\": {\"anchor\": \"middle\", \"font\": \"Raleway\", \"fontSize\": 18, \"fontWeight\": 300, \"offset\": 20}}, \"data\": {\"name\": \"data-44973c90b6a6660f45bc67368b5b696a\"}, \"mark\": \"bar\", \"encoding\": {\"color\": {\"field\": \"District\", \"legend\": {\"title\": \"Prepared Year\"}, \"scale\": {\"range\": [\"#B9D6DF\", \"#8CBCCB\", \"#2EA8CE\", \"#136C97\", \"#0B405B\"]}, \"type\": \"nominal\"}, \"column\": {\"field\": \"District\", \"type\": \"nominal\"}, \"tooltip\": [{\"field\": \"prepared_y\", \"type\": \"quantitative\"}, {\"field\": \"Count\", \"type\": \"quantitative\"}], \"x\": {\"field\": \"prepared_y\", \"title\": \"Prepared Year\", \"type\": \"ordinal\"}, \"y\": {\"field\": \"Count\", \"title\": \"Number of Unique Agencies\", \"type\": \"quantitative\"}}, \"height\": 250, \"width\": 400, \"$schema\": \"https://vega.github.io/schema/vega-lite/v4.17.0.json\", \"datasets\": {\"data-44973c90b6a6660f45bc67368b5b696a\": [{\"prepared_y\": 2022.0, \"District\": 1, \"Count\": 6}, {\"prepared_y\": 2021.0, \"District\": 1, \"Count\": 10}, {\"prepared_y\": 2020.0, \"District\": 1, \"Count\": 12}, {\"prepared_y\": 2019.0, \"District\": 1, \"Count\": 12}, {\"prepared_y\": 2018.0, \"District\": 1, \"Count\": 11}, {\"prepared_y\": 2017.0, \"District\": 1, \"Count\": 10}, {\"prepared_y\": 2016.0, \"District\": 1, \"Count\": 13}, {\"prepared_y\": 2015.0, \"District\": 1, \"Count\": 14}, {\"prepared_y\": 2014.0, \"District\": 1, \"Count\": 12}, {\"prepared_y\": 2013.0, \"District\": 1, \"Count\": 3}]}}, {\"mode\": \"vega-lite\"});\n",
       "</script>"
      ],
      "text/plain": [
       "alt.Chart(...)"
      ]
     },
     "metadata": {},
     "output_type": "display_data"
    }
   ],
   "source": [
    "# Unique Agencies by Dist\n",
    "dist_years_agency = ((\n",
    "        df\n",
    "        >> group_by(_.prepared_y, _.dist)\n",
    "        >> summarize(n=_.primary_agency_name.nunique())\n",
    "        >> arrange(-_.prepared_y)\n",
    "    )\n",
    "        .rename(columns={'dist':'District', 'n':'Count'})\n",
    "    )\n",
    "chart10 = (alt.Chart(dist_years_agency).mark_bar().encode(\n",
    "        column='District:N',\n",
    "        x=alt.X('prepared_y:O', title='Prepared Year'),\n",
    "        y=alt.Y('Count:Q', title='Number of Unique Agencies'),\n",
    "        color = alt.Color(\"District:N\", \n",
    "                              scale=alt.Scale(\n",
    "                                  range=altair_utils.CALITP_SEQUENTIAL_COLORS),  \n",
    "                               legend=alt.Legend(title=\"Prepared Year\")\n",
    "                              )))\n",
    "                              \n",
    "chart10 = styleguide.preset_chart_config(chart10)\n",
    "chart10 = _dla_utils_reports.add_tooltip(chart10, 'prepared_y', 'Count')\n",
    "    \n",
    "display(HTML(\"<h4><strong>Number of Unique Agencies by District</strong></h4>\"))\n",
    "display(chart10)"
   ]
  },
  {
   "cell_type": "code",
   "execution_count": 10,
   "id": "faa4758e-8a41-44f8-aec4-b8cc4d75d906",
   "metadata": {
    "execution": {
     "iopub.execute_input": "2022-05-02T23:03:00.126081Z",
     "iopub.status.busy": "2022-05-02T23:03:00.125707Z",
     "iopub.status.idle": "2022-05-02T23:03:00.165662Z",
     "shell.execute_reply": "2022-05-02T23:03:00.164655Z"
    },
    "jupyter": {
     "source_hidden": true
    },
    "papermill": {
     "duration": 0.076413,
     "end_time": "2022-05-02T23:03:00.168740",
     "exception": false,
     "start_time": "2022-05-02T23:03:00.092327",
     "status": "completed"
    },
    "tags": [
     "remove_input"
    ]
   },
   "outputs": [
    {
     "data": {
      "text/html": [
       "<h4><strong>Agencies With The Most Obligations</strong></h4>"
      ],
      "text/plain": [
       "<IPython.core.display.HTML object>"
      ]
     },
     "metadata": {},
     "output_type": "display_data"
    },
    {
     "data": {
      "text/html": [
       "\n",
       "<div id=\"altair-viz-e7cc4cdf63ec454e99b9ebf5014f8f74\"></div>\n",
       "<script type=\"text/javascript\">\n",
       "  var VEGA_DEBUG = (typeof VEGA_DEBUG == \"undefined\") ? {} : VEGA_DEBUG;\n",
       "  (function(spec, embedOpt){\n",
       "    let outputDiv = document.currentScript.previousElementSibling;\n",
       "    if (outputDiv.id !== \"altair-viz-e7cc4cdf63ec454e99b9ebf5014f8f74\") {\n",
       "      outputDiv = document.getElementById(\"altair-viz-e7cc4cdf63ec454e99b9ebf5014f8f74\");\n",
       "    }\n",
       "    const paths = {\n",
       "      \"vega\": \"https://cdn.jsdelivr.net/npm//vega@5?noext\",\n",
       "      \"vega-lib\": \"https://cdn.jsdelivr.net/npm//vega-lib?noext\",\n",
       "      \"vega-lite\": \"https://cdn.jsdelivr.net/npm//vega-lite@4.17.0?noext\",\n",
       "      \"vega-embed\": \"https://cdn.jsdelivr.net/npm//vega-embed@6?noext\",\n",
       "    };\n",
       "\n",
       "    function maybeLoadScript(lib, version) {\n",
       "      var key = `${lib.replace(\"-\", \"\")}_version`;\n",
       "      return (VEGA_DEBUG[key] == version) ?\n",
       "        Promise.resolve(paths[lib]) :\n",
       "        new Promise(function(resolve, reject) {\n",
       "          var s = document.createElement('script');\n",
       "          document.getElementsByTagName(\"head\")[0].appendChild(s);\n",
       "          s.async = true;\n",
       "          s.onload = () => {\n",
       "            VEGA_DEBUG[key] = version;\n",
       "            return resolve(paths[lib]);\n",
       "          };\n",
       "          s.onerror = () => reject(`Error loading script: ${paths[lib]}`);\n",
       "          s.src = paths[lib];\n",
       "        });\n",
       "    }\n",
       "\n",
       "    function showError(err) {\n",
       "      outputDiv.innerHTML = `<div class=\"error\" style=\"color:red;\">${err}</div>`;\n",
       "      throw err;\n",
       "    }\n",
       "\n",
       "    function displayChart(vegaEmbed) {\n",
       "      vegaEmbed(outputDiv, spec, embedOpt)\n",
       "        .catch(err => showError(`Javascript Error: ${err.message}<br>This usually means there's a typo in your chart specification. See the javascript console for the full traceback.`));\n",
       "    }\n",
       "\n",
       "    if(typeof define === \"function\" && define.amd) {\n",
       "      requirejs.config({paths});\n",
       "      require([\"vega-embed\"], displayChart, err => showError(`Error loading script: ${err.message}`));\n",
       "    } else {\n",
       "      maybeLoadScript(\"vega\", \"5\")\n",
       "        .then(() => maybeLoadScript(\"vega-lite\", \"4.17.0\"))\n",
       "        .then(() => maybeLoadScript(\"vega-embed\", \"6\"))\n",
       "        .catch(showError)\n",
       "        .then(() => displayChart(vegaEmbed));\n",
       "    }\n",
       "  })({\"config\": {\"view\": {\"continuousWidth\": 400, \"continuousHeight\": 300}, \"axis\": {\"domainColor\": \"#cbcbcb\", \"grid\": true, \"gridColor\": \"#cbcbcb\", \"gridWidth\": 1, \"labelColor\": \"#474747\", \"labelFont\": \"Nunito Sans\", \"labelFontSize\": 10, \"labelPadding\": 4, \"tickColor\": \"#cbcbcb\", \"tickSize\": 10, \"titleColor\": \"#333\", \"titleFont\": \"Raleway\", \"titleFontSize\": 12, \"titlePadding\": 10}, \"axisBand\": {\"grid\": false}, \"background\": \"white\", \"font\": \"Raleway\", \"header\": {\"labelFont\": \"Nunito Sans\", \"titleFont\": \"Raleway\"}, \"legend\": {\"labelColor\": \"#333\", \"labelFont\": \"Nunito Sans\", \"labelFontSize\": 11, \"labelLimit\": 0, \"padding\": 1, \"symbolSize\": 30, \"symbolType\": \"square\", \"titleColor\": \"#333\", \"titleFont\": \"Raleway\", \"titleFontSize\": 14, \"titlePadding\": 10}, \"title\": {\"anchor\": \"middle\", \"font\": \"Raleway\", \"fontSize\": 18, \"fontWeight\": 300, \"offset\": 20}}, \"data\": {\"name\": \"data-bb774ec934f8861b6d01e20b155c4038\"}, \"mark\": \"bar\", \"encoding\": {\"color\": {\"field\": \"Agency\", \"legend\": {\"symbolLimit\": 10, \"title\": \"Agency\"}, \"scale\": {\"range\": [\"#2EA8CE\", \"#EB9F3C\", \"#F4D837\", \"#51BF9D\", \"#8CBCCB\", \"#9487C0\"]}, \"type\": \"nominal\"}, \"tooltip\": [{\"field\": \"Agency\", \"type\": \"nominal\"}, {\"field\": \"Number of Obligations\", \"type\": \"quantitative\"}], \"x\": {\"field\": \"Agency\", \"sort\": \"-y\", \"title\": \"Agency\", \"type\": \"nominal\"}, \"y\": {\"field\": \"Number of Obligations\", \"title\": \"Number Of Obligations\", \"type\": \"quantitative\"}}, \"height\": 250, \"width\": 400, \"$schema\": \"https://vega.github.io/schema/vega-lite/v4.17.0.json\", \"datasets\": {\"data-bb774ec934f8861b6d01e20b155c4038\": [{\"Agency\": \"Humboldt County\", \"Number of Obligations\": 713, \"variable\": \"primary_agency_name\"}, {\"Agency\": \"Mendocino County\", \"Number of Obligations\": 246, \"variable\": \"primary_agency_name\"}, {\"Agency\": \"Lake County\", \"Number of Obligations\": 135, \"variable\": \"primary_agency_name\"}, {\"Agency\": \"Eureka\", \"Number of Obligations\": 36, \"variable\": \"primary_agency_name\"}, {\"Agency\": \"Lakeport\", \"Number of Obligations\": 27, \"variable\": \"primary_agency_name\"}, {\"Agency\": \"Del Norte County\", \"Number of Obligations\": 23, \"variable\": \"primary_agency_name\"}, {\"Agency\": \"Arcata\", \"Number of Obligations\": 20, \"variable\": \"primary_agency_name\"}, {\"Agency\": \"Fortuna\", \"Number of Obligations\": 13, \"variable\": \"primary_agency_name\"}, {\"Agency\": \"Clearlake\", \"Number of Obligations\": 10, \"variable\": \"primary_agency_name\"}, {\"Agency\": \"Fort Bragg\", \"Number of Obligations\": 9, \"variable\": \"primary_agency_name\"}, {\"Agency\": \"Ukiah\", \"Number of Obligations\": 9, \"variable\": \"primary_agency_name\"}, {\"Agency\": \"Willits\", \"Number of Obligations\": 7, \"variable\": \"primary_agency_name\"}, {\"Agency\": \"Blue Lake\", \"Number of Obligations\": 4, \"variable\": \"primary_agency_name\"}, {\"Agency\": \"Crescent City\", \"Number of Obligations\": 4, \"variable\": \"primary_agency_name\"}, {\"Agency\": \"Caltrans\", \"Number of Obligations\": 2, \"variable\": \"primary_agency_name\"}, {\"Agency\": \"Department of Parks and Recreation\", \"Number of Obligations\": 2, \"variable\": \"primary_agency_name\"}, {\"Agency\": \"Ferndale\", \"Number of Obligations\": 2, \"variable\": \"primary_agency_name\"}, {\"Agency\": \"Rio Dell\", \"Number of Obligations\": 2, \"variable\": \"primary_agency_name\"}, {\"Agency\": \"Humboldt Bay Harbor Recreation & Conservation District\", \"Number of Obligations\": 1, \"variable\": \"primary_agency_name\"}, {\"Agency\": \"Trinidad\", \"Number of Obligations\": 1, \"variable\": \"primary_agency_name\"}]}}, {\"mode\": \"vega-lite\"});\n",
       "</script>"
      ],
      "text/plain": [
       "alt.Chart(...)"
      ]
     },
     "metadata": {},
     "output_type": "display_data"
    }
   ],
   "source": [
    "#Bar chart Agencies With The Most Obligations\n",
    "chart_df = (df_top>>filter(_.variable=='primary_agency_name')).rename(columns={\"value\":\"Agency\",\n",
    "                                 \"count\":\"Number of Obligations\"})\n",
    "chart2 = (_dla_utils_reports.basic_bar_chart_no_save(chart_df, 'Agency', 'Number of Obligations', 'Agency', district))\n",
    "    \n",
    "display(HTML(\"<h4><strong>Agencies With The Most Obligations</strong></h4>\"))\n",
    "display(chart2)\n"
   ]
  },
  {
   "cell_type": "code",
   "execution_count": 11,
   "id": "7e78de32-e647-4823-905f-da3ad190a248",
   "metadata": {
    "execution": {
     "iopub.execute_input": "2022-05-02T23:03:00.220215Z",
     "iopub.status.busy": "2022-05-02T23:03:00.219113Z",
     "iopub.status.idle": "2022-05-02T23:03:00.226567Z",
     "shell.execute_reply": "2022-05-02T23:03:00.225988Z"
    },
    "jupyter": {
     "source_hidden": true
    },
    "papermill": {
     "duration": 0.035371,
     "end_time": "2022-05-02T23:03:00.228451",
     "exception": false,
     "start_time": "2022-05-02T23:03:00.193080",
     "status": "completed"
    },
    "tags": [
     "remove_input"
    ]
   },
   "outputs": [
    {
     "data": {
      "text/html": [
       "<h2>Prefix Codes</h2>"
      ],
      "text/plain": [
       "<IPython.core.display.HTML object>"
      ]
     },
     "metadata": {},
     "output_type": "display_data"
    }
   ],
   "source": [
    "display(HTML(\"<h2>Prefix Codes</h2>\"))"
   ]
  },
  {
   "cell_type": "code",
   "execution_count": 12,
   "id": "f661bd63-f8aa-4048-b035-03d5bf1b7e95",
   "metadata": {
    "execution": {
     "iopub.execute_input": "2022-05-02T23:03:00.302547Z",
     "iopub.status.busy": "2022-05-02T23:03:00.301583Z",
     "iopub.status.idle": "2022-05-02T23:03:00.397882Z",
     "shell.execute_reply": "2022-05-02T23:03:00.396841Z"
    },
    "jupyter": {
     "source_hidden": true
    },
    "papermill": {
     "duration": 0.126136,
     "end_time": "2022-05-02T23:03:00.401139",
     "exception": false,
     "start_time": "2022-05-02T23:03:00.275003",
     "status": "completed"
    },
    "tags": [
     "remove_input"
    ]
   },
   "outputs": [
    {
     "data": {
      "text/html": [
       "<h4><strong>Number of Unique Prefix Codes by District</strong></h4>"
      ],
      "text/plain": [
       "<IPython.core.display.HTML object>"
      ]
     },
     "metadata": {},
     "output_type": "display_data"
    },
    {
     "data": {
      "text/html": [
       "\n",
       "<div id=\"altair-viz-8cb9b834578643b68ca72937091f3755\"></div>\n",
       "<script type=\"text/javascript\">\n",
       "  var VEGA_DEBUG = (typeof VEGA_DEBUG == \"undefined\") ? {} : VEGA_DEBUG;\n",
       "  (function(spec, embedOpt){\n",
       "    let outputDiv = document.currentScript.previousElementSibling;\n",
       "    if (outputDiv.id !== \"altair-viz-8cb9b834578643b68ca72937091f3755\") {\n",
       "      outputDiv = document.getElementById(\"altair-viz-8cb9b834578643b68ca72937091f3755\");\n",
       "    }\n",
       "    const paths = {\n",
       "      \"vega\": \"https://cdn.jsdelivr.net/npm//vega@5?noext\",\n",
       "      \"vega-lib\": \"https://cdn.jsdelivr.net/npm//vega-lib?noext\",\n",
       "      \"vega-lite\": \"https://cdn.jsdelivr.net/npm//vega-lite@4.17.0?noext\",\n",
       "      \"vega-embed\": \"https://cdn.jsdelivr.net/npm//vega-embed@6?noext\",\n",
       "    };\n",
       "\n",
       "    function maybeLoadScript(lib, version) {\n",
       "      var key = `${lib.replace(\"-\", \"\")}_version`;\n",
       "      return (VEGA_DEBUG[key] == version) ?\n",
       "        Promise.resolve(paths[lib]) :\n",
       "        new Promise(function(resolve, reject) {\n",
       "          var s = document.createElement('script');\n",
       "          document.getElementsByTagName(\"head\")[0].appendChild(s);\n",
       "          s.async = true;\n",
       "          s.onload = () => {\n",
       "            VEGA_DEBUG[key] = version;\n",
       "            return resolve(paths[lib]);\n",
       "          };\n",
       "          s.onerror = () => reject(`Error loading script: ${paths[lib]}`);\n",
       "          s.src = paths[lib];\n",
       "        });\n",
       "    }\n",
       "\n",
       "    function showError(err) {\n",
       "      outputDiv.innerHTML = `<div class=\"error\" style=\"color:red;\">${err}</div>`;\n",
       "      throw err;\n",
       "    }\n",
       "\n",
       "    function displayChart(vegaEmbed) {\n",
       "      vegaEmbed(outputDiv, spec, embedOpt)\n",
       "        .catch(err => showError(`Javascript Error: ${err.message}<br>This usually means there's a typo in your chart specification. See the javascript console for the full traceback.`));\n",
       "    }\n",
       "\n",
       "    if(typeof define === \"function\" && define.amd) {\n",
       "      requirejs.config({paths});\n",
       "      require([\"vega-embed\"], displayChart, err => showError(`Error loading script: ${err.message}`));\n",
       "    } else {\n",
       "      maybeLoadScript(\"vega\", \"5\")\n",
       "        .then(() => maybeLoadScript(\"vega-lite\", \"4.17.0\"))\n",
       "        .then(() => maybeLoadScript(\"vega-embed\", \"6\"))\n",
       "        .catch(showError)\n",
       "        .then(() => displayChart(vegaEmbed));\n",
       "    }\n",
       "  })({\"config\": {\"view\": {\"continuousWidth\": 400, \"continuousHeight\": 300}, \"axis\": {\"domainColor\": \"#cbcbcb\", \"grid\": true, \"gridColor\": \"#cbcbcb\", \"gridWidth\": 1, \"labelColor\": \"#474747\", \"labelFont\": \"Nunito Sans\", \"labelFontSize\": 10, \"labelPadding\": 4, \"tickColor\": \"#cbcbcb\", \"tickSize\": 10, \"titleColor\": \"#333\", \"titleFont\": \"Raleway\", \"titleFontSize\": 12, \"titlePadding\": 10}, \"axisBand\": {\"grid\": false}, \"background\": \"white\", \"font\": \"Raleway\", \"header\": {\"labelFont\": \"Nunito Sans\", \"titleFont\": \"Raleway\"}, \"legend\": {\"labelColor\": \"#333\", \"labelFont\": \"Nunito Sans\", \"labelFontSize\": 11, \"labelLimit\": 0, \"padding\": 1, \"symbolSize\": 30, \"symbolType\": \"square\", \"titleColor\": \"#333\", \"titleFont\": \"Raleway\", \"titleFontSize\": 14, \"titlePadding\": 10}, \"title\": {\"anchor\": \"middle\", \"font\": \"Raleway\", \"fontSize\": 18, \"fontWeight\": 300, \"offset\": 20}}, \"data\": {\"name\": \"data-f1b294b21531cacb3b4c2d9e37845b7b\"}, \"mark\": \"bar\", \"encoding\": {\"color\": {\"field\": \"District\", \"legend\": {\"title\": \"District\"}, \"scale\": {\"range\": [\"#B9D6DF\", \"#8CBCCB\", \"#2EA8CE\", \"#136C97\", \"#0B405B\"]}, \"type\": \"nominal\"}, \"column\": {\"field\": \"District\", \"type\": \"nominal\"}, \"tooltip\": [{\"field\": \"prepared_y\", \"type\": \"quantitative\"}, {\"field\": \"Count\", \"type\": \"quantitative\"}], \"x\": {\"field\": \"prepared_y\", \"title\": \"Prepared Year\", \"type\": \"ordinal\"}, \"y\": {\"field\": \"Count\", \"title\": \"Number of Unique Agencies\", \"type\": \"quantitative\"}}, \"height\": 250, \"width\": 400, \"$schema\": \"https://vega.github.io/schema/vega-lite/v4.17.0.json\", \"datasets\": {\"data-f1b294b21531cacb3b4c2d9e37845b7b\": [{\"prepared_y\": 2022.0, \"District\": 1, \"Count\": 9}, {\"prepared_y\": 2021.0, \"District\": 1, \"Count\": 13}, {\"prepared_y\": 2020.0, \"District\": 1, \"Count\": 14}, {\"prepared_y\": 2019.0, \"District\": 1, \"Count\": 11}, {\"prepared_y\": 2018.0, \"District\": 1, \"Count\": 15}, {\"prepared_y\": 2017.0, \"District\": 1, \"Count\": 16}, {\"prepared_y\": 2016.0, \"District\": 1, \"Count\": 17}, {\"prepared_y\": 2015.0, \"District\": 1, \"Count\": 13}, {\"prepared_y\": 2014.0, \"District\": 1, \"Count\": 12}, {\"prepared_y\": 2013.0, \"District\": 1, \"Count\": 3}]}}, {\"mode\": \"vega-lite\"});\n",
       "</script>"
      ],
      "text/plain": [
       "alt.Chart(...)"
      ]
     },
     "metadata": {},
     "output_type": "display_data"
    }
   ],
   "source": [
    "#Unique Prefixes by Dist\n",
    "dist_years_prefix = ((\n",
    "        df\n",
    "        >> group_by(_.prepared_y, _.dist)\n",
    "        >> summarize(n=_.prefix.nunique())\n",
    "        >> arrange(-_.prepared_y)\n",
    "    ).rename(columns={'dist':'District', 'n':'Count'}))\n",
    "\n",
    "chart11 = (alt.Chart(dist_years_prefix).mark_bar().encode(\n",
    "        column='District:N',\n",
    "        x=alt.X('prepared_y:O', title='Prepared Year'),\n",
    "        y=alt.Y('Count:Q', title='Number of Unique Agencies'),\n",
    "        color = alt.Color(\"District:N\", \n",
    "                              scale=alt.Scale(\n",
    "                                  range=altair_utils.CALITP_SEQUENTIAL_COLORS),  \n",
    "                               legend=alt.Legend(title=\"District\")\n",
    "                              )\n",
    "                              ))\n",
    "chart11 = styleguide.preset_chart_config(chart11)\n",
    "chart11 = _dla_utils_reports.add_tooltip(chart11, 'prepared_y','Count')\n",
    "    \n",
    "display(HTML(\"<h4><strong>Number of Unique Prefix Codes by District</strong></h4>\"))\n",
    "display(chart11)"
   ]
  },
  {
   "cell_type": "code",
   "execution_count": 13,
   "id": "0aca2d9a-062a-4c12-9489-5f9de10f3462",
   "metadata": {
    "execution": {
     "iopub.execute_input": "2022-05-02T23:03:00.467919Z",
     "iopub.status.busy": "2022-05-02T23:03:00.467576Z",
     "iopub.status.idle": "2022-05-02T23:03:00.508384Z",
     "shell.execute_reply": "2022-05-02T23:03:00.507140Z"
    },
    "jupyter": {
     "source_hidden": true
    },
    "papermill": {
     "duration": 0.07468,
     "end_time": "2022-05-02T23:03:00.512622",
     "exception": false,
     "start_time": "2022-05-02T23:03:00.437942",
     "status": "completed"
    },
    "tags": [
     "remove_input"
    ]
   },
   "outputs": [
    {
     "data": {
      "text/html": [
       "<h4><strong>Most Used Prefix Codes</strong></h4>"
      ],
      "text/plain": [
       "<IPython.core.display.HTML object>"
      ]
     },
     "metadata": {},
     "output_type": "display_data"
    },
    {
     "data": {
      "text/html": [
       "\n",
       "<div id=\"altair-viz-7fece56d8f804df1ad640e7be4ff3030\"></div>\n",
       "<script type=\"text/javascript\">\n",
       "  var VEGA_DEBUG = (typeof VEGA_DEBUG == \"undefined\") ? {} : VEGA_DEBUG;\n",
       "  (function(spec, embedOpt){\n",
       "    let outputDiv = document.currentScript.previousElementSibling;\n",
       "    if (outputDiv.id !== \"altair-viz-7fece56d8f804df1ad640e7be4ff3030\") {\n",
       "      outputDiv = document.getElementById(\"altair-viz-7fece56d8f804df1ad640e7be4ff3030\");\n",
       "    }\n",
       "    const paths = {\n",
       "      \"vega\": \"https://cdn.jsdelivr.net/npm//vega@5?noext\",\n",
       "      \"vega-lib\": \"https://cdn.jsdelivr.net/npm//vega-lib?noext\",\n",
       "      \"vega-lite\": \"https://cdn.jsdelivr.net/npm//vega-lite@4.17.0?noext\",\n",
       "      \"vega-embed\": \"https://cdn.jsdelivr.net/npm//vega-embed@6?noext\",\n",
       "    };\n",
       "\n",
       "    function maybeLoadScript(lib, version) {\n",
       "      var key = `${lib.replace(\"-\", \"\")}_version`;\n",
       "      return (VEGA_DEBUG[key] == version) ?\n",
       "        Promise.resolve(paths[lib]) :\n",
       "        new Promise(function(resolve, reject) {\n",
       "          var s = document.createElement('script');\n",
       "          document.getElementsByTagName(\"head\")[0].appendChild(s);\n",
       "          s.async = true;\n",
       "          s.onload = () => {\n",
       "            VEGA_DEBUG[key] = version;\n",
       "            return resolve(paths[lib]);\n",
       "          };\n",
       "          s.onerror = () => reject(`Error loading script: ${paths[lib]}`);\n",
       "          s.src = paths[lib];\n",
       "        });\n",
       "    }\n",
       "\n",
       "    function showError(err) {\n",
       "      outputDiv.innerHTML = `<div class=\"error\" style=\"color:red;\">${err}</div>`;\n",
       "      throw err;\n",
       "    }\n",
       "\n",
       "    function displayChart(vegaEmbed) {\n",
       "      vegaEmbed(outputDiv, spec, embedOpt)\n",
       "        .catch(err => showError(`Javascript Error: ${err.message}<br>This usually means there's a typo in your chart specification. See the javascript console for the full traceback.`));\n",
       "    }\n",
       "\n",
       "    if(typeof define === \"function\" && define.amd) {\n",
       "      requirejs.config({paths});\n",
       "      require([\"vega-embed\"], displayChart, err => showError(`Error loading script: ${err.message}`));\n",
       "    } else {\n",
       "      maybeLoadScript(\"vega\", \"5\")\n",
       "        .then(() => maybeLoadScript(\"vega-lite\", \"4.17.0\"))\n",
       "        .then(() => maybeLoadScript(\"vega-embed\", \"6\"))\n",
       "        .catch(showError)\n",
       "        .then(() => displayChart(vegaEmbed));\n",
       "    }\n",
       "  })({\"config\": {\"view\": {\"continuousWidth\": 400, \"continuousHeight\": 300}, \"axis\": {\"domainColor\": \"#cbcbcb\", \"grid\": true, \"gridColor\": \"#cbcbcb\", \"gridWidth\": 1, \"labelColor\": \"#474747\", \"labelFont\": \"Nunito Sans\", \"labelFontSize\": 10, \"labelPadding\": 4, \"tickColor\": \"#cbcbcb\", \"tickSize\": 10, \"titleColor\": \"#333\", \"titleFont\": \"Raleway\", \"titleFontSize\": 12, \"titlePadding\": 10}, \"axisBand\": {\"grid\": false}, \"background\": \"white\", \"font\": \"Raleway\", \"header\": {\"labelFont\": \"Nunito Sans\", \"titleFont\": \"Raleway\"}, \"legend\": {\"labelColor\": \"#333\", \"labelFont\": \"Nunito Sans\", \"labelFontSize\": 11, \"labelLimit\": 0, \"padding\": 1, \"symbolSize\": 30, \"symbolType\": \"square\", \"titleColor\": \"#333\", \"titleFont\": \"Raleway\", \"titleFontSize\": 14, \"titlePadding\": 10}, \"title\": {\"anchor\": \"middle\", \"font\": \"Raleway\", \"fontSize\": 18, \"fontWeight\": 300, \"offset\": 20}}, \"data\": {\"name\": \"data-3cf41ef96a45ac81c4ebc5ddfe78654f\"}, \"mark\": \"bar\", \"encoding\": {\"color\": {\"field\": \"Prefix\", \"legend\": {\"symbolLimit\": 10, \"title\": \"Prefix\"}, \"scale\": {\"range\": [\"#2EA8CE\", \"#EB9F3C\", \"#F4D837\", \"#51BF9D\", \"#8CBCCB\", \"#9487C0\"]}, \"type\": \"nominal\"}, \"tooltip\": [{\"field\": \"Prefix\", \"type\": \"nominal\"}, {\"field\": \"Number of Obligations\", \"type\": \"quantitative\"}], \"x\": {\"field\": \"Prefix\", \"sort\": \"-y\", \"title\": \"Prefix\", \"type\": \"nominal\"}, \"y\": {\"field\": \"Number of Obligations\", \"title\": \"Number Of Obligations\", \"type\": \"quantitative\"}}, \"height\": 250, \"width\": 400, \"$schema\": \"https://vega.github.io/schema/vega-lite/v4.17.0.json\", \"datasets\": {\"data-3cf41ef96a45ac81c4ebc5ddfe78654f\": [{\"Prefix\": \"ER\", \"Number of Obligations\": 608, \"variable\": \"prefix\"}, {\"Prefix\": \"BRLO\", \"Number of Obligations\": 176, \"variable\": \"prefix\"}, {\"Prefix\": \"ACSTER\", \"Number of Obligations\": 91, \"variable\": \"prefix\"}, {\"Prefix\": \"HSIPL\", \"Number of Obligations\": 85, \"variable\": \"prefix\"}, {\"Prefix\": \"BPMP\", \"Number of Obligations\": 61, \"variable\": \"prefix\"}, {\"Prefix\": \"RPSTPL\", \"Number of Obligations\": 56, \"variable\": \"prefix\"}, {\"Prefix\": \"ACSTP\", \"Number of Obligations\": 51, \"variable\": \"prefix\"}, {\"Prefix\": \"BRLS\", \"Number of Obligations\": 34, \"variable\": \"prefix\"}, {\"Prefix\": \"ATPL\", \"Number of Obligations\": 23, \"variable\": \"prefix\"}, {\"Prefix\": \"BRLSZD\", \"Number of Obligations\": 12, \"variable\": \"prefix\"}, {\"Prefix\": \"BRLOZB\", \"Number of Obligations\": 9, \"variable\": \"prefix\"}, {\"Prefix\": \"HRRRL\", \"Number of Obligations\": 9, \"variable\": \"prefix\"}, {\"Prefix\": \"BHLO\", \"Number of Obligations\": 7, \"variable\": \"prefix\"}, {\"Prefix\": \"RPSTPLE\", \"Number of Obligations\": 7, \"variable\": \"prefix\"}, {\"Prefix\": \"SRTSL\", \"Number of Obligations\": 7, \"variable\": \"prefix\"}, {\"Prefix\": \"ATPLNI\", \"Number of Obligations\": 5, \"variable\": \"prefix\"}, {\"Prefix\": \"BRLRT\", \"Number of Obligations\": 5, \"variable\": \"prefix\"}, {\"Prefix\": \"BHLS\", \"Number of Obligations\": 4, \"variable\": \"prefix\"}, {\"Prefix\": \"DEMO6L\", \"Number of Obligations\": 4, \"variable\": \"prefix\"}, {\"Prefix\": \"HP21L\", \"Number of Obligations\": 3, \"variable\": \"prefix\"}]}}, {\"mode\": \"vega-lite\"});\n",
       "</script>"
      ],
      "text/plain": [
       "alt.Chart(...)"
      ]
     },
     "metadata": {},
     "output_type": "display_data"
    }
   ],
   "source": [
    "#Bar chart with the Most Used Prefix Counts\n",
    "chart_df = (df_top>>filter(_.variable=='prefix')).rename(columns={\"value\":\"Prefix\",\n",
    "                                 \"count\":\"Number of Obligations\"})\n",
    "chart9= (_dla_utils_reports.basic_bar_chart_no_save(chart_df, 'Prefix', 'Number of Obligations', 'Prefix', district))\n",
    "    \n",
    "display(HTML(\"<h4><strong>Most Used Prefix Codes</strong></h4>\"))\n",
    "display(chart9)\n",
    "    "
   ]
  },
  {
   "cell_type": "code",
   "execution_count": 14,
   "id": "3d21c9b2-833b-463a-9a03-a9c83d727d2e",
   "metadata": {
    "execution": {
     "iopub.execute_input": "2022-05-02T23:03:00.578836Z",
     "iopub.status.busy": "2022-05-02T23:03:00.578074Z",
     "iopub.status.idle": "2022-05-02T23:03:00.631066Z",
     "shell.execute_reply": "2022-05-02T23:03:00.630194Z"
    },
    "jupyter": {
     "source_hidden": true
    },
    "papermill": {
     "duration": 0.09121,
     "end_time": "2022-05-02T23:03:00.633158",
     "exception": false,
     "start_time": "2022-05-02T23:03:00.541948",
     "status": "completed"
    },
    "tags": [
     "remove_input"
    ]
   },
   "outputs": [
    {
     "data": {
      "text/html": [
       "<h4><strong>Agencies With The Most Unique Prefix Codes</strong></h4>"
      ],
      "text/plain": [
       "<IPython.core.display.HTML object>"
      ]
     },
     "metadata": {},
     "output_type": "display_data"
    },
    {
     "data": {
      "text/html": [
       "\n",
       "<div id=\"altair-viz-c47479910b624f119ade869fc8213cfa\"></div>\n",
       "<script type=\"text/javascript\">\n",
       "  var VEGA_DEBUG = (typeof VEGA_DEBUG == \"undefined\") ? {} : VEGA_DEBUG;\n",
       "  (function(spec, embedOpt){\n",
       "    let outputDiv = document.currentScript.previousElementSibling;\n",
       "    if (outputDiv.id !== \"altair-viz-c47479910b624f119ade869fc8213cfa\") {\n",
       "      outputDiv = document.getElementById(\"altair-viz-c47479910b624f119ade869fc8213cfa\");\n",
       "    }\n",
       "    const paths = {\n",
       "      \"vega\": \"https://cdn.jsdelivr.net/npm//vega@5?noext\",\n",
       "      \"vega-lib\": \"https://cdn.jsdelivr.net/npm//vega-lib?noext\",\n",
       "      \"vega-lite\": \"https://cdn.jsdelivr.net/npm//vega-lite@4.17.0?noext\",\n",
       "      \"vega-embed\": \"https://cdn.jsdelivr.net/npm//vega-embed@6?noext\",\n",
       "    };\n",
       "\n",
       "    function maybeLoadScript(lib, version) {\n",
       "      var key = `${lib.replace(\"-\", \"\")}_version`;\n",
       "      return (VEGA_DEBUG[key] == version) ?\n",
       "        Promise.resolve(paths[lib]) :\n",
       "        new Promise(function(resolve, reject) {\n",
       "          var s = document.createElement('script');\n",
       "          document.getElementsByTagName(\"head\")[0].appendChild(s);\n",
       "          s.async = true;\n",
       "          s.onload = () => {\n",
       "            VEGA_DEBUG[key] = version;\n",
       "            return resolve(paths[lib]);\n",
       "          };\n",
       "          s.onerror = () => reject(`Error loading script: ${paths[lib]}`);\n",
       "          s.src = paths[lib];\n",
       "        });\n",
       "    }\n",
       "\n",
       "    function showError(err) {\n",
       "      outputDiv.innerHTML = `<div class=\"error\" style=\"color:red;\">${err}</div>`;\n",
       "      throw err;\n",
       "    }\n",
       "\n",
       "    function displayChart(vegaEmbed) {\n",
       "      vegaEmbed(outputDiv, spec, embedOpt)\n",
       "        .catch(err => showError(`Javascript Error: ${err.message}<br>This usually means there's a typo in your chart specification. See the javascript console for the full traceback.`));\n",
       "    }\n",
       "\n",
       "    if(typeof define === \"function\" && define.amd) {\n",
       "      requirejs.config({paths});\n",
       "      require([\"vega-embed\"], displayChart, err => showError(`Error loading script: ${err.message}`));\n",
       "    } else {\n",
       "      maybeLoadScript(\"vega\", \"5\")\n",
       "        .then(() => maybeLoadScript(\"vega-lite\", \"4.17.0\"))\n",
       "        .then(() => maybeLoadScript(\"vega-embed\", \"6\"))\n",
       "        .catch(showError)\n",
       "        .then(() => displayChart(vegaEmbed));\n",
       "    }\n",
       "  })({\"config\": {\"view\": {\"continuousWidth\": 400, \"continuousHeight\": 300}, \"axis\": {\"domainColor\": \"#cbcbcb\", \"grid\": true, \"gridColor\": \"#cbcbcb\", \"gridWidth\": 1, \"labelColor\": \"#474747\", \"labelFont\": \"Nunito Sans\", \"labelFontSize\": 10, \"labelPadding\": 4, \"tickColor\": \"#cbcbcb\", \"tickSize\": 10, \"titleColor\": \"#333\", \"titleFont\": \"Raleway\", \"titleFontSize\": 12, \"titlePadding\": 10}, \"axisBand\": {\"grid\": false}, \"background\": \"white\", \"font\": \"Raleway\", \"header\": {\"labelFont\": \"Nunito Sans\", \"titleFont\": \"Raleway\"}, \"legend\": {\"labelColor\": \"#333\", \"labelFont\": \"Nunito Sans\", \"labelFontSize\": 11, \"labelLimit\": 0, \"padding\": 1, \"symbolSize\": 30, \"symbolType\": \"square\", \"titleColor\": \"#333\", \"titleFont\": \"Raleway\", \"titleFontSize\": 14, \"titlePadding\": 10}, \"title\": {\"anchor\": \"middle\", \"font\": \"Raleway\", \"fontSize\": 18, \"fontWeight\": 300, \"offset\": 20}}, \"data\": {\"name\": \"data-1e6e856cc391e3154ec0c35f75f2015a\"}, \"mark\": \"bar\", \"encoding\": {\"color\": {\"field\": \"primary_agency_name\", \"legend\": {\"symbolLimit\": 10, \"title\": \"Agency\"}, \"scale\": {\"range\": [\"#2EA8CE\", \"#EB9F3C\", \"#F4D837\", \"#51BF9D\", \"#8CBCCB\", \"#9487C0\"]}, \"type\": \"nominal\"}, \"tooltip\": [{\"field\": \"primary_agency_name\", \"type\": \"nominal\"}, {\"field\": \"n\", \"type\": \"quantitative\"}], \"x\": {\"field\": \"primary_agency_name\", \"sort\": \"-y\", \"title\": \"Agency\", \"type\": \"nominal\"}, \"y\": {\"field\": \"n\", \"title\": \"Count\", \"type\": \"quantitative\"}}, \"height\": 250, \"width\": 400, \"$schema\": \"https://vega.github.io/schema/vega-lite/v4.17.0.json\", \"datasets\": {\"data-1e6e856cc391e3154ec0c35f75f2015a\": [{\"primary_agency_name\": \"Humboldt County\", \"n\": 16}, {\"primary_agency_name\": \"Lake County\", \"n\": 11}, {\"primary_agency_name\": \"Mendocino County\", \"n\": 10}, {\"primary_agency_name\": \"Eureka\", \"n\": 6}, {\"primary_agency_name\": \"Del Norte County\", \"n\": 5}, {\"primary_agency_name\": \"Arcata\", \"n\": 4}, {\"primary_agency_name\": \"Lakeport\", \"n\": 4}, {\"primary_agency_name\": \"Fort Bragg\", \"n\": 3}, {\"primary_agency_name\": \"Ukiah\", \"n\": 3}, {\"primary_agency_name\": \"Clearlake\", \"n\": 2}, {\"primary_agency_name\": \"Fortuna\", \"n\": 2}, {\"primary_agency_name\": \"Blue Lake\", \"n\": 1}, {\"primary_agency_name\": \"Caltrans\", \"n\": 1}, {\"primary_agency_name\": \"Crescent City\", \"n\": 1}, {\"primary_agency_name\": \"Department of Parks and Recreation\", \"n\": 1}, {\"primary_agency_name\": \"Ferndale\", \"n\": 1}, {\"primary_agency_name\": \"Humboldt Bay Harbor Recreation & Conservation District\", \"n\": 1}, {\"primary_agency_name\": \"Rio Dell\", \"n\": 1}, {\"primary_agency_name\": \"Trinidad\", \"n\": 1}, {\"primary_agency_name\": \"Willits\", \"n\": 1}]}}, {\"mode\": \"vega-lite\"});\n",
       "</script>"
      ],
      "text/plain": [
       "alt.Chart(...)"
      ]
     },
     "metadata": {},
     "output_type": "display_data"
    }
   ],
   "source": [
    "#Bar chart Agencies With The Most Unique Prefix Codes\n",
    "    \n",
    "chart3 = (_dla_utils_reports.basic_bar_chart_no_save(((_dla_utils_reports.get_nunique(df, 'prefix', 'primary_agency_name')).head(30)),\n",
    "                            'primary_agency_name', 'n', 'primary_agency_name', district))\n",
    "    \n",
    "display(HTML(\"<h4><strong>Agencies With The Most Unique Prefix Codes</strong></h4>\"))\n",
    "display(chart3)"
   ]
  },
  {
   "cell_type": "code",
   "execution_count": 15,
   "id": "8c744cb5-e4f5-4e8e-8cd8-c59641845299",
   "metadata": {
    "execution": {
     "iopub.execute_input": "2022-05-02T23:03:00.699263Z",
     "iopub.status.busy": "2022-05-02T23:03:00.698670Z",
     "iopub.status.idle": "2022-05-02T23:03:00.706366Z",
     "shell.execute_reply": "2022-05-02T23:03:00.705403Z"
    },
    "jupyter": {
     "source_hidden": true
    },
    "papermill": {
     "duration": 0.039742,
     "end_time": "2022-05-02T23:03:00.708575",
     "exception": false,
     "start_time": "2022-05-02T23:03:00.668833",
     "status": "completed"
    },
    "tags": [
     "remove_input"
    ]
   },
   "outputs": [
    {
     "data": {
      "text/html": [
       "<h2>Funding Distribution</h2>"
      ],
      "text/plain": [
       "<IPython.core.display.HTML object>"
      ]
     },
     "metadata": {},
     "output_type": "display_data"
    }
   ],
   "source": [
    "display(HTML(\"<h2>Funding Distribution</h2>\"))"
   ]
  },
  {
   "cell_type": "code",
   "execution_count": 16,
   "id": "3745ca4d-8dd4-4c09-b46b-a2f6db6358ad",
   "metadata": {
    "execution": {
     "iopub.execute_input": "2022-05-02T23:03:00.775893Z",
     "iopub.status.busy": "2022-05-02T23:03:00.774976Z",
     "iopub.status.idle": "2022-05-02T23:03:00.817802Z",
     "shell.execute_reply": "2022-05-02T23:03:00.816996Z"
    },
    "jupyter": {
     "source_hidden": true
    },
    "papermill": {
     "duration": 0.081258,
     "end_time": "2022-05-02T23:03:00.819743",
     "exception": false,
     "start_time": "2022-05-02T23:03:00.738485",
     "status": "completed"
    },
    "tags": [
     "remove_input"
    ]
   },
   "outputs": [
    {
     "data": {
      "text/html": [
       "<h4><strong>Average Total Requested Funds by Agency ($2021)</strong></h4>"
      ],
      "text/plain": [
       "<IPython.core.display.HTML object>"
      ]
     },
     "metadata": {},
     "output_type": "display_data"
    },
    {
     "data": {
      "text/html": [
       "\n",
       "<div id=\"altair-viz-d78d32a4ac714f99b903f402c81a00bd\"></div>\n",
       "<script type=\"text/javascript\">\n",
       "  var VEGA_DEBUG = (typeof VEGA_DEBUG == \"undefined\") ? {} : VEGA_DEBUG;\n",
       "  (function(spec, embedOpt){\n",
       "    let outputDiv = document.currentScript.previousElementSibling;\n",
       "    if (outputDiv.id !== \"altair-viz-d78d32a4ac714f99b903f402c81a00bd\") {\n",
       "      outputDiv = document.getElementById(\"altair-viz-d78d32a4ac714f99b903f402c81a00bd\");\n",
       "    }\n",
       "    const paths = {\n",
       "      \"vega\": \"https://cdn.jsdelivr.net/npm//vega@5?noext\",\n",
       "      \"vega-lib\": \"https://cdn.jsdelivr.net/npm//vega-lib?noext\",\n",
       "      \"vega-lite\": \"https://cdn.jsdelivr.net/npm//vega-lite@4.17.0?noext\",\n",
       "      \"vega-embed\": \"https://cdn.jsdelivr.net/npm//vega-embed@6?noext\",\n",
       "    };\n",
       "\n",
       "    function maybeLoadScript(lib, version) {\n",
       "      var key = `${lib.replace(\"-\", \"\")}_version`;\n",
       "      return (VEGA_DEBUG[key] == version) ?\n",
       "        Promise.resolve(paths[lib]) :\n",
       "        new Promise(function(resolve, reject) {\n",
       "          var s = document.createElement('script');\n",
       "          document.getElementsByTagName(\"head\")[0].appendChild(s);\n",
       "          s.async = true;\n",
       "          s.onload = () => {\n",
       "            VEGA_DEBUG[key] = version;\n",
       "            return resolve(paths[lib]);\n",
       "          };\n",
       "          s.onerror = () => reject(`Error loading script: ${paths[lib]}`);\n",
       "          s.src = paths[lib];\n",
       "        });\n",
       "    }\n",
       "\n",
       "    function showError(err) {\n",
       "      outputDiv.innerHTML = `<div class=\"error\" style=\"color:red;\">${err}</div>`;\n",
       "      throw err;\n",
       "    }\n",
       "\n",
       "    function displayChart(vegaEmbed) {\n",
       "      vegaEmbed(outputDiv, spec, embedOpt)\n",
       "        .catch(err => showError(`Javascript Error: ${err.message}<br>This usually means there's a typo in your chart specification. See the javascript console for the full traceback.`));\n",
       "    }\n",
       "\n",
       "    if(typeof define === \"function\" && define.amd) {\n",
       "      requirejs.config({paths});\n",
       "      require([\"vega-embed\"], displayChart, err => showError(`Error loading script: ${err.message}`));\n",
       "    } else {\n",
       "      maybeLoadScript(\"vega\", \"5\")\n",
       "        .then(() => maybeLoadScript(\"vega-lite\", \"4.17.0\"))\n",
       "        .then(() => maybeLoadScript(\"vega-embed\", \"6\"))\n",
       "        .catch(showError)\n",
       "        .then(() => displayChart(vegaEmbed));\n",
       "    }\n",
       "  })({\"config\": {\"view\": {\"continuousWidth\": 400, \"continuousHeight\": 300}, \"axis\": {\"domainColor\": \"#cbcbcb\", \"grid\": true, \"gridColor\": \"#cbcbcb\", \"gridWidth\": 1, \"labelColor\": \"#474747\", \"labelFont\": \"Nunito Sans\", \"labelFontSize\": 10, \"labelPadding\": 4, \"tickColor\": \"#cbcbcb\", \"tickSize\": 10, \"titleColor\": \"#333\", \"titleFont\": \"Raleway\", \"titleFontSize\": 12, \"titlePadding\": 10}, \"axisBand\": {\"grid\": false}, \"background\": \"white\", \"font\": \"Raleway\", \"header\": {\"labelFont\": \"Nunito Sans\", \"titleFont\": \"Raleway\"}, \"legend\": {\"labelColor\": \"#333\", \"labelFont\": \"Nunito Sans\", \"labelFontSize\": 11, \"labelLimit\": 0, \"padding\": 1, \"symbolSize\": 30, \"symbolType\": \"square\", \"titleColor\": \"#333\", \"titleFont\": \"Raleway\", \"titleFontSize\": 14, \"titlePadding\": 10}, \"title\": {\"anchor\": \"middle\", \"font\": \"Raleway\", \"fontSize\": 18, \"fontWeight\": 300, \"offset\": 20}}, \"data\": {\"name\": \"data-c2fd836771d9cb55d5bf22a8d0ebd573\"}, \"mark\": \"bar\", \"encoding\": {\"color\": {\"field\": \"primary_agency_name\", \"legend\": {\"symbolLimit\": 10, \"title\": \"Agency\"}, \"scale\": {\"range\": [\"#2EA8CE\", \"#EB9F3C\", \"#F4D837\", \"#51BF9D\", \"#8CBCCB\", \"#9487C0\"]}, \"type\": \"nominal\"}, \"tooltip\": [{\"field\": \"primary_agency_name\", \"type\": \"nominal\"}, {\"field\": \"adjusted_total_requested\", \"type\": \"quantitative\"}], \"x\": {\"field\": \"primary_agency_name\", \"sort\": \"-y\", \"title\": \"Agency\", \"type\": \"nominal\"}, \"y\": {\"field\": \"adjusted_total_requested\", \"title\": \"Adjusted Total Requested\", \"type\": \"quantitative\"}}, \"height\": 250, \"width\": 400, \"$schema\": \"https://vega.github.io/schema/vega-lite/v4.17.0.json\", \"datasets\": {\"data-c2fd836771d9cb55d5bf22a8d0ebd573\": [{\"primary_agency_name\": \"Arcata\", \"adjusted_total_requested\": 501431.1970201271}, {\"primary_agency_name\": \"Ukiah\", \"adjusted_total_requested\": 343977.094473639}, {\"primary_agency_name\": \"Crescent City\", \"adjusted_total_requested\": 320321.0752387005}, {\"primary_agency_name\": \"Del Norte County\", \"adjusted_total_requested\": 314754.1284342224}, {\"primary_agency_name\": \"Lake County\", \"adjusted_total_requested\": 267958.52295281884}, {\"primary_agency_name\": \"Clearlake\", \"adjusted_total_requested\": 263459.60698226583}, {\"primary_agency_name\": \"Eureka\", \"adjusted_total_requested\": 236787.5872691519}, {\"primary_agency_name\": \"Fortuna\", \"adjusted_total_requested\": 231917.26527929105}, {\"primary_agency_name\": \"Mendocino County\", \"adjusted_total_requested\": 191430.85855182505}, {\"primary_agency_name\": \"Humboldt County\", \"adjusted_total_requested\": 113644.75852505273}, {\"primary_agency_name\": \"Fort Bragg\", \"adjusted_total_requested\": 111383.79702893751}, {\"primary_agency_name\": \"Department of Parks and Recreation\", \"adjusted_total_requested\": 82885.72127737674}, {\"primary_agency_name\": \"Lakeport\", \"adjusted_total_requested\": 54935.7254281367}, {\"primary_agency_name\": \"Trinidad\", \"adjusted_total_requested\": 36472.58129735236}, {\"primary_agency_name\": \"Blue Lake\", \"adjusted_total_requested\": 28393.622547973802}, {\"primary_agency_name\": \"Rio Dell\", \"adjusted_total_requested\": 24582.065862996507}, {\"primary_agency_name\": \"Willits\", \"adjusted_total_requested\": 13613.487260556602}, {\"primary_agency_name\": \"Ferndale\", \"adjusted_total_requested\": 13029.641101060264}]}}, {\"mode\": \"vega-lite\"});\n",
       "</script>"
      ],
      "text/plain": [
       "alt.Chart(...)"
      ]
     },
     "metadata": {},
     "output_type": "display_data"
    }
   ],
   "source": [
    "#Bar chart Average Total Requested Funds by Agency\n",
    "chart4=(_dla_utils_reports.basic_bar_chart_no_save((((_dla_utils_reports.calculate_data_all(df, 'adjusted_total_requested', 'primary_agency_name', aggfunc=\"mean\"))\n",
    "                          >>arrange(-_.adjusted_total_requested)).head(30)\n",
    "                        ), 'primary_agency_name','adjusted_total_requested', 'primary_agency_name', district\n",
    "                          \n",
    "                       ))\n",
    "    \n",
    "display(HTML(\"<h4><strong>Average Total Requested Funds by Agency ($2021)</strong></h4>\"))\n",
    "display(chart4)"
   ]
  },
  {
   "cell_type": "code",
   "execution_count": 17,
   "id": "ce18a74b-9908-40f8-84f1-806552936465",
   "metadata": {
    "execution": {
     "iopub.execute_input": "2022-05-02T23:03:00.896063Z",
     "iopub.status.busy": "2022-05-02T23:03:00.894954Z",
     "iopub.status.idle": "2022-05-02T23:03:00.954625Z",
     "shell.execute_reply": "2022-05-02T23:03:00.953785Z"
    },
    "jupyter": {
     "source_hidden": true
    },
    "papermill": {
     "duration": 0.095778,
     "end_time": "2022-05-02T23:03:00.956715",
     "exception": false,
     "start_time": "2022-05-02T23:03:00.860937",
     "status": "completed"
    },
    "tags": [
     "remove_input"
    ]
   },
   "outputs": [
    {
     "data": {
      "text/html": [
       "<h4><strong>Lowest Average Total Funds by Agency ($2021)</strong></h4>"
      ],
      "text/plain": [
       "<IPython.core.display.HTML object>"
      ]
     },
     "metadata": {},
     "output_type": "display_data"
    },
    {
     "data": {
      "text/html": [
       "\n",
       "<div id=\"altair-viz-bb8f358ad9be4a08a5bf0825177f96c2\"></div>\n",
       "<script type=\"text/javascript\">\n",
       "  var VEGA_DEBUG = (typeof VEGA_DEBUG == \"undefined\") ? {} : VEGA_DEBUG;\n",
       "  (function(spec, embedOpt){\n",
       "    let outputDiv = document.currentScript.previousElementSibling;\n",
       "    if (outputDiv.id !== \"altair-viz-bb8f358ad9be4a08a5bf0825177f96c2\") {\n",
       "      outputDiv = document.getElementById(\"altair-viz-bb8f358ad9be4a08a5bf0825177f96c2\");\n",
       "    }\n",
       "    const paths = {\n",
       "      \"vega\": \"https://cdn.jsdelivr.net/npm//vega@5?noext\",\n",
       "      \"vega-lib\": \"https://cdn.jsdelivr.net/npm//vega-lib?noext\",\n",
       "      \"vega-lite\": \"https://cdn.jsdelivr.net/npm//vega-lite@4.17.0?noext\",\n",
       "      \"vega-embed\": \"https://cdn.jsdelivr.net/npm//vega-embed@6?noext\",\n",
       "    };\n",
       "\n",
       "    function maybeLoadScript(lib, version) {\n",
       "      var key = `${lib.replace(\"-\", \"\")}_version`;\n",
       "      return (VEGA_DEBUG[key] == version) ?\n",
       "        Promise.resolve(paths[lib]) :\n",
       "        new Promise(function(resolve, reject) {\n",
       "          var s = document.createElement('script');\n",
       "          document.getElementsByTagName(\"head\")[0].appendChild(s);\n",
       "          s.async = true;\n",
       "          s.onload = () => {\n",
       "            VEGA_DEBUG[key] = version;\n",
       "            return resolve(paths[lib]);\n",
       "          };\n",
       "          s.onerror = () => reject(`Error loading script: ${paths[lib]}`);\n",
       "          s.src = paths[lib];\n",
       "        });\n",
       "    }\n",
       "\n",
       "    function showError(err) {\n",
       "      outputDiv.innerHTML = `<div class=\"error\" style=\"color:red;\">${err}</div>`;\n",
       "      throw err;\n",
       "    }\n",
       "\n",
       "    function displayChart(vegaEmbed) {\n",
       "      vegaEmbed(outputDiv, spec, embedOpt)\n",
       "        .catch(err => showError(`Javascript Error: ${err.message}<br>This usually means there's a typo in your chart specification. See the javascript console for the full traceback.`));\n",
       "    }\n",
       "\n",
       "    if(typeof define === \"function\" && define.amd) {\n",
       "      requirejs.config({paths});\n",
       "      require([\"vega-embed\"], displayChart, err => showError(`Error loading script: ${err.message}`));\n",
       "    } else {\n",
       "      maybeLoadScript(\"vega\", \"5\")\n",
       "        .then(() => maybeLoadScript(\"vega-lite\", \"4.17.0\"))\n",
       "        .then(() => maybeLoadScript(\"vega-embed\", \"6\"))\n",
       "        .catch(showError)\n",
       "        .then(() => displayChart(vegaEmbed));\n",
       "    }\n",
       "  })({\"config\": {\"view\": {\"continuousWidth\": 400, \"continuousHeight\": 300}, \"axis\": {\"domainColor\": \"#cbcbcb\", \"grid\": true, \"gridColor\": \"#cbcbcb\", \"gridWidth\": 1, \"labelColor\": \"#474747\", \"labelFont\": \"Nunito Sans\", \"labelFontSize\": 10, \"labelPadding\": 4, \"tickColor\": \"#cbcbcb\", \"tickSize\": 10, \"titleColor\": \"#333\", \"titleFont\": \"Raleway\", \"titleFontSize\": 12, \"titlePadding\": 10}, \"axisBand\": {\"grid\": false}, \"background\": \"white\", \"font\": \"Raleway\", \"header\": {\"labelFont\": \"Nunito Sans\", \"titleFont\": \"Raleway\"}, \"legend\": {\"labelColor\": \"#333\", \"labelFont\": \"Nunito Sans\", \"labelFontSize\": 11, \"labelLimit\": 0, \"padding\": 1, \"symbolSize\": 30, \"symbolType\": \"square\", \"titleColor\": \"#333\", \"titleFont\": \"Raleway\", \"titleFontSize\": 14, \"titlePadding\": 10}, \"title\": {\"anchor\": \"middle\", \"font\": \"Raleway\", \"fontSize\": 18, \"fontWeight\": 300, \"offset\": 20}}, \"data\": {\"name\": \"data-a8952188420105a6108fc4e08011fbfa\"}, \"mark\": \"bar\", \"encoding\": {\"color\": {\"field\": \"primary_agency_name\", \"legend\": {\"symbolLimit\": 10, \"title\": \"Agency\"}, \"scale\": {\"range\": [\"#2EA8CE\", \"#EB9F3C\", \"#F4D837\", \"#51BF9D\", \"#8CBCCB\", \"#9487C0\"]}, \"type\": \"nominal\"}, \"tooltip\": [{\"field\": \"primary_agency_name\", \"type\": \"nominal\"}, {\"field\": \"avg_funds\", \"type\": \"quantitative\"}], \"x\": {\"field\": \"primary_agency_name\", \"sort\": \"-y\", \"title\": \"Agency\", \"type\": \"nominal\"}, \"y\": {\"field\": \"avg_funds\", \"title\": \"Avg Funds\", \"type\": \"quantitative\"}}, \"height\": 250, \"width\": 400, \"$schema\": \"https://vega.github.io/schema/vega-lite/v4.17.0.json\", \"datasets\": {\"data-a8952188420105a6108fc4e08011fbfa\": [{\"primary_agency_name\": \"Arcata\", \"avg_funds\": 501431.197020127}, {\"primary_agency_name\": \"Ukiah\", \"avg_funds\": 343977.094473639}, {\"primary_agency_name\": \"Crescent City\", \"avg_funds\": 320321.0752387005}, {\"primary_agency_name\": \"Del Norte County\", \"avg_funds\": 314754.12843422254}, {\"primary_agency_name\": \"Lake County\", \"avg_funds\": 267958.52295281866}, {\"primary_agency_name\": \"Clearlake\", \"avg_funds\": 263459.60698226583}, {\"primary_agency_name\": \"Eureka\", \"avg_funds\": 236787.5872691519}, {\"primary_agency_name\": \"Fortuna\", \"avg_funds\": 231917.26527929105}, {\"primary_agency_name\": \"Mendocino County\", \"avg_funds\": 191430.85855182502}, {\"primary_agency_name\": \"Humboldt County\", \"avg_funds\": 113644.75852505272}, {\"primary_agency_name\": \"Fort Bragg\", \"avg_funds\": 111383.79702893751}, {\"primary_agency_name\": \"Department of Parks and Recreation\", \"avg_funds\": 82885.72127737674}, {\"primary_agency_name\": \"Lakeport\", \"avg_funds\": 54935.725428136706}, {\"primary_agency_name\": \"Trinidad\", \"avg_funds\": 36472.58129735236}, {\"primary_agency_name\": \"Blue Lake\", \"avg_funds\": 28393.622547973802}, {\"primary_agency_name\": \"Rio Dell\", \"avg_funds\": 24582.065862996507}, {\"primary_agency_name\": \"Willits\", \"avg_funds\": 13613.487260556602}, {\"primary_agency_name\": \"Ferndale\", \"avg_funds\": 13029.641101060264}, {\"primary_agency_name\": \"Humboldt Bay Harbor Recreation & Conservation District\", \"avg_funds\": -880.1633572781325}, {\"primary_agency_name\": \"Caltrans\", \"avg_funds\": -88586.1968776091}]}}, {\"mode\": \"vega-lite\"});\n",
       "</script>"
      ],
      "text/plain": [
       "alt.Chart(...)"
      ]
     },
     "metadata": {},
     "output_type": "display_data"
    }
   ],
   "source": [
    "#Bar chart Bottom Average Total Requested Funds by Agency\n",
    "avg_funds_bottom = (df>>group_by(_.primary_agency_name)>>summarize(avg_funds=_.adjusted_total_requested.mean())>>arrange(-_.avg_funds)).tail(50)\n",
    "\n",
    "chart5=( _dla_utils_reports.basic_bar_chart_no_save((avg_funds_bottom.tail(40)), 'primary_agency_name','avg_funds', 'primary_agency_name', district))\n",
    "    \n",
    "display(HTML(\"<h4><strong>Lowest Average Total Funds by Agency ($2021)</strong></h4>\"))\n",
    "display(chart5)"
   ]
  },
  {
   "cell_type": "code",
   "execution_count": 18,
   "id": "d18938e5-6fc5-4e53-87b2-7140df57e5a0",
   "metadata": {
    "execution": {
     "iopub.execute_input": "2022-05-02T23:03:01.020696Z",
     "iopub.status.busy": "2022-05-02T23:03:01.019908Z",
     "iopub.status.idle": "2022-05-02T23:03:01.065840Z",
     "shell.execute_reply": "2022-05-02T23:03:01.064949Z"
    },
    "jupyter": {
     "source_hidden": true
    },
    "papermill": {
     "duration": 0.079496,
     "end_time": "2022-05-02T23:03:01.067868",
     "exception": false,
     "start_time": "2022-05-02T23:03:00.988372",
     "status": "completed"
    },
    "tags": [
     "remove_input"
    ]
   },
   "outputs": [
    {
     "data": {
      "text/html": [
       "<h4><strong>Average Total Requested Funds by Prefix ($2021)</strong></h4>"
      ],
      "text/plain": [
       "<IPython.core.display.HTML object>"
      ]
     },
     "metadata": {},
     "output_type": "display_data"
    },
    {
     "data": {
      "text/html": [
       "\n",
       "<div id=\"altair-viz-d4a2e37b7cce4f24b0f3b2ad9fe66e56\"></div>\n",
       "<script type=\"text/javascript\">\n",
       "  var VEGA_DEBUG = (typeof VEGA_DEBUG == \"undefined\") ? {} : VEGA_DEBUG;\n",
       "  (function(spec, embedOpt){\n",
       "    let outputDiv = document.currentScript.previousElementSibling;\n",
       "    if (outputDiv.id !== \"altair-viz-d4a2e37b7cce4f24b0f3b2ad9fe66e56\") {\n",
       "      outputDiv = document.getElementById(\"altair-viz-d4a2e37b7cce4f24b0f3b2ad9fe66e56\");\n",
       "    }\n",
       "    const paths = {\n",
       "      \"vega\": \"https://cdn.jsdelivr.net/npm//vega@5?noext\",\n",
       "      \"vega-lib\": \"https://cdn.jsdelivr.net/npm//vega-lib?noext\",\n",
       "      \"vega-lite\": \"https://cdn.jsdelivr.net/npm//vega-lite@4.17.0?noext\",\n",
       "      \"vega-embed\": \"https://cdn.jsdelivr.net/npm//vega-embed@6?noext\",\n",
       "    };\n",
       "\n",
       "    function maybeLoadScript(lib, version) {\n",
       "      var key = `${lib.replace(\"-\", \"\")}_version`;\n",
       "      return (VEGA_DEBUG[key] == version) ?\n",
       "        Promise.resolve(paths[lib]) :\n",
       "        new Promise(function(resolve, reject) {\n",
       "          var s = document.createElement('script');\n",
       "          document.getElementsByTagName(\"head\")[0].appendChild(s);\n",
       "          s.async = true;\n",
       "          s.onload = () => {\n",
       "            VEGA_DEBUG[key] = version;\n",
       "            return resolve(paths[lib]);\n",
       "          };\n",
       "          s.onerror = () => reject(`Error loading script: ${paths[lib]}`);\n",
       "          s.src = paths[lib];\n",
       "        });\n",
       "    }\n",
       "\n",
       "    function showError(err) {\n",
       "      outputDiv.innerHTML = `<div class=\"error\" style=\"color:red;\">${err}</div>`;\n",
       "      throw err;\n",
       "    }\n",
       "\n",
       "    function displayChart(vegaEmbed) {\n",
       "      vegaEmbed(outputDiv, spec, embedOpt)\n",
       "        .catch(err => showError(`Javascript Error: ${err.message}<br>This usually means there's a typo in your chart specification. See the javascript console for the full traceback.`));\n",
       "    }\n",
       "\n",
       "    if(typeof define === \"function\" && define.amd) {\n",
       "      requirejs.config({paths});\n",
       "      require([\"vega-embed\"], displayChart, err => showError(`Error loading script: ${err.message}`));\n",
       "    } else {\n",
       "      maybeLoadScript(\"vega\", \"5\")\n",
       "        .then(() => maybeLoadScript(\"vega-lite\", \"4.17.0\"))\n",
       "        .then(() => maybeLoadScript(\"vega-embed\", \"6\"))\n",
       "        .catch(showError)\n",
       "        .then(() => displayChart(vegaEmbed));\n",
       "    }\n",
       "  })({\"config\": {\"view\": {\"continuousWidth\": 400, \"continuousHeight\": 300}, \"axis\": {\"domainColor\": \"#cbcbcb\", \"grid\": true, \"gridColor\": \"#cbcbcb\", \"gridWidth\": 1, \"labelColor\": \"#474747\", \"labelFont\": \"Nunito Sans\", \"labelFontSize\": 10, \"labelPadding\": 4, \"tickColor\": \"#cbcbcb\", \"tickSize\": 10, \"titleColor\": \"#333\", \"titleFont\": \"Raleway\", \"titleFontSize\": 12, \"titlePadding\": 10}, \"axisBand\": {\"grid\": false}, \"background\": \"white\", \"font\": \"Raleway\", \"header\": {\"labelFont\": \"Nunito Sans\", \"titleFont\": \"Raleway\"}, \"legend\": {\"labelColor\": \"#333\", \"labelFont\": \"Nunito Sans\", \"labelFontSize\": 11, \"labelLimit\": 0, \"padding\": 1, \"symbolSize\": 30, \"symbolType\": \"square\", \"titleColor\": \"#333\", \"titleFont\": \"Raleway\", \"titleFontSize\": 14, \"titlePadding\": 10}, \"title\": {\"anchor\": \"middle\", \"font\": \"Raleway\", \"fontSize\": 18, \"fontWeight\": 300, \"offset\": 20}}, \"data\": {\"name\": \"data-dcf8a1c6381b60cf2580cf376e706c64\"}, \"mark\": \"bar\", \"encoding\": {\"color\": {\"field\": \"prefix\", \"legend\": {\"symbolLimit\": 10, \"title\": \"Prefix\"}, \"scale\": {\"range\": [\"#2EA8CE\", \"#EB9F3C\", \"#F4D837\", \"#51BF9D\", \"#8CBCCB\", \"#9487C0\"]}, \"type\": \"nominal\"}, \"tooltip\": [{\"field\": \"prefix\", \"type\": \"nominal\"}, {\"field\": \"adjusted_total_requested\", \"type\": \"quantitative\"}], \"x\": {\"field\": \"prefix\", \"sort\": \"-y\", \"title\": \"Prefix\", \"type\": \"nominal\"}, \"y\": {\"field\": \"adjusted_total_requested\", \"title\": \"Adjusted Total Requested\", \"type\": \"quantitative\"}}, \"height\": 250, \"width\": 400, \"$schema\": \"https://vega.github.io/schema/vega-lite/v4.17.0.json\", \"datasets\": {\"data-dcf8a1c6381b60cf2580cf376e706c64\": [{\"prefix\": \"SRTSL\", \"adjusted_total_requested\": 983221.9250247689}, {\"prefix\": \"BRLSZD\", \"adjusted_total_requested\": 938669.9318708807}, {\"prefix\": \"ATPL\", \"adjusted_total_requested\": 665956.6191673373}, {\"prefix\": \"BRLRT\", \"adjusted_total_requested\": 476855.42754139844}, {\"prefix\": \"RPL\", \"adjusted_total_requested\": 407436.6214023736}, {\"prefix\": \"ACSTER\", \"adjusted_total_requested\": 391978.4044322121}, {\"prefix\": \"BRLO\", \"adjusted_total_requested\": 340184.92645736557}, {\"prefix\": \"BHLS\", \"adjusted_total_requested\": 310718.93452887126}, {\"prefix\": \"DEMO6L\", \"adjusted_total_requested\": 257400.97050909224}, {\"prefix\": \"HIPL\", \"adjusted_total_requested\": 256568.1081229385}, {\"prefix\": \"BRLS\", \"adjusted_total_requested\": 239971.99383422625}, {\"prefix\": \"RPSTPL\", \"adjusted_total_requested\": 204910.9948084781}, {\"prefix\": \"BRLOZB\", \"adjusted_total_requested\": 161067.03434291677}, {\"prefix\": \"HSIPL\", \"adjusted_total_requested\": 146214.14361881925}, {\"prefix\": \"HSIIPL\", \"adjusted_total_requested\": 135586.8142683824}, {\"prefix\": \"ACSTP\", \"adjusted_total_requested\": 121395.35277256636}, {\"prefix\": \"BPMP\", \"adjusted_total_requested\": 83492.23279515981}, {\"prefix\": \"HRRRL\", \"adjusted_total_requested\": 81558.32781004316}, {\"prefix\": \"RPSTPLE\", \"adjusted_total_requested\": 80219.3285527729}, {\"prefix\": \"ER\", \"adjusted_total_requested\": 35177.96988051566}, {\"prefix\": \"BHLO\", \"adjusted_total_requested\": 18654.54374463975}, {\"prefix\": \"ATPLNI\", \"adjusted_total_requested\": 16951.467684206367}, {\"prefix\": \"FBDLNI\", \"adjusted_total_requested\": 7801.015841881745}]}}, {\"mode\": \"vega-lite\"});\n",
       "</script>"
      ],
      "text/plain": [
       "alt.Chart(...)"
      ]
     },
     "metadata": {},
     "output_type": "display_data"
    }
   ],
   "source": [
    "# Bar chart Average Total Requested Funds by Prefix\n",
    "chart8 = (_dla_utils_reports.basic_bar_chart_no_save((((_dla_utils_reports.calculate_data_all(df, 'adjusted_total_requested', 'prefix', aggfunc=\"mean\"))\n",
    "                          >>arrange(-_.adjusted_total_requested)).head(30)), 'prefix','adjusted_total_requested', 'prefix', district\n",
    "                       ))\n",
    "    \n",
    "display(HTML(\"<h4><strong>Average Total Requested Funds by Prefix ($2021)</strong></h4>\"))\n",
    "display(chart8)\n",
    "    "
   ]
  },
  {
   "cell_type": "code",
   "execution_count": 19,
   "id": "fba57d98-39a1-4a63-bc94-cecf0841aa75",
   "metadata": {
    "execution": {
     "iopub.execute_input": "2022-05-02T23:03:01.137968Z",
     "iopub.status.busy": "2022-05-02T23:03:01.136972Z",
     "iopub.status.idle": "2022-05-02T23:03:01.143351Z",
     "shell.execute_reply": "2022-05-02T23:03:01.142709Z"
    },
    "jupyter": {
     "source_hidden": true
    },
    "papermill": {
     "duration": 0.044689,
     "end_time": "2022-05-02T23:03:01.145280",
     "exception": false,
     "start_time": "2022-05-02T23:03:01.100591",
     "status": "completed"
    },
    "tags": [
     "remove_input"
    ]
   },
   "outputs": [
    {
     "data": {
      "text/html": [
       "<h2>Work Categories</h2>"
      ],
      "text/plain": [
       "<IPython.core.display.HTML object>"
      ]
     },
     "metadata": {},
     "output_type": "display_data"
    }
   ],
   "source": [
    "#work categories info and charts\n",
    "display(HTML(\"<h2>Work Categories</h2>\"))"
   ]
  },
  {
   "cell_type": "code",
   "execution_count": 20,
   "id": "50a1cf08-17eb-4b2b-9dc0-671ee7551f2d",
   "metadata": {
    "execution": {
     "iopub.execute_input": "2022-05-02T23:03:01.214223Z",
     "iopub.status.busy": "2022-05-02T23:03:01.213206Z",
     "iopub.status.idle": "2022-05-02T23:03:02.032512Z",
     "shell.execute_reply": "2022-05-02T23:03:02.031575Z"
    },
    "jupyter": {
     "source_hidden": true
    },
    "papermill": {
     "duration": 0.855302,
     "end_time": "2022-05-02T23:03:02.035916",
     "exception": false,
     "start_time": "2022-05-02T23:03:01.180614",
     "status": "completed"
    },
    "tags": [
     "remove_input"
    ]
   },
   "outputs": [
    {
     "data": {
      "application/vnd.jupyter.widget-view+json": {
       "model_id": "119dcb33cb164c20a95fae59597d113f",
       "version_major": 2,
       "version_minor": 0
      },
      "text/plain": [
       "HTML(value='<h3> Top Agencies using Active Transportation Projects </h3>')"
      ]
     },
     "metadata": {},
     "output_type": "display_data"
    },
    {
     "data": {
      "text/html": [
       "<style type=\"text/css\">\n",
       "</style>\n",
       "<table id=\"T_ea48e\">\n",
       "  <thead>\n",
       "    <tr>\n",
       "      <th class=\"blank level0\" >&nbsp;</th>\n",
       "      <th id=\"T_ea48e_level0_col0\" class=\"col_heading level0 col0\" >Agency</th>\n",
       "      <th id=\"T_ea48e_level0_col1\" class=\"col_heading level0 col1\" >Active Transportation Obligations</th>\n",
       "      <th id=\"T_ea48e_level0_col2\" class=\"col_heading level0 col2\" >Percent of Category</th>\n",
       "    </tr>\n",
       "  </thead>\n",
       "  <tbody>\n",
       "    <tr>\n",
       "      <th id=\"T_ea48e_level0_row0\" class=\"row_heading level0 row0\" >0</th>\n",
       "      <td id=\"T_ea48e_row0_col0\" class=\"data row0 col0\" >Humboldt County</td>\n",
       "      <td id=\"T_ea48e_row0_col1\" class=\"data row0 col1\" >38</td>\n",
       "      <td id=\"T_ea48e_row0_col2\" class=\"data row0 col2\" >28.57%</td>\n",
       "    </tr>\n",
       "    <tr>\n",
       "      <th id=\"T_ea48e_level0_row1\" class=\"row_heading level0 row1\" >1</th>\n",
       "      <td id=\"T_ea48e_row1_col0\" class=\"data row1 col0\" >Eureka</td>\n",
       "      <td id=\"T_ea48e_row1_col1\" class=\"data row1 col1\" >20</td>\n",
       "      <td id=\"T_ea48e_row1_col2\" class=\"data row1 col2\" >15.04%</td>\n",
       "    </tr>\n",
       "    <tr>\n",
       "      <th id=\"T_ea48e_level0_row2\" class=\"row_heading level0 row2\" >2</th>\n",
       "      <td id=\"T_ea48e_row2_col0\" class=\"data row2 col0\" >Arcata</td>\n",
       "      <td id=\"T_ea48e_row2_col1\" class=\"data row2 col1\" >14</td>\n",
       "      <td id=\"T_ea48e_row2_col2\" class=\"data row2 col2\" >10.53%</td>\n",
       "    </tr>\n",
       "    <tr>\n",
       "      <th id=\"T_ea48e_level0_row3\" class=\"row_heading level0 row3\" >3</th>\n",
       "      <td id=\"T_ea48e_row3_col0\" class=\"data row3 col0\" >Fortuna</td>\n",
       "      <td id=\"T_ea48e_row3_col1\" class=\"data row3 col1\" >13</td>\n",
       "      <td id=\"T_ea48e_row3_col2\" class=\"data row3 col2\" >9.77%</td>\n",
       "    </tr>\n",
       "    <tr>\n",
       "      <th id=\"T_ea48e_level0_row4\" class=\"row_heading level0 row4\" >4</th>\n",
       "      <td id=\"T_ea48e_row4_col0\" class=\"data row4 col0\" >Clearlake</td>\n",
       "      <td id=\"T_ea48e_row4_col1\" class=\"data row4 col1\" >10</td>\n",
       "      <td id=\"T_ea48e_row4_col2\" class=\"data row4 col2\" >7.52%</td>\n",
       "    </tr>\n",
       "  </tbody>\n",
       "</table>\n"
      ],
      "text/plain": [
       "<pandas.io.formats.style.Styler at 0x7ff3bec40fa0>"
      ]
     },
     "metadata": {},
     "output_type": "display_data"
    },
    {
     "data": {
      "text/html": [
       "\n",
       "<div id=\"altair-viz-223171f3331747eda5886f2ce9b9610d\"></div>\n",
       "<script type=\"text/javascript\">\n",
       "  var VEGA_DEBUG = (typeof VEGA_DEBUG == \"undefined\") ? {} : VEGA_DEBUG;\n",
       "  (function(spec, embedOpt){\n",
       "    let outputDiv = document.currentScript.previousElementSibling;\n",
       "    if (outputDiv.id !== \"altair-viz-223171f3331747eda5886f2ce9b9610d\") {\n",
       "      outputDiv = document.getElementById(\"altair-viz-223171f3331747eda5886f2ce9b9610d\");\n",
       "    }\n",
       "    const paths = {\n",
       "      \"vega\": \"https://cdn.jsdelivr.net/npm//vega@5?noext\",\n",
       "      \"vega-lib\": \"https://cdn.jsdelivr.net/npm//vega-lib?noext\",\n",
       "      \"vega-lite\": \"https://cdn.jsdelivr.net/npm//vega-lite@4.17.0?noext\",\n",
       "      \"vega-embed\": \"https://cdn.jsdelivr.net/npm//vega-embed@6?noext\",\n",
       "    };\n",
       "\n",
       "    function maybeLoadScript(lib, version) {\n",
       "      var key = `${lib.replace(\"-\", \"\")}_version`;\n",
       "      return (VEGA_DEBUG[key] == version) ?\n",
       "        Promise.resolve(paths[lib]) :\n",
       "        new Promise(function(resolve, reject) {\n",
       "          var s = document.createElement('script');\n",
       "          document.getElementsByTagName(\"head\")[0].appendChild(s);\n",
       "          s.async = true;\n",
       "          s.onload = () => {\n",
       "            VEGA_DEBUG[key] = version;\n",
       "            return resolve(paths[lib]);\n",
       "          };\n",
       "          s.onerror = () => reject(`Error loading script: ${paths[lib]}`);\n",
       "          s.src = paths[lib];\n",
       "        });\n",
       "    }\n",
       "\n",
       "    function showError(err) {\n",
       "      outputDiv.innerHTML = `<div class=\"error\" style=\"color:red;\">${err}</div>`;\n",
       "      throw err;\n",
       "    }\n",
       "\n",
       "    function displayChart(vegaEmbed) {\n",
       "      vegaEmbed(outputDiv, spec, embedOpt)\n",
       "        .catch(err => showError(`Javascript Error: ${err.message}<br>This usually means there's a typo in your chart specification. See the javascript console for the full traceback.`));\n",
       "    }\n",
       "\n",
       "    if(typeof define === \"function\" && define.amd) {\n",
       "      requirejs.config({paths});\n",
       "      require([\"vega-embed\"], displayChart, err => showError(`Error loading script: ${err.message}`));\n",
       "    } else {\n",
       "      maybeLoadScript(\"vega\", \"5\")\n",
       "        .then(() => maybeLoadScript(\"vega-lite\", \"4.17.0\"))\n",
       "        .then(() => maybeLoadScript(\"vega-embed\", \"6\"))\n",
       "        .catch(showError)\n",
       "        .then(() => displayChart(vegaEmbed));\n",
       "    }\n",
       "  })({\"config\": {\"view\": {\"continuousWidth\": 400, \"continuousHeight\": 300}}, \"data\": {\"name\": \"data-3be174a2ca226317760cb431e92eb730\"}, \"mark\": \"bar\", \"encoding\": {\"color\": {\"field\": \"Categories\", \"scale\": {\"range\": [\"#2EA8CE\", \"#EB9F3C\", \"#F4D837\", \"#51BF9D\", \"#8CBCCB\", \"#9487C0\"]}, \"type\": \"nominal\"}, \"row\": {\"field\": \"Categories\", \"type\": \"nominal\"}, \"tooltip\": [{\"field\": \"Agency\", \"type\": \"nominal\"}, {\"field\": \"Funding Amount\", \"type\": \"quantitative\"}], \"x\": {\"axis\": {\"format\": \"$.2s\", \"title\": \"Obligated Funding ($2021)\"}, \"field\": \"Funding Amount\", \"type\": \"quantitative\"}, \"y\": {\"field\": \"Agency\", \"type\": \"nominal\"}}, \"$schema\": \"https://vega.github.io/schema/vega-lite/v4.17.0.json\", \"datasets\": {\"data-3be174a2ca226317760cb431e92eb730\": [{\"Agency\": \"Humboldt County\", \"Categories\": \"Total Requested\", \"Funding Amount\": 200240.2609504501}, {\"Agency\": \"Eureka\", \"Categories\": \"Total Requested\", \"Funding Amount\": 383171.1315653102}, {\"Agency\": \"Arcata\", \"Categories\": \"Total Requested\", \"Funding Amount\": 552910.8012125251}, {\"Agency\": \"Fortuna\", \"Categories\": \"Total Requested\", \"Funding Amount\": 231917.26527929105}, {\"Agency\": \"Clearlake\", \"Categories\": \"Total Requested\", \"Funding Amount\": 263459.60698226583}, {\"Agency\": \"Humboldt County\", \"Categories\": \"Fed Requested\", \"Funding Amount\": 176478.1613593102}, {\"Agency\": \"Eureka\", \"Categories\": \"Fed Requested\", \"Funding Amount\": 240799.3817190333}, {\"Agency\": \"Arcata\", \"Categories\": \"Fed Requested\", \"Funding Amount\": 373961.1024481967}, {\"Agency\": \"Fortuna\", \"Categories\": \"Fed Requested\", \"Funding Amount\": 224469.6807838036}, {\"Agency\": \"Clearlake\", \"Categories\": \"Fed Requested\", \"Funding Amount\": 91377.74118284053}, {\"Agency\": \"Humboldt County\", \"Categories\": \"AC Requested\", \"Funding Amount\": 0.0}, {\"Agency\": \"Eureka\", \"Categories\": \"AC Requested\", \"Funding Amount\": 0.0}, {\"Agency\": \"Arcata\", \"Categories\": \"AC Requested\", \"Funding Amount\": 0.0}, {\"Agency\": \"Fortuna\", \"Categories\": \"AC Requested\", \"Funding Amount\": 0.0}, {\"Agency\": \"Clearlake\", \"Categories\": \"AC Requested\", \"Funding Amount\": 0.0}]}}, {\"mode\": \"vega-lite\"});\n",
       "</script>"
      ],
      "text/plain": [
       "alt.Chart(...)"
      ]
     },
     "metadata": {},
     "output_type": "display_data"
    },
    {
     "data": {
      "application/vnd.jupyter.widget-view+json": {
       "model_id": "3865ceed234a44ce9484f4f4fe40e46d",
       "version_major": 2,
       "version_minor": 0
      },
      "text/plain": [
       "HTML(value='<h3> Top Agencies using Transit Projects </h3>')"
      ]
     },
     "metadata": {},
     "output_type": "display_data"
    },
    {
     "data": {
      "text/html": [
       "<style type=\"text/css\">\n",
       "</style>\n",
       "<table id=\"T_65693\">\n",
       "  <thead>\n",
       "    <tr>\n",
       "      <th class=\"blank level0\" >&nbsp;</th>\n",
       "      <th id=\"T_65693_level0_col0\" class=\"col_heading level0 col0\" >Agency</th>\n",
       "      <th id=\"T_65693_level0_col1\" class=\"col_heading level0 col1\" >Transit Obligations</th>\n",
       "      <th id=\"T_65693_level0_col2\" class=\"col_heading level0 col2\" >Percent of Category</th>\n",
       "    </tr>\n",
       "  </thead>\n",
       "  <tbody>\n",
       "    <tr>\n",
       "      <th id=\"T_65693_level0_row0\" class=\"row_heading level0 row0\" >0</th>\n",
       "      <td id=\"T_65693_row0_col0\" class=\"data row0 col0\" >Trinidad</td>\n",
       "      <td id=\"T_65693_row0_col1\" class=\"data row0 col1\" >1</td>\n",
       "      <td id=\"T_65693_row0_col2\" class=\"data row0 col2\" >100.00%</td>\n",
       "    </tr>\n",
       "  </tbody>\n",
       "</table>\n"
      ],
      "text/plain": [
       "<pandas.io.formats.style.Styler at 0x7ff3bc97b3d0>"
      ]
     },
     "metadata": {},
     "output_type": "display_data"
    },
    {
     "data": {
      "text/html": [
       "\n",
       "<div id=\"altair-viz-d953eaffc782429bb6e9721bb546a8f6\"></div>\n",
       "<script type=\"text/javascript\">\n",
       "  var VEGA_DEBUG = (typeof VEGA_DEBUG == \"undefined\") ? {} : VEGA_DEBUG;\n",
       "  (function(spec, embedOpt){\n",
       "    let outputDiv = document.currentScript.previousElementSibling;\n",
       "    if (outputDiv.id !== \"altair-viz-d953eaffc782429bb6e9721bb546a8f6\") {\n",
       "      outputDiv = document.getElementById(\"altair-viz-d953eaffc782429bb6e9721bb546a8f6\");\n",
       "    }\n",
       "    const paths = {\n",
       "      \"vega\": \"https://cdn.jsdelivr.net/npm//vega@5?noext\",\n",
       "      \"vega-lib\": \"https://cdn.jsdelivr.net/npm//vega-lib?noext\",\n",
       "      \"vega-lite\": \"https://cdn.jsdelivr.net/npm//vega-lite@4.17.0?noext\",\n",
       "      \"vega-embed\": \"https://cdn.jsdelivr.net/npm//vega-embed@6?noext\",\n",
       "    };\n",
       "\n",
       "    function maybeLoadScript(lib, version) {\n",
       "      var key = `${lib.replace(\"-\", \"\")}_version`;\n",
       "      return (VEGA_DEBUG[key] == version) ?\n",
       "        Promise.resolve(paths[lib]) :\n",
       "        new Promise(function(resolve, reject) {\n",
       "          var s = document.createElement('script');\n",
       "          document.getElementsByTagName(\"head\")[0].appendChild(s);\n",
       "          s.async = true;\n",
       "          s.onload = () => {\n",
       "            VEGA_DEBUG[key] = version;\n",
       "            return resolve(paths[lib]);\n",
       "          };\n",
       "          s.onerror = () => reject(`Error loading script: ${paths[lib]}`);\n",
       "          s.src = paths[lib];\n",
       "        });\n",
       "    }\n",
       "\n",
       "    function showError(err) {\n",
       "      outputDiv.innerHTML = `<div class=\"error\" style=\"color:red;\">${err}</div>`;\n",
       "      throw err;\n",
       "    }\n",
       "\n",
       "    function displayChart(vegaEmbed) {\n",
       "      vegaEmbed(outputDiv, spec, embedOpt)\n",
       "        .catch(err => showError(`Javascript Error: ${err.message}<br>This usually means there's a typo in your chart specification. See the javascript console for the full traceback.`));\n",
       "    }\n",
       "\n",
       "    if(typeof define === \"function\" && define.amd) {\n",
       "      requirejs.config({paths});\n",
       "      require([\"vega-embed\"], displayChart, err => showError(`Error loading script: ${err.message}`));\n",
       "    } else {\n",
       "      maybeLoadScript(\"vega\", \"5\")\n",
       "        .then(() => maybeLoadScript(\"vega-lite\", \"4.17.0\"))\n",
       "        .then(() => maybeLoadScript(\"vega-embed\", \"6\"))\n",
       "        .catch(showError)\n",
       "        .then(() => displayChart(vegaEmbed));\n",
       "    }\n",
       "  })({\"config\": {\"view\": {\"continuousWidth\": 400, \"continuousHeight\": 300}}, \"data\": {\"name\": \"data-7d48debd4fbf38038a6db7504109a56d\"}, \"mark\": \"bar\", \"encoding\": {\"color\": {\"field\": \"Categories\", \"scale\": {\"range\": [\"#2EA8CE\", \"#EB9F3C\", \"#F4D837\", \"#51BF9D\", \"#8CBCCB\", \"#9487C0\"]}, \"type\": \"nominal\"}, \"row\": {\"field\": \"Categories\", \"type\": \"nominal\"}, \"tooltip\": [{\"field\": \"Agency\", \"type\": \"nominal\"}, {\"field\": \"Funding Amount\", \"type\": \"quantitative\"}], \"x\": {\"axis\": {\"format\": \"$.2s\", \"title\": \"Obligated Funding ($2021)\"}, \"field\": \"Funding Amount\", \"type\": \"quantitative\"}, \"y\": {\"field\": \"Agency\", \"type\": \"nominal\"}}, \"$schema\": \"https://vega.github.io/schema/vega-lite/v4.17.0.json\", \"datasets\": {\"data-7d48debd4fbf38038a6db7504109a56d\": [{\"Agency\": \"Trinidad\", \"Categories\": \"Total Requested\", \"Funding Amount\": 36472.58129735236}, {\"Agency\": \"Trinidad\", \"Categories\": \"Fed Requested\", \"Funding Amount\": 0.0}, {\"Agency\": \"Trinidad\", \"Categories\": \"AC Requested\", \"Funding Amount\": 0.0}]}}, {\"mode\": \"vega-lite\"});\n",
       "</script>"
      ],
      "text/plain": [
       "alt.Chart(...)"
      ]
     },
     "metadata": {},
     "output_type": "display_data"
    },
    {
     "data": {
      "application/vnd.jupyter.widget-view+json": {
       "model_id": "69b00f5868864debbbbd8316060c3fbe",
       "version_major": 2,
       "version_minor": 0
      },
      "text/plain": [
       "HTML(value='<h3> Top Agencies using Bridge Projects </h3>')"
      ]
     },
     "metadata": {},
     "output_type": "display_data"
    },
    {
     "data": {
      "text/html": [
       "<style type=\"text/css\">\n",
       "</style>\n",
       "<table id=\"T_04715\">\n",
       "  <thead>\n",
       "    <tr>\n",
       "      <th class=\"blank level0\" >&nbsp;</th>\n",
       "      <th id=\"T_04715_level0_col0\" class=\"col_heading level0 col0\" >Agency</th>\n",
       "      <th id=\"T_04715_level0_col1\" class=\"col_heading level0 col1\" >Bridge Obligations</th>\n",
       "      <th id=\"T_04715_level0_col2\" class=\"col_heading level0 col2\" >Percent of Category</th>\n",
       "    </tr>\n",
       "  </thead>\n",
       "  <tbody>\n",
       "    <tr>\n",
       "      <th id=\"T_04715_level0_row0\" class=\"row_heading level0 row0\" >0</th>\n",
       "      <td id=\"T_04715_row0_col0\" class=\"data row0 col0\" >Humboldt County</td>\n",
       "      <td id=\"T_04715_row0_col1\" class=\"data row0 col1\" >104</td>\n",
       "      <td id=\"T_04715_row0_col2\" class=\"data row0 col2\" >36.49%</td>\n",
       "    </tr>\n",
       "    <tr>\n",
       "      <th id=\"T_04715_level0_row1\" class=\"row_heading level0 row1\" >1</th>\n",
       "      <td id=\"T_04715_row1_col0\" class=\"data row1 col0\" >Lake County</td>\n",
       "      <td id=\"T_04715_row1_col1\" class=\"data row1 col1\" >97</td>\n",
       "      <td id=\"T_04715_row1_col2\" class=\"data row1 col2\" >34.04%</td>\n",
       "    </tr>\n",
       "    <tr>\n",
       "      <th id=\"T_04715_level0_row2\" class=\"row_heading level0 row2\" >2</th>\n",
       "      <td id=\"T_04715_row2_col0\" class=\"data row2 col0\" >Mendocino County</td>\n",
       "      <td id=\"T_04715_row2_col1\" class=\"data row2 col1\" >67</td>\n",
       "      <td id=\"T_04715_row2_col2\" class=\"data row2 col2\" >23.51%</td>\n",
       "    </tr>\n",
       "    <tr>\n",
       "      <th id=\"T_04715_level0_row3\" class=\"row_heading level0 row3\" >3</th>\n",
       "      <td id=\"T_04715_row3_col0\" class=\"data row3 col0\" >Del Norte County</td>\n",
       "      <td id=\"T_04715_row3_col1\" class=\"data row3 col1\" >12</td>\n",
       "      <td id=\"T_04715_row3_col2\" class=\"data row3 col2\" >4.21%</td>\n",
       "    </tr>\n",
       "    <tr>\n",
       "      <th id=\"T_04715_level0_row4\" class=\"row_heading level0 row4\" >4</th>\n",
       "      <td id=\"T_04715_row4_col0\" class=\"data row4 col0\" >Willits</td>\n",
       "      <td id=\"T_04715_row4_col1\" class=\"data row4 col1\" >5</td>\n",
       "      <td id=\"T_04715_row4_col2\" class=\"data row4 col2\" >1.75%</td>\n",
       "    </tr>\n",
       "  </tbody>\n",
       "</table>\n"
      ],
      "text/plain": [
       "<pandas.io.formats.style.Styler at 0x7ff3bec8f2e0>"
      ]
     },
     "metadata": {},
     "output_type": "display_data"
    },
    {
     "data": {
      "text/html": [
       "\n",
       "<div id=\"altair-viz-5a4a5d259f8c4967bce6a9e06c540410\"></div>\n",
       "<script type=\"text/javascript\">\n",
       "  var VEGA_DEBUG = (typeof VEGA_DEBUG == \"undefined\") ? {} : VEGA_DEBUG;\n",
       "  (function(spec, embedOpt){\n",
       "    let outputDiv = document.currentScript.previousElementSibling;\n",
       "    if (outputDiv.id !== \"altair-viz-5a4a5d259f8c4967bce6a9e06c540410\") {\n",
       "      outputDiv = document.getElementById(\"altair-viz-5a4a5d259f8c4967bce6a9e06c540410\");\n",
       "    }\n",
       "    const paths = {\n",
       "      \"vega\": \"https://cdn.jsdelivr.net/npm//vega@5?noext\",\n",
       "      \"vega-lib\": \"https://cdn.jsdelivr.net/npm//vega-lib?noext\",\n",
       "      \"vega-lite\": \"https://cdn.jsdelivr.net/npm//vega-lite@4.17.0?noext\",\n",
       "      \"vega-embed\": \"https://cdn.jsdelivr.net/npm//vega-embed@6?noext\",\n",
       "    };\n",
       "\n",
       "    function maybeLoadScript(lib, version) {\n",
       "      var key = `${lib.replace(\"-\", \"\")}_version`;\n",
       "      return (VEGA_DEBUG[key] == version) ?\n",
       "        Promise.resolve(paths[lib]) :\n",
       "        new Promise(function(resolve, reject) {\n",
       "          var s = document.createElement('script');\n",
       "          document.getElementsByTagName(\"head\")[0].appendChild(s);\n",
       "          s.async = true;\n",
       "          s.onload = () => {\n",
       "            VEGA_DEBUG[key] = version;\n",
       "            return resolve(paths[lib]);\n",
       "          };\n",
       "          s.onerror = () => reject(`Error loading script: ${paths[lib]}`);\n",
       "          s.src = paths[lib];\n",
       "        });\n",
       "    }\n",
       "\n",
       "    function showError(err) {\n",
       "      outputDiv.innerHTML = `<div class=\"error\" style=\"color:red;\">${err}</div>`;\n",
       "      throw err;\n",
       "    }\n",
       "\n",
       "    function displayChart(vegaEmbed) {\n",
       "      vegaEmbed(outputDiv, spec, embedOpt)\n",
       "        .catch(err => showError(`Javascript Error: ${err.message}<br>This usually means there's a typo in your chart specification. See the javascript console for the full traceback.`));\n",
       "    }\n",
       "\n",
       "    if(typeof define === \"function\" && define.amd) {\n",
       "      requirejs.config({paths});\n",
       "      require([\"vega-embed\"], displayChart, err => showError(`Error loading script: ${err.message}`));\n",
       "    } else {\n",
       "      maybeLoadScript(\"vega\", \"5\")\n",
       "        .then(() => maybeLoadScript(\"vega-lite\", \"4.17.0\"))\n",
       "        .then(() => maybeLoadScript(\"vega-embed\", \"6\"))\n",
       "        .catch(showError)\n",
       "        .then(() => displayChart(vegaEmbed));\n",
       "    }\n",
       "  })({\"config\": {\"view\": {\"continuousWidth\": 400, \"continuousHeight\": 300}}, \"data\": {\"name\": \"data-9e2655034c47fed037588b74e00edbad\"}, \"mark\": \"bar\", \"encoding\": {\"color\": {\"field\": \"Categories\", \"scale\": {\"range\": [\"#2EA8CE\", \"#EB9F3C\", \"#F4D837\", \"#51BF9D\", \"#8CBCCB\", \"#9487C0\"]}, \"type\": \"nominal\"}, \"row\": {\"field\": \"Categories\", \"type\": \"nominal\"}, \"tooltip\": [{\"field\": \"Agency\", \"type\": \"nominal\"}, {\"field\": \"Funding Amount\", \"type\": \"quantitative\"}], \"x\": {\"axis\": {\"format\": \"$.2s\", \"title\": \"Obligated Funding ($2021)\"}, \"field\": \"Funding Amount\", \"type\": \"quantitative\"}, \"y\": {\"field\": \"Agency\", \"type\": \"nominal\"}}, \"$schema\": \"https://vega.github.io/schema/vega-lite/v4.17.0.json\", \"datasets\": {\"data-9e2655034c47fed037588b74e00edbad\": [{\"Agency\": \"Humboldt County\", \"Categories\": \"Total Requested\", \"Funding Amount\": 191567.20175444707}, {\"Agency\": \"Lake County\", \"Categories\": \"Total Requested\", \"Funding Amount\": 256523.73033111918}, {\"Agency\": \"Mendocino County\", \"Categories\": \"Total Requested\", \"Funding Amount\": 521502.6309248987}, {\"Agency\": \"Del Norte County\", \"Categories\": \"Total Requested\", \"Funding Amount\": 505172.20240773546}, {\"Agency\": \"Willits\", \"Categories\": \"Total Requested\", \"Funding Amount\": 32625.538982527516}, {\"Agency\": \"Humboldt County\", \"Categories\": \"Fed Requested\", \"Funding Amount\": 178894.51149098342}, {\"Agency\": \"Lake County\", \"Categories\": \"Fed Requested\", \"Funding Amount\": 251287.4879568511}, {\"Agency\": \"Mendocino County\", \"Categories\": \"Fed Requested\", \"Funding Amount\": 476682.5869393948}, {\"Agency\": \"Del Norte County\", \"Categories\": \"Fed Requested\", \"Funding Amount\": 505172.20153525245}, {\"Agency\": \"Willits\", \"Categories\": \"Fed Requested\", \"Funding Amount\": 12352.465412859407}, {\"Agency\": \"Humboldt County\", \"Categories\": \"AC Requested\", \"Funding Amount\": 75.2102761428018}, {\"Agency\": \"Lake County\", \"Categories\": \"AC Requested\", \"Funding Amount\": 0.0}, {\"Agency\": \"Mendocino County\", \"Categories\": \"AC Requested\", \"Funding Amount\": 0.0}, {\"Agency\": \"Del Norte County\", \"Categories\": \"AC Requested\", \"Funding Amount\": 0.0}, {\"Agency\": \"Willits\", \"Categories\": \"AC Requested\", \"Funding Amount\": -0.4239580255546335}]}}, {\"mode\": \"vega-lite\"});\n",
       "</script>"
      ],
      "text/plain": [
       "alt.Chart(...)"
      ]
     },
     "metadata": {},
     "output_type": "display_data"
    },
    {
     "data": {
      "application/vnd.jupyter.widget-view+json": {
       "model_id": "119201c1daf8446fba373017e29b207e",
       "version_major": 2,
       "version_minor": 0
      },
      "text/plain": [
       "HTML(value='<h3> Top Agencies using Street Projects </h3>')"
      ]
     },
     "metadata": {},
     "output_type": "display_data"
    },
    {
     "data": {
      "text/html": [
       "<style type=\"text/css\">\n",
       "</style>\n",
       "<table id=\"T_9475f\">\n",
       "  <thead>\n",
       "    <tr>\n",
       "      <th class=\"blank level0\" >&nbsp;</th>\n",
       "      <th id=\"T_9475f_level0_col0\" class=\"col_heading level0 col0\" >Agency</th>\n",
       "      <th id=\"T_9475f_level0_col1\" class=\"col_heading level0 col1\" >Street Obligations</th>\n",
       "      <th id=\"T_9475f_level0_col2\" class=\"col_heading level0 col2\" >Percent of Category</th>\n",
       "    </tr>\n",
       "  </thead>\n",
       "  <tbody>\n",
       "    <tr>\n",
       "      <th id=\"T_9475f_level0_row0\" class=\"row_heading level0 row0\" >0</th>\n",
       "      <td id=\"T_9475f_row0_col0\" class=\"data row0 col0\" >Humboldt County</td>\n",
       "      <td id=\"T_9475f_row0_col1\" class=\"data row0 col1\" >71</td>\n",
       "      <td id=\"T_9475f_row0_col2\" class=\"data row0 col2\" >55.04%</td>\n",
       "    </tr>\n",
       "    <tr>\n",
       "      <th id=\"T_9475f_level0_row1\" class=\"row_heading level0 row1\" >1</th>\n",
       "      <td id=\"T_9475f_row1_col0\" class=\"data row1 col0\" >Lake County</td>\n",
       "      <td id=\"T_9475f_row1_col1\" class=\"data row1 col1\" >11</td>\n",
       "      <td id=\"T_9475f_row1_col2\" class=\"data row1 col2\" >8.53%</td>\n",
       "    </tr>\n",
       "    <tr>\n",
       "      <th id=\"T_9475f_level0_row2\" class=\"row_heading level0 row2\" >2</th>\n",
       "      <td id=\"T_9475f_row2_col0\" class=\"data row2 col0\" >Eureka</td>\n",
       "      <td id=\"T_9475f_row2_col1\" class=\"data row2 col1\" >9</td>\n",
       "      <td id=\"T_9475f_row2_col2\" class=\"data row2 col2\" >6.98%</td>\n",
       "    </tr>\n",
       "    <tr>\n",
       "      <th id=\"T_9475f_level0_row3\" class=\"row_heading level0 row3\" >3</th>\n",
       "      <td id=\"T_9475f_row3_col0\" class=\"data row3 col0\" >Mendocino County</td>\n",
       "      <td id=\"T_9475f_row3_col1\" class=\"data row3 col1\" >9</td>\n",
       "      <td id=\"T_9475f_row3_col2\" class=\"data row3 col2\" >6.98%</td>\n",
       "    </tr>\n",
       "    <tr>\n",
       "      <th id=\"T_9475f_level0_row4\" class=\"row_heading level0 row4\" >4</th>\n",
       "      <td id=\"T_9475f_row4_col0\" class=\"data row4 col0\" >Arcata</td>\n",
       "      <td id=\"T_9475f_row4_col1\" class=\"data row4 col1\" >6</td>\n",
       "      <td id=\"T_9475f_row4_col2\" class=\"data row4 col2\" >4.65%</td>\n",
       "    </tr>\n",
       "  </tbody>\n",
       "</table>\n"
      ],
      "text/plain": [
       "<pandas.io.formats.style.Styler at 0x7ff3bec8f160>"
      ]
     },
     "metadata": {},
     "output_type": "display_data"
    },
    {
     "data": {
      "text/html": [
       "\n",
       "<div id=\"altair-viz-4c9fc793df73409ea4db597b7a791795\"></div>\n",
       "<script type=\"text/javascript\">\n",
       "  var VEGA_DEBUG = (typeof VEGA_DEBUG == \"undefined\") ? {} : VEGA_DEBUG;\n",
       "  (function(spec, embedOpt){\n",
       "    let outputDiv = document.currentScript.previousElementSibling;\n",
       "    if (outputDiv.id !== \"altair-viz-4c9fc793df73409ea4db597b7a791795\") {\n",
       "      outputDiv = document.getElementById(\"altair-viz-4c9fc793df73409ea4db597b7a791795\");\n",
       "    }\n",
       "    const paths = {\n",
       "      \"vega\": \"https://cdn.jsdelivr.net/npm//vega@5?noext\",\n",
       "      \"vega-lib\": \"https://cdn.jsdelivr.net/npm//vega-lib?noext\",\n",
       "      \"vega-lite\": \"https://cdn.jsdelivr.net/npm//vega-lite@4.17.0?noext\",\n",
       "      \"vega-embed\": \"https://cdn.jsdelivr.net/npm//vega-embed@6?noext\",\n",
       "    };\n",
       "\n",
       "    function maybeLoadScript(lib, version) {\n",
       "      var key = `${lib.replace(\"-\", \"\")}_version`;\n",
       "      return (VEGA_DEBUG[key] == version) ?\n",
       "        Promise.resolve(paths[lib]) :\n",
       "        new Promise(function(resolve, reject) {\n",
       "          var s = document.createElement('script');\n",
       "          document.getElementsByTagName(\"head\")[0].appendChild(s);\n",
       "          s.async = true;\n",
       "          s.onload = () => {\n",
       "            VEGA_DEBUG[key] = version;\n",
       "            return resolve(paths[lib]);\n",
       "          };\n",
       "          s.onerror = () => reject(`Error loading script: ${paths[lib]}`);\n",
       "          s.src = paths[lib];\n",
       "        });\n",
       "    }\n",
       "\n",
       "    function showError(err) {\n",
       "      outputDiv.innerHTML = `<div class=\"error\" style=\"color:red;\">${err}</div>`;\n",
       "      throw err;\n",
       "    }\n",
       "\n",
       "    function displayChart(vegaEmbed) {\n",
       "      vegaEmbed(outputDiv, spec, embedOpt)\n",
       "        .catch(err => showError(`Javascript Error: ${err.message}<br>This usually means there's a typo in your chart specification. See the javascript console for the full traceback.`));\n",
       "    }\n",
       "\n",
       "    if(typeof define === \"function\" && define.amd) {\n",
       "      requirejs.config({paths});\n",
       "      require([\"vega-embed\"], displayChart, err => showError(`Error loading script: ${err.message}`));\n",
       "    } else {\n",
       "      maybeLoadScript(\"vega\", \"5\")\n",
       "        .then(() => maybeLoadScript(\"vega-lite\", \"4.17.0\"))\n",
       "        .then(() => maybeLoadScript(\"vega-embed\", \"6\"))\n",
       "        .catch(showError)\n",
       "        .then(() => displayChart(vegaEmbed));\n",
       "    }\n",
       "  })({\"config\": {\"view\": {\"continuousWidth\": 400, \"continuousHeight\": 300}}, \"data\": {\"name\": \"data-1c1e19faa4a180ad127146efd7e1e691\"}, \"mark\": \"bar\", \"encoding\": {\"color\": {\"field\": \"Categories\", \"scale\": {\"range\": [\"#2EA8CE\", \"#EB9F3C\", \"#F4D837\", \"#51BF9D\", \"#8CBCCB\", \"#9487C0\"]}, \"type\": \"nominal\"}, \"row\": {\"field\": \"Categories\", \"type\": \"nominal\"}, \"tooltip\": [{\"field\": \"Agency\", \"type\": \"nominal\"}, {\"field\": \"Funding Amount\", \"type\": \"quantitative\"}], \"x\": {\"axis\": {\"format\": \"$.2s\", \"title\": \"Obligated Funding ($2021)\"}, \"field\": \"Funding Amount\", \"type\": \"quantitative\"}, \"y\": {\"field\": \"Agency\", \"type\": \"nominal\"}}, \"$schema\": \"https://vega.github.io/schema/vega-lite/v4.17.0.json\", \"datasets\": {\"data-1c1e19faa4a180ad127146efd7e1e691\": [{\"Agency\": \"Humboldt County\", \"Categories\": \"Total Requested\", \"Funding Amount\": 93267.24982812513}, {\"Agency\": \"Lake County\", \"Categories\": \"Total Requested\", \"Funding Amount\": 687653.3946490737}, {\"Agency\": \"Eureka\", \"Categories\": \"Total Requested\", \"Funding Amount\": 62056.779212021516}, {\"Agency\": \"Mendocino County\", \"Categories\": \"Total Requested\", \"Funding Amount\": 17500.63102228247}, {\"Agency\": \"Arcata\", \"Categories\": \"Total Requested\", \"Funding Amount\": 381312.12057119847}, {\"Agency\": \"Humboldt County\", \"Categories\": \"Fed Requested\", \"Funding Amount\": 76228.67552207496}, {\"Agency\": \"Lake County\", \"Categories\": \"Fed Requested\", \"Funding Amount\": 485461.17765499133}, {\"Agency\": \"Eureka\", \"Categories\": \"Fed Requested\", \"Funding Amount\": 55770.258241131894}, {\"Agency\": \"Mendocino County\", \"Categories\": \"Fed Requested\", \"Funding Amount\": 13233.482574548005}, {\"Agency\": \"Arcata\", \"Categories\": \"Fed Requested\", \"Funding Amount\": 298642.26409609785}, {\"Agency\": \"Humboldt County\", \"Categories\": \"AC Requested\", \"Funding Amount\": 5841.843177787394}, {\"Agency\": \"Lake County\", \"Categories\": \"AC Requested\", \"Funding Amount\": 0.0}, {\"Agency\": \"Eureka\", \"Categories\": \"AC Requested\", \"Funding Amount\": 0.0}, {\"Agency\": \"Mendocino County\", \"Categories\": \"AC Requested\", \"Funding Amount\": -616.2974900039559}, {\"Agency\": \"Arcata\", \"Categories\": \"AC Requested\", \"Funding Amount\": 0.0}]}}, {\"mode\": \"vega-lite\"});\n",
       "</script>"
      ],
      "text/plain": [
       "alt.Chart(...)"
      ]
     },
     "metadata": {},
     "output_type": "display_data"
    },
    {
     "data": {
      "application/vnd.jupyter.widget-view+json": {
       "model_id": "65ff4e3d352141f694366b365d343ac7",
       "version_major": 2,
       "version_minor": 0
      },
      "text/plain": [
       "HTML(value='<h3> Top Agencies using Freeway Projects </h3>')"
      ]
     },
     "metadata": {},
     "output_type": "display_data"
    },
    {
     "data": {
      "text/html": [
       "<style type=\"text/css\">\n",
       "</style>\n",
       "<table id=\"T_3d746\">\n",
       "  <thead>\n",
       "    <tr>\n",
       "      <th class=\"blank level0\" >&nbsp;</th>\n",
       "      <th id=\"T_3d746_level0_col0\" class=\"col_heading level0 col0\" >Agency</th>\n",
       "      <th id=\"T_3d746_level0_col1\" class=\"col_heading level0 col1\" >Freeway Obligations</th>\n",
       "      <th id=\"T_3d746_level0_col2\" class=\"col_heading level0 col2\" >Percent of Category</th>\n",
       "    </tr>\n",
       "  </thead>\n",
       "  <tbody>\n",
       "    <tr>\n",
       "      <th id=\"T_3d746_level0_row0\" class=\"row_heading level0 row0\" >0</th>\n",
       "      <td id=\"T_3d746_row0_col0\" class=\"data row0 col0\" >Caltrans</td>\n",
       "      <td id=\"T_3d746_row0_col1\" class=\"data row0 col1\" >2</td>\n",
       "      <td id=\"T_3d746_row0_col2\" class=\"data row0 col2\" >100.00%</td>\n",
       "    </tr>\n",
       "  </tbody>\n",
       "</table>\n"
      ],
      "text/plain": [
       "<pandas.io.formats.style.Styler at 0x7ff3bec41d30>"
      ]
     },
     "metadata": {},
     "output_type": "display_data"
    },
    {
     "data": {
      "text/html": [
       "\n",
       "<div id=\"altair-viz-6c09e8f87acc4cbd8965e223a2c070c5\"></div>\n",
       "<script type=\"text/javascript\">\n",
       "  var VEGA_DEBUG = (typeof VEGA_DEBUG == \"undefined\") ? {} : VEGA_DEBUG;\n",
       "  (function(spec, embedOpt){\n",
       "    let outputDiv = document.currentScript.previousElementSibling;\n",
       "    if (outputDiv.id !== \"altair-viz-6c09e8f87acc4cbd8965e223a2c070c5\") {\n",
       "      outputDiv = document.getElementById(\"altair-viz-6c09e8f87acc4cbd8965e223a2c070c5\");\n",
       "    }\n",
       "    const paths = {\n",
       "      \"vega\": \"https://cdn.jsdelivr.net/npm//vega@5?noext\",\n",
       "      \"vega-lib\": \"https://cdn.jsdelivr.net/npm//vega-lib?noext\",\n",
       "      \"vega-lite\": \"https://cdn.jsdelivr.net/npm//vega-lite@4.17.0?noext\",\n",
       "      \"vega-embed\": \"https://cdn.jsdelivr.net/npm//vega-embed@6?noext\",\n",
       "    };\n",
       "\n",
       "    function maybeLoadScript(lib, version) {\n",
       "      var key = `${lib.replace(\"-\", \"\")}_version`;\n",
       "      return (VEGA_DEBUG[key] == version) ?\n",
       "        Promise.resolve(paths[lib]) :\n",
       "        new Promise(function(resolve, reject) {\n",
       "          var s = document.createElement('script');\n",
       "          document.getElementsByTagName(\"head\")[0].appendChild(s);\n",
       "          s.async = true;\n",
       "          s.onload = () => {\n",
       "            VEGA_DEBUG[key] = version;\n",
       "            return resolve(paths[lib]);\n",
       "          };\n",
       "          s.onerror = () => reject(`Error loading script: ${paths[lib]}`);\n",
       "          s.src = paths[lib];\n",
       "        });\n",
       "    }\n",
       "\n",
       "    function showError(err) {\n",
       "      outputDiv.innerHTML = `<div class=\"error\" style=\"color:red;\">${err}</div>`;\n",
       "      throw err;\n",
       "    }\n",
       "\n",
       "    function displayChart(vegaEmbed) {\n",
       "      vegaEmbed(outputDiv, spec, embedOpt)\n",
       "        .catch(err => showError(`Javascript Error: ${err.message}<br>This usually means there's a typo in your chart specification. See the javascript console for the full traceback.`));\n",
       "    }\n",
       "\n",
       "    if(typeof define === \"function\" && define.amd) {\n",
       "      requirejs.config({paths});\n",
       "      require([\"vega-embed\"], displayChart, err => showError(`Error loading script: ${err.message}`));\n",
       "    } else {\n",
       "      maybeLoadScript(\"vega\", \"5\")\n",
       "        .then(() => maybeLoadScript(\"vega-lite\", \"4.17.0\"))\n",
       "        .then(() => maybeLoadScript(\"vega-embed\", \"6\"))\n",
       "        .catch(showError)\n",
       "        .then(() => displayChart(vegaEmbed));\n",
       "    }\n",
       "  })({\"config\": {\"view\": {\"continuousWidth\": 400, \"continuousHeight\": 300}}, \"data\": {\"name\": \"data-90ed3d6d9dcdc082fad4c04e0309d220\"}, \"mark\": \"bar\", \"encoding\": {\"color\": {\"field\": \"Categories\", \"scale\": {\"range\": [\"#2EA8CE\", \"#EB9F3C\", \"#F4D837\", \"#51BF9D\", \"#8CBCCB\", \"#9487C0\"]}, \"type\": \"nominal\"}, \"row\": {\"field\": \"Categories\", \"type\": \"nominal\"}, \"tooltip\": [{\"field\": \"Agency\", \"type\": \"nominal\"}, {\"field\": \"Funding Amount\", \"type\": \"quantitative\"}], \"x\": {\"axis\": {\"format\": \"$.2s\", \"title\": \"Obligated Funding ($2021)\"}, \"field\": \"Funding Amount\", \"type\": \"quantitative\"}, \"y\": {\"field\": \"Agency\", \"type\": \"nominal\"}}, \"$schema\": \"https://vega.github.io/schema/vega-lite/v4.17.0.json\", \"datasets\": {\"data-90ed3d6d9dcdc082fad4c04e0309d220\": [{\"Agency\": \"Caltrans\", \"Categories\": \"Total Requested\", \"Funding Amount\": -88586.1968776091}, {\"Agency\": \"Caltrans\", \"Categories\": \"Fed Requested\", \"Funding Amount\": -88586.1968776091}, {\"Agency\": \"Caltrans\", \"Categories\": \"AC Requested\", \"Funding Amount\": 0.0}]}}, {\"mode\": \"vega-lite\"});\n",
       "</script>"
      ],
      "text/plain": [
       "alt.Chart(...)"
      ]
     },
     "metadata": {},
     "output_type": "display_data"
    },
    {
     "data": {
      "application/vnd.jupyter.widget-view+json": {
       "model_id": "c71b2b24ba664edb8c8f8fae7f4d22e6",
       "version_major": 2,
       "version_minor": 0
      },
      "text/plain": [
       "HTML(value='<h3> Top Agencies using Infrastructure & Emergency Relief Projects </h3>')"
      ]
     },
     "metadata": {},
     "output_type": "display_data"
    },
    {
     "data": {
      "text/html": [
       "<style type=\"text/css\">\n",
       "</style>\n",
       "<table id=\"T_e1568\">\n",
       "  <thead>\n",
       "    <tr>\n",
       "      <th class=\"blank level0\" >&nbsp;</th>\n",
       "      <th id=\"T_e1568_level0_col0\" class=\"col_heading level0 col0\" >Agency</th>\n",
       "      <th id=\"T_e1568_level0_col1\" class=\"col_heading level0 col1\" >Infrastructure & Emergency Relief Obligations</th>\n",
       "      <th id=\"T_e1568_level0_col2\" class=\"col_heading level0 col2\" >Percent of Category</th>\n",
       "    </tr>\n",
       "  </thead>\n",
       "  <tbody>\n",
       "    <tr>\n",
       "      <th id=\"T_e1568_level0_row0\" class=\"row_heading level0 row0\" >0</th>\n",
       "      <td id=\"T_e1568_row0_col0\" class=\"data row0 col0\" >Humboldt County</td>\n",
       "      <td id=\"T_e1568_row0_col1\" class=\"data row0 col1\" >598</td>\n",
       "      <td id=\"T_e1568_row0_col2\" class=\"data row0 col2\" >58.34%</td>\n",
       "    </tr>\n",
       "    <tr>\n",
       "      <th id=\"T_e1568_level0_row1\" class=\"row_heading level0 row1\" >1</th>\n",
       "      <td id=\"T_e1568_row1_col0\" class=\"data row1 col0\" >Mendocino County</td>\n",
       "      <td id=\"T_e1568_row1_col1\" class=\"data row1 col1\" >216</td>\n",
       "      <td id=\"T_e1568_row1_col2\" class=\"data row1 col2\" >21.07%</td>\n",
       "    </tr>\n",
       "    <tr>\n",
       "      <th id=\"T_e1568_level0_row2\" class=\"row_heading level0 row2\" >2</th>\n",
       "      <td id=\"T_e1568_row2_col0\" class=\"data row2 col0\" >Lake County</td>\n",
       "      <td id=\"T_e1568_row2_col1\" class=\"data row2 col1\" >123</td>\n",
       "      <td id=\"T_e1568_row2_col2\" class=\"data row2 col2\" >12.00%</td>\n",
       "    </tr>\n",
       "    <tr>\n",
       "      <th id=\"T_e1568_level0_row3\" class=\"row_heading level0 row3\" >3</th>\n",
       "      <td id=\"T_e1568_row3_col0\" class=\"data row3 col0\" >Lakeport</td>\n",
       "      <td id=\"T_e1568_row3_col1\" class=\"data row3 col1\" >22</td>\n",
       "      <td id=\"T_e1568_row3_col2\" class=\"data row3 col2\" >2.15%</td>\n",
       "    </tr>\n",
       "    <tr>\n",
       "      <th id=\"T_e1568_level0_row4\" class=\"row_heading level0 row4\" >4</th>\n",
       "      <td id=\"T_e1568_row4_col0\" class=\"data row4 col0\" >Del Norte County</td>\n",
       "      <td id=\"T_e1568_row4_col1\" class=\"data row4 col1\" >20</td>\n",
       "      <td id=\"T_e1568_row4_col2\" class=\"data row4 col2\" >1.95%</td>\n",
       "    </tr>\n",
       "  </tbody>\n",
       "</table>\n"
      ],
      "text/plain": [
       "<pandas.io.formats.style.Styler at 0x7ff3bc95b640>"
      ]
     },
     "metadata": {},
     "output_type": "display_data"
    },
    {
     "data": {
      "text/html": [
       "\n",
       "<div id=\"altair-viz-664fbd8144574dbca7c0ba2623d2e62a\"></div>\n",
       "<script type=\"text/javascript\">\n",
       "  var VEGA_DEBUG = (typeof VEGA_DEBUG == \"undefined\") ? {} : VEGA_DEBUG;\n",
       "  (function(spec, embedOpt){\n",
       "    let outputDiv = document.currentScript.previousElementSibling;\n",
       "    if (outputDiv.id !== \"altair-viz-664fbd8144574dbca7c0ba2623d2e62a\") {\n",
       "      outputDiv = document.getElementById(\"altair-viz-664fbd8144574dbca7c0ba2623d2e62a\");\n",
       "    }\n",
       "    const paths = {\n",
       "      \"vega\": \"https://cdn.jsdelivr.net/npm//vega@5?noext\",\n",
       "      \"vega-lib\": \"https://cdn.jsdelivr.net/npm//vega-lib?noext\",\n",
       "      \"vega-lite\": \"https://cdn.jsdelivr.net/npm//vega-lite@4.17.0?noext\",\n",
       "      \"vega-embed\": \"https://cdn.jsdelivr.net/npm//vega-embed@6?noext\",\n",
       "    };\n",
       "\n",
       "    function maybeLoadScript(lib, version) {\n",
       "      var key = `${lib.replace(\"-\", \"\")}_version`;\n",
       "      return (VEGA_DEBUG[key] == version) ?\n",
       "        Promise.resolve(paths[lib]) :\n",
       "        new Promise(function(resolve, reject) {\n",
       "          var s = document.createElement('script');\n",
       "          document.getElementsByTagName(\"head\")[0].appendChild(s);\n",
       "          s.async = true;\n",
       "          s.onload = () => {\n",
       "            VEGA_DEBUG[key] = version;\n",
       "            return resolve(paths[lib]);\n",
       "          };\n",
       "          s.onerror = () => reject(`Error loading script: ${paths[lib]}`);\n",
       "          s.src = paths[lib];\n",
       "        });\n",
       "    }\n",
       "\n",
       "    function showError(err) {\n",
       "      outputDiv.innerHTML = `<div class=\"error\" style=\"color:red;\">${err}</div>`;\n",
       "      throw err;\n",
       "    }\n",
       "\n",
       "    function displayChart(vegaEmbed) {\n",
       "      vegaEmbed(outputDiv, spec, embedOpt)\n",
       "        .catch(err => showError(`Javascript Error: ${err.message}<br>This usually means there's a typo in your chart specification. See the javascript console for the full traceback.`));\n",
       "    }\n",
       "\n",
       "    if(typeof define === \"function\" && define.amd) {\n",
       "      requirejs.config({paths});\n",
       "      require([\"vega-embed\"], displayChart, err => showError(`Error loading script: ${err.message}`));\n",
       "    } else {\n",
       "      maybeLoadScript(\"vega\", \"5\")\n",
       "        .then(() => maybeLoadScript(\"vega-lite\", \"4.17.0\"))\n",
       "        .then(() => maybeLoadScript(\"vega-embed\", \"6\"))\n",
       "        .catch(showError)\n",
       "        .then(() => displayChart(vegaEmbed));\n",
       "    }\n",
       "  })({\"config\": {\"view\": {\"continuousWidth\": 400, \"continuousHeight\": 300}}, \"data\": {\"name\": \"data-6b79752105a07fccc04a6f8a8e722343\"}, \"mark\": \"bar\", \"encoding\": {\"color\": {\"field\": \"Categories\", \"scale\": {\"range\": [\"#2EA8CE\", \"#EB9F3C\", \"#F4D837\", \"#51BF9D\", \"#8CBCCB\", \"#9487C0\"]}, \"type\": \"nominal\"}, \"row\": {\"field\": \"Categories\", \"type\": \"nominal\"}, \"tooltip\": [{\"field\": \"Agency\", \"type\": \"nominal\"}, {\"field\": \"Funding Amount\", \"type\": \"quantitative\"}], \"x\": {\"axis\": {\"format\": \"$.2s\", \"title\": \"Obligated Funding ($2021)\"}, \"field\": \"Funding Amount\", \"type\": \"quantitative\"}, \"y\": {\"field\": \"Agency\", \"type\": \"nominal\"}}, \"$schema\": \"https://vega.github.io/schema/vega-lite/v4.17.0.json\", \"datasets\": {\"data-6b79752105a07fccc04a6f8a8e722343\": [{\"Agency\": \"Humboldt County\", \"Categories\": \"Total Requested\", \"Funding Amount\": 112480.77745850838}, {\"Agency\": \"Mendocino County\", \"Categories\": \"Total Requested\", \"Funding Amount\": 201513.4419524438}, {\"Agency\": \"Lake County\", \"Categories\": \"Total Requested\", \"Funding Amount\": 220430.87444822642}, {\"Agency\": \"Lakeport\", \"Categories\": \"Total Requested\", \"Funding Amount\": 51414.05512273826}, {\"Agency\": \"Del Norte County\", \"Categories\": \"Total Requested\", \"Funding Amount\": 357035.72759187256}, {\"Agency\": \"Humboldt County\", \"Categories\": \"Fed Requested\", \"Funding Amount\": 92379.71720368166}, {\"Agency\": \"Mendocino County\", \"Categories\": \"Fed Requested\", \"Funding Amount\": 186054.52188106813}, {\"Agency\": \"Lake County\", \"Categories\": \"Fed Requested\", \"Funding Amount\": 215196.3923912328}, {\"Agency\": \"Lakeport\", \"Categories\": \"Fed Requested\", \"Funding Amount\": 45290.03245583613}, {\"Agency\": \"Del Norte County\", \"Categories\": \"Fed Requested\", \"Funding Amount\": 357635.37269871763}, {\"Agency\": \"Humboldt County\", \"Categories\": \"AC Requested\", \"Funding Amount\": 8275.358183589527}, {\"Agency\": \"Mendocino County\", \"Categories\": \"AC Requested\", \"Funding Amount\": 263.4258094901045}, {\"Agency\": \"Lake County\", \"Categories\": \"AC Requested\", \"Funding Amount\": 68.53944808620382}, {\"Agency\": \"Lakeport\", \"Categories\": \"AC Requested\", \"Funding Amount\": 449.1907269458762}, {\"Agency\": \"Del Norte County\", \"Categories\": \"AC Requested\", \"Funding Amount\": 0.0}]}}, {\"mode\": \"vega-lite\"});\n",
       "</script>"
      ],
      "text/plain": [
       "alt.Chart(...)"
      ]
     },
     "metadata": {},
     "output_type": "display_data"
    },
    {
     "data": {
      "application/vnd.jupyter.widget-view+json": {
       "model_id": "019b1db92cb54330b7c00bd3dc422da7",
       "version_major": 2,
       "version_minor": 0
      },
      "text/plain": [
       "HTML(value='<h3> Top Agencies using Congestion Relief Projects </h3>')"
      ]
     },
     "metadata": {},
     "output_type": "display_data"
    },
    {
     "data": {
      "text/html": [
       "<style type=\"text/css\">\n",
       "</style>\n",
       "<table id=\"T_2b9bf\">\n",
       "  <thead>\n",
       "    <tr>\n",
       "      <th class=\"blank level0\" >&nbsp;</th>\n",
       "      <th id=\"T_2b9bf_level0_col0\" class=\"col_heading level0 col0\" >Agency</th>\n",
       "      <th id=\"T_2b9bf_level0_col1\" class=\"col_heading level0 col1\" >Congestion Relief Obligations</th>\n",
       "      <th id=\"T_2b9bf_level0_col2\" class=\"col_heading level0 col2\" >Percent of Category</th>\n",
       "    </tr>\n",
       "  </thead>\n",
       "  <tbody>\n",
       "  </tbody>\n",
       "</table>\n"
      ],
      "text/plain": [
       "<pandas.io.formats.style.Styler at 0x7ff3bec5b610>"
      ]
     },
     "metadata": {},
     "output_type": "display_data"
    },
    {
     "name": "stderr",
     "output_type": "stream",
     "text": [
      "/opt/conda/lib/python3.9/site-packages/altair/utils/core.py:219: UserWarning: I don't know how to infer vegalite type from 'empty'.  Defaulting to nominal.\n"
     ]
    },
    {
     "data": {
      "text/html": [
       "\n",
       "<div id=\"altair-viz-e1b883bf80d740ae8668578803d6de06\"></div>\n",
       "<script type=\"text/javascript\">\n",
       "  var VEGA_DEBUG = (typeof VEGA_DEBUG == \"undefined\") ? {} : VEGA_DEBUG;\n",
       "  (function(spec, embedOpt){\n",
       "    let outputDiv = document.currentScript.previousElementSibling;\n",
       "    if (outputDiv.id !== \"altair-viz-e1b883bf80d740ae8668578803d6de06\") {\n",
       "      outputDiv = document.getElementById(\"altair-viz-e1b883bf80d740ae8668578803d6de06\");\n",
       "    }\n",
       "    const paths = {\n",
       "      \"vega\": \"https://cdn.jsdelivr.net/npm//vega@5?noext\",\n",
       "      \"vega-lib\": \"https://cdn.jsdelivr.net/npm//vega-lib?noext\",\n",
       "      \"vega-lite\": \"https://cdn.jsdelivr.net/npm//vega-lite@4.17.0?noext\",\n",
       "      \"vega-embed\": \"https://cdn.jsdelivr.net/npm//vega-embed@6?noext\",\n",
       "    };\n",
       "\n",
       "    function maybeLoadScript(lib, version) {\n",
       "      var key = `${lib.replace(\"-\", \"\")}_version`;\n",
       "      return (VEGA_DEBUG[key] == version) ?\n",
       "        Promise.resolve(paths[lib]) :\n",
       "        new Promise(function(resolve, reject) {\n",
       "          var s = document.createElement('script');\n",
       "          document.getElementsByTagName(\"head\")[0].appendChild(s);\n",
       "          s.async = true;\n",
       "          s.onload = () => {\n",
       "            VEGA_DEBUG[key] = version;\n",
       "            return resolve(paths[lib]);\n",
       "          };\n",
       "          s.onerror = () => reject(`Error loading script: ${paths[lib]}`);\n",
       "          s.src = paths[lib];\n",
       "        });\n",
       "    }\n",
       "\n",
       "    function showError(err) {\n",
       "      outputDiv.innerHTML = `<div class=\"error\" style=\"color:red;\">${err}</div>`;\n",
       "      throw err;\n",
       "    }\n",
       "\n",
       "    function displayChart(vegaEmbed) {\n",
       "      vegaEmbed(outputDiv, spec, embedOpt)\n",
       "        .catch(err => showError(`Javascript Error: ${err.message}<br>This usually means there's a typo in your chart specification. See the javascript console for the full traceback.`));\n",
       "    }\n",
       "\n",
       "    if(typeof define === \"function\" && define.amd) {\n",
       "      requirejs.config({paths});\n",
       "      require([\"vega-embed\"], displayChart, err => showError(`Error loading script: ${err.message}`));\n",
       "    } else {\n",
       "      maybeLoadScript(\"vega\", \"5\")\n",
       "        .then(() => maybeLoadScript(\"vega-lite\", \"4.17.0\"))\n",
       "        .then(() => maybeLoadScript(\"vega-embed\", \"6\"))\n",
       "        .catch(showError)\n",
       "        .then(() => displayChart(vegaEmbed));\n",
       "    }\n",
       "  })({\"config\": {\"view\": {\"continuousWidth\": 400, \"continuousHeight\": 300}}, \"data\": {\"name\": \"data-d751713988987e9331980363e24189ce\"}, \"mark\": \"bar\", \"encoding\": {\"color\": {\"field\": \"Categories\", \"scale\": {\"range\": [\"#2EA8CE\", \"#EB9F3C\", \"#F4D837\", \"#51BF9D\", \"#8CBCCB\", \"#9487C0\"]}, \"type\": \"nominal\"}, \"row\": {\"field\": \"Categories\", \"type\": \"nominal\"}, \"tooltip\": [{\"field\": \"Agency\", \"type\": \"nominal\"}, {\"field\": \"Funding Amount\", \"type\": \"quantitative\"}], \"x\": {\"axis\": {\"format\": \"$.2s\", \"title\": \"Obligated Funding ($2021)\"}, \"field\": \"Funding Amount\", \"type\": \"quantitative\"}, \"y\": {\"field\": \"Agency\", \"type\": \"nominal\"}}, \"$schema\": \"https://vega.github.io/schema/vega-lite/v4.17.0.json\", \"datasets\": {\"data-d751713988987e9331980363e24189ce\": []}}, {\"mode\": \"vega-lite\"});\n",
       "</script>"
      ],
      "text/plain": [
       "alt.Chart(...)"
      ]
     },
     "metadata": {},
     "output_type": "display_data"
    }
   ],
   "source": [
    "# create loop:\n",
    "\n",
    "work_cat = ['active_transp', 'transit', 'bridge', 'street','freeway', 'infra_resiliency_er','congestion_relief']\n",
    "\n",
    "for cat in work_cat:\n",
    "    _dla_utils_reports.project_cat(df, cat, district)"
   ]
  },
  {
   "cell_type": "code",
   "execution_count": null,
   "id": "5a50e751-dd3f-498f-9a28-2edc321b534f",
   "metadata": {
    "jupyter": {
     "source_hidden": true
    },
    "papermill": {
     "duration": 0.047176,
     "end_time": "2022-05-02T23:03:02.137685",
     "exception": false,
     "start_time": "2022-05-02T23:03:02.090509",
     "status": "completed"
    },
    "tags": [
     "remove_input"
    ]
   },
   "outputs": [],
   "source": []
  },
  {
   "cell_type": "code",
   "execution_count": 21,
   "id": "cb2f6ba9-df0b-495e-82c5-54743d879743",
   "metadata": {
    "execution": {
     "iopub.execute_input": "2022-05-02T23:03:02.241104Z",
     "iopub.status.busy": "2022-05-02T23:03:02.240027Z",
     "iopub.status.idle": "2022-05-02T23:03:02.249477Z",
     "shell.execute_reply": "2022-05-02T23:03:02.248386Z"
    },
    "jupyter": {
     "source_hidden": true
    },
    "papermill": {
     "duration": 0.069554,
     "end_time": "2022-05-02T23:03:02.252155",
     "exception": false,
     "start_time": "2022-05-02T23:03:02.182601",
     "status": "completed"
    },
    "tags": [
     "remove_input"
    ]
   },
   "outputs": [],
   "source": [
    "#  # code help: https://stackoverflow.com/questions/50842160/how-to-display-matplotlib-plots-in-a-jupyter-tab-widget\n",
    "    \n",
    "# work_cat = ['active_transp', 'transit', 'bridge', 'street','freeway', 'infra_resiliency_er','congestion_relief']\n",
    "\n",
    "# out1 = widgets.Output()\n",
    "# out2 = widgets.Output()\n",
    "# out3 = widgets.Output()\n",
    "# out4 = widgets.Output()\n",
    "# out5 = widgets.Output()\n",
    "# out6 = widgets.Output()\n",
    "# out7 = widgets.Output()\n",
    "\n",
    "#     # children2 = [widgets.Text(description=name) for name in work_cat]\n",
    "#     # tab2 = widgets.Tab(children2)\n",
    "# tab2 = widgets.Tab(children = [out1, out2, out3, out4, out5, out6, out7])\n",
    "\n",
    "# for ii in enumerate(work_cat): \n",
    "#     tab2.set_title(ii[0], f\"{_dla_utils_reports.labeling(ii[1])}\")\n",
    "\n",
    "# display(tab2)\n",
    "    \n",
    "    \n",
    "# with out1:\n",
    "#      _dla_utils_reports.project_cat(df, 'active_transp', district) \n",
    "\n",
    "# #out1.append_display_data(_dla_utils_reports.project_cat(df, 'active_transp', district))\n",
    "# #out1.append_display_data(Image(filename=(f'./chart_outputs/project_cat/bar_{district}_active_transp.png')))\n",
    "\n",
    "# with out2:\n",
    "#      _dla_utils_reports.project_cat(df, 'transit', district)\n",
    "# with out3: \n",
    "#      _dla_utils_reports.project_cat(df, 'bridge', district)\n",
    "# with out4:\n",
    "#     _dla_utils_reports.project_cat(df, 'street', district)\n",
    "# with out5:\n",
    "#      _dla_utils_reports.project_cat(df, 'freeway', district)\n",
    "# with out6:\n",
    "#     _dla_utils_reports.project_cat(df, 'infra_resiliency_er', district)\n",
    "# with out7:\n",
    "#     _dla_utils_reports.project_cat(df, 'congestion_relief', district)\n",
    "    "
   ]
  },
  {
   "cell_type": "code",
   "execution_count": null,
   "id": "d0a253bb-00a4-45d7-875b-7a39bb794219",
   "metadata": {
    "jupyter": {
     "source_hidden": true
    },
    "papermill": {
     "duration": 0.040693,
     "end_time": "2022-05-02T23:03:02.336290",
     "exception": false,
     "start_time": "2022-05-02T23:03:02.295597",
     "status": "completed"
    },
    "tags": [
     "remove_input"
    ]
   },
   "outputs": [],
   "source": []
  },
  {
   "cell_type": "code",
   "execution_count": 22,
   "id": "b4562eb7-a3e1-4829-a23c-058f2f0e30d9",
   "metadata": {
    "execution": {
     "iopub.execute_input": "2022-05-02T23:03:02.430622Z",
     "iopub.status.busy": "2022-05-02T23:03:02.430274Z",
     "iopub.status.idle": "2022-05-02T23:03:02.435495Z",
     "shell.execute_reply": "2022-05-02T23:03:02.434837Z"
    },
    "jupyter": {
     "source_hidden": true
    },
    "papermill": {
     "duration": 0.057023,
     "end_time": "2022-05-02T23:03:02.438658",
     "exception": false,
     "start_time": "2022-05-02T23:03:02.381635",
     "status": "completed"
    },
    "tags": [
     "remove_input"
    ]
   },
   "outputs": [],
   "source": [
    "# # work_cat = ['active_transp', 'transit', 'bridge', 'street','freeway', 'infra_resiliency_er','congestion_relief']\n",
    "\n",
    "# # out1 = widgets.Output()\n",
    "# # out2 = widgets.Output()\n",
    "# # out3 = widgets.Output()\n",
    "# # out4 = widgets.Output()\n",
    "# # out5 = widgets.Output()\n",
    "# # out6 = widgets.Output()\n",
    "# # out7 = widgets.Output()\n",
    "\n",
    "# # tab2 = widgets.Tab(children = [out1, out2, out3, out4, out5, out6, out7])\n",
    "\n",
    "# # for ii in enumerate(work_cat): \n",
    "# #     tab2.set_title(ii[0], f\"{_dla_utils.labeling(ii[1])}\")\n",
    "\n",
    "# # display(tab2)\n",
    "    \n",
    "# # with out1:\n",
    "# #     _dla_utils.project_cat(df, 'active_transp', district) \n",
    "# # with out2:\n",
    "# #      _dla_utils.project_cat(df, 'transit', district)\n",
    "# # with out3: \n",
    "# #      _dla_utils.project_cat(df, 'bridge', district)\n",
    "# # with out4:\n",
    "# #     _dla_utils.project_cat(df, 'street', district)\n",
    "# # with out5:\n",
    "# #      _dla_utils.project_cat(df, 'freeway', district)\n",
    "# # with out6:\n",
    "# #     _dla_utils.project_cat(df, 'infra_resiliency_er', district)\n",
    "# # with out7:\n",
    "# #     _dla_utils.project_cat(df, 'congestion_relief', district)\n",
    "    \n",
    "    \n",
    "# ## https://medium.com/analytics-vidhya/how-to-use-python-to-build-an-image-display-app-in-jupyter-notebook-337c4fd3775f\n",
    "# def show_im():\n",
    "#     CSS = \"\"\"\n",
    "#     .output {\n",
    "#         flex-direction: row;\n",
    "#     }\n",
    "#     \"\"\"\n",
    "#     HTML('<style>{}</style>'.format(CSS))\n",
    "\n",
    "# def image_viewer(district, i): \n",
    "#     image_grid = Image(filename=(f'./chart_outputs/project_cat/bar_{district}_{i}.png'))\n",
    "#     #image_grid_html = HTML(image_grid.to_html(escape=False ,formatters=dict(a=path_to_image_html, \n",
    "#     #b=path_to_image_html)))\n",
    "#     #display(image_grid_html)\n",
    "#     show_im()    \n",
    "    \n",
    "\n",
    "# tab_nest = widgets.Tab()\n",
    "\n",
    "\n",
    "# #interact function in isolation\n",
    "\n",
    "# image = (image_viewer(district, 'active_transp'))\n",
    "# f1 = interactive(image);\n",
    "# tab_nest.children = [widgets.VBox(children = f1.children)]\n",
    "# display(tab_nest)"
   ]
  },
  {
   "cell_type": "code",
   "execution_count": 23,
   "id": "8b015c8d-378b-456e-b486-f8b1f5446a21",
   "metadata": {
    "execution": {
     "iopub.execute_input": "2022-05-02T23:03:02.524111Z",
     "iopub.status.busy": "2022-05-02T23:03:02.523725Z",
     "iopub.status.idle": "2022-05-02T23:03:02.528171Z",
     "shell.execute_reply": "2022-05-02T23:03:02.527348Z"
    },
    "jupyter": {
     "source_hidden": true
    },
    "papermill": {
     "duration": 0.049084,
     "end_time": "2022-05-02T23:03:02.530069",
     "exception": false,
     "start_time": "2022-05-02T23:03:02.480985",
     "status": "completed"
    },
    "tags": [
     "remove_input"
    ]
   },
   "outputs": [],
   "source": [
    "# Image(filename=('./chart_outputs/project_cat/bar_4_active_transp.png'))"
   ]
  },
  {
   "cell_type": "code",
   "execution_count": null,
   "id": "47213b64-555f-4e09-9b1d-fae403f8f595",
   "metadata": {
    "jupyter": {
     "source_hidden": true
    },
    "papermill": {
     "duration": 0.042042,
     "end_time": "2022-05-02T23:03:02.618325",
     "exception": false,
     "start_time": "2022-05-02T23:03:02.576283",
     "status": "completed"
    },
    "tags": [
     "remove_input"
    ]
   },
   "outputs": [],
   "source": []
  },
  {
   "cell_type": "code",
   "execution_count": null,
   "id": "3925b8ed-1cd0-4479-9f6d-4f461ffd70ae",
   "metadata": {
    "jupyter": {
     "source_hidden": true
    },
    "papermill": {
     "duration": 0.040198,
     "end_time": "2022-05-02T23:03:02.699926",
     "exception": false,
     "start_time": "2022-05-02T23:03:02.659728",
     "status": "completed"
    },
    "tags": [
     "remove_input"
    ]
   },
   "outputs": [],
   "source": []
  },
  {
   "cell_type": "code",
   "execution_count": 24,
   "id": "f2da39a6-73d0-4293-b13f-267514cfbc4e",
   "metadata": {
    "execution": {
     "iopub.execute_input": "2022-05-02T23:03:02.788202Z",
     "iopub.status.busy": "2022-05-02T23:03:02.787402Z",
     "iopub.status.idle": "2022-05-02T23:03:02.792206Z",
     "shell.execute_reply": "2022-05-02T23:03:02.791516Z"
    },
    "jupyter": {
     "source_hidden": true
    },
    "papermill": {
     "duration": 0.054917,
     "end_time": "2022-05-02T23:03:02.794722",
     "exception": false,
     "start_time": "2022-05-02T23:03:02.739805",
     "status": "completed"
    },
    "tags": [
     "remove_input"
    ]
   },
   "outputs": [],
   "source": [
    "## to markdown\n",
    "#![pic](./chart_outputs/project_cat/bar_4_active_transp.png)"
   ]
  },
  {
   "cell_type": "code",
   "execution_count": null,
   "id": "10e45722-6789-4357-8d9d-a2f424ba7655",
   "metadata": {
    "jupyter": {
     "source_hidden": true
    },
    "papermill": {
     "duration": 0.045629,
     "end_time": "2022-05-02T23:03:02.882757",
     "exception": false,
     "start_time": "2022-05-02T23:03:02.837128",
     "status": "completed"
    },
    "tags": [
     "remove_input"
    ]
   },
   "outputs": [],
   "source": []
  }
 ],
 "metadata": {
  "kernelspec": {
   "display_name": "Python 3 (ipykernel)",
   "language": "python",
   "name": "python3"
  },
  "language_info": {
   "codemirror_mode": {
    "name": "ipython",
    "version": 3
   },
   "file_extension": ".py",
   "mimetype": "text/x-python",
   "name": "python",
   "nbconvert_exporter": "python",
   "pygments_lexer": "ipython3",
   "version": "3.9.10"
  },
  "papermill": {
   "default_parameters": {},
   "duration": 17.779385,
   "end_time": "2022-05-02T23:03:05.293917",
   "environment_variables": {},
   "exception": null,
   "input_path": "../dla/e76_obligated_funds/reports/report_test2.ipynb",
   "output_path": "portfolio/dla/district_1/report_test2__.ipynb",
   "parameters": {
    "district": 1
   },
   "start_time": "2022-05-02T23:02:47.514532",
   "version": "2.3.4"
  },
  "widgets": {
   "application/vnd.jupyter.widget-state+json": {
    "state": {
     "019b1db92cb54330b7c00bd3dc422da7": {
      "model_module": "@jupyter-widgets/controls",
      "model_module_version": "1.5.0",
      "model_name": "HTMLModel",
      "state": {
       "_dom_classes": [],
       "_model_module": "@jupyter-widgets/controls",
       "_model_module_version": "1.5.0",
       "_model_name": "HTMLModel",
       "_view_count": null,
       "_view_module": "@jupyter-widgets/controls",
       "_view_module_version": "1.5.0",
       "_view_name": "HTMLView",
       "description": "",
       "description_tooltip": null,
       "layout": "IPY_MODEL_8ecbb538c7a94137a47360944c9d29be",
       "placeholder": "​",
       "style": "IPY_MODEL_97e6d7d6d2b74cada6088008006a9e3b",
       "value": "<h3> Top Agencies using Congestion Relief Projects </h3>"
      }
     },
     "053ea159d654417599926fc4ef988e50": {
      "model_module": "@jupyter-widgets/base",
      "model_module_version": "1.2.0",
      "model_name": "LayoutModel",
      "state": {
       "_model_module": "@jupyter-widgets/base",
       "_model_module_version": "1.2.0",
       "_model_name": "LayoutModel",
       "_view_count": null,
       "_view_module": "@jupyter-widgets/base",
       "_view_module_version": "1.2.0",
       "_view_name": "LayoutView",
       "align_content": null,
       "align_items": null,
       "align_self": null,
       "border": null,
       "bottom": null,
       "display": null,
       "flex": null,
       "flex_flow": null,
       "grid_area": null,
       "grid_auto_columns": null,
       "grid_auto_flow": null,
       "grid_auto_rows": null,
       "grid_column": null,
       "grid_gap": null,
       "grid_row": null,
       "grid_template_areas": null,
       "grid_template_columns": null,
       "grid_template_rows": null,
       "height": null,
       "justify_content": null,
       "justify_items": null,
       "left": null,
       "margin": null,
       "max_height": null,
       "max_width": null,
       "min_height": null,
       "min_width": null,
       "object_fit": null,
       "object_position": null,
       "order": null,
       "overflow": null,
       "overflow_x": null,
       "overflow_y": null,
       "padding": null,
       "right": null,
       "top": null,
       "visibility": null,
       "width": null
      }
     },
     "0d2fde456a8e4bab8894ebe7633fc26c": {
      "model_module": "@jupyter-widgets/controls",
      "model_module_version": "1.5.0",
      "model_name": "DescriptionStyleModel",
      "state": {
       "_model_module": "@jupyter-widgets/controls",
       "_model_module_version": "1.5.0",
       "_model_name": "DescriptionStyleModel",
       "_view_count": null,
       "_view_module": "@jupyter-widgets/base",
       "_view_module_version": "1.2.0",
       "_view_name": "StyleView",
       "description_width": ""
      }
     },
     "119201c1daf8446fba373017e29b207e": {
      "model_module": "@jupyter-widgets/controls",
      "model_module_version": "1.5.0",
      "model_name": "HTMLModel",
      "state": {
       "_dom_classes": [],
       "_model_module": "@jupyter-widgets/controls",
       "_model_module_version": "1.5.0",
       "_model_name": "HTMLModel",
       "_view_count": null,
       "_view_module": "@jupyter-widgets/controls",
       "_view_module_version": "1.5.0",
       "_view_name": "HTMLView",
       "description": "",
       "description_tooltip": null,
       "layout": "IPY_MODEL_7e1c85b05ec840cfbf1067c27b4845b4",
       "placeholder": "​",
       "style": "IPY_MODEL_9828716f109745d4b38151c605dcfdf3",
       "value": "<h3> Top Agencies using Street Projects </h3>"
      }
     },
     "119dcb33cb164c20a95fae59597d113f": {
      "model_module": "@jupyter-widgets/controls",
      "model_module_version": "1.5.0",
      "model_name": "HTMLModel",
      "state": {
       "_dom_classes": [],
       "_model_module": "@jupyter-widgets/controls",
       "_model_module_version": "1.5.0",
       "_model_name": "HTMLModel",
       "_view_count": null,
       "_view_module": "@jupyter-widgets/controls",
       "_view_module_version": "1.5.0",
       "_view_name": "HTMLView",
       "description": "",
       "description_tooltip": null,
       "layout": "IPY_MODEL_87a1e30a1c104d49b7cfd712be1e28f6",
       "placeholder": "​",
       "style": "IPY_MODEL_8298bf77a354485aae4936d1c9221268",
       "value": "<h3> Top Agencies using Active Transportation Projects </h3>"
      }
     },
     "248628e3783841d5b29ee6a14877808a": {
      "model_module": "@jupyter-widgets/controls",
      "model_module_version": "1.5.0",
      "model_name": "DescriptionStyleModel",
      "state": {
       "_model_module": "@jupyter-widgets/controls",
       "_model_module_version": "1.5.0",
       "_model_name": "DescriptionStyleModel",
       "_view_count": null,
       "_view_module": "@jupyter-widgets/base",
       "_view_module_version": "1.2.0",
       "_view_name": "StyleView",
       "description_width": ""
      }
     },
     "2c574f2a77f24a5681990abc7615a652": {
      "model_module": "@jupyter-widgets/controls",
      "model_module_version": "1.5.0",
      "model_name": "DescriptionStyleModel",
      "state": {
       "_model_module": "@jupyter-widgets/controls",
       "_model_module_version": "1.5.0",
       "_model_name": "DescriptionStyleModel",
       "_view_count": null,
       "_view_module": "@jupyter-widgets/base",
       "_view_module_version": "1.2.0",
       "_view_name": "StyleView",
       "description_width": ""
      }
     },
     "3865ceed234a44ce9484f4f4fe40e46d": {
      "model_module": "@jupyter-widgets/controls",
      "model_module_version": "1.5.0",
      "model_name": "HTMLModel",
      "state": {
       "_dom_classes": [],
       "_model_module": "@jupyter-widgets/controls",
       "_model_module_version": "1.5.0",
       "_model_name": "HTMLModel",
       "_view_count": null,
       "_view_module": "@jupyter-widgets/controls",
       "_view_module_version": "1.5.0",
       "_view_name": "HTMLView",
       "description": "",
       "description_tooltip": null,
       "layout": "IPY_MODEL_69e92245e13242108bf5bb6f710e930d",
       "placeholder": "​",
       "style": "IPY_MODEL_2c574f2a77f24a5681990abc7615a652",
       "value": "<h3> Top Agencies using Transit Projects </h3>"
      }
     },
     "65ff4e3d352141f694366b365d343ac7": {
      "model_module": "@jupyter-widgets/controls",
      "model_module_version": "1.5.0",
      "model_name": "HTMLModel",
      "state": {
       "_dom_classes": [],
       "_model_module": "@jupyter-widgets/controls",
       "_model_module_version": "1.5.0",
       "_model_name": "HTMLModel",
       "_view_count": null,
       "_view_module": "@jupyter-widgets/controls",
       "_view_module_version": "1.5.0",
       "_view_name": "HTMLView",
       "description": "",
       "description_tooltip": null,
       "layout": "IPY_MODEL_92ee9dc4e08146f7a718c4e3698623c3",
       "placeholder": "​",
       "style": "IPY_MODEL_248628e3783841d5b29ee6a14877808a",
       "value": "<h3> Top Agencies using Freeway Projects </h3>"
      }
     },
     "69b00f5868864debbbbd8316060c3fbe": {
      "model_module": "@jupyter-widgets/controls",
      "model_module_version": "1.5.0",
      "model_name": "HTMLModel",
      "state": {
       "_dom_classes": [],
       "_model_module": "@jupyter-widgets/controls",
       "_model_module_version": "1.5.0",
       "_model_name": "HTMLModel",
       "_view_count": null,
       "_view_module": "@jupyter-widgets/controls",
       "_view_module_version": "1.5.0",
       "_view_name": "HTMLView",
       "description": "",
       "description_tooltip": null,
       "layout": "IPY_MODEL_a2b9e9954c634958a80cb435d3ea525d",
       "placeholder": "​",
       "style": "IPY_MODEL_9c40331b761144ec9ee5bb63e26ff328",
       "value": "<h3> Top Agencies using Bridge Projects </h3>"
      }
     },
     "69e92245e13242108bf5bb6f710e930d": {
      "model_module": "@jupyter-widgets/base",
      "model_module_version": "1.2.0",
      "model_name": "LayoutModel",
      "state": {
       "_model_module": "@jupyter-widgets/base",
       "_model_module_version": "1.2.0",
       "_model_name": "LayoutModel",
       "_view_count": null,
       "_view_module": "@jupyter-widgets/base",
       "_view_module_version": "1.2.0",
       "_view_name": "LayoutView",
       "align_content": null,
       "align_items": null,
       "align_self": null,
       "border": null,
       "bottom": null,
       "display": null,
       "flex": null,
       "flex_flow": null,
       "grid_area": null,
       "grid_auto_columns": null,
       "grid_auto_flow": null,
       "grid_auto_rows": null,
       "grid_column": null,
       "grid_gap": null,
       "grid_row": null,
       "grid_template_areas": null,
       "grid_template_columns": null,
       "grid_template_rows": null,
       "height": null,
       "justify_content": null,
       "justify_items": null,
       "left": null,
       "margin": null,
       "max_height": null,
       "max_width": null,
       "min_height": null,
       "min_width": null,
       "object_fit": null,
       "object_position": null,
       "order": null,
       "overflow": null,
       "overflow_x": null,
       "overflow_y": null,
       "padding": null,
       "right": null,
       "top": null,
       "visibility": null,
       "width": null
      }
     },
     "7e1c85b05ec840cfbf1067c27b4845b4": {
      "model_module": "@jupyter-widgets/base",
      "model_module_version": "1.2.0",
      "model_name": "LayoutModel",
      "state": {
       "_model_module": "@jupyter-widgets/base",
       "_model_module_version": "1.2.0",
       "_model_name": "LayoutModel",
       "_view_count": null,
       "_view_module": "@jupyter-widgets/base",
       "_view_module_version": "1.2.0",
       "_view_name": "LayoutView",
       "align_content": null,
       "align_items": null,
       "align_self": null,
       "border": null,
       "bottom": null,
       "display": null,
       "flex": null,
       "flex_flow": null,
       "grid_area": null,
       "grid_auto_columns": null,
       "grid_auto_flow": null,
       "grid_auto_rows": null,
       "grid_column": null,
       "grid_gap": null,
       "grid_row": null,
       "grid_template_areas": null,
       "grid_template_columns": null,
       "grid_template_rows": null,
       "height": null,
       "justify_content": null,
       "justify_items": null,
       "left": null,
       "margin": null,
       "max_height": null,
       "max_width": null,
       "min_height": null,
       "min_width": null,
       "object_fit": null,
       "object_position": null,
       "order": null,
       "overflow": null,
       "overflow_x": null,
       "overflow_y": null,
       "padding": null,
       "right": null,
       "top": null,
       "visibility": null,
       "width": null
      }
     },
     "8298bf77a354485aae4936d1c9221268": {
      "model_module": "@jupyter-widgets/controls",
      "model_module_version": "1.5.0",
      "model_name": "DescriptionStyleModel",
      "state": {
       "_model_module": "@jupyter-widgets/controls",
       "_model_module_version": "1.5.0",
       "_model_name": "DescriptionStyleModel",
       "_view_count": null,
       "_view_module": "@jupyter-widgets/base",
       "_view_module_version": "1.2.0",
       "_view_name": "StyleView",
       "description_width": ""
      }
     },
     "87a1e30a1c104d49b7cfd712be1e28f6": {
      "model_module": "@jupyter-widgets/base",
      "model_module_version": "1.2.0",
      "model_name": "LayoutModel",
      "state": {
       "_model_module": "@jupyter-widgets/base",
       "_model_module_version": "1.2.0",
       "_model_name": "LayoutModel",
       "_view_count": null,
       "_view_module": "@jupyter-widgets/base",
       "_view_module_version": "1.2.0",
       "_view_name": "LayoutView",
       "align_content": null,
       "align_items": null,
       "align_self": null,
       "border": null,
       "bottom": null,
       "display": null,
       "flex": null,
       "flex_flow": null,
       "grid_area": null,
       "grid_auto_columns": null,
       "grid_auto_flow": null,
       "grid_auto_rows": null,
       "grid_column": null,
       "grid_gap": null,
       "grid_row": null,
       "grid_template_areas": null,
       "grid_template_columns": null,
       "grid_template_rows": null,
       "height": null,
       "justify_content": null,
       "justify_items": null,
       "left": null,
       "margin": null,
       "max_height": null,
       "max_width": null,
       "min_height": null,
       "min_width": null,
       "object_fit": null,
       "object_position": null,
       "order": null,
       "overflow": null,
       "overflow_x": null,
       "overflow_y": null,
       "padding": null,
       "right": null,
       "top": null,
       "visibility": null,
       "width": null
      }
     },
     "8ecbb538c7a94137a47360944c9d29be": {
      "model_module": "@jupyter-widgets/base",
      "model_module_version": "1.2.0",
      "model_name": "LayoutModel",
      "state": {
       "_model_module": "@jupyter-widgets/base",
       "_model_module_version": "1.2.0",
       "_model_name": "LayoutModel",
       "_view_count": null,
       "_view_module": "@jupyter-widgets/base",
       "_view_module_version": "1.2.0",
       "_view_name": "LayoutView",
       "align_content": null,
       "align_items": null,
       "align_self": null,
       "border": null,
       "bottom": null,
       "display": null,
       "flex": null,
       "flex_flow": null,
       "grid_area": null,
       "grid_auto_columns": null,
       "grid_auto_flow": null,
       "grid_auto_rows": null,
       "grid_column": null,
       "grid_gap": null,
       "grid_row": null,
       "grid_template_areas": null,
       "grid_template_columns": null,
       "grid_template_rows": null,
       "height": null,
       "justify_content": null,
       "justify_items": null,
       "left": null,
       "margin": null,
       "max_height": null,
       "max_width": null,
       "min_height": null,
       "min_width": null,
       "object_fit": null,
       "object_position": null,
       "order": null,
       "overflow": null,
       "overflow_x": null,
       "overflow_y": null,
       "padding": null,
       "right": null,
       "top": null,
       "visibility": null,
       "width": null
      }
     },
     "92ee9dc4e08146f7a718c4e3698623c3": {
      "model_module": "@jupyter-widgets/base",
      "model_module_version": "1.2.0",
      "model_name": "LayoutModel",
      "state": {
       "_model_module": "@jupyter-widgets/base",
       "_model_module_version": "1.2.0",
       "_model_name": "LayoutModel",
       "_view_count": null,
       "_view_module": "@jupyter-widgets/base",
       "_view_module_version": "1.2.0",
       "_view_name": "LayoutView",
       "align_content": null,
       "align_items": null,
       "align_self": null,
       "border": null,
       "bottom": null,
       "display": null,
       "flex": null,
       "flex_flow": null,
       "grid_area": null,
       "grid_auto_columns": null,
       "grid_auto_flow": null,
       "grid_auto_rows": null,
       "grid_column": null,
       "grid_gap": null,
       "grid_row": null,
       "grid_template_areas": null,
       "grid_template_columns": null,
       "grid_template_rows": null,
       "height": null,
       "justify_content": null,
       "justify_items": null,
       "left": null,
       "margin": null,
       "max_height": null,
       "max_width": null,
       "min_height": null,
       "min_width": null,
       "object_fit": null,
       "object_position": null,
       "order": null,
       "overflow": null,
       "overflow_x": null,
       "overflow_y": null,
       "padding": null,
       "right": null,
       "top": null,
       "visibility": null,
       "width": null
      }
     },
     "97e6d7d6d2b74cada6088008006a9e3b": {
      "model_module": "@jupyter-widgets/controls",
      "model_module_version": "1.5.0",
      "model_name": "DescriptionStyleModel",
      "state": {
       "_model_module": "@jupyter-widgets/controls",
       "_model_module_version": "1.5.0",
       "_model_name": "DescriptionStyleModel",
       "_view_count": null,
       "_view_module": "@jupyter-widgets/base",
       "_view_module_version": "1.2.0",
       "_view_name": "StyleView",
       "description_width": ""
      }
     },
     "9828716f109745d4b38151c605dcfdf3": {
      "model_module": "@jupyter-widgets/controls",
      "model_module_version": "1.5.0",
      "model_name": "DescriptionStyleModel",
      "state": {
       "_model_module": "@jupyter-widgets/controls",
       "_model_module_version": "1.5.0",
       "_model_name": "DescriptionStyleModel",
       "_view_count": null,
       "_view_module": "@jupyter-widgets/base",
       "_view_module_version": "1.2.0",
       "_view_name": "StyleView",
       "description_width": ""
      }
     },
     "9c40331b761144ec9ee5bb63e26ff328": {
      "model_module": "@jupyter-widgets/controls",
      "model_module_version": "1.5.0",
      "model_name": "DescriptionStyleModel",
      "state": {
       "_model_module": "@jupyter-widgets/controls",
       "_model_module_version": "1.5.0",
       "_model_name": "DescriptionStyleModel",
       "_view_count": null,
       "_view_module": "@jupyter-widgets/base",
       "_view_module_version": "1.2.0",
       "_view_name": "StyleView",
       "description_width": ""
      }
     },
     "a2b9e9954c634958a80cb435d3ea525d": {
      "model_module": "@jupyter-widgets/base",
      "model_module_version": "1.2.0",
      "model_name": "LayoutModel",
      "state": {
       "_model_module": "@jupyter-widgets/base",
       "_model_module_version": "1.2.0",
       "_model_name": "LayoutModel",
       "_view_count": null,
       "_view_module": "@jupyter-widgets/base",
       "_view_module_version": "1.2.0",
       "_view_name": "LayoutView",
       "align_content": null,
       "align_items": null,
       "align_self": null,
       "border": null,
       "bottom": null,
       "display": null,
       "flex": null,
       "flex_flow": null,
       "grid_area": null,
       "grid_auto_columns": null,
       "grid_auto_flow": null,
       "grid_auto_rows": null,
       "grid_column": null,
       "grid_gap": null,
       "grid_row": null,
       "grid_template_areas": null,
       "grid_template_columns": null,
       "grid_template_rows": null,
       "height": null,
       "justify_content": null,
       "justify_items": null,
       "left": null,
       "margin": null,
       "max_height": null,
       "max_width": null,
       "min_height": null,
       "min_width": null,
       "object_fit": null,
       "object_position": null,
       "order": null,
       "overflow": null,
       "overflow_x": null,
       "overflow_y": null,
       "padding": null,
       "right": null,
       "top": null,
       "visibility": null,
       "width": null
      }
     },
     "c71b2b24ba664edb8c8f8fae7f4d22e6": {
      "model_module": "@jupyter-widgets/controls",
      "model_module_version": "1.5.0",
      "model_name": "HTMLModel",
      "state": {
       "_dom_classes": [],
       "_model_module": "@jupyter-widgets/controls",
       "_model_module_version": "1.5.0",
       "_model_name": "HTMLModel",
       "_view_count": null,
       "_view_module": "@jupyter-widgets/controls",
       "_view_module_version": "1.5.0",
       "_view_name": "HTMLView",
       "description": "",
       "description_tooltip": null,
       "layout": "IPY_MODEL_053ea159d654417599926fc4ef988e50",
       "placeholder": "​",
       "style": "IPY_MODEL_0d2fde456a8e4bab8894ebe7633fc26c",
       "value": "<h3> Top Agencies using Infrastructure & Emergency Relief Projects </h3>"
      }
     }
    },
    "version_major": 2,
    "version_minor": 0
   }
  }
 },
 "nbformat": 4,
 "nbformat_minor": 5
}