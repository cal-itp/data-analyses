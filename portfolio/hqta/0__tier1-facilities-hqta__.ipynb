version https://git-lfs.github.com/spec/v1
oid sha256:2e9d7f9ef8614661bdcdd0fbdca087a5fc9dc4041a824367415812d4c6bdf045
size 28976736
