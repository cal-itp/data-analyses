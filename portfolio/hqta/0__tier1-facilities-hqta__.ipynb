version https://git-lfs.github.com/spec/v1
oid sha256:c6ef324c0c5503b8517875e5d50351096b9bd67eb231a9013d0b3abe07a11dd4
size 25209732
