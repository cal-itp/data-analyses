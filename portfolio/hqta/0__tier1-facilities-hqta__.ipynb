version https://git-lfs.github.com/spec/v1
oid sha256:c53c5c2ebc6228ff9873dc9a1d2005d46b26624473492be6d608562ffa3ffcba
size 26278464
