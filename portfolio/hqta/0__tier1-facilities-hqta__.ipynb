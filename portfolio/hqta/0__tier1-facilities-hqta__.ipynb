version https://git-lfs.github.com/spec/v1
oid sha256:d489270262de564759a30c7af49d9b205dbe00a58544d1a53254d8f6880bb866
size 26564239
