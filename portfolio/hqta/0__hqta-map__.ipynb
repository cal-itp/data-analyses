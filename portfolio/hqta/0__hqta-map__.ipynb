version https://git-lfs.github.com/spec/v1
oid sha256:de8ecc2d22216311be95311d73c070d570cd1a5b7d2590d0c45defb98cae98d3
size 97042855
