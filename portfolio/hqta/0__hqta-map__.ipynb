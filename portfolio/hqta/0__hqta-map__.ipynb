version https://git-lfs.github.com/spec/v1
oid sha256:d268734df717d4df6901d315e081696c0c2b9c9d8e57570ba7dc5574c384b30c
size 75269768
