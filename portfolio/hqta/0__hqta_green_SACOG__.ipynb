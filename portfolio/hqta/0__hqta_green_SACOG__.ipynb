version https://git-lfs.github.com/spec/v1
oid sha256:02d29dc631ed5230a30676d06cf34b3e5decfe37138ebd48a4df74d04dffce38
size 46967661
