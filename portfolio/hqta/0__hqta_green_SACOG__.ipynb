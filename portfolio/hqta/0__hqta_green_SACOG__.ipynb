version https://git-lfs.github.com/spec/v1
oid sha256:8d2ea6059f64701c9157bc862c8e6fe407cb1fa22aaf9ddc81251f35e0de96fe
size 24636889
