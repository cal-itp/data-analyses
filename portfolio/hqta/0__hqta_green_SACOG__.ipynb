version https://git-lfs.github.com/spec/v1
oid sha256:927c41fa387c668364863c31f84cd81c27806b81a971a77a4961e200f0fe1306
size 46967663
