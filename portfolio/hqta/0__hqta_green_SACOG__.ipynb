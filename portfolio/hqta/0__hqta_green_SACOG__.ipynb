version https://git-lfs.github.com/spec/v1
oid sha256:cf0fa96cf0ec9c8392127f979dd3b32419a1e5a540e66617bf5784e2fe55d358
size 19062274
