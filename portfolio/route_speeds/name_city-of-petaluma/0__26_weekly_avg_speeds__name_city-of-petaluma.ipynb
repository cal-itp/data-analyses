version https://git-lfs.github.com/spec/v1
oid sha256:5906d0c036a0bb87304a2ce2bc094ec94adbdf62c9de75e435bfc78c202c3f02
size 343257
