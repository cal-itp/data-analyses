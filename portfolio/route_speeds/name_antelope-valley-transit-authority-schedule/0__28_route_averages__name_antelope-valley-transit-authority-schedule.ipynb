version https://git-lfs.github.com/spec/v1
oid sha256:5c1ec522ffb56c5219e4f5cd2da63c5a4fa542a228df3bc87831141ad70c1e93
size 725154
