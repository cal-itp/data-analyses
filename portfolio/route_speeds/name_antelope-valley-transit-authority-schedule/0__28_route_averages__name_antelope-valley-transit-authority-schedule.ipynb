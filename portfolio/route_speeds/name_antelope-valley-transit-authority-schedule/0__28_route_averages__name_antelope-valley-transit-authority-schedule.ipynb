version https://git-lfs.github.com/spec/v1
oid sha256:748a8dff61bca3cf182e4e1ff2d558f0692f7f88fa75a101220865954b4a347a
size 813922
