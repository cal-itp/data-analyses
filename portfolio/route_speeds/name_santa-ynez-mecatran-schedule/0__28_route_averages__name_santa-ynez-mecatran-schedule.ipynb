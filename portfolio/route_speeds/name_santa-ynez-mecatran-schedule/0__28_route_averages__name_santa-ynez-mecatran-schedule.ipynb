version https://git-lfs.github.com/spec/v1
oid sha256:b38d8e61f4290aa0689def4fdc72ebd05a791b82590191b5754faa2ca31e49e3
size 77369
