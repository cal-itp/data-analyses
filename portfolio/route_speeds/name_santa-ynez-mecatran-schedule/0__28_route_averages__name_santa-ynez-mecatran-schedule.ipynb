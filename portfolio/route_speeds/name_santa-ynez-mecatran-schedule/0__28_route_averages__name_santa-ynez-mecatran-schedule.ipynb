version https://git-lfs.github.com/spec/v1
oid sha256:8942821d0546aef971718d025e73fa65f9a69594ef5e5f420395796dc1a6bfa5
size 73903
