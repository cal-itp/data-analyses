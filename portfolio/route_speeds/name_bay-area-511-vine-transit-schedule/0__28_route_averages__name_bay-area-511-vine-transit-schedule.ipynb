version https://git-lfs.github.com/spec/v1
oid sha256:584fe0aed4fcd5bdf62e88626187f5d8248ef297f7d5012ab2ef4c89bacc6687
size 344546
