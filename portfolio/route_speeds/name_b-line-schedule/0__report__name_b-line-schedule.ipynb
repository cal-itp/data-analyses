version https://git-lfs.github.com/spec/v1
oid sha256:2f998d21797003c502aa1d57c6a19de56ee6fa45e683ed59e61cfaf9932ec2d2
size 417504
