version https://git-lfs.github.com/spec/v1
oid sha256:05e6a2778e8a9d3cb7c2c764db5367cc2ed7ae739105f666d6d61cf63d23afeb
size 5749183
