version https://git-lfs.github.com/spec/v1
oid sha256:280c86be0a4caa66f500eca0e2e78f9df26a39e13a6f86683c24ff2dde6013b4
size 5622885
