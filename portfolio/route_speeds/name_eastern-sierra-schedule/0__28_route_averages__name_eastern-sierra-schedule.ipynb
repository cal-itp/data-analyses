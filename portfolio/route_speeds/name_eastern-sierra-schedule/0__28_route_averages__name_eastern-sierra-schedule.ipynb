version https://git-lfs.github.com/spec/v1
oid sha256:a13da322c903dd5583cd9480ba300acd1d655b4eba1130a20c1ae0634d9832aa
size 281977
