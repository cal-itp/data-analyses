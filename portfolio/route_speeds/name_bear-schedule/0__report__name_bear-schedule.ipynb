version https://git-lfs.github.com/spec/v1
oid sha256:8d9e8524cf1422c99b5496f67e1b10134692c01d86ef9e943d7be01e6f21f188
size 689763
