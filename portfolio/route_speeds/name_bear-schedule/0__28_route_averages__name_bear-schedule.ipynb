version https://git-lfs.github.com/spec/v1
oid sha256:b0781dee9a33512118ee3c86225d2036eff3aa81bd7de765a4b6fe3c6a999601
size 159109
