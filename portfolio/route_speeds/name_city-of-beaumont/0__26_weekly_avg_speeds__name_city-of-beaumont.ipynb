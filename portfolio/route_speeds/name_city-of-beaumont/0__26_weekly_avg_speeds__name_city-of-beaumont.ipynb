version https://git-lfs.github.com/spec/v1
oid sha256:ba47bc982828edc461c9a3837a8d547296479becebef32b0bbdc1192b7efb9c8
size 566352
