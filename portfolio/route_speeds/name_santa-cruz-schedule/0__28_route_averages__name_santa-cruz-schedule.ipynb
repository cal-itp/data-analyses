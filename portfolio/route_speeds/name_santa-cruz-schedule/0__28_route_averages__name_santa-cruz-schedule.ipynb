version https://git-lfs.github.com/spec/v1
oid sha256:aa4e0b01c4786d4fe7c9e7066b4a20d641f4e10a33a3378686483e13a10b67c1
size 560355
