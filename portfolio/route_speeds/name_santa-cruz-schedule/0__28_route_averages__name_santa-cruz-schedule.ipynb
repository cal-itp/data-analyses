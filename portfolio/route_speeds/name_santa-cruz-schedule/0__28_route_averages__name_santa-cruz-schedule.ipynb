version https://git-lfs.github.com/spec/v1
oid sha256:dfc6be939dfeada6fd82db934de4072f6f21210dddf89122cdce44ad9e78d7e9
size 520891
