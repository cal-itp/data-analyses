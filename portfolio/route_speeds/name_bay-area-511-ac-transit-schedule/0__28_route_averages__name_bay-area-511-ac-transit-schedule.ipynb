version https://git-lfs.github.com/spec/v1
oid sha256:9aeac32ba4da1e9cd2a8ab98cd3dde534ed2ab31772f11cfcee4c09cf116e47a
size 5543193
