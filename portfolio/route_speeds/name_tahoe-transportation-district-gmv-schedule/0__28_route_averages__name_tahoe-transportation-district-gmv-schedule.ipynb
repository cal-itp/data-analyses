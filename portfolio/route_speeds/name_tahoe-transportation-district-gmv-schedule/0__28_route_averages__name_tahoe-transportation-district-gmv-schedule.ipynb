version https://git-lfs.github.com/spec/v1
oid sha256:155296e771a688ee12db582e585ba230f5a26f56be8fe9319dd089d4b4a547fd
size 70930
