version https://git-lfs.github.com/spec/v1
oid sha256:fd0874d461c2fb944e49c98946d847efbbbf8159753acb4a73510f50081e96da
size 4179763
