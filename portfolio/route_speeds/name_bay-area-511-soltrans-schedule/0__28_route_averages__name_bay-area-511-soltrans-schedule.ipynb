version https://git-lfs.github.com/spec/v1
oid sha256:d869167bce3a06e20faaaee358647afc40599b1dae200da335ba15e6b597cc97
size 256164
