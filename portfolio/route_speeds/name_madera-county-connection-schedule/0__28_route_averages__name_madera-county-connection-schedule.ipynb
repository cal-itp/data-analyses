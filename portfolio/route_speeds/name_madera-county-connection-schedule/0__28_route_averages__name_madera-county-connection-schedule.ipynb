version https://git-lfs.github.com/spec/v1
oid sha256:982493aaea487cf431fa5e11fda3d05a24c8c7552a66492d44ebdee28d21644a
size 215582
