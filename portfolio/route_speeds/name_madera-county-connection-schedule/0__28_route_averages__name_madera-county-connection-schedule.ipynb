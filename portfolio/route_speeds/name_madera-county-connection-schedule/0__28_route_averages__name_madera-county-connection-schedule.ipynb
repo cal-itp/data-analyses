version https://git-lfs.github.com/spec/v1
oid sha256:e32e10de2280db6fa48200405d8318aeeeeaffcc3624976e0d18207ab62f5759
size 215507
