version https://git-lfs.github.com/spec/v1
oid sha256:6cc15242516eda787e09165b40b0ae33b67c69520695288accf5c4b006ec317c
size 2481319
