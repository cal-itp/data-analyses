version https://git-lfs.github.com/spec/v1
oid sha256:c84bc1d95424500b36908869a738e9e5b7658c7d86a32852c2c8e6349973b8e1
size 343339
