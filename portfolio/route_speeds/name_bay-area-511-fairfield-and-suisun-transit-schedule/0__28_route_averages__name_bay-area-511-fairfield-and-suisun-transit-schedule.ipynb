version https://git-lfs.github.com/spec/v1
oid sha256:bdd91ceee1ecebc82e562cddb2d431955e33e3528fe85c5dcb432e4b0dbff17c
size 273578
