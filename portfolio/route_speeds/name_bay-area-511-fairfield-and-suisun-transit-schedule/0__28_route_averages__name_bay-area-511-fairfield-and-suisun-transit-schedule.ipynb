version https://git-lfs.github.com/spec/v1
oid sha256:b818a21c3e191db4898bb8f3ecf1d8e7507842afc67923a9313fbab422efa021
size 75769
