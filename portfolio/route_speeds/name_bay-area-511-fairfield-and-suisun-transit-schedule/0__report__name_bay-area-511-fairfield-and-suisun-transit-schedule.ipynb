version https://git-lfs.github.com/spec/v1
oid sha256:0314c44c68ac629e568cb9cf710bac5f5e0193004d08723f849d65346e6b35a2
size 1442418
