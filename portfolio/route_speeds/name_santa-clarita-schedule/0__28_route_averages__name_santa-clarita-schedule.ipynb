version https://git-lfs.github.com/spec/v1
oid sha256:40e661db1e7095864e6c64dea5b04ad60834b166ce44d754f101831c735faad0
size 1026569
