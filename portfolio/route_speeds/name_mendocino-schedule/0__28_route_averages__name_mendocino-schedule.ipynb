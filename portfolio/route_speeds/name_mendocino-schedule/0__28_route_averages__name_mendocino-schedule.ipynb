version https://git-lfs.github.com/spec/v1
oid sha256:6c6a4365c39c577a33aa7d78d46a10a2eab83a8e3f4800a2ce3bf3d5900c93db
size 142801
