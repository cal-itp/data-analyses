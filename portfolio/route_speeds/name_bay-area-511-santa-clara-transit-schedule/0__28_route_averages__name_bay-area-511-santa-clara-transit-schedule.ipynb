version https://git-lfs.github.com/spec/v1
oid sha256:682c74f43b068b9d49a653ff3bb75a23acd72e944a24a730e782c7ab806a7a73
size 3241343
