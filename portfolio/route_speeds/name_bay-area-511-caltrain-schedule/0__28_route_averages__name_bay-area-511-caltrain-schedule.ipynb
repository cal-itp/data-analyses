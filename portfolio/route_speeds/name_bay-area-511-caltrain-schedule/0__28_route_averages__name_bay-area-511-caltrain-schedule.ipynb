version https://git-lfs.github.com/spec/v1
oid sha256:51fb44965f969089df5a1b3572819b47e675e57dfb1a7a36ad26259af274ea37
size 237310
