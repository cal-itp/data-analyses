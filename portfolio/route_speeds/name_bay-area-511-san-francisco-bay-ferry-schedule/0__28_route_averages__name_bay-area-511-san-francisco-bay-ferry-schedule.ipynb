version https://git-lfs.github.com/spec/v1
oid sha256:9aabb6943a6edf75bc7b216b1d737e1eca0d2f7ce9e4f61c67673936a17b8df4
size 57182
