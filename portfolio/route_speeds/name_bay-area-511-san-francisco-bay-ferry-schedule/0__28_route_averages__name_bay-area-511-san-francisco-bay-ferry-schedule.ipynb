version https://git-lfs.github.com/spec/v1
oid sha256:90634dcf2f48863de5d6a240f253473563a0be10d6548ff301183d75ec5de92a
size 20227
