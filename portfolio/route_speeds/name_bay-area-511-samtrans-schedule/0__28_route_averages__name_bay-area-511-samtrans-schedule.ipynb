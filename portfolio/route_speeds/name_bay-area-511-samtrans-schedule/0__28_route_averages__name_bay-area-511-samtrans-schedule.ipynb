version https://git-lfs.github.com/spec/v1
oid sha256:7519fabe1d3c84fabb0d6e067a56cf0eacbbc5fe685ae27caf7c2bb7c4cbcc9b
size 2699240
