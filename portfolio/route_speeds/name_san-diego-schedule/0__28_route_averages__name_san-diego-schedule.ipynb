version https://git-lfs.github.com/spec/v1
oid sha256:060224ea00430a25189b237eba787747c6312b24b5ae888c48ad0061ca4f7efe
size 4866893
