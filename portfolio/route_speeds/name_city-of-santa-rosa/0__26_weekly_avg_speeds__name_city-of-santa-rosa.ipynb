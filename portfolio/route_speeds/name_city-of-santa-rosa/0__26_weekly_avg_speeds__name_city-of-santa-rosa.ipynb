version https://git-lfs.github.com/spec/v1
oid sha256:ae81ddb0ed5b8a20f49e3745170596f60030097f5fae09e7aa24c9f079d35201
size 2019156
