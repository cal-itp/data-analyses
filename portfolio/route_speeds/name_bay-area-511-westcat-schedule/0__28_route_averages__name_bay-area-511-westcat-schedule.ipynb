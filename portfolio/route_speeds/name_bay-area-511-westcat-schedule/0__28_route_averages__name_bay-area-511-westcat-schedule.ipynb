version https://git-lfs.github.com/spec/v1
oid sha256:dcf6f1c50401ef358be3c67dba5831ab842d5a9141fc1babced0b2565b2560aa
size 543542
