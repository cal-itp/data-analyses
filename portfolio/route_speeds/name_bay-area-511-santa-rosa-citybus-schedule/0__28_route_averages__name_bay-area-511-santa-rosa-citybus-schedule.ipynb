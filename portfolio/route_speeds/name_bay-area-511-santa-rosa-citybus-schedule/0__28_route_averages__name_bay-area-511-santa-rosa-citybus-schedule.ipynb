version https://git-lfs.github.com/spec/v1
oid sha256:037cd8bd1dc87617b22b050219f7ba1b925835c9b77497dc7e63e79b72ebbac7
size 399129
