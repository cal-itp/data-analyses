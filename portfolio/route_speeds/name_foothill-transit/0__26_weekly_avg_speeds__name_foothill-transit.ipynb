version https://git-lfs.github.com/spec/v1
oid sha256:4d95372296c54b988e06adf9aa53d2e30d99732de79fdcb21ddb8b028b15414a
size 5939793
