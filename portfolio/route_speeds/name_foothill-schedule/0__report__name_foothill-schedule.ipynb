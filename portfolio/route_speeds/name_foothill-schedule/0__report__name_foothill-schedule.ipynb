version https://git-lfs.github.com/spec/v1
oid sha256:1731f9cb97d82593a9d545d1336f334ff9c2d8b275a3ff4fbdc1c0c1ee6accd6
size 13096131
