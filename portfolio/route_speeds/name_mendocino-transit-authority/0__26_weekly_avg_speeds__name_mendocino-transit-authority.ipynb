version https://git-lfs.github.com/spec/v1
oid sha256:fc525e74954881cd9dae6db4719e7556320fe7c4e45d3c54f2a00b3dd2aa54e1
size 928904
