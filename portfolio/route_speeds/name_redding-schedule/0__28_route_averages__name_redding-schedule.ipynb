version https://git-lfs.github.com/spec/v1
oid sha256:94f02151e88dd5cdda1b28f1fd78d2036943370ed5bcd2d6cbcac27009696ed9
size 494755
