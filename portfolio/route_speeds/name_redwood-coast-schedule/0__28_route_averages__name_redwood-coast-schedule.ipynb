version https://git-lfs.github.com/spec/v1
oid sha256:661f80316bd862a8135d56f83fbc5f2497d23ca64e77d44f836bbb781c05624a
size 196971
