version https://git-lfs.github.com/spec/v1
oid sha256:b95cc51078792bf89cd7cc41acc1352e09f5e4249ff6116883c01bfccf555ad1
size 1497242
