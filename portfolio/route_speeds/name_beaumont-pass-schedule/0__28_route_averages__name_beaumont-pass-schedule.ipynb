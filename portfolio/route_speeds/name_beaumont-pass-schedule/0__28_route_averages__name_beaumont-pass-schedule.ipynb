version https://git-lfs.github.com/spec/v1
oid sha256:5a94983a6fcfc0304f431317024df08d65002b15c49e751710d535734c568c49
size 303522
