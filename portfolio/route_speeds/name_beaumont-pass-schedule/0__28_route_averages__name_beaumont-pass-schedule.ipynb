version https://git-lfs.github.com/spec/v1
oid sha256:fdb18ede09267606a95a9ac44a1c39933de6f4cbc2460890e490bce95a1bf8c3
size 203511
