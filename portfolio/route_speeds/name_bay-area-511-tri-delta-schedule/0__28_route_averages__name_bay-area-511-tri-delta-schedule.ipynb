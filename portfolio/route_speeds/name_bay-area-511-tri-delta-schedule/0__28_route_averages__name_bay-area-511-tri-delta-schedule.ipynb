version https://git-lfs.github.com/spec/v1
oid sha256:e0bd68888c72514146e4d7c36ac1925b80089d9a6a0c986b1858f4eab5098e9f
size 665384
