version https://git-lfs.github.com/spec/v1
oid sha256:3009ceda7ce961aca78cc59c840248878bfbd1aead2a7e30311ced1cfa13d209
size 5197824
