version https://git-lfs.github.com/spec/v1
oid sha256:6bb4c2a89597bba1744ad6b5134cef6e7b711546e2627eddfa8b05a4567006c5
size 4376176
