version https://git-lfs.github.com/spec/v1
oid sha256:8bca363cb664ce47fa5470cc90282bd3395dce32892eaa69207cfdb0cb2b7ef7
size 24802
