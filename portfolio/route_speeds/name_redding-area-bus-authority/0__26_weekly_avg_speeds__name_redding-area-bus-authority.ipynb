version https://git-lfs.github.com/spec/v1
oid sha256:25d47e55be2c1149c2f2b75c9f83903aa4508dc107de347b2519531bfa18d447
size 955675
