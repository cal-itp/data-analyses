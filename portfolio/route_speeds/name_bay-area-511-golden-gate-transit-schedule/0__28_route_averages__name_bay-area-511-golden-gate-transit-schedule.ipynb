version https://git-lfs.github.com/spec/v1
oid sha256:32816db0ed027ee75f4888e3066f1b938a2cfaccbc12e5f0ad52b4460c498c26
size 450366
