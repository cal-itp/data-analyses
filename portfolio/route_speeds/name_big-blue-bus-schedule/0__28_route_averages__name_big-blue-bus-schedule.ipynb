version https://git-lfs.github.com/spec/v1
oid sha256:c1c05a79a5ce4d6fba6bb4446c619e2548cbd1b2340638abb5b9f196b8340b37
size 894016
