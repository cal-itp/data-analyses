version https://git-lfs.github.com/spec/v1
oid sha256:81eadde6a327f85dcd52ece2f20f1e543b1e3bb6300362da6b7a64665274bb02
size 312606
