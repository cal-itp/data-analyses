{
 "cells": [
  {
   "cell_type": "code",
   "execution_count": 1,
   "id": "8faf71cd",
   "metadata": {
    "execution": {
     "iopub.execute_input": "2022-05-12T23:55:21.450244Z",
     "iopub.status.busy": "2022-05-12T23:55:21.449487Z",
     "iopub.status.idle": "2022-05-12T23:55:21.458486Z",
     "shell.execute_reply": "2022-05-12T23:55:21.457986Z"
    },
    "jupyter": {
     "source_hidden": true
    },
    "papermill": {
     "duration": 0.020582,
     "end_time": "2022-05-12T23:55:21.460296",
     "exception": false,
     "start_time": "2022-05-12T23:55:21.439714",
     "status": "completed"
    },
    "tags": [
     "injected-parameters",
     "remove_input"
    ]
   },
   "outputs": [],
   "source": [
    "# Parameters\n",
    "state = \"CA\"\n",
    "notebook = \"./bus_service_increase/definitions-competitive-viable.ipynb\"\n"
   ]
  },
  {
   "cell_type": "markdown",
   "id": "39df01b7-73cb-4984-a038-f79b0039fd72",
   "metadata": {
    "papermill": {
     "duration": 0.006533,
     "end_time": "2022-05-12T23:55:21.475215",
     "exception": false,
     "start_time": "2022-05-12T23:55:21.468682",
     "status": "completed"
    },
    "tags": []
   },
   "source": [
    "# Maps for CA\n",
    "\n",
    "This header is needed"
   ]
  },
  {
   "cell_type": "markdown",
   "id": "27e89aee-ba56-4a82-8268-754ec013fecc",
   "metadata": {
    "papermill": {
     "duration": 0.006431,
     "end_time": "2022-05-12T23:55:21.488599",
     "exception": false,
     "start_time": "2022-05-12T23:55:21.482168",
     "status": "completed"
    },
    "tags": []
   },
   "source": [
    "# Choose cut-offs for competitive or viable competitive\n",
    "\n",
    "* What threshold to use for `pct_trips_competitive` to count a route as competitive (based on `bus_multiplier` only)?\n",
    "* What threshold to use for `pct_below_cutoff` to count a competitive route as viable competitive (also factor in `bus_difference`)?"
   ]
  },
  {
   "cell_type": "code",
   "execution_count": 2,
   "id": "f931a75c-f2d5-4c29-8f3b-e6a0905d9afc",
   "metadata": {
    "execution": {
     "iopub.execute_input": "2022-05-12T23:55:21.503720Z",
     "iopub.status.busy": "2022-05-12T23:55:21.503151Z",
     "iopub.status.idle": "2022-05-12T23:55:22.630726Z",
     "shell.execute_reply": "2022-05-12T23:55:22.630180Z"
    },
    "jupyter": {
     "source_hidden": true
    },
    "papermill": {
     "duration": 1.137543,
     "end_time": "2022-05-12T23:55:22.632785",
     "exception": false,
     "start_time": "2022-05-12T23:55:21.495242",
     "status": "completed"
    },
    "tags": [
     "remove_input"
    ]
   },
   "outputs": [
    {
     "name": "stderr",
     "output_type": "stream",
     "text": [
      "/opt/conda/lib/python3.9/site-packages/geopandas/_compat.py:111: UserWarning: The Shapely GEOS version (3.10.2-CAPI-1.16.0) is incompatible with the GEOS version PyGEOS was compiled with (3.10.1-CAPI-1.16.0). Conversions between both will be slow.\n",
      "  warnings.warn(\n"
     ]
    }
   ],
   "source": [
    "import geopandas as gpd\n",
    "import intake\n",
    "import pandas as pd\n",
    "\n",
    "catalog = intake.open_catalog(\"./*.yml\")"
   ]
  },
  {
   "cell_type": "code",
   "execution_count": 3,
   "id": "abb003d7-6b53-4443-9a88-ca950ba6112a",
   "metadata": {
    "execution": {
     "iopub.execute_input": "2022-05-12T23:55:22.650249Z",
     "iopub.status.busy": "2022-05-12T23:55:22.649564Z",
     "iopub.status.idle": "2022-05-12T23:55:37.620949Z",
     "shell.execute_reply": "2022-05-12T23:55:37.620263Z"
    },
    "jupyter": {
     "source_hidden": true
    },
    "papermill": {
     "duration": 14.982816,
     "end_time": "2022-05-12T23:55:37.623416",
     "exception": false,
     "start_time": "2022-05-12T23:55:22.640600",
     "status": "completed"
    },
    "tags": [
     "remove_input"
    ]
   },
   "outputs": [],
   "source": [
    "df = catalog.competitive_route_variability.read()"
   ]
  },
  {
   "cell_type": "code",
   "execution_count": 4,
   "id": "06eb0cbf-b490-4591-9700-45a1cd81b4b5",
   "metadata": {
    "execution": {
     "iopub.execute_input": "2022-05-12T23:55:37.640267Z",
     "iopub.status.busy": "2022-05-12T23:55:37.639914Z",
     "iopub.status.idle": "2022-05-12T23:55:37.654788Z",
     "shell.execute_reply": "2022-05-12T23:55:37.654022Z"
    },
    "jupyter": {
     "source_hidden": true
    },
    "papermill": {
     "duration": 0.026186,
     "end_time": "2022-05-12T23:55:37.656767",
     "exception": false,
     "start_time": "2022-05-12T23:55:37.630581",
     "status": "completed"
    },
    "tags": [
     "remove_input"
    ]
   },
   "outputs": [],
   "source": [
    "route_cols = [\"calitp_itp_id\", \"route_id\", \"route_group\"]\n",
    "route_groups = df.route_group.unique().tolist()"
   ]
  },
  {
   "cell_type": "code",
   "execution_count": 5,
   "id": "656c349f-94fb-459b-83bd-b1ef2fc9fb82",
   "metadata": {
    "execution": {
     "iopub.execute_input": "2022-05-12T23:55:37.677782Z",
     "iopub.status.busy": "2022-05-12T23:55:37.677511Z",
     "iopub.status.idle": "2022-05-12T23:55:37.740333Z",
     "shell.execute_reply": "2022-05-12T23:55:37.739403Z"
    },
    "jupyter": {
     "source_hidden": true
    },
    "papermill": {
     "duration": 0.078769,
     "end_time": "2022-05-12T23:55:37.742580",
     "exception": false,
     "start_time": "2022-05-12T23:55:37.663811",
     "status": "completed"
    },
    "tags": [
     "remove_input"
    ]
   },
   "outputs": [
    {
     "name": "stdout",
     "output_type": "stream",
     "text": [
      "Overall\n",
      "count    3314.000000\n",
      "mean        0.346213\n",
      "std         0.451978\n",
      "min         0.000000\n",
      "25%         0.000000\n",
      "50%         0.000000\n",
      "75%         1.000000\n",
      "max         1.000000\n",
      "Name: pct_trips_competitive, dtype: float64\n",
      "Route Group: short\n",
      "count    2319.000000\n",
      "mean        0.349827\n",
      "std         0.456715\n",
      "min         0.000000\n",
      "25%         0.000000\n",
      "50%         0.000000\n",
      "75%         1.000000\n",
      "max         1.000000\n",
      "Name: pct_trips_competitive, dtype: float64\n",
      "Route Group: medium\n",
      "count    594.000000\n",
      "mean       0.376576\n",
      "std        0.457146\n",
      "min        0.000000\n",
      "25%        0.000000\n",
      "50%        0.020000\n",
      "75%        1.000000\n",
      "max        1.000000\n",
      "Name: pct_trips_competitive, dtype: float64\n",
      "Route Group: long\n",
      "count    401.000000\n",
      "mean       0.280334\n",
      "std        0.409386\n",
      "min        0.000000\n",
      "25%        0.000000\n",
      "50%        0.000000\n",
      "75%        0.622000\n",
      "max        1.000000\n",
      "Name: pct_trips_competitive, dtype: float64\n"
     ]
    }
   ],
   "source": [
    "print(\"Overall\")\n",
    "df2 = df[route_cols + [\"pct_trips_competitive\", \"pct_below_cutoff\"]].drop_duplicates()\n",
    "print(df2.pct_trips_competitive.describe())\n",
    "\n",
    "for i in route_groups:\n",
    "    subset = df2[df2.route_group==i]\n",
    "    print(f\"Route Group: {i}\")\n",
    "    print(subset.pct_trips_competitive.describe())"
   ]
  },
  {
   "cell_type": "markdown",
   "id": "d5d99240-bfa1-45f7-a8c2-63e51ae261a3",
   "metadata": {
    "papermill": {
     "duration": 0.007985,
     "end_time": "2022-05-12T23:55:37.758265",
     "exception": false,
     "start_time": "2022-05-12T23:55:37.750280",
     "status": "completed"
    },
    "tags": []
   },
   "source": [
    "For small/medium route types, seems like 75th percentile is at 100% of trips being within the 2x `bus_multiplier`.\n",
    "\n",
    "For large route types, 75th percentile is around 63% of trips within the 2x `bus_multiplier`.\n",
    "\n",
    "Overall, can use 75% as a threshold, since it may differ for large operators like LA Metro and small operators, and we need to provide recommendations to all kinds of operators. Regardless, only the top 15 routes will be shown, so probably it'll only recommend routes where 100% of trips are within the 2x threshold anyway."
   ]
  },
  {
   "cell_type": "code",
   "execution_count": 6,
   "id": "4a3a4a2f-2f33-48fc-9428-21e5f34ec03c",
   "metadata": {
    "execution": {
     "iopub.execute_input": "2022-05-12T23:55:37.775282Z",
     "iopub.status.busy": "2022-05-12T23:55:37.774989Z",
     "iopub.status.idle": "2022-05-12T23:55:37.788664Z",
     "shell.execute_reply": "2022-05-12T23:55:37.779199Z"
    },
    "jupyter": {
     "source_hidden": true
    },
    "papermill": {
     "duration": 0.025394,
     "end_time": "2022-05-12T23:55:37.791158",
     "exception": false,
     "start_time": "2022-05-12T23:55:37.765764",
     "status": "completed"
    },
    "tags": [
     "remove_input"
    ]
   },
   "outputs": [],
   "source": [
    "PCT_COMPETITIVE_THRESHOLD = 0.75\n",
    "df3 = df2[df2.pct_trips_competitive > PCT_COMPETITIVE_THRESHOLD]"
   ]
  },
  {
   "cell_type": "code",
   "execution_count": 7,
   "id": "cc59c8d1-6ac1-4e3f-b558-da63fe273ae4",
   "metadata": {
    "execution": {
     "iopub.execute_input": "2022-05-12T23:55:37.809522Z",
     "iopub.status.busy": "2022-05-12T23:55:37.809249Z",
     "iopub.status.idle": "2022-05-12T23:55:37.826480Z",
     "shell.execute_reply": "2022-05-12T23:55:37.825856Z"
    },
    "jupyter": {
     "source_hidden": true
    },
    "papermill": {
     "duration": 0.028735,
     "end_time": "2022-05-12T23:55:37.828297",
     "exception": false,
     "start_time": "2022-05-12T23:55:37.799562",
     "status": "completed"
    },
    "tags": [
     "remove_input"
    ]
   },
   "outputs": [
    {
     "name": "stdout",
     "output_type": "stream",
     "text": [
      "Overall\n",
      "count    1037.000000\n",
      "mean        0.886619\n",
      "std         0.262732\n",
      "min         0.000000\n",
      "25%         1.000000\n",
      "50%         1.000000\n",
      "75%         1.000000\n",
      "max         1.000000\n",
      "Name: pct_below_cutoff, dtype: float64\n",
      "Route Group: short\n",
      "count    739.000000\n",
      "mean       0.914522\n",
      "std        0.247713\n",
      "min        0.000000\n",
      "25%        1.000000\n",
      "50%        1.000000\n",
      "75%        1.000000\n",
      "max        1.000000\n",
      "Name: pct_below_cutoff, dtype: float64\n",
      "Route Group: medium\n",
      "count    204.000000\n",
      "mean       0.869574\n",
      "std        0.242886\n",
      "min        0.000000\n",
      "25%        0.845770\n",
      "50%        1.000000\n",
      "75%        1.000000\n",
      "max        1.000000\n",
      "Name: pct_below_cutoff, dtype: float64\n",
      "Route Group: long\n",
      "count    94.000000\n",
      "mean      0.704246\n",
      "std       0.335870\n",
      "min       0.000000\n",
      "25%       0.500000\n",
      "50%       0.850000\n",
      "75%       1.000000\n",
      "max       1.000000\n",
      "Name: pct_below_cutoff, dtype: float64\n"
     ]
    }
   ],
   "source": [
    "print(\"Overall\")\n",
    "print(df3.pct_below_cutoff.describe())\n",
    "for i in route_groups:\n",
    "    subset = df3[df3.route_group==i]\n",
    "    print(f\"Route Group: {i}\")\n",
    "    print(subset.pct_below_cutoff.describe())"
   ]
  },
  {
   "cell_type": "code",
   "execution_count": 8,
   "id": "69977531-21e9-4499-bcce-cc5119d9cfaa",
   "metadata": {
    "execution": {
     "iopub.execute_input": "2022-05-12T23:55:37.846441Z",
     "iopub.status.busy": "2022-05-12T23:55:37.845840Z",
     "iopub.status.idle": "2022-05-12T23:55:37.869837Z",
     "shell.execute_reply": "2022-05-12T23:55:37.869054Z"
    },
    "jupyter": {
     "source_hidden": true
    },
    "papermill": {
     "duration": 0.036294,
     "end_time": "2022-05-12T23:55:37.872712",
     "exception": false,
     "start_time": "2022-05-12T23:55:37.836418",
     "status": "completed"
    },
    "tags": [
     "remove_input"
    ]
   },
   "outputs": [
    {
     "name": "stdout",
     "output_type": "stream",
     "text": [
      "Overall\n",
      "count    50.000000\n",
      "mean      0.856563\n",
      "std       0.243884\n",
      "min       0.166667\n",
      "25%       0.819930\n",
      "50%       1.000000\n",
      "75%       1.000000\n",
      "max       1.000000\n",
      "Name: pct_below_cutoff, dtype: float64\n",
      "Route Group: short\n",
      "count    13.000000\n",
      "mean      0.940966\n",
      "std       0.212850\n",
      "min       0.232558\n",
      "25%       1.000000\n",
      "50%       1.000000\n",
      "75%       1.000000\n",
      "max       1.000000\n",
      "Name: pct_below_cutoff, dtype: float64\n",
      "Route Group: medium\n",
      "count    17.000000\n",
      "mean      0.882275\n",
      "std       0.185248\n",
      "min       0.292683\n",
      "25%       0.847826\n",
      "50%       0.993902\n",
      "75%       1.000000\n",
      "max       1.000000\n",
      "Name: pct_below_cutoff, dtype: float64\n",
      "Route Group: long\n",
      "count    20.000000\n",
      "mean      0.779845\n",
      "std       0.290207\n",
      "min       0.166667\n",
      "25%       0.623296\n",
      "50%       0.934343\n",
      "75%       1.000000\n",
      "max       1.000000\n",
      "Name: pct_below_cutoff, dtype: float64\n"
     ]
    }
   ],
   "source": [
    "print(\"Overall\")\n",
    "print(df3[df3.calitp_itp_id==182].pct_below_cutoff.describe())\n",
    "for i in route_groups:\n",
    "    subset = df3[(df3.route_group==i) & (df3.calitp_itp_id==182)]\n",
    "    print(f\"Route Group: {i}\")\n",
    "    print(subset.pct_below_cutoff.describe())"
   ]
  },
  {
   "cell_type": "markdown",
   "id": "c919f945-97a5-4871-b30e-80e505d01b95",
   "metadata": {
    "papermill": {
     "duration": 0.018568,
     "end_time": "2022-05-12T23:55:37.912261",
     "exception": false,
     "start_time": "2022-05-12T23:55:37.893693",
     "status": "completed"
    },
    "tags": []
   },
   "source": [
    "For all route types, seems like 75th percentile is at 100% of trips being within the thresholds for `bus_difference`.\n",
    "\n",
    "Let's use a more generous threshold, like 80% of trips are within the `bus_difference` cut-off."
   ]
  },
  {
   "cell_type": "code",
   "execution_count": null,
   "id": "53913c76-c231-494b-a4a3-d278bf42b8ad",
   "metadata": {
    "jupyter": {
     "source_hidden": true
    },
    "papermill": {
     "duration": 0.015919,
     "end_time": "2022-05-12T23:55:37.940911",
     "exception": false,
     "start_time": "2022-05-12T23:55:37.924992",
     "status": "completed"
    },
    "tags": [
     "remove_input"
    ]
   },
   "outputs": [],
   "source": []
  }
 ],
 "metadata": {
  "kernelspec": {
   "display_name": "Python 3 (ipykernel)",
   "language": "python",
   "name": "python3"
  },
  "language_info": {
   "codemirror_mode": {
    "name": "ipython",
    "version": 3
   },
   "file_extension": ".py",
   "mimetype": "text/x-python",
   "name": "python",
   "nbconvert_exporter": "python",
   "pygments_lexer": "ipython3",
   "version": "3.9.12"
  },
  "papermill": {
   "default_parameters": {},
   "duration": 18.986096,
   "end_time": "2022-05-12T23:55:38.582116",
   "environment_variables": {},
   "exception": null,
   "input_path": "bus_service_increase/definitions-competitive-viable.ipynb",
   "output_path": "portfolio/highway_corridors/state_ca/0__definitions-competitive-viable__state_ca__notebook_bus-service-increase-definitions-competitive-viable-ipynb.ipynb",
   "parameters": {
    "notebook": "./bus_service_increase/definitions-competitive-viable.ipynb",
    "state": "CA"
   },
   "start_time": "2022-05-12T23:55:19.596020",
   "version": "2.3.4"
  }
 },
 "nbformat": 4,
 "nbformat_minor": 5
}