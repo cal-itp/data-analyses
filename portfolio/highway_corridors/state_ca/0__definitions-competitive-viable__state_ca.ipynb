{
 "cells": [
  {
   "cell_type": "code",
   "execution_count": 1,
   "id": "de857e57",
   "metadata": {
    "execution": {
     "iopub.execute_input": "2022-05-12T21:58:43.181712Z",
     "iopub.status.busy": "2022-05-12T21:58:43.181413Z",
     "iopub.status.idle": "2022-05-12T21:58:43.189111Z",
     "shell.execute_reply": "2022-05-12T21:58:43.188547Z"
    },
    "jupyter": {
     "source_hidden": true
    },
    "papermill": {
     "duration": 0.021592,
     "end_time": "2022-05-12T21:58:43.190926",
     "exception": false,
     "start_time": "2022-05-12T21:58:43.169334",
     "status": "completed"
    },
    "tags": [
     "injected-parameters",
     "remove_input"
    ]
   },
   "outputs": [],
   "source": [
    "# Parameters\n",
    "state = \"CA\"\n"
   ]
  },
  {
   "cell_type": "markdown",
   "id": "27e89aee-ba56-4a82-8268-754ec013fecc",
   "metadata": {
    "papermill": {
     "duration": 0.006996,
     "end_time": "2022-05-12T21:58:43.206731",
     "exception": false,
     "start_time": "2022-05-12T21:58:43.199735",
     "status": "completed"
    },
    "tags": []
   },
   "source": [
    "# Choose cut-offs for competitive or viable competitive\n",
    "\n",
    "* What threshold to use for `pct_trips_competitive` to count a route as competitive (based on `bus_multiplier` only)?\n",
    "* What threshold to use for `pct_below_cutoff` to count a competitive route as viable competitive (also factor in `bus_difference`)?"
   ]
  },
  {
   "cell_type": "code",
   "execution_count": 2,
   "id": "f931a75c-f2d5-4c29-8f3b-e6a0905d9afc",
   "metadata": {
    "execution": {
     "iopub.execute_input": "2022-05-12T21:58:43.228307Z",
     "iopub.status.busy": "2022-05-12T21:58:43.228035Z",
     "iopub.status.idle": "2022-05-12T21:58:44.221509Z",
     "shell.execute_reply": "2022-05-12T21:58:44.220799Z"
    },
    "jupyter": {
     "source_hidden": true
    },
    "papermill": {
     "duration": 1.006412,
     "end_time": "2022-05-12T21:58:44.223690",
     "exception": false,
     "start_time": "2022-05-12T21:58:43.217278",
     "status": "completed"
    },
    "tags": [
     "remove_input"
    ]
   },
   "outputs": [
    {
     "name": "stderr",
     "output_type": "stream",
     "text": [
      "/opt/conda/lib/python3.9/site-packages/geopandas/_compat.py:111: UserWarning: The Shapely GEOS version (3.10.2-CAPI-1.16.0) is incompatible with the GEOS version PyGEOS was compiled with (3.10.1-CAPI-1.16.0). Conversions between both will be slow.\n",
      "  warnings.warn(\n"
     ]
    }
   ],
   "source": [
    "import geopandas as gpd\n",
    "import intake\n",
    "import pandas as pd\n",
    "\n",
    "catalog = intake.open_catalog(\"./*.yml\")"
   ]
  },
  {
   "cell_type": "code",
   "execution_count": 3,
   "id": "76cd77c3-f1f2-4469-a8f9-4dcb98b4e317",
   "metadata": {
    "execution": {
     "iopub.execute_input": "2022-05-12T21:58:44.241941Z",
     "iopub.status.busy": "2022-05-12T21:58:44.241424Z",
     "iopub.status.idle": "2022-05-12T21:58:44.245587Z",
     "shell.execute_reply": "2022-05-12T21:58:44.244804Z"
    },
    "jupyter": {
     "source_hidden": true
    },
    "papermill": {
     "duration": 0.015116,
     "end_time": "2022-05-12T21:58:44.247360",
     "exception": false,
     "start_time": "2022-05-12T21:58:44.232244",
     "status": "completed"
    },
    "tags": [
     "remove_input"
    ]
   },
   "outputs": [],
   "source": [
    "# parameters cell\n",
    "state = \"CA\""
   ]
  },
  {
   "cell_type": "markdown",
   "id": "30ed44b3-883f-4358-a3ca-edb3e08adb6a",
   "metadata": {
    "papermill": {
     "duration": 0.00792,
     "end_time": "2022-05-12T21:58:44.262727",
     "exception": false,
     "start_time": "2022-05-12T21:58:44.254807",
     "status": "completed"
    },
    "tags": []
   },
   "source": [
    "# Maps for CA"
   ]
  },
  {
   "cell_type": "code",
   "execution_count": 4,
   "id": "abb003d7-6b53-4443-9a88-ca950ba6112a",
   "metadata": {
    "execution": {
     "iopub.execute_input": "2022-05-12T21:58:44.279997Z",
     "iopub.status.busy": "2022-05-12T21:58:44.279753Z",
     "iopub.status.idle": "2022-05-12T21:58:46.742387Z",
     "shell.execute_reply": "2022-05-12T21:58:46.741311Z"
    },
    "jupyter": {
     "source_hidden": true
    },
    "papermill": {
     "duration": 2.474739,
     "end_time": "2022-05-12T21:58:46.745458",
     "exception": false,
     "start_time": "2022-05-12T21:58:44.270719",
     "status": "completed"
    },
    "tags": [
     "remove_input"
    ]
   },
   "outputs": [],
   "source": [
    "df = catalog.competitive_route_variability.read()"
   ]
  },
  {
   "cell_type": "code",
   "execution_count": 5,
   "id": "06eb0cbf-b490-4591-9700-45a1cd81b4b5",
   "metadata": {
    "execution": {
     "iopub.execute_input": "2022-05-12T21:58:46.782322Z",
     "iopub.status.busy": "2022-05-12T21:58:46.781537Z",
     "iopub.status.idle": "2022-05-12T21:58:46.795494Z",
     "shell.execute_reply": "2022-05-12T21:58:46.794678Z"
    },
    "jupyter": {
     "source_hidden": true
    },
    "papermill": {
     "duration": 0.036043,
     "end_time": "2022-05-12T21:58:46.797882",
     "exception": false,
     "start_time": "2022-05-12T21:58:46.761839",
     "status": "completed"
    },
    "tags": [
     "remove_input"
    ]
   },
   "outputs": [],
   "source": [
    "route_cols = [\"calitp_itp_id\", \"route_id\", \"route_group\"]\n",
    "route_groups = df.route_group.unique().tolist()"
   ]
  },
  {
   "cell_type": "code",
   "execution_count": 6,
   "id": "656c349f-94fb-459b-83bd-b1ef2fc9fb82",
   "metadata": {
    "execution": {
     "iopub.execute_input": "2022-05-12T21:58:46.815654Z",
     "iopub.status.busy": "2022-05-12T21:58:46.815383Z",
     "iopub.status.idle": "2022-05-12T21:58:46.872956Z",
     "shell.execute_reply": "2022-05-12T21:58:46.871930Z"
    },
    "jupyter": {
     "source_hidden": true
    },
    "papermill": {
     "duration": 0.069217,
     "end_time": "2022-05-12T21:58:46.875068",
     "exception": false,
     "start_time": "2022-05-12T21:58:46.805851",
     "status": "completed"
    },
    "tags": [
     "remove_input"
    ]
   },
   "outputs": [
    {
     "name": "stdout",
     "output_type": "stream",
     "text": [
      "Overall\n",
      "count    3314.000000\n",
      "mean        0.346213\n",
      "std         0.451978\n",
      "min         0.000000\n",
      "25%         0.000000\n",
      "50%         0.000000\n",
      "75%         1.000000\n",
      "max         1.000000\n",
      "Name: pct_trips_competitive, dtype: float64\n",
      "Route Group: short\n",
      "count    2319.000000\n",
      "mean        0.349827\n",
      "std         0.456715\n",
      "min         0.000000\n",
      "25%         0.000000\n",
      "50%         0.000000\n",
      "75%         1.000000\n",
      "max         1.000000\n",
      "Name: pct_trips_competitive, dtype: float64\n",
      "Route Group: medium\n",
      "count    594.000000\n",
      "mean       0.376576\n",
      "std        0.457146\n",
      "min        0.000000\n",
      "25%        0.000000\n",
      "50%        0.020000\n",
      "75%        1.000000\n",
      "max        1.000000\n",
      "Name: pct_trips_competitive, dtype: float64\n",
      "Route Group: long\n",
      "count    401.000000\n",
      "mean       0.280334\n",
      "std        0.409386\n",
      "min        0.000000\n",
      "25%        0.000000\n",
      "50%        0.000000\n",
      "75%        0.622000\n",
      "max        1.000000\n",
      "Name: pct_trips_competitive, dtype: float64\n"
     ]
    }
   ],
   "source": [
    "print(\"Overall\")\n",
    "df2 = df[route_cols + [\"pct_trips_competitive\", \"pct_below_cutoff\"]].drop_duplicates()\n",
    "print(df2.pct_trips_competitive.describe())\n",
    "\n",
    "for i in route_groups:\n",
    "    subset = df2[df2.route_group==i]\n",
    "    print(f\"Route Group: {i}\")\n",
    "    print(subset.pct_trips_competitive.describe())"
   ]
  },
  {
   "cell_type": "markdown",
   "id": "d5d99240-bfa1-45f7-a8c2-63e51ae261a3",
   "metadata": {
    "papermill": {
     "duration": 0.009031,
     "end_time": "2022-05-12T21:58:46.897186",
     "exception": false,
     "start_time": "2022-05-12T21:58:46.888155",
     "status": "completed"
    },
    "tags": []
   },
   "source": [
    "For small/medium route types, seems like 75th percentile is at 100% of trips being within the 2x `bus_multiplier`.\n",
    "\n",
    "For large route types, 75th percentile is around 63% of trips within the 2x `bus_multiplier`.\n",
    "\n",
    "Overall, can use 75% as a threshold, since it may differ for large operators like LA Metro and small operators, and we need to provide recommendations to all kinds of operators. Regardless, only the top 15 routes will be shown, so probably it'll only recommend routes where 100% of trips are within the 2x threshold anyway."
   ]
  },
  {
   "cell_type": "code",
   "execution_count": 7,
   "id": "4a3a4a2f-2f33-48fc-9428-21e5f34ec03c",
   "metadata": {
    "execution": {
     "iopub.execute_input": "2022-05-12T21:58:46.914960Z",
     "iopub.status.busy": "2022-05-12T21:58:46.914705Z",
     "iopub.status.idle": "2022-05-12T21:58:46.920181Z",
     "shell.execute_reply": "2022-05-12T21:58:46.919330Z"
    },
    "jupyter": {
     "source_hidden": true
    },
    "papermill": {
     "duration": 0.017213,
     "end_time": "2022-05-12T21:58:46.922558",
     "exception": false,
     "start_time": "2022-05-12T21:58:46.905345",
     "status": "completed"
    },
    "tags": [
     "remove_input"
    ]
   },
   "outputs": [],
   "source": [
    "PCT_COMPETITIVE_THRESHOLD = 0.75\n",
    "df3 = df2[df2.pct_trips_competitive > PCT_COMPETITIVE_THRESHOLD]"
   ]
  },
  {
   "cell_type": "code",
   "execution_count": 8,
   "id": "cc59c8d1-6ac1-4e3f-b558-da63fe273ae4",
   "metadata": {
    "execution": {
     "iopub.execute_input": "2022-05-12T21:58:46.942380Z",
     "iopub.status.busy": "2022-05-12T21:58:46.942052Z",
     "iopub.status.idle": "2022-05-12T21:58:46.958254Z",
     "shell.execute_reply": "2022-05-12T21:58:46.957594Z"
    },
    "jupyter": {
     "source_hidden": true
    },
    "papermill": {
     "duration": 0.027446,
     "end_time": "2022-05-12T21:58:46.959794",
     "exception": false,
     "start_time": "2022-05-12T21:58:46.932348",
     "status": "completed"
    },
    "tags": [
     "remove_input"
    ]
   },
   "outputs": [
    {
     "name": "stdout",
     "output_type": "stream",
     "text": [
      "Overall\n",
      "count    1037.000000\n",
      "mean        0.886619\n",
      "std         0.262732\n",
      "min         0.000000\n",
      "25%         1.000000\n",
      "50%         1.000000\n",
      "75%         1.000000\n",
      "max         1.000000\n",
      "Name: pct_below_cutoff, dtype: float64\n",
      "Route Group: short\n",
      "count    739.000000\n",
      "mean       0.914522\n",
      "std        0.247713\n",
      "min        0.000000\n",
      "25%        1.000000\n",
      "50%        1.000000\n",
      "75%        1.000000\n",
      "max        1.000000\n",
      "Name: pct_below_cutoff, dtype: float64\n",
      "Route Group: medium\n",
      "count    204.000000\n",
      "mean       0.869574\n",
      "std        0.242886\n",
      "min        0.000000\n",
      "25%        0.845770\n",
      "50%        1.000000\n",
      "75%        1.000000\n",
      "max        1.000000\n",
      "Name: pct_below_cutoff, dtype: float64\n",
      "Route Group: long\n",
      "count    94.000000\n",
      "mean      0.704246\n",
      "std       0.335870\n",
      "min       0.000000\n",
      "25%       0.500000\n",
      "50%       0.850000\n",
      "75%       1.000000\n",
      "max       1.000000\n",
      "Name: pct_below_cutoff, dtype: float64\n"
     ]
    }
   ],
   "source": [
    "print(\"Overall\")\n",
    "print(df3.pct_below_cutoff.describe())\n",
    "for i in route_groups:\n",
    "    subset = df3[df3.route_group==i]\n",
    "    print(f\"Route Group: {i}\")\n",
    "    print(subset.pct_below_cutoff.describe())"
   ]
  },
  {
   "cell_type": "code",
   "execution_count": 9,
   "id": "69977531-21e9-4499-bcce-cc5119d9cfaa",
   "metadata": {
    "execution": {
     "iopub.execute_input": "2022-05-12T21:58:46.979444Z",
     "iopub.status.busy": "2022-05-12T21:58:46.978962Z",
     "iopub.status.idle": "2022-05-12T21:58:47.003004Z",
     "shell.execute_reply": "2022-05-12T21:58:47.002208Z"
    },
    "jupyter": {
     "source_hidden": true
    },
    "papermill": {
     "duration": 0.035977,
     "end_time": "2022-05-12T21:58:47.004782",
     "exception": false,
     "start_time": "2022-05-12T21:58:46.968805",
     "status": "completed"
    },
    "tags": [
     "remove_input"
    ]
   },
   "outputs": [
    {
     "name": "stdout",
     "output_type": "stream",
     "text": [
      "Overall\n",
      "count    50.000000\n",
      "mean      0.856563\n",
      "std       0.243884\n",
      "min       0.166667\n",
      "25%       0.819930\n",
      "50%       1.000000\n",
      "75%       1.000000\n",
      "max       1.000000\n",
      "Name: pct_below_cutoff, dtype: float64\n",
      "Route Group: short\n",
      "count    13.000000\n",
      "mean      0.940966\n",
      "std       0.212850\n",
      "min       0.232558\n",
      "25%       1.000000\n",
      "50%       1.000000\n",
      "75%       1.000000\n",
      "max       1.000000\n",
      "Name: pct_below_cutoff, dtype: float64\n",
      "Route Group: medium\n",
      "count    17.000000\n",
      "mean      0.882275\n",
      "std       0.185248\n",
      "min       0.292683\n",
      "25%       0.847826\n",
      "50%       0.993902\n",
      "75%       1.000000\n",
      "max       1.000000\n",
      "Name: pct_below_cutoff, dtype: float64\n",
      "Route Group: long\n",
      "count    20.000000\n",
      "mean      0.779845\n",
      "std       0.290207\n",
      "min       0.166667\n",
      "25%       0.623296\n",
      "50%       0.934343\n",
      "75%       1.000000\n",
      "max       1.000000\n",
      "Name: pct_below_cutoff, dtype: float64\n"
     ]
    }
   ],
   "source": [
    "print(\"Overall\")\n",
    "print(df3[df3.calitp_itp_id==182].pct_below_cutoff.describe())\n",
    "for i in route_groups:\n",
    "    subset = df3[(df3.route_group==i) & (df3.calitp_itp_id==182)]\n",
    "    print(f\"Route Group: {i}\")\n",
    "    print(subset.pct_below_cutoff.describe())"
   ]
  },
  {
   "cell_type": "markdown",
   "id": "c919f945-97a5-4871-b30e-80e505d01b95",
   "metadata": {
    "papermill": {
     "duration": 0.009196,
     "end_time": "2022-05-12T21:58:47.023465",
     "exception": false,
     "start_time": "2022-05-12T21:58:47.014269",
     "status": "completed"
    },
    "tags": []
   },
   "source": [
    "For all route types, seems like 75th percentile is at 100% of trips being within the thresholds for `bus_difference`.\n",
    "\n",
    "Let's use a more generous threshold, like 80% of trips are within the `bus_difference` cut-off."
   ]
  },
  {
   "cell_type": "code",
   "execution_count": null,
   "id": "53913c76-c231-494b-a4a3-d278bf42b8ad",
   "metadata": {
    "jupyter": {
     "source_hidden": true
    },
    "papermill": {
     "duration": 0.008909,
     "end_time": "2022-05-12T21:58:47.042819",
     "exception": false,
     "start_time": "2022-05-12T21:58:47.033910",
     "status": "completed"
    },
    "tags": [
     "remove_input"
    ]
   },
   "outputs": [],
   "source": []
  }
 ],
 "metadata": {
  "kernelspec": {
   "display_name": "Python 3 (ipykernel)",
   "language": "python",
   "name": "python3"
  },
  "language_info": {
   "codemirror_mode": {
    "name": "ipython",
    "version": 3
   },
   "file_extension": ".py",
   "mimetype": "text/x-python",
   "name": "python",
   "nbconvert_exporter": "python",
   "pygments_lexer": "ipython3",
   "version": "3.9.12"
  },
  "papermill": {
   "default_parameters": {},
   "duration": 6.161327,
   "end_time": "2022-05-12T21:58:47.672784",
   "environment_variables": {},
   "exception": null,
   "input_path": "bus_service_increase/definitions-competitive-viable.ipynb",
   "output_path": "portfolio/highway_corridors/state_ca/0__definitions-competitive-viable__state_ca.ipynb",
   "parameters": {
    "state": "CA"
   },
   "start_time": "2022-05-12T21:58:41.511457",
   "version": "2.3.4"
  }
 },
 "nbformat": 4,
 "nbformat_minor": 5
}