version https://git-lfs.github.com/spec/v1
oid sha256:3c220f8cad6704430858a74a2661d7d0f0833995550dbb18c2fa7718e55307b5
size 48942473
