version https://git-lfs.github.com/spec/v1
oid sha256:67bfb352787cf63cc4e2ae92783250e3a72edc2439bb1f2eb29e88f2e477ac47
size 48912083
