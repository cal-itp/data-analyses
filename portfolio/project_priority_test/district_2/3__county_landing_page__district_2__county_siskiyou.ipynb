version https://git-lfs.github.com/spec/v1
oid sha256:026cc6a976c1f815e83b55ddc9a5c606fe3e45fe0346920c89f37096e5d27ae4
size 48912402
