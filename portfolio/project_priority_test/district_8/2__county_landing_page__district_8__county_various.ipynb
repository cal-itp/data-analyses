version https://git-lfs.github.com/spec/v1
oid sha256:4ccc7e6cd7fb80888b6965ae350b41ca533d3acfcaee5d54799baa788a2e3791
size 48983079
