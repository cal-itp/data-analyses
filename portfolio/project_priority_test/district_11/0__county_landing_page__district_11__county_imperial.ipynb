version https://git-lfs.github.com/spec/v1
oid sha256:cd4070466a3721af3b6ba79efca68cddba737d3bb7e4349c5146bcbc96978110
size 48970235
