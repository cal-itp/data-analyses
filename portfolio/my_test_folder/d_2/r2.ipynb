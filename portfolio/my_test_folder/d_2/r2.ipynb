version https://git-lfs.github.com/spec/v1
oid sha256:90d9192f1225477df77f8b6ce94b2ec6dc5b49819a5ec707b182151ddab6e3b4
size 618
