version https://git-lfs.github.com/spec/v1
oid sha256:f505e66d4d608f2f8c6c880c7cae2cae899cdf6c4720ff93b667b8bbdacf4e02
size 431505
