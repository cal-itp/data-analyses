version https://git-lfs.github.com/spec/v1
oid sha256:0f48bdfeb284354a448db0a854dc8305a27b4cb3a6d4530bf7dcb4ee5de02c82
size 645298
