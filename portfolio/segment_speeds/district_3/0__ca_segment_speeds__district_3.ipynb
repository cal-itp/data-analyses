version https://git-lfs.github.com/spec/v1
oid sha256:1e7441efc54bde4e72d968c0e24c69ee93a01426a4d7346ec9255992ebc22265
size 7445433
