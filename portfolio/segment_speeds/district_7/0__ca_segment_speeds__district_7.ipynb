version https://git-lfs.github.com/spec/v1
oid sha256:fe9421d13169262f0a645949673618c0cd66008e6bd213dd529ff7dba75d5b41
size 46376217
