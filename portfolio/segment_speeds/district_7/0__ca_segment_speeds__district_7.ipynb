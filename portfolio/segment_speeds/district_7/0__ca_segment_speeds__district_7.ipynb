version https://git-lfs.github.com/spec/v1
oid sha256:73b88e474ee8934eec832cdf5fcdc9caf62e354b6ab00859e56d65a75c4d6e8a
size 16938272
