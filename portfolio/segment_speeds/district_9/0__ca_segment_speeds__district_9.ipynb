version https://git-lfs.github.com/spec/v1
oid sha256:a52933ac312a47765dc51a927975bf91632d0b0a3b371c023470f1414b3bac93
size 8988
