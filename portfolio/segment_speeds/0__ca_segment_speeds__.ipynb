version https://git-lfs.github.com/spec/v1
oid sha256:6b22e63dae84416ad4f94b0569596b8f7ea0279ae48636fdd57571a42c6e553f
size 92569056
