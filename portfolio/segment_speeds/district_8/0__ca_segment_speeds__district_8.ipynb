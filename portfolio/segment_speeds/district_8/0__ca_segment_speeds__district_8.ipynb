version https://git-lfs.github.com/spec/v1
oid sha256:cf47057a48420ca7de2e5b68b3c62c919b5da4101fb609ff974b32f48b10fbda
size 13291043
