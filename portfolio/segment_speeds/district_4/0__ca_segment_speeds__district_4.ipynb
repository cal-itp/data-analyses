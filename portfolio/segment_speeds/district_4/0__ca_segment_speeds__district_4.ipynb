version https://git-lfs.github.com/spec/v1
oid sha256:37824001eeaee87fd119671f4f638ac497ae6afc35c0f3da80a0ccd104f3c4b9
size 57360993
