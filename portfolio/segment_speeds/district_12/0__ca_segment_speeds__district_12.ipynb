version https://git-lfs.github.com/spec/v1
oid sha256:66748da7a6e7181db5ecba0171db95f8d4d764465e60f58c52df651d04409de1
size 6053008
