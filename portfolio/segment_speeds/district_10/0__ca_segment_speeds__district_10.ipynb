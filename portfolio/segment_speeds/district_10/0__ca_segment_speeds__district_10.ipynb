version https://git-lfs.github.com/spec/v1
oid sha256:4a295a228c37b2d6d4299ce84e7a77d7a7f81af36d2297dd700b69ed7f356d82
size 2750751
