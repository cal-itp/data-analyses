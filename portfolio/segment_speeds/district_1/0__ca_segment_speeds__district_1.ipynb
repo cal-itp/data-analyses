version https://git-lfs.github.com/spec/v1
oid sha256:1c0fc16cc45c71465f9b8bde5e91120dea913e94f37043fd51ec3956c1484f95
size 2926462
