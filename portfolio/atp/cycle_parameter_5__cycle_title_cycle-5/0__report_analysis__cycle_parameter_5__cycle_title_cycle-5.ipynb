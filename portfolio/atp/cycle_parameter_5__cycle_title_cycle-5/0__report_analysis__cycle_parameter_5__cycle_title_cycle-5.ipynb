version https://git-lfs.github.com/spec/v1
oid sha256:dae2ed3db68203386b1b0045a19c16ef6eeb19801dd03e92f844095e5ca7078e
size 29929213
