version https://git-lfs.github.com/spec/v1
oid sha256:66eb80288f1cecf5f119d6f75e55a4cc7f813a2c6768da328cc4bf184f11e899
size 2525506
