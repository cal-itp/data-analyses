version https://git-lfs.github.com/spec/v1
oid sha256:11fff0a27bd6a5dd13b2bdb9bb7b4cf11af778e051baabb9bbdbe81cf4593c98
size 385010
