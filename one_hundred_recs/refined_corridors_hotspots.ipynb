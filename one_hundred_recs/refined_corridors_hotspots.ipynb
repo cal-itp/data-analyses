{
 "cells": [
  {
   "cell_type": "code",
   "execution_count": null,
   "id": "8354682f-ef53-46b7-a930-fa134e775090",
   "metadata": {},
   "outputs": [],
   "source": [
    "import os\n",
    "os.environ[\"CALITP_BQ_MAX_BYTES\"] = str(800_000_000_000)\n",
    "import shared_utils\n",
    "\n",
    "import geopandas as gpd\n",
    "import pandas as pd\n",
    "import folium \n",
    "import branca\n",
    "import datetime as dt\n",
    "from siuba import *\n",
    "from bus_service_utils import better_bus_utils\n",
    "\n",
    "from rt_analysis import rt_filter_map_plot\n",
    "\n",
    "ZERO_THIRTY_COLORSCALE = branca.colormap.step.RdYlGn_11.scale(vmin=0, vmax=35)\n",
    "\n",
    "import bb_rt_helper"
   ]
  },
  {
   "cell_type": "code",
   "execution_count": null,
   "id": "e4a09627-0d18-4c0d-bd2b-b1039bf56459",
   "metadata": {},
   "outputs": [],
   "source": [
    "import yaml"
   ]
  },
  {
   "cell_type": "code",
   "execution_count": null,
   "id": "2e7ca3ed-8fec-4db8-8c3e-5db1321b73ee",
   "metadata": {},
   "outputs": [],
   "source": [
    "with open('refined_corridors_hotspots.yaml', 'r') as f:\n",
    "    all_corr_hs = yaml.safe_load(f)"
   ]
  },
  {
   "cell_type": "code",
   "execution_count": null,
   "id": "b89d6345-7697-4910-9922-f6ecfbb62cd2",
   "metadata": {},
   "outputs": [],
   "source": [
    "## future parameter\n",
    "district_param = '07 - Los Angeles'"
   ]
  },
  {
   "cell_type": "code",
   "execution_count": null,
   "id": "9a505db9-4c5f-448b-b3e8-292e9a98354d",
   "metadata": {},
   "outputs": [],
   "source": [
    "all_corr_hs"
   ]
  },
  {
   "cell_type": "code",
   "execution_count": null,
   "id": "7d3b78fa-ec82-4fc0-9f96-420515e2916c",
   "metadata": {},
   "outputs": [],
   "source": [
    "# find district information matching parameter\n",
    "for district in all_corr_hs['districts']:\n",
    "    if district['district'] == district_param:\n",
    "        district_dict = district"
   ]
  },
  {
   "cell_type": "code",
   "execution_count": null,
   "id": "4284c3cb-d21e-4f0f-b3f3-9ef3b40cd079",
   "metadata": {},
   "outputs": [],
   "source": [
    "district_dict"
   ]
  },
  {
   "cell_type": "code",
   "execution_count": null,
   "id": "62c3bb11-a978-4c98-ab98-f385662587e1",
   "metadata": {},
   "outputs": [],
   "source": [
    "fm_dict = {}\n",
    "corridors = []\n",
    "hotspots = []\n",
    "# override default date if needed (so far only d3/SacRT)\n",
    "analysis_date = dt.date.fromisoformat(district_dict['date_override']) if district_dict['date_override'] else dt.date(2022, 5, 4)"
   ]
  },
  {
   "cell_type": "code",
   "execution_count": null,
   "id": "dcc094c7-58ae-4431-9c79-b0acb6b63577",
   "metadata": {},
   "outputs": [],
   "source": [
    "fm_dict = bb_rt_helper.fm_from_bbutils(ct_dist=district_param, category='corridor',\n",
    "                                       get_sorted = district_dict['get_sorted_corr'],\n",
    "                                       analysis_date=analysis_date, fm_dict = fm_dict)"
   ]
  },
  {
   "cell_type": "code",
   "execution_count": null,
   "id": "8e9f153d-7b42-4cee-a37e-19d1f7a80996",
   "metadata": {},
   "outputs": [],
   "source": [
    "# save speedmap views across all operators for future combined map\n",
    "corr_speed_views = []\n",
    "for key in fm_dict.keys():\n",
    "    _m = fm_dict[key].segment_speed_map()\n",
    "    corr_speed_views += [fm_dict[key].detailed_map_view.copy()]"
   ]
  },
  {
   "cell_type": "code",
   "execution_count": null,
   "id": "0a2ccfb8-8ad8-4013-856d-416367f03f2a",
   "metadata": {},
   "outputs": [],
   "source": [
    "district_dict['corridors'][0]['corridor']"
   ]
  },
  {
   "cell_type": "code",
   "execution_count": null,
   "id": "a0e18b4f-16a5-4e3e-87f8-61827727d7a8",
   "metadata": {},
   "outputs": [],
   "source": [
    "def parse_corridor(corridor_dict):\n",
    "    '''\n",
    "    Construct analysis corridor and calculate corridor metrics for each corridor\n",
    "    specified. Also, add corridor information to overall list for future map/export\n",
    "    \n",
    "    corridor_dict: dict, item['corridor'] for any item in district_dict['corridors']\n",
    "    '''\n",
    "    global corridors\n",
    "    subcorridors = []\n",
    "    for part in corridor_dict['parts']:\n",
    "        fm_dict[corridor_dict['itp_id']].autocorridor(part['shape_id'], part['stop_bounds'])\n",
    "        _corridor = fm_dict[corridor_dict['itp_id']].corridor.copy()\n",
    "        subcorridors += [_corridor]\n",
    "    full_corridor = pd.concat(subcorridors).dissolve()\n",
    "    fm_dict[corridor_dict['itp_id']].add_corridor(full_corridor)\n",
    "    if corridor_dict['route_filter']:\n",
    "        fm_dict[corridor_dict['itp_id']].set_filter(route_names = corridor_dict['route_filter'])\n",
    "    else:\n",
    "        fm_dict[corridor_dict['itp_id']].reset_filter()\n",
    "    fm_dict[corridor_dict['itp_id']].corridor_metrics()\n",
    "    display(fm_dict[corridor_dict['itp_id']].quick_map_corridor())\n",
    "    measured_corridor = fm_dict[corridor_dict['itp_id']].corridor.copy()\n",
    "    corridors += [measured_corridor]\n",
    "    return"
   ]
  },
  {
   "cell_type": "code",
   "execution_count": null,
   "id": "e2eb3608-5d0d-48b7-bde6-f0b8178a6e4f",
   "metadata": {},
   "outputs": [],
   "source": [
    "# parse_corridor(district_dict['corridors'][0]['corridor'])"
   ]
  },
  {
   "cell_type": "code",
   "execution_count": null,
   "id": "46d53471-1cd0-4b70-85b0-76add877db81",
   "metadata": {},
   "outputs": [],
   "source": [
    "for corridor in district_dict['corridors']:\n",
    "    parse_corridor(corridor['corridor'])"
   ]
  },
  {
   "cell_type": "code",
   "execution_count": null,
   "id": "1bd8d051-bc5a-47dc-a213-42c13b44bc5b",
   "metadata": {},
   "outputs": [],
   "source": [
    "fm_dict = bb_rt_helper.fm_from_bbutils(ct_dist=district_param, category='hotspot',\n",
    "                                       get_sorted = district_dict['get_sorted_hs'],\n",
    "                                       analysis_date=analysis_date, fm_dict = fm_dict)"
   ]
  },
  {
   "cell_type": "code",
   "execution_count": null,
   "id": "d43c69a9-d344-422e-856b-9d1ee52af1ac",
   "metadata": {},
   "outputs": [],
   "source": [
    "hs_speed_views = []\n",
    "for key in fm_dict.keys():\n",
    "    _m = fm_dict[key].segment_speed_map()\n",
    "    hs_speed_views += [fm_dict[key].detailed_map_view.copy()]"
   ]
  },
  {
   "cell_type": "code",
   "execution_count": null,
   "id": "96c39247-3160-4902-bd82-92eb88a95a97",
   "metadata": {},
   "outputs": [],
   "source": [
    "def parse_hotspot(hotspot_dict):\n",
    "    '''\n",
    "    Construct analysis corridor and calculate corridor metrics for each hotspot\n",
    "    specified. Also, add hotspot information to overall list for future map/export\n",
    "    \n",
    "    hotspot_dict: dict, item['hotspot'] for any item in district_dict['hotspots']\n",
    "    '''\n",
    "    global hotspots\n",
    "    subcorridors = []\n",
    "    for part in hotspot_dict['parts']:\n",
    "        fm_dict[hotspot_dict['itp_id']].autocorridor(part['shape_id'], part['stop_bounds'])\n",
    "        _corridor = fm_dict[hotspot_dict['itp_id']].corridor.copy()\n",
    "        subcorridors += [_corridor]\n",
    "    full_corridor = pd.concat(subcorridors).dissolve()\n",
    "    fm_dict[hotspot_dict['itp_id']].add_corridor(full_corridor)\n",
    "    if hotspot_dict['route_filter']:\n",
    "        fm_dict[hotspot_dict['itp_id']].set_filter(route_names = hotspot_dict['route_filter'])\n",
    "    else:\n",
    "        fm_dict[hotspot_dict['itp_id']].reset_filter()\n",
    "    fm_dict[hotspot_dict['itp_id']].corridor_metrics()\n",
    "    display(fm_dict[hotspot_dict['itp_id']].quick_map_corridor())\n",
    "    measured_corridor = fm_dict[hotspot_dict['itp_id']].corridor.copy()\n",
    "    hotspots += [measured_corridor]\n",
    "    return"
   ]
  },
  {
   "cell_type": "code",
   "execution_count": null,
   "id": "44f47274-18c0-4d8d-8f3e-6cbd5ee9f1f3",
   "metadata": {},
   "outputs": [],
   "source": [
    "for hotspot in district_dict['hotspots']:\n",
    "    parse_hotspot(hotspot['hotspot'])"
   ]
  },
  {
   "cell_type": "code",
   "execution_count": null,
   "id": "8e6cd187-a182-4efc-b304-3c12c4f73d27",
   "metadata": {
    "tags": []
   },
   "outputs": [],
   "source": [
    "# save speedmap views across all operators for future combined map\n",
    "all_speed_segs = pd.concat(hs_speed_views)\n",
    "all_corr_segs = pd.concat(corr_speed_views)\n",
    "# full join to preserve all unique segments, since they can differ\n",
    "# from hotspot to corridor (or indeed across operators)\n",
    "all_segs = all_speed_segs >> full_join(_, all_corr_segs)"
   ]
  },
  {
   "cell_type": "code",
   "execution_count": null,
   "id": "df191029-2f41-4e2c-b5f3-635b5710cdaa",
   "metadata": {},
   "outputs": [],
   "source": [
    "bb_rt_helper.bb_map_all(hotspots, corridors, all_segs, district = district_param)"
   ]
  }
 ],
 "metadata": {
  "kernelspec": {
   "display_name": "Python 3 (ipykernel)",
   "language": "python",
   "name": "python3"
  },
  "language_info": {
   "codemirror_mode": {
    "name": "ipython",
    "version": 3
   },
   "file_extension": ".py",
   "mimetype": "text/x-python",
   "name": "python",
   "nbconvert_exporter": "python",
   "pygments_lexer": "ipython3",
   "version": "3.9.13"
  },
  "widgets": {
   "application/vnd.jupyter.widget-state+json": {
    "state": {},
    "version_major": 2,
    "version_minor": 0
   }
  }
 },
 "nbformat": 4,
 "nbformat_minor": 5
}
