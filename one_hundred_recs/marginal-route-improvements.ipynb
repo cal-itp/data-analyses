{
 "cells": [
  {
   "cell_type": "markdown",
   "id": "5ff7c064-c9cd-47ec-bbd3-e5f14f8e869c",
   "metadata": {},
   "source": [
    "# Hotspot Transit Improvements\n",
    "\n",
    "## Criteria\n",
    "* transit routes that do not run on the SHN\n",
    "* average route speed is above **12 mph**  **AND**\n",
    "* 50%+ of its trips are competitive against a car traveling the same path (competitive is 1.5x...so bus can take 50% more time)"
   ]
  },
  {
   "cell_type": "code",
   "execution_count": null,
   "id": "e8d5db15-c641-4a1e-8446-21f6f1104ea0",
   "metadata": {},
   "outputs": [],
   "source": [
    "%%capture\n",
    "import warnings\n",
    "warnings.filterwarnings('ignore')\n",
    "\n",
    "import branca \n",
    "import geopandas as gpd\n",
    "import intake\n",
    "import pandas as pd\n",
    "\n",
    "from IPython.display import Markdown, HTML\n",
    "\n",
    "from shared_utils import calitp_color_palette as cp\n",
    "from shared_utils import geography_utils\n",
    "from bus_service_utils import better_bus_utils\n",
    "\n",
    "catalog = intake.open_catalog(\"../bus_service_increase/*.yml\")\n",
    "\n",
    "CUSTOM_CATEGORICAL = [\n",
    "    cp.CALITP_CATEGORY_BRIGHT_COLORS[2], # yellow\n",
    "    cp.CALITP_CATEGORY_BRIGHT_COLORS[1], # orange\n",
    "    cp.CALITP_CATEGORY_BRIGHT_COLORS[0], # blue\n",
    "    cp.CALITP_CATEGORY_BRIGHT_COLORS[5], # purple  \n",
    "    cp.CALITP_CATEGORY_BRIGHT_COLORS[3], # green\n",
    "]\n",
    "\n",
    "ZERO_THIRTY_COLORSCALE = branca.colormap.step.RdYlGn_11.scale(vmin=0, vmax=35)"
   ]
  },
  {
   "cell_type": "code",
   "execution_count": null,
   "id": "fbdc139e-3bb6-4ad3-bf0b-b0a0a29c4ede",
   "metadata": {},
   "outputs": [],
   "source": [
    "speed_dict = {\"mean_speed_mph\": 12}\n",
    "trip_dict = {\"pct_trips_competitive\": 0.50}\n",
    "\n",
    "gdf = better_bus_utils.select_transit_routes_hotspot_improvements(\n",
    "    speed_dict = speed_dict,\n",
    "    trip_dict = trip_dict\n",
    ")"
   ]
  },
  {
   "cell_type": "code",
   "execution_count": null,
   "id": "fb02e965-ac6e-4d29-b620-20d0fdee6088",
   "metadata": {},
   "outputs": [],
   "source": [
    "def subset_to_district(gdf: gpd.GeoDataFrame, district: str) -> gpd.GeoDataFrame: \n",
    "    keep_cols = [\n",
    "        \"calitp_itp_id\", \"route_id\", \n",
    "        \"mean_speed_mph\", \"pct_trips_competitive\",\n",
    "        \"category\", \"geometry\"]\n",
    "    \n",
    "    df = (gdf[gdf.caltrans_district == district]\n",
    "          .reset_index(drop=True)\n",
    "          [keep_cols]\n",
    "         )\n",
    "    \n",
    "    df2 = df.assign(\n",
    "        mean_speed_mph = df.mean_speed_mph.round(2),\n",
    "        pct_trips_competitive = df.pct_trips_competitive.round(3)\n",
    "    )\n",
    "               \n",
    "    return df2"
   ]
  },
  {
   "cell_type": "code",
   "execution_count": null,
   "id": "4a82d7c8-3c0a-44ba-b4fd-1105b1fd66fe",
   "metadata": {},
   "outputs": [],
   "source": [
    "TILES = \"CartoDB Positron\" \n",
    "\n",
    "def make_map(gdf: gpd.GeoDataFrame, district: str):        \n",
    "    m = gdf.explore(\"mean_speed_mph\", categorical = False, \n",
    "                    cmap = ZERO_THIRTY_COLORSCALE, tiles = TILES)\n",
    "    \n",
    "    display(m)\n",
    "    \n",
    "    m2 = gdf.explore(\"route_id\", categorical = True, \n",
    "                    cmap = \"tab20\", tiles = TILES)\n",
    "    \n",
    "    display(m2)\n",
    "    \n",
    "    table = gdf.sort_values([\"mean_speed_mph\", \"pct_trips_competitive\"], \n",
    "                           ascending=[True, True]\n",
    "                           ).drop(columns = [\"geometry\", \"category\"])\n",
    "    \n",
    "    \n",
    "    rename_cols = {\n",
    "        \"calitp_itp_id\": \"ITP ID\", \n",
    "        \"route_id\": \"Route ID\",\n",
    "        \"mean_speed_mph\": \"Avg Speed (mph)\", \n",
    "        \"pct_trips_competitive\": \"% trips competitive\",\n",
    "    }\n",
    "    \n",
    "    table = table.rename(columns = rename_cols)\n",
    "    \n",
    "    df_style = (table.style\n",
    "                .format(subset=[\"Avg Speed (mph)\"], \n",
    "                                **{'formatter': '{:,.1f}'})\n",
    "                .format(subset=[\"% trips competitive\"],\n",
    "                        **{'formatter': '{:,.2}'}\n",
    "                ).set_properties(subset=['ITP ID', 'Route ID'], \n",
    "                                **{'text-align': 'left'})\n",
    "                .set_properties(subset=['Avg Speed (mph)', '% trips competitive'], \n",
    "                               **{'text-align': 'center'})\n",
    "                .set_table_styles([dict(selector='th', \n",
    "                                        props=[('text-align', 'center')])\n",
    "                                        ])\n",
    "           .hide(axis=\"index\")\n",
    "           .to_html()\n",
    "          )\n",
    "    \n",
    "    display(HTML(df_style))\n",
    "   "
   ]
  },
  {
   "cell_type": "markdown",
   "id": "9807e202-d830-4c36-8c44-cb5752dc9dac",
   "metadata": {},
   "source": [
    "## District Maps"
   ]
  },
  {
   "cell_type": "code",
   "execution_count": null,
   "id": "df115300-244b-40e5-abc7-1fbd1a53a96d",
   "metadata": {},
   "outputs": [],
   "source": [
    "districts = gdf[gdf.caltrans_district.notna()].caltrans_district.unique().tolist()\n",
    "\n",
    "for d in sorted(districts):\n",
    "    display(HTML(f\"<h3> District {d}</h3>\"))\n",
    "\n",
    "    subset = subset_to_district(gdf, d)\n",
    "\n",
    "    if len(subset) > 0:\n",
    "        make_map(subset, d)\n",
    "    else:\n",
    "        print(\"No routes meet this criteria\")"
   ]
  },
  {
   "cell_type": "code",
   "execution_count": null,
   "id": "2561cf63-b965-4a1b-9e00-661948821dae",
   "metadata": {},
   "outputs": [],
   "source": []
  }
 ],
 "metadata": {
  "kernelspec": {
   "display_name": "Python 3 (ipykernel)",
   "language": "python",
   "name": "python3"
  },
  "language_info": {
   "codemirror_mode": {
    "name": "ipython",
    "version": 3
   },
   "file_extension": ".py",
   "mimetype": "text/x-python",
   "name": "python",
   "nbconvert_exporter": "python",
   "pygments_lexer": "ipython3",
   "version": "3.10.5"
  }
 },
 "nbformat": 4,
 "nbformat_minor": 5
}
