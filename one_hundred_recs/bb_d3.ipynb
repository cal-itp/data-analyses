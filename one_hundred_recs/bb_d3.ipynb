{
 "cells": [
  {
   "cell_type": "code",
   "execution_count": null,
   "id": "b41a5b6a-0457-4c89-aa8b-22787f028eb2",
   "metadata": {},
   "outputs": [],
   "source": [
    "import os\n",
    "os.environ[\"CALITP_BQ_MAX_BYTES\"] = str(800_000_000_000)\n",
    "\n",
    "import geopandas as gpd\n",
    "import pandas as pd\n",
    "import branca\n",
    "from siuba import *\n",
    "\n",
    "from rt_analysis import rt_filter_map_plot\n",
    "\n",
    "ZERO_THIRTY_COLORSCALE = branca.colormap.step.RdYlGn_11.scale(vmin=0, vmax=35)\n",
    "\n",
    "import bb_rt_helper"
   ]
  },
  {
   "cell_type": "code",
   "execution_count": null,
   "id": "eae12c5f-b8a5-499b-a437-4365568678b9",
   "metadata": {},
   "outputs": [],
   "source": [
    "import importlib\n",
    "importlib.reload(bb_rt_helper)"
   ]
  },
  {
   "cell_type": "markdown",
   "id": "d96f214d-4dc2-481c-8db6-bf5a3fd1733c",
   "metadata": {},
   "source": [
    "# 100 Recs - D3"
   ]
  },
  {
   "cell_type": "markdown",
   "id": "473a6770-4fdf-45fb-bc38-c822c36a5066",
   "metadata": {},
   "source": [
    "## 1 - Corridor Improvements"
   ]
  },
  {
   "cell_type": "code",
   "execution_count": null,
   "id": "bb91eaad-02c8-40d3-a0cf-4167b0ce6127",
   "metadata": {},
   "outputs": [],
   "source": [
    "bb_rt_helper.fm_from_bbutils?"
   ]
  },
  {
   "cell_type": "code",
   "execution_count": null,
   "id": "81fa3274-bb4c-4f00-a10a-42587f6ec4b1",
   "metadata": {
    "tags": []
   },
   "outputs": [],
   "source": [
    "fm_dict = bb_rt_helper.fm_from_bbutils(ct_dist='03 - Marysville', category='corridor', analysis_date=dt.date(2022, 2, 8))"
   ]
  },
  {
   "cell_type": "code",
   "execution_count": null,
   "id": "1eceda66-6bf1-43ef-99d4-92a75224c1dd",
   "metadata": {
    "tags": []
   },
   "outputs": [],
   "source": [
    "corr_speed_views = []\n",
    "for key in fm_dict.keys():\n",
    "    _m = fm_dict[key].segment_speed_map()\n",
    "    corr_speed_views += [fm_dict[key].detailed_map_view.copy()]"
   ]
  },
  {
   "cell_type": "code",
   "execution_count": null,
   "id": "e38acf30-31cc-4ce2-946c-82cb369968e0",
   "metadata": {},
   "outputs": [],
   "source": [
    "m_corr = fm_dict[273].segment_speed_map()"
   ]
  },
  {
   "cell_type": "code",
   "execution_count": null,
   "id": "97629cce-23fa-48e6-8bf7-d70e7af47a13",
   "metadata": {},
   "outputs": [],
   "source": [
    "m_corr"
   ]
  },
  {
   "cell_type": "markdown",
   "id": "21db3495-ccf9-4387-944f-e92766c423a9",
   "metadata": {},
   "source": [
    "## Draft Corridor Recs, Sacramento Regional Transit, D3\n",
    "\n",
    "* Route "
   ]
  },
  {
   "cell_type": "markdown",
   "id": "b7cbd2cc-7687-47a1-87cf-d53716be8039",
   "metadata": {
    "tags": []
   },
   "source": [
    "## Route 38"
   ]
  },
  {
   "cell_type": "code",
   "execution_count": null,
   "id": "94fa6c92-4e45-4753-97c7-1ff505bcc291",
   "metadata": {},
   "outputs": [],
   "source": [
    "shape_id = '40769'\n",
    "stop_range = [3, 39]"
   ]
  },
  {
   "cell_type": "code",
   "execution_count": null,
   "id": "5426411d-f0c2-477a-8c07-b93e5c2f256a",
   "metadata": {},
   "outputs": [],
   "source": [
    "fm_dict[273].autocorridor(shape_id=shape_id, stop_seq_range=stop_range)"
   ]
  },
  {
   "cell_type": "code",
   "execution_count": null,
   "id": "9c9478f1-af3f-4575-b495-eb2f531db0bb",
   "metadata": {},
   "outputs": [],
   "source": [
    "c1 = fm_dict[273].corridor.copy()"
   ]
  },
  {
   "cell_type": "code",
   "execution_count": null,
   "id": "85f1a3fb-9ed6-49d1-8324-ed6b5f8914d0",
   "metadata": {},
   "outputs": [],
   "source": [
    "fm_dict[273].autocorridor('40768', [19, 34])"
   ]
  },
  {
   "cell_type": "code",
   "execution_count": null,
   "id": "9fda7c89-334d-4f22-8109-e841e94966cb",
   "metadata": {},
   "outputs": [],
   "source": [
    "c_both = pd.concat([c1, fm_dict[273].corridor]).dissolve()"
   ]
  },
  {
   "cell_type": "code",
   "execution_count": null,
   "id": "1e5b22ed-52c0-47b6-9fd7-f28b8ad66f42",
   "metadata": {},
   "outputs": [],
   "source": [
    "fm_dict[273].add_corridor(c_both)"
   ]
  },
  {
   "cell_type": "code",
   "execution_count": null,
   "id": "63e8273f-d570-4bf9-b8c7-ec647111b686",
   "metadata": {},
   "outputs": [],
   "source": [
    "fm_dict[273].set_filter(route_names=['38'])"
   ]
  },
  {
   "cell_type": "code",
   "execution_count": null,
   "id": "976e3fd1-0652-41d8-a24c-a03f946ed660",
   "metadata": {},
   "outputs": [],
   "source": [
    "fm_dict[273].corridor_metrics()"
   ]
  },
  {
   "cell_type": "code",
   "execution_count": null,
   "id": "d3d6d84e-12b7-4c93-8839-e63f998245d7",
   "metadata": {},
   "outputs": [],
   "source": [
    "fm_dict[273].quick_map_corridor()"
   ]
  },
  {
   "cell_type": "code",
   "execution_count": null,
   "id": "bffa8cf2-a0b4-4cbc-a361-1c69f0ddabc9",
   "metadata": {},
   "outputs": [],
   "source": [
    "corr_38 = fm_dict[273].corridor.copy() # important to use .copy() here to avoid referencing the changing corridor"
   ]
  },
  {
   "cell_type": "code",
   "execution_count": null,
   "id": "0b57fb50-a750-4349-b111-4b47167f48c7",
   "metadata": {},
   "outputs": [],
   "source": [
    "corridors = [corr_38]"
   ]
  },
  {
   "cell_type": "markdown",
   "id": "9363da0b-be2b-4c86-a8d0-b68e0a449094",
   "metadata": {},
   "source": [
    "## Route 62"
   ]
  },
  {
   "cell_type": "code",
   "execution_count": null,
   "id": "34496214-61a7-4855-862b-bfc2938f66e9",
   "metadata": {},
   "outputs": [],
   "source": [
    "shape_id = '40783'\n",
    "stop_range = [28, 58]"
   ]
  },
  {
   "cell_type": "code",
   "execution_count": null,
   "id": "94fb1639-7bd8-46f5-8023-05ca1b13ed7f",
   "metadata": {},
   "outputs": [],
   "source": [
    "fm_dict[273].autocorridor(shape_id=shape_id, stop_seq_range=stop_range)"
   ]
  },
  {
   "cell_type": "code",
   "execution_count": null,
   "id": "097933b9-a52d-4164-ba46-085ab033d50c",
   "metadata": {},
   "outputs": [],
   "source": [
    "c1 = fm_dict[273].corridor.copy()"
   ]
  },
  {
   "cell_type": "code",
   "execution_count": null,
   "id": "dbcd4a51-a9fd-4e47-8bd4-6d359f79cf89",
   "metadata": {},
   "outputs": [],
   "source": [
    "fm_dict[273].autocorridor('40784', [11, 19])"
   ]
  },
  {
   "cell_type": "code",
   "execution_count": null,
   "id": "6517dafe-85ce-4e30-8751-dd1155ab0e61",
   "metadata": {},
   "outputs": [],
   "source": [
    "c_both = pd.concat([c1, fm_dict[273].corridor]).dissolve()"
   ]
  },
  {
   "cell_type": "code",
   "execution_count": null,
   "id": "0d725573-7d2b-4e0c-9437-ab2b5ccbfc0d",
   "metadata": {},
   "outputs": [],
   "source": [
    "fm_dict[273].add_corridor(c_both)"
   ]
  },
  {
   "cell_type": "code",
   "execution_count": null,
   "id": "ec1179ea-ed82-4428-8a01-8f84a16a15b8",
   "metadata": {},
   "outputs": [],
   "source": [
    "fm_dict[273].set_filter(route_names=['62'])"
   ]
  },
  {
   "cell_type": "code",
   "execution_count": null,
   "id": "93ffe11f-0e4b-4744-8638-96d510194c7c",
   "metadata": {},
   "outputs": [],
   "source": [
    "fm_dict[273].corridor_metrics()"
   ]
  },
  {
   "cell_type": "code",
   "execution_count": null,
   "id": "b3af9190-4859-4d3b-8f47-c7f0d75aa3fc",
   "metadata": {},
   "outputs": [],
   "source": [
    "fm_dict[273].quick_map_corridor()"
   ]
  },
  {
   "cell_type": "code",
   "execution_count": null,
   "id": "8fb7c6a7-3240-4812-9e11-5553c799835c",
   "metadata": {},
   "outputs": [],
   "source": [
    "corr_62 = fm_dict[273].corridor.copy() # important to use .copy() here to avoid referencing the changing corridor"
   ]
  },
  {
   "cell_type": "code",
   "execution_count": null,
   "id": "eff267d6-0ee1-4232-8083-dcaed0f987c9",
   "metadata": {},
   "outputs": [],
   "source": [
    "corridors += [corr_62]"
   ]
  },
  {
   "cell_type": "markdown",
   "id": "c4c57038-748f-409e-89bb-3fcc51c72c5f",
   "metadata": {},
   "source": [
    "## Route 13"
   ]
  },
  {
   "cell_type": "code",
   "execution_count": null,
   "id": "ca186d05-bc6f-40c9-9349-efda52fe52fa",
   "metadata": {},
   "outputs": [],
   "source": [
    "shape_id = '40744'\n",
    "stop_range = [22, 36]"
   ]
  },
  {
   "cell_type": "code",
   "execution_count": null,
   "id": "e23f9ce7-a468-4712-82ed-dab475ec9622",
   "metadata": {},
   "outputs": [],
   "source": [
    "fm_dict[273].autocorridor(shape_id=shape_id, stop_seq_range=stop_range)"
   ]
  },
  {
   "cell_type": "code",
   "execution_count": null,
   "id": "8ee0973f-ce80-4b06-acde-b2986aff6d62",
   "metadata": {},
   "outputs": [],
   "source": [
    "fm_dict[273].set_filter(route_names=['13'])"
   ]
  },
  {
   "cell_type": "code",
   "execution_count": null,
   "id": "5ce40637-3a57-4d40-b91b-283734c29ee6",
   "metadata": {},
   "outputs": [],
   "source": [
    "fm_dict[273].corridor_metrics()"
   ]
  },
  {
   "cell_type": "code",
   "execution_count": null,
   "id": "1d769bd0-67d7-4ba9-b22b-2c84437c5210",
   "metadata": {},
   "outputs": [],
   "source": [
    "fm_dict[273].quick_map_corridor()"
   ]
  },
  {
   "cell_type": "code",
   "execution_count": null,
   "id": "efc01500-7241-4df2-8948-7c7f596ecd56",
   "metadata": {},
   "outputs": [],
   "source": [
    "corr_13 = fm_dict[273].corridor.copy() # important to use .copy() here to avoid referencing the changing corridor"
   ]
  },
  {
   "cell_type": "code",
   "execution_count": null,
   "id": "07196da8-2393-4b90-9a13-11b01e023df7",
   "metadata": {},
   "outputs": [],
   "source": [
    "corridors += [corr_13]"
   ]
  },
  {
   "cell_type": "markdown",
   "id": "05cef4a4-5d10-4c82-9402-101e2db40511",
   "metadata": {},
   "source": [
    "## Route 1"
   ]
  },
  {
   "cell_type": "code",
   "execution_count": null,
   "id": "88d0e6bf-7f8e-4108-b348-c4ffc2831a47",
   "metadata": {},
   "outputs": [],
   "source": [
    "shape_id = '40735'\n",
    "stop_range = [7, 34]"
   ]
  },
  {
   "cell_type": "code",
   "execution_count": null,
   "id": "8c432c7c-15cd-4979-832f-e18cb600fe84",
   "metadata": {},
   "outputs": [],
   "source": [
    "fm_dict[273].autocorridor(shape_id=shape_id, stop_seq_range=stop_range)"
   ]
  },
  {
   "cell_type": "code",
   "execution_count": null,
   "id": "d60068d0-85a3-4ad2-ad1c-0ed4e1cfa592",
   "metadata": {},
   "outputs": [],
   "source": [
    "fm_dict[273].set_filter(route_names=['1'])"
   ]
  },
  {
   "cell_type": "code",
   "execution_count": null,
   "id": "0dae9e98-9d6b-404e-8258-bdc18656fb18",
   "metadata": {},
   "outputs": [],
   "source": [
    "fm_dict[273].corridor_metrics()"
   ]
  },
  {
   "cell_type": "code",
   "execution_count": null,
   "id": "34cb4ff6-0e55-4b85-ae6a-e095aef823e9",
   "metadata": {},
   "outputs": [],
   "source": [
    "fm_dict[273].quick_map_corridor()"
   ]
  },
  {
   "cell_type": "code",
   "execution_count": null,
   "id": "c5dba83a-e94f-43a1-9af7-82b383b3cb86",
   "metadata": {},
   "outputs": [],
   "source": [
    "corr_1 = fm_dict[273].corridor.copy() # important to use .copy() here to avoid referencing the changing corridor"
   ]
  },
  {
   "cell_type": "code",
   "execution_count": null,
   "id": "e25f25ee-4901-4480-9716-d4b6d9ecf871",
   "metadata": {},
   "outputs": [],
   "source": [
    "corridors += [corr_1]"
   ]
  },
  {
   "cell_type": "markdown",
   "id": "2e103c2c-6e10-4858-80e0-2ed7714ae2f1",
   "metadata": {},
   "source": [
    "## 2 - Hotspot Improvements"
   ]
  },
  {
   "cell_type": "code",
   "execution_count": null,
   "id": "3f5da3a1-57a8-47f0-ae76-8786dd61d60d",
   "metadata": {},
   "outputs": [],
   "source": [
    "# without get_sorted returns mainly Metro Rail\n",
    "fm_dict = bb_rt_helper.fm_from_bbutils(ct_dist='03 - Marysville', category='hotspot', fm_dict = fm_dict, analysis_date=dt.date(2022, 2, 8))"
   ]
  },
  {
   "cell_type": "code",
   "execution_count": null,
   "id": "c9915756-b91f-49ff-89d3-e922e46fa579",
   "metadata": {},
   "outputs": [],
   "source": [
    "fm_dict[273].reset_filter()"
   ]
  },
  {
   "cell_type": "code",
   "execution_count": null,
   "id": "6f47736b-14a3-4032-ae3c-add7f2b19738",
   "metadata": {},
   "outputs": [],
   "source": [
    "hs_speed_views = []\n",
    "for key in fm_dict.keys():\n",
    "    _m = fm_dict[key].segment_speed_map()\n",
    "    hs_speed_views += [fm_dict[key].detailed_map_view.copy()]"
   ]
  },
  {
   "cell_type": "code",
   "execution_count": null,
   "id": "42ecf893-4598-4e79-b34f-6ac58848e16a",
   "metadata": {},
   "outputs": [],
   "source": [
    "m_hs = fm_dict[273].segment_speed_map()"
   ]
  },
  {
   "cell_type": "code",
   "execution_count": null,
   "id": "98e25036-96d1-4e6e-b7e3-92952af0499c",
   "metadata": {},
   "outputs": [],
   "source": [
    "m_hs"
   ]
  },
  {
   "cell_type": "markdown",
   "id": "be40a4e3-02a2-49a5-8b86-a6e0a7129288",
   "metadata": {},
   "source": [
    "# Draft Hotspot Recs, Sacramento Regional Transit, D3"
   ]
  },
  {
   "cell_type": "markdown",
   "id": "133ab2fb-5c39-46c4-ad5e-e6187f0aadfa",
   "metadata": {},
   "source": [
    "## Route 1"
   ]
  },
  {
   "cell_type": "code",
   "execution_count": null,
   "id": "48770b53-f985-44e8-aa2c-04803887f98c",
   "metadata": {},
   "outputs": [],
   "source": [
    "shape_id = '40735'\n",
    "stop_range = [22, 25]"
   ]
  },
  {
   "cell_type": "code",
   "execution_count": null,
   "id": "5f162600-c64b-4dc1-ba82-aa4f5e9a6d29",
   "metadata": {},
   "outputs": [],
   "source": [
    "fm_dict[273].reset_filter()"
   ]
  },
  {
   "cell_type": "code",
   "execution_count": null,
   "id": "fe52b350-147e-4f50-9bde-adc53a78c39d",
   "metadata": {},
   "outputs": [],
   "source": [
    "fm_dict[273].autocorridor(shape_id=shape_id, stop_seq_range=stop_range)"
   ]
  },
  {
   "cell_type": "code",
   "execution_count": null,
   "id": "5a2a7222-8b5f-4c97-8edf-746731c0098a",
   "metadata": {},
   "outputs": [],
   "source": [
    "fm_dict[273].corridor_metrics()"
   ]
  },
  {
   "cell_type": "code",
   "execution_count": null,
   "id": "24fab121-5d91-4cfe-996a-e6a64cfb7816",
   "metadata": {},
   "outputs": [],
   "source": [
    "fm_dict[273].quick_map_corridor()"
   ]
  },
  {
   "cell_type": "code",
   "execution_count": null,
   "id": "6284e03b-68c1-4aa4-97ee-a98ad772be1f",
   "metadata": {},
   "outputs": [],
   "source": [
    "hs_1 = fm_dict[273].corridor.copy()\n",
    "hotspots = [hs_1]"
   ]
  },
  {
   "cell_type": "markdown",
   "id": "219a49fd-1b90-47cc-8f32-d9a3fb9f9d53",
   "metadata": {},
   "source": [
    "## Route 25"
   ]
  },
  {
   "cell_type": "code",
   "execution_count": null,
   "id": "1e04d95b-8374-40c1-876d-8f6b3a9fd4f2",
   "metadata": {},
   "outputs": [],
   "source": [
    "shape_id = '40759'\n",
    "stop_range = [21, 24]"
   ]
  },
  {
   "cell_type": "code",
   "execution_count": null,
   "id": "31c433e7-828d-49c6-99a0-c23d422a3513",
   "metadata": {},
   "outputs": [],
   "source": [
    "fm_dict[273].reset_filter()"
   ]
  },
  {
   "cell_type": "code",
   "execution_count": null,
   "id": "253be46f-3f69-4e5a-9cf6-7a6557bd64e1",
   "metadata": {},
   "outputs": [],
   "source": [
    "fm_dict[273].autocorridor(shape_id=shape_id, stop_seq_range=stop_range)"
   ]
  },
  {
   "cell_type": "code",
   "execution_count": null,
   "id": "381fedcc-22a6-43e9-b4aa-1b2f24fc0932",
   "metadata": {},
   "outputs": [],
   "source": [
    "fm_dict[273].corridor_metrics()"
   ]
  },
  {
   "cell_type": "code",
   "execution_count": null,
   "id": "6d529ce1-0266-4adf-a6e4-9a90f024ac41",
   "metadata": {},
   "outputs": [],
   "source": [
    "fm_dict[273].quick_map_corridor()"
   ]
  },
  {
   "cell_type": "code",
   "execution_count": null,
   "id": "56a6e789-9300-4562-a21b-e08458609aa1",
   "metadata": {},
   "outputs": [],
   "source": [
    "hs_25 = fm_dict[273].corridor.copy()\n",
    "hotspots += [hs_25]"
   ]
  },
  {
   "cell_type": "markdown",
   "id": "5ae37c5b-a8d4-4e36-8dd6-bcd5edc5525a",
   "metadata": {},
   "source": [
    "## Route 25 (2)"
   ]
  },
  {
   "cell_type": "code",
   "execution_count": null,
   "id": "2f83f63b-d083-4a89-96ad-ed474daa96fa",
   "metadata": {},
   "outputs": [],
   "source": [
    "shape_id = '40759'\n",
    "stop_range = [7, 12]"
   ]
  },
  {
   "cell_type": "code",
   "execution_count": null,
   "id": "ddca9924-3476-4810-8213-ee6b4c903866",
   "metadata": {},
   "outputs": [],
   "source": [
    "fm_dict[273].reset_filter()"
   ]
  },
  {
   "cell_type": "code",
   "execution_count": null,
   "id": "42a5dad9-e01c-4fc5-bd9f-e0d22e7bfcd6",
   "metadata": {},
   "outputs": [],
   "source": [
    "fm_dict[273].autocorridor(shape_id=shape_id, stop_seq_range=stop_range)"
   ]
  },
  {
   "cell_type": "code",
   "execution_count": null,
   "id": "7a75642a-2d87-4a8c-9d50-7a71f0e440f4",
   "metadata": {},
   "outputs": [],
   "source": [
    "fm_dict[273].corridor_metrics()"
   ]
  },
  {
   "cell_type": "code",
   "execution_count": null,
   "id": "8e175cfc-367b-42de-951b-0aa3a38a6179",
   "metadata": {},
   "outputs": [],
   "source": [
    "fm_dict[273].quick_map_corridor()"
   ]
  },
  {
   "cell_type": "code",
   "execution_count": null,
   "id": "08ffaab5-ea2d-4daf-a46d-4e4e4f532cae",
   "metadata": {},
   "outputs": [],
   "source": [
    "hs_25b = fm_dict[273].corridor.copy()\n",
    "hotspots += [hs_25b]"
   ]
  },
  {
   "cell_type": "markdown",
   "id": "8963b0b2-061a-4985-9d4b-c369c5591cf9",
   "metadata": {},
   "source": [
    "## SHOPP Example"
   ]
  },
  {
   "cell_type": "markdown",
   "id": "96d43d2f-f310-4256-b0ec-d2397a996428",
   "metadata": {},
   "source": [
    "## Routes 26, 84, 93"
   ]
  },
  {
   "cell_type": "code",
   "execution_count": null,
   "id": "1f12ec2d-f590-4f04-9bb8-e24b3ec71c18",
   "metadata": {},
   "outputs": [],
   "source": [
    "shape_id = '40810'\n",
    "stop_range = [35, 41]"
   ]
  },
  {
   "cell_type": "code",
   "execution_count": null,
   "id": "f670cad2-dcc3-42af-b64e-ddcec31aa88e",
   "metadata": {},
   "outputs": [],
   "source": [
    "fm_dict[273].reset_filter()"
   ]
  },
  {
   "cell_type": "code",
   "execution_count": null,
   "id": "a3a97d9f-b9bd-4848-9141-1ec245ec979f",
   "metadata": {},
   "outputs": [],
   "source": [
    "fm_dict[273].autocorridor(shape_id=shape_id, stop_seq_range=stop_range)"
   ]
  },
  {
   "cell_type": "code",
   "execution_count": null,
   "id": "79327ddc-c09e-4e11-8778-c63ab3bb6cf4",
   "metadata": {},
   "outputs": [],
   "source": [
    "fm_dict[273].corridor_metrics()"
   ]
  },
  {
   "cell_type": "code",
   "execution_count": null,
   "id": "2e72fc5b-8a43-46f7-8bcf-a0062980633f",
   "metadata": {},
   "outputs": [],
   "source": [
    "fm_dict[273].quick_map_corridor()"
   ]
  },
  {
   "cell_type": "code",
   "execution_count": null,
   "id": "8ca0646d-343a-4b89-8a8d-b34472262dba",
   "metadata": {},
   "outputs": [],
   "source": [
    "hs_25b = fm_dict[273].corridor.copy()\n",
    "hotspots += [hs_25b]"
   ]
  },
  {
   "cell_type": "code",
   "execution_count": null,
   "id": "c94e765d-3ce5-4d23-a33b-77cd4cb28fb4",
   "metadata": {},
   "outputs": [],
   "source": [
    "%%capture\n",
    "fm_dict[273].reset_filter()\n",
    "m2 = fm_dict[273].segment_speed_map(show_shn = True)"
   ]
  },
  {
   "cell_type": "code",
   "execution_count": null,
   "id": "1680fb2b-c509-4620-854b-0eb6500b7d1a",
   "metadata": {},
   "outputs": [],
   "source": [
    "m2"
   ]
  },
  {
   "cell_type": "markdown",
   "id": "a1900fbc-872f-42a7-b515-821470f6b0e7",
   "metadata": {},
   "source": [
    "## Map Testing"
   ]
  },
  {
   "cell_type": "code",
   "execution_count": null,
   "id": "7e3895c2-c6af-4749-9313-cf3a3aea1b02",
   "metadata": {
    "tags": []
   },
   "outputs": [],
   "source": [
    "all_speed_segs = pd.concat(hs_speed_views)\n",
    "all_corr_segs = pd.concat(corr_speed_views)\n",
    "# full join to preserve all unique segments, since they can differ\n",
    "# from hotspot to corridor (or indeed across operators)\n",
    "all_segs = all_speed_segs >> full_join(_, all_corr_segs)"
   ]
  },
  {
   "cell_type": "code",
   "execution_count": null,
   "id": "9381c82f-25a6-49e1-8425-7296e1b05b2d",
   "metadata": {},
   "outputs": [],
   "source": [
    "m = bb_rt_helper.bb_map_all(hotspots, corridors, all_segs, district = '03 - Marysville')"
   ]
  },
  {
   "cell_type": "code",
   "execution_count": null,
   "id": "9558ced4-74ec-4b04-ab73-4d4e6db2a9d8",
   "metadata": {},
   "outputs": [],
   "source": [
    "m"
   ]
  }
 ],
 "metadata": {
  "kernelspec": {
   "display_name": "Python 3 (ipykernel)",
   "language": "python",
   "name": "python3"
  },
  "language_info": {
   "codemirror_mode": {
    "name": "ipython",
    "version": 3
   },
   "file_extension": ".py",
   "mimetype": "text/x-python",
   "name": "python",
   "nbconvert_exporter": "python",
   "pygments_lexer": "ipython3",
   "version": "3.9.13"
  },
  "widgets": {
   "application/vnd.jupyter.widget-state+json": {
    "state": {},
    "version_major": 2,
    "version_minor": 0
   }
  }
 },
 "nbformat": 4,
 "nbformat_minor": 5
}
