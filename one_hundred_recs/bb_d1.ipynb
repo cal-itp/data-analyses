{
 "cells": [
  {
   "cell_type": "code",
   "execution_count": null,
   "id": "dfd34249-60bc-4fdb-9495-4994d780f4de",
   "metadata": {},
   "outputs": [],
   "source": [
    "import os\n",
    "os.environ[\"CALITP_BQ_MAX_BYTES\"] = str(800_000_000_000)\n",
    "\n",
    "import geopandas as gpd\n",
    "import pandas as pd\n",
    "import branca\n",
    "from siuba import *\n",
    "\n",
    "from rt_analysis import rt_filter_map_plot\n",
    "\n",
    "ZERO_THIRTY_COLORSCALE = branca.colormap.step.RdYlGn_11.scale(vmin=0, vmax=35)"
   ]
  },
  {
   "cell_type": "code",
   "execution_count": null,
   "id": "dd589919-7dee-4652-9a01-56e394c7d18f",
   "metadata": {},
   "outputs": [],
   "source": [
    "import bb_rt_helper"
   ]
  },
  {
   "cell_type": "code",
   "execution_count": null,
   "id": "eae12c5f-b8a5-499b-a437-4365568678b9",
   "metadata": {},
   "outputs": [],
   "source": [
    "import importlib\n",
    "importlib.reload(bb_rt_helper)"
   ]
  },
  {
   "cell_type": "markdown",
   "id": "d96f214d-4dc2-481c-8db6-bf5a3fd1733c",
   "metadata": {},
   "source": [
    "# 100 Recs - D5"
   ]
  },
  {
   "cell_type": "markdown",
   "id": "473a6770-4fdf-45fb-bc38-c822c36a5066",
   "metadata": {},
   "source": [
    "## 1 - Corridor Improvements"
   ]
  },
  {
   "cell_type": "code",
   "execution_count": null,
   "id": "bb91eaad-02c8-40d3-a0cf-4167b0ce6127",
   "metadata": {},
   "outputs": [],
   "source": [
    "bb_rt_helper.fm_from_bbutils?"
   ]
  },
  {
   "cell_type": "code",
   "execution_count": null,
   "id": "81fa3274-bb4c-4f00-a10a-42587f6ec4b1",
   "metadata": {
    "tags": []
   },
   "outputs": [],
   "source": [
    "fm_dict = bb_rt_helper.fm_from_bbutils(ct_dist='01 - Eureka', category='corridor', get_sorted=True)"
   ]
  },
  {
   "cell_type": "markdown",
   "id": "d12cef06-eec0-4b13-b5f9-7774efc3b61e",
   "metadata": {},
   "source": [
    "## RT Data Notes\n",
    "\n",
    "* unable to generate usable speedmaps for Lake Transit route identified\n",
    "* no RT data for others"
   ]
  },
  {
   "cell_type": "code",
   "execution_count": null,
   "id": "1eceda66-6bf1-43ef-99d4-92a75224c1dd",
   "metadata": {
    "tags": []
   },
   "outputs": [],
   "source": [
    "corr_speed_views = []\n",
    "for key in fm_dict.keys():\n",
    "    _m = fm_dict[key].segment_speed_map()\n",
    "    corr_speed_views += [fm_dict[key].detailed_map_view.copy()]"
   ]
  },
  {
   "cell_type": "code",
   "execution_count": null,
   "id": "e38acf30-31cc-4ce2-946c-82cb369968e0",
   "metadata": {},
   "outputs": [],
   "source": [
    "m_corr = fm_dict[159].segment_speed_map()"
   ]
  },
  {
   "cell_type": "code",
   "execution_count": null,
   "id": "97629cce-23fa-48e6-8bf7-d70e7af47a13",
   "metadata": {},
   "outputs": [],
   "source": [
    "m_corr"
   ]
  }
 ],
 "metadata": {
  "kernelspec": {
   "display_name": "Python 3 (ipykernel)",
   "language": "python",
   "name": "python3"
  },
  "language_info": {
   "codemirror_mode": {
    "name": "ipython",
    "version": 3
   },
   "file_extension": ".py",
   "mimetype": "text/x-python",
   "name": "python",
   "nbconvert_exporter": "python",
   "pygments_lexer": "ipython3",
   "version": "3.9.13"
  },
  "widgets": {
   "application/vnd.jupyter.widget-state+json": {
    "state": {},
    "version_major": 2,
    "version_minor": 0
   }
  }
 },
 "nbformat": 4,
 "nbformat_minor": 5
}
