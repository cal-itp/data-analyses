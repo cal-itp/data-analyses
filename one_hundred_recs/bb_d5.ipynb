{
 "cells": [
  {
   "cell_type": "code",
   "execution_count": null,
   "id": "dfd34249-60bc-4fdb-9495-4994d780f4de",
   "metadata": {},
   "outputs": [],
   "source": [
    "import os\n",
    "os.environ[\"CALITP_BQ_MAX_BYTES\"] = str(800_000_000_000)\n",
    "\n",
    "import geopandas as gpd\n",
    "import pandas as pd\n",
    "import branca\n",
    "from siuba import *\n",
    "\n",
    "from rt_analysis import rt_filter_map_plot\n",
    "\n",
    "ZERO_THIRTY_COLORSCALE = branca.colormap.step.RdYlGn_11.scale(vmin=0, vmax=35)"
   ]
  },
  {
   "cell_type": "code",
   "execution_count": null,
   "id": "dd589919-7dee-4652-9a01-56e394c7d18f",
   "metadata": {},
   "outputs": [],
   "source": [
    "import bb_rt_helper"
   ]
  },
  {
   "cell_type": "code",
   "execution_count": null,
   "id": "eae12c5f-b8a5-499b-a437-4365568678b9",
   "metadata": {},
   "outputs": [],
   "source": [
    "import importlib\n",
    "importlib.reload(bb_rt_helper)"
   ]
  },
  {
   "cell_type": "markdown",
   "id": "d96f214d-4dc2-481c-8db6-bf5a3fd1733c",
   "metadata": {},
   "source": [
    "# 100 Recs - D5"
   ]
  },
  {
   "cell_type": "markdown",
   "id": "473a6770-4fdf-45fb-bc38-c822c36a5066",
   "metadata": {},
   "source": [
    "## 1 - Corridor Improvements"
   ]
  },
  {
   "cell_type": "code",
   "execution_count": null,
   "id": "bb91eaad-02c8-40d3-a0cf-4167b0ce6127",
   "metadata": {},
   "outputs": [],
   "source": [
    "bb_rt_helper.fm_from_bbutils?"
   ]
  },
  {
   "cell_type": "code",
   "execution_count": null,
   "id": "81fa3274-bb4c-4f00-a10a-42587f6ec4b1",
   "metadata": {
    "tags": []
   },
   "outputs": [],
   "source": [
    "fm_dict = bb_rt_helper.fm_from_bbutils(ct_dist='05 - San Luis Obispo', category='corridor', analysis_date=dt.date(2022, 7, 4))"
   ]
  },
  {
   "cell_type": "markdown",
   "id": "43953720-ce27-436d-9158-8b243b9fdfad",
   "metadata": {},
   "source": [
    "## RT Data Notes\n",
    "\n",
    "* Date shift for MST, routes may not match 100%\n",
    "* no RT data in 2022 for Santa Cruz Metro or SLORTA"
   ]
  },
  {
   "cell_type": "code",
   "execution_count": null,
   "id": "1eceda66-6bf1-43ef-99d4-92a75224c1dd",
   "metadata": {
    "tags": []
   },
   "outputs": [],
   "source": [
    "corr_speed_views = []\n",
    "for key in fm_dict.keys():\n",
    "    _m = fm_dict[key].segment_speed_map()\n",
    "    corr_speed_views += [fm_dict[key].detailed_map_view.copy()]"
   ]
  },
  {
   "cell_type": "code",
   "execution_count": null,
   "id": "e38acf30-31cc-4ce2-946c-82cb369968e0",
   "metadata": {},
   "outputs": [],
   "source": [
    "m_corr = fm_dict[208].segment_speed_map()"
   ]
  },
  {
   "cell_type": "code",
   "execution_count": null,
   "id": "97629cce-23fa-48e6-8bf7-d70e7af47a13",
   "metadata": {},
   "outputs": [],
   "source": [
    "m_corr"
   ]
  },
  {
   "cell_type": "markdown",
   "id": "21db3495-ccf9-4387-944f-e92766c423a9",
   "metadata": {},
   "source": [
    "## Draft Corridor Recs, Monterey-Salinas Transit, D3\n",
    "\n",
    "* Route "
   ]
  },
  {
   "cell_type": "markdown",
   "id": "b7cbd2cc-7687-47a1-87cf-d53716be8039",
   "metadata": {},
   "source": [
    "## Jazz A/B, Fremont St"
   ]
  },
  {
   "cell_type": "code",
   "execution_count": null,
   "id": "94fa6c92-4e45-4753-97c7-1ff505bcc291",
   "metadata": {},
   "outputs": [],
   "source": [
    "shape_id = 'B092'\n",
    "stop_range = [14, 21]"
   ]
  },
  {
   "cell_type": "code",
   "execution_count": null,
   "id": "5426411d-f0c2-477a-8c07-b93e5c2f256a",
   "metadata": {},
   "outputs": [],
   "source": [
    "fm_dict[208].autocorridor(shape_id=shape_id, stop_seq_range=stop_range)"
   ]
  },
  {
   "cell_type": "code",
   "execution_count": null,
   "id": "63e8273f-d570-4bf9-b8c7-ec647111b686",
   "metadata": {},
   "outputs": [],
   "source": [
    "fm_dict[208].reset_filter()"
   ]
  },
  {
   "cell_type": "code",
   "execution_count": null,
   "id": "976e3fd1-0652-41d8-a24c-a03f946ed660",
   "metadata": {},
   "outputs": [],
   "source": [
    "fm_dict[208].corridor_metrics()"
   ]
  },
  {
   "cell_type": "code",
   "execution_count": null,
   "id": "d3d6d84e-12b7-4c93-8839-e63f998245d7",
   "metadata": {},
   "outputs": [],
   "source": [
    "fm_dict[208].quick_map_corridor()"
   ]
  },
  {
   "cell_type": "code",
   "execution_count": null,
   "id": "bffa8cf2-a0b4-4cbc-a361-1c69f0ddabc9",
   "metadata": {},
   "outputs": [],
   "source": [
    "corr_jazz = fm_dict[208].corridor.copy() # important to use .copy() here to avoid referencing the changing corridor"
   ]
  },
  {
   "cell_type": "code",
   "execution_count": null,
   "id": "0b57fb50-a750-4349-b111-4b47167f48c7",
   "metadata": {},
   "outputs": [],
   "source": [
    "corridors = [corr_jazz]"
   ]
  },
  {
   "cell_type": "markdown",
   "id": "2b3e04c3-9137-496a-952a-29bd0de398bd",
   "metadata": {},
   "source": [
    "## Route 41"
   ]
  },
  {
   "cell_type": "code",
   "execution_count": null,
   "id": "6caebae9-54d3-4594-ba63-3c807e0785ab",
   "metadata": {},
   "outputs": [],
   "source": [
    "shape_id = '41090'\n",
    "stop_range = [2, 11]"
   ]
  },
  {
   "cell_type": "code",
   "execution_count": null,
   "id": "d26bdc7e-e17d-4988-a85c-7189044e2764",
   "metadata": {},
   "outputs": [],
   "source": [
    "fm_dict[208].autocorridor(shape_id=shape_id, stop_seq_range=stop_range)"
   ]
  },
  {
   "cell_type": "code",
   "execution_count": null,
   "id": "ac5e39bd-44dd-4c02-b741-9c07c33b3237",
   "metadata": {},
   "outputs": [],
   "source": [
    "fm_dict[208].set_filter(route_names=['41'])"
   ]
  },
  {
   "cell_type": "code",
   "execution_count": null,
   "id": "2ea8bd14-903e-4124-a7a0-c868f3fbaba6",
   "metadata": {},
   "outputs": [],
   "source": [
    "fm_dict[208].corridor_metrics()"
   ]
  },
  {
   "cell_type": "code",
   "execution_count": null,
   "id": "a9c2fe4e-0574-4c34-b4a9-d96ac88a1086",
   "metadata": {},
   "outputs": [],
   "source": [
    "fm_dict[208].quick_map_corridor()"
   ]
  },
  {
   "cell_type": "code",
   "execution_count": null,
   "id": "9250260c-dcda-447b-83a7-bca369a5b79d",
   "metadata": {},
   "outputs": [],
   "source": [
    "corr_41 = fm_dict[208].corridor.copy() # important to use .copy() here to avoid referencing the changing corridor"
   ]
  },
  {
   "cell_type": "code",
   "execution_count": null,
   "id": "035777cc-188d-4617-a330-6700d2be7706",
   "metadata": {},
   "outputs": [],
   "source": [
    "corridors += [corr_41]"
   ]
  },
  {
   "cell_type": "markdown",
   "id": "2e103c2c-6e10-4858-80e0-2ed7714ae2f1",
   "metadata": {},
   "source": [
    "## 2 - Hotspot Improvements"
   ]
  },
  {
   "cell_type": "code",
   "execution_count": null,
   "id": "3f5da3a1-57a8-47f0-ae76-8786dd61d60d",
   "metadata": {},
   "outputs": [],
   "source": [
    "fm_dict = bb_rt_helper.fm_from_bbutils(ct_dist='05 - San Luis Obispo', category='hotspot', fm_dict = fm_dict)"
   ]
  },
  {
   "cell_type": "code",
   "execution_count": null,
   "id": "6f47736b-14a3-4032-ae3c-add7f2b19738",
   "metadata": {},
   "outputs": [],
   "source": [
    "hs_speed_views = []\n",
    "for key in fm_dict.keys():\n",
    "    _m = fm_dict[key].segment_speed_map()\n",
    "    hs_speed_views += [fm_dict[key].detailed_map_view.copy()]"
   ]
  },
  {
   "cell_type": "code",
   "execution_count": null,
   "id": "42ecf893-4598-4e79-b34f-6ac58848e16a",
   "metadata": {},
   "outputs": [],
   "source": [
    "m_hs = fm_dict[208].segment_speed_map()"
   ]
  },
  {
   "cell_type": "code",
   "execution_count": null,
   "id": "98e25036-96d1-4e6e-b7e3-92952af0499c",
   "metadata": {},
   "outputs": [],
   "source": [
    "m_hs"
   ]
  },
  {
   "cell_type": "markdown",
   "id": "be40a4e3-02a2-49a5-8b86-a6e0a7129288",
   "metadata": {},
   "source": [
    "# Draft Hotspot Recs, MST, D5"
   ]
  },
  {
   "cell_type": "markdown",
   "id": "133ab2fb-5c39-46c4-ad5e-e6187f0aadfa",
   "metadata": {},
   "source": [
    "## Route 45"
   ]
  },
  {
   "cell_type": "code",
   "execution_count": null,
   "id": "48770b53-f985-44e8-aa2c-04803887f98c",
   "metadata": {},
   "outputs": [],
   "source": [
    "shape_id = '45027'\n",
    "stop_range = [5, 7]"
   ]
  },
  {
   "cell_type": "code",
   "execution_count": null,
   "id": "5f162600-c64b-4dc1-ba82-aa4f5e9a6d29",
   "metadata": {},
   "outputs": [],
   "source": [
    "fm_dict[208].set_filter(route_names=['45'])"
   ]
  },
  {
   "cell_type": "code",
   "execution_count": null,
   "id": "fe52b350-147e-4f50-9bde-adc53a78c39d",
   "metadata": {},
   "outputs": [],
   "source": [
    "fm_dict[208].autocorridor(shape_id=shape_id, stop_seq_range=stop_range)"
   ]
  },
  {
   "cell_type": "code",
   "execution_count": null,
   "id": "5a2a7222-8b5f-4c97-8edf-746731c0098a",
   "metadata": {},
   "outputs": [],
   "source": [
    "fm_dict[208].corridor_metrics()"
   ]
  },
  {
   "cell_type": "code",
   "execution_count": null,
   "id": "24fab121-5d91-4cfe-996a-e6a64cfb7816",
   "metadata": {},
   "outputs": [],
   "source": [
    "fm_dict[208].quick_map_corridor()"
   ]
  },
  {
   "cell_type": "code",
   "execution_count": null,
   "id": "6284e03b-68c1-4aa4-97ee-a98ad772be1f",
   "metadata": {},
   "outputs": [],
   "source": [
    "hs_45 = fm_dict[208].corridor.copy()\n",
    "hotspots = [hs_45]"
   ]
  },
  {
   "cell_type": "markdown",
   "id": "16ca8205-6c99-4163-9286-bf6a10be67de",
   "metadata": {},
   "source": [
    "## SBMTD (SHOPP)"
   ]
  },
  {
   "cell_type": "code",
   "execution_count": null,
   "id": "e955d66d-1424-4ca5-ab6b-fce1e2f2c298",
   "metadata": {},
   "outputs": [],
   "source": [
    "sbmtd = rt_filter_map_plot.from_gcs(293, dt.date(2022, 5, 4))"
   ]
  },
  {
   "cell_type": "code",
   "execution_count": null,
   "id": "6d0d0e04-1188-48b1-92cb-046c7add4f89",
   "metadata": {},
   "outputs": [],
   "source": [
    "sbmtd.segment_speed_map(show_shn=True)"
   ]
  },
  {
   "cell_type": "code",
   "execution_count": null,
   "id": "742aef35-8779-49f2-9a27-a2411ba06b20",
   "metadata": {},
   "outputs": [],
   "source": [
    "hs_speed_views += [sbmtd.detailed_map_view.copy()]"
   ]
  },
  {
   "cell_type": "code",
   "execution_count": null,
   "id": "6bf8b300-38eb-43d7-83f6-27e7a51f94ae",
   "metadata": {},
   "outputs": [],
   "source": []
  },
  {
   "cell_type": "markdown",
   "id": "9d702fc9-c0d8-429f-98cf-e9299c9a310f",
   "metadata": {},
   "source": [
    "## Route 7, SBMTD"
   ]
  },
  {
   "cell_type": "code",
   "execution_count": null,
   "id": "e0f4e565-7eae-4fcf-8d25-9fd2cacc304f",
   "metadata": {},
   "outputs": [],
   "source": [
    "shape_id = 'shp-7-03'\n",
    "stop_range = [4, 6]"
   ]
  },
  {
   "cell_type": "code",
   "execution_count": null,
   "id": "fbf9d99b-7d07-4dd0-a933-fff9cd57fa75",
   "metadata": {},
   "outputs": [],
   "source": [
    "sbmtd.autocorridor(shape_id=shape_id, stop_seq_range=stop_range)"
   ]
  },
  {
   "cell_type": "code",
   "execution_count": null,
   "id": "0b2c0dca-467c-4eba-8e9e-758d6e91923b",
   "metadata": {},
   "outputs": [],
   "source": [
    "sbmtd.corridor_metrics()"
   ]
  },
  {
   "cell_type": "code",
   "execution_count": null,
   "id": "343ff61a-0d41-4930-a69a-91cd5b0a71aa",
   "metadata": {},
   "outputs": [],
   "source": [
    "sbmtd.quick_map_corridor()"
   ]
  },
  {
   "cell_type": "code",
   "execution_count": null,
   "id": "9a55c636-433d-472e-931d-a679e60418e0",
   "metadata": {},
   "outputs": [],
   "source": [
    "hs_7 = sbmtd.corridor.copy()\n",
    "hotspots += [hs_7]"
   ]
  },
  {
   "cell_type": "markdown",
   "id": "a1900fbc-872f-42a7-b515-821470f6b0e7",
   "metadata": {},
   "source": [
    "## Map Testing"
   ]
  },
  {
   "cell_type": "code",
   "execution_count": null,
   "id": "7e3895c2-c6af-4749-9313-cf3a3aea1b02",
   "metadata": {
    "tags": []
   },
   "outputs": [],
   "source": [
    "all_speed_segs = pd.concat(hs_speed_views)\n",
    "all_corr_segs = pd.concat(corr_speed_views)\n",
    "# full join to preserve all unique segments, since they can differ\n",
    "# from hotspot to corridor (or indeed across operators)\n",
    "all_segs = all_speed_segs >> full_join(_, all_corr_segs)"
   ]
  },
  {
   "cell_type": "code",
   "execution_count": null,
   "id": "9381c82f-25a6-49e1-8425-7296e1b05b2d",
   "metadata": {},
   "outputs": [],
   "source": [
    "bb_rt_helper.bb_map_all(hotspots, corridors, all_segs, district = '05 - San Luis Obispo')"
   ]
  }
 ],
 "metadata": {
  "kernelspec": {
   "display_name": "Python 3 (ipykernel)",
   "language": "python",
   "name": "python3"
  },
  "language_info": {
   "codemirror_mode": {
    "name": "ipython",
    "version": 3
   },
   "file_extension": ".py",
   "mimetype": "text/x-python",
   "name": "python",
   "nbconvert_exporter": "python",
   "pygments_lexer": "ipython3",
   "version": "3.9.13"
  },
  "widgets": {
   "application/vnd.jupyter.widget-state+json": {
    "state": {},
    "version_major": 2,
    "version_minor": 0
   }
  }
 },
 "nbformat": 4,
 "nbformat_minor": 5
}
