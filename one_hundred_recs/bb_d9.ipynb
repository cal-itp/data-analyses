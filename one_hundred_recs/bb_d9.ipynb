{
 "cells": [
  {
   "cell_type": "code",
   "execution_count": null,
   "id": "dfd34249-60bc-4fdb-9495-4994d780f4de",
   "metadata": {},
   "outputs": [],
   "source": [
    "import os\n",
    "os.environ[\"CALITP_BQ_MAX_BYTES\"] = str(800_000_000_000)\n",
    "import shared_utils\n",
    "\n",
    "import geopandas as gpd\n",
    "import pandas as pd\n",
    "import folium \n",
    "import branca\n",
    "import datetime as dt\n",
    "from siuba import *\n",
    "from bus_service_utils import better_bus_utils\n",
    "\n",
    "from rt_analysis import rt_filter_map_plot\n",
    "\n",
    "ZERO_THIRTY_COLORSCALE = branca.colormap.step.RdYlGn_11.scale(vmin=0, vmax=35)"
   ]
  },
  {
   "cell_type": "code",
   "execution_count": null,
   "id": "dd589919-7dee-4652-9a01-56e394c7d18f",
   "metadata": {},
   "outputs": [],
   "source": [
    "import bb_rt_helper"
   ]
  },
  {
   "cell_type": "code",
   "execution_count": null,
   "id": "eae12c5f-b8a5-499b-a437-4365568678b9",
   "metadata": {},
   "outputs": [],
   "source": [
    "import importlib\n",
    "importlib.reload(bb_rt_helper)"
   ]
  },
  {
   "cell_type": "markdown",
   "id": "d96f214d-4dc2-481c-8db6-bf5a3fd1733c",
   "metadata": {},
   "source": [
    "# 100 Recs - D9"
   ]
  },
  {
   "cell_type": "markdown",
   "id": "473a6770-4fdf-45fb-bc38-c822c36a5066",
   "metadata": {},
   "source": [
    "## 1 - Corridor Improvements"
   ]
  },
  {
   "cell_type": "code",
   "execution_count": null,
   "id": "bb91eaad-02c8-40d3-a0cf-4167b0ce6127",
   "metadata": {},
   "outputs": [],
   "source": [
    "bb_rt_helper.fm_from_bbutils?"
   ]
  },
  {
   "cell_type": "code",
   "execution_count": null,
   "id": "81fa3274-bb4c-4f00-a10a-42587f6ec4b1",
   "metadata": {
    "tags": []
   },
   "outputs": [],
   "source": [
    "fm_dict = bb_rt_helper.fm_from_bbutils(ct_dist='09 - Bishop', category='corridor')"
   ]
  },
  {
   "cell_type": "code",
   "execution_count": null,
   "id": "1eceda66-6bf1-43ef-99d4-92a75224c1dd",
   "metadata": {
    "tags": []
   },
   "outputs": [],
   "source": [
    "corr_speed_views = []\n",
    "for key in fm_dict.keys():\n",
    "    _m = fm_dict[key].segment_speed_map()\n",
    "    corr_speed_views += [fm_dict[key].detailed_map_view.copy()]"
   ]
  },
  {
   "cell_type": "code",
   "execution_count": null,
   "id": "e38acf30-31cc-4ce2-946c-82cb369968e0",
   "metadata": {},
   "outputs": [],
   "source": [
    "m_corr = fm_dict[99].segment_speed_map()"
   ]
  },
  {
   "cell_type": "code",
   "execution_count": null,
   "id": "97629cce-23fa-48e6-8bf7-d70e7af47a13",
   "metadata": {},
   "outputs": [],
   "source": [
    "m_corr"
   ]
  },
  {
   "cell_type": "markdown",
   "id": "21db3495-ccf9-4387-944f-e92766c423a9",
   "metadata": {},
   "source": [
    "## Draft Corridor Recs, Eastern Sierra Transit Authority, D9\n",
    "\n",
    "* None, no impacted corridors observed"
   ]
  },
  {
   "cell_type": "markdown",
   "id": "2e103c2c-6e10-4858-80e0-2ed7714ae2f1",
   "metadata": {},
   "source": [
    "## 2 - Hotspot Improvements"
   ]
  },
  {
   "cell_type": "code",
   "execution_count": null,
   "id": "3f5da3a1-57a8-47f0-ae76-8786dd61d60d",
   "metadata": {},
   "outputs": [],
   "source": [
    "fm_dict = bb_rt_helper.fm_from_bbutils(ct_dist='09 - Bishop', category='hotspot', fm_dict = fm_dict)"
   ]
  },
  {
   "cell_type": "code",
   "execution_count": null,
   "id": "6f47736b-14a3-4032-ae3c-add7f2b19738",
   "metadata": {},
   "outputs": [],
   "source": [
    "hs_speed_views = []\n",
    "for key in fm_dict.keys():\n",
    "    _m = fm_dict[key].segment_speed_map()\n",
    "    hs_speed_views += [fm_dict[key].detailed_map_view.copy()]"
   ]
  },
  {
   "cell_type": "code",
   "execution_count": null,
   "id": "42ecf893-4598-4e79-b34f-6ac58848e16a",
   "metadata": {},
   "outputs": [],
   "source": [
    "m_hs = fm_dict[99].segment_speed_map()"
   ]
  },
  {
   "cell_type": "code",
   "execution_count": null,
   "id": "98e25036-96d1-4e6e-b7e3-92952af0499c",
   "metadata": {},
   "outputs": [],
   "source": [
    "m_hs"
   ]
  },
  {
   "cell_type": "markdown",
   "id": "be40a4e3-02a2-49a5-8b86-a6e0a7129288",
   "metadata": {},
   "source": [
    "# Draft Hotspot Recs, Eastern Sierra Transit Authority, D9"
   ]
  },
  {
   "cell_type": "markdown",
   "id": "133ab2fb-5c39-46c4-ad5e-e6187f0aadfa",
   "metadata": {},
   "source": [
    "## Mammoth Lakes Red, Green, Purple lines"
   ]
  },
  {
   "cell_type": "code",
   "execution_count": null,
   "id": "48770b53-f985-44e8-aa2c-04803887f98c",
   "metadata": {},
   "outputs": [],
   "source": [
    "shape_id = 'p_9208'\n",
    "stop_range = [19, 21]"
   ]
  },
  {
   "cell_type": "code",
   "execution_count": null,
   "id": "d4237e4b-f8e0-41ae-afa1-662e35a91722",
   "metadata": {},
   "outputs": [],
   "source": [
    "fm_dict[99].set_filter(shape_ids=['p_176471', 'p_178387', 'p_9452', 'p_9208', 'p_9210'])\n",
    "## filter out 395 service!\n",
    "## TODO add shape_id filter to yaml scheme..."
   ]
  },
  {
   "cell_type": "code",
   "execution_count": null,
   "id": "fe52b350-147e-4f50-9bde-adc53a78c39d",
   "metadata": {},
   "outputs": [],
   "source": [
    "fm_dict[99].autocorridor(shape_id=shape_id, stop_seq_range=stop_range)"
   ]
  },
  {
   "cell_type": "code",
   "execution_count": null,
   "id": "5a2a7222-8b5f-4c97-8edf-746731c0098a",
   "metadata": {},
   "outputs": [],
   "source": [
    "fm_dict[99].corridor_metrics()"
   ]
  },
  {
   "cell_type": "code",
   "execution_count": null,
   "id": "24fab121-5d91-4cfe-996a-e6a64cfb7816",
   "metadata": {},
   "outputs": [],
   "source": [
    "fm_dict[99].quick_map_corridor()"
   ]
  },
  {
   "cell_type": "code",
   "execution_count": null,
   "id": "6284e03b-68c1-4aa4-97ee-a98ad772be1f",
   "metadata": {},
   "outputs": [],
   "source": [
    "hs_mammoth = fm_dict[99].corridor.copy()\n",
    "hotspots = [hs_mammoth]"
   ]
  },
  {
   "cell_type": "markdown",
   "id": "a1900fbc-872f-42a7-b515-821470f6b0e7",
   "metadata": {},
   "source": [
    "## Map Testing"
   ]
  },
  {
   "cell_type": "code",
   "execution_count": null,
   "id": "7e3895c2-c6af-4749-9313-cf3a3aea1b02",
   "metadata": {
    "tags": []
   },
   "outputs": [],
   "source": [
    "all_speed_segs = pd.concat(hs_speed_views)\n",
    "all_corr_segs = pd.concat(corr_speed_views)\n",
    "# full join to preserve all unique segments, since they can differ\n",
    "# from hotspot to corridor (or indeed across operators)\n",
    "all_segs = all_speed_segs >> full_join(_, all_corr_segs)"
   ]
  },
  {
   "cell_type": "code",
   "execution_count": null,
   "id": "639d80ed-69ae-49df-9703-f6b7e79d7748",
   "metadata": {},
   "outputs": [],
   "source": [
    "importlib.reload(bb_rt_helper)"
   ]
  },
  {
   "cell_type": "code",
   "execution_count": null,
   "id": "9381c82f-25a6-49e1-8425-7296e1b05b2d",
   "metadata": {},
   "outputs": [],
   "source": [
    "bb_rt_helper.bb_map_all(hotspots, [], all_segs, district = '09 - Bishop')"
   ]
  }
 ],
 "metadata": {
  "kernelspec": {
   "display_name": "Python 3 (ipykernel)",
   "language": "python",
   "name": "python3"
  },
  "language_info": {
   "codemirror_mode": {
    "name": "ipython",
    "version": 3
   },
   "file_extension": ".py",
   "mimetype": "text/x-python",
   "name": "python",
   "nbconvert_exporter": "python",
   "pygments_lexer": "ipython3",
   "version": "3.9.13"
  },
  "widgets": {
   "application/vnd.jupyter.widget-state+json": {
    "state": {},
    "version_major": 2,
    "version_minor": 0
   }
  }
 },
 "nbformat": 4,
 "nbformat_minor": 5
}
