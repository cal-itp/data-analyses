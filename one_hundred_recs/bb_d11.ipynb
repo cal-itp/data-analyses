{
 "cells": [
  {
   "cell_type": "code",
   "execution_count": null,
   "id": "dfd34249-60bc-4fdb-9495-4994d780f4de",
   "metadata": {},
   "outputs": [],
   "source": [
    "import os\n",
    "os.environ[\"CALITP_BQ_MAX_BYTES\"] = str(800_000_000_000)\n",
    "import shared_utils\n",
    "\n",
    "import geopandas as gpd\n",
    "import pandas as pd\n",
    "import folium \n",
    "import branca\n",
    "import datetime as dt\n",
    "from siuba import *\n",
    "from bus_service_utils import better_bus_utils\n",
    "\n",
    "from rt_analysis import rt_filter_map_plot\n",
    "\n",
    "ZERO_THIRTY_COLORSCALE = branca.colormap.step.RdYlGn_11.scale(vmin=0, vmax=35)"
   ]
  },
  {
   "cell_type": "code",
   "execution_count": null,
   "id": "dd589919-7dee-4652-9a01-56e394c7d18f",
   "metadata": {},
   "outputs": [],
   "source": [
    "import bb_rt_helper"
   ]
  },
  {
   "cell_type": "code",
   "execution_count": null,
   "id": "eae12c5f-b8a5-499b-a437-4365568678b9",
   "metadata": {},
   "outputs": [],
   "source": [
    "import importlib\n",
    "importlib.reload(bb_rt_helper)"
   ]
  },
  {
   "cell_type": "markdown",
   "id": "d96f214d-4dc2-481c-8db6-bf5a3fd1733c",
   "metadata": {},
   "source": [
    "# 100 Recs - D11"
   ]
  },
  {
   "cell_type": "markdown",
   "id": "473a6770-4fdf-45fb-bc38-c822c36a5066",
   "metadata": {},
   "source": [
    "## 1 - Corridor Improvements"
   ]
  },
  {
   "cell_type": "code",
   "execution_count": null,
   "id": "bb91eaad-02c8-40d3-a0cf-4167b0ce6127",
   "metadata": {},
   "outputs": [],
   "source": [
    "bb_rt_helper.fm_from_bbutils?"
   ]
  },
  {
   "cell_type": "code",
   "execution_count": null,
   "id": "81fa3274-bb4c-4f00-a10a-42587f6ec4b1",
   "metadata": {
    "tags": []
   },
   "outputs": [],
   "source": [
    "fm_dict = bb_rt_helper.fm_from_bbutils(ct_dist='11 - San Diego', category='corridor')"
   ]
  },
  {
   "cell_type": "code",
   "execution_count": null,
   "id": "e38acf30-31cc-4ce2-946c-82cb369968e0",
   "metadata": {},
   "outputs": [],
   "source": [
    "m_corr = fm_dict[278].segment_speed_map()"
   ]
  },
  {
   "cell_type": "code",
   "execution_count": null,
   "id": "97629cce-23fa-48e6-8bf7-d70e7af47a13",
   "metadata": {},
   "outputs": [],
   "source": [
    "m_corr"
   ]
  },
  {
   "cell_type": "markdown",
   "id": "21db3495-ccf9-4387-944f-e92766c423a9",
   "metadata": {},
   "source": [
    "## Draft Corridor Recs, SDMTS, D11\n",
    "\n",
    "* Entire Route 28 (nn mi, nn speed-based delay, nn schedule-based delay)\n",
    "* Route 10, Goldfinch to 54 ()\n",
    "    * paralleled by faster Rapid 215 E of Park\n",
    "* Route 27, Mission to Moraga\n",
    "* Route 12, Broadway to Euclid"
   ]
  },
  {
   "cell_type": "markdown",
   "id": "b7cbd2cc-7687-47a1-87cf-d53716be8039",
   "metadata": {},
   "source": [
    "## Route 28"
   ]
  },
  {
   "cell_type": "code",
   "execution_count": null,
   "id": "94fa6c92-4e45-4753-97c7-1ff505bcc291",
   "metadata": {},
   "outputs": [],
   "source": [
    "shape_id = '28_2_48'\n",
    "stop_range = [2, 18]"
   ]
  },
  {
   "cell_type": "code",
   "execution_count": null,
   "id": "5426411d-f0c2-477a-8c07-b93e5c2f256a",
   "metadata": {},
   "outputs": [],
   "source": [
    "fm_dict[278].autocorridor(shape_id=shape_id, stop_seq_range=stop_range)"
   ]
  },
  {
   "cell_type": "code",
   "execution_count": null,
   "id": "63e8273f-d570-4bf9-b8c7-ec647111b686",
   "metadata": {},
   "outputs": [],
   "source": [
    "fm_dict[278].reset_filter()"
   ]
  },
  {
   "cell_type": "code",
   "execution_count": null,
   "id": "976e3fd1-0652-41d8-a24c-a03f946ed660",
   "metadata": {},
   "outputs": [],
   "source": [
    "fm_dict[278].corridor_metrics()"
   ]
  },
  {
   "cell_type": "code",
   "execution_count": null,
   "id": "d3d6d84e-12b7-4c93-8839-e63f998245d7",
   "metadata": {},
   "outputs": [],
   "source": [
    "fm_dict[278].quick_map_corridor()"
   ]
  },
  {
   "cell_type": "code",
   "execution_count": null,
   "id": "bffa8cf2-a0b4-4cbc-a361-1c69f0ddabc9",
   "metadata": {},
   "outputs": [],
   "source": [
    "corr_28 = fm_dict[278].corridor.copy()"
   ]
  },
  {
   "cell_type": "code",
   "execution_count": null,
   "id": "0b57fb50-a750-4349-b111-4b47167f48c7",
   "metadata": {},
   "outputs": [],
   "source": [
    "corridors = [corr_28]"
   ]
  },
  {
   "cell_type": "markdown",
   "id": "35da186e-0c6b-4103-bbe3-bc0af1bad6d6",
   "metadata": {
    "tags": []
   },
   "source": [
    "## Route 10"
   ]
  },
  {
   "cell_type": "code",
   "execution_count": null,
   "id": "db0c28ac-8134-495c-85cd-2a432a551131",
   "metadata": {},
   "outputs": [],
   "source": [
    "shape_id = '10_2_68'\n",
    "stop_range = [6, 21]"
   ]
  },
  {
   "cell_type": "code",
   "execution_count": null,
   "id": "1e07c399-963a-42ca-9fd2-a4763e2bd83e",
   "metadata": {},
   "outputs": [],
   "source": [
    "fm_dict[278].autocorridor(shape_id=shape_id, stop_seq_range=stop_range)"
   ]
  },
  {
   "cell_type": "code",
   "execution_count": null,
   "id": "66d227f7-246e-47ed-a392-bec8665a70e8",
   "metadata": {},
   "outputs": [],
   "source": [
    "fm_dict[278].reset_filter()"
   ]
  },
  {
   "cell_type": "code",
   "execution_count": null,
   "id": "79afd8b4-c55d-4dcd-a9f6-2be76453b053",
   "metadata": {},
   "outputs": [],
   "source": [
    "fm_dict[278].corridor_metrics()"
   ]
  },
  {
   "cell_type": "code",
   "execution_count": null,
   "id": "db25352d-aef8-4573-b050-9e3b7ae0b9a2",
   "metadata": {},
   "outputs": [],
   "source": [
    "fm_dict[278].quick_map_corridor()"
   ]
  },
  {
   "cell_type": "code",
   "execution_count": null,
   "id": "4ddfb1eb-34a5-49fc-b905-11e787ae5b21",
   "metadata": {},
   "outputs": [],
   "source": [
    "corr_10 = fm_dict[278].corridor.copy()\n",
    "corridors += [corr_10]"
   ]
  },
  {
   "cell_type": "markdown",
   "id": "8cc35600-8e85-4f62-bc29-80d57cfeb476",
   "metadata": {},
   "source": [
    "## Route 27"
   ]
  },
  {
   "cell_type": "code",
   "execution_count": null,
   "id": "1d4a0df4-c5d3-4272-a733-0104a61e78d7",
   "metadata": {},
   "outputs": [],
   "source": [
    "shape_id = '27_2_81'\n",
    "stop_range = [3, 16]"
   ]
  },
  {
   "cell_type": "code",
   "execution_count": null,
   "id": "4fcd60f7-26cc-4e1c-8a60-51d1243d1316",
   "metadata": {},
   "outputs": [],
   "source": [
    "fm_dict[278].autocorridor(shape_id=shape_id, stop_seq_range=stop_range)"
   ]
  },
  {
   "cell_type": "code",
   "execution_count": null,
   "id": "fa67061f-ba23-465e-863f-ac45d16212e9",
   "metadata": {},
   "outputs": [],
   "source": [
    "fm_dict[278].reset_filter()"
   ]
  },
  {
   "cell_type": "code",
   "execution_count": null,
   "id": "e40cab2e-23e7-474d-94a7-6818cf607b88",
   "metadata": {},
   "outputs": [],
   "source": [
    "fm_dict[278].corridor_metrics()"
   ]
  },
  {
   "cell_type": "code",
   "execution_count": null,
   "id": "3eae5cb9-c1b1-4ddf-bb17-58f35e7301ef",
   "metadata": {},
   "outputs": [],
   "source": [
    "fm_dict[278].quick_map_corridor()"
   ]
  },
  {
   "cell_type": "code",
   "execution_count": null,
   "id": "7473ad77-65e9-45e6-b590-b056151f4527",
   "metadata": {},
   "outputs": [],
   "source": [
    "corr_27 = fm_dict[278].corridor.copy()\n",
    "corridors += [corr_27]"
   ]
  },
  {
   "cell_type": "markdown",
   "id": "5e47b1c3-3686-4b68-9ab7-a851d0b788dc",
   "metadata": {},
   "source": [
    "## Route 12"
   ]
  },
  {
   "cell_type": "code",
   "execution_count": null,
   "id": "dd807697-3145-4175-a00e-f8e688379839",
   "metadata": {},
   "outputs": [],
   "source": [
    "shape_id = '12_2_13'\n",
    "stop_range = [3, 31]"
   ]
  },
  {
   "cell_type": "code",
   "execution_count": null,
   "id": "c7ba7adc-53e7-46f4-93f4-bb8b04af44df",
   "metadata": {},
   "outputs": [],
   "source": [
    "fm_dict[278].autocorridor(shape_id=shape_id, stop_seq_range=stop_range)"
   ]
  },
  {
   "cell_type": "code",
   "execution_count": null,
   "id": "0d67a426-6f9d-43ca-982a-7c1fa76a4e16",
   "metadata": {},
   "outputs": [],
   "source": [
    "fm_dict[278].set_filter(route_names=['12'])"
   ]
  },
  {
   "cell_type": "code",
   "execution_count": null,
   "id": "33786e31-4e19-41ae-9228-5e9f2cff2d35",
   "metadata": {},
   "outputs": [],
   "source": [
    "fm_dict[278].corridor_metrics()"
   ]
  },
  {
   "cell_type": "code",
   "execution_count": null,
   "id": "76951d78-8e49-4a45-932d-798f18fac8f3",
   "metadata": {},
   "outputs": [],
   "source": [
    "fm_dict[278].quick_map_corridor()"
   ]
  },
  {
   "cell_type": "code",
   "execution_count": null,
   "id": "b1e7468b-d222-4271-8b08-5e5471d45955",
   "metadata": {},
   "outputs": [],
   "source": [
    "corr_12 = fm_dict[278].corridor.copy()\n",
    "corridors += [corr_12]"
   ]
  },
  {
   "cell_type": "markdown",
   "id": "eb61fbec-2b49-4a0e-9c58-54fc989f8508",
   "metadata": {},
   "source": [
    "# Corridor Map"
   ]
  },
  {
   "cell_type": "code",
   "execution_count": null,
   "id": "ccaf35b5-82ba-4b6d-bbea-3ada25e3c4c9",
   "metadata": {},
   "outputs": [],
   "source": [
    "m2 = pd.concat(corridors).explore()"
   ]
  },
  {
   "cell_type": "markdown",
   "id": "2e103c2c-6e10-4858-80e0-2ed7714ae2f1",
   "metadata": {},
   "source": [
    "## 2 - Hotspot Improvements"
   ]
  },
  {
   "cell_type": "code",
   "execution_count": null,
   "id": "3f5da3a1-57a8-47f0-ae76-8786dd61d60d",
   "metadata": {},
   "outputs": [],
   "source": [
    "fm_dict = bb_rt_helper.fm_from_bbutils(ct_dist='11 - San Diego', category='hotspot', fm_dict = fm_dict)"
   ]
  },
  {
   "cell_type": "code",
   "execution_count": null,
   "id": "42ecf893-4598-4e79-b34f-6ac58848e16a",
   "metadata": {},
   "outputs": [],
   "source": [
    "m_hs = fm_dict[278].segment_speed_map()"
   ]
  },
  {
   "cell_type": "code",
   "execution_count": null,
   "id": "98e25036-96d1-4e6e-b7e3-92952af0499c",
   "metadata": {},
   "outputs": [],
   "source": [
    "m_hs"
   ]
  },
  {
   "cell_type": "markdown",
   "id": "be40a4e3-02a2-49a5-8b86-a6e0a7129288",
   "metadata": {},
   "source": [
    "# Draft Hotspot Recs, SDMTS, D11"
   ]
  },
  {
   "cell_type": "markdown",
   "id": "133ab2fb-5c39-46c4-ad5e-e6187f0aadfa",
   "metadata": {},
   "source": [
    "## Route 27 (Genesee)"
   ]
  },
  {
   "cell_type": "code",
   "execution_count": null,
   "id": "48770b53-f985-44e8-aa2c-04803887f98c",
   "metadata": {},
   "outputs": [],
   "source": [
    "shape_id = '27_2_81'\n",
    "stop_range = [19, 23]"
   ]
  },
  {
   "cell_type": "code",
   "execution_count": null,
   "id": "5f162600-c64b-4dc1-ba82-aa4f5e9a6d29",
   "metadata": {},
   "outputs": [],
   "source": [
    "fm_dict[278].reset_filter()"
   ]
  },
  {
   "cell_type": "code",
   "execution_count": null,
   "id": "fe52b350-147e-4f50-9bde-adc53a78c39d",
   "metadata": {},
   "outputs": [],
   "source": [
    "fm_dict[278].autocorridor(shape_id=shape_id, stop_seq_range=stop_range)"
   ]
  },
  {
   "cell_type": "code",
   "execution_count": null,
   "id": "5a2a7222-8b5f-4c97-8edf-746731c0098a",
   "metadata": {},
   "outputs": [],
   "source": [
    "fm_dict[278].corridor_metrics()"
   ]
  },
  {
   "cell_type": "code",
   "execution_count": null,
   "id": "24fab121-5d91-4cfe-996a-e6a64cfb7816",
   "metadata": {},
   "outputs": [],
   "source": [
    "fm_dict[278].quick_map_corridor()"
   ]
  },
  {
   "cell_type": "code",
   "execution_count": null,
   "id": "6284e03b-68c1-4aa4-97ee-a98ad772be1f",
   "metadata": {},
   "outputs": [],
   "source": [
    "hs_27 = fm_dict[278].corridor.copy()\n",
    "hotspots = [hs_27]"
   ]
  },
  {
   "cell_type": "markdown",
   "id": "b11234f7-8d3d-4c6d-b207-a8b90c46b60a",
   "metadata": {
    "tags": []
   },
   "source": [
    "## Route 10 (I-5)"
   ]
  },
  {
   "cell_type": "code",
   "execution_count": null,
   "id": "f0faa177-ea01-4812-88f4-83ca27d2db81",
   "metadata": {},
   "outputs": [],
   "source": [
    "shape_id = '10_3_67'\n",
    "stop_range = [21, 22]"
   ]
  },
  {
   "cell_type": "code",
   "execution_count": null,
   "id": "74d30d71-a539-4246-a3a7-3f87a3c4ba5f",
   "metadata": {},
   "outputs": [],
   "source": [
    "fm_dict[278].reset_filter()"
   ]
  },
  {
   "cell_type": "code",
   "execution_count": null,
   "id": "84437fa8-75dc-44f7-8e1e-799173be778e",
   "metadata": {},
   "outputs": [],
   "source": [
    "fm_dict[278].autocorridor(shape_id=shape_id, stop_seq_range=stop_range)"
   ]
  },
  {
   "cell_type": "code",
   "execution_count": null,
   "id": "2434b68a-8128-442c-9d93-7eca6e2d8377",
   "metadata": {},
   "outputs": [],
   "source": [
    "fm_dict[278].corridor_metrics()"
   ]
  },
  {
   "cell_type": "code",
   "execution_count": null,
   "id": "a2dac5b4-88de-4bfd-8eb3-1af83a76808b",
   "metadata": {},
   "outputs": [],
   "source": [
    "fm_dict[278].quick_map_corridor()"
   ]
  },
  {
   "cell_type": "code",
   "execution_count": null,
   "id": "5e547a3f-7fa7-41dc-a974-97d495e7c9ce",
   "metadata": {},
   "outputs": [],
   "source": [
    "hs_10 = fm_dict[278].corridor.copy()\n",
    "hotspots += [hs_10]"
   ]
  },
  {
   "cell_type": "markdown",
   "id": "9bfc87a2-0b95-45fe-94ec-2e0c43edbcea",
   "metadata": {
    "tags": []
   },
   "source": [
    "## Route 14 (I-8)"
   ]
  },
  {
   "cell_type": "code",
   "execution_count": null,
   "id": "ccbbaac5-3ecd-4461-8238-072686cf32e2",
   "metadata": {},
   "outputs": [],
   "source": [
    "shape_id = '14_2_96'\n",
    "stop_range = [28, 29]"
   ]
  },
  {
   "cell_type": "code",
   "execution_count": null,
   "id": "56caba7a-8ff7-4eb4-820d-23108b998bac",
   "metadata": {},
   "outputs": [],
   "source": [
    "fm_dict[278].reset_filter()"
   ]
  },
  {
   "cell_type": "code",
   "execution_count": null,
   "id": "3dea4376-65dd-4043-a767-f7c2845337d2",
   "metadata": {},
   "outputs": [],
   "source": [
    "fm_dict[278].autocorridor(shape_id=shape_id, stop_seq_range=stop_range)"
   ]
  },
  {
   "cell_type": "code",
   "execution_count": null,
   "id": "074b6189-d9f5-49e3-bbbc-0709ef1e33d9",
   "metadata": {},
   "outputs": [],
   "source": [
    "fm_dict[278].corridor_metrics()"
   ]
  },
  {
   "cell_type": "code",
   "execution_count": null,
   "id": "ba361e6a-55a1-4033-93b4-bc9012b516e5",
   "metadata": {},
   "outputs": [],
   "source": [
    "fm_dict[278].quick_map_corridor()"
   ]
  },
  {
   "cell_type": "code",
   "execution_count": null,
   "id": "6da65ee8-d6ff-427d-b186-84fac0109607",
   "metadata": {},
   "outputs": [],
   "source": [
    "hs_14 = fm_dict[278].corridor.copy()\n",
    "hotspots += [hs_14]"
   ]
  },
  {
   "cell_type": "code",
   "execution_count": null,
   "id": "a9b697dd-3f2a-4251-998a-b65d2dcae023",
   "metadata": {},
   "outputs": [],
   "source": [
    "m = pd.concat(hotspots).explore(tiles = 'CartoDB positron')"
   ]
  }
 ],
 "metadata": {
  "kernelspec": {
   "display_name": "Python 3 (ipykernel)",
   "language": "python",
   "name": "python3"
  },
  "language_info": {
   "codemirror_mode": {
    "name": "ipython",
    "version": 3
   },
   "file_extension": ".py",
   "mimetype": "text/x-python",
   "name": "python",
   "nbconvert_exporter": "python",
   "pygments_lexer": "ipython3",
   "version": "3.9.13"
  },
  "widgets": {
   "application/vnd.jupyter.widget-state+json": {
    "state": {},
    "version_major": 2,
    "version_minor": 0
   }
  }
 },
 "nbformat": 4,
 "nbformat_minor": 5
}
