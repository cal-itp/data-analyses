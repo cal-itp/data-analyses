{
 "cells": [
  {
   "cell_type": "code",
   "execution_count": null,
   "id": "dfd34249-60bc-4fdb-9495-4994d780f4de",
   "metadata": {},
   "outputs": [],
   "source": [
    "import os\n",
    "os.environ[\"CALITP_BQ_MAX_BYTES\"] = str(800_000_000_000)\n",
    "import shared_utils\n",
    "\n",
    "import geopandas as gpd\n",
    "import pandas as pd\n",
    "import folium \n",
    "import branca\n",
    "import datetime as dt\n",
    "from siuba import *\n",
    "from bus_service_utils import better_bus_utils\n",
    "\n",
    "from rt_analysis import rt_filter_map_plot\n",
    "\n",
    "ZERO_THIRTY_COLORSCALE = branca.colormap.step.RdYlGn_11.scale(vmin=0, vmax=35)"
   ]
  },
  {
   "cell_type": "code",
   "execution_count": null,
   "id": "33858361-d8e4-4428-af34-57581c1d9882",
   "metadata": {},
   "outputs": [],
   "source": [
    "import intake\n",
    "catalog = intake.open_catalog('../bus_service_increase/catalog.yml')"
   ]
  },
  {
   "cell_type": "code",
   "execution_count": null,
   "id": "3a7beaef-4940-42db-aa63-a450d6b416da",
   "metadata": {},
   "outputs": [],
   "source": [
    "hwys = catalog.state_highway_network.read()"
   ]
  },
  {
   "cell_type": "code",
   "execution_count": null,
   "id": "8eebe657-5010-4a97-b2b6-d8a07358510b",
   "metadata": {},
   "outputs": [],
   "source": [
    "hwys.shape"
   ]
  },
  {
   "cell_type": "markdown",
   "id": "d96f214d-4dc2-481c-8db6-bf5a3fd1733c",
   "metadata": {},
   "source": [
    "# 100 Recs - D11"
   ]
  },
  {
   "cell_type": "markdown",
   "id": "473a6770-4fdf-45fb-bc38-c822c36a5066",
   "metadata": {},
   "source": [
    "## 1 - Corridor Improvements"
   ]
  },
  {
   "cell_type": "code",
   "execution_count": null,
   "id": "69bca181-b241-416f-8442-3a5d3328c7d6",
   "metadata": {},
   "outputs": [],
   "source": [
    "corridor_gdf_d11 = ((better_bus_utils.get_sorted_transit_routes(recommendation_category=\"corridor\"))\n",
    "                   >>filter(_.caltrans_district==\"11 - San Diego\")\n",
    "                   >>head(10) #get top 10\n",
    "                  )"
   ]
  },
  {
   "cell_type": "code",
   "execution_count": null,
   "id": "ccc20cb3-2c24-43a5-9452-4938104c2525",
   "metadata": {},
   "outputs": [],
   "source": [
    "corridor_gdf_d11"
   ]
  },
  {
   "cell_type": "code",
   "execution_count": null,
   "id": "f70faf71-4f0b-403c-a510-1c5bdb337665",
   "metadata": {},
   "outputs": [],
   "source": [
    "#corridor_gdf >> count(_.caltrans_district)"
   ]
  },
  {
   "cell_type": "code",
   "execution_count": null,
   "id": "0002106f-6373-4214-9c3f-c25d63c528ee",
   "metadata": {},
   "outputs": [],
   "source": [
    "corridor_gdf_d11 >> distinct(_.calitp_itp_id)"
   ]
  },
  {
   "cell_type": "code",
   "execution_count": null,
   "id": "61694e1d-61c2-4867-86a9-2e466a5e33a0",
   "metadata": {},
   "outputs": [],
   "source": [
    "corridor_d11 = (corridor_gdf_d11\n",
    "               >> select(-_.service_date)\n",
    "              )\n",
    "\n",
    "corridor_d11.explore(\"route_id\", legend=True, tiles=\"CartoDB positron\")"
   ]
  },
  {
   "cell_type": "code",
   "execution_count": null,
   "id": "43eb03ff-d17d-4be9-b510-81115b4ba279",
   "metadata": {},
   "outputs": [],
   "source": [
    "# for each transit operator, generate rtfiltermapper\n",
    "sdmts = rt_filter_map_plot.from_gcs(itp_id=278, analysis_date=dt.date(2022,10,12))\n",
    "sdmts.rt_trips >> head(5)"
   ]
  },
  {
   "cell_type": "code",
   "execution_count": null,
   "id": "b3ad14be-5032-4f68-9dfa-28d13356b670",
   "metadata": {},
   "outputs": [],
   "source": [
    "# get small df of route_id and route_short_name from rt_trips\n",
    "d11_routenames = (sdmts.rt_trips\n",
    "                 >> count(_.route_id, _.route_short_name, _.route_long_name)\n",
    "                 >> select(-_.n)\n",
    "                )\n",
    "\n",
    "d11_routenames >> head(5)"
   ]
  },
  {
   "cell_type": "code",
   "execution_count": null,
   "id": "d28e8215-2872-4986-b340-c97ce647ab51",
   "metadata": {},
   "outputs": [],
   "source": [
    "# inner join w gdf of slow routes\n",
    "corridor_d11_names = (corridor_d11\n",
    "                     >> inner_join(_,d11_routenames)\n",
    "                    )\n",
    "\n",
    "corridor_d11_names"
   ]
  },
  {
   "cell_type": "code",
   "execution_count": null,
   "id": "08f41003-bee2-480b-8609-9ff3b5f506a3",
   "metadata": {},
   "outputs": [],
   "source": [
    "# pass the route names as a filter parameter\n",
    "routename_list_c = corridor_d11_names[\"route_short_name\"].tolist()\n",
    "routename_list_c"
   ]
  },
  {
   "cell_type": "code",
   "execution_count": null,
   "id": "04a8968a-d1d6-4496-9b4f-8380a043bbd7",
   "metadata": {},
   "outputs": [],
   "source": [
    "sdmts.set_filter(start_time='06:00', end_time='09:00', route_names = routename_list_c)"
   ]
  },
  {
   "cell_type": "code",
   "execution_count": null,
   "id": "fc428d5a-74c5-4035-979f-2152cbef7d1e",
   "metadata": {},
   "outputs": [],
   "source": [
    "am = sdmts.segment_speed_map()"
   ]
  },
  {
   "cell_type": "code",
   "execution_count": null,
   "id": "01ab2b41-1183-4aec-a097-9f8b1afec59b",
   "metadata": {},
   "outputs": [],
   "source": [
    "am"
   ]
  },
  {
   "cell_type": "code",
   "execution_count": null,
   "id": "4624c18e-1e35-4c25-b202-2535fa7dac41",
   "metadata": {},
   "outputs": [],
   "source": [
    "sdmts.set_filter(start_time='15:00', end_time='19:00', route_names = routename_list_c)"
   ]
  },
  {
   "cell_type": "code",
   "execution_count": null,
   "id": "eeb34849-5d91-46b1-9016-be7ac4533a79",
   "metadata": {},
   "outputs": [],
   "source": [
    "sdmts.segment_speed_map()"
   ]
  },
  {
   "cell_type": "code",
   "execution_count": null,
   "id": "1d4a0df4-c5d3-4272-a733-0104a61e78d7",
   "metadata": {},
   "outputs": [],
   "source": [
    "shape_id = '27_3_87'\n",
    "stop_range = [16, 31]"
   ]
  },
  {
   "cell_type": "code",
   "execution_count": null,
   "id": "4fcd60f7-26cc-4e1c-8a60-51d1243d1316",
   "metadata": {},
   "outputs": [],
   "source": [
    "sdmts.autocorridor(shape_id=shape_id, stop_seq_range=stop_range)"
   ]
  },
  {
   "cell_type": "code",
   "execution_count": null,
   "id": "fa67061f-ba23-465e-863f-ac45d16212e9",
   "metadata": {},
   "outputs": [],
   "source": [
    "sdmts.set_filter(route_names=['27'])"
   ]
  },
  {
   "cell_type": "code",
   "execution_count": null,
   "id": "e40cab2e-23e7-474d-94a7-6818cf607b88",
   "metadata": {},
   "outputs": [],
   "source": [
    "sdmts.corridor_metrics()"
   ]
  },
  {
   "cell_type": "code",
   "execution_count": null,
   "id": "3eae5cb9-c1b1-4ddf-bb17-58f35e7301ef",
   "metadata": {},
   "outputs": [],
   "source": [
    "sdmts.quick_map_corridor()"
   ]
  },
  {
   "cell_type": "markdown",
   "id": "21db3495-ccf9-4387-944f-e92766c423a9",
   "metadata": {},
   "source": [
    "## Draft Corridor Recs, SDMTS, D11\n",
    "\n",
    "* Entire Route 28 (nn mi, nn speed-based delay, nn schedule-based delay)\n",
    "* Route 10, Goldfinch to 54 ()\n",
    "    * paralleled by faster Rapid 215 E of Park\n",
    "* Route 27, Mission to Moraga\n",
    "* "
   ]
  },
  {
   "cell_type": "markdown",
   "id": "2e103c2c-6e10-4858-80e0-2ed7714ae2f1",
   "metadata": {},
   "source": [
    "## 2 - Hotspot Improvements"
   ]
  },
  {
   "cell_type": "code",
   "execution_count": null,
   "id": "3058578a-c687-49d5-ba8e-561ba29dce9a",
   "metadata": {},
   "outputs": [],
   "source": [
    "hotspot_gdf_d11 = ((better_bus_utils.get_sorted_transit_routes(recommendation_category=\"hotspot\"))\n",
    "                   >>filter(_.caltrans_district==\"11 - San Diego\")\n",
    "                   >>head(10) #get top 10\n",
    "                  )"
   ]
  },
  {
   "cell_type": "code",
   "execution_count": null,
   "id": "3c047503-ab48-4c39-9404-02cf629fb46a",
   "metadata": {},
   "outputs": [],
   "source": [
    "hotspot_gdf_d11"
   ]
  },
  {
   "cell_type": "code",
   "execution_count": null,
   "id": "f770d278-0499-4af4-9d6a-e5c1f83c3f13",
   "metadata": {},
   "outputs": [],
   "source": [
    "hotspot_gdf_d11 = (hotspot_gdf_d11\n",
    "               >> select(-_.service_date)\n",
    "              )\n",
    "\n",
    "hotspot_gdf_d11.explore(\"route_id\", legend=True, tiles=\"CartoDB positron\")"
   ]
  },
  {
   "cell_type": "code",
   "execution_count": null,
   "id": "23b2ab7b-d787-419f-93cb-8fe033fb9289",
   "metadata": {},
   "outputs": [],
   "source": [
    "# inner join w gdf of slow routes\n",
    "hotspot_d8_names = (hotspot_gdf_d8\n",
    "                     >> inner_join(_,D8_routenames)\n",
    "                    )\n",
    "\n",
    "hotspot_d8_names"
   ]
  },
  {
   "cell_type": "code",
   "execution_count": null,
   "id": "3ff44f1d-8a1f-4381-b8d6-622c1f6d1c54",
   "metadata": {},
   "outputs": [],
   "source": [
    "# pass the route names as a filter parameter\n",
    "routename_list_hs = hotspot_d8_names[\"route_short_name\"].tolist()\n",
    "routename_list_hs"
   ]
  },
  {
   "cell_type": "code",
   "execution_count": null,
   "id": "c00d5726-e633-4550-8372-12874cba30b7",
   "metadata": {},
   "outputs": [],
   "source": [
    "D8_filtermapper.reset_filter()"
   ]
  },
  {
   "cell_type": "code",
   "execution_count": null,
   "id": "a1eb8c31-542f-4ab9-bb2f-c2d5d2e4f212",
   "metadata": {},
   "outputs": [],
   "source": [
    "# corridor metrics for Route 24 (most linear route)\n",
    "# constructed at geojson.io \n",
    "corridor_r24 = gpd.read_file('./corridors/d8_oldtown_temecula.geojson')\n",
    "D8_filtermapper.add_corridor(corridor_r24)\n",
    "D8_filtermapper.quick_map_corridor()"
   ]
  },
  {
   "cell_type": "code",
   "execution_count": null,
   "id": "965c2e33-b6da-4b7e-9a33-b398f110294f",
   "metadata": {},
   "outputs": [],
   "source": [
    "D8_filtermapper.set_filter(route_names = routename_list_hs)"
   ]
  },
  {
   "cell_type": "code",
   "execution_count": null,
   "id": "e540c09c-2ee1-4c39-a8c1-29c6d9c4eefd",
   "metadata": {},
   "outputs": [],
   "source": [
    "# make maps etc - mapping with the hotspot didn't return both ways of traffic\n",
    "m = D8_filtermapper.segment_speed_map(corridor=False)\n",
    "m"
   ]
  },
  {
   "cell_type": "code",
   "execution_count": null,
   "id": "be166b28-3bae-4a1a-b58e-e701f2ba07e3",
   "metadata": {},
   "outputs": [],
   "source": [
    "D8_filtermapper.corridor_metrics()"
   ]
  },
  {
   "cell_type": "code",
   "execution_count": null,
   "id": "515f9c6f-a2d2-4764-bd25-817e1ae3f6f8",
   "metadata": {},
   "outputs": [],
   "source": [
    "D8_filtermapper.rt_trips >> filter(_.route_id==\"24\")"
   ]
  },
  {
   "cell_type": "code",
   "execution_count": null,
   "id": "76241457-4722-43d4-ad1c-dcf9dc0a777f",
   "metadata": {},
   "outputs": [],
   "source": []
  }
 ],
 "metadata": {
  "kernelspec": {
   "display_name": "Python 3 (ipykernel)",
   "language": "python",
   "name": "python3"
  },
  "language_info": {
   "codemirror_mode": {
    "name": "ipython",
    "version": 3
   },
   "file_extension": ".py",
   "mimetype": "text/x-python",
   "name": "python",
   "nbconvert_exporter": "python",
   "pygments_lexer": "ipython3",
   "version": "3.9.13"
  },
  "widgets": {
   "application/vnd.jupyter.widget-state+json": {
    "state": {},
    "version_major": 2,
    "version_minor": 0
   }
  }
 },
 "nbformat": 4,
 "nbformat_minor": 5
}
