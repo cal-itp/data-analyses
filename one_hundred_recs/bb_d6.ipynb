{
 "cells": [
  {
   "cell_type": "code",
   "execution_count": 2,
   "id": "dfd34249-60bc-4fdb-9495-4994d780f4de",
   "metadata": {},
   "outputs": [
    {
     "ename": "FileNotFoundError",
     "evalue": "calitp-analytics-data/data-analyses/ca_county_centroids.parquet",
     "output_type": "error",
     "traceback": [
      "\u001b[0;31m---------------------------------------------------------------------------\u001b[0m",
      "\u001b[0;31mFileNotFoundError\u001b[0m                         Traceback (most recent call last)",
      "Cell \u001b[0;32mIn[2], line 3\u001b[0m\n\u001b[1;32m      1\u001b[0m \u001b[38;5;28;01mimport\u001b[39;00m \u001b[38;5;21;01mos\u001b[39;00m\n\u001b[1;32m      2\u001b[0m os\u001b[38;5;241m.\u001b[39menviron[\u001b[38;5;124m\"\u001b[39m\u001b[38;5;124mCALITP_BQ_MAX_BYTES\u001b[39m\u001b[38;5;124m\"\u001b[39m] \u001b[38;5;241m=\u001b[39m \u001b[38;5;28mstr\u001b[39m(\u001b[38;5;241m800_000_000_000\u001b[39m)\n\u001b[0;32m----> 3\u001b[0m \u001b[38;5;28;01mimport\u001b[39;00m \u001b[38;5;21;01mshared_utils\u001b[39;00m\n\u001b[1;32m      5\u001b[0m \u001b[38;5;28;01mimport\u001b[39;00m \u001b[38;5;21;01mgeopandas\u001b[39;00m \u001b[38;5;28;01mas\u001b[39;00m \u001b[38;5;21;01mgpd\u001b[39;00m\n\u001b[1;32m      6\u001b[0m \u001b[38;5;28;01mimport\u001b[39;00m \u001b[38;5;21;01mpandas\u001b[39;00m \u001b[38;5;28;01mas\u001b[39;00m \u001b[38;5;21;01mpd\u001b[39;00m\n",
      "File \u001b[0;32m~/data-analyses/_shared_utils/shared_utils/__init__.py:1\u001b[0m\n\u001b[0;32m----> 1\u001b[0m \u001b[38;5;28;01mfrom\u001b[39;00m \u001b[38;5;21;01m.\u001b[39;00m \u001b[38;5;28;01mimport\u001b[39;00m (\n\u001b[1;32m      2\u001b[0m     calitp_color_palette,\n\u001b[1;32m      3\u001b[0m     geography_utils,\n\u001b[1;32m      4\u001b[0m     gtfs_utils,\n\u001b[1;32m      5\u001b[0m     gtfs_utils_v2,\n\u001b[1;32m      6\u001b[0m     map_utils,\n\u001b[1;32m      7\u001b[0m     portfolio_utils,\n\u001b[1;32m      8\u001b[0m     rt_dates,\n\u001b[1;32m      9\u001b[0m     rt_utils,\n\u001b[1;32m     10\u001b[0m     styleguide,\n\u001b[1;32m     11\u001b[0m     utils,\n\u001b[1;32m     12\u001b[0m )\n\u001b[1;32m     14\u001b[0m __all__ \u001b[38;5;241m=\u001b[39m [\n\u001b[1;32m     15\u001b[0m     \u001b[38;5;124m\"\u001b[39m\u001b[38;5;124mcalitp_color_palette\u001b[39m\u001b[38;5;124m\"\u001b[39m,\n\u001b[1;32m     16\u001b[0m     \u001b[38;5;124m\"\u001b[39m\u001b[38;5;124mgeography_utils\u001b[39m\u001b[38;5;124m\"\u001b[39m,\n\u001b[0;32m   (...)\u001b[0m\n\u001b[1;32m     24\u001b[0m     \u001b[38;5;124m\"\u001b[39m\u001b[38;5;124mutils\u001b[39m\u001b[38;5;124m\"\u001b[39m,\n\u001b[1;32m     25\u001b[0m ]\n",
      "File \u001b[0;32m~/data-analyses/_shared_utils/shared_utils/gtfs_utils.py:17\u001b[0m\n\u001b[1;32m     15\u001b[0m \u001b[38;5;28;01mfrom\u001b[39;00m \u001b[38;5;21;01mcalitp\u001b[39;00m \u001b[38;5;28;01mimport\u001b[39;00m query_sql\n\u001b[1;32m     16\u001b[0m \u001b[38;5;28;01mfrom\u001b[39;00m \u001b[38;5;21;01mcalitp\u001b[39;00m\u001b[38;5;21;01m.\u001b[39;00m\u001b[38;5;21;01mtables\u001b[39;00m \u001b[38;5;28;01mimport\u001b[39;00m tbls\n\u001b[0;32m---> 17\u001b[0m \u001b[38;5;28;01mfrom\u001b[39;00m \u001b[38;5;21;01mshared_utils\u001b[39;00m \u001b[38;5;28;01mimport\u001b[39;00m geography_utils, rt_utils, utils\n\u001b[1;32m     18\u001b[0m \u001b[38;5;28;01mfrom\u001b[39;00m \u001b[38;5;21;01msiuba\u001b[39;00m \u001b[38;5;28;01mimport\u001b[39;00m \u001b[38;5;241m*\u001b[39m\n\u001b[1;32m     20\u001b[0m GCS_PROJECT \u001b[38;5;241m=\u001b[39m \u001b[38;5;124m\"\u001b[39m\u001b[38;5;124mcal-itp-data-infra\u001b[39m\u001b[38;5;124m\"\u001b[39m\n",
      "File \u001b[0;32m~/data-analyses/_shared_utils/shared_utils/rt_utils.py:18\u001b[0m\n\u001b[1;32m     16\u001b[0m \u001b[38;5;28;01mfrom\u001b[39;00m \u001b[38;5;21;01mcalitp\u001b[39;00m \u001b[38;5;28;01mimport\u001b[39;00m query_sql\n\u001b[1;32m     17\u001b[0m \u001b[38;5;28;01mfrom\u001b[39;00m \u001b[38;5;21;01mnumba\u001b[39;00m \u001b[38;5;28;01mimport\u001b[39;00m jit\n\u001b[0;32m---> 18\u001b[0m \u001b[38;5;28;01mfrom\u001b[39;00m \u001b[38;5;21;01mshared_utils\u001b[39;00m \u001b[38;5;28;01mimport\u001b[39;00m geography_utils, gtfs_utils, map_utils, utils\n\u001b[1;32m     19\u001b[0m \u001b[38;5;28;01mfrom\u001b[39;00m \u001b[38;5;21;01msiuba\u001b[39;00m \u001b[38;5;28;01mimport\u001b[39;00m \u001b[38;5;241m*\u001b[39m\n\u001b[1;32m     21\u001b[0m \u001b[38;5;66;03m# from zoneinfo import ZoneInfo\u001b[39;00m\n\u001b[1;32m     22\u001b[0m \u001b[38;5;66;03m# import warnings\u001b[39;00m\n",
      "File \u001b[0;32m~/data-analyses/_shared_utils/shared_utils/map_utils.py:24\u001b[0m\n\u001b[1;32m     17\u001b[0m     region_centroids \u001b[38;5;241m=\u001b[39m \u001b[38;5;28mdict\u001b[39m(\n\u001b[1;32m     18\u001b[0m         \u001b[38;5;28mzip\u001b[39m(df\u001b[38;5;241m.\u001b[39mcounty_name, df[[\u001b[38;5;124m\"\u001b[39m\u001b[38;5;124mcentroid\u001b[39m\u001b[38;5;124m\"\u001b[39m, \u001b[38;5;124m\"\u001b[39m\u001b[38;5;124mzoom\u001b[39m\u001b[38;5;124m\"\u001b[39m]]\u001b[38;5;241m.\u001b[39mto_dict(orient\u001b[38;5;241m=\u001b[39m\u001b[38;5;124m\"\u001b[39m\u001b[38;5;124mrecords\u001b[39m\u001b[38;5;124m\"\u001b[39m))\n\u001b[1;32m     19\u001b[0m     )\n\u001b[1;32m     21\u001b[0m     \u001b[38;5;28;01mreturn\u001b[39;00m region_centroids\n\u001b[0;32m---> 24\u001b[0m REGION_CENTROIDS \u001b[38;5;241m=\u001b[39m \u001b[43mgrab_region_centroids\u001b[49m\u001b[43m(\u001b[49m\u001b[43m)\u001b[49m\n",
      "File \u001b[0;32m~/data-analyses/_shared_utils/shared_utils/map_utils.py:10\u001b[0m, in \u001b[0;36mgrab_region_centroids\u001b[0;34m()\u001b[0m\n\u001b[1;32m      8\u001b[0m \u001b[38;5;28;01mdef\u001b[39;00m \u001b[38;5;21mgrab_region_centroids\u001b[39m() \u001b[38;5;241m-\u001b[39m\u001b[38;5;241m>\u001b[39m \u001b[38;5;28mdict\u001b[39m:\n\u001b[1;32m      9\u001b[0m     \u001b[38;5;66;03m# This parquet is created in shared_utils/shared_data.py\u001b[39;00m\n\u001b[0;32m---> 10\u001b[0m     df \u001b[38;5;241m=\u001b[39m \u001b[43mpd\u001b[49m\u001b[38;5;241;43m.\u001b[39;49m\u001b[43mread_parquet\u001b[49m\u001b[43m(\u001b[49m\n\u001b[1;32m     11\u001b[0m \u001b[43m        \u001b[49m\u001b[38;5;124;43m\"\u001b[39;49m\u001b[38;5;124;43mgs://calitp-analytics-data/data-analyses/ca_county_centroids.parquet\u001b[39;49m\u001b[38;5;124;43m\"\u001b[39;49m\n\u001b[1;32m     12\u001b[0m \u001b[43m    \u001b[49m\u001b[43m)\u001b[49m\n\u001b[1;32m     14\u001b[0m     df \u001b[38;5;241m=\u001b[39m df\u001b[38;5;241m.\u001b[39massign(centroid\u001b[38;5;241m=\u001b[39mdf\u001b[38;5;241m.\u001b[39mcentroid\u001b[38;5;241m.\u001b[39mapply(\u001b[38;5;28;01mlambda\u001b[39;00m x: x\u001b[38;5;241m.\u001b[39mtolist()))\n\u001b[1;32m     16\u001b[0m     \u001b[38;5;66;03m# Manipulate parquet file to be dictionary to use in map_utils\u001b[39;00m\n",
      "File \u001b[0;32m/opt/conda/lib/python3.9/site-packages/pandas/io/parquet.py:495\u001b[0m, in \u001b[0;36mread_parquet\u001b[0;34m(path, engine, columns, storage_options, use_nullable_dtypes, **kwargs)\u001b[0m\n\u001b[1;32m    442\u001b[0m \u001b[38;5;124;03m\"\"\"\u001b[39;00m\n\u001b[1;32m    443\u001b[0m \u001b[38;5;124;03mLoad a parquet object from the file path, returning a DataFrame.\u001b[39;00m\n\u001b[1;32m    444\u001b[0m \n\u001b[0;32m   (...)\u001b[0m\n\u001b[1;32m    491\u001b[0m \u001b[38;5;124;03mDataFrame\u001b[39;00m\n\u001b[1;32m    492\u001b[0m \u001b[38;5;124;03m\"\"\"\u001b[39;00m\n\u001b[1;32m    493\u001b[0m impl \u001b[38;5;241m=\u001b[39m get_engine(engine)\n\u001b[0;32m--> 495\u001b[0m \u001b[38;5;28;01mreturn\u001b[39;00m \u001b[43mimpl\u001b[49m\u001b[38;5;241;43m.\u001b[39;49m\u001b[43mread\u001b[49m\u001b[43m(\u001b[49m\n\u001b[1;32m    496\u001b[0m \u001b[43m    \u001b[49m\u001b[43mpath\u001b[49m\u001b[43m,\u001b[49m\n\u001b[1;32m    497\u001b[0m \u001b[43m    \u001b[49m\u001b[43mcolumns\u001b[49m\u001b[38;5;241;43m=\u001b[39;49m\u001b[43mcolumns\u001b[49m\u001b[43m,\u001b[49m\n\u001b[1;32m    498\u001b[0m \u001b[43m    \u001b[49m\u001b[43mstorage_options\u001b[49m\u001b[38;5;241;43m=\u001b[39;49m\u001b[43mstorage_options\u001b[49m\u001b[43m,\u001b[49m\n\u001b[1;32m    499\u001b[0m \u001b[43m    \u001b[49m\u001b[43muse_nullable_dtypes\u001b[49m\u001b[38;5;241;43m=\u001b[39;49m\u001b[43muse_nullable_dtypes\u001b[49m\u001b[43m,\u001b[49m\n\u001b[1;32m    500\u001b[0m \u001b[43m    \u001b[49m\u001b[38;5;241;43m*\u001b[39;49m\u001b[38;5;241;43m*\u001b[39;49m\u001b[43mkwargs\u001b[49m\u001b[43m,\u001b[49m\n\u001b[1;32m    501\u001b[0m \u001b[43m\u001b[49m\u001b[43m)\u001b[49m\n",
      "File \u001b[0;32m/opt/conda/lib/python3.9/site-packages/pandas/io/parquet.py:239\u001b[0m, in \u001b[0;36mPyArrowImpl.read\u001b[0;34m(self, path, columns, use_nullable_dtypes, storage_options, **kwargs)\u001b[0m\n\u001b[1;32m    232\u001b[0m path_or_handle, handles, kwargs[\u001b[38;5;124m\"\u001b[39m\u001b[38;5;124mfilesystem\u001b[39m\u001b[38;5;124m\"\u001b[39m] \u001b[38;5;241m=\u001b[39m _get_path_or_handle(\n\u001b[1;32m    233\u001b[0m     path,\n\u001b[1;32m    234\u001b[0m     kwargs\u001b[38;5;241m.\u001b[39mpop(\u001b[38;5;124m\"\u001b[39m\u001b[38;5;124mfilesystem\u001b[39m\u001b[38;5;124m\"\u001b[39m, \u001b[38;5;28;01mNone\u001b[39;00m),\n\u001b[1;32m    235\u001b[0m     storage_options\u001b[38;5;241m=\u001b[39mstorage_options,\n\u001b[1;32m    236\u001b[0m     mode\u001b[38;5;241m=\u001b[39m\u001b[38;5;124m\"\u001b[39m\u001b[38;5;124mrb\u001b[39m\u001b[38;5;124m\"\u001b[39m,\n\u001b[1;32m    237\u001b[0m )\n\u001b[1;32m    238\u001b[0m \u001b[38;5;28;01mtry\u001b[39;00m:\n\u001b[0;32m--> 239\u001b[0m     result \u001b[38;5;241m=\u001b[39m \u001b[38;5;28;43mself\u001b[39;49m\u001b[38;5;241;43m.\u001b[39;49m\u001b[43mapi\u001b[49m\u001b[38;5;241;43m.\u001b[39;49m\u001b[43mparquet\u001b[49m\u001b[38;5;241;43m.\u001b[39;49m\u001b[43mread_table\u001b[49m\u001b[43m(\u001b[49m\n\u001b[1;32m    240\u001b[0m \u001b[43m        \u001b[49m\u001b[43mpath_or_handle\u001b[49m\u001b[43m,\u001b[49m\u001b[43m \u001b[49m\u001b[43mcolumns\u001b[49m\u001b[38;5;241;43m=\u001b[39;49m\u001b[43mcolumns\u001b[49m\u001b[43m,\u001b[49m\u001b[43m \u001b[49m\u001b[38;5;241;43m*\u001b[39;49m\u001b[38;5;241;43m*\u001b[39;49m\u001b[43mkwargs\u001b[49m\n\u001b[1;32m    241\u001b[0m \u001b[43m    \u001b[49m\u001b[43m)\u001b[49m\u001b[38;5;241m.\u001b[39mto_pandas(\u001b[38;5;241m*\u001b[39m\u001b[38;5;241m*\u001b[39mto_pandas_kwargs)\n\u001b[1;32m    242\u001b[0m     \u001b[38;5;28;01mif\u001b[39;00m manager \u001b[38;5;241m==\u001b[39m \u001b[38;5;124m\"\u001b[39m\u001b[38;5;124marray\u001b[39m\u001b[38;5;124m\"\u001b[39m:\n\u001b[1;32m    243\u001b[0m         result \u001b[38;5;241m=\u001b[39m result\u001b[38;5;241m.\u001b[39m_as_manager(\u001b[38;5;124m\"\u001b[39m\u001b[38;5;124marray\u001b[39m\u001b[38;5;124m\"\u001b[39m, copy\u001b[38;5;241m=\u001b[39m\u001b[38;5;28;01mFalse\u001b[39;00m)\n",
      "File \u001b[0;32m/opt/conda/lib/python3.9/site-packages/pyarrow/parquet.py:1905\u001b[0m, in \u001b[0;36mread_table\u001b[0;34m(source, columns, use_threads, metadata, use_pandas_metadata, memory_map, read_dictionary, filesystem, filters, buffer_size, partitioning, use_legacy_dataset, ignore_prefixes, pre_buffer, coerce_int96_timestamp_unit)\u001b[0m\n\u001b[1;32m   1898\u001b[0m     \u001b[38;5;28;01mraise\u001b[39;00m \u001b[38;5;167;01mValueError\u001b[39;00m(\n\u001b[1;32m   1899\u001b[0m         \u001b[38;5;124m\"\u001b[39m\u001b[38;5;124mThe \u001b[39m\u001b[38;5;124m'\u001b[39m\u001b[38;5;124mmetadata\u001b[39m\u001b[38;5;124m'\u001b[39m\u001b[38;5;124m keyword is no longer supported with the new \u001b[39m\u001b[38;5;124m\"\u001b[39m\n\u001b[1;32m   1900\u001b[0m         \u001b[38;5;124m\"\u001b[39m\u001b[38;5;124mdatasets-based implementation. Specify \u001b[39m\u001b[38;5;124m\"\u001b[39m\n\u001b[1;32m   1901\u001b[0m         \u001b[38;5;124m\"\u001b[39m\u001b[38;5;124m'\u001b[39m\u001b[38;5;124muse_legacy_dataset=True\u001b[39m\u001b[38;5;124m'\u001b[39m\u001b[38;5;124m to temporarily recover the old \u001b[39m\u001b[38;5;124m\"\u001b[39m\n\u001b[1;32m   1902\u001b[0m         \u001b[38;5;124m\"\u001b[39m\u001b[38;5;124mbehaviour.\u001b[39m\u001b[38;5;124m\"\u001b[39m\n\u001b[1;32m   1903\u001b[0m     )\n\u001b[1;32m   1904\u001b[0m \u001b[38;5;28;01mtry\u001b[39;00m:\n\u001b[0;32m-> 1905\u001b[0m     dataset \u001b[38;5;241m=\u001b[39m \u001b[43m_ParquetDatasetV2\u001b[49m\u001b[43m(\u001b[49m\n\u001b[1;32m   1906\u001b[0m \u001b[43m        \u001b[49m\u001b[43msource\u001b[49m\u001b[43m,\u001b[49m\n\u001b[1;32m   1907\u001b[0m \u001b[43m        \u001b[49m\u001b[43mfilesystem\u001b[49m\u001b[38;5;241;43m=\u001b[39;49m\u001b[43mfilesystem\u001b[49m\u001b[43m,\u001b[49m\n\u001b[1;32m   1908\u001b[0m \u001b[43m        \u001b[49m\u001b[43mpartitioning\u001b[49m\u001b[38;5;241;43m=\u001b[39;49m\u001b[43mpartitioning\u001b[49m\u001b[43m,\u001b[49m\n\u001b[1;32m   1909\u001b[0m \u001b[43m        \u001b[49m\u001b[43mmemory_map\u001b[49m\u001b[38;5;241;43m=\u001b[39;49m\u001b[43mmemory_map\u001b[49m\u001b[43m,\u001b[49m\n\u001b[1;32m   1910\u001b[0m \u001b[43m        \u001b[49m\u001b[43mread_dictionary\u001b[49m\u001b[38;5;241;43m=\u001b[39;49m\u001b[43mread_dictionary\u001b[49m\u001b[43m,\u001b[49m\n\u001b[1;32m   1911\u001b[0m \u001b[43m        \u001b[49m\u001b[43mbuffer_size\u001b[49m\u001b[38;5;241;43m=\u001b[39;49m\u001b[43mbuffer_size\u001b[49m\u001b[43m,\u001b[49m\n\u001b[1;32m   1912\u001b[0m \u001b[43m        \u001b[49m\u001b[43mfilters\u001b[49m\u001b[38;5;241;43m=\u001b[39;49m\u001b[43mfilters\u001b[49m\u001b[43m,\u001b[49m\n\u001b[1;32m   1913\u001b[0m \u001b[43m        \u001b[49m\u001b[43mignore_prefixes\u001b[49m\u001b[38;5;241;43m=\u001b[39;49m\u001b[43mignore_prefixes\u001b[49m\u001b[43m,\u001b[49m\n\u001b[1;32m   1914\u001b[0m \u001b[43m        \u001b[49m\u001b[43mpre_buffer\u001b[49m\u001b[38;5;241;43m=\u001b[39;49m\u001b[43mpre_buffer\u001b[49m\u001b[43m,\u001b[49m\n\u001b[1;32m   1915\u001b[0m \u001b[43m        \u001b[49m\u001b[43mcoerce_int96_timestamp_unit\u001b[49m\u001b[38;5;241;43m=\u001b[39;49m\u001b[43mcoerce_int96_timestamp_unit\u001b[49m\n\u001b[1;32m   1916\u001b[0m \u001b[43m    \u001b[49m\u001b[43m)\u001b[49m\n\u001b[1;32m   1917\u001b[0m \u001b[38;5;28;01mexcept\u001b[39;00m \u001b[38;5;167;01mImportError\u001b[39;00m:\n\u001b[1;32m   1918\u001b[0m     \u001b[38;5;66;03m# fall back on ParquetFile for simple cases when pyarrow.dataset\u001b[39;00m\n\u001b[1;32m   1919\u001b[0m     \u001b[38;5;66;03m# module is not available\u001b[39;00m\n\u001b[1;32m   1920\u001b[0m     \u001b[38;5;28;01mif\u001b[39;00m filters \u001b[38;5;129;01mis\u001b[39;00m \u001b[38;5;129;01mnot\u001b[39;00m \u001b[38;5;28;01mNone\u001b[39;00m:\n",
      "File \u001b[0;32m/opt/conda/lib/python3.9/site-packages/pyarrow/parquet.py:1726\u001b[0m, in \u001b[0;36m_ParquetDatasetV2.__init__\u001b[0;34m(self, path_or_paths, filesystem, filters, partitioning, read_dictionary, buffer_size, memory_map, ignore_prefixes, pre_buffer, coerce_int96_timestamp_unit, **kwargs)\u001b[0m\n\u001b[1;32m   1722\u001b[0m \u001b[38;5;28;01mif\u001b[39;00m partitioning \u001b[38;5;241m==\u001b[39m \u001b[38;5;124m\"\u001b[39m\u001b[38;5;124mhive\u001b[39m\u001b[38;5;124m\"\u001b[39m:\n\u001b[1;32m   1723\u001b[0m     partitioning \u001b[38;5;241m=\u001b[39m ds\u001b[38;5;241m.\u001b[39mHivePartitioning\u001b[38;5;241m.\u001b[39mdiscover(\n\u001b[1;32m   1724\u001b[0m         infer_dictionary\u001b[38;5;241m=\u001b[39m\u001b[38;5;28;01mTrue\u001b[39;00m)\n\u001b[0;32m-> 1726\u001b[0m \u001b[38;5;28mself\u001b[39m\u001b[38;5;241m.\u001b[39m_dataset \u001b[38;5;241m=\u001b[39m \u001b[43mds\u001b[49m\u001b[38;5;241;43m.\u001b[39;49m\u001b[43mdataset\u001b[49m\u001b[43m(\u001b[49m\u001b[43mpath_or_paths\u001b[49m\u001b[43m,\u001b[49m\u001b[43m \u001b[49m\u001b[43mfilesystem\u001b[49m\u001b[38;5;241;43m=\u001b[39;49m\u001b[43mfilesystem\u001b[49m\u001b[43m,\u001b[49m\n\u001b[1;32m   1727\u001b[0m \u001b[43m                           \u001b[49m\u001b[38;5;28;43mformat\u001b[39;49m\u001b[38;5;241;43m=\u001b[39;49m\u001b[43mparquet_format\u001b[49m\u001b[43m,\u001b[49m\n\u001b[1;32m   1728\u001b[0m \u001b[43m                           \u001b[49m\u001b[43mpartitioning\u001b[49m\u001b[38;5;241;43m=\u001b[39;49m\u001b[43mpartitioning\u001b[49m\u001b[43m,\u001b[49m\n\u001b[1;32m   1729\u001b[0m \u001b[43m                           \u001b[49m\u001b[43mignore_prefixes\u001b[49m\u001b[38;5;241;43m=\u001b[39;49m\u001b[43mignore_prefixes\u001b[49m\u001b[43m)\u001b[49m\n",
      "File \u001b[0;32m/opt/conda/lib/python3.9/site-packages/pyarrow/dataset.py:680\u001b[0m, in \u001b[0;36mdataset\u001b[0;34m(source, schema, format, filesystem, partitioning, partition_base_dir, exclude_invalid_files, ignore_prefixes)\u001b[0m\n\u001b[1;32m    669\u001b[0m kwargs \u001b[38;5;241m=\u001b[39m \u001b[38;5;28mdict\u001b[39m(\n\u001b[1;32m    670\u001b[0m     schema\u001b[38;5;241m=\u001b[39mschema,\n\u001b[1;32m    671\u001b[0m     filesystem\u001b[38;5;241m=\u001b[39mfilesystem,\n\u001b[0;32m   (...)\u001b[0m\n\u001b[1;32m    676\u001b[0m     selector_ignore_prefixes\u001b[38;5;241m=\u001b[39mignore_prefixes\n\u001b[1;32m    677\u001b[0m )\n\u001b[1;32m    679\u001b[0m \u001b[38;5;28;01mif\u001b[39;00m _is_path_like(source):\n\u001b[0;32m--> 680\u001b[0m     \u001b[38;5;28;01mreturn\u001b[39;00m \u001b[43m_filesystem_dataset\u001b[49m\u001b[43m(\u001b[49m\u001b[43msource\u001b[49m\u001b[43m,\u001b[49m\u001b[43m \u001b[49m\u001b[38;5;241;43m*\u001b[39;49m\u001b[38;5;241;43m*\u001b[39;49m\u001b[43mkwargs\u001b[49m\u001b[43m)\u001b[49m\n\u001b[1;32m    681\u001b[0m \u001b[38;5;28;01melif\u001b[39;00m \u001b[38;5;28misinstance\u001b[39m(source, (\u001b[38;5;28mtuple\u001b[39m, \u001b[38;5;28mlist\u001b[39m)):\n\u001b[1;32m    682\u001b[0m     \u001b[38;5;28;01mif\u001b[39;00m \u001b[38;5;28mall\u001b[39m(_is_path_like(elem) \u001b[38;5;28;01mfor\u001b[39;00m elem \u001b[38;5;129;01min\u001b[39;00m source):\n",
      "File \u001b[0;32m/opt/conda/lib/python3.9/site-packages/pyarrow/dataset.py:425\u001b[0m, in \u001b[0;36m_filesystem_dataset\u001b[0;34m(source, schema, filesystem, partitioning, format, partition_base_dir, exclude_invalid_files, selector_ignore_prefixes)\u001b[0m\n\u001b[1;32m    423\u001b[0m     fs, paths_or_selector \u001b[38;5;241m=\u001b[39m _ensure_multiple_sources(source, filesystem)\n\u001b[1;32m    424\u001b[0m \u001b[38;5;28;01melse\u001b[39;00m:\n\u001b[0;32m--> 425\u001b[0m     fs, paths_or_selector \u001b[38;5;241m=\u001b[39m \u001b[43m_ensure_single_source\u001b[49m\u001b[43m(\u001b[49m\u001b[43msource\u001b[49m\u001b[43m,\u001b[49m\u001b[43m \u001b[49m\u001b[43mfilesystem\u001b[49m\u001b[43m)\u001b[49m\n\u001b[1;32m    427\u001b[0m options \u001b[38;5;241m=\u001b[39m FileSystemFactoryOptions(\n\u001b[1;32m    428\u001b[0m     partitioning\u001b[38;5;241m=\u001b[39mpartitioning,\n\u001b[1;32m    429\u001b[0m     partition_base_dir\u001b[38;5;241m=\u001b[39mpartition_base_dir,\n\u001b[1;32m    430\u001b[0m     exclude_invalid_files\u001b[38;5;241m=\u001b[39mexclude_invalid_files,\n\u001b[1;32m    431\u001b[0m     selector_ignore_prefixes\u001b[38;5;241m=\u001b[39mselector_ignore_prefixes\n\u001b[1;32m    432\u001b[0m )\n\u001b[1;32m    433\u001b[0m factory \u001b[38;5;241m=\u001b[39m FileSystemDatasetFactory(fs, paths_or_selector, \u001b[38;5;28mformat\u001b[39m, options)\n",
      "File \u001b[0;32m/opt/conda/lib/python3.9/site-packages/pyarrow/dataset.py:401\u001b[0m, in \u001b[0;36m_ensure_single_source\u001b[0;34m(path, filesystem)\u001b[0m\n\u001b[1;32m    399\u001b[0m     paths_or_selector \u001b[38;5;241m=\u001b[39m [path]\n\u001b[1;32m    400\u001b[0m \u001b[38;5;28;01melse\u001b[39;00m:\n\u001b[0;32m--> 401\u001b[0m     \u001b[38;5;28;01mraise\u001b[39;00m \u001b[38;5;167;01mFileNotFoundError\u001b[39;00m(path)\n\u001b[1;32m    403\u001b[0m \u001b[38;5;28;01mreturn\u001b[39;00m filesystem, paths_or_selector\n",
      "\u001b[0;31mFileNotFoundError\u001b[0m: calitp-analytics-data/data-analyses/ca_county_centroids.parquet"
     ]
    }
   ],
   "source": [
    "import os\n",
    "os.environ[\"CALITP_BQ_MAX_BYTES\"] = str(800_000_000_000)\n",
    "import shared_utils\n",
    "\n",
    "import geopandas as gpd\n",
    "import pandas as pd\n",
    "import folium \n",
    "import branca\n",
    "import datetime as dt\n",
    "from siuba import *\n",
    "from bus_service_utils import better_bus_utils\n",
    "\n",
    "from rt_analysis import rt_filter_map_plot\n",
    "\n",
    "ZERO_THIRTY_COLORSCALE = branca.colormap.step.RdYlGn_11.scale(vmin=0, vmax=35)"
   ]
  },
  {
   "cell_type": "code",
   "execution_count": null,
   "id": "dd589919-7dee-4652-9a01-56e394c7d18f",
   "metadata": {},
   "outputs": [],
   "source": [
    "import bb_rt_helper"
   ]
  },
  {
   "cell_type": "code",
   "execution_count": null,
   "id": "eae12c5f-b8a5-499b-a437-4365568678b9",
   "metadata": {},
   "outputs": [],
   "source": [
    "import importlib\n",
    "importlib.reload(bb_rt_helper)"
   ]
  },
  {
   "cell_type": "markdown",
   "id": "d96f214d-4dc2-481c-8db6-bf5a3fd1733c",
   "metadata": {},
   "source": [
    "# 100 Recs - D6"
   ]
  },
  {
   "cell_type": "markdown",
   "id": "473a6770-4fdf-45fb-bc38-c822c36a5066",
   "metadata": {},
   "source": [
    "## 1 - Corridor Improvements"
   ]
  },
  {
   "cell_type": "code",
   "execution_count": null,
   "id": "bb91eaad-02c8-40d3-a0cf-4167b0ce6127",
   "metadata": {},
   "outputs": [],
   "source": [
    "bb_rt_helper.fm_from_bbutils?"
   ]
  },
  {
   "cell_type": "code",
   "execution_count": null,
   "id": "81fa3274-bb4c-4f00-a10a-42587f6ec4b1",
   "metadata": {
    "tags": []
   },
   "outputs": [],
   "source": [
    "fm_dict = bb_rt_helper.fm_from_bbutils(ct_dist='06 - Fresno', category='corridor')"
   ]
  },
  {
   "cell_type": "code",
   "execution_count": null,
   "id": "1eceda66-6bf1-43ef-99d4-92a75224c1dd",
   "metadata": {
    "tags": []
   },
   "outputs": [],
   "source": [
    "corr_speed_views = []\n",
    "for key in fm_dict.keys():\n",
    "    _m = fm_dict[key].segment_speed_map()\n",
    "    corr_speed_views += [fm_dict[key].detailed_map_view.copy()]"
   ]
  },
  {
   "cell_type": "markdown",
   "id": "f78e6daa-0a38-4f62-96f4-7330eea185db",
   "metadata": {},
   "source": [
    "### Operator: Madera County Connection"
   ]
  },
  {
   "cell_type": "code",
   "execution_count": null,
   "id": "a8533afc-75c5-4b92-94f6-dba7b7dc40e0",
   "metadata": {},
   "outputs": [],
   "source": [
    "# manually add route filter via trip ids\n",
    "mcc_trips = (fm_dict[188].rt_trips\n",
    "             >> filter(_.route_id==\"3615\")\n",
    "            ).trip_id\n",
    "mcc_trips"
   ]
  },
  {
   "cell_type": "code",
   "execution_count": null,
   "id": "699eb535-8b2a-4945-9901-15b9e3ecba47",
   "metadata": {},
   "outputs": [],
   "source": [
    "fm_dict[188].rt_trips.route_short_name.isnull().all()"
   ]
  },
  {
   "cell_type": "code",
   "execution_count": null,
   "id": "1de7b9a2-ff84-4089-8161-9c303eca3608",
   "metadata": {},
   "outputs": [],
   "source": [
    "fm_dict[188].set_filter(trip_ids = mcc_trips)"
   ]
  },
  {
   "cell_type": "code",
   "execution_count": null,
   "id": "e38acf30-31cc-4ce2-946c-82cb369968e0",
   "metadata": {},
   "outputs": [],
   "source": [
    "m_corr = fm_dict[188].segment_speed_map(no_title = True)"
   ]
  },
  {
   "cell_type": "code",
   "execution_count": null,
   "id": "97629cce-23fa-48e6-8bf7-d70e7af47a13",
   "metadata": {},
   "outputs": [],
   "source": [
    "m_corr"
   ]
  },
  {
   "cell_type": "markdown",
   "id": "0cf24573-f4f9-4124-a61b-5dee9d5847f4",
   "metadata": {},
   "source": [
    "no recommendations from here shrug emoji"
   ]
  },
  {
   "cell_type": "markdown",
   "id": "6141f9c5-2bd4-4e92-b733-15115a0d7a90",
   "metadata": {},
   "source": [
    "### Operator: GET Bus"
   ]
  },
  {
   "cell_type": "code",
   "execution_count": null,
   "id": "2770a7d2-3509-4178-b975-bc80285f64d3",
   "metadata": {},
   "outputs": [],
   "source": [
    "m_corr = fm_dict[126].segment_speed_map()"
   ]
  },
  {
   "cell_type": "code",
   "execution_count": null,
   "id": "45780628-2a28-47ad-865a-92f4a46a9cfc",
   "metadata": {},
   "outputs": [],
   "source": [
    "m_corr"
   ]
  },
  {
   "cell_type": "markdown",
   "id": "21db3495-ccf9-4387-944f-e92766c423a9",
   "metadata": {},
   "source": [
    "## Draft Corridor Recs, GET Bus, D6\n",
    "\n",
    "* Route 82/84, Calloway Drive to Fruitvale Ave\n",
    "* Route 43 along O st + 34th st "
   ]
  },
  {
   "cell_type": "markdown",
   "id": "b7cbd2cc-7687-47a1-87cf-d53716be8039",
   "metadata": {},
   "source": [
    "## Route 82"
   ]
  },
  {
   "cell_type": "code",
   "execution_count": null,
   "id": "94fa6c92-4e45-4753-97c7-1ff505bcc291",
   "metadata": {},
   "outputs": [],
   "source": [
    "shape_id = '7'\n",
    "stop_range = [3, 8]"
   ]
  },
  {
   "cell_type": "code",
   "execution_count": null,
   "id": "5426411d-f0c2-477a-8c07-b93e5c2f256a",
   "metadata": {},
   "outputs": [],
   "source": [
    "fm_dict[126].autocorridor(shape_id=shape_id, stop_seq_range=stop_range)"
   ]
  },
  {
   "cell_type": "code",
   "execution_count": null,
   "id": "b89ffa0e-7dbb-4573-a210-bf37b4e7a4e1",
   "metadata": {},
   "outputs": [],
   "source": [
    "fm_dict[126].reset_filter()"
   ]
  },
  {
   "cell_type": "code",
   "execution_count": null,
   "id": "63e8273f-d570-4bf9-b8c7-ec647111b686",
   "metadata": {},
   "outputs": [],
   "source": [
    "fm_dict[126].set_filter(route_names=['82'])"
   ]
  },
  {
   "cell_type": "code",
   "execution_count": null,
   "id": "976e3fd1-0652-41d8-a24c-a03f946ed660",
   "metadata": {},
   "outputs": [],
   "source": [
    "fm_dict[126].corridor_metrics()"
   ]
  },
  {
   "cell_type": "code",
   "execution_count": null,
   "id": "d3d6d84e-12b7-4c93-8839-e63f998245d7",
   "metadata": {},
   "outputs": [],
   "source": [
    "fm_dict[126].quick_map_corridor()"
   ]
  },
  {
   "cell_type": "code",
   "execution_count": null,
   "id": "bffa8cf2-a0b4-4cbc-a361-1c69f0ddabc9",
   "metadata": {},
   "outputs": [],
   "source": [
    "corr_82 = fm_dict[126].corridor.copy() # important to use .copy() here to avoid referencing the changing corridor"
   ]
  },
  {
   "cell_type": "code",
   "execution_count": null,
   "id": "0b57fb50-a750-4349-b111-4b47167f48c7",
   "metadata": {},
   "outputs": [],
   "source": [
    "corridors = [corr_82]"
   ]
  },
  {
   "cell_type": "markdown",
   "id": "35da186e-0c6b-4103-bbe3-bc0af1bad6d6",
   "metadata": {
    "tags": []
   },
   "source": [
    "## Route 84"
   ]
  },
  {
   "cell_type": "code",
   "execution_count": null,
   "id": "db0c28ac-8134-495c-85cd-2a432a551131",
   "metadata": {},
   "outputs": [],
   "source": [
    "shape_id = '9'\n",
    "stop_range = [17, 19]"
   ]
  },
  {
   "cell_type": "code",
   "execution_count": null,
   "id": "1e07c399-963a-42ca-9fd2-a4763e2bd83e",
   "metadata": {},
   "outputs": [],
   "source": [
    "fm_dict[126].autocorridor(shape_id=shape_id, stop_seq_range=stop_range)"
   ]
  },
  {
   "cell_type": "code",
   "execution_count": null,
   "id": "66d227f7-246e-47ed-a392-bec8665a70e8",
   "metadata": {},
   "outputs": [],
   "source": [
    "fm_dict[126].set_filter(route_names=['84'])"
   ]
  },
  {
   "cell_type": "code",
   "execution_count": null,
   "id": "79afd8b4-c55d-4dcd-a9f6-2be76453b053",
   "metadata": {},
   "outputs": [],
   "source": [
    "fm_dict[126].corridor_metrics()"
   ]
  },
  {
   "cell_type": "code",
   "execution_count": null,
   "id": "db25352d-aef8-4573-b050-9e3b7ae0b9a2",
   "metadata": {},
   "outputs": [],
   "source": [
    "fm_dict[126].quick_map_corridor()"
   ]
  },
  {
   "cell_type": "code",
   "execution_count": null,
   "id": "4ddfb1eb-34a5-49fc-b905-11e787ae5b21",
   "metadata": {},
   "outputs": [],
   "source": [
    "corr_84 = fm_dict[126].corridor.copy()\n",
    "corridors += [corr_84]"
   ]
  },
  {
   "cell_type": "markdown",
   "id": "5e47b1c3-3686-4b68-9ab7-a851d0b788dc",
   "metadata": {},
   "source": [
    "## Route 43"
   ]
  },
  {
   "cell_type": "code",
   "execution_count": null,
   "id": "dd807697-3145-4175-a00e-f8e688379839",
   "metadata": {},
   "outputs": [],
   "source": [
    "shape_id = '25'\n",
    "stop_range = [11, 17]"
   ]
  },
  {
   "cell_type": "code",
   "execution_count": null,
   "id": "c7ba7adc-53e7-46f4-93f4-bb8b04af44df",
   "metadata": {},
   "outputs": [],
   "source": [
    "fm_dict[126].autocorridor(shape_id=shape_id, stop_seq_range=stop_range)"
   ]
  },
  {
   "cell_type": "code",
   "execution_count": null,
   "id": "0d67a426-6f9d-43ca-982a-7c1fa76a4e16",
   "metadata": {},
   "outputs": [],
   "source": [
    "fm_dict[126].set_filter(route_names=['43'])"
   ]
  },
  {
   "cell_type": "code",
   "execution_count": null,
   "id": "33786e31-4e19-41ae-9228-5e9f2cff2d35",
   "metadata": {},
   "outputs": [],
   "source": [
    "fm_dict[126].corridor_metrics()"
   ]
  },
  {
   "cell_type": "code",
   "execution_count": null,
   "id": "76951d78-8e49-4a45-932d-798f18fac8f3",
   "metadata": {},
   "outputs": [],
   "source": [
    "fm_dict[126].quick_map_corridor()"
   ]
  },
  {
   "cell_type": "code",
   "execution_count": null,
   "id": "b1e7468b-d222-4271-8b08-5e5471d45955",
   "metadata": {},
   "outputs": [],
   "source": [
    "corr_43 = fm_dict[126].corridor.copy()\n",
    "corridors += [corr_43]"
   ]
  },
  {
   "cell_type": "markdown",
   "id": "2e103c2c-6e10-4858-80e0-2ed7714ae2f1",
   "metadata": {},
   "source": [
    "## 2 - Hotspot Improvements"
   ]
  },
  {
   "cell_type": "code",
   "execution_count": null,
   "id": "3f5da3a1-57a8-47f0-ae76-8786dd61d60d",
   "metadata": {},
   "outputs": [],
   "source": [
    "fm_dict = bb_rt_helper.fm_from_bbutils(ct_dist='06 - Fresno', category='hotspot', fm_dict = fm_dict)"
   ]
  },
  {
   "cell_type": "code",
   "execution_count": null,
   "id": "6f47736b-14a3-4032-ae3c-add7f2b19738",
   "metadata": {},
   "outputs": [],
   "source": [
    "hs_speed_views = []\n",
    "for key in fm_dict.keys():\n",
    "    _m = fm_dict[key].segment_speed_map()\n",
    "    hs_speed_views += [fm_dict[key].detailed_map_view.copy()]"
   ]
  },
  {
   "cell_type": "markdown",
   "id": "996f684d-10eb-489e-a2db-a9d12d63defa",
   "metadata": {},
   "source": [
    "## Operator: GET Bus"
   ]
  },
  {
   "cell_type": "code",
   "execution_count": null,
   "id": "42ecf893-4598-4e79-b34f-6ac58848e16a",
   "metadata": {},
   "outputs": [],
   "source": [
    "m_hs = fm_dict[126].segment_speed_map()"
   ]
  },
  {
   "cell_type": "code",
   "execution_count": null,
   "id": "98e25036-96d1-4e6e-b7e3-92952af0499c",
   "metadata": {},
   "outputs": [],
   "source": [
    "m_hs"
   ]
  },
  {
   "cell_type": "markdown",
   "id": "be40a4e3-02a2-49a5-8b86-a6e0a7129288",
   "metadata": {},
   "source": [
    "# Draft Hotspot Recs, SDMTS, D11\n",
    "* SR-99 and Ming Avenue intersection (lots of routes)\n",
    "* Route 22/46 SR-58 and Chester Ave intersection"
   ]
  },
  {
   "cell_type": "markdown",
   "id": "133ab2fb-5c39-46c4-ad5e-e6187f0aadfa",
   "metadata": {},
   "source": [
    "## Route 22/42/a bunch of others"
   ]
  },
  {
   "cell_type": "code",
   "execution_count": null,
   "id": "48770b53-f985-44e8-aa2c-04803887f98c",
   "metadata": {},
   "outputs": [],
   "source": [
    "shape_id = '16'\n",
    "stop_range = [18, 19]"
   ]
  },
  {
   "cell_type": "code",
   "execution_count": null,
   "id": "fe52b350-147e-4f50-9bde-adc53a78c39d",
   "metadata": {},
   "outputs": [],
   "source": [
    "fm_dict[126].autocorridor(shape_id=shape_id, stop_seq_range=stop_range)"
   ]
  },
  {
   "cell_type": "code",
   "execution_count": null,
   "id": "e5bdddbb-9145-4eb8-b618-8ea39ef4f461",
   "metadata": {},
   "outputs": [],
   "source": [
    "fm_dict[126].reset_filter()"
   ]
  },
  {
   "cell_type": "code",
   "execution_count": null,
   "id": "5a2a7222-8b5f-4c97-8edf-746731c0098a",
   "metadata": {},
   "outputs": [],
   "source": [
    "fm_dict[126].corridor_metrics()"
   ]
  },
  {
   "cell_type": "code",
   "execution_count": null,
   "id": "24fab121-5d91-4cfe-996a-e6a64cfb7816",
   "metadata": {},
   "outputs": [],
   "source": [
    "fm_dict[126].quick_map_corridor()"
   ]
  },
  {
   "cell_type": "code",
   "execution_count": null,
   "id": "6284e03b-68c1-4aa4-97ee-a98ad772be1f",
   "metadata": {},
   "outputs": [],
   "source": [
    "hs_22 = fm_dict[126].corridor.copy()\n",
    "hotspots = [hs_22]"
   ]
  },
  {
   "cell_type": "markdown",
   "id": "85c899d5-f3cd-464f-bbf8-21f50c6ac050",
   "metadata": {},
   "source": [
    "## Route 22/46"
   ]
  },
  {
   "cell_type": "code",
   "execution_count": null,
   "id": "d8033487-7e1b-4117-be7b-d068c062a8c7",
   "metadata": {},
   "outputs": [],
   "source": [
    "shape_id = '16'\n",
    "stop_range = [14, 15]"
   ]
  },
  {
   "cell_type": "code",
   "execution_count": null,
   "id": "7ec9f8e3-e928-45a3-b3ae-a1826e4dfe35",
   "metadata": {},
   "outputs": [],
   "source": [
    "fm_dict[126].autocorridor(shape_id=shape_id, stop_seq_range=stop_range)"
   ]
  },
  {
   "cell_type": "code",
   "execution_count": null,
   "id": "fcf422ab-3801-4d23-909e-9a316e84c0e8",
   "metadata": {},
   "outputs": [],
   "source": [
    "fm_dict[126].reset_filter()"
   ]
  },
  {
   "cell_type": "code",
   "execution_count": null,
   "id": "c21a6b5a-9f54-4ec6-af7b-ff9ef3ceeb42",
   "metadata": {},
   "outputs": [],
   "source": [
    "fm_dict[126].corridor_metrics()"
   ]
  },
  {
   "cell_type": "code",
   "execution_count": null,
   "id": "1740a116-36cb-4dbf-8904-ca679acbffdb",
   "metadata": {},
   "outputs": [],
   "source": [
    "fm_dict[126].quick_map_corridor()"
   ]
  },
  {
   "cell_type": "code",
   "execution_count": null,
   "id": "c34f9118-b394-4d91-b170-9a27cfbf1515",
   "metadata": {},
   "outputs": [],
   "source": [
    "hs_22_46 = fm_dict[126].corridor.copy()\n",
    "hotspots += [hs_22_46]"
   ]
  },
  {
   "cell_type": "markdown",
   "id": "a1900fbc-872f-42a7-b515-821470f6b0e7",
   "metadata": {},
   "source": [
    "## Map Testing"
   ]
  },
  {
   "cell_type": "code",
   "execution_count": null,
   "id": "7e3895c2-c6af-4749-9313-cf3a3aea1b02",
   "metadata": {},
   "outputs": [],
   "source": [
    "all_speed_segs = pd.concat(hs_speed_views)\n",
    "all_corr_segs = pd.concat(corr_speed_views)\n",
    "# full join to preserve all unique segments, since they can differ\n",
    "# from hotspot to corridor (or indeed across operators)\n",
    "all_segs = all_speed_segs >> full_join(_, all_corr_segs)"
   ]
  },
  {
   "cell_type": "code",
   "execution_count": null,
   "id": "9381c82f-25a6-49e1-8425-7296e1b05b2d",
   "metadata": {},
   "outputs": [],
   "source": [
    "bb_rt_helper.bb_map_all(hotspots, corridors, all_segs, district = '06 - Fresno')"
   ]
  }
 ],
 "metadata": {
  "kernelspec": {
   "display_name": "Python 3 (ipykernel)",
   "language": "python",
   "name": "python3"
  },
  "language_info": {
   "codemirror_mode": {
    "name": "ipython",
    "version": 3
   },
   "file_extension": ".py",
   "mimetype": "text/x-python",
   "name": "python",
   "nbconvert_exporter": "python",
   "pygments_lexer": "ipython3",
   "version": "3.9.13"
  },
  "widgets": {
   "application/vnd.jupyter.widget-state+json": {
    "state": {},
    "version_major": 2,
    "version_minor": 0
   }
  }
 },
 "nbformat": 4,
 "nbformat_minor": 5
}
