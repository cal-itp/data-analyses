{
 "cells": [
  {
   "cell_type": "markdown",
   "id": "5ff7c064-c9cd-47ec-bbd3-e5f14f8e869c",
   "metadata": {},
   "source": [
    "# Transit Corridor Improvements\n",
    "\n",
    "## Criteria\n",
    "* Transit routes that intersect the SHN (at least 35% of the route is within a 0.5 mile buffer of the SHN)\n",
    "* average route speed is below **12 mph**  **AND**\n",
    "* **10%+ of its trips are competitive** against a car \n",
    "    * The car travels the same path as the bus (same stops along the way).\n",
    "    * A bus trip is competitive if it is within 1.5x the car's travel time (bus can take 50% longer).\n",
    "    * Across all the trips taken by that route, if **at least 10% trips** are competitive, the route is deemed competitive. \n",
    "    * Avoid selecting 0% trips competitive, which gets at circulator/loop type routes"
   ]
  },
  {
   "cell_type": "code",
   "execution_count": null,
   "id": "e8d5db15-c641-4a1e-8446-21f6f1104ea0",
   "metadata": {},
   "outputs": [],
   "source": [
    "%%capture\n",
    "import warnings\n",
    "warnings.filterwarnings('ignore')\n",
    "\n",
    "import branca \n",
    "import geopandas as gpd\n",
    "import intake\n",
    "import pandas as pd\n",
    "\n",
    "from IPython.display import Markdown, HTML\n",
    "\n",
    "from shared_utils import calitp_color_palette as cp\n",
    "from shared_utils import geography_utils\n",
    "from bus_service_utils import better_bus_utils\n",
    "\n",
    "catalog = intake.open_catalog(\"../bus_service_increase/*.yml\")\n",
    "\n",
    "CUSTOM_CATEGORICAL = [\n",
    "    cp.CALITP_CATEGORY_BRIGHT_COLORS[2], # yellow\n",
    "    cp.CALITP_CATEGORY_BRIGHT_COLORS[1], # orange\n",
    "    cp.CALITP_CATEGORY_BRIGHT_COLORS[0], # blue\n",
    "    cp.CALITP_CATEGORY_BRIGHT_COLORS[5], # purple  \n",
    "    cp.CALITP_CATEGORY_BRIGHT_COLORS[3], # green\n",
    "]\n",
    "\n",
    "ZERO_THIRTY_COLORSCALE = branca.colormap.step.RdYlGn_11.scale(vmin=0, vmax=35)"
   ]
  },
  {
   "cell_type": "code",
   "execution_count": null,
   "id": "372e50db-12a0-45c8-9f16-18900e6083a0",
   "metadata": {},
   "outputs": [],
   "source": [
    "speed_dict = {\"mean_speed_mph\": 12}\n",
    "trip_dict = {\"pct_trips_competitive\": 0.10}\n",
    "\n",
    "gdf = better_bus_utils.select_transit_routes_corridor_improvements(\n",
    "    speed_dict = speed_dict,\n",
    "    trip_dict = trip_dict\n",
    ")"
   ]
  },
  {
   "cell_type": "code",
   "execution_count": null,
   "id": "d0f89ead-2c96-484c-a8ba-86b072ae826f",
   "metadata": {},
   "outputs": [],
   "source": [
    "def subset_to_district(gdf: gpd.GeoDataFrame, district: str) -> gpd.GeoDataFrame: \n",
    "    keep_cols = [\"calitp_itp_id\", \"route_id\", \n",
    "            \"mean_speed_mph\", \"pct_trips_competitive\",\n",
    "            \"category\", \"geometry\"]\n",
    "    \n",
    "    df = (gdf[gdf.caltrans_district == district]\n",
    "          .reset_index(drop=True)\n",
    "          [keep_cols]\n",
    "         )\n",
    "    \n",
    "    df2 = df.assign(\n",
    "        mean_speed_mph = df.mean_speed_mph.round(2),\n",
    "        pct_trips_competitive = df.pct_trips_competitive.round(3)\n",
    "    )\n",
    "               \n",
    "    return df2"
   ]
  },
  {
   "cell_type": "code",
   "execution_count": null,
   "id": "6e9369dd-3fe2-4046-9578-14c71707b1e2",
   "metadata": {},
   "outputs": [],
   "source": [
    "TILES = \"CartoDB Positron\" \n",
    "\n",
    "def make_map(gdf: gpd.GeoDataFrame, district: str):        \n",
    "    m = gdf.explore(\"mean_speed_mph\", categorical = False, \n",
    "                    cmap = ZERO_THIRTY_COLORSCALE, tiles = TILES)\n",
    "    \n",
    "    display(m)\n",
    "    \n",
    "    m2 = gdf.explore(\"route_id\", categorical = True, \n",
    "                    cmap = \"tab20\", tiles = TILES)\n",
    "    \n",
    "    display(m2)\n",
    "    \n",
    "    display(gdf.sort_values(\n",
    "        [\"mean_speed_mph\", \"pct_trips_competitive\"], \n",
    "        ascending=[True, True]).drop(columns = [\"geometry\", \"category\"]))"
   ]
  },
  {
   "cell_type": "markdown",
   "id": "5d01f89b-8529-4c6c-8b13-1e0df4868e82",
   "metadata": {},
   "source": [
    "## District Maps"
   ]
  },
  {
   "cell_type": "code",
   "execution_count": null,
   "id": "114a95ce-9bfb-4c6e-8bf9-954d7fb16132",
   "metadata": {},
   "outputs": [],
   "source": [
    "districts = gdf[gdf.caltrans_district.notna()].caltrans_district.unique().tolist()\n",
    "\n",
    "for d in sorted(districts):\n",
    "    display(HTML(f\"<h3> District {d}</h3>\"))\n",
    "\n",
    "    subset = subset_to_district(gdf, d)\n",
    "\n",
    "    if len(subset) > 0:\n",
    "        make_map(subset, d)\n",
    "    else:\n",
    "        print(\"No routes meet this criteria\")"
   ]
  },
  {
   "cell_type": "code",
   "execution_count": null,
   "id": "fb02e965-ac6e-4d29-b620-20d0fdee6088",
   "metadata": {},
   "outputs": [],
   "source": []
  }
 ],
 "metadata": {
  "kernelspec": {
   "display_name": "Python 3 (ipykernel)",
   "language": "python",
   "name": "python3"
  },
  "language_info": {
   "codemirror_mode": {
    "name": "ipython",
    "version": 3
   },
   "file_extension": ".py",
   "mimetype": "text/x-python",
   "name": "python",
   "nbconvert_exporter": "python",
   "pygments_lexer": "ipython3",
   "version": "3.10.5"
  }
 },
 "nbformat": 4,
 "nbformat_minor": 5
}
