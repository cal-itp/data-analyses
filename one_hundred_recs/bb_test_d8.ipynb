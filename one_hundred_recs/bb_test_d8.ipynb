{
 "cells": [
  {
   "cell_type": "code",
   "execution_count": 2,
   "id": "dfd34249-60bc-4fdb-9495-4994d780f4de",
   "metadata": {},
   "outputs": [
    {
     "ename": "ImportError",
     "evalue": "cannot import name 'tbls' from 'calitp.tables' (/opt/conda/lib/python3.10/site-packages/calitp/tables.py)",
     "output_type": "error",
     "traceback": [
      "\u001b[0;31m---------------------------------------------------------------------------\u001b[0m",
      "\u001b[0;31mImportError\u001b[0m                               Traceback (most recent call last)",
      "Cell \u001b[0;32mIn [2], line 13\u001b[0m\n\u001b[1;32m     10\u001b[0m \u001b[38;5;28;01mfrom\u001b[39;00m \u001b[38;5;21;01msiuba\u001b[39;00m \u001b[38;5;28;01mimport\u001b[39;00m \u001b[38;5;241m*\u001b[39m\n\u001b[1;32m     11\u001b[0m \u001b[38;5;28;01mfrom\u001b[39;00m \u001b[38;5;21;01mbus_service_utils\u001b[39;00m \u001b[38;5;28;01mimport\u001b[39;00m better_bus_utils\n\u001b[0;32m---> 13\u001b[0m \u001b[38;5;28;01mfrom\u001b[39;00m \u001b[38;5;21;01mrt_analysis\u001b[39;00m \u001b[38;5;28;01mimport\u001b[39;00m rt_filter_map_plot\n\u001b[1;32m     15\u001b[0m ZERO_THIRTY_COLORSCALE \u001b[38;5;241m=\u001b[39m branca\u001b[38;5;241m.\u001b[39mcolormap\u001b[38;5;241m.\u001b[39mstep\u001b[38;5;241m.\u001b[39mRdYlGn_11\u001b[38;5;241m.\u001b[39mscale(vmin\u001b[38;5;241m=\u001b[39m\u001b[38;5;241m0\u001b[39m, vmax\u001b[38;5;241m=\u001b[39m\u001b[38;5;241m35\u001b[39m)\n",
      "File \u001b[0;32m~/data-analyses/rt_delay/rt_analysis/__init__.py:1\u001b[0m\n\u001b[0;32m----> 1\u001b[0m \u001b[38;5;28;01mfrom\u001b[39;00m \u001b[38;5;21;01m.\u001b[39;00m \u001b[38;5;28;01mimport\u001b[39;00m (\n\u001b[1;32m      2\u001b[0m     rt_parser,\n\u001b[1;32m      3\u001b[0m     rt_filter_map_plot\n\u001b[1;32m      4\u001b[0m )\n",
      "File \u001b[0;32m~/data-analyses/rt_delay/rt_analysis/rt_parser.py:19\u001b[0m\n\u001b[1;32m     16\u001b[0m \u001b[38;5;28;01mfrom\u001b[39;00m \u001b[38;5;21;01mtqdm\u001b[39;00m \u001b[38;5;28;01mimport\u001b[39;00m tqdm\n\u001b[1;32m     18\u001b[0m \u001b[38;5;66;03m# import numpy as np\u001b[39;00m\n\u001b[0;32m---> 19\u001b[0m \u001b[38;5;28;01mfrom\u001b[39;00m \u001b[38;5;21;01mcalitp\u001b[39;00m\u001b[38;5;21;01m.\u001b[39;00m\u001b[38;5;21;01mtables\u001b[39;00m \u001b[38;5;28;01mimport\u001b[39;00m tbls\n\u001b[1;32m     20\u001b[0m \u001b[38;5;28;01mimport\u001b[39;00m \u001b[38;5;21;01mseaborn\u001b[39;00m \u001b[38;5;28;01mas\u001b[39;00m \u001b[38;5;21;01msns\u001b[39;00m\n\u001b[1;32m     21\u001b[0m \u001b[38;5;28;01mimport\u001b[39;00m \u001b[38;5;21;01mmatplotlib\u001b[39;00m\u001b[38;5;21;01m.\u001b[39;00m\u001b[38;5;21;01mpyplot\u001b[39;00m \u001b[38;5;28;01mas\u001b[39;00m \u001b[38;5;21;01mplt\u001b[39;00m\n",
      "\u001b[0;31mImportError\u001b[0m: cannot import name 'tbls' from 'calitp.tables' (/opt/conda/lib/python3.10/site-packages/calitp/tables.py)"
     ]
    }
   ],
   "source": [
    "import os\n",
    "os.environ[\"CALITP_BQ_MAX_BYTES\"] = str(800_000_000_000)\n",
    "import shared_utils\n",
    "\n",
    "import geopandas as gpd\n",
    "import pandas as pd\n",
    "import folium \n",
    "import branca\n",
    "import datetime as dt\n",
    "from siuba import *\n",
    "from bus_service_utils import better_bus_utils\n",
    "\n",
    "from rt_analysis import rt_filter_map_plot\n",
    "\n",
    "ZERO_THIRTY_COLORSCALE = branca.colormap.step.RdYlGn_11.scale(vmin=0, vmax=35)"
   ]
  },
  {
   "cell_type": "markdown",
   "id": "d96f214d-4dc2-481c-8db6-bf5a3fd1733c",
   "metadata": {},
   "source": [
    "# 100 Recs - D8"
   ]
  },
  {
   "cell_type": "markdown",
   "id": "473a6770-4fdf-45fb-bc38-c822c36a5066",
   "metadata": {},
   "source": [
    "## 1 - Corridor Improvements"
   ]
  },
  {
   "cell_type": "code",
   "execution_count": null,
   "id": "69bca181-b241-416f-8442-3a5d3328c7d6",
   "metadata": {},
   "outputs": [],
   "source": [
    "speed_dict = {\"mean_speed_mph\": 16}\n",
    "trip_dict = {\"pct_trips_competitive\": 0.00}\n",
    "\n",
    "corridor_gdf_d8 = ((better_bus_utils.select_transit_routes_corridor_improvements(\n",
    "    speed_dict = speed_dict,\n",
    "    trip_dict = trip_dict)\n",
    "                   )\n",
    "                   >>filter(_.caltrans_district==\"08 - San Bernardino\")\n",
    "                  )                    "
   ]
  },
  {
   "cell_type": "code",
   "execution_count": null,
   "id": "ccc20cb3-2c24-43a5-9452-4938104c2525",
   "metadata": {},
   "outputs": [],
   "source": [
    "corridor_gdf_d8"
   ]
  },
  {
   "cell_type": "code",
   "execution_count": null,
   "id": "f70faf71-4f0b-403c-a510-1c5bdb337665",
   "metadata": {},
   "outputs": [],
   "source": [
    "#corridor_gdf >> count(_.caltrans_district)"
   ]
  },
  {
   "cell_type": "code",
   "execution_count": null,
   "id": "9baf7aab-53d1-424d-a4c6-79ca17f20c9a",
   "metadata": {},
   "outputs": [],
   "source": [
    "corridor_d8 = (corridor_d8\n",
    "               >> select(-_.service_date)\n",
    "              )\n",
    "\n",
    "corridor_d8.explore(\"mean_speed_mph\", legend=True, tiles=\"CartoDB positron\", cmap=ZERO_THIRTY_COLORSCALE)"
   ]
  },
  {
   "cell_type": "code",
   "execution_count": null,
   "id": "43eb03ff-d17d-4be9-b510-81115b4ba279",
   "metadata": {},
   "outputs": [],
   "source": [
    "# for each transit operator, generate rtfiltermapper\n",
    "D8_filtermapper = rt_filter_map_plot.from_gcs(itp_id=269, analysis_date=dt.date(2022,5,4))\n",
    "D8_filtermapper.rt_trips >> head(5)"
   ]
  },
  {
   "cell_type": "code",
   "execution_count": null,
   "id": "b3ad14be-5032-4f68-9dfa-28d13356b670",
   "metadata": {},
   "outputs": [],
   "source": [
    "# get small df of route_id and route_short_name from rt_trips\n",
    "D8_routenames = (D8_filtermapper.rt_trips\n",
    "                 >> count(_.route_id, _.route_short_name, _.route_long_name)\n",
    "                 >> select(-_.n)\n",
    "                )\n",
    "\n",
    "D8_routenames >> head(5)"
   ]
  },
  {
   "cell_type": "code",
   "execution_count": null,
   "id": "3b0b0152-ffa8-4e4f-a5d0-9cd8a29669ba",
   "metadata": {},
   "outputs": [],
   "source": [
    "# inner join w gdf of slow routes\n",
    "corridor_d8_names = (corridor_d8\n",
    "                     >> inner_join(_,D8_routenames)\n",
    "                    )\n",
    "\n",
    "corridor_d8_names\n",
    "# pass the route names as a filter parameter\n",
    "# make maps etc  \n",
    "# output detailed_map_view, fitered to slow segments (p20 speed below certain cutoff (8-12mph?))"
   ]
  },
  {
   "cell_type": "markdown",
   "id": "2e103c2c-6e10-4858-80e0-2ed7714ae2f1",
   "metadata": {},
   "source": [
    "## 2 - Hotspot Improvements"
   ]
  },
  {
   "cell_type": "code",
   "execution_count": null,
   "id": "3058578a-c687-49d5-ba8e-561ba29dce9a",
   "metadata": {},
   "outputs": [],
   "source": [
    "speed_dict = {\"mean_speed_mph\": 16}\n",
    "trip_dict = {\"pct_trips_competitive\": 0.00}\n",
    "\n",
    "hotspot_gdf_d8 = ((better_bus_utils.select_transit_routes_hotspot_improvements(\n",
    "    speed_dict = speed_dict,\n",
    "    trip_dict = trip_dict)\n",
    "                   )\n",
    "                   >>filter(_.caltrans_district==\"08 - San Bernardino\")\n",
    "                  )"
   ]
  },
  {
   "cell_type": "code",
   "execution_count": null,
   "id": "3c047503-ab48-4c39-9404-02cf629fb46a",
   "metadata": {},
   "outputs": [],
   "source": [
    "hotspot_gdf_d8"
   ]
  },
  {
   "cell_type": "code",
   "execution_count": null,
   "id": "f770d278-0499-4af4-9d6a-e5c1f83c3f13",
   "metadata": {},
   "outputs": [],
   "source": [
    "hotspot_gdf_d8 = (hotspot_gdf_d8\n",
    "               >> select(-_.service_date)\n",
    "              )\n",
    "\n",
    "hotspot_gdf_d8.explore(\"mean_speed_mph\", legend=True, tiles=\"CartoDB positron\", cmap=ZERO_THIRTY_COLORSCALE)"
   ]
  },
  {
   "cell_type": "code",
   "execution_count": null,
   "id": "23b2ab7b-d787-419f-93cb-8fe033fb9289",
   "metadata": {},
   "outputs": [],
   "source": []
  }
 ],
 "metadata": {
  "kernelspec": {
   "display_name": "Python 3 (ipykernel)",
   "language": "python",
   "name": "python3"
  },
  "language_info": {
   "codemirror_mode": {
    "name": "ipython",
    "version": 3
   },
   "file_extension": ".py",
   "mimetype": "text/x-python",
   "name": "python",
   "nbconvert_exporter": "python",
   "pygments_lexer": "ipython3",
   "version": "3.10.6"
  }
 },
 "nbformat": 4,
 "nbformat_minor": 5
}
