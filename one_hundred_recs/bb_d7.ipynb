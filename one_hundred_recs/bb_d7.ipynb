{
 "cells": [
  {
   "cell_type": "code",
   "execution_count": null,
   "id": "dfd34249-60bc-4fdb-9495-4994d780f4de",
   "metadata": {},
   "outputs": [],
   "source": [
    "import os\n",
    "os.environ[\"CALITP_BQ_MAX_BYTES\"] = str(800_000_000_000)\n",
    "import shared_utils\n",
    "\n",
    "import geopandas as gpd\n",
    "import pandas as pd\n",
    "import folium \n",
    "import branca\n",
    "import datetime as dt\n",
    "from siuba import *\n",
    "from bus_service_utils import better_bus_utils\n",
    "\n",
    "from rt_analysis import rt_filter_map_plot\n",
    "from rt_analysis import rt_parser\n",
    "\n",
    "ZERO_THIRTY_COLORSCALE = branca.colormap.step.RdYlGn_11.scale(vmin=0, vmax=35)"
   ]
  },
  {
   "cell_type": "markdown",
   "id": "d96f214d-4dc2-481c-8db6-bf5a3fd1733c",
   "metadata": {},
   "source": [
    "# 100 Recs - D11"
   ]
  },
  {
   "cell_type": "markdown",
   "id": "473a6770-4fdf-45fb-bc38-c822c36a5066",
   "metadata": {},
   "source": [
    "## 1 - Corridor Improvements"
   ]
  },
  {
   "cell_type": "code",
   "execution_count": null,
   "id": "35775ad8-3f52-42e7-a5f4-d1186607b53b",
   "metadata": {},
   "outputs": [],
   "source": [
    "def fm_from_bbutils(ct_dist, category, get_sorted = False,\n",
    "                    fm_dict = None, analysis_date = dt.date(2022, 5, 4)):\n",
    "    '''\n",
    "    ct_dist: str, Caltrans district, formatted as in \"11 - San Diego\"\n",
    "    category: str, reccomendation category, \"corridor\" or \"hotspot\"\n",
    "    get_sorted: use better_bus_utils.get_sorted_transit_routes instead of \n",
    "    corridor/hotspot dedicated function. Default False, override if few/no\n",
    "    suitable routes returned.\n",
    "    fm_dict: dictionary of rt_analysis.rt_filter_map_plot.RtFilterMapper instances,\n",
    "    if some are already loaded (for example when running for hotspot after corridor)\n",
    "    '''\n",
    "    \n",
    "    if get_sorted:\n",
    "        bbutil_gdf = better_bus_utils.get_sorted_transit_routes(recommendation_category=category)\n",
    "    elif category == \"corridor\":\n",
    "        bbutil_gdf = better_bus_utils.select_transit_routes_corridor_improvements()\n",
    "    elif category == \"hotspot\":\n",
    "        bbutil_gdf = better_bus_utils.select_transit_routes_hotspot_improvements()\n",
    "    \n",
    "    bbutil_gdf = bbutil_gdf >> filter(_.caltrans_district==ct_dist)\n",
    "    if bbutil_gdf.empty:\n",
    "        print(f\"{ct_dist} {category} empty with default util, retrying with get_sorted\")\n",
    "        return fm_from_bbutils(ct_dist = ct_dist, category = category, get_sorted = True,\n",
    "                              fm_dict = fm_dict, analysis_date = analysis_date)\n",
    "    num_routes = max([20, bbutil_gdf.shape[0] // 5])\n",
    "    bbutil_gdf = bbutil_gdf >> head(num_routes) # display top 20% or at least 20 routes\n",
    "    unique_itp_ids = bbutil_gdf.calitp_itp_id.unique()\n",
    "    mappable = bbutil_gdf >> select(-_.service_date)\n",
    "    if len(unique_itp_ids) == 1:\n",
    "        display(mappable.explore(\"route_id\", legend=True, tiles=\"CartoDB positron\"))\n",
    "    else:\n",
    "        display(mappable.explore(\"calitp_itp_id\", legend=True, tiles=\"CartoDB positron\"))\n",
    "    fm_dict = {}\n",
    "    for itp_id in unique_itp_ids:\n",
    "        print(f'loading filter/mapper for {itp_id}')\n",
    "        fm = rt_filter_map_plot.from_gcs(itp_id=itp_id, analysis_date=analysis_date)\n",
    "        rt_id_names = (fm.rt_trips\n",
    "                 >> distinct(_.route_id, _.route_short_name)\n",
    "                 >> inner_join(_, bbutil_gdf >> select(_.route_id), on = 'route_id')\n",
    "                )\n",
    "        fm.set_filter(route_names = rt_id_names.route_short_name)\n",
    "        fm_dict[itp_id] = fm\n",
    "    print(fm_dict)\n",
    "    return fm_dict"
   ]
  },
  {
   "cell_type": "code",
   "execution_count": null,
   "id": "1f7777b7-dd17-4487-8b2a-a102e40dab8a",
   "metadata": {},
   "outputs": [],
   "source": [
    "## TODO reusing existing dict, document"
   ]
  },
  {
   "cell_type": "code",
   "execution_count": null,
   "id": "6db36801-f695-4c0f-973a-1cc7b52daa38",
   "metadata": {},
   "outputs": [],
   "source": [
    "fm_dict = fm_from_bbutils(ct_dist=\"07 - Los Angeles\", category=\"hotspot\")"
   ]
  },
  {
   "cell_type": "markdown",
   "id": "21db3495-ccf9-4387-944f-e92766c423a9",
   "metadata": {},
   "source": [
    "## Draft Corridor Recs, SDMTS, D11\n",
    "\n",
    "* Entire Route 28 (nn mi, nn speed-based delay, nn schedule-based delay)\n",
    "* Route 10, Goldfinch to 54 ()\n",
    "    * paralleled by faster Rapid 215 E of Park\n",
    "* Route 27, Mission to Moraga\n",
    "* Route 12, Broadway to Euclid"
   ]
  },
  {
   "cell_type": "markdown",
   "id": "b7cbd2cc-7687-47a1-87cf-d53716be8039",
   "metadata": {},
   "source": [
    "## Route 28"
   ]
  },
  {
   "cell_type": "code",
   "execution_count": null,
   "id": "94fa6c92-4e45-4753-97c7-1ff505bcc291",
   "metadata": {},
   "outputs": [],
   "source": [
    "shape_id = '28_2_48'\n",
    "stop_range = [2, 18]"
   ]
  },
  {
   "cell_type": "code",
   "execution_count": null,
   "id": "5426411d-f0c2-477a-8c07-b93e5c2f256a",
   "metadata": {},
   "outputs": [],
   "source": [
    "sdmts.autocorridor(shape_id=shape_id, stop_seq_range=stop_range)"
   ]
  },
  {
   "cell_type": "code",
   "execution_count": null,
   "id": "63e8273f-d570-4bf9-b8c7-ec647111b686",
   "metadata": {},
   "outputs": [],
   "source": [
    "sdmts.reset_filter()"
   ]
  },
  {
   "cell_type": "code",
   "execution_count": null,
   "id": "976e3fd1-0652-41d8-a24c-a03f946ed660",
   "metadata": {},
   "outputs": [],
   "source": [
    "sdmts.corridor_metrics()"
   ]
  },
  {
   "cell_type": "code",
   "execution_count": null,
   "id": "d3d6d84e-12b7-4c93-8839-e63f998245d7",
   "metadata": {},
   "outputs": [],
   "source": [
    "sdmts.quick_map_corridor()"
   ]
  },
  {
   "cell_type": "code",
   "execution_count": null,
   "id": "bffa8cf2-a0b4-4cbc-a361-1c69f0ddabc9",
   "metadata": {},
   "outputs": [],
   "source": [
    "corr_28 = sdmts.corridor.copy()"
   ]
  },
  {
   "cell_type": "code",
   "execution_count": null,
   "id": "0b57fb50-a750-4349-b111-4b47167f48c7",
   "metadata": {},
   "outputs": [],
   "source": [
    "corridors = [corr_28]"
   ]
  },
  {
   "cell_type": "code",
   "execution_count": null,
   "id": "105bfee3-d990-46d6-b02a-09caaddfbabb",
   "metadata": {},
   "outputs": [],
   "source": [
    "# sdmts.corridor.explore(m = pm)"
   ]
  },
  {
   "cell_type": "markdown",
   "id": "35da186e-0c6b-4103-bbe3-bc0af1bad6d6",
   "metadata": {
    "tags": []
   },
   "source": [
    "## Route 10"
   ]
  },
  {
   "cell_type": "code",
   "execution_count": null,
   "id": "db0c28ac-8134-495c-85cd-2a432a551131",
   "metadata": {},
   "outputs": [],
   "source": [
    "shape_id = '10_2_68'\n",
    "stop_range = [6, 21]"
   ]
  },
  {
   "cell_type": "code",
   "execution_count": null,
   "id": "1e07c399-963a-42ca-9fd2-a4763e2bd83e",
   "metadata": {},
   "outputs": [],
   "source": [
    "sdmts.autocorridor(shape_id=shape_id, stop_seq_range=stop_range)"
   ]
  },
  {
   "cell_type": "code",
   "execution_count": null,
   "id": "66d227f7-246e-47ed-a392-bec8665a70e8",
   "metadata": {},
   "outputs": [],
   "source": [
    "sdmts.reset_filter()"
   ]
  },
  {
   "cell_type": "code",
   "execution_count": null,
   "id": "79afd8b4-c55d-4dcd-a9f6-2be76453b053",
   "metadata": {},
   "outputs": [],
   "source": [
    "sdmts.corridor_metrics()"
   ]
  },
  {
   "cell_type": "code",
   "execution_count": null,
   "id": "db25352d-aef8-4573-b050-9e3b7ae0b9a2",
   "metadata": {},
   "outputs": [],
   "source": [
    "sdmts.quick_map_corridor()"
   ]
  },
  {
   "cell_type": "code",
   "execution_count": null,
   "id": "4ddfb1eb-34a5-49fc-b905-11e787ae5b21",
   "metadata": {},
   "outputs": [],
   "source": [
    "corr_10 = sdmts.corridor.copy()\n",
    "corridors += [corr_10]"
   ]
  },
  {
   "cell_type": "markdown",
   "id": "8cc35600-8e85-4f62-bc29-80d57cfeb476",
   "metadata": {},
   "source": [
    "## Route 27"
   ]
  },
  {
   "cell_type": "code",
   "execution_count": null,
   "id": "1d4a0df4-c5d3-4272-a733-0104a61e78d7",
   "metadata": {},
   "outputs": [],
   "source": [
    "shape_id = '27_3_87'\n",
    "stop_range = [16, 31]"
   ]
  },
  {
   "cell_type": "code",
   "execution_count": null,
   "id": "4fcd60f7-26cc-4e1c-8a60-51d1243d1316",
   "metadata": {},
   "outputs": [],
   "source": [
    "sdmts.autocorridor(shape_id=shape_id, stop_seq_range=stop_range)"
   ]
  },
  {
   "cell_type": "code",
   "execution_count": null,
   "id": "fa67061f-ba23-465e-863f-ac45d16212e9",
   "metadata": {},
   "outputs": [],
   "source": [
    "sdmts.reset_filter()"
   ]
  },
  {
   "cell_type": "code",
   "execution_count": null,
   "id": "e40cab2e-23e7-474d-94a7-6818cf607b88",
   "metadata": {},
   "outputs": [],
   "source": [
    "sdmts.corridor_metrics()"
   ]
  },
  {
   "cell_type": "code",
   "execution_count": null,
   "id": "3eae5cb9-c1b1-4ddf-bb17-58f35e7301ef",
   "metadata": {},
   "outputs": [],
   "source": [
    "sdmts.quick_map_corridor()"
   ]
  },
  {
   "cell_type": "code",
   "execution_count": null,
   "id": "7473ad77-65e9-45e6-b590-b056151f4527",
   "metadata": {},
   "outputs": [],
   "source": [
    "corr_27 = sdmts.corridor.copy()\n",
    "corridors += [corr_27]"
   ]
  },
  {
   "cell_type": "markdown",
   "id": "5e47b1c3-3686-4b68-9ab7-a851d0b788dc",
   "metadata": {},
   "source": [
    "## Route 12"
   ]
  },
  {
   "cell_type": "code",
   "execution_count": null,
   "id": "dd807697-3145-4175-a00e-f8e688379839",
   "metadata": {},
   "outputs": [],
   "source": [
    "shape_id = '12_2_13'\n",
    "stop_range = [3, 31]"
   ]
  },
  {
   "cell_type": "code",
   "execution_count": null,
   "id": "c7ba7adc-53e7-46f4-93f4-bb8b04af44df",
   "metadata": {},
   "outputs": [],
   "source": [
    "sdmts.autocorridor(shape_id=shape_id, stop_seq_range=stop_range)"
   ]
  },
  {
   "cell_type": "code",
   "execution_count": null,
   "id": "0d67a426-6f9d-43ca-982a-7c1fa76a4e16",
   "metadata": {},
   "outputs": [],
   "source": [
    "sdmts.set_filter(route_names=['12'])"
   ]
  },
  {
   "cell_type": "code",
   "execution_count": null,
   "id": "33786e31-4e19-41ae-9228-5e9f2cff2d35",
   "metadata": {},
   "outputs": [],
   "source": [
    "sdmts.corridor_metrics()"
   ]
  },
  {
   "cell_type": "code",
   "execution_count": null,
   "id": "76951d78-8e49-4a45-932d-798f18fac8f3",
   "metadata": {},
   "outputs": [],
   "source": [
    "sdmts.quick_map_corridor()"
   ]
  },
  {
   "cell_type": "code",
   "execution_count": null,
   "id": "b1e7468b-d222-4271-8b08-5e5471d45955",
   "metadata": {},
   "outputs": [],
   "source": [
    "corr_12 = sdmts.corridor.copy()\n",
    "corridors += [corr_12]"
   ]
  },
  {
   "cell_type": "markdown",
   "id": "eb61fbec-2b49-4a0e-9c58-54fc989f8508",
   "metadata": {},
   "source": [
    "# Corridor Map"
   ]
  },
  {
   "cell_type": "code",
   "execution_count": null,
   "id": "ccaf35b5-82ba-4b6d-bbea-3ada25e3c4c9",
   "metadata": {},
   "outputs": [],
   "source": [
    "pd.concat(corridors).explore(m = pm)"
   ]
  },
  {
   "cell_type": "code",
   "execution_count": null,
   "id": "3dec8f36-b018-4aed-b8ca-8a2328096c58",
   "metadata": {},
   "outputs": [],
   "source": []
  },
  {
   "cell_type": "markdown",
   "id": "2e103c2c-6e10-4858-80e0-2ed7714ae2f1",
   "metadata": {},
   "source": [
    "## 2 - Hotspot Improvements"
   ]
  },
  {
   "cell_type": "code",
   "execution_count": null,
   "id": "3058578a-c687-49d5-ba8e-561ba29dce9a",
   "metadata": {},
   "outputs": [],
   "source": [
    "hotspot_gdf_d11 = ((better_bus_utils.get_sorted_transit_routes(recommendation_category=\"hotspot\"))\n",
    "                   >>filter(_.caltrans_district==\"11 - San Diego\")\n",
    "                   >>head(10) #get top 10\n",
    "                  )"
   ]
  },
  {
   "cell_type": "code",
   "execution_count": null,
   "id": "3c047503-ab48-4c39-9404-02cf629fb46a",
   "metadata": {},
   "outputs": [],
   "source": [
    "# hotspot_gdf_d11"
   ]
  },
  {
   "cell_type": "code",
   "execution_count": null,
   "id": "f770d278-0499-4af4-9d6a-e5c1f83c3f13",
   "metadata": {},
   "outputs": [],
   "source": [
    "hotspot_gdf_d11 = (hotspot_gdf_d11\n",
    "               >> select(-_.service_date)\n",
    "              )\n",
    "\n",
    "hotspot_gdf_d11.explore(\"route_id\", legend=True, tiles=\"CartoDB positron\")"
   ]
  },
  {
   "cell_type": "code",
   "execution_count": null,
   "id": "23b2ab7b-d787-419f-93cb-8fe033fb9289",
   "metadata": {},
   "outputs": [],
   "source": [
    "# inner join w gdf of slow routes\n",
    "hs_d11_names = (hotspot_gdf_d11\n",
    "                     >> inner_join(_,d11_routenames)\n",
    "                    )\n",
    "\n",
    "hs_d11_names"
   ]
  },
  {
   "cell_type": "code",
   "execution_count": null,
   "id": "3ff44f1d-8a1f-4381-b8d6-622c1f6d1c54",
   "metadata": {},
   "outputs": [],
   "source": [
    "# pass the route names as a filter parameter\n",
    "routename_list_hs = hs_d11_names[\"route_short_name\"].tolist()\n",
    "routename_list_hs"
   ]
  },
  {
   "cell_type": "code",
   "execution_count": null,
   "id": "94edfe31-6978-4cae-9525-c7aa8a69d533",
   "metadata": {},
   "outputs": [],
   "source": [
    "sdmts.set_filter(start_time='06:00', end_time='09:00', route_names = routename_list_hs)"
   ]
  },
  {
   "cell_type": "code",
   "execution_count": null,
   "id": "34ae7a36-700d-4ac7-9641-998c1c8ac7f7",
   "metadata": {},
   "outputs": [],
   "source": [
    "am = sdmts.segment_speed_map()"
   ]
  },
  {
   "cell_type": "code",
   "execution_count": null,
   "id": "8c7c0327-fe6e-4272-871e-615e44a686dc",
   "metadata": {},
   "outputs": [],
   "source": [
    "am"
   ]
  },
  {
   "cell_type": "code",
   "execution_count": null,
   "id": "d3a98ead-ddce-4a86-971c-525c3779e3f3",
   "metadata": {},
   "outputs": [],
   "source": [
    "sdmts.set_filter(start_time='15:00', end_time='19:00', route_names = routename_list_hs)"
   ]
  },
  {
   "cell_type": "code",
   "execution_count": null,
   "id": "42ecf893-4598-4e79-b34f-6ac58848e16a",
   "metadata": {},
   "outputs": [],
   "source": [
    "pm = sdmts.segment_speed_map()"
   ]
  },
  {
   "cell_type": "code",
   "execution_count": null,
   "id": "c1438dc6-02e4-4f3b-8c36-f2b921d90c0f",
   "metadata": {},
   "outputs": [],
   "source": [
    "pm"
   ]
  },
  {
   "cell_type": "markdown",
   "id": "be40a4e3-02a2-49a5-8b86-a6e0a7129288",
   "metadata": {},
   "source": [
    "# Draft Hotspot Recs, SDMTS, D11"
   ]
  },
  {
   "cell_type": "markdown",
   "id": "b11234f7-8d3d-4c6d-b207-a8b90c46b60a",
   "metadata": {},
   "source": [
    "## Route 27 (Genesee)"
   ]
  },
  {
   "cell_type": "code",
   "execution_count": null,
   "id": "f0faa177-ea01-4812-88f4-83ca27d2db81",
   "metadata": {},
   "outputs": [],
   "source": [
    "shape_id = '27_2_86'\n",
    "stop_range = [19, 23]"
   ]
  },
  {
   "cell_type": "code",
   "execution_count": null,
   "id": "74d30d71-a539-4246-a3a7-3f87a3c4ba5f",
   "metadata": {},
   "outputs": [],
   "source": [
    "sdmts.reset_filter()"
   ]
  },
  {
   "cell_type": "code",
   "execution_count": null,
   "id": "84437fa8-75dc-44f7-8e1e-799173be778e",
   "metadata": {},
   "outputs": [],
   "source": [
    "sdmts.autocorridor(shape_id=shape_id, stop_seq_range=stop_range)"
   ]
  },
  {
   "cell_type": "code",
   "execution_count": null,
   "id": "2434b68a-8128-442c-9d93-7eca6e2d8377",
   "metadata": {},
   "outputs": [],
   "source": [
    "sdmts.corridor_metrics()"
   ]
  },
  {
   "cell_type": "code",
   "execution_count": null,
   "id": "a2dac5b4-88de-4bfd-8eb3-1af83a76808b",
   "metadata": {},
   "outputs": [],
   "source": [
    "sdmts.quick_map_corridor()"
   ]
  },
  {
   "cell_type": "code",
   "execution_count": null,
   "id": "a27d5b3a-e000-44de-8761-7f8f7864afec",
   "metadata": {},
   "outputs": [],
   "source": []
  }
 ],
 "metadata": {
  "kernelspec": {
   "display_name": "Python 3 (ipykernel)",
   "language": "python",
   "name": "python3"
  },
  "language_info": {
   "codemirror_mode": {
    "name": "ipython",
    "version": 3
   },
   "file_extension": ".py",
   "mimetype": "text/x-python",
   "name": "python",
   "nbconvert_exporter": "python",
   "pygments_lexer": "ipython3",
   "version": "3.9.13"
  },
  "widgets": {
   "application/vnd.jupyter.widget-state+json": {
    "state": {},
    "version_major": 2,
    "version_minor": 0
   }
  }
 },
 "nbformat": 4,
 "nbformat_minor": 5
}
