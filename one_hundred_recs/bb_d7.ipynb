{
 "cells": [
  {
   "cell_type": "code",
   "execution_count": null,
   "id": "dfd34249-60bc-4fdb-9495-4994d780f4de",
   "metadata": {},
   "outputs": [],
   "source": [
    "import os\n",
    "os.environ[\"CALITP_BQ_MAX_BYTES\"] = str(800_000_000_000)\n",
    "import shared_utils\n",
    "\n",
    "import geopandas as gpd\n",
    "import pandas as pd\n",
    "import folium \n",
    "import branca\n",
    "import datetime as dt\n",
    "from siuba import *\n",
    "from bus_service_utils import better_bus_utils\n",
    "\n",
    "from rt_analysis import rt_filter_map_plot\n",
    "\n",
    "ZERO_THIRTY_COLORSCALE = branca.colormap.step.RdYlGn_11.scale(vmin=0, vmax=35)"
   ]
  },
  {
   "cell_type": "code",
   "execution_count": null,
   "id": "dd589919-7dee-4652-9a01-56e394c7d18f",
   "metadata": {},
   "outputs": [],
   "source": [
    "import bb_rt_helper"
   ]
  },
  {
   "cell_type": "code",
   "execution_count": null,
   "id": "eae12c5f-b8a5-499b-a437-4365568678b9",
   "metadata": {},
   "outputs": [],
   "source": [
    "import importlib\n",
    "importlib.reload(bb_rt_helper)"
   ]
  },
  {
   "cell_type": "markdown",
   "id": "d96f214d-4dc2-481c-8db6-bf5a3fd1733c",
   "metadata": {},
   "source": [
    "# 100 Recs - D7"
   ]
  },
  {
   "cell_type": "markdown",
   "id": "473a6770-4fdf-45fb-bc38-c822c36a5066",
   "metadata": {},
   "source": [
    "## 1 - Corridor Improvements"
   ]
  },
  {
   "cell_type": "code",
   "execution_count": null,
   "id": "bb91eaad-02c8-40d3-a0cf-4167b0ce6127",
   "metadata": {},
   "outputs": [],
   "source": [
    "bb_rt_helper.fm_from_bbutils?"
   ]
  },
  {
   "cell_type": "code",
   "execution_count": null,
   "id": "81fa3274-bb4c-4f00-a10a-42587f6ec4b1",
   "metadata": {
    "tags": []
   },
   "outputs": [],
   "source": [
    "fm_dict = bb_rt_helper.fm_from_bbutils(ct_dist='07 - Los Angeles', category='corridor')"
   ]
  },
  {
   "cell_type": "code",
   "execution_count": null,
   "id": "1eceda66-6bf1-43ef-99d4-92a75224c1dd",
   "metadata": {
    "tags": []
   },
   "outputs": [],
   "source": [
    "corr_speed_views = []\n",
    "for key in fm_dict.keys():\n",
    "    _m = fm_dict[key].segment_speed_map()\n",
    "    corr_speed_views += [fm_dict[key].detailed_map_view.copy()]"
   ]
  },
  {
   "cell_type": "code",
   "execution_count": null,
   "id": "e38acf30-31cc-4ce2-946c-82cb369968e0",
   "metadata": {},
   "outputs": [],
   "source": [
    "m_corr = fm_dict[182].segment_speed_map()"
   ]
  },
  {
   "cell_type": "code",
   "execution_count": null,
   "id": "97629cce-23fa-48e6-8bf7-d70e7af47a13",
   "metadata": {},
   "outputs": [],
   "source": [
    "m_corr"
   ]
  },
  {
   "cell_type": "markdown",
   "id": "f11b27d2-6ed3-4335-af51-f6cdc70714e6",
   "metadata": {},
   "source": [
    "## Quick SHOPP"
   ]
  },
  {
   "cell_type": "markdown",
   "id": "f0af5b2f-982a-4caa-98df-d3ef5a435ac0",
   "metadata": {},
   "source": [
    "## Route 4 (SHN only)"
   ]
  },
  {
   "cell_type": "code",
   "execution_count": null,
   "id": "b8ba4726-ab24-4a99-ac25-a42705f43faa",
   "metadata": {},
   "outputs": [],
   "source": [
    "shape_id = '40319_FEB22'\n",
    "stop_range = [33, 43]"
   ]
  },
  {
   "cell_type": "code",
   "execution_count": null,
   "id": "be164313-8636-4a89-a7a1-9ac0194159d8",
   "metadata": {},
   "outputs": [],
   "source": [
    "fm_dict[182].autocorridor(shape_id=shape_id, stop_seq_range=stop_range)"
   ]
  },
  {
   "cell_type": "code",
   "execution_count": null,
   "id": "fa17b46b-0dcf-424a-947c-96da0352365a",
   "metadata": {},
   "outputs": [],
   "source": [
    "fm_dict[182].set_filter(route_names=['4'])"
   ]
  },
  {
   "cell_type": "code",
   "execution_count": null,
   "id": "1623c3d7-de4f-4ac9-8b7f-dbc323ab9b4a",
   "metadata": {},
   "outputs": [],
   "source": [
    "fm_dict[182].corridor_metrics()"
   ]
  },
  {
   "cell_type": "code",
   "execution_count": null,
   "id": "c10f8c7c-a331-4e7e-abe2-ea24748897c7",
   "metadata": {},
   "outputs": [],
   "source": [
    "fm_dict[182].quick_map_corridor()"
   ]
  },
  {
   "cell_type": "code",
   "execution_count": null,
   "id": "5dc9cec3-468b-4ede-a4a7-76a8b0c73a34",
   "metadata": {},
   "outputs": [],
   "source": [
    "corr_4 = fm_dict[182].corridor.copy() # important to use .copy() here to avoid referencing the changing corridor"
   ]
  },
  {
   "cell_type": "code",
   "execution_count": null,
   "id": "66601101-444d-4a61-96d9-fe6fe8be47f7",
   "metadata": {},
   "outputs": [],
   "source": [
    "corridors = [corr_4]"
   ]
  },
  {
   "cell_type": "markdown",
   "id": "21db3495-ccf9-4387-944f-e92766c423a9",
   "metadata": {},
   "source": [
    "## Draft Corridor Recs, LA Metro, D7\n",
    "\n",
    "* Route 207, Slauson - Hollywood\n",
    "* Route 4, Sepulveda - Hoover\n",
    "* Route 233, Ventura - Woodman"
   ]
  },
  {
   "cell_type": "markdown",
   "id": "b7cbd2cc-7687-47a1-87cf-d53716be8039",
   "metadata": {},
   "source": [
    "## Route 207"
   ]
  },
  {
   "cell_type": "code",
   "execution_count": null,
   "id": "94fa6c92-4e45-4753-97c7-1ff505bcc291",
   "metadata": {},
   "outputs": [],
   "source": [
    "shape_id = '2070290_FEB22'\n",
    "stop_range = [20, 57]"
   ]
  },
  {
   "cell_type": "code",
   "execution_count": null,
   "id": "5426411d-f0c2-477a-8c07-b93e5c2f256a",
   "metadata": {},
   "outputs": [],
   "source": [
    "fm_dict[182].autocorridor(shape_id=shape_id, stop_seq_range=stop_range)"
   ]
  },
  {
   "cell_type": "code",
   "execution_count": null,
   "id": "63e8273f-d570-4bf9-b8c7-ec647111b686",
   "metadata": {},
   "outputs": [],
   "source": [
    "fm_dict[182].set_filter(route_names=['207'])"
   ]
  },
  {
   "cell_type": "code",
   "execution_count": null,
   "id": "976e3fd1-0652-41d8-a24c-a03f946ed660",
   "metadata": {},
   "outputs": [],
   "source": [
    "fm_dict[182].corridor_metrics()"
   ]
  },
  {
   "cell_type": "code",
   "execution_count": null,
   "id": "d3d6d84e-12b7-4c93-8839-e63f998245d7",
   "metadata": {},
   "outputs": [],
   "source": [
    "fm_dict[182].quick_map_corridor()"
   ]
  },
  {
   "cell_type": "code",
   "execution_count": null,
   "id": "bffa8cf2-a0b4-4cbc-a361-1c69f0ddabc9",
   "metadata": {},
   "outputs": [],
   "source": [
    "corr_207 = fm_dict[182].corridor.copy() # important to use .copy() here to avoid referencing the changing corridor"
   ]
  },
  {
   "cell_type": "code",
   "execution_count": null,
   "id": "0b57fb50-a750-4349-b111-4b47167f48c7",
   "metadata": {},
   "outputs": [],
   "source": [
    "corridors = [corr_207]"
   ]
  },
  {
   "cell_type": "markdown",
   "id": "2b3e04c3-9137-496a-952a-29bd0de398bd",
   "metadata": {},
   "source": [
    "## Route 4 (Full)"
   ]
  },
  {
   "cell_type": "code",
   "execution_count": null,
   "id": "202e84ef-5eae-4800-a3c8-8434cc1ecd30",
   "metadata": {},
   "outputs": [],
   "source": [
    "# shape_id = '40319_FEB22'\n",
    "# stop_range = [3, 50]\n",
    "# fm_dict[182].autocorridor(shape_id=shape_id, stop_seq_range=stop_range)\n",
    "# fm_dict[182].set_filter(route_names=['4'])"
   ]
  },
  {
   "cell_type": "code",
   "execution_count": null,
   "id": "2ea8bd14-903e-4124-a7a0-c868f3fbaba6",
   "metadata": {},
   "outputs": [],
   "source": [
    "# fm_dict[182].corridor_metrics()"
   ]
  },
  {
   "cell_type": "code",
   "execution_count": null,
   "id": "a9c2fe4e-0574-4c34-b4a9-d96ac88a1086",
   "metadata": {},
   "outputs": [],
   "source": [
    "# fm_dict[182].quick_map_corridor()"
   ]
  },
  {
   "cell_type": "code",
   "execution_count": null,
   "id": "7ee2e595-8628-4415-bdb8-59bda0e266b7",
   "metadata": {},
   "outputs": [],
   "source": [
    "# corr_4 = fm_dict[182].corridor.copy() # important to use .copy() here to avoid referencing the changing corridor\n",
    "# corridors += [corr_4]"
   ]
  },
  {
   "cell_type": "markdown",
   "id": "6836b272-b657-4868-affb-79dc917de28e",
   "metadata": {},
   "source": [
    "## Route 233"
   ]
  },
  {
   "cell_type": "code",
   "execution_count": null,
   "id": "6be4fd43-7618-4a15-bae3-6d9a70d021ad",
   "metadata": {},
   "outputs": [],
   "source": [
    "shape_id = '2330157_FEB22'\n",
    "stop_range = [17, 48]"
   ]
  },
  {
   "cell_type": "code",
   "execution_count": null,
   "id": "36d2b960-4fd9-45ad-b280-f90bfa1a914e",
   "metadata": {},
   "outputs": [],
   "source": [
    "fm_dict[182].autocorridor(shape_id=shape_id, stop_seq_range=stop_range)"
   ]
  },
  {
   "cell_type": "code",
   "execution_count": null,
   "id": "674f15ef-815e-4deb-898a-7509c87de707",
   "metadata": {},
   "outputs": [],
   "source": [
    "fm_dict[182].set_filter(route_names=['233'])"
   ]
  },
  {
   "cell_type": "code",
   "execution_count": null,
   "id": "d9dda6bc-7dce-473f-85da-e494396e62c7",
   "metadata": {},
   "outputs": [],
   "source": [
    "fm_dict[182].corridor_metrics()"
   ]
  },
  {
   "cell_type": "code",
   "execution_count": null,
   "id": "6cf61225-1bb9-4a5e-ab18-d2b8f250b1d2",
   "metadata": {},
   "outputs": [],
   "source": [
    "fm_dict[182].quick_map_corridor()"
   ]
  },
  {
   "cell_type": "code",
   "execution_count": null,
   "id": "9737bc69-9f95-4e78-a95e-854fd40e0a3e",
   "metadata": {},
   "outputs": [],
   "source": [
    "corr_233 = fm_dict[182].corridor.copy() # important to use .copy() here to avoid referencing the changing corridor"
   ]
  },
  {
   "cell_type": "code",
   "execution_count": null,
   "id": "6aa168d1-bdfd-4f64-88ed-52b1742eb24e",
   "metadata": {},
   "outputs": [],
   "source": [
    "corridors += [corr_233]"
   ]
  },
  {
   "cell_type": "markdown",
   "id": "fc2dc4b5-da49-451b-ad2e-28b3d10617b6",
   "metadata": {},
   "source": [
    "## Route 108"
   ]
  },
  {
   "cell_type": "code",
   "execution_count": null,
   "id": "3235afd8-2265-4c6b-9e65-52a56559a4ce",
   "metadata": {},
   "outputs": [],
   "source": [
    "shape_id = '1080303_FEB22'\n",
    "stop_range = [4, 52]"
   ]
  },
  {
   "cell_type": "code",
   "execution_count": null,
   "id": "4278b73e-941d-46bd-bf5a-8334f12ec4ed",
   "metadata": {},
   "outputs": [],
   "source": [
    "fm_dict[182].autocorridor(shape_id=shape_id, stop_seq_range=stop_range)"
   ]
  },
  {
   "cell_type": "code",
   "execution_count": null,
   "id": "af1cb332-5dfd-46be-b99a-d9623ab05033",
   "metadata": {},
   "outputs": [],
   "source": [
    "fm_dict[182].set_filter(route_names=['108'])"
   ]
  },
  {
   "cell_type": "code",
   "execution_count": null,
   "id": "3f167368-24b5-4ab4-94a3-8953cc73b190",
   "metadata": {},
   "outputs": [],
   "source": [
    "fm_dict[182].corridor_metrics()"
   ]
  },
  {
   "cell_type": "code",
   "execution_count": null,
   "id": "09ec8f85-9f86-4b45-9886-c467fcc0829a",
   "metadata": {},
   "outputs": [],
   "source": [
    "fm_dict[182].quick_map_corridor()"
   ]
  },
  {
   "cell_type": "code",
   "execution_count": null,
   "id": "4026622c-9a87-4acd-8ff7-79feaebbdad0",
   "metadata": {},
   "outputs": [],
   "source": [
    "corr_108 = fm_dict[182].corridor.copy() # important to use .copy() here to avoid referencing the changing corridor"
   ]
  },
  {
   "cell_type": "code",
   "execution_count": null,
   "id": "2c9f9ac9-5ad4-4274-b7a4-cb2c01ce0fb9",
   "metadata": {},
   "outputs": [],
   "source": [
    "corridors += [corr_108]"
   ]
  },
  {
   "cell_type": "markdown",
   "id": "fc9c495b-2eeb-4bb2-a7eb-287520d0e4a9",
   "metadata": {},
   "source": [
    "## Route 260"
   ]
  },
  {
   "cell_type": "code",
   "execution_count": null,
   "id": "93369d78-a9e9-44bc-9cfa-013a54befad9",
   "metadata": {},
   "outputs": [],
   "source": [
    "shape_id = '2600271_FEB22'\n",
    "stop_range = [4, 39]"
   ]
  },
  {
   "cell_type": "code",
   "execution_count": null,
   "id": "c0590df8-3527-4c62-8592-fe7d1b9cd920",
   "metadata": {},
   "outputs": [],
   "source": [
    "fm_dict[182].autocorridor(shape_id=shape_id, stop_seq_range=stop_range)"
   ]
  },
  {
   "cell_type": "code",
   "execution_count": null,
   "id": "a88215d2-a0d4-4f69-b884-323fbfffb01d",
   "metadata": {},
   "outputs": [],
   "source": [
    "fm_dict[182].set_filter(route_names=['260'])"
   ]
  },
  {
   "cell_type": "code",
   "execution_count": null,
   "id": "c303257a-7b6f-429a-8024-f2db65ef2607",
   "metadata": {},
   "outputs": [],
   "source": [
    "fm_dict[182].corridor_metrics()"
   ]
  },
  {
   "cell_type": "code",
   "execution_count": null,
   "id": "8735616a-aee1-48ce-a7dc-257a0902a090",
   "metadata": {},
   "outputs": [],
   "source": [
    "fm_dict[182].quick_map_corridor()"
   ]
  },
  {
   "cell_type": "code",
   "execution_count": null,
   "id": "0b482604-2102-4170-948c-9f5e4a536a32",
   "metadata": {},
   "outputs": [],
   "source": [
    "corr_260 = fm_dict[182].corridor.copy() # important to use .copy() here to avoid referencing the changing corridor"
   ]
  },
  {
   "cell_type": "code",
   "execution_count": null,
   "id": "b336903c-a212-4467-aa7d-67dcd7023487",
   "metadata": {},
   "outputs": [],
   "source": [
    "corridors += [corr_260]"
   ]
  },
  {
   "cell_type": "markdown",
   "id": "2e103c2c-6e10-4858-80e0-2ed7714ae2f1",
   "metadata": {},
   "source": [
    "## 2 - Hotspot Improvements"
   ]
  },
  {
   "cell_type": "code",
   "execution_count": null,
   "id": "3f5da3a1-57a8-47f0-ae76-8786dd61d60d",
   "metadata": {},
   "outputs": [],
   "source": [
    "# without get_sorted returns mainly Metro Rail\n",
    "fm_dict = bb_rt_helper.fm_from_bbutils(ct_dist='07 - Los Angeles', category='hotspot', get_sorted = True, fm_dict = fm_dict)"
   ]
  },
  {
   "cell_type": "code",
   "execution_count": null,
   "id": "6f47736b-14a3-4032-ae3c-add7f2b19738",
   "metadata": {},
   "outputs": [],
   "source": [
    "hs_speed_views = []\n",
    "for key in fm_dict.keys():\n",
    "    _m = fm_dict[key].segment_speed_map()\n",
    "    hs_speed_views += [fm_dict[key].detailed_map_view.copy()]"
   ]
  },
  {
   "cell_type": "code",
   "execution_count": null,
   "id": "42ecf893-4598-4e79-b34f-6ac58848e16a",
   "metadata": {},
   "outputs": [],
   "source": [
    "m_hs = fm_dict[182].segment_speed_map()"
   ]
  },
  {
   "cell_type": "code",
   "execution_count": null,
   "id": "98e25036-96d1-4e6e-b7e3-92952af0499c",
   "metadata": {},
   "outputs": [],
   "source": [
    "m_hs"
   ]
  },
  {
   "cell_type": "markdown",
   "id": "be40a4e3-02a2-49a5-8b86-a6e0a7129288",
   "metadata": {},
   "source": [
    "# Draft Hotspot Recs, LA Metro, D7"
   ]
  },
  {
   "cell_type": "markdown",
   "id": "133ab2fb-5c39-46c4-ad5e-e6187f0aadfa",
   "metadata": {
    "tags": []
   },
   "source": [
    "## Route 4 (I-405)"
   ]
  },
  {
   "cell_type": "code",
   "execution_count": null,
   "id": "48770b53-f985-44e8-aa2c-04803887f98c",
   "metadata": {},
   "outputs": [],
   "source": [
    "shape_id = '40320_FEB22'\n",
    "stop_range = [77, 81]"
   ]
  },
  {
   "cell_type": "code",
   "execution_count": null,
   "id": "5f162600-c64b-4dc1-ba82-aa4f5e9a6d29",
   "metadata": {},
   "outputs": [],
   "source": [
    "fm_dict[182].set_filter(route_names=['4'])"
   ]
  },
  {
   "cell_type": "code",
   "execution_count": null,
   "id": "fe52b350-147e-4f50-9bde-adc53a78c39d",
   "metadata": {},
   "outputs": [],
   "source": [
    "fm_dict[182].autocorridor(shape_id=shape_id, stop_seq_range=stop_range)"
   ]
  },
  {
   "cell_type": "code",
   "execution_count": null,
   "id": "5a2a7222-8b5f-4c97-8edf-746731c0098a",
   "metadata": {},
   "outputs": [],
   "source": [
    "fm_dict[182].corridor_metrics()"
   ]
  },
  {
   "cell_type": "code",
   "execution_count": null,
   "id": "24fab121-5d91-4cfe-996a-e6a64cfb7816",
   "metadata": {},
   "outputs": [],
   "source": [
    "fm_dict[182].quick_map_corridor()"
   ]
  },
  {
   "cell_type": "code",
   "execution_count": null,
   "id": "6284e03b-68c1-4aa4-97ee-a98ad772be1f",
   "metadata": {},
   "outputs": [],
   "source": [
    "hs_4 = fm_dict[182].corridor.copy()\n",
    "hotspots = [hs_4]"
   ]
  },
  {
   "cell_type": "markdown",
   "id": "1d57993c-ce1f-4e3f-bf8a-0ecc47fa73c8",
   "metadata": {},
   "source": [
    "## Route 217 (La Cienega)"
   ]
  },
  {
   "cell_type": "code",
   "execution_count": null,
   "id": "cbad800c-bbfb-4581-936b-4bf339b60382",
   "metadata": {},
   "outputs": [],
   "source": [
    "shape_id = '2170310_FEB22'\n",
    "stop_range = [18, 22]"
   ]
  },
  {
   "cell_type": "code",
   "execution_count": null,
   "id": "145c6971-0648-4f52-bb91-ebb65b4fcda3",
   "metadata": {},
   "outputs": [],
   "source": [
    "fm_dict[182].set_filter(route_names=['217'])"
   ]
  },
  {
   "cell_type": "code",
   "execution_count": null,
   "id": "c4fe597a-5a3f-44f2-b8cd-10d680405a66",
   "metadata": {},
   "outputs": [],
   "source": [
    "fm_dict[182].autocorridor(shape_id=shape_id, stop_seq_range=stop_range)"
   ]
  },
  {
   "cell_type": "code",
   "execution_count": null,
   "id": "355a4bf5-0c5a-4a10-92d2-1c9c516aedd2",
   "metadata": {},
   "outputs": [],
   "source": [
    "fm_dict[182].corridor_metrics()"
   ]
  },
  {
   "cell_type": "code",
   "execution_count": null,
   "id": "9199be33-9328-4c75-8d00-eecf0858e07c",
   "metadata": {},
   "outputs": [],
   "source": [
    "fm_dict[182].quick_map_corridor()"
   ]
  },
  {
   "cell_type": "code",
   "execution_count": null,
   "id": "4cfac016-4753-4c92-a396-ebd1d0677034",
   "metadata": {},
   "outputs": [],
   "source": [
    "hs_217 = fm_dict[182].corridor.copy()\n",
    "hotspots += [hs_217]"
   ]
  },
  {
   "cell_type": "markdown",
   "id": "fc3a0915-b268-4e2f-8c3b-e1ae320714e1",
   "metadata": {},
   "source": [
    "## Route 4 (Beverly Hills)"
   ]
  },
  {
   "cell_type": "code",
   "execution_count": null,
   "id": "3954b1ee-bf40-4c71-bc93-86847f1def12",
   "metadata": {},
   "outputs": [],
   "source": [
    "shape_id = '40314_FEB22'\n",
    "stop_range = [20, 21]"
   ]
  },
  {
   "cell_type": "code",
   "execution_count": null,
   "id": "1eea6686-119a-4aaf-acd8-f661c985fd18",
   "metadata": {},
   "outputs": [],
   "source": [
    "fm_dict[182].set_filter(route_names=['4'])"
   ]
  },
  {
   "cell_type": "code",
   "execution_count": null,
   "id": "c771779c-04b0-4b0f-bd3a-babaeda1d8e5",
   "metadata": {},
   "outputs": [],
   "source": [
    "fm_dict[182].autocorridor(shape_id=shape_id, stop_seq_range=stop_range)"
   ]
  },
  {
   "cell_type": "code",
   "execution_count": null,
   "id": "85ea8950-e4b7-4f75-ace7-48b88acbb1d6",
   "metadata": {},
   "outputs": [],
   "source": [
    "fm_dict[182].corridor_metrics()"
   ]
  },
  {
   "cell_type": "code",
   "execution_count": null,
   "id": "ba11837b-0397-4966-9d54-146601c646c9",
   "metadata": {},
   "outputs": [],
   "source": [
    "fm_dict[182].quick_map_corridor()"
   ]
  },
  {
   "cell_type": "code",
   "execution_count": null,
   "id": "02526d99-f7be-427c-b79f-20ae9de913b2",
   "metadata": {},
   "outputs": [],
   "source": [
    "hs_4a = fm_dict[182].corridor.copy()\n",
    "hotspots += [hs_4a]"
   ]
  },
  {
   "cell_type": "markdown",
   "id": "77adf224-c304-4d14-b1c6-fce32978de71",
   "metadata": {},
   "source": [
    "## Route 720/20 (Beverly Hills)"
   ]
  },
  {
   "cell_type": "code",
   "execution_count": null,
   "id": "5b6f7fc4-6496-4047-8104-6096ba926dd6",
   "metadata": {},
   "outputs": [],
   "source": [
    "shape_id = '200782_FEB22'\n",
    "stop_range = [13, 21]"
   ]
  },
  {
   "cell_type": "code",
   "execution_count": null,
   "id": "d9d9d80f-cdbd-4090-b225-68f61912a005",
   "metadata": {},
   "outputs": [],
   "source": [
    "fm_dict[182].set_filter(route_names=['720', '20'])"
   ]
  },
  {
   "cell_type": "code",
   "execution_count": null,
   "id": "1e462da2-dc1d-417e-aa0f-e5035e3abe46",
   "metadata": {},
   "outputs": [],
   "source": [
    "fm_dict[182].autocorridor(shape_id=shape_id, stop_seq_range=stop_range)"
   ]
  },
  {
   "cell_type": "code",
   "execution_count": null,
   "id": "a42a79b9-48b7-4133-9d16-f4181c97fe14",
   "metadata": {},
   "outputs": [],
   "source": [
    "fm_dict[182].corridor_metrics()"
   ]
  },
  {
   "cell_type": "code",
   "execution_count": null,
   "id": "eaf04fa3-6049-4fc3-b158-e6bfbeb18e33",
   "metadata": {},
   "outputs": [],
   "source": [
    "fm_dict[182].quick_map_corridor()"
   ]
  },
  {
   "cell_type": "code",
   "execution_count": null,
   "id": "104998ef-d469-490a-a20d-76b39f3d6140",
   "metadata": {},
   "outputs": [],
   "source": [
    "hs_20 = fm_dict[182].corridor.copy()\n",
    "hotspots += [hs_20]"
   ]
  },
  {
   "cell_type": "markdown",
   "id": "e8783c75-3535-4619-ae2a-8ff473a98a59",
   "metadata": {},
   "source": [
    "# Draft Hotspot Recs, Long Beach Transit, D7"
   ]
  },
  {
   "cell_type": "code",
   "execution_count": null,
   "id": "d0b7b15e-09fd-4e34-a962-fa060b20dd48",
   "metadata": {},
   "outputs": [],
   "source": [
    "fm_dict[170].segment_speed_map()"
   ]
  },
  {
   "cell_type": "markdown",
   "id": "b9c2db77-7bbf-40dd-a1f4-b0492135ccfb",
   "metadata": {},
   "source": [
    "## Route 121 (Livingston - PCH)"
   ]
  },
  {
   "cell_type": "code",
   "execution_count": null,
   "id": "3936b646-51da-45ee-b82d-f955d81a348f",
   "metadata": {},
   "outputs": [],
   "source": [
    "shape_id = '1210150'\n",
    "stop_range = [26, 33]"
   ]
  },
  {
   "cell_type": "code",
   "execution_count": null,
   "id": "6011ae55-1f8b-4f15-a2de-4938d305e5ca",
   "metadata": {},
   "outputs": [],
   "source": [
    "fm_dict[170].set_filter(route_names=['121'])"
   ]
  },
  {
   "cell_type": "code",
   "execution_count": null,
   "id": "b239588d-ac31-4876-8dc7-6da8e5164844",
   "metadata": {},
   "outputs": [],
   "source": [
    "fm_dict[170].autocorridor(shape_id=shape_id, stop_seq_range=stop_range)"
   ]
  },
  {
   "cell_type": "code",
   "execution_count": null,
   "id": "50438af7-8695-453e-ab4b-bbb1a9427290",
   "metadata": {},
   "outputs": [],
   "source": [
    "fm_dict[170].corridor_metrics()"
   ]
  },
  {
   "cell_type": "code",
   "execution_count": null,
   "id": "19640c15-1b0f-4390-af80-d4b30232723c",
   "metadata": {},
   "outputs": [],
   "source": [
    "fm_dict[170].quick_map_corridor()"
   ]
  },
  {
   "cell_type": "code",
   "execution_count": null,
   "id": "b707c495-dc74-4bd0-9c49-9bf81e907a5a",
   "metadata": {},
   "outputs": [],
   "source": [
    "hs_121 = fm_dict[170].corridor.copy()\n",
    "hotspots += [hs_121]"
   ]
  },
  {
   "cell_type": "markdown",
   "id": "a22f909f-fea3-48c7-9ee3-7830b70b5227",
   "metadata": {},
   "source": [
    "## Route 51 (Anaheim - PCH)"
   ]
  },
  {
   "cell_type": "code",
   "execution_count": null,
   "id": "48aad5b6-ca43-437f-81f2-f4e6cc73c064",
   "metadata": {},
   "outputs": [],
   "source": [
    "shape_id = '510074'\n",
    "stop_range = [6, 10]"
   ]
  },
  {
   "cell_type": "code",
   "execution_count": null,
   "id": "a9be5aed-48a4-458c-8739-8906a0f3d739",
   "metadata": {},
   "outputs": [],
   "source": [
    "fm_dict[170].set_filter(route_names=['51'])"
   ]
  },
  {
   "cell_type": "code",
   "execution_count": null,
   "id": "07b77c78-5a94-4e02-9d6b-4fd2f6785331",
   "metadata": {},
   "outputs": [],
   "source": [
    "fm_dict[170].autocorridor(shape_id=shape_id, stop_seq_range=stop_range)"
   ]
  },
  {
   "cell_type": "code",
   "execution_count": null,
   "id": "3ae12b9b-0775-48d6-a9df-d58b3ca2f89a",
   "metadata": {},
   "outputs": [],
   "source": [
    "fm_dict[170].corridor_metrics()"
   ]
  },
  {
   "cell_type": "code",
   "execution_count": null,
   "id": "9feae136-f1ae-4f94-82c9-17e1ddcdbc75",
   "metadata": {},
   "outputs": [],
   "source": [
    "fm_dict[170].quick_map_corridor()"
   ]
  },
  {
   "cell_type": "code",
   "execution_count": null,
   "id": "e3e350b5-e8fe-49a2-bb41-6c9b62d813f1",
   "metadata": {},
   "outputs": [],
   "source": [
    "hs_51 = fm_dict[170].corridor.copy()\n",
    "hotspots += [hs_51]"
   ]
  },
  {
   "cell_type": "markdown",
   "id": "8c5700a1-553e-4605-9fba-eeafede81cb6",
   "metadata": {},
   "source": [
    "# Draft Hotspot Recs, LADOT, D7"
   ]
  },
  {
   "cell_type": "code",
   "execution_count": null,
   "id": "b0bf5249-6a5f-471b-9097-8ef7c4eea25f",
   "metadata": {},
   "outputs": [],
   "source": [
    "fm_dict[183].segment_speed_map(how = 'average')"
   ]
  },
  {
   "cell_type": "markdown",
   "id": "44a15cf7-45dd-4b01-861d-474043cfcd42",
   "metadata": {},
   "source": [
    "## Route Boyle Heights (Mott - Cornwell)"
   ]
  },
  {
   "cell_type": "code",
   "execution_count": null,
   "id": "924f6bfe-eb47-44c9-ba0d-32bd45e79d81",
   "metadata": {},
   "outputs": [],
   "source": [
    "shape_id = '15715'\n",
    "stop_range = [20, 22]"
   ]
  },
  {
   "cell_type": "code",
   "execution_count": null,
   "id": "2c92cc07-a3af-4ca8-842b-587764b52b57",
   "metadata": {},
   "outputs": [],
   "source": [
    "fm_dict[183].set_filter(route_names=['Boyle Heights'])"
   ]
  },
  {
   "cell_type": "code",
   "execution_count": null,
   "id": "11c2a35b-5f7b-4c02-adc3-02f008dc50b0",
   "metadata": {},
   "outputs": [],
   "source": [
    "fm_dict[183].autocorridor(shape_id=shape_id, stop_seq_range=stop_range)"
   ]
  },
  {
   "cell_type": "code",
   "execution_count": null,
   "id": "1cc22421-7174-42a7-acae-fbff7305f271",
   "metadata": {},
   "outputs": [],
   "source": [
    "fm_dict[183].corridor_metrics()"
   ]
  },
  {
   "cell_type": "code",
   "execution_count": null,
   "id": "114e73fd-0b90-42ab-b44c-5d25aad69c56",
   "metadata": {},
   "outputs": [],
   "source": [
    "fm_dict[183].quick_map_corridor()"
   ]
  },
  {
   "cell_type": "code",
   "execution_count": null,
   "id": "f67053d1-78c9-4eeb-a322-127a233bd0eb",
   "metadata": {},
   "outputs": [],
   "source": [
    "hs_boyle = fm_dict[183].corridor.copy()\n",
    "hotspots += [hs_boyle]"
   ]
  },
  {
   "cell_type": "markdown",
   "id": "2e6254c1-9b63-4981-b106-4322204f981f",
   "metadata": {},
   "source": [
    "## Route Hollywood (Mott - Cornwell)"
   ]
  },
  {
   "cell_type": "code",
   "execution_count": null,
   "id": "83b858c8-9660-4cdf-aa32-c55c62497eee",
   "metadata": {},
   "outputs": [],
   "source": [
    "shape_id = '9255'\n",
    "stop_range = [44, 45]"
   ]
  },
  {
   "cell_type": "code",
   "execution_count": null,
   "id": "daa0b3b2-dcdc-473b-91a4-5a6bad5f759d",
   "metadata": {},
   "outputs": [],
   "source": [
    "fm_dict[183].reset_filter()"
   ]
  },
  {
   "cell_type": "code",
   "execution_count": null,
   "id": "f221467a-0dc5-45f6-a2bb-bba01a380484",
   "metadata": {},
   "outputs": [],
   "source": [
    "fm_dict[183].set_filter(route_names=['Hollywood Counterclockwise', 'Hollywood Clockwise'])"
   ]
  },
  {
   "cell_type": "code",
   "execution_count": null,
   "id": "cad63520-a1fa-465f-a185-6f4a56b64ccb",
   "metadata": {},
   "outputs": [],
   "source": [
    "fm_dict[183].autocorridor(shape_id=shape_id, stop_seq_range=stop_range)"
   ]
  },
  {
   "cell_type": "code",
   "execution_count": null,
   "id": "96aacc14-e73b-49e3-8992-ed13228f9aac",
   "metadata": {},
   "outputs": [],
   "source": [
    "fm_dict[183].corridor_trip_speeds >> distinct(_.route_short_name)"
   ]
  },
  {
   "cell_type": "code",
   "execution_count": null,
   "id": "7d195e80-ed80-44e9-84bd-87c7dd2cd152",
   "metadata": {},
   "outputs": [],
   "source": [
    "fm_dict[183].corridor_metrics()"
   ]
  },
  {
   "cell_type": "code",
   "execution_count": null,
   "id": "d1e05bfc-a3f1-46a9-a75f-a18a50fba7ce",
   "metadata": {},
   "outputs": [],
   "source": [
    "fm_dict[183].quick_map_corridor()"
   ]
  },
  {
   "cell_type": "code",
   "execution_count": null,
   "id": "00504473-b93d-4b57-85c7-5b77a37c3ab4",
   "metadata": {},
   "outputs": [],
   "source": [
    "hs_holly = fm_dict[183].corridor.copy()\n",
    "hotspots += [hs_holly]"
   ]
  },
  {
   "cell_type": "markdown",
   "id": "2dd37235-ffb1-4871-9343-05f7984ec042",
   "metadata": {},
   "source": [
    "## Santa Clarita Transit\n",
    "\n",
    "* Identified routes are single-trip, school services, out of scope"
   ]
  },
  {
   "cell_type": "code",
   "execution_count": null,
   "id": "76626793-2ea1-438a-90d5-f39e704d6b21",
   "metadata": {},
   "outputs": [],
   "source": [
    "# fm_dict[295].segment_speed_map()"
   ]
  },
  {
   "cell_type": "markdown",
   "id": "a1900fbc-872f-42a7-b515-821470f6b0e7",
   "metadata": {},
   "source": [
    "## Map Testing"
   ]
  },
  {
   "cell_type": "code",
   "execution_count": null,
   "id": "7e3895c2-c6af-4749-9313-cf3a3aea1b02",
   "metadata": {
    "tags": []
   },
   "outputs": [],
   "source": [
    "all_speed_segs = pd.concat(hs_speed_views)\n",
    "all_corr_segs = pd.concat(corr_speed_views)\n",
    "# full join to preserve all unique segments, since they can differ\n",
    "# from hotspot to corridor (or indeed across operators)\n",
    "all_segs = all_speed_segs >> full_join(_, all_corr_segs)"
   ]
  },
  {
   "cell_type": "code",
   "execution_count": null,
   "id": "a75609d1-e1c1-4b27-a6c3-e3b8d7aeebc6",
   "metadata": {},
   "outputs": [],
   "source": [
    "all_corr = pd.concat(corridors)\n",
    "all_corr['location_type'] = 'corridor'\n",
    "all_hs = pd.concat(hotspots)\n",
    "all_hs['location_type'] = 'hotspot'\n",
    "combined = pd.concat([all_corr, all_hs])"
   ]
  },
  {
   "cell_type": "code",
   "execution_count": null,
   "id": "f23a31b6-33f7-46c6-aa54-6c01782d6165",
   "metadata": {},
   "outputs": [],
   "source": [
    "spatial = all_segs.to_crs('EPSG:3310').sjoin(combined, how='inner', predicate = 'intersects')"
   ]
  },
  {
   "cell_type": "code",
   "execution_count": null,
   "id": "976553a2-7509-46ce-bfbf-60758a606d24",
   "metadata": {},
   "outputs": [],
   "source": [
    "ids = spatial >> distinct(_.route_id)"
   ]
  },
  {
   "cell_type": "code",
   "execution_count": null,
   "id": "df4cdd1d-f997-42f9-a936-ab1f7cadb761",
   "metadata": {},
   "outputs": [],
   "source": [
    "all_segs = all_segs >> filter(_.route_id.isin(ids.route_id))"
   ]
  },
  {
   "cell_type": "code",
   "execution_count": null,
   "id": "9381c82f-25a6-49e1-8425-7296e1b05b2d",
   "metadata": {},
   "outputs": [],
   "source": [
    "bb_rt_helper.bb_map_all(hotspots, corridors, all_segs, district = '07 - Los Angeles')"
   ]
  }
 ],
 "metadata": {
  "kernelspec": {
   "display_name": "Python 3 (ipykernel)",
   "language": "python",
   "name": "python3"
  },
  "language_info": {
   "codemirror_mode": {
    "name": "ipython",
    "version": 3
   },
   "file_extension": ".py",
   "mimetype": "text/x-python",
   "name": "python",
   "nbconvert_exporter": "python",
   "pygments_lexer": "ipython3",
   "version": "3.9.13"
  },
  "widgets": {
   "application/vnd.jupyter.widget-state+json": {
    "state": {},
    "version_major": 2,
    "version_minor": 0
   }
  }
 },
 "nbformat": 4,
 "nbformat_minor": 5
}
