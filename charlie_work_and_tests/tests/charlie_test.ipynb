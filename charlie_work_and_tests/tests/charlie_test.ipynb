{
 "cells": [
  {
   "cell_type": "markdown",
   "id": "493cb9e4-565a-4c5e-ad93-1ab75ffabf7e",
   "metadata": {},
   "source": [
    "# Example Juniper Question Report"
   ]
  },
  {
   "cell_type": "code",
   "execution_count": null,
   "id": "4caf4c6f-2c81-451b-8ee4-5a6278afbcd7",
   "metadata": {},
   "outputs": [],
   "source": [
    "from calitp.tables import tbl\n",
    "from siuba import *\n",
    "from siuba.sql import sql_raw\n",
    "from plotnine import *"
   ]
  }
 ],
 "metadata": {
  "kernelspec": {
   "display_name": "Python 3 (ipykernel)",
   "language": "python",
   "name": "python3"
  },
  "language_info": {
   "codemirror_mode": {
    "name": "ipython",
    "version": 3
   },
   "file_extension": ".py",
   "mimetype": "text/x-python",
   "name": "python",
   "nbconvert_exporter": "python",
   "pygments_lexer": "ipython3",
   "version": "3.9.10"
  }
 },
 "nbformat": 4,
 "nbformat_minor": 5
}
