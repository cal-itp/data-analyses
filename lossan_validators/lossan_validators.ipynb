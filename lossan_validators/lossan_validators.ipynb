{
 "cells": [
  {
   "cell_type": "code",
   "execution_count": 2,
   "id": "2d7d8e64-6f88-4423-92ac-edf21a021284",
   "metadata": {},
   "outputs": [
    {
     "name": "stderr",
     "output_type": "stream",
     "text": [
      "/Users/edasmalchi/anaconda3/envs/pd1/lib/python3.9/site-packages/google/auth/_default.py:68: UserWarning: Your application has authenticated using end user credentials from Google Cloud SDK without a quota project. You might receive a \"quota exceeded\" or \"API not enabled\" error. We recommend you rerun `gcloud auth application-default login` and make sure a quota project is added. Or you can use service accounts instead. For more information about service accounts, see https://cloud.google.com/docs/authentication/\n",
      "  warnings.warn(_CLOUD_SDK_CREDENTIALS_WARNING)\n"
     ]
    }
   ],
   "source": [
    "import calitp\n",
    "from calitp.tables import tbl\n",
    "from siuba import *\n",
    "from siuba.sql import sql_raw\n",
    "from siuba.experimental import completer\n",
    "from plotnine import *\n",
    "\n",
    "import pandas as pd\n",
    "import numpy as np\n",
    "\n",
    "import geopandas as gpd\n",
    "import folium"
   ]
  },
  {
   "cell_type": "markdown",
   "id": "0ab4b0a7-1b2e-4e38-a61b-cbcd04220eba",
   "metadata": {},
   "source": [
    "## About how many validators are needed to connect to LOSSAN?"
   ]
  },
  {
   "cell_type": "code",
   "execution_count": 4,
   "id": "51593e34-44ce-4f0e-b533-36d722781804",
   "metadata": {},
   "outputs": [],
   "source": [
    "transit_stacks = tbl.views.transitstacks()"
   ]
  },
  {
   "cell_type": "code",
   "execution_count": 5,
   "id": "f404595d-2690-48be-a324-38d7e4dbf1cf",
   "metadata": {},
   "outputs": [],
   "source": [
    "lossan_counties = ['San Luis Obispo', 'Santa Barbara', 'Ventura',\n",
    "                  'Los Angeles', 'San Diego']"
   ]
  },
  {
   "cell_type": "code",
   "execution_count": 6,
   "id": "86d1fe94-af23-493f-8d0c-c22f68665fb3",
   "metadata": {},
   "outputs": [],
   "source": [
    "dim_stops = (tbl.views.gtfs_schedule_dim_stops()\n",
    "                 >> select(_.itp_id == _.calitp_itp_id, _.stop_key, _.stop_id, _.stop_lat, _.stop_lon, _.stop_name)\n",
    "                )"
   ]
  },
  {
   "cell_type": "code",
   "execution_count": 7,
   "id": "3e4f0176-3554-4be2-8fd3-5d707b1ae878",
   "metadata": {},
   "outputs": [],
   "source": [
    "weekday_stops = (tbl.views.gtfs_schedule_fact_daily_feed_stops()\n",
    "                    >> filter(_.date == '2021-09-01') #weekday service\n",
    "                    >> select(_.stop_key, _.date)\n",
    "                    >> inner_join(_, dim_stops, on='stop_key')\n",
    "                      )"
   ]
  },
  {
   "cell_type": "code",
   "execution_count": 8,
   "id": "0ec9cab9-dba6-45b8-b3cd-75cc6eb0b4eb",
   "metadata": {
    "tags": []
   },
   "outputs": [],
   "source": [
    "info_cols = ['itp_id', 'transit_provider', 'ntd_id',\n",
    "             'modes', 'county', 'legacy_ntd_id']\n",
    "\n",
    "vehicle_cols = ['bus', 'articulated_bus', 'over_the_road_bus',\n",
    "                'school_bus', 'trolleybus', 'vintage_historic_trolley',\n",
    "                'streetcar']\n",
    "\n",
    "paratransit_cols = ['van', 'cutaway', 'automobile',\n",
    "                     'minivan', 'sport_utility_vehicle']"
   ]
  },
  {
   "cell_type": "code",
   "execution_count": 44,
   "id": "b0705947-c510-42b0-95dd-08b3e3f2b8f1",
   "metadata": {},
   "outputs": [],
   "source": [
    "lossan_county_stops = (transit_stacks\n",
    "                         >> filter(_.county.isin(lossan_counties))\n",
    "                         >> select(_.itp_id)\n",
    "                         >> inner_join(_, weekday_stops, on = \"itp_id\")\n",
    "                         >> collect()\n",
    "                    )"
   ]
  },
  {
   "cell_type": "code",
   "execution_count": 130,
   "id": "94b5c488-d25c-4bf5-b085-391ebba0b0ac",
   "metadata": {},
   "outputs": [],
   "source": [
    "lossan_operators = (transit_stacks\n",
    "                         >> filter(_.county.isin(lossan_counties))\n",
    "                         >> select(*(info_cols + vehicle_cols + paratransit_cols))\n",
    "                         >> collect()\n",
    "                    )"
   ]
  },
  {
   "cell_type": "code",
   "execution_count": 164,
   "id": "abcfe076-1d74-450d-ab42-7b62e9baac38",
   "metadata": {},
   "outputs": [
    {
     "data": {
      "text/plain": [
       "bus                         4351.0\n",
       "articulated_bus              584.0\n",
       "over_the_road_bus            229.0\n",
       "school_bus                     0.0\n",
       "trolleybus                     0.0\n",
       "vintage_historic_trolley       2.0\n",
       "streetcar                      0.0\n",
       "dtype: float64"
      ]
     },
     "execution_count": 164,
     "metadata": {},
     "output_type": "execute_result"
    }
   ],
   "source": [
    "lossan_operators.replace(' ', np.nan, inplace=True)\n",
    "for col in (vehicle_cols + paratransit_cols):\n",
    "    lossan_operators = lossan_operators.astype({col:'float64'})\n",
    "\n",
    "lossan_operators[vehicle_cols].sum()"
   ]
  },
  {
   "cell_type": "code",
   "execution_count": 149,
   "id": "52fbfffe-e347-4436-9244-ec17249b5240",
   "metadata": {},
   "outputs": [],
   "source": [
    "## Eric's estimation...\n",
    "validators_needed = pd.Series({'bus':2, 'articulated_bus':3, 'over_the_road_bus':1,\n",
    "                             'vintage_historic_trolley':2, 'trolleybus':2,\n",
    "                             'van':1, 'cutaway':1, 'automobile':1,\n",
    "                             'minivan':1, 'sport_utility_vehicle:':1,\n",
    "                             'lrt_stn':6, 'hrt_stn':15, 'la_union_stn':40,\n",
    "                             'commuter_rail_stn':6, 'interchange':20, ## interchange is for places like 7th/Metro\n",
    "                             'ferry_stn':4})"
   ]
  },
  {
   "cell_type": "markdown",
   "id": "281d214f-bf71-46d3-a061-f78e0c65026c",
   "metadata": {},
   "source": [
    "## Rail/Ferry"
   ]
  },
  {
   "cell_type": "code",
   "execution_count": 162,
   "id": "59fdaca5-abea-4df0-a020-376219df6823",
   "metadata": {},
   "outputs": [],
   "source": [
    "##TODO replace hardcoded station values when warehouse complete\n",
    "metro_lrt = 93 - 16\n",
    "metro_hrt = 15\n",
    "metro_interchange = 1\n",
    "metrolink = 62 - lossan_stations[lossan_stations['COMM_OP'] == 'Metrolink'].shape[0] ## all stns minus LOSSAN stns\n",
    "# coaster = 8 ## on LOSSAN, so not a connection?\n",
    "sdmts_lrt = 103\n",
    "sdmts_ferry = 3"
   ]
  },
  {
   "cell_type": "code",
   "execution_count": 163,
   "id": "0a3e021d-305c-4ad9-b0f9-cb3f1f1908a1",
   "metadata": {},
   "outputs": [
    {
     "data": {
      "text/plain": [
       "commuter_rail_stn     222.0\n",
       "ferry_stn              12.0\n",
       "hrt_stn               225.0\n",
       "interchange            20.0\n",
       "lrt_stn              1080.0\n",
       "dtype: float64"
      ]
     },
     "execution_count": 163,
     "metadata": {},
     "output_type": "execute_result"
    }
   ],
   "source": [
    "rail_validators_needed = (pd.Series({'lrt_stn':metro_lrt+sdmts_lrt, 'hrt_stn':metro_hrt,\n",
    "                                     'interchange':metro_interchange,'commuter_rail_stn':metrolink,\n",
    "                                     'ferry_stn':sdmts_ferry})\n",
    "                                    * validators_needed).dropna()\n",
    "rail_validators_needed"
   ]
  },
  {
   "cell_type": "markdown",
   "id": "1972daa8-7573-4b3d-88b4-290a6b725fd2",
   "metadata": {},
   "source": [
    "## Direct LOSSAN Connections"
   ]
  },
  {
   "cell_type": "code",
   "execution_count": 20,
   "id": "ccca6f1c-af06-46b2-a479-3b0df8e0ba08",
   "metadata": {},
   "outputs": [],
   "source": [
    "## We don't quite have this in data warehouse yet...\n",
    "## from https://gis.data.ca.gov/datasets/63697b01616b4df68e2b316e73d7a4d6_0/\n",
    "ca_rail = gpd.read_file('./California_Rail_Stations.geojson')"
   ]
  },
  {
   "cell_type": "code",
   "execution_count": 82,
   "id": "3e9399ed-4466-4239-a50f-e3f5f9b43464",
   "metadata": {},
   "outputs": [],
   "source": [
    "lossan_lines = ['Ventura County Line',\n",
    "                'Burbank-Bob Hope Airport,Ventura County Line',\n",
    "                '91 Line,Antelope Valley Line,Burbank-Bob Hope Airport,Orange County Line,Riverside Line,San Bernardino Line,Ventura County Line',\n",
    "                'Antelope Valley Line,Burbank-Bob Hope Airport,Ventura County Line',\n",
    "                'Orange County Line',\n",
    "                '91 Line,Orange County Line',\n",
    "                'Inland Empire-Orange County Line,Orange County Line',\n",
    "                'Coaster,Inland Empire-Orange County Line,Orange County Line',\n",
    "                'Coaster',\n",
    "                ]"
   ]
  },
  {
   "cell_type": "code",
   "execution_count": 90,
   "id": "5aa8cb42-f648-4888-a43d-59a7a36d2f45",
   "metadata": {},
   "outputs": [],
   "source": [
    "lossan_stations = ca_rail[ca_rail['PASS_NETWO'].str.contains('Surfliner')\n",
    "                       | ca_rail['COMM_NETWO'].isin(lossan_lines)]"
   ]
  },
  {
   "cell_type": "code",
   "execution_count": 92,
   "id": "d7f05838-a3e2-4ad1-985b-ebf892df21e2",
   "metadata": {},
   "outputs": [],
   "source": [
    "lossan_county_stops = gpd.GeoDataFrame(\n",
    "                lossan_county_stops,\n",
    "                geometry = gpd.points_from_xy(lossan_county_stops.stop_lon, lossan_county_stops.stop_lat),\n",
    "                crs='EPSG:4326')"
   ]
  },
  {
   "cell_type": "code",
   "execution_count": 93,
   "id": "d874c629-6bc9-4a0a-868f-32287866dfcd",
   "metadata": {},
   "outputs": [],
   "source": [
    "## project stations for buffer\n",
    "lossan_stations = lossan_stations.to_crs('EPSG:6414') ## https://epsg.io/6414 (meters)\n",
    "lossan_stations.geometry = lossan_stations.geometry.buffer(800) ## 800 meter buffer ~ .5mi"
   ]
  },
  {
   "cell_type": "code",
   "execution_count": 100,
   "id": "04e46dba-c5fe-4ca6-945f-99fc75f8346c",
   "metadata": {},
   "outputs": [],
   "source": [
    "lossan_connect_stops = gpd.clip(lossan_county_stops.to_crs('EPSG:6414'), lossan_stations)"
   ]
  },
  {
   "cell_type": "code",
   "execution_count": 136,
   "id": "85f7ca37-73a2-414f-b015-4f19acf31c58",
   "metadata": {},
   "outputs": [],
   "source": [
    "# lossan_stations.plot()"
   ]
  },
  {
   "cell_type": "code",
   "execution_count": 137,
   "id": "329e8fc7-e0ee-4e83-b1bb-d324a49138d4",
   "metadata": {},
   "outputs": [],
   "source": [
    "# lossan_county_stops.plot()"
   ]
  },
  {
   "cell_type": "code",
   "execution_count": 138,
   "id": "7ccbc492-59c6-4e35-8c60-5c54ffd4da22",
   "metadata": {},
   "outputs": [],
   "source": [
    "# lossan_connect_stops.plot()"
   ]
  },
  {
   "cell_type": "code",
   "execution_count": 119,
   "id": "a40343d6-8966-47f3-8cbc-899546838fec",
   "metadata": {},
   "outputs": [],
   "source": [
    "lossan_connect_operators = (transit_stacks \n",
    "     >> filter(_.itp_id.isin(lossan_connect_stops.itp_id))\n",
    "     >> select(*(info_cols + vehicle_cols + paratransit_cols))\n",
    "     >> collect()\n",
    "    )"
   ]
  },
  {
   "cell_type": "code",
   "execution_count": 123,
   "id": "c4763857-4d1e-4ac9-9a86-2c8a48bc45b9",
   "metadata": {},
   "outputs": [
    {
     "data": {
      "text/plain": [
       "bus                         3836.0\n",
       "articulated_bus              561.0\n",
       "over_the_road_bus            196.0\n",
       "school_bus                     0.0\n",
       "trolleybus                     0.0\n",
       "vintage_historic_trolley       2.0\n",
       "streetcar                      0.0\n",
       "dtype: float64"
      ]
     },
     "execution_count": 123,
     "metadata": {},
     "output_type": "execute_result"
    }
   ],
   "source": [
    "lossan_connect_operators.replace(' ', np.nan, inplace=True)\n",
    "for col in (vehicle_cols + paratransit_cols):\n",
    "    lossan_connect_operators = lossan_connect_operators.astype({col:'float64'})\n",
    "\n",
    "lossan_connect_operators[vehicle_cols].sum()"
   ]
  },
  {
   "cell_type": "markdown",
   "id": "d8fd38a4-4a46-49a2-934b-705815327046",
   "metadata": {},
   "source": [
    "### Operators connecting directly to LOSSAN"
   ]
  },
  {
   "cell_type": "code",
   "execution_count": 158,
   "id": "af7a6ce0-76d0-4621-90fb-9f477be7abf1",
   "metadata": {},
   "outputs": [],
   "source": [
    "##TODO clean up format, present tables+graphics"
   ]
  },
  {
   "cell_type": "code",
   "execution_count": 155,
   "id": "acea5e1e-3d61-4a08-99ce-5be8609765ac",
   "metadata": {},
   "outputs": [
    {
     "data": {
      "text/plain": [
       "articulated_bus             1683.0\n",
       "bus                         7672.0\n",
       "over_the_road_bus            196.0\n",
       "trolleybus                     0.0\n",
       "vintage_historic_trolley       4.0\n",
       "commuter_rail_stn            222.0\n",
       "ferry_stn                     12.0\n",
       "hrt_stn                      225.0\n",
       "interchange                   20.0\n",
       "lrt_stn                     1080.0\n",
       "dtype: float64"
      ]
     },
     "execution_count": 155,
     "metadata": {},
     "output_type": "execute_result"
    }
   ],
   "source": [
    "(pd.Series(validators_needed) * lossan_connect_operators[vehicle_cols].sum()).dropna().append(rail_validators_needed)"
   ]
  },
  {
   "cell_type": "markdown",
   "id": "3c024faa-ee22-4864-a5ad-1f367f01a3db",
   "metadata": {},
   "source": [
    "#### With paratransit vehicles"
   ]
  },
  {
   "cell_type": "code",
   "execution_count": 156,
   "id": "ff7d6827-93fa-4088-b67e-0897516ba058",
   "metadata": {},
   "outputs": [
    {
     "data": {
      "text/plain": [
       "articulated_bus             1683.0\n",
       "automobile                   277.0\n",
       "bus                         7672.0\n",
       "cutaway                      423.0\n",
       "minivan                       50.0\n",
       "over_the_road_bus            196.0\n",
       "trolleybus                     0.0\n",
       "van                         1413.0\n",
       "vintage_historic_trolley       4.0\n",
       "commuter_rail_stn            222.0\n",
       "ferry_stn                     12.0\n",
       "hrt_stn                      225.0\n",
       "interchange                   20.0\n",
       "lrt_stn                     1080.0\n",
       "dtype: float64"
      ]
     },
     "execution_count": 156,
     "metadata": {},
     "output_type": "execute_result"
    }
   ],
   "source": [
    "(pd.Series(validators_needed) * lossan_connect_operators[(vehicle_cols + paratransit_cols)].sum()).dropna().append(rail_validators_needed)"
   ]
  },
  {
   "cell_type": "markdown",
   "id": "dac68bab-8baf-4e31-bd80-ca22461fc861",
   "metadata": {},
   "source": [
    "### Operators within LOSSAN Counties"
   ]
  },
  {
   "cell_type": "code",
   "execution_count": 157,
   "id": "f04c1376-0c6d-4c63-bafd-dc9950fa50db",
   "metadata": {},
   "outputs": [
    {
     "data": {
      "text/plain": [
       "articulated_bus             1752.0\n",
       "bus                         8702.0\n",
       "over_the_road_bus            229.0\n",
       "trolleybus                     0.0\n",
       "vintage_historic_trolley       4.0\n",
       "commuter_rail_stn            222.0\n",
       "ferry_stn                     12.0\n",
       "hrt_stn                      225.0\n",
       "interchange                   20.0\n",
       "lrt_stn                     1080.0\n",
       "dtype: float64"
      ]
     },
     "execution_count": 157,
     "metadata": {},
     "output_type": "execute_result"
    }
   ],
   "source": [
    "(pd.Series(validators_needed) * lossan_operators[vehicle_cols].sum()).dropna().append(rail_validators_needed)"
   ]
  },
  {
   "cell_type": "markdown",
   "id": "4acb92a9-9764-4956-b532-668ad1ccd923",
   "metadata": {},
   "source": [
    "#### With paratransit vehicles"
   ]
  },
  {
   "cell_type": "code",
   "execution_count": 160,
   "id": "7a577640-763c-4cb8-b708-07616fa3585c",
   "metadata": {},
   "outputs": [
    {
     "data": {
      "text/plain": [
       "17474.0"
      ]
     },
     "execution_count": 160,
     "metadata": {},
     "output_type": "execute_result"
    }
   ],
   "source": [
    "((pd.Series(validators_needed) * lossan_operators[(vehicle_cols) + paratransit_cols].sum())\n",
    "     .dropna()\n",
    "     .append(rail_validators_needed)\n",
    ").sum()"
   ]
  }
 ],
 "metadata": {
  "kernelspec": {
   "display_name": "Python 3 (ipykernel)",
   "language": "python",
   "name": "python3"
  },
  "language_info": {
   "codemirror_mode": {
    "name": "ipython",
    "version": 3
   },
   "file_extension": ".py",
   "mimetype": "text/x-python",
   "name": "python",
   "nbconvert_exporter": "python",
   "pygments_lexer": "ipython3",
   "version": "3.9.6"
  }
 },
 "nbformat": 4,
 "nbformat_minor": 5
}
