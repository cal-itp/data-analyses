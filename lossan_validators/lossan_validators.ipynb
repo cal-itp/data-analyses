{
 "cells": [
  {
   "cell_type": "code",
   "execution_count": 261,
   "id": "2d7d8e64-6f88-4423-92ac-edf21a021284",
   "metadata": {},
   "outputs": [],
   "source": [
    "import calitp\n",
    "from calitp.tables import tbl\n",
    "from siuba import *\n",
    "# from siuba.sql import sql_raw\n",
    "# from siuba.experimental import completer\n",
    "# from plotnine import *\n",
    "\n",
    "import pandas as pd\n",
    "import numpy as np\n",
    "\n",
    "import geopandas as gpd\n",
    "import folium\n",
    "import seaborn as sns"
   ]
  },
  {
   "cell_type": "markdown",
   "id": "0ab4b0a7-1b2e-4e38-a61b-cbcd04220eba",
   "metadata": {},
   "source": [
    "## About how many validators are needed to connect to LOSSAN?"
   ]
  },
  {
   "cell_type": "markdown",
   "id": "232aef9c-8ef7-4012-ada0-a80f726a7762",
   "metadata": {},
   "source": [
    "### Set up views"
   ]
  },
  {
   "cell_type": "code",
   "execution_count": 3,
   "id": "51593e34-44ce-4f0e-b533-36d722781804",
   "metadata": {},
   "outputs": [],
   "source": [
    "transit_stacks = tbl.views.transitstacks()"
   ]
  },
  {
   "cell_type": "code",
   "execution_count": 4,
   "id": "f404595d-2690-48be-a324-38d7e4dbf1cf",
   "metadata": {},
   "outputs": [],
   "source": [
    "lossan_counties = ['San Luis Obispo', 'Santa Barbara', 'Ventura',\n",
    "                  'Los Angeles', 'San Diego']"
   ]
  },
  {
   "cell_type": "code",
   "execution_count": 5,
   "id": "86d1fe94-af23-493f-8d0c-c22f68665fb3",
   "metadata": {},
   "outputs": [],
   "source": [
    "dim_stops = (tbl.views.gtfs_schedule_dim_stops()\n",
    "                 >> select(_.itp_id == _.calitp_itp_id, _.stop_key, _.stop_id, _.stop_lat, _.stop_lon, _.stop_name)\n",
    "                )"
   ]
  },
  {
   "cell_type": "code",
   "execution_count": 181,
   "id": "f7a86e59-5d52-4d5a-ad42-1e2ee111b065",
   "metadata": {},
   "outputs": [],
   "source": [
    "dim_routes = (tbl.views.gtfs_schedule_dim_routes()\n",
    "                 >> select(_.itp_id == _.calitp_itp_id, _.route_key, _.route_type)\n",
    "                )"
   ]
  },
  {
   "cell_type": "code",
   "execution_count": 202,
   "id": "0176e3d7-cde5-47c4-8afc-2cfd89fcb816",
   "metadata": {},
   "outputs": [],
   "source": [
    "weekday_rail_stops = (tbl.views.gtfs_schedule_fact_daily_feed_routes()\n",
    "                    >> filter(_.date == '2021-09-01') #weekday service\n",
    "                    >> select(_.route_key, _.date)\n",
    "                    >> inner_join(_, dim_routes, on='route_key')\n",
    "                    >> filter(_.route_type != '3')\n",
    "                    >> inner_join(_, tbl.views.gtfs_schedule_index_feed_trip_stops(), on='route_key')\n",
    "                    >> collect()\n",
    "                    >> distinct(_.stop_key, _keep_all = True)\n",
    "                    >> group_by(_.itp_id)\n",
    "                    >> count(_.route_type)\n",
    "                      )"
   ]
  },
  {
   "cell_type": "code",
   "execution_count": 6,
   "id": "3e4f0176-3554-4be2-8fd3-5d707b1ae878",
   "metadata": {},
   "outputs": [],
   "source": [
    "weekday_stops = (tbl.views.gtfs_schedule_fact_daily_feed_stops()\n",
    "                    >> filter(_.date == '2021-09-01') #weekday service\n",
    "                    >> select(_.stop_key, _.date)\n",
    "                    >> inner_join(_, dim_stops, on='stop_key')\n",
    "                      )"
   ]
  },
  {
   "cell_type": "code",
   "execution_count": 7,
   "id": "0ec9cab9-dba6-45b8-b3cd-75cc6eb0b4eb",
   "metadata": {
    "tags": []
   },
   "outputs": [],
   "source": [
    "info_cols = ['itp_id', 'transit_provider', 'ntd_id',\n",
    "             'modes', 'county', 'legacy_ntd_id']\n",
    "\n",
    "vehicle_cols = ['bus', 'articulated_bus', 'over_the_road_bus',\n",
    "                'school_bus', 'trolleybus', 'vintage_historic_trolley',\n",
    "                'streetcar']\n",
    "\n",
    "paratransit_cols = ['van', 'cutaway', 'automobile',\n",
    "                     'minivan', 'sport_utility_vehicle']"
   ]
  },
  {
   "cell_type": "code",
   "execution_count": 8,
   "id": "b0705947-c510-42b0-95dd-08b3e3f2b8f1",
   "metadata": {},
   "outputs": [],
   "source": [
    "lossan_county_stops = (transit_stacks\n",
    "                         >> filter(_.county.isin(lossan_counties))\n",
    "                         >> select(_.itp_id)\n",
    "                         >> inner_join(_, weekday_stops, on = \"itp_id\")\n",
    "                         >> collect()\n",
    "                    )"
   ]
  },
  {
   "cell_type": "code",
   "execution_count": 9,
   "id": "94b5c488-d25c-4bf5-b085-391ebba0b0ac",
   "metadata": {},
   "outputs": [],
   "source": [
    "lossan_operators = (transit_stacks\n",
    "                         >> filter(_.county.isin(lossan_counties))\n",
    "                         >> select(*(info_cols + vehicle_cols + paratransit_cols))\n",
    "                         >> collect()\n",
    "                    )"
   ]
  },
  {
   "cell_type": "code",
   "execution_count": 219,
   "id": "abcfe076-1d74-450d-ab42-7b62e9baac38",
   "metadata": {},
   "outputs": [],
   "source": [
    "lossan_operators.replace(' ', np.nan, inplace=True)\n",
    "for col in (vehicle_cols + paratransit_cols):\n",
    "    lossan_operators = lossan_operators.astype({col:'float64'})"
   ]
  },
  {
   "cell_type": "code",
   "execution_count": 221,
   "id": "e1ce75b9-5f2e-443b-bccd-923977a3dc79",
   "metadata": {},
   "outputs": [],
   "source": [
    "lossan_connecting_rail_stops = (transit_stacks\n",
    "                         >> filter(_.county.isin(lossan_counties))\n",
    "                         >> select(*info_cols)\n",
    "                         >> collect()\n",
    "                         >> inner_join(_, weekday_rail_stops, on='itp_id')\n",
    "                         >> rename(rail_stop_count = _.n)\n",
    "                               )"
   ]
  },
  {
   "cell_type": "markdown",
   "id": "38c91cc0-1fed-4a51-b606-58d155d196fb",
   "metadata": {},
   "source": [
    "### Estimate validators required per vehicle/stop"
   ]
  },
  {
   "cell_type": "code",
   "execution_count": 218,
   "id": "52fbfffe-e347-4436-9244-ec17249b5240",
   "metadata": {},
   "outputs": [],
   "source": [
    "## Eric's estimation...\n",
    "validators_needed = pd.Series({'bus': 2, 'articulated_bus': 3, 'over_the_road_bus': 1,\n",
    "                             'vintage_historic_trolley': 2, 'trolleybus': 2, 'streetcar': 2,\n",
    "                             'van': 1, 'cutaway': 1, 'automobile': 1,\n",
    "                             'minivan': 1, 'sport_utility_vehicle': 1, 'school_bus': 1,\n",
    "                             'lrt_stn':6, 'hrt_stn':15, 'la_union_stn':40,\n",
    "                             'commuter_rail_stn':6, 'interchange':20, ## interchange is for places like 7th/Metro\n",
    "                             'ferry_stn':4})\n",
    "rail_validators_needed = pd.Series({'0': 6, '1': 10, '2': 6, '4': 4})"
   ]
  },
  {
   "cell_type": "markdown",
   "id": "281d214f-bf71-46d3-a061-f78e0c65026c",
   "metadata": {},
   "source": [
    "## Rail/Ferry"
   ]
  },
  {
   "cell_type": "markdown",
   "id": "2ac55ec0-50c1-463a-9a2a-81e5b0667744",
   "metadata": {},
   "source": [
    "### Finding LOSSAN stations"
   ]
  },
  {
   "cell_type": "code",
   "execution_count": 13,
   "id": "ccca6f1c-af06-46b2-a479-3b0df8e0ba08",
   "metadata": {},
   "outputs": [],
   "source": [
    "## We don't quite have this (Amtrak) in data warehouse yet...\n",
    "## from https://gis.data.ca.gov/datasets/63697b01616b4df68e2b316e73d7a4d6_0/\n",
    "ca_rail = gpd.read_file('./California_Rail_Stations.geojson')"
   ]
  },
  {
   "cell_type": "code",
   "execution_count": 14,
   "id": "3e9399ed-4466-4239-a50f-e3f5f9b43464",
   "metadata": {},
   "outputs": [],
   "source": [
    "lossan_lines = ['Ventura County Line',\n",
    "                'Burbank-Bob Hope Airport,Ventura County Line',\n",
    "                '91 Line,Antelope Valley Line,Burbank-Bob Hope Airport,Orange County Line,Riverside Line,San Bernardino Line,Ventura County Line',\n",
    "                'Antelope Valley Line,Burbank-Bob Hope Airport,Ventura County Line',\n",
    "                'Orange County Line',\n",
    "                '91 Line,Orange County Line',\n",
    "                'Inland Empire-Orange County Line,Orange County Line',\n",
    "                'Coaster,Inland Empire-Orange County Line,Orange County Line',\n",
    "                'Coaster',\n",
    "                ]"
   ]
  },
  {
   "cell_type": "code",
   "execution_count": 15,
   "id": "5aa8cb42-f648-4888-a43d-59a7a36d2f45",
   "metadata": {},
   "outputs": [],
   "source": [
    "lossan_stations = ca_rail[ca_rail['PASS_NETWO'].str.contains('Surfliner')\n",
    "                       | ca_rail['COMM_NETWO'].isin(lossan_lines)]"
   ]
  },
  {
   "cell_type": "markdown",
   "id": "eb413e9c-620d-4407-ae15-6dfc49db7b11",
   "metadata": {},
   "source": [
    "### Connecting rail/ferry transit"
   ]
  },
  {
   "cell_type": "code",
   "execution_count": 236,
   "id": "0f8363f7-65a5-44e2-94d9-7a9e7bc652a4",
   "metadata": {},
   "outputs": [],
   "source": [
    "lossan_connecting_rail_stops['validator_count'] = lossan_connecting_rail_stops.apply(\n",
    "                                lambda x: x.rail_stop_count * rail_validators_needed[x.route_type], axis=1)\n",
    "lossan_connecting_rail_stops['is_paratransit'] = False\n",
    "lossan_connecting_rail_stops['lossan_connection'] = True"
   ]
  },
  {
   "cell_type": "markdown",
   "id": "1972daa8-7573-4b3d-88b4-290a6b725fd2",
   "metadata": {},
   "source": [
    "## Direct LOSSAN Connections"
   ]
  },
  {
   "cell_type": "markdown",
   "id": "9ddad68a-ebb4-4feb-9ff6-3f42249ec504",
   "metadata": {},
   "source": [
    "### Find bus stops near LOSSAN stations"
   ]
  },
  {
   "cell_type": "code",
   "execution_count": 239,
   "id": "d7f05838-a3e2-4ad1-985b-ebf892df21e2",
   "metadata": {},
   "outputs": [],
   "source": [
    "lossan_county_stops = gpd.GeoDataFrame(\n",
    "                lossan_county_stops,\n",
    "                geometry = gpd.points_from_xy(lossan_county_stops.stop_lon, lossan_county_stops.stop_lat),\n",
    "                crs='EPSG:4326')"
   ]
  },
  {
   "cell_type": "code",
   "execution_count": 240,
   "id": "d874c629-6bc9-4a0a-868f-32287866dfcd",
   "metadata": {},
   "outputs": [],
   "source": [
    "## project stations for buffer\n",
    "lossan_stations = lossan_stations.to_crs('EPSG:6414') ## https://epsg.io/6414 (meters)\n",
    "lossan_stations.geometry = lossan_stations.geometry.buffer(800) ## 800 meter buffer ~ .5mi"
   ]
  },
  {
   "cell_type": "code",
   "execution_count": 241,
   "id": "04e46dba-c5fe-4ca6-945f-99fc75f8346c",
   "metadata": {},
   "outputs": [],
   "source": [
    "lossan_connect_stops = gpd.clip(lossan_county_stops.to_crs('EPSG:6414'), lossan_stations)"
   ]
  },
  {
   "cell_type": "code",
   "execution_count": 242,
   "id": "85f7ca37-73a2-414f-b015-4f19acf31c58",
   "metadata": {},
   "outputs": [],
   "source": [
    "# lossan_stations.plot()"
   ]
  },
  {
   "cell_type": "code",
   "execution_count": 243,
   "id": "329e8fc7-e0ee-4e83-b1bb-d324a49138d4",
   "metadata": {},
   "outputs": [],
   "source": [
    "# lossan_county_stops.plot()"
   ]
  },
  {
   "cell_type": "code",
   "execution_count": 244,
   "id": "7ccbc492-59c6-4e35-8c60-5c54ffd4da22",
   "metadata": {},
   "outputs": [],
   "source": [
    "# lossan_connect_stops.plot()"
   ]
  },
  {
   "cell_type": "code",
   "execution_count": 245,
   "id": "a40343d6-8966-47f3-8cbc-899546838fec",
   "metadata": {},
   "outputs": [],
   "source": [
    "lossan_connect_operators = (transit_stacks \n",
    "     >> filter(_.itp_id.isin(lossan_connect_stops.itp_id))\n",
    "     >> select(*(info_cols + vehicle_cols + paratransit_cols))\n",
    "     >> mutate(lossan_connection = True)\n",
    "     >> collect()\n",
    "    )"
   ]
  },
  {
   "cell_type": "code",
   "execution_count": 246,
   "id": "c4763857-4d1e-4ac9-9a86-2c8a48bc45b9",
   "metadata": {},
   "outputs": [],
   "source": [
    "lossan_connect_operators.replace(' ', np.nan, inplace=True)\n",
    "for col in (vehicle_cols + paratransit_cols):\n",
    "    lossan_connect_operators = lossan_connect_operators.astype({col:'float64'})"
   ]
  },
  {
   "cell_type": "code",
   "execution_count": 247,
   "id": "da46340e-ef2e-4490-a36b-308ef93736d3",
   "metadata": {},
   "outputs": [],
   "source": [
    "non_connect_operators = (lossan_operators\n",
    "                             >> filter(~_.itp_id.isin(lossan_connect_operators['itp_id']))\n",
    "                             >> mutate(lossan_connection = False)\n",
    "                        )"
   ]
  },
  {
   "cell_type": "markdown",
   "id": "34fd4afc-38a4-439b-9dc2-b7ac10d73f66",
   "metadata": {},
   "source": [
    "### Format for analysis"
   ]
  },
  {
   "cell_type": "code",
   "execution_count": 248,
   "id": "b90d73bd-a50d-4064-8d6f-a678972966ea",
   "metadata": {},
   "outputs": [],
   "source": [
    "lossan_corridor_operators = lossan_connect_operators.append(non_connect_operators)"
   ]
  },
  {
   "cell_type": "code",
   "execution_count": 249,
   "id": "a6d6c69c-a48d-4215-a6bf-9790aa7dfbce",
   "metadata": {},
   "outputs": [],
   "source": [
    "lossan_corridor_operators = (lossan_corridor_operators\n",
    "                            .melt(id_vars=info_cols + ['lossan_connection'])\n",
    "                            .rename(columns={'variable':'vehicle_type', 'value':'vehicle_count'}))"
   ]
  },
  {
   "cell_type": "code",
   "execution_count": 253,
   "id": "2f829dfb-c8f7-488f-8f4d-bd808819bbcd",
   "metadata": {},
   "outputs": [],
   "source": [
    "lossan_corridor_operators['validator_count'] = lossan_corridor_operators.apply(\n",
    "                                            lambda x: x.vehicle_count * validators_needed[x.vehicle_type], axis=1)\n",
    "lossan_corridor_operators['is_paratransit'] = lossan_corridor_operators['vehicle_type'].apply(\n",
    "                                            lambda x: x in paratransit_cols)\n",
    "\n",
    "lossan_corridor_operators = lossan_corridor_operators.append(lossan_connecting_rail_stops)"
   ]
  },
  {
   "cell_type": "code",
   "execution_count": 256,
   "id": "3cb5c156-275f-410d-8ff4-ec6e8bf2cbb4",
   "metadata": {},
   "outputs": [
    {
     "data": {
      "text/html": [
       "<div>\n",
       "<style scoped>\n",
       "    .dataframe tbody tr th:only-of-type {\n",
       "        vertical-align: middle;\n",
       "    }\n",
       "\n",
       "    .dataframe tbody tr th {\n",
       "        vertical-align: top;\n",
       "    }\n",
       "\n",
       "    .dataframe thead th {\n",
       "        text-align: right;\n",
       "    }\n",
       "</style>\n",
       "<table border=\"1\" class=\"dataframe\">\n",
       "  <thead>\n",
       "    <tr style=\"text-align: right;\">\n",
       "      <th></th>\n",
       "      <th>itp_id</th>\n",
       "      <th>transit_provider</th>\n",
       "      <th>ntd_id</th>\n",
       "      <th>modes</th>\n",
       "      <th>county</th>\n",
       "      <th>legacy_ntd_id</th>\n",
       "      <th>lossan_connection</th>\n",
       "      <th>vehicle_type</th>\n",
       "      <th>vehicle_count</th>\n",
       "      <th>validator_count</th>\n",
       "      <th>is_paratransit</th>\n",
       "      <th>route_type</th>\n",
       "      <th>rail_stop_count</th>\n",
       "    </tr>\n",
       "  </thead>\n",
       "  <tbody>\n",
       "    <tr>\n",
       "      <th>0</th>\n",
       "      <td>300</td>\n",
       "      <td>Big Blue Bus</td>\n",
       "      <td>90008</td>\n",
       "      <td>DT,DR,MB</td>\n",
       "      <td>Los Angeles</td>\n",
       "      <td>9008</td>\n",
       "      <td>True</td>\n",
       "      <td>bus</td>\n",
       "      <td>167.0</td>\n",
       "      <td>334.0</td>\n",
       "      <td>False</td>\n",
       "      <td>NaN</td>\n",
       "      <td>NaN</td>\n",
       "    </tr>\n",
       "    <tr>\n",
       "      <th>1</th>\n",
       "      <td>339</td>\n",
       "      <td>Torrance Transit System</td>\n",
       "      <td>90010</td>\n",
       "      <td>MB,DT</td>\n",
       "      <td>Los Angeles</td>\n",
       "      <td>9010</td>\n",
       "      <td>True</td>\n",
       "      <td>bus</td>\n",
       "      <td>63.0</td>\n",
       "      <td>126.0</td>\n",
       "      <td>False</td>\n",
       "      <td>NaN</td>\n",
       "      <td>NaN</td>\n",
       "    </tr>\n",
       "    <tr>\n",
       "      <th>2</th>\n",
       "      <td>293</td>\n",
       "      <td>Santa Barbara Metropolitan Transit District</td>\n",
       "      <td>90020</td>\n",
       "      <td>MB</td>\n",
       "      <td>Santa Barbara</td>\n",
       "      <td>9020</td>\n",
       "      <td>True</td>\n",
       "      <td>bus</td>\n",
       "      <td>114.0</td>\n",
       "      <td>228.0</td>\n",
       "      <td>False</td>\n",
       "      <td>NaN</td>\n",
       "      <td>NaN</td>\n",
       "    </tr>\n",
       "    <tr>\n",
       "      <th>3</th>\n",
       "      <td>228</td>\n",
       "      <td>Norwalk Transit System</td>\n",
       "      <td>90022</td>\n",
       "      <td>DR,MB</td>\n",
       "      <td>Los Angeles</td>\n",
       "      <td>9022</td>\n",
       "      <td>True</td>\n",
       "      <td>bus</td>\n",
       "      <td>33.0</td>\n",
       "      <td>66.0</td>\n",
       "      <td>False</td>\n",
       "      <td>NaN</td>\n",
       "      <td>NaN</td>\n",
       "    </tr>\n",
       "    <tr>\n",
       "      <th>4</th>\n",
       "      <td>278</td>\n",
       "      <td>San Diego Metropolitan Transit System</td>\n",
       "      <td>90026</td>\n",
       "      <td>MB,MB,CB,DT,DR,LR</td>\n",
       "      <td>San Diego</td>\n",
       "      <td>9026</td>\n",
       "      <td>True</td>\n",
       "      <td>bus</td>\n",
       "      <td>472.0</td>\n",
       "      <td>944.0</td>\n",
       "      <td>False</td>\n",
       "      <td>NaN</td>\n",
       "      <td>NaN</td>\n",
       "    </tr>\n",
       "  </tbody>\n",
       "</table>\n",
       "</div>"
      ],
      "text/plain": [
       "   itp_id                             transit_provider ntd_id  \\\n",
       "0     300                                 Big Blue Bus  90008   \n",
       "1     339                      Torrance Transit System  90010   \n",
       "2     293  Santa Barbara Metropolitan Transit District  90020   \n",
       "3     228                       Norwalk Transit System  90022   \n",
       "4     278        San Diego Metropolitan Transit System  90026   \n",
       "\n",
       "               modes         county legacy_ntd_id  lossan_connection  \\\n",
       "0           DT,DR,MB    Los Angeles          9008               True   \n",
       "1              MB,DT    Los Angeles          9010               True   \n",
       "2                 MB  Santa Barbara          9020               True   \n",
       "3              DR,MB    Los Angeles          9022               True   \n",
       "4  MB,MB,CB,DT,DR,LR      San Diego          9026               True   \n",
       "\n",
       "  vehicle_type  vehicle_count  validator_count  is_paratransit route_type  \\\n",
       "0          bus          167.0            334.0           False        NaN   \n",
       "1          bus           63.0            126.0           False        NaN   \n",
       "2          bus          114.0            228.0           False        NaN   \n",
       "3          bus           33.0             66.0           False        NaN   \n",
       "4          bus          472.0            944.0           False        NaN   \n",
       "\n",
       "   rail_stop_count  \n",
       "0              NaN  \n",
       "1              NaN  \n",
       "2              NaN  \n",
       "3              NaN  \n",
       "4              NaN  "
      ]
     },
     "execution_count": 256,
     "metadata": {},
     "output_type": "execute_result"
    }
   ],
   "source": [
    "lossan_corridor_operators.head(5)"
   ]
  },
  {
   "cell_type": "code",
   "execution_count": 255,
   "id": "8bb5d2d7-36e8-47fa-977d-1a2c1670fede",
   "metadata": {},
   "outputs": [
    {
     "data": {
      "text/html": [
       "<div>\n",
       "<style scoped>\n",
       "    .dataframe tbody tr th:only-of-type {\n",
       "        vertical-align: middle;\n",
       "    }\n",
       "\n",
       "    .dataframe tbody tr th {\n",
       "        vertical-align: top;\n",
       "    }\n",
       "\n",
       "    .dataframe thead th {\n",
       "        text-align: right;\n",
       "    }\n",
       "</style>\n",
       "<table border=\"1\" class=\"dataframe\">\n",
       "  <thead>\n",
       "    <tr style=\"text-align: right;\">\n",
       "      <th></th>\n",
       "      <th></th>\n",
       "      <th>validator_count</th>\n",
       "    </tr>\n",
       "    <tr>\n",
       "      <th>lossan_connection</th>\n",
       "      <th>is_paratransit</th>\n",
       "      <th></th>\n",
       "    </tr>\n",
       "  </thead>\n",
       "  <tbody>\n",
       "    <tr>\n",
       "      <th rowspan=\"2\" valign=\"top\">False</th>\n",
       "      <th>False</th>\n",
       "      <td>1092.0</td>\n",
       "    </tr>\n",
       "    <tr>\n",
       "      <th>True</th>\n",
       "      <td>3040.0</td>\n",
       "    </tr>\n",
       "    <tr>\n",
       "      <th rowspan=\"2\" valign=\"top\">True</th>\n",
       "      <th>False</th>\n",
       "      <td>11417.0</td>\n",
       "    </tr>\n",
       "    <tr>\n",
       "      <th>True</th>\n",
       "      <td>2194.0</td>\n",
       "    </tr>\n",
       "  </tbody>\n",
       "</table>\n",
       "</div>"
      ],
      "text/plain": [
       "                                  validator_count\n",
       "lossan_connection is_paratransit                 \n",
       "False             False                    1092.0\n",
       "                  True                     3040.0\n",
       "True              False                   11417.0\n",
       "                  True                     2194.0"
      ]
     },
     "execution_count": 255,
     "metadata": {},
     "output_type": "execute_result"
    }
   ],
   "source": [
    "lossan_corridor_operators.groupby(['lossan_connection', 'is_paratransit'])[['validator_count']].sum()"
   ]
  },
  {
   "cell_type": "code",
   "execution_count": 257,
   "id": "8c749327-8bd7-495d-9544-7105d3ac0075",
   "metadata": {},
   "outputs": [
    {
     "data": {
      "text/plain": [
       "17743.0"
      ]
     },
     "execution_count": 257,
     "metadata": {},
     "output_type": "execute_result"
    }
   ],
   "source": [
    "lossan_corridor_operators['validator_count'].sum()"
   ]
  }
 ],
 "metadata": {
  "kernelspec": {
   "display_name": "Python 3 (ipykernel)",
   "language": "python",
   "name": "python3"
  },
  "language_info": {
   "codemirror_mode": {
    "name": "ipython",
    "version": 3
   },
   "file_extension": ".py",
   "mimetype": "text/x-python",
   "name": "python",
   "nbconvert_exporter": "python",
   "pygments_lexer": "ipython3",
   "version": "3.9.6"
  }
 },
 "nbformat": 4,
 "nbformat_minor": 5
}
