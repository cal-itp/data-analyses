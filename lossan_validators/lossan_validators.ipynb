{
 "cells": [
  {
   "cell_type": "code",
   "execution_count": 1,
   "id": "2d7d8e64-6f88-4423-92ac-edf21a021284",
   "metadata": {},
   "outputs": [
    {
     "name": "stderr",
     "output_type": "stream",
     "text": [
      "/Users/edasmalchi/anaconda3/envs/pd1/lib/python3.9/site-packages/google/auth/_default.py:68: UserWarning: Your application has authenticated using end user credentials from Google Cloud SDK without a quota project. You might receive a \"quota exceeded\" or \"API not enabled\" error. We recommend you rerun `gcloud auth application-default login` and make sure a quota project is added. Or you can use service accounts instead. For more information about service accounts, see https://cloud.google.com/docs/authentication/\n",
      "  warnings.warn(_CLOUD_SDK_CREDENTIALS_WARNING)\n"
     ]
    }
   ],
   "source": [
    "import calitp\n",
    "from calitp.tables import tbl\n",
    "from siuba import *\n",
    "from siuba.sql import sql_raw\n",
    "from siuba.experimental import completer\n",
    "from plotnine import *\n",
    "import pandas as pd\n",
    "import numpy as np"
   ]
  },
  {
   "cell_type": "markdown",
   "id": "0ab4b0a7-1b2e-4e38-a61b-cbcd04220eba",
   "metadata": {},
   "source": [
    "## About how many validators are needed to connect to LOSSAN?"
   ]
  },
  {
   "cell_type": "code",
   "execution_count": 110,
   "id": "fdfd6196-65d7-4d92-8558-e7a704f40ac0",
   "metadata": {},
   "outputs": [],
   "source": [
    "# eng = calitp.get_engine()"
   ]
  },
  {
   "cell_type": "code",
   "execution_count": 33,
   "id": "51593e34-44ce-4f0e-b533-36d722781804",
   "metadata": {},
   "outputs": [],
   "source": [
    "transit_stacks = tbl.views.transitstacks()"
   ]
  },
  {
   "cell_type": "code",
   "execution_count": 34,
   "id": "f404595d-2690-48be-a324-38d7e4dbf1cf",
   "metadata": {},
   "outputs": [],
   "source": [
    "lossan_counties = ['San Luis Obispo', 'Santa Barbara', 'Ventura',\n",
    "                  'Los Angeles', 'San Diego']"
   ]
  },
  {
   "cell_type": "code",
   "execution_count": 28,
   "id": "86d1fe94-af23-493f-8d0c-c22f68665fb3",
   "metadata": {},
   "outputs": [],
   "source": [
    "dim_stops = (tbl.views.gtfs_schedule_dim_stops()\n",
    "                 >> select(_.itp_id == _.calitp_itp_id, _.stop_key, _.stop_id, _.stop_lat, _.stop_lon, _.stop_name)\n",
    "            #      >> head(5)\n",
    "                )"
   ]
  },
  {
   "cell_type": "code",
   "execution_count": 36,
   "id": "3e4f0176-3554-4be2-8fd3-5d707b1ae878",
   "metadata": {},
   "outputs": [],
   "source": [
    "weekday_stops = (tbl.views.gtfs_schedule_fact_daily_feed_stops()\n",
    "                    >> filter(_.date == '2021-09-01') #weekday service\n",
    "                    >> select(_.stop_key, _.date)\n",
    "                    >> inner_join(_, dim_stops, on='stop_key')\n",
    "#                     >> head(5)\n",
    "                      )"
   ]
  },
  {
   "cell_type": "code",
   "execution_count": 125,
   "id": "0ec9cab9-dba6-45b8-b3cd-75cc6eb0b4eb",
   "metadata": {
    "tags": []
   },
   "outputs": [],
   "source": [
    "info_cols = ['itp_id',\n",
    "                 'transit_provider',\n",
    "                 'ntd_id',\n",
    "                 'modes',\n",
    "                 'county',\n",
    "                 'legacy_ntd_id']\n",
    "\n",
    "vehicle_cols = [\n",
    "                 'bus',\n",
    "                 'articulated_bus',\n",
    "                 'over_the_road_bus',\n",
    "                 'school_bus',\n",
    "\n",
    "                 'trolleybus',\n",
    "#                  'heavy_rail_passenger_car',\n",
    "#                  'light_rail_vehicle',\n",
    "#                  'commuter_rail_passenger_coach',\n",
    "#                  'commuter_rail_self_propelled_passenger_car',\n",
    "#                  'locomotive',\n",
    "#                  'automated_guideway_vehicle',\n",
    "                 'vintage_historic_trolley',\n",
    "                 'streetcar']\n",
    "\n",
    "paratransit_cols = [\n",
    "                     'van',\n",
    "                     'cutaway',\n",
    "                     'automobile',\n",
    "                     'minivan',\n",
    "                     'sport_utility_vehicle']"
   ]
  },
  {
   "cell_type": "code",
   "execution_count": 126,
   "id": "b0705947-c510-42b0-95dd-08b3e3f2b8f1",
   "metadata": {},
   "outputs": [],
   "source": [
    "lossan_stops = (transit_stacks\n",
    "                         >> filter(_.county.isin(lossan_counties))\n",
    "                         >> select(_.itp_id)\n",
    "                         >> inner_join(_, weekday_stops, on = \"itp_id\")\n",
    "#                          >> select(*(info_cols + vehicle_cols))\n",
    "#                          >> head(5)\n",
    "                         >> collect()\n",
    "                    )"
   ]
  },
  {
   "cell_type": "code",
   "execution_count": 127,
   "id": "94b5c488-d25c-4bf5-b085-391ebba0b0ac",
   "metadata": {},
   "outputs": [],
   "source": [
    "lossan_operators = (transit_stacks\n",
    "                         >> filter(_.county.isin(lossan_counties))\n",
    "                    #      >> inner_join(_, weekday_stops, on = \"itp_id\")\n",
    "                         >> select(*(info_cols + vehicle_cols))\n",
    "#                          >> gather(*vehicle_cols, -_.itp_id)\n",
    "#                          >> head(5)\n",
    "                         >> collect()\n",
    "                    )"
   ]
  },
  {
   "cell_type": "code",
   "execution_count": 128,
   "id": "9322519c-93db-4576-9cbf-a6b9569d1523",
   "metadata": {},
   "outputs": [],
   "source": [
    "lossan_operators.replace(' ', np.nan, inplace=True)\n",
    "for col in vehicle_cols:\n",
    "    lossan_operators = lossan_operators.astype({col:'float64'})\n",
    "# lossan_operators"
   ]
  },
  {
   "cell_type": "code",
   "execution_count": 129,
   "id": "20071aa8-cba6-40db-ba07-0688df9c854e",
   "metadata": {},
   "outputs": [
    {
     "data": {
      "text/plain": [
       "bus                         4351.0\n",
       "articulated_bus              584.0\n",
       "over_the_road_bus            229.0\n",
       "school_bus                     0.0\n",
       "trolleybus                     0.0\n",
       "vintage_historic_trolley       2.0\n",
       "streetcar                      0.0\n",
       "dtype: float64"
      ]
     },
     "execution_count": 129,
     "metadata": {},
     "output_type": "execute_result"
    }
   ],
   "source": [
    "lossan_operators[vehicle_cols].sum()"
   ]
  },
  {
   "cell_type": "markdown",
   "id": "c7d0bba7-1671-4603-9f65-09e70328fc4d",
   "metadata": {},
   "source": [
    "### Buses, in all counties..."
   ]
  },
  {
   "cell_type": "code",
   "execution_count": 137,
   "id": "52fbfffe-e347-4436-9244-ec17249b5240",
   "metadata": {},
   "outputs": [],
   "source": [
    "validators_needed = {'bus':2, 'articulated_bus':3, 'over_the_road_bus':1,\n",
    "                     'vintage_historic_trolley':2,\n",
    "                     'lrt_stn':6, 'hrt_stn':15, 'la_union_stn':40,\n",
    "                     'commuter_rail_stn':6, 'interchange':20}"
   ]
  },
  {
   "cell_type": "code",
   "execution_count": 138,
   "id": "80257ac6-4ccf-4e18-869f-cc04c1c91774",
   "metadata": {},
   "outputs": [
    {
     "data": {
      "text/plain": [
       "articulated_bus             1752.0\n",
       "bus                         8702.0\n",
       "over_the_road_bus            229.0\n",
       "vintage_historic_trolley       4.0\n",
       "dtype: float64"
      ]
     },
     "execution_count": 138,
     "metadata": {},
     "output_type": "execute_result"
    }
   ],
   "source": [
    "(pd.Series(validators_needed) * lossan_operators[vehicle_cols].sum()).dropna()\n"
   ]
  },
  {
   "cell_type": "markdown",
   "id": "281d214f-bf71-46d3-a061-f78e0c65026c",
   "metadata": {},
   "source": [
    "## Rail!"
   ]
  },
  {
   "cell_type": "code",
   "execution_count": 123,
   "id": "c97ba8d2-84db-454f-89a6-58e004cb474d",
   "metadata": {},
   "outputs": [
    {
     "data": {
      "text/html": [
       "<div>\n",
       "<style scoped>\n",
       "    .dataframe tbody tr th:only-of-type {\n",
       "        vertical-align: middle;\n",
       "    }\n",
       "\n",
       "    .dataframe tbody tr th {\n",
       "        vertical-align: top;\n",
       "    }\n",
       "\n",
       "    .dataframe thead th {\n",
       "        text-align: right;\n",
       "    }\n",
       "</style>\n",
       "<table border=\"1\" class=\"dataframe\">\n",
       "  <thead>\n",
       "    <tr style=\"text-align: right;\">\n",
       "      <th></th>\n",
       "      <th>itp_id</th>\n",
       "      <th>transit_provider</th>\n",
       "    </tr>\n",
       "  </thead>\n",
       "  <tbody>\n",
       "    <tr>\n",
       "      <th>0</th>\n",
       "      <td>352</td>\n",
       "      <td>UC San Diego Campus Shuttles</td>\n",
       "    </tr>\n",
       "    <tr>\n",
       "      <th>1</th>\n",
       "      <td>353</td>\n",
       "      <td>USC Transportation</td>\n",
       "    </tr>\n",
       "    <tr>\n",
       "      <th>2</th>\n",
       "      <td>202</td>\n",
       "      <td>Mission City Transit</td>\n",
       "    </tr>\n",
       "    <tr>\n",
       "      <th>3</th>\n",
       "      <td>213</td>\n",
       "      <td>Morro Bay Transit</td>\n",
       "    </tr>\n",
       "    <tr>\n",
       "      <th>4</th>\n",
       "      <td>59</td>\n",
       "      <td>Catalina Flyer</td>\n",
       "    </tr>\n",
       "    <tr>\n",
       "      <th>...</th>\n",
       "      <td>...</td>\n",
       "      <td>...</td>\n",
       "    </tr>\n",
       "    <tr>\n",
       "      <th>124</th>\n",
       "      <td>328</td>\n",
       "      <td>Whittier Dial-A-Ride</td>\n",
       "    </tr>\n",
       "    <tr>\n",
       "      <th>125</th>\n",
       "      <td>69</td>\n",
       "      <td>Claremont Dial-a-Ride</td>\n",
       "    </tr>\n",
       "    <tr>\n",
       "      <th>126</th>\n",
       "      <td>20</td>\n",
       "      <td>Artesia Express Dial-A-Ride</td>\n",
       "    </tr>\n",
       "    <tr>\n",
       "      <th>127</th>\n",
       "      <td>160</td>\n",
       "      <td>DASH Transit</td>\n",
       "    </tr>\n",
       "    <tr>\n",
       "      <th>128</th>\n",
       "      <td>255</td>\n",
       "      <td>Pomona Valley Transportation Authority</td>\n",
       "    </tr>\n",
       "  </tbody>\n",
       "</table>\n",
       "<p>129 rows × 2 columns</p>\n",
       "</div>"
      ],
      "text/plain": [
       "     itp_id                        transit_provider\n",
       "0       352            UC San Diego Campus Shuttles\n",
       "1       353                      USC Transportation\n",
       "2       202                    Mission City Transit\n",
       "3       213                       Morro Bay Transit\n",
       "4        59                          Catalina Flyer\n",
       "..      ...                                     ...\n",
       "124     328                    Whittier Dial-A-Ride\n",
       "125      69                   Claremont Dial-a-Ride\n",
       "126      20             Artesia Express Dial-A-Ride\n",
       "127     160                            DASH Transit\n",
       "128     255  Pomona Valley Transportation Authority\n",
       "\n",
       "[129 rows x 2 columns]"
      ]
     },
     "execution_count": 123,
     "metadata": {},
     "output_type": "execute_result"
    }
   ],
   "source": [
    "lossan_operators[['itp_id', 'transit_provider']]"
   ]
  },
  {
   "cell_type": "code",
   "execution_count": 124,
   "id": "14674d6e-f1b8-4cc7-b512-4932b24d646d",
   "metadata": {},
   "outputs": [
    {
     "data": {
      "text/html": [
       "<div><pre># Source: lazy query\n",
       "# DB Conn: Engine(bigquery://cal-itp-data-infra/?maximum_bytes_billed=5000000000)\n",
       "# Preview:\n",
       "</pre><div>\n",
       "<style scoped>\n",
       "    .dataframe tbody tr th:only-of-type {\n",
       "        vertical-align: middle;\n",
       "    }\n",
       "\n",
       "    .dataframe tbody tr th {\n",
       "        vertical-align: top;\n",
       "    }\n",
       "\n",
       "    .dataframe thead th {\n",
       "        text-align: right;\n",
       "    }\n",
       "</style>\n",
       "<table border=\"1\" class=\"dataframe\">\n",
       "  <thead>\n",
       "    <tr style=\"text-align: right;\">\n",
       "      <th></th>\n",
       "      <th>route_key</th>\n",
       "      <th>calitp_itp_id</th>\n",
       "      <th>calitp_url_number</th>\n",
       "      <th>route_id</th>\n",
       "      <th>route_type</th>\n",
       "      <th>agency_id</th>\n",
       "      <th>route_short_name</th>\n",
       "      <th>route_long_name</th>\n",
       "      <th>route_desc</th>\n",
       "      <th>route_url</th>\n",
       "      <th>...</th>\n",
       "      <th>route_continuous_drop_off</th>\n",
       "      <th>agency_name</th>\n",
       "      <th>agency_url</th>\n",
       "      <th>agency_timezone</th>\n",
       "      <th>agency_lang</th>\n",
       "      <th>agency_phone</th>\n",
       "      <th>agency_fare_url</th>\n",
       "      <th>agency_email</th>\n",
       "      <th>calitp_extracted_at</th>\n",
       "      <th>calitp_deleted_at</th>\n",
       "    </tr>\n",
       "  </thead>\n",
       "  <tbody>\n",
       "    <tr>\n",
       "      <th>0</th>\n",
       "      <td>-9068512898515523435</td>\n",
       "      <td>238</td>\n",
       "      <td>0</td>\n",
       "      <td>15729</td>\n",
       "      <td>3</td>\n",
       "      <td>75</td>\n",
       "      <td>None</td>\n",
       "      <td>Community Circular Response Route</td>\n",
       "      <td>None</td>\n",
       "      <td>None</td>\n",
       "      <td>...</td>\n",
       "      <td>1</td>\n",
       "      <td>Palo Verde Valley Transit Agency</td>\n",
       "      <td>http://pvvta.com/</td>\n",
       "      <td>America/Los_Angeles</td>\n",
       "      <td>en</td>\n",
       "      <td>(760) 922-1140</td>\n",
       "      <td>None</td>\n",
       "      <td>None</td>\n",
       "      <td>2021-04-15</td>\n",
       "      <td>2099-01-01</td>\n",
       "    </tr>\n",
       "    <tr>\n",
       "      <th>1</th>\n",
       "      <td>2604161650835279359</td>\n",
       "      <td>293</td>\n",
       "      <td>0</td>\n",
       "      <td>20</td>\n",
       "      <td>3</td>\n",
       "      <td>1</td>\n",
       "      <td>20</td>\n",
       "      <td>Carpinteria</td>\n",
       "      <td>None</td>\n",
       "      <td>None</td>\n",
       "      <td>...</td>\n",
       "      <td>None</td>\n",
       "      <td>SBMTD</td>\n",
       "      <td>https://sbmtd.gov</td>\n",
       "      <td>America/Los_Angeles</td>\n",
       "      <td>en</td>\n",
       "      <td>805-963-3364</td>\n",
       "      <td>https://sbmtd.gov/fares-passes/</td>\n",
       "      <td>info@sbmtd.gov</td>\n",
       "      <td>2021-04-15</td>\n",
       "      <td>2099-01-01</td>\n",
       "    </tr>\n",
       "    <tr>\n",
       "      <th>2</th>\n",
       "      <td>-3013574181432666764</td>\n",
       "      <td>293</td>\n",
       "      <td>0</td>\n",
       "      <td>2430</td>\n",
       "      <td>3</td>\n",
       "      <td>1</td>\n",
       "      <td>2430</td>\n",
       "      <td>La Colina Jr. High</td>\n",
       "      <td>None</td>\n",
       "      <td>None</td>\n",
       "      <td>...</td>\n",
       "      <td>None</td>\n",
       "      <td>SBMTD</td>\n",
       "      <td>https://sbmtd.gov</td>\n",
       "      <td>America/Los_Angeles</td>\n",
       "      <td>en</td>\n",
       "      <td>805-963-3364</td>\n",
       "      <td>https://sbmtd.gov/fares-passes/</td>\n",
       "      <td>info@sbmtd.gov</td>\n",
       "      <td>2021-07-15</td>\n",
       "      <td>2099-01-01</td>\n",
       "    </tr>\n",
       "    <tr>\n",
       "      <th>3</th>\n",
       "      <td>2413331032151217230</td>\n",
       "      <td>293</td>\n",
       "      <td>0</td>\n",
       "      <td>7</td>\n",
       "      <td>3</td>\n",
       "      <td>1</td>\n",
       "      <td>7</td>\n",
       "      <td>County Health/Fairview</td>\n",
       "      <td>None</td>\n",
       "      <td>None</td>\n",
       "      <td>...</td>\n",
       "      <td>None</td>\n",
       "      <td>SBMTD</td>\n",
       "      <td>https://sbmtd.gov</td>\n",
       "      <td>America/Los_Angeles</td>\n",
       "      <td>en</td>\n",
       "      <td>805-963-3364</td>\n",
       "      <td>https://sbmtd.gov/fares-passes/</td>\n",
       "      <td>info@sbmtd.gov</td>\n",
       "      <td>2021-04-15</td>\n",
       "      <td>2099-01-01</td>\n",
       "    </tr>\n",
       "    <tr>\n",
       "      <th>4</th>\n",
       "      <td>-4676294777311645706</td>\n",
       "      <td>293</td>\n",
       "      <td>0</td>\n",
       "      <td>2530</td>\n",
       "      <td>3</td>\n",
       "      <td>1</td>\n",
       "      <td>2530</td>\n",
       "      <td>San Marcos High School</td>\n",
       "      <td>None</td>\n",
       "      <td>None</td>\n",
       "      <td>...</td>\n",
       "      <td>None</td>\n",
       "      <td>SBMTD</td>\n",
       "      <td>https://sbmtd.gov</td>\n",
       "      <td>America/Los_Angeles</td>\n",
       "      <td>en</td>\n",
       "      <td>805-963-3364</td>\n",
       "      <td>https://sbmtd.gov/fares-passes/</td>\n",
       "      <td>info@sbmtd.gov</td>\n",
       "      <td>2021-04-15</td>\n",
       "      <td>2021-05-24</td>\n",
       "    </tr>\n",
       "  </tbody>\n",
       "</table>\n",
       "<p>5 rows × 24 columns</p>\n",
       "</div><p># .. may have more rows</p></div>"
      ],
      "text/plain": [
       "# Source: lazy query\n",
       "# DB Conn: Engine(bigquery://cal-itp-data-infra/?maximum_bytes_billed=5000000000)\n",
       "# Preview:\n",
       "             route_key  calitp_itp_id  calitp_url_number route_id route_type  \\\n",
       "0 -9068512898515523435            238                  0    15729          3   \n",
       "1  2604161650835279359            293                  0       20          3   \n",
       "2 -3013574181432666764            293                  0     2430          3   \n",
       "3  2413331032151217230            293                  0        7          3   \n",
       "4 -4676294777311645706            293                  0     2530          3   \n",
       "\n",
       "  agency_id route_short_name                    route_long_name route_desc  \\\n",
       "0        75             None  Community Circular Response Route       None   \n",
       "1         1               20                        Carpinteria       None   \n",
       "2         1             2430                 La Colina Jr. High       None   \n",
       "3         1                7             County Health/Fairview       None   \n",
       "4         1             2530             San Marcos High School       None   \n",
       "\n",
       "  route_url  ... route_continuous_drop_off                       agency_name  \\\n",
       "0      None  ...                         1  Palo Verde Valley Transit Agency   \n",
       "1      None  ...                      None                             SBMTD   \n",
       "2      None  ...                      None                             SBMTD   \n",
       "3      None  ...                      None                             SBMTD   \n",
       "4      None  ...                      None                             SBMTD   \n",
       "\n",
       "          agency_url      agency_timezone agency_lang    agency_phone  \\\n",
       "0  http://pvvta.com/  America/Los_Angeles          en  (760) 922-1140   \n",
       "1  https://sbmtd.gov  America/Los_Angeles          en    805-963-3364   \n",
       "2  https://sbmtd.gov  America/Los_Angeles          en    805-963-3364   \n",
       "3  https://sbmtd.gov  America/Los_Angeles          en    805-963-3364   \n",
       "4  https://sbmtd.gov  America/Los_Angeles          en    805-963-3364   \n",
       "\n",
       "                    agency_fare_url    agency_email calitp_extracted_at  \\\n",
       "0                              None            None          2021-04-15   \n",
       "1  https://sbmtd.gov/fares-passes/   info@sbmtd.gov          2021-04-15   \n",
       "2  https://sbmtd.gov/fares-passes/   info@sbmtd.gov          2021-07-15   \n",
       "3  https://sbmtd.gov/fares-passes/   info@sbmtd.gov          2021-04-15   \n",
       "4  https://sbmtd.gov/fares-passes/   info@sbmtd.gov          2021-04-15   \n",
       "\n",
       "  calitp_deleted_at  \n",
       "0        2099-01-01  \n",
       "1        2099-01-01  \n",
       "2        2099-01-01  \n",
       "3        2099-01-01  \n",
       "4        2021-05-24  \n",
       "\n",
       "[5 rows x 24 columns]\n",
       "# .. may have more rows"
      ]
     },
     "execution_count": 124,
     "metadata": {},
     "output_type": "execute_result"
    }
   ],
   "source": [
    "tbl.views.gtfs_schedule_dim_routes() >> head(5)"
   ]
  },
  {
   "cell_type": "code",
   "execution_count": null,
   "id": "59fdaca5-abea-4df0-a020-376219df6823",
   "metadata": {},
   "outputs": [],
   "source": [
    "##TODO replace hardcoded station values\n",
    "\n",
    "metro_lrt\n",
    "metro_hrt\n",
    "metrolink\n",
    "coaster\n",
    "sdmts_lrt"
   ]
  },
  {
   "cell_type": "markdown",
   "id": "1972daa8-7573-4b3d-88b4-290a6b725fd2",
   "metadata": {},
   "source": [
    "## Direct LOSSAN Connections"
   ]
  },
  {
   "cell_type": "code",
   "execution_count": null,
   "id": "e5788457-3410-4f45-a506-c5d0eda66574",
   "metadata": {},
   "outputs": [],
   "source": [
    "## LOSSAN station locations..."
   ]
  },
  {
   "cell_type": "markdown",
   "id": "619283c8-bf36-4c68-92d6-cf3f98bea155",
   "metadata": {},
   "source": [
    "## Scratchpad"
   ]
  },
  {
   "cell_type": "code",
   "execution_count": 58,
   "id": "cd7b101c-50ba-4161-bead-788e7dec1ddc",
   "metadata": {},
   "outputs": [
    {
     "data": {
      "text/html": [
       "<div>\n",
       "<style scoped>\n",
       "    .dataframe tbody tr th:only-of-type {\n",
       "        vertical-align: middle;\n",
       "    }\n",
       "\n",
       "    .dataframe tbody tr th {\n",
       "        vertical-align: top;\n",
       "    }\n",
       "\n",
       "    .dataframe thead th {\n",
       "        text-align: right;\n",
       "    }\n",
       "</style>\n",
       "<table border=\"1\" class=\"dataframe\">\n",
       "  <thead>\n",
       "    <tr style=\"text-align: right;\">\n",
       "      <th></th>\n",
       "      <th>itp_id</th>\n",
       "      <th>stop_name</th>\n",
       "      <th>date</th>\n",
       "      <th>stop_lon</th>\n",
       "      <th>stop_lat</th>\n",
       "      <th>stop_key</th>\n",
       "      <th>stop_id</th>\n",
       "    </tr>\n",
       "  </thead>\n",
       "  <tbody>\n",
       "    <tr>\n",
       "      <th>0</th>\n",
       "      <td>260</td>\n",
       "      <td>Airport Blvd. / Century Blvd.</td>\n",
       "      <td>2021-09-01</td>\n",
       "      <td>-118.385867</td>\n",
       "      <td>33.946301</td>\n",
       "      <td>7240031012082528129</td>\n",
       "      <td>171</td>\n",
       "    </tr>\n",
       "    <tr>\n",
       "      <th>1</th>\n",
       "      <td>260</td>\n",
       "      <td>Diamond St. / Lucia Ave.</td>\n",
       "      <td>2021-09-01</td>\n",
       "      <td>-118.381579</td>\n",
       "      <td>33.849346</td>\n",
       "      <td>-1917522574873626654</td>\n",
       "      <td>308</td>\n",
       "    </tr>\n",
       "    <tr>\n",
       "      <th>2</th>\n",
       "      <td>260</td>\n",
       "      <td>Main St / Mariposa Ave.</td>\n",
       "      <td>2021-09-01</td>\n",
       "      <td>-118.416074</td>\n",
       "      <td>33.923753</td>\n",
       "      <td>-1687249318440141690</td>\n",
       "      <td>221</td>\n",
       "    </tr>\n",
       "    <tr>\n",
       "      <th>3</th>\n",
       "      <td>260</td>\n",
       "      <td>Rindge Ln. / Ripley Ave.</td>\n",
       "      <td>2021-09-01</td>\n",
       "      <td>-118.372641</td>\n",
       "      <td>33.861636</td>\n",
       "      <td>3098617143585669701</td>\n",
       "      <td>314</td>\n",
       "    </tr>\n",
       "    <tr>\n",
       "      <th>4</th>\n",
       "      <td>260</td>\n",
       "      <td>Rosecrans Ave. / Sepulveda Blvd.</td>\n",
       "      <td>2021-09-01</td>\n",
       "      <td>-118.395432</td>\n",
       "      <td>33.901741</td>\n",
       "      <td>9086599303417023959</td>\n",
       "      <td>136</td>\n",
       "    </tr>\n",
       "    <tr>\n",
       "      <th>...</th>\n",
       "      <td>...</td>\n",
       "      <td>...</td>\n",
       "      <td>...</td>\n",
       "      <td>...</td>\n",
       "      <td>...</td>\n",
       "      <td>...</td>\n",
       "      <td>...</td>\n",
       "    </tr>\n",
       "    <tr>\n",
       "      <th>44558</th>\n",
       "      <td>243</td>\n",
       "      <td>Allen Ave &amp; Colorado Blvd</td>\n",
       "      <td>2021-09-01</td>\n",
       "      <td>-118.113232</td>\n",
       "      <td>34.145463</td>\n",
       "      <td>-2012458046063568106</td>\n",
       "      <td>18</td>\n",
       "    </tr>\n",
       "    <tr>\n",
       "      <th>44559</th>\n",
       "      <td>243</td>\n",
       "      <td>Washington Blvd &amp; Lake Ave</td>\n",
       "      <td>2021-09-01</td>\n",
       "      <td>-118.131784</td>\n",
       "      <td>34.168913</td>\n",
       "      <td>-6589317956151772312</td>\n",
       "      <td>201</td>\n",
       "    </tr>\n",
       "    <tr>\n",
       "      <th>44560</th>\n",
       "      <td>243</td>\n",
       "      <td>Lake Ave &amp; Orange Grove Blvd</td>\n",
       "      <td>2021-09-01</td>\n",
       "      <td>-118.132599</td>\n",
       "      <td>34.157458</td>\n",
       "      <td>-3827411166724682000</td>\n",
       "      <td>211</td>\n",
       "    </tr>\n",
       "    <tr>\n",
       "      <th>44561</th>\n",
       "      <td>243</td>\n",
       "      <td>Del Mar Blvd &amp; Mentor Ave</td>\n",
       "      <td>2021-09-01</td>\n",
       "      <td>-118.130490</td>\n",
       "      <td>34.140845</td>\n",
       "      <td>9000941398159293524</td>\n",
       "      <td>117</td>\n",
       "    </tr>\n",
       "    <tr>\n",
       "      <th>44562</th>\n",
       "      <td>243</td>\n",
       "      <td>New York Dr &amp; Sierra Madre Villa Ave</td>\n",
       "      <td>2021-09-01</td>\n",
       "      <td>-118.081692</td>\n",
       "      <td>34.162441</td>\n",
       "      <td>-5675144197618565420</td>\n",
       "      <td>269</td>\n",
       "    </tr>\n",
       "  </tbody>\n",
       "</table>\n",
       "<p>44563 rows × 7 columns</p>\n",
       "</div>"
      ],
      "text/plain": [
       "       itp_id                             stop_name        date    stop_lon  \\\n",
       "0         260         Airport Blvd. / Century Blvd.  2021-09-01 -118.385867   \n",
       "1         260              Diamond St. / Lucia Ave.  2021-09-01 -118.381579   \n",
       "2         260               Main St / Mariposa Ave.  2021-09-01 -118.416074   \n",
       "3         260              Rindge Ln. / Ripley Ave.  2021-09-01 -118.372641   \n",
       "4         260     Rosecrans Ave. / Sepulveda Blvd.   2021-09-01 -118.395432   \n",
       "...       ...                                   ...         ...         ...   \n",
       "44558     243             Allen Ave & Colorado Blvd  2021-09-01 -118.113232   \n",
       "44559     243            Washington Blvd & Lake Ave  2021-09-01 -118.131784   \n",
       "44560     243          Lake Ave & Orange Grove Blvd  2021-09-01 -118.132599   \n",
       "44561     243             Del Mar Blvd & Mentor Ave  2021-09-01 -118.130490   \n",
       "44562     243  New York Dr & Sierra Madre Villa Ave  2021-09-01 -118.081692   \n",
       "\n",
       "        stop_lat             stop_key stop_id  \n",
       "0      33.946301  7240031012082528129     171  \n",
       "1      33.849346 -1917522574873626654     308  \n",
       "2      33.923753 -1687249318440141690     221  \n",
       "3      33.861636  3098617143585669701     314  \n",
       "4      33.901741  9086599303417023959     136  \n",
       "...          ...                  ...     ...  \n",
       "44558  34.145463 -2012458046063568106      18  \n",
       "44559  34.168913 -6589317956151772312     201  \n",
       "44560  34.157458 -3827411166724682000     211  \n",
       "44561  34.140845  9000941398159293524     117  \n",
       "44562  34.162441 -5675144197618565420     269  \n",
       "\n",
       "[44563 rows x 7 columns]"
      ]
     },
     "execution_count": 58,
     "metadata": {},
     "output_type": "execute_result"
    }
   ],
   "source": [
    "lossan_stops"
   ]
  },
  {
   "cell_type": "code",
   "execution_count": 60,
   "id": "c2117617-889a-4c21-9c8c-b9e18e133e95",
   "metadata": {},
   "outputs": [],
   "source": [
    "import geopandas as gpd\n",
    "import folium"
   ]
  },
  {
   "cell_type": "code",
   "execution_count": 62,
   "id": "d7f05838-a3e2-4ad1-985b-ebf892df21e2",
   "metadata": {},
   "outputs": [],
   "source": [
    "geo_stops = gpd.GeoDataFrame(\n",
    "                lossan_stops,\n",
    "                geometry = gpd.points_from_xy(lossan_stops.stop_lon, lossan_stops.stop_lat),\n",
    "                crs='EPSG:4326')"
   ]
  },
  {
   "cell_type": "code",
   "execution_count": 63,
   "id": "329e8fc7-e0ee-4e83-b1bb-d324a49138d4",
   "metadata": {},
   "outputs": [
    {
     "data": {
      "text/plain": [
       "<AxesSubplot:>"
      ]
     },
     "execution_count": 63,
     "metadata": {},
     "output_type": "execute_result"
    },
    {
     "data": {
      "image/png": "[encoded data removed]",
      "text/plain": [
       "<Figure size 432x288 with 1 Axes>"
      ]
     },
     "metadata": {
      "needs_background": "light"
     },
     "output_type": "display_data"
    }
   ],
   "source": [
    "geo_stops.plot()"
   ]
  },
  {
   "cell_type": "code",
   "execution_count": 74,
   "id": "ae503cd2-9b05-4995-89fb-b018b04a2a90",
   "metadata": {
    "tags": []
   },
   "outputs": [],
   "source": [
    "# m = folium.Map(location=[34, -118])\n",
    "## hella slow\n",
    "# folium.GeoJson(geo_stops.drop(columns=['date']).to_json(), name=\"geojson\").add_to(m)"
   ]
  }
 ],
 "metadata": {
  "kernelspec": {
   "display_name": "Python 3 (ipykernel)",
   "language": "python",
   "name": "python3"
  },
  "language_info": {
   "codemirror_mode": {
    "name": "ipython",
    "version": 3
   },
   "file_extension": ".py",
   "mimetype": "text/x-python",
   "name": "python",
   "nbconvert_exporter": "python",
   "pygments_lexer": "ipython3",
   "version": "3.9.6"
  }
 },
 "nbformat": 4,
 "nbformat_minor": 5
}
