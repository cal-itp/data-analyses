{
 "cells": [
  {
   "cell_type": "code",
   "execution_count": 4,
   "id": "2d7d8e64-6f88-4423-92ac-edf21a021284",
   "metadata": {},
   "outputs": [
    {
     "name": "stderr",
     "output_type": "stream",
     "text": [
      "/opt/conda/lib/python3.9/site-packages/geopandas/_compat.py:124: UserWarning: The Shapely GEOS version (3.11.1-CAPI-1.17.1) is incompatible with the GEOS version PyGEOS was compiled with (3.10.1-CAPI-1.16.0). Conversions between both will be slow.\n",
      "  warnings.warn(\n"
     ]
    }
   ],
   "source": [
    "from calitp_data_analysis.tables import tbls\n",
    "from siuba import *\n",
    "\n",
    "import pandas as pd\n",
    "import numpy as np\n",
    "\n",
    "import geopandas as gpd\n",
    "import seaborn as sns\n",
    "\n",
    "from ipyleaflet import Map, GeoJSON, projections, basemaps, GeoData, LayersControl, WidgetControl, GeoJSON\n",
    "from ipywidgets import Text, HTML"
   ]
  },
  {
   "cell_type": "markdown",
   "id": "0ab4b0a7-1b2e-4e38-a61b-cbcd04220eba",
   "metadata": {},
   "source": [
    "## About how many validators are needed to connect to LOSSAN?"
   ]
  },
  {
   "cell_type": "markdown",
   "id": "232aef9c-8ef7-4012-ada0-a80f726a7762",
   "metadata": {},
   "source": [
    "### Set up views"
   ]
  },
  {
   "cell_type": "code",
   "execution_count": 2,
   "id": "51593e34-44ce-4f0e-b533-36d722781804",
   "metadata": {},
   "outputs": [],
   "source": [
    "transit_stacks = tbl.views.transitstacks()"
   ]
  },
  {
   "cell_type": "code",
   "execution_count": 3,
   "id": "f404595d-2690-48be-a324-38d7e4dbf1cf",
   "metadata": {},
   "outputs": [],
   "source": [
    "lossan_counties = ['San Luis Obispo', 'Santa Barbara', 'Ventura',\n",
    "                  'Los Angeles', 'San Diego', 'Orange']"
   ]
  },
  {
   "cell_type": "code",
   "execution_count": 4,
   "id": "86d1fe94-af23-493f-8d0c-c22f68665fb3",
   "metadata": {},
   "outputs": [],
   "source": [
    "dim_stops = (tbl.views.gtfs_schedule_dim_stops()\n",
    "                 >> select(_.itp_id == _.calitp_itp_id, _.stop_key, _.stop_id, _.stop_lat, _.stop_lon, _.stop_name)\n",
    "                )"
   ]
  },
  {
   "cell_type": "code",
   "execution_count": 5,
   "id": "f7a86e59-5d52-4d5a-ad42-1e2ee111b065",
   "metadata": {},
   "outputs": [],
   "source": [
    "dim_routes = (tbl.views.gtfs_schedule_dim_routes()\n",
    "                 >> select(_.itp_id == _.calitp_itp_id, _.route_key, _.route_type)\n",
    "                )"
   ]
  },
  {
   "cell_type": "code",
   "execution_count": 6,
   "id": "0176e3d7-cde5-47c4-8afc-2cfd89fcb816",
   "metadata": {},
   "outputs": [],
   "source": [
    "weekday_rail_stops = (tbl.views.gtfs_schedule_fact_daily_feed_routes()\n",
    "                    >> filter(_.date == '2021-09-01') #weekday service (Wed)\n",
    "                    >> select(_.route_key, _.date)\n",
    "                    >> inner_join(_, dim_routes, on='route_key')\n",
    "                    >> filter(_.route_type != '3') #not bus stops\n",
    "                    >> inner_join(_, tbl.views.gtfs_schedule_index_feed_trip_stops(), on='route_key')\n",
    "                    >> collect()\n",
    "                    >> distinct(_.stop_key, _keep_all = True) #have to collect first to keep all, slow\n",
    "                    >> group_by(_.itp_id)\n",
    "                    >> count(_.route_type)\n",
    "                      )"
   ]
  },
  {
   "cell_type": "code",
   "execution_count": 7,
   "id": "3e4f0176-3554-4be2-8fd3-5d707b1ae878",
   "metadata": {},
   "outputs": [],
   "source": [
    "weekday_stops = (tbl.views.gtfs_schedule_fact_daily_feed_stops()\n",
    "                    >> filter(_.date == '2021-09-01') #weekday service (Wed)\n",
    "                    >> select(_.stop_key, _.date)\n",
    "                    >> inner_join(_, dim_stops, on='stop_key')\n",
    "                      )"
   ]
  },
  {
   "cell_type": "code",
   "execution_count": 8,
   "id": "0ec9cab9-dba6-45b8-b3cd-75cc6eb0b4eb",
   "metadata": {
    "tags": []
   },
   "outputs": [],
   "source": [
    "info_cols = ['itp_id', 'transit_provider', 'ntd_id',\n",
    "             'modes', 'county', 'legacy_ntd_id']\n",
    "\n",
    "vehicle_cols = ['bus', 'articulated_bus', 'over_the_road_bus',\n",
    "                'school_bus', 'trolleybus', 'vintage_historic_trolley',\n",
    "                'streetcar']\n",
    "\n",
    "paratransit_cols = ['van', 'cutaway', 'automobile',\n",
    "                     'minivan', 'sport_utility_vehicle']"
   ]
  },
  {
   "cell_type": "code",
   "execution_count": 9,
   "id": "b0705947-c510-42b0-95dd-08b3e3f2b8f1",
   "metadata": {},
   "outputs": [],
   "source": [
    "lossan_county_stops = (transit_stacks\n",
    "                         >> filter(_.county.isin(lossan_counties))\n",
    "                         >> select(_.itp_id, _.transit_provider, _.upt_total_2019)\n",
    "                         >> inner_join(_, weekday_stops, on = \"itp_id\")\n",
    "                         >> collect()\n",
    "                    )"
   ]
  },
  {
   "cell_type": "code",
   "execution_count": 10,
   "id": "94b5c488-d25c-4bf5-b085-391ebba0b0ac",
   "metadata": {
    "tags": []
   },
   "outputs": [],
   "source": [
    "lossan_operators = (transit_stacks\n",
    "                         >> filter(_.county.isin(lossan_counties))\n",
    "                         >> select(*(info_cols + vehicle_cols + paratransit_cols))\n",
    "                         >> collect()\n",
    "                    )"
   ]
  },
  {
   "cell_type": "code",
   "execution_count": 11,
   "id": "abcfe076-1d74-450d-ab42-7b62e9baac38",
   "metadata": {},
   "outputs": [],
   "source": [
    "lossan_operators.replace(' ', np.nan, inplace=True)\n",
    "for col in (vehicle_cols + paratransit_cols):\n",
    "    lossan_operators = lossan_operators.astype({col:'float64'})"
   ]
  },
  {
   "cell_type": "code",
   "execution_count": 12,
   "id": "e1ce75b9-5f2e-443b-bccd-923977a3dc79",
   "metadata": {},
   "outputs": [],
   "source": [
    "lossan_connecting_rail_stops = (transit_stacks\n",
    "                         >> filter(_.county.isin(lossan_counties))\n",
    "                         >> select(*info_cols)\n",
    "                         >> collect()\n",
    "                         >> inner_join(_, weekday_rail_stops, on='itp_id')\n",
    "                         >> rename(rail_stop_count = _.n)\n",
    "                               )"
   ]
  },
  {
   "cell_type": "markdown",
   "id": "38c91cc0-1fed-4a51-b606-58d155d196fb",
   "metadata": {},
   "source": [
    "### Estimate validators required per vehicle/stop"
   ]
  },
  {
   "cell_type": "code",
   "execution_count": 13,
   "id": "52fbfffe-e347-4436-9244-ec17249b5240",
   "metadata": {},
   "outputs": [],
   "source": [
    "## Eric's estimation...\n",
    "validators_needed = pd.Series({'bus': 2, 'articulated_bus': 3, 'over_the_road_bus': 1,\n",
    "                             'vintage_historic_trolley': 2, 'trolleybus': 2, 'streetcar': 2,\n",
    "                             'van': 1, 'cutaway': 1, 'automobile': 1,\n",
    "                             'minivan': 1, 'sport_utility_vehicle': 1, 'school_bus': 1,\n",
    "                              })\n",
    "\n",
    "# 0: LRT, 1: HRT, 2: Commuter Rail, 4: Ferry (from GTFS routes.txt)\n",
    "rail_validators_needed = pd.Series({'0': 6, '1': 10, '2': 6, '4': 4})"
   ]
  },
  {
   "cell_type": "markdown",
   "id": "281d214f-bf71-46d3-a061-f78e0c65026c",
   "metadata": {},
   "source": [
    "## Rail/Ferry"
   ]
  },
  {
   "cell_type": "markdown",
   "id": "2ac55ec0-50c1-463a-9a2a-81e5b0667744",
   "metadata": {},
   "source": [
    "### Finding LOSSAN stations"
   ]
  },
  {
   "cell_type": "code",
   "execution_count": 14,
   "id": "ccca6f1c-af06-46b2-a479-3b0df8e0ba08",
   "metadata": {},
   "outputs": [],
   "source": [
    "## We don't quite have this (Amtrak) in data warehouse yet...\n",
    "## from https://gis.data.ca.gov/datasets/63697b01616b4df68e2b316e73d7a4d6_0/\n",
    "ca_rail = gpd.read_file('./California_Rail_Stations.geojson')"
   ]
  },
  {
   "cell_type": "code",
   "execution_count": 15,
   "id": "3e9399ed-4466-4239-a50f-e3f5f9b43464",
   "metadata": {},
   "outputs": [],
   "source": [
    "lossan_lines = ['Ventura County Line',\n",
    "                'Burbank-Bob Hope Airport,Ventura County Line',\n",
    "                '91 Line,Antelope Valley Line,Burbank-Bob Hope Airport,Orange County Line,Riverside Line,San Bernardino Line,Ventura County Line',\n",
    "                'Antelope Valley Line,Burbank-Bob Hope Airport,Ventura County Line',\n",
    "                'Orange County Line',\n",
    "                '91 Line,Orange County Line',\n",
    "                'Inland Empire-Orange County Line,Orange County Line',\n",
    "                'Coaster,Inland Empire-Orange County Line,Orange County Line',\n",
    "                'Coaster',\n",
    "                ]"
   ]
  },
  {
   "cell_type": "code",
   "execution_count": 16,
   "id": "5aa8cb42-f648-4888-a43d-59a7a36d2f45",
   "metadata": {},
   "outputs": [],
   "source": [
    "lossan_stations = ca_rail[ca_rail['PASS_NETWO'].str.contains('Surfliner')\n",
    "                       | ca_rail['COMM_NETWO'].isin(lossan_lines)]"
   ]
  },
  {
   "cell_type": "markdown",
   "id": "eb413e9c-620d-4407-ae15-6dfc49db7b11",
   "metadata": {},
   "source": [
    "### Connecting rail/ferry transit"
   ]
  },
  {
   "cell_type": "code",
   "execution_count": 17,
   "id": "0f8363f7-65a5-44e2-94d9-7a9e7bc652a4",
   "metadata": {},
   "outputs": [],
   "source": [
    "lossan_connecting_rail_stops['validator_count'] = lossan_connecting_rail_stops.apply(\n",
    "                                lambda x: x.rail_stop_count * rail_validators_needed[x.route_type], axis=1)\n",
    "lossan_connecting_rail_stops['is_paratransit'] = False\n",
    "lossan_connecting_rail_stops['lossan_connection'] = True"
   ]
  },
  {
   "cell_type": "markdown",
   "id": "1972daa8-7573-4b3d-88b4-290a6b725fd2",
   "metadata": {},
   "source": [
    "## Direct LOSSAN Connections"
   ]
  },
  {
   "cell_type": "markdown",
   "id": "9ddad68a-ebb4-4feb-9ff6-3f42249ec504",
   "metadata": {},
   "source": [
    "### Find bus stops near LOSSAN stations"
   ]
  },
  {
   "cell_type": "code",
   "execution_count": 18,
   "id": "d7f05838-a3e2-4ad1-985b-ebf892df21e2",
   "metadata": {},
   "outputs": [],
   "source": [
    "lossan_county_stops = gpd.GeoDataFrame(\n",
    "                lossan_county_stops,\n",
    "                geometry = gpd.points_from_xy(lossan_county_stops.stop_lon, lossan_county_stops.stop_lat),\n",
    "                crs='EPSG:4326')"
   ]
  },
  {
   "cell_type": "code",
   "execution_count": 19,
   "id": "d874c629-6bc9-4a0a-868f-32287866dfcd",
   "metadata": {},
   "outputs": [],
   "source": [
    "## project stations for buffer\n",
    "lossan_stations = lossan_stations.to_crs('EPSG:6414') ## https://epsg.io/6414 (meters)\n",
    "lossan_stations.geometry = lossan_stations.geometry.buffer(800) ## 800 meter buffer ~ .5mi"
   ]
  },
  {
   "cell_type": "code",
   "execution_count": 20,
   "id": "04e46dba-c5fe-4ca6-945f-99fc75f8346c",
   "metadata": {},
   "outputs": [],
   "source": [
    "lossan_connect_stops = gpd.clip(lossan_county_stops.to_crs('EPSG:6414'), lossan_stations)"
   ]
  },
  {
   "cell_type": "code",
   "execution_count": 21,
   "id": "85f7ca37-73a2-414f-b015-4f19acf31c58",
   "metadata": {},
   "outputs": [],
   "source": [
    "# lossan_stations.plot()"
   ]
  },
  {
   "cell_type": "code",
   "execution_count": 22,
   "id": "329e8fc7-e0ee-4e83-b1bb-d324a49138d4",
   "metadata": {},
   "outputs": [],
   "source": [
    "# lossan_county_stops.plot()"
   ]
  },
  {
   "cell_type": "code",
   "execution_count": 23,
   "id": "7ccbc492-59c6-4e35-8c60-5c54ffd4da22",
   "metadata": {},
   "outputs": [],
   "source": [
    "# lossan_connect_stops.plot()"
   ]
  },
  {
   "cell_type": "code",
   "execution_count": 24,
   "id": "a40343d6-8966-47f3-8cbc-899546838fec",
   "metadata": {},
   "outputs": [],
   "source": [
    "lossan_connect_operators = (transit_stacks \n",
    "     >> filter(_.itp_id.isin(lossan_connect_stops.itp_id))\n",
    "     >> select(*(info_cols + vehicle_cols + paratransit_cols))\n",
    "     >> mutate(lossan_connection = True)\n",
    "     >> collect()\n",
    "    )"
   ]
  },
  {
   "cell_type": "code",
   "execution_count": 25,
   "id": "c4763857-4d1e-4ac9-9a86-2c8a48bc45b9",
   "metadata": {},
   "outputs": [],
   "source": [
    "lossan_connect_operators.replace(' ', np.nan, inplace=True)\n",
    "for col in (vehicle_cols + paratransit_cols):\n",
    "    lossan_connect_operators = lossan_connect_operators.astype({col:'float64'})"
   ]
  },
  {
   "cell_type": "code",
   "execution_count": 26,
   "id": "da46340e-ef2e-4490-a36b-308ef93736d3",
   "metadata": {},
   "outputs": [],
   "source": [
    "non_connect_operators = (lossan_operators\n",
    "                             >> filter(~_.itp_id.isin(lossan_connect_operators['itp_id']))\n",
    "                             >> mutate(lossan_connection = False)\n",
    "                        )"
   ]
  },
  {
   "cell_type": "markdown",
   "id": "34fd4afc-38a4-439b-9dc2-b7ac10d73f66",
   "metadata": {},
   "source": [
    "## Format for analysis"
   ]
  },
  {
   "cell_type": "code",
   "execution_count": 27,
   "id": "b90d73bd-a50d-4064-8d6f-a678972966ea",
   "metadata": {},
   "outputs": [],
   "source": [
    "lossan_corridor_operators = lossan_connect_operators.append(non_connect_operators)"
   ]
  },
  {
   "cell_type": "code",
   "execution_count": 28,
   "id": "a6d6c69c-a48d-4215-a6bf-9790aa7dfbce",
   "metadata": {},
   "outputs": [],
   "source": [
    "lossan_corridor_operators = (lossan_corridor_operators\n",
    "                            .melt(id_vars=info_cols + ['lossan_connection'])\n",
    "                            .rename(columns={'variable':'vehicle_type', 'value':'vehicle_count'}))"
   ]
  },
  {
   "cell_type": "code",
   "execution_count": 29,
   "id": "2f829dfb-c8f7-488f-8f4d-bd808819bbcd",
   "metadata": {},
   "outputs": [],
   "source": [
    "lossan_corridor_operators['validator_count'] = lossan_corridor_operators.apply(\n",
    "                                            lambda x: x.vehicle_count * validators_needed[x.vehicle_type], axis=1)\n",
    "lossan_corridor_operators['is_paratransit'] = lossan_corridor_operators['vehicle_type'].apply(\n",
    "                                            lambda x: x in paratransit_cols)\n",
    "\n",
    "lossan_corridor_operators = lossan_corridor_operators.append(lossan_connecting_rail_stops)"
   ]
  },
  {
   "cell_type": "code",
   "execution_count": 30,
   "id": "3cb5c156-275f-410d-8ff4-ec6e8bf2cbb4",
   "metadata": {},
   "outputs": [
    {
     "data": {
      "text/html": [
       "<div>\n",
       "<style scoped>\n",
       "    .dataframe tbody tr th:only-of-type {\n",
       "        vertical-align: middle;\n",
       "    }\n",
       "\n",
       "    .dataframe tbody tr th {\n",
       "        vertical-align: top;\n",
       "    }\n",
       "\n",
       "    .dataframe thead th {\n",
       "        text-align: right;\n",
       "    }\n",
       "</style>\n",
       "<table border=\"1\" class=\"dataframe\">\n",
       "  <thead>\n",
       "    <tr style=\"text-align: right;\">\n",
       "      <th></th>\n",
       "      <th>itp_id</th>\n",
       "      <th>transit_provider</th>\n",
       "      <th>ntd_id</th>\n",
       "      <th>modes</th>\n",
       "      <th>county</th>\n",
       "      <th>legacy_ntd_id</th>\n",
       "      <th>lossan_connection</th>\n",
       "      <th>vehicle_type</th>\n",
       "      <th>vehicle_count</th>\n",
       "      <th>validator_count</th>\n",
       "      <th>is_paratransit</th>\n",
       "      <th>route_type</th>\n",
       "      <th>rail_stop_count</th>\n",
       "    </tr>\n",
       "  </thead>\n",
       "  <tbody>\n",
       "    <tr>\n",
       "      <th>0</th>\n",
       "      <td>394</td>\n",
       "      <td>San Juan Capistrano Free Weekend Trolley</td>\n",
       "      <td>None</td>\n",
       "      <td>MB</td>\n",
       "      <td>Orange</td>\n",
       "      <td>None</td>\n",
       "      <td>True</td>\n",
       "      <td>bus</td>\n",
       "      <td>NaN</td>\n",
       "      <td>NaN</td>\n",
       "      <td>False</td>\n",
       "      <td>NaN</td>\n",
       "      <td>NaN</td>\n",
       "    </tr>\n",
       "    <tr>\n",
       "      <th>1</th>\n",
       "      <td>300</td>\n",
       "      <td>Big Blue Bus</td>\n",
       "      <td>90008</td>\n",
       "      <td>DT,DR,MB</td>\n",
       "      <td>Los Angeles</td>\n",
       "      <td>9008</td>\n",
       "      <td>True</td>\n",
       "      <td>bus</td>\n",
       "      <td>167.0</td>\n",
       "      <td>334.0</td>\n",
       "      <td>False</td>\n",
       "      <td>NaN</td>\n",
       "      <td>NaN</td>\n",
       "    </tr>\n",
       "    <tr>\n",
       "      <th>2</th>\n",
       "      <td>339</td>\n",
       "      <td>Torrance Transit System</td>\n",
       "      <td>90010</td>\n",
       "      <td>MB,DT</td>\n",
       "      <td>Los Angeles</td>\n",
       "      <td>9010</td>\n",
       "      <td>True</td>\n",
       "      <td>bus</td>\n",
       "      <td>63.0</td>\n",
       "      <td>126.0</td>\n",
       "      <td>False</td>\n",
       "      <td>NaN</td>\n",
       "      <td>NaN</td>\n",
       "    </tr>\n",
       "  </tbody>\n",
       "</table>\n",
       "</div>"
      ],
      "text/plain": [
       "   itp_id                          transit_provider ntd_id     modes  \\\n",
       "0     394  San Juan Capistrano Free Weekend Trolley   None        MB   \n",
       "1     300                              Big Blue Bus  90008  DT,DR,MB   \n",
       "2     339                   Torrance Transit System  90010     MB,DT   \n",
       "\n",
       "        county legacy_ntd_id  lossan_connection vehicle_type  vehicle_count  \\\n",
       "0       Orange          None               True          bus            NaN   \n",
       "1  Los Angeles          9008               True          bus          167.0   \n",
       "2  Los Angeles          9010               True          bus           63.0   \n",
       "\n",
       "   validator_count  is_paratransit route_type  rail_stop_count  \n",
       "0              NaN           False        NaN              NaN  \n",
       "1            334.0           False        NaN              NaN  \n",
       "2            126.0           False        NaN              NaN  "
      ]
     },
     "execution_count": 30,
     "metadata": {},
     "output_type": "execute_result"
    }
   ],
   "source": [
    "lossan_corridor_operators.head(3)"
   ]
  },
  {
   "cell_type": "code",
   "execution_count": 31,
   "id": "fd65adb6-23e2-43ac-9b2f-83070868ba4b",
   "metadata": {},
   "outputs": [
    {
     "data": {
      "text/html": [
       "<div>\n",
       "<style scoped>\n",
       "    .dataframe tbody tr th:only-of-type {\n",
       "        vertical-align: middle;\n",
       "    }\n",
       "\n",
       "    .dataframe tbody tr th {\n",
       "        vertical-align: top;\n",
       "    }\n",
       "\n",
       "    .dataframe thead th {\n",
       "        text-align: right;\n",
       "    }\n",
       "</style>\n",
       "<table border=\"1\" class=\"dataframe\">\n",
       "  <thead>\n",
       "    <tr style=\"text-align: right;\">\n",
       "      <th></th>\n",
       "      <th>itp_id</th>\n",
       "      <th>transit_provider</th>\n",
       "      <th>ntd_id</th>\n",
       "      <th>modes</th>\n",
       "      <th>county</th>\n",
       "      <th>legacy_ntd_id</th>\n",
       "      <th>lossan_connection</th>\n",
       "      <th>vehicle_type</th>\n",
       "      <th>vehicle_count</th>\n",
       "      <th>validator_count</th>\n",
       "      <th>is_paratransit</th>\n",
       "      <th>route_type</th>\n",
       "      <th>rail_stop_count</th>\n",
       "    </tr>\n",
       "  </thead>\n",
       "  <tbody>\n",
       "    <tr>\n",
       "      <th>5</th>\n",
       "      <td>182</td>\n",
       "      <td>Los Angeles Metro</td>\n",
       "      <td>90154</td>\n",
       "      <td>HR,RB,LR,MB,MB,VP</td>\n",
       "      <td>Los Angeles</td>\n",
       "      <td>9154</td>\n",
       "      <td>True</td>\n",
       "      <td>NaN</td>\n",
       "      <td>NaN</td>\n",
       "      <td>474.0</td>\n",
       "      <td>False</td>\n",
       "      <td>0</td>\n",
       "      <td>79.0</td>\n",
       "    </tr>\n",
       "    <tr>\n",
       "      <th>6</th>\n",
       "      <td>182</td>\n",
       "      <td>Los Angeles Metro</td>\n",
       "      <td>90154</td>\n",
       "      <td>HR,RB,LR,MB,MB,VP</td>\n",
       "      <td>Los Angeles</td>\n",
       "      <td>9154</td>\n",
       "      <td>True</td>\n",
       "      <td>NaN</td>\n",
       "      <td>NaN</td>\n",
       "      <td>160.0</td>\n",
       "      <td>False</td>\n",
       "      <td>1</td>\n",
       "      <td>16.0</td>\n",
       "    </tr>\n",
       "  </tbody>\n",
       "</table>\n",
       "</div>"
      ],
      "text/plain": [
       "   itp_id   transit_provider ntd_id              modes       county  \\\n",
       "5     182  Los Angeles Metro  90154  HR,RB,LR,MB,MB,VP  Los Angeles   \n",
       "6     182  Los Angeles Metro  90154  HR,RB,LR,MB,MB,VP  Los Angeles   \n",
       "\n",
       "  legacy_ntd_id  lossan_connection vehicle_type  vehicle_count  \\\n",
       "5          9154               True          NaN            NaN   \n",
       "6          9154               True          NaN            NaN   \n",
       "\n",
       "   validator_count  is_paratransit route_type  rail_stop_count  \n",
       "5            474.0           False          0             79.0  \n",
       "6            160.0           False          1             16.0  "
      ]
     },
     "execution_count": 31,
     "metadata": {},
     "output_type": "execute_result"
    }
   ],
   "source": [
    "lossan_corridor_operators.tail(2)"
   ]
  },
  {
   "cell_type": "code",
   "execution_count": 32,
   "id": "8bb5d2d7-36e8-47fa-977d-1a2c1670fede",
   "metadata": {},
   "outputs": [
    {
     "data": {
      "text/html": [
       "<div>\n",
       "<style scoped>\n",
       "    .dataframe tbody tr th:only-of-type {\n",
       "        vertical-align: middle;\n",
       "    }\n",
       "\n",
       "    .dataframe tbody tr th {\n",
       "        vertical-align: top;\n",
       "    }\n",
       "\n",
       "    .dataframe thead th {\n",
       "        text-align: right;\n",
       "    }\n",
       "</style>\n",
       "<table border=\"1\" class=\"dataframe\">\n",
       "  <thead>\n",
       "    <tr style=\"text-align: right;\">\n",
       "      <th></th>\n",
       "      <th></th>\n",
       "      <th>validator_count</th>\n",
       "    </tr>\n",
       "    <tr>\n",
       "      <th>lossan_connection</th>\n",
       "      <th>is_paratransit</th>\n",
       "      <th></th>\n",
       "    </tr>\n",
       "  </thead>\n",
       "  <tbody>\n",
       "    <tr>\n",
       "      <th rowspan=\"2\" valign=\"top\">False</th>\n",
       "      <th>False</th>\n",
       "      <td>1184.0</td>\n",
       "    </tr>\n",
       "    <tr>\n",
       "      <th>True</th>\n",
       "      <td>3070.0</td>\n",
       "    </tr>\n",
       "    <tr>\n",
       "      <th rowspan=\"2\" valign=\"top\">True</th>\n",
       "      <th>False</th>\n",
       "      <td>12445.0</td>\n",
       "    </tr>\n",
       "    <tr>\n",
       "      <th>True</th>\n",
       "      <td>3263.0</td>\n",
       "    </tr>\n",
       "  </tbody>\n",
       "</table>\n",
       "</div>"
      ],
      "text/plain": [
       "                                  validator_count\n",
       "lossan_connection is_paratransit                 \n",
       "False             False                    1184.0\n",
       "                  True                     3070.0\n",
       "True              False                   12445.0\n",
       "                  True                     3263.0"
      ]
     },
     "execution_count": 32,
     "metadata": {},
     "output_type": "execute_result"
    }
   ],
   "source": [
    "lossan_corridor_operators.groupby(['lossan_connection', 'is_paratransit'])[['validator_count']].sum()"
   ]
  },
  {
   "cell_type": "code",
   "execution_count": 33,
   "id": "beb6239e-a6b4-4173-9876-01447f3bc14b",
   "metadata": {
    "tags": []
   },
   "outputs": [],
   "source": [
    "grouped = lossan_corridor_operators.groupby(['lossan_connection', 'is_paratransit'])[['validator_count']].sum().reset_index()"
   ]
  },
  {
   "cell_type": "code",
   "execution_count": 34,
   "id": "c2b0b06b-5e82-45bb-912c-7f0375e454ce",
   "metadata": {},
   "outputs": [],
   "source": [
    "grouped['Service Type'] = grouped['is_paratransit'].apply(lambda x: 'Paratransit' if x else 'Fixed Route')\n",
    "grouped['Connection Type'] = grouped['lossan_connection'].apply(lambda x: 'Connects directly to LOSSAN' if x else 'Elsewhere within LOSSAN county')"
   ]
  },
  {
   "cell_type": "code",
   "execution_count": 35,
   "id": "410b76c9-f8c5-4064-9f88-f5492f0dea55",
   "metadata": {},
   "outputs": [],
   "source": [
    "grouped.drop(columns=['is_paratransit'], inplace=True)\n",
    "grouped.drop(columns=['lossan_connection'], inplace=True)"
   ]
  },
  {
   "cell_type": "code",
   "execution_count": 36,
   "id": "1dc3bfba-8379-444e-bbfb-e857a502986e",
   "metadata": {},
   "outputs": [],
   "source": [
    "sns.set_style(\"darkgrid\")"
   ]
  },
  {
   "cell_type": "code",
   "execution_count": 37,
   "id": "e72351c5-450d-42af-8800-2aec4f3f7399",
   "metadata": {},
   "outputs": [
    {
     "data": {
      "image/png": "[encoded data removed]",
      "text/plain": [
       "<Figure size 432x288 with 1 Axes>"
      ]
     },
     "metadata": {},
     "output_type": "display_data"
    }
   ],
   "source": [
    "plt = sns.barplot(x='Connection Type', y='validator_count', hue='Service Type', data=grouped)\n",
    "# plt.set_xlabel('Connects directly to LOSSAN')\n",
    "plt.set_ylabel('Estimated Validators')\n",
    "plt.set_title('LOSSAN Validator Estimate by connection, service type');"
   ]
  },
  {
   "cell_type": "code",
   "execution_count": 38,
   "id": "e0b5f376-5f39-47b9-b827-2460b297546a",
   "metadata": {},
   "outputs": [
    {
     "data": {
      "text/html": [
       "<div>\n",
       "<style scoped>\n",
       "    .dataframe tbody tr th:only-of-type {\n",
       "        vertical-align: middle;\n",
       "    }\n",
       "\n",
       "    .dataframe tbody tr th {\n",
       "        vertical-align: top;\n",
       "    }\n",
       "\n",
       "    .dataframe thead th {\n",
       "        text-align: right;\n",
       "    }\n",
       "</style>\n",
       "<table border=\"1\" class=\"dataframe\">\n",
       "  <thead>\n",
       "    <tr style=\"text-align: right;\">\n",
       "      <th></th>\n",
       "      <th>validator_count</th>\n",
       "      <th>Service Type</th>\n",
       "      <th>Connection Type</th>\n",
       "    </tr>\n",
       "  </thead>\n",
       "  <tbody>\n",
       "    <tr>\n",
       "      <th>0</th>\n",
       "      <td>1184.0</td>\n",
       "      <td>Fixed Route</td>\n",
       "      <td>Elsewhere within LOSSAN county</td>\n",
       "    </tr>\n",
       "    <tr>\n",
       "      <th>1</th>\n",
       "      <td>3070.0</td>\n",
       "      <td>Paratransit</td>\n",
       "      <td>Elsewhere within LOSSAN county</td>\n",
       "    </tr>\n",
       "    <tr>\n",
       "      <th>2</th>\n",
       "      <td>12445.0</td>\n",
       "      <td>Fixed Route</td>\n",
       "      <td>Connects directly to LOSSAN</td>\n",
       "    </tr>\n",
       "    <tr>\n",
       "      <th>3</th>\n",
       "      <td>3263.0</td>\n",
       "      <td>Paratransit</td>\n",
       "      <td>Connects directly to LOSSAN</td>\n",
       "    </tr>\n",
       "  </tbody>\n",
       "</table>\n",
       "</div>"
      ],
      "text/plain": [
       "   validator_count Service Type                 Connection Type\n",
       "0           1184.0  Fixed Route  Elsewhere within LOSSAN county\n",
       "1           3070.0  Paratransit  Elsewhere within LOSSAN county\n",
       "2          12445.0  Fixed Route     Connects directly to LOSSAN\n",
       "3           3263.0  Paratransit     Connects directly to LOSSAN"
      ]
     },
     "execution_count": 38,
     "metadata": {},
     "output_type": "execute_result"
    }
   ],
   "source": [
    "grouped"
   ]
  },
  {
   "cell_type": "code",
   "execution_count": 39,
   "id": "d99be405-c528-4c1b-8420-fbb1a745f012",
   "metadata": {},
   "outputs": [
    {
     "data": {
      "text/plain": [
       "19962.0"
      ]
     },
     "execution_count": 39,
     "metadata": {},
     "output_type": "execute_result"
    }
   ],
   "source": [
    "grouped['validator_count'].sum() ## Estimate for all services, including paratransit"
   ]
  },
  {
   "cell_type": "code",
   "execution_count": 40,
   "id": "8e696de3-421b-4ea0-9a78-90343f0b8386",
   "metadata": {},
   "outputs": [
    {
     "data": {
      "text/plain": [
       "13629.0"
      ]
     },
     "execution_count": 40,
     "metadata": {},
     "output_type": "execute_result"
    }
   ],
   "source": [
    "grouped[grouped['Service Type'] == 'Fixed Route']['validator_count'].sum() ## Estimate not including paratransit"
   ]
  },
  {
   "cell_type": "markdown",
   "id": "61eeac70-9864-41d8-915b-75c98d63f5d5",
   "metadata": {},
   "source": [
    "## (interactive) Map\n",
    "\n",
    "* LOSSAN stops in red\n",
    "* Operators connecting to LOSSAN in blue, others in orange. Use layer control on left to select one/both\n",
    "* Ojai Trolley seems to overlap with other Ventura providers so it may be hard to view their individiual service areas/validators needed. Those metrics are captured in the underlying data..."
   ]
  },
  {
   "cell_type": "code",
   "execution_count": 41,
   "id": "6479cb6c-cc6e-42f2-9ac3-ddcc4634220e",
   "metadata": {
    "jupyter": {
     "source_hidden": true
    },
    "tags": []
   },
   "outputs": [],
   "source": [
    "validators_by_operator = (lossan_corridor_operators\n",
    "                              >> group_by(_.itp_id)\n",
    "                              >> summarize(total_validators = _.validator_count.sum())\n",
    "                         ).set_index('itp_id')\n",
    "\n",
    "connecting_operator_stops = lossan_county_stops >> filter(_.itp_id.isin(lossan_connect_operators.itp_id))\n",
    "non_connecting_operator_stops = lossan_county_stops >> filter(~_.itp_id.isin(lossan_connect_operators.itp_id))"
   ]
  },
  {
   "cell_type": "code",
   "execution_count": 42,
   "id": "3066a3d6-746a-4322-94f6-256c0557d9b4",
   "metadata": {
    "jupyter": {
     "source_hidden": true
    },
    "tags": []
   },
   "outputs": [],
   "source": [
    "def prep_stops(stops_gdf):\n",
    "    to_map = stops_gdf.copy()\n",
    "    to_map.geometry = to_map.to_crs('EPSG:6414').geometry.buffer(400)\n",
    "    to_map = to_map.to_crs('EPSG:4326')[['itp_id','stop_name', 'geometry',\n",
    "                                         'transit_provider', 'upt_total_2019']]\n",
    "    to_map = to_map.dissolve(by='itp_id').join(validators_by_operator)\n",
    "    return to_map\n",
    "\n",
    "connecting_operator_stops = prep_stops(connecting_operator_stops)\n",
    "non_connecting_operator_stops = prep_stops(non_connecting_operator_stops)"
   ]
  },
  {
   "cell_type": "code",
   "execution_count": 43,
   "id": "a300a9c1-7358-415c-bf36-63461d387841",
   "metadata": {
    "jupyter": {
     "source_hidden": true
    },
    "tags": []
   },
   "outputs": [
    {
     "data": {
      "application/vnd.jupyter.widget-view+json": {
       "model_id": "2f8460c8395b465c81136e79e34ba688",
       "version_major": 2,
       "version_minor": 0
      },
      "text/plain": [
       "Map(center=[34.28, -118.94], controls=(ZoomControl(options=['position', 'zoom_in_text', 'zoom_in_title', 'zoom…"
      ]
     },
     "metadata": {},
     "output_type": "display_data"
    }
   ],
   "source": [
    "m = Map(basemap=basemaps.CartoDB.Positron, center=[34.28, -118.94], zoom=8)\n",
    "\n",
    "html = HTML('''Hover to see provider, ridership info''')\n",
    "html.layout.margin = '0px 20px 20px 20px'\n",
    "control = WidgetControl(widget=html, position='topright')\n",
    "m.add_control(control)\n",
    "\n",
    "def update_html(feature,  **kwargs):\n",
    "    html.value = '''\n",
    "        <h3><b>{}</b></h3>\n",
    "        <h4>2019 Ridership (UPT): {} </h4>\n",
    "        <h4>Total Validators Needed: {}</h4>\n",
    "    '''.format(feature['properties']['transit_provider'],\n",
    "               feature['properties']['upt_total_2019'],\n",
    "              feature['properties']['total_validators'])\n",
    "\n",
    "geo_data_connecting = GeoData(geo_dataframe = connecting_operator_stops,\n",
    "                       style={'color': 'black', 'fillColor': '#3366cc', 'opacity':0.3, 'weight':.5, 'dashArray':'2', 'fillOpacity':0.3},\n",
    "                       hover_style={'fillColor': 'red' , 'fillOpacity': 0.2},\n",
    "                       name = 'Connecting Operator Stops')\n",
    "geo_data_other = GeoData(geo_dataframe = non_connecting_operator_stops,\n",
    "                       style={'color': 'black', 'fillColor': '#fec44f', 'opacity':0.3, 'weight':.5, 'dashArray':'2', 'fillOpacity':0.3},\n",
    "                       hover_style={'fillColor': 'blue' , 'fillOpacity': 0.2},\n",
    "                       name = 'Non-Connecting Operator Stops')\n",
    "geo_lossan_stn = GeoData(geo_dataframe = lossan_stations[['CO', 'geometry']].to_crs('EPSG:4326'),\n",
    "                       style={'color': 'black', 'fillColor': '#e34a33', 'opacity':0.8, 'weight':1, 'dashArray':'2', 'fillOpacity':0.8},\n",
    "                       hover_style={'fillColor': 'blue' , 'fillOpacity': 0.2},\n",
    "                       name = 'LOSSAN Stations')\n",
    "\n",
    "geo_data_connecting.on_hover(update_html)\n",
    "geo_data_other.on_hover(update_html)\n",
    "\n",
    "m.add_layer(geo_data_connecting)\n",
    "m.add_layer(geo_data_other)\n",
    "m.add_layer(geo_lossan_stn)\n",
    "m.add_control(LayersControl())\n",
    "m"
   ]
  },
  {
   "cell_type": "markdown",
   "id": "2d99354e-5afa-4418-8de8-f99758ac85d5",
   "metadata": {},
   "source": [
    "### Static Map Images"
   ]
  },
  {
   "cell_type": "markdown",
   "id": "c912b656-e2f7-44ca-af2e-5e2a79463305",
   "metadata": {},
   "source": [
    "#### Central Coast\n",
    "\n",
    "![Central Coast](img/central_coast.png)"
   ]
  },
  {
   "cell_type": "markdown",
   "id": "768a0185-6617-4a9a-8cc3-ad7437926cba",
   "metadata": {},
   "source": [
    "#### Santa Barbara/LA/Orange County\n",
    "\n",
    "![Santa Barbara/LA/Orange County](img/sb_la_oc.png)"
   ]
  },
  {
   "cell_type": "markdown",
   "id": "0f690273-58d3-431f-bccb-c1d4f9e74750",
   "metadata": {},
   "source": [
    "#### San Diego\n",
    "\n",
    "![San Diego](img/sd.png)"
   ]
  },
  {
   "cell_type": "code",
   "execution_count": null,
   "id": "aeba318f-2668-4dbe-a192-3849558c717d",
   "metadata": {},
   "outputs": [],
   "source": []
  }
 ],
 "metadata": {
  "kernelspec": {
   "display_name": "Python 3 (ipykernel)",
   "language": "python",
   "name": "python3"
  },
  "language_info": {
   "codemirror_mode": {
    "name": "ipython",
    "version": 3
   },
   "file_extension": ".py",
   "mimetype": "text/x-python",
   "name": "python",
   "nbconvert_exporter": "python",
   "pygments_lexer": "ipython3",
   "version": "3.9.13"
  },
  "widgets": {
   "application/vnd.jupyter.widget-state+json": {
    "state": {},
    "version_major": 2,
    "version_minor": 0
   }
  }
 },
 "nbformat": 4,
 "nbformat_minor": 5
}
