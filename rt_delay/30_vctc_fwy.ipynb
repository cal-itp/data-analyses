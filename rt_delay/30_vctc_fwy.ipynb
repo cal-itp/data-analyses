{
 "cells": [
  {
   "cell_type": "code",
   "execution_count": 6,
   "id": "46898b5c-b5cc-4096-ab68-8c3e42fab870",
   "metadata": {
    "tags": []
   },
   "outputs": [],
   "source": [
    "%%capture\n",
    "import warnings\n",
    "warnings.filterwarnings('ignore')\n",
    "\n",
    "import os\n",
    "os.environ[\"CALITP_BQ_MAX_BYTES\"] = str(800_000_000_000)\n",
    "import shared_utils\n",
    "\n",
    "from calitp_data_analysis.tables import tbls\n",
    "\n",
    "from siuba import *\n",
    "import pandas as pd\n",
    "import geopandas as gpd\n",
    "\n",
    "import datetime as dt\n",
    "\n",
    "import importlib\n",
    "from rt_analysis import rt_filter_map_plot\n",
    "\n",
    "from IPython.display import display, Markdown, Latex, HTML\n",
    "import json"
   ]
  },
  {
   "cell_type": "code",
   "execution_count": 7,
   "id": "9f15ed6a-5ab7-4f57-9695-3f762781b74c",
   "metadata": {
    "tags": [
     "parameters"
    ]
   },
   "outputs": [],
   "source": [
    "## parameters cell\n",
    "itp_id = 380"
   ]
  },
  {
   "cell_type": "code",
   "execution_count": 8,
   "id": "5a8c665b-dfe8-4972-9ad8-5c78e3c58f89",
   "metadata": {},
   "outputs": [],
   "source": [
    "analysis_date = dt.date(2022, 10, 5)"
   ]
  },
  {
   "cell_type": "code",
   "execution_count": 9,
   "id": "e4cbefc6-9bbb-4989-85b7-1f31da17fcb8",
   "metadata": {},
   "outputs": [
    {
     "ename": "ValueError",
     "evalue": "Supply list of feed keys or operator names!",
     "output_type": "error",
     "traceback": [
      "\u001b[0;31m---------------------------------------------------------------------------\u001b[0m",
      "\u001b[0;31mValueError\u001b[0m                                Traceback (most recent call last)",
      "Cell \u001b[0;32mIn[9], line 1\u001b[0m\n\u001b[0;32m----> 1\u001b[0m rt_day \u001b[38;5;241m=\u001b[39m \u001b[43mrt_filter_map_plot\u001b[49m\u001b[38;5;241;43m.\u001b[39;49m\u001b[43mfrom_gcs\u001b[49m\u001b[43m(\u001b[49m\u001b[43mitp_id\u001b[49m\u001b[43m,\u001b[49m\u001b[43m \u001b[49m\u001b[43manalysis_date\u001b[49m\u001b[43m)\u001b[49m\n",
      "File \u001b[0;32m~/data-analyses/rt_delay/rt_analysis/rt_filter_map_plot.py:653\u001b[0m, in \u001b[0;36mfrom_gcs\u001b[0;34m(itp_id, analysis_date, pbar)\u001b[0m\n\u001b[1;32m    651\u001b[0m index_df \u001b[38;5;241m=\u001b[39m index_query \u001b[38;5;241m>>\u001b[39m collect()\n\u001b[1;32m    652\u001b[0m feed_key_list \u001b[38;5;241m=\u001b[39m \u001b[38;5;28mlist\u001b[39m(index_df\u001b[38;5;241m.\u001b[39mfeed_key\u001b[38;5;241m.\u001b[39munique())\n\u001b[0;32m--> 653\u001b[0m routelines \u001b[38;5;241m=\u001b[39m \u001b[43mshared_utils\u001b[49m\u001b[38;5;241;43m.\u001b[39;49m\u001b[43mgtfs_utils_v2\u001b[49m\u001b[38;5;241;43m.\u001b[39;49m\u001b[43mget_shapes\u001b[49m\u001b[43m(\u001b[49m\u001b[43manalysis_date\u001b[49m\u001b[43m,\u001b[49m\u001b[43m \u001b[49m\u001b[43mfeed_key_list\u001b[49m\u001b[43m,\u001b[49m\u001b[43m \u001b[49m\u001b[43mcrs\u001b[49m\u001b[43m \u001b[49m\u001b[38;5;241;43m=\u001b[39;49m\u001b[43m \u001b[49m\u001b[43mCA_NAD83Albers\u001b[49m\u001b[43m,\u001b[49m\u001b[43m \u001b[49m\n\u001b[1;32m    654\u001b[0m \u001b[43m                                                      \u001b[49m\u001b[43mshape_cols\u001b[49m\u001b[43m \u001b[49m\u001b[38;5;241;43m=\u001b[39;49m\u001b[43m \u001b[49m\u001b[43mv2_queries\u001b[49m\u001b[38;5;241;43m.\u001b[39;49m\u001b[43mshape_cols\u001b[49m\u001b[43m)\u001b[49m\n\u001b[1;32m    655\u001b[0m routelines \u001b[38;5;241m=\u001b[39m routelines\u001b[38;5;241m.\u001b[39mdropna(subset\u001b[38;5;241m=\u001b[39m[\u001b[38;5;124m'\u001b[39m\u001b[38;5;124mgeometry\u001b[39m\u001b[38;5;124m'\u001b[39m]) \u001b[38;5;66;03m## invalid geos are nones in new df...\u001b[39;00m\n\u001b[1;32m    656\u001b[0m \u001b[38;5;28;01massert\u001b[39;00m \u001b[38;5;28mtype\u001b[39m(routelines) \u001b[38;5;241m==\u001b[39m \u001b[38;5;28mtype\u001b[39m(gpd\u001b[38;5;241m.\u001b[39mGeoDataFrame()) \u001b[38;5;129;01mand\u001b[39;00m \u001b[38;5;129;01mnot\u001b[39;00m routelines\u001b[38;5;241m.\u001b[39mempty, \u001b[38;5;124m'\u001b[39m\u001b[38;5;124mroutelines must not be empty\u001b[39m\u001b[38;5;124m'\u001b[39m\n",
      "File \u001b[0;32m~/data-analyses/_shared_utils/shared_utils/gtfs_utils_v2.py:368\u001b[0m, in \u001b[0;36mget_shapes\u001b[0;34m(selected_date, operator_feeds, shape_cols, get_df, crs, custom_filtering)\u001b[0m\n\u001b[1;32m    354\u001b[0m \u001b[38;5;28;01mdef\u001b[39;00m \u001b[38;5;21mget_shapes\u001b[39m(\n\u001b[1;32m    355\u001b[0m     selected_date: Union[\u001b[38;5;28mstr\u001b[39m, datetime\u001b[38;5;241m.\u001b[39mdate],\n\u001b[1;32m    356\u001b[0m     operator_feeds: \u001b[38;5;28mlist\u001b[39m[\u001b[38;5;28mstr\u001b[39m] \u001b[38;5;241m=\u001b[39m [],\n\u001b[0;32m   (...)\u001b[0m\n\u001b[1;32m    360\u001b[0m     custom_filtering: \u001b[38;5;28mdict\u001b[39m \u001b[38;5;241m=\u001b[39m \u001b[38;5;28;01mNone\u001b[39;00m,\n\u001b[1;32m    361\u001b[0m ) \u001b[38;5;241m-\u001b[39m\u001b[38;5;241m>\u001b[39m gpd\u001b[38;5;241m.\u001b[39mGeoDataFrame:\n\u001b[1;32m    362\u001b[0m     \u001b[38;5;124;03m\"\"\"\u001b[39;00m\n\u001b[1;32m    363\u001b[0m \u001b[38;5;124;03m    Query fct_daily_scheduled_shapes.\u001b[39;00m\n\u001b[1;32m    364\u001b[0m \n\u001b[1;32m    365\u001b[0m \u001b[38;5;124;03m    Must supply a list of feed_keys returned from\u001b[39;00m\n\u001b[1;32m    366\u001b[0m \u001b[38;5;124;03m    schedule_daily_feed_to_organization() or subset of those results.\u001b[39;00m\n\u001b[1;32m    367\u001b[0m \u001b[38;5;124;03m    \"\"\"\u001b[39;00m\n\u001b[0;32m--> 368\u001b[0m     \u001b[43mcheck_operator_feeds\u001b[49m\u001b[43m(\u001b[49m\u001b[43moperator_feeds\u001b[49m\u001b[43m)\u001b[49m\n\u001b[1;32m    370\u001b[0m     shapes \u001b[38;5;241m=\u001b[39m (\n\u001b[1;32m    371\u001b[0m         tbls\u001b[38;5;241m.\u001b[39mmart_gtfs\u001b[38;5;241m.\u001b[39mfct_daily_scheduled_shapes()\n\u001b[1;32m    372\u001b[0m         \u001b[38;5;241m>>\u001b[39m \u001b[38;5;28mfilter\u001b[39m(_\u001b[38;5;241m.\u001b[39mactivity_date \u001b[38;5;241m==\u001b[39m selected_date) \u001b[38;5;66;03m# service_date no longer present in tbl;should we change others?\u001b[39;00m\n\u001b[1;32m    373\u001b[0m         \u001b[38;5;241m>>\u001b[39m filter_operator(operator_feeds, include_name\u001b[38;5;241m=\u001b[39m\u001b[38;5;28;01mFalse\u001b[39;00m)\n\u001b[1;32m    374\u001b[0m         \u001b[38;5;241m>>\u001b[39m filter_custom_col(custom_filtering)\n\u001b[1;32m    375\u001b[0m     )\n\u001b[1;32m    377\u001b[0m     \u001b[38;5;28;01mif\u001b[39;00m get_df:\n",
      "File \u001b[0;32m~/data-analyses/_shared_utils/shared_utils/gtfs_utils_v2.py:139\u001b[0m, in \u001b[0;36mcheck_operator_feeds\u001b[0;34m(operator_feeds)\u001b[0m\n\u001b[1;32m    137\u001b[0m \u001b[38;5;28;01mdef\u001b[39;00m \u001b[38;5;21mcheck_operator_feeds\u001b[39m(operator_feeds: \u001b[38;5;28mlist\u001b[39m[\u001b[38;5;28mstr\u001b[39m]):\n\u001b[1;32m    138\u001b[0m     \u001b[38;5;28;01mif\u001b[39;00m \u001b[38;5;28mlen\u001b[39m(operator_feeds) \u001b[38;5;241m==\u001b[39m \u001b[38;5;241m0\u001b[39m:\n\u001b[0;32m--> 139\u001b[0m         \u001b[38;5;28;01mraise\u001b[39;00m \u001b[38;5;167;01mValueError\u001b[39;00m(\u001b[38;5;124m\"\u001b[39m\u001b[38;5;124mSupply list of feed keys or operator names!\u001b[39m\u001b[38;5;124m\"\u001b[39m)\n",
      "\u001b[0;31mValueError\u001b[0m: Supply list of feed keys or operator names!"
     ]
    }
   ],
   "source": [
    "%%capture\n",
    "rt_day = rt_filter_map_plot.from_gcs(itp_id, analysis_date)"
   ]
  },
  {
   "cell_type": "markdown",
   "id": "52110155-d104-4043-8376-3f83e82a959a",
   "metadata": {},
   "source": [
    "# Ventura County Transportation Commission"
   ]
  },
  {
   "cell_type": "markdown",
   "id": "7d5572cd-dd67-4e26-b100-a0e7472a4a17",
   "metadata": {
    "tags": []
   },
   "source": [
    "## About These Maps:\n",
    "\n",
    "* Each map shows bus (and rail, if applicable) speeds for Ventura County Transportation Commission\n",
    "* On the map, routes are split into segments corresponding to the distance between two stops, allowing you to focus on specific portions of the route experiencing a slowdown.\n",
    "* Route segments are arrow-shaped to indicate direction of travel.\n",
    "* Hover over, or click, a segment with your mouse to see the exact speed, route name, and transit service frequency in that segment. \n",
    "    * Higher-frequency routes (3+ trips per hour) are especially important, since those slowdowns correspond to more vehicles, and riders, delayed in traffic."
   ]
  },
  {
   "cell_type": "code",
   "execution_count": 10,
   "id": "679ce74e-9620-4e38-b69a-badb281c9c0b",
   "metadata": {},
   "outputs": [
    {
     "ename": "NameError",
     "evalue": "name 'rt_day' is not defined",
     "output_type": "error",
     "traceback": [
      "\u001b[0;31m---------------------------------------------------------------------------\u001b[0m",
      "\u001b[0;31mNameError\u001b[0m                                 Traceback (most recent call last)",
      "Cell \u001b[0;32mIn[10], line 1\u001b[0m\n\u001b[0;32m----> 1\u001b[0m \u001b[43mrt_day\u001b[49m\u001b[38;5;241m.\u001b[39mrt_trips\u001b[38;5;241m.\u001b[39mroute_short_name\u001b[38;5;241m.\u001b[39munique()\n",
      "\u001b[0;31mNameError\u001b[0m: name 'rt_day' is not defined"
     ]
    }
   ],
   "source": [
    "rt_day.rt_trips.route_short_name.unique()"
   ]
  },
  {
   "cell_type": "code",
   "execution_count": null,
   "id": "1b9debd5-a9e6-4d89-8f11-4e5d32914645",
   "metadata": {},
   "outputs": [],
   "source": [
    "fwy_rts = ['80', '80X', '85', '84', '81', '80C', '86']"
   ]
  },
  {
   "cell_type": "code",
   "execution_count": null,
   "id": "3976c589-9ea5-4787-822f-5093e89bb3c6",
   "metadata": {},
   "outputs": [],
   "source": [
    "# rt_day_.set_filter(route_names=fwy_rts)"
   ]
  },
  {
   "cell_type": "code",
   "execution_count": null,
   "id": "efc713bb-6564-49d8-ba6a-a25596e0ba3f",
   "metadata": {},
   "outputs": [],
   "source": [
    "# rt_day._filter(rt_day_2.rt_trips) >> arrange(_.median_time)"
   ]
  },
  {
   "cell_type": "code",
   "execution_count": null,
   "id": "c97cb252-0fb8-4e3b-9eb8-a6061bc3b0bd",
   "metadata": {},
   "outputs": [],
   "source": [
    "# local_rts = [rt for rt in rt_day.rt_trips.route_short_name.unique() if rt not in fwy_rts]"
   ]
  },
  {
   "cell_type": "code",
   "execution_count": null,
   "id": "91b43cef-e321-4462-87d3-9e5d06b2c0c2",
   "metadata": {},
   "outputs": [],
   "source": [
    "import branca\n",
    "TWENTY_65_COLORSCALE = branca.colormap.step.RdYlGn_10.scale(vmin=20, vmax=65)"
   ]
  },
  {
   "cell_type": "markdown",
   "id": "704f0788-b4a8-497d-b2aa-c7ac6df939f4",
   "metadata": {},
   "source": [
    "## Afternoon Peak\n",
    "\n",
    "* apparently no usable data earlier in the day, to investigate"
   ]
  },
  {
   "cell_type": "code",
   "execution_count": 11,
   "id": "923f1462-b34a-42d2-a632-c5eb3ac16ac6",
   "metadata": {},
   "outputs": [
    {
     "ename": "NameError",
     "evalue": "name 'rt_day' is not defined",
     "output_type": "error",
     "traceback": [
      "\u001b[0;31m---------------------------------------------------------------------------\u001b[0m",
      "\u001b[0;31mNameError\u001b[0m                                 Traceback (most recent call last)",
      "Cell \u001b[0;32mIn[11], line 1\u001b[0m\n\u001b[0;32m----> 1\u001b[0m \u001b[43mrt_day\u001b[49m\u001b[38;5;241m.\u001b[39mset_filter(start_time\u001b[38;5;241m=\u001b[39m\u001b[38;5;124m'\u001b[39m\u001b[38;5;124m15:00\u001b[39m\u001b[38;5;124m'\u001b[39m, end_time\u001b[38;5;241m=\u001b[39m\u001b[38;5;124m'\u001b[39m\u001b[38;5;124m19:00\u001b[39m\u001b[38;5;124m'\u001b[39m, route_names\u001b[38;5;241m=\u001b[39mfwy_rts)\n",
      "\u001b[0;31mNameError\u001b[0m: name 'rt_day' is not defined"
     ]
    }
   ],
   "source": [
    "%%capture\n",
    "rt_day.set_filter(start_time='15:00', end_time='19:00', route_names=fwy_rts)"
   ]
  },
  {
   "cell_type": "code",
   "execution_count": 12,
   "id": "bf3e3142-0ef8-4b92-ad29-fa000cf294d0",
   "metadata": {},
   "outputs": [],
   "source": [
    "## avoid papermill errors when map fails to render\n",
    "m = None"
   ]
  },
  {
   "cell_type": "code",
   "execution_count": 13,
   "id": "5e46b095-7bc2-4552-a37b-661d076b2b51",
   "metadata": {
    "tags": []
   },
   "outputs": [
    {
     "ename": "NameError",
     "evalue": "name 'rt_day' is not defined",
     "output_type": "error",
     "traceback": [
      "\u001b[0;31m---------------------------------------------------------------------------\u001b[0m",
      "\u001b[0;31mNameError\u001b[0m                                 Traceback (most recent call last)",
      "Cell \u001b[0;32mIn[13], line 1\u001b[0m\n\u001b[0;32m----> 1\u001b[0m m \u001b[38;5;241m=\u001b[39m \u001b[43mrt_day\u001b[49m\u001b[38;5;241m.\u001b[39msegment_speed_map(how\u001b[38;5;241m=\u001b[39m\u001b[38;5;124m'\u001b[39m\u001b[38;5;124mlow_speeds\u001b[39m\u001b[38;5;124m'\u001b[39m, colorscale\u001b[38;5;241m=\u001b[39mTWENTY_65_COLORSCALE)\n",
      "\u001b[0;31mNameError\u001b[0m: name 'rt_day' is not defined"
     ]
    }
   ],
   "source": [
    "%%capture\n",
    "m = rt_day.segment_speed_map(how='low_speeds', colorscale=TWENTY_65_COLORSCALE)"
   ]
  },
  {
   "cell_type": "code",
   "execution_count": null,
   "id": "438516d2-8d07-41e3-808d-205b6996493e",
   "metadata": {},
   "outputs": [],
   "source": [
    "m"
   ]
  },
  {
   "cell_type": "code",
   "execution_count": 16,
   "id": "a97a77ce-e753-4d7e-8d28-93adc7d4415f",
   "metadata": {},
   "outputs": [],
   "source": [
    "rt_day.detailed_map_view.to_file('./vctc_shapefiles/pm_peak/pm_peak.shp')"
   ]
  }
 ],
 "metadata": {
  "kernelspec": {
   "display_name": "Python 3 (ipykernel)",
   "language": "python",
   "name": "python3"
  },
  "language_info": {
   "codemirror_mode": {
    "name": "ipython",
    "version": 3
   },
   "file_extension": ".py",
   "mimetype": "text/x-python",
   "name": "python",
   "nbconvert_exporter": "python",
   "pygments_lexer": "ipython3",
   "version": "3.9.13"
  },
  "widgets": {
   "application/vnd.jupyter.widget-state+json": {
    "state": {},
    "version_major": 2,
    "version_minor": 0
   }
  }
 },
 "nbformat": 4,
 "nbformat_minor": 5
}
