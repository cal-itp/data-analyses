{
 "cells": [
  {
   "cell_type": "code",
   "execution_count": 1,
   "id": "36fbf7ff-e325-4403-a49f-946ac2546b82",
   "metadata": {},
   "outputs": [],
   "source": [
    "%%capture\n",
    "import warnings\n",
    "warnings.filterwarnings('ignore')\n",
    "\n",
    "import os\n",
    "os.environ[\"CALITP_BQ_MAX_BYTES\"] = str(800_000_000_000)\n",
    "import shared_utils\n",
    "\n",
    "from calitp.tables import tbl\n",
    "from calitp import query_sql\n",
    "import calitp.magics\n",
    "\n",
    "from siuba import *\n",
    "import pandas as pd\n",
    "import geopandas as gpd\n",
    "\n",
    "import datetime as dt\n",
    "\n",
    "import importlib\n",
    "import rt_analysis as rt\n",
    "import rt_filter_map_plot\n",
    "\n",
    "from IPython.display import display, Markdown, Latex, HTML\n",
    "import json\n",
    "\n",
    "from tqdm import tqdm_notebook\n",
    "from tqdm.notebook import trange, tqdm"
   ]
  },
  {
   "cell_type": "markdown",
   "id": "75cec75a-362e-4066-9c1c-014c47b0a171",
   "metadata": {},
   "source": [
    "# Quick comparison of annual NTD with our data\n",
    "\n",
    "* note these are not directly comperable for several reasons but in the same ballpark"
   ]
  },
  {
   "cell_type": "code",
   "execution_count": 2,
   "id": "243c6b83-c5c4-4dd4-9ef9-e60b4ea9d844",
   "metadata": {},
   "outputs": [],
   "source": [
    "import numpy as np"
   ]
  },
  {
   "cell_type": "code",
   "execution_count": 5,
   "id": "156cf1f2-42a9-4931-bee1-6aa8e62d3568",
   "metadata": {},
   "outputs": [],
   "source": [
    "vrh_21 = pd.read_excel(f'{shared_utils.rt_utils.GCS_FILE_PATH}ntd_ts21.xlsx', sheet_name='VRH')"
   ]
  },
  {
   "cell_type": "code",
   "execution_count": 6,
   "id": "6888c398-2707-43ec-bf7c-c035cacbbee7",
   "metadata": {},
   "outputs": [],
   "source": [
    "vrm_21 = pd.read_excel(f'{shared_utils.rt_utils.GCS_FILE_PATH}ntd_ts21.xlsx', sheet_name='VRM') >> filter(_.State == 'CA')"
   ]
  },
  {
   "cell_type": "code",
   "execution_count": 14,
   "id": "b6aecb2c-3e8a-4ced-aa20-c92f5a99d101",
   "metadata": {},
   "outputs": [],
   "source": [
    "vrh_21 = vrh_21 >> filter(_.State == 'CA', _.Mode.isin(['MB', 'RB', 'CB', 'TB']))\n",
    "vrm_21 = vrm_21 >> filter(_.State == 'CA', _.Mode.isin(['MB', 'RB', 'CB', 'TB']))"
   ]
  },
  {
   "cell_type": "code",
   "execution_count": 15,
   "id": "3054d9c1-9868-4731-95e7-6c0a7a2ff962",
   "metadata": {},
   "outputs": [
    {
     "data": {
      "text/html": [
       "<div>\n",
       "<style scoped>\n",
       "    .dataframe tbody tr th:only-of-type {\n",
       "        vertical-align: middle;\n",
       "    }\n",
       "\n",
       "    .dataframe tbody tr th {\n",
       "        vertical-align: top;\n",
       "    }\n",
       "\n",
       "    .dataframe thead th {\n",
       "        text-align: right;\n",
       "    }\n",
       "</style>\n",
       "<table border=\"1\" class=\"dataframe\">\n",
       "  <thead>\n",
       "    <tr style=\"text-align: right;\">\n",
       "      <th></th>\n",
       "      <th>Last Report Year</th>\n",
       "      <th>NTD ID</th>\n",
       "      <th>Legacy NTD ID</th>\n",
       "      <th>Agency Name</th>\n",
       "      <th>Agency Status</th>\n",
       "      <th>Reporter Type</th>\n",
       "      <th>Reporting Module</th>\n",
       "      <th>City</th>\n",
       "      <th>State</th>\n",
       "      <th>Census Year</th>\n",
       "      <th>...</th>\n",
       "      <th>2011</th>\n",
       "      <th>2012</th>\n",
       "      <th>2013</th>\n",
       "      <th>2014</th>\n",
       "      <th>2015</th>\n",
       "      <th>2016</th>\n",
       "      <th>2017</th>\n",
       "      <th>2018</th>\n",
       "      <th>2019</th>\n",
       "      <th>2020</th>\n",
       "    </tr>\n",
       "  </thead>\n",
       "  <tbody>\n",
       "    <tr>\n",
       "      <th>4902</th>\n",
       "      <td>2020</td>\n",
       "      <td>90003.0</td>\n",
       "      <td>9003</td>\n",
       "      <td>San Francisco Bay Area Rapid Transit District ...</td>\n",
       "      <td>Active</td>\n",
       "      <td>Full Reporter</td>\n",
       "      <td>Urban</td>\n",
       "      <td>Oakland</td>\n",
       "      <td>CA</td>\n",
       "      <td>2010</td>\n",
       "      <td>...</td>\n",
       "      <td>0.0</td>\n",
       "      <td>0.0</td>\n",
       "      <td>NaN</td>\n",
       "      <td>0.0</td>\n",
       "      <td>NaN</td>\n",
       "      <td>NaN</td>\n",
       "      <td>0.0</td>\n",
       "      <td>0.0</td>\n",
       "      <td>0.0</td>\n",
       "      <td>NaN</td>\n",
       "    </tr>\n",
       "    <tr>\n",
       "      <th>4907</th>\n",
       "      <td>2020</td>\n",
       "      <td>90004.0</td>\n",
       "      <td>9004</td>\n",
       "      <td>Golden Empire Transit District (GET)</td>\n",
       "      <td>Active</td>\n",
       "      <td>Full Reporter</td>\n",
       "      <td>Urban</td>\n",
       "      <td>Bakersfield</td>\n",
       "      <td>CA</td>\n",
       "      <td>2010</td>\n",
       "      <td>...</td>\n",
       "      <td>3726082.0</td>\n",
       "      <td>3735670.0</td>\n",
       "      <td>3944744.0</td>\n",
       "      <td>3889451.0</td>\n",
       "      <td>3416623.0</td>\n",
       "      <td>3848798.0</td>\n",
       "      <td>3914833.0</td>\n",
       "      <td>3902753.0</td>\n",
       "      <td>3885910.0</td>\n",
       "      <td>3634980.0</td>\n",
       "    </tr>\n",
       "    <tr>\n",
       "      <th>4910</th>\n",
       "      <td>2020</td>\n",
       "      <td>90006.0</td>\n",
       "      <td>9006</td>\n",
       "      <td>Santa Cruz Metropolitan Transit District (SCMTD)</td>\n",
       "      <td>Active</td>\n",
       "      <td>Full Reporter</td>\n",
       "      <td>Urban</td>\n",
       "      <td>Santa Cruz</td>\n",
       "      <td>CA</td>\n",
       "      <td>2010</td>\n",
       "      <td>...</td>\n",
       "      <td>NaN</td>\n",
       "      <td>614838.0</td>\n",
       "      <td>610983.0</td>\n",
       "      <td>683000.0</td>\n",
       "      <td>683260.0</td>\n",
       "      <td>686891.0</td>\n",
       "      <td>611806.0</td>\n",
       "      <td>603288.0</td>\n",
       "      <td>606296.0</td>\n",
       "      <td>500933.0</td>\n",
       "    </tr>\n",
       "  </tbody>\n",
       "</table>\n",
       "<p>3 rows × 48 columns</p>\n",
       "</div>"
      ],
      "text/plain": [
       "      Last Report Year   NTD ID Legacy NTD ID  \\\n",
       "4902              2020  90003.0          9003   \n",
       "4907              2020  90004.0          9004   \n",
       "4910              2020  90006.0          9006   \n",
       "\n",
       "                                            Agency Name Agency Status  \\\n",
       "4902  San Francisco Bay Area Rapid Transit District ...        Active   \n",
       "4907               Golden Empire Transit District (GET)        Active   \n",
       "4910   Santa Cruz Metropolitan Transit District (SCMTD)        Active   \n",
       "\n",
       "      Reporter Type Reporting Module         City State  Census Year  ...  \\\n",
       "4902  Full Reporter            Urban      Oakland    CA         2010  ...   \n",
       "4907  Full Reporter            Urban  Bakersfield    CA         2010  ...   \n",
       "4910  Full Reporter            Urban   Santa Cruz    CA         2010  ...   \n",
       "\n",
       "           2011       2012       2013       2014       2015       2016  \\\n",
       "4902        0.0        0.0        NaN        0.0        NaN        NaN   \n",
       "4907  3726082.0  3735670.0  3944744.0  3889451.0  3416623.0  3848798.0   \n",
       "4910        NaN   614838.0   610983.0   683000.0   683260.0   686891.0   \n",
       "\n",
       "           2017       2018       2019       2020  \n",
       "4902        0.0        0.0        0.0        NaN  \n",
       "4907  3914833.0  3902753.0  3885910.0  3634980.0  \n",
       "4910   611806.0   603288.0   606296.0   500933.0  \n",
       "\n",
       "[3 rows x 48 columns]"
      ]
     },
     "execution_count": 15,
     "metadata": {},
     "output_type": "execute_result"
    }
   ],
   "source": [
    "vrm_21 >> head(3)"
   ]
  },
  {
   "cell_type": "code",
   "execution_count": 31,
   "id": "dd45df0e-588c-4750-9204-ce21817c20dc",
   "metadata": {},
   "outputs": [],
   "source": [
    "vrm_to_sum = vrm_21.iloc[:,27:]"
   ]
  },
  {
   "cell_type": "code",
   "execution_count": 32,
   "id": "feb5e079-efe9-40b2-ba79-d0458affd6c2",
   "metadata": {},
   "outputs": [],
   "source": [
    "vrh_to_sum = vrh_21.iloc[:,27:]"
   ]
  },
  {
   "cell_type": "code",
   "execution_count": 33,
   "id": "f1a4cbd8-900b-4365-9062-e5ad6806f5bd",
   "metadata": {},
   "outputs": [
    {
     "data": {
      "text/plain": [
       "2000    12.744248\n",
       "2001    12.687300\n",
       "2002    12.596026\n",
       "2003    12.442103\n",
       "2004    12.488847\n",
       "2005    12.375109\n",
       "2006    12.377809\n",
       "2007    12.432010\n",
       "2008    12.315688\n",
       "2009    12.248419\n",
       "2010    12.223065\n",
       "2011    12.103078\n",
       "2012    12.028518\n",
       "2013    12.023532\n",
       "2014    11.961174\n",
       "2015    11.924564\n",
       "2016    11.903092\n",
       "2017    11.725700\n",
       "2018    11.657684\n",
       "2019    11.688012\n",
       "2020    11.665352\n",
       "dtype: float64"
      ]
     },
     "execution_count": 33,
     "metadata": {},
     "output_type": "execute_result"
    }
   ],
   "source": [
    "vrm_to_sum.sum() / vrh_to_sum.sum()"
   ]
  },
  {
   "cell_type": "code",
   "execution_count": 34,
   "id": "4f23ef3f-b26a-40a7-9205-7acadd32965b",
   "metadata": {
    "tags": []
   },
   "outputs": [],
   "source": [
    "analysis_date = dt.date(2022, 6, 1) ##for exec board (prior run for comparison)"
   ]
  },
  {
   "cell_type": "code",
   "execution_count": 35,
   "id": "72a02701-9d9b-45a5-967e-7fade4fb4c26",
   "metadata": {},
   "outputs": [],
   "source": [
    "day = str(analysis_date.day).zfill(2)\n",
    "month = str(analysis_date.month).zfill(2)"
   ]
  },
  {
   "cell_type": "code",
   "execution_count": 37,
   "id": "08eb6294-2580-4f11-b015-baf901b41d30",
   "metadata": {},
   "outputs": [],
   "source": [
    "import gcsfs\n",
    "fs = gcsfs.GCSFileSystem()"
   ]
  },
  {
   "cell_type": "code",
   "execution_count": 38,
   "id": "bf484997-2101-4b57-9520-d2bc0511196a",
   "metadata": {},
   "outputs": [],
   "source": [
    "fs_list = fs.ls(f'{shared_utils.rt_utils.GCS_FILE_PATH}rt_trips/')"
   ]
  },
  {
   "cell_type": "code",
   "execution_count": 48,
   "id": "7d105c1b-9223-48a2-a63a-a50eab462404",
   "metadata": {
    "tags": []
   },
   "outputs": [],
   "source": [
    "## now finds ran operators on specific analysis date\n",
    "ran_operators = ['gs://' + path for path in fs_list\n",
    "                 if path.split('rt_trips/')[1] and path.split('rt_trips/')[1].split('_')[1] == month and path.split('rt_trips/')[1].split('_')[2][:2] == day]"
   ]
  },
  {
   "cell_type": "code",
   "execution_count": 49,
   "id": "006c0b1d-d63e-4d6a-952d-a84818ac52ae",
   "metadata": {},
   "outputs": [
    {
     "data": {
      "text/plain": [
       "['gs://calitp-analytics-data/data-analyses/rt_delay/rt_trips/110_06_01.parquet',\n",
       " 'gs://calitp-analytics-data/data-analyses/rt_delay/rt_trips/126_06_01.parquet',\n",
       " 'gs://calitp-analytics-data/data-analyses/rt_delay/rt_trips/127_06_01.parquet',\n",
       " 'gs://calitp-analytics-data/data-analyses/rt_delay/rt_trips/135_06_01.parquet',\n",
       " 'gs://calitp-analytics-data/data-analyses/rt_delay/rt_trips/148_06_01.parquet',\n",
       " 'gs://calitp-analytics-data/data-analyses/rt_delay/rt_trips/159_06_01.parquet',\n",
       " 'gs://calitp-analytics-data/data-analyses/rt_delay/rt_trips/167_06_01.parquet',\n",
       " 'gs://calitp-analytics-data/data-analyses/rt_delay/rt_trips/170_06_01.parquet',\n",
       " 'gs://calitp-analytics-data/data-analyses/rt_delay/rt_trips/182_06_01.parquet',\n",
       " 'gs://calitp-analytics-data/data-analyses/rt_delay/rt_trips/183_06_01.parquet',\n",
       " 'gs://calitp-analytics-data/data-analyses/rt_delay/rt_trips/188_06_01.parquet',\n",
       " 'gs://calitp-analytics-data/data-analyses/rt_delay/rt_trips/194_06_01.parquet',\n",
       " 'gs://calitp-analytics-data/data-analyses/rt_delay/rt_trips/221_06_01.parquet',\n",
       " 'gs://calitp-analytics-data/data-analyses/rt_delay/rt_trips/226_06_01.parquet',\n",
       " 'gs://calitp-analytics-data/data-analyses/rt_delay/rt_trips/235_06_01.parquet',\n",
       " 'gs://calitp-analytics-data/data-analyses/rt_delay/rt_trips/243_06_01.parquet',\n",
       " 'gs://calitp-analytics-data/data-analyses/rt_delay/rt_trips/246_06_01.parquet',\n",
       " 'gs://calitp-analytics-data/data-analyses/rt_delay/rt_trips/247_06_01.parquet',\n",
       " 'gs://calitp-analytics-data/data-analyses/rt_delay/rt_trips/259_06_01.parquet',\n",
       " 'gs://calitp-analytics-data/data-analyses/rt_delay/rt_trips/260_06_01.parquet',\n",
       " 'gs://calitp-analytics-data/data-analyses/rt_delay/rt_trips/269_06_01.parquet',\n",
       " 'gs://calitp-analytics-data/data-analyses/rt_delay/rt_trips/278_06_01.parquet',\n",
       " 'gs://calitp-analytics-data/data-analyses/rt_delay/rt_trips/282_06_01.parquet',\n",
       " 'gs://calitp-analytics-data/data-analyses/rt_delay/rt_trips/284_06_01.parquet',\n",
       " 'gs://calitp-analytics-data/data-analyses/rt_delay/rt_trips/290_06_01.parquet',\n",
       " 'gs://calitp-analytics-data/data-analyses/rt_delay/rt_trips/293_06_01.parquet',\n",
       " 'gs://calitp-analytics-data/data-analyses/rt_delay/rt_trips/294_06_01.parquet',\n",
       " 'gs://calitp-analytics-data/data-analyses/rt_delay/rt_trips/295_06_01.parquet',\n",
       " 'gs://calitp-analytics-data/data-analyses/rt_delay/rt_trips/298_06_01.parquet',\n",
       " 'gs://calitp-analytics-data/data-analyses/rt_delay/rt_trips/300_06_01.parquet',\n",
       " 'gs://calitp-analytics-data/data-analyses/rt_delay/rt_trips/30_06_01.parquet',\n",
       " 'gs://calitp-analytics-data/data-analyses/rt_delay/rt_trips/310_06_01.parquet',\n",
       " 'gs://calitp-analytics-data/data-analyses/rt_delay/rt_trips/312_06_01.parquet',\n",
       " 'gs://calitp-analytics-data/data-analyses/rt_delay/rt_trips/315_06_01.parquet',\n",
       " 'gs://calitp-analytics-data/data-analyses/rt_delay/rt_trips/336_06_01.parquet',\n",
       " 'gs://calitp-analytics-data/data-analyses/rt_delay/rt_trips/349_06_01.parquet',\n",
       " 'gs://calitp-analytics-data/data-analyses/rt_delay/rt_trips/350_06_01.parquet',\n",
       " 'gs://calitp-analytics-data/data-analyses/rt_delay/rt_trips/360_06_01.parquet',\n",
       " 'gs://calitp-analytics-data/data-analyses/rt_delay/rt_trips/361_06_01.parquet',\n",
       " 'gs://calitp-analytics-data/data-analyses/rt_delay/rt_trips/372_06_01.parquet',\n",
       " 'gs://calitp-analytics-data/data-analyses/rt_delay/rt_trips/45_06_01.parquet',\n",
       " 'gs://calitp-analytics-data/data-analyses/rt_delay/rt_trips/484_06_01.parquet',\n",
       " 'gs://calitp-analytics-data/data-analyses/rt_delay/rt_trips/4_06_01.parquet',\n",
       " 'gs://calitp-analytics-data/data-analyses/rt_delay/rt_trips/61_06_01.parquet',\n",
       " 'gs://calitp-analytics-data/data-analyses/rt_delay/rt_trips/75_06_01.parquet',\n",
       " 'gs://calitp-analytics-data/data-analyses/rt_delay/rt_trips/87_06_01.parquet',\n",
       " 'gs://calitp-analytics-data/data-analyses/rt_delay/rt_trips/99_06_01.parquet']"
      ]
     },
     "execution_count": 49,
     "metadata": {},
     "output_type": "execute_result"
    }
   ],
   "source": [
    "ran_operators"
   ]
  },
  {
   "cell_type": "code",
   "execution_count": 51,
   "id": "74521019-e98e-4f75-bd74-94bfca8bf413",
   "metadata": {},
   "outputs": [],
   "source": [
    "all_rt_trips = pd.DataFrame()\n",
    "for path in ran_operators:\n",
    "    all_rt_trips = pd.concat([pd.read_parquet(path), all_rt_trips])"
   ]
  },
  {
   "cell_type": "code",
   "execution_count": 55,
   "id": "1b0c9167-cadf-4c6a-b95b-4de6ff060783",
   "metadata": {},
   "outputs": [
    {
     "data": {
      "text/html": [
       "<div>\n",
       "<style scoped>\n",
       "    .dataframe tbody tr th:only-of-type {\n",
       "        vertical-align: middle;\n",
       "    }\n",
       "\n",
       "    .dataframe tbody tr th {\n",
       "        vertical-align: top;\n",
       "    }\n",
       "\n",
       "    .dataframe thead th {\n",
       "        text-align: right;\n",
       "    }\n",
       "</style>\n",
       "<table border=\"1\" class=\"dataframe\">\n",
       "  <thead>\n",
       "    <tr style=\"text-align: right;\">\n",
       "      <th></th>\n",
       "      <th>mean_all</th>\n",
       "    </tr>\n",
       "  </thead>\n",
       "  <tbody>\n",
       "    <tr>\n",
       "      <th>0</th>\n",
       "      <td>12.590907</td>\n",
       "    </tr>\n",
       "  </tbody>\n",
       "</table>\n",
       "</div>"
      ],
      "text/plain": [
       "    mean_all\n",
       "0  12.590907"
      ]
     },
     "execution_count": 55,
     "metadata": {},
     "output_type": "execute_result"
    }
   ],
   "source": [
    "all_rt_trips >> filter(_.route_type == '3') >> summarize(mean_all = _.mean_speed_mph.mean())"
   ]
  },
  {
   "cell_type": "code",
   "execution_count": 56,
   "id": "af8e0daa-84ae-4945-856a-cb0b16dbd7ca",
   "metadata": {},
   "outputs": [
    {
     "data": {
      "text/html": [
       "<div>\n",
       "<style scoped>\n",
       "    .dataframe tbody tr th:only-of-type {\n",
       "        vertical-align: middle;\n",
       "    }\n",
       "\n",
       "    .dataframe tbody tr th {\n",
       "        vertical-align: top;\n",
       "    }\n",
       "\n",
       "    .dataframe thead th {\n",
       "        text-align: right;\n",
       "    }\n",
       "</style>\n",
       "<table border=\"1\" class=\"dataframe\">\n",
       "  <thead>\n",
       "    <tr style=\"text-align: right;\">\n",
       "      <th></th>\n",
       "      <th>mean_all</th>\n",
       "    </tr>\n",
       "  </thead>\n",
       "  <tbody>\n",
       "    <tr>\n",
       "      <th>0</th>\n",
       "      <td>10.186188</td>\n",
       "    </tr>\n",
       "  </tbody>\n",
       "</table>\n",
       "</div>"
      ],
      "text/plain": [
       "    mean_all\n",
       "0  10.186188"
      ]
     },
     "execution_count": 56,
     "metadata": {},
     "output_type": "execute_result"
    }
   ],
   "source": [
    "pd.read_parquet('gs://calitp-analytics-data/data-analyses/rt_delay/rt_trips/282_06_01.parquet') >> filter(_.route_type == '3') >> summarize(mean_all = _.mean_speed_mph.mean())"
   ]
  },
  {
   "cell_type": "code",
   "execution_count": 57,
   "id": "c4d9593b-fc03-46ad-96f5-d9c0fb3088a6",
   "metadata": {},
   "outputs": [
    {
     "data": {
      "text/html": [
       "<div>\n",
       "<style scoped>\n",
       "    .dataframe tbody tr th:only-of-type {\n",
       "        vertical-align: middle;\n",
       "    }\n",
       "\n",
       "    .dataframe tbody tr th {\n",
       "        vertical-align: top;\n",
       "    }\n",
       "\n",
       "    .dataframe thead th {\n",
       "        text-align: right;\n",
       "    }\n",
       "</style>\n",
       "<table border=\"1\" class=\"dataframe\">\n",
       "  <thead>\n",
       "    <tr style=\"text-align: right;\">\n",
       "      <th></th>\n",
       "      <th>mean_all</th>\n",
       "    </tr>\n",
       "  </thead>\n",
       "  <tbody>\n",
       "    <tr>\n",
       "      <th>0</th>\n",
       "      <td>11.792687</td>\n",
       "    </tr>\n",
       "  </tbody>\n",
       "</table>\n",
       "</div>"
      ],
      "text/plain": [
       "    mean_all\n",
       "0  11.792687"
      ]
     },
     "execution_count": 57,
     "metadata": {},
     "output_type": "execute_result"
    }
   ],
   "source": [
    "pd.read_parquet('gs://calitp-analytics-data/data-analyses/rt_delay/rt_trips/182_06_01.parquet') >> filter(_.route_type == '3') >> summarize(mean_all = _.mean_speed_mph.mean())"
   ]
  },
  {
   "cell_type": "code",
   "execution_count": null,
   "id": "57879885-be4a-40e7-b6cc-f5d2958f8f48",
   "metadata": {},
   "outputs": [],
   "source": []
  }
 ],
 "metadata": {
  "kernelspec": {
   "display_name": "Python 3 (ipykernel)",
   "language": "python",
   "name": "python3"
  },
  "language_info": {
   "codemirror_mode": {
    "name": "ipython",
    "version": 3
   },
   "file_extension": ".py",
   "mimetype": "text/x-python",
   "name": "python",
   "nbconvert_exporter": "python",
   "pygments_lexer": "ipython3",
   "version": "3.10.5"
  }
 },
 "nbformat": 4,
 "nbformat_minor": 5
}
