{
 "cells": [
  {
   "cell_type": "code",
   "execution_count": 1,
   "id": "46898b5c-b5cc-4096-ab68-8c3e42fab870",
   "metadata": {},
   "outputs": [],
   "source": [
    "%%capture\n",
    "import warnings\n",
    "warnings.filterwarnings('ignore')\n",
    "\n",
    "import os\n",
    "os.environ[\"CALITP_BQ_MAX_BYTES\"] = str(800_000_000_000)\n",
    "import shared_utils\n",
    "\n",
    "from calitp_data_analysis.tables import tbls\n",
    "import calitp_data_analysis.magics\n",
    "\n",
    "from siuba import *\n",
    "import pandas as pd\n",
    "import geopandas as gpd\n",
    "\n",
    "import datetime as dt\n",
    "\n",
    "import importlib\n",
    "from rt_analysis import rt_filter_map_plot\n",
    "# import build_speedmaps_index\n",
    "\n",
    "from IPython.display import display, Markdown, Latex, HTML\n",
    "import json"
   ]
  },
  {
   "cell_type": "code",
   "execution_count": 2,
   "id": "a639fd84-29ca-4678-b568-2b1022701e14",
   "metadata": {},
   "outputs": [],
   "source": [
    "analysis_date = dt.date.fromisoformat(shared_utils.rt_dates.DATES['aug2023a'])"
   ]
  },
  {
   "cell_type": "code",
   "execution_count": 3,
   "id": "47c79d99-c82f-4e1e-b11e-2b1e83c13a1b",
   "metadata": {},
   "outputs": [
    {
     "name": "stdout",
     "output_type": "stream",
     "text": [
      "{\"human_date\": \"August 23 2023 (Wednesday)\"}\n"
     ]
    }
   ],
   "source": [
    "%%capture_parameters\n",
    "human_date = analysis_date.strftime('%B %d %Y (%A)')\n",
    "human_date"
   ]
  },
  {
   "cell_type": "code",
   "execution_count": 4,
   "id": "8352dcfe-9c50-46ee-9f80-3b912440968e",
   "metadata": {},
   "outputs": [],
   "source": [
    "from tqdm.notebook import tqdm"
   ]
  },
  {
   "cell_type": "markdown",
   "id": "8049ab71-3913-4d57-999d-95b56ec72387",
   "metadata": {},
   "source": [
    "# District Submissions Sep 2023\n"
   ]
  },
  {
   "cell_type": "code",
   "execution_count": 5,
   "id": "60fb513f-16f9-450f-9208-6d9416e2d864",
   "metadata": {},
   "outputs": [],
   "source": [
    "line_priority = gpd.read_file('./linear_priority_sep8.geojson')"
   ]
  },
  {
   "cell_type": "code",
   "execution_count": 6,
   "id": "1dbe7b5b-09dc-42e3-b547-0a6b19b68cb9",
   "metadata": {},
   "outputs": [],
   "source": [
    "# line_priority"
   ]
  },
  {
   "cell_type": "markdown",
   "id": "a9bce2ac-54cb-42aa-8185-0c3e35844f9a",
   "metadata": {
    "jp-MarkdownHeadingCollapsed": true,
    "tags": []
   },
   "source": [
    "## MST -- SR68 (speculative?)\n",
    "\n",
    "* TODO analyze on existing alignment..."
   ]
  },
  {
   "cell_type": "code",
   "execution_count": null,
   "id": "661a1d98-b62a-4881-ba26-149c1409d3af",
   "metadata": {},
   "outputs": [],
   "source": [
    "line_priority.iloc[[0]].geo_comments[0]"
   ]
  },
  {
   "cell_type": "code",
   "execution_count": null,
   "id": "24c42ccc-8cd5-42d9-b089-24793667fbd8",
   "metadata": {},
   "outputs": [],
   "source": [
    "line_priority.iloc[[0]].explore()"
   ]
  },
  {
   "cell_type": "markdown",
   "id": "0971e08d-8f06-4d23-8dcd-f115d50072d1",
   "metadata": {
    "tags": []
   },
   "source": [
    "### 5 MST - analyze w/ 0"
   ]
  },
  {
   "cell_type": "code",
   "execution_count": null,
   "id": "f9ff32cd-609d-4c7e-8885-b4aa5f4d5eba",
   "metadata": {},
   "outputs": [],
   "source": [
    "line_priority.iloc[[5]]"
   ]
  },
  {
   "cell_type": "code",
   "execution_count": null,
   "id": "32711315-5945-427a-ad88-243906910a09",
   "metadata": {},
   "outputs": [],
   "source": [
    "line_priority.iloc[[5]].geo_comments.iloc[0]"
   ]
  },
  {
   "cell_type": "code",
   "execution_count": null,
   "id": "919f22d8-6d1e-49e1-b7ee-2d67af339fda",
   "metadata": {},
   "outputs": [],
   "source": [
    "line_priority.iloc[[5]].explore()"
   ]
  },
  {
   "cell_type": "markdown",
   "id": "751d5a42-d55d-4092-a2c2-530f263267b1",
   "metadata": {
    "tags": []
   },
   "source": [
    "### 12 MST (group with 0, 5)"
   ]
  },
  {
   "cell_type": "code",
   "execution_count": null,
   "id": "940259e6-2a7b-4008-b603-7937b9fcba8a",
   "metadata": {},
   "outputs": [],
   "source": [
    "line_priority.iloc[[12]]"
   ]
  },
  {
   "cell_type": "code",
   "execution_count": null,
   "id": "39561373-1c1c-4192-98e9-daba976492c5",
   "metadata": {},
   "outputs": [],
   "source": [
    "line_priority.iloc[[12]].geo_comments.iloc[0]"
   ]
  },
  {
   "cell_type": "code",
   "execution_count": null,
   "id": "2986fa9d-8098-420b-b1c4-2b8df1ca39ab",
   "metadata": {},
   "outputs": [],
   "source": [
    "line_priority.iloc[[12]].explore()"
   ]
  },
  {
   "cell_type": "code",
   "execution_count": null,
   "id": "6a478370-24c4-42e8-9921-4d97324d1d2f",
   "metadata": {
    "tags": [
     "parameters"
    ]
   },
   "outputs": [],
   "source": [
    "## parameters cell\n",
    "itp_id = 208"
   ]
  },
  {
   "cell_type": "code",
   "execution_count": null,
   "id": "218f56e4-0ce3-494b-b3fb-8b0885df1809",
   "metadata": {},
   "outputs": [],
   "source": [
    "%%capture\n",
    "rt_day = rt_filter_map_plot.from_gcs(itp_id, analysis_date, pbar)"
   ]
  },
  {
   "cell_type": "code",
   "execution_count": null,
   "id": "d37fe11f-a90e-4b08-9cf2-b031a3a829e0",
   "metadata": {},
   "outputs": [],
   "source": [
    "%%capture_parameters\n",
    "organization_name = rt_day.organization_name\n",
    "organization_name"
   ]
  },
  {
   "cell_type": "code",
   "execution_count": null,
   "id": "58441f14-6ba4-4293-8cfd-69c217ab966b",
   "metadata": {},
   "outputs": [],
   "source": [
    "rt_day.set_filter(route_names = ['20'])"
   ]
  },
  {
   "cell_type": "code",
   "execution_count": null,
   "id": "936a85ee-56c1-4742-8443-d8e171c69299",
   "metadata": {},
   "outputs": [],
   "source": [
    "_m = rt_day.segment_speed_map()"
   ]
  },
  {
   "cell_type": "code",
   "execution_count": null,
   "id": "23d9e22f-3efe-4de5-b376-ecbbfcb8005c",
   "metadata": {},
   "outputs": [],
   "source": [
    "route_20_length = rt_day.stop_segment_speed_view.shape_meters.max()\n",
    "route_20_length"
   ]
  },
  {
   "cell_type": "code",
   "execution_count": null,
   "id": "9c49d98b-24d0-42d9-8849-4ba7f2644f5a",
   "metadata": {},
   "outputs": [],
   "source": [
    "p20_allday_mph = rt_day._filter(rt_day.rt_trips).mean_speed_mph.quantile(.2)\n",
    "p20_allday_mph"
   ]
  },
  {
   "cell_type": "code",
   "execution_count": null,
   "id": "ef3da0e7-a668-4ff1-81b6-16c6aa11c470",
   "metadata": {},
   "outputs": [],
   "source": [
    "route_20_mi = route_20_length / 1609\n",
    "runtime_hr = route_20_mi / p20_allday_mph\n",
    "runtime_hr"
   ]
  },
  {
   "cell_type": "markdown",
   "id": "6955b9c9-4e82-4736-8257-599be03a1674",
   "metadata": {
    "jp-MarkdownHeadingCollapsed": true,
    "tags": []
   },
   "source": [
    "## 1 MST -- John (~queue jumps~/amenities)\n",
    "\n",
    "* propose not modeling a speed increase"
   ]
  },
  {
   "cell_type": "code",
   "execution_count": null,
   "id": "dbdf7458-fa8f-4dd9-aadb-781f43ab54ec",
   "metadata": {},
   "outputs": [],
   "source": [
    "line_priority.iloc[[1]]"
   ]
  },
  {
   "cell_type": "code",
   "execution_count": null,
   "id": "cb081e8f-dd63-4ea8-a513-6597502b45fb",
   "metadata": {},
   "outputs": [],
   "source": [
    "line_priority.iloc[[1]].geo_comments.iloc[0]"
   ]
  },
  {
   "cell_type": "code",
   "execution_count": null,
   "id": "55d781a7-7929-4404-8aba-76cc0fc86f4d",
   "metadata": {},
   "outputs": [],
   "source": [
    "line_priority.iloc[[1]].explore()"
   ]
  },
  {
   "cell_type": "markdown",
   "id": "9dde7b8c-05ac-4e83-9b1b-a1cd47cf85ee",
   "metadata": {
    "jp-MarkdownHeadingCollapsed": true,
    "tags": []
   },
   "source": [
    "## 2 Humboldt (TSP)\n",
    "\n",
    "* TSP for entire area, TODO existing runtime?"
   ]
  },
  {
   "cell_type": "code",
   "execution_count": null,
   "id": "07f69aec-a8c3-4869-a871-614c25fb6fee",
   "metadata": {},
   "outputs": [],
   "source": [
    "line_priority.iloc[[2]]"
   ]
  },
  {
   "cell_type": "code",
   "execution_count": null,
   "id": "52a889ca-35d4-4250-a3df-248b072c63df",
   "metadata": {},
   "outputs": [],
   "source": [
    "line_priority.iloc[[2]].geo_comments[2]"
   ]
  },
  {
   "cell_type": "code",
   "execution_count": null,
   "id": "3ed84c32-6b9c-4e8c-b3cb-18eee59f637f",
   "metadata": {},
   "outputs": [],
   "source": [
    "line_priority.iloc[[2]].explore()"
   ]
  },
  {
   "cell_type": "markdown",
   "id": "84f79735-a2e2-490d-b9e9-a1c60afcaa09",
   "metadata": {
    "jp-MarkdownHeadingCollapsed": true,
    "tags": []
   },
   "source": [
    "## 3 Humboldt (bus lane)\n",
    "\n",
    "* Are buses going to use this instead of US101?\n",
    "* per plan, yes \" southbound travel would shift to an improved one-way Koster Street and a new one-way facility north of Vigo Street to Bayshore Mall. South Broadway would be improved with bike lanes and pedestrian safety improvements within the existing right of way. \"\n",
    "* propose modelling bus lane on full plan area, including one-way couplets and two-way section\n",
    "* can probably reuse prior runs..."
   ]
  },
  {
   "cell_type": "code",
   "execution_count": null,
   "id": "b52c5b92-e295-48d8-aadd-ac68048cf49a",
   "metadata": {},
   "outputs": [],
   "source": [
    "line_priority.iloc[[3]].Scrs_Link.iloc[0]"
   ]
  },
  {
   "cell_type": "code",
   "execution_count": null,
   "id": "7267a0fe-ad65-4fa7-b2b0-aec4a81ecf54",
   "metadata": {},
   "outputs": [],
   "source": [
    "line_priority.iloc[[3]]"
   ]
  },
  {
   "cell_type": "code",
   "execution_count": null,
   "id": "6d8c9869-e701-4bdf-a582-e4fa8a231749",
   "metadata": {},
   "outputs": [],
   "source": [
    "line_priority.iloc[[3]].geo_comments"
   ]
  },
  {
   "cell_type": "code",
   "execution_count": null,
   "id": "e144953f-6258-4842-b7ee-15e57fc705ae",
   "metadata": {},
   "outputs": [],
   "source": [
    "line_priority.iloc[[3]].explore()"
   ]
  },
  {
   "cell_type": "markdown",
   "id": "d8db65df-720b-48ba-9b8b-21e4c2ccfcaa",
   "metadata": {
    "tags": []
   },
   "source": [
    "## 9 HTA (queue jump, goes w/ 3)"
   ]
  },
  {
   "cell_type": "code",
   "execution_count": null,
   "id": "46ead714-4141-4759-92a5-b991cd2044c5",
   "metadata": {},
   "outputs": [],
   "source": [
    "line_priority.iloc[[9]]"
   ]
  },
  {
   "cell_type": "code",
   "execution_count": null,
   "id": "518e9542-dca4-4f27-9953-157ceb2e81d3",
   "metadata": {},
   "outputs": [],
   "source": [
    "line_priority.iloc[[9]].geo_comments.iloc[0]"
   ]
  },
  {
   "cell_type": "code",
   "execution_count": null,
   "id": "963ed972-7548-4760-b290-d0f57859e76b",
   "metadata": {},
   "outputs": [],
   "source": [
    "line_priority.iloc[[9]].explore()"
   ]
  },
  {
   "cell_type": "markdown",
   "id": "6994f80f-b565-4935-8d5c-ef96651d9dfd",
   "metadata": {
    "tags": []
   },
   "source": [
    "## 10 HTA (bus lane, group w/ 3, 9)"
   ]
  },
  {
   "cell_type": "code",
   "execution_count": null,
   "id": "8bfe46a2-2b27-4cf7-87e9-8da5a9c9228e",
   "metadata": {},
   "outputs": [],
   "source": [
    "line_priority.iloc[[10]]"
   ]
  },
  {
   "cell_type": "code",
   "execution_count": null,
   "id": "e048c730-2cc9-4d03-90c3-f09ead1c6625",
   "metadata": {},
   "outputs": [],
   "source": [
    "line_priority.iloc[[10]].geo_comments.iloc[0]"
   ]
  },
  {
   "cell_type": "code",
   "execution_count": null,
   "id": "f84d96ab-f7df-43fb-a695-52fa657faa53",
   "metadata": {},
   "outputs": [],
   "source": [
    "line_priority.iloc[[10]].explore()"
   ]
  },
  {
   "cell_type": "markdown",
   "id": "6b190822-532b-427e-ade8-bbd9bf9e7756",
   "metadata": {
    "jp-MarkdownHeadingCollapsed": true,
    "tags": []
   },
   "source": [
    "## 4 LA Metro (Bus Lane, peak only)"
   ]
  },
  {
   "cell_type": "code",
   "execution_count": null,
   "id": "4ea4fb84-0b4a-49ce-8cd2-e95ed6d2f4c0",
   "metadata": {},
   "outputs": [],
   "source": [
    "line_priority.iloc[[4]]"
   ]
  },
  {
   "cell_type": "code",
   "execution_count": null,
   "id": "f5feac24-bd55-499e-85bb-cdf1b4f18e55",
   "metadata": {},
   "outputs": [],
   "source": [
    "line_priority.iloc[[4]].geo_comments.iloc[0]"
   ]
  },
  {
   "cell_type": "code",
   "execution_count": null,
   "id": "f65cbfe4-252d-4dbc-bceb-f183c2b42431",
   "metadata": {},
   "outputs": [],
   "source": [
    "line_priority.iloc[[4]].explore()"
   ]
  },
  {
   "cell_type": "markdown",
   "id": "52024183-781f-4ea5-8f43-37e86c8f3397",
   "metadata": {
    "tags": []
   },
   "source": [
    "### 11 LA Metro -- analyze w/ 4\n",
    "\n",
    "* duplicate geography, one analysis"
   ]
  },
  {
   "cell_type": "code",
   "execution_count": null,
   "id": "3ebbffc4-110e-4a7a-b0d9-06e2dd152296",
   "metadata": {},
   "outputs": [],
   "source": [
    "line_priority.iloc[[11]]"
   ]
  },
  {
   "cell_type": "code",
   "execution_count": null,
   "id": "b4e38635-d95b-4e68-ae70-f420b08a23bb",
   "metadata": {},
   "outputs": [],
   "source": [
    "line_priority.iloc[[11]].geo_comments.iloc[0]"
   ]
  },
  {
   "cell_type": "code",
   "execution_count": null,
   "id": "1ef1fa90-18f7-4421-aef9-084b8cc654b1",
   "metadata": {},
   "outputs": [],
   "source": [
    "line_priority.iloc[[11]].explore()"
   ]
  },
  {
   "cell_type": "code",
   "execution_count": null,
   "id": "151c8ec1-dddd-456b-acd7-cb9d9f46a207",
   "metadata": {
    "tags": [
     "parameters"
    ]
   },
   "outputs": [],
   "source": [
    "## parameters cell\n",
    "itp_id = 182"
   ]
  },
  {
   "cell_type": "code",
   "execution_count": null,
   "id": "521694b8-8428-4026-97ac-fa36f830ce31",
   "metadata": {},
   "outputs": [],
   "source": [
    "%%capture\n",
    "rt_day = rt_filter_map_plot.from_gcs(itp_id, analysis_date, pbar)"
   ]
  },
  {
   "cell_type": "code",
   "execution_count": null,
   "id": "e693b1db-1fea-4856-9c83-1aefbd3b9592",
   "metadata": {},
   "outputs": [],
   "source": [
    "%%capture_parameters\n",
    "organization_name = rt_day.organization_name\n",
    "organization_name"
   ]
  },
  {
   "cell_type": "code",
   "execution_count": null,
   "id": "2bd44c29-e032-4217-b1cc-030426de9080",
   "metadata": {},
   "outputs": [],
   "source": [
    "rt_day.set_filter(route_names = ['4'], start_time='07:00', end_time='09:00')"
   ]
  },
  {
   "cell_type": "code",
   "execution_count": null,
   "id": "9f991e24-5891-4911-91f5-c2e12e24cefb",
   "metadata": {},
   "outputs": [],
   "source": [
    "_m = rt_day.segment_speed_map()"
   ]
  },
  {
   "cell_type": "code",
   "execution_count": null,
   "id": "069a1125-0cfa-4d99-949d-f901721c1b99",
   "metadata": {},
   "outputs": [],
   "source": [
    "rt_day.autocorridor(shape_id = '40330_JUNE23', stop_seq_range = [7, 10])"
   ]
  },
  {
   "cell_type": "code",
   "execution_count": null,
   "id": "b8367a1b-dde7-4b1a-8114-03574249c57e",
   "metadata": {},
   "outputs": [],
   "source": [
    "##TODO frequency improvements by period? midday speeds?"
   ]
  },
  {
   "cell_type": "code",
   "execution_count": null,
   "id": "def2087c-75c9-4aa2-9c1b-73a3ffd167ca",
   "metadata": {},
   "outputs": [],
   "source": [
    "rt_day.corridor_metrics()"
   ]
  },
  {
   "cell_type": "code",
   "execution_count": null,
   "id": "653ff460-ed40-4b09-a5bb-fce29833f477",
   "metadata": {},
   "outputs": [],
   "source": [
    "all_corridors = []"
   ]
  },
  {
   "cell_type": "code",
   "execution_count": null,
   "id": "8b8f2bb7-c7ab-4a28-bd5e-ae71d3f25b48",
   "metadata": {},
   "outputs": [],
   "source": [
    "rt_day.corridor['corridor'] = 'sr2_am'"
   ]
  },
  {
   "cell_type": "code",
   "execution_count": null,
   "id": "71a5f1bb-0c4d-45fe-919b-5a0ce36c29b3",
   "metadata": {},
   "outputs": [],
   "source": [
    "all_corridors += [rt_day.corridor]"
   ]
  },
  {
   "cell_type": "code",
   "execution_count": null,
   "id": "2754798e-4c6b-4640-8b0d-d5d1392dcbb3",
   "metadata": {},
   "outputs": [],
   "source": [
    "rt_day.set_filter(route_names = ['4'], start_time='16:00', end_time='19:00')"
   ]
  },
  {
   "cell_type": "code",
   "execution_count": null,
   "id": "ab8466ec-a07e-4963-b89b-5528fe74ddbf",
   "metadata": {},
   "outputs": [],
   "source": [
    "_m = rt_day.segment_speed_map()"
   ]
  },
  {
   "cell_type": "code",
   "execution_count": null,
   "id": "01fe319b-7b21-4f97-a43a-2d5be05bd5e8",
   "metadata": {},
   "outputs": [],
   "source": [
    "rt_day.autocorridor(shape_id = '40324_JUNE23', stop_seq_range = [6.5, 10])"
   ]
  },
  {
   "cell_type": "code",
   "execution_count": null,
   "id": "5ca61d1a-63b6-4b1b-ad9d-7c93834ce5ec",
   "metadata": {},
   "outputs": [],
   "source": [
    "rt_day.corridor_metrics()"
   ]
  },
  {
   "cell_type": "code",
   "execution_count": null,
   "id": "21a765ba-85da-4029-bb65-ba80a46cc454",
   "metadata": {},
   "outputs": [],
   "source": [
    "rt_day.corridor['corridor'] = 'sr2_pm'"
   ]
  },
  {
   "cell_type": "code",
   "execution_count": null,
   "id": "ec994c13-d7b8-47d1-b9b3-5beb316874d7",
   "metadata": {},
   "outputs": [],
   "source": [
    "all_corridors += [rt_day.corridor]"
   ]
  },
  {
   "cell_type": "markdown",
   "id": "ad574392-0c4d-4c71-9bc1-45511b1daedc",
   "metadata": {},
   "source": [
    "### midday improvements..."
   ]
  },
  {
   "cell_type": "code",
   "execution_count": null,
   "id": "75f0ce81-d5e3-4fc3-a5d3-8ab77f27d019",
   "metadata": {},
   "outputs": [],
   "source": [
    "rt_day.set_filter(route_names = ['4'], start_time='09:00', end_time='16:00')"
   ]
  },
  {
   "cell_type": "code",
   "execution_count": null,
   "id": "e79c414e-4b22-4d0e-b1f5-965caa4156e2",
   "metadata": {},
   "outputs": [],
   "source": [
    "_m = rt_day.segment_speed_map()"
   ]
  },
  {
   "cell_type": "code",
   "execution_count": null,
   "id": "3baa8ac2-cf89-4e92-9bef-2d5ab6aca7da",
   "metadata": {},
   "outputs": [],
   "source": [
    "rt_day.autocorridor(shape_id = '40323_JUNE23', stop_seq_range = [6.5, 10])"
   ]
  },
  {
   "cell_type": "code",
   "execution_count": null,
   "id": "77447002-9a5b-4297-a493-391e8d2db4b9",
   "metadata": {},
   "outputs": [],
   "source": [
    "rt_day.corridor_metrics()"
   ]
  },
  {
   "cell_type": "code",
   "execution_count": null,
   "id": "d65b6675-b541-4f6e-a7c0-3313e41be53c",
   "metadata": {},
   "outputs": [],
   "source": [
    "rt_day.corridor['corridor'] = 'sr2_mid'"
   ]
  },
  {
   "cell_type": "code",
   "execution_count": null,
   "id": "0219c354-8c15-4769-ba72-9ff57dfe78e0",
   "metadata": {},
   "outputs": [],
   "source": [
    "all_corridors += [rt_day.corridor]"
   ]
  },
  {
   "cell_type": "markdown",
   "id": "c0525bf1-8549-46e3-b602-320c896d9381",
   "metadata": {
    "jp-MarkdownHeadingCollapsed": true,
    "tags": []
   },
   "source": [
    "## 6 AC Transit (Bus Lane)"
   ]
  },
  {
   "cell_type": "code",
   "execution_count": null,
   "id": "c9c3cfe2-d588-4593-ac89-250de7c09b90",
   "metadata": {},
   "outputs": [],
   "source": [
    "line_priority.iloc[[6]]"
   ]
  },
  {
   "cell_type": "code",
   "execution_count": null,
   "id": "91877c20-700b-44fe-b33a-736429d35488",
   "metadata": {},
   "outputs": [],
   "source": [
    "line_priority.iloc[[6]].geo_comments.iloc[0]"
   ]
  },
  {
   "cell_type": "code",
   "execution_count": null,
   "id": "03438df6-f3e1-45b7-a27d-8d98ac6c217e",
   "metadata": {},
   "outputs": [],
   "source": [
    "line_priority.iloc[[6]].explore()"
   ]
  },
  {
   "cell_type": "markdown",
   "id": "ee63dfdf-18a7-4fc4-a89e-4c91348f9532",
   "metadata": {
    "tags": []
   },
   "source": [
    "### 13 AC Transit (Bus Lane, analyze w/ 6)\n",
    "\n",
    "* NB and SB submitted seperately but can model together"
   ]
  },
  {
   "cell_type": "code",
   "execution_count": null,
   "id": "4f755220-22b7-4ffe-b14e-1e7c89621910",
   "metadata": {
    "tags": [
     "parameters"
    ]
   },
   "outputs": [],
   "source": [
    "## parameters cell\n",
    "itp_id = 4"
   ]
  },
  {
   "cell_type": "code",
   "execution_count": null,
   "id": "6573c5ad-b994-4926-a115-5b4587e0b601",
   "metadata": {},
   "outputs": [],
   "source": [
    "%%capture\n",
    "rt_day = rt_filter_map_plot.from_gcs(itp_id, analysis_date, pbar)"
   ]
  },
  {
   "cell_type": "code",
   "execution_count": null,
   "id": "34c6bc8d-b76c-4c10-8bf3-decce0416684",
   "metadata": {},
   "outputs": [],
   "source": [
    "rt_day.transit_priority_target_mph = 20"
   ]
  },
  {
   "cell_type": "code",
   "execution_count": null,
   "id": "1f2e3d47-d92e-4c1c-b2ea-ab77ef8df86b",
   "metadata": {},
   "outputs": [],
   "source": [
    "%%capture_parameters\n",
    "organization_name = rt_day.organization_name\n",
    "organization_name"
   ]
  },
  {
   "cell_type": "code",
   "execution_count": null,
   "id": "8ff25a57-4424-4957-ab1d-c02c40df1a9c",
   "metadata": {},
   "outputs": [],
   "source": [
    "rt_day.set_filter(route_names = ['72', '72M', '72R'])"
   ]
  },
  {
   "cell_type": "code",
   "execution_count": null,
   "id": "8d0d3e98-ac1c-418d-8500-42ede60a84f5",
   "metadata": {},
   "outputs": [],
   "source": [
    "_m = rt_day.segment_speed_map()"
   ]
  },
  {
   "cell_type": "code",
   "execution_count": null,
   "id": "f44e42b2-49f0-45af-a175-666298ffcd54",
   "metadata": {},
   "outputs": [],
   "source": [
    "rt_day.autocorridor(shape_id = 'shp-72R-58', stop_seq_range = [17, 19])"
   ]
  },
  {
   "cell_type": "code",
   "execution_count": null,
   "id": "78c1d10d-41ca-4c3c-8305-6a328532d55c",
   "metadata": {},
   "outputs": [],
   "source": [
    "# rt_day.corridor_stop_delays >> distinct(_.route_short_name)"
   ]
  },
  {
   "cell_type": "code",
   "execution_count": null,
   "id": "5f88c525-f330-4ca0-9e9b-ccdc85c2b4d5",
   "metadata": {},
   "outputs": [],
   "source": [
    "rt_day.corridor_metrics()"
   ]
  },
  {
   "cell_type": "code",
   "execution_count": null,
   "id": "1b89df41-24f6-43c1-ad1f-3ae92b929664",
   "metadata": {},
   "outputs": [],
   "source": [
    "rt_day.corridor['corridor'] = 'sr123'"
   ]
  },
  {
   "cell_type": "code",
   "execution_count": null,
   "id": "b46904a1-6344-476e-b522-ad7dc83dc076",
   "metadata": {},
   "outputs": [],
   "source": [
    "all_corridors += [rt_day.corridor]"
   ]
  },
  {
   "cell_type": "markdown",
   "id": "2ec05f89-6c8c-4b4d-ada4-930514f2caa7",
   "metadata": {
    "jp-MarkdownHeadingCollapsed": true,
    "tags": []
   },
   "source": [
    "## 7 GGT (queue jump, new direct fwy link?)\n",
    "\n",
    "* _relocates_ stop from existing location in interchange (currently requires uncontrolled crossing of onramp)\n",
    "* will improve ADA compliance, rider comfort, transfer\n",
    "* unlikely to improve mainline speed, may slightly slow mainline service"
   ]
  },
  {
   "cell_type": "code",
   "execution_count": null,
   "id": "79029c41-0959-44a0-86f0-e2f104e32c14",
   "metadata": {},
   "outputs": [],
   "source": [
    "line_priority.iloc[[7]]"
   ]
  },
  {
   "cell_type": "code",
   "execution_count": null,
   "id": "4ad63c29-9242-40ad-b06e-a4692251a64c",
   "metadata": {},
   "outputs": [],
   "source": [
    "line_priority.iloc[[7]].geo_comments.iloc[0]"
   ]
  },
  {
   "cell_type": "code",
   "execution_count": null,
   "id": "94a3863c-f416-4637-be2f-469229083f76",
   "metadata": {},
   "outputs": [],
   "source": [
    "line_priority.iloc[[7]].explore()"
   ]
  },
  {
   "cell_type": "markdown",
   "id": "99c35a3c-33d7-4dbe-85ab-918d273b470a",
   "metadata": {
    "tags": []
   },
   "source": [
    "### 14 GGT (queue jump, new direct fwy link?, group w/ 7)"
   ]
  },
  {
   "cell_type": "code",
   "execution_count": null,
   "id": "7fc29fa8-4177-46dd-bd3d-21f23b0b43af",
   "metadata": {},
   "outputs": [],
   "source": [
    "line_priority.iloc[[14]]"
   ]
  },
  {
   "cell_type": "code",
   "execution_count": null,
   "id": "182ac574-6f5f-4c10-8882-cec336bc0885",
   "metadata": {},
   "outputs": [],
   "source": [
    "line_priority.iloc[[14]].geo_comments.iloc[0]"
   ]
  },
  {
   "cell_type": "code",
   "execution_count": null,
   "id": "f55dfe6a-5b31-4b62-9f78-299a20f85e90",
   "metadata": {},
   "outputs": [],
   "source": [
    "line_priority.iloc[[14]].explore()"
   ]
  },
  {
   "cell_type": "markdown",
   "id": "25eaa87e-d803-4f59-a8f7-59e299efd7e8",
   "metadata": {
    "tags": []
   },
   "source": [
    "## 8 SDMTS (Bus Lane, fwy?)"
   ]
  },
  {
   "cell_type": "code",
   "execution_count": 48,
   "id": "2e5a6719-d141-4257-b632-c623f2a4235c",
   "metadata": {},
   "outputs": [
    {
     "data": {
      "text/html": [
       "<div>\n",
       "<style scoped>\n",
       "    .dataframe tbody tr th:only-of-type {\n",
       "        vertical-align: middle;\n",
       "    }\n",
       "\n",
       "    .dataframe tbody tr th {\n",
       "        vertical-align: top;\n",
       "    }\n",
       "\n",
       "    .dataframe thead th {\n",
       "        text-align: right;\n",
       "    }\n",
       "</style>\n",
       "<table border=\"1\" class=\"dataframe\">\n",
       "  <thead>\n",
       "    <tr style=\"text-align: right;\">\n",
       "      <th></th>\n",
       "      <th>OBJECTID</th>\n",
       "      <th>Submitter_Name</th>\n",
       "      <th>Submitter_Email</th>\n",
       "      <th>Priority_Intervention_Type_All</th>\n",
       "      <th>Scrs</th>\n",
       "      <th>Scrs_Link</th>\n",
       "      <th>Centerline_Miles</th>\n",
       "      <th>One_Side_Rdwy_Only</th>\n",
       "      <th>Queue_Jumps</th>\n",
       "      <th>Bus_Brdng_Islnds</th>\n",
       "      <th>...</th>\n",
       "      <th>CT_District</th>\n",
       "      <th>County</th>\n",
       "      <th>Route</th>\n",
       "      <th>Geom_Priority_Intervention_Type</th>\n",
       "      <th>geo_comments</th>\n",
       "      <th>CreationDate</th>\n",
       "      <th>Lyr</th>\n",
       "      <th>EditDate</th>\n",
       "      <th>Shape_Length</th>\n",
       "      <th>geometry</th>\n",
       "    </tr>\n",
       "  </thead>\n",
       "  <tbody>\n",
       "    <tr>\n",
       "      <th>8</th>\n",
       "      <td>9</td>\n",
       "      <td>Alyssa Ahn</td>\n",
       "      <td>alyssa.ahn@dot.ca.gov</td>\n",
       "      <td>Bus_Only_Lane_(full-time)</td>\n",
       "      <td>NaN</td>\n",
       "      <td>NaN</td>\n",
       "      <td>4.66</td>\n",
       "      <td>no</td>\n",
       "      <td>NaN</td>\n",
       "      <td>NaN</td>\n",
       "      <td>...</td>\n",
       "      <td>11</td>\n",
       "      <td>SD</td>\n",
       "      <td>805</td>\n",
       "      <td>Bus_Only_Lane_(full-time)</td>\n",
       "      <td>Route 15 PM R3.30/M4.66 (to University Avenue ...</td>\n",
       "      <td>1693251188000</td>\n",
       "      <td>\"Lns2\"</td>\n",
       "      <td>1693421427000</td>\n",
       "      <td>0.020183</td>\n",
       "      <td>LINESTRING Z (-117.10863 32.74968 0.00000, -11...</td>\n",
       "    </tr>\n",
       "  </tbody>\n",
       "</table>\n",
       "<p>1 rows × 22 columns</p>\n",
       "</div>"
      ],
      "text/plain": [
       "   OBJECTID Submitter_Name        Submitter_Email  \\\n",
       "8         9     Alyssa Ahn  alyssa.ahn@dot.ca.gov   \n",
       "\n",
       "  Priority_Intervention_Type_All Scrs Scrs_Link  Centerline_Miles  \\\n",
       "8      Bus_Only_Lane_(full-time)  NaN       NaN              4.66   \n",
       "\n",
       "  One_Side_Rdwy_Only  Queue_Jumps  Bus_Brdng_Islnds  ...  CT_District County  \\\n",
       "8                 no          NaN               NaN  ...           11     SD   \n",
       "\n",
       "  Route Geom_Priority_Intervention_Type  \\\n",
       "8   805       Bus_Only_Lane_(full-time)   \n",
       "\n",
       "                                        geo_comments   CreationDate     Lyr  \\\n",
       "8  Route 15 PM R3.30/M4.66 (to University Avenue ...  1693251188000  \"Lns2\"   \n",
       "\n",
       "        EditDate Shape_Length  \\\n",
       "8  1693421427000     0.020183   \n",
       "\n",
       "                                            geometry  \n",
       "8  LINESTRING Z (-117.10863 32.74968 0.00000, -11...  \n",
       "\n",
       "[1 rows x 22 columns]"
      ]
     },
     "execution_count": 48,
     "metadata": {},
     "output_type": "execute_result"
    }
   ],
   "source": [
    "line_priority.iloc[[8]]"
   ]
  },
  {
   "cell_type": "code",
   "execution_count": 49,
   "id": "edb81235-5a4b-4b14-815f-55f78471079b",
   "metadata": {},
   "outputs": [
    {
     "data": {
      "text/plain": [
       "'Route 15 PM R3.30/M4.66 (to University Avenue OC at Transit Hub) NB and SB '"
      ]
     },
     "execution_count": 49,
     "metadata": {},
     "output_type": "execute_result"
    }
   ],
   "source": [
    "line_priority.iloc[[8]].geo_comments.iloc[0]"
   ]
  },
  {
   "cell_type": "code",
   "execution_count": 50,
   "id": "7ea2eef9-6882-41c0-9e42-6246cffc4a57",
   "metadata": {},
   "outputs": [
    {
     "data": {
      "text/html": [
       "<div style=\"width:100%;\"><div style=\"position:relative;width:100%;height:0;padding-bottom:60%;\"><span style=\"color:#565656\">Make this Notebook Trusted to load map: File -> Trust Notebook</span><iframe src=\"about:blank\" style=\"position:absolute;width:100%;height:100%;left:0;top:0;border:none !important;\" data-html=%3C%21DOCTYPE%20html%3E%0A%3Chead%3E%20%20%20%20%0A%20%20%20%20%3Cmeta%20http-equiv%3D%22content-type%22%20content%3D%22text/html%3B%20charset%3DUTF-8%22%20/%3E%0A%20%20%20%20%0A%20%20%20%20%20%20%20%20%3Cscript%3E%0A%20%20%20%20%20%20%20%20%20%20%20%20L_NO_TOUCH%20%3D%20false%3B%0A%20%20%20%20%20%20%20%20%20%20%20%20L_DISABLE_3D%20%3D%20false%3B%0A%20%20%20%20%20%20%20%20%3C/script%3E%0A%20%20%20%20%0A%20%20%20%20%3Cstyle%3Ehtml%2C%20body%20%7Bwidth%3A%20100%25%3Bheight%3A%20100%25%3Bmargin%3A%200%3Bpadding%3A%200%3B%7D%3C/style%3E%0A%20%20%20%20%3Cstyle%3E%23map%20%7Bposition%3Aabsolute%3Btop%3A0%3Bbottom%3A0%3Bright%3A0%3Bleft%3A0%3B%7D%3C/style%3E%0A%20%20%20%20%3Cscript%20src%3D%22https%3A//cdn.jsdelivr.net/npm/leaflet%401.6.0/dist/leaflet.js%22%3E%3C/script%3E%0A%20%20%20%20%3Cscript%20src%3D%22https%3A//code.jquery.com/jquery-1.12.4.min.js%22%3E%3C/script%3E%0A%20%20%20%20%3Cscript%20src%3D%22https%3A//maxcdn.bootstrapcdn.com/bootstrap/3.2.0/js/bootstrap.min.js%22%3E%3C/script%3E%0A%20%20%20%20%3Cscript%20src%3D%22https%3A//cdnjs.cloudflare.com/ajax/libs/Leaflet.awesome-markers/2.0.2/leaflet.awesome-markers.js%22%3E%3C/script%3E%0A%20%20%20%20%3Clink%20rel%3D%22stylesheet%22%20href%3D%22https%3A//cdn.jsdelivr.net/npm/leaflet%401.6.0/dist/leaflet.css%22/%3E%0A%20%20%20%20%3Clink%20rel%3D%22stylesheet%22%20href%3D%22https%3A//maxcdn.bootstrapcdn.com/bootstrap/3.2.0/css/bootstrap.min.css%22/%3E%0A%20%20%20%20%3Clink%20rel%3D%22stylesheet%22%20href%3D%22https%3A//maxcdn.bootstrapcdn.com/bootstrap/3.2.0/css/bootstrap-theme.min.css%22/%3E%0A%20%20%20%20%3Clink%20rel%3D%22stylesheet%22%20href%3D%22https%3A//maxcdn.bootstrapcdn.com/font-awesome/4.6.3/css/font-awesome.min.css%22/%3E%0A%20%20%20%20%3Clink%20rel%3D%22stylesheet%22%20href%3D%22https%3A//cdnjs.cloudflare.com/ajax/libs/Leaflet.awesome-markers/2.0.2/leaflet.awesome-markers.css%22/%3E%0A%20%20%20%20%3Clink%20rel%3D%22stylesheet%22%20href%3D%22https%3A//cdn.jsdelivr.net/gh/python-visualization/folium/folium/templates/leaflet.awesome.rotate.min.css%22/%3E%0A%20%20%20%20%0A%20%20%20%20%20%20%20%20%20%20%20%20%3Cmeta%20name%3D%22viewport%22%20content%3D%22width%3Ddevice-width%2C%0A%20%20%20%20%20%20%20%20%20%20%20%20%20%20%20%20initial-scale%3D1.0%2C%20maximum-scale%3D1.0%2C%20user-scalable%3Dno%22%20/%3E%0A%20%20%20%20%20%20%20%20%20%20%20%20%3Cstyle%3E%0A%20%20%20%20%20%20%20%20%20%20%20%20%20%20%20%20%23map_28ed6aa8d7f54653b21a9e6423925f8a%20%7B%0A%20%20%20%20%20%20%20%20%20%20%20%20%20%20%20%20%20%20%20%20position%3A%20relative%3B%0A%20%20%20%20%20%20%20%20%20%20%20%20%20%20%20%20%20%20%20%20width%3A%20100.0%25%3B%0A%20%20%20%20%20%20%20%20%20%20%20%20%20%20%20%20%20%20%20%20height%3A%20100.0%25%3B%0A%20%20%20%20%20%20%20%20%20%20%20%20%20%20%20%20%20%20%20%20left%3A%200.0%25%3B%0A%20%20%20%20%20%20%20%20%20%20%20%20%20%20%20%20%20%20%20%20top%3A%200.0%25%3B%0A%20%20%20%20%20%20%20%20%20%20%20%20%20%20%20%20%7D%0A%20%20%20%20%20%20%20%20%20%20%20%20%3C/style%3E%0A%20%20%20%20%20%20%20%20%0A%20%20%20%20%0A%20%20%20%20%20%20%20%20%20%20%20%20%20%20%20%20%20%20%20%20%3Cstyle%3E%0A%20%20%20%20%20%20%20%20%20%20%20%20%20%20%20%20%20%20%20%20%20%20%20%20.foliumtooltip%20%7B%0A%20%20%20%20%20%20%20%20%20%20%20%20%20%20%20%20%20%20%20%20%20%20%20%20%20%20%20%20%0A%20%20%20%20%20%20%20%20%20%20%20%20%20%20%20%20%20%20%20%20%20%20%20%20%7D%0A%20%20%20%20%20%20%20%20%20%20%20%20%20%20%20%20%20%20%20%20%20%20%20.foliumtooltip%20table%7B%0A%20%20%20%20%20%20%20%20%20%20%20%20%20%20%20%20%20%20%20%20%20%20%20%20%20%20%20%20margin%3A%20auto%3B%0A%20%20%20%20%20%20%20%20%20%20%20%20%20%20%20%20%20%20%20%20%20%20%20%20%7D%0A%20%20%20%20%20%20%20%20%20%20%20%20%20%20%20%20%20%20%20%20%20%20%20%20.foliumtooltip%20tr%7B%0A%20%20%20%20%20%20%20%20%20%20%20%20%20%20%20%20%20%20%20%20%20%20%20%20%20%20%20%20text-align%3A%20left%3B%0A%20%20%20%20%20%20%20%20%20%20%20%20%20%20%20%20%20%20%20%20%20%20%20%20%7D%0A%20%20%20%20%20%20%20%20%20%20%20%20%20%20%20%20%20%20%20%20%20%20%20%20.foliumtooltip%20th%7B%0A%20%20%20%20%20%20%20%20%20%20%20%20%20%20%20%20%20%20%20%20%20%20%20%20%20%20%20%20padding%3A%202px%3B%20padding-right%3A%208px%3B%0A%20%20%20%20%20%20%20%20%20%20%20%20%20%20%20%20%20%20%20%20%20%20%20%20%7D%0A%20%20%20%20%20%20%20%20%20%20%20%20%20%20%20%20%20%20%20%20%3C/style%3E%0A%20%20%20%20%20%20%20%20%20%20%20%20%0A%3C/head%3E%0A%3Cbody%3E%20%20%20%20%0A%20%20%20%20%0A%20%20%20%20%20%20%20%20%20%20%20%20%3Cdiv%20class%3D%22folium-map%22%20id%3D%22map_28ed6aa8d7f54653b21a9e6423925f8a%22%20%3E%3C/div%3E%0A%20%20%20%20%20%20%20%20%0A%3C/body%3E%0A%3Cscript%3E%20%20%20%20%0A%20%20%20%20%0A%20%20%20%20%20%20%20%20%20%20%20%20var%20map_28ed6aa8d7f54653b21a9e6423925f8a%20%3D%20L.map%28%0A%20%20%20%20%20%20%20%20%20%20%20%20%20%20%20%20%22map_28ed6aa8d7f54653b21a9e6423925f8a%22%2C%0A%20%20%20%20%20%20%20%20%20%20%20%20%20%20%20%20%7B%0A%20%20%20%20%20%20%20%20%20%20%20%20%20%20%20%20%20%20%20%20center%3A%20%5B32.74046312450005%2C%20-117.11095474099997%5D%2C%0A%20%20%20%20%20%20%20%20%20%20%20%20%20%20%20%20%20%20%20%20crs%3A%20L.CRS.EPSG3857%2C%0A%20%20%20%20%20%20%20%20%20%20%20%20%20%20%20%20%20%20%20%20zoom%3A%2010%2C%0A%20%20%20%20%20%20%20%20%20%20%20%20%20%20%20%20%20%20%20%20zoomControl%3A%20true%2C%0A%20%20%20%20%20%20%20%20%20%20%20%20%20%20%20%20%20%20%20%20preferCanvas%3A%20false%2C%0A%20%20%20%20%20%20%20%20%20%20%20%20%20%20%20%20%7D%0A%20%20%20%20%20%20%20%20%20%20%20%20%29%3B%0A%20%20%20%20%20%20%20%20%20%20%20%20L.control.scale%28%29.addTo%28map_28ed6aa8d7f54653b21a9e6423925f8a%29%3B%0A%0A%20%20%20%20%20%20%20%20%20%20%20%20%0A%0A%20%20%20%20%20%20%20%20%0A%20%20%20%20%0A%20%20%20%20%20%20%20%20%20%20%20%20var%20tile_layer_cec5d23c64904fa28a2389906dd766f9%20%3D%20L.tileLayer%28%0A%20%20%20%20%20%20%20%20%20%20%20%20%20%20%20%20%22https%3A//%7Bs%7D.tile.openstreetmap.org/%7Bz%7D/%7Bx%7D/%7By%7D.png%22%2C%0A%20%20%20%20%20%20%20%20%20%20%20%20%20%20%20%20%7B%22attribution%22%3A%20%22Data%20by%20%5Cu0026copy%3B%20%5Cu003ca%20href%3D%5C%22http%3A//openstreetmap.org%5C%22%5Cu003eOpenStreetMap%5Cu003c/a%5Cu003e%2C%20under%20%5Cu003ca%20href%3D%5C%22http%3A//www.openstreetmap.org/copyright%5C%22%5Cu003eODbL%5Cu003c/a%5Cu003e.%22%2C%20%22detectRetina%22%3A%20false%2C%20%22maxNativeZoom%22%3A%2018%2C%20%22maxZoom%22%3A%2018%2C%20%22minZoom%22%3A%200%2C%20%22noWrap%22%3A%20false%2C%20%22opacity%22%3A%201%2C%20%22subdomains%22%3A%20%22abc%22%2C%20%22tms%22%3A%20false%7D%0A%20%20%20%20%20%20%20%20%20%20%20%20%29.addTo%28map_28ed6aa8d7f54653b21a9e6423925f8a%29%3B%0A%20%20%20%20%20%20%20%20%0A%20%20%20%20%0A%20%20%20%20%20%20%20%20%20%20%20%20map_28ed6aa8d7f54653b21a9e6423925f8a.fitBounds%28%0A%20%20%20%20%20%20%20%20%20%20%20%20%20%20%20%20%5B%5B32.73124610000008%2C%20-117.11327831799997%5D%2C%20%5B32.74968014900003%2C%20-117.10863116399997%5D%5D%2C%0A%20%20%20%20%20%20%20%20%20%20%20%20%20%20%20%20%7B%7D%0A%20%20%20%20%20%20%20%20%20%20%20%20%29%3B%0A%20%20%20%20%20%20%20%20%0A%20%20%20%20%0A%20%20%20%20%20%20%20%20function%20geo_json_cad623eb009545228fb7bffadcaf47e3_styler%28feature%29%20%7B%0A%20%20%20%20%20%20%20%20%20%20%20%20switch%28feature.id%29%20%7B%0A%20%20%20%20%20%20%20%20%20%20%20%20%20%20%20%20default%3A%0A%20%20%20%20%20%20%20%20%20%20%20%20%20%20%20%20%20%20%20%20return%20%7B%22fillOpacity%22%3A%200.5%2C%20%22weight%22%3A%202%7D%3B%0A%20%20%20%20%20%20%20%20%20%20%20%20%7D%0A%20%20%20%20%20%20%20%20%7D%0A%20%20%20%20%20%20%20%20function%20geo_json_cad623eb009545228fb7bffadcaf47e3_highlighter%28feature%29%20%7B%0A%20%20%20%20%20%20%20%20%20%20%20%20switch%28feature.id%29%20%7B%0A%20%20%20%20%20%20%20%20%20%20%20%20%20%20%20%20default%3A%0A%20%20%20%20%20%20%20%20%20%20%20%20%20%20%20%20%20%20%20%20return%20%7B%22fillOpacity%22%3A%200.75%7D%3B%0A%20%20%20%20%20%20%20%20%20%20%20%20%7D%0A%20%20%20%20%20%20%20%20%7D%0A%20%20%20%20%20%20%20%20function%20geo_json_cad623eb009545228fb7bffadcaf47e3_pointToLayer%28feature%2C%20latlng%29%20%7B%0A%20%20%20%20%20%20%20%20%20%20%20%20var%20opts%20%3D%20%7B%22bubblingMouseEvents%22%3A%20true%2C%20%22color%22%3A%20%22%233388ff%22%2C%20%22dashArray%22%3A%20null%2C%20%22dashOffset%22%3A%20null%2C%20%22fill%22%3A%20true%2C%20%22fillColor%22%3A%20%22%233388ff%22%2C%20%22fillOpacity%22%3A%200.2%2C%20%22fillRule%22%3A%20%22evenodd%22%2C%20%22lineCap%22%3A%20%22round%22%2C%20%22lineJoin%22%3A%20%22round%22%2C%20%22opacity%22%3A%201.0%2C%20%22radius%22%3A%202%2C%20%22stroke%22%3A%20true%2C%20%22weight%22%3A%203%7D%3B%0A%20%20%20%20%20%20%20%20%20%20%20%20%0A%20%20%20%20%20%20%20%20%20%20%20%20let%20style%20%3D%20geo_json_cad623eb009545228fb7bffadcaf47e3_styler%28feature%29%0A%20%20%20%20%20%20%20%20%20%20%20%20Object.assign%28opts%2C%20style%29%0A%20%20%20%20%20%20%20%20%20%20%20%20%0A%20%20%20%20%20%20%20%20%20%20%20%20return%20new%20L.CircleMarker%28latlng%2C%20opts%29%0A%20%20%20%20%20%20%20%20%7D%0A%0A%20%20%20%20%20%20%20%20function%20geo_json_cad623eb009545228fb7bffadcaf47e3_onEachFeature%28feature%2C%20layer%29%20%7B%0A%20%20%20%20%20%20%20%20%20%20%20%20layer.on%28%7B%0A%20%20%20%20%20%20%20%20%20%20%20%20%20%20%20%20mouseout%3A%20function%28e%29%20%7B%0A%20%20%20%20%20%20%20%20%20%20%20%20%20%20%20%20%20%20%20%20if%28typeof%20e.target.setStyle%20%3D%3D%3D%20%22function%22%29%7B%0A%20%20%20%20%20%20%20%20%20%20%20%20%20%20%20%20%20%20%20%20%20%20%20%20geo_json_cad623eb009545228fb7bffadcaf47e3.resetStyle%28e.target%29%3B%0A%20%20%20%20%20%20%20%20%20%20%20%20%20%20%20%20%20%20%20%20%7D%0A%20%20%20%20%20%20%20%20%20%20%20%20%20%20%20%20%7D%2C%0A%20%20%20%20%20%20%20%20%20%20%20%20%20%20%20%20mouseover%3A%20function%28e%29%20%7B%0A%20%20%20%20%20%20%20%20%20%20%20%20%20%20%20%20%20%20%20%20if%28typeof%20e.target.setStyle%20%3D%3D%3D%20%22function%22%29%7B%0A%20%20%20%20%20%20%20%20%20%20%20%20%20%20%20%20%20%20%20%20%20%20%20%20const%20highlightStyle%20%3D%20geo_json_cad623eb009545228fb7bffadcaf47e3_highlighter%28e.target.feature%29%0A%20%20%20%20%20%20%20%20%20%20%20%20%20%20%20%20%20%20%20%20%20%20%20%20e.target.setStyle%28highlightStyle%29%3B%0A%20%20%20%20%20%20%20%20%20%20%20%20%20%20%20%20%20%20%20%20%7D%0A%20%20%20%20%20%20%20%20%20%20%20%20%20%20%20%20%7D%2C%0A%20%20%20%20%20%20%20%20%20%20%20%20%7D%29%3B%0A%20%20%20%20%20%20%20%20%7D%3B%0A%20%20%20%20%20%20%20%20var%20geo_json_cad623eb009545228fb7bffadcaf47e3%20%3D%20L.geoJson%28null%2C%20%7B%0A%20%20%20%20%20%20%20%20%20%20%20%20%20%20%20%20onEachFeature%3A%20geo_json_cad623eb009545228fb7bffadcaf47e3_onEachFeature%2C%0A%20%20%20%20%20%20%20%20%20%20%20%20%0A%20%20%20%20%20%20%20%20%20%20%20%20%20%20%20%20style%3A%20geo_json_cad623eb009545228fb7bffadcaf47e3_styler%2C%0A%20%20%20%20%20%20%20%20%20%20%20%20%20%20%20%20pointToLayer%3A%20geo_json_cad623eb009545228fb7bffadcaf47e3_pointToLayer%0A%20%20%20%20%20%20%20%20%7D%29%3B%0A%0A%20%20%20%20%20%20%20%20function%20geo_json_cad623eb009545228fb7bffadcaf47e3_add%20%28data%29%20%7B%0A%20%20%20%20%20%20%20%20%20%20%20%20geo_json_cad623eb009545228fb7bffadcaf47e3%0A%20%20%20%20%20%20%20%20%20%20%20%20%20%20%20%20.addData%28data%29%0A%20%20%20%20%20%20%20%20%20%20%20%20%20%20%20%20.addTo%28map_28ed6aa8d7f54653b21a9e6423925f8a%29%3B%0A%20%20%20%20%20%20%20%20%7D%0A%20%20%20%20%20%20%20%20%20%20%20%20geo_json_cad623eb009545228fb7bffadcaf47e3_add%28%7B%22bbox%22%3A%20%5B-117.11327831799997%2C%2032.73124610000008%2C%20-117.10863116399997%2C%2032.74968014900003%5D%2C%20%22features%22%3A%20%5B%7B%22bbox%22%3A%20%5B-117.11327831799997%2C%2032.73124610000008%2C%20-117.10863116399997%2C%2032.74968014900003%5D%2C%20%22geometry%22%3A%20%7B%22coordinates%22%3A%20%5B%5B-117.10863116399997%2C%2032.74968014900003%2C%200.0%5D%2C%20%5B-117.10865521699998%2C%2032.74804958900006%2C%200.0%5D%2C%20%5B-117.10867927099997%2C%2032.746835754000074%2C%200.0%5D%2C%20%5B-117.10880434899997%2C%2032.74621264500007%2C%200.0%5D%2C%20%5B-117.10901602099995%2C%2032.745617856000024%2C%200.0%5D%2C%20%5B-117.10941049999997%2C%2032.744897629000036%2C%200.0%5D%2C%20%5B-117.11000702899997%2C%2032.74406814800005%2C%200.0%5D%2C%20%5B-117.11132997699997%2C%2032.742655987000035%2C%200.0%5D%2C%20%5B-117.11227768799995%2C%2032.74166462900007%2C%200.0%5D%2C%20%5B-117.11267697799997%2C%2032.741053624000074%2C%200.0%5D%2C%20%5B-117.11298005299994%2C%2032.740434521000054%2C%200.0%5D%2C%20%5B-117.11313880699998%2C%2032.74001369100006%2C%200.0%5D%2C%20%5B-117.11327831799997%2C%2032.73935006900007%2C%200.0%5D%2C%20%5B-117.11327831799997%2C%2032.738285838000024%2C%200.0%5D%2C%20%5B-117.11317729299998%2C%2032.73754936500006%2C%200.0%5D%2C%20%5B-117.11273470699996%2C%2032.73633943400006%2C%200.0%5D%2C%20%5B-117.11210931299996%2C%2032.734544225000036%2C%200.0%5D%2C%20%5B-117.11176294099994%2C%2032.73347588900003%2C%200.0%5D%2C%20%5B-117.11163305199995%2C%2032.73286482700007%2C%200.0%5D%2C%20%5B-117.111505567%2C%2032.73205951400007%2C%200.0%5D%2C%20%5B-117.11145986599996%2C%2032.73124610000008%2C%200.0%5D%5D%2C%20%22type%22%3A%20%22LineString%22%7D%2C%20%22id%22%3A%20%228%22%2C%20%22properties%22%3A%20%7B%22Bus_Brdng_Islnds%22%3A%20null%2C%20%22CT_District%22%3A%20%2211%22%2C%20%22Centerline_Miles%22%3A%204.66%2C%20%22County%22%3A%20%22SD%22%2C%20%22CreationDate%22%3A%201693251188000%2C%20%22EditDate%22%3A%201693421427000%2C%20%22Geom_Priority_Intervention_Type%22%3A%20%22Bus_Only_Lane_%28full-time%29%22%2C%20%22Imprv_Site_Amnts%22%3A%20null%2C%20%22Lyr%22%3A%20%22%5C%22Lns2%5C%22%22%2C%20%22OBJECTID%22%3A%209%2C%20%22One_Side_Rdwy_Only%22%3A%20%22no%22%2C%20%22Priority_Intervention_Type_All%22%3A%20%22Bus_Only_Lane_%28full-time%29%22%2C%20%22Queue_Jumps%22%3A%20null%2C%20%22Route%22%3A%20805%2C%20%22Scrs%22%3A%20null%2C%20%22Scrs_Link%22%3A%20null%2C%20%22Shape_Length%22%3A%200.020183003862320546%2C%20%22Submitter_Email%22%3A%20%22alyssa.ahn%40dot.ca.gov%22%2C%20%22Submitter_Name%22%3A%20%22Alyssa%20Ahn%22%2C%20%22Transit_Op_Support%22%3A%20%22yes%22%2C%20%22geo_comments%22%3A%20%22Route%2015%20PM%20R3.30/M4.66%20%28to%20University%20Avenue%20OC%20at%20Transit%20Hub%29%20NB%20and%20SB%20%22%7D%2C%20%22type%22%3A%20%22Feature%22%7D%5D%2C%20%22type%22%3A%20%22FeatureCollection%22%7D%29%3B%0A%0A%20%20%20%20%20%20%20%20%0A%20%20%20%20%0A%20%20%20%20geo_json_cad623eb009545228fb7bffadcaf47e3.bindTooltip%28%0A%20%20%20%20function%28layer%29%7B%0A%20%20%20%20let%20div%20%3D%20L.DomUtil.create%28%27div%27%29%3B%0A%20%20%20%20%0A%20%20%20%20let%20handleObject%20%3D%20feature%3D%3Etypeof%28feature%29%3D%3D%27object%27%20%3F%20JSON.stringify%28feature%29%20%3A%20feature%3B%0A%20%20%20%20let%20fields%20%3D%20%5B%22OBJECTID%22%2C%20%22Submitter_Name%22%2C%20%22Submitter_Email%22%2C%20%22Priority_Intervention_Type_All%22%2C%20%22Scrs%22%2C%20%22Scrs_Link%22%2C%20%22Centerline_Miles%22%2C%20%22One_Side_Rdwy_Only%22%2C%20%22Queue_Jumps%22%2C%20%22Bus_Brdng_Islnds%22%2C%20%22Imprv_Site_Amnts%22%2C%20%22Transit_Op_Support%22%2C%20%22CT_District%22%2C%20%22County%22%2C%20%22Route%22%2C%20%22Geom_Priority_Intervention_Type%22%2C%20%22geo_comments%22%2C%20%22CreationDate%22%2C%20%22Lyr%22%2C%20%22EditDate%22%2C%20%22Shape_Length%22%5D%3B%0A%20%20%20%20let%20aliases%20%3D%20%5B%22OBJECTID%22%2C%20%22Submitter_Name%22%2C%20%22Submitter_Email%22%2C%20%22Priority_Intervention_Type_All%22%2C%20%22Scrs%22%2C%20%22Scrs_Link%22%2C%20%22Centerline_Miles%22%2C%20%22One_Side_Rdwy_Only%22%2C%20%22Queue_Jumps%22%2C%20%22Bus_Brdng_Islnds%22%2C%20%22Imprv_Site_Amnts%22%2C%20%22Transit_Op_Support%22%2C%20%22CT_District%22%2C%20%22County%22%2C%20%22Route%22%2C%20%22Geom_Priority_Intervention_Type%22%2C%20%22geo_comments%22%2C%20%22CreationDate%22%2C%20%22Lyr%22%2C%20%22EditDate%22%2C%20%22Shape_Length%22%5D%3B%0A%20%20%20%20let%20table%20%3D%20%27%3Ctable%3E%27%20%2B%0A%20%20%20%20%20%20%20%20String%28%0A%20%20%20%20%20%20%20%20fields.map%28%0A%20%20%20%20%20%20%20%20%28v%2Ci%29%3D%3E%0A%20%20%20%20%20%20%20%20%60%3Ctr%3E%0A%20%20%20%20%20%20%20%20%20%20%20%20%3Cth%3E%24%7Baliases%5Bi%5D%7D%3C/th%3E%0A%20%20%20%20%20%20%20%20%20%20%20%20%0A%20%20%20%20%20%20%20%20%20%20%20%20%3Ctd%3E%24%7BhandleObject%28layer.feature.properties%5Bv%5D%29%7D%3C/td%3E%0A%20%20%20%20%20%20%20%20%3C/tr%3E%60%29.join%28%27%27%29%29%0A%20%20%20%20%2B%27%3C/table%3E%27%3B%0A%20%20%20%20div.innerHTML%3Dtable%3B%0A%20%20%20%20%0A%20%20%20%20return%20div%0A%20%20%20%20%7D%0A%20%20%20%20%2C%7B%22className%22%3A%20%22foliumtooltip%22%2C%20%22sticky%22%3A%20true%7D%29%3B%0A%20%20%20%20%20%20%20%20%20%20%20%20%20%20%20%20%20%20%20%20%20%0A%3C/script%3E onload=\"this.contentDocument.open();this.contentDocument.write(    decodeURIComponent(this.getAttribute('data-html')));this.contentDocument.close();\" allowfullscreen webkitallowfullscreen mozallowfullscreen></iframe></div></div>"
      ],
      "text/plain": [
       "<folium.folium.Map at 0x7fd5b567d8e0>"
      ]
     },
     "execution_count": 50,
     "metadata": {},
     "output_type": "execute_result"
    }
   ],
   "source": [
    "line_priority.iloc[[8]].explore()"
   ]
  },
  {
   "cell_type": "code",
   "execution_count": 7,
   "id": "fc2a84e5-ee7b-4d1e-b24e-a9c63eaa3b3f",
   "metadata": {
    "tags": [
     "parameters"
    ]
   },
   "outputs": [],
   "source": [
    "## parameters cell\n",
    "itp_id = 278"
   ]
  },
  {
   "cell_type": "code",
   "execution_count": 11,
   "id": "398c82d6-bb68-46bf-b34c-a5b9100656b8",
   "metadata": {},
   "outputs": [
    {
     "data": {
      "application/vnd.jupyter.widget-view+json": {
       "model_id": "1a37ad0e6eaf40da908b216d9a6753be",
       "version_major": 2,
       "version_minor": 0
      },
      "text/plain": [
       "0it [00:00, ?it/s]"
      ]
     },
     "metadata": {},
     "output_type": "display_data"
    }
   ],
   "source": [
    "pbar = tqdm()\n",
    "\n",
    "# from rt_analysis import rt_parser\n",
    "\n",
    "# rt_day = rt_parser.OperatorDayAnalysis(itp_id,\n",
    "#                                        analysis_date, pbar)\n",
    "\n",
    "# rt_day.export_views_gcs()"
   ]
  },
  {
   "cell_type": "code",
   "execution_count": 102,
   "id": "20448d65-b6d4-4afc-a19f-33f644544e74",
   "metadata": {},
   "outputs": [],
   "source": [
    "%%capture\n",
    "rt_day = rt_filter_map_plot.from_gcs(itp_id, analysis_date, pbar)"
   ]
  },
  {
   "cell_type": "code",
   "execution_count": 103,
   "id": "634451e5-b966-4cd7-af80-70c0dbfab660",
   "metadata": {},
   "outputs": [],
   "source": [
    "rt_day.transit_priority_target_mph = 65"
   ]
  },
  {
   "cell_type": "code",
   "execution_count": 104,
   "id": "2bb30ba6-2560-479e-8d37-091e57371e05",
   "metadata": {},
   "outputs": [
    {
     "name": "stdout",
     "output_type": "stream",
     "text": [
      "{\"organization_name\": \"San Diego Metropolitan Transit System\"}\n"
     ]
    }
   ],
   "source": [
    "%%capture_parameters\n",
    "organization_name = rt_day.organization_name\n",
    "organization_name"
   ]
  },
  {
   "cell_type": "code",
   "execution_count": 105,
   "id": "d9fe013a-6ce5-4145-8f1a-a260c600c35c",
   "metadata": {},
   "outputs": [],
   "source": [
    "rt_day.set_filter(route_names = ['235'])"
   ]
  },
  {
   "cell_type": "code",
   "execution_count": 106,
   "id": "d05fe31e-672c-421d-af3f-7e08d1c1f38d",
   "metadata": {},
   "outputs": [],
   "source": [
    "_m = rt_day.segment_speed_map()"
   ]
  },
  {
   "cell_type": "code",
   "execution_count": 107,
   "id": "f23f71db-5d1a-4c4b-b2f8-e0e11d5211e4",
   "metadata": {},
   "outputs": [],
   "source": [
    "rt_day.autocorridor(shape_id = '235_0_65', stop_seq_range = [6.71, 7])"
   ]
  },
  {
   "cell_type": "code",
   "execution_count": 108,
   "id": "6a7a877e-3ea2-4c8c-a1e4-26fd8e8d6eb2",
   "metadata": {},
   "outputs": [
    {
     "data": {
      "text/html": [
       "<div>\n",
       "<style scoped>\n",
       "    .dataframe tbody tr th:only-of-type {\n",
       "        vertical-align: middle;\n",
       "    }\n",
       "\n",
       "    .dataframe tbody tr th {\n",
       "        vertical-align: top;\n",
       "    }\n",
       "\n",
       "    .dataframe thead th {\n",
       "        text-align: right;\n",
       "    }\n",
       "</style>\n",
       "<table border=\"1\" class=\"dataframe\">\n",
       "  <thead>\n",
       "    <tr style=\"text-align: right;\">\n",
       "      <th></th>\n",
       "      <th>route_short_name</th>\n",
       "    </tr>\n",
       "  </thead>\n",
       "  <tbody>\n",
       "    <tr>\n",
       "      <th>0</th>\n",
       "      <td>10</td>\n",
       "    </tr>\n",
       "    <tr>\n",
       "      <th>1</th>\n",
       "      <td>60</td>\n",
       "    </tr>\n",
       "    <tr>\n",
       "      <th>2</th>\n",
       "      <td>7</td>\n",
       "    </tr>\n",
       "    <tr>\n",
       "      <th>3</th>\n",
       "      <td>235</td>\n",
       "    </tr>\n",
       "    <tr>\n",
       "      <th>4</th>\n",
       "      <td>965</td>\n",
       "    </tr>\n",
       "  </tbody>\n",
       "</table>\n",
       "</div>"
      ],
      "text/plain": [
       "  route_short_name\n",
       "0               10\n",
       "1               60\n",
       "2                7\n",
       "3              235\n",
       "4              965"
      ]
     },
     "execution_count": 108,
     "metadata": {},
     "output_type": "execute_result"
    }
   ],
   "source": [
    "rt_day.corridor_stop_delays >> distinct(_.route_short_name)"
   ]
  },
  {
   "cell_type": "code",
   "execution_count": 109,
   "id": "4d22c3c2-7edf-4ab5-a9be-1d809e38e646",
   "metadata": {},
   "outputs": [
    {
     "name": "stdout",
     "output_type": "stream",
     "text": [
      "metrics attached to self.corridor: \n"
     ]
    },
    {
     "data": {
      "text/html": [
       "<div>\n",
       "<style scoped>\n",
       "    .dataframe tbody tr th:only-of-type {\n",
       "        vertical-align: middle;\n",
       "    }\n",
       "\n",
       "    .dataframe tbody tr th {\n",
       "        vertical-align: top;\n",
       "    }\n",
       "\n",
       "    .dataframe thead th {\n",
       "        text-align: right;\n",
       "    }\n",
       "</style>\n",
       "<table border=\"1\" class=\"dataframe\">\n",
       "  <thead>\n",
       "    <tr style=\"text-align: right;\">\n",
       "      <th></th>\n",
       "      <th>route_id</th>\n",
       "      <th>route_short_name</th>\n",
       "      <th>organization</th>\n",
       "      <th>p20_corr_mph</th>\n",
       "      <th>speed_delay_minutes</th>\n",
       "      <th>total_speed_delay</th>\n",
       "      <th>p50_runtime_minutes</th>\n",
       "      <th>n_trips</th>\n",
       "      <th>span_hours</th>\n",
       "      <th>daily_avg_trips_hr</th>\n",
       "      <th>trips_added</th>\n",
       "      <th>new_avg_trips_hr</th>\n",
       "      <th>length_miles</th>\n",
       "      <th>target_mph</th>\n",
       "      <th>geometry</th>\n",
       "    </tr>\n",
       "  </thead>\n",
       "  <tbody>\n",
       "    <tr>\n",
       "      <th>0</th>\n",
       "      <td>235</td>\n",
       "      <td>235</td>\n",
       "      <td>San Diego Metropolitan Transit System</td>\n",
       "      <td>25.0</td>\n",
       "      <td>313.9</td>\n",
       "      <td>313.9</td>\n",
       "      <td>77.0</td>\n",
       "      <td>109</td>\n",
       "      <td>14.9</td>\n",
       "      <td>3.7</td>\n",
       "      <td>4.1</td>\n",
       "      <td>3.8</td>\n",
       "      <td>1.0</td>\n",
       "      <td>65</td>\n",
       "      <td>POLYGON ((270968.467 -582950.917, 270992.769 -...</td>\n",
       "    </tr>\n",
       "  </tbody>\n",
       "</table>\n",
       "</div>"
      ],
      "text/plain": [
       "  route_id route_short_name                           organization  \\\n",
       "0      235              235  San Diego Metropolitan Transit System   \n",
       "\n",
       "   p20_corr_mph  speed_delay_minutes  total_speed_delay  p50_runtime_minutes  \\\n",
       "0          25.0                313.9              313.9                 77.0   \n",
       "\n",
       "   n_trips  span_hours  daily_avg_trips_hr  trips_added  new_avg_trips_hr  \\\n",
       "0      109        14.9                 3.7          4.1               3.8   \n",
       "\n",
       "   length_miles  target_mph                                           geometry  \n",
       "0           1.0          65  POLYGON ((270968.467 -582950.917, 270992.769 -...  "
      ]
     },
     "execution_count": 109,
     "metadata": {},
     "output_type": "execute_result"
    }
   ],
   "source": [
    "rt_day.corridor_metrics()"
   ]
  },
  {
   "cell_type": "code",
   "execution_count": 110,
   "id": "dbcf2c67-9613-44b0-836d-8a09eb2af6fd",
   "metadata": {},
   "outputs": [],
   "source": [
    "rt_day.corridor['corridor'] = 'sr15'"
   ]
  },
  {
   "cell_type": "code",
   "execution_count": 111,
   "id": "e4647cd8-96fe-468f-9ed2-b0204c10db68",
   "metadata": {},
   "outputs": [],
   "source": [
    "all_corridors = [rt_day.corridor]"
   ]
  },
  {
   "cell_type": "code",
   "execution_count": 185,
   "id": "6aa6186b-e21f-4e97-84b6-e1596ed0e2fe",
   "metadata": {},
   "outputs": [],
   "source": [
    "gdf = pd.concat(all_corridors)"
   ]
  },
  {
   "cell_type": "code",
   "execution_count": 186,
   "id": "25ecb8e2-e577-4139-9cf6-afb2c88f695e",
   "metadata": {},
   "outputs": [],
   "source": [
    "gdf = gdf.reset_index(drop=True)"
   ]
  },
  {
   "cell_type": "code",
   "execution_count": 187,
   "id": "ff44b56f-8c75-494c-adc7-98e6798f145a",
   "metadata": {},
   "outputs": [
    {
     "data": {
      "text/html": [
       "<div>\n",
       "<style scoped>\n",
       "    .dataframe tbody tr th:only-of-type {\n",
       "        vertical-align: middle;\n",
       "    }\n",
       "\n",
       "    .dataframe tbody tr th {\n",
       "        vertical-align: top;\n",
       "    }\n",
       "\n",
       "    .dataframe thead th {\n",
       "        text-align: right;\n",
       "    }\n",
       "</style>\n",
       "<table border=\"1\" class=\"dataframe\">\n",
       "  <thead>\n",
       "    <tr style=\"text-align: right;\">\n",
       "      <th></th>\n",
       "      <th>route_id</th>\n",
       "      <th>route_short_name</th>\n",
       "      <th>organization</th>\n",
       "      <th>p20_corr_mph</th>\n",
       "      <th>speed_delay_minutes</th>\n",
       "      <th>total_speed_delay</th>\n",
       "      <th>p50_runtime_minutes</th>\n",
       "      <th>n_trips</th>\n",
       "      <th>span_hours</th>\n",
       "      <th>daily_avg_trips_hr</th>\n",
       "      <th>trips_added</th>\n",
       "      <th>new_avg_trips_hr</th>\n",
       "      <th>length_miles</th>\n",
       "      <th>target_mph</th>\n",
       "      <th>geometry</th>\n",
       "      <th>corridor</th>\n",
       "    </tr>\n",
       "  </thead>\n",
       "  <tbody>\n",
       "    <tr>\n",
       "      <th>0</th>\n",
       "      <td>60</td>\n",
       "      <td>60</td>\n",
       "      <td>San Diego Metropolitan Transit System</td>\n",
       "      <td>14.0</td>\n",
       "      <td>38.9</td>\n",
       "      <td>38.9</td>\n",
       "      <td>46.4</td>\n",
       "      <td>12</td>\n",
       "      <td>12.4</td>\n",
       "      <td>0.5</td>\n",
       "      <td>0.8</td>\n",
       "      <td>0.5</td>\n",
       "      <td>1.2</td>\n",
       "      <td>65</td>\n",
       "      <td>POLYGON ((271871.035 -584286.371, 271859.772 -...</td>\n",
       "      <td>i805</td>\n",
       "    </tr>\n",
       "    <tr>\n",
       "      <th>1</th>\n",
       "      <td>225</td>\n",
       "      <td>225</td>\n",
       "      <td>San Diego Metropolitan Transit System</td>\n",
       "      <td>29.7</td>\n",
       "      <td>99.5</td>\n",
       "      <td>99.5</td>\n",
       "      <td>53.0</td>\n",
       "      <td>78</td>\n",
       "      <td>14.7</td>\n",
       "      <td>2.7</td>\n",
       "      <td>1.9</td>\n",
       "      <td>2.7</td>\n",
       "      <td>0.6</td>\n",
       "      <td>65</td>\n",
       "      <td>POLYGON ((272466.550 -585290.814, 272461.912 -...</td>\n",
       "      <td>i805</td>\n",
       "    </tr>\n",
       "  </tbody>\n",
       "</table>\n",
       "</div>"
      ],
      "text/plain": [
       "  route_id route_short_name                           organization  \\\n",
       "0       60               60  San Diego Metropolitan Transit System   \n",
       "1      225              225  San Diego Metropolitan Transit System   \n",
       "\n",
       "   p20_corr_mph  speed_delay_minutes  total_speed_delay  p50_runtime_minutes  \\\n",
       "0          14.0                 38.9               38.9                 46.4   \n",
       "1          29.7                 99.5               99.5                 53.0   \n",
       "\n",
       "   n_trips  span_hours  daily_avg_trips_hr  trips_added  new_avg_trips_hr  \\\n",
       "0       12        12.4                 0.5          0.8               0.5   \n",
       "1       78        14.7                 2.7          1.9               2.7   \n",
       "\n",
       "   length_miles  target_mph  \\\n",
       "0           1.2          65   \n",
       "1           0.6          65   \n",
       "\n",
       "                                            geometry corridor  \n",
       "0  POLYGON ((271871.035 -584286.371, 271859.772 -...     i805  \n",
       "1  POLYGON ((272466.550 -585290.814, 272461.912 -...     i805  "
      ]
     },
     "execution_count": 187,
     "metadata": {},
     "output_type": "execute_result"
    }
   ],
   "source": [
    "gdf"
   ]
  },
  {
   "cell_type": "code",
   "execution_count": 188,
   "id": "a1da08ce-e175-450a-b821-5cb0526a167b",
   "metadata": {},
   "outputs": [],
   "source": [
    "with_sd = pd.concat([gpd.read_file('./sep9_corridor_metrics_speeds.geojson'), gdf])"
   ]
  },
  {
   "cell_type": "code",
   "execution_count": 189,
   "id": "11a6a32f-45a8-42a6-9eed-651832c47f61",
   "metadata": {},
   "outputs": [],
   "source": [
    "with_sd.to_file('./sep12_corridor_metrics_speeds.geojson')"
   ]
  },
  {
   "cell_type": "code",
   "execution_count": 190,
   "id": "e224fb0f-3655-4f28-8350-227655d6db9f",
   "metadata": {},
   "outputs": [],
   "source": [
    "with_sd.to_csv('./sep12_corridor_metrics_speeds.csv')"
   ]
  },
  {
   "cell_type": "code",
   "execution_count": null,
   "id": "d24d14a4-5e30-4c03-bf35-96f2249d8585",
   "metadata": {},
   "outputs": [],
   "source": [
    "gdf.to_file('./sep9_corridor_metrics_speeds.geojson')"
   ]
  },
  {
   "cell_type": "code",
   "execution_count": null,
   "id": "792ffd12-1c4c-464d-a353-df4d73e62bb5",
   "metadata": {},
   "outputs": [],
   "source": [
    "gdf.to_csv('./sep9_corridor_metrics_speeds.csv')"
   ]
  },
  {
   "cell_type": "markdown",
   "id": "1af714fa-fac1-4fe7-bf62-11ba7fe1924f",
   "metadata": {
    "tags": []
   },
   "source": [
    "## 15 SDMTS (Bus Lane, fwy?)\n",
    "\n",
    "* existing service on only part of project\n",
    "* TODO debug?"
   ]
  },
  {
   "cell_type": "code",
   "execution_count": 67,
   "id": "010e4d55-62e5-4c21-ad7d-7e26192e394c",
   "metadata": {},
   "outputs": [
    {
     "data": {
      "text/html": [
       "<div>\n",
       "<style scoped>\n",
       "    .dataframe tbody tr th:only-of-type {\n",
       "        vertical-align: middle;\n",
       "    }\n",
       "\n",
       "    .dataframe tbody tr th {\n",
       "        vertical-align: top;\n",
       "    }\n",
       "\n",
       "    .dataframe thead th {\n",
       "        text-align: right;\n",
       "    }\n",
       "</style>\n",
       "<table border=\"1\" class=\"dataframe\">\n",
       "  <thead>\n",
       "    <tr style=\"text-align: right;\">\n",
       "      <th></th>\n",
       "      <th>OBJECTID</th>\n",
       "      <th>Submitter_Name</th>\n",
       "      <th>Submitter_Email</th>\n",
       "      <th>Priority_Intervention_Type_All</th>\n",
       "      <th>Scrs</th>\n",
       "      <th>Scrs_Link</th>\n",
       "      <th>Centerline_Miles</th>\n",
       "      <th>One_Side_Rdwy_Only</th>\n",
       "      <th>Queue_Jumps</th>\n",
       "      <th>Bus_Brdng_Islnds</th>\n",
       "      <th>...</th>\n",
       "      <th>CT_District</th>\n",
       "      <th>County</th>\n",
       "      <th>Route</th>\n",
       "      <th>Geom_Priority_Intervention_Type</th>\n",
       "      <th>geo_comments</th>\n",
       "      <th>CreationDate</th>\n",
       "      <th>Lyr</th>\n",
       "      <th>EditDate</th>\n",
       "      <th>Shape_Length</th>\n",
       "      <th>geometry</th>\n",
       "    </tr>\n",
       "  </thead>\n",
       "  <tbody>\n",
       "    <tr>\n",
       "      <th>15</th>\n",
       "      <td>16</td>\n",
       "      <td>Alyssa Ahn</td>\n",
       "      <td>alyssa.ahn@dot.ca.gov</td>\n",
       "      <td>Bus_Only_Lane_(full-time)</td>\n",
       "      <td>NaN</td>\n",
       "      <td>NaN</td>\n",
       "      <td>4.66</td>\n",
       "      <td>no</td>\n",
       "      <td>NaN</td>\n",
       "      <td>NaN</td>\n",
       "      <td>...</td>\n",
       "      <td>11</td>\n",
       "      <td>SD</td>\n",
       "      <td>805</td>\n",
       "      <td>Bus_Only_Lane_(full-time)</td>\n",
       "      <td>805 Route: PM 12.6/15.9 are the post miles for...</td>\n",
       "      <td>1693251188000</td>\n",
       "      <td>\"Lns1\"</td>\n",
       "      <td>1693421431000</td>\n",
       "      <td>0.050295</td>\n",
       "      <td>LINESTRING Z (-117.12200 32.74793 0.00000, -11...</td>\n",
       "    </tr>\n",
       "  </tbody>\n",
       "</table>\n",
       "<p>1 rows × 22 columns</p>\n",
       "</div>"
      ],
      "text/plain": [
       "    OBJECTID Submitter_Name        Submitter_Email  \\\n",
       "15        16     Alyssa Ahn  alyssa.ahn@dot.ca.gov   \n",
       "\n",
       "   Priority_Intervention_Type_All Scrs Scrs_Link  Centerline_Miles  \\\n",
       "15      Bus_Only_Lane_(full-time)  NaN       NaN              4.66   \n",
       "\n",
       "   One_Side_Rdwy_Only  Queue_Jumps  Bus_Brdng_Islnds  ...  CT_District County  \\\n",
       "15                 no          NaN               NaN  ...           11     SD   \n",
       "\n",
       "   Route Geom_Priority_Intervention_Type  \\\n",
       "15   805       Bus_Only_Lane_(full-time)   \n",
       "\n",
       "                                         geo_comments   CreationDate     Lyr  \\\n",
       "15  805 Route: PM 12.6/15.9 are the post miles for...  1693251188000  \"Lns1\"   \n",
       "\n",
       "         EditDate Shape_Length  \\\n",
       "15  1693421431000     0.050295   \n",
       "\n",
       "                                             geometry  \n",
       "15  LINESTRING Z (-117.12200 32.74793 0.00000, -11...  \n",
       "\n",
       "[1 rows x 22 columns]"
      ]
     },
     "execution_count": 67,
     "metadata": {},
     "output_type": "execute_result"
    }
   ],
   "source": [
    "line_priority.iloc[[15]]"
   ]
  },
  {
   "cell_type": "code",
   "execution_count": 68,
   "id": "6a9d8e15-e88b-46d8-a579-20406368914a",
   "metadata": {},
   "outputs": [
    {
     "data": {
      "text/plain": [
       "'805 Route: PM 12.6/15.9 are the post miles for the entire 805 Route project both NB and SB. PM 13.99/14.45 (from NB begin of Transit Only Lane to Begin Bridge of SR-15 Transit only Connector) '"
      ]
     },
     "execution_count": 68,
     "metadata": {},
     "output_type": "execute_result"
    }
   ],
   "source": [
    "line_priority.iloc[[15]].geo_comments.iloc[0]"
   ]
  },
  {
   "cell_type": "code",
   "execution_count": 69,
   "id": "e71377d2-2c2d-43be-ad20-8ef44445a1f0",
   "metadata": {},
   "outputs": [
    {
     "data": {
      "text/html": [
       "<div style=\"width:100%;\"><div style=\"position:relative;width:100%;height:0;padding-bottom:60%;\"><span style=\"color:#565656\">Make this Notebook Trusted to load map: File -> Trust Notebook</span><iframe src=\"about:blank\" style=\"position:absolute;width:100%;height:100%;left:0;top:0;border:none !important;\" data-html=%3C%21DOCTYPE%20html%3E%0A%3Chead%3E%20%20%20%20%0A%20%20%20%20%3Cmeta%20http-equiv%3D%22content-type%22%20content%3D%22text/html%3B%20charset%3DUTF-8%22%20/%3E%0A%20%20%20%20%0A%20%20%20%20%20%20%20%20%3Cscript%3E%0A%20%20%20%20%20%20%20%20%20%20%20%20L_NO_TOUCH%20%3D%20false%3B%0A%20%20%20%20%20%20%20%20%20%20%20%20L_DISABLE_3D%20%3D%20false%3B%0A%20%20%20%20%20%20%20%20%3C/script%3E%0A%20%20%20%20%0A%20%20%20%20%3Cstyle%3Ehtml%2C%20body%20%7Bwidth%3A%20100%25%3Bheight%3A%20100%25%3Bmargin%3A%200%3Bpadding%3A%200%3B%7D%3C/style%3E%0A%20%20%20%20%3Cstyle%3E%23map%20%7Bposition%3Aabsolute%3Btop%3A0%3Bbottom%3A0%3Bright%3A0%3Bleft%3A0%3B%7D%3C/style%3E%0A%20%20%20%20%3Cscript%20src%3D%22https%3A//cdn.jsdelivr.net/npm/leaflet%401.6.0/dist/leaflet.js%22%3E%3C/script%3E%0A%20%20%20%20%3Cscript%20src%3D%22https%3A//code.jquery.com/jquery-1.12.4.min.js%22%3E%3C/script%3E%0A%20%20%20%20%3Cscript%20src%3D%22https%3A//maxcdn.bootstrapcdn.com/bootstrap/3.2.0/js/bootstrap.min.js%22%3E%3C/script%3E%0A%20%20%20%20%3Cscript%20src%3D%22https%3A//cdnjs.cloudflare.com/ajax/libs/Leaflet.awesome-markers/2.0.2/leaflet.awesome-markers.js%22%3E%3C/script%3E%0A%20%20%20%20%3Clink%20rel%3D%22stylesheet%22%20href%3D%22https%3A//cdn.jsdelivr.net/npm/leaflet%401.6.0/dist/leaflet.css%22/%3E%0A%20%20%20%20%3Clink%20rel%3D%22stylesheet%22%20href%3D%22https%3A//maxcdn.bootstrapcdn.com/bootstrap/3.2.0/css/bootstrap.min.css%22/%3E%0A%20%20%20%20%3Clink%20rel%3D%22stylesheet%22%20href%3D%22https%3A//maxcdn.bootstrapcdn.com/bootstrap/3.2.0/css/bootstrap-theme.min.css%22/%3E%0A%20%20%20%20%3Clink%20rel%3D%22stylesheet%22%20href%3D%22https%3A//maxcdn.bootstrapcdn.com/font-awesome/4.6.3/css/font-awesome.min.css%22/%3E%0A%20%20%20%20%3Clink%20rel%3D%22stylesheet%22%20href%3D%22https%3A//cdnjs.cloudflare.com/ajax/libs/Leaflet.awesome-markers/2.0.2/leaflet.awesome-markers.css%22/%3E%0A%20%20%20%20%3Clink%20rel%3D%22stylesheet%22%20href%3D%22https%3A//cdn.jsdelivr.net/gh/python-visualization/folium/folium/templates/leaflet.awesome.rotate.min.css%22/%3E%0A%20%20%20%20%0A%20%20%20%20%20%20%20%20%20%20%20%20%3Cmeta%20name%3D%22viewport%22%20content%3D%22width%3Ddevice-width%2C%0A%20%20%20%20%20%20%20%20%20%20%20%20%20%20%20%20initial-scale%3D1.0%2C%20maximum-scale%3D1.0%2C%20user-scalable%3Dno%22%20/%3E%0A%20%20%20%20%20%20%20%20%20%20%20%20%3Cstyle%3E%0A%20%20%20%20%20%20%20%20%20%20%20%20%20%20%20%20%23map_fa6cd7f6822441f8899c51c105f8cb0e%20%7B%0A%20%20%20%20%20%20%20%20%20%20%20%20%20%20%20%20%20%20%20%20position%3A%20relative%3B%0A%20%20%20%20%20%20%20%20%20%20%20%20%20%20%20%20%20%20%20%20width%3A%20100.0%25%3B%0A%20%20%20%20%20%20%20%20%20%20%20%20%20%20%20%20%20%20%20%20height%3A%20100.0%25%3B%0A%20%20%20%20%20%20%20%20%20%20%20%20%20%20%20%20%20%20%20%20left%3A%200.0%25%3B%0A%20%20%20%20%20%20%20%20%20%20%20%20%20%20%20%20%20%20%20%20top%3A%200.0%25%3B%0A%20%20%20%20%20%20%20%20%20%20%20%20%20%20%20%20%7D%0A%20%20%20%20%20%20%20%20%20%20%20%20%3C/style%3E%0A%20%20%20%20%20%20%20%20%0A%20%20%20%20%0A%20%20%20%20%20%20%20%20%20%20%20%20%20%20%20%20%20%20%20%20%3Cstyle%3E%0A%20%20%20%20%20%20%20%20%20%20%20%20%20%20%20%20%20%20%20%20%20%20%20%20.foliumtooltip%20%7B%0A%20%20%20%20%20%20%20%20%20%20%20%20%20%20%20%20%20%20%20%20%20%20%20%20%20%20%20%20%0A%20%20%20%20%20%20%20%20%20%20%20%20%20%20%20%20%20%20%20%20%20%20%20%20%7D%0A%20%20%20%20%20%20%20%20%20%20%20%20%20%20%20%20%20%20%20%20%20%20%20.foliumtooltip%20table%7B%0A%20%20%20%20%20%20%20%20%20%20%20%20%20%20%20%20%20%20%20%20%20%20%20%20%20%20%20%20margin%3A%20auto%3B%0A%20%20%20%20%20%20%20%20%20%20%20%20%20%20%20%20%20%20%20%20%20%20%20%20%7D%0A%20%20%20%20%20%20%20%20%20%20%20%20%20%20%20%20%20%20%20%20%20%20%20%20.foliumtooltip%20tr%7B%0A%20%20%20%20%20%20%20%20%20%20%20%20%20%20%20%20%20%20%20%20%20%20%20%20%20%20%20%20text-align%3A%20left%3B%0A%20%20%20%20%20%20%20%20%20%20%20%20%20%20%20%20%20%20%20%20%20%20%20%20%7D%0A%20%20%20%20%20%20%20%20%20%20%20%20%20%20%20%20%20%20%20%20%20%20%20%20.foliumtooltip%20th%7B%0A%20%20%20%20%20%20%20%20%20%20%20%20%20%20%20%20%20%20%20%20%20%20%20%20%20%20%20%20padding%3A%202px%3B%20padding-right%3A%208px%3B%0A%20%20%20%20%20%20%20%20%20%20%20%20%20%20%20%20%20%20%20%20%20%20%20%20%7D%0A%20%20%20%20%20%20%20%20%20%20%20%20%20%20%20%20%20%20%20%20%3C/style%3E%0A%20%20%20%20%20%20%20%20%20%20%20%20%0A%3C/head%3E%0A%3Cbody%3E%20%20%20%20%0A%20%20%20%20%0A%20%20%20%20%20%20%20%20%20%20%20%20%3Cdiv%20class%3D%22folium-map%22%20id%3D%22map_fa6cd7f6822441f8899c51c105f8cb0e%22%20%3E%3C/div%3E%0A%20%20%20%20%20%20%20%20%0A%3C/body%3E%0A%3Cscript%3E%20%20%20%20%0A%20%20%20%20%0A%20%20%20%20%20%20%20%20%20%20%20%20var%20map_fa6cd7f6822441f8899c51c105f8cb0e%20%3D%20L.map%28%0A%20%20%20%20%20%20%20%20%20%20%20%20%20%20%20%20%22map_fa6cd7f6822441f8899c51c105f8cb0e%22%2C%0A%20%20%20%20%20%20%20%20%20%20%20%20%20%20%20%20%7B%0A%20%20%20%20%20%20%20%20%20%20%20%20%20%20%20%20%20%20%20%20center%3A%20%5B32.72761588100005%2C%20-117.10941515999994%5D%2C%0A%20%20%20%20%20%20%20%20%20%20%20%20%20%20%20%20%20%20%20%20crs%3A%20L.CRS.EPSG3857%2C%0A%20%20%20%20%20%20%20%20%20%20%20%20%20%20%20%20%20%20%20%20zoom%3A%2010%2C%0A%20%20%20%20%20%20%20%20%20%20%20%20%20%20%20%20%20%20%20%20zoomControl%3A%20true%2C%0A%20%20%20%20%20%20%20%20%20%20%20%20%20%20%20%20%20%20%20%20preferCanvas%3A%20false%2C%0A%20%20%20%20%20%20%20%20%20%20%20%20%20%20%20%20%7D%0A%20%20%20%20%20%20%20%20%20%20%20%20%29%3B%0A%20%20%20%20%20%20%20%20%20%20%20%20L.control.scale%28%29.addTo%28map_fa6cd7f6822441f8899c51c105f8cb0e%29%3B%0A%0A%20%20%20%20%20%20%20%20%20%20%20%20%0A%0A%20%20%20%20%20%20%20%20%0A%20%20%20%20%0A%20%20%20%20%20%20%20%20%20%20%20%20var%20tile_layer_1cb9da711a6f449485205c69c95dfde5%20%3D%20L.tileLayer%28%0A%20%20%20%20%20%20%20%20%20%20%20%20%20%20%20%20%22https%3A//%7Bs%7D.tile.openstreetmap.org/%7Bz%7D/%7Bx%7D/%7By%7D.png%22%2C%0A%20%20%20%20%20%20%20%20%20%20%20%20%20%20%20%20%7B%22attribution%22%3A%20%22Data%20by%20%5Cu0026copy%3B%20%5Cu003ca%20href%3D%5C%22http%3A//openstreetmap.org%5C%22%5Cu003eOpenStreetMap%5Cu003c/a%5Cu003e%2C%20under%20%5Cu003ca%20href%3D%5C%22http%3A//www.openstreetmap.org/copyright%5C%22%5Cu003eODbL%5Cu003c/a%5Cu003e.%22%2C%20%22detectRetina%22%3A%20false%2C%20%22maxNativeZoom%22%3A%2018%2C%20%22maxZoom%22%3A%2018%2C%20%22minZoom%22%3A%200%2C%20%22noWrap%22%3A%20false%2C%20%22opacity%22%3A%201%2C%20%22subdomains%22%3A%20%22abc%22%2C%20%22tms%22%3A%20false%7D%0A%20%20%20%20%20%20%20%20%20%20%20%20%29.addTo%28map_fa6cd7f6822441f8899c51c105f8cb0e%29%3B%0A%20%20%20%20%20%20%20%20%0A%20%20%20%20%0A%20%20%20%20%20%20%20%20%20%20%20%20map_fa6cd7f6822441f8899c51c105f8cb0e.fitBounds%28%0A%20%20%20%20%20%20%20%20%20%20%20%20%20%20%20%20%5B%5B32.70729748200006%2C%20-117.12199650799994%5D%2C%20%5B32.74793428000004%2C%20-117.09683381199994%5D%5D%2C%0A%20%20%20%20%20%20%20%20%20%20%20%20%20%20%20%20%7B%7D%0A%20%20%20%20%20%20%20%20%20%20%20%20%29%3B%0A%20%20%20%20%20%20%20%20%0A%20%20%20%20%0A%20%20%20%20%20%20%20%20function%20geo_json_c9cd33d697584bd0970eaf39a079ca4c_styler%28feature%29%20%7B%0A%20%20%20%20%20%20%20%20%20%20%20%20switch%28feature.id%29%20%7B%0A%20%20%20%20%20%20%20%20%20%20%20%20%20%20%20%20default%3A%0A%20%20%20%20%20%20%20%20%20%20%20%20%20%20%20%20%20%20%20%20return%20%7B%22fillOpacity%22%3A%200.5%2C%20%22weight%22%3A%202%7D%3B%0A%20%20%20%20%20%20%20%20%20%20%20%20%7D%0A%20%20%20%20%20%20%20%20%7D%0A%20%20%20%20%20%20%20%20function%20geo_json_c9cd33d697584bd0970eaf39a079ca4c_highlighter%28feature%29%20%7B%0A%20%20%20%20%20%20%20%20%20%20%20%20switch%28feature.id%29%20%7B%0A%20%20%20%20%20%20%20%20%20%20%20%20%20%20%20%20default%3A%0A%20%20%20%20%20%20%20%20%20%20%20%20%20%20%20%20%20%20%20%20return%20%7B%22fillOpacity%22%3A%200.75%7D%3B%0A%20%20%20%20%20%20%20%20%20%20%20%20%7D%0A%20%20%20%20%20%20%20%20%7D%0A%20%20%20%20%20%20%20%20function%20geo_json_c9cd33d697584bd0970eaf39a079ca4c_pointToLayer%28feature%2C%20latlng%29%20%7B%0A%20%20%20%20%20%20%20%20%20%20%20%20var%20opts%20%3D%20%7B%22bubblingMouseEvents%22%3A%20true%2C%20%22color%22%3A%20%22%233388ff%22%2C%20%22dashArray%22%3A%20null%2C%20%22dashOffset%22%3A%20null%2C%20%22fill%22%3A%20true%2C%20%22fillColor%22%3A%20%22%233388ff%22%2C%20%22fillOpacity%22%3A%200.2%2C%20%22fillRule%22%3A%20%22evenodd%22%2C%20%22lineCap%22%3A%20%22round%22%2C%20%22lineJoin%22%3A%20%22round%22%2C%20%22opacity%22%3A%201.0%2C%20%22radius%22%3A%202%2C%20%22stroke%22%3A%20true%2C%20%22weight%22%3A%203%7D%3B%0A%20%20%20%20%20%20%20%20%20%20%20%20%0A%20%20%20%20%20%20%20%20%20%20%20%20let%20style%20%3D%20geo_json_c9cd33d697584bd0970eaf39a079ca4c_styler%28feature%29%0A%20%20%20%20%20%20%20%20%20%20%20%20Object.assign%28opts%2C%20style%29%0A%20%20%20%20%20%20%20%20%20%20%20%20%0A%20%20%20%20%20%20%20%20%20%20%20%20return%20new%20L.CircleMarker%28latlng%2C%20opts%29%0A%20%20%20%20%20%20%20%20%7D%0A%0A%20%20%20%20%20%20%20%20function%20geo_json_c9cd33d697584bd0970eaf39a079ca4c_onEachFeature%28feature%2C%20layer%29%20%7B%0A%20%20%20%20%20%20%20%20%20%20%20%20layer.on%28%7B%0A%20%20%20%20%20%20%20%20%20%20%20%20%20%20%20%20mouseout%3A%20function%28e%29%20%7B%0A%20%20%20%20%20%20%20%20%20%20%20%20%20%20%20%20%20%20%20%20if%28typeof%20e.target.setStyle%20%3D%3D%3D%20%22function%22%29%7B%0A%20%20%20%20%20%20%20%20%20%20%20%20%20%20%20%20%20%20%20%20%20%20%20%20geo_json_c9cd33d697584bd0970eaf39a079ca4c.resetStyle%28e.target%29%3B%0A%20%20%20%20%20%20%20%20%20%20%20%20%20%20%20%20%20%20%20%20%7D%0A%20%20%20%20%20%20%20%20%20%20%20%20%20%20%20%20%7D%2C%0A%20%20%20%20%20%20%20%20%20%20%20%20%20%20%20%20mouseover%3A%20function%28e%29%20%7B%0A%20%20%20%20%20%20%20%20%20%20%20%20%20%20%20%20%20%20%20%20if%28typeof%20e.target.setStyle%20%3D%3D%3D%20%22function%22%29%7B%0A%20%20%20%20%20%20%20%20%20%20%20%20%20%20%20%20%20%20%20%20%20%20%20%20const%20highlightStyle%20%3D%20geo_json_c9cd33d697584bd0970eaf39a079ca4c_highlighter%28e.target.feature%29%0A%20%20%20%20%20%20%20%20%20%20%20%20%20%20%20%20%20%20%20%20%20%20%20%20e.target.setStyle%28highlightStyle%29%3B%0A%20%20%20%20%20%20%20%20%20%20%20%20%20%20%20%20%20%20%20%20%7D%0A%20%20%20%20%20%20%20%20%20%20%20%20%20%20%20%20%7D%2C%0A%20%20%20%20%20%20%20%20%20%20%20%20%7D%29%3B%0A%20%20%20%20%20%20%20%20%7D%3B%0A%20%20%20%20%20%20%20%20var%20geo_json_c9cd33d697584bd0970eaf39a079ca4c%20%3D%20L.geoJson%28null%2C%20%7B%0A%20%20%20%20%20%20%20%20%20%20%20%20%20%20%20%20onEachFeature%3A%20geo_json_c9cd33d697584bd0970eaf39a079ca4c_onEachFeature%2C%0A%20%20%20%20%20%20%20%20%20%20%20%20%0A%20%20%20%20%20%20%20%20%20%20%20%20%20%20%20%20style%3A%20geo_json_c9cd33d697584bd0970eaf39a079ca4c_styler%2C%0A%20%20%20%20%20%20%20%20%20%20%20%20%20%20%20%20pointToLayer%3A%20geo_json_c9cd33d697584bd0970eaf39a079ca4c_pointToLayer%0A%20%20%20%20%20%20%20%20%7D%29%3B%0A%0A%20%20%20%20%20%20%20%20function%20geo_json_c9cd33d697584bd0970eaf39a079ca4c_add%20%28data%29%20%7B%0A%20%20%20%20%20%20%20%20%20%20%20%20geo_json_c9cd33d697584bd0970eaf39a079ca4c%0A%20%20%20%20%20%20%20%20%20%20%20%20%20%20%20%20.addData%28data%29%0A%20%20%20%20%20%20%20%20%20%20%20%20%20%20%20%20.addTo%28map_fa6cd7f6822441f8899c51c105f8cb0e%29%3B%0A%20%20%20%20%20%20%20%20%7D%0A%20%20%20%20%20%20%20%20%20%20%20%20geo_json_c9cd33d697584bd0970eaf39a079ca4c_add%28%7B%22bbox%22%3A%20%5B-117.12199650799994%2C%2032.70729748200006%2C%20-117.09683381199994%2C%2032.74793428000004%5D%2C%20%22features%22%3A%20%5B%7B%22bbox%22%3A%20%5B-117.12199650799994%2C%2032.70729748200006%2C%20-117.09683381199994%2C%2032.74793428000004%5D%2C%20%22geometry%22%3A%20%7B%22coordinates%22%3A%20%5B%5B-117.12199650799994%2C%2032.74793428000004%2C%200.0%5D%2C%20%5B-117.11616717299995%2C%2032.74079935200007%2C%200.0%5D%2C%20%5B-117.11353503299995%2C%2032.73521614200007%2C%200.0%5D%2C%20%5B-117.11164675799995%2C%2032.731903954000074%2C%200.0%5D%2C%20%5B-117.10890017599996%2C%2032.73041177500005%2C%200.0%5D%2C%20%5B-117.10621796699996%2C%2032.72886504200005%2C%200.0%5D%2C%20%5B-117.10470162399997%2C%2032.72746908600004%2C%200.0%5D%2C%20%5B-117.10361443599999%2C%2032.72568800600004%2C%200.0%5D%2C%20%5B-117.10284195899999%2C%2032.724099445000036%2C%200.0%5D%2C%20%5B-117.10267029699997%2C%2032.722246090000056%2C%200.0%5D%2C%20%5B-117.10295639999998%2C%2032.71863554400005%2C%200.0%5D%2C%20%5B-117.10298500999994%2C%2032.71620436200004%2C%200.0%5D%2C%20%5B-117.10241280599996%2C%2032.713965690000066%2C%200.0%5D%2C%20%5B-117.10135422699994%2C%2032.71213619400004%2C%200.0%5D%2C%20%5B-117.09683381199994%2C%2032.70729748200006%2C%200.0%5D%5D%2C%20%22type%22%3A%20%22LineString%22%7D%2C%20%22id%22%3A%20%2215%22%2C%20%22properties%22%3A%20%7B%22Bus_Brdng_Islnds%22%3A%20null%2C%20%22CT_District%22%3A%20%2211%22%2C%20%22Centerline_Miles%22%3A%204.66%2C%20%22County%22%3A%20%22SD%22%2C%20%22CreationDate%22%3A%201693251188000%2C%20%22EditDate%22%3A%201693421431000%2C%20%22Geom_Priority_Intervention_Type%22%3A%20%22Bus_Only_Lane_%28full-time%29%22%2C%20%22Imprv_Site_Amnts%22%3A%20null%2C%20%22Lyr%22%3A%20%22%5C%22Lns1%5C%22%22%2C%20%22OBJECTID%22%3A%2016%2C%20%22One_Side_Rdwy_Only%22%3A%20%22no%22%2C%20%22Priority_Intervention_Type_All%22%3A%20%22Bus_Only_Lane_%28full-time%29%22%2C%20%22Queue_Jumps%22%3A%20null%2C%20%22Route%22%3A%20805%2C%20%22Scrs%22%3A%20null%2C%20%22Scrs_Link%22%3A%20null%2C%20%22Shape_Length%22%3A%200.05029536794555422%2C%20%22Submitter_Email%22%3A%20%22alyssa.ahn%40dot.ca.gov%22%2C%20%22Submitter_Name%22%3A%20%22Alyssa%20Ahn%22%2C%20%22Transit_Op_Support%22%3A%20%22yes%22%2C%20%22geo_comments%22%3A%20%22805%20Route%3A%20PM%2012.6/15.9%20are%20the%20post%20miles%20for%20the%20entire%20805%20Route%20project%20both%20NB%20and%20SB.%20PM%2013.99/14.45%20%28from%20NB%20begin%20of%20Transit%20Only%20Lane%20to%20Begin%20Bridge%20of%20SR-15%20Transit%20only%20Connector%29%20%22%7D%2C%20%22type%22%3A%20%22Feature%22%7D%5D%2C%20%22type%22%3A%20%22FeatureCollection%22%7D%29%3B%0A%0A%20%20%20%20%20%20%20%20%0A%20%20%20%20%0A%20%20%20%20geo_json_c9cd33d697584bd0970eaf39a079ca4c.bindTooltip%28%0A%20%20%20%20function%28layer%29%7B%0A%20%20%20%20let%20div%20%3D%20L.DomUtil.create%28%27div%27%29%3B%0A%20%20%20%20%0A%20%20%20%20let%20handleObject%20%3D%20feature%3D%3Etypeof%28feature%29%3D%3D%27object%27%20%3F%20JSON.stringify%28feature%29%20%3A%20feature%3B%0A%20%20%20%20let%20fields%20%3D%20%5B%22OBJECTID%22%2C%20%22Submitter_Name%22%2C%20%22Submitter_Email%22%2C%20%22Priority_Intervention_Type_All%22%2C%20%22Scrs%22%2C%20%22Scrs_Link%22%2C%20%22Centerline_Miles%22%2C%20%22One_Side_Rdwy_Only%22%2C%20%22Queue_Jumps%22%2C%20%22Bus_Brdng_Islnds%22%2C%20%22Imprv_Site_Amnts%22%2C%20%22Transit_Op_Support%22%2C%20%22CT_District%22%2C%20%22County%22%2C%20%22Route%22%2C%20%22Geom_Priority_Intervention_Type%22%2C%20%22geo_comments%22%2C%20%22CreationDate%22%2C%20%22Lyr%22%2C%20%22EditDate%22%2C%20%22Shape_Length%22%5D%3B%0A%20%20%20%20let%20aliases%20%3D%20%5B%22OBJECTID%22%2C%20%22Submitter_Name%22%2C%20%22Submitter_Email%22%2C%20%22Priority_Intervention_Type_All%22%2C%20%22Scrs%22%2C%20%22Scrs_Link%22%2C%20%22Centerline_Miles%22%2C%20%22One_Side_Rdwy_Only%22%2C%20%22Queue_Jumps%22%2C%20%22Bus_Brdng_Islnds%22%2C%20%22Imprv_Site_Amnts%22%2C%20%22Transit_Op_Support%22%2C%20%22CT_District%22%2C%20%22County%22%2C%20%22Route%22%2C%20%22Geom_Priority_Intervention_Type%22%2C%20%22geo_comments%22%2C%20%22CreationDate%22%2C%20%22Lyr%22%2C%20%22EditDate%22%2C%20%22Shape_Length%22%5D%3B%0A%20%20%20%20let%20table%20%3D%20%27%3Ctable%3E%27%20%2B%0A%20%20%20%20%20%20%20%20String%28%0A%20%20%20%20%20%20%20%20fields.map%28%0A%20%20%20%20%20%20%20%20%28v%2Ci%29%3D%3E%0A%20%20%20%20%20%20%20%20%60%3Ctr%3E%0A%20%20%20%20%20%20%20%20%20%20%20%20%3Cth%3E%24%7Baliases%5Bi%5D%7D%3C/th%3E%0A%20%20%20%20%20%20%20%20%20%20%20%20%0A%20%20%20%20%20%20%20%20%20%20%20%20%3Ctd%3E%24%7BhandleObject%28layer.feature.properties%5Bv%5D%29%7D%3C/td%3E%0A%20%20%20%20%20%20%20%20%3C/tr%3E%60%29.join%28%27%27%29%29%0A%20%20%20%20%2B%27%3C/table%3E%27%3B%0A%20%20%20%20div.innerHTML%3Dtable%3B%0A%20%20%20%20%0A%20%20%20%20return%20div%0A%20%20%20%20%7D%0A%20%20%20%20%2C%7B%22className%22%3A%20%22foliumtooltip%22%2C%20%22sticky%22%3A%20true%7D%29%3B%0A%20%20%20%20%20%20%20%20%20%20%20%20%20%20%20%20%20%20%20%20%20%0A%3C/script%3E onload=\"this.contentDocument.open();this.contentDocument.write(    decodeURIComponent(this.getAttribute('data-html')));this.contentDocument.close();\" allowfullscreen webkitallowfullscreen mozallowfullscreen></iframe></div></div>"
      ],
      "text/plain": [
       "<folium.folium.Map at 0x7fd5b5366550>"
      ]
     },
     "execution_count": 69,
     "metadata": {},
     "output_type": "execute_result"
    }
   ],
   "source": [
    "line_priority.iloc[[15]].explore()"
   ]
  },
  {
   "cell_type": "code",
   "execution_count": 170,
   "id": "9330423a-b930-474a-83e9-5b22ca258037",
   "metadata": {},
   "outputs": [],
   "source": [
    "rt_day.transit_priority_target_mph = 65"
   ]
  },
  {
   "cell_type": "code",
   "execution_count": 171,
   "id": "d418011b-1e00-4dfb-a41d-77068c45b167",
   "metadata": {},
   "outputs": [],
   "source": [
    "rt_day.set_filter(route_names = ['60'])"
   ]
  },
  {
   "cell_type": "code",
   "execution_count": 172,
   "id": "f683d4e6-969e-4f62-be4d-cc31decef1b3",
   "metadata": {},
   "outputs": [],
   "source": [
    "_m = rt_day.segment_speed_map()"
   ]
  },
  {
   "cell_type": "code",
   "execution_count": 173,
   "id": "20c77bb4-e5cf-4b66-a294-ce95658530f4",
   "metadata": {},
   "outputs": [],
   "source": [
    "rt_day.autocorridor(shape_id = '60_0_19', stop_seq_range = [1.17, 1.67])"
   ]
  },
  {
   "cell_type": "code",
   "execution_count": 174,
   "id": "c54b0ba1-0ba7-4974-a482-72875889285b",
   "metadata": {},
   "outputs": [
    {
     "data": {
      "text/html": [
       "<div style=\"width:100%;\"><div style=\"position:relative;width:100%;height:0;padding-bottom:60%;\"><span style=\"color:#565656\">Make this Notebook Trusted to load map: File -> Trust Notebook</span><iframe src=\"about:blank\" style=\"position:absolute;width:100%;height:100%;left:0;top:0;border:none !important;\" data-html=%3C%21DOCTYPE%20html%3E%0A%3Chead%3E%20%20%20%20%0A%20%20%20%20%3Cmeta%20http-equiv%3D%22content-type%22%20content%3D%22text/html%3B%20charset%3DUTF-8%22%20/%3E%0A%20%20%20%20%0A%20%20%20%20%20%20%20%20%3Cscript%3E%0A%20%20%20%20%20%20%20%20%20%20%20%20L_NO_TOUCH%20%3D%20false%3B%0A%20%20%20%20%20%20%20%20%20%20%20%20L_DISABLE_3D%20%3D%20false%3B%0A%20%20%20%20%20%20%20%20%3C/script%3E%0A%20%20%20%20%0A%20%20%20%20%3Cstyle%3Ehtml%2C%20body%20%7Bwidth%3A%20100%25%3Bheight%3A%20100%25%3Bmargin%3A%200%3Bpadding%3A%200%3B%7D%3C/style%3E%0A%20%20%20%20%3Cstyle%3E%23map%20%7Bposition%3Aabsolute%3Btop%3A0%3Bbottom%3A0%3Bright%3A0%3Bleft%3A0%3B%7D%3C/style%3E%0A%20%20%20%20%3Cscript%20src%3D%22https%3A//cdn.jsdelivr.net/npm/leaflet%401.6.0/dist/leaflet.js%22%3E%3C/script%3E%0A%20%20%20%20%3Cscript%20src%3D%22https%3A//code.jquery.com/jquery-1.12.4.min.js%22%3E%3C/script%3E%0A%20%20%20%20%3Cscript%20src%3D%22https%3A//maxcdn.bootstrapcdn.com/bootstrap/3.2.0/js/bootstrap.min.js%22%3E%3C/script%3E%0A%20%20%20%20%3Cscript%20src%3D%22https%3A//cdnjs.cloudflare.com/ajax/libs/Leaflet.awesome-markers/2.0.2/leaflet.awesome-markers.js%22%3E%3C/script%3E%0A%20%20%20%20%3Clink%20rel%3D%22stylesheet%22%20href%3D%22https%3A//cdn.jsdelivr.net/npm/leaflet%401.6.0/dist/leaflet.css%22/%3E%0A%20%20%20%20%3Clink%20rel%3D%22stylesheet%22%20href%3D%22https%3A//maxcdn.bootstrapcdn.com/bootstrap/3.2.0/css/bootstrap.min.css%22/%3E%0A%20%20%20%20%3Clink%20rel%3D%22stylesheet%22%20href%3D%22https%3A//maxcdn.bootstrapcdn.com/bootstrap/3.2.0/css/bootstrap-theme.min.css%22/%3E%0A%20%20%20%20%3Clink%20rel%3D%22stylesheet%22%20href%3D%22https%3A//maxcdn.bootstrapcdn.com/font-awesome/4.6.3/css/font-awesome.min.css%22/%3E%0A%20%20%20%20%3Clink%20rel%3D%22stylesheet%22%20href%3D%22https%3A//cdnjs.cloudflare.com/ajax/libs/Leaflet.awesome-markers/2.0.2/leaflet.awesome-markers.css%22/%3E%0A%20%20%20%20%3Clink%20rel%3D%22stylesheet%22%20href%3D%22https%3A//cdn.jsdelivr.net/gh/python-visualization/folium/folium/templates/leaflet.awesome.rotate.min.css%22/%3E%0A%20%20%20%20%0A%20%20%20%20%20%20%20%20%20%20%20%20%3Cmeta%20name%3D%22viewport%22%20content%3D%22width%3Ddevice-width%2C%0A%20%20%20%20%20%20%20%20%20%20%20%20%20%20%20%20initial-scale%3D1.0%2C%20maximum-scale%3D1.0%2C%20user-scalable%3Dno%22%20/%3E%0A%20%20%20%20%20%20%20%20%20%20%20%20%3Cstyle%3E%0A%20%20%20%20%20%20%20%20%20%20%20%20%20%20%20%20%23map_4c81a9c698cf4e37bcce0ab385dda280%20%7B%0A%20%20%20%20%20%20%20%20%20%20%20%20%20%20%20%20%20%20%20%20position%3A%20relative%3B%0A%20%20%20%20%20%20%20%20%20%20%20%20%20%20%20%20%20%20%20%20width%3A%20100.0%25%3B%0A%20%20%20%20%20%20%20%20%20%20%20%20%20%20%20%20%20%20%20%20height%3A%20100.0%25%3B%0A%20%20%20%20%20%20%20%20%20%20%20%20%20%20%20%20%20%20%20%20left%3A%200.0%25%3B%0A%20%20%20%20%20%20%20%20%20%20%20%20%20%20%20%20%20%20%20%20top%3A%200.0%25%3B%0A%20%20%20%20%20%20%20%20%20%20%20%20%20%20%20%20%7D%0A%20%20%20%20%20%20%20%20%20%20%20%20%3C/style%3E%0A%20%20%20%20%20%20%20%20%0A%20%20%20%20%0A%20%20%20%20%20%20%20%20%20%20%20%20%20%20%20%20%20%20%20%20%3Cstyle%3E%0A%20%20%20%20%20%20%20%20%20%20%20%20%20%20%20%20%20%20%20%20%20%20%20%20.foliumtooltip%20%7B%0A%20%20%20%20%20%20%20%20%20%20%20%20%20%20%20%20%20%20%20%20%20%20%20%20%20%20%20%20%0A%20%20%20%20%20%20%20%20%20%20%20%20%20%20%20%20%20%20%20%20%20%20%20%20%7D%0A%20%20%20%20%20%20%20%20%20%20%20%20%20%20%20%20%20%20%20%20%20%20%20.foliumtooltip%20table%7B%0A%20%20%20%20%20%20%20%20%20%20%20%20%20%20%20%20%20%20%20%20%20%20%20%20%20%20%20%20margin%3A%20auto%3B%0A%20%20%20%20%20%20%20%20%20%20%20%20%20%20%20%20%20%20%20%20%20%20%20%20%7D%0A%20%20%20%20%20%20%20%20%20%20%20%20%20%20%20%20%20%20%20%20%20%20%20%20.foliumtooltip%20tr%7B%0A%20%20%20%20%20%20%20%20%20%20%20%20%20%20%20%20%20%20%20%20%20%20%20%20%20%20%20%20text-align%3A%20left%3B%0A%20%20%20%20%20%20%20%20%20%20%20%20%20%20%20%20%20%20%20%20%20%20%20%20%7D%0A%20%20%20%20%20%20%20%20%20%20%20%20%20%20%20%20%20%20%20%20%20%20%20%20.foliumtooltip%20th%7B%0A%20%20%20%20%20%20%20%20%20%20%20%20%20%20%20%20%20%20%20%20%20%20%20%20%20%20%20%20padding%3A%202px%3B%20padding-right%3A%208px%3B%0A%20%20%20%20%20%20%20%20%20%20%20%20%20%20%20%20%20%20%20%20%20%20%20%20%7D%0A%20%20%20%20%20%20%20%20%20%20%20%20%20%20%20%20%20%20%20%20%3C/style%3E%0A%20%20%20%20%20%20%20%20%20%20%20%20%0A%3C/head%3E%0A%3Cbody%3E%20%20%20%20%0A%20%20%20%20%0A%20%20%20%20%20%20%20%20%20%20%20%20%3Cdiv%20class%3D%22folium-map%22%20id%3D%22map_4c81a9c698cf4e37bcce0ab385dda280%22%20%3E%3C/div%3E%0A%20%20%20%20%20%20%20%20%0A%3C/body%3E%0A%3Cscript%3E%20%20%20%20%0A%20%20%20%20%0A%20%20%20%20%20%20%20%20%20%20%20%20var%20map_4c81a9c698cf4e37bcce0ab385dda280%20%3D%20L.map%28%0A%20%20%20%20%20%20%20%20%20%20%20%20%20%20%20%20%22map_4c81a9c698cf4e37bcce0ab385dda280%22%2C%0A%20%20%20%20%20%20%20%20%20%20%20%20%20%20%20%20%7B%0A%20%20%20%20%20%20%20%20%20%20%20%20%20%20%20%20%20%20%20%20center%3A%20%5B32.728297408462105%2C%20-117.1076579099248%5D%2C%0A%20%20%20%20%20%20%20%20%20%20%20%20%20%20%20%20%20%20%20%20crs%3A%20L.CRS.EPSG3857%2C%0A%20%20%20%20%20%20%20%20%20%20%20%20%20%20%20%20%20%20%20%20zoom%3A%2010%2C%0A%20%20%20%20%20%20%20%20%20%20%20%20%20%20%20%20%20%20%20%20zoomControl%3A%20true%2C%0A%20%20%20%20%20%20%20%20%20%20%20%20%20%20%20%20%20%20%20%20preferCanvas%3A%20false%2C%0A%20%20%20%20%20%20%20%20%20%20%20%20%20%20%20%20%7D%0A%20%20%20%20%20%20%20%20%20%20%20%20%29%3B%0A%20%20%20%20%20%20%20%20%20%20%20%20L.control.scale%28%29.addTo%28map_4c81a9c698cf4e37bcce0ab385dda280%29%3B%0A%0A%20%20%20%20%20%20%20%20%20%20%20%20%0A%0A%20%20%20%20%20%20%20%20%0A%20%20%20%20%0A%20%20%20%20%20%20%20%20%20%20%20%20var%20tile_layer_355377f84cbb40e18c6b083aa411f813%20%3D%20L.tileLayer%28%0A%20%20%20%20%20%20%20%20%20%20%20%20%20%20%20%20%22https%3A//%7Bs%7D.tile.openstreetmap.org/%7Bz%7D/%7Bx%7D/%7By%7D.png%22%2C%0A%20%20%20%20%20%20%20%20%20%20%20%20%20%20%20%20%7B%22attribution%22%3A%20%22Data%20by%20%5Cu0026copy%3B%20%5Cu003ca%20href%3D%5C%22http%3A//openstreetmap.org%5C%22%5Cu003eOpenStreetMap%5Cu003c/a%5Cu003e%2C%20under%20%5Cu003ca%20href%3D%5C%22http%3A//www.openstreetmap.org/copyright%5C%22%5Cu003eODbL%5Cu003c/a%5Cu003e.%22%2C%20%22detectRetina%22%3A%20false%2C%20%22maxNativeZoom%22%3A%2018%2C%20%22maxZoom%22%3A%2018%2C%20%22minZoom%22%3A%200%2C%20%22noWrap%22%3A%20false%2C%20%22opacity%22%3A%201%2C%20%22subdomains%22%3A%20%22abc%22%2C%20%22tms%22%3A%20false%7D%0A%20%20%20%20%20%20%20%20%20%20%20%20%29.addTo%28map_4c81a9c698cf4e37bcce0ab385dda280%29%3B%0A%20%20%20%20%20%20%20%20%0A%20%20%20%20%0A%20%20%20%20%20%20%20%20%20%20%20%20map_4c81a9c698cf4e37bcce0ab385dda280.fitBounds%28%0A%20%20%20%20%20%20%20%20%20%20%20%20%20%20%20%20%5B%5B32.7153749608791%2C%20-117.11381902987902%5D%2C%20%5B32.741219856045106%2C%20-117.10149678997058%5D%5D%2C%0A%20%20%20%20%20%20%20%20%20%20%20%20%20%20%20%20%7B%7D%0A%20%20%20%20%20%20%20%20%20%20%20%20%29%3B%0A%20%20%20%20%20%20%20%20%0A%20%20%20%20%0A%20%20%20%20%20%20%20%20function%20geo_json_3088f92037cd4e0b9a0f8026aa442a5f_styler%28feature%29%20%7B%0A%20%20%20%20%20%20%20%20%20%20%20%20switch%28feature.id%29%20%7B%0A%20%20%20%20%20%20%20%20%20%20%20%20%20%20%20%20default%3A%0A%20%20%20%20%20%20%20%20%20%20%20%20%20%20%20%20%20%20%20%20return%20%7B%22fillOpacity%22%3A%200.5%2C%20%22weight%22%3A%202%7D%3B%0A%20%20%20%20%20%20%20%20%20%20%20%20%7D%0A%20%20%20%20%20%20%20%20%7D%0A%20%20%20%20%20%20%20%20function%20geo_json_3088f92037cd4e0b9a0f8026aa442a5f_highlighter%28feature%29%20%7B%0A%20%20%20%20%20%20%20%20%20%20%20%20switch%28feature.id%29%20%7B%0A%20%20%20%20%20%20%20%20%20%20%20%20%20%20%20%20default%3A%0A%20%20%20%20%20%20%20%20%20%20%20%20%20%20%20%20%20%20%20%20return%20%7B%22fillOpacity%22%3A%200.75%7D%3B%0A%20%20%20%20%20%20%20%20%20%20%20%20%7D%0A%20%20%20%20%20%20%20%20%7D%0A%20%20%20%20%20%20%20%20function%20geo_json_3088f92037cd4e0b9a0f8026aa442a5f_pointToLayer%28feature%2C%20latlng%29%20%7B%0A%20%20%20%20%20%20%20%20%20%20%20%20var%20opts%20%3D%20%7B%22bubblingMouseEvents%22%3A%20true%2C%20%22color%22%3A%20%22%233388ff%22%2C%20%22dashArray%22%3A%20null%2C%20%22dashOffset%22%3A%20null%2C%20%22fill%22%3A%20true%2C%20%22fillColor%22%3A%20%22%233388ff%22%2C%20%22fillOpacity%22%3A%200.2%2C%20%22fillRule%22%3A%20%22evenodd%22%2C%20%22lineCap%22%3A%20%22round%22%2C%20%22lineJoin%22%3A%20%22round%22%2C%20%22opacity%22%3A%201.0%2C%20%22radius%22%3A%202%2C%20%22stroke%22%3A%20true%2C%20%22weight%22%3A%203%7D%3B%0A%20%20%20%20%20%20%20%20%20%20%20%20%0A%20%20%20%20%20%20%20%20%20%20%20%20let%20style%20%3D%20geo_json_3088f92037cd4e0b9a0f8026aa442a5f_styler%28feature%29%0A%20%20%20%20%20%20%20%20%20%20%20%20Object.assign%28opts%2C%20style%29%0A%20%20%20%20%20%20%20%20%20%20%20%20%0A%20%20%20%20%20%20%20%20%20%20%20%20return%20new%20L.CircleMarker%28latlng%2C%20opts%29%0A%20%20%20%20%20%20%20%20%7D%0A%0A%20%20%20%20%20%20%20%20function%20geo_json_3088f92037cd4e0b9a0f8026aa442a5f_onEachFeature%28feature%2C%20layer%29%20%7B%0A%20%20%20%20%20%20%20%20%20%20%20%20layer.on%28%7B%0A%20%20%20%20%20%20%20%20%20%20%20%20%20%20%20%20mouseout%3A%20function%28e%29%20%7B%0A%20%20%20%20%20%20%20%20%20%20%20%20%20%20%20%20%20%20%20%20if%28typeof%20e.target.setStyle%20%3D%3D%3D%20%22function%22%29%7B%0A%20%20%20%20%20%20%20%20%20%20%20%20%20%20%20%20%20%20%20%20%20%20%20%20geo_json_3088f92037cd4e0b9a0f8026aa442a5f.resetStyle%28e.target%29%3B%0A%20%20%20%20%20%20%20%20%20%20%20%20%20%20%20%20%20%20%20%20%7D%0A%20%20%20%20%20%20%20%20%20%20%20%20%20%20%20%20%7D%2C%0A%20%20%20%20%20%20%20%20%20%20%20%20%20%20%20%20mouseover%3A%20function%28e%29%20%7B%0A%20%20%20%20%20%20%20%20%20%20%20%20%20%20%20%20%20%20%20%20if%28typeof%20e.target.setStyle%20%3D%3D%3D%20%22function%22%29%7B%0A%20%20%20%20%20%20%20%20%20%20%20%20%20%20%20%20%20%20%20%20%20%20%20%20const%20highlightStyle%20%3D%20geo_json_3088f92037cd4e0b9a0f8026aa442a5f_highlighter%28e.target.feature%29%0A%20%20%20%20%20%20%20%20%20%20%20%20%20%20%20%20%20%20%20%20%20%20%20%20e.target.setStyle%28highlightStyle%29%3B%0A%20%20%20%20%20%20%20%20%20%20%20%20%20%20%20%20%20%20%20%20%7D%0A%20%20%20%20%20%20%20%20%20%20%20%20%20%20%20%20%7D%2C%0A%20%20%20%20%20%20%20%20%20%20%20%20%7D%29%3B%0A%20%20%20%20%20%20%20%20%7D%3B%0A%20%20%20%20%20%20%20%20var%20geo_json_3088f92037cd4e0b9a0f8026aa442a5f%20%3D%20L.geoJson%28null%2C%20%7B%0A%20%20%20%20%20%20%20%20%20%20%20%20%20%20%20%20onEachFeature%3A%20geo_json_3088f92037cd4e0b9a0f8026aa442a5f_onEachFeature%2C%0A%20%20%20%20%20%20%20%20%20%20%20%20%0A%20%20%20%20%20%20%20%20%20%20%20%20%20%20%20%20style%3A%20geo_json_3088f92037cd4e0b9a0f8026aa442a5f_styler%2C%0A%20%20%20%20%20%20%20%20%20%20%20%20%20%20%20%20pointToLayer%3A%20geo_json_3088f92037cd4e0b9a0f8026aa442a5f_pointToLayer%0A%20%20%20%20%20%20%20%20%7D%29%3B%0A%0A%20%20%20%20%20%20%20%20function%20geo_json_3088f92037cd4e0b9a0f8026aa442a5f_add%20%28data%29%20%7B%0A%20%20%20%20%20%20%20%20%20%20%20%20geo_json_3088f92037cd4e0b9a0f8026aa442a5f%0A%20%20%20%20%20%20%20%20%20%20%20%20%20%20%20%20.addData%28data%29%0A%20%20%20%20%20%20%20%20%20%20%20%20%20%20%20%20.addTo%28map_4c81a9c698cf4e37bcce0ab385dda280%29%3B%0A%20%20%20%20%20%20%20%20%7D%0A%20%20%20%20%20%20%20%20%20%20%20%20geo_json_3088f92037cd4e0b9a0f8026aa442a5f_add%28%7B%22bbox%22%3A%20%5B-117.11381902987902%2C%2032.7153749608791%2C%20-117.10149678997058%2C%2032.741219856045106%5D%2C%20%22features%22%3A%20%5B%7B%22bbox%22%3A%20%5B-117.11381902987902%2C%2032.7153749608791%2C%20-117.10149678997058%2C%2032.741219856045106%5D%2C%20%22geometry%22%3A%20%7B%22coordinates%22%3A%20%5B%5B%5B-117.10377455997418%2C%2032.71636521268274%5D%2C%20%5B-117.10386612028736%2C%2032.7171548519155%5D%2C%20%5B-117.10387014204522%2C%2032.71720239493657%5D%2C%20%5B-117.10388540582507%2C%2032.71748850480823%5D%2C%20%5B-117.10388593883312%2C%2032.71755844606282%5D%2C%20%5B-117.10387068413276%2C%2032.71795898619123%5D%2C%20%5B-117.10386194370797%2C%2032.718048881813225%5D%2C%20%5B-117.10383418776526%2C%2032.71822582713452%5D%2C%20%5B-117.10376182327762%2C%2032.718884452387954%5D%2C%20%5B-117.10375681262877%2C%2032.71896463317924%5D%2C%20%5B-117.10375681362643%2C%2032.719039914927414%5D%2C%20%5B-117.10375441615301%2C%2032.71910047727114%5D%2C%20%5B-117.10368816550398%2C%2032.719936160506286%5D%2C%20%5B-117.1036881661134%2C%2032.71998214492736%5D%2C%20%5B-117.1036881727361%2C%2032.72048186492733%5D%2C%20%5B-117.10368709563637%2C%2032.72052247366195%5D%2C%20%5B-117.10364216897251%2C%2032.721368734925434%5D%2C%20%5B-117.10362739863685%2C%2032.72264403249523%5D%2C%20%5B-117.10366292176347%2C%2032.723308099380475%5D%2C%20%5B-117.10368629017891%2C%2032.72350669339475%5D%2C%20%5B-117.10377981683263%2C%2032.72394090367123%5D%2C%20%5B-117.10409315979051%2C%2032.72503449016276%5D%2C%20%5B-117.10409315979051%2C%2032.72503449016276%5D%2C%20%5B-117.10413427338776%2C%2032.725177976783165%5D%2C%20%5B-117.10418237819303%2C%2032.72526123444365%5D%2C%20%5B-117.10422456625184%2C%2032.72534461293008%5D%2C%20%5B-117.10455281175987%2C%2032.72609537026896%5D%2C%20%5B-117.1047660608094%2C%2032.72641219175082%5D%2C%20%5B-117.10494082066724%2C%2032.726649360133244%5D%2C%20%5B-117.10567393313788%2C%2032.72745648100218%5D%2C%20%5B-117.10605491644674%2C%2032.72780738539519%5D%2C%20%5B-117.10653807347953%2C%2032.72820081304098%5D%2C%20%5B-117.10701031662305%2C%2032.728534157812796%5D%2C%20%5B-117.10739238468749%2C%2032.72878117880397%5D%2C%20%5B-117.10839990148057%2C%2032.729306844704624%5D%2C%20%5B-117.10845476299212%2C%2032.72933748436715%5D%2C%20%5B-117.10916429970432%2C%2032.72976091092662%5D%2C%20%5B-117.10921072285059%2C%2032.72979024558222%5D%2C%20%5B-117.10991262050955%2C%2032.73025945192113%5D%2C%20%5B-117.10998679074522%2C%2032.730313911579806%5D%2C%20%5B-117.11011332361315%2C%2032.730415833800116%5D%2C%20%5B-117.11059815315947%2C%2032.730785053286965%5D%2C%20%5B-117.11067904617335%2C%2032.73085365960655%5D%2C%20%5B-117.11075079095149%2C%2032.73092922465332%5D%2C%20%5B-117.11098099846001%2C%2032.73120030104907%5D%2C%20%5B-117.11098099846001%2C%2032.731200301049086%5D%2C%20%5B-117.11180365737881%2C%2032.732168987455445%5D%2C%20%5B-117.1118731180398%2C%2032.732262317408775%5D%2C%20%5B-117.11204096014811%2C%2032.73252171616909%5D%2C%20%5B-117.11207505681637%2C%2032.732579175607945%5D%2C%20%5B-117.11217423855749%2C%2032.7327622848487%5D%2C%20%5B-117.1121800697866%2C%2032.73277324218485%5D%2C%20%5B-117.11235555305662%2C%2032.73310893083332%5D%2C%20%5B-117.11238580642085%2C%2032.733173379492094%5D%2C%20%5B-117.11241013414146%2C%2032.73323960627677%5D%2C%20%5B-117.11262376211032%2C%2032.73391099453938%5D%2C%20%5B-117.11264277148774%2C%2032.73398201394045%5D%2C%20%5B-117.11308027745463%2C%2032.73598836579403%5D%2C%20%5B-117.1135850339315%2C%2032.737777529535514%5D%2C%20%5B-117.11359348837567%2C%2032.73781015278587%5D%2C%20%5B-117.11369267361214%2C%2032.73822977196659%5D%2C%20%5B-117.1137085459316%2C%2032.73832077927161%5D%2C%20%5B-117.11381536825286%2C%2032.73926300837581%5D%2C%20%5B-117.11381902987902%2C%2032.73939262774597%5D%2C%20%5B-117.11377327056529%2C%2032.74020133813113%5D%2C%20%5B-117.11376001329164%2C%2032.74030645122081%5D%2C%20%5B-117.11373235204299%2C%2032.740409530868384%5D%2C%20%5B-117.11367800419991%2C%2032.740568397615775%5D%2C%20%5B-117.11364399608425%2C%2032.74065219344443%5D%2C%20%5B-117.11360046039056%2C%2032.7407327606795%5D%2C%20%5B-117.1135478163693%2C%2032.74080932340477%5D%2C%20%5B-117.11348657099445%2C%2032.74088114426839%5D%2C%20%5B-117.11341731408193%2C%2032.74094753158415%5D%2C%20%5B-117.11334071260946%2C%2032.74100784599331%5D%2C%20%5B-117.11325750429359%2C%2032.74106150662258%5D%2C%20%5B-117.11316849048491%2C%2032.74110799667846%5D%2C%20%5B-117.11307452845024%2C%2032.741146868424984%5D%2C%20%5B-117.11297652311613%2C%2032.74117774749606%5D%2C%20%5B-117.11287541835316%2C%2032.741200336501024%5D%2C%20%5B-117.11277218788479%2C%2032.74121441788919%5D%2C%20%5B-117.11266782590901%2C%2032.741219856045106%5D%2C%20%5B-117.11256333752225%2C%2032.741216598594804%5D%2C%20%5B-117.11245972903845%2C%2032.74120467691024%5D%2C%20%5B-117.11235799829657%2C%2032.74118420580714%5D%2C%20%5B-117.11225912504943%2C%2032.74115538243912%5D%2C%20%5B-117.11216406152712%2C%2032.74111848439873%5D%2C%20%5B-117.11207372326538%2C%2032.74107386704391%5D%2C%20%5B-117.11198898028773%2C%2032.74102196007523%5D%2C%20%5B-117.111910648726%2C%2032.740963263397035%5D%2C%20%5B-117.11183948296004%2C%2032.7408983423032%5D%2C%20%5B-117.1117761683526%2C%2032.7408278220319%5D%2C%20%5B-117.111721314649%2C%2032.74075238174405%5D%2C%20%5B-117.11167545010515%2C%2032.74067274798229%5D%2C%20%5B-117.11163901640091%2C%2032.74058968767316%5D%2C%20%5B-117.11161236438717%2C%2032.74050400074123%5D%2C%20%5B-117.11159575070799%2C%2032.74041651240465%5D%2C%20%5B-117.11158933533007%2C%2032.74032806522793%5D%2C%20%5B-117.11159318000347%2C%2032.7402395110073%5D%2C%20%5B-117.11160724766823%2C%2032.74015170256735%5D%2C%20%5B-117.11163140281239%2C%2032.74006548554798%5D%2C%20%5B-117.11165083898882%2C%2032.74000867501064%5D%2C%20%5B-117.11168693613742%2C%2032.739371023428795%5D%2C%20%5B-117.1115926682596%2C%2032.7385393374768%5D%2C%20%5B-117.11150803782084%2C%2032.738181255374954%5D%2C%20%5B-117.11100147268303%2C%2032.736385516614384%5D%2C%20%5B-117.11099000867904%2C%2032.73633963987472%5D%2C%20%5B-117.11055533728042%2C%2032.73434605115248%5D%2C%20%5B-117.11037427439156%2C%2032.73377696300657%5D%2C%20%5B-117.11023489383088%2C%2032.73351032430233%5D%2C%20%5B-117.11015451398964%2C%2032.73336192072201%5D%2C%20%5B-117.11003629121714%2C%2032.73317920200396%5D%2C%20%5B-117.10925174239452%2C%2032.732255367806104%5D%2C%20%5B-117.10925174239452%2C%2032.73225536780608%5D%2C%20%5B-117.10908868105905%2C%2032.732063353761525%5D%2C%20%5B-117.10867826413909%2C%2032.73175079874015%5D%2C%20%5B-117.10865638740815%2C%2032.73173366378584%5D%2C%20%5B-117.10855466140251%2C%2032.73165172250242%5D%2C%20%5B-117.10791406681017%2C%2032.73122349226273%5D%2C%20%5B-117.10725507918055%2C%2032.73083022889102%5D%2C%20%5B-117.10623021157484%2C%2032.730295507007945%5D%2C%20%5B-117.10614256353888%2C%2032.73024449532382%5D%2C%20%5B-117.10570005188555%2C%2032.72995839306336%5D%2C%20%5B-117.10566441918711%2C%2032.729934315851054%5D%2C%20%5B-117.10514561781407%2C%2032.729568103054724%5D%2C%20%5B-117.10508931847022%2C%2032.72952540743081%5D%2C%20%5B-117.10455525813637%2C%2032.72909052431446%5D%2C%20%5B-117.10450940690414%2C%2032.72905081707188%5D%2C%20%5B-117.10407453750209%2C%2032.72865027437667%5D%2C%20%5B-117.10401431274776%2C%2032.728589668695825%5D%2C%20%5B-117.10322085648411%2C%2032.727716093400474%5D%2C%20%5B-117.10316142644267%2C%2032.72764358611983%5D%2C%20%5B-117.10294780843046%2C%2032.727353674593786%5D%2C%20%5B-117.10292605433584%2C%2032.72732279904701%5D%2C%20%5B-117.10265902741656%2C%2032.72692606709358%5D%2C%20%5B-117.1026189960388%2C%2032.72686050041401%5D%2C%20%5B-117.10258541715433%2C%2032.72679238083927%5D%2C%20%5B-117.102245465417%2C%2032.72601480693444%5D%2C%20%5B-117.1021698539044%2C%2032.725883936395974%5D%2C%20%5B-117.10212471362011%2C%2032.72579371563116%5D%2C%20%5B-117.10209137302769%2C%2032.725699879520064%5D%2C%20%5B-117.10202285713295%2C%2032.7254607377274%5D%2C%20%5B-117.10202285713295%2C%2032.72546073772738%5D%2C%20%5B-117.10170228948748%2C%2032.724341836335604%5D%2C%20%5B-117.10168952007832%2C%2032.72429090456977%5D%2C%20%5B-117.10158271632879%2C%2032.72379499368494%5D%2C%20%5B-117.1015706534212%2C%2032.72372242424919%5D%2C%20%5B-117.10154013680831%2C%2032.72346302399344%5D%2C%20%5B-117.10153597142359%2C%2032.72341430148677%5D%2C%20%5B-117.10149783084906%2C%2032.72270095116579%5D%2C%20%5B-117.10149678997058%2C%2032.72265117921135%5D%2C%20%5B-117.1015120674105%2C%2032.72133510933989%5D%2C%20%5B-117.10151309404796%2C%2032.721303375825656%5D%2C%20%5B-117.10155780753315%2C%2032.72046155028817%5D%2C%20%5B-117.10155781388663%2C%2032.71998214492736%5D%2C%20%5B-117.10155781489779%2C%2032.719905844927396%5D%2C%20%5B-117.10156021405042%2C%2032.719845282047125%5D%2C%20%5B-117.10162648677533%2C%2032.71900959963673%5D%2C%20%5B-117.10162648768807%2C%2032.7189407249274%5D%2C%20%5B-117.10162798061737%2C%2032.71889294193106%5D%2C%20%5B-117.10163561222828%2C%2032.71877087199525%5D%2C%20%5B-117.10163871247309%2C%2032.71873489553167%5D%2C%20%5B-117.1017150115545%2C%2032.71804062617138%5D%2C%20%5B-117.10171971690926%2C%2032.7180053379429%5D%2C%20%5B-117.10174321675014%2C%2032.71785555061318%5D%2C%20%5B-117.1017554288188%2C%2032.71753512316032%5D%2C%20%5B-117.10174330683726%2C%2032.7173077914766%5D%2C%20%5B-117.10166160327783%2C%2032.71660299957988%5D%2C%20%5B-117.1016288891008%2C%2032.7164865338406%5D%2C%20%5B-117.10160969305869%2C%2032.71639942383082%5D%2C%20%5B-117.1016006606452%2C%2032.71631113810845%5D%2C%20%5B-117.10160187881417%2C%2032.716222526915445%5D%2C%20%5B-117.10161333580015%2C%2032.7161344436257%5D%2C%20%5B-117.10163492123317%2C%2032.71604773652673%5D%2C%20%5B-117.10166642720282%2C%2032.71596324065011%5D%2C%20%5B-117.10170755026174%2C%2032.71588176973012%5D%2C%20%5B-117.10175789434905%2C%2032.71580410836709%5D%2C%20%5B-117.10181697460558%2C%2032.71573100447167%5D%2C%20%5B-117.10188422204398%2C%2032.715663162062604%5D%2C%20%5B-117.10195898902882%2C%2032.71560123448681%5D%2C%20%5B-117.10204055551394%2C%2032.715545818128135%5D%2C%20%5B-117.10212813597691%2C%2032.715497446663996%5D%2C%20%5B-117.10222088698362%2C%2032.71545658592645%5D%2C%20%5B-117.10231791531055%2C%2032.71542362941644%5D%2C%20%5B-117.10241828654637%2C%2032.71539889451435%5D%2C%20%5B-117.10252103408966%2C%2032.71538261942416%5D%2C%20%5B-117.10262516845695%2C%2032.7153749608791%5D%2C%20%5B-117.10272968681063%2C%2032.7153759926332%5D%2C%20%5B-117.10283358261556%2C%2032.715385704750204%5D%2C%20%5B-117.10293585533132%2C%2032.71540400369997%5D%2C%20%5B-117.10303552004666%2C%2032.71543071325877%5D%2C%20%5B-117.10313161696352%2C%2032.71546557620608%5D%2C%20%5B-117.10322322063939%2C%2032.71550825680198%5D%2C%20%5B-117.10330944889888%2C%2032.71555834401961%5D%2C%20%5B-117.10338947132892%2C%2032.71561535550346%5D%2C%20%5B-117.10346251727559%2C%2032.71567874221427%5D%2C%20%5B-117.10352788326568%2C%2032.715747893716006%5D%2C%20%5B-117.10358493978167%2C%2032.71582214405433%5D%2C%20%5B-117.1036331373244%2C%2032.71590077816935%5D%2C%20%5B-117.10367201170585%2C%2032.715983038781964%5D%2C%20%5B-117.10370118851998%2C%2032.71606813368632%5D%2C%20%5B-117.1037506891555%2C%2032.71624434468562%5D%2C%20%5B-117.10377455997418%2C%2032.71636521268274%5D%5D%5D%2C%20%22type%22%3A%20%22Polygon%22%7D%2C%20%22id%22%3A%20%220%22%2C%20%22properties%22%3A%20%7B%22distance_meters%22%3A%202000.0%7D%2C%20%22type%22%3A%20%22Feature%22%7D%5D%2C%20%22type%22%3A%20%22FeatureCollection%22%7D%29%3B%0A%0A%20%20%20%20%20%20%20%20%0A%20%20%20%20%0A%20%20%20%20geo_json_3088f92037cd4e0b9a0f8026aa442a5f.bindTooltip%28%0A%20%20%20%20function%28layer%29%7B%0A%20%20%20%20let%20div%20%3D%20L.DomUtil.create%28%27div%27%29%3B%0A%20%20%20%20%0A%20%20%20%20let%20handleObject%20%3D%20feature%3D%3Etypeof%28feature%29%3D%3D%27object%27%20%3F%20JSON.stringify%28feature%29%20%3A%20feature%3B%0A%20%20%20%20let%20fields%20%3D%20%5B%22distance_meters%22%5D%3B%0A%20%20%20%20let%20aliases%20%3D%20%5B%22distance_meters%22%5D%3B%0A%20%20%20%20let%20table%20%3D%20%27%3Ctable%3E%27%20%2B%0A%20%20%20%20%20%20%20%20String%28%0A%20%20%20%20%20%20%20%20fields.map%28%0A%20%20%20%20%20%20%20%20%28v%2Ci%29%3D%3E%0A%20%20%20%20%20%20%20%20%60%3Ctr%3E%0A%20%20%20%20%20%20%20%20%20%20%20%20%3Cth%3E%24%7Baliases%5Bi%5D%7D%3C/th%3E%0A%20%20%20%20%20%20%20%20%20%20%20%20%0A%20%20%20%20%20%20%20%20%20%20%20%20%3Ctd%3E%24%7BhandleObject%28layer.feature.properties%5Bv%5D%29%7D%3C/td%3E%0A%20%20%20%20%20%20%20%20%3C/tr%3E%60%29.join%28%27%27%29%29%0A%20%20%20%20%2B%27%3C/table%3E%27%3B%0A%20%20%20%20div.innerHTML%3Dtable%3B%0A%20%20%20%20%0A%20%20%20%20return%20div%0A%20%20%20%20%7D%0A%20%20%20%20%2C%7B%22className%22%3A%20%22foliumtooltip%22%2C%20%22sticky%22%3A%20true%7D%29%3B%0A%20%20%20%20%20%20%20%20%20%20%20%20%20%20%20%20%20%20%20%20%20%0A%3C/script%3E onload=\"this.contentDocument.open();this.contentDocument.write(    decodeURIComponent(this.getAttribute('data-html')));this.contentDocument.close();\" allowfullscreen webkitallowfullscreen mozallowfullscreen></iframe></div></div>"
      ],
      "text/plain": [
       "<folium.folium.Map at 0x7fd5b50b2e80>"
      ]
     },
     "execution_count": 174,
     "metadata": {},
     "output_type": "execute_result"
    }
   ],
   "source": [
    "rt_day.corridor.explore()"
   ]
  },
  {
   "cell_type": "code",
   "execution_count": 175,
   "id": "824f0b05-28ca-4bfe-a5a2-5fc82cd72e5e",
   "metadata": {},
   "outputs": [
    {
     "name": "stdout",
     "output_type": "stream",
     "text": [
      "metrics attached to self.corridor: \n"
     ]
    },
    {
     "data": {
      "text/html": [
       "<div>\n",
       "<style scoped>\n",
       "    .dataframe tbody tr th:only-of-type {\n",
       "        vertical-align: middle;\n",
       "    }\n",
       "\n",
       "    .dataframe tbody tr th {\n",
       "        vertical-align: top;\n",
       "    }\n",
       "\n",
       "    .dataframe thead th {\n",
       "        text-align: right;\n",
       "    }\n",
       "</style>\n",
       "<table border=\"1\" class=\"dataframe\">\n",
       "  <thead>\n",
       "    <tr style=\"text-align: right;\">\n",
       "      <th></th>\n",
       "      <th>route_id</th>\n",
       "      <th>route_short_name</th>\n",
       "      <th>organization</th>\n",
       "      <th>p20_corr_mph</th>\n",
       "      <th>speed_delay_minutes</th>\n",
       "      <th>total_speed_delay</th>\n",
       "      <th>p50_runtime_minutes</th>\n",
       "      <th>n_trips</th>\n",
       "      <th>span_hours</th>\n",
       "      <th>daily_avg_trips_hr</th>\n",
       "      <th>trips_added</th>\n",
       "      <th>new_avg_trips_hr</th>\n",
       "      <th>length_miles</th>\n",
       "      <th>target_mph</th>\n",
       "      <th>geometry</th>\n",
       "    </tr>\n",
       "  </thead>\n",
       "  <tbody>\n",
       "    <tr>\n",
       "      <th>0</th>\n",
       "      <td>60</td>\n",
       "      <td>60</td>\n",
       "      <td>San Diego Metropolitan Transit System</td>\n",
       "      <td>14.0</td>\n",
       "      <td>38.9</td>\n",
       "      <td>38.9</td>\n",
       "      <td>46.4</td>\n",
       "      <td>12</td>\n",
       "      <td>12.4</td>\n",
       "      <td>0.5</td>\n",
       "      <td>0.8</td>\n",
       "      <td>0.5</td>\n",
       "      <td>1.2</td>\n",
       "      <td>65</td>\n",
       "      <td>POLYGON ((271871.035 -584286.371, 271859.772 -...</td>\n",
       "    </tr>\n",
       "  </tbody>\n",
       "</table>\n",
       "</div>"
      ],
      "text/plain": [
       "  route_id route_short_name                           organization  \\\n",
       "0       60               60  San Diego Metropolitan Transit System   \n",
       "\n",
       "   p20_corr_mph  speed_delay_minutes  total_speed_delay  p50_runtime_minutes  \\\n",
       "0          14.0                 38.9               38.9                 46.4   \n",
       "\n",
       "   n_trips  span_hours  daily_avg_trips_hr  trips_added  new_avg_trips_hr  \\\n",
       "0       12        12.4                 0.5          0.8               0.5   \n",
       "\n",
       "   length_miles  target_mph                                           geometry  \n",
       "0           1.2          65  POLYGON ((271871.035 -584286.371, 271859.772 -...  "
      ]
     },
     "execution_count": 175,
     "metadata": {},
     "output_type": "execute_result"
    }
   ],
   "source": [
    "rt_day.corridor_metrics()"
   ]
  },
  {
   "cell_type": "code",
   "execution_count": 176,
   "id": "0eab6a36-5496-48f8-8650-33dbc610301c",
   "metadata": {},
   "outputs": [],
   "source": [
    "rt_day.corridor['corridor'] = 'i805'"
   ]
  },
  {
   "cell_type": "code",
   "execution_count": 177,
   "id": "c691ccf3-95bd-4ffc-bbab-9a268496a30b",
   "metadata": {},
   "outputs": [],
   "source": [
    "all_corridors = [rt_day.corridor]"
   ]
  },
  {
   "cell_type": "code",
   "execution_count": 178,
   "id": "d0eace7a-413c-473d-a99c-6bd951f56799",
   "metadata": {},
   "outputs": [],
   "source": [
    "rt_day.set_filter(route_names=['225'])"
   ]
  },
  {
   "cell_type": "code",
   "execution_count": 179,
   "id": "6124b0e9-5827-4853-82d8-c815732110c5",
   "metadata": {},
   "outputs": [],
   "source": [
    "_m = rt_day.segment_speed_map()"
   ]
  },
  {
   "cell_type": "code",
   "execution_count": 180,
   "id": "7e4f848b-5c38-4440-9794-a496644ece65",
   "metadata": {},
   "outputs": [],
   "source": [
    "rt_day.autocorridor(shape_id = '225_0_20', stop_seq_range = [7.68, 7.74])"
   ]
  },
  {
   "cell_type": "code",
   "execution_count": 181,
   "id": "78aa0c5b-85a7-4019-8591-f21a9fbd56a4",
   "metadata": {},
   "outputs": [
    {
     "data": {
      "text/html": [
       "<div style=\"width:100%;\"><div style=\"position:relative;width:100%;height:0;padding-bottom:60%;\"><span style=\"color:#565656\">Make this Notebook Trusted to load map: File -> Trust Notebook</span><iframe src=\"about:blank\" style=\"position:absolute;width:100%;height:100%;left:0;top:0;border:none !important;\" data-html=%3C%21DOCTYPE%20html%3E%0A%3Chead%3E%20%20%20%20%0A%20%20%20%20%3Cmeta%20http-equiv%3D%22content-type%22%20content%3D%22text/html%3B%20charset%3DUTF-8%22%20/%3E%0A%20%20%20%20%0A%20%20%20%20%20%20%20%20%3Cscript%3E%0A%20%20%20%20%20%20%20%20%20%20%20%20L_NO_TOUCH%20%3D%20false%3B%0A%20%20%20%20%20%20%20%20%20%20%20%20L_DISABLE_3D%20%3D%20false%3B%0A%20%20%20%20%20%20%20%20%3C/script%3E%0A%20%20%20%20%0A%20%20%20%20%3Cstyle%3Ehtml%2C%20body%20%7Bwidth%3A%20100%25%3Bheight%3A%20100%25%3Bmargin%3A%200%3Bpadding%3A%200%3B%7D%3C/style%3E%0A%20%20%20%20%3Cstyle%3E%23map%20%7Bposition%3Aabsolute%3Btop%3A0%3Bbottom%3A0%3Bright%3A0%3Bleft%3A0%3B%7D%3C/style%3E%0A%20%20%20%20%3Cscript%20src%3D%22https%3A//cdn.jsdelivr.net/npm/leaflet%401.6.0/dist/leaflet.js%22%3E%3C/script%3E%0A%20%20%20%20%3Cscript%20src%3D%22https%3A//code.jquery.com/jquery-1.12.4.min.js%22%3E%3C/script%3E%0A%20%20%20%20%3Cscript%20src%3D%22https%3A//maxcdn.bootstrapcdn.com/bootstrap/3.2.0/js/bootstrap.min.js%22%3E%3C/script%3E%0A%20%20%20%20%3Cscript%20src%3D%22https%3A//cdnjs.cloudflare.com/ajax/libs/Leaflet.awesome-markers/2.0.2/leaflet.awesome-markers.js%22%3E%3C/script%3E%0A%20%20%20%20%3Clink%20rel%3D%22stylesheet%22%20href%3D%22https%3A//cdn.jsdelivr.net/npm/leaflet%401.6.0/dist/leaflet.css%22/%3E%0A%20%20%20%20%3Clink%20rel%3D%22stylesheet%22%20href%3D%22https%3A//maxcdn.bootstrapcdn.com/bootstrap/3.2.0/css/bootstrap.min.css%22/%3E%0A%20%20%20%20%3Clink%20rel%3D%22stylesheet%22%20href%3D%22https%3A//maxcdn.bootstrapcdn.com/bootstrap/3.2.0/css/bootstrap-theme.min.css%22/%3E%0A%20%20%20%20%3Clink%20rel%3D%22stylesheet%22%20href%3D%22https%3A//maxcdn.bootstrapcdn.com/font-awesome/4.6.3/css/font-awesome.min.css%22/%3E%0A%20%20%20%20%3Clink%20rel%3D%22stylesheet%22%20href%3D%22https%3A//cdnjs.cloudflare.com/ajax/libs/Leaflet.awesome-markers/2.0.2/leaflet.awesome-markers.css%22/%3E%0A%20%20%20%20%3Clink%20rel%3D%22stylesheet%22%20href%3D%22https%3A//cdn.jsdelivr.net/gh/python-visualization/folium/folium/templates/leaflet.awesome.rotate.min.css%22/%3E%0A%20%20%20%20%0A%20%20%20%20%20%20%20%20%20%20%20%20%3Cmeta%20name%3D%22viewport%22%20content%3D%22width%3Ddevice-width%2C%0A%20%20%20%20%20%20%20%20%20%20%20%20%20%20%20%20initial-scale%3D1.0%2C%20maximum-scale%3D1.0%2C%20user-scalable%3Dno%22%20/%3E%0A%20%20%20%20%20%20%20%20%20%20%20%20%3Cstyle%3E%0A%20%20%20%20%20%20%20%20%20%20%20%20%20%20%20%20%23map_be1455804f164db5b55ebc5d6ec71523%20%7B%0A%20%20%20%20%20%20%20%20%20%20%20%20%20%20%20%20%20%20%20%20position%3A%20relative%3B%0A%20%20%20%20%20%20%20%20%20%20%20%20%20%20%20%20%20%20%20%20width%3A%20100.0%25%3B%0A%20%20%20%20%20%20%20%20%20%20%20%20%20%20%20%20%20%20%20%20height%3A%20100.0%25%3B%0A%20%20%20%20%20%20%20%20%20%20%20%20%20%20%20%20%20%20%20%20left%3A%200.0%25%3B%0A%20%20%20%20%20%20%20%20%20%20%20%20%20%20%20%20%20%20%20%20top%3A%200.0%25%3B%0A%20%20%20%20%20%20%20%20%20%20%20%20%20%20%20%20%7D%0A%20%20%20%20%20%20%20%20%20%20%20%20%3C/style%3E%0A%20%20%20%20%20%20%20%20%0A%20%20%20%20%0A%20%20%20%20%20%20%20%20%20%20%20%20%20%20%20%20%20%20%20%20%3Cstyle%3E%0A%20%20%20%20%20%20%20%20%20%20%20%20%20%20%20%20%20%20%20%20%20%20%20%20.foliumtooltip%20%7B%0A%20%20%20%20%20%20%20%20%20%20%20%20%20%20%20%20%20%20%20%20%20%20%20%20%20%20%20%20%0A%20%20%20%20%20%20%20%20%20%20%20%20%20%20%20%20%20%20%20%20%20%20%20%20%7D%0A%20%20%20%20%20%20%20%20%20%20%20%20%20%20%20%20%20%20%20%20%20%20%20.foliumtooltip%20table%7B%0A%20%20%20%20%20%20%20%20%20%20%20%20%20%20%20%20%20%20%20%20%20%20%20%20%20%20%20%20margin%3A%20auto%3B%0A%20%20%20%20%20%20%20%20%20%20%20%20%20%20%20%20%20%20%20%20%20%20%20%20%7D%0A%20%20%20%20%20%20%20%20%20%20%20%20%20%20%20%20%20%20%20%20%20%20%20%20.foliumtooltip%20tr%7B%0A%20%20%20%20%20%20%20%20%20%20%20%20%20%20%20%20%20%20%20%20%20%20%20%20%20%20%20%20text-align%3A%20left%3B%0A%20%20%20%20%20%20%20%20%20%20%20%20%20%20%20%20%20%20%20%20%20%20%20%20%7D%0A%20%20%20%20%20%20%20%20%20%20%20%20%20%20%20%20%20%20%20%20%20%20%20%20.foliumtooltip%20th%7B%0A%20%20%20%20%20%20%20%20%20%20%20%20%20%20%20%20%20%20%20%20%20%20%20%20%20%20%20%20padding%3A%202px%3B%20padding-right%3A%208px%3B%0A%20%20%20%20%20%20%20%20%20%20%20%20%20%20%20%20%20%20%20%20%20%20%20%20%7D%0A%20%20%20%20%20%20%20%20%20%20%20%20%20%20%20%20%20%20%20%20%3C/style%3E%0A%20%20%20%20%20%20%20%20%20%20%20%20%0A%3C/head%3E%0A%3Cbody%3E%20%20%20%20%0A%20%20%20%20%0A%20%20%20%20%20%20%20%20%20%20%20%20%3Cdiv%20class%3D%22folium-map%22%20id%3D%22map_be1455804f164db5b55ebc5d6ec71523%22%20%3E%3C/div%3E%0A%20%20%20%20%20%20%20%20%0A%3C/body%3E%0A%3Cscript%3E%20%20%20%20%0A%20%20%20%20%0A%20%20%20%20%20%20%20%20%20%20%20%20var%20map_be1455804f164db5b55ebc5d6ec71523%20%3D%20L.map%28%0A%20%20%20%20%20%20%20%20%20%20%20%20%20%20%20%20%22map_be1455804f164db5b55ebc5d6ec71523%22%2C%0A%20%20%20%20%20%20%20%20%20%20%20%20%20%20%20%20%7B%0A%20%20%20%20%20%20%20%20%20%20%20%20%20%20%20%20%20%20%20%20center%3A%20%5B32.713207164977064%2C%20-117.10282270974173%5D%2C%0A%20%20%20%20%20%20%20%20%20%20%20%20%20%20%20%20%20%20%20%20crs%3A%20L.CRS.EPSG3857%2C%0A%20%20%20%20%20%20%20%20%20%20%20%20%20%20%20%20%20%20%20%20zoom%3A%2010%2C%0A%20%20%20%20%20%20%20%20%20%20%20%20%20%20%20%20%20%20%20%20zoomControl%3A%20true%2C%0A%20%20%20%20%20%20%20%20%20%20%20%20%20%20%20%20%20%20%20%20preferCanvas%3A%20false%2C%0A%20%20%20%20%20%20%20%20%20%20%20%20%20%20%20%20%7D%0A%20%20%20%20%20%20%20%20%20%20%20%20%29%3B%0A%20%20%20%20%20%20%20%20%20%20%20%20L.control.scale%28%29.addTo%28map_be1455804f164db5b55ebc5d6ec71523%29%3B%0A%0A%20%20%20%20%20%20%20%20%20%20%20%20%0A%0A%20%20%20%20%20%20%20%20%0A%20%20%20%20%0A%20%20%20%20%20%20%20%20%20%20%20%20var%20tile_layer_3ca02be4a4464b2e919bc1a13b65e686%20%3D%20L.tileLayer%28%0A%20%20%20%20%20%20%20%20%20%20%20%20%20%20%20%20%22https%3A//%7Bs%7D.tile.openstreetmap.org/%7Bz%7D/%7Bx%7D/%7By%7D.png%22%2C%0A%20%20%20%20%20%20%20%20%20%20%20%20%20%20%20%20%7B%22attribution%22%3A%20%22Data%20by%20%5Cu0026copy%3B%20%5Cu003ca%20href%3D%5C%22http%3A//openstreetmap.org%5C%22%5Cu003eOpenStreetMap%5Cu003c/a%5Cu003e%2C%20under%20%5Cu003ca%20href%3D%5C%22http%3A//www.openstreetmap.org/copyright%5C%22%5Cu003eODbL%5Cu003c/a%5Cu003e.%22%2C%20%22detectRetina%22%3A%20false%2C%20%22maxNativeZoom%22%3A%2018%2C%20%22maxZoom%22%3A%2018%2C%20%22minZoom%22%3A%200%2C%20%22noWrap%22%3A%20false%2C%20%22opacity%22%3A%201%2C%20%22subdomains%22%3A%20%22abc%22%2C%20%22tms%22%3A%20false%7D%0A%20%20%20%20%20%20%20%20%20%20%20%20%29.addTo%28map_be1455804f164db5b55ebc5d6ec71523%29%3B%0A%20%20%20%20%20%20%20%20%0A%20%20%20%20%0A%20%20%20%20%20%20%20%20%20%20%20%20map_be1455804f164db5b55ebc5d6ec71523.fitBounds%28%0A%20%20%20%20%20%20%20%20%20%20%20%20%20%20%20%20%5B%5B32.70641900768031%2C%20-117.11012303492404%5D%2C%20%5B32.719995322273824%2C%20-117.09552238455942%5D%5D%2C%0A%20%20%20%20%20%20%20%20%20%20%20%20%20%20%20%20%7B%7D%0A%20%20%20%20%20%20%20%20%20%20%20%20%29%3B%0A%20%20%20%20%20%20%20%20%0A%20%20%20%20%0A%20%20%20%20%20%20%20%20function%20geo_json_9f403030e59c41c7b128763f3387a098_styler%28feature%29%20%7B%0A%20%20%20%20%20%20%20%20%20%20%20%20switch%28feature.id%29%20%7B%0A%20%20%20%20%20%20%20%20%20%20%20%20%20%20%20%20default%3A%0A%20%20%20%20%20%20%20%20%20%20%20%20%20%20%20%20%20%20%20%20return%20%7B%22fillOpacity%22%3A%200.5%2C%20%22weight%22%3A%202%7D%3B%0A%20%20%20%20%20%20%20%20%20%20%20%20%7D%0A%20%20%20%20%20%20%20%20%7D%0A%20%20%20%20%20%20%20%20function%20geo_json_9f403030e59c41c7b128763f3387a098_highlighter%28feature%29%20%7B%0A%20%20%20%20%20%20%20%20%20%20%20%20switch%28feature.id%29%20%7B%0A%20%20%20%20%20%20%20%20%20%20%20%20%20%20%20%20default%3A%0A%20%20%20%20%20%20%20%20%20%20%20%20%20%20%20%20%20%20%20%20return%20%7B%22fillOpacity%22%3A%200.75%7D%3B%0A%20%20%20%20%20%20%20%20%20%20%20%20%7D%0A%20%20%20%20%20%20%20%20%7D%0A%20%20%20%20%20%20%20%20function%20geo_json_9f403030e59c41c7b128763f3387a098_pointToLayer%28feature%2C%20latlng%29%20%7B%0A%20%20%20%20%20%20%20%20%20%20%20%20var%20opts%20%3D%20%7B%22bubblingMouseEvents%22%3A%20true%2C%20%22color%22%3A%20%22%233388ff%22%2C%20%22dashArray%22%3A%20null%2C%20%22dashOffset%22%3A%20null%2C%20%22fill%22%3A%20true%2C%20%22fillColor%22%3A%20%22%233388ff%22%2C%20%22fillOpacity%22%3A%200.2%2C%20%22fillRule%22%3A%20%22evenodd%22%2C%20%22lineCap%22%3A%20%22round%22%2C%20%22lineJoin%22%3A%20%22round%22%2C%20%22opacity%22%3A%201.0%2C%20%22radius%22%3A%202%2C%20%22stroke%22%3A%20true%2C%20%22weight%22%3A%203%7D%3B%0A%20%20%20%20%20%20%20%20%20%20%20%20%0A%20%20%20%20%20%20%20%20%20%20%20%20let%20style%20%3D%20geo_json_9f403030e59c41c7b128763f3387a098_styler%28feature%29%0A%20%20%20%20%20%20%20%20%20%20%20%20Object.assign%28opts%2C%20style%29%0A%20%20%20%20%20%20%20%20%20%20%20%20%0A%20%20%20%20%20%20%20%20%20%20%20%20return%20new%20L.CircleMarker%28latlng%2C%20opts%29%0A%20%20%20%20%20%20%20%20%7D%0A%0A%20%20%20%20%20%20%20%20function%20geo_json_9f403030e59c41c7b128763f3387a098_onEachFeature%28feature%2C%20layer%29%20%7B%0A%20%20%20%20%20%20%20%20%20%20%20%20layer.on%28%7B%0A%20%20%20%20%20%20%20%20%20%20%20%20%20%20%20%20mouseout%3A%20function%28e%29%20%7B%0A%20%20%20%20%20%20%20%20%20%20%20%20%20%20%20%20%20%20%20%20if%28typeof%20e.target.setStyle%20%3D%3D%3D%20%22function%22%29%7B%0A%20%20%20%20%20%20%20%20%20%20%20%20%20%20%20%20%20%20%20%20%20%20%20%20geo_json_9f403030e59c41c7b128763f3387a098.resetStyle%28e.target%29%3B%0A%20%20%20%20%20%20%20%20%20%20%20%20%20%20%20%20%20%20%20%20%7D%0A%20%20%20%20%20%20%20%20%20%20%20%20%20%20%20%20%7D%2C%0A%20%20%20%20%20%20%20%20%20%20%20%20%20%20%20%20mouseover%3A%20function%28e%29%20%7B%0A%20%20%20%20%20%20%20%20%20%20%20%20%20%20%20%20%20%20%20%20if%28typeof%20e.target.setStyle%20%3D%3D%3D%20%22function%22%29%7B%0A%20%20%20%20%20%20%20%20%20%20%20%20%20%20%20%20%20%20%20%20%20%20%20%20const%20highlightStyle%20%3D%20geo_json_9f403030e59c41c7b128763f3387a098_highlighter%28e.target.feature%29%0A%20%20%20%20%20%20%20%20%20%20%20%20%20%20%20%20%20%20%20%20%20%20%20%20e.target.setStyle%28highlightStyle%29%3B%0A%20%20%20%20%20%20%20%20%20%20%20%20%20%20%20%20%20%20%20%20%7D%0A%20%20%20%20%20%20%20%20%20%20%20%20%20%20%20%20%7D%2C%0A%20%20%20%20%20%20%20%20%20%20%20%20%7D%29%3B%0A%20%20%20%20%20%20%20%20%7D%3B%0A%20%20%20%20%20%20%20%20var%20geo_json_9f403030e59c41c7b128763f3387a098%20%3D%20L.geoJson%28null%2C%20%7B%0A%20%20%20%20%20%20%20%20%20%20%20%20%20%20%20%20onEachFeature%3A%20geo_json_9f403030e59c41c7b128763f3387a098_onEachFeature%2C%0A%20%20%20%20%20%20%20%20%20%20%20%20%0A%20%20%20%20%20%20%20%20%20%20%20%20%20%20%20%20style%3A%20geo_json_9f403030e59c41c7b128763f3387a098_styler%2C%0A%20%20%20%20%20%20%20%20%20%20%20%20%20%20%20%20pointToLayer%3A%20geo_json_9f403030e59c41c7b128763f3387a098_pointToLayer%0A%20%20%20%20%20%20%20%20%7D%29%3B%0A%0A%20%20%20%20%20%20%20%20function%20geo_json_9f403030e59c41c7b128763f3387a098_add%20%28data%29%20%7B%0A%20%20%20%20%20%20%20%20%20%20%20%20geo_json_9f403030e59c41c7b128763f3387a098%0A%20%20%20%20%20%20%20%20%20%20%20%20%20%20%20%20.addData%28data%29%0A%20%20%20%20%20%20%20%20%20%20%20%20%20%20%20%20.addTo%28map_be1455804f164db5b55ebc5d6ec71523%29%3B%0A%20%20%20%20%20%20%20%20%7D%0A%20%20%20%20%20%20%20%20%20%20%20%20geo_json_9f403030e59c41c7b128763f3387a098_add%28%7B%22bbox%22%3A%20%5B-117.11012303492404%2C%2032.70641900768031%2C%20-117.09552238455942%2C%2032.719995322273824%5D%2C%20%22features%22%3A%20%5B%7B%22bbox%22%3A%20%5B-117.11012303492404%2C%2032.70641900768031%2C%20-117.09552238455942%2C%2032.719995322273824%5D%2C%20%22geometry%22%3A%20%7B%22coordinates%22%3A%20%5B%5B%5B-117.09776197709672%2C%2032.70713475452171%5D%2C%20%5B-117.09780972572155%2C%2032.70718101795957%5D%2C%20%5B-117.09880917926658%2C%2032.70821861144272%5D%2C%20%5B-117.09883022402565%2C%2032.708241183556865%5D%2C%20%5B-117.09945452652734%2C%2032.70893316958895%5D%2C%20%5B-117.1009024918848%2C%2032.71044934353747%5D%2C%20%5B-117.10094061327949%2C%2032.71049176197622%5D%2C%20%5B-117.10129836320012%2C%2032.710915211823995%5D%2C%20%5B-117.10134215768475%2C%2032.71096174701146%5D%2C%20%5B-117.10139228363535%2C%2032.711019582825266%5D%2C%20%5B-117.10143683395296%2C%2032.71108061114937%5D%2C%20%5B-117.10156653548002%2C%2032.71127516019875%5D%2C%20%5B-117.10161454731818%2C%2032.71135648253911%5D%2C%20%5B-117.1024995740549%2C%2032.71306546571618%5D%2C%20%5B-117.10253952217029%2C%2032.71315529744371%5D%2C%20%5B-117.1028294509649%2C%2032.71392967511703%5D%2C%20%5B-117.10285792194715%2C%2032.71402258076085%5D%2C%20%5B-117.10303823785004%2C%2032.7147728001496%5D%2C%20%5B-117.10303823785004%2C%2032.7147728001496%5D%2C%20%5B-117.10305918982174%2C%2032.71485997159977%5D%2C%20%5B-117.10308566111686%2C%2032.7149283448625%5D%2C%20%5B-117.1031147765088%2C%2032.715019325432536%5D%2C%20%5B-117.10313254571898%2C%2032.715112383625645%5D%2C%20%5B-117.10320884346584%2C%2032.71570747298699%5D%2C%20%5B-117.10321498566762%2C%2032.71579298893177%5D%2C%20%5B-117.10322217767127%2C%2032.71624926447362%5D%2C%20%5B-117.10326200078083%2C%2032.716693855578725%5D%2C%20%5B-117.1032974862044%2C%2032.71687889221299%5D%2C%20%5B-117.10343275775575%2C%2032.717269984555735%5D%2C%20%5B-117.10350442529747%2C%2032.71740277380564%5D%2C%20%5B-117.10365083457646%2C%2032.717606703332045%5D%2C%20%5B-117.10369396373376%2C%2032.71765270753629%5D%2C%20%5B-117.10375336796334%2C%2032.71770551042294%5D%2C%20%5B-117.10397667312843%2C%2032.717860945374234%5D%2C%20%5B-117.10406818195278%2C%2032.71789450143866%5D%2C%20%5B-117.10415445404968%2C%2032.717930130101664%5D%2C%20%5B-117.10423659363414%2C%2032.717972196861886%5D%2C%20%5B-117.10444464902572%2C%2032.718089909553974%5D%2C%20%5B-117.10475994956464%2C%2032.71816765616241%5D%2C%20%5B-117.10502690393386%2C%2032.71818836651737%5D%2C%20%5B-117.10518337005324%2C%2032.71818210742693%5D%2C%20%5B-117.10531876991884%2C%2032.718142843671934%5D%2C%20%5B-117.10542354915229%2C%2032.718090454096696%5D%2C%20%5B-117.10549949599637%2C%2032.71805591246116%5D%2C%20%5B-117.1055784882236%2C%2032.71802668930058%5D%2C%20%5B-117.10629564185108%2C%2032.71779017149005%5D%2C%20%5B-117.10637033202258%2C%2032.717768207056515%5D%2C%20%5B-117.10678231801027%2C%2032.71766139807104%5D%2C%20%5B-117.10688787100699%2C%2032.717638960829106%5D%2C%20%5B-117.10699557345319%2C%2032.71762577093413%5D%2C%20%5B-117.10895963964866%2C%2032.71747152877023%5D%2C%20%5B-117.10906406987043%2C%2032.71746769351981%5D%2C%20%5B-117.10916844065551%2C%2032.71747255449174%5D%2C%20%5B-117.10927174688977%2C%2032.71748606487363%5D%2C%20%5B-117.10937299370988%2C%2032.71750809455696%5D%2C%20%5B-117.10947120608324%2C%2032.71753843138992%5D%2C%20%5B-117.10956543819685%2C%2032.71757678322024%5D%2C%20%5B-117.1096547825651%2C%2032.71762278070883%5D%2C%20%5B-117.10973837876844%2C%2032.717675980885964%5D%2C%20%5B-117.10981542173916%2C%2032.71773587141695%5D%2C%20%5B-117.10988516951427%2C%2032.71780187553587%5D%2C%20%5B-117.10994695038086%2C%2032.7178733575996%5D%2C%20%5B-117.11000016934524%2C%2032.71794962920884%5D%2C%20%5B-117.11004431386341%2C%2032.718029955837316%5D%2C%20%5B-117.11007895877782%2C%2032.71811356390551%5D%2C%20%5B-117.11010377041262%2C%2032.718199648229884%5D%2C%20%5B-117.11011850978826%2C%2032.71828737977708%5D%2C%20%5B-117.11012303492404%2C%2032.71837591364801%5D%2C%20%5B-117.11011730220676%2C%2032.718464397214106%5D%2C%20%5B-117.11010136681209%2C%2032.71855197832897%5D%2C%20%5B-117.11007538217434%2C%2032.71863781353466%5D%2C%20%5B-117.11003959851021%2C%2032.718721076185204%5D%2C%20%5B-117.10999436041004%2C%2032.71880096440753%5D%2C%20%5B-117.10994010352037%2C%2032.71887670882464%5D%2C%20%5B-117.10987735034914%2C%2032.718947579965025%5D%2C%20%5B-117.1098067052342%2C%2032.719012895288785%5D%2C%20%5B-117.10972884852379%2C%2032.71907202576103%5D%2C%20%5B-117.10964453002421%2C%2032.71912440191038%5D%2C%20%5B-117.10955456177892%2C%2032.719169519313795%5D%2C%20%5B-117.1094598102476%2C%2032.71920694345503%5D%2C%20%5B-117.10936118796097%2C%2032.71923631390928%5D%2C%20%5B-117.10925964473196%2C%2032.71925734781528%5D%2C%20%5B-117.10915615850733%2C%2032.71926984259899%5D%2C%20%5B-117.10730083396747%2C%2032.719415545625644%5D%2C%20%5B-117.10703114154258%2C%2032.71948546431625%5D%2C%20%5B-117.10643136119161%2C%2032.71968327263257%5D%2C%20%5B-117.1063074200688%2C%2032.71974524326146%5D%2C%20%5B-117.1062115292794%2C%2032.71978777744817%5D%2C%20%5B-117.10611104227362%2C%2032.719821843264455%5D%2C%20%5B-117.10572956869295%2C%2032.71993246430418%5D%2C%20%5B-117.1056333018302%2C%2032.719956153822416%5D%2C%20%5B-117.10553483439365%2C%2032.719972066738904%5D%2C%20%5B-117.10543503845271%2C%2032.71998006212244%5D%2C%20%5B-117.10505356418116%2C%2032.719995322273824%5D%2C%20%5B-117.10490629204388%2C%2032.71999256851174%5D%2C%20%5B-117.10446377713443%2C%2032.71995823817215%5D%2C%20%5B-117.10436266076147%2C%2032.71994622734436%5D%2C%20%5B-117.10426336550752%2C%2032.71992606406611%5D%2C%20%5B-117.10370642000758%2C%2032.71978873275624%5D%2C%20%5B-117.10362239864251%2C%2032.71976475732513%5D%2C%20%5B-117.10354102011495%2C%2032.71973494164874%5D%2C%20%5B-117.1034628481535%2C%2032.719699492267765%5D%2C%20%5B-117.10339417772003%2C%2032.71966516197402%5D%2C%20%5B-117.1033439568176%2C%2032.71963843055382%5D%2C%20%5B-117.10313410110263%2C%2032.71951969884639%5D%2C%20%5B-117.10299356740788%2C%2032.71946816520695%5D%2C%20%5B-117.10290454350309%2C%2032.71943126226281%5D%2C%20%5B-117.10281995032152%2C%2032.719387505236725%5D%2C%20%5B-117.10274052005154%2C%2032.7193372728663%5D%2C%20%5B-117.1023514189506%2C%2032.719066430787045%5D%2C%20%5B-117.10225654355877%2C%2032.718991760854266%5D%2C%20%5B-117.10211921366455%2C%2032.71886969001741%5D%2C%20%5B-117.10205614190386%2C%2032.71880830977494%5D%2C%20%5B-117.10194170237035%2C%2032.718686239020485%5D%2C%20%5B-117.10186569332743%2C%2032.71859387368772%5D%2C%20%5B-117.10165207544802%2C%2032.7182963221511%5D%2C%20%5B-117.10159336814895%2C%2032.718202542961826%5D%2C%20%5B-117.10146367043872%2C%2032.717962221968634%5D%2C%20%5B-117.10141013676368%2C%2032.717840600076116%5D%2C%20%5B-117.1012346626608%2C%2032.717333238658185%5D%2C%20%5B-117.10120543338498%2C%2032.717224058315814%5D%2C%20%5B-117.1011520369311%2C%2032.716945587871955%5D%2C%20%5B-117.10114129220611%2C%2032.71686905177824%5D%2C%20%5B-117.10109551892154%2C%2032.71635788139388%5D%2C%20%5B-117.10109255759475%2C%2032.716301570989174%5D%2C%20%5B-117.10108560879092%2C%2032.715859982557994%5D%2C%20%5B-117.10102685429817%2C%2032.715401629227394%5D%2C%20%5B-117.10101589312048%2C%2032.71537331549866%5D%2C%20%5B-117.10098422230946%2C%2032.715272001214416%5D%2C%20%5B-117.10095091060099%2C%2032.71513339181598%5D%2C%20%5B-117.10095091060099%2C%2032.71513339181597%5D%2C%20%5B-117.10078193146533%2C%2032.714430264837844%5D%2C%20%5B-117.10052632383399%2C%2032.71374751084717%5D%2C%20%5B-117.09968571106108%2C%2032.71212421644878%5D%2C%20%5B-117.0996241885109%2C%2032.71203193111806%5D%2C%20%5B-117.09961608089311%2C%2032.71202331593079%5D%2C%20%5B-117.09958275307147%2C%2032.711985953478965%5D%2C%20%5B-117.09922723690516%2C%2032.71156513779797%5D%2C%20%5B-117.09778982182313%2C%2032.71005998033435%5D%2C%20%5B-117.09777162136302%2C%2032.7100403738433%5D%2C%20%5B-117.0971486946227%2C%2032.709349897959406%5D%2C%20%5B-117.0961829275483%2C%2032.70834725696172%5D%2C%20%5B-117.09604752113565%2C%2032.70822473854231%5D%2C%20%5B-117.09595443482091%2C%2032.70812786887041%5D%2C%20%5B-117.09571683600682%2C%2032.707842335942644%5D%2C%20%5B-117.09566084548071%2C%2032.707767506731834%5D%2C%20%5B-117.09561377495481%2C%2032.70768838453709%5D%2C%20%5B-117.09557607772396%2C%2032.707605731358655%5D%2C%20%5B-117.09554811680813%2C%2032.70752034320016%5D%2C%20%5B-117.09553016145725%2C%2032.70743304240289%5D%2C%20%5B-117.09552238455942%2C%2032.70734466972552%5D%2C%20%5B-117.09552486097697%2C%2032.70725607624718%5D%2C%20%5B-117.09553756682699%2C%2032.70716811517077%5D%2C%20%5B-117.09556037971235%2C%2032.707081633606506%5D%2C%20%5B-117.09559307990199%2C%2032.70699746441383%5D%2C%20%5B-117.09563535244804%2C%2032.7069164181805%5D%2C%20%5B-117.09568679022004%2C%2032.706839275416705%5D%2C%20%5B-117.09574689782671%2C%2032.70676677903856%5D%2C%20%5B-117.09581509638755%2C%2032.706699627213894%5D%2C%20%5B-117.09589072910809%2C%2032.70663846663904%5D%2C%20%5B-117.09597306760548%2C%2032.706583886311044%5D%2C%20%5B-117.09606131892316%2C%2032.706536411856156%5D%2C%20%5B-117.09615463316707%2C%2032.70649650046769%5D%2C%20%5B-117.09625211169009%2C%2032.70646453650411%5D%2C%20%5B-117.09635281574576%2C%2032.70644082778726%5D%2C%20%5B-117.0964557755279%2C%2032.706425602638596%5D%2C%20%5B-117.09655999950928%2C%2032.70641900768031%5D%2C%20%5B-117.09666448398939%2C%2032.7064211064235%5D%2C%20%5B-117.09676822275935%2C%2032.706431878656886%5D%2C%20%5B-117.09687021679079%2C%2032.70645122064084%5D%2C%20%5B-117.09696948385601%2C%2032.70647894610701%5D%2C%20%5B-117.09706506798611%2C%2032.70651478805141%5D%2C%20%5B-117.09715604867633%2C%2032.70655840130596%5D%2C%20%5B-117.09724154975032%2C%2032.70660936586206%5D%2C%20%5B-117.09732074779744%2C%2032.70666719091496%5D%2C%20%5B-117.09739288010219%2C%2032.7067313195904%5D%2C%20%5B-117.09745725198948%2C%2032.706801134306794%5D%2C%20%5B-117.09765227194544%2C%2032.707035492801%5D%2C%20%5B-117.09776197709672%2C%2032.70713475452171%5D%5D%5D%2C%20%22type%22%3A%20%22Polygon%22%7D%2C%20%22id%22%3A%20%220%22%2C%20%22properties%22%3A%20%7B%22distance_meters%22%3A%201000.0%7D%2C%20%22type%22%3A%20%22Feature%22%7D%5D%2C%20%22type%22%3A%20%22FeatureCollection%22%7D%29%3B%0A%0A%20%20%20%20%20%20%20%20%0A%20%20%20%20%0A%20%20%20%20geo_json_9f403030e59c41c7b128763f3387a098.bindTooltip%28%0A%20%20%20%20function%28layer%29%7B%0A%20%20%20%20let%20div%20%3D%20L.DomUtil.create%28%27div%27%29%3B%0A%20%20%20%20%0A%20%20%20%20let%20handleObject%20%3D%20feature%3D%3Etypeof%28feature%29%3D%3D%27object%27%20%3F%20JSON.stringify%28feature%29%20%3A%20feature%3B%0A%20%20%20%20let%20fields%20%3D%20%5B%22distance_meters%22%5D%3B%0A%20%20%20%20let%20aliases%20%3D%20%5B%22distance_meters%22%5D%3B%0A%20%20%20%20let%20table%20%3D%20%27%3Ctable%3E%27%20%2B%0A%20%20%20%20%20%20%20%20String%28%0A%20%20%20%20%20%20%20%20fields.map%28%0A%20%20%20%20%20%20%20%20%28v%2Ci%29%3D%3E%0A%20%20%20%20%20%20%20%20%60%3Ctr%3E%0A%20%20%20%20%20%20%20%20%20%20%20%20%3Cth%3E%24%7Baliases%5Bi%5D%7D%3C/th%3E%0A%20%20%20%20%20%20%20%20%20%20%20%20%0A%20%20%20%20%20%20%20%20%20%20%20%20%3Ctd%3E%24%7BhandleObject%28layer.feature.properties%5Bv%5D%29%7D%3C/td%3E%0A%20%20%20%20%20%20%20%20%3C/tr%3E%60%29.join%28%27%27%29%29%0A%20%20%20%20%2B%27%3C/table%3E%27%3B%0A%20%20%20%20div.innerHTML%3Dtable%3B%0A%20%20%20%20%0A%20%20%20%20return%20div%0A%20%20%20%20%7D%0A%20%20%20%20%2C%7B%22className%22%3A%20%22foliumtooltip%22%2C%20%22sticky%22%3A%20true%7D%29%3B%0A%20%20%20%20%20%20%20%20%20%20%20%20%20%20%20%20%20%20%20%20%20%0A%3C/script%3E onload=\"this.contentDocument.open();this.contentDocument.write(    decodeURIComponent(this.getAttribute('data-html')));this.contentDocument.close();\" allowfullscreen webkitallowfullscreen mozallowfullscreen></iframe></div></div>"
      ],
      "text/plain": [
       "<folium.folium.Map at 0x7fd59593f040>"
      ]
     },
     "execution_count": 181,
     "metadata": {},
     "output_type": "execute_result"
    }
   ],
   "source": [
    "rt_day.corridor.explore()"
   ]
  },
  {
   "cell_type": "code",
   "execution_count": 182,
   "id": "8b135342-db7f-4c82-9d1d-1270128737c6",
   "metadata": {},
   "outputs": [
    {
     "name": "stdout",
     "output_type": "stream",
     "text": [
      "metrics attached to self.corridor: \n"
     ]
    },
    {
     "data": {
      "text/html": [
       "<div>\n",
       "<style scoped>\n",
       "    .dataframe tbody tr th:only-of-type {\n",
       "        vertical-align: middle;\n",
       "    }\n",
       "\n",
       "    .dataframe tbody tr th {\n",
       "        vertical-align: top;\n",
       "    }\n",
       "\n",
       "    .dataframe thead th {\n",
       "        text-align: right;\n",
       "    }\n",
       "</style>\n",
       "<table border=\"1\" class=\"dataframe\">\n",
       "  <thead>\n",
       "    <tr style=\"text-align: right;\">\n",
       "      <th></th>\n",
       "      <th>route_id</th>\n",
       "      <th>route_short_name</th>\n",
       "      <th>organization</th>\n",
       "      <th>p20_corr_mph</th>\n",
       "      <th>speed_delay_minutes</th>\n",
       "      <th>total_speed_delay</th>\n",
       "      <th>p50_runtime_minutes</th>\n",
       "      <th>n_trips</th>\n",
       "      <th>span_hours</th>\n",
       "      <th>daily_avg_trips_hr</th>\n",
       "      <th>trips_added</th>\n",
       "      <th>new_avg_trips_hr</th>\n",
       "      <th>length_miles</th>\n",
       "      <th>target_mph</th>\n",
       "      <th>geometry</th>\n",
       "    </tr>\n",
       "  </thead>\n",
       "  <tbody>\n",
       "    <tr>\n",
       "      <th>0</th>\n",
       "      <td>225</td>\n",
       "      <td>225</td>\n",
       "      <td>San Diego Metropolitan Transit System</td>\n",
       "      <td>29.7</td>\n",
       "      <td>99.5</td>\n",
       "      <td>99.5</td>\n",
       "      <td>53.0</td>\n",
       "      <td>78</td>\n",
       "      <td>14.7</td>\n",
       "      <td>2.7</td>\n",
       "      <td>1.9</td>\n",
       "      <td>2.7</td>\n",
       "      <td>0.6</td>\n",
       "      <td>65</td>\n",
       "      <td>POLYGON ((272466.550 -585290.814, 272461.912 -...</td>\n",
       "    </tr>\n",
       "  </tbody>\n",
       "</table>\n",
       "</div>"
      ],
      "text/plain": [
       "  route_id route_short_name                           organization  \\\n",
       "0      225              225  San Diego Metropolitan Transit System   \n",
       "\n",
       "   p20_corr_mph  speed_delay_minutes  total_speed_delay  p50_runtime_minutes  \\\n",
       "0          29.7                 99.5               99.5                 53.0   \n",
       "\n",
       "   n_trips  span_hours  daily_avg_trips_hr  trips_added  new_avg_trips_hr  \\\n",
       "0       78        14.7                 2.7          1.9               2.7   \n",
       "\n",
       "   length_miles  target_mph                                           geometry  \n",
       "0           0.6          65  POLYGON ((272466.550 -585290.814, 272461.912 -...  "
      ]
     },
     "execution_count": 182,
     "metadata": {},
     "output_type": "execute_result"
    }
   ],
   "source": [
    "rt_day.corridor_metrics()"
   ]
  },
  {
   "cell_type": "code",
   "execution_count": 183,
   "id": "f9412764-b575-4cf4-b914-5920ea20cc3a",
   "metadata": {},
   "outputs": [],
   "source": [
    "rt_day.corridor['corridor'] = 'i805'"
   ]
  },
  {
   "cell_type": "code",
   "execution_count": 184,
   "id": "5c801b7e-c385-4fe4-ab63-8c5a64da2964",
   "metadata": {},
   "outputs": [],
   "source": [
    "all_corridors += [rt_day.corridor]"
   ]
  },
  {
   "cell_type": "code",
   "execution_count": null,
   "id": "21fb5ae7-84e9-47b4-ad22-838ce67e1233",
   "metadata": {},
   "outputs": [],
   "source": [
    "rt_day.stop_delay_view >> filter(_.route_short_name == '225')"
   ]
  },
  {
   "cell_type": "code",
   "execution_count": null,
   "id": "1335990c-3590-4344-93f9-d47caa1a8ab4",
   "metadata": {},
   "outputs": [],
   "source": [
    "rt_day.corridor.explore()"
   ]
  },
  {
   "cell_type": "code",
   "execution_count": null,
   "id": "9f18b246-3380-416b-843d-3991c1bb791f",
   "metadata": {},
   "outputs": [],
   "source": [
    "rt_day.corridor_metrics()"
   ]
  },
  {
   "cell_type": "markdown",
   "id": "b58cffe8-7301-4bf9-8c32-a55777c426fe",
   "metadata": {},
   "source": [
    "# Points\n",
    "\n",
    "* All seem to be stop locations along projects included above..."
   ]
  },
  {
   "cell_type": "code",
   "execution_count": null,
   "id": "6fd16880-25b1-4452-bac6-b2f927b2c57c",
   "metadata": {},
   "outputs": [],
   "source": [
    "point_priority = gpd.read_file('./point_priority_sep8.geojson')"
   ]
  },
  {
   "cell_type": "code",
   "execution_count": null,
   "id": "a9ae0abf-5777-401c-99b6-ef34d3eea1a1",
   "metadata": {},
   "outputs": [],
   "source": [
    "point_priority.explore()"
   ]
  },
  {
   "cell_type": "markdown",
   "id": "f3c4e7ef-f29c-482c-8d9a-5828d7742282",
   "metadata": {},
   "source": [
    "# Previous Runs"
   ]
  },
  {
   "cell_type": "code",
   "execution_count": null,
   "id": "c0b13a2a-ddb9-45e8-97ac-d2af806fdaef",
   "metadata": {},
   "outputs": [],
   "source": [
    "gdf = gpd.read_file('./june16_corridor_metrics_speeds.geojson')"
   ]
  },
  {
   "cell_type": "code",
   "execution_count": null,
   "id": "0f371c4d-2b55-4104-8ce9-88370e270c7e",
   "metadata": {},
   "outputs": [],
   "source": [
    "gdf.explore()"
   ]
  },
  {
   "cell_type": "code",
   "execution_count": null,
   "id": "cec108f8-a795-461b-954c-60f82f4c0500",
   "metadata": {},
   "outputs": [],
   "source": []
  }
 ],
 "metadata": {
  "kernelspec": {
   "display_name": "Python 3 (ipykernel)",
   "language": "python",
   "name": "python3"
  },
  "language_info": {
   "codemirror_mode": {
    "name": "ipython",
    "version": 3
   },
   "file_extension": ".py",
   "mimetype": "text/x-python",
   "name": "python",
   "nbconvert_exporter": "python",
   "pygments_lexer": "ipython3",
   "version": "3.9.13"
  },
  "widgets": {
   "application/vnd.jupyter.widget-state+json": {
    "state": {
     "0abe2b0165fd421aa2d7445d86f5ec2d": {
      "model_module": "@jupyter-widgets/base",
      "model_module_version": "1.2.0",
      "model_name": "LayoutModel",
      "state": {}
     },
     "187f263d40ee4a129390ae4921d9339f": {
      "model_module": "@jupyter-widgets/base",
      "model_module_version": "1.2.0",
      "model_name": "LayoutModel",
      "state": {}
     },
     "1a37ad0e6eaf40da908b216d9a6753be": {
      "model_module": "@jupyter-widgets/controls",
      "model_module_version": "1.5.0",
      "model_name": "HBoxModel",
      "state": {
       "children": [
        "IPY_MODEL_bb0db3474dc44be0861e03bda1603ebf",
        "IPY_MODEL_40e41d9a66e7487ab7e3a282a7cb9f4b",
        "IPY_MODEL_84f4a6378fff4f2980b71955bf62972c"
       ],
       "layout": "IPY_MODEL_187f263d40ee4a129390ae4921d9339f"
      }
     },
     "40e41d9a66e7487ab7e3a282a7cb9f4b": {
      "model_module": "@jupyter-widgets/controls",
      "model_module_version": "1.5.0",
      "model_name": "FloatProgressModel",
      "state": {
       "layout": "IPY_MODEL_0abe2b0165fd421aa2d7445d86f5ec2d",
       "max": 2,
       "style": "IPY_MODEL_ea4d6877694645ecaa2b77c41264b883",
       "value": 2
      }
     },
     "84f4a6378fff4f2980b71955bf62972c": {
      "model_module": "@jupyter-widgets/controls",
      "model_module_version": "1.5.0",
      "model_name": "HTMLModel",
      "state": {
       "layout": "IPY_MODEL_fefe0ebbf91a48829063d111e102febf",
       "style": "IPY_MODEL_f5cff0c4066340cf8c55471b85a98946",
       "value": " 2/2 [00:12&lt;00:00,  6.44s/it]"
      }
     },
     "bb0db3474dc44be0861e03bda1603ebf": {
      "model_module": "@jupyter-widgets/controls",
      "model_module_version": "1.5.0",
      "model_name": "HTMLModel",
      "state": {
       "layout": "IPY_MODEL_f281b527bf2f4941a541330044478261",
       "style": "IPY_MODEL_d083963a3a7a4ae796c8ab4c4e6f0909",
       "value": "Generating segment speeds itp_id: 278 org: San Diego Metro: 100%"
      }
     },
     "d083963a3a7a4ae796c8ab4c4e6f0909": {
      "model_module": "@jupyter-widgets/controls",
      "model_module_version": "1.5.0",
      "model_name": "DescriptionStyleModel",
      "state": {
       "description_width": ""
      }
     },
     "ea4d6877694645ecaa2b77c41264b883": {
      "model_module": "@jupyter-widgets/controls",
      "model_module_version": "1.5.0",
      "model_name": "ProgressStyleModel",
      "state": {
       "description_width": ""
      }
     },
     "f281b527bf2f4941a541330044478261": {
      "model_module": "@jupyter-widgets/base",
      "model_module_version": "1.2.0",
      "model_name": "LayoutModel",
      "state": {}
     },
     "f5cff0c4066340cf8c55471b85a98946": {
      "model_module": "@jupyter-widgets/controls",
      "model_module_version": "1.5.0",
      "model_name": "DescriptionStyleModel",
      "state": {
       "description_width": ""
      }
     },
     "fefe0ebbf91a48829063d111e102febf": {
      "model_module": "@jupyter-widgets/base",
      "model_module_version": "1.2.0",
      "model_name": "LayoutModel",
      "state": {}
     }
    },
    "version_major": 2,
    "version_minor": 0
   }
  }
 },
 "nbformat": 4,
 "nbformat_minor": 5
}
