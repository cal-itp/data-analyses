{
 "cells": [
  {
   "cell_type": "code",
   "execution_count": null,
   "id": "46898b5c-b5cc-4096-ab68-8c3e42fab870",
   "metadata": {},
   "outputs": [],
   "source": [
    "%%capture\n",
    "import warnings\n",
    "warnings.filterwarnings('ignore')\n",
    "\n",
    "import os\n",
    "os.environ[\"CALITP_BQ_MAX_BYTES\"] = str(800_000_000_000)\n",
    "import shared_utils\n",
    "\n",
    "from calitp_data_analysis.tables import tbls\n",
    "import calitp_data_analysis.magics\n",
    "\n",
    "from siuba import *\n",
    "import pandas as pd\n",
    "import geopandas as gpd\n",
    "\n",
    "import datetime as dt\n",
    "\n",
    "import importlib\n",
    "from rt_analysis import rt_filter_map_plot\n",
    "# import build_speedmaps_index\n",
    "\n",
    "from IPython.display import display, Markdown, Latex, HTML\n",
    "import json"
   ]
  },
  {
   "cell_type": "code",
   "execution_count": null,
   "id": "a639fd84-29ca-4678-b568-2b1022701e14",
   "metadata": {},
   "outputs": [],
   "source": [
    "analysis_date = dt.date.fromisoformat(shared_utils.rt_dates.DATES['aug2023a'])"
   ]
  },
  {
   "cell_type": "code",
   "execution_count": null,
   "id": "47c79d99-c82f-4e1e-b11e-2b1e83c13a1b",
   "metadata": {},
   "outputs": [],
   "source": [
    "%%capture_parameters\n",
    "human_date = analysis_date.strftime('%B %d %Y (%A)')\n",
    "human_date"
   ]
  },
  {
   "cell_type": "code",
   "execution_count": null,
   "id": "8352dcfe-9c50-46ee-9f80-3b912440968e",
   "metadata": {},
   "outputs": [],
   "source": [
    "from tqdm.notebook import tqdm"
   ]
  },
  {
   "cell_type": "markdown",
   "id": "8049ab71-3913-4d57-999d-95b56ec72387",
   "metadata": {},
   "source": [
    "# District Submissions Sep 2023\n"
   ]
  },
  {
   "cell_type": "code",
   "execution_count": null,
   "id": "60fb513f-16f9-450f-9208-6d9416e2d864",
   "metadata": {},
   "outputs": [],
   "source": [
    "line_priority = gpd.read_file('./linear_priority_sep8.geojson')"
   ]
  },
  {
   "cell_type": "code",
   "execution_count": null,
   "id": "1dbe7b5b-09dc-42e3-b547-0a6b19b68cb9",
   "metadata": {},
   "outputs": [],
   "source": [
    "# line_priority"
   ]
  },
  {
   "cell_type": "markdown",
   "id": "a9bce2ac-54cb-42aa-8185-0c3e35844f9a",
   "metadata": {
    "tags": []
   },
   "source": [
    "## MST -- SR68 (speculative?)\n",
    "\n",
    "* TODO analyze on existing alignment..."
   ]
  },
  {
   "cell_type": "code",
   "execution_count": null,
   "id": "661a1d98-b62a-4881-ba26-149c1409d3af",
   "metadata": {},
   "outputs": [],
   "source": [
    "line_priority.iloc[[0]].geo_comments[0]"
   ]
  },
  {
   "cell_type": "code",
   "execution_count": null,
   "id": "24c42ccc-8cd5-42d9-b089-24793667fbd8",
   "metadata": {},
   "outputs": [],
   "source": [
    "line_priority.iloc[[0]].explore()"
   ]
  },
  {
   "cell_type": "markdown",
   "id": "0971e08d-8f06-4d23-8dcd-f115d50072d1",
   "metadata": {
    "tags": []
   },
   "source": [
    "### 5 MST - analyze w/ 0"
   ]
  },
  {
   "cell_type": "code",
   "execution_count": null,
   "id": "f9ff32cd-609d-4c7e-8885-b4aa5f4d5eba",
   "metadata": {},
   "outputs": [],
   "source": [
    "line_priority.iloc[[5]]"
   ]
  },
  {
   "cell_type": "code",
   "execution_count": null,
   "id": "32711315-5945-427a-ad88-243906910a09",
   "metadata": {},
   "outputs": [],
   "source": [
    "line_priority.iloc[[5]].geo_comments.iloc[0]"
   ]
  },
  {
   "cell_type": "code",
   "execution_count": null,
   "id": "919f22d8-6d1e-49e1-b7ee-2d67af339fda",
   "metadata": {},
   "outputs": [],
   "source": [
    "line_priority.iloc[[5]].explore()"
   ]
  },
  {
   "cell_type": "markdown",
   "id": "751d5a42-d55d-4092-a2c2-530f263267b1",
   "metadata": {
    "tags": []
   },
   "source": [
    "### 12 MST (group with 0, 5)"
   ]
  },
  {
   "cell_type": "code",
   "execution_count": null,
   "id": "940259e6-2a7b-4008-b603-7937b9fcba8a",
   "metadata": {},
   "outputs": [],
   "source": [
    "line_priority.iloc[[12]]"
   ]
  },
  {
   "cell_type": "code",
   "execution_count": null,
   "id": "39561373-1c1c-4192-98e9-daba976492c5",
   "metadata": {},
   "outputs": [],
   "source": [
    "line_priority.iloc[[12]].geo_comments.iloc[0]"
   ]
  },
  {
   "cell_type": "code",
   "execution_count": null,
   "id": "2986fa9d-8098-420b-b1c4-2b8df1ca39ab",
   "metadata": {},
   "outputs": [],
   "source": [
    "line_priority.iloc[[12]].explore()"
   ]
  },
  {
   "cell_type": "code",
   "execution_count": null,
   "id": "6a478370-24c4-42e8-9921-4d97324d1d2f",
   "metadata": {
    "tags": [
     "parameters"
    ]
   },
   "outputs": [],
   "source": [
    "## parameters cell\n",
    "itp_id = 208"
   ]
  },
  {
   "cell_type": "code",
   "execution_count": null,
   "id": "218f56e4-0ce3-494b-b3fb-8b0885df1809",
   "metadata": {},
   "outputs": [],
   "source": [
    "%%capture\n",
    "rt_day = rt_filter_map_plot.from_gcs(itp_id, analysis_date, pbar)"
   ]
  },
  {
   "cell_type": "code",
   "execution_count": null,
   "id": "d37fe11f-a90e-4b08-9cf2-b031a3a829e0",
   "metadata": {},
   "outputs": [],
   "source": [
    "%%capture_parameters\n",
    "organization_name = rt_day.organization_name\n",
    "organization_name"
   ]
  },
  {
   "cell_type": "code",
   "execution_count": null,
   "id": "58441f14-6ba4-4293-8cfd-69c217ab966b",
   "metadata": {},
   "outputs": [],
   "source": [
    "rt_day.set_filter(route_names = ['20'])"
   ]
  },
  {
   "cell_type": "code",
   "execution_count": null,
   "id": "936a85ee-56c1-4742-8443-d8e171c69299",
   "metadata": {},
   "outputs": [],
   "source": [
    "_m = rt_day.segment_speed_map()"
   ]
  },
  {
   "cell_type": "code",
   "execution_count": null,
   "id": "23d9e22f-3efe-4de5-b376-ecbbfcb8005c",
   "metadata": {},
   "outputs": [],
   "source": [
    "route_20_length = rt_day.stop_segment_speed_view.shape_meters.max()\n",
    "route_20_length"
   ]
  },
  {
   "cell_type": "code",
   "execution_count": null,
   "id": "9c49d98b-24d0-42d9-8849-4ba7f2644f5a",
   "metadata": {},
   "outputs": [],
   "source": [
    "p20_allday_mph = rt_day._filter(rt_day.rt_trips).mean_speed_mph.quantile(.2)\n",
    "p20_allday_mph"
   ]
  },
  {
   "cell_type": "code",
   "execution_count": null,
   "id": "ef3da0e7-a668-4ff1-81b6-16c6aa11c470",
   "metadata": {},
   "outputs": [],
   "source": [
    "route_20_mi = route_20_length / 1609\n",
    "runtime_hr = route_20_mi / p20_allday_mph\n",
    "runtime_hr"
   ]
  },
  {
   "cell_type": "markdown",
   "id": "6955b9c9-4e82-4736-8257-599be03a1674",
   "metadata": {
    "jp-MarkdownHeadingCollapsed": true,
    "tags": []
   },
   "source": [
    "## 1 MST -- John (~queue jumps~/amenities)\n",
    "\n",
    "* propose not modeling a speed increase"
   ]
  },
  {
   "cell_type": "code",
   "execution_count": null,
   "id": "dbdf7458-fa8f-4dd9-aadb-781f43ab54ec",
   "metadata": {},
   "outputs": [],
   "source": [
    "line_priority.iloc[[1]]"
   ]
  },
  {
   "cell_type": "code",
   "execution_count": null,
   "id": "cb081e8f-dd63-4ea8-a513-6597502b45fb",
   "metadata": {},
   "outputs": [],
   "source": [
    "line_priority.iloc[[1]].geo_comments.iloc[0]"
   ]
  },
  {
   "cell_type": "code",
   "execution_count": null,
   "id": "55d781a7-7929-4404-8aba-76cc0fc86f4d",
   "metadata": {},
   "outputs": [],
   "source": [
    "line_priority.iloc[[1]].explore()"
   ]
  },
  {
   "cell_type": "markdown",
   "id": "9dde7b8c-05ac-4e83-9b1b-a1cd47cf85ee",
   "metadata": {
    "jp-MarkdownHeadingCollapsed": true,
    "tags": []
   },
   "source": [
    "## 2 Humboldt (TSP)\n",
    "\n",
    "* TSP for entire area, TODO existing runtime?"
   ]
  },
  {
   "cell_type": "code",
   "execution_count": null,
   "id": "07f69aec-a8c3-4869-a871-614c25fb6fee",
   "metadata": {},
   "outputs": [],
   "source": [
    "line_priority.iloc[[2]]"
   ]
  },
  {
   "cell_type": "code",
   "execution_count": null,
   "id": "52a889ca-35d4-4250-a3df-248b072c63df",
   "metadata": {},
   "outputs": [],
   "source": [
    "line_priority.iloc[[2]].geo_comments[2]"
   ]
  },
  {
   "cell_type": "code",
   "execution_count": null,
   "id": "3ed84c32-6b9c-4e8c-b3cb-18eee59f637f",
   "metadata": {},
   "outputs": [],
   "source": [
    "line_priority.iloc[[2]].explore()"
   ]
  },
  {
   "cell_type": "markdown",
   "id": "84f79735-a2e2-490d-b9e9-a1c60afcaa09",
   "metadata": {
    "jp-MarkdownHeadingCollapsed": true,
    "tags": []
   },
   "source": [
    "## 3 Humboldt (bus lane)\n",
    "\n",
    "* Are buses going to use this instead of US101?\n",
    "* per plan, yes \" southbound travel would shift to an improved one-way Koster Street and a new one-way facility north of Vigo Street to Bayshore Mall. South Broadway would be improved with bike lanes and pedestrian safety improvements within the existing right of way. \"\n",
    "* propose modelling bus lane on full plan area, including one-way couplets and two-way section\n",
    "* can probably reuse prior runs..."
   ]
  },
  {
   "cell_type": "code",
   "execution_count": null,
   "id": "b52c5b92-e295-48d8-aadd-ac68048cf49a",
   "metadata": {},
   "outputs": [],
   "source": [
    "line_priority.iloc[[3]].Scrs_Link.iloc[0]"
   ]
  },
  {
   "cell_type": "code",
   "execution_count": null,
   "id": "7267a0fe-ad65-4fa7-b2b0-aec4a81ecf54",
   "metadata": {},
   "outputs": [],
   "source": [
    "line_priority.iloc[[3]]"
   ]
  },
  {
   "cell_type": "code",
   "execution_count": null,
   "id": "6d8c9869-e701-4bdf-a582-e4fa8a231749",
   "metadata": {},
   "outputs": [],
   "source": [
    "line_priority.iloc[[3]].geo_comments"
   ]
  },
  {
   "cell_type": "code",
   "execution_count": null,
   "id": "e144953f-6258-4842-b7ee-15e57fc705ae",
   "metadata": {},
   "outputs": [],
   "source": [
    "line_priority.iloc[[3]].explore()"
   ]
  },
  {
   "cell_type": "markdown",
   "id": "d8db65df-720b-48ba-9b8b-21e4c2ccfcaa",
   "metadata": {
    "tags": []
   },
   "source": [
    "## 9 HTA (queue jump, goes w/ 3)"
   ]
  },
  {
   "cell_type": "code",
   "execution_count": null,
   "id": "46ead714-4141-4759-92a5-b991cd2044c5",
   "metadata": {},
   "outputs": [],
   "source": [
    "line_priority.iloc[[9]]"
   ]
  },
  {
   "cell_type": "code",
   "execution_count": null,
   "id": "518e9542-dca4-4f27-9953-157ceb2e81d3",
   "metadata": {},
   "outputs": [],
   "source": [
    "line_priority.iloc[[9]].geo_comments.iloc[0]"
   ]
  },
  {
   "cell_type": "code",
   "execution_count": null,
   "id": "963ed972-7548-4760-b290-d0f57859e76b",
   "metadata": {},
   "outputs": [],
   "source": [
    "line_priority.iloc[[9]].explore()"
   ]
  },
  {
   "cell_type": "markdown",
   "id": "6994f80f-b565-4935-8d5c-ef96651d9dfd",
   "metadata": {
    "tags": []
   },
   "source": [
    "## 10 HTA (bus lane, group w/ 3, 9)"
   ]
  },
  {
   "cell_type": "code",
   "execution_count": null,
   "id": "8bfe46a2-2b27-4cf7-87e9-8da5a9c9228e",
   "metadata": {},
   "outputs": [],
   "source": [
    "line_priority.iloc[[10]]"
   ]
  },
  {
   "cell_type": "code",
   "execution_count": null,
   "id": "e048c730-2cc9-4d03-90c3-f09ead1c6625",
   "metadata": {},
   "outputs": [],
   "source": [
    "line_priority.iloc[[10]].geo_comments.iloc[0]"
   ]
  },
  {
   "cell_type": "code",
   "execution_count": null,
   "id": "f84d96ab-f7df-43fb-a695-52fa657faa53",
   "metadata": {},
   "outputs": [],
   "source": [
    "line_priority.iloc[[10]].explore()"
   ]
  },
  {
   "cell_type": "markdown",
   "id": "6b190822-532b-427e-ade8-bbd9bf9e7756",
   "metadata": {
    "jp-MarkdownHeadingCollapsed": true,
    "tags": []
   },
   "source": [
    "## 4 LA Metro (Bus Lane, peak only)"
   ]
  },
  {
   "cell_type": "code",
   "execution_count": null,
   "id": "4ea4fb84-0b4a-49ce-8cd2-e95ed6d2f4c0",
   "metadata": {},
   "outputs": [],
   "source": [
    "line_priority.iloc[[4]]"
   ]
  },
  {
   "cell_type": "code",
   "execution_count": null,
   "id": "f5feac24-bd55-499e-85bb-cdf1b4f18e55",
   "metadata": {},
   "outputs": [],
   "source": [
    "line_priority.iloc[[4]].geo_comments.iloc[0]"
   ]
  },
  {
   "cell_type": "code",
   "execution_count": null,
   "id": "f65cbfe4-252d-4dbc-bceb-f183c2b42431",
   "metadata": {},
   "outputs": [],
   "source": [
    "line_priority.iloc[[4]].explore()"
   ]
  },
  {
   "cell_type": "markdown",
   "id": "52024183-781f-4ea5-8f43-37e86c8f3397",
   "metadata": {
    "tags": []
   },
   "source": [
    "### 11 LA Metro -- analyze w/ 4\n",
    "\n",
    "* duplicate geography, one analysis"
   ]
  },
  {
   "cell_type": "code",
   "execution_count": null,
   "id": "3ebbffc4-110e-4a7a-b0d9-06e2dd152296",
   "metadata": {},
   "outputs": [],
   "source": [
    "line_priority.iloc[[11]]"
   ]
  },
  {
   "cell_type": "code",
   "execution_count": null,
   "id": "b4e38635-d95b-4e68-ae70-f420b08a23bb",
   "metadata": {},
   "outputs": [],
   "source": [
    "line_priority.iloc[[11]].geo_comments.iloc[0]"
   ]
  },
  {
   "cell_type": "code",
   "execution_count": null,
   "id": "1ef1fa90-18f7-4421-aef9-084b8cc654b1",
   "metadata": {},
   "outputs": [],
   "source": [
    "line_priority.iloc[[11]].explore()"
   ]
  },
  {
   "cell_type": "code",
   "execution_count": null,
   "id": "151c8ec1-dddd-456b-acd7-cb9d9f46a207",
   "metadata": {
    "tags": [
     "parameters"
    ]
   },
   "outputs": [],
   "source": [
    "## parameters cell\n",
    "itp_id = 182"
   ]
  },
  {
   "cell_type": "code",
   "execution_count": null,
   "id": "521694b8-8428-4026-97ac-fa36f830ce31",
   "metadata": {},
   "outputs": [],
   "source": [
    "%%capture\n",
    "rt_day = rt_filter_map_plot.from_gcs(itp_id, analysis_date, pbar)"
   ]
  },
  {
   "cell_type": "code",
   "execution_count": null,
   "id": "e693b1db-1fea-4856-9c83-1aefbd3b9592",
   "metadata": {},
   "outputs": [],
   "source": [
    "%%capture_parameters\n",
    "organization_name = rt_day.organization_name\n",
    "organization_name"
   ]
  },
  {
   "cell_type": "code",
   "execution_count": null,
   "id": "2bd44c29-e032-4217-b1cc-030426de9080",
   "metadata": {},
   "outputs": [],
   "source": [
    "rt_day.set_filter(route_names = ['4'], start_time='07:00', end_time='09:00')"
   ]
  },
  {
   "cell_type": "code",
   "execution_count": null,
   "id": "9f991e24-5891-4911-91f5-c2e12e24cefb",
   "metadata": {},
   "outputs": [],
   "source": [
    "_m = rt_day.segment_speed_map()"
   ]
  },
  {
   "cell_type": "code",
   "execution_count": null,
   "id": "069a1125-0cfa-4d99-949d-f901721c1b99",
   "metadata": {},
   "outputs": [],
   "source": [
    "rt_day.autocorridor(shape_id = '40330_JUNE23', stop_seq_range = [7, 10])"
   ]
  },
  {
   "cell_type": "code",
   "execution_count": null,
   "id": "b8367a1b-dde7-4b1a-8114-03574249c57e",
   "metadata": {},
   "outputs": [],
   "source": [
    "##TODO frequency improvements by period? midday speeds?"
   ]
  },
  {
   "cell_type": "code",
   "execution_count": null,
   "id": "def2087c-75c9-4aa2-9c1b-73a3ffd167ca",
   "metadata": {},
   "outputs": [],
   "source": [
    "rt_day.corridor_metrics()"
   ]
  },
  {
   "cell_type": "code",
   "execution_count": null,
   "id": "653ff460-ed40-4b09-a5bb-fce29833f477",
   "metadata": {},
   "outputs": [],
   "source": [
    "all_corridors = []"
   ]
  },
  {
   "cell_type": "code",
   "execution_count": null,
   "id": "8b8f2bb7-c7ab-4a28-bd5e-ae71d3f25b48",
   "metadata": {},
   "outputs": [],
   "source": [
    "rt_day.corridor['corridor'] = 'sr2_am'"
   ]
  },
  {
   "cell_type": "code",
   "execution_count": null,
   "id": "71a5f1bb-0c4d-45fe-919b-5a0ce36c29b3",
   "metadata": {},
   "outputs": [],
   "source": [
    "all_corridors += [rt_day.corridor]"
   ]
  },
  {
   "cell_type": "code",
   "execution_count": null,
   "id": "2754798e-4c6b-4640-8b0d-d5d1392dcbb3",
   "metadata": {},
   "outputs": [],
   "source": [
    "rt_day.set_filter(route_names = ['4'], start_time='16:00', end_time='19:00')"
   ]
  },
  {
   "cell_type": "code",
   "execution_count": null,
   "id": "ab8466ec-a07e-4963-b89b-5528fe74ddbf",
   "metadata": {},
   "outputs": [],
   "source": [
    "_m = rt_day.segment_speed_map()"
   ]
  },
  {
   "cell_type": "code",
   "execution_count": null,
   "id": "01fe319b-7b21-4f97-a43a-2d5be05bd5e8",
   "metadata": {},
   "outputs": [],
   "source": [
    "rt_day.autocorridor(shape_id = '40324_JUNE23', stop_seq_range = [6.5, 10])"
   ]
  },
  {
   "cell_type": "code",
   "execution_count": null,
   "id": "5ca61d1a-63b6-4b1b-ad9d-7c93834ce5ec",
   "metadata": {},
   "outputs": [],
   "source": [
    "rt_day.corridor_metrics()"
   ]
  },
  {
   "cell_type": "code",
   "execution_count": null,
   "id": "21a765ba-85da-4029-bb65-ba80a46cc454",
   "metadata": {},
   "outputs": [],
   "source": [
    "rt_day.corridor['corridor'] = 'sr2_pm'"
   ]
  },
  {
   "cell_type": "code",
   "execution_count": null,
   "id": "ec994c13-d7b8-47d1-b9b3-5beb316874d7",
   "metadata": {},
   "outputs": [],
   "source": [
    "all_corridors += [rt_day.corridor]"
   ]
  },
  {
   "cell_type": "markdown",
   "id": "ad574392-0c4d-4c71-9bc1-45511b1daedc",
   "metadata": {},
   "source": [
    "### midday improvements..."
   ]
  },
  {
   "cell_type": "code",
   "execution_count": null,
   "id": "75f0ce81-d5e3-4fc3-a5d3-8ab77f27d019",
   "metadata": {},
   "outputs": [],
   "source": [
    "rt_day.set_filter(route_names = ['4'], start_time='09:00', end_time='16:00')"
   ]
  },
  {
   "cell_type": "code",
   "execution_count": null,
   "id": "e79c414e-4b22-4d0e-b1f5-965caa4156e2",
   "metadata": {},
   "outputs": [],
   "source": [
    "_m = rt_day.segment_speed_map()"
   ]
  },
  {
   "cell_type": "code",
   "execution_count": null,
   "id": "3baa8ac2-cf89-4e92-9bef-2d5ab6aca7da",
   "metadata": {},
   "outputs": [],
   "source": [
    "rt_day.autocorridor(shape_id = '40323_JUNE23', stop_seq_range = [6.5, 10])"
   ]
  },
  {
   "cell_type": "code",
   "execution_count": null,
   "id": "77447002-9a5b-4297-a493-391e8d2db4b9",
   "metadata": {},
   "outputs": [],
   "source": [
    "rt_day.corridor_metrics()"
   ]
  },
  {
   "cell_type": "code",
   "execution_count": null,
   "id": "d65b6675-b541-4f6e-a7c0-3313e41be53c",
   "metadata": {},
   "outputs": [],
   "source": [
    "rt_day.corridor['corridor'] = 'sr2_mid'"
   ]
  },
  {
   "cell_type": "code",
   "execution_count": null,
   "id": "0219c354-8c15-4769-ba72-9ff57dfe78e0",
   "metadata": {},
   "outputs": [],
   "source": [
    "all_corridors += [rt_day.corridor]"
   ]
  },
  {
   "cell_type": "markdown",
   "id": "c0525bf1-8549-46e3-b602-320c896d9381",
   "metadata": {
    "jp-MarkdownHeadingCollapsed": true,
    "tags": []
   },
   "source": [
    "## 6 AC Transit (Bus Lane)"
   ]
  },
  {
   "cell_type": "code",
   "execution_count": null,
   "id": "c9c3cfe2-d588-4593-ac89-250de7c09b90",
   "metadata": {},
   "outputs": [],
   "source": [
    "line_priority.iloc[[6]]"
   ]
  },
  {
   "cell_type": "code",
   "execution_count": null,
   "id": "91877c20-700b-44fe-b33a-736429d35488",
   "metadata": {},
   "outputs": [],
   "source": [
    "line_priority.iloc[[6]].geo_comments.iloc[0]"
   ]
  },
  {
   "cell_type": "code",
   "execution_count": null,
   "id": "03438df6-f3e1-45b7-a27d-8d98ac6c217e",
   "metadata": {},
   "outputs": [],
   "source": [
    "line_priority.iloc[[6]].explore()"
   ]
  },
  {
   "cell_type": "markdown",
   "id": "ee63dfdf-18a7-4fc4-a89e-4c91348f9532",
   "metadata": {
    "tags": []
   },
   "source": [
    "### 13 AC Transit (Bus Lane, analyze w/ 6)\n",
    "\n",
    "* NB and SB submitted seperately but can model together"
   ]
  },
  {
   "cell_type": "code",
   "execution_count": null,
   "id": "4f755220-22b7-4ffe-b14e-1e7c89621910",
   "metadata": {
    "tags": [
     "parameters"
    ]
   },
   "outputs": [],
   "source": [
    "## parameters cell\n",
    "itp_id = 4"
   ]
  },
  {
   "cell_type": "code",
   "execution_count": null,
   "id": "6573c5ad-b994-4926-a115-5b4587e0b601",
   "metadata": {},
   "outputs": [],
   "source": [
    "%%capture\n",
    "rt_day = rt_filter_map_plot.from_gcs(itp_id, analysis_date, pbar)"
   ]
  },
  {
   "cell_type": "code",
   "execution_count": null,
   "id": "34c6bc8d-b76c-4c10-8bf3-decce0416684",
   "metadata": {},
   "outputs": [],
   "source": [
    "rt_day.transit_priority_target_mph = 20"
   ]
  },
  {
   "cell_type": "code",
   "execution_count": null,
   "id": "1f2e3d47-d92e-4c1c-b2ea-ab77ef8df86b",
   "metadata": {},
   "outputs": [],
   "source": [
    "%%capture_parameters\n",
    "organization_name = rt_day.organization_name\n",
    "organization_name"
   ]
  },
  {
   "cell_type": "code",
   "execution_count": null,
   "id": "8ff25a57-4424-4957-ab1d-c02c40df1a9c",
   "metadata": {},
   "outputs": [],
   "source": [
    "rt_day.set_filter(route_names = ['72', '72M', '72R'])"
   ]
  },
  {
   "cell_type": "code",
   "execution_count": null,
   "id": "8d0d3e98-ac1c-418d-8500-42ede60a84f5",
   "metadata": {},
   "outputs": [],
   "source": [
    "_m = rt_day.segment_speed_map()"
   ]
  },
  {
   "cell_type": "code",
   "execution_count": null,
   "id": "f44e42b2-49f0-45af-a175-666298ffcd54",
   "metadata": {},
   "outputs": [],
   "source": [
    "rt_day.autocorridor(shape_id = 'shp-72R-58', stop_seq_range = [17, 19])"
   ]
  },
  {
   "cell_type": "code",
   "execution_count": null,
   "id": "78c1d10d-41ca-4c3c-8305-6a328532d55c",
   "metadata": {},
   "outputs": [],
   "source": [
    "# rt_day.corridor_stop_delays >> distinct(_.route_short_name)"
   ]
  },
  {
   "cell_type": "code",
   "execution_count": null,
   "id": "5f88c525-f330-4ca0-9e9b-ccdc85c2b4d5",
   "metadata": {},
   "outputs": [],
   "source": [
    "rt_day.corridor_metrics()"
   ]
  },
  {
   "cell_type": "code",
   "execution_count": null,
   "id": "1b89df41-24f6-43c1-ad1f-3ae92b929664",
   "metadata": {},
   "outputs": [],
   "source": [
    "rt_day.corridor['corridor'] = 'sr123'"
   ]
  },
  {
   "cell_type": "code",
   "execution_count": null,
   "id": "b46904a1-6344-476e-b522-ad7dc83dc076",
   "metadata": {},
   "outputs": [],
   "source": [
    "all_corridors += [rt_day.corridor]"
   ]
  },
  {
   "cell_type": "markdown",
   "id": "2ec05f89-6c8c-4b4d-ada4-930514f2caa7",
   "metadata": {
    "jp-MarkdownHeadingCollapsed": true,
    "tags": []
   },
   "source": [
    "## 7 GGT (queue jump, new direct fwy link?)\n",
    "\n",
    "* _relocates_ stop from existing location in interchange (currently requires uncontrolled crossing of onramp)\n",
    "* will improve ADA compliance, rider comfort, transfer\n",
    "* unlikely to improve mainline speed, may slightly slow mainline service"
   ]
  },
  {
   "cell_type": "code",
   "execution_count": null,
   "id": "79029c41-0959-44a0-86f0-e2f104e32c14",
   "metadata": {},
   "outputs": [],
   "source": [
    "line_priority.iloc[[7]]"
   ]
  },
  {
   "cell_type": "code",
   "execution_count": null,
   "id": "4ad63c29-9242-40ad-b06e-a4692251a64c",
   "metadata": {},
   "outputs": [],
   "source": [
    "line_priority.iloc[[7]].geo_comments.iloc[0]"
   ]
  },
  {
   "cell_type": "code",
   "execution_count": null,
   "id": "94a3863c-f416-4637-be2f-469229083f76",
   "metadata": {},
   "outputs": [],
   "source": [
    "line_priority.iloc[[7]].explore()"
   ]
  },
  {
   "cell_type": "markdown",
   "id": "99c35a3c-33d7-4dbe-85ab-918d273b470a",
   "metadata": {
    "tags": []
   },
   "source": [
    "### 14 GGT (queue jump, new direct fwy link?, group w/ 7)"
   ]
  },
  {
   "cell_type": "code",
   "execution_count": null,
   "id": "7fc29fa8-4177-46dd-bd3d-21f23b0b43af",
   "metadata": {},
   "outputs": [],
   "source": [
    "line_priority.iloc[[14]]"
   ]
  },
  {
   "cell_type": "code",
   "execution_count": null,
   "id": "182ac574-6f5f-4c10-8882-cec336bc0885",
   "metadata": {},
   "outputs": [],
   "source": [
    "line_priority.iloc[[14]].geo_comments.iloc[0]"
   ]
  },
  {
   "cell_type": "code",
   "execution_count": null,
   "id": "f55dfe6a-5b31-4b62-9f78-299a20f85e90",
   "metadata": {},
   "outputs": [],
   "source": [
    "line_priority.iloc[[14]].explore()"
   ]
  },
  {
   "cell_type": "markdown",
   "id": "25eaa87e-d803-4f59-a8f7-59e299efd7e8",
   "metadata": {
    "tags": []
   },
   "source": [
    "## 8 SDMTS (Bus Lane, fwy?)"
   ]
  },
  {
   "cell_type": "code",
   "execution_count": null,
   "id": "2e5a6719-d141-4257-b632-c623f2a4235c",
   "metadata": {},
   "outputs": [],
   "source": [
    "line_priority.iloc[[8]]"
   ]
  },
  {
   "cell_type": "code",
   "execution_count": null,
   "id": "edb81235-5a4b-4b14-815f-55f78471079b",
   "metadata": {},
   "outputs": [],
   "source": [
    "line_priority.iloc[[8]].geo_comments.iloc[0]"
   ]
  },
  {
   "cell_type": "code",
   "execution_count": null,
   "id": "7ea2eef9-6882-41c0-9e42-6246cffc4a57",
   "metadata": {},
   "outputs": [],
   "source": [
    "line_priority.iloc[[8]].explore()"
   ]
  },
  {
   "cell_type": "code",
   "execution_count": null,
   "id": "fc2a84e5-ee7b-4d1e-b24e-a9c63eaa3b3f",
   "metadata": {
    "tags": [
     "parameters"
    ]
   },
   "outputs": [],
   "source": [
    "## parameters cell\n",
    "itp_id = 278"
   ]
  },
  {
   "cell_type": "code",
   "execution_count": null,
   "id": "398c82d6-bb68-46bf-b34c-a5b9100656b8",
   "metadata": {},
   "outputs": [],
   "source": [
    "pbar = tqdm()\n",
    "\n",
    "# from rt_analysis import rt_parser\n",
    "\n",
    "# rt_day = rt_parser.OperatorDayAnalysis(itp_id,\n",
    "#                                        analysis_date, pbar)\n",
    "\n",
    "# rt_day.export_views_gcs()"
   ]
  },
  {
   "cell_type": "code",
   "execution_count": null,
   "id": "20448d65-b6d4-4afc-a19f-33f644544e74",
   "metadata": {},
   "outputs": [],
   "source": [
    "%%capture\n",
    "rt_day = rt_filter_map_plot.from_gcs(itp_id, analysis_date, pbar)"
   ]
  },
  {
   "cell_type": "code",
   "execution_count": null,
   "id": "634451e5-b966-4cd7-af80-70c0dbfab660",
   "metadata": {},
   "outputs": [],
   "source": [
    "rt_day.transit_priority_target_mph = 65"
   ]
  },
  {
   "cell_type": "code",
   "execution_count": null,
   "id": "2bb30ba6-2560-479e-8d37-091e57371e05",
   "metadata": {},
   "outputs": [],
   "source": [
    "%%capture_parameters\n",
    "organization_name = rt_day.organization_name\n",
    "organization_name"
   ]
  },
  {
   "cell_type": "code",
   "execution_count": null,
   "id": "d9fe013a-6ce5-4145-8f1a-a260c600c35c",
   "metadata": {},
   "outputs": [],
   "source": [
    "rt_day.set_filter(route_names = ['235'])"
   ]
  },
  {
   "cell_type": "code",
   "execution_count": null,
   "id": "d05fe31e-672c-421d-af3f-7e08d1c1f38d",
   "metadata": {},
   "outputs": [],
   "source": [
    "_m = rt_day.segment_speed_map()"
   ]
  },
  {
   "cell_type": "code",
   "execution_count": null,
   "id": "f23f71db-5d1a-4c4b-b2f8-e0e11d5211e4",
   "metadata": {},
   "outputs": [],
   "source": [
    "rt_day.autocorridor(shape_id = '235_0_65', stop_seq_range = [6.71, 7])"
   ]
  },
  {
   "cell_type": "code",
   "execution_count": null,
   "id": "6a7a877e-3ea2-4c8c-a1e4-26fd8e8d6eb2",
   "metadata": {},
   "outputs": [],
   "source": [
    "rt_day.corridor_stop_delays >> distinct(_.route_short_name)"
   ]
  },
  {
   "cell_type": "code",
   "execution_count": null,
   "id": "4d22c3c2-7edf-4ab5-a9be-1d809e38e646",
   "metadata": {},
   "outputs": [],
   "source": [
    "rt_day.corridor_metrics()"
   ]
  },
  {
   "cell_type": "code",
   "execution_count": null,
   "id": "dbcf2c67-9613-44b0-836d-8a09eb2af6fd",
   "metadata": {},
   "outputs": [],
   "source": [
    "rt_day.corridor['corridor'] = 'sr15'"
   ]
  },
  {
   "cell_type": "code",
   "execution_count": null,
   "id": "e4647cd8-96fe-468f-9ed2-b0204c10db68",
   "metadata": {},
   "outputs": [],
   "source": [
    "all_corridors += [rt_day.corridor]"
   ]
  },
  {
   "cell_type": "code",
   "execution_count": null,
   "id": "a1da08ce-e175-450a-b821-5cb0526a167b",
   "metadata": {},
   "outputs": [],
   "source": [
    "with_sd = pd.concat([gpd.read_file('./sep9_corridor_metrics_speeds.geojson'), gdf])"
   ]
  },
  {
   "cell_type": "markdown",
   "id": "1af714fa-fac1-4fe7-bf62-11ba7fe1924f",
   "metadata": {
    "tags": []
   },
   "source": [
    "## 15 SDMTS (Bus Lane, fwy?)\n",
    "\n",
    "* existing service on only part of project\n",
    "* TODO debug?"
   ]
  },
  {
   "cell_type": "code",
   "execution_count": null,
   "id": "010e4d55-62e5-4c21-ad7d-7e26192e394c",
   "metadata": {},
   "outputs": [],
   "source": [
    "line_priority.iloc[[15]]"
   ]
  },
  {
   "cell_type": "code",
   "execution_count": null,
   "id": "6a9d8e15-e88b-46d8-a579-20406368914a",
   "metadata": {},
   "outputs": [],
   "source": [
    "line_priority.iloc[[15]].geo_comments.iloc[0]"
   ]
  },
  {
   "cell_type": "code",
   "execution_count": null,
   "id": "e71377d2-2c2d-43be-ad20-8ef44445a1f0",
   "metadata": {},
   "outputs": [],
   "source": [
    "line_priority.iloc[[15]].explore()"
   ]
  },
  {
   "cell_type": "code",
   "execution_count": null,
   "id": "9330423a-b930-474a-83e9-5b22ca258037",
   "metadata": {},
   "outputs": [],
   "source": [
    "rt_day.transit_priority_target_mph = 65"
   ]
  },
  {
   "cell_type": "code",
   "execution_count": null,
   "id": "d418011b-1e00-4dfb-a41d-77068c45b167",
   "metadata": {},
   "outputs": [],
   "source": [
    "rt_day.set_filter(route_names = ['60'])"
   ]
  },
  {
   "cell_type": "code",
   "execution_count": null,
   "id": "f683d4e6-969e-4f62-be4d-cc31decef1b3",
   "metadata": {},
   "outputs": [],
   "source": [
    "_m = rt_day.segment_speed_map()"
   ]
  },
  {
   "cell_type": "code",
   "execution_count": null,
   "id": "20c77bb4-e5cf-4b66-a294-ce95658530f4",
   "metadata": {},
   "outputs": [],
   "source": [
    "rt_day.autocorridor(shape_id = '60_0_19', stop_seq_range = [1.17, 1.67])"
   ]
  },
  {
   "cell_type": "code",
   "execution_count": null,
   "id": "c54b0ba1-0ba7-4974-a482-72875889285b",
   "metadata": {},
   "outputs": [],
   "source": [
    "rt_day.corridor.explore()"
   ]
  },
  {
   "cell_type": "code",
   "execution_count": null,
   "id": "824f0b05-28ca-4bfe-a5a2-5fc82cd72e5e",
   "metadata": {},
   "outputs": [],
   "source": [
    "rt_day.corridor_metrics()"
   ]
  },
  {
   "cell_type": "code",
   "execution_count": null,
   "id": "0eab6a36-5496-48f8-8650-33dbc610301c",
   "metadata": {},
   "outputs": [],
   "source": [
    "rt_day.corridor['corridor'] = 'i805'"
   ]
  },
  {
   "cell_type": "code",
   "execution_count": null,
   "id": "c691ccf3-95bd-4ffc-bbab-9a268496a30b",
   "metadata": {},
   "outputs": [],
   "source": [
    "all_corridors += [rt_day.corridor]"
   ]
  },
  {
   "cell_type": "code",
   "execution_count": null,
   "id": "d0eace7a-413c-473d-a99c-6bd951f56799",
   "metadata": {},
   "outputs": [],
   "source": [
    "rt_day.set_filter(route_names=['225'])"
   ]
  },
  {
   "cell_type": "code",
   "execution_count": null,
   "id": "6124b0e9-5827-4853-82d8-c815732110c5",
   "metadata": {},
   "outputs": [],
   "source": [
    "_m = rt_day.segment_speed_map()"
   ]
  },
  {
   "cell_type": "code",
   "execution_count": null,
   "id": "7e4f848b-5c38-4440-9794-a496644ece65",
   "metadata": {},
   "outputs": [],
   "source": [
    "rt_day.autocorridor(shape_id = '225_0_20', stop_seq_range = [7.68, 7.74])"
   ]
  },
  {
   "cell_type": "code",
   "execution_count": null,
   "id": "78aa0c5b-85a7-4019-8591-f21a9fbd56a4",
   "metadata": {},
   "outputs": [],
   "source": [
    "rt_day.corridor.explore()"
   ]
  },
  {
   "cell_type": "code",
   "execution_count": null,
   "id": "8b135342-db7f-4c82-9d1d-1270128737c6",
   "metadata": {},
   "outputs": [],
   "source": [
    "rt_day.corridor_metrics()"
   ]
  },
  {
   "cell_type": "code",
   "execution_count": null,
   "id": "f9412764-b575-4cf4-b914-5920ea20cc3a",
   "metadata": {},
   "outputs": [],
   "source": [
    "rt_day.corridor['corridor'] = 'i805'"
   ]
  },
  {
   "cell_type": "code",
   "execution_count": null,
   "id": "5c801b7e-c385-4fe4-ab63-8c5a64da2964",
   "metadata": {},
   "outputs": [],
   "source": [
    "all_corridors += [rt_day.corridor]"
   ]
  },
  {
   "cell_type": "code",
   "execution_count": null,
   "id": "21fb5ae7-84e9-47b4-ad22-838ce67e1233",
   "metadata": {},
   "outputs": [],
   "source": [
    "rt_day.stop_delay_view >> filter(_.route_short_name == '225')"
   ]
  },
  {
   "cell_type": "code",
   "execution_count": null,
   "id": "1335990c-3590-4344-93f9-d47caa1a8ab4",
   "metadata": {},
   "outputs": [],
   "source": [
    "rt_day.corridor.explore()"
   ]
  },
  {
   "cell_type": "code",
   "execution_count": null,
   "id": "9f18b246-3380-416b-843d-3991c1bb791f",
   "metadata": {},
   "outputs": [],
   "source": [
    "rt_day.corridor_metrics()"
   ]
  },
  {
   "cell_type": "markdown",
   "id": "90b6f36f-1ead-4545-9760-2d70c2a79b1c",
   "metadata": {},
   "source": [
    "## Concat and Export"
   ]
  },
  {
   "cell_type": "code",
   "execution_count": null,
   "id": "8c0648aa-3972-4979-9523-c416535435dd",
   "metadata": {},
   "outputs": [],
   "source": [
    "gdf = pd.concat(all_corridors)"
   ]
  },
  {
   "cell_type": "code",
   "execution_count": null,
   "id": "d24d14a4-5e30-4c03-bf35-96f2249d8585",
   "metadata": {},
   "outputs": [],
   "source": [
    "gdf.to_file('./sep9_corridor_metrics_speeds.geojson')"
   ]
  },
  {
   "cell_type": "code",
   "execution_count": null,
   "id": "792ffd12-1c4c-464d-a353-df4d73e62bb5",
   "metadata": {},
   "outputs": [],
   "source": [
    "gdf.to_csv('./sep9_corridor_metrics_speeds.csv')"
   ]
  },
  {
   "cell_type": "markdown",
   "id": "b58cffe8-7301-4bf9-8c32-a55777c426fe",
   "metadata": {},
   "source": [
    "# Points\n",
    "\n",
    "* All seem to be stop locations along projects included above..."
   ]
  },
  {
   "cell_type": "code",
   "execution_count": null,
   "id": "6fd16880-25b1-4452-bac6-b2f927b2c57c",
   "metadata": {},
   "outputs": [],
   "source": [
    "point_priority = gpd.read_file('./point_priority_sep8.geojson')"
   ]
  },
  {
   "cell_type": "code",
   "execution_count": null,
   "id": "a9ae0abf-5777-401c-99b6-ef34d3eea1a1",
   "metadata": {},
   "outputs": [],
   "source": [
    "point_priority.explore()"
   ]
  }
 ],
 "metadata": {
  "kernelspec": {
   "display_name": "Python 3 (ipykernel)",
   "language": "python",
   "name": "python3"
  },
  "language_info": {
   "codemirror_mode": {
    "name": "ipython",
    "version": 3
   },
   "file_extension": ".py",
   "mimetype": "text/x-python",
   "name": "python",
   "nbconvert_exporter": "python",
   "pygments_lexer": "ipython3",
   "version": "3.9.13"
  },
  "widgets": {
   "application/vnd.jupyter.widget-state+json": {
    "state": {},
    "version_major": 2,
    "version_minor": 0
   }
  }
 },
 "nbformat": 4,
 "nbformat_minor": 5
}
