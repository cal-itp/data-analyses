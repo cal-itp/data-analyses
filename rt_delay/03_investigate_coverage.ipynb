{
 "cells": [
  {
   "cell_type": "code",
   "execution_count": null,
   "id": "e351298d-b494-47c0-9627-3b3a19e3c1c2",
   "metadata": {},
   "outputs": [],
   "source": [
    "import os\n",
    "os.environ[\"CALITP_BQ_MAX_BYTES\"] = str(800_000_000_000)\n",
    "\n",
    "from calitp.tables import tbl\n",
    "from calitp import query_sql\n",
    "import calitp.magics\n",
    "\n",
    "import shared_utils\n",
    "import branca\n",
    "from utils import *\n",
    "\n",
    "from siuba import *\n",
    "import pandas as pd\n",
    "import geopandas as gpd\n",
    "import shapely\n",
    "\n",
    "import datetime as dt\n",
    "import time\n",
    "from zoneinfo import ZoneInfo\n",
    "\n",
    "import rt_analysis as rt\n",
    "import importlib"
   ]
  },
  {
   "cell_type": "markdown",
   "id": "a302fa18-d9ac-44a6-a173-e50280423068",
   "metadata": {},
   "source": [
    "https://airtable.com/shrXjIHW4f4Bk2PSG"
   ]
  },
  {
   "cell_type": "code",
   "execution_count": null,
   "id": "a80997ba-912c-4c09-b655-c85ce59c4036",
   "metadata": {},
   "outputs": [],
   "source": [
    "air_view = pd.read_csv('airtable_rt_status.csv').rename(columns={'ITP ID': 'calitp_itp_id', 'GTFS Realtime Status': 'rt_status'})\n",
    "air_view.calitp_itp_id = air_view.calitp_itp_id.fillna(9999).astype(int)"
   ]
  },
  {
   "cell_type": "code",
   "execution_count": null,
   "id": "f1696a76-95cc-463c-b64d-f4db4834462c",
   "metadata": {},
   "outputs": [],
   "source": [
    "air_view.columns"
   ]
  },
  {
   "cell_type": "code",
   "execution_count": null,
   "id": "1024fadf-84db-44cb-86cc-69dcba0db889",
   "metadata": {},
   "outputs": [],
   "source": [
    "air_view.shape"
   ]
  },
  {
   "cell_type": "code",
   "execution_count": null,
   "id": "aaa02d12-86b8-47aa-92c0-8e8489bcd557",
   "metadata": {},
   "outputs": [],
   "source": [
    "air_joined = air_view >> inner_join(_, rt_coverage, on = 'calitp_itp_id') >> distinct(_.calitp_itp_id, _keep_all=True)"
   ]
  },
  {
   "cell_type": "code",
   "execution_count": null,
   "id": "c5cdedb0-8a1a-4a96-b596-05aef74aad3c",
   "metadata": {},
   "outputs": [],
   "source": [
    "air_joined.to_parquet('airtable_joined.parquet')"
   ]
  },
  {
   "cell_type": "code",
   "execution_count": null,
   "id": "e32bcf03-c2c0-4d37-871c-ab8c8e1ad686",
   "metadata": {},
   "outputs": [],
   "source": [
    "# air_joined.to_csv('airtable_joined.csv')"
   ]
  },
  {
   "cell_type": "code",
   "execution_count": null,
   "id": "32ca6168-0a3b-4209-80a6-f9ab7eb2825b",
   "metadata": {},
   "outputs": [],
   "source": [
    "air_joined.shape"
   ]
  },
  {
   "cell_type": "code",
   "execution_count": null,
   "id": "35632d62-5879-4113-a2db-840667e76cde",
   "metadata": {},
   "outputs": [],
   "source": [
    "air_joined"
   ]
  },
  {
   "cell_type": "code",
   "execution_count": null,
   "id": "82eb9bd2-3bfd-4bc5-b024-a4af57806445",
   "metadata": {},
   "outputs": [],
   "source": [
    "rt_coverage >> inner_join(_, tbl.gtfs_schedule.agency() >> collect(), on = ['calitp_itp_id']) >> filter(_.calitp_itp_id == 182)"
   ]
  }
 ],
 "metadata": {
  "kernelspec": {
   "display_name": "Python 3 (ipykernel)",
   "language": "python",
   "name": "python3"
  },
  "language_info": {
   "codemirror_mode": {
    "name": "ipython",
    "version": 3
   },
   "file_extension": ".py",
   "mimetype": "text/x-python",
   "name": "python",
   "nbconvert_exporter": "python",
   "pygments_lexer": "ipython3",
   "version": "3.9.12"
  }
 },
 "nbformat": 4,
 "nbformat_minor": 5
}
