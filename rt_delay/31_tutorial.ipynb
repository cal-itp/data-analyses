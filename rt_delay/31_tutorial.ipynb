{
 "cells": [
  {
   "cell_type": "code",
   "execution_count": 16,
   "id": "5a0af3d7-d71b-482a-b847-178017b234d6",
   "metadata": {},
   "outputs": [],
   "source": [
    "import os\n",
    "os.environ[\"CALITP_BQ_MAX_BYTES\"] = str(1_000_000_000_000) ## 1TB?\n",
    "\n",
    "from siuba import *\n",
    "import pandas as pd\n",
    "import geopandas as gpd\n",
    "import datetime as dt\n",
    "\n",
    "from rt_analysis import rt_filter_map_plot\n",
    "\n",
    "from shared_utils import rt_utils, rt_dates\n",
    "from calitp_data_analysis.tables import tbls\n",
    "from calitp_data_analysis.sql import query_sql\n"
   ]
  },
  {
   "cell_type": "markdown",
   "id": "d65fa6ac-fb14-4955-8eb2-713764e6e895",
   "metadata": {},
   "source": [
    "\n",
    "\n",
    "## Checking if intermediate data is available\n",
    "\n",
    "   * First, decide on a date of interest. Let's use May 17, 2023\n",
    "   * The rt_utils.get_operators function takes the analysis date as a datetime.date object, which we'll construct below\n",
    "   * It also takes a list of operators (currently itp_ids) of interest\n",
    "   * Let's start with Big Blue Bus (300)"
   ]
  },
  {
   "cell_type": "code",
   "execution_count": 9,
   "id": "15eabfc6-a0d6-40eb-9f37-21faf2077519",
   "metadata": {},
   "outputs": [],
   "source": [
    "analysis_date = dt.date(2023, 5, 17)"
   ]
  },
  {
   "cell_type": "code",
   "execution_count": 13,
   "id": "fd92d537-5984-48b1-8b28-f63e1470c936",
   "metadata": {
    "tags": []
   },
   "outputs": [],
   "source": [
    "def get_speedmaps_ix_df(analysis_date: dt.date, itp_id: int | None = None) -> pd.DataFrame:\n",
    "    \"\"\"\n",
    "    Collect relevant keys for finding all schedule and rt data for a reports-assessed organization.\n",
    "    Note that organizations may have multiple sets of feeds, or share feeds with other orgs.\n",
    "\n",
    "    Used with specific itp_id in rt_analysis.rt_parser.OperatorDayAnalysis, or without specifying itp_id\n",
    "    to get an overall table of which datasets were processed and how to deduplicate if needed\n",
    "    \"\"\"\n",
    "    analysis_dt = dt.datetime.combine(analysis_date, dt.time(0))\n",
    "\n",
    "    daily_service = tbls.mart_gtfs.fct_daily_feed_scheduled_service_summary() >> select(\n",
    "        _.schedule_gtfs_dataset_key == _.gtfs_dataset_key, _.feed_key, _.service_date\n",
    "    )\n",
    "\n",
    "    # dim_orgs = (\n",
    "    #     tbls.mart_transit_database.dim_organizations()\n",
    "    #     >> filter(_._valid_from <= analysis_dt, _._valid_to > analysis_dt)\n",
    "    #     >> select(_.source_record_id)\n",
    "    # )\n",
    "\n",
    "    org_feeds_datasets = (\n",
    "        tbls.mart_transit_database.dim_provider_gtfs_data()\n",
    "        >> filter(_._valid_from <= analysis_dt, _._valid_to >= analysis_dt)\n",
    "        >> filter(\n",
    "            _.public_customer_facing_or_regional_subfeed_fixed_route, _.vehicle_positions_gtfs_dataset_key != None\n",
    "        )\n",
    "        >> inner_join(_, daily_service, by=\"schedule_gtfs_dataset_key\")\n",
    "        # >> inner_join(_, dim_orgs, on={\"organization_source_record_id\": \"source_record_id\"})\n",
    "        >> filter(_.service_date == analysis_date)\n",
    "        >> select(\n",
    "            _.feed_key,\n",
    "            _.schedule_gtfs_dataset_key,\n",
    "            _.vehicle_positions_gtfs_dataset_key,\n",
    "            _.organization_itp_id,\n",
    "            # _.caltrans_district,\n",
    "            _.organization_name,\n",
    "            _.service_date,\n",
    "        )\n",
    "    )\n",
    "\n",
    "    if itp_id:\n",
    "        org_feeds_datasets = org_feeds_datasets >> filter(_.organization_itp_id == itp_id)\n",
    "\n",
    "    return org_feeds_datasets >> collect()"
   ]
  },
  {
   "cell_type": "code",
   "execution_count": 43,
   "id": "1772bdef-9304-4e2c-8e35-5eaee06942fd",
   "metadata": {
    "tags": []
   },
   "outputs": [],
   "source": [
    "df = get_speedmaps_ix_df(analysis_date)"
   ]
  },
  {
   "cell_type": "code",
   "execution_count": 21,
   "id": "bd1e3489-9b1e-42c2-b22a-455335fbf8e5",
   "metadata": {
    "tags": []
   },
   "outputs": [],
   "source": [
    "daily_service = query_sql(\n",
    "f'''\n",
    "SELECT gtfs_dataset_key AS schedule_gtfs_dataset_key, feed_key, service_date\n",
    "FROM cal-itp-data-infra.mart_gtfs.fct_daily_feed_scheduled_service_summary\n",
    "WHERE service_date = '{analysis_date}'\n",
    "'''\n",
    ")\n",
    "\n",
    "org_feeds_datasets = query_sql(\n",
    "f'''\n",
    "SELECT schedule_gtfs_dataset_key, vehicle_positions_gtfs_dataset_key, organization_itp_id,\n",
    "organization_name\n",
    "FROM cal-itp-data-infra.mart_transit_database.dim_provider_gtfs_data\n",
    "WHERE _valid_from <= '{analysis_date}'\n",
    "AND _valid_to >= '{analysis_date}'\n",
    "AND public_customer_facing_or_regional_subfeed_fixed_route\n",
    "AND NOT vehicle_positions_gtfs_dataset_key IS NULL\n",
    "'''\n",
    ")\n",
    "\n",
    "daily_service.merge(org_feeds_datasets, on='schedule_gtfs_dataset_key')"
   ]
  },
  {
   "cell_type": "code",
   "execution_count": 50,
   "id": "20be4535-9fba-4743-a801-f0daa2750697",
   "metadata": {
    "tags": []
   },
   "outputs": [],
   "source": [
    "def get_legacy_speedmaps_ix_df(analysis_date: dt.date) -> pd.DataFrame:\n",
    "    \"\"\"\n",
    "    v1/legacy data only\n",
    "    \n",
    "    Collect relevant keys for finding all schedule and rt data for a reports-assessed organization.\n",
    "    Note that organizations may have multiple sets of feeds, or share feeds with other orgs.\n",
    "    \"\"\"\n",
    "    \n",
    "    daily_service = query_sql(\n",
    "    f'''\n",
    "    SELECT gtfs_dataset_key AS schedule_gtfs_dataset_key, feed_key, service_date\n",
    "    FROM cal-itp-data-infra.mart_gtfs.fct_daily_feed_scheduled_service_summary\n",
    "    WHERE service_date = '{analysis_date}'\n",
    "    '''\n",
    "    )\n",
    "\n",
    "    org_feeds_datasets = query_sql(\n",
    "    f'''\n",
    "    SELECT schedule_gtfs_dataset_key, vehicle_positions_gtfs_dataset_key, organization_itp_id,\n",
    "    organization_name\n",
    "    FROM cal-itp-data-infra.mart_transit_database.dim_provider_gtfs_data\n",
    "    WHERE _valid_from <= '{analysis_date}'\n",
    "    AND _valid_to >= '{analysis_date}'\n",
    "    AND public_customer_facing_or_regional_subfeed_fixed_route\n",
    "    AND NOT vehicle_positions_gtfs_dataset_key IS NULL\n",
    "    '''\n",
    "    )\n",
    "\n",
    "    daily_service = daily_service.merge(org_feeds_datasets, on='schedule_gtfs_dataset_key')\n",
    "\n",
    "    return daily_service"
   ]
  },
  {
   "cell_type": "code",
   "execution_count": 51,
   "id": "53bbadfb-6d68-4783-b30b-165e28af1aaf",
   "metadata": {},
   "outputs": [
    {
     "data": {
      "text/html": [
       "<div>\n",
       "<style scoped>\n",
       "    .dataframe tbody tr th:only-of-type {\n",
       "        vertical-align: middle;\n",
       "    }\n",
       "\n",
       "    .dataframe tbody tr th {\n",
       "        vertical-align: top;\n",
       "    }\n",
       "\n",
       "    .dataframe thead th {\n",
       "        text-align: right;\n",
       "    }\n",
       "</style>\n",
       "<table border=\"1\" class=\"dataframe\">\n",
       "  <thead>\n",
       "    <tr style=\"text-align: right;\">\n",
       "      <th></th>\n",
       "      <th>schedule_gtfs_dataset_key</th>\n",
       "      <th>feed_key</th>\n",
       "      <th>service_date</th>\n",
       "      <th>vehicle_positions_gtfs_dataset_key</th>\n",
       "      <th>organization_itp_id</th>\n",
       "      <th>organization_name</th>\n",
       "    </tr>\n",
       "  </thead>\n",
       "  <tbody>\n",
       "    <tr>\n",
       "      <th>91</th>\n",
       "      <td>dbbe8ee4864a2715a40749605395d584</td>\n",
       "      <td>dd0281dab930de28114c82dddba7a33a</td>\n",
       "      <td>2023-05-17</td>\n",
       "      <td>6c2d7daaf979779fa2089c6395baf98b</td>\n",
       "      <td>300</td>\n",
       "      <td>City of Santa Monica</td>\n",
       "    </tr>\n",
       "  </tbody>\n",
       "</table>\n",
       "</div>"
      ],
      "text/plain": [
       "           schedule_gtfs_dataset_key                          feed_key  \\\n",
       "91  dbbe8ee4864a2715a40749605395d584  dd0281dab930de28114c82dddba7a33a   \n",
       "\n",
       "   service_date vehicle_positions_gtfs_dataset_key  organization_itp_id  \\\n",
       "91   2023-05-17   6c2d7daaf979779fa2089c6395baf98b                  300   \n",
       "\n",
       "       organization_name  \n",
       "91  City of Santa Monica  "
      ]
     },
     "execution_count": 51,
     "metadata": {},
     "output_type": "execute_result"
    }
   ],
   "source": [
    "get_speedmaps_ix_df_2(analysis_date, 300)"
   ]
  },
  {
   "cell_type": "code",
   "execution_count": 52,
   "id": "089fd4c1-75fb-4c54-b621-fbc93aa9dbdb",
   "metadata": {},
   "outputs": [],
   "source": [
    "df2 = get_speedmaps_ix_df_2(analysis_date)"
   ]
  },
  {
   "cell_type": "code",
   "execution_count": 53,
   "id": "8cf76918-d8c3-4b1f-aabe-0d97f3786f4c",
   "metadata": {
    "tags": []
   },
   "outputs": [
    {
     "data": {
      "text/html": [
       "<div>\n",
       "<style scoped>\n",
       "    .dataframe tbody tr th:only-of-type {\n",
       "        vertical-align: middle;\n",
       "    }\n",
       "\n",
       "    .dataframe tbody tr th {\n",
       "        vertical-align: top;\n",
       "    }\n",
       "\n",
       "    .dataframe thead th {\n",
       "        text-align: right;\n",
       "    }\n",
       "</style>\n",
       "<table border=\"1\" class=\"dataframe\">\n",
       "  <thead>\n",
       "    <tr style=\"text-align: right;\">\n",
       "      <th></th>\n",
       "      <th>schedule_gtfs_dataset_key</th>\n",
       "      <th>feed_key</th>\n",
       "      <th>service_date</th>\n",
       "      <th>vehicle_positions_gtfs_dataset_key</th>\n",
       "      <th>organization_itp_id</th>\n",
       "      <th>organization_name</th>\n",
       "    </tr>\n",
       "  </thead>\n",
       "  <tbody>\n",
       "    <tr>\n",
       "      <th>0</th>\n",
       "      <td>0139b1253130b33adcd4b3a4490530d2</td>\n",
       "      <td>ef2a9772d88be1e335eb3a4d6c8bc148</td>\n",
       "      <td>2023-05-17</td>\n",
       "      <td>62b02efa3b66277d3d6e7a7f74da37dc</td>\n",
       "      <td>474</td>\n",
       "      <td>Tulare County Regional Transit Agency</td>\n",
       "    </tr>\n",
       "    <tr>\n",
       "      <th>1</th>\n",
       "      <td>015d67d5b75b5cf2b710bbadadfb75f5</td>\n",
       "      <td>3d079c8f6317b3022761676eebddcc39</td>\n",
       "      <td>2023-05-17</td>\n",
       "      <td>ef98f81941594bebcbc3afa66856def3</td>\n",
       "      <td>194</td>\n",
       "      <td>Marin County Transit District</td>\n",
       "    </tr>\n",
       "    <tr>\n",
       "      <th>2</th>\n",
       "      <td>07d3b79f14cec8099119e1eb649f065b</td>\n",
       "      <td>abafd2d70a711fd3ce9a149c4e7f349e</td>\n",
       "      <td>2023-05-17</td>\n",
       "      <td>d8572f10524b0cd0171d98d50b2a7e1b</td>\n",
       "      <td>331</td>\n",
       "      <td>Tahoe Transportation District</td>\n",
       "    </tr>\n",
       "    <tr>\n",
       "      <th>3</th>\n",
       "      <td>0881af3822466784992a49f1cc57d38f</td>\n",
       "      <td>77ad395c1411bd121238fc3de6732d8e</td>\n",
       "      <td>2023-05-17</td>\n",
       "      <td>13c6e9f58e53c12416b7754352fa1acd</td>\n",
       "      <td>315</td>\n",
       "      <td>Sonoma-Marin Area Rail Transit District</td>\n",
       "    </tr>\n",
       "    <tr>\n",
       "      <th>4</th>\n",
       "      <td>09e16227fc42c4fe90204a9d11581034</td>\n",
       "      <td>9c93eedde54ab5f9a25ba51b977358b8</td>\n",
       "      <td>2023-05-17</td>\n",
       "      <td>00accf770009aafd5dc103ff2eeddb37</td>\n",
       "      <td>70</td>\n",
       "      <td>Cloverdale Transit</td>\n",
       "    </tr>\n",
       "    <tr>\n",
       "      <th>...</th>\n",
       "      <td>...</td>\n",
       "      <td>...</td>\n",
       "      <td>...</td>\n",
       "      <td>...</td>\n",
       "      <td>...</td>\n",
       "      <td>...</td>\n",
       "    </tr>\n",
       "    <tr>\n",
       "      <th>103</th>\n",
       "      <td>f74424acf8c41e4c1e9fd42838c4875c</td>\n",
       "      <td>2b1009326f4e095ffdb9fd3009d480ad</td>\n",
       "      <td>2023-05-17</td>\n",
       "      <td>7342e9ab4e268b54f9cce8cc25f11345</td>\n",
       "      <td>97</td>\n",
       "      <td>City of Duarte</td>\n",
       "    </tr>\n",
       "    <tr>\n",
       "      <th>104</th>\n",
       "      <td>f74424acf8c41e4c1e9fd42838c4875c</td>\n",
       "      <td>2b1009326f4e095ffdb9fd3009d480ad</td>\n",
       "      <td>2023-05-17</td>\n",
       "      <td>7342e9ab4e268b54f9cce8cc25f11345</td>\n",
       "      <td>112</td>\n",
       "      <td>Foothill Transit</td>\n",
       "    </tr>\n",
       "    <tr>\n",
       "      <th>105</th>\n",
       "      <td>fa84a7225bba743cc0b7afc21c319a7a</td>\n",
       "      <td>051ef8e3e453f1b8153694811e47d6a7</td>\n",
       "      <td>2023-05-17</td>\n",
       "      <td>55f407b2387b7d084c49010586098dd1</td>\n",
       "      <td>243</td>\n",
       "      <td>City of Pasadena</td>\n",
       "    </tr>\n",
       "    <tr>\n",
       "      <th>106</th>\n",
       "      <td>fb467982dcc77a7f9199bebe709bb700</td>\n",
       "      <td>d6e0324a31a3908244bf886131947d68</td>\n",
       "      <td>2023-05-17</td>\n",
       "      <td>a2710c46937c4d17f3b41568a2d67f05</td>\n",
       "      <td>294</td>\n",
       "      <td>Santa Clara Valley Transportation Authority</td>\n",
       "    </tr>\n",
       "    <tr>\n",
       "      <th>107</th>\n",
       "      <td>fb467982dcc77a7f9199bebe709bb700</td>\n",
       "      <td>d6e0324a31a3908244bf886131947d68</td>\n",
       "      <td>2023-05-17</td>\n",
       "      <td>a2710c46937c4d17f3b41568a2d67f05</td>\n",
       "      <td>294</td>\n",
       "      <td>Santa Clara Valley Transportation Authority</td>\n",
       "    </tr>\n",
       "  </tbody>\n",
       "</table>\n",
       "<p>108 rows × 6 columns</p>\n",
       "</div>"
      ],
      "text/plain": [
       "            schedule_gtfs_dataset_key                          feed_key  \\\n",
       "0    0139b1253130b33adcd4b3a4490530d2  ef2a9772d88be1e335eb3a4d6c8bc148   \n",
       "1    015d67d5b75b5cf2b710bbadadfb75f5  3d079c8f6317b3022761676eebddcc39   \n",
       "2    07d3b79f14cec8099119e1eb649f065b  abafd2d70a711fd3ce9a149c4e7f349e   \n",
       "3    0881af3822466784992a49f1cc57d38f  77ad395c1411bd121238fc3de6732d8e   \n",
       "4    09e16227fc42c4fe90204a9d11581034  9c93eedde54ab5f9a25ba51b977358b8   \n",
       "..                                ...                               ...   \n",
       "103  f74424acf8c41e4c1e9fd42838c4875c  2b1009326f4e095ffdb9fd3009d480ad   \n",
       "104  f74424acf8c41e4c1e9fd42838c4875c  2b1009326f4e095ffdb9fd3009d480ad   \n",
       "105  fa84a7225bba743cc0b7afc21c319a7a  051ef8e3e453f1b8153694811e47d6a7   \n",
       "106  fb467982dcc77a7f9199bebe709bb700  d6e0324a31a3908244bf886131947d68   \n",
       "107  fb467982dcc77a7f9199bebe709bb700  d6e0324a31a3908244bf886131947d68   \n",
       "\n",
       "    service_date vehicle_positions_gtfs_dataset_key  organization_itp_id  \\\n",
       "0     2023-05-17   62b02efa3b66277d3d6e7a7f74da37dc                  474   \n",
       "1     2023-05-17   ef98f81941594bebcbc3afa66856def3                  194   \n",
       "2     2023-05-17   d8572f10524b0cd0171d98d50b2a7e1b                  331   \n",
       "3     2023-05-17   13c6e9f58e53c12416b7754352fa1acd                  315   \n",
       "4     2023-05-17   00accf770009aafd5dc103ff2eeddb37                   70   \n",
       "..           ...                                ...                  ...   \n",
       "103   2023-05-17   7342e9ab4e268b54f9cce8cc25f11345                   97   \n",
       "104   2023-05-17   7342e9ab4e268b54f9cce8cc25f11345                  112   \n",
       "105   2023-05-17   55f407b2387b7d084c49010586098dd1                  243   \n",
       "106   2023-05-17   a2710c46937c4d17f3b41568a2d67f05                  294   \n",
       "107   2023-05-17   a2710c46937c4d17f3b41568a2d67f05                  294   \n",
       "\n",
       "                               organization_name  \n",
       "0          Tulare County Regional Transit Agency  \n",
       "1                  Marin County Transit District  \n",
       "2                  Tahoe Transportation District  \n",
       "3        Sonoma-Marin Area Rail Transit District  \n",
       "4                             Cloverdale Transit  \n",
       "..                                           ...  \n",
       "103                               City of Duarte  \n",
       "104                             Foothill Transit  \n",
       "105                             City of Pasadena  \n",
       "106  Santa Clara Valley Transportation Authority  \n",
       "107  Santa Clara Valley Transportation Authority  \n",
       "\n",
       "[108 rows x 6 columns]"
      ]
     },
     "execution_count": 53,
     "metadata": {},
     "output_type": "execute_result"
    }
   ],
   "source": [
    "df2"
   ]
  },
  {
   "cell_type": "code",
   "execution_count": 55,
   "id": "f520c775-8428-4017-aecd-86e49b0ee6fb",
   "metadata": {
    "tags": []
   },
   "outputs": [
    {
     "data": {
      "text/plain": [
       "True"
      ]
     },
     "execution_count": 55,
     "metadata": {},
     "output_type": "execute_result"
    }
   ],
   "source": [
    "df.equals(df2[df.columns])"
   ]
  },
  {
   "cell_type": "markdown",
   "id": "dc96d4f5-1f98-45a6-8765-89293e6c1de6",
   "metadata": {},
   "source": [
    "Function returns a dictionary of the status of each itp_id passed (in addition to printing it out)."
   ]
  },
  {
   "cell_type": "markdown",
   "id": "6c653dcf-051a-44ba-9cdb-0dcfdf03f285",
   "metadata": {},
   "source": [
    "# Generate a speedmap with RtFilterMapper\n",
    "\n",
    "   * First, we'll construct an `RtFilterMapper` object from intermediate data using `rt_filter_map_plot.from_gcs()`\n",
    "   * Be sure to check first with `rt_utils.get_operators` that data is available. Otherwise, you'll get an error"
   ]
  },
  {
   "cell_type": "code",
   "execution_count": 4,
   "id": "aa9f1127-0647-44a6-85ac-0fa01ed26018",
   "metadata": {},
   "outputs": [
    {
     "data": {
      "text/plain": [
       "\u001b[0;31mSignature:\u001b[0m \u001b[0mrt_filter_map_plot\u001b[0m\u001b[0;34m.\u001b[0m\u001b[0mfrom_gcs\u001b[0m\u001b[0;34m(\u001b[0m\u001b[0mitp_id\u001b[0m\u001b[0;34m,\u001b[0m \u001b[0manalysis_date\u001b[0m\u001b[0;34m,\u001b[0m \u001b[0mpbar\u001b[0m\u001b[0;34m=\u001b[0m\u001b[0;32mNone\u001b[0m\u001b[0;34m)\u001b[0m\u001b[0;34m\u001b[0m\u001b[0;34m\u001b[0m\u001b[0m\n",
       "\u001b[0;31mDocstring:\u001b[0m\n",
       "Generates RtFilterMapper from cached artifacts in GCS. Generate using rt_parser.OperatorDayAnalysis.export_views_gcs()\n",
       "    \n",
       "\u001b[0;31mFile:\u001b[0m      ~/data-analyses/rt_delay/rt_analysis/rt_filter_map_plot.py\n",
       "\u001b[0;31mType:\u001b[0m      function"
      ]
     },
     "metadata": {},
     "output_type": "display_data"
    }
   ],
   "source": [
    "rt_filter_map_plot.from_gcs?"
   ]
  },
  {
   "cell_type": "code",
   "execution_count": null,
   "id": "860906a4-f880-4021-9726-962fca270cfe",
   "metadata": {},
   "outputs": [],
   "source": [
    "rt_day = rt_filter_map_plot.from_gcs(300, analysis_date)"
   ]
  },
  {
   "cell_type": "code",
   "execution_count": null,
   "id": "cde2fd3b-69f1-45d0-a62d-5e1838ccdd49",
   "metadata": {
    "tags": []
   },
   "outputs": [],
   "source": [
    "no_data = rt_filter_map_plot.from_gcs(300, dt.date(2022, 12, 20)) #we haven't ran this date, so this will give an error"
   ]
  },
  {
   "cell_type": "markdown",
   "id": "d26c83a6-6eb4-4581-8178-610293d2955e",
   "metadata": {},
   "source": [
    "## Key Attributes: information and dataframes\n",
    "\n",
    "`RtFilterMapper` makes various information available as attributes, including the agency name and itp_id. The rt_trips and stop_delay_view (geo)dataframes loaded from GCS are also present, additionally `RtFilterMapper` calculates additional views such as endpoint_delay_view and endpoint_delay_summary.\n",
    "\n",
    "These core views are _not_ changed by any filter you set, but they can be filtered manually if desired."
   ]
  },
  {
   "cell_type": "code",
   "execution_count": null,
   "id": "fcdf7799-1406-4f57-a17a-e94ed746686e",
   "metadata": {},
   "outputs": [],
   "source": [
    "rt_day.organization_name"
   ]
  },
  {
   "cell_type": "code",
   "execution_count": null,
   "id": "917019d7-2fbc-4523-ba1c-6e37ce758724",
   "metadata": {},
   "outputs": [],
   "source": [
    "rt_day.calitp_itp_id"
   ]
  },
  {
   "cell_type": "code",
   "execution_count": null,
   "id": "dc6e2b18-d0e2-4b9b-8c55-4cf5de75ee34",
   "metadata": {},
   "outputs": [],
   "source": [
    "rt_day.rt_trips >> head(3)"
   ]
  },
  {
   "cell_type": "code",
   "execution_count": null,
   "id": "61222dac-34a5-4ad6-8431-ad2c4d961bae",
   "metadata": {},
   "outputs": [],
   "source": [
    "rt_day.stop_delay_view >> head(3)"
   ]
  },
  {
   "cell_type": "code",
   "execution_count": null,
   "id": "5e8ecb4e-39c9-4114-874d-9b1eeacde46e",
   "metadata": {},
   "outputs": [],
   "source": [
    "rt_day.endpoint_delay_summary >> head(3)"
   ]
  },
  {
   "cell_type": "code",
   "execution_count": null,
   "id": "d2f83482-d3ee-4798-91f0-313713acec6c",
   "metadata": {},
   "outputs": [],
   "source": [
    "rt_day.endpoint_delay_view >> head(3)"
   ]
  },
  {
   "cell_type": "markdown",
   "id": "b3be9198-7c1a-483d-89f3-0d35e014381a",
   "metadata": {},
   "source": [
    "## Setting filter and generating a map\n",
    "\n",
    "To set a filter, provide at least one arguement to `set_filter`. Once set, most maps, charts, and descriptions produced by RtFilterMapper will automatically apply this filter."
   ]
  },
  {
   "cell_type": "code",
   "execution_count": null,
   "id": "6e6fb60b-033c-44f9-8fcc-5ae248785dc3",
   "metadata": {},
   "outputs": [],
   "source": [
    "rt_day.set_filter?"
   ]
  },
  {
   "cell_type": "code",
   "execution_count": null,
   "id": "3d448efa-0a0d-4070-bfd8-06fe1a38d953",
   "metadata": {},
   "outputs": [],
   "source": [
    "rt_day.reset_filter?"
   ]
  },
  {
   "cell_type": "markdown",
   "id": "bbf7c4c2-6d32-4d74-b4d2-80a776888c0e",
   "metadata": {},
   "source": [
    "Here, let's filter to the morning peak period (6-9AM) and routes 2 and R12"
   ]
  },
  {
   "cell_type": "code",
   "execution_count": null,
   "id": "3e262429-1559-468e-b0b4-fdf6eaeb0b87",
   "metadata": {},
   "outputs": [],
   "source": [
    "rt_day.set_filter(start_time='06:00', end_time='09:00', route_names=['2', 'R12'])"
   ]
  },
  {
   "cell_type": "code",
   "execution_count": null,
   "id": "f1d632ad-47bc-4294-a528-720df16ceccf",
   "metadata": {
    "tags": []
   },
   "outputs": [],
   "source": [
    "m = rt_day.segment_speed_map()"
   ]
  },
  {
   "cell_type": "code",
   "execution_count": null,
   "id": "80b361f6-66d1-4c52-be6a-7eea8e8675f8",
   "metadata": {},
   "outputs": [],
   "source": [
    "m"
   ]
  },
  {
   "cell_type": "markdown",
   "id": "2a2021ff-169f-4c9d-b467-98637b0c3bab",
   "metadata": {},
   "source": [
    "## Variance map (new!)\n",
    "\n",
    "Aggregated speeds are important, but it's also helpful to understand the variation in speeds in each segment. Even if the aggregate speeds are acceptable, if some trips get through an area much faster than others, it's challenging to set a schedule that will provide a consistently good rider experience. Identifying areas of high variance can help target improvements.\n",
    "\n",
    "This is now quantified as the ratio between 80th percentile and 20th percentile speeds, and used on the CA Transit Speed Maps tool."
   ]
  },
  {
   "cell_type": "code",
   "execution_count": null,
   "id": "2c9c3200-c535-404f-a1a1-882bd7f4604f",
   "metadata": {},
   "outputs": [],
   "source": [
    "rt_day.map_variance?"
   ]
  },
  {
   "cell_type": "code",
   "execution_count": null,
   "id": "e90e8e9b-deb1-4a15-8e7a-0d48d30d7276",
   "metadata": {},
   "outputs": [],
   "source": [
    "rt_day.map_variance()"
   ]
  },
  {
   "cell_type": "markdown",
   "id": "3e5e9acc-f150-4b24-a43d-7ad1bd48a1da",
   "metadata": {},
   "source": [
    "## More performant maps via embedded app\n",
    "\n",
    "Rather than render the maps directly in the notebook via geopandas and folium, we now have the capability to save them as compressed GeoJSON to GCS and render them in an IFrame using a [minimal web app](https://github.com/cal-itp/data-infra/tree/main/apps/maps).\n",
    "\n",
    "This method is much more efficient, and we rely on it to maintain the quantity and quality of maps on the [CA Transit Speed Maps](https://analysis.calitp.org/rt/README.html) site.\n",
    "\n",
    "`display_spa_map` will always show the most recent map generated with either `segment_speed_map` or `map_variance`, then saved via `map_gz_export`."
   ]
  },
  {
   "cell_type": "code",
   "execution_count": null,
   "id": "ffe363f4-8225-46e8-81a7-94b09c1b1edb",
   "metadata": {},
   "outputs": [],
   "source": [
    "rt_day.map_gz_export?"
   ]
  },
  {
   "cell_type": "code",
   "execution_count": null,
   "id": "863c01c0-492a-4031-b064-533501e1156c",
   "metadata": {
    "tags": []
   },
   "outputs": [],
   "source": [
    "%%capture\n",
    "rt_day.map_gz_export()"
   ]
  },
  {
   "cell_type": "code",
   "execution_count": null,
   "id": "ef86d9ea-871c-408f-a130-45d118e3adb9",
   "metadata": {},
   "outputs": [],
   "source": [
    "rt_day.spa_map_state"
   ]
  },
  {
   "cell_type": "code",
   "execution_count": null,
   "id": "92c56c6f-8d58-4da8-8413-6d14deb49aeb",
   "metadata": {},
   "outputs": [],
   "source": [
    "rt_day.display_spa_map?"
   ]
  },
  {
   "cell_type": "code",
   "execution_count": null,
   "id": "387b1583-22a0-4013-83c3-239a3d775516",
   "metadata": {
    "tags": []
   },
   "outputs": [],
   "source": [
    "rt_day.display_spa_map()"
   ]
  },
  {
   "cell_type": "code",
   "execution_count": null,
   "id": "889d936e-90a7-49d7-8112-c44e4165a5e5",
   "metadata": {},
   "outputs": [],
   "source": [
    "rt_day.map_variance(no_render=True)"
   ]
  },
  {
   "cell_type": "code",
   "execution_count": null,
   "id": "1f13c0bd-2bc4-45b0-aecc-59ed3f4eaf41",
   "metadata": {
    "tags": []
   },
   "outputs": [],
   "source": [
    "%%capture\n",
    "rt_day.map_gz_export(map_type = 'variance')"
   ]
  },
  {
   "cell_type": "code",
   "execution_count": null,
   "id": "6708b8fa-0f82-4bdc-81eb-970da6cc64c6",
   "metadata": {
    "tags": []
   },
   "outputs": [],
   "source": [
    "rt_day.display_spa_map()"
   ]
  },
  {
   "cell_type": "markdown",
   "id": "0ad0ceea-c570-41bd-b639-fff3861b17b0",
   "metadata": {},
   "source": [
    "## Speed variability chart\n",
    "\n",
    "Let's say we're interested in a closer look at speed variability along route 2. `RtFilterMapper` supports a detailed speed variability chart, but we must first filter to a single shape_id."
   ]
  },
  {
   "cell_type": "code",
   "execution_count": null,
   "id": "8407d5dc-5805-46fb-8d0f-687e891c223e",
   "metadata": {},
   "outputs": [],
   "source": [
    "# Get shape_ids associated with routes in our current filter\n",
    "rt_day._filter(rt_day.rt_trips) >> distinct(_.route_short_name, _.shape_id)"
   ]
  },
  {
   "cell_type": "code",
   "execution_count": null,
   "id": "9b5bf7b5-a231-4e53-95bf-82337a5a30c3",
   "metadata": {},
   "outputs": [],
   "source": [
    "# Set a new filter using shape_id\n",
    "rt_day.set_filter(shape_ids=['25975'])"
   ]
  },
  {
   "cell_type": "code",
   "execution_count": null,
   "id": "b896eed2-6ea9-4b73-82b2-594ad66c76c6",
   "metadata": {
    "tags": []
   },
   "outputs": [],
   "source": [
    "rt_day.chart_variability?"
   ]
  },
  {
   "cell_type": "code",
   "execution_count": null,
   "id": "38366d34-8844-4b9c-9c4e-3f50a15c0147",
   "metadata": {},
   "outputs": [],
   "source": [
    "rt_day.chart_variability(num_segments=10)"
   ]
  },
  {
   "cell_type": "markdown",
   "id": "1a8948b5-6a55-46dc-8cd5-14eb8cdc56ff",
   "metadata": {},
   "source": [
    "## Corridor Metrics (for SCCP, LPP, 100 Buses, etc) \n",
    "\n",
    "Showing speeds on a map is great, but often it would be nice to have a reasonable estimate of how much time is lost to low speeds in a certain area -- for any combination of routes and times of day. `RtFilterMapper` includes corridor analysis methods designed to facilitate these estimates.\n",
    "\n",
    "First, it's necessary to define the corridor. Generally, draw the corridor with a small buffer (~10 meters) around the segment you wish to measure. Note that `RtFilterMapper` currently only handles one contiguous corridor at a time. To draw the corridor, use any platform that outputs a supported GIS file format. [geojson.io](https://geojson.io) is an easy one, but you could also use ESRI or QGIS.\n",
    "\n",
    "If using geojson.io:\n",
    "* Navigate the map to your area of interest\n",
    "* Click the pentagon-shaped \"polygon\" tool in the top center right of the map\n",
    "* Construct your polygon as a series of points\n",
    "* When back at the start, double-click on the starting point to finish drawing (a complete polygon will look like the screenshot below)\n",
    "* Save file as geojson"
   ]
  },
  {
   "cell_type": "markdown",
   "id": "ce462b53-1ed3-4570-8155-51bea5560f1c",
   "metadata": {},
   "source": [
    "![finished polygon on geojson.io](img/geojson_io.png)"
   ]
  },
  {
   "cell_type": "markdown",
   "id": "0e78e6b5-0c9f-4b45-b497-7e5e3c8c277e",
   "metadata": {},
   "source": [
    "### Attaching Corridor to an RtFilterMapper instance\n",
    "\n",
    "* first, construct an `RtFilterMapper` on the date of interest as above\n",
    "* use geopandas to load your corridor file as a geodataframe\n",
    "* pass that geodataframe to `RtFilterMapper.add_corridor()`"
   ]
  },
  {
   "cell_type": "code",
   "execution_count": null,
   "id": "99138320-b9af-4bbe-90b5-21e2ec74936f",
   "metadata": {},
   "outputs": [],
   "source": [
    "corridor = gpd.read_file('./corridors_100buses/example_santamonica.geojson')"
   ]
  },
  {
   "cell_type": "code",
   "execution_count": null,
   "id": "bc670cfd-220c-42b9-8693-797a4726bc5d",
   "metadata": {},
   "outputs": [],
   "source": [
    "corridor"
   ]
  },
  {
   "cell_type": "code",
   "execution_count": null,
   "id": "589d3b47-00a3-4cb5-a690-392f174d13df",
   "metadata": {},
   "outputs": [],
   "source": [
    "rt_day.add_corridor(corridor)"
   ]
  },
  {
   "cell_type": "markdown",
   "id": "fa79d4ed-4887-451e-b436-b8c29602691a",
   "metadata": {},
   "source": [
    "`add_corridor` finds all shapes with at least one stop within the designated corridor, and tracks all stops for those shapes starting with the stop just before entering the corridor and ending with the stop just after leaving the corridor. You can use `RtFilterMapper.quick_map_corridor()` to confirm corridor and stop locations."
   ]
  },
  {
   "cell_type": "code",
   "execution_count": null,
   "id": "60601309-86b3-451e-80a3-7ecdf6805a11",
   "metadata": {},
   "outputs": [],
   "source": [
    "rt_day.quick_map_corridor()"
   ]
  },
  {
   "cell_type": "markdown",
   "id": "0936af3c-59ab-4949-a0a4-028e6fe0dd2a",
   "metadata": {},
   "source": [
    "### Using Corridor for Maps and Metrics"
   ]
  },
  {
   "cell_type": "code",
   "execution_count": null,
   "id": "1c5e291e-e23b-4b6e-abf1-460f903686ac",
   "metadata": {},
   "outputs": [],
   "source": [
    "# reset to remove filter from earlier\n",
    "rt_day.reset_filter()"
   ]
  },
  {
   "cell_type": "markdown",
   "id": "047ae637-1c1b-4929-863e-c7f6ee8a7a11",
   "metadata": {},
   "source": [
    "With a corridor attached, you can use the `RtFilterMapper.segment_speed_map()` `corridor` arguement to generate a speed map filtered to just the corridor."
   ]
  },
  {
   "cell_type": "code",
   "execution_count": null,
   "id": "2bec3f87-8120-4f6d-aa89-90ebda4c8053",
   "metadata": {},
   "outputs": [],
   "source": [
    "rt_day.segment_speed_map(corridor=True)"
   ]
  },
  {
   "cell_type": "markdown",
   "id": "373d5a7a-da0b-47b5-b539-f80137e4656a",
   "metadata": {},
   "source": [
    "#### About the Metrics\n",
    "\n",
    "The schedule-based metric is a daily average of the sum of median trip stop delays along the corridor. To further explain, we take each corridor trip that we have data for and look at the delay in comparison to the schedule at each stop, after subtracting off any delay present as the trip entered the corridor. For each trip we then take the median delay of all stops along the corridor, and sum these medians to create the metric.\n",
    "\n",
    "The speed-based metric is a daily average of the sum of delays for each trip traversing the corridor as compared to a reference speed of 16 miles per hour. To further explain, we take each corridor trip that we have data for and calculate the hypothetical time it would take for that trip to traverse the corridor at a speed of 16 mph. The difference between the actual time it took for the trip to traverse the corridor and that hypothetical time is the speed-based delay for that trip, and we sum those delays to create the metric. This metric is intended to provide a more consistent basis for comparison independent of scheduling practices.\n",
    "\n",
    "In other words, if we expect a hypothetical bus lane/signal priority/payment system etc to increase corridor speeds to 16mph, this is how much time we could save per day.\n",
    "\n",
    "With corridor attached, generate both metrics using `RtFilterMapper.corridor_metrics()`"
   ]
  },
  {
   "cell_type": "code",
   "execution_count": null,
   "id": "0cebd109-4967-4938-971f-68cdf72e44d1",
   "metadata": {},
   "outputs": [],
   "source": [
    "rt_day.corridor_metrics()"
   ]
  },
  {
   "cell_type": "markdown",
   "id": "e7d0a13f-d7a8-42ea-bb7b-13a2b849da32",
   "metadata": {},
   "source": [
    "`RtFilterMapper.corridor_metrics()` now supports `RtFilterMapper`'s filtering system. If the filter set excludes all corridor trips, it will raise an error.\n",
    "\n",
    "_don't set a filter if running SCCP/LPP metrics_"
   ]
  },
  {
   "cell_type": "code",
   "execution_count": null,
   "id": "d25ab978-32e1-496a-a275-49ed33e284a0",
   "metadata": {},
   "outputs": [],
   "source": [
    "rt_day.set_filter(shape_ids = ['26025']) # a single shape through corridor"
   ]
  },
  {
   "cell_type": "code",
   "execution_count": null,
   "id": "18d68735-321c-4873-87dd-0e343824c3d9",
   "metadata": {},
   "outputs": [],
   "source": [
    "rt_day.corridor_metrics()"
   ]
  },
  {
   "cell_type": "code",
   "execution_count": null,
   "id": "9b1b730b-52e0-4484-a26e-49d27478a042",
   "metadata": {},
   "outputs": [],
   "source": [
    "rt_day.set_filter(route_names = ['R12']) # route not near corridor"
   ]
  },
  {
   "cell_type": "code",
   "execution_count": null,
   "id": "3a4adb74-1435-4981-b5df-0e8de37cda7c",
   "metadata": {},
   "outputs": [],
   "source": [
    "rt_day.corridor_metrics()"
   ]
  },
  {
   "cell_type": "markdown",
   "id": "9601e514-8bb2-497b-9129-61b4d47a46d8",
   "metadata": {},
   "source": [
    "If running metrics for the SCCP or LPP programs, `rt_analysis` now includes a convienience function to generate the required nine-day average."
   ]
  },
  {
   "cell_type": "code",
   "execution_count": null,
   "id": "bc283b96-bf13-4955-a870-cb78db579848",
   "metadata": {},
   "outputs": [],
   "source": [
    "from rt_analysis import sccp_tools\n",
    "import numpy as np"
   ]
  },
  {
   "cell_type": "markdown",
   "id": "1208292b-683c-4f47-b12c-30705479b73d",
   "metadata": {},
   "source": [
    "2022-2023 cycle standard SCCP/LPP date range:"
   ]
  },
  {
   "cell_type": "code",
   "execution_count": null,
   "id": "529e9697-cd7d-4793-9998-b1fe6bde9bfc",
   "metadata": {},
   "outputs": [],
   "source": [
    "date_range = np.arange('2022-04-30', '2022-05-09', dtype='datetime64[D]')"
   ]
  },
  {
   "cell_type": "markdown",
   "id": "41b81b2f-5f3f-4ccb-a9f6-8df8d7cedc67",
   "metadata": {},
   "source": [
    "The next cell generates an `OperatorDayAnalysis` for each date in the range that hasn't been ran already, and saves intermediate data to gcs."
   ]
  },
  {
   "cell_type": "code",
   "execution_count": null,
   "id": "d6fe0504-fa9f-4896-9657-8bcce896e1b9",
   "metadata": {},
   "outputs": [],
   "source": [
    "%%capture --no-stdout\n",
    "for date in date_range:\n",
    "    analysis_date = date.astype(dt.date)\n",
    "    check_ran = rt_utils.get_operators(analysis_date, [300])\n",
    "    if check_ran[300] == 'already_ran':\n",
    "        continue\n",
    "    rt_day = rt_parser.OperatorDayAnalysis(300, analysis_date, pbar)\n",
    "    # don't worry about the CRS not set UserWarning\n",
    "    rt_day.export_views_gcs()"
   ]
  },
  {
   "cell_type": "code",
   "execution_count": null,
   "id": "db784d8d-1349-4aed-b7ff-f49d20082cee",
   "metadata": {},
   "outputs": [],
   "source": [
    "sccp_tools.sccp_average_metrics?"
   ]
  },
  {
   "cell_type": "code",
   "execution_count": null,
   "id": "540bb4be-47f9-4f33-977c-24db1776abf2",
   "metadata": {},
   "outputs": [],
   "source": [
    "bbb_corridor_metrics = sccp_tools.sccp_average_metrics(itp_id=300, date_range=date_range, corridor=corridor)"
   ]
  },
  {
   "cell_type": "code",
   "execution_count": null,
   "id": "8d8e5644-aa0e-4124-962f-8613f7b0b93c",
   "metadata": {},
   "outputs": [],
   "source": [
    "bbb_corridor_metrics"
   ]
  },
  {
   "cell_type": "markdown",
   "id": "96c0ec48-888f-49b5-8b37-2180a0d9c1e4",
   "metadata": {},
   "source": [
    "If needed, it's easy to construct a dataframe with the metrics and the date array used, to support charts or tables"
   ]
  },
  {
   "cell_type": "code",
   "execution_count": null,
   "id": "6c18dd5d-f427-44cd-98e9-eb510b6d2d0c",
   "metadata": {},
   "outputs": [],
   "source": [
    "pd.DataFrame({'dates': date_range, 'schedule_metric': bbb_corridor_metrics['all_schedule'],\n",
    "'speed_metric': bbb_corridor_metrics['all_speed']})"
   ]
  }
 ],
 "metadata": {
  "kernelspec": {
   "display_name": "Python 3 (ipykernel)",
   "language": "python",
   "name": "python3"
  },
  "language_info": {
   "codemirror_mode": {
    "name": "ipython",
    "version": 3
   },
   "file_extension": ".py",
   "mimetype": "text/x-python",
   "name": "python",
   "nbconvert_exporter": "python",
   "pygments_lexer": "ipython3",
   "version": "3.11.10"
  },
  "widgets": {
   "application/vnd.jupyter.widget-state+json": {
    "state": {},
    "version_major": 2,
    "version_minor": 0
   }
  }
 },
 "nbformat": 4,
 "nbformat_minor": 5
}
