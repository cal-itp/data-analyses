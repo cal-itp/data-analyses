{
 "cells": [
  {
   "cell_type": "code",
   "execution_count": 1,
   "id": "5a0af3d7-d71b-482a-b847-178017b234d6",
   "metadata": {},
   "outputs": [
    {
     "name": "stderr",
     "output_type": "stream",
     "text": [
      "/opt/conda/lib/python3.9/site-packages/geopandas/_compat.py:123: UserWarning: The Shapely GEOS version (3.10.3-CAPI-1.16.1) is incompatible with the GEOS version PyGEOS was compiled with (3.10.1-CAPI-1.16.0). Conversions between both will be slow.\n",
      "  warnings.warn(\n"
     ]
    }
   ],
   "source": [
    "import os\n",
    "os.environ[\"CALITP_BQ_MAX_BYTES\"] = str(1_000_000_000_000) ## 1TB?\n",
    "\n",
    "from siuba import *\n",
    "import pandas as pd\n",
    "import geopandas as gpd\n",
    "import datetime as dt\n",
    "\n",
    "from rt_analysis import rt_parser\n",
    "from rt_analysis import rt_filter_map_plot\n",
    "\n",
    "import shared_utils"
   ]
  },
  {
   "cell_type": "markdown",
   "id": "d65fa6ac-fb14-4955-8eb2-713764e6e895",
   "metadata": {},
   "source": [
    "# Checking if intermediate data is available\n",
    "\n",
    "   * First, decide on a date of interest. Let's use October 8, 2022\n",
    "   * The shared_utils.rt_utils.get_operators function takes the analysis date as a datetime.date object, which we'll construct below\n",
    "   * It also takes a list of operators (currently itp_ids) of interest\n",
    "   * Let's start with Big Blue Bus (300)"
   ]
  },
  {
   "cell_type": "code",
   "execution_count": 2,
   "id": "15eabfc6-a0d6-40eb-9f37-21faf2077519",
   "metadata": {},
   "outputs": [],
   "source": [
    "analysis_date = dt.date(2022, 10, 12)"
   ]
  },
  {
   "cell_type": "code",
   "execution_count": 3,
   "id": "53bbadfb-6d68-4783-b30b-165e28af1aaf",
   "metadata": {},
   "outputs": [
    {
     "name": "stdout",
     "output_type": "stream",
     "text": [
      "already ran: 300\n"
     ]
    },
    {
     "data": {
      "text/plain": [
       "{300: 'already_ran'}"
      ]
     },
     "execution_count": 3,
     "metadata": {},
     "output_type": "execute_result"
    }
   ],
   "source": [
    "shared_utils.rt_utils.get_operators(analysis_date, [300])"
   ]
  },
  {
   "cell_type": "code",
   "execution_count": 4,
   "id": "23e6f938-992f-43a8-a815-74139a0ef412",
   "metadata": {},
   "outputs": [
    {
     "name": "stdout",
     "output_type": "stream",
     "text": [
      "not yet run: 300\n"
     ]
    },
    {
     "data": {
      "text/plain": [
       "{300: 'not_yet_run'}"
      ]
     },
     "execution_count": 4,
     "metadata": {},
     "output_type": "execute_result"
    }
   ],
   "source": [
    "shared_utils.rt_utils.get_operators(dt.date(2022, 12, 31), [300])"
   ]
  },
  {
   "cell_type": "markdown",
   "id": "dc96d4f5-1f98-45a6-8765-89293e6c1de6",
   "metadata": {},
   "source": [
    "Function returns a dictionary of the status of each itp_id passed (in addition to printing it out)."
   ]
  },
  {
   "cell_type": "markdown",
   "id": "424eeb58-4901-4ed3-9c0e-09bf5189834d",
   "metadata": {},
   "source": [
    "# Generating intermediate data"
   ]
  },
  {
   "cell_type": "markdown",
   "id": "8728a22f-94e2-4cae-9909-b54e7477c37a",
   "metadata": {},
   "source": [
    "We can process raw data for a given date and feed directly using `rt_parser.OperatorDayAnalysis`. Let's also give the function a tqdm progress bar using the `pbar` attribute.\n",
    "\n",
    "_if you're running this notebook yourself, this date+operator might be already ran! feel free to try another if you're curious about the generation process, or skip to the next section._"
   ]
  },
  {
   "cell_type": "code",
   "execution_count": 5,
   "id": "036b4561-6b36-4e0b-b193-f66b4dac110b",
   "metadata": {},
   "outputs": [],
   "source": [
    "from tqdm.notebook import tqdm"
   ]
  },
  {
   "cell_type": "code",
   "execution_count": 6,
   "id": "b374ff90-815c-47ae-ae9c-0d956493a0f3",
   "metadata": {},
   "outputs": [
    {
     "data": {
      "application/vnd.jupyter.widget-view+json": {
       "model_id": "822639c085064e50844465583323a492",
       "version_major": 2,
       "version_minor": 0
      },
      "text/plain": [
       "0it [00:00, ?it/s]"
      ]
     },
     "metadata": {},
     "output_type": "display_data"
    }
   ],
   "source": [
    "pbar = tqdm()"
   ]
  },
  {
   "cell_type": "code",
   "execution_count": 7,
   "id": "0e41ee9f-019e-43cf-8d27-8d8da16bb658",
   "metadata": {},
   "outputs": [
    {
     "data": {
      "text/plain": [
       "\u001b[0;31mInit signature:\u001b[0m \u001b[0mrt_parser\u001b[0m\u001b[0;34m.\u001b[0m\u001b[0mOperatorDayAnalysis\u001b[0m\u001b[0;34m(\u001b[0m\u001b[0mitp_id\u001b[0m\u001b[0;34m,\u001b[0m \u001b[0manalysis_date\u001b[0m\u001b[0;34m,\u001b[0m \u001b[0mpbar\u001b[0m\u001b[0;34m=\u001b[0m\u001b[0;32mNone\u001b[0m\u001b[0;34m)\u001b[0m\u001b[0;34m\u001b[0m\u001b[0;34m\u001b[0m\u001b[0m\n",
       "\u001b[0;31mDocstring:\u001b[0m     \n",
       "New top-level class for rt delay/speed analysis of a single operator on a single day\n",
       "    \n",
       "\u001b[0;31mFile:\u001b[0m           ~/data-analyses/rt_delay/rt_analysis/rt_parser.py\n",
       "\u001b[0;31mType:\u001b[0m           type\n",
       "\u001b[0;31mSubclasses:\u001b[0m     \n"
      ]
     },
     "metadata": {},
     "output_type": "display_data"
    }
   ],
   "source": [
    "rt_parser.OperatorDayAnalysis?"
   ]
  },
  {
   "cell_type": "code",
   "execution_count": 11,
   "id": "248fe561-6cdf-47d5-a4b0-f4facb712111",
   "metadata": {
    "tags": []
   },
   "outputs": [
    {
     "name": "stdout",
     "output_type": "stream",
     "text": [
      "found parquet\n",
      "found parquet\n",
      "found parquet\n",
      "found parquet\n",
      "found parquet\n"
     ]
    }
   ],
   "source": [
    "%%capture --no-stdout\n",
    "rt_day = rt_parser.OperatorDayAnalysis(300, analysis_date, pbar) # don't worry about the CRS not set UserWarning"
   ]
  },
  {
   "cell_type": "markdown",
   "id": "5de00712-f37b-446d-acf5-5bfbfde45648",
   "metadata": {},
   "source": [
    "Then, we can save the intermediate data created with the `OperatorDayAnalysis.export_views_gcs()` method"
   ]
  },
  {
   "cell_type": "code",
   "execution_count": 15,
   "id": "cd0b6e08-dbdc-493d-ae3d-36f4e7b219b5",
   "metadata": {},
   "outputs": [],
   "source": [
    "rt_day.export_views_gcs()"
   ]
  },
  {
   "cell_type": "markdown",
   "id": "6c653dcf-051a-44ba-9cdb-0dcfdf03f285",
   "metadata": {},
   "source": [
    "# Generate a speedmap with RtFilterMapper\n",
    "\n",
    "   * First, we'll construct an `RtFilterMapper` object from intermediate data using `rt_filter_map_plot.from_gcs()`\n",
    "   * Be sure to check first with `shared_utils.rt_utils.get_operators` that data is available. Otherwise, you'll get an error"
   ]
  },
  {
   "cell_type": "code",
   "execution_count": 11,
   "id": "aa9f1127-0647-44a6-85ac-0fa01ed26018",
   "metadata": {},
   "outputs": [
    {
     "data": {
      "text/plain": [
       "\u001b[0;31mSignature:\u001b[0m \u001b[0mrt_filter_map_plot\u001b[0m\u001b[0;34m.\u001b[0m\u001b[0mfrom_gcs\u001b[0m\u001b[0;34m(\u001b[0m\u001b[0mitp_id\u001b[0m\u001b[0;34m,\u001b[0m \u001b[0manalysis_date\u001b[0m\u001b[0;34m,\u001b[0m \u001b[0mpbar\u001b[0m\u001b[0;34m=\u001b[0m\u001b[0;32mNone\u001b[0m\u001b[0;34m)\u001b[0m\u001b[0;34m\u001b[0m\u001b[0;34m\u001b[0m\u001b[0m\n",
       "\u001b[0;31mDocstring:\u001b[0m\n",
       "Generates RtFilterMapper from cached artifacts in GCS. Generate using rt_analysis.OperatorDayAnalysis.export_views_gcs()\n",
       "    \n",
       "\u001b[0;31mFile:\u001b[0m      ~/data-analyses/rt_delay/rt_analysis/rt_filter_map_plot.py\n",
       "\u001b[0;31mType:\u001b[0m      function\n"
      ]
     },
     "metadata": {},
     "output_type": "display_data"
    }
   ],
   "source": [
    "rt_filter_map_plot.from_gcs?"
   ]
  },
  {
   "cell_type": "code",
   "execution_count": 12,
   "id": "b494c95b-ace2-4a0b-83b8-9f5a8e465660",
   "metadata": {
    "tags": []
   },
   "outputs": [
    {
     "data": {
      "text/plain": [
       "<module 'rt_analysis.rt_filter_map_plot' from '/home/jovyan/data-analyses/rt_delay/rt_analysis/rt_filter_map_plot.py'>"
      ]
     },
     "execution_count": 12,
     "metadata": {},
     "output_type": "execute_result"
    }
   ],
   "source": [
    "import importlib\n",
    "importlib.reload(rt_filter_map_plot)"
   ]
  },
  {
   "cell_type": "code",
   "execution_count": 13,
   "id": "860906a4-f880-4021-9726-962fca270cfe",
   "metadata": {},
   "outputs": [
    {
     "name": "stdout",
     "output_type": "stream",
     "text": [
      "found parquet\n"
     ]
    }
   ],
   "source": [
    "rt_day = rt_filter_map_plot.from_gcs(300, analysis_date)"
   ]
  },
  {
   "cell_type": "code",
   "execution_count": 14,
   "id": "cde2fd3b-69f1-45d0-a62d-5e1838ccdd49",
   "metadata": {
    "tags": []
   },
   "outputs": [
    {
     "ename": "FileNotFoundError",
     "evalue": "calitp-analytics-data/data-analyses/rt_delay/rt_trips/300_12_20.parquet",
     "output_type": "error",
     "traceback": [
      "\u001b[0;31m---------------------------------------------------------------------------\u001b[0m",
      "\u001b[0;31mFileNotFoundError\u001b[0m                         Traceback (most recent call last)",
      "Cell \u001b[0;32mIn [14], line 1\u001b[0m\n\u001b[0;32m----> 1\u001b[0m no_data \u001b[38;5;241m=\u001b[39m \u001b[43mrt_filter_map_plot\u001b[49m\u001b[38;5;241;43m.\u001b[39;49m\u001b[43mfrom_gcs\u001b[49m\u001b[43m(\u001b[49m\u001b[38;5;241;43m300\u001b[39;49m\u001b[43m,\u001b[49m\u001b[43m \u001b[49m\u001b[43mdt\u001b[49m\u001b[38;5;241;43m.\u001b[39;49m\u001b[43mdate\u001b[49m\u001b[43m(\u001b[49m\u001b[38;5;241;43m2022\u001b[39;49m\u001b[43m,\u001b[49m\u001b[43m \u001b[49m\u001b[38;5;241;43m12\u001b[39;49m\u001b[43m,\u001b[49m\u001b[43m \u001b[49m\u001b[38;5;241;43m20\u001b[39;49m\u001b[43m)\u001b[49m\u001b[43m)\u001b[49m\n",
      "File \u001b[0;32m~/data-analyses/rt_delay/rt_analysis/rt_filter_map_plot.py:583\u001b[0m, in \u001b[0;36mfrom_gcs\u001b[0;34m(itp_id, analysis_date, pbar)\u001b[0m\n\u001b[1;32m    580\u001b[0m \u001b[38;5;124;03m''' Generates RtFilterMapper from cached artifacts in GCS. Generate using rt_analysis.OperatorDayAnalysis.export_views_gcs()\u001b[39;00m\n\u001b[1;32m    581\u001b[0m \u001b[38;5;124;03m'''\u001b[39;00m\n\u001b[1;32m    582\u001b[0m month_day \u001b[38;5;241m=\u001b[39m analysis_date\u001b[38;5;241m.\u001b[39mstrftime(\u001b[38;5;124m'\u001b[39m\u001b[38;5;124m%\u001b[39m\u001b[38;5;124mm_\u001b[39m\u001b[38;5;132;01m%d\u001b[39;00m\u001b[38;5;124m'\u001b[39m)\n\u001b[0;32m--> 583\u001b[0m trips \u001b[38;5;241m=\u001b[39m \u001b[43mpd\u001b[49m\u001b[38;5;241;43m.\u001b[39;49m\u001b[43mread_parquet\u001b[49m\u001b[43m(\u001b[49m\u001b[38;5;124;43mf\u001b[39;49m\u001b[38;5;124;43m'\u001b[39;49m\u001b[38;5;132;43;01m{\u001b[39;49;00m\u001b[43mGCS_FILE_PATH\u001b[49m\u001b[38;5;132;43;01m}\u001b[39;49;00m\u001b[38;5;124;43mrt_trips/\u001b[39;49m\u001b[38;5;132;43;01m{\u001b[39;49;00m\u001b[43mitp_id\u001b[49m\u001b[38;5;132;43;01m}\u001b[39;49;00m\u001b[38;5;124;43m_\u001b[39;49m\u001b[38;5;132;43;01m{\u001b[39;49;00m\u001b[43mmonth_day\u001b[49m\u001b[38;5;132;43;01m}\u001b[39;49;00m\u001b[38;5;124;43m.parquet\u001b[39;49m\u001b[38;5;124;43m'\u001b[39;49m\u001b[43m)\u001b[49m\n\u001b[1;32m    584\u001b[0m stop_delay \u001b[38;5;241m=\u001b[39m gpd\u001b[38;5;241m.\u001b[39mread_parquet(\u001b[38;5;124mf\u001b[39m\u001b[38;5;124m'\u001b[39m\u001b[38;5;132;01m{\u001b[39;00mGCS_FILE_PATH\u001b[38;5;132;01m}\u001b[39;00m\u001b[38;5;124mstop_delay_views/\u001b[39m\u001b[38;5;132;01m{\u001b[39;00mitp_id\u001b[38;5;132;01m}\u001b[39;00m\u001b[38;5;124m_\u001b[39m\u001b[38;5;132;01m{\u001b[39;00mmonth_day\u001b[38;5;132;01m}\u001b[39;00m\u001b[38;5;124m.parquet\u001b[39m\u001b[38;5;124m'\u001b[39m)\n\u001b[1;32m    585\u001b[0m stop_delay[\u001b[38;5;124m'\u001b[39m\u001b[38;5;124marrival_time\u001b[39m\u001b[38;5;124m'\u001b[39m] \u001b[38;5;241m=\u001b[39m stop_delay\u001b[38;5;241m.\u001b[39marrival_time\u001b[38;5;241m.\u001b[39mmap(\u001b[38;5;28;01mlambda\u001b[39;00m x: np\u001b[38;5;241m.\u001b[39mdatetime64(x))\n",
      "File \u001b[0;32m/opt/conda/lib/python3.10/site-packages/pandas/io/parquet.py:503\u001b[0m, in \u001b[0;36mread_parquet\u001b[0;34m(path, engine, columns, storage_options, use_nullable_dtypes, **kwargs)\u001b[0m\n\u001b[1;32m    456\u001b[0m \u001b[38;5;124;03m\"\"\"\u001b[39;00m\n\u001b[1;32m    457\u001b[0m \u001b[38;5;124;03mLoad a parquet object from the file path, returning a DataFrame.\u001b[39;00m\n\u001b[1;32m    458\u001b[0m \n\u001b[0;32m   (...)\u001b[0m\n\u001b[1;32m    499\u001b[0m \u001b[38;5;124;03mDataFrame\u001b[39;00m\n\u001b[1;32m    500\u001b[0m \u001b[38;5;124;03m\"\"\"\u001b[39;00m\n\u001b[1;32m    501\u001b[0m impl \u001b[38;5;241m=\u001b[39m get_engine(engine)\n\u001b[0;32m--> 503\u001b[0m \u001b[38;5;28;01mreturn\u001b[39;00m \u001b[43mimpl\u001b[49m\u001b[38;5;241;43m.\u001b[39;49m\u001b[43mread\u001b[49m\u001b[43m(\u001b[49m\n\u001b[1;32m    504\u001b[0m \u001b[43m    \u001b[49m\u001b[43mpath\u001b[49m\u001b[43m,\u001b[49m\n\u001b[1;32m    505\u001b[0m \u001b[43m    \u001b[49m\u001b[43mcolumns\u001b[49m\u001b[38;5;241;43m=\u001b[39;49m\u001b[43mcolumns\u001b[49m\u001b[43m,\u001b[49m\n\u001b[1;32m    506\u001b[0m \u001b[43m    \u001b[49m\u001b[43mstorage_options\u001b[49m\u001b[38;5;241;43m=\u001b[39;49m\u001b[43mstorage_options\u001b[49m\u001b[43m,\u001b[49m\n\u001b[1;32m    507\u001b[0m \u001b[43m    \u001b[49m\u001b[43muse_nullable_dtypes\u001b[49m\u001b[38;5;241;43m=\u001b[39;49m\u001b[43muse_nullable_dtypes\u001b[49m\u001b[43m,\u001b[49m\n\u001b[1;32m    508\u001b[0m \u001b[43m    \u001b[49m\u001b[38;5;241;43m*\u001b[39;49m\u001b[38;5;241;43m*\u001b[39;49m\u001b[43mkwargs\u001b[49m\u001b[43m,\u001b[49m\n\u001b[1;32m    509\u001b[0m \u001b[43m\u001b[49m\u001b[43m)\u001b[49m\n",
      "File \u001b[0;32m/opt/conda/lib/python3.10/site-packages/pandas/io/parquet.py:251\u001b[0m, in \u001b[0;36mPyArrowImpl.read\u001b[0;34m(self, path, columns, use_nullable_dtypes, storage_options, **kwargs)\u001b[0m\n\u001b[1;32m    244\u001b[0m path_or_handle, handles, kwargs[\u001b[38;5;124m\"\u001b[39m\u001b[38;5;124mfilesystem\u001b[39m\u001b[38;5;124m\"\u001b[39m] \u001b[38;5;241m=\u001b[39m _get_path_or_handle(\n\u001b[1;32m    245\u001b[0m     path,\n\u001b[1;32m    246\u001b[0m     kwargs\u001b[38;5;241m.\u001b[39mpop(\u001b[38;5;124m\"\u001b[39m\u001b[38;5;124mfilesystem\u001b[39m\u001b[38;5;124m\"\u001b[39m, \u001b[38;5;28;01mNone\u001b[39;00m),\n\u001b[1;32m    247\u001b[0m     storage_options\u001b[38;5;241m=\u001b[39mstorage_options,\n\u001b[1;32m    248\u001b[0m     mode\u001b[38;5;241m=\u001b[39m\u001b[38;5;124m\"\u001b[39m\u001b[38;5;124mrb\u001b[39m\u001b[38;5;124m\"\u001b[39m,\n\u001b[1;32m    249\u001b[0m )\n\u001b[1;32m    250\u001b[0m \u001b[38;5;28;01mtry\u001b[39;00m:\n\u001b[0;32m--> 251\u001b[0m     result \u001b[38;5;241m=\u001b[39m \u001b[38;5;28;43mself\u001b[39;49m\u001b[38;5;241;43m.\u001b[39;49m\u001b[43mapi\u001b[49m\u001b[38;5;241;43m.\u001b[39;49m\u001b[43mparquet\u001b[49m\u001b[38;5;241;43m.\u001b[39;49m\u001b[43mread_table\u001b[49m\u001b[43m(\u001b[49m\n\u001b[1;32m    252\u001b[0m \u001b[43m        \u001b[49m\u001b[43mpath_or_handle\u001b[49m\u001b[43m,\u001b[49m\u001b[43m \u001b[49m\u001b[43mcolumns\u001b[49m\u001b[38;5;241;43m=\u001b[39;49m\u001b[43mcolumns\u001b[49m\u001b[43m,\u001b[49m\u001b[43m \u001b[49m\u001b[38;5;241;43m*\u001b[39;49m\u001b[38;5;241;43m*\u001b[39;49m\u001b[43mkwargs\u001b[49m\n\u001b[1;32m    253\u001b[0m \u001b[43m    \u001b[49m\u001b[43m)\u001b[49m\u001b[38;5;241m.\u001b[39mto_pandas(\u001b[38;5;241m*\u001b[39m\u001b[38;5;241m*\u001b[39mto_pandas_kwargs)\n\u001b[1;32m    254\u001b[0m     \u001b[38;5;28;01mif\u001b[39;00m manager \u001b[38;5;241m==\u001b[39m \u001b[38;5;124m\"\u001b[39m\u001b[38;5;124marray\u001b[39m\u001b[38;5;124m\"\u001b[39m:\n\u001b[1;32m    255\u001b[0m         result \u001b[38;5;241m=\u001b[39m result\u001b[38;5;241m.\u001b[39m_as_manager(\u001b[38;5;124m\"\u001b[39m\u001b[38;5;124marray\u001b[39m\u001b[38;5;124m\"\u001b[39m, copy\u001b[38;5;241m=\u001b[39m\u001b[38;5;28;01mFalse\u001b[39;00m)\n",
      "File \u001b[0;32m/opt/conda/lib/python3.10/site-packages/pyarrow/parquet.py:1905\u001b[0m, in \u001b[0;36mread_table\u001b[0;34m(source, columns, use_threads, metadata, use_pandas_metadata, memory_map, read_dictionary, filesystem, filters, buffer_size, partitioning, use_legacy_dataset, ignore_prefixes, pre_buffer, coerce_int96_timestamp_unit)\u001b[0m\n\u001b[1;32m   1898\u001b[0m     \u001b[38;5;28;01mraise\u001b[39;00m \u001b[38;5;167;01mValueError\u001b[39;00m(\n\u001b[1;32m   1899\u001b[0m         \u001b[38;5;124m\"\u001b[39m\u001b[38;5;124mThe \u001b[39m\u001b[38;5;124m'\u001b[39m\u001b[38;5;124mmetadata\u001b[39m\u001b[38;5;124m'\u001b[39m\u001b[38;5;124m keyword is no longer supported with the new \u001b[39m\u001b[38;5;124m\"\u001b[39m\n\u001b[1;32m   1900\u001b[0m         \u001b[38;5;124m\"\u001b[39m\u001b[38;5;124mdatasets-based implementation. Specify \u001b[39m\u001b[38;5;124m\"\u001b[39m\n\u001b[1;32m   1901\u001b[0m         \u001b[38;5;124m\"\u001b[39m\u001b[38;5;124m'\u001b[39m\u001b[38;5;124muse_legacy_dataset=True\u001b[39m\u001b[38;5;124m'\u001b[39m\u001b[38;5;124m to temporarily recover the old \u001b[39m\u001b[38;5;124m\"\u001b[39m\n\u001b[1;32m   1902\u001b[0m         \u001b[38;5;124m\"\u001b[39m\u001b[38;5;124mbehaviour.\u001b[39m\u001b[38;5;124m\"\u001b[39m\n\u001b[1;32m   1903\u001b[0m     )\n\u001b[1;32m   1904\u001b[0m \u001b[38;5;28;01mtry\u001b[39;00m:\n\u001b[0;32m-> 1905\u001b[0m     dataset \u001b[38;5;241m=\u001b[39m \u001b[43m_ParquetDatasetV2\u001b[49m\u001b[43m(\u001b[49m\n\u001b[1;32m   1906\u001b[0m \u001b[43m        \u001b[49m\u001b[43msource\u001b[49m\u001b[43m,\u001b[49m\n\u001b[1;32m   1907\u001b[0m \u001b[43m        \u001b[49m\u001b[43mfilesystem\u001b[49m\u001b[38;5;241;43m=\u001b[39;49m\u001b[43mfilesystem\u001b[49m\u001b[43m,\u001b[49m\n\u001b[1;32m   1908\u001b[0m \u001b[43m        \u001b[49m\u001b[43mpartitioning\u001b[49m\u001b[38;5;241;43m=\u001b[39;49m\u001b[43mpartitioning\u001b[49m\u001b[43m,\u001b[49m\n\u001b[1;32m   1909\u001b[0m \u001b[43m        \u001b[49m\u001b[43mmemory_map\u001b[49m\u001b[38;5;241;43m=\u001b[39;49m\u001b[43mmemory_map\u001b[49m\u001b[43m,\u001b[49m\n\u001b[1;32m   1910\u001b[0m \u001b[43m        \u001b[49m\u001b[43mread_dictionary\u001b[49m\u001b[38;5;241;43m=\u001b[39;49m\u001b[43mread_dictionary\u001b[49m\u001b[43m,\u001b[49m\n\u001b[1;32m   1911\u001b[0m \u001b[43m        \u001b[49m\u001b[43mbuffer_size\u001b[49m\u001b[38;5;241;43m=\u001b[39;49m\u001b[43mbuffer_size\u001b[49m\u001b[43m,\u001b[49m\n\u001b[1;32m   1912\u001b[0m \u001b[43m        \u001b[49m\u001b[43mfilters\u001b[49m\u001b[38;5;241;43m=\u001b[39;49m\u001b[43mfilters\u001b[49m\u001b[43m,\u001b[49m\n\u001b[1;32m   1913\u001b[0m \u001b[43m        \u001b[49m\u001b[43mignore_prefixes\u001b[49m\u001b[38;5;241;43m=\u001b[39;49m\u001b[43mignore_prefixes\u001b[49m\u001b[43m,\u001b[49m\n\u001b[1;32m   1914\u001b[0m \u001b[43m        \u001b[49m\u001b[43mpre_buffer\u001b[49m\u001b[38;5;241;43m=\u001b[39;49m\u001b[43mpre_buffer\u001b[49m\u001b[43m,\u001b[49m\n\u001b[1;32m   1915\u001b[0m \u001b[43m        \u001b[49m\u001b[43mcoerce_int96_timestamp_unit\u001b[49m\u001b[38;5;241;43m=\u001b[39;49m\u001b[43mcoerce_int96_timestamp_unit\u001b[49m\n\u001b[1;32m   1916\u001b[0m \u001b[43m    \u001b[49m\u001b[43m)\u001b[49m\n\u001b[1;32m   1917\u001b[0m \u001b[38;5;28;01mexcept\u001b[39;00m \u001b[38;5;167;01mImportError\u001b[39;00m:\n\u001b[1;32m   1918\u001b[0m     \u001b[38;5;66;03m# fall back on ParquetFile for simple cases when pyarrow.dataset\u001b[39;00m\n\u001b[1;32m   1919\u001b[0m     \u001b[38;5;66;03m# module is not available\u001b[39;00m\n\u001b[1;32m   1920\u001b[0m     \u001b[38;5;28;01mif\u001b[39;00m filters \u001b[38;5;129;01mis\u001b[39;00m \u001b[38;5;129;01mnot\u001b[39;00m \u001b[38;5;28;01mNone\u001b[39;00m:\n",
      "File \u001b[0;32m/opt/conda/lib/python3.10/site-packages/pyarrow/parquet.py:1726\u001b[0m, in \u001b[0;36m_ParquetDatasetV2.__init__\u001b[0;34m(self, path_or_paths, filesystem, filters, partitioning, read_dictionary, buffer_size, memory_map, ignore_prefixes, pre_buffer, coerce_int96_timestamp_unit, **kwargs)\u001b[0m\n\u001b[1;32m   1722\u001b[0m \u001b[38;5;28;01mif\u001b[39;00m partitioning \u001b[38;5;241m==\u001b[39m \u001b[38;5;124m\"\u001b[39m\u001b[38;5;124mhive\u001b[39m\u001b[38;5;124m\"\u001b[39m:\n\u001b[1;32m   1723\u001b[0m     partitioning \u001b[38;5;241m=\u001b[39m ds\u001b[38;5;241m.\u001b[39mHivePartitioning\u001b[38;5;241m.\u001b[39mdiscover(\n\u001b[1;32m   1724\u001b[0m         infer_dictionary\u001b[38;5;241m=\u001b[39m\u001b[38;5;28;01mTrue\u001b[39;00m)\n\u001b[0;32m-> 1726\u001b[0m \u001b[38;5;28mself\u001b[39m\u001b[38;5;241m.\u001b[39m_dataset \u001b[38;5;241m=\u001b[39m \u001b[43mds\u001b[49m\u001b[38;5;241;43m.\u001b[39;49m\u001b[43mdataset\u001b[49m\u001b[43m(\u001b[49m\u001b[43mpath_or_paths\u001b[49m\u001b[43m,\u001b[49m\u001b[43m \u001b[49m\u001b[43mfilesystem\u001b[49m\u001b[38;5;241;43m=\u001b[39;49m\u001b[43mfilesystem\u001b[49m\u001b[43m,\u001b[49m\n\u001b[1;32m   1727\u001b[0m \u001b[43m                           \u001b[49m\u001b[38;5;28;43mformat\u001b[39;49m\u001b[38;5;241;43m=\u001b[39;49m\u001b[43mparquet_format\u001b[49m\u001b[43m,\u001b[49m\n\u001b[1;32m   1728\u001b[0m \u001b[43m                           \u001b[49m\u001b[43mpartitioning\u001b[49m\u001b[38;5;241;43m=\u001b[39;49m\u001b[43mpartitioning\u001b[49m\u001b[43m,\u001b[49m\n\u001b[1;32m   1729\u001b[0m \u001b[43m                           \u001b[49m\u001b[43mignore_prefixes\u001b[49m\u001b[38;5;241;43m=\u001b[39;49m\u001b[43mignore_prefixes\u001b[49m\u001b[43m)\u001b[49m\n",
      "File \u001b[0;32m/opt/conda/lib/python3.10/site-packages/pyarrow/dataset.py:680\u001b[0m, in \u001b[0;36mdataset\u001b[0;34m(source, schema, format, filesystem, partitioning, partition_base_dir, exclude_invalid_files, ignore_prefixes)\u001b[0m\n\u001b[1;32m    669\u001b[0m kwargs \u001b[38;5;241m=\u001b[39m \u001b[38;5;28mdict\u001b[39m(\n\u001b[1;32m    670\u001b[0m     schema\u001b[38;5;241m=\u001b[39mschema,\n\u001b[1;32m    671\u001b[0m     filesystem\u001b[38;5;241m=\u001b[39mfilesystem,\n\u001b[0;32m   (...)\u001b[0m\n\u001b[1;32m    676\u001b[0m     selector_ignore_prefixes\u001b[38;5;241m=\u001b[39mignore_prefixes\n\u001b[1;32m    677\u001b[0m )\n\u001b[1;32m    679\u001b[0m \u001b[38;5;28;01mif\u001b[39;00m _is_path_like(source):\n\u001b[0;32m--> 680\u001b[0m     \u001b[38;5;28;01mreturn\u001b[39;00m \u001b[43m_filesystem_dataset\u001b[49m\u001b[43m(\u001b[49m\u001b[43msource\u001b[49m\u001b[43m,\u001b[49m\u001b[43m \u001b[49m\u001b[38;5;241;43m*\u001b[39;49m\u001b[38;5;241;43m*\u001b[39;49m\u001b[43mkwargs\u001b[49m\u001b[43m)\u001b[49m\n\u001b[1;32m    681\u001b[0m \u001b[38;5;28;01melif\u001b[39;00m \u001b[38;5;28misinstance\u001b[39m(source, (\u001b[38;5;28mtuple\u001b[39m, \u001b[38;5;28mlist\u001b[39m)):\n\u001b[1;32m    682\u001b[0m     \u001b[38;5;28;01mif\u001b[39;00m \u001b[38;5;28mall\u001b[39m(_is_path_like(elem) \u001b[38;5;28;01mfor\u001b[39;00m elem \u001b[38;5;129;01min\u001b[39;00m source):\n",
      "File \u001b[0;32m/opt/conda/lib/python3.10/site-packages/pyarrow/dataset.py:425\u001b[0m, in \u001b[0;36m_filesystem_dataset\u001b[0;34m(source, schema, filesystem, partitioning, format, partition_base_dir, exclude_invalid_files, selector_ignore_prefixes)\u001b[0m\n\u001b[1;32m    423\u001b[0m     fs, paths_or_selector \u001b[38;5;241m=\u001b[39m _ensure_multiple_sources(source, filesystem)\n\u001b[1;32m    424\u001b[0m \u001b[38;5;28;01melse\u001b[39;00m:\n\u001b[0;32m--> 425\u001b[0m     fs, paths_or_selector \u001b[38;5;241m=\u001b[39m \u001b[43m_ensure_single_source\u001b[49m\u001b[43m(\u001b[49m\u001b[43msource\u001b[49m\u001b[43m,\u001b[49m\u001b[43m \u001b[49m\u001b[43mfilesystem\u001b[49m\u001b[43m)\u001b[49m\n\u001b[1;32m    427\u001b[0m options \u001b[38;5;241m=\u001b[39m FileSystemFactoryOptions(\n\u001b[1;32m    428\u001b[0m     partitioning\u001b[38;5;241m=\u001b[39mpartitioning,\n\u001b[1;32m    429\u001b[0m     partition_base_dir\u001b[38;5;241m=\u001b[39mpartition_base_dir,\n\u001b[1;32m    430\u001b[0m     exclude_invalid_files\u001b[38;5;241m=\u001b[39mexclude_invalid_files,\n\u001b[1;32m    431\u001b[0m     selector_ignore_prefixes\u001b[38;5;241m=\u001b[39mselector_ignore_prefixes\n\u001b[1;32m    432\u001b[0m )\n\u001b[1;32m    433\u001b[0m factory \u001b[38;5;241m=\u001b[39m FileSystemDatasetFactory(fs, paths_or_selector, \u001b[38;5;28mformat\u001b[39m, options)\n",
      "File \u001b[0;32m/opt/conda/lib/python3.10/site-packages/pyarrow/dataset.py:401\u001b[0m, in \u001b[0;36m_ensure_single_source\u001b[0;34m(path, filesystem)\u001b[0m\n\u001b[1;32m    399\u001b[0m     paths_or_selector \u001b[38;5;241m=\u001b[39m [path]\n\u001b[1;32m    400\u001b[0m \u001b[38;5;28;01melse\u001b[39;00m:\n\u001b[0;32m--> 401\u001b[0m     \u001b[38;5;28;01mraise\u001b[39;00m \u001b[38;5;167;01mFileNotFoundError\u001b[39;00m(path)\n\u001b[1;32m    403\u001b[0m \u001b[38;5;28;01mreturn\u001b[39;00m filesystem, paths_or_selector\n",
      "\u001b[0;31mFileNotFoundError\u001b[0m: calitp-analytics-data/data-analyses/rt_delay/rt_trips/300_12_20.parquet"
     ]
    }
   ],
   "source": [
    "no_data = rt_filter_map_plot.from_gcs(300, dt.date(2022, 12, 20)) #we haven't ran this date, so this will give an error"
   ]
  },
  {
   "cell_type": "markdown",
   "id": "d26c83a6-6eb4-4581-8178-610293d2955e",
   "metadata": {},
   "source": [
    "## Key Attributes: information and dataframes\n",
    "\n",
    "`RtFilterMapper` makes various information available as attributes, including the agency name and itp_id. The rt_trips and stop_delay_view (geo)dataframes loaded from GCS are also present, additionally `RtFilterMapper` calculates additional views such as endpoint_delay_view and endpoint_delay_summary.\n",
    "\n",
    "These core views are _not_ changed by any filter you set, but they can be filtered manually if desired."
   ]
  },
  {
   "cell_type": "code",
   "execution_count": 15,
   "id": "fcdf7799-1406-4f57-a17a-e94ed746686e",
   "metadata": {},
   "outputs": [
    {
     "data": {
      "text/plain": [
       "'Big Blue Bus'"
      ]
     },
     "execution_count": 15,
     "metadata": {},
     "output_type": "execute_result"
    }
   ],
   "source": [
    "rt_day.calitp_agency_name"
   ]
  },
  {
   "cell_type": "code",
   "execution_count": 16,
   "id": "917019d7-2fbc-4523-ba1c-6e37ce758724",
   "metadata": {},
   "outputs": [
    {
     "data": {
      "text/plain": [
       "300"
      ]
     },
     "execution_count": 16,
     "metadata": {},
     "output_type": "execute_result"
    }
   ],
   "source": [
    "rt_day.calitp_itp_id"
   ]
  },
  {
   "cell_type": "code",
   "execution_count": 17,
   "id": "dc6e2b18-d0e2-4b9b-8c55-4cf5de75ee34",
   "metadata": {},
   "outputs": [
    {
     "data": {
      "text/html": [
       "<div>\n",
       "<style scoped>\n",
       "    .dataframe tbody tr th:only-of-type {\n",
       "        vertical-align: middle;\n",
       "    }\n",
       "\n",
       "    .dataframe tbody tr th {\n",
       "        vertical-align: top;\n",
       "    }\n",
       "\n",
       "    .dataframe thead th {\n",
       "        text-align: right;\n",
       "    }\n",
       "</style>\n",
       "<table border=\"1\" class=\"dataframe\">\n",
       "  <thead>\n",
       "    <tr style=\"text-align: right;\">\n",
       "      <th></th>\n",
       "      <th>calitp_itp_id</th>\n",
       "      <th>calitp_url_number</th>\n",
       "      <th>service_date</th>\n",
       "      <th>trip_key</th>\n",
       "      <th>trip_id</th>\n",
       "      <th>route_id</th>\n",
       "      <th>direction_id</th>\n",
       "      <th>shape_id</th>\n",
       "      <th>calitp_extracted_at</th>\n",
       "      <th>calitp_deleted_at</th>\n",
       "      <th>route_type</th>\n",
       "      <th>route_short_name</th>\n",
       "      <th>route_long_name</th>\n",
       "      <th>route_desc</th>\n",
       "      <th>median_time</th>\n",
       "      <th>direction</th>\n",
       "      <th>mean_speed_mph</th>\n",
       "      <th>calitp_agency_name</th>\n",
       "    </tr>\n",
       "  </thead>\n",
       "  <tbody>\n",
       "    <tr>\n",
       "      <th>0</th>\n",
       "      <td>300</td>\n",
       "      <td>0</td>\n",
       "      <td>2022-10-08</td>\n",
       "      <td>-4256251627035452947</td>\n",
       "      <td>886062</td>\n",
       "      <td>3510</td>\n",
       "      <td>1</td>\n",
       "      <td>25990</td>\n",
       "      <td>2022-09-01</td>\n",
       "      <td>2099-01-01</td>\n",
       "      <td>3</td>\n",
       "      <td>7</td>\n",
       "      <td>Pico Blvd</td>\n",
       "      <td>None</td>\n",
       "      <td>11:02:28.500000</td>\n",
       "      <td>Westbound</td>\n",
       "      <td>12.950541</td>\n",
       "      <td>Big Blue Bus</td>\n",
       "    </tr>\n",
       "    <tr>\n",
       "      <th>1</th>\n",
       "      <td>300</td>\n",
       "      <td>0</td>\n",
       "      <td>2022-10-08</td>\n",
       "      <td>-1298289206159871761</td>\n",
       "      <td>886106</td>\n",
       "      <td>3510</td>\n",
       "      <td>1</td>\n",
       "      <td>25990</td>\n",
       "      <td>2022-09-01</td>\n",
       "      <td>2099-01-01</td>\n",
       "      <td>3</td>\n",
       "      <td>7</td>\n",
       "      <td>Pico Blvd</td>\n",
       "      <td>None</td>\n",
       "      <td>22:59:29.500000</td>\n",
       "      <td>Westbound</td>\n",
       "      <td>8.583352</td>\n",
       "      <td>Big Blue Bus</td>\n",
       "    </tr>\n",
       "    <tr>\n",
       "      <th>2</th>\n",
       "      <td>300</td>\n",
       "      <td>0</td>\n",
       "      <td>2022-10-08</td>\n",
       "      <td>-7326266918698775824</td>\n",
       "      <td>886095</td>\n",
       "      <td>3510</td>\n",
       "      <td>1</td>\n",
       "      <td>25990</td>\n",
       "      <td>2022-09-01</td>\n",
       "      <td>2099-01-01</td>\n",
       "      <td>3</td>\n",
       "      <td>7</td>\n",
       "      <td>Pico Blvd</td>\n",
       "      <td>None</td>\n",
       "      <td>19:04:53</td>\n",
       "      <td>Westbound</td>\n",
       "      <td>12.143031</td>\n",
       "      <td>Big Blue Bus</td>\n",
       "    </tr>\n",
       "  </tbody>\n",
       "</table>\n",
       "</div>"
      ],
      "text/plain": [
       "   calitp_itp_id  calitp_url_number service_date             trip_key trip_id  \\\n",
       "0            300                  0   2022-10-08 -4256251627035452947  886062   \n",
       "1            300                  0   2022-10-08 -1298289206159871761  886106   \n",
       "2            300                  0   2022-10-08 -7326266918698775824  886095   \n",
       "\n",
       "  route_id direction_id shape_id calitp_extracted_at calitp_deleted_at  \\\n",
       "0     3510            1    25990          2022-09-01        2099-01-01   \n",
       "1     3510            1    25990          2022-09-01        2099-01-01   \n",
       "2     3510            1    25990          2022-09-01        2099-01-01   \n",
       "\n",
       "  route_type route_short_name route_long_name route_desc      median_time  \\\n",
       "0          3                7       Pico Blvd       None  11:02:28.500000   \n",
       "1          3                7       Pico Blvd       None  22:59:29.500000   \n",
       "2          3                7       Pico Blvd       None         19:04:53   \n",
       "\n",
       "   direction  mean_speed_mph calitp_agency_name  \n",
       "0  Westbound       12.950541       Big Blue Bus  \n",
       "1  Westbound        8.583352       Big Blue Bus  \n",
       "2  Westbound       12.143031       Big Blue Bus  "
      ]
     },
     "execution_count": 17,
     "metadata": {},
     "output_type": "execute_result"
    }
   ],
   "source": [
    "rt_day.rt_trips >> head(3)"
   ]
  },
  {
   "cell_type": "code",
   "execution_count": 18,
   "id": "61222dac-34a5-4ad6-8431-ad2c4d961bae",
   "metadata": {},
   "outputs": [
    {
     "data": {
      "text/html": [
       "<div>\n",
       "<style scoped>\n",
       "    .dataframe tbody tr th:only-of-type {\n",
       "        vertical-align: middle;\n",
       "    }\n",
       "\n",
       "    .dataframe tbody tr th {\n",
       "        vertical-align: top;\n",
       "    }\n",
       "\n",
       "    .dataframe thead th {\n",
       "        text-align: right;\n",
       "    }\n",
       "</style>\n",
       "<table border=\"1\" class=\"dataframe\">\n",
       "  <thead>\n",
       "    <tr style=\"text-align: right;\">\n",
       "      <th></th>\n",
       "      <th>shape_meters</th>\n",
       "      <th>stop_id</th>\n",
       "      <th>stop_name</th>\n",
       "      <th>geometry</th>\n",
       "      <th>shape_id</th>\n",
       "      <th>trip_key</th>\n",
       "      <th>trip_id</th>\n",
       "      <th>stop_sequence</th>\n",
       "      <th>arrival_time</th>\n",
       "      <th>route_id</th>\n",
       "      <th>route_short_name</th>\n",
       "      <th>direction_id</th>\n",
       "      <th>actual_time</th>\n",
       "      <th>delay_seconds</th>\n",
       "    </tr>\n",
       "  </thead>\n",
       "  <tbody>\n",
       "    <tr>\n",
       "      <th>0</th>\n",
       "      <td>341.090795</td>\n",
       "      <td>1302</td>\n",
       "      <td>WILSHIRE WB &amp; WESTERN FS (Wilshire/Western Sta)</td>\n",
       "      <td>POINT (156061.835 -437929.534)</td>\n",
       "      <td>25990</td>\n",
       "      <td>-3.648052e+18</td>\n",
       "      <td>886057</td>\n",
       "      <td>1.0</td>\n",
       "      <td>2022-10-08 09:14:00</td>\n",
       "      <td>3510</td>\n",
       "      <td>7</td>\n",
       "      <td>1</td>\n",
       "      <td>2022-10-08 09:12:55.136675</td>\n",
       "      <td>0.0</td>\n",
       "    </tr>\n",
       "    <tr>\n",
       "      <th>1</th>\n",
       "      <td>1270.261846</td>\n",
       "      <td>1313</td>\n",
       "      <td>CRENSHAW SB &amp; WILSHIRE FS</td>\n",
       "      <td>POINT (155142.387 -437962.859)</td>\n",
       "      <td>25990</td>\n",
       "      <td>-3.648052e+18</td>\n",
       "      <td>886057</td>\n",
       "      <td>2.0</td>\n",
       "      <td>2022-10-08 09:15:57</td>\n",
       "      <td>3510</td>\n",
       "      <td>7</td>\n",
       "      <td>1</td>\n",
       "      <td>2022-10-08 09:15:47.746704</td>\n",
       "      <td>0.0</td>\n",
       "    </tr>\n",
       "    <tr>\n",
       "      <th>2</th>\n",
       "      <td>2129.546177</td>\n",
       "      <td>1314</td>\n",
       "      <td>CRENSHAW SB &amp; OLYMPIC FS</td>\n",
       "      <td>POINT (154801.889 -438751.286)</td>\n",
       "      <td>25990</td>\n",
       "      <td>-3.648052e+18</td>\n",
       "      <td>886057</td>\n",
       "      <td>3.0</td>\n",
       "      <td>2022-10-08 09:17:47</td>\n",
       "      <td>3510</td>\n",
       "      <td>7</td>\n",
       "      <td>1</td>\n",
       "      <td>2022-10-08 09:17:44.967692</td>\n",
       "      <td>0.0</td>\n",
       "    </tr>\n",
       "  </tbody>\n",
       "</table>\n",
       "</div>"
      ],
      "text/plain": [
       "   shape_meters stop_id                                        stop_name  \\\n",
       "0    341.090795    1302  WILSHIRE WB & WESTERN FS (Wilshire/Western Sta)   \n",
       "1   1270.261846    1313                        CRENSHAW SB & WILSHIRE FS   \n",
       "2   2129.546177    1314                         CRENSHAW SB & OLYMPIC FS   \n",
       "\n",
       "                         geometry shape_id      trip_key trip_id  \\\n",
       "0  POINT (156061.835 -437929.534)    25990 -3.648052e+18  886057   \n",
       "1  POINT (155142.387 -437962.859)    25990 -3.648052e+18  886057   \n",
       "2  POINT (154801.889 -438751.286)    25990 -3.648052e+18  886057   \n",
       "\n",
       "   stop_sequence        arrival_time route_id route_short_name direction_id  \\\n",
       "0            1.0 2022-10-08 09:14:00     3510                7            1   \n",
       "1            2.0 2022-10-08 09:15:57     3510                7            1   \n",
       "2            3.0 2022-10-08 09:17:47     3510                7            1   \n",
       "\n",
       "                 actual_time  delay_seconds  \n",
       "0 2022-10-08 09:12:55.136675            0.0  \n",
       "1 2022-10-08 09:15:47.746704            0.0  \n",
       "2 2022-10-08 09:17:44.967692            0.0  "
      ]
     },
     "execution_count": 18,
     "metadata": {},
     "output_type": "execute_result"
    }
   ],
   "source": [
    "rt_day.stop_delay_view >> head(3)"
   ]
  },
  {
   "cell_type": "code",
   "execution_count": 19,
   "id": "5e8ecb4e-39c9-4114-874d-9b1eeacde46e",
   "metadata": {},
   "outputs": [
    {
     "data": {
      "text/html": [
       "<div>\n",
       "<style scoped>\n",
       "    .dataframe tbody tr th:only-of-type {\n",
       "        vertical-align: middle;\n",
       "    }\n",
       "\n",
       "    .dataframe tbody tr th {\n",
       "        vertical-align: top;\n",
       "    }\n",
       "\n",
       "    .dataframe thead th {\n",
       "        text-align: right;\n",
       "    }\n",
       "</style>\n",
       "<table border=\"1\" class=\"dataframe\">\n",
       "  <thead>\n",
       "    <tr style=\"text-align: right;\">\n",
       "      <th></th>\n",
       "      <th>direction_id</th>\n",
       "      <th>route_id</th>\n",
       "      <th>arrival_hour</th>\n",
       "      <th>n_trips</th>\n",
       "      <th>mean_end_delay_seconds</th>\n",
       "    </tr>\n",
       "  </thead>\n",
       "  <tbody>\n",
       "    <tr>\n",
       "      <th>0</th>\n",
       "      <td>0</td>\n",
       "      <td>3504</td>\n",
       "      <td>8.0</td>\n",
       "      <td>2</td>\n",
       "      <td>139.000000</td>\n",
       "    </tr>\n",
       "    <tr>\n",
       "      <th>1</th>\n",
       "      <td>0</td>\n",
       "      <td>3504</td>\n",
       "      <td>9.0</td>\n",
       "      <td>3</td>\n",
       "      <td>97.000000</td>\n",
       "    </tr>\n",
       "    <tr>\n",
       "      <th>2</th>\n",
       "      <td>0</td>\n",
       "      <td>3504</td>\n",
       "      <td>10.0</td>\n",
       "      <td>3</td>\n",
       "      <td>46.333333</td>\n",
       "    </tr>\n",
       "  </tbody>\n",
       "</table>\n",
       "</div>"
      ],
      "text/plain": [
       "  direction_id route_id  arrival_hour  n_trips  mean_end_delay_seconds\n",
       "0            0     3504           8.0        2              139.000000\n",
       "1            0     3504           9.0        3               97.000000\n",
       "2            0     3504          10.0        3               46.333333"
      ]
     },
     "execution_count": 19,
     "metadata": {},
     "output_type": "execute_result"
    }
   ],
   "source": [
    "rt_day.endpoint_delay_summary >> head(3)"
   ]
  },
  {
   "cell_type": "code",
   "execution_count": 20,
   "id": "d2f83482-d3ee-4798-91f0-313713acec6c",
   "metadata": {},
   "outputs": [
    {
     "data": {
      "text/html": [
       "<div>\n",
       "<style scoped>\n",
       "    .dataframe tbody tr th:only-of-type {\n",
       "        vertical-align: middle;\n",
       "    }\n",
       "\n",
       "    .dataframe tbody tr th {\n",
       "        vertical-align: top;\n",
       "    }\n",
       "\n",
       "    .dataframe thead th {\n",
       "        text-align: right;\n",
       "    }\n",
       "</style>\n",
       "<table border=\"1\" class=\"dataframe\">\n",
       "  <thead>\n",
       "    <tr style=\"text-align: right;\">\n",
       "      <th></th>\n",
       "      <th>shape_meters</th>\n",
       "      <th>stop_id</th>\n",
       "      <th>stop_name</th>\n",
       "      <th>geometry</th>\n",
       "      <th>shape_id</th>\n",
       "      <th>trip_key</th>\n",
       "      <th>trip_id</th>\n",
       "      <th>stop_sequence</th>\n",
       "      <th>arrival_time</th>\n",
       "      <th>route_id</th>\n",
       "      <th>route_short_name</th>\n",
       "      <th>direction_id</th>\n",
       "      <th>actual_time</th>\n",
       "      <th>delay_seconds</th>\n",
       "      <th>arrival_hour</th>\n",
       "      <th>mean_speed_mph</th>\n",
       "    </tr>\n",
       "  </thead>\n",
       "  <tbody>\n",
       "    <tr>\n",
       "      <th>0</th>\n",
       "      <td>21054.335200</td>\n",
       "      <td>1217</td>\n",
       "      <td>7TH SB &amp; BROADWAY NS</td>\n",
       "      <td>POINT (139360.908 -443107.504)</td>\n",
       "      <td>25990</td>\n",
       "      <td>-3.648052e+18</td>\n",
       "      <td>886057</td>\n",
       "      <td>53.0</td>\n",
       "      <td>2022-10-08 10:11:45</td>\n",
       "      <td>3510</td>\n",
       "      <td>7</td>\n",
       "      <td>1</td>\n",
       "      <td>2022-10-08 10:15:11.970633</td>\n",
       "      <td>206.0</td>\n",
       "      <td>10.0</td>\n",
       "      <td>11.930285</td>\n",
       "    </tr>\n",
       "    <tr>\n",
       "      <th>1</th>\n",
       "      <td>21054.335200</td>\n",
       "      <td>1217</td>\n",
       "      <td>7TH SB &amp; BROADWAY NS</td>\n",
       "      <td>POINT (139360.908 -443107.504)</td>\n",
       "      <td>25990</td>\n",
       "      <td>9.104986e+18</td>\n",
       "      <td>886055</td>\n",
       "      <td>53.0</td>\n",
       "      <td>2022-10-08 09:41:45</td>\n",
       "      <td>3510</td>\n",
       "      <td>7</td>\n",
       "      <td>1</td>\n",
       "      <td>2022-10-08 09:39:29.323563</td>\n",
       "      <td>0.0</td>\n",
       "      <td>9.0</td>\n",
       "      <td>9.901323</td>\n",
       "    </tr>\n",
       "    <tr>\n",
       "      <th>2</th>\n",
       "      <td>20536.318677</td>\n",
       "      <td>227</td>\n",
       "      <td>SANTA MONICA EB &amp; 4TH FS</td>\n",
       "      <td>POINT (139004.358 -443230.989)</td>\n",
       "      <td>25990</td>\n",
       "      <td>6.475704e+18</td>\n",
       "      <td>886073</td>\n",
       "      <td>51.0</td>\n",
       "      <td>2022-10-08 14:15:23</td>\n",
       "      <td>3510</td>\n",
       "      <td>7</td>\n",
       "      <td>1</td>\n",
       "      <td>2022-10-08 14:15:58.638390</td>\n",
       "      <td>35.0</td>\n",
       "      <td>14.0</td>\n",
       "      <td>11.166562</td>\n",
       "    </tr>\n",
       "  </tbody>\n",
       "</table>\n",
       "</div>"
      ],
      "text/plain": [
       "   shape_meters stop_id                 stop_name  \\\n",
       "0  21054.335200    1217      7TH SB & BROADWAY NS   \n",
       "1  21054.335200    1217      7TH SB & BROADWAY NS   \n",
       "2  20536.318677     227  SANTA MONICA EB & 4TH FS   \n",
       "\n",
       "                         geometry shape_id      trip_key trip_id  \\\n",
       "0  POINT (139360.908 -443107.504)    25990 -3.648052e+18  886057   \n",
       "1  POINT (139360.908 -443107.504)    25990  9.104986e+18  886055   \n",
       "2  POINT (139004.358 -443230.989)    25990  6.475704e+18  886073   \n",
       "\n",
       "   stop_sequence        arrival_time route_id route_short_name direction_id  \\\n",
       "0           53.0 2022-10-08 10:11:45     3510                7            1   \n",
       "1           53.0 2022-10-08 09:41:45     3510                7            1   \n",
       "2           51.0 2022-10-08 14:15:23     3510                7            1   \n",
       "\n",
       "                 actual_time  delay_seconds  arrival_hour  mean_speed_mph  \n",
       "0 2022-10-08 10:15:11.970633          206.0          10.0       11.930285  \n",
       "1 2022-10-08 09:39:29.323563            0.0           9.0        9.901323  \n",
       "2 2022-10-08 14:15:58.638390           35.0          14.0       11.166562  "
      ]
     },
     "execution_count": 20,
     "metadata": {},
     "output_type": "execute_result"
    }
   ],
   "source": [
    "rt_day.endpoint_delay_view >> head(3)"
   ]
  },
  {
   "cell_type": "markdown",
   "id": "b3be9198-7c1a-483d-89f3-0d35e014381a",
   "metadata": {},
   "source": [
    "## Setting filter and generating a map\n",
    "\n",
    "To set a filter, provide at least one arguement to `set_filter`. Once set, most maps, charts, and descriptions produced by RtFilterMapper will automatically apply this filter."
   ]
  },
  {
   "cell_type": "code",
   "execution_count": 21,
   "id": "6e6fb60b-033c-44f9-8fcc-5ae248785dc3",
   "metadata": {},
   "outputs": [
    {
     "data": {
      "text/plain": [
       "\u001b[0;31mSignature:\u001b[0m\n",
       "\u001b[0mrt_day\u001b[0m\u001b[0;34m.\u001b[0m\u001b[0mset_filter\u001b[0m\u001b[0;34m(\u001b[0m\u001b[0;34m\u001b[0m\n",
       "\u001b[0;34m\u001b[0m    \u001b[0mstart_time\u001b[0m\u001b[0;34m=\u001b[0m\u001b[0;32mNone\u001b[0m\u001b[0;34m,\u001b[0m\u001b[0;34m\u001b[0m\n",
       "\u001b[0;34m\u001b[0m    \u001b[0mend_time\u001b[0m\u001b[0;34m=\u001b[0m\u001b[0;32mNone\u001b[0m\u001b[0;34m,\u001b[0m\u001b[0;34m\u001b[0m\n",
       "\u001b[0;34m\u001b[0m    \u001b[0mroute_names\u001b[0m\u001b[0;34m=\u001b[0m\u001b[0;32mNone\u001b[0m\u001b[0;34m,\u001b[0m\u001b[0;34m\u001b[0m\n",
       "\u001b[0;34m\u001b[0m    \u001b[0mshape_ids\u001b[0m\u001b[0;34m=\u001b[0m\u001b[0;32mNone\u001b[0m\u001b[0;34m,\u001b[0m\u001b[0;34m\u001b[0m\n",
       "\u001b[0;34m\u001b[0m    \u001b[0mdirection_id\u001b[0m\u001b[0;34m=\u001b[0m\u001b[0;32mNone\u001b[0m\u001b[0;34m,\u001b[0m\u001b[0;34m\u001b[0m\n",
       "\u001b[0;34m\u001b[0m    \u001b[0mdirection\u001b[0m\u001b[0;34m=\u001b[0m\u001b[0;32mNone\u001b[0m\u001b[0;34m,\u001b[0m\u001b[0;34m\u001b[0m\n",
       "\u001b[0;34m\u001b[0m    \u001b[0mtrip_ids\u001b[0m\u001b[0;34m=\u001b[0m\u001b[0;32mNone\u001b[0m\u001b[0;34m,\u001b[0m\u001b[0;34m\u001b[0m\n",
       "\u001b[0;34m\u001b[0m    \u001b[0mroute_types\u001b[0m\u001b[0;34m=\u001b[0m\u001b[0;32mNone\u001b[0m\u001b[0;34m,\u001b[0m\u001b[0;34m\u001b[0m\n",
       "\u001b[0;34m\u001b[0m\u001b[0;34m)\u001b[0m\u001b[0;34m\u001b[0m\u001b[0;34m\u001b[0m\u001b[0m\n",
       "\u001b[0;31mDocstring:\u001b[0m\n",
       "start_time, end_time: string %H:%M, for example '11:00' and '14:00'\n",
       "route_names: list or pd.Series of route_names (GTFS route_short_name)\n",
       "direction_id: '0' or '1'\n",
       "direction: string 'Northbound', 'Eastbound', 'Southbound', 'Westbound' (experimental)\n",
       "trip_ids: list or pd.Series of trip_ids (GTFS trip_ids)\n",
       "route_types: list or pd.Series of route_type\n",
       "\u001b[0;31mFile:\u001b[0m      ~/data-analyses/rt_delay/rt_analysis/rt_filter_map_plot.py\n",
       "\u001b[0;31mType:\u001b[0m      method\n"
      ]
     },
     "metadata": {},
     "output_type": "display_data"
    }
   ],
   "source": [
    "rt_day.set_filter?"
   ]
  },
  {
   "cell_type": "code",
   "execution_count": 22,
   "id": "3d448efa-0a0d-4070-bfd8-06fe1a38d953",
   "metadata": {},
   "outputs": [
    {
     "data": {
      "text/plain": [
       "\u001b[0;31mSignature:\u001b[0m \u001b[0mrt_day\u001b[0m\u001b[0;34m.\u001b[0m\u001b[0mreset_filter\u001b[0m\u001b[0;34m(\u001b[0m\u001b[0;34m)\u001b[0m\u001b[0;34m\u001b[0m\u001b[0;34m\u001b[0m\u001b[0m\n",
       "\u001b[0;31mDocstring:\u001b[0m Clear filter.\n",
       "\u001b[0;31mFile:\u001b[0m      ~/data-analyses/rt_delay/rt_analysis/rt_filter_map_plot.py\n",
       "\u001b[0;31mType:\u001b[0m      method\n"
      ]
     },
     "metadata": {},
     "output_type": "display_data"
    }
   ],
   "source": [
    "rt_day.reset_filter?"
   ]
  },
  {
   "cell_type": "markdown",
   "id": "bbf7c4c2-6d32-4d74-b4d2-80a776888c0e",
   "metadata": {},
   "source": [
    "Here, let's filter to the morning peak period (6-9AM) and routes 2 and R12"
   ]
  },
  {
   "cell_type": "code",
   "execution_count": 23,
   "id": "3e262429-1559-468e-b0b4-fdf6eaeb0b87",
   "metadata": {},
   "outputs": [],
   "source": [
    "rt_day.set_filter(start_time='06:00', end_time='09:00', route_names=['2', 'R12'])"
   ]
  },
  {
   "cell_type": "code",
   "execution_count": 24,
   "id": "f1d632ad-47bc-4294-a528-720df16ceccf",
   "metadata": {
    "tags": []
   },
   "outputs": [
    {
     "name": "stderr",
     "output_type": "stream",
     "text": [
      "/home/jovyan/data-analyses/rt_delay/rt_analysis/rt_filter_map_plot.py:364: UserWarning: Geometry is in a geographic CRS. Results from 'centroid' are likely incorrect. Use 'GeoSeries.to_crs()' to re-project geometries to a projected CRS before this operation.\n",
      "\n",
      "/home/jovyan/data-analyses/rt_delay/rt_analysis/rt_filter_map_plot.py:364: UserWarning: Geometry is in a geographic CRS. Results from 'centroid' are likely incorrect. Use 'GeoSeries.to_crs()' to re-project geometries to a projected CRS before this operation.\n",
      "\n"
     ]
    }
   ],
   "source": [
    "m = rt_day.segment_speed_map()"
   ]
  },
  {
   "cell_type": "code",
   "execution_count": 25,
   "id": "80b361f6-66d1-4c52-be6a-7eea8e8675f8",
   "metadata": {},
   "outputs": [],
   "source": [
    "m"
   ]
  },
  {
   "cell_type": "markdown",
   "id": "0ad0ceea-c570-41bd-b639-fff3861b17b0",
   "metadata": {},
   "source": [
    "## Speed variability chart\n",
    "\n",
    "Let's say we're interested in a closer look at speed variability along route 2. `RtFilterMapper` supports a detailed speed variability chart, but we must first filter to a single shape_id."
   ]
  },
  {
   "cell_type": "code",
   "execution_count": 26,
   "id": "8407d5dc-5805-46fb-8d0f-687e891c223e",
   "metadata": {},
   "outputs": [
    {
     "data": {
      "text/html": [
       "<div>\n",
       "<style scoped>\n",
       "    .dataframe tbody tr th:only-of-type {\n",
       "        vertical-align: middle;\n",
       "    }\n",
       "\n",
       "    .dataframe tbody tr th {\n",
       "        vertical-align: top;\n",
       "    }\n",
       "\n",
       "    .dataframe thead th {\n",
       "        text-align: right;\n",
       "    }\n",
       "</style>\n",
       "<table border=\"1\" class=\"dataframe\">\n",
       "  <thead>\n",
       "    <tr style=\"text-align: right;\">\n",
       "      <th></th>\n",
       "      <th>route_short_name</th>\n",
       "      <th>shape_id</th>\n",
       "    </tr>\n",
       "  </thead>\n",
       "  <tbody>\n",
       "    <tr>\n",
       "      <th>0</th>\n",
       "      <td>2</td>\n",
       "      <td>25978</td>\n",
       "    </tr>\n",
       "    <tr>\n",
       "      <th>1</th>\n",
       "      <td>2</td>\n",
       "      <td>25975</td>\n",
       "    </tr>\n",
       "    <tr>\n",
       "      <th>2</th>\n",
       "      <td>R12</td>\n",
       "      <td>26009</td>\n",
       "    </tr>\n",
       "    <tr>\n",
       "      <th>3</th>\n",
       "      <td>R12</td>\n",
       "      <td>26007</td>\n",
       "    </tr>\n",
       "  </tbody>\n",
       "</table>\n",
       "</div>"
      ],
      "text/plain": [
       "  route_short_name shape_id\n",
       "0                2    25978\n",
       "1                2    25975\n",
       "2              R12    26009\n",
       "3              R12    26007"
      ]
     },
     "execution_count": 26,
     "metadata": {},
     "output_type": "execute_result"
    }
   ],
   "source": [
    "# Get shape_ids associated with routes in our current filter\n",
    "rt_day._filter(rt_day.rt_trips) >> distinct(_.route_short_name, _.shape_id)"
   ]
  },
  {
   "cell_type": "code",
   "execution_count": 27,
   "id": "9b5bf7b5-a231-4e53-95bf-82337a5a30c3",
   "metadata": {},
   "outputs": [],
   "source": [
    "# Set a new filter using shape_id\n",
    "rt_day.set_filter(shape_ids=['25975'])"
   ]
  },
  {
   "cell_type": "code",
   "execution_count": 28,
   "id": "b896eed2-6ea9-4b73-82b2-594ad66c76c6",
   "metadata": {
    "tags": []
   },
   "outputs": [
    {
     "data": {
      "text/plain": [
       "\u001b[0;31mSignature:\u001b[0m\n",
       "\u001b[0mrt_day\u001b[0m\u001b[0;34m.\u001b[0m\u001b[0mchart_variability\u001b[0m\u001b[0;34m(\u001b[0m\u001b[0;34m\u001b[0m\n",
       "\u001b[0;34m\u001b[0m    \u001b[0mmin_stop_seq\u001b[0m\u001b[0;34m=\u001b[0m\u001b[0;32mNone\u001b[0m\u001b[0;34m,\u001b[0m\u001b[0;34m\u001b[0m\n",
       "\u001b[0;34m\u001b[0m    \u001b[0mmax_stop_seq\u001b[0m\u001b[0;34m=\u001b[0m\u001b[0;32mNone\u001b[0m\u001b[0;34m,\u001b[0m\u001b[0;34m\u001b[0m\n",
       "\u001b[0;34m\u001b[0m    \u001b[0mnum_segments\u001b[0m\u001b[0;34m=\u001b[0m\u001b[0;32mNone\u001b[0m\u001b[0;34m,\u001b[0m\u001b[0;34m\u001b[0m\n",
       "\u001b[0;34m\u001b[0m    \u001b[0mno_title\u001b[0m\u001b[0;34m=\u001b[0m\u001b[0;32mFalse\u001b[0m\u001b[0;34m,\u001b[0m\u001b[0;34m\u001b[0m\n",
       "\u001b[0;34m\u001b[0m\u001b[0;34m)\u001b[0m\u001b[0;34m\u001b[0m\u001b[0;34m\u001b[0m\u001b[0m\n",
       "\u001b[0;31mDocstring:\u001b[0m\n",
       "Chart trip speed variability, as speed between each stop segments.\n",
       "stop_sequence_range: (min_stop, max_stop)\n",
       "\u001b[0;31mFile:\u001b[0m      ~/data-analyses/rt_delay/rt_analysis/rt_filter_map_plot.py\n",
       "\u001b[0;31mType:\u001b[0m      method\n"
      ]
     },
     "metadata": {},
     "output_type": "display_data"
    }
   ],
   "source": [
    "rt_day.chart_variability?"
   ]
  },
  {
   "cell_type": "code",
   "execution_count": 29,
   "id": "38366d34-8844-4b9c-9c4e-3f50a15c0147",
   "metadata": {},
   "outputs": [
    {
     "name": "stderr",
     "output_type": "stream",
     "text": [
      "/home/jovyan/data-analyses/rt_delay/rt_analysis/rt_filter_map_plot.py:364: UserWarning: Geometry is in a geographic CRS. Results from 'centroid' are likely incorrect. Use 'GeoSeries.to_crs()' to re-project geometries to a projected CRS before this operation.\n",
      "\n",
      "/home/jovyan/data-analyses/rt_delay/rt_analysis/rt_filter_map_plot.py:364: UserWarning: Geometry is in a geographic CRS. Results from 'centroid' are likely incorrect. Use 'GeoSeries.to_crs()' to re-project geometries to a projected CRS before this operation.\n",
      "\n"
     ]
    },
    {
     "data": {
      "text/plain": [
       "Text(0.5, 1.0, 'Big Blue Bus Speed Variability by Stop Segment, All Route Types, Route(s) 2, Northbound, All Day, Oct 08 (Sat)')"
      ]
     },
     "execution_count": 29,
     "metadata": {},
     "output_type": "execute_result"
    },
    {
     "data": {
      "image/png": "[encoded data removed]",
      "text/plain": [
       "<Figure size 1300x600 with 1 Axes>"
      ]
     },
     "metadata": {},
     "output_type": "display_data"
    }
   ],
   "source": [
    "rt_day.chart_variability(num_segments=10)"
   ]
  },
  {
   "cell_type": "markdown",
   "id": "1a8948b5-6a55-46dc-8cd5-14eb8cdc56ff",
   "metadata": {},
   "source": [
    "## Corridor Metrics (for SCCP, LPP, 100 Buses, etc) \n",
    "\n",
    "Showing speeds on a map is great, but often it would be nice to have a reasonable estimate of how much time is lost to low speeds in a certain area -- for any combination of routes and times of day. `RtFilterMapper` includes corridor analysis methods designed to facilitate these estimates.\n",
    "\n",
    "First, it's necessary to define the corridor. Generally, draw the corridor with a small buffer (~10 meters) around the segment you wish to measure. Note that `RtFilterMapper` currently only handles one contiguous corridor at a time. To draw the corridor, use any platform that outputs a supported GIS file format. [geojson.io](https://geojson.io) is an easy one, but you could also use ESRI or QGIS.\n",
    "\n",
    "If using geojson.io:\n",
    "* Navigate the map to your area of interest\n",
    "* Click the pentagon-shaped \"polygon\" tool in the top center right of the map\n",
    "* Construct your polygon as a series of points\n",
    "* When back at the start, double-click on the starting point to finish drawing (a complete polygon will look like the screenshot below)\n",
    "* Save file as geojson"
   ]
  },
  {
   "cell_type": "markdown",
   "id": "ce462b53-1ed3-4570-8155-51bea5560f1c",
   "metadata": {},
   "source": [
    "![geojson_io.png](attachment:cf5fd78d-baa4-45a5-873b-38a152b3c003.png)![finished polygon on geojson.io](img/geojson_io.png)"
   ]
  },
  {
   "cell_type": "markdown",
   "id": "0e78e6b5-0c9f-4b45-b497-7e5e3c8c277e",
   "metadata": {},
   "source": [
    "### Attaching Corridor to an RtFilterMapper instance\n",
    "\n",
    "* first, construct an `RtFilterMapper` on the date of interest as above\n",
    "* use geopandas to load your corridor file as a geodataframe\n",
    "* pass that geodataframe to `RtFilterMapper.add_corridor()`"
   ]
  },
  {
   "cell_type": "code",
   "execution_count": 30,
   "id": "99138320-b9af-4bbe-90b5-21e2ec74936f",
   "metadata": {},
   "outputs": [],
   "source": [
    "corridor = gpd.read_file('./corridors_100buses/example_santamonica.geojson')"
   ]
  },
  {
   "cell_type": "code",
   "execution_count": 31,
   "id": "bc670cfd-220c-42b9-8693-797a4726bc5d",
   "metadata": {},
   "outputs": [
    {
     "data": {
      "text/html": [
       "<div>\n",
       "<style scoped>\n",
       "    .dataframe tbody tr th:only-of-type {\n",
       "        vertical-align: middle;\n",
       "    }\n",
       "\n",
       "    .dataframe tbody tr th {\n",
       "        vertical-align: top;\n",
       "    }\n",
       "\n",
       "    .dataframe thead th {\n",
       "        text-align: right;\n",
       "    }\n",
       "</style>\n",
       "<table border=\"1\" class=\"dataframe\">\n",
       "  <thead>\n",
       "    <tr style=\"text-align: right;\">\n",
       "      <th></th>\n",
       "      <th>geometry</th>\n",
       "    </tr>\n",
       "  </thead>\n",
       "  <tbody>\n",
       "    <tr>\n",
       "      <th>0</th>\n",
       "      <td>POLYGON ((-118.46334 34.04009, -118.45238 34.0...</td>\n",
       "    </tr>\n",
       "  </tbody>\n",
       "</table>\n",
       "</div>"
      ],
      "text/plain": [
       "                                            geometry\n",
       "0  POLYGON ((-118.46334 34.04009, -118.45238 34.0..."
      ]
     },
     "execution_count": 31,
     "metadata": {},
     "output_type": "execute_result"
    }
   ],
   "source": [
    "corridor"
   ]
  },
  {
   "cell_type": "code",
   "execution_count": 33,
   "id": "589d3b47-00a3-4cb5-a690-392f174d13df",
   "metadata": {},
   "outputs": [],
   "source": [
    "rt_day.add_corridor(corridor)"
   ]
  },
  {
   "cell_type": "markdown",
   "id": "fa79d4ed-4887-451e-b436-b8c29602691a",
   "metadata": {},
   "source": [
    "`add_corridor` finds all shapes with at least one stop within the designated corridor, and tracks all stops for those shapes starting with the stop just before entering the corridor and ending with the stop just after leaving the corridor. You can use `RtFilterMapper.quick_map_corridor()` to confirm corridor and stop locations."
   ]
  },
  {
   "cell_type": "code",
   "execution_count": 34,
   "id": "60601309-86b3-451e-80a3-7ecdf6805a11",
   "metadata": {},
   "outputs": [],
   "source": [
    "rt_day.quick_map_corridor()"
   ]
  },
  {
   "cell_type": "markdown",
   "id": "0936af3c-59ab-4949-a0a4-028e6fe0dd2a",
   "metadata": {},
   "source": [
    "### Using Corridor for Maps and Metrics"
   ]
  },
  {
   "cell_type": "code",
   "execution_count": 35,
   "id": "1c5e291e-e23b-4b6e-abf1-460f903686ac",
   "metadata": {},
   "outputs": [],
   "source": [
    "# reset to remove filter from earlier\n",
    "rt_day.reset_filter()"
   ]
  },
  {
   "cell_type": "markdown",
   "id": "047ae637-1c1b-4929-863e-c7f6ee8a7a11",
   "metadata": {},
   "source": [
    "With a corridor attached, you can use the `RtFilterMapper.segment_speed_map()` `corridor` arguement to generate a speed map filtered to just the corridor."
   ]
  },
  {
   "cell_type": "code",
   "execution_count": null,
   "id": "2bec3f87-8120-4f6d-aa89-90ebda4c8053",
   "metadata": {},
   "outputs": [],
   "source": [
    "rt_day.segment_speed_map(corridor=True)"
   ]
  },
  {
   "cell_type": "markdown",
   "id": "373d5a7a-da0b-47b5-b539-f80137e4656a",
   "metadata": {},
   "source": [
    "#### About the Metrics\n",
    "\n",
    "The schedule-based metric is a daily average of the sum of median trip stop delays along the corridor. To further explain, we take each corridor trip that we have data for and look at the delay in comparison to the schedule at each stop, after subtracting off any delay present as the trip entered the corridor. For each trip we then take the median delay of all stops along the corridor, and sum these medians to create the metric.\n",
    "\n",
    "The speed-based metric is a daily average of the sum of delays for each trip traversing the corridor as compared to a reference speed of 16 miles per hour. To further explain, we take each corridor trip that we have data for and calculate the hypothetical time it would take for that trip to traverse the corridor at a speed of 16 mph. The difference between the actual time it took for the trip to traverse the corridor and that hypothetical time is the speed-based delay for that trip, and we sum those delays to create the metric. This metric is intended to provide a more consistent basis for comparison independent of scheduling practices.\n",
    "\n",
    "In other words, if we expect a hypothetical bus lane/signal priority/payment system etc to increase corridor speeds to 16mph, this is how much time we could save per day.\n",
    "\n",
    "With corridor attached, generate both metrics using `RtFilterMapper.corridor_metrics()`"
   ]
  },
  {
   "cell_type": "code",
   "execution_count": 37,
   "id": "0cebd109-4967-4938-971f-68cdf72e44d1",
   "metadata": {},
   "outputs": [
    {
     "data": {
      "text/plain": [
       "{'schedule_metric_minutes': 80.175, 'speed_metric_minutes': 584.1935799795249}"
      ]
     },
     "execution_count": 37,
     "metadata": {},
     "output_type": "execute_result"
    }
   ],
   "source": [
    "rt_day.corridor_metrics()"
   ]
  },
  {
   "cell_type": "markdown",
   "id": "e7d0a13f-d7a8-42ea-bb7b-13a2b849da32",
   "metadata": {},
   "source": [
    "`RtFilterMapper.corridor_metrics()` now supports `RtFilterMapper`'s filtering system. If the filter set excludes all corridor trips, it will raise an error.\n",
    "\n",
    "_don't set a filter if running SCCP/LPP metrics_"
   ]
  },
  {
   "cell_type": "code",
   "execution_count": 38,
   "id": "d25ab978-32e1-496a-a275-49ed33e284a0",
   "metadata": {},
   "outputs": [],
   "source": [
    "rt_day.set_filter(shape_ids = ['26025']) # a single shape through corridor"
   ]
  },
  {
   "cell_type": "code",
   "execution_count": 39,
   "id": "18d68735-321c-4873-87dd-0e343824c3d9",
   "metadata": {},
   "outputs": [
    {
     "name": "stdout",
     "output_type": "stream",
     "text": [
      "warning: filter set -- for SCCP/LPP reset filter first\n"
     ]
    },
    {
     "data": {
      "text/plain": [
       "{'schedule_metric_minutes': 7.2, 'speed_metric_minutes': 18.294340227787682}"
      ]
     },
     "execution_count": 39,
     "metadata": {},
     "output_type": "execute_result"
    }
   ],
   "source": [
    "rt_day.corridor_metrics()"
   ]
  },
  {
   "cell_type": "code",
   "execution_count": 40,
   "id": "9b1b730b-52e0-4484-a26e-49d27478a042",
   "metadata": {},
   "outputs": [],
   "source": [
    "rt_day.set_filter(route_names = ['R12']) # route not near corridor"
   ]
  },
  {
   "cell_type": "code",
   "execution_count": 41,
   "id": "3a4adb74-1435-4981-b5df-0e8de37cda7c",
   "metadata": {},
   "outputs": [
    {
     "ename": "AssertionError",
     "evalue": "filter does not include any corridor trips",
     "output_type": "error",
     "traceback": [
      "\u001b[0;31m---------------------------------------------------------------------------\u001b[0m",
      "\u001b[0;31mAssertionError\u001b[0m                            Traceback (most recent call last)",
      "Cell \u001b[0;32mIn [41], line 1\u001b[0m\n\u001b[0;32m----> 1\u001b[0m \u001b[43mrt_day\u001b[49m\u001b[38;5;241;43m.\u001b[39;49m\u001b[43mcorridor_metrics\u001b[49m\u001b[43m(\u001b[49m\u001b[43m)\u001b[49m\n",
      "File \u001b[0;32m~/data-analyses/rt_delay/rt_analysis/rt_filter_map_plot.py:546\u001b[0m, in \u001b[0;36mRtFilterMapper.corridor_metrics\u001b[0;34m(self)\u001b[0m\n\u001b[1;32m    542\u001b[0m \u001b[38;5;124;03m'''\u001b[39;00m\n\u001b[1;32m    543\u001b[0m \u001b[38;5;124;03mGenerate schedule based and speed based metrics for SCCP/LPP programs.\u001b[39;00m\n\u001b[1;32m    544\u001b[0m \u001b[38;5;124;03m'''\u001b[39;00m\n\u001b[1;32m    545\u001b[0m \u001b[38;5;28;01massert\u001b[39;00m \u001b[38;5;28mhasattr\u001b[39m(\u001b[38;5;28mself\u001b[39m, \u001b[38;5;124m'\u001b[39m\u001b[38;5;124mcorridor\u001b[39m\u001b[38;5;124m'\u001b[39m), \u001b[38;5;124m'\u001b[39m\u001b[38;5;124mmust add corridor before generating corridor metrics\u001b[39m\u001b[38;5;124m'\u001b[39m\n\u001b[0;32m--> 546\u001b[0m \u001b[38;5;28;01massert\u001b[39;00m \u001b[38;5;129;01mnot\u001b[39;00m \u001b[38;5;28mself\u001b[39m\u001b[38;5;241m.\u001b[39m_filter(\u001b[38;5;28mself\u001b[39m\u001b[38;5;241m.\u001b[39mcorridor_stop_delays)\u001b[38;5;241m.\u001b[39mempty, \u001b[38;5;124m'\u001b[39m\u001b[38;5;124mfilter does not include any corridor trips\u001b[39m\u001b[38;5;124m'\u001b[39m\n\u001b[1;32m    547\u001b[0m \u001b[38;5;28;01mif\u001b[39;00m \u001b[38;5;28mself\u001b[39m\u001b[38;5;241m.\u001b[39mfilter:\n\u001b[1;32m    548\u001b[0m     \u001b[38;5;28mprint\u001b[39m(\u001b[38;5;124m'\u001b[39m\u001b[38;5;124mwarning: filter set -- for SCCP/LPP reset filter first\u001b[39m\u001b[38;5;124m'\u001b[39m)\n",
      "\u001b[0;31mAssertionError\u001b[0m: filter does not include any corridor trips"
     ]
    }
   ],
   "source": [
    "rt_day.corridor_metrics()"
   ]
  },
  {
   "cell_type": "markdown",
   "id": "9601e514-8bb2-497b-9129-61b4d47a46d8",
   "metadata": {},
   "source": [
    "If running metrics for the SCCP or LPP programs, `rt_analysis` now includes a convienience function to generate the required nine-day average."
   ]
  },
  {
   "cell_type": "code",
   "execution_count": 42,
   "id": "bc283b96-bf13-4955-a870-cb78db579848",
   "metadata": {},
   "outputs": [],
   "source": [
    "from rt_analysis import sccp_tools\n",
    "import numpy as np"
   ]
  },
  {
   "cell_type": "markdown",
   "id": "1208292b-683c-4f47-b12c-30705479b73d",
   "metadata": {},
   "source": [
    "2022-2023 cycle standard SCCP/LPP date range:"
   ]
  },
  {
   "cell_type": "code",
   "execution_count": 43,
   "id": "529e9697-cd7d-4793-9998-b1fe6bde9bfc",
   "metadata": {},
   "outputs": [],
   "source": [
    "date_range = np.arange('2022-04-30', '2022-05-09', dtype='datetime64[D]')"
   ]
  },
  {
   "cell_type": "markdown",
   "id": "41b81b2f-5f3f-4ccb-a9f6-8df8d7cedc67",
   "metadata": {},
   "source": [
    "The next cell generates an `OperatorDayAnalysis` for each date in the range that hasn't been ran already, and saves intermediate data to gcs."
   ]
  },
  {
   "cell_type": "code",
   "execution_count": 44,
   "id": "d6fe0504-fa9f-4896-9657-8bcce896e1b9",
   "metadata": {},
   "outputs": [
    {
     "name": "stdout",
     "output_type": "stream",
     "text": [
      "already ran: 300\n",
      "already ran: 300\n",
      "already ran: 300\n",
      "already ran: 300\n",
      "already ran: 300\n",
      "already ran: 300\n",
      "already ran: 300\n",
      "already ran: 300\n",
      "already ran: 300\n"
     ]
    }
   ],
   "source": [
    "%%capture --no-stdout\n",
    "for date in date_range:\n",
    "    analysis_date = date.astype(dt.date)\n",
    "    check_ran = shared_utils.rt_utils.get_operators(analysis_date, [300])\n",
    "    if check_ran[300] == 'already_ran':\n",
    "        continue\n",
    "    rt_day = rt_parser.OperatorDayAnalysis(300, analysis_date, pbar)\n",
    "    # don't worry about the CRS not set UserWarning\n",
    "    rt_day.export_views_gcs()"
   ]
  },
  {
   "cell_type": "code",
   "execution_count": 45,
   "id": "db784d8d-1349-4aed-b7ff-f49d20082cee",
   "metadata": {},
   "outputs": [
    {
     "data": {
      "text/plain": [
       "\u001b[0;31mSignature:\u001b[0m\n",
       "\u001b[0msccp_tools\u001b[0m\u001b[0;34m.\u001b[0m\u001b[0msccp_average_metrics\u001b[0m\u001b[0;34m(\u001b[0m\u001b[0;34m\u001b[0m\n",
       "\u001b[0;34m\u001b[0m    \u001b[0mitp_id\u001b[0m\u001b[0;34m:\u001b[0m \u001b[0mint\u001b[0m\u001b[0;34m,\u001b[0m\u001b[0;34m\u001b[0m\n",
       "\u001b[0;34m\u001b[0m    \u001b[0mdate_range\u001b[0m\u001b[0;34m:\u001b[0m \u001b[0;34m<\u001b[0m\u001b[0mbuilt\u001b[0m\u001b[0;34m-\u001b[0m\u001b[0;32min\u001b[0m \u001b[0mfunction\u001b[0m \u001b[0marange\u001b[0m\u001b[0;34m>\u001b[0m\u001b[0;34m,\u001b[0m\u001b[0;34m\u001b[0m\n",
       "\u001b[0;34m\u001b[0m    \u001b[0mcorridor\u001b[0m\u001b[0;34m:\u001b[0m \u001b[0mgeopandas\u001b[0m\u001b[0;34m.\u001b[0m\u001b[0mgeodataframe\u001b[0m\u001b[0;34m.\u001b[0m\u001b[0mGeoDataFrame\u001b[0m\u001b[0;34m,\u001b[0m\u001b[0;34m\u001b[0m\n",
       "\u001b[0;34m\u001b[0m    \u001b[0mfilter_dict\u001b[0m\u001b[0;34m:\u001b[0m \u001b[0mdict\u001b[0m \u001b[0;34m=\u001b[0m \u001b[0;32mNone\u001b[0m\u001b[0;34m,\u001b[0m\u001b[0;34m\u001b[0m\n",
       "\u001b[0;34m\u001b[0m\u001b[0;34m)\u001b[0m\u001b[0;34m\u001b[0m\u001b[0;34m\u001b[0m\u001b[0m\n",
       "\u001b[0;31mDocstring:\u001b[0m\n",
       "Generate averaged corridor delay metrics for SCCP, LPP programs. For 2022-2023 cycle,\n",
       "default range is Apr 30 2022 to May 8 2022:\n",
       "date_range = np.arange('2022-04-30', '2022-05-09', dtype='datetime64[D]')\n",
       "\n",
       "Optional filter_dict should _not_ be used to generate SCCP/LPP metrics, but is available\n",
       "for exploratory analysis and other analyses. Supply RtFilterMapper.set_filter params\n",
       "as dict keys with each param's value as dict values:\n",
       "filter_dict = {'start_time': '06:00', 'end_time': '10:00', 'route_names': ['2', 'R12']}\n",
       "\u001b[0;31mFile:\u001b[0m      ~/data-analyses/rt_delay/rt_analysis/sccp_tools.py\n",
       "\u001b[0;31mType:\u001b[0m      function\n"
      ]
     },
     "metadata": {},
     "output_type": "display_data"
    }
   ],
   "source": [
    "sccp_tools.sccp_average_metrics?"
   ]
  },
  {
   "cell_type": "code",
   "execution_count": 46,
   "id": "540bb4be-47f9-4f33-977c-24db1776abf2",
   "metadata": {},
   "outputs": [
    {
     "name": "stdout",
     "output_type": "stream",
     "text": [
      "found parquet\n",
      "complete for date: 2022-04-30\n",
      "found parquet\n",
      "complete for date: 2022-05-01\n",
      "found parquet\n",
      "complete for date: 2022-05-02\n",
      "found parquet\n",
      "complete for date: 2022-05-03\n",
      "found parquet\n",
      "complete for date: 2022-05-04\n",
      "found parquet\n",
      "complete for date: 2022-05-05\n",
      "found parquet\n",
      "complete for date: 2022-05-06\n",
      "found parquet\n",
      "complete for date: 2022-05-07\n",
      "found parquet\n",
      "complete for date: 2022-05-08\n"
     ]
    }
   ],
   "source": [
    "bbb_corridor_metrics = sccp_tools.sccp_average_metrics(itp_id=300, date_range=date_range, corridor=corridor)"
   ]
  },
  {
   "cell_type": "code",
   "execution_count": 47,
   "id": "8d8e5644-aa0e-4124-962f-8613f7b0b93c",
   "metadata": {},
   "outputs": [
    {
     "data": {
      "text/plain": [
       "{'avg_schedule_metric_minutes': 28.0,\n",
       " 'avg_speed_metric_minutes': 628.0,\n",
       " 'all_schedule': [31.908333333333335,\n",
       "  9.841666666666667,\n",
       "  0.30833333333333335,\n",
       "  35.25,\n",
       "  25.816666666666666,\n",
       "  59.55,\n",
       "  42.725,\n",
       "  52.61666666666667,\n",
       "  -3.566666666666667],\n",
       " 'all_speed': [484.1486595413707,\n",
       "  383.88234806134756,\n",
       "  726.3330598415508,\n",
       "  833.6681699201343,\n",
       "  781.9080956422948,\n",
       "  841.8386177141758,\n",
       "  776.2531649614954,\n",
       "  481.57557779053826,\n",
       "  340.3238126351311]}"
      ]
     },
     "execution_count": 47,
     "metadata": {},
     "output_type": "execute_result"
    }
   ],
   "source": [
    "bbb_corridor_metrics"
   ]
  },
  {
   "cell_type": "markdown",
   "id": "96c0ec48-888f-49b5-8b37-2180a0d9c1e4",
   "metadata": {},
   "source": [
    "If needed, it's easy to construct a dataframe with the metrics and the date array used, to support charts or tables"
   ]
  },
  {
   "cell_type": "code",
   "execution_count": 47,
   "id": "6c18dd5d-f427-44cd-98e9-eb510b6d2d0c",
   "metadata": {},
   "outputs": [
    {
     "data": {
      "text/html": [
       "<div>\n",
       "<style scoped>\n",
       "    .dataframe tbody tr th:only-of-type {\n",
       "        vertical-align: middle;\n",
       "    }\n",
       "\n",
       "    .dataframe tbody tr th {\n",
       "        vertical-align: top;\n",
       "    }\n",
       "\n",
       "    .dataframe thead th {\n",
       "        text-align: right;\n",
       "    }\n",
       "</style>\n",
       "<table border=\"1\" class=\"dataframe\">\n",
       "  <thead>\n",
       "    <tr style=\"text-align: right;\">\n",
       "      <th></th>\n",
       "      <th>dates</th>\n",
       "      <th>schedule_metric</th>\n",
       "      <th>speed_metric</th>\n",
       "    </tr>\n",
       "  </thead>\n",
       "  <tbody>\n",
       "    <tr>\n",
       "      <th>0</th>\n",
       "      <td>2022-04-30</td>\n",
       "      <td>31.908333</td>\n",
       "      <td>484.148660</td>\n",
       "    </tr>\n",
       "    <tr>\n",
       "      <th>1</th>\n",
       "      <td>2022-05-01</td>\n",
       "      <td>9.841667</td>\n",
       "      <td>383.882348</td>\n",
       "    </tr>\n",
       "    <tr>\n",
       "      <th>2</th>\n",
       "      <td>2022-05-02</td>\n",
       "      <td>0.308333</td>\n",
       "      <td>726.333060</td>\n",
       "    </tr>\n",
       "    <tr>\n",
       "      <th>3</th>\n",
       "      <td>2022-05-03</td>\n",
       "      <td>35.250000</td>\n",
       "      <td>833.668170</td>\n",
       "    </tr>\n",
       "    <tr>\n",
       "      <th>4</th>\n",
       "      <td>2022-05-04</td>\n",
       "      <td>25.816667</td>\n",
       "      <td>781.908096</td>\n",
       "    </tr>\n",
       "    <tr>\n",
       "      <th>5</th>\n",
       "      <td>2022-05-05</td>\n",
       "      <td>59.550000</td>\n",
       "      <td>841.838618</td>\n",
       "    </tr>\n",
       "    <tr>\n",
       "      <th>6</th>\n",
       "      <td>2022-05-06</td>\n",
       "      <td>42.725000</td>\n",
       "      <td>776.253165</td>\n",
       "    </tr>\n",
       "    <tr>\n",
       "      <th>7</th>\n",
       "      <td>2022-05-07</td>\n",
       "      <td>52.616667</td>\n",
       "      <td>481.575578</td>\n",
       "    </tr>\n",
       "    <tr>\n",
       "      <th>8</th>\n",
       "      <td>2022-05-08</td>\n",
       "      <td>-3.566667</td>\n",
       "      <td>340.323813</td>\n",
       "    </tr>\n",
       "  </tbody>\n",
       "</table>\n",
       "</div>"
      ],
      "text/plain": [
       "       dates  schedule_metric  speed_metric\n",
       "0 2022-04-30        31.908333    484.148660\n",
       "1 2022-05-01         9.841667    383.882348\n",
       "2 2022-05-02         0.308333    726.333060\n",
       "3 2022-05-03        35.250000    833.668170\n",
       "4 2022-05-04        25.816667    781.908096\n",
       "5 2022-05-05        59.550000    841.838618\n",
       "6 2022-05-06        42.725000    776.253165\n",
       "7 2022-05-07        52.616667    481.575578\n",
       "8 2022-05-08        -3.566667    340.323813"
      ]
     },
     "execution_count": 47,
     "metadata": {},
     "output_type": "execute_result"
    }
   ],
   "source": [
    "pd.DataFrame({'dates': date_range, 'schedule_metric': bbb_corridor_metrics['all_schedule'],\n",
    "'speed_metric': bbb_corridor_metrics['all_speed']})"
   ]
  },
  {
   "cell_type": "code",
   "execution_count": null,
   "id": "1d7cc73d-8c7e-442d-9d68-32755e299096",
   "metadata": {},
   "outputs": [],
   "source": []
  }
 ],
 "metadata": {
  "kernelspec": {
   "display_name": "Python 3 (ipykernel)",
   "language": "python",
   "name": "python3"
  },
  "language_info": {
   "codemirror_mode": {
    "name": "ipython",
    "version": 3
   },
   "file_extension": ".py",
   "mimetype": "text/x-python",
   "name": "python",
   "nbconvert_exporter": "python",
   "pygments_lexer": "ipython3",
   "version": "3.9.13"
  },
  "widgets": {
   "application/vnd.jupyter.widget-state+json": {
    "state": {
     "004f239769d148afb71a0a587e82dfc8": {
      "model_module": "@jupyter-widgets/base",
      "model_module_version": "1.2.0",
      "model_name": "LayoutModel",
      "state": {}
     },
     "06286ea5668442ef9eec1da6eaf86bc2": {
      "model_module": "@jupyter-widgets/controls",
      "model_module_version": "1.5.0",
      "model_name": "HBoxModel",
      "state": {
       "children": [
        "IPY_MODEL_a65167e95069478e994ae32250853e9a",
        "IPY_MODEL_591e14f1fc9d448db4130c1988b30b22",
        "IPY_MODEL_2aebb311fc8e4220a5ddacc1dcbacba9"
       ],
       "layout": "IPY_MODEL_004f239769d148afb71a0a587e82dfc8"
      }
     },
     "13e1bc67df08441ab9285d110da31a9c": {
      "model_module": "@jupyter-widgets/base",
      "model_module_version": "1.2.0",
      "model_name": "LayoutModel",
      "state": {}
     },
     "17f1315694134998bc0aaeadfb1f643c": {
      "model_module": "@jupyter-widgets/base",
      "model_module_version": "1.2.0",
      "model_name": "LayoutModel",
      "state": {}
     },
     "2aebb311fc8e4220a5ddacc1dcbacba9": {
      "model_module": "@jupyter-widgets/controls",
      "model_module_version": "1.5.0",
      "model_name": "HTMLModel",
      "state": {
       "layout": "IPY_MODEL_13e1bc67df08441ab9285d110da31a9c",
       "style": "IPY_MODEL_d8d9b6d65217477f940318fc1a533e5b",
       "value": " 115/115 [00:25&lt;00:00, 11.22it/s]"
      }
     },
     "30e8c92ccd0e4e3d8c5384ba8e951a10": {
      "model_module": "@jupyter-widgets/controls",
      "model_module_version": "1.5.0",
      "model_name": "DescriptionStyleModel",
      "state": {
       "description_width": ""
      }
     },
     "34e5e93beaa74343ad3b60069c77df14": {
      "model_module": "@jupyter-widgets/base",
      "model_module_version": "1.2.0",
      "model_name": "LayoutModel",
      "state": {}
     },
     "413854c6682c4d6ab358f5768ddc6321": {
      "model_module": "@jupyter-widgets/controls",
      "model_module_version": "1.5.0",
      "model_name": "DescriptionStyleModel",
      "state": {
       "description_width": ""
      }
     },
     "44b5f2ecf8484b918d55dac6f804abfb": {
      "model_module": "@jupyter-widgets/base",
      "model_module_version": "1.2.0",
      "model_name": "LayoutModel",
      "state": {}
     },
     "54198df9ce364bb6973c5a4ca169090a": {
      "model_module": "@jupyter-widgets/controls",
      "model_module_version": "1.5.0",
      "model_name": "FloatProgressModel",
      "state": {
       "layout": "IPY_MODEL_44b5f2ecf8484b918d55dac6f804abfb",
       "max": 1,
       "style": "IPY_MODEL_974e428325f74fdf83a0012e5e3df290"
      }
     },
     "591e14f1fc9d448db4130c1988b30b22": {
      "model_module": "@jupyter-widgets/controls",
      "model_module_version": "1.5.0",
      "model_name": "FloatProgressModel",
      "state": {
       "layout": "IPY_MODEL_44b5f2ecf8484b918d55dac6f804abfb",
       "max": 115,
       "style": "IPY_MODEL_974e428325f74fdf83a0012e5e3df290",
       "value": 115
      }
     },
     "5b4b0edc43534c7eb6e83416db75f8d9": {
      "model_module": "@jupyter-widgets/controls",
      "model_module_version": "1.5.0",
      "model_name": "DescriptionStyleModel",
      "state": {
       "description_width": ""
      }
     },
     "719f658e525c46acb7505347c2089611": {
      "model_module": "@jupyter-widgets/controls",
      "model_module_version": "1.5.0",
      "model_name": "ProgressStyleModel",
      "state": {
       "description_width": ""
      }
     },
     "76ca50d013c642ea824ed36b6a9d4a23": {
      "model_module": "@jupyter-widgets/controls",
      "model_module_version": "1.5.0",
      "model_name": "HTMLModel",
      "state": {
       "layout": "IPY_MODEL_13e1bc67df08441ab9285d110da31a9c",
       "style": "IPY_MODEL_d8d9b6d65217477f940318fc1a533e5b"
      }
     },
     "822639c085064e50844465583323a492": {
      "model_module": "@jupyter-widgets/controls",
      "model_module_version": "1.5.0",
      "model_name": "HBoxModel",
      "state": {
       "children": [
        "IPY_MODEL_a65167e95069478e994ae32250853e9a",
        "IPY_MODEL_591e14f1fc9d448db4130c1988b30b22",
        "IPY_MODEL_2aebb311fc8e4220a5ddacc1dcbacba9"
       ],
       "layout": "IPY_MODEL_004f239769d148afb71a0a587e82dfc8"
      }
     },
     "974e428325f74fdf83a0012e5e3df290": {
      "model_module": "@jupyter-widgets/controls",
      "model_module_version": "1.5.0",
      "model_name": "ProgressStyleModel",
      "state": {
       "description_width": ""
      }
     },
     "9dbac96d8b4142028d934f40c0536d4c": {
      "model_module": "@jupyter-widgets/base",
      "model_module_version": "1.2.0",
      "model_name": "LayoutModel",
      "state": {}
     },
     "9fe5429425f0492482f75f772d7826b5": {
      "model_module": "@jupyter-widgets/controls",
      "model_module_version": "1.5.0",
      "model_name": "HTMLModel",
      "state": {
       "layout": "IPY_MODEL_9dbac96d8b4142028d934f40c0536d4c",
       "style": "IPY_MODEL_30e8c92ccd0e4e3d8c5384ba8e951a10"
      }
     },
     "a345bd570d5a4fa5922015763ba61ce6": {
      "model_module": "@jupyter-widgets/base",
      "model_module_version": "1.2.0",
      "model_name": "LayoutModel",
      "state": {}
     },
     "a65167e95069478e994ae32250853e9a": {
      "model_module": "@jupyter-widgets/controls",
      "model_module_version": "1.5.0",
      "model_name": "HTMLModel",
      "state": {
       "layout": "IPY_MODEL_9dbac96d8b4142028d934f40c0536d4c",
       "style": "IPY_MODEL_30e8c92ccd0e4e3d8c5384ba8e951a10",
       "value": "Generating stop delay view itp_id: 218: 100%"
      }
     },
     "c23209b8f8fd44e9bdeb95196c5b3a61": {
      "model_module": "@jupyter-widgets/base",
      "model_module_version": "1.2.0",
      "model_name": "LayoutModel",
      "state": {}
     },
     "d8d9b6d65217477f940318fc1a533e5b": {
      "model_module": "@jupyter-widgets/controls",
      "model_module_version": "1.5.0",
      "model_name": "DescriptionStyleModel",
      "state": {
       "description_width": ""
      }
     }
    },
    "version_major": 2,
    "version_minor": 0
   }
  }
 },
 "nbformat": 4,
 "nbformat_minor": 5
}
