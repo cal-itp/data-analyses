{
 "cells": [
  {
   "cell_type": "code",
   "execution_count": 1,
   "id": "0cc75cc8-125b-4099-bfb3-93a6cd0380cb",
   "metadata": {},
   "outputs": [
    {
     "name": "stderr",
     "output_type": "stream",
     "text": [
      "/opt/conda/lib/python3.9/site-packages/geopandas/_compat.py:111: UserWarning: The Shapely GEOS version (3.9.1-CAPI-1.14.2) is incompatible with the GEOS version PyGEOS was compiled with (3.10.1-CAPI-1.16.0). Conversions between both will be slow.\n",
      "  warnings.warn(\n"
     ]
    }
   ],
   "source": [
    "import os\n",
    "os.environ[\"CALITP_BQ_MAX_BYTES\"] = str(100_000_000_000)\n",
    "\n",
    "from calitp.tables import tbl\n",
    "from calitp import query_sql\n",
    "import calitp.magics\n",
    "\n",
    "import shared_utils\n",
    "import branca\n",
    "from utils import *\n",
    "\n",
    "from siuba import *\n",
    "import pandas as pd\n",
    "import geopandas as gpd\n",
    "import shapely\n",
    "\n",
    "import datetime as dt\n",
    "import time\n",
    "from zoneinfo import ZoneInfo\n",
    "\n",
    "import rt_analysis as rt"
   ]
  },
  {
   "cell_type": "markdown",
   "id": "85e01be9-f0aa-41e7-bcb2-6aede59b25a1",
   "metadata": {},
   "source": [
    "### Get and transform test data (Long Beach Transit, 170)"
   ]
  },
  {
   "cell_type": "code",
   "execution_count": 2,
   "id": "f3e3d00e-8bf5-4972-8aea-abcf92253424",
   "metadata": {},
   "outputs": [],
   "source": [
    "lbt_itp_id = 170"
   ]
  },
  {
   "cell_type": "code",
   "execution_count": 3,
   "id": "738545a2-d78b-4df5-a2e9-952125c37505",
   "metadata": {
    "tags": []
   },
   "outputs": [],
   "source": [
    "# %%sql -o lbt_positions\n",
    "\n",
    "# # get all vehicle positions on selected dates, for the feed with itp id 170, and url number 0\n",
    "# SELECT *\n",
    "# FROM `cal-itp-data-infra.gtfs_rt.vehicle_positions`\n",
    "# WHERE _FILE_NAME=\"gs://gtfs-data/rt-processed/vehicle_positions/vp_2021-12-01_170_0.parquet\"\n",
    "#     OR _FILE_NAME=\"gs://gtfs-data/rt-processed/vehicle_positions/vp_2021-11-30_170_0.parquet\"\n",
    "#     # OR _FILE_NAME=\"gs://gtfs-data/rt-processed/vehicle_positions/vp_2021-12-03_170_0.parquet\"\n",
    "#     # OR _FILE_NAME=\"gs://gtfs-data/rt-processed/vehicle_positions/vp_2021-12-04_170_0.parquet\"\n",
    "#     # OR _FILE_NAME=\"gs://gtfs-data/rt-processed/vehicle_positions/vp_2021-12-05_170_0.parquet\"\n",
    "#     # OR _FILE_NAME=\"gs://gtfs-data/rt-processed/vehicle_positions/vp_2021-12-06_170_0.parquet\"\n",
    "#     # OR _FILE_NAME=\"gs://gtfs-data/rt-processed/vehicle_positions/vp_2021-12-07_170_0.parquet\"\n",
    "# ORDER BY header_timestamp"
   ]
  },
  {
   "cell_type": "markdown",
   "id": "9e86e42d-8978-4ef2-b674-dbfa26c6702c",
   "metadata": {},
   "source": [
    "#### Reformat timestamps"
   ]
  },
  {
   "cell_type": "code",
   "execution_count": 4,
   "id": "e9620700-857e-4036-bad2-c1c15e7b4039",
   "metadata": {},
   "outputs": [],
   "source": [
    "# ## set system time\n",
    "# os.environ['TZ'] = 'America/Los_Angeles'\n",
    "# time.tzset()\n",
    "# time.tzname"
   ]
  },
  {
   "cell_type": "code",
   "execution_count": 5,
   "id": "93961407-fb64-46bc-8044-47b3c7f19b59",
   "metadata": {},
   "outputs": [],
   "source": [
    "# lbt_positions.vehicle_timestamp = lbt_positions.vehicle_timestamp.apply(convert_ts)\n",
    "# lbt_positions.header_timestamp = lbt_positions.header_timestamp.apply(convert_ts)"
   ]
  },
  {
   "cell_type": "code",
   "execution_count": 6,
   "id": "b376c866-82ef-4573-93d4-82f933cee7b6",
   "metadata": {},
   "outputs": [],
   "source": [
    "# lbt_positions.to_parquet(f'{GCS_FILE_PATH}lbt_positions.parquet')"
   ]
  },
  {
   "cell_type": "code",
   "execution_count": 7,
   "id": "fb99a04b-16d5-4748-a8fb-88f9f1c4c1d4",
   "metadata": {},
   "outputs": [],
   "source": [
    "lbt_positions = pd.read_parquet(f'{GCS_FILE_PATH}lbt_positions.parquet')"
   ]
  },
  {
   "cell_type": "code",
   "execution_count": 8,
   "id": "bad9dc13-f31b-4c08-8fd8-926658762fce",
   "metadata": {},
   "outputs": [],
   "source": [
    "pch_routes = ('171', '172', '173', '174', '175')"
   ]
  },
  {
   "cell_type": "code",
   "execution_count": 9,
   "id": "22d0c883-dcdf-4831-916a-ea1b82da1b0c",
   "metadata": {},
   "outputs": [],
   "source": [
    "# min_date, max_date = ('2021-11-01', '2021-12-09')\n",
    "\n",
    "# lbt_trips = (tbl.views.gtfs_schedule_fact_daily_trips()\n",
    "#     # >> filter(_.calitp_extracted_at <= min_date, _.calitp_deleted_at > max_date)\n",
    "#     >> filter(_.calitp_itp_id == lbt_itp_id)\n",
    "#     >> filter(_.service_date == max_date)\n",
    "#     >> filter(_.is_in_service == True)\n",
    "#     >> select(_.trip_key, _.service_date)\n",
    "#     >> inner_join(_, tbl.views.gtfs_schedule_dim_trips(), on = 'trip_key')\n",
    "#     >> select(_.calitp_itp_id, _.calitp_url_number,\n",
    "#               _.date == _.service_date,\n",
    "#               _.trip_key, _.trip_id, _.route_id, _.direction_id,\n",
    "#               _.shape_id, _.calitp_extracted_at, _.calitp_deleted_at)\n",
    "#     # >> filter(_.route_id.isin(pch_routes))\n",
    "\n",
    "#     >> collect()\n",
    "#     )"
   ]
  },
  {
   "cell_type": "code",
   "execution_count": 10,
   "id": "5e3550e9-6be6-476e-aaa6-c12fe3f0505f",
   "metadata": {},
   "outputs": [],
   "source": [
    "# lbt_trips.to_parquet(f'{GCS_FILE_PATH}lbt_trips.parquet')"
   ]
  },
  {
   "cell_type": "code",
   "execution_count": 11,
   "id": "9e6b0bed-8669-467e-9cb0-0924165592ae",
   "metadata": {},
   "outputs": [],
   "source": [
    "lbt_trips = pd.read_parquet(f'{GCS_FILE_PATH}lbt_trips.parquet')"
   ]
  },
  {
   "cell_type": "code",
   "execution_count": 12,
   "id": "c61d00c8-6eeb-42ee-a870-0e9207c7fe50",
   "metadata": {},
   "outputs": [],
   "source": [
    "# stop_times = (tbl.gtfs_schedule.stop_times()\n",
    "#      >> filter(_.calitp_itp_id == 170)\n",
    "#      # >> filter(_.trip_id == '9288623')\n",
    "#      >> mutate(stop_sequence = _.stop_sequence.astype(int)) ## in SQL!\n",
    "#      >> arrange(_.stop_sequence)\n",
    "#      >> collect()\n",
    "#     )"
   ]
  },
  {
   "cell_type": "code",
   "execution_count": 13,
   "id": "06e3466b-dd02-4b31-8fe6-045b95c6a2a3",
   "metadata": {},
   "outputs": [],
   "source": [
    "# stop_times.to_parquet(f'{GCS_FILE_PATH}lbt_st.parquet')"
   ]
  },
  {
   "cell_type": "code",
   "execution_count": 14,
   "id": "f57e50be-02f9-45a2-b8b2-d684117077e2",
   "metadata": {},
   "outputs": [],
   "source": [
    "stop_times = pd.read_parquet(f'{GCS_FILE_PATH}lbt_st.parquet')"
   ]
  },
  {
   "cell_type": "code",
   "execution_count": 15,
   "id": "c75d36aa-437d-40e9-afbd-f06ecb2684f3",
   "metadata": {},
   "outputs": [],
   "source": [
    "# stops = (tbl.gtfs_schedule.stops()\n",
    "#      >> filter(_.calitp_itp_id == 170)\n",
    "#      # >> filter(_.trip_id == '9288623')\n",
    "#      # >> mutate(stop_sequence = _.stop_sequence.astype(int)) ## in SQL!\n",
    "#      # >> arrange(_.stop_sequence)\n",
    "#      >> select(_.calitp_itp_id, _.calitp_url_number, _.stop_id,\n",
    "#               _.stop_lat, _.stop_lon, _.stop_name)\n",
    "#      >> collect()\n",
    "#     )\n",
    "\n",
    "# stops = gpd.GeoDataFrame(stops, geometry=gpd.points_from_xy(stops.stop_lon, stops.stop_lat),\n",
    "#                         crs='EPSG:4326').to_crs(shared_utils.geography_utils.CA_NAD83Albers)"
   ]
  },
  {
   "cell_type": "code",
   "execution_count": 16,
   "id": "b9272195-7dc0-47dd-a5aa-11f4650a28ea",
   "metadata": {},
   "outputs": [],
   "source": [
    "# shared_utils.utils.geoparquet_gcs_export(stops, GCS_FILE_PATH, 'lbt_stops')"
   ]
  },
  {
   "cell_type": "code",
   "execution_count": 17,
   "id": "ec461965-2e8e-4924-a02d-ec2778841d01",
   "metadata": {},
   "outputs": [],
   "source": [
    "stops = gpd.read_parquet(f'{GCS_FILE_PATH}lbt_stops.parquet')"
   ]
  },
  {
   "cell_type": "code",
   "execution_count": 18,
   "id": "62fe3fbf-1d71-4010-a478-a76230b3ca8e",
   "metadata": {},
   "outputs": [],
   "source": [
    "trips_positions_joined = (lbt_trips\n",
    "                        # >> filter(_.route_id.isin(pch_routes))\n",
    "                        >> inner_join(_, (lbt_positions >> rename(trip_id = 'vehicle_trip_id')),\n",
    "                                      on= ['trip_id', 'calitp_itp_id', 'calitp_url_number'])\n",
    "                       )"
   ]
  },
  {
   "cell_type": "code",
   "execution_count": 19,
   "id": "8c4bf5d8-be49-4379-9bac-a04f4869260c",
   "metadata": {},
   "outputs": [
    {
     "data": {
      "text/plain": [
       "Timestamp('2021-12-01 11:15:59')"
      ]
     },
     "execution_count": 19,
     "metadata": {},
     "output_type": "execute_result"
    }
   ],
   "source": [
    "trips_positions_joined.vehicle_timestamp.max()"
   ]
  },
  {
   "cell_type": "code",
   "execution_count": 20,
   "id": "dabf0521-6f82-48c4-8664-95df875235c1",
   "metadata": {},
   "outputs": [
    {
     "data": {
      "text/plain": [
       "Timestamp('2021-11-29 15:57:13')"
      ]
     },
     "execution_count": 20,
     "metadata": {},
     "output_type": "execute_result"
    }
   ],
   "source": [
    "trips_positions_joined.vehicle_timestamp.min()"
   ]
  },
  {
   "cell_type": "code",
   "execution_count": 21,
   "id": "1194251c-6ec1-4614-b511-679bbea9eab3",
   "metadata": {},
   "outputs": [],
   "source": [
    "trips_positions_joined = gpd.GeoDataFrame(trips_positions_joined,\n",
    "                                geometry=gpd.points_from_xy(trips_positions_joined.vehicle_position_longitude,\n",
    "                                                            trips_positions_joined.vehicle_position_latitude),\n",
    "                                crs=shared_utils.geography_utils.WGS84).to_crs(shared_utils.geography_utils.CA_NAD83Albers)"
   ]
  },
  {
   "cell_type": "code",
   "execution_count": 22,
   "id": "25f7a355-4465-4bed-921b-c554c84ee842",
   "metadata": {},
   "outputs": [],
   "source": [
    "# lbt_routelines = shared_utils.geography_utils.make_routes_shapefile(['170'], ## LBT\n",
    "#                                 shared_utils.geography_utils.CA_NAD83Albers)"
   ]
  },
  {
   "cell_type": "code",
   "execution_count": 23,
   "id": "db170719-a873-4aab-b93b-e6d7ce48a7e1",
   "metadata": {},
   "outputs": [],
   "source": [
    "# shared_utils.utils.geoparquet_gcs_export(lbt_routelines, GCS_FILE_PATH, 'lbt_routelines')"
   ]
  },
  {
   "cell_type": "code",
   "execution_count": 24,
   "id": "6ce3128b-2c77-42ca-bbe6-75c7f38a70f1",
   "metadata": {},
   "outputs": [],
   "source": [
    "lbt_routelines = gpd.read_parquet(f'{GCS_FILE_PATH}lbt_routelines.parquet')"
   ]
  },
  {
   "cell_type": "code",
   "execution_count": 25,
   "id": "e042fcae-3be1-4bdc-9afa-6ddc870e0111",
   "metadata": {},
   "outputs": [],
   "source": [
    "trips_positions_joined = trips_positions_joined >> filter(_.vehicle_timestamp.apply(lambda x: x.day == 30))"
   ]
  },
  {
   "cell_type": "markdown",
   "id": "ddaed497-83b0-4faf-905d-498d920f0b14",
   "metadata": {},
   "source": [
    "## Vehicle Positions Trip class"
   ]
  },
  {
   "cell_type": "markdown",
   "id": "74900b4e-d7d7-426c-9c1e-1ff2919685fc",
   "metadata": {},
   "source": [
    "#### Examples"
   ]
  },
  {
   "cell_type": "code",
   "execution_count": 26,
   "id": "c17c2768-2501-4eea-9e5c-bdc9afcf7e73",
   "metadata": {},
   "outputs": [],
   "source": [
    "example_trip = (trips_positions_joined\n",
    " >> filter(_.trip_id == '9288623')\n",
    ")"
   ]
  },
  {
   "cell_type": "code",
   "execution_count": 27,
   "id": "b0ffcaec-d642-4c54-a204-5f4ce21c0856",
   "metadata": {
    "tags": []
   },
   "outputs": [
    {
     "name": "stdout",
     "output_type": "stream",
     "text": [
      "sc_called\n",
      "(59, 4)\n"
     ]
    }
   ],
   "source": [
    "example_vp_trip = rt.VehiclePositionsTrip(example_trip, lbt_routelines)"
   ]
  },
  {
   "cell_type": "code",
   "execution_count": 28,
   "id": "215d5b6f-c521-444c-9a41-b34e83fabcaa",
   "metadata": {},
   "outputs": [
    {
     "data": {
      "text/html": [
       "<div>\n",
       "<style scoped>\n",
       "    .dataframe tbody tr th:only-of-type {\n",
       "        vertical-align: middle;\n",
       "    }\n",
       "\n",
       "    .dataframe tbody tr th {\n",
       "        vertical-align: top;\n",
       "    }\n",
       "\n",
       "    .dataframe thead th {\n",
       "        text-align: right;\n",
       "    }\n",
       "</style>\n",
       "<table border=\"1\" class=\"dataframe\">\n",
       "  <thead>\n",
       "    <tr style=\"text-align: right;\">\n",
       "      <th></th>\n",
       "      <th>vehicle_timestamp</th>\n",
       "      <th>header_timestamp</th>\n",
       "      <th>geometry</th>\n",
       "      <th>shape_meters</th>\n",
       "      <th>last_time</th>\n",
       "      <th>last_loc</th>\n",
       "      <th>secs_from_last</th>\n",
       "      <th>meters_from_last</th>\n",
       "      <th>progressed</th>\n",
       "      <th>speed_from_last</th>\n",
       "    </tr>\n",
       "  </thead>\n",
       "  <tbody>\n",
       "    <tr>\n",
       "      <th>0</th>\n",
       "      <td>2021-11-30 17:02:12</td>\n",
       "      <td>2021-11-30 17:02:37</td>\n",
       "      <td>POINT (174550.467 -468602.675)</td>\n",
       "      <td>74.936069</td>\n",
       "      <td>NaT</td>\n",
       "      <td>NaN</td>\n",
       "      <td>NaN</td>\n",
       "      <td>NaN</td>\n",
       "      <td>False</td>\n",
       "      <td>NaN</td>\n",
       "    </tr>\n",
       "    <tr>\n",
       "      <th>1</th>\n",
       "      <td>2021-11-30 17:03:13</td>\n",
       "      <td>2021-11-30 17:03:37</td>\n",
       "      <td>POINT (174199.373 -468606.652)</td>\n",
       "      <td>426.501155</td>\n",
       "      <td>2021-11-30 17:02:12</td>\n",
       "      <td>74.936069</td>\n",
       "      <td>61.0</td>\n",
       "      <td>351.565087</td>\n",
       "      <td>True</td>\n",
       "      <td>5.763362</td>\n",
       "    </tr>\n",
       "    <tr>\n",
       "      <th>2</th>\n",
       "      <td>2021-11-30 17:04:13</td>\n",
       "      <td>2021-11-30 17:04:37</td>\n",
       "      <td>POINT (173950.148 -468607.933)</td>\n",
       "      <td>676.459161</td>\n",
       "      <td>2021-11-30 17:03:13</td>\n",
       "      <td>426.501155</td>\n",
       "      <td>60.0</td>\n",
       "      <td>249.958006</td>\n",
       "      <td>True</td>\n",
       "      <td>4.165967</td>\n",
       "    </tr>\n",
       "  </tbody>\n",
       "</table>\n",
       "</div>"
      ],
      "text/plain": [
       "    vehicle_timestamp    header_timestamp                        geometry  \\\n",
       "0 2021-11-30 17:02:12 2021-11-30 17:02:37  POINT (174550.467 -468602.675)   \n",
       "1 2021-11-30 17:03:13 2021-11-30 17:03:37  POINT (174199.373 -468606.652)   \n",
       "2 2021-11-30 17:04:13 2021-11-30 17:04:37  POINT (173950.148 -468607.933)   \n",
       "\n",
       "   shape_meters           last_time    last_loc  secs_from_last  \\\n",
       "0     74.936069                 NaT         NaN             NaN   \n",
       "1    426.501155 2021-11-30 17:02:12   74.936069            61.0   \n",
       "2    676.459161 2021-11-30 17:03:13  426.501155            60.0   \n",
       "\n",
       "   meters_from_last  progressed  speed_from_last  \n",
       "0               NaN       False              NaN  \n",
       "1        351.565087        True         5.763362  \n",
       "2        249.958006        True         4.165967  "
      ]
     },
     "execution_count": 28,
     "metadata": {},
     "output_type": "execute_result"
    }
   ],
   "source": [
    "example_vp_trip.vehicle_positions.head(3)"
   ]
  },
  {
   "cell_type": "code",
   "execution_count": 29,
   "id": "8c9a8cd0-d689-4f1d-9833-e19e2d06c69a",
   "metadata": {},
   "outputs": [
    {
     "data": {
      "text/plain": [
       "Timestamp('2021-11-30 17:03:42.644702')"
      ]
     },
     "execution_count": 29,
     "metadata": {},
     "output_type": "execute_result"
    }
   ],
   "source": [
    "example_vp_trip.time_at_position(550) ## interpolate time at 550 meters from start of route (shape_meters in df^)"
   ]
  },
  {
   "cell_type": "code",
   "execution_count": 30,
   "id": "6f46696a-a75c-4b9d-b2e5-94c5431c553a",
   "metadata": {},
   "outputs": [],
   "source": [
    "# example_vp_trip.detailed_speed_map()"
   ]
  },
  {
   "cell_type": "markdown",
   "id": "63ca6dbc-5c3a-4bc4-b9f0-ebbf19e9257d",
   "metadata": {},
   "source": [
    "## General RT Analysis class"
   ]
  },
  {
   "cell_type": "code",
   "execution_count": 31,
   "id": "e0db9df7-6d38-4461-94a2-56824db0b50e",
   "metadata": {},
   "outputs": [
    {
     "data": {
      "text/html": [
       "<div>\n",
       "<style scoped>\n",
       "    .dataframe tbody tr th:only-of-type {\n",
       "        vertical-align: middle;\n",
       "    }\n",
       "\n",
       "    .dataframe tbody tr th {\n",
       "        vertical-align: top;\n",
       "    }\n",
       "\n",
       "    .dataframe thead th {\n",
       "        text-align: right;\n",
       "    }\n",
       "</style>\n",
       "<table border=\"1\" class=\"dataframe\">\n",
       "  <thead>\n",
       "    <tr style=\"text-align: right;\">\n",
       "      <th></th>\n",
       "      <th>trip_id</th>\n",
       "      <th>max_time</th>\n",
       "    </tr>\n",
       "  </thead>\n",
       "  <tbody>\n",
       "    <tr>\n",
       "      <th>0</th>\n",
       "      <td>9288591</td>\n",
       "      <td>2021-11-30 07:14:16</td>\n",
       "    </tr>\n",
       "    <tr>\n",
       "      <th>1</th>\n",
       "      <td>9288593</td>\n",
       "      <td>2021-11-30 07:54:17</td>\n",
       "    </tr>\n",
       "    <tr>\n",
       "      <th>2</th>\n",
       "      <td>9288595</td>\n",
       "      <td>2021-11-30 08:38:01</td>\n",
       "    </tr>\n",
       "    <tr>\n",
       "      <th>3</th>\n",
       "      <td>9288597</td>\n",
       "      <td>2021-11-30 09:15:30</td>\n",
       "    </tr>\n",
       "    <tr>\n",
       "      <th>4</th>\n",
       "      <td>9288599</td>\n",
       "      <td>2021-11-30 09:54:22</td>\n",
       "    </tr>\n",
       "    <tr>\n",
       "      <th>5</th>\n",
       "      <td>9288601</td>\n",
       "      <td>2021-11-30 10:35:43</td>\n",
       "    </tr>\n",
       "  </tbody>\n",
       "</table>\n",
       "</div>"
      ],
      "text/plain": [
       "   trip_id            max_time\n",
       "0  9288591 2021-11-30 07:14:16\n",
       "1  9288593 2021-11-30 07:54:17\n",
       "2  9288595 2021-11-30 08:38:01\n",
       "3  9288597 2021-11-30 09:15:30\n",
       "4  9288599 2021-11-30 09:54:22\n",
       "5  9288601 2021-11-30 10:35:43"
      ]
     },
     "execution_count": 31,
     "metadata": {},
     "output_type": "execute_result"
    }
   ],
   "source": [
    "example_trips = (trips_positions_joined\n",
    " >> filter(_.route_id == '175', _.direction_id == '0') ## towards Villages at Cabrillo\n",
    " >> group_by(_.trip_id)\n",
    " >> summarize(max_time = _.vehicle_timestamp.max())\n",
    " >> arrange(_.max_time)\n",
    " >> head(6) ## afternoon/evening\n",
    ")\n",
    "example_trips"
   ]
  },
  {
   "cell_type": "code",
   "execution_count": 32,
   "id": "1f5885d0-fb37-41e0-9c68-b0ce5d0e0e32",
   "metadata": {
    "tags": []
   },
   "outputs": [],
   "source": [
    "%%capture\n",
    "## suppress warnings from location data inaccuracies\n",
    "## generate test analysis with a small subset of LBT trips on a particular route, time, direction\n",
    "test_analysis = rt.RtAnalysis(trips_positions_joined, stop_times, stops, lbt_routelines, example_trips.trip_id)"
   ]
  },
  {
   "cell_type": "code",
   "execution_count": 33,
   "id": "b6e0aae8-4222-4512-967b-e4d37c684bfc",
   "metadata": {
    "tags": []
   },
   "outputs": [],
   "source": [
    "%%capture\n",
    "## suppress warnings from start/end of routes\n",
    "all_delays = test_analysis.generate_delay_view()"
   ]
  },
  {
   "cell_type": "code",
   "execution_count": 34,
   "id": "7bd7ef38-3974-4698-bed0-efcbc1aea02b",
   "metadata": {},
   "outputs": [
    {
     "data": {
      "text/html": [
       "<div>\n",
       "<style scoped>\n",
       "    .dataframe tbody tr th:only-of-type {\n",
       "        vertical-align: middle;\n",
       "    }\n",
       "\n",
       "    .dataframe tbody tr th {\n",
       "        vertical-align: top;\n",
       "    }\n",
       "\n",
       "    .dataframe thead th {\n",
       "        text-align: right;\n",
       "    }\n",
       "</style>\n",
       "<table border=\"1\" class=\"dataframe\">\n",
       "  <thead>\n",
       "    <tr style=\"text-align: right;\">\n",
       "      <th></th>\n",
       "      <th>arrival_time</th>\n",
       "      <th>actual_time</th>\n",
       "      <th>delay</th>\n",
       "      <th>stop_id</th>\n",
       "      <th>trip_id</th>\n",
       "      <th>shape_id</th>\n",
       "      <th>direction_id</th>\n",
       "      <th>direction</th>\n",
       "      <th>stop_sequence</th>\n",
       "      <th>route_id</th>\n",
       "      <th>shape_meters</th>\n",
       "      <th>date</th>\n",
       "      <th>geometry</th>\n",
       "    </tr>\n",
       "  </thead>\n",
       "  <tbody>\n",
       "    <tr>\n",
       "      <th>145</th>\n",
       "      <td>2021-11-30 07:02:41</td>\n",
       "      <td>2021-11-30 07:03:22.362317</td>\n",
       "      <td>0 days 00:00:41.362317</td>\n",
       "      <td>1027</td>\n",
       "      <td>9288593</td>\n",
       "      <td>1750012</td>\n",
       "      <td>0</td>\n",
       "      <td>Westbound</td>\n",
       "      <td>2</td>\n",
       "      <td>175</td>\n",
       "      <td>501.040761</td>\n",
       "      <td>2021-12-01</td>\n",
       "      <td>POINT (174124.462 -468604.478)</td>\n",
       "    </tr>\n",
       "    <tr>\n",
       "      <th>144</th>\n",
       "      <td>2021-11-30 08:21:41</td>\n",
       "      <td>2021-11-30 08:25:52.371129</td>\n",
       "      <td>0 days 00:04:11.371129</td>\n",
       "      <td>1027</td>\n",
       "      <td>9288597</td>\n",
       "      <td>1750012</td>\n",
       "      <td>0</td>\n",
       "      <td>Westbound</td>\n",
       "      <td>2</td>\n",
       "      <td>175</td>\n",
       "      <td>501.040761</td>\n",
       "      <td>2021-12-01</td>\n",
       "      <td>POINT (174124.462 -468604.478)</td>\n",
       "    </tr>\n",
       "    <tr>\n",
       "      <th>148</th>\n",
       "      <td>2021-11-30 09:44:55</td>\n",
       "      <td>2021-11-30 09:44:21.605429</td>\n",
       "      <td>-1 days +23:59:26.605429</td>\n",
       "      <td>1027</td>\n",
       "      <td>9288601</td>\n",
       "      <td>1750012</td>\n",
       "      <td>0</td>\n",
       "      <td>Westbound</td>\n",
       "      <td>2</td>\n",
       "      <td>175</td>\n",
       "      <td>501.040761</td>\n",
       "      <td>2021-12-01</td>\n",
       "      <td>POINT (174124.462 -468604.478)</td>\n",
       "    </tr>\n",
       "  </tbody>\n",
       "</table>\n",
       "</div>"
      ],
      "text/plain": [
       "           arrival_time                actual_time                    delay  \\\n",
       "145 2021-11-30 07:02:41 2021-11-30 07:03:22.362317   0 days 00:00:41.362317   \n",
       "144 2021-11-30 08:21:41 2021-11-30 08:25:52.371129   0 days 00:04:11.371129   \n",
       "148 2021-11-30 09:44:55 2021-11-30 09:44:21.605429 -1 days +23:59:26.605429   \n",
       "\n",
       "    stop_id  trip_id shape_id direction_id  direction  stop_sequence route_id  \\\n",
       "145    1027  9288593  1750012            0  Westbound              2      175   \n",
       "144    1027  9288597  1750012            0  Westbound              2      175   \n",
       "148    1027  9288601  1750012            0  Westbound              2      175   \n",
       "\n",
       "     shape_meters        date                        geometry  \n",
       "145    501.040761  2021-12-01  POINT (174124.462 -468604.478)  \n",
       "144    501.040761  2021-12-01  POINT (174124.462 -468604.478)  \n",
       "148    501.040761  2021-12-01  POINT (174124.462 -468604.478)  "
      ]
     },
     "execution_count": 34,
     "metadata": {},
     "output_type": "execute_result"
    }
   ],
   "source": [
    "all_delays.head(3)"
   ]
  },
  {
   "cell_type": "code",
   "execution_count": 35,
   "id": "12b5c355-bf96-4bd3-8930-0459f5e47b70",
   "metadata": {
    "tags": []
   },
   "outputs": [],
   "source": [
    "all_summary = test_analysis.generate_delay_summary()"
   ]
  },
  {
   "cell_type": "code",
   "execution_count": 36,
   "id": "6c7e394c-b4f0-454a-ac23-e90b6d502b3e",
   "metadata": {},
   "outputs": [
    {
     "data": {
      "text/html": [
       "<div>\n",
       "<style scoped>\n",
       "    .dataframe tbody tr th:only-of-type {\n",
       "        vertical-align: middle;\n",
       "    }\n",
       "\n",
       "    .dataframe tbody tr th {\n",
       "        vertical-align: top;\n",
       "    }\n",
       "\n",
       "    .dataframe thead th {\n",
       "        text-align: right;\n",
       "    }\n",
       "</style>\n",
       "<table border=\"1\" class=\"dataframe\">\n",
       "  <thead>\n",
       "    <tr style=\"text-align: right;\">\n",
       "      <th></th>\n",
       "      <th>stop_id</th>\n",
       "      <th>geometry</th>\n",
       "      <th>stop_sequence</th>\n",
       "      <th>avg_delay</th>\n",
       "      <th>max_delay</th>\n",
       "    </tr>\n",
       "  </thead>\n",
       "  <tbody>\n",
       "    <tr>\n",
       "      <th>0</th>\n",
       "      <td>1027</td>\n",
       "      <td>POINT (174124.462 -468604.478)</td>\n",
       "      <td>2</td>\n",
       "      <td>0 days 00:01:26.446291666</td>\n",
       "      <td>0 days 00:04:11.371129</td>\n",
       "    </tr>\n",
       "    <tr>\n",
       "      <th>1</th>\n",
       "      <td>0540</td>\n",
       "      <td>POINT (173921.407 -468897.107)</td>\n",
       "      <td>3</td>\n",
       "      <td>0 days 00:01:07.972914400</td>\n",
       "      <td>0 days 00:04:28.865438</td>\n",
       "    </tr>\n",
       "    <tr>\n",
       "      <th>2</th>\n",
       "      <td>0542</td>\n",
       "      <td>POINT (173328.363 -468647.513)</td>\n",
       "      <td>4</td>\n",
       "      <td>0 days 00:00:39.873642666</td>\n",
       "      <td>0 days 00:03:58.590881</td>\n",
       "    </tr>\n",
       "  </tbody>\n",
       "</table>\n",
       "</div>"
      ],
      "text/plain": [
       "  stop_id                        geometry  stop_sequence  \\\n",
       "0    1027  POINT (174124.462 -468604.478)              2   \n",
       "1    0540  POINT (173921.407 -468897.107)              3   \n",
       "2    0542  POINT (173328.363 -468647.513)              4   \n",
       "\n",
       "                  avg_delay              max_delay  \n",
       "0 0 days 00:01:26.446291666 0 days 00:04:11.371129  \n",
       "1 0 days 00:01:07.972914400 0 days 00:04:28.865438  \n",
       "2 0 days 00:00:39.873642666 0 days 00:03:58.590881  "
      ]
     },
     "execution_count": 36,
     "metadata": {},
     "output_type": "execute_result"
    }
   ],
   "source": [
    "all_summary.head(3)"
   ]
  },
  {
   "cell_type": "code",
   "execution_count": 37,
   "id": "182e64ef-82de-41f5-8a4f-8bfb6c1637f0",
   "metadata": {},
   "outputs": [],
   "source": [
    "# test_analysis.map_stop_delays(how = 'average') ## to refine, add hover, legend, etc..."
   ]
  },
  {
   "cell_type": "code",
   "execution_count": 38,
   "id": "909ed8b2-32ff-42b6-a49a-ea45ebd92318",
   "metadata": {
    "tags": []
   },
   "outputs": [],
   "source": [
    "# test_analysis.map_segment_speeds(how = 'low_speeds')"
   ]
  },
  {
   "cell_type": "code",
   "execution_count": 39,
   "id": "3dc59c6a-d83d-4347-ad0d-2d36a6e5a5f9",
   "metadata": {},
   "outputs": [],
   "source": [
    "# test_analysis.map_stop_delays()"
   ]
  },
  {
   "cell_type": "markdown",
   "id": "8019a504-d4f0-4047-b7f5-e4034939b0cf",
   "metadata": {},
   "source": [
    "## Sandbox"
   ]
  },
  {
   "cell_type": "code",
   "execution_count": 40,
   "id": "b07d2d83-8469-4a14-8688-6dc28774dd72",
   "metadata": {},
   "outputs": [
    {
     "data": {
      "text/html": [
       "<div>\n",
       "<style scoped>\n",
       "    .dataframe tbody tr th:only-of-type {\n",
       "        vertical-align: middle;\n",
       "    }\n",
       "\n",
       "    .dataframe tbody tr th {\n",
       "        vertical-align: top;\n",
       "    }\n",
       "\n",
       "    .dataframe thead th {\n",
       "        text-align: right;\n",
       "    }\n",
       "</style>\n",
       "<table border=\"1\" class=\"dataframe\">\n",
       "  <thead>\n",
       "    <tr style=\"text-align: right;\">\n",
       "      <th></th>\n",
       "      <th>trip_id</th>\n",
       "      <th>n</th>\n",
       "    </tr>\n",
       "  </thead>\n",
       "  <tbody>\n",
       "    <tr>\n",
       "      <th>0</th>\n",
       "      <td>9288152</td>\n",
       "      <td>201</td>\n",
       "    </tr>\n",
       "    <tr>\n",
       "      <th>1</th>\n",
       "      <td>9288153</td>\n",
       "      <td>326</td>\n",
       "    </tr>\n",
       "    <tr>\n",
       "      <th>2</th>\n",
       "      <td>9288154</td>\n",
       "      <td>283</td>\n",
       "    </tr>\n",
       "    <tr>\n",
       "      <th>3</th>\n",
       "      <td>9288155</td>\n",
       "      <td>276</td>\n",
       "    </tr>\n",
       "    <tr>\n",
       "      <th>4</th>\n",
       "      <td>9288156</td>\n",
       "      <td>276</td>\n",
       "    </tr>\n",
       "    <tr>\n",
       "      <th>...</th>\n",
       "      <td>...</td>\n",
       "      <td>...</td>\n",
       "    </tr>\n",
       "    <tr>\n",
       "      <th>834</th>\n",
       "      <td>9296933</td>\n",
       "      <td>63</td>\n",
       "    </tr>\n",
       "    <tr>\n",
       "      <th>835</th>\n",
       "      <td>9296934</td>\n",
       "      <td>106</td>\n",
       "    </tr>\n",
       "    <tr>\n",
       "      <th>836</th>\n",
       "      <td>9296935</td>\n",
       "      <td>69</td>\n",
       "    </tr>\n",
       "    <tr>\n",
       "      <th>837</th>\n",
       "      <td>9297176</td>\n",
       "      <td>68</td>\n",
       "    </tr>\n",
       "    <tr>\n",
       "      <th>838</th>\n",
       "      <td>9297181</td>\n",
       "      <td>255</td>\n",
       "    </tr>\n",
       "  </tbody>\n",
       "</table>\n",
       "<p>839 rows × 2 columns</p>\n",
       "</div>"
      ],
      "text/plain": [
       "     trip_id    n\n",
       "0    9288152  201\n",
       "1    9288153  326\n",
       "2    9288154  283\n",
       "3    9288155  276\n",
       "4    9288156  276\n",
       "..       ...  ...\n",
       "834  9296933   63\n",
       "835  9296934  106\n",
       "836  9296935   69\n",
       "837  9297176   68\n",
       "838  9297181  255\n",
       "\n",
       "[839 rows x 2 columns]"
      ]
     },
     "execution_count": 40,
     "metadata": {},
     "output_type": "execute_result"
    }
   ],
   "source": [
    "trips_positions_joined >> filter(_.direction_id == '0') >> count(_.trip_id)"
   ]
  },
  {
   "cell_type": "code",
   "execution_count": 41,
   "id": "0c60842b-6dc9-4666-a32b-2bb4707bf737",
   "metadata": {},
   "outputs": [
    {
     "data": {
      "text/plain": [
       "30"
      ]
     },
     "execution_count": 41,
     "metadata": {},
     "output_type": "execute_result"
    }
   ],
   "source": [
    "trips_positions_joined.vehicle_timestamp.iloc[0].day"
   ]
  },
  {
   "cell_type": "code",
   "execution_count": 42,
   "id": "a5917100-8c30-4fcb-9399-b43fc6535012",
   "metadata": {
    "tags": []
   },
   "outputs": [
    {
     "data": {
      "text/html": [
       "<div>\n",
       "<style scoped>\n",
       "    .dataframe tbody tr th:only-of-type {\n",
       "        vertical-align: middle;\n",
       "    }\n",
       "\n",
       "    .dataframe tbody tr th {\n",
       "        vertical-align: top;\n",
       "    }\n",
       "\n",
       "    .dataframe thead th {\n",
       "        text-align: right;\n",
       "    }\n",
       "</style>\n",
       "<table border=\"1\" class=\"dataframe\">\n",
       "  <thead>\n",
       "    <tr style=\"text-align: right;\">\n",
       "      <th></th>\n",
       "      <th>trip_id</th>\n",
       "      <th>max_time</th>\n",
       "    </tr>\n",
       "  </thead>\n",
       "  <tbody>\n",
       "    <tr>\n",
       "      <th>0</th>\n",
       "      <td>9288170</td>\n",
       "      <td>2021-11-30 17:00:34</td>\n",
       "    </tr>\n",
       "    <tr>\n",
       "      <th>130</th>\n",
       "      <td>9289459</td>\n",
       "      <td>2021-11-30 17:01:25</td>\n",
       "    </tr>\n",
       "    <tr>\n",
       "      <th>121</th>\n",
       "      <td>9289404</td>\n",
       "      <td>2021-11-30 17:01:52</td>\n",
       "    </tr>\n",
       "    <tr>\n",
       "      <th>58</th>\n",
       "      <td>9288776</td>\n",
       "      <td>2021-11-30 17:02:20</td>\n",
       "    </tr>\n",
       "    <tr>\n",
       "      <th>190</th>\n",
       "      <td>9296915</td>\n",
       "      <td>2021-11-30 17:03:04</td>\n",
       "    </tr>\n",
       "    <tr>\n",
       "      <th>...</th>\n",
       "      <td>...</td>\n",
       "      <td>...</td>\n",
       "    </tr>\n",
       "    <tr>\n",
       "      <th>77</th>\n",
       "      <td>9288961</td>\n",
       "      <td>2021-11-30 19:59:52</td>\n",
       "    </tr>\n",
       "    <tr>\n",
       "      <th>166</th>\n",
       "      <td>9296637</td>\n",
       "      <td>2021-11-30 19:59:52</td>\n",
       "    </tr>\n",
       "    <tr>\n",
       "      <th>145</th>\n",
       "      <td>9289764</td>\n",
       "      <td>2021-11-30 19:59:54</td>\n",
       "    </tr>\n",
       "    <tr>\n",
       "      <th>7</th>\n",
       "      <td>9288179</td>\n",
       "      <td>2021-11-30 19:59:55</td>\n",
       "    </tr>\n",
       "    <tr>\n",
       "      <th>102</th>\n",
       "      <td>9289242</td>\n",
       "      <td>2021-11-30 19:59:56</td>\n",
       "    </tr>\n",
       "  </tbody>\n",
       "</table>\n",
       "<p>195 rows × 2 columns</p>\n",
       "</div>"
      ],
      "text/plain": [
       "     trip_id            max_time\n",
       "0    9288170 2021-11-30 17:00:34\n",
       "130  9289459 2021-11-30 17:01:25\n",
       "121  9289404 2021-11-30 17:01:52\n",
       "58   9288776 2021-11-30 17:02:20\n",
       "190  9296915 2021-11-30 17:03:04\n",
       "..       ...                 ...\n",
       "77   9288961 2021-11-30 19:59:52\n",
       "166  9296637 2021-11-30 19:59:52\n",
       "145  9289764 2021-11-30 19:59:54\n",
       "7    9288179 2021-11-30 19:59:55\n",
       "102  9289242 2021-11-30 19:59:56\n",
       "\n",
       "[195 rows x 2 columns]"
      ]
     },
     "execution_count": 42,
     "metadata": {},
     "output_type": "execute_result"
    }
   ],
   "source": [
    "pm_peak = (trips_positions_joined\n",
    " >> filter(_.direction_id == '0') ## towards \n",
    " >> filter((_.vehicle_timestamp.apply(lambda x: x.hour < 20))\n",
    "           & (_.vehicle_timestamp.apply(lambda x: x.hour > 16))) ## 4-8pm\n",
    " >> mutate(timestamp_day = _.vehicle_timestamp.apply(lambda x: x.day))\n",
    " # >> mutate(timestamp_hour = _.vehicle_timestamp.apply(lambda x: x.hour))\n",
    " # >> filter((_.timestamp_hour < 20)\n",
    " #           & (_.timestamp_hour > 16)) ## 4-8pm >> group_by(_.trip_id)\n",
    " >> filter(_.timestamp_day == 30)\n",
    " >> group_by(_.trip_id)\n",
    " >> summarize(max_time = _.vehicle_timestamp.max())\n",
    " >> arrange(_.max_time)\n",
    " # >> head(40) ## afternoon/evening\n",
    ")\n",
    "pm_peak"
   ]
  },
  {
   "cell_type": "code",
   "execution_count": 43,
   "id": "6f99847c-f325-46ad-93a0-8744c7bba87e",
   "metadata": {
    "collapsed": true,
    "jupyter": {
     "outputs_hidden": true
    },
    "tags": []
   },
   "outputs": [
    {
     "name": "stdout",
     "output_type": "stream",
     "text": [
      "sc_called\n",
      "(98, 4)\n",
      "sc_called\n",
      "(80, 4)\n",
      "sc_called\n",
      "(69, 4)\n",
      "sc_called\n",
      "(41, 4)\n",
      "check location data for trip 9288776\n",
      "sc_called\n",
      "(34, 10)\n",
      "check location data for trip 9288776\n",
      "sc_called\n",
      "(31, 10)\n",
      "sc_called\n",
      "(21, 4)\n",
      "sc_called\n",
      "(100, 4)\n"
     ]
    },
    {
     "name": "stderr",
     "output_type": "stream",
     "text": [
      "/opt/conda/lib/python3.9/site-packages/geopandas/geodataframe.py:1351: SettingWithCopyWarning: \n",
      "A value is trying to be set on a copy of a slice from a DataFrame.\n",
      "Try using .loc[row_indexer,col_indexer] = value instead\n",
      "\n",
      "See the caveats in the documentation: https://pandas.pydata.org/pandas-docs/stable/user_guide/indexing.html#returning-a-view-versus-a-copy\n",
      "  super().__setitem__(key, value)\n"
     ]
    },
    {
     "name": "stdout",
     "output_type": "stream",
     "text": [
      "sc_called\n",
      "(86, 4)\n",
      "sc_called\n",
      "(77, 4)\n",
      "sc_called\n",
      "(22, 4)\n",
      "sc_called\n",
      "(28, 4)\n",
      "sc_called\n",
      "(76, 4)\n",
      "sc_called\n",
      "(35, 4)\n",
      "sc_called\n",
      "(109, 4)\n",
      "sc_called\n",
      "(39, 4)\n",
      "sc_called\n",
      "(67, 4)\n",
      "sc_called\n",
      "(94, 4)\n",
      "sc_called\n",
      "(65, 4)\n",
      "sc_called\n",
      "(46, 4)\n",
      "sc_called\n",
      "(60, 4)\n",
      "check location data for trip 9288621\n",
      "sc_called\n",
      "(41, 10)\n",
      "check location data for trip 9288621\n",
      "sc_called\n",
      "(35, 10)\n"
     ]
    },
    {
     "name": "stderr",
     "output_type": "stream",
     "text": [
      "/opt/conda/lib/python3.9/site-packages/geopandas/geodataframe.py:1351: SettingWithCopyWarning: \n",
      "A value is trying to be set on a copy of a slice from a DataFrame.\n",
      "Try using .loc[row_indexer,col_indexer] = value instead\n",
      "\n",
      "See the caveats in the documentation: https://pandas.pydata.org/pandas-docs/stable/user_guide/indexing.html#returning-a-view-versus-a-copy\n",
      "  super().__setitem__(key, value)\n"
     ]
    },
    {
     "name": "stdout",
     "output_type": "stream",
     "text": [
      "check location data for trip 9288621\n",
      "sc_called\n",
      "(32, 10)\n",
      "check location data for trip 9288621\n",
      "sc_called\n",
      "(30, 10)\n",
      "sc_called\n",
      "(103, 4)\n",
      "sc_called\n",
      "(71, 4)\n",
      "sc_called\n",
      "(58, 4)\n",
      "sc_called\n",
      "(89, 4)\n",
      "sc_called\n",
      "(75, 4)\n",
      "check location data for trip 9296673\n",
      "sc_called\n",
      "(50, 10)\n",
      "check location data for trip 9296673\n",
      "sc_called\n",
      "(45, 10)\n",
      "check location data for trip 9296673\n",
      "sc_called\n",
      "(42, 10)\n",
      "sc_called\n",
      "(22, 4)\n"
     ]
    },
    {
     "name": "stderr",
     "output_type": "stream",
     "text": [
      "/opt/conda/lib/python3.9/site-packages/geopandas/geodataframe.py:1351: SettingWithCopyWarning: \n",
      "A value is trying to be set on a copy of a slice from a DataFrame.\n",
      "Try using .loc[row_indexer,col_indexer] = value instead\n",
      "\n",
      "See the caveats in the documentation: https://pandas.pydata.org/pandas-docs/stable/user_guide/indexing.html#returning-a-view-versus-a-copy\n",
      "  super().__setitem__(key, value)\n",
      "/opt/conda/lib/python3.9/site-packages/geopandas/geodataframe.py:1351: SettingWithCopyWarning: \n",
      "A value is trying to be set on a copy of a slice from a DataFrame.\n",
      "Try using .loc[row_indexer,col_indexer] = value instead\n",
      "\n",
      "See the caveats in the documentation: https://pandas.pydata.org/pandas-docs/stable/user_guide/indexing.html#returning-a-view-versus-a-copy\n",
      "  super().__setitem__(key, value)\n"
     ]
    },
    {
     "name": "stdout",
     "output_type": "stream",
     "text": [
      "sc_called\n",
      "(123, 4)\n",
      "check location data for trip 9288525\n",
      "sc_called\n",
      "(89, 10)\n",
      "check location data for trip 9288525\n",
      "sc_called\n",
      "(83, 10)\n",
      "check location data for trip 9288525\n",
      "sc_called\n",
      "(81, 10)\n",
      "check location data for trip 9288525\n",
      "sc_called\n",
      "(79, 10)\n",
      "sc_called\n",
      "(90, 4)\n",
      "sc_called\n",
      "(65, 4)\n",
      "sc_called\n",
      "(85, 4)\n",
      "sc_called\n",
      "(70, 4)\n",
      "sc_called\n",
      "(80, 4)\n",
      "check location data for trip 9289461\n",
      "sc_called\n",
      "(75, 10)\n",
      "check location data for trip 9289461\n",
      "sc_called\n",
      "(73, 10)\n",
      "check location data for trip 9289461\n",
      "sc_called\n",
      "(71, 10)\n",
      "check location data for trip 9289461\n",
      "sc_called\n",
      "(69, 10)\n"
     ]
    },
    {
     "name": "stderr",
     "output_type": "stream",
     "text": [
      "/opt/conda/lib/python3.9/site-packages/geopandas/geodataframe.py:1351: SettingWithCopyWarning: \n",
      "A value is trying to be set on a copy of a slice from a DataFrame.\n",
      "Try using .loc[row_indexer,col_indexer] = value instead\n",
      "\n",
      "See the caveats in the documentation: https://pandas.pydata.org/pandas-docs/stable/user_guide/indexing.html#returning-a-view-versus-a-copy\n",
      "  super().__setitem__(key, value)\n"
     ]
    },
    {
     "name": "stdout",
     "output_type": "stream",
     "text": [
      "sc_called\n",
      "(99, 4)\n",
      "sc_called\n",
      "(91, 4)\n",
      "sc_called\n",
      "(40, 4)\n",
      "sc_called\n",
      "(70, 4)\n",
      "sc_called\n",
      "(78, 4)\n",
      "sc_called\n",
      "(90, 4)\n",
      "sc_called\n",
      "(70, 4)\n",
      "sc_called\n",
      "(13, 4)\n",
      "sc_called\n",
      "(39, 4)\n",
      "check location data for trip 9288777\n",
      "sc_called\n",
      "(34, 10)\n",
      "check location data for trip 9288777\n",
      "sc_called\n",
      "(32, 10)\n",
      "check location data for trip 9288777\n",
      "sc_called\n",
      "(30, 10)\n",
      "check location data for trip 9288777"
     ]
    },
    {
     "name": "stderr",
     "output_type": "stream",
     "text": [
      "/opt/conda/lib/python3.9/site-packages/geopandas/geodataframe.py:1351: SettingWithCopyWarning: \n",
      "A value is trying to be set on a copy of a slice from a DataFrame.\n",
      "Try using .loc[row_indexer,col_indexer] = value instead\n",
      "\n",
      "See the caveats in the documentation: https://pandas.pydata.org/pandas-docs/stable/user_guide/indexing.html#returning-a-view-versus-a-copy\n",
      "  super().__setitem__(key, value)\n"
     ]
    },
    {
     "name": "stdout",
     "output_type": "stream",
     "text": [
      "\n",
      "sc_called\n",
      "(28, 10)\n",
      "sc_called\n",
      "(36, 4)\n",
      "sc_called\n",
      "(101, 4)\n",
      "check location data for trip 9288218\n",
      "sc_called\n",
      "(90, 10)\n"
     ]
    },
    {
     "name": "stderr",
     "output_type": "stream",
     "text": [
      "/opt/conda/lib/python3.9/site-packages/geopandas/geodataframe.py:1351: SettingWithCopyWarning: \n",
      "A value is trying to be set on a copy of a slice from a DataFrame.\n",
      "Try using .loc[row_indexer,col_indexer] = value instead\n",
      "\n",
      "See the caveats in the documentation: https://pandas.pydata.org/pandas-docs/stable/user_guide/indexing.html#returning-a-view-versus-a-copy\n",
      "  super().__setitem__(key, value)\n",
      "/opt/conda/lib/python3.9/site-packages/geopandas/geodataframe.py:1351: SettingWithCopyWarning: \n",
      "A value is trying to be set on a copy of a slice from a DataFrame.\n",
      "Try using .loc[row_indexer,col_indexer] = value instead\n",
      "\n",
      "See the caveats in the documentation: https://pandas.pydata.org/pandas-docs/stable/user_guide/indexing.html#returning-a-view-versus-a-copy\n",
      "  super().__setitem__(key, value)\n"
     ]
    },
    {
     "name": "stdout",
     "output_type": "stream",
     "text": [
      "check location data for trip 9288218\n",
      "sc_called\n",
      "(88, 10)\n",
      "check location data for trip 9288218\n",
      "sc_called\n",
      "(86, 10)\n",
      "check location data for trip 9288218\n",
      "sc_called\n",
      "(84, 10)\n",
      "sc_called\n",
      "(95, 4)\n",
      "check location data for trip 9288659\n",
      "sc_called\n",
      "(85, 10)\n",
      "check location data for trip 9288659\n",
      "sc_called\n",
      "(81, 10)\n",
      "sc_called\n",
      "(68, 4)\n",
      "sc_called\n",
      "(63, 4)\n",
      "sc_called\n",
      "(74, 4)\n",
      "sc_called\n",
      "(101, 4)\n",
      "sc_called\n",
      "(28, 4)\n",
      "sc_called\n",
      "(82, 4)\n",
      "sc_called\n",
      "(44, 4)\n",
      "sc_called\n",
      "(59, 4)\n",
      "sc_called\n",
      "(74, 4)\n",
      "sc_called\n",
      "(37, 4)\n",
      "sc_called\n",
      "(69, 4)\n",
      "sc_called\n",
      "(135, 4)\n",
      "sc_called\n",
      "(61, 4)\n",
      "sc_called\n",
      "(51, 4)\n",
      "sc_called\n",
      "(98, 4)\n",
      "check location data for trip 9288172\n",
      "sc_called\n",
      "(84, 10)\n",
      "sc_called\n",
      "(64, 4)\n",
      "sc_called\n",
      "(21, 4)\n",
      "sc_called\n",
      "(72, 4)\n",
      "check location data for trip 9296675\n",
      "sc_called\n",
      "(48, 10)\n"
     ]
    },
    {
     "name": "stderr",
     "output_type": "stream",
     "text": [
      "/opt/conda/lib/python3.9/site-packages/geopandas/geodataframe.py:1351: SettingWithCopyWarning: \n",
      "A value is trying to be set on a copy of a slice from a DataFrame.\n",
      "Try using .loc[row_indexer,col_indexer] = value instead\n",
      "\n",
      "See the caveats in the documentation: https://pandas.pydata.org/pandas-docs/stable/user_guide/indexing.html#returning-a-view-versus-a-copy\n",
      "  super().__setitem__(key, value)\n",
      "/opt/conda/lib/python3.9/site-packages/geopandas/geodataframe.py:1351: SettingWithCopyWarning: \n",
      "A value is trying to be set on a copy of a slice from a DataFrame.\n",
      "Try using .loc[row_indexer,col_indexer] = value instead\n",
      "\n",
      "See the caveats in the documentation: https://pandas.pydata.org/pandas-docs/stable/user_guide/indexing.html#returning-a-view-versus-a-copy\n",
      "  super().__setitem__(key, value)\n"
     ]
    },
    {
     "name": "stdout",
     "output_type": "stream",
     "text": [
      "sc_called\n",
      "(33, 4)\n",
      "check location data for trip 9288928\n",
      "sc_called\n",
      "(26, 10)\n",
      "check location data for trip 9288928\n",
      "sc_called\n",
      "(24, 10)\n",
      "sc_called\n",
      "(105, 4)\n",
      "sc_called\n",
      "(98, 4)\n"
     ]
    },
    {
     "name": "stderr",
     "output_type": "stream",
     "text": [
      "/opt/conda/lib/python3.9/site-packages/geopandas/geodataframe.py:1351: SettingWithCopyWarning: \n",
      "A value is trying to be set on a copy of a slice from a DataFrame.\n",
      "Try using .loc[row_indexer,col_indexer] = value instead\n",
      "\n",
      "See the caveats in the documentation: https://pandas.pydata.org/pandas-docs/stable/user_guide/indexing.html#returning-a-view-versus-a-copy\n",
      "  super().__setitem__(key, value)\n"
     ]
    },
    {
     "name": "stdout",
     "output_type": "stream",
     "text": [
      "sc_called\n",
      "(72, 4)\n",
      "sc_called\n",
      "(159, 4)\n",
      "check location data for trip 9289467\n",
      "sc_called\n",
      "(113, 10)\n",
      "check location data for trip 9289467\n",
      "sc_called\n",
      "(109, 10)\n",
      "check location data for trip 9289467\n",
      "sc_called\n",
      "(105, 10)\n"
     ]
    },
    {
     "name": "stderr",
     "output_type": "stream",
     "text": [
      "/opt/conda/lib/python3.9/site-packages/geopandas/geodataframe.py:1351: SettingWithCopyWarning: \n",
      "A value is trying to be set on a copy of a slice from a DataFrame.\n",
      "Try using .loc[row_indexer,col_indexer] = value instead\n",
      "\n",
      "See the caveats in the documentation: https://pandas.pydata.org/pandas-docs/stable/user_guide/indexing.html#returning-a-view-versus-a-copy\n",
      "  super().__setitem__(key, value)\n"
     ]
    },
    {
     "name": "stdout",
     "output_type": "stream",
     "text": [
      "sc_called\n",
      "(59, 4)\n",
      "sc_called\n",
      "(63, 4)\n",
      "sc_called\n",
      "(44, 4)\n",
      "sc_called\n",
      "(69, 4)\n",
      "check location data for trip 9289073\n",
      "sc_called\n",
      "(53, 10)\n",
      "check location data for trip 9289073\n",
      "sc_called\n",
      "(51, 10)\n"
     ]
    },
    {
     "name": "stderr",
     "output_type": "stream",
     "text": [
      "/opt/conda/lib/python3.9/site-packages/geopandas/geodataframe.py:1351: SettingWithCopyWarning: \n",
      "A value is trying to be set on a copy of a slice from a DataFrame.\n",
      "Try using .loc[row_indexer,col_indexer] = value instead\n",
      "\n",
      "See the caveats in the documentation: https://pandas.pydata.org/pandas-docs/stable/user_guide/indexing.html#returning-a-view-versus-a-copy\n",
      "  super().__setitem__(key, value)\n",
      "/opt/conda/lib/python3.9/site-packages/geopandas/geodataframe.py:1351: SettingWithCopyWarning: \n",
      "A value is trying to be set on a copy of a slice from a DataFrame.\n",
      "Try using .loc[row_indexer,col_indexer] = value instead\n",
      "\n",
      "See the caveats in the documentation: https://pandas.pydata.org/pandas-docs/stable/user_guide/indexing.html#returning-a-view-versus-a-copy\n",
      "  super().__setitem__(key, value)\n"
     ]
    },
    {
     "name": "stdout",
     "output_type": "stream",
     "text": [
      "sc_called\n",
      "(92, 4)\n",
      "sc_called\n",
      "(105, 4)\n",
      "check location data for trip 9288219\n",
      "sc_called\n",
      "(82, 10)\n",
      "check location data for trip 9288219\n",
      "sc_called\n",
      "(77, 10)\n",
      "check location data for trip 9288219\n",
      "sc_called\n",
      "(75, 10)\n",
      "sc_called\n",
      "(80, 4)\n",
      "sc_called\n",
      "(58, 4)\n",
      "sc_called\n",
      "(77, 4)\n",
      "sc_called\n",
      "(17, 4)\n",
      "sc_called\n",
      "(56, 4)\n",
      "sc_called\n",
      "(72, 4)\n",
      "sc_called\n",
      "(25, 4)\n",
      "sc_called\n",
      "(45, 4)\n",
      "check location data for trip 9288778\n",
      "sc_called\n",
      "(32, 10)\n",
      "check location data for trip 9288778\n",
      "sc_called\n",
      "(27, 10)\n",
      "check location data for trip 9288778\n",
      "sc_called\n",
      "(25, 10)\n",
      "sc_called\n",
      "(19, 4)\n"
     ]
    },
    {
     "name": "stderr",
     "output_type": "stream",
     "text": [
      "/opt/conda/lib/python3.9/site-packages/geopandas/geodataframe.py:1351: SettingWithCopyWarning: \n",
      "A value is trying to be set on a copy of a slice from a DataFrame.\n",
      "Try using .loc[row_indexer,col_indexer] = value instead\n",
      "\n",
      "See the caveats in the documentation: https://pandas.pydata.org/pandas-docs/stable/user_guide/indexing.html#returning-a-view-versus-a-copy\n",
      "  super().__setitem__(key, value)\n"
     ]
    },
    {
     "name": "stdout",
     "output_type": "stream",
     "text": [
      "sc_called\n",
      "(91, 4)\n",
      "check location data for trip 9289239\n",
      "sc_called\n",
      "(78, 10)\n",
      "check location data for trip 9289239\n",
      "sc_called\n",
      "(75, 10)\n",
      "sc_called\n",
      "(116, 4)\n"
     ]
    },
    {
     "name": "stderr",
     "output_type": "stream",
     "text": [
      "/opt/conda/lib/python3.9/site-packages/geopandas/geodataframe.py:1351: SettingWithCopyWarning: \n",
      "A value is trying to be set on a copy of a slice from a DataFrame.\n",
      "Try using .loc[row_indexer,col_indexer] = value instead\n",
      "\n",
      "See the caveats in the documentation: https://pandas.pydata.org/pandas-docs/stable/user_guide/indexing.html#returning-a-view-versus-a-copy\n",
      "  super().__setitem__(key, value)\n",
      "/opt/conda/lib/python3.9/site-packages/geopandas/geodataframe.py:1351: SettingWithCopyWarning: \n",
      "A value is trying to be set on a copy of a slice from a DataFrame.\n",
      "Try using .loc[row_indexer,col_indexer] = value instead\n",
      "\n",
      "See the caveats in the documentation: https://pandas.pydata.org/pandas-docs/stable/user_guide/indexing.html#returning-a-view-versus-a-copy\n",
      "  super().__setitem__(key, value)\n"
     ]
    },
    {
     "name": "stdout",
     "output_type": "stream",
     "text": [
      "check location data for trip 9288637\n",
      "sc_called\n",
      "(99, 10)\n",
      "check location data for trip 9288637\n",
      "sc_called\n",
      "(95, 10)\n",
      "check location data for trip 9288637\n",
      "sc_called\n",
      "(92, 10)\n",
      "sc_called\n",
      "(93, 4)\n",
      "check location data for trip 9288173\n",
      "sc_called\n",
      "(80, 10)\n",
      "check location data for trip 9288173\n",
      "sc_called\n",
      "(77, 10)\n"
     ]
    },
    {
     "name": "stderr",
     "output_type": "stream",
     "text": [
      "/opt/conda/lib/python3.9/site-packages/geopandas/geodataframe.py:1351: SettingWithCopyWarning: \n",
      "A value is trying to be set on a copy of a slice from a DataFrame.\n",
      "Try using .loc[row_indexer,col_indexer] = value instead\n",
      "\n",
      "See the caveats in the documentation: https://pandas.pydata.org/pandas-docs/stable/user_guide/indexing.html#returning-a-view-versus-a-copy\n",
      "  super().__setitem__(key, value)\n"
     ]
    },
    {
     "name": "stdout",
     "output_type": "stream",
     "text": [
      "sc_called\n",
      "(70, 4)\n",
      "sc_called\n",
      "(104, 4)\n",
      "sc_called\n",
      "(65, 4)\n",
      "sc_called\n",
      "(65, 4)\n",
      "sc_called\n",
      "(34, 4)\n",
      "sc_called\n",
      "(40, 4)\n",
      "sc_called\n",
      "(86, 4)\n",
      "sc_called\n",
      "(60, 4)\n",
      "check location data for trip 9288625\n",
      "sc_called\n",
      "(39, 10)\n",
      "sc_called\n",
      "(27, 4)\n",
      "sc_called\n",
      "(69, 4)\n",
      "sc_called\n",
      "(27, 4)\n"
     ]
    },
    {
     "name": "stderr",
     "output_type": "stream",
     "text": [
      "/opt/conda/lib/python3.9/site-packages/geopandas/geodataframe.py:1351: SettingWithCopyWarning: \n",
      "A value is trying to be set on a copy of a slice from a DataFrame.\n",
      "Try using .loc[row_indexer,col_indexer] = value instead\n",
      "\n",
      "See the caveats in the documentation: https://pandas.pydata.org/pandas-docs/stable/user_guide/indexing.html#returning-a-view-versus-a-copy\n",
      "  super().__setitem__(key, value)\n"
     ]
    },
    {
     "name": "stdout",
     "output_type": "stream",
     "text": [
      "sc_called\n",
      "(106, 4)\n",
      "sc_called\n",
      "(88, 4)\n",
      "sc_called\n",
      "(75, 4)\n",
      "check location data for trip 9296677\n",
      "sc_called\n",
      "(46, 10)\n",
      "check location data for trip 9296677\n",
      "sc_called\n",
      "(40, 10)\n"
     ]
    },
    {
     "name": "stderr",
     "output_type": "stream",
     "text": [
      "/opt/conda/lib/python3.9/site-packages/geopandas/geodataframe.py:1351: SettingWithCopyWarning: \n",
      "A value is trying to be set on a copy of a slice from a DataFrame.\n",
      "Try using .loc[row_indexer,col_indexer] = value instead\n",
      "\n",
      "See the caveats in the documentation: https://pandas.pydata.org/pandas-docs/stable/user_guide/indexing.html#returning-a-view-versus-a-copy\n",
      "  super().__setitem__(key, value)\n",
      "/opt/conda/lib/python3.9/site-packages/geopandas/geodataframe.py:1351: SettingWithCopyWarning: \n",
      "A value is trying to be set on a copy of a slice from a DataFrame.\n",
      "Try using .loc[row_indexer,col_indexer] = value instead\n",
      "\n",
      "See the caveats in the documentation: https://pandas.pydata.org/pandas-docs/stable/user_guide/indexing.html#returning-a-view-versus-a-copy\n",
      "  super().__setitem__(key, value)\n"
     ]
    },
    {
     "name": "stdout",
     "output_type": "stream",
     "text": [
      "sc_called\n",
      "(96, 4)\n",
      "check location data for trip 9288220\n",
      "sc_called\n",
      "(87, 10)\n",
      "check location data for trip 9288220\n",
      "sc_called\n",
      "(84, 10)\n",
      "check location data for trip 9288220\n",
      "sc_called\n",
      "(82, 10)\n",
      "sc_called\n",
      "(100, 4)\n",
      "sc_called\n",
      "(67, 4)\n",
      "sc_called\n",
      "(179, 4)\n",
      "sc_called\n",
      "(67, 4)\n",
      "sc_called\n",
      "(90, 4)\n",
      "check location data for trip 9289240\n",
      "sc_called\n",
      "(66, 10)\n"
     ]
    },
    {
     "name": "stderr",
     "output_type": "stream",
     "text": [
      "/opt/conda/lib/python3.9/site-packages/geopandas/geodataframe.py:1351: SettingWithCopyWarning: \n",
      "A value is trying to be set on a copy of a slice from a DataFrame.\n",
      "Try using .loc[row_indexer,col_indexer] = value instead\n",
      "\n",
      "See the caveats in the documentation: https://pandas.pydata.org/pandas-docs/stable/user_guide/indexing.html#returning-a-view-versus-a-copy\n",
      "  super().__setitem__(key, value)\n",
      "/opt/conda/lib/python3.9/site-packages/geopandas/geodataframe.py:1351: SettingWithCopyWarning: \n",
      "A value is trying to be set on a copy of a slice from a DataFrame.\n",
      "Try using .loc[row_indexer,col_indexer] = value instead\n",
      "\n",
      "See the caveats in the documentation: https://pandas.pydata.org/pandas-docs/stable/user_guide/indexing.html#returning-a-view-versus-a-copy\n",
      "  super().__setitem__(key, value)\n"
     ]
    },
    {
     "name": "stdout",
     "output_type": "stream",
     "text": [
      "sc_called\n",
      "(69, 4)\n",
      "sc_called\n",
      "(47, 4)\n",
      "sc_called\n",
      "(74, 4)\n",
      "check location data for trip 9288626\n",
      "sc_called\n",
      "(54, 10)\n",
      "sc_called\n",
      "(72, 4)\n",
      "check location data for trip 9289759\n",
      "sc_called\n",
      "(54, 10)\n",
      "sc_called\n",
      "(62, 4)\n",
      "sc_called\n",
      "(91, 4)\n",
      "check location data for trip 9288174\n",
      "sc_called\n",
      "(82, 10)\n"
     ]
    },
    {
     "name": "stderr",
     "output_type": "stream",
     "text": [
      "/opt/conda/lib/python3.9/site-packages/geopandas/geodataframe.py:1351: SettingWithCopyWarning: \n",
      "A value is trying to be set on a copy of a slice from a DataFrame.\n",
      "Try using .loc[row_indexer,col_indexer] = value instead\n",
      "\n",
      "See the caveats in the documentation: https://pandas.pydata.org/pandas-docs/stable/user_guide/indexing.html#returning-a-view-versus-a-copy\n",
      "  super().__setitem__(key, value)\n",
      "/opt/conda/lib/python3.9/site-packages/geopandas/geodataframe.py:1351: SettingWithCopyWarning: \n",
      "A value is trying to be set on a copy of a slice from a DataFrame.\n",
      "Try using .loc[row_indexer,col_indexer] = value instead\n",
      "\n",
      "See the caveats in the documentation: https://pandas.pydata.org/pandas-docs/stable/user_guide/indexing.html#returning-a-view-versus-a-copy\n",
      "  super().__setitem__(key, value)\n"
     ]
    },
    {
     "name": "stdout",
     "output_type": "stream",
     "text": [
      "sc_called\n",
      "(8, 4)\n",
      "sc_called\n",
      "(187, 4)\n",
      "check location data for trip 9289468\n",
      "sc_called\n",
      "(102, 10)\n",
      "check location data for trip 9289468"
     ]
    },
    {
     "name": "stderr",
     "output_type": "stream",
     "text": [
      "/opt/conda/lib/python3.9/site-packages/geopandas/geodataframe.py:1351: SettingWithCopyWarning: \n",
      "A value is trying to be set on a copy of a slice from a DataFrame.\n",
      "Try using .loc[row_indexer,col_indexer] = value instead\n",
      "\n",
      "See the caveats in the documentation: https://pandas.pydata.org/pandas-docs/stable/user_guide/indexing.html#returning-a-view-versus-a-copy\n",
      "  super().__setitem__(key, value)\n"
     ]
    },
    {
     "name": "stdout",
     "output_type": "stream",
     "text": [
      "\n",
      "sc_called\n",
      "(99, 10)\n",
      "check location data for trip 9289468\n",
      "sc_called\n",
      "(96, 10)\n",
      "check location data for trip 9289468\n",
      "sc_called\n",
      "(94, 10)\n",
      "check location data for trip 9289468\n",
      "sc_called\n",
      "(92, 10)\n",
      "check location data for trip 9289468\n",
      "sc_called\n",
      "(90, 10)\n",
      "sc_called\n",
      "(28, 4)\n",
      "sc_called\n",
      "(31, 4)\n",
      "sc_called\n",
      "(46, 4)\n",
      "sc_called\n",
      "(101, 4)\n",
      "sc_called\n",
      "(44, 4)\n",
      "sc_called\n",
      "(74, 4)\n",
      "sc_called\n",
      "(87, 4)\n",
      "sc_called\n",
      "(93, 4)\n",
      "sc_called\n",
      "(88, 4)\n",
      "check location data for trip 9289351\n",
      "sc_called\n",
      "(63, 10)\n",
      "check location data for trip 9289351\n",
      "sc_called\n",
      "(61, 10)\n",
      "check location data for trip 9289351\n",
      "sc_called\n",
      "(59, 10)\n",
      "check location data for trip 9289351\n",
      "sc_called\n",
      "(57, 10)\n",
      "check location data for trip 9289351\n",
      "sc_called\n",
      "(55, 10)\n",
      "check location data for trip 9289351\n",
      "sc_called\n",
      "(53, 10)\n",
      "sc_called\n",
      "(34, 4)\n",
      "sc_called\n",
      "(60, 4)\n"
     ]
    },
    {
     "name": "stderr",
     "output_type": "stream",
     "text": [
      "/opt/conda/lib/python3.9/site-packages/geopandas/geodataframe.py:1351: SettingWithCopyWarning: \n",
      "A value is trying to be set on a copy of a slice from a DataFrame.\n",
      "Try using .loc[row_indexer,col_indexer] = value instead\n",
      "\n",
      "See the caveats in the documentation: https://pandas.pydata.org/pandas-docs/stable/user_guide/indexing.html#returning-a-view-versus-a-copy\n",
      "  super().__setitem__(key, value)\n"
     ]
    },
    {
     "name": "stdout",
     "output_type": "stream",
     "text": [
      "sc_called\n",
      "(116, 4)\n",
      "sc_called\n",
      "(46, 4)\n",
      "sc_called\n",
      "(77, 4)\n",
      "sc_called\n",
      "(66, 4)\n",
      "sc_called\n",
      "(54, 4)\n",
      "sc_called\n",
      "(78, 4)\n",
      "sc_called\n",
      "(96, 4)\n",
      "check location data for trip 9288221\n",
      "sc_called\n",
      "(84, 10)\n",
      "sc_called\n",
      "(26, 4)\n",
      "check location data for trip 9296540\n",
      "sc_called\n",
      "(14, 10)\n",
      "sc_called\n",
      "(75, 4)\n"
     ]
    },
    {
     "name": "stderr",
     "output_type": "stream",
     "text": [
      "/opt/conda/lib/python3.9/site-packages/geopandas/geodataframe.py:1351: SettingWithCopyWarning: \n",
      "A value is trying to be set on a copy of a slice from a DataFrame.\n",
      "Try using .loc[row_indexer,col_indexer] = value instead\n",
      "\n",
      "See the caveats in the documentation: https://pandas.pydata.org/pandas-docs/stable/user_guide/indexing.html#returning-a-view-versus-a-copy\n",
      "  super().__setitem__(key, value)\n",
      "/opt/conda/lib/python3.9/site-packages/geopandas/geodataframe.py:1351: SettingWithCopyWarning: \n",
      "A value is trying to be set on a copy of a slice from a DataFrame.\n",
      "Try using .loc[row_indexer,col_indexer] = value instead\n",
      "\n",
      "See the caveats in the documentation: https://pandas.pydata.org/pandas-docs/stable/user_guide/indexing.html#returning-a-view-versus-a-copy\n",
      "  super().__setitem__(key, value)\n",
      "/opt/conda/lib/python3.9/site-packages/geopandas/geodataframe.py:1351: SettingWithCopyWarning: \n",
      "A value is trying to be set on a copy of a slice from a DataFrame.\n",
      "Try using .loc[row_indexer,col_indexer] = value instead\n",
      "\n",
      "See the caveats in the documentation: https://pandas.pydata.org/pandas-docs/stable/user_guide/indexing.html#returning-a-view-versus-a-copy\n",
      "  super().__setitem__(key, value)\n"
     ]
    },
    {
     "name": "stdout",
     "output_type": "stream",
     "text": [
      "check location data for trip 9296679\n",
      "sc_called\n",
      "(47, 10)\n",
      "check location data for trip 9296679\n",
      "sc_called\n",
      "(40, 10)\n",
      "check location data for trip 9296679\n",
      "sc_called\n",
      "(37, 10)\n",
      "sc_called\n",
      "(73, 4)\n",
      "check location data for trip 9288627\n",
      "sc_called\n",
      "(49, 10)\n",
      "check location data for trip 9288627\n",
      "sc_called\n",
      "(44, 10)\n",
      "check location data for trip 9288627\n",
      "sc_called\n",
      "(41, 10)\n",
      "check location data for trip 9288627\n",
      "sc_called\n",
      "(38, 10)\n",
      "sc_called\n",
      "(63, 4)\n"
     ]
    },
    {
     "name": "stderr",
     "output_type": "stream",
     "text": [
      "/opt/conda/lib/python3.9/site-packages/geopandas/geodataframe.py:1351: SettingWithCopyWarning: \n",
      "A value is trying to be set on a copy of a slice from a DataFrame.\n",
      "Try using .loc[row_indexer,col_indexer] = value instead\n",
      "\n",
      "See the caveats in the documentation: https://pandas.pydata.org/pandas-docs/stable/user_guide/indexing.html#returning-a-view-versus-a-copy\n",
      "  super().__setitem__(key, value)\n"
     ]
    },
    {
     "name": "stdout",
     "output_type": "stream",
     "text": [
      "sc_called\n",
      "(121, 4)\n",
      "check location data for trip 9288670\n",
      "sc_called\n",
      "(97, 10)\n",
      "check location data for trip 9288670\n",
      "sc_called\n",
      "(93, 10)\n",
      "sc_called\n",
      "(9, 4)\n"
     ]
    },
    {
     "name": "stderr",
     "output_type": "stream",
     "text": [
      "/opt/conda/lib/python3.9/site-packages/geopandas/geodataframe.py:1351: SettingWithCopyWarning: \n",
      "A value is trying to be set on a copy of a slice from a DataFrame.\n",
      "Try using .loc[row_indexer,col_indexer] = value instead\n",
      "\n",
      "See the caveats in the documentation: https://pandas.pydata.org/pandas-docs/stable/user_guide/indexing.html#returning-a-view-versus-a-copy\n",
      "  super().__setitem__(key, value)\n"
     ]
    },
    {
     "name": "stdout",
     "output_type": "stream",
     "text": [
      "sc_called\n",
      "(99, 4)\n",
      "sc_called\n",
      "(51, 4)\n",
      "sc_called\n",
      "(40, 4)\n",
      "check location data for trip 9296681\n",
      "sc_called\n",
      "(35, 10)\n",
      "sc_called\n",
      "(66, 4)\n"
     ]
    },
    {
     "name": "stderr",
     "output_type": "stream",
     "text": [
      "/opt/conda/lib/python3.9/site-packages/geopandas/geodataframe.py:1351: SettingWithCopyWarning: \n",
      "A value is trying to be set on a copy of a slice from a DataFrame.\n",
      "Try using .loc[row_indexer,col_indexer] = value instead\n",
      "\n",
      "See the caveats in the documentation: https://pandas.pydata.org/pandas-docs/stable/user_guide/indexing.html#returning-a-view-versus-a-copy\n",
      "  super().__setitem__(key, value)\n"
     ]
    },
    {
     "name": "stdout",
     "output_type": "stream",
     "text": [
      "sc_called\n",
      "(80, 4)\n",
      "sc_called\n",
      "(66, 4)\n",
      "sc_called\n",
      "(28, 4)\n",
      "sc_called\n",
      "(45, 4)\n",
      "sc_called\n",
      "(69, 4)\n",
      "sc_called\n",
      "(79, 4)\n",
      "check location data for trip 9288175\n",
      "sc_called\n",
      "(71, 10)\n",
      "check location data for trip 9288175\n",
      "sc_called\n",
      "(68, 10)\n",
      "sc_called\n",
      "(93, 4)\n",
      "check location data for trip 9289271\n",
      "sc_called\n",
      "(60, 10)\n"
     ]
    },
    {
     "name": "stderr",
     "output_type": "stream",
     "text": [
      "/opt/conda/lib/python3.9/site-packages/geopandas/geodataframe.py:1351: SettingWithCopyWarning: \n",
      "A value is trying to be set on a copy of a slice from a DataFrame.\n",
      "Try using .loc[row_indexer,col_indexer] = value instead\n",
      "\n",
      "See the caveats in the documentation: https://pandas.pydata.org/pandas-docs/stable/user_guide/indexing.html#returning-a-view-versus-a-copy\n",
      "  super().__setitem__(key, value)\n",
      "/opt/conda/lib/python3.9/site-packages/geopandas/geodataframe.py:1351: SettingWithCopyWarning: \n",
      "A value is trying to be set on a copy of a slice from a DataFrame.\n",
      "Try using .loc[row_indexer,col_indexer] = value instead\n",
      "\n",
      "See the caveats in the documentation: https://pandas.pydata.org/pandas-docs/stable/user_guide/indexing.html#returning-a-view-versus-a-copy\n",
      "  super().__setitem__(key, value)\n"
     ]
    },
    {
     "name": "stdout",
     "output_type": "stream",
     "text": [
      "sc_called\n",
      "(88, 4)\n",
      "sc_called\n",
      "(59, 4)\n",
      "sc_called\n",
      "(23, 4)\n",
      "sc_called\n",
      "(23, 4)\n",
      "sc_called\n",
      "(8, 4)\n",
      "sc_called\n",
      "(107, 4)\n",
      "check location data for trip 9288640\n",
      "sc_called\n",
      "(96, 10)\n",
      "check location data for trip 9288640\n",
      "sc_called\n",
      "(92, 10)\n"
     ]
    },
    {
     "name": "stderr",
     "output_type": "stream",
     "text": [
      "/opt/conda/lib/python3.9/site-packages/geopandas/geodataframe.py:1351: SettingWithCopyWarning: \n",
      "A value is trying to be set on a copy of a slice from a DataFrame.\n",
      "Try using .loc[row_indexer,col_indexer] = value instead\n",
      "\n",
      "See the caveats in the documentation: https://pandas.pydata.org/pandas-docs/stable/user_guide/indexing.html#returning-a-view-versus-a-copy\n",
      "  super().__setitem__(key, value)\n"
     ]
    },
    {
     "name": "stdout",
     "output_type": "stream",
     "text": [
      "sc_called\n",
      "(90, 4)\n",
      "sc_called\n",
      "(43, 4)\n",
      "sc_called\n",
      "(59, 4)\n",
      "sc_called\n",
      "(50, 4)\n",
      "sc_called\n",
      "(57, 4)\n",
      "sc_called\n",
      "(83, 4)\n",
      "sc_called\n",
      "(57, 4)\n",
      "check location data for trip 9289760\n",
      "sc_called\n",
      "(43, 10)\n"
     ]
    },
    {
     "name": "stderr",
     "output_type": "stream",
     "text": [
      "/opt/conda/lib/python3.9/site-packages/geopandas/geodataframe.py:1351: SettingWithCopyWarning: \n",
      "A value is trying to be set on a copy of a slice from a DataFrame.\n",
      "Try using .loc[row_indexer,col_indexer] = value instead\n",
      "\n",
      "See the caveats in the documentation: https://pandas.pydata.org/pandas-docs/stable/user_guide/indexing.html#returning-a-view-versus-a-copy\n",
      "  super().__setitem__(key, value)\n"
     ]
    },
    {
     "name": "stdout",
     "output_type": "stream",
     "text": [
      "sc_called\n",
      "(49, 4)\n",
      "sc_called\n",
      "(45, 4)\n",
      "sc_called\n",
      "(81, 4)\n",
      "sc_called\n",
      "(55, 4)\n",
      "check location data for trip 9296682\n",
      "sc_called\n",
      "(50, 10)\n",
      "sc_called\n",
      "(89, 4)\n"
     ]
    },
    {
     "name": "stderr",
     "output_type": "stream",
     "text": [
      "/opt/conda/lib/python3.9/site-packages/geopandas/geodataframe.py:1351: SettingWithCopyWarning: \n",
      "A value is trying to be set on a copy of a slice from a DataFrame.\n",
      "Try using .loc[row_indexer,col_indexer] = value instead\n",
      "\n",
      "See the caveats in the documentation: https://pandas.pydata.org/pandas-docs/stable/user_guide/indexing.html#returning-a-view-versus-a-copy\n",
      "  super().__setitem__(key, value)\n"
     ]
    },
    {
     "name": "stdout",
     "output_type": "stream",
     "text": [
      "sc_called\n",
      "(83, 4)\n",
      "sc_called\n",
      "(55, 4)\n",
      "check location data for trip 9288629\n",
      "sc_called\n",
      "(38, 10)\n",
      "sc_called\n",
      "(50, 4)\n"
     ]
    },
    {
     "name": "stderr",
     "output_type": "stream",
     "text": [
      "/opt/conda/lib/python3.9/site-packages/geopandas/geodataframe.py:1351: SettingWithCopyWarning: \n",
      "A value is trying to be set on a copy of a slice from a DataFrame.\n",
      "Try using .loc[row_indexer,col_indexer] = value instead\n",
      "\n",
      "See the caveats in the documentation: https://pandas.pydata.org/pandas-docs/stable/user_guide/indexing.html#returning-a-view-versus-a-copy\n",
      "  super().__setitem__(key, value)\n",
      "/opt/conda/lib/python3.9/site-packages/geopandas/geodataframe.py:1351: SettingWithCopyWarning: \n",
      "A value is trying to be set on a copy of a slice from a DataFrame.\n",
      "Try using .loc[row_indexer,col_indexer] = value instead\n",
      "\n",
      "See the caveats in the documentation: https://pandas.pydata.org/pandas-docs/stable/user_guide/indexing.html#returning-a-view-versus-a-copy\n",
      "  super().__setitem__(key, value)\n"
     ]
    },
    {
     "name": "stdout",
     "output_type": "stream",
     "text": [
      "sc_called\n",
      "(84, 4)\n",
      "check location data for trip 9288224\n",
      "sc_called\n",
      "(71, 10)\n",
      "check location data for trip 9288224\n",
      "sc_called\n",
      "(69, 10)\n",
      "sc_called\n",
      "(64, 4)\n",
      "sc_called\n",
      "(82, 4)\n",
      "sc_called\n",
      "(27, 4)\n",
      "sc_called\n",
      "(60, 4)\n",
      "sc_called\n",
      "(61, 4)\n",
      "sc_called\n",
      "(52, 4)\n",
      "sc_called\n",
      "(39, 4)\n",
      "check location data for trip 9296684\n",
      "sc_called\n",
      "(34, 10)\n",
      "sc_called\n",
      "(90, 4)\n"
     ]
    },
    {
     "name": "stderr",
     "output_type": "stream",
     "text": [
      "/opt/conda/lib/python3.9/site-packages/geopandas/geodataframe.py:1351: SettingWithCopyWarning: \n",
      "A value is trying to be set on a copy of a slice from a DataFrame.\n",
      "Try using .loc[row_indexer,col_indexer] = value instead\n",
      "\n",
      "See the caveats in the documentation: https://pandas.pydata.org/pandas-docs/stable/user_guide/indexing.html#returning-a-view-versus-a-copy\n",
      "  super().__setitem__(key, value)\n"
     ]
    },
    {
     "name": "stdout",
     "output_type": "stream",
     "text": [
      "sc_called\n",
      "(93, 4)\n",
      "sc_called\n",
      "(77, 4)\n",
      "check location data for trip 9288654\n",
      "sc_called\n",
      "(60, 10)\n",
      "check location data for trip 9288654\n",
      "sc_called\n",
      "(56, 10)\n",
      "sc_called\n",
      "(50, 4)\n",
      "check location data for trip 9296683\n",
      "sc_called\n",
      "(27, 10)\n"
     ]
    },
    {
     "name": "stderr",
     "output_type": "stream",
     "text": [
      "/opt/conda/lib/python3.9/site-packages/geopandas/geodataframe.py:1351: SettingWithCopyWarning: \n",
      "A value is trying to be set on a copy of a slice from a DataFrame.\n",
      "Try using .loc[row_indexer,col_indexer] = value instead\n",
      "\n",
      "See the caveats in the documentation: https://pandas.pydata.org/pandas-docs/stable/user_guide/indexing.html#returning-a-view-versus-a-copy\n",
      "  super().__setitem__(key, value)\n",
      "/opt/conda/lib/python3.9/site-packages/geopandas/geodataframe.py:1351: SettingWithCopyWarning: \n",
      "A value is trying to be set on a copy of a slice from a DataFrame.\n",
      "Try using .loc[row_indexer,col_indexer] = value instead\n",
      "\n",
      "See the caveats in the documentation: https://pandas.pydata.org/pandas-docs/stable/user_guide/indexing.html#returning-a-view-versus-a-copy\n",
      "  super().__setitem__(key, value)\n",
      "/opt/conda/lib/python3.9/site-packages/geopandas/geodataframe.py:1351: SettingWithCopyWarning: \n",
      "A value is trying to be set on a copy of a slice from a DataFrame.\n",
      "Try using .loc[row_indexer,col_indexer] = value instead\n",
      "\n",
      "See the caveats in the documentation: https://pandas.pydata.org/pandas-docs/stable/user_guide/indexing.html#returning-a-view-versus-a-copy\n",
      "  super().__setitem__(key, value)\n"
     ]
    },
    {
     "name": "stdout",
     "output_type": "stream",
     "text": [
      "sc_called\n",
      "(77, 4)\n",
      "check location data for trip 9289244\n",
      "sc_called\n",
      "(63, 10)\n",
      "check location data for trip 9289244\n",
      "sc_called\n",
      "(60, 10)\n",
      "check location data for trip 9289244\n",
      "sc_called\n",
      "(58, 10)\n",
      "sc_called\n",
      "(94, 4)\n",
      "sc_called\n",
      "(63, 4)\n",
      "check location data for trip 9289343\n",
      "sc_called\n",
      "(58, 10)\n",
      "sc_called\n",
      "(86, 4)\n",
      "check location data for trip 9288538\n",
      "sc_called\n",
      "(69, 10)\n",
      "sc_called\n",
      "(63, 4)\n"
     ]
    },
    {
     "name": "stderr",
     "output_type": "stream",
     "text": [
      "/opt/conda/lib/python3.9/site-packages/geopandas/geodataframe.py:1351: SettingWithCopyWarning: \n",
      "A value is trying to be set on a copy of a slice from a DataFrame.\n",
      "Try using .loc[row_indexer,col_indexer] = value instead\n",
      "\n",
      "See the caveats in the documentation: https://pandas.pydata.org/pandas-docs/stable/user_guide/indexing.html#returning-a-view-versus-a-copy\n",
      "  super().__setitem__(key, value)\n",
      "/opt/conda/lib/python3.9/site-packages/geopandas/geodataframe.py:1351: SettingWithCopyWarning: \n",
      "A value is trying to be set on a copy of a slice from a DataFrame.\n",
      "Try using .loc[row_indexer,col_indexer] = value instead\n",
      "\n",
      "See the caveats in the documentation: https://pandas.pydata.org/pandas-docs/stable/user_guide/indexing.html#returning-a-view-versus-a-copy\n",
      "  super().__setitem__(key, value)\n"
     ]
    },
    {
     "name": "stdout",
     "output_type": "stream",
     "text": [
      "sc_called\n",
      "(72, 4)\n",
      "check location data for trip 9288631\n",
      "sc_called\n",
      "(56, 10)\n",
      "check location data for trip 9288631\n",
      "sc_called\n",
      "(53, 10)\n",
      "sc_called\n",
      "(29, 4)\n",
      "sc_called\n",
      "(103, 4)\n"
     ]
    },
    {
     "name": "stderr",
     "output_type": "stream",
     "text": [
      "/opt/conda/lib/python3.9/site-packages/geopandas/geodataframe.py:1351: SettingWithCopyWarning: \n",
      "A value is trying to be set on a copy of a slice from a DataFrame.\n",
      "Try using .loc[row_indexer,col_indexer] = value instead\n",
      "\n",
      "See the caveats in the documentation: https://pandas.pydata.org/pandas-docs/stable/user_guide/indexing.html#returning-a-view-versus-a-copy\n",
      "  super().__setitem__(key, value)\n"
     ]
    },
    {
     "name": "stdout",
     "output_type": "stream",
     "text": [
      "sc_called\n",
      "(69, 4)\n",
      "check location data for trip 9288630\n",
      "sc_called\n",
      "(53, 10)\n",
      "check location data for trip 9288630\n",
      "sc_called\n",
      "(50, 10)\n",
      "sc_called\n",
      "(49, 4)\n",
      "sc_called\n",
      "(63, 4)\n"
     ]
    },
    {
     "name": "stderr",
     "output_type": "stream",
     "text": [
      "/opt/conda/lib/python3.9/site-packages/geopandas/geodataframe.py:1351: SettingWithCopyWarning: \n",
      "A value is trying to be set on a copy of a slice from a DataFrame.\n",
      "Try using .loc[row_indexer,col_indexer] = value instead\n",
      "\n",
      "See the caveats in the documentation: https://pandas.pydata.org/pandas-docs/stable/user_guide/indexing.html#returning-a-view-versus-a-copy\n",
      "  super().__setitem__(key, value)\n"
     ]
    },
    {
     "name": "stdout",
     "output_type": "stream",
     "text": [
      "sc_called\n",
      "(42, 4)\n",
      "sc_called\n",
      "(65, 4)\n",
      "sc_called\n",
      "(89, 4)\n",
      "check location data for trip 9288179\n",
      "sc_called\n",
      "(72, 10)\n",
      "check location data for trip 9288179\n",
      "sc_called\n",
      "(69, 10)\n",
      "sc_called\n",
      "(80, 4)\n"
     ]
    },
    {
     "name": "stderr",
     "output_type": "stream",
     "text": [
      "/opt/conda/lib/python3.9/site-packages/geopandas/geodataframe.py:1351: SettingWithCopyWarning: \n",
      "A value is trying to be set on a copy of a slice from a DataFrame.\n",
      "Try using .loc[row_indexer,col_indexer] = value instead\n",
      "\n",
      "See the caveats in the documentation: https://pandas.pydata.org/pandas-docs/stable/user_guide/indexing.html#returning-a-view-versus-a-copy\n",
      "  super().__setitem__(key, value)\n"
     ]
    }
   ],
   "source": [
    "test_many = rt.RtAnalysis(trips_positions_joined,\n",
    "                           stop_times,\n",
    "                           stops,\n",
    "                           lbt_routelines,\n",
    "                           pm_peak.trip_id)"
   ]
  },
  {
   "cell_type": "code",
   "execution_count": 44,
   "id": "92097e05-0647-4a59-9063-0250fedffc06",
   "metadata": {
    "tags": []
   },
   "outputs": [],
   "source": [
    "%%capture --no-stderr\n",
    "test_many.generate_delay_view()"
   ]
  },
  {
   "cell_type": "code",
   "execution_count": 45,
   "id": "1ac5abfd-2622-4f2e-a942-cea4daffa9f7",
   "metadata": {},
   "outputs": [
    {
     "data": {
      "text/plain": [
       "195"
      ]
     },
     "execution_count": 45,
     "metadata": {},
     "output_type": "execute_result"
    }
   ],
   "source": [
    "test_many.trip_ids.nunique()"
   ]
  },
  {
   "cell_type": "code",
   "execution_count": 46,
   "id": "caee325d-7188-4907-8b4f-bb29e119c2aa",
   "metadata": {},
   "outputs": [
    {
     "data": {
      "text/plain": [
       "193"
      ]
     },
     "execution_count": 46,
     "metadata": {},
     "output_type": "execute_result"
    }
   ],
   "source": [
    "test_many.delay_view.trip_id.nunique()"
   ]
  },
  {
   "cell_type": "code",
   "execution_count": 47,
   "id": "a997f422-9df2-40fe-9d82-d55c762bf846",
   "metadata": {},
   "outputs": [
    {
     "data": {
      "text/plain": [
       "39"
      ]
     },
     "execution_count": 47,
     "metadata": {},
     "output_type": "execute_result"
    }
   ],
   "source": [
    "test_many.delay_view.shape_id.nunique()"
   ]
  },
  {
   "cell_type": "code",
   "execution_count": 48,
   "id": "b5cf5e6f-daa2-4114-a003-a475d4c393db",
   "metadata": {},
   "outputs": [
    {
     "data": {
      "text/html": [
       "<div>\n",
       "<style scoped>\n",
       "    .dataframe tbody tr th:only-of-type {\n",
       "        vertical-align: middle;\n",
       "    }\n",
       "\n",
       "    .dataframe tbody tr th {\n",
       "        vertical-align: top;\n",
       "    }\n",
       "\n",
       "    .dataframe thead th {\n",
       "        text-align: right;\n",
       "    }\n",
       "</style>\n",
       "<table border=\"1\" class=\"dataframe\">\n",
       "  <thead>\n",
       "    <tr style=\"text-align: right;\">\n",
       "      <th></th>\n",
       "      <th>arrival_time</th>\n",
       "      <th>actual_time</th>\n",
       "      <th>delay</th>\n",
       "      <th>stop_id</th>\n",
       "      <th>trip_id</th>\n",
       "      <th>shape_id</th>\n",
       "      <th>direction_id</th>\n",
       "      <th>direction</th>\n",
       "      <th>stop_sequence</th>\n",
       "      <th>route_id</th>\n",
       "      <th>shape_meters</th>\n",
       "      <th>date</th>\n",
       "      <th>geometry</th>\n",
       "    </tr>\n",
       "  </thead>\n",
       "  <tbody>\n",
       "    <tr>\n",
       "      <th>5096</th>\n",
       "      <td>2021-11-30 15:23:15</td>\n",
       "      <td>2021-11-30 15:25:14.254940</td>\n",
       "      <td>0 days 00:01:59.254940</td>\n",
       "      <td>1573</td>\n",
       "      <td>9288170</td>\n",
       "      <td>1910295</td>\n",
       "      <td>0</td>\n",
       "      <td>Westbound</td>\n",
       "      <td>2</td>\n",
       "      <td>191</td>\n",
       "      <td>559.250839</td>\n",
       "      <td>2021-12-01</td>\n",
       "      <td>POINT (179249.800 -461991.129)</td>\n",
       "    </tr>\n",
       "    <tr>\n",
       "      <th>2651</th>\n",
       "      <td>2021-11-30 15:58:39</td>\n",
       "      <td>2021-11-30 15:56:35.872418</td>\n",
       "      <td>-1 days +23:57:56.872418</td>\n",
       "      <td>4146</td>\n",
       "      <td>9288525</td>\n",
       "      <td>920111</td>\n",
       "      <td>0</td>\n",
       "      <td>Southbound</td>\n",
       "      <td>2</td>\n",
       "      <td>92</td>\n",
       "      <td>919.583082</td>\n",
       "      <td>2021-12-01</td>\n",
       "      <td>POINT (174146.349 -456781.921)</td>\n",
       "    </tr>\n",
       "    <tr>\n",
       "      <th>2654</th>\n",
       "      <td>2021-11-30 16:38:39</td>\n",
       "      <td>2021-11-30 16:39:51.310372</td>\n",
       "      <td>0 days 00:01:12.310372</td>\n",
       "      <td>4146</td>\n",
       "      <td>9288528</td>\n",
       "      <td>920111</td>\n",
       "      <td>0</td>\n",
       "      <td>Southbound</td>\n",
       "      <td>2</td>\n",
       "      <td>92</td>\n",
       "      <td>919.583082</td>\n",
       "      <td>2021-12-01</td>\n",
       "      <td>POINT (174146.349 -456781.921)</td>\n",
       "    </tr>\n",
       "  </tbody>\n",
       "</table>\n",
       "</div>"
      ],
      "text/plain": [
       "            arrival_time                actual_time                    delay  \\\n",
       "5096 2021-11-30 15:23:15 2021-11-30 15:25:14.254940   0 days 00:01:59.254940   \n",
       "2651 2021-11-30 15:58:39 2021-11-30 15:56:35.872418 -1 days +23:57:56.872418   \n",
       "2654 2021-11-30 16:38:39 2021-11-30 16:39:51.310372   0 days 00:01:12.310372   \n",
       "\n",
       "     stop_id  trip_id shape_id direction_id   direction  stop_sequence  \\\n",
       "5096    1573  9288170  1910295            0   Westbound              2   \n",
       "2651    4146  9288525   920111            0  Southbound              2   \n",
       "2654    4146  9288528   920111            0  Southbound              2   \n",
       "\n",
       "     route_id  shape_meters        date                        geometry  \n",
       "5096      191    559.250839  2021-12-01  POINT (179249.800 -461991.129)  \n",
       "2651       92    919.583082  2021-12-01  POINT (174146.349 -456781.921)  \n",
       "2654       92    919.583082  2021-12-01  POINT (174146.349 -456781.921)  "
      ]
     },
     "execution_count": 48,
     "metadata": {},
     "output_type": "execute_result"
    }
   ],
   "source": [
    "test_many.delay_view.head(3)"
   ]
  },
  {
   "cell_type": "code",
   "execution_count": 49,
   "id": "a0468705-c3e0-4529-b9b9-a78d43baaf19",
   "metadata": {},
   "outputs": [
    {
     "data": {
      "text/html": [
       "<div>\n",
       "<style scoped>\n",
       "    .dataframe tbody tr th:only-of-type {\n",
       "        vertical-align: middle;\n",
       "    }\n",
       "\n",
       "    .dataframe tbody tr th {\n",
       "        vertical-align: top;\n",
       "    }\n",
       "\n",
       "    .dataframe thead th {\n",
       "        text-align: right;\n",
       "    }\n",
       "</style>\n",
       "<table border=\"1\" class=\"dataframe\">\n",
       "  <thead>\n",
       "    <tr style=\"text-align: right;\">\n",
       "      <th></th>\n",
       "      <th>trip_id</th>\n",
       "      <th>shape_id</th>\n",
       "      <th>direction_id</th>\n",
       "      <th>min_meters</th>\n",
       "      <th>min_stop</th>\n",
       "      <th>max_meters</th>\n",
       "      <th>max_stop</th>\n",
       "      <th>stops_covered</th>\n",
       "    </tr>\n",
       "  </thead>\n",
       "  <tbody>\n",
       "    <tr>\n",
       "      <th>0</th>\n",
       "      <td>9288535</td>\n",
       "      <td>910132</td>\n",
       "      <td>0</td>\n",
       "      <td>832.866019</td>\n",
       "      <td>2</td>\n",
       "      <td>25107.200799</td>\n",
       "      <td>80</td>\n",
       "      <td>78</td>\n",
       "    </tr>\n",
       "    <tr>\n",
       "      <th>1</th>\n",
       "      <td>9288529</td>\n",
       "      <td>910131</td>\n",
       "      <td>0</td>\n",
       "      <td>565.808266</td>\n",
       "      <td>3</td>\n",
       "      <td>24385.983516</td>\n",
       "      <td>80</td>\n",
       "      <td>77</td>\n",
       "    </tr>\n",
       "    <tr>\n",
       "      <th>2</th>\n",
       "      <td>9288641</td>\n",
       "      <td>1730123</td>\n",
       "      <td>0</td>\n",
       "      <td>785.141960</td>\n",
       "      <td>2</td>\n",
       "      <td>31511.120110</td>\n",
       "      <td>79</td>\n",
       "      <td>77</td>\n",
       "    </tr>\n",
       "    <tr>\n",
       "      <th>3</th>\n",
       "      <td>9288170</td>\n",
       "      <td>1910295</td>\n",
       "      <td>0</td>\n",
       "      <td>559.250839</td>\n",
       "      <td>2</td>\n",
       "      <td>27466.876359</td>\n",
       "      <td>76</td>\n",
       "      <td>74</td>\n",
       "    </tr>\n",
       "    <tr>\n",
       "      <th>4</th>\n",
       "      <td>9288217</td>\n",
       "      <td>1920167</td>\n",
       "      <td>0</td>\n",
       "      <td>1029.767210</td>\n",
       "      <td>3</td>\n",
       "      <td>26019.972326</td>\n",
       "      <td>77</td>\n",
       "      <td>74</td>\n",
       "    </tr>\n",
       "    <tr>\n",
       "      <th>5</th>\n",
       "      <td>9288530</td>\n",
       "      <td>930147</td>\n",
       "      <td>0</td>\n",
       "      <td>832.866019</td>\n",
       "      <td>2</td>\n",
       "      <td>26047.441803</td>\n",
       "      <td>76</td>\n",
       "      <td>74</td>\n",
       "    </tr>\n",
       "    <tr>\n",
       "      <th>6</th>\n",
       "      <td>9288524</td>\n",
       "      <td>930151</td>\n",
       "      <td>0</td>\n",
       "      <td>565.808266</td>\n",
       "      <td>3</td>\n",
       "      <td>25326.224521</td>\n",
       "      <td>76</td>\n",
       "      <td>73</td>\n",
       "    </tr>\n",
       "    <tr>\n",
       "      <th>7</th>\n",
       "      <td>9288657</td>\n",
       "      <td>1720093</td>\n",
       "      <td>0</td>\n",
       "      <td>785.141960</td>\n",
       "      <td>2</td>\n",
       "      <td>27707.583406</td>\n",
       "      <td>73</td>\n",
       "      <td>71</td>\n",
       "    </tr>\n",
       "    <tr>\n",
       "      <th>8</th>\n",
       "      <td>9289237</td>\n",
       "      <td>220074</td>\n",
       "      <td>0</td>\n",
       "      <td>508.649783</td>\n",
       "      <td>2</td>\n",
       "      <td>23371.823040</td>\n",
       "      <td>71</td>\n",
       "      <td>69</td>\n",
       "    </tr>\n",
       "    <tr>\n",
       "      <th>9</th>\n",
       "      <td>9288525</td>\n",
       "      <td>920111</td>\n",
       "      <td>0</td>\n",
       "      <td>919.583082</td>\n",
       "      <td>2</td>\n",
       "      <td>23032.982595</td>\n",
       "      <td>66</td>\n",
       "      <td>64</td>\n",
       "    </tr>\n",
       "    <tr>\n",
       "      <th>10</th>\n",
       "      <td>9288534</td>\n",
       "      <td>920115</td>\n",
       "      <td>0</td>\n",
       "      <td>853.920336</td>\n",
       "      <td>3</td>\n",
       "      <td>22311.765313</td>\n",
       "      <td>66</td>\n",
       "      <td>63</td>\n",
       "    </tr>\n",
       "    <tr>\n",
       "      <th>11</th>\n",
       "      <td>9289269</td>\n",
       "      <td>230018</td>\n",
       "      <td>0</td>\n",
       "      <td>202.128115</td>\n",
       "      <td>2</td>\n",
       "      <td>19630.830976</td>\n",
       "      <td>65</td>\n",
       "      <td>63</td>\n",
       "    </tr>\n",
       "    <tr>\n",
       "      <th>12</th>\n",
       "      <td>9296820</td>\n",
       "      <td>710048</td>\n",
       "      <td>0</td>\n",
       "      <td>422.125366</td>\n",
       "      <td>2</td>\n",
       "      <td>19024.115916</td>\n",
       "      <td>60</td>\n",
       "      <td>58</td>\n",
       "    </tr>\n",
       "    <tr>\n",
       "      <th>13</th>\n",
       "      <td>9288638</td>\n",
       "      <td>1720091</td>\n",
       "      <td>0</td>\n",
       "      <td>1029.767210</td>\n",
       "      <td>3</td>\n",
       "      <td>21368.066305</td>\n",
       "      <td>59</td>\n",
       "      <td>56</td>\n",
       "    </tr>\n",
       "    <tr>\n",
       "      <th>14</th>\n",
       "      <td>9289195</td>\n",
       "      <td>210079</td>\n",
       "      <td>0</td>\n",
       "      <td>270.076841</td>\n",
       "      <td>2</td>\n",
       "      <td>17753.142233</td>\n",
       "      <td>58</td>\n",
       "      <td>56</td>\n",
       "    </tr>\n",
       "    <tr>\n",
       "      <th>15</th>\n",
       "      <td>9296672</td>\n",
       "      <td>410007</td>\n",
       "      <td>0</td>\n",
       "      <td>501.040761</td>\n",
       "      <td>2</td>\n",
       "      <td>17283.555602</td>\n",
       "      <td>58</td>\n",
       "      <td>56</td>\n",
       "    </tr>\n",
       "    <tr>\n",
       "      <th>16</th>\n",
       "      <td>9288956</td>\n",
       "      <td>1120046</td>\n",
       "      <td>0</td>\n",
       "      <td>578.822394</td>\n",
       "      <td>3</td>\n",
       "      <td>18222.051878</td>\n",
       "      <td>57</td>\n",
       "      <td>54</td>\n",
       "    </tr>\n",
       "    <tr>\n",
       "      <th>17</th>\n",
       "      <td>9288957</td>\n",
       "      <td>1110083</td>\n",
       "      <td>0</td>\n",
       "      <td>578.822394</td>\n",
       "      <td>3</td>\n",
       "      <td>19703.043969</td>\n",
       "      <td>56</td>\n",
       "      <td>53</td>\n",
       "    </tr>\n",
       "    <tr>\n",
       "      <th>18</th>\n",
       "      <td>9289341</td>\n",
       "      <td>610106</td>\n",
       "      <td>0</td>\n",
       "      <td>625.200598</td>\n",
       "      <td>3</td>\n",
       "      <td>18562.339122</td>\n",
       "      <td>53</td>\n",
       "      <td>50</td>\n",
       "    </tr>\n",
       "    <tr>\n",
       "      <th>19</th>\n",
       "      <td>9289755</td>\n",
       "      <td>1210143</td>\n",
       "      <td>0</td>\n",
       "      <td>256.590840</td>\n",
       "      <td>2</td>\n",
       "      <td>17286.824589</td>\n",
       "      <td>51</td>\n",
       "      <td>49</td>\n",
       "    </tr>\n",
       "    <tr>\n",
       "      <th>20</th>\n",
       "      <td>9289357</td>\n",
       "      <td>510067</td>\n",
       "      <td>0</td>\n",
       "      <td>625.200598</td>\n",
       "      <td>3</td>\n",
       "      <td>16347.592818</td>\n",
       "      <td>47</td>\n",
       "      <td>44</td>\n",
       "    </tr>\n",
       "    <tr>\n",
       "      <th>21</th>\n",
       "      <td>9289014</td>\n",
       "      <td>1010081</td>\n",
       "      <td>0</td>\n",
       "      <td>285.923529</td>\n",
       "      <td>2</td>\n",
       "      <td>16809.663556</td>\n",
       "      <td>45</td>\n",
       "      <td>43</td>\n",
       "    </tr>\n",
       "    <tr>\n",
       "      <th>22</th>\n",
       "      <td>9289066</td>\n",
       "      <td>1030063</td>\n",
       "      <td>0</td>\n",
       "      <td>319.392793</td>\n",
       "      <td>2</td>\n",
       "      <td>15576.685617</td>\n",
       "      <td>45</td>\n",
       "      <td>43</td>\n",
       "    </tr>\n",
       "    <tr>\n",
       "      <th>23</th>\n",
       "      <td>9289015</td>\n",
       "      <td>1040017</td>\n",
       "      <td>0</td>\n",
       "      <td>285.923529</td>\n",
       "      <td>2</td>\n",
       "      <td>18858.231802</td>\n",
       "      <td>43</td>\n",
       "      <td>41</td>\n",
       "    </tr>\n",
       "    <tr>\n",
       "      <th>24</th>\n",
       "      <td>9288622</td>\n",
       "      <td>1710168</td>\n",
       "      <td>0</td>\n",
       "      <td>659.058128</td>\n",
       "      <td>3</td>\n",
       "      <td>16756.667543</td>\n",
       "      <td>40</td>\n",
       "      <td>37</td>\n",
       "    </tr>\n",
       "    <tr>\n",
       "      <th>25</th>\n",
       "      <td>9296675</td>\n",
       "      <td>450110</td>\n",
       "      <td>0</td>\n",
       "      <td>1019.609190</td>\n",
       "      <td>3</td>\n",
       "      <td>10740.313325</td>\n",
       "      <td>36</td>\n",
       "      <td>33</td>\n",
       "    </tr>\n",
       "    <tr>\n",
       "      <th>26</th>\n",
       "      <td>9296684</td>\n",
       "      <td>460065</td>\n",
       "      <td>0</td>\n",
       "      <td>501.040761</td>\n",
       "      <td>2</td>\n",
       "      <td>9462.430065</td>\n",
       "      <td>33</td>\n",
       "      <td>31</td>\n",
       "    </tr>\n",
       "    <tr>\n",
       "      <th>27</th>\n",
       "      <td>9289134</td>\n",
       "      <td>1310131</td>\n",
       "      <td>0</td>\n",
       "      <td>516.425742</td>\n",
       "      <td>2</td>\n",
       "      <td>11167.993162</td>\n",
       "      <td>30</td>\n",
       "      <td>28</td>\n",
       "    </tr>\n",
       "    <tr>\n",
       "      <th>28</th>\n",
       "      <td>9288623</td>\n",
       "      <td>1750012</td>\n",
       "      <td>0</td>\n",
       "      <td>501.040761</td>\n",
       "      <td>2</td>\n",
       "      <td>10745.097772</td>\n",
       "      <td>28</td>\n",
       "      <td>26</td>\n",
       "    </tr>\n",
       "    <tr>\n",
       "      <th>29</th>\n",
       "      <td>9288927</td>\n",
       "      <td>1810080</td>\n",
       "      <td>0</td>\n",
       "      <td>456.351601</td>\n",
       "      <td>2</td>\n",
       "      <td>6483.078961</td>\n",
       "      <td>27</td>\n",
       "      <td>25</td>\n",
       "    </tr>\n",
       "    <tr>\n",
       "      <th>30</th>\n",
       "      <td>9296629</td>\n",
       "      <td>460067</td>\n",
       "      <td>0</td>\n",
       "      <td>798.756471</td>\n",
       "      <td>4</td>\n",
       "      <td>6580.905150</td>\n",
       "      <td>29</td>\n",
       "      <td>25</td>\n",
       "    </tr>\n",
       "    <tr>\n",
       "      <th>31</th>\n",
       "      <td>9296637</td>\n",
       "      <td>460069</td>\n",
       "      <td>0</td>\n",
       "      <td>798.756471</td>\n",
       "      <td>4</td>\n",
       "      <td>6580.905150</td>\n",
       "      <td>29</td>\n",
       "      <td>25</td>\n",
       "    </tr>\n",
       "    <tr>\n",
       "      <th>32</th>\n",
       "      <td>9288926</td>\n",
       "      <td>1820071</td>\n",
       "      <td>0</td>\n",
       "      <td>456.351601</td>\n",
       "      <td>2</td>\n",
       "      <td>5781.776328</td>\n",
       "      <td>24</td>\n",
       "      <td>22</td>\n",
       "    </tr>\n",
       "    <tr>\n",
       "      <th>33</th>\n",
       "      <td>9296910</td>\n",
       "      <td>40002</td>\n",
       "      <td>0</td>\n",
       "      <td>300.616297</td>\n",
       "      <td>2</td>\n",
       "      <td>8431.202072</td>\n",
       "      <td>22</td>\n",
       "      <td>20</td>\n",
       "    </tr>\n",
       "    <tr>\n",
       "      <th>34</th>\n",
       "      <td>9288779</td>\n",
       "      <td>1510067</td>\n",
       "      <td>0</td>\n",
       "      <td>594.462070</td>\n",
       "      <td>3</td>\n",
       "      <td>6343.360235</td>\n",
       "      <td>22</td>\n",
       "      <td>19</td>\n",
       "    </tr>\n",
       "    <tr>\n",
       "      <th>35</th>\n",
       "      <td>9296917</td>\n",
       "      <td>80002</td>\n",
       "      <td>0</td>\n",
       "      <td>519.765225</td>\n",
       "      <td>2</td>\n",
       "      <td>8895.083558</td>\n",
       "      <td>18</td>\n",
       "      <td>16</td>\n",
       "    </tr>\n",
       "    <tr>\n",
       "      <th>36</th>\n",
       "      <td>9296539</td>\n",
       "      <td>20008</td>\n",
       "      <td>0</td>\n",
       "      <td>6838.897434</td>\n",
       "      <td>14</td>\n",
       "      <td>10977.435025</td>\n",
       "      <td>24</td>\n",
       "      <td>10</td>\n",
       "    </tr>\n",
       "    <tr>\n",
       "      <th>37</th>\n",
       "      <td>9296534</td>\n",
       "      <td>10069</td>\n",
       "      <td>0</td>\n",
       "      <td>3526.246296</td>\n",
       "      <td>9</td>\n",
       "      <td>7575.224464</td>\n",
       "      <td>16</td>\n",
       "      <td>7</td>\n",
       "    </tr>\n",
       "    <tr>\n",
       "      <th>38</th>\n",
       "      <td>9289467</td>\n",
       "      <td>4050003</td>\n",
       "      <td>0</td>\n",
       "      <td>449.111192</td>\n",
       "      <td>2</td>\n",
       "      <td>44109.111403</td>\n",
       "      <td>4</td>\n",
       "      <td>2</td>\n",
       "    </tr>\n",
       "  </tbody>\n",
       "</table>\n",
       "</div>"
      ],
      "text/plain": [
       "    trip_id shape_id direction_id   min_meters  min_stop    max_meters  \\\n",
       "0   9288535   910132            0   832.866019         2  25107.200799   \n",
       "1   9288529   910131            0   565.808266         3  24385.983516   \n",
       "2   9288641  1730123            0   785.141960         2  31511.120110   \n",
       "3   9288170  1910295            0   559.250839         2  27466.876359   \n",
       "4   9288217  1920167            0  1029.767210         3  26019.972326   \n",
       "5   9288530   930147            0   832.866019         2  26047.441803   \n",
       "6   9288524   930151            0   565.808266         3  25326.224521   \n",
       "7   9288657  1720093            0   785.141960         2  27707.583406   \n",
       "8   9289237   220074            0   508.649783         2  23371.823040   \n",
       "9   9288525   920111            0   919.583082         2  23032.982595   \n",
       "10  9288534   920115            0   853.920336         3  22311.765313   \n",
       "11  9289269   230018            0   202.128115         2  19630.830976   \n",
       "12  9296820   710048            0   422.125366         2  19024.115916   \n",
       "13  9288638  1720091            0  1029.767210         3  21368.066305   \n",
       "14  9289195   210079            0   270.076841         2  17753.142233   \n",
       "15  9296672   410007            0   501.040761         2  17283.555602   \n",
       "16  9288956  1120046            0   578.822394         3  18222.051878   \n",
       "17  9288957  1110083            0   578.822394         3  19703.043969   \n",
       "18  9289341   610106            0   625.200598         3  18562.339122   \n",
       "19  9289755  1210143            0   256.590840         2  17286.824589   \n",
       "20  9289357   510067            0   625.200598         3  16347.592818   \n",
       "21  9289014  1010081            0   285.923529         2  16809.663556   \n",
       "22  9289066  1030063            0   319.392793         2  15576.685617   \n",
       "23  9289015  1040017            0   285.923529         2  18858.231802   \n",
       "24  9288622  1710168            0   659.058128         3  16756.667543   \n",
       "25  9296675   450110            0  1019.609190         3  10740.313325   \n",
       "26  9296684   460065            0   501.040761         2   9462.430065   \n",
       "27  9289134  1310131            0   516.425742         2  11167.993162   \n",
       "28  9288623  1750012            0   501.040761         2  10745.097772   \n",
       "29  9288927  1810080            0   456.351601         2   6483.078961   \n",
       "30  9296629   460067            0   798.756471         4   6580.905150   \n",
       "31  9296637   460069            0   798.756471         4   6580.905150   \n",
       "32  9288926  1820071            0   456.351601         2   5781.776328   \n",
       "33  9296910    40002            0   300.616297         2   8431.202072   \n",
       "34  9288779  1510067            0   594.462070         3   6343.360235   \n",
       "35  9296917    80002            0   519.765225         2   8895.083558   \n",
       "36  9296539    20008            0  6838.897434        14  10977.435025   \n",
       "37  9296534    10069            0  3526.246296         9   7575.224464   \n",
       "38  9289467  4050003            0   449.111192         2  44109.111403   \n",
       "\n",
       "    max_stop  stops_covered  \n",
       "0         80             78  \n",
       "1         80             77  \n",
       "2         79             77  \n",
       "3         76             74  \n",
       "4         77             74  \n",
       "5         76             74  \n",
       "6         76             73  \n",
       "7         73             71  \n",
       "8         71             69  \n",
       "9         66             64  \n",
       "10        66             63  \n",
       "11        65             63  \n",
       "12        60             58  \n",
       "13        59             56  \n",
       "14        58             56  \n",
       "15        58             56  \n",
       "16        57             54  \n",
       "17        56             53  \n",
       "18        53             50  \n",
       "19        51             49  \n",
       "20        47             44  \n",
       "21        45             43  \n",
       "22        45             43  \n",
       "23        43             41  \n",
       "24        40             37  \n",
       "25        36             33  \n",
       "26        33             31  \n",
       "27        30             28  \n",
       "28        28             26  \n",
       "29        27             25  \n",
       "30        29             25  \n",
       "31        29             25  \n",
       "32        24             22  \n",
       "33        22             20  \n",
       "34        22             19  \n",
       "35        18             16  \n",
       "36        24             10  \n",
       "37        16              7  \n",
       "38         4              2  "
      ]
     },
     "execution_count": 49,
     "metadata": {},
     "output_type": "execute_result"
    }
   ],
   "source": [
    "(test_many.route_coverage_summary()\n",
    " >> mutate(stops_covered = _.max_stop - _.min_stop)\n",
    " >> arrange(-_.stops_covered)\n",
    " >> filter(_.stops_covered > 1)\n",
    " >> distinct(_.shape_id, _keep_all=True)\n",
    ")"
   ]
  },
  {
   "cell_type": "code",
   "execution_count": 50,
   "id": "8d5f5214-db85-4bcd-b220-00de8eb33350",
   "metadata": {
    "tags": []
   },
   "outputs": [],
   "source": [
    "# test_many.map_stop_delays() ## broken/inf recursion (delay view check failing?)"
   ]
  },
  {
   "cell_type": "code",
   "execution_count": 51,
   "id": "4322ae39-83ff-44e4-abe2-86e23fb0c561",
   "metadata": {
    "tags": []
   },
   "outputs": [],
   "source": [
    "# test_many.map_segment_speeds(how = 'low_speeds')"
   ]
  },
  {
   "cell_type": "code",
   "execution_count": 52,
   "id": "dc9c909a-becc-4734-90bd-356286ec4795",
   "metadata": {},
   "outputs": [
    {
     "ename": "AttributeError",
     "evalue": "'RtAnalysis' object has no attribute 'segment_speed_view'",
     "output_type": "error",
     "traceback": [
      "\u001b[0;31m---------------------------------------------------------------------------\u001b[0m",
      "\u001b[0;31mAttributeError\u001b[0m                            Traceback (most recent call last)",
      "\u001b[0;32m/tmp/ipykernel_1263/1476309968.py\u001b[0m in \u001b[0;36m<module>\u001b[0;34m\u001b[0m\n\u001b[0;32m----> 1\u001b[0;31m \u001b[0mtest_many\u001b[0m\u001b[0;34m.\u001b[0m\u001b[0msegment_speed_view\u001b[0m\u001b[0;34m.\u001b[0m\u001b[0mshape_id\u001b[0m\u001b[0;34m.\u001b[0m\u001b[0mnunique\u001b[0m\u001b[0;34m(\u001b[0m\u001b[0;34m)\u001b[0m\u001b[0;34m\u001b[0m\u001b[0;34m\u001b[0m\u001b[0m\n\u001b[0m",
      "\u001b[0;31mAttributeError\u001b[0m: 'RtAnalysis' object has no attribute 'segment_speed_view'"
     ]
    }
   ],
   "source": [
    "test_many.segment_speed_view.shape_id.nunique()"
   ]
  },
  {
   "cell_type": "code",
   "execution_count": null,
   "id": "ee1cd5d3-f4b6-444c-bd32-c0094aba2d93",
   "metadata": {},
   "outputs": [],
   "source": [
    "colorscale = branca.colormap.step.RdYlGn_10.scale(vmin=0, \n",
    " vmax=30)\n",
    "colorscale.caption = \"Speed (miles per hour)\""
   ]
  },
  {
   "cell_type": "code",
   "execution_count": null,
   "id": "0a97afec-5d76-4354-ac38-6bf6e05867d9",
   "metadata": {
    "tags": []
   },
   "outputs": [],
   "source": [
    "m = test_many._generate_segment_map(how = 'low_speeds', colorscale = colorscale)"
   ]
  },
  {
   "cell_type": "code",
   "execution_count": null,
   "id": "4a19ecc6-bb27-46ea-9688-5aaa66ef51cf",
   "metadata": {},
   "outputs": [],
   "source": [
    "# m"
   ]
  },
  {
   "cell_type": "code",
   "execution_count": null,
   "id": "efa6b864-32bb-407d-881d-2ad8444e945f",
   "metadata": {},
   "outputs": [],
   "source": [
    "# m = example_vp_trip.detailed_speed_map()"
   ]
  },
  {
   "cell_type": "code",
   "execution_count": null,
   "id": "26b033a2-9888-4a0f-81d9-6dcf928e1108",
   "metadata": {},
   "outputs": [],
   "source": [
    "##TODO rewrite to not modify attributes!!\n",
    "\n",
    "# endpoint_delay_sum = (test_many.delay_view\n",
    "#  >> group_by(_.trip_id)\n",
    "#  >> filter(_.stop_sequence == _.stop_sequence.max())\n",
    "#  >> ungroup()\n",
    "#  >> mutate(total_delay = _.delay.sum())\n",
    "# )"
   ]
  },
  {
   "cell_type": "code",
   "execution_count": null,
   "id": "07255bc7-075a-4b9a-8f4d-01ab116440ba",
   "metadata": {},
   "outputs": [],
   "source": [
    "# starts = (test_many.delay_view\n",
    "#  >> group_by(_.trip_id)\n",
    "#  >> filter(_.stop_sequence == _.stop_sequence.min())\n",
    "#  >> ungroup()\n",
    "#  # >> mutate(total_delay = _.delay.sum())\n",
    "#  >> select(_.start_time == _.actual_time, _.trip_id, _.start_meters == _.shape_meters)\n",
    "# )"
   ]
  },
  {
   "cell_type": "code",
   "execution_count": null,
   "id": "3ca5c85a-d4da-4ac9-917e-a1ca4d7b6e62",
   "metadata": {},
   "outputs": [],
   "source": [
    "# speed_and_delay = endpoint_delay_sum >> inner_join(_, starts, on='trip_id')\n",
    "\n",
    "# speed_and_delay['seconds'] = speed_and_delay.apply(\n",
    "#     lambda x: (x.actual_time - x.start_time).seconds, axis=1)\n",
    "\n",
    "# speed_and_delay['trip_speed'] = (speed_and_delay.shape_meters - speed_and_delay.start_meters) / speed_and_delay.seconds\n",
    "\n",
    "# speed_and_delay['trip_speed_mph'] = speed_and_delay.trip_speed * MPH_PER_MPS\n",
    "\n",
    "# speed_and_delay['trip_speed_mph'].mean()"
   ]
  },
  {
   "cell_type": "code",
   "execution_count": null,
   "id": "404ec264-0768-4948-9f63-f14869898920",
   "metadata": {},
   "outputs": [],
   "source": []
  }
 ],
 "metadata": {
  "kernelspec": {
   "display_name": "Python 3 (ipykernel)",
   "language": "python",
   "name": "python3"
  },
  "language_info": {
   "codemirror_mode": {
    "name": "ipython",
    "version": 3
   },
   "file_extension": ".py",
   "mimetype": "text/x-python",
   "name": "python",
   "nbconvert_exporter": "python",
   "pygments_lexer": "ipython3",
   "version": "3.9.7"
  }
 },
 "nbformat": 4,
 "nbformat_minor": 5
}
