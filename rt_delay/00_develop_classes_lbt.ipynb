{
 "cells": [
  {
   "cell_type": "code",
   "execution_count": 1,
   "id": "0cc75cc8-125b-4099-bfb3-93a6cd0380cb",
   "metadata": {},
   "outputs": [
    {
     "name": "stderr",
     "output_type": "stream",
     "text": [
      "/Users/edasmalchi/miniconda3/envs/calitp/lib/python3.10/site-packages/google/cloud/bigquery/client.py:535: UserWarning: Cannot create BigQuery Storage client, the dependency google-cloud-bigquery-storage is not installed.\n",
      "  warnings.warn(\n"
     ]
    }
   ],
   "source": [
    "import os\n",
    "os.environ[\"CALITP_BQ_MAX_BYTES\"] = str(100_000_000_000)\n",
    "\n",
    "from calitp.tables import tbl\n",
    "from calitp import query_sql\n",
    "import calitp.magics\n",
    "\n",
    "import shared_utils\n",
    "import branca\n",
    "from utils import *\n",
    "\n",
    "from siuba import *\n",
    "import pandas as pd\n",
    "import geopandas as gpd\n",
    "import shapely\n",
    "\n",
    "import datetime as dt\n",
    "import time\n",
    "from zoneinfo import ZoneInfo\n",
    "\n",
    "import rt_analysis as rt\n",
    "import importlib"
   ]
  },
  {
   "cell_type": "markdown",
   "id": "85e01be9-f0aa-41e7-bcb2-6aede59b25a1",
   "metadata": {},
   "source": [
    "### Get and transform test data (Long Beach Transit, 170)"
   ]
  },
  {
   "cell_type": "code",
   "execution_count": 2,
   "id": "f3e3d00e-8bf5-4972-8aea-abcf92253424",
   "metadata": {},
   "outputs": [],
   "source": [
    "lbt_itp_id = 170"
   ]
  },
  {
   "cell_type": "code",
   "execution_count": 3,
   "id": "738545a2-d78b-4df5-a2e9-952125c37505",
   "metadata": {
    "tags": []
   },
   "outputs": [],
   "source": [
    "# %%sql -o lbt_positions\n",
    "\n",
    "# # get all vehicle positions on selected dates, for the feed with itp id 170, and url number 0\n",
    "# SELECT *\n",
    "# FROM `cal-itp-data-infra.gtfs_rt.vehicle_positions`\n",
    "# WHERE _FILE_NAME=\"gs://gtfs-data/rt-processed/vehicle_positions/vp_2021-12-01_170_0.parquet\"\n",
    "#     OR _FILE_NAME=\"gs://gtfs-data/rt-processed/vehicle_positions/vp_2021-11-30_170_0.parquet\"\n",
    "#     # OR _FILE_NAME=\"gs://gtfs-data/rt-processed/vehicle_positions/vp_2021-12-03_170_0.parquet\"\n",
    "#     # OR _FILE_NAME=\"gs://gtfs-data/rt-processed/vehicle_positions/vp_2021-12-04_170_0.parquet\"\n",
    "#     # OR _FILE_NAME=\"gs://gtfs-data/rt-processed/vehicle_positions/vp_2021-12-05_170_0.parquet\"\n",
    "#     # OR _FILE_NAME=\"gs://gtfs-data/rt-processed/vehicle_positions/vp_2021-12-06_170_0.parquet\"\n",
    "#     # OR _FILE_NAME=\"gs://gtfs-data/rt-processed/vehicle_positions/vp_2021-12-07_170_0.parquet\"\n",
    "# ORDER BY header_timestamp"
   ]
  },
  {
   "cell_type": "markdown",
   "id": "9e86e42d-8978-4ef2-b674-dbfa26c6702c",
   "metadata": {},
   "source": [
    "#### Reformat timestamps"
   ]
  },
  {
   "cell_type": "code",
   "execution_count": 4,
   "id": "e9620700-857e-4036-bad2-c1c15e7b4039",
   "metadata": {},
   "outputs": [],
   "source": [
    "# ## set system time\n",
    "# os.environ['TZ'] = 'America/Los_Angeles'\n",
    "# time.tzset()\n",
    "# time.tzname"
   ]
  },
  {
   "cell_type": "code",
   "execution_count": 5,
   "id": "93961407-fb64-46bc-8044-47b3c7f19b59",
   "metadata": {},
   "outputs": [],
   "source": [
    "# lbt_positions.vehicle_timestamp = lbt_positions.vehicle_timestamp.apply(convert_ts)\n",
    "# lbt_positions.header_timestamp = lbt_positions.header_timestamp.apply(convert_ts)"
   ]
  },
  {
   "cell_type": "code",
   "execution_count": 6,
   "id": "b376c866-82ef-4573-93d4-82f933cee7b6",
   "metadata": {},
   "outputs": [],
   "source": [
    "# lbt_positions.to_parquet(f'{GCS_FILE_PATH}lbt_positions.parquet')"
   ]
  },
  {
   "cell_type": "code",
   "execution_count": 7,
   "id": "fb99a04b-16d5-4748-a8fb-88f9f1c4c1d4",
   "metadata": {},
   "outputs": [],
   "source": [
    "lbt_positions = pd.read_parquet(f'{GCS_FILE_PATH}lbt_positions.parquet')"
   ]
  },
  {
   "cell_type": "code",
   "execution_count": 8,
   "id": "bad9dc13-f31b-4c08-8fd8-926658762fce",
   "metadata": {},
   "outputs": [],
   "source": [
    "pch_routes = ('171', '172', '173', '174', '175')"
   ]
  },
  {
   "cell_type": "code",
   "execution_count": 9,
   "id": "22d0c883-dcdf-4831-916a-ea1b82da1b0c",
   "metadata": {},
   "outputs": [],
   "source": [
    "# min_date, max_date = ('2021-11-01', '2021-11-30')\n",
    "\n",
    "# lbt_trips = (tbl.views.gtfs_schedule_fact_daily_trips()\n",
    "#     >> filter(_.calitp_extracted_at <= min_date, _.calitp_deleted_at > max_date)\n",
    "#     >> filter(_.calitp_itp_id == lbt_itp_id)\n",
    "#     >> filter(_.service_date == max_date)\n",
    "#     >> filter(_.is_in_service == True)\n",
    "#     >> select(_.trip_key, _.service_date)\n",
    "#     >> inner_join(_, tbl.views.gtfs_schedule_dim_trips(), on = 'trip_key')\n",
    "#     >> select(_.calitp_itp_id, _.calitp_url_number, _.service_date,\n",
    "#               _.trip_key, _.trip_id, _.route_id, _.direction_id,\n",
    "#               _.shape_id, _.calitp_extracted_at, _.calitp_deleted_at)\n",
    "#     # >> filter(_.route_id.isin(pch_routes))\n",
    "\n",
    "#     >> collect()\n",
    "#     )"
   ]
  },
  {
   "cell_type": "code",
   "execution_count": 10,
   "id": "5e3550e9-6be6-476e-aaa6-c12fe3f0505f",
   "metadata": {},
   "outputs": [],
   "source": [
    "# lbt_trips.to_parquet(f'{GCS_FILE_PATH}lbt_trips.parquet')"
   ]
  },
  {
   "cell_type": "code",
   "execution_count": 11,
   "id": "9e6b0bed-8669-467e-9cb0-0924165592ae",
   "metadata": {},
   "outputs": [],
   "source": [
    "lbt_trips = pd.read_parquet(f'{GCS_FILE_PATH}lbt_trips.parquet')"
   ]
  },
  {
   "cell_type": "code",
   "execution_count": 12,
   "id": "c61d00c8-6eeb-42ee-a870-0e9207c7fe50",
   "metadata": {},
   "outputs": [],
   "source": [
    "# stop_times = (tbl.gtfs_schedule.stop_times()\n",
    "#      >> filter(_.calitp_itp_id == 170)\n",
    "#      # >> filter(_.trip_id == '9288623')\n",
    "#      >> mutate(stop_sequence = _.stop_sequence.astype(int)) ## in SQL!\n",
    "#      >> arrange(_.stop_sequence)\n",
    "#      >> collect()\n",
    "#     )"
   ]
  },
  {
   "cell_type": "code",
   "execution_count": 13,
   "id": "06e3466b-dd02-4b31-8fe6-045b95c6a2a3",
   "metadata": {},
   "outputs": [],
   "source": [
    "# stop_times.to_parquet(f'{GCS_FILE_PATH}lbt_st.parquet')"
   ]
  },
  {
   "cell_type": "code",
   "execution_count": 14,
   "id": "f57e50be-02f9-45a2-b8b2-d684117077e2",
   "metadata": {},
   "outputs": [],
   "source": [
    "stop_times = pd.read_parquet(f'{GCS_FILE_PATH}lbt_st.parquet')"
   ]
  },
  {
   "cell_type": "code",
   "execution_count": 15,
   "id": "c75d36aa-437d-40e9-afbd-f06ecb2684f3",
   "metadata": {},
   "outputs": [],
   "source": [
    "# stops = (tbl.gtfs_schedule.stops()\n",
    "#      >> filter(_.calitp_itp_id == 170)\n",
    "#      # >> filter(_.trip_id == '9288623')\n",
    "#      # >> mutate(stop_sequence = _.stop_sequence.astype(int)) ## in SQL!\n",
    "#      # >> arrange(_.stop_sequence)\n",
    "#      >> select(_.calitp_itp_id, _.calitp_url_number, _.stop_id,\n",
    "#               _.stop_lat, _.stop_lon, _.stop_name)\n",
    "#      >> collect()\n",
    "#     )\n",
    "\n",
    "# stops = gpd.GeoDataFrame(stops, geometry=gpd.points_from_xy(stops.stop_lon, stops.stop_lat),\n",
    "#                         crs='EPSG:4326').to_crs(shared_utils.geography_utils.CA_NAD83Albers)"
   ]
  },
  {
   "cell_type": "code",
   "execution_count": 16,
   "id": "b9272195-7dc0-47dd-a5aa-11f4650a28ea",
   "metadata": {},
   "outputs": [],
   "source": [
    "# shared_utils.utils.geoparquet_gcs_export(stops, GCS_FILE_PATH, 'lbt_stops')"
   ]
  },
  {
   "cell_type": "code",
   "execution_count": 17,
   "id": "ec461965-2e8e-4924-a02d-ec2778841d01",
   "metadata": {},
   "outputs": [],
   "source": [
    "stops = gpd.read_parquet(f'{GCS_FILE_PATH}lbt_stops.parquet')"
   ]
  },
  {
   "cell_type": "code",
   "execution_count": 18,
   "id": "62fe3fbf-1d71-4010-a478-a76230b3ca8e",
   "metadata": {},
   "outputs": [],
   "source": [
    "trips_positions_joined = (lbt_trips\n",
    "                        # >> filter(_.route_id.isin(pch_routes))\n",
    "                        >> inner_join(_, (lbt_positions >> rename(trip_id = 'vehicle_trip_id')),\n",
    "                                      on= ['trip_id', 'calitp_itp_id', 'calitp_url_number'])\n",
    "                       )"
   ]
  },
  {
   "cell_type": "code",
   "execution_count": 19,
   "id": "8c4bf5d8-be49-4379-9bac-a04f4869260c",
   "metadata": {},
   "outputs": [
    {
     "data": {
      "text/plain": [
       "Timestamp('2021-12-01 11:15:59')"
      ]
     },
     "execution_count": 19,
     "metadata": {},
     "output_type": "execute_result"
    }
   ],
   "source": [
    "trips_positions_joined.vehicle_timestamp.max()"
   ]
  },
  {
   "cell_type": "code",
   "execution_count": 20,
   "id": "dabf0521-6f82-48c4-8664-95df875235c1",
   "metadata": {},
   "outputs": [
    {
     "data": {
      "text/plain": [
       "Timestamp('2021-11-29 15:57:13')"
      ]
     },
     "execution_count": 20,
     "metadata": {},
     "output_type": "execute_result"
    }
   ],
   "source": [
    "trips_positions_joined.vehicle_timestamp.min()"
   ]
  },
  {
   "cell_type": "code",
   "execution_count": 21,
   "id": "1194251c-6ec1-4614-b511-679bbea9eab3",
   "metadata": {},
   "outputs": [],
   "source": [
    "trips_positions_joined = gpd.GeoDataFrame(trips_positions_joined,\n",
    "                                geometry=gpd.points_from_xy(trips_positions_joined.vehicle_position_longitude,\n",
    "                                                            trips_positions_joined.vehicle_position_latitude),\n",
    "                                crs=shared_utils.geography_utils.WGS84).to_crs(shared_utils.geography_utils.CA_NAD83Albers)"
   ]
  },
  {
   "cell_type": "code",
   "execution_count": 22,
   "id": "25f7a355-4465-4bed-921b-c554c84ee842",
   "metadata": {},
   "outputs": [],
   "source": [
    "# lbt_routelines = shared_utils.geography_utils.make_routes_shapefile(['170'], ## LBT\n",
    "#                                 shared_utils.geography_utils.CA_NAD83Albers)"
   ]
  },
  {
   "cell_type": "code",
   "execution_count": 23,
   "id": "db170719-a873-4aab-b93b-e6d7ce48a7e1",
   "metadata": {},
   "outputs": [],
   "source": [
    "# shared_utils.utils.geoparquet_gcs_export(lbt_routelines, GCS_FILE_PATH, 'lbt_routelines')"
   ]
  },
  {
   "cell_type": "code",
   "execution_count": 24,
   "id": "6ce3128b-2c77-42ca-bbe6-75c7f38a70f1",
   "metadata": {},
   "outputs": [],
   "source": [
    "lbt_routelines = gpd.read_parquet(f'{GCS_FILE_PATH}lbt_routelines.parquet')"
   ]
  },
  {
   "cell_type": "code",
   "execution_count": 25,
   "id": "e042fcae-3be1-4bdc-9afa-6ddc870e0111",
   "metadata": {},
   "outputs": [],
   "source": [
    "trips_positions_joined = trips_positions_joined >> filter(_.vehicle_timestamp.apply(lambda x: x.day == 30))"
   ]
  },
  {
   "cell_type": "code",
   "execution_count": 26,
   "id": "1644eb2c-dcd3-4efb-b678-0e2cc999c2b9",
   "metadata": {},
   "outputs": [
    {
     "data": {
      "text/html": [
       "<div>\n",
       "<style scoped>\n",
       "    .dataframe tbody tr th:only-of-type {\n",
       "        vertical-align: middle;\n",
       "    }\n",
       "\n",
       "    .dataframe tbody tr th {\n",
       "        vertical-align: top;\n",
       "    }\n",
       "\n",
       "    .dataframe thead th {\n",
       "        text-align: right;\n",
       "    }\n",
       "</style>\n",
       "<table border=\"1\" class=\"dataframe\">\n",
       "  <thead>\n",
       "    <tr style=\"text-align: right;\">\n",
       "      <th></th>\n",
       "      <th>calitp_itp_id</th>\n",
       "      <th>calitp_url_number</th>\n",
       "      <th>service_date</th>\n",
       "      <th>trip_key</th>\n",
       "      <th>trip_id</th>\n",
       "      <th>route_id</th>\n",
       "      <th>direction_id</th>\n",
       "      <th>shape_id</th>\n",
       "      <th>calitp_extracted_at</th>\n",
       "      <th>calitp_deleted_at</th>\n",
       "      <th>entity_id</th>\n",
       "      <th>vehicle_id</th>\n",
       "      <th>vehicle_timestamp</th>\n",
       "      <th>vehicle_position_latitude</th>\n",
       "      <th>vehicle_position_longitude</th>\n",
       "      <th>header_timestamp</th>\n",
       "      <th>geometry</th>\n",
       "    </tr>\n",
       "  </thead>\n",
       "  <tbody>\n",
       "    <tr>\n",
       "      <th>285</th>\n",
       "      <td>170</td>\n",
       "      <td>0</td>\n",
       "      <td>2021-11-30</td>\n",
       "      <td>7580361081022204604</td>\n",
       "      <td>9296678</td>\n",
       "      <td>41</td>\n",
       "      <td>0</td>\n",
       "      <td>410007</td>\n",
       "      <td>2021-09-16</td>\n",
       "      <td>2099-01-01</td>\n",
       "      <td>2706</td>\n",
       "      <td>None</td>\n",
       "      <td>2021-11-30 17:50:18</td>\n",
       "      <td>33.78208</td>\n",
       "      <td>-118.11597</td>\n",
       "      <td>2021-11-30 17:50:38</td>\n",
       "      <td>POINT (174524.587 -468602.041)</td>\n",
       "    </tr>\n",
       "    <tr>\n",
       "      <th>286</th>\n",
       "      <td>170</td>\n",
       "      <td>0</td>\n",
       "      <td>2021-11-30</td>\n",
       "      <td>7580361081022204604</td>\n",
       "      <td>9296678</td>\n",
       "      <td>41</td>\n",
       "      <td>0</td>\n",
       "      <td>410007</td>\n",
       "      <td>2021-09-16</td>\n",
       "      <td>2099-01-01</td>\n",
       "      <td>2706</td>\n",
       "      <td>None</td>\n",
       "      <td>2021-11-30 17:50:18</td>\n",
       "      <td>33.78208</td>\n",
       "      <td>-118.11597</td>\n",
       "      <td>2021-11-30 17:50:38</td>\n",
       "      <td>POINT (174524.587 -468602.041)</td>\n",
       "    </tr>\n",
       "    <tr>\n",
       "      <th>287</th>\n",
       "      <td>170</td>\n",
       "      <td>0</td>\n",
       "      <td>2021-11-30</td>\n",
       "      <td>7580361081022204604</td>\n",
       "      <td>9296678</td>\n",
       "      <td>41</td>\n",
       "      <td>0</td>\n",
       "      <td>410007</td>\n",
       "      <td>2021-09-16</td>\n",
       "      <td>2099-01-01</td>\n",
       "      <td>2706</td>\n",
       "      <td>None</td>\n",
       "      <td>2021-11-30 17:50:18</td>\n",
       "      <td>33.78208</td>\n",
       "      <td>-118.11597</td>\n",
       "      <td>2021-11-30 17:51:08</td>\n",
       "      <td>POINT (174524.587 -468602.041)</td>\n",
       "    </tr>\n",
       "  </tbody>\n",
       "</table>\n",
       "</div>"
      ],
      "text/plain": [
       "     calitp_itp_id  calitp_url_number service_date             trip_key  \\\n",
       "285            170                  0   2021-11-30  7580361081022204604   \n",
       "286            170                  0   2021-11-30  7580361081022204604   \n",
       "287            170                  0   2021-11-30  7580361081022204604   \n",
       "\n",
       "     trip_id route_id direction_id shape_id calitp_extracted_at  \\\n",
       "285  9296678       41            0   410007          2021-09-16   \n",
       "286  9296678       41            0   410007          2021-09-16   \n",
       "287  9296678       41            0   410007          2021-09-16   \n",
       "\n",
       "    calitp_deleted_at entity_id vehicle_id   vehicle_timestamp  \\\n",
       "285        2099-01-01      2706       None 2021-11-30 17:50:18   \n",
       "286        2099-01-01      2706       None 2021-11-30 17:50:18   \n",
       "287        2099-01-01      2706       None 2021-11-30 17:50:18   \n",
       "\n",
       "     vehicle_position_latitude  vehicle_position_longitude  \\\n",
       "285                   33.78208                  -118.11597   \n",
       "286                   33.78208                  -118.11597   \n",
       "287                   33.78208                  -118.11597   \n",
       "\n",
       "       header_timestamp                        geometry  \n",
       "285 2021-11-30 17:50:38  POINT (174524.587 -468602.041)  \n",
       "286 2021-11-30 17:50:38  POINT (174524.587 -468602.041)  \n",
       "287 2021-11-30 17:51:08  POINT (174524.587 -468602.041)  "
      ]
     },
     "execution_count": 26,
     "metadata": {},
     "output_type": "execute_result"
    }
   ],
   "source": [
    "trips_positions_joined.head(3)"
   ]
  },
  {
   "cell_type": "code",
   "execution_count": 27,
   "id": "559e2369-e0cc-4f88-b725-fd41df5f0220",
   "metadata": {},
   "outputs": [
    {
     "data": {
      "text/html": [
       "<div>\n",
       "<style scoped>\n",
       "    .dataframe tbody tr th:only-of-type {\n",
       "        vertical-align: middle;\n",
       "    }\n",
       "\n",
       "    .dataframe tbody tr th {\n",
       "        vertical-align: top;\n",
       "    }\n",
       "\n",
       "    .dataframe thead th {\n",
       "        text-align: right;\n",
       "    }\n",
       "</style>\n",
       "<table border=\"1\" class=\"dataframe\">\n",
       "  <thead>\n",
       "    <tr style=\"text-align: right;\">\n",
       "      <th></th>\n",
       "      <th>calitp_itp_id</th>\n",
       "      <th>calitp_url_number</th>\n",
       "      <th>trip_id</th>\n",
       "      <th>stop_id</th>\n",
       "      <th>stop_sequence</th>\n",
       "      <th>arrival_time</th>\n",
       "      <th>departure_time</th>\n",
       "      <th>stop_headsign</th>\n",
       "      <th>pickup_type</th>\n",
       "      <th>drop_off_type</th>\n",
       "      <th>continuous_pickup</th>\n",
       "      <th>continuous_drop_off</th>\n",
       "      <th>shape_dist_traveled</th>\n",
       "      <th>timepoint</th>\n",
       "      <th>calitp_extracted_at</th>\n",
       "    </tr>\n",
       "  </thead>\n",
       "  <tbody>\n",
       "    <tr>\n",
       "      <th>0</th>\n",
       "      <td>170</td>\n",
       "      <td>0</td>\n",
       "      <td>9285982</td>\n",
       "      <td>0666</td>\n",
       "      <td>1</td>\n",
       "      <td>10:41:00</td>\n",
       "      <td>10:41:00</td>\n",
       "      <td>None</td>\n",
       "      <td>0</td>\n",
       "      <td>0</td>\n",
       "      <td>None</td>\n",
       "      <td>None</td>\n",
       "      <td>0.0</td>\n",
       "      <td>1</td>\n",
       "      <td>2021-12-17</td>\n",
       "    </tr>\n",
       "    <tr>\n",
       "      <th>1</th>\n",
       "      <td>170</td>\n",
       "      <td>0</td>\n",
       "      <td>9288986</td>\n",
       "      <td>4003</td>\n",
       "      <td>1</td>\n",
       "      <td>17:05:00</td>\n",
       "      <td>17:05:00</td>\n",
       "      <td>None</td>\n",
       "      <td>0</td>\n",
       "      <td>1</td>\n",
       "      <td>None</td>\n",
       "      <td>None</td>\n",
       "      <td>0.0</td>\n",
       "      <td>1</td>\n",
       "      <td>2021-12-17</td>\n",
       "    </tr>\n",
       "    <tr>\n",
       "      <th>2</th>\n",
       "      <td>170</td>\n",
       "      <td>0</td>\n",
       "      <td>9286129</td>\n",
       "      <td>4012</td>\n",
       "      <td>1</td>\n",
       "      <td>14:20:00</td>\n",
       "      <td>14:20:00</td>\n",
       "      <td>None</td>\n",
       "      <td>0</td>\n",
       "      <td>1</td>\n",
       "      <td>None</td>\n",
       "      <td>None</td>\n",
       "      <td>0.0</td>\n",
       "      <td>1</td>\n",
       "      <td>2021-12-17</td>\n",
       "    </tr>\n",
       "  </tbody>\n",
       "</table>\n",
       "</div>"
      ],
      "text/plain": [
       "   calitp_itp_id  calitp_url_number  trip_id stop_id  stop_sequence  \\\n",
       "0            170                  0  9285982    0666              1   \n",
       "1            170                  0  9288986    4003              1   \n",
       "2            170                  0  9286129    4012              1   \n",
       "\n",
       "  arrival_time departure_time stop_headsign pickup_type drop_off_type  \\\n",
       "0     10:41:00       10:41:00          None           0             0   \n",
       "1     17:05:00       17:05:00          None           0             1   \n",
       "2     14:20:00       14:20:00          None           0             1   \n",
       "\n",
       "  continuous_pickup continuous_drop_off shape_dist_traveled timepoint  \\\n",
       "0              None                None                 0.0         1   \n",
       "1              None                None                 0.0         1   \n",
       "2              None                None                 0.0         1   \n",
       "\n",
       "  calitp_extracted_at  \n",
       "0          2021-12-17  \n",
       "1          2021-12-17  \n",
       "2          2021-12-17  "
      ]
     },
     "execution_count": 27,
     "metadata": {},
     "output_type": "execute_result"
    }
   ],
   "source": [
    "stop_times.head(3)"
   ]
  },
  {
   "cell_type": "markdown",
   "id": "ddaed497-83b0-4faf-905d-498d920f0b14",
   "metadata": {},
   "source": [
    "## Vehicle Positions Trip class"
   ]
  },
  {
   "cell_type": "markdown",
   "id": "74900b4e-d7d7-426c-9c1e-1ff2919685fc",
   "metadata": {},
   "source": [
    "#### Examples"
   ]
  },
  {
   "cell_type": "code",
   "execution_count": 28,
   "id": "c17c2768-2501-4eea-9e5c-bdc9afcf7e73",
   "metadata": {},
   "outputs": [],
   "source": [
    "example_trip = (trips_positions_joined\n",
    " >> filter(_.trip_key == 1553149201202261125)\n",
    ")"
   ]
  },
  {
   "cell_type": "code",
   "execution_count": 29,
   "id": "1c00e606-bf0c-4d10-9e2a-7f3350698a0d",
   "metadata": {},
   "outputs": [
    {
     "data": {
      "text/html": [
       "<div>\n",
       "<style scoped>\n",
       "    .dataframe tbody tr th:only-of-type {\n",
       "        vertical-align: middle;\n",
       "    }\n",
       "\n",
       "    .dataframe tbody tr th {\n",
       "        vertical-align: top;\n",
       "    }\n",
       "\n",
       "    .dataframe thead th {\n",
       "        text-align: right;\n",
       "    }\n",
       "</style>\n",
       "<table border=\"1\" class=\"dataframe\">\n",
       "  <thead>\n",
       "    <tr style=\"text-align: right;\">\n",
       "      <th></th>\n",
       "      <th>calitp_itp_id</th>\n",
       "      <th>calitp_url_number</th>\n",
       "      <th>service_date</th>\n",
       "      <th>trip_key</th>\n",
       "      <th>trip_id</th>\n",
       "      <th>route_id</th>\n",
       "      <th>direction_id</th>\n",
       "      <th>shape_id</th>\n",
       "      <th>calitp_extracted_at</th>\n",
       "      <th>calitp_deleted_at</th>\n",
       "      <th>entity_id</th>\n",
       "      <th>vehicle_id</th>\n",
       "      <th>vehicle_timestamp</th>\n",
       "      <th>vehicle_position_latitude</th>\n",
       "      <th>vehicle_position_longitude</th>\n",
       "      <th>header_timestamp</th>\n",
       "      <th>geometry</th>\n",
       "    </tr>\n",
       "  </thead>\n",
       "  <tbody>\n",
       "    <tr>\n",
       "      <th>327364</th>\n",
       "      <td>170</td>\n",
       "      <td>0</td>\n",
       "      <td>2021-11-30</td>\n",
       "      <td>1553149201202261125</td>\n",
       "      <td>9288623</td>\n",
       "      <td>175</td>\n",
       "      <td>0</td>\n",
       "      <td>1750012</td>\n",
       "      <td>2021-09-16</td>\n",
       "      <td>2099-01-01</td>\n",
       "      <td>2901</td>\n",
       "      <td>None</td>\n",
       "      <td>2021-11-30 17:02:12</td>\n",
       "      <td>33.78207</td>\n",
       "      <td>-118.11569</td>\n",
       "      <td>2021-11-30 17:02:37</td>\n",
       "      <td>POINT (174550.543 -468602.634)</td>\n",
       "    </tr>\n",
       "    <tr>\n",
       "      <th>327365</th>\n",
       "      <td>170</td>\n",
       "      <td>0</td>\n",
       "      <td>2021-11-30</td>\n",
       "      <td>1553149201202261125</td>\n",
       "      <td>9288623</td>\n",
       "      <td>175</td>\n",
       "      <td>0</td>\n",
       "      <td>1750012</td>\n",
       "      <td>2021-09-16</td>\n",
       "      <td>2099-01-01</td>\n",
       "      <td>2901</td>\n",
       "      <td>None</td>\n",
       "      <td>2021-11-30 17:02:12</td>\n",
       "      <td>33.78207</td>\n",
       "      <td>-118.11569</td>\n",
       "      <td>2021-11-30 17:02:37</td>\n",
       "      <td>POINT (174550.543 -468602.634)</td>\n",
       "    </tr>\n",
       "    <tr>\n",
       "      <th>327366</th>\n",
       "      <td>170</td>\n",
       "      <td>0</td>\n",
       "      <td>2021-11-30</td>\n",
       "      <td>1553149201202261125</td>\n",
       "      <td>9288623</td>\n",
       "      <td>175</td>\n",
       "      <td>0</td>\n",
       "      <td>1750012</td>\n",
       "      <td>2021-09-16</td>\n",
       "      <td>2099-01-01</td>\n",
       "      <td>2901</td>\n",
       "      <td>None</td>\n",
       "      <td>2021-11-30 17:02:12</td>\n",
       "      <td>33.78207</td>\n",
       "      <td>-118.11569</td>\n",
       "      <td>2021-11-30 17:03:07</td>\n",
       "      <td>POINT (174550.543 -468602.634)</td>\n",
       "    </tr>\n",
       "  </tbody>\n",
       "</table>\n",
       "</div>"
      ],
      "text/plain": [
       "        calitp_itp_id  calitp_url_number service_date             trip_key  \\\n",
       "327364            170                  0   2021-11-30  1553149201202261125   \n",
       "327365            170                  0   2021-11-30  1553149201202261125   \n",
       "327366            170                  0   2021-11-30  1553149201202261125   \n",
       "\n",
       "        trip_id route_id direction_id shape_id calitp_extracted_at  \\\n",
       "327364  9288623      175            0  1750012          2021-09-16   \n",
       "327365  9288623      175            0  1750012          2021-09-16   \n",
       "327366  9288623      175            0  1750012          2021-09-16   \n",
       "\n",
       "       calitp_deleted_at entity_id vehicle_id   vehicle_timestamp  \\\n",
       "327364        2099-01-01      2901       None 2021-11-30 17:02:12   \n",
       "327365        2099-01-01      2901       None 2021-11-30 17:02:12   \n",
       "327366        2099-01-01      2901       None 2021-11-30 17:02:12   \n",
       "\n",
       "        vehicle_position_latitude  vehicle_position_longitude  \\\n",
       "327364                   33.78207                  -118.11569   \n",
       "327365                   33.78207                  -118.11569   \n",
       "327366                   33.78207                  -118.11569   \n",
       "\n",
       "          header_timestamp                        geometry  \n",
       "327364 2021-11-30 17:02:37  POINT (174550.543 -468602.634)  \n",
       "327365 2021-11-30 17:02:37  POINT (174550.543 -468602.634)  \n",
       "327366 2021-11-30 17:03:07  POINT (174550.543 -468602.634)  "
      ]
     },
     "execution_count": 29,
     "metadata": {},
     "output_type": "execute_result"
    }
   ],
   "source": [
    "example_trip.head(3)"
   ]
  },
  {
   "cell_type": "code",
   "execution_count": 30,
   "id": "b0ffcaec-d642-4c54-a204-5f4ce21c0856",
   "metadata": {
    "tags": []
   },
   "outputs": [
    {
     "name": "stdout",
     "output_type": "stream",
     "text": [
      "sc_called\n",
      "(59, 4)\n"
     ]
    }
   ],
   "source": [
    "example_vp_trip = rt.VehiclePositionsTrip(example_trip, lbt_routelines)"
   ]
  },
  {
   "cell_type": "code",
   "execution_count": 31,
   "id": "215d5b6f-c521-444c-9a41-b34e83fabcaa",
   "metadata": {},
   "outputs": [
    {
     "data": {
      "text/html": [
       "<div>\n",
       "<style scoped>\n",
       "    .dataframe tbody tr th:only-of-type {\n",
       "        vertical-align: middle;\n",
       "    }\n",
       "\n",
       "    .dataframe tbody tr th {\n",
       "        vertical-align: top;\n",
       "    }\n",
       "\n",
       "    .dataframe thead th {\n",
       "        text-align: right;\n",
       "    }\n",
       "</style>\n",
       "<table border=\"1\" class=\"dataframe\">\n",
       "  <thead>\n",
       "    <tr style=\"text-align: right;\">\n",
       "      <th></th>\n",
       "      <th>vehicle_timestamp</th>\n",
       "      <th>header_timestamp</th>\n",
       "      <th>geometry</th>\n",
       "      <th>shape_meters</th>\n",
       "      <th>last_time</th>\n",
       "      <th>last_loc</th>\n",
       "      <th>secs_from_last</th>\n",
       "      <th>meters_from_last</th>\n",
       "      <th>progressed</th>\n",
       "      <th>speed_from_last</th>\n",
       "    </tr>\n",
       "  </thead>\n",
       "  <tbody>\n",
       "    <tr>\n",
       "      <th>0</th>\n",
       "      <td>2021-11-30 17:02:12</td>\n",
       "      <td>2021-11-30 17:02:37</td>\n",
       "      <td>POINT (174550.543 -468602.634)</td>\n",
       "      <td>74.859821</td>\n",
       "      <td>NaT</td>\n",
       "      <td>NaN</td>\n",
       "      <td>NaN</td>\n",
       "      <td>NaN</td>\n",
       "      <td>False</td>\n",
       "      <td>NaN</td>\n",
       "    </tr>\n",
       "    <tr>\n",
       "      <th>1</th>\n",
       "      <td>2021-11-30 17:03:13</td>\n",
       "      <td>2021-11-30 17:03:37</td>\n",
       "      <td>POINT (174199.449 -468606.611)</td>\n",
       "      <td>426.426159</td>\n",
       "      <td>2021-11-30 17:02:12</td>\n",
       "      <td>74.859821</td>\n",
       "      <td>61.0</td>\n",
       "      <td>351.566339</td>\n",
       "      <td>True</td>\n",
       "      <td>5.763383</td>\n",
       "    </tr>\n",
       "    <tr>\n",
       "      <th>2</th>\n",
       "      <td>2021-11-30 17:04:13</td>\n",
       "      <td>2021-11-30 17:04:37</td>\n",
       "      <td>POINT (173950.226 -468607.891)</td>\n",
       "      <td>676.381408</td>\n",
       "      <td>2021-11-30 17:03:13</td>\n",
       "      <td>426.426159</td>\n",
       "      <td>60.0</td>\n",
       "      <td>249.955248</td>\n",
       "      <td>True</td>\n",
       "      <td>4.165921</td>\n",
       "    </tr>\n",
       "  </tbody>\n",
       "</table>\n",
       "</div>"
      ],
      "text/plain": [
       "    vehicle_timestamp    header_timestamp                        geometry  \\\n",
       "0 2021-11-30 17:02:12 2021-11-30 17:02:37  POINT (174550.543 -468602.634)   \n",
       "1 2021-11-30 17:03:13 2021-11-30 17:03:37  POINT (174199.449 -468606.611)   \n",
       "2 2021-11-30 17:04:13 2021-11-30 17:04:37  POINT (173950.226 -468607.891)   \n",
       "\n",
       "   shape_meters           last_time    last_loc  secs_from_last  \\\n",
       "0     74.859821                 NaT         NaN             NaN   \n",
       "1    426.426159 2021-11-30 17:02:12   74.859821            61.0   \n",
       "2    676.381408 2021-11-30 17:03:13  426.426159            60.0   \n",
       "\n",
       "   meters_from_last  progressed  speed_from_last  \n",
       "0               NaN       False              NaN  \n",
       "1        351.566339        True         5.763383  \n",
       "2        249.955248        True         4.165921  "
      ]
     },
     "execution_count": 31,
     "metadata": {},
     "output_type": "execute_result"
    }
   ],
   "source": [
    "example_vp_trip.vehicle_positions.head(3)"
   ]
  },
  {
   "cell_type": "code",
   "execution_count": 32,
   "id": "8c9a8cd0-d689-4f1d-9833-e19e2d06c69a",
   "metadata": {},
   "outputs": [
    {
     "data": {
      "text/plain": [
       "Timestamp('2021-11-30 17:03:42.663032')"
      ]
     },
     "execution_count": 32,
     "metadata": {},
     "output_type": "execute_result"
    }
   ],
   "source": [
    "example_vp_trip.time_at_position(550) ## interpolate time at 550 meters from start of route (shape_meters in df^)"
   ]
  },
  {
   "cell_type": "code",
   "execution_count": 33,
   "id": "6f46696a-a75c-4b9d-b2e5-94c5431c553a",
   "metadata": {},
   "outputs": [],
   "source": [
    "# example_vp_trip.detailed_speed_map()"
   ]
  },
  {
   "cell_type": "code",
   "execution_count": 34,
   "id": "a08dddb7-175e-4fc9-8d7f-806e789cb664",
   "metadata": {},
   "outputs": [
    {
     "data": {
      "text/plain": [
       "<module 'rt_analysis2' from '/Users/edasmalchi/calitp/data-analyses/rt_delay/rt_analysis2.py'>"
      ]
     },
     "execution_count": 34,
     "metadata": {},
     "output_type": "execute_result"
    }
   ],
   "source": [
    "importlib.reload(rt)"
   ]
  },
  {
   "cell_type": "code",
   "execution_count": 35,
   "id": "26aab3fc-56c0-4cac-a679-e045708f39a2",
   "metadata": {},
   "outputs": [],
   "source": [
    "# example_vp_trip2 = rt.VehiclePositionsInterpolator(example_trip, lbt_routelines)"
   ]
  },
  {
   "cell_type": "code",
   "execution_count": 36,
   "id": "9117f589-633b-492c-b50c-95871fd2188f",
   "metadata": {},
   "outputs": [],
   "source": [
    "# example_vp_trip2.time_at_position(550) ## interpolate time at 550 meters from start of route (shape_meters in df^)"
   ]
  },
  {
   "cell_type": "code",
   "execution_count": 37,
   "id": "e6e601b6-61d3-4d25-85f8-91b1c0b07b56",
   "metadata": {},
   "outputs": [],
   "source": [
    "# example_vp_trip2.detailed_speed_map()"
   ]
  },
  {
   "cell_type": "markdown",
   "id": "abdd02a0-9b31-4782-9c74-032cf81d4515",
   "metadata": {},
   "source": [
    "### rt"
   ]
  },
  {
   "cell_type": "markdown",
   "id": "63ca6dbc-5c3a-4bc4-b9f0-ebbf19e9257d",
   "metadata": {},
   "source": [
    "one_trip = lbt_trips >> filter(_.trip_key == 3082123411846948636) >> select(-_.calitp_deleted_at,\n",
    "                                                                           -_.calitp_extracted_at)\n",
    "\n",
    "trip_st_gdf = test_analysis.st_geo >> inner_join(_, one_trip,\n",
    "                                           on = ['calitp_itp_id', 'calitp_url_number', 'trip_id'])## General RT Analysis class"
   ]
  },
  {
   "cell_type": "code",
   "execution_count": 38,
   "id": "e0db9df7-6d38-4461-94a2-56824db0b50e",
   "metadata": {},
   "outputs": [
    {
     "data": {
      "text/html": [
       "<div>\n",
       "<style scoped>\n",
       "    .dataframe tbody tr th:only-of-type {\n",
       "        vertical-align: middle;\n",
       "    }\n",
       "\n",
       "    .dataframe tbody tr th {\n",
       "        vertical-align: top;\n",
       "    }\n",
       "\n",
       "    .dataframe thead th {\n",
       "        text-align: right;\n",
       "    }\n",
       "</style>\n",
       "<table border=\"1\" class=\"dataframe\">\n",
       "  <thead>\n",
       "    <tr style=\"text-align: right;\">\n",
       "      <th></th>\n",
       "      <th>trip_key</th>\n",
       "      <th>max_time</th>\n",
       "    </tr>\n",
       "  </thead>\n",
       "  <tbody>\n",
       "    <tr>\n",
       "      <th>4</th>\n",
       "      <td>-5374575435373645071</td>\n",
       "      <td>2021-11-30 07:14:16</td>\n",
       "    </tr>\n",
       "    <tr>\n",
       "      <th>12</th>\n",
       "      <td>3082123411846948636</td>\n",
       "      <td>2021-11-30 07:54:17</td>\n",
       "    </tr>\n",
       "    <tr>\n",
       "      <th>0</th>\n",
       "      <td>-8296488155279914403</td>\n",
       "      <td>2021-11-30 08:38:01</td>\n",
       "    </tr>\n",
       "    <tr>\n",
       "      <th>1</th>\n",
       "      <td>-7508921904019176003</td>\n",
       "      <td>2021-11-30 09:15:30</td>\n",
       "    </tr>\n",
       "    <tr>\n",
       "      <th>14</th>\n",
       "      <td>4908653065062143760</td>\n",
       "      <td>2021-11-30 09:54:22</td>\n",
       "    </tr>\n",
       "    <tr>\n",
       "      <th>5</th>\n",
       "      <td>-4201736542695259394</td>\n",
       "      <td>2021-11-30 10:35:43</td>\n",
       "    </tr>\n",
       "  </tbody>\n",
       "</table>\n",
       "</div>"
      ],
      "text/plain": [
       "               trip_key            max_time\n",
       "4  -5374575435373645071 2021-11-30 07:14:16\n",
       "12  3082123411846948636 2021-11-30 07:54:17\n",
       "0  -8296488155279914403 2021-11-30 08:38:01\n",
       "1  -7508921904019176003 2021-11-30 09:15:30\n",
       "14  4908653065062143760 2021-11-30 09:54:22\n",
       "5  -4201736542695259394 2021-11-30 10:35:43"
      ]
     },
     "execution_count": 38,
     "metadata": {},
     "output_type": "execute_result"
    }
   ],
   "source": [
    "example_trips = (trips_positions_joined\n",
    " >> filter(_.route_id == '175', _.direction_id == '0') ## towards Villages at Cabrillo\n",
    " >> group_by(_.trip_key)\n",
    " >> summarize(max_time = _.vehicle_timestamp.max())\n",
    " >> arrange(_.max_time)\n",
    " >> head(6) ## afternoon/evening\n",
    ")\n",
    "example_trips"
   ]
  },
  {
   "cell_type": "code",
   "execution_count": 39,
   "id": "1f5885d0-fb37-41e0-9c68-b0ce5d0e0e32",
   "metadata": {
    "tags": []
   },
   "outputs": [],
   "source": [
    "%%capture\n",
    "## suppress warnings from location data inaccuracies\n",
    "## generate test analysis with a small subset of LBT trips on a particular route, time, direction\n",
    "test_analysis = rt.RtAnalysis(trips_positions_joined, stop_times, stops, lbt_routelines, example_trips.trip_key)"
   ]
  },
  {
   "cell_type": "code",
   "execution_count": 40,
   "id": "b6e0aae8-4222-4512-967b-e4d37c684bfc",
   "metadata": {
    "tags": []
   },
   "outputs": [],
   "source": [
    "%%capture\n",
    "## suppress warnings from start/end of routes\n",
    "all_delays = test_analysis.generate_delay_view()"
   ]
  },
  {
   "cell_type": "code",
   "execution_count": 41,
   "id": "12b5c355-bf96-4bd3-8930-0459f5e47b70",
   "metadata": {
    "tags": []
   },
   "outputs": [],
   "source": [
    "all_summary = test_analysis.generate_delay_summary()"
   ]
  },
  {
   "cell_type": "code",
   "execution_count": 42,
   "id": "6c7e394c-b4f0-454a-ac23-e90b6d502b3e",
   "metadata": {},
   "outputs": [
    {
     "data": {
      "text/html": [
       "<div>\n",
       "<style scoped>\n",
       "    .dataframe tbody tr th:only-of-type {\n",
       "        vertical-align: middle;\n",
       "    }\n",
       "\n",
       "    .dataframe tbody tr th {\n",
       "        vertical-align: top;\n",
       "    }\n",
       "\n",
       "    .dataframe thead th {\n",
       "        text-align: right;\n",
       "    }\n",
       "</style>\n",
       "<table border=\"1\" class=\"dataframe\">\n",
       "  <thead>\n",
       "    <tr style=\"text-align: right;\">\n",
       "      <th></th>\n",
       "      <th>stop_id</th>\n",
       "      <th>geometry</th>\n",
       "      <th>stop_sequence</th>\n",
       "      <th>avg_delay</th>\n",
       "      <th>max_delay</th>\n",
       "    </tr>\n",
       "  </thead>\n",
       "  <tbody>\n",
       "    <tr>\n",
       "      <th>0</th>\n",
       "      <td>1027</td>\n",
       "      <td>POINT (174124.462 -468604.478)</td>\n",
       "      <td>2</td>\n",
       "      <td>0 days 00:01:26.461179666</td>\n",
       "      <td>0 days 00:04:11.391939</td>\n",
       "    </tr>\n",
       "    <tr>\n",
       "      <th>1</th>\n",
       "      <td>0540</td>\n",
       "      <td>POINT (173921.407 -468897.107)</td>\n",
       "      <td>3</td>\n",
       "      <td>0 days 00:01:07.978936200</td>\n",
       "      <td>0 days 00:04:28.869841</td>\n",
       "    </tr>\n",
       "    <tr>\n",
       "      <th>2</th>\n",
       "      <td>0542</td>\n",
       "      <td>POINT (173328.363 -468647.513)</td>\n",
       "      <td>4</td>\n",
       "      <td>0 days 00:00:39.879097333</td>\n",
       "      <td>0 days 00:03:58.595300</td>\n",
       "    </tr>\n",
       "    <tr>\n",
       "      <th>3</th>\n",
       "      <td>0543</td>\n",
       "      <td>POINT (173108.288 -468477.715)</td>\n",
       "      <td>5</td>\n",
       "      <td>0 days 00:00:38.508076</td>\n",
       "      <td>0 days 00:03:32.985090</td>\n",
       "    </tr>\n",
       "    <tr>\n",
       "      <th>4</th>\n",
       "      <td>0544</td>\n",
       "      <td>POINT (173001.551 -468534.279)</td>\n",
       "      <td>6</td>\n",
       "      <td>0 days 00:01:56.218866833</td>\n",
       "      <td>0 days 00:03:37.018538</td>\n",
       "    </tr>\n",
       "  </tbody>\n",
       "</table>\n",
       "</div>"
      ],
      "text/plain": [
       "  stop_id                        geometry  stop_sequence  \\\n",
       "0    1027  POINT (174124.462 -468604.478)              2   \n",
       "1    0540  POINT (173921.407 -468897.107)              3   \n",
       "2    0542  POINT (173328.363 -468647.513)              4   \n",
       "3    0543  POINT (173108.288 -468477.715)              5   \n",
       "4    0544  POINT (173001.551 -468534.279)              6   \n",
       "\n",
       "                  avg_delay              max_delay  \n",
       "0 0 days 00:01:26.461179666 0 days 00:04:11.391939  \n",
       "1 0 days 00:01:07.978936200 0 days 00:04:28.869841  \n",
       "2 0 days 00:00:39.879097333 0 days 00:03:58.595300  \n",
       "3    0 days 00:00:38.508076 0 days 00:03:32.985090  \n",
       "4 0 days 00:01:56.218866833 0 days 00:03:37.018538  "
      ]
     },
     "execution_count": 42,
     "metadata": {},
     "output_type": "execute_result"
    }
   ],
   "source": [
    "all_summary.head(5)"
   ]
  },
  {
   "cell_type": "code",
   "execution_count": 43,
   "id": "182e64ef-82de-41f5-8a4f-8bfb6c1637f0",
   "metadata": {},
   "outputs": [],
   "source": [
    "# test_analysis.map_stop_delays(how = 'average') ## to refine, add hover, legend, etc..."
   ]
  },
  {
   "cell_type": "code",
   "execution_count": 44,
   "id": "909ed8b2-32ff-42b6-a49a-ea45ebd92318",
   "metadata": {
    "tags": []
   },
   "outputs": [],
   "source": [
    "# test_analysis.map_segment_speeds(how = 'low_speeds')"
   ]
  },
  {
   "cell_type": "code",
   "execution_count": 45,
   "id": "86ac78ba-502b-4455-a909-0053e483d9a1",
   "metadata": {},
   "outputs": [],
   "source": [
    "# test_analysis.segment_speed_view"
   ]
  },
  {
   "cell_type": "code",
   "execution_count": 46,
   "id": "3dc59c6a-d83d-4347-ad0d-2d36a6e5a5f9",
   "metadata": {},
   "outputs": [],
   "source": [
    "# test_analysis.map_stop_delays()"
   ]
  },
  {
   "cell_type": "markdown",
   "id": "8019a504-d4f0-4047-b7f5-e4034939b0cf",
   "metadata": {},
   "source": [
    "## Big Analysis"
   ]
  },
  {
   "cell_type": "code",
   "execution_count": 47,
   "id": "e2fdb7a2-d3dc-4911-9915-bf4ec7ce932f",
   "metadata": {},
   "outputs": [],
   "source": [
    "one_route = trips_positions_joined >> filter(_.route_id == '175', _.direction_id == '0')"
   ]
  },
  {
   "cell_type": "code",
   "execution_count": 48,
   "id": "af493482-6f98-4267-bd7c-e5918d142da7",
   "metadata": {},
   "outputs": [],
   "source": [
    "one_route = one_route >> distinct(_.trip_key)"
   ]
  },
  {
   "cell_type": "code",
   "execution_count": 49,
   "id": "a5917100-8c30-4fcb-9399-b43fc6535012",
   "metadata": {
    "tags": []
   },
   "outputs": [],
   "source": [
    "# pm_peak = (trips_positions_joined\n",
    "#  >> filter(_.direction_id == '0') ## towards \n",
    "#  >> filter((_.vehicle_timestamp.apply(lambda x: x.hour < 20))\n",
    "#            & (_.vehicle_timestamp.apply(lambda x: x.hour > 16))) ## 4-8pm\n",
    "#  >> mutate(timestamp_day = _.vehicle_timestamp.apply(lambda x: x.day))\n",
    "#  # >> mutate(timestamp_hour = _.vehicle_timestamp.apply(lambda x: x.hour))\n",
    "#  # >> filter((_.timestamp_hour < 20)\n",
    "#  #           & (_.timestamp_hour > 16)) ## 4-8pm >> group_by(_.trip_id)\n",
    "#  >> filter(_.timestamp_day == 30)\n",
    "#  >> group_by(_.trip_key)\n",
    "#  >> summarize(max_time = _.vehicle_timestamp.max())\n",
    "#  >> arrange(_.max_time)\n",
    "#  # >> head(40) ## afternoon/evening\n",
    "# )\n",
    "# pm_peak"
   ]
  },
  {
   "cell_type": "code",
   "execution_count": 51,
   "id": "6f99847c-f325-46ad-93a0-8744c7bba87e",
   "metadata": {
    "collapsed": true,
    "jupyter": {
     "outputs_hidden": true
    },
    "tags": []
   },
   "outputs": [
    {
     "name": "stdout",
     "output_type": "stream",
     "text": [
      "sc_called\n",
      "(64, 4)\n",
      "check location data for trip 455744925409073394\n",
      "sc_called\n",
      "(40, 10)\n",
      "sc_called\n",
      "(52, 4)\n",
      "check location data for trip -3729871019479677706\n",
      "sc_called\n",
      "(38, 10)\n",
      "check location data for trip -3729871019479677706\n",
      "sc_called\n",
      "(36, 10)\n",
      "check location data for trip -3729871019479677706\n",
      "sc_called\n",
      "(34, 10)\n",
      "sc_called\n",
      "(61, 4)\n",
      "check location data for trip 5906203065431207719\n",
      "sc_called\n",
      "(42, 10)\n",
      "check location data for trip 5906203065431207719\n",
      "sc_called\n",
      "(38, 10)\n",
      "sc_called\n",
      "(73, 4)\n",
      "check location data for trip 6978398524389426859\n",
      "sc_called\n",
      "(49, 10)\n",
      "check location data for trip 6978398524389426859\n",
      "sc_called\n",
      "(44, 10)\n",
      "check location data for trip 6978398524389426859\n",
      "sc_called\n",
      "(41, 10)\n",
      "check location data for trip 6978398524389426859\n",
      "sc_called\n",
      "(38, 10)\n",
      "sc_called\n",
      "(63, 4)\n",
      "check location data for trip -8296488155279914403\n",
      "sc_called\n",
      "(47, 10)\n",
      "check location data for trip -8296488155279914403\n",
      "sc_called\n",
      "(42, 10)\n",
      "sc_called\n",
      "(56, 4)\n",
      "sc_called\n",
      "(55, 4)\n",
      "sc_called\n",
      "(60, 4)\n",
      "check location data for trip -6507058681082383946\n",
      "sc_called\n",
      "(41, 10)\n",
      "check location data for trip -6507058681082383946\n",
      "sc_called\n",
      "(35, 10)\n",
      "check location data for trip -6507058681082383946\n",
      "sc_called\n",
      "(32, 10)\n",
      "check location data for trip -6507058681082383946\n",
      "sc_called\n",
      "(30, 10)\n",
      "sc_called\n",
      "(64, 4)\n",
      "check location data for trip -1679722060992706526\n",
      "sc_called\n",
      "(48, 10)\n",
      "check location data for trip -1679722060992706526\n",
      "sc_called\n",
      "(44, 10)\n",
      "sc_called\n",
      "(59, 4)\n",
      "sc_called\n",
      "(47, 4)\n",
      "sc_called\n",
      "(57, 4)\n",
      "sc_called\n",
      "(55, 4)\n",
      "check location data for trip 5395369392703285893\n",
      "sc_called\n",
      "(38, 10)\n",
      "sc_called\n",
      "(56, 4)\n",
      "check location data for trip 4908653065062143760\n",
      "sc_called\n",
      "(35, 10)\n"
     ]
    },
    {
     "name": "stderr",
     "output_type": "stream",
     "text": [
      "/Users/edasmalchi/miniconda3/envs/calitp/lib/python3.10/site-packages/geopandas/geodataframe.py:1351: SettingWithCopyWarning: \n",
      "A value is trying to be set on a copy of a slice from a DataFrame.\n",
      "Try using .loc[row_indexer,col_indexer] = value instead\n",
      "\n",
      "See the caveats in the documentation: https://pandas.pydata.org/pandas-docs/stable/user_guide/indexing.html#returning-a-view-versus-a-copy\n",
      "  super().__setitem__(key, value)\n",
      "/Users/edasmalchi/miniconda3/envs/calitp/lib/python3.10/site-packages/geopandas/geodataframe.py:1351: SettingWithCopyWarning: \n",
      "A value is trying to be set on a copy of a slice from a DataFrame.\n",
      "Try using .loc[row_indexer,col_indexer] = value instead\n",
      "\n",
      "See the caveats in the documentation: https://pandas.pydata.org/pandas-docs/stable/user_guide/indexing.html#returning-a-view-versus-a-copy\n",
      "  super().__setitem__(key, value)\n",
      "/Users/edasmalchi/miniconda3/envs/calitp/lib/python3.10/site-packages/geopandas/geodataframe.py:1351: SettingWithCopyWarning: \n",
      "A value is trying to be set on a copy of a slice from a DataFrame.\n",
      "Try using .loc[row_indexer,col_indexer] = value instead\n",
      "\n",
      "See the caveats in the documentation: https://pandas.pydata.org/pandas-docs/stable/user_guide/indexing.html#returning-a-view-versus-a-copy\n",
      "  super().__setitem__(key, value)\n",
      "/Users/edasmalchi/miniconda3/envs/calitp/lib/python3.10/site-packages/geopandas/geodataframe.py:1351: SettingWithCopyWarning: \n",
      "A value is trying to be set on a copy of a slice from a DataFrame.\n",
      "Try using .loc[row_indexer,col_indexer] = value instead\n",
      "\n",
      "See the caveats in the documentation: https://pandas.pydata.org/pandas-docs/stable/user_guide/indexing.html#returning-a-view-versus-a-copy\n",
      "  super().__setitem__(key, value)\n",
      "/Users/edasmalchi/miniconda3/envs/calitp/lib/python3.10/site-packages/geopandas/geodataframe.py:1351: SettingWithCopyWarning: \n",
      "A value is trying to be set on a copy of a slice from a DataFrame.\n",
      "Try using .loc[row_indexer,col_indexer] = value instead\n",
      "\n",
      "See the caveats in the documentation: https://pandas.pydata.org/pandas-docs/stable/user_guide/indexing.html#returning-a-view-versus-a-copy\n",
      "  super().__setitem__(key, value)\n",
      "/Users/edasmalchi/miniconda3/envs/calitp/lib/python3.10/site-packages/geopandas/geodataframe.py:1351: SettingWithCopyWarning: \n",
      "A value is trying to be set on a copy of a slice from a DataFrame.\n",
      "Try using .loc[row_indexer,col_indexer] = value instead\n",
      "\n",
      "See the caveats in the documentation: https://pandas.pydata.org/pandas-docs/stable/user_guide/indexing.html#returning-a-view-versus-a-copy\n",
      "  super().__setitem__(key, value)\n",
      "/Users/edasmalchi/miniconda3/envs/calitp/lib/python3.10/site-packages/geopandas/geodataframe.py:1351: SettingWithCopyWarning: \n",
      "A value is trying to be set on a copy of a slice from a DataFrame.\n",
      "Try using .loc[row_indexer,col_indexer] = value instead\n",
      "\n",
      "See the caveats in the documentation: https://pandas.pydata.org/pandas-docs/stable/user_guide/indexing.html#returning-a-view-versus-a-copy\n",
      "  super().__setitem__(key, value)\n",
      "/Users/edasmalchi/miniconda3/envs/calitp/lib/python3.10/site-packages/geopandas/geodataframe.py:1351: SettingWithCopyWarning: \n",
      "A value is trying to be set on a copy of a slice from a DataFrame.\n",
      "Try using .loc[row_indexer,col_indexer] = value instead\n",
      "\n",
      "See the caveats in the documentation: https://pandas.pydata.org/pandas-docs/stable/user_guide/indexing.html#returning-a-view-versus-a-copy\n",
      "  super().__setitem__(key, value)\n",
      "/Users/edasmalchi/miniconda3/envs/calitp/lib/python3.10/site-packages/geopandas/geodataframe.py:1351: SettingWithCopyWarning: \n",
      "A value is trying to be set on a copy of a slice from a DataFrame.\n",
      "Try using .loc[row_indexer,col_indexer] = value instead\n",
      "\n",
      "See the caveats in the documentation: https://pandas.pydata.org/pandas-docs/stable/user_guide/indexing.html#returning-a-view-versus-a-copy\n",
      "  super().__setitem__(key, value)\n",
      "/Users/edasmalchi/miniconda3/envs/calitp/lib/python3.10/site-packages/geopandas/geodataframe.py:1351: SettingWithCopyWarning: \n",
      "A value is trying to be set on a copy of a slice from a DataFrame.\n",
      "Try using .loc[row_indexer,col_indexer] = value instead\n",
      "\n",
      "See the caveats in the documentation: https://pandas.pydata.org/pandas-docs/stable/user_guide/indexing.html#returning-a-view-versus-a-copy\n",
      "  super().__setitem__(key, value)\n"
     ]
    },
    {
     "name": "stdout",
     "output_type": "stream",
     "text": [
      "sc_called\n",
      "(65, 4)\n",
      "check location data for trip -5374575435373645071\n",
      "sc_called\n",
      "(34, 10)\n",
      "check location data for trip -5374575435373645071\n",
      "sc_called\n",
      "(31, 10)\n",
      "check location data for trip -5374575435373645071\n",
      "sc_called\n",
      "(28, 10)\n",
      "check location data for trip -5374575435373645071\n",
      "sc_called\n",
      "(26, 10)\n",
      "sc_called\n",
      "(57, 4)\n",
      "check location data for trip -7508921904019176003\n",
      "sc_called\n",
      "(38, 10)\n",
      "sc_called\n",
      "(57, 4)\n",
      "check location data for trip -7074131750388588809\n",
      "sc_called\n",
      "(42, 10)\n",
      "sc_called\n",
      "(56, 4)\n",
      "sc_called\n",
      "(60, 4)\n",
      "check location data for trip 6062701308686180855\n",
      "sc_called\n",
      "(39, 10)\n",
      "sc_called\n",
      "(64, 4)\n"
     ]
    },
    {
     "name": "stderr",
     "output_type": "stream",
     "text": [
      "/Users/edasmalchi/miniconda3/envs/calitp/lib/python3.10/site-packages/geopandas/geodataframe.py:1351: SettingWithCopyWarning: \n",
      "A value is trying to be set on a copy of a slice from a DataFrame.\n",
      "Try using .loc[row_indexer,col_indexer] = value instead\n",
      "\n",
      "See the caveats in the documentation: https://pandas.pydata.org/pandas-docs/stable/user_guide/indexing.html#returning-a-view-versus-a-copy\n",
      "  super().__setitem__(key, value)\n",
      "/Users/edasmalchi/miniconda3/envs/calitp/lib/python3.10/site-packages/geopandas/geodataframe.py:1351: SettingWithCopyWarning: \n",
      "A value is trying to be set on a copy of a slice from a DataFrame.\n",
      "Try using .loc[row_indexer,col_indexer] = value instead\n",
      "\n",
      "See the caveats in the documentation: https://pandas.pydata.org/pandas-docs/stable/user_guide/indexing.html#returning-a-view-versus-a-copy\n",
      "  super().__setitem__(key, value)\n",
      "/Users/edasmalchi/miniconda3/envs/calitp/lib/python3.10/site-packages/geopandas/geodataframe.py:1351: SettingWithCopyWarning: \n",
      "A value is trying to be set on a copy of a slice from a DataFrame.\n",
      "Try using .loc[row_indexer,col_indexer] = value instead\n",
      "\n",
      "See the caveats in the documentation: https://pandas.pydata.org/pandas-docs/stable/user_guide/indexing.html#returning-a-view-versus-a-copy\n",
      "  super().__setitem__(key, value)\n"
     ]
    }
   ],
   "source": [
    "test_many = rt.RtAnalysis(trips_positions_joined,\n",
    "                           stop_times,\n",
    "                           stops,\n",
    "                           lbt_routelines,\n",
    "                           one_route.trip_key)"
   ]
  },
  {
   "cell_type": "code",
   "execution_count": 52,
   "id": "92097e05-0647-4a59-9063-0250fedffc06",
   "metadata": {
    "collapsed": true,
    "jupyter": {
     "outputs_hidden": true
    },
    "tags": []
   },
   "outputs": [
    {
     "name": "stderr",
     "output_type": "stream",
     "text": [
      "/Users/edasmalchi/miniconda3/envs/calitp/lib/python3.10/site-packages/geopandas/geodataframe.py:1351: SettingWithCopyWarning: \n",
      "A value is trying to be set on a copy of a slice from a DataFrame.\n",
      "Try using .loc[row_indexer,col_indexer] = value instead\n",
      "\n",
      "See the caveats in the documentation: https://pandas.pydata.org/pandas-docs/stable/user_guide/indexing.html#returning-a-view-versus-a-copy\n",
      "  super().__setitem__(key, value)\n",
      "/Users/edasmalchi/miniconda3/envs/calitp/lib/python3.10/site-packages/geopandas/geodataframe.py:1351: SettingWithCopyWarning: \n",
      "A value is trying to be set on a copy of a slice from a DataFrame.\n",
      "Try using .loc[row_indexer,col_indexer] = value instead\n",
      "\n",
      "See the caveats in the documentation: https://pandas.pydata.org/pandas-docs/stable/user_guide/indexing.html#returning-a-view-versus-a-copy\n",
      "  super().__setitem__(key, value)\n",
      "/Users/edasmalchi/miniconda3/envs/calitp/lib/python3.10/site-packages/geopandas/geodataframe.py:1351: SettingWithCopyWarning: \n",
      "A value is trying to be set on a copy of a slice from a DataFrame.\n",
      "Try using .loc[row_indexer,col_indexer] = value instead\n",
      "\n",
      "See the caveats in the documentation: https://pandas.pydata.org/pandas-docs/stable/user_guide/indexing.html#returning-a-view-versus-a-copy\n",
      "  super().__setitem__(key, value)\n",
      "/Users/edasmalchi/miniconda3/envs/calitp/lib/python3.10/site-packages/geopandas/geodataframe.py:1351: SettingWithCopyWarning: \n",
      "A value is trying to be set on a copy of a slice from a DataFrame.\n",
      "Try using .loc[row_indexer,col_indexer] = value instead\n",
      "\n",
      "See the caveats in the documentation: https://pandas.pydata.org/pandas-docs/stable/user_guide/indexing.html#returning-a-view-versus-a-copy\n",
      "  super().__setitem__(key, value)\n",
      "/Users/edasmalchi/miniconda3/envs/calitp/lib/python3.10/site-packages/geopandas/geodataframe.py:1351: SettingWithCopyWarning: \n",
      "A value is trying to be set on a copy of a slice from a DataFrame.\n",
      "Try using .loc[row_indexer,col_indexer] = value instead\n",
      "\n",
      "See the caveats in the documentation: https://pandas.pydata.org/pandas-docs/stable/user_guide/indexing.html#returning-a-view-versus-a-copy\n",
      "  super().__setitem__(key, value)\n",
      "/Users/edasmalchi/miniconda3/envs/calitp/lib/python3.10/site-packages/geopandas/geodataframe.py:1351: SettingWithCopyWarning: \n",
      "A value is trying to be set on a copy of a slice from a DataFrame.\n",
      "Try using .loc[row_indexer,col_indexer] = value instead\n",
      "\n",
      "See the caveats in the documentation: https://pandas.pydata.org/pandas-docs/stable/user_guide/indexing.html#returning-a-view-versus-a-copy\n",
      "  super().__setitem__(key, value)\n",
      "/Users/edasmalchi/miniconda3/envs/calitp/lib/python3.10/site-packages/geopandas/geodataframe.py:1351: SettingWithCopyWarning: \n",
      "A value is trying to be set on a copy of a slice from a DataFrame.\n",
      "Try using .loc[row_indexer,col_indexer] = value instead\n",
      "\n",
      "See the caveats in the documentation: https://pandas.pydata.org/pandas-docs/stable/user_guide/indexing.html#returning-a-view-versus-a-copy\n",
      "  super().__setitem__(key, value)\n",
      "/Users/edasmalchi/miniconda3/envs/calitp/lib/python3.10/site-packages/geopandas/geodataframe.py:1351: SettingWithCopyWarning: \n",
      "A value is trying to be set on a copy of a slice from a DataFrame.\n",
      "Try using .loc[row_indexer,col_indexer] = value instead\n",
      "\n",
      "See the caveats in the documentation: https://pandas.pydata.org/pandas-docs/stable/user_guide/indexing.html#returning-a-view-versus-a-copy\n",
      "  super().__setitem__(key, value)\n",
      "/Users/edasmalchi/miniconda3/envs/calitp/lib/python3.10/site-packages/geopandas/geodataframe.py:1351: SettingWithCopyWarning: \n",
      "A value is trying to be set on a copy of a slice from a DataFrame.\n",
      "Try using .loc[row_indexer,col_indexer] = value instead\n",
      "\n",
      "See the caveats in the documentation: https://pandas.pydata.org/pandas-docs/stable/user_guide/indexing.html#returning-a-view-versus-a-copy\n",
      "  super().__setitem__(key, value)\n",
      "/Users/edasmalchi/miniconda3/envs/calitp/lib/python3.10/site-packages/geopandas/geodataframe.py:1351: SettingWithCopyWarning: \n",
      "A value is trying to be set on a copy of a slice from a DataFrame.\n",
      "Try using .loc[row_indexer,col_indexer] = value instead\n",
      "\n",
      "See the caveats in the documentation: https://pandas.pydata.org/pandas-docs/stable/user_guide/indexing.html#returning-a-view-versus-a-copy\n",
      "  super().__setitem__(key, value)\n",
      "/Users/edasmalchi/miniconda3/envs/calitp/lib/python3.10/site-packages/geopandas/geodataframe.py:1351: SettingWithCopyWarning: \n",
      "A value is trying to be set on a copy of a slice from a DataFrame.\n",
      "Try using .loc[row_indexer,col_indexer] = value instead\n",
      "\n",
      "See the caveats in the documentation: https://pandas.pydata.org/pandas-docs/stable/user_guide/indexing.html#returning-a-view-versus-a-copy\n",
      "  super().__setitem__(key, value)\n",
      "/Users/edasmalchi/miniconda3/envs/calitp/lib/python3.10/site-packages/geopandas/geodataframe.py:1351: SettingWithCopyWarning: \n",
      "A value is trying to be set on a copy of a slice from a DataFrame.\n",
      "Try using .loc[row_indexer,col_indexer] = value instead\n",
      "\n",
      "See the caveats in the documentation: https://pandas.pydata.org/pandas-docs/stable/user_guide/indexing.html#returning-a-view-versus-a-copy\n",
      "  super().__setitem__(key, value)\n",
      "/Users/edasmalchi/miniconda3/envs/calitp/lib/python3.10/site-packages/geopandas/geodataframe.py:1351: SettingWithCopyWarning: \n",
      "A value is trying to be set on a copy of a slice from a DataFrame.\n",
      "Try using .loc[row_indexer,col_indexer] = value instead\n",
      "\n",
      "See the caveats in the documentation: https://pandas.pydata.org/pandas-docs/stable/user_guide/indexing.html#returning-a-view-versus-a-copy\n",
      "  super().__setitem__(key, value)\n",
      "/Users/edasmalchi/miniconda3/envs/calitp/lib/python3.10/site-packages/geopandas/geodataframe.py:1351: SettingWithCopyWarning: \n",
      "A value is trying to be set on a copy of a slice from a DataFrame.\n",
      "Try using .loc[row_indexer,col_indexer] = value instead\n",
      "\n",
      "See the caveats in the documentation: https://pandas.pydata.org/pandas-docs/stable/user_guide/indexing.html#returning-a-view-versus-a-copy\n",
      "  super().__setitem__(key, value)\n",
      "/Users/edasmalchi/miniconda3/envs/calitp/lib/python3.10/site-packages/geopandas/geodataframe.py:1351: SettingWithCopyWarning: \n",
      "A value is trying to be set on a copy of a slice from a DataFrame.\n",
      "Try using .loc[row_indexer,col_indexer] = value instead\n",
      "\n",
      "See the caveats in the documentation: https://pandas.pydata.org/pandas-docs/stable/user_guide/indexing.html#returning-a-view-versus-a-copy\n",
      "  super().__setitem__(key, value)\n",
      "/Users/edasmalchi/miniconda3/envs/calitp/lib/python3.10/site-packages/geopandas/geodataframe.py:1351: SettingWithCopyWarning: \n",
      "A value is trying to be set on a copy of a slice from a DataFrame.\n",
      "Try using .loc[row_indexer,col_indexer] = value instead\n",
      "\n",
      "See the caveats in the documentation: https://pandas.pydata.org/pandas-docs/stable/user_guide/indexing.html#returning-a-view-versus-a-copy\n",
      "  super().__setitem__(key, value)\n",
      "/Users/edasmalchi/miniconda3/envs/calitp/lib/python3.10/site-packages/geopandas/geodataframe.py:1351: SettingWithCopyWarning: \n",
      "A value is trying to be set on a copy of a slice from a DataFrame.\n",
      "Try using .loc[row_indexer,col_indexer] = value instead\n",
      "\n",
      "See the caveats in the documentation: https://pandas.pydata.org/pandas-docs/stable/user_guide/indexing.html#returning-a-view-versus-a-copy\n",
      "  super().__setitem__(key, value)\n",
      "/Users/edasmalchi/miniconda3/envs/calitp/lib/python3.10/site-packages/geopandas/geodataframe.py:1351: SettingWithCopyWarning: \n",
      "A value is trying to be set on a copy of a slice from a DataFrame.\n",
      "Try using .loc[row_indexer,col_indexer] = value instead\n",
      "\n",
      "See the caveats in the documentation: https://pandas.pydata.org/pandas-docs/stable/user_guide/indexing.html#returning-a-view-versus-a-copy\n",
      "  super().__setitem__(key, value)\n",
      "/Users/edasmalchi/miniconda3/envs/calitp/lib/python3.10/site-packages/geopandas/geodataframe.py:1351: SettingWithCopyWarning: \n",
      "A value is trying to be set on a copy of a slice from a DataFrame.\n",
      "Try using .loc[row_indexer,col_indexer] = value instead\n",
      "\n",
      "See the caveats in the documentation: https://pandas.pydata.org/pandas-docs/stable/user_guide/indexing.html#returning-a-view-versus-a-copy\n",
      "  super().__setitem__(key, value)\n",
      "/Users/edasmalchi/miniconda3/envs/calitp/lib/python3.10/site-packages/geopandas/geodataframe.py:1351: SettingWithCopyWarning: \n",
      "A value is trying to be set on a copy of a slice from a DataFrame.\n",
      "Try using .loc[row_indexer,col_indexer] = value instead\n",
      "\n",
      "See the caveats in the documentation: https://pandas.pydata.org/pandas-docs/stable/user_guide/indexing.html#returning-a-view-versus-a-copy\n",
      "  super().__setitem__(key, value)\n"
     ]
    }
   ],
   "source": [
    "%%capture --no-stderr\n",
    "test_many.generate_delay_view()"
   ]
  },
  {
   "cell_type": "code",
   "execution_count": 53,
   "id": "1ac5abfd-2622-4f2e-a942-cea4daffa9f7",
   "metadata": {},
   "outputs": [
    {
     "data": {
      "text/plain": [
       "20"
      ]
     },
     "execution_count": 53,
     "metadata": {},
     "output_type": "execute_result"
    }
   ],
   "source": [
    "test_many.trip_keys.nunique()"
   ]
  },
  {
   "cell_type": "code",
   "execution_count": 54,
   "id": "caee325d-7188-4907-8b4f-bb29e119c2aa",
   "metadata": {},
   "outputs": [
    {
     "data": {
      "text/plain": [
       "20"
      ]
     },
     "execution_count": 54,
     "metadata": {},
     "output_type": "execute_result"
    }
   ],
   "source": [
    "test_many.delay_view.trip_id.nunique()"
   ]
  },
  {
   "cell_type": "code",
   "execution_count": 55,
   "id": "a997f422-9df2-40fe-9d82-d55c762bf846",
   "metadata": {},
   "outputs": [
    {
     "data": {
      "text/plain": [
       "1"
      ]
     },
     "execution_count": 55,
     "metadata": {},
     "output_type": "execute_result"
    }
   ],
   "source": [
    "test_many.delay_view.shape_id.nunique()"
   ]
  },
  {
   "cell_type": "code",
   "execution_count": 56,
   "id": "b5cf5e6f-daa2-4114-a003-a475d4c393db",
   "metadata": {},
   "outputs": [
    {
     "data": {
      "text/html": [
       "<div>\n",
       "<style scoped>\n",
       "    .dataframe tbody tr th:only-of-type {\n",
       "        vertical-align: middle;\n",
       "    }\n",
       "\n",
       "    .dataframe tbody tr th {\n",
       "        vertical-align: top;\n",
       "    }\n",
       "\n",
       "    .dataframe thead th {\n",
       "        text-align: right;\n",
       "    }\n",
       "</style>\n",
       "<table border=\"1\" class=\"dataframe\">\n",
       "  <thead>\n",
       "    <tr style=\"text-align: right;\">\n",
       "      <th></th>\n",
       "      <th>trip_key</th>\n",
       "      <th>arrival_time</th>\n",
       "      <th>actual_time</th>\n",
       "      <th>delay</th>\n",
       "      <th>stop_id</th>\n",
       "      <th>trip_id</th>\n",
       "      <th>shape_id</th>\n",
       "      <th>direction_id</th>\n",
       "      <th>direction</th>\n",
       "      <th>stop_sequence</th>\n",
       "      <th>route_id</th>\n",
       "      <th>shape_meters</th>\n",
       "      <th>service_date</th>\n",
       "      <th>geometry</th>\n",
       "    </tr>\n",
       "  </thead>\n",
       "  <tbody>\n",
       "    <tr>\n",
       "      <th>480</th>\n",
       "      <td>-7508921904019176003</td>\n",
       "      <td>2021-11-30 08:21:41</td>\n",
       "      <td>2021-11-30 08:25:52.391939</td>\n",
       "      <td>0 days 00:04:11.391939</td>\n",
       "      <td>1027</td>\n",
       "      <td>9288597</td>\n",
       "      <td>1750012</td>\n",
       "      <td>0</td>\n",
       "      <td>Westbound</td>\n",
       "      <td>2</td>\n",
       "      <td>175</td>\n",
       "      <td>501.040761</td>\n",
       "      <td>2021-11-30</td>\n",
       "      <td>POINT (174124.462 -468604.478)</td>\n",
       "    </tr>\n",
       "    <tr>\n",
       "      <th>498</th>\n",
       "      <td>-4201736542695259394</td>\n",
       "      <td>2021-11-30 09:44:55</td>\n",
       "      <td>2021-11-30 09:44:21.619207</td>\n",
       "      <td>-1 days +23:59:26.619207</td>\n",
       "      <td>1027</td>\n",
       "      <td>9288601</td>\n",
       "      <td>1750012</td>\n",
       "      <td>0</td>\n",
       "      <td>Westbound</td>\n",
       "      <td>2</td>\n",
       "      <td>175</td>\n",
       "      <td>501.040761</td>\n",
       "      <td>2021-11-30</td>\n",
       "      <td>POINT (174124.462 -468604.478)</td>\n",
       "    </tr>\n",
       "    <tr>\n",
       "      <th>492</th>\n",
       "      <td>-3942588435346624369</td>\n",
       "      <td>2021-11-30 14:16:10</td>\n",
       "      <td>2021-11-30 14:15:54.374999</td>\n",
       "      <td>-1 days +23:59:44.374999</td>\n",
       "      <td>1027</td>\n",
       "      <td>9288615</td>\n",
       "      <td>1750012</td>\n",
       "      <td>0</td>\n",
       "      <td>Westbound</td>\n",
       "      <td>2</td>\n",
       "      <td>175</td>\n",
       "      <td>501.040761</td>\n",
       "      <td>2021-11-30</td>\n",
       "      <td>POINT (174124.462 -468604.478)</td>\n",
       "    </tr>\n",
       "  </tbody>\n",
       "</table>\n",
       "</div>"
      ],
      "text/plain": [
       "                trip_key        arrival_time                actual_time  \\\n",
       "480 -7508921904019176003 2021-11-30 08:21:41 2021-11-30 08:25:52.391939   \n",
       "498 -4201736542695259394 2021-11-30 09:44:55 2021-11-30 09:44:21.619207   \n",
       "492 -3942588435346624369 2021-11-30 14:16:10 2021-11-30 14:15:54.374999   \n",
       "\n",
       "                       delay stop_id  trip_id shape_id direction_id  \\\n",
       "480   0 days 00:04:11.391939    1027  9288597  1750012            0   \n",
       "498 -1 days +23:59:26.619207    1027  9288601  1750012            0   \n",
       "492 -1 days +23:59:44.374999    1027  9288615  1750012            0   \n",
       "\n",
       "     direction  stop_sequence route_id  shape_meters service_date  \\\n",
       "480  Westbound              2      175    501.040761   2021-11-30   \n",
       "498  Westbound              2      175    501.040761   2021-11-30   \n",
       "492  Westbound              2      175    501.040761   2021-11-30   \n",
       "\n",
       "                           geometry  \n",
       "480  POINT (174124.462 -468604.478)  \n",
       "498  POINT (174124.462 -468604.478)  \n",
       "492  POINT (174124.462 -468604.478)  "
      ]
     },
     "execution_count": 56,
     "metadata": {},
     "output_type": "execute_result"
    }
   ],
   "source": [
    "test_many.delay_view.head(3)"
   ]
  },
  {
   "cell_type": "code",
   "execution_count": 129,
   "id": "f36870af-76c7-49e5-81a0-2aacf2dceaa9",
   "metadata": {},
   "outputs": [],
   "source": [
    "endpoint_delays = (test_many.delay_view\n",
    "                   >> filter(_.route_id == '175')\n",
    "                   >> group_by(_.trip_id)\n",
    "                   >> filter(_.arrival_time == _.arrival_time.max())\n",
    "                   >> ungroup()\n",
    "                   >> mutate(mean_end_delay = _.delay.mean()))"
   ]
  },
  {
   "cell_type": "code",
   "execution_count": 130,
   "id": "80872dc5-87a6-49f1-a97a-9087930d3322",
   "metadata": {},
   "outputs": [],
   "source": [
    "endpoint_delays['delay'] = endpoint_delays.delay.apply(lambda x: dt.timedelta(seconds=0) if x.days == -1 else x)"
   ]
  },
  {
   "cell_type": "code",
   "execution_count": 131,
   "id": "4c70d22c-2121-4229-bf14-29ae27913f39",
   "metadata": {},
   "outputs": [],
   "source": [
    "endpoint_delays['delay_minutes'] = endpoint_delays.delay.apply(lambda x: x.seconds / 60)"
   ]
  },
  {
   "cell_type": "code",
   "execution_count": 132,
   "id": "02a24c25-3fe2-4765-b71e-d14c2005a86d",
   "metadata": {},
   "outputs": [],
   "source": [
    "endpoint_delays['arrival_hour'] = endpoint_delays.arrival_time.apply(lambda x: x.hour)"
   ]
  },
  {
   "cell_type": "code",
   "execution_count": 133,
   "id": "a270b572-96fb-4644-8000-7d6bbce08a2c",
   "metadata": {},
   "outputs": [],
   "source": [
    "hour_grouped = (endpoint_delays\n",
    " >> select(_.arrival_hour, _.delay_minutes)\n",
    " >> mutate(delay_5_plus = _.delay_minutes > 5)\n",
    " # >> group_by(_.arrival_hour)\n",
    " # >> summarize(mean_delay_minutes = _.delay_minutes.mean())\n",
    "              # delay_5_plus = _.delay_minutes > 5)\n",
    ")"
   ]
  },
  {
   "cell_type": "code",
   "execution_count": 134,
   "id": "5957c071-e37f-47fb-ab42-b61e97e8ac7d",
   "metadata": {},
   "outputs": [
    {
     "data": {
      "text/html": [
       "<div>\n",
       "<style scoped>\n",
       "    .dataframe tbody tr th:only-of-type {\n",
       "        vertical-align: middle;\n",
       "    }\n",
       "\n",
       "    .dataframe tbody tr th {\n",
       "        vertical-align: top;\n",
       "    }\n",
       "\n",
       "    .dataframe thead th {\n",
       "        text-align: right;\n",
       "    }\n",
       "</style>\n",
       "<table border=\"1\" class=\"dataframe\">\n",
       "  <thead>\n",
       "    <tr style=\"text-align: right;\">\n",
       "      <th></th>\n",
       "      <th>arrival_hour</th>\n",
       "      <th>delay_minutes</th>\n",
       "      <th>delay_5_plus</th>\n",
       "    </tr>\n",
       "  </thead>\n",
       "  <tbody>\n",
       "    <tr>\n",
       "      <th>0</th>\n",
       "      <td>9</td>\n",
       "      <td>0.250000</td>\n",
       "      <td>False</td>\n",
       "    </tr>\n",
       "    <tr>\n",
       "      <th>1</th>\n",
       "      <td>15</td>\n",
       "      <td>15.016667</td>\n",
       "      <td>True</td>\n",
       "    </tr>\n",
       "    <tr>\n",
       "      <th>2</th>\n",
       "      <td>16</td>\n",
       "      <td>12.466667</td>\n",
       "      <td>True</td>\n",
       "    </tr>\n",
       "    <tr>\n",
       "      <th>3</th>\n",
       "      <td>11</td>\n",
       "      <td>11.566667</td>\n",
       "      <td>True</td>\n",
       "    </tr>\n",
       "    <tr>\n",
       "      <th>4</th>\n",
       "      <td>18</td>\n",
       "      <td>24.800000</td>\n",
       "      <td>True</td>\n",
       "    </tr>\n",
       "    <tr>\n",
       "      <th>5</th>\n",
       "      <td>14</td>\n",
       "      <td>11.916667</td>\n",
       "      <td>True</td>\n",
       "    </tr>\n",
       "    <tr>\n",
       "      <th>6</th>\n",
       "      <td>12</td>\n",
       "      <td>0.716667</td>\n",
       "      <td>False</td>\n",
       "    </tr>\n",
       "    <tr>\n",
       "      <th>7</th>\n",
       "      <td>14</td>\n",
       "      <td>1.033333</td>\n",
       "      <td>False</td>\n",
       "    </tr>\n",
       "    <tr>\n",
       "      <th>8</th>\n",
       "      <td>12</td>\n",
       "      <td>2.300000</td>\n",
       "      <td>False</td>\n",
       "    </tr>\n",
       "    <tr>\n",
       "      <th>9</th>\n",
       "      <td>8</td>\n",
       "      <td>0.883333</td>\n",
       "      <td>False</td>\n",
       "    </tr>\n",
       "    <tr>\n",
       "      <th>10</th>\n",
       "      <td>13</td>\n",
       "      <td>13.016667</td>\n",
       "      <td>True</td>\n",
       "    </tr>\n",
       "    <tr>\n",
       "      <th>11</th>\n",
       "      <td>8</td>\n",
       "      <td>1.750000</td>\n",
       "      <td>False</td>\n",
       "    </tr>\n",
       "    <tr>\n",
       "      <th>12</th>\n",
       "      <td>6</td>\n",
       "      <td>0.000000</td>\n",
       "      <td>False</td>\n",
       "    </tr>\n",
       "    <tr>\n",
       "      <th>13</th>\n",
       "      <td>17</td>\n",
       "      <td>10.333333</td>\n",
       "      <td>True</td>\n",
       "    </tr>\n",
       "    <tr>\n",
       "      <th>14</th>\n",
       "      <td>10</td>\n",
       "      <td>0.000000</td>\n",
       "      <td>False</td>\n",
       "    </tr>\n",
       "    <tr>\n",
       "      <th>15</th>\n",
       "      <td>7</td>\n",
       "      <td>4.866667</td>\n",
       "      <td>False</td>\n",
       "    </tr>\n",
       "    <tr>\n",
       "      <th>16</th>\n",
       "      <td>10</td>\n",
       "      <td>0.716667</td>\n",
       "      <td>False</td>\n",
       "    </tr>\n",
       "    <tr>\n",
       "      <th>17</th>\n",
       "      <td>16</td>\n",
       "      <td>14.083333</td>\n",
       "      <td>True</td>\n",
       "    </tr>\n",
       "    <tr>\n",
       "      <th>18</th>\n",
       "      <td>18</td>\n",
       "      <td>2.133333</td>\n",
       "      <td>False</td>\n",
       "    </tr>\n",
       "    <tr>\n",
       "      <th>19</th>\n",
       "      <td>19</td>\n",
       "      <td>0.800000</td>\n",
       "      <td>False</td>\n",
       "    </tr>\n",
       "  </tbody>\n",
       "</table>\n",
       "</div>"
      ],
      "text/plain": [
       "    arrival_hour  delay_minutes  delay_5_plus\n",
       "0              9       0.250000         False\n",
       "1             15      15.016667          True\n",
       "2             16      12.466667          True\n",
       "3             11      11.566667          True\n",
       "4             18      24.800000          True\n",
       "5             14      11.916667          True\n",
       "6             12       0.716667         False\n",
       "7             14       1.033333         False\n",
       "8             12       2.300000         False\n",
       "9              8       0.883333         False\n",
       "10            13      13.016667          True\n",
       "11             8       1.750000         False\n",
       "12             6       0.000000         False\n",
       "13            17      10.333333          True\n",
       "14            10       0.000000         False\n",
       "15             7       4.866667         False\n",
       "16            10       0.716667         False\n",
       "17            16      14.083333          True\n",
       "18            18       2.133333         False\n",
       "19            19       0.800000         False"
      ]
     },
     "execution_count": 134,
     "metadata": {},
     "output_type": "execute_result"
    }
   ],
   "source": [
    "hour_grouped"
   ]
  },
  {
   "cell_type": "code",
   "execution_count": 88,
   "id": "953449fa-4527-43ac-a37f-94e79ea8a5c0",
   "metadata": {},
   "outputs": [],
   "source": [
    "hour_grouped = hour_grouped.rename(columns={'mean_delay_minutes':'Minutes of Delay at Endpoint',\n",
    "                                           'arrival_hour': 'Arrival Hour'})"
   ]
  },
  {
   "cell_type": "code",
   "execution_count": 90,
   "id": "a697b0a6-c25b-4591-a54d-f2758f872c59",
   "metadata": {},
   "outputs": [],
   "source": [
    "import seaborn as sns"
   ]
  },
  {
   "cell_type": "code",
   "execution_count": 116,
   "id": "f8420565-6622-4710-9bc2-83979186e0cd",
   "metadata": {},
   "outputs": [
    {
     "data": {
      "image/png": "[encoded data removed]",
      "text/plain": [
       "<Figure size 432x288 with 1 Axes>"
      ]
     },
     "metadata": {
      "needs_background": "light"
     },
     "output_type": "display_data"
    }
   ],
   "source": [
    "sns_plot = (sns.barplot(x=hour_grouped['Arrival Hour'], y=hour_grouped['Minutes of Delay at Endpoint'], ci=None, \n",
    "                       palette=shared_utils.altair_utils.FIVETHIRTYEIGHT_CATEGORY_COLORS[6:7])\n",
    "            .set_title(\"LBT 175 Delay by Time of Day, Nov 30\")\n",
    "           )\n",
    "chart3 = sns_plot.get_figure()\n",
    "chart3.tight_layout()\n",
    "chart3.savefig(\"./seaborn_chart.png\")"
   ]
  },
  {
   "cell_type": "code",
   "execution_count": null,
   "id": "a0468705-c3e0-4529-b9b9-a78d43baaf19",
   "metadata": {},
   "outputs": [],
   "source": [
    "df = (test_many.route_coverage_summary()\n",
    " >> mutate(stops_covered = _.max_stop - _.min_stop)\n",
    " >> arrange(-_.stops_covered)\n",
    " >> filter(_.stops_covered > 1)\n",
    " >> distinct(_.shape_id, _keep_all=True)\n",
    ")\n",
    "df.head(5)"
   ]
  },
  {
   "cell_type": "code",
   "execution_count": 56,
   "id": "8d5f5214-db85-4bcd-b220-00de8eb33350",
   "metadata": {
    "tags": []
   },
   "outputs": [],
   "source": [
    "# test_many.map_stop_delays() ## broken/inf recursion (delay view check failing?)"
   ]
  },
  {
   "cell_type": "code",
   "execution_count": 57,
   "id": "4322ae39-83ff-44e4-abe2-86e23fb0c561",
   "metadata": {
    "tags": []
   },
   "outputs": [],
   "source": [
    "# test_many.map_segment_speeds(how = 'low_speeds')"
   ]
  },
  {
   "cell_type": "code",
   "execution_count": 58,
   "id": "ee1cd5d3-f4b6-444c-bd32-c0094aba2d93",
   "metadata": {},
   "outputs": [],
   "source": [
    "colorscale = branca.colormap.step.RdYlGn_10.scale(vmin=0, \n",
    " vmax=30)\n",
    "colorscale.caption = \"Speed (miles per hour)\""
   ]
  },
  {
   "cell_type": "code",
   "execution_count": 59,
   "id": "0a97afec-5d76-4354-ac38-6bf6e05867d9",
   "metadata": {
    "tags": []
   },
   "outputs": [],
   "source": [
    "# m = test_many._generate_segment_map(how = 'low_speeds', colorscale = colorscale)"
   ]
  },
  {
   "cell_type": "code",
   "execution_count": 60,
   "id": "4a19ecc6-bb27-46ea-9688-5aaa66ef51cf",
   "metadata": {},
   "outputs": [],
   "source": [
    "# m"
   ]
  },
  {
   "cell_type": "code",
   "execution_count": 61,
   "id": "ce80e9be-a868-414d-8e52-ea8179258726",
   "metadata": {},
   "outputs": [],
   "source": [
    "# test_delay = test_many.delay_view.copy()"
   ]
  },
  {
   "cell_type": "markdown",
   "id": "550f8549-249f-4125-8245-2644fe327e87",
   "metadata": {},
   "source": [
    "### Sandbox"
   ]
  },
  {
   "cell_type": "code",
   "execution_count": 62,
   "id": "92fa041e-476e-4a07-82ca-270718887e24",
   "metadata": {},
   "outputs": [
    {
     "data": {
      "text/html": [
       "<div>\n",
       "<style scoped>\n",
       "    .dataframe tbody tr th:only-of-type {\n",
       "        vertical-align: middle;\n",
       "    }\n",
       "\n",
       "    .dataframe tbody tr th {\n",
       "        vertical-align: top;\n",
       "    }\n",
       "\n",
       "    .dataframe thead th {\n",
       "        text-align: right;\n",
       "    }\n",
       "</style>\n",
       "<table border=\"1\" class=\"dataframe\">\n",
       "  <thead>\n",
       "    <tr style=\"text-align: right;\">\n",
       "      <th></th>\n",
       "      <th>calitp_itp_id</th>\n",
       "      <th>calitp_url_number</th>\n",
       "      <th>stop_id</th>\n",
       "      <th>stop_lat</th>\n",
       "      <th>stop_lon</th>\n",
       "      <th>stop_name</th>\n",
       "      <th>geometry</th>\n",
       "      <th>trip_id</th>\n",
       "      <th>stop_sequence</th>\n",
       "      <th>arrival_time</th>\n",
       "      <th>departure_time</th>\n",
       "      <th>stop_headsign</th>\n",
       "      <th>pickup_type</th>\n",
       "      <th>drop_off_type</th>\n",
       "      <th>continuous_pickup</th>\n",
       "      <th>continuous_drop_off</th>\n",
       "      <th>shape_dist_traveled</th>\n",
       "      <th>timepoint</th>\n",
       "      <th>calitp_extracted_at</th>\n",
       "    </tr>\n",
       "  </thead>\n",
       "  <tbody>\n",
       "    <tr>\n",
       "      <th>0</th>\n",
       "      <td>170</td>\n",
       "      <td>0</td>\n",
       "      <td>3150</td>\n",
       "      <td>33.792724</td>\n",
       "      <td>-118.222183</td>\n",
       "      <td>VILLAGES AT CABRILLO</td>\n",
       "      <td>POINT (164664.672 -467611.924)</td>\n",
       "      <td>9288591</td>\n",
       "      <td>29</td>\n",
       "      <td>07:00:00</td>\n",
       "      <td>07:00:00</td>\n",
       "      <td>None</td>\n",
       "      <td>1</td>\n",
       "      <td>0</td>\n",
       "      <td>None</td>\n",
       "      <td>None</td>\n",
       "      <td>7.127999999999999</td>\n",
       "      <td>1</td>\n",
       "      <td>2021-12-17</td>\n",
       "    </tr>\n",
       "    <tr>\n",
       "      <th>1</th>\n",
       "      <td>170</td>\n",
       "      <td>0</td>\n",
       "      <td>3150</td>\n",
       "      <td>33.792724</td>\n",
       "      <td>-118.222183</td>\n",
       "      <td>VILLAGES AT CABRILLO</td>\n",
       "      <td>POINT (164664.672 -467611.924)</td>\n",
       "      <td>9288599</td>\n",
       "      <td>29</td>\n",
       "      <td>09:36:00</td>\n",
       "      <td>09:36:00</td>\n",
       "      <td>None</td>\n",
       "      <td>1</td>\n",
       "      <td>0</td>\n",
       "      <td>None</td>\n",
       "      <td>None</td>\n",
       "      <td>7.127999999999999</td>\n",
       "      <td>1</td>\n",
       "      <td>2021-12-17</td>\n",
       "    </tr>\n",
       "    <tr>\n",
       "      <th>2</th>\n",
       "      <td>170</td>\n",
       "      <td>0</td>\n",
       "      <td>3150</td>\n",
       "      <td>33.792724</td>\n",
       "      <td>-118.222183</td>\n",
       "      <td>VILLAGES AT CABRILLO</td>\n",
       "      <td>POINT (164664.672 -467611.924)</td>\n",
       "      <td>9288601</td>\n",
       "      <td>29</td>\n",
       "      <td>10:20:00</td>\n",
       "      <td>10:20:00</td>\n",
       "      <td>None</td>\n",
       "      <td>1</td>\n",
       "      <td>0</td>\n",
       "      <td>None</td>\n",
       "      <td>None</td>\n",
       "      <td>7.127999999999999</td>\n",
       "      <td>1</td>\n",
       "      <td>2021-12-17</td>\n",
       "    </tr>\n",
       "  </tbody>\n",
       "</table>\n",
       "</div>"
      ],
      "text/plain": [
       "   calitp_itp_id  calitp_url_number stop_id   stop_lat    stop_lon  \\\n",
       "0            170                  0    3150  33.792724 -118.222183   \n",
       "1            170                  0    3150  33.792724 -118.222183   \n",
       "2            170                  0    3150  33.792724 -118.222183   \n",
       "\n",
       "              stop_name                        geometry  trip_id  \\\n",
       "0  VILLAGES AT CABRILLO  POINT (164664.672 -467611.924)  9288591   \n",
       "1  VILLAGES AT CABRILLO  POINT (164664.672 -467611.924)  9288599   \n",
       "2  VILLAGES AT CABRILLO  POINT (164664.672 -467611.924)  9288601   \n",
       "\n",
       "   stop_sequence arrival_time departure_time stop_headsign pickup_type  \\\n",
       "0             29     07:00:00       07:00:00          None           1   \n",
       "1             29     09:36:00       09:36:00          None           1   \n",
       "2             29     10:20:00       10:20:00          None           1   \n",
       "\n",
       "  drop_off_type continuous_pickup continuous_drop_off shape_dist_traveled  \\\n",
       "0             0              None                None   7.127999999999999   \n",
       "1             0              None                None   7.127999999999999   \n",
       "2             0              None                None   7.127999999999999   \n",
       "\n",
       "  timepoint calitp_extracted_at  \n",
       "0         1          2021-12-17  \n",
       "1         1          2021-12-17  \n",
       "2         1          2021-12-17  "
      ]
     },
     "execution_count": 62,
     "metadata": {},
     "output_type": "execute_result"
    }
   ],
   "source": [
    "test_analysis.st_geo.head(3)"
   ]
  },
  {
   "cell_type": "code",
   "execution_count": 63,
   "id": "3804c462-5b18-42e3-9ada-3aa62686b402",
   "metadata": {},
   "outputs": [
    {
     "data": {
      "text/html": [
       "<div>\n",
       "<style scoped>\n",
       "    .dataframe tbody tr th:only-of-type {\n",
       "        vertical-align: middle;\n",
       "    }\n",
       "\n",
       "    .dataframe tbody tr th {\n",
       "        vertical-align: top;\n",
       "    }\n",
       "\n",
       "    .dataframe thead th {\n",
       "        text-align: right;\n",
       "    }\n",
       "</style>\n",
       "<table border=\"1\" class=\"dataframe\">\n",
       "  <thead>\n",
       "    <tr style=\"text-align: right;\">\n",
       "      <th></th>\n",
       "      <th>calitp_itp_id</th>\n",
       "      <th>calitp_url_number</th>\n",
       "      <th>shape_id</th>\n",
       "      <th>calitp_extracted_at</th>\n",
       "      <th>geometry</th>\n",
       "    </tr>\n",
       "  </thead>\n",
       "  <tbody>\n",
       "    <tr>\n",
       "      <th>0</th>\n",
       "      <td>170</td>\n",
       "      <td>0</td>\n",
       "      <td>10069</td>\n",
       "      <td>2021-12-17</td>\n",
       "      <td>LINESTRING (161216.993 -459406.837, 161188.049...</td>\n",
       "    </tr>\n",
       "    <tr>\n",
       "      <th>1</th>\n",
       "      <td>170</td>\n",
       "      <td>0</td>\n",
       "      <td>10070</td>\n",
       "      <td>2021-12-17</td>\n",
       "      <td>LINESTRING (165555.589 -461447.899, 165529.874...</td>\n",
       "    </tr>\n",
       "    <tr>\n",
       "      <th>2</th>\n",
       "      <td>170</td>\n",
       "      <td>0</td>\n",
       "      <td>1010081</td>\n",
       "      <td>2021-12-17</td>\n",
       "      <td>LINESTRING (178338.638 -463053.608, 178362.517...</td>\n",
       "    </tr>\n",
       "  </tbody>\n",
       "</table>\n",
       "</div>"
      ],
      "text/plain": [
       "   calitp_itp_id  calitp_url_number shape_id calitp_extracted_at  \\\n",
       "0            170                  0    10069          2021-12-17   \n",
       "1            170                  0    10070          2021-12-17   \n",
       "2            170                  0  1010081          2021-12-17   \n",
       "\n",
       "                                            geometry  \n",
       "0  LINESTRING (161216.993 -459406.837, 161188.049...  \n",
       "1  LINESTRING (165555.589 -461447.899, 165529.874...  \n",
       "2  LINESTRING (178338.638 -463053.608, 178362.517...  "
      ]
     },
     "execution_count": 63,
     "metadata": {},
     "output_type": "execute_result"
    }
   ],
   "source": [
    "lbt_routelines.head(3)"
   ]
  },
  {
   "cell_type": "code",
   "execution_count": 64,
   "id": "63eaf7de-c737-4b66-aaa9-996e30f47ee2",
   "metadata": {},
   "outputs": [
    {
     "data": {
      "text/html": [
       "<div>\n",
       "<style scoped>\n",
       "    .dataframe tbody tr th:only-of-type {\n",
       "        vertical-align: middle;\n",
       "    }\n",
       "\n",
       "    .dataframe tbody tr th {\n",
       "        vertical-align: top;\n",
       "    }\n",
       "\n",
       "    .dataframe thead th {\n",
       "        text-align: right;\n",
       "    }\n",
       "</style>\n",
       "<table border=\"1\" class=\"dataframe\">\n",
       "  <thead>\n",
       "    <tr style=\"text-align: right;\">\n",
       "      <th></th>\n",
       "      <th>calitp_itp_id</th>\n",
       "      <th>calitp_url_number</th>\n",
       "      <th>service_date</th>\n",
       "      <th>trip_key</th>\n",
       "      <th>trip_id</th>\n",
       "      <th>route_id</th>\n",
       "      <th>direction_id</th>\n",
       "      <th>shape_id</th>\n",
       "      <th>calitp_extracted_at</th>\n",
       "      <th>calitp_deleted_at</th>\n",
       "    </tr>\n",
       "  </thead>\n",
       "  <tbody>\n",
       "    <tr>\n",
       "      <th>0</th>\n",
       "      <td>170</td>\n",
       "      <td>0</td>\n",
       "      <td>2021-11-30</td>\n",
       "      <td>7580361081022204604</td>\n",
       "      <td>9296678</td>\n",
       "      <td>41</td>\n",
       "      <td>0</td>\n",
       "      <td>410007</td>\n",
       "      <td>2021-09-16</td>\n",
       "      <td>2099-01-01</td>\n",
       "    </tr>\n",
       "    <tr>\n",
       "      <th>1</th>\n",
       "      <td>170</td>\n",
       "      <td>0</td>\n",
       "      <td>2021-11-30</td>\n",
       "      <td>4117806770041309601</td>\n",
       "      <td>9288195</td>\n",
       "      <td>191</td>\n",
       "      <td>1</td>\n",
       "      <td>1910292</td>\n",
       "      <td>2021-09-16</td>\n",
       "      <td>2099-01-01</td>\n",
       "    </tr>\n",
       "    <tr>\n",
       "      <th>2</th>\n",
       "      <td>170</td>\n",
       "      <td>0</td>\n",
       "      <td>2021-11-30</td>\n",
       "      <td>-2383767369974821641</td>\n",
       "      <td>9296601</td>\n",
       "      <td>46</td>\n",
       "      <td>0</td>\n",
       "      <td>460067</td>\n",
       "      <td>2021-09-16</td>\n",
       "      <td>2099-01-01</td>\n",
       "    </tr>\n",
       "  </tbody>\n",
       "</table>\n",
       "</div>"
      ],
      "text/plain": [
       "   calitp_itp_id  calitp_url_number service_date             trip_key  \\\n",
       "0            170                  0   2021-11-30  7580361081022204604   \n",
       "1            170                  0   2021-11-30  4117806770041309601   \n",
       "2            170                  0   2021-11-30 -2383767369974821641   \n",
       "\n",
       "   trip_id route_id direction_id shape_id calitp_extracted_at  \\\n",
       "0  9296678       41            0   410007          2021-09-16   \n",
       "1  9288195      191            1  1910292          2021-09-16   \n",
       "2  9296601       46            0   460067          2021-09-16   \n",
       "\n",
       "  calitp_deleted_at  \n",
       "0        2099-01-01  \n",
       "1        2099-01-01  \n",
       "2        2099-01-01  "
      ]
     },
     "execution_count": 64,
     "metadata": {},
     "output_type": "execute_result"
    }
   ],
   "source": [
    "lbt_trips.head(3)"
   ]
  },
  {
   "cell_type": "code",
   "execution_count": 66,
   "id": "8099bfb7-c16e-43d5-8212-7503953a7645",
   "metadata": {},
   "outputs": [],
   "source": [
    "one_trip = lbt_trips >> filter(_.trip_key == 3082123411846948636) >> select(-_.calitp_deleted_at,\n",
    "                                                                           -_.calitp_extracted_at)\n",
    "\n",
    "trip_st_gdf = test_analysis.st_geo >> inner_join(_, one_trip,\n",
    "                                           on = ['calitp_itp_id', 'calitp_url_number', 'trip_id'])"
   ]
  },
  {
   "cell_type": "code",
   "execution_count": 67,
   "id": "ac29e9ce-9c72-4f16-a6f6-3a7b649aa01c",
   "metadata": {},
   "outputs": [
    {
     "data": {
      "text/html": [
       "<div>\n",
       "<style scoped>\n",
       "    .dataframe tbody tr th:only-of-type {\n",
       "        vertical-align: middle;\n",
       "    }\n",
       "\n",
       "    .dataframe tbody tr th {\n",
       "        vertical-align: top;\n",
       "    }\n",
       "\n",
       "    .dataframe thead th {\n",
       "        text-align: right;\n",
       "    }\n",
       "</style>\n",
       "<table border=\"1\" class=\"dataframe\">\n",
       "  <thead>\n",
       "    <tr style=\"text-align: right;\">\n",
       "      <th></th>\n",
       "      <th>calitp_itp_id</th>\n",
       "      <th>calitp_url_number</th>\n",
       "      <th>stop_id</th>\n",
       "      <th>stop_lat</th>\n",
       "      <th>stop_lon</th>\n",
       "      <th>stop_name</th>\n",
       "      <th>geometry</th>\n",
       "      <th>trip_id</th>\n",
       "      <th>stop_sequence</th>\n",
       "      <th>arrival_time</th>\n",
       "      <th>...</th>\n",
       "      <th>continuous_pickup</th>\n",
       "      <th>continuous_drop_off</th>\n",
       "      <th>shape_dist_traveled</th>\n",
       "      <th>timepoint</th>\n",
       "      <th>calitp_extracted_at</th>\n",
       "      <th>service_date</th>\n",
       "      <th>trip_key</th>\n",
       "      <th>route_id</th>\n",
       "      <th>direction_id</th>\n",
       "      <th>shape_id</th>\n",
       "    </tr>\n",
       "  </thead>\n",
       "  <tbody>\n",
       "    <tr>\n",
       "      <th>0</th>\n",
       "      <td>170</td>\n",
       "      <td>0</td>\n",
       "      <td>3150</td>\n",
       "      <td>33.792724</td>\n",
       "      <td>-118.222183</td>\n",
       "      <td>VILLAGES AT CABRILLO</td>\n",
       "      <td>POINT (164664.672 -467611.924)</td>\n",
       "      <td>9288593</td>\n",
       "      <td>29</td>\n",
       "      <td>07:36:00</td>\n",
       "      <td>...</td>\n",
       "      <td>None</td>\n",
       "      <td>None</td>\n",
       "      <td>7.127999999999999</td>\n",
       "      <td>1</td>\n",
       "      <td>2021-12-17</td>\n",
       "      <td>2021-11-30</td>\n",
       "      <td>3082123411846948636</td>\n",
       "      <td>175</td>\n",
       "      <td>0</td>\n",
       "      <td>1750012</td>\n",
       "    </tr>\n",
       "    <tr>\n",
       "      <th>1</th>\n",
       "      <td>170</td>\n",
       "      <td>0</td>\n",
       "      <td>0544</td>\n",
       "      <td>33.782963</td>\n",
       "      <td>-118.132392</td>\n",
       "      <td>LOS ALTOS &amp; PCH NE</td>\n",
       "      <td>POINT (173001.551 -468534.279)</td>\n",
       "      <td>9288593</td>\n",
       "      <td>6</td>\n",
       "      <td>07:08:00</td>\n",
       "      <td>...</td>\n",
       "      <td>None</td>\n",
       "      <td>None</td>\n",
       "      <td>1.295</td>\n",
       "      <td>1</td>\n",
       "      <td>2021-12-17</td>\n",
       "      <td>2021-11-30</td>\n",
       "      <td>3082123411846948636</td>\n",
       "      <td>175</td>\n",
       "      <td>0</td>\n",
       "      <td>1750012</td>\n",
       "    </tr>\n",
       "    <tr>\n",
       "      <th>2</th>\n",
       "      <td>170</td>\n",
       "      <td>0</td>\n",
       "      <td>1688</td>\n",
       "      <td>33.789962</td>\n",
       "      <td>-118.163612</td>\n",
       "      <td>PCH &amp; JUNIPERO NW</td>\n",
       "      <td>POINT (170094.890 -467814.760)</td>\n",
       "      <td>9288593</td>\n",
       "      <td>14</td>\n",
       "      <td>07:17:57</td>\n",
       "      <td>...</td>\n",
       "      <td>None</td>\n",
       "      <td>None</td>\n",
       "      <td>3.338</td>\n",
       "      <td>0</td>\n",
       "      <td>2021-12-17</td>\n",
       "      <td>2021-11-30</td>\n",
       "      <td>3082123411846948636</td>\n",
       "      <td>175</td>\n",
       "      <td>0</td>\n",
       "      <td>1750012</td>\n",
       "    </tr>\n",
       "  </tbody>\n",
       "</table>\n",
       "<p>3 rows × 24 columns</p>\n",
       "</div>"
      ],
      "text/plain": [
       "   calitp_itp_id  calitp_url_number stop_id   stop_lat    stop_lon  \\\n",
       "0            170                  0    3150  33.792724 -118.222183   \n",
       "1            170                  0    0544  33.782963 -118.132392   \n",
       "2            170                  0    1688  33.789962 -118.163612   \n",
       "\n",
       "              stop_name                        geometry  trip_id  \\\n",
       "0  VILLAGES AT CABRILLO  POINT (164664.672 -467611.924)  9288593   \n",
       "1    LOS ALTOS & PCH NE  POINT (173001.551 -468534.279)  9288593   \n",
       "2     PCH & JUNIPERO NW  POINT (170094.890 -467814.760)  9288593   \n",
       "\n",
       "   stop_sequence arrival_time  ... continuous_pickup continuous_drop_off  \\\n",
       "0             29     07:36:00  ...              None                None   \n",
       "1              6     07:08:00  ...              None                None   \n",
       "2             14     07:17:57  ...              None                None   \n",
       "\n",
       "  shape_dist_traveled timepoint calitp_extracted_at service_date  \\\n",
       "0   7.127999999999999         1          2021-12-17   2021-11-30   \n",
       "1               1.295         1          2021-12-17   2021-11-30   \n",
       "2               3.338         0          2021-12-17   2021-11-30   \n",
       "\n",
       "              trip_key route_id direction_id shape_id  \n",
       "0  3082123411846948636      175            0  1750012  \n",
       "1  3082123411846948636      175            0  1750012  \n",
       "2  3082123411846948636      175            0  1750012  \n",
       "\n",
       "[3 rows x 24 columns]"
      ]
     },
     "execution_count": 67,
     "metadata": {},
     "output_type": "execute_result"
    }
   ],
   "source": [
    "trip_st_gdf.head(3)"
   ]
  },
  {
   "cell_type": "code",
   "execution_count": 75,
   "id": "c9f54ef4-6efe-4da0-a1a5-6934e445e150",
   "metadata": {},
   "outputs": [],
   "source": [
    "test1 = rt.ScheduleInterpolator(trip_st_gdf = trip_st_gdf, shape_gdf = lbt_routelines)"
   ]
  },
  {
   "cell_type": "code",
   "execution_count": 76,
   "id": "f1421834-fb89-46c9-b963-9f63e1da60dd",
   "metadata": {},
   "outputs": [
    {
     "data": {
      "text/plain": [
       "Timestamp('2021-11-30 07:25:00')"
      ]
     },
     "execution_count": 76,
     "metadata": {},
     "output_type": "execute_result"
    }
   ],
   "source": [
    "test1.time_at_position(7707.513766)"
   ]
  },
  {
   "cell_type": "code",
   "execution_count": 77,
   "id": "e3595933-ebbb-401d-bb99-6365c0e67cef",
   "metadata": {},
   "outputs": [],
   "source": [
    "test2 = rt.ScheduleInterpolator(trip_st_gdf = trip_st_gdf, shape_gdf = lbt_routelines)"
   ]
  },
  {
   "cell_type": "code",
   "execution_count": 78,
   "id": "4eca74f8-6198-4d72-9faf-c4261730fccf",
   "metadata": {},
   "outputs": [
    {
     "data": {
      "text/plain": [
       "Timestamp('2021-11-30 07:25:00')"
      ]
     },
     "execution_count": 78,
     "metadata": {},
     "output_type": "execute_result"
    }
   ],
   "source": [
    "test2.time_at_position(7707.513766)"
   ]
  },
  {
   "cell_type": "code",
   "execution_count": 73,
   "id": "76d0cd5a-a459-4d74-904e-2e09bc34de79",
   "metadata": {},
   "outputs": [],
   "source": [
    "# test2.detailed_speed_map()"
   ]
  },
  {
   "cell_type": "code",
   "execution_count": 74,
   "id": "26b033a2-9888-4a0f-81d9-6dcf928e1108",
   "metadata": {
    "tags": []
   },
   "outputs": [
    {
     "ename": "NameError",
     "evalue": "name 'test_delay' is not defined",
     "output_type": "error",
     "traceback": [
      "\u001b[0;31m---------------------------------------------------------------------------\u001b[0m",
      "\u001b[0;31mNameError\u001b[0m                                 Traceback (most recent call last)",
      "\u001b[0;32m/tmp/ipykernel_885/1721125153.py\u001b[0m in \u001b[0;36m<module>\u001b[0;34m\u001b[0m\n\u001b[1;32m      1\u001b[0m \u001b[0;31m#TODO rewrite to not modify attributes!!\u001b[0m\u001b[0;34m\u001b[0m\u001b[0;34m\u001b[0m\u001b[0m\n\u001b[1;32m      2\u001b[0m \u001b[0;34m\u001b[0m\u001b[0m\n\u001b[0;32m----> 3\u001b[0;31m endpoint_delay_sum = (test_delay\n\u001b[0m\u001b[1;32m      4\u001b[0m  \u001b[0;34m>>\u001b[0m \u001b[0mgroup_by\u001b[0m\u001b[0;34m(\u001b[0m\u001b[0m_\u001b[0m\u001b[0;34m.\u001b[0m\u001b[0mtrip_id\u001b[0m\u001b[0;34m)\u001b[0m\u001b[0;34m\u001b[0m\u001b[0;34m\u001b[0m\u001b[0m\n\u001b[1;32m      5\u001b[0m  \u001b[0;34m>>\u001b[0m \u001b[0mfilter\u001b[0m\u001b[0;34m(\u001b[0m\u001b[0m_\u001b[0m\u001b[0;34m.\u001b[0m\u001b[0mstop_sequence\u001b[0m \u001b[0;34m==\u001b[0m \u001b[0m_\u001b[0m\u001b[0;34m.\u001b[0m\u001b[0mstop_sequence\u001b[0m\u001b[0;34m.\u001b[0m\u001b[0mmax\u001b[0m\u001b[0;34m(\u001b[0m\u001b[0;34m)\u001b[0m\u001b[0;34m)\u001b[0m\u001b[0;34m\u001b[0m\u001b[0;34m\u001b[0m\u001b[0m\n",
      "\u001b[0;31mNameError\u001b[0m: name 'test_delay' is not defined"
     ]
    }
   ],
   "source": [
    "#TODO rewrite to not modify attributes!!\n",
    "\n",
    "endpoint_delay_sum = (test_delay\n",
    " >> group_by(_.trip_id)\n",
    " >> filter(_.stop_sequence == _.stop_sequence.max())\n",
    " >> ungroup()\n",
    " >> mutate(total_delay = _.delay.sum())\n",
    ")"
   ]
  },
  {
   "cell_type": "code",
   "execution_count": null,
   "id": "07255bc7-075a-4b9a-8f4d-01ab116440ba",
   "metadata": {
    "tags": []
   },
   "outputs": [],
   "source": [
    "starts = (test_delay\n",
    " >> group_by(_.trip_id)\n",
    " >> filter(_.stop_sequence == _.stop_sequence.min())\n",
    " >> ungroup()\n",
    " # >> mutate(total_delay = _.delay.sum())\n",
    " >> select(_.start_time == _.actual_time, _.trip_id, _.start_meters == _.shape_meters)\n",
    ")"
   ]
  },
  {
   "cell_type": "code",
   "execution_count": null,
   "id": "3ca5c85a-d4da-4ac9-917e-a1ca4d7b6e62",
   "metadata": {},
   "outputs": [],
   "source": [
    "speed_and_delay = endpoint_delay_sum >> inner_join(_, starts, on='trip_id')\n",
    "\n",
    "speed_and_delay['seconds'] = speed_and_delay.apply(\n",
    "    lambda x: (x.actual_time - x.start_time).seconds, axis=1)\n",
    "\n",
    "speed_and_delay['trip_speed'] = (speed_and_delay.shape_meters - speed_and_delay.start_meters) / speed_and_delay.seconds\n",
    "\n",
    "speed_and_delay['trip_speed_mph'] = speed_and_delay.trip_speed * MPH_PER_MPS\n",
    "\n",
    "speed_and_delay['trip_speed_mph'].mean()"
   ]
  },
  {
   "cell_type": "code",
   "execution_count": null,
   "id": "02d51784-b1b3-4711-ae2e-7594beed0a5e",
   "metadata": {},
   "outputs": [],
   "source": [
    "speed_and_delay.head(3)"
   ]
  },
  {
   "cell_type": "code",
   "execution_count": null,
   "id": "a96fafe1-af52-4ead-88d0-b07e186ed397",
   "metadata": {},
   "outputs": [],
   "source": [
    "((speed_and_delay.shape_meters - speed_and_delay.start_meters).sum()\n",
    "/ speed_and_delay.seconds.sum()) * MPH_PER_MPS"
   ]
  },
  {
   "cell_type": "code",
   "execution_count": null,
   "id": "404ec264-0768-4948-9f63-f14869898920",
   "metadata": {},
   "outputs": [],
   "source": [
    "# speed_and_delay >> mutate(total_mean_mph = (\n",
    "#     (_.shape_meters - _.start_meters).sum()\n",
    "#     / _.seconds.sum()) * MPH_PER_MPS)"
   ]
  },
  {
   "cell_type": "code",
   "execution_count": null,
   "id": "ceb37842-1831-401d-98d7-82caa7579fff",
   "metadata": {},
   "outputs": [],
   "source": [
    "(lbt_routelines.calitp_itp_id == 170).all()"
   ]
  },
  {
   "cell_type": "code",
   "execution_count": null,
   "id": "5ee7f613-f411-4069-b832-51a626d68926",
   "metadata": {},
   "outputs": [],
   "source": []
  }
 ],
 "metadata": {
  "kernelspec": {
   "display_name": "Python 3 (ipykernel)",
   "language": "python",
   "name": "python3"
  },
  "language_info": {
   "codemirror_mode": {
    "name": "ipython",
    "version": 3
   },
   "file_extension": ".py",
   "mimetype": "text/x-python",
   "name": "python",
   "nbconvert_exporter": "python",
   "pygments_lexer": "ipython3",
   "version": "3.9.7"
  }
 },
 "nbformat": 4,
 "nbformat_minor": 5
}
