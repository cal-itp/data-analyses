{
 "cells": [
  {
   "cell_type": "code",
   "execution_count": 1,
   "id": "0cc75cc8-125b-4099-bfb3-93a6cd0380cb",
   "metadata": {},
   "outputs": [
    {
     "name": "stderr",
     "output_type": "stream",
     "text": [
      "/opt/conda/lib/python3.9/site-packages/geopandas/_compat.py:111: UserWarning: The Shapely GEOS version (3.9.1-CAPI-1.14.2) is incompatible with the GEOS version PyGEOS was compiled with (3.10.1-CAPI-1.16.0). Conversions between both will be slow.\n",
      "  warnings.warn(\n"
     ]
    }
   ],
   "source": [
    "import os\n",
    "os.environ[\"CALITP_BQ_MAX_BYTES\"] = str(100_000_000_000)\n",
    "\n",
    "from calitp.tables import tbl\n",
    "from calitp import query_sql\n",
    "import calitp.magics\n",
    "\n",
    "import shared_utils\n",
    "import branca\n",
    "from utils import *\n",
    "\n",
    "from siuba import *\n",
    "import pandas as pd\n",
    "import geopandas as gpd\n",
    "import shapely\n",
    "\n",
    "import datetime as dt\n",
    "import time\n",
    "from zoneinfo import ZoneInfo"
   ]
  },
  {
   "cell_type": "markdown",
   "id": "85e01be9-f0aa-41e7-bcb2-6aede59b25a1",
   "metadata": {},
   "source": [
    "### Get and transform test data (Long Beach Transit, 170)"
   ]
  },
  {
   "cell_type": "code",
   "execution_count": 2,
   "id": "f3e3d00e-8bf5-4972-8aea-abcf92253424",
   "metadata": {},
   "outputs": [],
   "source": [
    "lbt_itp_id = 170"
   ]
  },
  {
   "cell_type": "code",
   "execution_count": 327,
   "id": "738545a2-d78b-4df5-a2e9-952125c37505",
   "metadata": {
    "tags": []
   },
   "outputs": [],
   "source": [
    "# %%sql -o lbt_positions\n",
    "\n",
    "# # get all vehicle positions on selected dates, for the feed with itp id 170, and url number 0\n",
    "# SELECT *\n",
    "# FROM `cal-itp-data-infra.gtfs_rt.vehicle_positions`\n",
    "# WHERE _FILE_NAME=\"gs://gtfs-data/rt-processed/vehicle_positions/vp_2021-12-10_170_0.parquet\"\n",
    "#     # OR _FILE_NAME=\"gs://gtfs-data/rt-processed/vehicle_positions/vp_2021-12-02_170_0.parquet\"\n",
    "#     # OR _FILE_NAME=\"gs://gtfs-data/rt-processed/vehicle_positions/vp_2021-12-03_170_0.parquet\"\n",
    "#     # OR _FILE_NAME=\"gs://gtfs-data/rt-processed/vehicle_positions/vp_2021-12-04_170_0.parquet\"\n",
    "#     # OR _FILE_NAME=\"gs://gtfs-data/rt-processed/vehicle_positions/vp_2021-12-05_170_0.parquet\"\n",
    "#     # OR _FILE_NAME=\"gs://gtfs-data/rt-processed/vehicle_positions/vp_2021-12-06_170_0.parquet\"\n",
    "#     # OR _FILE_NAME=\"gs://gtfs-data/rt-processed/vehicle_positions/vp_2021-12-07_170_0.parquet\"\n",
    "# ORDER BY header_timestamp"
   ]
  },
  {
   "cell_type": "code",
   "execution_count": 328,
   "id": "b376c866-82ef-4573-93d4-82f933cee7b6",
   "metadata": {},
   "outputs": [],
   "source": [
    "# lbt_positions.to_parquet(f'{GCS_FILE_PATH}lbt_positions.parquet')"
   ]
  },
  {
   "cell_type": "code",
   "execution_count": 329,
   "id": "fb99a04b-16d5-4748-a8fb-88f9f1c4c1d4",
   "metadata": {},
   "outputs": [],
   "source": [
    "lbt_positions = pd.read_parquet(f'{GCS_FILE_PATH}lbt_positions.parquet')"
   ]
  },
  {
   "cell_type": "markdown",
   "id": "9e86e42d-8978-4ef2-b674-dbfa26c6702c",
   "metadata": {},
   "source": [
    "#### Reformat timestamps"
   ]
  },
  {
   "cell_type": "code",
   "execution_count": 330,
   "id": "e9620700-857e-4036-bad2-c1c15e7b4039",
   "metadata": {},
   "outputs": [
    {
     "data": {
      "text/plain": [
       "('PST', 'PDT')"
      ]
     },
     "execution_count": 330,
     "metadata": {},
     "output_type": "execute_result"
    }
   ],
   "source": [
    "## set system time\n",
    "os.environ['TZ'] = 'America/Los_Angeles'\n",
    "time.tzset()\n",
    "time.tzname"
   ]
  },
  {
   "cell_type": "code",
   "execution_count": 331,
   "id": "1216a725-6cbf-48f9-bc2e-cda3dc62510f",
   "metadata": {},
   "outputs": [],
   "source": [
    "def convert_ts(ts):    \n",
    "    pacific_dt = dt.datetime.fromtimestamp(ts)\n",
    "    # print(pacific_dt)\n",
    "    return pacific_dt"
   ]
  },
  {
   "cell_type": "code",
   "execution_count": 332,
   "id": "93961407-fb64-46bc-8044-47b3c7f19b59",
   "metadata": {},
   "outputs": [],
   "source": [
    "lbt_positions.vehicle_timestamp = lbt_positions.vehicle_timestamp.apply(convert_ts)\n",
    "lbt_positions.header_timestamp = lbt_positions.header_timestamp.apply(convert_ts)"
   ]
  },
  {
   "cell_type": "code",
   "execution_count": 333,
   "id": "bad9dc13-f31b-4c08-8fd8-926658762fce",
   "metadata": {},
   "outputs": [],
   "source": [
    "pch_routes = ('171', '172', '173', '174', '175')"
   ]
  },
  {
   "cell_type": "code",
   "execution_count": 334,
   "id": "22d0c883-dcdf-4831-916a-ea1b82da1b0c",
   "metadata": {},
   "outputs": [],
   "source": [
    "# min_date, max_date = ('2021-11-01', '2021-12-09')\n",
    "\n",
    "# lbt_trips = (tbl.views.gtfs_schedule_fact_daily_trips()\n",
    "#     # >> filter(_.calitp_extracted_at <= min_date, _.calitp_deleted_at > max_date)\n",
    "#     >> filter(_.calitp_itp_id == lbt_itp_id)\n",
    "#     >> filter(_.service_date == max_date)\n",
    "#     >> filter(_.is_in_service == True)\n",
    "#     >> select(_.trip_key, _.service_date)\n",
    "#     >> inner_join(_, tbl.views.gtfs_schedule_dim_trips(), on = 'trip_key')\n",
    "#     >> select(_.calitp_itp_id, _.calitp_url_number,\n",
    "#               _.date == _.service_date,\n",
    "#               _.trip_key, _.trip_id, _.route_id, _.direction_id,\n",
    "#               _.shape_id, _.calitp_extracted_at, _.calitp_deleted_at)\n",
    "#     # >> filter(_.route_id.isin(pch_routes))\n",
    "\n",
    "#     >> collect()\n",
    "#     )"
   ]
  },
  {
   "cell_type": "code",
   "execution_count": 335,
   "id": "5e3550e9-6be6-476e-aaa6-c12fe3f0505f",
   "metadata": {},
   "outputs": [],
   "source": [
    "# lbt_trips.to_parquet(f'{GCS_FILE_PATH}lbt_trips.parquet')"
   ]
  },
  {
   "cell_type": "code",
   "execution_count": 336,
   "id": "9e6b0bed-8669-467e-9cb0-0924165592ae",
   "metadata": {},
   "outputs": [],
   "source": [
    "lbt_trips = pd.read_parquet(f'{GCS_FILE_PATH}lbt_trips.parquet')"
   ]
  },
  {
   "cell_type": "code",
   "execution_count": 337,
   "id": "c61d00c8-6eeb-42ee-a870-0e9207c7fe50",
   "metadata": {},
   "outputs": [],
   "source": [
    "# stop_times = (tbl.gtfs_schedule.stop_times()\n",
    "#      >> filter(_.calitp_itp_id == 170)\n",
    "#      # >> filter(_.trip_id == '9288623')\n",
    "#      >> mutate(stop_sequence = _.stop_sequence.astype(int)) ## in SQL!\n",
    "#      >> arrange(_.stop_sequence)\n",
    "#      >> collect()\n",
    "#     )"
   ]
  },
  {
   "cell_type": "code",
   "execution_count": 338,
   "id": "06e3466b-dd02-4b31-8fe6-045b95c6a2a3",
   "metadata": {},
   "outputs": [],
   "source": [
    "# stop_times.to_parquet(f'{GCS_FILE_PATH}lbt_st.parquet')"
   ]
  },
  {
   "cell_type": "code",
   "execution_count": 339,
   "id": "f57e50be-02f9-45a2-b8b2-d684117077e2",
   "metadata": {},
   "outputs": [],
   "source": [
    "stop_times = pd.read_parquet(f'{GCS_FILE_PATH}lbt_st.parquet')"
   ]
  },
  {
   "cell_type": "code",
   "execution_count": 340,
   "id": "c75d36aa-437d-40e9-afbd-f06ecb2684f3",
   "metadata": {},
   "outputs": [],
   "source": [
    "# stops = (tbl.gtfs_schedule.stops()\n",
    "#      >> filter(_.calitp_itp_id == 170)\n",
    "#      # >> filter(_.trip_id == '9288623')\n",
    "#      # >> mutate(stop_sequence = _.stop_sequence.astype(int)) ## in SQL!\n",
    "#      # >> arrange(_.stop_sequence)\n",
    "#      >> select(_.calitp_itp_id, _.calitp_url_number, _.stop_id,\n",
    "#               _.stop_lat, _.stop_lon, _.stop_name)\n",
    "#      >> collect()\n",
    "#     )\n",
    "\n",
    "# stops = gpd.GeoDataFrame(stops, geometry=gpd.points_from_xy(stops.stop_lon, stops.stop_lat),\n",
    "#                         crs='EPSG:4326').to_crs(shared_utils.geography_utils.CA_NAD83Albers)"
   ]
  },
  {
   "cell_type": "code",
   "execution_count": 341,
   "id": "b9272195-7dc0-47dd-a5aa-11f4650a28ea",
   "metadata": {},
   "outputs": [],
   "source": [
    "# shared_utils.utils.geoparquet_gcs_export(stops, GCS_FILE_PATH, 'lbt_stops')"
   ]
  },
  {
   "cell_type": "code",
   "execution_count": 342,
   "id": "ec461965-2e8e-4924-a02d-ec2778841d01",
   "metadata": {},
   "outputs": [],
   "source": [
    "stops = gpd.read_parquet(f'{GCS_FILE_PATH}lbt_stops.parquet')"
   ]
  },
  {
   "cell_type": "code",
   "execution_count": 343,
   "id": "62fe3fbf-1d71-4010-a478-a76230b3ca8e",
   "metadata": {},
   "outputs": [],
   "source": [
    "trips_positions_joined = (lbt_trips\n",
    "                        # >> filter(_.route_id.isin(pch_routes))\n",
    "                        >> inner_join(_, (lbt_positions >> rename(trip_id = 'vehicle_trip_id')),\n",
    "                                      on= ['trip_id', 'calitp_itp_id', 'calitp_url_number'])\n",
    "                       )"
   ]
  },
  {
   "cell_type": "code",
   "execution_count": 344,
   "id": "8c4bf5d8-be49-4379-9bac-a04f4869260c",
   "metadata": {},
   "outputs": [
    {
     "data": {
      "text/plain": [
       "Timestamp('2021-12-01 11:15:59')"
      ]
     },
     "execution_count": 344,
     "metadata": {},
     "output_type": "execute_result"
    }
   ],
   "source": [
    "trips_positions_joined.vehicle_timestamp.max()"
   ]
  },
  {
   "cell_type": "code",
   "execution_count": 345,
   "id": "dabf0521-6f82-48c4-8664-95df875235c1",
   "metadata": {},
   "outputs": [
    {
     "data": {
      "text/plain": [
       "Timestamp('2021-11-30 15:54:58')"
      ]
     },
     "execution_count": 345,
     "metadata": {},
     "output_type": "execute_result"
    }
   ],
   "source": [
    "trips_positions_joined.vehicle_timestamp.min()"
   ]
  },
  {
   "cell_type": "code",
   "execution_count": 346,
   "id": "1194251c-6ec1-4614-b511-679bbea9eab3",
   "metadata": {},
   "outputs": [],
   "source": [
    "trips_positions_joined = gpd.GeoDataFrame(trips_positions_joined,\n",
    "                                geometry=gpd.points_from_xy(trips_positions_joined.vehicle_position_longitude,\n",
    "                                                            trips_positions_joined.vehicle_position_latitude),\n",
    "                                crs=shared_utils.geography_utils.WGS84).to_crs(shared_utils.geography_utils.CA_NAD83Albers)"
   ]
  },
  {
   "cell_type": "code",
   "execution_count": 347,
   "id": "25f7a355-4465-4bed-921b-c554c84ee842",
   "metadata": {},
   "outputs": [],
   "source": [
    "# lbt_routelines = shared_utils.geography_utils.make_routes_shapefile(['170'], ## LBT\n",
    "#                                 shared_utils.geography_utils.CA_NAD83Albers)"
   ]
  },
  {
   "cell_type": "code",
   "execution_count": 348,
   "id": "db170719-a873-4aab-b93b-e6d7ce48a7e1",
   "metadata": {},
   "outputs": [],
   "source": [
    "# shared_utils.utils.geoparquet_gcs_export(lbt_routelines, GCS_FILE_PATH, 'lbt_routelines')"
   ]
  },
  {
   "cell_type": "code",
   "execution_count": 349,
   "id": "6ce3128b-2c77-42ca-bbe6-75c7f38a70f1",
   "metadata": {},
   "outputs": [],
   "source": [
    "lbt_routelines = gpd.read_parquet(f'{GCS_FILE_PATH}lbt_routelines.parquet')"
   ]
  },
  {
   "cell_type": "markdown",
   "id": "ddaed497-83b0-4faf-905d-498d920f0b14",
   "metadata": {},
   "source": [
    "## Vehicle Positions Trip class"
   ]
  },
  {
   "cell_type": "code",
   "execution_count": 350,
   "id": "5c2195cd-2555-416f-9ad1-675a107c4bb6",
   "metadata": {},
   "outputs": [],
   "source": [
    "class VehiclePositionsTrip:\n",
    "    '''Trip data and useful methods for analyzing GTFS-RT vehicle positions data'''\n",
    "    \n",
    "    def __init__(self, vp_gdf, shape_gdf):\n",
    "        \n",
    "        global vp_gdff\n",
    "        vp_gdff = vp_gdf\n",
    "        \n",
    "        assert vp_gdf.crs == shared_utils.geography_utils.CA_NAD83Albers\n",
    "        vp_gdf = vp_gdf >> distinct(_.trip_id, _.vehicle_timestamp, _keep_all=True)\n",
    "        \n",
    "        self.date = vp_gdf.date.iloc[0]\n",
    "        self.trip_id = vp_gdf.trip_id.iloc[0]\n",
    "        self.route_id = vp_gdf.route_id.iloc[0]\n",
    "        self.shape_id = vp_gdf.shape_id.iloc[0]\n",
    "        self.direction_id = vp_gdf.direction_id.iloc[0]\n",
    "        self.entity_id = vp_gdf.entity_id.iloc[0]\n",
    "        self.vehicle_id = vp_gdf.vehicle_id.iloc[0]\n",
    "        self.calitp_itp_id = vp_gdf.calitp_itp_id.iloc[0]\n",
    "        self.calitp_url_number = vp_gdf.calitp_url_number.iloc[0]\n",
    "        self.vehicle_positions = vp_gdf >> select(_.vehicle_timestamp,\n",
    "                                              _.header_timestamp,\n",
    "                                              _.geometry)\n",
    "        self._attach_shape(shape_gdf)\n",
    "        \n",
    "    def _attach_shape(self, shape_gdf):\n",
    "        assert shape_gdf.crs == shared_utils.geography_utils.CA_NAD83Albers\n",
    "        assert shape_gdf.calitp_itp_id.iloc[0] == self.calitp_itp_id\n",
    "        self.shape = (shape_gdf\n",
    "                        >> filter(_.shape_id == self.shape_id)\n",
    "                        >> select(_.shape_id, _.geometry))\n",
    "        self.vehicle_positions['shape_meters'] = (self.vehicle_positions.geometry\n",
    "                                .apply(lambda x: self.shape.geometry.iloc[0].project(x)))\n",
    "        self._linear_reference()\n",
    "        \n",
    "    def _linear_reference(self):\n",
    "        \n",
    "        self.vehicle_positions = self._shift_calculate(self.vehicle_positions)\n",
    "        self.progressing_positions = self.vehicle_positions >> filter(_.progressed)\n",
    "        ## check if positions have progressed from immediate previous point, but not previous point of forwards progression\n",
    "        if not self.progressing_positions.shape_meters.is_monotonic:\n",
    "            print(f'check location data for trip {self.trip_id}')\n",
    "            self._fix_progression()\n",
    "    \n",
    "    def _fix_progression(self):\n",
    "        \n",
    "        self.progressing_positions = self._shift_calculate(self.progressing_positions)\n",
    "        self.progressing_positions = self.progressing_positions >> filter(_.progressed)\n",
    "        ## check if positions have progressed from immediate previous point, but not previous point of forwards progression\n",
    "        if not self.progressing_positions.shape_meters.is_monotonic:\n",
    "            # print(f'recheck location data for trip {self.trip_id}')\n",
    "            self._fix_progression()\n",
    "    \n",
    "    def _shift_calculate(self, vehicle_positions):\n",
    "        vehicle_positions['last_time'] = vehicle_positions.vehicle_timestamp.shift(1)\n",
    "        vehicle_positions['last_loc'] = vehicle_positions.shape_meters.shift(1)\n",
    "        vehicle_positions['secs_from_last'] = vehicle_positions.vehicle_timestamp - vehicle_positions.last_time\n",
    "        vehicle_positions.secs_from_last = (vehicle_positions.secs_from_last\n",
    "                                        .apply(lambda x: x.seconds))\n",
    "        vehicle_positions['meters_from_last'] = (vehicle_positions.shape_meters\n",
    "                                                      - vehicle_positions.last_loc)\n",
    "        vehicle_positions['progressed'] = vehicle_positions['meters_from_last'] > 0 ## has the bus moved ahead?\n",
    "        vehicle_positions['speed_from_last'] = (vehicle_positions.meters_from_last\n",
    "                                                     / vehicle_positions.secs_from_last) ## meters/second\n",
    "        return vehicle_positions\n",
    "        \n",
    "        \n",
    "#     def position_at_time(self, dt): ## implement if/when needed\n",
    "        \n",
    "    def time_at_position(self, desired_position):\n",
    "        \n",
    "        global bounding_points\n",
    "        \n",
    "        try:\n",
    "            next_point = (self.progressing_positions\n",
    "                  >> filter(_.shape_meters > desired_position)\n",
    "                  >> filter(_.shape_meters == _.shape_meters.min())\n",
    "                 )\n",
    "            prev_point = (self.progressing_positions\n",
    "                  >> filter(_.shape_meters < desired_position)\n",
    "                  >> filter(_.shape_meters == _.shape_meters.max())\n",
    "                 )\n",
    "            bounding_points = (prev_point.append(next_point).copy().reset_index(drop=True)\n",
    "                    >> select(-_.secs_from_last, -_.meters_from_last, -_.speed_from_last)) ## drop in case bounding points are nonconsecutive\n",
    "            secs_from_last = (bounding_points.loc[1].vehicle_timestamp - bounding_points.loc[0].vehicle_timestamp).seconds\n",
    "            meters_from_last = bounding_points.loc[1].shape_meters - bounding_points.loc[0].shape_meters\n",
    "            speed_from_last = meters_from_last / secs_from_last\n",
    "\n",
    "            meters_position_to_next = bounding_points.loc[1].shape_meters - desired_position\n",
    "            est_seconds_to_next = meters_position_to_next / speed_from_last\n",
    "            est_td_to_next = dt.timedelta(seconds=est_seconds_to_next)\n",
    "            est_dt = bounding_points.iloc[-1].vehicle_timestamp - est_td_to_next\n",
    "\n",
    "            return est_dt\n",
    "        except KeyError:\n",
    "            print(f'insufficient bounding points for trip {self.trip_id}, location {desired_position}', end=': ')\n",
    "            print(f'start/end of route?')\n",
    "            return None\n",
    "        \n",
    "    def detailed_speed_map(self):\n",
    "        \n",
    "        gdf = self.vehicle_positions.copy()\n",
    "        gdf['time'] = gdf.vehicle_timestamp.apply(lambda x: x.strftime('%H:%M:%S'))\n",
    "\n",
    "        gdf = gdf >> select(_.geometry, _.time,\n",
    "                            _.shape_meters, _.last_loc, _.speed_from_last)\n",
    "        gdf['speed_mph'] = gdf.speed_from_last * MPH_PER_MPS\n",
    "        \n",
    "        gdf.geometry = gdf.apply(lambda x: shapely.ops.substring(self.shape.geometry.iloc[0],\n",
    "                                                                x.last_loc,\n",
    "                                                                x.shape_meters),\n",
    "                                axis = 1)\n",
    "        \n",
    "        gdf.geometry = gdf.buffer(25)\n",
    "        gdf = gdf.to_crs(shared_utils.geography_utils.WGS84)\n",
    "        gdf = gdf >> filter(_.speed_mph > 0)\n",
    "        gdf = gdf >> mutate(speed_mph = _.speed_mph.round(1),\n",
    "                           shape_meters = _.shape_meters.round(0))\n",
    "        \n",
    "        gdf['shape_id'] = self.shape_id\n",
    "        gdf['direction_id'] = self.direction_id\n",
    "        gdf['trip_id'] = self.trip_id\n",
    "        # display(gdf)\n",
    "        \n",
    "        if gdf.speed_mph.max() > 70:\n",
    "            print(f'speed above 70 for trip {self.trip_id}, dropping')\n",
    "            gdf = gdf >> filter(_.speed_mph < 70)\n",
    "\n",
    "        colorscale = branca.colormap.step.RdYlGn_08.scale(vmin=gdf.speed_mph.min(), \n",
    "                     vmax=gdf.speed_mph.max())\n",
    "        colorscale.caption = \"Speed (miles per hour)\"\n",
    "        \n",
    "        popup_dict = {\n",
    "            \"speed_mph\": \"Speed (miles per hour)\",\n",
    "            \"shape_meters\": \"Distance along route (meters)\",\n",
    "            \"shape_id\": \"Shape ID\",\n",
    "            \"direction_id\": \"Direction ID\",\n",
    "            \"trip_id\": \"Trip ID\",\n",
    "            \"time\": \"Time\"\n",
    "        }\n",
    "        \n",
    "        g = shared_utils.map_utils.make_folium_choropleth_map(\n",
    "            gdf,\n",
    "            plot_col = 'speed_mph',\n",
    "            popup_dict = popup_dict,\n",
    "            tooltip_dict = popup_dict,\n",
    "            colorscale = colorscale,\n",
    "            fig_width = 1000, fig_height = 700,\n",
    "            zoom = 13,\n",
    "            centroid = [33.790, -118.154],\n",
    "            title=f\"Trip Speed Map (trip id {self.trip_id})\",\n",
    "            highlight_function=lambda x: {\n",
    "                'fillColor': '#DD1C77',\n",
    "                \"fillOpacity\": 0.6,\n",
    "            }\n",
    "        )\n",
    "\n",
    "        return g"
   ]
  },
  {
   "cell_type": "markdown",
   "id": "74900b4e-d7d7-426c-9c1e-1ff2919685fc",
   "metadata": {},
   "source": [
    "#### Examples"
   ]
  },
  {
   "cell_type": "code",
   "execution_count": 351,
   "id": "c17c2768-2501-4eea-9e5c-bdc9afcf7e73",
   "metadata": {},
   "outputs": [],
   "source": [
    "example_trip = trips_positions_joined >> filter(_.trip_id == '9288623')"
   ]
  },
  {
   "cell_type": "code",
   "execution_count": 352,
   "id": "b0ffcaec-d642-4c54-a204-5f4ce21c0856",
   "metadata": {},
   "outputs": [],
   "source": [
    "example_vp_trip = VehiclePositionsTrip(example_trip, lbt_routelines)"
   ]
  },
  {
   "cell_type": "code",
   "execution_count": 353,
   "id": "215d5b6f-c521-444c-9a41-b34e83fabcaa",
   "metadata": {},
   "outputs": [
    {
     "data": {
      "text/html": [
       "<div>\n",
       "<style scoped>\n",
       "    .dataframe tbody tr th:only-of-type {\n",
       "        vertical-align: middle;\n",
       "    }\n",
       "\n",
       "    .dataframe tbody tr th {\n",
       "        vertical-align: top;\n",
       "    }\n",
       "\n",
       "    .dataframe thead th {\n",
       "        text-align: right;\n",
       "    }\n",
       "</style>\n",
       "<table border=\"1\" class=\"dataframe\">\n",
       "  <thead>\n",
       "    <tr style=\"text-align: right;\">\n",
       "      <th></th>\n",
       "      <th>vehicle_timestamp</th>\n",
       "      <th>header_timestamp</th>\n",
       "      <th>geometry</th>\n",
       "      <th>shape_meters</th>\n",
       "      <th>last_time</th>\n",
       "      <th>last_loc</th>\n",
       "      <th>secs_from_last</th>\n",
       "      <th>meters_from_last</th>\n",
       "      <th>progressed</th>\n",
       "      <th>speed_from_last</th>\n",
       "    </tr>\n",
       "  </thead>\n",
       "  <tbody>\n",
       "    <tr>\n",
       "      <th>0</th>\n",
       "      <td>2021-11-30 17:02:12</td>\n",
       "      <td>2021-11-30 17:02:37</td>\n",
       "      <td>POINT (174550.467 -468602.675)</td>\n",
       "      <td>74.936069</td>\n",
       "      <td>NaT</td>\n",
       "      <td>NaN</td>\n",
       "      <td>NaN</td>\n",
       "      <td>NaN</td>\n",
       "      <td>False</td>\n",
       "      <td>NaN</td>\n",
       "    </tr>\n",
       "    <tr>\n",
       "      <th>1</th>\n",
       "      <td>2021-11-30 17:03:13</td>\n",
       "      <td>2021-11-30 17:03:37</td>\n",
       "      <td>POINT (174199.373 -468606.652)</td>\n",
       "      <td>426.501155</td>\n",
       "      <td>2021-11-30 17:02:12</td>\n",
       "      <td>74.936069</td>\n",
       "      <td>61.0</td>\n",
       "      <td>351.565087</td>\n",
       "      <td>True</td>\n",
       "      <td>5.763362</td>\n",
       "    </tr>\n",
       "    <tr>\n",
       "      <th>2</th>\n",
       "      <td>2021-11-30 17:04:13</td>\n",
       "      <td>2021-11-30 17:04:37</td>\n",
       "      <td>POINT (173950.148 -468607.933)</td>\n",
       "      <td>676.459161</td>\n",
       "      <td>2021-11-30 17:03:13</td>\n",
       "      <td>426.501155</td>\n",
       "      <td>60.0</td>\n",
       "      <td>249.958006</td>\n",
       "      <td>True</td>\n",
       "      <td>4.165967</td>\n",
       "    </tr>\n",
       "  </tbody>\n",
       "</table>\n",
       "</div>"
      ],
      "text/plain": [
       "    vehicle_timestamp    header_timestamp                        geometry  \\\n",
       "0 2021-11-30 17:02:12 2021-11-30 17:02:37  POINT (174550.467 -468602.675)   \n",
       "1 2021-11-30 17:03:13 2021-11-30 17:03:37  POINT (174199.373 -468606.652)   \n",
       "2 2021-11-30 17:04:13 2021-11-30 17:04:37  POINT (173950.148 -468607.933)   \n",
       "\n",
       "   shape_meters           last_time    last_loc  secs_from_last  \\\n",
       "0     74.936069                 NaT         NaN             NaN   \n",
       "1    426.501155 2021-11-30 17:02:12   74.936069            61.0   \n",
       "2    676.459161 2021-11-30 17:03:13  426.501155            60.0   \n",
       "\n",
       "   meters_from_last  progressed  speed_from_last  \n",
       "0               NaN       False              NaN  \n",
       "1        351.565087        True         5.763362  \n",
       "2        249.958006        True         4.165967  "
      ]
     },
     "execution_count": 353,
     "metadata": {},
     "output_type": "execute_result"
    }
   ],
   "source": [
    "example_vp_trip.vehicle_positions.head(3)"
   ]
  },
  {
   "cell_type": "code",
   "execution_count": 354,
   "id": "8c9a8cd0-d689-4f1d-9833-e19e2d06c69a",
   "metadata": {},
   "outputs": [
    {
     "data": {
      "text/plain": [
       "Timestamp('2021-11-30 17:03:42.644702')"
      ]
     },
     "execution_count": 354,
     "metadata": {},
     "output_type": "execute_result"
    }
   ],
   "source": [
    "example_vp_trip.time_at_position(550) ## interpolate time at 550 meters from start of route (shape_meters in df^)"
   ]
  },
  {
   "cell_type": "code",
   "execution_count": 356,
   "id": "6f46696a-a75c-4b9d-b2e5-94c5431c553a",
   "metadata": {},
   "outputs": [],
   "source": [
    "# example_vp_trip.detailed_speed_map()"
   ]
  },
  {
   "cell_type": "markdown",
   "id": "63ca6dbc-5c3a-4bc4-b9f0-ebbf19e9257d",
   "metadata": {},
   "source": [
    "## General RT Analysis class"
   ]
  },
  {
   "cell_type": "code",
   "execution_count": 264,
   "id": "ee11ffac-f8d7-450b-a1a2-1168d4e90552",
   "metadata": {},
   "outputs": [],
   "source": [
    "class RtAnalysis:\n",
    "    '''Current top-level class for GTFS-RT analysis'''\n",
    "    \n",
    "    def __init__(self, trips_positions_joined, stop_times, stops, shape_gdf, trip_ids): ## trips_position_joined is temporary\n",
    "        \n",
    "        for df in (trips_positions_joined, stop_times, stops, shape_gdf):\n",
    "            assert df.calitp_itp_id.nunique() == 1\n",
    "            assert df.calitp_url_number.nunique() == 1\n",
    "        \n",
    "        self.trips_positions = trips_positions_joined >> filter(_.trip_id.isin(trip_ids))\n",
    "        self.stop_times = stop_times >> filter(_.trip_id.isin(trip_ids))\n",
    "        self.stops = stops\n",
    "        self.st_geo = self.stops >> inner_join(_, self.stop_times, on = ['calitp_itp_id', 'calitp_url_number','stop_id'])\n",
    "        self.shape_gdf = shape_gdf\n",
    "        self.trip_ids = trip_ids\n",
    "        self.generate_vp_trips()\n",
    "        \n",
    "    def generate_vp_trips(self):\n",
    "        self.trip_vehicle_positions = {}\n",
    "        for trip_id in self.trip_ids:\n",
    "            self.trip_vehicle_positions[trip_id] = VehiclePositionsTrip(\n",
    "                                            self.trips_positions >> filter(_.trip_id == trip_id),\n",
    "                                            self.shape_gdf)\n",
    "        \n",
    "    def generate_delay_view(self, trip_ids = None):\n",
    "        print('gdv called')\n",
    "\n",
    "        if  type(trip_ids) == type(None): ## trip_ids could potentially be a list or pd.Series...\n",
    "            trip_ids = self.trip_ids\n",
    "        \n",
    "        self._delay_view_inputs = trip_ids\n",
    "        self.delay_view = gpd.GeoDataFrame()\n",
    "        trips_processed = 0\n",
    "        for trip_id in trip_ids:\n",
    "            try:\n",
    "                trip_rt_data = self.trip_vehicle_positions[trip_id]\n",
    "                trip_st = (self.stop_times >> filter(_.trip_id == trip_id)).copy()\n",
    "                trip_st_geo = (self.st_geo >> filter(_.trip_id == trip_id)).copy()\n",
    "                trip_st_geo['shape_id'] = trip_rt_data.shape_id\n",
    "                trip_st_geo['direction_id'] = trip_rt_data.direction_id\n",
    "                trip_st_geo['shape_meters'] = (trip_st_geo.geometry\n",
    "                                                .apply(lambda x: trip_rt_data.shape.project(x)))\n",
    "                trip_st_geo['actual_time'] = (trip_st_geo.shape_meters\n",
    "                                              .apply(lambda x: trip_rt_data.time_at_position(x)))\n",
    "                trip_st_geo = trip_st_geo.dropna(subset=['actual_time'])\n",
    "                trip_st_geo['arrival_time'] = trip_st_geo.apply(lambda x:\n",
    "                                            dt.datetime.combine(x.actual_time.date(),\n",
    "                                                                dt.datetime.strptime(x.arrival_time, '%H:%M:%S').time()),\n",
    "                                                                axis = 1) ## format scheduled arrival times\n",
    "                # _debug = trip_st_geo\n",
    "                trip_st_geo['delay'] = trip_st_geo.actual_time - trip_st_geo.arrival_time\n",
    "                trip_st_geo['date'] = trip_rt_data.date\n",
    "                trip_view = trip_st_geo.dropna(subset=['delay']) >> arrange(_.arrival_time) >> select(\n",
    "                                                                _.arrival_time, _.actual_time, _.delay,\n",
    "                                                             _.stop_id, _.trip_id, _.shape_id, _.direction_id,\n",
    "                                                            _.stop_sequence,\n",
    "                                                            _.shape_meters, _.date, _.geometry)\n",
    "                self.delay_view = self.delay_view.append(trip_view)\n",
    "                trips_processed += 1\n",
    "                if trips_processed % 5 == 0:\n",
    "                    print(f'{trips_processed} trips processed')\n",
    "            except Exception as e:\n",
    "                print(trip_id, e)\n",
    "        self.delay_view = (self.delay_view >> arrange(_.stop_sequence, _.trip_id)).set_crs(self.st_geo.crs)\n",
    "        return self.delay_view\n",
    "    \n",
    "    def generate_delay_summary(self, trip_ids = None):       \n",
    "\n",
    "        if  type(trip_ids) == type(None): ## trip_ids could potentially be a list or pd.Series...\n",
    "            trip_ids = self.trip_ids\n",
    "        \n",
    "        if hasattr(self, 'delay_view') and set(list(self.delay_view.trip_id.unique())) == set(list(trip_ids)):\n",
    "        ## if delay view exists and matches request, use it\n",
    "            stop_geos = self.delay_view >> select(_.stop_id, _.geometry) >> distinct(_.stop_id, _keep_all=True)\n",
    "            self.delay_summary = (self.delay_view\n",
    "                     >> group_by(_.stop_id, _.stop_sequence,)\n",
    "                     >> summarize(avg_delay = _.delay.mean(), max_delay = _.delay.max())\n",
    "                     # >> inner_join(_, stop_geos, on = 'stop_id')\n",
    "                     >> arrange(_.stop_sequence)\n",
    "                    )\n",
    "            self.delay_summary = stop_geos >> inner_join(_, self.delay_summary, on = 'stop_id')\n",
    "        else:\n",
    "            self.generate_delay_view(trip_ids) ## generate new delay view if necessary\n",
    "            self.generate_delay_summary(trip_ids)\n",
    "        return self.delay_summary\n",
    "    \n",
    "    def map_stop_delays(self, how = 'max',  trip_ids = None):\n",
    "                \n",
    "        if  type(trip_ids) == type(None): ## trip_ids could potentially be a list or pd.Series...\n",
    "            trip_ids = self.trip_ids\n",
    "        assert how in ['max', 'average']\n",
    "        self.generate_delay_summary(trip_ids)\n",
    "        \n",
    "        gdf = self.delay_summary.copy()\n",
    "        if how == 'max':\n",
    "            gdf['delay_minutes'] = gdf.max_delay.apply(lambda x: x.seconds / 60)\n",
    "        elif how == 'average':\n",
    "            gdf['delay_minutes'] = gdf.avg_delay.apply(lambda x: x.seconds / 60)\n",
    "        gdf['delay_minutes'] = gdf.delay_minutes.round(0)\n",
    "        gdf = gdf >> select(_.stop_id, _.geometry, _.delay_minutes)\n",
    "        gdf.geometry = gdf.buffer(50)\n",
    "        \n",
    "        gdf = gdf.to_crs(shared_utils.geography_utils.WGS84)\n",
    "\n",
    "        colorscale = reversed_colormap(branca.colormap.step.RdYlGn_08.scale(vmin=0, \n",
    "                     vmax=gdf.delay_minutes.max()))\n",
    "        colorscale.caption = \"Delay (minutes)\"\n",
    "        \n",
    "        popup_dict = {\n",
    "            \"delay_minutes\": \"Delay (minutes)\",\n",
    "            \"stop_id\": \"Stop ID\",\n",
    "        }\n",
    "        \n",
    "        g = shared_utils.map_utils.make_folium_choropleth_map(\n",
    "            gdf,\n",
    "            plot_col = 'delay_minutes',\n",
    "            popup_dict = popup_dict,\n",
    "            tooltip_dict = popup_dict,\n",
    "            colorscale = colorscale,\n",
    "            fig_width = 1000, fig_height = 700,\n",
    "            zoom = 13,\n",
    "            centroid = [33.790, -118.154],\n",
    "            title=\"Stop Delay Map\"\n",
    "        )\n",
    "\n",
    "        return g\n",
    "\n",
    "        \n",
    "    def map_segment_speeds(self, how = 'high_delay', segments = 'stops', trip_ids = None): ##TODO split out segment speed view?\n",
    "\n",
    "        if  type(trip_ids) == type(None): ## trip_ids could potentially be a list or pd.Series...\n",
    "            trip_ids = self.trip_ids\n",
    "        \n",
    "        assert how in ['low_speeds', 'average']\n",
    "        assert segments in ['stops', 'detailed']\n",
    "        \n",
    "        speed_calculators = {'low_speeds': _.speed_mph.quantile(.2), ## 20th percentile speed\n",
    "                            'average': _.speed_mph.mean()} ## average speed\n",
    "        \n",
    "        if hasattr(self, 'delay_view') and set(list(self._delay_view_inputs)) == set(list(trip_ids)):\n",
    "            \n",
    "            all_stop_speeds = gpd.GeoDataFrame()\n",
    "            for shape_id in self.delay_view.shape_id.unique():\n",
    "                for direction_id in self.delay_view.direction_id.unique():\n",
    "                    stop_speeds = (self.delay_view\n",
    "                                 >> filter((_.shape_id == shape_id) & (_.direction_id == direction_id))\n",
    "                                 >> group_by(_.trip_id)\n",
    "                                 >> arrange(_.stop_sequence)\n",
    "                                 >> mutate(seconds_from_last = (_.actual_time - _.actual_time.shift(1)).apply(lambda x: x.seconds))\n",
    "                                 >> mutate(last_loc = _.shape_meters.shift(1))\n",
    "                                 >> mutate(meters_from_last = (_.shape_meters - _.last_loc))\n",
    "                                 >> mutate(speed_from_last = _.meters_from_last / _.seconds_from_last) \n",
    "                                 >> ungroup()\n",
    "                                )\n",
    "                    stop_speeds.geometry = stop_speeds.apply(\n",
    "                        lambda x: shapely.ops.substring(\n",
    "                                    self.trip_vehicle_positions[x.trip_id].shape.geometry.iloc[0],\n",
    "                                    x.last_loc,\n",
    "                                    x.shape_meters),\n",
    "                                                    axis = 1)\n",
    "                    stop_speeds = stop_speeds.dropna(subset=['last_loc']).set_crs(shared_utils.geography_utils.CA_NAD83Albers)\n",
    "\n",
    "                    stop_speeds = (stop_speeds\n",
    "                         >> mutate(speed_mph = _.speed_from_last * MPH_PER_MPS)\n",
    "                         >> group_by(_.stop_sequence)\n",
    "                         >> mutate(speed_mph = speed_calculators[how])\n",
    "                         >> mutate(speed_mph = _.speed_mph.round(1))\n",
    "                         >> mutate(shape_meters = _.shape_meters.round(0))\n",
    "                         >> distinct(_.stop_sequence, _keep_all=True)\n",
    "                         >> ungroup()\n",
    "                         >> select(-_.arrival_time, -_.actual_time, -_.delay, -_.trip_id)\n",
    "                        )\n",
    "                    print(stop_speeds.shape_id.iloc[0], stop_speeds.shape)\n",
    "                    if stop_speeds.speed_mph.max() > 70:\n",
    "                        print(f'speed above 70 for shape {stop_speeds.shape_id.iloc[0]}, dropping')\n",
    "                        stop_speeds = stop_speeds >> filter(_.speed_mph < 70)\n",
    "                    all_stop_speeds = all_stop_speeds.append(stop_speeds)\n",
    "            \n",
    "            self.segment_speed_view = all_stop_speeds\n",
    "            return self._generate_segment_map(how = how)\n",
    "            \n",
    "        else:\n",
    "            self.generate_delay_view(trip_ids) ## generate new delay view if necessary\n",
    "            return self.map_segment_speeds(how, segments, trip_ids = trip_ids)\n",
    "        \n",
    "    def _generate_segment_map(self, how, colorscale = None, size = [900, 550]):\n",
    "        \n",
    "        how_formatted = {'average': 'Average', 'low_speeds': '20th Percentile'}\n",
    "\n",
    "        gdf = self.segment_speed_view >> select(-_.date)\n",
    "        gdf.geometry = gdf.set_crs(shared_utils.geography_utils.CA_NAD83Albers).buffer(25)\n",
    "        \n",
    "        if not colorscale:\n",
    "            colorscale = branca.colormap.step.RdYlGn_10.scale(vmin=gdf.speed_mph.min(), \n",
    "             vmax=gdf.speed_mph.max())\n",
    "            colorscale.caption = \"Speed (miles per hour)\"\n",
    "\n",
    "        popup_dict = {\n",
    "            \"speed_mph\": \"Speed (miles per hour)\",\n",
    "            \"shape_meters\": \"Distance along route (meters)\",\n",
    "            \"shape_id\": \"Shape ID\",\n",
    "            \"direction_id\": \"Direction ID\",\n",
    "            \"stop_id\": \"Next Stop ID\",\n",
    "            \"stop_sequence\": \"Next Stop Sequence\"\n",
    "        }\n",
    "\n",
    "        g = shared_utils.map_utils.make_folium_choropleth_map(\n",
    "            gdf,\n",
    "            plot_col = 'speed_mph',\n",
    "            popup_dict = popup_dict,\n",
    "            tooltip_dict = popup_dict,\n",
    "            colorscale = colorscale,\n",
    "            fig_width = size[0], fig_height = size[1],\n",
    "            zoom = 13,\n",
    "            centroid = [33.790, -118.154],\n",
    "            title=f\"Long Beach Transit {how_formatted[how]} Bus Speeds Between Stops, Afternoon Peak\",\n",
    "            highlight_function=lambda x: {\n",
    "                'fillColor': '#DD1C77',\n",
    "                \"fillOpacity\": 0.6,\n",
    "            }\n",
    "        )\n",
    "\n",
    "        return g  \n",
    "    \n",
    "    def route_coverage_summary(self):\n",
    "        \n",
    "        if hasattr(self, 'delay_view'):\n",
    "            summary = (self.delay_view\n",
    "             >> group_by(_.trip_id, _.shape_id, _.direction_id)\n",
    "             >> summarize(min_meters = _.shape_meters.min(),\n",
    "                         min_stop = _.stop_sequence.min(),\n",
    "                         max_meters = _.shape_meters.max(),\n",
    "                         max_stop = _.stop_sequence.max())\n",
    "            )\n",
    "            return summary\n",
    "        else:\n",
    "            self.generate_delay_view()\n",
    "            return self.route_coverage_summary()"
   ]
  },
  {
   "cell_type": "code",
   "execution_count": 265,
   "id": "e0db9df7-6d38-4461-94a2-56824db0b50e",
   "metadata": {},
   "outputs": [
    {
     "data": {
      "text/html": [
       "<div>\n",
       "<style scoped>\n",
       "    .dataframe tbody tr th:only-of-type {\n",
       "        vertical-align: middle;\n",
       "    }\n",
       "\n",
       "    .dataframe tbody tr th {\n",
       "        vertical-align: top;\n",
       "    }\n",
       "\n",
       "    .dataframe thead th {\n",
       "        text-align: right;\n",
       "    }\n",
       "</style>\n",
       "<table border=\"1\" class=\"dataframe\">\n",
       "  <thead>\n",
       "    <tr style=\"text-align: right;\">\n",
       "      <th></th>\n",
       "      <th>trip_id</th>\n",
       "      <th>max_time</th>\n",
       "    </tr>\n",
       "  </thead>\n",
       "  <tbody>\n",
       "    <tr>\n",
       "      <th>8</th>\n",
       "      <td>9288619</td>\n",
       "      <td>2021-11-30 16:37:23</td>\n",
       "    </tr>\n",
       "    <tr>\n",
       "      <th>9</th>\n",
       "      <td>9288621</td>\n",
       "      <td>2021-11-30 17:17:58</td>\n",
       "    </tr>\n",
       "    <tr>\n",
       "      <th>10</th>\n",
       "      <td>9288623</td>\n",
       "      <td>2021-11-30 17:56:04</td>\n",
       "    </tr>\n",
       "    <tr>\n",
       "      <th>11</th>\n",
       "      <td>9288625</td>\n",
       "      <td>2021-11-30 18:35:49</td>\n",
       "    </tr>\n",
       "    <tr>\n",
       "      <th>12</th>\n",
       "      <td>9288627</td>\n",
       "      <td>2021-11-30 19:24:12</td>\n",
       "    </tr>\n",
       "    <tr>\n",
       "      <th>13</th>\n",
       "      <td>9288629</td>\n",
       "      <td>2021-11-30 19:59:08</td>\n",
       "    </tr>\n",
       "  </tbody>\n",
       "</table>\n",
       "</div>"
      ],
      "text/plain": [
       "    trip_id            max_time\n",
       "8   9288619 2021-11-30 16:37:23\n",
       "9   9288621 2021-11-30 17:17:58\n",
       "10  9288623 2021-11-30 17:56:04\n",
       "11  9288625 2021-11-30 18:35:49\n",
       "12  9288627 2021-11-30 19:24:12\n",
       "13  9288629 2021-11-30 19:59:08"
      ]
     },
     "execution_count": 265,
     "metadata": {},
     "output_type": "execute_result"
    }
   ],
   "source": [
    "example_trips = (trips_positions_joined\n",
    " >> filter(_.route_id == '175', _.direction_id == '0') ## towards Villages at Cabrillo\n",
    " >> group_by(_.trip_id)\n",
    " >> summarize(max_time = _.vehicle_timestamp.max())\n",
    " >> arrange(_.max_time)\n",
    " >> head(6) ## afternoon/evening\n",
    ")\n",
    "example_trips"
   ]
  },
  {
   "cell_type": "code",
   "execution_count": 266,
   "id": "1f5885d0-fb37-41e0-9c68-b0ce5d0e0e32",
   "metadata": {
    "tags": []
   },
   "outputs": [],
   "source": [
    "%%capture\n",
    "## suppress warnings from location data inaccuracies\n",
    "## generate test analysis with a small subset of LBT trips on a particular route, time, direction\n",
    "test_analysis = RtAnalysis(trips_positions_joined, stop_times, stops, lbt_routelines, example_trips.trip_id)"
   ]
  },
  {
   "cell_type": "code",
   "execution_count": 267,
   "id": "b6e0aae8-4222-4512-967b-e4d37c684bfc",
   "metadata": {
    "tags": []
   },
   "outputs": [],
   "source": [
    "%%capture\n",
    "## suppress warnings from start/end of routes\n",
    "all_delays = test_analysis.generate_delay_view()"
   ]
  },
  {
   "cell_type": "code",
   "execution_count": 268,
   "id": "7bd7ef38-3974-4698-bed0-efcbc1aea02b",
   "metadata": {},
   "outputs": [
    {
     "data": {
      "text/html": [
       "<div>\n",
       "<style scoped>\n",
       "    .dataframe tbody tr th:only-of-type {\n",
       "        vertical-align: middle;\n",
       "    }\n",
       "\n",
       "    .dataframe tbody tr th {\n",
       "        vertical-align: top;\n",
       "    }\n",
       "\n",
       "    .dataframe thead th {\n",
       "        text-align: right;\n",
       "    }\n",
       "</style>\n",
       "<table border=\"1\" class=\"dataframe\">\n",
       "  <thead>\n",
       "    <tr style=\"text-align: right;\">\n",
       "      <th></th>\n",
       "      <th>arrival_time</th>\n",
       "      <th>actual_time</th>\n",
       "      <th>delay</th>\n",
       "      <th>stop_id</th>\n",
       "      <th>trip_id</th>\n",
       "      <th>shape_id</th>\n",
       "      <th>direction_id</th>\n",
       "      <th>stop_sequence</th>\n",
       "      <th>shape_meters</th>\n",
       "      <th>date</th>\n",
       "      <th>geometry</th>\n",
       "    </tr>\n",
       "  </thead>\n",
       "  <tbody>\n",
       "    <tr>\n",
       "      <th>148</th>\n",
       "      <td>2021-11-30 16:58:10</td>\n",
       "      <td>2021-11-30 17:03:30.892511</td>\n",
       "      <td>0 days 00:05:20.892511</td>\n",
       "      <td>1027</td>\n",
       "      <td>9288623</td>\n",
       "      <td>1750012</td>\n",
       "      <td>0</td>\n",
       "      <td>2</td>\n",
       "      <td>501.040761</td>\n",
       "      <td>2021-12-01</td>\n",
       "      <td>POINT (174124.462 -468604.478)</td>\n",
       "    </tr>\n",
       "    <tr>\n",
       "      <th>145</th>\n",
       "      <td>2021-11-30 17:39:10</td>\n",
       "      <td>2021-11-30 17:43:07.179287</td>\n",
       "      <td>0 days 00:03:57.179287</td>\n",
       "      <td>1027</td>\n",
       "      <td>9288625</td>\n",
       "      <td>1750012</td>\n",
       "      <td>0</td>\n",
       "      <td>2</td>\n",
       "      <td>501.040761</td>\n",
       "      <td>2021-12-01</td>\n",
       "      <td>POINT (174124.462 -468604.478)</td>\n",
       "    </tr>\n",
       "    <tr>\n",
       "      <th>86</th>\n",
       "      <td>2021-11-30 17:00:17</td>\n",
       "      <td>2021-11-30 17:05:15.130531</td>\n",
       "      <td>0 days 00:04:58.130531</td>\n",
       "      <td>0540</td>\n",
       "      <td>9288623</td>\n",
       "      <td>1750012</td>\n",
       "      <td>0</td>\n",
       "      <td>3</td>\n",
       "      <td>991.109291</td>\n",
       "      <td>2021-12-01</td>\n",
       "      <td>POINT (173921.407 -468897.107)</td>\n",
       "    </tr>\n",
       "  </tbody>\n",
       "</table>\n",
       "</div>"
      ],
      "text/plain": [
       "           arrival_time                actual_time                  delay  \\\n",
       "148 2021-11-30 16:58:10 2021-11-30 17:03:30.892511 0 days 00:05:20.892511   \n",
       "145 2021-11-30 17:39:10 2021-11-30 17:43:07.179287 0 days 00:03:57.179287   \n",
       "86  2021-11-30 17:00:17 2021-11-30 17:05:15.130531 0 days 00:04:58.130531   \n",
       "\n",
       "    stop_id  trip_id shape_id direction_id  stop_sequence  shape_meters  \\\n",
       "148    1027  9288623  1750012            0              2    501.040761   \n",
       "145    1027  9288625  1750012            0              2    501.040761   \n",
       "86     0540  9288623  1750012            0              3    991.109291   \n",
       "\n",
       "           date                        geometry  \n",
       "148  2021-12-01  POINT (174124.462 -468604.478)  \n",
       "145  2021-12-01  POINT (174124.462 -468604.478)  \n",
       "86   2021-12-01  POINT (173921.407 -468897.107)  "
      ]
     },
     "execution_count": 268,
     "metadata": {},
     "output_type": "execute_result"
    }
   ],
   "source": [
    "all_delays.head(3)"
   ]
  },
  {
   "cell_type": "code",
   "execution_count": 269,
   "id": "12b5c355-bf96-4bd3-8930-0459f5e47b70",
   "metadata": {
    "tags": []
   },
   "outputs": [],
   "source": [
    "all_summary = test_analysis.generate_delay_summary()"
   ]
  },
  {
   "cell_type": "code",
   "execution_count": 270,
   "id": "6c7e394c-b4f0-454a-ac23-e90b6d502b3e",
   "metadata": {},
   "outputs": [
    {
     "data": {
      "text/html": [
       "<div>\n",
       "<style scoped>\n",
       "    .dataframe tbody tr th:only-of-type {\n",
       "        vertical-align: middle;\n",
       "    }\n",
       "\n",
       "    .dataframe tbody tr th {\n",
       "        vertical-align: top;\n",
       "    }\n",
       "\n",
       "    .dataframe thead th {\n",
       "        text-align: right;\n",
       "    }\n",
       "</style>\n",
       "<table border=\"1\" class=\"dataframe\">\n",
       "  <thead>\n",
       "    <tr style=\"text-align: right;\">\n",
       "      <th></th>\n",
       "      <th>stop_id</th>\n",
       "      <th>geometry</th>\n",
       "      <th>stop_sequence</th>\n",
       "      <th>avg_delay</th>\n",
       "      <th>max_delay</th>\n",
       "    </tr>\n",
       "  </thead>\n",
       "  <tbody>\n",
       "    <tr>\n",
       "      <th>0</th>\n",
       "      <td>1027</td>\n",
       "      <td>POINT (174124.462 -468604.478)</td>\n",
       "      <td>2</td>\n",
       "      <td>0 days 00:04:39.035899</td>\n",
       "      <td>0 days 00:05:20.892511</td>\n",
       "    </tr>\n",
       "    <tr>\n",
       "      <th>1</th>\n",
       "      <td>0540</td>\n",
       "      <td>POINT (173921.407 -468897.107)</td>\n",
       "      <td>3</td>\n",
       "      <td>0 days 00:04:00.527345</td>\n",
       "      <td>0 days 00:04:58.130531</td>\n",
       "    </tr>\n",
       "    <tr>\n",
       "      <th>2</th>\n",
       "      <td>0542</td>\n",
       "      <td>POINT (173328.363 -468647.513)</td>\n",
       "      <td>4</td>\n",
       "      <td>0 days 00:01:40.985010250</td>\n",
       "      <td>0 days 00:03:24.379293</td>\n",
       "    </tr>\n",
       "  </tbody>\n",
       "</table>\n",
       "</div>"
      ],
      "text/plain": [
       "  stop_id                        geometry  stop_sequence  \\\n",
       "0    1027  POINT (174124.462 -468604.478)              2   \n",
       "1    0540  POINT (173921.407 -468897.107)              3   \n",
       "2    0542  POINT (173328.363 -468647.513)              4   \n",
       "\n",
       "                  avg_delay              max_delay  \n",
       "0    0 days 00:04:39.035899 0 days 00:05:20.892511  \n",
       "1    0 days 00:04:00.527345 0 days 00:04:58.130531  \n",
       "2 0 days 00:01:40.985010250 0 days 00:03:24.379293  "
      ]
     },
     "execution_count": 270,
     "metadata": {},
     "output_type": "execute_result"
    }
   ],
   "source": [
    "all_summary.head(3)"
   ]
  },
  {
   "cell_type": "code",
   "execution_count": 271,
   "id": "182e64ef-82de-41f5-8a4f-8bfb6c1637f0",
   "metadata": {},
   "outputs": [],
   "source": [
    "# test_analysis.map_stop_delays(how = 'average') ## to refine, add hover, legend, etc..."
   ]
  },
  {
   "cell_type": "code",
   "execution_count": 275,
   "id": "909ed8b2-32ff-42b6-a49a-ea45ebd92318",
   "metadata": {
    "tags": []
   },
   "outputs": [],
   "source": [
    "# test_analysis.map_segment_speeds(how = 'low_speeds')"
   ]
  },
  {
   "cell_type": "code",
   "execution_count": 251,
   "id": "3dc59c6a-d83d-4347-ad0d-2d36a6e5a5f9",
   "metadata": {},
   "outputs": [],
   "source": [
    "# test_analysis.map_stop_delays()"
   ]
  },
  {
   "cell_type": "markdown",
   "id": "8019a504-d4f0-4047-b7f5-e4034939b0cf",
   "metadata": {},
   "source": [
    "## Sandbox"
   ]
  },
  {
   "cell_type": "code",
   "execution_count": 237,
   "id": "b07d2d83-8469-4a14-8688-6dc28774dd72",
   "metadata": {},
   "outputs": [
    {
     "data": {
      "text/html": [
       "<div>\n",
       "<style scoped>\n",
       "    .dataframe tbody tr th:only-of-type {\n",
       "        vertical-align: middle;\n",
       "    }\n",
       "\n",
       "    .dataframe tbody tr th {\n",
       "        vertical-align: top;\n",
       "    }\n",
       "\n",
       "    .dataframe thead th {\n",
       "        text-align: right;\n",
       "    }\n",
       "</style>\n",
       "<table border=\"1\" class=\"dataframe\">\n",
       "  <thead>\n",
       "    <tr style=\"text-align: right;\">\n",
       "      <th></th>\n",
       "      <th>trip_id</th>\n",
       "      <th>n</th>\n",
       "    </tr>\n",
       "  </thead>\n",
       "  <tbody>\n",
       "    <tr>\n",
       "      <th>0</th>\n",
       "      <td>9288152</td>\n",
       "      <td>204</td>\n",
       "    </tr>\n",
       "    <tr>\n",
       "      <th>1</th>\n",
       "      <td>9288153</td>\n",
       "      <td>354</td>\n",
       "    </tr>\n",
       "    <tr>\n",
       "      <th>2</th>\n",
       "      <td>9288154</td>\n",
       "      <td>259</td>\n",
       "    </tr>\n",
       "    <tr>\n",
       "      <th>3</th>\n",
       "      <td>9288155</td>\n",
       "      <td>247</td>\n",
       "    </tr>\n",
       "    <tr>\n",
       "      <th>4</th>\n",
       "      <td>9288156</td>\n",
       "      <td>272</td>\n",
       "    </tr>\n",
       "    <tr>\n",
       "      <th>...</th>\n",
       "      <td>...</td>\n",
       "      <td>...</td>\n",
       "    </tr>\n",
       "    <tr>\n",
       "      <th>633</th>\n",
       "      <td>9296926</td>\n",
       "      <td>61</td>\n",
       "    </tr>\n",
       "    <tr>\n",
       "      <th>634</th>\n",
       "      <td>9296927</td>\n",
       "      <td>103</td>\n",
       "    </tr>\n",
       "    <tr>\n",
       "      <th>635</th>\n",
       "      <td>9296928</td>\n",
       "      <td>103</td>\n",
       "    </tr>\n",
       "    <tr>\n",
       "      <th>636</th>\n",
       "      <td>9297176</td>\n",
       "      <td>68</td>\n",
       "    </tr>\n",
       "    <tr>\n",
       "      <th>637</th>\n",
       "      <td>9297181</td>\n",
       "      <td>15</td>\n",
       "    </tr>\n",
       "  </tbody>\n",
       "</table>\n",
       "<p>638 rows × 2 columns</p>\n",
       "</div>"
      ],
      "text/plain": [
       "     trip_id    n\n",
       "0    9288152  204\n",
       "1    9288153  354\n",
       "2    9288154  259\n",
       "3    9288155  247\n",
       "4    9288156  272\n",
       "..       ...  ...\n",
       "633  9296926   61\n",
       "634  9296927  103\n",
       "635  9296928  103\n",
       "636  9297176   68\n",
       "637  9297181   15\n",
       "\n",
       "[638 rows x 2 columns]"
      ]
     },
     "execution_count": 237,
     "metadata": {},
     "output_type": "execute_result"
    }
   ],
   "source": [
    "trips_positions_joined >> filter(_.direction_id == '0') >> count(_.trip_id)"
   ]
  },
  {
   "cell_type": "code",
   "execution_count": 238,
   "id": "a5917100-8c30-4fcb-9399-b43fc6535012",
   "metadata": {
    "tags": []
   },
   "outputs": [
    {
     "data": {
      "text/html": [
       "<div>\n",
       "<style scoped>\n",
       "    .dataframe tbody tr th:only-of-type {\n",
       "        vertical-align: middle;\n",
       "    }\n",
       "\n",
       "    .dataframe tbody tr th {\n",
       "        vertical-align: top;\n",
       "    }\n",
       "\n",
       "    .dataframe thead th {\n",
       "        text-align: right;\n",
       "    }\n",
       "</style>\n",
       "<table border=\"1\" class=\"dataframe\">\n",
       "  <thead>\n",
       "    <tr style=\"text-align: right;\">\n",
       "      <th></th>\n",
       "      <th>trip_id</th>\n",
       "      <th>max_time</th>\n",
       "    </tr>\n",
       "  </thead>\n",
       "  <tbody>\n",
       "    <tr>\n",
       "      <th>0</th>\n",
       "      <td>9288170</td>\n",
       "      <td>2021-11-30 17:00:34</td>\n",
       "    </tr>\n",
       "    <tr>\n",
       "      <th>130</th>\n",
       "      <td>9289459</td>\n",
       "      <td>2021-11-30 17:01:25</td>\n",
       "    </tr>\n",
       "    <tr>\n",
       "      <th>121</th>\n",
       "      <td>9289404</td>\n",
       "      <td>2021-11-30 17:01:52</td>\n",
       "    </tr>\n",
       "    <tr>\n",
       "      <th>58</th>\n",
       "      <td>9288776</td>\n",
       "      <td>2021-11-30 17:02:20</td>\n",
       "    </tr>\n",
       "    <tr>\n",
       "      <th>190</th>\n",
       "      <td>9296915</td>\n",
       "      <td>2021-11-30 17:03:04</td>\n",
       "    </tr>\n",
       "    <tr>\n",
       "      <th>...</th>\n",
       "      <td>...</td>\n",
       "      <td>...</td>\n",
       "    </tr>\n",
       "    <tr>\n",
       "      <th>77</th>\n",
       "      <td>9288961</td>\n",
       "      <td>2021-11-30 19:59:52</td>\n",
       "    </tr>\n",
       "    <tr>\n",
       "      <th>166</th>\n",
       "      <td>9296637</td>\n",
       "      <td>2021-11-30 19:59:52</td>\n",
       "    </tr>\n",
       "    <tr>\n",
       "      <th>145</th>\n",
       "      <td>9289764</td>\n",
       "      <td>2021-11-30 19:59:54</td>\n",
       "    </tr>\n",
       "    <tr>\n",
       "      <th>7</th>\n",
       "      <td>9288179</td>\n",
       "      <td>2021-11-30 19:59:55</td>\n",
       "    </tr>\n",
       "    <tr>\n",
       "      <th>102</th>\n",
       "      <td>9289242</td>\n",
       "      <td>2021-11-30 19:59:56</td>\n",
       "    </tr>\n",
       "  </tbody>\n",
       "</table>\n",
       "<p>195 rows × 2 columns</p>\n",
       "</div>"
      ],
      "text/plain": [
       "     trip_id            max_time\n",
       "0    9288170 2021-11-30 17:00:34\n",
       "130  9289459 2021-11-30 17:01:25\n",
       "121  9289404 2021-11-30 17:01:52\n",
       "58   9288776 2021-11-30 17:02:20\n",
       "190  9296915 2021-11-30 17:03:04\n",
       "..       ...                 ...\n",
       "77   9288961 2021-11-30 19:59:52\n",
       "166  9296637 2021-11-30 19:59:52\n",
       "145  9289764 2021-11-30 19:59:54\n",
       "7    9288179 2021-11-30 19:59:55\n",
       "102  9289242 2021-11-30 19:59:56\n",
       "\n",
       "[195 rows x 2 columns]"
      ]
     },
     "execution_count": 238,
     "metadata": {},
     "output_type": "execute_result"
    }
   ],
   "source": [
    "ex3_trips = (trips_positions_joined\n",
    " >> filter(_.direction_id == '0') ## towards \n",
    " # >> filter((_.vehicle_timestamp.apply(lambda x: x.hour < 20))\n",
    " #           & (_.vehicle_timestamp.apply(lambda x: x.hour > 16))) ## 4-8pm\n",
    " >> mutate(timestamp_hour = _.vehicle_timestamp.apply(lambda x: x.hour))\n",
    " >> filter((_.timestamp_hour < 20)\n",
    "           & (_.timestamp_hour > 16)) ## 4-8pm >> group_by(_.trip_id)\n",
    " >> group_by(_.trip_id)\n",
    " >> summarize(max_time = _.vehicle_timestamp.max())\n",
    " >> arrange(_.max_time)\n",
    " # >> head(40) ## afternoon/evening\n",
    ")\n",
    "ex3_trips"
   ]
  },
  {
   "cell_type": "code",
   "execution_count": 239,
   "id": "6f99847c-f325-46ad-93a0-8744c7bba87e",
   "metadata": {
    "collapsed": true,
    "jupyter": {
     "outputs_hidden": true
    },
    "tags": []
   },
   "outputs": [
    {
     "name": "stdout",
     "output_type": "stream",
     "text": [
      "check location data for trip 9288776\n"
     ]
    },
    {
     "name": "stderr",
     "output_type": "stream",
     "text": [
      "/opt/conda/lib/python3.9/site-packages/geopandas/geodataframe.py:1351: SettingWithCopyWarning: \n",
      "A value is trying to be set on a copy of a slice from a DataFrame.\n",
      "Try using .loc[row_indexer,col_indexer] = value instead\n",
      "\n",
      "See the caveats in the documentation: https://pandas.pydata.org/pandas-docs/stable/user_guide/indexing.html#returning-a-view-versus-a-copy\n",
      "  super().__setitem__(key, value)\n"
     ]
    },
    {
     "name": "stdout",
     "output_type": "stream",
     "text": [
      "check location data for trip 9288621\n"
     ]
    },
    {
     "name": "stderr",
     "output_type": "stream",
     "text": [
      "/opt/conda/lib/python3.9/site-packages/geopandas/geodataframe.py:1351: SettingWithCopyWarning: \n",
      "A value is trying to be set on a copy of a slice from a DataFrame.\n",
      "Try using .loc[row_indexer,col_indexer] = value instead\n",
      "\n",
      "See the caveats in the documentation: https://pandas.pydata.org/pandas-docs/stable/user_guide/indexing.html#returning-a-view-versus-a-copy\n",
      "  super().__setitem__(key, value)\n"
     ]
    },
    {
     "name": "stdout",
     "output_type": "stream",
     "text": [
      "check location data for trip 9296673\n"
     ]
    },
    {
     "name": "stderr",
     "output_type": "stream",
     "text": [
      "/opt/conda/lib/python3.9/site-packages/geopandas/geodataframe.py:1351: SettingWithCopyWarning: \n",
      "A value is trying to be set on a copy of a slice from a DataFrame.\n",
      "Try using .loc[row_indexer,col_indexer] = value instead\n",
      "\n",
      "See the caveats in the documentation: https://pandas.pydata.org/pandas-docs/stable/user_guide/indexing.html#returning-a-view-versus-a-copy\n",
      "  super().__setitem__(key, value)\n"
     ]
    },
    {
     "name": "stdout",
     "output_type": "stream",
     "text": [
      "check location data for trip 9289461\n"
     ]
    },
    {
     "name": "stderr",
     "output_type": "stream",
     "text": [
      "/opt/conda/lib/python3.9/site-packages/geopandas/geodataframe.py:1351: SettingWithCopyWarning: \n",
      "A value is trying to be set on a copy of a slice from a DataFrame.\n",
      "Try using .loc[row_indexer,col_indexer] = value instead\n",
      "\n",
      "See the caveats in the documentation: https://pandas.pydata.org/pandas-docs/stable/user_guide/indexing.html#returning-a-view-versus-a-copy\n",
      "  super().__setitem__(key, value)\n"
     ]
    },
    {
     "name": "stdout",
     "output_type": "stream",
     "text": [
      "check location data for trip 9288777\n",
      "check location data for trip 9288218\n"
     ]
    },
    {
     "name": "stderr",
     "output_type": "stream",
     "text": [
      "/opt/conda/lib/python3.9/site-packages/geopandas/geodataframe.py:1351: SettingWithCopyWarning: \n",
      "A value is trying to be set on a copy of a slice from a DataFrame.\n",
      "Try using .loc[row_indexer,col_indexer] = value instead\n",
      "\n",
      "See the caveats in the documentation: https://pandas.pydata.org/pandas-docs/stable/user_guide/indexing.html#returning-a-view-versus-a-copy\n",
      "  super().__setitem__(key, value)\n",
      "/opt/conda/lib/python3.9/site-packages/geopandas/geodataframe.py:1351: SettingWithCopyWarning: \n",
      "A value is trying to be set on a copy of a slice from a DataFrame.\n",
      "Try using .loc[row_indexer,col_indexer] = value instead\n",
      "\n",
      "See the caveats in the documentation: https://pandas.pydata.org/pandas-docs/stable/user_guide/indexing.html#returning-a-view-versus-a-copy\n",
      "  super().__setitem__(key, value)\n"
     ]
    },
    {
     "name": "stdout",
     "output_type": "stream",
     "text": [
      "check location data for trip 9288659\n"
     ]
    },
    {
     "name": "stderr",
     "output_type": "stream",
     "text": [
      "/opt/conda/lib/python3.9/site-packages/geopandas/geodataframe.py:1351: SettingWithCopyWarning: \n",
      "A value is trying to be set on a copy of a slice from a DataFrame.\n",
      "Try using .loc[row_indexer,col_indexer] = value instead\n",
      "\n",
      "See the caveats in the documentation: https://pandas.pydata.org/pandas-docs/stable/user_guide/indexing.html#returning-a-view-versus-a-copy\n",
      "  super().__setitem__(key, value)\n"
     ]
    },
    {
     "name": "stdout",
     "output_type": "stream",
     "text": [
      "check location data for trip 9288172\n",
      "check location data for trip 9296675\n",
      "check location data for trip 9288928\n"
     ]
    },
    {
     "name": "stderr",
     "output_type": "stream",
     "text": [
      "/opt/conda/lib/python3.9/site-packages/geopandas/geodataframe.py:1351: SettingWithCopyWarning: \n",
      "A value is trying to be set on a copy of a slice from a DataFrame.\n",
      "Try using .loc[row_indexer,col_indexer] = value instead\n",
      "\n",
      "See the caveats in the documentation: https://pandas.pydata.org/pandas-docs/stable/user_guide/indexing.html#returning-a-view-versus-a-copy\n",
      "  super().__setitem__(key, value)\n",
      "/opt/conda/lib/python3.9/site-packages/geopandas/geodataframe.py:1351: SettingWithCopyWarning: \n",
      "A value is trying to be set on a copy of a slice from a DataFrame.\n",
      "Try using .loc[row_indexer,col_indexer] = value instead\n",
      "\n",
      "See the caveats in the documentation: https://pandas.pydata.org/pandas-docs/stable/user_guide/indexing.html#returning-a-view-versus-a-copy\n",
      "  super().__setitem__(key, value)\n",
      "/opt/conda/lib/python3.9/site-packages/geopandas/geodataframe.py:1351: SettingWithCopyWarning: \n",
      "A value is trying to be set on a copy of a slice from a DataFrame.\n",
      "Try using .loc[row_indexer,col_indexer] = value instead\n",
      "\n",
      "See the caveats in the documentation: https://pandas.pydata.org/pandas-docs/stable/user_guide/indexing.html#returning-a-view-versus-a-copy\n",
      "  super().__setitem__(key, value)\n"
     ]
    },
    {
     "name": "stdout",
     "output_type": "stream",
     "text": [
      "check location data for trip 9289467\n",
      "check location data for trip 9289073\n"
     ]
    },
    {
     "name": "stderr",
     "output_type": "stream",
     "text": [
      "/opt/conda/lib/python3.9/site-packages/geopandas/geodataframe.py:1351: SettingWithCopyWarning: \n",
      "A value is trying to be set on a copy of a slice from a DataFrame.\n",
      "Try using .loc[row_indexer,col_indexer] = value instead\n",
      "\n",
      "See the caveats in the documentation: https://pandas.pydata.org/pandas-docs/stable/user_guide/indexing.html#returning-a-view-versus-a-copy\n",
      "  super().__setitem__(key, value)\n",
      "/opt/conda/lib/python3.9/site-packages/geopandas/geodataframe.py:1351: SettingWithCopyWarning: \n",
      "A value is trying to be set on a copy of a slice from a DataFrame.\n",
      "Try using .loc[row_indexer,col_indexer] = value instead\n",
      "\n",
      "See the caveats in the documentation: https://pandas.pydata.org/pandas-docs/stable/user_guide/indexing.html#returning-a-view-versus-a-copy\n",
      "  super().__setitem__(key, value)\n"
     ]
    },
    {
     "name": "stdout",
     "output_type": "stream",
     "text": [
      "check location data for trip 9288219\n"
     ]
    },
    {
     "name": "stderr",
     "output_type": "stream",
     "text": [
      "/opt/conda/lib/python3.9/site-packages/geopandas/geodataframe.py:1351: SettingWithCopyWarning: \n",
      "A value is trying to be set on a copy of a slice from a DataFrame.\n",
      "Try using .loc[row_indexer,col_indexer] = value instead\n",
      "\n",
      "See the caveats in the documentation: https://pandas.pydata.org/pandas-docs/stable/user_guide/indexing.html#returning-a-view-versus-a-copy\n",
      "  super().__setitem__(key, value)\n"
     ]
    },
    {
     "name": "stdout",
     "output_type": "stream",
     "text": [
      "check location data for trip 9288778\n",
      "check location data for trip 9289239\n",
      "check location data for trip 9288637\n"
     ]
    },
    {
     "name": "stderr",
     "output_type": "stream",
     "text": [
      "/opt/conda/lib/python3.9/site-packages/geopandas/geodataframe.py:1351: SettingWithCopyWarning: \n",
      "A value is trying to be set on a copy of a slice from a DataFrame.\n",
      "Try using .loc[row_indexer,col_indexer] = value instead\n",
      "\n",
      "See the caveats in the documentation: https://pandas.pydata.org/pandas-docs/stable/user_guide/indexing.html#returning-a-view-versus-a-copy\n",
      "  super().__setitem__(key, value)\n",
      "/opt/conda/lib/python3.9/site-packages/geopandas/geodataframe.py:1351: SettingWithCopyWarning: \n",
      "A value is trying to be set on a copy of a slice from a DataFrame.\n",
      "Try using .loc[row_indexer,col_indexer] = value instead\n",
      "\n",
      "See the caveats in the documentation: https://pandas.pydata.org/pandas-docs/stable/user_guide/indexing.html#returning-a-view-versus-a-copy\n",
      "  super().__setitem__(key, value)\n",
      "/opt/conda/lib/python3.9/site-packages/geopandas/geodataframe.py:1351: SettingWithCopyWarning: \n",
      "A value is trying to be set on a copy of a slice from a DataFrame.\n",
      "Try using .loc[row_indexer,col_indexer] = value instead\n",
      "\n",
      "See the caveats in the documentation: https://pandas.pydata.org/pandas-docs/stable/user_guide/indexing.html#returning-a-view-versus-a-copy\n",
      "  super().__setitem__(key, value)\n"
     ]
    },
    {
     "name": "stdout",
     "output_type": "stream",
     "text": [
      "check location data for trip 9288173\n"
     ]
    },
    {
     "name": "stderr",
     "output_type": "stream",
     "text": [
      "/opt/conda/lib/python3.9/site-packages/geopandas/geodataframe.py:1351: SettingWithCopyWarning: \n",
      "A value is trying to be set on a copy of a slice from a DataFrame.\n",
      "Try using .loc[row_indexer,col_indexer] = value instead\n",
      "\n",
      "See the caveats in the documentation: https://pandas.pydata.org/pandas-docs/stable/user_guide/indexing.html#returning-a-view-versus-a-copy\n",
      "  super().__setitem__(key, value)\n"
     ]
    },
    {
     "name": "stdout",
     "output_type": "stream",
     "text": [
      "check location data for trip 9288625\n"
     ]
    },
    {
     "name": "stderr",
     "output_type": "stream",
     "text": [
      "/opt/conda/lib/python3.9/site-packages/geopandas/geodataframe.py:1351: SettingWithCopyWarning: \n",
      "A value is trying to be set on a copy of a slice from a DataFrame.\n",
      "Try using .loc[row_indexer,col_indexer] = value instead\n",
      "\n",
      "See the caveats in the documentation: https://pandas.pydata.org/pandas-docs/stable/user_guide/indexing.html#returning-a-view-versus-a-copy\n",
      "  super().__setitem__(key, value)\n"
     ]
    },
    {
     "name": "stdout",
     "output_type": "stream",
     "text": [
      "check location data for trip 9296677\n",
      "check location data for trip 9288220\n"
     ]
    },
    {
     "name": "stderr",
     "output_type": "stream",
     "text": [
      "/opt/conda/lib/python3.9/site-packages/geopandas/geodataframe.py:1351: SettingWithCopyWarning: \n",
      "A value is trying to be set on a copy of a slice from a DataFrame.\n",
      "Try using .loc[row_indexer,col_indexer] = value instead\n",
      "\n",
      "See the caveats in the documentation: https://pandas.pydata.org/pandas-docs/stable/user_guide/indexing.html#returning-a-view-versus-a-copy\n",
      "  super().__setitem__(key, value)\n",
      "/opt/conda/lib/python3.9/site-packages/geopandas/geodataframe.py:1351: SettingWithCopyWarning: \n",
      "A value is trying to be set on a copy of a slice from a DataFrame.\n",
      "Try using .loc[row_indexer,col_indexer] = value instead\n",
      "\n",
      "See the caveats in the documentation: https://pandas.pydata.org/pandas-docs/stable/user_guide/indexing.html#returning-a-view-versus-a-copy\n",
      "  super().__setitem__(key, value)\n"
     ]
    },
    {
     "name": "stdout",
     "output_type": "stream",
     "text": [
      "check location data for trip 9289240\n",
      "check location data for trip 9288626\n"
     ]
    },
    {
     "name": "stderr",
     "output_type": "stream",
     "text": [
      "/opt/conda/lib/python3.9/site-packages/geopandas/geodataframe.py:1351: SettingWithCopyWarning: \n",
      "A value is trying to be set on a copy of a slice from a DataFrame.\n",
      "Try using .loc[row_indexer,col_indexer] = value instead\n",
      "\n",
      "See the caveats in the documentation: https://pandas.pydata.org/pandas-docs/stable/user_guide/indexing.html#returning-a-view-versus-a-copy\n",
      "  super().__setitem__(key, value)\n",
      "/opt/conda/lib/python3.9/site-packages/geopandas/geodataframe.py:1351: SettingWithCopyWarning: \n",
      "A value is trying to be set on a copy of a slice from a DataFrame.\n",
      "Try using .loc[row_indexer,col_indexer] = value instead\n",
      "\n",
      "See the caveats in the documentation: https://pandas.pydata.org/pandas-docs/stable/user_guide/indexing.html#returning-a-view-versus-a-copy\n",
      "  super().__setitem__(key, value)\n"
     ]
    },
    {
     "name": "stdout",
     "output_type": "stream",
     "text": [
      "check location data for trip 9289759\n",
      "check location data for trip 9288174\n"
     ]
    },
    {
     "name": "stderr",
     "output_type": "stream",
     "text": [
      "/opt/conda/lib/python3.9/site-packages/geopandas/geodataframe.py:1351: SettingWithCopyWarning: \n",
      "A value is trying to be set on a copy of a slice from a DataFrame.\n",
      "Try using .loc[row_indexer,col_indexer] = value instead\n",
      "\n",
      "See the caveats in the documentation: https://pandas.pydata.org/pandas-docs/stable/user_guide/indexing.html#returning-a-view-versus-a-copy\n",
      "  super().__setitem__(key, value)\n",
      "/opt/conda/lib/python3.9/site-packages/geopandas/geodataframe.py:1351: SettingWithCopyWarning: \n",
      "A value is trying to be set on a copy of a slice from a DataFrame.\n",
      "Try using .loc[row_indexer,col_indexer] = value instead\n",
      "\n",
      "See the caveats in the documentation: https://pandas.pydata.org/pandas-docs/stable/user_guide/indexing.html#returning-a-view-versus-a-copy\n",
      "  super().__setitem__(key, value)\n"
     ]
    },
    {
     "name": "stdout",
     "output_type": "stream",
     "text": [
      "check location data for trip 9289468\n"
     ]
    },
    {
     "name": "stderr",
     "output_type": "stream",
     "text": [
      "/opt/conda/lib/python3.9/site-packages/geopandas/geodataframe.py:1351: SettingWithCopyWarning: \n",
      "A value is trying to be set on a copy of a slice from a DataFrame.\n",
      "Try using .loc[row_indexer,col_indexer] = value instead\n",
      "\n",
      "See the caveats in the documentation: https://pandas.pydata.org/pandas-docs/stable/user_guide/indexing.html#returning-a-view-versus-a-copy\n",
      "  super().__setitem__(key, value)\n"
     ]
    },
    {
     "name": "stdout",
     "output_type": "stream",
     "text": [
      "check location data for trip 9289351\n"
     ]
    },
    {
     "name": "stderr",
     "output_type": "stream",
     "text": [
      "/opt/conda/lib/python3.9/site-packages/geopandas/geodataframe.py:1351: SettingWithCopyWarning: \n",
      "A value is trying to be set on a copy of a slice from a DataFrame.\n",
      "Try using .loc[row_indexer,col_indexer] = value instead\n",
      "\n",
      "See the caveats in the documentation: https://pandas.pydata.org/pandas-docs/stable/user_guide/indexing.html#returning-a-view-versus-a-copy\n",
      "  super().__setitem__(key, value)\n"
     ]
    },
    {
     "name": "stdout",
     "output_type": "stream",
     "text": [
      "check location data for trip 9288221\n",
      "check location data for trip 9296540\n",
      "check location data for trip 9296679\n",
      "check location data for trip 9288627\n"
     ]
    },
    {
     "name": "stderr",
     "output_type": "stream",
     "text": [
      "/opt/conda/lib/python3.9/site-packages/geopandas/geodataframe.py:1351: SettingWithCopyWarning: \n",
      "A value is trying to be set on a copy of a slice from a DataFrame.\n",
      "Try using .loc[row_indexer,col_indexer] = value instead\n",
      "\n",
      "See the caveats in the documentation: https://pandas.pydata.org/pandas-docs/stable/user_guide/indexing.html#returning-a-view-versus-a-copy\n",
      "  super().__setitem__(key, value)\n",
      "/opt/conda/lib/python3.9/site-packages/geopandas/geodataframe.py:1351: SettingWithCopyWarning: \n",
      "A value is trying to be set on a copy of a slice from a DataFrame.\n",
      "Try using .loc[row_indexer,col_indexer] = value instead\n",
      "\n",
      "See the caveats in the documentation: https://pandas.pydata.org/pandas-docs/stable/user_guide/indexing.html#returning-a-view-versus-a-copy\n",
      "  super().__setitem__(key, value)\n",
      "/opt/conda/lib/python3.9/site-packages/geopandas/geodataframe.py:1351: SettingWithCopyWarning: \n",
      "A value is trying to be set on a copy of a slice from a DataFrame.\n",
      "Try using .loc[row_indexer,col_indexer] = value instead\n",
      "\n",
      "See the caveats in the documentation: https://pandas.pydata.org/pandas-docs/stable/user_guide/indexing.html#returning-a-view-versus-a-copy\n",
      "  super().__setitem__(key, value)\n",
      "/opt/conda/lib/python3.9/site-packages/geopandas/geodataframe.py:1351: SettingWithCopyWarning: \n",
      "A value is trying to be set on a copy of a slice from a DataFrame.\n",
      "Try using .loc[row_indexer,col_indexer] = value instead\n",
      "\n",
      "See the caveats in the documentation: https://pandas.pydata.org/pandas-docs/stable/user_guide/indexing.html#returning-a-view-versus-a-copy\n",
      "  super().__setitem__(key, value)\n"
     ]
    },
    {
     "name": "stdout",
     "output_type": "stream",
     "text": [
      "check location data for trip 9288670\n",
      "check location data for trip 9296681\n"
     ]
    },
    {
     "name": "stderr",
     "output_type": "stream",
     "text": [
      "/opt/conda/lib/python3.9/site-packages/geopandas/geodataframe.py:1351: SettingWithCopyWarning: \n",
      "A value is trying to be set on a copy of a slice from a DataFrame.\n",
      "Try using .loc[row_indexer,col_indexer] = value instead\n",
      "\n",
      "See the caveats in the documentation: https://pandas.pydata.org/pandas-docs/stable/user_guide/indexing.html#returning-a-view-versus-a-copy\n",
      "  super().__setitem__(key, value)\n",
      "/opt/conda/lib/python3.9/site-packages/geopandas/geodataframe.py:1351: SettingWithCopyWarning: \n",
      "A value is trying to be set on a copy of a slice from a DataFrame.\n",
      "Try using .loc[row_indexer,col_indexer] = value instead\n",
      "\n",
      "See the caveats in the documentation: https://pandas.pydata.org/pandas-docs/stable/user_guide/indexing.html#returning-a-view-versus-a-copy\n",
      "  super().__setitem__(key, value)\n"
     ]
    },
    {
     "name": "stdout",
     "output_type": "stream",
     "text": [
      "check location data for trip 9288175\n",
      "check location data for trip 9289271\n"
     ]
    },
    {
     "name": "stderr",
     "output_type": "stream",
     "text": [
      "/opt/conda/lib/python3.9/site-packages/geopandas/geodataframe.py:1351: SettingWithCopyWarning: \n",
      "A value is trying to be set on a copy of a slice from a DataFrame.\n",
      "Try using .loc[row_indexer,col_indexer] = value instead\n",
      "\n",
      "See the caveats in the documentation: https://pandas.pydata.org/pandas-docs/stable/user_guide/indexing.html#returning-a-view-versus-a-copy\n",
      "  super().__setitem__(key, value)\n",
      "/opt/conda/lib/python3.9/site-packages/geopandas/geodataframe.py:1351: SettingWithCopyWarning: \n",
      "A value is trying to be set on a copy of a slice from a DataFrame.\n",
      "Try using .loc[row_indexer,col_indexer] = value instead\n",
      "\n",
      "See the caveats in the documentation: https://pandas.pydata.org/pandas-docs/stable/user_guide/indexing.html#returning-a-view-versus-a-copy\n",
      "  super().__setitem__(key, value)\n"
     ]
    },
    {
     "name": "stdout",
     "output_type": "stream",
     "text": [
      "check location data for trip 9288640\n"
     ]
    },
    {
     "name": "stderr",
     "output_type": "stream",
     "text": [
      "/opt/conda/lib/python3.9/site-packages/geopandas/geodataframe.py:1351: SettingWithCopyWarning: \n",
      "A value is trying to be set on a copy of a slice from a DataFrame.\n",
      "Try using .loc[row_indexer,col_indexer] = value instead\n",
      "\n",
      "See the caveats in the documentation: https://pandas.pydata.org/pandas-docs/stable/user_guide/indexing.html#returning-a-view-versus-a-copy\n",
      "  super().__setitem__(key, value)\n"
     ]
    },
    {
     "name": "stdout",
     "output_type": "stream",
     "text": [
      "check location data for trip 9289760\n",
      "check location data for trip 9296682\n"
     ]
    },
    {
     "name": "stderr",
     "output_type": "stream",
     "text": [
      "/opt/conda/lib/python3.9/site-packages/geopandas/geodataframe.py:1351: SettingWithCopyWarning: \n",
      "A value is trying to be set on a copy of a slice from a DataFrame.\n",
      "Try using .loc[row_indexer,col_indexer] = value instead\n",
      "\n",
      "See the caveats in the documentation: https://pandas.pydata.org/pandas-docs/stable/user_guide/indexing.html#returning-a-view-versus-a-copy\n",
      "  super().__setitem__(key, value)\n",
      "/opt/conda/lib/python3.9/site-packages/geopandas/geodataframe.py:1351: SettingWithCopyWarning: \n",
      "A value is trying to be set on a copy of a slice from a DataFrame.\n",
      "Try using .loc[row_indexer,col_indexer] = value instead\n",
      "\n",
      "See the caveats in the documentation: https://pandas.pydata.org/pandas-docs/stable/user_guide/indexing.html#returning-a-view-versus-a-copy\n",
      "  super().__setitem__(key, value)\n"
     ]
    },
    {
     "name": "stdout",
     "output_type": "stream",
     "text": [
      "check location data for trip 9288629\n",
      "check location data for trip 9288224\n"
     ]
    },
    {
     "name": "stderr",
     "output_type": "stream",
     "text": [
      "/opt/conda/lib/python3.9/site-packages/geopandas/geodataframe.py:1351: SettingWithCopyWarning: \n",
      "A value is trying to be set on a copy of a slice from a DataFrame.\n",
      "Try using .loc[row_indexer,col_indexer] = value instead\n",
      "\n",
      "See the caveats in the documentation: https://pandas.pydata.org/pandas-docs/stable/user_guide/indexing.html#returning-a-view-versus-a-copy\n",
      "  super().__setitem__(key, value)\n",
      "/opt/conda/lib/python3.9/site-packages/geopandas/geodataframe.py:1351: SettingWithCopyWarning: \n",
      "A value is trying to be set on a copy of a slice from a DataFrame.\n",
      "Try using .loc[row_indexer,col_indexer] = value instead\n",
      "\n",
      "See the caveats in the documentation: https://pandas.pydata.org/pandas-docs/stable/user_guide/indexing.html#returning-a-view-versus-a-copy\n",
      "  super().__setitem__(key, value)\n"
     ]
    },
    {
     "name": "stdout",
     "output_type": "stream",
     "text": [
      "check location data for trip 9296684\n"
     ]
    },
    {
     "name": "stderr",
     "output_type": "stream",
     "text": [
      "/opt/conda/lib/python3.9/site-packages/geopandas/geodataframe.py:1351: SettingWithCopyWarning: \n",
      "A value is trying to be set on a copy of a slice from a DataFrame.\n",
      "Try using .loc[row_indexer,col_indexer] = value instead\n",
      "\n",
      "See the caveats in the documentation: https://pandas.pydata.org/pandas-docs/stable/user_guide/indexing.html#returning-a-view-versus-a-copy\n",
      "  super().__setitem__(key, value)\n"
     ]
    },
    {
     "name": "stdout",
     "output_type": "stream",
     "text": [
      "check location data for trip 9288654\n",
      "check location data for trip 9296683\n",
      "check location data for trip 9289244\n"
     ]
    },
    {
     "name": "stderr",
     "output_type": "stream",
     "text": [
      "/opt/conda/lib/python3.9/site-packages/geopandas/geodataframe.py:1351: SettingWithCopyWarning: \n",
      "A value is trying to be set on a copy of a slice from a DataFrame.\n",
      "Try using .loc[row_indexer,col_indexer] = value instead\n",
      "\n",
      "See the caveats in the documentation: https://pandas.pydata.org/pandas-docs/stable/user_guide/indexing.html#returning-a-view-versus-a-copy\n",
      "  super().__setitem__(key, value)\n",
      "/opt/conda/lib/python3.9/site-packages/geopandas/geodataframe.py:1351: SettingWithCopyWarning: \n",
      "A value is trying to be set on a copy of a slice from a DataFrame.\n",
      "Try using .loc[row_indexer,col_indexer] = value instead\n",
      "\n",
      "See the caveats in the documentation: https://pandas.pydata.org/pandas-docs/stable/user_guide/indexing.html#returning-a-view-versus-a-copy\n",
      "  super().__setitem__(key, value)\n",
      "/opt/conda/lib/python3.9/site-packages/geopandas/geodataframe.py:1351: SettingWithCopyWarning: \n",
      "A value is trying to be set on a copy of a slice from a DataFrame.\n",
      "Try using .loc[row_indexer,col_indexer] = value instead\n",
      "\n",
      "See the caveats in the documentation: https://pandas.pydata.org/pandas-docs/stable/user_guide/indexing.html#returning-a-view-versus-a-copy\n",
      "  super().__setitem__(key, value)\n"
     ]
    },
    {
     "name": "stdout",
     "output_type": "stream",
     "text": [
      "check location data for trip 9289343\n",
      "check location data for trip 9288538\n",
      "check location data for trip 9288631\n"
     ]
    },
    {
     "name": "stderr",
     "output_type": "stream",
     "text": [
      "/opt/conda/lib/python3.9/site-packages/geopandas/geodataframe.py:1351: SettingWithCopyWarning: \n",
      "A value is trying to be set on a copy of a slice from a DataFrame.\n",
      "Try using .loc[row_indexer,col_indexer] = value instead\n",
      "\n",
      "See the caveats in the documentation: https://pandas.pydata.org/pandas-docs/stable/user_guide/indexing.html#returning-a-view-versus-a-copy\n",
      "  super().__setitem__(key, value)\n",
      "/opt/conda/lib/python3.9/site-packages/geopandas/geodataframe.py:1351: SettingWithCopyWarning: \n",
      "A value is trying to be set on a copy of a slice from a DataFrame.\n",
      "Try using .loc[row_indexer,col_indexer] = value instead\n",
      "\n",
      "See the caveats in the documentation: https://pandas.pydata.org/pandas-docs/stable/user_guide/indexing.html#returning-a-view-versus-a-copy\n",
      "  super().__setitem__(key, value)\n",
      "/opt/conda/lib/python3.9/site-packages/geopandas/geodataframe.py:1351: SettingWithCopyWarning: \n",
      "A value is trying to be set on a copy of a slice from a DataFrame.\n",
      "Try using .loc[row_indexer,col_indexer] = value instead\n",
      "\n",
      "See the caveats in the documentation: https://pandas.pydata.org/pandas-docs/stable/user_guide/indexing.html#returning-a-view-versus-a-copy\n",
      "  super().__setitem__(key, value)\n"
     ]
    },
    {
     "name": "stdout",
     "output_type": "stream",
     "text": [
      "check location data for trip 9288630\n"
     ]
    },
    {
     "name": "stderr",
     "output_type": "stream",
     "text": [
      "/opt/conda/lib/python3.9/site-packages/geopandas/geodataframe.py:1351: SettingWithCopyWarning: \n",
      "A value is trying to be set on a copy of a slice from a DataFrame.\n",
      "Try using .loc[row_indexer,col_indexer] = value instead\n",
      "\n",
      "See the caveats in the documentation: https://pandas.pydata.org/pandas-docs/stable/user_guide/indexing.html#returning-a-view-versus-a-copy\n",
      "  super().__setitem__(key, value)\n"
     ]
    },
    {
     "name": "stdout",
     "output_type": "stream",
     "text": [
      "check location data for trip 9288179\n"
     ]
    },
    {
     "name": "stderr",
     "output_type": "stream",
     "text": [
      "/opt/conda/lib/python3.9/site-packages/geopandas/geodataframe.py:1351: SettingWithCopyWarning: \n",
      "A value is trying to be set on a copy of a slice from a DataFrame.\n",
      "Try using .loc[row_indexer,col_indexer] = value instead\n",
      "\n",
      "See the caveats in the documentation: https://pandas.pydata.org/pandas-docs/stable/user_guide/indexing.html#returning-a-view-versus-a-copy\n",
      "  super().__setitem__(key, value)\n"
     ]
    }
   ],
   "source": [
    "test_many = RtAnalysis(trips_positions_joined,\n",
    "                           stop_times,\n",
    "                           stops,\n",
    "                           lbt_routelines,\n",
    "                           ex3_trips.trip_id)"
   ]
  },
  {
   "cell_type": "code",
   "execution_count": 240,
   "id": "92097e05-0647-4a59-9063-0250fedffc06",
   "metadata": {
    "tags": []
   },
   "outputs": [],
   "source": [
    "%%capture --no-stderr\n",
    "test_many.generate_delay_view()"
   ]
  },
  {
   "cell_type": "code",
   "execution_count": 241,
   "id": "1ac5abfd-2622-4f2e-a942-cea4daffa9f7",
   "metadata": {},
   "outputs": [
    {
     "data": {
      "text/plain": [
       "195"
      ]
     },
     "execution_count": 241,
     "metadata": {},
     "output_type": "execute_result"
    }
   ],
   "source": [
    "test_many.trip_ids.nunique()"
   ]
  },
  {
   "cell_type": "code",
   "execution_count": 242,
   "id": "caee325d-7188-4907-8b4f-bb29e119c2aa",
   "metadata": {},
   "outputs": [
    {
     "data": {
      "text/plain": [
       "193"
      ]
     },
     "execution_count": 242,
     "metadata": {},
     "output_type": "execute_result"
    }
   ],
   "source": [
    "test_many.delay_view.trip_id.nunique()"
   ]
  },
  {
   "cell_type": "code",
   "execution_count": 243,
   "id": "a997f422-9df2-40fe-9d82-d55c762bf846",
   "metadata": {},
   "outputs": [
    {
     "data": {
      "text/plain": [
       "39"
      ]
     },
     "execution_count": 243,
     "metadata": {},
     "output_type": "execute_result"
    }
   ],
   "source": [
    "test_many.delay_view.shape_id.nunique()"
   ]
  },
  {
   "cell_type": "code",
   "execution_count": 244,
   "id": "4322ae39-83ff-44e4-abe2-86e23fb0c561",
   "metadata": {
    "collapsed": true,
    "jupyter": {
     "outputs_hidden": true
    },
    "tags": []
   },
   "outputs": [
    {
     "name": "stderr",
     "output_type": "stream",
     "text": [
      "/opt/conda/lib/python3.9/site-packages/pandas/core/dtypes/cast.py:118: ShapelyDeprecationWarning: The array interface is deprecated and will no longer work in Shapely 2.0. Convert the '.coords' to a numpy array instead.\n",
      "  arr = construct_1d_object_array_from_listlike(values)\n"
     ]
    },
    {
     "name": "stdout",
     "output_type": "stream",
     "text": [
      "920111 (64, 12)\n"
     ]
    },
    {
     "name": "stderr",
     "output_type": "stream",
     "text": [
      "/opt/conda/lib/python3.9/site-packages/pandas/core/dtypes/cast.py:118: ShapelyDeprecationWarning: The array interface is deprecated and will no longer work in Shapely 2.0. Convert the '.coords' to a numpy array instead.\n",
      "  arr = construct_1d_object_array_from_listlike(values)\n"
     ]
    },
    {
     "name": "stdout",
     "output_type": "stream",
     "text": [
      "930147 (74, 12)\n"
     ]
    },
    {
     "name": "stderr",
     "output_type": "stream",
     "text": [
      "/opt/conda/lib/python3.9/site-packages/pandas/core/dtypes/cast.py:118: ShapelyDeprecationWarning: The array interface is deprecated and will no longer work in Shapely 2.0. Convert the '.coords' to a numpy array instead.\n",
      "  arr = construct_1d_object_array_from_listlike(values)\n"
     ]
    },
    {
     "name": "stdout",
     "output_type": "stream",
     "text": [
      "910132 (78, 12)\n"
     ]
    },
    {
     "name": "stderr",
     "output_type": "stream",
     "text": [
      "/opt/conda/lib/python3.9/site-packages/pandas/core/dtypes/cast.py:118: ShapelyDeprecationWarning: The array interface is deprecated and will no longer work in Shapely 2.0. Convert the '.coords' to a numpy array instead.\n",
      "  arr = construct_1d_object_array_from_listlike(values)\n"
     ]
    },
    {
     "name": "stdout",
     "output_type": "stream",
     "text": [
      "1750012 (27, 12)\n"
     ]
    },
    {
     "name": "stderr",
     "output_type": "stream",
     "text": [
      "/opt/conda/lib/python3.9/site-packages/pandas/core/dtypes/cast.py:118: ShapelyDeprecationWarning: The array interface is deprecated and will no longer work in Shapely 2.0. Convert the '.coords' to a numpy array instead.\n",
      "  arr = construct_1d_object_array_from_listlike(values)\n"
     ]
    },
    {
     "name": "stdout",
     "output_type": "stream",
     "text": [
      "1730123 (77, 12)\n"
     ]
    },
    {
     "name": "stderr",
     "output_type": "stream",
     "text": [
      "/opt/conda/lib/python3.9/site-packages/pandas/core/dtypes/cast.py:118: ShapelyDeprecationWarning: The array interface is deprecated and will no longer work in Shapely 2.0. Convert the '.coords' to a numpy array instead.\n",
      "  arr = construct_1d_object_array_from_listlike(values)\n"
     ]
    },
    {
     "name": "stdout",
     "output_type": "stream",
     "text": [
      "1720093 (71, 12)\n"
     ]
    },
    {
     "name": "stderr",
     "output_type": "stream",
     "text": [
      "/opt/conda/lib/python3.9/site-packages/pandas/core/dtypes/cast.py:118: ShapelyDeprecationWarning: The array interface is deprecated and will no longer work in Shapely 2.0. Convert the '.coords' to a numpy array instead.\n",
      "  arr = construct_1d_object_array_from_listlike(values)\n"
     ]
    },
    {
     "name": "stdout",
     "output_type": "stream",
     "text": [
      "1510067 (20, 12)\n"
     ]
    },
    {
     "name": "stderr",
     "output_type": "stream",
     "text": [
      "/opt/conda/lib/python3.9/site-packages/pandas/core/dtypes/cast.py:118: ShapelyDeprecationWarning: The array interface is deprecated and will no longer work in Shapely 2.0. Convert the '.coords' to a numpy array instead.\n",
      "  arr = construct_1d_object_array_from_listlike(values)\n"
     ]
    },
    {
     "name": "stdout",
     "output_type": "stream",
     "text": [
      "1820071 (22, 12)\n"
     ]
    },
    {
     "name": "stderr",
     "output_type": "stream",
     "text": [
      "/opt/conda/lib/python3.9/site-packages/pandas/core/dtypes/cast.py:118: ShapelyDeprecationWarning: The array interface is deprecated and will no longer work in Shapely 2.0. Convert the '.coords' to a numpy array instead.\n",
      "  arr = construct_1d_object_array_from_listlike(values)\n"
     ]
    },
    {
     "name": "stdout",
     "output_type": "stream",
     "text": [
      "1810080 (25, 12)\n"
     ]
    },
    {
     "name": "stderr",
     "output_type": "stream",
     "text": [
      "/opt/conda/lib/python3.9/site-packages/pandas/core/dtypes/cast.py:118: ShapelyDeprecationWarning: The array interface is deprecated and will no longer work in Shapely 2.0. Convert the '.coords' to a numpy array instead.\n",
      "  arr = construct_1d_object_array_from_listlike(values)\n"
     ]
    },
    {
     "name": "stdout",
     "output_type": "stream",
     "text": [
      "1010081 (43, 12)\n"
     ]
    },
    {
     "name": "stderr",
     "output_type": "stream",
     "text": [
      "/opt/conda/lib/python3.9/site-packages/pandas/core/dtypes/cast.py:118: ShapelyDeprecationWarning: The array interface is deprecated and will no longer work in Shapely 2.0. Convert the '.coords' to a numpy array instead.\n",
      "  arr = construct_1d_object_array_from_listlike(values)\n"
     ]
    },
    {
     "name": "stdout",
     "output_type": "stream",
     "text": [
      "1040017 (41, 12)\n"
     ]
    },
    {
     "name": "stderr",
     "output_type": "stream",
     "text": [
      "/opt/conda/lib/python3.9/site-packages/pandas/core/dtypes/cast.py:118: ShapelyDeprecationWarning: The array interface is deprecated and will no longer work in Shapely 2.0. Convert the '.coords' to a numpy array instead.\n",
      "  arr = construct_1d_object_array_from_listlike(values)\n"
     ]
    },
    {
     "name": "stdout",
     "output_type": "stream",
     "text": [
      "1030063 (43, 12)\n"
     ]
    },
    {
     "name": "stderr",
     "output_type": "stream",
     "text": [
      "/opt/conda/lib/python3.9/site-packages/pandas/core/dtypes/cast.py:118: ShapelyDeprecationWarning: The array interface is deprecated and will no longer work in Shapely 2.0. Convert the '.coords' to a numpy array instead.\n",
      "  arr = construct_1d_object_array_from_listlike(values)\n"
     ]
    },
    {
     "name": "stdout",
     "output_type": "stream",
     "text": [
      "1310131 (28, 12)\n"
     ]
    },
    {
     "name": "stderr",
     "output_type": "stream",
     "text": [
      "/opt/conda/lib/python3.9/site-packages/pandas/core/dtypes/cast.py:118: ShapelyDeprecationWarning: The array interface is deprecated and will no longer work in Shapely 2.0. Convert the '.coords' to a numpy array instead.\n",
      "  arr = construct_1d_object_array_from_listlike(values)\n"
     ]
    },
    {
     "name": "stdout",
     "output_type": "stream",
     "text": [
      "210079 (56, 12)\n"
     ]
    },
    {
     "name": "stderr",
     "output_type": "stream",
     "text": [
      "/opt/conda/lib/python3.9/site-packages/pandas/core/dtypes/cast.py:118: ShapelyDeprecationWarning: The array interface is deprecated and will no longer work in Shapely 2.0. Convert the '.coords' to a numpy array instead.\n",
      "  arr = construct_1d_object_array_from_listlike(values)\n"
     ]
    },
    {
     "name": "stdout",
     "output_type": "stream",
     "text": [
      "220074 (69, 12)\n"
     ]
    },
    {
     "name": "stderr",
     "output_type": "stream",
     "text": [
      "/opt/conda/lib/python3.9/site-packages/pandas/core/dtypes/cast.py:118: ShapelyDeprecationWarning: The array interface is deprecated and will no longer work in Shapely 2.0. Convert the '.coords' to a numpy array instead.\n",
      "  arr = construct_1d_object_array_from_listlike(values)\n"
     ]
    },
    {
     "name": "stdout",
     "output_type": "stream",
     "text": [
      "230018 (63, 12)\n",
      "speed above 70 for shape 230018, dropping\n",
      "4050003 (3, 12)\n"
     ]
    },
    {
     "name": "stderr",
     "output_type": "stream",
     "text": [
      "/opt/conda/lib/python3.9/site-packages/pandas/core/dtypes/cast.py:118: ShapelyDeprecationWarning: The array interface is deprecated and will no longer work in Shapely 2.0. Convert the '.coords' to a numpy array instead.\n",
      "  arr = construct_1d_object_array_from_listlike(values)\n",
      "/opt/conda/lib/python3.9/site-packages/pandas/core/dtypes/cast.py:118: ShapelyDeprecationWarning: The array interface is deprecated and will no longer work in Shapely 2.0. Convert the '.coords' to a numpy array instead.\n",
      "  arr = construct_1d_object_array_from_listlike(values)\n"
     ]
    },
    {
     "name": "stdout",
     "output_type": "stream",
     "text": [
      "1210143 (49, 12)\n"
     ]
    },
    {
     "name": "stderr",
     "output_type": "stream",
     "text": [
      "/opt/conda/lib/python3.9/site-packages/pandas/core/dtypes/cast.py:118: ShapelyDeprecationWarning: The array interface is deprecated and will no longer work in Shapely 2.0. Convert the '.coords' to a numpy array instead.\n",
      "  arr = construct_1d_object_array_from_listlike(values)\n"
     ]
    },
    {
     "name": "stdout",
     "output_type": "stream",
     "text": [
      "410007 (56, 12)\n"
     ]
    },
    {
     "name": "stderr",
     "output_type": "stream",
     "text": [
      "/opt/conda/lib/python3.9/site-packages/pandas/core/dtypes/cast.py:118: ShapelyDeprecationWarning: The array interface is deprecated and will no longer work in Shapely 2.0. Convert the '.coords' to a numpy array instead.\n",
      "  arr = construct_1d_object_array_from_listlike(values)\n"
     ]
    },
    {
     "name": "stdout",
     "output_type": "stream",
     "text": [
      "460065 (31, 12)\n"
     ]
    },
    {
     "name": "stderr",
     "output_type": "stream",
     "text": [
      "/opt/conda/lib/python3.9/site-packages/pandas/core/dtypes/cast.py:118: ShapelyDeprecationWarning: The array interface is deprecated and will no longer work in Shapely 2.0. Convert the '.coords' to a numpy array instead.\n",
      "  arr = construct_1d_object_array_from_listlike(values)\n"
     ]
    },
    {
     "name": "stdout",
     "output_type": "stream",
     "text": [
      "710048 (58, 12)\n"
     ]
    },
    {
     "name": "stderr",
     "output_type": "stream",
     "text": [
      "/opt/conda/lib/python3.9/site-packages/pandas/core/dtypes/cast.py:118: ShapelyDeprecationWarning: The array interface is deprecated and will no longer work in Shapely 2.0. Convert the '.coords' to a numpy array instead.\n",
      "  arr = construct_1d_object_array_from_listlike(values)\n"
     ]
    },
    {
     "name": "stdout",
     "output_type": "stream",
     "text": [
      "40002 (20, 12)\n"
     ]
    },
    {
     "name": "stderr",
     "output_type": "stream",
     "text": [
      "/opt/conda/lib/python3.9/site-packages/pandas/core/dtypes/cast.py:118: ShapelyDeprecationWarning: The array interface is deprecated and will no longer work in Shapely 2.0. Convert the '.coords' to a numpy array instead.\n",
      "  arr = construct_1d_object_array_from_listlike(values)\n"
     ]
    },
    {
     "name": "stdout",
     "output_type": "stream",
     "text": [
      "80002 (14, 12)\n"
     ]
    },
    {
     "name": "stderr",
     "output_type": "stream",
     "text": [
      "/opt/conda/lib/python3.9/site-packages/pandas/core/dtypes/cast.py:118: ShapelyDeprecationWarning: The array interface is deprecated and will no longer work in Shapely 2.0. Convert the '.coords' to a numpy array instead.\n",
      "  arr = construct_1d_object_array_from_listlike(values)\n"
     ]
    },
    {
     "name": "stdout",
     "output_type": "stream",
     "text": [
      "1910295 (73, 12)\n"
     ]
    },
    {
     "name": "stderr",
     "output_type": "stream",
     "text": [
      "/opt/conda/lib/python3.9/site-packages/pandas/core/dtypes/cast.py:118: ShapelyDeprecationWarning: The array interface is deprecated and will no longer work in Shapely 2.0. Convert the '.coords' to a numpy array instead.\n",
      "  arr = construct_1d_object_array_from_listlike(values)\n"
     ]
    },
    {
     "name": "stdout",
     "output_type": "stream",
     "text": [
      "1920167 (74, 12)\n"
     ]
    },
    {
     "name": "stderr",
     "output_type": "stream",
     "text": [
      "/opt/conda/lib/python3.9/site-packages/pandas/core/dtypes/cast.py:118: ShapelyDeprecationWarning: The array interface is deprecated and will no longer work in Shapely 2.0. Convert the '.coords' to a numpy array instead.\n",
      "  arr = construct_1d_object_array_from_listlike(values)\n"
     ]
    },
    {
     "name": "stdout",
     "output_type": "stream",
     "text": [
      "930151 (73, 12)\n"
     ]
    },
    {
     "name": "stderr",
     "output_type": "stream",
     "text": [
      "/opt/conda/lib/python3.9/site-packages/pandas/core/dtypes/cast.py:118: ShapelyDeprecationWarning: The array interface is deprecated and will no longer work in Shapely 2.0. Convert the '.coords' to a numpy array instead.\n",
      "  arr = construct_1d_object_array_from_listlike(values)\n"
     ]
    },
    {
     "name": "stdout",
     "output_type": "stream",
     "text": [
      "910131 (77, 12)\n"
     ]
    },
    {
     "name": "stderr",
     "output_type": "stream",
     "text": [
      "/opt/conda/lib/python3.9/site-packages/pandas/core/dtypes/cast.py:118: ShapelyDeprecationWarning: The array interface is deprecated and will no longer work in Shapely 2.0. Convert the '.coords' to a numpy array instead.\n",
      "  arr = construct_1d_object_array_from_listlike(values)\n"
     ]
    },
    {
     "name": "stdout",
     "output_type": "stream",
     "text": [
      "920115 (63, 12)\n"
     ]
    },
    {
     "name": "stderr",
     "output_type": "stream",
     "text": [
      "/opt/conda/lib/python3.9/site-packages/pandas/core/dtypes/cast.py:118: ShapelyDeprecationWarning: The array interface is deprecated and will no longer work in Shapely 2.0. Convert the '.coords' to a numpy array instead.\n",
      "  arr = construct_1d_object_array_from_listlike(values)\n"
     ]
    },
    {
     "name": "stdout",
     "output_type": "stream",
     "text": [
      "1710168 (37, 12)\n",
      "speed above 70 for shape 1710168, dropping\n"
     ]
    },
    {
     "name": "stderr",
     "output_type": "stream",
     "text": [
      "/opt/conda/lib/python3.9/site-packages/pandas/core/dtypes/cast.py:118: ShapelyDeprecationWarning: The array interface is deprecated and will no longer work in Shapely 2.0. Convert the '.coords' to a numpy array instead.\n",
      "  arr = construct_1d_object_array_from_listlike(values)\n"
     ]
    },
    {
     "name": "stdout",
     "output_type": "stream",
     "text": [
      "1720091 (56, 12)\n"
     ]
    },
    {
     "name": "stderr",
     "output_type": "stream",
     "text": [
      "/opt/conda/lib/python3.9/site-packages/pandas/core/dtypes/cast.py:118: ShapelyDeprecationWarning: The array interface is deprecated and will no longer work in Shapely 2.0. Convert the '.coords' to a numpy array instead.\n",
      "  arr = construct_1d_object_array_from_listlike(values)\n"
     ]
    },
    {
     "name": "stdout",
     "output_type": "stream",
     "text": [
      "1120046 (54, 12)\n"
     ]
    },
    {
     "name": "stderr",
     "output_type": "stream",
     "text": [
      "/opt/conda/lib/python3.9/site-packages/pandas/core/dtypes/cast.py:118: ShapelyDeprecationWarning: The array interface is deprecated and will no longer work in Shapely 2.0. Convert the '.coords' to a numpy array instead.\n",
      "  arr = construct_1d_object_array_from_listlike(values)\n"
     ]
    },
    {
     "name": "stdout",
     "output_type": "stream",
     "text": [
      "1110083 (53, 12)\n"
     ]
    },
    {
     "name": "stderr",
     "output_type": "stream",
     "text": [
      "/opt/conda/lib/python3.9/site-packages/pandas/core/dtypes/cast.py:118: ShapelyDeprecationWarning: The array interface is deprecated and will no longer work in Shapely 2.0. Convert the '.coords' to a numpy array instead.\n",
      "  arr = construct_1d_object_array_from_listlike(values)\n"
     ]
    },
    {
     "name": "stdout",
     "output_type": "stream",
     "text": [
      "610106 (49, 12)\n"
     ]
    },
    {
     "name": "stderr",
     "output_type": "stream",
     "text": [
      "/opt/conda/lib/python3.9/site-packages/pandas/core/dtypes/cast.py:118: ShapelyDeprecationWarning: The array interface is deprecated and will no longer work in Shapely 2.0. Convert the '.coords' to a numpy array instead.\n",
      "  arr = construct_1d_object_array_from_listlike(values)\n"
     ]
    },
    {
     "name": "stdout",
     "output_type": "stream",
     "text": [
      "510067 (43, 12)\n"
     ]
    },
    {
     "name": "stderr",
     "output_type": "stream",
     "text": [
      "/opt/conda/lib/python3.9/site-packages/pandas/core/dtypes/cast.py:118: ShapelyDeprecationWarning: The array interface is deprecated and will no longer work in Shapely 2.0. Convert the '.coords' to a numpy array instead.\n",
      "  arr = construct_1d_object_array_from_listlike(values)\n"
     ]
    },
    {
     "name": "stdout",
     "output_type": "stream",
     "text": [
      "450110 (33, 12)\n"
     ]
    },
    {
     "name": "stderr",
     "output_type": "stream",
     "text": [
      "/opt/conda/lib/python3.9/site-packages/pandas/core/dtypes/cast.py:118: ShapelyDeprecationWarning: The array interface is deprecated and will no longer work in Shapely 2.0. Convert the '.coords' to a numpy array instead.\n",
      "  arr = construct_1d_object_array_from_listlike(values)\n"
     ]
    },
    {
     "name": "stdout",
     "output_type": "stream",
     "text": [
      "460067 (25, 12)\n"
     ]
    },
    {
     "name": "stderr",
     "output_type": "stream",
     "text": [
      "/opt/conda/lib/python3.9/site-packages/pandas/core/dtypes/cast.py:118: ShapelyDeprecationWarning: The array interface is deprecated and will no longer work in Shapely 2.0. Convert the '.coords' to a numpy array instead.\n",
      "  arr = construct_1d_object_array_from_listlike(values)\n"
     ]
    },
    {
     "name": "stdout",
     "output_type": "stream",
     "text": [
      "460069 (25, 12)\n"
     ]
    },
    {
     "name": "stderr",
     "output_type": "stream",
     "text": [
      "/opt/conda/lib/python3.9/site-packages/pandas/core/dtypes/cast.py:118: ShapelyDeprecationWarning: The array interface is deprecated and will no longer work in Shapely 2.0. Convert the '.coords' to a numpy array instead.\n",
      "  arr = construct_1d_object_array_from_listlike(values)\n"
     ]
    },
    {
     "name": "stdout",
     "output_type": "stream",
     "text": [
      "10069 (7, 12)\n"
     ]
    },
    {
     "name": "stderr",
     "output_type": "stream",
     "text": [
      "/opt/conda/lib/python3.9/site-packages/pandas/core/dtypes/cast.py:118: ShapelyDeprecationWarning: The array interface is deprecated and will no longer work in Shapely 2.0. Convert the '.coords' to a numpy array instead.\n",
      "  arr = construct_1d_object_array_from_listlike(values)\n"
     ]
    },
    {
     "name": "stdout",
     "output_type": "stream",
     "text": [
      "20008 (10, 12)\n"
     ]
    }
   ],
   "source": [
    "m = test_many.map_segment_speeds(how = 'average')"
   ]
  },
  {
   "cell_type": "code",
   "execution_count": 245,
   "id": "ee1cd5d3-f4b6-444c-bd32-c0094aba2d93",
   "metadata": {},
   "outputs": [],
   "source": [
    "colorscale = branca.colormap.step.RdYlGn_10.scale(vmin=0, \n",
    " vmax=30)\n",
    "colorscale.caption = \"Speed (miles per hour)\""
   ]
  },
  {
   "cell_type": "code",
   "execution_count": 246,
   "id": "0a97afec-5d76-4354-ac38-6bf6e05867d9",
   "metadata": {
    "tags": []
   },
   "outputs": [],
   "source": [
    "m = test_many._generate_segment_map(colorscale)"
   ]
  },
  {
   "cell_type": "code",
   "execution_count": 247,
   "id": "6490b399-60d7-4ec9-b88f-e48c5c2b6609",
   "metadata": {},
   "outputs": [
    {
     "data": {
      "text/plain": [
       "branca.element.Figure"
      ]
     },
     "execution_count": 247,
     "metadata": {},
     "output_type": "execute_result"
    }
   ],
   "source": [
    "type(m)"
   ]
  },
  {
   "cell_type": "code",
   "execution_count": 357,
   "id": "fb2c2254-8bbd-44e6-a599-6f733e4348fe",
   "metadata": {},
   "outputs": [],
   "source": [
    "# m"
   ]
  },
  {
   "cell_type": "code",
   "execution_count": 248,
   "id": "673fe74d-4d1d-491f-b4be-cd55c0edc429",
   "metadata": {},
   "outputs": [],
   "source": [
    "# m"
   ]
  },
  {
   "cell_type": "code",
   "execution_count": 276,
   "id": "80560595-2e62-4db4-a570-b34dbe39cc18",
   "metadata": {},
   "outputs": [],
   "source": [
    "m.save('lbt_speed_map.html')"
   ]
  },
  {
   "cell_type": "code",
   "execution_count": 358,
   "id": "efa6b864-32bb-407d-881d-2ad8444e945f",
   "metadata": {},
   "outputs": [],
   "source": [
    "# example_vp_trip.detailed_speed_map()"
   ]
  },
  {
   "cell_type": "code",
   "execution_count": 141,
   "id": "f187fe79-ae57-4c89-a21b-8bfcb9fcf230",
   "metadata": {},
   "outputs": [
    {
     "data": {
      "text/html": [
       "<div>\n",
       "<style scoped>\n",
       "    .dataframe tbody tr th:only-of-type {\n",
       "        vertical-align: middle;\n",
       "    }\n",
       "\n",
       "    .dataframe tbody tr th {\n",
       "        vertical-align: top;\n",
       "    }\n",
       "\n",
       "    .dataframe thead th {\n",
       "        text-align: right;\n",
       "    }\n",
       "</style>\n",
       "<table border=\"1\" class=\"dataframe\">\n",
       "  <thead>\n",
       "    <tr style=\"text-align: right;\">\n",
       "      <th></th>\n",
       "      <th>stop_id</th>\n",
       "      <th>shape_id</th>\n",
       "      <th>direction_id</th>\n",
       "      <th>stop_sequence</th>\n",
       "      <th>shape_meters</th>\n",
       "      <th>date</th>\n",
       "      <th>geometry</th>\n",
       "      <th>seconds_from_last</th>\n",
       "      <th>last_loc</th>\n",
       "      <th>meters_from_last</th>\n",
       "      <th>speed_from_last</th>\n",
       "      <th>speed_mph</th>\n",
       "    </tr>\n",
       "  </thead>\n",
       "  <tbody>\n",
       "    <tr>\n",
       "      <th>0</th>\n",
       "      <td>1199</td>\n",
       "      <td>920111</td>\n",
       "      <td>0</td>\n",
       "      <td>3</td>\n",
       "      <td>1575.0</td>\n",
       "      <td>2021-12-01</td>\n",
       "      <td>LINESTRING (174160.777 -456781.529, 174163.534...</td>\n",
       "      <td>90.0</td>\n",
       "      <td>919.583082</td>\n",
       "      <td>655.554536</td>\n",
       "      <td>7.283939</td>\n",
       "      <td>17.3</td>\n",
       "    </tr>\n",
       "    <tr>\n",
       "      <th>1</th>\n",
       "      <td>1198</td>\n",
       "      <td>920111</td>\n",
       "      <td>0</td>\n",
       "      <td>4</td>\n",
       "      <td>1875.0</td>\n",
       "      <td>2021-12-01</td>\n",
       "      <td>LINESTRING (174177.493 -457436.867, 174177.494...</td>\n",
       "      <td>38.0</td>\n",
       "      <td>1575.137619</td>\n",
       "      <td>299.512117</td>\n",
       "      <td>7.881898</td>\n",
       "      <td>21.0</td>\n",
       "    </tr>\n",
       "    <tr>\n",
       "      <th>2</th>\n",
       "      <td>1200</td>\n",
       "      <td>920111</td>\n",
       "      <td>0</td>\n",
       "      <td>5</td>\n",
       "      <td>2177.0</td>\n",
       "      <td>2021-12-01</td>\n",
       "      <td>LINESTRING (174185.105 -457736.256, 174185.105...</td>\n",
       "      <td>28.0</td>\n",
       "      <td>1874.649736</td>\n",
       "      <td>302.355622</td>\n",
       "      <td>10.798415</td>\n",
       "      <td>21.5</td>\n",
       "    </tr>\n",
       "  </tbody>\n",
       "</table>\n",
       "</div>"
      ],
      "text/plain": [
       "  stop_id shape_id direction_id  stop_sequence  shape_meters        date  \\\n",
       "0    1199   920111            0              3        1575.0  2021-12-01   \n",
       "1    1198   920111            0              4        1875.0  2021-12-01   \n",
       "2    1200   920111            0              5        2177.0  2021-12-01   \n",
       "\n",
       "                                            geometry  seconds_from_last  \\\n",
       "0  LINESTRING (174160.777 -456781.529, 174163.534...               90.0   \n",
       "1  LINESTRING (174177.493 -457436.867, 174177.494...               38.0   \n",
       "2  LINESTRING (174185.105 -457736.256, 174185.105...               28.0   \n",
       "\n",
       "      last_loc  meters_from_last  speed_from_last  speed_mph  \n",
       "0   919.583082        655.554536         7.283939       17.3  \n",
       "1  1575.137619        299.512117         7.881898       21.0  \n",
       "2  1874.649736        302.355622        10.798415       21.5  "
      ]
     },
     "execution_count": 141,
     "metadata": {},
     "output_type": "execute_result"
    }
   ],
   "source": [
    "test_many.segment_speed_view.head(3)"
   ]
  }
 ],
 "metadata": {
  "kernelspec": {
   "display_name": "Python 3 (ipykernel)",
   "language": "python",
   "name": "python3"
  },
  "language_info": {
   "codemirror_mode": {
    "name": "ipython",
    "version": 3
   },
   "file_extension": ".py",
   "mimetype": "text/x-python",
   "name": "python",
   "nbconvert_exporter": "python",
   "pygments_lexer": "ipython3",
   "version": "3.9.7"
  }
 },
 "nbformat": 4,
 "nbformat_minor": 5
}
