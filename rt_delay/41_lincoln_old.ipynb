{
 "cells": [
  {
   "cell_type": "code",
   "execution_count": null,
   "id": "ec753ee9-a727-4ba1-8f97-fd1745170ed5",
   "metadata": {},
   "outputs": [],
   "source": [
    "import os\n",
    "os.environ[\"CALITP_BQ_MAX_BYTES\"] = str(800_000_000_000)\n",
    "from shared_utils import rt_utils, rt_dates\n",
    "\n",
    "from rt_analysis import rt_parser, rt_filter_map_plot\n",
    "\n",
    "import pandas as pd\n",
    "import geopandas as gpd\n",
    "from siuba import *\n",
    "import datetime as dt\n",
    "\n",
    "from tqdm.notebook import tqdm"
   ]
  },
  {
   "cell_type": "code",
   "execution_count": null,
   "id": "73ba1ff8-d3c4-4988-8ed8-1695ae1d4de3",
   "metadata": {},
   "outputs": [],
   "source": [
    "from calitp_data_analysis.tables import tbls"
   ]
  },
  {
   "cell_type": "code",
   "execution_count": null,
   "id": "c846238f-ede8-4332-a9ad-48c39a8aee20",
   "metadata": {},
   "outputs": [],
   "source": [
    "bbb_itp_id = 300"
   ]
  },
  {
   "cell_type": "code",
   "execution_count": null,
   "id": "0b984387-b0b1-4638-b396-b2f656a2704d",
   "metadata": {},
   "outputs": [],
   "source": [
    "# analysis_date = dt.date(2022, 10, 12)\n",
    "analysis_date = dt.date.fromisoformat(rt_dates.DATES['sep2022a'])"
   ]
  },
  {
   "cell_type": "code",
   "execution_count": null,
   "id": "861eb7ee-1b19-4ffc-a166-4a832b31d04e",
   "metadata": {},
   "outputs": [],
   "source": [
    "# [rt_utils.get_operators(date, [mst_itp_id]) for date in key_dates]"
   ]
  },
  {
   "cell_type": "code",
   "execution_count": null,
   "id": "be0d8707-adc8-48d9-b2bd-8fb068662a33",
   "metadata": {},
   "outputs": [],
   "source": [
    "pbar = tqdm()"
   ]
  },
  {
   "cell_type": "code",
   "execution_count": null,
   "id": "a38734fa-7d02-4a89-8384-370fcbd847bc",
   "metadata": {},
   "outputs": [],
   "source": [
    "rt_day = rt_parser.OperatorDayAnalysis(bbb_itp_id,\n",
    "                                       analysis_date, pbar)\n",
    "\n",
    "\n",
    "rt_day.export_views_gcs()"
   ]
  },
  {
   "cell_type": "code",
   "execution_count": null,
   "id": "b06df368-21f1-4e4b-958b-08562bffee44",
   "metadata": {
    "tags": []
   },
   "outputs": [],
   "source": [
    "rt_day = rt_filter_map_plot.from_gcs(bbb_itp_id, analysis_date, pbar)"
   ]
  },
  {
   "cell_type": "code",
   "execution_count": null,
   "id": "de168206-cfab-49f6-9dba-c8192ff4af36",
   "metadata": {},
   "outputs": [],
   "source": [
    "rt_day.set_filter(route_names=['3', 'R3'])"
   ]
  },
  {
   "cell_type": "code",
   "execution_count": null,
   "id": "49ca04fc-7f8b-4be6-99e0-fe964118bf63",
   "metadata": {},
   "outputs": [],
   "source": [
    "rt_day.segment_speed_map()"
   ]
  },
  {
   "cell_type": "code",
   "execution_count": null,
   "id": "e927f9ac-8adb-4b87-aaa0-64999b341af4",
   "metadata": {},
   "outputs": [],
   "source": [
    "rt_day.autocorridor('25982', [12, 26])"
   ]
  },
  {
   "cell_type": "code",
   "execution_count": null,
   "id": "4c2778da-dd15-4907-91bd-d076a8087e02",
   "metadata": {},
   "outputs": [],
   "source": [
    "rt_day.corridor_metrics()"
   ]
  },
  {
   "cell_type": "code",
   "execution_count": null,
   "id": "69e89b5a-2b63-4b9c-9e31-40592f6291e7",
   "metadata": {},
   "outputs": [],
   "source": [
    "# rt_day.corridor.to_parquet('./lincoln_oct12_old.parquet')\n",
    "rt_day.corridor.to_parquet('./lincoln_sep21_old.parquet')"
   ]
  },
  {
   "cell_type": "code",
   "execution_count": null,
   "id": "82a78ea6-cc84-4283-b98a-13f2eac692d4",
   "metadata": {},
   "outputs": [],
   "source": [
    "rt_day._filter(rt_day.rt_trips)"
   ]
  },
  {
   "cell_type": "code",
   "execution_count": null,
   "id": "2da0eb78-a0ca-4788-8231-9f7665c8b8e5",
   "metadata": {},
   "outputs": [],
   "source": []
  }
 ],
 "metadata": {
  "kernelspec": {
   "display_name": "Python 3 (ipykernel)",
   "language": "python",
   "name": "python3"
  },
  "language_info": {
   "codemirror_mode": {
    "name": "ipython",
    "version": 3
   },
   "file_extension": ".py",
   "mimetype": "text/x-python",
   "name": "python",
   "nbconvert_exporter": "python",
   "pygments_lexer": "ipython3",
   "version": "3.9.13"
  },
  "widgets": {
   "application/vnd.jupyter.widget-state+json": {
    "state": {},
    "version_major": 2,
    "version_minor": 0
   }
  }
 },
 "nbformat": 4,
 "nbformat_minor": 5
}
