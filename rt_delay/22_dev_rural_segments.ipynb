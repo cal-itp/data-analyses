{
 "cells": [
  {
   "cell_type": "code",
   "execution_count": 287,
   "id": "dd3c8428-a8d7-4db0-ba36-51f469deecff",
   "metadata": {},
   "outputs": [],
   "source": [
    "import os\n",
    "os.environ[\"CALITP_BQ_MAX_BYTES\"] = str(800_000_000_000) ## 800GB?\n",
    "\n",
    "from calitp.tables import tbl\n",
    "from calitp import query_sql\n",
    "import calitp.magics\n",
    "import branca\n",
    "\n",
    "import shared_utils\n",
    "\n",
    "from siuba import *\n",
    "import pandas as pd\n",
    "import geopandas as gpd\n",
    "import shapely\n",
    "\n",
    "import datetime as dt\n",
    "import time\n",
    "from zoneinfo import ZoneInfo\n",
    "\n",
    "import rt_analysis as rt\n",
    "import importlib\n",
    "\n",
    "import gcsfs\n",
    "fs = gcsfs.GCSFileSystem()\n",
    "\n",
    "from tqdm import tqdm_notebook\n",
    "from tqdm.notebook import trange, tqdm"
   ]
  },
  {
   "cell_type": "code",
   "execution_count": 288,
   "id": "b4e318e8-8da2-4a5d-8ffd-83f605c3318f",
   "metadata": {},
   "outputs": [
    {
     "data": {
      "text/plain": [
       "<module 'rt_analysis' from '/home/jovyan/data-analyses/rt_delay/rt_analysis.py'>"
      ]
     },
     "execution_count": 288,
     "metadata": {},
     "output_type": "execute_result"
    }
   ],
   "source": [
    "importlib.reload(rt)"
   ]
  },
  {
   "cell_type": "markdown",
   "id": "e3e98112-bc9f-4f8a-aae8-2007dde20da8",
   "metadata": {},
   "source": [
    "# Scratch notebook for handling long stop to stop segments\n",
    "\n",
    "* goal is to provide additional map detail for rural/express routes"
   ]
  },
  {
   "cell_type": "code",
   "execution_count": 289,
   "id": "a5ca1534-39e4-4c2e-b582-dcb585de7596",
   "metadata": {},
   "outputs": [],
   "source": [
    "## KART speedmap as displayed on site\n",
    "itp_id = 148\n",
    "analysis_date = dt.date(2022, 6, 1)"
   ]
  },
  {
   "cell_type": "code",
   "execution_count": 290,
   "id": "74f7c3b5-7c04-4554-a129-77ea4b5cc467",
   "metadata": {},
   "outputs": [
    {
     "data": {
      "application/vnd.jupyter.widget-view+json": {
       "model_id": "51e6c4a3427e487aa942fcf7af4536a3",
       "version_major": 2,
       "version_minor": 0
      },
      "text/plain": [
       "0it [00:00, ?it/s]"
      ]
     },
     "metadata": {},
     "output_type": "display_data"
    }
   ],
   "source": [
    "pbar = tqdm()"
   ]
  },
  {
   "cell_type": "code",
   "execution_count": 291,
   "id": "06c5fa5e-0cb4-48f1-ac77-9ffdf0fd3a0e",
   "metadata": {
    "tags": []
   },
   "outputs": [
    {
     "name": "stdout",
     "output_type": "stream",
     "text": [
      "found parquet\n",
      "found parquet\n",
      "found parquet\n",
      "found parquet\n",
      "found parquet\n",
      "could not interpolate segments for shape 73\n",
      "could not interpolate segments for shape 1\n",
      "could not interpolate segments for shape 21\n",
      "could not interpolate segments for shape 23\n",
      "could not interpolate segments for shape 36\n"
     ]
    }
   ],
   "source": [
    "kart_analysis = rt.OperatorDayAnalysis(itp_id, analysis_date, pbar)"
   ]
  },
  {
   "cell_type": "code",
   "execution_count": 323,
   "id": "0cd7ef4a-5990-4fb7-b4a1-6d0b497ed8d9",
   "metadata": {},
   "outputs": [
    {
     "data": {
      "text/plain": [
       "192"
      ]
     },
     "execution_count": 323,
     "metadata": {},
     "output_type": "execute_result"
    }
   ],
   "source": [
    "kart_analysis.position_interpolators['555']['rt'].cleaned_positions.size"
   ]
  },
  {
   "cell_type": "code",
   "execution_count": 310,
   "id": "c392d198-9b82-4ec0-92ca-e1c3d68b024d",
   "metadata": {},
   "outputs": [
    {
     "data": {
      "text/html": [
       "<div>\n",
       "<style scoped>\n",
       "    .dataframe tbody tr th:only-of-type {\n",
       "        vertical-align: middle;\n",
       "    }\n",
       "\n",
       "    .dataframe tbody tr th {\n",
       "        vertical-align: top;\n",
       "    }\n",
       "\n",
       "    .dataframe thead th {\n",
       "        text-align: right;\n",
       "    }\n",
       "</style>\n",
       "<table border=\"1\" class=\"dataframe\">\n",
       "  <thead>\n",
       "    <tr style=\"text-align: right;\">\n",
       "      <th></th>\n",
       "      <th>calitp_itp_id</th>\n",
       "      <th>calitp_url_number</th>\n",
       "      <th>service_date</th>\n",
       "      <th>trip_key</th>\n",
       "      <th>trip_id</th>\n",
       "      <th>route_id</th>\n",
       "      <th>direction_id</th>\n",
       "      <th>shape_id</th>\n",
       "      <th>calitp_extracted_at</th>\n",
       "      <th>calitp_deleted_at</th>\n",
       "      <th>route_short_name</th>\n",
       "      <th>route_long_name</th>\n",
       "      <th>route_desc</th>\n",
       "      <th>route_type</th>\n",
       "      <th>median_time</th>\n",
       "      <th>direction</th>\n",
       "      <th>mean_speed_mph</th>\n",
       "      <th>calitp_agency_name</th>\n",
       "    </tr>\n",
       "  </thead>\n",
       "  <tbody>\n",
       "    <tr>\n",
       "      <th>238</th>\n",
       "      <td>148</td>\n",
       "      <td>0</td>\n",
       "      <td>2022-06-01</td>\n",
       "      <td>3683384997798773001</td>\n",
       "      <td>159</td>\n",
       "      <td>4</td>\n",
       "      <td>1</td>\n",
       "      <td>20</td>\n",
       "      <td>2021-07-02</td>\n",
       "      <td>2099-01-01</td>\n",
       "      <td>4</td>\n",
       "      <td>Brown Line</td>\n",
       "      <td>None</td>\n",
       "      <td>3</td>\n",
       "      <td>08:11:07</td>\n",
       "      <td>Southbound</td>\n",
       "      <td>13.475740</td>\n",
       "      <td>Kings Area Rural Transit</td>\n",
       "    </tr>\n",
       "    <tr>\n",
       "      <th>242</th>\n",
       "      <td>148</td>\n",
       "      <td>0</td>\n",
       "      <td>2022-06-01</td>\n",
       "      <td>5152118522550453779</td>\n",
       "      <td>557</td>\n",
       "      <td>4</td>\n",
       "      <td>1</td>\n",
       "      <td>20</td>\n",
       "      <td>2021-07-02</td>\n",
       "      <td>2099-01-01</td>\n",
       "      <td>4</td>\n",
       "      <td>Brown Line</td>\n",
       "      <td>None</td>\n",
       "      <td>3</td>\n",
       "      <td>18:09:02.500000</td>\n",
       "      <td>Eastbound</td>\n",
       "      <td>16.285926</td>\n",
       "      <td>Kings Area Rural Transit</td>\n",
       "    </tr>\n",
       "    <tr>\n",
       "      <th>243</th>\n",
       "      <td>148</td>\n",
       "      <td>0</td>\n",
       "      <td>2022-06-01</td>\n",
       "      <td>6180399639242712105</td>\n",
       "      <td>555</td>\n",
       "      <td>4</td>\n",
       "      <td>1</td>\n",
       "      <td>20</td>\n",
       "      <td>2021-07-02</td>\n",
       "      <td>2099-01-01</td>\n",
       "      <td>4</td>\n",
       "      <td>Brown Line</td>\n",
       "      <td>None</td>\n",
       "      <td>3</td>\n",
       "      <td>17:11:02</td>\n",
       "      <td>Westbound</td>\n",
       "      <td>11.793570</td>\n",
       "      <td>Kings Area Rural Transit</td>\n",
       "    </tr>\n",
       "    <tr>\n",
       "      <th>249</th>\n",
       "      <td>148</td>\n",
       "      <td>0</td>\n",
       "      <td>2022-06-01</td>\n",
       "      <td>9112420294498842451</td>\n",
       "      <td>160</td>\n",
       "      <td>4</td>\n",
       "      <td>1</td>\n",
       "      <td>20</td>\n",
       "      <td>2021-07-02</td>\n",
       "      <td>2099-01-01</td>\n",
       "      <td>4</td>\n",
       "      <td>Brown Line</td>\n",
       "      <td>None</td>\n",
       "      <td>3</td>\n",
       "      <td>08:42:08</td>\n",
       "      <td>Southbound</td>\n",
       "      <td>14.570360</td>\n",
       "      <td>Kings Area Rural Transit</td>\n",
       "    </tr>\n",
       "    <tr>\n",
       "      <th>250</th>\n",
       "      <td>148</td>\n",
       "      <td>0</td>\n",
       "      <td>2022-06-01</td>\n",
       "      <td>-7501798025289336090</td>\n",
       "      <td>554</td>\n",
       "      <td>4</td>\n",
       "      <td>1</td>\n",
       "      <td>20</td>\n",
       "      <td>2021-07-02</td>\n",
       "      <td>2099-01-01</td>\n",
       "      <td>4</td>\n",
       "      <td>Brown Line</td>\n",
       "      <td>None</td>\n",
       "      <td>3</td>\n",
       "      <td>16:40:18</td>\n",
       "      <td>Southbound</td>\n",
       "      <td>16.522262</td>\n",
       "      <td>Kings Area Rural Transit</td>\n",
       "    </tr>\n",
       "    <tr>\n",
       "      <th>251</th>\n",
       "      <td>148</td>\n",
       "      <td>0</td>\n",
       "      <td>2022-06-01</td>\n",
       "      <td>5090114771702269837</td>\n",
       "      <td>181</td>\n",
       "      <td>4</td>\n",
       "      <td>1</td>\n",
       "      <td>20</td>\n",
       "      <td>2021-07-02</td>\n",
       "      <td>2099-01-01</td>\n",
       "      <td>4</td>\n",
       "      <td>Brown Line</td>\n",
       "      <td>None</td>\n",
       "      <td>3</td>\n",
       "      <td>12:10:07</td>\n",
       "      <td>Westbound</td>\n",
       "      <td>16.319903</td>\n",
       "      <td>Kings Area Rural Transit</td>\n",
       "    </tr>\n",
       "    <tr>\n",
       "      <th>253</th>\n",
       "      <td>148</td>\n",
       "      <td>0</td>\n",
       "      <td>2022-06-01</td>\n",
       "      <td>-8953108643007388586</td>\n",
       "      <td>560</td>\n",
       "      <td>4</td>\n",
       "      <td>1</td>\n",
       "      <td>20</td>\n",
       "      <td>2021-07-02</td>\n",
       "      <td>2099-01-01</td>\n",
       "      <td>4</td>\n",
       "      <td>Brown Line</td>\n",
       "      <td>None</td>\n",
       "      <td>3</td>\n",
       "      <td>19:37:47</td>\n",
       "      <td>Southbound</td>\n",
       "      <td>17.289663</td>\n",
       "      <td>Kings Area Rural Transit</td>\n",
       "    </tr>\n",
       "    <tr>\n",
       "      <th>257</th>\n",
       "      <td>148</td>\n",
       "      <td>0</td>\n",
       "      <td>2022-06-01</td>\n",
       "      <td>6534366263451751462</td>\n",
       "      <td>180</td>\n",
       "      <td>4</td>\n",
       "      <td>1</td>\n",
       "      <td>20</td>\n",
       "      <td>2021-07-02</td>\n",
       "      <td>2099-01-01</td>\n",
       "      <td>4</td>\n",
       "      <td>Brown Line</td>\n",
       "      <td>None</td>\n",
       "      <td>3</td>\n",
       "      <td>11:42:08</td>\n",
       "      <td>Southbound</td>\n",
       "      <td>14.141055</td>\n",
       "      <td>Kings Area Rural Transit</td>\n",
       "    </tr>\n",
       "    <tr>\n",
       "      <th>260</th>\n",
       "      <td>148</td>\n",
       "      <td>0</td>\n",
       "      <td>2022-06-01</td>\n",
       "      <td>2606519258021614617</td>\n",
       "      <td>182</td>\n",
       "      <td>4</td>\n",
       "      <td>1</td>\n",
       "      <td>20</td>\n",
       "      <td>2021-07-02</td>\n",
       "      <td>2099-01-01</td>\n",
       "      <td>4</td>\n",
       "      <td>Brown Line</td>\n",
       "      <td>None</td>\n",
       "      <td>3</td>\n",
       "      <td>12:40:07</td>\n",
       "      <td>Westbound</td>\n",
       "      <td>16.260178</td>\n",
       "      <td>Kings Area Rural Transit</td>\n",
       "    </tr>\n",
       "    <tr>\n",
       "      <th>261</th>\n",
       "      <td>148</td>\n",
       "      <td>0</td>\n",
       "      <td>2022-06-01</td>\n",
       "      <td>1098851264720753664</td>\n",
       "      <td>185</td>\n",
       "      <td>4</td>\n",
       "      <td>1</td>\n",
       "      <td>20</td>\n",
       "      <td>2021-07-02</td>\n",
       "      <td>2099-01-01</td>\n",
       "      <td>4</td>\n",
       "      <td>Brown Line</td>\n",
       "      <td>None</td>\n",
       "      <td>3</td>\n",
       "      <td>14:10:33</td>\n",
       "      <td>Westbound</td>\n",
       "      <td>16.232715</td>\n",
       "      <td>Kings Area Rural Transit</td>\n",
       "    </tr>\n",
       "    <tr>\n",
       "      <th>263</th>\n",
       "      <td>148</td>\n",
       "      <td>0</td>\n",
       "      <td>2022-06-01</td>\n",
       "      <td>1740390746574922086</td>\n",
       "      <td>176</td>\n",
       "      <td>4</td>\n",
       "      <td>1</td>\n",
       "      <td>20</td>\n",
       "      <td>2021-07-02</td>\n",
       "      <td>2099-01-01</td>\n",
       "      <td>4</td>\n",
       "      <td>Brown Line</td>\n",
       "      <td>None</td>\n",
       "      <td>3</td>\n",
       "      <td>09:42:22</td>\n",
       "      <td>Westbound</td>\n",
       "      <td>11.962679</td>\n",
       "      <td>Kings Area Rural Transit</td>\n",
       "    </tr>\n",
       "  </tbody>\n",
       "</table>\n",
       "</div>"
      ],
      "text/plain": [
       "     calitp_itp_id  calitp_url_number service_date             trip_key  \\\n",
       "238            148                  0   2022-06-01  3683384997798773001   \n",
       "242            148                  0   2022-06-01  5152118522550453779   \n",
       "243            148                  0   2022-06-01  6180399639242712105   \n",
       "249            148                  0   2022-06-01  9112420294498842451   \n",
       "250            148                  0   2022-06-01 -7501798025289336090   \n",
       "251            148                  0   2022-06-01  5090114771702269837   \n",
       "253            148                  0   2022-06-01 -8953108643007388586   \n",
       "257            148                  0   2022-06-01  6534366263451751462   \n",
       "260            148                  0   2022-06-01  2606519258021614617   \n",
       "261            148                  0   2022-06-01  1098851264720753664   \n",
       "263            148                  0   2022-06-01  1740390746574922086   \n",
       "\n",
       "    trip_id route_id direction_id shape_id calitp_extracted_at  \\\n",
       "238     159        4            1       20          2021-07-02   \n",
       "242     557        4            1       20          2021-07-02   \n",
       "243     555        4            1       20          2021-07-02   \n",
       "249     160        4            1       20          2021-07-02   \n",
       "250     554        4            1       20          2021-07-02   \n",
       "251     181        4            1       20          2021-07-02   \n",
       "253     560        4            1       20          2021-07-02   \n",
       "257     180        4            1       20          2021-07-02   \n",
       "260     182        4            1       20          2021-07-02   \n",
       "261     185        4            1       20          2021-07-02   \n",
       "263     176        4            1       20          2021-07-02   \n",
       "\n",
       "    calitp_deleted_at route_short_name route_long_name route_desc route_type  \\\n",
       "238        2099-01-01                4      Brown Line       None          3   \n",
       "242        2099-01-01                4      Brown Line       None          3   \n",
       "243        2099-01-01                4      Brown Line       None          3   \n",
       "249        2099-01-01                4      Brown Line       None          3   \n",
       "250        2099-01-01                4      Brown Line       None          3   \n",
       "251        2099-01-01                4      Brown Line       None          3   \n",
       "253        2099-01-01                4      Brown Line       None          3   \n",
       "257        2099-01-01                4      Brown Line       None          3   \n",
       "260        2099-01-01                4      Brown Line       None          3   \n",
       "261        2099-01-01                4      Brown Line       None          3   \n",
       "263        2099-01-01                4      Brown Line       None          3   \n",
       "\n",
       "         median_time   direction  mean_speed_mph        calitp_agency_name  \n",
       "238         08:11:07  Southbound       13.475740  Kings Area Rural Transit  \n",
       "242  18:09:02.500000   Eastbound       16.285926  Kings Area Rural Transit  \n",
       "243         17:11:02   Westbound       11.793570  Kings Area Rural Transit  \n",
       "249         08:42:08  Southbound       14.570360  Kings Area Rural Transit  \n",
       "250         16:40:18  Southbound       16.522262  Kings Area Rural Transit  \n",
       "251         12:10:07   Westbound       16.319903  Kings Area Rural Transit  \n",
       "253         19:37:47  Southbound       17.289663  Kings Area Rural Transit  \n",
       "257         11:42:08  Southbound       14.141055  Kings Area Rural Transit  \n",
       "260         12:40:07   Westbound       16.260178  Kings Area Rural Transit  \n",
       "261         14:10:33   Westbound       16.232715  Kings Area Rural Transit  \n",
       "263         09:42:22   Westbound       11.962679  Kings Area Rural Transit  "
      ]
     },
     "execution_count": 310,
     "metadata": {},
     "output_type": "execute_result"
    }
   ],
   "source": [
    "kart_analysis.rt_trips >> filter(_.route_id == '4')"
   ]
  },
  {
   "cell_type": "code",
   "execution_count": 292,
   "id": "6dc3a22d-8925-4210-9508-3fe39ba325dc",
   "metadata": {},
   "outputs": [],
   "source": [
    "positions = kart_analysis.position_interpolators['947']['rt'].position_gdf"
   ]
  },
  {
   "cell_type": "code",
   "execution_count": 293,
   "id": "d9995804-fa25-4bd9-841c-39e89c703334",
   "metadata": {},
   "outputs": [],
   "source": [
    "positions = (positions >> mutate(veh_time = _.vehicle_timestamp.apply(lambda x: x.strftime('%H:%M:%S')))\n",
    "             >> select(_.shape_meters, _.veh_time, _.geometry)\n",
    "            )"
   ]
  },
  {
   "cell_type": "code",
   "execution_count": 294,
   "id": "9260ef8f-ead8-4f2f-995c-a1477da47268",
   "metadata": {},
   "outputs": [],
   "source": [
    "cleaned_positions = (kart_analysis.position_interpolators['947']['rt'].cleaned_positions >> mutate(veh_time = _.vehicle_timestamp.apply(lambda x: x.strftime('%H:%M:%S')))\n",
    "                    >> select(_.shape_meters, _.veh_time, _.geometry)\n",
    "                    )"
   ]
  },
  {
   "cell_type": "code",
   "execution_count": 295,
   "id": "b4a13c28-f7ac-47d4-8620-35108de2910d",
   "metadata": {},
   "outputs": [
    {
     "data": {
      "text/plain": [
       "'POINT (16924.60674809301 -191169.82134810043)'"
      ]
     },
     "execution_count": 295,
     "metadata": {},
     "output_type": "execute_result"
    }
   ],
   "source": [
    "((cleaned_positions >> filter(_.shape_meters > 133546) >> filter(_.shape_meters == _.shape_meters.min())).geometry.iloc[0]).wkt"
   ]
  },
  {
   "cell_type": "code",
   "execution_count": 296,
   "id": "9fb44a34-afad-45e9-be8e-fd1e36a4eb33",
   "metadata": {},
   "outputs": [
    {
     "data": {
      "image/svg+xml": [
       "<svg xmlns=\"http://www.w3.org/2000/svg\" xmlns:xlink=\"http://www.w3.org/1999/xlink\" width=\"100.0\" height=\"100.0\" viewBox=\"16923.60674809301 -191170.82134810043 2.0 2.0\" preserveAspectRatio=\"xMinYMin meet\"><g transform=\"matrix(1,0,0,-1,0,-382339.64269620087)\"><circle cx=\"16924.60674809301\" cy=\"-191169.82134810043\" r=\"0.06\" stroke=\"#555555\" stroke-width=\"0.02\" fill=\"#66cc99\" opacity=\"0.6\" /></g></svg>"
      ],
      "text/plain": [
       "<shapely.geometry.point.Point at 0x7f0f64287280>"
      ]
     },
     "execution_count": 296,
     "metadata": {},
     "output_type": "execute_result"
    }
   ],
   "source": [
    "Point(16924.60674809301, -191169.82134810043)"
   ]
  },
  {
   "cell_type": "code",
   "execution_count": 297,
   "id": "4a8ca03e-a1cb-43b4-8054-19312b8f282c",
   "metadata": {
    "tags": []
   },
   "outputs": [],
   "source": [
    "# pd.concat([cleaned_positions,\n",
    "#            (kart_analysis.routelines >> filter(_.shape_id == '3') >> select(_.geometry))]\n",
    "#          ).explore(tiles = \"CartoDB positron\")"
   ]
  },
  {
   "cell_type": "code",
   "execution_count": 298,
   "id": "94098f16-c494-4236-9e1e-d825a39593a5",
   "metadata": {},
   "outputs": [],
   "source": [
    "# kart_analysis.position_interpolators['947']['rt'].detailed_speed_map()"
   ]
  },
  {
   "cell_type": "markdown",
   "id": "ac340f2d-fa39-44fa-9441-2213a607139a",
   "metadata": {},
   "source": [
    "# Mapping Short Segments"
   ]
  },
  {
   "cell_type": "code",
   "execution_count": 299,
   "id": "51f1bf61-deee-47a5-a1b9-39ab254e6716",
   "metadata": {},
   "outputs": [],
   "source": [
    "kart_analysis.export_views_gcs()"
   ]
  },
  {
   "cell_type": "code",
   "execution_count": 300,
   "id": "7c3c1571-1f34-4012-b57e-1255246cf48a",
   "metadata": {},
   "outputs": [],
   "source": [
    "import rt_filter_map_plot"
   ]
  },
  {
   "cell_type": "code",
   "execution_count": 301,
   "id": "80b691e5-755b-4705-8303-adfc08212dad",
   "metadata": {},
   "outputs": [
    {
     "data": {
      "text/plain": [
       "<module 'rt_filter_map_plot' from '/home/jovyan/data-analyses/rt_delay/rt_filter_map_plot.py'>"
      ]
     },
     "execution_count": 301,
     "metadata": {},
     "output_type": "execute_result"
    }
   ],
   "source": [
    "importlib.reload(rt_filter_map_plot)"
   ]
  },
  {
   "cell_type": "code",
   "execution_count": 302,
   "id": "3ffa1245-d4ae-4c2a-993b-7d4e1bd3ec40",
   "metadata": {},
   "outputs": [
    {
     "data": {
      "text/plain": [
       "datetime.date(2022, 6, 1)"
      ]
     },
     "execution_count": 302,
     "metadata": {},
     "output_type": "execute_result"
    }
   ],
   "source": [
    "analysis_date"
   ]
  },
  {
   "cell_type": "code",
   "execution_count": 303,
   "id": "41a246e4-6abd-48cf-bc97-1300eced9cb4",
   "metadata": {},
   "outputs": [
    {
     "name": "stdout",
     "output_type": "stream",
     "text": [
      "found parquet\n"
     ]
    }
   ],
   "source": [
    "rt_day = rt_filter_map_plot.from_gcs(itp_id, analysis_date)"
   ]
  },
  {
   "cell_type": "code",
   "execution_count": 307,
   "id": "94dbbfd6-bd04-4a8f-a9af-fd68c3af6c3c",
   "metadata": {},
   "outputs": [],
   "source": [
    "rt_day.set_filter(start_time = '06:00', end_time = '09:00')\n",
    "# rt_day.set_filter(trip_ids=['947'])"
   ]
  },
  {
   "cell_type": "code",
   "execution_count": 308,
   "id": "91eb01f4-cf66-4ea7-94ad-bd7c59f8eec1",
   "metadata": {},
   "outputs": [
    {
     "name": "stderr",
     "output_type": "stream",
     "text": [
      "/opt/conda/lib/python3.10/site-packages/numpy/lib/function_base.py:4486: RuntimeWarning: invalid value encountered in subtract\n",
      "/opt/conda/lib/python3.10/site-packages/numpy/lib/function_base.py:4486: RuntimeWarning: invalid value encountered in subtract\n",
      "/opt/conda/lib/python3.10/site-packages/numpy/lib/function_base.py:4486: RuntimeWarning: invalid value encountered in subtract\n",
      "/opt/conda/lib/python3.10/site-packages/numpy/lib/function_base.py:4486: RuntimeWarning: invalid value encountered in subtract\n",
      "/opt/conda/lib/python3.10/site-packages/numpy/lib/function_base.py:4486: RuntimeWarning: invalid value encountered in subtract\n",
      "/opt/conda/lib/python3.10/site-packages/numpy/lib/function_base.py:4486: RuntimeWarning: invalid value encountered in subtract\n",
      "/opt/conda/lib/python3.10/site-packages/shapely/ops.py:639: ShapelyDeprecationWarning: GeometryTypeError will derive from ShapelyError and not TypeError or ValueError in Shapely 2.0.\n",
      "/home/jovyan/data-analyses/rt_delay/rt_filter_map_plot.py:343: UserWarning: Geometry is in a geographic CRS. Results from 'centroid' are likely incorrect. Use 'GeoSeries.to_crs()' to re-project geometries to a projected CRS before this operation.\n",
      "\n",
      "/home/jovyan/data-analyses/rt_delay/rt_filter_map_plot.py:343: UserWarning: Geometry is in a geographic CRS. Results from 'centroid' are likely incorrect. Use 'GeoSeries.to_crs()' to re-project geometries to a projected CRS before this operation.\n",
      "\n"
     ]
    }
   ],
   "source": [
    "m = rt_day.segment_speed_map()"
   ]
  },
  {
   "cell_type": "code",
   "execution_count": 324,
   "id": "b5caf04f-76e0-4e89-aba6-6b6a28e255e6",
   "metadata": {
    "tags": []
   },
   "outputs": [],
   "source": [
    "# m"
   ]
  },
  {
   "cell_type": "markdown",
   "id": "f538cc69-46a7-4182-a8e6-61f24dfb1449",
   "metadata": {},
   "source": [
    "## Another Operator"
   ]
  },
  {
   "cell_type": "code",
   "execution_count": 313,
   "id": "e0e792b7-151c-4d9a-9a93-f40119ab2fa9",
   "metadata": {},
   "outputs": [],
   "source": [
    "itp_id = 300"
   ]
  },
  {
   "cell_type": "code",
   "execution_count": 314,
   "id": "85d7ff02-cc4e-493b-8732-7165c9c9e7a3",
   "metadata": {},
   "outputs": [
    {
     "data": {
      "application/vnd.jupyter.widget-view+json": {
       "model_id": "9af2d38e9d0047acab3e790619538042",
       "version_major": 2,
       "version_minor": 0
      },
      "text/plain": [
       "0it [00:00, ?it/s]"
      ]
     },
     "metadata": {},
     "output_type": "display_data"
    }
   ],
   "source": [
    "pbar = tqdm()"
   ]
  },
  {
   "cell_type": "code",
   "execution_count": 315,
   "id": "6d41cc0b-cc22-4ddb-83cb-f1ebd9b2109d",
   "metadata": {},
   "outputs": [
    {
     "data": {
      "text/plain": [
       "<module 'rt_analysis' from '/home/jovyan/data-analyses/rt_delay/rt_analysis.py'>"
      ]
     },
     "execution_count": 315,
     "metadata": {},
     "output_type": "execute_result"
    }
   ],
   "source": [
    "importlib.reload(rt)"
   ]
  },
  {
   "cell_type": "code",
   "execution_count": 316,
   "id": "9b5f0bc1-c688-452b-9a10-27128d65c431",
   "metadata": {
    "tags": []
   },
   "outputs": [
    {
     "name": "stdout",
     "output_type": "stream",
     "text": [
      "found parquet\n",
      "found parquet\n",
      "found parquet\n",
      "found parquet\n",
      "found parquet\n",
      "could not interpolate segments for shape 25929\n",
      "could not interpolate segments for shape 25950\n"
     ]
    }
   ],
   "source": [
    "rt_analysis = rt.OperatorDayAnalysis(itp_id, analysis_date, pbar)"
   ]
  },
  {
   "cell_type": "code",
   "execution_count": 317,
   "id": "8cdd7828-3438-4a0f-a61e-f933759ea1da",
   "metadata": {},
   "outputs": [],
   "source": [
    "rt_analysis.export_views_gcs()"
   ]
  },
  {
   "cell_type": "code",
   "execution_count": 318,
   "id": "ad0cf818-4552-4f40-bd51-ad8490b5a192",
   "metadata": {},
   "outputs": [
    {
     "name": "stdout",
     "output_type": "stream",
     "text": [
      "found parquet\n"
     ]
    }
   ],
   "source": [
    "rt_day = rt_filter_map_plot.from_gcs(itp_id, analysis_date)"
   ]
  },
  {
   "cell_type": "code",
   "execution_count": 319,
   "id": "75bafc6c-4d57-4564-a87b-c542414e1edf",
   "metadata": {},
   "outputs": [],
   "source": [
    "rt_day.set_filter(start_time='06:00', end_time='09:00')"
   ]
  },
  {
   "cell_type": "code",
   "execution_count": 320,
   "id": "7f8f9c8b-755c-41e0-bab1-13db07a4836d",
   "metadata": {},
   "outputs": [
    {
     "name": "stderr",
     "output_type": "stream",
     "text": [
      "/opt/conda/lib/python3.10/site-packages/shapely/ops.py:639: ShapelyDeprecationWarning: GeometryTypeError will derive from ShapelyError and not TypeError or ValueError in Shapely 2.0.\n",
      "/home/jovyan/data-analyses/rt_delay/rt_filter_map_plot.py:343: UserWarning: Geometry is in a geographic CRS. Results from 'centroid' are likely incorrect. Use 'GeoSeries.to_crs()' to re-project geometries to a projected CRS before this operation.\n",
      "\n",
      "/home/jovyan/data-analyses/rt_delay/rt_filter_map_plot.py:343: UserWarning: Geometry is in a geographic CRS. Results from 'centroid' are likely incorrect. Use 'GeoSeries.to_crs()' to re-project geometries to a projected CRS before this operation.\n",
      "\n"
     ]
    }
   ],
   "source": [
    "m = rt_day.segment_speed_map(how='low_speeds')"
   ]
  },
  {
   "cell_type": "code",
   "execution_count": 325,
   "id": "99ef68a9-04d6-4985-946c-e7395c725472",
   "metadata": {},
   "outputs": [],
   "source": [
    "# m"
   ]
  }
 ],
 "metadata": {
  "kernelspec": {
   "display_name": "Python 3 (ipykernel)",
   "language": "python",
   "name": "python3"
  },
  "language_info": {
   "codemirror_mode": {
    "name": "ipython",
    "version": 3
   },
   "file_extension": ".py",
   "mimetype": "text/x-python",
   "name": "python",
   "nbconvert_exporter": "python",
   "pygments_lexer": "ipython3",
   "version": "3.10.5"
  }
 },
 "nbformat": 4,
 "nbformat_minor": 5
}
