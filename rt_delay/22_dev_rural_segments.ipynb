{
 "cells": [
  {
   "cell_type": "code",
   "execution_count": 154,
   "id": "dd3c8428-a8d7-4db0-ba36-51f469deecff",
   "metadata": {},
   "outputs": [],
   "source": [
    "import os\n",
    "os.environ[\"CALITP_BQ_MAX_BYTES\"] = str(800_000_000_000) ## 800GB?\n",
    "\n",
    "from calitp.tables import tbl\n",
    "from calitp import query_sql\n",
    "import calitp.magics\n",
    "import branca\n",
    "\n",
    "import shared_utils\n",
    "\n",
    "from siuba import *\n",
    "import pandas as pd\n",
    "import geopandas as gpd\n",
    "import shapely\n",
    "\n",
    "import datetime as dt\n",
    "import time\n",
    "from zoneinfo import ZoneInfo\n",
    "\n",
    "import rt_analysis as rt\n",
    "import importlib\n",
    "\n",
    "import gcsfs\n",
    "fs = gcsfs.GCSFileSystem()\n",
    "\n",
    "from tqdm import tqdm_notebook\n",
    "from tqdm.notebook import trange, tqdm"
   ]
  },
  {
   "cell_type": "code",
   "execution_count": 228,
   "id": "b4e318e8-8da2-4a5d-8ffd-83f605c3318f",
   "metadata": {},
   "outputs": [
    {
     "data": {
      "text/plain": [
       "<module 'rt_analysis' from '/home/jovyan/data-analyses/rt_delay/rt_analysis.py'>"
      ]
     },
     "execution_count": 228,
     "metadata": {},
     "output_type": "execute_result"
    }
   ],
   "source": [
    "importlib.reload(rt)"
   ]
  },
  {
   "cell_type": "markdown",
   "id": "e3e98112-bc9f-4f8a-aae8-2007dde20da8",
   "metadata": {},
   "source": [
    "# Scratch notebook for handling long stop to stop segments\n",
    "\n",
    "* goal is to provide additional map detail for rural/express routes"
   ]
  },
  {
   "cell_type": "code",
   "execution_count": 3,
   "id": "a5ca1534-39e4-4c2e-b582-dcb585de7596",
   "metadata": {},
   "outputs": [],
   "source": [
    "## KART speedmap as displayed on site\n",
    "itp_id = 148\n",
    "analysis_date = dt.date(2022, 6, 1)"
   ]
  },
  {
   "cell_type": "code",
   "execution_count": 4,
   "id": "74f7c3b5-7c04-4554-a129-77ea4b5cc467",
   "metadata": {},
   "outputs": [
    {
     "data": {
      "application/vnd.jupyter.widget-view+json": {
       "model_id": "78a6ab99138445ebb5e466f21e4b2ab5",
       "version_major": 2,
       "version_minor": 0
      },
      "text/plain": [
       "0it [00:00, ?it/s]"
      ]
     },
     "metadata": {},
     "output_type": "display_data"
    }
   ],
   "source": [
    "pbar = tqdm()"
   ]
  },
  {
   "cell_type": "code",
   "execution_count": 5,
   "id": "06c5fa5e-0cb4-48f1-ac77-9ffdf0fd3a0e",
   "metadata": {
    "collapsed": true,
    "jupyter": {
     "outputs_hidden": true
    },
    "tags": []
   },
   "outputs": [
    {
     "name": "stdout",
     "output_type": "stream",
     "text": [
      "found parquet\n",
      "found parquet\n",
      "found parquet\n",
      "found parquet\n",
      "found parquet\n",
      "less than 1km of data\n",
      "vehicle positions gdf must not be empty\n",
      "less than 1km of data\n",
      "less than 1km of data\n",
      "less than 1km of data\n",
      "less than 1km of data\n",
      "less than 1km of data\n",
      "less than 60 seconds of data\n",
      "less than 1km of data\n",
      "less than 1km of data\n",
      "less than 1km of data\n",
      "less than 60 seconds of data\n",
      "less than 60 seconds of data\n",
      "less than 60 seconds of data\n",
      "less than 1km of data\n",
      "less than 1km of data\n",
      "less than 1km of data\n",
      "less than 1km of data\n",
      "less than 60 seconds of data\n",
      "less than 1km of data\n",
      "less than 1km of data\n",
      "less than 60 seconds of data\n",
      "less than 1km of data\n",
      "less than 1km of data\n",
      "less than 1km of data\n",
      "less than 1km of data\n",
      "less than 1km of data\n",
      "less than 1km of data\n",
      "less than 60 seconds of data\n",
      "less than 1km of data\n",
      "less than 60 seconds of data\n",
      "less than 1km of data\n",
      "less than 1km of data\n",
      "less than 60 seconds of data\n",
      "less than 60 seconds of data\n",
      "less than 1km of data\n",
      "less than 1km of data\n",
      "less than 1km of data\n",
      "less than 1km of data\n",
      "less than 1km of data\n",
      "less than 1km of data\n",
      "less than 1km of data\n",
      "less than 1km of data\n",
      "less than 1km of data\n",
      "less than 60 seconds of data\n",
      "less than 1km of data\n",
      "less than 1km of data\n",
      "less than 60 seconds of data\n",
      "less than 1km of data\n",
      "less than 1km of data\n",
      "less than 1km of data\n",
      "less than 1km of data\n",
      "less than 1km of data\n",
      "less than 1km of data\n",
      "less than 1km of data\n",
      "less than 1km of data\n",
      "less than 1km of data\n",
      "less than 1km of data\n",
      "less than 1km of data\n",
      "less than 1km of data\n",
      "less than 1km of data\n",
      "less than 1km of data\n",
      "less than 1km of data\n",
      "less than 1km of data\n",
      "less than 1km of data\n",
      "less than 1km of data\n",
      "less than 1km of data\n",
      "less than 1km of data\n",
      "less than 1km of data\n",
      "less than 1km of data\n",
      "less than 60 seconds of data\n",
      "less than 1km of data\n",
      "less than 1km of data\n",
      "less than 60 seconds of data\n",
      "less than 60 seconds of data\n",
      "less than 1km of data\n",
      "less than 1km of data\n",
      "less than 1km of data\n",
      "less than 1km of data\n",
      "less than 1km of data\n",
      "less than 1km of data\n",
      "less than 1km of data\n",
      "less than 1km of data\n",
      "less than 60 seconds of data\n",
      "less than 1km of data\n",
      "less than 1km of data\n",
      "less than 1km of data\n",
      "less than 1km of data\n",
      "less than 60 seconds of data\n",
      "less than 1km of data\n",
      "less than 1km of data\n",
      "less than 1km of data\n",
      "less than 1km of data\n",
      "less than 1km of data\n",
      "less than 1km of data\n",
      "less than 1km of data\n",
      "less than 1km of data\n",
      "less than 1km of data\n",
      "less than 1km of data\n",
      "less than 1km of data\n",
      "less than 1km of data\n",
      "less than 1km of data\n",
      "less than 1km of data\n",
      "less than 1km of data\n",
      "less than 1km of data\n",
      "less than 1km of data\n",
      "less than 1km of data\n",
      "less than 1km of data\n",
      "less than 1km of data\n",
      "less than 1km of data\n",
      "less than 1km of data\n",
      "less than 1km of data\n",
      "less than 1km of data\n",
      "less than 1km of data\n",
      "less than 1km of data\n",
      "less than 1km of data\n",
      "less than 1km of data\n",
      "less than 1km of data\n",
      "less than 1km of data\n",
      "less than 1km of data\n",
      "less than 1km of data\n",
      "less than 1km of data\n",
      "less than 1km of data\n",
      "less than 1km of data\n",
      "less than 1km of data\n",
      "less than 1km of data\n",
      "less than 1km of data\n",
      "less than 1km of data\n",
      "less than 1km of data\n",
      "less than 1km of data\n",
      "less than 1km of data\n",
      "less than 1km of data\n",
      "less than 1km of data\n",
      "less than 1km of data\n",
      "less than 1km of data\n",
      "less than 1km of data\n",
      "less than 1km of data\n",
      "less than 1km of data\n",
      "less than 1km of data\n",
      "less than 1km of data\n",
      "less than 1km of data\n",
      "less than 1km of data\n",
      "less than 1km of data\n",
      "less than 1km of data\n",
      "less than 1km of data\n",
      "less than 1km of data\n",
      "less than 1km of data\n",
      "less than 1km of data\n",
      "less than 1km of data\n",
      "less than 1km of data\n",
      "less than 1km of data\n",
      "less than 1km of data\n",
      "less than 1km of data\n",
      "less than 1km of data\n",
      "less than 1km of data\n",
      "less than 1km of data\n",
      "less than 1km of data\n",
      "less than 60 seconds of data\n",
      "less than 1km of data\n",
      "less than 1km of data\n",
      "less than 1km of data\n",
      "less than 1km of data\n",
      "less than 1km of data\n",
      "less than 1km of data\n",
      "less than 1km of data\n",
      "less than 1km of data\n",
      "less than 1km of data\n",
      "less than 1km of data\n",
      "less than 1km of data\n",
      "less than 1km of data\n",
      "less than 1km of data\n",
      "less than 1km of data\n",
      "less than 1km of data\n",
      "less than 1km of data\n",
      "less than 1km of data\n",
      "less than 1km of data\n",
      "less than 1km of data\n",
      "less than 1km of data\n",
      "less than 1km of data\n",
      "less than 1km of data\n",
      "less than 1km of data\n",
      "less than 1km of data\n",
      "less than 1km of data\n",
      "less than 1km of data\n",
      "less than 1km of data\n",
      "less than 1km of data\n",
      "less than 1km of data\n",
      "less than 1km of data\n",
      "less than 1km of data\n",
      "less than 60 seconds of data\n",
      "less than 1km of data\n",
      "less than 1km of data\n",
      "less than 1km of data\n",
      "less than 1km of data\n",
      "less than 1km of data\n",
      "less than 1km of data\n",
      "less than 1km of data\n",
      "less than 60 seconds of data\n",
      "less than 1km of data\n",
      "less than 1km of data\n",
      "less than 1km of data\n",
      "less than 1km of data\n",
      "less than 1km of data\n",
      "less than 1km of data\n",
      "less than 1km of data\n",
      "less than 1km of data\n",
      "less than 1km of data\n",
      "less than 1km of data\n",
      "less than 1km of data\n",
      "less than 60 seconds of data\n",
      "less than 1km of data\n"
     ]
    }
   ],
   "source": [
    "kart_analysis = rt.OperatorDayAnalysis(itp_id, analysis_date, pbar)"
   ]
  },
  {
   "cell_type": "code",
   "execution_count": 9,
   "id": "f2d9e215-6fd7-438d-a4ec-f9c8159f03b4",
   "metadata": {},
   "outputs": [],
   "source": [
    "rt.OperatorDayAnalysis._generate_stop_delay_view(kart_analysis)"
   ]
  },
  {
   "cell_type": "code",
   "execution_count": 10,
   "id": "e0f7b564-fbb4-4ef2-9c85-7923736c7bcf",
   "metadata": {},
   "outputs": [
    {
     "data": {
      "text/html": [
       "<div>\n",
       "<style scoped>\n",
       "    .dataframe tbody tr th:only-of-type {\n",
       "        vertical-align: middle;\n",
       "    }\n",
       "\n",
       "    .dataframe tbody tr th {\n",
       "        vertical-align: top;\n",
       "    }\n",
       "\n",
       "    .dataframe thead th {\n",
       "        text-align: right;\n",
       "    }\n",
       "</style>\n",
       "<table border=\"1\" class=\"dataframe\">\n",
       "  <thead>\n",
       "    <tr style=\"text-align: right;\">\n",
       "      <th></th>\n",
       "      <th>calitp_itp_id</th>\n",
       "      <th>calitp_url_number</th>\n",
       "      <th>service_date</th>\n",
       "      <th>trip_key</th>\n",
       "      <th>trip_id</th>\n",
       "      <th>route_id</th>\n",
       "      <th>direction_id</th>\n",
       "      <th>shape_id</th>\n",
       "      <th>calitp_extracted_at</th>\n",
       "      <th>calitp_deleted_at</th>\n",
       "      <th>route_short_name</th>\n",
       "      <th>route_long_name</th>\n",
       "      <th>route_desc</th>\n",
       "      <th>route_type</th>\n",
       "      <th>median_time</th>\n",
       "      <th>direction</th>\n",
       "      <th>mean_speed_mph</th>\n",
       "      <th>calitp_agency_name</th>\n",
       "    </tr>\n",
       "  </thead>\n",
       "  <tbody>\n",
       "    <tr>\n",
       "      <th>266</th>\n",
       "      <td>148</td>\n",
       "      <td>0</td>\n",
       "      <td>2022-06-01</td>\n",
       "      <td>2644978890892601525</td>\n",
       "      <td>949</td>\n",
       "      <td>12</td>\n",
       "      <td>0</td>\n",
       "      <td>11</td>\n",
       "      <td>2021-07-02</td>\n",
       "      <td>2099-01-01</td>\n",
       "      <td>12</td>\n",
       "      <td>Avenal</td>\n",
       "      <td>None</td>\n",
       "      <td>3</td>\n",
       "      <td>12:27:19</td>\n",
       "      <td>Westbound</td>\n",
       "      <td>31.666138</td>\n",
       "      <td>Kings Area Rural Transit</td>\n",
       "    </tr>\n",
       "    <tr>\n",
       "      <th>267</th>\n",
       "      <td>148</td>\n",
       "      <td>0</td>\n",
       "      <td>2022-06-01</td>\n",
       "      <td>3494167986599370378</td>\n",
       "      <td>947</td>\n",
       "      <td>12</td>\n",
       "      <td>0</td>\n",
       "      <td>3</td>\n",
       "      <td>2021-07-02</td>\n",
       "      <td>2099-01-01</td>\n",
       "      <td>12</td>\n",
       "      <td>Avenal</td>\n",
       "      <td>None</td>\n",
       "      <td>3</td>\n",
       "      <td>07:26:32</td>\n",
       "      <td>Southbound</td>\n",
       "      <td>38.489930</td>\n",
       "      <td>Kings Area Rural Transit</td>\n",
       "    </tr>\n",
       "    <tr>\n",
       "      <th>268</th>\n",
       "      <td>148</td>\n",
       "      <td>0</td>\n",
       "      <td>2022-06-01</td>\n",
       "      <td>-4140891564404050759</td>\n",
       "      <td>950</td>\n",
       "      <td>12</td>\n",
       "      <td>0</td>\n",
       "      <td>27</td>\n",
       "      <td>2021-07-02</td>\n",
       "      <td>2099-01-01</td>\n",
       "      <td>12</td>\n",
       "      <td>Avenal</td>\n",
       "      <td>None</td>\n",
       "      <td>3</td>\n",
       "      <td>17:44:36.500000</td>\n",
       "      <td>Westbound</td>\n",
       "      <td>40.296843</td>\n",
       "      <td>Kings Area Rural Transit</td>\n",
       "    </tr>\n",
       "  </tbody>\n",
       "</table>\n",
       "</div>"
      ],
      "text/plain": [
       "     calitp_itp_id  calitp_url_number service_date             trip_key  \\\n",
       "266            148                  0   2022-06-01  2644978890892601525   \n",
       "267            148                  0   2022-06-01  3494167986599370378   \n",
       "268            148                  0   2022-06-01 -4140891564404050759   \n",
       "\n",
       "    trip_id route_id direction_id shape_id calitp_extracted_at  \\\n",
       "266     949       12            0       11          2021-07-02   \n",
       "267     947       12            0        3          2021-07-02   \n",
       "268     950       12            0       27          2021-07-02   \n",
       "\n",
       "    calitp_deleted_at route_short_name route_long_name route_desc route_type  \\\n",
       "266        2099-01-01               12          Avenal       None          3   \n",
       "267        2099-01-01               12          Avenal       None          3   \n",
       "268        2099-01-01               12          Avenal       None          3   \n",
       "\n",
       "         median_time   direction  mean_speed_mph        calitp_agency_name  \n",
       "266         12:27:19   Westbound       31.666138  Kings Area Rural Transit  \n",
       "267         07:26:32  Southbound       38.489930  Kings Area Rural Transit  \n",
       "268  17:44:36.500000   Westbound       40.296843  Kings Area Rural Transit  "
      ]
     },
     "execution_count": 10,
     "metadata": {},
     "output_type": "execute_result"
    }
   ],
   "source": [
    "kart_analysis.rt_trips >> filter(_.route_short_name=='12')\n"
   ]
  },
  {
   "cell_type": "code",
   "execution_count": 11,
   "id": "ba240357-6ffe-4c27-9d24-d463b38d0da9",
   "metadata": {},
   "outputs": [],
   "source": [
    "# kart_analysis.debug_dict['950_stopsegs'] >> arrange(_.stop_sequence)"
   ]
  },
  {
   "cell_type": "code",
   "execution_count": 12,
   "id": "856eb08b-8dfb-4ff1-a9a7-671cb6da69f4",
   "metadata": {},
   "outputs": [],
   "source": [
    "# gdf = kart_analysis.routelines >> filter(_.shape_id == '3')\n",
    "# shared_utils.rt_utils.map_line(gdf)"
   ]
  },
  {
   "cell_type": "code",
   "execution_count": 13,
   "id": "903cfed7-ca9f-4915-b856-28e240975900",
   "metadata": {
    "tags": []
   },
   "outputs": [],
   "source": [
    "#kart_analysis.rt_trips >> filter(_.route_short_name == '2')"
   ]
  },
  {
   "cell_type": "code",
   "execution_count": 14,
   "id": "a3bc25a9-b9dd-4872-81b8-fc9d63f3fe9c",
   "metadata": {},
   "outputs": [],
   "source": [
    "# kart_analysis.stop_delay_view = kart_analysis.stop_delay_view >> mutate(last_loc = _.shape_meters.shift(1))"
   ]
  },
  {
   "cell_type": "code",
   "execution_count": 15,
   "id": "3f1efa62-2541-4f33-ac4e-d249f4b90368",
   "metadata": {},
   "outputs": [],
   "source": [
    "# long_trip = kart_analysis.stop_delay_view >> filter(_.trip_id == '947') >> arrange(_.stop_sequence)"
   ]
  },
  {
   "cell_type": "code",
   "execution_count": 16,
   "id": "f57ea046-8a95-4b98-a1ac-640f2444b3d3",
   "metadata": {},
   "outputs": [],
   "source": [
    "# test_center = (long_trip >> arrange(_.shape_meters)).iloc[10:49, :]"
   ]
  },
  {
   "cell_type": "code",
   "execution_count": 17,
   "id": "61891a57-135b-4a58-bf06-d95ee872c2b9",
   "metadata": {},
   "outputs": [],
   "source": [
    "really_fast_bus = kart_analysis.position_interpolators['104']['rt']"
   ]
  },
  {
   "cell_type": "code",
   "execution_count": 18,
   "id": "30c5cb11-6214-4bc3-8577-837f1fad7115",
   "metadata": {
    "tags": []
   },
   "outputs": [],
   "source": [
    "# dir(really_fast_bus)"
   ]
  },
  {
   "cell_type": "markdown",
   "id": "4b442d6f-823f-475a-85c1-c9160df52ece",
   "metadata": {},
   "source": [
    "# Mapping a shape"
   ]
  },
  {
   "cell_type": "code",
   "execution_count": 60,
   "id": "c4d05664-81e7-4dce-9963-b7cdabff382f",
   "metadata": {},
   "outputs": [],
   "source": [
    "df = (\n",
    "    tbl.views.gtfs_schedule_dim_shapes()\n",
    "    >> filter(\n",
    "        _.calitp_extracted_at <= analysis_date,\n",
    "        _.calitp_deleted_at > analysis_date,\n",
    "    )\n",
    "    >> filter(_.calitp_itp_id == 148, _.shape_id == '49')\n",
    "    # >> select(_.calitp_itp_id, _.calitp_url_number, _.shape_id)\n",
    "    >> collect()\n",
    ")"
   ]
  },
  {
   "cell_type": "code",
   "execution_count": 63,
   "id": "be930bfb-7165-4cec-a972-ae13ac5901f0",
   "metadata": {},
   "outputs": [],
   "source": [
    "df = df >> arrange(_.shape_pt_sequence)"
   ]
  },
  {
   "cell_type": "code",
   "execution_count": 157,
   "id": "f9364070-5370-4cee-9920-6ea2bdb79508",
   "metadata": {},
   "outputs": [],
   "source": [
    "import geopandas as gpd\n",
    "import folium"
   ]
  },
  {
   "cell_type": "code",
   "execution_count": 65,
   "id": "c75b1928-1b9d-4ea4-93eb-fc4c3bfe7b94",
   "metadata": {},
   "outputs": [
    {
     "data": {
      "text/html": [
       "<div>\n",
       "<style scoped>\n",
       "    .dataframe tbody tr th:only-of-type {\n",
       "        vertical-align: middle;\n",
       "    }\n",
       "\n",
       "    .dataframe tbody tr th {\n",
       "        vertical-align: top;\n",
       "    }\n",
       "\n",
       "    .dataframe thead th {\n",
       "        text-align: right;\n",
       "    }\n",
       "</style>\n",
       "<table border=\"1\" class=\"dataframe\">\n",
       "  <thead>\n",
       "    <tr style=\"text-align: right;\">\n",
       "      <th></th>\n",
       "      <th>calitp_itp_id</th>\n",
       "      <th>calitp_url_number</th>\n",
       "      <th>shape_id</th>\n",
       "      <th>shape_pt_lat</th>\n",
       "      <th>shape_pt_lon</th>\n",
       "      <th>shape_pt_sequence</th>\n",
       "      <th>shape_dist_traveled</th>\n",
       "      <th>calitp_extracted_at</th>\n",
       "      <th>calitp_hash</th>\n",
       "      <th>shape_key</th>\n",
       "      <th>calitp_deleted_at</th>\n",
       "    </tr>\n",
       "  </thead>\n",
       "  <tbody>\n",
       "    <tr>\n",
       "      <th>17</th>\n",
       "      <td>148</td>\n",
       "      <td>0</td>\n",
       "      <td>49</td>\n",
       "      <td>36.325647</td>\n",
       "      <td>-119.652688</td>\n",
       "      <td>1</td>\n",
       "      <td>None</td>\n",
       "      <td>2021-04-15</td>\n",
       "      <td>ru0ixCJbt8tkUUqzC4Aqwg==</td>\n",
       "      <td>-4907651418736819562</td>\n",
       "      <td>2099-01-01</td>\n",
       "    </tr>\n",
       "    <tr>\n",
       "      <th>52</th>\n",
       "      <td>148</td>\n",
       "      <td>0</td>\n",
       "      <td>49</td>\n",
       "      <td>36.326609</td>\n",
       "      <td>-119.652883</td>\n",
       "      <td>2</td>\n",
       "      <td>None</td>\n",
       "      <td>2021-04-15</td>\n",
       "      <td>/P1ceA4gkYRAiN3Bz/Cosg==</td>\n",
       "      <td>-8708430766074839456</td>\n",
       "      <td>2099-01-01</td>\n",
       "    </tr>\n",
       "    <tr>\n",
       "      <th>42</th>\n",
       "      <td>148</td>\n",
       "      <td>0</td>\n",
       "      <td>49</td>\n",
       "      <td>36.326440</td>\n",
       "      <td>-119.653930</td>\n",
       "      <td>3</td>\n",
       "      <td>None</td>\n",
       "      <td>2021-04-15</td>\n",
       "      <td>GHPi+x3rcs/0x3WY7Cv8Pg==</td>\n",
       "      <td>-6331366513554695594</td>\n",
       "      <td>2099-01-01</td>\n",
       "    </tr>\n",
       "  </tbody>\n",
       "</table>\n",
       "</div>"
      ],
      "text/plain": [
       "    calitp_itp_id  calitp_url_number shape_id  shape_pt_lat  shape_pt_lon  \\\n",
       "17            148                  0       49     36.325647   -119.652688   \n",
       "52            148                  0       49     36.326609   -119.652883   \n",
       "42            148                  0       49     36.326440   -119.653930   \n",
       "\n",
       "    shape_pt_sequence shape_dist_traveled calitp_extracted_at  \\\n",
       "17                  1                None          2021-04-15   \n",
       "52                  2                None          2021-04-15   \n",
       "42                  3                None          2021-04-15   \n",
       "\n",
       "                 calitp_hash            shape_key calitp_deleted_at  \n",
       "17  ru0ixCJbt8tkUUqzC4Aqwg== -4907651418736819562        2099-01-01  \n",
       "52  /P1ceA4gkYRAiN3Bz/Cosg== -8708430766074839456        2099-01-01  \n",
       "42  GHPi+x3rcs/0x3WY7Cv8Pg== -6331366513554695594        2099-01-01  "
      ]
     },
     "execution_count": 65,
     "metadata": {},
     "output_type": "execute_result"
    }
   ],
   "source": [
    "df >> head(3)"
   ]
  },
  {
   "cell_type": "code",
   "execution_count": 66,
   "id": "59402540-f9fd-4241-9dac-1df9ff9909d7",
   "metadata": {},
   "outputs": [],
   "source": [
    "gdf = gpd.GeoDataFrame(df, geometry=gpd.points_from_xy(df.shape_pt_lon, df.shape_pt_lat), crs='EPSG:4326')"
   ]
  },
  {
   "cell_type": "code",
   "execution_count": 86,
   "id": "9faf2c7b-55ed-47e5-9468-260310ec490f",
   "metadata": {},
   "outputs": [],
   "source": [
    "gdf = gdf >> select(-_.calitp_extracted_at, -_.calitp_deleted_at)"
   ]
  },
  {
   "cell_type": "code",
   "execution_count": 72,
   "id": "6bb99d7e-9fa6-4731-8c98-cbbe49bd0f02",
   "metadata": {
    "collapsed": true,
    "jupyter": {
     "outputs_hidden": true
    },
    "tags": []
   },
   "outputs": [
    {
     "data": {
      "text/plain": [
       "\u001b[0;31mInit signature:\u001b[0m\n",
       "\u001b[0mfolium\u001b[0m\u001b[0;34m.\u001b[0m\u001b[0mMap\u001b[0m\u001b[0;34m(\u001b[0m\u001b[0;34m\u001b[0m\n",
       "\u001b[0;34m\u001b[0m    \u001b[0mlocation\u001b[0m\u001b[0;34m=\u001b[0m\u001b[0;32mNone\u001b[0m\u001b[0;34m,\u001b[0m\u001b[0;34m\u001b[0m\n",
       "\u001b[0;34m\u001b[0m    \u001b[0mwidth\u001b[0m\u001b[0;34m=\u001b[0m\u001b[0;34m'100%'\u001b[0m\u001b[0;34m,\u001b[0m\u001b[0;34m\u001b[0m\n",
       "\u001b[0;34m\u001b[0m    \u001b[0mheight\u001b[0m\u001b[0;34m=\u001b[0m\u001b[0;34m'100%'\u001b[0m\u001b[0;34m,\u001b[0m\u001b[0;34m\u001b[0m\n",
       "\u001b[0;34m\u001b[0m    \u001b[0mleft\u001b[0m\u001b[0;34m=\u001b[0m\u001b[0;34m'0%'\u001b[0m\u001b[0;34m,\u001b[0m\u001b[0;34m\u001b[0m\n",
       "\u001b[0;34m\u001b[0m    \u001b[0mtop\u001b[0m\u001b[0;34m=\u001b[0m\u001b[0;34m'0%'\u001b[0m\u001b[0;34m,\u001b[0m\u001b[0;34m\u001b[0m\n",
       "\u001b[0;34m\u001b[0m    \u001b[0mposition\u001b[0m\u001b[0;34m=\u001b[0m\u001b[0;34m'relative'\u001b[0m\u001b[0;34m,\u001b[0m\u001b[0;34m\u001b[0m\n",
       "\u001b[0;34m\u001b[0m    \u001b[0mtiles\u001b[0m\u001b[0;34m=\u001b[0m\u001b[0;34m'OpenStreetMap'\u001b[0m\u001b[0;34m,\u001b[0m\u001b[0;34m\u001b[0m\n",
       "\u001b[0;34m\u001b[0m    \u001b[0mattr\u001b[0m\u001b[0;34m=\u001b[0m\u001b[0;32mNone\u001b[0m\u001b[0;34m,\u001b[0m\u001b[0;34m\u001b[0m\n",
       "\u001b[0;34m\u001b[0m    \u001b[0mmin_zoom\u001b[0m\u001b[0;34m=\u001b[0m\u001b[0;36m0\u001b[0m\u001b[0;34m,\u001b[0m\u001b[0;34m\u001b[0m\n",
       "\u001b[0;34m\u001b[0m    \u001b[0mmax_zoom\u001b[0m\u001b[0;34m=\u001b[0m\u001b[0;36m18\u001b[0m\u001b[0;34m,\u001b[0m\u001b[0;34m\u001b[0m\n",
       "\u001b[0;34m\u001b[0m    \u001b[0mzoom_start\u001b[0m\u001b[0;34m=\u001b[0m\u001b[0;36m10\u001b[0m\u001b[0;34m,\u001b[0m\u001b[0;34m\u001b[0m\n",
       "\u001b[0;34m\u001b[0m    \u001b[0mmin_lat\u001b[0m\u001b[0;34m=\u001b[0m\u001b[0;34m-\u001b[0m\u001b[0;36m90\u001b[0m\u001b[0;34m,\u001b[0m\u001b[0;34m\u001b[0m\n",
       "\u001b[0;34m\u001b[0m    \u001b[0mmax_lat\u001b[0m\u001b[0;34m=\u001b[0m\u001b[0;36m90\u001b[0m\u001b[0;34m,\u001b[0m\u001b[0;34m\u001b[0m\n",
       "\u001b[0;34m\u001b[0m    \u001b[0mmin_lon\u001b[0m\u001b[0;34m=\u001b[0m\u001b[0;34m-\u001b[0m\u001b[0;36m180\u001b[0m\u001b[0;34m,\u001b[0m\u001b[0;34m\u001b[0m\n",
       "\u001b[0;34m\u001b[0m    \u001b[0mmax_lon\u001b[0m\u001b[0;34m=\u001b[0m\u001b[0;36m180\u001b[0m\u001b[0;34m,\u001b[0m\u001b[0;34m\u001b[0m\n",
       "\u001b[0;34m\u001b[0m    \u001b[0mmax_bounds\u001b[0m\u001b[0;34m=\u001b[0m\u001b[0;32mFalse\u001b[0m\u001b[0;34m,\u001b[0m\u001b[0;34m\u001b[0m\n",
       "\u001b[0;34m\u001b[0m    \u001b[0mcrs\u001b[0m\u001b[0;34m=\u001b[0m\u001b[0;34m'EPSG3857'\u001b[0m\u001b[0;34m,\u001b[0m\u001b[0;34m\u001b[0m\n",
       "\u001b[0;34m\u001b[0m    \u001b[0mcontrol_scale\u001b[0m\u001b[0;34m=\u001b[0m\u001b[0;32mFalse\u001b[0m\u001b[0;34m,\u001b[0m\u001b[0;34m\u001b[0m\n",
       "\u001b[0;34m\u001b[0m    \u001b[0mprefer_canvas\u001b[0m\u001b[0;34m=\u001b[0m\u001b[0;32mFalse\u001b[0m\u001b[0;34m,\u001b[0m\u001b[0;34m\u001b[0m\n",
       "\u001b[0;34m\u001b[0m    \u001b[0mno_touch\u001b[0m\u001b[0;34m=\u001b[0m\u001b[0;32mFalse\u001b[0m\u001b[0;34m,\u001b[0m\u001b[0;34m\u001b[0m\n",
       "\u001b[0;34m\u001b[0m    \u001b[0mdisable_3d\u001b[0m\u001b[0;34m=\u001b[0m\u001b[0;32mFalse\u001b[0m\u001b[0;34m,\u001b[0m\u001b[0;34m\u001b[0m\n",
       "\u001b[0;34m\u001b[0m    \u001b[0mpng_enabled\u001b[0m\u001b[0;34m=\u001b[0m\u001b[0;32mFalse\u001b[0m\u001b[0;34m,\u001b[0m\u001b[0;34m\u001b[0m\n",
       "\u001b[0;34m\u001b[0m    \u001b[0mzoom_control\u001b[0m\u001b[0;34m=\u001b[0m\u001b[0;32mTrue\u001b[0m\u001b[0;34m,\u001b[0m\u001b[0;34m\u001b[0m\n",
       "\u001b[0;34m\u001b[0m    \u001b[0;34m**\u001b[0m\u001b[0mkwargs\u001b[0m\u001b[0;34m,\u001b[0m\u001b[0;34m\u001b[0m\n",
       "\u001b[0;34m\u001b[0m\u001b[0;34m)\u001b[0m\u001b[0;34m\u001b[0m\u001b[0;34m\u001b[0m\u001b[0m\n",
       "\u001b[0;31mDocstring:\u001b[0m     \n",
       "Create a Map with Folium and Leaflet.js\n",
       "\n",
       "Generate a base map of given width and height with either default\n",
       "tilesets or a custom tileset URL. The following tilesets are built-in\n",
       "to Folium. Pass any of the following to the \"tiles\" keyword:\n",
       "\n",
       "    - \"OpenStreetMap\"\n",
       "    - \"Mapbox Bright\" (Limited levels of zoom for free tiles)\n",
       "    - \"Mapbox Control Room\" (Limited levels of zoom for free tiles)\n",
       "    - \"Stamen\" (Terrain, Toner, and Watercolor)\n",
       "    - \"Cloudmade\" (Must pass API key)\n",
       "    - \"Mapbox\" (Must pass API key)\n",
       "    - \"CartoDB\" (positron and dark_matter)\n",
       "\n",
       "You can pass a custom tileset to Folium by passing a Leaflet-style\n",
       "URL to the tiles parameter: ``http://{s}.yourtiles.com/{z}/{x}/{y}.png``.\n",
       "\n",
       "You can find a list of free tile providers here:\n",
       "``http://leaflet-extras.github.io/leaflet-providers/preview/``.\n",
       "Be sure to check their terms and conditions and to provide attribution\n",
       "with the `attr` keyword.\n",
       "\n",
       "Parameters\n",
       "----------\n",
       "location: tuple or list, default None\n",
       "    Latitude and Longitude of Map (Northing, Easting).\n",
       "width: pixel int or percentage string (default: '100%')\n",
       "    Width of the map.\n",
       "height: pixel int or percentage string (default: '100%')\n",
       "    Height of the map.\n",
       "tiles: str, default 'OpenStreetMap'\n",
       "    Map tileset to use. Can choose from a list of built-in tiles,\n",
       "    pass a custom URL or pass `None` to create a map without tiles.\n",
       "    For more advanced tile layer options, use the `TileLayer` class.\n",
       "min_zoom: int, default 0\n",
       "    Minimum allowed zoom level for the tile layer that is created.\n",
       "max_zoom: int, default 18\n",
       "    Maximum allowed zoom level for the tile layer that is created.\n",
       "zoom_start: int, default 10\n",
       "    Initial zoom level for the map.\n",
       "attr: string, default None\n",
       "    Map tile attribution; only required if passing custom tile URL.\n",
       "crs : str, default 'EPSG3857'\n",
       "    Defines coordinate reference systems for projecting geographical points\n",
       "    into pixel (screen) coordinates and back.\n",
       "    You can use Leaflet's values :\n",
       "    * EPSG3857 : The most common CRS for online maps, used by almost all\n",
       "    free and commercial tile providers. Uses Spherical Mercator projection.\n",
       "    Set in by default in Map's crs option.\n",
       "    * EPSG4326 : A common CRS among GIS enthusiasts.\n",
       "    Uses simple Equirectangular projection.\n",
       "    * EPSG3395 : Rarely used by some commercial tile providers.\n",
       "    Uses Elliptical Mercator projection.\n",
       "    * Simple : A simple CRS that maps longitude and latitude into\n",
       "    x and y directly. May be used for maps of flat surfaces\n",
       "    (e.g. game maps). Note that the y axis should still be inverted\n",
       "    (going from bottom to top).\n",
       "control_scale : bool, default False\n",
       "    Whether to add a control scale on the map.\n",
       "prefer_canvas : bool, default False\n",
       "    Forces Leaflet to use the Canvas back-end (if available) for\n",
       "    vector layers instead of SVG. This can increase performance\n",
       "    considerably in some cases (e.g. many thousands of circle\n",
       "    markers on the map).\n",
       "no_touch : bool, default False\n",
       "    Forces Leaflet to not use touch events even if it detects them.\n",
       "disable_3d : bool, default False\n",
       "    Forces Leaflet to not use hardware-accelerated CSS 3D\n",
       "    transforms for positioning (which may cause glitches in some\n",
       "    rare environments) even if they're supported.\n",
       "zoom_control : bool, default True\n",
       "    Display zoom controls on the map.\n",
       "**kwargs\n",
       "    Additional keyword arguments are passed to Leaflets Map class:\n",
       "    https://leafletjs.com/reference-1.6.0.html#map\n",
       "\n",
       "Returns\n",
       "-------\n",
       "Folium Map Object\n",
       "\n",
       "Examples\n",
       "--------\n",
       ">>> m = folium.Map(location=[45.523, -122.675], width=750, height=500)\n",
       ">>> m = folium.Map(location=[45.523, -122.675], tiles='cartodb positron')\n",
       ">>> m = folium.Map(\n",
       "...    location=[45.523, -122.675],\n",
       "...    zoom_start=2,\n",
       "...    tiles='https://api.mapbox.com/v4/mapbox.streets/{z}/{x}/{y}.png?access_token=mytoken',\n",
       "...    attr='Mapbox attribution'\n",
       "...)\n",
       "\u001b[0;31mFile:\u001b[0m           /opt/conda/lib/python3.10/site-packages/folium/folium.py\n",
       "\u001b[0;31mType:\u001b[0m           type\n",
       "\u001b[0;31mSubclasses:\u001b[0m     \n"
      ]
     },
     "metadata": {},
     "output_type": "display_data"
    }
   ],
   "source": [
    "folium.Map?"
   ]
  },
  {
   "cell_type": "code",
   "execution_count": 158,
   "id": "62ac5e76-ffa7-4819-aa52-76af2e01ef26",
   "metadata": {},
   "outputs": [],
   "source": [
    "m = folium.Map(location=[36.32, -119.65], tiles='cartodbpositron')"
   ]
  },
  {
   "cell_type": "code",
   "execution_count": 91,
   "id": "e6e8c48f-fc78-4cb7-97cc-ae6f2b802232",
   "metadata": {},
   "outputs": [],
   "source": [
    "import branca"
   ]
  },
  {
   "cell_type": "code",
   "execution_count": 95,
   "id": "3dfc8ad2-2a8f-4db4-bc27-3d8d0e63e459",
   "metadata": {},
   "outputs": [],
   "source": [
    "colormap = branca.colormap.LinearColormap(['#ffffed', '#202a44'], vmin=gdf.shape_pt_sequence.min(),\n",
    "                                        vmax=gdf.shape_pt_sequence.max())"
   ]
  },
  {
   "cell_type": "code",
   "execution_count": 97,
   "id": "a2867db5-2a96-4b12-bbfe-12bcd231f3b5",
   "metadata": {},
   "outputs": [
    {
     "data": {
      "text/plain": [
       "'#e9eaddff'"
      ]
     },
     "execution_count": 97,
     "metadata": {},
     "output_type": "execute_result"
    }
   ],
   "source": [
    "colormap(14)"
   ]
  },
  {
   "cell_type": "code",
   "execution_count": 98,
   "id": "b1eab13a-aa7e-4884-b0e6-89bbf7a6797e",
   "metadata": {},
   "outputs": [],
   "source": [
    "# branca.colormap.LinearColormap?"
   ]
  },
  {
   "cell_type": "code",
   "execution_count": 101,
   "id": "65e2f217-4a25-41e1-a645-c57c82addf1f",
   "metadata": {},
   "outputs": [
    {
     "data": {
      "text/plain": [
       "<folium.features.GeoJson at 0x7f396d04a2f0>"
      ]
     },
     "execution_count": 101,
     "metadata": {},
     "output_type": "execute_result"
    }
   ],
   "source": [
    "folium.GeoJson(gdf >> select(_.shape_pt_sequence,_.geometry),\n",
    "               style_function=lambda x: {\n",
    "            \"fillColor\": colormap(x[\"properties\"]['shape_pt_sequence'])\n",
    "            # if x[\"properties\"][plot_col] is not None\n",
    "            # else \"gray\",\n",
    "            # \"color\": \"#FFFFFF\",\n",
    "            # \"fillOpacity\": 0.8,\n",
    "            # \"weight\": 0.2,\n",
    "            },\n",
    "              ).add_to(m)"
   ]
  },
  {
   "cell_type": "code",
   "execution_count": 19,
   "id": "46c45945-f670-4353-93b8-16af8dfa9eb5",
   "metadata": {},
   "outputs": [],
   "source": [
    "# m"
   ]
  },
  {
   "cell_type": "code",
   "execution_count": 20,
   "id": "8bdae0b3-0cf0-4950-a67e-59ba4bfd71cc",
   "metadata": {},
   "outputs": [
    {
     "data": {
      "text/plain": [
       "45"
      ]
     },
     "execution_count": 20,
     "metadata": {},
     "output_type": "execute_result"
    }
   ],
   "source": [
    "len(really_fast_bus.position_gdf) - len(really_fast_bus.cleaned_positions)"
   ]
  },
  {
   "cell_type": "markdown",
   "id": "ac340f2d-fa39-44fa-9441-2213a607139a",
   "metadata": {},
   "source": [
    "# Mapping Short Segments"
   ]
  },
  {
   "cell_type": "code",
   "execution_count": 45,
   "id": "51f1bf61-deee-47a5-a1b9-39ab254e6716",
   "metadata": {},
   "outputs": [
    {
     "name": "stderr",
     "output_type": "stream",
     "text": [
      "/home/jovyan/data-analyses/_shared_utils/shared_utils/utils.py:39: UserWarning: this is an initial implementation of Parquet/Feather file support and associated metadata.  This is tracking version 0.1.0 of the metadata specification at https://github.com/geopandas/geo-arrow-spec\n",
      "\n",
      "This metadata specification does not yet make stability promises.  We do not yet recommend using this in a production setting unless you are able to rewrite your Parquet/Feather files.\n",
      "\n",
      "To further ignore this warning, you can do: \n",
      "import warnings; warnings.filterwarnings('ignore', message='.*initial implementation of Parquet.*')\n",
      "/home/jovyan/data-analyses/_shared_utils/shared_utils/utils.py:39: UserWarning: this is an initial implementation of Parquet/Feather file support and associated metadata.  This is tracking version 0.1.0 of the metadata specification at https://github.com/geopandas/geo-arrow-spec\n",
      "\n",
      "This metadata specification does not yet make stability promises.  We do not yet recommend using this in a production setting unless you are able to rewrite your Parquet/Feather files.\n",
      "\n",
      "To further ignore this warning, you can do: \n",
      "import warnings; warnings.filterwarnings('ignore', message='.*initial implementation of Parquet.*')\n"
     ]
    }
   ],
   "source": [
    "kart_analysis.export_views_gcs()"
   ]
  },
  {
   "cell_type": "code",
   "execution_count": 46,
   "id": "7c3c1571-1f34-4012-b57e-1255246cf48a",
   "metadata": {},
   "outputs": [],
   "source": [
    "import rt_filter_map_plot"
   ]
  },
  {
   "cell_type": "code",
   "execution_count": 123,
   "id": "80b691e5-755b-4705-8303-adfc08212dad",
   "metadata": {},
   "outputs": [
    {
     "data": {
      "text/plain": [
       "<module 'rt_filter_map_plot' from '/home/jovyan/data-analyses/rt_delay/rt_filter_map_plot.py'>"
      ]
     },
     "execution_count": 123,
     "metadata": {},
     "output_type": "execute_result"
    }
   ],
   "source": [
    "importlib.reload(rt_filter_map_plot)"
   ]
  },
  {
   "cell_type": "code",
   "execution_count": 51,
   "id": "3ffa1245-d4ae-4c2a-993b-7d4e1bd3ec40",
   "metadata": {},
   "outputs": [
    {
     "data": {
      "text/plain": [
       "datetime.date(2022, 6, 1)"
      ]
     },
     "execution_count": 51,
     "metadata": {},
     "output_type": "execute_result"
    }
   ],
   "source": [
    "analysis_date"
   ]
  },
  {
   "cell_type": "code",
   "execution_count": 53,
   "id": "4a061ebb-1739-4a05-befb-99bfa8163952",
   "metadata": {},
   "outputs": [],
   "source": [
    "month_day = analysis_date.strftime('%m_%d')"
   ]
  },
  {
   "cell_type": "code",
   "execution_count": 57,
   "id": "ef429f92-8a2f-4591-9a9e-98c80790d24b",
   "metadata": {},
   "outputs": [],
   "source": [
    "gdf = gpd.read_parquet(f'{shared_utils.rt_utils.GCS_FILE_PATH}stop_delay_views/{itp_id}_{month_day}.parquet')"
   ]
  },
  {
   "cell_type": "code",
   "execution_count": 58,
   "id": "9bb581e7-304f-43c8-94e7-1a2d8d5ad476",
   "metadata": {},
   "outputs": [
    {
     "data": {
      "text/html": [
       "<div>\n",
       "<style scoped>\n",
       "    .dataframe tbody tr th:only-of-type {\n",
       "        vertical-align: middle;\n",
       "    }\n",
       "\n",
       "    .dataframe tbody tr th {\n",
       "        vertical-align: top;\n",
       "    }\n",
       "\n",
       "    .dataframe thead th {\n",
       "        text-align: right;\n",
       "    }\n",
       "</style>\n",
       "<table border=\"1\" class=\"dataframe\">\n",
       "  <thead>\n",
       "    <tr style=\"text-align: right;\">\n",
       "      <th></th>\n",
       "      <th>shape_meters</th>\n",
       "      <th>stop_id</th>\n",
       "      <th>stop_name</th>\n",
       "      <th>geometry</th>\n",
       "      <th>shape_id</th>\n",
       "      <th>trip_key</th>\n",
       "      <th>trip_id</th>\n",
       "      <th>stop_sequence</th>\n",
       "      <th>arrival_time</th>\n",
       "      <th>route_id</th>\n",
       "      <th>route_short_name</th>\n",
       "      <th>direction_id</th>\n",
       "      <th>actual_time</th>\n",
       "      <th>delay_seconds</th>\n",
       "    </tr>\n",
       "  </thead>\n",
       "  <tbody>\n",
       "    <tr>\n",
       "      <th>0</th>\n",
       "      <td>878.449814</td>\n",
       "      <td>109</td>\n",
       "      <td>Lacey @ Carl's Jr.</td>\n",
       "      <td>POINT (30719.208 -187595.241)</td>\n",
       "      <td>7</td>\n",
       "      <td>-5.590482e+18</td>\n",
       "      <td>601</td>\n",
       "      <td>2.0</td>\n",
       "      <td>2022-06-01T13:48:19</td>\n",
       "      <td>6</td>\n",
       "      <td>6</td>\n",
       "      <td>0</td>\n",
       "      <td>2022-06-01T13:47:30.381586</td>\n",
       "      <td>0.0</td>\n",
       "    </tr>\n",
       "    <tr>\n",
       "      <th>1</th>\n",
       "      <td>1430.878220</td>\n",
       "      <td>110</td>\n",
       "      <td>Lacey @ Government Center</td>\n",
       "      <td>POINT (30168.081 -187596.770)</td>\n",
       "      <td>7</td>\n",
       "      <td>-5.590482e+18</td>\n",
       "      <td>601</td>\n",
       "      <td>3.0</td>\n",
       "      <td>2022-06-01T13:50:38</td>\n",
       "      <td>6</td>\n",
       "      <td>6</td>\n",
       "      <td>0</td>\n",
       "      <td>2022-06-01T13:47:42.780581</td>\n",
       "      <td>0.0</td>\n",
       "    </tr>\n",
       "    <tr>\n",
       "      <th>2</th>\n",
       "      <td>1878.449814</td>\n",
       "      <td>None</td>\n",
       "      <td>None</td>\n",
       "      <td>None</td>\n",
       "      <td>7</td>\n",
       "      <td>NaN</td>\n",
       "      <td>601</td>\n",
       "      <td>3.5</td>\n",
       "      <td>NaT</td>\n",
       "      <td>None</td>\n",
       "      <td>None</td>\n",
       "      <td>None</td>\n",
       "      <td>2022-06-01T13:47:52.826114</td>\n",
       "      <td>NaN</td>\n",
       "    </tr>\n",
       "  </tbody>\n",
       "</table>\n",
       "</div>"
      ],
      "text/plain": [
       "   shape_meters stop_id                  stop_name  \\\n",
       "0    878.449814     109         Lacey @ Carl's Jr.   \n",
       "1   1430.878220     110  Lacey @ Government Center   \n",
       "2   1878.449814    None                       None   \n",
       "\n",
       "                        geometry shape_id      trip_key trip_id  \\\n",
       "0  POINT (30719.208 -187595.241)        7 -5.590482e+18     601   \n",
       "1  POINT (30168.081 -187596.770)        7 -5.590482e+18     601   \n",
       "2                           None        7           NaN     601   \n",
       "\n",
       "   stop_sequence         arrival_time route_id route_short_name direction_id  \\\n",
       "0            2.0  2022-06-01T13:48:19        6                6            0   \n",
       "1            3.0  2022-06-01T13:50:38        6                6            0   \n",
       "2            3.5                  NaT     None             None         None   \n",
       "\n",
       "                  actual_time  delay_seconds  \n",
       "0  2022-06-01T13:47:30.381586            0.0  \n",
       "1  2022-06-01T13:47:42.780581            0.0  \n",
       "2  2022-06-01T13:47:52.826114            NaN  "
      ]
     },
     "execution_count": 58,
     "metadata": {},
     "output_type": "execute_result"
    }
   ],
   "source": [
    "gdf >> head(3)"
   ]
  },
  {
   "cell_type": "code",
   "execution_count": 61,
   "id": "a3f3821f-9bdb-4832-950d-873b8bd00e11",
   "metadata": {},
   "outputs": [
    {
     "data": {
      "text/plain": [
       "'NaT'"
      ]
     },
     "execution_count": 61,
     "metadata": {},
     "output_type": "execute_result"
    }
   ],
   "source": [
    "gdf.arrival_time.iloc[2]"
   ]
  },
  {
   "cell_type": "code",
   "execution_count": 65,
   "id": "41a246e4-6abd-48cf-bc97-1300eced9cb4",
   "metadata": {},
   "outputs": [
    {
     "name": "stdout",
     "output_type": "stream",
     "text": [
      "found parquet\n"
     ]
    }
   ],
   "source": [
    "rt_day = rt_filter_map_plot.from_gcs(itp_id, analysis_date)"
   ]
  },
  {
   "cell_type": "code",
   "execution_count": 66,
   "id": "94dbbfd6-bd04-4a8f-a9af-fd68c3af6c3c",
   "metadata": {},
   "outputs": [],
   "source": [
    "rt_day.set_filter(start_time='06:00', end_time='08:00', route_names=['12'])"
   ]
  },
  {
   "cell_type": "code",
   "execution_count": 67,
   "id": "ad147b65-5b84-44f4-97ab-935e77815071",
   "metadata": {},
   "outputs": [],
   "source": [
    "filtered = rt_day._filter(rt_day.stop_delay_view) >> arrange(_.stop_sequence)"
   ]
  },
  {
   "cell_type": "code",
   "execution_count": 68,
   "id": "91eb01f4-cf66-4ea7-94ad-bd7c59f8eec1",
   "metadata": {},
   "outputs": [
    {
     "name": "stderr",
     "output_type": "stream",
     "text": [
      "/opt/conda/lib/python3.10/site-packages/numpy/lib/function_base.py:4009: RuntimeWarning: invalid value encountered in subtract\n",
      "/opt/conda/lib/python3.10/site-packages/numpy/lib/function_base.py:4009: RuntimeWarning: invalid value encountered in subtract\n",
      "/opt/conda/lib/python3.10/site-packages/numpy/lib/function_base.py:4009: RuntimeWarning: invalid value encountered in subtract\n",
      "/opt/conda/lib/python3.10/site-packages/numpy/lib/function_base.py:4009: RuntimeWarning: invalid value encountered in subtract\n",
      "/opt/conda/lib/python3.10/site-packages/numpy/lib/function_base.py:4009: RuntimeWarning: invalid value encountered in subtract\n",
      "/opt/conda/lib/python3.10/site-packages/numpy/lib/function_base.py:4009: RuntimeWarning: invalid value encountered in subtract\n",
      "/opt/conda/lib/python3.10/site-packages/numpy/lib/function_base.py:4009: RuntimeWarning: invalid value encountered in subtract\n",
      "/opt/conda/lib/python3.10/site-packages/numpy/lib/function_base.py:4009: RuntimeWarning: invalid value encountered in subtract\n",
      "/opt/conda/lib/python3.10/site-packages/numpy/lib/function_base.py:4009: RuntimeWarning: invalid value encountered in subtract\n",
      "TopologyException: assigned depths do not match at 15912.256659238848 -191580.72014725895\n",
      "TopologyException: assigned depths do not match at 15912.256659238848 -191580.72014725895\n",
      "TopologyException: assigned depths do not match at 15912.256659238848 -191580.72014725895\n",
      "TopologyException: assigned depths do not match at 16898.424377394869 -191138.2186984439\n",
      "/opt/conda/lib/python3.10/site-packages/shapely/ops.py:639: ShapelyDeprecationWarning: GeometryTypeError will derive from ShapelyError and not TypeError or ValueError in Shapely 2.0.\n",
      "/home/jovyan/data-analyses/rt_delay/rt_filter_map_plot.py:285: UserWarning: Geometry is in a geographic CRS. Results from 'centroid' are likely incorrect. Use 'GeoSeries.to_crs()' to re-project geometries to a projected CRS before this operation.\n",
      "\n",
      "/home/jovyan/data-analyses/rt_delay/rt_filter_map_plot.py:285: UserWarning: Geometry is in a geographic CRS. Results from 'centroid' are likely incorrect. Use 'GeoSeries.to_crs()' to re-project geometries to a projected CRS before this operation.\n",
      "\n"
     ]
    }
   ],
   "source": [
    "m = rt_day.segment_speed_map()"
   ]
  },
  {
   "cell_type": "code",
   "execution_count": 97,
   "id": "b5caf04f-76e0-4e89-aba6-6b6a28e255e6",
   "metadata": {
    "tags": []
   },
   "outputs": [],
   "source": [
    "# m"
   ]
  },
  {
   "cell_type": "code",
   "execution_count": 70,
   "id": "46b6092b-96d4-4301-8ab4-60fa48e59e58",
   "metadata": {},
   "outputs": [],
   "source": [
    "df = filtered >> arrange(_.stop_sequence)"
   ]
  },
  {
   "cell_type": "markdown",
   "id": "f538cc69-46a7-4182-a8e6-61f24dfb1449",
   "metadata": {},
   "source": [
    "## Another Operator"
   ]
  },
  {
   "cell_type": "code",
   "execution_count": 229,
   "id": "e0e792b7-151c-4d9a-9a93-f40119ab2fa9",
   "metadata": {},
   "outputs": [],
   "source": [
    "itp_id = 300"
   ]
  },
  {
   "cell_type": "code",
   "execution_count": 269,
   "id": "85d7ff02-cc4e-493b-8732-7165c9c9e7a3",
   "metadata": {},
   "outputs": [
    {
     "data": {
      "application/vnd.jupyter.widget-view+json": {
       "model_id": "61129dc41c5b453c858d3306e3fa7fac",
       "version_major": 2,
       "version_minor": 0
      },
      "text/plain": [
       "0it [00:00, ?it/s]"
      ]
     },
     "metadata": {},
     "output_type": "display_data"
    }
   ],
   "source": [
    "pbar = tqdm()"
   ]
  },
  {
   "cell_type": "code",
   "execution_count": 271,
   "id": "6d41cc0b-cc22-4ddb-83cb-f1ebd9b2109d",
   "metadata": {},
   "outputs": [
    {
     "data": {
      "text/plain": [
       "<module 'rt_analysis' from '/home/jovyan/data-analyses/rt_delay/rt_analysis.py'>"
      ]
     },
     "execution_count": 271,
     "metadata": {},
     "output_type": "execute_result"
    }
   ],
   "source": [
    "importlib.reload(rt)"
   ]
  },
  {
   "cell_type": "code",
   "execution_count": null,
   "id": "9b5f0bc1-c688-452b-9a10-27128d65c431",
   "metadata": {
    "collapsed": true,
    "jupyter": {
     "outputs_hidden": true
    },
    "tags": []
   },
   "outputs": [
    {
     "name": "stdout",
     "output_type": "stream",
     "text": [
      "found parquet\n",
      "found parquet\n",
      "found parquet\n",
      "found parquet\n",
      "found parquet\n",
      "could not interpolate segments for shape 25929\n",
      "could not interpolate segments for shape 25950\n",
      "less than 1km of data\n",
      "less than 1km of data\n",
      "less than 1km of data\n",
      "less than 1km of data\n",
      "less than 1km of data\n",
      "less than 1km of data\n",
      "less than 1km of data\n",
      "less than 1km of data\n",
      "less than 1km of data\n",
      "less than 1km of data\n",
      "less than 1km of data\n",
      "less than 1km of data\n",
      "less than 1km of data\n",
      "less than 1km of data\n",
      "less than 1km of data\n",
      "less than 1km of data\n",
      "less than 1km of data\n",
      "less than 1km of data\n",
      "less than 1km of data\n",
      "less than 1km of data\n",
      "less than 1km of data\n",
      "less than 1km of data\n",
      "less than 1km of data\n",
      "less than 1km of data\n",
      "less than 1km of data\n",
      "less than 1km of data\n",
      "less than 1km of data\n",
      "less than 1km of data\n",
      "less than 1km of data\n",
      "less than 1km of data\n",
      "less than 1km of data\n",
      "less than 1km of data\n",
      "less than 1km of data\n",
      "less than 1km of data\n",
      "less than 1km of data\n",
      "less than 1km of data\n",
      "less than 1km of data\n",
      "less than 1km of data\n",
      "less than 1km of data\n",
      "less than 1km of data\n",
      "less than 1km of data\n",
      "less than 1km of data\n",
      "less than 1km of data\n",
      "less than 1km of data\n",
      "less than 1km of data\n",
      "less than 1km of data\n",
      "less than 1km of data\n",
      "less than 1km of data\n",
      "less than 1km of data\n",
      "less than 1km of data\n",
      "less than 1km of data\n",
      "less than 1km of data\n",
      "less than 1km of data\n",
      "less than 1km of data\n",
      "less than 1km of data\n",
      "less than 1km of data\n",
      "less than 1km of data\n",
      "less than 1km of data\n",
      "less than 1km of data\n",
      "less than 1km of data\n",
      "less than 1km of data\n",
      "less than 1km of data\n",
      "less than 1km of data\n",
      "less than 1km of data\n",
      "less than 1km of data\n",
      "less than 1km of data\n",
      "less than 1km of data\n",
      "less than 1km of data\n",
      "less than 1km of data\n"
     ]
    }
   ],
   "source": [
    "rt_analysis = rt.OperatorDayAnalysis(itp_id, analysis_date, pbar)"
   ]
  },
  {
   "cell_type": "code",
   "execution_count": null,
   "id": "8cdd7828-3438-4a0f-a61e-f933759ea1da",
   "metadata": {},
   "outputs": [],
   "source": [
    "rt_analysis.export_views_gcs()"
   ]
  },
  {
   "cell_type": "code",
   "execution_count": null,
   "id": "ad0cf818-4552-4f40-bd51-ad8490b5a192",
   "metadata": {},
   "outputs": [],
   "source": [
    "rt_day = rt_filter_map_plot.from_gcs(itp_id, analysis_date)"
   ]
  },
  {
   "cell_type": "code",
   "execution_count": null,
   "id": "75bafc6c-4d57-4564-a87b-c542414e1edf",
   "metadata": {},
   "outputs": [],
   "source": [
    "rt_day.set_filter(start_time='06:00', end_time='09:00', route_names=['R10'])"
   ]
  },
  {
   "cell_type": "code",
   "execution_count": null,
   "id": "7f8f9c8b-755c-41e0-bab1-13db07a4836d",
   "metadata": {},
   "outputs": [],
   "source": [
    "m = rt_day.segment_speed_map(how='low_speeds')"
   ]
  },
  {
   "cell_type": "code",
   "execution_count": null,
   "id": "99ef68a9-04d6-4985-946c-e7395c725472",
   "metadata": {},
   "outputs": [],
   "source": [
    "m"
   ]
  }
 ],
 "metadata": {
  "kernelspec": {
   "display_name": "Python 3 (ipykernel)",
   "language": "python",
   "name": "python3"
  },
  "language_info": {
   "codemirror_mode": {
    "name": "ipython",
    "version": 3
   },
   "file_extension": ".py",
   "mimetype": "text/x-python",
   "name": "python",
   "nbconvert_exporter": "python",
   "pygments_lexer": "ipython3",
   "version": "3.10.4"
  }
 },
 "nbformat": 4,
 "nbformat_minor": 5
}
