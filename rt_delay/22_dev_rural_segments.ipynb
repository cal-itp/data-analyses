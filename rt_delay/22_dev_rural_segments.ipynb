{
 "cells": [
  {
   "cell_type": "code",
   "execution_count": 122,
   "id": "dd3c8428-a8d7-4db0-ba36-51f469deecff",
   "metadata": {},
   "outputs": [],
   "source": [
    "import os\n",
    "os.environ[\"CALITP_BQ_MAX_BYTES\"] = str(800_000_000_000) ## 800GB?\n",
    "\n",
    "from calitp.tables import tbl\n",
    "from calitp import query_sql\n",
    "import calitp.magics\n",
    "import branca\n",
    "\n",
    "import shared_utils\n",
    "\n",
    "from siuba import *\n",
    "import pandas as pd\n",
    "import geopandas as gpd\n",
    "import shapely\n",
    "\n",
    "import datetime as dt\n",
    "import time\n",
    "from zoneinfo import ZoneInfo\n",
    "\n",
    "import rt_analysis as rt\n",
    "import importlib\n",
    "\n",
    "import gcsfs\n",
    "fs = gcsfs.GCSFileSystem()\n",
    "\n",
    "from tqdm import tqdm_notebook\n",
    "from tqdm.notebook import trange, tqdm"
   ]
  },
  {
   "cell_type": "code",
   "execution_count": 127,
   "id": "b4e318e8-8da2-4a5d-8ffd-83f605c3318f",
   "metadata": {},
   "outputs": [
    {
     "data": {
      "text/plain": [
       "<module 'rt_analysis' from '/home/jovyan/data-analyses/rt_delay/rt_analysis.py'>"
      ]
     },
     "execution_count": 127,
     "metadata": {},
     "output_type": "execute_result"
    }
   ],
   "source": [
    "importlib.reload(rt)"
   ]
  },
  {
   "cell_type": "markdown",
   "id": "e3e98112-bc9f-4f8a-aae8-2007dde20da8",
   "metadata": {},
   "source": [
    "# Scratch notebook for handling long stop to stop segments\n",
    "\n",
    "* goal is to provide additional map detail for rural/express routes"
   ]
  },
  {
   "cell_type": "code",
   "execution_count": 128,
   "id": "a5ca1534-39e4-4c2e-b582-dcb585de7596",
   "metadata": {},
   "outputs": [],
   "source": [
    "## KART speedmap as displayed on site\n",
    "itp_id = 148\n",
    "analysis_date = dt.date(2022, 6, 1)"
   ]
  },
  {
   "cell_type": "code",
   "execution_count": 129,
   "id": "74f7c3b5-7c04-4554-a129-77ea4b5cc467",
   "metadata": {},
   "outputs": [
    {
     "data": {
      "application/vnd.jupyter.widget-view+json": {
       "model_id": "75c0de9bb116473191371582b0e810d5",
       "version_major": 2,
       "version_minor": 0
      },
      "text/plain": [
       "0it [00:00, ?it/s]"
      ]
     },
     "metadata": {},
     "output_type": "display_data"
    }
   ],
   "source": [
    "pbar = tqdm()"
   ]
  },
  {
   "cell_type": "code",
   "execution_count": 130,
   "id": "06c5fa5e-0cb4-48f1-ac77-9ffdf0fd3a0e",
   "metadata": {
    "tags": []
   },
   "outputs": [
    {
     "name": "stdout",
     "output_type": "stream",
     "text": [
      "found parquet\n",
      "found parquet\n",
      "found parquet\n",
      "found parquet\n",
      "found parquet\n",
      "less than 1km of data\n",
      "vehicle positions gdf must not be empty\n",
      "less than 1km of data\n",
      "less than 1km of data\n",
      "less than 1km of data\n",
      "less than 1km of data\n",
      "less than 1km of data\n",
      "less than 60 seconds of data\n",
      "less than 1km of data\n",
      "less than 1km of data\n",
      "less than 1km of data\n",
      "less than 60 seconds of data\n",
      "less than 60 seconds of data\n",
      "less than 60 seconds of data\n",
      "less than 1km of data\n",
      "less than 1km of data\n",
      "less than 1km of data\n",
      "less than 1km of data\n",
      "less than 60 seconds of data\n",
      "less than 1km of data\n",
      "less than 1km of data\n",
      "less than 60 seconds of data\n",
      "less than 1km of data\n",
      "less than 1km of data\n",
      "less than 1km of data\n",
      "less than 1km of data\n",
      "less than 1km of data\n",
      "less than 1km of data\n",
      "less than 60 seconds of data\n",
      "less than 1km of data\n",
      "less than 60 seconds of data\n",
      "less than 1km of data\n",
      "less than 1km of data\n",
      "less than 60 seconds of data\n",
      "less than 60 seconds of data\n",
      "less than 1km of data\n",
      "less than 1km of data\n",
      "less than 1km of data\n",
      "less than 1km of data\n",
      "less than 1km of data\n",
      "less than 1km of data\n",
      "less than 1km of data\n",
      "less than 1km of data\n",
      "less than 1km of data\n",
      "less than 60 seconds of data\n",
      "less than 1km of data\n",
      "less than 1km of data\n",
      "less than 60 seconds of data\n",
      "less than 1km of data\n",
      "less than 1km of data\n",
      "less than 1km of data\n",
      "less than 1km of data\n",
      "less than 1km of data\n",
      "less than 1km of data\n",
      "less than 1km of data\n",
      "less than 1km of data\n",
      "less than 1km of data\n",
      "less than 1km of data\n",
      "less than 1km of data\n",
      "less than 1km of data\n",
      "less than 1km of data\n",
      "less than 1km of data\n",
      "less than 1km of data\n",
      "less than 1km of data\n",
      "less than 1km of data\n",
      "less than 1km of data\n",
      "less than 1km of data\n",
      "less than 1km of data\n",
      "less than 1km of data\n",
      "less than 1km of data\n",
      "less than 60 seconds of data\n",
      "less than 1km of data\n",
      "less than 1km of data\n",
      "less than 60 seconds of data\n",
      "less than 60 seconds of data\n",
      "less than 1km of data\n",
      "less than 1km of data\n",
      "less than 1km of data\n",
      "less than 1km of data\n",
      "less than 1km of data\n",
      "less than 1km of data\n",
      "less than 1km of data\n",
      "less than 1km of data\n",
      "less than 60 seconds of data\n",
      "less than 1km of data\n",
      "less than 1km of data\n",
      "less than 1km of data\n",
      "less than 1km of data\n",
      "less than 60 seconds of data\n",
      "less than 1km of data\n",
      "less than 1km of data\n",
      "less than 1km of data\n",
      "less than 1km of data\n",
      "less than 1km of data\n",
      "less than 1km of data\n",
      "less than 1km of data\n",
      "less than 1km of data\n",
      "less than 1km of data\n",
      "less than 1km of data\n",
      "less than 1km of data\n",
      "less than 1km of data\n",
      "less than 1km of data\n",
      "less than 1km of data\n",
      "less than 1km of data\n",
      "less than 1km of data\n",
      "less than 1km of data\n",
      "less than 1km of data\n",
      "less than 1km of data\n",
      "less than 1km of data\n",
      "less than 1km of data\n",
      "less than 1km of data\n",
      "less than 1km of data\n",
      "less than 1km of data\n",
      "less than 1km of data\n",
      "less than 1km of data\n",
      "less than 1km of data\n",
      "less than 1km of data\n",
      "less than 1km of data\n",
      "less than 1km of data\n",
      "less than 1km of data\n",
      "less than 1km of data\n",
      "less than 1km of data\n",
      "less than 1km of data\n",
      "less than 1km of data\n",
      "less than 1km of data\n",
      "less than 1km of data\n",
      "less than 1km of data\n",
      "less than 1km of data\n",
      "less than 1km of data\n",
      "less than 1km of data\n",
      "less than 1km of data\n",
      "less than 1km of data\n",
      "less than 1km of data\n",
      "less than 1km of data\n",
      "less than 1km of data\n",
      "less than 1km of data\n",
      "less than 1km of data\n",
      "less than 1km of data\n",
      "less than 1km of data\n",
      "less than 1km of data\n",
      "less than 1km of data\n",
      "less than 1km of data\n",
      "less than 1km of data\n",
      "less than 1km of data\n",
      "less than 1km of data\n",
      "less than 1km of data\n",
      "less than 1km of data\n",
      "less than 1km of data\n",
      "less than 1km of data\n",
      "less than 1km of data\n",
      "less than 1km of data\n",
      "less than 1km of data\n",
      "less than 1km of data\n",
      "less than 1km of data\n",
      "less than 1km of data\n",
      "less than 1km of data\n",
      "less than 1km of data\n",
      "less than 60 seconds of data\n",
      "less than 1km of data\n",
      "less than 1km of data\n",
      "less than 1km of data\n",
      "less than 1km of data\n",
      "less than 1km of data\n",
      "less than 1km of data\n",
      "less than 1km of data\n",
      "less than 1km of data\n",
      "less than 1km of data\n",
      "less than 1km of data\n",
      "less than 1km of data\n",
      "less than 1km of data\n",
      "less than 1km of data\n",
      "less than 1km of data\n",
      "less than 1km of data\n",
      "less than 1km of data\n",
      "less than 1km of data\n",
      "less than 1km of data\n",
      "less than 1km of data\n",
      "less than 1km of data\n",
      "less than 1km of data\n",
      "less than 1km of data\n",
      "less than 1km of data\n",
      "less than 1km of data\n",
      "less than 1km of data\n",
      "less than 1km of data\n",
      "less than 1km of data\n",
      "less than 1km of data\n",
      "less than 1km of data\n",
      "less than 1km of data\n",
      "less than 1km of data\n",
      "less than 60 seconds of data\n",
      "less than 1km of data\n",
      "less than 1km of data\n",
      "less than 1km of data\n",
      "less than 1km of data\n",
      "less than 1km of data\n",
      "less than 1km of data\n",
      "less than 1km of data\n",
      "less than 60 seconds of data\n",
      "less than 1km of data\n",
      "less than 1km of data\n",
      "less than 1km of data\n",
      "less than 1km of data\n",
      "less than 1km of data\n",
      "less than 1km of data\n",
      "less than 1km of data\n",
      "less than 1km of data\n",
      "less than 1km of data\n",
      "less than 1km of data\n",
      "less than 1km of data\n",
      "less than 60 seconds of data\n",
      "less than 1km of data\n"
     ]
    }
   ],
   "source": [
    "kart_analysis = rt.OperatorDayAnalysis(itp_id, analysis_date, pbar)"
   ]
  },
  {
   "cell_type": "code",
   "execution_count": 131,
   "id": "856eb08b-8dfb-4ff1-a9a7-671cb6da69f4",
   "metadata": {},
   "outputs": [],
   "source": [
    "# gdf = kart_analysis.routelines >> filter(_.shape_id == '3')\n",
    "# shared_utils.rt_utils.map_line(gdf)"
   ]
  },
  {
   "cell_type": "code",
   "execution_count": 132,
   "id": "903cfed7-ca9f-4915-b856-28e240975900",
   "metadata": {},
   "outputs": [
    {
     "data": {
      "text/html": [
       "<div>\n",
       "<style scoped>\n",
       "    .dataframe tbody tr th:only-of-type {\n",
       "        vertical-align: middle;\n",
       "    }\n",
       "\n",
       "    .dataframe tbody tr th {\n",
       "        vertical-align: top;\n",
       "    }\n",
       "\n",
       "    .dataframe thead th {\n",
       "        text-align: right;\n",
       "    }\n",
       "</style>\n",
       "<table border=\"1\" class=\"dataframe\">\n",
       "  <thead>\n",
       "    <tr style=\"text-align: right;\">\n",
       "      <th></th>\n",
       "      <th>calitp_itp_id</th>\n",
       "      <th>calitp_url_number</th>\n",
       "      <th>service_date</th>\n",
       "      <th>trip_key</th>\n",
       "      <th>trip_id</th>\n",
       "      <th>route_id</th>\n",
       "      <th>direction_id</th>\n",
       "      <th>shape_id</th>\n",
       "      <th>calitp_extracted_at</th>\n",
       "      <th>calitp_deleted_at</th>\n",
       "      <th>route_short_name</th>\n",
       "      <th>route_long_name</th>\n",
       "      <th>route_desc</th>\n",
       "      <th>route_type</th>\n",
       "      <th>median_time</th>\n",
       "      <th>direction</th>\n",
       "      <th>mean_speed_mph</th>\n",
       "      <th>calitp_agency_name</th>\n",
       "    </tr>\n",
       "  </thead>\n",
       "  <tbody>\n",
       "    <tr>\n",
       "      <th>266</th>\n",
       "      <td>148</td>\n",
       "      <td>0</td>\n",
       "      <td>2022-06-01</td>\n",
       "      <td>2644978890892601525</td>\n",
       "      <td>949</td>\n",
       "      <td>12</td>\n",
       "      <td>0</td>\n",
       "      <td>11</td>\n",
       "      <td>2021-07-02</td>\n",
       "      <td>2099-01-01</td>\n",
       "      <td>12</td>\n",
       "      <td>Avenal</td>\n",
       "      <td>None</td>\n",
       "      <td>3</td>\n",
       "      <td>12:27:19</td>\n",
       "      <td>Westbound</td>\n",
       "      <td>31.666138</td>\n",
       "      <td>Kings Area Rural Transit</td>\n",
       "    </tr>\n",
       "    <tr>\n",
       "      <th>267</th>\n",
       "      <td>148</td>\n",
       "      <td>0</td>\n",
       "      <td>2022-06-01</td>\n",
       "      <td>3494167986599370378</td>\n",
       "      <td>947</td>\n",
       "      <td>12</td>\n",
       "      <td>0</td>\n",
       "      <td>3</td>\n",
       "      <td>2021-07-02</td>\n",
       "      <td>2099-01-01</td>\n",
       "      <td>12</td>\n",
       "      <td>Avenal</td>\n",
       "      <td>None</td>\n",
       "      <td>3</td>\n",
       "      <td>07:26:32</td>\n",
       "      <td>Southbound</td>\n",
       "      <td>38.489930</td>\n",
       "      <td>Kings Area Rural Transit</td>\n",
       "    </tr>\n",
       "    <tr>\n",
       "      <th>268</th>\n",
       "      <td>148</td>\n",
       "      <td>0</td>\n",
       "      <td>2022-06-01</td>\n",
       "      <td>-4140891564404050759</td>\n",
       "      <td>950</td>\n",
       "      <td>12</td>\n",
       "      <td>0</td>\n",
       "      <td>27</td>\n",
       "      <td>2021-07-02</td>\n",
       "      <td>2099-01-01</td>\n",
       "      <td>12</td>\n",
       "      <td>Avenal</td>\n",
       "      <td>None</td>\n",
       "      <td>3</td>\n",
       "      <td>17:44:36.500000</td>\n",
       "      <td>Westbound</td>\n",
       "      <td>40.296843</td>\n",
       "      <td>Kings Area Rural Transit</td>\n",
       "    </tr>\n",
       "  </tbody>\n",
       "</table>\n",
       "</div>"
      ],
      "text/plain": [
       "     calitp_itp_id  calitp_url_number service_date             trip_key  \\\n",
       "266            148                  0   2022-06-01  2644978890892601525   \n",
       "267            148                  0   2022-06-01  3494167986599370378   \n",
       "268            148                  0   2022-06-01 -4140891564404050759   \n",
       "\n",
       "    trip_id route_id direction_id shape_id calitp_extracted_at  \\\n",
       "266     949       12            0       11          2021-07-02   \n",
       "267     947       12            0        3          2021-07-02   \n",
       "268     950       12            0       27          2021-07-02   \n",
       "\n",
       "    calitp_deleted_at route_short_name route_long_name route_desc route_type  \\\n",
       "266        2099-01-01               12          Avenal       None          3   \n",
       "267        2099-01-01               12          Avenal       None          3   \n",
       "268        2099-01-01               12          Avenal       None          3   \n",
       "\n",
       "         median_time   direction  mean_speed_mph        calitp_agency_name  \n",
       "266         12:27:19   Westbound       31.666138  Kings Area Rural Transit  \n",
       "267         07:26:32  Southbound       38.489930  Kings Area Rural Transit  \n",
       "268  17:44:36.500000   Westbound       40.296843  Kings Area Rural Transit  "
      ]
     },
     "execution_count": 132,
     "metadata": {},
     "output_type": "execute_result"
    }
   ],
   "source": [
    "kart_analysis.rt_trips >> filter(_.route_short_name == '12')"
   ]
  },
  {
   "cell_type": "code",
   "execution_count": 141,
   "id": "a3bc25a9-b9dd-4872-81b8-fc9d63f3fe9c",
   "metadata": {},
   "outputs": [],
   "source": [
    "# kart_analysis.stop_delay_view = kart_analysis.stop_delay_view >> mutate(last_loc = _.shape_meters.shift(1))"
   ]
  },
  {
   "cell_type": "code",
   "execution_count": 134,
   "id": "3f1efa62-2541-4f33-ac4e-d249f4b90368",
   "metadata": {},
   "outputs": [],
   "source": [
    "long_trip = kart_analysis.stop_delay_view >> filter(_.trip_id == '947') >> arrange(_.stop_sequence)"
   ]
  },
  {
   "cell_type": "code",
   "execution_count": 137,
   "id": "f57ea046-8a95-4b98-a1ac-640f2444b3d3",
   "metadata": {},
   "outputs": [],
   "source": [
    "test_center = (long_trip >> arrange(_.shape_meters)).iloc[10:49, :]"
   ]
  },
  {
   "cell_type": "code",
   "execution_count": 153,
   "id": "e07c6113-392e-4841-8269-539bee94b89e",
   "metadata": {},
   "outputs": [],
   "source": [
    "# kart_analysis.stop_delay_view.arrival_time = kart_analysis.stop_delay_view.apply(lambda x: x.arrival_time if x.arrival_time else x.actual_time, axis = 1)"
   ]
  },
  {
   "cell_type": "code",
   "execution_count": 154,
   "id": "11e142f4-5bf7-4785-b5fa-4063e743d6e4",
   "metadata": {},
   "outputs": [],
   "source": [
    "kart_analysis.stop_delay_view.arrival_time = kart_analysis.stop_delay_view.actual_time"
   ]
  },
  {
   "cell_type": "code",
   "execution_count": 155,
   "id": "51f1bf61-deee-47a5-a1b9-39ab254e6716",
   "metadata": {},
   "outputs": [
    {
     "name": "stderr",
     "output_type": "stream",
     "text": [
      "/home/jovyan/data-analyses/_shared_utils/shared_utils/utils.py:39: UserWarning: this is an initial implementation of Parquet/Feather file support and associated metadata.  This is tracking version 0.1.0 of the metadata specification at https://github.com/geopandas/geo-arrow-spec\n",
      "\n",
      "This metadata specification does not yet make stability promises.  We do not yet recommend using this in a production setting unless you are able to rewrite your Parquet/Feather files.\n",
      "\n",
      "To further ignore this warning, you can do: \n",
      "import warnings; warnings.filterwarnings('ignore', message='.*initial implementation of Parquet.*')\n",
      "/home/jovyan/data-analyses/_shared_utils/shared_utils/utils.py:39: UserWarning: this is an initial implementation of Parquet/Feather file support and associated metadata.  This is tracking version 0.1.0 of the metadata specification at https://github.com/geopandas/geo-arrow-spec\n",
      "\n",
      "This metadata specification does not yet make stability promises.  We do not yet recommend using this in a production setting unless you are able to rewrite your Parquet/Feather files.\n",
      "\n",
      "To further ignore this warning, you can do: \n",
      "import warnings; warnings.filterwarnings('ignore', message='.*initial implementation of Parquet.*')\n"
     ]
    }
   ],
   "source": [
    "kart_analysis.export_views_gcs()"
   ]
  },
  {
   "cell_type": "code",
   "execution_count": 156,
   "id": "7c3c1571-1f34-4012-b57e-1255246cf48a",
   "metadata": {},
   "outputs": [],
   "source": [
    "import rt_filter_map_plot"
   ]
  },
  {
   "cell_type": "code",
   "execution_count": 157,
   "id": "80b691e5-755b-4705-8303-adfc08212dad",
   "metadata": {},
   "outputs": [
    {
     "data": {
      "text/plain": [
       "<module 'rt_filter_map_plot' from '/home/jovyan/data-analyses/rt_delay/rt_filter_map_plot.py'>"
      ]
     },
     "execution_count": 157,
     "metadata": {},
     "output_type": "execute_result"
    }
   ],
   "source": [
    "importlib.reload(rt_filter_map_plot)"
   ]
  },
  {
   "cell_type": "code",
   "execution_count": 158,
   "id": "41a246e4-6abd-48cf-bc97-1300eced9cb4",
   "metadata": {},
   "outputs": [
    {
     "name": "stdout",
     "output_type": "stream",
     "text": [
      "found parquet\n"
     ]
    }
   ],
   "source": [
    "rt_day = rt_filter_map_plot.from_gcs(itp_id, analysis_date)"
   ]
  },
  {
   "cell_type": "code",
   "execution_count": 159,
   "id": "94dbbfd6-bd04-4a8f-a9af-fd68c3af6c3c",
   "metadata": {},
   "outputs": [],
   "source": [
    "rt_day.set_filter(start_time='06:00', end_time='09:00')"
   ]
  },
  {
   "cell_type": "code",
   "execution_count": 160,
   "id": "91eb01f4-cf66-4ea7-94ad-bd7c59f8eec1",
   "metadata": {},
   "outputs": [
    {
     "name": "stderr",
     "output_type": "stream",
     "text": [
      "TopologyException: assigned depths do not match at 15912.256659238848 -191580.72014725895\n",
      "TopologyException: assigned depths do not match at 32532.202493516623 -190255.07589254106\n",
      "TopologyException: assigned depths do not match at 32532.202493516623 -190255.07589254106\n",
      "/opt/conda/lib/python3.10/site-packages/shapely/ops.py:639: ShapelyDeprecationWarning: GeometryTypeError will derive from ShapelyError and not TypeError or ValueError in Shapely 2.0.\n",
      "/home/jovyan/data-analyses/rt_delay/rt_filter_map_plot.py:281: UserWarning: Geometry is in a geographic CRS. Results from 'centroid' are likely incorrect. Use 'GeoSeries.to_crs()' to re-project geometries to a projected CRS before this operation.\n",
      "\n",
      "/home/jovyan/data-analyses/rt_delay/rt_filter_map_plot.py:281: UserWarning: Geometry is in a geographic CRS. Results from 'centroid' are likely incorrect. Use 'GeoSeries.to_crs()' to re-project geometries to a projected CRS before this operation.\n",
      "\n"
     ]
    }
   ],
   "source": [
    "m = rt_day.segment_speed_map()"
   ]
  },
  {
   "cell_type": "code",
   "execution_count": 162,
   "id": "a5c915ea-f7ed-40ca-a9fa-a60a985025ab",
   "metadata": {},
   "outputs": [],
   "source": [
    "# m"
   ]
  },
  {
   "cell_type": "code",
   "execution_count": null,
   "id": "c7e49c81-07c4-4653-9e72-395c72ca8188",
   "metadata": {},
   "outputs": [],
   "source": []
  }
 ],
 "metadata": {
  "kernelspec": {
   "display_name": "Python 3 (ipykernel)",
   "language": "python",
   "name": "python3"
  },
  "language_info": {
   "codemirror_mode": {
    "name": "ipython",
    "version": 3
   },
   "file_extension": ".py",
   "mimetype": "text/x-python",
   "name": "python",
   "nbconvert_exporter": "python",
   "pygments_lexer": "ipython3",
   "version": "3.10.4"
  }
 },
 "nbformat": 4,
 "nbformat_minor": 5
}
