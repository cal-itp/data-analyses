{
 "cells": [
  {
   "cell_type": "code",
   "execution_count": null,
   "id": "46898b5c-b5cc-4096-ab68-8c3e42fab870",
   "metadata": {
    "tags": []
   },
   "outputs": [],
   "source": [
    "%%capture\n",
    "import warnings\n",
    "warnings.filterwarnings('ignore')\n",
    "\n",
    "import os\n",
    "os.environ[\"CALITP_BQ_MAX_BYTES\"] = str(800_000_000_000)\n",
    "# import shared_utils\n",
    "\n",
    "# from calitp.tables import tbl\n",
    "from calitp import query_sql\n",
    "import calitp.magics\n",
    "\n",
    "from siuba import *\n",
    "import pandas as pd\n",
    "import geopandas as gpd\n",
    "\n",
    "import datetime as dt\n",
    "\n",
    "import importlib\n",
    "import rt_filter_map_plot\n",
    "\n",
    "from IPython.display import display, Markdown, Latex, HTML\n",
    "import json"
   ]
  },
  {
   "cell_type": "code",
   "execution_count": null,
   "id": "9f15ed6a-5ab7-4f57-9695-3f762781b74c",
   "metadata": {
    "tags": [
     "parameters"
    ]
   },
   "outputs": [],
   "source": [
    "## parameters cell\n",
    "itp_id = 300"
   ]
  },
  {
   "cell_type": "code",
   "execution_count": null,
   "id": "5a8c665b-dfe8-4972-9ad8-5c78e3c58f89",
   "metadata": {},
   "outputs": [],
   "source": [
    "analysis_date = dt.date(2022, 10, 13)"
   ]
  },
  {
   "cell_type": "code",
   "execution_count": null,
   "id": "e4cbefc6-9bbb-4989-85b7-1f31da17fcb8",
   "metadata": {},
   "outputs": [],
   "source": [
    "%%capture\n",
    "rt_day = rt_filter_map_plot.from_gcs(itp_id, analysis_date)"
   ]
  },
  {
   "cell_type": "markdown",
   "id": "52110155-d104-4043-8376-3f83e82a959a",
   "metadata": {},
   "source": [
    "# Big Blue Bus"
   ]
  },
  {
   "cell_type": "markdown",
   "id": "7d5572cd-dd67-4e26-b100-a0e7472a4a17",
   "metadata": {
    "tags": []
   },
   "source": [
    "## About These Maps:\n",
    "\n",
    "* Each map shows bus (and rail, if applicable) speeds for Big Blue Bus\n",
    "* On the map, routes are split into segments corresponding to the distance between two stops, allowing you to focus on specific portions of the route experiencing a slowdown.\n",
    "* Route segments are arrow-shaped to indicate direction of travel.\n",
    "* Hover over, or click, a segment with your mouse to see the exact speed, route name, and transit service frequency in that segment. \n",
    "    * Higher-frequency routes (3+ trips per hour) are especially important, since those slowdowns correspond to more vehicles, and riders, delayed in traffic."
   ]
  },
  {
   "cell_type": "code",
   "execution_count": null,
   "id": "679ce74e-9620-4e38-b69a-badb281c9c0b",
   "metadata": {},
   "outputs": [],
   "source": [
    "rt_day.rt_trips.route_short_name.unique()"
   ]
  },
  {
   "cell_type": "code",
   "execution_count": null,
   "id": "1b9debd5-a9e6-4d89-8f11-4e5d32914645",
   "metadata": {},
   "outputs": [],
   "source": [
    "lincoln_rts = ['3', 'R3']"
   ]
  },
  {
   "cell_type": "markdown",
   "id": "704f0788-b4a8-497d-b2aa-c7ac6df939f4",
   "metadata": {},
   "source": [
    "## Afternoon Peak\n",
    "\n",
    "* apparently no usable data earlier in the day, to investigate"
   ]
  },
  {
   "cell_type": "code",
   "execution_count": null,
   "id": "923f1462-b34a-42d2-a632-c5eb3ac16ac6",
   "metadata": {},
   "outputs": [],
   "source": [
    "%%capture\n",
    "rt_day.set_filter(start_time='15:00', end_time='19:00', route_names=['R3'])"
   ]
  },
  {
   "cell_type": "code",
   "execution_count": null,
   "id": "8d5ce278-6b9e-40d0-a2c0-adbdcaa614df",
   "metadata": {},
   "outputs": [],
   "source": [
    "# rt_day.set_filter(start_time='15:00', end_time='19:00', route_names=['3'])"
   ]
  },
  {
   "cell_type": "code",
   "execution_count": null,
   "id": "bf3e3142-0ef8-4b92-ad29-fa000cf294d0",
   "metadata": {},
   "outputs": [],
   "source": [
    "## avoid papermill errors when map fails to render\n",
    "m = None"
   ]
  },
  {
   "cell_type": "code",
   "execution_count": null,
   "id": "5e46b095-7bc2-4552-a37b-661d076b2b51",
   "metadata": {
    "tags": []
   },
   "outputs": [],
   "source": [
    "%%capture\n",
    "m = rt_day.segment_speed_map(how='low_speeds')"
   ]
  },
  {
   "cell_type": "code",
   "execution_count": null,
   "id": "438516d2-8d07-41e3-808d-205b6996493e",
   "metadata": {},
   "outputs": [],
   "source": [
    "m"
   ]
  },
  {
   "cell_type": "code",
   "execution_count": null,
   "id": "19738d02-9b7f-405d-a350-d8b4a007bd76",
   "metadata": {},
   "outputs": [],
   "source": [
    "m = rt_day.segment_speed_map(how='average')"
   ]
  },
  {
   "cell_type": "code",
   "execution_count": null,
   "id": "7300c8a5-6d2a-4fab-8816-47638c71bb61",
   "metadata": {},
   "outputs": [],
   "source": [
    "m"
   ]
  },
  {
   "cell_type": "code",
   "execution_count": null,
   "id": "76b41cf8-9fb3-47f9-b2cb-f10c30b743ee",
   "metadata": {},
   "outputs": [],
   "source": [
    "# rt_day.detailed_map_view >> filter(_.shape_id == '26032') >> arrange(_.stop_sequence)"
   ]
  },
  {
   "cell_type": "code",
   "execution_count": null,
   "id": "32f166bb-4b3d-4dad-8af5-ab68c8ab2561",
   "metadata": {},
   "outputs": [],
   "source": [
    "rt_day.rt_trips.direction = rt_day.rt_trips.direction.map(lambda x: 'Eastbound' if x =='Southbound' else x) # rename partial data trip to match"
   ]
  },
  {
   "cell_type": "code",
   "execution_count": null,
   "id": "7c54495f-d5e6-4ad9-8dfc-c6e99b3890f3",
   "metadata": {},
   "outputs": [],
   "source": [
    "(rt_day._filter(rt_day.rt_trips)\n",
    " >> group_by(_.route_short_name, _.shape_id, _.direction)\n",
    " >> summarize(mean_mph = _.mean_speed_mph.mean())\n",
    ")"
   ]
  },
  {
   "cell_type": "markdown",
   "id": "05fa2f2b-41b8-44cd-b78a-f991b0c06a3c",
   "metadata": {},
   "source": [
    "# Initial Thoughts\n",
    "\n",
    "* Rapid 3 often slower than standard 3\n",
    "* Rapid 3 not currently using Lincoln Blvd S of Manchester, routing is Manchester to Sepulveda\n",
    "    * Previous iterations of route did -- unsure if change was due to congestion or desire to serve destinations along Manchester and the LAX City Bus Center\n",
    "    * This new routing also seems to better serve the future LAX Airport Metro Connector\n",
    "    * Let's assume the new routing for this analysis -- these segments have fairly high speeds anyhow\n",
    "* No bus lanes installed on SHN portion yet (existing lane in City of Santa Monica only)\n",
    "\n",
    "## Speedmap Interpretation (PM Peak)\n",
    "\n",
    "* _29 minutes_ for the average R3 trip to travel 1.5 miles from Broadway Street, past Venice Bl, to SR90\n",
    "    * at the 20th percentile for each segment, over 45 minutes to go that same distance!\n",
    "    \n",
    "## Corridor Delay Interpretation\n",
    "\n",
    "* Define corridor as Ozone to Manchester, starting at beginning of SHN portion and ending where BBB 3/R3 routes diverge\n",
    "* Weekday average schedule delay is _400 minutes_, weekday average speed-based delay is _1226 minutes_\n",
    "* If bus lanes achieve 16mph average, a speed already exceeded on less congested parts of route, riders would save 20 hours per day _and_ Big Blue Bus would be able to add 20 additional trips with the same number of operating hours - further improving the rider experience and reducing travel times"
   ]
  },
  {
   "cell_type": "code",
   "execution_count": null,
   "id": "42185012-56f0-4a7e-a799-4fce599bab4d",
   "metadata": {},
   "outputs": [],
   "source": [
    "rt_day.set_filter(start_time='15:00', end_time='19:00', route_names=lincoln_rts, shape_ids=['26032'])"
   ]
  },
  {
   "cell_type": "code",
   "execution_count": null,
   "id": "7b1b70b7-1a44-4733-bf28-147f7e693800",
   "metadata": {},
   "outputs": [],
   "source": [
    "rt_day.chart_variability()"
   ]
  },
  {
   "cell_type": "code",
   "execution_count": null,
   "id": "4ef5952a-a076-4117-abb0-68d616a5c030",
   "metadata": {},
   "outputs": [],
   "source": [
    "rt_day.set_filter(start_time='15:00', end_time='19:00', route_names=lincoln_rts, shape_ids=['26031'])"
   ]
  },
  {
   "cell_type": "code",
   "execution_count": null,
   "id": "1e204f6a-c94b-4388-9859-5d5687135a1f",
   "metadata": {
    "tags": []
   },
   "outputs": [],
   "source": [
    "rt_day.chart_variability()"
   ]
  },
  {
   "cell_type": "markdown",
   "id": "32269064-74dc-4640-bd01-1dfabc2e0f97",
   "metadata": {},
   "source": [
    "# Corridor Delay"
   ]
  },
  {
   "cell_type": "code",
   "execution_count": null,
   "id": "e20cb6ad-f133-4488-859f-8417b3a49d97",
   "metadata": {},
   "outputs": [],
   "source": [
    "# corridor = gpd.read_file('./corridors_100buses/lincoln_ozone_manchester.geojson')"
   ]
  },
  {
   "cell_type": "code",
   "execution_count": null,
   "id": "eb3e595e-ce74-4359-adcb-629450ef7a6b",
   "metadata": {},
   "outputs": [],
   "source": [
    "sub_corridor = gpd.read_file('./corridors_100buses/lincoln_ozone_lucille.geojson')"
   ]
  },
  {
   "cell_type": "code",
   "execution_count": null,
   "id": "c20ddc15-9f46-4674-9ce4-40a7127518a2",
   "metadata": {},
   "outputs": [],
   "source": [
    "rt_day.add_corridor(sub_corridor)"
   ]
  },
  {
   "cell_type": "code",
   "execution_count": null,
   "id": "0ae6c18e-ad6d-4829-a887-48d7fa766fcb",
   "metadata": {},
   "outputs": [],
   "source": [
    "rt_day.quick_map_corridor()"
   ]
  },
  {
   "cell_type": "code",
   "execution_count": null,
   "id": "4c737be1-3218-4e17-9ee6-ff8f0dd80818",
   "metadata": {},
   "outputs": [],
   "source": [
    "rt_day.set_filter(route_names=lincoln_rts)"
   ]
  },
  {
   "cell_type": "code",
   "execution_count": null,
   "id": "4951c5ca-0614-46c2-a38e-3dd54e7e87e8",
   "metadata": {},
   "outputs": [],
   "source": [
    "rt_day.corridor_metrics()"
   ]
  },
  {
   "cell_type": "code",
   "execution_count": null,
   "id": "f7adac1c-5fa7-4bd0-9282-e06a28df5d76",
   "metadata": {},
   "outputs": [],
   "source": [
    "rt_day._filter(rt_day.endpoint_delay_view).delay_seconds.median()"
   ]
  },
  {
   "cell_type": "code",
   "execution_count": null,
   "id": "d8adf547-037f-4d6d-843b-20d82243c084",
   "metadata": {},
   "outputs": [],
   "source": [
    "890/60"
   ]
  },
  {
   "cell_type": "markdown",
   "id": "60bec2a8-f4d5-437f-84fd-c517d72caa6b",
   "metadata": {},
   "source": [
    "## Averaged Metrics"
   ]
  },
  {
   "cell_type": "code",
   "execution_count": null,
   "id": "d352079c-b829-4435-b46c-ad5ee4d60494",
   "metadata": {},
   "outputs": [],
   "source": [
    "import numpy as np\n",
    "from tqdm.notebook import tqdm"
   ]
  },
  {
   "cell_type": "code",
   "execution_count": null,
   "id": "622dd4d0-9b27-486e-ac45-fa198ff8bb38",
   "metadata": {},
   "outputs": [],
   "source": [
    "full_wk = np.arange('2022-10-08', '2022-10-15', dtype='datetime64[D]') # 7-day week"
   ]
  },
  {
   "cell_type": "code",
   "execution_count": null,
   "id": "94ee16ba-4e53-4893-8757-e9c9aa107b45",
   "metadata": {},
   "outputs": [],
   "source": [
    "weekdays = np.arange('2022-10-10', '2022-10-15', dtype='datetime64[D]') # weekdays"
   ]
  },
  {
   "cell_type": "code",
   "execution_count": null,
   "id": "7e4ccab3-538d-4f48-8d55-03adaffbde9a",
   "metadata": {},
   "outputs": [],
   "source": [
    "def average_metrics(itp_id, date_range, pbar, filter_dict=None):\n",
    "\n",
    "    schedule_metrics = []\n",
    "    speed_metrics = []\n",
    "    for date in date_range:\n",
    "        date = date.astype(dt.date)\n",
    "        try:\n",
    "            rt_day = rt_filter_map_plot.from_gcs(itp_id, date, pbar)\n",
    "            rt_day.add_corridor(sub_corridor)\n",
    "            if filter_dict:\n",
    "                rt_day.set_filter(**filter_dict)\n",
    "            _m = rt_filter_map_plot.RtFilterMapper.segment_speed_map(rt_day, corridor=True)\n",
    "            metrics = rt_day.corridor_metrics()\n",
    "            schedule_metrics += [metrics['schedule_metric_minutes']]\n",
    "            speed_metrics += [metrics['speed_metric_minutes']]\n",
    "            print(f'complete for date: {date}')\n",
    "        except Exception as e:\n",
    "            print(f'failed for date: {date}')\n",
    "            print(e)\n",
    "            continue\n",
    "    schedule_metric = np.round(np.mean(schedule_metrics), 0)\n",
    "    speed_metric = np.round(np.mean(speed_metrics), 0)\n",
    "    return {'avg_schedule_metric_minutes': schedule_metric,\n",
    "           'avg_speed_metric_minutes': speed_metric,\n",
    "           'all_schedule': schedule_metrics,\n",
    "           'all_speed': speed_metrics}"
   ]
  },
  {
   "cell_type": "code",
   "execution_count": null,
   "id": "b48b00d6-a73b-4fa8-b9cd-c9be1afb76b6",
   "metadata": {},
   "outputs": [],
   "source": [
    "pbar = tqdm()"
   ]
  },
  {
   "cell_type": "code",
   "execution_count": null,
   "id": "705e2b4d-f5df-423b-b9df-f76560536238",
   "metadata": {},
   "outputs": [],
   "source": [
    "metrics_unfiltered = average_metrics(300, weekdays, pbar)"
   ]
  },
  {
   "cell_type": "code",
   "execution_count": null,
   "id": "b18eaca0-52b5-4a38-893a-bba258ad11ea",
   "metadata": {},
   "outputs": [],
   "source": [
    "metrics_unfiltered"
   ]
  },
  {
   "cell_type": "markdown",
   "id": "66ecb3cd-7873-4060-ba31-4ac1ad5c34dc",
   "metadata": {},
   "source": [
    "## What about midday? "
   ]
  },
  {
   "cell_type": "code",
   "execution_count": null,
   "id": "2188f4dd-9e32-424b-88ed-68920c91700a",
   "metadata": {},
   "outputs": [],
   "source": [
    "rt_day.analysis_date"
   ]
  },
  {
   "cell_type": "code",
   "execution_count": null,
   "id": "33728a77-8caf-40b6-af98-e2aa46996d2f",
   "metadata": {},
   "outputs": [],
   "source": [
    "rt_day.set_filter(start_time='09:00', end_time='16:00', route_names=['3', 'R3'])"
   ]
  },
  {
   "cell_type": "code",
   "execution_count": null,
   "id": "e934cebf-212b-456b-9e89-b3e6174be428",
   "metadata": {},
   "outputs": [],
   "source": [
    "m = rt_day.segment_speed_map(how='average')"
   ]
  },
  {
   "cell_type": "code",
   "execution_count": null,
   "id": "fc751984-303e-4d08-ba8a-03934b698f39",
   "metadata": {},
   "outputs": [],
   "source": [
    "m"
   ]
  },
  {
   "cell_type": "code",
   "execution_count": null,
   "id": "f52d17ae-7c3c-46ae-a62d-ff0182b1d737",
   "metadata": {},
   "outputs": [],
   "source": [
    "filter_dict = {'start_time': '09:00', 'end_time': '16:00'}"
   ]
  },
  {
   "cell_type": "code",
   "execution_count": null,
   "id": "0e84e9a0-b6a5-4a41-9856-8cf2a8b38a3d",
   "metadata": {},
   "outputs": [],
   "source": [
    "midday_delay = average_metrics(300, weekdays, pbar, filter_dict)"
   ]
  },
  {
   "cell_type": "code",
   "execution_count": null,
   "id": "c3928fb4-0c98-469b-b6ff-63672ee06da9",
   "metadata": {},
   "outputs": [],
   "source": [
    "midday_delay"
   ]
  },
  {
   "cell_type": "code",
   "execution_count": null,
   "id": "20caf87a-63cb-4a30-a329-032c2b3c4d6d",
   "metadata": {},
   "outputs": [],
   "source": []
  }
 ],
 "metadata": {
  "kernelspec": {
   "display_name": "Python 3 (ipykernel)",
   "language": "python",
   "name": "python3"
  },
  "language_info": {
   "codemirror_mode": {
    "name": "ipython",
    "version": 3
   },
   "file_extension": ".py",
   "mimetype": "text/x-python",
   "name": "python",
   "nbconvert_exporter": "python",
   "pygments_lexer": "ipython3",
   "version": "3.10.6"
  }
 },
 "nbformat": 4,
 "nbformat_minor": 5
}
