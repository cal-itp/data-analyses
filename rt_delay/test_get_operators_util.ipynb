{
 "cells": [
  {
   "cell_type": "code",
   "execution_count": 1,
   "id": "41fb837b-047e-4e0e-a2a0-20193696bb4b",
   "metadata": {},
   "outputs": [],
   "source": [
    "import warnings\n",
    "warnings.filterwarnings('ignore')\n",
    "\n",
    "import os\n",
    "os.environ[\"CALITP_BQ_MAX_BYTES\"] = str(800_000_000_000)\n",
    "import shared_utils\n",
    "\n",
    "from calitp.tables import tbl\n",
    "from calitp import query_sql\n",
    "import calitp.magics\n",
    "\n",
    "from siuba import *\n",
    "import pandas as pd\n",
    "import numpy as np\n",
    "import geopandas as gpd\n",
    "\n",
    "import datetime as dt\n",
    "\n",
    "import importlib\n",
    "import rt_analysis as rt\n",
    "import rt_filter_map_plot\n",
    "\n",
    "import gcsfs\n",
    "fs = gcsfs.GCSFileSystem()\n",
    "\n",
    "import tqdm"
   ]
  },
  {
   "cell_type": "markdown",
   "id": "c0a048e0-2ff8-474e-8bfb-0579ececeec7",
   "metadata": {},
   "source": [
    "# Test Util for Checking/Generating Intermediate Operator Day Analysis Output"
   ]
  },
  {
   "cell_type": "code",
   "execution_count": 2,
   "id": "08163351-1330-48b0-9c06-718d55f39cdf",
   "metadata": {},
   "outputs": [],
   "source": [
    "# testing parameters: a date that we don't have (saturday)\n",
    "analysis_date = dt.date(2022, 10, 1)"
   ]
  },
  {
   "cell_type": "code",
   "execution_count": 3,
   "id": "8f950e8c-e34d-4a9b-8a53-c3d7c69c9013",
   "metadata": {},
   "outputs": [],
   "source": [
    "fs_list = fs.ls(f'{shared_utils.rt_utils.GCS_FILE_PATH}rt_trips/')"
   ]
  },
  {
   "cell_type": "code",
   "execution_count": 11,
   "id": "17ae056b-8431-4f59-a595-f915a9db35c4",
   "metadata": {},
   "outputs": [],
   "source": [
    "def get_operators(analysis_date, operator_list, generate_new=False):\n",
    "    \n",
    "    day = str(analysis_date.day).zfill(2)\n",
    "    month = str(analysis_date.month).zfill(2)\n",
    "    ## now finds ran operators on specific analysis date\n",
    "    ran_operators = [int(path.split('rt_trips/')[1].split('_')[0])\n",
    "                     for path in fs_list\n",
    "                     if path.split('rt_trips/')[1] and path.split('rt_trips/')[1].split('_')[1] == month and path.split('rt_trips/')[1].split('_')[2][:2] == day]\n",
    "    \n",
    "    op_list_runstatus = {}\n",
    "    for itp_id in operator_list:\n",
    "        if itp_id in ran_operators:\n",
    "            print(f'already ran: {itp_id}')\n",
    "            op_list_runstatus[itp_id] = 'already_ran'\n",
    "            continue\n",
    "        else:\n",
    "            if not generate_new:\n",
    "                print (f'not yet run: {itp_id}')\n",
    "                op_list_runstatus[itp_id] = 'not_yet_run'\n",
    "            elif generate_new:\n",
    "                print(f'calculating for agency: {itp_id}...')\n",
    "                try:\n",
    "                    rt_day = rt.OperatorDayAnalysis(itp_id, analysis_date)\n",
    "                    rt_day.export_views_gcs()\n",
    "                    print(f'complete for agency: {itp_id}')\n",
    "                    op_list_runstatus[itp_id] = 'newly_run'\n",
    "                except Exception as e:\n",
    "                    print(f'rt failed for agency {itp_id}')\n",
    "                    op_list_runstatus[itp_id] = 'new_failed_run'\n",
    "                    print(e)\n",
    "    return op_list_runstatus "
   ]
  },
  {
   "cell_type": "code",
   "execution_count": 7,
   "id": "7e04a9b3-800b-4d88-af69-b8a8e1887637",
   "metadata": {},
   "outputs": [
    {
     "name": "stdout",
     "output_type": "stream",
     "text": [
      "already ran: 293\n"
     ]
    }
   ],
   "source": [
    "get_operators(analysis_date,[293],generate_new=False)"
   ]
  },
  {
   "cell_type": "code",
   "execution_count": 12,
   "id": "7061cc43-4a92-4387-81f2-41f466958b55",
   "metadata": {},
   "outputs": [
    {
     "name": "stdout",
     "output_type": "stream",
     "text": [
      "calculating for agency: 208...\n",
      "found parquet\n",
      "found parquet\n",
      "found parquet\n",
      "found parquet\n",
      "found parquet\n",
      "complete for agency: 208\n",
      "already ran: 293\n",
      "{208: 'newly_run', 293: 'already_ran'}\n"
     ]
    }
   ],
   "source": [
    "func_results_2 = get_operators(analysis_date,[208,293],generate_new=True)\n",
    "print(func_results_2)"
   ]
  },
  {
   "cell_type": "code",
   "execution_count": null,
   "id": "c6e7b15e-ed77-47c3-86db-a66c1e50ffb0",
   "metadata": {},
   "outputs": [],
   "source": []
  }
 ],
 "metadata": {
  "kernelspec": {
   "display_name": "Python 3 (ipykernel)",
   "language": "python",
   "name": "python3"
  },
  "language_info": {
   "codemirror_mode": {
    "name": "ipython",
    "version": 3
   },
   "file_extension": ".py",
   "mimetype": "text/x-python",
   "name": "python",
   "nbconvert_exporter": "python",
   "pygments_lexer": "ipython3",
   "version": "3.10.5"
  }
 },
 "nbformat": 4,
 "nbformat_minor": 5
}
