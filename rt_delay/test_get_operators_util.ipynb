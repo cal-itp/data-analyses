{
 "cells": [
  {
   "cell_type": "code",
   "execution_count": 1,
   "id": "41fb837b-047e-4e0e-a2a0-20193696bb4b",
   "metadata": {},
   "outputs": [],
   "source": [
    "import warnings\n",
    "warnings.filterwarnings('ignore')\n",
    "\n",
    "import os\n",
    "os.environ[\"CALITP_BQ_MAX_BYTES\"] = str(800_000_000_000)\n",
    "import shared_utils\n",
    "\n",
    "from calitp import query_sql\n",
    "import calitp.magics\n",
    "\n",
    "from siuba import *\n",
    "import pandas as pd\n",
    "import numpy as np\n",
    "import geopandas as gpd\n",
    "\n",
    "import datetime as dt\n",
    "\n",
    "import importlib\n",
    "import rt_analysis as rt\n",
    "\n",
    "import gcsfs\n",
    "fs = gcsfs.GCSFileSystem()\n",
    "\n",
    "import tqdm"
   ]
  },
  {
   "cell_type": "markdown",
   "id": "c0a048e0-2ff8-474e-8bfb-0579ececeec7",
   "metadata": {},
   "source": [
    "# Test Util for Checking/Generating Intermediate Operator Day Analysis Output"
   ]
  },
  {
   "cell_type": "code",
   "execution_count": 2,
   "id": "08163351-1330-48b0-9c06-718d55f39cdf",
   "metadata": {},
   "outputs": [],
   "source": [
    "# testing parameters: a date that we don't have (saturday)\n",
    "analysis_date = dt.date(2022, 10, 29)"
   ]
  },
  {
   "cell_type": "code",
   "execution_count": 3,
   "id": "7e04a9b3-800b-4d88-af69-b8a8e1887637",
   "metadata": {},
   "outputs": [
    {
     "name": "stdout",
     "output_type": "stream",
     "text": [
      "not yet run: 293\n"
     ]
    },
    {
     "data": {
      "text/plain": [
       "{293: 'not_yet_run'}"
      ]
     },
     "execution_count": 3,
     "metadata": {},
     "output_type": "execute_result"
    }
   ],
   "source": [
    "shared_utils.rt_utils.get_operators(analysis_date,[293])"
   ]
  },
  {
   "cell_type": "code",
   "execution_count": 8,
   "id": "898b6762-415a-4de3-b224-24cbca0079b5",
   "metadata": {},
   "outputs": [
    {
     "data": {
      "text/plain": [
       "'2022-10-29'"
      ]
     },
     "execution_count": 8,
     "metadata": {},
     "output_type": "execute_result"
    }
   ],
   "source": [
    "date_iso = analysis_date.isoformat()\n",
    "date_iso"
   ]
  },
  {
   "cell_type": "code",
   "execution_count": 13,
   "id": "d7fbe0c9-1414-4e92-ab50-f0e1b47ab10c",
   "metadata": {},
   "outputs": [],
   "source": [
    "analysis_date = dt.date(2022, 10, 15)"
   ]
  },
  {
   "cell_type": "code",
   "execution_count": 14,
   "id": "95dcd149-244c-4997-ab3a-74b74dae229e",
   "metadata": {},
   "outputs": [
    {
     "name": "stdout",
     "output_type": "stream",
     "text": [
      "not yet run: 293\n"
     ]
    },
    {
     "data": {
      "text/plain": [
       "{293: 'not_yet_run'}"
      ]
     },
     "execution_count": 14,
     "metadata": {},
     "output_type": "execute_result"
    }
   ],
   "source": [
    "#try a date that we do have\n",
    "shared_utils.rt_utils.get_operators(analysis_date,[293])"
   ]
  },
  {
   "cell_type": "code",
   "execution_count": 6,
   "id": "7061cc43-4a92-4387-81f2-41f466958b55",
   "metadata": {},
   "outputs": [
    {
     "name": "stdout",
     "output_type": "stream",
     "text": [
      "not yet run: 293\n",
      "calculating for agency: 293...\n",
      "getting trips...\n",
      "complete for agency: 293\n"
     ]
    }
   ],
   "source": [
    "rt.run_operators(analysis_date,[293])"
   ]
  },
  {
   "cell_type": "code",
   "execution_count": 8,
   "id": "e92f5c75-9bb9-4a10-8be0-64947b9ace08",
   "metadata": {},
   "outputs": [
    {
     "name": "stdout",
     "output_type": "stream",
     "text": [
      "already ran: 293\n",
      "not yet run: 148\n",
      "calculating for agency: 148...\n",
      "getting trips...\n",
      "complete for agency: 148\n"
     ]
    }
   ],
   "source": [
    "rt.run_operators(analysis_date,[293,148])"
   ]
  },
  {
   "cell_type": "code",
   "execution_count": null,
   "id": "c6e7b15e-ed77-47c3-86db-a66c1e50ffb0",
   "metadata": {},
   "outputs": [],
   "source": []
  }
 ],
 "metadata": {
  "kernelspec": {
   "display_name": "Python 3 (ipykernel)",
   "language": "python",
   "name": "python3"
  },
  "language_info": {
   "codemirror_mode": {
    "name": "ipython",
    "version": 3
   },
   "file_extension": ".py",
   "mimetype": "text/x-python",
   "name": "python",
   "nbconvert_exporter": "python",
   "pygments_lexer": "ipython3",
   "version": "3.10.6"
  }
 },
 "nbformat": 4,
 "nbformat_minor": 5
}
