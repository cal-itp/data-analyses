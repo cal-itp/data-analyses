{
 "cells": [
  {
   "cell_type": "code",
   "execution_count": 1,
   "id": "b6f20444-5625-4598-95ea-18bc6cea0ab4",
   "metadata": {},
   "outputs": [
    {
     "name": "stderr",
     "output_type": "stream",
     "text": [
      "/opt/conda/lib/python3.9/site-packages/geopandas/_compat.py:123: UserWarning: The Shapely GEOS version (3.10.3-CAPI-1.16.1) is incompatible with the GEOS version PyGEOS was compiled with (3.10.1-CAPI-1.16.0). Conversions between both will be slow.\n",
      "  warnings.warn(\n"
     ]
    }
   ],
   "source": [
    "import os\n",
    "os.environ[\"CALITP_BQ_MAX_BYTES\"] = str(1_000_000_000_000) ## 1TB?\n",
    "import sys\n",
    "\n",
    "from siuba import *\n",
    "import pandas as pd\n",
    "import geopandas as gpd\n",
    "import gcsfs\n",
    "import datetime as dt\n",
    "import time\n",
    "import shapely\n",
    "\n",
    "from rt_analysis import rt_parser\n",
    "from rt_analysis import rt_filter_map_plot\n",
    "\n",
    "import shared_utils\n",
    "from calitp_data_analysis.tables import tbls\n",
    "\n",
    "import pyaml\n",
    "import yaml\n",
    "\n",
    "from tqdm.notebook import tqdm"
   ]
  },
  {
   "cell_type": "code",
   "execution_count": 2,
   "id": "1e4e2765-eea8-400b-bd71-6f372c8ce1ca",
   "metadata": {},
   "outputs": [],
   "source": [
    "# date for v2 testing\n",
    "analysis_date = dt.date(2023, 3, 15)"
   ]
  },
  {
   "cell_type": "code",
   "execution_count": 3,
   "id": "10df437b-cace-42ba-9c8b-49bfe513e32e",
   "metadata": {},
   "outputs": [],
   "source": [
    "# tbls.mart_transit_database.dim_provider_gtfs_data() >> head(3)"
   ]
  },
  {
   "cell_type": "code",
   "execution_count": 29,
   "id": "71257720-4bca-45d6-992c-05e134c93db7",
   "metadata": {},
   "outputs": [],
   "source": [
    "def build_speedmap_index(analysis_date: dt.date):\n",
    "    '''\n",
    "    An index table for tracking down a given org's schedule/rt feeds\n",
    "    returns LazyTbl\n",
    "    '''\n",
    "    analysis_dt = dt.datetime.combine(analysis_date, dt.time(0, 0))\n",
    "    \n",
    "    dim_orgs = (tbls.mart_transit_database.dim_organizations()\n",
    "                >> filter(_._valid_from <= analysis_dt, _._valid_to > analysis_dt)\n",
    "                >> select(_.source_record_id, _.caltrans_district)\n",
    "               )\n",
    "    \n",
    "    orgs_with_vp = (tbls.mart_transit_database.dim_provider_gtfs_data()\n",
    "    >> filter(_._valid_from <= analysis_dt, _._valid_to > analysis_dt,\n",
    "              _.reports_site_assessed, _.vehicle_positions_gtfs_dataset_key != None)\n",
    "    >> inner_join(_, dim_orgs, on = {'organization_source_record_id': 'source_record_id'})\n",
    "    >> select(_.organization_itp_id, _.organization_name, _.organization_source_record_id,\n",
    "             _.caltrans_district, _._is_current, _.vehicle_positions_gtfs_dataset_key)\n",
    "    >> collect()\n",
    "    )\n",
    "    assert not orgs_with_vp.isnull().values.any()\n",
    "    orgs_with_vp['analysis_date'] = analysis_date\n",
    "    orgs_with_vp = orgs_with_vp >> distinct(_.organization_name,\n",
    "                    _.organization_itp_id, _.organization_source_record_id,\n",
    "                    _.caltrans_district, _._is_current, _.analysis_date\n",
    "                    # ,_.vehicle_positions_gtfs_dataset_key\n",
    "                                           )\n",
    "    return orgs_with_vp"
   ]
  },
  {
   "cell_type": "code",
   "execution_count": 30,
   "id": "35802601-3670-43e1-9c13-89b48b985f67",
   "metadata": {},
   "outputs": [],
   "source": [
    "speedmap_index = build_speedmap_index(analysis_date)"
   ]
  },
  {
   "cell_type": "code",
   "execution_count": 31,
   "id": "ae71d1ea-8166-49b7-ace9-48fbf94b15eb",
   "metadata": {},
   "outputs": [],
   "source": [
    "# df2 >> filter(_.organization_itp_id.isin([315, 246]))\n",
    "# # rail operators..."
   ]
  },
  {
   "cell_type": "code",
   "execution_count": 32,
   "id": "d3fae134-6437-4035-b548-ba6cf99f24fd",
   "metadata": {},
   "outputs": [
    {
     "data": {
      "text/html": [
       "<div>\n",
       "<style scoped>\n",
       "    .dataframe tbody tr th:only-of-type {\n",
       "        vertical-align: middle;\n",
       "    }\n",
       "\n",
       "    .dataframe tbody tr th {\n",
       "        vertical-align: top;\n",
       "    }\n",
       "\n",
       "    .dataframe thead th {\n",
       "        text-align: right;\n",
       "    }\n",
       "</style>\n",
       "<table border=\"1\" class=\"dataframe\">\n",
       "  <thead>\n",
       "    <tr style=\"text-align: right;\">\n",
       "      <th></th>\n",
       "      <th>organization_name</th>\n",
       "      <th>organization_itp_id</th>\n",
       "      <th>organization_source_record_id</th>\n",
       "      <th>caltrans_district</th>\n",
       "      <th>_is_current</th>\n",
       "      <th>analysis_date</th>\n",
       "    </tr>\n",
       "  </thead>\n",
       "  <tbody>\n",
       "    <tr>\n",
       "      <th>36</th>\n",
       "      <td>Alameda-Contra Costa Transit District</td>\n",
       "      <td>4</td>\n",
       "      <td>recOZgevYf7Jimm9L</td>\n",
       "      <td>04 - Oakland</td>\n",
       "      <td>False</td>\n",
       "      <td>2023-03-15</td>\n",
       "    </tr>\n",
       "  </tbody>\n",
       "</table>\n",
       "</div>"
      ],
      "text/plain": [
       "                        organization_name  organization_itp_id  \\\n",
       "36  Alameda-Contra Costa Transit District                    4   \n",
       "\n",
       "   organization_source_record_id caltrans_district  _is_current analysis_date  \n",
       "36             recOZgevYf7Jimm9L      04 - Oakland        False    2023-03-15  "
      ]
     },
     "execution_count": 32,
     "metadata": {},
     "output_type": "execute_result"
    }
   ],
   "source": [
    "speedmap_index >> filter(_.organization_itp_id == 4)"
   ]
  },
  {
   "cell_type": "markdown",
   "id": "8e9b3df0-21fd-4c6f-ae8e-2ca074a9abbc",
   "metadata": {},
   "source": [
    "## Check/Run rt_parser"
   ]
  },
  {
   "cell_type": "code",
   "execution_count": 33,
   "id": "d7491bd5-8ffa-4535-aa7a-980a8aee78a0",
   "metadata": {
    "tags": []
   },
   "outputs": [],
   "source": [
    "# vp_count = speedmap_index >> count(_.vehicle_positions_gtfs_dataset_key)\n",
    "\n",
    "# multiples = speedmap_index >> inner_join(_, vp_count, on = 'vehicle_positions_gtfs_dataset_key') >> arrange(-_.n)\n",
    "\n",
    "# shared_utils.rt_utils.show_full_df(multiples)"
   ]
  },
  {
   "cell_type": "code",
   "execution_count": 34,
   "id": "057ce25e-7e4d-4861-8b5f-ae42d763e406",
   "metadata": {},
   "outputs": [],
   "source": [
    "def check_intermediate_data(speedmap_index_df):\n",
    "    \n",
    "    analysis_date = speedmap_index_df.analysis_date.iloc[0]\n",
    "    progress_path = f'./_rt_progress_{analysis_date}.parquet'\n",
    "    already_tried = os.path.exists(progress_path)\n",
    "    if already_tried:\n",
    "        print(f'found {progress_path}, resuming')\n",
    "        speedmap_index_joined = pd.read_parquet(progress_path)\n",
    "    else:\n",
    "        ## TODO update util to use v1 or v2 folders on bucket? new util?\n",
    "        operators_ran = shared_utils.rt_utils.get_operators(analysis_date,\n",
    "                            speedmap_index_df.organization_itp_id.to_list())\n",
    "        operators_ran_df = pd.DataFrame.from_dict(\n",
    "                    operators_ran, orient='index', columns = ['status'])\n",
    "        operators_ran_df.index.name = 'itp_id'\n",
    "        speedmap_index_joined = speedmap_index >> inner_join(_,\n",
    "                                                         operators_ran_df, on={'organization_itp_id': 'itp_id'})\n",
    "    return speedmap_index_joined"
   ]
  },
  {
   "cell_type": "code",
   "execution_count": 35,
   "id": "aae27032-95dc-4734-acc8-5d9161a53119",
   "metadata": {},
   "outputs": [],
   "source": [
    "speedmap_index_joined = check_intermediate_data(speedmap_index)"
   ]
  },
  {
   "cell_type": "code",
   "execution_count": 36,
   "id": "7a19cd7e-e2e7-4131-b5e2-b5250edd2e1b",
   "metadata": {
    "tags": []
   },
   "outputs": [],
   "source": [
    "# shared_utils.rt_utils.show_full_df(speedmap_index_joined)"
   ]
  },
  {
   "cell_type": "code",
   "execution_count": 37,
   "id": "9d1ac6d4-da1b-4ebb-8e06-20504e737a9c",
   "metadata": {},
   "outputs": [
    {
     "data": {
      "text/html": [
       "<div>\n",
       "<style scoped>\n",
       "    .dataframe tbody tr th:only-of-type {\n",
       "        vertical-align: middle;\n",
       "    }\n",
       "\n",
       "    .dataframe tbody tr th {\n",
       "        vertical-align: top;\n",
       "    }\n",
       "\n",
       "    .dataframe thead th {\n",
       "        text-align: right;\n",
       "    }\n",
       "</style>\n",
       "<table border=\"1\" class=\"dataframe\">\n",
       "  <thead>\n",
       "    <tr style=\"text-align: right;\">\n",
       "      <th></th>\n",
       "      <th>organization_name</th>\n",
       "      <th>organization_itp_id</th>\n",
       "      <th>organization_source_record_id</th>\n",
       "      <th>caltrans_district</th>\n",
       "      <th>_is_current</th>\n",
       "      <th>analysis_date</th>\n",
       "      <th>status</th>\n",
       "    </tr>\n",
       "  </thead>\n",
       "  <tbody>\n",
       "    <tr>\n",
       "      <th>0</th>\n",
       "      <td>Nevada County</td>\n",
       "      <td>221</td>\n",
       "      <td>reczUcQgqgtMpkpKC</td>\n",
       "      <td>03 - Marysville</td>\n",
       "      <td>True</td>\n",
       "      <td>2023-03-15</td>\n",
       "      <td>already_ran</td>\n",
       "    </tr>\n",
       "    <tr>\n",
       "      <th>1</th>\n",
       "      <td>Santa Clara Valley Transportation Authority</td>\n",
       "      <td>294</td>\n",
       "      <td>recC5CT95EufmQCXr</td>\n",
       "      <td>04 - Oakland</td>\n",
       "      <td>True</td>\n",
       "      <td>2023-03-15</td>\n",
       "      <td>already_ran</td>\n",
       "    </tr>\n",
       "    <tr>\n",
       "      <th>2</th>\n",
       "      <td>City of Union City</td>\n",
       "      <td>350</td>\n",
       "      <td>recmB4uxrVLRXYF3L</td>\n",
       "      <td>04 - Oakland</td>\n",
       "      <td>False</td>\n",
       "      <td>2023-03-15</td>\n",
       "      <td>already_ran</td>\n",
       "    </tr>\n",
       "    <tr>\n",
       "      <th>3</th>\n",
       "      <td>City of Elk Grove</td>\n",
       "      <td>105</td>\n",
       "      <td>recaJnArpFEk5QooE</td>\n",
       "      <td>03 - Marysville</td>\n",
       "      <td>True</td>\n",
       "      <td>2023-03-15</td>\n",
       "      <td>already_ran</td>\n",
       "    </tr>\n",
       "    <tr>\n",
       "      <th>4</th>\n",
       "      <td>Capitol Corridor Joint Powers Authority</td>\n",
       "      <td>56</td>\n",
       "      <td>recvEBkSBc7UxlarC</td>\n",
       "      <td>04 - Oakland</td>\n",
       "      <td>True</td>\n",
       "      <td>2023-03-15</td>\n",
       "      <td>not_yet_run</td>\n",
       "    </tr>\n",
       "    <tr>\n",
       "      <th>...</th>\n",
       "      <td>...</td>\n",
       "      <td>...</td>\n",
       "      <td>...</td>\n",
       "      <td>...</td>\n",
       "      <td>...</td>\n",
       "      <td>...</td>\n",
       "      <td>...</td>\n",
       "    </tr>\n",
       "    <tr>\n",
       "      <th>95</th>\n",
       "      <td>Antelope Valley Transit Authority</td>\n",
       "      <td>16</td>\n",
       "      <td>recxsWR0KRrQTdjmg</td>\n",
       "      <td>07 - Los Angeles</td>\n",
       "      <td>True</td>\n",
       "      <td>2023-03-15</td>\n",
       "      <td>already_ran</td>\n",
       "    </tr>\n",
       "    <tr>\n",
       "      <th>96</th>\n",
       "      <td>City and County of San Francisco</td>\n",
       "      <td>282</td>\n",
       "      <td>rechaapWbeffO33OX</td>\n",
       "      <td>04 - Oakland</td>\n",
       "      <td>False</td>\n",
       "      <td>2023-03-15</td>\n",
       "      <td>already_ran</td>\n",
       "    </tr>\n",
       "    <tr>\n",
       "      <th>97</th>\n",
       "      <td>City of Solvang</td>\n",
       "      <td>312</td>\n",
       "      <td>reckp33bhAuZlmO1M</td>\n",
       "      <td>05 - San Luis Obispo</td>\n",
       "      <td>False</td>\n",
       "      <td>2023-03-15</td>\n",
       "      <td>not_yet_run</td>\n",
       "    </tr>\n",
       "    <tr>\n",
       "      <th>98</th>\n",
       "      <td>San Joaquin Regional Transit District</td>\n",
       "      <td>284</td>\n",
       "      <td>recZgWVXkpix390of</td>\n",
       "      <td>10 - Stockton</td>\n",
       "      <td>False</td>\n",
       "      <td>2023-03-15</td>\n",
       "      <td>already_ran</td>\n",
       "    </tr>\n",
       "    <tr>\n",
       "      <th>99</th>\n",
       "      <td>Long Beach Transit</td>\n",
       "      <td>170</td>\n",
       "      <td>rec00qSzZL8KqiXAo</td>\n",
       "      <td>07 - Los Angeles</td>\n",
       "      <td>False</td>\n",
       "      <td>2023-03-15</td>\n",
       "      <td>already_ran</td>\n",
       "    </tr>\n",
       "  </tbody>\n",
       "</table>\n",
       "<p>100 rows × 7 columns</p>\n",
       "</div>"
      ],
      "text/plain": [
       "                              organization_name  organization_itp_id  \\\n",
       "0                                 Nevada County                  221   \n",
       "1   Santa Clara Valley Transportation Authority                  294   \n",
       "2                            City of Union City                  350   \n",
       "3                             City of Elk Grove                  105   \n",
       "4       Capitol Corridor Joint Powers Authority                   56   \n",
       "..                                          ...                  ...   \n",
       "95            Antelope Valley Transit Authority                   16   \n",
       "96             City and County of San Francisco                  282   \n",
       "97                              City of Solvang                  312   \n",
       "98        San Joaquin Regional Transit District                  284   \n",
       "99                           Long Beach Transit                  170   \n",
       "\n",
       "   organization_source_record_id     caltrans_district  _is_current  \\\n",
       "0              reczUcQgqgtMpkpKC       03 - Marysville         True   \n",
       "1              recC5CT95EufmQCXr          04 - Oakland         True   \n",
       "2              recmB4uxrVLRXYF3L          04 - Oakland        False   \n",
       "3              recaJnArpFEk5QooE       03 - Marysville         True   \n",
       "4              recvEBkSBc7UxlarC          04 - Oakland         True   \n",
       "..                           ...                   ...          ...   \n",
       "95             recxsWR0KRrQTdjmg      07 - Los Angeles         True   \n",
       "96             rechaapWbeffO33OX          04 - Oakland        False   \n",
       "97             reckp33bhAuZlmO1M  05 - San Luis Obispo        False   \n",
       "98             recZgWVXkpix390of         10 - Stockton        False   \n",
       "99             rec00qSzZL8KqiXAo      07 - Los Angeles        False   \n",
       "\n",
       "   analysis_date       status  \n",
       "0     2023-03-15  already_ran  \n",
       "1     2023-03-15  already_ran  \n",
       "2     2023-03-15  already_ran  \n",
       "3     2023-03-15  already_ran  \n",
       "4     2023-03-15  not_yet_run  \n",
       "..           ...          ...  \n",
       "95    2023-03-15  already_ran  \n",
       "96    2023-03-15  already_ran  \n",
       "97    2023-03-15  not_yet_run  \n",
       "98    2023-03-15  already_ran  \n",
       "99    2023-03-15  already_ran  \n",
       "\n",
       "[100 rows x 7 columns]"
      ]
     },
     "execution_count": 37,
     "metadata": {},
     "output_type": "execute_result"
    }
   ],
   "source": [
    "speedmap_index_joined"
   ]
  },
  {
   "cell_type": "code",
   "execution_count": 44,
   "id": "3a7da22d-79ea-4422-a2ed-3d0b6a34949d",
   "metadata": {},
   "outputs": [],
   "source": [
    "def stage_intermediate_data(row, pbar):\n",
    "    \n",
    "    analysis_date = row.analysis_date\n",
    "    progress_path = f'./_rt_progress_{analysis_date}.parquet'\n",
    "        \n",
    "    if row.status != 'already_ran':\n",
    "        try:\n",
    "            rt_day = rt_parser.OperatorDayAnalysis(row.organization_itp_id,\n",
    "                                                   analysis_date, pbar)\n",
    "            rt_day.export_views_gcs()\n",
    "            row.status = 'already_ran'\n",
    "        except Exception as e:\n",
    "            print(f'{row.organization_itp_id} parser failed: {e}')\n",
    "            row.status = 'parser_failed'\n",
    "\n",
    "        speedmap_index_joined.to_parquet(progress_path)\n",
    "    \n",
    "    return  "
   ]
  },
  {
   "cell_type": "code",
   "execution_count": 45,
   "id": "35bc60db-58b3-41cb-8053-66cf41742e90",
   "metadata": {},
   "outputs": [
    {
     "data": {
      "application/vnd.jupyter.widget-view+json": {
       "model_id": "b69407465d5d4b21adf3c9a3b3119359",
       "version_major": 2,
       "version_minor": 0
      },
      "text/plain": [
       "0it [00:00, ?it/s]"
      ]
     },
     "metadata": {},
     "output_type": "display_data"
    }
   ],
   "source": [
    "pbar = tqdm()"
   ]
  },
  {
   "cell_type": "code",
   "execution_count": 46,
   "id": "6b760e67-7c63-448b-bea7-2319755e2ef6",
   "metadata": {
    "collapsed": true,
    "jupyter": {
     "outputs_hidden": true
    },
    "tags": []
   },
   "outputs": [
    {
     "name": "stdout",
     "output_type": "stream",
     "text": [
      "found vp parquet at gs://calitp-analytics-data/data-analyses/rt_delay/v2_cached_views/vp_56_2023-03-15.parquet\n",
      "found trips parquet at gs://calitp-analytics-data/data-analyses/rt_delay/v2_cached_views/trips_56_2023-03-15.parquet\n",
      "found stop times parquet at gs://calitp-analytics-data/data-analyses/rt_delay/v2_cached_views/st_56_2023-03-15.parquet\n",
      "found stops parquet at gs://calitp-analytics-data/data-analyses/rt_delay/v2_cached_views/stops_56_2023-03-15.parquet\n",
      "found shapes parquet at gs://calitp-analytics-data/data-analyses/rt_delay/v2_cached_views/shapes_56_2023-03-15.parquet\n",
      "56 parser failed: vehicle positions empty, or vp trip ids not in schedule\n",
      "found vp parquet at gs://calitp-analytics-data/data-analyses/rt_delay/v2_cached_views/vp_76_2023-03-15.parquet\n",
      "found trips parquet at gs://calitp-analytics-data/data-analyses/rt_delay/v2_cached_views/trips_76_2023-03-15.parquet\n",
      "found stop times parquet at gs://calitp-analytics-data/data-analyses/rt_delay/v2_cached_views/st_76_2023-03-15.parquet\n",
      "found stops parquet at gs://calitp-analytics-data/data-analyses/rt_delay/v2_cached_views/stops_76_2023-03-15.parquet\n",
      "found shapes parquet at gs://calitp-analytics-data/data-analyses/rt_delay/v2_cached_views/shapes_76_2023-03-15.parquet\n",
      "76 parser failed: vehicle positions empty, or vp trip ids not in schedule\n",
      "found vp parquet at gs://calitp-analytics-data/data-analyses/rt_delay/v2_cached_views/vp_474_2023-03-15.parquet\n",
      "found trips parquet at gs://calitp-analytics-data/data-analyses/rt_delay/v2_cached_views/trips_474_2023-03-15.parquet\n",
      "found stop times parquet at gs://calitp-analytics-data/data-analyses/rt_delay/v2_cached_views/st_474_2023-03-15.parquet\n",
      "found stops parquet at gs://calitp-analytics-data/data-analyses/rt_delay/v2_cached_views/stops_474_2023-03-15.parquet\n",
      "found shapes parquet at gs://calitp-analytics-data/data-analyses/rt_delay/v2_cached_views/shapes_474_2023-03-15.parquet\n",
      "474 parser failed: vehicle positions empty, or vp trip ids not in schedule\n",
      "found vp parquet at gs://calitp-analytics-data/data-analyses/rt_delay/v2_cached_views/vp_10_2023-03-15.parquet\n",
      "found trips parquet at gs://calitp-analytics-data/data-analyses/rt_delay/v2_cached_views/trips_10_2023-03-15.parquet\n",
      "found stop times parquet at gs://calitp-analytics-data/data-analyses/rt_delay/v2_cached_views/st_10_2023-03-15.parquet\n",
      "found stops parquet at gs://calitp-analytics-data/data-analyses/rt_delay/v2_cached_views/stops_10_2023-03-15.parquet\n",
      "found shapes parquet at gs://calitp-analytics-data/data-analyses/rt_delay/v2_cached_views/shapes_10_2023-03-15.parquet\n",
      "10 parser failed: vehicle positions empty, or vp trip ids not in schedule\n",
      "found vp parquet at gs://calitp-analytics-data/data-analyses/rt_delay/v2_cached_views/vp_279_2023-03-15.parquet\n",
      "found trips parquet at gs://calitp-analytics-data/data-analyses/rt_delay/v2_cached_views/trips_279_2023-03-15.parquet\n",
      "found stop times parquet at gs://calitp-analytics-data/data-analyses/rt_delay/v2_cached_views/st_279_2023-03-15.parquet\n",
      "found stops parquet at gs://calitp-analytics-data/data-analyses/rt_delay/v2_cached_views/stops_279_2023-03-15.parquet\n",
      "found shapes parquet at gs://calitp-analytics-data/data-analyses/rt_delay/v2_cached_views/shapes_279_2023-03-15.parquet\n",
      "279 parser failed: vehicle positions empty, or vp trip ids not in schedule\n",
      "found vp parquet at gs://calitp-analytics-data/data-analyses/rt_delay/v2_cached_views/vp_273_2023-03-15.parquet\n",
      "found trips parquet at gs://calitp-analytics-data/data-analyses/rt_delay/v2_cached_views/trips_273_2023-03-15.parquet\n",
      "found stop times parquet at gs://calitp-analytics-data/data-analyses/rt_delay/v2_cached_views/st_273_2023-03-15.parquet\n",
      "found stops parquet at gs://calitp-analytics-data/data-analyses/rt_delay/v2_cached_views/stops_273_2023-03-15.parquet\n"
     ]
    },
    {
     "name": "stderr",
     "output_type": "stream",
     "text": [
      "/opt/conda/lib/python3.9/site-packages/sqlalchemy_bigquery/_types.py:101: SAWarning: Did not recognize type 'GEOGRAPHY' of column 'pt_array'\n"
     ]
    },
    {
     "name": "stdout",
     "output_type": "stream",
     "text": [
      "273 parser failed: shapes must not be empty\n",
      "found vp parquet at gs://calitp-analytics-data/data-analyses/rt_delay/v2_cached_views/vp_489_2023-03-15.parquet\n",
      "found trips parquet at gs://calitp-analytics-data/data-analyses/rt_delay/v2_cached_views/trips_489_2023-03-15.parquet\n",
      "found stop times parquet at gs://calitp-analytics-data/data-analyses/rt_delay/v2_cached_views/st_489_2023-03-15.parquet\n",
      "found stops parquet at gs://calitp-analytics-data/data-analyses/rt_delay/v2_cached_views/stops_489_2023-03-15.parquet\n"
     ]
    },
    {
     "name": "stderr",
     "output_type": "stream",
     "text": [
      "/opt/conda/lib/python3.9/site-packages/sqlalchemy_bigquery/_types.py:101: SAWarning: Did not recognize type 'GEOGRAPHY' of column 'pt_array'\n"
     ]
    },
    {
     "name": "stdout",
     "output_type": "stream",
     "text": [
      "489 parser failed: shapes must not be empty\n",
      "found vp parquet at gs://calitp-analytics-data/data-analyses/rt_delay/v2_cached_views/vp_372_2023-03-15.parquet\n",
      "found trips parquet at gs://calitp-analytics-data/data-analyses/rt_delay/v2_cached_views/trips_372_2023-03-15.parquet\n",
      "found stop times parquet at gs://calitp-analytics-data/data-analyses/rt_delay/v2_cached_views/st_372_2023-03-15.parquet\n",
      "found stops parquet at gs://calitp-analytics-data/data-analyses/rt_delay/v2_cached_views/stops_372_2023-03-15.parquet\n",
      "found shapes parquet at gs://calitp-analytics-data/data-analyses/rt_delay/v2_cached_views/shapes_372_2023-03-15.parquet\n",
      "372 parser failed: vehicle positions empty, or vp trip ids not in schedule\n",
      "found vp parquet at gs://calitp-analytics-data/data-analyses/rt_delay/v2_cached_views/vp_107_2023-03-15.parquet\n",
      "found trips parquet at gs://calitp-analytics-data/data-analyses/rt_delay/v2_cached_views/trips_107_2023-03-15.parquet\n",
      "found stop times parquet at gs://calitp-analytics-data/data-analyses/rt_delay/v2_cached_views/st_107_2023-03-15.parquet\n",
      "found stops parquet at gs://calitp-analytics-data/data-analyses/rt_delay/v2_cached_views/stops_107_2023-03-15.parquet\n",
      "found shapes parquet at gs://calitp-analytics-data/data-analyses/rt_delay/v2_cached_views/shapes_107_2023-03-15.parquet\n",
      "107 parser failed: vehicle positions empty, or vp trip ids not in schedule\n",
      "found vp parquet at gs://calitp-analytics-data/data-analyses/rt_delay/v2_cached_views/vp_281_2023-03-15.parquet\n",
      "found trips parquet at gs://calitp-analytics-data/data-analyses/rt_delay/v2_cached_views/trips_281_2023-03-15.parquet\n",
      "found stop times parquet at gs://calitp-analytics-data/data-analyses/rt_delay/v2_cached_views/st_281_2023-03-15.parquet\n",
      "found stops parquet at gs://calitp-analytics-data/data-analyses/rt_delay/v2_cached_views/stops_281_2023-03-15.parquet\n",
      "found shapes parquet at gs://calitp-analytics-data/data-analyses/rt_delay/v2_cached_views/shapes_281_2023-03-15.parquet\n",
      "281 parser failed: vehicle positions empty, or vp trip ids not in schedule\n",
      "found vp parquet at gs://calitp-analytics-data/data-analyses/rt_delay/v2_cached_views/vp_343_2023-03-15.parquet\n",
      "found trips parquet at gs://calitp-analytics-data/data-analyses/rt_delay/v2_cached_views/trips_343_2023-03-15.parquet\n",
      "found stop times parquet at gs://calitp-analytics-data/data-analyses/rt_delay/v2_cached_views/st_343_2023-03-15.parquet\n",
      "found stops parquet at gs://calitp-analytics-data/data-analyses/rt_delay/v2_cached_views/stops_343_2023-03-15.parquet\n",
      "found shapes parquet at gs://calitp-analytics-data/data-analyses/rt_delay/v2_cached_views/shapes_343_2023-03-15.parquet\n",
      "343 parser failed: vehicle positions empty, or vp trip ids not in schedule\n",
      "found vp parquet at gs://calitp-analytics-data/data-analyses/rt_delay/v2_cached_views/vp_485_2023-03-15.parquet\n",
      "found trips parquet at gs://calitp-analytics-data/data-analyses/rt_delay/v2_cached_views/trips_485_2023-03-15.parquet\n",
      "found stop times parquet at gs://calitp-analytics-data/data-analyses/rt_delay/v2_cached_views/st_485_2023-03-15.parquet\n",
      "found stops parquet at gs://calitp-analytics-data/data-analyses/rt_delay/v2_cached_views/stops_485_2023-03-15.parquet\n"
     ]
    },
    {
     "name": "stderr",
     "output_type": "stream",
     "text": [
      "/opt/conda/lib/python3.9/site-packages/sqlalchemy_bigquery/_types.py:101: SAWarning: Did not recognize type 'GEOGRAPHY' of column 'pt_array'\n"
     ]
    },
    {
     "name": "stdout",
     "output_type": "stream",
     "text": [
      "485 parser failed: shapes must not be empty\n",
      "found vp parquet at gs://calitp-analytics-data/data-analyses/rt_delay/v2_cached_views/vp_481_2023-03-15.parquet\n",
      "found trips parquet at gs://calitp-analytics-data/data-analyses/rt_delay/v2_cached_views/trips_481_2023-03-15.parquet\n",
      "found stop times parquet at gs://calitp-analytics-data/data-analyses/rt_delay/v2_cached_views/st_481_2023-03-15.parquet\n",
      "found stops parquet at gs://calitp-analytics-data/data-analyses/rt_delay/v2_cached_views/stops_481_2023-03-15.parquet\n",
      "found shapes parquet at gs://calitp-analytics-data/data-analyses/rt_delay/v2_cached_views/shapes_481_2023-03-15.parquet\n",
      "481 parser failed: vehicle positions empty, or vp trip ids not in schedule\n",
      "found vp parquet at gs://calitp-analytics-data/data-analyses/rt_delay/v2_cached_views/vp_356_2023-03-15.parquet\n",
      "found trips parquet at gs://calitp-analytics-data/data-analyses/rt_delay/v2_cached_views/trips_356_2023-03-15.parquet\n",
      "found stop times parquet at gs://calitp-analytics-data/data-analyses/rt_delay/v2_cached_views/st_356_2023-03-15.parquet\n",
      "found stops parquet at gs://calitp-analytics-data/data-analyses/rt_delay/v2_cached_views/stops_356_2023-03-15.parquet\n",
      "found shapes parquet at gs://calitp-analytics-data/data-analyses/rt_delay/v2_cached_views/shapes_356_2023-03-15.parquet\n",
      "356 parser failed: vehicle positions empty, or vp trip ids not in schedule\n",
      "found vp parquet at gs://calitp-analytics-data/data-analyses/rt_delay/v2_cached_views/vp_327_2023-03-15.parquet\n",
      "found trips parquet at gs://calitp-analytics-data/data-analyses/rt_delay/v2_cached_views/trips_327_2023-03-15.parquet\n",
      "found stop times parquet at gs://calitp-analytics-data/data-analyses/rt_delay/v2_cached_views/st_327_2023-03-15.parquet\n",
      "found stops parquet at gs://calitp-analytics-data/data-analyses/rt_delay/v2_cached_views/stops_327_2023-03-15.parquet\n",
      "found shapes parquet at gs://calitp-analytics-data/data-analyses/rt_delay/v2_cached_views/shapes_327_2023-03-15.parquet\n",
      "327 parser failed: vehicle positions empty, or vp trip ids not in schedule\n",
      "found vp parquet at gs://calitp-analytics-data/data-analyses/rt_delay/v2_cached_views/vp_264_2023-03-15.parquet\n",
      "found trips parquet at gs://calitp-analytics-data/data-analyses/rt_delay/v2_cached_views/trips_264_2023-03-15.parquet\n",
      "found stop times parquet at gs://calitp-analytics-data/data-analyses/rt_delay/v2_cached_views/st_264_2023-03-15.parquet\n",
      "found stops parquet at gs://calitp-analytics-data/data-analyses/rt_delay/v2_cached_views/stops_264_2023-03-15.parquet\n"
     ]
    },
    {
     "name": "stderr",
     "output_type": "stream",
     "text": [
      "/opt/conda/lib/python3.9/site-packages/sqlalchemy_bigquery/_types.py:101: SAWarning: Did not recognize type 'GEOGRAPHY' of column 'pt_array'\n"
     ]
    },
    {
     "name": "stdout",
     "output_type": "stream",
     "text": [
      "264 parser failed: shapes must not be empty\n",
      "found vp parquet at gs://calitp-analytics-data/data-analyses/rt_delay/v2_cached_views/vp_312_2023-03-15.parquet\n",
      "found trips parquet at gs://calitp-analytics-data/data-analyses/rt_delay/v2_cached_views/trips_312_2023-03-15.parquet\n",
      "found stop times parquet at gs://calitp-analytics-data/data-analyses/rt_delay/v2_cached_views/st_312_2023-03-15.parquet\n",
      "found stops parquet at gs://calitp-analytics-data/data-analyses/rt_delay/v2_cached_views/stops_312_2023-03-15.parquet\n"
     ]
    },
    {
     "name": "stderr",
     "output_type": "stream",
     "text": [
      "/opt/conda/lib/python3.9/site-packages/sqlalchemy_bigquery/_types.py:101: SAWarning: Did not recognize type 'GEOGRAPHY' of column 'pt_array'\n"
     ]
    },
    {
     "name": "stdout",
     "output_type": "stream",
     "text": [
      "312 parser failed: shapes must not be empty\n"
     ]
    },
    {
     "data": {
      "text/plain": [
       "0     None\n",
       "1     None\n",
       "2     None\n",
       "3     None\n",
       "4     None\n",
       "      ... \n",
       "95    None\n",
       "96    None\n",
       "97    None\n",
       "98    None\n",
       "99    None\n",
       "Length: 100, dtype: object"
      ]
     },
     "execution_count": 46,
     "metadata": {},
     "output_type": "execute_result"
    }
   ],
   "source": [
    "%%capture --no-stdout\n",
    "_ = speedmap_index_joined.apply(stage_intermediate_data, axis = 1, args=[pbar])"
   ]
  },
  {
   "cell_type": "code",
   "execution_count": 14,
   "id": "13290dbe-d343-4718-a1b5-9bfd7df74458",
   "metadata": {},
   "outputs": [],
   "source": [
    "## iterate over itp_ids, attempt running, if failed change value to failed?\n",
    "## store failures in yml? with error if any??\n",
    "## proceed with build when all already_ran or failed, again print which failed"
   ]
  },
  {
   "cell_type": "code",
   "execution_count": 48,
   "id": "01922240-918b-468a-b41f-fdd706aa8970",
   "metadata": {},
   "outputs": [
    {
     "name": "stdout",
     "output_type": "stream",
     "text": [
      "found ./_rt_progress_2023-03-15.parquet, resuming\n"
     ]
    }
   ],
   "source": [
    "speedmap_index_joined = check_intermediate_data(speedmap_index)"
   ]
  },
  {
   "cell_type": "code",
   "execution_count": 49,
   "id": "e1713a85-f5a8-4f6a-9b7e-adcde01e14ba",
   "metadata": {},
   "outputs": [
    {
     "data": {
      "text/html": [
       "<div>\n",
       "<style scoped>\n",
       "    .dataframe tbody tr th:only-of-type {\n",
       "        vertical-align: middle;\n",
       "    }\n",
       "\n",
       "    .dataframe tbody tr th {\n",
       "        vertical-align: top;\n",
       "    }\n",
       "\n",
       "    .dataframe thead th {\n",
       "        text-align: right;\n",
       "    }\n",
       "</style>\n",
       "<table border=\"1\" class=\"dataframe\">\n",
       "  <thead>\n",
       "    <tr style=\"text-align: right;\">\n",
       "      <th></th>\n",
       "      <th>organization_name</th>\n",
       "      <th>organization_itp_id</th>\n",
       "      <th>organization_source_record_id</th>\n",
       "      <th>caltrans_district</th>\n",
       "      <th>_is_current</th>\n",
       "      <th>analysis_date</th>\n",
       "      <th>status</th>\n",
       "    </tr>\n",
       "  </thead>\n",
       "  <tbody>\n",
       "    <tr>\n",
       "      <th>36</th>\n",
       "      <td>Alameda-Contra Costa Transit District</td>\n",
       "      <td>4</td>\n",
       "      <td>recOZgevYf7Jimm9L</td>\n",
       "      <td>04 - Oakland</td>\n",
       "      <td>False</td>\n",
       "      <td>2023-03-15</td>\n",
       "      <td>already_ran</td>\n",
       "    </tr>\n",
       "  </tbody>\n",
       "</table>\n",
       "</div>"
      ],
      "text/plain": [
       "                        organization_name  organization_itp_id  \\\n",
       "36  Alameda-Contra Costa Transit District                    4   \n",
       "\n",
       "   organization_source_record_id caltrans_district  _is_current analysis_date  \\\n",
       "36             recOZgevYf7Jimm9L      04 - Oakland        False    2023-03-15   \n",
       "\n",
       "         status  \n",
       "36  already_ran  "
      ]
     },
     "execution_count": 49,
     "metadata": {},
     "output_type": "execute_result"
    }
   ],
   "source": [
    "speedmap_index_joined >> filter(_.organization_itp_id == 4)"
   ]
  },
  {
   "cell_type": "markdown",
   "id": "eb3322f1-cf0d-496c-9954-c4f412e953ad",
   "metadata": {},
   "source": [
    "## New step: confirm able to generate an all-day map?"
   ]
  },
  {
   "cell_type": "code",
   "execution_count": 57,
   "id": "61b7c7ac-d145-44fa-9971-a392c1304ac5",
   "metadata": {},
   "outputs": [],
   "source": [
    "def check_map_gen(row, pbar):\n",
    "    \n",
    "    analysis_date = row.analysis_date\n",
    "    progress_path = f'./_rt_progress_{analysis_date}.parquet'\n",
    "        \n",
    "    if row.status not in ('parser_failed', 'map_confirmed'):\n",
    "        try:\n",
    "            rt_day = rt_filter_map_plot.from_gcs(row.organization_itp_id,\n",
    "                                                       analysis_date, pbar)\n",
    "            _m = rt_day.segment_speed_map()\n",
    "            row.status = 'map_confirmed'\n",
    "        except Exception as e:\n",
    "            print(f'{row.organization_itp_id} map test failed: {e}')\n",
    "            row.status = 'map_failed'\n",
    "\n",
    "        speedmap_index_joined.to_parquet(progress_path)\n",
    "    \n",
    "    return  "
   ]
  },
  {
   "cell_type": "code",
   "execution_count": 59,
   "id": "79549862-192c-4290-ad1f-d0ed773c7645",
   "metadata": {},
   "outputs": [
    {
     "data": {
      "application/vnd.jupyter.widget-view+json": {
       "model_id": "33f08ab38d18496b859c8511330726c8",
       "version_major": 2,
       "version_minor": 0
      },
      "text/plain": [
       "0it [00:00, ?it/s]"
      ]
     },
     "metadata": {},
     "output_type": "display_data"
    }
   ],
   "source": [
    "pbar = tqdm()"
   ]
  },
  {
   "cell_type": "code",
   "execution_count": null,
   "id": "405dea8b-ece8-4a03-8920-9dd16bb45a52",
   "metadata": {
    "tags": []
   },
   "outputs": [
    {
     "name": "stdout",
     "output_type": "stream",
     "text": [
      "found shapes parquet at gs://calitp-analytics-data/data-analyses/rt_delay/v2_cached_views/shapes_221_2023-03-15.parquet\n",
      "found shapes parquet at gs://calitp-analytics-data/data-analyses/rt_delay/v2_cached_views/shapes_294_2023-03-15.parquet\n"
     ]
    }
   ],
   "source": [
    "%%capture --no-stdout\n",
    "_ = speedmap_index_joined.apply(check_map_gen, axis = 1, args=[pbar])"
   ]
  },
  {
   "cell_type": "markdown",
   "id": "416c08a6-999f-4da9-afe2-e2cae550d584",
   "metadata": {},
   "source": [
    "## Prep portfolio yml for site"
   ]
  },
  {
   "cell_type": "code",
   "execution_count": null,
   "id": "e1eaaa22-16c7-4df1-a1a5-0b8b8550de27",
   "metadata": {},
   "outputs": [],
   "source": [
    "def stage_rt_portfolio(speedmap_index_joined,\n",
    "                       input_path = '../portfolio/sites/rt.yml',\n",
    "                       output_path = '../portfolio/sites/test_rt.yml'):\n",
    "        \n",
    "    # make sure intermediate data is ran or at least attempted\n",
    "    assert speedmap_index_joined.status.isin(['already_ran', 'failed']).all()\n",
    "    \n",
    "    with open(input_path) as rt_site:\n",
    "        rt_site_data = yaml.load(rt_site, yaml.Loader)\n",
    "    \n",
    "    chapters_list = []\n",
    "    speedmap_index_joined = speedmap_index_joined >> arrange(_.caltrans_district)\n",
    "    for district in speedmap_index_joined.caltrans_district.unique():\n",
    "        if type(district) == type(None):\n",
    "            continue\n",
    "        chapter_dict = {}\n",
    "        filtered = (speedmap_index_joined\n",
    "                    >> filter(_.caltrans_district == district,\n",
    "                             _.status != 'failed')\n",
    "                    >> arrange(_.organization_name)\n",
    "                   )\n",
    "        chapter_dict['caption'] = f'District {district}'\n",
    "        chapter_dict['params'] = {'district': district}\n",
    "        chapter_dict['sections'] = \\\n",
    "            [{'itp_id': itp_id} for itp_id in filtered.organization_itp_id.to_list()]\n",
    "        chapters_list += [chapter_dict]   \n",
    "        \n",
    "    parts_list = [{'chapters': chapters_list}]\n",
    "    rt_site_data['parts'] = parts_list\n",
    "    \n",
    "    output = pyaml.dump(rt_site_data)\n",
    "    with open(output_path, 'w') as rt_site:\n",
    "        rt_site.write(output)\n",
    "    \n",
    "    print(f'portfolio yml staged to {output_path}')\n",
    "    return"
   ]
  },
  {
   "cell_type": "code",
   "execution_count": null,
   "id": "ad6bfd5e-7484-45c1-86ee-0fed5d67901a",
   "metadata": {},
   "outputs": [],
   "source": [
    "stage_rt_portfolio(speedmap_index_joined)"
   ]
  },
  {
   "cell_type": "markdown",
   "id": "7a4c8273-2a81-45be-ac4f-43efe82237ad",
   "metadata": {},
   "source": [
    "## run portfolio?"
   ]
  },
  {
   "cell_type": "code",
   "execution_count": null,
   "id": "311ddbdf-46c9-431b-af8d-2aaa84b43262",
   "metadata": {},
   "outputs": [],
   "source": [
    "## os chdir ..\n",
    "## run script"
   ]
  }
 ],
 "metadata": {
  "kernelspec": {
   "display_name": "Python 3 (ipykernel)",
   "language": "python",
   "name": "python3"
  },
  "language_info": {
   "codemirror_mode": {
    "name": "ipython",
    "version": 3
   },
   "file_extension": ".py",
   "mimetype": "text/x-python",
   "name": "python",
   "nbconvert_exporter": "python",
   "pygments_lexer": "ipython3",
   "version": "3.9.13"
  },
  "widgets": {
   "application/vnd.jupyter.widget-state+json": {
    "state": {
     "0068c9f19c3f4e04bce228687543f341": {
      "model_module": "@jupyter-widgets/base",
      "model_module_version": "1.2.0",
      "model_name": "LayoutModel",
      "state": {
       "width": "20px"
      }
     },
     "0188c75af28d49c6bd7b2eb2fcd0f481": {
      "model_module": "@jupyter-widgets/controls",
      "model_module_version": "1.5.0",
      "model_name": "ProgressStyleModel",
      "state": {
       "description_width": ""
      }
     },
     "01f04d5a251d4cadb7e89387e0d7059e": {
      "model_module": "@jupyter-widgets/controls",
      "model_module_version": "1.5.0",
      "model_name": "HBoxModel",
      "state": {
       "children": [
        "IPY_MODEL_b1757f4d489e474399468dc3bd547abf",
        "IPY_MODEL_96da3dd7b72b441a8cc7b8b64f816012",
        "IPY_MODEL_3f3141920ae04234a05d4f3f56f1324c"
       ],
       "layout": "IPY_MODEL_fcf6491f08894ae1bf2a7a493de97e4c"
      }
     },
     "03afd702c7fb46fc9ff25be8c800fcd4": {
      "model_module": "@jupyter-widgets/base",
      "model_module_version": "1.2.0",
      "model_name": "LayoutModel",
      "state": {}
     },
     "044b39d028754382a08ebaede5c6170a": {
      "model_module": "@jupyter-widgets/controls",
      "model_module_version": "1.5.0",
      "model_name": "DescriptionStyleModel",
      "state": {
       "description_width": ""
      }
     },
     "0718e7fc95ba4122b5875e1cdb6a3ef1": {
      "model_module": "@jupyter-widgets/controls",
      "model_module_version": "1.5.0",
      "model_name": "DescriptionStyleModel",
      "state": {
       "description_width": ""
      }
     },
     "073c6c9a01c9438da0b2bb3b623f80c7": {
      "model_module": "@jupyter-widgets/base",
      "model_module_version": "1.2.0",
      "model_name": "LayoutModel",
      "state": {}
     },
     "0a9a969720aa4252b48294bea5a6c3b6": {
      "model_module": "@jupyter-widgets/base",
      "model_module_version": "1.2.0",
      "model_name": "LayoutModel",
      "state": {}
     },
     "0af00e69f4fa48aebc0fc8dd562f4c8b": {
      "model_module": "@jupyter-widgets/controls",
      "model_module_version": "1.5.0",
      "model_name": "HTMLModel",
      "state": {
       "layout": "IPY_MODEL_68fdd8106dbb46f8be89c7b9557d8084",
       "style": "IPY_MODEL_fd70dd0d03e946738da3e9ff97d8a4d5"
      }
     },
     "0be8cc5d182548bf8d4e111a756dfdff": {
      "model_module": "@jupyter-widgets/controls",
      "model_module_version": "1.5.0",
      "model_name": "ProgressStyleModel",
      "state": {
       "description_width": ""
      }
     },
     "0d252624682c4ad4997c7808a0ad0cbf": {
      "model_module": "@jupyter-widgets/controls",
      "model_module_version": "1.5.0",
      "model_name": "DescriptionStyleModel",
      "state": {
       "description_width": ""
      }
     },
     "0d7fa2944ea642249a97a7b3bc6ecff2": {
      "model_module": "@jupyter-widgets/controls",
      "model_module_version": "1.5.0",
      "model_name": "DescriptionStyleModel",
      "state": {
       "description_width": ""
      }
     },
     "0feb4cf6472b4178b1110f3951798aed": {
      "model_module": "@jupyter-widgets/base",
      "model_module_version": "1.2.0",
      "model_name": "LayoutModel",
      "state": {}
     },
     "1126576a8abe49818c5892684bdf93f4": {
      "model_module": "@jupyter-widgets/controls",
      "model_module_version": "1.5.0",
      "model_name": "DescriptionStyleModel",
      "state": {
       "description_width": ""
      }
     },
     "11a173411b164e0da79c7c23d41d1694": {
      "model_module": "@jupyter-widgets/base",
      "model_module_version": "1.2.0",
      "model_name": "LayoutModel",
      "state": {}
     },
     "1230cbca4b37496385a23dd65f534239": {
      "model_module": "@jupyter-widgets/controls",
      "model_module_version": "1.5.0",
      "model_name": "HTMLModel",
      "state": {
       "layout": "IPY_MODEL_8784f6fdf07c4356b66cae869723c06b",
       "style": "IPY_MODEL_044b39d028754382a08ebaede5c6170a"
      }
     },
     "16a1e3a1424742b5b7b1b06b3659f536": {
      "model_module": "@jupyter-widgets/controls",
      "model_module_version": "1.5.0",
      "model_name": "FloatProgressModel",
      "state": {
       "bar_style": "info",
       "layout": "IPY_MODEL_1d095b5dadd14488a061563188e9eea1",
       "max": 1,
       "style": "IPY_MODEL_0188c75af28d49c6bd7b2eb2fcd0f481"
      }
     },
     "16dbf13cbb0642588e03a8f3eb4dd6a6": {
      "model_module": "@jupyter-widgets/base",
      "model_module_version": "1.2.0",
      "model_name": "LayoutModel",
      "state": {}
     },
     "18ae161ff002464d827b90dda6906217": {
      "model_module": "@jupyter-widgets/base",
      "model_module_version": "1.2.0",
      "model_name": "LayoutModel",
      "state": {}
     },
     "198ccb268d1f4c89b4f63c220790fd78": {
      "model_module": "@jupyter-widgets/base",
      "model_module_version": "1.2.0",
      "model_name": "LayoutModel",
      "state": {}
     },
     "1c6f52e7eb3043688e816d369be050f1": {
      "model_module": "@jupyter-widgets/controls",
      "model_module_version": "1.5.0",
      "model_name": "DescriptionStyleModel",
      "state": {
       "description_width": ""
      }
     },
     "1d095b5dadd14488a061563188e9eea1": {
      "model_module": "@jupyter-widgets/base",
      "model_module_version": "1.2.0",
      "model_name": "LayoutModel",
      "state": {
       "width": "20px"
      }
     },
     "1fce1a994ff34dc2b5b84c436980c59e": {
      "model_module": "@jupyter-widgets/controls",
      "model_module_version": "1.5.0",
      "model_name": "FloatProgressModel",
      "state": {
       "layout": "IPY_MODEL_e751aae674e04d9292fdb7fd0f70d4eb",
       "max": 1,
       "style": "IPY_MODEL_34546f1f950742d1aaccb41c51238c2e"
      }
     },
     "205f9d4ca419472d95eed182015923f6": {
      "model_module": "@jupyter-widgets/controls",
      "model_module_version": "1.5.0",
      "model_name": "FloatProgressModel",
      "state": {
       "bar_style": "success",
       "layout": "IPY_MODEL_5750aadfeea848ce8e69625cfce452c9",
       "max": 1,
       "style": "IPY_MODEL_cbb7c41c712e4986b8eb56cfd1002809"
      }
     },
     "220ab7e58cb0445a9e06054a14dad710": {
      "model_module": "@jupyter-widgets/controls",
      "model_module_version": "1.5.0",
      "model_name": "HTMLModel",
      "state": {
       "layout": "IPY_MODEL_e6bdb2563866443cb6611a3e83c8ef29",
       "style": "IPY_MODEL_0d7fa2944ea642249a97a7b3bc6ecff2"
      }
     },
     "22d7cd9f8d7b4ea3bcef79333e1e13fb": {
      "model_module": "@jupyter-widgets/controls",
      "model_module_version": "1.5.0",
      "model_name": "DescriptionStyleModel",
      "state": {
       "description_width": ""
      }
     },
     "259e5276c733494fab04ec947169babf": {
      "model_module": "@jupyter-widgets/controls",
      "model_module_version": "1.5.0",
      "model_name": "DescriptionStyleModel",
      "state": {
       "description_width": ""
      }
     },
     "266eed32b1174f90acecc666e4442a81": {
      "model_module": "@jupyter-widgets/controls",
      "model_module_version": "1.5.0",
      "model_name": "HTMLModel",
      "state": {
       "layout": "IPY_MODEL_aa1db78db075449cb92c93f9ed01914e",
       "style": "IPY_MODEL_faa352c05b334d718873d47de7c5b55b",
       "value": " 35/216 [01:28&lt;12:43,  4.22s/it]"
      }
     },
     "271ceb84c03c4ae3a08da73e7172ce0d": {
      "model_module": "@jupyter-widgets/controls",
      "model_module_version": "1.5.0",
      "model_name": "DescriptionStyleModel",
      "state": {
       "description_width": ""
      }
     },
     "2b21b2c02fd5494ba9a9684011dca0d1": {
      "model_module": "@jupyter-widgets/controls",
      "model_module_version": "1.5.0",
      "model_name": "ProgressStyleModel",
      "state": {
       "description_width": ""
      }
     },
     "3282e1dc1345427eab991e426f698ba6": {
      "model_module": "@jupyter-widgets/controls",
      "model_module_version": "1.5.0",
      "model_name": "HTMLModel",
      "state": {
       "layout": "IPY_MODEL_966341a70cf94b429827f9e77a68ab79",
       "style": "IPY_MODEL_ec6d17c3b312436a8e85f39db1e2ed78"
      }
     },
     "32feefd5f4794f4f88cb4a7215ed6af9": {
      "model_module": "@jupyter-widgets/base",
      "model_module_version": "1.2.0",
      "model_name": "LayoutModel",
      "state": {}
     },
     "33846fb711ea4f8b81c2ee21fa19b3b3": {
      "model_module": "@jupyter-widgets/base",
      "model_module_version": "1.2.0",
      "model_name": "LayoutModel",
      "state": {}
     },
     "33f08ab38d18496b859c8511330726c8": {
      "model_module": "@jupyter-widgets/controls",
      "model_module_version": "1.5.0",
      "model_name": "HBoxModel",
      "state": {
       "children": [
        "IPY_MODEL_a6e9bb83a1f1405a9a4ee6bc81bc13a1",
        "IPY_MODEL_afb05e1233624ae7988c0ad4f1878c11",
        "IPY_MODEL_266eed32b1174f90acecc666e4442a81"
       ],
       "layout": "IPY_MODEL_63a221e7975343eeb096e15ea1df9550"
      }
     },
     "34546f1f950742d1aaccb41c51238c2e": {
      "model_module": "@jupyter-widgets/controls",
      "model_module_version": "1.5.0",
      "model_name": "ProgressStyleModel",
      "state": {
       "description_width": ""
      }
     },
     "35c43d36f50547698a5402c580ea91bc": {
      "model_module": "@jupyter-widgets/controls",
      "model_module_version": "1.5.0",
      "model_name": "FloatProgressModel",
      "state": {
       "layout": "IPY_MODEL_0068c9f19c3f4e04bce228687543f341",
       "max": 1,
       "style": "IPY_MODEL_eb601fb8dd0a4cce8dd0e02a27d24780"
      }
     },
     "371570f8c7cf483daa481b3682748302": {
      "model_module": "@jupyter-widgets/controls",
      "model_module_version": "1.5.0",
      "model_name": "DescriptionStyleModel",
      "state": {
       "description_width": ""
      }
     },
     "37def015618d4261a29ed6a70319a7d6": {
      "model_module": "@jupyter-widgets/base",
      "model_module_version": "1.2.0",
      "model_name": "LayoutModel",
      "state": {}
     },
     "3da6ad2d8cdd44c883feccf5a09f1296": {
      "model_module": "@jupyter-widgets/controls",
      "model_module_version": "1.5.0",
      "model_name": "HBoxModel",
      "state": {
       "children": [
        "IPY_MODEL_b1757f4d489e474399468dc3bd547abf",
        "IPY_MODEL_96da3dd7b72b441a8cc7b8b64f816012",
        "IPY_MODEL_3f3141920ae04234a05d4f3f56f1324c"
       ],
       "layout": "IPY_MODEL_fcf6491f08894ae1bf2a7a493de97e4c"
      }
     },
     "3f3141920ae04234a05d4f3f56f1324c": {
      "model_module": "@jupyter-widgets/controls",
      "model_module_version": "1.5.0",
      "model_name": "HTMLModel",
      "state": {
       "layout": "IPY_MODEL_e6bdb2563866443cb6611a3e83c8ef29",
       "style": "IPY_MODEL_0d7fa2944ea642249a97a7b3bc6ecff2",
       "value": " 0/? [04:27&lt;?, ?it/s]"
      }
     },
     "42a053a6f82d444d9babb42c070dc8af": {
      "model_module": "@jupyter-widgets/controls",
      "model_module_version": "1.5.0",
      "model_name": "DescriptionStyleModel",
      "state": {
       "description_width": ""
      }
     },
     "439e9dc9144d4eb996d724e6862238c4": {
      "model_module": "@jupyter-widgets/controls",
      "model_module_version": "1.5.0",
      "model_name": "ProgressStyleModel",
      "state": {
       "description_width": ""
      }
     },
     "49d0a93fd231478ca830ca08c5538829": {
      "model_module": "@jupyter-widgets/controls",
      "model_module_version": "1.5.0",
      "model_name": "FloatProgressModel",
      "state": {
       "bar_style": "success",
       "layout": "IPY_MODEL_602b0137180b4cef80df81c9c117d60c",
       "max": 1,
       "style": "IPY_MODEL_f7add69fb91e4c54a487d57d2b3a6e9b"
      }
     },
     "49d23e424a3e484e805674725e78f320": {
      "model_module": "@jupyter-widgets/base",
      "model_module_version": "1.2.0",
      "model_name": "LayoutModel",
      "state": {}
     },
     "4a60f53c251344629786950735d5caa0": {
      "model_module": "@jupyter-widgets/base",
      "model_module_version": "1.2.0",
      "model_name": "LayoutModel",
      "state": {}
     },
     "4b04b84c66d74b3b8cf30abb046188e0": {
      "model_module": "@jupyter-widgets/controls",
      "model_module_version": "1.5.0",
      "model_name": "HBoxModel",
      "state": {
       "children": [
        "IPY_MODEL_f4500ac2bb4f4af2ba650c28ca35fcf2",
        "IPY_MODEL_16a1e3a1424742b5b7b1b06b3659f536",
        "IPY_MODEL_c1e05229bddb49b29d923277ebe59175"
       ],
       "layout": "IPY_MODEL_5c6219c129f040c9abcde815304f03d7"
      }
     },
     "4b94b20f9e194762a7055182660edd11": {
      "model_module": "@jupyter-widgets/controls",
      "model_module_version": "1.5.0",
      "model_name": "HTMLModel",
      "state": {
       "layout": "IPY_MODEL_03afd702c7fb46fc9ff25be8c800fcd4",
       "style": "IPY_MODEL_b962645b06434483b7e54d56c3951d69"
      }
     },
     "4db70e702de74a31b4cda28bab4f81cc": {
      "model_module": "@jupyter-widgets/base",
      "model_module_version": "1.2.0",
      "model_name": "LayoutModel",
      "state": {}
     },
     "4dcb4d0e8e734275a142d09a80689116": {
      "model_module": "@jupyter-widgets/controls",
      "model_module_version": "1.5.0",
      "model_name": "FloatProgressModel",
      "state": {
       "layout": "IPY_MODEL_18ae161ff002464d827b90dda6906217",
       "max": 1,
       "style": "IPY_MODEL_4fae6c38056d4c08ba82fb794a461978"
      }
     },
     "4df2765404264f27a3d97e6809ddf88d": {
      "model_module": "@jupyter-widgets/controls",
      "model_module_version": "1.5.0",
      "model_name": "ProgressStyleModel",
      "state": {
       "description_width": ""
      }
     },
     "4fae6c38056d4c08ba82fb794a461978": {
      "model_module": "@jupyter-widgets/controls",
      "model_module_version": "1.5.0",
      "model_name": "ProgressStyleModel",
      "state": {
       "description_width": ""
      }
     },
     "51aeccd87bed47a3a40d2bfc5f7610e2": {
      "model_module": "@jupyter-widgets/controls",
      "model_module_version": "1.5.0",
      "model_name": "DescriptionStyleModel",
      "state": {
       "description_width": ""
      }
     },
     "546fe462ba784c7694cb7a845fc0904d": {
      "model_module": "@jupyter-widgets/controls",
      "model_module_version": "1.5.0",
      "model_name": "DescriptionStyleModel",
      "state": {
       "description_width": ""
      }
     },
     "5750aadfeea848ce8e69625cfce452c9": {
      "model_module": "@jupyter-widgets/base",
      "model_module_version": "1.2.0",
      "model_name": "LayoutModel",
      "state": {
       "width": "20px"
      }
     },
     "5b55e0e1a17a4f67b01b2e126a18b0c3": {
      "model_module": "@jupyter-widgets/controls",
      "model_module_version": "1.5.0",
      "model_name": "DescriptionStyleModel",
      "state": {
       "description_width": ""
      }
     },
     "5b598f5f79664313a237c61ff381734c": {
      "model_module": "@jupyter-widgets/controls",
      "model_module_version": "1.5.0",
      "model_name": "HBoxModel",
      "state": {
       "children": [
        "IPY_MODEL_4b94b20f9e194762a7055182660edd11",
        "IPY_MODEL_d9fb5b53bb8046c89286555b04c3f697",
        "IPY_MODEL_cdc7bad41ee2492da6b45ee2c6c8d082"
       ],
       "layout": "IPY_MODEL_9139595d11824745997d978c7b879b17"
      }
     },
     "5c6219c129f040c9abcde815304f03d7": {
      "model_module": "@jupyter-widgets/base",
      "model_module_version": "1.2.0",
      "model_name": "LayoutModel",
      "state": {}
     },
     "5d3d2f134ad341b38e047e097defdc7a": {
      "model_module": "@jupyter-widgets/base",
      "model_module_version": "1.2.0",
      "model_name": "LayoutModel",
      "state": {}
     },
     "5ddc6187c57b4928b28e8b5ff18cdc3d": {
      "model_module": "@jupyter-widgets/controls",
      "model_module_version": "1.5.0",
      "model_name": "DescriptionStyleModel",
      "state": {
       "description_width": ""
      }
     },
     "602b0137180b4cef80df81c9c117d60c": {
      "model_module": "@jupyter-widgets/base",
      "model_module_version": "1.2.0",
      "model_name": "LayoutModel",
      "state": {
       "width": "20px"
      }
     },
     "60a092c3d80e4610a64bb2243b515f32": {
      "model_module": "@jupyter-widgets/controls",
      "model_module_version": "1.5.0",
      "model_name": "HTMLModel",
      "state": {
       "layout": "IPY_MODEL_4a60f53c251344629786950735d5caa0",
       "style": "IPY_MODEL_eb306e234c5348f1b14d671d6cfa659a"
      }
     },
     "617a10765f3644b28526d8f2a37ed12d": {
      "model_module": "@jupyter-widgets/base",
      "model_module_version": "1.2.0",
      "model_name": "LayoutModel",
      "state": {}
     },
     "63a221e7975343eeb096e15ea1df9550": {
      "model_module": "@jupyter-widgets/base",
      "model_module_version": "1.2.0",
      "model_name": "LayoutModel",
      "state": {}
     },
     "64601e3096284a7d8c34dacbf997823b": {
      "model_module": "@jupyter-widgets/base",
      "model_module_version": "1.2.0",
      "model_name": "LayoutModel",
      "state": {}
     },
     "66bf8c577f1c469592b666132560cba0": {
      "model_module": "@jupyter-widgets/controls",
      "model_module_version": "1.5.0",
      "model_name": "HTMLModel",
      "state": {
       "layout": "IPY_MODEL_b4880a5023b646f7b19d2f4450424f51",
       "style": "IPY_MODEL_a94ef79a50ab4fd89d2433c34153dca1"
      }
     },
     "68fdd8106dbb46f8be89c7b9557d8084": {
      "model_module": "@jupyter-widgets/base",
      "model_module_version": "1.2.0",
      "model_name": "LayoutModel",
      "state": {}
     },
     "6972c8a2c2a64d42a02c7083c7694c46": {
      "model_module": "@jupyter-widgets/controls",
      "model_module_version": "1.5.0",
      "model_name": "HTMLModel",
      "state": {
       "layout": "IPY_MODEL_946cd3463685433bade4a5c6cd289866",
       "style": "IPY_MODEL_b0c775788c2b490fb3aa2cf8309646bf"
      }
     },
     "6a25444f56054cc3b9229f57ec5d3912": {
      "model_module": "@jupyter-widgets/controls",
      "model_module_version": "1.5.0",
      "model_name": "DescriptionStyleModel",
      "state": {
       "description_width": ""
      }
     },
     "6b4714dc16084928b659bc54b7b42055": {
      "model_module": "@jupyter-widgets/controls",
      "model_module_version": "1.5.0",
      "model_name": "HTMLModel",
      "state": {
       "layout": "IPY_MODEL_c778b9de9f8248819349259210c87454",
       "style": "IPY_MODEL_f1f72661e75d430ba8e170487e3254c6"
      }
     },
     "72218bf3f644451499d149bf00b22998": {
      "model_module": "@jupyter-widgets/controls",
      "model_module_version": "1.5.0",
      "model_name": "DescriptionStyleModel",
      "state": {
       "description_width": ""
      }
     },
     "7344cf94e83e4211918704d480640da5": {
      "model_module": "@jupyter-widgets/controls",
      "model_module_version": "1.5.0",
      "model_name": "HTMLModel",
      "state": {
       "layout": "IPY_MODEL_073c6c9a01c9438da0b2bb3b623f80c7",
       "style": "IPY_MODEL_fe9866a38cb34a11a48d48bd48fc7fa5"
      }
     },
     "79b9a3422434417f95cad847cdb1eae0": {
      "model_module": "@jupyter-widgets/base",
      "model_module_version": "1.2.0",
      "model_name": "LayoutModel",
      "state": {}
     },
     "79ff49ba85f74ff1abb2e7a809e8b229": {
      "model_module": "@jupyter-widgets/controls",
      "model_module_version": "1.5.0",
      "model_name": "FloatProgressModel",
      "state": {
       "layout": "IPY_MODEL_e8a101fc7e314fa3afadeda78bff12ba",
       "max": 1,
       "style": "IPY_MODEL_b391a6081f07407083f051fc81248d17"
      }
     },
     "7c19451887b24a8c8ce5d507aff1c18f": {
      "model_module": "@jupyter-widgets/controls",
      "model_module_version": "1.5.0",
      "model_name": "FloatProgressModel",
      "state": {
       "bar_style": "success",
       "layout": "IPY_MODEL_e751aae674e04d9292fdb7fd0f70d4eb",
       "max": 1,
       "style": "IPY_MODEL_34546f1f950742d1aaccb41c51238c2e"
      }
     },
     "81c9308af3cc4a688c2a7debeb0ba45c": {
      "model_module": "@jupyter-widgets/base",
      "model_module_version": "1.2.0",
      "model_name": "LayoutModel",
      "state": {}
     },
     "81fa70ea0c8f48428ff8ccad38bb20c2": {
      "model_module": "@jupyter-widgets/controls",
      "model_module_version": "1.5.0",
      "model_name": "HBoxModel",
      "state": {
       "children": [
        "IPY_MODEL_e0a0bbc37b5043bb8a085b4e69936cbc",
        "IPY_MODEL_205f9d4ca419472d95eed182015923f6",
        "IPY_MODEL_d9a5411e998543d9805d1b53340dc4ad"
       ],
       "layout": "IPY_MODEL_c0deb4424f964988b70e542d436e4c3a"
      }
     },
     "869bc0aa1ff04a10b197a42e1b8a458b": {
      "model_module": "@jupyter-widgets/controls",
      "model_module_version": "1.5.0",
      "model_name": "FloatProgressModel",
      "state": {
       "layout": "IPY_MODEL_602b0137180b4cef80df81c9c117d60c",
       "max": 1,
       "style": "IPY_MODEL_f7add69fb91e4c54a487d57d2b3a6e9b"
      }
     },
     "86af40cb28044d9f901d5c81c7c34604": {
      "model_module": "@jupyter-widgets/base",
      "model_module_version": "1.2.0",
      "model_name": "LayoutModel",
      "state": {}
     },
     "8784f6fdf07c4356b66cae869723c06b": {
      "model_module": "@jupyter-widgets/base",
      "model_module_version": "1.2.0",
      "model_name": "LayoutModel",
      "state": {}
     },
     "8b1789b90b2747ea90b62634907f48ea": {
      "model_module": "@jupyter-widgets/controls",
      "model_module_version": "1.5.0",
      "model_name": "HTMLModel",
      "state": {
       "layout": "IPY_MODEL_f905251e22b44c4eaeeb93fb3911a0f1",
       "style": "IPY_MODEL_0d252624682c4ad4997c7808a0ad0cbf",
       "value": " 0/? [12:59&lt;?, ?it/s]"
      }
     },
     "8d93593484474bd0a22b5ef7e465442d": {
      "model_module": "@jupyter-widgets/controls",
      "model_module_version": "1.5.0",
      "model_name": "HTMLModel",
      "state": {
       "layout": "IPY_MODEL_c778b9de9f8248819349259210c87454",
       "style": "IPY_MODEL_f1f72661e75d430ba8e170487e3254c6"
      }
     },
     "8e5fcf2f64af407aac53172a74eed526": {
      "model_module": "@jupyter-widgets/controls",
      "model_module_version": "1.5.0",
      "model_name": "ProgressStyleModel",
      "state": {
       "description_width": ""
      }
     },
     "8f1af3b25bfc4b7383613757ad5f4987": {
      "model_module": "@jupyter-widgets/base",
      "model_module_version": "1.2.0",
      "model_name": "LayoutModel",
      "state": {}
     },
     "9139595d11824745997d978c7b879b17": {
      "model_module": "@jupyter-widgets/base",
      "model_module_version": "1.2.0",
      "model_name": "LayoutModel",
      "state": {}
     },
     "946cd3463685433bade4a5c6cd289866": {
      "model_module": "@jupyter-widgets/base",
      "model_module_version": "1.2.0",
      "model_name": "LayoutModel",
      "state": {}
     },
     "966341a70cf94b429827f9e77a68ab79": {
      "model_module": "@jupyter-widgets/base",
      "model_module_version": "1.2.0",
      "model_name": "LayoutModel",
      "state": {}
     },
     "96da3dd7b72b441a8cc7b8b64f816012": {
      "model_module": "@jupyter-widgets/controls",
      "model_module_version": "1.5.0",
      "model_name": "FloatProgressModel",
      "state": {
       "bar_style": "success",
       "layout": "IPY_MODEL_e8a101fc7e314fa3afadeda78bff12ba",
       "max": 1,
       "style": "IPY_MODEL_b391a6081f07407083f051fc81248d17"
      }
     },
     "989503bab7ff4069947d731efd5568f1": {
      "model_module": "@jupyter-widgets/base",
      "model_module_version": "1.2.0",
      "model_name": "LayoutModel",
      "state": {}
     },
     "98ad0a6eb47a48f78880f4145c8bd246": {
      "model_module": "@jupyter-widgets/controls",
      "model_module_version": "1.5.0",
      "model_name": "DescriptionStyleModel",
      "state": {
       "description_width": ""
      }
     },
     "99f08db3750646f4b54e48a6c0866326": {
      "model_module": "@jupyter-widgets/controls",
      "model_module_version": "1.5.0",
      "model_name": "FloatProgressModel",
      "state": {
       "layout": "IPY_MODEL_1d095b5dadd14488a061563188e9eea1",
       "max": 1,
       "style": "IPY_MODEL_0188c75af28d49c6bd7b2eb2fcd0f481"
      }
     },
     "a6e9bb83a1f1405a9a4ee6bc81bc13a1": {
      "model_module": "@jupyter-widgets/controls",
      "model_module_version": "1.5.0",
      "model_name": "HTMLModel",
      "state": {
       "layout": "IPY_MODEL_8784f6fdf07c4356b66cae869723c06b",
       "style": "IPY_MODEL_044b39d028754382a08ebaede5c6170a",
       "value": "Generating segment speeds itp_id: 294:  16%"
      }
     },
     "a94ef79a50ab4fd89d2433c34153dca1": {
      "model_module": "@jupyter-widgets/controls",
      "model_module_version": "1.5.0",
      "model_name": "DescriptionStyleModel",
      "state": {
       "description_width": ""
      }
     },
     "aa1db78db075449cb92c93f9ed01914e": {
      "model_module": "@jupyter-widgets/base",
      "model_module_version": "1.2.0",
      "model_name": "LayoutModel",
      "state": {}
     },
     "ab97823bbf1743c2b3af75fb89cfe83b": {
      "model_module": "@jupyter-widgets/controls",
      "model_module_version": "1.5.0",
      "model_name": "HBoxModel",
      "state": {
       "children": [
        "IPY_MODEL_6972c8a2c2a64d42a02c7083c7694c46",
        "IPY_MODEL_7c19451887b24a8c8ce5d507aff1c18f",
        "IPY_MODEL_8b1789b90b2747ea90b62634907f48ea"
       ],
       "layout": "IPY_MODEL_af4b45e8835f4603919d6e691f96f6a5"
      }
     },
     "acf7e1742d54406ca9e6cf065119d33a": {
      "model_module": "@jupyter-widgets/controls",
      "model_module_version": "1.5.0",
      "model_name": "HTMLModel",
      "state": {
       "layout": "IPY_MODEL_4a60f53c251344629786950735d5caa0",
       "style": "IPY_MODEL_eb306e234c5348f1b14d671d6cfa659a",
       "value": " 0/? [03:50&lt;?, ?it/s]"
      }
     },
     "adbd202e66c947ef8531b04ae4f2efa5": {
      "model_module": "@jupyter-widgets/controls",
      "model_module_version": "1.5.0",
      "model_name": "HBoxModel",
      "state": {
       "children": [
        "IPY_MODEL_e0a0bbc37b5043bb8a085b4e69936cbc",
        "IPY_MODEL_205f9d4ca419472d95eed182015923f6",
        "IPY_MODEL_d9a5411e998543d9805d1b53340dc4ad"
       ],
       "layout": "IPY_MODEL_c0deb4424f964988b70e542d436e4c3a"
      }
     },
     "ae814b61dbbb4d35b4a846f67825cea6": {
      "model_module": "@jupyter-widgets/base",
      "model_module_version": "1.2.0",
      "model_name": "LayoutModel",
      "state": {}
     },
     "aea2bdd875ae44b58ed7e8a12f271487": {
      "model_module": "@jupyter-widgets/controls",
      "model_module_version": "1.5.0",
      "model_name": "HBoxModel",
      "state": {
       "children": [
        "IPY_MODEL_4b94b20f9e194762a7055182660edd11",
        "IPY_MODEL_d9fb5b53bb8046c89286555b04c3f697",
        "IPY_MODEL_cdc7bad41ee2492da6b45ee2c6c8d082"
       ],
       "layout": "IPY_MODEL_9139595d11824745997d978c7b879b17"
      }
     },
     "af3d552f06704c6290e400b6424204b7": {
      "model_module": "@jupyter-widgets/base",
      "model_module_version": "1.2.0",
      "model_name": "LayoutModel",
      "state": {}
     },
     "af4b45e8835f4603919d6e691f96f6a5": {
      "model_module": "@jupyter-widgets/base",
      "model_module_version": "1.2.0",
      "model_name": "LayoutModel",
      "state": {}
     },
     "afb05e1233624ae7988c0ad4f1878c11": {
      "model_module": "@jupyter-widgets/controls",
      "model_module_version": "1.5.0",
      "model_name": "FloatProgressModel",
      "state": {
       "layout": "IPY_MODEL_18ae161ff002464d827b90dda6906217",
       "max": 216,
       "style": "IPY_MODEL_4fae6c38056d4c08ba82fb794a461978",
       "value": 35
      }
     },
     "b0c775788c2b490fb3aa2cf8309646bf": {
      "model_module": "@jupyter-widgets/controls",
      "model_module_version": "1.5.0",
      "model_name": "DescriptionStyleModel",
      "state": {
       "description_width": ""
      }
     },
     "b1757f4d489e474399468dc3bd547abf": {
      "model_module": "@jupyter-widgets/controls",
      "model_module_version": "1.5.0",
      "model_name": "HTMLModel",
      "state": {
       "layout": "IPY_MODEL_c1b0f3cf552f45d09a8d142e86295636",
       "style": "IPY_MODEL_0718e7fc95ba4122b5875e1cdb6a3ef1"
      }
     },
     "b391a6081f07407083f051fc81248d17": {
      "model_module": "@jupyter-widgets/controls",
      "model_module_version": "1.5.0",
      "model_name": "ProgressStyleModel",
      "state": {
       "description_width": ""
      }
     },
     "b3e57a75f61e46f29ed8be0d0c52ab03": {
      "model_module": "@jupyter-widgets/controls",
      "model_module_version": "1.5.0",
      "model_name": "ProgressStyleModel",
      "state": {
       "description_width": ""
      }
     },
     "b3ff9e11af8a4105a19376fcc69bc334": {
      "model_module": "@jupyter-widgets/base",
      "model_module_version": "1.2.0",
      "model_name": "LayoutModel",
      "state": {}
     },
     "b4880a5023b646f7b19d2f4450424f51": {
      "model_module": "@jupyter-widgets/base",
      "model_module_version": "1.2.0",
      "model_name": "LayoutModel",
      "state": {}
     },
     "b4e9d86d511c401a83d8274d8c1dd01a": {
      "model_module": "@jupyter-widgets/base",
      "model_module_version": "1.2.0",
      "model_name": "LayoutModel",
      "state": {}
     },
     "b66480b5dbdf4fdc864eb07a85f5032b": {
      "model_module": "@jupyter-widgets/controls",
      "model_module_version": "1.5.0",
      "model_name": "HBoxModel",
      "state": {
       "children": [
        "IPY_MODEL_f4500ac2bb4f4af2ba650c28ca35fcf2",
        "IPY_MODEL_16a1e3a1424742b5b7b1b06b3659f536",
        "IPY_MODEL_c1e05229bddb49b29d923277ebe59175"
       ],
       "layout": "IPY_MODEL_5c6219c129f040c9abcde815304f03d7"
      }
     },
     "b69407465d5d4b21adf3c9a3b3119359": {
      "model_module": "@jupyter-widgets/controls",
      "model_module_version": "1.5.0",
      "model_name": "HBoxModel",
      "state": {
       "children": [
        "IPY_MODEL_8d93593484474bd0a22b5ef7e465442d",
        "IPY_MODEL_49d0a93fd231478ca830ca08c5538829",
        "IPY_MODEL_acf7e1742d54406ca9e6cf065119d33a"
       ],
       "layout": "IPY_MODEL_11a173411b164e0da79c7c23d41d1694"
      }
     },
     "b962645b06434483b7e54d56c3951d69": {
      "model_module": "@jupyter-widgets/controls",
      "model_module_version": "1.5.0",
      "model_name": "DescriptionStyleModel",
      "state": {
       "description_width": ""
      }
     },
     "ba884436959e45c4ab5b2a8fb0e701f6": {
      "model_module": "@jupyter-widgets/base",
      "model_module_version": "1.2.0",
      "model_name": "LayoutModel",
      "state": {}
     },
     "c0deb4424f964988b70e542d436e4c3a": {
      "model_module": "@jupyter-widgets/base",
      "model_module_version": "1.2.0",
      "model_name": "LayoutModel",
      "state": {}
     },
     "c1b0f3cf552f45d09a8d142e86295636": {
      "model_module": "@jupyter-widgets/base",
      "model_module_version": "1.2.0",
      "model_name": "LayoutModel",
      "state": {}
     },
     "c1e05229bddb49b29d923277ebe59175": {
      "model_module": "@jupyter-widgets/controls",
      "model_module_version": "1.5.0",
      "model_name": "HTMLModel",
      "state": {
       "layout": "IPY_MODEL_966341a70cf94b429827f9e77a68ab79",
       "style": "IPY_MODEL_ec6d17c3b312436a8e85f39db1e2ed78",
       "value": " 0/? [00:00&lt;?, ?it/s]"
      }
     },
     "c21bb8a721764941be70355aaeeb3191": {
      "model_module": "@jupyter-widgets/base",
      "model_module_version": "1.2.0",
      "model_name": "LayoutModel",
      "state": {}
     },
     "c6762b0315b940f48e51ec8bacf31429": {
      "model_module": "@jupyter-widgets/controls",
      "model_module_version": "1.5.0",
      "model_name": "HTMLModel",
      "state": {
       "layout": "IPY_MODEL_989503bab7ff4069947d731efd5568f1",
       "style": "IPY_MODEL_42a053a6f82d444d9babb42c070dc8af"
      }
     },
     "c778b9de9f8248819349259210c87454": {
      "model_module": "@jupyter-widgets/base",
      "model_module_version": "1.2.0",
      "model_name": "LayoutModel",
      "state": {}
     },
     "cafd1562c97143fc85a39cef1a444ae6": {
      "model_module": "@jupyter-widgets/base",
      "model_module_version": "1.2.0",
      "model_name": "LayoutModel",
      "state": {}
     },
     "cbb7c41c712e4986b8eb56cfd1002809": {
      "model_module": "@jupyter-widgets/controls",
      "model_module_version": "1.5.0",
      "model_name": "ProgressStyleModel",
      "state": {
       "description_width": ""
      }
     },
     "cd6b233881b94ce19a40ec28a3fe3701": {
      "model_module": "@jupyter-widgets/base",
      "model_module_version": "1.2.0",
      "model_name": "LayoutModel",
      "state": {}
     },
     "cdc7bad41ee2492da6b45ee2c6c8d082": {
      "model_module": "@jupyter-widgets/controls",
      "model_module_version": "1.5.0",
      "model_name": "HTMLModel",
      "state": {
       "layout": "IPY_MODEL_073c6c9a01c9438da0b2bb3b623f80c7",
       "style": "IPY_MODEL_fe9866a38cb34a11a48d48bd48fc7fa5",
       "value": " 0/? [05:02&lt;?, ?it/s]"
      }
     },
     "d690487128a94258a287c8bba56b0be7": {
      "model_module": "@jupyter-widgets/controls",
      "model_module_version": "1.5.0",
      "model_name": "HTMLModel",
      "state": {
       "layout": "IPY_MODEL_03afd702c7fb46fc9ff25be8c800fcd4",
       "style": "IPY_MODEL_b962645b06434483b7e54d56c3951d69"
      }
     },
     "d6daf4ef01c64ff1a98f74674dcdae10": {
      "model_module": "@jupyter-widgets/controls",
      "model_module_version": "1.5.0",
      "model_name": "HBoxModel",
      "state": {
       "children": [
        "IPY_MODEL_a6e9bb83a1f1405a9a4ee6bc81bc13a1",
        "IPY_MODEL_afb05e1233624ae7988c0ad4f1878c11",
        "IPY_MODEL_266eed32b1174f90acecc666e4442a81"
       ],
       "layout": "IPY_MODEL_63a221e7975343eeb096e15ea1df9550"
      }
     },
     "d9a5411e998543d9805d1b53340dc4ad": {
      "model_module": "@jupyter-widgets/controls",
      "model_module_version": "1.5.0",
      "model_name": "HTMLModel",
      "state": {
       "layout": "IPY_MODEL_b4880a5023b646f7b19d2f4450424f51",
       "style": "IPY_MODEL_a94ef79a50ab4fd89d2433c34153dca1",
       "value": " 0/? [00:22&lt;?, ?it/s]"
      }
     },
     "d9fb5b53bb8046c89286555b04c3f697": {
      "model_module": "@jupyter-widgets/controls",
      "model_module_version": "1.5.0",
      "model_name": "FloatProgressModel",
      "state": {
       "bar_style": "success",
       "layout": "IPY_MODEL_0068c9f19c3f4e04bce228687543f341",
       "max": 1,
       "style": "IPY_MODEL_eb601fb8dd0a4cce8dd0e02a27d24780"
      }
     },
     "dc18e911fe664cbb87685861233c6cde": {
      "model_module": "@jupyter-widgets/controls",
      "model_module_version": "1.5.0",
      "model_name": "HBoxModel",
      "state": {
       "children": [
        "IPY_MODEL_6972c8a2c2a64d42a02c7083c7694c46",
        "IPY_MODEL_7c19451887b24a8c8ce5d507aff1c18f",
        "IPY_MODEL_8b1789b90b2747ea90b62634907f48ea"
       ],
       "layout": "IPY_MODEL_af4b45e8835f4603919d6e691f96f6a5"
      }
     },
     "dc87e4601575408983b2626592a4e4aa": {
      "model_module": "@jupyter-widgets/base",
      "model_module_version": "1.2.0",
      "model_name": "LayoutModel",
      "state": {}
     },
     "dfd35da652a14633acf06d059f467a13": {
      "model_module": "@jupyter-widgets/controls",
      "model_module_version": "1.5.0",
      "model_name": "FloatProgressModel",
      "state": {
       "layout": "IPY_MODEL_5750aadfeea848ce8e69625cfce452c9",
       "max": 1,
       "style": "IPY_MODEL_cbb7c41c712e4986b8eb56cfd1002809"
      }
     },
     "e0a0bbc37b5043bb8a085b4e69936cbc": {
      "model_module": "@jupyter-widgets/controls",
      "model_module_version": "1.5.0",
      "model_name": "HTMLModel",
      "state": {
       "layout": "IPY_MODEL_68fdd8106dbb46f8be89c7b9557d8084",
       "style": "IPY_MODEL_fd70dd0d03e946738da3e9ff97d8a4d5"
      }
     },
     "e6273b0aa9054e2c93c4deb340d82cfe": {
      "model_module": "@jupyter-widgets/controls",
      "model_module_version": "1.5.0",
      "model_name": "HBoxModel",
      "state": {
       "children": [
        "IPY_MODEL_8d93593484474bd0a22b5ef7e465442d",
        "IPY_MODEL_49d0a93fd231478ca830ca08c5538829",
        "IPY_MODEL_acf7e1742d54406ca9e6cf065119d33a"
       ],
       "layout": "IPY_MODEL_11a173411b164e0da79c7c23d41d1694"
      }
     },
     "e6bdb2563866443cb6611a3e83c8ef29": {
      "model_module": "@jupyter-widgets/base",
      "model_module_version": "1.2.0",
      "model_name": "LayoutModel",
      "state": {}
     },
     "e751aae674e04d9292fdb7fd0f70d4eb": {
      "model_module": "@jupyter-widgets/base",
      "model_module_version": "1.2.0",
      "model_name": "LayoutModel",
      "state": {
       "width": "20px"
      }
     },
     "e78d0202ffd7414bb41392631c1db83d": {
      "model_module": "@jupyter-widgets/controls",
      "model_module_version": "1.5.0",
      "model_name": "ProgressStyleModel",
      "state": {
       "description_width": ""
      }
     },
     "e8a101fc7e314fa3afadeda78bff12ba": {
      "model_module": "@jupyter-widgets/base",
      "model_module_version": "1.2.0",
      "model_name": "LayoutModel",
      "state": {
       "width": "20px"
      }
     },
     "eb306e234c5348f1b14d671d6cfa659a": {
      "model_module": "@jupyter-widgets/controls",
      "model_module_version": "1.5.0",
      "model_name": "DescriptionStyleModel",
      "state": {
       "description_width": ""
      }
     },
     "eb503b4f1e8242ffb6f16e30535193f0": {
      "model_module": "@jupyter-widgets/controls",
      "model_module_version": "1.5.0",
      "model_name": "HTMLModel",
      "state": {
       "layout": "IPY_MODEL_f905251e22b44c4eaeeb93fb3911a0f1",
       "style": "IPY_MODEL_0d252624682c4ad4997c7808a0ad0cbf"
      }
     },
     "eb601fb8dd0a4cce8dd0e02a27d24780": {
      "model_module": "@jupyter-widgets/controls",
      "model_module_version": "1.5.0",
      "model_name": "ProgressStyleModel",
      "state": {
       "description_width": ""
      }
     },
     "ec6d17c3b312436a8e85f39db1e2ed78": {
      "model_module": "@jupyter-widgets/controls",
      "model_module_version": "1.5.0",
      "model_name": "DescriptionStyleModel",
      "state": {
       "description_width": ""
      }
     },
     "edad61dbdcf24660a5e45b41ebb39bfd": {
      "model_module": "@jupyter-widgets/base",
      "model_module_version": "1.2.0",
      "model_name": "LayoutModel",
      "state": {}
     },
     "eed2fd3b8df145bda0e36f889dd2bfdf": {
      "model_module": "@jupyter-widgets/base",
      "model_module_version": "1.2.0",
      "model_name": "LayoutModel",
      "state": {}
     },
     "f1538e82ee364880b91e276025548fd8": {
      "model_module": "@jupyter-widgets/controls",
      "model_module_version": "1.5.0",
      "model_name": "HTMLModel",
      "state": {
       "layout": "IPY_MODEL_946cd3463685433bade4a5c6cd289866",
       "style": "IPY_MODEL_b0c775788c2b490fb3aa2cf8309646bf"
      }
     },
     "f1f72661e75d430ba8e170487e3254c6": {
      "model_module": "@jupyter-widgets/controls",
      "model_module_version": "1.5.0",
      "model_name": "DescriptionStyleModel",
      "state": {
       "description_width": ""
      }
     },
     "f32df25de6d3424db239471d3001c218": {
      "model_module": "@jupyter-widgets/controls",
      "model_module_version": "1.5.0",
      "model_name": "HTMLModel",
      "state": {
       "layout": "IPY_MODEL_c1b0f3cf552f45d09a8d142e86295636",
       "style": "IPY_MODEL_0718e7fc95ba4122b5875e1cdb6a3ef1"
      }
     },
     "f4500ac2bb4f4af2ba650c28ca35fcf2": {
      "model_module": "@jupyter-widgets/controls",
      "model_module_version": "1.5.0",
      "model_name": "HTMLModel",
      "state": {
       "layout": "IPY_MODEL_989503bab7ff4069947d731efd5568f1",
       "style": "IPY_MODEL_42a053a6f82d444d9babb42c070dc8af"
      }
     },
     "f7add69fb91e4c54a487d57d2b3a6e9b": {
      "model_module": "@jupyter-widgets/controls",
      "model_module_version": "1.5.0",
      "model_name": "ProgressStyleModel",
      "state": {
       "description_width": ""
      }
     },
     "f905251e22b44c4eaeeb93fb3911a0f1": {
      "model_module": "@jupyter-widgets/base",
      "model_module_version": "1.2.0",
      "model_name": "LayoutModel",
      "state": {}
     },
     "f967d9d25e13442bb345f2749f8a0ae7": {
      "model_module": "@jupyter-widgets/controls",
      "model_module_version": "1.5.0",
      "model_name": "HTMLModel",
      "state": {
       "layout": "IPY_MODEL_aa1db78db075449cb92c93f9ed01914e",
       "style": "IPY_MODEL_faa352c05b334d718873d47de7c5b55b"
      }
     },
     "faa352c05b334d718873d47de7c5b55b": {
      "model_module": "@jupyter-widgets/controls",
      "model_module_version": "1.5.0",
      "model_name": "DescriptionStyleModel",
      "state": {
       "description_width": ""
      }
     },
     "fcf6491f08894ae1bf2a7a493de97e4c": {
      "model_module": "@jupyter-widgets/base",
      "model_module_version": "1.2.0",
      "model_name": "LayoutModel",
      "state": {}
     },
     "fd70dd0d03e946738da3e9ff97d8a4d5": {
      "model_module": "@jupyter-widgets/controls",
      "model_module_version": "1.5.0",
      "model_name": "DescriptionStyleModel",
      "state": {
       "description_width": ""
      }
     },
     "fdb95c06442f4e768a53d331b306f9f6": {
      "model_module": "@jupyter-widgets/controls",
      "model_module_version": "1.5.0",
      "model_name": "DescriptionStyleModel",
      "state": {
       "description_width": ""
      }
     },
     "fe9866a38cb34a11a48d48bd48fc7fa5": {
      "model_module": "@jupyter-widgets/controls",
      "model_module_version": "1.5.0",
      "model_name": "DescriptionStyleModel",
      "state": {
       "description_width": ""
      }
     },
     "ff73988e2c84439988ccb03fb37104b8": {
      "model_module": "@jupyter-widgets/base",
      "model_module_version": "1.2.0",
      "model_name": "LayoutModel",
      "state": {}
     }
    },
    "version_major": 2,
    "version_minor": 0
   }
  }
 },
 "nbformat": 4,
 "nbformat_minor": 5
}
