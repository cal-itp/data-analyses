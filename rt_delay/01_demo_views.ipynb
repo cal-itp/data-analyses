{
 "cells": [
  {
   "cell_type": "code",
   "execution_count": 1,
   "id": "13776c77-389b-4a72-811b-977b429aff77",
   "metadata": {},
   "outputs": [
    {
     "name": "stderr",
     "output_type": "stream",
     "text": [
      "/Users/edasmalchi/miniconda3/envs/calitp/lib/python3.10/site-packages/google/cloud/bigquery/client.py:535: UserWarning: Cannot create BigQuery Storage client, the dependency google-cloud-bigquery-storage is not installed.\n",
      "  warnings.warn(\n"
     ]
    }
   ],
   "source": [
    "import os\n",
    "os.environ[\"CALITP_BQ_MAX_BYTES\"] = str(100_000_000_000)\n",
    "\n",
    "from calitp.tables import tbl\n",
    "from calitp import query_sql\n",
    "import calitp.magics\n",
    "import branca\n",
    "\n",
    "import shared_utils\n",
    "import utils\n",
    "\n",
    "from siuba import *\n",
    "import pandas as pd\n",
    "import geopandas as gpd\n",
    "import shapely\n",
    "\n",
    "import datetime as dt\n",
    "import time\n",
    "from zoneinfo import ZoneInfo\n",
    "\n",
    "import rt_analysis as rt\n",
    "import importlib\n",
    "\n",
    "importlib.reload(utils)\n",
    "importlib.reload(rt)\n",
    "\n",
    "import gcsfs\n",
    "fs = gcsfs.GCSFileSystem()"
   ]
  },
  {
   "cell_type": "markdown",
   "id": "507b5ee1-4dc3-4dfb-98cf-a8faec1870b3",
   "metadata": {},
   "source": [
    "### Generating Analysis from RT Data\n",
    "\n",
    "* Currently supporting analysis for an entire day from a single operator at a time"
   ]
  },
  {
   "cell_type": "code",
   "execution_count": 2,
   "id": "de4d6e8a-58d0-4c9d-b23e-6f0a9c9f2294",
   "metadata": {},
   "outputs": [
    {
     "data": {
      "text/plain": [
       "\u001b[0;31mInit signature:\u001b[0m \u001b[0mrt\u001b[0m\u001b[0;34m.\u001b[0m\u001b[0mOperatorDayAnalysis\u001b[0m\u001b[0;34m(\u001b[0m\u001b[0mitp_id\u001b[0m\u001b[0;34m,\u001b[0m \u001b[0manalysis_date\u001b[0m\u001b[0;34m)\u001b[0m\u001b[0;34m\u001b[0m\u001b[0;34m\u001b[0m\u001b[0m\n",
       "\u001b[0;31mDocstring:\u001b[0m     \n",
       "New top-level class for rt delay/speed analysis of a single operator on a single day\n",
       "    \n",
       "\u001b[0;31mFile:\u001b[0m           ~/calitp/data-analyses/rt_delay/rt_analysis2.py\n",
       "\u001b[0;31mType:\u001b[0m           type\n",
       "\u001b[0;31mSubclasses:\u001b[0m     \n"
      ]
     },
     "metadata": {},
     "output_type": "display_data"
    }
   ],
   "source": [
    "rt.OperatorDayAnalysis?"
   ]
  },
  {
   "cell_type": "code",
   "execution_count": 3,
   "id": "0890cbcc-300c-4cae-8e1e-f837abe5dd75",
   "metadata": {},
   "outputs": [],
   "source": [
    "analysis_date = dt.date(2022, 1, 12)"
   ]
  },
  {
   "cell_type": "code",
   "execution_count": 1,
   "id": "80ee44fd-3573-4db2-95b5-03f57b12559d",
   "metadata": {
    "tags": []
   },
   "outputs": [],
   "source": [
    "# lbt = rt.OperatorDayAnalysis(170, analysis_date)"
   ]
  },
  {
   "cell_type": "code",
   "execution_count": 2,
   "id": "606059b7-dc6b-47ec-b7a5-eeca5e0f42da",
   "metadata": {
    "tags": []
   },
   "outputs": [],
   "source": [
    "# marin = rt.OperatorDayAnalysis(194, analysis_date)"
   ]
  },
  {
   "cell_type": "markdown",
   "id": "32994c0e-456a-45ae-82be-68433e212f85",
   "metadata": {},
   "source": [
    "### Working from a Single Trip\n",
    "\n",
    "* Each analysis has a position_interpolators attribute, a nested dict of trip_ids with an rt (and eventually a schedule) interpolator for each\n",
    "* rt interpolator is the foundation of RT analysis, based on Vehicle Positions\n",
    "    * trip information\n",
    "    * ability to interpolate arrival time at arbitrary distances along the route (shape)\n",
    "    * can generate a detailled single-trip speed map with full resolution from Vehicle Positions"
   ]
  },
  {
   "cell_type": "code",
   "execution_count": 29,
   "id": "095fbc47-ae18-484b-9be5-0b18faa73d8f",
   "metadata": {},
   "outputs": [
    {
     "data": {
      "text/plain": [
       "Timestamp('2022-01-12 13:47:39.950962')"
      ]
     },
     "execution_count": 29,
     "metadata": {},
     "output_type": "execute_result"
    }
   ],
   "source": [
    "lbt.position_interpolators['9288261']['rt'].time_at_position(5000) ## distance down the shape in meters"
   ]
  },
  {
   "cell_type": "code",
   "execution_count": 30,
   "id": "b4502519-4227-4fbd-bc65-66facfe5d828",
   "metadata": {},
   "outputs": [
    {
     "data": {
      "text/plain": [
       "'192'"
      ]
     },
     "execution_count": 30,
     "metadata": {},
     "output_type": "execute_result"
    }
   ],
   "source": [
    "lbt.position_interpolators['9288261']['rt'].route_id"
   ]
  },
  {
   "cell_type": "code",
   "execution_count": 31,
   "id": "7d668677-8441-4b8d-9bcc-2f77c636001e",
   "metadata": {},
   "outputs": [
    {
     "data": {
      "text/plain": [
       "'9288261'"
      ]
     },
     "execution_count": 31,
     "metadata": {},
     "output_type": "execute_result"
    }
   ],
   "source": [
    "lbt.position_interpolators['9288261']['rt'].trip_id"
   ]
  },
  {
   "cell_type": "code",
   "execution_count": 21,
   "id": "c1301416-d3b1-45b0-9266-ea58b64de3f7",
   "metadata": {},
   "outputs": [
    {
     "data": {
      "text/html": [
       "<div>\n",
       "<style scoped>\n",
       "    .dataframe tbody tr th:only-of-type {\n",
       "        vertical-align: middle;\n",
       "    }\n",
       "\n",
       "    .dataframe tbody tr th {\n",
       "        vertical-align: top;\n",
       "    }\n",
       "\n",
       "    .dataframe thead th {\n",
       "        text-align: right;\n",
       "    }\n",
       "</style>\n",
       "<table border=\"1\" class=\"dataframe\">\n",
       "  <thead>\n",
       "    <tr style=\"text-align: right;\">\n",
       "      <th></th>\n",
       "      <th>vehicle_timestamp</th>\n",
       "      <th>vehicle_position_latitude</th>\n",
       "      <th>vehicle_position_longitude</th>\n",
       "      <th>header_timestamp</th>\n",
       "      <th>geometry</th>\n",
       "      <th>shape_meters</th>\n",
       "      <th>last_time</th>\n",
       "      <th>last_loc</th>\n",
       "      <th>secs_from_last</th>\n",
       "      <th>meters_from_last</th>\n",
       "      <th>progressed</th>\n",
       "      <th>speed_from_last</th>\n",
       "    </tr>\n",
       "  </thead>\n",
       "  <tbody>\n",
       "    <tr>\n",
       "      <th>0</th>\n",
       "      <td>2022-01-12 13:30:13</td>\n",
       "      <td>33.768063</td>\n",
       "      <td>-118.192120</td>\n",
       "      <td>2022-01-12 13:30:33</td>\n",
       "      <td>POINT (167501.086 -470293.515)</td>\n",
       "      <td>44.451926</td>\n",
       "      <td>NaT</td>\n",
       "      <td>NaN</td>\n",
       "      <td>NaN</td>\n",
       "      <td>NaN</td>\n",
       "      <td>False</td>\n",
       "      <td>NaN</td>\n",
       "    </tr>\n",
       "    <tr>\n",
       "      <th>1</th>\n",
       "      <td>2022-01-12 13:31:14</td>\n",
       "      <td>33.768085</td>\n",
       "      <td>-118.192210</td>\n",
       "      <td>2022-01-12 13:31:33</td>\n",
       "      <td>POINT (167492.702 -470291.235)</td>\n",
       "      <td>52.795329</td>\n",
       "      <td>2022-01-12 13:30:13</td>\n",
       "      <td>44.451926</td>\n",
       "      <td>61.0</td>\n",
       "      <td>8.343404</td>\n",
       "      <td>True</td>\n",
       "      <td>0.136777</td>\n",
       "    </tr>\n",
       "    <tr>\n",
       "      <th>2</th>\n",
       "      <td>2022-01-12 13:32:14</td>\n",
       "      <td>33.768852</td>\n",
       "      <td>-118.193726</td>\n",
       "      <td>2022-01-12 13:32:33</td>\n",
       "      <td>POINT (167350.641 -470208.871)</td>\n",
       "      <td>266.678687</td>\n",
       "      <td>2022-01-12 13:31:14</td>\n",
       "      <td>52.795329</td>\n",
       "      <td>60.0</td>\n",
       "      <td>213.883357</td>\n",
       "      <td>True</td>\n",
       "      <td>3.564723</td>\n",
       "    </tr>\n",
       "  </tbody>\n",
       "</table>\n",
       "</div>"
      ],
      "text/plain": [
       "    vehicle_timestamp  vehicle_position_latitude  vehicle_position_longitude  \\\n",
       "0 2022-01-12 13:30:13                  33.768063                 -118.192120   \n",
       "1 2022-01-12 13:31:14                  33.768085                 -118.192210   \n",
       "2 2022-01-12 13:32:14                  33.768852                 -118.193726   \n",
       "\n",
       "     header_timestamp                        geometry  shape_meters  \\\n",
       "0 2022-01-12 13:30:33  POINT (167501.086 -470293.515)     44.451926   \n",
       "1 2022-01-12 13:31:33  POINT (167492.702 -470291.235)     52.795329   \n",
       "2 2022-01-12 13:32:33  POINT (167350.641 -470208.871)    266.678687   \n",
       "\n",
       "            last_time   last_loc  secs_from_last  meters_from_last  \\\n",
       "0                 NaT        NaN             NaN               NaN   \n",
       "1 2022-01-12 13:30:13  44.451926            61.0          8.343404   \n",
       "2 2022-01-12 13:31:14  52.795329            60.0        213.883357   \n",
       "\n",
       "   progressed  speed_from_last  \n",
       "0       False              NaN  \n",
       "1        True         0.136777  \n",
       "2        True         3.564723  "
      ]
     },
     "execution_count": 21,
     "metadata": {},
     "output_type": "execute_result"
    }
   ],
   "source": [
    "lbt.position_interpolators['9288261']['rt'].position_gdf >> head(3)"
   ]
  },
  {
   "cell_type": "code",
   "execution_count": 22,
   "id": "8153257f-e685-4954-ae1d-b8c43f614ed7",
   "metadata": {},
   "outputs": [
    {
     "data": {
      "text/html": [
       "<div>\n",
       "<style scoped>\n",
       "    .dataframe tbody tr th:only-of-type {\n",
       "        vertical-align: middle;\n",
       "    }\n",
       "\n",
       "    .dataframe tbody tr th {\n",
       "        vertical-align: top;\n",
       "    }\n",
       "\n",
       "    .dataframe thead th {\n",
       "        text-align: right;\n",
       "    }\n",
       "</style>\n",
       "<table border=\"1\" class=\"dataframe\">\n",
       "  <thead>\n",
       "    <tr style=\"text-align: right;\">\n",
       "      <th></th>\n",
       "      <th>vehicle_timestamp</th>\n",
       "      <th>vehicle_position_latitude</th>\n",
       "      <th>vehicle_position_longitude</th>\n",
       "      <th>header_timestamp</th>\n",
       "      <th>geometry</th>\n",
       "      <th>shape_meters</th>\n",
       "      <th>last_time</th>\n",
       "      <th>last_loc</th>\n",
       "      <th>secs_from_last</th>\n",
       "      <th>meters_from_last</th>\n",
       "      <th>progressed</th>\n",
       "      <th>speed_from_last</th>\n",
       "    </tr>\n",
       "  </thead>\n",
       "  <tbody>\n",
       "    <tr>\n",
       "      <th>66675</th>\n",
       "      <td>2022-01-12 13:31:14</td>\n",
       "      <td>33.768085</td>\n",
       "      <td>-118.192210</td>\n",
       "      <td>2022-01-12 13:31:33</td>\n",
       "      <td>POINT (167492.702 -470291.235)</td>\n",
       "      <td>52.795329</td>\n",
       "      <td>2022-01-12 13:30:13</td>\n",
       "      <td>44.451926</td>\n",
       "      <td>61.0</td>\n",
       "      <td>8.343404</td>\n",
       "      <td>True</td>\n",
       "      <td>0.136777</td>\n",
       "    </tr>\n",
       "    <tr>\n",
       "      <th>66676</th>\n",
       "      <td>2022-01-12 13:32:14</td>\n",
       "      <td>33.768852</td>\n",
       "      <td>-118.193726</td>\n",
       "      <td>2022-01-12 13:32:33</td>\n",
       "      <td>POINT (167350.641 -470208.871)</td>\n",
       "      <td>266.678687</td>\n",
       "      <td>2022-01-12 13:31:14</td>\n",
       "      <td>52.795329</td>\n",
       "      <td>60.0</td>\n",
       "      <td>213.883357</td>\n",
       "      <td>True</td>\n",
       "      <td>3.564723</td>\n",
       "    </tr>\n",
       "    <tr>\n",
       "      <th>66677</th>\n",
       "      <td>2022-01-12 13:33:14</td>\n",
       "      <td>33.770370</td>\n",
       "      <td>-118.193680</td>\n",
       "      <td>2022-01-12 13:33:33</td>\n",
       "      <td>POINT (167351.694 -470040.483)</td>\n",
       "      <td>435.011217</td>\n",
       "      <td>2022-01-12 13:32:14</td>\n",
       "      <td>266.678687</td>\n",
       "      <td>60.0</td>\n",
       "      <td>168.332530</td>\n",
       "      <td>True</td>\n",
       "      <td>2.805542</td>\n",
       "    </tr>\n",
       "  </tbody>\n",
       "</table>\n",
       "</div>"
      ],
      "text/plain": [
       "        vehicle_timestamp  vehicle_position_latitude  \\\n",
       "66675 2022-01-12 13:31:14                  33.768085   \n",
       "66676 2022-01-12 13:32:14                  33.768852   \n",
       "66677 2022-01-12 13:33:14                  33.770370   \n",
       "\n",
       "       vehicle_position_longitude    header_timestamp  \\\n",
       "66675                 -118.192210 2022-01-12 13:31:33   \n",
       "66676                 -118.193726 2022-01-12 13:32:33   \n",
       "66677                 -118.193680 2022-01-12 13:33:33   \n",
       "\n",
       "                             geometry  shape_meters           last_time  \\\n",
       "66675  POINT (167492.702 -470291.235)     52.795329 2022-01-12 13:30:13   \n",
       "66676  POINT (167350.641 -470208.871)    266.678687 2022-01-12 13:31:14   \n",
       "66677  POINT (167351.694 -470040.483)    435.011217 2022-01-12 13:32:14   \n",
       "\n",
       "         last_loc  secs_from_last  meters_from_last  progressed  \\\n",
       "66675   44.451926            61.0          8.343404        True   \n",
       "66676   52.795329            60.0        213.883357        True   \n",
       "66677  266.678687            60.0        168.332530        True   \n",
       "\n",
       "       speed_from_last  \n",
       "66675         0.136777  \n",
       "66676         3.564723  \n",
       "66677         2.805542  "
      ]
     },
     "execution_count": 22,
     "metadata": {},
     "output_type": "execute_result"
    }
   ],
   "source": [
    "lbt.position_interpolators['9288261']['rt'].progressing_positions >> head(3)"
   ]
  },
  {
   "cell_type": "code",
   "execution_count": 3,
   "id": "5e68bb73-6d1a-480d-a0aa-456986d9ca1d",
   "metadata": {
    "tags": []
   },
   "outputs": [],
   "source": [
    "# lbt.position_interpolators['9288261']['rt'].detailed_speed_map()"
   ]
  },
  {
   "cell_type": "markdown",
   "id": "740b2b44-09a5-46fc-93f1-8c392a1cc184",
   "metadata": {},
   "source": [
    "### Working from an entire Operator x Day\n",
    "\n",
    "* Includes view for delay at each stop, for all trips with RT data\n",
    "* Also basic info on how many scheduled trips covered by RT"
   ]
  },
  {
   "cell_type": "code",
   "execution_count": 33,
   "id": "dcaadad0-3e6f-4b75-b06f-6b7e2decd96b",
   "metadata": {},
   "outputs": [
    {
     "data": {
      "text/html": [
       "<div>\n",
       "<style scoped>\n",
       "    .dataframe tbody tr th:only-of-type {\n",
       "        vertical-align: middle;\n",
       "    }\n",
       "\n",
       "    .dataframe tbody tr th {\n",
       "        vertical-align: top;\n",
       "    }\n",
       "\n",
       "    .dataframe thead th {\n",
       "        text-align: right;\n",
       "    }\n",
       "</style>\n",
       "<table border=\"1\" class=\"dataframe\">\n",
       "  <thead>\n",
       "    <tr style=\"text-align: right;\">\n",
       "      <th></th>\n",
       "      <th>stop_id</th>\n",
       "      <th>stop_name</th>\n",
       "      <th>geometry</th>\n",
       "      <th>shape_id</th>\n",
       "      <th>shape_meters</th>\n",
       "      <th>trip_key</th>\n",
       "      <th>trip_id</th>\n",
       "      <th>stop_sequence</th>\n",
       "      <th>arrival_time</th>\n",
       "      <th>route_id</th>\n",
       "      <th>direction_id</th>\n",
       "      <th>actual_time</th>\n",
       "      <th>delay</th>\n",
       "    </tr>\n",
       "  </thead>\n",
       "  <tbody>\n",
       "    <tr>\n",
       "      <th>0</th>\n",
       "      <td>1329</td>\n",
       "      <td>BROADWAY &amp; WISCONSIN SE</td>\n",
       "      <td>POINT (170331.380 -470464.154)</td>\n",
       "      <td>1110082</td>\n",
       "      <td>3319.806387</td>\n",
       "      <td>-5721502980648177876</td>\n",
       "      <td>9288975</td>\n",
       "      <td>12</td>\n",
       "      <td>2022-01-12 11:48:34</td>\n",
       "      <td>111</td>\n",
       "      <td>1</td>\n",
       "      <td>2022-01-12 11:48:21.142052</td>\n",
       "      <td>0 days</td>\n",
       "    </tr>\n",
       "    <tr>\n",
       "      <th>1</th>\n",
       "      <td>1367</td>\n",
       "      <td>LAKEWOOD &amp; CENTRALIA NE</td>\n",
       "      <td>POINT (171955.580 -462251.798)</td>\n",
       "      <td>1110082</td>\n",
       "      <td>17292.340107</td>\n",
       "      <td>-5721502980648177876</td>\n",
       "      <td>9288975</td>\n",
       "      <td>47</td>\n",
       "      <td>2022-01-12 12:28:42</td>\n",
       "      <td>111</td>\n",
       "      <td>1</td>\n",
       "      <td>2022-01-12 12:28:00.969967</td>\n",
       "      <td>0 days</td>\n",
       "    </tr>\n",
       "    <tr>\n",
       "      <th>2</th>\n",
       "      <td>1330</td>\n",
       "      <td>BROADWAY &amp; TEMPLE SE</td>\n",
       "      <td>POINT (170602.891 -470529.426)</td>\n",
       "      <td>1110082</td>\n",
       "      <td>3599.026438</td>\n",
       "      <td>-5721502980648177876</td>\n",
       "      <td>9288975</td>\n",
       "      <td>13</td>\n",
       "      <td>2022-01-12 11:49:20</td>\n",
       "      <td>111</td>\n",
       "      <td>1</td>\n",
       "      <td>2022-01-12 11:48:57.729418</td>\n",
       "      <td>0 days</td>\n",
       "    </tr>\n",
       "  </tbody>\n",
       "</table>\n",
       "</div>"
      ],
      "text/plain": [
       "  stop_id                stop_name                        geometry shape_id  \\\n",
       "0    1329  BROADWAY & WISCONSIN SE  POINT (170331.380 -470464.154)  1110082   \n",
       "1    1367  LAKEWOOD & CENTRALIA NE  POINT (171955.580 -462251.798)  1110082   \n",
       "2    1330     BROADWAY & TEMPLE SE  POINT (170602.891 -470529.426)  1110082   \n",
       "\n",
       "   shape_meters             trip_key  trip_id  stop_sequence  \\\n",
       "0   3319.806387 -5721502980648177876  9288975             12   \n",
       "1  17292.340107 -5721502980648177876  9288975             47   \n",
       "2   3599.026438 -5721502980648177876  9288975             13   \n",
       "\n",
       "         arrival_time route_id direction_id                actual_time  delay  \n",
       "0 2022-01-12 11:48:34      111            1 2022-01-12 11:48:21.142052 0 days  \n",
       "1 2022-01-12 12:28:42      111            1 2022-01-12 12:28:00.969967 0 days  \n",
       "2 2022-01-12 11:49:20      111            1 2022-01-12 11:48:57.729418 0 days  "
      ]
     },
     "execution_count": 33,
     "metadata": {},
     "output_type": "execute_result"
    }
   ],
   "source": [
    "lbt.stop_delay_view >> head(3)"
   ]
  },
  {
   "cell_type": "code",
   "execution_count": 34,
   "id": "e11de45a-617b-4da9-a5cd-f8875a4e6d41",
   "metadata": {},
   "outputs": [
    {
     "data": {
      "text/html": [
       "<div>\n",
       "<style scoped>\n",
       "    .dataframe tbody tr th:only-of-type {\n",
       "        vertical-align: middle;\n",
       "    }\n",
       "\n",
       "    .dataframe tbody tr th {\n",
       "        vertical-align: top;\n",
       "    }\n",
       "\n",
       "    .dataframe thead th {\n",
       "        text-align: right;\n",
       "    }\n",
       "</style>\n",
       "<table border=\"1\" class=\"dataframe\">\n",
       "  <thead>\n",
       "    <tr style=\"text-align: right;\">\n",
       "      <th></th>\n",
       "      <th>stop_id</th>\n",
       "      <th>stop_name</th>\n",
       "      <th>mean_delay</th>\n",
       "      <th>max_delay</th>\n",
       "    </tr>\n",
       "  </thead>\n",
       "  <tbody>\n",
       "    <tr>\n",
       "      <th>127</th>\n",
       "      <td>0149</td>\n",
       "      <td>COWLES &amp; SANTA FE SW</td>\n",
       "      <td>0 days 00:33:32.411184</td>\n",
       "      <td>0 days 00:34:21.196251</td>\n",
       "    </tr>\n",
       "    <tr>\n",
       "      <th>1502</th>\n",
       "      <td>1996</td>\n",
       "      <td>LOS CERRITOS CENTER LAYOVER</td>\n",
       "      <td>0 days 00:17:58.926773170</td>\n",
       "      <td>0 days 00:38:54.258742</td>\n",
       "    </tr>\n",
       "    <tr>\n",
       "      <th>1819</th>\n",
       "      <td>4135</td>\n",
       "      <td>ARTESIA STATION BAY 3</td>\n",
       "      <td>0 days 00:11:05.832202164</td>\n",
       "      <td>0 days 00:30:12.565320</td>\n",
       "    </tr>\n",
       "  </tbody>\n",
       "</table>\n",
       "</div>"
      ],
      "text/plain": [
       "     stop_id                    stop_name                mean_delay  \\\n",
       "127     0149         COWLES & SANTA FE SW    0 days 00:33:32.411184   \n",
       "1502    1996  LOS CERRITOS CENTER LAYOVER 0 days 00:17:58.926773170   \n",
       "1819    4135        ARTESIA STATION BAY 3 0 days 00:11:05.832202164   \n",
       "\n",
       "                  max_delay  \n",
       "127  0 days 00:34:21.196251  \n",
       "1502 0 days 00:38:54.258742  \n",
       "1819 0 days 00:30:12.565320  "
      ]
     },
     "execution_count": 34,
     "metadata": {},
     "output_type": "execute_result"
    }
   ],
   "source": [
    "(lbt.stop_delay_view\n",
    " >> group_by(_.stop_id, _.stop_name)\n",
    " >> summarize(mean_delay = _.delay.mean(), max_delay = _.delay.max())\n",
    " >> arrange(-_.mean_delay)\n",
    " >> head(3)\n",
    ")"
   ]
  },
  {
   "cell_type": "code",
   "execution_count": 35,
   "id": "23e3f445-741d-4ce9-a281-2e7e206ce8aa",
   "metadata": {},
   "outputs": [
    {
     "data": {
      "text/plain": [
       "0.9982142857142857"
      ]
     },
     "execution_count": 35,
     "metadata": {},
     "output_type": "execute_result"
    }
   ],
   "source": [
    "lbt.scheduled_trip_rt_coverage ## Percentage of scheduled trips with at least some RT data"
   ]
  },
  {
   "cell_type": "code",
   "execution_count": 36,
   "id": "0e64373b-b701-4db4-8a79-6d82ccaea746",
   "metadata": {},
   "outputs": [
    {
     "data": {
      "text/html": [
       "<div>\n",
       "<style scoped>\n",
       "    .dataframe tbody tr th:only-of-type {\n",
       "        vertical-align: middle;\n",
       "    }\n",
       "\n",
       "    .dataframe tbody tr th {\n",
       "        vertical-align: top;\n",
       "    }\n",
       "\n",
       "    .dataframe thead th {\n",
       "        text-align: right;\n",
       "    }\n",
       "</style>\n",
       "<table border=\"1\" class=\"dataframe\">\n",
       "  <thead>\n",
       "    <tr style=\"text-align: right;\">\n",
       "      <th></th>\n",
       "      <th>trip_key</th>\n",
       "      <th>trip_id</th>\n",
       "      <th>shape_id</th>\n",
       "      <th>direction_id</th>\n",
       "      <th>min_meters</th>\n",
       "      <th>min_stop</th>\n",
       "      <th>max_meters</th>\n",
       "      <th>max_stop</th>\n",
       "    </tr>\n",
       "  </thead>\n",
       "  <tbody>\n",
       "    <tr>\n",
       "      <th>0</th>\n",
       "      <td>-9217889075259924607</td>\n",
       "      <td>9289433</td>\n",
       "      <td>610106</td>\n",
       "      <td>0</td>\n",
       "      <td>625.200598</td>\n",
       "      <td>3</td>\n",
       "      <td>18562.339122</td>\n",
       "      <td>53</td>\n",
       "    </tr>\n",
       "    <tr>\n",
       "      <th>1</th>\n",
       "      <td>-9216178830099537732</td>\n",
       "      <td>9288701</td>\n",
       "      <td>1730122</td>\n",
       "      <td>1</td>\n",
       "      <td>446.220653</td>\n",
       "      <td>2</td>\n",
       "      <td>30983.929803</td>\n",
       "      <td>88</td>\n",
       "    </tr>\n",
       "    <tr>\n",
       "      <th>2</th>\n",
       "      <td>-9180052545081174409</td>\n",
       "      <td>9296544</td>\n",
       "      <td>10070</td>\n",
       "      <td>1</td>\n",
       "      <td>2381.776799</td>\n",
       "      <td>4</td>\n",
       "      <td>7748.095459</td>\n",
       "      <td>15</td>\n",
       "    </tr>\n",
       "  </tbody>\n",
       "</table>\n",
       "</div>"
      ],
      "text/plain": [
       "              trip_key  trip_id shape_id direction_id   min_meters  min_stop  \\\n",
       "0 -9217889075259924607  9289433   610106            0   625.200598         3   \n",
       "1 -9216178830099537732  9288701  1730122            1   446.220653         2   \n",
       "2 -9180052545081174409  9296544    10070            1  2381.776799         4   \n",
       "\n",
       "     max_meters  max_stop  \n",
       "0  18562.339122        53  \n",
       "1  30983.929803        88  \n",
       "2   7748.095459        15  "
      ]
     },
     "execution_count": 36,
     "metadata": {},
     "output_type": "execute_result"
    }
   ],
   "source": [
    "lbt.route_coverage_summary() >> head(3)"
   ]
  },
  {
   "cell_type": "code",
   "execution_count": 23,
   "id": "8a639fcd-2d92-48d5-80ef-9b1eaa77a078",
   "metadata": {},
   "outputs": [],
   "source": [
    "lbt.set_filter(start_time='12:00', end_time='15:00', direction_id='1')"
   ]
  },
  {
   "cell_type": "code",
   "execution_count": 24,
   "id": "15e6f82c-a115-42d5-b0b4-2fb6db9788fe",
   "metadata": {},
   "outputs": [],
   "source": [
    "colorscale = branca.colormap.step.RdYlGn_10.scale(vmin=0, \n",
    " vmax=30)\n",
    "colorscale.caption = \"Speed (miles per hour)\""
   ]
  },
  {
   "cell_type": "code",
   "execution_count": 26,
   "id": "d6448935-bb1a-44ba-ac6c-405d2ae5235c",
   "metadata": {},
   "outputs": [
    {
     "data": {
      "text/plain": [
       "{'start_time': datetime.time(12, 0),\n",
       " 'end_time': datetime.time(15, 0),\n",
       " 'route_ids': None,\n",
       " 'direction_id': '1',\n",
       " 'direction': None}"
      ]
     },
     "execution_count": 26,
     "metadata": {},
     "output_type": "execute_result"
    }
   ],
   "source": [
    "lbt.filter"
   ]
  },
  {
   "cell_type": "code",
   "execution_count": 44,
   "id": "5d11095a-46e9-4893-af74-d031d9084a44",
   "metadata": {
    "tags": []
   },
   "outputs": [],
   "source": [
    "# m = lbt.segment_speed_map(how='low_speeds', colorscale=colorscale)"
   ]
  },
  {
   "cell_type": "code",
   "execution_count": 27,
   "id": "643fc8a9-3cb8-4e08-a3a6-6dc99f0f1bdb",
   "metadata": {},
   "outputs": [],
   "source": [
    "marin.set_filter(start_time='12:00', end_time='15:00', direction_id='1')"
   ]
  },
  {
   "cell_type": "code",
   "execution_count": 43,
   "id": "b840818b-476a-468c-86a0-838381d12abd",
   "metadata": {
    "tags": []
   },
   "outputs": [],
   "source": [
    "# m2 = marin.segment_speed_map(how='low_speeds', colorscale=colorscale)"
   ]
  },
  {
   "cell_type": "code",
   "execution_count": 40,
   "id": "e0a01750-5cac-40b1-bf40-e5038cee7e2c",
   "metadata": {},
   "outputs": [
    {
     "data": {
      "text/html": [
       "<div>\n",
       "<style scoped>\n",
       "    .dataframe tbody tr th:only-of-type {\n",
       "        vertical-align: middle;\n",
       "    }\n",
       "\n",
       "    .dataframe tbody tr th {\n",
       "        vertical-align: top;\n",
       "    }\n",
       "\n",
       "    .dataframe thead th {\n",
       "        text-align: right;\n",
       "    }\n",
       "</style>\n",
       "<table border=\"1\" class=\"dataframe\">\n",
       "  <thead>\n",
       "    <tr style=\"text-align: right;\">\n",
       "      <th></th>\n",
       "      <th>vehicle_timestamp</th>\n",
       "      <th>vehicle_position_latitude</th>\n",
       "      <th>vehicle_position_longitude</th>\n",
       "      <th>header_timestamp</th>\n",
       "      <th>geometry</th>\n",
       "      <th>shape_meters</th>\n",
       "      <th>last_time</th>\n",
       "      <th>last_loc</th>\n",
       "      <th>secs_from_last</th>\n",
       "      <th>meters_from_last</th>\n",
       "      <th>progressed</th>\n",
       "      <th>speed_from_last</th>\n",
       "    </tr>\n",
       "  </thead>\n",
       "  <tbody>\n",
       "    <tr>\n",
       "      <th>118619</th>\n",
       "      <td>2022-01-12 06:40:03</td>\n",
       "      <td>37.875280</td>\n",
       "      <td>-122.459150</td>\n",
       "      <td>2022-01-12 06:40:07</td>\n",
       "      <td>POINT (-215997.876 -12882.750)</td>\n",
       "      <td>375.002366</td>\n",
       "      <td>2022-01-12 06:39:44</td>\n",
       "      <td>345.142822</td>\n",
       "      <td>19.0</td>\n",
       "      <td>29.859544</td>\n",
       "      <td>True</td>\n",
       "      <td>1.571555</td>\n",
       "    </tr>\n",
       "    <tr>\n",
       "      <th>118622</th>\n",
       "      <td>2022-01-12 06:40:22</td>\n",
       "      <td>37.874280</td>\n",
       "      <td>-122.460010</td>\n",
       "      <td>2022-01-12 06:40:29</td>\n",
       "      <td>POINT (-216076.280 -12991.919)</td>\n",
       "      <td>1303.580789</td>\n",
       "      <td>2022-01-12 06:40:03</td>\n",
       "      <td>375.002366</td>\n",
       "      <td>19.0</td>\n",
       "      <td>928.578424</td>\n",
       "      <td>True</td>\n",
       "      <td>48.872549</td>\n",
       "    </tr>\n",
       "    <tr>\n",
       "      <th>118633</th>\n",
       "      <td>2022-01-12 06:42:24</td>\n",
       "      <td>37.874805</td>\n",
       "      <td>-122.459496</td>\n",
       "      <td>2022-01-12 06:42:27</td>\n",
       "      <td>POINT (-216029.630 -12934.748)</td>\n",
       "      <td>1377.330697</td>\n",
       "      <td>2022-01-12 06:41:53</td>\n",
       "      <td>1120.231716</td>\n",
       "      <td>31.0</td>\n",
       "      <td>257.098980</td>\n",
       "      <td>True</td>\n",
       "      <td>8.293515</td>\n",
       "    </tr>\n",
       "    <tr>\n",
       "      <th>118635</th>\n",
       "      <td>2022-01-12 06:42:45</td>\n",
       "      <td>37.875530</td>\n",
       "      <td>-122.459220</td>\n",
       "      <td>2022-01-12 06:42:47</td>\n",
       "      <td>POINT (-216003.303 -12854.808)</td>\n",
       "      <td>1479.794345</td>\n",
       "      <td>2022-01-12 06:42:24</td>\n",
       "      <td>1377.330697</td>\n",
       "      <td>21.0</td>\n",
       "      <td>102.463648</td>\n",
       "      <td>True</td>\n",
       "      <td>4.879221</td>\n",
       "    </tr>\n",
       "    <tr>\n",
       "      <th>118638</th>\n",
       "      <td>2022-01-12 06:42:53</td>\n",
       "      <td>37.875620</td>\n",
       "      <td>-122.459390</td>\n",
       "      <td>2022-01-12 06:43:09</td>\n",
       "      <td>POINT (-216017.972 -12844.419)</td>\n",
       "      <td>1497.756216</td>\n",
       "      <td>2022-01-12 06:42:45</td>\n",
       "      <td>1479.794345</td>\n",
       "      <td>8.0</td>\n",
       "      <td>17.961871</td>\n",
       "      <td>True</td>\n",
       "      <td>2.245234</td>\n",
       "    </tr>\n",
       "  </tbody>\n",
       "</table>\n",
       "</div>"
      ],
      "text/plain": [
       "         vehicle_timestamp  vehicle_position_latitude  \\\n",
       "118619 2022-01-12 06:40:03                  37.875280   \n",
       "118622 2022-01-12 06:40:22                  37.874280   \n",
       "118633 2022-01-12 06:42:24                  37.874805   \n",
       "118635 2022-01-12 06:42:45                  37.875530   \n",
       "118638 2022-01-12 06:42:53                  37.875620   \n",
       "\n",
       "        vehicle_position_longitude    header_timestamp  \\\n",
       "118619                 -122.459150 2022-01-12 06:40:07   \n",
       "118622                 -122.460010 2022-01-12 06:40:29   \n",
       "118633                 -122.459496 2022-01-12 06:42:27   \n",
       "118635                 -122.459220 2022-01-12 06:42:47   \n",
       "118638                 -122.459390 2022-01-12 06:43:09   \n",
       "\n",
       "                              geometry  shape_meters           last_time  \\\n",
       "118619  POINT (-215997.876 -12882.750)    375.002366 2022-01-12 06:39:44   \n",
       "118622  POINT (-216076.280 -12991.919)   1303.580789 2022-01-12 06:40:03   \n",
       "118633  POINT (-216029.630 -12934.748)   1377.330697 2022-01-12 06:41:53   \n",
       "118635  POINT (-216003.303 -12854.808)   1479.794345 2022-01-12 06:42:24   \n",
       "118638  POINT (-216017.972 -12844.419)   1497.756216 2022-01-12 06:42:45   \n",
       "\n",
       "           last_loc  secs_from_last  meters_from_last  progressed  \\\n",
       "118619   345.142822            19.0         29.859544        True   \n",
       "118622   375.002366            19.0        928.578424        True   \n",
       "118633  1120.231716            31.0        257.098980        True   \n",
       "118635  1377.330697            21.0        102.463648        True   \n",
       "118638  1479.794345             8.0         17.961871        True   \n",
       "\n",
       "        speed_from_last  \n",
       "118619         1.571555  \n",
       "118622        48.872549  \n",
       "118633         8.293515  \n",
       "118635         4.879221  \n",
       "118638         2.245234  "
      ]
     },
     "execution_count": 40,
     "metadata": {},
     "output_type": "execute_result"
    }
   ],
   "source": [
    "marin.position_interpolators['219002']['rt'].progressing_positions >> head(5)"
   ]
  },
  {
   "cell_type": "code",
   "execution_count": 42,
   "id": "6db6487a-fa01-4b0f-b6cc-a7f07fc3ecb1",
   "metadata": {},
   "outputs": [],
   "source": [
    "# marin.position_interpolators['219002']['rt'].detailed_speed_map()"
   ]
  },
  {
   "cell_type": "code",
   "execution_count": null,
   "id": "92c9ed46-7f32-4160-822e-4d35e1fdb95b",
   "metadata": {},
   "outputs": [],
   "source": []
  }
 ],
 "metadata": {
  "kernelspec": {
   "display_name": "Python 3 (ipykernel)",
   "language": "python",
   "name": "python3"
  },
  "language_info": {
   "codemirror_mode": {
    "name": "ipython",
    "version": 3
   },
   "file_extension": ".py",
   "mimetype": "text/x-python",
   "name": "python",
   "nbconvert_exporter": "python",
   "pygments_lexer": "ipython3",
   "version": "3.9.7"
  }
 },
 "nbformat": 4,
 "nbformat_minor": 5
}
