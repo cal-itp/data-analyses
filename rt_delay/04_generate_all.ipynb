{
 "cells": [
  {
   "cell_type": "code",
   "execution_count": 1,
   "id": "3aa74ab9-57b7-44cf-ab84-4f6514fc0397",
   "metadata": {},
   "outputs": [
    {
     "name": "stderr",
     "output_type": "stream",
     "text": [
      "/opt/conda/lib/python3.9/site-packages/geopandas/_compat.py:111: UserWarning: The Shapely GEOS version (3.10.2-CAPI-1.16.0) is incompatible with the GEOS version PyGEOS was compiled with (3.10.1-CAPI-1.16.0). Conversions between both will be slow.\n",
      "  warnings.warn(\n",
      "E0420 21:43:05.029166046    1226 fork_posix.cc:70]           Fork support is only compatible with the epoll1 and poll polling strategies\n",
      "E0420 21:43:07.519894894    1226 fork_posix.cc:70]           Fork support is only compatible with the epoll1 and poll polling strategies\n"
     ]
    }
   ],
   "source": [
    "import os\n",
    "os.environ[\"CALITP_BQ_MAX_BYTES\"] = str(800_000_000_000) ## 800GB?\n",
    "\n",
    "from calitp.tables import tbl\n",
    "from calitp import query_sql\n",
    "import calitp.magics\n",
    "import branca\n",
    "\n",
    "import shared_utils\n",
    "import utils\n",
    "\n",
    "from siuba import *\n",
    "import pandas as pd\n",
    "import geopandas as gpd\n",
    "import shapely\n",
    "\n",
    "import datetime as dt\n",
    "import time\n",
    "from zoneinfo import ZoneInfo\n",
    "\n",
    "import rt_analysis as rt\n",
    "import importlib\n",
    "\n",
    "import gcsfs\n",
    "fs = gcsfs.GCSFileSystem()\n",
    "\n",
    "from tqdm import tqdm_notebook\n",
    "from tqdm.notebook import trange, tqdm"
   ]
  },
  {
   "cell_type": "code",
   "execution_count": 2,
   "id": "c20d02bc-3636-4306-ad4c-a99d62011d78",
   "metadata": {},
   "outputs": [
    {
     "data": {
      "text/plain": [
       "<module 'rt_analysis' from '/home/jovyan/data-analyses/rt_delay/rt_analysis.py'>"
      ]
     },
     "execution_count": 2,
     "metadata": {},
     "output_type": "execute_result"
    }
   ],
   "source": [
    "importlib.reload(utils)\n",
    "importlib.reload(rt)"
   ]
  },
  {
   "cell_type": "code",
   "execution_count": 3,
   "id": "3a5bcb4a-6020-4943-840a-584548362563",
   "metadata": {},
   "outputs": [],
   "source": [
    "air_joined = pd.read_parquet('airtable_joined.parquet')"
   ]
  },
  {
   "cell_type": "code",
   "execution_count": 4,
   "id": "cbadc13a-3f4e-41f2-95e1-999f5d3bb348",
   "metadata": {},
   "outputs": [
    {
     "data": {
      "application/vnd.jupyter.widget-view+json": {
       "model_id": "1405578694744b76b2b03062b57440e4",
       "version_major": 2,
       "version_minor": 0
      },
      "text/plain": [
       "0it [00:00, ?it/s]"
      ]
     },
     "metadata": {},
     "output_type": "display_data"
    }
   ],
   "source": [
    "pbar = tqdm()"
   ]
  },
  {
   "cell_type": "markdown",
   "id": "ef3b629a-5c50-476b-b7e2-58d07e6163d8",
   "metadata": {},
   "source": [
    "#### Run all operators"
   ]
  },
  {
   "cell_type": "code",
   "execution_count": 5,
   "id": "1b61314c-082f-4008-8821-404faa01443f",
   "metadata": {},
   "outputs": [],
   "source": [
    "fs_list = fs.ls(f'{utils.GCS_FILE_PATH}rt_trips/')"
   ]
  },
  {
   "cell_type": "code",
   "execution_count": 6,
   "id": "71803f31-26b2-486d-ba0e-3dd335b70f95",
   "metadata": {
    "tags": []
   },
   "outputs": [],
   "source": [
    "ran_operators = [int(path.split('rt_trips/')[1].split('_')[0])\n",
    "                 for path in fs_list\n",
    "                 if path.split('rt_trips/')[1]]"
   ]
  },
  {
   "cell_type": "code",
   "execution_count": 7,
   "id": "9f55f46f-e297-4a57-ba18-86f855bc3a7c",
   "metadata": {
    "tags": []
   },
   "outputs": [],
   "source": [
    "not_ran_operators = []\n",
    "\n",
    "# for agency in air_joined.calitp_itp_id.unique():\n",
    "for agency in []:\n",
    "    if agency in ran_operators:\n",
    "        print(f'already ran: {agency}')\n",
    "        continue\n",
    "    analysis_date = dt.date(2022, 3, 30) ##wednesday, new tables\n",
    "    ## https://docs.google.com/spreadsheets/d/16tcL3fPdYkrNajDNneSR1b5ImhFOCJ0gWFnEaXyg16A/edit#gid=0\n",
    "    if agency == 273:\n",
    "        analysis_date = dt.date(2022, 2, 8) # #override for SacRT \n",
    "    day = str(analysis_date.day).zfill(2)\n",
    "    month = str(analysis_date.month).zfill(2)\n",
    "    print(f'calculating for agency: {agency}...')\n",
    "    try:\n",
    "        rt_day = rt.OperatorDayAnalysis(agency, analysis_date, pbar)\n",
    "        delay_to_parquet = rt_day.stop_delay_view.copy()\n",
    "        delay_to_parquet['delay_seconds'] = delay_to_parquet.delay.map(lambda x: x.seconds)\n",
    "        delay_to_parquet['arrival_time'] = delay_to_parquet.arrival_time.map(lambda x: x.isoformat())\n",
    "        delay_to_parquet['actual_time'] = delay_to_parquet.actual_time.map(lambda x: x.isoformat())\n",
    "        delay_to_parquet = delay_to_parquet >> select(-_.delay)\n",
    "        shared_utils.utils.geoparquet_gcs_export(delay_to_parquet,\n",
    "                                         f'{utils.GCS_FILE_PATH}stop_delay_views/',\n",
    "                                        f'{agency}_{month}_{day}'\n",
    "                                        )\n",
    "        # rt_day.set_filter(start_time='15:00', end_time='19:00')\n",
    "        # m = rt_day.segment_speed_map(how='low_speeds', size = [1300, 700])\n",
    "        # shared_utils.utils.geoparquet_gcs_export(rt_day.stop_segment_speed_view,\n",
    "        #                                          f'{utils.GCS_FILE_PATH}segment_speed_views/',\n",
    "        #                                         f'{agency}_{month}_{day}_pm_peak'\n",
    "        #                                         )\n",
    "        rt_day.rt_trips.to_parquet(f'{utils.GCS_FILE_PATH}rt_trips/{agency}_{month}_{day}.parquet') ## early step towards scaling\n",
    "        # m.save(f'./speedmaps/{agency}_02_{day}_pm_peak.html')\n",
    "        # rt_day.stop_segment_speed_view.to_parquet(f'{utils.GCS_FILE_PATH}segment_speed_views/{agency}_02_{day}_pm_peak.parquet') ## early step towards scaling\n",
    "        delay_to_parquet = rt_day.endpoint_delay_view.copy()\n",
    "        delay_to_parquet['delay_seconds'] = delay_to_parquet.delay.map(lambda x: x.seconds)\n",
    "        delay_to_parquet = delay_to_parquet >> select(-_.delay)\n",
    "        shared_utils.utils.geoparquet_gcs_export(delay_to_parquet,\n",
    "                                         f'{utils.GCS_FILE_PATH}endpoint_delay_views/',\n",
    "                                        f'{agency}_{month}_{day}_pm_peak'\n",
    "                                        )\n",
    "        print(f'complete for agency: {agency}')\n",
    "    except Exception as e:\n",
    "        print(f'rt failed for agency {agency}')\n",
    "        not_ran_operators += [agency]\n",
    "        print(e)"
   ]
  },
  {
   "cell_type": "code",
   "execution_count": 8,
   "id": "0479b6bb-93e8-4d1d-af3e-a7825dea927d",
   "metadata": {},
   "outputs": [],
   "source": [
    "import yaml"
   ]
  },
  {
   "cell_type": "code",
   "execution_count": 9,
   "id": "f3b064ad-77f2-4fc1-aee5-706b9abe39f4",
   "metadata": {},
   "outputs": [],
   "source": [
    "airtable_organizations = (\n",
    "    tbl.airtable.california_transit_organizations()\n",
    "    >> select(_.itp_id, _.name, _.caltrans_district,\n",
    "              _.website, _.ntp_id, _.drmt_organization_name)\n",
    "    # >> filter(_.itp_id == itp_id)\n",
    "    >> collect()\n",
    ")"
   ]
  },
  {
   "cell_type": "code",
   "execution_count": 10,
   "id": "49cf8cde-ad46-407c-a0aa-dbcbad1a0821",
   "metadata": {},
   "outputs": [],
   "source": [
    "airtable_organizations = airtable_organizations.dropna(subset=['itp_id']) >> mutate(itp_id = _.itp_id.astype('int64'))"
   ]
  },
  {
   "cell_type": "code",
   "execution_count": 11,
   "id": "3e75d47e-a27f-494d-8056-79d3b7e3e392",
   "metadata": {},
   "outputs": [],
   "source": [
    "airtable_organizations = airtable_organizations >> filter(_.itp_id.isin(ran_operators)) >> arrange(_.caltrans_district)"
   ]
  },
  {
   "cell_type": "code",
   "execution_count": 12,
   "id": "c1c07ab4-7d4f-491b-a334-e7922cc258c5",
   "metadata": {},
   "outputs": [
    {
     "data": {
      "text/html": [
       "<div>\n",
       "<style scoped>\n",
       "    .dataframe tbody tr th:only-of-type {\n",
       "        vertical-align: middle;\n",
       "    }\n",
       "\n",
       "    .dataframe tbody tr th {\n",
       "        vertical-align: top;\n",
       "    }\n",
       "\n",
       "    .dataframe thead th {\n",
       "        text-align: right;\n",
       "    }\n",
       "</style>\n",
       "<table border=\"1\" class=\"dataframe\">\n",
       "  <thead>\n",
       "    <tr style=\"text-align: right;\">\n",
       "      <th></th>\n",
       "      <th>itp_id</th>\n",
       "      <th>name</th>\n",
       "      <th>caltrans_district</th>\n",
       "      <th>website</th>\n",
       "      <th>ntp_id</th>\n",
       "      <th>drmt_organization_name</th>\n",
       "    </tr>\n",
       "  </thead>\n",
       "  <tbody>\n",
       "    <tr>\n",
       "      <th>663</th>\n",
       "      <td>135</td>\n",
       "      <td>Humboldt Transit Authority</td>\n",
       "      <td>01 - Eureka</td>\n",
       "      <td>None</td>\n",
       "      <td>['reccKueWkvBCZoLQs']</td>\n",
       "      <td>['recu9h9nAElLpYoYO']</td>\n",
       "    </tr>\n",
       "    <tr>\n",
       "      <th>701</th>\n",
       "      <td>159</td>\n",
       "      <td>Lake Transit Authority</td>\n",
       "      <td>01 - Eureka</td>\n",
       "      <td>None</td>\n",
       "      <td>['recF9AnmCtEyxxDTY']</td>\n",
       "      <td>['reck7ddrpXSeA0mH0']</td>\n",
       "    </tr>\n",
       "    <tr>\n",
       "      <th>572</th>\n",
       "      <td>259</td>\n",
       "      <td>Redding Area Bus Authority</td>\n",
       "      <td>02 - Redding</td>\n",
       "      <td>None</td>\n",
       "      <td>['recoXZjKEOPldH8QJ']</td>\n",
       "      <td>None</td>\n",
       "    </tr>\n",
       "  </tbody>\n",
       "</table>\n",
       "</div>"
      ],
      "text/plain": [
       "     itp_id                        name caltrans_district website  \\\n",
       "663     135  Humboldt Transit Authority       01 - Eureka    None   \n",
       "701     159      Lake Transit Authority       01 - Eureka    None   \n",
       "572     259  Redding Area Bus Authority      02 - Redding    None   \n",
       "\n",
       "                    ntp_id drmt_organization_name  \n",
       "663  ['reccKueWkvBCZoLQs']  ['recu9h9nAElLpYoYO']  \n",
       "701  ['recF9AnmCtEyxxDTY']  ['reck7ddrpXSeA0mH0']  \n",
       "572  ['recoXZjKEOPldH8QJ']                   None  "
      ]
     },
     "execution_count": 12,
     "metadata": {},
     "output_type": "execute_result"
    }
   ],
   "source": [
    "airtable_organizations.head(3)"
   ]
  },
  {
   "cell_type": "code",
   "execution_count": 13,
   "id": "ac305032-c162-42c3-bcde-e1ab5ffc60ad",
   "metadata": {},
   "outputs": [],
   "source": [
    "with open('../portfolio/analyses.yml') as analyses:\n",
    "    analyses_data = yaml.load(analyses, yaml.Loader)"
   ]
  },
  {
   "cell_type": "code",
   "execution_count": 14,
   "id": "7509f217-a476-48a2-af66-129d1c6ed303",
   "metadata": {},
   "outputs": [],
   "source": [
    "exclude_ids = [312]"
   ]
  },
  {
   "cell_type": "code",
   "execution_count": 15,
   "id": "72d3829a-0fcc-460c-b1c5-15b869fae7da",
   "metadata": {},
   "outputs": [],
   "source": [
    "chapters_list = []\n",
    "for district in airtable_organizations.caltrans_district.unique():\n",
    "    chapter_dict = {}\n",
    "    filtered = (airtable_organizations\n",
    "                >> filter(_.caltrans_district == district)\n",
    "                >> distinct(_.itp_id, _keep_all=True)\n",
    "                >> filter(-_.itp_id.isin(exclude_ids))\n",
    "               )\n",
    "    chapter_dict['caption'] = f'District {district}'\n",
    "    chapter_dict['params'] = {'district': district}\n",
    "    chapter_dict['sections'] = [{'itp_id': itp_id} for itp_id in filtered.itp_id.to_list()]\n",
    "    chapters_list += [chapter_dict]"
   ]
  },
  {
   "cell_type": "code",
   "execution_count": 16,
   "id": "5278cf2f-f4d9-4b3d-a8f0-8203d0a12fb0",
   "metadata": {},
   "outputs": [],
   "source": [
    "parts_list = [{'chapters': chapters_list}]"
   ]
  },
  {
   "cell_type": "code",
   "execution_count": 17,
   "id": "9315ddd9-51af-4d90-8420-c4dc4058c383",
   "metadata": {},
   "outputs": [],
   "source": [
    "analyses_data['sites'][1]['parts'] = parts_list"
   ]
  },
  {
   "cell_type": "code",
   "execution_count": 18,
   "id": "db5cb5e7-0433-4b75-9b01-71d1171ccd06",
   "metadata": {},
   "outputs": [],
   "source": [
    "output = yaml.dump(analyses_data)"
   ]
  },
  {
   "cell_type": "code",
   "execution_count": 19,
   "id": "73670a45-879b-416d-9ce7-3cb2078e986e",
   "metadata": {},
   "outputs": [],
   "source": [
    "with open('../portfolio/analyses.yml', 'w') as analyses:\n",
    "    analyses.write(output)"
   ]
  },
  {
   "cell_type": "markdown",
   "id": "06af4bc3-016b-4f01-953e-805dc760c771",
   "metadata": {
    "tags": []
   },
   "source": [
    "### Ongoing issues\n",
    "* 358 Union City too many trips without shape?\n",
    "\n",
    "#### Parameters\n",
    "* 159 1+ maps don't render\n",
    "* 167 map_from_metrics fails"
   ]
  }
 ],
 "metadata": {
  "kernelspec": {
   "display_name": "Python 3 (ipykernel)",
   "language": "python",
   "name": "python3"
  },
  "language_info": {
   "codemirror_mode": {
    "name": "ipython",
    "version": 3
   },
   "file_extension": ".py",
   "mimetype": "text/x-python",
   "name": "python",
   "nbconvert_exporter": "python",
   "pygments_lexer": "ipython3",
   "version": "3.9.12"
  }
 },
 "nbformat": 4,
 "nbformat_minor": 5
}
