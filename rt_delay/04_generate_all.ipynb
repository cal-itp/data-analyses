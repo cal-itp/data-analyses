{
 "cells": [
  {
   "cell_type": "code",
   "execution_count": 1,
   "id": "3aa74ab9-57b7-44cf-ab84-4f6514fc0397",
   "metadata": {},
   "outputs": [
    {
     "name": "stderr",
     "output_type": "stream",
     "text": [
      "/opt/conda/lib/python3.9/site-packages/geopandas/_compat.py:111: UserWarning: The Shapely GEOS version (3.9.1-CAPI-1.14.2) is incompatible with the GEOS version PyGEOS was compiled with (3.10.1-CAPI-1.16.0). Conversions between both will be slow.\n",
      "  warnings.warn(\n"
     ]
    }
   ],
   "source": [
    "import os\n",
    "os.environ[\"CALITP_BQ_MAX_BYTES\"] = str(100_000_000_000)\n",
    "\n",
    "from calitp.tables import tbl\n",
    "from calitp import query_sql\n",
    "import calitp.magics\n",
    "import branca\n",
    "\n",
    "import shared_utils\n",
    "import utils\n",
    "\n",
    "from siuba import *\n",
    "import pandas as pd\n",
    "import geopandas as gpd\n",
    "import shapely\n",
    "\n",
    "import datetime as dt\n",
    "import time\n",
    "from zoneinfo import ZoneInfo\n",
    "\n",
    "import rt_analysis as rt\n",
    "import importlib\n",
    "\n",
    "importlib.reload(utils)\n",
    "importlib.reload(rt)\n",
    "\n",
    "import gcsfs\n",
    "fs = gcsfs.GCSFileSystem()\n",
    "\n",
    "from tqdm import tqdm_notebook\n",
    "from tqdm.notebook import trange, tqdm"
   ]
  },
  {
   "cell_type": "code",
   "execution_count": 2,
   "id": "3a5bcb4a-6020-4943-840a-584548362563",
   "metadata": {},
   "outputs": [],
   "source": [
    "air_joined = pd.read_parquet('airtable_joined.parquet')"
   ]
  },
  {
   "cell_type": "code",
   "execution_count": 3,
   "id": "32344653-99ad-4ac0-a555-063d485585d8",
   "metadata": {},
   "outputs": [],
   "source": [
    "analysis_date = dt.date(2022, 2, 8) ##tuesday, new tables"
   ]
  },
  {
   "cell_type": "code",
   "execution_count": 4,
   "id": "9ec9e470-fed8-418a-94cf-d7195487ae14",
   "metadata": {},
   "outputs": [],
   "source": [
    "colorscale = branca.colormap.step.RdYlGn_10.scale(vmin=0, vmax=30)\n",
    "colorscale.caption = \"Speed (miles per hour)\""
   ]
  },
  {
   "cell_type": "code",
   "execution_count": 5,
   "id": "11abf494-e0ee-4be4-ad9f-86bbcb3ab751",
   "metadata": {},
   "outputs": [],
   "source": [
    "# d3 = [273, 372, 221]"
   ]
  },
  {
   "cell_type": "code",
   "execution_count": 6,
   "id": "2f69aea6-3c0b-405c-95a7-2f85b18adaf6",
   "metadata": {},
   "outputs": [],
   "source": [
    "ran_operators = [int(filename.split('_')[0]) for filename in os.listdir('speedmaps') if filename[0] != '.']"
   ]
  },
  {
   "cell_type": "code",
   "execution_count": 7,
   "id": "cbadc13a-3f4e-41f2-95e1-999f5d3bb348",
   "metadata": {},
   "outputs": [
    {
     "data": {
      "application/vnd.jupyter.widget-view+json": {
       "model_id": "0fe237915b444120b7b97b9e38853afb",
       "version_major": 2,
       "version_minor": 0
      },
      "text/plain": [
       "0it [00:00, ?it/s]"
      ]
     },
     "metadata": {},
     "output_type": "display_data"
    }
   ],
   "source": [
    "pbar = tqdm()"
   ]
  },
  {
   "cell_type": "code",
   "execution_count": 8,
   "id": "151cb5a6-4b60-44ef-bb86-12b30160cacc",
   "metadata": {},
   "outputs": [],
   "source": [
    "not_ran = [380, 343, 360, 159, 346]"
   ]
  },
  {
   "cell_type": "code",
   "execution_count": 9,
   "id": "9f55f46f-e297-4a57-ba18-86f855bc3a7c",
   "metadata": {
    "tags": []
   },
   "outputs": [
    {
     "name": "stdout",
     "output_type": "stream",
     "text": [
      "calculating for agency: 284...\n",
      "found parquet\n",
      "found parquet\n",
      "found parquet\n",
      "found parquet\n",
      "found_parquet\n",
      "less than 1km of data\n",
      "vehicle positions gdf must not be empty\n",
      "less than 1km of data\n",
      "less than 1km of data\n",
      "less than 1km of data\n",
      "less than 1km of data\n",
      "less than 1km of data\n",
      "less than 1km of data\n",
      "less than 1km of data\n",
      "less than 1km of data\n",
      "less than 1km of data\n",
      "less than 1km of data\n",
      "less than 1km of data\n",
      "less than 1km of data\n",
      "less than 1km of data\n",
      "less than 1km of data\n",
      "could not generate delays for trip 257117\n",
      "Columns must be same length as key\n",
      "could not generate delays for trip 257127\n",
      "Columns must be same length as key\n",
      "could not generate delays for trip 255934\n",
      "Columns must be same length as key\n",
      "view filter: {'start_time': datetime.time(15, 0), 'end_time': datetime.time(19, 0), 'route_ids': None, 'direction_id': None, 'direction': None}\n",
      "speed above 80 for shape 32100, dropping\n",
      "negative speed for shape 32100, dropping\n",
      "speed above 80 for shape 32140, dropping\n",
      "negative speed for shape 32140, dropping\n",
      "speed above 80 for shape 32111, dropping\n",
      "negative speed for shape 32111, dropping\n",
      "speed above 80 for shape 32109, dropping\n",
      "negative speed for shape 32109, dropping\n",
      "speed above 80 for shape 32197, dropping\n",
      "negative speed for shape 32197, dropping\n",
      "speed above 80 for shape 32222, dropping\n",
      "negative speed for shape 32114, dropping\n",
      "negative speed for shape 32102, dropping\n",
      "speed above 80 for shape 32103, dropping\n",
      "negative speed for shape 32103, dropping\n",
      "speed above 80 for shape 32105, dropping\n"
     ]
    },
    {
     "name": "stderr",
     "output_type": "stream",
     "text": [
      "/opt/conda/lib/python3.9/site-packages/numpy/lib/function_base.py:3961: RuntimeWarning: invalid value encountered in subtract\n",
      "/opt/conda/lib/python3.9/site-packages/numpy/lib/function_base.py:3961: RuntimeWarning: invalid value encountered in subtract\n"
     ]
    },
    {
     "name": "stdout",
     "output_type": "stream",
     "text": [
      "speed above 80 for shape 32116, dropping\n",
      "negative speed for shape 32116, dropping\n",
      "negative speed for shape 32163, dropping\n",
      "speed above 80 for shape 32183, dropping\n",
      "negative speed for shape 32183, dropping\n"
     ]
    },
    {
     "name": "stderr",
     "output_type": "stream",
     "text": [
      "TopologyException: assigned depths do not match at -116060.80090243505 1239.5472101856335\n",
      "TopologyException: assigned depths do not match at -117953.55795454726 1648.8320321653728\n",
      "/opt/conda/lib/python3.9/site-packages/shapely/ops.py:634: ShapelyDeprecationWarning: GeometryTypeError will derive from ShapelyError and not TypeError or ValueError in Shapely 2.0.\n",
      "Input geom 1 is INVALID: Self-intersection at or near point -112002.82831454017 10863.90563969472 (-112002.82831454016559 10863.905639694719866)\n",
      "<A>\n",
      "MULTIPOLYGON (((-114084.0060600302240346 11813.8892132562868937, -114133.6894329562346684 11835.6277149225752510, -114083.3837823768844828 11855.8846031285356730, -114084.0060600302240346 11813.8892132562868937)), ((-112001.2387243993725860 10858.0429960649416898, -112014.0182606407324784 10905.1758165411702066, -111999.0615781328669982 10919.9168357853995985, -112001.2387243993725860 10858.0429960649416898)), ((-112002.8088594820874278 10863.8859000062984705, -112014.0182606407324784 10905.1758165411702066, -112028.9749431485979585 10890.4347972969408147, -112002.8088594820874278 10863.8859000062984705)))\n",
      "</A>\n",
      "TopologyException: Input geom 1 is invalid: Self-intersection at -112002.82831454017 10863.90563969472\n",
      "/home/jovyan/data-analyses/rt_delay/rt_analysis.py:548: UserWarning: Geometry is in a geographic CRS. Results from 'centroid' are likely incorrect. Use 'GeoSeries.to_crs()' to re-project geometries to a projected CRS before this operation.\n",
      "\n"
     ]
    },
    {
     "name": "stdout",
     "output_type": "stream",
     "text": [
      "complete for agency: 284\n"
     ]
    },
    {
     "name": "stderr",
     "output_type": "stream",
     "text": [
      "/tmp/ipykernel_1805/2123817923.py:15: UserWarning: this is an initial implementation of Parquet/Feather file support and associated metadata.  This is tracking version 0.1.0 of the metadata specification at https://github.com/geopandas/geo-arrow-spec\n",
      "\n",
      "This metadata specification does not yet make stability promises.  We do not yet recommend using this in a production setting unless you are able to rewrite your Parquet/Feather files.\n",
      "\n",
      "To further ignore this warning, you can do: \n",
      "import warnings; warnings.filterwarnings('ignore', message='.*initial implementation of Parquet.*')\n"
     ]
    }
   ],
   "source": [
    "# for agency in air_joined.calitp_itp_id.unique():\n",
    "for agency in [284]:\n",
    "    not_ran_operators = []\n",
    "    # if agency in ran_operators:\n",
    "    #     print(f'already ran: {agency}')\n",
    "    #     continue\n",
    "    print(f'calculating for agency: {agency}...')\n",
    "    try:\n",
    "        rt_day = rt.OperatorDayAnalysis(agency, analysis_date, pbar)\n",
    "        rt_day.set_filter(start_time='15:00', end_time='19:00')\n",
    "        rt_day.filter_formatted = ', PM Peak, Feb 08 (Tue)' ##TODO fix hardcode\n",
    "        rt_day.agency_name = (air_joined >> filter(_.calitp_itp_id == agency)).Name.iloc[0]\n",
    "        m = rt_day.segment_speed_map(how='low_speeds', colorscale=colorscale, size = [1300, 700])\n",
    "        m.save(f'./speedmaps/{agency}_02_08_pm_peak.html')\n",
    "        rt_day.stop_segment_speed_view.to_parquet(f'./speedmap_views/{agency}_02_08_pm_peak.parquet') ## early step towards scaling\n",
    "        print(f'complete for agency: {agency}')\n",
    "    except Exception as e:\n",
    "        print(f'rt failed for agency {agency}')\n",
    "        not_ran_operators += [agency]\n",
    "        print(e)"
   ]
  },
  {
   "cell_type": "code",
   "execution_count": null,
   "id": "79aad356-eb75-43c0-8cd9-9f81b1748aee",
   "metadata": {},
   "outputs": [],
   "source": [
    "# air_joined['url'] = air_joined.apply(lambda x:\n",
    "#                     f'http://docs.calitp.org/data-analyses/rt_delay/speedmaps/{x.calitp_itp_id}_02_08_pm_peak.html',\n",
    "#                                     axis = 1)\n",
    "\n",
    "# air_joined.to_csv('linked.csv')"
   ]
  }
 ],
 "metadata": {
  "kernelspec": {
   "display_name": "Python 3 (ipykernel)",
   "language": "python",
   "name": "python3"
  },
  "language_info": {
   "codemirror_mode": {
    "name": "ipython",
    "version": 3
   },
   "file_extension": ".py",
   "mimetype": "text/x-python",
   "name": "python",
   "nbconvert_exporter": "python",
   "pygments_lexer": "ipython3",
   "version": "3.9.7"
  }
 },
 "nbformat": 4,
 "nbformat_minor": 5
}
