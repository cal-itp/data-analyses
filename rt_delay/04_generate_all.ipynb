{
 "cells": [
  {
   "cell_type": "code",
   "execution_count": 1,
   "id": "3aa74ab9-57b7-44cf-ab84-4f6514fc0397",
   "metadata": {},
   "outputs": [
    {
     "name": "stderr",
     "output_type": "stream",
     "text": [
      "/opt/conda/lib/python3.10/site-packages/geopandas/_compat.py:112: UserWarning: The Shapely GEOS version (3.10.3-CAPI-1.16.1) is incompatible with the GEOS version PyGEOS was compiled with (3.10.1-CAPI-1.16.0). Conversions between both will be slow.\n",
      "  warnings.warn(\n"
     ]
    }
   ],
   "source": [
    "import os\n",
    "os.environ[\"CALITP_BQ_MAX_BYTES\"] = str(1_000_000_000_000) ## 1TB?\n",
    "\n",
    "from calitp.tables import tbl\n",
    "from calitp import query_sql\n",
    "import calitp.magics\n",
    "import branca\n",
    "\n",
    "import shared_utils\n",
    "\n",
    "from siuba import *\n",
    "import pandas as pd\n",
    "import geopandas as gpd\n",
    "import shapely\n",
    "\n",
    "import datetime as dt\n",
    "import time\n",
    "from zoneinfo import ZoneInfo\n",
    "\n",
    "import rt_analysis as rt\n",
    "import importlib\n",
    "\n",
    "import gcsfs\n",
    "fs = gcsfs.GCSFileSystem()\n",
    "\n",
    "from tqdm import tqdm_notebook\n",
    "from tqdm.notebook import trange, tqdm"
   ]
  },
  {
   "cell_type": "code",
   "execution_count": 2,
   "id": "3a5bcb4a-6020-4943-840a-584548362563",
   "metadata": {},
   "outputs": [],
   "source": [
    "air_joined = pd.read_parquet('airtable_joined.parquet')"
   ]
  },
  {
   "cell_type": "markdown",
   "id": "ef3b629a-5c50-476b-b7e2-58d07e6163d8",
   "metadata": {},
   "source": [
    "#### Run all operators"
   ]
  },
  {
   "cell_type": "code",
   "execution_count": 3,
   "id": "36f94f74-a695-4384-a536-2c37c3eb95ad",
   "metadata": {
    "tags": []
   },
   "outputs": [],
   "source": [
    "analysis_date = dt.date(2022, 5, 4) ##for exec board (prior run for comparison)"
   ]
  },
  {
   "cell_type": "code",
   "execution_count": 4,
   "id": "35f2212e-40d7-456c-a92a-50c61a581acc",
   "metadata": {},
   "outputs": [],
   "source": [
    "day = str(analysis_date.day).zfill(2)\n",
    "month = str(analysis_date.month).zfill(2)"
   ]
  },
  {
   "cell_type": "code",
   "execution_count": 5,
   "id": "1b61314c-082f-4008-8821-404faa01443f",
   "metadata": {},
   "outputs": [],
   "source": [
    "fs_list = fs.ls(f'{shared_utils.rt_utils.GCS_FILE_PATH}rt_trips/')"
   ]
  },
  {
   "cell_type": "code",
   "execution_count": 6,
   "id": "71803f31-26b2-486d-ba0e-3dd335b70f95",
   "metadata": {
    "tags": []
   },
   "outputs": [],
   "source": [
    "## now finds ran operators on specific analysis date\n",
    "ran_operators = [int(path.split('rt_trips/')[1].split('_')[0])\n",
    "                 for path in fs_list\n",
    "                 if path.split('rt_trips/')[1] and path.split('rt_trips/')[1].split('_')[1] == month and path.split('rt_trips/')[1].split('_')[2][:2] == day]"
   ]
  },
  {
   "cell_type": "code",
   "execution_count": 7,
   "id": "0fc8fa4e-8d95-4b66-8f50-6ad4e709d65e",
   "metadata": {},
   "outputs": [
    {
     "data": {
      "text/plain": [
       "44"
      ]
     },
     "execution_count": 7,
     "metadata": {},
     "output_type": "execute_result"
    }
   ],
   "source": [
    "len(ran_operators)"
   ]
  },
  {
   "cell_type": "code",
   "execution_count": 8,
   "id": "ce173aba-3d73-4d14-a438-bf95d081ce9a",
   "metadata": {
    "tags": []
   },
   "outputs": [],
   "source": [
    "# ran_operators"
   ]
  },
  {
   "cell_type": "code",
   "execution_count": 16,
   "id": "cbadc13a-3f4e-41f2-95e1-999f5d3bb348",
   "metadata": {},
   "outputs": [
    {
     "data": {
      "application/vnd.jupyter.widget-view+json": {
       "model_id": "96633c9a5a7849959577b817ba55c3a3",
       "version_major": 2,
       "version_minor": 0
      },
      "text/plain": [
       "0it [00:00, ?it/s]"
      ]
     },
     "metadata": {},
     "output_type": "display_data"
    }
   ],
   "source": [
    "pbar = tqdm()"
   ]
  },
  {
   "cell_type": "code",
   "execution_count": 17,
   "id": "df1324d7-ff0f-4a70-8af1-5bd4c0bca298",
   "metadata": {},
   "outputs": [],
   "source": [
    "# analysis_date = dt.date(2022, 2, 8) ##tuesday for sacRT"
   ]
  },
  {
   "cell_type": "code",
   "execution_count": null,
   "id": "9f55f46f-e297-4a57-ba18-86f855bc3a7c",
   "metadata": {
    "tags": []
   },
   "outputs": [
    {
     "name": "stdout",
     "output_type": "stream",
     "text": [
      "already ran: 484\n",
      "calculating for agency: 380...\n",
      "getting trips...\n",
      "rt failed for agency 380\n",
      "vehicle positions trip ids not in schedule\n",
      "already ran: 300\n",
      "already ran: 183\n",
      "already ran: 182\n",
      "already ran: 243\n",
      "already ran: 295\n",
      "already ran: 170\n",
      "already ran: 45\n",
      "already ran: 260\n",
      "already ran: 75\n",
      "already ran: 4\n",
      "already ran: 310\n",
      "calculating for agency: 314...\n",
      "getting trips...\n",
      "complete for agency: 314\n",
      "already ran: 247\n",
      "already ran: 315\n",
      "already ran: 301\n",
      "calculating for agency: 290...\n",
      "getting trips...\n"
     ]
    }
   ],
   "source": [
    "not_ran_operators = []\n",
    "for agency in air_joined.calitp_itp_id.unique():\n",
    "# for agency in [208]:\n",
    "    if agency in ran_operators:\n",
    "        print(f'already ran: {agency}')\n",
    "        continue\n",
    "    ## https://docs.google.com/spreadsheets/d/16tcL3fPdYkrNajDNneSR1b5ImhFOCJ0gWFnEaXyg16A/edit#gid=0\n",
    "    print(f'calculating for agency: {agency}...')\n",
    "    try:\n",
    "        rt_day = rt.OperatorDayAnalysis(agency, analysis_date, pbar)\n",
    "        rt_day.export_views_gcs()\n",
    "        print(f'complete for agency: {agency}')\n",
    "    except Exception as e:\n",
    "        print(f'rt failed for agency {agency}')\n",
    "        not_ran_operators += [agency]\n",
    "        print(e)"
   ]
  },
  {
   "cell_type": "code",
   "execution_count": null,
   "id": "431f2e8c-d002-436a-b7bf-58c5cb9c69e3",
   "metadata": {},
   "outputs": [],
   "source": [
    "# ran_operators += [273]"
   ]
  },
  {
   "cell_type": "code",
   "execution_count": null,
   "id": "cce39d3b-fa7a-45fd-813a-2baf957a3d4f",
   "metadata": {},
   "outputs": [],
   "source": [
    "import yaml\n",
    "import pyaml"
   ]
  },
  {
   "cell_type": "code",
   "execution_count": null,
   "id": "f3b064ad-77f2-4fc1-aee5-706b9abe39f4",
   "metadata": {},
   "outputs": [],
   "source": [
    "airtable_organizations = (\n",
    "    tbl.airtable.california_transit_organizations()\n",
    "    >> select(_.itp_id, _.name, _.caltrans_district,\n",
    "              _.website, _.ntp_id, _.drmt_organization_name)\n",
    "    # >> filter(_.itp_id == itp_id)\n",
    "    >> collect()\n",
    ")"
   ]
  },
  {
   "cell_type": "code",
   "execution_count": null,
   "id": "49cf8cde-ad46-407c-a0aa-dbcbad1a0821",
   "metadata": {},
   "outputs": [],
   "source": [
    "airtable_organizations = airtable_organizations.dropna(subset=['itp_id']) >> mutate(itp_id = _.itp_id.astype('int64'))"
   ]
  },
  {
   "cell_type": "code",
   "execution_count": null,
   "id": "3e75d47e-a27f-494d-8056-79d3b7e3e392",
   "metadata": {},
   "outputs": [],
   "source": [
    "airtable_organizations = airtable_organizations >> filter(_.itp_id.isin(ran_operators)) >> arrange(_.caltrans_district)"
   ]
  },
  {
   "cell_type": "code",
   "execution_count": null,
   "id": "c1c07ab4-7d4f-491b-a334-e7922cc258c5",
   "metadata": {},
   "outputs": [],
   "source": [
    "airtable_organizations.head(3)"
   ]
  },
  {
   "cell_type": "markdown",
   "id": "afc501cc-caf9-4f32-bb7e-ac7969491fba",
   "metadata": {},
   "source": [
    "# Export Working Organization View\n",
    "\n",
    "* streamline downstream analyses, to be replaced with warehouse step..."
   ]
  },
  {
   "cell_type": "code",
   "execution_count": null,
   "id": "09ac6c78-7175-4af0-9b6b-85a9a66df911",
   "metadata": {},
   "outputs": [],
   "source": [
    "airtable_organizations['analysis_date'] = analysis_date"
   ]
  },
  {
   "cell_type": "code",
   "execution_count": null,
   "id": "6f5358bb-abf5-45ec-aba7-eb5d96ffe0c6",
   "metadata": {},
   "outputs": [],
   "source": [
    "analysis_date.isoformat()"
   ]
  },
  {
   "cell_type": "code",
   "execution_count": null,
   "id": "ad5ff480-8f57-4e65-8e3e-e968740880f2",
   "metadata": {},
   "outputs": [],
   "source": [
    "airtable_organizations.to_parquet(f'./{analysis_date.isoformat()}_working_organizations.parquet')"
   ]
  },
  {
   "cell_type": "markdown",
   "id": "4fca51f6-7ba0-4a2a-a78a-e2f0981761e4",
   "metadata": {},
   "source": [
    "# Build Site"
   ]
  },
  {
   "cell_type": "code",
   "execution_count": null,
   "id": "ac305032-c162-42c3-bcde-e1ab5ffc60ad",
   "metadata": {},
   "outputs": [],
   "source": [
    "with open('../portfolio/sites/rt.yml') as rt_site:\n",
    "    analyses_data = yaml.load(rt_site, yaml.Loader)"
   ]
  },
  {
   "cell_type": "code",
   "execution_count": null,
   "id": "7509f217-a476-48a2-af66-129d1c6ed303",
   "metadata": {},
   "outputs": [],
   "source": [
    "exclude_ids = [312, 315, 246] ##rail only systems"
   ]
  },
  {
   "cell_type": "code",
   "execution_count": null,
   "id": "72d3829a-0fcc-460c-b1c5-15b869fae7da",
   "metadata": {},
   "outputs": [],
   "source": [
    "chapters_list = []\n",
    "for district in airtable_organizations.caltrans_district.unique():\n",
    "    if type(district) == type(None):\n",
    "        continue\n",
    "    chapter_dict = {}\n",
    "    filtered = (airtable_organizations\n",
    "                >> filter(_.caltrans_district == district)\n",
    "                >> distinct(_.itp_id, _keep_all=True)\n",
    "                >> filter(-_.itp_id.isin(exclude_ids))\n",
    "               )\n",
    "    chapter_dict['caption'] = f'District {district}'\n",
    "    chapter_dict['params'] = {'district': district}\n",
    "    chapter_dict['sections'] = [{'itp_id': itp_id} for itp_id in filtered.itp_id.to_list()]\n",
    "    chapters_list += [chapter_dict]"
   ]
  },
  {
   "cell_type": "code",
   "execution_count": null,
   "id": "5278cf2f-f4d9-4b3d-a8f0-8203d0a12fb0",
   "metadata": {},
   "outputs": [],
   "source": [
    "parts_list = [{'chapters': chapters_list}]"
   ]
  },
  {
   "cell_type": "code",
   "execution_count": null,
   "id": "c0d469f5-6b7c-4c2d-9fa6-110fa6a7b81d",
   "metadata": {},
   "outputs": [],
   "source": [
    "# parts_list"
   ]
  },
  {
   "cell_type": "code",
   "execution_count": null,
   "id": "4d0cb88c-6a55-43ea-8f58-9403aca2029e",
   "metadata": {},
   "outputs": [],
   "source": [
    "# analyses_data['parts']"
   ]
  },
  {
   "cell_type": "code",
   "execution_count": null,
   "id": "9315ddd9-51af-4d90-8420-c4dc4058c383",
   "metadata": {},
   "outputs": [],
   "source": [
    "analyses_data['parts'] = parts_list"
   ]
  },
  {
   "cell_type": "code",
   "execution_count": null,
   "id": "db5cb5e7-0433-4b75-9b01-71d1171ccd06",
   "metadata": {},
   "outputs": [],
   "source": [
    "output = pyaml.dump(analyses_data)"
   ]
  },
  {
   "cell_type": "code",
   "execution_count": null,
   "id": "fc9dc3fd-b620-49b8-970b-342b29c4bb2b",
   "metadata": {},
   "outputs": [],
   "source": [
    "with open('../portfolio/sites/test_rt.yml', 'w') as rt_site:\n",
    "    rt_site.write(output)"
   ]
  },
  {
   "cell_type": "code",
   "execution_count": null,
   "id": "73670a45-879b-416d-9ce7-3cb2078e986e",
   "metadata": {},
   "outputs": [],
   "source": [
    "# with open('../portfolio/sites/rt.yml', 'w') as rt_site:\n",
    "#     rt_site.write(output)"
   ]
  },
  {
   "cell_type": "markdown",
   "id": "06af4bc3-016b-4f01-953e-805dc760c771",
   "metadata": {
    "tags": []
   },
   "source": [
    "### Ongoing issues\n",
    "* 358 Union City too many trips without shape?\n",
    "\n",
    "#### Parameters\n",
    "* 159 1+ maps don't render\n",
    "* 167 map_from_metrics fails"
   ]
  }
 ],
 "metadata": {
  "kernelspec": {
   "display_name": "Python 3 (ipykernel)",
   "language": "python",
   "name": "python3"
  },
  "language_info": {
   "codemirror_mode": {
    "name": "ipython",
    "version": 3
   },
   "file_extension": ".py",
   "mimetype": "text/x-python",
   "name": "python",
   "nbconvert_exporter": "python",
   "pygments_lexer": "ipython3",
   "version": "3.10.5"
  }
 },
 "nbformat": 4,
 "nbformat_minor": 5
}
