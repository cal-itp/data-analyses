{
 "cells": [
  {
   "cell_type": "code",
   "execution_count": 26,
   "id": "3aa74ab9-57b7-44cf-ab84-4f6514fc0397",
   "metadata": {},
   "outputs": [],
   "source": [
    "import os\n",
    "os.environ[\"CALITP_BQ_MAX_BYTES\"] = str(100_000_000_000)\n",
    "\n",
    "from calitp.tables import tbl\n",
    "from calitp import query_sql\n",
    "import calitp.magics\n",
    "import branca\n",
    "\n",
    "import shared_utils\n",
    "import utils\n",
    "\n",
    "from siuba import *\n",
    "import pandas as pd\n",
    "import geopandas as gpd\n",
    "import shapely\n",
    "\n",
    "import datetime as dt\n",
    "import time\n",
    "from zoneinfo import ZoneInfo\n",
    "\n",
    "import rt_analysis as rt\n",
    "import importlib\n",
    "\n",
    "importlib.reload(utils)\n",
    "importlib.reload(rt)\n",
    "\n",
    "import gcsfs\n",
    "fs = gcsfs.GCSFileSystem()\n",
    "\n",
    "from tqdm import tqdm_notebook\n",
    "from tqdm.notebook import trange, tqdm"
   ]
  },
  {
   "cell_type": "code",
   "execution_count": 27,
   "id": "3a5bcb4a-6020-4943-840a-584548362563",
   "metadata": {},
   "outputs": [],
   "source": [
    "air_joined = pd.read_parquet('airtable_joined.parquet')"
   ]
  },
  {
   "cell_type": "code",
   "execution_count": 28,
   "id": "32344653-99ad-4ac0-a555-063d485585d8",
   "metadata": {},
   "outputs": [],
   "source": [
    "analysis_date = dt.date(2022, 2, 8) ##tuesday, new tables"
   ]
  },
  {
   "cell_type": "code",
   "execution_count": 29,
   "id": "9ec9e470-fed8-418a-94cf-d7195487ae14",
   "metadata": {},
   "outputs": [],
   "source": [
    "colorscale = branca.colormap.step.RdYlGn_10.scale(vmin=0, vmax=30)\n",
    "colorscale.caption = \"Speed (miles per hour)\""
   ]
  },
  {
   "cell_type": "code",
   "execution_count": 30,
   "id": "11abf494-e0ee-4be4-ad9f-86bbcb3ab751",
   "metadata": {},
   "outputs": [],
   "source": [
    "# d3 = [273, 372, 221]"
   ]
  },
  {
   "cell_type": "code",
   "execution_count": 31,
   "id": "2f69aea6-3c0b-405c-95a7-2f85b18adaf6",
   "metadata": {},
   "outputs": [],
   "source": [
    "ran_operators = [int(filename.split('_')[0]) for filename in os.listdir('speedmaps') if filename[0] != '.']"
   ]
  },
  {
   "cell_type": "code",
   "execution_count": 32,
   "id": "cbadc13a-3f4e-41f2-95e1-999f5d3bb348",
   "metadata": {},
   "outputs": [
    {
     "data": {
      "application/vnd.jupyter.widget-view+json": {
       "model_id": "e73da5cfefde4eb38316e1c71edb6b03",
       "version_major": 2,
       "version_minor": 0
      },
      "text/plain": [
       "0it [00:00, ?it/s]"
      ]
     },
     "metadata": {},
     "output_type": "display_data"
    }
   ],
   "source": [
    "pbar = tqdm()"
   ]
  },
  {
   "cell_type": "code",
   "execution_count": 36,
   "id": "9f55f46f-e297-4a57-ba18-86f855bc3a7c",
   "metadata": {
    "tags": []
   },
   "outputs": [
    {
     "name": "stdout",
     "output_type": "stream",
     "text": [
      "calculating for agency: 294...\n"
     ]
    },
    {
     "name": "stderr",
     "output_type": "stream",
     "text": [
      "/home/jovyan/data-analyses/_shared_utils/shared_utils/utils.py:36: UserWarning: this is an initial implementation of Parquet/Feather file support and associated metadata.  This is tracking version 0.1.0 of the metadata specification at https://github.com/geopandas/geo-arrow-spec\n",
      "\n",
      "This metadata specification does not yet make stability promises.  We do not yet recommend using this in a production setting unless you are able to rewrite your Parquet/Feather files.\n",
      "\n",
      "To further ignore this warning, you can do: \n",
      "import warnings; warnings.filterwarnings('ignore', message='.*initial implementation of Parquet.*')\n",
      "/home/jovyan/data-analyses/_shared_utils/shared_utils/utils.py:36: UserWarning: this is an initial implementation of Parquet/Feather file support and associated metadata.  This is tracking version 0.1.0 of the metadata specification at https://github.com/geopandas/geo-arrow-spec\n",
      "\n",
      "This metadata specification does not yet make stability promises.  We do not yet recommend using this in a production setting unless you are able to rewrite your Parquet/Feather files.\n",
      "\n",
      "To further ignore this warning, you can do: \n",
      "import warnings; warnings.filterwarnings('ignore', message='.*initial implementation of Parquet.*')\n"
     ]
    },
    {
     "name": "stdout",
     "output_type": "stream",
     "text": [
      "vehicle positions gdf must not be empty\n",
      "could not generate delays for trip 3149882\n",
      "time data '24:34:45' does not match format '%H:%M:%S'\n",
      "could not generate delays for trip 3153140\n",
      "time data '24:02:01' does not match format '%H:%M:%S'\n",
      "could not generate delays for trip 3149013\n",
      "time data '26:03:00' does not match format '%H:%M:%S'\n",
      "could not generate delays for trip 3124081\n",
      "time data '24:07:00' does not match format '%H:%M:%S'\n",
      "could not generate delays for trip 3124080\n",
      "time data '24:41:00' does not match format '%H:%M:%S'\n",
      "could not generate delays for trip 3124050\n",
      "time data '25:29:23' does not match format '%H:%M:%S'\n",
      "could not generate delays for trip 3149250\n",
      "time data '25:04:52' does not match format '%H:%M:%S'\n",
      "could not generate delays for trip 3148112\n",
      "time data '24:20:09' does not match format '%H:%M:%S'\n",
      "could not generate delays for trip 3148015\n",
      "Columns must be same length as key\n",
      "could not generate delays for trip 3132229\n",
      "time data '24:09:16' does not match format '%H:%M:%S'\n",
      "could not generate delays for trip 3140578\n",
      "time data '25:10:36' does not match format '%H:%M:%S'\n",
      "could not generate delays for trip 3132223\n",
      "Columns must be same length as key\n",
      "could not generate delays for trip 3156137\n",
      "Columns must be same length as key\n",
      "could not generate delays for trip 3156138\n",
      "zero-size array to reduction operation maximum which has no identity\n",
      "could not generate delays for trip 3149881\n",
      "time data '24:14:47' does not match format '%H:%M:%S'\n",
      "could not generate delays for trip 3149247\n",
      "time data '25:22:27' does not match format '%H:%M:%S'\n",
      "could not generate delays for trip 3140153\n",
      "Columns must be same length as key\n",
      "could not generate delays for trip 3140157\n",
      "Columns must be same length as key\n",
      "could not generate delays for trip 3140155\n",
      "Columns must be same length as key\n",
      "could not generate delays for trip 3140154\n",
      "Columns must be same length as key\n",
      "could not generate delays for trip 3140156\n",
      "Columns must be same length as key\n",
      "could not generate delays for trip 3140158\n",
      "Columns must be same length as key\n",
      "could not generate delays for trip 3140159\n",
      "Columns must be same length as key\n",
      "could not generate delays for trip 3140145\n",
      "Columns must be same length as key\n",
      "could not generate delays for trip 3140148\n",
      "Columns must be same length as key\n",
      "could not generate delays for trip 3147955\n",
      "Columns must be same length as key\n",
      "could not generate delays for trip 3147954\n",
      "Columns must be same length as key\n",
      "could not generate delays for trip 3140149\n",
      "Columns must be same length as key\n",
      "could not generate delays for trip 3140151\n",
      "Columns must be same length as key\n",
      "could not generate delays for trip 3147953\n",
      "Columns must be same length as key\n",
      "could not generate delays for trip 3145719\n",
      "time data '24:03:11' does not match format '%H:%M:%S'\n",
      "could not generate delays for trip 3150151\n",
      "zero-size array to reduction operation maximum which has no identity\n",
      "could not generate delays for trip 3150139\n",
      "Columns must be same length as key\n",
      "could not generate delays for trip 3150123\n",
      "Columns must be same length as key\n",
      "could not generate delays for trip 3156140\n",
      "Columns must be same length as key\n",
      "could not generate delays for trip 3156141\n",
      "Columns must be same length as key\n",
      "could not generate delays for trip 3146122\n",
      "Columns must be same length as key\n",
      "could not generate delays for trip 3149245\n",
      "time data '24:40:38' does not match format '%H:%M:%S'\n",
      "could not generate delays for trip 3124011\n",
      "time data '26:00:17' does not match format '%H:%M:%S'\n",
      "could not generate delays for trip 3124009\n",
      "time data '24:02:12' does not match format '%H:%M:%S'\n",
      "could not generate delays for trip 3149012\n",
      "time data '26:57:07' does not match format '%H:%M:%S'\n",
      "could not generate delays for trip 3123973\n",
      "time data '25:04:07' does not match format '%H:%M:%S'\n",
      "could not generate delays for trip 3124008\n",
      "time data '24:22:38' does not match format '%H:%M:%S'\n",
      "could not generate delays for trip 3148087\n",
      "Columns must be same length as key\n",
      "could not generate delays for trip 3150313\n",
      "Columns must be same length as key\n",
      "could not generate delays for trip 3150309\n",
      "Columns must be same length as key\n",
      "could not generate delays for trip 3150305\n",
      "Columns must be same length as key\n",
      "could not generate delays for trip 3150281\n",
      "zero-size array to reduction operation maximum which has no identity\n",
      "could not generate delays for trip 3150321\n",
      "Columns must be same length as key\n",
      "could not generate delays for trip 3150325\n",
      "zero-size array to reduction operation maximum which has no identity\n",
      "could not generate delays for trip 3140576\n",
      "time data '24:00:47' does not match format '%H:%M:%S'\n",
      "could not generate delays for trip 3131724\n",
      "Columns must be same length as key\n",
      "could not generate delays for trip 3123705\n",
      "Columns must be same length as key\n",
      "could not generate delays for trip 3131216\n",
      "Columns must be same length as key\n",
      "could not generate delays for trip 3146088\n",
      "Columns must be same length as key\n",
      "could not generate delays for trip 3156146\n",
      "Columns must be same length as key\n",
      "could not generate delays for trip 3156183\n",
      "Columns must be same length as key\n",
      "could not generate delays for trip 3153090\n",
      "time data '24:31:52' does not match format '%H:%M:%S'\n",
      "could not generate delays for trip 3153036\n",
      "time data '24:04:17' does not match format '%H:%M:%S'\n",
      "could not generate delays for trip 3152986\n",
      "time data '24:07:00' does not match format '%H:%M:%S'\n",
      "could not generate delays for trip 3152985\n",
      "time data '25:06:29' does not match format '%H:%M:%S'\n",
      "could not generate delays for trip 3131620\n",
      "Columns must be same length as key\n",
      "could not generate delays for trip 3131614\n",
      "Columns must be same length as key\n",
      "could not generate delays for trip 3131656\n",
      "Columns must be same length as key\n",
      "could not generate delays for trip 3152073\n",
      "Columns must be same length as key\n",
      "could not generate delays for trip 3152083\n",
      "Columns must be same length as key\n",
      "could not generate delays for trip 3148301\n",
      "time data '25:35:34' does not match format '%H:%M:%S'\n",
      "could not generate delays for trip 3148298\n",
      "time data '24:02:34' does not match format '%H:%M:%S'\n",
      "could not generate delays for trip 3148299\n",
      "time data '24:32:34' does not match format '%H:%M:%S'\n",
      "could not generate delays for trip 3148300\n",
      "time data '25:02:34' does not match format '%H:%M:%S'\n",
      "could not generate delays for trip 3148302\n",
      "time data '26:09:00' does not match format '%H:%M:%S'\n",
      "could not generate delays for trip 3153039\n",
      "Columns must be same length as key\n",
      "could not generate delays for trip 3152934\n",
      "time data '24:06:11' does not match format '%H:%M:%S'\n",
      "could not generate delays for trip 3152933\n",
      "time data '25:05:00' does not match format '%H:%M:%S'\n",
      "could not generate delays for trip 3145849\n",
      "Columns must be same length as key\n",
      "could not generate delays for trip 3148102\n",
      "time data '24:23:45' does not match format '%H:%M:%S'\n",
      "could not generate delays for trip 3153240\n",
      "time data '24:11:48' does not match format '%H:%M:%S'\n",
      "could not generate delays for trip 3153190\n",
      "time data '24:46:00' does not match format '%H:%M:%S'\n",
      "could not generate delays for trip 3145988\n",
      "Columns must be same length as key\n",
      "could not generate delays for trip 3156181\n",
      "Columns must be same length as key\n",
      "could not generate delays for trip 3156180\n",
      "zero-size array to reduction operation maximum which has no identity\n",
      "could not generate delays for trip 3156155\n",
      "Columns must be same length as key\n",
      "could not generate delays for trip 3156157\n",
      "Columns must be same length as key\n",
      "could not generate delays for trip 3156134\n",
      "zero-size array to reduction operation maximum which has no identity\n",
      "could not generate delays for trip 3152230\n",
      "time data '24:16:57' does not match format '%H:%M:%S'\n",
      "view filter: {'start_time': datetime.time(15, 0), 'end_time': datetime.time(19, 0), 'route_ids': None, 'direction_id': None, 'direction': None}\n",
      "stop_speeds shape: (0, 17), shape_id: 104239, direction_id: 0\n",
      "local variable 'grp_levels' referenced before assignment\n",
      "speed above 80 for shape 104009, dropping\n",
      "stop_speeds shape: (0, 17), shape_id: 103997, direction_id: 1\n",
      "local variable 'grp_levels' referenced before assignment\n",
      "speed above 80 for shape 103981, dropping\n",
      "negative speed for shape 103981, dropping\n",
      "speed above 80 for shape 103934, dropping\n",
      "speed above 80 for shape 103880, dropping\n",
      "speed above 80 for shape 103985, dropping\n",
      "negative speed for shape 103985, dropping\n",
      "negative speed for shape 105218, dropping\n",
      "negative speed for shape 103862, dropping\n",
      "speed above 80 for shape 103861, dropping\n",
      "negative speed for shape 103861, dropping\n",
      "speed above 80 for shape 103863, dropping\n",
      "negative speed for shape 103863, dropping\n",
      "speed above 80 for shape 103864, dropping\n",
      "negative speed for shape 103864, dropping\n",
      "stop_speeds shape: (0, 17), shape_id: 103995, direction_id: 0\n",
      "local variable 'grp_levels' referenced before assignment\n",
      "speed above 80 for shape 103937, dropping\n"
     ]
    },
    {
     "name": "stderr",
     "output_type": "stream",
     "text": [
      "TopologyException: assigned depths do not match at -162134.71517185928 -83737.066755124557\n",
      "/opt/conda/lib/python3.9/site-packages/shapely/ops.py:634: ShapelyDeprecationWarning: GeometryTypeError will derive from ShapelyError and not TypeError or ValueError in Shapely 2.0.\n",
      "/home/jovyan/data-analyses/rt_delay/rt_analysis.py:509: UserWarning: Geometry is in a geographic CRS. Results from 'centroid' are likely incorrect. Use 'GeoSeries.to_crs()' to re-project geometries to a projected CRS before this operation.\n",
      "\n"
     ]
    },
    {
     "name": "stdout",
     "output_type": "stream",
     "text": [
      "complete for agency: 294\n"
     ]
    }
   ],
   "source": [
    "# for agency in air_joined.calitp_itp_id.unique():\n",
    "for agency in [294]:\n",
    "    not_ran_operators = []\n",
    "    # if agency in ran_operators:\n",
    "    #     print(f'already ran: {agency}')\n",
    "    #     continue\n",
    "    print(f'calculating for agency: {agency}...')\n",
    "    try:\n",
    "        rt_day = rt.OperatorDayAnalysis(agency, analysis_date, pbar)\n",
    "        rt_day.set_filter(start_time='15:00', end_time='19:00')\n",
    "        rt_day.filter_formatted = ', PM Peak, Feb 08 (Tue)' ##TODO fix hardcode\n",
    "        rt_day.agency_name = (air_joined >> filter(_.calitp_itp_id == agency)).Name.iloc[0]\n",
    "        m = rt_day.segment_speed_map(how='low_speeds', colorscale=colorscale, size = [1300, 700])\n",
    "        m.save(f'./speedmaps/{agency}_02_08_pm_peak.html')\n",
    "        print(f'complete for agency: {agency}')\n",
    "    except Exception as e:\n",
    "        print(f'rt failed for agency {agency}')\n",
    "        not_ran_operators += [agency]\n",
    "        print(e)"
   ]
  },
  {
   "cell_type": "code",
   "execution_count": 8,
   "id": "79aad356-eb75-43c0-8cd9-9f81b1748aee",
   "metadata": {},
   "outputs": [],
   "source": [
    "# air_joined['url'] = air_joined.apply(lambda x:\n",
    "#                     f'http://docs.calitp.org/data-analyses/rt_delay/speedmaps/{x.calitp_itp_id}_02_08_pm_peak.html',\n",
    "#                                     axis = 1)\n",
    "\n",
    "# air_joined.to_csv('linked.csv')"
   ]
  },
  {
   "cell_type": "code",
   "execution_count": 37,
   "id": "6f9754ab-86b6-4559-b34c-805246acec28",
   "metadata": {},
   "outputs": [
    {
     "data": {
      "text/plain": [
       "datetime.datetime(2022, 2, 11, 15, 34, 18)"
      ]
     },
     "execution_count": 37,
     "metadata": {},
     "output_type": "execute_result"
    }
   ],
   "source": [
    "dt.datetime.fromtimestamp(1644622458)"
   ]
  },
  {
   "cell_type": "code",
   "execution_count": null,
   "id": "29d1fa02-5c09-4a40-a001-b511a241c584",
   "metadata": {},
   "outputs": [],
   "source": []
  }
 ],
 "metadata": {
  "kernelspec": {
   "display_name": "Python 3 (ipykernel)",
   "language": "python",
   "name": "python3"
  },
  "language_info": {
   "codemirror_mode": {
    "name": "ipython",
    "version": 3
   },
   "file_extension": ".py",
   "mimetype": "text/x-python",
   "name": "python",
   "nbconvert_exporter": "python",
   "pygments_lexer": "ipython3",
   "version": "3.9.7"
  }
 },
 "nbformat": 4,
 "nbformat_minor": 5
}
