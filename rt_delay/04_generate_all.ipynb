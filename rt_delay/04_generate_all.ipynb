{
 "cells": [
  {
   "cell_type": "code",
   "execution_count": 1,
   "id": "3aa74ab9-57b7-44cf-ab84-4f6514fc0397",
   "metadata": {},
   "outputs": [
    {
     "name": "stderr",
     "output_type": "stream",
     "text": [
      "/opt/conda/lib/python3.9/site-packages/geopandas/_compat.py:111: UserWarning: The Shapely GEOS version (3.10.2-CAPI-1.16.0) is incompatible with the GEOS version PyGEOS was compiled with (3.10.1-CAPI-1.16.0). Conversions between both will be slow.\n",
      "  warnings.warn(\n"
     ]
    }
   ],
   "source": [
    "import os\n",
    "os.environ[\"CALITP_BQ_MAX_BYTES\"] = str(800_000_000_000) ## 800GB?\n",
    "\n",
    "from calitp.tables import tbl\n",
    "from calitp import query_sql\n",
    "import calitp.magics\n",
    "import branca\n",
    "\n",
    "import shared_utils\n",
    "import utils\n",
    "\n",
    "from siuba import *\n",
    "import pandas as pd\n",
    "import geopandas as gpd\n",
    "import shapely\n",
    "\n",
    "import datetime as dt\n",
    "import time\n",
    "from zoneinfo import ZoneInfo\n",
    "\n",
    "import rt_analysis as rt\n",
    "import importlib\n",
    "\n",
    "import gcsfs\n",
    "fs = gcsfs.GCSFileSystem()\n",
    "\n",
    "from tqdm import tqdm_notebook\n",
    "from tqdm.notebook import trange, tqdm"
   ]
  },
  {
   "cell_type": "code",
   "execution_count": 2,
   "id": "c20d02bc-3636-4306-ad4c-a99d62011d78",
   "metadata": {},
   "outputs": [
    {
     "data": {
      "text/plain": [
       "<module 'rt_analysis' from '/home/jovyan/data-analyses/rt_delay/rt_analysis.py'>"
      ]
     },
     "execution_count": 2,
     "metadata": {},
     "output_type": "execute_result"
    }
   ],
   "source": [
    "importlib.reload(utils)\n",
    "importlib.reload(rt)"
   ]
  },
  {
   "cell_type": "code",
   "execution_count": 3,
   "id": "3a5bcb4a-6020-4943-840a-584548362563",
   "metadata": {},
   "outputs": [],
   "source": [
    "air_joined = pd.read_parquet('airtable_joined.parquet')"
   ]
  },
  {
   "cell_type": "code",
   "execution_count": 4,
   "id": "cbadc13a-3f4e-41f2-95e1-999f5d3bb348",
   "metadata": {},
   "outputs": [
    {
     "data": {
      "application/vnd.jupyter.widget-view+json": {
       "model_id": "e7977f2478fd41769667d10054962ba5",
       "version_major": 2,
       "version_minor": 0
      },
      "text/plain": [
       "0it [00:00, ?it/s]"
      ]
     },
     "metadata": {},
     "output_type": "display_data"
    }
   ],
   "source": [
    "pbar = tqdm()"
   ]
  },
  {
   "cell_type": "markdown",
   "id": "ef3b629a-5c50-476b-b7e2-58d07e6163d8",
   "metadata": {},
   "source": [
    "#### Run all operators"
   ]
  },
  {
   "cell_type": "code",
   "execution_count": 20,
   "id": "36f94f74-a695-4384-a536-2c37c3eb95ad",
   "metadata": {},
   "outputs": [],
   "source": [
    "analysis_date = dt.date(2022, 5, 29) ##wednesday, new tables"
   ]
  },
  {
   "cell_type": "code",
   "execution_count": 21,
   "id": "1b61314c-082f-4008-8821-404faa01443f",
   "metadata": {},
   "outputs": [],
   "source": [
    "fs_list = fs.ls(f'{utils.GCS_FILE_PATH}rt_trips/')"
   ]
  },
  {
   "cell_type": "code",
   "execution_count": 22,
   "id": "71803f31-26b2-486d-ba0e-3dd335b70f95",
   "metadata": {
    "tags": []
   },
   "outputs": [],
   "source": [
    "## TODO track ran on date!\n",
    "# ran_operators = [int(path.split('rt_trips/')[1].split('_')[0])\n",
    "#                  for path in fs_list\n",
    "#                  if path.split('rt_trips/')[1]]"
   ]
  },
  {
   "cell_type": "code",
   "execution_count": 23,
   "id": "dcfb88d8-9b6d-496e-b569-4aeb79651438",
   "metadata": {},
   "outputs": [],
   "source": [
    "ran_operators = []"
   ]
  },
  {
   "cell_type": "code",
   "execution_count": 24,
   "id": "9f55f46f-e297-4a57-ba18-86f855bc3a7c",
   "metadata": {
    "tags": []
   },
   "outputs": [
    {
     "name": "stdout",
     "output_type": "stream",
     "text": [
      "calculating for agency: 87...\n",
      "getting trips...\n"
     ]
    },
    {
     "name": "stderr",
     "output_type": "stream",
     "text": [
      "/home/jovyan/data-analyses/_shared_utils/shared_utils/utils.py:38: UserWarning: this is an initial implementation of Parquet/Feather file support and associated metadata.  This is tracking version 0.1.0 of the metadata specification at https://github.com/geopandas/geo-arrow-spec\n",
      "\n",
      "This metadata specification does not yet make stability promises.  We do not yet recommend using this in a production setting unless you are able to rewrite your Parquet/Feather files.\n",
      "\n",
      "To further ignore this warning, you can do: \n",
      "import warnings; warnings.filterwarnings('ignore', message='.*initial implementation of Parquet.*')\n",
      "/home/jovyan/data-analyses/_shared_utils/shared_utils/utils.py:38: UserWarning: this is an initial implementation of Parquet/Feather file support and associated metadata.  This is tracking version 0.1.0 of the metadata specification at https://github.com/geopandas/geo-arrow-spec\n",
      "\n",
      "This metadata specification does not yet make stability promises.  We do not yet recommend using this in a production setting unless you are able to rewrite your Parquet/Feather files.\n",
      "\n",
      "To further ignore this warning, you can do: \n",
      "import warnings; warnings.filterwarnings('ignore', message='.*initial implementation of Parquet.*')\n"
     ]
    },
    {
     "name": "stdout",
     "output_type": "stream",
     "text": [
      "vehicle positions gdf must not be empty\n",
      "less than 1km of data\n",
      "less than 1km of data\n",
      "less than 1km of data\n",
      "less than 1km of data\n"
     ]
    },
    {
     "name": "stderr",
     "output_type": "stream",
     "text": [
      "/home/jovyan/data-analyses/_shared_utils/shared_utils/utils.py:38: UserWarning: this is an initial implementation of Parquet/Feather file support and associated metadata.  This is tracking version 0.1.0 of the metadata specification at https://github.com/geopandas/geo-arrow-spec\n",
      "\n",
      "This metadata specification does not yet make stability promises.  We do not yet recommend using this in a production setting unless you are able to rewrite your Parquet/Feather files.\n",
      "\n",
      "To further ignore this warning, you can do: \n",
      "import warnings; warnings.filterwarnings('ignore', message='.*initial implementation of Parquet.*')\n"
     ]
    },
    {
     "name": "stdout",
     "output_type": "stream",
     "text": [
      "complete for agency: 87\n"
     ]
    },
    {
     "name": "stderr",
     "output_type": "stream",
     "text": [
      "/home/jovyan/data-analyses/_shared_utils/shared_utils/utils.py:38: UserWarning: this is an initial implementation of Parquet/Feather file support and associated metadata.  This is tracking version 0.1.0 of the metadata specification at https://github.com/geopandas/geo-arrow-spec\n",
      "\n",
      "This metadata specification does not yet make stability promises.  We do not yet recommend using this in a production setting unless you are able to rewrite your Parquet/Feather files.\n",
      "\n",
      "To further ignore this warning, you can do: \n",
      "import warnings; warnings.filterwarnings('ignore', message='.*initial implementation of Parquet.*')\n"
     ]
    }
   ],
   "source": [
    "not_ran_operators = []\n",
    "# for agency in air_joined.calitp_itp_id.unique():\n",
    "for agency in [87]:\n",
    "    if agency in ran_operators:\n",
    "        print(f'already ran: {agency}')\n",
    "        continue\n",
    "    ## https://docs.google.com/spreadsheets/d/16tcL3fPdYkrNajDNneSR1b5ImhFOCJ0gWFnEaXyg16A/edit#gid=0\n",
    "    print(f'calculating for agency: {agency}...')\n",
    "    try:\n",
    "        rt_day = rt.OperatorDayAnalysis(agency, analysis_date, pbar)\n",
    "        rt_day.export_views_gcs()\n",
    "        print(f'complete for agency: {agency}')\n",
    "    except Exception as e:\n",
    "        print(f'rt failed for agency {agency}')\n",
    "        not_ran_operators += [agency]\n",
    "        print(e)"
   ]
  },
  {
   "cell_type": "code",
   "execution_count": 25,
   "id": "0479b6bb-93e8-4d1d-af3e-a7825dea927d",
   "metadata": {},
   "outputs": [],
   "source": [
    "import yaml"
   ]
  },
  {
   "cell_type": "code",
   "execution_count": 26,
   "id": "f3b064ad-77f2-4fc1-aee5-706b9abe39f4",
   "metadata": {},
   "outputs": [],
   "source": [
    "airtable_organizations = (\n",
    "    tbl.airtable.california_transit_organizations()\n",
    "    >> select(_.itp_id, _.name, _.caltrans_district,\n",
    "              _.website, _.ntp_id, _.drmt_organization_name)\n",
    "    # >> filter(_.itp_id == itp_id)\n",
    "    >> collect()\n",
    ")"
   ]
  },
  {
   "cell_type": "code",
   "execution_count": 10,
   "id": "49cf8cde-ad46-407c-a0aa-dbcbad1a0821",
   "metadata": {},
   "outputs": [],
   "source": [
    "airtable_organizations = airtable_organizations.dropna(subset=['itp_id']) >> mutate(itp_id = _.itp_id.astype('int64'))"
   ]
  },
  {
   "cell_type": "code",
   "execution_count": 11,
   "id": "3e75d47e-a27f-494d-8056-79d3b7e3e392",
   "metadata": {},
   "outputs": [],
   "source": [
    "airtable_organizations = airtable_organizations >> filter(_.itp_id.isin(ran_operators)) >> arrange(_.caltrans_district)"
   ]
  },
  {
   "cell_type": "code",
   "execution_count": 12,
   "id": "c1c07ab4-7d4f-491b-a334-e7922cc258c5",
   "metadata": {},
   "outputs": [
    {
     "data": {
      "text/html": [
       "<div>\n",
       "<style scoped>\n",
       "    .dataframe tbody tr th:only-of-type {\n",
       "        vertical-align: middle;\n",
       "    }\n",
       "\n",
       "    .dataframe tbody tr th {\n",
       "        vertical-align: top;\n",
       "    }\n",
       "\n",
       "    .dataframe thead th {\n",
       "        text-align: right;\n",
       "    }\n",
       "</style>\n",
       "<table border=\"1\" class=\"dataframe\">\n",
       "  <thead>\n",
       "    <tr style=\"text-align: right;\">\n",
       "      <th></th>\n",
       "      <th>itp_id</th>\n",
       "      <th>name</th>\n",
       "      <th>caltrans_district</th>\n",
       "      <th>website</th>\n",
       "      <th>ntp_id</th>\n",
       "      <th>drmt_organization_name</th>\n",
       "    </tr>\n",
       "  </thead>\n",
       "  <tbody>\n",
       "    <tr>\n",
       "      <th>663</th>\n",
       "      <td>135</td>\n",
       "      <td>Humboldt Transit Authority</td>\n",
       "      <td>01 - Eureka</td>\n",
       "      <td>None</td>\n",
       "      <td>['reccKueWkvBCZoLQs']</td>\n",
       "      <td>['recu9h9nAElLpYoYO']</td>\n",
       "    </tr>\n",
       "    <tr>\n",
       "      <th>701</th>\n",
       "      <td>159</td>\n",
       "      <td>Lake Transit Authority</td>\n",
       "      <td>01 - Eureka</td>\n",
       "      <td>None</td>\n",
       "      <td>['recF9AnmCtEyxxDTY']</td>\n",
       "      <td>['reck7ddrpXSeA0mH0']</td>\n",
       "    </tr>\n",
       "    <tr>\n",
       "      <th>572</th>\n",
       "      <td>259</td>\n",
       "      <td>Redding Area Bus Authority</td>\n",
       "      <td>02 - Redding</td>\n",
       "      <td>None</td>\n",
       "      <td>['recoXZjKEOPldH8QJ']</td>\n",
       "      <td>None</td>\n",
       "    </tr>\n",
       "  </tbody>\n",
       "</table>\n",
       "</div>"
      ],
      "text/plain": [
       "     itp_id                        name caltrans_district website  \\\n",
       "663     135  Humboldt Transit Authority       01 - Eureka    None   \n",
       "701     159      Lake Transit Authority       01 - Eureka    None   \n",
       "572     259  Redding Area Bus Authority      02 - Redding    None   \n",
       "\n",
       "                    ntp_id drmt_organization_name  \n",
       "663  ['reccKueWkvBCZoLQs']  ['recu9h9nAElLpYoYO']  \n",
       "701  ['recF9AnmCtEyxxDTY']  ['reck7ddrpXSeA0mH0']  \n",
       "572  ['recoXZjKEOPldH8QJ']                   None  "
      ]
     },
     "execution_count": 12,
     "metadata": {},
     "output_type": "execute_result"
    }
   ],
   "source": [
    "airtable_organizations.head(3)"
   ]
  },
  {
   "cell_type": "code",
   "execution_count": 13,
   "id": "ac305032-c162-42c3-bcde-e1ab5ffc60ad",
   "metadata": {},
   "outputs": [],
   "source": [
    "with open('../portfolio/analyses.yml') as analyses:\n",
    "    analyses_data = yaml.load(analyses, yaml.Loader)"
   ]
  },
  {
   "cell_type": "code",
   "execution_count": 14,
   "id": "7509f217-a476-48a2-af66-129d1c6ed303",
   "metadata": {},
   "outputs": [],
   "source": [
    "exclude_ids = [312]"
   ]
  },
  {
   "cell_type": "code",
   "execution_count": 15,
   "id": "72d3829a-0fcc-460c-b1c5-15b869fae7da",
   "metadata": {},
   "outputs": [],
   "source": [
    "chapters_list = []\n",
    "for district in airtable_organizations.caltrans_district.unique():\n",
    "    chapter_dict = {}\n",
    "    filtered = (airtable_organizations\n",
    "                >> filter(_.caltrans_district == district)\n",
    "                >> distinct(_.itp_id, _keep_all=True)\n",
    "                >> filter(-_.itp_id.isin(exclude_ids))\n",
    "               )\n",
    "    chapter_dict['caption'] = f'District {district}'\n",
    "    chapter_dict['params'] = {'district': district}\n",
    "    chapter_dict['sections'] = [{'itp_id': itp_id} for itp_id in filtered.itp_id.to_list()]\n",
    "    chapters_list += [chapter_dict]"
   ]
  },
  {
   "cell_type": "code",
   "execution_count": 16,
   "id": "5278cf2f-f4d9-4b3d-a8f0-8203d0a12fb0",
   "metadata": {},
   "outputs": [],
   "source": [
    "parts_list = [{'chapters': chapters_list}]"
   ]
  },
  {
   "cell_type": "code",
   "execution_count": 17,
   "id": "9315ddd9-51af-4d90-8420-c4dc4058c383",
   "metadata": {},
   "outputs": [],
   "source": [
    "analyses_data['sites'][1]['parts'] = parts_list"
   ]
  },
  {
   "cell_type": "code",
   "execution_count": 18,
   "id": "db5cb5e7-0433-4b75-9b01-71d1171ccd06",
   "metadata": {},
   "outputs": [],
   "source": [
    "output = yaml.dump(analyses_data)"
   ]
  },
  {
   "cell_type": "code",
   "execution_count": 19,
   "id": "73670a45-879b-416d-9ce7-3cb2078e986e",
   "metadata": {},
   "outputs": [],
   "source": [
    "with open('../portfolio/analyses.yml', 'w') as analyses:\n",
    "    analyses.write(output)"
   ]
  },
  {
   "cell_type": "markdown",
   "id": "06af4bc3-016b-4f01-953e-805dc760c771",
   "metadata": {
    "tags": []
   },
   "source": [
    "### Ongoing issues\n",
    "* 358 Union City too many trips without shape?\n",
    "\n",
    "#### Parameters\n",
    "* 159 1+ maps don't render\n",
    "* 167 map_from_metrics fails"
   ]
  }
 ],
 "metadata": {
  "kernelspec": {
   "display_name": "Python 3 (ipykernel)",
   "language": "python",
   "name": "python3"
  },
  "language_info": {
   "codemirror_mode": {
    "name": "ipython",
    "version": 3
   },
   "file_extension": ".py",
   "mimetype": "text/x-python",
   "name": "python",
   "nbconvert_exporter": "python",
   "pygments_lexer": "ipython3",
   "version": "3.9.12"
  }
 },
 "nbformat": 4,
 "nbformat_minor": 5
}
