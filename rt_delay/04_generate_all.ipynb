{
 "cells": [
  {
   "cell_type": "code",
   "execution_count": 1,
   "id": "3aa74ab9-57b7-44cf-ab84-4f6514fc0397",
   "metadata": {},
   "outputs": [
    {
     "name": "stderr",
     "output_type": "stream",
     "text": [
      "/opt/conda/lib/python3.9/site-packages/geopandas/_compat.py:111: UserWarning: The Shapely GEOS version (3.9.1-CAPI-1.14.2) is incompatible with the GEOS version PyGEOS was compiled with (3.10.1-CAPI-1.16.0). Conversions between both will be slow.\n",
      "  warnings.warn(\n"
     ]
    }
   ],
   "source": [
    "import os\n",
    "os.environ[\"CALITP_BQ_MAX_BYTES\"] = str(100_000_000_000)\n",
    "\n",
    "from calitp.tables import tbl\n",
    "from calitp import query_sql\n",
    "import calitp.magics\n",
    "import branca\n",
    "\n",
    "import shared_utils\n",
    "import utils\n",
    "\n",
    "from siuba import *\n",
    "import pandas as pd\n",
    "import geopandas as gpd\n",
    "import shapely\n",
    "\n",
    "import datetime as dt\n",
    "import time\n",
    "from zoneinfo import ZoneInfo\n",
    "\n",
    "import rt_analysis as rt\n",
    "import importlib\n",
    "\n",
    "importlib.reload(utils)\n",
    "importlib.reload(rt)\n",
    "\n",
    "import gcsfs\n",
    "fs = gcsfs.GCSFileSystem()"
   ]
  },
  {
   "cell_type": "code",
   "execution_count": 2,
   "id": "3a5bcb4a-6020-4943-840a-584548362563",
   "metadata": {},
   "outputs": [],
   "source": [
    "air_joined = pd.read_parquet('airtable_joined.parquet')"
   ]
  },
  {
   "cell_type": "code",
   "execution_count": 3,
   "id": "32344653-99ad-4ac0-a555-063d485585d8",
   "metadata": {},
   "outputs": [],
   "source": [
    "analysis_date = dt.date(2022, 1, 12)"
   ]
  },
  {
   "cell_type": "code",
   "execution_count": 4,
   "id": "9ec9e470-fed8-418a-94cf-d7195487ae14",
   "metadata": {},
   "outputs": [],
   "source": [
    "colorscale = branca.colormap.step.RdYlGn_10.scale(vmin=0, vmax=30)\n",
    "colorscale.caption = \"Speed (miles per hour)\""
   ]
  },
  {
   "cell_type": "code",
   "execution_count": 5,
   "id": "4c7bf955-47b1-4054-931e-9afe3a784b26",
   "metadata": {},
   "outputs": [],
   "source": [
    "not_ran = [208, 343, 273, 372, 346, 380, 243, 45, 260, 75]"
   ]
  },
  {
   "cell_type": "code",
   "execution_count": 1,
   "id": "9f55f46f-e297-4a57-ba18-86f855bc3a7c",
   "metadata": {
    "tags": []
   },
   "outputs": [],
   "source": [
    "# for agency in air_joined.calitp_itp_id.unique():\n",
    "#     print(f'calculating for agency: {agency}...')\n",
    "#     try:\n",
    "#         rt_day = rt.OperatorDayAnalysis(agency, analysis_date)\n",
    "#         rt_day.set_filter(start_time='15:00', end_time='19:00', direction_id='1')\n",
    "#         rt_day.filter_formatted = ', PM Peak, Jan 12 (Wed)'\n",
    "#         rt_day.agency_name = (air_joined >> filter(_.calitp_itp_id == agency)).Name.iloc[0]\n",
    "#         m = rt_day.segment_speed_map(how='low_speeds', colorscale=colorscale, size = [1300, 700])\n",
    "#         m.save(f'./speedmaps/{agency}_01_12_pm_peak.html')\n",
    "#         print(f'complete for agency: {agency}')\n",
    "#     except Exception as e:\n",
    "#         print(f'rt failed for agency {agency}')\n",
    "#         print(e)"
   ]
  },
  {
   "cell_type": "code",
   "execution_count": null,
   "id": "79aad356-eb75-43c0-8cd9-9f81b1748aee",
   "metadata": {},
   "outputs": [],
   "source": [
    "air_joined['url'] = air_joined.apply(lambda x:\n",
    "                    f'http://docs.calitp.org/data-analyses/rt_delay/speedmaps/{x.calitp_itp_id}_01_12_pm_peak.html',\n",
    "                                    axis = 1)\n",
    "\n",
    "air_joined.to_csv('linked.csv')"
   ]
  }
 ],
 "metadata": {
  "kernelspec": {
   "display_name": "Python 3 (ipykernel)",
   "language": "python",
   "name": "python3"
  },
  "language_info": {
   "codemirror_mode": {
    "name": "ipython",
    "version": 3
   },
   "file_extension": ".py",
   "mimetype": "text/x-python",
   "name": "python",
   "nbconvert_exporter": "python",
   "pygments_lexer": "ipython3",
   "version": "3.9.7"
  }
 },
 "nbformat": 4,
 "nbformat_minor": 5
}
