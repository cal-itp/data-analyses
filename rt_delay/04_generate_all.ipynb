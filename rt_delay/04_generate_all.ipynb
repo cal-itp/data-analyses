{
 "cells": [
  {
   "cell_type": "code",
   "execution_count": 1,
   "id": "3aa74ab9-57b7-44cf-ab84-4f6514fc0397",
   "metadata": {},
   "outputs": [
    {
     "name": "stderr",
     "output_type": "stream",
     "text": [
      "/opt/conda/lib/python3.9/site-packages/geopandas/_compat.py:111: UserWarning: The Shapely GEOS version (3.10.2-CAPI-1.16.0) is incompatible with the GEOS version PyGEOS was compiled with (3.10.1-CAPI-1.16.0). Conversions between both will be slow.\n",
      "  warnings.warn(\n",
      "E0331 18:34:13.145998401    1023 fork_posix.cc:70]           Fork support is only compatible with the epoll1 and poll polling strategies\n",
      "E0331 18:34:15.366976154    1023 fork_posix.cc:70]           Fork support is only compatible with the epoll1 and poll polling strategies\n"
     ]
    }
   ],
   "source": [
    "import os\n",
    "os.environ[\"CALITP_BQ_MAX_BYTES\"] = str(800_000_000_000)\n",
    "\n",
    "from calitp.tables import tbl\n",
    "from calitp import query_sql\n",
    "import calitp.magics\n",
    "import branca\n",
    "\n",
    "import shared_utils\n",
    "import utils\n",
    "\n",
    "from siuba import *\n",
    "import pandas as pd\n",
    "import geopandas as gpd\n",
    "import shapely\n",
    "\n",
    "import datetime as dt\n",
    "import time\n",
    "from zoneinfo import ZoneInfo\n",
    "\n",
    "import rt_analysis as rt\n",
    "import importlib\n",
    "\n",
    "import gcsfs\n",
    "fs = gcsfs.GCSFileSystem()\n",
    "\n",
    "from tqdm import tqdm_notebook\n",
    "from tqdm.notebook import trange, tqdm"
   ]
  },
  {
   "cell_type": "code",
   "execution_count": 2,
   "id": "c20d02bc-3636-4306-ad4c-a99d62011d78",
   "metadata": {},
   "outputs": [
    {
     "data": {
      "text/plain": [
       "<module 'rt_analysis' from '/home/jovyan/data-analyses/rt_delay/rt_analysis.py'>"
      ]
     },
     "execution_count": 2,
     "metadata": {},
     "output_type": "execute_result"
    }
   ],
   "source": [
    "importlib.reload(utils)\n",
    "importlib.reload(rt)"
   ]
  },
  {
   "cell_type": "code",
   "execution_count": 3,
   "id": "3a5bcb4a-6020-4943-840a-584548362563",
   "metadata": {},
   "outputs": [],
   "source": [
    "air_joined = pd.read_parquet('airtable_joined.parquet')"
   ]
  },
  {
   "cell_type": "code",
   "execution_count": 4,
   "id": "2f69aea6-3c0b-405c-95a7-2f85b18adaf6",
   "metadata": {},
   "outputs": [],
   "source": [
    "# # ran_operators = [int(filename.split('_')[0]) for filename in os.listdir('speedmaps') if filename[0] != '.']\n",
    "ran_operators = [300]"
   ]
  },
  {
   "cell_type": "code",
   "execution_count": 5,
   "id": "cbadc13a-3f4e-41f2-95e1-999f5d3bb348",
   "metadata": {},
   "outputs": [
    {
     "data": {
      "application/vnd.jupyter.widget-view+json": {
       "model_id": "76ab8474ac9a4c67a8b71e86fc2111cb",
       "version_major": 2,
       "version_minor": 0
      },
      "text/plain": [
       "0it [00:00, ?it/s]"
      ]
     },
     "metadata": {},
     "output_type": "display_data"
    }
   ],
   "source": [
    "pbar = tqdm()"
   ]
  },
  {
   "cell_type": "markdown",
   "id": "ef3b629a-5c50-476b-b7e2-58d07e6163d8",
   "metadata": {},
   "source": [
    "#### Run all operators"
   ]
  },
  {
   "cell_type": "code",
   "execution_count": 6,
   "id": "1b61314c-082f-4008-8821-404faa01443f",
   "metadata": {},
   "outputs": [],
   "source": [
    "fs_list = fs.ls(f'{utils.GCS_FILE_PATH}rt_trips/')"
   ]
  },
  {
   "cell_type": "code",
   "execution_count": 7,
   "id": "71803f31-26b2-486d-ba0e-3dd335b70f95",
   "metadata": {},
   "outputs": [],
   "source": [
    "ran_operators = [int(path.split('rt_trips/')[1].split('_')[0])\n",
    "                 for path in fs_list\n",
    "                 if path.split('rt_trips/')[1]]"
   ]
  },
  {
   "cell_type": "code",
   "execution_count": 8,
   "id": "9f55f46f-e297-4a57-ba18-86f855bc3a7c",
   "metadata": {
    "tags": []
   },
   "outputs": [
    {
     "name": "stdout",
     "output_type": "stream",
     "text": [
      "calculating for agency: 4...\n",
      "found parquet\n",
      "found parquet\n",
      "found parquet\n",
      "found parquet\n"
     ]
    },
    {
     "name": "stderr",
     "output_type": "stream",
     "text": [
      "/opt/conda/lib/python3.9/site-packages/pybigquery/sqlalchemy_bigquery.py:879: SAWarning: Did not recognize type 'GEOGRAPHY' of column 'pt_array'\n",
      "/opt/conda/lib/python3.9/site-packages/siuba/sql/utils.py:52: SAWarning: Dialect bigquery:bigquery will not make use of SQL compilation caching as it does not set the 'supports_statement_cache' attribute to ``True``.  This can have significant performance implications including some performance degradations in comparison to prior SQLAlchemy versions.  Dialect maintainers should seek to set this attribute to True after appropriate development and testing for SQLAlchemy 1.4 caching support.   Alternatively, this attribute may be set to False which will disable this warning. (Background on this error at: https://sqlalche.me/e/14/cprf)\n",
      "/home/jovyan/data-analyses/_shared_utils/shared_utils/utils.py:38: UserWarning: this is an initial implementation of Parquet/Feather file support and associated metadata.  This is tracking version 0.1.0 of the metadata specification at https://github.com/geopandas/geo-arrow-spec\n",
      "\n",
      "This metadata specification does not yet make stability promises.  We do not yet recommend using this in a production setting unless you are able to rewrite your Parquet/Feather files.\n",
      "\n",
      "To further ignore this warning, you can do: \n",
      "import warnings; warnings.filterwarnings('ignore', message='.*initial implementation of Parquet.*')\n"
     ]
    },
    {
     "name": "stdout",
     "output_type": "stream",
     "text": [
      "could not generate delays for trip 2824040\n",
      "Columns must be same length as key\n",
      "could not generate delays for trip 10430020\n",
      "Columns must be same length as key\n",
      "could not generate delays for trip 1757020\n",
      "Columns must be same length as key\n",
      "could not generate delays for trip 1512020\n",
      "Columns must be same length as key\n"
     ]
    },
    {
     "name": "stderr",
     "output_type": "stream",
     "text": [
      "/home/jovyan/data-analyses/_shared_utils/shared_utils/utils.py:38: UserWarning: this is an initial implementation of Parquet/Feather file support and associated metadata.  This is tracking version 0.1.0 of the metadata specification at https://github.com/geopandas/geo-arrow-spec\n",
      "\n",
      "This metadata specification does not yet make stability promises.  We do not yet recommend using this in a production setting unless you are able to rewrite your Parquet/Feather files.\n",
      "\n",
      "To further ignore this warning, you can do: \n",
      "import warnings; warnings.filterwarnings('ignore', message='.*initial implementation of Parquet.*')\n"
     ]
    },
    {
     "name": "stdout",
     "output_type": "stream",
     "text": [
      "view filter: {'start_time': datetime.time(15, 0), 'end_time': datetime.time(19, 0), 'route_names': None, 'shape_ids': None, 'direction_id': None, 'direction': None}\n",
      "shp-33-68_1_ empty!\n",
      "shp-216-16_0_ empty!\n",
      "shp-620-01_0_ empty!\n",
      "shp-21-13_0_ empty!\n",
      "speed above 80 for shape shp-21-13, dropping\n",
      "shp-21-20_0_ empty!\n",
      "shp-52-14_0_ empty!\n",
      "speed above 80 for shape shp-52-14, dropping\n",
      "shp-18-62_1_ empty!\n",
      "shp-99-10_0_ empty!\n",
      "speed above 80 for shape shp-232-58, dropping\n",
      "shp-232-58_1_ empty!\n",
      "shp-7-56_1_ empty!\n",
      "shp-V-07_0_ empty!\n",
      "shp-33-14_0_ empty!\n",
      "shp-70-01_0_ empty!\n",
      "shp-12-14_0_ empty!\n",
      "shp-65-10_0_ empty!\n",
      "shp-28-09_0_ empty!\n",
      "shp-45-04_0_ empty!\n",
      "speed above 80 for shape shp-45-04, dropping\n",
      "shp-6-14_0_ empty!\n",
      "shp-696-01_0_ empty!\n",
      "shp-86-01_0_ empty!\n",
      "shp-684-57_1_ empty!\n",
      "shp-688-53_1_ empty!\n",
      "speed above 80 for shape shp-57-62, dropping\n",
      "shp-57-62_1_ empty!\n",
      "shp-29-61_1_ empty!\n",
      "shp-36-09_1_ empty!\n",
      "shp-62-52_1_ empty!\n",
      "shp-675-57_1_ empty!\n",
      "shp-J-07_0_ empty!\n",
      "shp-88-07_0_ empty!\n",
      "shp-40-61_1_ empty!\n",
      "shp-40-62_1_ empty!\n",
      "shp-18-18_0_ empty!\n",
      "shp-72M-39_0_ empty!\n",
      "shp-72-28_0_ empty!\n",
      "shp-12-56_1_ empty!\n",
      "shp-1T-05_0_ empty!\n",
      "shp-W-06_0_ empty!\n",
      "shp-O-03_0_ empty!\n",
      "shp-93-56_1_ empty!\n",
      "shp-212-07_0_ empty!\n",
      "shp-200-15_0_ empty!\n",
      "shp-88-08_1_ empty!\n",
      "shp-657-09_0_ empty!\n",
      "shp-73-51_1_ empty!\n",
      "shp-56-53_1_ empty!\n",
      "shp-60-06_0_ empty!\n",
      "speed above 80 for shape shp-45-53, dropping\n",
      "shp-45-53_1_ empty!\n",
      "shp-628-51_1_ empty!\n",
      "shp-217-10_1_ empty!\n",
      "shp-46L-02_0_ empty!\n",
      "shp-14-15_0_ empty!\n",
      "shp-67-57_1_ empty!\n",
      "shp-20-62_1_ empty!\n",
      "shp-90-54_1_ empty!\n",
      "shp-40-16_0_ empty!\n",
      "shp-40-17_0_ empty!\n",
      "shp-F-23_1_ empty!\n",
      "shp-F-22_1_ empty!\n",
      "shp-6-59_1_ empty!\n",
      "shp-79-06_1_ empty!\n",
      "shp-51B-16_1_ empty!\n",
      "shp-51B-17_1_ empty!\n",
      "shp-606-53_1_ empty!\n",
      "shp-200-60_1_ empty!\n",
      "shp-98-02_0_ empty!\n",
      "shp-10-09_0_ empty!\n",
      "speed above 80 for shape shp-10-09, dropping\n",
      "shp-41-54_1_ empty!\n",
      "speed above 80 for shape shp-631-51, dropping\n",
      "shp-631-51_1_ empty!\n",
      "shp-631-52_1_ empty!\n",
      "shp-621-08_0_ empty!\n",
      "shp-210-08_0_ empty!\n",
      "shp-251-10_0_ empty!\n",
      "shp-7-09_0_ empty!\n",
      "speed above 80 for shape shp-7-09, dropping\n",
      "shp-86-51_1_ empty!\n",
      "shp-660-02_1_ empty!\n",
      "shp-605-03_1_ empty!\n",
      "shp-39-53_1_ empty!\n",
      "shp-604-62_1_ empty!\n",
      "shp-625-01_0_ empty!\n",
      "shp-51A-55_1_ empty!\n",
      "shp-99-09_1_ empty!\n",
      "shp-19-64_1_ empty!\n",
      "shp-35-11_0_ empty!\n",
      "shp-72M-60_1_ empty!\n",
      "shp-72-77_1_ empty!\n",
      "shp-217-09_0_ empty!\n",
      "speed above 80 for shape shp-217-09, dropping\n",
      "shp-67-06_0_ empty!\n",
      "shp-648-62_1_ empty!\n",
      "shp-72R-12_0_ empty!\n",
      "shp-NL-10_0_ empty!\n",
      "shp-F-20_0_ empty!\n",
      "shp-215-15_0_ empty!\n",
      "shp-239-08_0_ empty!\n",
      "speed above 80 for shape shp-239-08, dropping\n",
      "shp-NX3-06_0_ empty!\n",
      "shp-57-11_0_ empty!\n",
      "shp-90-02_0_ empty!\n",
      "shp-98-52_1_ empty!\n",
      "shp-O-53_1_ empty!\n",
      "shp-74-01_0_ empty!\n",
      "speed above 80 for shape shp-74-01, dropping\n",
      "shp-21-22_1_ empty!\n",
      "shp-97-57_1_ empty!\n",
      "shp-95-07_0_ empty!\n",
      "shp-95-08_0_ empty!\n",
      "shp-39-05_0_ empty!\n",
      "shp-96-58_1_ empty!\n",
      "shp-70-05_1_ empty!\n",
      "shp-669-58_1_ empty!\n",
      "shp-74-56_1_ empty!\n",
      "shp-65-57_1_ empty!\n",
      "shp-95-53_1_ empty!\n",
      "shp-76-06_0_ empty!\n",
      "shp-54-03_0_ empty!\n",
      "shp-41-04_0_ empty!\n",
      "shp-28-58_1_ empty!\n",
      "shp-663-55_1_ empty!\n",
      "shp-20-18_0_ empty!\n",
      "shp-210-07_1_ empty!\n",
      "shp-71-03_0_ empty!\n",
      "speed above 80 for shape shp-71-03, dropping\n",
      "speed above 80 for shape shp-71-51, dropping\n",
      "shp-71-51_1_ empty!\n",
      "shp-93-09_0_ empty!\n",
      "shp-239-57_1_ empty!\n",
      "shp-29-34_0_ empty!\n",
      "speed above 80 for shape shp-29-34, dropping\n",
      "shp-19-16_0_ empty!\n",
      "shp-35-61_1_ empty!\n",
      "shp-97-10_0_ empty!\n",
      "shp-62-08_0_ empty!\n",
      "shp-L-06_0_ empty!\n",
      "shp-36-08_0_ empty!\n",
      "speed above 80 for shape shp-36-08, dropping\n",
      "shp-P-05_0_ empty!\n",
      "shp-OX-03_0_ empty!\n",
      "speed above 80 for shape shp-OX-03, dropping\n",
      "shp-216-62_1_ empty!\n",
      "shp-86-52_1_ empty!\n",
      "speed above 80 for shape shp-626-51, dropping\n",
      "shp-626-51_1_ empty!\n",
      "shp-NX-06_0_ empty!\n",
      "shp-14-59_1_ empty!\n",
      "shp-1T-51_1_ empty!\n",
      "shp-79-07_0_ empty!\n",
      "shp-34-56_1_ empty!\n",
      "shp-LA-12_0_ empty!\n",
      "shp-604-61_1_ empty!\n",
      "shp-51B-14_0_ empty!\n",
      "shp-51B-15_0_ empty!\n",
      "shp-72R-57_1_ empty!\n",
      "shp-60-56_1_ empty!\n",
      "shp-54-53_1_ empty!\n",
      "shp-232-10_0_ empty!\n",
      "shp-G-06_0_ empty!\n",
      "shp-96-09_0_ empty!\n",
      "shp-667-52_1_ empty!\n",
      "shp-56-03_0_ empty!\n",
      "shp-76-09_1_ empty!\n",
      "shp-624-03_0_ empty!\n",
      "shp-51A-17_0_ empty!\n",
      "shp-73-01_0_ empty!\n",
      "speed above 80 for shape shp-10-10, dropping\n",
      "shp-10-10_1_ empty!\n",
      "speed above 80 for shape shp-623-55, dropping\n",
      "shp-623-55_1_ empty!\n",
      "shp-46L-51_1_ empty!\n",
      "shp-212-57_1_ empty!\n",
      "shp-34-07_0_ empty!\n",
      "shp-FS-06_0_ empty!\n",
      "shp-251-59_1_ empty!\n",
      "shp-NL-57_1_ empty!\n",
      "shp-215-67_1_ empty!\n",
      "shp-52-60_1_ empty!\n",
      "shp-629-51_1_ empty!\n",
      "shp-E-04_0_ empty!\n"
     ]
    },
    {
     "name": "stderr",
     "output_type": "stream",
     "text": [
      "/opt/conda/lib/python3.9/site-packages/shapely/ops.py:634: ShapelyDeprecationWarning: GeometryTypeError will derive from ShapelyError and not TypeError or ValueError in Shapely 2.0.\n",
      "/home/jovyan/data-analyses/rt_delay/rt_analysis.py:604: UserWarning: Geometry is in a geographic CRS. Results from 'centroid' are likely incorrect. Use 'GeoSeries.to_crs()' to re-project geometries to a projected CRS before this operation.\n",
      "\n",
      "/home/jovyan/data-analyses/_shared_utils/shared_utils/utils.py:38: UserWarning: this is an initial implementation of Parquet/Feather file support and associated metadata.  This is tracking version 0.1.0 of the metadata specification at https://github.com/geopandas/geo-arrow-spec\n",
      "\n",
      "This metadata specification does not yet make stability promises.  We do not yet recommend using this in a production setting unless you are able to rewrite your Parquet/Feather files.\n",
      "\n",
      "To further ignore this warning, you can do: \n",
      "import warnings; warnings.filterwarnings('ignore', message='.*initial implementation of Parquet.*')\n",
      "/home/jovyan/data-analyses/_shared_utils/shared_utils/utils.py:38: UserWarning: this is an initial implementation of Parquet/Feather file support and associated metadata.  This is tracking version 0.1.0 of the metadata specification at https://github.com/geopandas/geo-arrow-spec\n",
      "\n",
      "This metadata specification does not yet make stability promises.  We do not yet recommend using this in a production setting unless you are able to rewrite your Parquet/Feather files.\n",
      "\n",
      "To further ignore this warning, you can do: \n",
      "import warnings; warnings.filterwarnings('ignore', message='.*initial implementation of Parquet.*')\n"
     ]
    },
    {
     "name": "stdout",
     "output_type": "stream",
     "text": [
      "complete for agency: 4\n"
     ]
    }
   ],
   "source": [
    "# for agency in air_joined.calitp_itp_id.unique():\n",
    "for agency in [4]:\n",
    "    not_ran_operators = []\n",
    "    if agency in ran_operators:\n",
    "        print(f'already ran: {agency}')\n",
    "        continue\n",
    "    analysis_date = dt.date(2022, 3, 23) ##wednesday, new tables\n",
    "    day = str(analysis_date.day).zfill(2)\n",
    "    month = str(analysis_date.month).zfill(2)\n",
    "    print(f'calculating for agency: {agency}...')\n",
    "    try:\n",
    "        rt_day = rt.OperatorDayAnalysis(agency, analysis_date, pbar)\n",
    "        delay_to_parquet = rt_day.stop_delay_view.copy()\n",
    "        delay_to_parquet['delay_seconds'] = delay_to_parquet.delay.map(lambda x: x.seconds)\n",
    "        delay_to_parquet['arrival_time'] = delay_to_parquet.arrival_time.map(lambda x: x.isoformat())\n",
    "        delay_to_parquet['actual_time'] = delay_to_parquet.actual_time.map(lambda x: x.isoformat())\n",
    "        delay_to_parquet = delay_to_parquet >> select(-_.delay)\n",
    "        shared_utils.utils.geoparquet_gcs_export(delay_to_parquet,\n",
    "                                         f'{utils.GCS_FILE_PATH}stop_delay_views/',\n",
    "                                        f'{agency}_{month}_{day}'\n",
    "                                        )\n",
    "        # rt_day.set_filter(start_time='15:00', end_time='19:00')\n",
    "        # m = rt_day.segment_speed_map(how='low_speeds', size = [1300, 700])\n",
    "        # shared_utils.utils.geoparquet_gcs_export(rt_day.stop_segment_speed_view,\n",
    "        #                                          f'{utils.GCS_FILE_PATH}segment_speed_views/',\n",
    "        #                                         f'{agency}_{month}_{day}_pm_peak'\n",
    "        #                                         )\n",
    "        rt_day.rt_trips.to_parquet(f'{utils.GCS_FILE_PATH}rt_trips/{agency}_{month}_{day}_pm_peak.parquet') ## early step towards scaling\n",
    "        # m.save(f'./speedmaps/{agency}_02_{day}_pm_peak.html')\n",
    "        # rt_day.stop_segment_speed_view.to_parquet(f'{utils.GCS_FILE_PATH}segment_speed_views/{agency}_02_{day}_pm_peak.parquet') ## early step towards scaling\n",
    "        delay_to_parquet = rt_day.endpoint_delay_view.copy()\n",
    "        delay_to_parquet['delay_seconds'] = delay_to_parquet.delay.map(lambda x: x.seconds)\n",
    "        delay_to_parquet = delay_to_parquet >> select(-_.delay)\n",
    "        shared_utils.utils.geoparquet_gcs_export(delay_to_parquet,\n",
    "                                         f'{utils.GCS_FILE_PATH}endpoint_delay_views/',\n",
    "                                        f'{agency}_{month}_{day}_pm_peak'\n",
    "                                        )\n",
    "        print(f'complete for agency: {agency}')\n",
    "    except Exception as e:\n",
    "        print(f'rt failed for agency {agency}')\n",
    "        not_ran_operators += [agency]\n",
    "        print(e)"
   ]
  },
  {
   "cell_type": "markdown",
   "id": "06af4bc3-016b-4f01-953e-805dc760c771",
   "metadata": {},
   "source": [
    "### Ongoing issues\n",
    "* 358 Union City too many trips without shape?"
   ]
  },
  {
   "cell_type": "code",
   "execution_count": null,
   "id": "79aad356-eb75-43c0-8cd9-9f81b1748aee",
   "metadata": {},
   "outputs": [],
   "source": [
    "# air_joined['url'] = air_joined.apply(lambda x:\n",
    "#                     f'http://docs.calitp.org/data-analyses/rt_delay/speedmaps/{x.calitp_itp_id}_02_08_pm_peak.html',\n",
    "#                                     axis = 1)\n",
    "\n",
    "# air_joined.to_csv('linked.csv')"
   ]
  }
 ],
 "metadata": {
  "kernelspec": {
   "display_name": "Python 3 (ipykernel)",
   "language": "python",
   "name": "python3"
  },
  "language_info": {
   "codemirror_mode": {
    "name": "ipython",
    "version": 3
   },
   "file_extension": ".py",
   "mimetype": "text/x-python",
   "name": "python",
   "nbconvert_exporter": "python",
   "pygments_lexer": "ipython3",
   "version": "3.9.10"
  }
 },
 "nbformat": 4,
 "nbformat_minor": 5
}
