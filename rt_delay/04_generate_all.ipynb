{
 "cells": [
  {
   "cell_type": "code",
   "execution_count": 2,
   "id": "3aa74ab9-57b7-44cf-ab84-4f6514fc0397",
   "metadata": {},
   "outputs": [
    {
     "name": "stderr",
     "output_type": "stream",
     "text": [
      "/opt/conda/lib/python3.9/site-packages/geopandas/_compat.py:111: UserWarning: The Shapely GEOS version (3.10.2-CAPI-1.16.0) is incompatible with the GEOS version PyGEOS was compiled with (3.10.1-CAPI-1.16.0). Conversions between both will be slow.\n",
      "  warnings.warn(\n",
      "E0328 17:48:06.632730097     982 fork_posix.cc:70]           Fork support is only compatible with the epoll1 and poll polling strategies\n",
      "E0328 17:48:09.488014739     982 fork_posix.cc:70]           Fork support is only compatible with the epoll1 and poll polling strategies\n"
     ]
    }
   ],
   "source": [
    "import os\n",
    "os.environ[\"CALITP_BQ_MAX_BYTES\"] = str(800_000_000_000)\n",
    "\n",
    "from calitp.tables import tbl\n",
    "from calitp import query_sql\n",
    "import calitp.magics\n",
    "import branca\n",
    "\n",
    "import shared_utils\n",
    "import utils\n",
    "\n",
    "from siuba import *\n",
    "import pandas as pd\n",
    "import geopandas as gpd\n",
    "import shapely\n",
    "\n",
    "import datetime as dt\n",
    "import time\n",
    "from zoneinfo import ZoneInfo\n",
    "\n",
    "import rt_analysis as rt\n",
    "import importlib\n",
    "\n",
    "import gcsfs\n",
    "fs = gcsfs.GCSFileSystem()\n",
    "\n",
    "from tqdm import tqdm_notebook\n",
    "from tqdm.notebook import trange, tqdm"
   ]
  },
  {
   "cell_type": "code",
   "execution_count": 32,
   "id": "c20d02bc-3636-4306-ad4c-a99d62011d78",
   "metadata": {},
   "outputs": [
    {
     "data": {
      "text/plain": [
       "<module 'rt_analysis' from '/home/jovyan/data-analyses/rt_delay/rt_analysis.py'>"
      ]
     },
     "execution_count": 32,
     "metadata": {},
     "output_type": "execute_result"
    }
   ],
   "source": [
    "importlib.reload(utils)\n",
    "importlib.reload(rt)"
   ]
  },
  {
   "cell_type": "code",
   "execution_count": 4,
   "id": "0c71b37a-148f-4f3d-80ed-577a37aa0bdc",
   "metadata": {},
   "outputs": [],
   "source": [
    "ran = fs.ls(f'{utils.GCS_FILE_PATH}rt_trips/')"
   ]
  },
  {
   "cell_type": "code",
   "execution_count": 5,
   "id": "ceac563e-f0c2-4125-978e-cb1aaf45c083",
   "metadata": {},
   "outputs": [],
   "source": [
    "ran_operators = [int(filename.split('rt_trips/')[1].split('_')[0])\n",
    "                 for filename in ran if filename[-1] != '/']"
   ]
  },
  {
   "cell_type": "code",
   "execution_count": 6,
   "id": "24018777-5cfe-4cf5-9763-fea20f59df4b",
   "metadata": {},
   "outputs": [
    {
     "data": {
      "text/plain": [
       "[167, 182, 194, 243, 246, 247, 290, 294, 300, 300, 301, 315, 45, 4, 75]"
      ]
     },
     "execution_count": 6,
     "metadata": {},
     "output_type": "execute_result"
    }
   ],
   "source": [
    "ran_operators"
   ]
  },
  {
   "cell_type": "code",
   "execution_count": 7,
   "id": "3a5bcb4a-6020-4943-840a-584548362563",
   "metadata": {},
   "outputs": [],
   "source": [
    "air_joined = pd.read_parquet('airtable_joined.parquet')"
   ]
  },
  {
   "cell_type": "code",
   "execution_count": 8,
   "id": "2f69aea6-3c0b-405c-95a7-2f85b18adaf6",
   "metadata": {},
   "outputs": [],
   "source": [
    "# # ran_operators = [int(filename.split('_')[0]) for filename in os.listdir('speedmaps') if filename[0] != '.']\n",
    "# ran_operators = [182, 300]"
   ]
  },
  {
   "cell_type": "code",
   "execution_count": 9,
   "id": "cbadc13a-3f4e-41f2-95e1-999f5d3bb348",
   "metadata": {},
   "outputs": [
    {
     "data": {
      "application/vnd.jupyter.widget-view+json": {
       "model_id": "3bc04b1dfe9a4ff6ab38ac36e24592c0",
       "version_major": 2,
       "version_minor": 0
      },
      "text/plain": [
       "0it [00:00, ?it/s]"
      ]
     },
     "metadata": {},
     "output_type": "display_data"
    }
   ],
   "source": [
    "pbar = tqdm()"
   ]
  },
  {
   "cell_type": "code",
   "execution_count": null,
   "id": "9f55f46f-e297-4a57-ba18-86f855bc3a7c",
   "metadata": {
    "collapsed": true,
    "jupyter": {
     "outputs_hidden": true
    },
    "tags": []
   },
   "outputs": [
    {
     "name": "stdout",
     "output_type": "stream",
     "text": [
      "calculating for agency: 380...\n",
      "found parquet\n",
      "found parquet\n",
      "found parquet\n",
      "found parquet\n",
      "rt failed for agency 380\n",
      "vehicle positions trip ids not in schedule\n",
      "already ran: 300\n",
      "already ran: 182\n",
      "already ran: 243\n",
      "calculating for agency: 295...\n",
      "found parquet\n",
      "found parquet\n",
      "found parquet\n",
      "found parquet\n"
     ]
    },
    {
     "name": "stderr",
     "output_type": "stream",
     "text": [
      "/opt/conda/lib/python3.9/site-packages/pybigquery/sqlalchemy_bigquery.py:879: SAWarning: Did not recognize type 'GEOGRAPHY' of column 'pt_array'\n",
      "/opt/conda/lib/python3.9/site-packages/siuba/sql/utils.py:52: SAWarning: Dialect bigquery:bigquery will not make use of SQL compilation caching as it does not set the 'supports_statement_cache' attribute to ``True``.  This can have significant performance implications including some performance degradations in comparison to prior SQLAlchemy versions.  Dialect maintainers should seek to set this attribute to True after appropriate development and testing for SQLAlchemy 1.4 caching support.   Alternatively, this attribute may be set to False which will disable this warning. (Background on this error at: https://sqlalche.me/e/14/cprf)\n",
      "/home/jovyan/data-analyses/_shared_utils/shared_utils/utils.py:38: UserWarning: this is an initial implementation of Parquet/Feather file support and associated metadata.  This is tracking version 0.1.0 of the metadata specification at https://github.com/geopandas/geo-arrow-spec\n",
      "\n",
      "This metadata specification does not yet make stability promises.  We do not yet recommend using this in a production setting unless you are able to rewrite your Parquet/Feather files.\n",
      "\n",
      "To further ignore this warning, you can do: \n",
      "import warnings; warnings.filterwarnings('ignore', message='.*initial implementation of Parquet.*')\n"
     ]
    },
    {
     "name": "stdout",
     "output_type": "stream",
     "text": [
      "rt failed for agency 295\n",
      "'NoneType' object has no attribute 'project'\n",
      "calculating for agency: 170...\n",
      "found parquet\n",
      "found parquet\n",
      "found parquet\n",
      "found parquet\n"
     ]
    },
    {
     "name": "stderr",
     "output_type": "stream",
     "text": [
      "/opt/conda/lib/python3.9/site-packages/pybigquery/sqlalchemy_bigquery.py:879: SAWarning: Did not recognize type 'GEOGRAPHY' of column 'pt_array'\n",
      "/home/jovyan/data-analyses/_shared_utils/shared_utils/utils.py:38: UserWarning: this is an initial implementation of Parquet/Feather file support and associated metadata.  This is tracking version 0.1.0 of the metadata specification at https://github.com/geopandas/geo-arrow-spec\n",
      "\n",
      "This metadata specification does not yet make stability promises.  We do not yet recommend using this in a production setting unless you are able to rewrite your Parquet/Feather files.\n",
      "\n",
      "To further ignore this warning, you can do: \n",
      "import warnings; warnings.filterwarnings('ignore', message='.*initial implementation of Parquet.*')\n"
     ]
    },
    {
     "name": "stdout",
     "output_type": "stream",
     "text": [
      "rt failed for agency 170\n",
      "'NoneType' object has no attribute 'project'\n",
      "already ran: 45\n",
      "already ran: 75\n",
      "already ran: 4\n",
      "calculating for agency: 310...\n",
      "found parquet\n",
      "found parquet\n",
      "found parquet\n",
      "found parquet\n"
     ]
    },
    {
     "name": "stderr",
     "output_type": "stream",
     "text": [
      "/opt/conda/lib/python3.9/site-packages/pybigquery/sqlalchemy_bigquery.py:879: SAWarning: Did not recognize type 'GEOGRAPHY' of column 'pt_array'\n",
      "/home/jovyan/data-analyses/_shared_utils/shared_utils/utils.py:38: UserWarning: this is an initial implementation of Parquet/Feather file support and associated metadata.  This is tracking version 0.1.0 of the metadata specification at https://github.com/geopandas/geo-arrow-spec\n",
      "\n",
      "This metadata specification does not yet make stability promises.  We do not yet recommend using this in a production setting unless you are able to rewrite your Parquet/Feather files.\n",
      "\n",
      "To further ignore this warning, you can do: \n",
      "import warnings; warnings.filterwarnings('ignore', message='.*initial implementation of Parquet.*')\n"
     ]
    },
    {
     "name": "stdout",
     "output_type": "stream",
     "text": [
      "rt failed for agency 310\n",
      "'NoneType' object has no attribute 'project'\n",
      "calculating for agency: 314...\n"
     ]
    }
   ],
   "source": [
    "## can add stop delay on a subsequent run, when ready for interact...\n",
    "\n",
    "for agency in air_joined.calitp_itp_id.unique():\n",
    "# for agency in [182]:\n",
    "    not_ran_operators = []\n",
    "    if agency in ran_operators:\n",
    "        print(f'already ran: {agency}')\n",
    "        continue\n",
    "    analysis_date = dt.date(2022, 3, 23) ##wednesday, new tables\n",
    "    day = str(analysis_date.day).zfill(2)\n",
    "    month = str(analysis_date.month).zfill(2)\n",
    "    print(f'calculating for agency: {agency}...')\n",
    "    try:\n",
    "        rt_day = rt.OperatorDayAnalysis(agency, analysis_date, pbar)\n",
    "        rt_day.set_filter(start_time='15:00', end_time='19:00')\n",
    "        m = rt_day.segment_speed_map(how='low_speeds', size = [1300, 700])\n",
    "        shared_utils.utils.geoparquet_gcs_export(rt_day.stop_segment_speed_view,\n",
    "                                                 f'{utils.GCS_FILE_PATH}segment_speed_views/',\n",
    "                                                f'{agency}_{month}_{day}_pm_peak'\n",
    "                                                )\n",
    "        rt_day.rt_trips.to_parquet(f'{utils.GCS_FILE_PATH}rt_trips/{agency}_{month}_{day}_pm_peak.parquet') ## early step towards scaling\n",
    "        # m.save(f'./speedmaps/{agency}_02_{day}_pm_peak.html')\n",
    "        # rt_day.stop_segment_speed_view.to_parquet(f'{utils.GCS_FILE_PATH}segment_speed_views/{agency}_02_{day}_pm_peak.parquet') ## early step towards scaling\n",
    "        delay_to_parquet = rt_day.endpoint_delay_view.copy()\n",
    "        delay_to_parquet['delay_seconds'] = delay_to_parquet.delay.map(lambda x: x.seconds)\n",
    "        delay_to_parquet = delay_to_parquet >> select(-_.delay)\n",
    "        shared_utils.utils.geoparquet_gcs_export(delay_to_parquet,\n",
    "                                         f'{utils.GCS_FILE_PATH}endpoint_delay_views/',\n",
    "                                        f'{agency}_{month}_{day}_pm_peak'\n",
    "                                        )\n",
    "        print(f'complete for agency: {agency}')\n",
    "    except Exception as e:\n",
    "        print(f'rt failed for agency {agency}')\n",
    "        not_ran_operators += [agency]\n",
    "        print(e)"
   ]
  },
  {
   "cell_type": "code",
   "execution_count": 11,
   "id": "84fb68df-e89f-4ec5-96ef-ae4f9ad19789",
   "metadata": {},
   "outputs": [],
   "source": [
    "analysis_date = dt.date(2022, 3, 23) ##wednesday, new tables"
   ]
  },
  {
   "cell_type": "code",
   "execution_count": 18,
   "id": "9555d3a7-cf59-4d06-90e8-305f67f0cd24",
   "metadata": {},
   "outputs": [
    {
     "name": "stdout",
     "output_type": "stream",
     "text": [
      "found parquet\n",
      "found parquet\n",
      "found parquet\n",
      "found parquet\n"
     ]
    },
    {
     "name": "stderr",
     "output_type": "stream",
     "text": [
      "/opt/conda/lib/python3.9/site-packages/pybigquery/sqlalchemy_bigquery.py:879: SAWarning: Did not recognize type 'GEOGRAPHY' of column 'pt_array'\n",
      "/home/jovyan/data-analyses/_shared_utils/shared_utils/utils.py:38: UserWarning: this is an initial implementation of Parquet/Feather file support and associated metadata.  This is tracking version 0.1.0 of the metadata specification at https://github.com/geopandas/geo-arrow-spec\n",
      "\n",
      "This metadata specification does not yet make stability promises.  We do not yet recommend using this in a production setting unless you are able to rewrite your Parquet/Feather files.\n",
      "\n",
      "To further ignore this warning, you can do: \n",
      "import warnings; warnings.filterwarnings('ignore', message='.*initial implementation of Parquet.*')\n"
     ]
    }
   ],
   "source": [
    "rt_day = rt.OperatorDayAnalysis(170, analysis_date, pbar)"
   ]
  },
  {
   "cell_type": "code",
   "execution_count": 70,
   "id": "3e928db6-6295-4be6-ab50-c591def60391",
   "metadata": {
    "tags": []
   },
   "outputs": [
    {
     "name": "stdout",
     "output_type": "stream",
     "text": [
      "view filter: {'start_time': datetime.time(15, 0), 'end_time': datetime.time(19, 0), 'route_names': ['103'], 'shape_ids': ['1030063'], 'direction_id': None, 'direction': 'Southbound'}\n",
      "negative speed for shape 1030063, dropping\n"
     ]
    },
    {
     "name": "stderr",
     "output_type": "stream",
     "text": [
      "/home/jovyan/data-analyses/rt_delay/rt_analysis.py:605: UserWarning: Geometry is in a geographic CRS. Results from 'centroid' are likely incorrect. Use 'GeoSeries.to_crs()' to re-project geometries to a projected CRS before this operation.\n",
      "\n"
     ]
    }
   ],
   "source": [
    "rt_day.set_filter(start_time='15:00', end_time='19:00', shape_ids=['1030063'])\n",
    "m = rt_day.segment_speed_map(how='low_speeds', size = [1300, 700])"
   ]
  },
  {
   "cell_type": "code",
   "execution_count": 71,
   "id": "d9bacdb1-b164-4b9e-bed8-a3a09a16e6ca",
   "metadata": {},
   "outputs": [
    {
     "data": {
      "text/html": [
       "<iframe src=\"about:blank\" width=\"1300\" height=\"700\"style=\"border:none !important;\" data-html=%3C%21DOCTYPE%20html%3E%0A%3Chead%3E%20%20%20%20%0A%20%20%20%20%3Cmeta%20http-equiv%3D%22content-type%22%20content%3D%22text/html%3B%20charset%3DUTF-8%22%20/%3E%0A%20%20%20%20%0A%20%20%20%20%20%20%20%20%3Cscript%3E%0A%20%20%20%20%20%20%20%20%20%20%20%20L_NO_TOUCH%20%3D%20false%3B%0A%20%20%20%20%20%20%20%20%20%20%20%20L_DISABLE_3D%20%3D%20false%3B%0A%20%20%20%20%20%20%20%20%3C/script%3E%0A%20%20%20%20%0A%20%20%20%20%3Cstyle%3Ehtml%2C%20body%20%7Bwidth%3A%20100%25%3Bheight%3A%20100%25%3Bmargin%3A%200%3Bpadding%3A%200%3B%7D%3C/style%3E%0A%20%20%20%20%3Cstyle%3E%23map%20%7Bposition%3Aabsolute%3Btop%3A0%3Bbottom%3A0%3Bright%3A0%3Bleft%3A0%3B%7D%3C/style%3E%0A%20%20%20%20%3Cscript%20src%3D%22https%3A//cdn.jsdelivr.net/npm/leaflet%401.6.0/dist/leaflet.js%22%3E%3C/script%3E%0A%20%20%20%20%3Cscript%20src%3D%22https%3A//code.jquery.com/jquery-1.12.4.min.js%22%3E%3C/script%3E%0A%20%20%20%20%3Cscript%20src%3D%22https%3A//maxcdn.bootstrapcdn.com/bootstrap/3.2.0/js/bootstrap.min.js%22%3E%3C/script%3E%0A%20%20%20%20%3Cscript%20src%3D%22https%3A//cdnjs.cloudflare.com/ajax/libs/Leaflet.awesome-markers/2.0.2/leaflet.awesome-markers.js%22%3E%3C/script%3E%0A%20%20%20%20%3Clink%20rel%3D%22stylesheet%22%20href%3D%22https%3A//cdn.jsdelivr.net/npm/leaflet%401.6.0/dist/leaflet.css%22/%3E%0A%20%20%20%20%3Clink%20rel%3D%22stylesheet%22%20href%3D%22https%3A//maxcdn.bootstrapcdn.com/bootstrap/3.2.0/css/bootstrap.min.css%22/%3E%0A%20%20%20%20%3Clink%20rel%3D%22stylesheet%22%20href%3D%22https%3A//maxcdn.bootstrapcdn.com/bootstrap/3.2.0/css/bootstrap-theme.min.css%22/%3E%0A%20%20%20%20%3Clink%20rel%3D%22stylesheet%22%20href%3D%22https%3A//maxcdn.bootstrapcdn.com/font-awesome/4.6.3/css/font-awesome.min.css%22/%3E%0A%20%20%20%20%3Clink%20rel%3D%22stylesheet%22%20href%3D%22https%3A//cdnjs.cloudflare.com/ajax/libs/Leaflet.awesome-markers/2.0.2/leaflet.awesome-markers.css%22/%3E%0A%20%20%20%20%3Clink%20rel%3D%22stylesheet%22%20href%3D%22https%3A//cdn.jsdelivr.net/gh/python-visualization/folium/folium/templates/leaflet.awesome.rotate.min.css%22/%3E%0A%20%20%20%20%0A%20%20%20%20%20%20%20%20%20%20%20%20%3Cmeta%20name%3D%22viewport%22%20content%3D%22width%3Ddevice-width%2C%0A%20%20%20%20%20%20%20%20%20%20%20%20%20%20%20%20initial-scale%3D1.0%2C%20maximum-scale%3D1.0%2C%20user-scalable%3Dno%22%20/%3E%0A%20%20%20%20%20%20%20%20%20%20%20%20%3Cstyle%3E%0A%20%20%20%20%20%20%20%20%20%20%20%20%20%20%20%20%23map_1ce0502d121443ac8ba39890cfbe9aeb%20%7B%0A%20%20%20%20%20%20%20%20%20%20%20%20%20%20%20%20%20%20%20%20position%3A%20relative%3B%0A%20%20%20%20%20%20%20%20%20%20%20%20%20%20%20%20%20%20%20%20width%3A%201300.0px%3B%0A%20%20%20%20%20%20%20%20%20%20%20%20%20%20%20%20%20%20%20%20height%3A%20700.0px%3B%0A%20%20%20%20%20%20%20%20%20%20%20%20%20%20%20%20%20%20%20%20left%3A%200.0%25%3B%0A%20%20%20%20%20%20%20%20%20%20%20%20%20%20%20%20%20%20%20%20top%3A%200.0%25%3B%0A%20%20%20%20%20%20%20%20%20%20%20%20%20%20%20%20%7D%0A%20%20%20%20%20%20%20%20%20%20%20%20%3C/style%3E%0A%20%20%20%20%20%20%20%20%0A%20%20%20%20%0A%20%20%20%20%20%20%20%20%20%20%20%20%20%20%20%20%20%20%20%20%3Cstyle%3E%0A%20%20%20%20%20%20%20%20%20%20%20%20%20%20%20%20%20%20%20%20%20%20%20%20.foliumtooltip%20%7B%0A%20%20%20%20%20%20%20%20%20%20%20%20%20%20%20%20%20%20%20%20%20%20%20%20%20%20%20%20%0A%20%20%20%20%20%20%20%20%20%20%20%20background-color%3A%20%22gray%22%3B%0A%20%20%20%20%20%20%20%20%20%20%20%20border%3A%200px%20%23FFFFFF%3B%0A%20%20%20%20%20%20%20%20%20%20%20%20border-radius%3A%200px%3B%0A%20%20%20%20%20%20%20%20%20%20%20%20box-shadow%3A%200px%3B%0A%20%20%20%20%20%20%20%20%20%20%20%20font-size%3A%2012px%3B%0A%20%20%20%20%20%20%20%20%0A%20%20%20%20%20%20%20%20%20%20%20%20%20%20%20%20%20%20%20%20%20%20%20%20%7D%0A%20%20%20%20%20%20%20%20%20%20%20%20%20%20%20%20%20%20%20%20%20%20%20.foliumtooltip%20table%7B%0A%20%20%20%20%20%20%20%20%20%20%20%20%20%20%20%20%20%20%20%20%20%20%20%20%20%20%20%20margin%3A%20auto%3B%0A%20%20%20%20%20%20%20%20%20%20%20%20%20%20%20%20%20%20%20%20%20%20%20%20%7D%0A%20%20%20%20%20%20%20%20%20%20%20%20%20%20%20%20%20%20%20%20%20%20%20%20.foliumtooltip%20tr%7B%0A%20%20%20%20%20%20%20%20%20%20%20%20%20%20%20%20%20%20%20%20%20%20%20%20%20%20%20%20text-align%3A%20left%3B%0A%20%20%20%20%20%20%20%20%20%20%20%20%20%20%20%20%20%20%20%20%20%20%20%20%7D%0A%20%20%20%20%20%20%20%20%20%20%20%20%20%20%20%20%20%20%20%20%20%20%20%20.foliumtooltip%20th%7B%0A%20%20%20%20%20%20%20%20%20%20%20%20%20%20%20%20%20%20%20%20%20%20%20%20%20%20%20%20padding%3A%202px%3B%20padding-right%3A%208px%3B%0A%20%20%20%20%20%20%20%20%20%20%20%20%20%20%20%20%20%20%20%20%20%20%20%20%7D%0A%20%20%20%20%20%20%20%20%20%20%20%20%20%20%20%20%20%20%20%20%3C/style%3E%0A%20%20%20%20%20%20%20%20%20%20%20%20%0A%20%20%20%20%0A%20%20%20%20%20%20%20%20%20%20%20%20%20%20%20%20%20%20%20%20%3Cstyle%3E%0A%20%20%20%20%20%20%20%20%20%20%20%20%20%20%20%20%20%20%20%20%20%20%20%20.foliumpopup%20%7B%0A%20%20%20%20%20%20%20%20%20%20%20%20%20%20%20%20%20%20%20%20%20%20%20%20%20%20%20%20background-color%3A%20light_gray%3B%0A%20%20%20%20%20%20%20%20%20%20%20%20%20%20%20%20%20%20%20%20%20%20%20%20%7D%0A%20%20%20%20%20%20%20%20%20%20%20%20%20%20%20%20%20%20%20%20%20%20%20.foliumpopup%20table%7B%0A%20%20%20%20%20%20%20%20%20%20%20%20%20%20%20%20%20%20%20%20%20%20%20%20%20%20%20%20margin%3A%20auto%3B%0A%20%20%20%20%20%20%20%20%20%20%20%20%20%20%20%20%20%20%20%20%20%20%20%20%7D%0A%20%20%20%20%20%20%20%20%20%20%20%20%20%20%20%20%20%20%20%20%20%20%20%20.foliumpopup%20tr%7B%0A%20%20%20%20%20%20%20%20%20%20%20%20%20%20%20%20%20%20%20%20%20%20%20%20%20%20%20%20text-align%3A%20left%3B%0A%20%20%20%20%20%20%20%20%20%20%20%20%20%20%20%20%20%20%20%20%20%20%20%20%7D%0A%20%20%20%20%20%20%20%20%20%20%20%20%20%20%20%20%20%20%20%20%20%20%20%20.foliumpopup%20th%7B%0A%20%20%20%20%20%20%20%20%20%20%20%20%20%20%20%20%20%20%20%20%20%20%20%20%20%20%20%20padding%3A%202px%3B%20padding-right%3A%208px%3B%0A%20%20%20%20%20%20%20%20%20%20%20%20%20%20%20%20%20%20%20%20%20%20%20%20%7D%0A%20%20%20%20%20%20%20%20%20%20%20%20%20%20%20%20%20%20%20%20%3C/style%3E%0A%20%20%20%20%20%20%20%20%20%20%20%20%0A%20%20%20%20%3Cscript%20src%3D%22https%3A//cdnjs.cloudflare.com/ajax/libs/d3/3.5.5/d3.min.js%22%3E%3C/script%3E%0A%3C/head%3E%0A%3Cbody%3E%20%20%20%20%0A%20%20%20%20%0A%20%20%20%20%20%20%20%20%20%20%20%20%20%3Ch3%20align%3D%22center%22%20style%3D%22font-size%3A20px%22%3E%3Cb%3ELong%20Beach%20Transit%2020th%20Percentile%20Vehicle%20Speeds%20Between%20Stops%2C%20Route%28s%29%20103%2C%20Southbound%2C%20PM%20Peak%2C%20Mar%2023%20%28Wed%29%3C/b%3E%3C/h3%3E%0A%20%20%20%20%20%20%20%20%20%20%20%20%20%0A%20%20%20%20%0A%20%20%20%20%20%20%20%20%20%20%20%20%3Cdiv%20class%3D%22folium-map%22%20id%3D%22map_1ce0502d121443ac8ba39890cfbe9aeb%22%20%3E%3C/div%3E%0A%20%20%20%20%20%20%20%20%0A%3C/body%3E%0A%3Cscript%3E%20%20%20%20%0A%20%20%20%20%0A%20%20%20%20%20%20%20%20%20%20%20%20var%20map_1ce0502d121443ac8ba39890cfbe9aeb%20%3D%20L.map%28%0A%20%20%20%20%20%20%20%20%20%20%20%20%20%20%20%20%22map_1ce0502d121443ac8ba39890cfbe9aeb%22%2C%0A%20%20%20%20%20%20%20%20%20%20%20%20%20%20%20%20%7B%0A%20%20%20%20%20%20%20%20%20%20%20%20%20%20%20%20%20%20%20%20center%3A%20%5B33.83971480228699%2C%20-118.13835536083758%5D%2C%0A%20%20%20%20%20%20%20%20%20%20%20%20%20%20%20%20%20%20%20%20crs%3A%20L.CRS.EPSG3857%2C%0A%20%20%20%20%20%20%20%20%20%20%20%20%20%20%20%20%20%20%20%20zoom%3A%2013%2C%0A%20%20%20%20%20%20%20%20%20%20%20%20%20%20%20%20%20%20%20%20zoomControl%3A%20true%2C%0A%20%20%20%20%20%20%20%20%20%20%20%20%20%20%20%20%20%20%20%20preferCanvas%3A%20false%2C%0A%20%20%20%20%20%20%20%20%20%20%20%20%20%20%20%20%7D%0A%20%20%20%20%20%20%20%20%20%20%20%20%29%3B%0A%0A%20%20%20%20%20%20%20%20%20%20%20%20%0A%0A%20%20%20%20%20%20%20%20%0A%20%20%20%20%0A%20%20%20%20%20%20%20%20%20%20%20%20var%20tile_layer_64144c58a79846beb3face9351b27be4%20%3D%20L.tileLayer%28%0A%20%20%20%20%20%20%20%20%20%20%20%20%20%20%20%20%22https%3A//cartodb-basemaps-%7Bs%7D.global.ssl.fastly.net/light_all/%7Bz%7D/%7Bx%7D/%7By%7D.png%22%2C%0A%20%20%20%20%20%20%20%20%20%20%20%20%20%20%20%20%7B%22attribution%22%3A%20%22%5Cu0026copy%3B%20%5Cu003ca%20href%3D%5C%22http%3A//www.openstreetmap.org/copyright%5C%22%5Cu003eOpenStreetMap%5Cu003c/a%5Cu003e%20contributors%20%5Cu0026copy%3B%20%5Cu003ca%20href%3D%5C%22http%3A//cartodb.com/attributions%5C%22%5Cu003eCartoDB%5Cu003c/a%5Cu003e%2C%20CartoDB%20%5Cu003ca%20href%20%3D%5C%22http%3A//cartodb.com/attributions%5C%22%5Cu003eattributions%5Cu003c/a%5Cu003e%22%2C%20%22detectRetina%22%3A%20false%2C%20%22maxNativeZoom%22%3A%2018%2C%20%22maxZoom%22%3A%2018%2C%20%22minZoom%22%3A%200%2C%20%22noWrap%22%3A%20false%2C%20%22opacity%22%3A%201%2C%20%22subdomains%22%3A%20%22abc%22%2C%20%22tms%22%3A%20false%7D%0A%20%20%20%20%20%20%20%20%20%20%20%20%29.addTo%28map_1ce0502d121443ac8ba39890cfbe9aeb%29%3B%0A%20%20%20%20%20%20%20%20%0A%20%20%20%20%0A%20%20%20%20%20%20%20%20function%20geo_json_a8f143fed5134e5ba0b2402b2b3087a8_styler%28feature%29%20%7B%0A%20%20%20%20%20%20%20%20%20%20%20%20switch%28feature.id%29%20%7B%0A%20%20%20%20%20%20%20%20%20%20%20%20%20%20%20%20case%20%222%22%3A%20%0A%20%20%20%20%20%20%20%20%20%20%20%20%20%20%20%20%20%20%20%20return%20%7B%22color%22%3A%20%22%23FFFFFF%22%2C%20%22fillColor%22%3A%20%22%23d73027ff%22%2C%20%22fillOpacity%22%3A%200.8%2C%20%22weight%22%3A%200.2%7D%3B%0A%20%20%20%20%20%20%20%20%20%20%20%20%20%20%20%20case%20%224%22%3A%20case%20%226%22%3A%20case%20%229%22%3A%20%0A%20%20%20%20%20%20%20%20%20%20%20%20%20%20%20%20%20%20%20%20return%20%7B%22color%22%3A%20%22%23FFFFFF%22%2C%20%22fillColor%22%3A%20%22%23f46d43ff%22%2C%20%22fillOpacity%22%3A%200.8%2C%20%22weight%22%3A%200.2%7D%3B%0A%20%20%20%20%20%20%20%20%20%20%20%20%20%20%20%20case%20%225%22%3A%20%0A%20%20%20%20%20%20%20%20%20%20%20%20%20%20%20%20%20%20%20%20return%20%7B%22color%22%3A%20%22%23FFFFFF%22%2C%20%22fillColor%22%3A%20%22%23fee08bff%22%2C%20%22fillOpacity%22%3A%200.8%2C%20%22weight%22%3A%200.2%7D%3B%0A%20%20%20%20%20%20%20%20%20%20%20%20%20%20%20%20case%20%227%22%3A%20%0A%20%20%20%20%20%20%20%20%20%20%20%20%20%20%20%20%20%20%20%20return%20%7B%22color%22%3A%20%22%23FFFFFF%22%2C%20%22fillColor%22%3A%20%22%23fdae61ff%22%2C%20%22fillOpacity%22%3A%200.8%2C%20%22weight%22%3A%200.2%7D%3B%0A%20%20%20%20%20%20%20%20%20%20%20%20%20%20%20%20default%3A%0A%20%20%20%20%20%20%20%20%20%20%20%20%20%20%20%20%20%20%20%20return%20%7B%22color%22%3A%20%22%23FFFFFF%22%2C%20%22fillColor%22%3A%20%22%23a50026ff%22%2C%20%22fillOpacity%22%3A%200.8%2C%20%22weight%22%3A%200.2%7D%3B%0A%20%20%20%20%20%20%20%20%20%20%20%20%7D%0A%20%20%20%20%20%20%20%20%7D%0A%20%20%20%20%20%20%20%20function%20geo_json_a8f143fed5134e5ba0b2402b2b3087a8_highlighter%28feature%29%20%7B%0A%20%20%20%20%20%20%20%20%20%20%20%20switch%28feature.id%29%20%7B%0A%20%20%20%20%20%20%20%20%20%20%20%20%20%20%20%20default%3A%0A%20%20%20%20%20%20%20%20%20%20%20%20%20%20%20%20%20%20%20%20return%20%7B%22fillColor%22%3A%20%22%23DD1C77%22%2C%20%22fillOpacity%22%3A%200.6%7D%3B%0A%20%20%20%20%20%20%20%20%20%20%20%20%7D%0A%20%20%20%20%20%20%20%20%7D%0A%0A%20%20%20%20%20%20%20%20function%20geo_json_a8f143fed5134e5ba0b2402b2b3087a8_onEachFeature%28feature%2C%20layer%29%20%7B%0A%20%20%20%20%20%20%20%20%20%20%20%20layer.on%28%7B%0A%20%20%20%20%20%20%20%20%20%20%20%20%20%20%20%20mouseout%3A%20function%28e%29%20%7B%0A%20%20%20%20%20%20%20%20%20%20%20%20%20%20%20%20%20%20%20%20if%28typeof%20e.target.setStyle%20%3D%3D%3D%20%22function%22%29%7B%0A%20%20%20%20%20%20%20%20%20%20%20%20%20%20%20%20%20%20%20%20%20%20%20%20geo_json_a8f143fed5134e5ba0b2402b2b3087a8.resetStyle%28e.target%29%3B%0A%20%20%20%20%20%20%20%20%20%20%20%20%20%20%20%20%20%20%20%20%7D%0A%20%20%20%20%20%20%20%20%20%20%20%20%20%20%20%20%7D%2C%0A%20%20%20%20%20%20%20%20%20%20%20%20%20%20%20%20mouseover%3A%20function%28e%29%20%7B%0A%20%20%20%20%20%20%20%20%20%20%20%20%20%20%20%20%20%20%20%20if%28typeof%20e.target.setStyle%20%3D%3D%3D%20%22function%22%29%7B%0A%20%20%20%20%20%20%20%20%20%20%20%20%20%20%20%20%20%20%20%20%20%20%20%20const%20highlightStyle%20%3D%20geo_json_a8f143fed5134e5ba0b2402b2b3087a8_highlighter%28e.target.feature%29%0A%20%20%20%20%20%20%20%20%20%20%20%20%20%20%20%20%20%20%20%20%20%20%20%20e.target.setStyle%28highlightStyle%29%3B%0A%20%20%20%20%20%20%20%20%20%20%20%20%20%20%20%20%20%20%20%20%7D%0A%20%20%20%20%20%20%20%20%20%20%20%20%20%20%20%20%7D%2C%0A%20%20%20%20%20%20%20%20%20%20%20%20%7D%29%3B%0A%20%20%20%20%20%20%20%20%7D%3B%0A%20%20%20%20%20%20%20%20var%20geo_json_a8f143fed5134e5ba0b2402b2b3087a8%20%3D%20L.geoJson%28null%2C%20%7B%0A%20%20%20%20%20%20%20%20%20%20%20%20%20%20%20%20onEachFeature%3A%20geo_json_a8f143fed5134e5ba0b2402b2b3087a8_onEachFeature%2C%0A%20%20%20%20%20%20%20%20%20%20%20%20%0A%20%20%20%20%20%20%20%20%20%20%20%20%20%20%20%20style%3A%20geo_json_a8f143fed5134e5ba0b2402b2b3087a8_styler%2C%0A%20%20%20%20%20%20%20%20%7D%29%3B%0A%0A%20%20%20%20%20%20%20%20function%20geo_json_a8f143fed5134e5ba0b2402b2b3087a8_add%20%28data%29%20%7B%0A%20%20%20%20%20%20%20%20%20%20%20%20geo_json_a8f143fed5134e5ba0b2402b2b3087a8%0A%20%20%20%20%20%20%20%20%20%20%20%20%20%20%20%20.addData%28data%29%0A%20%20%20%20%20%20%20%20%20%20%20%20%20%20%20%20.addTo%28map_1ce0502d121443ac8ba39890cfbe9aeb%29%3B%0A%20%20%20%20%20%20%20%20%7D%0A%20%20%20%20%20%20%20%20%20%20%20%20geo_json_a8f143fed5134e5ba0b2402b2b3087a8_add%28%7B%22bbox%22%3A%20%5B-118.14623822649246%2C%2033.83263340313583%2C%20-118.1299029595781%2C%2033.847307991063424%5D%2C%20%22features%22%3A%20%5B%7B%22bbox%22%3A%20%5B-118.13173385582371%2C%2033.84569937928096%2C%20-118.1300281923298%2C%2033.84719521031223%5D%2C%20%22geometry%22%3A%20%7B%22coordinates%22%3A%20%5B%5B%5B-118.13141690870562%2C%2033.84569937928096%5D%2C%20%5B-118.13168028660338%2C%2033.84572748297825%5D%2C%20%5B-118.13173385582371%2C%2033.84594454342027%5D%2C%20%5B-118.1303451401547%2C%2033.84719521031223%5D%2C%20%5B-118.13029157389704%2C%2033.8469781495273%5D%2C%20%5B-118.1300281923298%2C%2033.84695004265048%5D%2C%20%5B-118.13141690870562%2C%2033.84569937928096%5D%5D%5D%2C%20%22type%22%3A%20%22Polygon%22%7D%2C%20%22id%22%3A%20%220%22%2C%20%22properties%22%3A%20%7B%22_20p_mph%22%3A%202.5%2C%20%22avg_mph%22%3A%202.5%2C%20%22delay_chg_sec%22%3A%200.0%2C%20%22delay_sec%22%3A%200%2C%20%22direction_id%22%3A%20%220%22%2C%20%22last_loc%22%3A%2020.79507729235467%2C%20%22meters_from_last%22%3A%20204.10959169507896%2C%20%22n_trips%22%3A%201%2C%20%22route_id%22%3A%20%22103%22%2C%20%22route_short_name%22%3A%20%22103%22%2C%20%22seconds_from_last%22%3A%20186.0%2C%20%22shape_id%22%3A%20%221030063%22%2C%20%22shape_meters%22%3A%20225.0%2C%20%22speed_from_last%22%3A%201.097363396210102%2C%20%22speed_mph%22%3A%202.454801917321998%2C%20%22stop_id%22%3A%20%221165%22%2C%20%22stop_name%22%3A%20%22DEL%20AMO%20%5Cu0026%20CLARK%20SE%22%2C%20%22stop_sequence%22%3A%206%2C%20%22trip_id%22%3A%20%229371394%22%2C%20%22trip_key%22%3A%205138332974770382998%2C%20%22trips_per_hour%22%3A%200.2%7D%2C%20%22type%22%3A%20%22Feature%22%7D%2C%20%7B%22bbox%22%3A%20%5B-118.13053368041037%2C%2033.84678024861259%2C%20-118.1299029595781%2C%2033.847307991063424%5D%2C%20%22geometry%22%3A%20%7B%22coordinates%22%3A%20%5B%5B%5B-118.13021673268142%2C%2033.84678024861259%5D%2C%20%5B-118.13048011375047%2C%2033.846808355057696%5D%2C%20%5B-118.13053368041037%2C%2033.847025415796104%5D%2C%20%5B-118.13021990746671%2C%2033.847307991063424%5D%2C%20%5B-118.13016634147624%2C%2033.84709093024758%5D%2C%20%5B-118.1299029595781%2C%2033.84706282308407%5D%2C%20%5B-118.13021673268142%2C%2033.84678024861259%5D%5D%5D%2C%20%22type%22%3A%20%22Polygon%22%7D%2C%20%22id%22%3A%20%221%22%2C%20%22properties%22%3A%20%7B%22_20p_mph%22%3A%201.2%2C%20%22avg_mph%22%3A%201.2%2C%20%22delay_chg_sec%22%3A%200.0%2C%20%22delay_sec%22%3A%200%2C%20%22direction_id%22%3A%20%220%22%2C%20%22last_loc%22%3A%203.741698429303825%2C%20%22meters_from_last%22%3A%2057.72766521941376%2C%20%22n_trips%22%3A%201%2C%20%22route_id%22%3A%20%22103%22%2C%20%22route_short_name%22%3A%20%22103%22%2C%20%22seconds_from_last%22%3A%20104.0%2C%20%22shape_id%22%3A%20%221030063%22%2C%20%22shape_meters%22%3A%2061.0%2C%20%22speed_from_last%22%3A%200.5550737040328246%2C%20%22speed_mph%22%3A%201.2416998759214288%2C%20%22stop_id%22%3A%20%221082%22%2C%20%22stop_name%22%3A%20%22BELLFLOWER%20%5Cu0026%20ARBOR%20SW%22%2C%20%22stop_sequence%22%3A%209%2C%20%22trip_id%22%3A%20%229371394%22%2C%20%22trip_key%22%3A%205138332974770382998%2C%20%22trips_per_hour%22%3A%200.2%7D%2C%20%22type%22%3A%20%22Feature%22%7D%2C%20%7B%22bbox%22%3A%20%5B-118.1325731470639%2C%2033.84494349375855%2C%20-118.13032688552545%2C%2033.846926214524515%5D%2C%20%22geometry%22%3A%20%7B%22coordinates%22%3A%20%5B%5B%5B-118.13225620037308%2C%2033.84494349375855%5D%2C%20%5B-118.13251957605307%2C%2033.84497159553421%5D%2C%20%5B-118.1325731470639%2C%2033.845188655769064%5D%2C%20%5B-118.13064383319833%2C%2033.846926214524515%5D%2C%20%5B-118.13059026630341%2C%2033.84670915381332%5D%2C%20%5B-118.13032688552545%2C%2033.84668104762039%5D%2C%20%5B-118.13225620037308%2C%2033.84494349375855%5D%5D%5D%2C%20%22type%22%3A%20%22Polygon%22%7D%2C%20%22id%22%3A%20%222%22%2C%20%22properties%22%3A%20%7B%22_20p_mph%22%3A%204.6%2C%20%22avg_mph%22%3A%204.6%2C%20%22delay_chg_sec%22%3A%200.0%2C%20%22delay_sec%22%3A%200%2C%20%22direction_id%22%3A%20%220%22%2C%20%22last_loc%22%3A%2061.46936364871758%2C%20%22meters_from_last%22%3A%20277.72943479108534%2C%20%22n_trips%22%3A%201%2C%20%22route_id%22%3A%20%22103%22%2C%20%22route_short_name%22%3A%20%22103%22%2C%20%22seconds_from_last%22%3A%20135.0%2C%20%22shape_id%22%3A%20%221030063%22%2C%20%22shape_meters%22%3A%20339.0%2C%20%22speed_from_last%22%3A%202.057255072526558%2C%20%22speed_mph%22%3A%204.602079597241911%2C%20%22stop_id%22%3A%20%221083%22%2C%20%22stop_name%22%3A%20%22BELLFLOWER%20%5Cu0026%20CENTRALIA%20SW%22%2C%20%22stop_sequence%22%3A%2010%2C%20%22trip_id%22%3A%20%229371394%22%2C%20%22trip_key%22%3A%205138332974770382998%2C%20%22trips_per_hour%22%3A%200.2%7D%2C%20%22type%22%3A%20%22Feature%22%7D%2C%20%7B%22bbox%22%3A%20%5B-118.13467448049809%2C%2033.843050889791904%2C%20-118.13321711274914%2C%2033.8443232072285%5D%2C%20%22geometry%22%3A%20%7B%22coordinates%22%3A%20%5B%5B%5B-118.13435753487752%2C%2033.843050889791904%5D%2C%20%5B-118.13462090500472%2C%2033.84307898675644%5D%2C%20%5B-118.13467448049809%2C%2033.843296046472624%5D%2C%20%5B-118.13353405895063%2C%2033.8443232072285%5D%2C%20%5B-118.13348048588996%2C%2033.844106147230825%5D%2C%20%5B-118.13321711274914%2C%2033.8440780476552%5D%2C%20%5B-118.13435753487752%2C%2033.843050889791904%5D%5D%5D%2C%20%22type%22%3A%20%22Polygon%22%7D%2C%20%22id%22%3A%20%223%22%2C%20%22properties%22%3A%20%7B%22_20p_mph%22%3A%200.9%2C%20%22avg_mph%22%3A%205.1%2C%20%22delay_chg_sec%22%3A%20-307.0%2C%20%22delay_sec%22%3A%20543%2C%20%22direction_id%22%3A%20%220%22%2C%20%22last_loc%22%3A%20455.0578287284042%2C%20%22meters_from_last%22%3A%20170.30875318515376%2C%20%22n_trips%22%3A%204%2C%20%22route_id%22%3A%20%22103%22%2C%20%22route_short_name%22%3A%20%22103%22%2C%20%22seconds_from_last%22%3A%20185.0%2C%20%22shape_id%22%3A%20%221030063%22%2C%20%22shape_meters%22%3A%20625.0%2C%20%22speed_from_last%22%3A%200.9205878550548852%2C%20%22speed_mph%22%3A%202.0593550317577782%2C%20%22stop_id%22%3A%20%221084%22%2C%20%22stop_name%22%3A%20%22BELLFLOWER%20%5Cu0026%20HARVEY%20WAY%20SW%22%2C%20%22stop_sequence%22%3A%2011%2C%20%22trip_id%22%3A%20%229370440%22%2C%20%22trip_key%22%3A%20-5874742733094039604%2C%20%22trips_per_hour%22%3A%201.0%7D%2C%20%22type%22%3A%20%22Feature%22%7D%2C%20%7B%22bbox%22%3A%20%5B-118.13694976791685%2C%2033.841001460453946%2C%20-118.13446785857782%2C%2033.84319667751805%5D%2C%20%22geometry%22%3A%20%7B%22coordinates%22%3A%20%5B%5B%5B-118.13663282345583%2C%2033.841001460453946%5D%2C%20%5B-118.13689981214785%2C%2033.841026287287605%5D%2C%20%5B-118.13694976791685%2C%2033.84124661136386%5D%2C%20%5B-118.13478480414214%2C%2033.84319667751805%5D%2C%20%5B-118.13473485316975%2C%2033.842976352984024%5D%2C%20%5B-118.13446785857782%2C%2033.842951521117136%5D%2C%20%5B-118.13663282345583%2C%2033.841001460453946%5D%5D%5D%2C%20%22type%22%3A%20%22Polygon%22%7D%2C%20%22id%22%3A%20%224%22%2C%20%22properties%22%3A%20%7B%22_20p_mph%22%3A%208.2%2C%20%22avg_mph%22%3A%2013.9%2C%20%22delay_chg_sec%22%3A%20-28.0%2C%20%22delay_sec%22%3A%20516%2C%20%22direction_id%22%3A%20%220%22%2C%20%22last_loc%22%3A%20625.366581913558%2C%20%22meters_from_last%22%3A%20310.366598912635%2C%20%22n_trips%22%3A%204%2C%20%22route_id%22%3A%20%22103%22%2C%20%22route_short_name%22%3A%20%22103%22%2C%20%22seconds_from_last%22%3A%2053.0%2C%20%22shape_id%22%3A%20%221030063%22%2C%20%22shape_meters%22%3A%20936.0%2C%20%22speed_from_last%22%3A%205.85597356438934%2C%20%22speed_mph%22%3A%2013.099812863538954%2C%20%22stop_id%22%3A%20%224057%22%2C%20%22stop_name%22%3A%20%22CARSON%20%5Cu0026%20BELLFLOWER%20NW%22%2C%20%22stop_sequence%22%3A%2012%2C%20%22trip_id%22%3A%20%229370440%22%2C%20%22trip_key%22%3A%20-5874742733094039604%2C%20%22trips_per_hour%22%3A%201.0%7D%2C%20%22type%22%3A%20%22Feature%22%7D%2C%20%7B%22bbox%22%3A%20%5B-118.14084022144904%2C%2033.83747663821005%2C%20-118.13675072253956%2C%2033.841140411108015%5D%2C%20%22geometry%22%3A%20%7B%22coordinates%22%3A%20%5B%5B%5B-118.14049411992589%2C%2033.837523101869635%5D%2C%20%5B-118.14084022144904%2C%2033.83747663821005%5D%2C%20%5B-118.1408110624174%2C%2033.837768242986456%5D%2C%20%5B-118.13706766694047%2C%2033.841140411108015%5D%2C%20%5B-118.1370968410082%2C%2033.840848808425%5D%2C%20%5B-118.13675072253956%2C%2033.84089526049713%5D%2C%20%5B-118.14049411992589%2C%2033.837523101869635%5D%5D%5D%2C%20%22type%22%3A%20%22Polygon%22%7D%2C%20%22id%22%3A%20%225%22%2C%20%22properties%22%3A%20%7B%22_20p_mph%22%3A%2012.3%2C%20%22avg_mph%22%3A%2013.0%2C%20%22delay_chg_sec%22%3A%20-49.0%2C%20%22delay_sec%22%3A%20467%2C%20%22direction_id%22%3A%20%220%22%2C%20%22last_loc%22%3A%20935.733180826193%2C%20%22meters_from_last%22%3A%20536.6861991415893%2C%20%22n_trips%22%3A%204%2C%20%22route_id%22%3A%20%22103%22%2C%20%22route_short_name%22%3A%20%22103%22%2C%20%22seconds_from_last%22%3A%2098.0%2C%20%22shape_id%22%3A%20%221030063%22%2C%20%22shape_meters%22%3A%201472.0%2C%20%22speed_from_last%22%3A%205.476389787159075%2C%20%22speed_mph%22%3A%2012.250683953874852%2C%20%22stop_id%22%3A%20%221291%22%2C%20%22stop_name%22%3A%20%22CARSON%20%5Cu0026%20CLARK%20NW%22%2C%20%22stop_sequence%22%3A%2013%2C%20%22trip_id%22%3A%20%229370440%22%2C%20%22trip_key%22%3A%20-5874742733094039604%2C%20%22trips_per_hour%22%3A%201.0%7D%2C%20%22type%22%3A%20%22Feature%22%7D%2C%20%7B%22bbox%22%3A%20%5B-118.14213617103003%2C%2033.8363293042285%2C%20-118.14068699462692%2C%2033.83759448400943%5D%2C%20%22geometry%22%3A%20%7B%22coordinates%22%3A%20%5B%5B%5B-118.14181922921489%2C%2033.8363293042285%5D%2C%20%5B-118.14208257962204%2C%2033.83635738410903%5D%2C%20%5B-118.14213617103003%2C%2033.836574441984645%5D%2C%20%5B-118.14100393702002%2C%2033.83759448400943%5D%2C%20%5B-118.14095034802665%2C%2033.837377425854605%5D%2C%20%5B-118.14068699462692%2C%2033.837349343381774%5D%2C%20%5B-118.14181922921489%2C%2033.8363293042285%5D%5D%5D%2C%20%22type%22%3A%20%22Polygon%22%7D%2C%20%22id%22%3A%20%226%22%2C%20%22properties%22%3A%20%7B%22_20p_mph%22%3A%206.6%2C%20%22avg_mph%22%3A%2012.0%2C%20%22delay_chg_sec%22%3A%20-2.0%2C%20%22delay_sec%22%3A%20466%2C%20%22direction_id%22%3A%20%220%22%2C%20%22last_loc%22%3A%201472.4193799677823%2C%20%22meters_from_last%22%3A%20169.21993935636078%2C%20%22n_trips%22%3A%204%2C%20%22route_id%22%3A%20%22103%22%2C%20%22route_short_name%22%3A%20%22103%22%2C%20%22seconds_from_last%22%3A%2051.0%2C%20%22shape_id%22%3A%20%221030063%22%2C%20%22shape_meters%22%3A%201642.0%2C%20%22speed_from_last%22%3A%203.3180380265953096%2C%20%22speed_mph%22%3A%207.422451065493708%2C%20%22stop_id%22%3A%20%221292%22%2C%20%22stop_name%22%3A%20%22CARSON%20%5Cu0026%20FACULTY%20NE%22%2C%20%22stop_sequence%22%3A%2014%2C%20%22trip_id%22%3A%20%229370440%22%2C%20%22trip_key%22%3A%20-5874742733094039604%2C%20%22trips_per_hour%22%3A%201.0%7D%2C%20%22type%22%3A%20%22Feature%22%7D%2C%20%7B%22bbox%22%3A%20%5B-118.14407862118688%2C%2033.834579244187694%2C%20-118.1419293529687%2C%2033.83647522826956%5D%2C%20%22geometry%22%3A%20%7B%22coordinates%22%3A%20%5B%5B%5B-118.14376168036367%2C%2033.834579244187694%5D%2C%20%5B-118.14402502563664%2C%2033.834607319620815%5D%2C%20%5B-118.14407862118688%2C%2033.834824377017576%5D%2C%20%5B-118.14224629472761%2C%2033.83647522826956%5D%2C%20%5B-118.14219270308479%2C%2033.836258170421075%5D%2C%20%5B-118.1419293529687%2C%2033.83623009079276%5D%2C%20%5B-118.14376168036367%2C%2033.834579244187694%5D%5D%5D%2C%20%22type%22%3A%20%22Polygon%22%7D%2C%20%22id%22%3A%20%227%22%2C%20%22properties%22%3A%20%7B%22_20p_mph%22%3A%209.5%2C%20%22avg_mph%22%3A%2013.2%2C%20%22delay_chg_sec%22%3A%20-25.0%2C%20%22delay_sec%22%3A%20441%2C%20%22direction_id%22%3A%20%220%22%2C%20%22last_loc%22%3A%201641.6393193241431%2C%20%22meters_from_last%22%3A%20264.5875571183183%2C%20%22n_trips%22%3A%204%2C%20%22route_id%22%3A%20%22103%22%2C%20%22route_short_name%22%3A%20%22103%22%2C%20%22seconds_from_last%22%3A%2058.0%2C%20%22shape_id%22%3A%20%221030063%22%2C%20%22shape_meters%22%3A%201906.0%2C%20%22speed_from_last%22%3A%204.561854433074453%2C%20%22speed_mph%22%3A%2010.204868366787553%2C%20%22stop_id%22%3A%20%221293%22%2C%20%22stop_name%22%3A%20%22CARSON%20%5Cu0026%20NORSE%20WAY%20NW%22%2C%20%22stop_sequence%22%3A%2015%2C%20%22trip_id%22%3A%20%229370440%22%2C%20%22trip_key%22%3A%20-5874742733094039604%2C%20%22trips_per_hour%22%3A%201.0%7D%2C%20%22type%22%3A%20%22Feature%22%7D%2C%20%7B%22bbox%22%3A%20%5B-118.14488279796517%2C%2033.83385468374454%2C%20-118.14387179924734%2C%2033.83472516121905%5D%2C%20%22geometry%22%3A%20%7B%22coordinates%22%3A%20%5B%5B%5B-118.14456585755275%2C%2033.83385468374454%5D%2C%20%5B-118.14482920070009%2C%2033.833882757336475%5D%2C%20%5B-118.14488279796517%2C%2033.83409981453499%5D%2C%20%5B-118.14418874001431%2C%2033.83472516121905%5D%2C%20%5B-118.14413514422924%2C%2033.83450810384947%5D%2C%20%5B-118.14387179924734%2C%2033.83448002866842%5D%2C%20%5B-118.14456585755275%2C%2033.83385468374454%5D%5D%5D%2C%20%22type%22%3A%20%22Polygon%22%7D%2C%20%22id%22%3A%20%228%22%2C%20%22properties%22%3A%20%7B%22_20p_mph%22%3A%202.6%2C%20%22avg_mph%22%3A%209.0%2C%20%22delay_chg_sec%22%3A%2058.0%2C%20%22delay_sec%22%3A%20499%2C%20%22direction_id%22%3A%20%220%22%2C%20%22last_loc%22%3A%201906.2268764424614%2C%20%22meters_from_last%22%3A%20109.54300248368418%2C%20%22n_trips%22%3A%204%2C%20%22route_id%22%3A%20%22103%22%2C%20%22route_short_name%22%3A%20%22103%22%2C%20%22seconds_from_last%22%3A%2091.0%2C%20%22shape_id%22%3A%20%221030063%22%2C%20%22shape_meters%22%3A%202016.0%2C%20%22speed_from_last%22%3A%201.2037692580624635%2C%20%22speed_mph%22%3A%202.692831830285731%2C%20%22stop_id%22%3A%20%221294%22%2C%20%22stop_name%22%3A%20%22CARSON%20%5Cu0026%20LAKEWOOD%20NW%22%2C%20%22stop_sequence%22%3A%2016%2C%20%22trip_id%22%3A%20%229370440%22%2C%20%22trip_key%22%3A%20-5874742733094039604%2C%20%22trips_per_hour%22%3A%201.0%7D%2C%20%22type%22%3A%20%22Feature%22%7D%2C%20%7B%22bbox%22%3A%20%5B-118.14623822649246%2C%2033.83263340313583%2C%20-118.1446759744202%2C%2033.8340005978739%5D%2C%20%22geometry%22%3A%20%7B%22coordinates%22%3A%20%5B%5B%5B-118.14592128677269%2C%2033.83263340313583%5D%2C%20%5B-118.1461846263372%2C%2033.83266147362444%5D%2C%20%5B-118.14623822649246%2C%2033.8328785304889%5D%2C%20%5B-118.14499291477632%2C%2033.8340005978739%5D%2C%20%5B-118.14493931727645%2C%2033.833783540702505%5D%2C%20%5B-118.1446759744202%2C%2033.833755467362714%5D%2C%20%5B-118.14592128677269%2C%2033.83263340313583%5D%5D%5D%2C%20%22type%22%3A%20%22Polygon%22%7D%2C%20%22id%22%3A%20%229%22%2C%20%22properties%22%3A%20%7B%22_20p_mph%22%3A%209.0%2C%20%22avg_mph%22%3A%209.9%2C%20%22delay_chg_sec%22%3A%20-2.0%2C%20%22delay_sec%22%3A%20498%2C%20%22direction_id%22%3A%20%220%22%2C%20%22last_loc%22%3A%202015.7698789261456%2C%20%22meters_from_last%22%3A%20184.63771279994103%2C%20%22n_trips%22%3A%204%2C%20%22route_id%22%3A%20%22103%22%2C%20%22route_short_name%22%3A%20%22103%22%2C%20%22seconds_from_last%22%3A%2043.0%2C%20%22shape_id%22%3A%20%221030063%22%2C%20%22shape_meters%22%3A%202200.0%2C%20%22speed_from_last%22%3A%204.293900297673047%2C%20%22speed_mph%22%3A%209.605454965894607%2C%20%22stop_id%22%3A%20%221271%22%2C%20%22stop_name%22%3A%20%22CARSON%20AT%20WORSHAM%20NW%22%2C%20%22stop_sequence%22%3A%2017%2C%20%22trip_id%22%3A%20%229370440%22%2C%20%22trip_key%22%3A%20-5874742733094039604%2C%20%22trips_per_hour%22%3A%201.0%7D%2C%20%22type%22%3A%20%22Feature%22%7D%5D%2C%20%22type%22%3A%20%22FeatureCollection%22%7D%29%3B%0A%0A%20%20%20%20%20%20%20%20%0A%20%20%20%20%0A%20%20%20%20geo_json_a8f143fed5134e5ba0b2402b2b3087a8.bindTooltip%28%0A%20%20%20%20function%28layer%29%7B%0A%20%20%20%20let%20div%20%3D%20L.DomUtil.create%28%27div%27%29%3B%0A%20%20%20%20%0A%20%20%20%20let%20handleObject%20%3D%20feature%3D%3Etypeof%28feature%29%3D%3D%27object%27%20%3F%20JSON.stringify%28feature%29%20%3A%20feature%3B%0A%20%20%20%20let%20fields%20%3D%20%5B%22_20p_mph%22%2C%20%22shape_meters%22%2C%20%22route_short_name%22%2C%20%22shape_id%22%2C%20%22direction_id%22%2C%20%22stop_id%22%2C%20%22stop_sequence%22%2C%20%22trips_per_hour%22%5D%3B%0A%20%20%20%20let%20aliases%20%3D%20%5B%22Speed%20%28miles%20per%20hour%29%22%2C%20%22Distance%20along%20route%20%28meters%29%22%2C%20%22Route%22%2C%20%22Shape%20ID%22%2C%20%22Direction%20ID%22%2C%20%22Next%20Stop%20ID%22%2C%20%22Next%20Stop%20Sequence%22%2C%20%22Trips%20per%20Hour%22%5D%3B%0A%20%20%20%20let%20table%20%3D%20%27%3Ctable%3E%27%20%2B%0A%20%20%20%20%20%20%20%20String%28%0A%20%20%20%20%20%20%20%20fields.map%28%0A%20%20%20%20%20%20%20%20%28v%2Ci%29%3D%3E%0A%20%20%20%20%20%20%20%20%60%3Ctr%3E%0A%20%20%20%20%20%20%20%20%20%20%20%20%3Cth%3E%24%7Baliases%5Bi%5D%7D%3C/th%3E%0A%20%20%20%20%20%20%20%20%20%20%20%20%0A%20%20%20%20%20%20%20%20%20%20%20%20%3Ctd%3E%24%7BhandleObject%28layer.feature.properties%5Bv%5D%29%7D%3C/td%3E%0A%20%20%20%20%20%20%20%20%3C/tr%3E%60%29.join%28%27%27%29%29%0A%20%20%20%20%2B%27%3C/table%3E%27%3B%0A%20%20%20%20div.innerHTML%3Dtable%3B%0A%20%20%20%20%0A%20%20%20%20return%20div%0A%20%20%20%20%7D%0A%20%20%20%20%2C%7B%22className%22%3A%20%22foliumtooltip%22%2C%20%22maxWidth%22%3A%20100%2C%20%22minWidth%22%3A%2050%2C%20%22sticky%22%3A%20false%7D%29%3B%0A%20%20%20%20%20%20%20%20%20%20%20%20%20%20%20%20%20%20%20%20%20%0A%20%20%20%20%0A%20%20%20%20geo_json_a8f143fed5134e5ba0b2402b2b3087a8.bindPopup%28%0A%20%20%20%20function%28layer%29%7B%0A%20%20%20%20let%20div%20%3D%20L.DomUtil.create%28%27div%27%29%3B%0A%20%20%20%20%0A%20%20%20%20let%20handleObject%20%3D%20feature%3D%3Etypeof%28feature%29%3D%3D%27object%27%20%3F%20JSON.stringify%28feature%29%20%3A%20feature%3B%0A%20%20%20%20let%20fields%20%3D%20%5B%22_20p_mph%22%2C%20%22shape_meters%22%2C%20%22route_short_name%22%2C%20%22shape_id%22%2C%20%22direction_id%22%2C%20%22stop_id%22%2C%20%22stop_sequence%22%2C%20%22trips_per_hour%22%5D%3B%0A%20%20%20%20let%20aliases%20%3D%20%5B%22Speed%20%28miles%20per%20hour%29%22%2C%20%22Distance%20along%20route%20%28meters%29%22%2C%20%22Route%22%2C%20%22Shape%20ID%22%2C%20%22Direction%20ID%22%2C%20%22Next%20Stop%20ID%22%2C%20%22Next%20Stop%20Sequence%22%2C%20%22Trips%20per%20Hour%22%5D%3B%0A%20%20%20%20let%20table%20%3D%20%27%3Ctable%3E%27%20%2B%0A%20%20%20%20%20%20%20%20String%28%0A%20%20%20%20%20%20%20%20fields.map%28%0A%20%20%20%20%20%20%20%20%28v%2Ci%29%3D%3E%0A%20%20%20%20%20%20%20%20%60%3Ctr%3E%0A%20%20%20%20%20%20%20%20%20%20%20%20%3Cth%3E%24%7Baliases%5Bi%5D.toLocaleString%28%29%7D%3C/th%3E%0A%20%20%20%20%20%20%20%20%20%20%20%20%0A%20%20%20%20%20%20%20%20%20%20%20%20%3Ctd%3E%24%7BhandleObject%28layer.feature.properties%5Bv%5D%29.toLocaleString%28%29%7D%3C/td%3E%0A%20%20%20%20%20%20%20%20%3C/tr%3E%60%29.join%28%27%27%29%29%0A%20%20%20%20%2B%27%3C/table%3E%27%3B%0A%20%20%20%20div.innerHTML%3Dtable%3B%0A%20%20%20%20%0A%20%20%20%20return%20div%0A%20%20%20%20%7D%0A%20%20%20%20%2C%7B%22className%22%3A%20%22foliumpopup%22%2C%20%22maxWidth%22%3A%20100%2C%20%22minWidth%22%3A%2050%7D%29%3B%0A%20%20%20%20%20%20%20%20%20%20%20%20%20%20%20%20%20%20%20%20%20%0A%20%20%20%20%0A%20%20%20%20var%20color_map_70a707fdacf8438ba6aa2eb780ec772d%20%3D%20%7B%7D%3B%0A%0A%20%20%20%20%0A%20%20%20%20color_map_70a707fdacf8438ba6aa2eb780ec772d.color%20%3D%20d3.scale.threshold%28%29%0A%20%20%20%20%20%20%20%20%20%20%20%20%20%20.domain%28%5B0.0%2C%200.06012024048096192%2C%200.12024048096192384%2C%200.18036072144288579%2C%200.24048096192384769%2C%200.30060120240480964%2C%200.36072144288577157%2C%200.42084168336673344%2C%200.48096192384769537%2C%200.5410821643286573%2C%200.6012024048096193%2C%200.6613226452905812%2C%200.7214428857715431%2C%200.781563126252505%2C%200.8416833667334669%2C%200.9018036072144289%2C%200.9619238476953907%2C%201.0220440881763526%2C%201.0821643286573146%2C%201.1422845691382766%2C%201.2024048096192386%2C%201.2625250501002003%2C%201.3226452905811623%2C%201.3827655310621243%2C%201.4428857715430863%2C%201.503006012024048%2C%201.56312625250501%2C%201.623246492985972%2C%201.6833667334669338%2C%201.7434869739478958%2C%201.8036072144288577%2C%201.8637274549098197%2C%201.9238476953907815%2C%201.9839679358717435%2C%202.0440881763527052%2C%202.1042084168336674%2C%202.164328657314629%2C%202.224448897795591%2C%202.284569138276553%2C%202.344689378757515%2C%202.404809619238477%2C%202.464929859719439%2C%202.5250501002004007%2C%202.585170340681363%2C%202.6452905811623246%2C%202.7054108216432864%2C%202.7655310621242486%2C%202.8256513026052104%2C%202.8857715430861726%2C%202.9458917835671343%2C%203.006012024048096%2C%203.0661322645290583%2C%203.12625250501002%2C%203.186372745490982%2C%203.246492985971944%2C%203.306613226452906%2C%203.3667334669338675%2C%203.4268537074148298%2C%203.4869739478957915%2C%203.5470941883767537%2C%203.6072144288577155%2C%203.6673346693386772%2C%203.7274549098196395%2C%203.787575150300601%2C%203.847695390781563%2C%203.907815631262525%2C%203.967935871743487%2C%204.028056112224449%2C%204.0881763527054105%2C%204.148296593186373%2C%204.208416833667335%2C%204.268537074148297%2C%204.328657314629258%2C%204.38877755511022%2C%204.448897795591182%2C%204.509018036072145%2C%204.569138276553106%2C%204.629258517034068%2C%204.68937875751503%2C%204.749498997995992%2C%204.809619238476954%2C%204.869739478957916%2C%204.929859719438878%2C%204.98997995991984%2C%205.050100200400801%2C%205.110220440881764%2C%205.170340681362726%2C%205.2304609218436875%2C%205.290581162324649%2C%205.350701402805611%2C%205.410821643286573%2C%205.470941883767535%2C%205.531062124248497%2C%205.591182364729459%2C%205.651302605210421%2C%205.7114228456913825%2C%205.771543086172345%2C%205.831663326653307%2C%205.891783567134269%2C%205.95190380761523%2C%206.012024048096192%2C%206.072144288577154%2C%206.132264529058117%2C%206.192384769539078%2C%206.25250501002004%2C%206.312625250501002%2C%206.372745490981964%2C%206.432865731462926%2C%206.492985971943888%2C%206.55310621242485%2C%206.613226452905812%2C%206.673346693386773%2C%206.733466933867735%2C%206.793587174348698%2C%206.8537074148296595%2C%206.913827655310621%2C%206.973947895791583%2C%207.034068136272545%2C%207.094188376753507%2C%207.154308617234469%2C%207.214428857715431%2C%207.274549098196393%2C%207.3346693386773545%2C%207.394789579158316%2C%207.454909819639279%2C%207.515030060120241%2C%207.575150300601202%2C%207.635270541082164%2C%207.695390781563126%2C%207.755511022044089%2C%207.81563126252505%2C%207.875751503006012%2C%207.935871743486974%2C%207.995991983967936%2C%208.056112224448897%2C%208.11623246492986%2C%208.176352705410821%2C%208.236472945891784%2C%208.296593186372746%2C%208.356713426853707%2C%208.41683366733467%2C%208.47695390781563%2C%208.537074148296593%2C%208.597194388777556%2C%208.657314629258517%2C%208.71743486973948%2C%208.77755511022044%2C%208.837675350701403%2C%208.897795591182364%2C%208.957915831663327%2C%209.01803607214429%2C%209.07815631262525%2C%209.138276553106213%2C%209.198396793587174%2C%209.258517034068136%2C%209.318637274549099%2C%209.37875751503006%2C%209.438877755511022%2C%209.498997995991983%2C%209.559118236472946%2C%209.619238476953909%2C%209.67935871743487%2C%209.739478957915832%2C%209.799599198396793%2C%209.859719438877756%2C%209.919839679358718%2C%209.97995991983968%2C%2010.040080160320642%2C%2010.100200400801603%2C%2010.160320641282565%2C%2010.220440881763528%2C%2010.280561122244489%2C%2010.340681362725451%2C%2010.400801603206412%2C%2010.460921843687375%2C%2010.521042084168336%2C%2010.581162324649299%2C%2010.641282565130261%2C%2010.701402805611222%2C%2010.761523046092185%2C%2010.821643286573146%2C%2010.881763527054108%2C%2010.94188376753507%2C%2011.002004008016032%2C%2011.062124248496994%2C%2011.122244488977955%2C%2011.182364729458918%2C%2011.24248496993988%2C%2011.302605210420841%2C%2011.362725450901804%2C%2011.422845691382765%2C%2011.482965931863728%2C%2011.54308617234469%2C%2011.603206412825651%2C%2011.663326653306614%2C%2011.723446893787575%2C%2011.783567134268537%2C%2011.843687374749498%2C%2011.90380761523046%2C%2011.963927855711423%2C%2012.024048096192384%2C%2012.084168336673347%2C%2012.144288577154308%2C%2012.20440881763527%2C%2012.264529058116233%2C%2012.324649298597194%2C%2012.384769539078157%2C%2012.444889779559118%2C%2012.50501002004008%2C%2012.565130260521043%2C%2012.625250501002004%2C%2012.685370741482966%2C%2012.745490981963927%2C%2012.80561122244489%2C%2012.865731462925853%2C%2012.925851703406813%2C%2012.985971943887776%2C%2013.046092184368737%2C%2013.1062124248497%2C%2013.16633266533066%2C%2013.226452905811623%2C%2013.286573146292586%2C%2013.346693386773547%2C%2013.40681362725451%2C%2013.46693386773547%2C%2013.527054108216433%2C%2013.587174348697395%2C%2013.647294589178356%2C%2013.707414829659319%2C%2013.76753507014028%2C%2013.827655310621243%2C%2013.887775551102205%2C%2013.947895791583166%2C%2014.008016032064129%2C%2014.06813627254509%2C%2014.128256513026052%2C%2014.188376753507015%2C%2014.248496993987976%2C%2014.308617234468938%2C%2014.3687374749499%2C%2014.428857715430862%2C%2014.488977955911823%2C%2014.549098196392785%2C%2014.609218436873748%2C%2014.669338677354709%2C%2014.729458917835672%2C%2014.789579158316633%2C%2014.849699398797595%2C%2014.909819639278558%2C%2014.969939879759519%2C%2015.030060120240481%2C%2015.090180360721442%2C%2015.150300601202405%2C%2015.210420841683367%2C%2015.270541082164328%2C%2015.330661322645291%2C%2015.390781563126252%2C%2015.450901803607215%2C%2015.511022044088177%2C%2015.571142284569138%2C%2015.6312625250501%2C%2015.691382765531062%2C%2015.751503006012024%2C%2015.811623246492985%2C%2015.871743486973948%2C%2015.93186372745491%2C%2015.991983967935871%2C%2016.052104208416832%2C%2016.112224448897795%2C%2016.172344689378757%2C%2016.23246492985972%2C%2016.292585170340683%2C%2016.352705410821642%2C%2016.412825651302605%2C%2016.472945891783567%2C%2016.53306613226453%2C%2016.593186372745492%2C%2016.65330661322645%2C%2016.713426853707414%2C%2016.773547094188377%2C%2016.83366733466934%2C%2016.893787575150302%2C%2016.95390781563126%2C%2017.014028056112224%2C%2017.074148296593187%2C%2017.13426853707415%2C%2017.194388777555112%2C%2017.25450901803607%2C%2017.314629258517034%2C%2017.374749498997996%2C%2017.43486973947896%2C%2017.49498997995992%2C%2017.55511022044088%2C%2017.615230460921843%2C%2017.675350701402806%2C%2017.73547094188377%2C%2017.795591182364728%2C%2017.85571142284569%2C%2017.915831663326653%2C%2017.975951903807616%2C%2018.03607214428858%2C%2018.096192384769537%2C%2018.1563126252505%2C%2018.216432865731463%2C%2018.276553106212425%2C%2018.336673346693388%2C%2018.396793587174347%2C%2018.45691382765531%2C%2018.517034068136272%2C%2018.577154308617235%2C%2018.637274549098198%2C%2018.697394789579157%2C%2018.75751503006012%2C%2018.817635270541082%2C%2018.877755511022045%2C%2018.937875751503007%2C%2018.997995991983966%2C%2019.05811623246493%2C%2019.118236472945892%2C%2019.178356713426854%2C%2019.238476953907817%2C%2019.298597194388776%2C%2019.35871743486974%2C%2019.4188376753507%2C%2019.478957915831664%2C%2019.539078156312627%2C%2019.599198396793586%2C%2019.65931863727455%2C%2019.71943887775551%2C%2019.779559118236474%2C%2019.839679358717436%2C%2019.899799599198396%2C%2019.95991983967936%2C%2020.02004008016032%2C%2020.080160320641284%2C%2020.140280561122246%2C%2020.200400801603205%2C%2020.260521042084168%2C%2020.32064128256513%2C%2020.380761523046093%2C%2020.440881763527056%2C%2020.501002004008015%2C%2020.561122244488978%2C%2020.62124248496994%2C%2020.681362725450903%2C%2020.741482965931862%2C%2020.801603206412825%2C%2020.861723446893787%2C%2020.92184368737475%2C%2020.981963927855713%2C%2021.04208416833667%2C%2021.102204408817634%2C%2021.162324649298597%2C%2021.22244488977956%2C%2021.282565130260522%2C%2021.34268537074148%2C%2021.402805611222444%2C%2021.462925851703407%2C%2021.52304609218437%2C%2021.583166332665332%2C%2021.64328657314629%2C%2021.703406813627254%2C%2021.763527054108216%2C%2021.82364729458918%2C%2021.88376753507014%2C%2021.9438877755511%2C%2022.004008016032063%2C%2022.064128256513026%2C%2022.12424849699399%2C%2022.18436873747495%2C%2022.24448897795591%2C%2022.304609218436873%2C%2022.364729458917836%2C%2022.4248496993988%2C%2022.48496993987976%2C%2022.54509018036072%2C%2022.605210420841683%2C%2022.665330661322646%2C%2022.725450901803608%2C%2022.78557114228457%2C%2022.84569138276553%2C%2022.905811623246493%2C%2022.965931863727455%2C%2023.026052104208418%2C%2023.08617234468938%2C%2023.14629258517034%2C%2023.206412825651302%2C%2023.266533066132265%2C%2023.326653306613228%2C%2023.386773547094187%2C%2023.44689378757515%2C%2023.507014028056112%2C%2023.567134268537075%2C%2023.627254509018037%2C%2023.687374749498996%2C%2023.74749498997996%2C%2023.80761523046092%2C%2023.867735470941884%2C%2023.927855711422847%2C%2023.987975951903806%2C%2024.04809619238477%2C%2024.10821643286573%2C%2024.168336673346694%2C%2024.228456913827657%2C%2024.288577154308616%2C%2024.34869739478958%2C%2024.40881763527054%2C%2024.468937875751504%2C%2024.529058116232466%2C%2024.589178356713425%2C%2024.649298597194388%2C%2024.70941883767535%2C%2024.769539078156313%2C%2024.829659318637276%2C%2024.889779559118235%2C%2024.949899799599198%2C%2025.01002004008016%2C%2025.070140280561123%2C%2025.130260521042086%2C%2025.190380761523045%2C%2025.250501002004007%2C%2025.31062124248497%2C%2025.370741482965933%2C%2025.430861723446895%2C%2025.490981963927855%2C%2025.551102204408817%2C%2025.61122244488978%2C%2025.671342685370742%2C%2025.731462925851705%2C%2025.791583166332664%2C%2025.851703406813627%2C%2025.91182364729459%2C%2025.971943887775552%2C%2026.03206412825651%2C%2026.092184368737474%2C%2026.152304609218437%2C%2026.2124248496994%2C%2026.272545090180362%2C%2026.33266533066132%2C%2026.392785571142284%2C%2026.452905811623246%2C%2026.51302605210421%2C%2026.57314629258517%2C%2026.63326653306613%2C%2026.693386773547093%2C%2026.753507014028056%2C%2026.81362725450902%2C%2026.87374749498998%2C%2026.93386773547094%2C%2026.993987975951903%2C%2027.054108216432866%2C%2027.11422845691383%2C%2027.17434869739479%2C%2027.23446893787575%2C%2027.294589178356713%2C%2027.354709418837675%2C%2027.414829659318638%2C%2027.4749498997996%2C%2027.53507014028056%2C%2027.595190380761522%2C%2027.655310621242485%2C%2027.715430861723448%2C%2027.77555110220441%2C%2027.83567134268537%2C%2027.895791583166332%2C%2027.955911823647295%2C%2028.016032064128257%2C%2028.07615230460922%2C%2028.13627254509018%2C%2028.196392785571142%2C%2028.256513026052104%2C%2028.316633266533067%2C%2028.37675350701403%2C%2028.43687374749499%2C%2028.49699398797595%2C%2028.557114228456914%2C%2028.617234468937877%2C%2028.677354709418836%2C%2028.7374749498998%2C%2028.79759519038076%2C%2028.857715430861724%2C%2028.917835671342687%2C%2028.977955911823646%2C%2029.03807615230461%2C%2029.09819639278557%2C%2029.158316633266534%2C%2029.218436873747496%2C%2029.278557114228455%2C%2029.338677354709418%2C%2029.39879759519038%2C%2029.458917835671343%2C%2029.519038076152306%2C%2029.579158316633265%2C%2029.639278557114228%2C%2029.69939879759519%2C%2029.759519038076153%2C%2029.819639278557116%2C%2029.879759519038075%2C%2029.939879759519037%2C%2030.0%5D%29%0A%20%20%20%20%20%20%20%20%20%20%20%20%20%20.range%28%5B%27%23a50026ff%27%2C%20%27%23a50026ff%27%2C%20%27%23a50026ff%27%2C%20%27%23a50026ff%27%2C%20%27%23a50026ff%27%2C%20%27%23a50026ff%27%2C%20%27%23a50026ff%27%2C%20%27%23a50026ff%27%2C%20%27%23a50026ff%27%2C%20%27%23a50026ff%27%2C%20%27%23a50026ff%27%2C%20%27%23a50026ff%27%2C%20%27%23a50026ff%27%2C%20%27%23a50026ff%27%2C%20%27%23a50026ff%27%2C%20%27%23a50026ff%27%2C%20%27%23a50026ff%27%2C%20%27%23a50026ff%27%2C%20%27%23a50026ff%27%2C%20%27%23a50026ff%27%2C%20%27%23a50026ff%27%2C%20%27%23a50026ff%27%2C%20%27%23a50026ff%27%2C%20%27%23a50026ff%27%2C%20%27%23a50026ff%27%2C%20%27%23a50026ff%27%2C%20%27%23a50026ff%27%2C%20%27%23a50026ff%27%2C%20%27%23a50026ff%27%2C%20%27%23a50026ff%27%2C%20%27%23a50026ff%27%2C%20%27%23a50026ff%27%2C%20%27%23a50026ff%27%2C%20%27%23a50026ff%27%2C%20%27%23a50026ff%27%2C%20%27%23a50026ff%27%2C%20%27%23a50026ff%27%2C%20%27%23a50026ff%27%2C%20%27%23a50026ff%27%2C%20%27%23a50026ff%27%2C%20%27%23a50026ff%27%2C%20%27%23a50026ff%27%2C%20%27%23a50026ff%27%2C%20%27%23a50026ff%27%2C%20%27%23a50026ff%27%2C%20%27%23a50026ff%27%2C%20%27%23a50026ff%27%2C%20%27%23a50026ff%27%2C%20%27%23a50026ff%27%2C%20%27%23a50026ff%27%2C%20%27%23d73027ff%27%2C%20%27%23d73027ff%27%2C%20%27%23d73027ff%27%2C%20%27%23d73027ff%27%2C%20%27%23d73027ff%27%2C%20%27%23d73027ff%27%2C%20%27%23d73027ff%27%2C%20%27%23d73027ff%27%2C%20%27%23d73027ff%27%2C%20%27%23d73027ff%27%2C%20%27%23d73027ff%27%2C%20%27%23d73027ff%27%2C%20%27%23d73027ff%27%2C%20%27%23d73027ff%27%2C%20%27%23d73027ff%27%2C%20%27%23d73027ff%27%2C%20%27%23d73027ff%27%2C%20%27%23d73027ff%27%2C%20%27%23d73027ff%27%2C%20%27%23d73027ff%27%2C%20%27%23d73027ff%27%2C%20%27%23d73027ff%27%2C%20%27%23d73027ff%27%2C%20%27%23d73027ff%27%2C%20%27%23d73027ff%27%2C%20%27%23d73027ff%27%2C%20%27%23d73027ff%27%2C%20%27%23d73027ff%27%2C%20%27%23d73027ff%27%2C%20%27%23d73027ff%27%2C%20%27%23d73027ff%27%2C%20%27%23d73027ff%27%2C%20%27%23d73027ff%27%2C%20%27%23d73027ff%27%2C%20%27%23d73027ff%27%2C%20%27%23d73027ff%27%2C%20%27%23d73027ff%27%2C%20%27%23d73027ff%27%2C%20%27%23d73027ff%27%2C%20%27%23d73027ff%27%2C%20%27%23d73027ff%27%2C%20%27%23d73027ff%27%2C%20%27%23d73027ff%27%2C%20%27%23d73027ff%27%2C%20%27%23d73027ff%27%2C%20%27%23d73027ff%27%2C%20%27%23d73027ff%27%2C%20%27%23d73027ff%27%2C%20%27%23d73027ff%27%2C%20%27%23d73027ff%27%2C%20%27%23f46d43ff%27%2C%20%27%23f46d43ff%27%2C%20%27%23f46d43ff%27%2C%20%27%23f46d43ff%27%2C%20%27%23f46d43ff%27%2C%20%27%23f46d43ff%27%2C%20%27%23f46d43ff%27%2C%20%27%23f46d43ff%27%2C%20%27%23f46d43ff%27%2C%20%27%23f46d43ff%27%2C%20%27%23f46d43ff%27%2C%20%27%23f46d43ff%27%2C%20%27%23f46d43ff%27%2C%20%27%23f46d43ff%27%2C%20%27%23f46d43ff%27%2C%20%27%23f46d43ff%27%2C%20%27%23f46d43ff%27%2C%20%27%23f46d43ff%27%2C%20%27%23f46d43ff%27%2C%20%27%23f46d43ff%27%2C%20%27%23f46d43ff%27%2C%20%27%23f46d43ff%27%2C%20%27%23f46d43ff%27%2C%20%27%23f46d43ff%27%2C%20%27%23f46d43ff%27%2C%20%27%23f46d43ff%27%2C%20%27%23f46d43ff%27%2C%20%27%23f46d43ff%27%2C%20%27%23f46d43ff%27%2C%20%27%23f46d43ff%27%2C%20%27%23f46d43ff%27%2C%20%27%23f46d43ff%27%2C%20%27%23f46d43ff%27%2C%20%27%23f46d43ff%27%2C%20%27%23f46d43ff%27%2C%20%27%23f46d43ff%27%2C%20%27%23f46d43ff%27%2C%20%27%23f46d43ff%27%2C%20%27%23f46d43ff%27%2C%20%27%23f46d43ff%27%2C%20%27%23f46d43ff%27%2C%20%27%23f46d43ff%27%2C%20%27%23f46d43ff%27%2C%20%27%23f46d43ff%27%2C%20%27%23f46d43ff%27%2C%20%27%23f46d43ff%27%2C%20%27%23f46d43ff%27%2C%20%27%23f46d43ff%27%2C%20%27%23f46d43ff%27%2C%20%27%23f46d43ff%27%2C%20%27%23fdae61ff%27%2C%20%27%23fdae61ff%27%2C%20%27%23fdae61ff%27%2C%20%27%23fdae61ff%27%2C%20%27%23fdae61ff%27%2C%20%27%23fdae61ff%27%2C%20%27%23fdae61ff%27%2C%20%27%23fdae61ff%27%2C%20%27%23fdae61ff%27%2C%20%27%23fdae61ff%27%2C%20%27%23fdae61ff%27%2C%20%27%23fdae61ff%27%2C%20%27%23fdae61ff%27%2C%20%27%23fdae61ff%27%2C%20%27%23fdae61ff%27%2C%20%27%23fdae61ff%27%2C%20%27%23fdae61ff%27%2C%20%27%23fdae61ff%27%2C%20%27%23fdae61ff%27%2C%20%27%23fdae61ff%27%2C%20%27%23fdae61ff%27%2C%20%27%23fdae61ff%27%2C%20%27%23fdae61ff%27%2C%20%27%23fdae61ff%27%2C%20%27%23fdae61ff%27%2C%20%27%23fdae61ff%27%2C%20%27%23fdae61ff%27%2C%20%27%23fdae61ff%27%2C%20%27%23fdae61ff%27%2C%20%27%23fdae61ff%27%2C%20%27%23fdae61ff%27%2C%20%27%23fdae61ff%27%2C%20%27%23fdae61ff%27%2C%20%27%23fdae61ff%27%2C%20%27%23fdae61ff%27%2C%20%27%23fdae61ff%27%2C%20%27%23fdae61ff%27%2C%20%27%23fdae61ff%27%2C%20%27%23fdae61ff%27%2C%20%27%23fdae61ff%27%2C%20%27%23fdae61ff%27%2C%20%27%23fdae61ff%27%2C%20%27%23fdae61ff%27%2C%20%27%23fdae61ff%27%2C%20%27%23fdae61ff%27%2C%20%27%23fdae61ff%27%2C%20%27%23fdae61ff%27%2C%20%27%23fdae61ff%27%2C%20%27%23fdae61ff%27%2C%20%27%23fdae61ff%27%2C%20%27%23fee08bff%27%2C%20%27%23fee08bff%27%2C%20%27%23fee08bff%27%2C%20%27%23fee08bff%27%2C%20%27%23fee08bff%27%2C%20%27%23fee08bff%27%2C%20%27%23fee08bff%27%2C%20%27%23fee08bff%27%2C%20%27%23fee08bff%27%2C%20%27%23fee08bff%27%2C%20%27%23fee08bff%27%2C%20%27%23fee08bff%27%2C%20%27%23fee08bff%27%2C%20%27%23fee08bff%27%2C%20%27%23fee08bff%27%2C%20%27%23fee08bff%27%2C%20%27%23fee08bff%27%2C%20%27%23fee08bff%27%2C%20%27%23fee08bff%27%2C%20%27%23fee08bff%27%2C%20%27%23fee08bff%27%2C%20%27%23fee08bff%27%2C%20%27%23fee08bff%27%2C%20%27%23fee08bff%27%2C%20%27%23fee08bff%27%2C%20%27%23fee08bff%27%2C%20%27%23fee08bff%27%2C%20%27%23fee08bff%27%2C%20%27%23fee08bff%27%2C%20%27%23fee08bff%27%2C%20%27%23fee08bff%27%2C%20%27%23fee08bff%27%2C%20%27%23fee08bff%27%2C%20%27%23fee08bff%27%2C%20%27%23fee08bff%27%2C%20%27%23fee08bff%27%2C%20%27%23fee08bff%27%2C%20%27%23fee08bff%27%2C%20%27%23fee08bff%27%2C%20%27%23fee08bff%27%2C%20%27%23fee08bff%27%2C%20%27%23fee08bff%27%2C%20%27%23fee08bff%27%2C%20%27%23fee08bff%27%2C%20%27%23fee08bff%27%2C%20%27%23fee08bff%27%2C%20%27%23fee08bff%27%2C%20%27%23fee08bff%27%2C%20%27%23fee08bff%27%2C%20%27%23fee08bff%27%2C%20%27%23d9ef8bff%27%2C%20%27%23d9ef8bff%27%2C%20%27%23d9ef8bff%27%2C%20%27%23d9ef8bff%27%2C%20%27%23d9ef8bff%27%2C%20%27%23d9ef8bff%27%2C%20%27%23d9ef8bff%27%2C%20%27%23d9ef8bff%27%2C%20%27%23d9ef8bff%27%2C%20%27%23d9ef8bff%27%2C%20%27%23d9ef8bff%27%2C%20%27%23d9ef8bff%27%2C%20%27%23d9ef8bff%27%2C%20%27%23d9ef8bff%27%2C%20%27%23d9ef8bff%27%2C%20%27%23d9ef8bff%27%2C%20%27%23d9ef8bff%27%2C%20%27%23d9ef8bff%27%2C%20%27%23d9ef8bff%27%2C%20%27%23d9ef8bff%27%2C%20%27%23d9ef8bff%27%2C%20%27%23d9ef8bff%27%2C%20%27%23d9ef8bff%27%2C%20%27%23d9ef8bff%27%2C%20%27%23d9ef8bff%27%2C%20%27%23d9ef8bff%27%2C%20%27%23d9ef8bff%27%2C%20%27%23d9ef8bff%27%2C%20%27%23d9ef8bff%27%2C%20%27%23d9ef8bff%27%2C%20%27%23d9ef8bff%27%2C%20%27%23d9ef8bff%27%2C%20%27%23d9ef8bff%27%2C%20%27%23d9ef8bff%27%2C%20%27%23d9ef8bff%27%2C%20%27%23d9ef8bff%27%2C%20%27%23d9ef8bff%27%2C%20%27%23d9ef8bff%27%2C%20%27%23d9ef8bff%27%2C%20%27%23d9ef8bff%27%2C%20%27%23d9ef8bff%27%2C%20%27%23d9ef8bff%27%2C%20%27%23d9ef8bff%27%2C%20%27%23d9ef8bff%27%2C%20%27%23d9ef8bff%27%2C%20%27%23d9ef8bff%27%2C%20%27%23d9ef8bff%27%2C%20%27%23d9ef8bff%27%2C%20%27%23d9ef8bff%27%2C%20%27%23d9ef8bff%27%2C%20%27%23a6d96aff%27%2C%20%27%23a6d96aff%27%2C%20%27%23a6d96aff%27%2C%20%27%23a6d96aff%27%2C%20%27%23a6d96aff%27%2C%20%27%23a6d96aff%27%2C%20%27%23a6d96aff%27%2C%20%27%23a6d96aff%27%2C%20%27%23a6d96aff%27%2C%20%27%23a6d96aff%27%2C%20%27%23a6d96aff%27%2C%20%27%23a6d96aff%27%2C%20%27%23a6d96aff%27%2C%20%27%23a6d96aff%27%2C%20%27%23a6d96aff%27%2C%20%27%23a6d96aff%27%2C%20%27%23a6d96aff%27%2C%20%27%23a6d96aff%27%2C%20%27%23a6d96aff%27%2C%20%27%23a6d96aff%27%2C%20%27%23a6d96aff%27%2C%20%27%23a6d96aff%27%2C%20%27%23a6d96aff%27%2C%20%27%23a6d96aff%27%2C%20%27%23a6d96aff%27%2C%20%27%23a6d96aff%27%2C%20%27%23a6d96aff%27%2C%20%27%23a6d96aff%27%2C%20%27%23a6d96aff%27%2C%20%27%23a6d96aff%27%2C%20%27%23a6d96aff%27%2C%20%27%23a6d96aff%27%2C%20%27%23a6d96aff%27%2C%20%27%23a6d96aff%27%2C%20%27%23a6d96aff%27%2C%20%27%23a6d96aff%27%2C%20%27%23a6d96aff%27%2C%20%27%23a6d96aff%27%2C%20%27%23a6d96aff%27%2C%20%27%23a6d96aff%27%2C%20%27%23a6d96aff%27%2C%20%27%23a6d96aff%27%2C%20%27%23a6d96aff%27%2C%20%27%23a6d96aff%27%2C%20%27%23a6d96aff%27%2C%20%27%23a6d96aff%27%2C%20%27%23a6d96aff%27%2C%20%27%23a6d96aff%27%2C%20%27%23a6d96aff%27%2C%20%27%23a6d96aff%27%2C%20%27%2366bd63ff%27%2C%20%27%2366bd63ff%27%2C%20%27%2366bd63ff%27%2C%20%27%2366bd63ff%27%2C%20%27%2366bd63ff%27%2C%20%27%2366bd63ff%27%2C%20%27%2366bd63ff%27%2C%20%27%2366bd63ff%27%2C%20%27%2366bd63ff%27%2C%20%27%2366bd63ff%27%2C%20%27%2366bd63ff%27%2C%20%27%2366bd63ff%27%2C%20%27%2366bd63ff%27%2C%20%27%2366bd63ff%27%2C%20%27%2366bd63ff%27%2C%20%27%2366bd63ff%27%2C%20%27%2366bd63ff%27%2C%20%27%2366bd63ff%27%2C%20%27%2366bd63ff%27%2C%20%27%2366bd63ff%27%2C%20%27%2366bd63ff%27%2C%20%27%2366bd63ff%27%2C%20%27%2366bd63ff%27%2C%20%27%2366bd63ff%27%2C%20%27%2366bd63ff%27%2C%20%27%2366bd63ff%27%2C%20%27%2366bd63ff%27%2C%20%27%2366bd63ff%27%2C%20%27%2366bd63ff%27%2C%20%27%2366bd63ff%27%2C%20%27%2366bd63ff%27%2C%20%27%2366bd63ff%27%2C%20%27%2366bd63ff%27%2C%20%27%2366bd63ff%27%2C%20%27%2366bd63ff%27%2C%20%27%2366bd63ff%27%2C%20%27%2366bd63ff%27%2C%20%27%2366bd63ff%27%2C%20%27%2366bd63ff%27%2C%20%27%2366bd63ff%27%2C%20%27%2366bd63ff%27%2C%20%27%2366bd63ff%27%2C%20%27%2366bd63ff%27%2C%20%27%2366bd63ff%27%2C%20%27%2366bd63ff%27%2C%20%27%2366bd63ff%27%2C%20%27%2366bd63ff%27%2C%20%27%2366bd63ff%27%2C%20%27%2366bd63ff%27%2C%20%27%2366bd63ff%27%2C%20%27%231a9850ff%27%2C%20%27%231a9850ff%27%2C%20%27%231a9850ff%27%2C%20%27%231a9850ff%27%2C%20%27%231a9850ff%27%2C%20%27%231a9850ff%27%2C%20%27%231a9850ff%27%2C%20%27%231a9850ff%27%2C%20%27%231a9850ff%27%2C%20%27%231a9850ff%27%2C%20%27%231a9850ff%27%2C%20%27%231a9850ff%27%2C%20%27%231a9850ff%27%2C%20%27%231a9850ff%27%2C%20%27%231a9850ff%27%2C%20%27%231a9850ff%27%2C%20%27%231a9850ff%27%2C%20%27%231a9850ff%27%2C%20%27%231a9850ff%27%2C%20%27%231a9850ff%27%2C%20%27%231a9850ff%27%2C%20%27%231a9850ff%27%2C%20%27%231a9850ff%27%2C%20%27%231a9850ff%27%2C%20%27%231a9850ff%27%2C%20%27%231a9850ff%27%2C%20%27%231a9850ff%27%2C%20%27%231a9850ff%27%2C%20%27%231a9850ff%27%2C%20%27%231a9850ff%27%2C%20%27%231a9850ff%27%2C%20%27%231a9850ff%27%2C%20%27%231a9850ff%27%2C%20%27%231a9850ff%27%2C%20%27%231a9850ff%27%2C%20%27%231a9850ff%27%2C%20%27%231a9850ff%27%2C%20%27%231a9850ff%27%2C%20%27%231a9850ff%27%2C%20%27%231a9850ff%27%2C%20%27%231a9850ff%27%2C%20%27%231a9850ff%27%2C%20%27%231a9850ff%27%2C%20%27%231a9850ff%27%2C%20%27%231a9850ff%27%2C%20%27%231a9850ff%27%2C%20%27%231a9850ff%27%2C%20%27%231a9850ff%27%2C%20%27%231a9850ff%27%2C%20%27%231a9850ff%27%2C%20%27%23006837ff%27%2C%20%27%23006837ff%27%2C%20%27%23006837ff%27%2C%20%27%23006837ff%27%2C%20%27%23006837ff%27%2C%20%27%23006837ff%27%2C%20%27%23006837ff%27%2C%20%27%23006837ff%27%2C%20%27%23006837ff%27%2C%20%27%23006837ff%27%2C%20%27%23006837ff%27%2C%20%27%23006837ff%27%2C%20%27%23006837ff%27%2C%20%27%23006837ff%27%2C%20%27%23006837ff%27%2C%20%27%23006837ff%27%2C%20%27%23006837ff%27%2C%20%27%23006837ff%27%2C%20%27%23006837ff%27%2C%20%27%23006837ff%27%2C%20%27%23006837ff%27%2C%20%27%23006837ff%27%2C%20%27%23006837ff%27%2C%20%27%23006837ff%27%2C%20%27%23006837ff%27%2C%20%27%23006837ff%27%2C%20%27%23006837ff%27%2C%20%27%23006837ff%27%2C%20%27%23006837ff%27%2C%20%27%23006837ff%27%2C%20%27%23006837ff%27%2C%20%27%23006837ff%27%2C%20%27%23006837ff%27%2C%20%27%23006837ff%27%2C%20%27%23006837ff%27%2C%20%27%23006837ff%27%2C%20%27%23006837ff%27%2C%20%27%23006837ff%27%2C%20%27%23006837ff%27%2C%20%27%23006837ff%27%2C%20%27%23006837ff%27%2C%20%27%23006837ff%27%2C%20%27%23006837ff%27%2C%20%27%23006837ff%27%2C%20%27%23006837ff%27%2C%20%27%23006837ff%27%2C%20%27%23006837ff%27%2C%20%27%23006837ff%27%2C%20%27%23006837ff%27%2C%20%27%23006837ff%27%5D%29%3B%0A%20%20%20%20%0A%0A%20%20%20%20color_map_70a707fdacf8438ba6aa2eb780ec772d.x%20%3D%20d3.scale.linear%28%29%0A%20%20%20%20%20%20%20%20%20%20%20%20%20%20.domain%28%5B0.0%2C%2030.0%5D%29%0A%20%20%20%20%20%20%20%20%20%20%20%20%20%20.range%28%5B0%2C%20400%5D%29%3B%0A%0A%20%20%20%20color_map_70a707fdacf8438ba6aa2eb780ec772d.legend%20%3D%20L.control%28%7Bposition%3A%20%27topright%27%7D%29%3B%0A%20%20%20%20color_map_70a707fdacf8438ba6aa2eb780ec772d.legend.onAdd%20%3D%20function%20%28map%29%20%7Bvar%20div%20%3D%20L.DomUtil.create%28%27div%27%2C%20%27legend%27%29%3B%20return%20div%7D%3B%0A%20%20%20%20color_map_70a707fdacf8438ba6aa2eb780ec772d.legend.addTo%28map_1ce0502d121443ac8ba39890cfbe9aeb%29%3B%0A%0A%20%20%20%20color_map_70a707fdacf8438ba6aa2eb780ec772d.xAxis%20%3D%20d3.svg.axis%28%29%0A%20%20%20%20%20%20%20%20.scale%28color_map_70a707fdacf8438ba6aa2eb780ec772d.x%29%0A%20%20%20%20%20%20%20%20.orient%28%22top%22%29%0A%20%20%20%20%20%20%20%20.tickSize%281%29%0A%20%20%20%20%20%20%20%20.tickValues%28%5B0.0%2C%20%27%27%2C%206.0%2C%20%27%27%2C%2012.0%2C%20%27%27%2C%2018.0%2C%20%27%27%2C%2024.0%2C%20%27%27%2C%2030.0%2C%20%27%27%5D%29%3B%0A%0A%20%20%20%20color_map_70a707fdacf8438ba6aa2eb780ec772d.svg%20%3D%20d3.select%28%22.legend.leaflet-control%22%29.append%28%22svg%22%29%0A%20%20%20%20%20%20%20%20.attr%28%22id%22%2C%20%27legend%27%29%0A%20%20%20%20%20%20%20%20.attr%28%22width%22%2C%20450%29%0A%20%20%20%20%20%20%20%20.attr%28%22height%22%2C%2040%29%3B%0A%0A%20%20%20%20color_map_70a707fdacf8438ba6aa2eb780ec772d.g%20%3D%20color_map_70a707fdacf8438ba6aa2eb780ec772d.svg.append%28%22g%22%29%0A%20%20%20%20%20%20%20%20.attr%28%22class%22%2C%20%22key%22%29%0A%20%20%20%20%20%20%20%20.attr%28%22transform%22%2C%20%22translate%2825%2C16%29%22%29%3B%0A%0A%20%20%20%20color_map_70a707fdacf8438ba6aa2eb780ec772d.g.selectAll%28%22rect%22%29%0A%20%20%20%20%20%20%20%20.data%28color_map_70a707fdacf8438ba6aa2eb780ec772d.color.range%28%29.map%28function%28d%2C%20i%29%20%7B%0A%20%20%20%20%20%20%20%20%20%20return%20%7B%0A%20%20%20%20%20%20%20%20%20%20%20%20x0%3A%20i%20%3F%20color_map_70a707fdacf8438ba6aa2eb780ec772d.x%28color_map_70a707fdacf8438ba6aa2eb780ec772d.color.domain%28%29%5Bi%20-%201%5D%29%20%3A%20color_map_70a707fdacf8438ba6aa2eb780ec772d.x.range%28%29%5B0%5D%2C%0A%20%20%20%20%20%20%20%20%20%20%20%20x1%3A%20i%20%3C%20color_map_70a707fdacf8438ba6aa2eb780ec772d.color.domain%28%29.length%20%3F%20color_map_70a707fdacf8438ba6aa2eb780ec772d.x%28color_map_70a707fdacf8438ba6aa2eb780ec772d.color.domain%28%29%5Bi%5D%29%20%3A%20color_map_70a707fdacf8438ba6aa2eb780ec772d.x.range%28%29%5B1%5D%2C%0A%20%20%20%20%20%20%20%20%20%20%20%20z%3A%20d%0A%20%20%20%20%20%20%20%20%20%20%7D%3B%0A%20%20%20%20%20%20%20%20%7D%29%29%0A%20%20%20%20%20%20.enter%28%29.append%28%22rect%22%29%0A%20%20%20%20%20%20%20%20.attr%28%22height%22%2C%2010%29%0A%20%20%20%20%20%20%20%20.attr%28%22x%22%2C%20function%28d%29%20%7B%20return%20d.x0%3B%20%7D%29%0A%20%20%20%20%20%20%20%20.attr%28%22width%22%2C%20function%28d%29%20%7B%20return%20d.x1%20-%20d.x0%3B%20%7D%29%0A%20%20%20%20%20%20%20%20.style%28%22fill%22%2C%20function%28d%29%20%7B%20return%20d.z%3B%20%7D%29%3B%0A%0A%20%20%20%20color_map_70a707fdacf8438ba6aa2eb780ec772d.g.call%28color_map_70a707fdacf8438ba6aa2eb780ec772d.xAxis%29.append%28%22text%22%29%0A%20%20%20%20%20%20%20%20.attr%28%22class%22%2C%20%22caption%22%29%0A%20%20%20%20%20%20%20%20.attr%28%22y%22%2C%2021%29%0A%20%20%20%20%20%20%20%20.text%28%27Speed%20%28miles%20per%20hour%29%27%29%3B%0A%3C/script%3E onload=\"this.contentDocument.open();this.contentDocument.write(    decodeURIComponent(this.getAttribute('data-html')));this.contentDocument.close();\" \"allowfullscreen\" \"webkitallowfullscreen\" \"mozallowfullscreen\"></iframe>"
      ],
      "text/plain": [
       "<branca.element.Figure at 0x7ff652326df0>"
      ]
     },
     "execution_count": 71,
     "metadata": {},
     "output_type": "execute_result"
    }
   ],
   "source": [
    "m"
   ]
  },
  {
   "cell_type": "markdown",
   "id": "36dda260-154f-4f9b-9171-7fe307d64326",
   "metadata": {},
   "source": [
    "### Investigate lbt odd shapes"
   ]
  },
  {
   "cell_type": "code",
   "execution_count": 52,
   "id": "1232b735-5893-4ff9-b289-4d0d51471bd3",
   "metadata": {},
   "outputs": [
    {
     "name": "stderr",
     "output_type": "stream",
     "text": [
      "/opt/conda/lib/python3.9/site-packages/pybigquery/sqlalchemy_bigquery.py:879: SAWarning: Did not recognize type 'GEOGRAPHY' of column 'pt_array'\n",
      "/home/jovyan/data-analyses/_shared_utils/shared_utils/utils.py:38: UserWarning: this is an initial implementation of Parquet/Feather file support and associated metadata.  This is tracking version 0.1.0 of the metadata specification at https://github.com/geopandas/geo-arrow-spec\n",
      "\n",
      "This metadata specification does not yet make stability promises.  We do not yet recommend using this in a production setting unless you are able to rewrite your Parquet/Feather files.\n",
      "\n",
      "To further ignore this warning, you can do: \n",
      "import warnings; warnings.filterwarnings('ignore', message='.*initial implementation of Parquet.*')\n"
     ]
    }
   ],
   "source": [
    "lines = utils.get_routelines(170, analysis_date).dropna()"
   ]
  },
  {
   "cell_type": "code",
   "execution_count": 53,
   "id": "3ed389f5-f718-482f-b785-37e22ad5ce86",
   "metadata": {},
   "outputs": [],
   "source": [
    "a_shape = lines >> filter(_.shape_id == '1720090')"
   ]
  },
  {
   "cell_type": "code",
   "execution_count": 54,
   "id": "f3708739-b303-4e43-9c50-85c746d18c5f",
   "metadata": {},
   "outputs": [
    {
     "data": {
      "text/html": [
       "<div>\n",
       "<style scoped>\n",
       "    .dataframe tbody tr th:only-of-type {\n",
       "        vertical-align: middle;\n",
       "    }\n",
       "\n",
       "    .dataframe tbody tr th {\n",
       "        vertical-align: top;\n",
       "    }\n",
       "\n",
       "    .dataframe thead th {\n",
       "        text-align: right;\n",
       "    }\n",
       "</style>\n",
       "<table border=\"1\" class=\"dataframe\">\n",
       "  <thead>\n",
       "    <tr style=\"text-align: right;\">\n",
       "      <th></th>\n",
       "      <th>calitp_itp_id</th>\n",
       "      <th>calitp_url_number</th>\n",
       "      <th>calitp_extracted_at</th>\n",
       "      <th>calitp_deleted_at</th>\n",
       "      <th>shape_id</th>\n",
       "      <th>geometry</th>\n",
       "    </tr>\n",
       "  </thead>\n",
       "  <tbody>\n",
       "    <tr>\n",
       "      <th>22</th>\n",
       "      <td>170</td>\n",
       "      <td>0</td>\n",
       "      <td>2021-12-14</td>\n",
       "      <td>2099-01-01</td>\n",
       "      <td>1720090</td>\n",
       "      <td>LINESTRING (168982.728 -467847.436, 169029.505...</td>\n",
       "    </tr>\n",
       "    <tr>\n",
       "      <th>46</th>\n",
       "      <td>170</td>\n",
       "      <td>0</td>\n",
       "      <td>2021-05-13</td>\n",
       "      <td>2099-01-01</td>\n",
       "      <td>1720090</td>\n",
       "      <td>LINESTRING (167588.400 -470295.427, 167757.977...</td>\n",
       "    </tr>\n",
       "    <tr>\n",
       "      <th>195</th>\n",
       "      <td>170</td>\n",
       "      <td>0</td>\n",
       "      <td>2022-02-02</td>\n",
       "      <td>2099-01-01</td>\n",
       "      <td>1720090</td>\n",
       "      <td>LINESTRING (167579.235 -470295.935, 167595.529...</td>\n",
       "    </tr>\n",
       "  </tbody>\n",
       "</table>\n",
       "</div>"
      ],
      "text/plain": [
       "     calitp_itp_id  calitp_url_number calitp_extracted_at calitp_deleted_at  \\\n",
       "22             170                  0          2021-12-14        2099-01-01   \n",
       "46             170                  0          2021-05-13        2099-01-01   \n",
       "195            170                  0          2022-02-02        2099-01-01   \n",
       "\n",
       "    shape_id                                           geometry  \n",
       "22   1720090  LINESTRING (168982.728 -467847.436, 169029.505...  \n",
       "46   1720090  LINESTRING (167588.400 -470295.427, 167757.977...  \n",
       "195  1720090  LINESTRING (167579.235 -470295.935, 167595.529...  "
      ]
     },
     "execution_count": 54,
     "metadata": {},
     "output_type": "execute_result"
    }
   ],
   "source": [
    "a_shape"
   ]
  },
  {
   "cell_type": "code",
   "execution_count": 56,
   "id": "2426848f-9abb-4f6b-845c-980cdd4e45d2",
   "metadata": {},
   "outputs": [],
   "source": [
    "lines['num_points'] = lines.geometry.apply(lambda x: len([pt for pt in x.coords]))"
   ]
  },
  {
   "cell_type": "code",
   "execution_count": 62,
   "id": "5ac030b4-cd1f-4398-bab2-36f494523627",
   "metadata": {},
   "outputs": [],
   "source": [
    "lines['has_trip'] = lines.shape_id.isin(rt_day.rt_trips.shape_id)"
   ]
  },
  {
   "cell_type": "code",
   "execution_count": 63,
   "id": "4a7d5223-499f-4510-9742-1a539bfacdc8",
   "metadata": {},
   "outputs": [
    {
     "data": {
      "text/html": [
       "<div>\n",
       "<style scoped>\n",
       "    .dataframe tbody tr th:only-of-type {\n",
       "        vertical-align: middle;\n",
       "    }\n",
       "\n",
       "    .dataframe tbody tr th {\n",
       "        vertical-align: top;\n",
       "    }\n",
       "\n",
       "    .dataframe thead th {\n",
       "        text-align: right;\n",
       "    }\n",
       "</style>\n",
       "<table border=\"1\" class=\"dataframe\">\n",
       "  <thead>\n",
       "    <tr style=\"text-align: right;\">\n",
       "      <th></th>\n",
       "      <th>calitp_itp_id</th>\n",
       "      <th>calitp_url_number</th>\n",
       "      <th>calitp_extracted_at</th>\n",
       "      <th>calitp_deleted_at</th>\n",
       "      <th>shape_id</th>\n",
       "      <th>geometry</th>\n",
       "      <th>num_points</th>\n",
       "      <th>has_trip</th>\n",
       "    </tr>\n",
       "  </thead>\n",
       "  <tbody>\n",
       "    <tr>\n",
       "      <th>14</th>\n",
       "      <td>170</td>\n",
       "      <td>0</td>\n",
       "      <td>2021-12-14</td>\n",
       "      <td>2099-01-01</td>\n",
       "      <td>610105</td>\n",
       "      <td>LINESTRING (168050.092 -464617.432, 168050.092...</td>\n",
       "      <td>2</td>\n",
       "      <td>False</td>\n",
       "    </tr>\n",
       "    <tr>\n",
       "      <th>17</th>\n",
       "      <td>170</td>\n",
       "      <td>0</td>\n",
       "      <td>2021-12-14</td>\n",
       "      <td>2099-01-01</td>\n",
       "      <td>1740030</td>\n",
       "      <td>LINESTRING (168982.728 -467847.436, 169029.505...</td>\n",
       "      <td>2</td>\n",
       "      <td>False</td>\n",
       "    </tr>\n",
       "    <tr>\n",
       "      <th>24</th>\n",
       "      <td>170</td>\n",
       "      <td>0</td>\n",
       "      <td>2021-12-14</td>\n",
       "      <td>2099-01-01</td>\n",
       "      <td>1810081</td>\n",
       "      <td>LINESTRING (167193.543 -470028.886, 166971.226...</td>\n",
       "      <td>2</td>\n",
       "      <td>True</td>\n",
       "    </tr>\n",
       "    <tr>\n",
       "      <th>13</th>\n",
       "      <td>170</td>\n",
       "      <td>0</td>\n",
       "      <td>2021-12-14</td>\n",
       "      <td>2099-01-01</td>\n",
       "      <td>1510067</td>\n",
       "      <td>LINESTRING (167073.025 -470031.290, 166971.226...</td>\n",
       "      <td>3</td>\n",
       "      <td>True</td>\n",
       "    </tr>\n",
       "    <tr>\n",
       "      <th>1</th>\n",
       "      <td>170</td>\n",
       "      <td>0</td>\n",
       "      <td>2021-12-14</td>\n",
       "      <td>2099-01-01</td>\n",
       "      <td>1030063</td>\n",
       "      <td>LINESTRING (173102.310 -461425.826, 173102.310...</td>\n",
       "      <td>4</td>\n",
       "      <td>True</td>\n",
       "    </tr>\n",
       "    <tr>\n",
       "      <th>3</th>\n",
       "      <td>170</td>\n",
       "      <td>0</td>\n",
       "      <td>2021-12-14</td>\n",
       "      <td>2099-01-01</td>\n",
       "      <td>1910287</td>\n",
       "      <td>LINESTRING (174799.552 -461399.277, 174799.552...</td>\n",
       "      <td>4</td>\n",
       "      <td>True</td>\n",
       "    </tr>\n",
       "    <tr>\n",
       "      <th>22</th>\n",
       "      <td>170</td>\n",
       "      <td>0</td>\n",
       "      <td>2021-12-14</td>\n",
       "      <td>2099-01-01</td>\n",
       "      <td>1720090</td>\n",
       "      <td>LINESTRING (168982.728 -467847.436, 169029.505...</td>\n",
       "      <td>4</td>\n",
       "      <td>True</td>\n",
       "    </tr>\n",
       "    <tr>\n",
       "      <th>21</th>\n",
       "      <td>170</td>\n",
       "      <td>0</td>\n",
       "      <td>2021-12-14</td>\n",
       "      <td>2099-01-01</td>\n",
       "      <td>460063</td>\n",
       "      <td>LINESTRING (170572.064 -468622.735, 170587.532...</td>\n",
       "      <td>5</td>\n",
       "      <td>True</td>\n",
       "    </tr>\n",
       "    <tr>\n",
       "      <th>28</th>\n",
       "      <td>170</td>\n",
       "      <td>0</td>\n",
       "      <td>2021-12-14</td>\n",
       "      <td>2099-01-01</td>\n",
       "      <td>460064</td>\n",
       "      <td>LINESTRING (170572.064 -468622.735, 170587.532...</td>\n",
       "      <td>5</td>\n",
       "      <td>True</td>\n",
       "    </tr>\n",
       "    <tr>\n",
       "      <th>10</th>\n",
       "      <td>170</td>\n",
       "      <td>0</td>\n",
       "      <td>2021-12-14</td>\n",
       "      <td>2099-01-01</td>\n",
       "      <td>450110</td>\n",
       "      <td>LINESTRING (170787.414 -468618.771, 170769.170...</td>\n",
       "      <td>6</td>\n",
       "      <td>False</td>\n",
       "    </tr>\n",
       "    <tr>\n",
       "      <th>23</th>\n",
       "      <td>170</td>\n",
       "      <td>0</td>\n",
       "      <td>2021-12-14</td>\n",
       "      <td>2099-01-01</td>\n",
       "      <td>460065</td>\n",
       "      <td>LINESTRING (170787.414 -468618.771, 170769.170...</td>\n",
       "      <td>6</td>\n",
       "      <td>True</td>\n",
       "    </tr>\n",
       "    <tr>\n",
       "      <th>12</th>\n",
       "      <td>170</td>\n",
       "      <td>0</td>\n",
       "      <td>2021-12-14</td>\n",
       "      <td>2099-01-01</td>\n",
       "      <td>1720091</td>\n",
       "      <td>LINESTRING (168517.741 -467857.704, 168185.890...</td>\n",
       "      <td>7</td>\n",
       "      <td>True</td>\n",
       "    </tr>\n",
       "    <tr>\n",
       "      <th>15</th>\n",
       "      <td>170</td>\n",
       "      <td>0</td>\n",
       "      <td>2021-12-14</td>\n",
       "      <td>2099-01-01</td>\n",
       "      <td>1210144</td>\n",
       "      <td>LINESTRING (174259.192 -469459.299, 174435.009...</td>\n",
       "      <td>9</td>\n",
       "      <td>True</td>\n",
       "    </tr>\n",
       "    <tr>\n",
       "      <th>29</th>\n",
       "      <td>170</td>\n",
       "      <td>0</td>\n",
       "      <td>2021-12-14</td>\n",
       "      <td>2099-01-01</td>\n",
       "      <td>1030064</td>\n",
       "      <td>LINESTRING (171583.902 -463088.889, 171610.942...</td>\n",
       "      <td>9</td>\n",
       "      <td>True</td>\n",
       "    </tr>\n",
       "    <tr>\n",
       "      <th>30</th>\n",
       "      <td>170</td>\n",
       "      <td>0</td>\n",
       "      <td>2021-12-14</td>\n",
       "      <td>2099-01-01</td>\n",
       "      <td>1720092</td>\n",
       "      <td>LINESTRING (168982.728 -467847.436, 169029.505...</td>\n",
       "      <td>9</td>\n",
       "      <td>True</td>\n",
       "    </tr>\n",
       "    <tr>\n",
       "      <th>4</th>\n",
       "      <td>170</td>\n",
       "      <td>0</td>\n",
       "      <td>2021-12-14</td>\n",
       "      <td>2099-01-01</td>\n",
       "      <td>410006</td>\n",
       "      <td>LINESTRING (167076.954 -468688.931, 167104.467...</td>\n",
       "      <td>10</td>\n",
       "      <td>True</td>\n",
       "    </tr>\n",
       "    <tr>\n",
       "      <th>5</th>\n",
       "      <td>170</td>\n",
       "      <td>0</td>\n",
       "      <td>2021-12-14</td>\n",
       "      <td>2099-01-01</td>\n",
       "      <td>410008</td>\n",
       "      <td>LINESTRING (167076.954 -468688.931, 167104.467...</td>\n",
       "      <td>10</td>\n",
       "      <td>False</td>\n",
       "    </tr>\n",
       "    <tr>\n",
       "      <th>11</th>\n",
       "      <td>170</td>\n",
       "      <td>0</td>\n",
       "      <td>2021-12-14</td>\n",
       "      <td>2099-01-01</td>\n",
       "      <td>460067</td>\n",
       "      <td>LINESTRING (170975.238 -468614.450, 170899.850...</td>\n",
       "      <td>10</td>\n",
       "      <td>True</td>\n",
       "    </tr>\n",
       "    <tr>\n",
       "      <th>19</th>\n",
       "      <td>170</td>\n",
       "      <td>0</td>\n",
       "      <td>2021-12-14</td>\n",
       "      <td>2099-01-01</td>\n",
       "      <td>460069</td>\n",
       "      <td>LINESTRING (170975.238 -468614.450, 170899.850...</td>\n",
       "      <td>10</td>\n",
       "      <td>False</td>\n",
       "    </tr>\n",
       "    <tr>\n",
       "      <th>27</th>\n",
       "      <td>170</td>\n",
       "      <td>0</td>\n",
       "      <td>2021-12-14</td>\n",
       "      <td>2099-01-01</td>\n",
       "      <td>450109</td>\n",
       "      <td>LINESTRING (170975.238 -468614.450, 170899.850...</td>\n",
       "      <td>10</td>\n",
       "      <td>True</td>\n",
       "    </tr>\n",
       "    <tr>\n",
       "      <th>7</th>\n",
       "      <td>170</td>\n",
       "      <td>0</td>\n",
       "      <td>2021-12-14</td>\n",
       "      <td>2099-01-01</td>\n",
       "      <td>1730122</td>\n",
       "      <td>LINESTRING (168982.728 -467847.436, 169029.505...</td>\n",
       "      <td>12</td>\n",
       "      <td>True</td>\n",
       "    </tr>\n",
       "    <tr>\n",
       "      <th>2</th>\n",
       "      <td>170</td>\n",
       "      <td>0</td>\n",
       "      <td>2021-12-14</td>\n",
       "      <td>2099-01-01</td>\n",
       "      <td>1210143</td>\n",
       "      <td>LINESTRING (174259.192 -469459.299, 174435.009...</td>\n",
       "      <td>13</td>\n",
       "      <td>True</td>\n",
       "    </tr>\n",
       "    <tr>\n",
       "      <th>6</th>\n",
       "      <td>170</td>\n",
       "      <td>0</td>\n",
       "      <td>2021-12-14</td>\n",
       "      <td>2099-01-01</td>\n",
       "      <td>450111</td>\n",
       "      <td>LINESTRING (167076.954 -468688.931, 167104.467...</td>\n",
       "      <td>14</td>\n",
       "      <td>True</td>\n",
       "    </tr>\n",
       "    <tr>\n",
       "      <th>8</th>\n",
       "      <td>170</td>\n",
       "      <td>0</td>\n",
       "      <td>2021-12-14</td>\n",
       "      <td>2099-01-01</td>\n",
       "      <td>1740031</td>\n",
       "      <td>LINESTRING (168517.741 -467857.704, 168447.345...</td>\n",
       "      <td>14</td>\n",
       "      <td>False</td>\n",
       "    </tr>\n",
       "    <tr>\n",
       "      <th>49</th>\n",
       "      <td>170</td>\n",
       "      <td>0</td>\n",
       "      <td>2021-05-13</td>\n",
       "      <td>2099-01-01</td>\n",
       "      <td>1820071</td>\n",
       "      <td>LINESTRING (166922.154 -464446.841, 166918.405...</td>\n",
       "      <td>50</td>\n",
       "      <td>True</td>\n",
       "    </tr>\n",
       "    <tr>\n",
       "      <th>42</th>\n",
       "      <td>170</td>\n",
       "      <td>0</td>\n",
       "      <td>2021-05-13</td>\n",
       "      <td>2099-01-01</td>\n",
       "      <td>1510067</td>\n",
       "      <td>LINESTRING (172136.221 -469800.637, 171653.968...</td>\n",
       "      <td>51</td>\n",
       "      <td>True</td>\n",
       "    </tr>\n",
       "    <tr>\n",
       "      <th>48</th>\n",
       "      <td>170</td>\n",
       "      <td>0</td>\n",
       "      <td>2021-05-13</td>\n",
       "      <td>2099-01-01</td>\n",
       "      <td>1820070</td>\n",
       "      <td>LINESTRING (167355.830 -470132.161, 167354.913...</td>\n",
       "      <td>52</td>\n",
       "      <td>True</td>\n",
       "    </tr>\n",
       "    <tr>\n",
       "      <th>26</th>\n",
       "      <td>170</td>\n",
       "      <td>0</td>\n",
       "      <td>2021-12-14</td>\n",
       "      <td>2099-01-01</td>\n",
       "      <td>1210141</td>\n",
       "      <td>LINESTRING (170026.776 -470714.177, 171008.308...</td>\n",
       "      <td>55</td>\n",
       "      <td>True</td>\n",
       "    </tr>\n",
       "    <tr>\n",
       "      <th>32</th>\n",
       "      <td>170</td>\n",
       "      <td>0</td>\n",
       "      <td>2021-05-13</td>\n",
       "      <td>2099-01-01</td>\n",
       "      <td>1810081</td>\n",
       "      <td>LINESTRING (167355.830 -470132.161, 167354.913...</td>\n",
       "      <td>59</td>\n",
       "      <td>True</td>\n",
       "    </tr>\n",
       "    <tr>\n",
       "      <th>37</th>\n",
       "      <td>170</td>\n",
       "      <td>0</td>\n",
       "      <td>2021-05-13</td>\n",
       "      <td>2099-01-01</td>\n",
       "      <td>1810080</td>\n",
       "      <td>LINESTRING (166922.154 -464446.841, 166918.405...</td>\n",
       "      <td>68</td>\n",
       "      <td>True</td>\n",
       "    </tr>\n",
       "    <tr>\n",
       "      <th>244</th>\n",
       "      <td>170</td>\n",
       "      <td>0</td>\n",
       "      <td>2021-09-16</td>\n",
       "      <td>2099-01-01</td>\n",
       "      <td>460075</td>\n",
       "      <td>LINESTRING (167995.312 -468671.854, 167995.312...</td>\n",
       "      <td>74</td>\n",
       "      <td>True</td>\n",
       "    </tr>\n",
       "    <tr>\n",
       "      <th>116</th>\n",
       "      <td>170</td>\n",
       "      <td>0</td>\n",
       "      <td>2022-02-01</td>\n",
       "      <td>2099-01-01</td>\n",
       "      <td>940156</td>\n",
       "      <td>LINESTRING (171968.546 -469401.301, 171942.702...</td>\n",
       "      <td>75</td>\n",
       "      <td>True</td>\n",
       "    </tr>\n",
       "  </tbody>\n",
       "</table>\n",
       "</div>"
      ],
      "text/plain": [
       "     calitp_itp_id  calitp_url_number calitp_extracted_at calitp_deleted_at  \\\n",
       "14             170                  0          2021-12-14        2099-01-01   \n",
       "17             170                  0          2021-12-14        2099-01-01   \n",
       "24             170                  0          2021-12-14        2099-01-01   \n",
       "13             170                  0          2021-12-14        2099-01-01   \n",
       "1              170                  0          2021-12-14        2099-01-01   \n",
       "3              170                  0          2021-12-14        2099-01-01   \n",
       "22             170                  0          2021-12-14        2099-01-01   \n",
       "21             170                  0          2021-12-14        2099-01-01   \n",
       "28             170                  0          2021-12-14        2099-01-01   \n",
       "10             170                  0          2021-12-14        2099-01-01   \n",
       "23             170                  0          2021-12-14        2099-01-01   \n",
       "12             170                  0          2021-12-14        2099-01-01   \n",
       "15             170                  0          2021-12-14        2099-01-01   \n",
       "29             170                  0          2021-12-14        2099-01-01   \n",
       "30             170                  0          2021-12-14        2099-01-01   \n",
       "4              170                  0          2021-12-14        2099-01-01   \n",
       "5              170                  0          2021-12-14        2099-01-01   \n",
       "11             170                  0          2021-12-14        2099-01-01   \n",
       "19             170                  0          2021-12-14        2099-01-01   \n",
       "27             170                  0          2021-12-14        2099-01-01   \n",
       "7              170                  0          2021-12-14        2099-01-01   \n",
       "2              170                  0          2021-12-14        2099-01-01   \n",
       "6              170                  0          2021-12-14        2099-01-01   \n",
       "8              170                  0          2021-12-14        2099-01-01   \n",
       "49             170                  0          2021-05-13        2099-01-01   \n",
       "42             170                  0          2021-05-13        2099-01-01   \n",
       "48             170                  0          2021-05-13        2099-01-01   \n",
       "26             170                  0          2021-12-14        2099-01-01   \n",
       "32             170                  0          2021-05-13        2099-01-01   \n",
       "37             170                  0          2021-05-13        2099-01-01   \n",
       "244            170                  0          2021-09-16        2099-01-01   \n",
       "116            170                  0          2022-02-01        2099-01-01   \n",
       "\n",
       "    shape_id                                           geometry  num_points  \\\n",
       "14    610105  LINESTRING (168050.092 -464617.432, 168050.092...           2   \n",
       "17   1740030  LINESTRING (168982.728 -467847.436, 169029.505...           2   \n",
       "24   1810081  LINESTRING (167193.543 -470028.886, 166971.226...           2   \n",
       "13   1510067  LINESTRING (167073.025 -470031.290, 166971.226...           3   \n",
       "1    1030063  LINESTRING (173102.310 -461425.826, 173102.310...           4   \n",
       "3    1910287  LINESTRING (174799.552 -461399.277, 174799.552...           4   \n",
       "22   1720090  LINESTRING (168982.728 -467847.436, 169029.505...           4   \n",
       "21    460063  LINESTRING (170572.064 -468622.735, 170587.532...           5   \n",
       "28    460064  LINESTRING (170572.064 -468622.735, 170587.532...           5   \n",
       "10    450110  LINESTRING (170787.414 -468618.771, 170769.170...           6   \n",
       "23    460065  LINESTRING (170787.414 -468618.771, 170769.170...           6   \n",
       "12   1720091  LINESTRING (168517.741 -467857.704, 168185.890...           7   \n",
       "15   1210144  LINESTRING (174259.192 -469459.299, 174435.009...           9   \n",
       "29   1030064  LINESTRING (171583.902 -463088.889, 171610.942...           9   \n",
       "30   1720092  LINESTRING (168982.728 -467847.436, 169029.505...           9   \n",
       "4     410006  LINESTRING (167076.954 -468688.931, 167104.467...          10   \n",
       "5     410008  LINESTRING (167076.954 -468688.931, 167104.467...          10   \n",
       "11    460067  LINESTRING (170975.238 -468614.450, 170899.850...          10   \n",
       "19    460069  LINESTRING (170975.238 -468614.450, 170899.850...          10   \n",
       "27    450109  LINESTRING (170975.238 -468614.450, 170899.850...          10   \n",
       "7    1730122  LINESTRING (168982.728 -467847.436, 169029.505...          12   \n",
       "2    1210143  LINESTRING (174259.192 -469459.299, 174435.009...          13   \n",
       "6     450111  LINESTRING (167076.954 -468688.931, 167104.467...          14   \n",
       "8    1740031  LINESTRING (168517.741 -467857.704, 168447.345...          14   \n",
       "49   1820071  LINESTRING (166922.154 -464446.841, 166918.405...          50   \n",
       "42   1510067  LINESTRING (172136.221 -469800.637, 171653.968...          51   \n",
       "48   1820070  LINESTRING (167355.830 -470132.161, 167354.913...          52   \n",
       "26   1210141  LINESTRING (170026.776 -470714.177, 171008.308...          55   \n",
       "32   1810081  LINESTRING (167355.830 -470132.161, 167354.913...          59   \n",
       "37   1810080  LINESTRING (166922.154 -464446.841, 166918.405...          68   \n",
       "244   460075  LINESTRING (167995.312 -468671.854, 167995.312...          74   \n",
       "116   940156  LINESTRING (171968.546 -469401.301, 171942.702...          75   \n",
       "\n",
       "     has_trip  \n",
       "14      False  \n",
       "17      False  \n",
       "24       True  \n",
       "13       True  \n",
       "1        True  \n",
       "3        True  \n",
       "22       True  \n",
       "21       True  \n",
       "28       True  \n",
       "10      False  \n",
       "23       True  \n",
       "12       True  \n",
       "15       True  \n",
       "29       True  \n",
       "30       True  \n",
       "4        True  \n",
       "5       False  \n",
       "11       True  \n",
       "19      False  \n",
       "27       True  \n",
       "7        True  \n",
       "2        True  \n",
       "6        True  \n",
       "8       False  \n",
       "49       True  \n",
       "42       True  \n",
       "48       True  \n",
       "26       True  \n",
       "32       True  \n",
       "37       True  \n",
       "244      True  \n",
       "116      True  "
      ]
     },
     "execution_count": 63,
     "metadata": {},
     "output_type": "execute_result"
    }
   ],
   "source": [
    "lines >> filter(_.num_points < 80) >> arrange(_.num_points)"
   ]
  },
  {
   "cell_type": "code",
   "execution_count": 49,
   "id": "639703a4-41c5-4ac1-bf30-4d062922e4e7",
   "metadata": {},
   "outputs": [
    {
     "data": {
      "text/plain": [
       "4"
      ]
     },
     "execution_count": 49,
     "metadata": {},
     "output_type": "execute_result"
    }
   ],
   "source": [
    "len([x for x in too_straight.coords])"
   ]
  },
  {
   "cell_type": "code",
   "execution_count": 44,
   "id": "80e470cc-29ac-4e2c-a973-e939f63fc5b5",
   "metadata": {},
   "outputs": [
    {
     "data": {
      "image/svg+xml": [
       "<svg xmlns=\"http://www.w3.org/2000/svg\" xmlns:xlink=\"http://www.w3.org/1999/xlink\" width=\"300\" height=\"300\" viewBox=\"168734.83090858083 -468095.3337402151 6693.231194655586 5763.269728433457\" preserveAspectRatio=\"xMinYMin meet\"><g transform=\"matrix(1,0,0,-1,0,-930427.3977519968)\"><polyline fill=\"none\" stroke=\"#66cc99\" stroke-width=\"44.62154129770391\" points=\"168982.72836023473,-467847.4362885612 169029.50455954598,-467846.86869933596 175180.1646515825,-463092.4888987527 175166.50769918095,-462579.96146343555\" opacity=\"0.8\" /></g></svg>"
      ],
      "text/plain": [
       "<shapely.geometry.linestring.LineString at 0x7ff644e38070>"
      ]
     },
     "execution_count": 44,
     "metadata": {},
     "output_type": "execute_result"
    }
   ],
   "source": [
    "## this isn't correct...\n",
    "too_straight = a_shape.geometry.iloc[0]\n",
    "too_straight"
   ]
  },
  {
   "cell_type": "code",
   "execution_count": 42,
   "id": "e591952a-4b56-44cf-b376-1d677b9d47b3",
   "metadata": {},
   "outputs": [
    {
     "data": {
      "image/svg+xml": [
       "<svg xmlns=\"http://www.w3.org/2000/svg\" xmlns:xlink=\"http://www.w3.org/1999/xlink\" width=\"300\" height=\"300\" viewBox=\"166870.70361547288 -470734.81106697477 9563.04780788967 11863.371206039796\" preserveAspectRatio=\"xMinYMin meet\"><g transform=\"matrix(1,0,0,-1,0,-929606.2509279097)\"><polyline fill=\"none\" stroke=\"#66cc99\" stroke-width=\"79.08914137359864\" points=\"167588.39970882554,-470295.4269482326 167757.97668241343,-470090.8817620077 167757.88507427313,-470081.2340338882 167757.4117235588,-470046.7489565653 167754.329348746,-469895.0779265333 167754.329348746,-469895.0779265333 167748.73098445844,-469592.27889069216 167746.83566168856,-469512.4568953053 167746.72701666123,-469482.51212912146 167738.29338677056,-469482.4513857062 167521.8953127375,-469485.9164030282 167400.28380973524,-469488.90080897463 167342.42756659785,-469428.7788066012 167341.04229899414,-469365.8059051051 167332.09769907218,-469246.52157192165 167331.11468156168,-469185.2046023016 167330.0390337838,-469123.889358066 167329.85133926253,-469118.9017784493 167326.59579927396,-468948.0442883186 167325.26095562248,-468882.8518098444 167324.97231496294,-468848.2518683756 167323.33381504918,-468713.6323093637 167323.33381504918,-468713.6323093637 167323.15290575285,-468684.68692310434 167322.41348061798,-468645.880723882 167319.7031940198,-468537.6791355503 167319.223625155,-468512.51050634123 167319.223625155,-468512.51050634123 167312.99759065162,-468214.9320401093 167311.52677812174,-468162.05329272104 167311.52677812174,-468162.05329272104 167310.8820852987,-468123.3559908853 167310.0877342151,-468081.66679864516 167401.6349408107,-467878.0549766007 167526.48042195017,-467875.78482658044 167602.59834560534,-467873.77764571644 167674.27502308824,-467872.0764482077 167708.82205792656,-467871.52758421656 167813.57875458087,-467870.080687752 167813.57875458087,-467870.080687752 167844.88642341713,-467869.7041143845 168111.24121666685,-467864.49765385315 168138.56648664613,-467864.1962785772 168185.88993007035,-467863.17904048366 168185.88993007035,-467863.17904048366 168185.88993007035,-467863.17904048366 168262.58675630097,-467862.3751256438 168334.26544129726,-467860.77941611735 168392.3214086463,-467859.0007211645 168447.34450970183,-467858.4999047811 168466.0481977231,-467857.9192382726 168540.04643653438,-467856.499176851 168718.33602278132,-467853.518817991 168816.4116051545,-467851.52283108 168941.80387449122,-467848.7783721951 168947.64279021035,-467848.8878596532 169619.73830229373,-467835.93025179347 169647.33279267777,-467835.17531313 169748.64748078887,-467832.9954097979 169834.50215567971,-467831.44613064127 169899.33360204654,-467830.30282703927 170276.0713745268,-467822.3395329281 170322.94440379558,-467821.9850073159 170406.0205829167,-467820.4840343143 170420.746077998,-467820.19824011205 170552.5346069562,-467817.6393723455 170559.0175272767,-467817.5134458672 170559.0175272767,-467817.5134458672 170596.62277168315,-467817.00472783716 170629.32598243008,-467816.92386045726 170649.23996206583,-467816.64777185116 170666.8364578746,-467816.30576646933 170730.56075724,-467815.3996767523 170792.2324672946,-467813.7566321152 170857.88868302008,-467812.14653825015 170887.05964762295,-467811.4679419715 170903.26693685915,-467811.15249932185 171082.02094681776,-467808.2260075002 171099.89310434277,-467807.76684590615 171311.9790883288,-467803.7424219535 171374.76204292104,-467802.0736026149 171471.35304431047,-467799.9660074697 171490.15347514,-467799.59884015704 171554.70036953123,-467798.1161162327 171554.70036953123,-467798.1161162327 171556.92308013747,-467798.07268828945 171676.73602896708,-467794.2889941423 171770.7619736466,-467793.6701777545 171960.0454214389,-467803.27528637927 171972.08587463637,-467807.80891143857 172007.63738521747,-467839.6112591657 172018.41390719145,-467845.83333681803 172037.8035009559,-467851.8866489553 172051.7150800553,-467852.61232158635 172074.87633146174,-467847.83268717583 172115.3810147871,-467848.7025688011 172124.92322190138,-467853.39587182365 172355.19187890572,-467982.6449267315 172355.19187890572,-467982.6449267315 172383.23880747063,-467938.8366992711 172384.3383123221,-467933.4910934111 172385.6157337926,-467913.6118536 172385.51995704143,-467908.7333808886 172382.29974131144,-467782.46192112844 172378.54624431772,-467629.0259936587 172356.47956213923,-467590.416240891 172338.62575462286,-467572.9089760035 172344.15841180424,-467529.09887414007 172344.15841180424,-467529.09887414007 172383.0967737139,-467492.72993567586 172813.38536958114,-467085.41053004004 172844.5381787207,-467063.1682425197 173235.53101331458,-467079.64236211777 173396.22318816054,-467077.5794253214 173419.64795909042,-467076.8949298165 173419.64795909042,-467076.8949298165 173653.4056930176,-467073.3837773269 173653.4056930176,-467073.3837773269 173814.90930336312,-467070.1879428043 174103.14736123662,-467067.0280261198 174257.99208278215,-467064.3997564819 174257.99208278215,-467064.3997564819 174264.8448677686,-467064.2637418732 174345.95821024087,-467062.2097172458 174706.48547341017,-467055.8194962321 174935.44519742034,-467057.91560996184 175129.5328578393,-467099.8557219901 175167.9072604433,-467105.52347283065 175193.7840557938,-467107.0036972221 175249.73114512008,-467106.5526530887 175248.82893994864,-466982.45254967175 175241.96143020535,-466842.6099380329 175233.4586427623,-466829.691207787 175228.7832149955,-466544.3894489994 175228.7832149955,-466544.3894489994 175227.16085838084,-466430.6185027086 175223.1151074201,-466223.2795845778 175220.475320668,-466095.6635792996 175214.3939688405,-465619.27197675174 175210.21015796522,-465395.7396341483 175210.21015796522,-465395.7396341483 175209.74947312393,-465368.01865269896 175208.67982392645,-465305.14793231804 175207.97275527683,-465255.80227853684 175201.72701715797,-464854.72537754197 175195.60324928976,-464520.0864866269 175193.38592672467,-464330.1216749558 175192.96132520726,-464285.6504476536 175192.96132520726,-464285.6504476536 175190.37740976794,-464142.27980009094 175189.11803961205,-464051.34873729106 175193.94649487187,-464014.8698523515 175193.69081672133,-463988.1426799395 175192.97140701656,-463924.2657610513 175192.61131276248,-463887.6685510902 175186.84506244925,-463538.4882571888 175186.84506244925,-463538.4882571888 175182.49261212535,-463255.4996267734 175182.25578610823,-463243.63557431055 175166.50769918095,-462579.96146343555 175166.08012862894,-462553.90286692185 175158.00665579454,-462056.67962065525 175151.40647624517,-461651.8249818967 175149.1257212971,-461477.2743735011 175127.99076933903,-461285.7954304288 175087.75407176735,-461078.8349137348 175085.31618510955,-460989.14465926867 175082.04450991264,-460862.31078642886 175076.53517462604,-460641.8997618235 175074.55820468802,-460556.74788030935 175169.66057866617,-460136.32375805406 175293.6292423404,-460132.62736986857 175878.82596328316,-460108.2691093562 175878.19157672583,-460072.00870328024 175878.19157672583,-460072.00870328024 175871.24696942186,-459762.5501594166 175869.04012310327,-459680.17533804616 175869.04012310327,-459680.17533804616 175867.91726157613,-459647.252389336 175864.80014391465,-459537.9403113248 175858.71080875894,-459377.3281372511 175858.59966184484,-459371.7839752482 175994.36730462033,-459310.82397967717\" opacity=\"0.8\" /></g></svg>"
      ],
      "text/plain": [
       "<shapely.geometry.linestring.LineString at 0x7ff64428fdf0>"
      ]
     },
     "execution_count": 42,
     "metadata": {},
     "output_type": "execute_result"
    }
   ],
   "source": [
    "a_shape.geometry.iloc[1]"
   ]
  },
  {
   "cell_type": "code",
   "execution_count": 43,
   "id": "4f0a148e-e88e-4dcf-a154-f0229935fdac",
   "metadata": {},
   "outputs": [
    {
     "data": {
      "image/svg+xml": [
       "<svg xmlns=\"http://www.w3.org/2000/svg\" xmlns:xlink=\"http://www.w3.org/1999/xlink\" width=\"300\" height=\"300\" viewBox=\"166867.30903590954 -470735.5186649805 9729.644118941098 11868.77084585221\" preserveAspectRatio=\"xMinYMin meet\"><g transform=\"matrix(1,0,0,-1,0,-929602.2664841088)\"><polyline fill=\"none\" stroke=\"#66cc99\" stroke-width=\"79.12513897234807\" points=\"167579.23476609364,-470295.93455957854 167595.52870222862,-470295.06909042737 167628.21767012822,-470293.77978488896 167657.29158347967,-470292.4484522869 167744.44181781865,-470289.56437484315 167752.69517897136,-470289.85039495444 167762.24125446106,-470289.8898889157 167762.5376895315,-470286.002261152 167762.25499400712,-470280.9056486995 167761.9632317539,-470251.075536191 167761.7609572769,-470230.782255284 167761.03135603343,-470182.88160338206 167760.63212566165,-470152.2771185045 167759.45845432824,-470124.7929941518 167757.21791650238,-470026.8991246107 167757.21791650238,-470026.8991246107 167757.054848384,-470018.36189111276 167756.80331454505,-469990.63828696124 167756.28391406566,-469958.59415742615 167755.92655672724,-469944.736771198 167755.1234430597,-469917.245508621 167754.03340825596,-469884.4358574264 167753.49126033208,-469856.0522822309 167753.06715980446,-469828.9974098252 167751.880735769,-469781.43802223215 167751.76951604473,-469765.9121999885 167751.67680714693,-469746.5040339441 167751.47342365576,-469716.4502372197 167751.2530951888,-469685.5094425739 167751.20744001554,-469654.0107311662 167751.17779095494,-469652.4585008593 167750.99409352848,-469647.69270552695 167749.92736297415,-469616.10257095285 167748.530346121,-469586.626102922 167747.23757222178,-469548.05267318385 167746.97496899025,-469534.30433124816 167729.96085812402,-469482.8323602276 167703.64526626375,-469482.89126256714 167691.69167003152,-469482.8976906226 167691.69167003152,-469482.8976906226 167670.47076910688,-469482.85921134567 167643.16163998592,-469484.26787182316 167608.79140691215,-469484.702069771 167579.79375567508,-469485.03361635515 167556.44023296228,-469484.924641327 167488.0893188229,-469486.7830222747 167460.76747406105,-469487.5258724387 167433.25825093768,-469488.1612957679 167369.99354503205,-469489.47812982183 167344.51796659216,-469489.85268952977 167343.61081852525,-469461.6977773458 167343.18682304944,-469449.1725532524 167343.18682304944,-469449.1725532524 167342.94207874412,-469441.1913944017 167342.35784780726,-469425.11996576516 167341.93953500784,-469403.166917813 167341.29338027607,-469374.1196924043 167340.17450235118,-469359.167582999 167340.18473717457,-469354.8417301546 167339.0060505108,-469327.02469492983 167338.60820984762,-469296.41991340835 167338.24727123167,-469282.34066447336 167338.25830018095,-469258.6047718064 167337.92759816186,-469255.83821276156 167331.14865939226,-469221.02933245245 167331.1413413655,-469206.05601851596 167331.1413413655,-469206.05601851596 167331.13416966298,-469161.9121825467 167329.42604699126,-469086.85556297377 167329.3824793688,-469065.11712558474 167329.24938421004,-469058.13203884056 167329.24938421004,-469058.13203884056 167329.0130997793,-469050.5943444711 167324.65020104515,-468816.7581702713 167324.18931606365,-468787.70723519847 167323.56364510022,-468750.0080606593 167323.4422261134,-468729.04743484035 167321.26409831576,-468614.7354672062 167320.17431220852,-468562.4042582074 167319.9482599987,-468550.54063513316 167318.60284528224,-468484.79350879183 167316.28662830123,-468382.6845777123 167315.9250304715,-468358.84464524454 167315.9250304715,-468358.84464524454 167315.63703686735,-468334.0050648628 167314.55147771645,-468281.89545191405 167311.89015102488,-468181.1238668212 167309.07379790448,-467970.10476813046 167308.24734880566,-467951.04297529534 167306.89314131148,-467879.9716330613 167333.38280192195,-467879.5777698541 167339.21535831588,-467879.3556995946 167339.21535831588,-467879.3556995946 167352.3580647046,-467878.66155346856 167370.51459443165,-467878.5373145798 167376.99333264722,-467878.1919859727 167430.81039648308,-467877.6096143089 167456.73802524986,-467876.89334765635 167457.7567767544,-467876.8739187117 167457.7567767544,-467876.8739187117 167471.7393415158,-467876.4963246044 167490.9040463615,-467875.7980274316 167550.6589602201,-467875.6562339668 167578.4346230812,-467874.6825112831 167627.41036052947,-467872.8603372327 167698.35670784465,-467871.7274660836 167719.56101319403,-467871.1006314368 167745.58970190588,-467870.82524550054 167760.78046832443,-467870.64594134036 167782.9193811313,-467870.44476159103 167816.26455190993,-467870.0293565816 167870.08158790288,-467869.44429257093 167888.0507642762,-467869.21164912684 167910.558011168,-467868.89218867384 167936.6729500359,-467868.2818383733 167957.1384524998,-467867.7794761793 167963.34356881518,-467867.6607807805 167982.2367582702,-467867.29935286427 167995.202672152,-467867.0512905754 168018.0782478949,-467866.6135911355 168036.41575313127,-467866.2626797217 168085.22102738466,-467865.21762604034 168100.2223157632,-467864.81952924747 168161.99986020394,-467863.8584390092 168169.9646327975,-467863.70589709515 168210.33780326854,-467862.5998072531 168229.79303645203,-467862.5598280374 168292.13475029366,-467862.03067789087 168312.69709800679,-467861.7474629595 168363.51645701032,-467859.442175 168373.24088375518,-467859.2557078125 168413.1615912702,-467858.711942574 168434.37222778876,-467858.41600823635 168489.11110438537,-467857.587633342 168517.74146408585,-467857.7036997932 168530.14317000774,-467857.0220103725 168530.14317000774,-467857.0220103725 168565.7951334721,-467856.11581712076 168593.1182599602,-467855.7021518103 168614.97718630318,-467855.39333343366 168638.22318583776,-467854.9469044353 168656.09759901866,-467854.6035924759 168679.43833997633,-467854.2661508871 168695.0900270249,-467853.96545908274 168726.21243361023,-467853.58930193866 168740.75275716413,-467853.30988449557 168758.8102630718,-467852.8519284087 168792.79729205603,-467852.0877286503 168840.02591643512,-467850.9578699912 168859.19477818595,-467850.4783371524 168892.2513965139,-467849.5098121492 168921.41824401438,-467848.61599542294 168965.53425980007,-467849.4309207569 168967.56962281087,-467849.28083726997 168967.56962281087,-467849.28083726997 168972.74957671383,-467848.8484065542 169051.27512531023,-467846.7823283612 169095.55076059187,-467846.2625301187 169117.9674859781,-467846.0526335947 169134.91361087863,-467845.6153093809 169145.56415671756,-467845.41014716914 169161.7693725393,-467844.98704369226 169202.42239620295,-467843.98191481084 169225.10627438387,-467843.2120141736 169250.4887617392,-467843.05553686665 169269.84496530893,-467842.6824124735 169296.79760525227,-467842.2736990028 169319.3952762279,-467841.83796631265 169339.86069958695,-467841.33238131274 169341.4351273495,-467841.30201704986 169341.4351273495,-467841.30201704986 169382.090268266,-467840.4069315917 169399.87203846165,-467840.0638921135 169418.76302921667,-467839.5884979558 169437.83924546003,-467839.1094888388 169450.5272775988,-467838.86463899957 169482.93981651086,-467838.1281517176 169497.75581422908,-467837.73124255287 169519.8882661433,-467837.19305757293 169542.10904801975,-467836.43127808534 169562.39779380066,-467836.37225183565 169581.38781201266,-467836.2273449893 169595.83977657533,-467836.1700506583 169640.10895264093,-467835.3148808498 169664.46625897137,-467834.8442633641 169699.4698104791,-467833.9459938416 169721.32226722446,-467833.30179568194 169743.09068215208,-467833.10283422656 169776.6145557368,-467832.34377826937 169776.6145557368,-467832.34377826937 169787.44816811036,-467832.02338083833 169805.4172921169,-467831.78681354923 169854.97398278047,-467831.2719704993 169875.3489065405,-467830.87780411076 169922.11432309428,-467829.7510839938 169934.707582602,-467829.39645163156 169958.05256495284,-467829.2773614614 170012.32393842813,-467828.22670366336 170025.47502112563,-467827.97205691505 170064.09260022375,-467827.11326730065 170080.76298456037,-467826.7903740206 170101.32312440197,-467826.39209538465 170111.51058073432,-467826.19473227905 170111.51058073432,-467826.19473227905 170123.17984861427,-467825.96864728676 170145.21105578795,-467824.9871801385 170166.880401299,-467824.4563374161 170173.72733297697,-467823.99089077814 170194.56745500982,-467823.6978841168 170220.130850238,-467823.3132633809 170242.82968450413,-467823.31685897475 170287.29262329187,-467822.89833515976 170303.49778313944,-467822.4731245367 170337.20683543742,-467821.70833567297 170359.24877436386,-467821.2807066543 170382.30945721688,-467820.83325404255 170426.11764212156,-467820.093981992 170442.3270995219,-467819.8902651658 170452.23670879993,-467819.6978999926 170470.85195555058,-467819.33651087806 170505.1209787095,-467818.7820390444 170529.1099398891,-467818.4270916758 170576.98232345286,-467817.05354963476 170606.81452576007,-467817.0285399994 170690.4549618102,-467815.9575787699 170707.49793306677,-467815.7371690506 170751.21132738702,-467814.88720063353 170770.19486001684,-467814.40709791007 170807.60408596564,-467813.3467040714 170830.8456598822,-467812.67272039596 170931.88437757356,-467810.5954446853 170956.24377405745,-467810.2321186722 170956.24377405745,-467810.2321186722 170958.4664877331,-467810.188842223 170990.41367726016,-467809.34493134124 171013.10819543796,-467809.12478590524 171018.75759195973,-467809.0147539065 171032.18864473284,-467808.864062713 171052.843515596,-467808.5726269223 171064.23492090637,-467808.3507038476 171109.24486102123,-467807.47369250376 171127.67269488648,-467807.0036456161 171141.46555381952,-467806.40206797235 171157.77409183249,-467806.5278497641 171186.76413121342,-467806.073618053 171212.8810038197,-467805.5643985728 171212.8810038197,-467805.5643985728 171218.80823710808,-467805.4488202161 171234.640738675,-467804.91824003495 171253.2581165711,-467804.6660669828 171267.52052008014,-467804.3878842057 171278.8193069549,-467804.1674891971 171335.3197276255,-467803.39792041946 171358.55909806598,-467802.6116651292 171379.76097994758,-467801.86511666654 171396.79743967345,-467801.3107446772 171419.2097792787,-467800.873223525 171435.88011379677,-467800.54775746865 171507.74993678273,-467799.2551495512 171514.8811341991,-467799.11585436855 171535.4412092352,-467798.7142176586 171549.05314624016,-467798.3373677903 171582.66514392005,-467797.34785747714 171604.0543973606,-467796.7080225856 171654.60804753876,-467795.054365159 171705.90909209088,-467793.7185521466 171707.20567263293,-467793.69319691835 171707.20567263293,-467793.69319691835 171734.17337285427,-467794.0531245959 171756.59436927925,-467794.058241033 171761.87330451256,-467793.9549773666 171803.5491068109,-467793.1396264634 171814.13151957534,-467798.9220837718 171824.41372667576,-467798.8317957418 171841.16582074648,-467797.949374584 171855.0534214353,-467797.4557381654 171884.40955048904,-467796.7702031443 171934.04356391297,-467795.4656904368 171952.0372776192,-467801.2137737777 171955.4813284376,-467802.0336640449 171963.77382722838,-467804.4223559401 171967.69180305765,-467805.78754545655 171976.77081712708,-467810.4900810169 171980.80964244634,-467813.2948204987 171984.10756528986,-467816.11407019617 171986.84763952682,-467818.83332825033 171990.82426368777,-467823.192121177 171995.27047352702,-467827.8744651978 171999.34406293192,-467832.45318885846 172003.96464884724,-467836.57752680173 172012.51627051758,-467842.73227845086 172024.67765756007,-467848.7053842582 172031.01230272514,-467850.4668671731 172044.1142542477,-467852.42850240134 172057.25885534176,-467851.8381889127 172062.89089784244,-467850.8404888124 172068.42380736573,-467849.5119763892 172071.74051038764,-467848.5596429007 172080.51054250664,-467846.94585027825 172087.71918109394,-467846.02815306885 172106.59711130447,-467844.8817289863 172133.37146501278,-467858.99794744793 172138.81913038075,-467862.7732492797 172148.31657454974,-467869.90758068766 172161.4007491484,-467880.4100071797 172168.45113738294,-467885.59578766907 172178.6669262169,-467886.83739424776 172183.93809734329,-467891.05979689397 172190.15063315813,-467896.04015550297 172215.27868909066,-467915.9560938962 172229.9679018682,-467927.9797747298 172236.65226090705,-467933.3945129495 172241.24437672365,-467945.50531042926 172254.42791378676,-467956.3383959634 172326.02049724327,-468016.38166294666 172336.26405788297,-468004.86708913743 172354.01400127006,-467983.9990513874 172361.34822390077,-467975.3144752863 172370.49554847818,-467964.59779290855 172374.99786407067,-467957.96530200914 172377.94749158202,-467952.4724607123 172381.50405987378,-467944.86027821805 172385.22428951398,-467926.7077569179 172385.569816953,-467920.7114499579 172384.74462697434,-467888.11801646836 172383.4765736398,-467828.2476362572 172381.90139822752,-467762.1718800082 172381.90139822752,-467762.1718800082 172381.3364336265,-467738.1139170793 172380.6408651796,-467707.403471251 172379.39022920944,-467648.4199747881 172379.09201615,-467633.23014160246 172377.1038481355,-467621.62284223177 172376.00894164125,-467617.7622267292 172374.0696536488,-467613.3636004925 172372.8156474449,-467610.8371172887 172370.89812886438,-467607.54723738786 172368.8880007818,-467604.25917502353 172365.94088262602,-467600.4349188362 172364.4242839161,-467598.69001144683 172361.6754502696,-467595.5273660524 172349.58186537513,-467583.5638379101 172333.90382649147,-467568.3431213894 172318.04714863608,-467553.45863387315 172408.84376659722,-467468.7098663333 172447.58112678005,-467431.56813239446 172470.04611411036,-467410.274347465 172470.04611411036,-467410.274347465 172537.25520052665,-467346.39626025734 172638.48371338233,-467250.56989410333 172663.67800549968,-467226.7816949743 172743.4523140042,-467151.8956877319 172774.00723309332,-467122.788513409 172790.19648922415,-467107.4959692578 172790.19648922415,-467107.4959692578 172823.21870326553,-467076.67627389263 172838.13314173694,-467062.5179067664 172860.80520994103,-467065.9536932027 172874.48585448434,-467069.1227950677 172883.79877795742,-467071.6014547879 172904.00984936437,-467077.0821173345 172911.5545537851,-467079.1518970295 172927.8303733285,-467082.38072374556 172939.52922813874,-467083.70314853406 172946.76773818117,-467084.33699264657 172954.6391982633,-467084.1819347632 172993.99212728877,-467083.18478914537 173004.45872230275,-467083.08947071387 173012.51539206455,-467082.9307113844 173012.51539206455,-467082.9307113844 173031.59428891155,-467082.6656441805 173055.39168960394,-467082.0856954232 173073.63495101943,-467081.72608949617 173130.50558625933,-467081.15941976476 173153.75390937136,-467080.92278644117 173247.57189832607,-467079.5156910657 173247.57189832607,-467079.5156910657 173280.44898913265,-467078.97779834317 173316.38424364122,-467078.4903319045 173477.69616507352,-467074.97173126275 173502.98617958708,-467074.9156681448 173526.8032757037,-467075.33231703704 173546.2482005562,-467074.8370602336 173570.70257839814,-467074.6864014026 173617.9334774083,-467073.86346695526 173626.6449537225,-467074.02395036444 173634.5164045583,-467073.8682829421 173669.7924440977,-467072.83781489637 173678.2168451051,-467077.2188242716 173684.05317475283,-467077.2142886417 173695.35321939935,-467077.1016590209 173742.31070517923,-467076.5053016483 173777.41690237512,-467076.2541911588 173778.43117188153,-467076.01227893494 173779.25803612126,-467075.6631575157 173787.12552853854,-467070.62702157255 173823.33638233514,-467070.0211061253 173858.62337709492,-467069.5442541945 173885.94631904332,-467069.22499450063 173894.46819836064,-467069.1671304186 173905.76603915053,-467068.9433550411 173915.58219566537,-467068.7489154539 173927.34525858462,-467068.6268152986 173942.07168936607,-467068.4459905466 173961.52757804794,-467068.504188668 173986.16936165307,-467068.4595778063 174015.34440829692,-467068.103212581 174015.34440829692,-467068.103212581 174016.36306596053,-467068.0830226843 174029.32999738658,-467067.9369249493 174035.4441410213,-467067.9266489702 174073.51368633122,-467067.6156131881 174153.89502490044,-467066.02155095944 174182.42183116433,-467065.6774888239 174233.91692958536,-467064.9884780897 174278.64084175453,-467063.8789835437 174314.10422843747,-467062.9531251611 174392.1615858097,-467060.95934664225 174420.22315316804,-467060.51283409493 174436.80167977043,-467060.29438511515 174473.93855068556,-467059.6673874506 174513.39054808157,-467058.99421568634 174517.65038478834,-467058.9095427776 174517.65038478834,-467058.9095427776 174554.87765164682,-467058.16948722815 174626.47023821512,-467057.18950053817 174642.48871946285,-467056.7599649499 174666.75346670905,-467056.38818786247 174666.75346670905,-467056.38818786247 174725.56874576662,-467055.7724974025 174739.3691139657,-467055.60876458604 174780.8562015311,-467054.7829683088 174809.65859483316,-467054.3204629114 174831.2311661964,-467053.6690774234 174850.59225387571,-467053.6162747112 174850.59225387571,-467053.6162747112 174853.18519637297,-467053.56463534106 174866.70774745298,-467053.40623519477 174883.38991389147,-467053.7394719939 174892.38585932736,-467054.22578977 174910.56075510182,-467055.0838332046 174953.57168945865,-467060.9929028498 174973.9383968545,-467064.91286249924 174982.1274306318,-467066.7461939794 174993.1123044746,-467069.41114278976 175018.24170449065,-467075.2326080436 175040.67232016858,-467080.44229504047 175088.60288178662,-467091.4658011268 175106.09232035745,-467095.1100780461 175117.81369151664,-467097.53834516415 175130.55373080078,-467099.9462773879 175147.1898482123,-467102.6092257383 175157.78006654704,-467104.06173668895 175186.18817989732,-467107.04434468504 175200.91469098546,-467106.8614083794 175220.45669568673,-467106.5823448482 175230.9366239588,-467107.1496193218 175241.0240011267,-467106.6155294371 175250.01200592515,-467088.1345401071 175249.95971991043,-467066.95010460075 175249.95971991043,-467066.95010460075 175249.90777864386,-467050.424245988 175249.3120984922,-467015.9403922437 175248.55485828008,-466973.3626744179 175248.48369019825,-466965.1560989623 175247.53855388018,-466945.65324144624 175247.3194536944,-466934.67664384097 175246.93506422517,-466924.70161451027 175246.85504362182,-466916.0515358625 175246.1884177591,-466905.8603003151 175244.73158227152,-466883.92742718477 175243.24376834545,-466860.442301366 175242.5063291063,-466846.7030650354 175233.67975369337,-466808.27942037676 175233.34559128032,-466791.53731208574 175233.049049752,-466776.6800744487 175232.84766704598,-466766.59045652533 175232.84766704598,-466766.59045652533 175231.04372882796,-466671.5687475782 175229.62706231562,-466595.9500931287 175229.11993830444,-466565.9010809283 175227.60858358568,-466462.3325348729 175225.4358688335,-466330.2707424932 175225.39789784126,-466323.7272434244 175224.62263864928,-466275.6035930398 175224.14532545244,-466260.9717225693 175224.11806816453,-466250.32397616375 175223.45998854688,-466235.9175492679 175222.2903515295,-466191.24023905257 175222.2903515295,-466191.24023905257 175222.10480866185,-466186.5853120708 175220.25084411626,-466042.6483433768 175220.1077960718,-466016.91776910704 175219.64341096568,-465998.29248136794 175219.50806150673,-465986.8704231265 175219.50806150673,-465986.8704231265 175217.60871478953,-465826.7397127864 175214.8786332112,-465643.55387429753 175213.64738622494,-465600.43040326145 175213.25788492226,-465580.91617589816 175213.1911329295,-465572.9312336594 175212.60909354695,-465543.7707590638 175212.60909354695,-465543.7707590638 175211.75705838916,-465501.0833562575 175211.63055216917,-465490.10474439897 175211.3380645621,-465470.81039934186 175211.00759266317,-465444.9724914017 175210.8124795879,-465430.5567023908 175210.42482751617,-465406.49465574743 175210.10835590167,-465390.639314204 175209.0099379401,-465326.32721290085 175208.54925138288,-465298.606211368 175208.29438198308,-465281.1967308391 175207.6883856552,-465227.63405373134 175207.47189036137,-465193.58565699775 175204.03420521642,-464956.39412028575 175203.6273577621,-464940.65142930904 175203.13862478762,-464920.80628433963 175203.0644843624,-464903.17128516175 175202.73288363917,-464891.1984069403 175202.73288363917,-464891.1984069403 175197.9875276918,-464620.97759473743 175197.56260339843,-464599.68912892323 175196.85919567719,-464569.08879893273 175196.1296042092,-464541.8166322727 175195.42139753883,-464506.33582395734 175195.2317831599,-464478.27640905883 175195.2317831599,-464478.27640905883 175195.1008326454,-464467.07592506055 175194.74188869115,-464416.61367238825 175194.67252928327,-464403.8590460364 175193.38446682424,-464339.32822348736 175192.75253122798,-464265.9105012957 175189.63042741292,-464090.9377442347 175188.75469522158,-464028.50600397727 175188.75469522158,-464028.50600397727 175188.6705938654,-464024.29263615236 175192.0689517782,-463832.66183176683 175191.60858755515,-463809.5991379325 175191.60858755515,-463809.5991379325 175191.05305173478,-463781.7686682809 175190.68902180286,-463777.4499548278 175188.84977939623,-463685.3099716292 175188.16027894453,-463636.85051467177 175187.33901965822,-463567.87294591265 175186.397583866,-463511.432012076 175185.63424733674,-463449.99595752126 175185.1915846275,-463427.8202021769 175185.1915846275,-463427.8202021769 175185.0654257366,-463421.50011096336 175181.90394193144,-463174.9811225259 175181.5298871231,-463156.24255604297 175180.36606574623,-463102.57890323224 175179.6360599665,-463070.64754632907 175179.6360599665,-463070.64754632907 175179.31955204756,-463054.79181925673 175174.1352393382,-463045.57773955027 175174.25760276947,-463033.15187417716 175173.6634155392,-463017.3016837165 175172.56017525212,-462975.94925227016 175169.18656350966,-462774.46839846764 175167.5706762458,-462665.6844188799 175166.86705725113,-462607.24157759966 175164.36279660233,-462444.6769664441 175162.66577500085,-462341.10767214047 175160.4158145842,-462214.4770377283 175160.13612184415,-462191.1885003452 175160.13612184415,-462191.1885003452 175159.95864830108,-462177.6592656444 175156.60175591504,-461967.7461331971 175154.324938684,-461811.94231713424 175153.81143712136,-461786.21800267324 175153.81143712136,-461786.21800267324 175149.46589820416,-461536.0579310204 175149.3761166829,-461517.6461463659 175149.3867680193,-461513.54170228355 175148.64499790216,-461448.5543336654 175147.73003018773,-461393.44273216696 175147.38515727996,-461380.80412970856 175147.38611765357,-461366.938443298 175146.35137536703,-461352.20602660114 175145.3591071507,-461344.239207631 175145.3591071507,-461344.239207631 175144.4837323408,-461337.49023371283 175140.41231459347,-461319.0469651534 175125.7648727483,-461280.9591396097 175112.60790836797,-461252.6029714723 175103.2855426866,-461230.82577942824 175097.75568447684,-461213.520834567 175093.81014680985,-461196.7388942423 175091.1535885986,-461179.5984501126 175089.60091661237,-461162.1031967243 175089.33981449273,-461149.01918919245 175089.31286981786,-461143.0297451718 175089.100698612,-461109.20166803105 175087.94839943427,-461083.93361621303 175087.94839943427,-461083.93361621303 175086.38974809786,-461047.58109736675 175085.0001590556,-460977.94746262114 175083.38241574258,-460920.0764710973 175083.2130671957,-460897.67282690527 175082.50396662293,-460876.0564299198 175082.50396662293,-460876.0564299198 175080.95521923815,-460826.2815954322 175080.28073658136,-460797.12152472604 175078.75554645422,-460739.2485777736 175077.74552534733,-460702.55220237095 175077.61276296532,-460695.8992857081 175076.48586668968,-460657.98503850726 175076.48586668968,-460657.98503850726 175076.1941859137,-460648.0075053512 175072.4496699112,-460478.9196887156 175070.87984698152,-460414.17000346025 175070.1013755181,-460379.79833966773 175070.1013755181,-460379.79833966773 175070.0526961509,-460377.3589287866 175068.47442624162,-460316.8245525807 175066.3880411875,-460240.1049919054 175065.43477182495,-460196.9735473292 175064.18500255977,-460138.98381789355 175111.55703776854,-460137.81651554536 175126.730095742,-460137.4027114981 175137.27875960182,-460137.19212866714 175137.27875960182,-460137.19212866714 175241.2582912795,-460133.78458625823 175375.13227297913,-460130.11103023076 175450.26164925747,-460128.2760378262 175480.14949844315,-460127.67825129954 175551.50722563156,-460127.0271023703 175569.37034536368,-460126.89148210734 175594.53017905512,-460125.9442181587 175604.70204250127,-460125.40783429006 175614.32093253237,-460124.9934349302 175621.43923799414,-460124.5181571925 175633.59937167345,-460130.8194037103 175667.4572270206,-460129.6977905319 175723.88623216221,-460127.7911840379 175801.49838579868,-460125.12696297886 175865.79034597575,-460122.95094403066 175879.39699395886,-460122.90001950413 175877.6047066338,-460042.73573477846 175877.21790579424,-460023.4421825162 175876.24951565903,-459979.75632456085 175875.8346512828,-459963.6802091999 175874.952958861,-459924.3187460727 175873.58610436003,-459869.99181753537 175872.49268016356,-459829.30343369255 175870.5592274848,-459723.62843573047 175870.15854189862,-459712.87650975585 175866.53959958628,-459606.2368275421 175862.51611258317,-459479.41630120995 175861.01788531328,-459441.61998936255 175859.71582765086,-459404.3743688124 175859.28847823967,-459392.2918084082 175858.8811357596,-459381.20719558233 175857.741310421,-459315.1170567903 175901.5049081783,-459314.2395928912 175901.5049081783,-459314.2395928912 175923.43296714194,-459313.79985128297 175940.36475875552,-459313.46026646113 175947.3017933477,-459313.21019962896 175953.86650971923,-459312.8566675796 175963.29945227606,-459312.4455955182 176014.8016307944,-459309.7484109043 176049.86800196438,-459309.044716252 176064.7642696049,-459308.745742857 176064.7642696049,-459308.745742857 176111.11403821126,-459307.59346874803 176142.4772389933,-459306.852821663 176157.3690494487,-459306.3319245302\" opacity=\"0.8\" /></g></svg>"
      ],
      "text/plain": [
       "<shapely.geometry.linestring.LineString at 0x7ff64428fcd0>"
      ]
     },
     "execution_count": 43,
     "metadata": {},
     "output_type": "execute_result"
    }
   ],
   "source": [
    "a_shape.geometry.iloc[2]"
   ]
  },
  {
   "cell_type": "code",
   "execution_count": null,
   "id": "c4246ba5-1a22-42b8-95ac-f7b22ae02f65",
   "metadata": {},
   "outputs": [],
   "source": [
    "# rt_day.rt_trips.to_parquet(f'{utils.GCS_FILE_PATH}rt_trips/{agency}_02_{day}_pm_peak.parquet') ## early step towards scaling"
   ]
  },
  {
   "cell_type": "markdown",
   "id": "3dfc7faf-bce7-4404-bf69-ee3b2c14ed5a",
   "metadata": {},
   "source": [
    "### another shape"
   ]
  },
  {
   "cell_type": "code",
   "execution_count": 73,
   "id": "9a4f5abf-8b8c-428a-bffc-1c1ae6c87faa",
   "metadata": {},
   "outputs": [],
   "source": [
    "shape2 = lines >> filter(_.shape_id == '1030063')"
   ]
  },
  {
   "cell_type": "code",
   "execution_count": 74,
   "id": "daf69b57-95f6-4bc0-a01a-ea5c9a08a0c6",
   "metadata": {},
   "outputs": [
    {
     "data": {
      "text/html": [
       "<div>\n",
       "<style scoped>\n",
       "    .dataframe tbody tr th:only-of-type {\n",
       "        vertical-align: middle;\n",
       "    }\n",
       "\n",
       "    .dataframe tbody tr th {\n",
       "        vertical-align: top;\n",
       "    }\n",
       "\n",
       "    .dataframe thead th {\n",
       "        text-align: right;\n",
       "    }\n",
       "</style>\n",
       "<table border=\"1\" class=\"dataframe\">\n",
       "  <thead>\n",
       "    <tr style=\"text-align: right;\">\n",
       "      <th></th>\n",
       "      <th>calitp_itp_id</th>\n",
       "      <th>calitp_url_number</th>\n",
       "      <th>calitp_extracted_at</th>\n",
       "      <th>calitp_deleted_at</th>\n",
       "      <th>shape_id</th>\n",
       "      <th>geometry</th>\n",
       "      <th>num_points</th>\n",
       "      <th>has_trip</th>\n",
       "    </tr>\n",
       "  </thead>\n",
       "  <tbody>\n",
       "    <tr>\n",
       "      <th>1</th>\n",
       "      <td>170</td>\n",
       "      <td>0</td>\n",
       "      <td>2021-12-14</td>\n",
       "      <td>2099-01-01</td>\n",
       "      <td>1030063</td>\n",
       "      <td>LINESTRING (173102.310 -461425.826, 173102.310...</td>\n",
       "      <td>4</td>\n",
       "      <td>True</td>\n",
       "    </tr>\n",
       "    <tr>\n",
       "      <th>44</th>\n",
       "      <td>170</td>\n",
       "      <td>0</td>\n",
       "      <td>2021-05-13</td>\n",
       "      <td>2099-01-01</td>\n",
       "      <td>1030063</td>\n",
       "      <td>LINESTRING (171924.612 -460936.065, 171923.003...</td>\n",
       "      <td>168</td>\n",
       "      <td>True</td>\n",
       "    </tr>\n",
       "    <tr>\n",
       "      <th>210</th>\n",
       "      <td>170</td>\n",
       "      <td>0</td>\n",
       "      <td>2022-02-02</td>\n",
       "      <td>2099-01-01</td>\n",
       "      <td>1030063</td>\n",
       "      <td>LINESTRING (171925.408 -460990.847, 171922.908...</td>\n",
       "      <td>422</td>\n",
       "      <td>True</td>\n",
       "    </tr>\n",
       "  </tbody>\n",
       "</table>\n",
       "</div>"
      ],
      "text/plain": [
       "     calitp_itp_id  calitp_url_number calitp_extracted_at calitp_deleted_at  \\\n",
       "1              170                  0          2021-12-14        2099-01-01   \n",
       "44             170                  0          2021-05-13        2099-01-01   \n",
       "210            170                  0          2022-02-02        2099-01-01   \n",
       "\n",
       "    shape_id                                           geometry  num_points  \\\n",
       "1    1030063  LINESTRING (173102.310 -461425.826, 173102.310...           4   \n",
       "44   1030063  LINESTRING (171924.612 -460936.065, 171923.003...         168   \n",
       "210  1030063  LINESTRING (171925.408 -460990.847, 171922.908...         422   \n",
       "\n",
       "     has_trip  \n",
       "1        True  \n",
       "44       True  \n",
       "210      True  "
      ]
     },
     "execution_count": 74,
     "metadata": {},
     "output_type": "execute_result"
    }
   ],
   "source": [
    "shape2"
   ]
  },
  {
   "cell_type": "code",
   "execution_count": 81,
   "id": "d325b2a5-fcc6-4ba5-bdc4-ce510f0a14ba",
   "metadata": {},
   "outputs": [
    {
     "data": {
      "image/svg+xml": [
       "<svg xmlns=\"http://www.w3.org/2000/svg\" xmlns:xlink=\"http://www.w3.org/1999/xlink\" width=\"300\" height=\"300\" viewBox=\"164943.69145730685 -466862.120352511 8937.684630394011 6509.514476369019\" preserveAspectRatio=\"xMinYMin meet\"><g transform=\"matrix(1,0,0,-1,0,-927214.726228653)\"><polyline fill=\"none\" stroke=\"#66cc99\" stroke-width=\"59.58456420262674\" points=\"171924.6122786234,-460936.0653651031 171923.00250370696,-460820.84565091506 171922.8859482611,-460796.00067724567 171922.8571966134,-460780.36077607935 171922.73897096628,-460769.6033390942 171922.91716009803,-460698.3857770362 172104.18177638765,-460693.94445075793 172215.02488675216,-460690.88198107015 172319.2073929162,-460688.0598597913 172427.4724208839,-460685.71089329803 172463.6438490929,-460684.445296912 172475.680316776,-460684.54145718087 172526.49671003417,-460684.2078652135 172544.53724025167,-460683.63123282325 172723.32605885348,-460901.4094922147 172723.59369839114,-460919.7069011247 172724.63362080936,-460967.8280009399 172725.80101171753,-461017.72137050005 172727.62373949733,-461110.3079822678 172727.62373949733,-461110.3079822678 172728.19526135622,-461153.4465815872 172730.98642763172,-461346.9556357027 172731.84088457478,-461432.68366106134 172803.09241156353,-461430.8369802921 173257.43008083836,-461423.43015557993 173471.40008302184,-461419.424255576 173532.15124951306,-461448.39451852906 173532.62843595934,-461481.8843898019 173532.75737992095,-461493.0852482547 173533.4301804873,-461531.7847003653 173533.9262341578,-461552.185048291 173537.61032427437,-461808.6808230467 173537.6410255497,-461810.2331583998 173544.0100610098,-462193.12861729413 173548.20405768216,-462461.3705153777 173548.85224688612,-462503.50869899103 173549.8258070939,-462576.1444196678 173550.3507310196,-462616.73206133395 173507.6811316788,-463043.74307983136 173507.6811316788,-463043.74307983136 173050.5730175674,-463051.10494008195 172712.14775101084,-463056.9954203041 172712.14775101084,-463056.9954203041 172670.85595350948,-463057.3642792143 172594.5710012737,-463058.19938538736 171962.4408035308,-463069.7214601245 171858.7571257489,-463071.08700814797 171427.9336729616,-463077.7386245951 170964.4178813313,-463084.1186598423 170822.5011748066,-463085.9948671083 170795.1002967513,-463086.41726581054 170768.25479722573,-463086.8287718375 170630.24297106615,-463089.51326217037 170569.89817523418,-463091.0191232632 170569.89817523418,-463091.0191232632 170520.93865369598,-463092.30335117225 170431.23403321503,-463093.4913167008 170349.4058987698,-463094.9691650509 170335.61826590222,-463095.45863436675 169967.93720023555,-463101.589212324 169953.59201953138,-463101.9779573404 169939.42981768536,-463102.2522134264 169723.21414829505,-463111.87165114516 169565.96585078412,-463115.79878315283 169257.98969032374,-463120.8567052637 169226.51592422256,-463121.3527568937 169216.3339266045,-463121.5490932041 169216.3339266045,-463121.5490932041 169087.388518841,-463123.81264120573 169002.41508974732,-463125.449447738 168967.8005505101,-463126.33782059466 168856.55607784775,-463129.36636693636 168399.2635197573,-463136.71127532516 168375.47462879217,-463137.16772744246 168266.18409868635,-463160.00628838735 168219.47071171005,-463181.866037047 168203.7867385566,-463189.7093339204 168197.45292761896,-463192.6037710272 168175.85966526193,-463201.3367225481 168175.12339928944,-463201.5726751704 168095.89511582535,-463217.9540904951 168080.54000477982,-463218.80280042393 168019.61075961942,-463252.69140195893 168019.61075961942,-463252.69140195893 168019.77422029822,-463261.22923255805 168020.24717769466,-463295.6058535371 168020.47388166745,-463317.12028478784 168020.61823613863,-463324.660182131 168024.0593886336,-463504.39785391325 168024.68987670273,-463537.32939583156 168025.06349916031,-463556.8443783107 168024.96919680937,-463571.2659404916 168027.9925844611,-463719.5095828208 168035.18908070787,-463800.3441161439 168035.18908070787,-463800.3441161439 168040.09513829256,-464056.5881208135 168044.3081083093,-464320.16545320395 168047.928471794,-464514.0956041687 168049.7066255389,-464602.1320855967 168050.88824762063,-464659.0114089544 168054.1548999154,-464839.30452026566 168054.1548999154,-464839.30452026566 168054.07033678936,-464849.3998344084 168054.6477600188,-464879.5589383715 168048.56513101654,-464919.8283109097 168050.17062910507,-465032.71369792987 168050.3608609109,-465037.81235310156 168055.1157280336,-465247.4698672588 168060.06038239528,-465408.98442364344 168060.22253143103,-465422.2916068835 168060.60675933858,-465442.36059772363 168060.4847746863,-465455.3404590967 168062.76678426584,-465574.5346389292 168063.9797145385,-465642.726503517 168068.21378823285,-465921.938572363 168068.60599610012,-465952.10088425037 168069.25900169878,-465981.3708463474 168069.92049883687,-466011.0843103961 168079.86364946497,-466186.9212401677 168080.76960223532,-466243.9158173278 168041.1106869637,-466243.2330981572 168041.1106869637,-466243.2330981572 167951.80518742866,-466242.72371321544 167811.6797126264,-466248.8418241814 167759.4997212442,-466252.16838058503 167671.02179965386,-466256.18796265824 167645.00001489336,-466256.5740013737 167615.9246556196,-466257.1291831243 167598.7942679273,-466257.45623557176 167578.88597872472,-466257.8362815543 167499.24012028266,-466258.6907484438 167406.91696748574,-466260.2299183388 167386.26789819315,-466260.6236533802 167280.41715250118,-466261.9757378134 167275.6968314363,-466262.1765987249 167201.70991709668,-466263.4751272169 167102.17050473954,-466265.4812809555 167002.6268499221,-466267.26455064956 166975.12770974933,-466267.89854265796 166906.87753749164,-466268.863635737 166872.4357372143,-466269.74021577183 166861.50931214695,-466269.9479007013 166861.50931214695,-466269.9479007013 166845.39957178518,-466270.3650009115 166672.98424567212,-466273.6400819416 166645.8470499408,-466273.8224993474 166550.64694574263,-466275.07451946056 166550.64694574263,-466275.07451946056 166550.64694574263,-466275.07451946056 166448.44310592863,-466278.23298328184 166113.05487454176,-466284.47458104 166046.3850463573,-466285.7358325273 165997.5885264749,-466286.76955558406 165844.90861414687,-466290.3206834006 165793.88973704513,-466291.39525622455 165768.14985009076,-466291.99224158935 165641.48333603944,-466294.71584397694 165615.4740129959,-466295.76113520423 165593.33703223526,-466295.8459682758 165541.00921570457,-466296.2782555921 165537.21273453173,-466296.34984307084 165537.21273453173,-466296.34984307084 165514.98733903287,-466296.6579807205 165490.4511955767,-466297.2314566327 165465.26478057244,-466297.70620271005 165391.09239547595,-466298.99296228075 165370.08377141232,-466531.09499582974 165274.7168139881,-466518.6934616277\" opacity=\"0.8\" /></g></svg>"
      ],
      "text/plain": [
       "<shapely.geometry.linestring.LineString at 0x7ff6522b16d0>"
      ]
     },
     "execution_count": 81,
     "metadata": {},
     "output_type": "execute_result"
    }
   ],
   "source": [
    "shape2.geometry.iloc[1]"
   ]
  },
  {
   "cell_type": "markdown",
   "id": "06af4bc3-016b-4f01-953e-805dc760c771",
   "metadata": {},
   "source": [
    "### Ongoing issues\n",
    "* 358 Union City too many trips without shape?"
   ]
  },
  {
   "cell_type": "code",
   "execution_count": null,
   "id": "79aad356-eb75-43c0-8cd9-9f81b1748aee",
   "metadata": {},
   "outputs": [],
   "source": [
    "# air_joined['url'] = air_joined.apply(lambda x:\n",
    "#                     f'http://docs.calitp.org/data-analyses/rt_delay/speedmaps/{x.calitp_itp_id}_02_08_pm_peak.html',\n",
    "#                                     axis = 1)\n",
    "\n",
    "# air_joined.to_csv('linked.csv')"
   ]
  }
 ],
 "metadata": {
  "kernelspec": {
   "display_name": "Python 3 (ipykernel)",
   "language": "python",
   "name": "python3"
  },
  "language_info": {
   "codemirror_mode": {
    "name": "ipython",
    "version": 3
   },
   "file_extension": ".py",
   "mimetype": "text/x-python",
   "name": "python",
   "nbconvert_exporter": "python",
   "pygments_lexer": "ipython3",
   "version": "3.9.10"
  }
 },
 "nbformat": 4,
 "nbformat_minor": 5
}
