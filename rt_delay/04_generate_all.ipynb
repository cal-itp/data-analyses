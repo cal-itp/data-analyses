{
 "cells": [
  {
   "cell_type": "code",
   "execution_count": 1,
   "id": "3aa74ab9-57b7-44cf-ab84-4f6514fc0397",
   "metadata": {},
   "outputs": [
    {
     "name": "stderr",
     "output_type": "stream",
     "text": [
      "/opt/conda/lib/python3.9/site-packages/geopandas/_compat.py:111: UserWarning: The Shapely GEOS version (3.10.2-CAPI-1.16.0) is incompatible with the GEOS version PyGEOS was compiled with (3.10.1-CAPI-1.16.0). Conversions between both will be slow.\n",
      "  warnings.warn(\n",
      "E0407 00:26:14.823609865    1468 fork_posix.cc:70]           Fork support is only compatible with the epoll1 and poll polling strategies\n",
      "E0407 00:26:17.202013938    1468 fork_posix.cc:70]           Fork support is only compatible with the epoll1 and poll polling strategies\n"
     ]
    }
   ],
   "source": [
    "import os\n",
    "os.environ[\"CALITP_BQ_MAX_BYTES\"] = str(800_000_000_000)\n",
    "\n",
    "from calitp.tables import tbl\n",
    "from calitp import query_sql\n",
    "import calitp.magics\n",
    "import branca\n",
    "\n",
    "import shared_utils\n",
    "import utils\n",
    "\n",
    "from siuba import *\n",
    "import pandas as pd\n",
    "import geopandas as gpd\n",
    "import shapely\n",
    "\n",
    "import datetime as dt\n",
    "import time\n",
    "from zoneinfo import ZoneInfo\n",
    "\n",
    "import rt_analysis as rt\n",
    "import importlib\n",
    "\n",
    "import gcsfs\n",
    "fs = gcsfs.GCSFileSystem()\n",
    "\n",
    "from tqdm import tqdm_notebook\n",
    "from tqdm.notebook import trange, tqdm"
   ]
  },
  {
   "cell_type": "code",
   "execution_count": 2,
   "id": "c20d02bc-3636-4306-ad4c-a99d62011d78",
   "metadata": {},
   "outputs": [
    {
     "data": {
      "text/plain": [
       "<module 'rt_analysis' from '/home/jovyan/data-analyses/rt_delay/rt_analysis.py'>"
      ]
     },
     "execution_count": 2,
     "metadata": {},
     "output_type": "execute_result"
    }
   ],
   "source": [
    "importlib.reload(utils)\n",
    "importlib.reload(rt)"
   ]
  },
  {
   "cell_type": "code",
   "execution_count": 3,
   "id": "3a5bcb4a-6020-4943-840a-584548362563",
   "metadata": {},
   "outputs": [],
   "source": [
    "air_joined = pd.read_parquet('airtable_joined.parquet')"
   ]
  },
  {
   "cell_type": "code",
   "execution_count": 4,
   "id": "2f69aea6-3c0b-405c-95a7-2f85b18adaf6",
   "metadata": {},
   "outputs": [],
   "source": [
    "# # ran_operators = [int(filename.split('_')[0]) for filename in os.listdir('speedmaps') if filename[0] != '.']\n",
    "ran_operators = []"
   ]
  },
  {
   "cell_type": "code",
   "execution_count": 5,
   "id": "cbadc13a-3f4e-41f2-95e1-999f5d3bb348",
   "metadata": {},
   "outputs": [
    {
     "data": {
      "application/vnd.jupyter.widget-view+json": {
       "model_id": "d372279229ff47e7bcf8fbd20171a788",
       "version_major": 2,
       "version_minor": 0
      },
      "text/plain": [
       "0it [00:00, ?it/s]"
      ]
     },
     "metadata": {},
     "output_type": "display_data"
    }
   ],
   "source": [
    "pbar = tqdm()"
   ]
  },
  {
   "cell_type": "markdown",
   "id": "ef3b629a-5c50-476b-b7e2-58d07e6163d8",
   "metadata": {},
   "source": [
    "#### Run all operators"
   ]
  },
  {
   "cell_type": "code",
   "execution_count": 6,
   "id": "1b61314c-082f-4008-8821-404faa01443f",
   "metadata": {},
   "outputs": [],
   "source": [
    "fs_list = fs.ls(f'{utils.GCS_FILE_PATH}rt_trips/')"
   ]
  },
  {
   "cell_type": "code",
   "execution_count": 7,
   "id": "71803f31-26b2-486d-ba0e-3dd335b70f95",
   "metadata": {},
   "outputs": [],
   "source": [
    "# ran_operators = [int(path.split('rt_trips/')[1].split('_')[0])\n",
    "#                  for path in fs_list\n",
    "#                  if path.split('rt_trips/')[1]]"
   ]
  },
  {
   "cell_type": "code",
   "execution_count": 51,
   "id": "9f55f46f-e297-4a57-ba18-86f855bc3a7c",
   "metadata": {
    "tags": []
   },
   "outputs": [
    {
     "name": "stdout",
     "output_type": "stream",
     "text": [
      "calculating for agency: 300...\n",
      "found parquet\n"
     ]
    },
    {
     "name": "stderr",
     "output_type": "stream",
     "text": [
      "/home/jovyan/data-analyses/_shared_utils/shared_utils/utils.py:38: UserWarning: this is an initial implementation of Parquet/Feather file support and associated metadata.  This is tracking version 0.1.0 of the metadata specification at https://github.com/geopandas/geo-arrow-spec\n",
      "\n",
      "This metadata specification does not yet make stability promises.  We do not yet recommend using this in a production setting unless you are able to rewrite your Parquet/Feather files.\n",
      "\n",
      "To further ignore this warning, you can do: \n",
      "import warnings; warnings.filterwarnings('ignore', message='.*initial implementation of Parquet.*')\n",
      "/home/jovyan/data-analyses/_shared_utils/shared_utils/utils.py:38: UserWarning: this is an initial implementation of Parquet/Feather file support and associated metadata.  This is tracking version 0.1.0 of the metadata specification at https://github.com/geopandas/geo-arrow-spec\n",
      "\n",
      "This metadata specification does not yet make stability promises.  We do not yet recommend using this in a production setting unless you are able to rewrite your Parquet/Feather files.\n",
      "\n",
      "To further ignore this warning, you can do: \n",
      "import warnings; warnings.filterwarnings('ignore', message='.*initial implementation of Parquet.*')\n",
      "/home/jovyan/data-analyses/_shared_utils/shared_utils/utils.py:38: UserWarning: this is an initial implementation of Parquet/Feather file support and associated metadata.  This is tracking version 0.1.0 of the metadata specification at https://github.com/geopandas/geo-arrow-spec\n",
      "\n",
      "This metadata specification does not yet make stability promises.  We do not yet recommend using this in a production setting unless you are able to rewrite your Parquet/Feather files.\n",
      "\n",
      "To further ignore this warning, you can do: \n",
      "import warnings; warnings.filterwarnings('ignore', message='.*initial implementation of Parquet.*')\n",
      "/home/jovyan/data-analyses/_shared_utils/shared_utils/utils.py:38: UserWarning: this is an initial implementation of Parquet/Feather file support and associated metadata.  This is tracking version 0.1.0 of the metadata specification at https://github.com/geopandas/geo-arrow-spec\n",
      "\n",
      "This metadata specification does not yet make stability promises.  We do not yet recommend using this in a production setting unless you are able to rewrite your Parquet/Feather files.\n",
      "\n",
      "To further ignore this warning, you can do: \n",
      "import warnings; warnings.filterwarnings('ignore', message='.*initial implementation of Parquet.*')\n"
     ]
    },
    {
     "name": "stdout",
     "output_type": "stream",
     "text": [
      "complete for agency: 300\n"
     ]
    }
   ],
   "source": [
    "# for agency in air_joined.calitp_itp_id.unique():\n",
    "for agency in [300]:\n",
    "    not_ran_operators = []\n",
    "    if agency in ran_operators:\n",
    "        print(f'already ran: {agency}')\n",
    "        continue\n",
    "    analysis_date = dt.date(2022, 3, 30) ##wednesday, new tables\n",
    "    day = str(analysis_date.day).zfill(2)\n",
    "    month = str(analysis_date.month).zfill(2)\n",
    "    print(f'calculating for agency: {agency}...')\n",
    "    try:\n",
    "        rt_day = rt.OperatorDayAnalysis(agency, analysis_date, pbar)\n",
    "        delay_to_parquet = rt_day.stop_delay_view.copy()\n",
    "        delay_to_parquet['delay_seconds'] = delay_to_parquet.delay.map(lambda x: x.seconds)\n",
    "        delay_to_parquet['arrival_time'] = delay_to_parquet.arrival_time.map(lambda x: x.isoformat())\n",
    "        delay_to_parquet['actual_time'] = delay_to_parquet.actual_time.map(lambda x: x.isoformat())\n",
    "        delay_to_parquet = delay_to_parquet >> select(-_.delay)\n",
    "        shared_utils.utils.geoparquet_gcs_export(delay_to_parquet,\n",
    "                                         f'{utils.GCS_FILE_PATH}stop_delay_views/',\n",
    "                                        f'{agency}_{month}_{day}'\n",
    "                                        )\n",
    "        # rt_day.set_filter(start_time='15:00', end_time='19:00')\n",
    "        # m = rt_day.segment_speed_map(how='low_speeds', size = [1300, 700])\n",
    "        # shared_utils.utils.geoparquet_gcs_export(rt_day.stop_segment_speed_view,\n",
    "        #                                          f'{utils.GCS_FILE_PATH}segment_speed_views/',\n",
    "        #                                         f'{agency}_{month}_{day}_pm_peak'\n",
    "        #                                         )\n",
    "        rt_day.rt_trips.to_parquet(f'{utils.GCS_FILE_PATH}rt_trips/{agency}_{month}_{day}.parquet') ## early step towards scaling\n",
    "        # m.save(f'./speedmaps/{agency}_02_{day}_pm_peak.html')\n",
    "        # rt_day.stop_segment_speed_view.to_parquet(f'{utils.GCS_FILE_PATH}segment_speed_views/{agency}_02_{day}_pm_peak.parquet') ## early step towards scaling\n",
    "        delay_to_parquet = rt_day.endpoint_delay_view.copy()\n",
    "        delay_to_parquet['delay_seconds'] = delay_to_parquet.delay.map(lambda x: x.seconds)\n",
    "        delay_to_parquet = delay_to_parquet >> select(-_.delay)\n",
    "        shared_utils.utils.geoparquet_gcs_export(delay_to_parquet,\n",
    "                                         f'{utils.GCS_FILE_PATH}endpoint_delay_views/',\n",
    "                                        f'{agency}_{month}_{day}_pm_peak'\n",
    "                                        )\n",
    "        print(f'complete for agency: {agency}')\n",
    "    except Exception as e:\n",
    "        print(f'rt failed for agency {agency}')\n",
    "        not_ran_operators += [agency]\n",
    "        print(e)"
   ]
  },
  {
   "cell_type": "markdown",
   "id": "06af4bc3-016b-4f01-953e-805dc760c771",
   "metadata": {},
   "source": [
    "### Ongoing issues\n",
    "* 358 Union City too many trips without shape?"
   ]
  },
  {
   "cell_type": "code",
   "execution_count": 28,
   "id": "79aad356-eb75-43c0-8cd9-9f81b1748aee",
   "metadata": {},
   "outputs": [],
   "source": [
    "# air_joined['url'] = air_joined.apply(lambda x:\n",
    "#                     f'http://docs.calitp.org/data-analyses/rt_delay/speedmaps/{x.calitp_itp_id}_02_08_pm_peak.html',\n",
    "#                                     axis = 1)\n",
    "\n",
    "# air_joined.to_csv('linked.csv')"
   ]
  }
 ],
 "metadata": {
  "kernelspec": {
   "display_name": "Python 3 (ipykernel)",
   "language": "python",
   "name": "python3"
  },
  "language_info": {
   "codemirror_mode": {
    "name": "ipython",
    "version": 3
   },
   "file_extension": ".py",
   "mimetype": "text/x-python",
   "name": "python",
   "nbconvert_exporter": "python",
   "pygments_lexer": "ipython3",
   "version": "3.9.10"
  }
 },
 "nbformat": 4,
 "nbformat_minor": 5
}
