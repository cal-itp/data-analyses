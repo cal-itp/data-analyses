{
 "cells": [
  {
   "cell_type": "code",
   "execution_count": 8,
   "id": "3aa74ab9-57b7-44cf-ab84-4f6514fc0397",
   "metadata": {},
   "outputs": [],
   "source": [
    "import os\n",
    "os.environ[\"CALITP_BQ_MAX_BYTES\"] = str(400_000_000_000)\n",
    "\n",
    "from calitp.tables import tbl\n",
    "from calitp import query_sql\n",
    "import calitp.magics\n",
    "import branca\n",
    "\n",
    "import shared_utils\n",
    "import utils\n",
    "\n",
    "from siuba import *\n",
    "import pandas as pd\n",
    "import geopandas as gpd\n",
    "import shapely\n",
    "\n",
    "import datetime as dt\n",
    "import time\n",
    "from zoneinfo import ZoneInfo\n",
    "\n",
    "import rt_analysis as rt\n",
    "import importlib\n",
    "\n",
    "import gcsfs\n",
    "fs = gcsfs.GCSFileSystem()\n",
    "\n",
    "from tqdm import tqdm_notebook\n",
    "from tqdm.notebook import trange, tqdm"
   ]
  },
  {
   "cell_type": "code",
   "execution_count": 9,
   "id": "c20d02bc-3636-4306-ad4c-a99d62011d78",
   "metadata": {},
   "outputs": [
    {
     "data": {
      "text/plain": [
       "<module 'rt_analysis' from '/home/jovyan/data-analyses/rt_delay/rt_analysis.py'>"
      ]
     },
     "execution_count": 9,
     "metadata": {},
     "output_type": "execute_result"
    }
   ],
   "source": [
    "importlib.reload(utils)\n",
    "importlib.reload(rt)"
   ]
  },
  {
   "cell_type": "code",
   "execution_count": 10,
   "id": "3a5bcb4a-6020-4943-840a-584548362563",
   "metadata": {},
   "outputs": [],
   "source": [
    "air_joined = pd.read_parquet('airtable_joined.parquet')"
   ]
  },
  {
   "cell_type": "code",
   "execution_count": 11,
   "id": "2f69aea6-3c0b-405c-95a7-2f85b18adaf6",
   "metadata": {},
   "outputs": [],
   "source": [
    "# ran_operators = [int(filename.split('_')[0]) for filename in os.listdir('speedmaps') if filename[0] != '.']\n",
    "ran_operators = []"
   ]
  },
  {
   "cell_type": "code",
   "execution_count": 12,
   "id": "cbadc13a-3f4e-41f2-95e1-999f5d3bb348",
   "metadata": {},
   "outputs": [
    {
     "data": {
      "application/vnd.jupyter.widget-view+json": {
       "model_id": "4da3c0cf38664aaabebc9313b46cabbf",
       "version_major": 2,
       "version_minor": 0
      },
      "text/plain": [
       "0it [00:00, ?it/s]"
      ]
     },
     "metadata": {},
     "output_type": "display_data"
    }
   ],
   "source": [
    "pbar = tqdm()"
   ]
  },
  {
   "cell_type": "code",
   "execution_count": 17,
   "id": "ccbf21d8-9088-49bf-8c7d-58716ddfcd75",
   "metadata": {},
   "outputs": [],
   "source": [
    "agency = 290\n",
    "analysis_date = dt.date(2022, 3, 23) ##wednesday, new tables"
   ]
  },
  {
   "cell_type": "code",
   "execution_count": 19,
   "id": "cc4b68b1-5bf5-49ff-982b-ade981c255fc",
   "metadata": {
    "tags": []
   },
   "outputs": [
    {
     "name": "stderr",
     "output_type": "stream",
     "text": [
      "/home/jovyan/data-analyses/_shared_utils/shared_utils/utils.py:38: UserWarning: this is an initial implementation of Parquet/Feather file support and associated metadata.  This is tracking version 0.1.0 of the metadata specification at https://github.com/geopandas/geo-arrow-spec\n",
      "\n",
      "This metadata specification does not yet make stability promises.  We do not yet recommend using this in a production setting unless you are able to rewrite your Parquet/Feather files.\n",
      "\n",
      "To further ignore this warning, you can do: \n",
      "import warnings; warnings.filterwarnings('ignore', message='.*initial implementation of Parquet.*')\n"
     ]
    },
    {
     "name": "stdout",
     "output_type": "stream",
     "text": [
      "found_parquet\n",
      "6591 scheduled trips out of 6694 have no shape, dropping\n"
     ]
    },
    {
     "ename": "AssertionError",
     "evalue": ">10% of trips have no shape!",
     "output_type": "error",
     "traceback": [
      "\u001b[0;31m---------------------------------------------------------------------------\u001b[0m",
      "\u001b[0;31mAssertionError\u001b[0m                            Traceback (most recent call last)",
      "Input \u001b[0;32mIn [19]\u001b[0m, in \u001b[0;36m<cell line: 1>\u001b[0;34m()\u001b[0m\n\u001b[0;32m----> 1\u001b[0m rt_day \u001b[38;5;241m=\u001b[39m \u001b[43mrt\u001b[49m\u001b[38;5;241;43m.\u001b[39;49m\u001b[43mOperatorDayAnalysis\u001b[49m\u001b[43m(\u001b[49m\u001b[43magency\u001b[49m\u001b[43m,\u001b[49m\u001b[43m \u001b[49m\u001b[43manalysis_date\u001b[49m\u001b[43m,\u001b[49m\u001b[43m \u001b[49m\u001b[43mpbar\u001b[49m\u001b[43m)\u001b[49m\n",
      "File \u001b[0;32m~/data-analyses/rt_delay/rt_analysis.py:282\u001b[0m, in \u001b[0;36mOperatorDayAnalysis.__init__\u001b[0;34m(self, itp_id, analysis_date, pbar)\u001b[0m\n\u001b[1;32m    280\u001b[0m     no_shape_trs \u001b[38;5;241m=\u001b[39m \u001b[38;5;28mself\u001b[39m\u001b[38;5;241m.\u001b[39mtrs \u001b[38;5;241m>>\u001b[39m \u001b[38;5;28mfilter\u001b[39m(\u001b[38;5;241m-\u001b[39m_\u001b[38;5;241m.\u001b[39mshape_id\u001b[38;5;241m.\u001b[39misin(\u001b[38;5;28mself\u001b[39m\u001b[38;5;241m.\u001b[39mroutelines\u001b[38;5;241m.\u001b[39mshape_id))\n\u001b[1;32m    281\u001b[0m     \u001b[38;5;28mprint\u001b[39m(\u001b[38;5;124mf\u001b[39m\u001b[38;5;124m'\u001b[39m\u001b[38;5;132;01m{\u001b[39;00mno_shape_trs\u001b[38;5;241m.\u001b[39mshape[\u001b[38;5;241m0\u001b[39m]\u001b[38;5;132;01m}\u001b[39;00m\u001b[38;5;124m scheduled trips out of \u001b[39m\u001b[38;5;132;01m{\u001b[39;00m\u001b[38;5;28mself\u001b[39m\u001b[38;5;241m.\u001b[39mtrs\u001b[38;5;241m.\u001b[39mshape[\u001b[38;5;241m0\u001b[39m]\u001b[38;5;132;01m}\u001b[39;00m\u001b[38;5;124m have no shape, dropping\u001b[39m\u001b[38;5;124m'\u001b[39m)\n\u001b[0;32m--> 282\u001b[0m     \u001b[38;5;28;01massert\u001b[39;00m no_shape_trs\u001b[38;5;241m.\u001b[39mshape[\u001b[38;5;241m0\u001b[39m] \u001b[38;5;241m<\u001b[39m \u001b[38;5;28mself\u001b[39m\u001b[38;5;241m.\u001b[39mtrs\u001b[38;5;241m.\u001b[39mshape[\u001b[38;5;241m0\u001b[39m] \u001b[38;5;241m/\u001b[39m \u001b[38;5;241m10\u001b[39m, \u001b[38;5;124m'\u001b[39m\u001b[38;5;124m>10\u001b[39m\u001b[38;5;132;01m% o\u001b[39;00m\u001b[38;5;124mf trips have no shape!\u001b[39m\u001b[38;5;124m'\u001b[39m\n\u001b[1;32m    283\u001b[0m     \u001b[38;5;28mself\u001b[39m\u001b[38;5;241m.\u001b[39mtrs \u001b[38;5;241m=\u001b[39m \u001b[38;5;28mself\u001b[39m\u001b[38;5;241m.\u001b[39mtrs \u001b[38;5;241m>>\u001b[39m \u001b[38;5;28mfilter\u001b[39m(_\u001b[38;5;241m.\u001b[39mshape_id\u001b[38;5;241m.\u001b[39misin(\u001b[38;5;28mself\u001b[39m\u001b[38;5;241m.\u001b[39mroutelines\u001b[38;5;241m.\u001b[39mshape_id))\n\u001b[1;32m    284\u001b[0m \u001b[38;5;28mself\u001b[39m\u001b[38;5;241m.\u001b[39mtrs[\u001b[38;5;124m'\u001b[39m\u001b[38;5;124mshape_meters\u001b[39m\u001b[38;5;124m'\u001b[39m] \u001b[38;5;241m=\u001b[39m (\u001b[38;5;28mself\u001b[39m\u001b[38;5;241m.\u001b[39mtrs\u001b[38;5;241m.\u001b[39mapply(\u001b[38;5;28;01mlambda\u001b[39;00m x:\n\u001b[1;32m    285\u001b[0m         (\u001b[38;5;28mself\u001b[39m\u001b[38;5;241m.\u001b[39mroutelines \u001b[38;5;241m>>\u001b[39m \u001b[38;5;28mfilter\u001b[39m(_\u001b[38;5;241m.\u001b[39mshape_id \u001b[38;5;241m==\u001b[39m x\u001b[38;5;241m.\u001b[39mshape_id))\u001b[38;5;241m.\u001b[39mgeometry\u001b[38;5;241m.\u001b[39miloc[\u001b[38;5;241m0\u001b[39m]\u001b[38;5;241m.\u001b[39mproject(x\u001b[38;5;241m.\u001b[39mgeometry),\n\u001b[1;32m    286\u001b[0m  axis \u001b[38;5;241m=\u001b[39m \u001b[38;5;241m1\u001b[39m))\n",
      "\u001b[0;31mAssertionError\u001b[0m: >10% of trips have no shape!"
     ]
    }
   ],
   "source": [
    "rt_day = rt.OperatorDayAnalysis(agency, analysis_date, pbar)"
   ]
  },
  {
   "cell_type": "code",
   "execution_count": null,
   "id": "9f55f46f-e297-4a57-ba18-86f855bc3a7c",
   "metadata": {
    "tags": []
   },
   "outputs": [],
   "source": [
    "# for agency in air_joined.calitp_itp_id.unique():\n",
    "for agency in [290]:\n",
    "    not_ran_operators = []\n",
    "    if agency in ran_operators:\n",
    "        print(f'already ran: {agency}')\n",
    "        continue\n",
    "    analysis_date = dt.date(2022, 3, 23) ##wednesday, new tables\n",
    "    day = str(analysis_date.day).zfill(2)\n",
    "    print(f'calculating for agency: {agency}...')\n",
    "    try:\n",
    "        rt_day = rt.OperatorDayAnalysis(agency, analysis_date, pbar)\n",
    "        rt_day.set_filter(start_time='15:00', end_time='19:00')\n",
    "        m = rt_day.segment_speed_map(how='low_speeds', size = [1300, 700])\n",
    "        shared_utils.utils.geoparquet_gcs_export(rt_day.stop_segment_speed_view,\n",
    "                                                 f'{utils.GCS_FILE_PATH}segment_speed_views',\n",
    "                                                f'{agency}_02_{day}_pm_peak'\n",
    "                                                )\n",
    "        rt_day.rt_trips.to_parquet(f'{utils.GCS_FILE_PATH}rt_trips/{agency}_02_{day}_pm_peak.parquet') ## early step towards scaling\n",
    "        # m.save(f'./speedmaps/{agency}_02_{day}_pm_peak.html')\n",
    "        # rt_day.stop_segment_speed_view.to_parquet(f'{utils.GCS_FILE_PATH}segment_speed_views/{agency}_02_{day}_pm_peak.parquet') ## early step towards scaling\n",
    "        delay_to_parquet = rt_day.endpoint_delay_view.copy()\n",
    "        delay_to_parquet['delay_seconds'] = delay_to_parquet.delay.map(lambda x: x.seconds)\n",
    "        delay_to_parquet = delay_to_parquet >> select(-_.delay)\n",
    "        delay_to_parquet.to_parquet(f'{utils.GCS_FILE_PATH}endpoint_delay_views/{agency}_02_{day}_pm_peak.parquet') ## early step towards scaling\n",
    "        print(f'complete for agency: {agency}')\n",
    "    except Exception as e:\n",
    "        print(f'rt failed for agency {agency}')\n",
    "        not_ran_operators += [agency]\n",
    "        print(e)"
   ]
  },
  {
   "cell_type": "code",
   "execution_count": null,
   "id": "3c921826-d314-4343-8d67-72bf72d05435",
   "metadata": {},
   "outputs": [],
   "source": [
    "m = rt_day.segment_speed_map(how='low_speeds', size = [1300, 700])\n",
    "shared_utils.utils.geoparquet_gcs_export(rt_day.stop_segment_speed_view,\n",
    "                                         f'{utils.GCS_FILE_PATH}segment_speed_views',\n",
    "                                        f'{agency}_02_{day}_pm_peak'\n",
    "                                        )\n",
    "rt_day.rt_trips.to_parquet(f'{utils.GCS_FILE_PATH}rt_trips/{agency}_02_{day}_pm_peak.parquet') ## early step towards scaling\n",
    "# m.save(f'./speedmaps/{agency}_02_{day}_pm_peak.html')\n",
    "# rt_day.stop_segment_speed_view.to_parquet(f'{utils.GCS_FILE_PATH}segment_speed_views/{agency}_02_{day}_pm_peak.parquet') ## early step towards scaling\n",
    "delay_to_parquet = rt_day.endpoint_delay_view.copy()\n",
    "delay_to_parquet['delay_seconds'] = delay_to_parquet.delay.map(lambda x: x.seconds)\n",
    "delay_to_parquet = delay_to_parquet >> select(-_.delay)\n",
    "delay_to_parquet.to_parquet(f'{utils.GCS_FILE_PATH}endpoint_delay_views/{agency}_02_{day}_pm_peak.parquet') ## early step towards scaling"
   ]
  },
  {
   "cell_type": "code",
   "execution_count": 7,
   "id": "c4246ba5-1a22-42b8-95ac-f7b22ae02f65",
   "metadata": {},
   "outputs": [],
   "source": [
    "# rt_day.rt_trips.to_parquet(f'{utils.GCS_FILE_PATH}rt_trips/{agency}_02_{day}_pm_peak.parquet') ## early step towards scaling"
   ]
  },
  {
   "cell_type": "markdown",
   "id": "06af4bc3-016b-4f01-953e-805dc760c771",
   "metadata": {},
   "source": [
    "### Ongoing issues\n",
    "* 358 Union City too many trips without shape?"
   ]
  },
  {
   "cell_type": "code",
   "execution_count": 8,
   "id": "79aad356-eb75-43c0-8cd9-9f81b1748aee",
   "metadata": {},
   "outputs": [],
   "source": [
    "# air_joined['url'] = air_joined.apply(lambda x:\n",
    "#                     f'http://docs.calitp.org/data-analyses/rt_delay/speedmaps/{x.calitp_itp_id}_02_08_pm_peak.html',\n",
    "#                                     axis = 1)\n",
    "\n",
    "# air_joined.to_csv('linked.csv')"
   ]
  }
 ],
 "metadata": {
  "kernelspec": {
   "display_name": "Python 3 (ipykernel)",
   "language": "python",
   "name": "python3"
  },
  "language_info": {
   "codemirror_mode": {
    "name": "ipython",
    "version": 3
   },
   "file_extension": ".py",
   "mimetype": "text/x-python",
   "name": "python",
   "nbconvert_exporter": "python",
   "pygments_lexer": "ipython3",
   "version": "3.9.10"
  }
 },
 "nbformat": 4,
 "nbformat_minor": 5
}
