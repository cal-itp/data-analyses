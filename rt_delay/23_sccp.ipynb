{
 "cells": [
  {
   "cell_type": "code",
   "execution_count": 1,
   "id": "a51f0c99-91a1-4406-824c-215139aa98d0",
   "metadata": {},
   "outputs": [],
   "source": [
    "%%capture\n",
    "import warnings\n",
    "warnings.filterwarnings('ignore')\n",
    "\n",
    "import os\n",
    "os.environ[\"CALITP_BQ_MAX_BYTES\"] = str(800_000_000_000)\n",
    "import shared_utils\n",
    "\n",
    "from calitp.tables import tbl\n",
    "from calitp import query_sql\n",
    "import calitp.magics\n",
    "\n",
    "from siuba import *\n",
    "import pandas as pd\n",
    "import geopandas as gpd\n",
    "\n",
    "import datetime as dt\n",
    "\n",
    "import importlib\n",
    "import rt_analysis as rt\n",
    "import rt_filter_map_plot\n",
    "\n",
    "from IPython.display import display, Markdown, Latex, HTML\n",
    "import json\n",
    "\n",
    "from tqdm import tqdm_notebook\n",
    "from tqdm.notebook import trange, tqdm"
   ]
  },
  {
   "cell_type": "code",
   "execution_count": 2,
   "id": "4b58ce84-e956-4f47-b2fd-d7a3ff07b46f",
   "metadata": {},
   "outputs": [
    {
     "data": {
      "text/plain": [
       "<module 'rt_filter_map_plot' from '/home/jovyan/data-analyses/rt_delay/rt_filter_map_plot.py'>"
      ]
     },
     "execution_count": 2,
     "metadata": {},
     "output_type": "execute_result"
    }
   ],
   "source": [
    "importlib.reload(rt_filter_map_plot)"
   ]
  },
  {
   "cell_type": "code",
   "execution_count": 3,
   "id": "a98a9208-4023-4205-8088-f68bb560ee3f",
   "metadata": {},
   "outputs": [],
   "source": [
    "# itp_id = 4 ## AC Transit\n",
    "itp_id = 159 ## Lake Transit"
   ]
  },
  {
   "cell_type": "code",
   "execution_count": 4,
   "id": "4331503f-09b5-4eb1-9b1a-8e5494a003c0",
   "metadata": {},
   "outputs": [],
   "source": [
    "import numpy as np"
   ]
  },
  {
   "cell_type": "code",
   "execution_count": 5,
   "id": "4ce12969-7cd3-4cd7-b760-c6f7826b85e5",
   "metadata": {},
   "outputs": [],
   "source": [
    "date_range = np.arange('2022-04-30', '2022-05-09', dtype='datetime64[D]')"
   ]
  },
  {
   "cell_type": "code",
   "execution_count": 6,
   "id": "3ca84d5f-48cd-4de9-be49-78bdb46168dc",
   "metadata": {},
   "outputs": [
    {
     "data": {
      "text/plain": [
       "array(['2022-04-30', '2022-05-01', '2022-05-02', '2022-05-03',\n",
       "       '2022-05-04', '2022-05-05', '2022-05-06', '2022-05-07',\n",
       "       '2022-05-08'], dtype='datetime64[D]')"
      ]
     },
     "execution_count": 6,
     "metadata": {},
     "output_type": "execute_result"
    }
   ],
   "source": [
    "date_range"
   ]
  },
  {
   "cell_type": "markdown",
   "id": "3209f492-611b-4aa9-9c49-9c473328426c",
   "metadata": {},
   "source": [
    "# Generate analysis data for all dates"
   ]
  },
  {
   "cell_type": "code",
   "execution_count": 7,
   "id": "8a482937-4925-42cf-95d3-73120a5348c2",
   "metadata": {},
   "outputs": [
    {
     "data": {
      "application/vnd.jupyter.widget-view+json": {
       "model_id": "915a9cd649bb45369455abda137c7130",
       "version_major": 2,
       "version_minor": 0
      },
      "text/plain": [
       "0it [00:00, ?it/s]"
      ]
     },
     "metadata": {},
     "output_type": "display_data"
    }
   ],
   "source": [
    "pbar = tqdm()"
   ]
  },
  {
   "cell_type": "code",
   "execution_count": 8,
   "id": "f1c3a1f9-44e3-4d73-a913-06cc3286eaf4",
   "metadata": {
    "tags": []
   },
   "outputs": [],
   "source": [
    "# for date in date_range:\n",
    "#     date = date.astype(dt.date)\n",
    "#     try:\n",
    "#         rt_analysis = rt.OperatorDayAnalysis(itp_id, date, pbar)\n",
    "#         rt_analysis.export_views_gcs()\n",
    "#         print(f'complete for date: {date}')\n",
    "#     except Exception as e:\n",
    "#         print(e)\n",
    "#         print(f'failed for date: {date}')\n",
    "#         continue"
   ]
  },
  {
   "cell_type": "code",
   "execution_count": 9,
   "id": "ff28c6a8-eab8-48d6-b904-27e108d81cd0",
   "metadata": {},
   "outputs": [
    {
     "name": "stdout",
     "output_type": "stream",
     "text": [
      "failed for date: 2022-04-30\n",
      "failed for date: 2022-05-01\n",
      "found parquet\n",
      "complete for date: 2022-05-02\n",
      "found parquet\n",
      "complete for date: 2022-05-03\n",
      "found parquet\n",
      "complete for date: 2022-05-04\n",
      "found parquet\n",
      "complete for date: 2022-05-05\n",
      "found parquet\n",
      "complete for date: 2022-05-06\n",
      "failed for date: 2022-05-07\n",
      "failed for date: 2022-05-08\n"
     ]
    }
   ],
   "source": [
    "for date in date_range:\n",
    "    date = date.astype(dt.date)\n",
    "    try:\n",
    "        rt_day = rt_filter_map_plot.from_gcs(itp_id, date)\n",
    "        print(f'complete for date: {date}')\n",
    "    except:\n",
    "        print(f'failed for date: {date}')\n",
    "        continue"
   ]
  },
  {
   "cell_type": "code",
   "execution_count": 10,
   "id": "d70b77af-0f15-4865-96eb-db81141aab06",
   "metadata": {},
   "outputs": [
    {
     "name": "stdout",
     "output_type": "stream",
     "text": [
      "found parquet\n"
     ]
    }
   ],
   "source": [
    "rt_day = rt_filter_map_plot.from_gcs(itp_id, dt.date(2022, 5, 4))"
   ]
  },
  {
   "cell_type": "code",
   "execution_count": 11,
   "id": "08abef6b-da42-45fb-b785-204a5791df19",
   "metadata": {},
   "outputs": [],
   "source": [
    "# corridor = gpd.read_file('./CMCP_StudyAreaBoundary.geojson') ## alameda\n",
    "corridor = gpd.read_file('./corridors_sccp_lpp/lakeport_map.geojson') ## lakeport"
   ]
  },
  {
   "cell_type": "code",
   "execution_count": 12,
   "id": "64051f76-f295-45c7-8aee-f18038d7ae38",
   "metadata": {},
   "outputs": [],
   "source": [
    "rt_day.add_corridor(corridor)"
   ]
  },
  {
   "cell_type": "code",
   "execution_count": 13,
   "id": "970f5854-f8eb-4ce1-9ea2-1fe3373d3c8a",
   "metadata": {},
   "outputs": [],
   "source": [
    "mappable_stops = (rt_day.stop_delay_view\n",
    "          >> distinct(_.shape_id, _.stop_sequence, _keep_all=True)\n",
    "          >> filter(_.corridor)\n",
    "          >> select(_.stop_id, _.geometry, _.stop_sequence)\n",
    "         )"
   ]
  },
  {
   "cell_type": "code",
   "execution_count": 14,
   "id": "81b0c861-19b3-4f12-b26f-37aae90352e7",
   "metadata": {},
   "outputs": [
    {
     "data": {
      "text/html": [
       "<div style=\"width:100%;\"><div style=\"position:relative;width:100%;height:0;padding-bottom:60%;\"><span style=\"color:#565656\">Make this Notebook Trusted to load map: File -> Trust Notebook</span><iframe src=\"about:blank\" style=\"position:absolute;width:100%;height:100%;left:0;top:0;border:none !important;\" data-html=%3C%21DOCTYPE%20html%3E%0A%3Chead%3E%20%20%20%20%0A%20%20%20%20%3Cmeta%20http-equiv%3D%22content-type%22%20content%3D%22text/html%3B%20charset%3DUTF-8%22%20/%3E%0A%20%20%20%20%0A%20%20%20%20%20%20%20%20%3Cscript%3E%0A%20%20%20%20%20%20%20%20%20%20%20%20L_NO_TOUCH%20%3D%20false%3B%0A%20%20%20%20%20%20%20%20%20%20%20%20L_DISABLE_3D%20%3D%20false%3B%0A%20%20%20%20%20%20%20%20%3C/script%3E%0A%20%20%20%20%0A%20%20%20%20%3Cstyle%3Ehtml%2C%20body%20%7Bwidth%3A%20100%25%3Bheight%3A%20100%25%3Bmargin%3A%200%3Bpadding%3A%200%3B%7D%3C/style%3E%0A%20%20%20%20%3Cstyle%3E%23map%20%7Bposition%3Aabsolute%3Btop%3A0%3Bbottom%3A0%3Bright%3A0%3Bleft%3A0%3B%7D%3C/style%3E%0A%20%20%20%20%3Cscript%20src%3D%22https%3A//cdn.jsdelivr.net/npm/leaflet%401.6.0/dist/leaflet.js%22%3E%3C/script%3E%0A%20%20%20%20%3Cscript%20src%3D%22https%3A//code.jquery.com/jquery-1.12.4.min.js%22%3E%3C/script%3E%0A%20%20%20%20%3Cscript%20src%3D%22https%3A//maxcdn.bootstrapcdn.com/bootstrap/3.2.0/js/bootstrap.min.js%22%3E%3C/script%3E%0A%20%20%20%20%3Cscript%20src%3D%22https%3A//cdnjs.cloudflare.com/ajax/libs/Leaflet.awesome-markers/2.0.2/leaflet.awesome-markers.js%22%3E%3C/script%3E%0A%20%20%20%20%3Clink%20rel%3D%22stylesheet%22%20href%3D%22https%3A//cdn.jsdelivr.net/npm/leaflet%401.6.0/dist/leaflet.css%22/%3E%0A%20%20%20%20%3Clink%20rel%3D%22stylesheet%22%20href%3D%22https%3A//maxcdn.bootstrapcdn.com/bootstrap/3.2.0/css/bootstrap.min.css%22/%3E%0A%20%20%20%20%3Clink%20rel%3D%22stylesheet%22%20href%3D%22https%3A//maxcdn.bootstrapcdn.com/bootstrap/3.2.0/css/bootstrap-theme.min.css%22/%3E%0A%20%20%20%20%3Clink%20rel%3D%22stylesheet%22%20href%3D%22https%3A//maxcdn.bootstrapcdn.com/font-awesome/4.6.3/css/font-awesome.min.css%22/%3E%0A%20%20%20%20%3Clink%20rel%3D%22stylesheet%22%20href%3D%22https%3A//cdnjs.cloudflare.com/ajax/libs/Leaflet.awesome-markers/2.0.2/leaflet.awesome-markers.css%22/%3E%0A%20%20%20%20%3Clink%20rel%3D%22stylesheet%22%20href%3D%22https%3A//cdn.jsdelivr.net/gh/python-visualization/folium/folium/templates/leaflet.awesome.rotate.min.css%22/%3E%0A%20%20%20%20%0A%20%20%20%20%20%20%20%20%20%20%20%20%3Cmeta%20name%3D%22viewport%22%20content%3D%22width%3Ddevice-width%2C%0A%20%20%20%20%20%20%20%20%20%20%20%20%20%20%20%20initial-scale%3D1.0%2C%20maximum-scale%3D1.0%2C%20user-scalable%3Dno%22%20/%3E%0A%20%20%20%20%20%20%20%20%20%20%20%20%3Cstyle%3E%0A%20%20%20%20%20%20%20%20%20%20%20%20%20%20%20%20%23map_d4d7ef250611441b823f57d89a4fb2d9%20%7B%0A%20%20%20%20%20%20%20%20%20%20%20%20%20%20%20%20%20%20%20%20position%3A%20relative%3B%0A%20%20%20%20%20%20%20%20%20%20%20%20%20%20%20%20%20%20%20%20width%3A%20100.0%25%3B%0A%20%20%20%20%20%20%20%20%20%20%20%20%20%20%20%20%20%20%20%20height%3A%20100.0%25%3B%0A%20%20%20%20%20%20%20%20%20%20%20%20%20%20%20%20%20%20%20%20left%3A%200.0%25%3B%0A%20%20%20%20%20%20%20%20%20%20%20%20%20%20%20%20%20%20%20%20top%3A%200.0%25%3B%0A%20%20%20%20%20%20%20%20%20%20%20%20%20%20%20%20%7D%0A%20%20%20%20%20%20%20%20%20%20%20%20%3C/style%3E%0A%20%20%20%20%20%20%20%20%0A%20%20%20%20%0A%20%20%20%20%20%20%20%20%20%20%20%20%20%20%20%20%20%20%20%20%3Cstyle%3E%0A%20%20%20%20%20%20%20%20%20%20%20%20%20%20%20%20%20%20%20%20%20%20%20%20.foliumtooltip%20%7B%0A%20%20%20%20%20%20%20%20%20%20%20%20%20%20%20%20%20%20%20%20%20%20%20%20%20%20%20%20%0A%20%20%20%20%20%20%20%20%20%20%20%20%20%20%20%20%20%20%20%20%20%20%20%20%7D%0A%20%20%20%20%20%20%20%20%20%20%20%20%20%20%20%20%20%20%20%20%20%20%20.foliumtooltip%20table%7B%0A%20%20%20%20%20%20%20%20%20%20%20%20%20%20%20%20%20%20%20%20%20%20%20%20%20%20%20%20margin%3A%20auto%3B%0A%20%20%20%20%20%20%20%20%20%20%20%20%20%20%20%20%20%20%20%20%20%20%20%20%7D%0A%20%20%20%20%20%20%20%20%20%20%20%20%20%20%20%20%20%20%20%20%20%20%20%20.foliumtooltip%20tr%7B%0A%20%20%20%20%20%20%20%20%20%20%20%20%20%20%20%20%20%20%20%20%20%20%20%20%20%20%20%20text-align%3A%20left%3B%0A%20%20%20%20%20%20%20%20%20%20%20%20%20%20%20%20%20%20%20%20%20%20%20%20%7D%0A%20%20%20%20%20%20%20%20%20%20%20%20%20%20%20%20%20%20%20%20%20%20%20%20.foliumtooltip%20th%7B%0A%20%20%20%20%20%20%20%20%20%20%20%20%20%20%20%20%20%20%20%20%20%20%20%20%20%20%20%20padding%3A%202px%3B%20padding-right%3A%208px%3B%0A%20%20%20%20%20%20%20%20%20%20%20%20%20%20%20%20%20%20%20%20%20%20%20%20%7D%0A%20%20%20%20%20%20%20%20%20%20%20%20%20%20%20%20%20%20%20%20%3C/style%3E%0A%20%20%20%20%20%20%20%20%20%20%20%20%0A%3C/head%3E%0A%3Cbody%3E%20%20%20%20%0A%20%20%20%20%0A%20%20%20%20%20%20%20%20%20%20%20%20%3Cdiv%20class%3D%22folium-map%22%20id%3D%22map_d4d7ef250611441b823f57d89a4fb2d9%22%20%3E%3C/div%3E%0A%20%20%20%20%20%20%20%20%0A%3C/body%3E%0A%3Cscript%3E%20%20%20%20%0A%20%20%20%20%0A%20%20%20%20%20%20%20%20%20%20%20%20var%20map_d4d7ef250611441b823f57d89a4fb2d9%20%3D%20L.map%28%0A%20%20%20%20%20%20%20%20%20%20%20%20%20%20%20%20%22map_d4d7ef250611441b823f57d89a4fb2d9%22%2C%0A%20%20%20%20%20%20%20%20%20%20%20%20%20%20%20%20%7B%0A%20%20%20%20%20%20%20%20%20%20%20%20%20%20%20%20%20%20%20%20center%3A%20%5B38.8876645%2C%20-122.69550225%5D%2C%0A%20%20%20%20%20%20%20%20%20%20%20%20%20%20%20%20%20%20%20%20crs%3A%20L.CRS.EPSG3857%2C%0A%20%20%20%20%20%20%20%20%20%20%20%20%20%20%20%20%20%20%20%20zoom%3A%2010%2C%0A%20%20%20%20%20%20%20%20%20%20%20%20%20%20%20%20%20%20%20%20zoomControl%3A%20true%2C%0A%20%20%20%20%20%20%20%20%20%20%20%20%20%20%20%20%20%20%20%20preferCanvas%3A%20false%2C%0A%20%20%20%20%20%20%20%20%20%20%20%20%20%20%20%20%7D%0A%20%20%20%20%20%20%20%20%20%20%20%20%29%3B%0A%20%20%20%20%20%20%20%20%20%20%20%20L.control.scale%28%29.addTo%28map_d4d7ef250611441b823f57d89a4fb2d9%29%3B%0A%0A%20%20%20%20%20%20%20%20%20%20%20%20%0A%0A%20%20%20%20%20%20%20%20%0A%20%20%20%20%0A%20%20%20%20%20%20%20%20%20%20%20%20var%20tile_layer_7962be6ea24d448680f75e5b2d48ec0b%20%3D%20L.tileLayer%28%0A%20%20%20%20%20%20%20%20%20%20%20%20%20%20%20%20%22https%3A//a.basemaps.cartocdn.com/light_all/%7Bz%7D/%7Bx%7D/%7By%7D%7Br%7D.png%22%2C%0A%20%20%20%20%20%20%20%20%20%20%20%20%20%20%20%20%7B%22attribution%22%3A%20%22%5Cu0026copy%3B%20%5Cu003ca%20href%3D%5C%22https%3A//www.openstreetmap.org/copyright%5C%22%5Cu003eOpenStreetMap%5Cu003c/a%5Cu003e%20contributors%20%5Cu0026copy%3B%20%5Cu003ca%20href%3D%5C%22https%3A//carto.com/attributions%5C%22%5Cu003eCARTO%5Cu003c/a%5Cu003e%22%2C%20%22detectRetina%22%3A%20false%2C%20%22maxNativeZoom%22%3A%2020%2C%20%22maxZoom%22%3A%2020%2C%20%22minZoom%22%3A%200%2C%20%22noWrap%22%3A%20false%2C%20%22opacity%22%3A%201%2C%20%22subdomains%22%3A%20%22abc%22%2C%20%22tms%22%3A%20false%7D%0A%20%20%20%20%20%20%20%20%20%20%20%20%29.addTo%28map_d4d7ef250611441b823f57d89a4fb2d9%29%3B%0A%20%20%20%20%20%20%20%20%0A%20%20%20%20%0A%20%20%20%20%20%20%20%20%20%20%20%20map_d4d7ef250611441b823f57d89a4fb2d9.fitBounds%28%0A%20%20%20%20%20%20%20%20%20%20%20%20%20%20%20%20%5B%5B38.797546000000025%2C%20-122.8373975%5D%2C%20%5B38.977782999999974%2C%20-122.553607%5D%5D%2C%0A%20%20%20%20%20%20%20%20%20%20%20%20%20%20%20%20%7B%7D%0A%20%20%20%20%20%20%20%20%20%20%20%20%29%3B%0A%20%20%20%20%20%20%20%20%0A%20%20%20%20%0A%20%20%20%20%20%20%20%20function%20geo_json_9cec468af8dd40c7b8e34f637a9d4808_styler%28feature%29%20%7B%0A%20%20%20%20%20%20%20%20%20%20%20%20switch%28feature.id%29%20%7B%0A%20%20%20%20%20%20%20%20%20%20%20%20%20%20%20%20default%3A%0A%20%20%20%20%20%20%20%20%20%20%20%20%20%20%20%20%20%20%20%20return%20%7B%22fillOpacity%22%3A%200.5%2C%20%22weight%22%3A%202%7D%3B%0A%20%20%20%20%20%20%20%20%20%20%20%20%7D%0A%20%20%20%20%20%20%20%20%7D%0A%20%20%20%20%20%20%20%20function%20geo_json_9cec468af8dd40c7b8e34f637a9d4808_highlighter%28feature%29%20%7B%0A%20%20%20%20%20%20%20%20%20%20%20%20switch%28feature.id%29%20%7B%0A%20%20%20%20%20%20%20%20%20%20%20%20%20%20%20%20default%3A%0A%20%20%20%20%20%20%20%20%20%20%20%20%20%20%20%20%20%20%20%20return%20%7B%22fillOpacity%22%3A%200.75%7D%3B%0A%20%20%20%20%20%20%20%20%20%20%20%20%7D%0A%20%20%20%20%20%20%20%20%7D%0A%20%20%20%20%20%20%20%20function%20geo_json_9cec468af8dd40c7b8e34f637a9d4808_pointToLayer%28feature%2C%20latlng%29%20%7B%0A%20%20%20%20%20%20%20%20%20%20%20%20var%20opts%20%3D%20%7B%22bubblingMouseEvents%22%3A%20true%2C%20%22color%22%3A%20%22%233388ff%22%2C%20%22dashArray%22%3A%20null%2C%20%22dashOffset%22%3A%20null%2C%20%22fill%22%3A%20true%2C%20%22fillColor%22%3A%20%22%233388ff%22%2C%20%22fillOpacity%22%3A%200.2%2C%20%22fillRule%22%3A%20%22evenodd%22%2C%20%22lineCap%22%3A%20%22round%22%2C%20%22lineJoin%22%3A%20%22round%22%2C%20%22opacity%22%3A%201.0%2C%20%22radius%22%3A%202%2C%20%22stroke%22%3A%20true%2C%20%22weight%22%3A%203%7D%3B%0A%20%20%20%20%20%20%20%20%20%20%20%20%0A%20%20%20%20%20%20%20%20%20%20%20%20let%20style%20%3D%20geo_json_9cec468af8dd40c7b8e34f637a9d4808_styler%28feature%29%0A%20%20%20%20%20%20%20%20%20%20%20%20Object.assign%28opts%2C%20style%29%0A%20%20%20%20%20%20%20%20%20%20%20%20%0A%20%20%20%20%20%20%20%20%20%20%20%20return%20new%20L.CircleMarker%28latlng%2C%20opts%29%0A%20%20%20%20%20%20%20%20%7D%0A%0A%20%20%20%20%20%20%20%20function%20geo_json_9cec468af8dd40c7b8e34f637a9d4808_onEachFeature%28feature%2C%20layer%29%20%7B%0A%20%20%20%20%20%20%20%20%20%20%20%20layer.on%28%7B%0A%20%20%20%20%20%20%20%20%20%20%20%20%20%20%20%20mouseout%3A%20function%28e%29%20%7B%0A%20%20%20%20%20%20%20%20%20%20%20%20%20%20%20%20%20%20%20%20if%28typeof%20e.target.setStyle%20%3D%3D%3D%20%22function%22%29%7B%0A%20%20%20%20%20%20%20%20%20%20%20%20%20%20%20%20%20%20%20%20%20%20%20%20geo_json_9cec468af8dd40c7b8e34f637a9d4808.resetStyle%28e.target%29%3B%0A%20%20%20%20%20%20%20%20%20%20%20%20%20%20%20%20%20%20%20%20%7D%0A%20%20%20%20%20%20%20%20%20%20%20%20%20%20%20%20%7D%2C%0A%20%20%20%20%20%20%20%20%20%20%20%20%20%20%20%20mouseover%3A%20function%28e%29%20%7B%0A%20%20%20%20%20%20%20%20%20%20%20%20%20%20%20%20%20%20%20%20if%28typeof%20e.target.setStyle%20%3D%3D%3D%20%22function%22%29%7B%0A%20%20%20%20%20%20%20%20%20%20%20%20%20%20%20%20%20%20%20%20%20%20%20%20const%20highlightStyle%20%3D%20geo_json_9cec468af8dd40c7b8e34f637a9d4808_highlighter%28e.target.feature%29%0A%20%20%20%20%20%20%20%20%20%20%20%20%20%20%20%20%20%20%20%20%20%20%20%20e.target.setStyle%28highlightStyle%29%3B%0A%20%20%20%20%20%20%20%20%20%20%20%20%20%20%20%20%20%20%20%20%7D%0A%20%20%20%20%20%20%20%20%20%20%20%20%20%20%20%20%7D%2C%0A%20%20%20%20%20%20%20%20%20%20%20%20%7D%29%3B%0A%20%20%20%20%20%20%20%20%7D%3B%0A%20%20%20%20%20%20%20%20var%20geo_json_9cec468af8dd40c7b8e34f637a9d4808%20%3D%20L.geoJson%28null%2C%20%7B%0A%20%20%20%20%20%20%20%20%20%20%20%20%20%20%20%20onEachFeature%3A%20geo_json_9cec468af8dd40c7b8e34f637a9d4808_onEachFeature%2C%0A%20%20%20%20%20%20%20%20%20%20%20%20%0A%20%20%20%20%20%20%20%20%20%20%20%20%20%20%20%20style%3A%20geo_json_9cec468af8dd40c7b8e34f637a9d4808_styler%2C%0A%20%20%20%20%20%20%20%20%20%20%20%20%20%20%20%20pointToLayer%3A%20geo_json_9cec468af8dd40c7b8e34f637a9d4808_pointToLayer%0A%20%20%20%20%20%20%20%20%7D%29%3B%0A%0A%20%20%20%20%20%20%20%20function%20geo_json_9cec468af8dd40c7b8e34f637a9d4808_add%20%28data%29%20%7B%0A%20%20%20%20%20%20%20%20%20%20%20%20geo_json_9cec468af8dd40c7b8e34f637a9d4808%0A%20%20%20%20%20%20%20%20%20%20%20%20%20%20%20%20.addData%28data%29%0A%20%20%20%20%20%20%20%20%20%20%20%20%20%20%20%20.addTo%28map_d4d7ef250611441b823f57d89a4fb2d9%29%3B%0A%20%20%20%20%20%20%20%20%7D%0A%20%20%20%20%20%20%20%20%20%20%20%20geo_json_9cec468af8dd40c7b8e34f637a9d4808_add%28%7B%22bbox%22%3A%20%5B-122.8373975%2C%2038.797546000000025%2C%20-122.553607%2C%2038.977782999999974%5D%2C%20%22features%22%3A%20%5B%7B%22bbox%22%3A%20%5B-122.8373975%2C%2038.97768821000001%2C%20-122.8373975%2C%2038.97768821000001%5D%2C%20%22geometry%22%3A%20%7B%22coordinates%22%3A%20%5B-122.8373975%2C%2038.97768821000001%5D%2C%20%22type%22%3A%20%22Point%22%7D%2C%20%22id%22%3A%20%2224%22%2C%20%22properties%22%3A%20%7B%22stop_id%22%3A%20%22785283%22%2C%20%22stop_sequence%22%3A%2013.0%7D%2C%20%22type%22%3A%20%22Feature%22%7D%2C%20%7B%22bbox%22%3A%20%5B-122.74311999999999%2C%2038.93055%2C%20-122.74311999999999%2C%2038.93055%5D%2C%20%22geometry%22%3A%20%7B%22coordinates%22%3A%20%5B-122.74311999999999%2C%2038.93055%5D%2C%20%22type%22%3A%20%22Point%22%7D%2C%20%22id%22%3A%20%2225%22%2C%20%22properties%22%3A%20%7B%22stop_id%22%3A%20%22783973%22%2C%20%22stop_sequence%22%3A%2016.0%7D%2C%20%22type%22%3A%20%22Feature%22%7D%2C%20%7B%22bbox%22%3A%20%5B-122.612107%2C%2038.91084800000004%2C%20-122.612107%2C%2038.91084800000004%5D%2C%20%22geometry%22%3A%20%7B%22coordinates%22%3A%20%5B-122.612107%2C%2038.91084800000004%5D%2C%20%22type%22%3A%20%22Point%22%7D%2C%20%22id%22%3A%20%2226%22%2C%20%22properties%22%3A%20%7B%22stop_id%22%3A%20%22784019%22%2C%20%22stop_sequence%22%3A%2017.0%7D%2C%20%22type%22%3A%20%22Feature%22%7D%2C%20%7B%22bbox%22%3A%20%5B-122.74311999999999%2C%2038.93055%2C%20-122.74311999999999%2C%2038.93055%5D%2C%20%22geometry%22%3A%20%7B%22coordinates%22%3A%20%5B-122.74311999999999%2C%2038.93055%5D%2C%20%22type%22%3A%20%22Point%22%7D%2C%20%22id%22%3A%20%2227%22%2C%20%22properties%22%3A%20%7B%22stop_id%22%3A%20%22783973%22%2C%20%22stop_sequence%22%3A%205.0%7D%2C%20%22type%22%3A%20%22Feature%22%7D%2C%20%7B%22bbox%22%3A%20%5B-122.83661%2C%2038.977782999999974%2C%20-122.83661%2C%2038.977782999999974%5D%2C%20%22geometry%22%3A%20%7B%22coordinates%22%3A%20%5B-122.83661%2C%2038.977782999999974%5D%2C%20%22type%22%3A%20%22Point%22%7D%2C%20%22id%22%3A%20%2228%22%2C%20%22properties%22%3A%20%7B%22stop_id%22%3A%20%22784004%22%2C%20%22stop_sequence%22%3A%209.0%7D%2C%20%22type%22%3A%20%22Feature%22%7D%2C%20%7B%22bbox%22%3A%20%5B-122.612434%2C%2038.91146999999995%2C%20-122.612434%2C%2038.91146999999995%5D%2C%20%22geometry%22%3A%20%7B%22coordinates%22%3A%20%5B-122.612434%2C%2038.91146999999995%5D%2C%20%22type%22%3A%20%22Point%22%7D%2C%20%22id%22%3A%20%2233%22%2C%20%22properties%22%3A%20%7B%22stop_id%22%3A%20%22784008%22%2C%20%22stop_sequence%22%3A%204.0%7D%2C%20%22type%22%3A%20%22Feature%22%7D%2C%20%7B%22bbox%22%3A%20%5B-122.8373975%2C%2038.97768821000001%2C%20-122.8373975%2C%2038.97768821000001%5D%2C%20%22geometry%22%3A%20%7B%22coordinates%22%3A%20%5B-122.8373975%2C%2038.97768821000001%5D%2C%20%22type%22%3A%20%22Point%22%7D%2C%20%22id%22%3A%20%2235%22%2C%20%22properties%22%3A%20%7B%22stop_id%22%3A%20%22785283%22%2C%20%22stop_sequence%22%3A%209.0%7D%2C%20%22type%22%3A%20%22Feature%22%7D%2C%20%7B%22bbox%22%3A%20%5B-122.74311999999999%2C%2038.93055%2C%20-122.74311999999999%2C%2038.93055%5D%2C%20%22geometry%22%3A%20%7B%22coordinates%22%3A%20%5B-122.74311999999999%2C%2038.93055%5D%2C%20%22type%22%3A%20%22Point%22%7D%2C%20%22id%22%3A%20%2236%22%2C%20%22properties%22%3A%20%7B%22stop_id%22%3A%20%22783973%22%2C%20%22stop_sequence%22%3A%2012.0%7D%2C%20%22type%22%3A%20%22Feature%22%7D%2C%20%7B%22bbox%22%3A%20%5B-122.612107%2C%2038.91084800000004%2C%20-122.612107%2C%2038.91084800000004%5D%2C%20%22geometry%22%3A%20%7B%22coordinates%22%3A%20%5B-122.612107%2C%2038.91084800000004%5D%2C%20%22type%22%3A%20%22Point%22%7D%2C%20%22id%22%3A%20%2237%22%2C%20%22properties%22%3A%20%7B%22stop_id%22%3A%20%22784019%22%2C%20%22stop_sequence%22%3A%2013.0%7D%2C%20%22type%22%3A%20%22Feature%22%7D%2C%20%7B%22bbox%22%3A%20%5B-122.633899%2C%2038.961764999999964%2C%20-122.633899%2C%2038.961764999999964%5D%2C%20%22geometry%22%3A%20%7B%22coordinates%22%3A%20%5B-122.633899%2C%2038.961764999999964%5D%2C%20%22type%22%3A%20%22Point%22%7D%2C%20%22id%22%3A%20%2239%22%2C%20%22properties%22%3A%20%7B%22stop_id%22%3A%20%22784097%22%2C%20%22stop_sequence%22%3A%2023.0%7D%2C%20%22type%22%3A%20%22Feature%22%7D%2C%20%7B%22bbox%22%3A%20%5B-122.628538%2C%2038.94995800000001%2C%20-122.628538%2C%2038.94995800000001%5D%2C%20%22geometry%22%3A%20%7B%22coordinates%22%3A%20%5B-122.628538%2C%2038.94995800000001%5D%2C%20%22type%22%3A%20%22Point%22%7D%2C%20%22id%22%3A%20%2240%22%2C%20%22properties%22%3A%20%7B%22stop_id%22%3A%20%22784107%22%2C%20%22stop_sequence%22%3A%2013.0%7D%2C%20%22type%22%3A%20%22Feature%22%7D%2C%20%7B%22bbox%22%3A%20%5B-122.615097%2C%2038.95090700000001%2C%20-122.615097%2C%2038.95090700000001%5D%2C%20%22geometry%22%3A%20%7B%22coordinates%22%3A%20%5B-122.615097%2C%2038.95090700000001%5D%2C%20%22type%22%3A%20%22Point%22%7D%2C%20%22id%22%3A%20%2241%22%2C%20%22properties%22%3A%20%7B%22stop_id%22%3A%20%22784111%22%2C%20%22stop_sequence%22%3A%209.0%7D%2C%20%22type%22%3A%20%22Feature%22%7D%2C%20%7B%22bbox%22%3A%20%5B-122.649229%2C%2038.95975799999999%2C%20-122.649229%2C%2038.95975799999999%5D%2C%20%22geometry%22%3A%20%7B%22coordinates%22%3A%20%5B-122.649229%2C%2038.95975799999999%5D%2C%20%22type%22%3A%20%22Point%22%7D%2C%20%22id%22%3A%20%2242%22%2C%20%22properties%22%3A%20%7B%22stop_id%22%3A%20%22784100%22%2C%20%22stop_sequence%22%3A%2020.0%7D%2C%20%22type%22%3A%20%22Feature%22%7D%2C%20%7B%22bbox%22%3A%20%5B-122.615296%2C%2038.949814999999994%2C%20-122.615296%2C%2038.949814999999994%5D%2C%20%22geometry%22%3A%20%7B%22coordinates%22%3A%20%5B-122.615296%2C%2038.949814999999994%5D%2C%20%22type%22%3A%20%22Point%22%7D%2C%20%22id%22%3A%20%2243%22%2C%20%22properties%22%3A%20%7B%22stop_id%22%3A%20%22784085%22%2C%20%22stop_sequence%22%3A%2035.0%7D%2C%20%22type%22%3A%20%22Feature%22%7D%2C%20%7B%22bbox%22%3A%20%5B-122.63113%2C%2038.965996000000004%2C%20-122.63113%2C%2038.965996000000004%5D%2C%20%22geometry%22%3A%20%7B%22coordinates%22%3A%20%5B-122.63113%2C%2038.965996000000004%5D%2C%20%22type%22%3A%20%22Point%22%7D%2C%20%22id%22%3A%20%2244%22%2C%20%22properties%22%3A%20%7B%22stop_id%22%3A%20%22784095%22%2C%20%22stop_sequence%22%3A%2025.0%7D%2C%20%22type%22%3A%20%22Feature%22%7D%2C%20%7B%22bbox%22%3A%20%5B-122.628704%2C%2038.94978700000002%2C%20-122.628704%2C%2038.94978700000002%5D%2C%20%22geometry%22%3A%20%7B%22coordinates%22%3A%20%5B-122.628704%2C%2038.94978700000002%5D%2C%20%22type%22%3A%20%22Point%22%7D%2C%20%22id%22%3A%20%2245%22%2C%20%22properties%22%3A%20%7B%22stop_id%22%3A%20%22784089%22%2C%20%22stop_sequence%22%3A%2031.0%7D%2C%20%22type%22%3A%20%22Feature%22%7D%2C%20%7B%22bbox%22%3A%20%5B-122.61704%2C%2038.932789999999976%2C%20-122.61704%2C%2038.932789999999976%5D%2C%20%22geometry%22%3A%20%7B%22coordinates%22%3A%20%5B-122.61704%2C%2038.932789999999976%5D%2C%20%22type%22%3A%20%22Point%22%7D%2C%20%22id%22%3A%20%2246%22%2C%20%22properties%22%3A%20%7B%22stop_id%22%3A%20%22784078%22%2C%20%22stop_sequence%22%3A%2041.0%7D%2C%20%22type%22%3A%20%22Feature%22%7D%2C%20%7B%22bbox%22%3A%20%5B-122.62138500000002%2C%2038.936368999999985%2C%20-122.62138500000002%2C%2038.936368999999985%5D%2C%20%22geometry%22%3A%20%7B%22coordinates%22%3A%20%5B-122.62138500000002%2C%2038.936368999999985%5D%2C%20%22type%22%3A%20%22Point%22%7D%2C%20%22id%22%3A%20%2247%22%2C%20%22properties%22%3A%20%7B%22stop_id%22%3A%20%22784118%22%2C%20%22stop_sequence%22%3A%202.0%7D%2C%20%22type%22%3A%20%22Feature%22%7D%2C%20%7B%22bbox%22%3A%20%5B-122.63141100000001%2C%2038.95131199999999%2C%20-122.63141100000001%2C%2038.95131199999999%5D%2C%20%22geometry%22%3A%20%7B%22coordinates%22%3A%20%5B-122.63141100000001%2C%2038.95131199999999%5D%2C%20%22type%22%3A%20%22Point%22%7D%2C%20%22id%22%3A%20%2274%22%2C%20%22properties%22%3A%20%7B%22stop_id%22%3A%20%22784066%22%2C%20%22stop_sequence%22%3A%207.0%7D%2C%20%22type%22%3A%20%22Feature%22%7D%2C%20%7B%22bbox%22%3A%20%5B-122.63317000000002%2C%2038.96184%2C%20-122.63317000000002%2C%2038.96184%5D%2C%20%22geometry%22%3A%20%7B%22coordinates%22%3A%20%5B-122.63317000000002%2C%2038.96184%5D%2C%20%22type%22%3A%20%22Point%22%7D%2C%20%22id%22%3A%20%2275%22%2C%20%22properties%22%3A%20%7B%22stop_id%22%3A%20%22784064%22%2C%20%22stop_sequence%22%3A%2010.0%7D%2C%20%22type%22%3A%20%22Feature%22%7D%2C%20%7B%22bbox%22%3A%20%5B-122.648173%2C%2038.961075%2C%20-122.648173%2C%2038.961075%5D%2C%20%22geometry%22%3A%20%7B%22coordinates%22%3A%20%5B-122.648173%2C%2038.961075%5D%2C%20%22type%22%3A%20%22Point%22%7D%2C%20%22id%22%3A%20%2276%22%2C%20%22properties%22%3A%20%7B%22stop_id%22%3A%20%22784062%22%2C%20%22stop_sequence%22%3A%2013.0%7D%2C%20%22type%22%3A%20%22Feature%22%7D%2C%20%7B%22bbox%22%3A%20%5B-122.655303%2C%2038.97609699999999%2C%20-122.655303%2C%2038.97609699999999%5D%2C%20%22geometry%22%3A%20%7B%22coordinates%22%3A%20%5B-122.655303%2C%2038.97609699999999%5D%2C%20%22type%22%3A%20%22Point%22%7D%2C%20%22id%22%3A%20%2277%22%2C%20%22properties%22%3A%20%7B%22stop_id%22%3A%20%22784055%22%2C%20%22stop_sequence%22%3A%2019.0%7D%2C%20%22type%22%3A%20%22Feature%22%7D%2C%20%7B%22bbox%22%3A%20%5B-122.660455%2C%2038.96822999999996%2C%20-122.660455%2C%2038.96822999999996%5D%2C%20%22geometry%22%3A%20%7B%22coordinates%22%3A%20%5B-122.660455%2C%2038.96822999999996%5D%2C%20%22type%22%3A%20%22Point%22%7D%2C%20%22id%22%3A%20%2278%22%2C%20%22properties%22%3A%20%7B%22stop_id%22%3A%20%22784050%22%2C%20%22stop_sequence%22%3A%2024.0%7D%2C%20%22type%22%3A%20%22Feature%22%7D%2C%20%7B%22bbox%22%3A%20%5B-122.64929600000002%2C%2038.95894999999999%2C%20-122.64929600000002%2C%2038.95894999999999%5D%2C%20%22geometry%22%3A%20%7B%22coordinates%22%3A%20%5B-122.64929600000002%2C%2038.95894999999999%5D%2C%20%22type%22%3A%20%22Point%22%7D%2C%20%22id%22%3A%20%2279%22%2C%20%22properties%22%3A%20%7B%22stop_id%22%3A%20%22784045%22%2C%20%22stop_sequence%22%3A%2028.0%7D%2C%20%22type%22%3A%20%22Feature%22%7D%2C%20%7B%22bbox%22%3A%20%5B-122.628704%2C%2038.94978700000002%2C%20-122.628704%2C%2038.94978700000002%5D%2C%20%22geometry%22%3A%20%7B%22coordinates%22%3A%20%5B-122.628704%2C%2038.94978700000002%5D%2C%20%22type%22%3A%20%22Point%22%7D%2C%20%22id%22%3A%20%2280%22%2C%20%22properties%22%3A%20%7B%22stop_id%22%3A%20%22784089%22%2C%20%22stop_sequence%22%3A%2033.0%7D%2C%20%22type%22%3A%20%22Feature%22%7D%2C%20%7B%22bbox%22%3A%20%5B-122.617153%2C%2038.919188000000005%2C%20-122.617153%2C%2038.919188000000005%5D%2C%20%22geometry%22%3A%20%7B%22coordinates%22%3A%20%5B-122.617153%2C%2038.919188000000005%5D%2C%20%22type%22%3A%20%22Point%22%7D%2C%20%22id%22%3A%20%2281%22%2C%20%22properties%22%3A%20%7B%22stop_id%22%3A%20%22784040%22%2C%20%22stop_sequence%22%3A%2035.0%7D%2C%20%22type%22%3A%20%22Feature%22%7D%2C%20%7B%22bbox%22%3A%20%5B-122.611564%2C%2038.910211999999994%2C%20-122.611564%2C%2038.910211999999994%5D%2C%20%22geometry%22%3A%20%7B%22coordinates%22%3A%20%5B-122.611564%2C%2038.910211999999994%5D%2C%20%22type%22%3A%20%22Point%22%7D%2C%20%22id%22%3A%20%2282%22%2C%20%22properties%22%3A%20%7B%22stop_id%22%3A%20%22784039%22%2C%20%22stop_sequence%22%3A%2038.0%7D%2C%20%22type%22%3A%20%22Feature%22%7D%2C%20%7B%22bbox%22%3A%20%5B-122.63141100000001%2C%2038.95131199999999%2C%20-122.63141100000001%2C%2038.95131199999999%5D%2C%20%22geometry%22%3A%20%7B%22coordinates%22%3A%20%5B-122.63141100000001%2C%2038.95131199999999%5D%2C%20%22type%22%3A%20%22Point%22%7D%2C%20%22id%22%3A%20%2284%22%2C%20%22properties%22%3A%20%7B%22stop_id%22%3A%20%22784066%22%2C%20%22stop_sequence%22%3A%207.0%7D%2C%20%22type%22%3A%20%22Feature%22%7D%2C%20%7B%22bbox%22%3A%20%5B-122.648173%2C%2038.961075%2C%20-122.648173%2C%2038.961075%5D%2C%20%22geometry%22%3A%20%7B%22coordinates%22%3A%20%5B-122.648173%2C%2038.961075%5D%2C%20%22type%22%3A%20%22Point%22%7D%2C%20%22id%22%3A%20%2285%22%2C%20%22properties%22%3A%20%7B%22stop_id%22%3A%20%22784062%22%2C%20%22stop_sequence%22%3A%2013.0%7D%2C%20%22type%22%3A%20%22Feature%22%7D%2C%20%7B%22bbox%22%3A%20%5B-122.660455%2C%2038.96822999999996%2C%20-122.660455%2C%2038.96822999999996%5D%2C%20%22geometry%22%3A%20%7B%22coordinates%22%3A%20%5B-122.660455%2C%2038.96822999999996%5D%2C%20%22type%22%3A%20%22Point%22%7D%2C%20%22id%22%3A%20%2286%22%2C%20%22properties%22%3A%20%7B%22stop_id%22%3A%20%22784050%22%2C%20%22stop_sequence%22%3A%2024.0%7D%2C%20%22type%22%3A%20%22Feature%22%7D%2C%20%7B%22bbox%22%3A%20%5B-122.655303%2C%2038.97609699999999%2C%20-122.655303%2C%2038.97609699999999%5D%2C%20%22geometry%22%3A%20%7B%22coordinates%22%3A%20%5B-122.655303%2C%2038.97609699999999%5D%2C%20%22type%22%3A%20%22Point%22%7D%2C%20%22id%22%3A%20%2287%22%2C%20%22properties%22%3A%20%7B%22stop_id%22%3A%20%22784055%22%2C%20%22stop_sequence%22%3A%2019.0%7D%2C%20%22type%22%3A%20%22Feature%22%7D%2C%20%7B%22bbox%22%3A%20%5B-122.64929600000002%2C%2038.95894999999999%2C%20-122.64929600000002%2C%2038.95894999999999%5D%2C%20%22geometry%22%3A%20%7B%22coordinates%22%3A%20%5B-122.64929600000002%2C%2038.95894999999999%5D%2C%20%22type%22%3A%20%22Point%22%7D%2C%20%22id%22%3A%20%2288%22%2C%20%22properties%22%3A%20%7B%22stop_id%22%3A%20%22784045%22%2C%20%22stop_sequence%22%3A%2028.0%7D%2C%20%22type%22%3A%20%22Feature%22%7D%2C%20%7B%22bbox%22%3A%20%5B-122.63317000000002%2C%2038.96184%2C%20-122.63317000000002%2C%2038.96184%5D%2C%20%22geometry%22%3A%20%7B%22coordinates%22%3A%20%5B-122.63317000000002%2C%2038.96184%5D%2C%20%22type%22%3A%20%22Point%22%7D%2C%20%22id%22%3A%20%2289%22%2C%20%22properties%22%3A%20%7B%22stop_id%22%3A%20%22784064%22%2C%20%22stop_sequence%22%3A%2010.0%7D%2C%20%22type%22%3A%20%22Feature%22%7D%2C%20%7B%22bbox%22%3A%20%5B-122.612434%2C%2038.91146999999995%2C%20-122.612434%2C%2038.91146999999995%5D%2C%20%22geometry%22%3A%20%7B%22coordinates%22%3A%20%5B-122.612434%2C%2038.91146999999995%5D%2C%20%22type%22%3A%20%22Point%22%7D%2C%20%22id%22%3A%20%22113%22%2C%20%22properties%22%3A%20%7B%22stop_id%22%3A%20%22784008%22%2C%20%22stop_sequence%22%3A%204.0%7D%2C%20%22type%22%3A%20%22Feature%22%7D%2C%20%7B%22bbox%22%3A%20%5B-122.553607%2C%2038.797546000000025%2C%20-122.553607%2C%2038.797546000000025%5D%2C%20%22geometry%22%3A%20%7B%22coordinates%22%3A%20%5B-122.553607%2C%2038.797546000000025%5D%2C%20%22type%22%3A%20%22Point%22%7D%2C%20%22id%22%3A%20%22114%22%2C%20%22properties%22%3A%20%7B%22stop_id%22%3A%20%22783968%22%2C%20%22stop_sequence%22%3A%206.0%7D%2C%20%22type%22%3A%20%22Feature%22%7D%2C%20%7B%22bbox%22%3A%20%5B-122.78457641601561%2C%2038.89637707181453%2C%20-122.61222839355467%2C%2038.959675756843836%5D%2C%20%22geometry%22%3A%20%7B%22coordinates%22%3A%20%5B%5B%5B-122.78457641601561%2C%2038.89637707181454%5D%2C%20%5B-122.61222839355467%2C%2038.89637707181453%5D%2C%20%5B-122.61222839355467%2C%2038.95967575684379%5D%2C%20%5B-122.78457641601561%2C%2038.959675756843836%5D%2C%20%5B-122.78457641601561%2C%2038.89637707181454%5D%5D%5D%2C%20%22type%22%3A%20%22Polygon%22%7D%2C%20%22id%22%3A%20%220%22%2C%20%22properties%22%3A%20%7B%22stop_id%22%3A%20null%2C%20%22stop_sequence%22%3A%20null%7D%2C%20%22type%22%3A%20%22Feature%22%7D%5D%2C%20%22type%22%3A%20%22FeatureCollection%22%7D%29%3B%0A%0A%20%20%20%20%20%20%20%20%0A%20%20%20%20%0A%20%20%20%20geo_json_9cec468af8dd40c7b8e34f637a9d4808.bindTooltip%28%0A%20%20%20%20function%28layer%29%7B%0A%20%20%20%20let%20div%20%3D%20L.DomUtil.create%28%27div%27%29%3B%0A%20%20%20%20%0A%20%20%20%20let%20handleObject%20%3D%20feature%3D%3Etypeof%28feature%29%3D%3D%27object%27%20%3F%20JSON.stringify%28feature%29%20%3A%20feature%3B%0A%20%20%20%20let%20fields%20%3D%20%5B%22stop_id%22%2C%20%22stop_sequence%22%5D%3B%0A%20%20%20%20let%20aliases%20%3D%20%5B%22stop_id%22%2C%20%22stop_sequence%22%5D%3B%0A%20%20%20%20let%20table%20%3D%20%27%3Ctable%3E%27%20%2B%0A%20%20%20%20%20%20%20%20String%28%0A%20%20%20%20%20%20%20%20fields.map%28%0A%20%20%20%20%20%20%20%20%28v%2Ci%29%3D%3E%0A%20%20%20%20%20%20%20%20%60%3Ctr%3E%0A%20%20%20%20%20%20%20%20%20%20%20%20%3Cth%3E%24%7Baliases%5Bi%5D%7D%3C/th%3E%0A%20%20%20%20%20%20%20%20%20%20%20%20%0A%20%20%20%20%20%20%20%20%20%20%20%20%3Ctd%3E%24%7BhandleObject%28layer.feature.properties%5Bv%5D%29%7D%3C/td%3E%0A%20%20%20%20%20%20%20%20%3C/tr%3E%60%29.join%28%27%27%29%29%0A%20%20%20%20%2B%27%3C/table%3E%27%3B%0A%20%20%20%20div.innerHTML%3Dtable%3B%0A%20%20%20%20%0A%20%20%20%20return%20div%0A%20%20%20%20%7D%0A%20%20%20%20%2C%7B%22className%22%3A%20%22foliumtooltip%22%2C%20%22sticky%22%3A%20true%7D%29%3B%0A%20%20%20%20%20%20%20%20%20%20%20%20%20%20%20%20%20%20%20%20%20%0A%3C/script%3E onload=\"this.contentDocument.open();this.contentDocument.write(    decodeURIComponent(this.getAttribute('data-html')));this.contentDocument.close();\" allowfullscreen webkitallowfullscreen mozallowfullscreen></iframe></div></div>"
      ],
      "text/plain": [
       "<folium.folium.Map at 0x7faffeff8ca0>"
      ]
     },
     "execution_count": 14,
     "metadata": {},
     "output_type": "execute_result"
    }
   ],
   "source": [
    "# quick corridor map\n",
    "rt_day.quick_map_corridor()"
   ]
  },
  {
   "cell_type": "markdown",
   "id": "eb46580f-d923-464b-b2ea-9b59e65c09c0",
   "metadata": {
    "tags": []
   },
   "source": [
    "# Algorithm\n",
    "\n",
    "* Clip stops to corridor\n",
    "* Get first and last stops in corridor for each shape_id, then find 1 stop before and 1 stop after for each\n",
    "* Filter stop_delay_view based on those stops\n",
    "* Assert that more than 50% of filtered stops within corridor, if not then drop shape (remove shapes starting/ending in corridor but mostly running outside)"
   ]
  },
  {
   "cell_type": "markdown",
   "id": "ae61436e-066e-4044-b8d5-076ed7e55255",
   "metadata": {},
   "source": [
    "# Report:\n",
    "\n",
    "* Sum of median trip delays\n",
    "* Median segment speed\n",
    "* Delay compared to speed standards: 16mph (approx. 75th %ile for medium size operator by 2010 NTD)"
   ]
  },
  {
   "cell_type": "markdown",
   "id": "897b4f06-6264-481e-a388-f7e1bc16bff7",
   "metadata": {},
   "source": [
    "# Corridor-based metrics for SCCP\n",
    "\n",
    "* intent is to eventually parameterize this and output formatted report, also methodology may change"
   ]
  },
  {
   "cell_type": "code",
   "execution_count": 15,
   "id": "16cbcfa2-a3a6-4a54-8d0f-0541086f8b6c",
   "metadata": {},
   "outputs": [
    {
     "data": {
      "application/vnd.jupyter.widget-view+json": {
       "model_id": "b48800114c7a46eb9fc424d7fa924508",
       "version_major": 2,
       "version_minor": 0
      },
      "text/plain": [
       "0it [00:00, ?it/s]"
      ]
     },
     "metadata": {},
     "output_type": "display_data"
    }
   ],
   "source": [
    "pbar = tqdm()"
   ]
  },
  {
   "cell_type": "code",
   "execution_count": 19,
   "id": "9c802068-1d29-49d2-9775-8b3359f0f0b7",
   "metadata": {},
   "outputs": [
    {
     "data": {
      "text/plain": [
       "{'schedule_metric_minutes': 19.233333333333334,\n",
       " 'speed_metric_minutes': -583.3004503960505}"
      ]
     },
     "execution_count": 19,
     "metadata": {},
     "output_type": "execute_result"
    }
   ],
   "source": [
    "rt_day.corridor_metrics()"
   ]
  },
  {
   "cell_type": "code",
   "execution_count": 22,
   "id": "96ebddbf-7a0d-4ab8-a03c-f05b32367727",
   "metadata": {},
   "outputs": [
    {
     "name": "stdout",
     "output_type": "stream",
     "text": [
      "failed for date: 2022-04-30\n",
      "calitp-analytics-data/data-analyses/rt_delay/rt_trips/159_04_30.parquet\n",
      "failed for date: 2022-05-01\n",
      "calitp-analytics-data/data-analyses/rt_delay/rt_trips/159_05_01.parquet\n",
      "found parquet\n",
      "complete for date: 2022-05-02\n",
      "found parquet\n",
      "complete for date: 2022-05-03\n",
      "found parquet\n",
      "complete for date: 2022-05-04\n",
      "found parquet\n",
      "complete for date: 2022-05-05\n",
      "found parquet\n",
      "complete for date: 2022-05-06\n",
      "failed for date: 2022-05-07\n",
      "calitp-analytics-data/data-analyses/rt_delay/rt_trips/159_05_07.parquet\n",
      "failed for date: 2022-05-08\n",
      "calitp-analytics-data/data-analyses/rt_delay/rt_trips/159_05_08.parquet\n"
     ]
    }
   ],
   "source": [
    "schedule_metrics = []\n",
    "speed_metrics = []\n",
    "for date in date_range:\n",
    "    date = date.astype(dt.date)\n",
    "    try:\n",
    "        rt_day = rt_filter_map_plot.from_gcs(itp_id, date, pbar)\n",
    "        rt_day.add_corridor(corridor)\n",
    "        _m = rt_filter_map_plot.RtFilterMapper.segment_speed_map(rt_day, corridor=True)\n",
    "        metrics = rt_day.corridor_metrics()\n",
    "        schedule_metrics += [metrics['schedule_metric_minutes']]\n",
    "        speed_metrics += [metrics['speed_metric_minutes']]\n",
    "        print(f'complete for date: {date}')\n",
    "    except Exception as e:\n",
    "        print(f'failed for date: {date}')\n",
    "        print(e)\n",
    "        continue"
   ]
  },
  {
   "cell_type": "code",
   "execution_count": 23,
   "id": "09f20689-881d-4f47-bbe3-318aa987b387",
   "metadata": {},
   "outputs": [
    {
     "data": {
      "text/plain": [
       "10.0"
      ]
     },
     "execution_count": 23,
     "metadata": {},
     "output_type": "execute_result"
    }
   ],
   "source": [
    "np.round(np.mean(schedule_metrics), 0)"
   ]
  },
  {
   "cell_type": "code",
   "execution_count": 24,
   "id": "e210922d-8985-42e7-8d20-2be8483bcd9d",
   "metadata": {},
   "outputs": [
    {
     "data": {
      "text/plain": [
       "-463.0"
      ]
     },
     "execution_count": 24,
     "metadata": {},
     "output_type": "execute_result"
    }
   ],
   "source": [
    "np.round(np.mean(speed_metrics), 0)"
   ]
  },
  {
   "cell_type": "code",
   "execution_count": 29,
   "id": "240b56a5-c676-4487-ad01-6e3d44da8e26",
   "metadata": {},
   "outputs": [
    {
     "name": "stdout",
     "output_type": "stream",
     "text": [
      "found parquet\n"
     ]
    }
   ],
   "source": [
    "rt_day = rt_filter_map_plot.from_gcs(itp_id, dt.date(2022, 5, 4), pbar)\n",
    "rt_day.add_corridor(corridor)\n",
    "_m = rt_filter_map_plot.RtFilterMapper.segment_speed_map(rt_day, corridor=True)"
   ]
  },
  {
   "cell_type": "code",
   "execution_count": 30,
   "id": "acd53441-0e16-4367-9068-57eade77431d",
   "metadata": {},
   "outputs": [],
   "source": [
    "_m.save('lake_map.html')"
   ]
  },
  {
   "cell_type": "code",
   "execution_count": 27,
   "id": "76bfd6be-1aff-4e5a-b3e3-b77ede6ee303",
   "metadata": {},
   "outputs": [
    {
     "data": {
      "text/html": [
       "<div>\n",
       "<style scoped>\n",
       "    .dataframe tbody tr th:only-of-type {\n",
       "        vertical-align: middle;\n",
       "    }\n",
       "\n",
       "    .dataframe tbody tr th {\n",
       "        vertical-align: top;\n",
       "    }\n",
       "\n",
       "    .dataframe thead th {\n",
       "        text-align: right;\n",
       "    }\n",
       "</style>\n",
       "<table border=\"1\" class=\"dataframe\">\n",
       "  <thead>\n",
       "    <tr style=\"text-align: right;\">\n",
       "      <th></th>\n",
       "      <th>route_short_name</th>\n",
       "    </tr>\n",
       "  </thead>\n",
       "  <tbody>\n",
       "    <tr>\n",
       "      <th>0</th>\n",
       "      <td>11</td>\n",
       "    </tr>\n",
       "    <tr>\n",
       "      <th>1</th>\n",
       "      <td>4</td>\n",
       "    </tr>\n",
       "    <tr>\n",
       "      <th>2</th>\n",
       "      <td>3</td>\n",
       "    </tr>\n",
       "    <tr>\n",
       "      <th>3</th>\n",
       "      <td>10</td>\n",
       "    </tr>\n",
       "  </tbody>\n",
       "</table>\n",
       "</div>"
      ],
      "text/plain": [
       "  route_short_name\n",
       "0               11\n",
       "1                4\n",
       "2                3\n",
       "3               10"
      ]
     },
     "execution_count": 27,
     "metadata": {},
     "output_type": "execute_result"
    }
   ],
   "source": [
    "rt_day.stop_delay_view >> filter(_.corridor) >> distinct(_.route_short_name)"
   ]
  }
 ],
 "metadata": {
  "kernelspec": {
   "display_name": "Python 3 (ipykernel)",
   "language": "python",
   "name": "python3"
  },
  "language_info": {
   "codemirror_mode": {
    "name": "ipython",
    "version": 3
   },
   "file_extension": ".py",
   "mimetype": "text/x-python",
   "name": "python",
   "nbconvert_exporter": "python",
   "pygments_lexer": "ipython3",
   "version": "3.10.5"
  }
 },
 "nbformat": 4,
 "nbformat_minor": 5
}
