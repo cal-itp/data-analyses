{
 "cells": [
  {
   "cell_type": "code",
   "execution_count": 1,
   "id": "a51f0c99-91a1-4406-824c-215139aa98d0",
   "metadata": {},
   "outputs": [],
   "source": [
    "%%capture\n",
    "import warnings\n",
    "warnings.filterwarnings('ignore')\n",
    "\n",
    "import os\n",
    "os.environ[\"CALITP_BQ_MAX_BYTES\"] = str(800_000_000_000)\n",
    "import shared_utils\n",
    "\n",
    "from calitp.tables import tbl\n",
    "from calitp import query_sql\n",
    "import calitp.magics\n",
    "\n",
    "from siuba import *\n",
    "import pandas as pd\n",
    "import numpy as np\n",
    "import geopandas as gpd\n",
    "\n",
    "import datetime as dt\n",
    "\n",
    "import importlib\n",
    "import rt_analysis as rt\n",
    "import rt_filter_map_plot\n",
    "\n",
    "import gcsfs\n",
    "fs = gcsfs.GCSFileSystem()\n",
    "\n",
    "from IPython.display import display, Markdown, Latex, HTML\n",
    "import json\n",
    "\n",
    "from tqdm import tqdm_notebook\n",
    "from tqdm.notebook import trange, tqdm"
   ]
  },
  {
   "cell_type": "markdown",
   "id": "eb46580f-d923-464b-b2ea-9b59e65c09c0",
   "metadata": {
    "tags": []
   },
   "source": [
    "# Algorithm\n",
    "\n",
    "* Clip stops to corridor\n",
    "* Get first and last stops in corridor for each shape_id, then find 1 stop before and 1 stop after for each\n",
    "* Filter stop_delay_view based on those stops"
   ]
  },
  {
   "cell_type": "markdown",
   "id": "ae61436e-066e-4044-b8d5-076ed7e55255",
   "metadata": {},
   "source": [
    "# Report:\n",
    "\n",
    "* Sum of median trip delays\n",
    "* Median segment speed\n",
    "* Delay compared to speed standards: 16mph (approx. 75th %ile for medium size operator by 2010 NTD)"
   ]
  },
  {
   "cell_type": "markdown",
   "id": "a56cdc3e-95ab-4f42-8fc7-207b6305c5cf",
   "metadata": {},
   "source": [
    "# Common Ranges/Functions"
   ]
  },
  {
   "cell_type": "code",
   "execution_count": 2,
   "id": "4ce12969-7cd3-4cd7-b760-c6f7826b85e5",
   "metadata": {},
   "outputs": [],
   "source": [
    "date_range = np.arange('2022-04-30', '2022-05-09', dtype='datetime64[D]')"
   ]
  },
  {
   "cell_type": "code",
   "execution_count": 3,
   "id": "744df1ed-20f1-49b9-9de1-1882f026a90c",
   "metadata": {},
   "outputs": [],
   "source": [
    "def generate_export_data(itp_id, date_range, pbar):\n",
    "    for date in date_range:\n",
    "        date = date.astype(dt.date)\n",
    "        try:\n",
    "            rt_analysis = rt.OperatorDayAnalysis(itp_id, date, pbar)\n",
    "            rt_analysis.export_views_gcs()\n",
    "            print(f'complete for date: {date}')\n",
    "        except Exception as e:\n",
    "            print(e)\n",
    "            print(f'failed for date: {date}')\n",
    "            continue"
   ]
  },
  {
   "cell_type": "code",
   "execution_count": 4,
   "id": "96ebddbf-7a0d-4ab8-a03c-f05b32367727",
   "metadata": {},
   "outputs": [],
   "source": [
    "def average_metrics(itp_id, date_range, pbar):\n",
    "\n",
    "    schedule_metrics = []\n",
    "    speed_metrics = []\n",
    "    for date in date_range:\n",
    "        date = date.astype(dt.date)\n",
    "        try:\n",
    "            rt_day = rt_filter_map_plot.from_gcs(itp_id, date, pbar)\n",
    "            rt_day.add_corridor(corridor)\n",
    "            _m = rt_filter_map_plot.RtFilterMapper.segment_speed_map(rt_day, corridor=True)\n",
    "            metrics = rt_day.corridor_metrics()\n",
    "            schedule_metrics += [metrics['schedule_metric_minutes']]\n",
    "            speed_metrics += [metrics['speed_metric_minutes']]\n",
    "            print(f'complete for date: {date}')\n",
    "        except Exception as e:\n",
    "            print(f'failed for date: {date}')\n",
    "            print(e)\n",
    "            continue\n",
    "    schedule_metric = np.round(np.mean(schedule_metrics), 0)\n",
    "    speed_metric = np.round(np.mean(speed_metrics), 0)\n",
    "    return {'avg_schedule_metric_minutes': schedule_metric,\n",
    "           'avg_speed_metric_minutes': speed_metric}"
   ]
  },
  {
   "cell_type": "markdown",
   "id": "af13c48a-2825-406e-b066-897c7b0a7911",
   "metadata": {},
   "source": [
    "# AC / Lake"
   ]
  },
  {
   "cell_type": "code",
   "execution_count": null,
   "id": "a98a9208-4023-4205-8088-f68bb560ee3f",
   "metadata": {},
   "outputs": [],
   "source": [
    "# itp_id = 4 ## AC Transit\n",
    "itp_id = 159 ## Lake Transit"
   ]
  },
  {
   "cell_type": "markdown",
   "id": "3209f492-611b-4aa9-9c49-9c473328426c",
   "metadata": {},
   "source": [
    "# Generate analysis data for all dates"
   ]
  },
  {
   "cell_type": "code",
   "execution_count": null,
   "id": "d70b77af-0f15-4865-96eb-db81141aab06",
   "metadata": {},
   "outputs": [],
   "source": [
    "rt_day = rt_filter_map_plot.from_gcs(itp_id, dt.date(2022, 5, 4))"
   ]
  },
  {
   "cell_type": "code",
   "execution_count": null,
   "id": "08abef6b-da42-45fb-b785-204a5791df19",
   "metadata": {},
   "outputs": [],
   "source": [
    "# corridor = gpd.read_file('./CMCP_StudyAreaBoundary.geojson') ## alameda"
   ]
  },
  {
   "cell_type": "code",
   "execution_count": null,
   "id": "64051f76-f295-45c7-8aee-f18038d7ae38",
   "metadata": {},
   "outputs": [],
   "source": [
    "rt_day.add_corridor(corridor)"
   ]
  },
  {
   "cell_type": "code",
   "execution_count": null,
   "id": "81b0c861-19b3-4f12-b26f-37aae90352e7",
   "metadata": {},
   "outputs": [],
   "source": [
    "# quick corridor map\n",
    "# rt_day.quick_map_corridor()"
   ]
  },
  {
   "cell_type": "markdown",
   "id": "897b4f06-6264-481e-a388-f7e1bc16bff7",
   "metadata": {},
   "source": [
    "# Corridor-based metrics for SCCP\n",
    "\n",
    "* intent is to eventually parameterize this and output formatted report, also methodology may change"
   ]
  },
  {
   "cell_type": "code",
   "execution_count": null,
   "id": "16cbcfa2-a3a6-4a54-8d0f-0541086f8b6c",
   "metadata": {},
   "outputs": [],
   "source": [
    "pbar = tqdm()"
   ]
  },
  {
   "cell_type": "code",
   "execution_count": null,
   "id": "240b56a5-c676-4487-ad01-6e3d44da8e26",
   "metadata": {},
   "outputs": [],
   "source": [
    "rt_day = rt_filter_map_plot.from_gcs(itp_id, dt.date(2022, 5, 4), pbar)\n",
    "rt_day.add_corridor(corridor)\n",
    "_m = rt_filter_map_plot.RtFilterMapper.segment_speed_map(rt_day, corridor=True)"
   ]
  },
  {
   "cell_type": "code",
   "execution_count": null,
   "id": "acd53441-0e16-4367-9068-57eade77431d",
   "metadata": {},
   "outputs": [],
   "source": [
    "_m.save('lake_map.html')"
   ]
  },
  {
   "cell_type": "code",
   "execution_count": null,
   "id": "76bfd6be-1aff-4e5a-b3e3-b77ede6ee303",
   "metadata": {},
   "outputs": [],
   "source": [
    "rt_day.stop_delay_view >> filter(_.corridor) >> distinct(_.route_short_name)"
   ]
  },
  {
   "cell_type": "markdown",
   "id": "fb9a2b89-ca81-4763-bbc7-5e51c2251e99",
   "metadata": {},
   "source": [
    "# Samtrans"
   ]
  },
  {
   "cell_type": "code",
   "execution_count": null,
   "id": "2bf398bb-972e-46a6-ae05-ffe3eb8048d9",
   "metadata": {},
   "outputs": [],
   "source": [
    "itp_id = 290 # Samtrans"
   ]
  },
  {
   "cell_type": "code",
   "execution_count": null,
   "id": "d101a6dd-76c9-4a8a-8259-a6d4c0ef926f",
   "metadata": {},
   "outputs": [],
   "source": [
    "import numpy as np"
   ]
  },
  {
   "cell_type": "code",
   "execution_count": null,
   "id": "62015e80-855e-467d-a2aa-37550eb6f32f",
   "metadata": {},
   "outputs": [],
   "source": [
    "date_range = np.arange('2022-04-30', '2022-05-09', dtype='datetime64[D]')"
   ]
  },
  {
   "cell_type": "code",
   "execution_count": null,
   "id": "bd8a40c0-af6a-46e2-9c8d-f807811e5385",
   "metadata": {},
   "outputs": [],
   "source": [
    "date_range"
   ]
  },
  {
   "cell_type": "markdown",
   "id": "a3ed4b3d-060c-4854-8b1e-939d234bed67",
   "metadata": {},
   "source": [
    "# Generate analysis data for all dates"
   ]
  },
  {
   "cell_type": "code",
   "execution_count": null,
   "id": "1f585159-64a1-488c-ad3b-88ede3bd52bc",
   "metadata": {},
   "outputs": [],
   "source": [
    "pbar = tqdm()"
   ]
  },
  {
   "cell_type": "code",
   "execution_count": null,
   "id": "57c61a2e-5b8f-48cf-ae0f-09c7cd5a1c95",
   "metadata": {},
   "outputs": [],
   "source": [
    "rt_day = rt_filter_map_plot.from_gcs(itp_id, dt.date(2022, 5, 5))"
   ]
  },
  {
   "cell_type": "code",
   "execution_count": null,
   "id": "4ca4e9c9-e0b0-4ffd-821b-d05493bf2010",
   "metadata": {},
   "outputs": [],
   "source": [
    "corridor = gpd.read_file('./corridors_sccp_lpp/peninsula.geojson') ## foster city / hayward park"
   ]
  },
  {
   "cell_type": "code",
   "execution_count": null,
   "id": "e2333a37-dcbd-4c8d-a584-333fb1ff71f1",
   "metadata": {},
   "outputs": [],
   "source": [
    "rt_day.add_corridor(corridor)"
   ]
  },
  {
   "cell_type": "code",
   "execution_count": null,
   "id": "1b7bf48d-2853-41a3-bf95-f80bc1753529",
   "metadata": {},
   "outputs": [],
   "source": [
    "# quick corridor map\n",
    "rt_day.quick_map_corridor()"
   ]
  },
  {
   "cell_type": "code",
   "execution_count": null,
   "id": "f3b70174-1286-43cd-867c-7b7564727786",
   "metadata": {},
   "outputs": [],
   "source": [
    "pbar = tqdm()"
   ]
  },
  {
   "cell_type": "code",
   "execution_count": null,
   "id": "925fb4c2-bc12-4a61-932a-b21fedd398c4",
   "metadata": {},
   "outputs": [],
   "source": [
    "rt_day = rt_filter_map_plot.from_gcs(itp_id, dt.date(2022, 5, 5), pbar)\n",
    "rt_day.add_corridor(corridor)\n",
    "_m = rt_filter_map_plot.RtFilterMapper.segment_speed_map(rt_day, corridor=True)"
   ]
  },
  {
   "cell_type": "code",
   "execution_count": null,
   "id": "5978ec23-ae78-400f-810e-dc0dd0eb2f51",
   "metadata": {},
   "outputs": [],
   "source": [
    "_m"
   ]
  },
  {
   "cell_type": "code",
   "execution_count": null,
   "id": "aa880fad-4b8f-4be5-92a1-8c24408098fe",
   "metadata": {},
   "outputs": [],
   "source": [
    "_m.save('samtrans_map.html')"
   ]
  },
  {
   "cell_type": "code",
   "execution_count": null,
   "id": "1686596c-31d2-4c34-b4dd-f1b5bae2ba77",
   "metadata": {},
   "outputs": [],
   "source": [
    "rt_day.stop_delay_view >> filter(_.corridor) >> distinct(_.route_short_name)"
   ]
  },
  {
   "cell_type": "code",
   "execution_count": null,
   "id": "ebc6ad15-ac1f-48c7-99ef-0e799c22dfe5",
   "metadata": {},
   "outputs": [],
   "source": [
    "rt_day.corridor_stop_delays"
   ]
  },
  {
   "cell_type": "markdown",
   "id": "3ec413df-faaa-4c63-99e9-92d02e8fe77e",
   "metadata": {},
   "source": [
    "# Metro (Inglewood)"
   ]
  },
  {
   "cell_type": "code",
   "execution_count": 5,
   "id": "eaabd581-d6f4-4961-af7c-06786579b86d",
   "metadata": {},
   "outputs": [
    {
     "data": {
      "text/plain": [
       "array(['2022-04-30', '2022-05-01', '2022-05-02', '2022-05-03',\n",
       "       '2022-05-04', '2022-05-05', '2022-05-06', '2022-05-07',\n",
       "       '2022-05-08'], dtype='datetime64[D]')"
      ]
     },
     "execution_count": 5,
     "metadata": {},
     "output_type": "execute_result"
    }
   ],
   "source": [
    "date_range"
   ]
  },
  {
   "cell_type": "code",
   "execution_count": 6,
   "id": "d1af16af-0749-4440-8e52-c2829c62732b",
   "metadata": {},
   "outputs": [],
   "source": [
    "itp_id = 182\n",
    "corridor = gpd.read_file('./corridors_sccp_lpp/inglewood_map.geojson')"
   ]
  },
  {
   "cell_type": "code",
   "execution_count": 7,
   "id": "2ce01d09-0dbc-4554-8d3a-8e80409ed8ef",
   "metadata": {
    "tags": []
   },
   "outputs": [],
   "source": [
    "# corridor.explore()"
   ]
  },
  {
   "cell_type": "code",
   "execution_count": 8,
   "id": "64202f48-c08a-4e84-ae6f-421d9eb851ba",
   "metadata": {},
   "outputs": [
    {
     "data": {
      "application/vnd.jupyter.widget-view+json": {
       "model_id": "ff777232c7b342a29a02ea4425f5c776",
       "version_major": 2,
       "version_minor": 0
      },
      "text/plain": [
       "0it [00:00, ?it/s]"
      ]
     },
     "metadata": {},
     "output_type": "display_data"
    }
   ],
   "source": [
    "pbar = tqdm()"
   ]
  },
  {
   "cell_type": "code",
   "execution_count": null,
   "id": "15dae003-7272-4a6a-b9fb-7aa500d13c5b",
   "metadata": {},
   "outputs": [
    {
     "name": "stdout",
     "output_type": "stream",
     "text": [
      "getting trips...\n",
      "could not generate delays for trip 10051003230650-FEB22\n",
      "Columns must be same length as key\n"
     ]
    }
   ],
   "source": [
    "generate_export_data(itp_id, dates_to_run, pbar)"
   ]
  },
  {
   "cell_type": "code",
   "execution_count": null,
   "id": "b8646f2f-ed67-4395-a7bd-4c9e4dc13178",
   "metadata": {},
   "outputs": [],
   "source": [
    "fs_list = fs.ls(f'{shared_utils.rt_utils.GCS_FILE_PATH}rt_trips/')"
   ]
  },
  {
   "cell_type": "code",
   "execution_count": null,
   "id": "a7fbae20-4a42-4f90-a055-a225534c8379",
   "metadata": {
    "tags": []
   },
   "outputs": [],
   "source": [
    "def get_operators(analysis_date):\n",
    "    \n",
    "    day = str(analysis_date.day).zfill(2)\n",
    "    month = str(analysis_date.month).zfill(2)\n",
    "    ## now finds ran operators on specific analysis date\n",
    "    ran_operators = [int(path.split('rt_trips/')[1].split('_')[0])\n",
    "                     for path in fs_list\n",
    "                     if path.split('rt_trips/')[1] and path.split('rt_trips/')[1].split('_')[1] == month and path.split('rt_trips/')[1].split('_')[2][:2] == day]\n",
    "    return ran_operators"
   ]
  },
  {
   "cell_type": "code",
   "execution_count": null,
   "id": "d03b27a1-eb8d-4881-8ac8-60d8af3dd1ca",
   "metadata": {},
   "outputs": [],
   "source": [
    "date_range[2:4]"
   ]
  },
  {
   "cell_type": "code",
   "execution_count": 10,
   "id": "44d472cc-dd7e-4f15-8e16-955c58cc4ea9",
   "metadata": {},
   "outputs": [],
   "source": [
    "# dates_to_run = np.concatenate([date_range[2:4], date_range[5:]])"
   ]
  },
  {
   "cell_type": "code",
   "execution_count": 11,
   "id": "38025766-2910-4825-863d-ac0a1c226ef1",
   "metadata": {},
   "outputs": [],
   "source": [
    "dates_to_run = date_range[[3]]"
   ]
  },
  {
   "cell_type": "code",
   "execution_count": 12,
   "id": "3c1be9e0-2798-4072-aa91-ad75ff6baad9",
   "metadata": {},
   "outputs": [
    {
     "data": {
      "text/plain": [
       "array(['2022-05-03'], dtype='datetime64[D]')"
      ]
     },
     "execution_count": 12,
     "metadata": {},
     "output_type": "execute_result"
    }
   ],
   "source": [
    "dates_to_run"
   ]
  },
  {
   "cell_type": "code",
   "execution_count": null,
   "id": "59004677-7187-4c9e-ad29-b2cfe7fc5b75",
   "metadata": {},
   "outputs": [],
   "source": [
    "for date in date_range:\n",
    "    date = date.astype(dt.date)\n",
    "    print(date, end=': ')\n",
    "    print(get_operators(date))"
   ]
  }
 ],
 "metadata": {
  "kernelspec": {
   "display_name": "Python 3 (ipykernel)",
   "language": "python",
   "name": "python3"
  },
  "language_info": {
   "codemirror_mode": {
    "name": "ipython",
    "version": 3
   },
   "file_extension": ".py",
   "mimetype": "text/x-python",
   "name": "python",
   "nbconvert_exporter": "python",
   "pygments_lexer": "ipython3",
   "version": "3.10.5"
  }
 },
 "nbformat": 4,
 "nbformat_minor": 5
}
