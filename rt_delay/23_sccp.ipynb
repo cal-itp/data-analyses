{
 "cells": [
  {
   "cell_type": "code",
   "execution_count": 1,
   "id": "dcd66258-d288-4f65-a7e2-5065d0148b16",
   "metadata": {},
   "outputs": [
    {
     "name": "stderr",
     "output_type": "stream",
     "text": [
      "/opt/conda/lib/python3.10/site-packages/geopandas/_compat.py:123: UserWarning: The Shapely GEOS version (3.10.3-CAPI-1.16.1) is incompatible with the GEOS version PyGEOS was compiled with (3.10.1-CAPI-1.16.0). Conversions between both will be slow.\n",
      "  warnings.warn(\n"
     ]
    }
   ],
   "source": [
    "import os\n",
    "os.environ[\"CALITP_BQ_MAX_BYTES\"] = str(1_000_000_000_000) ## 1TB?\n",
    "\n",
    "from siuba import *\n",
    "import pandas as pd\n",
    "import geopandas as gpd\n",
    "import datetime as dt\n",
    "\n",
    "from rt_analysis import rt_parser\n",
    "from rt_analysis import rt_filter_map_plot\n",
    "\n",
    "import shared_utils"
   ]
  },
  {
   "cell_type": "code",
   "execution_count": 2,
   "id": "2e857751-e558-40be-b9a1-2325d3337286",
   "metadata": {},
   "outputs": [],
   "source": [
    "from rt_analysis import sccp_tools\n",
    "import numpy as np"
   ]
  },
  {
   "cell_type": "code",
   "execution_count": 3,
   "id": "f9002041-23d1-40a8-81ac-47a0fc245727",
   "metadata": {},
   "outputs": [],
   "source": [
    "from tqdm.notebook import tqdm"
   ]
  },
  {
   "cell_type": "markdown",
   "id": "0190d051-8208-41a0-aafd-4ca14da4e795",
   "metadata": {},
   "source": [
    "# About the Metrics\n",
    "\n",
    "The schedule-based metric is a daily average of the sum of median trip stop delays along the corridor. To further explain, we take each corridor trip that we have data for and look at the delay in comparison to the schedule at each stop, after subtracting off any delay present as the trip entered the corridor. For each trip we then take the median delay of all stops along the corridor, and sum these medians to create the metric.\n",
    "\n",
    "The speed-based metric is a daily average of the sum of delays for each trip traversing the corridor as compared to a reference speed of 16 miles per houar. To further explain, we take each corridor trip that we have data for and calculate the hypothetical time it would take for that trip to traverse the corridor at a speed of 16 mph. The difference between the actual time it took for the trip to traverse the corridor and that hypothetical time is the speed-based delay for that trip, and we sum those delays to create the metric. This metric is intended to provide a more consistent basis for comparison independent of scheduling practices.\n",
    "\n",
    "In other words, if we expect a hypothetical bus lane/signal priority/payment system etc to increase corridor speeds to 16mph, this is how much time we could save per day.\n",
    "\n",
    "With corridor attached, generate both metrics using `RtFilterMapper.corridor_metrics()`"
   ]
  },
  {
   "cell_type": "markdown",
   "id": "a56cdc3e-95ab-4f42-8fc7-207b6305c5cf",
   "metadata": {},
   "source": [
    "## Common Date Range (2022-23) and convienience function"
   ]
  },
  {
   "cell_type": "code",
   "execution_count": 4,
   "id": "4ce12969-7cd3-4cd7-b760-c6f7826b85e5",
   "metadata": {},
   "outputs": [],
   "source": [
    "date_range = np.arange('2022-04-30', '2022-05-09', dtype='datetime64[D]')"
   ]
  },
  {
   "cell_type": "code",
   "execution_count": 5,
   "id": "80112aa9-16d5-4436-8ebd-0c578efa351e",
   "metadata": {},
   "outputs": [
    {
     "data": {
      "text/plain": [
       "numpy.ndarray"
      ]
     },
     "execution_count": 5,
     "metadata": {},
     "output_type": "execute_result"
    }
   ],
   "source": [
    "type(date_range)"
   ]
  },
  {
   "cell_type": "code",
   "execution_count": 6,
   "id": "744df1ed-20f1-49b9-9de1-1882f026a90c",
   "metadata": {},
   "outputs": [],
   "source": [
    "def generate_export_data(itp_id, date_range, pbar):\n",
    "    for date in date_range:\n",
    "        analysis_date = date.astype(dt.date)\n",
    "        check_ran = shared_utils.rt_utils.get_operators(analysis_date, [itp_id])\n",
    "        if check_ran[itp_id] == 'already_ran':\n",
    "            continue\n",
    "        rt_day = rt_parser.OperatorDayAnalysis(itp_id, analysis_date, pbar)\n",
    "        # don't worry about the CRS not set UserWarning\n",
    "        rt_day.export_views_gcs()"
   ]
  },
  {
   "cell_type": "markdown",
   "id": "af13c48a-2825-406e-b066-897c7b0a7911",
   "metadata": {},
   "source": [
    "# AC / Lake"
   ]
  },
  {
   "cell_type": "code",
   "execution_count": 7,
   "id": "a98a9208-4023-4205-8088-f68bb560ee3f",
   "metadata": {},
   "outputs": [],
   "source": [
    "# itp_id = 4 ## AC Transit\n",
    "# itp_id = 159 ## Lake Transit"
   ]
  },
  {
   "cell_type": "code",
   "execution_count": 8,
   "id": "08abef6b-da42-45fb-b785-204a5791df19",
   "metadata": {},
   "outputs": [],
   "source": [
    "# corridor = gpd.read_file('./corridors_sccp_lpp/CMCP_StudyAreaBoundary.geojson') ## alameda"
   ]
  },
  {
   "cell_type": "markdown",
   "id": "fb9a2b89-ca81-4763-bbc7-5e51c2251e99",
   "metadata": {},
   "source": [
    "# Samtrans"
   ]
  },
  {
   "cell_type": "code",
   "execution_count": 9,
   "id": "2bf398bb-972e-46a6-ae05-ffe3eb8048d9",
   "metadata": {},
   "outputs": [],
   "source": [
    "# itp_id = 290 # Samtrans"
   ]
  },
  {
   "cell_type": "code",
   "execution_count": 10,
   "id": "4ca4e9c9-e0b0-4ffd-821b-d05493bf2010",
   "metadata": {},
   "outputs": [],
   "source": [
    "# corridor = gpd.read_file('./corridors_sccp_lpp/peninsula.geojson') ## foster city / hayward park"
   ]
  },
  {
   "cell_type": "markdown",
   "id": "3ec413df-faaa-4c63-99e9-92d02e8fe77e",
   "metadata": {},
   "source": [
    "# Metro (Inglewood)"
   ]
  },
  {
   "cell_type": "code",
   "execution_count": 11,
   "id": "d1af16af-0749-4440-8e52-c2829c62732b",
   "metadata": {},
   "outputs": [],
   "source": [
    "# itp_id = 182\n",
    "# corridor = gpd.read_file('./corridors_sccp_lpp/inglewood_map.geojson')"
   ]
  },
  {
   "cell_type": "markdown",
   "id": "7c6f3363-c584-4b43-bcb8-9dc653e46417",
   "metadata": {},
   "source": [
    "# SacRT/SJRTD, post-refactor"
   ]
  },
  {
   "cell_type": "code",
   "execution_count": 12,
   "id": "ea14fc78-e554-4f93-9557-e07a8e6b7e5e",
   "metadata": {},
   "outputs": [
    {
     "data": {
      "application/vnd.jupyter.widget-view+json": {
       "model_id": "0854779671f14cd5a1bdbdbc52ca0257",
       "version_major": 2,
       "version_minor": 0
      },
      "text/plain": [
       "0it [00:00, ?it/s]"
      ]
     },
     "metadata": {},
     "output_type": "display_data"
    }
   ],
   "source": [
    "pbar = tqdm()"
   ]
  },
  {
   "cell_type": "code",
   "execution_count": 13,
   "id": "3bbdfb63-3af9-4a18-adb4-b7942b368911",
   "metadata": {},
   "outputs": [],
   "source": [
    "sac_rt_itp_id = 273\n",
    "sjrtd_itp_id = 284"
   ]
  },
  {
   "cell_type": "code",
   "execution_count": 14,
   "id": "c90f285c-1db8-4ca3-a731-023ab1e5a1a4",
   "metadata": {},
   "outputs": [],
   "source": [
    "sac_date_range = np.arange('2022-02-05', '2022-02-14', dtype='datetime64[D]')"
   ]
  },
  {
   "cell_type": "code",
   "execution_count": 15,
   "id": "249e074c-bd56-4356-bba7-9fe0b64f87e9",
   "metadata": {},
   "outputs": [
    {
     "name": "stdout",
     "output_type": "stream",
     "text": [
      "already ran: 273\n",
      "already ran: 273\n",
      "already ran: 273\n",
      "already ran: 273\n",
      "not yet run: 273\n"
     ]
    },
    {
     "ename": "AssertionError",
     "evalue": "no vehicle positions data found for 2022-02-09",
     "output_type": "error",
     "traceback": [
      "\u001b[0;31m---------------------------------------------------------------------------\u001b[0m",
      "\u001b[0;31mAssertionError\u001b[0m                            Traceback (most recent call last)",
      "Cell \u001b[0;32mIn [15], line 1\u001b[0m\n\u001b[0;32m----> 1\u001b[0m \u001b[43mgenerate_export_data\u001b[49m\u001b[43m(\u001b[49m\u001b[43msac_rt_itp_id\u001b[49m\u001b[43m,\u001b[49m\u001b[43m \u001b[49m\u001b[43msac_date_range\u001b[49m\u001b[43m,\u001b[49m\u001b[43m \u001b[49m\u001b[43mpbar\u001b[49m\u001b[43m)\u001b[49m\n",
      "Cell \u001b[0;32mIn [6], line 7\u001b[0m, in \u001b[0;36mgenerate_export_data\u001b[0;34m(itp_id, date_range, pbar)\u001b[0m\n\u001b[1;32m      5\u001b[0m \u001b[38;5;28;01mif\u001b[39;00m check_ran[itp_id] \u001b[38;5;241m==\u001b[39m \u001b[38;5;124m'\u001b[39m\u001b[38;5;124malready_ran\u001b[39m\u001b[38;5;124m'\u001b[39m:\n\u001b[1;32m      6\u001b[0m     \u001b[38;5;28;01mcontinue\u001b[39;00m\n\u001b[0;32m----> 7\u001b[0m rt_day \u001b[38;5;241m=\u001b[39m \u001b[43mrt_parser\u001b[49m\u001b[38;5;241;43m.\u001b[39;49m\u001b[43mOperatorDayAnalysis\u001b[49m\u001b[43m(\u001b[49m\u001b[43mitp_id\u001b[49m\u001b[43m,\u001b[49m\u001b[43m \u001b[49m\u001b[43manalysis_date\u001b[49m\u001b[43m,\u001b[49m\u001b[43m \u001b[49m\u001b[43mpbar\u001b[49m\u001b[43m)\u001b[49m\n\u001b[1;32m      8\u001b[0m \u001b[38;5;66;03m# don't worry about the CRS not set UserWarning\u001b[39;00m\n\u001b[1;32m      9\u001b[0m rt_day\u001b[38;5;241m.\u001b[39mexport_views_gcs()\n",
      "File \u001b[0;32m~/data-analyses/rt_delay/rt_analysis/rt_parser.py:219\u001b[0m, in \u001b[0;36mOperatorDayAnalysis.__init__\u001b[0;34m(self, itp_id, analysis_date, pbar)\u001b[0m\n\u001b[1;32m    217\u001b[0m \u001b[38;5;28mself\u001b[39m\u001b[38;5;241m.\u001b[39manalysis_date \u001b[38;5;241m=\u001b[39m analysis_date\n\u001b[1;32m    218\u001b[0m \u001b[38;5;28mself\u001b[39m\u001b[38;5;241m.\u001b[39mdisplay_date \u001b[38;5;241m=\u001b[39m \u001b[38;5;28mself\u001b[39m\u001b[38;5;241m.\u001b[39manalysis_date\u001b[38;5;241m.\u001b[39mstrftime(\u001b[38;5;124m'\u001b[39m\u001b[38;5;124m%\u001b[39m\u001b[38;5;124mb \u001b[39m\u001b[38;5;132;01m%d\u001b[39;00m\u001b[38;5;124m (\u001b[39m\u001b[38;5;132;01m%a\u001b[39;00m\u001b[38;5;124m)\u001b[39m\u001b[38;5;124m'\u001b[39m)\n\u001b[0;32m--> 219\u001b[0m \u001b[38;5;28mself\u001b[39m\u001b[38;5;241m.\u001b[39mvehicle_positions \u001b[38;5;241m=\u001b[39m \u001b[43mshared_utils\u001b[49m\u001b[38;5;241;43m.\u001b[39;49m\u001b[43mrt_utils\u001b[49m\u001b[38;5;241;43m.\u001b[39;49m\u001b[43mget_vehicle_positions\u001b[49m\u001b[43m(\u001b[49m\u001b[38;5;28;43mself\u001b[39;49m\u001b[38;5;241;43m.\u001b[39;49m\u001b[43mcalitp_itp_id\u001b[49m\u001b[43m,\u001b[49m\u001b[43m \u001b[49m\u001b[38;5;28;43mself\u001b[39;49m\u001b[38;5;241;43m.\u001b[39;49m\u001b[43manalysis_date\u001b[49m\u001b[43m)\u001b[49m\n\u001b[1;32m    220\u001b[0m \u001b[38;5;28mself\u001b[39m\u001b[38;5;241m.\u001b[39mtrips \u001b[38;5;241m=\u001b[39m shared_utils\u001b[38;5;241m.\u001b[39mrt_utils\u001b[38;5;241m.\u001b[39mget_trips(\u001b[38;5;28mself\u001b[39m\u001b[38;5;241m.\u001b[39mcalitp_itp_id, \u001b[38;5;28mself\u001b[39m\u001b[38;5;241m.\u001b[39manalysis_date)\n\u001b[1;32m    221\u001b[0m \u001b[38;5;28mself\u001b[39m\u001b[38;5;241m.\u001b[39mstop_times \u001b[38;5;241m=\u001b[39m shared_utils\u001b[38;5;241m.\u001b[39mrt_utils\u001b[38;5;241m.\u001b[39mget_stop_times(\u001b[38;5;28mself\u001b[39m\u001b[38;5;241m.\u001b[39mcalitp_itp_id, \u001b[38;5;28mself\u001b[39m\u001b[38;5;241m.\u001b[39manalysis_date)\n",
      "File \u001b[0;32m~/data-analyses/_shared_utils/shared_utils/rt_utils.py:315\u001b[0m, in \u001b[0;36mget_vehicle_positions\u001b[0;34m(itp_id, analysis_date, export_path)\u001b[0m\n\u001b[1;32m    313\u001b[0m df \u001b[38;5;241m=\u001b[39m df \u001b[38;5;241m>>\u001b[39m distinct(_\u001b[38;5;241m.\u001b[39mtrip_id, _\u001b[38;5;241m.\u001b[39mvehicle_timestamp, _keep_all\u001b[38;5;241m=\u001b[39m\u001b[38;5;28;01mTrue\u001b[39;00m)\n\u001b[1;32m    314\u001b[0m df \u001b[38;5;241m=\u001b[39m df\u001b[38;5;241m.\u001b[39mdropna(subset\u001b[38;5;241m=\u001b[39m[\u001b[38;5;124m\"\u001b[39m\u001b[38;5;124mvehicle_timestamp\u001b[39m\u001b[38;5;124m\"\u001b[39m])\n\u001b[0;32m--> 315\u001b[0m \u001b[38;5;28;01massert\u001b[39;00m \u001b[38;5;129;01mnot\u001b[39;00m df\u001b[38;5;241m.\u001b[39mempty, \u001b[38;5;124mf\u001b[39m\u001b[38;5;124m\"\u001b[39m\u001b[38;5;124mno vehicle positions data found for \u001b[39m\u001b[38;5;132;01m{\u001b[39;00mdate_str\u001b[38;5;132;01m}\u001b[39;00m\u001b[38;5;124m\"\u001b[39m\n\u001b[1;32m    316\u001b[0m df\u001b[38;5;241m.\u001b[39mvehicle_timestamp \u001b[38;5;241m=\u001b[39m df\u001b[38;5;241m.\u001b[39mvehicle_timestamp\u001b[38;5;241m.\u001b[39mapply(convert_ts)\n\u001b[1;32m    317\u001b[0m \u001b[38;5;66;03m# header timestamp not present in staging, add upstream if desired\u001b[39;00m\n\u001b[1;32m    318\u001b[0m \u001b[38;5;66;03m# df.header_timestamp = df.header_timestamp.apply(convert_ts)\u001b[39;00m\n",
      "\u001b[0;31mAssertionError\u001b[0m: no vehicle positions data found for 2022-02-09"
     ]
    }
   ],
   "source": [
    "%%capture --no-stdout\n",
    "\n",
    "generate_export_data(sac_rt_itp_id, sac_date_range, pbar)"
   ]
  },
  {
   "cell_type": "code",
   "execution_count": 16,
   "id": "8e5fe535-56de-4c23-946b-f54f142ce757",
   "metadata": {},
   "outputs": [
    {
     "name": "stdout",
     "output_type": "stream",
     "text": [
      "already ran: 284\n",
      "already ran: 284\n",
      "already ran: 284\n",
      "already ran: 284\n",
      "already ran: 284\n",
      "already ran: 284\n",
      "already ran: 284\n",
      "already ran: 284\n",
      "already ran: 284\n"
     ]
    }
   ],
   "source": [
    "%%capture --no-stdout\n",
    "\n",
    "generate_export_data(sjrtd_itp_id, date_range, pbar)"
   ]
  },
  {
   "cell_type": "code",
   "execution_count": 17,
   "id": "44a60e27-c593-4d42-86e3-4060ea17053e",
   "metadata": {},
   "outputs": [],
   "source": [
    "corridor = gpd.read_file('./corridors_sccp_lpp/sacrt_sjrtd_nov_2.geojson')"
   ]
  },
  {
   "cell_type": "code",
   "execution_count": 29,
   "id": "0db08c20-5012-4071-a89e-48d2f4ea9ad1",
   "metadata": {},
   "outputs": [],
   "source": [
    "# corridor.explore()"
   ]
  },
  {
   "cell_type": "code",
   "execution_count": null,
   "id": "5682a6ef-e92c-47a2-8bff-2543f8fde774",
   "metadata": {},
   "outputs": [],
   "source": [
    "sac_corridor_metrics = sccp_tools.sccp_average_metrics(itp_id=273, date_range=sac_date_range, corridor=corridor)"
   ]
  },
  {
   "cell_type": "code",
   "execution_count": 19,
   "id": "6aa4bf28-6537-4847-ba65-62c76389985d",
   "metadata": {
    "collapsed": true,
    "jupyter": {
     "outputs_hidden": true
    },
    "tags": []
   },
   "outputs": [
    {
     "name": "stdout",
     "output_type": "stream",
     "text": [
      "found parquet\n"
     ]
    },
    {
     "name": "stderr",
     "output_type": "stream",
     "text": [
      "/opt/conda/lib/python3.10/site-packages/siuba/dply/verbs.py:561: FutureWarning: Not prepending group keys to the result index of transform-like apply. In the future, the group keys will be included in the index, regardless of whether the applied function returns a like-indexed object.\n",
      "To preserve the previous behavior, use\n",
      "\n",
      "\t>>> .groupby(..., group_keys=False)\n",
      "\n",
      "To adopt the future behavior and silence this warning, use \n",
      "\n",
      "\t>>> .groupby(..., group_keys=True)\n"
     ]
    },
    {
     "name": "stdout",
     "output_type": "stream",
     "text": [
      "failed for date: 2022-04-30\n",
      "\n",
      "found parquet\n"
     ]
    },
    {
     "name": "stderr",
     "output_type": "stream",
     "text": [
      "/opt/conda/lib/python3.10/site-packages/siuba/dply/verbs.py:561: FutureWarning: Not prepending group keys to the result index of transform-like apply. In the future, the group keys will be included in the index, regardless of whether the applied function returns a like-indexed object.\n",
      "To preserve the previous behavior, use\n",
      "\n",
      "\t>>> .groupby(..., group_keys=False)\n",
      "\n",
      "To adopt the future behavior and silence this warning, use \n",
      "\n",
      "\t>>> .groupby(..., group_keys=True)\n"
     ]
    },
    {
     "name": "stdout",
     "output_type": "stream",
     "text": [
      "failed for date: 2022-05-01\n",
      "\n",
      "found parquet\n"
     ]
    },
    {
     "name": "stderr",
     "output_type": "stream",
     "text": [
      "/opt/conda/lib/python3.10/site-packages/siuba/dply/verbs.py:561: FutureWarning: Not prepending group keys to the result index of transform-like apply. In the future, the group keys will be included in the index, regardless of whether the applied function returns a like-indexed object.\n",
      "To preserve the previous behavior, use\n",
      "\n",
      "\t>>> .groupby(..., group_keys=False)\n",
      "\n",
      "To adopt the future behavior and silence this warning, use \n",
      "\n",
      "\t>>> .groupby(..., group_keys=True)\n"
     ]
    },
    {
     "name": "stdout",
     "output_type": "stream",
     "text": [
      "failed for date: 2022-05-02\n",
      "\n",
      "found parquet\n"
     ]
    },
    {
     "name": "stderr",
     "output_type": "stream",
     "text": [
      "/opt/conda/lib/python3.10/site-packages/siuba/dply/verbs.py:561: FutureWarning: Not prepending group keys to the result index of transform-like apply. In the future, the group keys will be included in the index, regardless of whether the applied function returns a like-indexed object.\n",
      "To preserve the previous behavior, use\n",
      "\n",
      "\t>>> .groupby(..., group_keys=False)\n",
      "\n",
      "To adopt the future behavior and silence this warning, use \n",
      "\n",
      "\t>>> .groupby(..., group_keys=True)\n"
     ]
    },
    {
     "name": "stdout",
     "output_type": "stream",
     "text": [
      "failed for date: 2022-05-03\n",
      "\n",
      "found parquet\n"
     ]
    },
    {
     "name": "stderr",
     "output_type": "stream",
     "text": [
      "/opt/conda/lib/python3.10/site-packages/siuba/dply/verbs.py:561: FutureWarning: Not prepending group keys to the result index of transform-like apply. In the future, the group keys will be included in the index, regardless of whether the applied function returns a like-indexed object.\n",
      "To preserve the previous behavior, use\n",
      "\n",
      "\t>>> .groupby(..., group_keys=False)\n",
      "\n",
      "To adopt the future behavior and silence this warning, use \n",
      "\n",
      "\t>>> .groupby(..., group_keys=True)\n"
     ]
    },
    {
     "name": "stdout",
     "output_type": "stream",
     "text": [
      "failed for date: 2022-05-04\n",
      "\n",
      "found parquet\n"
     ]
    },
    {
     "name": "stderr",
     "output_type": "stream",
     "text": [
      "/opt/conda/lib/python3.10/site-packages/siuba/dply/verbs.py:561: FutureWarning: Not prepending group keys to the result index of transform-like apply. In the future, the group keys will be included in the index, regardless of whether the applied function returns a like-indexed object.\n",
      "To preserve the previous behavior, use\n",
      "\n",
      "\t>>> .groupby(..., group_keys=False)\n",
      "\n",
      "To adopt the future behavior and silence this warning, use \n",
      "\n",
      "\t>>> .groupby(..., group_keys=True)\n"
     ]
    },
    {
     "name": "stdout",
     "output_type": "stream",
     "text": [
      "failed for date: 2022-05-05\n",
      "\n",
      "found parquet\n"
     ]
    },
    {
     "name": "stderr",
     "output_type": "stream",
     "text": [
      "/opt/conda/lib/python3.10/site-packages/siuba/dply/verbs.py:561: FutureWarning: Not prepending group keys to the result index of transform-like apply. In the future, the group keys will be included in the index, regardless of whether the applied function returns a like-indexed object.\n",
      "To preserve the previous behavior, use\n",
      "\n",
      "\t>>> .groupby(..., group_keys=False)\n",
      "\n",
      "To adopt the future behavior and silence this warning, use \n",
      "\n",
      "\t>>> .groupby(..., group_keys=True)\n"
     ]
    },
    {
     "name": "stdout",
     "output_type": "stream",
     "text": [
      "failed for date: 2022-05-06\n",
      "\n",
      "found parquet\n"
     ]
    },
    {
     "name": "stderr",
     "output_type": "stream",
     "text": [
      "/opt/conda/lib/python3.10/site-packages/siuba/dply/verbs.py:561: FutureWarning: Not prepending group keys to the result index of transform-like apply. In the future, the group keys will be included in the index, regardless of whether the applied function returns a like-indexed object.\n",
      "To preserve the previous behavior, use\n",
      "\n",
      "\t>>> .groupby(..., group_keys=False)\n",
      "\n",
      "To adopt the future behavior and silence this warning, use \n",
      "\n",
      "\t>>> .groupby(..., group_keys=True)\n"
     ]
    },
    {
     "name": "stdout",
     "output_type": "stream",
     "text": [
      "failed for date: 2022-05-07\n",
      "\n",
      "found parquet\n"
     ]
    },
    {
     "name": "stderr",
     "output_type": "stream",
     "text": [
      "/opt/conda/lib/python3.10/site-packages/siuba/dply/verbs.py:561: FutureWarning: Not prepending group keys to the result index of transform-like apply. In the future, the group keys will be included in the index, regardless of whether the applied function returns a like-indexed object.\n",
      "To preserve the previous behavior, use\n",
      "\n",
      "\t>>> .groupby(..., group_keys=False)\n",
      "\n",
      "To adopt the future behavior and silence this warning, use \n",
      "\n",
      "\t>>> .groupby(..., group_keys=True)\n"
     ]
    },
    {
     "name": "stdout",
     "output_type": "stream",
     "text": [
      "failed for date: 2022-05-08\n",
      "\n"
     ]
    },
    {
     "name": "stderr",
     "output_type": "stream",
     "text": [
      "/opt/conda/lib/python3.10/site-packages/numpy/core/fromnumeric.py:3432: RuntimeWarning: Mean of empty slice.\n",
      "/opt/conda/lib/python3.10/site-packages/numpy/core/_methods.py:190: RuntimeWarning: invalid value encountered in double_scalars\n"
     ]
    }
   ],
   "source": [
    "sjrtd_corridor_metrics = sccp_tools.sccp_average_metrics(itp_id=284, date_range=date_range, corridor=corridor)"
   ]
  },
  {
   "cell_type": "code",
   "execution_count": 20,
   "id": "5f1a8628-71e9-4a14-92c8-be1499d02feb",
   "metadata": {},
   "outputs": [
    {
     "data": {
      "text/plain": [
       "array(['2022-04-30', '2022-05-01', '2022-05-02', '2022-05-03',\n",
       "       '2022-05-04', '2022-05-05', '2022-05-06', '2022-05-07',\n",
       "       '2022-05-08'], dtype='datetime64[D]')"
      ]
     },
     "execution_count": 20,
     "metadata": {},
     "output_type": "execute_result"
    }
   ],
   "source": [
    "date_range"
   ]
  },
  {
   "cell_type": "code",
   "execution_count": 21,
   "id": "cf6fbf0c-bece-458c-9b60-51ac6e913aa2",
   "metadata": {},
   "outputs": [
    {
     "data": {
      "text/plain": [
       "\u001b[0;31mSignature:\u001b[0m \u001b[0mrt_filter_map_plot\u001b[0m\u001b[0;34m.\u001b[0m\u001b[0mfrom_gcs\u001b[0m\u001b[0;34m(\u001b[0m\u001b[0mitp_id\u001b[0m\u001b[0;34m,\u001b[0m \u001b[0manalysis_date\u001b[0m\u001b[0;34m,\u001b[0m \u001b[0mpbar\u001b[0m\u001b[0;34m=\u001b[0m\u001b[0;32mNone\u001b[0m\u001b[0;34m)\u001b[0m\u001b[0;34m\u001b[0m\u001b[0;34m\u001b[0m\u001b[0m\n",
       "\u001b[0;31mDocstring:\u001b[0m\n",
       "Generates RtFilterMapper from cached artifacts in GCS. Generate using rt_analysis.OperatorDayAnalysis.export_views_gcs()\n",
       "    \n",
       "\u001b[0;31mFile:\u001b[0m      ~/data-analyses/rt_delay/rt_analysis/rt_filter_map_plot.py\n",
       "\u001b[0;31mType:\u001b[0m      function\n"
      ]
     },
     "metadata": {},
     "output_type": "display_data"
    }
   ],
   "source": [
    "rt_filter_map_plot.from_gcs?"
   ]
  },
  {
   "cell_type": "code",
   "execution_count": 34,
   "id": "a2a024ed-ad6a-4084-a538-620bd837e705",
   "metadata": {},
   "outputs": [
    {
     "name": "stdout",
     "output_type": "stream",
     "text": [
      "found parquet\n"
     ]
    }
   ],
   "source": [
    "rt_day = rt_filter_map_plot.from_gcs(273, dt.date(2022, 2, 6))"
   ]
  },
  {
   "cell_type": "code",
   "execution_count": 35,
   "id": "5e60abc4-6293-4adf-ab22-9f841a708ce0",
   "metadata": {},
   "outputs": [],
   "source": [
    "rt_day.add_corridor(corridor)"
   ]
  },
  {
   "cell_type": "code",
   "execution_count": 37,
   "id": "28b2d657-0d94-446c-9a77-1ec890499940",
   "metadata": {},
   "outputs": [],
   "source": [
    "# rt_day.quick_map_corridor()"
   ]
  },
  {
   "cell_type": "code",
   "execution_count": 27,
   "id": "9af420df-0a7b-4950-a288-260d971e9398",
   "metadata": {},
   "outputs": [
    {
     "data": {
      "text/plain": [
       "{'schedule_metric_minutes': 2.4166666666666665,\n",
       " 'speed_metric_minutes': -3.5781744005258327}"
      ]
     },
     "execution_count": 27,
     "metadata": {},
     "output_type": "execute_result"
    }
   ],
   "source": [
    "rt_day.corridor_metrics()"
   ]
  }
 ],
 "metadata": {
  "kernelspec": {
   "display_name": "Python 3 (ipykernel)",
   "language": "python",
   "name": "python3"
  },
  "language_info": {
   "codemirror_mode": {
    "name": "ipython",
    "version": 3
   },
   "file_extension": ".py",
   "mimetype": "text/x-python",
   "name": "python",
   "nbconvert_exporter": "python",
   "pygments_lexer": "ipython3",
   "version": "3.10.6"
  }
 },
 "nbformat": 4,
 "nbformat_minor": 5
}
