{
 "cells": [
  {
   "cell_type": "code",
   "execution_count": 2,
   "id": "a51f0c99-91a1-4406-824c-215139aa98d0",
   "metadata": {},
   "outputs": [],
   "source": [
    "%%capture\n",
    "import warnings\n",
    "warnings.filterwarnings('ignore')\n",
    "\n",
    "import os\n",
    "os.environ[\"CALITP_BQ_MAX_BYTES\"] = str(800_000_000_000)\n",
    "import shared_utils\n",
    "\n",
    "from calitp.tables import tbl\n",
    "from calitp import query_sql\n",
    "import calitp.magics\n",
    "\n",
    "from siuba import *\n",
    "import pandas as pd\n",
    "import geopandas as gpd\n",
    "\n",
    "import datetime as dt\n",
    "\n",
    "import importlib\n",
    "import rt_analysis as rt\n",
    "import rt_filter_map_plot\n",
    "\n",
    "from IPython.display import display, Markdown, Latex, HTML\n",
    "import json\n",
    "\n",
    "from tqdm import tqdm_notebook\n",
    "from tqdm.notebook import trange, tqdm"
   ]
  },
  {
   "cell_type": "code",
   "execution_count": 3,
   "id": "a98a9208-4023-4205-8088-f68bb560ee3f",
   "metadata": {},
   "outputs": [],
   "source": [
    "itp_id = 4 ## AC Transit"
   ]
  },
  {
   "cell_type": "code",
   "execution_count": 4,
   "id": "4331503f-09b5-4eb1-9b1a-8e5494a003c0",
   "metadata": {},
   "outputs": [],
   "source": [
    "import numpy as np"
   ]
  },
  {
   "cell_type": "code",
   "execution_count": 5,
   "id": "4ce12969-7cd3-4cd7-b760-c6f7826b85e5",
   "metadata": {},
   "outputs": [],
   "source": [
    "date_range = np.arange('2022-04-30', '2022-05-09', dtype='datetime64[D]')"
   ]
  },
  {
   "cell_type": "code",
   "execution_count": 6,
   "id": "3ca84d5f-48cd-4de9-be49-78bdb46168dc",
   "metadata": {},
   "outputs": [
    {
     "data": {
      "text/plain": [
       "array(['2022-04-30', '2022-05-01', '2022-05-02', '2022-05-03',\n",
       "       '2022-05-04', '2022-05-05', '2022-05-06', '2022-05-07',\n",
       "       '2022-05-08'], dtype='datetime64[D]')"
      ]
     },
     "execution_count": 6,
     "metadata": {},
     "output_type": "execute_result"
    }
   ],
   "source": [
    "date_range"
   ]
  },
  {
   "cell_type": "markdown",
   "id": "3209f492-611b-4aa9-9c49-9c473328426c",
   "metadata": {},
   "source": [
    "# Generate analysis data for all dates"
   ]
  },
  {
   "cell_type": "code",
   "execution_count": 6,
   "id": "2dd3f28c-ae1a-4942-9fdb-0f11103308cf",
   "metadata": {},
   "outputs": [
    {
     "data": {
      "application/vnd.jupyter.widget-view+json": {
       "model_id": "cea71627961b471ca2ce32c4d43893ca",
       "version_major": 2,
       "version_minor": 0
      },
      "text/plain": [
       "0it [00:00, ?it/s]"
      ]
     },
     "metadata": {},
     "output_type": "display_data"
    }
   ],
   "source": [
    "pbar = tqdm()"
   ]
  },
  {
   "cell_type": "code",
   "execution_count": 1,
   "id": "f1c3a1f9-44e3-4d73-a913-06cc3286eaf4",
   "metadata": {},
   "outputs": [],
   "source": [
    "# for date in date_range:\n",
    "#     date = date.astype(dt.date)\n",
    "#     try:\n",
    "#         rt_analysis = rt.OperatorDayAnalysis(itp_id, date, pbar)\n",
    "#         rt_analysis.export_views_gcs()\n",
    "#         print(f'complete for date: {date}')\n",
    "#     except:\n",
    "#         print(f'failed for date: {date}')\n",
    "#         continue"
   ]
  },
  {
   "cell_type": "code",
   "execution_count": 7,
   "id": "ff28c6a8-eab8-48d6-b904-27e108d81cd0",
   "metadata": {},
   "outputs": [
    {
     "name": "stdout",
     "output_type": "stream",
     "text": [
      "found parquet\n",
      "complete for date: 2022-04-30\n",
      "found parquet\n",
      "complete for date: 2022-05-01\n",
      "found parquet\n",
      "complete for date: 2022-05-02\n",
      "found parquet\n",
      "complete for date: 2022-05-03\n",
      "found parquet\n",
      "complete for date: 2022-05-04\n",
      "found parquet\n",
      "complete for date: 2022-05-05\n",
      "found parquet\n",
      "complete for date: 2022-05-06\n",
      "found parquet\n",
      "complete for date: 2022-05-07\n",
      "found parquet\n",
      "complete for date: 2022-05-08\n"
     ]
    }
   ],
   "source": [
    "for date in date_range:\n",
    "    date = date.astype(dt.date)\n",
    "    try:\n",
    "        rt_day = rt_filter_map_plot.from_gcs(itp_id, date)\n",
    "        print(f'complete for date: {date}')\n",
    "    except:\n",
    "        print(f'failed for date: {date}')\n",
    "        continue"
   ]
  },
  {
   "cell_type": "code",
   "execution_count": 8,
   "id": "3cdd9e4b-17b9-4e0e-82f0-3dffabb3712e",
   "metadata": {
    "collapsed": true,
    "jupyter": {
     "outputs_hidden": true
    },
    "tags": []
   },
   "outputs": [
    {
     "data": {
      "text/html": [
       "<div>\n",
       "<style scoped>\n",
       "    .dataframe tbody tr th:only-of-type {\n",
       "        vertical-align: middle;\n",
       "    }\n",
       "\n",
       "    .dataframe tbody tr th {\n",
       "        vertical-align: top;\n",
       "    }\n",
       "\n",
       "    .dataframe thead th {\n",
       "        text-align: right;\n",
       "    }\n",
       "</style>\n",
       "<table border=\"1\" class=\"dataframe\">\n",
       "  <thead>\n",
       "    <tr style=\"text-align: right;\">\n",
       "      <th></th>\n",
       "      <th>shape_meters</th>\n",
       "      <th>stop_id</th>\n",
       "      <th>stop_name</th>\n",
       "      <th>geometry</th>\n",
       "      <th>shape_id</th>\n",
       "      <th>trip_key</th>\n",
       "      <th>trip_id</th>\n",
       "      <th>stop_sequence</th>\n",
       "      <th>arrival_time</th>\n",
       "      <th>route_id</th>\n",
       "      <th>route_short_name</th>\n",
       "      <th>direction_id</th>\n",
       "      <th>actual_time</th>\n",
       "      <th>delay_seconds</th>\n",
       "    </tr>\n",
       "  </thead>\n",
       "  <tbody>\n",
       "    <tr>\n",
       "      <th>0</th>\n",
       "      <td>2066.302610</td>\n",
       "      <td>5334</td>\n",
       "      <td>Broadway &amp; 40th St</td>\n",
       "      <td>POINT (-198382.029 -18668.936)</td>\n",
       "      <td>shp-51A-55</td>\n",
       "      <td>3.161271e+18</td>\n",
       "      <td>12710010</td>\n",
       "      <td>7.000000</td>\n",
       "      <td>2022-05-08 21:33:00</td>\n",
       "      <td>51A</td>\n",
       "      <td>51A</td>\n",
       "      <td>0</td>\n",
       "      <td>2022-05-08 21:33:37.057316</td>\n",
       "      <td>37.0</td>\n",
       "    </tr>\n",
       "    <tr>\n",
       "      <th>1</th>\n",
       "      <td>2445.770014</td>\n",
       "      <td>2512</td>\n",
       "      <td>Broadway &amp; W MacArthur Blvd</td>\n",
       "      <td>POINT (-198555.241 -19004.632)</td>\n",
       "      <td>shp-51A-55</td>\n",
       "      <td>3.161271e+18</td>\n",
       "      <td>12710010</td>\n",
       "      <td>8.000000</td>\n",
       "      <td>2022-05-08 21:34:09</td>\n",
       "      <td>51A</td>\n",
       "      <td>51A</td>\n",
       "      <td>0</td>\n",
       "      <td>2022-05-08 21:35:05.559047</td>\n",
       "      <td>56.0</td>\n",
       "    </tr>\n",
       "    <tr>\n",
       "      <th>2</th>\n",
       "      <td>2588.059761</td>\n",
       "      <td>2474</td>\n",
       "      <td>Broadway &amp; Mosswood Park</td>\n",
       "      <td>POINT (-198619.609 -19130.198)</td>\n",
       "      <td>shp-51A-55</td>\n",
       "      <td>3.161271e+18</td>\n",
       "      <td>12710010</td>\n",
       "      <td>9.000000</td>\n",
       "      <td>2022-05-08 21:34:40</td>\n",
       "      <td>51A</td>\n",
       "      <td>51A</td>\n",
       "      <td>0</td>\n",
       "      <td>2022-05-08 21:35:23.937135</td>\n",
       "      <td>43.0</td>\n",
       "    </tr>\n",
       "    <tr>\n",
       "      <th>3</th>\n",
       "      <td>2894.551764</td>\n",
       "      <td>5335</td>\n",
       "      <td>Broadway &amp; Hawthorne Av</td>\n",
       "      <td>POINT (-198761.555 -19400.361)</td>\n",
       "      <td>shp-51A-55</td>\n",
       "      <td>3.161271e+18</td>\n",
       "      <td>12710010</td>\n",
       "      <td>10.000000</td>\n",
       "      <td>2022-05-08 21:35:43</td>\n",
       "      <td>51A</td>\n",
       "      <td>51A</td>\n",
       "      <td>0</td>\n",
       "      <td>2022-05-08 21:36:00.787031</td>\n",
       "      <td>17.0</td>\n",
       "    </tr>\n",
       "    <tr>\n",
       "      <th>4</th>\n",
       "      <td>3163.403519</td>\n",
       "      <td>5568</td>\n",
       "      <td>Broadway &amp; 30th St</td>\n",
       "      <td>POINT (-198888.665 -19634.403)</td>\n",
       "      <td>shp-51A-55</td>\n",
       "      <td>3.161271e+18</td>\n",
       "      <td>12710010</td>\n",
       "      <td>11.000000</td>\n",
       "      <td>2022-05-08 21:36:35</td>\n",
       "      <td>51A</td>\n",
       "      <td>51A</td>\n",
       "      <td>0</td>\n",
       "      <td>2022-05-08 21:36:32.701859</td>\n",
       "      <td>0.0</td>\n",
       "    </tr>\n",
       "    <tr>\n",
       "      <th>...</th>\n",
       "      <td>...</td>\n",
       "      <td>...</td>\n",
       "      <td>...</td>\n",
       "      <td>...</td>\n",
       "      <td>...</td>\n",
       "      <td>...</td>\n",
       "      <td>...</td>\n",
       "      <td>...</td>\n",
       "      <td>...</td>\n",
       "      <td>...</td>\n",
       "      <td>...</td>\n",
       "      <td>...</td>\n",
       "      <td>...</td>\n",
       "      <td>...</td>\n",
       "    </tr>\n",
       "    <tr>\n",
       "      <th>17</th>\n",
       "      <td>8000.000000</td>\n",
       "      <td>None</td>\n",
       "      <td>None</td>\n",
       "      <td>None</td>\n",
       "      <td>shp-212-57</td>\n",
       "      <td>NaN</td>\n",
       "      <td>3344010</td>\n",
       "      <td>18.333333</td>\n",
       "      <td>NaT</td>\n",
       "      <td>212</td>\n",
       "      <td>212</td>\n",
       "      <td>None</td>\n",
       "      <td>2022-05-08 11:18:30.893333</td>\n",
       "      <td>NaN</td>\n",
       "    </tr>\n",
       "    <tr>\n",
       "      <th>18</th>\n",
       "      <td>9000.000000</td>\n",
       "      <td>None</td>\n",
       "      <td>None</td>\n",
       "      <td>None</td>\n",
       "      <td>shp-212-57</td>\n",
       "      <td>NaN</td>\n",
       "      <td>3344010</td>\n",
       "      <td>18.666667</td>\n",
       "      <td>NaT</td>\n",
       "      <td>212</td>\n",
       "      <td>212</td>\n",
       "      <td>None</td>\n",
       "      <td>2022-05-08 11:20:51.012276</td>\n",
       "      <td>NaN</td>\n",
       "    </tr>\n",
       "    <tr>\n",
       "      <th>19</th>\n",
       "      <td>9232.133079</td>\n",
       "      <td>1413</td>\n",
       "      <td>Boscell Av &amp; Braun Dr</td>\n",
       "      <td>POINT (-174335.952 -55359.186)</td>\n",
       "      <td>shp-212-57</td>\n",
       "      <td>4.638913e+18</td>\n",
       "      <td>3344010</td>\n",
       "      <td>19.000000</td>\n",
       "      <td>2022-05-08 11:24:48</td>\n",
       "      <td>212</td>\n",
       "      <td>212</td>\n",
       "      <td>0</td>\n",
       "      <td>2022-05-08 11:21:19.000000</td>\n",
       "      <td>0.0</td>\n",
       "    </tr>\n",
       "    <tr>\n",
       "      <th>20</th>\n",
       "      <td>9557.451906</td>\n",
       "      <td>1395</td>\n",
       "      <td>Curie St &amp; Boscell Av</td>\n",
       "      <td>POINT (-174094.835 -55500.857)</td>\n",
       "      <td>shp-212-57</td>\n",
       "      <td>4.638913e+18</td>\n",
       "      <td>3344010</td>\n",
       "      <td>20.000000</td>\n",
       "      <td>2022-05-08 11:25:38</td>\n",
       "      <td>212</td>\n",
       "      <td>212</td>\n",
       "      <td>0</td>\n",
       "      <td>2022-05-08 11:22:41.929157</td>\n",
       "      <td>0.0</td>\n",
       "    </tr>\n",
       "    <tr>\n",
       "      <th>21</th>\n",
       "      <td>9791.776435</td>\n",
       "      <td>1396</td>\n",
       "      <td>Curie St &amp; S Pacific Commons Blvd</td>\n",
       "      <td>POINT (-173932.010 -55335.348)</td>\n",
       "      <td>shp-212-57</td>\n",
       "      <td>4.638913e+18</td>\n",
       "      <td>3344010</td>\n",
       "      <td>21.000000</td>\n",
       "      <td>2022-05-08 11:26:15</td>\n",
       "      <td>212</td>\n",
       "      <td>212</td>\n",
       "      <td>0</td>\n",
       "      <td>2022-05-08 11:23:14.946416</td>\n",
       "      <td>0.0</td>\n",
       "    </tr>\n",
       "  </tbody>\n",
       "</table>\n",
       "<p>126793 rows × 14 columns</p>\n",
       "</div>"
      ],
      "text/plain": [
       "    shape_meters stop_id                          stop_name  \\\n",
       "0    2066.302610    5334                 Broadway & 40th St   \n",
       "1    2445.770014    2512        Broadway & W MacArthur Blvd   \n",
       "2    2588.059761    2474           Broadway & Mosswood Park   \n",
       "3    2894.551764    5335            Broadway & Hawthorne Av   \n",
       "4    3163.403519    5568                 Broadway & 30th St   \n",
       "..           ...     ...                                ...   \n",
       "17   8000.000000    None                               None   \n",
       "18   9000.000000    None                               None   \n",
       "19   9232.133079    1413              Boscell Av & Braun Dr   \n",
       "20   9557.451906    1395              Curie St & Boscell Av   \n",
       "21   9791.776435    1396  Curie St & S Pacific Commons Blvd   \n",
       "\n",
       "                          geometry    shape_id      trip_key   trip_id  \\\n",
       "0   POINT (-198382.029 -18668.936)  shp-51A-55  3.161271e+18  12710010   \n",
       "1   POINT (-198555.241 -19004.632)  shp-51A-55  3.161271e+18  12710010   \n",
       "2   POINT (-198619.609 -19130.198)  shp-51A-55  3.161271e+18  12710010   \n",
       "3   POINT (-198761.555 -19400.361)  shp-51A-55  3.161271e+18  12710010   \n",
       "4   POINT (-198888.665 -19634.403)  shp-51A-55  3.161271e+18  12710010   \n",
       "..                             ...         ...           ...       ...   \n",
       "17                            None  shp-212-57           NaN   3344010   \n",
       "18                            None  shp-212-57           NaN   3344010   \n",
       "19  POINT (-174335.952 -55359.186)  shp-212-57  4.638913e+18   3344010   \n",
       "20  POINT (-174094.835 -55500.857)  shp-212-57  4.638913e+18   3344010   \n",
       "21  POINT (-173932.010 -55335.348)  shp-212-57  4.638913e+18   3344010   \n",
       "\n",
       "    stop_sequence        arrival_time route_id route_short_name direction_id  \\\n",
       "0        7.000000 2022-05-08 21:33:00      51A              51A            0   \n",
       "1        8.000000 2022-05-08 21:34:09      51A              51A            0   \n",
       "2        9.000000 2022-05-08 21:34:40      51A              51A            0   \n",
       "3       10.000000 2022-05-08 21:35:43      51A              51A            0   \n",
       "4       11.000000 2022-05-08 21:36:35      51A              51A            0   \n",
       "..            ...                 ...      ...              ...          ...   \n",
       "17      18.333333                 NaT      212              212         None   \n",
       "18      18.666667                 NaT      212              212         None   \n",
       "19      19.000000 2022-05-08 11:24:48      212              212            0   \n",
       "20      20.000000 2022-05-08 11:25:38      212              212            0   \n",
       "21      21.000000 2022-05-08 11:26:15      212              212            0   \n",
       "\n",
       "                  actual_time  delay_seconds  \n",
       "0  2022-05-08 21:33:37.057316           37.0  \n",
       "1  2022-05-08 21:35:05.559047           56.0  \n",
       "2  2022-05-08 21:35:23.937135           43.0  \n",
       "3  2022-05-08 21:36:00.787031           17.0  \n",
       "4  2022-05-08 21:36:32.701859            0.0  \n",
       "..                        ...            ...  \n",
       "17 2022-05-08 11:18:30.893333            NaN  \n",
       "18 2022-05-08 11:20:51.012276            NaN  \n",
       "19 2022-05-08 11:21:19.000000            0.0  \n",
       "20 2022-05-08 11:22:41.929157            0.0  \n",
       "21 2022-05-08 11:23:14.946416            0.0  \n",
       "\n",
       "[126793 rows x 14 columns]"
      ]
     },
     "execution_count": 8,
     "metadata": {},
     "output_type": "execute_result"
    }
   ],
   "source": [
    "rt_day.stop_delay_view"
   ]
  },
  {
   "cell_type": "code",
   "execution_count": 10,
   "id": "d12ef3a7-1123-4c57-bed1-58909852f38a",
   "metadata": {},
   "outputs": [
    {
     "data": {
      "text/html": [
       "<div>\n",
       "<style scoped>\n",
       "    .dataframe tbody tr th:only-of-type {\n",
       "        vertical-align: middle;\n",
       "    }\n",
       "\n",
       "    .dataframe tbody tr th {\n",
       "        vertical-align: top;\n",
       "    }\n",
       "\n",
       "    .dataframe thead th {\n",
       "        text-align: right;\n",
       "    }\n",
       "</style>\n",
       "<table border=\"1\" class=\"dataframe\">\n",
       "  <thead>\n",
       "    <tr style=\"text-align: right;\">\n",
       "      <th></th>\n",
       "      <th>shape_meters</th>\n",
       "      <th>stop_id</th>\n",
       "      <th>stop_name</th>\n",
       "      <th>geometry</th>\n",
       "      <th>shape_id</th>\n",
       "      <th>trip_key</th>\n",
       "      <th>trip_id</th>\n",
       "      <th>stop_sequence</th>\n",
       "      <th>arrival_time</th>\n",
       "      <th>route_id</th>\n",
       "      <th>route_short_name</th>\n",
       "      <th>direction_id</th>\n",
       "      <th>actual_time</th>\n",
       "      <th>delay_seconds</th>\n",
       "    </tr>\n",
       "  </thead>\n",
       "  <tbody>\n",
       "    <tr>\n",
       "      <th>0</th>\n",
       "      <td>2066.302610</td>\n",
       "      <td>5334</td>\n",
       "      <td>Broadway &amp; 40th St</td>\n",
       "      <td>POINT (-198382.029 -18668.936)</td>\n",
       "      <td>shp-51A-55</td>\n",
       "      <td>3.161271e+18</td>\n",
       "      <td>12710010</td>\n",
       "      <td>7.0</td>\n",
       "      <td>2022-05-08 21:33:00</td>\n",
       "      <td>51A</td>\n",
       "      <td>51A</td>\n",
       "      <td>0</td>\n",
       "      <td>2022-05-08 21:33:37.057316</td>\n",
       "      <td>37.0</td>\n",
       "    </tr>\n",
       "    <tr>\n",
       "      <th>1</th>\n",
       "      <td>2445.770014</td>\n",
       "      <td>2512</td>\n",
       "      <td>Broadway &amp; W MacArthur Blvd</td>\n",
       "      <td>POINT (-198555.241 -19004.632)</td>\n",
       "      <td>shp-51A-55</td>\n",
       "      <td>3.161271e+18</td>\n",
       "      <td>12710010</td>\n",
       "      <td>8.0</td>\n",
       "      <td>2022-05-08 21:34:09</td>\n",
       "      <td>51A</td>\n",
       "      <td>51A</td>\n",
       "      <td>0</td>\n",
       "      <td>2022-05-08 21:35:05.559047</td>\n",
       "      <td>56.0</td>\n",
       "    </tr>\n",
       "    <tr>\n",
       "      <th>2</th>\n",
       "      <td>2588.059761</td>\n",
       "      <td>2474</td>\n",
       "      <td>Broadway &amp; Mosswood Park</td>\n",
       "      <td>POINT (-198619.609 -19130.198)</td>\n",
       "      <td>shp-51A-55</td>\n",
       "      <td>3.161271e+18</td>\n",
       "      <td>12710010</td>\n",
       "      <td>9.0</td>\n",
       "      <td>2022-05-08 21:34:40</td>\n",
       "      <td>51A</td>\n",
       "      <td>51A</td>\n",
       "      <td>0</td>\n",
       "      <td>2022-05-08 21:35:23.937135</td>\n",
       "      <td>43.0</td>\n",
       "    </tr>\n",
       "  </tbody>\n",
       "</table>\n",
       "</div>"
      ],
      "text/plain": [
       "   shape_meters stop_id                    stop_name  \\\n",
       "0   2066.302610    5334           Broadway & 40th St   \n",
       "1   2445.770014    2512  Broadway & W MacArthur Blvd   \n",
       "2   2588.059761    2474     Broadway & Mosswood Park   \n",
       "\n",
       "                         geometry    shape_id      trip_key   trip_id  \\\n",
       "0  POINT (-198382.029 -18668.936)  shp-51A-55  3.161271e+18  12710010   \n",
       "1  POINT (-198555.241 -19004.632)  shp-51A-55  3.161271e+18  12710010   \n",
       "2  POINT (-198619.609 -19130.198)  shp-51A-55  3.161271e+18  12710010   \n",
       "\n",
       "   stop_sequence        arrival_time route_id route_short_name direction_id  \\\n",
       "0            7.0 2022-05-08 21:33:00      51A              51A            0   \n",
       "1            8.0 2022-05-08 21:34:09      51A              51A            0   \n",
       "2            9.0 2022-05-08 21:34:40      51A              51A            0   \n",
       "\n",
       "                 actual_time  delay_seconds  \n",
       "0 2022-05-08 21:33:37.057316           37.0  \n",
       "1 2022-05-08 21:35:05.559047           56.0  \n",
       "2 2022-05-08 21:35:23.937135           43.0  "
      ]
     },
     "execution_count": 10,
     "metadata": {},
     "output_type": "execute_result"
    }
   ],
   "source": [
    "rt_day.stop_delay_view.dropna(subset=['stop_id']) >> head(3)"
   ]
  },
  {
   "cell_type": "code",
   "execution_count": 15,
   "id": "b95a2b8e-225e-48b4-9741-7dd2c7eb369f",
   "metadata": {},
   "outputs": [],
   "source": [
    "corridor = gpd.read_file('./CMCP_StudyAreaBoundary.geojson').to_crs(shared_utils.geography_utils.CA_NAD83Albers)"
   ]
  },
  {
   "cell_type": "code",
   "execution_count": 17,
   "id": "bd49e8b5-9d38-4bcd-903d-afe70c65ec2a",
   "metadata": {},
   "outputs": [],
   "source": [
    "to_clip = rt_day.stop_delay_view.drop_duplicates(subset=['shape_id', 'stop_sequence'])"
   ]
  },
  {
   "cell_type": "code",
   "execution_count": 49,
   "id": "980ea57b-7c65-4053-ac9a-85449ad7322b",
   "metadata": {},
   "outputs": [],
   "source": [
    "shape_seqences = (rt_day.stop_delay_view >> distinct(_.shape_id, _.stop_sequence) >> arrange(_.shape_id, _.stop_sequence))"
   ]
  },
  {
   "cell_type": "code",
   "execution_count": 54,
   "id": "fae1c1b0-3e73-46bc-898c-d7f2d5d91ebd",
   "metadata": {},
   "outputs": [
    {
     "data": {
      "text/plain": [
       "6.0"
      ]
     },
     "execution_count": 54,
     "metadata": {},
     "output_type": "execute_result"
    }
   ],
   "source": [
    "## ex. stop 7 is first within bounding box\n",
    "(shape_seqences >> filter(_.shape_id == 'shp-10-09') >> filter(_.stop_sequence < 7)).stop_sequence.max()"
   ]
  },
  {
   "cell_type": "code",
   "execution_count": 55,
   "id": "dd6ce123-ddb6-4664-b165-c394d724595c",
   "metadata": {},
   "outputs": [
    {
     "data": {
      "text/plain": [
       "13.0"
      ]
     },
     "execution_count": 55,
     "metadata": {},
     "output_type": "execute_result"
    }
   ],
   "source": [
    "## ex. stop 12 is last within bounding box\n",
    "(shape_seqences >> filter(_.shape_id == 'shp-10-09') >> filter(_.stop_sequence > 12)).stop_sequence.min()"
   ]
  },
  {
   "cell_type": "code",
   "execution_count": 53,
   "id": "793c1100-6dc3-409a-a0c5-8c2c07024a30",
   "metadata": {},
   "outputs": [
    {
     "data": {
      "text/plain": [
       "nan"
      ]
     },
     "execution_count": 53,
     "metadata": {},
     "output_type": "execute_result"
    }
   ],
   "source": [
    "## no stop returns np.nan\n",
    "(shape_seqences >> filter(_.shape_id == 'shp-10-09') >> filter(_.stop_sequence < 2)).stop_sequence.max()"
   ]
  }
 ],
 "metadata": {
  "kernelspec": {
   "display_name": "Python 3 (ipykernel)",
   "language": "python",
   "name": "python3"
  },
  "language_info": {
   "codemirror_mode": {
    "name": "ipython",
    "version": 3
   },
   "file_extension": ".py",
   "mimetype": "text/x-python",
   "name": "python",
   "nbconvert_exporter": "python",
   "pygments_lexer": "ipython3",
   "version": "3.10.5"
  }
 },
 "nbformat": 4,
 "nbformat_minor": 5
}
