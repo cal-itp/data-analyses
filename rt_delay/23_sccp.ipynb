{
 "cells": [
  {
   "cell_type": "code",
   "execution_count": 1,
   "id": "a51f0c99-91a1-4406-824c-215139aa98d0",
   "metadata": {},
   "outputs": [],
   "source": [
    "%%capture\n",
    "import warnings\n",
    "warnings.filterwarnings('ignore')\n",
    "\n",
    "import os\n",
    "os.environ[\"CALITP_BQ_MAX_BYTES\"] = str(800_000_000_000)\n",
    "import shared_utils\n",
    "\n",
    "from calitp.tables import tbl\n",
    "from calitp import query_sql\n",
    "import calitp.magics\n",
    "\n",
    "from siuba import *\n",
    "import pandas as pd\n",
    "import geopandas as gpd\n",
    "\n",
    "import datetime as dt\n",
    "\n",
    "import importlib\n",
    "import rt_analysis as rt\n",
    "import rt_filter_map_plot\n",
    "\n",
    "from IPython.display import display, Markdown, Latex, HTML\n",
    "import json\n",
    "\n",
    "from tqdm import tqdm_notebook\n",
    "from tqdm.notebook import trange, tqdm"
   ]
  },
  {
   "cell_type": "code",
   "execution_count": 2,
   "id": "a98a9208-4023-4205-8088-f68bb560ee3f",
   "metadata": {},
   "outputs": [],
   "source": [
    "itp_id = 4 ## AC Transit"
   ]
  },
  {
   "cell_type": "code",
   "execution_count": 3,
   "id": "4331503f-09b5-4eb1-9b1a-8e5494a003c0",
   "metadata": {},
   "outputs": [],
   "source": [
    "import numpy as np"
   ]
  },
  {
   "cell_type": "code",
   "execution_count": 4,
   "id": "4ce12969-7cd3-4cd7-b760-c6f7826b85e5",
   "metadata": {},
   "outputs": [],
   "source": [
    "date_range = np.arange('2022-04-30', '2022-05-09', dtype='datetime64[D]')"
   ]
  },
  {
   "cell_type": "code",
   "execution_count": 5,
   "id": "3ca84d5f-48cd-4de9-be49-78bdb46168dc",
   "metadata": {},
   "outputs": [
    {
     "data": {
      "text/plain": [
       "array(['2022-04-30', '2022-05-01', '2022-05-02', '2022-05-03',\n",
       "       '2022-05-04', '2022-05-05', '2022-05-06', '2022-05-07',\n",
       "       '2022-05-08'], dtype='datetime64[D]')"
      ]
     },
     "execution_count": 5,
     "metadata": {},
     "output_type": "execute_result"
    }
   ],
   "source": [
    "date_range"
   ]
  },
  {
   "cell_type": "markdown",
   "id": "3209f492-611b-4aa9-9c49-9c473328426c",
   "metadata": {},
   "source": [
    "# Generate analysis data for all dates"
   ]
  },
  {
   "cell_type": "code",
   "execution_count": 6,
   "id": "2dd3f28c-ae1a-4942-9fdb-0f11103308cf",
   "metadata": {},
   "outputs": [
    {
     "data": {
      "application/vnd.jupyter.widget-view+json": {
       "model_id": "14d7dd2f14b94d288f1d50f26f396d28",
       "version_major": 2,
       "version_minor": 0
      },
      "text/plain": [
       "0it [00:00, ?it/s]"
      ]
     },
     "metadata": {},
     "output_type": "display_data"
    }
   ],
   "source": [
    "pbar = tqdm()"
   ]
  },
  {
   "cell_type": "code",
   "execution_count": 7,
   "id": "f1c3a1f9-44e3-4d73-a913-06cc3286eaf4",
   "metadata": {},
   "outputs": [],
   "source": [
    "# for date in date_range:\n",
    "#     date = date.astype(dt.date)\n",
    "#     try:\n",
    "#         rt_analysis = rt.OperatorDayAnalysis(itp_id, date, pbar)\n",
    "#         rt_analysis.export_views_gcs()\n",
    "#         print(f'complete for date: {date}')\n",
    "#     except:\n",
    "#         print(f'failed for date: {date}')\n",
    "#         continue"
   ]
  },
  {
   "cell_type": "code",
   "execution_count": 8,
   "id": "ff28c6a8-eab8-48d6-b904-27e108d81cd0",
   "metadata": {},
   "outputs": [],
   "source": [
    "# for date in date_range:\n",
    "#     date = date.astype(dt.date)\n",
    "#     try:\n",
    "#         rt_day = rt_filter_map_plot.from_gcs(itp_id, date)\n",
    "#         print(f'complete for date: {date}')\n",
    "#     except:\n",
    "#         print(f'failed for date: {date}')\n",
    "#         continue"
   ]
  },
  {
   "cell_type": "code",
   "execution_count": 128,
   "id": "d70b77af-0f15-4865-96eb-db81141aab06",
   "metadata": {},
   "outputs": [
    {
     "name": "stdout",
     "output_type": "stream",
     "text": [
      "found parquet\n"
     ]
    }
   ],
   "source": [
    "rt_day = rt_filter_map_plot.from_gcs(4, dt.date(2022, 5, 4))"
   ]
  },
  {
   "cell_type": "code",
   "execution_count": 20,
   "id": "d12ef3a7-1123-4c57-bed1-58909852f38a",
   "metadata": {},
   "outputs": [
    {
     "data": {
      "text/html": [
       "<div>\n",
       "<style scoped>\n",
       "    .dataframe tbody tr th:only-of-type {\n",
       "        vertical-align: middle;\n",
       "    }\n",
       "\n",
       "    .dataframe tbody tr th {\n",
       "        vertical-align: top;\n",
       "    }\n",
       "\n",
       "    .dataframe thead th {\n",
       "        text-align: right;\n",
       "    }\n",
       "</style>\n",
       "<table border=\"1\" class=\"dataframe\">\n",
       "  <thead>\n",
       "    <tr style=\"text-align: right;\">\n",
       "      <th></th>\n",
       "      <th>shape_meters</th>\n",
       "      <th>stop_id</th>\n",
       "      <th>stop_name</th>\n",
       "      <th>geometry</th>\n",
       "      <th>shape_id</th>\n",
       "      <th>trip_key</th>\n",
       "      <th>trip_id</th>\n",
       "      <th>stop_sequence</th>\n",
       "      <th>arrival_time</th>\n",
       "      <th>route_id</th>\n",
       "      <th>route_short_name</th>\n",
       "      <th>direction_id</th>\n",
       "      <th>actual_time</th>\n",
       "      <th>delay_seconds</th>\n",
       "    </tr>\n",
       "  </thead>\n",
       "  <tbody>\n",
       "    <tr>\n",
       "      <th>0</th>\n",
       "      <td>16980.695427</td>\n",
       "      <td>4046</td>\n",
       "      <td>Pierce St &amp; Central Av</td>\n",
       "      <td>POINT (-202802.979 -10390.747)</td>\n",
       "      <td>shp-LA-61</td>\n",
       "      <td>-7.742120e+18</td>\n",
       "      <td>7121020</td>\n",
       "      <td>9.0</td>\n",
       "      <td>2022-05-04 08:12:00</td>\n",
       "      <td>LA</td>\n",
       "      <td>LA</td>\n",
       "      <td>0</td>\n",
       "      <td>2022-05-04 08:17:25.006131</td>\n",
       "      <td>325.0</td>\n",
       "    </tr>\n",
       "    <tr>\n",
       "      <th>1</th>\n",
       "      <td>17258.544947</td>\n",
       "      <td>4047</td>\n",
       "      <td>Pierce St &amp; Pacific East Mall</td>\n",
       "      <td>POINT (-202762.734 -10653.381)</td>\n",
       "      <td>shp-LA-61</td>\n",
       "      <td>-7.742120e+18</td>\n",
       "      <td>7121020</td>\n",
       "      <td>10.0</td>\n",
       "      <td>2022-05-04 08:12:51</td>\n",
       "      <td>LA</td>\n",
       "      <td>LA</td>\n",
       "      <td>0</td>\n",
       "      <td>2022-05-04 08:18:07.594638</td>\n",
       "      <td>316.0</td>\n",
       "    </tr>\n",
       "    <tr>\n",
       "      <th>2</th>\n",
       "      <td>17553.054805</td>\n",
       "      <td>222</td>\n",
       "      <td>545 Pierce St</td>\n",
       "      <td>POINT (-202679.620 -10934.183)</td>\n",
       "      <td>shp-LA-61</td>\n",
       "      <td>-7.742120e+18</td>\n",
       "      <td>7121020</td>\n",
       "      <td>11.0</td>\n",
       "      <td>2022-05-04 08:13:34</td>\n",
       "      <td>LA</td>\n",
       "      <td>LA</td>\n",
       "      <td>0</td>\n",
       "      <td>2022-05-04 08:19:14.363276</td>\n",
       "      <td>340.0</td>\n",
       "    </tr>\n",
       "  </tbody>\n",
       "</table>\n",
       "</div>"
      ],
      "text/plain": [
       "   shape_meters stop_id                      stop_name  \\\n",
       "0  16980.695427    4046         Pierce St & Central Av   \n",
       "1  17258.544947    4047  Pierce St & Pacific East Mall   \n",
       "2  17553.054805     222                  545 Pierce St   \n",
       "\n",
       "                         geometry   shape_id      trip_key  trip_id  \\\n",
       "0  POINT (-202802.979 -10390.747)  shp-LA-61 -7.742120e+18  7121020   \n",
       "1  POINT (-202762.734 -10653.381)  shp-LA-61 -7.742120e+18  7121020   \n",
       "2  POINT (-202679.620 -10934.183)  shp-LA-61 -7.742120e+18  7121020   \n",
       "\n",
       "   stop_sequence        arrival_time route_id route_short_name direction_id  \\\n",
       "0            9.0 2022-05-04 08:12:00       LA               LA            0   \n",
       "1           10.0 2022-05-04 08:12:51       LA               LA            0   \n",
       "2           11.0 2022-05-04 08:13:34       LA               LA            0   \n",
       "\n",
       "                 actual_time  delay_seconds  \n",
       "0 2022-05-04 08:17:25.006131          325.0  \n",
       "1 2022-05-04 08:18:07.594638          316.0  \n",
       "2 2022-05-04 08:19:14.363276          340.0  "
      ]
     },
     "execution_count": 20,
     "metadata": {},
     "output_type": "execute_result"
    }
   ],
   "source": [
    "rt_day.stop_delay_view.dropna(subset=['stop_id']) >> head(3)"
   ]
  },
  {
   "cell_type": "code",
   "execution_count": 21,
   "id": "b95a2b8e-225e-48b4-9741-7dd2c7eb369f",
   "metadata": {},
   "outputs": [],
   "source": [
    "corridor = gpd.read_file('./CMCP_StudyAreaBoundary.geojson').to_crs(shared_utils.geography_utils.CA_NAD83Albers)"
   ]
  },
  {
   "cell_type": "code",
   "execution_count": 22,
   "id": "bd49e8b5-9d38-4bcd-903d-afe70c65ec2a",
   "metadata": {},
   "outputs": [],
   "source": [
    "to_clip = rt_day.stop_delay_view.drop_duplicates(subset=['shape_id', 'stop_sequence']).dropna(subset=['stop_id'])"
   ]
  },
  {
   "cell_type": "code",
   "execution_count": 23,
   "id": "ab43eae4-f3d6-40b2-a695-cf209f1c2aa0",
   "metadata": {},
   "outputs": [],
   "source": [
    "clipped = to_clip.clip(corridor)"
   ]
  },
  {
   "cell_type": "code",
   "execution_count": 24,
   "id": "980ea57b-7c65-4053-ac9a-85449ad7322b",
   "metadata": {},
   "outputs": [],
   "source": [
    "shape_seqences = (rt_day.stop_delay_view.dropna(subset=['stop_id']) >> distinct(_.shape_id, _.stop_sequence) >> arrange(_.shape_id, _.stop_sequence))"
   ]
  },
  {
   "cell_type": "code",
   "execution_count": 25,
   "id": "e885e3c3-9569-4028-989c-a1d77405edcd",
   "metadata": {},
   "outputs": [],
   "source": [
    "stops_per_shape = shape_seqences >> group_by(_.shape_id) >> summarize(n_stops = _.shape_id.size)\n",
    "\n",
    "# can use this as # of stops in corr...\n",
    "stops_in_corr = clipped >> group_by(_.shape_id) >> summarize(in_corr = _.shape_id.size)\n",
    "stop_comparison = stops_per_shape >> inner_join(_, stops_in_corr, on='shape_id')"
   ]
  },
  {
   "cell_type": "code",
   "execution_count": 26,
   "id": "c6241a97-bcca-4bbc-958f-5ef71a4deb5e",
   "metadata": {},
   "outputs": [],
   "source": [
    "stop_comparison = stop_comparison >> mutate(corr_shape = _.in_corr > _.n_stops / 2)"
   ]
  },
  {
   "cell_type": "code",
   "execution_count": 27,
   "id": "d57b498e-67a2-49aa-af19-8738f147e2a4",
   "metadata": {},
   "outputs": [],
   "source": [
    "corr_shapes = stop_comparison >> filter(_.corr_shape)"
   ]
  },
  {
   "cell_type": "code",
   "execution_count": 28,
   "id": "ec3ef319-1b41-45cd-9d46-3e92b3edc900",
   "metadata": {},
   "outputs": [],
   "source": [
    "shape_sequence_filter = {}\n",
    "for shape_id in corr_shapes.shape_id.unique():\n",
    "# for shape_id in ['shp-10-09']:\n",
    "    shape_sequence_filter[shape_id] = {}\n",
    "    clipped_min = (clipped >> filter(_.shape_id == shape_id)).stop_sequence.min()\n",
    "    clipped_max = (clipped >> filter(_.shape_id == shape_id)).stop_sequence.max()\n",
    "    this_shape = shape_seqences >> filter(_.shape_id == shape_id)\n",
    "    filter_min = (this_shape >> filter(_.stop_sequence < clipped_min)).stop_sequence.max()\n",
    "    filter_max = (this_shape >> filter(_.stop_sequence > clipped_max)).stop_sequence.min()\n",
    "    shape_sequence_filter[shape_id]['min'] = max(0, filter_min)\n",
    "    shape_sequence_filter[shape_id]['max'] = filter_max if not np.isnan(filter_max) else clipped_max"
   ]
  },
  {
   "cell_type": "code",
   "execution_count": 29,
   "id": "1af0a13b-11c3-42b3-9850-387d78c371ac",
   "metadata": {},
   "outputs": [
    {
     "data": {
      "text/plain": [
       "{'shp-10-09': {'min': 0, 'max': 33.0},\n",
       " 'shp-10-10': {'min': 0, 'max': 35.0},\n",
       " 'shp-1T-04': {'min': 0, 'max': 32.0},\n",
       " 'shp-1T-05': {'min': 0, 'max': 32.0},\n",
       " 'shp-1T-51': {'min': 2.0, 'max': 33.0},\n",
       " 'shp-40-18': {'min': 0, 'max': 67.0},\n",
       " 'shp-40-19': {'min': 8.0, 'max': 34.0},\n",
       " 'shp-40-63': {'min': 2.0, 'max': 73.0},\n",
       " 'shp-40-65': {'min': 2.0, 'max': 30.0},\n",
       " 'shp-41-54': {'min': 0, 'max': 26.0},\n",
       " 'shp-45-04': {'min': 12.0, 'max': 52.0},\n",
       " 'shp-45-53': {'min': 4.0, 'max': 43.0},\n",
       " 'shp-73-01': {'min': 6.0, 'max': 19.0},\n",
       " 'shp-73-51': {'min': 4.0, 'max': 17.0},\n",
       " 'shp-801-01': {'min': 36.0, 'max': 84.0},\n",
       " 'shp-801-62': {'min': 0, 'max': 52.0},\n",
       " 'shp-840-11': {'min': 8.0, 'max': 35.0},\n",
       " 'shp-840-52': {'min': 3.0, 'max': 32.0},\n",
       " 'shp-90-02': {'min': 0, 'max': 14.0},\n",
       " 'shp-90-54': {'min': 11.0, 'max': 22.0}}"
      ]
     },
     "execution_count": 29,
     "metadata": {},
     "output_type": "execute_result"
    }
   ],
   "source": [
    "shape_sequence_filter"
   ]
  },
  {
   "cell_type": "code",
   "execution_count": 20,
   "id": "a4ace345-8ee8-4975-8ee2-237f1191a178",
   "metadata": {},
   "outputs": [],
   "source": [
    "# gdf = rt_day.stop_delay_view >> filter(_.shape_id == 'shp-40-19', _.stop_sequence >= 8, _.stop_sequence <= 34)\n",
    "# gdf = gdf[['stop_id', 'geometry']]\n",
    "\n",
    "# pd.concat([corridor, gdf]).explore(tiles = \"CartoDB positron\")"
   ]
  },
  {
   "cell_type": "markdown",
   "id": "eb46580f-d923-464b-b2ea-9b59e65c09c0",
   "metadata": {
    "tags": []
   },
   "source": [
    "# Algorithm\n",
    "\n",
    "* Clip stops to corridor\n",
    "* Get first and last stops in corridor for each shape_id, then find 1 stop before and 1 stop after for each\n",
    "* Filter stop_delay_view based on those stops\n",
    "* Assert that more than 50% of filtered stops within corridor, if not then drop shape (remove shapes starting/ending in corridor but mostly running outside)"
   ]
  },
  {
   "cell_type": "code",
   "execution_count": 30,
   "id": "49e9ae48-eb1f-440f-8e79-01102202ea69",
   "metadata": {},
   "outputs": [],
   "source": [
    "# rt_day.segment_speed_map()"
   ]
  },
  {
   "cell_type": "code",
   "execution_count": 31,
   "id": "dffeb253-2978-45df-ac1b-cd3d6b8a215d",
   "metadata": {},
   "outputs": [],
   "source": [
    "fn = lambda x: x.shape_id in (shape_sequence_filter.keys()) and x.stop_sequence >= shape_sequence_filter[x.shape_id]['min'] and x.stop_sequence <= shape_sequence_filter[x.shape_id]['max']\n",
    "rt_day.stop_delay_view['corridor'] = rt_day.stop_delay_view.apply(fn, axis=1)"
   ]
  },
  {
   "cell_type": "code",
   "execution_count": 32,
   "id": "db49cb72-9d55-47c2-a0bb-cd31301a6458",
   "metadata": {},
   "outputs": [],
   "source": [
    "mappable_stops = (rt_day.stop_delay_view\n",
    "                  >> distinct(_.shape_id, _.stop_sequence, _keep_all=True)\n",
    "                  >> filter(_.corridor)\n",
    "                  >> select(_.stop_id, _.geometry, _.stop_sequence)\n",
    "                 )"
   ]
  },
  {
   "cell_type": "code",
   "execution_count": 137,
   "id": "4dfda127-0f45-446a-9899-51c7b7588c05",
   "metadata": {},
   "outputs": [],
   "source": [
    "# pd.concat([mappable_stops, corridor]).explore(tiles = \"CartoDB positron\")"
   ]
  },
  {
   "cell_type": "code",
   "execution_count": 34,
   "id": "26caa6db-96bc-490a-be39-39a700441d14",
   "metadata": {},
   "outputs": [],
   "source": [
    "corridor_filtered = rt_day.stop_delay_view >> filter(_.corridor)"
   ]
  },
  {
   "cell_type": "code",
   "execution_count": 35,
   "id": "de678460-7442-44f7-9424-b9efd93fc147",
   "metadata": {},
   "outputs": [
    {
     "data": {
      "text/html": [
       "<div>\n",
       "<style scoped>\n",
       "    .dataframe tbody tr th:only-of-type {\n",
       "        vertical-align: middle;\n",
       "    }\n",
       "\n",
       "    .dataframe tbody tr th {\n",
       "        vertical-align: top;\n",
       "    }\n",
       "\n",
       "    .dataframe thead th {\n",
       "        text-align: right;\n",
       "    }\n",
       "</style>\n",
       "<table border=\"1\" class=\"dataframe\">\n",
       "  <thead>\n",
       "    <tr style=\"text-align: right;\">\n",
       "      <th></th>\n",
       "      <th>shape_meters</th>\n",
       "      <th>stop_id</th>\n",
       "      <th>stop_name</th>\n",
       "      <th>geometry</th>\n",
       "      <th>shape_id</th>\n",
       "      <th>trip_key</th>\n",
       "      <th>trip_id</th>\n",
       "      <th>stop_sequence</th>\n",
       "      <th>arrival_time</th>\n",
       "      <th>route_id</th>\n",
       "      <th>route_short_name</th>\n",
       "      <th>direction_id</th>\n",
       "      <th>actual_time</th>\n",
       "      <th>delay_seconds</th>\n",
       "      <th>corridor</th>\n",
       "    </tr>\n",
       "  </thead>\n",
       "  <tbody>\n",
       "    <tr>\n",
       "      <th>1</th>\n",
       "      <td>16799.127827</td>\n",
       "      <td>1705</td>\n",
       "      <td>Mission Blvd &amp; Valle Vista Av</td>\n",
       "      <td>POINT (-180779.919 -40564.553)</td>\n",
       "      <td>shp-801-01</td>\n",
       "      <td>-7.830714e+18</td>\n",
       "      <td>3755020</td>\n",
       "      <td>37.0</td>\n",
       "      <td>2022-05-05 00:25:58</td>\n",
       "      <td>801</td>\n",
       "      <td>801</td>\n",
       "      <td>1</td>\n",
       "      <td>2022-05-05 00:30:12.065927</td>\n",
       "      <td>254.0</td>\n",
       "      <td>True</td>\n",
       "    </tr>\n",
       "    <tr>\n",
       "      <th>2</th>\n",
       "      <td>25952.704633</td>\n",
       "      <td>4895</td>\n",
       "      <td>Mission Blvd &amp; Blossom Way</td>\n",
       "      <td>POINT (-184562.968 -35144.658)</td>\n",
       "      <td>shp-801-01</td>\n",
       "      <td>-7.830714e+18</td>\n",
       "      <td>3755020</td>\n",
       "      <td>57.0</td>\n",
       "      <td>2022-05-05 00:46:03</td>\n",
       "      <td>801</td>\n",
       "      <td>801</td>\n",
       "      <td>1</td>\n",
       "      <td>2022-05-05 00:47:09.069803</td>\n",
       "      <td>66.0</td>\n",
       "      <td>True</td>\n",
       "    </tr>\n",
       "    <tr>\n",
       "      <th>3</th>\n",
       "      <td>18174.961952</td>\n",
       "      <td>1702</td>\n",
       "      <td>Mission Blvd &amp; Tennyson Rd</td>\n",
       "      <td>POINT (-181050.555 -40228.006)</td>\n",
       "      <td>shp-801-01</td>\n",
       "      <td>-7.830714e+18</td>\n",
       "      <td>3755020</td>\n",
       "      <td>39.0</td>\n",
       "      <td>2022-05-05 00:29:18</td>\n",
       "      <td>801</td>\n",
       "      <td>801</td>\n",
       "      <td>1</td>\n",
       "      <td>2022-05-05 00:33:12.577286</td>\n",
       "      <td>234.0</td>\n",
       "      <td>True</td>\n",
       "    </tr>\n",
       "  </tbody>\n",
       "</table>\n",
       "</div>"
      ],
      "text/plain": [
       "   shape_meters stop_id                      stop_name  \\\n",
       "1  16799.127827    1705  Mission Blvd & Valle Vista Av   \n",
       "2  25952.704633    4895     Mission Blvd & Blossom Way   \n",
       "3  18174.961952    1702     Mission Blvd & Tennyson Rd   \n",
       "\n",
       "                         geometry    shape_id      trip_key  trip_id  \\\n",
       "1  POINT (-180779.919 -40564.553)  shp-801-01 -7.830714e+18  3755020   \n",
       "2  POINT (-184562.968 -35144.658)  shp-801-01 -7.830714e+18  3755020   \n",
       "3  POINT (-181050.555 -40228.006)  shp-801-01 -7.830714e+18  3755020   \n",
       "\n",
       "   stop_sequence        arrival_time route_id route_short_name direction_id  \\\n",
       "1           37.0 2022-05-05 00:25:58      801              801            1   \n",
       "2           57.0 2022-05-05 00:46:03      801              801            1   \n",
       "3           39.0 2022-05-05 00:29:18      801              801            1   \n",
       "\n",
       "                 actual_time  delay_seconds  corridor  \n",
       "1 2022-05-05 00:30:12.065927          254.0      True  \n",
       "2 2022-05-05 00:47:09.069803           66.0      True  \n",
       "3 2022-05-05 00:33:12.577286          234.0      True  "
      ]
     },
     "execution_count": 35,
     "metadata": {},
     "output_type": "execute_result"
    }
   ],
   "source": [
    "corridor_filtered >> head(3)"
   ]
  },
  {
   "cell_type": "code",
   "execution_count": 36,
   "id": "62e5aaf5-1ac4-4fa6-a650-0b87d554ad42",
   "metadata": {},
   "outputs": [],
   "source": [
    "first_stops = corridor_filtered >> group_by(_.trip_id) >> summarize(stop_sequence = _.stop_sequence.min())"
   ]
  },
  {
   "cell_type": "code",
   "execution_count": 37,
   "id": "97008e2b-46fe-42ed-a4d1-ae3be7e5315d",
   "metadata": {},
   "outputs": [],
   "source": [
    "entry_delays = (first_stops\n",
    "                >> inner_join(_, corridor_filtered, on = ['trip_id', 'stop_sequence'])\n",
    "                >> select(_.trip_id, _.delay_seconds)\n",
    "                >> rename(entry_delay_seconds = _.delay_seconds)\n",
    "               )"
   ]
  },
  {
   "cell_type": "code",
   "execution_count": 38,
   "id": "64df71d4-fb3b-41fc-a5cb-3f9c7332b91b",
   "metadata": {},
   "outputs": [
    {
     "data": {
      "text/html": [
       "<div>\n",
       "<style scoped>\n",
       "    .dataframe tbody tr th:only-of-type {\n",
       "        vertical-align: middle;\n",
       "    }\n",
       "\n",
       "    .dataframe tbody tr th {\n",
       "        vertical-align: top;\n",
       "    }\n",
       "\n",
       "    .dataframe thead th {\n",
       "        text-align: right;\n",
       "    }\n",
       "</style>\n",
       "<table border=\"1\" class=\"dataframe\">\n",
       "  <thead>\n",
       "    <tr style=\"text-align: right;\">\n",
       "      <th></th>\n",
       "      <th>trip_id</th>\n",
       "      <th>entry_delay_seconds</th>\n",
       "    </tr>\n",
       "  </thead>\n",
       "  <tbody>\n",
       "    <tr>\n",
       "      <th>0</th>\n",
       "      <td>10003020</td>\n",
       "      <td>259.0</td>\n",
       "    </tr>\n",
       "    <tr>\n",
       "      <th>1</th>\n",
       "      <td>10026020</td>\n",
       "      <td>16.0</td>\n",
       "    </tr>\n",
       "    <tr>\n",
       "      <th>2</th>\n",
       "      <td>10028020</td>\n",
       "      <td>164.0</td>\n",
       "    </tr>\n",
       "  </tbody>\n",
       "</table>\n",
       "</div>"
      ],
      "text/plain": [
       "    trip_id  entry_delay_seconds\n",
       "0  10003020                259.0\n",
       "1  10026020                 16.0\n",
       "2  10028020                164.0"
      ]
     },
     "execution_count": 38,
     "metadata": {},
     "output_type": "execute_result"
    }
   ],
   "source": [
    "entry_delays >> head(3)"
   ]
  },
  {
   "cell_type": "code",
   "execution_count": 39,
   "id": "f5ebc100-d43a-458f-967c-7de4d23fe890",
   "metadata": {},
   "outputs": [
    {
     "data": {
      "text/html": [
       "<div>\n",
       "<style scoped>\n",
       "    .dataframe tbody tr th:only-of-type {\n",
       "        vertical-align: middle;\n",
       "    }\n",
       "\n",
       "    .dataframe tbody tr th {\n",
       "        vertical-align: top;\n",
       "    }\n",
       "\n",
       "    .dataframe thead th {\n",
       "        text-align: right;\n",
       "    }\n",
       "</style>\n",
       "<table border=\"1\" class=\"dataframe\">\n",
       "  <thead>\n",
       "    <tr style=\"text-align: right;\">\n",
       "      <th></th>\n",
       "      <th>shape_meters</th>\n",
       "      <th>stop_id</th>\n",
       "      <th>stop_name</th>\n",
       "      <th>geometry</th>\n",
       "      <th>shape_id</th>\n",
       "      <th>trip_key</th>\n",
       "      <th>trip_id</th>\n",
       "      <th>stop_sequence</th>\n",
       "      <th>arrival_time</th>\n",
       "      <th>route_id</th>\n",
       "      <th>route_short_name</th>\n",
       "      <th>direction_id</th>\n",
       "      <th>actual_time</th>\n",
       "      <th>delay_seconds</th>\n",
       "      <th>corridor</th>\n",
       "      <th>entry_delay_seconds</th>\n",
       "      <th>corridor_delay_seconds</th>\n",
       "    </tr>\n",
       "  </thead>\n",
       "  <tbody>\n",
       "    <tr>\n",
       "      <th>0</th>\n",
       "      <td>16799.127827</td>\n",
       "      <td>1705</td>\n",
       "      <td>Mission Blvd &amp; Valle Vista Av</td>\n",
       "      <td>POINT (-180779.919 -40564.553)</td>\n",
       "      <td>shp-801-01</td>\n",
       "      <td>-7.830714e+18</td>\n",
       "      <td>3755020</td>\n",
       "      <td>37.0</td>\n",
       "      <td>2022-05-05 00:25:58</td>\n",
       "      <td>801</td>\n",
       "      <td>801</td>\n",
       "      <td>1</td>\n",
       "      <td>2022-05-05 00:30:12.065927</td>\n",
       "      <td>254.0</td>\n",
       "      <td>True</td>\n",
       "      <td>291.0</td>\n",
       "      <td>-37.0</td>\n",
       "    </tr>\n",
       "    <tr>\n",
       "      <th>1</th>\n",
       "      <td>25952.704633</td>\n",
       "      <td>4895</td>\n",
       "      <td>Mission Blvd &amp; Blossom Way</td>\n",
       "      <td>POINT (-184562.968 -35144.658)</td>\n",
       "      <td>shp-801-01</td>\n",
       "      <td>-7.830714e+18</td>\n",
       "      <td>3755020</td>\n",
       "      <td>57.0</td>\n",
       "      <td>2022-05-05 00:46:03</td>\n",
       "      <td>801</td>\n",
       "      <td>801</td>\n",
       "      <td>1</td>\n",
       "      <td>2022-05-05 00:47:09.069803</td>\n",
       "      <td>66.0</td>\n",
       "      <td>True</td>\n",
       "      <td>291.0</td>\n",
       "      <td>-225.0</td>\n",
       "    </tr>\n",
       "    <tr>\n",
       "      <th>2</th>\n",
       "      <td>18174.961952</td>\n",
       "      <td>1702</td>\n",
       "      <td>Mission Blvd &amp; Tennyson Rd</td>\n",
       "      <td>POINT (-181050.555 -40228.006)</td>\n",
       "      <td>shp-801-01</td>\n",
       "      <td>-7.830714e+18</td>\n",
       "      <td>3755020</td>\n",
       "      <td>39.0</td>\n",
       "      <td>2022-05-05 00:29:18</td>\n",
       "      <td>801</td>\n",
       "      <td>801</td>\n",
       "      <td>1</td>\n",
       "      <td>2022-05-05 00:33:12.577286</td>\n",
       "      <td>234.0</td>\n",
       "      <td>True</td>\n",
       "      <td>291.0</td>\n",
       "      <td>-57.0</td>\n",
       "    </tr>\n",
       "  </tbody>\n",
       "</table>\n",
       "</div>"
      ],
      "text/plain": [
       "   shape_meters stop_id                      stop_name  \\\n",
       "0  16799.127827    1705  Mission Blvd & Valle Vista Av   \n",
       "1  25952.704633    4895     Mission Blvd & Blossom Way   \n",
       "2  18174.961952    1702     Mission Blvd & Tennyson Rd   \n",
       "\n",
       "                         geometry    shape_id      trip_key  trip_id  \\\n",
       "0  POINT (-180779.919 -40564.553)  shp-801-01 -7.830714e+18  3755020   \n",
       "1  POINT (-184562.968 -35144.658)  shp-801-01 -7.830714e+18  3755020   \n",
       "2  POINT (-181050.555 -40228.006)  shp-801-01 -7.830714e+18  3755020   \n",
       "\n",
       "   stop_sequence        arrival_time route_id route_short_name direction_id  \\\n",
       "0           37.0 2022-05-05 00:25:58      801              801            1   \n",
       "1           57.0 2022-05-05 00:46:03      801              801            1   \n",
       "2           39.0 2022-05-05 00:29:18      801              801            1   \n",
       "\n",
       "                 actual_time  delay_seconds  corridor  entry_delay_seconds  \\\n",
       "0 2022-05-05 00:30:12.065927          254.0      True                291.0   \n",
       "1 2022-05-05 00:47:09.069803           66.0      True                291.0   \n",
       "2 2022-05-05 00:33:12.577286          234.0      True                291.0   \n",
       "\n",
       "   corridor_delay_seconds  \n",
       "0                   -37.0  \n",
       "1                  -225.0  \n",
       "2                   -57.0  "
      ]
     },
     "execution_count": 39,
     "metadata": {},
     "output_type": "execute_result"
    }
   ],
   "source": [
    "with_entry_delay = corridor_filtered >> inner_join(_, entry_delays, on='trip_id')\n",
    "with_entry_delay = with_entry_delay >> mutate(corridor_delay_seconds = _.delay_seconds - _.entry_delay_seconds)\n",
    "with_entry_delay >> head(3)"
   ]
  },
  {
   "cell_type": "code",
   "execution_count": 40,
   "id": "4bab26f8-b2c8-4d1c-a5b2-2b656d38e767",
   "metadata": {},
   "outputs": [
    {
     "data": {
      "text/plain": [
       "array([[<AxesSubplot:title={'center':'corridor_delay_seconds'}>]],\n",
       "      dtype=object)"
      ]
     },
     "execution_count": 40,
     "metadata": {},
     "output_type": "execute_result"
    },
    {
     "data": {
      "image/png": "[encoded data removed]",
      "text/plain": [
       "<Figure size 640x480 with 1 Axes>"
      ]
     },
     "metadata": {},
     "output_type": "display_data"
    }
   ],
   "source": [
    "(with_entry_delay >> filter(_.corridor_delay_seconds < _.corridor_delay_seconds.quantile(.99))).hist(column='corridor_delay_seconds')"
   ]
  },
  {
   "cell_type": "code",
   "execution_count": 41,
   "id": "432121a5-58e2-4d4d-80e7-78a581d4ba20",
   "metadata": {},
   "outputs": [
    {
     "data": {
      "text/html": [
       "<div>\n",
       "<style scoped>\n",
       "    .dataframe tbody tr th:only-of-type {\n",
       "        vertical-align: middle;\n",
       "    }\n",
       "\n",
       "    .dataframe tbody tr th {\n",
       "        vertical-align: top;\n",
       "    }\n",
       "\n",
       "    .dataframe thead th {\n",
       "        text-align: right;\n",
       "    }\n",
       "</style>\n",
       "<table border=\"1\" class=\"dataframe\">\n",
       "  <thead>\n",
       "    <tr style=\"text-align: right;\">\n",
       "      <th></th>\n",
       "      <th>median_corridor_delay_seconds</th>\n",
       "    </tr>\n",
       "  </thead>\n",
       "  <tbody>\n",
       "    <tr>\n",
       "      <th>0</th>\n",
       "      <td>8.0</td>\n",
       "    </tr>\n",
       "  </tbody>\n",
       "</table>\n",
       "</div>"
      ],
      "text/plain": [
       "   median_corridor_delay_seconds\n",
       "0                            8.0"
      ]
     },
     "execution_count": 41,
     "metadata": {},
     "output_type": "execute_result"
    }
   ],
   "source": [
    "with_entry_delay >> summarize(median_corridor_delay_seconds = _.corridor_delay_seconds.median())"
   ]
  },
  {
   "cell_type": "code",
   "execution_count": 42,
   "id": "fc9f889c-551f-43cf-8fb3-6053a3239851",
   "metadata": {},
   "outputs": [
    {
     "data": {
      "text/html": [
       "<div>\n",
       "<style scoped>\n",
       "    .dataframe tbody tr th:only-of-type {\n",
       "        vertical-align: middle;\n",
       "    }\n",
       "\n",
       "    .dataframe tbody tr th {\n",
       "        vertical-align: top;\n",
       "    }\n",
       "\n",
       "    .dataframe thead th {\n",
       "        text-align: right;\n",
       "    }\n",
       "</style>\n",
       "<table border=\"1\" class=\"dataframe\">\n",
       "  <thead>\n",
       "    <tr style=\"text-align: right;\">\n",
       "      <th></th>\n",
       "      <th>trip_id</th>\n",
       "      <th>median_corridor_delay_seconds</th>\n",
       "    </tr>\n",
       "  </thead>\n",
       "  <tbody>\n",
       "    <tr>\n",
       "      <th>0</th>\n",
       "      <td>10003020</td>\n",
       "      <td>62.0</td>\n",
       "    </tr>\n",
       "    <tr>\n",
       "      <th>1</th>\n",
       "      <td>10026020</td>\n",
       "      <td>47.0</td>\n",
       "    </tr>\n",
       "    <tr>\n",
       "      <th>2</th>\n",
       "      <td>10028020</td>\n",
       "      <td>4.0</td>\n",
       "    </tr>\n",
       "    <tr>\n",
       "      <th>3</th>\n",
       "      <td>10034020</td>\n",
       "      <td>-10.0</td>\n",
       "    </tr>\n",
       "    <tr>\n",
       "      <th>4</th>\n",
       "      <td>10037020</td>\n",
       "      <td>-36.5</td>\n",
       "    </tr>\n",
       "    <tr>\n",
       "      <th>...</th>\n",
       "      <td>...</td>\n",
       "      <td>...</td>\n",
       "    </tr>\n",
       "    <tr>\n",
       "      <th>733</th>\n",
       "      <td>9918020</td>\n",
       "      <td>0.0</td>\n",
       "    </tr>\n",
       "    <tr>\n",
       "      <th>734</th>\n",
       "      <td>9946020</td>\n",
       "      <td>0.0</td>\n",
       "    </tr>\n",
       "    <tr>\n",
       "      <th>735</th>\n",
       "      <td>9960020</td>\n",
       "      <td>186.5</td>\n",
       "    </tr>\n",
       "    <tr>\n",
       "      <th>736</th>\n",
       "      <td>9975020</td>\n",
       "      <td>-1.0</td>\n",
       "    </tr>\n",
       "    <tr>\n",
       "      <th>737</th>\n",
       "      <td>9993020</td>\n",
       "      <td>97.0</td>\n",
       "    </tr>\n",
       "  </tbody>\n",
       "</table>\n",
       "<p>738 rows × 2 columns</p>\n",
       "</div>"
      ],
      "text/plain": [
       "      trip_id  median_corridor_delay_seconds\n",
       "0    10003020                           62.0\n",
       "1    10026020                           47.0\n",
       "2    10028020                            4.0\n",
       "3    10034020                          -10.0\n",
       "4    10037020                          -36.5\n",
       "..        ...                            ...\n",
       "733   9918020                            0.0\n",
       "734   9946020                            0.0\n",
       "735   9960020                          186.5\n",
       "736   9975020                           -1.0\n",
       "737   9993020                           97.0\n",
       "\n",
       "[738 rows x 2 columns]"
      ]
     },
     "execution_count": 42,
     "metadata": {},
     "output_type": "execute_result"
    }
   ],
   "source": [
    "with_entry_delay >> group_by(_.trip_id) >> summarize(median_corridor_delay_seconds = _.corridor_delay_seconds.median())"
   ]
  },
  {
   "cell_type": "code",
   "execution_count": 43,
   "id": "d0e611c8-3fe6-4d86-960a-70ef8f5b9cf4",
   "metadata": {},
   "outputs": [
    {
     "data": {
      "text/plain": [
       "array([[<AxesSubplot:title={'center':'median_corridor_delay_seconds'}>]],\n",
       "      dtype=object)"
      ]
     },
     "execution_count": 43,
     "metadata": {},
     "output_type": "execute_result"
    },
    {
     "data": {
      "image/png": "[encoded data removed]",
      "text/plain": [
       "<Figure size 640x480 with 1 Axes>"
      ]
     },
     "metadata": {},
     "output_type": "display_data"
    }
   ],
   "source": [
    "(with_entry_delay >> group_by(_.trip_id) >> summarize(median_corridor_delay_seconds = _.corridor_delay_seconds.median())).hist(column='median_corridor_delay_seconds')"
   ]
  },
  {
   "cell_type": "code",
   "execution_count": 44,
   "id": "bff7344c-1ad8-47f4-b995-1a1b42a2e8ca",
   "metadata": {},
   "outputs": [
    {
     "data": {
      "text/html": [
       "<div>\n",
       "<style scoped>\n",
       "    .dataframe tbody tr th:only-of-type {\n",
       "        vertical-align: middle;\n",
       "    }\n",
       "\n",
       "    .dataframe tbody tr th {\n",
       "        vertical-align: top;\n",
       "    }\n",
       "\n",
       "    .dataframe thead th {\n",
       "        text-align: right;\n",
       "    }\n",
       "</style>\n",
       "<table border=\"1\" class=\"dataframe\">\n",
       "  <thead>\n",
       "    <tr style=\"text-align: right;\">\n",
       "      <th></th>\n",
       "      <th>sum_of_medians</th>\n",
       "    </tr>\n",
       "  </thead>\n",
       "  <tbody>\n",
       "    <tr>\n",
       "      <th>0</th>\n",
       "      <td>36585.5</td>\n",
       "    </tr>\n",
       "  </tbody>\n",
       "</table>\n",
       "</div>"
      ],
      "text/plain": [
       "   sum_of_medians\n",
       "0         36585.5"
      ]
     },
     "execution_count": 44,
     "metadata": {},
     "output_type": "execute_result"
    }
   ],
   "source": [
    "(with_entry_delay\n",
    " >> group_by(_.trip_id)\n",
    " >> summarize(median_corridor_delay_seconds = _.corridor_delay_seconds.median())\n",
    " >> summarize(sum_of_medians = _.median_corridor_delay_seconds.sum())\n",
    ")"
   ]
  },
  {
   "cell_type": "markdown",
   "id": "ae61436e-066e-4044-b8d5-076ed7e55255",
   "metadata": {},
   "source": [
    "# Report:\n",
    "\n",
    "* Sum of median trip delays\n",
    "* Median segment speed\n",
    "* Delay compared to speed standards: 14mph local/ 20mph BRT (find some citation)"
   ]
  },
  {
   "cell_type": "markdown",
   "id": "b05f1803-fb3f-4968-92fb-03615078452a",
   "metadata": {},
   "source": [
    "# Speed-based Metrics"
   ]
  },
  {
   "cell_type": "code",
   "execution_count": 129,
   "id": "4b6185d3-90fd-4689-a1a0-4a741d1ea698",
   "metadata": {},
   "outputs": [
    {
     "data": {
      "text/plain": [
       "<module 'rt_filter_map_plot' from '/home/jovyan/data-analyses/rt_delay/rt_filter_map_plot.py'>"
      ]
     },
     "execution_count": 129,
     "metadata": {},
     "output_type": "execute_result"
    }
   ],
   "source": [
    "importlib.reload(rt_filter_map_plot)"
   ]
  },
  {
   "cell_type": "code",
   "execution_count": 130,
   "id": "1053f397-e00a-4eca-a665-f0c934284741",
   "metadata": {},
   "outputs": [],
   "source": [
    "rt_day.reset_filter()"
   ]
  },
  {
   "cell_type": "code",
   "execution_count": 132,
   "id": "bdf19458-16ff-4aea-9dc5-75fa7b1fb880",
   "metadata": {
    "tags": []
   },
   "outputs": [
    {
     "name": "stdout",
     "output_type": "stream",
     "text": [
      "shp-LA-61\n",
      "shp-LA-12\n",
      "shp-672-51\n",
      "shp-667-06\n",
      "shp-675-03\n",
      "shp-G-54\n",
      "shp-79-55\n",
      "shp-12-14\n",
      "shp-631-51\n",
      "shp-200-15\n",
      "shp-801-01\n",
      "shp-99-10\n",
      "shp-604-14\n",
      "shp-851-57\n",
      "shp-605-01\n",
      "shp-36-08\n",
      "shp-51B-16\n",
      "shp-51B-17\n",
      "shp-6-59\n",
      "shp-21-56\n",
      "shp-21-22\n",
      "shp-OX-53\n",
      "shp-OX-03\n",
      "shp-631-03\n",
      "shp-631-52\n",
      "shp-631-02\n",
      "shp-687-01\n",
      "shp-687-51\n",
      "shp-76-09\n",
      "shp-669-57\n",
      "shp-L-06\n",
      "shp-34-56\n",
      "shp-35-61\n",
      "shp-216-62\n",
      "shp-NX3-07\n",
      "shp-57-62\n",
      "shp-680-53\n",
      "shp-98-02\n",
      "shp-86-01\n",
      "shp-29-34\n",
      "shp-29-61\n",
      "shp-29-63\n",
      "shp-56-03\n",
      "shp-210-07\n",
      "shp-19-16\n",
      "shp-29-33\n",
      "shp-29-30\n",
      "shp-20-18\n",
      "shp-88-09\n",
      "shp-801-62\n",
      "shp-99-09\n",
      "shp-71-03\n",
      "shp-667-56\n",
      "shp-667-52\n",
      "shp-376-09\n",
      "shp-800-A2\n",
      "shp-72M-40\n",
      "shp-72M-42\n",
      "shp-74-01\n",
      "shp-72-79\n",
      "shp-72-73\n",
      "shp-72-78\n",
      "shp-800-81\n",
      "shp-72M-61\n",
      "shp-28-59\n",
      "shp-62-58\n",
      "shp-96-58\n",
      "shp-216-16\n",
      "shp-625-01\n",
      "shp-625-02\n",
      "shp-70-05\n",
      "shp-39-53\n",
      "shp-653-01\n",
      "shp-14-15\n",
      "shp-805-60\n",
      "shp-73-01\n",
      "shp-62-09\n",
      "shp-93-09\n",
      "shp-33-14\n",
      "shp-33-68\n",
      "shp-851-13\n",
      "shp-51A-17\n",
      "shp-663-06\n",
      "shp-20-03\n",
      "shp-W-07\n",
      "shp-74-56\n",
      "shp-97-57\n",
      "shp-18-19\n",
      "shp-655-03\n",
      "shp-54-03\n",
      "shp-7-10\n",
      "shp-200-60\n",
      "shp-NX3-06\n",
      "shp-21-23\n",
      "shp-21-20\n",
      "shp-65-11\n",
      "shp-34-07\n",
      "shp-35-11\n",
      "shp-10-10\n",
      "shp-217-10\n",
      "shp-239-08\n",
      "shp-41-54\n",
      "shp-FS-06\n",
      "shp-648-11\n",
      "shp-14-59\n",
      "shp-646-13\n",
      "shp-646-12\n",
      "shp-46L-51\n",
      "shp-623-57\n",
      "shp-623-56\n",
      "shp-624-03\n",
      "shp-617-03\n",
      "shp-650-06\n",
      "shp-45-04\n",
      "shp-20-62\n",
      "shp-P-05\n",
      "shp-33-69\n",
      "shp-802-51\n",
      "shp-802-52\n",
      "shp-36-09\n",
      "shp-212-57\n",
      "shp-1T-04\n",
      "shp-1T-05\n",
      "shp-90-54\n",
      "shp-671-01\n",
      "shp-70-01\n",
      "shp-650-08\n",
      "shp-20-16\n",
      "shp-J-07\n",
      "shp-18-62\n",
      "shp-800-73\n",
      "shp-800-80\n",
      "shp-28-10\n",
      "shp-642-51\n",
      "shp-71-51\n",
      "shp-60-07\n",
      "shp-840-52\n",
      "shp-611-07\n",
      "shp-51A-55\n",
      "shp-O-53\n",
      "shp-7-57\n",
      "shp-624-01\n",
      "shp-215-16\n",
      "shp-239-09\n",
      "shp-684-57\n",
      "shp-40-63\n",
      "shp-95-07\n",
      "shp-95-08\n",
      "shp-95-03\n",
      "shp-660-02\n",
      "shp-660-51\n",
      "shp-662-60\n",
      "shp-696-52\n",
      "shp-657-09\n",
      "shp-805-17\n",
      "shp-57-11\n",
      "shp-653-51\n",
      "shp-680-05\n",
      "shp-NL-10\n",
      "shp-45-53\n",
      "shp-663-55\n",
      "shp-96-09\n",
      "shp-72-29\n",
      "shp-72-30\n",
      "shp-G-06\n",
      "shp-97-12\n",
      "shp-97-10\n",
      "shp-251-10\n",
      "shp-629-51\n",
      "shp-840-11\n",
      "shp-40-18\n",
      "shp-40-19\n",
      "shp-W-06\n",
      "shp-V-07\n",
      "shp-12-56\n",
      "shp-672-03\n",
      "shp-210-08\n",
      "shp-684-08\n",
      "shp-805-61\n",
      "shp-NL-11\n",
      "shp-65-58\n",
      "shp-620-01\n",
      "shp-79-08\n",
      "shp-605-03\n",
      "shp-682-53\n",
      "shp-232-58\n",
      "shp-232-10\n",
      "shp-217-09\n",
      "shp-669-04\n",
      "shp-39-05\n",
      "shp-649-14\n",
      "shp-655-54\n",
      "shp-696-01\n",
      "shp-652-07\n",
      "shp-649-15\n",
      "shp-657-57\n",
      "shp-NX-52\n",
      "shp-611-56\n",
      "shp-6-15\n",
      "shp-52-60\n",
      "shp-52-61\n",
      "shp-88-07\n",
      "shp-J-54\n",
      "shp-V-53\n",
      "shp-688-53\n",
      "shp-73-51\n",
      "shp-95-53\n",
      "shp-646-60\n",
      "shp-649-58\n",
      "shp-76-07\n",
      "shp-76-08\n",
      "shp-76-06\n",
      "shp-60-56\n",
      "shp-52-13\n",
      "shp-52-14\n",
      "shp-72R-13\n",
      "shp-604-62\n",
      "shp-604-61\n",
      "shp-657-55\n",
      "shp-FS-54\n",
      "shp-10-09\n",
      "shp-606-53\n",
      "shp-657-10\n",
      "shp-NX-08\n",
      "shp-802-03\n",
      "shp-658-04\n",
      "shp-P-54\n",
      "shp-648-63\n",
      "shp-648-62\n",
      "shp-40-02\n",
      "shp-681-01\n",
      "shp-67-57\n",
      "shp-86-51\n",
      "shp-621-09\n",
      "shp-621-08\n",
      "shp-86-02\n",
      "shp-251-59\n",
      "shp-660-01\n",
      "shp-51B-14\n",
      "shp-56-53\n",
      "shp-93-56\n",
      "shp-626-51\n",
      "shp-628-01\n",
      "shp-675-57\n",
      "shp-675-56\n",
      "shp-628-51\n",
      "shp-F-73\n",
      "shp-F-72\n",
      "shp-90-02\n",
      "shp-677-02\n",
      "shp-98-52\n",
      "shp-671-03\n",
      "shp-671-04\n",
      "shp-676-54\n",
      "shp-376-54\n",
      "shp-676-01\n",
      "shp-682-03\n",
      "shp-F-19\n",
      "shp-F-24\n",
      "shp-212-07\n",
      "shp-67-06\n",
      "shp-40-65\n",
      "shp-51B-15\n",
      "shp-46L-02\n",
      "shp-72R-57\n",
      "shp-19-64\n",
      "shp-L-07\n",
      "shp-654-54\n",
      "shp-54-53\n",
      "shp-1T-51\n",
      "shp-41-04\n",
      "shp-677-01\n",
      "shp-376-08\n",
      "shp-638-55\n",
      "shp-657-11\n",
      "shp-681-02\n",
      "shp-86-52\n",
      "shp-626-01\n",
      "shp-O-03\n",
      "shp-217-58\n",
      "shp-E-04\n",
      "shp-215-15\n",
      "shp-629-01\n",
      "shp-E-53\n"
     ]
    }
   ],
   "source": [
    "m = rt_filter_map_plot.RtFilterMapper.segment_speed_map(rt_day)"
   ]
  },
  {
   "cell_type": "code",
   "execution_count": 135,
   "id": "a4b98685-58ae-4c65-b595-7eeb1306fc02",
   "metadata": {},
   "outputs": [],
   "source": [
    "# m"
   ]
  },
  {
   "cell_type": "markdown",
   "id": "0036d77c-1446-40a7-81f8-d2bafd6d847c",
   "metadata": {},
   "source": [
    "# Speed Calc"
   ]
  },
  {
   "cell_type": "code",
   "execution_count": 134,
   "id": "70c406f3-8ca0-41b1-a9d0-255bae72721d",
   "metadata": {},
   "outputs": [
    {
     "ename": "AttributeError",
     "evalue": "'GeoDataFrame' object has no attribute 'corridor'",
     "output_type": "error",
     "traceback": [
      "\u001b[0;31m---------------------------------------------------------------------------\u001b[0m",
      "\u001b[0;31mAttributeError\u001b[0m                            Traceback (most recent call last)",
      "Input \u001b[0;32mIn [134]\u001b[0m, in \u001b[0;36m<cell line: 1>\u001b[0;34m()\u001b[0m\n\u001b[0;32m----> 1\u001b[0m \u001b[43mrt_day\u001b[49m\u001b[38;5;241;43m.\u001b[39;49m\u001b[43mstop_segment_speed_view\u001b[49m\u001b[43m \u001b[49m\u001b[38;5;241;43m>>\u001b[39;49m\u001b[43m \u001b[49m\u001b[38;5;28;43mfilter\u001b[39;49m\u001b[43m(\u001b[49m\u001b[43m_\u001b[49m\u001b[38;5;241;43m.\u001b[39;49m\u001b[43mcorridor\u001b[49m\u001b[43m)\u001b[49m \u001b[38;5;241m>>\u001b[39m head(\u001b[38;5;241m5\u001b[39m)\n",
      "File \u001b[0;32m/opt/conda/lib/python3.10/site-packages/siuba/dply/verbs.py:99\u001b[0m, in \u001b[0;36mPipeable.__rrshift__\u001b[0;34m(self, x)\u001b[0m\n\u001b[1;32m     96\u001b[0m \u001b[38;5;28;01melif\u001b[39;00m callable(x):\n\u001b[1;32m     97\u001b[0m     \u001b[38;5;28;01mreturn\u001b[39;00m Pipeable(calls \u001b[38;5;241m=\u001b[39m [x] \u001b[38;5;241m+\u001b[39m \u001b[38;5;28mself\u001b[39m\u001b[38;5;241m.\u001b[39mcalls)\n\u001b[0;32m---> 99\u001b[0m \u001b[38;5;28;01mreturn\u001b[39;00m \u001b[38;5;28;43mself\u001b[39;49m\u001b[43m(\u001b[49m\u001b[43mx\u001b[49m\u001b[43m)\u001b[49m\n",
      "File \u001b[0;32m/opt/conda/lib/python3.10/site-packages/siuba/dply/verbs.py:104\u001b[0m, in \u001b[0;36mPipeable.__call__\u001b[0;34m(self, x)\u001b[0m\n\u001b[1;32m    102\u001b[0m res \u001b[38;5;241m=\u001b[39m x\n\u001b[1;32m    103\u001b[0m \u001b[38;5;28;01mfor\u001b[39;00m f \u001b[38;5;129;01min\u001b[39;00m \u001b[38;5;28mself\u001b[39m\u001b[38;5;241m.\u001b[39mcalls:\n\u001b[0;32m--> 104\u001b[0m     res \u001b[38;5;241m=\u001b[39m \u001b[43mf\u001b[49m\u001b[43m(\u001b[49m\u001b[43mres\u001b[49m\u001b[43m)\u001b[49m\n\u001b[1;32m    105\u001b[0m \u001b[38;5;28;01mreturn\u001b[39;00m res\n",
      "File \u001b[0;32m/opt/conda/lib/python3.10/site-packages/siuba/siu.py:203\u001b[0m, in \u001b[0;36mCall.__call__\u001b[0;34m(self, x)\u001b[0m\n\u001b[1;32m    201\u001b[0m     \u001b[38;5;28;01mreturn\u001b[39;00m operator\u001b[38;5;241m.\u001b[39mgetitem(inst, \u001b[38;5;241m*\u001b[39mrest)\n\u001b[1;32m    202\u001b[0m \u001b[38;5;28;01melif\u001b[39;00m \u001b[38;5;28mself\u001b[39m\u001b[38;5;241m.\u001b[39mfunc \u001b[38;5;241m==\u001b[39m \u001b[38;5;124m\"\u001b[39m\u001b[38;5;124m__call__\u001b[39m\u001b[38;5;124m\"\u001b[39m:\n\u001b[0;32m--> 203\u001b[0m     \u001b[38;5;28;01mreturn\u001b[39;00m \u001b[38;5;28;43mgetattr\u001b[39;49m\u001b[43m(\u001b[49m\u001b[43minst\u001b[49m\u001b[43m,\u001b[49m\u001b[43m \u001b[49m\u001b[38;5;28;43mself\u001b[39;49m\u001b[38;5;241;43m.\u001b[39;49m\u001b[43mfunc\u001b[49m\u001b[43m)\u001b[49m\u001b[43m(\u001b[49m\u001b[38;5;241;43m*\u001b[39;49m\u001b[43mrest\u001b[49m\u001b[43m,\u001b[49m\u001b[43m \u001b[49m\u001b[38;5;241;43m*\u001b[39;49m\u001b[38;5;241;43m*\u001b[39;49m\u001b[43mkwargs\u001b[49m\u001b[43m)\u001b[49m\n\u001b[1;32m    205\u001b[0m \u001b[38;5;66;03m# in normal case, get method to call, and then call it\u001b[39;00m\n\u001b[1;32m    206\u001b[0m f_op \u001b[38;5;241m=\u001b[39m \u001b[38;5;28mgetattr\u001b[39m(operator, \u001b[38;5;28mself\u001b[39m\u001b[38;5;241m.\u001b[39mfunc)\n",
      "File \u001b[0;32m/opt/conda/lib/python3.10/functools.py:889\u001b[0m, in \u001b[0;36msingledispatch.<locals>.wrapper\u001b[0;34m(*args, **kw)\u001b[0m\n\u001b[1;32m    885\u001b[0m \u001b[38;5;28;01mif\u001b[39;00m \u001b[38;5;129;01mnot\u001b[39;00m args:\n\u001b[1;32m    886\u001b[0m     \u001b[38;5;28;01mraise\u001b[39;00m \u001b[38;5;167;01mTypeError\u001b[39;00m(\u001b[38;5;124mf\u001b[39m\u001b[38;5;124m'\u001b[39m\u001b[38;5;132;01m{\u001b[39;00mfuncname\u001b[38;5;132;01m}\u001b[39;00m\u001b[38;5;124m requires at least \u001b[39m\u001b[38;5;124m'\u001b[39m\n\u001b[1;32m    887\u001b[0m                     \u001b[38;5;124m'\u001b[39m\u001b[38;5;124m1 positional argument\u001b[39m\u001b[38;5;124m'\u001b[39m)\n\u001b[0;32m--> 889\u001b[0m \u001b[38;5;28;01mreturn\u001b[39;00m \u001b[43mdispatch\u001b[49m\u001b[43m(\u001b[49m\u001b[43margs\u001b[49m\u001b[43m[\u001b[49m\u001b[38;5;241;43m0\u001b[39;49m\u001b[43m]\u001b[49m\u001b[38;5;241;43m.\u001b[39;49m\u001b[38;5;18;43m__class__\u001b[39;49m\u001b[43m)\u001b[49m\u001b[43m(\u001b[49m\u001b[38;5;241;43m*\u001b[39;49m\u001b[43margs\u001b[49m\u001b[43m,\u001b[49m\u001b[43m \u001b[49m\u001b[38;5;241;43m*\u001b[39;49m\u001b[38;5;241;43m*\u001b[39;49m\u001b[43mkw\u001b[49m\u001b[43m)\u001b[49m\n",
      "File \u001b[0;32m/opt/conda/lib/python3.10/site-packages/siuba/dply/verbs.py:362\u001b[0m, in \u001b[0;36mfilter\u001b[0;34m(__data, *args)\u001b[0m\n\u001b[1;32m    360\u001b[0m crnt_indx \u001b[38;5;241m=\u001b[39m \u001b[38;5;28;01mTrue\u001b[39;00m\n\u001b[1;32m    361\u001b[0m \u001b[38;5;28;01mfor\u001b[39;00m arg \u001b[38;5;129;01min\u001b[39;00m args:\n\u001b[0;32m--> 362\u001b[0m     crnt_indx \u001b[38;5;241m&\u001b[39m\u001b[38;5;241m=\u001b[39m \u001b[43marg\u001b[49m\u001b[43m(\u001b[49m\u001b[43m__data\u001b[49m\u001b[43m)\u001b[49m \u001b[38;5;28;01mif\u001b[39;00m callable(arg) \u001b[38;5;28;01melse\u001b[39;00m arg\n\u001b[1;32m    364\u001b[0m \u001b[38;5;66;03m# use loc or iloc to subset, depending on crnt_indx ----\u001b[39;00m\n\u001b[1;32m    365\u001b[0m \u001b[38;5;66;03m# the main issue here is that loc can't remove all rows using a slice\u001b[39;00m\n\u001b[1;32m    366\u001b[0m \u001b[38;5;66;03m# and iloc can't use a boolean series\u001b[39;00m\n\u001b[1;32m    367\u001b[0m \u001b[38;5;28;01mif\u001b[39;00m \u001b[38;5;28misinstance\u001b[39m(crnt_indx, \u001b[38;5;28mbool\u001b[39m) \u001b[38;5;129;01mor\u001b[39;00m \u001b[38;5;28misinstance\u001b[39m(crnt_indx, np\u001b[38;5;241m.\u001b[39mbool_):\n\u001b[1;32m    368\u001b[0m     \u001b[38;5;66;03m# iloc can do slice, but not a bool series\u001b[39;00m\n",
      "File \u001b[0;32m/opt/conda/lib/python3.10/site-packages/siuba/siu.py:199\u001b[0m, in \u001b[0;36mCall.__call__\u001b[0;34m(self, x)\u001b[0m\n\u001b[1;32m    194\u001b[0m \u001b[38;5;66;03m#inst, *rest = (self.evaluate_calls(arg, x) for arg in self.args)\u001b[39;00m\n\u001b[1;32m    195\u001b[0m \u001b[38;5;66;03m#kwargs = {k: self.evaluate_calls(v, x) for k, v in self.kwargs.items()}\u001b[39;00m\n\u001b[1;32m    196\u001b[0m \n\u001b[1;32m    197\u001b[0m \u001b[38;5;66;03m# TODO: temporary workaround, for when only __get_attribute__ is defined\u001b[39;00m\n\u001b[1;32m    198\u001b[0m \u001b[38;5;28;01mif\u001b[39;00m \u001b[38;5;28mself\u001b[39m\u001b[38;5;241m.\u001b[39mfunc \u001b[38;5;241m==\u001b[39m \u001b[38;5;124m\"\u001b[39m\u001b[38;5;124m__getattr__\u001b[39m\u001b[38;5;124m\"\u001b[39m:\n\u001b[0;32m--> 199\u001b[0m     \u001b[38;5;28;01mreturn\u001b[39;00m \u001b[38;5;28;43mgetattr\u001b[39;49m\u001b[43m(\u001b[49m\u001b[43minst\u001b[49m\u001b[43m,\u001b[49m\u001b[43m \u001b[49m\u001b[38;5;241;43m*\u001b[39;49m\u001b[43mrest\u001b[49m\u001b[43m)\u001b[49m\n\u001b[1;32m    200\u001b[0m \u001b[38;5;28;01melif\u001b[39;00m \u001b[38;5;28mself\u001b[39m\u001b[38;5;241m.\u001b[39mfunc \u001b[38;5;241m==\u001b[39m \u001b[38;5;124m\"\u001b[39m\u001b[38;5;124m__getitem__\u001b[39m\u001b[38;5;124m\"\u001b[39m:\n\u001b[1;32m    201\u001b[0m     \u001b[38;5;28;01mreturn\u001b[39;00m operator\u001b[38;5;241m.\u001b[39mgetitem(inst, \u001b[38;5;241m*\u001b[39mrest)\n",
      "File \u001b[0;32m/opt/conda/lib/python3.10/site-packages/pandas/core/generic.py:5575\u001b[0m, in \u001b[0;36mNDFrame.__getattr__\u001b[0;34m(self, name)\u001b[0m\n\u001b[1;32m   5568\u001b[0m \u001b[38;5;28;01mif\u001b[39;00m (\n\u001b[1;32m   5569\u001b[0m     name \u001b[38;5;129;01mnot\u001b[39;00m \u001b[38;5;129;01min\u001b[39;00m \u001b[38;5;28mself\u001b[39m\u001b[38;5;241m.\u001b[39m_internal_names_set\n\u001b[1;32m   5570\u001b[0m     \u001b[38;5;129;01mand\u001b[39;00m name \u001b[38;5;129;01mnot\u001b[39;00m \u001b[38;5;129;01min\u001b[39;00m \u001b[38;5;28mself\u001b[39m\u001b[38;5;241m.\u001b[39m_metadata\n\u001b[1;32m   5571\u001b[0m     \u001b[38;5;129;01mand\u001b[39;00m name \u001b[38;5;129;01mnot\u001b[39;00m \u001b[38;5;129;01min\u001b[39;00m \u001b[38;5;28mself\u001b[39m\u001b[38;5;241m.\u001b[39m_accessors\n\u001b[1;32m   5572\u001b[0m     \u001b[38;5;129;01mand\u001b[39;00m \u001b[38;5;28mself\u001b[39m\u001b[38;5;241m.\u001b[39m_info_axis\u001b[38;5;241m.\u001b[39m_can_hold_identifiers_and_holds_name(name)\n\u001b[1;32m   5573\u001b[0m ):\n\u001b[1;32m   5574\u001b[0m     \u001b[38;5;28;01mreturn\u001b[39;00m \u001b[38;5;28mself\u001b[39m[name]\n\u001b[0;32m-> 5575\u001b[0m \u001b[38;5;28;01mreturn\u001b[39;00m \u001b[38;5;28;43mobject\u001b[39;49m\u001b[38;5;241;43m.\u001b[39;49m\u001b[38;5;21;43m__getattribute__\u001b[39;49m\u001b[43m(\u001b[49m\u001b[38;5;28;43mself\u001b[39;49m\u001b[43m,\u001b[49m\u001b[43m \u001b[49m\u001b[43mname\u001b[49m\u001b[43m)\u001b[49m\n",
      "\u001b[0;31mAttributeError\u001b[0m: 'GeoDataFrame' object has no attribute 'corridor'"
     ]
    }
   ],
   "source": [
    "rt_day.stop_segment_speed_view >> filter(_.corridor) >> head(5)"
   ]
  },
  {
   "cell_type": "code",
   "execution_count": null,
   "id": "89c8151f-9117-4b47-bd62-7746df2b6148",
   "metadata": {},
   "outputs": [],
   "source": [
    "rt_day.stop_segment_speed_view >> filter(_.corridor) >> mutate(median_mph = _.speed_mph.median()) >> head(3)"
   ]
  },
  {
   "cell_type": "code",
   "execution_count": null,
   "id": "fc996623-0bd0-4d35-bb70-c9c734d9db1d",
   "metadata": {},
   "outputs": [],
   "source": []
  }
 ],
 "metadata": {
  "kernelspec": {
   "display_name": "Python 3 (ipykernel)",
   "language": "python",
   "name": "python3"
  },
  "language_info": {
   "codemirror_mode": {
    "name": "ipython",
    "version": 3
   },
   "file_extension": ".py",
   "mimetype": "text/x-python",
   "name": "python",
   "nbconvert_exporter": "python",
   "pygments_lexer": "ipython3",
   "version": "3.10.5"
  }
 },
 "nbformat": 4,
 "nbformat_minor": 5
}
