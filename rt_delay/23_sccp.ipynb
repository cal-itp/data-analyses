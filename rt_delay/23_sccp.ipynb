{
 "cells": [
  {
   "cell_type": "code",
   "execution_count": 1,
   "id": "a51f0c99-91a1-4406-824c-215139aa98d0",
   "metadata": {},
   "outputs": [],
   "source": [
    "%%capture\n",
    "import warnings\n",
    "warnings.filterwarnings('ignore')\n",
    "\n",
    "import os\n",
    "os.environ[\"CALITP_BQ_MAX_BYTES\"] = str(800_000_000_000)\n",
    "import shared_utils\n",
    "\n",
    "from calitp.tables import tbl\n",
    "from calitp import query_sql\n",
    "import calitp.magics\n",
    "\n",
    "from siuba import *\n",
    "import pandas as pd\n",
    "import geopandas as gpd\n",
    "\n",
    "import datetime as dt\n",
    "\n",
    "import importlib\n",
    "import rt_analysis as rt\n",
    "import rt_filter_map_plot\n",
    "\n",
    "from IPython.display import display, Markdown, Latex, HTML\n",
    "import json\n",
    "\n",
    "from tqdm import tqdm_notebook\n",
    "from tqdm.notebook import trange, tqdm"
   ]
  },
  {
   "cell_type": "code",
   "execution_count": 2,
   "id": "4b58ce84-e956-4f47-b2fd-d7a3ff07b46f",
   "metadata": {},
   "outputs": [
    {
     "data": {
      "text/plain": [
       "<module 'rt_filter_map_plot' from '/home/jovyan/data-analyses/rt_delay/rt_filter_map_plot.py'>"
      ]
     },
     "execution_count": 2,
     "metadata": {},
     "output_type": "execute_result"
    }
   ],
   "source": [
    "importlib.reload(rt_filter_map_plot)"
   ]
  },
  {
   "cell_type": "code",
   "execution_count": 3,
   "id": "a98a9208-4023-4205-8088-f68bb560ee3f",
   "metadata": {},
   "outputs": [],
   "source": [
    "# itp_id = 4 ## AC Transit\n",
    "itp_id = 159 ## Lake Transit"
   ]
  },
  {
   "cell_type": "code",
   "execution_count": 4,
   "id": "4331503f-09b5-4eb1-9b1a-8e5494a003c0",
   "metadata": {},
   "outputs": [],
   "source": [
    "import numpy as np"
   ]
  },
  {
   "cell_type": "code",
   "execution_count": 7,
   "id": "4ce12969-7cd3-4cd7-b760-c6f7826b85e5",
   "metadata": {},
   "outputs": [],
   "source": [
    "date_range = np.arange('2022-04-30', '2022-05-09', dtype='datetime64[D]')"
   ]
  },
  {
   "cell_type": "code",
   "execution_count": 8,
   "id": "3ca84d5f-48cd-4de9-be49-78bdb46168dc",
   "metadata": {},
   "outputs": [
    {
     "data": {
      "text/plain": [
       "array(['2022-04-30', '2022-05-01', '2022-05-02', '2022-05-03',\n",
       "       '2022-05-04', '2022-05-05', '2022-05-06', '2022-05-07',\n",
       "       '2022-05-08'], dtype='datetime64[D]')"
      ]
     },
     "execution_count": 8,
     "metadata": {},
     "output_type": "execute_result"
    }
   ],
   "source": [
    "date_range"
   ]
  },
  {
   "cell_type": "markdown",
   "id": "3209f492-611b-4aa9-9c49-9c473328426c",
   "metadata": {},
   "source": [
    "# Generate analysis data for all dates"
   ]
  },
  {
   "cell_type": "code",
   "execution_count": 7,
   "id": "8a482937-4925-42cf-95d3-73120a5348c2",
   "metadata": {},
   "outputs": [
    {
     "data": {
      "application/vnd.jupyter.widget-view+json": {
       "model_id": "a3d587b3f86943d3a7639a49f3e8d520",
       "version_major": 2,
       "version_minor": 0
      },
      "text/plain": [
       "0it [00:00, ?it/s]"
      ]
     },
     "metadata": {},
     "output_type": "display_data"
    }
   ],
   "source": [
    "pbar = tqdm()"
   ]
  },
  {
   "cell_type": "code",
   "execution_count": 8,
   "id": "409383a0-e21e-4a20-beef-9db217e86003",
   "metadata": {},
   "outputs": [
    {
     "name": "stdout",
     "output_type": "stream",
     "text": [
      "found parquet\n",
      "found parquet\n",
      "found parquet\n",
      "found parquet\n",
      "found parquet\n"
     ]
    }
   ],
   "source": [
    "rt_analysis = rt.OperatorDayAnalysis(itp_id, dt.date(2022, 6, 1), pbar)\n",
    "rt_analysis.export_views_gcs()"
   ]
  },
  {
   "cell_type": "code",
   "execution_count": 16,
   "id": "02790445-ecc0-4b8f-95b1-519a0aced416",
   "metadata": {},
   "outputs": [
    {
     "ename": "AssertionError",
     "evalue": "no vehicle positions data found for 2022-05-07",
     "output_type": "error",
     "traceback": [
      "\u001b[0;31m---------------------------------------------------------------------------\u001b[0m",
      "\u001b[0;31mAssertionError\u001b[0m                            Traceback (most recent call last)",
      "Input \u001b[0;32mIn [16]\u001b[0m, in \u001b[0;36m<cell line: 1>\u001b[0;34m()\u001b[0m\n\u001b[0;32m----> 1\u001b[0m \u001b[43mshared_utils\u001b[49m\u001b[38;5;241;43m.\u001b[39;49m\u001b[43mrt_utils\u001b[49m\u001b[38;5;241;43m.\u001b[39;49m\u001b[43mget_vehicle_positions\u001b[49m\u001b[43m(\u001b[49m\u001b[38;5;241;43m159\u001b[39;49m\u001b[43m,\u001b[49m\u001b[43m \u001b[49m\u001b[43mdt\u001b[49m\u001b[38;5;241;43m.\u001b[39;49m\u001b[43mdate\u001b[49m\u001b[43m(\u001b[49m\u001b[38;5;241;43m2022\u001b[39;49m\u001b[43m,\u001b[49m\u001b[43m \u001b[49m\u001b[38;5;241;43m5\u001b[39;49m\u001b[43m,\u001b[49m\u001b[43m \u001b[49m\u001b[38;5;241;43m7\u001b[39;49m\u001b[43m)\u001b[49m\u001b[43m)\u001b[49m\n",
      "File \u001b[0;32m~/data-analyses/_shared_utils/shared_utils/rt_utils.py:222\u001b[0m, in \u001b[0;36mget_vehicle_positions\u001b[0;34m(itp_id, analysis_date, export_path)\u001b[0m\n\u001b[1;32m    220\u001b[0m df \u001b[38;5;241m=\u001b[39m df \u001b[38;5;241m>>\u001b[39m distinct(_\u001b[38;5;241m.\u001b[39mtrip_id, _\u001b[38;5;241m.\u001b[39mvehicle_timestamp, _keep_all\u001b[38;5;241m=\u001b[39m\u001b[38;5;28;01mTrue\u001b[39;00m)\n\u001b[1;32m    221\u001b[0m df \u001b[38;5;241m=\u001b[39m df\u001b[38;5;241m.\u001b[39mdropna(subset\u001b[38;5;241m=\u001b[39m[\u001b[38;5;124m\"\u001b[39m\u001b[38;5;124mvehicle_timestamp\u001b[39m\u001b[38;5;124m\"\u001b[39m])\n\u001b[0;32m--> 222\u001b[0m \u001b[38;5;28;01massert\u001b[39;00m \u001b[38;5;129;01mnot\u001b[39;00m df\u001b[38;5;241m.\u001b[39mempty, \u001b[38;5;124mf\u001b[39m\u001b[38;5;124m\"\u001b[39m\u001b[38;5;124mno vehicle positions data found for \u001b[39m\u001b[38;5;132;01m{\u001b[39;00mdate_str\u001b[38;5;132;01m}\u001b[39;00m\u001b[38;5;124m\"\u001b[39m\n\u001b[1;32m    223\u001b[0m df\u001b[38;5;241m.\u001b[39mvehicle_timestamp \u001b[38;5;241m=\u001b[39m df\u001b[38;5;241m.\u001b[39mvehicle_timestamp\u001b[38;5;241m.\u001b[39mapply(convert_ts)\n\u001b[1;32m    224\u001b[0m \u001b[38;5;66;03m# header timestamp not present in staging, add upstream if desired\u001b[39;00m\n\u001b[1;32m    225\u001b[0m \u001b[38;5;66;03m# df.header_timestamp = df.header_timestamp.apply(convert_ts)\u001b[39;00m\n",
      "\u001b[0;31mAssertionError\u001b[0m: no vehicle positions data found for 2022-05-07"
     ]
    }
   ],
   "source": [
    "shared_utils.rt_utils.get_vehicle_positions(159, dt.date(2022, 5, 7))"
   ]
  },
  {
   "cell_type": "code",
   "execution_count": 12,
   "id": "47f134a7-8290-493d-be9b-d3ac3e731ba2",
   "metadata": {},
   "outputs": [
    {
     "name": "stdout",
     "output_type": "stream",
     "text": [
      "found parquet\n"
     ]
    },
    {
     "data": {
      "text/html": [
       "<div>\n",
       "<style scoped>\n",
       "    .dataframe tbody tr th:only-of-type {\n",
       "        vertical-align: middle;\n",
       "    }\n",
       "\n",
       "    .dataframe tbody tr th {\n",
       "        vertical-align: top;\n",
       "    }\n",
       "\n",
       "    .dataframe thead th {\n",
       "        text-align: right;\n",
       "    }\n",
       "</style>\n",
       "<table border=\"1\" class=\"dataframe\">\n",
       "  <thead>\n",
       "    <tr style=\"text-align: right;\">\n",
       "      <th></th>\n",
       "      <th>calitp_itp_id</th>\n",
       "      <th>calitp_url_number</th>\n",
       "      <th>service_date</th>\n",
       "      <th>trip_key</th>\n",
       "      <th>trip_id</th>\n",
       "      <th>route_id</th>\n",
       "      <th>direction_id</th>\n",
       "      <th>shape_id</th>\n",
       "      <th>calitp_extracted_at</th>\n",
       "      <th>calitp_deleted_at</th>\n",
       "      <th>route_long_name</th>\n",
       "      <th>route_short_name</th>\n",
       "      <th>route_desc</th>\n",
       "      <th>route_type</th>\n",
       "    </tr>\n",
       "  </thead>\n",
       "  <tbody>\n",
       "    <tr>\n",
       "      <th>0</th>\n",
       "      <td>159</td>\n",
       "      <td>0</td>\n",
       "      <td>2022-04-30</td>\n",
       "      <td>9099194876581177237</td>\n",
       "      <td>t_1547389_b_25985_tn_0</td>\n",
       "      <td>19311</td>\n",
       "      <td>0</td>\n",
       "      <td>p_1275849</td>\n",
       "      <td>2021-10-04</td>\n",
       "      <td>2022-09-06</td>\n",
       "      <td>Lakeport City</td>\n",
       "      <td>8</td>\n",
       "      <td>None</td>\n",
       "      <td>3</td>\n",
       "    </tr>\n",
       "    <tr>\n",
       "      <th>1</th>\n",
       "      <td>159</td>\n",
       "      <td>0</td>\n",
       "      <td>2022-04-30</td>\n",
       "      <td>-3782819459302039695</td>\n",
       "      <td>t_1439288_b_25985_tn_0</td>\n",
       "      <td>19311</td>\n",
       "      <td>0</td>\n",
       "      <td>p_1275849</td>\n",
       "      <td>2021-06-21</td>\n",
       "      <td>2099-01-01</td>\n",
       "      <td>Lakeport City</td>\n",
       "      <td>8</td>\n",
       "      <td>None</td>\n",
       "      <td>3</td>\n",
       "    </tr>\n",
       "    <tr>\n",
       "      <th>2</th>\n",
       "      <td>159</td>\n",
       "      <td>0</td>\n",
       "      <td>2022-04-30</td>\n",
       "      <td>-8925727387365668020</td>\n",
       "      <td>t_1439285_b_25985_tn_0</td>\n",
       "      <td>19311</td>\n",
       "      <td>0</td>\n",
       "      <td>p_1275849</td>\n",
       "      <td>2021-06-21</td>\n",
       "      <td>2022-09-06</td>\n",
       "      <td>Lakeport City</td>\n",
       "      <td>8</td>\n",
       "      <td>None</td>\n",
       "      <td>3</td>\n",
       "    </tr>\n",
       "    <tr>\n",
       "      <th>3</th>\n",
       "      <td>159</td>\n",
       "      <td>0</td>\n",
       "      <td>2022-04-30</td>\n",
       "      <td>1149773370943146805</td>\n",
       "      <td>t_1439296_b_25985_tn_0</td>\n",
       "      <td>19311</td>\n",
       "      <td>0</td>\n",
       "      <td>p_1275848</td>\n",
       "      <td>2021-06-21</td>\n",
       "      <td>2022-09-06</td>\n",
       "      <td>Lakeport City</td>\n",
       "      <td>8</td>\n",
       "      <td>None</td>\n",
       "      <td>3</td>\n",
       "    </tr>\n",
       "    <tr>\n",
       "      <th>4</th>\n",
       "      <td>159</td>\n",
       "      <td>0</td>\n",
       "      <td>2022-04-30</td>\n",
       "      <td>3807771985519687851</td>\n",
       "      <td>t_1439297_b_25985_tn_0</td>\n",
       "      <td>19311</td>\n",
       "      <td>0</td>\n",
       "      <td>p_1275848</td>\n",
       "      <td>2021-06-21</td>\n",
       "      <td>2099-01-01</td>\n",
       "      <td>Lakeport City</td>\n",
       "      <td>8</td>\n",
       "      <td>None</td>\n",
       "      <td>3</td>\n",
       "    </tr>\n",
       "    <tr>\n",
       "      <th>5</th>\n",
       "      <td>159</td>\n",
       "      <td>0</td>\n",
       "      <td>2022-04-30</td>\n",
       "      <td>-1724005930502949966</td>\n",
       "      <td>t_1439305_b_25985_tn_0</td>\n",
       "      <td>19311</td>\n",
       "      <td>0</td>\n",
       "      <td>p_1275848</td>\n",
       "      <td>2021-06-21</td>\n",
       "      <td>2022-09-06</td>\n",
       "      <td>Lakeport City</td>\n",
       "      <td>8</td>\n",
       "      <td>None</td>\n",
       "      <td>3</td>\n",
       "    </tr>\n",
       "    <tr>\n",
       "      <th>6</th>\n",
       "      <td>159</td>\n",
       "      <td>0</td>\n",
       "      <td>2022-04-30</td>\n",
       "      <td>-7278269088169232829</td>\n",
       "      <td>t_1439300_b_25985_tn_0</td>\n",
       "      <td>19311</td>\n",
       "      <td>0</td>\n",
       "      <td>p_1275848</td>\n",
       "      <td>2021-06-21</td>\n",
       "      <td>2099-01-01</td>\n",
       "      <td>Lakeport City</td>\n",
       "      <td>8</td>\n",
       "      <td>None</td>\n",
       "      <td>3</td>\n",
       "    </tr>\n",
       "    <tr>\n",
       "      <th>7</th>\n",
       "      <td>159</td>\n",
       "      <td>0</td>\n",
       "      <td>2022-04-30</td>\n",
       "      <td>6651208253536497037</td>\n",
       "      <td>t_1439291_b_25985_tn_0</td>\n",
       "      <td>19311</td>\n",
       "      <td>0</td>\n",
       "      <td>p_1275849</td>\n",
       "      <td>2021-06-21</td>\n",
       "      <td>2099-01-01</td>\n",
       "      <td>Lakeport City</td>\n",
       "      <td>8</td>\n",
       "      <td>None</td>\n",
       "      <td>3</td>\n",
       "    </tr>\n",
       "    <tr>\n",
       "      <th>8</th>\n",
       "      <td>159</td>\n",
       "      <td>0</td>\n",
       "      <td>2022-04-30</td>\n",
       "      <td>8652216044727557938</td>\n",
       "      <td>t_1439292_b_25985_tn_0</td>\n",
       "      <td>19311</td>\n",
       "      <td>0</td>\n",
       "      <td>p_1275849</td>\n",
       "      <td>2021-06-21</td>\n",
       "      <td>2099-01-01</td>\n",
       "      <td>Lakeport City</td>\n",
       "      <td>8</td>\n",
       "      <td>None</td>\n",
       "      <td>3</td>\n",
       "    </tr>\n",
       "    <tr>\n",
       "      <th>9</th>\n",
       "      <td>159</td>\n",
       "      <td>0</td>\n",
       "      <td>2022-04-30</td>\n",
       "      <td>5854489612375951727</td>\n",
       "      <td>t_1439302_b_25985_tn_0</td>\n",
       "      <td>19311</td>\n",
       "      <td>0</td>\n",
       "      <td>p_1275848</td>\n",
       "      <td>2021-06-21</td>\n",
       "      <td>2099-01-01</td>\n",
       "      <td>Lakeport City</td>\n",
       "      <td>8</td>\n",
       "      <td>None</td>\n",
       "      <td>3</td>\n",
       "    </tr>\n",
       "    <tr>\n",
       "      <th>10</th>\n",
       "      <td>159</td>\n",
       "      <td>0</td>\n",
       "      <td>2022-04-30</td>\n",
       "      <td>8871007131830865579</td>\n",
       "      <td>t_1439299_b_25985_tn_0</td>\n",
       "      <td>19311</td>\n",
       "      <td>0</td>\n",
       "      <td>p_1275848</td>\n",
       "      <td>2021-06-21</td>\n",
       "      <td>2099-01-01</td>\n",
       "      <td>Lakeport City</td>\n",
       "      <td>8</td>\n",
       "      <td>None</td>\n",
       "      <td>3</td>\n",
       "    </tr>\n",
       "    <tr>\n",
       "      <th>11</th>\n",
       "      <td>159</td>\n",
       "      <td>0</td>\n",
       "      <td>2022-04-30</td>\n",
       "      <td>3873681517261353279</td>\n",
       "      <td>t_1439303_b_25985_tn_0</td>\n",
       "      <td>19311</td>\n",
       "      <td>0</td>\n",
       "      <td>p_1275848</td>\n",
       "      <td>2021-06-21</td>\n",
       "      <td>2099-01-01</td>\n",
       "      <td>Lakeport City</td>\n",
       "      <td>8</td>\n",
       "      <td>None</td>\n",
       "      <td>3</td>\n",
       "    </tr>\n",
       "    <tr>\n",
       "      <th>12</th>\n",
       "      <td>159</td>\n",
       "      <td>0</td>\n",
       "      <td>2022-04-30</td>\n",
       "      <td>-1304930664896596086</td>\n",
       "      <td>t_1547388_b_25985_tn_0</td>\n",
       "      <td>19311</td>\n",
       "      <td>0</td>\n",
       "      <td>p_1275848</td>\n",
       "      <td>2021-10-04</td>\n",
       "      <td>2022-09-06</td>\n",
       "      <td>Lakeport City</td>\n",
       "      <td>8</td>\n",
       "      <td>None</td>\n",
       "      <td>3</td>\n",
       "    </tr>\n",
       "    <tr>\n",
       "      <th>13</th>\n",
       "      <td>159</td>\n",
       "      <td>0</td>\n",
       "      <td>2022-04-30</td>\n",
       "      <td>3789723922796320869</td>\n",
       "      <td>t_1439304_b_25985_tn_0</td>\n",
       "      <td>19311</td>\n",
       "      <td>0</td>\n",
       "      <td>p_1275848</td>\n",
       "      <td>2021-06-21</td>\n",
       "      <td>2099-01-01</td>\n",
       "      <td>Lakeport City</td>\n",
       "      <td>8</td>\n",
       "      <td>None</td>\n",
       "      <td>3</td>\n",
       "    </tr>\n",
       "    <tr>\n",
       "      <th>14</th>\n",
       "      <td>159</td>\n",
       "      <td>0</td>\n",
       "      <td>2022-04-30</td>\n",
       "      <td>4194499704621491671</td>\n",
       "      <td>t_1547387_b_25985_tn_0</td>\n",
       "      <td>19311</td>\n",
       "      <td>0</td>\n",
       "      <td>p_1275848</td>\n",
       "      <td>2021-10-04</td>\n",
       "      <td>2022-09-06</td>\n",
       "      <td>Lakeport City</td>\n",
       "      <td>8</td>\n",
       "      <td>None</td>\n",
       "      <td>3</td>\n",
       "    </tr>\n",
       "    <tr>\n",
       "      <th>15</th>\n",
       "      <td>159</td>\n",
       "      <td>0</td>\n",
       "      <td>2022-04-30</td>\n",
       "      <td>-2478733085939356073</td>\n",
       "      <td>t_1439301_b_25985_tn_0</td>\n",
       "      <td>19311</td>\n",
       "      <td>0</td>\n",
       "      <td>p_1275848</td>\n",
       "      <td>2021-06-21</td>\n",
       "      <td>2022-09-06</td>\n",
       "      <td>Lakeport City</td>\n",
       "      <td>8</td>\n",
       "      <td>None</td>\n",
       "      <td>3</td>\n",
       "    </tr>\n",
       "    <tr>\n",
       "      <th>16</th>\n",
       "      <td>159</td>\n",
       "      <td>0</td>\n",
       "      <td>2022-04-30</td>\n",
       "      <td>1659685033974821683</td>\n",
       "      <td>t_1439286_b_25985_tn_0</td>\n",
       "      <td>19311</td>\n",
       "      <td>0</td>\n",
       "      <td>p_1275849</td>\n",
       "      <td>2021-06-21</td>\n",
       "      <td>2099-01-01</td>\n",
       "      <td>Lakeport City</td>\n",
       "      <td>8</td>\n",
       "      <td>None</td>\n",
       "      <td>3</td>\n",
       "    </tr>\n",
       "    <tr>\n",
       "      <th>17</th>\n",
       "      <td>159</td>\n",
       "      <td>0</td>\n",
       "      <td>2022-04-30</td>\n",
       "      <td>-5571283956299990886</td>\n",
       "      <td>t_1439295_b_25985_tn_0</td>\n",
       "      <td>19311</td>\n",
       "      <td>0</td>\n",
       "      <td>p_1275851</td>\n",
       "      <td>2021-06-21</td>\n",
       "      <td>2022-09-06</td>\n",
       "      <td>Lakeport City</td>\n",
       "      <td>8</td>\n",
       "      <td>None</td>\n",
       "      <td>3</td>\n",
       "    </tr>\n",
       "    <tr>\n",
       "      <th>18</th>\n",
       "      <td>159</td>\n",
       "      <td>0</td>\n",
       "      <td>2022-04-30</td>\n",
       "      <td>-4342802769882799998</td>\n",
       "      <td>t_1439287_b_25985_tn_0</td>\n",
       "      <td>19311</td>\n",
       "      <td>0</td>\n",
       "      <td>p_1275849</td>\n",
       "      <td>2021-06-21</td>\n",
       "      <td>2099-01-01</td>\n",
       "      <td>Lakeport City</td>\n",
       "      <td>8</td>\n",
       "      <td>None</td>\n",
       "      <td>3</td>\n",
       "    </tr>\n",
       "    <tr>\n",
       "      <th>19</th>\n",
       "      <td>159</td>\n",
       "      <td>0</td>\n",
       "      <td>2022-04-30</td>\n",
       "      <td>6362079267822475847</td>\n",
       "      <td>t_1439298_b_25985_tn_0</td>\n",
       "      <td>19311</td>\n",
       "      <td>0</td>\n",
       "      <td>p_1275848</td>\n",
       "      <td>2021-06-21</td>\n",
       "      <td>2099-01-01</td>\n",
       "      <td>Lakeport City</td>\n",
       "      <td>8</td>\n",
       "      <td>None</td>\n",
       "      <td>3</td>\n",
       "    </tr>\n",
       "    <tr>\n",
       "      <th>20</th>\n",
       "      <td>159</td>\n",
       "      <td>0</td>\n",
       "      <td>2022-04-30</td>\n",
       "      <td>899920627837546523</td>\n",
       "      <td>t_1439290_b_25985_tn_0</td>\n",
       "      <td>19311</td>\n",
       "      <td>0</td>\n",
       "      <td>p_1275849</td>\n",
       "      <td>2021-06-21</td>\n",
       "      <td>2022-09-06</td>\n",
       "      <td>Lakeport City</td>\n",
       "      <td>8</td>\n",
       "      <td>None</td>\n",
       "      <td>3</td>\n",
       "    </tr>\n",
       "    <tr>\n",
       "      <th>21</th>\n",
       "      <td>159</td>\n",
       "      <td>0</td>\n",
       "      <td>2022-04-30</td>\n",
       "      <td>-2565817803908918158</td>\n",
       "      <td>t_1439293_b_25985_tn_0</td>\n",
       "      <td>19311</td>\n",
       "      <td>0</td>\n",
       "      <td>p_1275849</td>\n",
       "      <td>2021-06-21</td>\n",
       "      <td>2099-01-01</td>\n",
       "      <td>Lakeport City</td>\n",
       "      <td>8</td>\n",
       "      <td>None</td>\n",
       "      <td>3</td>\n",
       "    </tr>\n",
       "    <tr>\n",
       "      <th>22</th>\n",
       "      <td>159</td>\n",
       "      <td>0</td>\n",
       "      <td>2022-04-30</td>\n",
       "      <td>-6316375557460055966</td>\n",
       "      <td>t_1547390_b_25985_tn_0</td>\n",
       "      <td>19311</td>\n",
       "      <td>0</td>\n",
       "      <td>p_1275849</td>\n",
       "      <td>2021-10-04</td>\n",
       "      <td>2022-09-06</td>\n",
       "      <td>Lakeport City</td>\n",
       "      <td>8</td>\n",
       "      <td>None</td>\n",
       "      <td>3</td>\n",
       "    </tr>\n",
       "    <tr>\n",
       "      <th>23</th>\n",
       "      <td>159</td>\n",
       "      <td>0</td>\n",
       "      <td>2022-04-30</td>\n",
       "      <td>-5373864053539857690</td>\n",
       "      <td>t_1439294_b_25985_tn_0</td>\n",
       "      <td>19311</td>\n",
       "      <td>0</td>\n",
       "      <td>p_1275849</td>\n",
       "      <td>2021-06-21</td>\n",
       "      <td>2022-09-06</td>\n",
       "      <td>Lakeport City</td>\n",
       "      <td>8</td>\n",
       "      <td>None</td>\n",
       "      <td>3</td>\n",
       "    </tr>\n",
       "    <tr>\n",
       "      <th>24</th>\n",
       "      <td>159</td>\n",
       "      <td>0</td>\n",
       "      <td>2022-04-30</td>\n",
       "      <td>5267696161165048515</td>\n",
       "      <td>t_1439289_b_25985_tn_0</td>\n",
       "      <td>19311</td>\n",
       "      <td>0</td>\n",
       "      <td>p_1275849</td>\n",
       "      <td>2021-06-21</td>\n",
       "      <td>2099-01-01</td>\n",
       "      <td>Lakeport City</td>\n",
       "      <td>8</td>\n",
       "      <td>None</td>\n",
       "      <td>3</td>\n",
       "    </tr>\n",
       "  </tbody>\n",
       "</table>\n",
       "</div>"
      ],
      "text/plain": [
       "    calitp_itp_id  calitp_url_number service_date             trip_key  \\\n",
       "0             159                  0   2022-04-30  9099194876581177237   \n",
       "1             159                  0   2022-04-30 -3782819459302039695   \n",
       "2             159                  0   2022-04-30 -8925727387365668020   \n",
       "3             159                  0   2022-04-30  1149773370943146805   \n",
       "4             159                  0   2022-04-30  3807771985519687851   \n",
       "5             159                  0   2022-04-30 -1724005930502949966   \n",
       "6             159                  0   2022-04-30 -7278269088169232829   \n",
       "7             159                  0   2022-04-30  6651208253536497037   \n",
       "8             159                  0   2022-04-30  8652216044727557938   \n",
       "9             159                  0   2022-04-30  5854489612375951727   \n",
       "10            159                  0   2022-04-30  8871007131830865579   \n",
       "11            159                  0   2022-04-30  3873681517261353279   \n",
       "12            159                  0   2022-04-30 -1304930664896596086   \n",
       "13            159                  0   2022-04-30  3789723922796320869   \n",
       "14            159                  0   2022-04-30  4194499704621491671   \n",
       "15            159                  0   2022-04-30 -2478733085939356073   \n",
       "16            159                  0   2022-04-30  1659685033974821683   \n",
       "17            159                  0   2022-04-30 -5571283956299990886   \n",
       "18            159                  0   2022-04-30 -4342802769882799998   \n",
       "19            159                  0   2022-04-30  6362079267822475847   \n",
       "20            159                  0   2022-04-30   899920627837546523   \n",
       "21            159                  0   2022-04-30 -2565817803908918158   \n",
       "22            159                  0   2022-04-30 -6316375557460055966   \n",
       "23            159                  0   2022-04-30 -5373864053539857690   \n",
       "24            159                  0   2022-04-30  5267696161165048515   \n",
       "\n",
       "                   trip_id route_id direction_id   shape_id  \\\n",
       "0   t_1547389_b_25985_tn_0    19311            0  p_1275849   \n",
       "1   t_1439288_b_25985_tn_0    19311            0  p_1275849   \n",
       "2   t_1439285_b_25985_tn_0    19311            0  p_1275849   \n",
       "3   t_1439296_b_25985_tn_0    19311            0  p_1275848   \n",
       "4   t_1439297_b_25985_tn_0    19311            0  p_1275848   \n",
       "5   t_1439305_b_25985_tn_0    19311            0  p_1275848   \n",
       "6   t_1439300_b_25985_tn_0    19311            0  p_1275848   \n",
       "7   t_1439291_b_25985_tn_0    19311            0  p_1275849   \n",
       "8   t_1439292_b_25985_tn_0    19311            0  p_1275849   \n",
       "9   t_1439302_b_25985_tn_0    19311            0  p_1275848   \n",
       "10  t_1439299_b_25985_tn_0    19311            0  p_1275848   \n",
       "11  t_1439303_b_25985_tn_0    19311            0  p_1275848   \n",
       "12  t_1547388_b_25985_tn_0    19311            0  p_1275848   \n",
       "13  t_1439304_b_25985_tn_0    19311            0  p_1275848   \n",
       "14  t_1547387_b_25985_tn_0    19311            0  p_1275848   \n",
       "15  t_1439301_b_25985_tn_0    19311            0  p_1275848   \n",
       "16  t_1439286_b_25985_tn_0    19311            0  p_1275849   \n",
       "17  t_1439295_b_25985_tn_0    19311            0  p_1275851   \n",
       "18  t_1439287_b_25985_tn_0    19311            0  p_1275849   \n",
       "19  t_1439298_b_25985_tn_0    19311            0  p_1275848   \n",
       "20  t_1439290_b_25985_tn_0    19311            0  p_1275849   \n",
       "21  t_1439293_b_25985_tn_0    19311            0  p_1275849   \n",
       "22  t_1547390_b_25985_tn_0    19311            0  p_1275849   \n",
       "23  t_1439294_b_25985_tn_0    19311            0  p_1275849   \n",
       "24  t_1439289_b_25985_tn_0    19311            0  p_1275849   \n",
       "\n",
       "   calitp_extracted_at calitp_deleted_at route_long_name route_short_name  \\\n",
       "0           2021-10-04        2022-09-06   Lakeport City                8   \n",
       "1           2021-06-21        2099-01-01   Lakeport City                8   \n",
       "2           2021-06-21        2022-09-06   Lakeport City                8   \n",
       "3           2021-06-21        2022-09-06   Lakeport City                8   \n",
       "4           2021-06-21        2099-01-01   Lakeport City                8   \n",
       "5           2021-06-21        2022-09-06   Lakeport City                8   \n",
       "6           2021-06-21        2099-01-01   Lakeport City                8   \n",
       "7           2021-06-21        2099-01-01   Lakeport City                8   \n",
       "8           2021-06-21        2099-01-01   Lakeport City                8   \n",
       "9           2021-06-21        2099-01-01   Lakeport City                8   \n",
       "10          2021-06-21        2099-01-01   Lakeport City                8   \n",
       "11          2021-06-21        2099-01-01   Lakeport City                8   \n",
       "12          2021-10-04        2022-09-06   Lakeport City                8   \n",
       "13          2021-06-21        2099-01-01   Lakeport City                8   \n",
       "14          2021-10-04        2022-09-06   Lakeport City                8   \n",
       "15          2021-06-21        2022-09-06   Lakeport City                8   \n",
       "16          2021-06-21        2099-01-01   Lakeport City                8   \n",
       "17          2021-06-21        2022-09-06   Lakeport City                8   \n",
       "18          2021-06-21        2099-01-01   Lakeport City                8   \n",
       "19          2021-06-21        2099-01-01   Lakeport City                8   \n",
       "20          2021-06-21        2022-09-06   Lakeport City                8   \n",
       "21          2021-06-21        2099-01-01   Lakeport City                8   \n",
       "22          2021-10-04        2022-09-06   Lakeport City                8   \n",
       "23          2021-06-21        2022-09-06   Lakeport City                8   \n",
       "24          2021-06-21        2099-01-01   Lakeport City                8   \n",
       "\n",
       "   route_desc route_type  \n",
       "0        None          3  \n",
       "1        None          3  \n",
       "2        None          3  \n",
       "3        None          3  \n",
       "4        None          3  \n",
       "5        None          3  \n",
       "6        None          3  \n",
       "7        None          3  \n",
       "8        None          3  \n",
       "9        None          3  \n",
       "10       None          3  \n",
       "11       None          3  \n",
       "12       None          3  \n",
       "13       None          3  \n",
       "14       None          3  \n",
       "15       None          3  \n",
       "16       None          3  \n",
       "17       None          3  \n",
       "18       None          3  \n",
       "19       None          3  \n",
       "20       None          3  \n",
       "21       None          3  \n",
       "22       None          3  \n",
       "23       None          3  \n",
       "24       None          3  "
      ]
     },
     "execution_count": 12,
     "metadata": {},
     "output_type": "execute_result"
    }
   ],
   "source": [
    "shared_utils.rt_utils.get_trips(159, dt.date(2022, 4, 30))"
   ]
  },
  {
   "cell_type": "code",
   "execution_count": 8,
   "id": "f1c3a1f9-44e3-4d73-a913-06cc3286eaf4",
   "metadata": {
    "collapsed": true,
    "jupyter": {
     "outputs_hidden": true
    },
    "tags": []
   },
   "outputs": [
    {
     "name": "stdout",
     "output_type": "stream",
     "text": [
      "found parquet\n",
      "found parquet\n",
      "found parquet\n",
      "found parquet\n",
      "vehicle positions trip ids not in schedule\n",
      "failed for date: 2022-04-30\n",
      "found parquet\n",
      "found parquet\n",
      "cached parquet empty, will try a fresh query\n",
      "getting trips...\n",
      "found parquet\n",
      "cached parquet empty, will try a fresh query\n",
      "found parquet\n",
      "vehicle positions trip ids not in schedule\n",
      "failed for date: 2022-05-01\n",
      "found parquet\n",
      "found parquet\n",
      "found parquet\n",
      "found parquet\n",
      "found parquet\n",
      "complete for date: 2022-05-02\n",
      "found parquet\n",
      "found parquet\n",
      "found parquet\n",
      "found parquet\n",
      "found parquet\n",
      "could not generate delays for trip t_1057273_b_25985_tn_0\n",
      "Columns must be same length as key\n",
      "could not generate delays for trip t_1547367_b_25985_tn_0\n",
      "Columns must be same length as key\n",
      "complete for date: 2022-05-03\n",
      "found parquet\n",
      "found parquet\n",
      "found parquet\n",
      "found parquet\n",
      "found parquet\n",
      "could not generate delays for trip t_1439208_b_25985_tn_0\n",
      "'float' object has no attribute 'date'\n",
      "could not generate delays for trip t_1547206_b_25985_tn_0\n",
      "Columns must be same length as key\n",
      "complete for date: 2022-05-04\n",
      "found parquet\n",
      "found parquet\n",
      "found parquet\n",
      "found parquet\n",
      "found parquet\n",
      "could not generate delays for trip t_1547208_b_25985_tn_0\n",
      "Columns must be same length as key\n",
      "complete for date: 2022-05-05\n",
      "found parquet\n",
      "found parquet\n",
      "found parquet\n",
      "found parquet\n",
      "found parquet\n",
      "complete for date: 2022-05-06\n",
      "no vehicle positions data found for 2022-05-07\n",
      "failed for date: 2022-05-07\n",
      "found parquet\n",
      "found parquet\n",
      "cached parquet empty, will try a fresh query\n",
      "getting trips...\n",
      "found parquet\n",
      "cached parquet empty, will try a fresh query\n",
      "found parquet\n",
      "vehicle positions trip ids not in schedule\n",
      "failed for date: 2022-05-08\n"
     ]
    }
   ],
   "source": [
    "for date in date_range:\n",
    "    date = date.astype(dt.date)\n",
    "    try:\n",
    "        rt_analysis = rt.OperatorDayAnalysis(itp_id, date, pbar)\n",
    "        rt_analysis.export_views_gcs()\n",
    "        print(f'complete for date: {date}')\n",
    "    except Exception as e:\n",
    "        print(e)\n",
    "        print(f'failed for date: {date}')\n",
    "        continue"
   ]
  },
  {
   "cell_type": "code",
   "execution_count": 17,
   "id": "ff28c6a8-eab8-48d6-b904-27e108d81cd0",
   "metadata": {},
   "outputs": [
    {
     "name": "stdout",
     "output_type": "stream",
     "text": [
      "failed for date: 2022-04-30\n",
      "failed for date: 2022-05-01\n",
      "found parquet\n",
      "complete for date: 2022-05-02\n",
      "found parquet\n",
      "complete for date: 2022-05-03\n",
      "found parquet\n",
      "complete for date: 2022-05-04\n",
      "found parquet\n",
      "complete for date: 2022-05-05\n",
      "found parquet\n",
      "complete for date: 2022-05-06\n",
      "failed for date: 2022-05-07\n",
      "failed for date: 2022-05-08\n"
     ]
    }
   ],
   "source": [
    "for date in date_range:\n",
    "    date = date.astype(dt.date)\n",
    "    try:\n",
    "        rt_day = rt_filter_map_plot.from_gcs(itp_id, date)\n",
    "        print(f'complete for date: {date}')\n",
    "    except:\n",
    "        print(f'failed for date: {date}')\n",
    "        continue"
   ]
  },
  {
   "cell_type": "code",
   "execution_count": null,
   "id": "e6475d03-6b5a-4d6f-8d82-99157dc0c2f5",
   "metadata": {},
   "outputs": [],
   "source": []
  },
  {
   "cell_type": "code",
   "execution_count": 35,
   "id": "d70b77af-0f15-4865-96eb-db81141aab06",
   "metadata": {},
   "outputs": [
    {
     "name": "stdout",
     "output_type": "stream",
     "text": [
      "found parquet\n"
     ]
    }
   ],
   "source": [
    "rt_day = rt_filter_map_plot.from_gcs(itp_id, dt.date(2022, 5, 4))"
   ]
  },
  {
   "cell_type": "code",
   "execution_count": 9,
   "id": "08abef6b-da42-45fb-b785-204a5791df19",
   "metadata": {},
   "outputs": [],
   "source": [
    "# corridor = gpd.read_file('./CMCP_StudyAreaBoundary.geojson') ## alameda\n",
    "corridor = gpd.read_file('./lakeport_map.geojson') ## lakeport"
   ]
  },
  {
   "cell_type": "code",
   "execution_count": 37,
   "id": "fdb57bb8-5cff-4294-a54c-175f85673853",
   "metadata": {},
   "outputs": [],
   "source": [
    "# corridor.explore()"
   ]
  },
  {
   "cell_type": "code",
   "execution_count": 38,
   "id": "64051f76-f295-45c7-8aee-f18038d7ae38",
   "metadata": {},
   "outputs": [],
   "source": [
    "rt_day.add_corridor(corridor)"
   ]
  },
  {
   "cell_type": "code",
   "execution_count": 39,
   "id": "cfa804cd-60f8-4a80-bb0c-0ead64cd90af",
   "metadata": {},
   "outputs": [],
   "source": [
    "to_map = rt_day.corridor_stop_delays >> distinct(_.stop_name, _.geometry)"
   ]
  },
  {
   "cell_type": "code",
   "execution_count": 40,
   "id": "71bf46bb-5c30-4a88-b4ac-3058af013751",
   "metadata": {},
   "outputs": [
    {
     "data": {
      "text/html": [
       "<div>\n",
       "<style scoped>\n",
       "    .dataframe tbody tr th:only-of-type {\n",
       "        vertical-align: middle;\n",
       "    }\n",
       "\n",
       "    .dataframe tbody tr th {\n",
       "        vertical-align: top;\n",
       "    }\n",
       "\n",
       "    .dataframe thead th {\n",
       "        text-align: right;\n",
       "    }\n",
       "</style>\n",
       "<table border=\"1\" class=\"dataframe\">\n",
       "  <thead>\n",
       "    <tr style=\"text-align: right;\">\n",
       "      <th></th>\n",
       "      <th>geometry</th>\n",
       "    </tr>\n",
       "  </thead>\n",
       "  <tbody>\n",
       "    <tr>\n",
       "      <th>0</th>\n",
       "      <td>POLYGON ((-122.78458 38.89638, -122.61223 38.8...</td>\n",
       "    </tr>\n",
       "  </tbody>\n",
       "</table>\n",
       "</div>"
      ],
      "text/plain": [
       "                                            geometry\n",
       "0  POLYGON ((-122.78458 38.89638, -122.61223 38.8..."
      ]
     },
     "execution_count": 40,
     "metadata": {},
     "output_type": "execute_result"
    }
   ],
   "source": [
    "corridor"
   ]
  },
  {
   "cell_type": "code",
   "execution_count": 46,
   "id": "c9af41b6-51d9-421e-a001-490528343cad",
   "metadata": {},
   "outputs": [],
   "source": [
    "to_map = to_map.to_crs(shared_utils.geography_utils.WGS84).dropna()"
   ]
  },
  {
   "cell_type": "code",
   "execution_count": 47,
   "id": "be7c3dc5-7d63-4a9a-a2d9-b503a5408780",
   "metadata": {},
   "outputs": [
    {
     "data": {
      "text/html": [
       "<div>\n",
       "<style scoped>\n",
       "    .dataframe tbody tr th:only-of-type {\n",
       "        vertical-align: middle;\n",
       "    }\n",
       "\n",
       "    .dataframe tbody tr th {\n",
       "        vertical-align: top;\n",
       "    }\n",
       "\n",
       "    .dataframe thead th {\n",
       "        text-align: right;\n",
       "    }\n",
       "</style>\n",
       "<table border=\"1\" class=\"dataframe\">\n",
       "  <thead>\n",
       "    <tr style=\"text-align: right;\">\n",
       "      <th></th>\n",
       "      <th>stop_name</th>\n",
       "      <th>geometry</th>\n",
       "    </tr>\n",
       "  </thead>\n",
       "  <tbody>\n",
       "    <tr>\n",
       "      <th>0</th>\n",
       "      <td>Kit's Corner</td>\n",
       "      <td>POINT (-122.74312 38.93055)</td>\n",
       "    </tr>\n",
       "    <tr>\n",
       "      <th>2</th>\n",
       "      <td>Main &amp; Fourth</td>\n",
       "      <td>POINT (-122.83661 38.97778)</td>\n",
       "    </tr>\n",
       "    <tr>\n",
       "      <th>3</th>\n",
       "      <td>Hwy. 53 and Hwy. 29</td>\n",
       "      <td>POINT (-122.61243 38.91147)</td>\n",
       "    </tr>\n",
       "    <tr>\n",
       "      <th>4</th>\n",
       "      <td>Burns Valley Mall</td>\n",
       "      <td>POINT (-122.63390 38.96176)</td>\n",
       "    </tr>\n",
       "    <tr>\n",
       "      <th>5</th>\n",
       "      <td>Foods, Etc./Clearlake Family Clinic</td>\n",
       "      <td>POINT (-122.62854 38.94996)</td>\n",
       "    </tr>\n",
       "    <tr>\n",
       "      <th>6</th>\n",
       "      <td>Phillips Avenue and 40th Avenue</td>\n",
       "      <td>POINT (-122.61510 38.95091)</td>\n",
       "    </tr>\n",
       "    <tr>\n",
       "      <th>7</th>\n",
       "      <td>Lakeshore Drive and Austin Road (Austin Park)</td>\n",
       "      <td>POINT (-122.64923 38.95976)</td>\n",
       "    </tr>\n",
       "    <tr>\n",
       "      <th>8</th>\n",
       "      <td>Phillips Avenue and 40th Avenue</td>\n",
       "      <td>POINT (-122.61530 38.94981)</td>\n",
       "    </tr>\n",
       "    <tr>\n",
       "      <th>9</th>\n",
       "      <td>Senior Center</td>\n",
       "      <td>POINT (-122.63113 38.96600)</td>\n",
       "    </tr>\n",
       "    <tr>\n",
       "      <th>10</th>\n",
       "      <td>Veteran's Clinic Lakeshore</td>\n",
       "      <td>POINT (-122.62870 38.94979)</td>\n",
       "    </tr>\n",
       "    <tr>\n",
       "      <th>11</th>\n",
       "      <td>Woodland College</td>\n",
       "      <td>POINT (-122.61704 38.93279)</td>\n",
       "    </tr>\n",
       "    <tr>\n",
       "      <th>12</th>\n",
       "      <td>Adventist Health Clearlake Hospital</td>\n",
       "      <td>POINT (-122.62139 38.93637)</td>\n",
       "    </tr>\n",
       "    <tr>\n",
       "      <th>13</th>\n",
       "      <td>Old 53 &amp; Lakeshore</td>\n",
       "      <td>POINT (-122.63141 38.95131)</td>\n",
       "    </tr>\n",
       "    <tr>\n",
       "      <th>14</th>\n",
       "      <td>Burns Valley Mall</td>\n",
       "      <td>POINT (-122.63317 38.96184)</td>\n",
       "    </tr>\n",
       "    <tr>\n",
       "      <th>15</th>\n",
       "      <td>City Hall Olympic &amp; Lakeshore</td>\n",
       "      <td>POINT (-122.64817 38.96108)</td>\n",
       "    </tr>\n",
       "    <tr>\n",
       "      <th>16</th>\n",
       "      <td>Bush Street and 2nd Street</td>\n",
       "      <td>POINT (-122.65530 38.97610)</td>\n",
       "    </tr>\n",
       "    <tr>\n",
       "      <th>17</th>\n",
       "      <td>Clearlake Park Post Office</td>\n",
       "      <td>POINT (-122.66045 38.96823)</td>\n",
       "    </tr>\n",
       "    <tr>\n",
       "      <th>18</th>\n",
       "      <td>Austin Park West</td>\n",
       "      <td>POINT (-122.64930 38.95895)</td>\n",
       "    </tr>\n",
       "    <tr>\n",
       "      <th>19</th>\n",
       "      <td>Lake County Social Services</td>\n",
       "      <td>POINT (-122.61715 38.91919)</td>\n",
       "    </tr>\n",
       "    <tr>\n",
       "      <th>20</th>\n",
       "      <td>Hwy. 53 &amp; Main St.</td>\n",
       "      <td>POINT (-122.61156 38.91021)</td>\n",
       "    </tr>\n",
       "  </tbody>\n",
       "</table>\n",
       "</div>"
      ],
      "text/plain": [
       "                                        stop_name                     geometry\n",
       "0                                    Kit's Corner  POINT (-122.74312 38.93055)\n",
       "2                                   Main & Fourth  POINT (-122.83661 38.97778)\n",
       "3                             Hwy. 53 and Hwy. 29  POINT (-122.61243 38.91147)\n",
       "4                               Burns Valley Mall  POINT (-122.63390 38.96176)\n",
       "5             Foods, Etc./Clearlake Family Clinic  POINT (-122.62854 38.94996)\n",
       "6                 Phillips Avenue and 40th Avenue  POINT (-122.61510 38.95091)\n",
       "7   Lakeshore Drive and Austin Road (Austin Park)  POINT (-122.64923 38.95976)\n",
       "8                 Phillips Avenue and 40th Avenue  POINT (-122.61530 38.94981)\n",
       "9                                   Senior Center  POINT (-122.63113 38.96600)\n",
       "10                     Veteran's Clinic Lakeshore  POINT (-122.62870 38.94979)\n",
       "11                               Woodland College  POINT (-122.61704 38.93279)\n",
       "12            Adventist Health Clearlake Hospital  POINT (-122.62139 38.93637)\n",
       "13                             Old 53 & Lakeshore  POINT (-122.63141 38.95131)\n",
       "14                              Burns Valley Mall  POINT (-122.63317 38.96184)\n",
       "15                  City Hall Olympic & Lakeshore  POINT (-122.64817 38.96108)\n",
       "16                     Bush Street and 2nd Street  POINT (-122.65530 38.97610)\n",
       "17                     Clearlake Park Post Office  POINT (-122.66045 38.96823)\n",
       "18                               Austin Park West  POINT (-122.64930 38.95895)\n",
       "19                    Lake County Social Services  POINT (-122.61715 38.91919)\n",
       "20                             Hwy. 53 & Main St.  POINT (-122.61156 38.91021)"
      ]
     },
     "execution_count": 47,
     "metadata": {},
     "output_type": "execute_result"
    }
   ],
   "source": [
    "to_map"
   ]
  },
  {
   "cell_type": "code",
   "execution_count": 49,
   "id": "81b0c861-19b3-4f12-b26f-37aae90352e7",
   "metadata": {},
   "outputs": [
    {
     "data": {
      "text/html": [
       "<div style=\"width:100%;\"><div style=\"position:relative;width:100%;height:0;padding-bottom:60%;\"><span style=\"color:#565656\">Make this Notebook Trusted to load map: File -> Trust Notebook</span><iframe src=\"about:blank\" style=\"position:absolute;width:100%;height:100%;left:0;top:0;border:none !important;\" data-html=%3C%21DOCTYPE%20html%3E%0A%3Chead%3E%20%20%20%20%0A%20%20%20%20%3Cmeta%20http-equiv%3D%22content-type%22%20content%3D%22text/html%3B%20charset%3DUTF-8%22%20/%3E%0A%20%20%20%20%0A%20%20%20%20%20%20%20%20%3Cscript%3E%0A%20%20%20%20%20%20%20%20%20%20%20%20L_NO_TOUCH%20%3D%20false%3B%0A%20%20%20%20%20%20%20%20%20%20%20%20L_DISABLE_3D%20%3D%20false%3B%0A%20%20%20%20%20%20%20%20%3C/script%3E%0A%20%20%20%20%0A%20%20%20%20%3Cstyle%3Ehtml%2C%20body%20%7Bwidth%3A%20100%25%3Bheight%3A%20100%25%3Bmargin%3A%200%3Bpadding%3A%200%3B%7D%3C/style%3E%0A%20%20%20%20%3Cstyle%3E%23map%20%7Bposition%3Aabsolute%3Btop%3A0%3Bbottom%3A0%3Bright%3A0%3Bleft%3A0%3B%7D%3C/style%3E%0A%20%20%20%20%3Cscript%20src%3D%22https%3A//cdn.jsdelivr.net/npm/leaflet%401.6.0/dist/leaflet.js%22%3E%3C/script%3E%0A%20%20%20%20%3Cscript%20src%3D%22https%3A//code.jquery.com/jquery-1.12.4.min.js%22%3E%3C/script%3E%0A%20%20%20%20%3Cscript%20src%3D%22https%3A//maxcdn.bootstrapcdn.com/bootstrap/3.2.0/js/bootstrap.min.js%22%3E%3C/script%3E%0A%20%20%20%20%3Cscript%20src%3D%22https%3A//cdnjs.cloudflare.com/ajax/libs/Leaflet.awesome-markers/2.0.2/leaflet.awesome-markers.js%22%3E%3C/script%3E%0A%20%20%20%20%3Clink%20rel%3D%22stylesheet%22%20href%3D%22https%3A//cdn.jsdelivr.net/npm/leaflet%401.6.0/dist/leaflet.css%22/%3E%0A%20%20%20%20%3Clink%20rel%3D%22stylesheet%22%20href%3D%22https%3A//maxcdn.bootstrapcdn.com/bootstrap/3.2.0/css/bootstrap.min.css%22/%3E%0A%20%20%20%20%3Clink%20rel%3D%22stylesheet%22%20href%3D%22https%3A//maxcdn.bootstrapcdn.com/bootstrap/3.2.0/css/bootstrap-theme.min.css%22/%3E%0A%20%20%20%20%3Clink%20rel%3D%22stylesheet%22%20href%3D%22https%3A//maxcdn.bootstrapcdn.com/font-awesome/4.6.3/css/font-awesome.min.css%22/%3E%0A%20%20%20%20%3Clink%20rel%3D%22stylesheet%22%20href%3D%22https%3A//cdnjs.cloudflare.com/ajax/libs/Leaflet.awesome-markers/2.0.2/leaflet.awesome-markers.css%22/%3E%0A%20%20%20%20%3Clink%20rel%3D%22stylesheet%22%20href%3D%22https%3A//cdn.jsdelivr.net/gh/python-visualization/folium/folium/templates/leaflet.awesome.rotate.min.css%22/%3E%0A%20%20%20%20%0A%20%20%20%20%20%20%20%20%20%20%20%20%3Cmeta%20name%3D%22viewport%22%20content%3D%22width%3Ddevice-width%2C%0A%20%20%20%20%20%20%20%20%20%20%20%20%20%20%20%20initial-scale%3D1.0%2C%20maximum-scale%3D1.0%2C%20user-scalable%3Dno%22%20/%3E%0A%20%20%20%20%20%20%20%20%20%20%20%20%3Cstyle%3E%0A%20%20%20%20%20%20%20%20%20%20%20%20%20%20%20%20%23map_10f541bdf8fd41f39b510024ee2beede%20%7B%0A%20%20%20%20%20%20%20%20%20%20%20%20%20%20%20%20%20%20%20%20position%3A%20relative%3B%0A%20%20%20%20%20%20%20%20%20%20%20%20%20%20%20%20%20%20%20%20width%3A%20100.0%25%3B%0A%20%20%20%20%20%20%20%20%20%20%20%20%20%20%20%20%20%20%20%20height%3A%20100.0%25%3B%0A%20%20%20%20%20%20%20%20%20%20%20%20%20%20%20%20%20%20%20%20left%3A%200.0%25%3B%0A%20%20%20%20%20%20%20%20%20%20%20%20%20%20%20%20%20%20%20%20top%3A%200.0%25%3B%0A%20%20%20%20%20%20%20%20%20%20%20%20%20%20%20%20%7D%0A%20%20%20%20%20%20%20%20%20%20%20%20%3C/style%3E%0A%20%20%20%20%20%20%20%20%0A%20%20%20%20%0A%20%20%20%20%20%20%20%20%20%20%20%20%20%20%20%20%20%20%20%20%3Cstyle%3E%0A%20%20%20%20%20%20%20%20%20%20%20%20%20%20%20%20%20%20%20%20%20%20%20%20.foliumtooltip%20%7B%0A%20%20%20%20%20%20%20%20%20%20%20%20%20%20%20%20%20%20%20%20%20%20%20%20%20%20%20%20%0A%20%20%20%20%20%20%20%20%20%20%20%20%20%20%20%20%20%20%20%20%20%20%20%20%7D%0A%20%20%20%20%20%20%20%20%20%20%20%20%20%20%20%20%20%20%20%20%20%20%20.foliumtooltip%20table%7B%0A%20%20%20%20%20%20%20%20%20%20%20%20%20%20%20%20%20%20%20%20%20%20%20%20%20%20%20%20margin%3A%20auto%3B%0A%20%20%20%20%20%20%20%20%20%20%20%20%20%20%20%20%20%20%20%20%20%20%20%20%7D%0A%20%20%20%20%20%20%20%20%20%20%20%20%20%20%20%20%20%20%20%20%20%20%20%20.foliumtooltip%20tr%7B%0A%20%20%20%20%20%20%20%20%20%20%20%20%20%20%20%20%20%20%20%20%20%20%20%20%20%20%20%20text-align%3A%20left%3B%0A%20%20%20%20%20%20%20%20%20%20%20%20%20%20%20%20%20%20%20%20%20%20%20%20%7D%0A%20%20%20%20%20%20%20%20%20%20%20%20%20%20%20%20%20%20%20%20%20%20%20%20.foliumtooltip%20th%7B%0A%20%20%20%20%20%20%20%20%20%20%20%20%20%20%20%20%20%20%20%20%20%20%20%20%20%20%20%20padding%3A%202px%3B%20padding-right%3A%208px%3B%0A%20%20%20%20%20%20%20%20%20%20%20%20%20%20%20%20%20%20%20%20%20%20%20%20%7D%0A%20%20%20%20%20%20%20%20%20%20%20%20%20%20%20%20%20%20%20%20%3C/style%3E%0A%20%20%20%20%20%20%20%20%20%20%20%20%0A%3C/head%3E%0A%3Cbody%3E%20%20%20%20%0A%20%20%20%20%0A%20%20%20%20%20%20%20%20%20%20%20%20%3Cdiv%20class%3D%22folium-map%22%20id%3D%22map_10f541bdf8fd41f39b510024ee2beede%22%20%3E%3C/div%3E%0A%20%20%20%20%20%20%20%20%0A%3C/body%3E%0A%3Cscript%3E%20%20%20%20%0A%20%20%20%20%0A%20%20%20%20%20%20%20%20%20%20%20%20var%20map_10f541bdf8fd41f39b510024ee2beede%20%3D%20L.map%28%0A%20%20%20%20%20%20%20%20%20%20%20%20%20%20%20%20%22map_10f541bdf8fd41f39b510024ee2beede%22%2C%0A%20%20%20%20%20%20%20%20%20%20%20%20%20%20%20%20%7B%0A%20%20%20%20%20%20%20%20%20%20%20%20%20%20%20%20%20%20%20%20center%3A%20%5B38.93708003590724%2C%20-122.724087%5D%2C%0A%20%20%20%20%20%20%20%20%20%20%20%20%20%20%20%20%20%20%20%20crs%3A%20L.CRS.EPSG3857%2C%0A%20%20%20%20%20%20%20%20%20%20%20%20%20%20%20%20%20%20%20%20zoom%3A%2010%2C%0A%20%20%20%20%20%20%20%20%20%20%20%20%20%20%20%20%20%20%20%20zoomControl%3A%20true%2C%0A%20%20%20%20%20%20%20%20%20%20%20%20%20%20%20%20%20%20%20%20preferCanvas%3A%20false%2C%0A%20%20%20%20%20%20%20%20%20%20%20%20%20%20%20%20%7D%0A%20%20%20%20%20%20%20%20%20%20%20%20%29%3B%0A%20%20%20%20%20%20%20%20%20%20%20%20L.control.scale%28%29.addTo%28map_10f541bdf8fd41f39b510024ee2beede%29%3B%0A%0A%20%20%20%20%20%20%20%20%20%20%20%20%0A%0A%20%20%20%20%20%20%20%20%0A%20%20%20%20%0A%20%20%20%20%20%20%20%20%20%20%20%20var%20tile_layer_906ccaf665cf4a5f834948f0c9d7151d%20%3D%20L.tileLayer%28%0A%20%20%20%20%20%20%20%20%20%20%20%20%20%20%20%20%22https%3A//a.basemaps.cartocdn.com/light_all/%7Bz%7D/%7Bx%7D/%7By%7D%7Br%7D.png%22%2C%0A%20%20%20%20%20%20%20%20%20%20%20%20%20%20%20%20%7B%22attribution%22%3A%20%22%5Cu0026copy%3B%20%5Cu003ca%20href%3D%5C%22https%3A//www.openstreetmap.org/copyright%5C%22%5Cu003eOpenStreetMap%5Cu003c/a%5Cu003e%20contributors%20%5Cu0026copy%3B%20%5Cu003ca%20href%3D%5C%22https%3A//carto.com/attributions%5C%22%5Cu003eCARTO%5Cu003c/a%5Cu003e%22%2C%20%22detectRetina%22%3A%20false%2C%20%22maxNativeZoom%22%3A%2020%2C%20%22maxZoom%22%3A%2020%2C%20%22minZoom%22%3A%200%2C%20%22noWrap%22%3A%20false%2C%20%22opacity%22%3A%201%2C%20%22subdomains%22%3A%20%22abc%22%2C%20%22tms%22%3A%20false%7D%0A%20%20%20%20%20%20%20%20%20%20%20%20%29.addTo%28map_10f541bdf8fd41f39b510024ee2beede%29%3B%0A%20%20%20%20%20%20%20%20%0A%20%20%20%20%0A%20%20%20%20%20%20%20%20%20%20%20%20map_10f541bdf8fd41f39b510024ee2beede.fitBounds%28%0A%20%20%20%20%20%20%20%20%20%20%20%20%20%20%20%20%5B%5B38.896377071814506%2C%20-122.83661%5D%2C%20%5B38.977782999999974%2C%20-122.611564%5D%5D%2C%0A%20%20%20%20%20%20%20%20%20%20%20%20%20%20%20%20%7B%7D%0A%20%20%20%20%20%20%20%20%20%20%20%20%29%3B%0A%20%20%20%20%20%20%20%20%0A%20%20%20%20%0A%20%20%20%20%20%20%20%20function%20geo_json_1d41a1294e354219a0e1cf919dd462ac_styler%28feature%29%20%7B%0A%20%20%20%20%20%20%20%20%20%20%20%20switch%28feature.id%29%20%7B%0A%20%20%20%20%20%20%20%20%20%20%20%20%20%20%20%20default%3A%0A%20%20%20%20%20%20%20%20%20%20%20%20%20%20%20%20%20%20%20%20return%20%7B%22fillOpacity%22%3A%200.5%2C%20%22weight%22%3A%202%7D%3B%0A%20%20%20%20%20%20%20%20%20%20%20%20%7D%0A%20%20%20%20%20%20%20%20%7D%0A%20%20%20%20%20%20%20%20function%20geo_json_1d41a1294e354219a0e1cf919dd462ac_highlighter%28feature%29%20%7B%0A%20%20%20%20%20%20%20%20%20%20%20%20switch%28feature.id%29%20%7B%0A%20%20%20%20%20%20%20%20%20%20%20%20%20%20%20%20default%3A%0A%20%20%20%20%20%20%20%20%20%20%20%20%20%20%20%20%20%20%20%20return%20%7B%22fillOpacity%22%3A%200.75%7D%3B%0A%20%20%20%20%20%20%20%20%20%20%20%20%7D%0A%20%20%20%20%20%20%20%20%7D%0A%20%20%20%20%20%20%20%20function%20geo_json_1d41a1294e354219a0e1cf919dd462ac_pointToLayer%28feature%2C%20latlng%29%20%7B%0A%20%20%20%20%20%20%20%20%20%20%20%20var%20opts%20%3D%20%7B%22bubblingMouseEvents%22%3A%20true%2C%20%22color%22%3A%20%22%233388ff%22%2C%20%22dashArray%22%3A%20null%2C%20%22dashOffset%22%3A%20null%2C%20%22fill%22%3A%20true%2C%20%22fillColor%22%3A%20%22%233388ff%22%2C%20%22fillOpacity%22%3A%200.2%2C%20%22fillRule%22%3A%20%22evenodd%22%2C%20%22lineCap%22%3A%20%22round%22%2C%20%22lineJoin%22%3A%20%22round%22%2C%20%22opacity%22%3A%201.0%2C%20%22radius%22%3A%202%2C%20%22stroke%22%3A%20true%2C%20%22weight%22%3A%203%7D%3B%0A%20%20%20%20%20%20%20%20%20%20%20%20%0A%20%20%20%20%20%20%20%20%20%20%20%20let%20style%20%3D%20geo_json_1d41a1294e354219a0e1cf919dd462ac_styler%28feature%29%0A%20%20%20%20%20%20%20%20%20%20%20%20Object.assign%28opts%2C%20style%29%0A%20%20%20%20%20%20%20%20%20%20%20%20%0A%20%20%20%20%20%20%20%20%20%20%20%20return%20new%20L.CircleMarker%28latlng%2C%20opts%29%0A%20%20%20%20%20%20%20%20%7D%0A%0A%20%20%20%20%20%20%20%20function%20geo_json_1d41a1294e354219a0e1cf919dd462ac_onEachFeature%28feature%2C%20layer%29%20%7B%0A%20%20%20%20%20%20%20%20%20%20%20%20layer.on%28%7B%0A%20%20%20%20%20%20%20%20%20%20%20%20%20%20%20%20mouseout%3A%20function%28e%29%20%7B%0A%20%20%20%20%20%20%20%20%20%20%20%20%20%20%20%20%20%20%20%20if%28typeof%20e.target.setStyle%20%3D%3D%3D%20%22function%22%29%7B%0A%20%20%20%20%20%20%20%20%20%20%20%20%20%20%20%20%20%20%20%20%20%20%20%20geo_json_1d41a1294e354219a0e1cf919dd462ac.resetStyle%28e.target%29%3B%0A%20%20%20%20%20%20%20%20%20%20%20%20%20%20%20%20%20%20%20%20%7D%0A%20%20%20%20%20%20%20%20%20%20%20%20%20%20%20%20%7D%2C%0A%20%20%20%20%20%20%20%20%20%20%20%20%20%20%20%20mouseover%3A%20function%28e%29%20%7B%0A%20%20%20%20%20%20%20%20%20%20%20%20%20%20%20%20%20%20%20%20if%28typeof%20e.target.setStyle%20%3D%3D%3D%20%22function%22%29%7B%0A%20%20%20%20%20%20%20%20%20%20%20%20%20%20%20%20%20%20%20%20%20%20%20%20const%20highlightStyle%20%3D%20geo_json_1d41a1294e354219a0e1cf919dd462ac_highlighter%28e.target.feature%29%0A%20%20%20%20%20%20%20%20%20%20%20%20%20%20%20%20%20%20%20%20%20%20%20%20e.target.setStyle%28highlightStyle%29%3B%0A%20%20%20%20%20%20%20%20%20%20%20%20%20%20%20%20%20%20%20%20%7D%0A%20%20%20%20%20%20%20%20%20%20%20%20%20%20%20%20%7D%2C%0A%20%20%20%20%20%20%20%20%20%20%20%20%7D%29%3B%0A%20%20%20%20%20%20%20%20%7D%3B%0A%20%20%20%20%20%20%20%20var%20geo_json_1d41a1294e354219a0e1cf919dd462ac%20%3D%20L.geoJson%28null%2C%20%7B%0A%20%20%20%20%20%20%20%20%20%20%20%20%20%20%20%20onEachFeature%3A%20geo_json_1d41a1294e354219a0e1cf919dd462ac_onEachFeature%2C%0A%20%20%20%20%20%20%20%20%20%20%20%20%0A%20%20%20%20%20%20%20%20%20%20%20%20%20%20%20%20style%3A%20geo_json_1d41a1294e354219a0e1cf919dd462ac_styler%2C%0A%20%20%20%20%20%20%20%20%20%20%20%20%20%20%20%20pointToLayer%3A%20geo_json_1d41a1294e354219a0e1cf919dd462ac_pointToLayer%0A%20%20%20%20%20%20%20%20%7D%29%3B%0A%0A%20%20%20%20%20%20%20%20function%20geo_json_1d41a1294e354219a0e1cf919dd462ac_add%20%28data%29%20%7B%0A%20%20%20%20%20%20%20%20%20%20%20%20geo_json_1d41a1294e354219a0e1cf919dd462ac%0A%20%20%20%20%20%20%20%20%20%20%20%20%20%20%20%20.addData%28data%29%0A%20%20%20%20%20%20%20%20%20%20%20%20%20%20%20%20.addTo%28map_10f541bdf8fd41f39b510024ee2beede%29%3B%0A%20%20%20%20%20%20%20%20%7D%0A%20%20%20%20%20%20%20%20%20%20%20%20geo_json_1d41a1294e354219a0e1cf919dd462ac_add%28%7B%22bbox%22%3A%20%5B-122.83661%2C%2038.896377071814506%2C%20-122.611564%2C%2038.977782999999974%5D%2C%20%22features%22%3A%20%5B%7B%22bbox%22%3A%20%5B-122.74311999999999%2C%2038.93055%2C%20-122.74311999999999%2C%2038.93055%5D%2C%20%22geometry%22%3A%20%7B%22coordinates%22%3A%20%5B-122.74311999999999%2C%2038.93055%5D%2C%20%22type%22%3A%20%22Point%22%7D%2C%20%22id%22%3A%20%220%22%2C%20%22properties%22%3A%20%7B%22stop_name%22%3A%20%22Kit%5Cu0027s%20Corner%22%7D%2C%20%22type%22%3A%20%22Feature%22%7D%2C%20%7B%22bbox%22%3A%20%5B-122.83661%2C%2038.977782999999974%2C%20-122.83661%2C%2038.977782999999974%5D%2C%20%22geometry%22%3A%20%7B%22coordinates%22%3A%20%5B-122.83661%2C%2038.977782999999974%5D%2C%20%22type%22%3A%20%22Point%22%7D%2C%20%22id%22%3A%20%221%22%2C%20%22properties%22%3A%20%7B%22stop_name%22%3A%20%22Main%20%5Cu0026%20Fourth%22%7D%2C%20%22type%22%3A%20%22Feature%22%7D%2C%20%7B%22bbox%22%3A%20%5B-122.612434%2C%2038.91146999999995%2C%20-122.612434%2C%2038.91146999999995%5D%2C%20%22geometry%22%3A%20%7B%22coordinates%22%3A%20%5B-122.612434%2C%2038.91146999999995%5D%2C%20%22type%22%3A%20%22Point%22%7D%2C%20%22id%22%3A%20%222%22%2C%20%22properties%22%3A%20%7B%22stop_name%22%3A%20%22Hwy.%2053%20and%20Hwy.%2029%22%7D%2C%20%22type%22%3A%20%22Feature%22%7D%2C%20%7B%22bbox%22%3A%20%5B-122.633899%2C%2038.961764999999964%2C%20-122.633899%2C%2038.961764999999964%5D%2C%20%22geometry%22%3A%20%7B%22coordinates%22%3A%20%5B-122.633899%2C%2038.961764999999964%5D%2C%20%22type%22%3A%20%22Point%22%7D%2C%20%22id%22%3A%20%223%22%2C%20%22properties%22%3A%20%7B%22stop_name%22%3A%20%22Burns%20Valley%20Mall%22%7D%2C%20%22type%22%3A%20%22Feature%22%7D%2C%20%7B%22bbox%22%3A%20%5B-122.628538%2C%2038.94995800000001%2C%20-122.628538%2C%2038.94995800000001%5D%2C%20%22geometry%22%3A%20%7B%22coordinates%22%3A%20%5B-122.628538%2C%2038.94995800000001%5D%2C%20%22type%22%3A%20%22Point%22%7D%2C%20%22id%22%3A%20%224%22%2C%20%22properties%22%3A%20%7B%22stop_name%22%3A%20%22Foods%2C%20Etc./Clearlake%20Family%20Clinic%22%7D%2C%20%22type%22%3A%20%22Feature%22%7D%2C%20%7B%22bbox%22%3A%20%5B-122.615097%2C%2038.95090700000001%2C%20-122.615097%2C%2038.95090700000001%5D%2C%20%22geometry%22%3A%20%7B%22coordinates%22%3A%20%5B-122.615097%2C%2038.95090700000001%5D%2C%20%22type%22%3A%20%22Point%22%7D%2C%20%22id%22%3A%20%225%22%2C%20%22properties%22%3A%20%7B%22stop_name%22%3A%20%22Phillips%20Avenue%20and%2040th%20Avenue%22%7D%2C%20%22type%22%3A%20%22Feature%22%7D%2C%20%7B%22bbox%22%3A%20%5B-122.649229%2C%2038.95975799999999%2C%20-122.649229%2C%2038.95975799999999%5D%2C%20%22geometry%22%3A%20%7B%22coordinates%22%3A%20%5B-122.649229%2C%2038.95975799999999%5D%2C%20%22type%22%3A%20%22Point%22%7D%2C%20%22id%22%3A%20%226%22%2C%20%22properties%22%3A%20%7B%22stop_name%22%3A%20%22Lakeshore%20Drive%20and%20Austin%20Road%20%28Austin%20Park%29%22%7D%2C%20%22type%22%3A%20%22Feature%22%7D%2C%20%7B%22bbox%22%3A%20%5B-122.615296%2C%2038.949814999999994%2C%20-122.615296%2C%2038.949814999999994%5D%2C%20%22geometry%22%3A%20%7B%22coordinates%22%3A%20%5B-122.615296%2C%2038.949814999999994%5D%2C%20%22type%22%3A%20%22Point%22%7D%2C%20%22id%22%3A%20%227%22%2C%20%22properties%22%3A%20%7B%22stop_name%22%3A%20%22Phillips%20Avenue%20and%2040th%20Avenue%22%7D%2C%20%22type%22%3A%20%22Feature%22%7D%2C%20%7B%22bbox%22%3A%20%5B-122.63113%2C%2038.965996000000004%2C%20-122.63113%2C%2038.965996000000004%5D%2C%20%22geometry%22%3A%20%7B%22coordinates%22%3A%20%5B-122.63113%2C%2038.965996000000004%5D%2C%20%22type%22%3A%20%22Point%22%7D%2C%20%22id%22%3A%20%228%22%2C%20%22properties%22%3A%20%7B%22stop_name%22%3A%20%22Senior%20Center%22%7D%2C%20%22type%22%3A%20%22Feature%22%7D%2C%20%7B%22bbox%22%3A%20%5B-122.628704%2C%2038.94978700000002%2C%20-122.628704%2C%2038.94978700000002%5D%2C%20%22geometry%22%3A%20%7B%22coordinates%22%3A%20%5B-122.628704%2C%2038.94978700000002%5D%2C%20%22type%22%3A%20%22Point%22%7D%2C%20%22id%22%3A%20%229%22%2C%20%22properties%22%3A%20%7B%22stop_name%22%3A%20%22Veteran%5Cu0027s%20Clinic%20Lakeshore%22%7D%2C%20%22type%22%3A%20%22Feature%22%7D%2C%20%7B%22bbox%22%3A%20%5B-122.61704%2C%2038.932789999999976%2C%20-122.61704%2C%2038.932789999999976%5D%2C%20%22geometry%22%3A%20%7B%22coordinates%22%3A%20%5B-122.61704%2C%2038.932789999999976%5D%2C%20%22type%22%3A%20%22Point%22%7D%2C%20%22id%22%3A%20%2210%22%2C%20%22properties%22%3A%20%7B%22stop_name%22%3A%20%22Woodland%20College%22%7D%2C%20%22type%22%3A%20%22Feature%22%7D%2C%20%7B%22bbox%22%3A%20%5B-122.62138500000002%2C%2038.936368999999985%2C%20-122.62138500000002%2C%2038.936368999999985%5D%2C%20%22geometry%22%3A%20%7B%22coordinates%22%3A%20%5B-122.62138500000002%2C%2038.936368999999985%5D%2C%20%22type%22%3A%20%22Point%22%7D%2C%20%22id%22%3A%20%2211%22%2C%20%22properties%22%3A%20%7B%22stop_name%22%3A%20%22Adventist%20Health%20Clearlake%20Hospital%22%7D%2C%20%22type%22%3A%20%22Feature%22%7D%2C%20%7B%22bbox%22%3A%20%5B-122.63141100000001%2C%2038.95131199999999%2C%20-122.63141100000001%2C%2038.95131199999999%5D%2C%20%22geometry%22%3A%20%7B%22coordinates%22%3A%20%5B-122.63141100000001%2C%2038.95131199999999%5D%2C%20%22type%22%3A%20%22Point%22%7D%2C%20%22id%22%3A%20%2212%22%2C%20%22properties%22%3A%20%7B%22stop_name%22%3A%20%22Old%2053%20%5Cu0026%20Lakeshore%22%7D%2C%20%22type%22%3A%20%22Feature%22%7D%2C%20%7B%22bbox%22%3A%20%5B-122.63317000000002%2C%2038.96184%2C%20-122.63317000000002%2C%2038.96184%5D%2C%20%22geometry%22%3A%20%7B%22coordinates%22%3A%20%5B-122.63317000000002%2C%2038.96184%5D%2C%20%22type%22%3A%20%22Point%22%7D%2C%20%22id%22%3A%20%2213%22%2C%20%22properties%22%3A%20%7B%22stop_name%22%3A%20%22Burns%20Valley%20Mall%22%7D%2C%20%22type%22%3A%20%22Feature%22%7D%2C%20%7B%22bbox%22%3A%20%5B-122.648173%2C%2038.961075%2C%20-122.648173%2C%2038.961075%5D%2C%20%22geometry%22%3A%20%7B%22coordinates%22%3A%20%5B-122.648173%2C%2038.961075%5D%2C%20%22type%22%3A%20%22Point%22%7D%2C%20%22id%22%3A%20%2214%22%2C%20%22properties%22%3A%20%7B%22stop_name%22%3A%20%22City%20Hall%20Olympic%20%5Cu0026%20Lakeshore%22%7D%2C%20%22type%22%3A%20%22Feature%22%7D%2C%20%7B%22bbox%22%3A%20%5B-122.655303%2C%2038.97609699999999%2C%20-122.655303%2C%2038.97609699999999%5D%2C%20%22geometry%22%3A%20%7B%22coordinates%22%3A%20%5B-122.655303%2C%2038.97609699999999%5D%2C%20%22type%22%3A%20%22Point%22%7D%2C%20%22id%22%3A%20%2215%22%2C%20%22properties%22%3A%20%7B%22stop_name%22%3A%20%22Bush%20Street%20and%202nd%20Street%22%7D%2C%20%22type%22%3A%20%22Feature%22%7D%2C%20%7B%22bbox%22%3A%20%5B-122.660455%2C%2038.96822999999996%2C%20-122.660455%2C%2038.96822999999996%5D%2C%20%22geometry%22%3A%20%7B%22coordinates%22%3A%20%5B-122.660455%2C%2038.96822999999996%5D%2C%20%22type%22%3A%20%22Point%22%7D%2C%20%22id%22%3A%20%2216%22%2C%20%22properties%22%3A%20%7B%22stop_name%22%3A%20%22Clearlake%20Park%20Post%20Office%22%7D%2C%20%22type%22%3A%20%22Feature%22%7D%2C%20%7B%22bbox%22%3A%20%5B-122.64929600000002%2C%2038.95894999999999%2C%20-122.64929600000002%2C%2038.95894999999999%5D%2C%20%22geometry%22%3A%20%7B%22coordinates%22%3A%20%5B-122.64929600000002%2C%2038.95894999999999%5D%2C%20%22type%22%3A%20%22Point%22%7D%2C%20%22id%22%3A%20%2217%22%2C%20%22properties%22%3A%20%7B%22stop_name%22%3A%20%22Austin%20Park%20West%22%7D%2C%20%22type%22%3A%20%22Feature%22%7D%2C%20%7B%22bbox%22%3A%20%5B-122.617153%2C%2038.919188000000005%2C%20-122.617153%2C%2038.919188000000005%5D%2C%20%22geometry%22%3A%20%7B%22coordinates%22%3A%20%5B-122.617153%2C%2038.919188000000005%5D%2C%20%22type%22%3A%20%22Point%22%7D%2C%20%22id%22%3A%20%2218%22%2C%20%22properties%22%3A%20%7B%22stop_name%22%3A%20%22Lake%20County%20Social%20Services%22%7D%2C%20%22type%22%3A%20%22Feature%22%7D%2C%20%7B%22bbox%22%3A%20%5B-122.611564%2C%2038.910211999999994%2C%20-122.611564%2C%2038.910211999999994%5D%2C%20%22geometry%22%3A%20%7B%22coordinates%22%3A%20%5B-122.611564%2C%2038.910211999999994%5D%2C%20%22type%22%3A%20%22Point%22%7D%2C%20%22id%22%3A%20%2219%22%2C%20%22properties%22%3A%20%7B%22stop_name%22%3A%20%22Hwy.%2053%20%5Cu0026%20Main%20St.%22%7D%2C%20%22type%22%3A%20%22Feature%22%7D%2C%20%7B%22bbox%22%3A%20%5B-122.78457641601561%2C%2038.896377071814506%2C%20-122.61222839355467%2C%2038.95967575684378%5D%2C%20%22geometry%22%3A%20%7B%22coordinates%22%3A%20%5B%5B%5B-122.78457641601561%2C%2038.896377071814506%5D%2C%20%5B-122.61222839355467%2C%2038.896377071814506%5D%2C%20%5B-122.61222839355467%2C%2038.95967575684378%5D%2C%20%5B-122.78457641601561%2C%2038.95967575684378%5D%2C%20%5B-122.78457641601561%2C%2038.896377071814506%5D%5D%5D%2C%20%22type%22%3A%20%22Polygon%22%7D%2C%20%22id%22%3A%20%2220%22%2C%20%22properties%22%3A%20%7B%22stop_name%22%3A%20null%7D%2C%20%22type%22%3A%20%22Feature%22%7D%5D%2C%20%22type%22%3A%20%22FeatureCollection%22%7D%29%3B%0A%0A%20%20%20%20%20%20%20%20%0A%20%20%20%20%0A%20%20%20%20geo_json_1d41a1294e354219a0e1cf919dd462ac.bindTooltip%28%0A%20%20%20%20function%28layer%29%7B%0A%20%20%20%20let%20div%20%3D%20L.DomUtil.create%28%27div%27%29%3B%0A%20%20%20%20%0A%20%20%20%20let%20handleObject%20%3D%20feature%3D%3Etypeof%28feature%29%3D%3D%27object%27%20%3F%20JSON.stringify%28feature%29%20%3A%20feature%3B%0A%20%20%20%20let%20fields%20%3D%20%5B%22stop_name%22%5D%3B%0A%20%20%20%20let%20aliases%20%3D%20%5B%22stop_name%22%5D%3B%0A%20%20%20%20let%20table%20%3D%20%27%3Ctable%3E%27%20%2B%0A%20%20%20%20%20%20%20%20String%28%0A%20%20%20%20%20%20%20%20fields.map%28%0A%20%20%20%20%20%20%20%20%28v%2Ci%29%3D%3E%0A%20%20%20%20%20%20%20%20%60%3Ctr%3E%0A%20%20%20%20%20%20%20%20%20%20%20%20%3Cth%3E%24%7Baliases%5Bi%5D%7D%3C/th%3E%0A%20%20%20%20%20%20%20%20%20%20%20%20%0A%20%20%20%20%20%20%20%20%20%20%20%20%3Ctd%3E%24%7BhandleObject%28layer.feature.properties%5Bv%5D%29%7D%3C/td%3E%0A%20%20%20%20%20%20%20%20%3C/tr%3E%60%29.join%28%27%27%29%29%0A%20%20%20%20%2B%27%3C/table%3E%27%3B%0A%20%20%20%20div.innerHTML%3Dtable%3B%0A%20%20%20%20%0A%20%20%20%20return%20div%0A%20%20%20%20%7D%0A%20%20%20%20%2C%7B%22className%22%3A%20%22foliumtooltip%22%2C%20%22sticky%22%3A%20true%7D%29%3B%0A%20%20%20%20%20%20%20%20%20%20%20%20%20%20%20%20%20%20%20%20%20%0A%3C/script%3E onload=\"this.contentDocument.open();this.contentDocument.write(    decodeURIComponent(this.getAttribute('data-html')));this.contentDocument.close();\" allowfullscreen webkitallowfullscreen mozallowfullscreen></iframe></div></div>"
      ],
      "text/plain": [
       "<folium.folium.Map at 0x7f9f672a8850>"
      ]
     },
     "execution_count": 49,
     "metadata": {},
     "output_type": "execute_result"
    }
   ],
   "source": [
    "pd.concat([to_map, corridor]).explore(tiles = \"CartoDB positron\")"
   ]
  },
  {
   "cell_type": "markdown",
   "id": "eb46580f-d923-464b-b2ea-9b59e65c09c0",
   "metadata": {
    "tags": []
   },
   "source": [
    "# Algorithm\n",
    "\n",
    "* Clip stops to corridor\n",
    "* Get first and last stops in corridor for each shape_id, then find 1 stop before and 1 stop after for each\n",
    "* Filter stop_delay_view based on those stops\n",
    "* Assert that more than 50% of filtered stops within corridor, if not then drop shape (remove shapes starting/ending in corridor but mostly running outside)"
   ]
  },
  {
   "cell_type": "markdown",
   "id": "ae61436e-066e-4044-b8d5-076ed7e55255",
   "metadata": {},
   "source": [
    "# Report:\n",
    "\n",
    "* Sum of median trip delays\n",
    "* Median segment speed\n",
    "* Delay compared to speed standards: 16mph (approx. 75th %ile for medium size operator by 2010 NTD)"
   ]
  },
  {
   "cell_type": "markdown",
   "id": "b05f1803-fb3f-4968-92fb-03615078452a",
   "metadata": {},
   "source": [
    "# Speed-based Metrics"
   ]
  },
  {
   "cell_type": "code",
   "execution_count": 10,
   "id": "2dd3f28c-ae1a-4942-9fdb-0f11103308cf",
   "metadata": {},
   "outputs": [
    {
     "data": {
      "application/vnd.jupyter.widget-view+json": {
       "model_id": "a5b7bca2aabd486ea7f52c40576c1ec0",
       "version_major": 2,
       "version_minor": 0
      },
      "text/plain": [
       "0it [00:00, ?it/s]"
      ]
     },
     "metadata": {},
     "output_type": "display_data"
    }
   ],
   "source": [
    "pbar = tqdm()"
   ]
  },
  {
   "cell_type": "code",
   "execution_count": 11,
   "id": "4b6185d3-90fd-4689-a1a0-4a741d1ea698",
   "metadata": {},
   "outputs": [
    {
     "data": {
      "text/plain": [
       "<module 'rt_filter_map_plot' from '/home/jovyan/data-analyses/rt_delay/rt_filter_map_plot.py'>"
      ]
     },
     "execution_count": 11,
     "metadata": {},
     "output_type": "execute_result"
    }
   ],
   "source": [
    "importlib.reload(rt_filter_map_plot)"
   ]
  },
  {
   "cell_type": "code",
   "execution_count": null,
   "id": "bdf19458-16ff-4aea-9dc5-75fa7b1fb880",
   "metadata": {
    "tags": []
   },
   "outputs": [],
   "source": [
    "m = rt_filter_map_plot.RtFilterMapper.segment_speed_map(rt_day, corridor=True)"
   ]
  },
  {
   "cell_type": "code",
   "execution_count": null,
   "id": "c56cd9ba-9e81-49f4-b1cc-6904d34d3058",
   "metadata": {},
   "outputs": [],
   "source": [
    "m"
   ]
  },
  {
   "cell_type": "code",
   "execution_count": 50,
   "id": "614d7d48-ade8-4615-9f86-110175e7878a",
   "metadata": {},
   "outputs": [],
   "source": [
    "may4_metrics = rt_filter_map_plot.RtFilterMapper.corridor_metrics(rt_day)"
   ]
  },
  {
   "cell_type": "code",
   "execution_count": 51,
   "id": "5ca1044f-fa0b-4d71-95e5-c63cde368d39",
   "metadata": {},
   "outputs": [
    {
     "data": {
      "text/plain": [
       "{'schedule_metric': 6.075, 'speed_metric': -226.84421784548465}"
      ]
     },
     "execution_count": 51,
     "metadata": {},
     "output_type": "execute_result"
    }
   ],
   "source": [
    "may4_metrics"
   ]
  },
  {
   "cell_type": "code",
   "execution_count": 56,
   "id": "be7c8b0e-e710-4111-a6de-6ef6ef517a76",
   "metadata": {},
   "outputs": [],
   "source": [
    "##TODO something hacky to drop the first part of route 4, in pre-processing... (ie in vp trips...)"
   ]
  },
  {
   "cell_type": "code",
   "execution_count": 12,
   "id": "66d6aae1-a69b-41e8-a0f9-fb87280bd8d8",
   "metadata": {},
   "outputs": [],
   "source": [
    "# rt_day.segment_speed_map(corridor=True)"
   ]
  },
  {
   "cell_type": "code",
   "execution_count": 13,
   "id": "1b2608fe-7615-472c-8dcc-ad8c21d98527",
   "metadata": {},
   "outputs": [],
   "source": [
    "# rt_day.rt_trips >> filter(_.route_short_name == '4')"
   ]
  },
  {
   "cell_type": "markdown",
   "id": "897b4f06-6264-481e-a388-f7e1bc16bff7",
   "metadata": {},
   "source": [
    "# Corridor-based metrics for SCCP\n",
    "\n",
    "* intent is to eventually parameterize this and output formatted report, also methodology may change"
   ]
  },
  {
   "cell_type": "code",
   "execution_count": 14,
   "id": "16cbcfa2-a3a6-4a54-8d0f-0541086f8b6c",
   "metadata": {},
   "outputs": [
    {
     "data": {
      "application/vnd.jupyter.widget-view+json": {
       "model_id": "571599aa13e1437d873e86e80032a078",
       "version_major": 2,
       "version_minor": 0
      },
      "text/plain": [
       "0it [00:00, ?it/s]"
      ]
     },
     "metadata": {},
     "output_type": "display_data"
    }
   ],
   "source": [
    "pbar = tqdm()"
   ]
  },
  {
   "cell_type": "code",
   "execution_count": 15,
   "id": "96ebddbf-7a0d-4ab8-a03c-f05b32367727",
   "metadata": {},
   "outputs": [
    {
     "name": "stdout",
     "output_type": "stream",
     "text": [
      "failed for date: 2022-04-30\n",
      "failed for date: 2022-05-01\n",
      "found parquet\n",
      "complete for date: 2022-05-02\n",
      "found parquet\n",
      "complete for date: 2022-05-03\n",
      "found parquet\n",
      "complete for date: 2022-05-04\n",
      "found parquet\n",
      "complete for date: 2022-05-05\n",
      "found parquet\n",
      "complete for date: 2022-05-06\n",
      "failed for date: 2022-05-07\n",
      "failed for date: 2022-05-08\n"
     ]
    }
   ],
   "source": [
    "schedule_metrics = []\n",
    "speed_metrics = []\n",
    "for date in date_range:\n",
    "    date = date.astype(dt.date)\n",
    "    try:\n",
    "        rt_day = rt_filter_map_plot.from_gcs(itp_id, date, pbar)\n",
    "        rt_day.add_corridor(corridor)\n",
    "        _m = rt_filter_map_plot.RtFilterMapper.segment_speed_map(rt_day, corridor=True)\n",
    "        metrics = rt_day.corridor_metrics()\n",
    "        schedule_metrics += [metrics['schedule_metric']]\n",
    "        speed_metrics += [metrics['speed_metric']]\n",
    "        print(f'complete for date: {date}')\n",
    "    except:\n",
    "        print(f'failed for date: {date}')\n",
    "        continue"
   ]
  },
  {
   "cell_type": "code",
   "execution_count": 16,
   "id": "09f20689-881d-4f47-bbe3-318aa987b387",
   "metadata": {},
   "outputs": [
    {
     "data": {
      "text/plain": [
       "8.0"
      ]
     },
     "execution_count": 16,
     "metadata": {},
     "output_type": "execute_result"
    }
   ],
   "source": [
    "np.round(np.mean(schedule_metrics), 0)"
   ]
  },
  {
   "cell_type": "code",
   "execution_count": 17,
   "id": "e210922d-8985-42e7-8d20-2be8483bcd9d",
   "metadata": {},
   "outputs": [
    {
     "data": {
      "text/plain": [
       "-283.0"
      ]
     },
     "execution_count": 17,
     "metadata": {},
     "output_type": "execute_result"
    }
   ],
   "source": [
    "np.round(np.mean(speed_metrics), 0)"
   ]
  },
  {
   "cell_type": "code",
   "execution_count": null,
   "id": "6ab8c155-f831-465e-9d3e-31026f987986",
   "metadata": {},
   "outputs": [],
   "source": []
  }
 ],
 "metadata": {
  "kernelspec": {
   "display_name": "Python 3 (ipykernel)",
   "language": "python",
   "name": "python3"
  },
  "language_info": {
   "codemirror_mode": {
    "name": "ipython",
    "version": 3
   },
   "file_extension": ".py",
   "mimetype": "text/x-python",
   "name": "python",
   "nbconvert_exporter": "python",
   "pygments_lexer": "ipython3",
   "version": "3.10.5"
  }
 },
 "nbformat": 4,
 "nbformat_minor": 5
}
