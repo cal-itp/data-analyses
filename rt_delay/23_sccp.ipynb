{
 "cells": [
  {
   "cell_type": "code",
   "execution_count": 4,
   "id": "a51f0c99-91a1-4406-824c-215139aa98d0",
   "metadata": {},
   "outputs": [],
   "source": [
    "%%capture\n",
    "import warnings\n",
    "warnings.filterwarnings('ignore')\n",
    "\n",
    "import os\n",
    "os.environ[\"CALITP_BQ_MAX_BYTES\"] = str(800_000_000_000)\n",
    "import shared_utils\n",
    "\n",
    "from calitp.tables import tbls\n",
    "from calitp import query_sql\n",
    "import calitp.magics\n",
    "\n",
    "from siuba import *\n",
    "import pandas as pd\n",
    "import numpy as np\n",
    "import geopandas as gpd\n",
    "\n",
    "import datetime as dt\n",
    "\n",
    "import importlib\n",
    "from rt_analysis import rt_parser\n",
    "from rt_analysis import rt_filter_map_plot\n",
    "\n",
    "import gcsfs\n",
    "fs = gcsfs.GCSFileSystem()\n",
    "\n",
    "from IPython.display import display, Markdown, Latex, HTML\n",
    "import json\n",
    "\n",
    "from tqdm import tqdm_notebook\n",
    "from tqdm.notebook import trange, tqdm"
   ]
  },
  {
   "cell_type": "markdown",
   "id": "eb46580f-d923-464b-b2ea-9b59e65c09c0",
   "metadata": {
    "tags": []
   },
   "source": [
    "# Algorithm\n",
    "\n",
    "* Clip stops to corridor\n",
    "* Get first and last stops in corridor for each shape_id, then find 1 stop before and 1 stop after for each\n",
    "* Filter stop_delay_view based on those stops"
   ]
  },
  {
   "cell_type": "markdown",
   "id": "ae61436e-066e-4044-b8d5-076ed7e55255",
   "metadata": {},
   "source": [
    "# Report:\n",
    "\n",
    "* Sum of median trip delays\n",
    "* Median segment speed\n",
    "* Delay compared to speed standards: 16mph (approx. 75th %ile for medium size operator by 2010 NTD)"
   ]
  },
  {
   "cell_type": "markdown",
   "id": "a56cdc3e-95ab-4f42-8fc7-207b6305c5cf",
   "metadata": {},
   "source": [
    "# Common Ranges/Functions"
   ]
  },
  {
   "cell_type": "code",
   "execution_count": 6,
   "id": "4ce12969-7cd3-4cd7-b760-c6f7826b85e5",
   "metadata": {},
   "outputs": [],
   "source": [
    "date_range = np.arange('2022-04-30', '2022-05-09', dtype='datetime64[D]')"
   ]
  },
  {
   "cell_type": "code",
   "execution_count": 8,
   "id": "80112aa9-16d5-4436-8ebd-0c578efa351e",
   "metadata": {},
   "outputs": [
    {
     "data": {
      "text/plain": [
       "numpy.ndarray"
      ]
     },
     "execution_count": 8,
     "metadata": {},
     "output_type": "execute_result"
    }
   ],
   "source": [
    "type(date_range)"
   ]
  },
  {
   "cell_type": "code",
   "execution_count": 3,
   "id": "744df1ed-20f1-49b9-9de1-1882f026a90c",
   "metadata": {},
   "outputs": [],
   "source": [
    "def generate_export_data(itp_id, date_range, pbar):\n",
    "    for date in date_range:\n",
    "        date = date.astype(dt.date)\n",
    "        try:\n",
    "            rt_analysis = rt.OperatorDayAnalysis(itp_id, date, pbar)\n",
    "            rt_analysis.export_views_gcs()\n",
    "            print(f'complete for date: {date}')\n",
    "        except Exception as e:\n",
    "            print(e)\n",
    "            print(f'failed for date: {date}')\n",
    "            continue"
   ]
  },
  {
   "cell_type": "markdown",
   "id": "af13c48a-2825-406e-b066-897c7b0a7911",
   "metadata": {},
   "source": [
    "# AC / Lake"
   ]
  },
  {
   "cell_type": "code",
   "execution_count": null,
   "id": "a98a9208-4023-4205-8088-f68bb560ee3f",
   "metadata": {},
   "outputs": [],
   "source": [
    "# itp_id = 4 ## AC Transit\n",
    "itp_id = 159 ## Lake Transit"
   ]
  },
  {
   "cell_type": "markdown",
   "id": "3209f492-611b-4aa9-9c49-9c473328426c",
   "metadata": {},
   "source": [
    "# Generate analysis data for all dates"
   ]
  },
  {
   "cell_type": "code",
   "execution_count": null,
   "id": "d70b77af-0f15-4865-96eb-db81141aab06",
   "metadata": {},
   "outputs": [],
   "source": [
    "rt_day = rt_filter_map_plot.from_gcs(itp_id, dt.date(2022, 5, 4))"
   ]
  },
  {
   "cell_type": "code",
   "execution_count": null,
   "id": "08abef6b-da42-45fb-b785-204a5791df19",
   "metadata": {},
   "outputs": [],
   "source": [
    "# corridor = gpd.read_file('./CMCP_StudyAreaBoundary.geojson') ## alameda"
   ]
  },
  {
   "cell_type": "code",
   "execution_count": null,
   "id": "64051f76-f295-45c7-8aee-f18038d7ae38",
   "metadata": {},
   "outputs": [],
   "source": [
    "rt_day.add_corridor(corridor)"
   ]
  },
  {
   "cell_type": "code",
   "execution_count": null,
   "id": "81b0c861-19b3-4f12-b26f-37aae90352e7",
   "metadata": {},
   "outputs": [],
   "source": [
    "# quick corridor map\n",
    "# rt_day.quick_map_corridor()"
   ]
  },
  {
   "cell_type": "markdown",
   "id": "897b4f06-6264-481e-a388-f7e1bc16bff7",
   "metadata": {},
   "source": [
    "# Corridor-based metrics for SCCP\n",
    "\n",
    "* intent is to eventually parameterize this and output formatted report, also methodology may change"
   ]
  },
  {
   "cell_type": "code",
   "execution_count": null,
   "id": "16cbcfa2-a3a6-4a54-8d0f-0541086f8b6c",
   "metadata": {},
   "outputs": [],
   "source": [
    "pbar = tqdm()"
   ]
  },
  {
   "cell_type": "code",
   "execution_count": null,
   "id": "240b56a5-c676-4487-ad01-6e3d44da8e26",
   "metadata": {},
   "outputs": [],
   "source": [
    "rt_day = rt_filter_map_plot.from_gcs(itp_id, dt.date(2022, 5, 4), pbar)\n",
    "rt_day.add_corridor(corridor)\n",
    "_m = rt_filter_map_plot.RtFilterMapper.segment_speed_map(rt_day, corridor=True)"
   ]
  },
  {
   "cell_type": "code",
   "execution_count": null,
   "id": "acd53441-0e16-4367-9068-57eade77431d",
   "metadata": {},
   "outputs": [],
   "source": [
    "_m.save('lake_map.html')"
   ]
  },
  {
   "cell_type": "code",
   "execution_count": null,
   "id": "76bfd6be-1aff-4e5a-b3e3-b77ede6ee303",
   "metadata": {},
   "outputs": [],
   "source": [
    "rt_day.stop_delay_view >> filter(_.corridor) >> distinct(_.route_short_name)"
   ]
  },
  {
   "cell_type": "markdown",
   "id": "fb9a2b89-ca81-4763-bbc7-5e51c2251e99",
   "metadata": {},
   "source": [
    "# Samtrans"
   ]
  },
  {
   "cell_type": "code",
   "execution_count": null,
   "id": "2bf398bb-972e-46a6-ae05-ffe3eb8048d9",
   "metadata": {},
   "outputs": [],
   "source": [
    "itp_id = 290 # Samtrans"
   ]
  },
  {
   "cell_type": "code",
   "execution_count": null,
   "id": "d101a6dd-76c9-4a8a-8259-a6d4c0ef926f",
   "metadata": {},
   "outputs": [],
   "source": [
    "import numpy as np"
   ]
  },
  {
   "cell_type": "code",
   "execution_count": null,
   "id": "62015e80-855e-467d-a2aa-37550eb6f32f",
   "metadata": {},
   "outputs": [],
   "source": [
    "date_range = np.arange('2022-04-30', '2022-05-09', dtype='datetime64[D]')"
   ]
  },
  {
   "cell_type": "code",
   "execution_count": null,
   "id": "bd8a40c0-af6a-46e2-9c8d-f807811e5385",
   "metadata": {},
   "outputs": [],
   "source": [
    "date_range"
   ]
  },
  {
   "cell_type": "markdown",
   "id": "a3ed4b3d-060c-4854-8b1e-939d234bed67",
   "metadata": {},
   "source": [
    "# Generate analysis data for all dates"
   ]
  },
  {
   "cell_type": "code",
   "execution_count": null,
   "id": "1f585159-64a1-488c-ad3b-88ede3bd52bc",
   "metadata": {},
   "outputs": [],
   "source": [
    "pbar = tqdm()"
   ]
  },
  {
   "cell_type": "code",
   "execution_count": null,
   "id": "57c61a2e-5b8f-48cf-ae0f-09c7cd5a1c95",
   "metadata": {},
   "outputs": [],
   "source": [
    "rt_day = rt_filter_map_plot.from_gcs(itp_id, dt.date(2022, 5, 5))"
   ]
  },
  {
   "cell_type": "code",
   "execution_count": null,
   "id": "4ca4e9c9-e0b0-4ffd-821b-d05493bf2010",
   "metadata": {},
   "outputs": [],
   "source": [
    "corridor = gpd.read_file('./corridors_sccp_lpp/peninsula.geojson') ## foster city / hayward park"
   ]
  },
  {
   "cell_type": "code",
   "execution_count": null,
   "id": "e2333a37-dcbd-4c8d-a584-333fb1ff71f1",
   "metadata": {},
   "outputs": [],
   "source": [
    "rt_day.add_corridor(corridor)"
   ]
  },
  {
   "cell_type": "code",
   "execution_count": null,
   "id": "1b7bf48d-2853-41a3-bf95-f80bc1753529",
   "metadata": {},
   "outputs": [],
   "source": [
    "# quick corridor map\n",
    "rt_day.quick_map_corridor()"
   ]
  },
  {
   "cell_type": "code",
   "execution_count": null,
   "id": "f3b70174-1286-43cd-867c-7b7564727786",
   "metadata": {},
   "outputs": [],
   "source": [
    "pbar = tqdm()"
   ]
  },
  {
   "cell_type": "code",
   "execution_count": null,
   "id": "925fb4c2-bc12-4a61-932a-b21fedd398c4",
   "metadata": {},
   "outputs": [],
   "source": [
    "rt_day = rt_filter_map_plot.from_gcs(itp_id, dt.date(2022, 5, 5), pbar)\n",
    "rt_day.add_corridor(corridor)\n",
    "_m = rt_filter_map_plot.RtFilterMapper.segment_speed_map(rt_day, corridor=True)"
   ]
  },
  {
   "cell_type": "code",
   "execution_count": null,
   "id": "5978ec23-ae78-400f-810e-dc0dd0eb2f51",
   "metadata": {},
   "outputs": [],
   "source": [
    "_m"
   ]
  },
  {
   "cell_type": "code",
   "execution_count": null,
   "id": "aa880fad-4b8f-4be5-92a1-8c24408098fe",
   "metadata": {},
   "outputs": [],
   "source": [
    "_m.save('samtrans_map.html')"
   ]
  },
  {
   "cell_type": "code",
   "execution_count": null,
   "id": "1686596c-31d2-4c34-b4dd-f1b5bae2ba77",
   "metadata": {},
   "outputs": [],
   "source": [
    "rt_day.stop_delay_view >> filter(_.corridor) >> distinct(_.route_short_name)"
   ]
  },
  {
   "cell_type": "code",
   "execution_count": null,
   "id": "ebc6ad15-ac1f-48c7-99ef-0e799c22dfe5",
   "metadata": {},
   "outputs": [],
   "source": [
    "rt_day.corridor_stop_delays"
   ]
  },
  {
   "cell_type": "markdown",
   "id": "3ec413df-faaa-4c63-99e9-92d02e8fe77e",
   "metadata": {},
   "source": [
    "# Metro (Inglewood)"
   ]
  },
  {
   "cell_type": "code",
   "execution_count": 9,
   "id": "eaabd581-d6f4-4961-af7c-06786579b86d",
   "metadata": {},
   "outputs": [
    {
     "data": {
      "text/plain": [
       "array(['2022-04-30', '2022-05-01', '2022-05-02', '2022-05-03',\n",
       "       '2022-05-04', '2022-05-05', '2022-05-06', '2022-05-07',\n",
       "       '2022-05-08'], dtype='datetime64[D]')"
      ]
     },
     "execution_count": 9,
     "metadata": {},
     "output_type": "execute_result"
    }
   ],
   "source": [
    "date_range"
   ]
  },
  {
   "cell_type": "code",
   "execution_count": 10,
   "id": "d1af16af-0749-4440-8e52-c2829c62732b",
   "metadata": {},
   "outputs": [],
   "source": [
    "itp_id = 182\n",
    "corridor = gpd.read_file('./corridors_sccp_lpp/inglewood_map.geojson')"
   ]
  },
  {
   "cell_type": "code",
   "execution_count": 7,
   "id": "2ce01d09-0dbc-4554-8d3a-8e80409ed8ef",
   "metadata": {
    "tags": []
   },
   "outputs": [],
   "source": [
    "# corridor.explore()"
   ]
  },
  {
   "cell_type": "code",
   "execution_count": 11,
   "id": "64202f48-c08a-4e84-ae6f-421d9eb851ba",
   "metadata": {},
   "outputs": [
    {
     "data": {
      "application/vnd.jupyter.widget-view+json": {
       "model_id": "7c590f4370014a59a6ef76a7a0bb3d9e",
       "version_major": 2,
       "version_minor": 0
      },
      "text/plain": [
       "0it [00:00, ?it/s]"
      ]
     },
     "metadata": {},
     "output_type": "display_data"
    }
   ],
   "source": [
    "pbar = tqdm()"
   ]
  },
  {
   "cell_type": "code",
   "execution_count": 12,
   "id": "15dae003-7272-4a6a-b9fb-7aa500d13c5b",
   "metadata": {},
   "outputs": [],
   "source": [
    "# generate_export_data(itp_id, dates_to_run, pbar)"
   ]
  },
  {
   "cell_type": "code",
   "execution_count": 21,
   "id": "ea6fccba-e8a6-48d7-ad8e-87e67e5213da",
   "metadata": {},
   "outputs": [
    {
     "name": "stdout",
     "output_type": "stream",
     "text": [
      "found parquet\n",
      "complete for date: 2022-04-30\n",
      "found parquet\n",
      "complete for date: 2022-05-01\n",
      "found parquet\n",
      "complete for date: 2022-05-02\n",
      "found parquet\n",
      "complete for date: 2022-05-03\n",
      "found parquet\n",
      "complete for date: 2022-05-04\n",
      "found parquet\n",
      "complete for date: 2022-05-05\n",
      "found parquet\n",
      "complete for date: 2022-05-06\n",
      "found parquet\n",
      "complete for date: 2022-05-07\n",
      "found parquet\n",
      "complete for date: 2022-05-08\n"
     ]
    }
   ],
   "source": [
    "metro_metrics = average_metrics(itp_id, date_range, pbar)"
   ]
  },
  {
   "cell_type": "code",
   "execution_count": 22,
   "id": "5f607900-2935-4041-96ca-11f993284bfc",
   "metadata": {},
   "outputs": [
    {
     "data": {
      "text/plain": [
       "{'avg_schedule_metric_minutes': 102.0, 'avg_speed_metric_minutes': 2018.0}"
      ]
     },
     "execution_count": 22,
     "metadata": {},
     "output_type": "execute_result"
    }
   ],
   "source": [
    "metro_metrics"
   ]
  },
  {
   "cell_type": "code",
   "execution_count": 23,
   "id": "3f66df4e-c20d-4772-8682-0420ec9cc51e",
   "metadata": {},
   "outputs": [
    {
     "name": "stdout",
     "output_type": "stream",
     "text": [
      "found parquet\n"
     ]
    }
   ],
   "source": [
    "rt_day = rt_filter_map_plot.from_gcs(itp_id, dt.date(2022, 5, 4), pbar)\n",
    "rt_day.add_corridor(corridor)\n",
    "_m = rt_filter_map_plot.RtFilterMapper.segment_speed_map(rt_day, corridor=True)"
   ]
  },
  {
   "cell_type": "code",
   "execution_count": 27,
   "id": "1441cb95-6147-4636-af7f-14283c5ad278",
   "metadata": {},
   "outputs": [],
   "source": [
    "# _m"
   ]
  },
  {
   "cell_type": "code",
   "execution_count": 28,
   "id": "374d67fc-c1b5-4777-be49-396fe0158156",
   "metadata": {},
   "outputs": [],
   "source": [
    "# rt_day.quick_map_corridor()"
   ]
  },
  {
   "cell_type": "code",
   "execution_count": 25,
   "id": "7bb84907-97e8-410d-9072-ac33990bd6d7",
   "metadata": {},
   "outputs": [
    {
     "data": {
      "text/html": [
       "<div>\n",
       "<style scoped>\n",
       "    .dataframe tbody tr th:only-of-type {\n",
       "        vertical-align: middle;\n",
       "    }\n",
       "\n",
       "    .dataframe tbody tr th {\n",
       "        vertical-align: top;\n",
       "    }\n",
       "\n",
       "    .dataframe thead th {\n",
       "        text-align: right;\n",
       "    }\n",
       "</style>\n",
       "<table border=\"1\" class=\"dataframe\">\n",
       "  <thead>\n",
       "    <tr style=\"text-align: right;\">\n",
       "      <th></th>\n",
       "      <th>route_short_name</th>\n",
       "    </tr>\n",
       "  </thead>\n",
       "  <tbody>\n",
       "    <tr>\n",
       "      <th>0</th>\n",
       "      <td>117</td>\n",
       "    </tr>\n",
       "    <tr>\n",
       "      <th>1</th>\n",
       "      <td>111</td>\n",
       "    </tr>\n",
       "    <tr>\n",
       "      <th>2</th>\n",
       "      <td>115</td>\n",
       "    </tr>\n",
       "    <tr>\n",
       "      <th>3</th>\n",
       "      <td>211/215</td>\n",
       "    </tr>\n",
       "    <tr>\n",
       "      <th>4</th>\n",
       "      <td>40</td>\n",
       "    </tr>\n",
       "    <tr>\n",
       "      <th>5</th>\n",
       "      <td>212</td>\n",
       "    </tr>\n",
       "  </tbody>\n",
       "</table>\n",
       "</div>"
      ],
      "text/plain": [
       "  route_short_name\n",
       "0              117\n",
       "1              111\n",
       "2              115\n",
       "3          211/215\n",
       "4               40\n",
       "5              212"
      ]
     },
     "execution_count": 25,
     "metadata": {},
     "output_type": "execute_result"
    }
   ],
   "source": [
    "rt_day.stop_delay_view >> filter(_.corridor) >> distinct(_.route_short_name)"
   ]
  },
  {
   "cell_type": "markdown",
   "id": "7c6f3363-c584-4b43-bcb8-9dc653e46417",
   "metadata": {},
   "source": [
    "# Draft general data present util"
   ]
  },
  {
   "cell_type": "code",
   "execution_count": 6,
   "id": "b8646f2f-ed67-4395-a7bd-4c9e4dc13178",
   "metadata": {},
   "outputs": [],
   "source": [
    "fs_list = fs.ls(f'{shared_utils.rt_utils.GCS_FILE_PATH}rt_trips/')"
   ]
  },
  {
   "cell_type": "code",
   "execution_count": 7,
   "id": "a7fbae20-4a42-4f90-a055-a225534c8379",
   "metadata": {
    "tags": []
   },
   "outputs": [],
   "source": [
    "def get_operators(analysis_date):\n",
    "    \n",
    "    day = str(analysis_date.day).zfill(2)\n",
    "    month = str(analysis_date.month).zfill(2)\n",
    "    ## now finds ran operators on specific analysis date\n",
    "    ran_operators = [int(path.split('rt_trips/')[1].split('_')[0])\n",
    "                     for path in fs_list\n",
    "                     if path.split('rt_trips/')[1] and path.split('rt_trips/')[1].split('_')[1] == month and path.split('rt_trips/')[1].split('_')[2][:2] == day]\n",
    "    return ran_operators"
   ]
  },
  {
   "cell_type": "code",
   "execution_count": 8,
   "id": "59004677-7187-4c9e-ad29-b2cfe7fc5b75",
   "metadata": {},
   "outputs": [
    {
     "name": "stdout",
     "output_type": "stream",
     "text": [
      "2022-04-30: [182, 290]\n",
      "2022-05-01: [182, 290]\n",
      "2022-05-02: [159, 182, 290]\n",
      "2022-05-03: [159, 182, 290]\n",
      "2022-05-04: [110, 126, 127, 135, 148, 159, 167, 170, 182, 183, 188, 194, 218, 221, 226, 235, 243, 246, 247, 259, 260, 269, 278, 282, 284, 293, 294, 295, 300, 301, 30, 310, 315, 336, 349, 350, 360, 361, 372, 45, 484, 4, 75, 99]\n",
      "2022-05-05: [159, 182, 290]\n",
      "2022-05-06: [159, 182, 290]\n",
      "2022-05-07: [182, 290]\n",
      "2022-05-08: [182, 290]\n"
     ]
    }
   ],
   "source": [
    "for date in date_range:\n",
    "    date = date.astype(dt.date)\n",
    "    print(date, end=': ')\n",
    "    print(get_operators(date))"
   ]
  }
 ],
 "metadata": {
  "kernelspec": {
   "display_name": "Python 3 (ipykernel)",
   "language": "python",
   "name": "python3"
  },
  "language_info": {
   "codemirror_mode": {
    "name": "ipython",
    "version": 3
   },
   "file_extension": ".py",
   "mimetype": "text/x-python",
   "name": "python",
   "nbconvert_exporter": "python",
   "pygments_lexer": "ipython3",
   "version": "3.10.6"
  }
 },
 "nbformat": 4,
 "nbformat_minor": 5
}
