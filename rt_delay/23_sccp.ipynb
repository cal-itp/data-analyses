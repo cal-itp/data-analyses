{
 "cells": [
  {
   "cell_type": "code",
   "execution_count": 1,
   "id": "dcd66258-d288-4f65-a7e2-5065d0148b16",
   "metadata": {},
   "outputs": [
    {
     "name": "stderr",
     "output_type": "stream",
     "text": [
      "/opt/conda/lib/python3.9/site-packages/geopandas/_compat.py:123: UserWarning: The Shapely GEOS version (3.10.3-CAPI-1.16.1) is incompatible with the GEOS version PyGEOS was compiled with (3.10.1-CAPI-1.16.0). Conversions between both will be slow.\n",
      "  warnings.warn(\n"
     ]
    }
   ],
   "source": [
    "import os\n",
    "os.environ[\"CALITP_BQ_MAX_BYTES\"] = str(1_000_000_000_000) ## 1TB?\n",
    "\n",
    "from siuba import *\n",
    "import pandas as pd\n",
    "import geopandas as gpd\n",
    "import datetime as dt\n",
    "\n",
    "from rt_analysis import rt_parser\n",
    "from rt_analysis import rt_filter_map_plot\n",
    "\n",
    "import shared_utils"
   ]
  },
  {
   "cell_type": "code",
   "execution_count": 2,
   "id": "2e857751-e558-40be-b9a1-2325d3337286",
   "metadata": {},
   "outputs": [],
   "source": [
    "from rt_analysis import sccp_tools\n",
    "import numpy as np"
   ]
  },
  {
   "cell_type": "code",
   "execution_count": 3,
   "id": "f9002041-23d1-40a8-81ac-47a0fc245727",
   "metadata": {},
   "outputs": [],
   "source": [
    "from tqdm.notebook import tqdm"
   ]
  },
  {
   "cell_type": "markdown",
   "id": "0190d051-8208-41a0-aafd-4ca14da4e795",
   "metadata": {},
   "source": [
    "# About the Metrics\n",
    "\n",
    "The schedule-based metric is a daily average of the sum of median trip stop delays along the corridor. To further explain, we take each corridor trip that we have data for and look at the delay in comparison to the schedule at each stop, after subtracting off any delay present as the trip entered the corridor. For each trip we then take the median delay of all stops along the corridor, and sum these medians to create the metric.\n",
    "\n",
    "The speed-based metric is a daily average of the sum of delays for each trip traversing the corridor as compared to a reference speed of 16 miles per houar. To further explain, we take each corridor trip that we have data for and calculate the hypothetical time it would take for that trip to traverse the corridor at a speed of 16 mph. The difference between the actual time it took for the trip to traverse the corridor and that hypothetical time is the speed-based delay for that trip, and we sum those delays to create the metric. This metric is intended to provide a more consistent basis for comparison independent of scheduling practices.\n",
    "\n",
    "In other words, if we expect a hypothetical bus lane/signal priority/payment system etc to increase corridor speeds to 16mph, this is how much time we could save per day.\n",
    "\n",
    "With corridor attached, generate both metrics using `RtFilterMapper.corridor_metrics()`"
   ]
  },
  {
   "cell_type": "markdown",
   "id": "a56cdc3e-95ab-4f42-8fc7-207b6305c5cf",
   "metadata": {},
   "source": [
    "## Common Date Range (2022-23) and convienience function"
   ]
  },
  {
   "cell_type": "code",
   "execution_count": 4,
   "id": "4ce12969-7cd3-4cd7-b760-c6f7826b85e5",
   "metadata": {},
   "outputs": [],
   "source": [
    "date_range = np.arange('2022-04-30', '2022-05-09', dtype='datetime64[D]')"
   ]
  },
  {
   "cell_type": "code",
   "execution_count": 5,
   "id": "80112aa9-16d5-4436-8ebd-0c578efa351e",
   "metadata": {},
   "outputs": [
    {
     "data": {
      "text/plain": [
       "numpy.ndarray"
      ]
     },
     "execution_count": 5,
     "metadata": {},
     "output_type": "execute_result"
    }
   ],
   "source": [
    "type(date_range)"
   ]
  },
  {
   "cell_type": "code",
   "execution_count": 6,
   "id": "744df1ed-20f1-49b9-9de1-1882f026a90c",
   "metadata": {},
   "outputs": [],
   "source": [
    "def generate_export_data(itp_id, date_range, pbar):\n",
    "    for date in date_range:\n",
    "        analysis_date = date.astype(dt.date)\n",
    "        check_ran = shared_utils.rt_utils.get_operators(analysis_date, [itp_id])\n",
    "        if check_ran[itp_id] == 'already_ran':\n",
    "            continue\n",
    "        rt_day = rt_parser.OperatorDayAnalysis(itp_id, analysis_date, pbar)\n",
    "        # don't worry about the CRS not set UserWarning\n",
    "        rt_day.export_views_gcs()"
   ]
  },
  {
   "cell_type": "code",
   "execution_count": 7,
   "id": "e3e6c254-730a-4c3e-81ef-1b61633ebc26",
   "metadata": {},
   "outputs": [
    {
     "data": {
      "application/vnd.jupyter.widget-view+json": {
       "model_id": "7ed7e4f71be1471baa8a00b779657a21",
       "version_major": 2,
       "version_minor": 0
      },
      "text/plain": [
       "0it [00:00, ?it/s]"
      ]
     },
     "metadata": {},
     "output_type": "display_data"
    }
   ],
   "source": [
    "pbar = tqdm()"
   ]
  },
  {
   "cell_type": "code",
   "execution_count": 8,
   "id": "f44286e7-dfd0-4521-bfdc-29192c82093e",
   "metadata": {
    "tags": []
   },
   "outputs": [
    {
     "name": "stdout",
     "output_type": "stream",
     "text": [
      "already ran: 4\n",
      "already ran: 4\n",
      "already ran: 4\n",
      "already ran: 4\n",
      "already ran: 4\n",
      "already ran: 4\n",
      "already ran: 4\n",
      "already ran: 4\n",
      "already ran: 4\n"
     ]
    }
   ],
   "source": [
    "%%capture --no-stdout\n",
    "generate_export_data(4, date_range, pbar)"
   ]
  },
  {
   "cell_type": "markdown",
   "id": "af13c48a-2825-406e-b066-897c7b0a7911",
   "metadata": {},
   "source": [
    "# AC / Lake"
   ]
  },
  {
   "cell_type": "code",
   "execution_count": 7,
   "id": "a98a9208-4023-4205-8088-f68bb560ee3f",
   "metadata": {},
   "outputs": [],
   "source": [
    "# itp_id = 4 ## AC Transit\n",
    "# itp_id = 159 ## Lake Transit"
   ]
  },
  {
   "cell_type": "code",
   "execution_count": 8,
   "id": "08abef6b-da42-45fb-b785-204a5791df19",
   "metadata": {},
   "outputs": [],
   "source": [
    "# corridor = gpd.read_file('./corridors_sccp_lpp/CMCP_StudyAreaBoundary.geojson') ## alameda"
   ]
  },
  {
   "cell_type": "markdown",
   "id": "fb9a2b89-ca81-4763-bbc7-5e51c2251e99",
   "metadata": {},
   "source": [
    "# Samtrans"
   ]
  },
  {
   "cell_type": "code",
   "execution_count": 9,
   "id": "2bf398bb-972e-46a6-ae05-ffe3eb8048d9",
   "metadata": {},
   "outputs": [],
   "source": [
    "# itp_id = 290 # Samtrans"
   ]
  },
  {
   "cell_type": "code",
   "execution_count": 10,
   "id": "4ca4e9c9-e0b0-4ffd-821b-d05493bf2010",
   "metadata": {},
   "outputs": [],
   "source": [
    "# corridor = gpd.read_file('./corridors_sccp_lpp/peninsula.geojson') ## foster city / hayward park"
   ]
  },
  {
   "cell_type": "markdown",
   "id": "3ec413df-faaa-4c63-99e9-92d02e8fe77e",
   "metadata": {},
   "source": [
    "# Metro (Inglewood)"
   ]
  },
  {
   "cell_type": "code",
   "execution_count": 11,
   "id": "d1af16af-0749-4440-8e52-c2829c62732b",
   "metadata": {},
   "outputs": [],
   "source": [
    "# itp_id = 182\n",
    "# corridor = gpd.read_file('./corridors_sccp_lpp/inglewood_map.geojson')"
   ]
  },
  {
   "cell_type": "markdown",
   "id": "7c6f3363-c584-4b43-bcb8-9dc653e46417",
   "metadata": {},
   "source": [
    "# SacRT/SJRTD, post-refactor"
   ]
  },
  {
   "cell_type": "code",
   "execution_count": 12,
   "id": "ea14fc78-e554-4f93-9557-e07a8e6b7e5e",
   "metadata": {},
   "outputs": [
    {
     "data": {
      "application/vnd.jupyter.widget-view+json": {
       "model_id": "7d982887789e453d8e0254ad1f47fae1",
       "version_major": 2,
       "version_minor": 0
      },
      "text/plain": [
       "0it [00:00, ?it/s]"
      ]
     },
     "metadata": {},
     "output_type": "display_data"
    }
   ],
   "source": [
    "pbar = tqdm()"
   ]
  },
  {
   "cell_type": "code",
   "execution_count": 13,
   "id": "3bbdfb63-3af9-4a18-adb4-b7942b368911",
   "metadata": {},
   "outputs": [],
   "source": [
    "sac_rt_itp_id = 273\n",
    "sjrtd_itp_id = 284"
   ]
  },
  {
   "cell_type": "code",
   "execution_count": 14,
   "id": "c90f285c-1db8-4ca3-a731-023ab1e5a1a4",
   "metadata": {},
   "outputs": [],
   "source": [
    "sac_date_range = np.arange('2022-02-05', '2022-02-14', dtype='datetime64[D]')"
   ]
  },
  {
   "cell_type": "code",
   "execution_count": 27,
   "id": "249e074c-bd56-4356-bba7-9fe0b64f87e9",
   "metadata": {
    "collapsed": true,
    "jupyter": {
     "outputs_hidden": true
    },
    "tags": []
   },
   "outputs": [
    {
     "name": "stdout",
     "output_type": "stream",
     "text": [
      "already ran: 273\n",
      "already ran: 273\n",
      "already ran: 273\n",
      "already ran: 273\n",
      "not yet run: 273\n"
     ]
    },
    {
     "ename": "AssertionError",
     "evalue": "no vehicle positions data found for 2022-02-09",
     "output_type": "error",
     "traceback": [
      "\u001b[0;31m---------------------------------------------------------------------------\u001b[0m",
      "\u001b[0;31mAssertionError\u001b[0m                            Traceback (most recent call last)",
      "Cell \u001b[0;32mIn [27], line 1\u001b[0m\n\u001b[0;32m----> 1\u001b[0m \u001b[43mgenerate_export_data\u001b[49m\u001b[43m(\u001b[49m\u001b[43msac_rt_itp_id\u001b[49m\u001b[43m,\u001b[49m\u001b[43m \u001b[49m\u001b[43msac_date_range\u001b[49m\u001b[43m,\u001b[49m\u001b[43m \u001b[49m\u001b[43mpbar\u001b[49m\u001b[43m)\u001b[49m\n",
      "Cell \u001b[0;32mIn [6], line 7\u001b[0m, in \u001b[0;36mgenerate_export_data\u001b[0;34m(itp_id, date_range, pbar)\u001b[0m\n\u001b[1;32m      5\u001b[0m \u001b[38;5;28;01mif\u001b[39;00m check_ran[itp_id] \u001b[38;5;241m==\u001b[39m \u001b[38;5;124m'\u001b[39m\u001b[38;5;124malready_ran\u001b[39m\u001b[38;5;124m'\u001b[39m:\n\u001b[1;32m      6\u001b[0m     \u001b[38;5;28;01mcontinue\u001b[39;00m\n\u001b[0;32m----> 7\u001b[0m rt_day \u001b[38;5;241m=\u001b[39m \u001b[43mrt_parser\u001b[49m\u001b[38;5;241;43m.\u001b[39;49m\u001b[43mOperatorDayAnalysis\u001b[49m\u001b[43m(\u001b[49m\u001b[43mitp_id\u001b[49m\u001b[43m,\u001b[49m\u001b[43m \u001b[49m\u001b[43manalysis_date\u001b[49m\u001b[43m,\u001b[49m\u001b[43m \u001b[49m\u001b[43mpbar\u001b[49m\u001b[43m)\u001b[49m\n\u001b[1;32m      8\u001b[0m \u001b[38;5;66;03m# don't worry about the CRS not set UserWarning\u001b[39;00m\n\u001b[1;32m      9\u001b[0m rt_day\u001b[38;5;241m.\u001b[39mexport_views_gcs()\n",
      "File \u001b[0;32m~/data-analyses/rt_delay/rt_analysis/rt_parser.py:219\u001b[0m, in \u001b[0;36mOperatorDayAnalysis.__init__\u001b[0;34m(self, itp_id, analysis_date, pbar)\u001b[0m\n\u001b[1;32m    217\u001b[0m \u001b[38;5;28mself\u001b[39m\u001b[38;5;241m.\u001b[39manalysis_date \u001b[38;5;241m=\u001b[39m analysis_date\n\u001b[1;32m    218\u001b[0m \u001b[38;5;28mself\u001b[39m\u001b[38;5;241m.\u001b[39mdisplay_date \u001b[38;5;241m=\u001b[39m \u001b[38;5;28mself\u001b[39m\u001b[38;5;241m.\u001b[39manalysis_date\u001b[38;5;241m.\u001b[39mstrftime(\u001b[38;5;124m'\u001b[39m\u001b[38;5;124m%\u001b[39m\u001b[38;5;124mb \u001b[39m\u001b[38;5;132;01m%d\u001b[39;00m\u001b[38;5;124m (\u001b[39m\u001b[38;5;132;01m%a\u001b[39;00m\u001b[38;5;124m)\u001b[39m\u001b[38;5;124m'\u001b[39m)\n\u001b[0;32m--> 219\u001b[0m \u001b[38;5;28mself\u001b[39m\u001b[38;5;241m.\u001b[39mvehicle_positions \u001b[38;5;241m=\u001b[39m \u001b[43mshared_utils\u001b[49m\u001b[38;5;241;43m.\u001b[39;49m\u001b[43mrt_utils\u001b[49m\u001b[38;5;241;43m.\u001b[39;49m\u001b[43mget_vehicle_positions\u001b[49m\u001b[43m(\u001b[49m\u001b[38;5;28;43mself\u001b[39;49m\u001b[38;5;241;43m.\u001b[39;49m\u001b[43mcalitp_itp_id\u001b[49m\u001b[43m,\u001b[49m\u001b[43m \u001b[49m\u001b[38;5;28;43mself\u001b[39;49m\u001b[38;5;241;43m.\u001b[39;49m\u001b[43manalysis_date\u001b[49m\u001b[43m)\u001b[49m\n\u001b[1;32m    220\u001b[0m \u001b[38;5;28mself\u001b[39m\u001b[38;5;241m.\u001b[39mtrips \u001b[38;5;241m=\u001b[39m shared_utils\u001b[38;5;241m.\u001b[39mrt_utils\u001b[38;5;241m.\u001b[39mget_trips(\u001b[38;5;28mself\u001b[39m\u001b[38;5;241m.\u001b[39mcalitp_itp_id, \u001b[38;5;28mself\u001b[39m\u001b[38;5;241m.\u001b[39manalysis_date)\n\u001b[1;32m    221\u001b[0m \u001b[38;5;28mself\u001b[39m\u001b[38;5;241m.\u001b[39mstop_times \u001b[38;5;241m=\u001b[39m shared_utils\u001b[38;5;241m.\u001b[39mrt_utils\u001b[38;5;241m.\u001b[39mget_stop_times(\u001b[38;5;28mself\u001b[39m\u001b[38;5;241m.\u001b[39mcalitp_itp_id, \u001b[38;5;28mself\u001b[39m\u001b[38;5;241m.\u001b[39manalysis_date)\n",
      "File \u001b[0;32m~/data-analyses/_shared_utils/shared_utils/rt_utils.py:315\u001b[0m, in \u001b[0;36mget_vehicle_positions\u001b[0;34m(itp_id, analysis_date, export_path)\u001b[0m\n\u001b[1;32m    313\u001b[0m df \u001b[38;5;241m=\u001b[39m df \u001b[38;5;241m>>\u001b[39m distinct(_\u001b[38;5;241m.\u001b[39mtrip_id, _\u001b[38;5;241m.\u001b[39mvehicle_timestamp, _keep_all\u001b[38;5;241m=\u001b[39m\u001b[38;5;28;01mTrue\u001b[39;00m)\n\u001b[1;32m    314\u001b[0m df \u001b[38;5;241m=\u001b[39m df\u001b[38;5;241m.\u001b[39mdropna(subset\u001b[38;5;241m=\u001b[39m[\u001b[38;5;124m\"\u001b[39m\u001b[38;5;124mvehicle_timestamp\u001b[39m\u001b[38;5;124m\"\u001b[39m])\n\u001b[0;32m--> 315\u001b[0m \u001b[38;5;28;01massert\u001b[39;00m \u001b[38;5;129;01mnot\u001b[39;00m df\u001b[38;5;241m.\u001b[39mempty, \u001b[38;5;124mf\u001b[39m\u001b[38;5;124m\"\u001b[39m\u001b[38;5;124mno vehicle positions data found for \u001b[39m\u001b[38;5;132;01m{\u001b[39;00mdate_str\u001b[38;5;132;01m}\u001b[39;00m\u001b[38;5;124m\"\u001b[39m\n\u001b[1;32m    316\u001b[0m df\u001b[38;5;241m.\u001b[39mvehicle_timestamp \u001b[38;5;241m=\u001b[39m df\u001b[38;5;241m.\u001b[39mvehicle_timestamp\u001b[38;5;241m.\u001b[39mapply(convert_ts)\n\u001b[1;32m    317\u001b[0m \u001b[38;5;66;03m# header timestamp not present in staging, add upstream if desired\u001b[39;00m\n\u001b[1;32m    318\u001b[0m \u001b[38;5;66;03m# df.header_timestamp = df.header_timestamp.apply(convert_ts)\u001b[39;00m\n",
      "\u001b[0;31mAssertionError\u001b[0m: no vehicle positions data found for 2022-02-09"
     ]
    }
   ],
   "source": [
    "%%capture --no-stdout\n",
    "\n",
    "generate_export_data(sac_rt_itp_id, sac_date_range, pbar)"
   ]
  },
  {
   "cell_type": "code",
   "execution_count": 16,
   "id": "8e5fe535-56de-4c23-946b-f54f142ce757",
   "metadata": {},
   "outputs": [
    {
     "name": "stdout",
     "output_type": "stream",
     "text": [
      "already ran: 284\n",
      "already ran: 284\n",
      "already ran: 284\n",
      "already ran: 284\n",
      "already ran: 284\n",
      "already ran: 284\n",
      "already ran: 284\n",
      "already ran: 284\n",
      "already ran: 284\n"
     ]
    }
   ],
   "source": [
    "%%capture --no-stdout\n",
    "\n",
    "generate_export_data(sjrtd_itp_id, date_range, pbar)"
   ]
  },
  {
   "cell_type": "code",
   "execution_count": 16,
   "id": "44a60e27-c593-4d42-86e3-4060ea17053e",
   "metadata": {},
   "outputs": [],
   "source": [
    "corridor = gpd.read_file('./corridors_sccp_lpp/sacrt_sjrtd_nov_2.geojson')"
   ]
  },
  {
   "cell_type": "code",
   "execution_count": 26,
   "id": "5682a6ef-e92c-47a2-8bff-2543f8fde774",
   "metadata": {
    "collapsed": true,
    "jupyter": {
     "outputs_hidden": true
    },
    "tags": []
   },
   "outputs": [
    {
     "name": "stdout",
     "output_type": "stream",
     "text": [
      "found parquet\n"
     ]
    },
    {
     "ename": "KeyboardInterrupt",
     "evalue": "",
     "output_type": "error",
     "traceback": [
      "\u001b[0;31m---------------------------------------------------------------------------\u001b[0m",
      "\u001b[0;31mKeyboardInterrupt\u001b[0m                         Traceback (most recent call last)",
      "Cell \u001b[0;32mIn [26], line 1\u001b[0m\n\u001b[0;32m----> 1\u001b[0m sac_corridor_metrics \u001b[38;5;241m=\u001b[39m \u001b[43msccp_tools\u001b[49m\u001b[38;5;241;43m.\u001b[39;49m\u001b[43msccp_average_metrics\u001b[49m\u001b[43m(\u001b[49m\u001b[43mitp_id\u001b[49m\u001b[38;5;241;43m=\u001b[39;49m\u001b[38;5;241;43m273\u001b[39;49m\u001b[43m,\u001b[49m\u001b[43m \u001b[49m\u001b[43mdate_range\u001b[49m\u001b[38;5;241;43m=\u001b[39;49m\u001b[43msac_date_range\u001b[49m\u001b[43m,\u001b[49m\u001b[43m \u001b[49m\u001b[43mcorridor\u001b[49m\u001b[38;5;241;43m=\u001b[39;49m\u001b[43mcorridor\u001b[49m\u001b[43m)\u001b[49m\n",
      "File \u001b[0;32m~/data-analyses/rt_delay/rt_analysis/sccp_tools.py:23\u001b[0m, in \u001b[0;36msccp_average_metrics\u001b[0;34m(itp_id, date_range, corridor, filter_dict)\u001b[0m\n\u001b[1;32m     21\u001b[0m date \u001b[38;5;241m=\u001b[39m date\u001b[38;5;241m.\u001b[39mastype(dt\u001b[38;5;241m.\u001b[39mdate)\n\u001b[1;32m     22\u001b[0m \u001b[38;5;28;01mtry\u001b[39;00m:\n\u001b[0;32m---> 23\u001b[0m     rt_day \u001b[38;5;241m=\u001b[39m \u001b[43mrt_filter_map_plot\u001b[49m\u001b[38;5;241;43m.\u001b[39;49m\u001b[43mfrom_gcs\u001b[49m\u001b[43m(\u001b[49m\u001b[43mitp_id\u001b[49m\u001b[43m,\u001b[49m\u001b[43m \u001b[49m\u001b[43mdate\u001b[49m\u001b[43m)\u001b[49m\n\u001b[1;32m     24\u001b[0m     rt_day\u001b[38;5;241m.\u001b[39madd_corridor(corridor)\n\u001b[1;32m     25\u001b[0m     \u001b[38;5;28;01mif\u001b[39;00m filter_dict:\n",
      "File \u001b[0;32m~/data-analyses/rt_delay/rt_analysis/rt_filter_map_plot.py:587\u001b[0m, in \u001b[0;36mfrom_gcs\u001b[0;34m(itp_id, analysis_date, pbar)\u001b[0m\n\u001b[1;32m    585\u001b[0m stop_delay[\u001b[38;5;124m'\u001b[39m\u001b[38;5;124marrival_time\u001b[39m\u001b[38;5;124m'\u001b[39m] \u001b[38;5;241m=\u001b[39m stop_delay\u001b[38;5;241m.\u001b[39marrival_time\u001b[38;5;241m.\u001b[39mmap(\u001b[38;5;28;01mlambda\u001b[39;00m x: np\u001b[38;5;241m.\u001b[39mdatetime64(x))\n\u001b[1;32m    586\u001b[0m stop_delay[\u001b[38;5;124m'\u001b[39m\u001b[38;5;124mactual_time\u001b[39m\u001b[38;5;124m'\u001b[39m] \u001b[38;5;241m=\u001b[39m stop_delay\u001b[38;5;241m.\u001b[39mactual_time\u001b[38;5;241m.\u001b[39mmap(\u001b[38;5;28;01mlambda\u001b[39;00m x: np\u001b[38;5;241m.\u001b[39mdatetime64(x))\n\u001b[0;32m--> 587\u001b[0m routelines \u001b[38;5;241m=\u001b[39m \u001b[43mget_routelines\u001b[49m\u001b[43m(\u001b[49m\u001b[43mitp_id\u001b[49m\u001b[43m,\u001b[49m\u001b[43m \u001b[49m\u001b[43manalysis_date\u001b[49m\u001b[43m)\u001b[49m\n\u001b[1;32m    588\u001b[0m rt_day \u001b[38;5;241m=\u001b[39m RtFilterMapper(trips, stop_delay, routelines, pbar)\n\u001b[1;32m    589\u001b[0m \u001b[38;5;28;01mreturn\u001b[39;00m rt_day\n",
      "File \u001b[0;32m~/data-analyses/_shared_utils/shared_utils/rt_utils.py:545\u001b[0m, in \u001b[0;36mget_routelines\u001b[0;34m(itp_id, analysis_date, force_clear, export_path)\u001b[0m\n\u001b[1;32m    543\u001b[0m \u001b[38;5;28;01mif\u001b[39;00m path \u001b[38;5;129;01mand\u001b[39;00m \u001b[38;5;129;01mnot\u001b[39;00m force_clear:\n\u001b[1;32m    544\u001b[0m     \u001b[38;5;28mprint\u001b[39m(\u001b[38;5;124m\"\u001b[39m\u001b[38;5;124mfound parquet\u001b[39m\u001b[38;5;124m\"\u001b[39m)\n\u001b[0;32m--> 545\u001b[0m     cached \u001b[38;5;241m=\u001b[39m \u001b[43mgpd\u001b[49m\u001b[38;5;241;43m.\u001b[39;49m\u001b[43mread_parquet\u001b[49m\u001b[43m(\u001b[49m\u001b[43mpath\u001b[49m\u001b[43m)\u001b[49m\n\u001b[1;32m    546\u001b[0m     \u001b[38;5;28;01mif\u001b[39;00m \u001b[38;5;129;01mnot\u001b[39;00m cached\u001b[38;5;241m.\u001b[39mempty:\n\u001b[1;32m    547\u001b[0m         \u001b[38;5;28;01mreturn\u001b[39;00m cached\n",
      "File \u001b[0;32m/opt/conda/lib/python3.10/site-packages/geopandas/io/arrow.py:560\u001b[0m, in \u001b[0;36m_read_parquet\u001b[0;34m(path, columns, storage_options, **kwargs)\u001b[0m\n\u001b[1;32m    558\u001b[0m path \u001b[38;5;241m=\u001b[39m _expand_user(path)\n\u001b[1;32m    559\u001b[0m kwargs[\u001b[38;5;124m\"\u001b[39m\u001b[38;5;124muse_pandas_metadata\u001b[39m\u001b[38;5;124m\"\u001b[39m] \u001b[38;5;241m=\u001b[39m \u001b[38;5;28;01mTrue\u001b[39;00m\n\u001b[0;32m--> 560\u001b[0m table \u001b[38;5;241m=\u001b[39m \u001b[43mparquet\u001b[49m\u001b[38;5;241;43m.\u001b[39;49m\u001b[43mread_table\u001b[49m\u001b[43m(\u001b[49m\u001b[43mpath\u001b[49m\u001b[43m,\u001b[49m\u001b[43m \u001b[49m\u001b[43mcolumns\u001b[49m\u001b[38;5;241;43m=\u001b[39;49m\u001b[43mcolumns\u001b[49m\u001b[43m,\u001b[49m\u001b[43m \u001b[49m\u001b[43mfilesystem\u001b[49m\u001b[38;5;241;43m=\u001b[39;49m\u001b[43mfilesystem\u001b[49m\u001b[43m,\u001b[49m\u001b[43m \u001b[49m\u001b[38;5;241;43m*\u001b[39;49m\u001b[38;5;241;43m*\u001b[39;49m\u001b[43mkwargs\u001b[49m\u001b[43m)\u001b[49m\n\u001b[1;32m    562\u001b[0m \u001b[38;5;66;03m# read metadata separately to get the raw Parquet FileMetaData metadata\u001b[39;00m\n\u001b[1;32m    563\u001b[0m \u001b[38;5;66;03m# (pyarrow doesn't properly exposes those in schema.metadata for files\u001b[39;00m\n\u001b[1;32m    564\u001b[0m \u001b[38;5;66;03m# created by GDAL - https://issues.apache.org/jira/browse/ARROW-16688)\u001b[39;00m\n\u001b[1;32m    565\u001b[0m metadata \u001b[38;5;241m=\u001b[39m \u001b[38;5;28;01mNone\u001b[39;00m\n",
      "File \u001b[0;32m/opt/conda/lib/python3.10/site-packages/pyarrow/parquet.py:1941\u001b[0m, in \u001b[0;36mread_table\u001b[0;34m(source, columns, use_threads, metadata, use_pandas_metadata, memory_map, read_dictionary, filesystem, filters, buffer_size, partitioning, use_legacy_dataset, ignore_prefixes, pre_buffer, coerce_int96_timestamp_unit)\u001b[0m\n\u001b[1;32m   1933\u001b[0m         \u001b[38;5;66;03m# TODO test that source is not a directory or a list\u001b[39;00m\n\u001b[1;32m   1934\u001b[0m         dataset \u001b[38;5;241m=\u001b[39m ParquetFile(\n\u001b[1;32m   1935\u001b[0m             source, metadata\u001b[38;5;241m=\u001b[39mmetadata, read_dictionary\u001b[38;5;241m=\u001b[39mread_dictionary,\n\u001b[1;32m   1936\u001b[0m             memory_map\u001b[38;5;241m=\u001b[39mmemory_map, buffer_size\u001b[38;5;241m=\u001b[39mbuffer_size,\n\u001b[1;32m   1937\u001b[0m             pre_buffer\u001b[38;5;241m=\u001b[39mpre_buffer,\n\u001b[1;32m   1938\u001b[0m             coerce_int96_timestamp_unit\u001b[38;5;241m=\u001b[39mcoerce_int96_timestamp_unit\n\u001b[1;32m   1939\u001b[0m         )\n\u001b[0;32m-> 1941\u001b[0m     \u001b[38;5;28;01mreturn\u001b[39;00m \u001b[43mdataset\u001b[49m\u001b[38;5;241;43m.\u001b[39;49m\u001b[43mread\u001b[49m\u001b[43m(\u001b[49m\u001b[43mcolumns\u001b[49m\u001b[38;5;241;43m=\u001b[39;49m\u001b[43mcolumns\u001b[49m\u001b[43m,\u001b[49m\u001b[43m \u001b[49m\u001b[43muse_threads\u001b[49m\u001b[38;5;241;43m=\u001b[39;49m\u001b[43muse_threads\u001b[49m\u001b[43m,\u001b[49m\n\u001b[1;32m   1942\u001b[0m \u001b[43m                        \u001b[49m\u001b[43muse_pandas_metadata\u001b[49m\u001b[38;5;241;43m=\u001b[39;49m\u001b[43muse_pandas_metadata\u001b[49m\u001b[43m)\u001b[49m\n\u001b[1;32m   1944\u001b[0m \u001b[38;5;28;01mif\u001b[39;00m ignore_prefixes \u001b[38;5;129;01mis\u001b[39;00m \u001b[38;5;129;01mnot\u001b[39;00m \u001b[38;5;28;01mNone\u001b[39;00m:\n\u001b[1;32m   1945\u001b[0m     \u001b[38;5;28;01mraise\u001b[39;00m \u001b[38;5;167;01mValueError\u001b[39;00m(\n\u001b[1;32m   1946\u001b[0m         \u001b[38;5;124m\"\u001b[39m\u001b[38;5;124mThe \u001b[39m\u001b[38;5;124m'\u001b[39m\u001b[38;5;124mignore_prefixes\u001b[39m\u001b[38;5;124m'\u001b[39m\u001b[38;5;124m keyword is only supported when \u001b[39m\u001b[38;5;124m\"\u001b[39m\n\u001b[1;32m   1947\u001b[0m         \u001b[38;5;124m\"\u001b[39m\u001b[38;5;124muse_legacy_dataset=False\u001b[39m\u001b[38;5;124m\"\u001b[39m)\n",
      "File \u001b[0;32m/opt/conda/lib/python3.10/site-packages/pyarrow/parquet.py:1776\u001b[0m, in \u001b[0;36m_ParquetDatasetV2.read\u001b[0;34m(self, columns, use_threads, use_pandas_metadata)\u001b[0m\n\u001b[1;32m   1771\u001b[0m     \u001b[38;5;28;01mif\u001b[39;00m use_threads:\n\u001b[1;32m   1772\u001b[0m         \u001b[38;5;66;03m# Allow per-column parallelism; would otherwise cause\u001b[39;00m\n\u001b[1;32m   1773\u001b[0m         \u001b[38;5;66;03m# contention in the presence of per-file parallelism.\u001b[39;00m\n\u001b[1;32m   1774\u001b[0m         use_threads \u001b[38;5;241m=\u001b[39m \u001b[38;5;28;01mFalse\u001b[39;00m\n\u001b[0;32m-> 1776\u001b[0m table \u001b[38;5;241m=\u001b[39m \u001b[38;5;28;43mself\u001b[39;49m\u001b[38;5;241;43m.\u001b[39;49m\u001b[43m_dataset\u001b[49m\u001b[38;5;241;43m.\u001b[39;49m\u001b[43mto_table\u001b[49m\u001b[43m(\u001b[49m\n\u001b[1;32m   1777\u001b[0m \u001b[43m    \u001b[49m\u001b[43mcolumns\u001b[49m\u001b[38;5;241;43m=\u001b[39;49m\u001b[43mcolumns\u001b[49m\u001b[43m,\u001b[49m\u001b[43m \u001b[49m\u001b[38;5;28;43mfilter\u001b[39;49m\u001b[38;5;241;43m=\u001b[39;49m\u001b[38;5;28;43mself\u001b[39;49m\u001b[38;5;241;43m.\u001b[39;49m\u001b[43m_filter_expression\u001b[49m\u001b[43m,\u001b[49m\n\u001b[1;32m   1778\u001b[0m \u001b[43m    \u001b[49m\u001b[43muse_threads\u001b[49m\u001b[38;5;241;43m=\u001b[39;49m\u001b[43muse_threads\u001b[49m\n\u001b[1;32m   1779\u001b[0m \u001b[43m\u001b[49m\u001b[43m)\u001b[49m\n\u001b[1;32m   1781\u001b[0m \u001b[38;5;66;03m# if use_pandas_metadata, restore the pandas metadata (which gets\u001b[39;00m\n\u001b[1;32m   1782\u001b[0m \u001b[38;5;66;03m# lost if doing a specific `columns` selection in to_table)\u001b[39;00m\n\u001b[1;32m   1783\u001b[0m \u001b[38;5;28;01mif\u001b[39;00m use_pandas_metadata:\n",
      "File \u001b[0;32m/opt/conda/lib/python3.10/site-packages/pyarrow/_dataset.pyx:491\u001b[0m, in \u001b[0;36mpyarrow._dataset.Dataset.to_table\u001b[0;34m()\u001b[0m\n",
      "File \u001b[0;32m/opt/conda/lib/python3.10/site-packages/pyarrow/_dataset.pyx:3235\u001b[0m, in \u001b[0;36mpyarrow._dataset.Scanner.to_table\u001b[0;34m()\u001b[0m\n",
      "File \u001b[0;32m/opt/conda/lib/python3.10/site-packages/pyarrow/error.pxi:143\u001b[0m, in \u001b[0;36mpyarrow.lib.pyarrow_internal_check_status\u001b[0;34m()\u001b[0m\n",
      "File \u001b[0;32m/opt/conda/lib/python3.10/site-packages/pyarrow/_fs.pyx:1161\u001b[0m, in \u001b[0;36mpyarrow._fs._cb_open_input_file\u001b[0;34m()\u001b[0m\n",
      "File \u001b[0;32m/opt/conda/lib/python3.10/site-packages/pyarrow/fs.py:395\u001b[0m, in \u001b[0;36mFSSpecHandler.open_input_file\u001b[0;34m(self, path)\u001b[0m\n\u001b[1;32m    392\u001b[0m \u001b[38;5;28;01mif\u001b[39;00m \u001b[38;5;129;01mnot\u001b[39;00m \u001b[38;5;28mself\u001b[39m\u001b[38;5;241m.\u001b[39mfs\u001b[38;5;241m.\u001b[39misfile(path):\n\u001b[1;32m    393\u001b[0m     \u001b[38;5;28;01mraise\u001b[39;00m \u001b[38;5;167;01mFileNotFoundError\u001b[39;00m(path)\n\u001b[0;32m--> 395\u001b[0m \u001b[38;5;28;01mreturn\u001b[39;00m PythonFile(\u001b[38;5;28;43mself\u001b[39;49m\u001b[38;5;241;43m.\u001b[39;49m\u001b[43mfs\u001b[49m\u001b[38;5;241;43m.\u001b[39;49m\u001b[43mopen\u001b[49m\u001b[43m(\u001b[49m\u001b[43mpath\u001b[49m\u001b[43m,\u001b[49m\u001b[43m \u001b[49m\u001b[43mmode\u001b[49m\u001b[38;5;241;43m=\u001b[39;49m\u001b[38;5;124;43m\"\u001b[39;49m\u001b[38;5;124;43mrb\u001b[39;49m\u001b[38;5;124;43m\"\u001b[39;49m\u001b[43m)\u001b[49m, mode\u001b[38;5;241m=\u001b[39m\u001b[38;5;124m\"\u001b[39m\u001b[38;5;124mr\u001b[39m\u001b[38;5;124m\"\u001b[39m)\n",
      "File \u001b[0;32m/opt/conda/lib/python3.10/site-packages/fsspec/spec.py:1094\u001b[0m, in \u001b[0;36mAbstractFileSystem.open\u001b[0;34m(self, path, mode, block_size, cache_options, compression, **kwargs)\u001b[0m\n\u001b[1;32m   1092\u001b[0m \u001b[38;5;28;01melse\u001b[39;00m:\n\u001b[1;32m   1093\u001b[0m     ac \u001b[38;5;241m=\u001b[39m kwargs\u001b[38;5;241m.\u001b[39mpop(\u001b[38;5;124m\"\u001b[39m\u001b[38;5;124mautocommit\u001b[39m\u001b[38;5;124m\"\u001b[39m, \u001b[38;5;129;01mnot\u001b[39;00m \u001b[38;5;28mself\u001b[39m\u001b[38;5;241m.\u001b[39m_intrans)\n\u001b[0;32m-> 1094\u001b[0m     f \u001b[38;5;241m=\u001b[39m \u001b[38;5;28;43mself\u001b[39;49m\u001b[38;5;241;43m.\u001b[39;49m\u001b[43m_open\u001b[49m\u001b[43m(\u001b[49m\n\u001b[1;32m   1095\u001b[0m \u001b[43m        \u001b[49m\u001b[43mpath\u001b[49m\u001b[43m,\u001b[49m\n\u001b[1;32m   1096\u001b[0m \u001b[43m        \u001b[49m\u001b[43mmode\u001b[49m\u001b[38;5;241;43m=\u001b[39;49m\u001b[43mmode\u001b[49m\u001b[43m,\u001b[49m\n\u001b[1;32m   1097\u001b[0m \u001b[43m        \u001b[49m\u001b[43mblock_size\u001b[49m\u001b[38;5;241;43m=\u001b[39;49m\u001b[43mblock_size\u001b[49m\u001b[43m,\u001b[49m\n\u001b[1;32m   1098\u001b[0m \u001b[43m        \u001b[49m\u001b[43mautocommit\u001b[49m\u001b[38;5;241;43m=\u001b[39;49m\u001b[43mac\u001b[49m\u001b[43m,\u001b[49m\n\u001b[1;32m   1099\u001b[0m \u001b[43m        \u001b[49m\u001b[43mcache_options\u001b[49m\u001b[38;5;241;43m=\u001b[39;49m\u001b[43mcache_options\u001b[49m\u001b[43m,\u001b[49m\n\u001b[1;32m   1100\u001b[0m \u001b[43m        \u001b[49m\u001b[38;5;241;43m*\u001b[39;49m\u001b[38;5;241;43m*\u001b[39;49m\u001b[43mkwargs\u001b[49m\u001b[43m,\u001b[49m\n\u001b[1;32m   1101\u001b[0m \u001b[43m    \u001b[49m\u001b[43m)\u001b[49m\n\u001b[1;32m   1102\u001b[0m     \u001b[38;5;28;01mif\u001b[39;00m compression \u001b[38;5;129;01mis\u001b[39;00m \u001b[38;5;129;01mnot\u001b[39;00m \u001b[38;5;28;01mNone\u001b[39;00m:\n\u001b[1;32m   1103\u001b[0m         \u001b[38;5;28;01mfrom\u001b[39;00m \u001b[38;5;21;01mfsspec\u001b[39;00m\u001b[38;5;21;01m.\u001b[39;00m\u001b[38;5;21;01mcompression\u001b[39;00m \u001b[38;5;28;01mimport\u001b[39;00m compr\n",
      "File \u001b[0;32m/opt/conda/lib/python3.10/site-packages/gcsfs/core.py:1205\u001b[0m, in \u001b[0;36mGCSFileSystem._open\u001b[0;34m(self, path, mode, block_size, cache_options, acl, consistency, metadata, autocommit, fixed_key_metadata, **kwargs)\u001b[0m\n\u001b[1;32m   1203\u001b[0m     block_size \u001b[38;5;241m=\u001b[39m \u001b[38;5;28mself\u001b[39m\u001b[38;5;241m.\u001b[39mdefault_block_size\n\u001b[1;32m   1204\u001b[0m const \u001b[38;5;241m=\u001b[39m consistency \u001b[38;5;129;01mor\u001b[39;00m \u001b[38;5;28mself\u001b[39m\u001b[38;5;241m.\u001b[39mconsistency\n\u001b[0;32m-> 1205\u001b[0m \u001b[38;5;28;01mreturn\u001b[39;00m \u001b[43mGCSFile\u001b[49m\u001b[43m(\u001b[49m\n\u001b[1;32m   1206\u001b[0m \u001b[43m    \u001b[49m\u001b[38;5;28;43mself\u001b[39;49m\u001b[43m,\u001b[49m\n\u001b[1;32m   1207\u001b[0m \u001b[43m    \u001b[49m\u001b[43mpath\u001b[49m\u001b[43m,\u001b[49m\n\u001b[1;32m   1208\u001b[0m \u001b[43m    \u001b[49m\u001b[43mmode\u001b[49m\u001b[43m,\u001b[49m\n\u001b[1;32m   1209\u001b[0m \u001b[43m    \u001b[49m\u001b[43mblock_size\u001b[49m\u001b[43m,\u001b[49m\n\u001b[1;32m   1210\u001b[0m \u001b[43m    \u001b[49m\u001b[43mcache_options\u001b[49m\u001b[38;5;241;43m=\u001b[39;49m\u001b[43mcache_options\u001b[49m\u001b[43m,\u001b[49m\n\u001b[1;32m   1211\u001b[0m \u001b[43m    \u001b[49m\u001b[43mconsistency\u001b[49m\u001b[38;5;241;43m=\u001b[39;49m\u001b[43mconst\u001b[49m\u001b[43m,\u001b[49m\n\u001b[1;32m   1212\u001b[0m \u001b[43m    \u001b[49m\u001b[43mmetadata\u001b[49m\u001b[38;5;241;43m=\u001b[39;49m\u001b[43mmetadata\u001b[49m\u001b[43m,\u001b[49m\n\u001b[1;32m   1213\u001b[0m \u001b[43m    \u001b[49m\u001b[43macl\u001b[49m\u001b[38;5;241;43m=\u001b[39;49m\u001b[43macl\u001b[49m\u001b[43m,\u001b[49m\n\u001b[1;32m   1214\u001b[0m \u001b[43m    \u001b[49m\u001b[43mautocommit\u001b[49m\u001b[38;5;241;43m=\u001b[39;49m\u001b[43mautocommit\u001b[49m\u001b[43m,\u001b[49m\n\u001b[1;32m   1215\u001b[0m \u001b[43m    \u001b[49m\u001b[43mfixed_key_metadata\u001b[49m\u001b[38;5;241;43m=\u001b[39;49m\u001b[43mfixed_key_metadata\u001b[49m\u001b[43m,\u001b[49m\n\u001b[1;32m   1216\u001b[0m \u001b[43m    \u001b[49m\u001b[38;5;241;43m*\u001b[39;49m\u001b[38;5;241;43m*\u001b[39;49m\u001b[43mkwargs\u001b[49m\u001b[43m,\u001b[49m\n\u001b[1;32m   1217\u001b[0m \u001b[43m\u001b[49m\u001b[43m)\u001b[49m\n",
      "File \u001b[0;32m/opt/conda/lib/python3.10/site-packages/gcsfs/core.py:1325\u001b[0m, in \u001b[0;36mGCSFile.__init__\u001b[0;34m(self, gcsfs, path, mode, block_size, autocommit, cache_type, cache_options, acl, consistency, metadata, content_type, timeout, fixed_key_metadata, **kwargs)\u001b[0m\n\u001b[1;32m   1270\u001b[0m \u001b[38;5;28;01mdef\u001b[39;00m \u001b[38;5;21m__init__\u001b[39m(\n\u001b[1;32m   1271\u001b[0m     \u001b[38;5;28mself\u001b[39m,\n\u001b[1;32m   1272\u001b[0m     gcsfs,\n\u001b[0;32m   (...)\u001b[0m\n\u001b[1;32m   1285\u001b[0m     \u001b[38;5;241m*\u001b[39m\u001b[38;5;241m*\u001b[39mkwargs,\n\u001b[1;32m   1286\u001b[0m ):\n\u001b[1;32m   1287\u001b[0m     \u001b[38;5;124;03m\"\"\"\u001b[39;00m\n\u001b[1;32m   1288\u001b[0m \u001b[38;5;124;03m    Open a file.\u001b[39;00m\n\u001b[1;32m   1289\u001b[0m \n\u001b[0;32m   (...)\u001b[0m\n\u001b[1;32m   1323\u001b[0m \u001b[38;5;124;03m        Timeout seconds for the asynchronous callback.\u001b[39;00m\n\u001b[1;32m   1324\u001b[0m \u001b[38;5;124;03m    \"\"\"\u001b[39;00m\n\u001b[0;32m-> 1325\u001b[0m     \u001b[38;5;28;43msuper\u001b[39;49m\u001b[43m(\u001b[49m\u001b[43m)\u001b[49m\u001b[38;5;241;43m.\u001b[39;49m\u001b[38;5;21;43m__init__\u001b[39;49m\u001b[43m(\u001b[49m\n\u001b[1;32m   1326\u001b[0m \u001b[43m        \u001b[49m\u001b[43mgcsfs\u001b[49m\u001b[43m,\u001b[49m\n\u001b[1;32m   1327\u001b[0m \u001b[43m        \u001b[49m\u001b[43mpath\u001b[49m\u001b[43m,\u001b[49m\n\u001b[1;32m   1328\u001b[0m \u001b[43m        \u001b[49m\u001b[43mmode\u001b[49m\u001b[43m,\u001b[49m\n\u001b[1;32m   1329\u001b[0m \u001b[43m        \u001b[49m\u001b[43mblock_size\u001b[49m\u001b[43m,\u001b[49m\n\u001b[1;32m   1330\u001b[0m \u001b[43m        \u001b[49m\u001b[43mautocommit\u001b[49m\u001b[38;5;241;43m=\u001b[39;49m\u001b[43mautocommit\u001b[49m\u001b[43m,\u001b[49m\n\u001b[1;32m   1331\u001b[0m \u001b[43m        \u001b[49m\u001b[43mcache_type\u001b[49m\u001b[38;5;241;43m=\u001b[39;49m\u001b[43mcache_type\u001b[49m\u001b[43m,\u001b[49m\n\u001b[1;32m   1332\u001b[0m \u001b[43m        \u001b[49m\u001b[43mcache_options\u001b[49m\u001b[38;5;241;43m=\u001b[39;49m\u001b[43mcache_options\u001b[49m\u001b[43m,\u001b[49m\n\u001b[1;32m   1333\u001b[0m \u001b[43m        \u001b[49m\u001b[38;5;241;43m*\u001b[39;49m\u001b[38;5;241;43m*\u001b[39;49m\u001b[43mkwargs\u001b[49m\u001b[43m,\u001b[49m\n\u001b[1;32m   1334\u001b[0m \u001b[43m    \u001b[49m\u001b[43m)\u001b[49m\n\u001b[1;32m   1335\u001b[0m     bucket, key \u001b[38;5;241m=\u001b[39m \u001b[38;5;28mself\u001b[39m\u001b[38;5;241m.\u001b[39mfs\u001b[38;5;241m.\u001b[39msplit_path(path)\n\u001b[1;32m   1336\u001b[0m     \u001b[38;5;28;01mif\u001b[39;00m \u001b[38;5;129;01mnot\u001b[39;00m key:\n",
      "File \u001b[0;32m/opt/conda/lib/python3.10/site-packages/fsspec/spec.py:1450\u001b[0m, in \u001b[0;36mAbstractBufferedFile.__init__\u001b[0;34m(self, fs, path, mode, block_size, autocommit, cache_type, cache_options, size, **kwargs)\u001b[0m\n\u001b[1;32m   1448\u001b[0m         \u001b[38;5;28mself\u001b[39m\u001b[38;5;241m.\u001b[39msize \u001b[38;5;241m=\u001b[39m size\n\u001b[1;32m   1449\u001b[0m     \u001b[38;5;28;01melse\u001b[39;00m:\n\u001b[0;32m-> 1450\u001b[0m         \u001b[38;5;28mself\u001b[39m\u001b[38;5;241m.\u001b[39msize \u001b[38;5;241m=\u001b[39m \u001b[38;5;28;43mself\u001b[39;49m\u001b[38;5;241;43m.\u001b[39;49m\u001b[43mdetails\u001b[49m[\u001b[38;5;124m\"\u001b[39m\u001b[38;5;124msize\u001b[39m\u001b[38;5;124m\"\u001b[39m]\n\u001b[1;32m   1451\u001b[0m     \u001b[38;5;28mself\u001b[39m\u001b[38;5;241m.\u001b[39mcache \u001b[38;5;241m=\u001b[39m caches[cache_type](\n\u001b[1;32m   1452\u001b[0m         \u001b[38;5;28mself\u001b[39m\u001b[38;5;241m.\u001b[39mblocksize, \u001b[38;5;28mself\u001b[39m\u001b[38;5;241m.\u001b[39m_fetch_range, \u001b[38;5;28mself\u001b[39m\u001b[38;5;241m.\u001b[39msize, \u001b[38;5;241m*\u001b[39m\u001b[38;5;241m*\u001b[39mcache_options\n\u001b[1;32m   1453\u001b[0m     )\n\u001b[1;32m   1454\u001b[0m \u001b[38;5;28;01melse\u001b[39;00m:\n",
      "File \u001b[0;32m/opt/conda/lib/python3.10/site-packages/fsspec/spec.py:1463\u001b[0m, in \u001b[0;36mAbstractBufferedFile.details\u001b[0;34m(self)\u001b[0m\n\u001b[1;32m   1460\u001b[0m \u001b[38;5;129m@property\u001b[39m\n\u001b[1;32m   1461\u001b[0m \u001b[38;5;28;01mdef\u001b[39;00m \u001b[38;5;21mdetails\u001b[39m(\u001b[38;5;28mself\u001b[39m):\n\u001b[1;32m   1462\u001b[0m     \u001b[38;5;28;01mif\u001b[39;00m \u001b[38;5;28mself\u001b[39m\u001b[38;5;241m.\u001b[39m_details \u001b[38;5;129;01mis\u001b[39;00m \u001b[38;5;28;01mNone\u001b[39;00m:\n\u001b[0;32m-> 1463\u001b[0m         \u001b[38;5;28mself\u001b[39m\u001b[38;5;241m.\u001b[39m_details \u001b[38;5;241m=\u001b[39m \u001b[38;5;28;43mself\u001b[39;49m\u001b[38;5;241;43m.\u001b[39;49m\u001b[43mfs\u001b[49m\u001b[38;5;241;43m.\u001b[39;49m\u001b[43minfo\u001b[49m\u001b[43m(\u001b[49m\u001b[38;5;28;43mself\u001b[39;49m\u001b[38;5;241;43m.\u001b[39;49m\u001b[43mpath\u001b[49m\u001b[43m)\u001b[49m\n\u001b[1;32m   1464\u001b[0m     \u001b[38;5;28;01mreturn\u001b[39;00m \u001b[38;5;28mself\u001b[39m\u001b[38;5;241m.\u001b[39m_details\n",
      "File \u001b[0;32m/opt/conda/lib/python3.10/site-packages/fsspec/asyn.py:111\u001b[0m, in \u001b[0;36msync_wrapper.<locals>.wrapper\u001b[0;34m(*args, **kwargs)\u001b[0m\n\u001b[1;32m    108\u001b[0m \u001b[38;5;129m@functools\u001b[39m\u001b[38;5;241m.\u001b[39mwraps(func)\n\u001b[1;32m    109\u001b[0m \u001b[38;5;28;01mdef\u001b[39;00m \u001b[38;5;21mwrapper\u001b[39m(\u001b[38;5;241m*\u001b[39margs, \u001b[38;5;241m*\u001b[39m\u001b[38;5;241m*\u001b[39mkwargs):\n\u001b[1;32m    110\u001b[0m     \u001b[38;5;28mself\u001b[39m \u001b[38;5;241m=\u001b[39m obj \u001b[38;5;129;01mor\u001b[39;00m args[\u001b[38;5;241m0\u001b[39m]\n\u001b[0;32m--> 111\u001b[0m     \u001b[38;5;28;01mreturn\u001b[39;00m \u001b[43msync\u001b[49m\u001b[43m(\u001b[49m\u001b[38;5;28;43mself\u001b[39;49m\u001b[38;5;241;43m.\u001b[39;49m\u001b[43mloop\u001b[49m\u001b[43m,\u001b[49m\u001b[43m \u001b[49m\u001b[43mfunc\u001b[49m\u001b[43m,\u001b[49m\u001b[43m \u001b[49m\u001b[38;5;241;43m*\u001b[39;49m\u001b[43margs\u001b[49m\u001b[43m,\u001b[49m\u001b[43m \u001b[49m\u001b[38;5;241;43m*\u001b[39;49m\u001b[38;5;241;43m*\u001b[39;49m\u001b[43mkwargs\u001b[49m\u001b[43m)\u001b[49m\n",
      "File \u001b[0;32m/opt/conda/lib/python3.10/site-packages/fsspec/asyn.py:84\u001b[0m, in \u001b[0;36msync\u001b[0;34m(loop, func, timeout, *args, **kwargs)\u001b[0m\n\u001b[1;32m     81\u001b[0m asyncio\u001b[38;5;241m.\u001b[39mrun_coroutine_threadsafe(_runner(event, coro, result, timeout), loop)\n\u001b[1;32m     82\u001b[0m \u001b[38;5;28;01mwhile\u001b[39;00m \u001b[38;5;28;01mTrue\u001b[39;00m:\n\u001b[1;32m     83\u001b[0m     \u001b[38;5;66;03m# this loops allows thread to get interrupted\u001b[39;00m\n\u001b[0;32m---> 84\u001b[0m     \u001b[38;5;28;01mif\u001b[39;00m \u001b[43mevent\u001b[49m\u001b[38;5;241;43m.\u001b[39;49m\u001b[43mwait\u001b[49m\u001b[43m(\u001b[49m\u001b[38;5;241;43m1\u001b[39;49m\u001b[43m)\u001b[49m:\n\u001b[1;32m     85\u001b[0m         \u001b[38;5;28;01mbreak\u001b[39;00m\n\u001b[1;32m     86\u001b[0m     \u001b[38;5;28;01mif\u001b[39;00m timeout \u001b[38;5;129;01mis\u001b[39;00m \u001b[38;5;129;01mnot\u001b[39;00m \u001b[38;5;28;01mNone\u001b[39;00m:\n",
      "File \u001b[0;32m/opt/conda/lib/python3.10/threading.py:607\u001b[0m, in \u001b[0;36mEvent.wait\u001b[0;34m(self, timeout)\u001b[0m\n\u001b[1;32m    605\u001b[0m signaled \u001b[38;5;241m=\u001b[39m \u001b[38;5;28mself\u001b[39m\u001b[38;5;241m.\u001b[39m_flag\n\u001b[1;32m    606\u001b[0m \u001b[38;5;28;01mif\u001b[39;00m \u001b[38;5;129;01mnot\u001b[39;00m signaled:\n\u001b[0;32m--> 607\u001b[0m     signaled \u001b[38;5;241m=\u001b[39m \u001b[38;5;28;43mself\u001b[39;49m\u001b[38;5;241;43m.\u001b[39;49m\u001b[43m_cond\u001b[49m\u001b[38;5;241;43m.\u001b[39;49m\u001b[43mwait\u001b[49m\u001b[43m(\u001b[49m\u001b[43mtimeout\u001b[49m\u001b[43m)\u001b[49m\n\u001b[1;32m    608\u001b[0m \u001b[38;5;28;01mreturn\u001b[39;00m signaled\n",
      "File \u001b[0;32m/opt/conda/lib/python3.10/threading.py:324\u001b[0m, in \u001b[0;36mCondition.wait\u001b[0;34m(self, timeout)\u001b[0m\n\u001b[1;32m    322\u001b[0m \u001b[38;5;28;01melse\u001b[39;00m:\n\u001b[1;32m    323\u001b[0m     \u001b[38;5;28;01mif\u001b[39;00m timeout \u001b[38;5;241m>\u001b[39m \u001b[38;5;241m0\u001b[39m:\n\u001b[0;32m--> 324\u001b[0m         gotit \u001b[38;5;241m=\u001b[39m \u001b[43mwaiter\u001b[49m\u001b[38;5;241;43m.\u001b[39;49m\u001b[43macquire\u001b[49m\u001b[43m(\u001b[49m\u001b[38;5;28;43;01mTrue\u001b[39;49;00m\u001b[43m,\u001b[49m\u001b[43m \u001b[49m\u001b[43mtimeout\u001b[49m\u001b[43m)\u001b[49m\n\u001b[1;32m    325\u001b[0m     \u001b[38;5;28;01melse\u001b[39;00m:\n\u001b[1;32m    326\u001b[0m         gotit \u001b[38;5;241m=\u001b[39m waiter\u001b[38;5;241m.\u001b[39macquire(\u001b[38;5;28;01mFalse\u001b[39;00m)\n",
      "\u001b[0;31mKeyboardInterrupt\u001b[0m: "
     ]
    }
   ],
   "source": [
    "sac_corridor_metrics = sccp_tools.sccp_average_metrics(itp_id=273, date_range=sac_date_range, corridor=corridor)"
   ]
  },
  {
   "cell_type": "code",
   "execution_count": 20,
   "id": "6aa4bf28-6537-4847-ba65-62c76389985d",
   "metadata": {
    "tags": []
   },
   "outputs": [
    {
     "name": "stdout",
     "output_type": "stream",
     "text": [
      "failed for date: 2022-04-30\n",
      "calitp-analytics-data/data-analyses/rt_delay/stop_delay_views/284_2022-04-30.parquet\n",
      "failed for date: 2022-05-01\n",
      "calitp-analytics-data/data-analyses/rt_delay/stop_delay_views/284_2022-05-01.parquet\n",
      "failed for date: 2022-05-02\n",
      "calitp-analytics-data/data-analyses/rt_delay/stop_delay_views/284_2022-05-02.parquet\n",
      "failed for date: 2022-05-03\n",
      "calitp-analytics-data/data-analyses/rt_delay/stop_delay_views/284_2022-05-03.parquet\n",
      "failed for date: 2022-05-04\n",
      "calitp-analytics-data/data-analyses/rt_delay/stop_delay_views/284_2022-05-04.parquet\n",
      "failed for date: 2022-05-05\n",
      "calitp-analytics-data/data-analyses/rt_delay/stop_delay_views/284_2022-05-05.parquet\n",
      "failed for date: 2022-05-06\n",
      "calitp-analytics-data/data-analyses/rt_delay/stop_delay_views/284_2022-05-06.parquet\n",
      "failed for date: 2022-05-07\n",
      "calitp-analytics-data/data-analyses/rt_delay/stop_delay_views/284_2022-05-07.parquet\n",
      "failed for date: 2022-05-08\n",
      "calitp-analytics-data/data-analyses/rt_delay/stop_delay_views/284_2022-05-08.parquet\n"
     ]
    },
    {
     "name": "stderr",
     "output_type": "stream",
     "text": [
      "/opt/conda/lib/python3.10/site-packages/numpy/core/fromnumeric.py:3432: RuntimeWarning: Mean of empty slice.\n",
      "/opt/conda/lib/python3.10/site-packages/numpy/core/_methods.py:190: RuntimeWarning: invalid value encountered in double_scalars\n"
     ]
    }
   ],
   "source": [
    "sjrtd_corridor_metrics = sccp_tools.sccp_average_metrics(itp_id=284, date_range=date_range, corridor=corridor)"
   ]
  },
  {
   "cell_type": "code",
   "execution_count": 18,
   "id": "5f1a8628-71e9-4a14-92c8-be1499d02feb",
   "metadata": {},
   "outputs": [
    {
     "data": {
      "text/plain": [
       "array(['2022-04-30', '2022-05-01', '2022-05-02', '2022-05-03',\n",
       "       '2022-05-04', '2022-05-05', '2022-05-06', '2022-05-07',\n",
       "       '2022-05-08'], dtype='datetime64[D]')"
      ]
     },
     "execution_count": 18,
     "metadata": {},
     "output_type": "execute_result"
    }
   ],
   "source": [
    "date_range"
   ]
  },
  {
   "cell_type": "code",
   "execution_count": 19,
   "id": "cf6fbf0c-bece-458c-9b60-51ac6e913aa2",
   "metadata": {},
   "outputs": [
    {
     "data": {
      "text/plain": [
       "\u001b[0;31mSignature:\u001b[0m \u001b[0mrt_filter_map_plot\u001b[0m\u001b[0;34m.\u001b[0m\u001b[0mfrom_gcs\u001b[0m\u001b[0;34m(\u001b[0m\u001b[0mitp_id\u001b[0m\u001b[0;34m,\u001b[0m \u001b[0manalysis_date\u001b[0m\u001b[0;34m,\u001b[0m \u001b[0mpbar\u001b[0m\u001b[0;34m=\u001b[0m\u001b[0;32mNone\u001b[0m\u001b[0;34m)\u001b[0m\u001b[0;34m\u001b[0m\u001b[0;34m\u001b[0m\u001b[0m\n",
       "\u001b[0;31mDocstring:\u001b[0m\n",
       "Generates RtFilterMapper from cached artifacts in GCS. Generate using rt_analysis.OperatorDayAnalysis.export_views_gcs()\n",
       "    \n",
       "\u001b[0;31mFile:\u001b[0m      ~/data-analyses/rt_delay/rt_analysis/rt_filter_map_plot.py\n",
       "\u001b[0;31mType:\u001b[0m      function\n"
      ]
     },
     "metadata": {},
     "output_type": "display_data"
    }
   ],
   "source": [
    "rt_filter_map_plot.from_gcs?"
   ]
  },
  {
   "cell_type": "code",
   "execution_count": 22,
   "id": "a2a024ed-ad6a-4084-a538-620bd837e705",
   "metadata": {
    "tags": []
   },
   "outputs": [
    {
     "name": "stdout",
     "output_type": "stream",
     "text": [
      "found parquet\n"
     ]
    }
   ],
   "source": [
    "rt_day = rt_filter_map_plot.from_gcs(273, dt.date(2022, 2, 6))"
   ]
  },
  {
   "cell_type": "code",
   "execution_count": 23,
   "id": "5e60abc4-6293-4adf-ab22-9f841a708ce0",
   "metadata": {},
   "outputs": [],
   "source": [
    "rt_day.add_corridor(corridor)"
   ]
  },
  {
   "cell_type": "code",
   "execution_count": null,
   "id": "28b2d657-0d94-446c-9a77-1ec890499940",
   "metadata": {},
   "outputs": [],
   "source": [
    "# rt_day.quick_map_corridor()"
   ]
  },
  {
   "cell_type": "code",
   "execution_count": 25,
   "id": "9af420df-0a7b-4950-a288-260d971e9398",
   "metadata": {},
   "outputs": [
    {
     "data": {
      "text/plain": [
       "{'schedule_metric_minutes': 2.4166666666666665,\n",
       " 'speed_metric_minutes': -3.5781744005258327}"
      ]
     },
     "execution_count": 25,
     "metadata": {},
     "output_type": "execute_result"
    }
   ],
   "source": [
    "rt_day.corridor_metrics()"
   ]
  },
  {
   "cell_type": "code",
   "execution_count": 29,
   "id": "e6dc2934-8ace-4b65-9e13-3e0dd5415dc3",
   "metadata": {},
   "outputs": [
    {
     "data": {
      "text/plain": [
       "'2022-02-06'"
      ]
     },
     "execution_count": 29,
     "metadata": {},
     "output_type": "execute_result"
    }
   ],
   "source": [
    "rt_day.analysis_date.isoformat()"
   ]
  },
  {
   "cell_type": "markdown",
   "id": "8a587312-5e69-4958-a95f-5f215921d179",
   "metadata": {},
   "source": [
    "# OCTA 12/1/2022"
   ]
  },
  {
   "cell_type": "code",
   "execution_count": 20,
   "id": "4e9ea214-b413-455f-948a-506bf899b28c",
   "metadata": {},
   "outputs": [],
   "source": [
    "octa = gpd.read_file('./corridors_sccp_lpp/octa_dec1_rev.geojson')"
   ]
  },
  {
   "cell_type": "code",
   "execution_count": 41,
   "id": "ee9802c3-a6be-4b26-968d-06975aab77e4",
   "metadata": {},
   "outputs": [],
   "source": [
    "# octa.explore()"
   ]
  },
  {
   "cell_type": "code",
   "execution_count": 26,
   "id": "5fbcaf71-c292-4534-b7dc-f1aeed77b999",
   "metadata": {},
   "outputs": [
    {
     "name": "stdout",
     "output_type": "stream",
     "text": [
      "found parquet\n"
     ]
    }
   ],
   "source": [
    "rt_day = rt_filter_map_plot.from_gcs(235, dt.date(2022, 5, 5))"
   ]
  },
  {
   "cell_type": "code",
   "execution_count": 27,
   "id": "c3520e75-e17d-43d9-b921-b4ca186eac7b",
   "metadata": {},
   "outputs": [],
   "source": [
    "rt_day.add_corridor(octa)"
   ]
  },
  {
   "cell_type": "code",
   "execution_count": 28,
   "id": "1c325faa-6d8b-4a34-ac46-fc4f9321ef69",
   "metadata": {},
   "outputs": [
    {
     "data": {
      "text/plain": [
       "{'schedule_metric_minutes': 75.20833333333333,\n",
       " 'speed_metric_minutes': 931.8252172851112}"
      ]
     },
     "execution_count": 28,
     "metadata": {},
     "output_type": "execute_result"
    }
   ],
   "source": [
    "rt_day.corridor_metrics()"
   ]
  },
  {
   "cell_type": "code",
   "execution_count": 32,
   "id": "43745190-28b8-4ad2-8118-edeb500a51ca",
   "metadata": {},
   "outputs": [
    {
     "name": "stdout",
     "output_type": "stream",
     "text": [
      "found parquet\n",
      "complete for date: 2022-04-30\n",
      "found parquet\n",
      "complete for date: 2022-05-01\n",
      "found parquet\n",
      "complete for date: 2022-05-02\n",
      "found parquet\n",
      "complete for date: 2022-05-03\n",
      "found parquet\n",
      "complete for date: 2022-05-04\n",
      "found parquet\n",
      "complete for date: 2022-05-05\n",
      "found parquet\n",
      "complete for date: 2022-05-06\n",
      "found parquet\n",
      "complete for date: 2022-05-07\n",
      "found parquet\n",
      "complete for date: 2022-05-08\n"
     ]
    }
   ],
   "source": [
    "octa_corridor_metrics = sccp_tools.sccp_average_metrics(itp_id=235, date_range=date_range, corridor=octa)"
   ]
  },
  {
   "cell_type": "code",
   "execution_count": 33,
   "id": "a14bcd45-192f-4c41-90b3-5929afa0f236",
   "metadata": {},
   "outputs": [
    {
     "data": {
      "text/plain": [
       "{'avg_schedule_metric_minutes': 52.0,\n",
       " 'avg_speed_metric_minutes': 893.0,\n",
       " 'all_schedule': [53.25833333333333,\n",
       "  20.433333333333334,\n",
       "  78.05,\n",
       "  49.175,\n",
       "  64.16666666666667,\n",
       "  75.20833333333333,\n",
       "  55.4,\n",
       "  60.84166666666667,\n",
       "  14.475],\n",
       " 'all_speed': [747.3978409473204,\n",
       "  505.33545268309683,\n",
       "  885.3617659165194,\n",
       "  1686.831775345611,\n",
       "  777.4150067746884,\n",
       "  931.8252172851112,\n",
       "  1379.7829452025758,\n",
       "  609.0198823468858,\n",
       "  514.3851696422547]}"
      ]
     },
     "execution_count": 33,
     "metadata": {},
     "output_type": "execute_result"
    }
   ],
   "source": [
    "octa_corridor_metrics"
   ]
  },
  {
   "cell_type": "code",
   "execution_count": 38,
   "id": "6c3673bb-f74c-4476-9d1f-197636bfdb86",
   "metadata": {},
   "outputs": [],
   "source": [
    "# rt_day.quick_map_corridor()"
   ]
  },
  {
   "cell_type": "code",
   "execution_count": 39,
   "id": "25ff3fdf-996b-4c77-89b5-416a7c3b0ab6",
   "metadata": {},
   "outputs": [],
   "source": [
    "# rt_day.segment_speed_map(corridor=True)"
   ]
  },
  {
   "cell_type": "code",
   "execution_count": 40,
   "id": "9a8d076d-96b6-4e20-8441-d5dd5e60ea27",
   "metadata": {},
   "outputs": [],
   "source": [
    "# rt_day.stop_delay_view >> filter(_.corridor) >> distinct(_.route_short_name)"
   ]
  },
  {
   "cell_type": "markdown",
   "id": "ea236bd1-69d5-4706-9440-398c922ff04a",
   "metadata": {},
   "source": [
    "# AC Dec 15\n",
    "\n",
    "* applicant also requested BART, unable without vehicle positions and as a grade-seperated system possibly non-applicable\n",
    "* three nearby polygons, will consolidate and notify applicant"
   ]
  },
  {
   "cell_type": "code",
   "execution_count": 11,
   "id": "13ebfbdd-e07a-4259-a86a-e2b6ac5121e4",
   "metadata": {},
   "outputs": [],
   "source": [
    "new_ac = gpd.read_file('./corridors_sccp_lpp/ac_dec_15rev.geojson')"
   ]
  },
  {
   "cell_type": "code",
   "execution_count": 12,
   "id": "f4310024-e3c1-43a8-aa09-c1b45e1206a0",
   "metadata": {},
   "outputs": [
    {
     "data": {
      "text/html": [
       "<div style=\"width:100%;\"><div style=\"position:relative;width:100%;height:0;padding-bottom:60%;\"><span style=\"color:#565656\">Make this Notebook Trusted to load map: File -> Trust Notebook</span><iframe src=\"about:blank\" style=\"position:absolute;width:100%;height:100%;left:0;top:0;border:none !important;\" data-html=%3C%21DOCTYPE%20html%3E%0A%3Chead%3E%20%20%20%20%0A%20%20%20%20%3Cmeta%20http-equiv%3D%22content-type%22%20content%3D%22text/html%3B%20charset%3DUTF-8%22%20/%3E%0A%20%20%20%20%0A%20%20%20%20%20%20%20%20%3Cscript%3E%0A%20%20%20%20%20%20%20%20%20%20%20%20L_NO_TOUCH%20%3D%20false%3B%0A%20%20%20%20%20%20%20%20%20%20%20%20L_DISABLE_3D%20%3D%20false%3B%0A%20%20%20%20%20%20%20%20%3C/script%3E%0A%20%20%20%20%0A%20%20%20%20%3Cstyle%3Ehtml%2C%20body%20%7Bwidth%3A%20100%25%3Bheight%3A%20100%25%3Bmargin%3A%200%3Bpadding%3A%200%3B%7D%3C/style%3E%0A%20%20%20%20%3Cstyle%3E%23map%20%7Bposition%3Aabsolute%3Btop%3A0%3Bbottom%3A0%3Bright%3A0%3Bleft%3A0%3B%7D%3C/style%3E%0A%20%20%20%20%3Cscript%20src%3D%22https%3A//cdn.jsdelivr.net/npm/leaflet%401.6.0/dist/leaflet.js%22%3E%3C/script%3E%0A%20%20%20%20%3Cscript%20src%3D%22https%3A//code.jquery.com/jquery-1.12.4.min.js%22%3E%3C/script%3E%0A%20%20%20%20%3Cscript%20src%3D%22https%3A//maxcdn.bootstrapcdn.com/bootstrap/3.2.0/js/bootstrap.min.js%22%3E%3C/script%3E%0A%20%20%20%20%3Cscript%20src%3D%22https%3A//cdnjs.cloudflare.com/ajax/libs/Leaflet.awesome-markers/2.0.2/leaflet.awesome-markers.js%22%3E%3C/script%3E%0A%20%20%20%20%3Clink%20rel%3D%22stylesheet%22%20href%3D%22https%3A//cdn.jsdelivr.net/npm/leaflet%401.6.0/dist/leaflet.css%22/%3E%0A%20%20%20%20%3Clink%20rel%3D%22stylesheet%22%20href%3D%22https%3A//maxcdn.bootstrapcdn.com/bootstrap/3.2.0/css/bootstrap.min.css%22/%3E%0A%20%20%20%20%3Clink%20rel%3D%22stylesheet%22%20href%3D%22https%3A//maxcdn.bootstrapcdn.com/bootstrap/3.2.0/css/bootstrap-theme.min.css%22/%3E%0A%20%20%20%20%3Clink%20rel%3D%22stylesheet%22%20href%3D%22https%3A//maxcdn.bootstrapcdn.com/font-awesome/4.6.3/css/font-awesome.min.css%22/%3E%0A%20%20%20%20%3Clink%20rel%3D%22stylesheet%22%20href%3D%22https%3A//cdnjs.cloudflare.com/ajax/libs/Leaflet.awesome-markers/2.0.2/leaflet.awesome-markers.css%22/%3E%0A%20%20%20%20%3Clink%20rel%3D%22stylesheet%22%20href%3D%22https%3A//cdn.jsdelivr.net/gh/python-visualization/folium/folium/templates/leaflet.awesome.rotate.min.css%22/%3E%0A%20%20%20%20%0A%20%20%20%20%20%20%20%20%20%20%20%20%3Cmeta%20name%3D%22viewport%22%20content%3D%22width%3Ddevice-width%2C%0A%20%20%20%20%20%20%20%20%20%20%20%20%20%20%20%20initial-scale%3D1.0%2C%20maximum-scale%3D1.0%2C%20user-scalable%3Dno%22%20/%3E%0A%20%20%20%20%20%20%20%20%20%20%20%20%3Cstyle%3E%0A%20%20%20%20%20%20%20%20%20%20%20%20%20%20%20%20%23map_8c77274bb8d14f8baf0d909376083779%20%7B%0A%20%20%20%20%20%20%20%20%20%20%20%20%20%20%20%20%20%20%20%20position%3A%20relative%3B%0A%20%20%20%20%20%20%20%20%20%20%20%20%20%20%20%20%20%20%20%20width%3A%20100.0%25%3B%0A%20%20%20%20%20%20%20%20%20%20%20%20%20%20%20%20%20%20%20%20height%3A%20100.0%25%3B%0A%20%20%20%20%20%20%20%20%20%20%20%20%20%20%20%20%20%20%20%20left%3A%200.0%25%3B%0A%20%20%20%20%20%20%20%20%20%20%20%20%20%20%20%20%20%20%20%20top%3A%200.0%25%3B%0A%20%20%20%20%20%20%20%20%20%20%20%20%20%20%20%20%7D%0A%20%20%20%20%20%20%20%20%20%20%20%20%3C/style%3E%0A%20%20%20%20%20%20%20%20%0A%20%20%20%20%0A%20%20%20%20%20%20%20%20%20%20%20%20%20%20%20%20%20%20%20%20%3Cstyle%3E%0A%20%20%20%20%20%20%20%20%20%20%20%20%20%20%20%20%20%20%20%20%20%20%20%20.foliumtooltip%20%7B%0A%20%20%20%20%20%20%20%20%20%20%20%20%20%20%20%20%20%20%20%20%20%20%20%20%20%20%20%20%0A%20%20%20%20%20%20%20%20%20%20%20%20%20%20%20%20%20%20%20%20%20%20%20%20%7D%0A%20%20%20%20%20%20%20%20%20%20%20%20%20%20%20%20%20%20%20%20%20%20%20.foliumtooltip%20table%7B%0A%20%20%20%20%20%20%20%20%20%20%20%20%20%20%20%20%20%20%20%20%20%20%20%20%20%20%20%20margin%3A%20auto%3B%0A%20%20%20%20%20%20%20%20%20%20%20%20%20%20%20%20%20%20%20%20%20%20%20%20%7D%0A%20%20%20%20%20%20%20%20%20%20%20%20%20%20%20%20%20%20%20%20%20%20%20%20.foliumtooltip%20tr%7B%0A%20%20%20%20%20%20%20%20%20%20%20%20%20%20%20%20%20%20%20%20%20%20%20%20%20%20%20%20text-align%3A%20left%3B%0A%20%20%20%20%20%20%20%20%20%20%20%20%20%20%20%20%20%20%20%20%20%20%20%20%7D%0A%20%20%20%20%20%20%20%20%20%20%20%20%20%20%20%20%20%20%20%20%20%20%20%20.foliumtooltip%20th%7B%0A%20%20%20%20%20%20%20%20%20%20%20%20%20%20%20%20%20%20%20%20%20%20%20%20%20%20%20%20padding%3A%202px%3B%20padding-right%3A%208px%3B%0A%20%20%20%20%20%20%20%20%20%20%20%20%20%20%20%20%20%20%20%20%20%20%20%20%7D%0A%20%20%20%20%20%20%20%20%20%20%20%20%20%20%20%20%20%20%20%20%3C/style%3E%0A%20%20%20%20%20%20%20%20%20%20%20%20%0A%3C/head%3E%0A%3Cbody%3E%20%20%20%20%0A%20%20%20%20%0A%20%20%20%20%20%20%20%20%20%20%20%20%3Cdiv%20class%3D%22folium-map%22%20id%3D%22map_8c77274bb8d14f8baf0d909376083779%22%20%3E%3C/div%3E%0A%20%20%20%20%20%20%20%20%0A%3C/body%3E%0A%3Cscript%3E%20%20%20%20%0A%20%20%20%20%0A%20%20%20%20%20%20%20%20%20%20%20%20var%20map_8c77274bb8d14f8baf0d909376083779%20%3D%20L.map%28%0A%20%20%20%20%20%20%20%20%20%20%20%20%20%20%20%20%22map_8c77274bb8d14f8baf0d909376083779%22%2C%0A%20%20%20%20%20%20%20%20%20%20%20%20%20%20%20%20%7B%0A%20%20%20%20%20%20%20%20%20%20%20%20%20%20%20%20%20%20%20%20center%3A%20%5B37.92568628836803%2C%20-122.31872395502901%5D%2C%0A%20%20%20%20%20%20%20%20%20%20%20%20%20%20%20%20%20%20%20%20crs%3A%20L.CRS.EPSG3857%2C%0A%20%20%20%20%20%20%20%20%20%20%20%20%20%20%20%20%20%20%20%20zoom%3A%2010%2C%0A%20%20%20%20%20%20%20%20%20%20%20%20%20%20%20%20%20%20%20%20zoomControl%3A%20true%2C%0A%20%20%20%20%20%20%20%20%20%20%20%20%20%20%20%20%20%20%20%20preferCanvas%3A%20false%2C%0A%20%20%20%20%20%20%20%20%20%20%20%20%20%20%20%20%7D%0A%20%20%20%20%20%20%20%20%20%20%20%20%29%3B%0A%20%20%20%20%20%20%20%20%20%20%20%20L.control.scale%28%29.addTo%28map_8c77274bb8d14f8baf0d909376083779%29%3B%0A%0A%20%20%20%20%20%20%20%20%20%20%20%20%0A%0A%20%20%20%20%20%20%20%20%0A%20%20%20%20%0A%20%20%20%20%20%20%20%20%20%20%20%20var%20tile_layer_fecb5809b12245a7aa9aa855f578997b%20%3D%20L.tileLayer%28%0A%20%20%20%20%20%20%20%20%20%20%20%20%20%20%20%20%22https%3A//%7Bs%7D.tile.openstreetmap.org/%7Bz%7D/%7Bx%7D/%7By%7D.png%22%2C%0A%20%20%20%20%20%20%20%20%20%20%20%20%20%20%20%20%7B%22attribution%22%3A%20%22Data%20by%20%5Cu0026copy%3B%20%5Cu003ca%20href%3D%5C%22http%3A//openstreetmap.org%5C%22%5Cu003eOpenStreetMap%5Cu003c/a%5Cu003e%2C%20under%20%5Cu003ca%20href%3D%5C%22http%3A//www.openstreetmap.org/copyright%5C%22%5Cu003eODbL%5Cu003c/a%5Cu003e.%22%2C%20%22detectRetina%22%3A%20false%2C%20%22maxNativeZoom%22%3A%2018%2C%20%22maxZoom%22%3A%2018%2C%20%22minZoom%22%3A%200%2C%20%22noWrap%22%3A%20false%2C%20%22opacity%22%3A%201%2C%20%22subdomains%22%3A%20%22abc%22%2C%20%22tms%22%3A%20false%7D%0A%20%20%20%20%20%20%20%20%20%20%20%20%29.addTo%28map_8c77274bb8d14f8baf0d909376083779%29%3B%0A%20%20%20%20%20%20%20%20%0A%20%20%20%20%0A%20%20%20%20%20%20%20%20%20%20%20%20map_8c77274bb8d14f8baf0d909376083779.fitBounds%28%0A%20%20%20%20%20%20%20%20%20%20%20%20%20%20%20%20%5B%5B37.923048104678315%2C%20-122.32083756009808%5D%2C%20%5B37.92832447205774%2C%20-122.31661034995996%5D%5D%2C%0A%20%20%20%20%20%20%20%20%20%20%20%20%20%20%20%20%7B%7D%0A%20%20%20%20%20%20%20%20%20%20%20%20%29%3B%0A%20%20%20%20%20%20%20%20%0A%20%20%20%20%0A%20%20%20%20%20%20%20%20function%20geo_json_c9b8a4b0bbd04bd49b409920786c825a_styler%28feature%29%20%7B%0A%20%20%20%20%20%20%20%20%20%20%20%20switch%28feature.id%29%20%7B%0A%20%20%20%20%20%20%20%20%20%20%20%20%20%20%20%20default%3A%0A%20%20%20%20%20%20%20%20%20%20%20%20%20%20%20%20%20%20%20%20return%20%7B%22fillOpacity%22%3A%200.5%2C%20%22weight%22%3A%202%7D%3B%0A%20%20%20%20%20%20%20%20%20%20%20%20%7D%0A%20%20%20%20%20%20%20%20%7D%0A%20%20%20%20%20%20%20%20function%20geo_json_c9b8a4b0bbd04bd49b409920786c825a_highlighter%28feature%29%20%7B%0A%20%20%20%20%20%20%20%20%20%20%20%20switch%28feature.id%29%20%7B%0A%20%20%20%20%20%20%20%20%20%20%20%20%20%20%20%20default%3A%0A%20%20%20%20%20%20%20%20%20%20%20%20%20%20%20%20%20%20%20%20return%20%7B%22fillOpacity%22%3A%200.75%7D%3B%0A%20%20%20%20%20%20%20%20%20%20%20%20%7D%0A%20%20%20%20%20%20%20%20%7D%0A%20%20%20%20%20%20%20%20function%20geo_json_c9b8a4b0bbd04bd49b409920786c825a_pointToLayer%28feature%2C%20latlng%29%20%7B%0A%20%20%20%20%20%20%20%20%20%20%20%20var%20opts%20%3D%20%7B%22bubblingMouseEvents%22%3A%20true%2C%20%22color%22%3A%20%22%233388ff%22%2C%20%22dashArray%22%3A%20null%2C%20%22dashOffset%22%3A%20null%2C%20%22fill%22%3A%20true%2C%20%22fillColor%22%3A%20%22%233388ff%22%2C%20%22fillOpacity%22%3A%200.2%2C%20%22fillRule%22%3A%20%22evenodd%22%2C%20%22lineCap%22%3A%20%22round%22%2C%20%22lineJoin%22%3A%20%22round%22%2C%20%22opacity%22%3A%201.0%2C%20%22radius%22%3A%202%2C%20%22stroke%22%3A%20true%2C%20%22weight%22%3A%203%7D%3B%0A%20%20%20%20%20%20%20%20%20%20%20%20%0A%20%20%20%20%20%20%20%20%20%20%20%20let%20style%20%3D%20geo_json_c9b8a4b0bbd04bd49b409920786c825a_styler%28feature%29%0A%20%20%20%20%20%20%20%20%20%20%20%20Object.assign%28opts%2C%20style%29%0A%20%20%20%20%20%20%20%20%20%20%20%20%0A%20%20%20%20%20%20%20%20%20%20%20%20return%20new%20L.CircleMarker%28latlng%2C%20opts%29%0A%20%20%20%20%20%20%20%20%7D%0A%0A%20%20%20%20%20%20%20%20function%20geo_json_c9b8a4b0bbd04bd49b409920786c825a_onEachFeature%28feature%2C%20layer%29%20%7B%0A%20%20%20%20%20%20%20%20%20%20%20%20layer.on%28%7B%0A%20%20%20%20%20%20%20%20%20%20%20%20%20%20%20%20mouseout%3A%20function%28e%29%20%7B%0A%20%20%20%20%20%20%20%20%20%20%20%20%20%20%20%20%20%20%20%20if%28typeof%20e.target.setStyle%20%3D%3D%3D%20%22function%22%29%7B%0A%20%20%20%20%20%20%20%20%20%20%20%20%20%20%20%20%20%20%20%20%20%20%20%20geo_json_c9b8a4b0bbd04bd49b409920786c825a.resetStyle%28e.target%29%3B%0A%20%20%20%20%20%20%20%20%20%20%20%20%20%20%20%20%20%20%20%20%7D%0A%20%20%20%20%20%20%20%20%20%20%20%20%20%20%20%20%7D%2C%0A%20%20%20%20%20%20%20%20%20%20%20%20%20%20%20%20mouseover%3A%20function%28e%29%20%7B%0A%20%20%20%20%20%20%20%20%20%20%20%20%20%20%20%20%20%20%20%20if%28typeof%20e.target.setStyle%20%3D%3D%3D%20%22function%22%29%7B%0A%20%20%20%20%20%20%20%20%20%20%20%20%20%20%20%20%20%20%20%20%20%20%20%20const%20highlightStyle%20%3D%20geo_json_c9b8a4b0bbd04bd49b409920786c825a_highlighter%28e.target.feature%29%0A%20%20%20%20%20%20%20%20%20%20%20%20%20%20%20%20%20%20%20%20%20%20%20%20e.target.setStyle%28highlightStyle%29%3B%0A%20%20%20%20%20%20%20%20%20%20%20%20%20%20%20%20%20%20%20%20%7D%0A%20%20%20%20%20%20%20%20%20%20%20%20%20%20%20%20%7D%2C%0A%20%20%20%20%20%20%20%20%20%20%20%20%7D%29%3B%0A%20%20%20%20%20%20%20%20%7D%3B%0A%20%20%20%20%20%20%20%20var%20geo_json_c9b8a4b0bbd04bd49b409920786c825a%20%3D%20L.geoJson%28null%2C%20%7B%0A%20%20%20%20%20%20%20%20%20%20%20%20%20%20%20%20onEachFeature%3A%20geo_json_c9b8a4b0bbd04bd49b409920786c825a_onEachFeature%2C%0A%20%20%20%20%20%20%20%20%20%20%20%20%0A%20%20%20%20%20%20%20%20%20%20%20%20%20%20%20%20style%3A%20geo_json_c9b8a4b0bbd04bd49b409920786c825a_styler%2C%0A%20%20%20%20%20%20%20%20%20%20%20%20%20%20%20%20pointToLayer%3A%20geo_json_c9b8a4b0bbd04bd49b409920786c825a_pointToLayer%0A%20%20%20%20%20%20%20%20%7D%29%3B%0A%0A%20%20%20%20%20%20%20%20function%20geo_json_c9b8a4b0bbd04bd49b409920786c825a_add%20%28data%29%20%7B%0A%20%20%20%20%20%20%20%20%20%20%20%20geo_json_c9b8a4b0bbd04bd49b409920786c825a%0A%20%20%20%20%20%20%20%20%20%20%20%20%20%20%20%20.addData%28data%29%0A%20%20%20%20%20%20%20%20%20%20%20%20%20%20%20%20.addTo%28map_8c77274bb8d14f8baf0d909376083779%29%3B%0A%20%20%20%20%20%20%20%20%7D%0A%20%20%20%20%20%20%20%20%20%20%20%20geo_json_c9b8a4b0bbd04bd49b409920786c825a_add%28%7B%22bbox%22%3A%20%5B-122.32083756009808%2C%2037.923048104678315%2C%20-122.31661034995996%2C%2037.92832447205774%5D%2C%20%22features%22%3A%20%5B%7B%22bbox%22%3A%20%5B-122.32083756009808%2C%2037.923048104678315%2C%20-122.31661034995996%2C%2037.92832447205774%5D%2C%20%22geometry%22%3A%20%7B%22coordinates%22%3A%20%5B%5B%5B-122.31759831861287%2C%2037.923048104678315%5D%2C%20%5B-122.31661034995996%2C%2037.923418612567616%5D%2C%20%5B-122.32009253455651%2C%2037.92832447205774%5D%2C%20%5B-122.32083756009808%2C%2037.92809451720579%5D%2C%20%5B-122.31928272418513%2C%2037.92582048050552%5D%2C%20%5B-122.32025449663072%2C%2037.9257821534417%5D%2C%20%5B-122.32006014214161%2C%2037.92518169349927%5D%2C%20%5B-122.31881303416979%2C%2037.925130590299005%5D%2C%20%5B-122.31759831861287%2C%2037.923048104678315%5D%5D%5D%2C%20%22type%22%3A%20%22Polygon%22%7D%2C%20%22id%22%3A%20%220%22%2C%20%22properties%22%3A%20%7B%7D%2C%20%22type%22%3A%20%22Feature%22%7D%5D%2C%20%22type%22%3A%20%22FeatureCollection%22%7D%29%3B%0A%0A%20%20%20%20%20%20%20%20%0A%20%20%20%20%0A%20%20%20%20geo_json_c9b8a4b0bbd04bd49b409920786c825a.bindTooltip%28%0A%20%20%20%20function%28layer%29%7B%0A%20%20%20%20let%20div%20%3D%20L.DomUtil.create%28%27div%27%29%3B%0A%20%20%20%20%0A%20%20%20%20return%20div%0A%20%20%20%20%7D%0A%20%20%20%20%2C%7B%22className%22%3A%20%22foliumtooltip%22%2C%20%22sticky%22%3A%20true%7D%29%3B%0A%20%20%20%20%20%20%20%20%20%20%20%20%20%20%20%20%20%20%20%20%20%0A%3C/script%3E onload=\"this.contentDocument.open();this.contentDocument.write(    decodeURIComponent(this.getAttribute('data-html')));this.contentDocument.close();\" allowfullscreen webkitallowfullscreen mozallowfullscreen></iframe></div></div>"
      ],
      "text/plain": [
       "<folium.folium.Map at 0x7fe90def3b50>"
      ]
     },
     "execution_count": 12,
     "metadata": {},
     "output_type": "execute_result"
    }
   ],
   "source": [
    "new_ac.explore()"
   ]
  },
  {
   "cell_type": "code",
   "execution_count": 13,
   "id": "17c5c3b1-5dca-4da5-811e-c02f3f0b6bea",
   "metadata": {},
   "outputs": [
    {
     "name": "stdout",
     "output_type": "stream",
     "text": [
      "found parquet\n"
     ]
    }
   ],
   "source": [
    "rt_day = rt_filter_map_plot.from_gcs(4, dt.date(2022, 5, 5))"
   ]
  },
  {
   "cell_type": "code",
   "execution_count": 14,
   "id": "89f85528-8420-4d54-a1d6-35b2850f707a",
   "metadata": {},
   "outputs": [],
   "source": [
    "rt_day.add_corridor(new_ac)"
   ]
  },
  {
   "cell_type": "code",
   "execution_count": 21,
   "id": "adc4d1f2-bce8-41dd-9a47-1decbc79b959",
   "metadata": {},
   "outputs": [
    {
     "data": {
      "text/html": [
       "<div>\n",
       "<style scoped>\n",
       "    .dataframe tbody tr th:only-of-type {\n",
       "        vertical-align: middle;\n",
       "    }\n",
       "\n",
       "    .dataframe tbody tr th {\n",
       "        vertical-align: top;\n",
       "    }\n",
       "\n",
       "    .dataframe thead th {\n",
       "        text-align: right;\n",
       "    }\n",
       "</style>\n",
       "<table border=\"1\" class=\"dataframe\">\n",
       "  <thead>\n",
       "    <tr style=\"text-align: right;\">\n",
       "      <th></th>\n",
       "      <th>route_short_name</th>\n",
       "    </tr>\n",
       "  </thead>\n",
       "  <tbody>\n",
       "    <tr>\n",
       "      <th>0</th>\n",
       "      <td>800</td>\n",
       "    </tr>\n",
       "    <tr>\n",
       "      <th>1</th>\n",
       "      <td>72</td>\n",
       "    </tr>\n",
       "    <tr>\n",
       "      <th>2</th>\n",
       "      <td>72M</td>\n",
       "    </tr>\n",
       "    <tr>\n",
       "      <th>3</th>\n",
       "      <td>76</td>\n",
       "    </tr>\n",
       "    <tr>\n",
       "      <th>4</th>\n",
       "      <td>376</td>\n",
       "    </tr>\n",
       "    <tr>\n",
       "      <th>5</th>\n",
       "      <td>675</td>\n",
       "    </tr>\n",
       "    <tr>\n",
       "      <th>6</th>\n",
       "      <td>L</td>\n",
       "    </tr>\n",
       "    <tr>\n",
       "      <th>7</th>\n",
       "      <td>667</td>\n",
       "    </tr>\n",
       "    <tr>\n",
       "      <th>8</th>\n",
       "      <td>7</td>\n",
       "    </tr>\n",
       "  </tbody>\n",
       "</table>\n",
       "</div>"
      ],
      "text/plain": [
       "  route_short_name\n",
       "0              800\n",
       "1               72\n",
       "2              72M\n",
       "3               76\n",
       "4              376\n",
       "5              675\n",
       "6                L\n",
       "7              667\n",
       "8                7"
      ]
     },
     "execution_count": 21,
     "metadata": {},
     "output_type": "execute_result"
    }
   ],
   "source": [
    "rt_day.corridor_stop_delays >> distinct(_.route_short_name)"
   ]
  },
  {
   "cell_type": "code",
   "execution_count": 15,
   "id": "ac97b74b-d086-48b4-8f4b-1700fccec772",
   "metadata": {},
   "outputs": [
    {
     "data": {
      "text/plain": [
       "{'schedule_metric_minutes': 395.0083333333333,\n",
       " 'speed_metric_minutes': 949.5481268887544}"
      ]
     },
     "execution_count": 15,
     "metadata": {},
     "output_type": "execute_result"
    }
   ],
   "source": [
    "rt_day.corridor_metrics()"
   ]
  },
  {
   "cell_type": "code",
   "execution_count": 16,
   "id": "aab74d31-52d0-46df-ba9d-57d3d035920f",
   "metadata": {},
   "outputs": [
    {
     "data": {
      "text/html": [
       "<div style=\"width:100%;\"><div style=\"position:relative;width:100%;height:0;padding-bottom:60%;\"><span style=\"color:#565656\">Make this Notebook Trusted to load map: File -> Trust Notebook</span><iframe src=\"about:blank\" style=\"position:absolute;width:100%;height:100%;left:0;top:0;border:none !important;\" data-html=%3C%21DOCTYPE%20html%3E%0A%3Chead%3E%20%20%20%20%0A%20%20%20%20%3Cmeta%20http-equiv%3D%22content-type%22%20content%3D%22text/html%3B%20charset%3DUTF-8%22%20/%3E%0A%20%20%20%20%0A%20%20%20%20%20%20%20%20%3Cscript%3E%0A%20%20%20%20%20%20%20%20%20%20%20%20L_NO_TOUCH%20%3D%20false%3B%0A%20%20%20%20%20%20%20%20%20%20%20%20L_DISABLE_3D%20%3D%20false%3B%0A%20%20%20%20%20%20%20%20%3C/script%3E%0A%20%20%20%20%0A%20%20%20%20%3Cstyle%3Ehtml%2C%20body%20%7Bwidth%3A%20100%25%3Bheight%3A%20100%25%3Bmargin%3A%200%3Bpadding%3A%200%3B%7D%3C/style%3E%0A%20%20%20%20%3Cstyle%3E%23map%20%7Bposition%3Aabsolute%3Btop%3A0%3Bbottom%3A0%3Bright%3A0%3Bleft%3A0%3B%7D%3C/style%3E%0A%20%20%20%20%3Cscript%20src%3D%22https%3A//cdn.jsdelivr.net/npm/leaflet%401.6.0/dist/leaflet.js%22%3E%3C/script%3E%0A%20%20%20%20%3Cscript%20src%3D%22https%3A//code.jquery.com/jquery-1.12.4.min.js%22%3E%3C/script%3E%0A%20%20%20%20%3Cscript%20src%3D%22https%3A//maxcdn.bootstrapcdn.com/bootstrap/3.2.0/js/bootstrap.min.js%22%3E%3C/script%3E%0A%20%20%20%20%3Cscript%20src%3D%22https%3A//cdnjs.cloudflare.com/ajax/libs/Leaflet.awesome-markers/2.0.2/leaflet.awesome-markers.js%22%3E%3C/script%3E%0A%20%20%20%20%3Clink%20rel%3D%22stylesheet%22%20href%3D%22https%3A//cdn.jsdelivr.net/npm/leaflet%401.6.0/dist/leaflet.css%22/%3E%0A%20%20%20%20%3Clink%20rel%3D%22stylesheet%22%20href%3D%22https%3A//maxcdn.bootstrapcdn.com/bootstrap/3.2.0/css/bootstrap.min.css%22/%3E%0A%20%20%20%20%3Clink%20rel%3D%22stylesheet%22%20href%3D%22https%3A//maxcdn.bootstrapcdn.com/bootstrap/3.2.0/css/bootstrap-theme.min.css%22/%3E%0A%20%20%20%20%3Clink%20rel%3D%22stylesheet%22%20href%3D%22https%3A//maxcdn.bootstrapcdn.com/font-awesome/4.6.3/css/font-awesome.min.css%22/%3E%0A%20%20%20%20%3Clink%20rel%3D%22stylesheet%22%20href%3D%22https%3A//cdnjs.cloudflare.com/ajax/libs/Leaflet.awesome-markers/2.0.2/leaflet.awesome-markers.css%22/%3E%0A%20%20%20%20%3Clink%20rel%3D%22stylesheet%22%20href%3D%22https%3A//cdn.jsdelivr.net/gh/python-visualization/folium/folium/templates/leaflet.awesome.rotate.min.css%22/%3E%0A%20%20%20%20%0A%20%20%20%20%20%20%20%20%20%20%20%20%3Cmeta%20name%3D%22viewport%22%20content%3D%22width%3Ddevice-width%2C%0A%20%20%20%20%20%20%20%20%20%20%20%20%20%20%20%20initial-scale%3D1.0%2C%20maximum-scale%3D1.0%2C%20user-scalable%3Dno%22%20/%3E%0A%20%20%20%20%20%20%20%20%20%20%20%20%3Cstyle%3E%0A%20%20%20%20%20%20%20%20%20%20%20%20%20%20%20%20%23map_41f80e805b5348b6a2964bcace06fcdc%20%7B%0A%20%20%20%20%20%20%20%20%20%20%20%20%20%20%20%20%20%20%20%20position%3A%20relative%3B%0A%20%20%20%20%20%20%20%20%20%20%20%20%20%20%20%20%20%20%20%20width%3A%20100.0%25%3B%0A%20%20%20%20%20%20%20%20%20%20%20%20%20%20%20%20%20%20%20%20height%3A%20100.0%25%3B%0A%20%20%20%20%20%20%20%20%20%20%20%20%20%20%20%20%20%20%20%20left%3A%200.0%25%3B%0A%20%20%20%20%20%20%20%20%20%20%20%20%20%20%20%20%20%20%20%20top%3A%200.0%25%3B%0A%20%20%20%20%20%20%20%20%20%20%20%20%20%20%20%20%7D%0A%20%20%20%20%20%20%20%20%20%20%20%20%3C/style%3E%0A%20%20%20%20%20%20%20%20%0A%20%20%20%20%0A%20%20%20%20%20%20%20%20%20%20%20%20%20%20%20%20%20%20%20%20%3Cstyle%3E%0A%20%20%20%20%20%20%20%20%20%20%20%20%20%20%20%20%20%20%20%20%20%20%20%20.foliumtooltip%20%7B%0A%20%20%20%20%20%20%20%20%20%20%20%20%20%20%20%20%20%20%20%20%20%20%20%20%20%20%20%20%0A%20%20%20%20%20%20%20%20%20%20%20%20%20%20%20%20%20%20%20%20%20%20%20%20%7D%0A%20%20%20%20%20%20%20%20%20%20%20%20%20%20%20%20%20%20%20%20%20%20%20.foliumtooltip%20table%7B%0A%20%20%20%20%20%20%20%20%20%20%20%20%20%20%20%20%20%20%20%20%20%20%20%20%20%20%20%20margin%3A%20auto%3B%0A%20%20%20%20%20%20%20%20%20%20%20%20%20%20%20%20%20%20%20%20%20%20%20%20%7D%0A%20%20%20%20%20%20%20%20%20%20%20%20%20%20%20%20%20%20%20%20%20%20%20%20.foliumtooltip%20tr%7B%0A%20%20%20%20%20%20%20%20%20%20%20%20%20%20%20%20%20%20%20%20%20%20%20%20%20%20%20%20text-align%3A%20left%3B%0A%20%20%20%20%20%20%20%20%20%20%20%20%20%20%20%20%20%20%20%20%20%20%20%20%7D%0A%20%20%20%20%20%20%20%20%20%20%20%20%20%20%20%20%20%20%20%20%20%20%20%20.foliumtooltip%20th%7B%0A%20%20%20%20%20%20%20%20%20%20%20%20%20%20%20%20%20%20%20%20%20%20%20%20%20%20%20%20padding%3A%202px%3B%20padding-right%3A%208px%3B%0A%20%20%20%20%20%20%20%20%20%20%20%20%20%20%20%20%20%20%20%20%20%20%20%20%7D%0A%20%20%20%20%20%20%20%20%20%20%20%20%20%20%20%20%20%20%20%20%3C/style%3E%0A%20%20%20%20%20%20%20%20%20%20%20%20%0A%3C/head%3E%0A%3Cbody%3E%20%20%20%20%0A%20%20%20%20%0A%20%20%20%20%20%20%20%20%20%20%20%20%3Cdiv%20class%3D%22folium-map%22%20id%3D%22map_41f80e805b5348b6a2964bcace06fcdc%22%20%3E%3C/div%3E%0A%20%20%20%20%20%20%20%20%0A%3C/body%3E%0A%3Cscript%3E%20%20%20%20%0A%20%20%20%20%0A%20%20%20%20%20%20%20%20%20%20%20%20var%20map_41f80e805b5348b6a2964bcace06fcdc%20%3D%20L.map%28%0A%20%20%20%20%20%20%20%20%20%20%20%20%20%20%20%20%22map_41f80e805b5348b6a2964bcace06fcdc%22%2C%0A%20%20%20%20%20%20%20%20%20%20%20%20%20%20%20%20%7B%0A%20%20%20%20%20%20%20%20%20%20%20%20%20%20%20%20%20%20%20%20center%3A%20%5B37.926619%2C%20-122.31952849999999%5D%2C%0A%20%20%20%20%20%20%20%20%20%20%20%20%20%20%20%20%20%20%20%20crs%3A%20L.CRS.EPSG3857%2C%0A%20%20%20%20%20%20%20%20%20%20%20%20%20%20%20%20%20%20%20%20zoom%3A%2010%2C%0A%20%20%20%20%20%20%20%20%20%20%20%20%20%20%20%20%20%20%20%20zoomControl%3A%20true%2C%0A%20%20%20%20%20%20%20%20%20%20%20%20%20%20%20%20%20%20%20%20preferCanvas%3A%20false%2C%0A%20%20%20%20%20%20%20%20%20%20%20%20%20%20%20%20%7D%0A%20%20%20%20%20%20%20%20%20%20%20%20%29%3B%0A%20%20%20%20%20%20%20%20%20%20%20%20L.control.scale%28%29.addTo%28map_41f80e805b5348b6a2964bcace06fcdc%29%3B%0A%0A%20%20%20%20%20%20%20%20%20%20%20%20%0A%0A%20%20%20%20%20%20%20%20%0A%20%20%20%20%0A%20%20%20%20%20%20%20%20%20%20%20%20var%20tile_layer_d902b68b5e3248febc05bc701d45d947%20%3D%20L.tileLayer%28%0A%20%20%20%20%20%20%20%20%20%20%20%20%20%20%20%20%22https%3A//a.basemaps.cartocdn.com/light_all/%7Bz%7D/%7Bx%7D/%7By%7D%7Br%7D.png%22%2C%0A%20%20%20%20%20%20%20%20%20%20%20%20%20%20%20%20%7B%22attribution%22%3A%20%22%5Cu0026copy%3B%20%5Cu003ca%20href%3D%5C%22https%3A//www.openstreetmap.org/copyright%5C%22%5Cu003eOpenStreetMap%5Cu003c/a%5Cu003e%20contributors%20%5Cu0026copy%3B%20%5Cu003ca%20href%3D%5C%22https%3A//carto.com/attributions%5C%22%5Cu003eCARTO%5Cu003c/a%5Cu003e%22%2C%20%22detectRetina%22%3A%20false%2C%20%22maxNativeZoom%22%3A%2020%2C%20%22maxZoom%22%3A%2020%2C%20%22minZoom%22%3A%200%2C%20%22noWrap%22%3A%20false%2C%20%22opacity%22%3A%201%2C%20%22subdomains%22%3A%20%22abc%22%2C%20%22tms%22%3A%20false%7D%0A%20%20%20%20%20%20%20%20%20%20%20%20%29.addTo%28map_41f80e805b5348b6a2964bcace06fcdc%29%3B%0A%20%20%20%20%20%20%20%20%0A%20%20%20%20%0A%20%20%20%20%20%20%20%20%20%20%20%20map_41f80e805b5348b6a2964bcace06fcdc.fitBounds%28%0A%20%20%20%20%20%20%20%20%20%20%20%20%20%20%20%20%5B%5B37.92015800000002%2C%20-122.324112%5D%2C%20%5B37.93307999999998%2C%20-122.31494499999998%5D%5D%2C%0A%20%20%20%20%20%20%20%20%20%20%20%20%20%20%20%20%7B%7D%0A%20%20%20%20%20%20%20%20%20%20%20%20%29%3B%0A%20%20%20%20%20%20%20%20%0A%20%20%20%20%0A%20%20%20%20%20%20%20%20function%20geo_json_45c92be4c51f454dad57afa68c89af36_styler%28feature%29%20%7B%0A%20%20%20%20%20%20%20%20%20%20%20%20switch%28feature.id%29%20%7B%0A%20%20%20%20%20%20%20%20%20%20%20%20%20%20%20%20default%3A%0A%20%20%20%20%20%20%20%20%20%20%20%20%20%20%20%20%20%20%20%20return%20%7B%22fillOpacity%22%3A%200.5%2C%20%22weight%22%3A%202%7D%3B%0A%20%20%20%20%20%20%20%20%20%20%20%20%7D%0A%20%20%20%20%20%20%20%20%7D%0A%20%20%20%20%20%20%20%20function%20geo_json_45c92be4c51f454dad57afa68c89af36_highlighter%28feature%29%20%7B%0A%20%20%20%20%20%20%20%20%20%20%20%20switch%28feature.id%29%20%7B%0A%20%20%20%20%20%20%20%20%20%20%20%20%20%20%20%20default%3A%0A%20%20%20%20%20%20%20%20%20%20%20%20%20%20%20%20%20%20%20%20return%20%7B%22fillOpacity%22%3A%200.75%7D%3B%0A%20%20%20%20%20%20%20%20%20%20%20%20%7D%0A%20%20%20%20%20%20%20%20%7D%0A%20%20%20%20%20%20%20%20function%20geo_json_45c92be4c51f454dad57afa68c89af36_pointToLayer%28feature%2C%20latlng%29%20%7B%0A%20%20%20%20%20%20%20%20%20%20%20%20var%20opts%20%3D%20%7B%22bubblingMouseEvents%22%3A%20true%2C%20%22color%22%3A%20%22%233388ff%22%2C%20%22dashArray%22%3A%20null%2C%20%22dashOffset%22%3A%20null%2C%20%22fill%22%3A%20true%2C%20%22fillColor%22%3A%20%22%233388ff%22%2C%20%22fillOpacity%22%3A%200.2%2C%20%22fillRule%22%3A%20%22evenodd%22%2C%20%22lineCap%22%3A%20%22round%22%2C%20%22lineJoin%22%3A%20%22round%22%2C%20%22opacity%22%3A%201.0%2C%20%22radius%22%3A%202%2C%20%22stroke%22%3A%20true%2C%20%22weight%22%3A%203%7D%3B%0A%20%20%20%20%20%20%20%20%20%20%20%20%0A%20%20%20%20%20%20%20%20%20%20%20%20let%20style%20%3D%20geo_json_45c92be4c51f454dad57afa68c89af36_styler%28feature%29%0A%20%20%20%20%20%20%20%20%20%20%20%20Object.assign%28opts%2C%20style%29%0A%20%20%20%20%20%20%20%20%20%20%20%20%0A%20%20%20%20%20%20%20%20%20%20%20%20return%20new%20L.CircleMarker%28latlng%2C%20opts%29%0A%20%20%20%20%20%20%20%20%7D%0A%0A%20%20%20%20%20%20%20%20function%20geo_json_45c92be4c51f454dad57afa68c89af36_onEachFeature%28feature%2C%20layer%29%20%7B%0A%20%20%20%20%20%20%20%20%20%20%20%20layer.on%28%7B%0A%20%20%20%20%20%20%20%20%20%20%20%20%20%20%20%20mouseout%3A%20function%28e%29%20%7B%0A%20%20%20%20%20%20%20%20%20%20%20%20%20%20%20%20%20%20%20%20if%28typeof%20e.target.setStyle%20%3D%3D%3D%20%22function%22%29%7B%0A%20%20%20%20%20%20%20%20%20%20%20%20%20%20%20%20%20%20%20%20%20%20%20%20geo_json_45c92be4c51f454dad57afa68c89af36.resetStyle%28e.target%29%3B%0A%20%20%20%20%20%20%20%20%20%20%20%20%20%20%20%20%20%20%20%20%7D%0A%20%20%20%20%20%20%20%20%20%20%20%20%20%20%20%20%7D%2C%0A%20%20%20%20%20%20%20%20%20%20%20%20%20%20%20%20mouseover%3A%20function%28e%29%20%7B%0A%20%20%20%20%20%20%20%20%20%20%20%20%20%20%20%20%20%20%20%20if%28typeof%20e.target.setStyle%20%3D%3D%3D%20%22function%22%29%7B%0A%20%20%20%20%20%20%20%20%20%20%20%20%20%20%20%20%20%20%20%20%20%20%20%20const%20highlightStyle%20%3D%20geo_json_45c92be4c51f454dad57afa68c89af36_highlighter%28e.target.feature%29%0A%20%20%20%20%20%20%20%20%20%20%20%20%20%20%20%20%20%20%20%20%20%20%20%20e.target.setStyle%28highlightStyle%29%3B%0A%20%20%20%20%20%20%20%20%20%20%20%20%20%20%20%20%20%20%20%20%7D%0A%20%20%20%20%20%20%20%20%20%20%20%20%20%20%20%20%7D%2C%0A%20%20%20%20%20%20%20%20%20%20%20%20%7D%29%3B%0A%20%20%20%20%20%20%20%20%7D%3B%0A%20%20%20%20%20%20%20%20var%20geo_json_45c92be4c51f454dad57afa68c89af36%20%3D%20L.geoJson%28null%2C%20%7B%0A%20%20%20%20%20%20%20%20%20%20%20%20%20%20%20%20onEachFeature%3A%20geo_json_45c92be4c51f454dad57afa68c89af36_onEachFeature%2C%0A%20%20%20%20%20%20%20%20%20%20%20%20%0A%20%20%20%20%20%20%20%20%20%20%20%20%20%20%20%20style%3A%20geo_json_45c92be4c51f454dad57afa68c89af36_styler%2C%0A%20%20%20%20%20%20%20%20%20%20%20%20%20%20%20%20pointToLayer%3A%20geo_json_45c92be4c51f454dad57afa68c89af36_pointToLayer%0A%20%20%20%20%20%20%20%20%7D%29%3B%0A%0A%20%20%20%20%20%20%20%20function%20geo_json_45c92be4c51f454dad57afa68c89af36_add%20%28data%29%20%7B%0A%20%20%20%20%20%20%20%20%20%20%20%20geo_json_45c92be4c51f454dad57afa68c89af36%0A%20%20%20%20%20%20%20%20%20%20%20%20%20%20%20%20.addData%28data%29%0A%20%20%20%20%20%20%20%20%20%20%20%20%20%20%20%20.addTo%28map_41f80e805b5348b6a2964bcace06fcdc%29%3B%0A%20%20%20%20%20%20%20%20%7D%0A%20%20%20%20%20%20%20%20%20%20%20%20geo_json_45c92be4c51f454dad57afa68c89af36_add%28%7B%22bbox%22%3A%20%5B-122.324112%2C%2037.92015800000002%2C%20-122.31494499999998%2C%2037.93307999999998%5D%2C%20%22features%22%3A%20%5B%7B%22bbox%22%3A%20%5B-122.319269%2C%2037.925541999999965%2C%20-122.319269%2C%2037.925541999999965%5D%2C%20%22geometry%22%3A%20%7B%22coordinates%22%3A%20%5B-122.319269%2C%2037.925541999999965%5D%2C%20%22type%22%3A%20%22Point%22%7D%2C%20%22id%22%3A%20%2274%22%2C%20%22properties%22%3A%20%7B%22stop_id%22%3A%20%22859%22%2C%20%22stop_sequence%22%3A%202.0%7D%2C%20%22type%22%3A%20%22Feature%22%7D%2C%20%7B%22bbox%22%3A%20%5B-122.319269%2C%2037.925541999999965%2C%20-122.319269%2C%2037.925541999999965%5D%2C%20%22geometry%22%3A%20%7B%22coordinates%22%3A%20%5B-122.319269%2C%2037.925541999999965%5D%2C%20%22type%22%3A%20%22Point%22%7D%2C%20%22id%22%3A%20%22101%22%2C%20%22properties%22%3A%20%7B%22stop_id%22%3A%20%22859%22%2C%20%22stop_sequence%22%3A%202.0%7D%2C%20%22type%22%3A%20%22Feature%22%7D%2C%20%7B%22bbox%22%3A%20%5B-122.32022%2C%2037.92808999999999%2C%20-122.32022%2C%2037.92808999999999%5D%2C%20%22geometry%22%3A%20%7B%22coordinates%22%3A%20%5B-122.32022%2C%2037.92808999999999%5D%2C%20%22type%22%3A%20%22Point%22%7D%2C%20%22id%22%3A%20%22164%22%2C%20%22properties%22%3A%20%7B%22stop_id%22%3A%20%2253019%22%2C%20%22stop_sequence%22%3A%202.0%7D%2C%20%22type%22%3A%20%22Feature%22%7D%2C%20%7B%22bbox%22%3A%20%5B-122.32022%2C%2037.92808999999999%2C%20-122.32022%2C%2037.92808999999999%5D%2C%20%22geometry%22%3A%20%7B%22coordinates%22%3A%20%5B-122.32022%2C%2037.92808999999999%5D%2C%20%22type%22%3A%20%22Point%22%7D%2C%20%22id%22%3A%20%22251%22%2C%20%22properties%22%3A%20%7B%22stop_id%22%3A%20%226264%22%2C%20%22stop_sequence%22%3A%202.0%7D%2C%20%22type%22%3A%20%22Feature%22%7D%2C%20%7B%22bbox%22%3A%20%5B-122.323224%2C%2037.92558299999994%2C%20-122.323224%2C%2037.92558299999994%5D%2C%20%22geometry%22%3A%20%7B%22coordinates%22%3A%20%5B-122.323224%2C%2037.92558299999994%5D%2C%20%22type%22%3A%20%22Point%22%7D%2C%20%22id%22%3A%20%22370%22%2C%20%22properties%22%3A%20%7B%22stop_id%22%3A%20%223924%22%2C%20%22stop_sequence%22%3A%203.0%7D%2C%20%22type%22%3A%20%22Feature%22%7D%2C%20%7B%22bbox%22%3A%20%5B-122.323224%2C%2037.92558299999994%2C%20-122.323224%2C%2037.92558299999994%5D%2C%20%22geometry%22%3A%20%7B%22coordinates%22%3A%20%5B-122.323224%2C%2037.92558299999994%5D%2C%20%22type%22%3A%20%22Point%22%7D%2C%20%22id%22%3A%20%22397%22%2C%20%22properties%22%3A%20%7B%22stop_id%22%3A%20%223924%22%2C%20%22stop_sequence%22%3A%203.0%7D%2C%20%22type%22%3A%20%22Feature%22%7D%2C%20%7B%22bbox%22%3A%20%5B-122.321434%2C%2037.92978899999999%2C%20-122.321434%2C%2037.92978899999999%5D%2C%20%22geometry%22%3A%20%7B%22coordinates%22%3A%20%5B-122.321434%2C%2037.92978899999999%5D%2C%20%22type%22%3A%20%22Point%22%7D%2C%20%22id%22%3A%20%22461%22%2C%20%22properties%22%3A%20%7B%22stop_id%22%3A%20%2253372%22%2C%20%22stop_sequence%22%3A%203.0%7D%2C%20%22type%22%3A%20%22Feature%22%7D%2C%20%7B%22bbox%22%3A%20%5B-122.321434%2C%2037.92978899999999%2C%20-122.321434%2C%2037.92978899999999%5D%2C%20%22geometry%22%3A%20%7B%22coordinates%22%3A%20%5B-122.321434%2C%2037.92978899999999%5D%2C%20%22type%22%3A%20%22Point%22%7D%2C%20%22id%22%3A%20%22549%22%2C%20%22properties%22%3A%20%7B%22stop_id%22%3A%20%22919%22%2C%20%22stop_sequence%22%3A%203.0%7D%2C%20%22type%22%3A%20%22Feature%22%7D%2C%20%7B%22bbox%22%3A%20%5B-122.31533%2C%2037.921201999999994%2C%20-122.31533%2C%2037.921201999999994%5D%2C%20%22geometry%22%3A%20%7B%22coordinates%22%3A%20%5B-122.31533%2C%2037.921201999999994%5D%2C%20%22type%22%3A%20%22Point%22%7D%2C%20%22id%22%3A%20%221321%22%2C%20%22properties%22%3A%20%7B%22stop_id%22%3A%20%2255117%22%2C%20%22stop_sequence%22%3A%206.0%7D%2C%20%22type%22%3A%20%22Feature%22%7D%2C%20%7B%22bbox%22%3A%20%5B-122.31533%2C%2037.921201999999994%2C%20-122.31533%2C%2037.921201999999994%5D%2C%20%22geometry%22%3A%20%7B%22coordinates%22%3A%20%5B-122.31533%2C%2037.921201999999994%5D%2C%20%22type%22%3A%20%22Point%22%7D%2C%20%22id%22%3A%20%221614%22%2C%20%22properties%22%3A%20%7B%22stop_id%22%3A%20%22930%22%2C%20%22stop_sequence%22%3A%207.0%7D%2C%20%22type%22%3A%20%22Feature%22%7D%2C%20%7B%22bbox%22%3A%20%5B-122.318029%2C%2037.92503799999999%2C%20-122.318029%2C%2037.92503799999999%5D%2C%20%22geometry%22%3A%20%7B%22coordinates%22%3A%20%5B-122.318029%2C%2037.92503799999999%5D%2C%20%22type%22%3A%20%22Point%22%7D%2C%20%22id%22%3A%20%221622%22%2C%20%22properties%22%3A%20%7B%22stop_id%22%3A%20%2251356%22%2C%20%22stop_sequence%22%3A%207.0%7D%2C%20%22type%22%3A%20%22Feature%22%7D%2C%20%7B%22bbox%22%3A%20%5B-122.31533%2C%2037.921201999999994%2C%20-122.31533%2C%2037.921201999999994%5D%2C%20%22geometry%22%3A%20%7B%22coordinates%22%3A%20%5B-122.31533%2C%2037.921201999999994%5D%2C%20%22type%22%3A%20%22Point%22%7D%2C%20%22id%22%3A%20%221623%22%2C%20%22properties%22%3A%20%7B%22stop_id%22%3A%20%2255117%22%2C%20%22stop_sequence%22%3A%207.0%7D%2C%20%22type%22%3A%20%22Feature%22%7D%2C%20%7B%22bbox%22%3A%20%5B-122.318029%2C%2037.92503799999999%2C%20-122.318029%2C%2037.92503799999999%5D%2C%20%22geometry%22%3A%20%7B%22coordinates%22%3A%20%5B-122.318029%2C%2037.92503799999999%5D%2C%20%22type%22%3A%20%22Point%22%7D%2C%20%22id%22%3A%20%221915%22%2C%20%22properties%22%3A%20%7B%22stop_id%22%3A%20%22920%22%2C%20%22stop_sequence%22%3A%208.0%7D%2C%20%22type%22%3A%20%22Feature%22%7D%2C%20%7B%22bbox%22%3A%20%5B-122.32022%2C%2037.92808999999999%2C%20-122.32022%2C%2037.92808999999999%5D%2C%20%22geometry%22%3A%20%7B%22coordinates%22%3A%20%5B-122.32022%2C%2037.92808999999999%5D%2C%20%22type%22%3A%20%22Point%22%7D%2C%20%22id%22%3A%20%221923%22%2C%20%22properties%22%3A%20%7B%22stop_id%22%3A%20%2253019%22%2C%20%22stop_sequence%22%3A%208.0%7D%2C%20%22type%22%3A%20%22Feature%22%7D%2C%20%7B%22bbox%22%3A%20%5B-122.318029%2C%2037.92503799999999%2C%20-122.318029%2C%2037.92503799999999%5D%2C%20%22geometry%22%3A%20%7B%22coordinates%22%3A%20%5B-122.318029%2C%2037.92503799999999%5D%2C%20%22type%22%3A%20%22Point%22%7D%2C%20%22id%22%3A%20%221924%22%2C%20%22properties%22%3A%20%7B%22stop_id%22%3A%20%2251356%22%2C%20%22stop_sequence%22%3A%208.0%7D%2C%20%22type%22%3A%20%22Feature%22%7D%2C%20%7B%22bbox%22%3A%20%5B-122.323514%2C%2037.93272300000001%2C%20-122.323514%2C%2037.93272300000001%5D%2C%20%22geometry%22%3A%20%7B%22coordinates%22%3A%20%5B-122.323514%2C%2037.93272300000001%5D%2C%20%22type%22%3A%20%22Point%22%7D%2C%20%22id%22%3A%20%222216%22%2C%20%22properties%22%3A%20%7B%22stop_id%22%3A%20%224111%22%2C%20%22stop_sequence%22%3A%209.0%7D%2C%20%22type%22%3A%20%22Feature%22%7D%2C%20%7B%22bbox%22%3A%20%5B-122.321434%2C%2037.92978899999999%2C%20-122.321434%2C%2037.92978899999999%5D%2C%20%22geometry%22%3A%20%7B%22coordinates%22%3A%20%5B-122.321434%2C%2037.92978899999999%5D%2C%20%22type%22%3A%20%22Point%22%7D%2C%20%22id%22%3A%20%222224%22%2C%20%22properties%22%3A%20%7B%22stop_id%22%3A%20%2253372%22%2C%20%22stop_sequence%22%3A%209.0%7D%2C%20%22type%22%3A%20%22Feature%22%7D%2C%20%7B%22bbox%22%3A%20%5B-122.32022%2C%2037.92808999999999%2C%20-122.32022%2C%2037.92808999999999%5D%2C%20%22geometry%22%3A%20%7B%22coordinates%22%3A%20%5B-122.32022%2C%2037.92808999999999%5D%2C%20%22type%22%3A%20%22Point%22%7D%2C%20%22id%22%3A%20%222225%22%2C%20%22properties%22%3A%20%7B%22stop_id%22%3A%20%2253019%22%2C%20%22stop_sequence%22%3A%209.0%7D%2C%20%22type%22%3A%20%22Feature%22%7D%2C%20%7B%22bbox%22%3A%20%5B-122.324112%2C%2037.93307999999998%2C%20-122.324112%2C%2037.93307999999998%5D%2C%20%22geometry%22%3A%20%7B%22coordinates%22%3A%20%5B-122.324112%2C%2037.93307999999998%5D%2C%20%22type%22%3A%20%22Point%22%7D%2C%20%22id%22%3A%20%222300%22%2C%20%22properties%22%3A%20%7B%22stop_id%22%3A%20%224110%22%2C%20%22stop_sequence%22%3A%209.0%7D%2C%20%22type%22%3A%20%22Feature%22%7D%2C%20%7B%22bbox%22%3A%20%5B-122.321434%2C%2037.92978899999999%2C%20-122.321434%2C%2037.92978899999999%5D%2C%20%22geometry%22%3A%20%7B%22coordinates%22%3A%20%5B-122.321434%2C%2037.92978899999999%5D%2C%20%22type%22%3A%20%22Point%22%7D%2C%20%22id%22%3A%20%222525%22%2C%20%22properties%22%3A%20%7B%22stop_id%22%3A%20%2253372%22%2C%20%22stop_sequence%22%3A%2010.0%7D%2C%20%22type%22%3A%20%22Feature%22%7D%2C%20%7B%22bbox%22%3A%20%5B-122.31844199999999%2C%2037.92501500000002%2C%20-122.31844199999999%2C%2037.92501500000002%5D%2C%20%22geometry%22%3A%20%7B%22coordinates%22%3A%20%5B-122.31844199999999%2C%2037.92501500000002%5D%2C%20%22type%22%3A%20%22Point%22%7D%2C%20%22id%22%3A%20%222600%22%2C%20%22properties%22%3A%20%7B%22stop_id%22%3A%20%22921%22%2C%20%22stop_sequence%22%3A%2010.0%7D%2C%20%22type%22%3A%20%22Feature%22%7D%2C%20%7B%22bbox%22%3A%20%5B-122.31494499999998%2C%2037.92015800000002%2C%20-122.31494499999998%2C%2037.92015800000002%5D%2C%20%22geometry%22%3A%20%7B%22coordinates%22%3A%20%5B-122.31494499999998%2C%2037.92015800000002%5D%2C%20%22type%22%3A%20%22Point%22%7D%2C%20%22id%22%3A%20%222897%22%2C%20%22properties%22%3A%20%7B%22stop_id%22%3A%20%22931%22%2C%20%22stop_sequence%22%3A%2011.0%7D%2C%20%22type%22%3A%20%22Feature%22%7D%2C%20%7B%22bbox%22%3A%20%5B-122.321341%2C%2037.92920299999998%2C%20-122.321341%2C%2037.92920299999998%5D%2C%20%22geometry%22%3A%20%7B%22coordinates%22%3A%20%5B-122.321341%2C%2037.92920299999998%5D%2C%20%22type%22%3A%20%22Point%22%7D%2C%20%22id%22%3A%20%223304%22%2C%20%22properties%22%3A%20%7B%22stop_id%22%3A%20%22925%22%2C%20%22stop_sequence%22%3A%2013.0%7D%2C%20%22type%22%3A%20%22Feature%22%7D%2C%20%7B%22bbox%22%3A%20%5B-122.32021600000002%2C%2037.92761999999999%2C%20-122.32021600000002%2C%2037.92761999999999%5D%2C%20%22geometry%22%3A%20%7B%22coordinates%22%3A%20%5B-122.32021600000002%2C%2037.92761999999999%5D%2C%20%22type%22%3A%20%22Point%22%7D%2C%20%22id%22%3A%20%223590%22%2C%20%22properties%22%3A%20%7B%22stop_id%22%3A%20%22933%22%2C%20%22stop_sequence%22%3A%2014.0%7D%2C%20%22type%22%3A%20%22Feature%22%7D%2C%20%7B%22bbox%22%3A%20%5B-122.31621%2C%2037.92440200000003%2C%20-122.31621%2C%2037.92440200000003%5D%2C%20%22geometry%22%3A%20%7B%22coordinates%22%3A%20%5B-122.31621%2C%2037.92440200000003%5D%2C%20%22type%22%3A%20%22Point%22%7D%2C%20%22id%22%3A%20%223874%22%2C%20%22properties%22%3A%20%7B%22stop_id%22%3A%20%22867%22%2C%20%22stop_sequence%22%3A%2015.0%7D%2C%20%22type%22%3A%20%22Feature%22%7D%2C%20%7B%22bbox%22%3A%20%5B-122.321341%2C%2037.92920299999998%2C%20-122.321341%2C%2037.92920299999998%5D%2C%20%22geometry%22%3A%20%7B%22coordinates%22%3A%20%5B-122.321341%2C%2037.92920299999998%5D%2C%20%22type%22%3A%20%22Point%22%7D%2C%20%22id%22%3A%20%224696%22%2C%20%22properties%22%3A%20%7B%22stop_id%22%3A%20%22925%22%2C%20%22stop_sequence%22%3A%2018.0%7D%2C%20%22type%22%3A%20%22Feature%22%7D%2C%20%7B%22bbox%22%3A%20%5B-122.321341%2C%2037.92920299999998%2C%20-122.321341%2C%2037.92920299999998%5D%2C%20%22geometry%22%3A%20%7B%22coordinates%22%3A%20%5B-122.321341%2C%2037.92920299999998%5D%2C%20%22type%22%3A%20%22Point%22%7D%2C%20%22id%22%3A%20%224842%22%2C%20%22properties%22%3A%20%7B%22stop_id%22%3A%20%2252230%22%2C%20%22stop_sequence%22%3A%2018.0%7D%2C%20%22type%22%3A%20%22Feature%22%7D%2C%20%7B%22bbox%22%3A%20%5B-122.32021600000002%2C%2037.92761999999999%2C%20-122.32021600000002%2C%2037.92761999999999%5D%2C%20%22geometry%22%3A%20%7B%22coordinates%22%3A%20%5B-122.32021600000002%2C%2037.92761999999999%5D%2C%20%22type%22%3A%20%22Point%22%7D%2C%20%22id%22%3A%20%224960%22%2C%20%22properties%22%3A%20%7B%22stop_id%22%3A%20%22933%22%2C%20%22stop_sequence%22%3A%2019.0%7D%2C%20%22type%22%3A%20%22Feature%22%7D%2C%20%7B%22bbox%22%3A%20%5B-122.32021600000002%2C%2037.92761999999999%2C%20-122.32021600000002%2C%2037.92761999999999%5D%2C%20%22geometry%22%3A%20%7B%22coordinates%22%3A%20%5B-122.32021600000002%2C%2037.92761999999999%5D%2C%20%22type%22%3A%20%22Point%22%7D%2C%20%22id%22%3A%20%225104%22%2C%20%22properties%22%3A%20%7B%22stop_id%22%3A%20%2251162%22%2C%20%22stop_sequence%22%3A%2019.0%7D%2C%20%22type%22%3A%20%22Feature%22%7D%2C%20%7B%22bbox%22%3A%20%5B-122.32321900000001%2C%2037.92539600000003%2C%20-122.32321900000001%2C%2037.92539600000003%5D%2C%20%22geometry%22%3A%20%7B%22coordinates%22%3A%20%5B-122.32321900000001%2C%2037.92539600000003%5D%2C%20%22type%22%3A%20%22Point%22%7D%2C%20%22id%22%3A%20%225147%22%2C%20%22properties%22%3A%20%7B%22stop_id%22%3A%20%2250199%22%2C%20%22stop_sequence%22%3A%2019.0%7D%2C%20%22type%22%3A%20%22Feature%22%7D%2C%20%7B%22bbox%22%3A%20%5B-122.31621%2C%2037.92440200000003%2C%20-122.31621%2C%2037.92440200000003%5D%2C%20%22geometry%22%3A%20%7B%22coordinates%22%3A%20%5B-122.31621%2C%2037.92440200000003%5D%2C%20%22type%22%3A%20%22Point%22%7D%2C%20%22id%22%3A%20%225215%22%2C%20%22properties%22%3A%20%7B%22stop_id%22%3A%20%22867%22%2C%20%22stop_sequence%22%3A%2020.0%7D%2C%20%22type%22%3A%20%22Feature%22%7D%2C%20%7B%22bbox%22%3A%20%5B-122.31621%2C%2037.92440200000003%2C%20-122.31621%2C%2037.92440200000003%5D%2C%20%22geometry%22%3A%20%7B%22coordinates%22%3A%20%5B-122.31621%2C%2037.92440200000003%5D%2C%20%22type%22%3A%20%22Point%22%7D%2C%20%22id%22%3A%20%225357%22%2C%20%22properties%22%3A%20%7B%22stop_id%22%3A%20%2259667%22%2C%20%22stop_sequence%22%3A%2020.0%7D%2C%20%22type%22%3A%20%22Feature%22%7D%2C%20%7B%22bbox%22%3A%20%5B-122.31968800000001%2C%2037.92527799999998%2C%20-122.31968800000001%2C%2037.92527799999998%5D%2C%20%22geometry%22%3A%20%7B%22coordinates%22%3A%20%5B-122.31968800000001%2C%2037.92527799999998%5D%2C%20%22type%22%3A%20%22Point%22%7D%2C%20%22id%22%3A%20%225398%22%2C%20%22properties%22%3A%20%7B%22stop_id%22%3A%20%2259883%22%2C%20%22stop_sequence%22%3A%2020.0%7D%2C%20%22type%22%3A%20%22Feature%22%7D%2C%20%7B%22bbox%22%3A%20%5B-122.31844199999999%2C%2037.92501500000002%2C%20-122.31844199999999%2C%2037.92501500000002%5D%2C%20%22geometry%22%3A%20%7B%22coordinates%22%3A%20%5B-122.31844199999999%2C%2037.92501500000002%5D%2C%20%22type%22%3A%20%22Point%22%7D%2C%20%22id%22%3A%20%225643%22%2C%20%22properties%22%3A%20%7B%22stop_id%22%3A%20%2252115%22%2C%20%22stop_sequence%22%3A%2021.0%7D%2C%20%22type%22%3A%20%22Feature%22%7D%2C%20%7B%22bbox%22%3A%20%5B-122.31734900000001%2C%2037.922830999999995%2C%20-122.31734900000001%2C%2037.922830999999995%5D%2C%20%22geometry%22%3A%20%7B%22coordinates%22%3A%20%5B-122.31734900000001%2C%2037.922830999999995%5D%2C%20%22type%22%3A%20%22Point%22%7D%2C%20%22id%22%3A%20%225766%22%2C%20%22properties%22%3A%20%7B%22stop_id%22%3A%20%22870%22%2C%20%22stop_sequence%22%3A%2022.0%7D%2C%20%22type%22%3A%20%22Feature%22%7D%2C%20%7B%22bbox%22%3A%20%5B-122.31762299999998%2C%2037.92297600000002%2C%20-122.31762299999998%2C%2037.92297600000002%5D%2C%20%22geometry%22%3A%20%7B%22coordinates%22%3A%20%5B-122.31762299999998%2C%2037.92297600000002%5D%2C%20%22type%22%3A%20%22Point%22%7D%2C%20%22id%22%3A%20%225879%22%2C%20%22properties%22%3A%20%7B%22stop_id%22%3A%20%2252099%22%2C%20%22stop_sequence%22%3A%2022.0%7D%2C%20%22type%22%3A%20%22Feature%22%7D%2C%20%7B%22bbox%22%3A%20%5B-122.319269%2C%2037.925541999999965%2C%20-122.319269%2C%2037.925541999999965%5D%2C%20%22geometry%22%3A%20%7B%22coordinates%22%3A%20%5B-122.319269%2C%2037.925541999999965%5D%2C%20%22type%22%3A%20%22Point%22%7D%2C%20%22id%22%3A%20%225998%22%2C%20%22properties%22%3A%20%7B%22stop_id%22%3A%20%22859%22%2C%20%22stop_sequence%22%3A%2023.0%7D%2C%20%22type%22%3A%20%22Feature%22%7D%2C%20%7B%22bbox%22%3A%20%5B-122.321341%2C%2037.92920299999998%2C%20-122.321341%2C%2037.92920299999998%5D%2C%20%22geometry%22%3A%20%7B%22coordinates%22%3A%20%5B-122.321341%2C%2037.92920299999998%5D%2C%20%22type%22%3A%20%22Point%22%7D%2C%20%22id%22%3A%20%226171%22%2C%20%22properties%22%3A%20%7B%22stop_id%22%3A%20%22925%22%2C%20%22stop_sequence%22%3A%2024.0%7D%2C%20%22type%22%3A%20%22Feature%22%7D%2C%20%7B%22bbox%22%3A%20%5B-122.323224%2C%2037.92558299999994%2C%20-122.323224%2C%2037.92558299999994%5D%2C%20%22geometry%22%3A%20%7B%22coordinates%22%3A%20%5B-122.323224%2C%2037.92558299999994%5D%2C%20%22type%22%3A%20%22Point%22%7D%2C%20%22id%22%3A%20%226224%22%2C%20%22properties%22%3A%20%7B%22stop_id%22%3A%20%223924%22%2C%20%22stop_sequence%22%3A%2024.0%7D%2C%20%22type%22%3A%20%22Feature%22%7D%2C%20%7B%22bbox%22%3A%20%5B-122.32021600000002%2C%2037.92761999999999%2C%20-122.32021600000002%2C%2037.92761999999999%5D%2C%20%22geometry%22%3A%20%7B%22coordinates%22%3A%20%5B-122.32021600000002%2C%2037.92761999999999%5D%2C%20%22type%22%3A%20%22Point%22%7D%2C%20%22id%22%3A%20%226390%22%2C%20%22properties%22%3A%20%7B%22stop_id%22%3A%20%22933%22%2C%20%22stop_sequence%22%3A%2025.0%7D%2C%20%22type%22%3A%20%22Feature%22%7D%2C%20%7B%22bbox%22%3A%20%5B-122.31621%2C%2037.92440200000003%2C%20-122.31621%2C%2037.92440200000003%5D%2C%20%22geometry%22%3A%20%7B%22coordinates%22%3A%20%5B-122.31621%2C%2037.92440200000003%5D%2C%20%22type%22%3A%20%22Point%22%7D%2C%20%22id%22%3A%20%226605%22%2C%20%22properties%22%3A%20%7B%22stop_id%22%3A%20%22867%22%2C%20%22stop_sequence%22%3A%2026.0%7D%2C%20%22type%22%3A%20%22Feature%22%7D%2C%20%7B%22bbox%22%3A%20%5B-122.31734900000001%2C%2037.922830999999995%2C%20-122.31734900000001%2C%2037.922830999999995%5D%2C%20%22geometry%22%3A%20%7B%22coordinates%22%3A%20%5B-122.31734900000001%2C%2037.922830999999995%5D%2C%20%22type%22%3A%20%22Point%22%7D%2C%20%22id%22%3A%20%227230%22%2C%20%22properties%22%3A%20%7B%22stop_id%22%3A%20%22870%22%2C%20%22stop_sequence%22%3A%2029.0%7D%2C%20%22type%22%3A%20%22Feature%22%7D%2C%20%7B%22bbox%22%3A%20%5B-122.321341%2C%2037.92920299999998%2C%20-122.321341%2C%2037.92920299999998%5D%2C%20%22geometry%22%3A%20%7B%22coordinates%22%3A%20%5B-122.321341%2C%2037.92920299999998%5D%2C%20%22type%22%3A%20%22Point%22%7D%2C%20%22id%22%3A%20%227340%22%2C%20%22properties%22%3A%20%7B%22stop_id%22%3A%20%22925%22%2C%20%22stop_sequence%22%3A%2029.0%7D%2C%20%22type%22%3A%20%22Feature%22%7D%2C%20%7B%22bbox%22%3A%20%5B-122.319269%2C%2037.925541999999965%2C%20-122.319269%2C%2037.925541999999965%5D%2C%20%22geometry%22%3A%20%7B%22coordinates%22%3A%20%5B-122.319269%2C%2037.925541999999965%5D%2C%20%22type%22%3A%20%22Point%22%7D%2C%20%22id%22%3A%20%227408%22%2C%20%22properties%22%3A%20%7B%22stop_id%22%3A%20%22859%22%2C%20%22stop_sequence%22%3A%2030.0%7D%2C%20%22type%22%3A%20%22Feature%22%7D%2C%20%7B%22bbox%22%3A%20%5B-122.32021600000002%2C%2037.92761999999999%2C%20-122.32021600000002%2C%2037.92761999999999%5D%2C%20%22geometry%22%3A%20%7B%22coordinates%22%3A%20%5B-122.32021600000002%2C%2037.92761999999999%5D%2C%20%22type%22%3A%20%22Point%22%7D%2C%20%22id%22%3A%20%227516%22%2C%20%22properties%22%3A%20%7B%22stop_id%22%3A%20%22933%22%2C%20%22stop_sequence%22%3A%2030.0%7D%2C%20%22type%22%3A%20%22Feature%22%7D%2C%20%7B%22bbox%22%3A%20%5B-122.323224%2C%2037.92558299999994%2C%20-122.323224%2C%2037.92558299999994%5D%2C%20%22geometry%22%3A%20%7B%22coordinates%22%3A%20%5B-122.323224%2C%2037.92558299999994%5D%2C%20%22type%22%3A%20%22Point%22%7D%2C%20%22id%22%3A%20%227583%22%2C%20%22properties%22%3A%20%7B%22stop_id%22%3A%20%223924%22%2C%20%22stop_sequence%22%3A%2031.0%7D%2C%20%22type%22%3A%20%22Feature%22%7D%2C%20%7B%22bbox%22%3A%20%5B-122.31844199999999%2C%2037.92501500000002%2C%20-122.31844199999999%2C%2037.92501500000002%5D%2C%20%22geometry%22%3A%20%7B%22coordinates%22%3A%20%5B-122.31844199999999%2C%2037.92501500000002%5D%2C%20%22type%22%3A%20%22Point%22%7D%2C%20%22id%22%3A%20%227687%22%2C%20%22properties%22%3A%20%7B%22stop_id%22%3A%20%22921%22%2C%20%22stop_sequence%22%3A%2031.0%7D%2C%20%22type%22%3A%20%22Feature%22%7D%2C%20%7B%22bbox%22%3A%20%5B-122.31691300000001%2C%2037.922906000000005%2C%20-122.31691300000001%2C%2037.922906000000005%5D%2C%20%22geometry%22%3A%20%7B%22coordinates%22%3A%20%5B-122.31691300000001%2C%2037.922906000000005%5D%2C%20%22type%22%3A%20%22Point%22%7D%2C%20%22id%22%3A%20%227852%22%2C%20%22properties%22%3A%20%7B%22stop_id%22%3A%20%22924%22%2C%20%22stop_sequence%22%3A%2032.0%7D%2C%20%22type%22%3A%20%22Feature%22%7D%2C%20%7B%22bbox%22%3A%20%5B-122.321341%2C%2037.92920299999998%2C%20-122.321341%2C%2037.92920299999998%5D%2C%20%22geometry%22%3A%20%7B%22coordinates%22%3A%20%5B-122.321341%2C%2037.92920299999998%5D%2C%20%22type%22%3A%20%22Point%22%7D%2C%20%22id%22%3A%20%227874%22%2C%20%22properties%22%3A%20%7B%22stop_id%22%3A%20%22925%22%2C%20%22stop_sequence%22%3A%2033.0%7D%2C%20%22type%22%3A%20%22Feature%22%7D%2C%20%7B%22bbox%22%3A%20%5B-122.32021600000002%2C%2037.92761999999999%2C%20-122.32021600000002%2C%2037.92761999999999%5D%2C%20%22geometry%22%3A%20%7B%22coordinates%22%3A%20%5B-122.32021600000002%2C%2037.92761999999999%5D%2C%20%22type%22%3A%20%22Point%22%7D%2C%20%22id%22%3A%20%228035%22%2C%20%22properties%22%3A%20%7B%22stop_id%22%3A%20%22933%22%2C%20%22stop_sequence%22%3A%2034.0%7D%2C%20%22type%22%3A%20%22Feature%22%7D%2C%20%7B%22bbox%22%3A%20%5B-122.31621%2C%2037.92440200000003%2C%20-122.31621%2C%2037.92440200000003%5D%2C%20%22geometry%22%3A%20%7B%22coordinates%22%3A%20%5B-122.31621%2C%2037.92440200000003%5D%2C%20%22type%22%3A%20%22Point%22%7D%2C%20%22id%22%3A%20%228189%22%2C%20%22properties%22%3A%20%7B%22stop_id%22%3A%20%22867%22%2C%20%22stop_sequence%22%3A%2035.0%7D%2C%20%22type%22%3A%20%22Feature%22%7D%2C%20%7B%22bbox%22%3A%20%5B-122.32321900000001%2C%2037.92539600000003%2C%20-122.32321900000001%2C%2037.92539600000003%5D%2C%20%22geometry%22%3A%20%7B%22coordinates%22%3A%20%5B-122.32321900000001%2C%2037.92539600000003%5D%2C%20%22type%22%3A%20%22Point%22%7D%2C%20%22id%22%3A%20%229020%22%2C%20%22properties%22%3A%20%7B%22stop_id%22%3A%20%2250199%22%2C%20%22stop_sequence%22%3A%2041.0%7D%2C%20%22type%22%3A%20%22Feature%22%7D%2C%20%7B%22bbox%22%3A%20%5B-122.31968800000001%2C%2037.92527799999998%2C%20-122.31968800000001%2C%2037.92527799999998%5D%2C%20%22geometry%22%3A%20%7B%22coordinates%22%3A%20%5B-122.31968800000001%2C%2037.92527799999998%5D%2C%20%22type%22%3A%20%22Point%22%7D%2C%20%22id%22%3A%20%229126%22%2C%20%22properties%22%3A%20%7B%22stop_id%22%3A%20%2259883%22%2C%20%22stop_sequence%22%3A%2042.0%7D%2C%20%22type%22%3A%20%22Feature%22%7D%2C%20%7B%22bbox%22%3A%20%5B-122.321341%2C%2037.92920299999998%2C%20-122.321341%2C%2037.92920299999998%5D%2C%20%22geometry%22%3A%20%7B%22coordinates%22%3A%20%5B-122.321341%2C%2037.92920299999998%5D%2C%20%22type%22%3A%20%22Point%22%7D%2C%20%22id%22%3A%20%229631%22%2C%20%22properties%22%3A%20%7B%22stop_id%22%3A%20%2252230%22%2C%20%22stop_sequence%22%3A%2048.0%7D%2C%20%22type%22%3A%20%22Feature%22%7D%2C%20%7B%22bbox%22%3A%20%5B-122.32321900000001%2C%2037.92539600000003%2C%20-122.32321900000001%2C%2037.92539600000003%5D%2C%20%22geometry%22%3A%20%7B%22coordinates%22%3A%20%5B-122.32321900000001%2C%2037.92539600000003%5D%2C%20%22type%22%3A%20%22Point%22%7D%2C%20%22id%22%3A%20%229683%22%2C%20%22properties%22%3A%20%7B%22stop_id%22%3A%20%2250199%22%2C%20%22stop_sequence%22%3A%2049.0%7D%2C%20%22type%22%3A%20%22Feature%22%7D%2C%20%7B%22bbox%22%3A%20%5B-122.32021600000002%2C%2037.92761999999999%2C%20-122.32021600000002%2C%2037.92761999999999%5D%2C%20%22geometry%22%3A%20%7B%22coordinates%22%3A%20%5B-122.32021600000002%2C%2037.92761999999999%5D%2C%20%22type%22%3A%20%22Point%22%7D%2C%20%22id%22%3A%20%229694%22%2C%20%22properties%22%3A%20%7B%22stop_id%22%3A%20%2251162%22%2C%20%22stop_sequence%22%3A%2049.0%7D%2C%20%22type%22%3A%20%22Feature%22%7D%2C%20%7B%22bbox%22%3A%20%5B-122.31968800000001%2C%2037.92527799999998%2C%20-122.31968800000001%2C%2037.92527799999998%5D%2C%20%22geometry%22%3A%20%7B%22coordinates%22%3A%20%5B-122.31968800000001%2C%2037.92527799999998%5D%2C%20%22type%22%3A%20%22Point%22%7D%2C%20%22id%22%3A%20%229742%22%2C%20%22properties%22%3A%20%7B%22stop_id%22%3A%20%2259883%22%2C%20%22stop_sequence%22%3A%2050.0%7D%2C%20%22type%22%3A%20%22Feature%22%7D%2C%20%7B%22bbox%22%3A%20%5B-122.31646999999998%2C%2037.92440400000003%2C%20-122.31646999999998%2C%2037.92440400000003%5D%2C%20%22geometry%22%3A%20%7B%22coordinates%22%3A%20%5B-122.31646999999998%2C%2037.92440400000003%5D%2C%20%22type%22%3A%20%22Point%22%7D%2C%20%22id%22%3A%20%2210051%22%2C%20%22properties%22%3A%20%7B%22stop_id%22%3A%20%226231%22%2C%20%22stop_sequence%22%3A%2057.0%7D%2C%20%22type%22%3A%20%22Feature%22%7D%2C%20%7B%22bbox%22%3A%20%5B-122.31646999999998%2C%2037.92440400000003%2C%20-122.31646999999998%2C%2037.92440400000003%5D%2C%20%22geometry%22%3A%20%7B%22coordinates%22%3A%20%5B-122.31646999999998%2C%2037.92440400000003%5D%2C%20%22type%22%3A%20%22Point%22%7D%2C%20%22id%22%3A%20%2210052%22%2C%20%22properties%22%3A%20%7B%22stop_id%22%3A%20%226231%22%2C%20%22stop_sequence%22%3A%2057.0%7D%2C%20%22type%22%3A%20%22Feature%22%7D%2C%20%7B%22bbox%22%3A%20%5B-122.31646999999998%2C%2037.92440400000003%2C%20-122.31646999999998%2C%2037.92440400000003%5D%2C%20%22geometry%22%3A%20%7B%22coordinates%22%3A%20%5B-122.31646999999998%2C%2037.92440400000003%5D%2C%20%22type%22%3A%20%22Point%22%7D%2C%20%22id%22%3A%20%2210062%22%2C%20%22properties%22%3A%20%7B%22stop_id%22%3A%20%226231%22%2C%20%22stop_sequence%22%3A%2057.0%7D%2C%20%22type%22%3A%20%22Feature%22%7D%2C%20%7B%22bbox%22%3A%20%5B-122.32022%2C%2037.92808999999999%2C%20-122.32022%2C%2037.92808999999999%5D%2C%20%22geometry%22%3A%20%7B%22coordinates%22%3A%20%5B-122.32022%2C%2037.92808999999999%5D%2C%20%22type%22%3A%20%22Point%22%7D%2C%20%22id%22%3A%20%2210085%22%2C%20%22properties%22%3A%20%7B%22stop_id%22%3A%20%226264%22%2C%20%22stop_sequence%22%3A%2058.0%7D%2C%20%22type%22%3A%20%22Feature%22%7D%2C%20%7B%22bbox%22%3A%20%5B-122.32022%2C%2037.92808999999999%2C%20-122.32022%2C%2037.92808999999999%5D%2C%20%22geometry%22%3A%20%7B%22coordinates%22%3A%20%5B-122.32022%2C%2037.92808999999999%5D%2C%20%22type%22%3A%20%22Point%22%7D%2C%20%22id%22%3A%20%2210086%22%2C%20%22properties%22%3A%20%7B%22stop_id%22%3A%20%226264%22%2C%20%22stop_sequence%22%3A%2058.0%7D%2C%20%22type%22%3A%20%22Feature%22%7D%2C%20%7B%22bbox%22%3A%20%5B-122.32022%2C%2037.92808999999999%2C%20-122.32022%2C%2037.92808999999999%5D%2C%20%22geometry%22%3A%20%7B%22coordinates%22%3A%20%5B-122.32022%2C%2037.92808999999999%5D%2C%20%22type%22%3A%20%22Point%22%7D%2C%20%22id%22%3A%20%2210095%22%2C%20%22properties%22%3A%20%7B%22stop_id%22%3A%20%226264%22%2C%20%22stop_sequence%22%3A%2058.0%7D%2C%20%22type%22%3A%20%22Feature%22%7D%2C%20%7B%22bbox%22%3A%20%5B-122.321434%2C%2037.92978899999999%2C%20-122.321434%2C%2037.92978899999999%5D%2C%20%22geometry%22%3A%20%7B%22coordinates%22%3A%20%5B-122.321434%2C%2037.92978899999999%5D%2C%20%22type%22%3A%20%22Point%22%7D%2C%20%22id%22%3A%20%2210115%22%2C%20%22properties%22%3A%20%7B%22stop_id%22%3A%20%22919%22%2C%20%22stop_sequence%22%3A%2059.0%7D%2C%20%22type%22%3A%20%22Feature%22%7D%2C%20%7B%22bbox%22%3A%20%5B-122.321434%2C%2037.92978899999999%2C%20-122.321434%2C%2037.92978899999999%5D%2C%20%22geometry%22%3A%20%7B%22coordinates%22%3A%20%5B-122.321434%2C%2037.92978899999999%5D%2C%20%22type%22%3A%20%22Point%22%7D%2C%20%22id%22%3A%20%2210116%22%2C%20%22properties%22%3A%20%7B%22stop_id%22%3A%20%22919%22%2C%20%22stop_sequence%22%3A%2059.0%7D%2C%20%22type%22%3A%20%22Feature%22%7D%2C%20%7B%22bbox%22%3A%20%5B-122.321434%2C%2037.92978899999999%2C%20-122.321434%2C%2037.92978899999999%5D%2C%20%22geometry%22%3A%20%7B%22coordinates%22%3A%20%5B-122.321434%2C%2037.92978899999999%5D%2C%20%22type%22%3A%20%22Point%22%7D%2C%20%22id%22%3A%20%2210125%22%2C%20%22properties%22%3A%20%7B%22stop_id%22%3A%20%22919%22%2C%20%22stop_sequence%22%3A%2059.0%7D%2C%20%22type%22%3A%20%22Feature%22%7D%2C%20%7B%22bbox%22%3A%20%5B-122.32321900000001%2C%2037.92539600000003%2C%20-122.32321900000001%2C%2037.92539600000003%5D%2C%20%22geometry%22%3A%20%7B%22coordinates%22%3A%20%5B-122.32321900000001%2C%2037.92539600000003%5D%2C%20%22type%22%3A%20%22Point%22%7D%2C%20%22id%22%3A%20%2210256%22%2C%20%22properties%22%3A%20%7B%22stop_id%22%3A%20%2250199%22%2C%20%22stop_sequence%22%3A%2064.0%7D%2C%20%22type%22%3A%20%22Feature%22%7D%2C%20%7B%22bbox%22%3A%20%5B-122.31968800000001%2C%2037.92527799999998%2C%20-122.31968800000001%2C%2037.92527799999998%5D%2C%20%22geometry%22%3A%20%7B%22coordinates%22%3A%20%5B-122.31968800000001%2C%2037.92527799999998%5D%2C%20%22type%22%3A%20%22Point%22%7D%2C%20%22id%22%3A%20%2210278%22%2C%20%22properties%22%3A%20%7B%22stop_id%22%3A%20%2259883%22%2C%20%22stop_sequence%22%3A%2065.0%7D%2C%20%22type%22%3A%20%22Feature%22%7D%2C%20%7B%22bbox%22%3A%20%5B-122.32321900000001%2C%2037.92539600000003%2C%20-122.32321900000001%2C%2037.92539600000003%5D%2C%20%22geometry%22%3A%20%7B%22coordinates%22%3A%20%5B-122.32321900000001%2C%2037.92539600000003%5D%2C%20%22type%22%3A%20%22Point%22%7D%2C%20%22id%22%3A%20%2210287%22%2C%20%22properties%22%3A%20%7B%22stop_id%22%3A%20%223923%22%2C%20%22stop_sequence%22%3A%2066.0%7D%2C%20%22type%22%3A%20%22Feature%22%7D%2C%20%7B%22bbox%22%3A%20%5B-122.31968800000001%2C%2037.92527799999998%2C%20-122.31968800000001%2C%2037.92527799999998%5D%2C%20%22geometry%22%3A%20%7B%22coordinates%22%3A%20%5B-122.31968800000001%2C%2037.92527799999998%5D%2C%20%22type%22%3A%20%22Point%22%7D%2C%20%22id%22%3A%20%2210306%22%2C%20%22properties%22%3A%20%7B%22stop_id%22%3A%20%22858%22%2C%20%22stop_sequence%22%3A%2067.0%7D%2C%20%22type%22%3A%20%22Feature%22%7D%2C%20%7B%22bbox%22%3A%20%5B-122.31646999999998%2C%2037.92440400000003%2C%20-122.31646999999998%2C%2037.92440400000003%5D%2C%20%22geometry%22%3A%20%7B%22coordinates%22%3A%20%5B-122.31646999999998%2C%2037.92440400000003%5D%2C%20%22type%22%3A%20%22Point%22%7D%2C%20%22id%22%3A%20%2210454%22%2C%20%22properties%22%3A%20%7B%22stop_id%22%3A%20%226231%22%2C%20%22stop_sequence%22%3A%2079.0%7D%2C%20%22type%22%3A%20%22Feature%22%7D%2C%20%7B%22bbox%22%3A%20%5B-122.32022%2C%2037.92808999999999%2C%20-122.32022%2C%2037.92808999999999%5D%2C%20%22geometry%22%3A%20%7B%22coordinates%22%3A%20%5B-122.32022%2C%2037.92808999999999%5D%2C%20%22type%22%3A%20%22Point%22%7D%2C%20%22id%22%3A%20%2210462%22%2C%20%22properties%22%3A%20%7B%22stop_id%22%3A%20%226264%22%2C%20%22stop_sequence%22%3A%2080.0%7D%2C%20%22type%22%3A%20%22Feature%22%7D%2C%20%7B%22bbox%22%3A%20%5B-122.321434%2C%2037.92978899999999%2C%20-122.321434%2C%2037.92978899999999%5D%2C%20%22geometry%22%3A%20%7B%22coordinates%22%3A%20%5B-122.321434%2C%2037.92978899999999%5D%2C%20%22type%22%3A%20%22Point%22%7D%2C%20%22id%22%3A%20%2210469%22%2C%20%22properties%22%3A%20%7B%22stop_id%22%3A%20%22919%22%2C%20%22stop_sequence%22%3A%2081.0%7D%2C%20%22type%22%3A%20%22Feature%22%7D%2C%20%7B%22bbox%22%3A%20%5B-122.3208375600981%2C%2037.92304810467832%2C%20-122.31661034995997%2C%2037.92832447205775%5D%2C%20%22geometry%22%3A%20%7B%22coordinates%22%3A%20%5B%5B%5B-122.31759831861287%2C%2037.92304810467832%5D%2C%20%5B-122.31661034995997%2C%2037.92341861256763%5D%2C%20%5B-122.32009253455652%2C%2037.92832447205775%5D%2C%20%5B-122.3208375600981%2C%2037.92809451720578%5D%2C%20%5B-122.31928272418514%2C%2037.925820480505536%5D%2C%20%5B-122.32025449663072%2C%2037.92578215344175%5D%2C%20%5B-122.32006014214161%2C%2037.92518169349923%5D%2C%20%5B-122.3188130341698%2C%2037.925130590299%5D%2C%20%5B-122.31759831861287%2C%2037.92304810467832%5D%5D%5D%2C%20%22type%22%3A%20%22Polygon%22%7D%2C%20%22id%22%3A%20%220%22%2C%20%22properties%22%3A%20%7B%22stop_id%22%3A%20null%2C%20%22stop_sequence%22%3A%20null%7D%2C%20%22type%22%3A%20%22Feature%22%7D%5D%2C%20%22type%22%3A%20%22FeatureCollection%22%7D%29%3B%0A%0A%20%20%20%20%20%20%20%20%0A%20%20%20%20%0A%20%20%20%20geo_json_45c92be4c51f454dad57afa68c89af36.bindTooltip%28%0A%20%20%20%20function%28layer%29%7B%0A%20%20%20%20let%20div%20%3D%20L.DomUtil.create%28%27div%27%29%3B%0A%20%20%20%20%0A%20%20%20%20let%20handleObject%20%3D%20feature%3D%3Etypeof%28feature%29%3D%3D%27object%27%20%3F%20JSON.stringify%28feature%29%20%3A%20feature%3B%0A%20%20%20%20let%20fields%20%3D%20%5B%22stop_id%22%2C%20%22stop_sequence%22%5D%3B%0A%20%20%20%20let%20aliases%20%3D%20%5B%22stop_id%22%2C%20%22stop_sequence%22%5D%3B%0A%20%20%20%20let%20table%20%3D%20%27%3Ctable%3E%27%20%2B%0A%20%20%20%20%20%20%20%20String%28%0A%20%20%20%20%20%20%20%20fields.map%28%0A%20%20%20%20%20%20%20%20%28v%2Ci%29%3D%3E%0A%20%20%20%20%20%20%20%20%60%3Ctr%3E%0A%20%20%20%20%20%20%20%20%20%20%20%20%3Cth%3E%24%7Baliases%5Bi%5D%7D%3C/th%3E%0A%20%20%20%20%20%20%20%20%20%20%20%20%0A%20%20%20%20%20%20%20%20%20%20%20%20%3Ctd%3E%24%7BhandleObject%28layer.feature.properties%5Bv%5D%29%7D%3C/td%3E%0A%20%20%20%20%20%20%20%20%3C/tr%3E%60%29.join%28%27%27%29%29%0A%20%20%20%20%2B%27%3C/table%3E%27%3B%0A%20%20%20%20div.innerHTML%3Dtable%3B%0A%20%20%20%20%0A%20%20%20%20return%20div%0A%20%20%20%20%7D%0A%20%20%20%20%2C%7B%22className%22%3A%20%22foliumtooltip%22%2C%20%22sticky%22%3A%20true%7D%29%3B%0A%20%20%20%20%20%20%20%20%20%20%20%20%20%20%20%20%20%20%20%20%20%0A%3C/script%3E onload=\"this.contentDocument.open();this.contentDocument.write(    decodeURIComponent(this.getAttribute('data-html')));this.contentDocument.close();\" allowfullscreen webkitallowfullscreen mozallowfullscreen></iframe></div></div>"
      ],
      "text/plain": [
       "<folium.folium.Map at 0x7fe90d6d5ca0>"
      ]
     },
     "execution_count": 16,
     "metadata": {},
     "output_type": "execute_result"
    }
   ],
   "source": [
    "rt_day.quick_map_corridor()"
   ]
  },
  {
   "cell_type": "code",
   "execution_count": 17,
   "id": "96df1594-db8d-41b2-a047-5ed01f214fb0",
   "metadata": {},
   "outputs": [
    {
     "name": "stderr",
     "output_type": "stream",
     "text": [
      "/home/jovyan/data-analyses/rt_delay/rt_analysis/rt_filter_map_plot.py:366: UserWarning: Geometry is in a geographic CRS. Results from 'centroid' are likely incorrect. Use 'GeoSeries.to_crs()' to re-project geometries to a projected CRS before this operation.\n",
      "\n",
      "/home/jovyan/data-analyses/rt_delay/rt_analysis/rt_filter_map_plot.py:366: UserWarning: Geometry is in a geographic CRS. Results from 'centroid' are likely incorrect. Use 'GeoSeries.to_crs()' to re-project geometries to a projected CRS before this operation.\n",
      "\n"
     ]
    },
    {
     "data": {
      "text/html": [
       "<iframe src=\"about:blank\" width=\"900\" height=\"550\"style=\"border:none !important;\" data-html=%3C%21DOCTYPE%20html%3E%0A%3Chead%3E%20%20%20%20%0A%20%20%20%20%3Cmeta%20http-equiv%3D%22content-type%22%20content%3D%22text/html%3B%20charset%3DUTF-8%22%20/%3E%0A%20%20%20%20%0A%20%20%20%20%20%20%20%20%3Cscript%3E%0A%20%20%20%20%20%20%20%20%20%20%20%20L_NO_TOUCH%20%3D%20false%3B%0A%20%20%20%20%20%20%20%20%20%20%20%20L_DISABLE_3D%20%3D%20false%3B%0A%20%20%20%20%20%20%20%20%3C/script%3E%0A%20%20%20%20%0A%20%20%20%20%3Cstyle%3Ehtml%2C%20body%20%7Bwidth%3A%20100%25%3Bheight%3A%20100%25%3Bmargin%3A%200%3Bpadding%3A%200%3B%7D%3C/style%3E%0A%20%20%20%20%3Cstyle%3E%23map%20%7Bposition%3Aabsolute%3Btop%3A0%3Bbottom%3A0%3Bright%3A0%3Bleft%3A0%3B%7D%3C/style%3E%0A%20%20%20%20%3Cscript%20src%3D%22https%3A//cdn.jsdelivr.net/npm/leaflet%401.6.0/dist/leaflet.js%22%3E%3C/script%3E%0A%20%20%20%20%3Cscript%20src%3D%22https%3A//code.jquery.com/jquery-1.12.4.min.js%22%3E%3C/script%3E%0A%20%20%20%20%3Cscript%20src%3D%22https%3A//maxcdn.bootstrapcdn.com/bootstrap/3.2.0/js/bootstrap.min.js%22%3E%3C/script%3E%0A%20%20%20%20%3Cscript%20src%3D%22https%3A//cdnjs.cloudflare.com/ajax/libs/Leaflet.awesome-markers/2.0.2/leaflet.awesome-markers.js%22%3E%3C/script%3E%0A%20%20%20%20%3Clink%20rel%3D%22stylesheet%22%20href%3D%22https%3A//cdn.jsdelivr.net/npm/leaflet%401.6.0/dist/leaflet.css%22/%3E%0A%20%20%20%20%3Clink%20rel%3D%22stylesheet%22%20href%3D%22https%3A//maxcdn.bootstrapcdn.com/bootstrap/3.2.0/css/bootstrap.min.css%22/%3E%0A%20%20%20%20%3Clink%20rel%3D%22stylesheet%22%20href%3D%22https%3A//maxcdn.bootstrapcdn.com/bootstrap/3.2.0/css/bootstrap-theme.min.css%22/%3E%0A%20%20%20%20%3Clink%20rel%3D%22stylesheet%22%20href%3D%22https%3A//maxcdn.bootstrapcdn.com/font-awesome/4.6.3/css/font-awesome.min.css%22/%3E%0A%20%20%20%20%3Clink%20rel%3D%22stylesheet%22%20href%3D%22https%3A//cdnjs.cloudflare.com/ajax/libs/Leaflet.awesome-markers/2.0.2/leaflet.awesome-markers.css%22/%3E%0A%20%20%20%20%3Clink%20rel%3D%22stylesheet%22%20href%3D%22https%3A//cdn.jsdelivr.net/gh/python-visualization/folium/folium/templates/leaflet.awesome.rotate.min.css%22/%3E%0A%20%20%20%20%0A%20%20%20%20%20%20%20%20%20%20%20%20%3Cmeta%20name%3D%22viewport%22%20content%3D%22width%3Ddevice-width%2C%0A%20%20%20%20%20%20%20%20%20%20%20%20%20%20%20%20initial-scale%3D1.0%2C%20maximum-scale%3D1.0%2C%20user-scalable%3Dno%22%20/%3E%0A%20%20%20%20%20%20%20%20%20%20%20%20%3Cstyle%3E%0A%20%20%20%20%20%20%20%20%20%20%20%20%20%20%20%20%23map_8c856eef90ab4e218de177bfd71badd8%20%7B%0A%20%20%20%20%20%20%20%20%20%20%20%20%20%20%20%20%20%20%20%20position%3A%20relative%3B%0A%20%20%20%20%20%20%20%20%20%20%20%20%20%20%20%20%20%20%20%20width%3A%20900.0px%3B%0A%20%20%20%20%20%20%20%20%20%20%20%20%20%20%20%20%20%20%20%20height%3A%20550.0px%3B%0A%20%20%20%20%20%20%20%20%20%20%20%20%20%20%20%20%20%20%20%20left%3A%200.0%25%3B%0A%20%20%20%20%20%20%20%20%20%20%20%20%20%20%20%20%20%20%20%20top%3A%200.0%25%3B%0A%20%20%20%20%20%20%20%20%20%20%20%20%20%20%20%20%7D%0A%20%20%20%20%20%20%20%20%20%20%20%20%3C/style%3E%0A%20%20%20%20%20%20%20%20%0A%20%20%20%20%0A%20%20%20%20%20%20%20%20%20%20%20%20%20%20%20%20%20%20%20%20%3Cstyle%3E%0A%20%20%20%20%20%20%20%20%20%20%20%20%20%20%20%20%20%20%20%20%20%20%20%20.foliumtooltip%20%7B%0A%20%20%20%20%20%20%20%20%20%20%20%20%20%20%20%20%20%20%20%20%20%20%20%20%20%20%20%20%0A%20%20%20%20%20%20%20%20%20%20%20%20background-color%3A%20%22gray%22%3B%0A%20%20%20%20%20%20%20%20%20%20%20%20border%3A%200px%20%23FFFFFF%3B%0A%20%20%20%20%20%20%20%20%20%20%20%20border-radius%3A%200px%3B%0A%20%20%20%20%20%20%20%20%20%20%20%20box-shadow%3A%200px%3B%0A%20%20%20%20%20%20%20%20%20%20%20%20font-size%3A%2012px%3B%0A%20%20%20%20%20%20%20%20%0A%20%20%20%20%20%20%20%20%20%20%20%20%20%20%20%20%20%20%20%20%20%20%20%20%7D%0A%20%20%20%20%20%20%20%20%20%20%20%20%20%20%20%20%20%20%20%20%20%20%20.foliumtooltip%20table%7B%0A%20%20%20%20%20%20%20%20%20%20%20%20%20%20%20%20%20%20%20%20%20%20%20%20%20%20%20%20margin%3A%20auto%3B%0A%20%20%20%20%20%20%20%20%20%20%20%20%20%20%20%20%20%20%20%20%20%20%20%20%7D%0A%20%20%20%20%20%20%20%20%20%20%20%20%20%20%20%20%20%20%20%20%20%20%20%20.foliumtooltip%20tr%7B%0A%20%20%20%20%20%20%20%20%20%20%20%20%20%20%20%20%20%20%20%20%20%20%20%20%20%20%20%20text-align%3A%20left%3B%0A%20%20%20%20%20%20%20%20%20%20%20%20%20%20%20%20%20%20%20%20%20%20%20%20%7D%0A%20%20%20%20%20%20%20%20%20%20%20%20%20%20%20%20%20%20%20%20%20%20%20%20.foliumtooltip%20th%7B%0A%20%20%20%20%20%20%20%20%20%20%20%20%20%20%20%20%20%20%20%20%20%20%20%20%20%20%20%20padding%3A%202px%3B%20padding-right%3A%208px%3B%0A%20%20%20%20%20%20%20%20%20%20%20%20%20%20%20%20%20%20%20%20%20%20%20%20%7D%0A%20%20%20%20%20%20%20%20%20%20%20%20%20%20%20%20%20%20%20%20%3C/style%3E%0A%20%20%20%20%20%20%20%20%20%20%20%20%0A%20%20%20%20%0A%20%20%20%20%20%20%20%20%20%20%20%20%20%20%20%20%20%20%20%20%3Cstyle%3E%0A%20%20%20%20%20%20%20%20%20%20%20%20%20%20%20%20%20%20%20%20%20%20%20%20.foliumpopup%20%7B%0A%20%20%20%20%20%20%20%20%20%20%20%20%20%20%20%20%20%20%20%20%20%20%20%20%20%20%20%20background-color%3A%20light_gray%3B%0A%20%20%20%20%20%20%20%20%20%20%20%20%20%20%20%20%20%20%20%20%20%20%20%20%7D%0A%20%20%20%20%20%20%20%20%20%20%20%20%20%20%20%20%20%20%20%20%20%20%20.foliumpopup%20table%7B%0A%20%20%20%20%20%20%20%20%20%20%20%20%20%20%20%20%20%20%20%20%20%20%20%20%20%20%20%20margin%3A%20auto%3B%0A%20%20%20%20%20%20%20%20%20%20%20%20%20%20%20%20%20%20%20%20%20%20%20%20%7D%0A%20%20%20%20%20%20%20%20%20%20%20%20%20%20%20%20%20%20%20%20%20%20%20%20.foliumpopup%20tr%7B%0A%20%20%20%20%20%20%20%20%20%20%20%20%20%20%20%20%20%20%20%20%20%20%20%20%20%20%20%20text-align%3A%20left%3B%0A%20%20%20%20%20%20%20%20%20%20%20%20%20%20%20%20%20%20%20%20%20%20%20%20%7D%0A%20%20%20%20%20%20%20%20%20%20%20%20%20%20%20%20%20%20%20%20%20%20%20%20.foliumpopup%20th%7B%0A%20%20%20%20%20%20%20%20%20%20%20%20%20%20%20%20%20%20%20%20%20%20%20%20%20%20%20%20padding%3A%202px%3B%20padding-right%3A%208px%3B%0A%20%20%20%20%20%20%20%20%20%20%20%20%20%20%20%20%20%20%20%20%20%20%20%20%7D%0A%20%20%20%20%20%20%20%20%20%20%20%20%20%20%20%20%20%20%20%20%3C/style%3E%0A%20%20%20%20%20%20%20%20%20%20%20%20%0A%20%20%20%20%3Cscript%20src%3D%22https%3A//cdnjs.cloudflare.com/ajax/libs/d3/3.5.5/d3.min.js%22%3E%3C/script%3E%0A%3C/head%3E%0A%3Cbody%3E%20%20%20%20%0A%20%20%20%20%0A%20%20%20%20%20%20%20%20%20%3Ch3%20align%3D%22center%22%20style%3D%22font-size%3A20px%22%3E%3Cb%3EAC%20Transit%2020th%20Percentile%20Vehicle%20Speeds%20Between%20Stops%2C%20All%20Routes%2C%20All%20Day%2C%20May%2005%20%28Thu%29%3C/b%3E%3C/h3%3E%0A%20%20%20%20%20%20%20%20%20%0A%20%20%20%20%0A%20%20%20%20%20%20%20%20%20%20%20%20%3Cdiv%20class%3D%22folium-map%22%20id%3D%22map_8c856eef90ab4e218de177bfd71badd8%22%20%3E%3C/div%3E%0A%20%20%20%20%20%20%20%20%0A%3C/body%3E%0A%3Cscript%3E%20%20%20%20%0A%20%20%20%20%0A%20%20%20%20%20%20%20%20%20%20%20%20var%20map_8c856eef90ab4e218de177bfd71badd8%20%3D%20L.map%28%0A%20%20%20%20%20%20%20%20%20%20%20%20%20%20%20%20%22map_8c856eef90ab4e218de177bfd71badd8%22%2C%0A%20%20%20%20%20%20%20%20%20%20%20%20%20%20%20%20%7B%0A%20%20%20%20%20%20%20%20%20%20%20%20%20%20%20%20%20%20%20%20center%3A%20%5B37.9265393493126%2C%20-122.31963842535905%5D%2C%0A%20%20%20%20%20%20%20%20%20%20%20%20%20%20%20%20%20%20%20%20crs%3A%20L.CRS.EPSG3857%2C%0A%20%20%20%20%20%20%20%20%20%20%20%20%20%20%20%20%20%20%20%20zoom%3A%2013%2C%0A%20%20%20%20%20%20%20%20%20%20%20%20%20%20%20%20%20%20%20%20zoomControl%3A%20true%2C%0A%20%20%20%20%20%20%20%20%20%20%20%20%20%20%20%20%20%20%20%20preferCanvas%3A%20false%2C%0A%20%20%20%20%20%20%20%20%20%20%20%20%20%20%20%20%7D%0A%20%20%20%20%20%20%20%20%20%20%20%20%29%3B%0A%0A%20%20%20%20%20%20%20%20%20%20%20%20%0A%0A%20%20%20%20%20%20%20%20%0A%20%20%20%20%0A%20%20%20%20%20%20%20%20%20%20%20%20var%20tile_layer_a30e911ddded4abb833b6173717c9240%20%3D%20L.tileLayer%28%0A%20%20%20%20%20%20%20%20%20%20%20%20%20%20%20%20%22https%3A//cartodb-basemaps-%7Bs%7D.global.ssl.fastly.net/light_all/%7Bz%7D/%7Bx%7D/%7By%7D.png%22%2C%0A%20%20%20%20%20%20%20%20%20%20%20%20%20%20%20%20%7B%22attribution%22%3A%20%22%5Cu0026copy%3B%20%5Cu003ca%20href%3D%5C%22http%3A//www.openstreetmap.org/copyright%5C%22%5Cu003eOpenStreetMap%5Cu003c/a%5Cu003e%20contributors%20%5Cu0026copy%3B%20%5Cu003ca%20href%3D%5C%22http%3A//cartodb.com/attributions%5C%22%5Cu003eCartoDB%5Cu003c/a%5Cu003e%2C%20CartoDB%20%5Cu003ca%20href%20%3D%5C%22http%3A//cartodb.com/attributions%5C%22%5Cu003eattributions%5Cu003c/a%5Cu003e%22%2C%20%22detectRetina%22%3A%20false%2C%20%22maxNativeZoom%22%3A%2018%2C%20%22maxZoom%22%3A%2018%2C%20%22minZoom%22%3A%200%2C%20%22noWrap%22%3A%20false%2C%20%22opacity%22%3A%201%2C%20%22subdomains%22%3A%20%22abc%22%2C%20%22tms%22%3A%20false%7D%0A%20%20%20%20%20%20%20%20%20%20%20%20%29.addTo%28map_8c856eef90ab4e218de177bfd71badd8%29%3B%0A%20%20%20%20%20%20%20%20%0A%20%20%20%20%0A%20%20%20%20%20%20%20%20function%20geo_json_05c0ed21644d494b8f02baca511abdca_styler%28feature%29%20%7B%0A%20%20%20%20%20%20%20%20%20%20%20%20switch%28feature.id%29%20%7B%0A%20%20%20%20%20%20%20%20%20%20%20%20%20%20%20%20case%20%2233%22%3A%20%0A%20%20%20%20%20%20%20%20%20%20%20%20%20%20%20%20%20%20%20%20return%20%7B%22color%22%3A%20%22%23FFFFFF%22%2C%20%22fillColor%22%3A%20%22%23006837ff%22%2C%20%22fillOpacity%22%3A%200.8%2C%20%22weight%22%3A%200.2%7D%3B%0A%20%20%20%20%20%20%20%20%20%20%20%20%20%20%20%20case%20%2235%22%3A%20case%20%2214%22%3A%20case%20%2225%22%3A%20case%20%229%22%3A%20case%20%2210%22%3A%20case%20%2211%22%3A%20case%20%2246%22%3A%20case%20%221%22%3A%20case%20%2239%22%3A%20case%20%2240%22%3A%20%0A%20%20%20%20%20%20%20%20%20%20%20%20%20%20%20%20%20%20%20%20return%20%7B%22color%22%3A%20%22%23FFFFFF%22%2C%20%22fillColor%22%3A%20%22%23fee08bff%22%2C%20%22fillOpacity%22%3A%200.8%2C%20%22weight%22%3A%200.2%7D%3B%0A%20%20%20%20%20%20%20%20%20%20%20%20%20%20%20%20case%20%2224%22%3A%20case%20%2229%22%3A%20case%20%2232%22%3A%20case%20%2221%22%3A%20%0A%20%20%20%20%20%20%20%20%20%20%20%20%20%20%20%20%20%20%20%20return%20%7B%22color%22%3A%20%22%23FFFFFF%22%2C%20%22fillColor%22%3A%20%22%23d73027ff%22%2C%20%22fillOpacity%22%3A%200.8%2C%20%22weight%22%3A%200.2%7D%3B%0A%20%20%20%20%20%20%20%20%20%20%20%20%20%20%20%20case%20%226%22%3A%20case%20%2236%22%3A%20case%20%2242%22%3A%20%0A%20%20%20%20%20%20%20%20%20%20%20%20%20%20%20%20%20%20%20%20return%20%7B%22color%22%3A%20%22%23FFFFFF%22%2C%20%22fillColor%22%3A%20%22%23a6d96aff%22%2C%20%22fillOpacity%22%3A%200.8%2C%20%22weight%22%3A%200.2%7D%3B%0A%20%20%20%20%20%20%20%20%20%20%20%20%20%20%20%20case%20%227%22%3A%20case%20%228%22%3A%20case%20%2230%22%3A%20case%20%220%22%3A%20case%20%2238%22%3A%20%0A%20%20%20%20%20%20%20%20%20%20%20%20%20%20%20%20%20%20%20%20return%20%7B%22color%22%3A%20%22%23FFFFFF%22%2C%20%22fillColor%22%3A%20%22%23d9ef8bff%22%2C%20%22fillOpacity%22%3A%200.8%2C%20%22weight%22%3A%200.2%7D%3B%0A%20%20%20%20%20%20%20%20%20%20%20%20%20%20%20%20case%20%2212%22%3A%20case%20%2213%22%3A%20case%20%2245%22%3A%20case%20%2217%22%3A%20case%20%222%22%3A%20case%20%2237%22%3A%20case%20%2241%22%3A%20case%20%2231%22%3A%20case%20%225%22%3A%20case%20%2222%22%3A%20%0A%20%20%20%20%20%20%20%20%20%20%20%20%20%20%20%20%20%20%20%20return%20%7B%22color%22%3A%20%22%23FFFFFF%22%2C%20%22fillColor%22%3A%20%22%23fdae61ff%22%2C%20%22fillOpacity%22%3A%200.8%2C%20%22weight%22%3A%200.2%7D%3B%0A%20%20%20%20%20%20%20%20%20%20%20%20%20%20%20%20case%20%2216%22%3A%20case%20%2218%22%3A%20%0A%20%20%20%20%20%20%20%20%20%20%20%20%20%20%20%20%20%20%20%20return%20%7B%22color%22%3A%20%22%23FFFFFF%22%2C%20%22fillColor%22%3A%20%22%2366bd63ff%22%2C%20%22fillOpacity%22%3A%200.8%2C%20%22weight%22%3A%200.2%7D%3B%0A%20%20%20%20%20%20%20%20%20%20%20%20%20%20%20%20case%20%223%22%3A%20%0A%20%20%20%20%20%20%20%20%20%20%20%20%20%20%20%20%20%20%20%20return%20%7B%22color%22%3A%20%22%23FFFFFF%22%2C%20%22fillColor%22%3A%20%22%231a9850ff%22%2C%20%22fillOpacity%22%3A%200.8%2C%20%22weight%22%3A%200.2%7D%3B%0A%20%20%20%20%20%20%20%20%20%20%20%20%20%20%20%20default%3A%0A%20%20%20%20%20%20%20%20%20%20%20%20%20%20%20%20%20%20%20%20return%20%7B%22color%22%3A%20%22%23FFFFFF%22%2C%20%22fillColor%22%3A%20%22%23f46d43ff%22%2C%20%22fillOpacity%22%3A%200.8%2C%20%22weight%22%3A%200.2%7D%3B%0A%20%20%20%20%20%20%20%20%20%20%20%20%7D%0A%20%20%20%20%20%20%20%20%7D%0A%20%20%20%20%20%20%20%20function%20geo_json_05c0ed21644d494b8f02baca511abdca_highlighter%28feature%29%20%7B%0A%20%20%20%20%20%20%20%20%20%20%20%20switch%28feature.id%29%20%7B%0A%20%20%20%20%20%20%20%20%20%20%20%20%20%20%20%20default%3A%0A%20%20%20%20%20%20%20%20%20%20%20%20%20%20%20%20%20%20%20%20return%20%7B%22fillColor%22%3A%20%22%23DD1C77%22%2C%20%22fillOpacity%22%3A%200.6%7D%3B%0A%20%20%20%20%20%20%20%20%20%20%20%20%7D%0A%20%20%20%20%20%20%20%20%7D%0A%0A%20%20%20%20%20%20%20%20function%20geo_json_05c0ed21644d494b8f02baca511abdca_onEachFeature%28feature%2C%20layer%29%20%7B%0A%20%20%20%20%20%20%20%20%20%20%20%20layer.on%28%7B%0A%20%20%20%20%20%20%20%20%20%20%20%20%20%20%20%20mouseout%3A%20function%28e%29%20%7B%0A%20%20%20%20%20%20%20%20%20%20%20%20%20%20%20%20%20%20%20%20if%28typeof%20e.target.setStyle%20%3D%3D%3D%20%22function%22%29%7B%0A%20%20%20%20%20%20%20%20%20%20%20%20%20%20%20%20%20%20%20%20%20%20%20%20geo_json_05c0ed21644d494b8f02baca511abdca.resetStyle%28e.target%29%3B%0A%20%20%20%20%20%20%20%20%20%20%20%20%20%20%20%20%20%20%20%20%7D%0A%20%20%20%20%20%20%20%20%20%20%20%20%20%20%20%20%7D%2C%0A%20%20%20%20%20%20%20%20%20%20%20%20%20%20%20%20mouseover%3A%20function%28e%29%20%7B%0A%20%20%20%20%20%20%20%20%20%20%20%20%20%20%20%20%20%20%20%20if%28typeof%20e.target.setStyle%20%3D%3D%3D%20%22function%22%29%7B%0A%20%20%20%20%20%20%20%20%20%20%20%20%20%20%20%20%20%20%20%20%20%20%20%20const%20highlightStyle%20%3D%20geo_json_05c0ed21644d494b8f02baca511abdca_highlighter%28e.target.feature%29%0A%20%20%20%20%20%20%20%20%20%20%20%20%20%20%20%20%20%20%20%20%20%20%20%20e.target.setStyle%28highlightStyle%29%3B%0A%20%20%20%20%20%20%20%20%20%20%20%20%20%20%20%20%20%20%20%20%7D%0A%20%20%20%20%20%20%20%20%20%20%20%20%20%20%20%20%7D%2C%0A%20%20%20%20%20%20%20%20%20%20%20%20%7D%29%3B%0A%20%20%20%20%20%20%20%20%7D%3B%0A%20%20%20%20%20%20%20%20var%20geo_json_05c0ed21644d494b8f02baca511abdca%20%3D%20L.geoJson%28null%2C%20%7B%0A%20%20%20%20%20%20%20%20%20%20%20%20%20%20%20%20onEachFeature%3A%20geo_json_05c0ed21644d494b8f02baca511abdca_onEachFeature%2C%0A%20%20%20%20%20%20%20%20%20%20%20%20%0A%20%20%20%20%20%20%20%20%20%20%20%20%20%20%20%20style%3A%20geo_json_05c0ed21644d494b8f02baca511abdca_styler%2C%0A%20%20%20%20%20%20%20%20%7D%29%3B%0A%0A%20%20%20%20%20%20%20%20function%20geo_json_05c0ed21644d494b8f02baca511abdca_add%20%28data%29%20%7B%0A%20%20%20%20%20%20%20%20%20%20%20%20geo_json_05c0ed21644d494b8f02baca511abdca%0A%20%20%20%20%20%20%20%20%20%20%20%20%20%20%20%20.addData%28data%29%0A%20%20%20%20%20%20%20%20%20%20%20%20%20%20%20%20.addTo%28map_8c856eef90ab4e218de177bfd71badd8%29%3B%0A%20%20%20%20%20%20%20%20%7D%0A%20%20%20%20%20%20%20%20%20%20%20%20geo_json_05c0ed21644d494b8f02baca511abdca_add%28%7B%22bbox%22%3A%20%5B-122.3245030493038%2C%2037.9200646795195%2C%20-122.3148821559962%2C%2037.93296956875353%5D%2C%20%22features%22%3A%20%5B%7B%22bbox%22%3A%20%5B-122.32173840048723%2C%2037.92754240788623%2C%20-122.32043592616627%2C%2037.92909463477172%5D%2C%20%22geometry%22%3A%20%7B%22coordinates%22%3A%20%5B%5B%5B-122.32173840048723%2C%2037.92894763298644%5D%2C%20%5B-122.3215296502761%2C%2037.92894157095821%5D%2C%20%5B-122.32145179642119%2C%2037.92909463477172%5D%2C%20%5B-122.32074310867307%2C%2037.92823000940606%5D%2C%20%5B-122.32043592616627%2C%2037.927683885922484%5D%2C%20%5B-122.3205433213087%2C%2037.92754240788623%5D%2C%20%5B-122.32074825657787%2C%2037.9275743424364%5D%2C%20%5B-122.32104994754187%2C%2037.92811069889496%5D%2C%20%5B-122.32173840048723%2C%2037.92894763298644%5D%5D%5D%2C%20%22type%22%3A%20%22Polygon%22%7D%2C%20%22id%22%3A%20%2233%22%2C%20%22properties%22%3A%20%7B%22_20p_mph%22%3A%2045.5%2C%20%22avg_mph%22%3A%2045.5%2C%20%22corridor%22%3A%20true%2C%20%22direction_id%22%3A%20%221%22%2C%20%22miles_from_last%22%3A%200.1%2C%20%22route_id%22%3A%20%22667%22%2C%20%22route_short_name%22%3A%20%22667%22%2C%20%22shape_id%22%3A%20%22shp-667-06%22%2C%20%22stop_id%22%3A%20%22933%22%2C%20%22stop_name%22%3A%20%22San%20Pablo%20Av%20%5Cu0026%20Wall%20Av%22%2C%20%22stop_sequence%22%3A%2030.0%2C%20%22time_formatted%22%3A%20%220%3A07%22%2C%20%22trips_per_hour%22%3A%200.7%7D%2C%20%22type%22%3A%20%22Feature%22%7D%2C%20%7B%22bbox%22%3A%20%5B-122.32060430098748%2C%2037.924952195280994%2C%20-122.31864711787367%2C%2037.92752750890749%5D%2C%20%22geometry%22%3A%20%7B%22coordinates%22%3A%20%5B%5B%5B-122.31934562608761%2C%2037.925681402795604%5D%2C%20%5B-122.32035044328875%2C%2037.92711304596797%5D%2C%20%5B-122.32060430098748%2C%2037.92735558599305%5D%2C%20%5B-122.32036470576159%2C%2037.927338473865575%5D%2C%20%5B-122.32034087719921%2C%2037.92752750890749%5D%2C%20%5B-122.32005920013964%2C%2037.92725479028288%5D%2C%20%5B-122.31870592053616%2C%2037.92529202324116%5D%2C%20%5B-122.31864711787367%2C%2037.92511341729137%5D%2C%20%5B-122.31877435685624%2C%2037.924952195280994%5D%2C%20%5B-122.31897965711342%2C%2037.925051216051294%5D%2C%20%5B-122.31934562608761%2C%2037.925681402795604%5D%5D%5D%2C%20%22type%22%3A%20%22Polygon%22%7D%2C%20%22id%22%3A%20%2234%22%2C%20%22properties%22%3A%20%7B%22_20p_mph%22%3A%208.0%2C%20%22avg_mph%22%3A%208.0%2C%20%22corridor%22%3A%20true%2C%20%22direction_id%22%3A%20%221%22%2C%20%22miles_from_last%22%3A%200.2%2C%20%22route_id%22%3A%20%22667%22%2C%20%22route_short_name%22%3A%20%22667%22%2C%20%22shape_id%22%3A%20%22shp-667-06%22%2C%20%22stop_id%22%3A%20%22921%22%2C%20%22stop_name%22%3A%20%22San%20Pablo%20Av%20%5Cu0026%20Cutting%20Blvd%20%28Del%20Norte%20BART%29%22%2C%20%22stop_sequence%22%3A%2031.0%2C%20%22time_formatted%22%3A%20%221%3A30%22%2C%20%22trips_per_hour%22%3A%200.7%7D%2C%20%22type%22%3A%20%22Feature%22%7D%2C%20%7B%22bbox%22%3A%20%5B-122.31882287268682%2C%2037.92281122014666%2C%20-122.31712058561956%2C%2037.92491476555504%5D%2C%20%22geometry%22%3A%20%7B%22coordinates%22%3A%20%5B%5B%5B-122.31849910894326%2C%2037.92443157779482%5D%2C%20%5B-122.31882287268682%2C%2037.92474378616272%5D%2C%20%5B-122.31860254019922%2C%2037.924744287839204%5D%2C%20%5B-122.31855847512288%2C%2037.92491476555504%5D%2C%20%5B-122.3182088261109%2C%2037.92457445869579%5D%2C%20%5B-122.31724466863307%2C%2037.923226142770716%5D%2C%20%5B-122.31712058561956%2C%2037.92296088054808%5D%2C%20%5B-122.31723296090146%2C%2037.92281122014666%5D%2C%20%5B-122.31744132930747%2C%2037.92286776478039%5D%2C%20%5B-122.31849910894326%2C%2037.92443157779482%5D%5D%5D%2C%20%22type%22%3A%20%22Polygon%22%7D%2C%20%22id%22%3A%20%2235%22%2C%20%22properties%22%3A%20%7B%22_20p_mph%22%3A%2013.5%2C%20%22avg_mph%22%3A%2013.5%2C%20%22corridor%22%3A%20true%2C%20%22direction_id%22%3A%20%221%22%2C%20%22miles_from_last%22%3A%200.2%2C%20%22route_id%22%3A%20%22667%22%2C%20%22route_short_name%22%3A%20%22667%22%2C%20%22shape_id%22%3A%20%22shp-667-06%22%2C%20%22stop_id%22%3A%20%22924%22%2C%20%22stop_name%22%3A%20%22San%20Pablo%20Av%20%5Cu0026%20Hill%20St%22%2C%20%22stop_sequence%22%3A%2032.0%2C%20%22time_formatted%22%3A%20%220%3A53%22%2C%20%22trips_per_hour%22%3A%200.7%7D%2C%20%22type%22%3A%20%22Feature%22%7D%2C%20%7B%22bbox%22%3A%20%5B-122.3245030493038%2C%2037.924952195280994%2C%20-122.31877406929634%2C%2037.93296956875353%5D%2C%20%22geometry%22%3A%20%7B%22coordinates%22%3A%20%5B%5B%5B-122.3193456391757%2C%2037.925681422782446%5D%2C%20%5B-122.32382367352528%2C%2037.932013459201265%5D%2C%20%5B-122.3245030493038%2C%2037.932820134679076%5D%2C%20%5B-122.3242184550037%2C%2037.93296956875353%5D%2C%20%5B-122.32352879625826%2C%2037.93214998842929%5D%2C%20%5B-122.31904549728493%2C%2037.92581047898135%5D%2C%20%5B-122.31877406929634%2C%2037.92539609536914%5D%2C%20%5B-122.31877435685624%2C%2037.924952195280994%5D%2C%20%5B-122.3193456391757%2C%2037.925681422782446%5D%5D%5D%2C%20%22type%22%3A%20%22Polygon%22%7D%2C%20%22id%22%3A%20%2214%22%2C%20%22properties%22%3A%20%7B%22_20p_mph%22%3A%2014.7%2C%20%22avg_mph%22%3A%2015.7%2C%20%22corridor%22%3A%20true%2C%20%22direction_id%22%3A%20%220%22%2C%20%22miles_from_last%22%3A%200.6%2C%20%22route_id%22%3A%20%22L%22%2C%20%22route_short_name%22%3A%20%22L%22%2C%20%22shape_id%22%3A%20%22shp-L-07%22%2C%20%22stop_id%22%3A%20%22921%22%2C%20%22stop_name%22%3A%20%22San%20Pablo%20Av%20%5Cu0026%20Cutting%20Blvd%20%28Del%20Norte%20BART%29%22%2C%20%22stop_sequence%22%3A%2010.0%2C%20%22time_formatted%22%3A%20%222%3A26%22%2C%20%22trips_per_hour%22%3A%201.4%7D%2C%20%22type%22%3A%20%22Feature%22%7D%2C%20%7B%22bbox%22%3A%20%5B-122.31881495714364%2C%2037.9200646795195%2C%20-122.31526174607014%2C%2037.92490713254764%5D%2C%20%22geometry%22%3A%20%7B%22coordinates%22%3A%20%5B%5B%5B-122.31849902755673%2C%2037.92443149931263%5D%2C%20%5B-122.31881495714364%2C%2037.92473615317281%5D%2C%20%5B-122.31847589206096%2C%2037.92462215970557%5D%2C%20%5B-122.31855055958862%2C%2037.92490713254764%5D%2C%20%5B-122.31820895174621%2C%2037.92457463396279%5D%2C%20%5B-122.31526174607014%2C%2037.92047003538073%5D%2C%20%5B-122.31526563626454%2C%2037.9200646795195%5D%2C%20%5B-122.31553190032578%2C%2037.920265851400124%5D%2C%20%5B-122.31849902755673%2C%2037.92443149931263%5D%5D%5D%2C%20%22type%22%3A%20%22Polygon%22%7D%2C%20%22id%22%3A%20%2215%22%2C%20%22properties%22%3A%20%7B%22_20p_mph%22%3A%208.0%2C%20%22avg_mph%22%3A%209.4%2C%20%22corridor%22%3A%20true%2C%20%22direction_id%22%3A%20%220%22%2C%20%22miles_from_last%22%3A%200.4%2C%20%22route_id%22%3A%20%22L%22%2C%20%22route_short_name%22%3A%20%22L%22%2C%20%22shape_id%22%3A%20%22shp-L-07%22%2C%20%22stop_id%22%3A%20%22931%22%2C%20%22stop_name%22%3A%20%22San%20Pablo%20Av%20%5Cu0026%20Potrero%20Av%22%2C%20%22stop_sequence%22%3A%2011.0%2C%20%22time_formatted%22%3A%20%223%3A00%22%2C%20%22trips_per_hour%22%3A%201.4%7D%2C%20%22type%22%3A%20%22Feature%22%7D%2C%20%7B%22bbox%22%3A%20%5B-122.32317407060061%2C%2037.92492213357791%2C%20-122.31978301669272%2C%2037.9252628811762%5D%2C%20%22geometry%22%3A%20%7B%22coordinates%22%3A%20%5B%5B%5B-122.32143268536079%2C%2037.92502228198412%5D%2C%20%5B-122.32316678099271%2C%2037.92499307804903%5D%2C%20%5B-122.32301022499513%2C%2037.92513067860797%5D%2C%20%5B-122.32317407060061%2C%2037.9252628811762%5D%2C%20%5B-122.32020845679531%2C%2037.92524746155682%5D%2C%20%5B-122.31989233138508%2C%2037.925182380066076%5D%2C%20%5B-122.31978301669272%2C%2037.92501877613828%5D%2C%20%5B-122.31998275409515%2C%2037.92492213357791%5D%2C%20%5B-122.32143268536079%2C%2037.92502228198412%5D%5D%5D%2C%20%22type%22%3A%20%22Polygon%22%7D%2C%20%22id%22%3A%20%2224%22%2C%20%22properties%22%3A%20%7B%22_20p_mph%22%3A%205.8%2C%20%22avg_mph%22%3A%205.9%2C%20%22corridor%22%3A%20true%2C%20%22direction_id%22%3A%20%221%22%2C%20%22miles_from_last%22%3A%200.2%2C%20%22route_id%22%3A%20%22675%22%2C%20%22route_short_name%22%3A%20%22675%22%2C%20%22shape_id%22%3A%20%22shp-675-03%22%2C%20%22stop_id%22%3A%20%2259883%22%2C%20%22stop_name%22%3A%20%22Cutting%20Blvd%20%5Cu0026%20Peerless%20Av%22%2C%20%22stop_sequence%22%3A%2020.0%2C%20%22time_formatted%22%3A%20%222%3A04%22%2C%20%22trips_per_hour%22%3A%201.4%7D%2C%20%22type%22%3A%20%22Feature%22%7D%2C%20%7B%22bbox%22%3A%20%5B-122.31962165262821%2C%2037.92488316922696%2C%20-122.31863606128441%2C%2037.92523647825908%5D%2C%20%22geometry%22%3A%20%7B%22coordinates%22%3A%20%5B%5B%5B-122.31957496318759%2C%2037.92488316922696%5D%2C%20%5B-122.31947929127365%2C%2037.92502979815709%5D%2C%20%5B-122.31962165262821%2C%2037.925150503284776%5D%2C%20%5B-122.31882617704039%2C%2037.92523647825908%5D%2C%20%5B-122.3186580414114%2C%2037.92514570519588%5D%2C%20%5B-122.31863606128441%2C%2037.92507581273109%5D%2C%20%5B-122.31877435685624%2C%2037.924952195280994%5D%2C%20%5B-122.31957496318759%2C%2037.92488316922696%5D%5D%5D%2C%20%22type%22%3A%20%22Polygon%22%7D%2C%20%22id%22%3A%20%2225%22%2C%20%22properties%22%3A%20%7B%22_20p_mph%22%3A%2012.6%2C%20%22avg_mph%22%3A%2013.4%2C%20%22corridor%22%3A%20true%2C%20%22direction_id%22%3A%20%221%22%2C%20%22miles_from_last%22%3A%200.1%2C%20%22route_id%22%3A%20%22675%22%2C%20%22route_short_name%22%3A%20%22675%22%2C%20%22shape_id%22%3A%20%22shp-675-03%22%2C%20%22stop_id%22%3A%20%2252115%22%2C%20%22stop_name%22%3A%20%22San%20Pablo%20Av%20%5Cu0026%20Cutting%20Blvd%20%28Del%20Norte%20BART%29%22%2C%20%22stop_sequence%22%3A%2021.0%2C%20%22time_formatted%22%3A%20%220%3A28%22%2C%20%22trips_per_hour%22%3A%201.4%7D%2C%20%22type%22%3A%20%22Feature%22%7D%2C%20%7B%22bbox%22%3A%20%5B-122.31881827972774%2C%2037.923072572247186%2C%20-122.31753857225127%2C%2037.924920397314324%5D%2C%20%22geometry%22%3A%20%7B%22coordinates%22%3A%20%5B%5B%5B-122.31855502130512%2C%2037.924508652121276%5D%2C%20%5B-122.31881827972774%2C%2037.92474003922336%5D%2C%20%5B-122.31861056424218%2C%2037.924759366316216%5D%2C%20%5B-122.31856407108623%2C%2037.924920397314324%5D%2C%20%5B-122.31826650739445%2C%2037.924654042038966%5D%2C%20%5B-122.31753857225127%2C%2037.92362873034128%5D%2C%20%5B-122.3177399506204%2C%2037.923114937226444%5D%2C%20%5B-122.3179421010095%2C%2037.923072572247186%5D%2C%20%5B-122.31806034244384%2C%2037.92320880764129%5D%2C%20%5B-122.31788851490884%2C%2037.92357454173735%5D%2C%20%5B-122.31855502130512%2C%2037.924508652121276%5D%5D%5D%2C%20%22type%22%3A%20%22Polygon%22%7D%2C%20%22id%22%3A%20%2226%22%2C%20%22properties%22%3A%20%7B%22_20p_mph%22%3A%207.3%2C%20%22avg_mph%22%3A%207.4%2C%20%22corridor%22%3A%20true%2C%20%22direction_id%22%3A%20%221%22%2C%20%22miles_from_last%22%3A%200.2%2C%20%22route_id%22%3A%20%22675%22%2C%20%22route_short_name%22%3A%20%22675%22%2C%20%22shape_id%22%3A%20%22shp-675-03%22%2C%20%22stop_id%22%3A%20%2252099%22%2C%20%22stop_name%22%3A%20%22Eastshore%20Blvd%20%5Cu0026%20San%20Pablo%20Av%22%2C%20%22stop_sequence%22%3A%2022.0%2C%20%22time_formatted%22%3A%20%221%3A38%22%2C%20%22trips_per_hour%22%3A%201.4%7D%2C%20%22type%22%3A%20%22Feature%22%7D%2C%20%7B%22bbox%22%3A%20%5B-122.31783384504679%2C%2037.9212765402209%2C%20-122.3148821559962%2C%2037.92512917060803%5D%2C%20%22geometry%22%3A%20%7B%22coordinates%22%3A%20%5B%5B%5B-122.31543548274905%2C%2037.92211617017132%5D%2C%20%5B-122.3148821559962%2C%2037.92148033446186%5D%2C%20%5B-122.3152171300079%2C%2037.92154761147856%5D%2C%20%5B-122.3152576625315%2C%2037.9212765402209%5D%2C%20%5B-122.31582976453987%2C%2037.92193560234243%5D%2C%20%5B-122.31776886122803%2C%2037.924738729474164%5D%2C%20%5B-122.31783384504679%2C%2037.924875149928724%5D%2C%20%5B-122.31770735217938%2C%2037.92512917060803%5D%2C%20%5B-122.31740503909815%2C%2037.92499683599372%5D%2C%20%5B-122.31543548274905%2C%2037.92211617017132%5D%5D%5D%2C%20%22type%22%3A%20%22Polygon%22%7D%2C%20%22id%22%3A%20%226%22%2C%20%22properties%22%3A%20%7B%22_20p_mph%22%3A%2020.6%2C%20%22avg_mph%22%3A%2020.6%2C%20%22corridor%22%3A%20true%2C%20%22direction_id%22%3A%20%220%22%2C%20%22miles_from_last%22%3A%200.3%2C%20%22route_id%22%3A%20%22667%22%2C%20%22route_short_name%22%3A%20%22667%22%2C%20%22shape_id%22%3A%20%22shp-667-56%22%2C%20%22stop_id%22%3A%20%2251356%22%2C%20%22stop_name%22%3A%20%22San%20Pablo%20Av%20%5Cu0026%20Cutting%20Blvd%20%28Del%20Norte%20BART%29%22%2C%20%22stop_sequence%22%3A%207.0%2C%20%22time_formatted%22%3A%20%220%3A52%22%2C%20%22trips_per_hour%22%3A%202.1%7D%2C%20%22type%22%3A%20%22Feature%22%7D%2C%20%7B%22bbox%22%3A%20%5B-122.32001044098601%2C%2037.925119936173736%2C%20-122.31757454158712%2C%2037.92819118424291%5D%2C%20%22geometry%22%3A%20%7B%22coordinates%22%3A%20%5B%5B%5B-122.31757454158712%2C%2037.92530884702789%5D%2C%20%5B-122.31787726999113%2C%2037.92535370218521%5D%2C%20%5B-122.31796234626474%2C%2037.925119936173736%5D%2C%20%5B-122.31911369263368%2C%2037.9265937649132%5D%2C%20%5B-122.32001044098601%2C%2037.92796318003513%5D%2C%20%5B-122.31990317722828%2C%2037.92819118424291%5D%2C%20%5B-122.31960561116131%2C%2037.92812834638235%5D%2C%20%5B-122.31872134413905%2C%2037.92677686913968%5D%2C%20%5B-122.31757454158712%2C%2037.92530884702789%5D%5D%5D%2C%20%22type%22%3A%20%22Polygon%22%7D%2C%20%22id%22%3A%20%227%22%2C%20%22properties%22%3A%20%7B%22_20p_mph%22%3A%2017.1%2C%20%22avg_mph%22%3A%2017.1%2C%20%22corridor%22%3A%20true%2C%20%22direction_id%22%3A%20%220%22%2C%20%22miles_from_last%22%3A%200.2%2C%20%22route_id%22%3A%20%22667%22%2C%20%22route_short_name%22%3A%20%22667%22%2C%20%22shape_id%22%3A%20%22shp-667-56%22%2C%20%22stop_id%22%3A%20%2253019%22%2C%20%22stop_name%22%3A%20%22San%20Pablo%20Av%20%5Cu0026%20Wall%20Av%22%2C%20%22stop_sequence%22%3A%208.0%2C%20%22time_formatted%22%3A%20%220%3A42%22%2C%20%22trips_per_hour%22%3A%202.1%7D%2C%20%22type%22%3A%20%22Feature%22%7D%2C%20%7B%22bbox%22%3A%20%5B-122.3212517633073%2C%2037.92816414980599%2C%20-122.31975888393254%2C%2037.9298840355814%5D%2C%20%22geometry%22%3A%20%7B%22coordinates%22%3A%20%5B%5B%5B-122.31975888393254%2C%2037.92835390168908%5D%2C%20%5B-122.32003828677871%2C%2037.92836821129372%5D%2C%20%5B-122.32014604535023%2C%2037.92816414980599%5D%2C%20%5B-122.3212517633073%2C%2037.929691498351545%5D%2C%20%5B-122.32111413094013%2C%2037.9298840355814%5D%2C%20%5B-122.32083884015307%2C%2037.929843675936574%5D%2C%20%5B-122.31975888393254%2C%2037.92835390168908%5D%5D%5D%2C%20%22type%22%3A%20%22Polygon%22%7D%2C%20%22id%22%3A%20%228%22%2C%20%22properties%22%3A%20%7B%22_20p_mph%22%3A%2016.8%2C%20%22avg_mph%22%3A%2016.8%2C%20%22corridor%22%3A%20true%2C%20%22direction_id%22%3A%20%220%22%2C%20%22miles_from_last%22%3A%200.1%2C%20%22route_id%22%3A%20%22667%22%2C%20%22route_short_name%22%3A%20%22667%22%2C%20%22shape_id%22%3A%20%22shp-667-56%22%2C%20%22stop_id%22%3A%20%2253372%22%2C%20%22stop_name%22%3A%20%22San%20Pablo%20Av%20%5Cu0026%20Conlon%20Av%22%2C%20%22stop_sequence%22%3A%209.0%2C%20%22time_formatted%22%3A%20%220%3A21%22%2C%20%22trips_per_hour%22%3A%202.1%7D%2C%20%22type%22%3A%20%22Feature%22%7D%2C%20%7B%22bbox%22%3A%20%5B-122.31783384504679%2C%2037.9212765402209%2C%20-122.3148821559962%2C%2037.92512917060803%5D%2C%20%22geometry%22%3A%20%7B%22coordinates%22%3A%20%5B%5B%5B-122.31543548274905%2C%2037.92211617017132%5D%2C%20%5B-122.3148821559962%2C%2037.92148033446186%5D%2C%20%5B-122.3152171300079%2C%2037.92154761147856%5D%2C%20%5B-122.3152576625315%2C%2037.9212765402209%5D%2C%20%5B-122.31582976453987%2C%2037.92193560234243%5D%2C%20%5B-122.31776886122803%2C%2037.924738729474164%5D%2C%20%5B-122.31783384504679%2C%2037.924875149928724%5D%2C%20%5B-122.31770735217938%2C%2037.92512917060803%5D%2C%20%5B-122.31740503909815%2C%2037.92499683599372%5D%2C%20%5B-122.31543548274905%2C%2037.92211617017132%5D%5D%5D%2C%20%22type%22%3A%20%22Polygon%22%7D%2C%20%22id%22%3A%20%229%22%2C%20%22properties%22%3A%20%7B%22_20p_mph%22%3A%2013.6%2C%20%22avg_mph%22%3A%2023.1%2C%20%22corridor%22%3A%20true%2C%20%22direction_id%22%3A%20%220%22%2C%20%22miles_from_last%22%3A%200.3%2C%20%22route_id%22%3A%20%22667%22%2C%20%22route_short_name%22%3A%20%22667%22%2C%20%22shape_id%22%3A%20%22shp-667-52%22%2C%20%22stop_id%22%3A%20%2251356%22%2C%20%22stop_name%22%3A%20%22San%20Pablo%20Av%20%5Cu0026%20Cutting%20Blvd%20%28Del%20Norte%20BART%29%22%2C%20%22stop_sequence%22%3A%208.0%2C%20%22time_formatted%22%3A%20%221%3A19%22%2C%20%22trips_per_hour%22%3A%202.1%7D%2C%20%22type%22%3A%20%22Feature%22%7D%2C%20%7B%22bbox%22%3A%20%5B-122.32001044098601%2C%2037.925119936173736%2C%20-122.31757454158712%2C%2037.92819118424291%5D%2C%20%22geometry%22%3A%20%7B%22coordinates%22%3A%20%5B%5B%5B-122.31757454158712%2C%2037.92530884702789%5D%2C%20%5B-122.31787726999113%2C%2037.92535370218521%5D%2C%20%5B-122.31796234626474%2C%2037.925119936173736%5D%2C%20%5B-122.31911369263368%2C%2037.9265937649132%5D%2C%20%5B-122.32001044098601%2C%2037.92796318003513%5D%2C%20%5B-122.31990317722828%2C%2037.92819118424291%5D%2C%20%5B-122.31960561116131%2C%2037.92812834638235%5D%2C%20%5B-122.31872134413905%2C%2037.92677686913968%5D%2C%20%5B-122.31757454158712%2C%2037.92530884702789%5D%5D%5D%2C%20%22type%22%3A%20%22Polygon%22%7D%2C%20%22id%22%3A%20%2210%22%2C%20%22properties%22%3A%20%7B%22_20p_mph%22%3A%2015.0%2C%20%22avg_mph%22%3A%2017.6%2C%20%22corridor%22%3A%20true%2C%20%22direction_id%22%3A%20%220%22%2C%20%22miles_from_last%22%3A%200.2%2C%20%22route_id%22%3A%20%22667%22%2C%20%22route_short_name%22%3A%20%22667%22%2C%20%22shape_id%22%3A%20%22shp-667-52%22%2C%20%22stop_id%22%3A%20%2253019%22%2C%20%22stop_name%22%3A%20%22San%20Pablo%20Av%20%5Cu0026%20Wall%20Av%22%2C%20%22stop_sequence%22%3A%209.0%2C%20%22time_formatted%22%3A%20%220%3A48%22%2C%20%22trips_per_hour%22%3A%202.1%7D%2C%20%22type%22%3A%20%22Feature%22%7D%2C%20%7B%22bbox%22%3A%20%5B-122.3212517633073%2C%2037.92816414980599%2C%20-122.31975888393254%2C%2037.9298840355814%5D%2C%20%22geometry%22%3A%20%7B%22coordinates%22%3A%20%5B%5B%5B-122.31975888393254%2C%2037.92835390168908%5D%2C%20%5B-122.32003828677871%2C%2037.92836821129372%5D%2C%20%5B-122.32014604535023%2C%2037.92816414980599%5D%2C%20%5B-122.3212517633073%2C%2037.929691498351545%5D%2C%20%5B-122.32111413094013%2C%2037.9298840355814%5D%2C%20%5B-122.32083884015307%2C%2037.929843675936574%5D%2C%20%5B-122.31975888393254%2C%2037.92835390168908%5D%5D%5D%2C%20%22type%22%3A%20%22Polygon%22%7D%2C%20%22id%22%3A%20%2211%22%2C%20%22properties%22%3A%20%7B%22_20p_mph%22%3A%2012.1%2C%20%22avg_mph%22%3A%2012.8%2C%20%22corridor%22%3A%20true%2C%20%22direction_id%22%3A%20%220%22%2C%20%22miles_from_last%22%3A%200.1%2C%20%22route_id%22%3A%20%22667%22%2C%20%22route_short_name%22%3A%20%22667%22%2C%20%22shape_id%22%3A%20%22shp-667-52%22%2C%20%22stop_id%22%3A%20%2253372%22%2C%20%22stop_name%22%3A%20%22San%20Pablo%20Av%20%5Cu0026%20Conlon%20Av%22%2C%20%22stop_sequence%22%3A%2010.0%2C%20%22time_formatted%22%3A%20%220%3A29%22%2C%20%22trips_per_hour%22%3A%202.1%7D%2C%20%22type%22%3A%20%22Feature%22%7D%2C%20%7B%22bbox%22%3A%20%5B-122.31783384504679%2C%2037.9212765402209%2C%20-122.3148821559962%2C%2037.92512917060803%5D%2C%20%22geometry%22%3A%20%7B%22coordinates%22%3A%20%5B%5B%5B-122.31543548274905%2C%2037.92211617017132%5D%2C%20%5B-122.3148821559962%2C%2037.92148033446186%5D%2C%20%5B-122.3152171300079%2C%2037.92154761147856%5D%2C%20%5B-122.3152576625315%2C%2037.9212765402209%5D%2C%20%5B-122.31582976453987%2C%2037.92193560234243%5D%2C%20%5B-122.31776886122803%2C%2037.924738729474164%5D%2C%20%5B-122.31783384504679%2C%2037.924875149928724%5D%2C%20%5B-122.31770735217938%2C%2037.92512917060803%5D%2C%20%5B-122.31740503909815%2C%2037.92499683599372%5D%2C%20%5B-122.31543548274905%2C%2037.92211617017132%5D%5D%5D%2C%20%22type%22%3A%20%22Polygon%22%7D%2C%20%22id%22%3A%20%2212%22%2C%20%22properties%22%3A%20%7B%22_20p_mph%22%3A%2011.1%2C%20%22avg_mph%22%3A%2016.3%2C%20%22corridor%22%3A%20true%2C%20%22direction_id%22%3A%20%221%22%2C%20%22miles_from_last%22%3A%200.3%2C%20%22route_id%22%3A%20%22L%22%2C%20%22route_short_name%22%3A%20%22L%22%2C%20%22shape_id%22%3A%20%22shp-L-06%22%2C%20%22stop_id%22%3A%20%22920%22%2C%20%22stop_name%22%3A%20%22San%20Pablo%20Av%20%5Cu0026%20Cutting%20Blvd%20%28Del%20Norte%20BART%29%22%2C%20%22stop_sequence%22%3A%208.0%2C%20%22time_formatted%22%3A%20%221%3A37%22%2C%20%22trips_per_hour%22%3A%202.1%7D%2C%20%22type%22%3A%20%22Feature%22%7D%2C%20%7B%22bbox%22%3A%20%5B-122.32319156624315%2C%2037.92513068070375%2C%20-122.31758293492133%2C%2037.932812497062336%5D%2C%20%22geometry%22%3A%20%7B%22coordinates%22%3A%20%5B%5B%5B-122.31872343547187%2C%2037.9267795461925%5D%2C%20%5B-122.31758293492133%2C%2037.92531959158504%5D%2C%20%5B-122.3180535315335%2C%2037.92557933731815%5D%2C%20%5B-122.31797073963342%2C%2037.92513068070375%5D%2C%20%5B-122.3191184237918%2C%2037.926600107943926%5D%2C%20%5B-122.32294369777567%2C%2037.93197680718483%5D%2C%20%5B-122.3231728197754%2C%2037.932359343603025%5D%2C%20%5B-122.32319156624315%2C%2037.932812497062336%5D%2C%20%5B-122.32276065828962%2C%2037.93251282783653%5D%2C%20%5B-122.31872343547187%2C%2037.9267795461925%5D%5D%5D%2C%20%22type%22%3A%20%22Polygon%22%7D%2C%20%22id%22%3A%20%2213%22%2C%20%22properties%22%3A%20%7B%22_20p_mph%22%3A%2011.5%2C%20%22avg_mph%22%3A%2013.8%2C%20%22corridor%22%3A%20true%2C%20%22direction_id%22%3A%20%221%22%2C%20%22miles_from_last%22%3A%200.6%2C%20%22route_id%22%3A%20%22L%22%2C%20%22route_short_name%22%3A%20%22L%22%2C%20%22shape_id%22%3A%20%22shp-L-06%22%2C%20%22stop_id%22%3A%20%224111%22%2C%20%22stop_name%22%3A%20%22San%20Pablo%20Av%20%5Cu0026%20MacDonald%20Av%22%2C%20%22stop_sequence%22%3A%209.0%2C%20%22time_formatted%22%3A%20%223%3A07%22%2C%20%22trips_per_hour%22%3A%202.1%7D%2C%20%22type%22%3A%20%22Feature%22%7D%2C%20%7B%22bbox%22%3A%20%5B-122.31914894563971%2C%2037.92285951230468%2C%20-122.31655494347369%2C%2037.925983628729206%5D%2C%20%22geometry%22%3A%20%7B%22coordinates%22%3A%20%5B%5B%5B-122.31814859334996%2C%2037.925883781944314%5D%2C%20%5B-122.31800427679906%2C%2037.92580838145853%5D%2C%20%5B-122.31752497184233%2C%2037.92522612667815%5D%2C%20%5B-122.31655494347369%2C%2037.923799744711125%5D%2C%20%5B-122.31657628354363%2C%2037.9234639871523%5D%2C%20%5B-122.31673402585436%2C%2037.92331046119092%5D%2C%20%5B-122.31672416363595%2C%2037.9228674189156%5D%2C%20%5B-122.31701310926312%2C%2037.92305274445255%5D%2C%20%5B-122.3172936266869%2C%2037.92285951230468%5D%2C%20%5B-122.31730172928123%2C%2037.923444328831025%5D%2C%20%5B-122.31711206876156%2C%2037.923670785107376%5D%2C%20%5B-122.31839760854324%2C%2037.92546275102272%5D%2C%20%5B-122.31896178566491%2C%2037.92554056107705%5D%2C%20%5B-122.31914894563971%2C%2037.92579466419419%5D%2C%20%5B-122.31886379328085%2C%2037.925983628729206%5D%2C%20%5B-122.31814859334996%2C%2037.925883781944314%5D%5D%5D%2C%20%22type%22%3A%20%22Polygon%22%7D%2C%20%22id%22%3A%20%2227%22%2C%20%22properties%22%3A%20%7B%22_20p_mph%22%3A%208.8%2C%20%22avg_mph%22%3A%2012.9%2C%20%22corridor%22%3A%20true%2C%20%22direction_id%22%3A%20%220%22%2C%20%22miles_from_last%22%3A%200.3%2C%20%22route_id%22%3A%20%22675%22%2C%20%22route_short_name%22%3A%20%22675%22%2C%20%22shape_id%22%3A%20%22shp-675-57%22%2C%20%22stop_id%22%3A%20%22859%22%2C%20%22stop_name%22%3A%20%22Cutting%20Blvd%20%5Cu0026%20San%20Pablo%20Av%22%2C%20%22stop_sequence%22%3A%2023.0%2C%20%22time_formatted%22%3A%20%222%3A02%22%2C%20%22trips_per_hour%22%3A%203.6%7D%2C%20%22type%22%3A%20%22Feature%22%7D%2C%20%7B%22bbox%22%3A%20%5B-122.32317615746085%2C%2037.92550640722127%2C%20-122.31929189795144%2C%2037.92606698453378%5D%2C%20%22geometry%22%3A%20%7B%22coordinates%22%3A%20%5B%5B%5B-122.31972071836088%2C%2037.92595656667453%5D%2C%20%5B-122.31944395934062%2C%2037.926017111232575%5D%2C%20%5B-122.3195658489796%2C%2037.925757089164975%5D%2C%20%5B-122.31929189795144%2C%2037.92558366216063%5D%2C%20%5B-122.31968761884946%2C%2037.92550640722127%5D%2C%20%5B-122.32298480103633%2C%2037.92561773702076%5D%2C%20%5B-122.32317615746085%2C%2037.925850206946954%5D%2C%20%5B-122.32295724448709%2C%2037.92606698453378%5D%2C%20%5B-122.31972071836088%2C%2037.92595656667453%5D%5D%5D%2C%20%22type%22%3A%20%22Polygon%22%7D%2C%20%22id%22%3A%20%2228%22%2C%20%22properties%22%3A%20%7B%22_20p_mph%22%3A%208.1%2C%20%22avg_mph%22%3A%2014.5%2C%20%22corridor%22%3A%20true%2C%20%22direction_id%22%3A%20%220%22%2C%20%22miles_from_last%22%3A%200.2%2C%20%22route_id%22%3A%20%22675%22%2C%20%22route_short_name%22%3A%20%22675%22%2C%20%22shape_id%22%3A%20%22shp-675-57%22%2C%20%22stop_id%22%3A%20%223924%22%2C%20%22stop_name%22%3A%20%22Cutting%20Blvd%20%5Cu0026%20S%2049th%20St%22%2C%20%22stop_sequence%22%3A%2024.0%2C%20%22time_formatted%22%3A%20%221%3A28%22%2C%20%22trips_per_hour%22%3A%203.6%7D%2C%20%22type%22%3A%20%22Feature%22%7D%2C%20%7B%22bbox%22%3A%20%5B-122.31914894563971%2C%2037.92285951230468%2C%20-122.31655494347369%2C%2037.925983628729206%5D%2C%20%22geometry%22%3A%20%7B%22coordinates%22%3A%20%5B%5B%5B-122.31814859334996%2C%2037.925883781944314%5D%2C%20%5B-122.31800427679906%2C%2037.92580838145853%5D%2C%20%5B-122.31752497184233%2C%2037.92522612667815%5D%2C%20%5B-122.31655494347369%2C%2037.923799744711125%5D%2C%20%5B-122.31657628354363%2C%2037.9234639871523%5D%2C%20%5B-122.31673402585436%2C%2037.92331046119092%5D%2C%20%5B-122.31672416363595%2C%2037.9228674189156%5D%2C%20%5B-122.31701310926312%2C%2037.92305274445255%5D%2C%20%5B-122.3172936266869%2C%2037.92285951230468%5D%2C%20%5B-122.31730172928123%2C%2037.923444328831025%5D%2C%20%5B-122.31711206876156%2C%2037.923670785107376%5D%2C%20%5B-122.31839760854324%2C%2037.92546275102272%5D%2C%20%5B-122.31896178566491%2C%2037.92554056107705%5D%2C%20%5B-122.31914894563971%2C%2037.92579466419419%5D%2C%20%5B-122.31886379328085%2C%2037.925983628729206%5D%2C%20%5B-122.31814859334996%2C%2037.925883781944314%5D%5D%5D%2C%20%22type%22%3A%20%22Polygon%22%7D%2C%20%22id%22%3A%20%2229%22%2C%20%22properties%22%3A%20%7B%22_20p_mph%22%3A%206.0%2C%20%22avg_mph%22%3A%207.1%2C%20%22corridor%22%3A%20true%2C%20%22direction_id%22%3A%20%220%22%2C%20%22miles_from_last%22%3A%200.3%2C%20%22route_id%22%3A%20%22675%22%2C%20%22route_short_name%22%3A%20%22675%22%2C%20%22shape_id%22%3A%20%22shp-675-56%22%2C%20%22stop_id%22%3A%20%22859%22%2C%20%22stop_name%22%3A%20%22Cutting%20Blvd%20%5Cu0026%20San%20Pablo%20Av%22%2C%20%22stop_sequence%22%3A%2030.0%2C%20%22time_formatted%22%3A%20%222%3A59%22%2C%20%22trips_per_hour%22%3A%203.6%7D%2C%20%22type%22%3A%20%22Feature%22%7D%2C%20%7B%22bbox%22%3A%20%5B-122.32317615746085%2C%2037.92550640722127%2C%20-122.31929189795144%2C%2037.92606698453378%5D%2C%20%22geometry%22%3A%20%7B%22coordinates%22%3A%20%5B%5B%5B-122.31972071836088%2C%2037.92595656667453%5D%2C%20%5B-122.31944395934062%2C%2037.926017111232575%5D%2C%20%5B-122.3195658489796%2C%2037.925757089164975%5D%2C%20%5B-122.31929189795144%2C%2037.92558366216063%5D%2C%20%5B-122.31968761884946%2C%2037.92550640722127%5D%2C%20%5B-122.32298480103633%2C%2037.92561773702076%5D%2C%20%5B-122.32317615746085%2C%2037.925850206946954%5D%2C%20%5B-122.32295724448709%2C%2037.92606698453378%5D%2C%20%5B-122.31972071836088%2C%2037.92595656667453%5D%5D%5D%2C%20%22type%22%3A%20%22Polygon%22%7D%2C%20%22id%22%3A%20%2230%22%2C%20%22properties%22%3A%20%7B%22_20p_mph%22%3A%2017.9%2C%20%22avg_mph%22%3A%2019.3%2C%20%22corridor%22%3A%20true%2C%20%22direction_id%22%3A%20%220%22%2C%20%22miles_from_last%22%3A%200.2%2C%20%22route_id%22%3A%20%22675%22%2C%20%22route_short_name%22%3A%20%22675%22%2C%20%22shape_id%22%3A%20%22shp-675-56%22%2C%20%22stop_id%22%3A%20%223924%22%2C%20%22stop_name%22%3A%20%22Cutting%20Blvd%20%5Cu0026%20S%2049th%20St%22%2C%20%22stop_sequence%22%3A%2031.0%2C%20%22time_formatted%22%3A%20%220%3A40%22%2C%20%22trips_per_hour%22%3A%203.6%7D%2C%20%22type%22%3A%20%22Feature%22%7D%2C%20%7B%22bbox%22%3A%20%5B-122.32317615746085%2C%2037.925461433736764%2C%20-122.3192767429855%2C%2037.92611027925667%5D%2C%20%22geometry%22%3A%20%7B%22coordinates%22%3A%20%5B%5B%5B-122.31972809190691%2C%2037.926001625079344%5D%2C%20%5B-122.31945921665285%2C%2037.92606044495576%5D%2C%20%5B-122.319607016426%2C%2037.92574808323245%5D%2C%20%5B-122.3192767429855%2C%2037.9255403060695%5D%2C%20%5B-122.31968837246383%2C%2037.925461433736764%5D%2C%20%5B-122.32294494176068%2C%2037.92557118225275%5D%2C%20%5B-122.32317615746085%2C%2037.925850206946954%5D%2C%20%5B-122.32291187359546%2C%2037.92611027925667%5D%2C%20%5B-122.31972809190691%2C%2037.926001625079344%5D%5D%5D%2C%20%22type%22%3A%20%22Polygon%22%7D%2C%20%22id%22%3A%20%220%22%2C%20%22properties%22%3A%20%7B%22_20p_mph%22%3A%2017.7%2C%20%22avg_mph%22%3A%2020.4%2C%20%22corridor%22%3A%20true%2C%20%22direction_id%22%3A%20%221%22%2C%20%22miles_from_last%22%3A%200.2%2C%20%22route_id%22%3A%20%22376%22%2C%20%22route_short_name%22%3A%20%22376%22%2C%20%22shape_id%22%3A%20%22shp-376-09%22%2C%20%22stop_id%22%3A%20%223924%22%2C%20%22stop_name%22%3A%20%22Cutting%20Blvd%20%5Cu0026%20S%2049th%20St%22%2C%20%22stop_sequence%22%3A%203.0%2C%20%22time_formatted%22%3A%20%220%3A40%22%2C%20%22trips_per_hour%22%3A%2010.7%7D%2C%20%22type%22%3A%20%22Feature%22%7D%2C%20%7B%22bbox%22%3A%20%5B-122.32318012943998%2C%2037.92481035560385%2C%20-122.31978301669272%2C%2037.92539774206813%5D%2C%20%22geometry%22%3A%20%7B%22coordinates%22%3A%20%5B%5B%5B-122.32143483694027%2C%2037.9248872828458%5D%2C%20%5B-122.3231655502068%2C%2037.924858135814034%5D%2C%20%5B-122.32292485841646%2C%2037.925132116740734%5D%2C%20%5B-122.32318012943998%2C%2037.92539774206813%5D%2C%20%5B-122.32016291870556%2C%2037.92537921466739%5D%2C%20%5B-122.31993179132247%2C%2037.92533084870779%5D%2C%20%5B-122.31978301669272%2C%2037.92501877613828%5D%2C%20%5B-122.32011263619827%2C%2037.92481035560385%5D%2C%20%5B-122.32143483694027%2C%2037.9248872828458%5D%5D%5D%2C%20%22type%22%3A%20%22Polygon%22%7D%2C%20%22id%22%3A%20%2236%22%2C%20%22properties%22%3A%20%7B%22_20p_mph%22%3A%2020.2%2C%20%22avg_mph%22%3A%2022.6%2C%20%22corridor%22%3A%20true%2C%20%22direction_id%22%3A%20%220%22%2C%20%22miles_from_last%22%3A%200.2%2C%20%22route_id%22%3A%20%22376%22%2C%20%22route_short_name%22%3A%20%22376%22%2C%20%22shape_id%22%3A%20%22shp-376-54%22%2C%20%22stop_id%22%3A%20%2259883%22%2C%20%22stop_name%22%3A%20%22Cutting%20Blvd%20%5Cu0026%20Peerless%20Av%22%2C%20%22stop_sequence%22%3A%2042.0%2C%20%22time_formatted%22%3A%20%220%3A35%22%2C%20%22trips_per_hour%22%3A%2010.7%7D%2C%20%22type%22%3A%20%22Feature%22%7D%2C%20%7B%22bbox%22%3A%20%5B-122.32005563021224%2C%2037.92442795164499%2C%20-122.31592640637011%2C%2037.92819118424291%5D%2C%20%22geometry%22%3A%20%7B%22coordinates%22%3A%20%5B%5B%5B-122.31792804801589%2C%2037.9262598720809%5D%2C%20%5B-122.3176955842753%2C%2037.926279857326165%5D%2C%20%5B-122.31725029627685%2C%2037.926150116322404%5D%2C%20%5B-122.31687674261447%2C%2037.925836486231304%5D%2C%20%5B-122.31592640637011%2C%2037.92473111520117%5D%2C%20%5B-122.31638523551968%2C%2037.924784356555065%5D%2C%20%5B-122.31649187679187%2C%2037.92442795164499%5D%2C%20%5B-122.31767527395353%2C%2037.92572016519045%5D%2C%20%5B-122.3182297141053%2C%2037.9255532924524%5D%2C%20%5B-122.31853011031183%2C%2037.92562923603775%5D%2C%20%5B-122.32005563021224%2C%2037.92784531723812%5D%2C%20%5B-122.31990317722828%2C%2037.92819118424291%5D%2C%20%5B-122.31945368256841%2C%2037.92810099923267%5D%2C%20%5B-122.31814268492914%2C%2037.926176399786414%5D%2C%20%5B-122.31792804801589%2C%2037.9262598720809%5D%5D%5D%2C%20%22type%22%3A%20%22Polygon%22%7D%2C%20%22id%22%3A%20%2245%22%2C%20%22properties%22%3A%20%7B%22_20p_mph%22%3A%2011.4%2C%20%22avg_mph%22%3A%2013.7%2C%20%22corridor%22%3A%20true%2C%20%22direction_id%22%3A%20%221%22%2C%20%22miles_from_last%22%3A%200.4%2C%20%22route_id%22%3A%20%22800%22%2C%20%22route_short_name%22%3A%20%22800%22%2C%20%22shape_id%22%3A%20%22shp-800-A2%22%2C%20%22stop_id%22%3A%20%226264%22%2C%20%22stop_name%22%3A%20%22San%20Pablo%20Av%20%5Cu0026%20Wall%20Av%22%2C%20%22stop_sequence%22%3A%2080.0%2C%20%22time_formatted%22%3A%20%222%3A06%22%2C%20%22trips_per_hour%22%3A%2010.7%7D%2C%20%22type%22%3A%20%22Feature%22%7D%2C%20%7B%22bbox%22%3A%20%5B-122.32131891400378%2C%2037.928116799692845%2C%20-122.31966216248236%2C%2037.9298840355814%5D%2C%20%22geometry%22%3A%20%7B%22coordinates%22%3A%20%5B%5B%5B-122.31966216248236%2C%2037.928401427517834%5D%2C%20%5B-122.32008334337219%2C%2037.92842553359911%5D%2C%20%5B-122.3202429046093%2C%2037.928116799692845%5D%2C%20%5B-122.32131891400378%2C%2037.92959241238443%5D%2C%20%5B-122.32111413094013%2C%2037.9298840355814%5D%2C%20%5B-122.32069952966745%2C%2037.92982067857558%5D%2C%20%5B-122.31966216248236%2C%2037.928401427517834%5D%5D%5D%2C%20%22type%22%3A%20%22Polygon%22%7D%2C%20%22id%22%3A%20%2246%22%2C%20%22properties%22%3A%20%7B%22_20p_mph%22%3A%2014.0%2C%20%22avg_mph%22%3A%2024.1%2C%20%22corridor%22%3A%20true%2C%20%22direction_id%22%3A%20%221%22%2C%20%22miles_from_last%22%3A%200.1%2C%20%22route_id%22%3A%20%22800%22%2C%20%22route_short_name%22%3A%20%22800%22%2C%20%22shape_id%22%3A%20%22shp-800-A2%22%2C%20%22stop_id%22%3A%20%22919%22%2C%20%22stop_name%22%3A%20%22San%20Pablo%20Av%20%5Cu0026%20Conlon%20Av%22%2C%20%22stop_sequence%22%3A%2081.0%2C%20%22time_formatted%22%3A%20%220%3A25%22%2C%20%22trips_per_hour%22%3A%2010.7%7D%2C%20%22type%22%3A%20%22Feature%22%7D%2C%20%7B%22bbox%22%3A%20%5B-122.32188156134858%2C%2037.92754240788623%2C%20-122.32033167707341%2C%2037.9291679643044%5D%2C%20%22geometry%22%3A%20%7B%22coordinates%22%3A%20%5B%5B%5B-122.32188156134858%2C%2037.92887396073455%5D%2C%20%5B-122.32145983888935%2C%2037.928856703712235%5D%2C%20%5B-122.32130835321728%2C%2037.9291679643044%5D%2C%20%5B-122.32059886948653%2C%2037.92830391083711%5D%2C%20%5B-122.32033167707341%2C%2037.92783095783022%5D%2C%20%5B-122.3205433213087%2C%2037.92754240788623%5D%2C%20%5B-122.32095633851482%2C%2037.927611870587626%5D%2C%20%5B-122.32120061991635%2C%2037.928046160236434%5D%2C%20%5B-122.32188156134858%2C%2037.92887396073455%5D%5D%5D%2C%20%22type%22%3A%20%22Polygon%22%7D%2C%20%22id%22%3A%20%2216%22%2C%20%22properties%22%3A%20%7B%22_20p_mph%22%3A%2021.5%2C%20%22avg_mph%22%3A%2030.9%2C%20%22corridor%22%3A%20true%2C%20%22direction_id%22%3A%20%220%22%2C%20%22miles_from_last%22%3A%200.1%2C%20%22route_id%22%3A%20%22800%22%2C%20%22route_short_name%22%3A%20%22800%22%2C%20%22shape_id%22%3A%20%22shp-800-81%22%2C%20%22stop_id%22%3A%20%22933%22%2C%20%22stop_name%22%3A%20%22San%20Pablo%20Av%20%5Cu0026%20Wall%20Av%22%2C%20%22stop_sequence%22%3A%2014.0%2C%20%22time_formatted%22%3A%20%220%3A16%22%2C%20%22trips_per_hour%22%3A%2011.4%7D%2C%20%22type%22%3A%20%22Feature%22%7D%2C%20%7B%22bbox%22%3A%20%5B-122.32075690068409%2C%2037.924313535638575%2C%20-122.31633803186791%2C%2037.927589635425896%5D%2C%20%22geometry%22%3A%20%7B%22coordinates%22%3A%20%5B%5B%5B-122.31794268669125%2C%2037.92573089975046%5D%2C%20%5B-122.31799271921128%2C%2037.925887641909554%5D%2C%20%5B-122.3178896538619%2C%2037.926209273869866%5D%2C%20%5B-122.31757707765493%2C%2037.926431018325424%5D%2C%20%5B-122.31778994317729%2C%2037.9265780239505%5D%2C%20%5B-122.31904713512665%2C%2037.92601292659565%5D%2C%20%5B-122.31956497279016%2C%2037.92599463026383%5D%2C%20%5B-122.31975538103488%2C%2037.92610437062486%5D%2C%20%5B-122.32075690068409%2C%2037.92729015916821%5D%2C%20%5B-122.32025666426807%2C%2037.92718425355533%5D%2C%20%5B-122.32018826644482%2C%2037.927589635425896%5D%2C%20%5B-122.31929108881877%2C%2037.926527379304915%5D%2C%20%5B-122.31776269143134%2C%2037.92717723616719%5D%2C%20%5B-122.31754855996904%2C%2037.927126719624106%5D%2C%20%5B-122.3167863503529%2C%2037.92660195426063%5D%2C%20%5B-122.3166745816047%2C%2037.92644480427142%5D%2C%20%5B-122.3167130262708%2C%2037.92626714106173%5D%2C%20%5B-122.31728355430697%2C%2037.92591479182407%5D%2C%20%5B-122.31633803186791%2C%2037.92469229805665%5D%2C%20%5B-122.316532854268%2C%2037.924313535638575%5D%2C%20%5B-122.316991694676%2C%2037.92450898093175%5D%2C%20%5B-122.31794268669125%2C%2037.92573089975046%5D%5D%5D%2C%20%22type%22%3A%20%22Polygon%22%7D%2C%20%22id%22%3A%20%2217%22%2C%20%22properties%22%3A%20%7B%22_20p_mph%22%3A%2012.0%2C%20%22avg_mph%22%3A%2013.6%2C%20%22corridor%22%3A%20true%2C%20%22direction_id%22%3A%20%220%22%2C%20%22miles_from_last%22%3A%200.5%2C%20%22route_id%22%3A%20%22800%22%2C%20%22route_short_name%22%3A%20%22800%22%2C%20%22shape_id%22%3A%20%22shp-800-81%22%2C%20%22stop_id%22%3A%20%22867%22%2C%20%22stop_name%22%3A%20%22Del%20Norte%20BART%20%28Bay%201%29%22%2C%20%22stop_sequence%22%3A%2015.0%2C%20%22time_formatted%22%3A%20%222%3A30%22%2C%20%22trips_per_hour%22%3A%2011.4%7D%2C%20%22type%22%3A%20%22Feature%22%7D%2C%20%7B%22bbox%22%3A%20%5B-122.32131891400378%2C%2037.928116799692845%2C%20-122.31966216248236%2C%2037.9298840355814%5D%2C%20%22geometry%22%3A%20%7B%22coordinates%22%3A%20%5B%5B%5B-122.31966216248236%2C%2037.928401427517834%5D%2C%20%5B-122.32008334337219%2C%2037.92842553359911%5D%2C%20%5B-122.3202429046093%2C%2037.928116799692845%5D%2C%20%5B-122.32131891400378%2C%2037.92959241238443%5D%2C%20%5B-122.32111413094013%2C%2037.9298840355814%5D%2C%20%5B-122.32069952966745%2C%2037.92982067857558%5D%2C%20%5B-122.31966216248236%2C%2037.928401427517834%5D%5D%5D%2C%20%22type%22%3A%20%22Polygon%22%7D%2C%20%22id%22%3A%20%222%22%2C%20%22properties%22%3A%20%7B%22_20p_mph%22%3A%2010.2%2C%20%22avg_mph%22%3A%2019.7%2C%20%22corridor%22%3A%20true%2C%20%22direction_id%22%3A%20%220%22%2C%20%22miles_from_last%22%3A%200.1%2C%20%22route_id%22%3A%20%227%22%2C%20%22route_short_name%22%3A%20%227%22%2C%20%22shape_id%22%3A%20%22shp-7-57%22%2C%20%22stop_id%22%3A%20%2253372%22%2C%20%22stop_name%22%3A%20%22San%20Pablo%20Av%20%5Cu0026%20Conlon%20Av%22%2C%20%22stop_sequence%22%3A%203.0%2C%20%22time_formatted%22%3A%20%220%3A35%22%2C%20%22trips_per_hour%22%3A%2016.4%7D%2C%20%22type%22%3A%20%22Feature%22%7D%2C%20%7B%22bbox%22%3A%20%5B-122.32188440591034%2C%2037.92725300856472%2C%20-122.32002225513575%2C%2037.929372191858725%5D%2C%20%22geometry%22%3A%20%7B%22coordinates%22%3A%20%5B%5B%5B-122.32098423731105%2C%2037.92882705668632%5D%2C%20%5B-122.32043808749788%2C%2037.92805677318797%5D%2C%20%5B-122.3201957305538%2C%2037.92804002095422%5D%2C%20%5B-122.32002225513575%2C%2037.92788543654441%5D%2C%20%5B-122.32012084009148%2C%2037.92741481808981%5D%2C%20%5B-122.32033216819782%2C%2037.92725300856472%5D%2C%20%5B-122.32056410240482%2C%2037.92725695303458%5D%2C%20%5B-122.32073940991036%2C%2037.92737693293475%5D%2C%20%5B-122.32188440591034%2C%2037.928994534546675%5D%2C%20%5B-122.32185625432393%2C%2037.92925108382126%5D%2C%20%5B-122.32156845642625%2C%2037.929372191858725%5D%2C%20%5B-122.32103410136084%2C%2037.929239141413646%5D%2C%20%5B-122.32088678484263%2C%2037.929039842042066%5D%2C%20%5B-122.32098423731105%2C%2037.92882705668632%5D%5D%5D%2C%20%22type%22%3A%20%22Polygon%22%7D%2C%20%22id%22%3A%20%2237%22%2C%20%22properties%22%3A%20%7B%22_20p_mph%22%3A%209.4%2C%20%22avg_mph%22%3A%2022.4%2C%20%22corridor%22%3A%20true%2C%20%22direction_id%22%3A%20%221%22%2C%20%22miles_from_last%22%3A%200.1%2C%20%22route_id%22%3A%20%227%22%2C%20%22route_short_name%22%3A%20%227%22%2C%20%22shape_id%22%3A%20%22shp-7-10%22%2C%20%22stop_id%22%3A%20%2251162%22%2C%20%22stop_name%22%3A%20%22San%20Pablo%20Av%20%5Cu0026%20Wall%20Av%22%2C%20%22stop_sequence%22%3A%2049.0%2C%20%22time_formatted%22%3A%20%220%3A38%22%2C%20%22trips_per_hour%22%3A%2016.4%7D%2C%20%22type%22%3A%20%22Feature%22%7D%2C%20%7B%22bbox%22%3A%20%5B-122.32317615746085%2C%2037.925461433736764%2C%20-122.3192767429855%2C%2037.92611027925667%5D%2C%20%22geometry%22%3A%20%7B%22coordinates%22%3A%20%5B%5B%5B-122.31972809190691%2C%2037.926001625079344%5D%2C%20%5B-122.31945921665285%2C%2037.92606044495576%5D%2C%20%5B-122.319607016426%2C%2037.92574808323245%5D%2C%20%5B-122.3192767429855%2C%2037.9255403060695%5D%2C%20%5B-122.31968837246383%2C%2037.925461433736764%5D%2C%20%5B-122.32294494176068%2C%2037.92557118225275%5D%2C%20%5B-122.32317615746085%2C%2037.925850206946954%5D%2C%20%5B-122.32291187359546%2C%2037.92611027925667%5D%2C%20%5B-122.31972809190691%2C%2037.926001625079344%5D%5D%5D%2C%20%22type%22%3A%20%22Polygon%22%7D%2C%20%22id%22%3A%20%221%22%2C%20%22properties%22%3A%20%7B%22_20p_mph%22%3A%2014.7%2C%20%22avg_mph%22%3A%2022.6%2C%20%22corridor%22%3A%20true%2C%20%22direction_id%22%3A%20%220%22%2C%20%22miles_from_last%22%3A%200.2%2C%20%22route_id%22%3A%20%2276%22%2C%20%22route_short_name%22%3A%20%2276%22%2C%20%22shape_id%22%3A%20%22shp-76-09%22%2C%20%22stop_id%22%3A%20%223924%22%2C%20%22stop_name%22%3A%20%22Cutting%20Blvd%20%5Cu0026%20S%2049th%20St%22%2C%20%22stop_sequence%22%3A%203.0%2C%20%22time_formatted%22%3A%20%220%3A48%22%2C%20%22trips_per_hour%22%3A%2022.1%7D%2C%20%22type%22%3A%20%22Feature%22%7D%2C%20%7B%22bbox%22%3A%20%5B-122.32318012943998%2C%2037.92481035560385%2C%20-122.31978301669272%2C%2037.92539774206813%5D%2C%20%22geometry%22%3A%20%7B%22coordinates%22%3A%20%5B%5B%5B-122.32143483694027%2C%2037.9248872828458%5D%2C%20%5B-122.3231655502068%2C%2037.924858135814034%5D%2C%20%5B-122.32292485841646%2C%2037.925132116740734%5D%2C%20%5B-122.32318012943998%2C%2037.92539774206813%5D%2C%20%5B-122.32016291870556%2C%2037.92537921466739%5D%2C%20%5B-122.31993179132247%2C%2037.92533084870779%5D%2C%20%5B-122.31978301669272%2C%2037.92501877613828%5D%2C%20%5B-122.32011263619827%2C%2037.92481035560385%5D%2C%20%5B-122.32143483694027%2C%2037.9248872828458%5D%5D%5D%2C%20%22type%22%3A%20%22Polygon%22%7D%2C%20%22id%22%3A%20%2238%22%2C%20%22properties%22%3A%20%7B%22_20p_mph%22%3A%2015.9%2C%20%22avg_mph%22%3A%2015.9%2C%20%22corridor%22%3A%20true%2C%20%22direction_id%22%3A%20%221%22%2C%20%22miles_from_last%22%3A%200.2%2C%20%22route_id%22%3A%20%2276%22%2C%20%22route_short_name%22%3A%20%2276%22%2C%20%22shape_id%22%3A%20%22shp-76-07%22%2C%20%22stop_id%22%3A%20%2259883%22%2C%20%22stop_name%22%3A%20%22Cutting%20Blvd%20%5Cu0026%20Peerless%20Av%22%2C%20%22stop_sequence%22%3A%2050.0%2C%20%22time_formatted%22%3A%20%220%3A45%22%2C%20%22trips_per_hour%22%3A%2022.1%7D%2C%20%22type%22%3A%20%22Feature%22%7D%2C%20%7B%22bbox%22%3A%20%5B-122.32318012943998%2C%2037.92481035560385%2C%20-122.31978301669272%2C%2037.92539774206813%5D%2C%20%22geometry%22%3A%20%7B%22coordinates%22%3A%20%5B%5B%5B-122.32143483694027%2C%2037.9248872828458%5D%2C%20%5B-122.3231655502068%2C%2037.924858135814034%5D%2C%20%5B-122.32292485841646%2C%2037.925132116740734%5D%2C%20%5B-122.32318012943998%2C%2037.92539774206813%5D%2C%20%5B-122.32016291870556%2C%2037.92537921466739%5D%2C%20%5B-122.31993179132247%2C%2037.92533084870779%5D%2C%20%5B-122.31978301669272%2C%2037.92501877613828%5D%2C%20%5B-122.32011263619827%2C%2037.92481035560385%5D%2C%20%5B-122.32143483694027%2C%2037.9248872828458%5D%5D%5D%2C%20%22type%22%3A%20%22Polygon%22%7D%2C%20%22id%22%3A%20%2239%22%2C%20%22properties%22%3A%20%7B%22_20p_mph%22%3A%2012.9%2C%20%22avg_mph%22%3A%2012.9%2C%20%22corridor%22%3A%20true%2C%20%22direction_id%22%3A%20%221%22%2C%20%22miles_from_last%22%3A%200.2%2C%20%22route_id%22%3A%20%2276%22%2C%20%22route_short_name%22%3A%20%2276%22%2C%20%22shape_id%22%3A%20%22shp-76-08%22%2C%20%22stop_id%22%3A%20%2259883%22%2C%20%22stop_name%22%3A%20%22Cutting%20Blvd%20%5Cu0026%20Peerless%20Av%22%2C%20%22stop_sequence%22%3A%2065.0%2C%20%22time_formatted%22%3A%20%220%3A55%22%2C%20%22trips_per_hour%22%3A%2022.1%7D%2C%20%22type%22%3A%20%22Feature%22%7D%2C%20%7B%22bbox%22%3A%20%5B-122.32318012943998%2C%2037.92481035560385%2C%20-122.31978301669272%2C%2037.92539774206813%5D%2C%20%22geometry%22%3A%20%7B%22coordinates%22%3A%20%5B%5B%5B-122.32143483694027%2C%2037.9248872828458%5D%2C%20%5B-122.3231655502068%2C%2037.924858135814034%5D%2C%20%5B-122.32292485841646%2C%2037.925132116740734%5D%2C%20%5B-122.32318012943998%2C%2037.92539774206813%5D%2C%20%5B-122.32016291870556%2C%2037.92537921466739%5D%2C%20%5B-122.31993179132247%2C%2037.92533084870779%5D%2C%20%5B-122.31978301669272%2C%2037.92501877613828%5D%2C%20%5B-122.32011263619827%2C%2037.92481035560385%5D%2C%20%5B-122.32143483694027%2C%2037.9248872828458%5D%5D%5D%2C%20%22type%22%3A%20%22Polygon%22%7D%2C%20%22id%22%3A%20%2240%22%2C%20%22properties%22%3A%20%7B%22_20p_mph%22%3A%2012.6%2C%20%22avg_mph%22%3A%2021.0%2C%20%22corridor%22%3A%20true%2C%20%22direction_id%22%3A%20%221%22%2C%20%22miles_from_last%22%3A%200.2%2C%20%22route_id%22%3A%20%2276%22%2C%20%22route_short_name%22%3A%20%2276%22%2C%20%22shape_id%22%3A%20%22shp-76-06%22%2C%20%22stop_id%22%3A%20%22858%22%2C%20%22stop_name%22%3A%20%22Cutting%20Blvd%20%5Cu0026%20Peerless%20Av%22%2C%20%22stop_sequence%22%3A%2067.0%2C%20%22time_formatted%22%3A%20%220%3A57%22%2C%20%22trips_per_hour%22%3A%2022.1%7D%2C%20%22type%22%3A%20%22Feature%22%7D%2C%20%7B%22bbox%22%3A%20%5B-122.32005563021224%2C%2037.92442795164499%2C%20-122.31592640637011%2C%2037.92819118424291%5D%2C%20%22geometry%22%3A%20%7B%22coordinates%22%3A%20%5B%5B%5B-122.31792804801589%2C%2037.9262598720809%5D%2C%20%5B-122.3176955842753%2C%2037.926279857326165%5D%2C%20%5B-122.31725029627685%2C%2037.926150116322404%5D%2C%20%5B-122.31687674261447%2C%2037.925836486231304%5D%2C%20%5B-122.31592640637011%2C%2037.92473111520117%5D%2C%20%5B-122.31638523551968%2C%2037.924784356555065%5D%2C%20%5B-122.31649187679187%2C%2037.92442795164499%5D%2C%20%5B-122.31767527395353%2C%2037.92572016519045%5D%2C%20%5B-122.3182297141053%2C%2037.9255532924524%5D%2C%20%5B-122.31853011031183%2C%2037.92562923603775%5D%2C%20%5B-122.32005563021224%2C%2037.92784531723812%5D%2C%20%5B-122.31990317722828%2C%2037.92819118424291%5D%2C%20%5B-122.31945368256841%2C%2037.92810099923267%5D%2C%20%5B-122.31814268492914%2C%2037.926176399786414%5D%2C%20%5B-122.31792804801589%2C%2037.9262598720809%5D%5D%5D%2C%20%22type%22%3A%20%22Polygon%22%7D%2C%20%22id%22%3A%20%2241%22%2C%20%22properties%22%3A%20%7B%22_20p_mph%22%3A%2011.0%2C%20%22avg_mph%22%3A%2012.2%2C%20%22corridor%22%3A%20true%2C%20%22direction_id%22%3A%20%221%22%2C%20%22miles_from_last%22%3A%200.4%2C%20%22route_id%22%3A%20%2272%22%2C%20%22route_short_name%22%3A%20%2272%22%2C%20%22shape_id%22%3A%20%22shp-72-29%22%2C%20%22stop_id%22%3A%20%226264%22%2C%20%22stop_name%22%3A%20%22San%20Pablo%20Av%20%5Cu0026%20Wall%20Av%22%2C%20%22stop_sequence%22%3A%2058.0%2C%20%22time_formatted%22%3A%20%222%3A10%22%2C%20%22trips_per_hour%22%3A%2024.2%7D%2C%20%22type%22%3A%20%22Feature%22%7D%2C%20%7B%22bbox%22%3A%20%5B-122.32131891400378%2C%2037.928116799692845%2C%20-122.31966216248236%2C%2037.9298840355814%5D%2C%20%22geometry%22%3A%20%7B%22coordinates%22%3A%20%5B%5B%5B-122.31966216248236%2C%2037.928401427517834%5D%2C%20%5B-122.32008334337219%2C%2037.92842553359911%5D%2C%20%5B-122.3202429046093%2C%2037.928116799692845%5D%2C%20%5B-122.32131891400378%2C%2037.92959241238443%5D%2C%20%5B-122.32111413094013%2C%2037.9298840355814%5D%2C%20%5B-122.32069952966745%2C%2037.92982067857558%5D%2C%20%5B-122.31966216248236%2C%2037.928401427517834%5D%5D%5D%2C%20%22type%22%3A%20%22Polygon%22%7D%2C%20%22id%22%3A%20%2242%22%2C%20%22properties%22%3A%20%7B%22_20p_mph%22%3A%2018.3%2C%20%22avg_mph%22%3A%2027.1%2C%20%22corridor%22%3A%20true%2C%20%22direction_id%22%3A%20%221%22%2C%20%22miles_from_last%22%3A%200.1%2C%20%22route_id%22%3A%20%2272%22%2C%20%22route_short_name%22%3A%20%2272%22%2C%20%22shape_id%22%3A%20%22shp-72-29%22%2C%20%22stop_id%22%3A%20%22919%22%2C%20%22stop_name%22%3A%20%22San%20Pablo%20Av%20%5Cu0026%20Conlon%20Av%22%2C%20%22stop_sequence%22%3A%2059.0%2C%20%22time_formatted%22%3A%20%220%3A19%22%2C%20%22trips_per_hour%22%3A%2024.2%7D%2C%20%22type%22%3A%20%22Feature%22%7D%2C%20%7B%22bbox%22%3A%20%5B-122.32005563021224%2C%2037.92442795164499%2C%20-122.31592640637011%2C%2037.92819118424291%5D%2C%20%22geometry%22%3A%20%7B%22coordinates%22%3A%20%5B%5B%5B-122.31792804801589%2C%2037.9262598720809%5D%2C%20%5B-122.3176955842753%2C%2037.926279857326165%5D%2C%20%5B-122.31725029627685%2C%2037.926150116322404%5D%2C%20%5B-122.31687674261447%2C%2037.925836486231304%5D%2C%20%5B-122.31592640637011%2C%2037.92473111520117%5D%2C%20%5B-122.31638523551968%2C%2037.924784356555065%5D%2C%20%5B-122.31649187679187%2C%2037.92442795164499%5D%2C%20%5B-122.31767527395353%2C%2037.92572016519045%5D%2C%20%5B-122.3182297141053%2C%2037.9255532924524%5D%2C%20%5B-122.31853011031183%2C%2037.92562923603775%5D%2C%20%5B-122.32005563021224%2C%2037.92784531723812%5D%2C%20%5B-122.31990317722828%2C%2037.92819118424291%5D%2C%20%5B-122.31945368256841%2C%2037.92810099923267%5D%2C%20%5B-122.31814268492914%2C%2037.926176399786414%5D%2C%20%5B-122.31792804801589%2C%2037.9262598720809%5D%5D%5D%2C%20%22type%22%3A%20%22Polygon%22%7D%2C%20%22id%22%3A%20%2243%22%2C%20%22properties%22%3A%20%7B%22_20p_mph%22%3A%208.6%2C%20%22avg_mph%22%3A%2010.5%2C%20%22corridor%22%3A%20true%2C%20%22direction_id%22%3A%20%221%22%2C%20%22miles_from_last%22%3A%200.4%2C%20%22route_id%22%3A%20%2272%22%2C%20%22route_short_name%22%3A%20%2272%22%2C%20%22shape_id%22%3A%20%22shp-72-30%22%2C%20%22stop_id%22%3A%20%226264%22%2C%20%22stop_name%22%3A%20%22San%20Pablo%20Av%20%5Cu0026%20Wall%20Av%22%2C%20%22stop_sequence%22%3A%2058.0%2C%20%22time_formatted%22%3A%20%222%3A47%22%2C%20%22trips_per_hour%22%3A%2024.2%7D%2C%20%22type%22%3A%20%22Feature%22%7D%2C%20%7B%22bbox%22%3A%20%5B-122.32131891400378%2C%2037.928116799692845%2C%20-122.31966216248236%2C%2037.9298840355814%5D%2C%20%22geometry%22%3A%20%7B%22coordinates%22%3A%20%5B%5B%5B-122.31966216248236%2C%2037.928401427517834%5D%2C%20%5B-122.32008334337219%2C%2037.92842553359911%5D%2C%20%5B-122.3202429046093%2C%2037.928116799692845%5D%2C%20%5B-122.32131891400378%2C%2037.92959241238443%5D%2C%20%5B-122.32111413094013%2C%2037.9298840355814%5D%2C%20%5B-122.32069952966745%2C%2037.92982067857558%5D%2C%20%5B-122.31966216248236%2C%2037.928401427517834%5D%5D%5D%2C%20%22type%22%3A%20%22Polygon%22%7D%2C%20%22id%22%3A%20%2244%22%2C%20%22properties%22%3A%20%7B%22_20p_mph%22%3A%208.8%2C%20%22avg_mph%22%3A%2022.7%2C%20%22corridor%22%3A%20true%2C%20%22direction_id%22%3A%20%221%22%2C%20%22miles_from_last%22%3A%200.1%2C%20%22route_id%22%3A%20%2272%22%2C%20%22route_short_name%22%3A%20%2272%22%2C%20%22shape_id%22%3A%20%22shp-72-30%22%2C%20%22stop_id%22%3A%20%22919%22%2C%20%22stop_name%22%3A%20%22San%20Pablo%20Av%20%5Cu0026%20Conlon%20Av%22%2C%20%22stop_sequence%22%3A%2059.0%2C%20%22time_formatted%22%3A%20%220%3A40%22%2C%20%22trips_per_hour%22%3A%2024.2%7D%2C%20%22type%22%3A%20%22Feature%22%7D%2C%20%7B%22bbox%22%3A%20%5B-122.32188440591034%2C%2037.92725300856472%2C%20-122.32002225513575%2C%2037.929372191858725%5D%2C%20%22geometry%22%3A%20%7B%22coordinates%22%3A%20%5B%5B%5B-122.32098423731105%2C%2037.92882705668632%5D%2C%20%5B-122.32043808749788%2C%2037.92805677318797%5D%2C%20%5B-122.3201957305538%2C%2037.92804002095422%5D%2C%20%5B-122.32002225513575%2C%2037.92788543654441%5D%2C%20%5B-122.32012084009148%2C%2037.92741481808981%5D%2C%20%5B-122.32033216819782%2C%2037.92725300856472%5D%2C%20%5B-122.32056410240482%2C%2037.92725695303458%5D%2C%20%5B-122.32073940991036%2C%2037.92737693293475%5D%2C%20%5B-122.32188440591034%2C%2037.928994534546675%5D%2C%20%5B-122.32185625432393%2C%2037.92925108382126%5D%2C%20%5B-122.32156845642625%2C%2037.929372191858725%5D%2C%20%5B-122.32103410136084%2C%2037.929239141413646%5D%2C%20%5B-122.32088678484263%2C%2037.929039842042066%5D%2C%20%5B-122.32098423731105%2C%2037.92882705668632%5D%5D%5D%2C%20%22type%22%3A%20%22Polygon%22%7D%2C%20%22id%22%3A%20%2231%22%2C%20%22properties%22%3A%20%7B%22_20p_mph%22%3A%2011.1%2C%20%22avg_mph%22%3A%2019.9%2C%20%22corridor%22%3A%20true%2C%20%22direction_id%22%3A%20%220%22%2C%20%22miles_from_last%22%3A%200.1%2C%20%22route_id%22%3A%20%2272M%22%2C%20%22route_short_name%22%3A%20%2272M%22%2C%20%22shape_id%22%3A%20%22shp-72M-61%22%2C%20%22stop_id%22%3A%20%22933%22%2C%20%22stop_name%22%3A%20%22San%20Pablo%20Av%20%5Cu0026%20Wall%20Av%22%2C%20%22stop_sequence%22%3A%2025.0%2C%20%22time_formatted%22%3A%20%220%3A32%22%2C%20%22trips_per_hour%22%3A%2024.9%7D%2C%20%22type%22%3A%20%22Feature%22%7D%2C%20%7B%22bbox%22%3A%20%5B-122.32075690068409%2C%2037.924313535638575%2C%20-122.31633803186791%2C%2037.927589635425896%5D%2C%20%22geometry%22%3A%20%7B%22coordinates%22%3A%20%5B%5B%5B-122.31794268669125%2C%2037.92573089975046%5D%2C%20%5B-122.31799271921128%2C%2037.925887641909554%5D%2C%20%5B-122.3178896538619%2C%2037.926209273869866%5D%2C%20%5B-122.31757707765493%2C%2037.926431018325424%5D%2C%20%5B-122.31778994317729%2C%2037.9265780239505%5D%2C%20%5B-122.31904713512665%2C%2037.92601292659565%5D%2C%20%5B-122.31956497279016%2C%2037.92599463026383%5D%2C%20%5B-122.31975538103488%2C%2037.92610437062486%5D%2C%20%5B-122.32075690068409%2C%2037.92729015916821%5D%2C%20%5B-122.32025666426807%2C%2037.92718425355533%5D%2C%20%5B-122.32018826644482%2C%2037.927589635425896%5D%2C%20%5B-122.31929108881877%2C%2037.926527379304915%5D%2C%20%5B-122.31776269143134%2C%2037.92717723616719%5D%2C%20%5B-122.31754855996904%2C%2037.927126719624106%5D%2C%20%5B-122.3167863503529%2C%2037.92660195426063%5D%2C%20%5B-122.3166745816047%2C%2037.92644480427142%5D%2C%20%5B-122.3167130262708%2C%2037.92626714106173%5D%2C%20%5B-122.31728355430697%2C%2037.92591479182407%5D%2C%20%5B-122.31633803186791%2C%2037.92469229805665%5D%2C%20%5B-122.316532854268%2C%2037.924313535638575%5D%2C%20%5B-122.316991694676%2C%2037.92450898093175%5D%2C%20%5B-122.31794268669125%2C%2037.92573089975046%5D%5D%5D%2C%20%22type%22%3A%20%22Polygon%22%7D%2C%20%22id%22%3A%20%2232%22%2C%20%22properties%22%3A%20%7B%22_20p_mph%22%3A%205.8%2C%20%22avg_mph%22%3A%207.5%2C%20%22corridor%22%3A%20true%2C%20%22direction_id%22%3A%20%220%22%2C%20%22miles_from_last%22%3A%200.5%2C%20%22route_id%22%3A%20%2272M%22%2C%20%22route_short_name%22%3A%20%2272M%22%2C%20%22shape_id%22%3A%20%22shp-72M-61%22%2C%20%22stop_id%22%3A%20%22867%22%2C%20%22stop_name%22%3A%20%22Del%20Norte%20BART%20%28Bay%201%29%22%2C%20%22stop_sequence%22%3A%2026.0%2C%20%22time_formatted%22%3A%20%225%3A10%22%2C%20%22trips_per_hour%22%3A%2024.9%7D%2C%20%22type%22%3A%20%22Feature%22%7D%2C%20%7B%22bbox%22%3A%20%5B-122.32131891400378%2C%2037.928116799692845%2C%20-122.31966216248236%2C%2037.9298840355814%5D%2C%20%22geometry%22%3A%20%7B%22coordinates%22%3A%20%5B%5B%5B-122.31966216248236%2C%2037.928401427517834%5D%2C%20%5B-122.32008334337219%2C%2037.92842553359911%5D%2C%20%5B-122.3202429046093%2C%2037.928116799692845%5D%2C%20%5B-122.32131891400378%2C%2037.92959241238443%5D%2C%20%5B-122.32111413094013%2C%2037.9298840355814%5D%2C%20%5B-122.32069952966745%2C%2037.92982067857558%5D%2C%20%5B-122.31966216248236%2C%2037.928401427517834%5D%5D%5D%2C%20%22type%22%3A%20%22Polygon%22%7D%2C%20%22id%22%3A%20%223%22%2C%20%22properties%22%3A%20%7B%22_20p_mph%22%3A%2025.0%2C%20%22avg_mph%22%3A%2027.8%2C%20%22corridor%22%3A%20true%2C%20%22direction_id%22%3A%20%221%22%2C%20%22miles_from_last%22%3A%200.1%2C%20%22route_id%22%3A%20%2272M%22%2C%20%22route_short_name%22%3A%20%2272M%22%2C%20%22shape_id%22%3A%20%22shp-72M-40%22%2C%20%22stop_id%22%3A%20%22919%22%2C%20%22stop_name%22%3A%20%22San%20Pablo%20Av%20%5Cu0026%20Conlon%20Av%22%2C%20%22stop_sequence%22%3A%203.0%2C%20%22time_formatted%22%3A%20%220%3A14%22%2C%20%22trips_per_hour%22%3A%2025.6%7D%2C%20%22type%22%3A%20%22Feature%22%7D%2C%20%7B%22bbox%22%3A%20%5B-122.32005563021224%2C%2037.92442795164499%2C%20-122.31592640637011%2C%2037.92819118424291%5D%2C%20%22geometry%22%3A%20%7B%22coordinates%22%3A%20%5B%5B%5B-122.31792804801589%2C%2037.9262598720809%5D%2C%20%5B-122.3176955842753%2C%2037.926279857326165%5D%2C%20%5B-122.31725029627685%2C%2037.926150116322404%5D%2C%20%5B-122.31687674261447%2C%2037.925836486231304%5D%2C%20%5B-122.31592640637011%2C%2037.92473111520117%5D%2C%20%5B-122.31638523551968%2C%2037.924784356555065%5D%2C%20%5B-122.31649187679187%2C%2037.92442795164499%5D%2C%20%5B-122.31767527395353%2C%2037.92572016519045%5D%2C%20%5B-122.3182297141053%2C%2037.9255532924524%5D%2C%20%5B-122.31853011031183%2C%2037.92562923603775%5D%2C%20%5B-122.32005563021224%2C%2037.92784531723812%5D%2C%20%5B-122.31990317722828%2C%2037.92819118424291%5D%2C%20%5B-122.31945368256841%2C%2037.92810099923267%5D%2C%20%5B-122.31814268492914%2C%2037.926176399786414%5D%2C%20%5B-122.31792804801589%2C%2037.9262598720809%5D%5D%5D%2C%20%22type%22%3A%20%22Polygon%22%7D%2C%20%22id%22%3A%20%224%22%2C%20%22properties%22%3A%20%7B%22_20p_mph%22%3A%209.0%2C%20%22avg_mph%22%3A%2011.3%2C%20%22corridor%22%3A%20true%2C%20%22direction_id%22%3A%20%221%22%2C%20%22miles_from_last%22%3A%200.4%2C%20%22route_id%22%3A%20%2272M%22%2C%20%22route_short_name%22%3A%20%2272M%22%2C%20%22shape_id%22%3A%20%22shp-72M-42%22%2C%20%22stop_id%22%3A%20%226264%22%2C%20%22stop_name%22%3A%20%22San%20Pablo%20Av%20%5Cu0026%20Wall%20Av%22%2C%20%22stop_sequence%22%3A%2058.0%2C%20%22time_formatted%22%3A%20%222%3A40%22%2C%20%22trips_per_hour%22%3A%2025.6%7D%2C%20%22type%22%3A%20%22Feature%22%7D%2C%20%7B%22bbox%22%3A%20%5B-122.32131891400378%2C%2037.928116799692845%2C%20-122.31966216248236%2C%2037.9298840355814%5D%2C%20%22geometry%22%3A%20%7B%22coordinates%22%3A%20%5B%5B%5B-122.31966216248236%2C%2037.928401427517834%5D%2C%20%5B-122.32008334337219%2C%2037.92842553359911%5D%2C%20%5B-122.3202429046093%2C%2037.928116799692845%5D%2C%20%5B-122.32131891400378%2C%2037.92959241238443%5D%2C%20%5B-122.32111413094013%2C%2037.9298840355814%5D%2C%20%5B-122.32069952966745%2C%2037.92982067857558%5D%2C%20%5B-122.31966216248236%2C%2037.928401427517834%5D%5D%5D%2C%20%22type%22%3A%20%22Polygon%22%7D%2C%20%22id%22%3A%20%225%22%2C%20%22properties%22%3A%20%7B%22_20p_mph%22%3A%2010.4%2C%20%22avg_mph%22%3A%2020.0%2C%20%22corridor%22%3A%20true%2C%20%22direction_id%22%3A%20%221%22%2C%20%22miles_from_last%22%3A%200.1%2C%20%22route_id%22%3A%20%2272M%22%2C%20%22route_short_name%22%3A%20%2272M%22%2C%20%22shape_id%22%3A%20%22shp-72M-42%22%2C%20%22stop_id%22%3A%20%22919%22%2C%20%22stop_name%22%3A%20%22San%20Pablo%20Av%20%5Cu0026%20Conlon%20Av%22%2C%20%22stop_sequence%22%3A%2059.0%2C%20%22time_formatted%22%3A%20%220%3A34%22%2C%20%22trips_per_hour%22%3A%2025.6%7D%2C%20%22type%22%3A%20%22Feature%22%7D%2C%20%7B%22bbox%22%3A%20%5B-122.32188440591034%2C%2037.92725300856472%2C%20-122.32002225513575%2C%2037.929372191858725%5D%2C%20%22geometry%22%3A%20%7B%22coordinates%22%3A%20%5B%5B%5B-122.32098423731105%2C%2037.92882705668632%5D%2C%20%5B-122.32043808749788%2C%2037.92805677318797%5D%2C%20%5B-122.3201957305538%2C%2037.92804002095422%5D%2C%20%5B-122.32002225513575%2C%2037.92788543654441%5D%2C%20%5B-122.32012084009148%2C%2037.92741481808981%5D%2C%20%5B-122.32033216819782%2C%2037.92725300856472%5D%2C%20%5B-122.32056410240482%2C%2037.92725695303458%5D%2C%20%5B-122.32073940991036%2C%2037.92737693293475%5D%2C%20%5B-122.32188440591034%2C%2037.928994534546675%5D%2C%20%5B-122.32185625432393%2C%2037.92925108382126%5D%2C%20%5B-122.32156845642625%2C%2037.929372191858725%5D%2C%20%5B-122.32103410136084%2C%2037.929239141413646%5D%2C%20%5B-122.32088678484263%2C%2037.929039842042066%5D%2C%20%5B-122.32098423731105%2C%2037.92882705668632%5D%5D%5D%2C%20%22type%22%3A%20%22Polygon%22%7D%2C%20%22id%22%3A%20%2218%22%2C%20%22properties%22%3A%20%7B%22_20p_mph%22%3A%2023.9%2C%20%22avg_mph%22%3A%2031.4%2C%20%22corridor%22%3A%20true%2C%20%22direction_id%22%3A%20%220%22%2C%20%22miles_from_last%22%3A%200.1%2C%20%22route_id%22%3A%20%2272%22%2C%20%22route_short_name%22%3A%20%2272%22%2C%20%22shape_id%22%3A%20%22shp-72-79%22%2C%20%22stop_id%22%3A%20%22933%22%2C%20%22stop_name%22%3A%20%22San%20Pablo%20Av%20%5Cu0026%20Wall%20Av%22%2C%20%22stop_sequence%22%3A%2019.0%2C%20%22time_formatted%22%3A%20%220%3A15%22%2C%20%22trips_per_hour%22%3A%2025.6%7D%2C%20%22type%22%3A%20%22Feature%22%7D%2C%20%7B%22bbox%22%3A%20%5B-122.32075690068409%2C%2037.924313535638575%2C%20-122.31633803186791%2C%2037.927589635425896%5D%2C%20%22geometry%22%3A%20%7B%22coordinates%22%3A%20%5B%5B%5B-122.31794268669125%2C%2037.92573089975046%5D%2C%20%5B-122.31799271921128%2C%2037.925887641909554%5D%2C%20%5B-122.3178896538619%2C%2037.926209273869866%5D%2C%20%5B-122.31757707765493%2C%2037.926431018325424%5D%2C%20%5B-122.31778994317729%2C%2037.9265780239505%5D%2C%20%5B-122.31904713512665%2C%2037.92601292659565%5D%2C%20%5B-122.31956497279016%2C%2037.92599463026383%5D%2C%20%5B-122.31975538103488%2C%2037.92610437062486%5D%2C%20%5B-122.32075690068409%2C%2037.92729015916821%5D%2C%20%5B-122.32025666426807%2C%2037.92718425355533%5D%2C%20%5B-122.32018826644482%2C%2037.927589635425896%5D%2C%20%5B-122.31929108881877%2C%2037.926527379304915%5D%2C%20%5B-122.31776269143134%2C%2037.92717723616719%5D%2C%20%5B-122.31754855996904%2C%2037.927126719624106%5D%2C%20%5B-122.3167863503529%2C%2037.92660195426063%5D%2C%20%5B-122.3166745816047%2C%2037.92644480427142%5D%2C%20%5B-122.3167130262708%2C%2037.92626714106173%5D%2C%20%5B-122.31728355430697%2C%2037.92591479182407%5D%2C%20%5B-122.31633803186791%2C%2037.92469229805665%5D%2C%20%5B-122.316532854268%2C%2037.924313535638575%5D%2C%20%5B-122.316991694676%2C%2037.92450898093175%5D%2C%20%5B-122.31794268669125%2C%2037.92573089975046%5D%5D%5D%2C%20%22type%22%3A%20%22Polygon%22%7D%2C%20%22id%22%3A%20%2219%22%2C%20%22properties%22%3A%20%7B%22_20p_mph%22%3A%208.8%2C%20%22avg_mph%22%3A%2010.3%2C%20%22corridor%22%3A%20true%2C%20%22direction_id%22%3A%20%220%22%2C%20%22miles_from_last%22%3A%200.5%2C%20%22route_id%22%3A%20%2272%22%2C%20%22route_short_name%22%3A%20%2272%22%2C%20%22shape_id%22%3A%20%22shp-72-79%22%2C%20%22stop_id%22%3A%20%22867%22%2C%20%22stop_name%22%3A%20%22Del%20Norte%20BART%20%28Bay%201%29%22%2C%20%22stop_sequence%22%3A%2020.0%2C%20%22time_formatted%22%3A%20%223%3A24%22%2C%20%22trips_per_hour%22%3A%2025.6%7D%2C%20%22type%22%3A%20%22Feature%22%7D%2C%20%7B%22bbox%22%3A%20%5B-122.32188156134858%2C%2037.92754240788623%2C%20-122.32033167707341%2C%2037.9291679643044%5D%2C%20%22geometry%22%3A%20%7B%22coordinates%22%3A%20%5B%5B%5B-122.32188156134858%2C%2037.92887396073455%5D%2C%20%5B-122.32145983888935%2C%2037.928856703712235%5D%2C%20%5B-122.32130835321728%2C%2037.9291679643044%5D%2C%20%5B-122.32059886948653%2C%2037.92830391083711%5D%2C%20%5B-122.32033167707341%2C%2037.92783095783022%5D%2C%20%5B-122.3205433213087%2C%2037.92754240788623%5D%2C%20%5B-122.32095633851482%2C%2037.927611870587626%5D%2C%20%5B-122.32120061991635%2C%2037.928046160236434%5D%2C%20%5B-122.32188156134858%2C%2037.92887396073455%5D%5D%5D%2C%20%22type%22%3A%20%22Polygon%22%7D%2C%20%22id%22%3A%20%2220%22%2C%20%22properties%22%3A%20%7B%22_20p_mph%22%3A%208.1%2C%20%22avg_mph%22%3A%208.1%2C%20%22corridor%22%3A%20true%2C%20%22direction_id%22%3A%20%220%22%2C%20%22miles_from_last%22%3A%200.1%2C%20%22route_id%22%3A%20%2272%22%2C%20%22route_short_name%22%3A%20%2272%22%2C%20%22shape_id%22%3A%20%22shp-72-73%22%2C%20%22stop_id%22%3A%20%2251162%22%2C%20%22stop_name%22%3A%20%22San%20Pablo%20Av%20%5Cu0026%20Wall%20Av%22%2C%20%22stop_sequence%22%3A%2019.0%2C%20%22time_formatted%22%3A%20%220%3A44%22%2C%20%22trips_per_hour%22%3A%2025.6%7D%2C%20%22type%22%3A%20%22Feature%22%7D%2C%20%7B%22bbox%22%3A%20%5B-122.32075690068409%2C%2037.924313535638575%2C%20-122.31633803186791%2C%2037.927589635425896%5D%2C%20%22geometry%22%3A%20%7B%22coordinates%22%3A%20%5B%5B%5B-122.31794268669125%2C%2037.92573089975046%5D%2C%20%5B-122.31799271921128%2C%2037.925887641909554%5D%2C%20%5B-122.3178896538619%2C%2037.926209273869866%5D%2C%20%5B-122.31757707765493%2C%2037.926431018325424%5D%2C%20%5B-122.31778994317729%2C%2037.9265780239505%5D%2C%20%5B-122.31904713512665%2C%2037.92601292659565%5D%2C%20%5B-122.31956497279016%2C%2037.92599463026383%5D%2C%20%5B-122.31975538103488%2C%2037.92610437062486%5D%2C%20%5B-122.32075690068409%2C%2037.92729015916821%5D%2C%20%5B-122.32025666426807%2C%2037.92718425355533%5D%2C%20%5B-122.32018826644482%2C%2037.927589635425896%5D%2C%20%5B-122.31929108881877%2C%2037.926527379304915%5D%2C%20%5B-122.31776269143134%2C%2037.92717723616719%5D%2C%20%5B-122.31754855996904%2C%2037.927126719624106%5D%2C%20%5B-122.3167863503529%2C%2037.92660195426063%5D%2C%20%5B-122.3166745816047%2C%2037.92644480427142%5D%2C%20%5B-122.3167130262708%2C%2037.92626714106173%5D%2C%20%5B-122.31728355430697%2C%2037.92591479182407%5D%2C%20%5B-122.31633803186791%2C%2037.92469229805665%5D%2C%20%5B-122.316532854268%2C%2037.924313535638575%5D%2C%20%5B-122.316991694676%2C%2037.92450898093175%5D%2C%20%5B-122.31794268669125%2C%2037.92573089975046%5D%5D%5D%2C%20%22type%22%3A%20%22Polygon%22%7D%2C%20%22id%22%3A%20%2221%22%2C%20%22properties%22%3A%20%7B%22_20p_mph%22%3A%206.0%2C%20%22avg_mph%22%3A%206.0%2C%20%22corridor%22%3A%20true%2C%20%22direction_id%22%3A%20%220%22%2C%20%22miles_from_last%22%3A%200.5%2C%20%22route_id%22%3A%20%2272%22%2C%20%22route_short_name%22%3A%20%2272%22%2C%20%22shape_id%22%3A%20%22shp-72-73%22%2C%20%22stop_id%22%3A%20%2259667%22%2C%20%22stop_name%22%3A%20%22Del%20Norte%20BART%20%28Bay%201%29%22%2C%20%22stop_sequence%22%3A%2020.0%2C%20%22time_formatted%22%3A%20%225%3A00%22%2C%20%22trips_per_hour%22%3A%2025.6%7D%2C%20%22type%22%3A%20%22Feature%22%7D%2C%20%7B%22bbox%22%3A%20%5B-122.32188440591034%2C%2037.92725300856472%2C%20-122.32002225513575%2C%2037.929372191858725%5D%2C%20%22geometry%22%3A%20%7B%22coordinates%22%3A%20%5B%5B%5B-122.32098423731105%2C%2037.92882705668632%5D%2C%20%5B-122.32043808749788%2C%2037.92805677318797%5D%2C%20%5B-122.3201957305538%2C%2037.92804002095422%5D%2C%20%5B-122.32002225513575%2C%2037.92788543654441%5D%2C%20%5B-122.32012084009148%2C%2037.92741481808981%5D%2C%20%5B-122.32033216819782%2C%2037.92725300856472%5D%2C%20%5B-122.32056410240482%2C%2037.92725695303458%5D%2C%20%5B-122.32073940991036%2C%2037.92737693293475%5D%2C%20%5B-122.32188440591034%2C%2037.928994534546675%5D%2C%20%5B-122.32185625432393%2C%2037.92925108382126%5D%2C%20%5B-122.32156845642625%2C%2037.929372191858725%5D%2C%20%5B-122.32103410136084%2C%2037.929239141413646%5D%2C%20%5B-122.32088678484263%2C%2037.929039842042066%5D%2C%20%5B-122.32098423731105%2C%2037.92882705668632%5D%5D%5D%2C%20%22type%22%3A%20%22Polygon%22%7D%2C%20%22id%22%3A%20%2222%22%2C%20%22properties%22%3A%20%7B%22_20p_mph%22%3A%209.9%2C%20%22avg_mph%22%3A%2019.4%2C%20%22corridor%22%3A%20true%2C%20%22direction_id%22%3A%20%220%22%2C%20%22miles_from_last%22%3A%200.1%2C%20%22route_id%22%3A%20%2272%22%2C%20%22route_short_name%22%3A%20%2272%22%2C%20%22shape_id%22%3A%20%22shp-72-78%22%2C%20%22stop_id%22%3A%20%22933%22%2C%20%22stop_name%22%3A%20%22San%20Pablo%20Av%20%5Cu0026%20Wall%20Av%22%2C%20%22stop_sequence%22%3A%2034.0%2C%20%22time_formatted%22%3A%20%220%3A36%22%2C%20%22trips_per_hour%22%3A%2025.6%7D%2C%20%22type%22%3A%20%22Feature%22%7D%2C%20%7B%22bbox%22%3A%20%5B-122.32075690068409%2C%2037.924313535638575%2C%20-122.31633803186791%2C%2037.927589635425896%5D%2C%20%22geometry%22%3A%20%7B%22coordinates%22%3A%20%5B%5B%5B-122.31794268669125%2C%2037.92573089975046%5D%2C%20%5B-122.31799271921128%2C%2037.925887641909554%5D%2C%20%5B-122.3178896538619%2C%2037.926209273869866%5D%2C%20%5B-122.31757707765493%2C%2037.926431018325424%5D%2C%20%5B-122.31778994317729%2C%2037.9265780239505%5D%2C%20%5B-122.31904713512665%2C%2037.92601292659565%5D%2C%20%5B-122.31956497279016%2C%2037.92599463026383%5D%2C%20%5B-122.31975538103488%2C%2037.92610437062486%5D%2C%20%5B-122.32075690068409%2C%2037.92729015916821%5D%2C%20%5B-122.32025666426807%2C%2037.92718425355533%5D%2C%20%5B-122.32018826644482%2C%2037.927589635425896%5D%2C%20%5B-122.31929108881877%2C%2037.926527379304915%5D%2C%20%5B-122.31776269143134%2C%2037.92717723616719%5D%2C%20%5B-122.31754855996904%2C%2037.927126719624106%5D%2C%20%5B-122.3167863503529%2C%2037.92660195426063%5D%2C%20%5B-122.3166745816047%2C%2037.92644480427142%5D%2C%20%5B-122.3167130262708%2C%2037.92626714106173%5D%2C%20%5B-122.31728355430697%2C%2037.92591479182407%5D%2C%20%5B-122.31633803186791%2C%2037.92469229805665%5D%2C%20%5B-122.316532854268%2C%2037.924313535638575%5D%2C%20%5B-122.316991694676%2C%2037.92450898093175%5D%2C%20%5B-122.31794268669125%2C%2037.92573089975046%5D%5D%5D%2C%20%22type%22%3A%20%22Polygon%22%7D%2C%20%22id%22%3A%20%2223%22%2C%20%22properties%22%3A%20%7B%22_20p_mph%22%3A%207.0%2C%20%22avg_mph%22%3A%209.1%2C%20%22corridor%22%3A%20true%2C%20%22direction_id%22%3A%20%220%22%2C%20%22miles_from_last%22%3A%200.5%2C%20%22route_id%22%3A%20%2272%22%2C%20%22route_short_name%22%3A%20%2272%22%2C%20%22shape_id%22%3A%20%22shp-72-78%22%2C%20%22stop_id%22%3A%20%22867%22%2C%20%22stop_name%22%3A%20%22Del%20Norte%20BART%20%28Bay%201%29%22%2C%20%22stop_sequence%22%3A%2035.0%2C%20%22time_formatted%22%3A%20%224%3A17%22%2C%20%22trips_per_hour%22%3A%2025.6%7D%2C%20%22type%22%3A%20%22Feature%22%7D%5D%2C%20%22type%22%3A%20%22FeatureCollection%22%7D%29%3B%0A%0A%20%20%20%20%20%20%20%20%0A%20%20%20%20%0A%20%20%20%20geo_json_05c0ed21644d494b8f02baca511abdca.bindTooltip%28%0A%20%20%20%20function%28layer%29%7B%0A%20%20%20%20let%20div%20%3D%20L.DomUtil.create%28%27div%27%29%3B%0A%20%20%20%20%0A%20%20%20%20let%20handleObject%20%3D%20feature%3D%3Etypeof%28feature%29%3D%3D%27object%27%20%3F%20JSON.stringify%28feature%29%20%3A%20feature%3B%0A%20%20%20%20let%20fields%20%3D%20%5B%22_20p_mph%22%2C%20%22time_formatted%22%2C%20%22miles_from_last%22%2C%20%22route_short_name%22%2C%20%22trips_per_hour%22%5D%3B%0A%20%20%20%20let%20aliases%20%3D%20%5B%22Speed%20%28miles%20per%20hour%29%22%2C%20%22Travel%20time%22%2C%20%22Segment%20distance%20%28miles%29%22%2C%20%22Route%22%2C%20%22Frequency%20%28trips%20per%20hour%29%22%5D%3B%0A%20%20%20%20let%20table%20%3D%20%27%3Ctable%3E%27%20%2B%0A%20%20%20%20%20%20%20%20String%28%0A%20%20%20%20%20%20%20%20fields.map%28%0A%20%20%20%20%20%20%20%20%28v%2Ci%29%3D%3E%0A%20%20%20%20%20%20%20%20%60%3Ctr%3E%0A%20%20%20%20%20%20%20%20%20%20%20%20%3Cth%3E%24%7Baliases%5Bi%5D%7D%3C/th%3E%0A%20%20%20%20%20%20%20%20%20%20%20%20%0A%20%20%20%20%20%20%20%20%20%20%20%20%3Ctd%3E%24%7BhandleObject%28layer.feature.properties%5Bv%5D%29%7D%3C/td%3E%0A%20%20%20%20%20%20%20%20%3C/tr%3E%60%29.join%28%27%27%29%29%0A%20%20%20%20%2B%27%3C/table%3E%27%3B%0A%20%20%20%20div.innerHTML%3Dtable%3B%0A%20%20%20%20%0A%20%20%20%20return%20div%0A%20%20%20%20%7D%0A%20%20%20%20%2C%7B%22className%22%3A%20%22foliumtooltip%22%2C%20%22maxWidth%22%3A%20100%2C%20%22minWidth%22%3A%2050%2C%20%22sticky%22%3A%20false%7D%29%3B%0A%20%20%20%20%20%20%20%20%20%20%20%20%20%20%20%20%20%20%20%20%20%0A%20%20%20%20%0A%20%20%20%20geo_json_05c0ed21644d494b8f02baca511abdca.bindPopup%28%0A%20%20%20%20function%28layer%29%7B%0A%20%20%20%20let%20div%20%3D%20L.DomUtil.create%28%27div%27%29%3B%0A%20%20%20%20%0A%20%20%20%20let%20handleObject%20%3D%20feature%3D%3Etypeof%28feature%29%3D%3D%27object%27%20%3F%20JSON.stringify%28feature%29%20%3A%20feature%3B%0A%20%20%20%20let%20fields%20%3D%20%5B%22_20p_mph%22%2C%20%22time_formatted%22%2C%20%22miles_from_last%22%2C%20%22route_short_name%22%2C%20%22trips_per_hour%22%5D%3B%0A%20%20%20%20let%20aliases%20%3D%20%5B%22Speed%20%28miles%20per%20hour%29%22%2C%20%22Travel%20time%22%2C%20%22Segment%20distance%20%28miles%29%22%2C%20%22Route%22%2C%20%22Frequency%20%28trips%20per%20hour%29%22%5D%3B%0A%20%20%20%20let%20table%20%3D%20%27%3Ctable%3E%27%20%2B%0A%20%20%20%20%20%20%20%20String%28%0A%20%20%20%20%20%20%20%20fields.map%28%0A%20%20%20%20%20%20%20%20%28v%2Ci%29%3D%3E%0A%20%20%20%20%20%20%20%20%60%3Ctr%3E%0A%20%20%20%20%20%20%20%20%20%20%20%20%3Cth%3E%24%7Baliases%5Bi%5D.toLocaleString%28%29%7D%3C/th%3E%0A%20%20%20%20%20%20%20%20%20%20%20%20%0A%20%20%20%20%20%20%20%20%20%20%20%20%3Ctd%3E%24%7BhandleObject%28layer.feature.properties%5Bv%5D%29.toLocaleString%28%29%7D%3C/td%3E%0A%20%20%20%20%20%20%20%20%3C/tr%3E%60%29.join%28%27%27%29%29%0A%20%20%20%20%2B%27%3C/table%3E%27%3B%0A%20%20%20%20div.innerHTML%3Dtable%3B%0A%20%20%20%20%0A%20%20%20%20return%20div%0A%20%20%20%20%7D%0A%20%20%20%20%2C%7B%22className%22%3A%20%22foliumpopup%22%2C%20%22maxWidth%22%3A%20100%2C%20%22minWidth%22%3A%2050%7D%29%3B%0A%20%20%20%20%20%20%20%20%20%20%20%20%20%20%20%20%20%20%20%20%20%0A%20%20%20%20%0A%20%20%20%20var%20color_map_7e13da46341642c48a2da1b0650180c6%20%3D%20%7B%7D%3B%0A%0A%20%20%20%20%0A%20%20%20%20color_map_7e13da46341642c48a2da1b0650180c6.color%20%3D%20d3.scale.threshold%28%29%0A%20%20%20%20%20%20%20%20%20%20%20%20%20%20.domain%28%5B0.0%2C%200.06012024048096192%2C%200.12024048096192384%2C%200.18036072144288579%2C%200.24048096192384769%2C%200.30060120240480964%2C%200.36072144288577157%2C%200.42084168336673344%2C%200.48096192384769537%2C%200.5410821643286573%2C%200.6012024048096193%2C%200.6613226452905812%2C%200.7214428857715431%2C%200.781563126252505%2C%200.8416833667334669%2C%200.9018036072144289%2C%200.9619238476953907%2C%201.0220440881763526%2C%201.0821643286573146%2C%201.1422845691382766%2C%201.2024048096192386%2C%201.2625250501002003%2C%201.3226452905811623%2C%201.3827655310621243%2C%201.4428857715430863%2C%201.503006012024048%2C%201.56312625250501%2C%201.623246492985972%2C%201.6833667334669338%2C%201.7434869739478958%2C%201.8036072144288577%2C%201.8637274549098197%2C%201.9238476953907815%2C%201.9839679358717435%2C%202.0440881763527052%2C%202.1042084168336674%2C%202.164328657314629%2C%202.224448897795591%2C%202.284569138276553%2C%202.344689378757515%2C%202.404809619238477%2C%202.464929859719439%2C%202.5250501002004007%2C%202.585170340681363%2C%202.6452905811623246%2C%202.7054108216432864%2C%202.7655310621242486%2C%202.8256513026052104%2C%202.8857715430861726%2C%202.9458917835671343%2C%203.006012024048096%2C%203.0661322645290583%2C%203.12625250501002%2C%203.186372745490982%2C%203.246492985971944%2C%203.306613226452906%2C%203.3667334669338675%2C%203.4268537074148298%2C%203.4869739478957915%2C%203.5470941883767537%2C%203.6072144288577155%2C%203.6673346693386772%2C%203.7274549098196395%2C%203.787575150300601%2C%203.847695390781563%2C%203.907815631262525%2C%203.967935871743487%2C%204.028056112224449%2C%204.0881763527054105%2C%204.148296593186373%2C%204.208416833667335%2C%204.268537074148297%2C%204.328657314629258%2C%204.38877755511022%2C%204.448897795591182%2C%204.509018036072145%2C%204.569138276553106%2C%204.629258517034068%2C%204.68937875751503%2C%204.749498997995992%2C%204.809619238476954%2C%204.869739478957916%2C%204.929859719438878%2C%204.98997995991984%2C%205.050100200400801%2C%205.110220440881764%2C%205.170340681362726%2C%205.2304609218436875%2C%205.290581162324649%2C%205.350701402805611%2C%205.410821643286573%2C%205.470941883767535%2C%205.531062124248497%2C%205.591182364729459%2C%205.651302605210421%2C%205.7114228456913825%2C%205.771543086172345%2C%205.831663326653307%2C%205.891783567134269%2C%205.95190380761523%2C%206.012024048096192%2C%206.072144288577154%2C%206.132264529058117%2C%206.192384769539078%2C%206.25250501002004%2C%206.312625250501002%2C%206.372745490981964%2C%206.432865731462926%2C%206.492985971943888%2C%206.55310621242485%2C%206.613226452905812%2C%206.673346693386773%2C%206.733466933867735%2C%206.793587174348698%2C%206.8537074148296595%2C%206.913827655310621%2C%206.973947895791583%2C%207.034068136272545%2C%207.094188376753507%2C%207.154308617234469%2C%207.214428857715431%2C%207.274549098196393%2C%207.3346693386773545%2C%207.394789579158316%2C%207.454909819639279%2C%207.515030060120241%2C%207.575150300601202%2C%207.635270541082164%2C%207.695390781563126%2C%207.755511022044089%2C%207.81563126252505%2C%207.875751503006012%2C%207.935871743486974%2C%207.995991983967936%2C%208.056112224448897%2C%208.11623246492986%2C%208.176352705410821%2C%208.236472945891784%2C%208.296593186372746%2C%208.356713426853707%2C%208.41683366733467%2C%208.47695390781563%2C%208.537074148296593%2C%208.597194388777556%2C%208.657314629258517%2C%208.71743486973948%2C%208.77755511022044%2C%208.837675350701403%2C%208.897795591182364%2C%208.957915831663327%2C%209.01803607214429%2C%209.07815631262525%2C%209.138276553106213%2C%209.198396793587174%2C%209.258517034068136%2C%209.318637274549099%2C%209.37875751503006%2C%209.438877755511022%2C%209.498997995991983%2C%209.559118236472946%2C%209.619238476953909%2C%209.67935871743487%2C%209.739478957915832%2C%209.799599198396793%2C%209.859719438877756%2C%209.919839679358718%2C%209.97995991983968%2C%2010.040080160320642%2C%2010.100200400801603%2C%2010.160320641282565%2C%2010.220440881763528%2C%2010.280561122244489%2C%2010.340681362725451%2C%2010.400801603206412%2C%2010.460921843687375%2C%2010.521042084168336%2C%2010.581162324649299%2C%2010.641282565130261%2C%2010.701402805611222%2C%2010.761523046092185%2C%2010.821643286573146%2C%2010.881763527054108%2C%2010.94188376753507%2C%2011.002004008016032%2C%2011.062124248496994%2C%2011.122244488977955%2C%2011.182364729458918%2C%2011.24248496993988%2C%2011.302605210420841%2C%2011.362725450901804%2C%2011.422845691382765%2C%2011.482965931863728%2C%2011.54308617234469%2C%2011.603206412825651%2C%2011.663326653306614%2C%2011.723446893787575%2C%2011.783567134268537%2C%2011.843687374749498%2C%2011.90380761523046%2C%2011.963927855711423%2C%2012.024048096192384%2C%2012.084168336673347%2C%2012.144288577154308%2C%2012.20440881763527%2C%2012.264529058116233%2C%2012.324649298597194%2C%2012.384769539078157%2C%2012.444889779559118%2C%2012.50501002004008%2C%2012.565130260521043%2C%2012.625250501002004%2C%2012.685370741482966%2C%2012.745490981963927%2C%2012.80561122244489%2C%2012.865731462925853%2C%2012.925851703406813%2C%2012.985971943887776%2C%2013.046092184368737%2C%2013.1062124248497%2C%2013.16633266533066%2C%2013.226452905811623%2C%2013.286573146292586%2C%2013.346693386773547%2C%2013.40681362725451%2C%2013.46693386773547%2C%2013.527054108216433%2C%2013.587174348697395%2C%2013.647294589178356%2C%2013.707414829659319%2C%2013.76753507014028%2C%2013.827655310621243%2C%2013.887775551102205%2C%2013.947895791583166%2C%2014.008016032064129%2C%2014.06813627254509%2C%2014.128256513026052%2C%2014.188376753507015%2C%2014.248496993987976%2C%2014.308617234468938%2C%2014.3687374749499%2C%2014.428857715430862%2C%2014.488977955911823%2C%2014.549098196392785%2C%2014.609218436873748%2C%2014.669338677354709%2C%2014.729458917835672%2C%2014.789579158316633%2C%2014.849699398797595%2C%2014.909819639278558%2C%2014.969939879759519%2C%2015.030060120240481%2C%2015.090180360721442%2C%2015.150300601202405%2C%2015.210420841683367%2C%2015.270541082164328%2C%2015.330661322645291%2C%2015.390781563126252%2C%2015.450901803607215%2C%2015.511022044088177%2C%2015.571142284569138%2C%2015.6312625250501%2C%2015.691382765531062%2C%2015.751503006012024%2C%2015.811623246492985%2C%2015.871743486973948%2C%2015.93186372745491%2C%2015.991983967935871%2C%2016.052104208416832%2C%2016.112224448897795%2C%2016.172344689378757%2C%2016.23246492985972%2C%2016.292585170340683%2C%2016.352705410821642%2C%2016.412825651302605%2C%2016.472945891783567%2C%2016.53306613226453%2C%2016.593186372745492%2C%2016.65330661322645%2C%2016.713426853707414%2C%2016.773547094188377%2C%2016.83366733466934%2C%2016.893787575150302%2C%2016.95390781563126%2C%2017.014028056112224%2C%2017.074148296593187%2C%2017.13426853707415%2C%2017.194388777555112%2C%2017.25450901803607%2C%2017.314629258517034%2C%2017.374749498997996%2C%2017.43486973947896%2C%2017.49498997995992%2C%2017.55511022044088%2C%2017.615230460921843%2C%2017.675350701402806%2C%2017.73547094188377%2C%2017.795591182364728%2C%2017.85571142284569%2C%2017.915831663326653%2C%2017.975951903807616%2C%2018.03607214428858%2C%2018.096192384769537%2C%2018.1563126252505%2C%2018.216432865731463%2C%2018.276553106212425%2C%2018.336673346693388%2C%2018.396793587174347%2C%2018.45691382765531%2C%2018.517034068136272%2C%2018.577154308617235%2C%2018.637274549098198%2C%2018.697394789579157%2C%2018.75751503006012%2C%2018.817635270541082%2C%2018.877755511022045%2C%2018.937875751503007%2C%2018.997995991983966%2C%2019.05811623246493%2C%2019.118236472945892%2C%2019.178356713426854%2C%2019.238476953907817%2C%2019.298597194388776%2C%2019.35871743486974%2C%2019.4188376753507%2C%2019.478957915831664%2C%2019.539078156312627%2C%2019.599198396793586%2C%2019.65931863727455%2C%2019.71943887775551%2C%2019.779559118236474%2C%2019.839679358717436%2C%2019.899799599198396%2C%2019.95991983967936%2C%2020.02004008016032%2C%2020.080160320641284%2C%2020.140280561122246%2C%2020.200400801603205%2C%2020.260521042084168%2C%2020.32064128256513%2C%2020.380761523046093%2C%2020.440881763527056%2C%2020.501002004008015%2C%2020.561122244488978%2C%2020.62124248496994%2C%2020.681362725450903%2C%2020.741482965931862%2C%2020.801603206412825%2C%2020.861723446893787%2C%2020.92184368737475%2C%2020.981963927855713%2C%2021.04208416833667%2C%2021.102204408817634%2C%2021.162324649298597%2C%2021.22244488977956%2C%2021.282565130260522%2C%2021.34268537074148%2C%2021.402805611222444%2C%2021.462925851703407%2C%2021.52304609218437%2C%2021.583166332665332%2C%2021.64328657314629%2C%2021.703406813627254%2C%2021.763527054108216%2C%2021.82364729458918%2C%2021.88376753507014%2C%2021.9438877755511%2C%2022.004008016032063%2C%2022.064128256513026%2C%2022.12424849699399%2C%2022.18436873747495%2C%2022.24448897795591%2C%2022.304609218436873%2C%2022.364729458917836%2C%2022.4248496993988%2C%2022.48496993987976%2C%2022.54509018036072%2C%2022.605210420841683%2C%2022.665330661322646%2C%2022.725450901803608%2C%2022.78557114228457%2C%2022.84569138276553%2C%2022.905811623246493%2C%2022.965931863727455%2C%2023.026052104208418%2C%2023.08617234468938%2C%2023.14629258517034%2C%2023.206412825651302%2C%2023.266533066132265%2C%2023.326653306613228%2C%2023.386773547094187%2C%2023.44689378757515%2C%2023.507014028056112%2C%2023.567134268537075%2C%2023.627254509018037%2C%2023.687374749498996%2C%2023.74749498997996%2C%2023.80761523046092%2C%2023.867735470941884%2C%2023.927855711422847%2C%2023.987975951903806%2C%2024.04809619238477%2C%2024.10821643286573%2C%2024.168336673346694%2C%2024.228456913827657%2C%2024.288577154308616%2C%2024.34869739478958%2C%2024.40881763527054%2C%2024.468937875751504%2C%2024.529058116232466%2C%2024.589178356713425%2C%2024.649298597194388%2C%2024.70941883767535%2C%2024.769539078156313%2C%2024.829659318637276%2C%2024.889779559118235%2C%2024.949899799599198%2C%2025.01002004008016%2C%2025.070140280561123%2C%2025.130260521042086%2C%2025.190380761523045%2C%2025.250501002004007%2C%2025.31062124248497%2C%2025.370741482965933%2C%2025.430861723446895%2C%2025.490981963927855%2C%2025.551102204408817%2C%2025.61122244488978%2C%2025.671342685370742%2C%2025.731462925851705%2C%2025.791583166332664%2C%2025.851703406813627%2C%2025.91182364729459%2C%2025.971943887775552%2C%2026.03206412825651%2C%2026.092184368737474%2C%2026.152304609218437%2C%2026.2124248496994%2C%2026.272545090180362%2C%2026.33266533066132%2C%2026.392785571142284%2C%2026.452905811623246%2C%2026.51302605210421%2C%2026.57314629258517%2C%2026.63326653306613%2C%2026.693386773547093%2C%2026.753507014028056%2C%2026.81362725450902%2C%2026.87374749498998%2C%2026.93386773547094%2C%2026.993987975951903%2C%2027.054108216432866%2C%2027.11422845691383%2C%2027.17434869739479%2C%2027.23446893787575%2C%2027.294589178356713%2C%2027.354709418837675%2C%2027.414829659318638%2C%2027.4749498997996%2C%2027.53507014028056%2C%2027.595190380761522%2C%2027.655310621242485%2C%2027.715430861723448%2C%2027.77555110220441%2C%2027.83567134268537%2C%2027.895791583166332%2C%2027.955911823647295%2C%2028.016032064128257%2C%2028.07615230460922%2C%2028.13627254509018%2C%2028.196392785571142%2C%2028.256513026052104%2C%2028.316633266533067%2C%2028.37675350701403%2C%2028.43687374749499%2C%2028.49699398797595%2C%2028.557114228456914%2C%2028.617234468937877%2C%2028.677354709418836%2C%2028.7374749498998%2C%2028.79759519038076%2C%2028.857715430861724%2C%2028.917835671342687%2C%2028.977955911823646%2C%2029.03807615230461%2C%2029.09819639278557%2C%2029.158316633266534%2C%2029.218436873747496%2C%2029.278557114228455%2C%2029.338677354709418%2C%2029.39879759519038%2C%2029.458917835671343%2C%2029.519038076152306%2C%2029.579158316633265%2C%2029.639278557114228%2C%2029.69939879759519%2C%2029.759519038076153%2C%2029.819639278557116%2C%2029.879759519038075%2C%2029.939879759519037%2C%2030.0%5D%29%0A%20%20%20%20%20%20%20%20%20%20%20%20%20%20.range%28%5B%27%23a50026ff%27%2C%20%27%23a50026ff%27%2C%20%27%23a50026ff%27%2C%20%27%23a50026ff%27%2C%20%27%23a50026ff%27%2C%20%27%23a50026ff%27%2C%20%27%23a50026ff%27%2C%20%27%23a50026ff%27%2C%20%27%23a50026ff%27%2C%20%27%23a50026ff%27%2C%20%27%23a50026ff%27%2C%20%27%23a50026ff%27%2C%20%27%23a50026ff%27%2C%20%27%23a50026ff%27%2C%20%27%23a50026ff%27%2C%20%27%23a50026ff%27%2C%20%27%23a50026ff%27%2C%20%27%23a50026ff%27%2C%20%27%23a50026ff%27%2C%20%27%23a50026ff%27%2C%20%27%23a50026ff%27%2C%20%27%23a50026ff%27%2C%20%27%23a50026ff%27%2C%20%27%23a50026ff%27%2C%20%27%23a50026ff%27%2C%20%27%23a50026ff%27%2C%20%27%23a50026ff%27%2C%20%27%23a50026ff%27%2C%20%27%23a50026ff%27%2C%20%27%23a50026ff%27%2C%20%27%23a50026ff%27%2C%20%27%23a50026ff%27%2C%20%27%23a50026ff%27%2C%20%27%23a50026ff%27%2C%20%27%23a50026ff%27%2C%20%27%23a50026ff%27%2C%20%27%23a50026ff%27%2C%20%27%23a50026ff%27%2C%20%27%23a50026ff%27%2C%20%27%23a50026ff%27%2C%20%27%23a50026ff%27%2C%20%27%23a50026ff%27%2C%20%27%23a50026ff%27%2C%20%27%23a50026ff%27%2C%20%27%23a50026ff%27%2C%20%27%23a50026ff%27%2C%20%27%23a50026ff%27%2C%20%27%23a50026ff%27%2C%20%27%23a50026ff%27%2C%20%27%23a50026ff%27%2C%20%27%23d73027ff%27%2C%20%27%23d73027ff%27%2C%20%27%23d73027ff%27%2C%20%27%23d73027ff%27%2C%20%27%23d73027ff%27%2C%20%27%23d73027ff%27%2C%20%27%23d73027ff%27%2C%20%27%23d73027ff%27%2C%20%27%23d73027ff%27%2C%20%27%23d73027ff%27%2C%20%27%23d73027ff%27%2C%20%27%23d73027ff%27%2C%20%27%23d73027ff%27%2C%20%27%23d73027ff%27%2C%20%27%23d73027ff%27%2C%20%27%23d73027ff%27%2C%20%27%23d73027ff%27%2C%20%27%23d73027ff%27%2C%20%27%23d73027ff%27%2C%20%27%23d73027ff%27%2C%20%27%23d73027ff%27%2C%20%27%23d73027ff%27%2C%20%27%23d73027ff%27%2C%20%27%23d73027ff%27%2C%20%27%23d73027ff%27%2C%20%27%23d73027ff%27%2C%20%27%23d73027ff%27%2C%20%27%23d73027ff%27%2C%20%27%23d73027ff%27%2C%20%27%23d73027ff%27%2C%20%27%23d73027ff%27%2C%20%27%23d73027ff%27%2C%20%27%23d73027ff%27%2C%20%27%23d73027ff%27%2C%20%27%23d73027ff%27%2C%20%27%23d73027ff%27%2C%20%27%23d73027ff%27%2C%20%27%23d73027ff%27%2C%20%27%23d73027ff%27%2C%20%27%23d73027ff%27%2C%20%27%23d73027ff%27%2C%20%27%23d73027ff%27%2C%20%27%23d73027ff%27%2C%20%27%23d73027ff%27%2C%20%27%23d73027ff%27%2C%20%27%23d73027ff%27%2C%20%27%23d73027ff%27%2C%20%27%23d73027ff%27%2C%20%27%23d73027ff%27%2C%20%27%23d73027ff%27%2C%20%27%23f46d43ff%27%2C%20%27%23f46d43ff%27%2C%20%27%23f46d43ff%27%2C%20%27%23f46d43ff%27%2C%20%27%23f46d43ff%27%2C%20%27%23f46d43ff%27%2C%20%27%23f46d43ff%27%2C%20%27%23f46d43ff%27%2C%20%27%23f46d43ff%27%2C%20%27%23f46d43ff%27%2C%20%27%23f46d43ff%27%2C%20%27%23f46d43ff%27%2C%20%27%23f46d43ff%27%2C%20%27%23f46d43ff%27%2C%20%27%23f46d43ff%27%2C%20%27%23f46d43ff%27%2C%20%27%23f46d43ff%27%2C%20%27%23f46d43ff%27%2C%20%27%23f46d43ff%27%2C%20%27%23f46d43ff%27%2C%20%27%23f46d43ff%27%2C%20%27%23f46d43ff%27%2C%20%27%23f46d43ff%27%2C%20%27%23f46d43ff%27%2C%20%27%23f46d43ff%27%2C%20%27%23f46d43ff%27%2C%20%27%23f46d43ff%27%2C%20%27%23f46d43ff%27%2C%20%27%23f46d43ff%27%2C%20%27%23f46d43ff%27%2C%20%27%23f46d43ff%27%2C%20%27%23f46d43ff%27%2C%20%27%23f46d43ff%27%2C%20%27%23f46d43ff%27%2C%20%27%23f46d43ff%27%2C%20%27%23f46d43ff%27%2C%20%27%23f46d43ff%27%2C%20%27%23f46d43ff%27%2C%20%27%23f46d43ff%27%2C%20%27%23f46d43ff%27%2C%20%27%23f46d43ff%27%2C%20%27%23f46d43ff%27%2C%20%27%23f46d43ff%27%2C%20%27%23f46d43ff%27%2C%20%27%23f46d43ff%27%2C%20%27%23f46d43ff%27%2C%20%27%23f46d43ff%27%2C%20%27%23f46d43ff%27%2C%20%27%23f46d43ff%27%2C%20%27%23f46d43ff%27%2C%20%27%23fdae61ff%27%2C%20%27%23fdae61ff%27%2C%20%27%23fdae61ff%27%2C%20%27%23fdae61ff%27%2C%20%27%23fdae61ff%27%2C%20%27%23fdae61ff%27%2C%20%27%23fdae61ff%27%2C%20%27%23fdae61ff%27%2C%20%27%23fdae61ff%27%2C%20%27%23fdae61ff%27%2C%20%27%23fdae61ff%27%2C%20%27%23fdae61ff%27%2C%20%27%23fdae61ff%27%2C%20%27%23fdae61ff%27%2C%20%27%23fdae61ff%27%2C%20%27%23fdae61ff%27%2C%20%27%23fdae61ff%27%2C%20%27%23fdae61ff%27%2C%20%27%23fdae61ff%27%2C%20%27%23fdae61ff%27%2C%20%27%23fdae61ff%27%2C%20%27%23fdae61ff%27%2C%20%27%23fdae61ff%27%2C%20%27%23fdae61ff%27%2C%20%27%23fdae61ff%27%2C%20%27%23fdae61ff%27%2C%20%27%23fdae61ff%27%2C%20%27%23fdae61ff%27%2C%20%27%23fdae61ff%27%2C%20%27%23fdae61ff%27%2C%20%27%23fdae61ff%27%2C%20%27%23fdae61ff%27%2C%20%27%23fdae61ff%27%2C%20%27%23fdae61ff%27%2C%20%27%23fdae61ff%27%2C%20%27%23fdae61ff%27%2C%20%27%23fdae61ff%27%2C%20%27%23fdae61ff%27%2C%20%27%23fdae61ff%27%2C%20%27%23fdae61ff%27%2C%20%27%23fdae61ff%27%2C%20%27%23fdae61ff%27%2C%20%27%23fdae61ff%27%2C%20%27%23fdae61ff%27%2C%20%27%23fdae61ff%27%2C%20%27%23fdae61ff%27%2C%20%27%23fdae61ff%27%2C%20%27%23fdae61ff%27%2C%20%27%23fdae61ff%27%2C%20%27%23fdae61ff%27%2C%20%27%23fee08bff%27%2C%20%27%23fee08bff%27%2C%20%27%23fee08bff%27%2C%20%27%23fee08bff%27%2C%20%27%23fee08bff%27%2C%20%27%23fee08bff%27%2C%20%27%23fee08bff%27%2C%20%27%23fee08bff%27%2C%20%27%23fee08bff%27%2C%20%27%23fee08bff%27%2C%20%27%23fee08bff%27%2C%20%27%23fee08bff%27%2C%20%27%23fee08bff%27%2C%20%27%23fee08bff%27%2C%20%27%23fee08bff%27%2C%20%27%23fee08bff%27%2C%20%27%23fee08bff%27%2C%20%27%23fee08bff%27%2C%20%27%23fee08bff%27%2C%20%27%23fee08bff%27%2C%20%27%23fee08bff%27%2C%20%27%23fee08bff%27%2C%20%27%23fee08bff%27%2C%20%27%23fee08bff%27%2C%20%27%23fee08bff%27%2C%20%27%23fee08bff%27%2C%20%27%23fee08bff%27%2C%20%27%23fee08bff%27%2C%20%27%23fee08bff%27%2C%20%27%23fee08bff%27%2C%20%27%23fee08bff%27%2C%20%27%23fee08bff%27%2C%20%27%23fee08bff%27%2C%20%27%23fee08bff%27%2C%20%27%23fee08bff%27%2C%20%27%23fee08bff%27%2C%20%27%23fee08bff%27%2C%20%27%23fee08bff%27%2C%20%27%23fee08bff%27%2C%20%27%23fee08bff%27%2C%20%27%23fee08bff%27%2C%20%27%23fee08bff%27%2C%20%27%23fee08bff%27%2C%20%27%23fee08bff%27%2C%20%27%23fee08bff%27%2C%20%27%23fee08bff%27%2C%20%27%23fee08bff%27%2C%20%27%23fee08bff%27%2C%20%27%23fee08bff%27%2C%20%27%23fee08bff%27%2C%20%27%23d9ef8bff%27%2C%20%27%23d9ef8bff%27%2C%20%27%23d9ef8bff%27%2C%20%27%23d9ef8bff%27%2C%20%27%23d9ef8bff%27%2C%20%27%23d9ef8bff%27%2C%20%27%23d9ef8bff%27%2C%20%27%23d9ef8bff%27%2C%20%27%23d9ef8bff%27%2C%20%27%23d9ef8bff%27%2C%20%27%23d9ef8bff%27%2C%20%27%23d9ef8bff%27%2C%20%27%23d9ef8bff%27%2C%20%27%23d9ef8bff%27%2C%20%27%23d9ef8bff%27%2C%20%27%23d9ef8bff%27%2C%20%27%23d9ef8bff%27%2C%20%27%23d9ef8bff%27%2C%20%27%23d9ef8bff%27%2C%20%27%23d9ef8bff%27%2C%20%27%23d9ef8bff%27%2C%20%27%23d9ef8bff%27%2C%20%27%23d9ef8bff%27%2C%20%27%23d9ef8bff%27%2C%20%27%23d9ef8bff%27%2C%20%27%23d9ef8bff%27%2C%20%27%23d9ef8bff%27%2C%20%27%23d9ef8bff%27%2C%20%27%23d9ef8bff%27%2C%20%27%23d9ef8bff%27%2C%20%27%23d9ef8bff%27%2C%20%27%23d9ef8bff%27%2C%20%27%23d9ef8bff%27%2C%20%27%23d9ef8bff%27%2C%20%27%23d9ef8bff%27%2C%20%27%23d9ef8bff%27%2C%20%27%23d9ef8bff%27%2C%20%27%23d9ef8bff%27%2C%20%27%23d9ef8bff%27%2C%20%27%23d9ef8bff%27%2C%20%27%23d9ef8bff%27%2C%20%27%23d9ef8bff%27%2C%20%27%23d9ef8bff%27%2C%20%27%23d9ef8bff%27%2C%20%27%23d9ef8bff%27%2C%20%27%23d9ef8bff%27%2C%20%27%23d9ef8bff%27%2C%20%27%23d9ef8bff%27%2C%20%27%23d9ef8bff%27%2C%20%27%23d9ef8bff%27%2C%20%27%23a6d96aff%27%2C%20%27%23a6d96aff%27%2C%20%27%23a6d96aff%27%2C%20%27%23a6d96aff%27%2C%20%27%23a6d96aff%27%2C%20%27%23a6d96aff%27%2C%20%27%23a6d96aff%27%2C%20%27%23a6d96aff%27%2C%20%27%23a6d96aff%27%2C%20%27%23a6d96aff%27%2C%20%27%23a6d96aff%27%2C%20%27%23a6d96aff%27%2C%20%27%23a6d96aff%27%2C%20%27%23a6d96aff%27%2C%20%27%23a6d96aff%27%2C%20%27%23a6d96aff%27%2C%20%27%23a6d96aff%27%2C%20%27%23a6d96aff%27%2C%20%27%23a6d96aff%27%2C%20%27%23a6d96aff%27%2C%20%27%23a6d96aff%27%2C%20%27%23a6d96aff%27%2C%20%27%23a6d96aff%27%2C%20%27%23a6d96aff%27%2C%20%27%23a6d96aff%27%2C%20%27%23a6d96aff%27%2C%20%27%23a6d96aff%27%2C%20%27%23a6d96aff%27%2C%20%27%23a6d96aff%27%2C%20%27%23a6d96aff%27%2C%20%27%23a6d96aff%27%2C%20%27%23a6d96aff%27%2C%20%27%23a6d96aff%27%2C%20%27%23a6d96aff%27%2C%20%27%23a6d96aff%27%2C%20%27%23a6d96aff%27%2C%20%27%23a6d96aff%27%2C%20%27%23a6d96aff%27%2C%20%27%23a6d96aff%27%2C%20%27%23a6d96aff%27%2C%20%27%23a6d96aff%27%2C%20%27%23a6d96aff%27%2C%20%27%23a6d96aff%27%2C%20%27%23a6d96aff%27%2C%20%27%23a6d96aff%27%2C%20%27%23a6d96aff%27%2C%20%27%23a6d96aff%27%2C%20%27%23a6d96aff%27%2C%20%27%23a6d96aff%27%2C%20%27%23a6d96aff%27%2C%20%27%2366bd63ff%27%2C%20%27%2366bd63ff%27%2C%20%27%2366bd63ff%27%2C%20%27%2366bd63ff%27%2C%20%27%2366bd63ff%27%2C%20%27%2366bd63ff%27%2C%20%27%2366bd63ff%27%2C%20%27%2366bd63ff%27%2C%20%27%2366bd63ff%27%2C%20%27%2366bd63ff%27%2C%20%27%2366bd63ff%27%2C%20%27%2366bd63ff%27%2C%20%27%2366bd63ff%27%2C%20%27%2366bd63ff%27%2C%20%27%2366bd63ff%27%2C%20%27%2366bd63ff%27%2C%20%27%2366bd63ff%27%2C%20%27%2366bd63ff%27%2C%20%27%2366bd63ff%27%2C%20%27%2366bd63ff%27%2C%20%27%2366bd63ff%27%2C%20%27%2366bd63ff%27%2C%20%27%2366bd63ff%27%2C%20%27%2366bd63ff%27%2C%20%27%2366bd63ff%27%2C%20%27%2366bd63ff%27%2C%20%27%2366bd63ff%27%2C%20%27%2366bd63ff%27%2C%20%27%2366bd63ff%27%2C%20%27%2366bd63ff%27%2C%20%27%2366bd63ff%27%2C%20%27%2366bd63ff%27%2C%20%27%2366bd63ff%27%2C%20%27%2366bd63ff%27%2C%20%27%2366bd63ff%27%2C%20%27%2366bd63ff%27%2C%20%27%2366bd63ff%27%2C%20%27%2366bd63ff%27%2C%20%27%2366bd63ff%27%2C%20%27%2366bd63ff%27%2C%20%27%2366bd63ff%27%2C%20%27%2366bd63ff%27%2C%20%27%2366bd63ff%27%2C%20%27%2366bd63ff%27%2C%20%27%2366bd63ff%27%2C%20%27%2366bd63ff%27%2C%20%27%2366bd63ff%27%2C%20%27%2366bd63ff%27%2C%20%27%2366bd63ff%27%2C%20%27%2366bd63ff%27%2C%20%27%231a9850ff%27%2C%20%27%231a9850ff%27%2C%20%27%231a9850ff%27%2C%20%27%231a9850ff%27%2C%20%27%231a9850ff%27%2C%20%27%231a9850ff%27%2C%20%27%231a9850ff%27%2C%20%27%231a9850ff%27%2C%20%27%231a9850ff%27%2C%20%27%231a9850ff%27%2C%20%27%231a9850ff%27%2C%20%27%231a9850ff%27%2C%20%27%231a9850ff%27%2C%20%27%231a9850ff%27%2C%20%27%231a9850ff%27%2C%20%27%231a9850ff%27%2C%20%27%231a9850ff%27%2C%20%27%231a9850ff%27%2C%20%27%231a9850ff%27%2C%20%27%231a9850ff%27%2C%20%27%231a9850ff%27%2C%20%27%231a9850ff%27%2C%20%27%231a9850ff%27%2C%20%27%231a9850ff%27%2C%20%27%231a9850ff%27%2C%20%27%231a9850ff%27%2C%20%27%231a9850ff%27%2C%20%27%231a9850ff%27%2C%20%27%231a9850ff%27%2C%20%27%231a9850ff%27%2C%20%27%231a9850ff%27%2C%20%27%231a9850ff%27%2C%20%27%231a9850ff%27%2C%20%27%231a9850ff%27%2C%20%27%231a9850ff%27%2C%20%27%231a9850ff%27%2C%20%27%231a9850ff%27%2C%20%27%231a9850ff%27%2C%20%27%231a9850ff%27%2C%20%27%231a9850ff%27%2C%20%27%231a9850ff%27%2C%20%27%231a9850ff%27%2C%20%27%231a9850ff%27%2C%20%27%231a9850ff%27%2C%20%27%231a9850ff%27%2C%20%27%231a9850ff%27%2C%20%27%231a9850ff%27%2C%20%27%231a9850ff%27%2C%20%27%231a9850ff%27%2C%20%27%231a9850ff%27%2C%20%27%23006837ff%27%2C%20%27%23006837ff%27%2C%20%27%23006837ff%27%2C%20%27%23006837ff%27%2C%20%27%23006837ff%27%2C%20%27%23006837ff%27%2C%20%27%23006837ff%27%2C%20%27%23006837ff%27%2C%20%27%23006837ff%27%2C%20%27%23006837ff%27%2C%20%27%23006837ff%27%2C%20%27%23006837ff%27%2C%20%27%23006837ff%27%2C%20%27%23006837ff%27%2C%20%27%23006837ff%27%2C%20%27%23006837ff%27%2C%20%27%23006837ff%27%2C%20%27%23006837ff%27%2C%20%27%23006837ff%27%2C%20%27%23006837ff%27%2C%20%27%23006837ff%27%2C%20%27%23006837ff%27%2C%20%27%23006837ff%27%2C%20%27%23006837ff%27%2C%20%27%23006837ff%27%2C%20%27%23006837ff%27%2C%20%27%23006837ff%27%2C%20%27%23006837ff%27%2C%20%27%23006837ff%27%2C%20%27%23006837ff%27%2C%20%27%23006837ff%27%2C%20%27%23006837ff%27%2C%20%27%23006837ff%27%2C%20%27%23006837ff%27%2C%20%27%23006837ff%27%2C%20%27%23006837ff%27%2C%20%27%23006837ff%27%2C%20%27%23006837ff%27%2C%20%27%23006837ff%27%2C%20%27%23006837ff%27%2C%20%27%23006837ff%27%2C%20%27%23006837ff%27%2C%20%27%23006837ff%27%2C%20%27%23006837ff%27%2C%20%27%23006837ff%27%2C%20%27%23006837ff%27%2C%20%27%23006837ff%27%2C%20%27%23006837ff%27%2C%20%27%23006837ff%27%2C%20%27%23006837ff%27%5D%29%3B%0A%20%20%20%20%0A%0A%20%20%20%20color_map_7e13da46341642c48a2da1b0650180c6.x%20%3D%20d3.scale.linear%28%29%0A%20%20%20%20%20%20%20%20%20%20%20%20%20%20.domain%28%5B0.0%2C%2030.0%5D%29%0A%20%20%20%20%20%20%20%20%20%20%20%20%20%20.range%28%5B0%2C%20400%5D%29%3B%0A%0A%20%20%20%20color_map_7e13da46341642c48a2da1b0650180c6.legend%20%3D%20L.control%28%7Bposition%3A%20%27topright%27%7D%29%3B%0A%20%20%20%20color_map_7e13da46341642c48a2da1b0650180c6.legend.onAdd%20%3D%20function%20%28map%29%20%7Bvar%20div%20%3D%20L.DomUtil.create%28%27div%27%2C%20%27legend%27%29%3B%20return%20div%7D%3B%0A%20%20%20%20color_map_7e13da46341642c48a2da1b0650180c6.legend.addTo%28map_8c856eef90ab4e218de177bfd71badd8%29%3B%0A%0A%20%20%20%20color_map_7e13da46341642c48a2da1b0650180c6.xAxis%20%3D%20d3.svg.axis%28%29%0A%20%20%20%20%20%20%20%20.scale%28color_map_7e13da46341642c48a2da1b0650180c6.x%29%0A%20%20%20%20%20%20%20%20.orient%28%22top%22%29%0A%20%20%20%20%20%20%20%20.tickSize%281%29%0A%20%20%20%20%20%20%20%20.tickValues%28%5B0.0%2C%20%27%27%2C%206.0%2C%20%27%27%2C%2012.0%2C%20%27%27%2C%2018.0%2C%20%27%27%2C%2024.0%2C%20%27%27%2C%2030.0%2C%20%27%27%5D%29%3B%0A%0A%20%20%20%20color_map_7e13da46341642c48a2da1b0650180c6.svg%20%3D%20d3.select%28%22.legend.leaflet-control%22%29.append%28%22svg%22%29%0A%20%20%20%20%20%20%20%20.attr%28%22id%22%2C%20%27legend%27%29%0A%20%20%20%20%20%20%20%20.attr%28%22width%22%2C%20450%29%0A%20%20%20%20%20%20%20%20.attr%28%22height%22%2C%2040%29%3B%0A%0A%20%20%20%20color_map_7e13da46341642c48a2da1b0650180c6.g%20%3D%20color_map_7e13da46341642c48a2da1b0650180c6.svg.append%28%22g%22%29%0A%20%20%20%20%20%20%20%20.attr%28%22class%22%2C%20%22key%22%29%0A%20%20%20%20%20%20%20%20.attr%28%22transform%22%2C%20%22translate%2825%2C16%29%22%29%3B%0A%0A%20%20%20%20color_map_7e13da46341642c48a2da1b0650180c6.g.selectAll%28%22rect%22%29%0A%20%20%20%20%20%20%20%20.data%28color_map_7e13da46341642c48a2da1b0650180c6.color.range%28%29.map%28function%28d%2C%20i%29%20%7B%0A%20%20%20%20%20%20%20%20%20%20return%20%7B%0A%20%20%20%20%20%20%20%20%20%20%20%20x0%3A%20i%20%3F%20color_map_7e13da46341642c48a2da1b0650180c6.x%28color_map_7e13da46341642c48a2da1b0650180c6.color.domain%28%29%5Bi%20-%201%5D%29%20%3A%20color_map_7e13da46341642c48a2da1b0650180c6.x.range%28%29%5B0%5D%2C%0A%20%20%20%20%20%20%20%20%20%20%20%20x1%3A%20i%20%3C%20color_map_7e13da46341642c48a2da1b0650180c6.color.domain%28%29.length%20%3F%20color_map_7e13da46341642c48a2da1b0650180c6.x%28color_map_7e13da46341642c48a2da1b0650180c6.color.domain%28%29%5Bi%5D%29%20%3A%20color_map_7e13da46341642c48a2da1b0650180c6.x.range%28%29%5B1%5D%2C%0A%20%20%20%20%20%20%20%20%20%20%20%20z%3A%20d%0A%20%20%20%20%20%20%20%20%20%20%7D%3B%0A%20%20%20%20%20%20%20%20%7D%29%29%0A%20%20%20%20%20%20.enter%28%29.append%28%22rect%22%29%0A%20%20%20%20%20%20%20%20.attr%28%22height%22%2C%2010%29%0A%20%20%20%20%20%20%20%20.attr%28%22x%22%2C%20function%28d%29%20%7B%20return%20d.x0%3B%20%7D%29%0A%20%20%20%20%20%20%20%20.attr%28%22width%22%2C%20function%28d%29%20%7B%20return%20d.x1%20-%20d.x0%3B%20%7D%29%0A%20%20%20%20%20%20%20%20.style%28%22fill%22%2C%20function%28d%29%20%7B%20return%20d.z%3B%20%7D%29%3B%0A%0A%20%20%20%20color_map_7e13da46341642c48a2da1b0650180c6.g.call%28color_map_7e13da46341642c48a2da1b0650180c6.xAxis%29.append%28%22text%22%29%0A%20%20%20%20%20%20%20%20.attr%28%22class%22%2C%20%22caption%22%29%0A%20%20%20%20%20%20%20%20.attr%28%22y%22%2C%2021%29%0A%20%20%20%20%20%20%20%20.text%28%27Speed%20%28miles%20per%20hour%29%27%29%3B%0A%3C/script%3E onload=\"this.contentDocument.open();this.contentDocument.write(    decodeURIComponent(this.getAttribute('data-html')));this.contentDocument.close();\" \"allowfullscreen\" \"webkitallowfullscreen\" \"mozallowfullscreen\"></iframe>"
      ],
      "text/plain": [
       "<branca.element.Figure at 0x7fe90d1f2f40>"
      ]
     },
     "execution_count": 17,
     "metadata": {},
     "output_type": "execute_result"
    }
   ],
   "source": [
    "rt_day.segment_speed_map(corridor=True)"
   ]
  },
  {
   "cell_type": "code",
   "execution_count": 18,
   "id": "022e3913-bacb-4456-89c6-eabe113e80d7",
   "metadata": {},
   "outputs": [
    {
     "name": "stdout",
     "output_type": "stream",
     "text": [
      "found parquet\n",
      "complete for date: 2022-04-30\n",
      "found parquet\n",
      "complete for date: 2022-05-01\n",
      "found parquet\n",
      "complete for date: 2022-05-02\n",
      "found parquet\n",
      "complete for date: 2022-05-03\n",
      "found parquet\n",
      "complete for date: 2022-05-04\n",
      "found parquet\n",
      "complete for date: 2022-05-05\n",
      "found parquet\n",
      "complete for date: 2022-05-06\n",
      "found parquet\n",
      "complete for date: 2022-05-07\n",
      "found parquet\n",
      "complete for date: 2022-05-08\n"
     ]
    }
   ],
   "source": [
    "ac_corridor_metrics = sccp_tools.sccp_average_metrics(itp_id=4, date_range=date_range, corridor=new_ac)"
   ]
  },
  {
   "cell_type": "code",
   "execution_count": 20,
   "id": "f3a9dc14-17ae-42bb-90ee-91e826632af6",
   "metadata": {},
   "outputs": [
    {
     "data": {
      "text/plain": [
       "{'avg_schedule_metric_minutes': 49.0,\n",
       " 'avg_speed_metric_minutes': 252.0,\n",
       " 'all_schedule': [2.4166666666666665,\n",
       "  0.7333333333333333,\n",
       "  -4.608333333333333,\n",
       "  1.4166666666666667,\n",
       "  9.125,\n",
       "  395.0083333333333,\n",
       "  33.766666666666666,\n",
       "  10.35,\n",
       "  -4.725],\n",
       " 'all_speed': [157.54734499935864,\n",
       "  171.83819257911264,\n",
       "  178.64810780672,\n",
       "  192.83988393923738,\n",
       "  158.28028253422397,\n",
       "  949.5481268887544,\n",
       "  230.55046328090458,\n",
       "  165.25451374992954,\n",
       "  64.13876403365857]}"
      ]
     },
     "execution_count": 20,
     "metadata": {},
     "output_type": "execute_result"
    }
   ],
   "source": [
    "ac_corridor_metrics"
   ]
  }
 ],
 "metadata": {
  "kernelspec": {
   "display_name": "Python 3 (ipykernel)",
   "language": "python",
   "name": "python3"
  },
  "language_info": {
   "codemirror_mode": {
    "name": "ipython",
    "version": 3
   },
   "file_extension": ".py",
   "mimetype": "text/x-python",
   "name": "python",
   "nbconvert_exporter": "python",
   "pygments_lexer": "ipython3",
   "version": "3.9.13"
  },
  "widgets": {
   "application/vnd.jupyter.widget-state+json": {
    "state": {
     "0d2cbe9423fa4e5688acfe7e895d292e": {
      "model_module": "@jupyter-widgets/controls",
      "model_module_version": "1.5.0",
      "model_name": "ProgressStyleModel",
      "state": {
       "description_width": ""
      }
     },
     "0e770c9c1f0c442bb627460dcdaa4025": {
      "model_module": "@jupyter-widgets/controls",
      "model_module_version": "1.5.0",
      "model_name": "HTMLModel",
      "state": {
       "layout": "IPY_MODEL_b8f504f2fb69433585a48144f774726f",
       "style": "IPY_MODEL_d29c6d05731d45d1bb6b77b617c6c2ab"
      }
     },
     "153d9067b25c4180ab865e4ea0a9a08f": {
      "model_module": "@jupyter-widgets/controls",
      "model_module_version": "1.5.0",
      "model_name": "DescriptionStyleModel",
      "state": {
       "description_width": ""
      }
     },
     "3745d7fe5dbc46cdb4a40623b1b07108": {
      "model_module": "@jupyter-widgets/controls",
      "model_module_version": "1.5.0",
      "model_name": "DescriptionStyleModel",
      "state": {
       "description_width": ""
      }
     },
     "49df623b945e446cbe5ee77b203c749b": {
      "model_module": "@jupyter-widgets/base",
      "model_module_version": "1.2.0",
      "model_name": "LayoutModel",
      "state": {}
     },
     "4c39479edd3e4117941fa9a4566d6c26": {
      "model_module": "@jupyter-widgets/base",
      "model_module_version": "1.2.0",
      "model_name": "LayoutModel",
      "state": {}
     },
     "6900992caf004b3c85196dce5db9fa64": {
      "model_module": "@jupyter-widgets/controls",
      "model_module_version": "1.5.0",
      "model_name": "FloatProgressModel",
      "state": {
       "layout": "IPY_MODEL_c4a05f37f6ec4c028d00cbd647332c31",
       "max": 1,
       "style": "IPY_MODEL_74d47cd33ea642b3905867c6778dd457"
      }
     },
     "73ba8f140b9347f1aaa0e4dff31d8da2": {
      "model_module": "@jupyter-widgets/base",
      "model_module_version": "1.2.0",
      "model_name": "LayoutModel",
      "state": {}
     },
     "74d47cd33ea642b3905867c6778dd457": {
      "model_module": "@jupyter-widgets/controls",
      "model_module_version": "1.5.0",
      "model_name": "ProgressStyleModel",
      "state": {
       "description_width": ""
      }
     },
     "7ed7e4f71be1471baa8a00b779657a21": {
      "model_module": "@jupyter-widgets/controls",
      "model_module_version": "1.5.0",
      "model_name": "HBoxModel",
      "state": {
       "children": [
        "IPY_MODEL_0e770c9c1f0c442bb627460dcdaa4025",
        "IPY_MODEL_915d0015c302425bae95e591494b6300",
        "IPY_MODEL_ac2f758c86274b46a0e57e1b600daf47"
       ],
       "layout": "IPY_MODEL_d6899b1ebf5e46eab9c2a487820f5c0a"
      }
     },
     "8330388c3ae84de4bfb17434a8163fb0": {
      "model_module": "@jupyter-widgets/base",
      "model_module_version": "1.2.0",
      "model_name": "LayoutModel",
      "state": {}
     },
     "8f883208ac80478a9ee582f6ad757e90": {
      "model_module": "@jupyter-widgets/controls",
      "model_module_version": "1.5.0",
      "model_name": "DescriptionStyleModel",
      "state": {
       "description_width": ""
      }
     },
     "915d0015c302425bae95e591494b6300": {
      "model_module": "@jupyter-widgets/controls",
      "model_module_version": "1.5.0",
      "model_name": "FloatProgressModel",
      "state": {
       "bar_style": "info",
       "layout": "IPY_MODEL_c4a05f37f6ec4c028d00cbd647332c31",
       "max": 1,
       "style": "IPY_MODEL_74d47cd33ea642b3905867c6778dd457"
      }
     },
     "ac2f758c86274b46a0e57e1b600daf47": {
      "model_module": "@jupyter-widgets/controls",
      "model_module_version": "1.5.0",
      "model_name": "HTMLModel",
      "state": {
       "layout": "IPY_MODEL_ee13e6ef73e34e7e89440bb165c22352",
       "style": "IPY_MODEL_8f883208ac80478a9ee582f6ad757e90",
       "value": " 0/? [00:00&lt;?, ?it/s]"
      }
     },
     "b8f504f2fb69433585a48144f774726f": {
      "model_module": "@jupyter-widgets/base",
      "model_module_version": "1.2.0",
      "model_name": "LayoutModel",
      "state": {}
     },
     "c4a05f37f6ec4c028d00cbd647332c31": {
      "model_module": "@jupyter-widgets/base",
      "model_module_version": "1.2.0",
      "model_name": "LayoutModel",
      "state": {
       "width": "20px"
      }
     },
     "d29c6d05731d45d1bb6b77b617c6c2ab": {
      "model_module": "@jupyter-widgets/controls",
      "model_module_version": "1.5.0",
      "model_name": "DescriptionStyleModel",
      "state": {
       "description_width": ""
      }
     },
     "d6899b1ebf5e46eab9c2a487820f5c0a": {
      "model_module": "@jupyter-widgets/base",
      "model_module_version": "1.2.0",
      "model_name": "LayoutModel",
      "state": {}
     },
     "dee63f3ff5304a9f810ba354ee394e20": {
      "model_module": "@jupyter-widgets/controls",
      "model_module_version": "1.5.0",
      "model_name": "HBoxModel",
      "state": {
       "children": [
        "IPY_MODEL_0e770c9c1f0c442bb627460dcdaa4025",
        "IPY_MODEL_915d0015c302425bae95e591494b6300",
        "IPY_MODEL_ac2f758c86274b46a0e57e1b600daf47"
       ],
       "layout": "IPY_MODEL_d6899b1ebf5e46eab9c2a487820f5c0a"
      }
     },
     "e2357f27ba6a49ee8f0faded4e0770bb": {
      "model_module": "@jupyter-widgets/controls",
      "model_module_version": "1.5.0",
      "model_name": "HTMLModel",
      "state": {
       "layout": "IPY_MODEL_b8f504f2fb69433585a48144f774726f",
       "style": "IPY_MODEL_d29c6d05731d45d1bb6b77b617c6c2ab"
      }
     },
     "ee13e6ef73e34e7e89440bb165c22352": {
      "model_module": "@jupyter-widgets/base",
      "model_module_version": "1.2.0",
      "model_name": "LayoutModel",
      "state": {}
     },
     "f4cba26e3ea7425c8f7f38ddf73ae386": {
      "model_module": "@jupyter-widgets/controls",
      "model_module_version": "1.5.0",
      "model_name": "HTMLModel",
      "state": {
       "layout": "IPY_MODEL_ee13e6ef73e34e7e89440bb165c22352",
       "style": "IPY_MODEL_8f883208ac80478a9ee582f6ad757e90"
      }
     }
    },
    "version_major": 2,
    "version_minor": 0
   }
  }
 },
 "nbformat": 4,
 "nbformat_minor": 5
}
