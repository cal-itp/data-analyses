{
 "cells": [
  {
   "cell_type": "code",
   "execution_count": null,
   "id": "a51f0c99-91a1-4406-824c-215139aa98d0",
   "metadata": {},
   "outputs": [],
   "source": [
    "%%capture\n",
    "import warnings\n",
    "warnings.filterwarnings('ignore')\n",
    "\n",
    "import os\n",
    "os.environ[\"CALITP_BQ_MAX_BYTES\"] = str(800_000_000_000)\n",
    "import shared_utils\n",
    "\n",
    "from calitp.tables import tbl\n",
    "from calitp import query_sql\n",
    "import calitp.magics\n",
    "\n",
    "from siuba import *\n",
    "import pandas as pd\n",
    "import geopandas as gpd\n",
    "\n",
    "import datetime as dt\n",
    "\n",
    "import importlib\n",
    "import rt_analysis as rt\n",
    "import rt_filter_map_plot\n",
    "\n",
    "from IPython.display import display, Markdown, Latex, HTML\n",
    "import json\n",
    "\n",
    "from tqdm import tqdm_notebook\n",
    "from tqdm.notebook import trange, tqdm"
   ]
  },
  {
   "cell_type": "markdown",
   "id": "af13c48a-2825-406e-b066-897c7b0a7911",
   "metadata": {},
   "source": [
    "# AC / Lake"
   ]
  },
  {
   "cell_type": "code",
   "execution_count": null,
   "id": "a98a9208-4023-4205-8088-f68bb560ee3f",
   "metadata": {},
   "outputs": [],
   "source": [
    "# itp_id = 4 ## AC Transit\n",
    "itp_id = 159 ## Lake Transit"
   ]
  },
  {
   "cell_type": "code",
   "execution_count": null,
   "id": "4331503f-09b5-4eb1-9b1a-8e5494a003c0",
   "metadata": {},
   "outputs": [],
   "source": [
    "import numpy as np"
   ]
  },
  {
   "cell_type": "code",
   "execution_count": null,
   "id": "4ce12969-7cd3-4cd7-b760-c6f7826b85e5",
   "metadata": {},
   "outputs": [],
   "source": [
    "date_range = np.arange('2022-04-30', '2022-05-09', dtype='datetime64[D]')"
   ]
  },
  {
   "cell_type": "code",
   "execution_count": null,
   "id": "3ca84d5f-48cd-4de9-be49-78bdb46168dc",
   "metadata": {},
   "outputs": [],
   "source": [
    "date_range"
   ]
  },
  {
   "cell_type": "markdown",
   "id": "3209f492-611b-4aa9-9c49-9c473328426c",
   "metadata": {},
   "source": [
    "# Generate analysis data for all dates"
   ]
  },
  {
   "cell_type": "code",
   "execution_count": null,
   "id": "8a482937-4925-42cf-95d3-73120a5348c2",
   "metadata": {},
   "outputs": [],
   "source": [
    "pbar = tqdm()"
   ]
  },
  {
   "cell_type": "code",
   "execution_count": null,
   "id": "f1c3a1f9-44e3-4d73-a913-06cc3286eaf4",
   "metadata": {
    "tags": []
   },
   "outputs": [],
   "source": [
    "# for date in date_range:\n",
    "#     date = date.astype(dt.date)\n",
    "#     try:\n",
    "#         rt_analysis = rt.OperatorDayAnalysis(itp_id, date, pbar)\n",
    "#         rt_analysis.export_views_gcs()\n",
    "#         print(f'complete for date: {date}')\n",
    "#     except Exception as e:\n",
    "#         print(e)\n",
    "#         print(f'failed for date: {date}')\n",
    "#         continue"
   ]
  },
  {
   "cell_type": "code",
   "execution_count": null,
   "id": "ff28c6a8-eab8-48d6-b904-27e108d81cd0",
   "metadata": {},
   "outputs": [],
   "source": [
    "for date in date_range:\n",
    "    date = date.astype(dt.date)\n",
    "    try:\n",
    "        rt_day = rt_filter_map_plot.from_gcs(itp_id, date)\n",
    "        print(f'complete for date: {date}')\n",
    "    except:\n",
    "        print(f'failed for date: {date}')\n",
    "        continue"
   ]
  },
  {
   "cell_type": "code",
   "execution_count": null,
   "id": "d70b77af-0f15-4865-96eb-db81141aab06",
   "metadata": {},
   "outputs": [],
   "source": [
    "rt_day = rt_filter_map_plot.from_gcs(itp_id, dt.date(2022, 5, 4))"
   ]
  },
  {
   "cell_type": "code",
   "execution_count": null,
   "id": "08abef6b-da42-45fb-b785-204a5791df19",
   "metadata": {},
   "outputs": [],
   "source": [
    "# corridor = gpd.read_file('./CMCP_StudyAreaBoundary.geojson') ## alameda\n",
    "corridor = gpd.read_file('./corridors_sccp_lpp/lakeport_map.geojson') ## lakeport"
   ]
  },
  {
   "cell_type": "code",
   "execution_count": null,
   "id": "64051f76-f295-45c7-8aee-f18038d7ae38",
   "metadata": {},
   "outputs": [],
   "source": [
    "rt_day.add_corridor(corridor)"
   ]
  },
  {
   "cell_type": "code",
   "execution_count": null,
   "id": "970f5854-f8eb-4ce1-9ea2-1fe3373d3c8a",
   "metadata": {},
   "outputs": [],
   "source": [
    "mappable_stops = (rt_day.stop_delay_view\n",
    "          >> distinct(_.shape_id, _.stop_sequence, _keep_all=True)\n",
    "          >> filter(_.corridor)\n",
    "          >> select(_.stop_id, _.geometry, _.stop_sequence)\n",
    "         )"
   ]
  },
  {
   "cell_type": "code",
   "execution_count": null,
   "id": "81b0c861-19b3-4f12-b26f-37aae90352e7",
   "metadata": {},
   "outputs": [],
   "source": [
    "# quick corridor map\n",
    "# rt_day.quick_map_corridor()"
   ]
  },
  {
   "cell_type": "markdown",
   "id": "eb46580f-d923-464b-b2ea-9b59e65c09c0",
   "metadata": {
    "tags": []
   },
   "source": [
    "# Algorithm\n",
    "\n",
    "* Clip stops to corridor\n",
    "* Get first and last stops in corridor for each shape_id, then find 1 stop before and 1 stop after for each\n",
    "* Filter stop_delay_view based on those stops\n",
    "* Assert that more than 10% of filtered stops within corridor, if not then drop shape (remove shapes starting/ending in corridor but mostly running outside)"
   ]
  },
  {
   "cell_type": "markdown",
   "id": "ae61436e-066e-4044-b8d5-076ed7e55255",
   "metadata": {},
   "source": [
    "# Report:\n",
    "\n",
    "* Sum of median trip delays\n",
    "* Median segment speed\n",
    "* Delay compared to speed standards: 16mph (approx. 75th %ile for medium size operator by 2010 NTD)"
   ]
  },
  {
   "cell_type": "markdown",
   "id": "897b4f06-6264-481e-a388-f7e1bc16bff7",
   "metadata": {},
   "source": [
    "# Corridor-based metrics for SCCP\n",
    "\n",
    "* intent is to eventually parameterize this and output formatted report, also methodology may change"
   ]
  },
  {
   "cell_type": "code",
   "execution_count": null,
   "id": "16cbcfa2-a3a6-4a54-8d0f-0541086f8b6c",
   "metadata": {},
   "outputs": [],
   "source": [
    "pbar = tqdm()"
   ]
  },
  {
   "cell_type": "code",
   "execution_count": null,
   "id": "9c802068-1d29-49d2-9775-8b3359f0f0b7",
   "metadata": {},
   "outputs": [],
   "source": [
    "rt_day.corridor_metrics()"
   ]
  },
  {
   "cell_type": "code",
   "execution_count": null,
   "id": "96ebddbf-7a0d-4ab8-a03c-f05b32367727",
   "metadata": {},
   "outputs": [],
   "source": [
    "schedule_metrics = []\n",
    "speed_metrics = []\n",
    "for date in date_range:\n",
    "    date = date.astype(dt.date)\n",
    "    try:\n",
    "        rt_day = rt_filter_map_plot.from_gcs(itp_id, date, pbar)\n",
    "        rt_day.add_corridor(corridor)\n",
    "        _m = rt_filter_map_plot.RtFilterMapper.segment_speed_map(rt_day, corridor=True)\n",
    "        metrics = rt_day.corridor_metrics()\n",
    "        schedule_metrics += [metrics['schedule_metric_minutes']]\n",
    "        speed_metrics += [metrics['speed_metric_minutes']]\n",
    "        print(f'complete for date: {date}')\n",
    "    except Exception as e:\n",
    "        print(f'failed for date: {date}')\n",
    "        print(e)\n",
    "        continue"
   ]
  },
  {
   "cell_type": "code",
   "execution_count": null,
   "id": "09f20689-881d-4f47-bbe3-318aa987b387",
   "metadata": {},
   "outputs": [],
   "source": [
    "np.round(np.mean(schedule_metrics), 0)"
   ]
  },
  {
   "cell_type": "code",
   "execution_count": null,
   "id": "e210922d-8985-42e7-8d20-2be8483bcd9d",
   "metadata": {},
   "outputs": [],
   "source": [
    "np.round(np.mean(speed_metrics), 0)"
   ]
  },
  {
   "cell_type": "code",
   "execution_count": null,
   "id": "240b56a5-c676-4487-ad01-6e3d44da8e26",
   "metadata": {},
   "outputs": [],
   "source": [
    "rt_day = rt_filter_map_plot.from_gcs(itp_id, dt.date(2022, 5, 4), pbar)\n",
    "rt_day.add_corridor(corridor)\n",
    "_m = rt_filter_map_plot.RtFilterMapper.segment_speed_map(rt_day, corridor=True)"
   ]
  },
  {
   "cell_type": "code",
   "execution_count": null,
   "id": "acd53441-0e16-4367-9068-57eade77431d",
   "metadata": {},
   "outputs": [],
   "source": [
    "_m.save('lake_map.html')"
   ]
  },
  {
   "cell_type": "code",
   "execution_count": null,
   "id": "76bfd6be-1aff-4e5a-b3e3-b77ede6ee303",
   "metadata": {},
   "outputs": [],
   "source": [
    "rt_day.stop_delay_view >> filter(_.corridor) >> distinct(_.route_short_name)"
   ]
  },
  {
   "cell_type": "markdown",
   "id": "fb9a2b89-ca81-4763-bbc7-5e51c2251e99",
   "metadata": {},
   "source": [
    "# Samtrans"
   ]
  },
  {
   "cell_type": "code",
   "execution_count": null,
   "id": "2bf398bb-972e-46a6-ae05-ffe3eb8048d9",
   "metadata": {},
   "outputs": [],
   "source": [
    "itp_id = 290 # Samtrans"
   ]
  },
  {
   "cell_type": "code",
   "execution_count": null,
   "id": "d101a6dd-76c9-4a8a-8259-a6d4c0ef926f",
   "metadata": {},
   "outputs": [],
   "source": [
    "import numpy as np"
   ]
  },
  {
   "cell_type": "code",
   "execution_count": null,
   "id": "62015e80-855e-467d-a2aa-37550eb6f32f",
   "metadata": {},
   "outputs": [],
   "source": [
    "date_range = np.arange('2022-04-30', '2022-05-09', dtype='datetime64[D]')"
   ]
  },
  {
   "cell_type": "code",
   "execution_count": null,
   "id": "bd8a40c0-af6a-46e2-9c8d-f807811e5385",
   "metadata": {},
   "outputs": [],
   "source": [
    "date_range"
   ]
  },
  {
   "cell_type": "markdown",
   "id": "a3ed4b3d-060c-4854-8b1e-939d234bed67",
   "metadata": {},
   "source": [
    "# Generate analysis data for all dates"
   ]
  },
  {
   "cell_type": "code",
   "execution_count": null,
   "id": "1f585159-64a1-488c-ad3b-88ede3bd52bc",
   "metadata": {},
   "outputs": [],
   "source": [
    "pbar = tqdm()"
   ]
  },
  {
   "cell_type": "code",
   "execution_count": null,
   "id": "cab3e7cf-22d6-4762-9db6-bceba7e0a0f2",
   "metadata": {
    "tags": []
   },
   "outputs": [],
   "source": [
    "for date in date_range:\n",
    "    date = date.astype(dt.date)\n",
    "    try:\n",
    "        rt_analysis = rt.OperatorDayAnalysis(itp_id, date, pbar)\n",
    "        rt_analysis.export_views_gcs()\n",
    "        print(f'complete for date: {date}')\n",
    "    except Exception as e:\n",
    "        print(e)\n",
    "        print(f'failed for date: {date}')\n",
    "        continue"
   ]
  },
  {
   "cell_type": "code",
   "execution_count": null,
   "id": "fa02414e-ed34-44c5-be82-9eadafa6ce19",
   "metadata": {
    "tags": []
   },
   "outputs": [],
   "source": [
    "for date in date_range:\n",
    "    date = date.astype(dt.date)\n",
    "    try:\n",
    "        rt_day = rt_filter_map_plot.from_gcs(itp_id, date)\n",
    "        print(f'complete for date: {date}')\n",
    "    except:\n",
    "        print(f'failed for date: {date}')\n",
    "        continue"
   ]
  },
  {
   "cell_type": "code",
   "execution_count": null,
   "id": "b62270e3-a080-4767-b45c-82f7e6e21c45",
   "metadata": {},
   "outputs": [],
   "source": [
    "importlib.reload(rt_filter_map_plot)"
   ]
  },
  {
   "cell_type": "code",
   "execution_count": null,
   "id": "57c61a2e-5b8f-48cf-ae0f-09c7cd5a1c95",
   "metadata": {},
   "outputs": [],
   "source": [
    "rt_day = rt_filter_map_plot.from_gcs(itp_id, dt.date(2022, 5, 5))"
   ]
  },
  {
   "cell_type": "code",
   "execution_count": null,
   "id": "4ca4e9c9-e0b0-4ffd-821b-d05493bf2010",
   "metadata": {},
   "outputs": [],
   "source": [
    "corridor = gpd.read_file('./corridors_sccp_lpp/peninsula.geojson') ## foster city / hayward park"
   ]
  },
  {
   "cell_type": "code",
   "execution_count": null,
   "id": "e2333a37-dcbd-4c8d-a584-333fb1ff71f1",
   "metadata": {},
   "outputs": [],
   "source": [
    "rt_day.add_corridor(corridor)"
   ]
  },
  {
   "cell_type": "code",
   "execution_count": null,
   "id": "1b7bf48d-2853-41a3-bf95-f80bc1753529",
   "metadata": {},
   "outputs": [],
   "source": [
    "# quick corridor map\n",
    "rt_day.quick_map_corridor()"
   ]
  },
  {
   "cell_type": "markdown",
   "id": "1762ab30-07b8-4028-a7c6-58e2f7b3d3df",
   "metadata": {
    "tags": []
   },
   "source": [
    "# Algorithm\n",
    "\n",
    "* Clip stops to corridor\n",
    "* Get first and last stops in corridor for each shape_id, then find 1 stop before and 1 stop after for each\n",
    "* Filter stop_delay_view based on those stops"
   ]
  },
  {
   "cell_type": "markdown",
   "id": "32423e8f-4d74-4d2f-bb9e-539bdf66862c",
   "metadata": {},
   "source": [
    "# Report:\n",
    "\n",
    "* Sum of median trip delays\n",
    "* Median segment speed\n",
    "* Delay compared to speed standards: 16mph (approx. 75th %ile for medium size operator by 2010 NTD)"
   ]
  },
  {
   "cell_type": "markdown",
   "id": "78d89b5b-f677-4ee5-aba8-2c4f899f1c65",
   "metadata": {},
   "source": [
    "# Corridor-based metrics for SCCP\n",
    "\n",
    "* intent is to eventually parameterize this and output formatted report, also methodology may change"
   ]
  },
  {
   "cell_type": "code",
   "execution_count": null,
   "id": "f3b70174-1286-43cd-867c-7b7564727786",
   "metadata": {},
   "outputs": [],
   "source": [
    "pbar = tqdm()"
   ]
  },
  {
   "cell_type": "code",
   "execution_count": null,
   "id": "b3f20b30-3cea-4d8c-8e7f-b376c189125c",
   "metadata": {},
   "outputs": [],
   "source": [
    "rt_day.corridor_metrics()"
   ]
  },
  {
   "cell_type": "code",
   "execution_count": null,
   "id": "aa725961-805e-40cb-9256-7b2bba698569",
   "metadata": {},
   "outputs": [],
   "source": [
    "schedule_metrics = []\n",
    "speed_metrics = []\n",
    "for date in date_range:\n",
    "    date = date.astype(dt.date)\n",
    "    try:\n",
    "        rt_day = rt_filter_map_plot.from_gcs(itp_id, date, pbar)\n",
    "        rt_day.add_corridor(corridor)\n",
    "        _m = rt_filter_map_plot.RtFilterMapper.segment_speed_map(rt_day, corridor=True)\n",
    "        metrics = rt_day.corridor_metrics()\n",
    "        schedule_metrics += [metrics['schedule_metric_minutes']]\n",
    "        speed_metrics += [metrics['speed_metric_minutes']]\n",
    "        print(f'complete for date: {date}')\n",
    "    except Exception as e:\n",
    "        print(f'failed for date: {date}')\n",
    "        print(e)\n",
    "        continue"
   ]
  },
  {
   "cell_type": "code",
   "execution_count": null,
   "id": "94f22d0d-dc90-4ff0-b6ed-29dae9d3f2c7",
   "metadata": {},
   "outputs": [],
   "source": [
    "np.round(np.mean(schedule_metrics), 0)"
   ]
  },
  {
   "cell_type": "code",
   "execution_count": null,
   "id": "c7f573a4-2f7c-4f53-8e28-51c54a6f2325",
   "metadata": {},
   "outputs": [],
   "source": [
    "np.round(np.mean(speed_metrics), 0)"
   ]
  },
  {
   "cell_type": "code",
   "execution_count": null,
   "id": "925fb4c2-bc12-4a61-932a-b21fedd398c4",
   "metadata": {},
   "outputs": [],
   "source": [
    "rt_day = rt_filter_map_plot.from_gcs(itp_id, dt.date(2022, 5, 5), pbar)\n",
    "rt_day.add_corridor(corridor)\n",
    "_m = rt_filter_map_plot.RtFilterMapper.segment_speed_map(rt_day, corridor=True)"
   ]
  },
  {
   "cell_type": "code",
   "execution_count": null,
   "id": "5978ec23-ae78-400f-810e-dc0dd0eb2f51",
   "metadata": {},
   "outputs": [],
   "source": [
    "_m"
   ]
  },
  {
   "cell_type": "code",
   "execution_count": null,
   "id": "aa880fad-4b8f-4be5-92a1-8c24408098fe",
   "metadata": {},
   "outputs": [],
   "source": [
    "_m.save('samtrans_map.html')"
   ]
  },
  {
   "cell_type": "code",
   "execution_count": null,
   "id": "1686596c-31d2-4c34-b4dd-f1b5bae2ba77",
   "metadata": {},
   "outputs": [],
   "source": [
    "rt_day.stop_delay_view >> filter(_.corridor) >> distinct(_.route_short_name)"
   ]
  },
  {
   "cell_type": "code",
   "execution_count": null,
   "id": "ebc6ad15-ac1f-48c7-99ef-0e799c22dfe5",
   "metadata": {},
   "outputs": [],
   "source": [
    "rt_day.corridor_stop_delays"
   ]
  },
  {
   "cell_type": "code",
   "execution_count": null,
   "id": "4ab6915b-3923-45dd-a245-075742366752",
   "metadata": {},
   "outputs": [],
   "source": []
  }
 ],
 "metadata": {
  "kernelspec": {
   "display_name": "Python 3 (ipykernel)",
   "language": "python",
   "name": "python3"
  },
  "language_info": {
   "codemirror_mode": {
    "name": "ipython",
    "version": 3
   },
   "file_extension": ".py",
   "mimetype": "text/x-python",
   "name": "python",
   "nbconvert_exporter": "python",
   "pygments_lexer": "ipython3",
   "version": "3.10.5"
  }
 },
 "nbformat": 4,
 "nbformat_minor": 5
}
