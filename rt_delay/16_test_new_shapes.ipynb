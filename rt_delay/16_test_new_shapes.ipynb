{
 "cells": [
  {
   "cell_type": "code",
   "execution_count": 1,
   "id": "19f83798-f83c-4413-993b-b6bc6710b3a6",
   "metadata": {},
   "outputs": [
    {
     "name": "stderr",
     "output_type": "stream",
     "text": [
      "/opt/conda/lib/python3.9/site-packages/geopandas/_compat.py:111: UserWarning: The Shapely GEOS version (3.10.2-CAPI-1.16.0) is incompatible with the GEOS version PyGEOS was compiled with (3.10.1-CAPI-1.16.0). Conversions between both will be slow.\n",
      "  warnings.warn(\n",
      "E0329 17:16:04.341056402    1034 fork_posix.cc:70]           Fork support is only compatible with the epoll1 and poll polling strategies\n",
      "E0329 17:16:06.594510324    1034 fork_posix.cc:70]           Fork support is only compatible with the epoll1 and poll polling strategies\n"
     ]
    }
   ],
   "source": [
    "import os\n",
    "os.environ[\"CALITP_BQ_MAX_BYTES\"] = str(400_000_000_000)\n",
    "\n",
    "from calitp.tables import tbl\n",
    "from calitp import query_sql\n",
    "import calitp.magics\n",
    "import branca\n",
    "\n",
    "import shared_utils\n",
    "import utils\n",
    "\n",
    "from siuba import *\n",
    "import pandas as pd\n",
    "import geopandas as gpd\n",
    "import shapely\n",
    "\n",
    "import datetime as dt\n",
    "import time\n",
    "from zoneinfo import ZoneInfo\n",
    "\n",
    "import rt_analysis as rt\n",
    "import importlib\n",
    "\n",
    "import gcsfs\n",
    "fs = gcsfs.GCSFileSystem()\n",
    "\n",
    "from tqdm import tqdm_notebook\n",
    "from tqdm.notebook import trange, tqdm"
   ]
  },
  {
   "cell_type": "code",
   "execution_count": 2,
   "id": "a8728df9-3ae8-47fc-adfe-74da67b17dbd",
   "metadata": {},
   "outputs": [
    {
     "data": {
      "application/vnd.jupyter.widget-view+json": {
       "model_id": "b75ede064cb74788a8c03d804bcd57a4",
       "version_major": 2,
       "version_minor": 0
      },
      "text/plain": [
       "0it [00:00, ?it/s]"
      ]
     },
     "metadata": {},
     "output_type": "display_data"
    }
   ],
   "source": [
    "pbar = tqdm()"
   ]
  },
  {
   "cell_type": "code",
   "execution_count": 3,
   "id": "2b37bed9-7787-4931-9856-c0a41d41bf9e",
   "metadata": {},
   "outputs": [],
   "source": [
    "analysis_date = dt.date(2022, 3, 23) ##wednesday, new tables\n",
    "lbt_itp_id = 170"
   ]
  },
  {
   "cell_type": "code",
   "execution_count": 4,
   "id": "bca4b73c-d151-4aea-82da-f2ee7a06a0e1",
   "metadata": {},
   "outputs": [],
   "source": [
    "%%capture\n",
    "rt_day = rt.OperatorDayAnalysis(lbt_itp_id, analysis_date, pbar)"
   ]
  },
  {
   "cell_type": "code",
   "execution_count": 5,
   "id": "730ecdcd-6355-4365-95a2-7742a1f9459e",
   "metadata": {
    "tags": []
   },
   "outputs": [],
   "source": [
    "%%capture\n",
    "rt_day.set_filter(start_time='15:00', end_time='19:00')\n",
    "m = rt_day.segment_speed_map(how='low_speeds', size = [1300, 700])"
   ]
  },
  {
   "cell_type": "code",
   "execution_count": 20,
   "id": "fe688cad-6755-4c3c-a836-90130197c0cf",
   "metadata": {
    "tags": []
   },
   "outputs": [],
   "source": [
    "# m"
   ]
  },
  {
   "cell_type": "markdown",
   "id": "59fc105e-158d-49ee-a5e0-586dfecbf8be",
   "metadata": {},
   "source": [
    "#### siuba query in utils.get_routelines for reference\n",
    "```\n",
    "    shapes = (tbl.views.gtfs_schedule_dim_shapes_geo()\n",
    "          >> filter(_.calitp_extracted_at <= analysis_date, \n",
    "                    _.calitp_deleted_at > analysis_date\n",
    "                   )\n",
    "          >> filter(_.calitp_itp_id == itp_id)\n",
    "          >> select(_.calitp_itp_id, _.calitp_url_number, _.calitp_extracted_at,\n",
    "                    _.calitp_deleted_at, _.shape_id, _.pt_array)\n",
    "          >> collect()\n",
    "         )\n",
    "```"
   ]
  },
  {
   "cell_type": "code",
   "execution_count": 7,
   "id": "f8a9c1f8-84e4-4f7e-9e47-3e5db10682e5",
   "metadata": {},
   "outputs": [
    {
     "name": "stderr",
     "output_type": "stream",
     "text": [
      "/opt/conda/lib/python3.9/site-packages/pybigquery/sqlalchemy_bigquery.py:879: SAWarning: Did not recognize type 'GEOGRAPHY' of column 'pt_array'\n",
      "/home/jovyan/data-analyses/_shared_utils/shared_utils/utils.py:38: UserWarning: this is an initial implementation of Parquet/Feather file support and associated metadata.  This is tracking version 0.1.0 of the metadata specification at https://github.com/geopandas/geo-arrow-spec\n",
      "\n",
      "This metadata specification does not yet make stability promises.  We do not yet recommend using this in a production setting unless you are able to rewrite your Parquet/Feather files.\n",
      "\n",
      "To further ignore this warning, you can do: \n",
      "import warnings; warnings.filterwarnings('ignore', message='.*initial implementation of Parquet.*')\n"
     ]
    }
   ],
   "source": [
    "lines = utils.get_routelines(lbt_itp_id, analysis_date).dropna()"
   ]
  },
  {
   "cell_type": "code",
   "execution_count": 8,
   "id": "65a3fa61-6f58-4d88-8914-61bacefdec66",
   "metadata": {},
   "outputs": [],
   "source": [
    "lines['num_points'] = lines.geometry.apply(lambda x: len([pt for pt in x.coords]))"
   ]
  },
  {
   "cell_type": "code",
   "execution_count": 9,
   "id": "f8cdc45d-75d5-4119-8f22-702ad6c60666",
   "metadata": {},
   "outputs": [],
   "source": [
    "lines['has_trip'] = lines.shape_id.isin(rt_day.rt_trips.shape_id)"
   ]
  },
  {
   "cell_type": "code",
   "execution_count": 10,
   "id": "9fafd33a-7413-44de-90a8-c764678713b8",
   "metadata": {},
   "outputs": [
    {
     "data": {
      "text/html": [
       "<div>\n",
       "<style scoped>\n",
       "    .dataframe tbody tr th:only-of-type {\n",
       "        vertical-align: middle;\n",
       "    }\n",
       "\n",
       "    .dataframe tbody tr th {\n",
       "        vertical-align: top;\n",
       "    }\n",
       "\n",
       "    .dataframe thead th {\n",
       "        text-align: right;\n",
       "    }\n",
       "</style>\n",
       "<table border=\"1\" class=\"dataframe\">\n",
       "  <thead>\n",
       "    <tr style=\"text-align: right;\">\n",
       "      <th></th>\n",
       "      <th>calitp_itp_id</th>\n",
       "      <th>calitp_url_number</th>\n",
       "      <th>calitp_extracted_at</th>\n",
       "      <th>calitp_deleted_at</th>\n",
       "      <th>shape_id</th>\n",
       "      <th>geometry</th>\n",
       "      <th>num_points</th>\n",
       "      <th>has_trip</th>\n",
       "    </tr>\n",
       "  </thead>\n",
       "  <tbody>\n",
       "  </tbody>\n",
       "</table>\n",
       "</div>"
      ],
      "text/plain": [
       "Empty GeoDataFrame\n",
       "Columns: [calitp_itp_id, calitp_url_number, calitp_extracted_at, calitp_deleted_at, shape_id, geometry, num_points, has_trip]\n",
       "Index: []"
      ]
     },
     "execution_count": 10,
     "metadata": {},
     "output_type": "execute_result"
    }
   ],
   "source": [
    "lines >> filter(_.num_points < 50) >> arrange(_.num_points)"
   ]
  },
  {
   "cell_type": "code",
   "execution_count": 11,
   "id": "e307473d-c0d4-4af5-801d-7cc2ee03cf35",
   "metadata": {},
   "outputs": [],
   "source": [
    "a_shape = lines >> filter(_.shape_id == '1720090')"
   ]
  },
  {
   "cell_type": "code",
   "execution_count": 12,
   "id": "24fb20c9-1f70-4e6f-9f1d-8275250c6590",
   "metadata": {},
   "outputs": [
    {
     "data": {
      "text/html": [
       "<div>\n",
       "<style scoped>\n",
       "    .dataframe tbody tr th:only-of-type {\n",
       "        vertical-align: middle;\n",
       "    }\n",
       "\n",
       "    .dataframe tbody tr th {\n",
       "        vertical-align: top;\n",
       "    }\n",
       "\n",
       "    .dataframe thead th {\n",
       "        text-align: right;\n",
       "    }\n",
       "</style>\n",
       "<table border=\"1\" class=\"dataframe\">\n",
       "  <thead>\n",
       "    <tr style=\"text-align: right;\">\n",
       "      <th></th>\n",
       "      <th>calitp_itp_id</th>\n",
       "      <th>calitp_url_number</th>\n",
       "      <th>calitp_extracted_at</th>\n",
       "      <th>calitp_deleted_at</th>\n",
       "      <th>shape_id</th>\n",
       "      <th>geometry</th>\n",
       "      <th>num_points</th>\n",
       "      <th>has_trip</th>\n",
       "    </tr>\n",
       "  </thead>\n",
       "  <tbody>\n",
       "    <tr>\n",
       "      <th>82</th>\n",
       "      <td>170</td>\n",
       "      <td>0</td>\n",
       "      <td>2022-02-02</td>\n",
       "      <td>2099-01-01</td>\n",
       "      <td>1720090</td>\n",
       "      <td>LINESTRING (167579.235 -470295.935, 167588.400...</td>\n",
       "      <td>857</td>\n",
       "      <td>True</td>\n",
       "    </tr>\n",
       "  </tbody>\n",
       "</table>\n",
       "</div>"
      ],
      "text/plain": [
       "    calitp_itp_id  calitp_url_number calitp_extracted_at calitp_deleted_at  \\\n",
       "82            170                  0          2022-02-02        2099-01-01   \n",
       "\n",
       "   shape_id                                           geometry  num_points  \\\n",
       "82  1720090  LINESTRING (167579.235 -470295.935, 167588.400...         857   \n",
       "\n",
       "    has_trip  \n",
       "82      True  "
      ]
     },
     "execution_count": 12,
     "metadata": {},
     "output_type": "execute_result"
    }
   ],
   "source": [
    "a_shape"
   ]
  },
  {
   "cell_type": "code",
   "execution_count": 19,
   "id": "6bfecb34-ca9b-4b1b-839a-e197fbfa39f6",
   "metadata": {},
   "outputs": [
    {
     "data": {
      "text/html": [
       "<div>\n",
       "<style scoped>\n",
       "    .dataframe tbody tr th:only-of-type {\n",
       "        vertical-align: middle;\n",
       "    }\n",
       "\n",
       "    .dataframe tbody tr th {\n",
       "        vertical-align: top;\n",
       "    }\n",
       "\n",
       "    .dataframe thead th {\n",
       "        text-align: right;\n",
       "    }\n",
       "</style>\n",
       "<table border=\"1\" class=\"dataframe\">\n",
       "  <thead>\n",
       "    <tr style=\"text-align: right;\">\n",
       "      <th></th>\n",
       "      <th>shape_id</th>\n",
       "      <th>n</th>\n",
       "    </tr>\n",
       "  </thead>\n",
       "  <tbody>\n",
       "    <tr>\n",
       "      <th>0</th>\n",
       "      <td>10074</td>\n",
       "      <td>1</td>\n",
       "    </tr>\n",
       "    <tr>\n",
       "      <th>1</th>\n",
       "      <td>10075</td>\n",
       "      <td>1</td>\n",
       "    </tr>\n",
       "    <tr>\n",
       "      <th>2</th>\n",
       "      <td>10078</td>\n",
       "      <td>1</td>\n",
       "    </tr>\n",
       "    <tr>\n",
       "      <th>3</th>\n",
       "      <td>1010086</td>\n",
       "      <td>1</td>\n",
       "    </tr>\n",
       "    <tr>\n",
       "      <th>4</th>\n",
       "      <td>1010087</td>\n",
       "      <td>1</td>\n",
       "    </tr>\n",
       "    <tr>\n",
       "      <th>...</th>\n",
       "      <td>...</td>\n",
       "      <td>...</td>\n",
       "    </tr>\n",
       "    <tr>\n",
       "      <th>111</th>\n",
       "      <td>940155</td>\n",
       "      <td>1</td>\n",
       "    </tr>\n",
       "    <tr>\n",
       "      <th>112</th>\n",
       "      <td>940156</td>\n",
       "      <td>1</td>\n",
       "    </tr>\n",
       "    <tr>\n",
       "      <th>113</th>\n",
       "      <td>940157</td>\n",
       "      <td>1</td>\n",
       "    </tr>\n",
       "    <tr>\n",
       "      <th>114</th>\n",
       "      <td>940158</td>\n",
       "      <td>1</td>\n",
       "    </tr>\n",
       "    <tr>\n",
       "      <th>115</th>\n",
       "      <td>940159</td>\n",
       "      <td>1</td>\n",
       "    </tr>\n",
       "  </tbody>\n",
       "</table>\n",
       "<p>116 rows × 2 columns</p>\n",
       "</div>"
      ],
      "text/plain": [
       "    shape_id  n\n",
       "0      10074  1\n",
       "1      10075  1\n",
       "2      10078  1\n",
       "3    1010086  1\n",
       "4    1010087  1\n",
       "..       ... ..\n",
       "111   940155  1\n",
       "112   940156  1\n",
       "113   940157  1\n",
       "114   940158  1\n",
       "115   940159  1\n",
       "\n",
       "[116 rows x 2 columns]"
      ]
     },
     "execution_count": 19,
     "metadata": {},
     "output_type": "execute_result"
    }
   ],
   "source": [
    "lines >> count(_.shape_id) >> arrange(_.n)"
   ]
  },
  {
   "cell_type": "code",
   "execution_count": null,
   "id": "260a5104-6488-4514-9323-42b55476a5f9",
   "metadata": {},
   "outputs": [],
   "source": []
  }
 ],
 "metadata": {
  "kernelspec": {
   "display_name": "Python 3 (ipykernel)",
   "language": "python",
   "name": "python3"
  },
  "language_info": {
   "codemirror_mode": {
    "name": "ipython",
    "version": 3
   },
   "file_extension": ".py",
   "mimetype": "text/x-python",
   "name": "python",
   "nbconvert_exporter": "python",
   "pygments_lexer": "ipython3",
   "version": "3.9.10"
  }
 },
 "nbformat": 4,
 "nbformat_minor": 5
}
