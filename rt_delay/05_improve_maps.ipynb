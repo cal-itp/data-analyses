{
 "cells": [
  {
   "cell_type": "code",
   "execution_count": 139,
   "id": "47fb1e19-4f66-4991-8270-b7b3d60b596a",
   "metadata": {},
   "outputs": [],
   "source": [
    "import os\n",
    "os.environ[\"CALITP_BQ_MAX_BYTES\"] = str(100_000_000_000)\n",
    "\n",
    "from calitp.tables import tbl\n",
    "from calitp import query_sql\n",
    "import calitp.magics\n",
    "import branca\n",
    "\n",
    "import shared_utils\n",
    "import utils\n",
    "\n",
    "from siuba import *\n",
    "import pandas as pd\n",
    "import geopandas as gpd\n",
    "import shapely\n",
    "\n",
    "import datetime as dt\n",
    "import time\n",
    "from zoneinfo import ZoneInfo\n",
    "\n",
    "import rt_analysis as rt\n",
    "import importlib\n",
    "\n",
    "import gcsfs\n",
    "fs = gcsfs.GCSFileSystem()\n",
    "\n",
    "from tqdm import tqdm_notebook\n",
    "from tqdm.notebook import trange, tqdm"
   ]
  },
  {
   "cell_type": "code",
   "execution_count": 140,
   "id": "7db6fbac-c932-47e8-b7b2-8b73700bd393",
   "metadata": {},
   "outputs": [],
   "source": [
    "analysis_date = dt.date(2022, 1, 12)"
   ]
  },
  {
   "cell_type": "code",
   "execution_count": 141,
   "id": "864dd822-08f2-4bfc-97b2-2040223682ca",
   "metadata": {},
   "outputs": [],
   "source": [
    "lbt_itp_id = 170"
   ]
  },
  {
   "cell_type": "code",
   "execution_count": 142,
   "id": "06b720f4-f09a-4602-b86e-45753ce9c288",
   "metadata": {},
   "outputs": [
    {
     "data": {
      "text/plain": [
       "<module 'rt_analysis' from '/home/jovyan/data-analyses/rt_delay/rt_analysis.py'>"
      ]
     },
     "execution_count": 142,
     "metadata": {},
     "output_type": "execute_result"
    }
   ],
   "source": [
    "importlib.reload(utils)\n",
    "importlib.reload(rt)"
   ]
  },
  {
   "cell_type": "code",
   "execution_count": 5,
   "id": "51fb22ec-3439-4240-96ac-f67f8ff5ae06",
   "metadata": {},
   "outputs": [],
   "source": [
    "colorscale = branca.colormap.step.RdYlGn_10.scale(vmin=0, \n",
    " vmax=30)\n",
    "colorscale.caption = \"Speed (miles per hour)\""
   ]
  },
  {
   "cell_type": "code",
   "execution_count": 6,
   "id": "38cb3608-3246-47ee-91a3-b643c9b4c66f",
   "metadata": {},
   "outputs": [
    {
     "data": {
      "application/vnd.jupyter.widget-view+json": {
       "model_id": "50207439075546438c4359f58be81a5b",
       "version_major": 2,
       "version_minor": 0
      },
      "text/plain": [
       "0it [00:00, ?it/s]"
      ]
     },
     "metadata": {},
     "output_type": "display_data"
    }
   ],
   "source": [
    "pbar = tqdm()"
   ]
  },
  {
   "cell_type": "code",
   "execution_count": 7,
   "id": "6321b610-ffd9-4863-942f-86d5cfa15ba7",
   "metadata": {},
   "outputs": [],
   "source": [
    "%%capture\n",
    "lbt = rt.OperatorDayAnalysis(lbt_itp_id, analysis_date, pbar)"
   ]
  },
  {
   "cell_type": "code",
   "execution_count": 8,
   "id": "4d9129cc-99f8-48af-ac5e-e5bc33410533",
   "metadata": {},
   "outputs": [],
   "source": [
    "lbt.set_filter(start_time='15:00', end_time='19:00', direction_id='1')"
   ]
  },
  {
   "cell_type": "code",
   "execution_count": 9,
   "id": "be65b7f7-8523-4eec-a5c1-b443cac0af29",
   "metadata": {},
   "outputs": [],
   "source": [
    "%%capture\n",
    "m = lbt.segment_speed_map(colorscale=colorscale)"
   ]
  },
  {
   "cell_type": "code",
   "execution_count": 10,
   "id": "9542f33a-fb49-4179-a7b0-903b0e47f253",
   "metadata": {},
   "outputs": [],
   "source": [
    "# m"
   ]
  },
  {
   "cell_type": "code",
   "execution_count": 11,
   "id": "cdacb948-834e-45a5-854a-6e39f42c992d",
   "metadata": {},
   "outputs": [
    {
     "data": {
      "text/html": [
       "<div>\n",
       "<style scoped>\n",
       "    .dataframe tbody tr th:only-of-type {\n",
       "        vertical-align: middle;\n",
       "    }\n",
       "\n",
       "    .dataframe tbody tr th {\n",
       "        vertical-align: top;\n",
       "    }\n",
       "\n",
       "    .dataframe thead th {\n",
       "        text-align: right;\n",
       "    }\n",
       "</style>\n",
       "<table border=\"1\" class=\"dataframe\">\n",
       "  <thead>\n",
       "    <tr style=\"text-align: right;\">\n",
       "      <th></th>\n",
       "      <th>calitp_itp_id</th>\n",
       "      <th>calitp_url_number</th>\n",
       "      <th>shape_id</th>\n",
       "      <th>geometry</th>\n",
       "    </tr>\n",
       "  </thead>\n",
       "  <tbody>\n",
       "    <tr>\n",
       "      <th>0</th>\n",
       "      <td>170</td>\n",
       "      <td>0</td>\n",
       "      <td>10069</td>\n",
       "      <td>LINESTRING (161216.993 -459406.837, 161188.049...</td>\n",
       "    </tr>\n",
       "    <tr>\n",
       "      <th>1</th>\n",
       "      <td>170</td>\n",
       "      <td>0</td>\n",
       "      <td>10070</td>\n",
       "      <td>LINESTRING (165555.589 -461447.899, 165529.874...</td>\n",
       "    </tr>\n",
       "    <tr>\n",
       "      <th>2</th>\n",
       "      <td>170</td>\n",
       "      <td>0</td>\n",
       "      <td>1010081</td>\n",
       "      <td>LINESTRING (178338.638 -463053.608, 178362.517...</td>\n",
       "    </tr>\n",
       "    <tr>\n",
       "      <th>3</th>\n",
       "      <td>170</td>\n",
       "      <td>0</td>\n",
       "      <td>1010082</td>\n",
       "      <td>LINESTRING (165274.717 -466518.693, 165274.621...</td>\n",
       "    </tr>\n",
       "    <tr>\n",
       "      <th>4</th>\n",
       "      <td>170</td>\n",
       "      <td>0</td>\n",
       "      <td>1030063</td>\n",
       "      <td>LINESTRING (171925.408 -460990.847, 171924.612...</td>\n",
       "    </tr>\n",
       "    <tr>\n",
       "      <th>...</th>\n",
       "      <td>...</td>\n",
       "      <td>...</td>\n",
       "      <td>...</td>\n",
       "      <td>...</td>\n",
       "    </tr>\n",
       "    <tr>\n",
       "      <th>115</th>\n",
       "      <td>170</td>\n",
       "      <td>0</td>\n",
       "      <td>940134</td>\n",
       "      <td>LINESTRING (167488.905 -470302.205, 167525.719...</td>\n",
       "    </tr>\n",
       "    <tr>\n",
       "      <th>116</th>\n",
       "      <td>170</td>\n",
       "      <td>0</td>\n",
       "      <td>940136</td>\n",
       "      <td>LINESTRING (167488.905 -470302.205, 167525.719...</td>\n",
       "    </tr>\n",
       "    <tr>\n",
       "      <th>117</th>\n",
       "      <td>170</td>\n",
       "      <td>0</td>\n",
       "      <td>940137</td>\n",
       "      <td>LINESTRING (173618.815 -467099.690, 173618.999...</td>\n",
       "    </tr>\n",
       "    <tr>\n",
       "      <th>118</th>\n",
       "      <td>170</td>\n",
       "      <td>0</td>\n",
       "      <td>940138</td>\n",
       "      <td>LINESTRING (173635.077 -467088.166, 173634.516...</td>\n",
       "    </tr>\n",
       "    <tr>\n",
       "      <th>119</th>\n",
       "      <td>170</td>\n",
       "      <td>0</td>\n",
       "      <td>940143</td>\n",
       "      <td>LINESTRING (172127.604 -469398.850, 172115.009...</td>\n",
       "    </tr>\n",
       "  </tbody>\n",
       "</table>\n",
       "<p>120 rows × 4 columns</p>\n",
       "</div>"
      ],
      "text/plain": [
       "     calitp_itp_id  calitp_url_number shape_id  \\\n",
       "0              170                  0    10069   \n",
       "1              170                  0    10070   \n",
       "2              170                  0  1010081   \n",
       "3              170                  0  1010082   \n",
       "4              170                  0  1030063   \n",
       "..             ...                ...      ...   \n",
       "115            170                  0   940134   \n",
       "116            170                  0   940136   \n",
       "117            170                  0   940137   \n",
       "118            170                  0   940138   \n",
       "119            170                  0   940143   \n",
       "\n",
       "                                              geometry  \n",
       "0    LINESTRING (161216.993 -459406.837, 161188.049...  \n",
       "1    LINESTRING (165555.589 -461447.899, 165529.874...  \n",
       "2    LINESTRING (178338.638 -463053.608, 178362.517...  \n",
       "3    LINESTRING (165274.717 -466518.693, 165274.621...  \n",
       "4    LINESTRING (171925.408 -460990.847, 171924.612...  \n",
       "..                                                 ...  \n",
       "115  LINESTRING (167488.905 -470302.205, 167525.719...  \n",
       "116  LINESTRING (167488.905 -470302.205, 167525.719...  \n",
       "117  LINESTRING (173618.815 -467099.690, 173618.999...  \n",
       "118  LINESTRING (173635.077 -467088.166, 173634.516...  \n",
       "119  LINESTRING (172127.604 -469398.850, 172115.009...  \n",
       "\n",
       "[120 rows x 4 columns]"
      ]
     },
     "execution_count": 11,
     "metadata": {},
     "output_type": "execute_result"
    }
   ],
   "source": [
    "lbt.routelines"
   ]
  },
  {
   "cell_type": "code",
   "execution_count": 12,
   "id": "5a7230ff-e0a7-47a8-a415-2c204b62cb7a",
   "metadata": {},
   "outputs": [
    {
     "data": {
      "text/html": [
       "<div>\n",
       "<style scoped>\n",
       "    .dataframe tbody tr th:only-of-type {\n",
       "        vertical-align: middle;\n",
       "    }\n",
       "\n",
       "    .dataframe tbody tr th {\n",
       "        vertical-align: top;\n",
       "    }\n",
       "\n",
       "    .dataframe thead th {\n",
       "        text-align: right;\n",
       "    }\n",
       "</style>\n",
       "<table border=\"1\" class=\"dataframe\">\n",
       "  <thead>\n",
       "    <tr style=\"text-align: right;\">\n",
       "      <th></th>\n",
       "      <th>calitp_itp_id</th>\n",
       "      <th>service_date</th>\n",
       "      <th>trip_key</th>\n",
       "      <th>trip_id</th>\n",
       "      <th>route_id</th>\n",
       "      <th>direction_id</th>\n",
       "      <th>shape_id</th>\n",
       "      <th>entity_id</th>\n",
       "      <th>vehicle_id</th>\n",
       "      <th>vehicle_timestamp</th>\n",
       "      <th>vehicle_position_latitude</th>\n",
       "      <th>vehicle_position_longitude</th>\n",
       "      <th>header_timestamp</th>\n",
       "      <th>geometry</th>\n",
       "    </tr>\n",
       "  </thead>\n",
       "  <tbody>\n",
       "    <tr>\n",
       "      <th>0</th>\n",
       "      <td>170</td>\n",
       "      <td>2022-01-12</td>\n",
       "      <td>6460889386703071205</td>\n",
       "      <td>9289374</td>\n",
       "      <td>51</td>\n",
       "      <td>0</td>\n",
       "      <td>510067</td>\n",
       "      <td>1224</td>\n",
       "      <td>None</td>\n",
       "      <td>2022-01-12 08:14:18</td>\n",
       "      <td>33.876743</td>\n",
       "      <td>-118.22327</td>\n",
       "      <td>2022-01-12 08:14:55</td>\n",
       "      <td>POINT (164389.396 -458297.602)</td>\n",
       "    </tr>\n",
       "    <tr>\n",
       "      <th>1</th>\n",
       "      <td>170</td>\n",
       "      <td>2022-01-12</td>\n",
       "      <td>-9094923369855237176</td>\n",
       "      <td>9288369</td>\n",
       "      <td>51</td>\n",
       "      <td>1</td>\n",
       "      <td>510066</td>\n",
       "      <td>1224</td>\n",
       "      <td>None</td>\n",
       "      <td>2022-01-12 18:49:57</td>\n",
       "      <td>33.768055</td>\n",
       "      <td>-118.19030</td>\n",
       "      <td>2022-01-12 18:50:10</td>\n",
       "      <td>POINT (167669.594 -470291.215)</td>\n",
       "    </tr>\n",
       "  </tbody>\n",
       "</table>\n",
       "</div>"
      ],
      "text/plain": [
       "   calitp_itp_id service_date             trip_key  trip_id route_id  \\\n",
       "0            170   2022-01-12  6460889386703071205  9289374       51   \n",
       "1            170   2022-01-12 -9094923369855237176  9288369       51   \n",
       "\n",
       "  direction_id shape_id entity_id vehicle_id   vehicle_timestamp  \\\n",
       "0            0   510067      1224       None 2022-01-12 08:14:18   \n",
       "1            1   510066      1224       None 2022-01-12 18:49:57   \n",
       "\n",
       "   vehicle_position_latitude  vehicle_position_longitude    header_timestamp  \\\n",
       "0                  33.876743                  -118.22327 2022-01-12 08:14:55   \n",
       "1                  33.768055                  -118.19030 2022-01-12 18:50:10   \n",
       "\n",
       "                         geometry  \n",
       "0  POINT (164389.396 -458297.602)  \n",
       "1  POINT (167669.594 -470291.215)  "
      ]
     },
     "execution_count": 12,
     "metadata": {},
     "output_type": "execute_result"
    }
   ],
   "source": [
    "lbt.trips_positions_joined >> filter(_.route_id == '51') >> distinct(_.direction_id, _.shape_id, _keep_all=True)"
   ]
  },
  {
   "cell_type": "markdown",
   "id": "02bc40e9-399c-4e09-a4aa-c665718eae15",
   "metadata": {},
   "source": [
    "single shape_id for each route_id x direction_id... (by spec)"
   ]
  },
  {
   "cell_type": "markdown",
   "id": "32ae3cb0-5017-40c4-b85e-ae33205e685a",
   "metadata": {},
   "source": [
    "goal is to identify linked shape ids and shift by direction (to either side of centerline), plus shape segments to display progression"
   ]
  },
  {
   "cell_type": "markdown",
   "id": "11861871-85d0-4fbc-8432-1f7ddc962d64",
   "metadata": {},
   "source": [
    "### Shape Manipulation"
   ]
  },
  {
   "cell_type": "code",
   "execution_count": 158,
   "id": "d01793a1-bbad-4cbe-ac8c-83ca2a132b46",
   "metadata": {},
   "outputs": [
    {
     "data": {
      "text/plain": [
       "<module 'rt_analysis' from '/home/jovyan/data-analyses/rt_delay/rt_analysis.py'>"
      ]
     },
     "execution_count": 158,
     "metadata": {},
     "output_type": "execute_result"
    }
   ],
   "source": [
    "importlib.reload(rt)"
   ]
  },
  {
   "cell_type": "code",
   "execution_count": 159,
   "id": "8ffeeb5c-3acb-4ba1-b66b-1ab58f384372",
   "metadata": {},
   "outputs": [],
   "source": [
    "one_interpolator = lbt.position_interpolators['9288385']['rt']"
   ]
  },
  {
   "cell_type": "code",
   "execution_count": 160,
   "id": "90aa2341-2f0a-43f7-b399-d95b215ae360",
   "metadata": {
    "tags": []
   },
   "outputs": [
    {
     "name": "stderr",
     "output_type": "stream",
     "text": [
      "/home/jovyan/data-analyses/rt_delay/rt_analysis.py:98: UserWarning: Geometry is in a geographic CRS. Results from 'centroid' are likely incorrect. Use 'GeoSeries.to_crs()' to re-project geometries to a projected CRS before this operation.\n",
      "\n"
     ]
    },
    {
     "data": {
      "text/html": [
       "<iframe src=\"about:blank\" width=\"1000\" height=\"700\"style=\"border:none !important;\" data-html=%3C%21DOCTYPE%20html%3E%0A%3Chead%3E%20%20%20%20%0A%20%20%20%20%3Cmeta%20http-equiv%3D%22content-type%22%20content%3D%22text/html%3B%20charset%3DUTF-8%22%20/%3E%0A%20%20%20%20%0A%20%20%20%20%20%20%20%20%3Cscript%3E%0A%20%20%20%20%20%20%20%20%20%20%20%20L_NO_TOUCH%20%3D%20false%3B%0A%20%20%20%20%20%20%20%20%20%20%20%20L_DISABLE_3D%20%3D%20false%3B%0A%20%20%20%20%20%20%20%20%3C/script%3E%0A%20%20%20%20%0A%20%20%20%20%3Cstyle%3Ehtml%2C%20body%20%7Bwidth%3A%20100%25%3Bheight%3A%20100%25%3Bmargin%3A%200%3Bpadding%3A%200%3B%7D%3C/style%3E%0A%20%20%20%20%3Cstyle%3E%23map%20%7Bposition%3Aabsolute%3Btop%3A0%3Bbottom%3A0%3Bright%3A0%3Bleft%3A0%3B%7D%3C/style%3E%0A%20%20%20%20%3Cscript%20src%3D%22https%3A//cdn.jsdelivr.net/npm/leaflet%401.6.0/dist/leaflet.js%22%3E%3C/script%3E%0A%20%20%20%20%3Cscript%20src%3D%22https%3A//code.jquery.com/jquery-1.12.4.min.js%22%3E%3C/script%3E%0A%20%20%20%20%3Cscript%20src%3D%22https%3A//maxcdn.bootstrapcdn.com/bootstrap/3.2.0/js/bootstrap.min.js%22%3E%3C/script%3E%0A%20%20%20%20%3Cscript%20src%3D%22https%3A//cdnjs.cloudflare.com/ajax/libs/Leaflet.awesome-markers/2.0.2/leaflet.awesome-markers.js%22%3E%3C/script%3E%0A%20%20%20%20%3Clink%20rel%3D%22stylesheet%22%20href%3D%22https%3A//cdn.jsdelivr.net/npm/leaflet%401.6.0/dist/leaflet.css%22/%3E%0A%20%20%20%20%3Clink%20rel%3D%22stylesheet%22%20href%3D%22https%3A//maxcdn.bootstrapcdn.com/bootstrap/3.2.0/css/bootstrap.min.css%22/%3E%0A%20%20%20%20%3Clink%20rel%3D%22stylesheet%22%20href%3D%22https%3A//maxcdn.bootstrapcdn.com/bootstrap/3.2.0/css/bootstrap-theme.min.css%22/%3E%0A%20%20%20%20%3Clink%20rel%3D%22stylesheet%22%20href%3D%22https%3A//maxcdn.bootstrapcdn.com/font-awesome/4.6.3/css/font-awesome.min.css%22/%3E%0A%20%20%20%20%3Clink%20rel%3D%22stylesheet%22%20href%3D%22https%3A//cdnjs.cloudflare.com/ajax/libs/Leaflet.awesome-markers/2.0.2/leaflet.awesome-markers.css%22/%3E%0A%20%20%20%20%3Clink%20rel%3D%22stylesheet%22%20href%3D%22https%3A//cdn.jsdelivr.net/gh/python-visualization/folium/folium/templates/leaflet.awesome.rotate.min.css%22/%3E%0A%20%20%20%20%0A%20%20%20%20%20%20%20%20%20%20%20%20%3Cmeta%20name%3D%22viewport%22%20content%3D%22width%3Ddevice-width%2C%0A%20%20%20%20%20%20%20%20%20%20%20%20%20%20%20%20initial-scale%3D1.0%2C%20maximum-scale%3D1.0%2C%20user-scalable%3Dno%22%20/%3E%0A%20%20%20%20%20%20%20%20%20%20%20%20%3Cstyle%3E%0A%20%20%20%20%20%20%20%20%20%20%20%20%20%20%20%20%23map_af674419ade74f4c8df8950ccea290a2%20%7B%0A%20%20%20%20%20%20%20%20%20%20%20%20%20%20%20%20%20%20%20%20position%3A%20relative%3B%0A%20%20%20%20%20%20%20%20%20%20%20%20%20%20%20%20%20%20%20%20width%3A%201000.0px%3B%0A%20%20%20%20%20%20%20%20%20%20%20%20%20%20%20%20%20%20%20%20height%3A%20700.0px%3B%0A%20%20%20%20%20%20%20%20%20%20%20%20%20%20%20%20%20%20%20%20left%3A%200.0%25%3B%0A%20%20%20%20%20%20%20%20%20%20%20%20%20%20%20%20%20%20%20%20top%3A%200.0%25%3B%0A%20%20%20%20%20%20%20%20%20%20%20%20%20%20%20%20%7D%0A%20%20%20%20%20%20%20%20%20%20%20%20%3C/style%3E%0A%20%20%20%20%20%20%20%20%0A%20%20%20%20%0A%20%20%20%20%20%20%20%20%20%20%20%20%20%20%20%20%20%20%20%20%3Cstyle%3E%0A%20%20%20%20%20%20%20%20%20%20%20%20%20%20%20%20%20%20%20%20%20%20%20%20.foliumtooltip%20%7B%0A%20%20%20%20%20%20%20%20%20%20%20%20%20%20%20%20%20%20%20%20%20%20%20%20%20%20%20%20%0A%20%20%20%20%20%20%20%20%20%20%20%20background-color%3A%20%22gray%22%3B%0A%20%20%20%20%20%20%20%20%20%20%20%20border%3A%200px%20%23FFFFFF%3B%0A%20%20%20%20%20%20%20%20%20%20%20%20border-radius%3A%200px%3B%0A%20%20%20%20%20%20%20%20%20%20%20%20box-shadow%3A%200px%3B%0A%20%20%20%20%20%20%20%20%20%20%20%20font-size%3A%2012px%3B%0A%20%20%20%20%20%20%20%20%0A%20%20%20%20%20%20%20%20%20%20%20%20%20%20%20%20%20%20%20%20%20%20%20%20%7D%0A%20%20%20%20%20%20%20%20%20%20%20%20%20%20%20%20%20%20%20%20%20%20%20.foliumtooltip%20table%7B%0A%20%20%20%20%20%20%20%20%20%20%20%20%20%20%20%20%20%20%20%20%20%20%20%20%20%20%20%20margin%3A%20auto%3B%0A%20%20%20%20%20%20%20%20%20%20%20%20%20%20%20%20%20%20%20%20%20%20%20%20%7D%0A%20%20%20%20%20%20%20%20%20%20%20%20%20%20%20%20%20%20%20%20%20%20%20%20.foliumtooltip%20tr%7B%0A%20%20%20%20%20%20%20%20%20%20%20%20%20%20%20%20%20%20%20%20%20%20%20%20%20%20%20%20text-align%3A%20left%3B%0A%20%20%20%20%20%20%20%20%20%20%20%20%20%20%20%20%20%20%20%20%20%20%20%20%7D%0A%20%20%20%20%20%20%20%20%20%20%20%20%20%20%20%20%20%20%20%20%20%20%20%20.foliumtooltip%20th%7B%0A%20%20%20%20%20%20%20%20%20%20%20%20%20%20%20%20%20%20%20%20%20%20%20%20%20%20%20%20padding%3A%202px%3B%20padding-right%3A%208px%3B%0A%20%20%20%20%20%20%20%20%20%20%20%20%20%20%20%20%20%20%20%20%20%20%20%20%7D%0A%20%20%20%20%20%20%20%20%20%20%20%20%20%20%20%20%20%20%20%20%3C/style%3E%0A%20%20%20%20%20%20%20%20%20%20%20%20%0A%20%20%20%20%0A%20%20%20%20%20%20%20%20%20%20%20%20%20%20%20%20%20%20%20%20%3Cstyle%3E%0A%20%20%20%20%20%20%20%20%20%20%20%20%20%20%20%20%20%20%20%20%20%20%20%20.foliumpopup%20%7B%0A%20%20%20%20%20%20%20%20%20%20%20%20%20%20%20%20%20%20%20%20%20%20%20%20%20%20%20%20background-color%3A%20light_gray%3B%0A%20%20%20%20%20%20%20%20%20%20%20%20%20%20%20%20%20%20%20%20%20%20%20%20%7D%0A%20%20%20%20%20%20%20%20%20%20%20%20%20%20%20%20%20%20%20%20%20%20%20.foliumpopup%20table%7B%0A%20%20%20%20%20%20%20%20%20%20%20%20%20%20%20%20%20%20%20%20%20%20%20%20%20%20%20%20margin%3A%20auto%3B%0A%20%20%20%20%20%20%20%20%20%20%20%20%20%20%20%20%20%20%20%20%20%20%20%20%7D%0A%20%20%20%20%20%20%20%20%20%20%20%20%20%20%20%20%20%20%20%20%20%20%20%20.foliumpopup%20tr%7B%0A%20%20%20%20%20%20%20%20%20%20%20%20%20%20%20%20%20%20%20%20%20%20%20%20%20%20%20%20text-align%3A%20left%3B%0A%20%20%20%20%20%20%20%20%20%20%20%20%20%20%20%20%20%20%20%20%20%20%20%20%7D%0A%20%20%20%20%20%20%20%20%20%20%20%20%20%20%20%20%20%20%20%20%20%20%20%20.foliumpopup%20th%7B%0A%20%20%20%20%20%20%20%20%20%20%20%20%20%20%20%20%20%20%20%20%20%20%20%20%20%20%20%20padding%3A%202px%3B%20padding-right%3A%208px%3B%0A%20%20%20%20%20%20%20%20%20%20%20%20%20%20%20%20%20%20%20%20%20%20%20%20%7D%0A%20%20%20%20%20%20%20%20%20%20%20%20%20%20%20%20%20%20%20%20%3C/style%3E%0A%20%20%20%20%20%20%20%20%20%20%20%20%0A%20%20%20%20%3Cscript%20src%3D%22https%3A//cdnjs.cloudflare.com/ajax/libs/d3/3.5.5/d3.min.js%22%3E%3C/script%3E%0A%3C/head%3E%0A%3Cbody%3E%20%20%20%20%0A%20%20%20%20%0A%20%20%20%20%20%20%20%20%20%20%20%20%20%3Ch3%20align%3D%22center%22%20style%3D%22font-size%3A20px%22%3E%3Cb%3ETrip%20Speed%20Map%20%28Route%2061%2C%20Northbound%2C%20Evening%29%3C/b%3E%3C/h3%3E%0A%20%20%20%20%20%20%20%20%20%20%20%20%20%0A%20%20%20%20%0A%20%20%20%20%20%20%20%20%20%20%20%20%3Cdiv%20class%3D%22folium-map%22%20id%3D%22map_af674419ade74f4c8df8950ccea290a2%22%20%3E%3C/div%3E%0A%20%20%20%20%20%20%20%20%0A%3C/body%3E%0A%3Cscript%3E%20%20%20%20%0A%20%20%20%20%0A%20%20%20%20%20%20%20%20%20%20%20%20var%20map_af674419ade74f4c8df8950ccea290a2%20%3D%20L.map%28%0A%20%20%20%20%20%20%20%20%20%20%20%20%20%20%20%20%22map_af674419ade74f4c8df8950ccea290a2%22%2C%0A%20%20%20%20%20%20%20%20%20%20%20%20%20%20%20%20%7B%0A%20%20%20%20%20%20%20%20%20%20%20%20%20%20%20%20%20%20%20%20center%3A%20%5B33.835910754641944%2C%20-118.19252505784344%5D%2C%0A%20%20%20%20%20%20%20%20%20%20%20%20%20%20%20%20%20%20%20%20crs%3A%20L.CRS.EPSG3857%2C%0A%20%20%20%20%20%20%20%20%20%20%20%20%20%20%20%20%20%20%20%20zoom%3A%2013%2C%0A%20%20%20%20%20%20%20%20%20%20%20%20%20%20%20%20%20%20%20%20zoomControl%3A%20true%2C%0A%20%20%20%20%20%20%20%20%20%20%20%20%20%20%20%20%20%20%20%20preferCanvas%3A%20false%2C%0A%20%20%20%20%20%20%20%20%20%20%20%20%20%20%20%20%7D%0A%20%20%20%20%20%20%20%20%20%20%20%20%29%3B%0A%0A%20%20%20%20%20%20%20%20%20%20%20%20%0A%0A%20%20%20%20%20%20%20%20%0A%20%20%20%20%0A%20%20%20%20%20%20%20%20%20%20%20%20var%20tile_layer_42f86bf48bdb451a9f2b135fecf2916f%20%3D%20L.tileLayer%28%0A%20%20%20%20%20%20%20%20%20%20%20%20%20%20%20%20%22https%3A//cartodb-basemaps-%7Bs%7D.global.ssl.fastly.net/light_all/%7Bz%7D/%7Bx%7D/%7By%7D.png%22%2C%0A%20%20%20%20%20%20%20%20%20%20%20%20%20%20%20%20%7B%22attribution%22%3A%20%22%5Cu0026copy%3B%20%5Cu003ca%20href%3D%5C%22http%3A//www.openstreetmap.org/copyright%5C%22%5Cu003eOpenStreetMap%5Cu003c/a%5Cu003e%20contributors%20%5Cu0026copy%3B%20%5Cu003ca%20href%3D%5C%22http%3A//cartodb.com/attributions%5C%22%5Cu003eCartoDB%5Cu003c/a%5Cu003e%2C%20CartoDB%20%5Cu003ca%20href%20%3D%5C%22http%3A//cartodb.com/attributions%5C%22%5Cu003eattributions%5Cu003c/a%5Cu003e%22%2C%20%22detectRetina%22%3A%20false%2C%20%22maxNativeZoom%22%3A%2018%2C%20%22maxZoom%22%3A%2018%2C%20%22minZoom%22%3A%200%2C%20%22noWrap%22%3A%20false%2C%20%22opacity%22%3A%201%2C%20%22subdomains%22%3A%20%22abc%22%2C%20%22tms%22%3A%20false%7D%0A%20%20%20%20%20%20%20%20%20%20%20%20%29.addTo%28map_af674419ade74f4c8df8950ccea290a2%29%3B%0A%20%20%20%20%20%20%20%20%0A%20%20%20%20%0A%20%20%20%20%20%20%20%20function%20geo_json_c5a7e29fcd6f4c72bac57cfce22c90ec_styler%28feature%29%20%7B%0A%20%20%20%20%20%20%20%20%20%20%20%20switch%28feature.id%29%20%7B%0A%20%20%20%20%20%20%20%20%20%20%20%20%20%20%20%20case%20%2212474%22%3A%20case%20%2212475%22%3A%20case%20%2212476%22%3A%20case%20%2212488%22%3A%20case%20%2212503%22%3A%20case%20%2212514%22%3A%20%0A%20%20%20%20%20%20%20%20%20%20%20%20%20%20%20%20%20%20%20%20return%20%7B%22color%22%3A%20%22%23FFFFFF%22%2C%20%22fillColor%22%3A%20%22%23fdae61ff%22%2C%20%22fillOpacity%22%3A%200.8%2C%20%22weight%22%3A%200.2%7D%3B%0A%20%20%20%20%20%20%20%20%20%20%20%20%20%20%20%20case%20%2212477%22%3A%20case%20%2212489%22%3A%20case%20%2212492%22%3A%20case%20%2212496%22%3A%20case%20%2212500%22%3A%20case%20%2212505%22%3A%20case%20%2212507%22%3A%20case%20%2212518%22%3A%20case%20%2212523%22%3A%20case%20%2212524%22%3A%20%0A%20%20%20%20%20%20%20%20%20%20%20%20%20%20%20%20%20%20%20%20return%20%7B%22color%22%3A%20%22%23FFFFFF%22%2C%20%22fillColor%22%3A%20%22%23d9ef8bff%22%2C%20%22fillOpacity%22%3A%200.8%2C%20%22weight%22%3A%200.2%7D%3B%0A%20%20%20%20%20%20%20%20%20%20%20%20%20%20%20%20case%20%2212478%22%3A%20case%20%2212480%22%3A%20case%20%2212484%22%3A%20case%20%2212491%22%3A%20case%20%2212495%22%3A%20case%20%2212508%22%3A%20case%20%2212526%22%3A%20%0A%20%20%20%20%20%20%20%20%20%20%20%20%20%20%20%20%20%20%20%20return%20%7B%22color%22%3A%20%22%23FFFFFF%22%2C%20%22fillColor%22%3A%20%22%23f46d43ff%22%2C%20%22fillOpacity%22%3A%200.8%2C%20%22weight%22%3A%200.2%7D%3B%0A%20%20%20%20%20%20%20%20%20%20%20%20%20%20%20%20case%20%2212479%22%3A%20case%20%2212481%22%3A%20case%20%2212482%22%3A%20case%20%2212487%22%3A%20case%20%2212499%22%3A%20case%20%2212506%22%3A%20case%20%2212509%22%3A%20case%20%2212512%22%3A%20case%20%2212521%22%3A%20%0A%20%20%20%20%20%20%20%20%20%20%20%20%20%20%20%20%20%20%20%20return%20%7B%22color%22%3A%20%22%23FFFFFF%22%2C%20%22fillColor%22%3A%20%22%23d73027ff%22%2C%20%22fillOpacity%22%3A%200.8%2C%20%22weight%22%3A%200.2%7D%3B%0A%20%20%20%20%20%20%20%20%20%20%20%20%20%20%20%20case%20%2212483%22%3A%20case%20%2212494%22%3A%20case%20%2212497%22%3A%20case%20%2212501%22%3A%20case%20%2212510%22%3A%20case%20%2212511%22%3A%20case%20%2212516%22%3A%20case%20%2212519%22%3A%20case%20%2212525%22%3A%20%0A%20%20%20%20%20%20%20%20%20%20%20%20%20%20%20%20%20%20%20%20return%20%7B%22color%22%3A%20%22%23FFFFFF%22%2C%20%22fillColor%22%3A%20%22%23a6d96aff%22%2C%20%22fillOpacity%22%3A%200.8%2C%20%22weight%22%3A%200.2%7D%3B%0A%20%20%20%20%20%20%20%20%20%20%20%20%20%20%20%20case%20%2212513%22%3A%20case%20%2212517%22%3A%20%0A%20%20%20%20%20%20%20%20%20%20%20%20%20%20%20%20%20%20%20%20return%20%7B%22color%22%3A%20%22%23FFFFFF%22%2C%20%22fillColor%22%3A%20%22%2366bd63ff%22%2C%20%22fillOpacity%22%3A%200.8%2C%20%22weight%22%3A%200.2%7D%3B%0A%20%20%20%20%20%20%20%20%20%20%20%20%20%20%20%20case%20%2212515%22%3A%20%0A%20%20%20%20%20%20%20%20%20%20%20%20%20%20%20%20%20%20%20%20return%20%7B%22color%22%3A%20%22%23FFFFFF%22%2C%20%22fillColor%22%3A%20%22%231a9850ff%22%2C%20%22fillOpacity%22%3A%200.8%2C%20%22weight%22%3A%200.2%7D%3B%0A%20%20%20%20%20%20%20%20%20%20%20%20%20%20%20%20default%3A%0A%20%20%20%20%20%20%20%20%20%20%20%20%20%20%20%20%20%20%20%20return%20%7B%22color%22%3A%20%22%23FFFFFF%22%2C%20%22fillColor%22%3A%20%22%23fee08bff%22%2C%20%22fillOpacity%22%3A%200.8%2C%20%22weight%22%3A%200.2%7D%3B%0A%20%20%20%20%20%20%20%20%20%20%20%20%7D%0A%20%20%20%20%20%20%20%20%7D%0A%20%20%20%20%20%20%20%20function%20geo_json_c5a7e29fcd6f4c72bac57cfce22c90ec_highlighter%28feature%29%20%7B%0A%20%20%20%20%20%20%20%20%20%20%20%20switch%28feature.id%29%20%7B%0A%20%20%20%20%20%20%20%20%20%20%20%20%20%20%20%20default%3A%0A%20%20%20%20%20%20%20%20%20%20%20%20%20%20%20%20%20%20%20%20return%20%7B%22fillColor%22%3A%20%22%23DD1C77%22%2C%20%22fillOpacity%22%3A%200.6%7D%3B%0A%20%20%20%20%20%20%20%20%20%20%20%20%7D%0A%20%20%20%20%20%20%20%20%7D%0A%0A%20%20%20%20%20%20%20%20function%20geo_json_c5a7e29fcd6f4c72bac57cfce22c90ec_onEachFeature%28feature%2C%20layer%29%20%7B%0A%20%20%20%20%20%20%20%20%20%20%20%20layer.on%28%7B%0A%20%20%20%20%20%20%20%20%20%20%20%20%20%20%20%20mouseout%3A%20function%28e%29%20%7B%0A%20%20%20%20%20%20%20%20%20%20%20%20%20%20%20%20%20%20%20%20if%28typeof%20e.target.setStyle%20%3D%3D%3D%20%22function%22%29%7B%0A%20%20%20%20%20%20%20%20%20%20%20%20%20%20%20%20%20%20%20%20%20%20%20%20geo_json_c5a7e29fcd6f4c72bac57cfce22c90ec.resetStyle%28e.target%29%3B%0A%20%20%20%20%20%20%20%20%20%20%20%20%20%20%20%20%20%20%20%20%7D%0A%20%20%20%20%20%20%20%20%20%20%20%20%20%20%20%20%7D%2C%0A%20%20%20%20%20%20%20%20%20%20%20%20%20%20%20%20mouseover%3A%20function%28e%29%20%7B%0A%20%20%20%20%20%20%20%20%20%20%20%20%20%20%20%20%20%20%20%20if%28typeof%20e.target.setStyle%20%3D%3D%3D%20%22function%22%29%7B%0A%20%20%20%20%20%20%20%20%20%20%20%20%20%20%20%20%20%20%20%20%20%20%20%20const%20highlightStyle%20%3D%20geo_json_c5a7e29fcd6f4c72bac57cfce22c90ec_highlighter%28e.target.feature%29%0A%20%20%20%20%20%20%20%20%20%20%20%20%20%20%20%20%20%20%20%20%20%20%20%20e.target.setStyle%28highlightStyle%29%3B%0A%20%20%20%20%20%20%20%20%20%20%20%20%20%20%20%20%20%20%20%20%7D%0A%20%20%20%20%20%20%20%20%20%20%20%20%20%20%20%20%7D%2C%0A%20%20%20%20%20%20%20%20%20%20%20%20%7D%29%3B%0A%20%20%20%20%20%20%20%20%7D%3B%0A%20%20%20%20%20%20%20%20var%20geo_json_c5a7e29fcd6f4c72bac57cfce22c90ec%20%3D%20L.geoJson%28null%2C%20%7B%0A%20%20%20%20%20%20%20%20%20%20%20%20%20%20%20%20onEachFeature%3A%20geo_json_c5a7e29fcd6f4c72bac57cfce22c90ec_onEachFeature%2C%0A%20%20%20%20%20%20%20%20%20%20%20%20%0A%20%20%20%20%20%20%20%20%20%20%20%20%20%20%20%20style%3A%20geo_json_c5a7e29fcd6f4c72bac57cfce22c90ec_styler%2C%0A%20%20%20%20%20%20%20%20%7D%29%3B%0A%0A%20%20%20%20%20%20%20%20function%20geo_json_c5a7e29fcd6f4c72bac57cfce22c90ec_add%20%28data%29%20%7B%0A%20%20%20%20%20%20%20%20%20%20%20%20geo_json_c5a7e29fcd6f4c72bac57cfce22c90ec%0A%20%20%20%20%20%20%20%20%20%20%20%20%20%20%20%20.addData%28data%29%0A%20%20%20%20%20%20%20%20%20%20%20%20%20%20%20%20.addTo%28map_af674419ade74f4c8df8950ccea290a2%29%3B%0A%20%20%20%20%20%20%20%20%7D%0A%20%20%20%20%20%20%20%20%20%20%20%20geo_json_c5a7e29fcd6f4c72bac57cfce22c90ec_add%28%7B%22bbox%22%3A%20%5B-118.22476453531245%2C%2033.765903947028406%2C%20-118.18435328259616%2C%2033.88166572361518%5D%2C%20%22features%22%3A%20%5B%7B%22bbox%22%3A%20%5B-118.18957696009127%2C%2033.76591806081325%2C%20-118.18507700601346%2C%2033.7667425065928%5D%2C%20%22geometry%22%3A%20%7B%22coordinates%22%3A%20%5B%5B%5B-118.18542953822411%2C%2033.76591806081325%5D%2C%20%5B-118.18940974168342%2C%2033.76638664008609%5D%2C%20%5B-118.18957696009127%2C%2033.76660002523224%5D%2C%20%5B-118.18934250367363%2C%2033.7667425065928%5D%2C%20%5B-118.18507700601346%2C%2033.7662049524334%5D%2C%20%5B-118.1850832886142%2C%2033.76594994691825%5D%2C%20%5B-118.18542953822411%2C%2033.76591806081325%5D%5D%5D%2C%20%22type%22%3A%20%22Polygon%22%7D%2C%20%22id%22%3A%20%2212472%22%2C%20%22properties%22%3A%20%7B%22direction_id%22%3A%20%221%22%2C%20%22last_loc%22%3A%20252.0%2C%20%22shape_id%22%3A%20%22610105%22%2C%20%22shape_meters%22%3A%20639.0%2C%20%22speed_mph%22%3A%2014.4%2C%20%22time%22%3A%20%2222%3A07%3A27%22%2C%20%22trip_id%22%3A%20%229288385%22%7D%2C%20%22type%22%3A%20%22Feature%22%7D%2C%20%7B%22bbox%22%3A%20%5B-118.18540970567378%2C%2033.765903947028406%2C%20-118.1845533170577%2C%2033.769314297516985%5D%2C%20%22geometry%22%3A%20%7B%22coordinates%22%3A%20%5B%5B%5B-118.1845533170577%2C%2033.769049793452915%5D%2C%20%5B-118.18456612006338%2C%2033.76620355853353%5D%2C%20%5B-118.18481415468017%2C%2033.76592932434141%5D%2C%20%5B-118.1852791988493%2C%2033.765903947028406%5D%2C%20%5B-118.18540970567378%2C%2033.766183338643515%5D%2C%20%5B-118.18498688155775%2C%2033.76629072032325%5D%2C%20%5B-118.18495876613898%2C%2033.76924108455857%5D%2C%20%5B-118.1846663470619%2C%2033.769314297516985%5D%2C%20%5B-118.1845533170577%2C%2033.769049793452915%5D%5D%5D%2C%20%22type%22%3A%20%22Polygon%22%7D%2C%20%22id%22%3A%20%2212473%22%2C%20%22properties%22%3A%20%7B%22direction_id%22%3A%20%221%22%2C%20%22last_loc%22%3A%20639.0%2C%20%22shape_id%22%3A%20%22610105%22%2C%20%22shape_meters%22%3A%20972.0%2C%20%22speed_mph%22%3A%2012.4%2C%20%22time%22%3A%20%2222%3A08%3A27%22%2C%20%22trip_id%22%3A%20%229288385%22%7D%2C%20%22type%22%3A%20%22Feature%22%7D%2C%20%7B%22bbox%22%3A%20%5B-118.18498363034183%2C%2033.76897610420056%2C%20-118.18455231226888%2C%2033.77173188288969%5D%2C%20%22geometry%22%3A%20%7B%22coordinates%22%3A%20%5B%5B%5B-118.18455231226888%2C%2033.77146899896057%5D%2C%20%5B-118.18455400188138%2C%2033.76913724306466%5D%2C%20%5B-118.18479062905823%2C%2033.76897610420056%5D%2C%20%5B-118.18498363034183%2C%2033.76913845837534%5D%2C%20%5B-118.18494765527943%2C%2033.771682124202414%5D%2C%20%5B-118.18464824612435%2C%2033.77173188288969%5D%2C%20%5B-118.18455231226888%2C%2033.77146899896057%5D%5D%5D%2C%20%22type%22%3A%20%22Polygon%22%7D%2C%20%22id%22%3A%20%2212474%22%2C%20%22properties%22%3A%20%7B%22direction_id%22%3A%20%221%22%2C%20%22last_loc%22%3A%20972.0%2C%20%22shape_id%22%3A%20%22610105%22%2C%20%22shape_meters%22%3A%201241.0%2C%20%22speed_mph%22%3A%2010.0%2C%20%22time%22%3A%20%2222%3A09%3A27%22%2C%20%22trip_id%22%3A%20%229288385%22%7D%2C%20%22type%22%3A%20%22Feature%22%7D%2C%20%7B%22bbox%22%3A%20%5B-118.18498403461962%2C%2033.77140244037871%2C%20-118.1845463935227%2C%2033.77414598766621%5D%2C%20%22geometry%22%3A%20%7B%22coordinates%22%3A%20%5B%5B%5B-118.1845463935227%2C%2033.77388506951382%5D%2C%20%5B-118.18455335111686%2C%2033.7715642466539%5D%2C%20%5B-118.18478933179054%2C%2033.77140244037871%5D%2C%20%5B-118.18498403461962%2C%2033.77158192537829%5D%2C%20%5B-118.18494673617423%2C%2033.77409126375458%5D%2C%20%5B-118.18464856162296%2C%2033.77414598766621%5D%2C%20%5B-118.1845463935227%2C%2033.77388506951382%5D%5D%5D%2C%20%22type%22%3A%20%22Polygon%22%7D%2C%20%22id%22%3A%20%2212475%22%2C%20%22properties%22%3A%20%7B%22direction_id%22%3A%20%221%22%2C%20%22last_loc%22%3A%201241.0%2C%20%22shape_id%22%3A%20%22610105%22%2C%20%22shape_meters%22%3A%201508.0%2C%20%22speed_mph%22%3A%209.9%2C%20%22time%22%3A%20%2222%3A10%3A27%22%2C%20%22trip_id%22%3A%20%229288385%22%7D%2C%20%22type%22%3A%20%22Feature%22%7D%2C%20%7B%22bbox%22%3A%20%5B-118.1849807242149%2C%2033.77381426686016%2C%20-118.18454969194819%2C%2033.776332270013874%5D%2C%20%22geometry%22%3A%20%7B%22coordinates%22%3A%20%5B%5B%5B-118.1845622266178%2C%2033.776078464928055%5D%2C%20%5B-118.18454969194819%2C%2033.77397996190737%5D%2C%20%5B-118.18478178138974%2C%2033.77381426686016%5D%2C%20%5B-118.1849807242149%2C%2033.7739904805247%5D%2C%20%5B-118.18497384593903%2C%2033.77623930381835%5D%2C%20%5B-118.18468955571343%2C%2033.776332270013874%5D%2C%20%5B-118.1845622266178%2C%2033.776078464928055%5D%5D%5D%2C%20%22type%22%3A%20%22Polygon%22%7D%2C%20%22id%22%3A%20%2212476%22%2C%20%22properties%22%3A%20%7B%22direction_id%22%3A%20%221%22%2C%20%22last_loc%22%3A%201508.0%2C%20%22shape_id%22%3A%20%22610105%22%2C%20%22shape_meters%22%3A%201750.0%2C%20%22speed_mph%22%3A%208.8%2C%20%22time%22%3A%20%2222%3A11%3A29%22%2C%20%22trip_id%22%3A%20%229288385%22%7D%2C%20%22type%22%3A%20%22Feature%22%7D%2C%20%7B%22bbox%22%3A%20%5B-118.18499189509824%2C%2033.77598671433456%2C%20-118.18455926858284%2C%2033.78000827396008%5D%2C%20%22geometry%22%3A%20%7B%22coordinates%22%3A%20%5B%5B%5B-118.18455926858284%2C%2033.77964208722857%5D%2C%20%5B-118.18456023009185%2C%2033.77616349485584%5D%2C%20%5B-118.18478029599392%2C%2033.77598671433456%5D%2C%20%5B-118.18499189509824%2C%2033.776170568484325%5D%2C%20%5B-118.18491436692537%2C%2033.78000827396008%5D%2C%20%5B-118.18461038044474%2C%2033.77998457997153%5D%2C%20%5B-118.18455926858284%2C%2033.77964208722857%5D%5D%5D%2C%20%22type%22%3A%20%22Polygon%22%7D%2C%20%22id%22%3A%20%2212477%22%2C%20%22properties%22%3A%20%7B%22direction_id%22%3A%20%221%22%2C%20%22last_loc%22%3A%201750.0%2C%20%22shape_id%22%3A%20%22610105%22%2C%20%22shape_meters%22%3A%202160.0%2C%20%22speed_mph%22%3A%2015.5%2C%20%22time%22%3A%20%2222%3A12%3A28%22%2C%20%22trip_id%22%3A%20%229288385%22%7D%2C%20%22type%22%3A%20%22Feature%22%7D%2C%20%7B%22bbox%22%3A%20%5B-118.18499241783906%2C%2033.77969238614624%2C%20-118.18456335245325%2C%2033.781272026262165%5D%2C%20%22geometry%22%3A%20%7B%22coordinates%22%3A%20%5B%5B%5B-118.18456335245325%2C%2033.781087773062595%5D%2C%20%5B-118.18456460504896%2C%2033.77983517610621%5D%2C%20%5B-118.18481758191517%2C%2033.77969238614624%5D%2C%20%5B-118.18499241783906%2C%2033.78111893266385%5D%2C%20%5B-118.1847677083157%2C%2033.781272026262165%5D%2C%20%5B-118.18456335245325%2C%2033.781087773062595%5D%5D%5D%2C%20%22type%22%3A%20%22Polygon%22%7D%2C%20%22id%22%3A%20%2212478%22%2C%20%22properties%22%3A%20%7B%22direction_id%22%3A%20%221%22%2C%20%22last_loc%22%3A%202160.0%2C%20%22shape_id%22%3A%20%22610105%22%2C%20%22shape_meters%22%3A%202297.0%2C%20%22speed_mph%22%3A%205.0%2C%20%22time%22%3A%20%2222%3A13%3A29%22%2C%20%22trip_id%22%3A%20%229288385%22%7D%2C%20%22type%22%3A%20%22Feature%22%7D%2C%20%7B%22bbox%22%3A%20%5B-118.1849546424579%2C%2033.7809473925777%2C%20-118.18456025916197%2C%2033.78157523565533%5D%2C%20%22geometry%22%3A%20%7B%22coordinates%22%3A%20%5B%5B%5B-118.18456025916197%2C%2033.781357739048104%5D%2C%20%5B-118.18460596033815%2C%2033.78098403957291%5D%2C%20%5B-118.18490810283971%2C%2033.7809473925777%5D%2C%20%5B-118.1849546424579%2C%2033.781510031724935%5D%2C%20%5B-118.1846920816293%2C%2033.78157523565533%5D%2C%20%5B-118.18456025916197%2C%2033.781357739048104%5D%5D%5D%2C%20%22type%22%3A%20%22Polygon%22%7D%2C%20%22id%22%3A%20%2212479%22%2C%20%22properties%22%3A%20%7B%22direction_id%22%3A%20%221%22%2C%20%22last_loc%22%3A%202297.0%2C%20%22shape_id%22%3A%20%22610105%22%2C%20%22shape_meters%22%3A%202331.0%2C%20%22speed_mph%22%3A%201.3%2C%20%22time%22%3A%20%2222%3A14%3A28%22%2C%20%22trip_id%22%3A%20%229288385%22%7D%2C%20%22type%22%3A%20%22Feature%22%7D%2C%20%7B%22bbox%22%3A%20%5B-118.18499077203636%2C%2033.78122961876748%2C%20-118.1845542010157%2C%2033.78302026962113%5D%2C%20%22geometry%22%3A%20%7B%22coordinates%22%3A%20%5B%5B%5B-118.1845542010157%2C%2033.78282706830264%5D%2C%20%5B-118.18456108131596%2C%2033.7813903226555%5D%2C%20%5B-118.18479816628138%2C%2033.78122961876748%5D%2C%20%5B-118.18499077203636%2C%2033.78139232281601%5D%2C%20%5B-118.18498445659999%2C%2033.7828610253379%5D%2C%20%5B-118.18474595995106%2C%2033.78302026962113%5D%2C%20%5B-118.1845542010157%2C%2033.78282706830264%5D%5D%5D%2C%20%22type%22%3A%20%22Polygon%22%7D%2C%20%22id%22%3A%20%2212480%22%2C%20%22properties%22%3A%20%7B%22direction_id%22%3A%20%221%22%2C%20%22last_loc%22%3A%202331.0%2C%20%22shape_id%22%3A%20%22610105%22%2C%20%22shape_meters%22%3A%202490.0%2C%20%22speed_mph%22%3A%207.1%2C%20%22time%22%3A%20%2222%3A15%3A18%22%2C%20%22trip_id%22%3A%20%229288385%22%7D%2C%20%22type%22%3A%20%22Feature%22%7D%2C%20%7B%22bbox%22%3A%20%5B-118.18496715420822%2C%2033.78267531379543%2C%20-118.18455402106801%2C%2033.78307888169488%5D%2C%20%22geometry%22%3A%20%7B%22coordinates%22%3A%20%5B%5B%5B-118.18455402106801%2C%2033.78283870033317%5D%2C%20%5B-118.1848550835298%2C%2033.78267531379543%5D%2C%20%5B-118.18496715420822%2C%2033.78298432901535%5D%2C%20%5B-118.18468359081095%2C%2033.78307888169488%5D%2C%20%5B-118.18455402106801%2C%2033.78283870033317%5D%5D%5D%2C%20%22type%22%3A%20%22Polygon%22%7D%2C%20%22id%22%3A%20%2212481%22%2C%20%22properties%22%3A%20%7B%22direction_id%22%3A%20%221%22%2C%20%22last_loc%22%3A%202490.0%2C%20%22shape_id%22%3A%20%22610105%22%2C%20%22shape_meters%22%3A%202498.0%2C%20%22speed_mph%22%3A%200.3%2C%20%22time%22%3A%20%2222%3A16%3A18%22%2C%20%22trip_id%22%3A%20%229288385%22%7D%2C%20%22type%22%3A%20%22Feature%22%7D%2C%20%7B%22bbox%22%3A%20%5B-118.18495926072956%2C%2033.78274127077386%2C%20-118.18454825033227%2C%2033.78377908188595%5D%2C%20%22geometry%22%3A%20%7B%22coordinates%22%3A%20%5B%5B%5B-118.18454825033227%2C%2033.78352782484147%5D%2C%20%5B-118.18456301045632%2C%2033.78285858627834%5D%2C%20%5B-118.1848341136153%2C%2033.78274127077386%5D%2C%20%5B-118.18495926072956%2C%2033.78368701421309%5D%2C%20%5B-118.18467452547549%2C%2033.78377908188595%5D%2C%20%5B-118.18454825033227%2C%2033.78352782484147%5D%5D%5D%2C%20%22type%22%3A%20%22Polygon%22%7D%2C%20%22id%22%3A%20%2212482%22%2C%20%22properties%22%3A%20%7B%22direction_id%22%3A%20%221%22%2C%20%22last_loc%22%3A%202498.0%2C%20%22shape_id%22%3A%20%22610105%22%2C%20%22shape_meters%22%3A%202576.0%2C%20%22speed_mph%22%3A%202.5%2C%20%22time%22%3A%20%2222%3A17%3A28%22%2C%20%22trip_id%22%3A%20%229288385%22%7D%2C%20%22type%22%3A%20%22Feature%22%7D%2C%20%7B%22bbox%22%3A%20%5B-118.18497762222687%2C%2033.78343381799703%2C%20-118.18453620635525%2C%2033.78903948186262%5D%2C%20%22geometry%22%3A%20%7B%22coordinates%22%3A%20%5B%5B%5B-118.18453620635525%2C%2033.78873899896038%5D%2C%20%5B-118.18454595169237%2C%2033.78360990132319%5D%2C%20%5B-118.18476683598233%2C%2033.78343381799703%5D%2C%20%5B-118.18497762222687%2C%2033.78361833691921%5D%2C%20%5B-118.18490478441062%2C%2033.78903948186262%5D%2C%20%5B-118.18459944282499%2C%2033.78903948113661%5D%2C%20%5B-118.18453620635525%2C%2033.78873899896038%5D%5D%5D%2C%20%22type%22%3A%20%22Polygon%22%7D%2C%20%22id%22%3A%20%2212483%22%2C%20%22properties%22%3A%20%7B%22direction_id%22%3A%20%221%22%2C%20%22last_loc%22%3A%202576.0%2C%20%22shape_id%22%3A%20%22610105%22%2C%20%22shape_meters%22%3A%203163.0%2C%20%22speed_mph%22%3A%2021.2%2C%20%22time%22%3A%20%2222%3A18%3A30%22%2C%20%22trip_id%22%3A%20%229288385%22%7D%2C%20%22type%22%3A%20%22Feature%22%7D%2C%20%7B%22bbox%22%3A%20%5B-118.18496698316308%2C%2033.7887324741786%2C%20-118.18453724506217%2C%2033.79063773067814%5D%2C%20%22geometry%22%3A%20%7B%22coordinates%22%3A%20%5B%5B%5B-118.18454126481959%2C%2033.79041573959755%5D%2C%20%5B-118.18453724506217%2C%2033.788894277181484%5D%2C%20%5B-118.18477327737513%2C%2033.7887324741786%5D%2C%20%5B-118.18496698316308%2C%2033.7888942782033%5D%2C%20%5B-118.18496083765487%2C%2033.79052292721436%5D%2C%20%5B-118.18468817166686%2C%2033.79063773067814%5D%2C%20%5B-118.18454126481959%2C%2033.79041573959755%5D%5D%5D%2C%20%22type%22%3A%20%22Polygon%22%7D%2C%20%22id%22%3A%20%2212484%22%2C%20%22properties%22%3A%20%7B%22direction_id%22%3A%20%221%22%2C%20%22last_loc%22%3A%203163.0%2C%20%22shape_id%22%3A%20%22610105%22%2C%20%22shape_meters%22%3A%203336.0%2C%20%22speed_mph%22%3A%206.5%2C%20%22time%22%3A%20%2222%3A19%3A30%22%2C%20%22trip_id%22%3A%20%229288385%22%7D%2C%20%22type%22%3A%20%22Feature%22%7D%2C%20%7B%22bbox%22%3A%20%5B-118.18497110264572%2C%2033.79028615470513%2C%20-118.18453720202378%2C%2033.79387829170819%5D%2C%20%22geometry%22%3A%20%7B%22coordinates%22%3A%20%5B%5B%5B-118.18453720202378%2C%2033.79348709872157%5D%2C%20%5B-118.18453993281558%2C%2033.790462127924634%5D%2C%20%5B-118.18476096033092%2C%2033.79028615470513%5D%2C%20%5B-118.18497110264572%2C%2033.79045308277306%5D%2C%20%5B-118.18487783123987%2C%2033.79387829170819%5D%2C%20%5B-118.18457775207715%2C%2033.79383106277852%5D%2C%20%5B-118.18453720202378%2C%2033.79348709872157%5D%5D%5D%2C%20%22type%22%3A%20%22Polygon%22%7D%2C%20%22id%22%3A%20%2212485%22%2C%20%22properties%22%3A%20%7B%22direction_id%22%3A%20%221%22%2C%20%22last_loc%22%3A%203336.0%2C%20%22shape_id%22%3A%20%22610105%22%2C%20%22shape_meters%22%3A%203697.0%2C%20%22speed_mph%22%3A%2013.4%2C%20%22time%22%3A%20%2222%3A20%3A30%22%2C%20%22trip_id%22%3A%20%229288385%22%7D%2C%20%22type%22%3A%20%22Feature%22%7D%2C%20%7B%22bbox%22%3A%20%5B-118.18497197486163%2C%2033.79354970766031%2C%20-118.18453651372057%2C%2033.797260623446526%5D%2C%20%22geometry%22%3A%20%7B%22coordinates%22%3A%20%5B%5B%5B-118.18453651372057%2C%2033.796962569722815%5D%2C%20%5B-118.18454097905578%2C%2033.79371349344768%5D%2C%20%5B-118.18477505649751%2C%2033.79354970766031%5D%2C%20%5B-118.18497197486163%2C%2033.79372753534593%5D%2C%20%5B-118.18493175022365%2C%2033.79722590349699%5D%2C%20%5B-118.1846292197213%2C%2033.797260623446526%5D%2C%20%5B-118.18453651372057%2C%2033.796962569722815%5D%5D%5D%2C%20%22type%22%3A%20%22Polygon%22%7D%2C%20%22id%22%3A%20%2212486%22%2C%20%22properties%22%3A%20%7B%22direction_id%22%3A%20%221%22%2C%20%22last_loc%22%3A%203697.0%2C%20%22shape_id%22%3A%20%22610105%22%2C%20%22shape_meters%22%3A%204072.0%2C%20%22speed_mph%22%3A%2014.0%2C%20%22time%22%3A%20%2222%3A21%3A30%22%2C%20%22trip_id%22%3A%20%229288385%22%7D%2C%20%22type%22%3A%20%22Feature%22%7D%2C%20%7B%22bbox%22%3A%20%5B-118.18494159480542%2C%2033.79697322749385%2C%20-118.18454518399079%2C%2033.797562197169945%5D%2C%20%22geometry%22%3A%20%7B%22coordinates%22%3A%20%5B%5B%5B-118.18454518399079%2C%2033.79737414184279%5D%2C%20%5B-118.18458764992354%2C%2033.79700794734272%5D%2C%20%5B-118.18489017947876%2C%2033.79697322749385%5D%2C%20%5B-118.18494159480542%2C%2033.79748843942129%5D%2C%20%5B-118.18469996576539%2C%2033.797562197169945%5D%2C%20%5B-118.18454518399079%2C%2033.79737414184279%5D%5D%5D%2C%20%22type%22%3A%20%22Polygon%22%7D%2C%20%22id%22%3A%20%2212487%22%2C%20%22properties%22%3A%20%7B%22direction_id%22%3A%20%221%22%2C%20%22last_loc%22%3A%204072.0%2C%20%22shape_id%22%3A%20%22610105%22%2C%20%22shape_meters%22%3A%204103.0%2C%20%22speed_mph%22%3A%201.2%2C%20%22time%22%3A%20%2222%3A22%3A30%22%2C%20%22trip_id%22%3A%20%229288385%22%7D%2C%20%22type%22%3A%20%22Feature%22%7D%2C%20%7B%22bbox%22%3A%20%5B-118.18497717058108%2C%2033.79720966863054%2C%20-118.18454511976616%2C%2033.80013322372536%5D%2C%20%22geometry%22%3A%20%7B%22coordinates%22%3A%20%5B%5B%5B-118.18454511976616%2C%2033.79986013614669%5D%2C%20%5B-118.18454621292533%2C%2033.797372805029035%5D%2C%20%5B-118.18478094964355%2C%2033.79720966863054%5D%2C%20%5B-118.18497717058108%2C%2033.79738803954078%5D%2C%20%5B-118.1849395593717%2C%2033.80008444330807%5D%2C%20%5B-118.18463981259643%2C%2033.80013322372536%5D%2C%20%5B-118.18454511976616%2C%2033.79986013614669%5D%5D%5D%2C%20%22type%22%3A%20%22Polygon%22%7D%2C%20%22id%22%3A%20%2212488%22%2C%20%22properties%22%3A%20%7B%22direction_id%22%3A%20%221%22%2C%20%22last_loc%22%3A%204103.0%2C%20%22shape_id%22%3A%20%22610105%22%2C%20%22shape_meters%22%3A%204391.0%2C%20%22speed_mph%22%3A%2010.7%2C%20%22time%22%3A%20%2222%3A23%3A30%22%2C%20%22trip_id%22%3A%20%229288385%22%7D%2C%20%22type%22%3A%20%22Feature%22%7D%2C%20%7B%22bbox%22%3A%20%5B-118.18497641968173%2C%2033.79980331719685%2C%20-118.1845411121392%2C%2033.804395217350496%5D%2C%20%22geometry%22%3A%20%7B%22coordinates%22%3A%20%5B%5B%5B-118.1845411121392%2C%2033.804094998960245%5D%2C%20%5B-118.18454454508021%2C%2033.79998295849152%5D%2C%20%5B-118.1847613257251%2C%2033.79980331719685%5D%2C%20%5B-118.18497641968173%2C%2033.799984367180855%5D%2C%20%5B-118.18490976167782%2C%2033.804395217350496%5D%2C%20%5B-118.18460436087425%2C%2033.80439521662435%5D%2C%20%5B-118.1845411121392%2C%2033.804094998960245%5D%5D%5D%2C%20%22type%22%3A%20%22Polygon%22%7D%2C%20%22id%22%3A%20%2212489%22%2C%20%22properties%22%3A%20%7B%22direction_id%22%3A%20%221%22%2C%20%22last_loc%22%3A%204391.0%2C%20%22shape_id%22%3A%20%22610105%22%2C%20%22shape_meters%22%3A%204866.0%2C%20%22speed_mph%22%3A%2017.7%2C%20%22time%22%3A%20%2222%3A24%3A30%22%2C%20%22trip_id%22%3A%20%229288385%22%7D%2C%20%22type%22%3A%20%22Feature%22%7D%2C%20%7B%22bbox%22%3A%20%5B-118.18495509944877%2C%2033.8041010748961%2C%20-118.1845401080567%2C%2033.8049712700334%5D%2C%20%22geometry%22%3A%20%7B%22coordinates%22%3A%20%5B%5B%5B-118.1845401080567%2C%2033.80476025254465%5D%2C%20%5B-118.18455754975166%2C%2033.804198676809776%5D%2C%20%5B-118.18483970283378%2C%2033.8041010748961%5D%2C%20%5B-118.18495509944877%2C%2033.80486851174183%5D%2C%20%5B-118.18469244304303%2C%2033.8049712700334%5D%2C%20%5B-118.1845401080567%2C%2033.80476025254465%5D%5D%5D%2C%20%22type%22%3A%20%22Polygon%22%7D%2C%20%22id%22%3A%20%2212490%22%2C%20%22properties%22%3A%20%7B%22direction_id%22%3A%20%221%22%2C%20%22last_loc%22%3A%204866.0%2C%20%22shape_id%22%3A%20%22610105%22%2C%20%22shape_meters%22%3A%204925.0%2C%20%22speed_mph%22%3A%2014.8%2C%20%22time%22%3A%20%2222%3A24%3A39%22%2C%20%22trip_id%22%3A%20%229288385%22%7D%2C%20%22type%22%3A%20%22Feature%22%7D%2C%20%7B%22bbox%22%3A%20%5B-118.18496911389175%2C%2033.80464014631665%2C%20-118.18448783391847%2C%2033.80573615791734%5D%2C%20%22geometry%22%3A%20%7B%22coordinates%22%3A%20%5B%5B%5B-118.1845390157731%2C%2033.80516456606194%5D%2C%20%5B-118.18456581474965%2C%2033.80471328365559%5D%2C%20%5B-118.18485839059703%2C%2033.80464014631665%5D%2C%20%5B-118.18496911389175%2C%2033.80523388778282%5D%2C%20%5B-118.18475802318318%2C%2033.80573615791734%5D%2C%20%5B-118.18448783391847%2C%2033.80561725956828%5D%2C%20%5B-118.1845390157731%2C%2033.80516456606194%5D%5D%5D%2C%20%22type%22%3A%20%22Polygon%22%7D%2C%20%22id%22%3A%20%2212491%22%2C%20%22properties%22%3A%20%7B%22direction_id%22%3A%20%221%22%2C%20%22last_loc%22%3A%204925.0%2C%20%22shape_id%22%3A%20%22610105%22%2C%20%22shape_meters%22%3A%205011.0%2C%20%22speed_mph%22%3A%205.0%2C%20%22time%22%3A%20%2222%3A25%3A17%22%2C%20%22trip_id%22%3A%20%229288385%22%7D%2C%20%22type%22%3A%20%22Feature%22%7D%2C%20%7B%22bbox%22%3A%20%5B-118.18491006587804%2C%2033.805384310844126%2C%20-118.18447907997513%2C%2033.80963409606366%5D%2C%20%22geometry%22%3A%20%7B%22coordinates%22%3A%20%5B%5B%5B-118.18448309071046%2C%2033.809160433024594%5D%2C%20%5B-118.18447907997513%2C%2033.80554727281634%5D%2C%20%5B-118.18471401302806%2C%2033.805384310844126%5D%2C%20%5B-118.18491006587804%2C%2033.80556282445042%5D%2C%20%5B-118.18479700437722%2C%2033.80963409606366%5D%2C%20%5B-118.18450534544898%2C%2033.809558399381835%5D%2C%20%5B-118.18448309071046%2C%2033.809160433024594%5D%5D%5D%2C%20%22type%22%3A%20%22Polygon%22%7D%2C%20%22id%22%3A%20%2212492%22%2C%20%22properties%22%3A%20%7B%22direction_id%22%3A%20%221%22%2C%20%22last_loc%22%3A%205011.0%2C%20%22shape_id%22%3A%20%22610105%22%2C%20%22shape_meters%22%3A%205445.0%2C%20%22speed_mph%22%3A%2018.3%2C%20%22time%22%3A%20%2222%3A26%3A10%22%2C%20%22trip_id%22%3A%20%229288385%22%7D%2C%20%22type%22%3A%20%22Feature%22%7D%2C%20%7B%22bbox%22%3A%20%5B-118.18491156257757%2C%2033.80929412950558%2C%20-118.18447708495198%2C%2033.81328523189201%5D%2C%20%22geometry%22%3A%20%7B%22coordinates%22%3A%20%5B%5B%5B-118.18447708495198%2C%2033.813051344143894%5D%2C%20%5B-118.18448053871813%2C%2033.809473242141614%5D%2C%20%5B-118.18469796932796%2C%2033.80929412950558%5D%2C%20%5B-118.18491156257757%2C%2033.80945801613688%5D%2C%20%5B-118.18490110772467%2C%2033.81316273162072%5D%2C%20%5B-118.18463321074627%2C%2033.81328523189201%5D%2C%20%5B-118.18447708495198%2C%2033.813051344143894%5D%5D%5D%2C%20%22type%22%3A%20%22Polygon%22%7D%2C%20%22id%22%3A%20%2212493%22%2C%20%22properties%22%3A%20%7B%22direction_id%22%3A%20%221%22%2C%20%22last_loc%22%3A%205445.0%2C%20%22shape_id%22%3A%20%22610105%22%2C%20%22shape_meters%22%3A%205848.0%2C%20%22speed_mph%22%3A%2014.8%2C%20%22time%22%3A%20%2222%3A27%3A11%22%2C%20%22trip_id%22%3A%20%229288385%22%7D%2C%20%22type%22%3A%20%22Feature%22%7D%2C%20%7B%22bbox%22%3A%20%5B-118.18496392262882%2C%2033.81293179633961%2C%20-118.18447866996432%2C%2033.818140563226585%5D%2C%20%22geometry%22%3A%20%7B%22coordinates%22%3A%20%5B%5B%5B-118.18493386041179%2C%2033.8167231941939%5D%2C%20%5B-118.18496392262882%2C%2033.81797810112279%5D%2C%20%5B-118.1847284585826%2C%2033.818140563226585%5D%2C%20%5B-118.18453402908584%2C%2033.8179793110526%5D%2C%20%5B-118.1844861108819%2C%2033.81641636342383%5D%2C%20%5B-118.18447866996432%2C%2033.813096273578736%5D%2C%20%5B-118.18469162021839%2C%2033.81293179633961%5D%2C%20%5B-118.18490977179353%2C%2033.81311030439217%5D%2C%20%5B-118.18493386041179%2C%2033.8167231941939%5D%5D%5D%2C%20%22type%22%3A%20%22Polygon%22%7D%2C%20%22id%22%3A%20%2212494%22%2C%20%22properties%22%3A%20%7B%22direction_id%22%3A%20%221%22%2C%20%22last_loc%22%3A%205848.0%2C%20%22shape_id%22%3A%20%22610105%22%2C%20%22shape_meters%22%3A%206387.0%2C%20%22speed_mph%22%3A%2020.1%2C%20%22time%22%3A%20%2222%3A28%3A11%22%2C%20%22trip_id%22%3A%20%229288385%22%7D%2C%20%22type%22%3A%20%22Feature%22%7D%2C%20%7B%22bbox%22%3A%20%5B-118.18494375817285%2C%2033.817784033834705%2C%20-118.1845360286557%2C%2033.81939260719024%5D%2C%20%22geometry%22%3A%20%7B%22coordinates%22%3A%20%5B%5B%5B-118.1845360286557%2C%2033.81914545399758%5D%2C%20%5B-118.18453692592364%2C%2033.81792644259574%5D%2C%20%5B-118.18479032728064%2C%2033.817784033834705%5D%2C%20%5B-118.18494375817285%2C%2033.81931709719151%5D%2C%20%5B-118.18465199421162%2C%2033.81939260719024%5D%2C%20%5B-118.1845360286557%2C%2033.81914545399758%5D%5D%5D%2C%20%22type%22%3A%20%22Polygon%22%7D%2C%20%22id%22%3A%20%2212495%22%2C%20%22properties%22%3A%20%7B%22direction_id%22%3A%20%221%22%2C%20%22last_loc%22%3A%206387.0%2C%20%22shape_id%22%3A%20%22610105%22%2C%20%22shape_meters%22%3A%206528.0%2C%20%22speed_mph%22%3A%205.3%2C%20%22time%22%3A%20%2222%3A29%3A11%22%2C%20%22trip_id%22%3A%20%229288385%22%7D%2C%20%22type%22%3A%20%22Feature%22%7D%2C%20%7B%22bbox%22%3A%20%5B-118.18496900310471%2C%2033.81905346914954%2C%20-118.18453199897094%2C%2033.82403394314193%5D%2C%20%22geometry%22%3A%20%7B%22coordinates%22%3A%20%5B%5B%5B-118.18453199897094%2C%2033.82269218197178%5D%2C%20%5B-118.18453758280563%2C%2033.8192164563232%5D%2C%20%5B-118.18477252878422%2C%2033.81905346914954%5D%2C%20%5B-118.18496900310471%2C%2033.81928157776592%5D%2C%20%5B-118.18496119093503%2C%2033.823857359018334%5D%2C%20%5B-118.18478690045048%2C%2033.82403394314193%5D%2C%20%5B-118.18453324905319%2C%2033.82389182171256%5D%2C%20%5B-118.18453199897094%2C%2033.82269218197178%5D%5D%5D%2C%20%22type%22%3A%20%22Polygon%22%7D%2C%20%22id%22%3A%20%2212496%22%2C%20%22properties%22%3A%20%7B%22direction_id%22%3A%20%221%22%2C%20%22last_loc%22%3A%206528.0%2C%20%22shape_id%22%3A%20%22610105%22%2C%20%22shape_meters%22%3A%207041.0%2C%20%22speed_mph%22%3A%2016.9%2C%20%22time%22%3A%20%2222%3A30%3A19%22%2C%20%22trip_id%22%3A%20%229288385%22%7D%2C%20%22type%22%3A%20%22Feature%22%7D%2C%20%7B%22bbox%22%3A%20%5B-118.18496119093503%2C%2033.82367665373408%2C%20-118.1844596770802%2C%2033.82915454090778%5D%2C%20%22geometry%22%3A%20%7B%22coordinates%22%3A%20%5B%5B%5B-118.18489731667381%2C%2033.82722307749453%5D%2C%20%5B-118.18488961043467%2C%2033.82899073824011%5D%2C%20%5B-118.18465545187274%2C%2033.82915454090778%5D%2C%20%5B-118.1844596770802%2C%2033.82899440636324%5D%2C%20%5B-118.18446000896074%2C%2033.82723686663295%5D%2C%20%5B-118.18453026651959%2C%2033.823838956930445%5D%2C%20%5B-118.18474562282778%2C%2033.82367665373408%5D%2C%20%5B-118.18496119093503%2C%2033.823857359018334%5D%2C%20%5B-118.18489731667381%2C%2033.82722307749453%5D%5D%5D%2C%20%22type%22%3A%20%22Polygon%22%7D%2C%20%22id%22%3A%20%2212497%22%2C%20%22properties%22%3A%20%7B%22direction_id%22%3A%20%221%22%2C%20%22last_loc%22%3A%207041.0%2C%20%22shape_id%22%3A%20%22610105%22%2C%20%22shape_meters%22%3A%207610.0%2C%20%22speed_mph%22%3A%2021.2%2C%20%22time%22%3A%20%2222%3A31%3A19%22%2C%20%22trip_id%22%3A%20%229288385%22%7D%2C%20%22type%22%3A%20%22Feature%22%7D%2C%20%7B%22bbox%22%3A%20%5B-118.18489684237474%2C%2033.8287952528613%2C%20-118.18445924442594%2C%2033.83236795658464%5D%2C%20%22geometry%22%3A%20%7B%22coordinates%22%3A%20%5B%5B%5B-118.18446893983797%2C%2033.83216177535754%5D%2C%20%5B-118.18445924442594%2C%2033.828959055161405%5D%2C%20%5B-118.18469340281558%2C%2033.8287952528613%5D%2C%20%5B-118.18489043414304%2C%2033.828973053763875%5D%2C%20%5B-118.18489684237474%2C%2033.83222626441148%5D%2C%20%5B-118.18464282103739%2C%2033.83236795658464%5D%2C%20%5B-118.18446893983797%2C%2033.83216177535754%5D%5D%5D%2C%20%22type%22%3A%20%22Polygon%22%7D%2C%20%22id%22%3A%20%2212498%22%2C%20%22properties%22%3A%20%7B%22direction_id%22%3A%20%221%22%2C%20%22last_loc%22%3A%207610.0%2C%20%22shape_id%22%3A%20%22610105%22%2C%20%22shape_meters%22%3A%207967.0%2C%20%22speed_mph%22%3A%2013.3%2C%20%22time%22%3A%20%2222%3A32%3A19%22%2C%20%22trip_id%22%3A%20%229288385%22%7D%2C%20%22type%22%3A%20%22Feature%22%7D%2C%20%7B%22bbox%22%3A%20%5B-118.18486219104858%2C%2033.83204113400549%2C%20-118.18446893802353%2C%2033.83273492069111%5D%2C%20%22geometry%22%3A%20%7B%22coordinates%22%3A%20%5B%5B%5B-118.18446893802353%2C%2033.83245722551874%5D%2C%20%5B-118.1845053473107%2C%2033.83209088904765%5D%2C%20%5B-118.18480498483086%2C%2033.83204113400549%5D%2C%20%5B-118.18486219104858%2C%2033.832687353914%5D%2C%20%5B-118.18456204159219%2C%2033.83273492069111%5D%2C%20%5B-118.18446893802353%2C%2033.83245722551874%5D%5D%5D%2C%20%22type%22%3A%20%22Polygon%22%7D%2C%20%22id%22%3A%20%2212499%22%2C%20%22properties%22%3A%20%7B%22direction_id%22%3A%20%221%22%2C%20%22last_loc%22%3A%207967.0%2C%20%22shape_id%22%3A%20%22610105%22%2C%20%22shape_meters%22%3A%208011.0%2C%20%22speed_mph%22%3A%201.5%2C%20%22time%22%3A%20%2222%3A33%3A24%22%2C%20%22trip_id%22%3A%20%229288385%22%7D%2C%20%22type%22%3A%20%22Feature%22%7D%2C%20%7B%22bbox%22%3A%20%5B-118.18489964612814%2C%2033.832405521487594%2C%20-118.18444291117974%2C%2033.837064315250544%5D%2C%20%22geometry%22%3A%20%7B%22coordinates%22%3A%20%5B%5B%5B-118.18444291117974%2C%2033.83682799895978%5D%2C%20%5B-118.18446760685264%2C%2033.83258427792498%5D%2C%20%5B-118.18468551540762%2C%2033.832405521487594%5D%2C%20%5B-118.18489964612814%2C%2033.83258743168094%5D%2C%20%5B-118.18485854498171%2C%2033.836966716755526%5D%2C%20%5B-118.1845762748741%2C%2033.837064315250544%5D%2C%20%5B-118.18444291117974%2C%2033.83682799895978%5D%5D%5D%2C%20%22type%22%3A%20%22Polygon%22%7D%2C%20%22id%22%3A%20%2212500%22%2C%20%22properties%22%3A%20%7B%22direction_id%22%3A%20%221%22%2C%20%22last_loc%22%3A%208011.0%2C%20%22shape_id%22%3A%20%22610105%22%2C%20%22shape_meters%22%3A%208489.0%2C%20%22speed_mph%22%3A%2017.2%2C%20%22time%22%3A%20%2222%3A34%3A26%22%2C%20%22trip_id%22%3A%20%229288385%22%7D%2C%20%22type%22%3A%20%22Feature%22%7D%2C%20%7B%22bbox%22%3A%20%5B-118.18487289738947%2C%2033.83671638772491%2C%20-118.18441079038446%2C%2033.8422781683524%5D%2C%20%22geometry%22%3A%20%7B%22coordinates%22%3A%20%5B%5B%5B-118.18487289738947%2C%2033.8369380852883%5D%2C%20%5B-118.18484287457821%2C%2033.842099721559194%5D%2C%20%5B-118.1846245777548%2C%2033.8422781683524%5D%2C%20%5B-118.18441079038446%2C%2033.84209595757212%5D%2C%20%5B-118.18444957417425%2C%2033.83684795683062%5D%2C%20%5B-118.18471401770682%2C%2033.83671638772491%5D%2C%20%5B-118.18487289738947%2C%2033.8369380852883%5D%5D%5D%2C%20%22type%22%3A%20%22Polygon%22%7D%2C%20%22id%22%3A%20%2212501%22%2C%20%22properties%22%3A%20%7B%22direction_id%22%3A%20%221%22%2C%20%22last_loc%22%3A%208489.0%2C%20%22shape_id%22%3A%20%22610105%22%2C%20%22shape_meters%22%3A%209066.0%2C%20%22speed_mph%22%3A%2021.5%2C%20%22time%22%3A%20%2222%3A35%3A26%22%2C%20%22trip_id%22%3A%20%229288385%22%7D%2C%20%22type%22%3A%20%22Feature%22%7D%2C%20%7B%22bbox%22%3A%20%5B-118.18484287457821%2C%2033.84191856394939%2C%20-118.1843798646136%2C%2033.84516141417549%5D%2C%20%22geometry%22%3A%20%7B%22coordinates%22%3A%20%5B%5B%5B-118.1843798646136%2C%2033.84491654544758%5D%2C%20%5B-118.18441205173495%2C%2033.84207829134294%5D%2C%20%5B-118.18465025211086%2C%2033.84191856394939%5D%2C%20%5B-118.18484287457821%2C%2033.842099721559194%5D%2C%20%5B-118.18478574093842%2C%2033.84508825639795%5D%2C%20%5B-118.18449302410306%2C%2033.84516141417549%5D%2C%20%5B-118.1843798646136%2C%2033.84491654544758%5D%5D%5D%2C%20%22type%22%3A%20%22Polygon%22%7D%2C%20%22id%22%3A%20%2212502%22%2C%20%22properties%22%3A%20%7B%22direction_id%22%3A%20%221%22%2C%20%22last_loc%22%3A%209066.0%2C%20%22shape_id%22%3A%20%22610105%22%2C%20%22shape_meters%22%3A%209388.0%2C%20%22speed_mph%22%3A%2012.2%2C%20%22time%22%3A%20%2222%3A36%3A25%22%2C%20%22trip_id%22%3A%20%229288385%22%7D%2C%20%22type%22%3A%20%22Feature%22%7D%2C%20%7B%22bbox%22%3A%20%5B-118.18481700395222%2C%2033.84482327133003%2C%20-118.18437386096915%2C%2033.84778278723751%5D%2C%20%22geometry%22%3A%20%7B%22coordinates%22%3A%20%5B%5B%5B-118.18437386096915%2C%2033.84711854300949%5D%2C%20%5B-118.1843806135658%2C%2033.844984356575516%5D%2C%20%5B-118.18461750604285%2C%2033.84482327133003%5D%2C%20%5B-118.18481700395222%2C%2033.84528795576723%5D%2C%20%5B-118.18466238434081%2C%2033.84778278723751%5D%2C%20%5B-118.1843816064599%2C%2033.84768216145369%5D%2C%20%5B-118.18437386096915%2C%2033.84711854300949%5D%5D%5D%2C%20%22type%22%3A%20%22Polygon%22%7D%2C%20%22id%22%3A%20%2212503%22%2C%20%22properties%22%3A%20%7B%22direction_id%22%3A%20%221%22%2C%20%22last_loc%22%3A%209388.0%2C%20%22shape_id%22%3A%20%22610105%22%2C%20%22shape_meters%22%3A%209678.0%2C%20%22speed_mph%22%3A%2010.8%2C%20%22time%22%3A%20%2222%3A37%3A25%22%2C%20%22trip_id%22%3A%20%229288385%22%7D%2C%20%22type%22%3A%20%22Feature%22%7D%2C%20%7B%22bbox%22%3A%20%5B-118.18479832809929%2C%2033.84743497966863%2C%20-118.18435328259616%2C%2033.85108512834421%5D%2C%20%22geometry%22%3A%20%7B%22coordinates%22%3A%20%5B%5B%5B-118.18435328259616%2C%2033.85077779663357%5D%2C%20%5B-118.18436622611786%2C%2033.84761297819607%5D%2C%20%5B-118.18458506107972%2C%2033.84743497966863%5D%2C%20%5B-118.18479832809929%2C%2033.84761762538029%5D%2C%20%5B-118.1847356918686%2C%2033.851075640484%5D%2C%20%5B-118.18443032241717%2C%2033.85108512834421%5D%2C%20%5B-118.18435328259616%2C%2033.85077779663357%5D%5D%5D%2C%20%22type%22%3A%20%22Polygon%22%7D%2C%20%22id%22%3A%20%2212504%22%2C%20%22properties%22%3A%20%7B%22direction_id%22%3A%20%221%22%2C%20%22last_loc%22%3A%209678.0%2C%20%22shape_id%22%3A%20%22610105%22%2C%20%22shape_meters%22%3A%2010047.0%2C%20%22speed_mph%22%3A%2013.7%2C%20%22time%22%3A%20%2222%3A38%3A25%22%2C%20%22trip_id%22%3A%20%229288385%22%7D%2C%20%22type%22%3A%20%22Feature%22%7D%2C%20%7B%22bbox%22%3A%20%5B-118.1847932514515%2C%2033.85077295398881%2C%20-118.18436164641028%2C%2033.854737073455276%5D%2C%20%22geometry%22%3A%20%7B%22coordinates%22%3A%20%5B%5B%5B-118.18439280276644%2C%2033.854474998959596%5D%2C%20%5B-118.18436164641028%2C%2033.850941968146984%5D%2C%20%5B-118.18459048779384%2C%2033.85077295398881%5D%2C%20%5B-118.1847932514515%2C%2033.850946246451166%5D%2C%20%5B-118.18478856050547%2C%2033.85468731955213%5D%2C%20%5B-118.18448883726221%2C%2033.854737073455276%5D%2C%20%5B-118.18439280276644%2C%2033.854474998959596%5D%5D%5D%2C%20%22type%22%3A%20%22Polygon%22%7D%2C%20%22id%22%3A%20%2212505%22%2C%20%22properties%22%3A%20%7B%22direction_id%22%3A%20%221%22%2C%20%22last_loc%22%3A%2010047.0%2C%20%22shape_id%22%3A%20%22610105%22%2C%20%22shape_meters%22%3A%2010451.0%2C%20%22speed_mph%22%3A%2015.1%2C%20%22time%22%3A%20%2222%3A39%3A25%22%2C%20%22trip_id%22%3A%20%229288385%22%7D%2C%20%22type%22%3A%20%22Feature%22%7D%2C%20%7B%22bbox%22%3A%20%5B-118.18481567337527%2C%2033.854410259195916%2C%20-118.18439280200445%2C%2033.8553277583747%5D%2C%20%22geometry%22%3A%20%7B%22coordinates%22%3A%20%5B%5B%5B-118.18439280200445%2C%2033.85459899895958%5D%2C%20%5B-118.18456673407026%2C%2033.854410259195916%5D%2C%20%5B-118.18481567337527%2C%2033.85453478162508%5D%2C%20%5B-118.18467161512712%2C%2033.8553277583747%5D%2C%20%5B-118.18440210301326%2C%2033.85520753575356%5D%2C%20%5B-118.18439280200445%2C%2033.85459899895958%5D%5D%5D%2C%20%22type%22%3A%20%22Polygon%22%7D%2C%20%22id%22%3A%20%2212506%22%2C%20%22properties%22%3A%20%7B%22direction_id%22%3A%20%221%22%2C%20%22last_loc%22%3A%2010451.0%2C%20%22shape_id%22%3A%20%22610105%22%2C%20%22shape_meters%22%3A%2010514.0%2C%20%22speed_mph%22%3A%202.5%2C%20%22time%22%3A%20%2222%3A40%3A22%22%2C%20%22trip_id%22%3A%20%229288385%22%7D%2C%20%22type%22%3A%20%22Feature%22%7D%2C%20%7B%22bbox%22%3A%20%5B-118.18483403587837%2C%2033.85497485200622%2C%20-118.18439279858674%2C%2033.85965352289128%5D%2C%20%22geometry%22%3A%20%7B%22coordinates%22%3A%20%5B%5B%5B-118.18442578632835%2C%2033.85940606310124%5D%2C%20%5B-118.18439279858674%2C%2033.85515518702079%5D%2C%20%5B-118.18460888871937%2C%2033.85497485200622%5D%2C%20%5B-118.18482497762075%2C%2033.85515518804838%5D%2C%20%5B-118.18483403587837%2C%2033.859577650718386%5D%2C%20%5B-118.18454225963534%2C%2033.85965352289128%5D%2C%20%5B-118.18442578632835%2C%2033.85940606310124%5D%5D%5D%2C%20%22type%22%3A%20%22Polygon%22%7D%2C%20%22id%22%3A%20%2212507%22%2C%20%22properties%22%3A%20%7B%22direction_id%22%3A%20%221%22%2C%20%22last_loc%22%3A%2010514.0%2C%20%22shape_id%22%3A%20%22610105%22%2C%20%22shape_meters%22%3A%2010995.0%2C%20%22speed_mph%22%3A%2017.6%2C%20%22time%22%3A%20%2222%3A41%3A23%22%2C%20%22trip_id%22%3A%20%229288385%22%7D%2C%20%22type%22%3A%20%22Feature%22%7D%2C%20%7B%22bbox%22%3A%20%5B-118.18485311886486%2C%2033.85931671434261%2C%20-118.18443042654751%2C%2033.86059900045435%5D%2C%20%22geometry%22%3A%20%7B%22coordinates%22%3A%20%5B%5B%5B-118.18443579723612%2C%2033.86035069791719%5D%2C%20%5B-118.18443042654751%2C%2033.8594599990419%5D%2C%20%5B-118.18468324572586%2C%2033.85931671434261%5D%2C%20%5B-118.18485311886486%2C%2033.86049936024171%5D%2C%20%5B-118.18457179204937%2C%2033.86059900045435%5D%2C%20%5B-118.18443579723612%2C%2033.86035069791719%5D%5D%5D%2C%20%22type%22%3A%20%22Polygon%22%7D%2C%20%22id%22%3A%20%2212508%22%2C%20%22properties%22%3A%20%7B%22direction_id%22%3A%20%221%22%2C%20%22last_loc%22%3A%2010995.0%2C%20%22shape_id%22%3A%20%22610105%22%2C%20%22shape_meters%22%3A%2011099.0%2C%20%22speed_mph%22%3A%206.8%2C%20%22time%22%3A%20%2222%3A41%3A57%22%2C%20%22trip_id%22%3A%20%229288385%22%7D%2C%20%22type%22%3A%20%22Feature%22%7D%2C%20%7B%22bbox%22%3A%20%5B-118.1848424476919%2C%2033.86027350333622%2C%20-118.18443776911516%2C%2033.861110664413474%5D%2C%20%22geometry%22%3A%20%7B%22coordinates%22%3A%20%5B%5B%5B-118.18443776911516%2C%2033.86054011005416%5D%2C%20%5B-118.18454923092773%2C%2033.86027350333622%5D%2C%20%5B-118.1848424476919%2C%2033.86034541159474%5D%2C%20%5B-118.18473774350255%2C%2033.861110664413474%5D%2C%20%5B-118.18445518827689%2C%2033.861013471148716%5D%2C%20%5B-118.18443776911516%2C%2033.86054011005416%5D%5D%5D%2C%20%22type%22%3A%20%22Polygon%22%7D%2C%20%22id%22%3A%20%2212509%22%2C%20%22properties%22%3A%20%7B%22direction_id%22%3A%20%221%22%2C%20%22last_loc%22%3A%2011099.0%2C%20%22shape_id%22%3A%20%22610105%22%2C%20%22shape_meters%22%3A%2011156.0%2C%20%22speed_mph%22%3A%203.2%2C%20%22time%22%3A%20%2222%3A42%3A37%22%2C%20%22trip_id%22%3A%20%229288385%22%7D%2C%20%22type%22%3A%20%22Feature%22%7D%2C%20%7B%22bbox%22%3A%20%5B-118.18491919735239%2C%2033.86076384111385%2C%20-118.18443859696502%2C%2033.86647017629229%5D%2C%20%22geometry%22%3A%20%7B%22coordinates%22%3A%20%5B%5B%5B-118.18453721579031%2C%2033.86604248346176%5D%2C%20%5B-118.18443859696502%2C%2033.86094448367202%5D%2C%20%5B-118.184654332297%2C%2033.86076384111385%5D%2C%20%5B-118.18487080698972%2C%2033.860943866691095%5D%2C%20%5B-118.18491919735239%2C%2033.86647017629229%5D%2C%20%5B-118.18461821175381%2C%2033.86642583696131%5D%2C%20%5B-118.18453721579031%2C%2033.86604248346176%5D%5D%5D%2C%20%22type%22%3A%20%22Polygon%22%7D%2C%20%22id%22%3A%20%2212510%22%2C%20%22properties%22%3A%20%7B%22direction_id%22%3A%20%221%22%2C%20%22last_loc%22%3A%2011156.0%2C%20%22shape_id%22%3A%20%22610105%22%2C%20%22shape_meters%22%3A%2011750.0%2C%20%22speed_mph%22%3A%2021.8%2C%20%22time%22%3A%20%2222%3A43%3A38%22%2C%20%22trip_id%22%3A%20%229288385%22%7D%2C%20%22type%22%3A%20%22Feature%22%7D%2C%20%7B%22bbox%22%3A%20%5B-118.18570176814676%2C%2033.86614339235621%2C%20-118.1845807020436%2C%2033.8716393265712%5D%2C%20%22geometry%22%3A%20%7B%22coordinates%22%3A%20%5B%5B%5B-118.18528580134914%2C%2033.87136175827646%5D%2C%20%5B-118.1845807020436%2C%2033.866343981772985%5D%2C%20%5B-118.18476944933163%2C%2033.86614339235621%5D%2C%20%5B-118.1850098452044%2C%2033.866300885314566%5D%2C%20%5B-118.18570176814676%2C%2033.871586032225004%5D%2C%20%5B-118.18540285646624%2C%2033.8716393265712%5D%2C%20%5B-118.18528580134914%2C%2033.87136175827646%5D%5D%5D%2C%20%22type%22%3A%20%22Polygon%22%7D%2C%20%22id%22%3A%20%2212511%22%2C%20%22properties%22%3A%20%7B%22direction_id%22%3A%20%221%22%2C%20%22last_loc%22%3A%2011750.0%2C%20%22shape_id%22%3A%20%22610105%22%2C%20%22shape_meters%22%3A%2012327.0%2C%20%22speed_mph%22%3A%2021.5%2C%20%22time%22%3A%20%2222%3A44%3A38%22%2C%20%22trip_id%22%3A%20%229288385%22%7D%2C%20%22type%22%3A%20%22Feature%22%7D%2C%20%7B%22bbox%22%3A%20%5B-118.18570685800002%2C%2033.8713586715489%2C%20-118.18530560332961%2C%2033.87185024351318%5D%2C%20%22geometry%22%3A%20%7B%22coordinates%22%3A%20%5B%5B%5B-118.18530560332961%2C%2033.87150819831458%5D%2C%20%5B-118.18567102272642%2C%2033.8713586715489%5D%2C%20%5B-118.18570685800002%2C%2033.87184662827258%5D%2C%20%5B-118.18540122749826%2C%2033.87185024351318%5D%2C%20%5B-118.18530560332961%2C%2033.87150819831458%5D%5D%5D%2C%20%22type%22%3A%20%22Polygon%22%7D%2C%20%22id%22%3A%20%2212512%22%2C%20%22properties%22%3A%20%7B%22direction_id%22%3A%20%221%22%2C%20%22last_loc%22%3A%2012327.0%2C%20%22shape_id%22%3A%20%22610105%22%2C%20%22shape_meters%22%3A%2012353.0%2C%20%22speed_mph%22%3A%201.0%2C%20%22time%22%3A%20%2222%3A45%3A38%22%2C%20%22trip_id%22%3A%20%229288385%22%7D%2C%20%22type%22%3A%20%22Feature%22%7D%2C%20%7B%22bbox%22%3A%20%5B-118.1859584985911%2C%2033.871540620435944%2C%20-118.18533576319504%2C%2033.87373094738294%5D%2C%20%22geometry%22%3A%20%7B%22coordinates%22%3A%20%5B%5B%5B-118.1855595906908%2C%2033.87339727595772%5D%2C%20%5B-118.18533576319504%2C%2033.87172349078117%5D%2C%20%5B-118.18554881237438%2C%2033.871540620435944%5D%2C%20%5B-118.18576664829442%2C%2033.871700716498474%5D%2C%20%5B-118.1859584985911%2C%2033.87372810002628%5D%2C%20%5B-118.1856528491591%2C%2033.87373094738294%5D%2C%20%5B-118.1855595906908%2C%2033.87339727595772%5D%5D%5D%2C%20%22type%22%3A%20%22Polygon%22%7D%2C%20%22id%22%3A%20%2212513%22%2C%20%22properties%22%3A%20%7B%22direction_id%22%3A%20%221%22%2C%20%22last_loc%22%3A%2012353.0%2C%20%22shape_id%22%3A%20%22610105%22%2C%20%22shape_meters%22%3A%2012563.0%2C%20%22speed_mph%22%3A%2022.3%2C%20%22time%22%3A%20%2222%3A45%3A59%22%2C%20%22trip_id%22%3A%20%229288385%22%7D%2C%20%22type%22%3A%20%22Feature%22%7D%2C%20%7B%22bbox%22%3A%20%5B-118.18855672558827%2C%2033.873460161179025%2C%20-118.1856471858997%2C%2033.87485274807854%5D%2C%20%22geometry%22%3A%20%7B%22coordinates%22%3A%20%5B%5B%5B-118.18744820184976%2C%2033.87485274807854%5D%2C%20%5B-118.18575486907568%2C%2033.874757647618566%5D%2C%20%5B-118.1856471858997%2C%2033.873460161179025%5D%2C%20%5B-118.18600923375148%2C%2033.873523338046034%5D%2C%20%5B-118.18606402537209%2C%2033.874502729723844%5D%2C%20%5B-118.18855672558827%2C%2033.874638043416496%5D%2C%20%5B-118.18838668236249%2C%2033.87484996785956%5D%2C%20%5B-118.18744820184976%2C%2033.87485274807854%5D%5D%5D%2C%20%22type%22%3A%20%22Polygon%22%7D%2C%20%22id%22%3A%20%2212514%22%2C%20%22properties%22%3A%20%7B%22direction_id%22%3A%20%221%22%2C%20%22last_loc%22%3A%2012563.0%2C%20%22shape_id%22%3A%20%22610105%22%2C%20%22shape_meters%22%3A%2012870.0%2C%20%22speed_mph%22%3A%2010.7%2C%20%22time%22%3A%20%2222%3A47%3A03%22%2C%20%22trip_id%22%3A%20%229288385%22%7D%2C%20%22type%22%3A%20%22Feature%22%7D%2C%20%7B%22bbox%22%3A%20%5B-118.19699091638552%2C%2033.874492739040356%2C%20-118.18812855660664%2C%2033.874853402277296%5D%2C%20%22geometry%22%3A%20%7B%22coordinates%22%3A%20%5B%5B%5B-118.19655132061375%2C%2033.87478294019168%5D%2C%20%5B-118.18834451134094%2C%2033.874853402277296%5D%2C%20%5B-118.18812855660664%2C%2033.87467291360419%5D%2C%20%5B-118.18834488737936%2C%2033.874492739040356%5D%2C%20%5B-118.19699091638552%2C%2033.87449615025088%5D%2C%20%5B-118.19695431828033%2C%2033.87474934323909%5D%2C%20%5B-118.19655132061375%2C%2033.87478294019168%5D%5D%5D%2C%20%22type%22%3A%20%22Polygon%22%7D%2C%20%22id%22%3A%20%2212515%22%2C%20%22properties%22%3A%20%7B%22direction_id%22%3A%20%221%22%2C%20%22last_loc%22%3A%2012870.0%2C%20%22shape_id%22%3A%20%22610105%22%2C%20%22shape_meters%22%3A%2013655.0%2C%20%22speed_mph%22%3A%2029.3%2C%20%22time%22%3A%20%2222%3A48%3A03%22%2C%20%22trip_id%22%3A%20%229288385%22%7D%2C%20%22type%22%3A%20%22Feature%22%7D%2C%20%7B%22bbox%22%3A%20%5B-118.20312754833085%2C%2033.87442719073519%2C%20-118.19660478977367%2C%2033.87478776808584%5D%2C%20%22geometry%22%3A%20%7B%22coordinates%22%3A%20%5B%5B%5B-118.20275572724118%2C%2033.87476280053086%5D%2C%20%5B-118.1968161596299%2C%2033.87478776808584%5D%2C%20%5B-118.19660478977367%2C%2033.87460354023322%5D%2C%20%5B-118.19682560205034%2C%2033.87442719073519%5D%2C%20%5B-118.20312754833085%2C%2033.87445729645353%5D%2C%20%5B-118.20312523320322%2C%2033.8747123166815%5D%2C%20%5B-118.20275572724118%2C%2033.87476280053086%5D%5D%5D%2C%20%22type%22%3A%20%22Polygon%22%7D%2C%20%22id%22%3A%20%2212516%22%2C%20%22properties%22%3A%20%7B%22direction_id%22%3A%20%221%22%2C%20%22last_loc%22%3A%2013655.0%2C%20%22shape_id%22%3A%20%22610105%22%2C%20%22shape_meters%22%3A%2014224.0%2C%20%22speed_mph%22%3A%2021.2%2C%20%22time%22%3A%20%2222%3A49%3A03%22%2C%20%22trip_id%22%3A%20%229288385%22%7D%2C%20%22type%22%3A%20%22Feature%22%7D%2C%20%7B%22bbox%22%3A%20%5B-118.20967086221575%2C%2033.87440351414836%2C%20-118.20275742287343%2C%2033.87476574635223%5D%2C%20%22geometry%22%3A%20%7B%22coordinates%22%3A%20%5B%5B%5B-118.20942112759039%2C%2033.87476574635223%5D%2C%20%5B-118.2029719218653%2C%2033.8747641672094%5D%2C%20%5B-118.20275742287343%2C%2033.87458247438686%5D%2C%20%5B-118.20297519664699%2C%2033.87440351414836%5D%2C%20%5B-118.20950104142854%2C%2033.87440854837156%5D%2C%20%5B-118.20967086221575%2C%2033.87462059671477%5D%2C%20%5B-118.20942112759039%2C%2033.87476574635223%5D%5D%5D%2C%20%22type%22%3A%20%22Polygon%22%7D%2C%20%22id%22%3A%20%2212517%22%2C%20%22properties%22%3A%20%7B%22direction_id%22%3A%20%221%22%2C%20%22last_loc%22%3A%2014224.0%2C%20%22shape_id%22%3A%20%22610105%22%2C%20%22shape_meters%22%3A%2014824.0%2C%20%22speed_mph%22%3A%2022.4%2C%20%22time%22%3A%20%2222%3A50%3A03%22%2C%20%22trip_id%22%3A%20%229288385%22%7D%2C%20%22type%22%3A%20%22Feature%22%7D%2C%20%7B%22bbox%22%3A%20%5B-118.21452350802697%2C%2033.874405083141035%2C%20-118.20924273030478%2C%2033.874765746550544%5D%2C%20%22geometry%22%3A%20%7B%22coordinates%22%3A%20%5B%5B%5B-118.21416807831405%2C%2033.87473170338231%5D%2C%20%5B-118.20945887158338%2C%2033.874765746550544%5D%2C%20%5B-118.20924273030478%2C%2033.87458541355916%5D%2C%20%5B-118.2094588742194%2C%2033.874405083141035%5D%2C%20%5B-118.21451905787691%2C%2033.87441956220432%5D%2C%20%5B-118.21452350802697%2C%2033.87467456272972%5D%2C%20%5B-118.21416807831405%2C%2033.87473170338231%5D%5D%5D%2C%20%22type%22%3A%20%22Polygon%22%7D%2C%20%22id%22%3A%20%2212518%22%2C%20%22properties%22%3A%20%7B%22direction_id%22%3A%20%221%22%2C%20%22last_loc%22%3A%2014824.0%2C%20%22shape_id%22%3A%20%22610105%22%2C%20%22shape_meters%22%3A%2015278.0%2C%20%22speed_mph%22%3A%2016.9%2C%20%22time%22%3A%20%2222%3A51%3A03%22%2C%20%22trip_id%22%3A%20%229288385%22%7D%2C%20%22type%22%3A%20%22Feature%22%7D%2C%20%7B%22bbox%22%3A%20%5B-118.21517786277523%2C%2033.87437695858112%2C%20-118.21412205024227%2C%2033.878800617304876%5D%2C%20%22geometry%22%3A%20%7B%22coordinates%22%3A%20%5B%5B%5B-118.21463483972362%2C%2033.87793008849261%5D%2C%20%5B-118.21412205024227%2C%2033.8745743986983%5D%2C%20%5B-118.21431552546625%2C%2033.87437695858112%5D%2C%20%5B-118.21458210052074%2C%2033.87469495513339%5D%2C%20%5B-118.21517786277523%2C%2033.87860627990402%5D%2C%20%5B-118.21503311330594%2C%2033.878800617304876%5D%2C%20%5B-118.214758907101%2C%2033.87868789497305%5D%2C%20%5B-118.21463483972362%2C%2033.87793008849261%5D%5D%5D%2C%20%22type%22%3A%20%22Polygon%22%7D%2C%20%22id%22%3A%20%2212519%22%2C%20%22properties%22%3A%20%7B%22direction_id%22%3A%20%221%22%2C%20%22last_loc%22%3A%2015278.0%2C%20%22shape_id%22%3A%20%22610105%22%2C%20%22shape_meters%22%3A%2015776.0%2C%20%22speed_mph%22%3A%2018.6%2C%20%22time%22%3A%20%2222%3A52%3A03%22%2C%20%22trip_id%22%3A%20%229288385%22%7D%2C%20%22type%22%3A%20%22Feature%22%7D%2C%20%7B%22bbox%22%3A%20%5B-118.21654372865856%2C%2033.878459132894776%2C%20-118.21489402187694%2C%2033.88166572361518%5D%2C%20%22geometry%22%3A%20%7B%22coordinates%22%3A%20%5B%5B%5B-118.21611687848659%2C%2033.88166572361518%5D%2C%20%5B-118.21536721647911%2C%2033.88164779135186%5D%2C%20%5B-118.21505388335989%2C%2033.881375546852816%5D%2C%20%5B-118.21489402187694%2C%2033.878459132894776%5D%2C%20%5B-118.21517786277523%2C%2033.87860627990402%5D%2C%20%5B-118.21547285499453%2C%2033.88128296071183%5D%2C%20%5B-118.21654372865856%2C%2033.88143020582856%5D%2C%20%5B-118.21611687848659%2C%2033.88166572361518%5D%5D%5D%2C%20%22type%22%3A%20%22Polygon%22%7D%2C%20%22id%22%3A%20%2212520%22%2C%20%22properties%22%3A%20%7B%22direction_id%22%3A%20%221%22%2C%20%22last_loc%22%3A%2015776.0%2C%20%22shape_id%22%3A%20%22610105%22%2C%20%22shape_meters%22%3A%2016148.0%2C%20%22speed_mph%22%3A%2013.9%2C%20%22time%22%3A%20%2222%3A53%3A03%22%2C%20%22trip_id%22%3A%20%229288385%22%7D%2C%20%22type%22%3A%20%22Feature%22%7D%2C%20%7B%22bbox%22%3A%20%5B-118.21728548763478%2C%2033.8813208726288%2C%20-118.21613003480655%2C%2033.88166172929989%5D%2C%20%22geometry%22%3A%20%7B%22coordinates%22%3A%20%5B%5B%5B-118.21698001907744%2C%2033.88166172929989%5D%2C%20%5B-118.2162762800968%2C%2033.88165690063853%5D%2C%20%5B-118.21613003480655%2C%2033.88143295157356%5D%2C%20%5B-118.2171943329557%2C%2033.8813208726288%5D%2C%20%5B-118.21728548763478%2C%2033.881564296569486%5D%2C%20%5B-118.21698001907744%2C%2033.88166172929989%5D%5D%5D%2C%20%22type%22%3A%20%22Polygon%22%7D%2C%20%22id%22%3A%20%2212521%22%2C%20%22properties%22%3A%20%7B%22direction_id%22%3A%20%221%22%2C%20%22last_loc%22%3A%2016148.0%2C%20%22shape_id%22%3A%20%22610105%22%2C%20%22shape_meters%22%3A%2016218.0%2C%20%22speed_mph%22%3A%202.6%2C%20%22time%22%3A%20%2222%3A54%3A03%22%2C%20%22trip_id%22%3A%20%229288385%22%7D%2C%20%22type%22%3A%20%22Feature%22%7D%2C%20%7B%22bbox%22%3A%20%5B-118.21850162489164%2C%2033.87859074941116%2C%20-118.21699369546445%2C%2033.881640525532895%5D%2C%20%22geometry%22%3A%20%7B%22coordinates%22%3A%20%5B%5B%5B-118.21840198651574%2C%2033.87957776036688%5D%2C%20%5B-118.21850162489164%2C%2033.88144489555095%5D%2C%20%5B-118.21815883926838%2C%2033.881640525532895%5D%2C%20%5B-118.21699369546445%2C%2033.88164034111902%5D%2C%20%5B-118.21700964548266%2C%2033.881314579461524%5D%2C%20%5B-118.21813318979295%2C%2033.881253756279264%5D%2C%20%5B-118.2179817349911%2C%2033.87859074941116%5D%2C%20%5B-118.2182563264138%2C%2033.87870281661002%5D%2C%20%5B-118.21840198651574%2C%2033.87957776036688%5D%5D%5D%2C%20%22type%22%3A%20%22Polygon%22%7D%2C%20%22id%22%3A%20%2212522%22%2C%20%22properties%22%3A%20%7B%22direction_id%22%3A%20%221%22%2C%20%22last_loc%22%3A%2016218.0%2C%20%22shape_id%22%3A%20%22610105%22%2C%20%22shape_meters%22%3A%2016584.0%2C%20%22speed_mph%22%3A%2013.7%2C%20%22time%22%3A%20%2222%3A55%3A03%22%2C%20%22trip_id%22%3A%20%229288385%22%7D%2C%20%22type%22%3A%20%22Feature%22%7D%2C%20%7B%22bbox%22%3A%20%5B-118.21846141638493%2C%2033.874608727728656%2C%20-118.21752130500997%2C%2033.87894130628714%5D%2C%20%22geometry%22%3A%20%7B%22coordinates%22%3A%20%5B%5B%5B-118.21818887009026%2C%2033.8764679326867%5D%2C%20%5B-118.21795843797594%2C%2033.87671536876827%5D%2C%20%5B-118.21826760090461%2C%2033.87877254668539%5D%2C%20%5B-118.21803841458802%2C%2033.87894130628714%5D%2C%20%5B-118.21752130500997%2C%2033.87669977408343%5D%2C%20%5B-118.2180392716289%2C%2033.87596908787307%5D%2C%20%5B-118.21766317412043%2C%2033.87480272912651%5D%2C%20%5B-118.21783697953755%2C%2033.874608727728656%5D%2C%20%5B-118.21807835203741%2C%2033.87471733775943%5D%2C%20%5B-118.21846141638493%2C%2033.875791704058884%5D%2C%20%5B-118.21818887009026%2C%2033.8764679326867%5D%5D%5D%2C%20%22type%22%3A%20%22Polygon%22%7D%2C%20%22id%22%3A%20%2212523%22%2C%20%22properties%22%3A%20%7B%22direction_id%22%3A%20%221%22%2C%20%22last_loc%22%3A%2016584.0%2C%20%22shape_id%22%3A%20%22610105%22%2C%20%22shape_meters%22%3A%2017045.0%2C%20%22speed_mph%22%3A%2017.2%2C%20%22time%22%3A%20%2222%3A56%3A03%22%2C%20%22trip_id%22%3A%20%229288385%22%7D%2C%20%22type%22%3A%20%22Feature%22%7D%2C%20%7B%22bbox%22%3A%20%5B-118.22198464115411%2C%2033.87431451809324%2C%20-118.21757634267625%2C%2033.87496512063452%5D%2C%20%22geometry%22%3A%20%7B%22coordinates%22%3A%20%5B%5B%5B-118.22157151358799%2C%2033.87496195884386%5D%2C%20%5B-118.218975784718%2C%2033.874674746389914%5D%2C%20%5B-118.21806978740712%2C%2033.87469043240151%5D%2C%20%5B-118.21785636456177%2C%2033.87496512063452%5D%2C%20%5B-118.21757634267625%2C%2033.874523440504554%5D%2C%20%5B-118.21798049791376%2C%2033.87433320779337%5D%2C%20%5B-118.21917961615429%2C%2033.87431451809324%5D%2C%20%5B-118.22198464115411%2C%2033.874703859536936%5D%2C%20%5B-118.2219378245948%2C%2033.87495587807795%5D%2C%20%5B-118.22157151358799%2C%2033.87496195884386%5D%5D%5D%2C%20%22type%22%3A%20%22Polygon%22%7D%2C%20%22id%22%3A%20%2212524%22%2C%20%22properties%22%3A%20%7B%22direction_id%22%3A%20%221%22%2C%20%22last_loc%22%3A%2017045.0%2C%20%22shape_id%22%3A%20%22610105%22%2C%20%22shape_meters%22%3A%2017511.0%2C%20%22speed_mph%22%3A%2017.4%2C%20%22time%22%3A%20%2222%3A57%3A03%22%2C%20%22trip_id%22%3A%20%229288385%22%7D%2C%20%22type%22%3A%20%22Feature%22%7D%2C%20%7B%22bbox%22%3A%20%5B-118.22476453531245%2C%2033.87466906942857%2C%20-118.22163743325868%2C%2033.87677109646145%5D%2C%20%22geometry%22%3A%20%7B%22coordinates%22%3A%20%5B%5B%5B-118.22436866744529%2C%2033.87649038549489%5D%2C%20%5B-118.22433590958906%2C%2033.874995472319135%5D%2C%20%5B-118.22252835238503%2C%2033.87507377010239%5D%2C%20%5B-118.22171651768183%2C%2033.874972851771496%5D%2C%20%5B-118.22163743325868%2C%2033.87470197550173%5D%2C%20%5B-118.22469424914466%2C%2033.87466906942857%5D%2C%20%5B-118.22476453531245%2C%2033.876721343812925%5D%2C%20%5B-118.22446472857759%2C%2033.87677109646145%5D%2C%20%5B-118.22436866744529%2C%2033.87649038549489%5D%5D%5D%2C%20%22type%22%3A%20%22Polygon%22%7D%2C%20%22id%22%3A%20%2212525%22%2C%20%22properties%22%3A%20%7B%22direction_id%22%3A%20%221%22%2C%20%22last_loc%22%3A%2017511.0%2C%20%22shape_id%22%3A%20%22610105%22%2C%20%22shape_meters%22%3A%2018017.0%2C%20%22speed_mph%22%3A%2018.9%2C%20%22time%22%3A%20%2222%3A58%3A03%22%2C%20%22trip_id%22%3A%20%229288385%22%7D%2C%20%22type%22%3A%20%22Feature%22%7D%2C%20%7B%22bbox%22%3A%20%5B-118.2246027813913%2C%2033.87492058130109%2C%20-118.2222529169277%2C%2033.876689219154954%5D%2C%20%22geometry%22%3A%20%7B%22coordinates%22%3A%20%5B%5B%5B-118.22363246552258%2C%2033.87638983814712%5D%2C%20%5B-118.22445217307418%2C%2033.876378255413115%5D%2C%20%5B-118.2246027813913%2C%2033.87660017960864%5D%2C%20%5B-118.22332460802963%2C%2033.876689219154954%5D%2C%20%5B-118.22303926562222%2C%2033.875321592512435%5D%2C%20%5B-118.222692703421%2C%2033.87537643899682%5D%2C%20%5B-118.22276706488434%2C%2033.87604812295662%5D%2C%20%5B-118.22231489416595%2C%2033.8758047105027%5D%2C%20%5B-118.2222529169277%2C%2033.87536426016002%5D%2C%20%5B-118.22251438582902%2C%2033.8750095686054%5D%2C%20%5B-118.22301271910952%2C%2033.87492058130109%5D%2C%20%5B-118.22340850040877%2C%2033.875130749543686%5D%2C%20%5B-118.22363246552258%2C%2033.87638983814712%5D%5D%5D%2C%20%22type%22%3A%20%22Polygon%22%7D%2C%20%22id%22%3A%20%2212526%22%2C%20%22properties%22%3A%20%7B%22direction_id%22%3A%20%221%22%2C%20%22last_loc%22%3A%2018017.0%2C%20%22shape_id%22%3A%20%22610105%22%2C%20%22shape_meters%22%3A%2018411.0%2C%20%22speed_mph%22%3A%207.2%2C%20%22time%22%3A%20%2223%3A00%3A05%22%2C%20%22trip_id%22%3A%20%229288385%22%7D%2C%20%22type%22%3A%20%22Feature%22%7D%5D%2C%20%22type%22%3A%20%22FeatureCollection%22%7D%29%3B%0A%0A%20%20%20%20%20%20%20%20%0A%20%20%20%20%0A%20%20%20%20geo_json_c5a7e29fcd6f4c72bac57cfce22c90ec.bindTooltip%28%0A%20%20%20%20function%28layer%29%7B%0A%20%20%20%20let%20div%20%3D%20L.DomUtil.create%28%27div%27%29%3B%0A%20%20%20%20%0A%20%20%20%20let%20handleObject%20%3D%20feature%3D%3Etypeof%28feature%29%3D%3D%27object%27%20%3F%20JSON.stringify%28feature%29%20%3A%20feature%3B%0A%20%20%20%20let%20fields%20%3D%20%5B%22speed_mph%22%2C%20%22shape_meters%22%2C%20%22shape_id%22%2C%20%22direction_id%22%2C%20%22trip_id%22%2C%20%22time%22%5D%3B%0A%20%20%20%20let%20aliases%20%3D%20%5B%22Speed%20%28miles%20per%20hour%29%22%2C%20%22Distance%20along%20route%20%28meters%29%22%2C%20%22Shape%20ID%22%2C%20%22Direction%20ID%22%2C%20%22Trip%20ID%22%2C%20%22Time%22%5D%3B%0A%20%20%20%20let%20table%20%3D%20%27%3Ctable%3E%27%20%2B%0A%20%20%20%20%20%20%20%20String%28%0A%20%20%20%20%20%20%20%20fields.map%28%0A%20%20%20%20%20%20%20%20%28v%2Ci%29%3D%3E%0A%20%20%20%20%20%20%20%20%60%3Ctr%3E%0A%20%20%20%20%20%20%20%20%20%20%20%20%3Cth%3E%24%7Baliases%5Bi%5D%7D%3C/th%3E%0A%20%20%20%20%20%20%20%20%20%20%20%20%0A%20%20%20%20%20%20%20%20%20%20%20%20%3Ctd%3E%24%7BhandleObject%28layer.feature.properties%5Bv%5D%29%7D%3C/td%3E%0A%20%20%20%20%20%20%20%20%3C/tr%3E%60%29.join%28%27%27%29%29%0A%20%20%20%20%2B%27%3C/table%3E%27%3B%0A%20%20%20%20div.innerHTML%3Dtable%3B%0A%20%20%20%20%0A%20%20%20%20return%20div%0A%20%20%20%20%7D%0A%20%20%20%20%2C%7B%22className%22%3A%20%22foliumtooltip%22%2C%20%22maxWidth%22%3A%20100%2C%20%22minWidth%22%3A%2050%2C%20%22sticky%22%3A%20false%7D%29%3B%0A%20%20%20%20%20%20%20%20%20%20%20%20%20%20%20%20%20%20%20%20%20%0A%20%20%20%20%0A%20%20%20%20geo_json_c5a7e29fcd6f4c72bac57cfce22c90ec.bindPopup%28%0A%20%20%20%20function%28layer%29%7B%0A%20%20%20%20let%20div%20%3D%20L.DomUtil.create%28%27div%27%29%3B%0A%20%20%20%20%0A%20%20%20%20let%20handleObject%20%3D%20feature%3D%3Etypeof%28feature%29%3D%3D%27object%27%20%3F%20JSON.stringify%28feature%29%20%3A%20feature%3B%0A%20%20%20%20let%20fields%20%3D%20%5B%22speed_mph%22%2C%20%22shape_meters%22%2C%20%22shape_id%22%2C%20%22direction_id%22%2C%20%22trip_id%22%2C%20%22time%22%5D%3B%0A%20%20%20%20let%20aliases%20%3D%20%5B%22Speed%20%28miles%20per%20hour%29%22%2C%20%22Distance%20along%20route%20%28meters%29%22%2C%20%22Shape%20ID%22%2C%20%22Direction%20ID%22%2C%20%22Trip%20ID%22%2C%20%22Time%22%5D%3B%0A%20%20%20%20let%20table%20%3D%20%27%3Ctable%3E%27%20%2B%0A%20%20%20%20%20%20%20%20String%28%0A%20%20%20%20%20%20%20%20fields.map%28%0A%20%20%20%20%20%20%20%20%28v%2Ci%29%3D%3E%0A%20%20%20%20%20%20%20%20%60%3Ctr%3E%0A%20%20%20%20%20%20%20%20%20%20%20%20%3Cth%3E%24%7Baliases%5Bi%5D.toLocaleString%28%29%7D%3C/th%3E%0A%20%20%20%20%20%20%20%20%20%20%20%20%0A%20%20%20%20%20%20%20%20%20%20%20%20%3Ctd%3E%24%7BhandleObject%28layer.feature.properties%5Bv%5D%29.toLocaleString%28%29%7D%3C/td%3E%0A%20%20%20%20%20%20%20%20%3C/tr%3E%60%29.join%28%27%27%29%29%0A%20%20%20%20%2B%27%3C/table%3E%27%3B%0A%20%20%20%20div.innerHTML%3Dtable%3B%0A%20%20%20%20%0A%20%20%20%20return%20div%0A%20%20%20%20%7D%0A%20%20%20%20%2C%7B%22className%22%3A%20%22foliumpopup%22%2C%20%22maxWidth%22%3A%20100%2C%20%22minWidth%22%3A%2050%7D%29%3B%0A%20%20%20%20%20%20%20%20%20%20%20%20%20%20%20%20%20%20%20%20%20%0A%20%20%20%20%0A%20%20%20%20var%20color_map_5d9cac8140ea4390af6cce3ce0425dec%20%3D%20%7B%7D%3B%0A%0A%20%20%20%20%0A%20%20%20%20color_map_5d9cac8140ea4390af6cce3ce0425dec.color%20%3D%20d3.scale.threshold%28%29%0A%20%20%20%20%20%20%20%20%20%20%20%20%20%20.domain%28%5B0.3%2C%200.35811623246492985%2C%200.4162324649298597%2C%200.4743486973947896%2C%200.5324649298597195%2C%200.5905811623246493%2C%200.6486973947895791%2C%200.706813627254509%2C%200.7649298597194389%2C%200.8230460921843687%2C%200.8811623246492986%2C%200.9392785571142284%2C%200.9973947895791584%2C%201.0555110220440882%2C%201.113627254509018%2C%201.1717434869739478%2C%201.2298597194388778%2C%201.2879759519038076%2C%201.3460921843687375%2C%201.4042084168336675%2C%201.4623246492985973%2C%201.520440881763527%2C%201.578557114228457%2C%201.6366733466933867%2C%201.6947895791583167%2C%201.7529058116232465%2C%201.8110220440881764%2C%201.8691382765531062%2C%201.9272545090180362%2C%201.985370741482966%2C%202.043486973947896%2C%202.1016032064128254%2C%202.1597194388777554%2C%202.2178356713426854%2C%202.275951903807615%2C%202.334068136272545%2C%202.3921843687374746%2C%202.4503006012024047%2C%202.5084168336673347%2C%202.5665330661322643%2C%202.6246492985971943%2C%202.682765531062124%2C%202.740881763527054%2C%202.798997995991984%2C%202.8571142284569135%2C%202.9152304609218436%2C%202.973346693386773%2C%203.031462925851703%2C%203.089579158316633%2C%203.147695390781563%2C%203.205811623246493%2C%203.263927855711423%2C%203.3220440881763524%2C%203.3801603206412825%2C%203.438276553106212%2C%203.496392785571142%2C%203.554509018036072%2C%203.6126252505010017%2C%203.6707414829659317%2C%203.7288577154308618%2C%203.7869739478957913%2C%203.8450901803607214%2C%203.903206412825651%2C%203.961322645290581%2C%204.019438877755511%2C%204.077555110220441%2C%204.135671342685371%2C%204.1937875751503%2C%204.25190380761523%2C%204.31002004008016%2C%204.36813627254509%2C%204.426252505010019%2C%204.4843687374749495%2C%204.5424849699398795%2C%204.6006012024048095%2C%204.6587174348697395%2C%204.71683366733467%2C%204.774949899799599%2C%204.833066132264529%2C%204.891182364729459%2C%204.949298597194389%2C%205.007414829659319%2C%205.065531062124248%2C%205.123647294589178%2C%205.181763527054108%2C%205.239879759519038%2C%205.297995991983968%2C%205.356112224448897%2C%205.414228456913827%2C%205.472344689378757%2C%205.530460921843687%2C%205.588577154308617%2C%205.6466933867735465%2C%205.7048096192384765%2C%205.7629258517034065%2C%205.821042084168337%2C%205.879158316633267%2C%205.937274549098197%2C%205.995390781563126%2C%206.053507014028056%2C%206.111623246492986%2C%206.169739478957916%2C%206.227855711422846%2C%206.285971943887775%2C%206.344088176352705%2C%206.402204408817635%2C%206.460320641282565%2C%206.518436873747495%2C%206.576553106212424%2C%206.634669338677354%2C%206.692785571142284%2C%206.750901803607214%2C%206.809018036072144%2C%206.8671342685370735%2C%206.925250501002004%2C%206.983366733466934%2C%207.041482965931864%2C%207.099599198396794%2C%207.157715430861724%2C%207.215831663326653%2C%207.273947895791583%2C%207.332064128256513%2C%207.390180360721443%2C%207.448296593186373%2C%207.506412825651302%2C%207.564529058116232%2C%207.622645290581162%2C%207.680761523046092%2C%207.738877755511022%2C%207.796993987975951%2C%207.855110220440881%2C%207.913226452905811%2C%207.971342685370741%2C%208.029458917835672%2C%208.087575150300601%2C%208.14569138276553%2C%208.203807615230462%2C%208.26192384769539%2C%208.320040080160322%2C%208.37815631262525%2C%208.436272545090182%2C%208.49438877755511%2C%208.55250501002004%2C%208.61062124248497%2C%208.6687374749499%2C%208.726853707414831%2C%208.78496993987976%2C%208.843086172344691%2C%208.90120240480962%2C%208.95931863727455%2C%209.01743486973948%2C%209.07555110220441%2C%209.13366733466934%2C%209.19178356713427%2C%209.249899799599199%2C%209.30801603206413%2C%209.366132264529059%2C%209.42424849699399%2C%209.482364729458919%2C%209.540480961923848%2C%209.598597194388779%2C%209.656713426853708%2C%209.714829659318639%2C%209.772945891783568%2C%209.831062124248497%2C%209.889178356713428%2C%209.947294589178357%2C%2010.005410821643288%2C%2010.063527054108217%2C%2010.121643286573146%2C%2010.179759519038077%2C%2010.237875751503006%2C%2010.295991983967937%2C%2010.354108216432866%2C%2010.412224448897796%2C%2010.470340681362726%2C%2010.528456913827656%2C%2010.586573146292587%2C%2010.644689378757516%2C%2010.702805611222445%2C%2010.760921843687376%2C%2010.819038076152305%2C%2010.877154308617236%2C%2010.935270541082165%2C%2010.993386773547094%2C%2011.051503006012025%2C%2011.109619238476954%2C%2011.167735470941885%2C%2011.225851703406814%2C%2011.283967935871745%2C%2011.342084168336674%2C%2011.400200400801603%2C%2011.458316633266534%2C%2011.516432865731463%2C%2011.574549098196394%2C%2011.632665330661323%2C%2011.690781563126253%2C%2011.748897795591184%2C%2011.807014028056113%2C%2011.865130260521044%2C%2011.923246492985973%2C%2011.981362725450902%2C%2012.039478957915833%2C%2012.097595190380762%2C%2012.155711422845693%2C%2012.213827655310622%2C%2012.271943887775551%2C%2012.330060120240482%2C%2012.388176352705411%2C%2012.446292585170342%2C%2012.504408817635271%2C%2012.5625250501002%2C%2012.620641282565131%2C%2012.67875751503006%2C%2012.736873747494991%2C%2012.79498997995992%2C%2012.85310621242485%2C%2012.91122244488978%2C%2012.96933867735471%2C%2013.02745490981964%2C%2013.08557114228457%2C%2013.143687374749499%2C%2013.20180360721443%2C%2013.259919839679359%2C%2013.31803607214429%2C%2013.376152304609219%2C%2013.434268537074148%2C%2013.492384769539079%2C%2013.550501002004008%2C%2013.60861723446894%2C%2013.666733466933868%2C%2013.7248496993988%2C%2013.782965931863728%2C%2013.841082164328657%2C%2013.899198396793588%2C%2013.957314629258518%2C%2014.015430861723448%2C%2014.073547094188378%2C%2014.131663326653307%2C%2014.189779559118238%2C%2014.247895791583167%2C%2014.306012024048098%2C%2014.364128256513027%2C%2014.422244488977956%2C%2014.480360721442887%2C%2014.538476953907816%2C%2014.596593186372747%2C%2014.654709418837676%2C%2014.712825651302605%2C%2014.770941883767536%2C%2014.829058116232465%2C%2014.887174348697396%2C%2014.945290581162325%2C%2015.003406813627254%2C%2015.061523046092185%2C%2015.119639278557115%2C%2015.177755511022045%2C%2015.235871743486975%2C%2015.293987975951904%2C%2015.352104208416835%2C%2015.410220440881764%2C%2015.468336673346695%2C%2015.526452905811624%2C%2015.584569138276553%2C%2015.642685370741484%2C%2015.700801603206413%2C%2015.758917835671344%2C%2015.817034068136273%2C%2015.875150300601202%2C%2015.933266533066133%2C%2015.991382765531062%2C%2016.049498997995993%2C%2016.107615230460922%2C%2016.16573146292585%2C%2016.22384769539078%2C%2016.28196392785571%2C%2016.340080160320642%2C%2016.39819639278557%2C%2016.4563126252505%2C%2016.51442885771543%2C%2016.572545090180363%2C%2016.63066132264529%2C%2016.68877755511022%2C%2016.74689378757515%2C%2016.80501002004008%2C%2016.863126252505012%2C%2016.92124248496994%2C%2016.97935871743487%2C%2017.0374749498998%2C%2017.09559118236473%2C%2017.15370741482966%2C%2017.21182364729459%2C%2017.26993987975952%2C%2017.32805611222445%2C%2017.38617234468938%2C%2017.44428857715431%2C%2017.50240480961924%2C%2017.56052104208417%2C%2017.618637274549098%2C%2017.67675350701403%2C%2017.73486973947896%2C%2017.79298597194389%2C%2017.851102204408818%2C%2017.909218436873747%2C%2017.96733466933868%2C%2018.02545090180361%2C%2018.083567134268538%2C%2018.141683366733467%2C%2018.199799599198396%2C%2018.25791583166333%2C%2018.316032064128258%2C%2018.374148296593187%2C%2018.432264529058116%2C%2018.490380761523046%2C%2018.54849699398798%2C%2018.606613226452907%2C%2018.664729458917837%2C%2018.722845691382766%2C%2018.780961923847695%2C%2018.839078156312627%2C%2018.897194388777557%2C%2018.955310621242486%2C%2019.013426853707415%2C%2019.071543086172344%2C%2019.129659318637277%2C%2019.187775551102206%2C%2019.245891783567135%2C%2019.304008016032064%2C%2019.362124248496993%2C%2019.420240480961926%2C%2019.478356713426855%2C%2019.536472945891784%2C%2019.594589178356713%2C%2019.652705410821643%2C%2019.710821643286575%2C%2019.768937875751504%2C%2019.827054108216434%2C%2019.885170340681363%2C%2019.943286573146292%2C%2020.001402805611225%2C%2020.059519038076154%2C%2020.117635270541083%2C%2020.175751503006012%2C%2020.23386773547094%2C%2020.291983967935874%2C%2020.350100200400803%2C%2020.408216432865732%2C%2020.46633266533066%2C%2020.52444889779559%2C%2020.582565130260523%2C%2020.640681362725452%2C%2020.69879759519038%2C%2020.75691382765531%2C%2020.81503006012024%2C%2020.873146292585172%2C%2020.9312625250501%2C%2020.98937875751503%2C%2021.04749498997996%2C%2021.10561122244489%2C%2021.16372745490982%2C%2021.22184368737475%2C%2021.27995991983968%2C%2021.33807615230461%2C%2021.396192384769538%2C%2021.45430861723447%2C%2021.5124248496994%2C%2021.57054108216433%2C%2021.62865731462926%2C%2021.686773547094187%2C%2021.74488977955912%2C%2021.80300601202405%2C%2021.86112224448898%2C%2021.919238476953907%2C%2021.977354709418837%2C%2022.03547094188377%2C%2022.0935871743487%2C%2022.151703406813628%2C%2022.209819639278557%2C%2022.26793587174349%2C%2022.32605210420842%2C%2022.384168336673348%2C%2022.442284569138277%2C%2022.500400801603206%2C%2022.55851703406814%2C%2022.616633266533068%2C%2022.674749498997997%2C%2022.732865731462926%2C%2022.790981963927855%2C%2022.849098196392788%2C%2022.907214428857717%2C%2022.965330661322646%2C%2023.023446893787575%2C%2023.081563126252505%2C%2023.139679358717437%2C%2023.197795591182366%2C%2023.255911823647295%2C%2023.314028056112225%2C%2023.372144288577154%2C%2023.430260521042086%2C%2023.488376753507016%2C%2023.546492985971945%2C%2023.604609218436874%2C%2023.662725450901803%2C%2023.720841683366736%2C%2023.778957915831665%2C%2023.837074148296594%2C%2023.895190380761523%2C%2023.953306613226452%2C%2024.011422845691385%2C%2024.069539078156314%2C%2024.127655310621243%2C%2024.185771543086172%2C%2024.2438877755511%2C%2024.302004008016034%2C%2024.360120240480963%2C%2024.418236472945893%2C%2024.47635270541082%2C%2024.53446893787575%2C%2024.592585170340683%2C%2024.650701402805613%2C%2024.70881763527054%2C%2024.76693386773547%2C%2024.8250501002004%2C%2024.883166332665333%2C%2024.941282565130262%2C%2024.99939879759519%2C%2025.05751503006012%2C%2025.11563126252505%2C%2025.173747494989982%2C%2025.23186372745491%2C%2025.28997995991984%2C%2025.34809619238477%2C%2025.4062124248497%2C%2025.46432865731463%2C%2025.52244488977956%2C%2025.58056112224449%2C%2025.63867735470942%2C%2025.696793587174348%2C%2025.75490981963928%2C%2025.81302605210421%2C%2025.87114228456914%2C%2025.929258517034068%2C%2025.987374749498997%2C%2026.04549098196393%2C%2026.10360721442886%2C%2026.161723446893788%2C%2026.219839679358717%2C%2026.277955911823646%2C%2026.33607214428858%2C%2026.394188376753508%2C%2026.452304609218437%2C%2026.510420841683366%2C%2026.568537074148296%2C%2026.62665330661323%2C%2026.684769539078157%2C%2026.742885771543087%2C%2026.801002004008016%2C%2026.859118236472945%2C%2026.917234468937878%2C%2026.975350701402807%2C%2027.033466933867736%2C%2027.091583166332665%2C%2027.149699398797598%2C%2027.207815631262527%2C%2027.265931863727456%2C%2027.324048096192385%2C%2027.382164328657314%2C%2027.440280561122247%2C%2027.498396793587176%2C%2027.556513026052105%2C%2027.614629258517034%2C%2027.672745490981963%2C%2027.730861723446896%2C%2027.788977955911825%2C%2027.847094188376754%2C%2027.905210420841684%2C%2027.963326653306613%2C%2028.021442885771545%2C%2028.079559118236475%2C%2028.137675350701404%2C%2028.195791583166333%2C%2028.253907815631262%2C%2028.312024048096195%2C%2028.370140280561124%2C%2028.428256513026053%2C%2028.486372745490982%2C%2028.54448897795591%2C%2028.602605210420844%2C%2028.660721442885773%2C%2028.718837675350702%2C%2028.77695390781563%2C%2028.83507014028056%2C%2028.893186372745493%2C%2028.951302605210422%2C%2029.00941883767535%2C%2029.06753507014028%2C%2029.12565130260521%2C%2029.183767535070142%2C%2029.24188376753507%2C%2029.3%5D%29%0A%20%20%20%20%20%20%20%20%20%20%20%20%20%20.range%28%5B%27%23d73027ff%27%2C%20%27%23d73027ff%27%2C%20%27%23d73027ff%27%2C%20%27%23d73027ff%27%2C%20%27%23d73027ff%27%2C%20%27%23d73027ff%27%2C%20%27%23d73027ff%27%2C%20%27%23d73027ff%27%2C%20%27%23d73027ff%27%2C%20%27%23d73027ff%27%2C%20%27%23d73027ff%27%2C%20%27%23d73027ff%27%2C%20%27%23d73027ff%27%2C%20%27%23d73027ff%27%2C%20%27%23d73027ff%27%2C%20%27%23d73027ff%27%2C%20%27%23d73027ff%27%2C%20%27%23d73027ff%27%2C%20%27%23d73027ff%27%2C%20%27%23d73027ff%27%2C%20%27%23d73027ff%27%2C%20%27%23d73027ff%27%2C%20%27%23d73027ff%27%2C%20%27%23d73027ff%27%2C%20%27%23d73027ff%27%2C%20%27%23d73027ff%27%2C%20%27%23d73027ff%27%2C%20%27%23d73027ff%27%2C%20%27%23d73027ff%27%2C%20%27%23d73027ff%27%2C%20%27%23d73027ff%27%2C%20%27%23d73027ff%27%2C%20%27%23d73027ff%27%2C%20%27%23d73027ff%27%2C%20%27%23d73027ff%27%2C%20%27%23d73027ff%27%2C%20%27%23d73027ff%27%2C%20%27%23d73027ff%27%2C%20%27%23d73027ff%27%2C%20%27%23d73027ff%27%2C%20%27%23d73027ff%27%2C%20%27%23d73027ff%27%2C%20%27%23d73027ff%27%2C%20%27%23d73027ff%27%2C%20%27%23d73027ff%27%2C%20%27%23d73027ff%27%2C%20%27%23d73027ff%27%2C%20%27%23d73027ff%27%2C%20%27%23d73027ff%27%2C%20%27%23d73027ff%27%2C%20%27%23d73027ff%27%2C%20%27%23d73027ff%27%2C%20%27%23d73027ff%27%2C%20%27%23d73027ff%27%2C%20%27%23d73027ff%27%2C%20%27%23d73027ff%27%2C%20%27%23d73027ff%27%2C%20%27%23d73027ff%27%2C%20%27%23d73027ff%27%2C%20%27%23d73027ff%27%2C%20%27%23d73027ff%27%2C%20%27%23d73027ff%27%2C%20%27%23d73027ff%27%2C%20%27%23f46d43ff%27%2C%20%27%23f46d43ff%27%2C%20%27%23f46d43ff%27%2C%20%27%23f46d43ff%27%2C%20%27%23f46d43ff%27%2C%20%27%23f46d43ff%27%2C%20%27%23f46d43ff%27%2C%20%27%23f46d43ff%27%2C%20%27%23f46d43ff%27%2C%20%27%23f46d43ff%27%2C%20%27%23f46d43ff%27%2C%20%27%23f46d43ff%27%2C%20%27%23f46d43ff%27%2C%20%27%23f46d43ff%27%2C%20%27%23f46d43ff%27%2C%20%27%23f46d43ff%27%2C%20%27%23f46d43ff%27%2C%20%27%23f46d43ff%27%2C%20%27%23f46d43ff%27%2C%20%27%23f46d43ff%27%2C%20%27%23f46d43ff%27%2C%20%27%23f46d43ff%27%2C%20%27%23f46d43ff%27%2C%20%27%23f46d43ff%27%2C%20%27%23f46d43ff%27%2C%20%27%23f46d43ff%27%2C%20%27%23f46d43ff%27%2C%20%27%23f46d43ff%27%2C%20%27%23f46d43ff%27%2C%20%27%23f46d43ff%27%2C%20%27%23f46d43ff%27%2C%20%27%23f46d43ff%27%2C%20%27%23f46d43ff%27%2C%20%27%23f46d43ff%27%2C%20%27%23f46d43ff%27%2C%20%27%23f46d43ff%27%2C%20%27%23f46d43ff%27%2C%20%27%23f46d43ff%27%2C%20%27%23f46d43ff%27%2C%20%27%23f46d43ff%27%2C%20%27%23f46d43ff%27%2C%20%27%23f46d43ff%27%2C%20%27%23f46d43ff%27%2C%20%27%23f46d43ff%27%2C%20%27%23f46d43ff%27%2C%20%27%23f46d43ff%27%2C%20%27%23f46d43ff%27%2C%20%27%23f46d43ff%27%2C%20%27%23f46d43ff%27%2C%20%27%23f46d43ff%27%2C%20%27%23f46d43ff%27%2C%20%27%23f46d43ff%27%2C%20%27%23f46d43ff%27%2C%20%27%23f46d43ff%27%2C%20%27%23f46d43ff%27%2C%20%27%23f46d43ff%27%2C%20%27%23f46d43ff%27%2C%20%27%23f46d43ff%27%2C%20%27%23f46d43ff%27%2C%20%27%23f46d43ff%27%2C%20%27%23f46d43ff%27%2C%20%27%23f46d43ff%27%2C%20%27%23fdae61ff%27%2C%20%27%23fdae61ff%27%2C%20%27%23fdae61ff%27%2C%20%27%23fdae61ff%27%2C%20%27%23fdae61ff%27%2C%20%27%23fdae61ff%27%2C%20%27%23fdae61ff%27%2C%20%27%23fdae61ff%27%2C%20%27%23fdae61ff%27%2C%20%27%23fdae61ff%27%2C%20%27%23fdae61ff%27%2C%20%27%23fdae61ff%27%2C%20%27%23fdae61ff%27%2C%20%27%23fdae61ff%27%2C%20%27%23fdae61ff%27%2C%20%27%23fdae61ff%27%2C%20%27%23fdae61ff%27%2C%20%27%23fdae61ff%27%2C%20%27%23fdae61ff%27%2C%20%27%23fdae61ff%27%2C%20%27%23fdae61ff%27%2C%20%27%23fdae61ff%27%2C%20%27%23fdae61ff%27%2C%20%27%23fdae61ff%27%2C%20%27%23fdae61ff%27%2C%20%27%23fdae61ff%27%2C%20%27%23fdae61ff%27%2C%20%27%23fdae61ff%27%2C%20%27%23fdae61ff%27%2C%20%27%23fdae61ff%27%2C%20%27%23fdae61ff%27%2C%20%27%23fdae61ff%27%2C%20%27%23fdae61ff%27%2C%20%27%23fdae61ff%27%2C%20%27%23fdae61ff%27%2C%20%27%23fdae61ff%27%2C%20%27%23fdae61ff%27%2C%20%27%23fdae61ff%27%2C%20%27%23fdae61ff%27%2C%20%27%23fdae61ff%27%2C%20%27%23fdae61ff%27%2C%20%27%23fdae61ff%27%2C%20%27%23fdae61ff%27%2C%20%27%23fdae61ff%27%2C%20%27%23fdae61ff%27%2C%20%27%23fdae61ff%27%2C%20%27%23fdae61ff%27%2C%20%27%23fdae61ff%27%2C%20%27%23fdae61ff%27%2C%20%27%23fdae61ff%27%2C%20%27%23fdae61ff%27%2C%20%27%23fdae61ff%27%2C%20%27%23fdae61ff%27%2C%20%27%23fdae61ff%27%2C%20%27%23fdae61ff%27%2C%20%27%23fdae61ff%27%2C%20%27%23fdae61ff%27%2C%20%27%23fdae61ff%27%2C%20%27%23fdae61ff%27%2C%20%27%23fdae61ff%27%2C%20%27%23fdae61ff%27%2C%20%27%23fdae61ff%27%2C%20%27%23fdae61ff%27%2C%20%27%23fee08bff%27%2C%20%27%23fee08bff%27%2C%20%27%23fee08bff%27%2C%20%27%23fee08bff%27%2C%20%27%23fee08bff%27%2C%20%27%23fee08bff%27%2C%20%27%23fee08bff%27%2C%20%27%23fee08bff%27%2C%20%27%23fee08bff%27%2C%20%27%23fee08bff%27%2C%20%27%23fee08bff%27%2C%20%27%23fee08bff%27%2C%20%27%23fee08bff%27%2C%20%27%23fee08bff%27%2C%20%27%23fee08bff%27%2C%20%27%23fee08bff%27%2C%20%27%23fee08bff%27%2C%20%27%23fee08bff%27%2C%20%27%23fee08bff%27%2C%20%27%23fee08bff%27%2C%20%27%23fee08bff%27%2C%20%27%23fee08bff%27%2C%20%27%23fee08bff%27%2C%20%27%23fee08bff%27%2C%20%27%23fee08bff%27%2C%20%27%23fee08bff%27%2C%20%27%23fee08bff%27%2C%20%27%23fee08bff%27%2C%20%27%23fee08bff%27%2C%20%27%23fee08bff%27%2C%20%27%23fee08bff%27%2C%20%27%23fee08bff%27%2C%20%27%23fee08bff%27%2C%20%27%23fee08bff%27%2C%20%27%23fee08bff%27%2C%20%27%23fee08bff%27%2C%20%27%23fee08bff%27%2C%20%27%23fee08bff%27%2C%20%27%23fee08bff%27%2C%20%27%23fee08bff%27%2C%20%27%23fee08bff%27%2C%20%27%23fee08bff%27%2C%20%27%23fee08bff%27%2C%20%27%23fee08bff%27%2C%20%27%23fee08bff%27%2C%20%27%23fee08bff%27%2C%20%27%23fee08bff%27%2C%20%27%23fee08bff%27%2C%20%27%23fee08bff%27%2C%20%27%23fee08bff%27%2C%20%27%23fee08bff%27%2C%20%27%23fee08bff%27%2C%20%27%23fee08bff%27%2C%20%27%23fee08bff%27%2C%20%27%23fee08bff%27%2C%20%27%23fee08bff%27%2C%20%27%23fee08bff%27%2C%20%27%23fee08bff%27%2C%20%27%23fee08bff%27%2C%20%27%23fee08bff%27%2C%20%27%23fee08bff%27%2C%20%27%23fee08bff%27%2C%20%27%23d9ef8bff%27%2C%20%27%23d9ef8bff%27%2C%20%27%23d9ef8bff%27%2C%20%27%23d9ef8bff%27%2C%20%27%23d9ef8bff%27%2C%20%27%23d9ef8bff%27%2C%20%27%23d9ef8bff%27%2C%20%27%23d9ef8bff%27%2C%20%27%23d9ef8bff%27%2C%20%27%23d9ef8bff%27%2C%20%27%23d9ef8bff%27%2C%20%27%23d9ef8bff%27%2C%20%27%23d9ef8bff%27%2C%20%27%23d9ef8bff%27%2C%20%27%23d9ef8bff%27%2C%20%27%23d9ef8bff%27%2C%20%27%23d9ef8bff%27%2C%20%27%23d9ef8bff%27%2C%20%27%23d9ef8bff%27%2C%20%27%23d9ef8bff%27%2C%20%27%23d9ef8bff%27%2C%20%27%23d9ef8bff%27%2C%20%27%23d9ef8bff%27%2C%20%27%23d9ef8bff%27%2C%20%27%23d9ef8bff%27%2C%20%27%23d9ef8bff%27%2C%20%27%23d9ef8bff%27%2C%20%27%23d9ef8bff%27%2C%20%27%23d9ef8bff%27%2C%20%27%23d9ef8bff%27%2C%20%27%23d9ef8bff%27%2C%20%27%23d9ef8bff%27%2C%20%27%23d9ef8bff%27%2C%20%27%23d9ef8bff%27%2C%20%27%23d9ef8bff%27%2C%20%27%23d9ef8bff%27%2C%20%27%23d9ef8bff%27%2C%20%27%23d9ef8bff%27%2C%20%27%23d9ef8bff%27%2C%20%27%23d9ef8bff%27%2C%20%27%23d9ef8bff%27%2C%20%27%23d9ef8bff%27%2C%20%27%23d9ef8bff%27%2C%20%27%23d9ef8bff%27%2C%20%27%23d9ef8bff%27%2C%20%27%23d9ef8bff%27%2C%20%27%23d9ef8bff%27%2C%20%27%23d9ef8bff%27%2C%20%27%23d9ef8bff%27%2C%20%27%23d9ef8bff%27%2C%20%27%23d9ef8bff%27%2C%20%27%23d9ef8bff%27%2C%20%27%23d9ef8bff%27%2C%20%27%23d9ef8bff%27%2C%20%27%23d9ef8bff%27%2C%20%27%23d9ef8bff%27%2C%20%27%23d9ef8bff%27%2C%20%27%23d9ef8bff%27%2C%20%27%23d9ef8bff%27%2C%20%27%23d9ef8bff%27%2C%20%27%23d9ef8bff%27%2C%20%27%23d9ef8bff%27%2C%20%27%23a6d96aff%27%2C%20%27%23a6d96aff%27%2C%20%27%23a6d96aff%27%2C%20%27%23a6d96aff%27%2C%20%27%23a6d96aff%27%2C%20%27%23a6d96aff%27%2C%20%27%23a6d96aff%27%2C%20%27%23a6d96aff%27%2C%20%27%23a6d96aff%27%2C%20%27%23a6d96aff%27%2C%20%27%23a6d96aff%27%2C%20%27%23a6d96aff%27%2C%20%27%23a6d96aff%27%2C%20%27%23a6d96aff%27%2C%20%27%23a6d96aff%27%2C%20%27%23a6d96aff%27%2C%20%27%23a6d96aff%27%2C%20%27%23a6d96aff%27%2C%20%27%23a6d96aff%27%2C%20%27%23a6d96aff%27%2C%20%27%23a6d96aff%27%2C%20%27%23a6d96aff%27%2C%20%27%23a6d96aff%27%2C%20%27%23a6d96aff%27%2C%20%27%23a6d96aff%27%2C%20%27%23a6d96aff%27%2C%20%27%23a6d96aff%27%2C%20%27%23a6d96aff%27%2C%20%27%23a6d96aff%27%2C%20%27%23a6d96aff%27%2C%20%27%23a6d96aff%27%2C%20%27%23a6d96aff%27%2C%20%27%23a6d96aff%27%2C%20%27%23a6d96aff%27%2C%20%27%23a6d96aff%27%2C%20%27%23a6d96aff%27%2C%20%27%23a6d96aff%27%2C%20%27%23a6d96aff%27%2C%20%27%23a6d96aff%27%2C%20%27%23a6d96aff%27%2C%20%27%23a6d96aff%27%2C%20%27%23a6d96aff%27%2C%20%27%23a6d96aff%27%2C%20%27%23a6d96aff%27%2C%20%27%23a6d96aff%27%2C%20%27%23a6d96aff%27%2C%20%27%23a6d96aff%27%2C%20%27%23a6d96aff%27%2C%20%27%23a6d96aff%27%2C%20%27%23a6d96aff%27%2C%20%27%23a6d96aff%27%2C%20%27%23a6d96aff%27%2C%20%27%23a6d96aff%27%2C%20%27%23a6d96aff%27%2C%20%27%23a6d96aff%27%2C%20%27%23a6d96aff%27%2C%20%27%23a6d96aff%27%2C%20%27%23a6d96aff%27%2C%20%27%23a6d96aff%27%2C%20%27%23a6d96aff%27%2C%20%27%23a6d96aff%27%2C%20%27%23a6d96aff%27%2C%20%27%23a6d96aff%27%2C%20%27%2366bd63ff%27%2C%20%27%2366bd63ff%27%2C%20%27%2366bd63ff%27%2C%20%27%2366bd63ff%27%2C%20%27%2366bd63ff%27%2C%20%27%2366bd63ff%27%2C%20%27%2366bd63ff%27%2C%20%27%2366bd63ff%27%2C%20%27%2366bd63ff%27%2C%20%27%2366bd63ff%27%2C%20%27%2366bd63ff%27%2C%20%27%2366bd63ff%27%2C%20%27%2366bd63ff%27%2C%20%27%2366bd63ff%27%2C%20%27%2366bd63ff%27%2C%20%27%2366bd63ff%27%2C%20%27%2366bd63ff%27%2C%20%27%2366bd63ff%27%2C%20%27%2366bd63ff%27%2C%20%27%2366bd63ff%27%2C%20%27%2366bd63ff%27%2C%20%27%2366bd63ff%27%2C%20%27%2366bd63ff%27%2C%20%27%2366bd63ff%27%2C%20%27%2366bd63ff%27%2C%20%27%2366bd63ff%27%2C%20%27%2366bd63ff%27%2C%20%27%2366bd63ff%27%2C%20%27%2366bd63ff%27%2C%20%27%2366bd63ff%27%2C%20%27%2366bd63ff%27%2C%20%27%2366bd63ff%27%2C%20%27%2366bd63ff%27%2C%20%27%2366bd63ff%27%2C%20%27%2366bd63ff%27%2C%20%27%2366bd63ff%27%2C%20%27%2366bd63ff%27%2C%20%27%2366bd63ff%27%2C%20%27%2366bd63ff%27%2C%20%27%2366bd63ff%27%2C%20%27%2366bd63ff%27%2C%20%27%2366bd63ff%27%2C%20%27%2366bd63ff%27%2C%20%27%2366bd63ff%27%2C%20%27%2366bd63ff%27%2C%20%27%2366bd63ff%27%2C%20%27%2366bd63ff%27%2C%20%27%2366bd63ff%27%2C%20%27%2366bd63ff%27%2C%20%27%2366bd63ff%27%2C%20%27%2366bd63ff%27%2C%20%27%2366bd63ff%27%2C%20%27%2366bd63ff%27%2C%20%27%2366bd63ff%27%2C%20%27%2366bd63ff%27%2C%20%27%2366bd63ff%27%2C%20%27%2366bd63ff%27%2C%20%27%2366bd63ff%27%2C%20%27%2366bd63ff%27%2C%20%27%2366bd63ff%27%2C%20%27%2366bd63ff%27%2C%20%27%2366bd63ff%27%2C%20%27%231a9850ff%27%2C%20%27%231a9850ff%27%2C%20%27%231a9850ff%27%2C%20%27%231a9850ff%27%2C%20%27%231a9850ff%27%2C%20%27%231a9850ff%27%2C%20%27%231a9850ff%27%2C%20%27%231a9850ff%27%2C%20%27%231a9850ff%27%2C%20%27%231a9850ff%27%2C%20%27%231a9850ff%27%2C%20%27%231a9850ff%27%2C%20%27%231a9850ff%27%2C%20%27%231a9850ff%27%2C%20%27%231a9850ff%27%2C%20%27%231a9850ff%27%2C%20%27%231a9850ff%27%2C%20%27%231a9850ff%27%2C%20%27%231a9850ff%27%2C%20%27%231a9850ff%27%2C%20%27%231a9850ff%27%2C%20%27%231a9850ff%27%2C%20%27%231a9850ff%27%2C%20%27%231a9850ff%27%2C%20%27%231a9850ff%27%2C%20%27%231a9850ff%27%2C%20%27%231a9850ff%27%2C%20%27%231a9850ff%27%2C%20%27%231a9850ff%27%2C%20%27%231a9850ff%27%2C%20%27%231a9850ff%27%2C%20%27%231a9850ff%27%2C%20%27%231a9850ff%27%2C%20%27%231a9850ff%27%2C%20%27%231a9850ff%27%2C%20%27%231a9850ff%27%2C%20%27%231a9850ff%27%2C%20%27%231a9850ff%27%2C%20%27%231a9850ff%27%2C%20%27%231a9850ff%27%2C%20%27%231a9850ff%27%2C%20%27%231a9850ff%27%2C%20%27%231a9850ff%27%2C%20%27%231a9850ff%27%2C%20%27%231a9850ff%27%2C%20%27%231a9850ff%27%2C%20%27%231a9850ff%27%2C%20%27%231a9850ff%27%2C%20%27%231a9850ff%27%2C%20%27%231a9850ff%27%2C%20%27%231a9850ff%27%2C%20%27%231a9850ff%27%2C%20%27%231a9850ff%27%2C%20%27%231a9850ff%27%2C%20%27%231a9850ff%27%2C%20%27%231a9850ff%27%2C%20%27%231a9850ff%27%2C%20%27%231a9850ff%27%2C%20%27%231a9850ff%27%2C%20%27%231a9850ff%27%2C%20%27%231a9850ff%27%2C%20%27%231a9850ff%27%2C%20%27%231a9850ff%27%5D%29%3B%0A%20%20%20%20%0A%0A%20%20%20%20color_map_5d9cac8140ea4390af6cce3ce0425dec.x%20%3D%20d3.scale.linear%28%29%0A%20%20%20%20%20%20%20%20%20%20%20%20%20%20.domain%28%5B0.3%2C%2029.3%5D%29%0A%20%20%20%20%20%20%20%20%20%20%20%20%20%20.range%28%5B0%2C%20400%5D%29%3B%0A%0A%20%20%20%20color_map_5d9cac8140ea4390af6cce3ce0425dec.legend%20%3D%20L.control%28%7Bposition%3A%20%27topright%27%7D%29%3B%0A%20%20%20%20color_map_5d9cac8140ea4390af6cce3ce0425dec.legend.onAdd%20%3D%20function%20%28map%29%20%7Bvar%20div%20%3D%20L.DomUtil.create%28%27div%27%2C%20%27legend%27%29%3B%20return%20div%7D%3B%0A%20%20%20%20color_map_5d9cac8140ea4390af6cce3ce0425dec.legend.addTo%28map_af674419ade74f4c8df8950ccea290a2%29%3B%0A%0A%20%20%20%20color_map_5d9cac8140ea4390af6cce3ce0425dec.xAxis%20%3D%20d3.svg.axis%28%29%0A%20%20%20%20%20%20%20%20.scale%28color_map_5d9cac8140ea4390af6cce3ce0425dec.x%29%0A%20%20%20%20%20%20%20%20.orient%28%22top%22%29%0A%20%20%20%20%20%20%20%20.tickSize%281%29%0A%20%20%20%20%20%20%20%20.tickValues%28%5B0.3%2C%203.925%2C%207.55%2C%2011.175%2C%2014.8%2C%2018.425%2C%2022.05%2C%2025.675%2C%2029.3%5D%29%3B%0A%0A%20%20%20%20color_map_5d9cac8140ea4390af6cce3ce0425dec.svg%20%3D%20d3.select%28%22.legend.leaflet-control%22%29.append%28%22svg%22%29%0A%20%20%20%20%20%20%20%20.attr%28%22id%22%2C%20%27legend%27%29%0A%20%20%20%20%20%20%20%20.attr%28%22width%22%2C%20450%29%0A%20%20%20%20%20%20%20%20.attr%28%22height%22%2C%2040%29%3B%0A%0A%20%20%20%20color_map_5d9cac8140ea4390af6cce3ce0425dec.g%20%3D%20color_map_5d9cac8140ea4390af6cce3ce0425dec.svg.append%28%22g%22%29%0A%20%20%20%20%20%20%20%20.attr%28%22class%22%2C%20%22key%22%29%0A%20%20%20%20%20%20%20%20.attr%28%22transform%22%2C%20%22translate%2825%2C16%29%22%29%3B%0A%0A%20%20%20%20color_map_5d9cac8140ea4390af6cce3ce0425dec.g.selectAll%28%22rect%22%29%0A%20%20%20%20%20%20%20%20.data%28color_map_5d9cac8140ea4390af6cce3ce0425dec.color.range%28%29.map%28function%28d%2C%20i%29%20%7B%0A%20%20%20%20%20%20%20%20%20%20return%20%7B%0A%20%20%20%20%20%20%20%20%20%20%20%20x0%3A%20i%20%3F%20color_map_5d9cac8140ea4390af6cce3ce0425dec.x%28color_map_5d9cac8140ea4390af6cce3ce0425dec.color.domain%28%29%5Bi%20-%201%5D%29%20%3A%20color_map_5d9cac8140ea4390af6cce3ce0425dec.x.range%28%29%5B0%5D%2C%0A%20%20%20%20%20%20%20%20%20%20%20%20x1%3A%20i%20%3C%20color_map_5d9cac8140ea4390af6cce3ce0425dec.color.domain%28%29.length%20%3F%20color_map_5d9cac8140ea4390af6cce3ce0425dec.x%28color_map_5d9cac8140ea4390af6cce3ce0425dec.color.domain%28%29%5Bi%5D%29%20%3A%20color_map_5d9cac8140ea4390af6cce3ce0425dec.x.range%28%29%5B1%5D%2C%0A%20%20%20%20%20%20%20%20%20%20%20%20z%3A%20d%0A%20%20%20%20%20%20%20%20%20%20%7D%3B%0A%20%20%20%20%20%20%20%20%7D%29%29%0A%20%20%20%20%20%20.enter%28%29.append%28%22rect%22%29%0A%20%20%20%20%20%20%20%20.attr%28%22height%22%2C%2010%29%0A%20%20%20%20%20%20%20%20.attr%28%22x%22%2C%20function%28d%29%20%7B%20return%20d.x0%3B%20%7D%29%0A%20%20%20%20%20%20%20%20.attr%28%22width%22%2C%20function%28d%29%20%7B%20return%20d.x1%20-%20d.x0%3B%20%7D%29%0A%20%20%20%20%20%20%20%20.style%28%22fill%22%2C%20function%28d%29%20%7B%20return%20d.z%3B%20%7D%29%3B%0A%0A%20%20%20%20color_map_5d9cac8140ea4390af6cce3ce0425dec.g.call%28color_map_5d9cac8140ea4390af6cce3ce0425dec.xAxis%29.append%28%22text%22%29%0A%20%20%20%20%20%20%20%20.attr%28%22class%22%2C%20%22caption%22%29%0A%20%20%20%20%20%20%20%20.attr%28%22y%22%2C%2021%29%0A%20%20%20%20%20%20%20%20.text%28%27Legend%27%29%3B%0A%3C/script%3E onload=\"this.contentDocument.open();this.contentDocument.write(    decodeURIComponent(this.getAttribute('data-html')));this.contentDocument.close();\" \"allowfullscreen\" \"webkitallowfullscreen\" \"mozallowfullscreen\"></iframe>"
      ],
      "text/plain": [
       "<branca.element.Figure at 0x7fc16ee3bfa0>"
      ]
     },
     "execution_count": 160,
     "metadata": {},
     "output_type": "execute_result"
    }
   ],
   "source": [
    "rt.VehiclePositionsInterpolator.detailed_speed_map(one_interpolator)"
   ]
  },
  {
   "cell_type": "code",
   "execution_count": 161,
   "id": "d50eee73-25ab-4f41-9c63-8fba4697b06e",
   "metadata": {},
   "outputs": [],
   "source": [
    "ex = one_interpolator.detailed_map_view.copy()"
   ]
  },
  {
   "cell_type": "code",
   "execution_count": 163,
   "id": "6f4267ae-19aa-42a6-bd4b-f7fd9c466d28",
   "metadata": {},
   "outputs": [],
   "source": [
    "turn = ex.loc[12514]"
   ]
  },
  {
   "cell_type": "code",
   "execution_count": 164,
   "id": "014ef77e-9409-4210-acf3-be3d25391ef4",
   "metadata": {},
   "outputs": [
    {
     "data": {
      "image/svg+xml": [
       "<svg xmlns=\"http://www.w3.org/2000/svg\" xmlns:xlink=\"http://www.w3.org/1999/xlink\" width=\"293.40846483406494\" height=\"172.96545568521833\" viewBox=\"167594.39804852245 -458606.56621934084 293.40846483406494 172.96545568521833\" preserveAspectRatio=\"xMinYMin meet\"><g transform=\"matrix(1,0,0,-1,0,-917040.1669829965)\"><path fill-rule=\"evenodd\" fill=\"#66cc99\" stroke=\"#555555\" stroke-width=\"2.0\" opacity=\"0.6\" d=\"M 167707.36438392947,-458444.46774383466 L 167864.22364543387,-458452.01635133894 L 167876.93953317747,-458595.6992391618 L 167843.31030367975,-458589.33480272663 L 167836.16313325672,-458480.8306221466 L 167605.26502870148,-458470.23586893803 L 167620.54741468385,-458446.4356866134 L 167707.36438392947,-458444.46774383466 z\" /></g></svg>"
      ],
      "text/plain": [
       "<shapely.geometry.polygon.Polygon at 0x7fc16f1ceb20>"
      ]
     },
     "execution_count": 164,
     "metadata": {},
     "output_type": "execute_result"
    }
   ],
   "source": [
    "turn.geometry"
   ]
  },
  {
   "cell_type": "code",
   "execution_count": 64,
   "id": "6bbdc3e4-7fee-4e8b-86eb-55bc52ac2eaa",
   "metadata": {},
   "outputs": [],
   "source": [
    "clip = shapely.geometry.Point(ex.geometry.centroid.x, ex.geometry.bounds[1]).buffer(25)"
   ]
  },
  {
   "cell_type": "code",
   "execution_count": 65,
   "id": "48fd1cac-6b8c-4578-8907-2919b362a844",
   "metadata": {},
   "outputs": [
    {
     "data": {
      "image/svg+xml": [
       "<svg xmlns=\"http://www.w3.org/2000/svg\" xmlns:xlink=\"http://www.w3.org/1999/xlink\" width=\"100.0\" height=\"100.0\" viewBox=\"168134.89746540078 -469429.023818873 54.0 54.0\" preserveAspectRatio=\"xMinYMin meet\"><g transform=\"matrix(1,0,0,-1,0,-938804.047637746)\"><path fill-rule=\"evenodd\" fill=\"#66cc99\" stroke=\"#555555\" stroke-width=\"1.08\" opacity=\"0.6\" d=\"M 168186.89746540078,-469402.023818873 L 168186.77708356758,-469404.4742473812 L 168186.41709741086,-469406.9010769234 L 168185.8209737941,-469409.28093580436 L 168184.99445371356,-469411.5909046821 L 168183.9454970095,-469413.80873729364 L 168182.68420570833,-469415.9130746985 L 168181.22272673485,-469417.88365097705 L 168179.57513493043,-469419.7014884027 L 168177.75729750487,-469421.34908020706 L 168175.78672122626,-469422.81055918057 L 168173.68238382143,-469424.0718504817 L 168171.4645512099,-469425.12080718577 L 168169.15458233215,-469425.9473272663 L 168166.77472345118,-469426.54345088307 L 168164.34789390903,-469426.9034370398 L 168161.89746540078,-469427.023818873 L 168159.44703689252,-469426.9034370398 L 168157.02020735038,-469426.54345088307 L 168154.6403484694,-469425.9473272663 L 168152.33037959164,-469425.12080718577 L 168150.11254698012,-469424.0718504817 L 168148.0082095753,-469422.81055918057 L 168146.03763329668,-469421.34908020706 L 168144.21979587112,-469419.7014884027 L 168142.5722040667,-469417.88365097705 L 168141.11072509323,-469415.9130746985 L 168139.84943379206,-469413.80873729364 L 168138.800477088,-469411.5909046821 L 168137.97395700746,-469409.28093580436 L 168137.3778333907,-469406.9010769234 L 168137.01784723398,-469404.4742473812 L 168136.89746540078,-469402.023818873 L 168137.01784723398,-469399.57339036476 L 168137.3778333907,-469397.14656082256 L 168137.97395700746,-469394.7667019416 L 168138.800477088,-469392.45673306385 L 168139.84943379206,-469390.2389004523 L 168141.11072509323,-469388.1345630475 L 168142.5722040667,-469386.1639867689 L 168144.21979587112,-469384.3461493433 L 168146.03763329668,-469382.6985575389 L 168148.0082095753,-469381.2370785654 L 168150.11254698012,-469379.9757872643 L 168152.33037959164,-469378.9268305602 L 168154.6403484694,-469378.1003104797 L 168157.02020735038,-469377.5041868629 L 168159.44703689252,-469377.14420070616 L 168161.89746540078,-469377.023818873 L 168164.34789390903,-469377.14420070616 L 168166.77472345118,-469377.5041868629 L 168169.15458233215,-469378.1003104797 L 168171.4645512099,-469378.9268305602 L 168173.68238382143,-469379.9757872643 L 168175.78672122626,-469381.2370785654 L 168177.75729750487,-469382.6985575389 L 168179.57513493043,-469384.3461493433 L 168181.22272673485,-469386.1639867689 L 168182.68420570833,-469388.1345630475 L 168183.9454970095,-469390.2389004523 L 168184.99445371356,-469392.45673306385 L 168185.8209737941,-469394.7667019416 L 168186.41709741086,-469397.14656082256 L 168186.77708356758,-469399.57339036476 L 168186.89746540078,-469402.023818873 z\" /></g></svg>"
      ],
      "text/plain": [
       "<shapely.geometry.polygon.Polygon at 0x7fc16fd38910>"
      ]
     },
     "execution_count": 65,
     "metadata": {},
     "output_type": "execute_result"
    }
   ],
   "source": [
    "clip"
   ]
  },
  {
   "cell_type": "code",
   "execution_count": 86,
   "id": "03b42c23-584b-4d31-ba27-256f33f155ac",
   "metadata": {},
   "outputs": [],
   "source": [
    "top = (ex.geometry.centroid.x, ex.geometry.bounds[1] + 50)\n",
    "\n",
    "lower_left = (ex.geometry.bounds[0] - 25, ex.geometry.bounds[1])\n",
    "lower_right = (ex.geometry.bounds[2] + 25, ex.geometry.bounds[1])"
   ]
  },
  {
   "cell_type": "code",
   "execution_count": 87,
   "id": "89f70843-aa9c-4ed3-8fb9-df5758dfc412",
   "metadata": {},
   "outputs": [
    {
     "data": {
      "text/plain": [
       "(168143.1385600684, -469402.023818873, 168184.10427258976, -468956.3750499524)"
      ]
     },
     "execution_count": 87,
     "metadata": {},
     "output_type": "execute_result"
    }
   ],
   "source": [
    "ex.geometry.bounds"
   ]
  },
  {
   "cell_type": "code",
   "execution_count": 88,
   "id": "0b992759-21e1-4feb-abf5-e31a4bbae960",
   "metadata": {},
   "outputs": [
    {
     "data": {
      "image/svg+xml": [
       "<svg xmlns=\"http://www.w3.org/2000/svg\" xmlns:xlink=\"http://www.w3.org/1999/xlink\" width=\"100.0\" height=\"100.0\" viewBox=\"168114.49993156752 -469405.66244737385 98.24296952309669 57.27725700172596\" preserveAspectRatio=\"xMinYMin meet\"><g transform=\"matrix(1,0,0,-1,0,-938754.047637746)\"><path fill-rule=\"evenodd\" fill=\"#66cc99\" stroke=\"#555555\" stroke-width=\"1.9648593904619338\" opacity=\"0.6\" d=\"M 168161.89746540078,-469352.023818873 L 168118.1385600684,-469402.023818873 L 168209.10427258976,-469402.023818873 L 168161.89746540078,-469352.023818873 z\" /></g></svg>"
      ],
      "text/plain": [
       "<shapely.geometry.polygon.Polygon at 0x7fc16f9db520>"
      ]
     },
     "execution_count": 88,
     "metadata": {},
     "output_type": "execute_result"
    }
   ],
   "source": [
    "clip2 = shapely.geometry.Polygon((top, lower_left, lower_right))\n",
    "clip2"
   ]
  },
  {
   "cell_type": "code",
   "execution_count": 89,
   "id": "ae55c98c-65b9-4dbe-b239-b5a70b6a5cc0",
   "metadata": {},
   "outputs": [
    {
     "data": {
      "image/svg+xml": [
       "<svg xmlns=\"http://www.w3.org/2000/svg\" xmlns:xlink=\"http://www.w3.org/1999/xlink\" width=\"100.0\" height=\"300\" viewBox=\"168126.37708598634 -469392.1733760856 74.3633881137066 452.5598002152401\" preserveAspectRatio=\"xMinYMin meet\"><g transform=\"matrix(1,0,0,-1,0,-938331.7869519559)\"><path fill-rule=\"evenodd\" fill=\"#66cc99\" stroke=\"#555555\" stroke-width=\"3.0170653347682674\" opacity=\"0.6\" d=\"M 168183.979000018,-469375.4119020035 L 168161.89746540078,-469352.023818873 L 168144.08241695355,-469372.37973078614 L 168143.1385600684,-468956.3750499524 L 168171.34566417648,-468958.46293832024 L 168176.80713643323,-468996.34590687277 L 168183.979000018,-469375.4119020035 z\" /></g></svg>"
      ],
      "text/plain": [
       "<shapely.geometry.polygon.Polygon at 0x7fc1700adc10>"
      ]
     },
     "execution_count": 89,
     "metadata": {},
     "output_type": "execute_result"
    }
   ],
   "source": [
    "ex.geometry.difference(clip2)"
   ]
  },
  {
   "cell_type": "code",
   "execution_count": 118,
   "id": "8530c173-b039-4be0-a892-caa34c154c3f",
   "metadata": {},
   "outputs": [],
   "source": [
    "left_side = ex.geometry.bounds[0]\n",
    "right_side = ex.geometry.bounds[2]\n",
    "top_side = ex.geometry.bounds[3]"
   ]
  },
  {
   "cell_type": "code",
   "execution_count": 125,
   "id": "ce884270-9a97-46d3-a2b2-1560011ee2f5",
   "metadata": {},
   "outputs": [],
   "source": [
    "vertex_1 = (left_side, top_side)\n",
    "vertex_2 = (right_side, top_side)\n",
    "vertex_3 = (right_side, top_side - 45)\n",
    "vertex_4 = (ex.geometry.centroid.x, top_side - 10)\n",
    "vertex_5 = (left_side, top_side - 45)"
   ]
  },
  {
   "cell_type": "code",
   "execution_count": 126,
   "id": "c308e8d8-002b-41fb-a9ae-fd80395bc317",
   "metadata": {},
   "outputs": [
    {
     "data": {
      "image/svg+xml": [
       "<svg xmlns=\"http://www.w3.org/2000/svg\" xmlns:xlink=\"http://www.w3.org/1999/xlink\" width=\"100.0\" height=\"100.0\" viewBox=\"168141.3385600684 -469003.1750499524 44.56571252134745 48.59999999997672\" preserveAspectRatio=\"xMinYMin meet\"><g transform=\"matrix(1,0,0,-1,0,-937957.7500999048)\"><path fill-rule=\"evenodd\" fill=\"#66cc99\" stroke=\"#555555\" stroke-width=\"0.9719999999995343\" opacity=\"0.6\" d=\"M 168143.1385600684,-468956.3750499524 L 168184.10427258976,-468956.3750499524 L 168184.10427258976,-469001.3750499524 L 168161.89746540078,-468966.3750499524 L 168143.1385600684,-469001.3750499524 L 168143.1385600684,-468956.3750499524 z\" /></g></svg>"
      ],
      "text/plain": [
       "<shapely.geometry.polygon.Polygon at 0x7fc16f9bb7f0>"
      ]
     },
     "execution_count": 126,
     "metadata": {},
     "output_type": "execute_result"
    }
   ],
   "source": [
    "clip3 = shapely.geometry.Polygon((vertex_1, vertex_2, vertex_3,\n",
    "                                 vertex_4, vertex_5))\n",
    "clip3"
   ]
  },
  {
   "cell_type": "code",
   "execution_count": 127,
   "id": "9a94ed36-23b1-4186-8c1f-c436bcd2baeb",
   "metadata": {},
   "outputs": [
    {
     "data": {
      "image/svg+xml": [
       "<svg xmlns=\"http://www.w3.org/2000/svg\" xmlns:xlink=\"http://www.w3.org/1999/xlink\" width=\"100.0\" height=\"300\" viewBox=\"168126.8787543587 -469391.77337608556 73.46171974134631 441.75980021519354\" preserveAspectRatio=\"xMinYMin meet\"><g transform=\"matrix(1,0,0,-1,0,-938341.7869519559)\"><path fill-rule=\"evenodd\" fill=\"#66cc99\" stroke=\"#555555\" stroke-width=\"2.945065334767957\" opacity=\"0.6\" d=\"M 168161.89746540078,-469352.023818873 L 168144.08241695355,-469372.37973078614 L 168143.24022844076,-469001.1853590845 L 168161.89746540078,-468966.3750499524 L 168175.59977611987,-468987.9711700559 L 168176.80713643323,-468996.34590687277 L 168183.979000018,-469375.4119020035 L 168161.89746540078,-469352.023818873 z\" /></g></svg>"
      ],
      "text/plain": [
       "<shapely.geometry.polygon.Polygon at 0x7fc17011a280>"
      ]
     },
     "execution_count": 127,
     "metadata": {},
     "output_type": "execute_result"
    }
   ],
   "source": [
    "ex.geometry.difference(clip2).difference(clip3)"
   ]
  },
  {
   "cell_type": "code",
   "execution_count": null,
   "id": "6d98ac0c-b758-40f6-a599-9b7333188f99",
   "metadata": {},
   "outputs": [],
   "source": []
  }
 ],
 "metadata": {
  "kernelspec": {
   "display_name": "Python 3 (ipykernel)",
   "language": "python",
   "name": "python3"
  },
  "language_info": {
   "codemirror_mode": {
    "name": "ipython",
    "version": 3
   },
   "file_extension": ".py",
   "mimetype": "text/x-python",
   "name": "python",
   "nbconvert_exporter": "python",
   "pygments_lexer": "ipython3",
   "version": "3.9.7"
  }
 },
 "nbformat": 4,
 "nbformat_minor": 5
}
