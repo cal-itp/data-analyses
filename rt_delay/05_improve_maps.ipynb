{
 "cells": [
  {
   "cell_type": "code",
   "execution_count": 1,
   "id": "47fb1e19-4f66-4991-8270-b7b3d60b596a",
   "metadata": {},
   "outputs": [
    {
     "name": "stderr",
     "output_type": "stream",
     "text": [
      "/opt/conda/lib/python3.9/site-packages/geopandas/_compat.py:111: UserWarning: The Shapely GEOS version (3.9.1-CAPI-1.14.2) is incompatible with the GEOS version PyGEOS was compiled with (3.10.1-CAPI-1.16.0). Conversions between both will be slow.\n",
      "  warnings.warn(\n"
     ]
    }
   ],
   "source": [
    "import os\n",
    "os.environ[\"CALITP_BQ_MAX_BYTES\"] = str(100_000_000_000)\n",
    "\n",
    "from calitp.tables import tbl\n",
    "from calitp import query_sql\n",
    "import calitp.magics\n",
    "import branca\n",
    "\n",
    "import shared_utils\n",
    "import utils\n",
    "\n",
    "from siuba import *\n",
    "import pandas as pd\n",
    "import geopandas as gpd\n",
    "import shapely\n",
    "\n",
    "import datetime as dt\n",
    "import time\n",
    "from zoneinfo import ZoneInfo\n",
    "\n",
    "import rt_analysis as rt\n",
    "import importlib\n",
    "\n",
    "import gcsfs\n",
    "fs = gcsfs.GCSFileSystem()\n",
    "\n",
    "from tqdm import tqdm_notebook\n",
    "from tqdm.notebook import trange, tqdm"
   ]
  },
  {
   "cell_type": "code",
   "execution_count": 2,
   "id": "7db6fbac-c932-47e8-b7b2-8b73700bd393",
   "metadata": {},
   "outputs": [],
   "source": [
    "analysis_date = dt.date(2022, 1, 12)"
   ]
  },
  {
   "cell_type": "code",
   "execution_count": 3,
   "id": "864dd822-08f2-4bfc-97b2-2040223682ca",
   "metadata": {},
   "outputs": [],
   "source": [
    "lbt_itp_id = 170"
   ]
  },
  {
   "cell_type": "code",
   "execution_count": 4,
   "id": "06b720f4-f09a-4602-b86e-45753ce9c288",
   "metadata": {},
   "outputs": [
    {
     "data": {
      "text/plain": [
       "<module 'rt_analysis' from '/home/jovyan/data-analyses/rt_delay/rt_analysis.py'>"
      ]
     },
     "execution_count": 4,
     "metadata": {},
     "output_type": "execute_result"
    }
   ],
   "source": [
    "importlib.reload(utils)\n",
    "importlib.reload(rt)"
   ]
  },
  {
   "cell_type": "code",
   "execution_count": 5,
   "id": "51fb22ec-3439-4240-96ac-f67f8ff5ae06",
   "metadata": {},
   "outputs": [],
   "source": [
    "colorscale = branca.colormap.step.RdYlGn_10.scale(vmin=0, \n",
    " vmax=30)\n",
    "colorscale.caption = \"Speed (miles per hour)\""
   ]
  },
  {
   "cell_type": "code",
   "execution_count": 6,
   "id": "38cb3608-3246-47ee-91a3-b643c9b4c66f",
   "metadata": {},
   "outputs": [
    {
     "data": {
      "application/vnd.jupyter.widget-view+json": {
       "model_id": "1f1c164acfb540c7ae6dbceca6c56345",
       "version_major": 2,
       "version_minor": 0
      },
      "text/plain": [
       "0it [00:00, ?it/s]"
      ]
     },
     "metadata": {},
     "output_type": "display_data"
    }
   ],
   "source": [
    "pbar = tqdm()"
   ]
  },
  {
   "cell_type": "code",
   "execution_count": 7,
   "id": "6321b610-ffd9-4863-942f-86d5cfa15ba7",
   "metadata": {},
   "outputs": [],
   "source": [
    "%%capture\n",
    "lbt = rt.OperatorDayAnalysis(lbt_itp_id, analysis_date, pbar)"
   ]
  },
  {
   "cell_type": "code",
   "execution_count": 8,
   "id": "4d9129cc-99f8-48af-ac5e-e5bc33410533",
   "metadata": {},
   "outputs": [],
   "source": [
    "lbt.set_filter(start_time='15:00', end_time='19:00', direction_id='1')"
   ]
  },
  {
   "cell_type": "code",
   "execution_count": 9,
   "id": "be65b7f7-8523-4eec-a5c1-b443cac0af29",
   "metadata": {},
   "outputs": [],
   "source": [
    "%%capture\n",
    "m = lbt.segment_speed_map(colorscale=colorscale)"
   ]
  },
  {
   "cell_type": "code",
   "execution_count": 10,
   "id": "9542f33a-fb49-4179-a7b0-903b0e47f253",
   "metadata": {},
   "outputs": [],
   "source": [
    "# m"
   ]
  },
  {
   "cell_type": "code",
   "execution_count": 11,
   "id": "cdacb948-834e-45a5-854a-6e39f42c992d",
   "metadata": {},
   "outputs": [
    {
     "data": {
      "text/html": [
       "<div>\n",
       "<style scoped>\n",
       "    .dataframe tbody tr th:only-of-type {\n",
       "        vertical-align: middle;\n",
       "    }\n",
       "\n",
       "    .dataframe tbody tr th {\n",
       "        vertical-align: top;\n",
       "    }\n",
       "\n",
       "    .dataframe thead th {\n",
       "        text-align: right;\n",
       "    }\n",
       "</style>\n",
       "<table border=\"1\" class=\"dataframe\">\n",
       "  <thead>\n",
       "    <tr style=\"text-align: right;\">\n",
       "      <th></th>\n",
       "      <th>calitp_itp_id</th>\n",
       "      <th>calitp_url_number</th>\n",
       "      <th>shape_id</th>\n",
       "      <th>geometry</th>\n",
       "    </tr>\n",
       "  </thead>\n",
       "  <tbody>\n",
       "    <tr>\n",
       "      <th>0</th>\n",
       "      <td>170</td>\n",
       "      <td>0</td>\n",
       "      <td>10069</td>\n",
       "      <td>LINESTRING (161216.993 -459406.837, 161188.049...</td>\n",
       "    </tr>\n",
       "    <tr>\n",
       "      <th>1</th>\n",
       "      <td>170</td>\n",
       "      <td>0</td>\n",
       "      <td>10070</td>\n",
       "      <td>LINESTRING (165555.589 -461447.899, 165529.874...</td>\n",
       "    </tr>\n",
       "    <tr>\n",
       "      <th>2</th>\n",
       "      <td>170</td>\n",
       "      <td>0</td>\n",
       "      <td>1010081</td>\n",
       "      <td>LINESTRING (178338.638 -463053.608, 178362.517...</td>\n",
       "    </tr>\n",
       "    <tr>\n",
       "      <th>3</th>\n",
       "      <td>170</td>\n",
       "      <td>0</td>\n",
       "      <td>1010082</td>\n",
       "      <td>LINESTRING (165274.717 -466518.693, 165274.621...</td>\n",
       "    </tr>\n",
       "    <tr>\n",
       "      <th>4</th>\n",
       "      <td>170</td>\n",
       "      <td>0</td>\n",
       "      <td>1030063</td>\n",
       "      <td>LINESTRING (171925.408 -460990.847, 171924.612...</td>\n",
       "    </tr>\n",
       "    <tr>\n",
       "      <th>...</th>\n",
       "      <td>...</td>\n",
       "      <td>...</td>\n",
       "      <td>...</td>\n",
       "      <td>...</td>\n",
       "    </tr>\n",
       "    <tr>\n",
       "      <th>115</th>\n",
       "      <td>170</td>\n",
       "      <td>0</td>\n",
       "      <td>940134</td>\n",
       "      <td>LINESTRING (167488.905 -470302.205, 167525.719...</td>\n",
       "    </tr>\n",
       "    <tr>\n",
       "      <th>116</th>\n",
       "      <td>170</td>\n",
       "      <td>0</td>\n",
       "      <td>940136</td>\n",
       "      <td>LINESTRING (167488.905 -470302.205, 167525.719...</td>\n",
       "    </tr>\n",
       "    <tr>\n",
       "      <th>117</th>\n",
       "      <td>170</td>\n",
       "      <td>0</td>\n",
       "      <td>940137</td>\n",
       "      <td>LINESTRING (173618.815 -467099.690, 173618.999...</td>\n",
       "    </tr>\n",
       "    <tr>\n",
       "      <th>118</th>\n",
       "      <td>170</td>\n",
       "      <td>0</td>\n",
       "      <td>940138</td>\n",
       "      <td>LINESTRING (173635.077 -467088.166, 173634.516...</td>\n",
       "    </tr>\n",
       "    <tr>\n",
       "      <th>119</th>\n",
       "      <td>170</td>\n",
       "      <td>0</td>\n",
       "      <td>940143</td>\n",
       "      <td>LINESTRING (172127.604 -469398.850, 172115.009...</td>\n",
       "    </tr>\n",
       "  </tbody>\n",
       "</table>\n",
       "<p>120 rows × 4 columns</p>\n",
       "</div>"
      ],
      "text/plain": [
       "     calitp_itp_id  calitp_url_number shape_id  \\\n",
       "0              170                  0    10069   \n",
       "1              170                  0    10070   \n",
       "2              170                  0  1010081   \n",
       "3              170                  0  1010082   \n",
       "4              170                  0  1030063   \n",
       "..             ...                ...      ...   \n",
       "115            170                  0   940134   \n",
       "116            170                  0   940136   \n",
       "117            170                  0   940137   \n",
       "118            170                  0   940138   \n",
       "119            170                  0   940143   \n",
       "\n",
       "                                              geometry  \n",
       "0    LINESTRING (161216.993 -459406.837, 161188.049...  \n",
       "1    LINESTRING (165555.589 -461447.899, 165529.874...  \n",
       "2    LINESTRING (178338.638 -463053.608, 178362.517...  \n",
       "3    LINESTRING (165274.717 -466518.693, 165274.621...  \n",
       "4    LINESTRING (171925.408 -460990.847, 171924.612...  \n",
       "..                                                 ...  \n",
       "115  LINESTRING (167488.905 -470302.205, 167525.719...  \n",
       "116  LINESTRING (167488.905 -470302.205, 167525.719...  \n",
       "117  LINESTRING (173618.815 -467099.690, 173618.999...  \n",
       "118  LINESTRING (173635.077 -467088.166, 173634.516...  \n",
       "119  LINESTRING (172127.604 -469398.850, 172115.009...  \n",
       "\n",
       "[120 rows x 4 columns]"
      ]
     },
     "execution_count": 11,
     "metadata": {},
     "output_type": "execute_result"
    }
   ],
   "source": [
    "lbt.routelines"
   ]
  },
  {
   "cell_type": "code",
   "execution_count": 12,
   "id": "5a7230ff-e0a7-47a8-a415-2c204b62cb7a",
   "metadata": {},
   "outputs": [
    {
     "data": {
      "text/html": [
       "<div>\n",
       "<style scoped>\n",
       "    .dataframe tbody tr th:only-of-type {\n",
       "        vertical-align: middle;\n",
       "    }\n",
       "\n",
       "    .dataframe tbody tr th {\n",
       "        vertical-align: top;\n",
       "    }\n",
       "\n",
       "    .dataframe thead th {\n",
       "        text-align: right;\n",
       "    }\n",
       "</style>\n",
       "<table border=\"1\" class=\"dataframe\">\n",
       "  <thead>\n",
       "    <tr style=\"text-align: right;\">\n",
       "      <th></th>\n",
       "      <th>calitp_itp_id</th>\n",
       "      <th>service_date</th>\n",
       "      <th>trip_key</th>\n",
       "      <th>trip_id</th>\n",
       "      <th>route_id</th>\n",
       "      <th>direction_id</th>\n",
       "      <th>shape_id</th>\n",
       "      <th>entity_id</th>\n",
       "      <th>vehicle_id</th>\n",
       "      <th>vehicle_timestamp</th>\n",
       "      <th>vehicle_position_latitude</th>\n",
       "      <th>vehicle_position_longitude</th>\n",
       "      <th>header_timestamp</th>\n",
       "      <th>geometry</th>\n",
       "    </tr>\n",
       "  </thead>\n",
       "  <tbody>\n",
       "    <tr>\n",
       "      <th>0</th>\n",
       "      <td>170</td>\n",
       "      <td>2022-01-12</td>\n",
       "      <td>6460889386703071205</td>\n",
       "      <td>9289374</td>\n",
       "      <td>51</td>\n",
       "      <td>0</td>\n",
       "      <td>510067</td>\n",
       "      <td>1224</td>\n",
       "      <td>None</td>\n",
       "      <td>2022-01-12 08:14:18</td>\n",
       "      <td>33.876743</td>\n",
       "      <td>-118.22327</td>\n",
       "      <td>2022-01-12 08:14:55</td>\n",
       "      <td>POINT (164389.396 -458297.602)</td>\n",
       "    </tr>\n",
       "    <tr>\n",
       "      <th>1</th>\n",
       "      <td>170</td>\n",
       "      <td>2022-01-12</td>\n",
       "      <td>-9094923369855237176</td>\n",
       "      <td>9288369</td>\n",
       "      <td>51</td>\n",
       "      <td>1</td>\n",
       "      <td>510066</td>\n",
       "      <td>1224</td>\n",
       "      <td>None</td>\n",
       "      <td>2022-01-12 18:49:57</td>\n",
       "      <td>33.768055</td>\n",
       "      <td>-118.19030</td>\n",
       "      <td>2022-01-12 18:50:10</td>\n",
       "      <td>POINT (167669.594 -470291.215)</td>\n",
       "    </tr>\n",
       "  </tbody>\n",
       "</table>\n",
       "</div>"
      ],
      "text/plain": [
       "   calitp_itp_id service_date             trip_key  trip_id route_id  \\\n",
       "0            170   2022-01-12  6460889386703071205  9289374       51   \n",
       "1            170   2022-01-12 -9094923369855237176  9288369       51   \n",
       "\n",
       "  direction_id shape_id entity_id vehicle_id   vehicle_timestamp  \\\n",
       "0            0   510067      1224       None 2022-01-12 08:14:18   \n",
       "1            1   510066      1224       None 2022-01-12 18:49:57   \n",
       "\n",
       "   vehicle_position_latitude  vehicle_position_longitude    header_timestamp  \\\n",
       "0                  33.876743                  -118.22327 2022-01-12 08:14:55   \n",
       "1                  33.768055                  -118.19030 2022-01-12 18:50:10   \n",
       "\n",
       "                         geometry  \n",
       "0  POINT (164389.396 -458297.602)  \n",
       "1  POINT (167669.594 -470291.215)  "
      ]
     },
     "execution_count": 12,
     "metadata": {},
     "output_type": "execute_result"
    }
   ],
   "source": [
    "lbt.trips_positions_joined >> filter(_.route_id == '51') >> distinct(_.direction_id, _.shape_id, _keep_all=True)"
   ]
  },
  {
   "cell_type": "markdown",
   "id": "02bc40e9-399c-4e09-a4aa-c665718eae15",
   "metadata": {},
   "source": [
    "single shape_id for each route_id x direction_id... (by spec)"
   ]
  },
  {
   "cell_type": "markdown",
   "id": "32ae3cb0-5017-40c4-b85e-ae33205e685a",
   "metadata": {},
   "source": [
    "goal is to identify linked shape ids and shift by direction (to either side of centerline), plus shape segments to display progression"
   ]
  },
  {
   "cell_type": "markdown",
   "id": "11861871-85d0-4fbc-8432-1f7ddc962d64",
   "metadata": {},
   "source": [
    "### Shape Manipulation"
   ]
  },
  {
   "cell_type": "code",
   "execution_count": 24,
   "id": "d01793a1-bbad-4cbe-ac8c-83ca2a132b46",
   "metadata": {},
   "outputs": [
    {
     "data": {
      "text/plain": [
       "<module 'rt_analysis' from '/home/jovyan/data-analyses/rt_delay/rt_analysis.py'>"
      ]
     },
     "execution_count": 24,
     "metadata": {},
     "output_type": "execute_result"
    }
   ],
   "source": [
    "importlib.reload(rt)"
   ]
  },
  {
   "cell_type": "code",
   "execution_count": 25,
   "id": "8ffeeb5c-3acb-4ba1-b66b-1ab58f384372",
   "metadata": {},
   "outputs": [],
   "source": [
    "one_interpolator = lbt.position_interpolators['9288385']['rt']"
   ]
  },
  {
   "cell_type": "code",
   "execution_count": 145,
   "id": "90aa2341-2f0a-43f7-b399-d95b215ae360",
   "metadata": {
    "tags": []
   },
   "outputs": [],
   "source": [
    "# rt.VehiclePositionsInterpolator.detailed_speed_map(one_interpolator)"
   ]
  },
  {
   "cell_type": "code",
   "execution_count": 146,
   "id": "d50eee73-25ab-4f41-9c63-8fba4697b06e",
   "metadata": {},
   "outputs": [],
   "source": [
    "ex = one_interpolator.detailed_map_view.copy()"
   ]
  },
  {
   "cell_type": "code",
   "execution_count": 147,
   "id": "6f4267ae-19aa-42a6-bd4b-f7fd9c466d28",
   "metadata": {},
   "outputs": [],
   "source": [
    "turn = ex.loc[12514]"
   ]
  },
  {
   "cell_type": "code",
   "execution_count": 148,
   "id": "3869aa0c-5722-4df7-8ae4-14b448a81505",
   "metadata": {},
   "outputs": [],
   "source": [
    "geo = turn.geometry"
   ]
  },
  {
   "cell_type": "code",
   "execution_count": 149,
   "id": "a59adfb8-dab0-4da7-bdeb-22d542cb0e01",
   "metadata": {},
   "outputs": [
    {
     "data": {
      "image/svg+xml": [
       "<svg xmlns=\"http://www.w3.org/2000/svg\" xmlns:xlink=\"http://www.w3.org/1999/xlink\" width=\"256.4613619064912\" height=\"140.82124299032148\" viewBox=\"167615.30774389548 -458591.61465705023 256.4613619064912 140.82124299032148\" preserveAspectRatio=\"xMinYMin meet\"><g transform=\"matrix(1,0,0,-1,0,-917042.4080711101)\"><polyline fill=\"none\" stroke=\"#66cc99\" stroke-width=\"2.0\" points=\"167624.80631285498,-458465.9769707669 167707.837257735,-458464.4624452623 167741.0431284589,-458463.4974560779 167808.31586514815,-458460.77166658867 167808.34220216572,-458460.77061335894 167813.79844903777,-458460.5552963383 167814.30601460076,-458460.5404274351 167816.98894138852,-458460.48909589637 167817.80953936384,-458460.4868658554 167824.01429912943,-458460.57184649055 167833.17337094204,-458460.2919830194 167835.64412616543,-458460.3386801705 167838.09820036645,-458460.6290795742 167840.5116150335,-458461.1603437672 167842.8607889351,-458461.9272818207 167845.1227685299,-458462.92240006017 167847.27545224325,-458464.1359752857 167849.2978064196,-458465.5561497761 167851.17007084022,-458467.16904714954 167852.87395179807,-458468.9589079484 167854.3928008442,-458470.9082436232 167855.71177745756,-458472.99800741154 167856.81799405068,-458475.2077804422 167857.70064189273,-458477.5159712456 167858.35109672064,-458479.900026722 167858.76300300582,-458482.33665250574 167858.9323360535,-458484.8020405719 167859.06388627706,-458491.67699826334 167859.18057276212,-458497.7751608248 167860.90039062168,-458544.3310276493 167860.90264626927,-458544.3942573139 167861.52662206127,-458562.5294351508 167862.27053684246,-458582.1043670946 167861.96211750593,-458582.11608809076 167861.8096747934,-458580.2887400232\" opacity=\"0.8\" /></g></svg>"
      ],
      "text/plain": [
       "<shapely.geometry.linestring.LineString at 0x7f8d9ff36d90>"
      ]
     },
     "execution_count": 149,
     "metadata": {},
     "output_type": "execute_result"
    }
   ],
   "source": [
    "geo"
   ]
  },
  {
   "cell_type": "code",
   "execution_count": 151,
   "id": "b1969df8-98ba-4193-89f6-f8589bb0f427",
   "metadata": {},
   "outputs": [
    {
     "data": {
      "text/plain": [
       "347.50276421111994"
      ]
     },
     "execution_count": 151,
     "metadata": {},
     "output_type": "execute_result"
    }
   ],
   "source": [
    "geo.length"
   ]
  },
  {
   "cell_type": "code",
   "execution_count": 196,
   "id": "b275915f-f69e-4434-ba31-e31887b20b1c",
   "metadata": {},
   "outputs": [
    {
     "data": {
      "image/svg+xml": [
       "<svg xmlns=\"http://www.w3.org/2000/svg\" xmlns:xlink=\"http://www.w3.org/1999/xlink\" width=\"100.0\" height=\"100.0\" viewBox=\"167858.68862831563 -458582.12915108143 4.961457535944646 49.69109857128933\" preserveAspectRatio=\"xMinYMin meet\"><g transform=\"matrix(1,0,0,-1,0,-917114.5672035916)\"><polyline fill=\"none\" stroke=\"#66cc99\" stroke-width=\"0.9938219714257867\" points=\"167860.52903937383,-458534.27846356836 167861.8096747934,-458580.2887400232\" opacity=\"0.8\" /></g></svg>"
      ],
      "text/plain": [
       "<shapely.geometry.linestring.LineString at 0x7f8d9f9db250>"
      ]
     },
     "execution_count": 196,
     "metadata": {},
     "output_type": "execute_result"
    }
   ],
   "source": [
    "begin_segment = shapely.ops.substring(geo, geo.length - 50, geo.length).simplify(tolerance = 5)\n",
    "begin_segment"
   ]
  },
  {
   "cell_type": "code",
   "execution_count": 197,
   "id": "dd91a5a8-3dd0-4203-82bb-2a7001190e79",
   "metadata": {},
   "outputs": [],
   "source": [
    "arrow_distance = 15"
   ]
  },
  {
   "cell_type": "code",
   "execution_count": 198,
   "id": "d21e8421-d64c-4490-8a58-775f1a7f5c1f",
   "metadata": {},
   "outputs": [],
   "source": [
    "r_shift = begin_segment.parallel_offset(21, 'right')\n",
    "r_pt = shapely.ops.substring(r_shift, 0 , 0)\n",
    "l_shift = begin_segment.parallel_offset(21, 'left')\n",
    "l_pt = shapely.ops.substring(l_shift, l_shift.length, l_shift.length)"
   ]
  },
  {
   "cell_type": "code",
   "execution_count": 199,
   "id": "fbf35f1d-31b0-417f-bb9e-81e6c098a5ea",
   "metadata": {},
   "outputs": [],
   "source": [
    "end = shapely.ops.substring(begin_segment,\n",
    "                            begin_segment.length - arrow_distance,\n",
    "                            begin_segment.length - arrow_distance)"
   ]
  },
  {
   "cell_type": "code",
   "execution_count": 200,
   "id": "148c2cc2-6efa-420a-b2f3-091a53cbaf8f",
   "metadata": {},
   "outputs": [],
   "source": [
    "poly = shapely.geometry.Polygon((r_pt, end, l_pt))"
   ]
  },
  {
   "cell_type": "code",
   "execution_count": 201,
   "id": "20b196e7-a9c9-44b4-bea2-393a0df1d35c",
   "metadata": {},
   "outputs": [
    {
     "data": {
      "image/svg+xml": [
       "<svg xmlns=\"http://www.w3.org/2000/svg\" xmlns:xlink=\"http://www.w3.org/1999/xlink\" width=\"100.0\" height=\"100.0\" viewBox=\"167839.13845494748 -458582.5523706892 45.34243969182717 18.937173304031603\" preserveAspectRatio=\"xMinYMin meet\"><g transform=\"matrix(1,0,0,-1,0,-917146.1675680744)\"><path fill-rule=\"evenodd\" fill=\"#66cc99\" stroke=\"#555555\" stroke-width=\"0.9068487938365434\" opacity=\"0.6\" d=\"M 167840.81780456568,-458580.873021071 L 167861.39233118782,-458565.2945470034 L 167882.8015450211,-458579.7044589754 L 167840.81780456568,-458580.873021071 z\" /></g></svg>"
      ],
      "text/plain": [
       "<shapely.geometry.polygon.Polygon at 0x7f8d9f9db400>"
      ]
     },
     "execution_count": 201,
     "metadata": {},
     "output_type": "execute_result"
    }
   ],
   "source": [
    "poly"
   ]
  },
  {
   "cell_type": "code",
   "execution_count": 202,
   "id": "8ed62fab-1abd-428e-91e6-5c0bca0321ba",
   "metadata": {},
   "outputs": [],
   "source": [
    "result = begin_segment.buffer(20).difference(poly)"
   ]
  },
  {
   "cell_type": "code",
   "execution_count": 203,
   "id": "3b0f9cfa-1db8-43b7-8ec1-69b7ffb657d5",
   "metadata": {},
   "outputs": [
    {
     "data": {
      "text/plain": [
       "[627.3096981090166, 2154.147799987671]"
      ]
     },
     "execution_count": 203,
     "metadata": {},
     "output_type": "execute_result"
    }
   ],
   "source": [
    "[x.area for x in result.geoms]"
   ]
  },
  {
   "cell_type": "code",
   "execution_count": 204,
   "id": "d19c2847-3a3e-4b86-a27c-54e54474aa53",
   "metadata": {},
   "outputs": [
    {
     "data": {
      "image/svg+xml": [
       "<svg xmlns=\"http://www.w3.org/2000/svg\" xmlns:xlink=\"http://www.w3.org/1999/xlink\" width=\"100.0\" height=\"100.0\" viewBox=\"167837.90298270353 -458582.7649882831 46.51287525513908 71.11258138500853\" preserveAspectRatio=\"xMinYMin meet\"><g transform=\"matrix(1,0,0,-1,0,-917094.4173951813)\"><path fill-rule=\"evenodd\" fill=\"#66cc99\" stroke=\"#555555\" stroke-width=\"1.4222516277001704\" opacity=\"0.6\" d=\"M 167840.5367820141,-458534.83492170915 L 167840.57850776205,-458532.87265831593 L 167840.8123680355,-458530.9239335958 L 167841.23611063216,-458529.0075148331 L 167841.8456546792,-458527.14185818814 L 167842.63512993424,-458525.3449309543 L 167843.59693331894,-458523.634038523 L 167844.72180214102,-458522.0256577238 L 167845.99890329875,-458520.53527814284 L 167847.41593760988,-458519.1772529504 L 167848.95925825933,-458517.96466067136 L 167850.6140022256,-458516.90917923226 L 167852.36423341974,-458516.0209734963 L 167854.19309615853,-458515.3085973703 L 167856.08297749408,-458514.7789114258 L 167858.015676836,-458514.4370168279 L 167859.97258123307,-458514.28620620864 L 167861.93484462623,-458514.3279319566 L 167863.88356934633,-458514.56179223006 L 167865.79998810904,-458514.9855348267 L 167867.66564475402,-458515.59507887374 L 167869.46257198794,-458516.38455412874 L 167871.1734644192,-458517.3463575135 L 167872.78184521844,-458518.47122633556 L 167874.27222479935,-458519.7483274933 L 167875.6302499918,-458521.1653618044 L 167876.84284227085,-458522.7086824539 L 167877.89832370996,-458524.36342642014 L 167878.7865294459,-458526.1136576143 L 167879.4989055719,-458527.94252035307 L 167880.0285915164,-458529.8324016886 L 167880.37048611426,-458531.7651010305 L 167880.52129673355,-458533.7220054276 L 167881.7820586481,-458579.01827269106 L 167861.39233118782,-458565.2945470034 L 167841.79754392864,-458580.13118897256 L 167840.5367820141,-458534.83492170915 z\" /></g></svg>"
      ],
      "text/plain": [
       "<shapely.geometry.polygon.Polygon at 0x7f8da03177f0>"
      ]
     },
     "execution_count": 204,
     "metadata": {},
     "output_type": "execute_result"
    }
   ],
   "source": [
    "result.geoms[1] ## is this brittle?"
   ]
  },
  {
   "cell_type": "code",
   "execution_count": 205,
   "id": "af86c111-e36a-4caa-8ebd-4e2b413be154",
   "metadata": {},
   "outputs": [
    {
     "data": {
      "image/svg+xml": [
       "<svg xmlns=\"http://www.w3.org/2000/svg\" xmlns:xlink=\"http://www.w3.org/1999/xlink\" width=\"100.0\" height=\"100.0\" viewBox=\"167622.80664548764 -458467.9766381343 53.99101891863393 4.911207781871781\" preserveAspectRatio=\"xMinYMin meet\"><g transform=\"matrix(1,0,0,-1,0,-916931.0420684867)\"><polyline fill=\"none\" stroke=\"#66cc99\" stroke-width=\"1.0798203783726785\" points=\"167624.80631285498,-458465.9769707669 167674.79799703893,-458465.0650977198\" opacity=\"0.8\" /></g></svg>"
      ],
      "text/plain": [
       "<shapely.geometry.linestring.LineString at 0x7f8da0755880>"
      ]
     },
     "execution_count": 205,
     "metadata": {},
     "output_type": "execute_result"
    }
   ],
   "source": [
    "## ends to the left\n",
    "end_segment = shapely.ops.substring(geo, 0, 50).simplify(tolerance = 5)\n",
    "end_segment"
   ]
  },
  {
   "cell_type": "code",
   "execution_count": 206,
   "id": "95ada61f-7a0d-4599-93c5-664fcfb32276",
   "metadata": {},
   "outputs": [],
   "source": [
    "end = shapely.ops.substring(end_segment, 0, 0) ## correct"
   ]
  },
  {
   "cell_type": "code",
   "execution_count": 209,
   "id": "63e7c3f6-ce30-4c90-b7de-8a3610e6d7ca",
   "metadata": {},
   "outputs": [
    {
     "data": {
      "image/svg+xml": [
       "<svg xmlns=\"http://www.w3.org/2000/svg\" xmlns:xlink=\"http://www.w3.org/1999/xlink\" width=\"100.0\" height=\"100.0\" viewBox=\"167601.21023792017 -458489.5730457017 97.18383405357599 48.10402291675564\" preserveAspectRatio=\"xMinYMin meet\"><g transform=\"matrix(1,0,0,-1,0,-916931.0420684867)\"><path fill-rule=\"evenodd\" fill=\"#66cc99\" stroke=\"#555555\" stroke-width=\"1.9436766810715198\" opacity=\"0.6\" d=\"M 167676.39502095684,-458445.1289618202 L 167678.34141388026,-458445.3814954811 L 167680.2536817625,-458445.8235929918 L 167682.11340841843,-458446.45099671144 L 167683.90268366376,-458447.2576643993 L 167685.6042757998,-458448.23582740454 L 167687.20179756402,-458449.3760654828 L 167688.6798639486,-458450.66739751794 L 167690.02424036624,-458452.09738727665 L 167691.22197973714,-458453.65226317575 L 167692.26154717637,-458455.31705091044 L 167693.13293108123,-458457.0757176647 L 167693.82773954837,-458458.91132651636 L 167694.33928119243,-458460.80619954865 L 167694.66262958775,-458462.74208809854 L 167694.7946707125,-458464.7003485009 L 167694.7341329385,-458466.6621216377 L 167694.48159927755,-458468.60851456114 L 167694.0395017669,-458470.52078244335 L 167693.41209804727,-458472.3805090993 L 167692.6054303594,-458474.1697843446 L 167691.62726735414,-458475.8713764806 L 167690.48702927592,-458477.4688982449 L 167689.19569724076,-458478.94696462946 L 167687.7657074821,-458480.2913410471 L 167686.21083158295,-458481.48908041796 L 167684.54604384827,-458482.5286478572 L 167682.787377094,-458483.4000317621 L 167680.95176824238,-458484.0948402292 L 167679.05689521003,-458484.6063818733 L 167677.1210066602,-458484.9297302686 L 167675.1627462578,-458485.06177139335 L 167625.17106207384,-458485.97364444047 L 167623.20928893707,-458485.91310666647 L 167621.26289601365,-458485.66057300556 L 167619.35062813142,-458485.2184754949 L 167617.49090147548,-458484.59107177524 L 167615.70162623015,-458483.7844040874 L 167614.00003409412,-458482.80624108214 L 167612.4025123299,-458481.6660030039 L 167610.9244459453,-458480.37467096874 L 167609.58006952767,-458478.94468121004 L 167608.38233015678,-458477.38980531093 L 167607.34276271754,-458475.72501757625 L 167606.47137881268,-458473.966350822 L 167605.77657034554,-458472.1307419703 L 167605.26502870148,-458470.23586893803 L 167604.94168030616,-458468.29998038814 L 167604.80963918142,-458466.34171998576 L 167604.87017695542,-458464.37994684896 L 167605.12271061636,-458462.43355392554 L 167605.564808127,-458460.52128604334 L 167606.19221184665,-458458.6615593874 L 167606.9988795345,-458456.87228414207 L 167607.97704253977,-458455.17069200607 L 167609.117280618,-458453.5731702418 L 167610.40861265315,-458452.0951038572 L 167611.83860241182,-458450.7507274396 L 167613.39347831096,-458449.5529880687 L 167615.05826604564,-458448.5134206295 L 167616.8169327999,-458447.6420367246 L 167618.65254165154,-458446.9472282575 L 167620.54741468388,-458446.4356866134 L 167622.48330323372,-458446.1123382181 L 167624.44156363612,-458445.98029709334 L 167674.43324782007,-458445.0684240462 L 167676.39502095684,-458445.1289618202 z M 167634.7581601217,-458464.9967993636 L 167634.614165659,-458464.02606754674 L 167634.3757162123,-458463.07412399433 L 167634.0451081801,-458462.15013644326 L 167633.62552549847,-458461.26300339866 L 167633.12100897802,-458460.4212684367 L 167632.53641738862,-458459.6330379253 L 167631.87738066685,-458458.90590295504 L 167631.15024569663,-458458.2468662333 L 167630.36201518518,-458457.6622746439 L 167629.52028022325,-458457.1577581234 L 167628.63314717863,-458456.7381754418 L 167627.70915962753,-458456.40756740957 L 167626.75721607514,-458456.1691179629 L 167625.78648425828,-458456.0251235002 L 167624.80631285498,-458455.9769707669 L 167623.8261414517,-458456.0251235002 L 167622.85540963482,-458456.1691179629 L 167621.90346608244,-458456.40756740957 L 167620.97947853134,-458456.7381754418 L 167620.09234548672,-458457.1577581234 L 167619.2506105248,-458457.6622746439 L 167618.46238001334,-458458.2468662333 L 167617.73524504312,-458458.90590295504 L 167617.07620832135,-458459.6330379253 L 167616.49161673195,-458460.4212684367 L 167615.9871002115,-458461.26300339866 L 167615.56751752988,-458462.15013644326 L 167615.23690949767,-458463.07412399433 L 167614.99846005096,-458464.02606754674 L 167614.85446558826,-458464.9967993636 L 167614.80631285498,-458465.9769707669 L 167614.85446558826,-458466.9571421702 L 167614.99846005096,-458467.92787398706 L 167615.23690949767,-458468.8798175395 L 167615.56751752988,-458469.80380509055 L 167615.9871002115,-458470.69093813514 L 167616.49161673195,-458471.5326730971 L 167617.07620832135,-458472.3209036085 L 167617.73524504312,-458473.04803857877 L 167618.46238001334,-458473.7070753005 L 167619.2506105248,-458474.2916668899 L 167620.09234548672,-458474.7961834104 L 167620.97947853134,-458475.215766092 L 167621.90346608244,-458475.54637412424 L 167622.85540963482,-458475.7848235709 L 167623.8261414517,-458475.9288180336 L 167624.80631285498,-458475.9769707669 L 167625.78648425828,-458475.9288180336 L 167626.75721607514,-458475.7848235709 L 167627.70915962753,-458475.54637412424 L 167628.63314717863,-458475.215766092 L 167629.52028022325,-458474.7961834104 L 167630.36201518518,-458474.2916668899 L 167631.15024569663,-458473.7070753005 L 167631.87738066685,-458473.04803857877 L 167632.53641738862,-458472.3209036085 L 167633.12100897802,-458471.5326730971 L 167633.62552549847,-458470.69093813514 L 167634.0451081801,-458469.80380509055 L 167634.3757162123,-458468.8798175395 L 167634.614165659,-458467.92787398706 L 167634.7581601217,-458466.9571421702 L 167634.80631285498,-458465.9769707669 L 167634.7581601217,-458464.9967993636 z\" /></g></svg>"
      ],
      "text/plain": [
       "<shapely.geometry.polygon.Polygon at 0x7f8d9f841bb0>"
      ]
     },
     "execution_count": 209,
     "metadata": {},
     "output_type": "execute_result"
    }
   ],
   "source": [
    "end_segment.buffer(20).difference(end.buffer(10))"
   ]
  },
  {
   "cell_type": "code",
   "execution_count": 219,
   "id": "9b6c270a-b915-4f37-ae84-e15bb64c4fa4",
   "metadata": {},
   "outputs": [],
   "source": [
    "r_shift = end_segment.parallel_offset(21, 'right')\n",
    "r_pt = shapely.ops.substring(r_shift, r_shift.length, r_shift.length)\n",
    "r_pt2 = shapely.ops.substring(r_shift, r_shift.length - arrow_distance, r_shift.length - arrow_distance)\n",
    "l_shift = end_segment.parallel_offset(21, 'left')\n",
    "l_pt = shapely.ops.substring(l_shift, 0, 0)\n",
    "l_pt2 = shapely.ops.substring(l_shift, arrow_distance, arrow_distance)"
   ]
  },
  {
   "cell_type": "code",
   "execution_count": 220,
   "id": "fa8618b1-d4ee-4d2e-bf9e-61323a0e9796",
   "metadata": {},
   "outputs": [
    {
     "data": {
      "image/svg+xml": [
       "<svg xmlns=\"http://www.w3.org/2000/svg\" xmlns:xlink=\"http://www.w3.org/1999/xlink\" width=\"100.0\" height=\"100.0\" viewBox=\"167601.21023792017 -458489.5730457017 97.18383405357599 48.10402291675564\" preserveAspectRatio=\"xMinYMin meet\"><g transform=\"matrix(1,0,0,-1,0,-916931.0420684867)\"><path fill-rule=\"evenodd\" fill=\"#66cc99\" stroke=\"#555555\" stroke-width=\"1.9436766810715198\" opacity=\"0.6\" d=\"M 167676.39502095684,-458445.1289618202 L 167678.34141388026,-458445.3814954811 L 167680.2536817625,-458445.8235929918 L 167682.11340841843,-458446.45099671144 L 167683.90268366376,-458447.2576643993 L 167685.6042757998,-458448.23582740454 L 167687.20179756402,-458449.3760654828 L 167688.6798639486,-458450.66739751794 L 167690.02424036624,-458452.09738727665 L 167691.22197973714,-458453.65226317575 L 167692.26154717637,-458455.31705091044 L 167693.13293108123,-458457.0757176647 L 167693.82773954837,-458458.91132651636 L 167694.33928119243,-458460.80619954865 L 167694.66262958775,-458462.74208809854 L 167694.7946707125,-458464.7003485009 L 167694.7341329385,-458466.6621216377 L 167694.48159927755,-458468.60851456114 L 167694.0395017669,-458470.52078244335 L 167693.41209804727,-458472.3805090993 L 167692.6054303594,-458474.1697843446 L 167691.62726735414,-458475.8713764806 L 167690.48702927592,-458477.4688982449 L 167689.19569724076,-458478.94696462946 L 167687.7657074821,-458480.2913410471 L 167686.21083158295,-458481.48908041796 L 167684.54604384827,-458482.5286478572 L 167682.787377094,-458483.4000317621 L 167680.95176824238,-458484.0948402292 L 167679.05689521003,-458484.6063818733 L 167677.1210066602,-458484.9297302686 L 167675.1627462578,-458485.06177139335 L 167625.17106207384,-458485.97364444047 L 167623.20928893707,-458485.91310666647 L 167621.26289601365,-458485.66057300556 L 167619.35062813142,-458485.2184754949 L 167617.49090147548,-458484.59107177524 L 167615.70162623015,-458483.7844040874 L 167614.00003409412,-458482.80624108214 L 167612.4025123299,-458481.6660030039 L 167610.9244459453,-458480.37467096874 L 167609.58006952767,-458478.94468121004 L 167608.38233015678,-458477.38980531093 L 167607.34276271754,-458475.72501757625 L 167606.47137881268,-458473.966350822 L 167605.77657034554,-458472.1307419703 L 167605.26502870148,-458470.23586893803 L 167604.94168030616,-458468.29998038814 L 167604.80963918142,-458466.34171998576 L 167604.87017695542,-458464.37994684896 L 167605.12271061636,-458462.43355392554 L 167605.564808127,-458460.52128604334 L 167606.19221184665,-458458.6615593874 L 167606.9988795345,-458456.87228414207 L 167607.97704253977,-458455.17069200607 L 167609.117280618,-458453.5731702418 L 167610.40861265315,-458452.0951038572 L 167611.83860241182,-458450.7507274396 L 167613.39347831096,-458449.5529880687 L 167615.05826604564,-458448.5134206295 L 167615.0762004337,-458448.50453450193 L 167615.1845308501,-458448.8072977333 L 167615.6041135317,-458449.6944307779 L 167616.10863005216,-458450.5361657399 L 167616.69322164156,-458451.3243962513 L 167617.35225836333,-458452.05153122154 L 167618.07939333355,-458452.7105679433 L 167618.867623845,-458453.2951595327 L 167619.70935880693,-458453.79967605317 L 167620.59649185155,-458454.2192587348 L 167621.52047940265,-458454.549866767 L 167622.47242295503,-458454.7883162137 L 167623.4431547719,-458454.9323106764 L 167624.4233261752,-458454.9804634097 L 167625.4034975785,-458454.9323106764 L 167626.37422939535,-458454.7883162137 L 167627.32617294774,-458454.549866767 L 167628.25016049884,-458454.2192587348 L 167629.13729354346,-458453.79967605317 L 167629.9790285054,-458453.2951595327 L 167630.76725901684,-458452.7105679433 L 167631.49439398706,-458452.05153122154 L 167632.15343070883,-458451.3243962513 L 167632.73802229823,-458450.5361657399 L 167633.24253881868,-458449.6944307779 L 167633.6621215003,-458448.8072977333 L 167633.9927295325,-458447.88331018225 L 167634.23117897921,-458446.93136662984 L 167634.37517344192,-458445.960634813 L 167634.3831161017,-458445.79895825894 L 167674.43324782007,-458445.0684240462 L 167676.39502095684,-458445.1289618202 z\" /></g></svg>"
      ],
      "text/plain": [
       "<shapely.geometry.polygon.Polygon at 0x7f8d9f8be370>"
      ]
     },
     "execution_count": 220,
     "metadata": {},
     "output_type": "execute_result"
    }
   ],
   "source": [
    "end_segment.buffer(20).difference(l_pt.buffer(10))"
   ]
  },
  {
   "cell_type": "code",
   "execution_count": 223,
   "id": "bfc956c8-4489-4a7a-a2e9-b03ecc73811a",
   "metadata": {},
   "outputs": [],
   "source": [
    "t1 = shapely.geometry.Polygon((l_pt2, end, l_pt))\n",
    "t2 = shapely.geometry.Polygon((r_pt2, end, r_pt))"
   ]
  },
  {
   "cell_type": "code",
   "execution_count": 228,
   "id": "7088dc94-7fb7-4bd9-b3e8-6feb44a90c0d",
   "metadata": {},
   "outputs": [],
   "source": [
    "result = end_segment.buffer(20).difference(t1).difference(t2)"
   ]
  },
  {
   "cell_type": "code",
   "execution_count": 230,
   "id": "ac8a6eb4-6feb-48e5-96cf-3e58d62b0323",
   "metadata": {},
   "outputs": [
    {
     "data": {
      "image/svg+xml": [
       "<svg xmlns=\"http://www.w3.org/2000/svg\" xmlns:xlink=\"http://www.w3.org/1999/xlink\" width=\"100.0\" height=\"100.0\" viewBox=\"167622.00677854067 -458488.5126435985 75.58742648613406 46.243753866583575\" preserveAspectRatio=\"xMinYMin meet\"><g transform=\"matrix(1,0,0,-1,0,-916930.7815333304)\"><path fill-rule=\"evenodd\" fill=\"#66cc99\" stroke=\"#555555\" stroke-width=\"1.5117485297226814\" opacity=\"0.6\" d=\"M 167678.34141388026,-458445.3814954811 L 167680.2536817625,-458445.8235929918 L 167682.11340841843,-458446.45099671144 L 167683.90268366376,-458447.2576643993 L 167685.6042757998,-458448.23582740454 L 167687.20179756402,-458449.3760654828 L 167688.6798639486,-458450.66739751794 L 167690.02424036624,-458452.09738727665 L 167691.22197973714,-458453.65226317575 L 167692.26154717637,-458455.31705091044 L 167693.13293108123,-458457.0757176647 L 167693.82773954837,-458458.91132651636 L 167694.33928119243,-458460.80619954865 L 167694.66262958775,-458462.74208809854 L 167694.7946707125,-458464.7003485009 L 167694.7341329385,-458466.6621216377 L 167694.48159927755,-458468.60851456114 L 167694.0395017669,-458470.52078244335 L 167693.41209804727,-458472.3805090993 L 167692.6054303594,-458474.1697843446 L 167691.62726735414,-458475.8713764806 L 167690.48702927592,-458477.4688982449 L 167689.19569724076,-458478.94696462946 L 167687.7657074821,-458480.2913410471 L 167686.21083158295,-458481.48908041796 L 167684.54604384827,-458482.5286478572 L 167682.787377094,-458483.4000317621 L 167680.95176824238,-458484.0948402292 L 167679.05689521003,-458484.6063818733 L 167677.1210066602,-458484.9297302686 L 167675.1627462578,-458485.06177139335 L 167639.45440041213,-458485.7131092842 L 167624.80631285498,-458465.9769707669 L 167638.7249019744,-458445.71976193704 L 167674.43324782007,-458445.0684240462 L 167676.39502095684,-458445.1289618202 L 167678.34141388026,-458445.3814954811 z\" /></g></svg>"
      ],
      "text/plain": [
       "<shapely.geometry.polygon.Polygon at 0x7f8d9f7302b0>"
      ]
     },
     "execution_count": 230,
     "metadata": {},
     "output_type": "execute_result"
    }
   ],
   "source": [
    "result.geoms[0]"
   ]
  },
  {
   "cell_type": "code",
   "execution_count": 232,
   "id": "4a4f3f60-d6bf-4f2d-94ec-a7c279610525",
   "metadata": {},
   "outputs": [],
   "source": [
    "segment_clip_mask = shapely.geometry.MultiPolygon((poly, t1, t2))"
   ]
  },
  {
   "cell_type": "code",
   "execution_count": 236,
   "id": "bc1b68bf-37c2-4d58-8261-8728be3d8ebd",
   "metadata": {},
   "outputs": [
    {
     "data": {
      "image/svg+xml": [
       "<svg xmlns=\"http://www.w3.org/2000/svg\" xmlns:xlink=\"http://www.w3.org/1999/xlink\" width=\"277.96122241645935\" height=\"160.41119007469388\" viewBox=\"167614.5114527655 -458590.4118841291 277.96122241645935 160.41119007469388\" preserveAspectRatio=\"xMinYMin meet\"><g transform=\"matrix(1,0,0,-1,0,-917020.4125781835)\"><path fill-rule=\"evenodd\" fill=\"#66cc99\" stroke=\"#555555\" stroke-width=\"2.0\" opacity=\"0.6\" d=\"M 167740.34776765577,-458443.50922030053 L 167807.50615980683,-458440.78806387895 L 167807.54303152708,-458440.7865865803 L 167813.0098133105,-458440.5708510448 L 167813.21280933457,-458440.5638725236 L 167813.72037489756,-458440.5490036204 L 167813.9234313239,-458440.544087019 L 167816.60635811166,-458440.4927554803 L 167816.9345899815,-458440.4891697484 L 167817.75518795682,-458440.4869397074 L 167818.0834344672,-458440.48874140653 L 167823.84574799327,-458440.56766228046 L 167832.56253849217,-458440.3013131027 L 167833.5513024553,-458440.2955541439 L 167836.0220576787,-458440.342251295 L 167837.99439986594,-458440.4772549061 L 167840.44847406697,-458440.7676543098 L 167842.39785196647,-458441.096721905 L 167844.8112666335,-458441.627986098 L 167846.71863307117,-458442.1479023911 L 167849.06780697277,-458442.9148404446 L 167850.91452526243,-458443.6205253857 L 167853.17650485723,-458444.6156436252 L 167854.94453090162,-458445.50020203827 L 167857.09721461497,-458446.7137772638 L 167858.76927320895,-458447.76856621745 L 167860.7916273853,-458449.1887407078 L 167862.35138101326,-458450.4034539655 L 167864.22364543387,-458452.01635133894 L 167865.65585390062,-458453.3791200603 L 167867.35973485847,-458455.16898085916 L 167868.65040419865,-458456.66648956743 L 167870.16925324476,-458458.61582524225 L 167871.30577245908,-458460.23344193166 L 167872.62474907245,-458462.32320572 L 167873.59601334616,-458464.04512482096 L 167874.70222993928,-458466.2548978516 L 167875.4987491468,-458468.0642946657 L 167876.38139698884,-458470.3724854691 L 167876.99538842132,-458472.2516805624 L 167877.64584324922,-458474.6357360388 L 167878.07130765845,-458476.566367986 L 167878.48321394363,-458479.0029937697 L 167878.71599415963,-458480.9661985604 L 167878.8853272073,-458483.43158662657 L 167878.9286756928,-458484.4194166973 L 167879.06022591636,-458491.2943743887 L 167879.17350852842,-458497.2146468469 L 167880.88675823604,-458543.59271228075 L 167880.88767649714,-458543.6180035735 L 167880.88993214472,-458543.68123323814 L 167880.8908184017,-458543.7065256772 L 167881.5135590954,-458561.80580672424 L 167882.17781509247,-458579.2846447106 L 167861.39233118782,-458565.2945470034 L 167841.81625158823,-458580.1170240396 L 167841.81190815353,-458579.98985975113 L 167841.9374982554,-458578.0311750423 L 167842.07043255612,-458577.21883898764 L 167841.54104905156,-458563.2889557057 L 167841.53845295284,-458563.217254671 L 167840.91309036713,-458545.04409623257 L 167839.19420514777,-458498.51347619336 L 167839.18423312283,-458498.15778469935 L 167839.06754663776,-458492.05962213787 L 167838.94545758318,-458485.67911542294 L 167838.87782794976,-458484.69446834153 L 167838.79584990104,-458484.209528358 L 167838.6663956551,-458483.7350509758 L 167838.49073009618,-458483.2756722652 L 167838.27056963491,-458482.8358807698 L 167838.008065437,-458482.419973648 L 167837.7057824039,-458482.03201468533 L 167837.36667411387,-458481.67579459137 L 167836.99405395854,-458481.35479395534 L 167836.591562773,-458481.0721492431 L 167836.16313325672,-458480.8306221466 L 167835.71295155314,-458480.63257260394 L 167835.2454163403,-458480.4799357362 L 167834.76509585942,-458480.3742029435 L 167834.27668327207,-458480.31640733 L 167833.2898926105,-458480.29775703547 L 167824.6251315793,-458480.5625164072 L 167823.74040402606,-458480.5699709394 L 167817.69976012263,-458480.4872380416 L 167817.2074234427,-458480.48857600614 L 167814.79013857484,-458480.534825107 L 167814.48562978764,-458480.543745554 L 167809.11506117918,-458480.75569511973 L 167741.85283380022,-458483.4810587876 L 167741.62409919695,-458483.4890161221 L 167708.41822847305,-458484.4540053065 L 167708.20200695386,-458484.45911893586 L 167639.45440041213,-458485.7131092841 L 167624.80631285498,-458465.9769707669 L 167638.7249019744,-458445.719761937 L 167707.36438392947,-458444.46774383466 L 167740.34776765577,-458443.50922030053 z\" /></g></svg>"
      ],
      "text/plain": [
       "<shapely.geometry.polygon.Polygon at 0x7f8d9f638190>"
      ]
     },
     "execution_count": 236,
     "metadata": {},
     "output_type": "execute_result"
    }
   ],
   "source": [
    "geo.buffer(20).difference(segment_clip_mask).geoms[0]"
   ]
  },
  {
   "cell_type": "code",
   "execution_count": 248,
   "id": "337565b2-caef-492e-b0c9-4faf77fdd614",
   "metadata": {},
   "outputs": [],
   "source": [
    "def arrowize_segment(line_geometry, arrow_distance = 15, buffer_distance = 20):\n",
    "    \n",
    "    segment = line_geometry.simplify(tolerance = 5)\n",
    "    shift_distance = buffer_distance + 1\n",
    "    \n",
    "    begin_segment = shapely.ops.substring(segment, segment.length - 50, segment.length)\n",
    "    r_shift = begin_segment.parallel_offset(shift_distance, 'right')\n",
    "    r_pt = shapely.ops.substring(r_shift, 0 , 0)\n",
    "    l_shift = begin_segment.parallel_offset(shift_distance, 'left')\n",
    "    l_pt = shapely.ops.substring(l_shift, l_shift.length, l_shift.length)\n",
    "    end = shapely.ops.substring(begin_segment,\n",
    "                            begin_segment.length - arrow_distance,\n",
    "                            begin_segment.length - arrow_distance)\n",
    "    poly = shapely.geometry.Polygon((r_pt, end, l_pt)) ## triangle to cut bottom of arrow\n",
    "    ## ends to the left\n",
    "    end_segment = shapely.ops.substring(segment, 0, 50)\n",
    "    end = shapely.ops.substring(end_segment, 0, 0) ## correct\n",
    "    r_shift = end_segment.parallel_offset(shift_distance, 'right')\n",
    "    r_pt = shapely.ops.substring(r_shift, r_shift.length, r_shift.length)\n",
    "    r_pt2 = shapely.ops.substring(r_shift, r_shift.length - arrow_distance, r_shift.length - arrow_distance)\n",
    "    l_shift = end_segment.parallel_offset(shift_distance, 'left')\n",
    "    l_pt = shapely.ops.substring(l_shift, 0, 0)\n",
    "    l_pt2 = shapely.ops.substring(l_shift, arrow_distance, arrow_distance)\n",
    "    t1 = shapely.geometry.Polygon((l_pt2, end, l_pt)) ## triangles to cut top of arrow\n",
    "    t2 = shapely.geometry.Polygon((r_pt2, end, r_pt))\n",
    "    segment_clip_mask = shapely.geometry.MultiPolygon((poly, t1, t2))\n",
    "    # return segment_clip_mask\n",
    "    \n",
    "    differences = segment.buffer(buffer_distance).difference(segment_clip_mask)\n",
    "    areas = [x.area for x in differences.geoms]\n",
    "    for geom in differences.geoms:\n",
    "        if geom.area == max(areas):\n",
    "            return geom"
   ]
  },
  {
   "cell_type": "code",
   "execution_count": 250,
   "id": "20da9e20-93a7-4049-9de9-dafd838c1bfe",
   "metadata": {},
   "outputs": [
    {
     "data": {
      "image/svg+xml": [
       "<svg xmlns=\"http://www.w3.org/2000/svg\" xmlns:xlink=\"http://www.w3.org/1999/xlink\" width=\"277.5292074382305\" height=\"157.82996981887845\" viewBox=\"167614.52745332025 -458590.4754323023 277.5292074382305 157.82996981887845\" preserveAspectRatio=\"xMinYMin meet\"><g transform=\"matrix(1,0,0,-1,0,-917023.1208947857)\"><path fill-rule=\"evenodd\" fill=\"#66cc99\" stroke=\"#555555\" stroke-width=\"2.0\" opacity=\"0.6\" d=\"M 167846.78796431524,-458442.9918425417 L 167848.71469629448,-458443.2475924389 L 167850.60750517287,-458443.6891563411 L 167852.4485147706,-458444.31236400385 L 167854.22033811375,-458445.1113296918 L 167855.9062416414,-458446.07850776496 L 167857.49030324182,-458447.2047639418 L 167858.95756262483,-458448.47946156585 L 167860.2941626109,-458449.8905620609 L 167861.48748000173,-458451.4247386265 L 167875.12771447765,-458470.8389910721 L 167876.16327282725,-458472.47609419795 L 167877.0355954289,-458474.2057013842 L 167877.7364988329,-458476.01158680656 L 167878.25940771072,-458477.87680905755 L 167878.59941653948,-458479.7838700782 L 167878.7533356217,-458481.7148793108 L 167881.77780122374,-458578.9530263777 L 167861.3433448972,-458565.2959905613 L 167841.79713599198,-458580.1965727675 L 167838.95867857526,-458488.938685905 L 167834.8332846355,-458483.06698043505 L 167639.36791705,-458485.7770039972 L 167624.80631285498,-458465.9769707669 L 167638.81339157713,-458445.7808479132 L 167844.8455057935,-458442.92432201817 L 167846.78796431524,-458442.9918425417 z\" /></g></svg>"
      ],
      "text/plain": [
       "<shapely.geometry.polygon.Polygon at 0x7f8d9f52ae80>"
      ]
     },
     "execution_count": 250,
     "metadata": {},
     "output_type": "execute_result"
    }
   ],
   "source": [
    "arrowize_segment(geo)"
   ]
  },
  {
   "cell_type": "code",
   "execution_count": 251,
   "id": "13f64e5a-7716-41d6-9566-ce84f52d2084",
   "metadata": {},
   "outputs": [
    {
     "data": {
      "image/svg+xml": [
       "<svg xmlns=\"http://www.w3.org/2000/svg\" xmlns:xlink=\"http://www.w3.org/1999/xlink\" width=\"100.0\" height=\"100.0\" viewBox=\"168126.68205989077 -468636.6298605653 46.85460783375311 83.41113652591594\" preserveAspectRatio=\"xMinYMin meet\"><g transform=\"matrix(1,0,0,-1,0,-937189.8485846047)\"><path fill-rule=\"evenodd\" fill=\"#66cc99\" stroke=\"#555555\" stroke-width=\"1.6682227305183188\" opacity=\"0.6\" d=\"M 168129.7713612436,-468570.80916111177 L 168149.61572304982,-468556.3080253922 L 168169.7690228298,-468570.37664794846 L 168170.4473663717,-468633.1080460492 L 168150.2940665917,-468619.0394234929 L 168130.44970478548,-468633.5405592125 L 168129.7713612436,-468570.80916111177 z\" /></g></svg>"
      ],
      "text/plain": [
       "<shapely.geometry.polygon.Polygon at 0x7f8d9f52a760>"
      ]
     },
     "execution_count": 251,
     "metadata": {},
     "output_type": "execute_result"
    }
   ],
   "source": [
    "arrowize_segment(ex.loc[12482].geometry)"
   ]
  },
  {
   "cell_type": "markdown",
   "id": "c94a84ab-388d-4f11-be47-88a4fccc73d0",
   "metadata": {},
   "source": [
    "### Old"
   ]
  },
  {
   "cell_type": "code",
   "execution_count": 19,
   "id": "6bbdc3e4-7fee-4e8b-86eb-55bc52ac2eaa",
   "metadata": {
    "collapsed": true,
    "jupyter": {
     "outputs_hidden": true
    },
    "tags": []
   },
   "outputs": [
    {
     "ename": "KeyError",
     "evalue": "1",
     "output_type": "error",
     "traceback": [
      "\u001b[0;31m---------------------------------------------------------------------------\u001b[0m",
      "\u001b[0;31mKeyError\u001b[0m                                  Traceback (most recent call last)",
      "\u001b[0;32m/opt/conda/lib/python3.9/site-packages/pandas/core/indexes/base.py\u001b[0m in \u001b[0;36mget_loc\u001b[0;34m(self, key, method, tolerance)\u001b[0m\n\u001b[1;32m   3360\u001b[0m             \u001b[0;32mtry\u001b[0m\u001b[0;34m:\u001b[0m\u001b[0;34m\u001b[0m\u001b[0;34m\u001b[0m\u001b[0m\n\u001b[0;32m-> 3361\u001b[0;31m                 \u001b[0;32mreturn\u001b[0m \u001b[0mself\u001b[0m\u001b[0;34m.\u001b[0m\u001b[0m_engine\u001b[0m\u001b[0;34m.\u001b[0m\u001b[0mget_loc\u001b[0m\u001b[0;34m(\u001b[0m\u001b[0mcasted_key\u001b[0m\u001b[0;34m)\u001b[0m\u001b[0;34m\u001b[0m\u001b[0;34m\u001b[0m\u001b[0m\n\u001b[0m\u001b[1;32m   3362\u001b[0m             \u001b[0;32mexcept\u001b[0m \u001b[0mKeyError\u001b[0m \u001b[0;32mas\u001b[0m \u001b[0merr\u001b[0m\u001b[0;34m:\u001b[0m\u001b[0;34m\u001b[0m\u001b[0;34m\u001b[0m\u001b[0m\n",
      "\u001b[0;32m/opt/conda/lib/python3.9/site-packages/pandas/_libs/index.pyx\u001b[0m in \u001b[0;36mpandas._libs.index.IndexEngine.get_loc\u001b[0;34m()\u001b[0m\n",
      "\u001b[0;32m/opt/conda/lib/python3.9/site-packages/pandas/_libs/index.pyx\u001b[0m in \u001b[0;36mpandas._libs.index.IndexEngine.get_loc\u001b[0;34m()\u001b[0m\n",
      "\u001b[0;32mpandas/_libs/hashtable_class_helper.pxi\u001b[0m in \u001b[0;36mpandas._libs.hashtable.PyObjectHashTable.get_item\u001b[0;34m()\u001b[0m\n",
      "\u001b[0;32mpandas/_libs/hashtable_class_helper.pxi\u001b[0m in \u001b[0;36mpandas._libs.hashtable.PyObjectHashTable.get_item\u001b[0;34m()\u001b[0m\n",
      "\u001b[0;31mKeyError\u001b[0m: 1",
      "\nThe above exception was the direct cause of the following exception:\n",
      "\u001b[0;31mKeyError\u001b[0m                                  Traceback (most recent call last)",
      "\u001b[0;32m/tmp/ipykernel_863/525529122.py\u001b[0m in \u001b[0;36m<module>\u001b[0;34m\u001b[0m\n\u001b[0;32m----> 1\u001b[0;31m \u001b[0mclip\u001b[0m \u001b[0;34m=\u001b[0m \u001b[0mshapely\u001b[0m\u001b[0;34m.\u001b[0m\u001b[0mgeometry\u001b[0m\u001b[0;34m.\u001b[0m\u001b[0mPoint\u001b[0m\u001b[0;34m(\u001b[0m\u001b[0mex\u001b[0m\u001b[0;34m.\u001b[0m\u001b[0mgeometry\u001b[0m\u001b[0;34m.\u001b[0m\u001b[0mcentroid\u001b[0m\u001b[0;34m.\u001b[0m\u001b[0mx\u001b[0m\u001b[0;34m,\u001b[0m \u001b[0mex\u001b[0m\u001b[0;34m.\u001b[0m\u001b[0mgeometry\u001b[0m\u001b[0;34m.\u001b[0m\u001b[0mbounds\u001b[0m\u001b[0;34m[\u001b[0m\u001b[0;36m1\u001b[0m\u001b[0;34m]\u001b[0m\u001b[0;34m)\u001b[0m\u001b[0;34m.\u001b[0m\u001b[0mbuffer\u001b[0m\u001b[0;34m(\u001b[0m\u001b[0;36m25\u001b[0m\u001b[0;34m)\u001b[0m\u001b[0;34m\u001b[0m\u001b[0;34m\u001b[0m\u001b[0m\n\u001b[0m",
      "\u001b[0;32m/opt/conda/lib/python3.9/site-packages/pandas/core/frame.py\u001b[0m in \u001b[0;36m__getitem__\u001b[0;34m(self, key)\u001b[0m\n\u001b[1;32m   3456\u001b[0m             \u001b[0;32mif\u001b[0m \u001b[0mself\u001b[0m\u001b[0;34m.\u001b[0m\u001b[0mcolumns\u001b[0m\u001b[0;34m.\u001b[0m\u001b[0mnlevels\u001b[0m \u001b[0;34m>\u001b[0m \u001b[0;36m1\u001b[0m\u001b[0;34m:\u001b[0m\u001b[0;34m\u001b[0m\u001b[0;34m\u001b[0m\u001b[0m\n\u001b[1;32m   3457\u001b[0m                 \u001b[0;32mreturn\u001b[0m \u001b[0mself\u001b[0m\u001b[0;34m.\u001b[0m\u001b[0m_getitem_multilevel\u001b[0m\u001b[0;34m(\u001b[0m\u001b[0mkey\u001b[0m\u001b[0;34m)\u001b[0m\u001b[0;34m\u001b[0m\u001b[0;34m\u001b[0m\u001b[0m\n\u001b[0;32m-> 3458\u001b[0;31m             \u001b[0mindexer\u001b[0m \u001b[0;34m=\u001b[0m \u001b[0mself\u001b[0m\u001b[0;34m.\u001b[0m\u001b[0mcolumns\u001b[0m\u001b[0;34m.\u001b[0m\u001b[0mget_loc\u001b[0m\u001b[0;34m(\u001b[0m\u001b[0mkey\u001b[0m\u001b[0;34m)\u001b[0m\u001b[0;34m\u001b[0m\u001b[0;34m\u001b[0m\u001b[0m\n\u001b[0m\u001b[1;32m   3459\u001b[0m             \u001b[0;32mif\u001b[0m \u001b[0mis_integer\u001b[0m\u001b[0;34m(\u001b[0m\u001b[0mindexer\u001b[0m\u001b[0;34m)\u001b[0m\u001b[0;34m:\u001b[0m\u001b[0;34m\u001b[0m\u001b[0;34m\u001b[0m\u001b[0m\n\u001b[1;32m   3460\u001b[0m                 \u001b[0mindexer\u001b[0m \u001b[0;34m=\u001b[0m \u001b[0;34m[\u001b[0m\u001b[0mindexer\u001b[0m\u001b[0;34m]\u001b[0m\u001b[0;34m\u001b[0m\u001b[0;34m\u001b[0m\u001b[0m\n",
      "\u001b[0;32m/opt/conda/lib/python3.9/site-packages/pandas/core/indexes/base.py\u001b[0m in \u001b[0;36mget_loc\u001b[0;34m(self, key, method, tolerance)\u001b[0m\n\u001b[1;32m   3361\u001b[0m                 \u001b[0;32mreturn\u001b[0m \u001b[0mself\u001b[0m\u001b[0;34m.\u001b[0m\u001b[0m_engine\u001b[0m\u001b[0;34m.\u001b[0m\u001b[0mget_loc\u001b[0m\u001b[0;34m(\u001b[0m\u001b[0mcasted_key\u001b[0m\u001b[0;34m)\u001b[0m\u001b[0;34m\u001b[0m\u001b[0;34m\u001b[0m\u001b[0m\n\u001b[1;32m   3362\u001b[0m             \u001b[0;32mexcept\u001b[0m \u001b[0mKeyError\u001b[0m \u001b[0;32mas\u001b[0m \u001b[0merr\u001b[0m\u001b[0;34m:\u001b[0m\u001b[0;34m\u001b[0m\u001b[0;34m\u001b[0m\u001b[0m\n\u001b[0;32m-> 3363\u001b[0;31m                 \u001b[0;32mraise\u001b[0m \u001b[0mKeyError\u001b[0m\u001b[0;34m(\u001b[0m\u001b[0mkey\u001b[0m\u001b[0;34m)\u001b[0m \u001b[0;32mfrom\u001b[0m \u001b[0merr\u001b[0m\u001b[0;34m\u001b[0m\u001b[0;34m\u001b[0m\u001b[0m\n\u001b[0m\u001b[1;32m   3364\u001b[0m \u001b[0;34m\u001b[0m\u001b[0m\n\u001b[1;32m   3365\u001b[0m         \u001b[0;32mif\u001b[0m \u001b[0mis_scalar\u001b[0m\u001b[0;34m(\u001b[0m\u001b[0mkey\u001b[0m\u001b[0;34m)\u001b[0m \u001b[0;32mand\u001b[0m \u001b[0misna\u001b[0m\u001b[0;34m(\u001b[0m\u001b[0mkey\u001b[0m\u001b[0;34m)\u001b[0m \u001b[0;32mand\u001b[0m \u001b[0;32mnot\u001b[0m \u001b[0mself\u001b[0m\u001b[0;34m.\u001b[0m\u001b[0mhasnans\u001b[0m\u001b[0;34m:\u001b[0m\u001b[0;34m\u001b[0m\u001b[0;34m\u001b[0m\u001b[0m\n",
      "\u001b[0;31mKeyError\u001b[0m: 1"
     ]
    }
   ],
   "source": [
    "clip = shapely.geometry.Point(ex.geometry.centroid.x, ex.geometry.bounds[1]).buffer(25)"
   ]
  },
  {
   "cell_type": "code",
   "execution_count": null,
   "id": "48fd1cac-6b8c-4578-8907-2919b362a844",
   "metadata": {},
   "outputs": [],
   "source": [
    "clip"
   ]
  },
  {
   "cell_type": "code",
   "execution_count": null,
   "id": "03b42c23-584b-4d31-ba27-256f33f155ac",
   "metadata": {},
   "outputs": [],
   "source": [
    "top = (ex.geometry.centroid.x, ex.geometry.bounds[1] + 50)\n",
    "\n",
    "lower_left = (ex.geometry.bounds[0] - 25, ex.geometry.bounds[1])\n",
    "lower_right = (ex.geometry.bounds[2] + 25, ex.geometry.bounds[1])"
   ]
  },
  {
   "cell_type": "code",
   "execution_count": null,
   "id": "89f70843-aa9c-4ed3-8fb9-df5758dfc412",
   "metadata": {},
   "outputs": [],
   "source": [
    "ex.geometry.bounds"
   ]
  },
  {
   "cell_type": "code",
   "execution_count": null,
   "id": "0b992759-21e1-4feb-abf5-e31a4bbae960",
   "metadata": {},
   "outputs": [],
   "source": [
    "clip2 = shapely.geometry.Polygon((top, lower_left, lower_right))\n",
    "clip2"
   ]
  },
  {
   "cell_type": "code",
   "execution_count": null,
   "id": "ae55c98c-65b9-4dbe-b239-b5a70b6a5cc0",
   "metadata": {},
   "outputs": [],
   "source": [
    "ex.geometry.difference(clip2)"
   ]
  },
  {
   "cell_type": "code",
   "execution_count": null,
   "id": "8530c173-b039-4be0-a892-caa34c154c3f",
   "metadata": {},
   "outputs": [],
   "source": [
    "left_side = ex.geometry.bounds[0]\n",
    "right_side = ex.geometry.bounds[2]\n",
    "top_side = ex.geometry.bounds[3]"
   ]
  },
  {
   "cell_type": "code",
   "execution_count": null,
   "id": "ce884270-9a97-46d3-a2b2-1560011ee2f5",
   "metadata": {},
   "outputs": [],
   "source": [
    "vertex_1 = (left_side, top_side)\n",
    "vertex_2 = (right_side, top_side)\n",
    "vertex_3 = (right_side, top_side - 45)\n",
    "vertex_4 = (ex.geometry.centroid.x, top_side - 10)\n",
    "vertex_5 = (left_side, top_side - 45)"
   ]
  },
  {
   "cell_type": "code",
   "execution_count": null,
   "id": "c308e8d8-002b-41fb-a9ae-fd80395bc317",
   "metadata": {},
   "outputs": [],
   "source": [
    "clip3 = shapely.geometry.Polygon((vertex_1, vertex_2, vertex_3,\n",
    "                                 vertex_4, vertex_5))\n",
    "clip3"
   ]
  },
  {
   "cell_type": "code",
   "execution_count": null,
   "id": "9a94ed36-23b1-4186-8c1f-c436bcd2baeb",
   "metadata": {},
   "outputs": [],
   "source": [
    "ex.geometry.difference(clip2).difference(clip3)"
   ]
  },
  {
   "cell_type": "code",
   "execution_count": null,
   "id": "6d98ac0c-b758-40f6-a599-9b7333188f99",
   "metadata": {},
   "outputs": [],
   "source": []
  }
 ],
 "metadata": {
  "kernelspec": {
   "display_name": "Python 3 (ipykernel)",
   "language": "python",
   "name": "python3"
  },
  "language_info": {
   "codemirror_mode": {
    "name": "ipython",
    "version": 3
   },
   "file_extension": ".py",
   "mimetype": "text/x-python",
   "name": "python",
   "nbconvert_exporter": "python",
   "pygments_lexer": "ipython3",
   "version": "3.9.7"
  }
 },
 "nbformat": 4,
 "nbformat_minor": 5
}
