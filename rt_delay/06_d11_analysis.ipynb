{
 "cells": [
  {
   "cell_type": "code",
   "execution_count": 1,
   "id": "501b0da7-46f9-4c8c-a62e-1c000361b844",
   "metadata": {},
   "outputs": [
    {
     "name": "stderr",
     "output_type": "stream",
     "text": [
      "/opt/conda/lib/python3.9/site-packages/geopandas/_compat.py:111: UserWarning: The Shapely GEOS version (3.9.1-CAPI-1.14.2) is incompatible with the GEOS version PyGEOS was compiled with (3.10.1-CAPI-1.16.0). Conversions between both will be slow.\n",
      "  warnings.warn(\n"
     ]
    }
   ],
   "source": [
    "import os\n",
    "os.environ[\"CALITP_BQ_MAX_BYTES\"] = str(100_000_000_000)\n",
    "\n",
    "from calitp.tables import tbl\n",
    "from calitp import query_sql\n",
    "import calitp.magics\n",
    "import branca\n",
    "\n",
    "import shared_utils\n",
    "from utils import *\n",
    "\n",
    "from siuba import *\n",
    "import pandas as pd\n",
    "import geopandas as gpd\n",
    "import shapely\n",
    "\n",
    "import datetime as dt\n",
    "import time\n",
    "from zoneinfo import ZoneInfo\n",
    "\n",
    "import rt_analysis as rt\n",
    "import importlib\n",
    "\n",
    "import gcsfs\n",
    "fs = gcsfs.GCSFileSystem()\n",
    "\n",
    "from tqdm import tqdm_notebook\n",
    "from tqdm.notebook import trange, tqdm"
   ]
  },
  {
   "cell_type": "code",
   "execution_count": 2,
   "id": "d685201d-6c3d-441a-be6a-6d434c13664b",
   "metadata": {},
   "outputs": [
    {
     "data": {
      "text/plain": [
       "'gs://calitp-analytics-data/data-analyses/rt_delay/'"
      ]
     },
     "execution_count": 2,
     "metadata": {},
     "output_type": "execute_result"
    }
   ],
   "source": [
    "GCS_FILE_PATH"
   ]
  },
  {
   "cell_type": "code",
   "execution_count": 4,
   "id": "4f6f5610-280f-4524-a686-9eee6947ec5a",
   "metadata": {},
   "outputs": [
    {
     "data": {
      "text/html": [
       "<div>\n",
       "<style scoped>\n",
       "    .dataframe tbody tr th:only-of-type {\n",
       "        vertical-align: middle;\n",
       "    }\n",
       "\n",
       "    .dataframe tbody tr th {\n",
       "        vertical-align: top;\n",
       "    }\n",
       "\n",
       "    .dataframe thead th {\n",
       "        text-align: right;\n",
       "    }\n",
       "</style>\n",
       "<table border=\"1\" class=\"dataframe\">\n",
       "  <thead>\n",
       "    <tr style=\"text-align: right;\">\n",
       "      <th></th>\n",
       "      <th>calitp_itp_id</th>\n",
       "      <th>calitp_url_number</th>\n",
       "      <th>entity_id</th>\n",
       "      <th>vehicle_id</th>\n",
       "      <th>vehicle_trip_id</th>\n",
       "      <th>vehicle_timestamp</th>\n",
       "      <th>vehicle_position_latitude</th>\n",
       "      <th>vehicle_position_longitude</th>\n",
       "      <th>header_timestamp</th>\n",
       "    </tr>\n",
       "  </thead>\n",
       "  <tbody>\n",
       "    <tr>\n",
       "      <th>0</th>\n",
       "      <td>170</td>\n",
       "      <td>0</td>\n",
       "      <td>2403</td>\n",
       "      <td>None</td>\n",
       "      <td>9288416</td>\n",
       "      <td>2021-11-29 15:59:12</td>\n",
       "      <td>33.775260</td>\n",
       "      <td>-118.152000</td>\n",
       "      <td>2021-11-29 16:00:04</td>\n",
       "    </tr>\n",
       "    <tr>\n",
       "      <th>1</th>\n",
       "      <td>170</td>\n",
       "      <td>0</td>\n",
       "      <td>2404</td>\n",
       "      <td>None</td>\n",
       "      <td>9288666</td>\n",
       "      <td>2021-11-29 15:59:17</td>\n",
       "      <td>33.768030</td>\n",
       "      <td>-118.191220</td>\n",
       "      <td>2021-11-29 16:00:04</td>\n",
       "    </tr>\n",
       "    <tr>\n",
       "      <th>2</th>\n",
       "      <td>170</td>\n",
       "      <td>0</td>\n",
       "      <td>2407</td>\n",
       "      <td>None</td>\n",
       "      <td>9288521</td>\n",
       "      <td>2021-11-29 15:59:33</td>\n",
       "      <td>33.775394</td>\n",
       "      <td>-118.141396</td>\n",
       "      <td>2021-11-29 16:00:04</td>\n",
       "    </tr>\n",
       "  </tbody>\n",
       "</table>\n",
       "</div>"
      ],
      "text/plain": [
       "   calitp_itp_id  calitp_url_number entity_id vehicle_id vehicle_trip_id  \\\n",
       "0            170                  0      2403       None         9288416   \n",
       "1            170                  0      2404       None         9288666   \n",
       "2            170                  0      2407       None         9288521   \n",
       "\n",
       "    vehicle_timestamp  vehicle_position_latitude  vehicle_position_longitude  \\\n",
       "0 2021-11-29 15:59:12                  33.775260                 -118.152000   \n",
       "1 2021-11-29 15:59:17                  33.768030                 -118.191220   \n",
       "2 2021-11-29 15:59:33                  33.775394                 -118.141396   \n",
       "\n",
       "     header_timestamp  \n",
       "0 2021-11-29 16:00:04  \n",
       "1 2021-11-29 16:00:04  \n",
       "2 2021-11-29 16:00:04  "
      ]
     },
     "execution_count": 4,
     "metadata": {},
     "output_type": "execute_result"
    }
   ],
   "source": [
    "old = pd.read_parquet(f'{GCS_FILE_PATH}lbt_positions.parquet')\n",
    "old.head(3)"
   ]
  },
  {
   "cell_type": "code",
   "execution_count": 5,
   "id": "6315b268-70d9-4047-b85d-2f2846e77b51",
   "metadata": {},
   "outputs": [],
   "source": [
    "new = query_sql('''\n",
    "SELECT * FROM `cal-itp-data-infra.gtfs_rt.vehicle_positions`\n",
    "WHERE calitp_itp_id = 170 LIMIT 1000\n",
    "''')"
   ]
  },
  {
   "cell_type": "code",
   "execution_count": 6,
   "id": "9678777f-e22a-4168-a1af-aaa3e15d1f7f",
   "metadata": {},
   "outputs": [
    {
     "data": {
      "text/html": [
       "<div>\n",
       "<style scoped>\n",
       "    .dataframe tbody tr th:only-of-type {\n",
       "        vertical-align: middle;\n",
       "    }\n",
       "\n",
       "    .dataframe tbody tr th {\n",
       "        vertical-align: top;\n",
       "    }\n",
       "\n",
       "    .dataframe thead th {\n",
       "        text-align: right;\n",
       "    }\n",
       "</style>\n",
       "<table border=\"1\" class=\"dataframe\">\n",
       "  <thead>\n",
       "    <tr style=\"text-align: right;\">\n",
       "      <th></th>\n",
       "      <th>calitp_itp_id</th>\n",
       "      <th>calitp_url_number</th>\n",
       "      <th>calitp_filepath</th>\n",
       "      <th>id</th>\n",
       "      <th>header</th>\n",
       "      <th>vehicle</th>\n",
       "    </tr>\n",
       "  </thead>\n",
       "  <tbody>\n",
       "    <tr>\n",
       "      <th>0</th>\n",
       "      <td>170</td>\n",
       "      <td>0</td>\n",
       "      <td>/tmp/tmp8kb4cpoy/2022-02-09T19:45:48/170/0/gtf...</td>\n",
       "      <td>2403</td>\n",
       "      <td>{'timestamp': 1644435943, 'incrementality': No...</td>\n",
       "      <td>{'vehicle': {'licensePlate': None, 'label': '2...</td>\n",
       "    </tr>\n",
       "    <tr>\n",
       "      <th>1</th>\n",
       "      <td>170</td>\n",
       "      <td>0</td>\n",
       "      <td>/tmp/tmp8kb4cpoy/2022-02-09T19:45:48/170/0/gtf...</td>\n",
       "      <td>2404</td>\n",
       "      <td>{'timestamp': 1644435943, 'incrementality': No...</td>\n",
       "      <td>{'vehicle': {'licensePlate': None, 'label': '2...</td>\n",
       "    </tr>\n",
       "    <tr>\n",
       "      <th>2</th>\n",
       "      <td>170</td>\n",
       "      <td>0</td>\n",
       "      <td>/tmp/tmp8kb4cpoy/2022-02-09T19:45:48/170/0/gtf...</td>\n",
       "      <td>2407</td>\n",
       "      <td>{'timestamp': 1644435943, 'incrementality': No...</td>\n",
       "      <td>{'vehicle': {'licensePlate': None, 'label': '2...</td>\n",
       "    </tr>\n",
       "  </tbody>\n",
       "</table>\n",
       "</div>"
      ],
      "text/plain": [
       "   calitp_itp_id  calitp_url_number  \\\n",
       "0            170                  0   \n",
       "1            170                  0   \n",
       "2            170                  0   \n",
       "\n",
       "                                     calitp_filepath    id  \\\n",
       "0  /tmp/tmp8kb4cpoy/2022-02-09T19:45:48/170/0/gtf...  2403   \n",
       "1  /tmp/tmp8kb4cpoy/2022-02-09T19:45:48/170/0/gtf...  2404   \n",
       "2  /tmp/tmp8kb4cpoy/2022-02-09T19:45:48/170/0/gtf...  2407   \n",
       "\n",
       "                                              header  \\\n",
       "0  {'timestamp': 1644435943, 'incrementality': No...   \n",
       "1  {'timestamp': 1644435943, 'incrementality': No...   \n",
       "2  {'timestamp': 1644435943, 'incrementality': No...   \n",
       "\n",
       "                                             vehicle  \n",
       "0  {'vehicle': {'licensePlate': None, 'label': '2...  \n",
       "1  {'vehicle': {'licensePlate': None, 'label': '2...  \n",
       "2  {'vehicle': {'licensePlate': None, 'label': '2...  "
      ]
     },
     "execution_count": 6,
     "metadata": {},
     "output_type": "execute_result"
    }
   ],
   "source": [
    "new.head(3)"
   ]
  },
  {
   "cell_type": "code",
   "execution_count": 12,
   "id": "1a08ce1c-456e-4d55-8df4-748bd81ff101",
   "metadata": {},
   "outputs": [
    {
     "data": {
      "text/plain": [
       "{'vehicle': {'licensePlate': None, 'label': '2403', 'id': None},\n",
       " 'trip': {'tripId': '9370849',\n",
       "  'routeId': None,\n",
       "  'directionId': None,\n",
       "  'startTime': None,\n",
       "  'startDate': None,\n",
       "  'scheduleRelationship': None},\n",
       " 'position': {'latitude': 33.760986,\n",
       "  'longitude': -118.15106,\n",
       "  'bearing': None,\n",
       "  'odometer': None,\n",
       "  'speed': None},\n",
       " 'currentStopSequence': None,\n",
       " 'stopId': None,\n",
       " 'currentStatus': None,\n",
       " 'timestamp': 1644435845,\n",
       " 'congestionLevel': None,\n",
       " 'occupancyStatus': None,\n",
       " 'occupancyPercentage': None}"
      ]
     },
     "execution_count": 12,
     "metadata": {},
     "output_type": "execute_result"
    }
   ],
   "source": [
    "new.vehicle.iloc[0]"
   ]
  },
  {
   "cell_type": "code",
   "execution_count": 36,
   "id": "24dddc9c-f939-472a-bfb3-2c02df4f79b2",
   "metadata": {},
   "outputs": [
    {
     "data": {
      "text/html": [
       "<div>\n",
       "<style scoped>\n",
       "    .dataframe tbody tr th:only-of-type {\n",
       "        vertical-align: middle;\n",
       "    }\n",
       "\n",
       "    .dataframe tbody tr th {\n",
       "        vertical-align: top;\n",
       "    }\n",
       "\n",
       "    .dataframe thead th {\n",
       "        text-align: right;\n",
       "    }\n",
       "</style>\n",
       "<table border=\"1\" class=\"dataframe\">\n",
       "  <thead>\n",
       "    <tr style=\"text-align: right;\">\n",
       "      <th></th>\n",
       "      <th>calitp_itp_id</th>\n",
       "      <th>calitp_url_number</th>\n",
       "      <th>header_timestamp</th>\n",
       "      <th>vehicle_timestamp</th>\n",
       "      <th>entity_id</th>\n",
       "      <th>vehicle_id</th>\n",
       "      <th>vehicle_trip_id</th>\n",
       "      <th>vehicle_longitude</th>\n",
       "      <th>vehicle_latitude</th>\n",
       "    </tr>\n",
       "  </thead>\n",
       "  <tbody>\n",
       "    <tr>\n",
       "      <th>0</th>\n",
       "      <td>170</td>\n",
       "      <td>0</td>\n",
       "      <td>1644435943</td>\n",
       "      <td>1644435845</td>\n",
       "      <td>2403</td>\n",
       "      <td>None</td>\n",
       "      <td>9370849</td>\n",
       "      <td>-118.151060</td>\n",
       "      <td>33.760986</td>\n",
       "    </tr>\n",
       "    <tr>\n",
       "      <th>1</th>\n",
       "      <td>170</td>\n",
       "      <td>0</td>\n",
       "      <td>1644435943</td>\n",
       "      <td>1644435872</td>\n",
       "      <td>2404</td>\n",
       "      <td>None</td>\n",
       "      <td>9370203</td>\n",
       "      <td>-118.154660</td>\n",
       "      <td>33.771730</td>\n",
       "    </tr>\n",
       "    <tr>\n",
       "      <th>2</th>\n",
       "      <td>170</td>\n",
       "      <td>0</td>\n",
       "      <td>1644435943</td>\n",
       "      <td>1644435874</td>\n",
       "      <td>2407</td>\n",
       "      <td>None</td>\n",
       "      <td>9369934</td>\n",
       "      <td>-118.120186</td>\n",
       "      <td>33.775400</td>\n",
       "    </tr>\n",
       "    <tr>\n",
       "      <th>3</th>\n",
       "      <td>170</td>\n",
       "      <td>0</td>\n",
       "      <td>1644435943</td>\n",
       "      <td>1644435911</td>\n",
       "      <td>2409</td>\n",
       "      <td>None</td>\n",
       "      <td>9370154</td>\n",
       "      <td>-118.107640</td>\n",
       "      <td>33.847557</td>\n",
       "    </tr>\n",
       "    <tr>\n",
       "      <th>4</th>\n",
       "      <td>170</td>\n",
       "      <td>0</td>\n",
       "      <td>1644435943</td>\n",
       "      <td>1644435870</td>\n",
       "      <td>2410</td>\n",
       "      <td>None</td>\n",
       "      <td>9370132</td>\n",
       "      <td>-118.100020</td>\n",
       "      <td>33.887980</td>\n",
       "    </tr>\n",
       "    <tr>\n",
       "      <th>...</th>\n",
       "      <td>...</td>\n",
       "      <td>...</td>\n",
       "      <td>...</td>\n",
       "      <td>...</td>\n",
       "      <td>...</td>\n",
       "      <td>...</td>\n",
       "      <td>...</td>\n",
       "      <td>...</td>\n",
       "      <td>...</td>\n",
       "    </tr>\n",
       "    <tr>\n",
       "      <th>237147</th>\n",
       "      <td>170</td>\n",
       "      <td>0</td>\n",
       "      <td>1644435943</td>\n",
       "      <td>1644435889</td>\n",
       "      <td>1831</td>\n",
       "      <td>None</td>\n",
       "      <td>9370693</td>\n",
       "      <td>-118.189520</td>\n",
       "      <td>33.800274</td>\n",
       "    </tr>\n",
       "    <tr>\n",
       "      <th>237148</th>\n",
       "      <td>170</td>\n",
       "      <td>0</td>\n",
       "      <td>1644435943</td>\n",
       "      <td>1644435884</td>\n",
       "      <td>1832</td>\n",
       "      <td>None</td>\n",
       "      <td>9369750</td>\n",
       "      <td>-118.184870</td>\n",
       "      <td>33.855206</td>\n",
       "    </tr>\n",
       "    <tr>\n",
       "      <th>237149</th>\n",
       "      <td>170</td>\n",
       "      <td>0</td>\n",
       "      <td>1644435943</td>\n",
       "      <td>1644435880</td>\n",
       "      <td>1833</td>\n",
       "      <td>None</td>\n",
       "      <td>9369643</td>\n",
       "      <td>-118.215546</td>\n",
       "      <td>33.797770</td>\n",
       "    </tr>\n",
       "    <tr>\n",
       "      <th>237150</th>\n",
       "      <td>170</td>\n",
       "      <td>0</td>\n",
       "      <td>1644435943</td>\n",
       "      <td>1644435890</td>\n",
       "      <td>1838</td>\n",
       "      <td>None</td>\n",
       "      <td>9371122</td>\n",
       "      <td>-118.196754</td>\n",
       "      <td>33.782665</td>\n",
       "    </tr>\n",
       "    <tr>\n",
       "      <th>237151</th>\n",
       "      <td>170</td>\n",
       "      <td>0</td>\n",
       "      <td>1644435943</td>\n",
       "      <td>1644435875</td>\n",
       "      <td>1840</td>\n",
       "      <td>None</td>\n",
       "      <td>9370848</td>\n",
       "      <td>-118.199990</td>\n",
       "      <td>33.764034</td>\n",
       "    </tr>\n",
       "  </tbody>\n",
       "</table>\n",
       "<p>237152 rows × 9 columns</p>\n",
       "</div>"
      ],
      "text/plain": [
       "        calitp_itp_id  calitp_url_number  header_timestamp  vehicle_timestamp  \\\n",
       "0                 170                  0        1644435943         1644435845   \n",
       "1                 170                  0        1644435943         1644435872   \n",
       "2                 170                  0        1644435943         1644435874   \n",
       "3                 170                  0        1644435943         1644435911   \n",
       "4                 170                  0        1644435943         1644435870   \n",
       "...               ...                ...               ...                ...   \n",
       "237147            170                  0        1644435943         1644435889   \n",
       "237148            170                  0        1644435943         1644435884   \n",
       "237149            170                  0        1644435943         1644435880   \n",
       "237150            170                  0        1644435943         1644435890   \n",
       "237151            170                  0        1644435943         1644435875   \n",
       "\n",
       "       entity_id vehicle_id vehicle_trip_id  vehicle_longitude  \\\n",
       "0           2403       None         9370849        -118.151060   \n",
       "1           2404       None         9370203        -118.154660   \n",
       "2           2407       None         9369934        -118.120186   \n",
       "3           2409       None         9370154        -118.107640   \n",
       "4           2410       None         9370132        -118.100020   \n",
       "...          ...        ...             ...                ...   \n",
       "237147      1831       None         9370693        -118.189520   \n",
       "237148      1832       None         9369750        -118.184870   \n",
       "237149      1833       None         9369643        -118.215546   \n",
       "237150      1838       None         9371122        -118.196754   \n",
       "237151      1840       None         9370848        -118.199990   \n",
       "\n",
       "        vehicle_latitude  \n",
       "0              33.760986  \n",
       "1              33.771730  \n",
       "2              33.775400  \n",
       "3              33.847557  \n",
       "4              33.887980  \n",
       "...                  ...  \n",
       "237147         33.800274  \n",
       "237148         33.855206  \n",
       "237149         33.797770  \n",
       "237150         33.782665  \n",
       "237151         33.764034  \n",
       "\n",
       "[237152 rows x 9 columns]"
      ]
     },
     "execution_count": 36,
     "metadata": {},
     "output_type": "execute_result"
    }
   ],
   "source": [
    "%%sql -o new\n",
    "SELECT calitp_itp_id, calitp_url_number,\n",
    "header.timestamp AS header_timestamp, vehicle.timestamp AS vehicle_timestamp,\n",
    "vehicle.vehicle.label AS entity_id, vehicle.vehicle.id AS vehicle_id,\n",
    "vehicle.trip.tripId AS vehicle_trip_id, vehicle.position.longitude AS vehicle_longitude,\n",
    "vehicle.position.latitude AS vehicle_latitude\n",
    "FROM `cal-itp-data-infra.gtfs_rt.vehicle_positions`\n",
    "WHERE calitp_itp_id = 170 AND vehicle.timestamp > 1644393600 AND vehicle.timestamp < 1644487200"
   ]
  },
  {
   "cell_type": "code",
   "execution_count": 37,
   "id": "88e8de74-cebf-4bd6-9799-fccfd99ec44a",
   "metadata": {},
   "outputs": [],
   "source": [
    "new.vehicle_timestamp = new.vehicle_timestamp.apply(convert_ts)"
   ]
  },
  {
   "cell_type": "code",
   "execution_count": 39,
   "id": "a16021a7-2c24-4918-96c8-e82846e0526f",
   "metadata": {},
   "outputs": [
    {
     "data": {
      "text/plain": [
       "Timestamp('2022-02-09 15:58:45')"
      ]
     },
     "execution_count": 39,
     "metadata": {},
     "output_type": "execute_result"
    }
   ],
   "source": [
    "new.vehicle_timestamp.max()"
   ]
  },
  {
   "cell_type": "code",
   "execution_count": 40,
   "id": "c7dfd066-8b4a-4a26-9c8f-62ca5711f9b2",
   "metadata": {},
   "outputs": [
    {
     "data": {
      "text/plain": [
       "Timestamp('2022-02-09 04:15:51')"
      ]
     },
     "execution_count": 40,
     "metadata": {},
     "output_type": "execute_result"
    }
   ],
   "source": [
    "new.vehicle_timestamp.min()"
   ]
  },
  {
   "cell_type": "code",
   "execution_count": 30,
   "id": "19b02877-2799-4ee2-af7f-8fe83e160b7e",
   "metadata": {},
   "outputs": [],
   "source": [
    "analysis_date = dt.date(2022, 2, 9)"
   ]
  },
  {
   "cell_type": "code",
   "execution_count": 31,
   "id": "184a6b7f-9aa9-486b-9720-45a84087c6a3",
   "metadata": {},
   "outputs": [],
   "source": [
    "start = dt.datetime.combine(analysis_date, dt.time(0))\n",
    "end = start + dt.timedelta(days = 1, seconds = 2 * 60**2)"
   ]
  },
  {
   "cell_type": "code",
   "execution_count": 32,
   "id": "1893c8f6-f358-4a21-bc03-e39d9d53dfd2",
   "metadata": {},
   "outputs": [
    {
     "data": {
      "text/plain": [
       "datetime.datetime(2022, 2, 9, 0, 0)"
      ]
     },
     "execution_count": 32,
     "metadata": {},
     "output_type": "execute_result"
    }
   ],
   "source": [
    "start"
   ]
  },
  {
   "cell_type": "code",
   "execution_count": 33,
   "id": "56312c1d-7234-46c1-b690-6eaadfe311d7",
   "metadata": {},
   "outputs": [
    {
     "data": {
      "text/plain": [
       "datetime.datetime(2022, 2, 10, 2, 0)"
      ]
     },
     "execution_count": 33,
     "metadata": {},
     "output_type": "execute_result"
    }
   ],
   "source": [
    "end"
   ]
  },
  {
   "cell_type": "code",
   "execution_count": 34,
   "id": "8b4d7506-ed1f-4f80-9629-99f612f73940",
   "metadata": {},
   "outputs": [
    {
     "data": {
      "text/plain": [
       "1644393600.0"
      ]
     },
     "execution_count": 34,
     "metadata": {},
     "output_type": "execute_result"
    }
   ],
   "source": [
    "start.timestamp()"
   ]
  },
  {
   "cell_type": "code",
   "execution_count": 35,
   "id": "4c69862a-cf77-4720-8cc8-4dbe31cef666",
   "metadata": {},
   "outputs": [
    {
     "data": {
      "text/plain": [
       "1644487200.0"
      ]
     },
     "execution_count": 35,
     "metadata": {},
     "output_type": "execute_result"
    }
   ],
   "source": [
    "end.timestamp()"
   ]
  },
  {
   "cell_type": "code",
   "execution_count": null,
   "id": "c08f30a8-5d5e-40b1-ab2a-34355dea9e2f",
   "metadata": {},
   "outputs": [],
   "source": []
  }
 ],
 "metadata": {
  "kernelspec": {
   "display_name": "Python 3 (ipykernel)",
   "language": "python",
   "name": "python3"
  },
  "language_info": {
   "codemirror_mode": {
    "name": "ipython",
    "version": 3
   },
   "file_extension": ".py",
   "mimetype": "text/x-python",
   "name": "python",
   "nbconvert_exporter": "python",
   "pygments_lexer": "ipython3",
   "version": "3.9.7"
  }
 },
 "nbformat": 4,
 "nbformat_minor": 5
}
