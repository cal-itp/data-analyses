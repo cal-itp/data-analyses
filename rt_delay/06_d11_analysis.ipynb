{
 "cells": [
  {
   "cell_type": "code",
   "execution_count": 23,
   "id": "501b0da7-46f9-4c8c-a62e-1c000361b844",
   "metadata": {},
   "outputs": [],
   "source": [
    "import os\n",
    "os.environ[\"CALITP_BQ_MAX_BYTES\"] = str(100_000_000_000)\n",
    "\n",
    "from calitp.tables import tbl\n",
    "from calitp import query_sql\n",
    "import calitp.magics\n",
    "import branca\n",
    "\n",
    "import shared_utils\n",
    "from utils import *\n",
    "\n",
    "from siuba import *\n",
    "import pandas as pd\n",
    "import geopandas as gpd\n",
    "import shapely\n",
    "\n",
    "import datetime as dt\n",
    "import time\n",
    "from zoneinfo import ZoneInfo\n",
    "\n",
    "import rt_analysis as rt\n",
    "import importlib\n",
    "\n",
    "import gcsfs\n",
    "fs = gcsfs.GCSFileSystem()\n",
    "\n",
    "from tqdm import tqdm_notebook\n",
    "from tqdm.notebook import trange, tqdm"
   ]
  },
  {
   "cell_type": "code",
   "execution_count": 27,
   "id": "a6715547-9dec-4060-96b0-420e99bbcfa4",
   "metadata": {},
   "outputs": [],
   "source": [
    "json_path = f'{GCS_FILE_PATH}vp_jsons/rt-processed_vehicle_positions_rt_2022-02-07_278_0.jsonl.gz'"
   ]
  },
  {
   "cell_type": "code",
   "execution_count": 28,
   "id": "ee1109d2-b748-48dd-a8d1-0b6d6281a724",
   "metadata": {},
   "outputs": [
    {
     "data": {
      "text/plain": [
       "'gs://calitp-analytics-data/data-analyses/rt_delay/vp_jsons/rt-processed_vehicle_positions_rt_2022-02-07_278_0.jsonl.gz'"
      ]
     },
     "execution_count": 28,
     "metadata": {},
     "output_type": "execute_result"
    }
   ],
   "source": [
    "json_path"
   ]
  },
  {
   "cell_type": "code",
   "execution_count": 41,
   "id": "77bf0089-a028-4aac-9ba9-befa82bf01ce",
   "metadata": {},
   "outputs": [],
   "source": [
    "from_json = pd.read_json(json_path, lines=True).drop(columns=['calitp_filepath'])"
   ]
  },
  {
   "cell_type": "code",
   "execution_count": 42,
   "id": "e440f8ab-3308-4f24-92ff-e7cbc3aadd98",
   "metadata": {},
   "outputs": [
    {
     "data": {
      "text/html": [
       "<div>\n",
       "<style scoped>\n",
       "    .dataframe tbody tr th:only-of-type {\n",
       "        vertical-align: middle;\n",
       "    }\n",
       "\n",
       "    .dataframe tbody tr th {\n",
       "        vertical-align: top;\n",
       "    }\n",
       "\n",
       "    .dataframe thead th {\n",
       "        text-align: right;\n",
       "    }\n",
       "</style>\n",
       "<table border=\"1\" class=\"dataframe\">\n",
       "  <thead>\n",
       "    <tr style=\"text-align: right;\">\n",
       "      <th></th>\n",
       "      <th>id</th>\n",
       "      <th>vehicle</th>\n",
       "      <th>header</th>\n",
       "      <th>calitp_itp_id</th>\n",
       "      <th>calitp_url_number</th>\n",
       "    </tr>\n",
       "  </thead>\n",
       "  <tbody>\n",
       "    <tr>\n",
       "      <th>0</th>\n",
       "      <td>1</td>\n",
       "      <td>{'trip': {'tripId': '16255924', 'routeId': '20...</td>\n",
       "      <td>{'gtfsRealtimeVersion': '1.0', 'timestamp': '1...</td>\n",
       "      <td>278</td>\n",
       "      <td>0</td>\n",
       "    </tr>\n",
       "    <tr>\n",
       "      <th>1</th>\n",
       "      <td>2</td>\n",
       "      <td>{'trip': {'tripId': '16189472', 'routeId': '90...</td>\n",
       "      <td>{'gtfsRealtimeVersion': '1.0', 'timestamp': '1...</td>\n",
       "      <td>278</td>\n",
       "      <td>0</td>\n",
       "    </tr>\n",
       "    <tr>\n",
       "      <th>2</th>\n",
       "      <td>3</td>\n",
       "      <td>{'trip': {'tripId': '16256198', 'routeId': '20...</td>\n",
       "      <td>{'gtfsRealtimeVersion': '1.0', 'timestamp': '1...</td>\n",
       "      <td>278</td>\n",
       "      <td>0</td>\n",
       "    </tr>\n",
       "    <tr>\n",
       "      <th>3</th>\n",
       "      <td>4</td>\n",
       "      <td>{'trip': {'tripId': '16254682', 'routeId': '23...</td>\n",
       "      <td>{'gtfsRealtimeVersion': '1.0', 'timestamp': '1...</td>\n",
       "      <td>278</td>\n",
       "      <td>0</td>\n",
       "    </tr>\n",
       "    <tr>\n",
       "      <th>4</th>\n",
       "      <td>5</td>\n",
       "      <td>{'trip': {'tripId': '16191813', 'routeId': '70...</td>\n",
       "      <td>{'gtfsRealtimeVersion': '1.0', 'timestamp': '1...</td>\n",
       "      <td>278</td>\n",
       "      <td>0</td>\n",
       "    </tr>\n",
       "    <tr>\n",
       "      <th>...</th>\n",
       "      <td>...</td>\n",
       "      <td>...</td>\n",
       "      <td>...</td>\n",
       "      <td>...</td>\n",
       "      <td>...</td>\n",
       "    </tr>\n",
       "    <tr>\n",
       "      <th>4208</th>\n",
       "      <td>465</td>\n",
       "      <td>{'trip': {'tripId': '16191075', 'routeId': '93...</td>\n",
       "      <td>{'gtfsRealtimeVersion': '1.0', 'timestamp': '1...</td>\n",
       "      <td>278</td>\n",
       "      <td>0</td>\n",
       "    </tr>\n",
       "    <tr>\n",
       "      <th>4209</th>\n",
       "      <td>466</td>\n",
       "      <td>{'trip': {'tripId': '16191274', 'routeId': '95...</td>\n",
       "      <td>{'gtfsRealtimeVersion': '1.0', 'timestamp': '1...</td>\n",
       "      <td>278</td>\n",
       "      <td>0</td>\n",
       "    </tr>\n",
       "    <tr>\n",
       "      <th>4210</th>\n",
       "      <td>467</td>\n",
       "      <td>{'trip': {'tripId': '16189208', 'routeId': '93...</td>\n",
       "      <td>{'gtfsRealtimeVersion': '1.0', 'timestamp': '1...</td>\n",
       "      <td>278</td>\n",
       "      <td>0</td>\n",
       "    </tr>\n",
       "    <tr>\n",
       "      <th>4211</th>\n",
       "      <td>468</td>\n",
       "      <td>{'trip': {'tripId': '16188861', 'routeId': '1'...</td>\n",
       "      <td>{'gtfsRealtimeVersion': '1.0', 'timestamp': '1...</td>\n",
       "      <td>278</td>\n",
       "      <td>0</td>\n",
       "    </tr>\n",
       "    <tr>\n",
       "      <th>4212</th>\n",
       "      <td>469</td>\n",
       "      <td>{'trip': {'tripId': '16190607', 'routeId': '35...</td>\n",
       "      <td>{'gtfsRealtimeVersion': '1.0', 'timestamp': '1...</td>\n",
       "      <td>278</td>\n",
       "      <td>0</td>\n",
       "    </tr>\n",
       "  </tbody>\n",
       "</table>\n",
       "<p>4213 rows × 5 columns</p>\n",
       "</div>"
      ],
      "text/plain": [
       "       id                                            vehicle  \\\n",
       "0       1  {'trip': {'tripId': '16255924', 'routeId': '20...   \n",
       "1       2  {'trip': {'tripId': '16189472', 'routeId': '90...   \n",
       "2       3  {'trip': {'tripId': '16256198', 'routeId': '20...   \n",
       "3       4  {'trip': {'tripId': '16254682', 'routeId': '23...   \n",
       "4       5  {'trip': {'tripId': '16191813', 'routeId': '70...   \n",
       "...   ...                                                ...   \n",
       "4208  465  {'trip': {'tripId': '16191075', 'routeId': '93...   \n",
       "4209  466  {'trip': {'tripId': '16191274', 'routeId': '95...   \n",
       "4210  467  {'trip': {'tripId': '16189208', 'routeId': '93...   \n",
       "4211  468  {'trip': {'tripId': '16188861', 'routeId': '1'...   \n",
       "4212  469  {'trip': {'tripId': '16190607', 'routeId': '35...   \n",
       "\n",
       "                                                 header  calitp_itp_id  \\\n",
       "0     {'gtfsRealtimeVersion': '1.0', 'timestamp': '1...            278   \n",
       "1     {'gtfsRealtimeVersion': '1.0', 'timestamp': '1...            278   \n",
       "2     {'gtfsRealtimeVersion': '1.0', 'timestamp': '1...            278   \n",
       "3     {'gtfsRealtimeVersion': '1.0', 'timestamp': '1...            278   \n",
       "4     {'gtfsRealtimeVersion': '1.0', 'timestamp': '1...            278   \n",
       "...                                                 ...            ...   \n",
       "4208  {'gtfsRealtimeVersion': '1.0', 'timestamp': '1...            278   \n",
       "4209  {'gtfsRealtimeVersion': '1.0', 'timestamp': '1...            278   \n",
       "4210  {'gtfsRealtimeVersion': '1.0', 'timestamp': '1...            278   \n",
       "4211  {'gtfsRealtimeVersion': '1.0', 'timestamp': '1...            278   \n",
       "4212  {'gtfsRealtimeVersion': '1.0', 'timestamp': '1...            278   \n",
       "\n",
       "      calitp_url_number  \n",
       "0                     0  \n",
       "1                     0  \n",
       "2                     0  \n",
       "3                     0  \n",
       "4                     0  \n",
       "...                 ...  \n",
       "4208                  0  \n",
       "4209                  0  \n",
       "4210                  0  \n",
       "4211                  0  \n",
       "4212                  0  \n",
       "\n",
       "[4213 rows x 5 columns]"
      ]
     },
     "execution_count": 42,
     "metadata": {},
     "output_type": "execute_result"
    }
   ],
   "source": [
    "from_json"
   ]
  },
  {
   "cell_type": "code",
   "execution_count": 56,
   "id": "16325808-3fa4-4692-ad4d-f0a3fb5f0841",
   "metadata": {},
   "outputs": [],
   "source": [
    "vehicle_normalized = pd.json_normalize(from_json.loc[0,'vehicle']).add_prefix('vehicle.')"
   ]
  },
  {
   "cell_type": "code",
   "execution_count": 57,
   "id": "c95cfb01-c13e-428e-8d6a-da0c2de3544a",
   "metadata": {},
   "outputs": [],
   "source": [
    "header_normalized = pd.json_normalize(from_json.loc[0,'header']).add_prefix('header.')"
   ]
  },
  {
   "cell_type": "code",
   "execution_count": 68,
   "id": "5faebead-2092-42b8-8aad-518f402f699c",
   "metadata": {},
   "outputs": [
    {
     "data": {
      "text/html": [
       "<div>\n",
       "<style scoped>\n",
       "    .dataframe tbody tr th:only-of-type {\n",
       "        vertical-align: middle;\n",
       "    }\n",
       "\n",
       "    .dataframe tbody tr th {\n",
       "        vertical-align: top;\n",
       "    }\n",
       "\n",
       "    .dataframe thead th {\n",
       "        text-align: right;\n",
       "    }\n",
       "</style>\n",
       "<table border=\"1\" class=\"dataframe\">\n",
       "  <thead>\n",
       "    <tr style=\"text-align: right;\">\n",
       "      <th></th>\n",
       "      <th>calitp_itp_id</th>\n",
       "      <th>calitp_url_number</th>\n",
       "    </tr>\n",
       "  </thead>\n",
       "  <tbody>\n",
       "    <tr>\n",
       "      <th>0</th>\n",
       "      <td>278</td>\n",
       "      <td>0</td>\n",
       "    </tr>\n",
       "  </tbody>\n",
       "</table>\n",
       "</div>"
      ],
      "text/plain": [
       "   calitp_itp_id  calitp_url_number\n",
       "0            278                  0"
      ]
     },
     "execution_count": 68,
     "metadata": {},
     "output_type": "execute_result"
    }
   ],
   "source": [
    "from_json[['calitp_itp_id', 'calitp_url_number']].loc[[0]]"
   ]
  },
  {
   "cell_type": "code",
   "execution_count": 69,
   "id": "212a608e-d4f0-4555-a693-3fed74b4de03",
   "metadata": {},
   "outputs": [
    {
     "data": {
      "text/html": [
       "<div>\n",
       "<style scoped>\n",
       "    .dataframe tbody tr th:only-of-type {\n",
       "        vertical-align: middle;\n",
       "    }\n",
       "\n",
       "    .dataframe tbody tr th {\n",
       "        vertical-align: top;\n",
       "    }\n",
       "\n",
       "    .dataframe thead th {\n",
       "        text-align: right;\n",
       "    }\n",
       "</style>\n",
       "<table border=\"1\" class=\"dataframe\">\n",
       "  <thead>\n",
       "    <tr style=\"text-align: right;\">\n",
       "      <th></th>\n",
       "      <th>vehicle.timestamp</th>\n",
       "      <th>vehicle.trip.tripId</th>\n",
       "      <th>vehicle.trip.routeId</th>\n",
       "      <th>vehicle.position.latitude</th>\n",
       "      <th>vehicle.position.longitude</th>\n",
       "      <th>vehicle.vehicle.id</th>\n",
       "      <th>header.gtfsRealtimeVersion</th>\n",
       "      <th>header.timestamp</th>\n",
       "      <th>calitp_itp_id</th>\n",
       "      <th>calitp_url_number</th>\n",
       "    </tr>\n",
       "  </thead>\n",
       "  <tbody>\n",
       "    <tr>\n",
       "      <th>0</th>\n",
       "      <td>1644278339</td>\n",
       "      <td>16255924</td>\n",
       "      <td>201</td>\n",
       "      <td>32.871883</td>\n",
       "      <td>-117.21768</td>\n",
       "      <td>1107</td>\n",
       "      <td>1.0</td>\n",
       "      <td>1644278386</td>\n",
       "      <td>278</td>\n",
       "      <td>0</td>\n",
       "    </tr>\n",
       "  </tbody>\n",
       "</table>\n",
       "</div>"
      ],
      "text/plain": [
       "  vehicle.timestamp vehicle.trip.tripId vehicle.trip.routeId  \\\n",
       "0        1644278339            16255924                  201   \n",
       "\n",
       "   vehicle.position.latitude  vehicle.position.longitude vehicle.vehicle.id  \\\n",
       "0                  32.871883                  -117.21768               1107   \n",
       "\n",
       "  header.gtfsRealtimeVersion header.timestamp  calitp_itp_id  \\\n",
       "0                        1.0       1644278386            278   \n",
       "\n",
       "   calitp_url_number  \n",
       "0                  0  "
      ]
     },
     "execution_count": 69,
     "metadata": {},
     "output_type": "execute_result"
    }
   ],
   "source": [
    "pd.concat([vehicle_normalized,\n",
    "           header_normalized,\n",
    "           from_json[['calitp_itp_id', 'calitp_url_number']].loc[[0]]]\n",
    "          , axis=1)"
   ]
  },
  {
   "cell_type": "code",
   "execution_count": null,
   "id": "5e7a55c4-5f37-49cb-a104-249d9b0da62c",
   "metadata": {},
   "outputs": [],
   "source": [
    "return_df = pd.DataFrame()"
   ]
  },
  {
   "cell_type": "code",
   "execution_count": 77,
   "id": "f30b9e42-6672-441f-a6af-8429c6bb82f0",
   "metadata": {},
   "outputs": [],
   "source": [
    "def normalize_vp_json(df_from_json):\n",
    "    return_df = pd.DataFrame()\n",
    "    for ix in df_from_json.index:\n",
    "        vehicle_normalized = pd.json_normalize(df_from_json.loc[ix,'vehicle']).add_prefix('vehicle.')\n",
    "        header_normalized = pd.json_normalize(df_from_json.loc[ix,'header']).add_prefix('header.')\n",
    "        row = pd.concat([vehicle_normalized,\n",
    "           header_normalized,\n",
    "           from_json[['calitp_itp_id', 'calitp_url_number']].loc[[ix]]]\n",
    "          , axis=1)\n",
    "        # print(row)\n",
    "        return_df = pd.concat([return_df, row])\n",
    "    return return_df"
   ]
  },
  {
   "cell_type": "code",
   "execution_count": 79,
   "id": "49e30297-1762-42b2-b1f0-449815476057",
   "metadata": {},
   "outputs": [],
   "source": [
    "## slow but working?\n",
    "normalized_df = normalize_vp_json(from_json)"
   ]
  },
  {
   "cell_type": "code",
   "execution_count": 84,
   "id": "247e5d8c-0e97-4b1c-b8e5-d0b785164b97",
   "metadata": {},
   "outputs": [],
   "source": [
    "normalized_df = normalized_df.dropna(subset=['vehicle.timestamp']).reset_index(drop=True)"
   ]
  },
  {
   "cell_type": "code",
   "execution_count": 89,
   "id": "b7a3b3e4-b5d1-43d8-8ca6-e90544ff2518",
   "metadata": {},
   "outputs": [
    {
     "data": {
      "text/plain": [
       "1644278246    469\n",
       "1644278226    469\n",
       "1644278386    468\n",
       "1644278265    468\n",
       "1644278325    468\n",
       "1644278346    468\n",
       "1644278285    468\n",
       "1644278305    468\n",
       "1644278366    467\n",
       "Name: header.timestamp, dtype: int64"
      ]
     },
     "execution_count": 89,
     "metadata": {},
     "output_type": "execute_result"
    }
   ],
   "source": [
    "normalized_df['header.timestamp'].value_counts()"
   ]
  },
  {
   "cell_type": "code",
   "execution_count": 91,
   "id": "7caf5df7-b001-4ad9-a599-899098ba586d",
   "metadata": {},
   "outputs": [
    {
     "data": {
      "text/plain": [
       "1644278246    469\n",
       "1644278226    469\n",
       "1644278386    468\n",
       "1644278265    468\n",
       "1644278325    468\n",
       "1644278346    468\n",
       "1644278285    468\n",
       "1644278305    468\n",
       "1644278366    467\n",
       "Name: timestamp, dtype: int64"
      ]
     },
     "execution_count": 91,
     "metadata": {},
     "output_type": "execute_result"
    }
   ],
   "source": [
    "pd.json_normalize(from_json.header).timestamp.value_counts()"
   ]
  },
  {
   "cell_type": "code",
   "execution_count": 92,
   "id": "21f62ac6-3034-4dc5-b61e-91aba7d51147",
   "metadata": {},
   "outputs": [
    {
     "data": {
      "text/plain": [
       "1644278274    75\n",
       "1644278272    72\n",
       "1644278242    64\n",
       "1644278269    58\n",
       "1644278278    58\n",
       "              ..\n",
       "1644277657     2\n",
       "1644278155     2\n",
       "1644278142     1\n",
       "1644278152     1\n",
       "1644277781     1\n",
       "Name: timestamp, Length: 211, dtype: int64"
      ]
     },
     "execution_count": 92,
     "metadata": {},
     "output_type": "execute_result"
    }
   ],
   "source": [
    "pd.json_normalize(from_json.vehicle).timestamp.value_counts()"
   ]
  },
  {
   "cell_type": "code",
   "execution_count": 94,
   "id": "8def47ea-f230-4e4d-aecc-6821e12fba76",
   "metadata": {},
   "outputs": [
    {
     "data": {
      "text/plain": [
       "'1644278377'"
      ]
     },
     "execution_count": 94,
     "metadata": {},
     "output_type": "execute_result"
    }
   ],
   "source": [
    "pd.json_normalize(from_json.vehicle).timestamp.max()"
   ]
  },
  {
   "cell_type": "code",
   "execution_count": 95,
   "id": "d445f949-e16f-4918-95ae-7749f2e53c38",
   "metadata": {},
   "outputs": [
    {
     "data": {
      "text/plain": [
       "'1644277657'"
      ]
     },
     "execution_count": 95,
     "metadata": {},
     "output_type": "execute_result"
    }
   ],
   "source": [
    "pd.json_normalize(from_json.vehicle).timestamp.min()"
   ]
  },
  {
   "cell_type": "code",
   "execution_count": null,
   "id": "03e02aa4-9658-4866-a795-14a743309c6b",
   "metadata": {},
   "outputs": [],
   "source": [
    "## seems like not much data (because of late start?)"
   ]
  }
 ],
 "metadata": {
  "kernelspec": {
   "display_name": "Python 3 (ipykernel)",
   "language": "python",
   "name": "python3"
  },
  "language_info": {
   "codemirror_mode": {
    "name": "ipython",
    "version": 3
   },
   "file_extension": ".py",
   "mimetype": "text/x-python",
   "name": "python",
   "nbconvert_exporter": "python",
   "pygments_lexer": "ipython3",
   "version": "3.9.7"
  }
 },
 "nbformat": 4,
 "nbformat_minor": 5
}
