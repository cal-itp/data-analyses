{
 "cells": [
  {
   "cell_type": "code",
   "execution_count": 1,
   "id": "07695f07-b280-4792-8e56-3a1e857617c8",
   "metadata": {},
   "outputs": [
    {
     "name": "stderr",
     "output_type": "stream",
     "text": [
      "E0415 22:14:21.533650042    1355 fork_posix.cc:70]           Fork support is only compatible with the epoll1 and poll polling strategies\n",
      "E0415 22:14:24.121443542    1355 fork_posix.cc:70]           Fork support is only compatible with the epoll1 and poll polling strategies\n"
     ]
    }
   ],
   "source": [
    "%%capture\n",
    "import warnings\n",
    "warnings.filterwarnings('ignore')\n",
    "\n",
    "import os\n",
    "os.environ[\"CALITP_BQ_MAX_BYTES\"] = str(800_000_000_000)\n",
    "import shared_utils\n",
    "import utils\n",
    "\n",
    "from calitp.tables import tbl\n",
    "from calitp import query_sql\n",
    "import calitp.magics\n",
    "\n",
    "from siuba import *\n",
    "import pandas as pd\n",
    "import geopandas as gpd\n",
    "\n",
    "import datetime as dt\n",
    "\n",
    "import importlib\n",
    "import rt_filter_map_plot"
   ]
  },
  {
   "cell_type": "code",
   "execution_count": 2,
   "id": "d5ccddbc-fb4b-4d79-99e9-53e9954b932c",
   "metadata": {
    "tags": [
     "parameters"
    ]
   },
   "outputs": [],
   "source": [
    "## parameters cell\n",
    "itp_id = 290"
   ]
  },
  {
   "cell_type": "code",
   "execution_count": 3,
   "id": "833d3fcd-b0ae-4e89-827c-540c3b65e454",
   "metadata": {},
   "outputs": [],
   "source": [
    "airtable_organizations = (\n",
    "    tbl.airtable.california_transit_organizations()\n",
    "    >> select(_.itp_id, _.name, _.caltrans_district,\n",
    "              _.website, _.ntp_id, _.drmt_organization_name)\n",
    "    >> filter(_.itp_id == itp_id)\n",
    "    >> collect()\n",
    ")"
   ]
  },
  {
   "cell_type": "code",
   "execution_count": 4,
   "id": "ee2e591c-edd3-41e1-83bd-a6e2cce8c06a",
   "metadata": {},
   "outputs": [],
   "source": [
    "# airtable_organizations"
   ]
  },
  {
   "cell_type": "code",
   "execution_count": 5,
   "id": "1f84c05c-6ecc-4910-af33-171127388a4d",
   "metadata": {},
   "outputs": [],
   "source": [
    "analysis_date = dt.date(2022, 3, 30)"
   ]
  },
  {
   "cell_type": "code",
   "execution_count": 6,
   "id": "c3f21589-2249-4450-935d-f202bff53ea6",
   "metadata": {
    "tags": []
   },
   "outputs": [],
   "source": [
    "trips = pd.read_parquet(f'{utils.GCS_FILE_PATH}rt_trips/{itp_id}_03_30.parquet')"
   ]
  },
  {
   "cell_type": "code",
   "execution_count": 7,
   "id": "268d0a27-beb6-4445-8382-4aef8508c1d6",
   "metadata": {
    "tags": []
   },
   "outputs": [],
   "source": [
    "stop_delay = gpd.read_parquet(f'{utils.GCS_FILE_PATH}stop_delay_views/{itp_id}_03_30.parquet')\n",
    "stop_delay['arrival_time'] = stop_delay.arrival_time.map(lambda x: dt.datetime.fromisoformat(x))\n",
    "stop_delay['actual_time'] = stop_delay.actual_time.map(lambda x: dt.datetime.fromisoformat(x))"
   ]
  },
  {
   "cell_type": "code",
   "execution_count": 8,
   "id": "3c15574a-08ab-425b-b246-f8fdb2a15f25",
   "metadata": {
    "tags": []
   },
   "outputs": [],
   "source": [
    "%%capture\n",
    "routelines = utils.get_routelines(itp_id, analysis_date)"
   ]
  },
  {
   "cell_type": "code",
   "execution_count": 9,
   "id": "9100c488-38f9-47f1-85ed-528b810db4a2",
   "metadata": {},
   "outputs": [],
   "source": [
    "%%capture\n",
    "rt_day = rt_filter_map_plot.RtFilterMapper(trips, stop_delay, routelines)"
   ]
  },
  {
   "cell_type": "code",
   "execution_count": 10,
   "id": "df944049-42f9-44fa-9229-a2457825d7c8",
   "metadata": {},
   "outputs": [],
   "source": [
    "%%capture\n",
    "rt_day.set_filter(start_time='15:00', end_time='19:00')"
   ]
  },
  {
   "cell_type": "code",
   "execution_count": 11,
   "id": "53f6a8be-7c63-4f1c-92e8-323eea735a73",
   "metadata": {},
   "outputs": [
    {
     "data": {
      "text/markdown": [
       "PM Peak most delayed routes: \n",
       " * 112, Linda Mar Park & Ride - Colma BART, Southbound: 24.0 minutes late on average\n",
       " * 17, Linda Mar Park & Ride - Pescadero, Northbound: 19.0 minutes late on average\n",
       " * 18, Main/7th - HMBHS - Moonridge Apts, Northbound: 14.0 minutes late on average\n",
       " * 28, Serramonte Center - South City High, Westbound: 13.0 minutes late on average\n",
       " * 110, Daly City BART - Linda Mar Park & Ride, Southbound: 10.0 minutes late on average"
      ],
      "text/plain": [
       "<IPython.core.display.Markdown object>"
      ]
     },
     "metadata": {},
     "output_type": "display_data"
    }
   ],
   "source": [
    "rt_day.describe_delayed_routes()"
   ]
  },
  {
   "cell_type": "code",
   "execution_count": 2,
   "id": "117bb670-1e4f-4621-ae91-79d385b37935",
   "metadata": {},
   "outputs": [],
   "source": [
    "import gcsfs\n",
    "fs = gcsfs.GCSFileSystem()"
   ]
  },
  {
   "cell_type": "code",
   "execution_count": 3,
   "id": "45444724-4fd6-44ef-b527-0f0b31193e86",
   "metadata": {},
   "outputs": [],
   "source": [
    "fs_list = fs.ls(f'{utils.GCS_FILE_PATH}rt_trips/')"
   ]
  },
  {
   "cell_type": "code",
   "execution_count": 4,
   "id": "b4b0f994-5aa7-43d6-bf94-c8208a2b098c",
   "metadata": {
    "tags": []
   },
   "outputs": [],
   "source": [
    "ran_operators = [int(path.split('rt_trips/')[1].split('_')[0])\n",
    "                 for path in fs_list\n",
    "                 if path.split('rt_trips/')[1]]"
   ]
  },
  {
   "cell_type": "code",
   "execution_count": 5,
   "id": "d76da058-979c-4577-91e2-0bf93fe8ce6a",
   "metadata": {},
   "outputs": [
    {
     "data": {
      "text/plain": [
       "[110,\n",
       " 126,\n",
       " 127,\n",
       " 135,\n",
       " 148,\n",
       " 159,\n",
       " 167,\n",
       " 170,\n",
       " 182,\n",
       " 188,\n",
       " 194,\n",
       " 208,\n",
       " 218,\n",
       " 221,\n",
       " 226,\n",
       " 235,\n",
       " 243,\n",
       " 246,\n",
       " 259,\n",
       " 269,\n",
       " 273,\n",
       " 278,\n",
       " 282,\n",
       " 284,\n",
       " 290,\n",
       " 293,\n",
       " 294,\n",
       " 295,\n",
       " 300,\n",
       " 301,\n",
       " 30,\n",
       " 310,\n",
       " 315,\n",
       " 336,\n",
       " 349,\n",
       " 350,\n",
       " 361,\n",
       " 45,\n",
       " 4,\n",
       " 75]"
      ]
     },
     "execution_count": 5,
     "metadata": {},
     "output_type": "execute_result"
    }
   ],
   "source": [
    "ran_operators"
   ]
  },
  {
   "cell_type": "code",
   "execution_count": 6,
   "id": "45145cb9-2e58-4d9e-9f91-70a05e6a3b03",
   "metadata": {},
   "outputs": [],
   "source": [
    "import os"
   ]
  },
  {
   "cell_type": "code",
   "execution_count": 7,
   "id": "3d1c7be5-f3da-4d0b-8299-933cd6612d72",
   "metadata": {},
   "outputs": [],
   "source": [
    "nb_exists = os.listdir('../docs/rt_delay/')"
   ]
  },
  {
   "cell_type": "code",
   "execution_count": 8,
   "id": "52d57f38-c5f1-493a-b8cc-45392a3c2449",
   "metadata": {},
   "outputs": [],
   "source": [
    "nb_exists = [int(nb.split('id_')[1].split('.')[0]) for nb in nb_exists if 'id_' in nb]"
   ]
  },
  {
   "cell_type": "code",
   "execution_count": 9,
   "id": "2a52f7b0-4315-46e2-9acb-8f8bb7b1cfcd",
   "metadata": {},
   "outputs": [
    {
     "data": {
      "text/plain": [
       "[273]"
      ]
     },
     "execution_count": 9,
     "metadata": {},
     "output_type": "execute_result"
    }
   ],
   "source": [
    "[operator for operator in ran_operators if operator not in nb_exists]"
   ]
  },
  {
   "cell_type": "code",
   "execution_count": null,
   "id": "bd98a7cf-868c-4c2e-9887-e351878f6195",
   "metadata": {},
   "outputs": [],
   "source": []
  }
 ],
 "metadata": {
  "kernelspec": {
   "display_name": "Python 3 (ipykernel)",
   "language": "python",
   "name": "python3"
  },
  "language_info": {
   "codemirror_mode": {
    "name": "ipython",
    "version": 3
   },
   "file_extension": ".py",
   "mimetype": "text/x-python",
   "name": "python",
   "nbconvert_exporter": "python",
   "pygments_lexer": "ipython3",
   "version": "3.9.10"
  }
 },
 "nbformat": 4,
 "nbformat_minor": 5
}
