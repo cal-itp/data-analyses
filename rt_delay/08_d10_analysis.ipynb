{
 "cells": [
  {
   "cell_type": "code",
   "execution_count": 113,
   "id": "12e0d200-69de-45a5-b5f6-9104b5fd2ef8",
   "metadata": {},
   "outputs": [],
   "source": [
    "import os\n",
    "os.environ[\"CALITP_BQ_MAX_BYTES\"] = str(100_000_000_000)\n",
    "\n",
    "from calitp.tables import tbl\n",
    "from calitp import query_sql\n",
    "import calitp.magics\n",
    "import branca\n",
    "\n",
    "import shared_utils\n",
    "import utils\n",
    "\n",
    "from siuba import *\n",
    "import pandas as pd\n",
    "import geopandas as gpd\n",
    "import shapely\n",
    "\n",
    "import datetime as dt\n",
    "import time\n",
    "from zoneinfo import ZoneInfo\n",
    "\n",
    "import rt_analysis as rt\n",
    "import importlib\n",
    "\n",
    "import gcsfs\n",
    "fs = gcsfs.GCSFileSystem()\n",
    "\n",
    "from tqdm import tqdm_notebook\n",
    "from tqdm.notebook import trange, tqdm"
   ]
  },
  {
   "cell_type": "code",
   "execution_count": 150,
   "id": "63ee34c5-6a6d-4e8f-b2d9-0b2e10bb0b69",
   "metadata": {},
   "outputs": [
    {
     "data": {
      "text/plain": [
       "<module 'rt_analysis' from '/home/jovyan/data-analyses/rt_delay/rt_analysis.py'>"
      ]
     },
     "execution_count": 150,
     "metadata": {},
     "output_type": "execute_result"
    }
   ],
   "source": [
    "importlib.reload(utils)\n",
    "importlib.reload(rt)"
   ]
  },
  {
   "cell_type": "code",
   "execution_count": 129,
   "id": "fc385e44-100a-4d95-9143-784cb1b16b3c",
   "metadata": {},
   "outputs": [],
   "source": [
    "sjrtd_itp_id = 284"
   ]
  },
  {
   "cell_type": "code",
   "execution_count": 130,
   "id": "89241755-79c9-49f9-89eb-a73842773a83",
   "metadata": {},
   "outputs": [],
   "source": [
    "analysis_date = dt.date(2022, 2, 8)"
   ]
  },
  {
   "cell_type": "code",
   "execution_count": 131,
   "id": "42b13964-273d-45dc-bbe9-e56aaeab9865",
   "metadata": {},
   "outputs": [
    {
     "data": {
      "application/vnd.jupyter.widget-view+json": {
       "model_id": "16f88f4227994289ab901df38b9943cf",
       "version_major": 2,
       "version_minor": 0
      },
      "text/plain": [
       "0it [00:00, ?it/s]"
      ]
     },
     "metadata": {},
     "output_type": "display_data"
    }
   ],
   "source": [
    "pbar = tqdm()"
   ]
  },
  {
   "cell_type": "code",
   "execution_count": 132,
   "id": "26d0fa7d-e7f5-411d-931c-1c0e77d72a6f",
   "metadata": {
    "tags": []
   },
   "outputs": [
    {
     "name": "stdout",
     "output_type": "stream",
     "text": [
      "found parquet\n",
      "found parquet\n",
      "found parquet\n",
      "found parquet\n",
      "found_parquet\n",
      "less than 1km of data\n",
      "vehicle positions gdf must not be empty\n",
      "less than 1km of data\n",
      "less than 1km of data\n",
      "less than 1km of data\n",
      "less than 1km of data\n",
      "less than 1km of data\n",
      "less than 1km of data\n",
      "less than 1km of data\n",
      "less than 1km of data\n",
      "less than 1km of data\n",
      "less than 1km of data\n",
      "less than 1km of data\n",
      "less than 1km of data\n",
      "less than 1km of data\n",
      "less than 1km of data\n",
      "could not generate delays for trip 257117\n",
      "Columns must be same length as key\n",
      "could not generate delays for trip 257127\n",
      "Columns must be same length as key\n",
      "could not generate delays for trip 255934\n",
      "Columns must be same length as key\n"
     ]
    }
   ],
   "source": [
    "sjrtd = rt.OperatorDayAnalysis(sjrtd_itp_id, analysis_date, pbar)"
   ]
  },
  {
   "cell_type": "code",
   "execution_count": 145,
   "id": "8624c9e6-cb1f-48db-97c5-f1eaa5416188",
   "metadata": {},
   "outputs": [],
   "source": [
    "sjrtd.set_filter(start_time='15:00', end_time='19:00')"
   ]
  },
  {
   "cell_type": "code",
   "execution_count": 151,
   "id": "c0d2bfd2-fa72-48fe-acaf-3068ba267a6a",
   "metadata": {},
   "outputs": [
    {
     "name": "stdout",
     "output_type": "stream",
     "text": [
      "{'start_time': datetime.time(15, 0), 'end_time': datetime.time(19, 0), 'route_ids': ['44', '47'], 'direction_id': None, 'direction': None}\n"
     ]
    }
   ],
   "source": [
    "rt.OperatorDayAnalysis.set_filter(sjrtd, start_time='15:00', end_time='19:00', route_ids=['44', '47'])"
   ]
  },
  {
   "cell_type": "code",
   "execution_count": 134,
   "id": "9d3fb8a0-93e4-47a4-895e-8ede21d94556",
   "metadata": {
    "collapsed": true,
    "jupyter": {
     "outputs_hidden": true
    },
    "tags": []
   },
   "outputs": [
    {
     "name": "stdout",
     "output_type": "stream",
     "text": [
      "view filter: {'start_time': datetime.time(15, 0), 'end_time': datetime.time(19, 0), 'route_ids': None, 'direction_id': None, 'direction': None}\n",
      "speed above 80 for shape 32100, dropping\n",
      "negative speed for shape 32100, dropping\n",
      "speed above 80 for shape 32140, dropping\n",
      "negative speed for shape 32140, dropping\n",
      "speed above 80 for shape 32111, dropping\n",
      "negative speed for shape 32111, dropping\n",
      "speed above 80 for shape 32109, dropping\n",
      "negative speed for shape 32109, dropping\n",
      "speed above 80 for shape 32197, dropping\n",
      "negative speed for shape 32197, dropping\n",
      "speed above 80 for shape 32222, dropping\n",
      "negative speed for shape 32114, dropping\n",
      "negative speed for shape 32102, dropping\n",
      "speed above 80 for shape 32103, dropping\n",
      "negative speed for shape 32103, dropping\n",
      "speed above 80 for shape 32105, dropping\n"
     ]
    },
    {
     "name": "stderr",
     "output_type": "stream",
     "text": [
      "/opt/conda/lib/python3.9/site-packages/numpy/lib/function_base.py:3961: RuntimeWarning: invalid value encountered in subtract\n",
      "/opt/conda/lib/python3.9/site-packages/numpy/lib/function_base.py:3961: RuntimeWarning: invalid value encountered in subtract\n"
     ]
    },
    {
     "name": "stdout",
     "output_type": "stream",
     "text": [
      "speed above 80 for shape 32116, dropping\n",
      "negative speed for shape 32116, dropping\n",
      "negative speed for shape 32163, dropping\n",
      "speed above 80 for shape 32183, dropping\n",
      "negative speed for shape 32183, dropping\n"
     ]
    },
    {
     "name": "stderr",
     "output_type": "stream",
     "text": [
      "TopologyException: assigned depths do not match at -116060.80090243505 1239.5472101856335\n",
      "TopologyException: assigned depths do not match at -117953.55795454726 1648.8320321653728\n",
      "/opt/conda/lib/python3.9/site-packages/shapely/ops.py:634: ShapelyDeprecationWarning: GeometryTypeError will derive from ShapelyError and not TypeError or ValueError in Shapely 2.0.\n",
      "Input geom 1 is INVALID: Self-intersection at or near point -112002.82831454017 10863.90563969472 (-112002.82831454016559 10863.905639694719866)\n",
      "<A>\n",
      "MULTIPOLYGON (((-114084.0060600302240346 11813.8892132562868937, -114133.6894329562346684 11835.6277149225752510, -114083.3837823768844828 11855.8846031285356730, -114084.0060600302240346 11813.8892132562868937)), ((-112001.2387243993725860 10858.0429960649416898, -112014.0182606407324784 10905.1758165411702066, -111999.0615781328669982 10919.9168357853995985, -112001.2387243993725860 10858.0429960649416898)), ((-112002.8088594820874278 10863.8859000062984705, -112014.0182606407324784 10905.1758165411702066, -112028.9749431485979585 10890.4347972969408147, -112002.8088594820874278 10863.8859000062984705)))TopologyException: Input geom 1 is invalid: Self-intersection at -112002.82831454017 10863.90563969472\n",
      "\n",
      "</A>\n",
      "/home/jovyan/data-analyses/rt_delay/rt_analysis.py:561: UserWarning: Geometry is in a geographic CRS. Results from 'centroid' are likely incorrect. Use 'GeoSeries.to_crs()' to re-project geometries to a projected CRS before this operation.\n",
      "\n"
     ]
    }
   ],
   "source": [
    "m = rt.OperatorDayAnalysis.segment_speed_map(sjrtd)"
   ]
  },
  {
   "cell_type": "code",
   "execution_count": 135,
   "id": "e659ecec-0379-47c8-b499-9fa600f46265",
   "metadata": {},
   "outputs": [
    {
     "data": {
      "text/plain": [
       "'San Joaquin Regional Transit District'"
      ]
     },
     "execution_count": 135,
     "metadata": {},
     "output_type": "execute_result"
    }
   ],
   "source": [
    "sjrtd.calitp_agency_name"
   ]
  },
  {
   "cell_type": "code",
   "execution_count": 136,
   "id": "b1b5b01b-17a0-42ba-8d06-23f51cbf45ea",
   "metadata": {},
   "outputs": [
    {
     "data": {
      "text/plain": [
       "datetime.date(2022, 2, 8)"
      ]
     },
     "execution_count": 136,
     "metadata": {},
     "output_type": "execute_result"
    }
   ],
   "source": [
    "sjrtd.analysis_date"
   ]
  },
  {
   "cell_type": "code",
   "execution_count": 137,
   "id": "9bcfe0a1-b629-4498-a7ef-5ae7a4d907e5",
   "metadata": {},
   "outputs": [],
   "source": [
    "# sjrtd.display_date = sjrtd.analysis_date.strftime('%b %d (%a)')"
   ]
  },
  {
   "cell_type": "code",
   "execution_count": 138,
   "id": "7b4e8ceb-bcc1-4f2f-aab7-b2b223951f03",
   "metadata": {},
   "outputs": [
    {
     "data": {
      "text/plain": [
       "'Feb 08 (Tue)'"
      ]
     },
     "execution_count": 138,
     "metadata": {},
     "output_type": "execute_result"
    }
   ],
   "source": [
    "sjrtd.display_date"
   ]
  },
  {
   "cell_type": "code",
   "execution_count": 152,
   "id": "0d3b8972-718f-4a2c-928b-d35f5b274406",
   "metadata": {},
   "outputs": [
    {
     "data": {
      "text/plain": [
       "', Route(s) 44, 47, PM Peak, Feb 08 (Tue)'"
      ]
     },
     "execution_count": 152,
     "metadata": {},
     "output_type": "execute_result"
    }
   ],
   "source": [
    "sjrtd.filter_formatted"
   ]
  },
  {
   "cell_type": "code",
   "execution_count": 102,
   "id": "8842be04-4f78-4e53-a91e-fabd772e69c4",
   "metadata": {},
   "outputs": [],
   "source": [
    "# m"
   ]
  },
  {
   "cell_type": "code",
   "execution_count": 85,
   "id": "dc3cf903-b6b6-452d-a6e8-9d93570c1b5f",
   "metadata": {},
   "outputs": [],
   "source": [
    "rt_1 = sjrtd.endpoint_delay_summary >> filter(_.route_id == '44', _.direction_id == '0')"
   ]
  },
  {
   "cell_type": "code",
   "execution_count": 86,
   "id": "8f1086ee-f441-40ce-83c1-b72a28cb02e6",
   "metadata": {},
   "outputs": [
    {
     "name": "stderr",
     "output_type": "stream",
     "text": [
      "/tmp/ipykernel_864/2582780535.py:1: SettingWithCopyWarning: \n",
      "A value is trying to be set on a copy of a slice from a DataFrame.\n",
      "Try using .loc[row_indexer,col_indexer] = value instead\n",
      "\n",
      "See the caveats in the documentation: https://pandas.pydata.org/pandas-docs/stable/user_guide/indexing.html#returning-a-view-versus-a-copy\n",
      "/tmp/ipykernel_864/2582780535.py:2: SettingWithCopyWarning: \n",
      "A value is trying to be set on a copy of a slice from a DataFrame.\n",
      "Try using .loc[row_indexer,col_indexer] = value instead\n",
      "\n",
      "See the caveats in the documentation: https://pandas.pydata.org/pandas-docs/stable/user_guide/indexing.html#returning-a-view-versus-a-copy\n"
     ]
    }
   ],
   "source": [
    "rt_1['Minutes of Delay at Endpoint'] = rt_1.mean_end_delay.apply(lambda x: x.seconds / 60)\n",
    "rt_1['Hour'] = rt_1.arrival_hour"
   ]
  },
  {
   "cell_type": "code",
   "execution_count": 87,
   "id": "aa220ccc-9b86-426d-9b36-1e6a3f6d28ec",
   "metadata": {},
   "outputs": [
    {
     "data": {
      "image/png": "[encoded data removed]",
      "text/plain": [
       "<Figure size 432x288 with 1 Axes>"
      ]
     },
     "metadata": {
      "needs_background": "light"
     },
     "output_type": "display_data"
    }
   ],
   "source": [
    "sns_plot = (sns.barplot(x=rt_1['Hour'], y=rt_1['Minutes of Delay at Endpoint'], ci=None, \n",
    "                       palette=[shared_utils.calitp_color_palette.CALITP_CATEGORY_BOLD_COLORS[1]])\n",
    "            .set_title(\"SJRTD 44 Delay by Time of Day, Feb 8\")\n",
    "           )\n",
    "chart3 = sns_plot.get_figure()\n",
    "chart3.tight_layout()\n",
    "chart3.savefig(\"./seaborn_chart.png\")"
   ]
  },
  {
   "cell_type": "code",
   "execution_count": 21,
   "id": "a2550884-9552-46fb-b9b7-eaf754e8881e",
   "metadata": {},
   "outputs": [],
   "source": [
    "import seaborn as sns"
   ]
  },
  {
   "cell_type": "code",
   "execution_count": 11,
   "id": "552cf5b4-c4df-44b9-b901-599eb7d04207",
   "metadata": {},
   "outputs": [
    {
     "data": {
      "text/html": [
       "<div>\n",
       "<style scoped>\n",
       "    .dataframe tbody tr th:only-of-type {\n",
       "        vertical-align: middle;\n",
       "    }\n",
       "\n",
       "    .dataframe tbody tr th {\n",
       "        vertical-align: top;\n",
       "    }\n",
       "\n",
       "    .dataframe thead th {\n",
       "        text-align: right;\n",
       "    }\n",
       "</style>\n",
       "<table border=\"1\" class=\"dataframe\">\n",
       "  <thead>\n",
       "    <tr style=\"text-align: right;\">\n",
       "      <th></th>\n",
       "      <th>stop_id</th>\n",
       "      <th>stop_name</th>\n",
       "      <th>geometry</th>\n",
       "      <th>shape_id</th>\n",
       "      <th>shape_meters</th>\n",
       "      <th>trip_key</th>\n",
       "      <th>trip_id</th>\n",
       "      <th>stop_sequence</th>\n",
       "      <th>arrival_time</th>\n",
       "      <th>route_id</th>\n",
       "      <th>direction_id</th>\n",
       "      <th>actual_time</th>\n",
       "      <th>delay</th>\n",
       "      <th>arrival_hour</th>\n",
       "    </tr>\n",
       "  </thead>\n",
       "  <tbody>\n",
       "    <tr>\n",
       "      <th>604</th>\n",
       "      <td>4262</td>\n",
       "      <td>B ST &amp; INDUSTRIAL FS SB</td>\n",
       "      <td>POINT (-109482.238 -10892.097)</td>\n",
       "      <td>32167</td>\n",
       "      <td>8788.228657</td>\n",
       "      <td>7634748224816367213</td>\n",
       "      <td>256430</td>\n",
       "      <td>10</td>\n",
       "      <td>2022-02-08 17:10:00</td>\n",
       "      <td>44</td>\n",
       "      <td>1</td>\n",
       "      <td>2022-02-08 17:14:05.325188</td>\n",
       "      <td>0 days 00:04:05.325188</td>\n",
       "      <td>17</td>\n",
       "    </tr>\n",
       "    <tr>\n",
       "      <th>619</th>\n",
       "      <td>4262</td>\n",
       "      <td>B ST &amp; INDUSTRIAL FS SB</td>\n",
       "      <td>POINT (-109482.238 -10892.097)</td>\n",
       "      <td>32167</td>\n",
       "      <td>8788.228657</td>\n",
       "      <td>6213570986177580474</td>\n",
       "      <td>256432</td>\n",
       "      <td>10</td>\n",
       "      <td>2022-02-08 17:50:00</td>\n",
       "      <td>44</td>\n",
       "      <td>1</td>\n",
       "      <td>2022-02-08 18:01:08.942307</td>\n",
       "      <td>0 days 00:11:08.942307</td>\n",
       "      <td>17</td>\n",
       "    </tr>\n",
       "    <tr>\n",
       "      <th>631</th>\n",
       "      <td>4262</td>\n",
       "      <td>B ST &amp; INDUSTRIAL FS SB</td>\n",
       "      <td>POINT (-109482.238 -10892.097)</td>\n",
       "      <td>32167</td>\n",
       "      <td>8788.228657</td>\n",
       "      <td>-2432284056693972957</td>\n",
       "      <td>256431</td>\n",
       "      <td>10</td>\n",
       "      <td>2022-02-08 17:30:00</td>\n",
       "      <td>44</td>\n",
       "      <td>1</td>\n",
       "      <td>2022-02-08 17:30:21.678343</td>\n",
       "      <td>0 days 00:00:21.678343</td>\n",
       "      <td>17</td>\n",
       "    </tr>\n",
       "  </tbody>\n",
       "</table>\n",
       "</div>"
      ],
      "text/plain": [
       "    stop_id                stop_name                        geometry shape_id  \\\n",
       "604    4262  B ST & INDUSTRIAL FS SB  POINT (-109482.238 -10892.097)    32167   \n",
       "619    4262  B ST & INDUSTRIAL FS SB  POINT (-109482.238 -10892.097)    32167   \n",
       "631    4262  B ST & INDUSTRIAL FS SB  POINT (-109482.238 -10892.097)    32167   \n",
       "\n",
       "     shape_meters             trip_key trip_id  stop_sequence  \\\n",
       "604   8788.228657  7634748224816367213  256430             10   \n",
       "619   8788.228657  6213570986177580474  256432             10   \n",
       "631   8788.228657 -2432284056693972957  256431             10   \n",
       "\n",
       "           arrival_time route_id direction_id                actual_time  \\\n",
       "604 2022-02-08 17:10:00       44            1 2022-02-08 17:14:05.325188   \n",
       "619 2022-02-08 17:50:00       44            1 2022-02-08 18:01:08.942307   \n",
       "631 2022-02-08 17:30:00       44            1 2022-02-08 17:30:21.678343   \n",
       "\n",
       "                     delay  arrival_hour  \n",
       "604 0 days 00:04:05.325188            17  \n",
       "619 0 days 00:11:08.942307            17  \n",
       "631 0 days 00:00:21.678343            17  "
      ]
     },
     "execution_count": 11,
     "metadata": {},
     "output_type": "execute_result"
    }
   ],
   "source": [
    "sjrtd.endpoint_delay_view >> filter(_.direction_id == '1', _.route_id == '44', _.arrival_hour == 17)"
   ]
  },
  {
   "cell_type": "code",
   "execution_count": 12,
   "id": "285c66e2-7914-43d2-aa7c-ac28ed358e9a",
   "metadata": {},
   "outputs": [],
   "source": [
    "rt_delay_joined = sjrtd.rt_trips >> inner_join(_, sjrtd.endpoint_delay_view >> select(_.trip_id, _.endpoint_delay == _.delay,\n",
    "                                                                      _.arrival_hour)\n",
    "                              , on = 'trip_id')"
   ]
  },
  {
   "cell_type": "code",
   "execution_count": 18,
   "id": "e418bb5e-5e39-4057-8a03-405937bdb5cc",
   "metadata": {},
   "outputs": [
    {
     "data": {
      "text/html": [
       "<div>\n",
       "<style scoped>\n",
       "    .dataframe tbody tr th:only-of-type {\n",
       "        vertical-align: middle;\n",
       "    }\n",
       "\n",
       "    .dataframe tbody tr th {\n",
       "        vertical-align: top;\n",
       "    }\n",
       "\n",
       "    .dataframe thead th {\n",
       "        text-align: right;\n",
       "    }\n",
       "</style>\n",
       "<table border=\"1\" class=\"dataframe\">\n",
       "  <thead>\n",
       "    <tr style=\"text-align: right;\">\n",
       "      <th></th>\n",
       "      <th>calitp_itp_id</th>\n",
       "      <th>calitp_url_number</th>\n",
       "      <th>service_date</th>\n",
       "      <th>trip_key</th>\n",
       "      <th>trip_id</th>\n",
       "      <th>route_id</th>\n",
       "      <th>direction_id</th>\n",
       "      <th>shape_id</th>\n",
       "      <th>calitp_extracted_at</th>\n",
       "      <th>calitp_deleted_at</th>\n",
       "      <th>median_time</th>\n",
       "      <th>direction</th>\n",
       "      <th>mean_speed_mph</th>\n",
       "      <th>endpoint_delay</th>\n",
       "      <th>arrival_hour</th>\n",
       "    </tr>\n",
       "  </thead>\n",
       "  <tbody>\n",
       "    <tr>\n",
       "      <th>499</th>\n",
       "      <td>284</td>\n",
       "      <td>0</td>\n",
       "      <td>2022-02-08</td>\n",
       "      <td>-7120683714005136137</td>\n",
       "      <td>256762</td>\n",
       "      <td>515</td>\n",
       "      <td>0</td>\n",
       "      <td>32182</td>\n",
       "      <td>2022-01-27</td>\n",
       "      <td>2099-01-01</td>\n",
       "      <td>11:35:46</td>\n",
       "      <td>Eastbound</td>\n",
       "      <td>2.668024</td>\n",
       "      <td>0 days 00:00:34.884628</td>\n",
       "      <td>11</td>\n",
       "    </tr>\n",
       "    <tr>\n",
       "      <th>570</th>\n",
       "      <td>284</td>\n",
       "      <td>0</td>\n",
       "      <td>2022-02-08</td>\n",
       "      <td>6646203835683139758</td>\n",
       "      <td>256763</td>\n",
       "      <td>515</td>\n",
       "      <td>0</td>\n",
       "      <td>32182</td>\n",
       "      <td>2022-01-27</td>\n",
       "      <td>2099-01-01</td>\n",
       "      <td>12:31:35</td>\n",
       "      <td>Eastbound</td>\n",
       "      <td>4.252582</td>\n",
       "      <td>0 days 00:03:14.124990</td>\n",
       "      <td>12</td>\n",
       "    </tr>\n",
       "    <tr>\n",
       "      <th>237</th>\n",
       "      <td>284</td>\n",
       "      <td>0</td>\n",
       "      <td>2022-02-08</td>\n",
       "      <td>-5871421935972953161</td>\n",
       "      <td>256555</td>\n",
       "      <td>47</td>\n",
       "      <td>1</td>\n",
       "      <td>32173</td>\n",
       "      <td>2022-01-27</td>\n",
       "      <td>2099-01-01</td>\n",
       "      <td>11:06:38</td>\n",
       "      <td>Westbound</td>\n",
       "      <td>4.793706</td>\n",
       "      <td>0 days 00:00:00</td>\n",
       "      <td>10</td>\n",
       "    </tr>\n",
       "    <tr>\n",
       "      <th>253</th>\n",
       "      <td>284</td>\n",
       "      <td>0</td>\n",
       "      <td>2022-02-08</td>\n",
       "      <td>-6541893868271016968</td>\n",
       "      <td>256024</td>\n",
       "      <td>40</td>\n",
       "      <td>0</td>\n",
       "      <td>32161</td>\n",
       "      <td>2022-01-27</td>\n",
       "      <td>2099-01-01</td>\n",
       "      <td>14:35:22.500000</td>\n",
       "      <td>Northbound</td>\n",
       "      <td>4.874452</td>\n",
       "      <td>0 days 00:02:46.615669</td>\n",
       "      <td>14</td>\n",
       "    </tr>\n",
       "    <tr>\n",
       "      <th>758</th>\n",
       "      <td>284</td>\n",
       "      <td>0</td>\n",
       "      <td>2022-02-08</td>\n",
       "      <td>1338754799125925826</td>\n",
       "      <td>256920</td>\n",
       "      <td>578</td>\n",
       "      <td>1</td>\n",
       "      <td>32204</td>\n",
       "      <td>2022-01-27</td>\n",
       "      <td>2099-01-01</td>\n",
       "      <td>13:21:14</td>\n",
       "      <td>Southbound</td>\n",
       "      <td>5.259841</td>\n",
       "      <td>0 days 00:35:33.021487</td>\n",
       "      <td>13</td>\n",
       "    </tr>\n",
       "    <tr>\n",
       "      <th>710</th>\n",
       "      <td>284</td>\n",
       "      <td>0</td>\n",
       "      <td>2022-02-08</td>\n",
       "      <td>-19567041762988397</td>\n",
       "      <td>256560</td>\n",
       "      <td>47</td>\n",
       "      <td>1</td>\n",
       "      <td>32173</td>\n",
       "      <td>2022-01-27</td>\n",
       "      <td>2099-01-01</td>\n",
       "      <td>13:46:35</td>\n",
       "      <td>Westbound</td>\n",
       "      <td>5.584358</td>\n",
       "      <td>0 days 00:00:24.516503</td>\n",
       "      <td>13</td>\n",
       "    </tr>\n",
       "    <tr>\n",
       "      <th>507</th>\n",
       "      <td>284</td>\n",
       "      <td>0</td>\n",
       "      <td>2022-02-08</td>\n",
       "      <td>-6763193540224585276</td>\n",
       "      <td>256531</td>\n",
       "      <td>47</td>\n",
       "      <td>0</td>\n",
       "      <td>32169</td>\n",
       "      <td>2022-01-27</td>\n",
       "      <td>2099-01-01</td>\n",
       "      <td>13:08:44.500000</td>\n",
       "      <td>Eastbound</td>\n",
       "      <td>5.930144</td>\n",
       "      <td>0 days 00:04:18.885762</td>\n",
       "      <td>13</td>\n",
       "    </tr>\n",
       "    <tr>\n",
       "      <th>482</th>\n",
       "      <td>284</td>\n",
       "      <td>0</td>\n",
       "      <td>2022-02-08</td>\n",
       "      <td>4387404246973415212</td>\n",
       "      <td>256655</td>\n",
       "      <td>49</td>\n",
       "      <td>1</td>\n",
       "      <td>32177</td>\n",
       "      <td>2022-01-27</td>\n",
       "      <td>2099-01-01</td>\n",
       "      <td>09:29:39</td>\n",
       "      <td>Westbound</td>\n",
       "      <td>5.995747</td>\n",
       "      <td>0 days 00:07:21.211329</td>\n",
       "      <td>9</td>\n",
       "    </tr>\n",
       "    <tr>\n",
       "      <th>532</th>\n",
       "      <td>284</td>\n",
       "      <td>0</td>\n",
       "      <td>2022-02-08</td>\n",
       "      <td>7225927332437514028</td>\n",
       "      <td>256679</td>\n",
       "      <td>49</td>\n",
       "      <td>1</td>\n",
       "      <td>32177</td>\n",
       "      <td>2022-01-27</td>\n",
       "      <td>2099-01-01</td>\n",
       "      <td>18:03:07</td>\n",
       "      <td>Westbound</td>\n",
       "      <td>6.024031</td>\n",
       "      <td>0 days 00:10:13.306566</td>\n",
       "      <td>18</td>\n",
       "    </tr>\n",
       "    <tr>\n",
       "      <th>376</th>\n",
       "      <td>284</td>\n",
       "      <td>0</td>\n",
       "      <td>2022-02-08</td>\n",
       "      <td>1620775632447595493</td>\n",
       "      <td>256674</td>\n",
       "      <td>49</td>\n",
       "      <td>1</td>\n",
       "      <td>32177</td>\n",
       "      <td>2022-01-27</td>\n",
       "      <td>2099-01-01</td>\n",
       "      <td>16:29:51</td>\n",
       "      <td>Westbound</td>\n",
       "      <td>6.026893</td>\n",
       "      <td>0 days 00:02:49.292536</td>\n",
       "      <td>16</td>\n",
       "    </tr>\n",
       "    <tr>\n",
       "      <th>165</th>\n",
       "      <td>284</td>\n",
       "      <td>0</td>\n",
       "      <td>2022-02-08</td>\n",
       "      <td>7364709786422383280</td>\n",
       "      <td>256536</td>\n",
       "      <td>47</td>\n",
       "      <td>0</td>\n",
       "      <td>32169</td>\n",
       "      <td>2022-01-27</td>\n",
       "      <td>2099-01-01</td>\n",
       "      <td>10:26:22</td>\n",
       "      <td>Eastbound</td>\n",
       "      <td>6.245838</td>\n",
       "      <td>0 days 00:01:04.453703</td>\n",
       "      <td>10</td>\n",
       "    </tr>\n",
       "    <tr>\n",
       "      <th>149</th>\n",
       "      <td>284</td>\n",
       "      <td>0</td>\n",
       "      <td>2022-02-08</td>\n",
       "      <td>5783876664869962091</td>\n",
       "      <td>256519</td>\n",
       "      <td>47</td>\n",
       "      <td>0</td>\n",
       "      <td>32169</td>\n",
       "      <td>2022-01-27</td>\n",
       "      <td>2099-01-01</td>\n",
       "      <td>16:59:21</td>\n",
       "      <td>Eastbound</td>\n",
       "      <td>6.261854</td>\n",
       "      <td>0 days 00:10:33.777090</td>\n",
       "      <td>17</td>\n",
       "    </tr>\n",
       "    <tr>\n",
       "      <th>409</th>\n",
       "      <td>284</td>\n",
       "      <td>0</td>\n",
       "      <td>2022-02-08</td>\n",
       "      <td>-8511449754597876098</td>\n",
       "      <td>256537</td>\n",
       "      <td>47</td>\n",
       "      <td>0</td>\n",
       "      <td>32169</td>\n",
       "      <td>2022-01-27</td>\n",
       "      <td>2099-01-01</td>\n",
       "      <td>09:56:10.500000</td>\n",
       "      <td>Eastbound</td>\n",
       "      <td>6.362309</td>\n",
       "      <td>0 days 00:00:00</td>\n",
       "      <td>10</td>\n",
       "    </tr>\n",
       "    <tr>\n",
       "      <th>737</th>\n",
       "      <td>284</td>\n",
       "      <td>0</td>\n",
       "      <td>2022-02-08</td>\n",
       "      <td>6988782600567738666</td>\n",
       "      <td>256521</td>\n",
       "      <td>47</td>\n",
       "      <td>0</td>\n",
       "      <td>32169</td>\n",
       "      <td>2022-01-27</td>\n",
       "      <td>2099-01-01</td>\n",
       "      <td>16:10:44</td>\n",
       "      <td>Eastbound</td>\n",
       "      <td>6.412619</td>\n",
       "      <td>0 days 00:05:02.092102</td>\n",
       "      <td>16</td>\n",
       "    </tr>\n",
       "    <tr>\n",
       "      <th>176</th>\n",
       "      <td>284</td>\n",
       "      <td>0</td>\n",
       "      <td>2022-02-08</td>\n",
       "      <td>625944162000842460</td>\n",
       "      <td>256644</td>\n",
       "      <td>49</td>\n",
       "      <td>0</td>\n",
       "      <td>32174</td>\n",
       "      <td>2022-01-27</td>\n",
       "      <td>2099-01-01</td>\n",
       "      <td>17:11:46</td>\n",
       "      <td>Eastbound</td>\n",
       "      <td>6.559732</td>\n",
       "      <td>0 days 00:13:25.359254</td>\n",
       "      <td>17</td>\n",
       "    </tr>\n",
       "    <tr>\n",
       "      <th>274</th>\n",
       "      <td>284</td>\n",
       "      <td>0</td>\n",
       "      <td>2022-02-08</td>\n",
       "      <td>-5273705529529348402</td>\n",
       "      <td>256522</td>\n",
       "      <td>47</td>\n",
       "      <td>0</td>\n",
       "      <td>32169</td>\n",
       "      <td>2022-01-27</td>\n",
       "      <td>2099-01-01</td>\n",
       "      <td>16:06:37</td>\n",
       "      <td>Eastbound</td>\n",
       "      <td>6.566516</td>\n",
       "      <td>0 days 00:07:42.389934</td>\n",
       "      <td>16</td>\n",
       "    </tr>\n",
       "    <tr>\n",
       "      <th>762</th>\n",
       "      <td>284</td>\n",
       "      <td>0</td>\n",
       "      <td>2022-02-08</td>\n",
       "      <td>8257965265538593931</td>\n",
       "      <td>256680</td>\n",
       "      <td>49</td>\n",
       "      <td>1</td>\n",
       "      <td>32177</td>\n",
       "      <td>2022-01-27</td>\n",
       "      <td>2099-01-01</td>\n",
       "      <td>18:56:17.500000</td>\n",
       "      <td>Westbound</td>\n",
       "      <td>6.599040</td>\n",
       "      <td>0 days 00:03:53.807660</td>\n",
       "      <td>19</td>\n",
       "    </tr>\n",
       "    <tr>\n",
       "      <th>729</th>\n",
       "      <td>284</td>\n",
       "      <td>0</td>\n",
       "      <td>2022-02-08</td>\n",
       "      <td>-6230926397299433779</td>\n",
       "      <td>256793</td>\n",
       "      <td>520</td>\n",
       "      <td>0</td>\n",
       "      <td>32185</td>\n",
       "      <td>2022-01-27</td>\n",
       "      <td>2099-01-01</td>\n",
       "      <td>07:04:35</td>\n",
       "      <td>Northbound</td>\n",
       "      <td>6.625227</td>\n",
       "      <td>0 days 00:00:00</td>\n",
       "      <td>7</td>\n",
       "    </tr>\n",
       "    <tr>\n",
       "      <th>470</th>\n",
       "      <td>284</td>\n",
       "      <td>0</td>\n",
       "      <td>2022-02-08</td>\n",
       "      <td>7009031664557407105</td>\n",
       "      <td>256660</td>\n",
       "      <td>49</td>\n",
       "      <td>1</td>\n",
       "      <td>32177</td>\n",
       "      <td>2022-01-27</td>\n",
       "      <td>2099-01-01</td>\n",
       "      <td>12:00:14</td>\n",
       "      <td>Westbound</td>\n",
       "      <td>6.681825</td>\n",
       "      <td>0 days 00:06:07.006895</td>\n",
       "      <td>12</td>\n",
       "    </tr>\n",
       "    <tr>\n",
       "      <th>398</th>\n",
       "      <td>284</td>\n",
       "      <td>0</td>\n",
       "      <td>2022-02-08</td>\n",
       "      <td>2151886827885591218</td>\n",
       "      <td>256663</td>\n",
       "      <td>49</td>\n",
       "      <td>1</td>\n",
       "      <td>32177</td>\n",
       "      <td>2022-01-27</td>\n",
       "      <td>2099-01-01</td>\n",
       "      <td>13:33:33</td>\n",
       "      <td>Westbound</td>\n",
       "      <td>6.712124</td>\n",
       "      <td>0 days 00:09:02.754071</td>\n",
       "      <td>13</td>\n",
       "    </tr>\n",
       "  </tbody>\n",
       "</table>\n",
       "</div>"
      ],
      "text/plain": [
       "     calitp_itp_id  calitp_url_number service_date             trip_key  \\\n",
       "499            284                  0   2022-02-08 -7120683714005136137   \n",
       "570            284                  0   2022-02-08  6646203835683139758   \n",
       "237            284                  0   2022-02-08 -5871421935972953161   \n",
       "253            284                  0   2022-02-08 -6541893868271016968   \n",
       "758            284                  0   2022-02-08  1338754799125925826   \n",
       "710            284                  0   2022-02-08   -19567041762988397   \n",
       "507            284                  0   2022-02-08 -6763193540224585276   \n",
       "482            284                  0   2022-02-08  4387404246973415212   \n",
       "532            284                  0   2022-02-08  7225927332437514028   \n",
       "376            284                  0   2022-02-08  1620775632447595493   \n",
       "165            284                  0   2022-02-08  7364709786422383280   \n",
       "149            284                  0   2022-02-08  5783876664869962091   \n",
       "409            284                  0   2022-02-08 -8511449754597876098   \n",
       "737            284                  0   2022-02-08  6988782600567738666   \n",
       "176            284                  0   2022-02-08   625944162000842460   \n",
       "274            284                  0   2022-02-08 -5273705529529348402   \n",
       "762            284                  0   2022-02-08  8257965265538593931   \n",
       "729            284                  0   2022-02-08 -6230926397299433779   \n",
       "470            284                  0   2022-02-08  7009031664557407105   \n",
       "398            284                  0   2022-02-08  2151886827885591218   \n",
       "\n",
       "    trip_id route_id direction_id shape_id calitp_extracted_at  \\\n",
       "499  256762      515            0    32182          2022-01-27   \n",
       "570  256763      515            0    32182          2022-01-27   \n",
       "237  256555       47            1    32173          2022-01-27   \n",
       "253  256024       40            0    32161          2022-01-27   \n",
       "758  256920      578            1    32204          2022-01-27   \n",
       "710  256560       47            1    32173          2022-01-27   \n",
       "507  256531       47            0    32169          2022-01-27   \n",
       "482  256655       49            1    32177          2022-01-27   \n",
       "532  256679       49            1    32177          2022-01-27   \n",
       "376  256674       49            1    32177          2022-01-27   \n",
       "165  256536       47            0    32169          2022-01-27   \n",
       "149  256519       47            0    32169          2022-01-27   \n",
       "409  256537       47            0    32169          2022-01-27   \n",
       "737  256521       47            0    32169          2022-01-27   \n",
       "176  256644       49            0    32174          2022-01-27   \n",
       "274  256522       47            0    32169          2022-01-27   \n",
       "762  256680       49            1    32177          2022-01-27   \n",
       "729  256793      520            0    32185          2022-01-27   \n",
       "470  256660       49            1    32177          2022-01-27   \n",
       "398  256663       49            1    32177          2022-01-27   \n",
       "\n",
       "    calitp_deleted_at      median_time   direction  mean_speed_mph  \\\n",
       "499        2099-01-01         11:35:46   Eastbound        2.668024   \n",
       "570        2099-01-01         12:31:35   Eastbound        4.252582   \n",
       "237        2099-01-01         11:06:38   Westbound        4.793706   \n",
       "253        2099-01-01  14:35:22.500000  Northbound        4.874452   \n",
       "758        2099-01-01         13:21:14  Southbound        5.259841   \n",
       "710        2099-01-01         13:46:35   Westbound        5.584358   \n",
       "507        2099-01-01  13:08:44.500000   Eastbound        5.930144   \n",
       "482        2099-01-01         09:29:39   Westbound        5.995747   \n",
       "532        2099-01-01         18:03:07   Westbound        6.024031   \n",
       "376        2099-01-01         16:29:51   Westbound        6.026893   \n",
       "165        2099-01-01         10:26:22   Eastbound        6.245838   \n",
       "149        2099-01-01         16:59:21   Eastbound        6.261854   \n",
       "409        2099-01-01  09:56:10.500000   Eastbound        6.362309   \n",
       "737        2099-01-01         16:10:44   Eastbound        6.412619   \n",
       "176        2099-01-01         17:11:46   Eastbound        6.559732   \n",
       "274        2099-01-01         16:06:37   Eastbound        6.566516   \n",
       "762        2099-01-01  18:56:17.500000   Westbound        6.599040   \n",
       "729        2099-01-01         07:04:35  Northbound        6.625227   \n",
       "470        2099-01-01         12:00:14   Westbound        6.681825   \n",
       "398        2099-01-01         13:33:33   Westbound        6.712124   \n",
       "\n",
       "            endpoint_delay  arrival_hour  \n",
       "499 0 days 00:00:34.884628            11  \n",
       "570 0 days 00:03:14.124990            12  \n",
       "237        0 days 00:00:00            10  \n",
       "253 0 days 00:02:46.615669            14  \n",
       "758 0 days 00:35:33.021487            13  \n",
       "710 0 days 00:00:24.516503            13  \n",
       "507 0 days 00:04:18.885762            13  \n",
       "482 0 days 00:07:21.211329             9  \n",
       "532 0 days 00:10:13.306566            18  \n",
       "376 0 days 00:02:49.292536            16  \n",
       "165 0 days 00:01:04.453703            10  \n",
       "149 0 days 00:10:33.777090            17  \n",
       "409        0 days 00:00:00            10  \n",
       "737 0 days 00:05:02.092102            16  \n",
       "176 0 days 00:13:25.359254            17  \n",
       "274 0 days 00:07:42.389934            16  \n",
       "762 0 days 00:03:53.807660            19  \n",
       "729        0 days 00:00:00             7  \n",
       "470 0 days 00:06:07.006895            12  \n",
       "398 0 days 00:09:02.754071            13  "
      ]
     },
     "execution_count": 18,
     "metadata": {},
     "output_type": "execute_result"
    }
   ],
   "source": [
    "rt_delay_joined >> arrange(_.mean_speed_mph) >> head(20)"
   ]
  },
  {
   "cell_type": "code",
   "execution_count": 14,
   "id": "9ac703cf-55a3-4513-b7d6-0d373930a698",
   "metadata": {},
   "outputs": [],
   "source": [
    "dt1 = sjrtd.position_interpolators['256383']['rt']"
   ]
  },
  {
   "cell_type": "code",
   "execution_count": 15,
   "id": "78e64b0c-72ab-4be9-b2bd-ef0ffbb59503",
   "metadata": {},
   "outputs": [],
   "source": [
    "dt2 = sjrtd.position_interpolators['256519']['rt']"
   ]
  },
  {
   "cell_type": "code",
   "execution_count": null,
   "id": "e83e88fd-2056-4250-bcdd-bebec64d51ac",
   "metadata": {},
   "outputs": [],
   "source": []
  }
 ],
 "metadata": {
  "kernelspec": {
   "display_name": "Python 3 (ipykernel)",
   "language": "python",
   "name": "python3"
  },
  "language_info": {
   "codemirror_mode": {
    "name": "ipython",
    "version": 3
   },
   "file_extension": ".py",
   "mimetype": "text/x-python",
   "name": "python",
   "nbconvert_exporter": "python",
   "pygments_lexer": "ipython3",
   "version": "3.9.7"
  }
 },
 "nbformat": 4,
 "nbformat_minor": 5
}
