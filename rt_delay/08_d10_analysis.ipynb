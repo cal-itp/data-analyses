{
 "cells": [
  {
   "cell_type": "code",
   "execution_count": 1,
   "id": "12e0d200-69de-45a5-b5f6-9104b5fd2ef8",
   "metadata": {},
   "outputs": [
    {
     "name": "stderr",
     "output_type": "stream",
     "text": [
      "/opt/conda/lib/python3.9/site-packages/geopandas/_compat.py:111: UserWarning: The Shapely GEOS version (3.9.1-CAPI-1.14.2) is incompatible with the GEOS version PyGEOS was compiled with (3.10.1-CAPI-1.16.0). Conversions between both will be slow.\n",
      "  warnings.warn(\n"
     ]
    }
   ],
   "source": [
    "import os\n",
    "os.environ[\"CALITP_BQ_MAX_BYTES\"] = str(100_000_000_000)\n",
    "\n",
    "from calitp.tables import tbl\n",
    "from calitp import query_sql\n",
    "import calitp.magics\n",
    "import branca\n",
    "\n",
    "import shared_utils\n",
    "import utils\n",
    "\n",
    "from siuba import *\n",
    "import pandas as pd\n",
    "import geopandas as gpd\n",
    "import shapely\n",
    "\n",
    "import datetime as dt\n",
    "import time\n",
    "from zoneinfo import ZoneInfo\n",
    "\n",
    "import rt_analysis as rt\n",
    "import importlib\n",
    "\n",
    "import gcsfs\n",
    "fs = gcsfs.GCSFileSystem()\n",
    "\n",
    "from tqdm import tqdm_notebook\n",
    "from tqdm.notebook import trange, tqdm"
   ]
  },
  {
   "cell_type": "code",
   "execution_count": 2,
   "id": "63ee34c5-6a6d-4e8f-b2d9-0b2e10bb0b69",
   "metadata": {},
   "outputs": [
    {
     "data": {
      "text/plain": [
       "<module 'rt_analysis' from '/home/jovyan/data-analyses/rt_delay/rt_analysis.py'>"
      ]
     },
     "execution_count": 2,
     "metadata": {},
     "output_type": "execute_result"
    }
   ],
   "source": [
    "importlib.reload(utils)\n",
    "importlib.reload(rt)"
   ]
  },
  {
   "cell_type": "code",
   "execution_count": 3,
   "id": "fc385e44-100a-4d95-9143-784cb1b16b3c",
   "metadata": {},
   "outputs": [],
   "source": [
    "sjrtd_itp_id = 284"
   ]
  },
  {
   "cell_type": "code",
   "execution_count": 4,
   "id": "89241755-79c9-49f9-89eb-a73842773a83",
   "metadata": {},
   "outputs": [],
   "source": [
    "analysis_date = dt.date(2022, 2, 8)"
   ]
  },
  {
   "cell_type": "code",
   "execution_count": 5,
   "id": "42b13964-273d-45dc-bbe9-e56aaeab9865",
   "metadata": {},
   "outputs": [
    {
     "data": {
      "application/vnd.jupyter.widget-view+json": {
       "model_id": "6472df4d2a5a4bcb9b1067a9f5c9a02c",
       "version_major": 2,
       "version_minor": 0
      },
      "text/plain": [
       "0it [00:00, ?it/s]"
      ]
     },
     "metadata": {},
     "output_type": "display_data"
    }
   ],
   "source": [
    "pbar = tqdm()"
   ]
  },
  {
   "cell_type": "code",
   "execution_count": 6,
   "id": "26d0fa7d-e7f5-411d-931c-1c0e77d72a6f",
   "metadata": {
    "tags": []
   },
   "outputs": [
    {
     "name": "stdout",
     "output_type": "stream",
     "text": [
      "found parquet\n",
      "found parquet\n",
      "found parquet\n",
      "found parquet\n",
      "found_parquet\n",
      "less than 1km of data\n",
      "vehicle positions gdf must not be empty\n",
      "less than 1km of data\n",
      "less than 1km of data\n",
      "less than 1km of data\n",
      "less than 1km of data\n",
      "less than 1km of data\n",
      "less than 1km of data\n",
      "less than 1km of data\n",
      "less than 1km of data\n",
      "less than 1km of data\n",
      "less than 1km of data\n",
      "less than 1km of data\n",
      "less than 1km of data\n",
      "less than 1km of data\n",
      "less than 1km of data\n",
      "could not generate delays for trip 257117\n",
      "Columns must be same length as key\n",
      "could not generate delays for trip 257127\n",
      "Columns must be same length as key\n",
      "could not generate delays for trip 255934\n",
      "Columns must be same length as key\n"
     ]
    },
    {
     "name": "stderr",
     "output_type": "stream",
     "text": [
      "/opt/conda/lib/python3.9/site-packages/siuba/sql/utils.py:52: SAWarning: Dialect bigquery:bigquery will not make use of SQL compilation caching as it does not set the 'supports_statement_cache' attribute to ``True``.  This can have significant performance implications including some performance degradations in comparison to prior SQLAlchemy versions.  Dialect maintainers should seek to set this attribute to True after appropriate development and testing for SQLAlchemy 1.4 caching support.   Alternatively, this attribute may be set to False which will disable this warning. (Background on this error at: https://sqlalche.me/e/14/cprf)\n"
     ]
    }
   ],
   "source": [
    "sjrtd = rt.OperatorDayAnalysis(sjrtd_itp_id, analysis_date, pbar)"
   ]
  },
  {
   "cell_type": "code",
   "execution_count": 7,
   "id": "8624c9e6-cb1f-48db-97c5-f1eaa5416188",
   "metadata": {},
   "outputs": [
    {
     "name": "stdout",
     "output_type": "stream",
     "text": [
      "{'start_time': datetime.time(15, 0), 'end_time': datetime.time(19, 0), 'route_ids': None, 'direction_id': None, 'direction': None}\n"
     ]
    }
   ],
   "source": [
    "sjrtd.set_filter(start_time='15:00', end_time='19:00')"
   ]
  },
  {
   "cell_type": "code",
   "execution_count": 8,
   "id": "9d3fb8a0-93e4-47a4-895e-8ede21d94556",
   "metadata": {
    "tags": []
   },
   "outputs": [
    {
     "name": "stdout",
     "output_type": "stream",
     "text": [
      "view filter: {'start_time': datetime.time(15, 0), 'end_time': datetime.time(19, 0), 'route_ids': None, 'direction_id': None, 'direction': None}\n",
      "speed above 80 for shape 32100, dropping\n",
      "negative speed for shape 32100, dropping\n",
      "speed above 80 for shape 32140, dropping\n",
      "negative speed for shape 32140, dropping\n",
      "speed above 80 for shape 32111, dropping\n",
      "negative speed for shape 32111, dropping\n",
      "speed above 80 for shape 32109, dropping\n",
      "negative speed for shape 32109, dropping\n",
      "speed above 80 for shape 32197, dropping\n",
      "negative speed for shape 32197, dropping\n",
      "speed above 80 for shape 32222, dropping\n",
      "negative speed for shape 32114, dropping\n",
      "negative speed for shape 32102, dropping\n",
      "speed above 80 for shape 32103, dropping\n",
      "negative speed for shape 32103, dropping\n",
      "speed above 80 for shape 32105, dropping\n"
     ]
    },
    {
     "name": "stderr",
     "output_type": "stream",
     "text": [
      "/opt/conda/lib/python3.9/site-packages/numpy/lib/function_base.py:3961: RuntimeWarning: invalid value encountered in subtract\n",
      "/opt/conda/lib/python3.9/site-packages/numpy/lib/function_base.py:3961: RuntimeWarning: invalid value encountered in subtract\n"
     ]
    },
    {
     "name": "stdout",
     "output_type": "stream",
     "text": [
      "speed above 80 for shape 32116, dropping\n",
      "negative speed for shape 32116, dropping\n",
      "negative speed for shape 32163, dropping\n",
      "speed above 80 for shape 32183, dropping\n",
      "negative speed for shape 32183, dropping\n"
     ]
    },
    {
     "name": "stderr",
     "output_type": "stream",
     "text": [
      "TopologyException: assigned depths do not match at -116060.80090243505 1239.5472101856335\n",
      "TopologyException: assigned depths do not match at -117953.55795454726 1648.8320321653728\n",
      "TopologyException: assigned depths do not match at -117953.55795454726 1648.8320321653728\n",
      "/opt/conda/lib/python3.9/site-packages/shapely/ops.py:634: ShapelyDeprecationWarning: GeometryTypeError will derive from ShapelyError and not TypeError or ValueError in Shapely 2.0.\n",
      "Input geom 1 is INVALID: Self-intersection at or near point -112002.82831454017 10863.90563969472 (-112002.82831454016559 10863.905639694719866)\n",
      "<A>\n",
      "MULTIPOLYGON (((-114084.0060600302240346 11813.8892132562868937, -114133.6894329562346684 11835.6277149225752510, -114083.3837823768844828 11855.8846031285356730, -114084.0060600302240346 11813.8892132562868937)), ((-112001.2387243993725860 10858.0429960649416898, -112014.0182606407324784 10905.1758165411702066, -111999.0615781328669982 10919.9168357853995985, -112001.2387243993725860 10858.0429960649416898)), ((-112002.8088594820874278 10863.8859000062984705, -112014.0182606407324784 10905.1758165411702066, -112028.9749431485979585 10890.4347972969408147, -112002.8088594820874278 10863.8859000062984705)))\n",
      "</A>\n",
      "TopologyException: Input geom 1 is invalid: Self-intersection at -112002.82831454017 10863.90563969472\n",
      "/home/jovyan/data-analyses/rt_delay/rt_analysis.py:568: UserWarning: Geometry is in a geographic CRS. Results from 'centroid' are likely incorrect. Use 'GeoSeries.to_crs()' to re-project geometries to a projected CRS before this operation.\n",
      "\n"
     ]
    }
   ],
   "source": [
    "m = rt.OperatorDayAnalysis.segment_speed_map(sjrtd)"
   ]
  },
  {
   "cell_type": "code",
   "execution_count": 9,
   "id": "e659ecec-0379-47c8-b499-9fa600f46265",
   "metadata": {},
   "outputs": [
    {
     "data": {
      "text/plain": [
       "'San Joaquin Regional Transit District'"
      ]
     },
     "execution_count": 9,
     "metadata": {},
     "output_type": "execute_result"
    }
   ],
   "source": [
    "sjrtd.calitp_agency_name"
   ]
  },
  {
   "cell_type": "code",
   "execution_count": 10,
   "id": "7b4e8ceb-bcc1-4f2f-aab7-b2b223951f03",
   "metadata": {},
   "outputs": [
    {
     "data": {
      "text/plain": [
       "'Feb 08 (Tue)'"
      ]
     },
     "execution_count": 10,
     "metadata": {},
     "output_type": "execute_result"
    }
   ],
   "source": [
    "sjrtd.display_date"
   ]
  },
  {
   "cell_type": "code",
   "execution_count": 11,
   "id": "0d3b8972-718f-4a2c-928b-d35f5b274406",
   "metadata": {},
   "outputs": [
    {
     "data": {
      "text/plain": [
       "', All Routes, PM Peak, Feb 08 (Tue)'"
      ]
     },
     "execution_count": 11,
     "metadata": {},
     "output_type": "execute_result"
    }
   ],
   "source": [
    "sjrtd.filter_formatted"
   ]
  },
  {
   "cell_type": "code",
   "execution_count": 36,
   "id": "8842be04-4f78-4e53-a91e-fabd772e69c4",
   "metadata": {},
   "outputs": [],
   "source": [
    "# m"
   ]
  },
  {
   "cell_type": "code",
   "execution_count": 37,
   "id": "d01b0b91-e0f6-4034-bdde-97841a99c4f5",
   "metadata": {},
   "outputs": [
    {
     "name": "stdout",
     "output_type": "stream",
     "text": [
      "{'start_time': None, 'end_time': None, 'route_ids': ['47'], 'direction_id': '1', 'direction': None}\n"
     ]
    }
   ],
   "source": [
    "sjrtd.set_filter(route_ids=['47'], direction_id='1')"
   ]
  },
  {
   "cell_type": "code",
   "execution_count": 17,
   "id": "dacd684f-334a-46e1-81e8-c0c0cbdef460",
   "metadata": {},
   "outputs": [],
   "source": [
    "one_seg = sjrtd.stop_segment_speed_view >> filter(_.shape_id == '32173', _.stop_sequence == 4)"
   ]
  },
  {
   "cell_type": "code",
   "execution_count": 24,
   "id": "56bb170c-30c6-4f32-b6bb-4f88edd27e83",
   "metadata": {},
   "outputs": [],
   "source": [
    "one_shape = sjrtd.stop_segment_speed_view >> filter(_.shape_id == '32173')"
   ]
  },
  {
   "cell_type": "code",
   "execution_count": 33,
   "id": "aa9bdb90-ebc4-49ef-8e5b-b52a44ab6992",
   "metadata": {},
   "outputs": [
    {
     "data": {
      "text/plain": [
       "<AxesSubplot:xlabel='stop_sequence', ylabel='speed_mph'>"
      ]
     },
     "execution_count": 34,
     "metadata": {},
     "output_type": "execute_result"
    },
    {
     "data": {
      "image/png": "[encoded data removed]",
      "text/plain": [
       "<Figure size 432x288 with 1 Axes>"
      ]
     },
     "metadata": {
      "needs_background": "light"
     },
     "output_type": "display_data"
    }
   ],
   "source": [
    "sns.swarmplot(x=one_shape.stop_sequence, y=one_shape.speed_mph)"
   ]
  },
  {
   "cell_type": "code",
   "execution_count": 43,
   "id": "1e8e769e-defa-4bca-91df-aaae0a098c1e",
   "metadata": {},
   "outputs": [
    {
     "data": {
      "text/html": [
       "<div>\n",
       "<style scoped>\n",
       "    .dataframe tbody tr th:only-of-type {\n",
       "        vertical-align: middle;\n",
       "    }\n",
       "\n",
       "    .dataframe tbody tr th {\n",
       "        vertical-align: top;\n",
       "    }\n",
       "\n",
       "    .dataframe thead th {\n",
       "        text-align: right;\n",
       "    }\n",
       "</style>\n",
       "<table border=\"1\" class=\"dataframe\">\n",
       "  <thead>\n",
       "    <tr style=\"text-align: right;\">\n",
       "      <th></th>\n",
       "      <th>stop_id</th>\n",
       "      <th>stop_name</th>\n",
       "      <th>geometry</th>\n",
       "      <th>shape_id</th>\n",
       "      <th>shape_meters</th>\n",
       "      <th>trip_key</th>\n",
       "      <th>trip_id</th>\n",
       "      <th>stop_sequence</th>\n",
       "      <th>arrival_time</th>\n",
       "      <th>route_id</th>\n",
       "      <th>direction_id</th>\n",
       "      <th>actual_time</th>\n",
       "      <th>delay</th>\n",
       "      <th>arrival_hour</th>\n",
       "      <th>mean_speed_mph</th>\n",
       "    </tr>\n",
       "  </thead>\n",
       "  <tbody>\n",
       "    <tr>\n",
       "      <th>0</th>\n",
       "      <td>3026</td>\n",
       "      <td>SAN JOAQUIN ST &amp; MAIN ST FS/NB</td>\n",
       "      <td>POINT (-112951.132 -6260.469)</td>\n",
       "      <td>32180</td>\n",
       "      <td>12340.666901</td>\n",
       "      <td>4337893699326183543</td>\n",
       "      <td>256724</td>\n",
       "      <td>25</td>\n",
       "      <td>2022-02-08 07:02:04</td>\n",
       "      <td>510</td>\n",
       "      <td>0</td>\n",
       "      <td>2022-02-08 07:02:50.384995</td>\n",
       "      <td>0 days 00:00:46.384995</td>\n",
       "      <td>7</td>\n",
       "      <td>17.010035</td>\n",
       "    </tr>\n",
       "    <tr>\n",
       "      <th>1</th>\n",
       "      <td>3026</td>\n",
       "      <td>SAN JOAQUIN ST &amp; MAIN ST FS/NB</td>\n",
       "      <td>POINT (-112951.132 -6260.469)</td>\n",
       "      <td>32180</td>\n",
       "      <td>12340.666901</td>\n",
       "      <td>8130581965145306683</td>\n",
       "      <td>256730</td>\n",
       "      <td>25</td>\n",
       "      <td>2022-02-08 13:12:46</td>\n",
       "      <td>510</td>\n",
       "      <td>0</td>\n",
       "      <td>2022-02-08 13:13:44.326269</td>\n",
       "      <td>0 days 00:00:58.326269</td>\n",
       "      <td>13</td>\n",
       "      <td>15.671778</td>\n",
       "    </tr>\n",
       "    <tr>\n",
       "      <th>2</th>\n",
       "      <td>3090</td>\n",
       "      <td>SAN JOAQUIN ST &amp; HAZELTON FS/NB</td>\n",
       "      <td>POINT (-112818.617 -6920.880)</td>\n",
       "      <td>32180</td>\n",
       "      <td>11666.768633</td>\n",
       "      <td>1535268322434119606</td>\n",
       "      <td>256739</td>\n",
       "      <td>23</td>\n",
       "      <td>2022-02-08 18:40:43</td>\n",
       "      <td>510</td>\n",
       "      <td>0</td>\n",
       "      <td>2022-02-08 18:42:33.770493</td>\n",
       "      <td>0 days 00:01:50.770493</td>\n",
       "      <td>18</td>\n",
       "      <td>21.030831</td>\n",
       "    </tr>\n",
       "    <tr>\n",
       "      <th>3</th>\n",
       "      <td>3026</td>\n",
       "      <td>SAN JOAQUIN ST &amp; MAIN ST FS/NB</td>\n",
       "      <td>POINT (-112951.132 -6260.469)</td>\n",
       "      <td>32180</td>\n",
       "      <td>12340.666901</td>\n",
       "      <td>7763748531631942666</td>\n",
       "      <td>256735</td>\n",
       "      <td>25</td>\n",
       "      <td>2022-02-08 16:22:46</td>\n",
       "      <td>510</td>\n",
       "      <td>0</td>\n",
       "      <td>2022-02-08 16:28:48.107215</td>\n",
       "      <td>0 days 00:06:02.107215</td>\n",
       "      <td>16</td>\n",
       "      <td>17.353114</td>\n",
       "    </tr>\n",
       "    <tr>\n",
       "      <th>4</th>\n",
       "      <td>3026</td>\n",
       "      <td>SAN JOAQUIN ST &amp; MAIN ST FS/NB</td>\n",
       "      <td>POINT (-112951.132 -6260.469)</td>\n",
       "      <td>32180</td>\n",
       "      <td>12340.666901</td>\n",
       "      <td>-1127009894738766735</td>\n",
       "      <td>256723</td>\n",
       "      <td>25</td>\n",
       "      <td>2022-02-08 05:51:28</td>\n",
       "      <td>510</td>\n",
       "      <td>0</td>\n",
       "      <td>2022-02-08 05:50:22.896274</td>\n",
       "      <td>0 days 00:00:00</td>\n",
       "      <td>5</td>\n",
       "      <td>19.892736</td>\n",
       "    </tr>\n",
       "    <tr>\n",
       "      <th>...</th>\n",
       "      <td>...</td>\n",
       "      <td>...</td>\n",
       "      <td>...</td>\n",
       "      <td>...</td>\n",
       "      <td>...</td>\n",
       "      <td>...</td>\n",
       "      <td>...</td>\n",
       "      <td>...</td>\n",
       "      <td>...</td>\n",
       "      <td>...</td>\n",
       "      <td>...</td>\n",
       "      <td>...</td>\n",
       "      <td>...</td>\n",
       "      <td>...</td>\n",
       "      <td>...</td>\n",
       "    </tr>\n",
       "    <tr>\n",
       "      <th>769</th>\n",
       "      <td>3385</td>\n",
       "      <td>MLK BLVD &amp; SAN JOAQUIN ST FS/WB</td>\n",
       "      <td>POINT (-112642.602 -7793.114)</td>\n",
       "      <td>32177</td>\n",
       "      <td>4768.876801</td>\n",
       "      <td>1620775632447595493</td>\n",
       "      <td>256674</td>\n",
       "      <td>5</td>\n",
       "      <td>2022-02-08 16:35:57</td>\n",
       "      <td>49</td>\n",
       "      <td>1</td>\n",
       "      <td>2022-02-08 16:38:46.292536</td>\n",
       "      <td>0 days 00:02:49.292536</td>\n",
       "      <td>16</td>\n",
       "      <td>6.026893</td>\n",
       "    </tr>\n",
       "    <tr>\n",
       "      <th>770</th>\n",
       "      <td>3385</td>\n",
       "      <td>MLK BLVD &amp; SAN JOAQUIN ST FS/WB</td>\n",
       "      <td>POINT (-112642.602 -7793.114)</td>\n",
       "      <td>32177</td>\n",
       "      <td>4768.876801</td>\n",
       "      <td>4547974188146886476</td>\n",
       "      <td>256667</td>\n",
       "      <td>5</td>\n",
       "      <td>2022-02-08 14:50:57</td>\n",
       "      <td>49</td>\n",
       "      <td>1</td>\n",
       "      <td>2022-02-08 14:52:33.467996</td>\n",
       "      <td>0 days 00:01:36.467996</td>\n",
       "      <td>14</td>\n",
       "      <td>8.335961</td>\n",
       "    </tr>\n",
       "    <tr>\n",
       "      <th>771</th>\n",
       "      <td>3385</td>\n",
       "      <td>MLK BLVD &amp; SAN JOAQUIN ST FS/WB</td>\n",
       "      <td>POINT (-112642.602 -7793.114)</td>\n",
       "      <td>32177</td>\n",
       "      <td>4768.876801</td>\n",
       "      <td>-6360151290920940320</td>\n",
       "      <td>256654</td>\n",
       "      <td>5</td>\n",
       "      <td>2022-02-08 09:00:26</td>\n",
       "      <td>49</td>\n",
       "      <td>1</td>\n",
       "      <td>2022-02-08 09:00:35.590142</td>\n",
       "      <td>0 days 00:00:09.590142</td>\n",
       "      <td>9</td>\n",
       "      <td>13.644628</td>\n",
       "    </tr>\n",
       "    <tr>\n",
       "      <th>772</th>\n",
       "      <td>7102</td>\n",
       "      <td>STOCKTON ST &amp; CHARTER WY NS NB</td>\n",
       "      <td>POINT (-114091.051 -8135.039)</td>\n",
       "      <td>32176</td>\n",
       "      <td>10224.529411</td>\n",
       "      <td>2173434120361333019</td>\n",
       "      <td>256666</td>\n",
       "      <td>9</td>\n",
       "      <td>2022-02-08 14:47:55</td>\n",
       "      <td>49</td>\n",
       "      <td>1</td>\n",
       "      <td>2022-02-08 14:51:47.640894</td>\n",
       "      <td>0 days 00:03:52.640894</td>\n",
       "      <td>14</td>\n",
       "      <td>10.379573</td>\n",
       "    </tr>\n",
       "    <tr>\n",
       "      <th>773</th>\n",
       "      <td>7102</td>\n",
       "      <td>STOCKTON ST &amp; CHARTER WY NS NB</td>\n",
       "      <td>POINT (-114091.051 -8135.039)</td>\n",
       "      <td>32176</td>\n",
       "      <td>10224.529411</td>\n",
       "      <td>-4821274130057307053</td>\n",
       "      <td>256649</td>\n",
       "      <td>9</td>\n",
       "      <td>2022-02-08 06:50:55</td>\n",
       "      <td>49</td>\n",
       "      <td>1</td>\n",
       "      <td>2022-02-08 06:42:08.482237</td>\n",
       "      <td>0 days 00:00:00</td>\n",
       "      <td>6</td>\n",
       "      <td>14.903307</td>\n",
       "    </tr>\n",
       "  </tbody>\n",
       "</table>\n",
       "<p>774 rows × 15 columns</p>\n",
       "</div>"
      ],
      "text/plain": [
       "    stop_id                        stop_name                       geometry  \\\n",
       "0      3026   SAN JOAQUIN ST & MAIN ST FS/NB  POINT (-112951.132 -6260.469)   \n",
       "1      3026   SAN JOAQUIN ST & MAIN ST FS/NB  POINT (-112951.132 -6260.469)   \n",
       "2      3090  SAN JOAQUIN ST & HAZELTON FS/NB  POINT (-112818.617 -6920.880)   \n",
       "3      3026   SAN JOAQUIN ST & MAIN ST FS/NB  POINT (-112951.132 -6260.469)   \n",
       "4      3026   SAN JOAQUIN ST & MAIN ST FS/NB  POINT (-112951.132 -6260.469)   \n",
       "..      ...                              ...                            ...   \n",
       "769    3385  MLK BLVD & SAN JOAQUIN ST FS/WB  POINT (-112642.602 -7793.114)   \n",
       "770    3385  MLK BLVD & SAN JOAQUIN ST FS/WB  POINT (-112642.602 -7793.114)   \n",
       "771    3385  MLK BLVD & SAN JOAQUIN ST FS/WB  POINT (-112642.602 -7793.114)   \n",
       "772    7102   STOCKTON ST & CHARTER WY NS NB  POINT (-114091.051 -8135.039)   \n",
       "773    7102   STOCKTON ST & CHARTER WY NS NB  POINT (-114091.051 -8135.039)   \n",
       "\n",
       "    shape_id  shape_meters             trip_key trip_id  stop_sequence  \\\n",
       "0      32180  12340.666901  4337893699326183543  256724             25   \n",
       "1      32180  12340.666901  8130581965145306683  256730             25   \n",
       "2      32180  11666.768633  1535268322434119606  256739             23   \n",
       "3      32180  12340.666901  7763748531631942666  256735             25   \n",
       "4      32180  12340.666901 -1127009894738766735  256723             25   \n",
       "..       ...           ...                  ...     ...            ...   \n",
       "769    32177   4768.876801  1620775632447595493  256674              5   \n",
       "770    32177   4768.876801  4547974188146886476  256667              5   \n",
       "771    32177   4768.876801 -6360151290920940320  256654              5   \n",
       "772    32176  10224.529411  2173434120361333019  256666              9   \n",
       "773    32176  10224.529411 -4821274130057307053  256649              9   \n",
       "\n",
       "           arrival_time route_id direction_id                actual_time  \\\n",
       "0   2022-02-08 07:02:04      510            0 2022-02-08 07:02:50.384995   \n",
       "1   2022-02-08 13:12:46      510            0 2022-02-08 13:13:44.326269   \n",
       "2   2022-02-08 18:40:43      510            0 2022-02-08 18:42:33.770493   \n",
       "3   2022-02-08 16:22:46      510            0 2022-02-08 16:28:48.107215   \n",
       "4   2022-02-08 05:51:28      510            0 2022-02-08 05:50:22.896274   \n",
       "..                  ...      ...          ...                        ...   \n",
       "769 2022-02-08 16:35:57       49            1 2022-02-08 16:38:46.292536   \n",
       "770 2022-02-08 14:50:57       49            1 2022-02-08 14:52:33.467996   \n",
       "771 2022-02-08 09:00:26       49            1 2022-02-08 09:00:35.590142   \n",
       "772 2022-02-08 14:47:55       49            1 2022-02-08 14:51:47.640894   \n",
       "773 2022-02-08 06:50:55       49            1 2022-02-08 06:42:08.482237   \n",
       "\n",
       "                     delay  arrival_hour  mean_speed_mph  \n",
       "0   0 days 00:00:46.384995             7       17.010035  \n",
       "1   0 days 00:00:58.326269            13       15.671778  \n",
       "2   0 days 00:01:50.770493            18       21.030831  \n",
       "3   0 days 00:06:02.107215            16       17.353114  \n",
       "4          0 days 00:00:00             5       19.892736  \n",
       "..                     ...           ...             ...  \n",
       "769 0 days 00:02:49.292536            16        6.026893  \n",
       "770 0 days 00:01:36.467996            14        8.335961  \n",
       "771 0 days 00:00:09.590142             9       13.644628  \n",
       "772 0 days 00:03:52.640894            14       10.379573  \n",
       "773        0 days 00:00:00             6       14.903307  \n",
       "\n",
       "[774 rows x 15 columns]"
      ]
     },
     "execution_count": 43,
     "metadata": {},
     "output_type": "execute_result"
    }
   ],
   "source": [
    "sjrtd.endpoint_delay_view >> inner_join(_, sjrtd.rt_trips >> select(_.trip_id, _.mean_speed_mph), on = 'trip_id')"
   ]
  },
  {
   "cell_type": "code",
   "execution_count": 38,
   "id": "373a9ffe-ec1c-4b53-98ae-f9faa4a628e7",
   "metadata": {},
   "outputs": [
    {
     "name": "stdout",
     "output_type": "stream",
     "text": [
      "view filter: {'start_time': None, 'end_time': None, 'route_ids': ['47'], 'direction_id': '1', 'direction': None}\n"
     ]
    },
    {
     "data": {
      "image/png": "[encoded data removed]",
      "text/plain": [
       "<Figure size 432x288 with 1 Axes>"
      ]
     },
     "metadata": {
      "needs_background": "light"
     },
     "output_type": "display_data"
    }
   ],
   "source": [
    "chart = sjrtd.chart_delays();"
   ]
  },
  {
   "cell_type": "code",
   "execution_count": 32,
   "id": "d0175327-3ac6-48b1-8d48-3168e98eef8a",
   "metadata": {},
   "outputs": [],
   "source": [
    "chart.savefig('./seaborn_chart.png', bbox_inches='tight')"
   ]
  },
  {
   "cell_type": "code",
   "execution_count": 16,
   "id": "dc3cf903-b6b6-452d-a6e8-9d93570c1b5f",
   "metadata": {},
   "outputs": [],
   "source": [
    "rt_1 = sjrtd.endpoint_delay_summary >> filter(_.route_id == '44', _.direction_id == '0')"
   ]
  },
  {
   "cell_type": "code",
   "execution_count": 17,
   "id": "8f1086ee-f441-40ce-83c1-b72a28cb02e6",
   "metadata": {},
   "outputs": [
    {
     "name": "stderr",
     "output_type": "stream",
     "text": [
      "/tmp/ipykernel_880/2582780535.py:1: SettingWithCopyWarning: \n",
      "A value is trying to be set on a copy of a slice from a DataFrame.\n",
      "Try using .loc[row_indexer,col_indexer] = value instead\n",
      "\n",
      "See the caveats in the documentation: https://pandas.pydata.org/pandas-docs/stable/user_guide/indexing.html#returning-a-view-versus-a-copy\n",
      "/tmp/ipykernel_880/2582780535.py:2: SettingWithCopyWarning: \n",
      "A value is trying to be set on a copy of a slice from a DataFrame.\n",
      "Try using .loc[row_indexer,col_indexer] = value instead\n",
      "\n",
      "See the caveats in the documentation: https://pandas.pydata.org/pandas-docs/stable/user_guide/indexing.html#returning-a-view-versus-a-copy\n"
     ]
    }
   ],
   "source": [
    "rt_1['Minutes of Delay at Endpoint'] = rt_1.mean_end_delay.apply(lambda x: x.seconds / 60)\n",
    "rt_1['Hour'] = rt_1.arrival_hour"
   ]
  },
  {
   "cell_type": "code",
   "execution_count": 19,
   "id": "a2550884-9552-46fb-b9b7-eaf754e8881e",
   "metadata": {},
   "outputs": [],
   "source": [
    "import seaborn as sns"
   ]
  },
  {
   "cell_type": "code",
   "execution_count": null,
   "id": "552cf5b4-c4df-44b9-b901-599eb7d04207",
   "metadata": {},
   "outputs": [],
   "source": [
    "sjrtd.endpoint_delay_view >> filter(_.direction_id == '1', _.route_id == '44', _.arrival_hour == 17)"
   ]
  },
  {
   "cell_type": "code",
   "execution_count": null,
   "id": "285c66e2-7914-43d2-aa7c-ac28ed358e9a",
   "metadata": {},
   "outputs": [],
   "source": [
    "rt_delay_joined = sjrtd.rt_trips >> inner_join(_, sjrtd.endpoint_delay_view >> select(_.trip_id, _.endpoint_delay == _.delay,\n",
    "                                                                      _.arrival_hour)\n",
    "                              , on = 'trip_id')"
   ]
  },
  {
   "cell_type": "code",
   "execution_count": null,
   "id": "e418bb5e-5e39-4057-8a03-405937bdb5cc",
   "metadata": {},
   "outputs": [],
   "source": [
    "rt_delay_joined >> arrange(_.mean_speed_mph) >> head(20)"
   ]
  },
  {
   "cell_type": "code",
   "execution_count": null,
   "id": "9ac703cf-55a3-4513-b7d6-0d373930a698",
   "metadata": {},
   "outputs": [],
   "source": [
    "dt1 = sjrtd.position_interpolators['256383']['rt']"
   ]
  },
  {
   "cell_type": "code",
   "execution_count": null,
   "id": "78e64b0c-72ab-4be9-b2bd-ef0ffbb59503",
   "metadata": {},
   "outputs": [],
   "source": [
    "dt2 = sjrtd.position_interpolators['256519']['rt']"
   ]
  },
  {
   "cell_type": "code",
   "execution_count": null,
   "id": "e83e88fd-2056-4250-bcdd-bebec64d51ac",
   "metadata": {},
   "outputs": [],
   "source": []
  }
 ],
 "metadata": {
  "kernelspec": {
   "display_name": "Python 3 (ipykernel)",
   "language": "python",
   "name": "python3"
  },
  "language_info": {
   "codemirror_mode": {
    "name": "ipython",
    "version": 3
   },
   "file_extension": ".py",
   "mimetype": "text/x-python",
   "name": "python",
   "nbconvert_exporter": "python",
   "pygments_lexer": "ipython3",
   "version": "3.9.7"
  }
 },
 "nbformat": 4,
 "nbformat_minor": 5
}
