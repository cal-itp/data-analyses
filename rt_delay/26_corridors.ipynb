{
 "cells": [
  {
   "cell_type": "code",
   "execution_count": null,
   "id": "46898b5c-b5cc-4096-ab68-8c3e42fab870",
   "metadata": {},
   "outputs": [],
   "source": [
    "%%capture\n",
    "import warnings\n",
    "warnings.filterwarnings('ignore')\n",
    "\n",
    "import os\n",
    "os.environ[\"CALITP_BQ_MAX_BYTES\"] = str(800_000_000_000)\n",
    "import shared_utils\n",
    "\n",
    "from calitp.tables import tbl\n",
    "from calitp import query_sql\n",
    "import calitp.magics\n",
    "\n",
    "from siuba import *\n",
    "import pandas as pd\n",
    "import geopandas as gpd\n",
    "\n",
    "import datetime as dt\n",
    "\n",
    "import importlib\n",
    "import rt_filter_map_plot\n",
    "\n",
    "from IPython.display import display, Markdown, Latex, HTML\n",
    "import json"
   ]
  },
  {
   "cell_type": "code",
   "execution_count": null,
   "id": "306a7053-3fab-4723-a287-111e4eba11f2",
   "metadata": {},
   "outputs": [],
   "source": [
    "def set_id_date(input_id):\n",
    "    global analysis_date\n",
    "    global itp_id\n",
    "    itp_id = input_id\n",
    "    if itp_id in [61, 301]:\n",
    "        analysis_date = dt.date(2022, 6, 8) ##wednesday, new tables for Napa operators\n",
    "    elif itp_id == 273:\n",
    "        analysis_date = dt.date(2022, 2, 8) ## override for SacRT\n",
    "    elif itp_id == 208:\n",
    "        analysis_date = dt.date(2022, 7, 20) ## override for MST\n",
    "    elif itp_id in [282, 293]:\n",
    "        analysis_date = dt.date(2022, 9, 7) ## override for SFMTA\n",
    "    elif itp_id in [112]:\n",
    "        analysis_date = dt.date(2022, 9, 20) ## override for foothill (new data!)\n",
    "    else:\n",
    "        analysis_date = dt.date(2022, 6, 1) #rebuild site\n",
    "    return"
   ]
  },
  {
   "cell_type": "markdown",
   "id": "7d5572cd-dd67-4e26-b100-a0e7472a4a17",
   "metadata": {
    "tags": []
   },
   "source": [
    "# Corridors to support bus speeds presentation\n",
    "\n",
    "* also potential for 100 buses inclusion"
   ]
  },
  {
   "cell_type": "markdown",
   "id": "704f0788-b4a8-497d-b2aa-c7ac6df939f4",
   "metadata": {
    "tags": []
   },
   "source": [
    "## Metro - Santa Monica Bl"
   ]
  },
  {
   "cell_type": "code",
   "execution_count": null,
   "id": "834b15da-0f54-4dfb-a808-e0aa800d7896",
   "metadata": {},
   "outputs": [],
   "source": [
    "set_id_date(182)"
   ]
  },
  {
   "cell_type": "code",
   "execution_count": null,
   "id": "e4cbefc6-9bbb-4989-85b7-1f31da17fcb8",
   "metadata": {},
   "outputs": [],
   "source": [
    "%%capture\n",
    "rt_day = rt_filter_map_plot.from_gcs(itp_id, analysis_date)"
   ]
  },
  {
   "cell_type": "code",
   "execution_count": null,
   "id": "b44d1b93-9d46-4af2-8b81-2b8ac9de6bdc",
   "metadata": {},
   "outputs": [],
   "source": [
    "rt_day.add_corridor(gpd.read_file('./corridors_100buses/santamonica_hollywood.geojson'))"
   ]
  },
  {
   "cell_type": "code",
   "execution_count": null,
   "id": "923f1462-b34a-42d2-a632-c5eb3ac16ac6",
   "metadata": {},
   "outputs": [],
   "source": [
    "%%capture\n",
    "rt_day.set_filter(start_time='15:00', end_time='19:00', route_names=['4'])"
   ]
  },
  {
   "cell_type": "code",
   "execution_count": null,
   "id": "1a3d7a9a-d3e8-4bf1-850c-242ec148a8a0",
   "metadata": {},
   "outputs": [],
   "source": [
    "rt_day.corridor_metrics()"
   ]
  },
  {
   "cell_type": "code",
   "execution_count": null,
   "id": "bf3e3142-0ef8-4b92-ad29-fa000cf294d0",
   "metadata": {},
   "outputs": [],
   "source": [
    "## avoid papermill errors when map fails to render\n",
    "m = None"
   ]
  },
  {
   "cell_type": "code",
   "execution_count": null,
   "id": "5e46b095-7bc2-4552-a37b-661d076b2b51",
   "metadata": {
    "tags": []
   },
   "outputs": [],
   "source": [
    "%%capture\n",
    "m = rt_day.segment_speed_map(how='low_speeds', no_title=True, corridor=True)"
   ]
  },
  {
   "cell_type": "code",
   "execution_count": null,
   "id": "0393f107-e9fe-4982-961a-032f7bf4e0eb",
   "metadata": {},
   "outputs": [],
   "source": [
    "m"
   ]
  },
  {
   "cell_type": "markdown",
   "id": "862f43ff-4147-4b6a-943f-e1341528e3ab",
   "metadata": {},
   "source": [
    "## AC Transit - San Pablo Ave"
   ]
  },
  {
   "cell_type": "code",
   "execution_count": null,
   "id": "e978fa07-9b42-4eac-ba9f-2c22d11ee7e9",
   "metadata": {},
   "outputs": [],
   "source": [
    "set_id_date(4)"
   ]
  },
  {
   "cell_type": "code",
   "execution_count": null,
   "id": "38f8ae34-2368-49fe-89b0-41283554e211",
   "metadata": {},
   "outputs": [],
   "source": [
    "rt_day = rt_filter_map_plot.from_gcs(itp_id, analysis_date)"
   ]
  },
  {
   "cell_type": "code",
   "execution_count": null,
   "id": "d20ff65a-1d2d-4324-9da2-9d431d12bbfb",
   "metadata": {},
   "outputs": [],
   "source": [
    "rt_day.set_filter(start_time='15:00', end_time='19:00', route_names=['72', '72R'])"
   ]
  },
  {
   "cell_type": "code",
   "execution_count": null,
   "id": "834a0733-a1b1-4690-9274-5d4d50f1b8dd",
   "metadata": {},
   "outputs": [],
   "source": [
    "m = rt_day.segment_speed_map(how='low_speeds', no_title=True)"
   ]
  },
  {
   "cell_type": "code",
   "execution_count": null,
   "id": "85381d54-9065-4a2d-96ff-819eeeda61d9",
   "metadata": {},
   "outputs": [],
   "source": [
    "m"
   ]
  },
  {
   "cell_type": "code",
   "execution_count": null,
   "id": "31157b65-c561-47e7-96ad-62f5caf00b69",
   "metadata": {},
   "outputs": [],
   "source": [
    "corridor = gpd.read_file('./corridors_100buses/sanpablo.geojson')"
   ]
  },
  {
   "cell_type": "code",
   "execution_count": null,
   "id": "ceeb73e0-8798-4a79-933e-8f8311251f64",
   "metadata": {},
   "outputs": [],
   "source": [
    "rt_day.add_corridor(corridor)"
   ]
  },
  {
   "cell_type": "code",
   "execution_count": null,
   "id": "8e2adb11-62db-48ca-b273-adc1a4eee9ab",
   "metadata": {},
   "outputs": [],
   "source": [
    "rt_day.corridor_metrics()"
   ]
  },
  {
   "cell_type": "code",
   "execution_count": null,
   "id": "c7213b16-e869-460a-8b67-27b6061c5d77",
   "metadata": {},
   "outputs": [],
   "source": [
    "1922 / 60"
   ]
  },
  {
   "cell_type": "code",
   "execution_count": null,
   "id": "b3e95ddc-a210-4e3b-841d-8a453daec2be",
   "metadata": {},
   "outputs": [],
   "source": [
    "# rt_day._filter(rt_day.rt_trips)"
   ]
  },
  {
   "cell_type": "markdown",
   "id": "6b8ee839-3bec-42ed-a92f-4dd5cfcfe6fd",
   "metadata": {},
   "source": [
    "## Sacramento RT - Watt Ave / I80 / 80 biz"
   ]
  },
  {
   "cell_type": "code",
   "execution_count": null,
   "id": "4e2c91ae-a3b5-4386-b4ea-4a378fe6aa3a",
   "metadata": {},
   "outputs": [],
   "source": [
    "importlib.reload(rt_filter_map_plot)"
   ]
  },
  {
   "cell_type": "code",
   "execution_count": null,
   "id": "47616dc8-38a9-49b3-b3aa-f8aa35c9a00c",
   "metadata": {},
   "outputs": [],
   "source": [
    "set_id_date(273)"
   ]
  },
  {
   "cell_type": "code",
   "execution_count": null,
   "id": "5723c3d5-7609-46ac-b69e-46ee5ea179c5",
   "metadata": {},
   "outputs": [],
   "source": [
    "rt_day = rt_filter_map_plot.from_gcs(itp_id, analysis_date)"
   ]
  },
  {
   "cell_type": "code",
   "execution_count": null,
   "id": "dc6f6edf-1946-4418-8e6b-ca2ba2aeda32",
   "metadata": {},
   "outputs": [],
   "source": [
    "rt_day.add_corridor(gpd.read_file('./corridors_100buses/watti80.geojson'), hotspot = True)"
   ]
  },
  {
   "cell_type": "code",
   "execution_count": null,
   "id": "f449a770-2157-4440-8ba6-9b5bd0c42ce2",
   "metadata": {},
   "outputs": [],
   "source": [
    "rt_day.set_filter(start_time='15:00', end_time='19:00', route_names=['26', '84', '93'])"
   ]
  },
  {
   "cell_type": "code",
   "execution_count": null,
   "id": "4f595620-3ab2-43a1-bd4b-7f12262c8abe",
   "metadata": {},
   "outputs": [],
   "source": [
    "m = rt_day.segment_speed_map(how='low_speeds', no_title=True, corridor = True)"
   ]
  },
  {
   "cell_type": "code",
   "execution_count": null,
   "id": "00ef9340-ae33-494c-89a4-a08daf0cf54c",
   "metadata": {},
   "outputs": [],
   "source": [
    "m"
   ]
  },
  {
   "cell_type": "code",
   "execution_count": null,
   "id": "4c8e5696-9f6b-476b-b7c4-cb69b236836a",
   "metadata": {},
   "outputs": [],
   "source": [
    "rt_day.corridor_metrics()"
   ]
  },
  {
   "cell_type": "markdown",
   "id": "bdb63fe8-3748-4475-8656-ce5ea2253205",
   "metadata": {},
   "source": [
    "## SBMTD State/Hollister"
   ]
  },
  {
   "cell_type": "code",
   "execution_count": null,
   "id": "e2f05454-8931-4844-b91e-d600bfd9a160",
   "metadata": {},
   "outputs": [],
   "source": [
    "set_id_date(293)"
   ]
  },
  {
   "cell_type": "markdown",
   "id": "a487690e-bac3-4272-b7b3-6e6a67c99508",
   "metadata": {},
   "source": [
    "### State Hotspot"
   ]
  },
  {
   "cell_type": "code",
   "execution_count": null,
   "id": "c3d817be-51e3-422f-a686-10859facb00a",
   "metadata": {},
   "outputs": [],
   "source": [
    "rt_day = rt_filter_map_plot.from_gcs(itp_id, analysis_date)"
   ]
  },
  {
   "cell_type": "code",
   "execution_count": null,
   "id": "d24ebfd7-b75a-4891-8f04-b0d32e81ea91",
   "metadata": {},
   "outputs": [],
   "source": [
    "rt_day.add_corridor(gpd.read_file('./corridors_100buses/state.geojson'), hotspot = True)"
   ]
  },
  {
   "cell_type": "code",
   "execution_count": null,
   "id": "5d299c3f-40bd-426b-84c9-6a7d0c97ac1a",
   "metadata": {},
   "outputs": [],
   "source": [
    "rt_day.rt_trips.route_short_name.unique()"
   ]
  },
  {
   "cell_type": "code",
   "execution_count": null,
   "id": "92d70689-3623-489e-9a4d-8cafba69edd2",
   "metadata": {},
   "outputs": [],
   "source": [
    "rt_day.set_filter(start_time='15:00', end_time='19:00', route_names=['7', '12X', '24X', '15X', '6', '11'])"
   ]
  },
  {
   "cell_type": "code",
   "execution_count": null,
   "id": "8ab66d76-0d16-4e56-abca-014c5c6cd7fa",
   "metadata": {},
   "outputs": [],
   "source": [
    "m = rt_day.segment_speed_map(how='low_speeds', no_title=True, corridor = True)"
   ]
  },
  {
   "cell_type": "code",
   "execution_count": null,
   "id": "ac9a113f-b4dc-4292-86b9-21bb94486fc3",
   "metadata": {},
   "outputs": [],
   "source": [
    "m"
   ]
  },
  {
   "cell_type": "code",
   "execution_count": null,
   "id": "5d5d4450-042c-4e88-8e70-fc9d7371c39a",
   "metadata": {},
   "outputs": [],
   "source": [
    "# rt_day._filter(rt_day.rt_trips)"
   ]
  },
  {
   "cell_type": "code",
   "execution_count": null,
   "id": "516e85a9-1c3a-40c3-868d-ad07bf3f3766",
   "metadata": {},
   "outputs": [],
   "source": [
    "# avoid counting freeway route in intersection delay\n",
    "rt_day.stop_delay_view = rt_day.stop_delay_view >> filter(_.route_id != '7')"
   ]
  },
  {
   "cell_type": "code",
   "execution_count": null,
   "id": "4464654e-8d35-4cf8-bb0d-e20aea7a3933",
   "metadata": {},
   "outputs": [],
   "source": [
    "rt_day.corridor_metrics()"
   ]
  },
  {
   "cell_type": "markdown",
   "id": "8800d36e-64de-4f35-896e-8cc888ad0b84",
   "metadata": {},
   "source": [
    "### Hollister Hotspot"
   ]
  },
  {
   "cell_type": "code",
   "execution_count": null,
   "id": "55de8df9-c350-4a64-aa4f-139cb7d3e4fd",
   "metadata": {},
   "outputs": [],
   "source": [
    "rt_day = rt_filter_map_plot.from_gcs(itp_id, analysis_date)"
   ]
  },
  {
   "cell_type": "code",
   "execution_count": null,
   "id": "4569284d-1380-46cb-8c16-aa97eb6c2d9c",
   "metadata": {},
   "outputs": [],
   "source": [
    "rt_day.add_corridor(gpd.read_file('./corridors_100buses/hollister.geojson'), hotspot = True)"
   ]
  },
  {
   "cell_type": "code",
   "execution_count": null,
   "id": "9bdb330e-67b0-421c-9d9a-c56cebde9ad7",
   "metadata": {},
   "outputs": [],
   "source": [
    "m = rt_day.segment_speed_map(how='low_speeds', no_title=True, corridor = True)"
   ]
  },
  {
   "cell_type": "code",
   "execution_count": null,
   "id": "17b0e32a-157f-4d7b-abb8-56125f72025b",
   "metadata": {},
   "outputs": [],
   "source": [
    "m"
   ]
  },
  {
   "cell_type": "code",
   "execution_count": null,
   "id": "263ac81b-6cf2-43fd-a139-1efe5c836992",
   "metadata": {},
   "outputs": [],
   "source": [
    "shp53 = rt_day.stop_delay_view >> filter(_.shape_id == 'shp-12X-53', _.corridor, _.stop_sequence > 3.9)\n",
    "shp04 = rt_day.stop_delay_view >> filter(_.shape_id == 'shp-12X-04', _.corridor, _.stop_sequence < 9.1)"
   ]
  },
  {
   "cell_type": "code",
   "execution_count": null,
   "id": "eddff267-cd89-4b84-9223-354df9736368",
   "metadata": {},
   "outputs": [],
   "source": [
    "# rt_day.stop_delay_view >> filter(_.route_short_name == '12X', _.corridor) >> distinct(_.stop_sequence, _keep_all=True) >> arrange(_.shape_id, _.stop_sequence)"
   ]
  },
  {
   "cell_type": "code",
   "execution_count": null,
   "id": "71f7cca6-1238-4466-a676-fc37940a34eb",
   "metadata": {},
   "outputs": [],
   "source": [
    "rt_day.stop_delay_view = rt_day.stop_delay_view >> filter(-_.shape_id.isin(['shp-12X-53', 'shp-12X-04']))"
   ]
  },
  {
   "cell_type": "code",
   "execution_count": null,
   "id": "01c1bf04-5570-4864-b8b3-75747dc1d2e6",
   "metadata": {},
   "outputs": [],
   "source": [
    "rt_day.stop_delay_view = pd.concat([rt_day.stop_delay_view, shp53, shp04])"
   ]
  },
  {
   "cell_type": "code",
   "execution_count": null,
   "id": "23a49ee3-ddf5-47bb-9779-4e7e8c361cf4",
   "metadata": {},
   "outputs": [],
   "source": [
    "rt_day.corridor_metrics()"
   ]
  }
 ],
 "metadata": {
  "kernelspec": {
   "display_name": "Python 3 (ipykernel)",
   "language": "python",
   "name": "python3"
  },
  "language_info": {
   "codemirror_mode": {
    "name": "ipython",
    "version": 3
   },
   "file_extension": ".py",
   "mimetype": "text/x-python",
   "name": "python",
   "nbconvert_exporter": "python",
   "pygments_lexer": "ipython3",
   "version": "3.10.5"
  }
 },
 "nbformat": 4,
 "nbformat_minor": 5
}
