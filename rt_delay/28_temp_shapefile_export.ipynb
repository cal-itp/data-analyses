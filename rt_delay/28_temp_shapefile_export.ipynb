{
 "cells": [
  {
   "cell_type": "code",
   "execution_count": 1,
   "id": "3843ed0e-5d3c-4974-95a1-c129c515d25b",
   "metadata": {},
   "outputs": [],
   "source": [
    "%%capture\n",
    "import warnings\n",
    "warnings.filterwarnings('ignore')\n",
    "\n",
    "import os\n",
    "os.environ[\"CALITP_BQ_MAX_BYTES\"] = str(800_000_000_000)\n",
    "import shared_utils\n",
    "\n",
    "from calitp.tables import tbl\n",
    "from calitp import query_sql\n",
    "import calitp.magics\n",
    "\n",
    "from siuba import *\n",
    "import pandas as pd\n",
    "import geopandas as gpd\n",
    "\n",
    "import datetime as dt\n",
    "\n",
    "import importlib\n",
    "import rt_filter_map_plot\n",
    "\n",
    "from IPython.display import display, Markdown, Latex, HTML\n",
    "import json"
   ]
  },
  {
   "cell_type": "markdown",
   "id": "ea7858a3-ca27-4bdc-b478-a32418e4270e",
   "metadata": {},
   "source": [
    "# Export D4 Shapefiles per SPUR ask"
   ]
  },
  {
   "cell_type": "code",
   "execution_count": 2,
   "id": "df8a3d3d-f55e-49c4-aa67-5809e3986acd",
   "metadata": {},
   "outputs": [],
   "source": [
    "import yaml"
   ]
  },
  {
   "cell_type": "code",
   "execution_count": 3,
   "id": "a29345bc-96fb-4c87-877d-5a46e8970bab",
   "metadata": {},
   "outputs": [],
   "source": [
    "with open ('../portfolio/sites/rt.yml') as file:\n",
    "    rt_site = yaml.safe_load(file)"
   ]
  },
  {
   "cell_type": "code",
   "execution_count": 4,
   "id": "f0e046cb-fe76-439b-adc9-606369a6509a",
   "metadata": {},
   "outputs": [],
   "source": [
    "d4_dicts = rt_site['parts'][0]['chapters'][3]['sections']\n",
    "d4_ids = [d4_dict['itp_id'] for d4_dict in d4_dicts]"
   ]
  },
  {
   "cell_type": "code",
   "execution_count": 9,
   "id": "15b31e1b-5bd2-4353-8051-55e47d6dbbca",
   "metadata": {},
   "outputs": [
    {
     "data": {
      "text/plain": [
       "[194, 167, 110, 247, 350, 310, 336, 282, 4, 127, 294, 290, 61, 301]"
      ]
     },
     "execution_count": 9,
     "metadata": {},
     "output_type": "execute_result"
    }
   ],
   "source": [
    "d4_ids"
   ]
  },
  {
   "cell_type": "code",
   "execution_count": 20,
   "id": "f5fc127d-cfcd-4e3a-930f-f57fc77f35a2",
   "metadata": {},
   "outputs": [],
   "source": [
    "airtable_organizations = (\n",
    "    tbl.airtable.california_transit_organizations()\n",
    "    >> select(_.itp_id, _.name, _.caltrans_district,\n",
    "              _.website)\n",
    "    >> collect()\n",
    "    >> filter(_.itp_id.isin(d4_ids))\n",
    "    >> mutate(itp_id = _.itp_id.astype(int))\n",
    ")"
   ]
  },
  {
   "cell_type": "code",
   "execution_count": 22,
   "id": "4e52bb30-19b1-4818-842f-a818caf902c7",
   "metadata": {},
   "outputs": [],
   "source": [
    "airtable_organizations.to_csv('operators.csv')"
   ]
  },
  {
   "cell_type": "code",
   "execution_count": 6,
   "id": "65af8a00-0334-4058-9f0e-bb83bf432194",
   "metadata": {},
   "outputs": [],
   "source": [
    "def read_output_shapefile(itp_id):\n",
    "    \n",
    "    if itp_id in [61, 301]:\n",
    "        analysis_date = dt.date(2022, 6, 8) ##wednesday, new tables for Napa operators\n",
    "    else:\n",
    "        analysis_date = dt.date(2022, 6, 1) ## others\n",
    "    \n",
    "    rt_day = rt_filter_map_plot.from_gcs(itp_id, analysis_date)\n",
    "    rt_day.set_filter(start_time='06:00', end_time='09:00')\n",
    "    os.system(f'mkdir d4_shapefiles/{itp_id}_{rt_day.filter_period}')\n",
    "    _m = rt_day.segment_speed_map()\n",
    "    rt_day.detailed_map_view.to_file(f'./d4_shapefiles/{itp_id}_{rt_day.filter_period}/{itp_id}_{rt_day.filter_period}.shp', driver='ESRI Shapefile')\n",
    "    rt_day.set_filter(start_time='10:00', end_time='14:00')\n",
    "    os.system(f'mkdir d4_shapefiles/{itp_id}_{rt_day.filter_period}')\n",
    "    _m = rt_day.segment_speed_map()\n",
    "    rt_day.detailed_map_view.to_file(f'./d4_shapefiles/{itp_id}_{rt_day.filter_period}/{itp_id}_{rt_day.filter_period}.shp', driver='ESRI Shapefile')\n",
    "    rt_day.set_filter(start_time='15:00', end_time='19:00')\n",
    "    os.system(f'mkdir d4_shapefiles/{itp_id}_{rt_day.filter_period}')\n",
    "    _m = rt_day.segment_speed_map()\n",
    "    rt_day.detailed_map_view.to_file(f'./d4_shapefiles/{itp_id}_{rt_day.filter_period}/{itp_id}_{rt_day.filter_period}.shp', driver='ESRI Shapefile')"
   ]
  },
  {
   "cell_type": "code",
   "execution_count": 7,
   "id": "83b65f4f-2724-46d6-bf13-b3273e685687",
   "metadata": {
    "collapsed": true,
    "jupyter": {
     "outputs_hidden": true
    },
    "tags": []
   },
   "outputs": [
    {
     "name": "stdout",
     "output_type": "stream",
     "text": [
      "found parquet\n"
     ]
    },
    {
     "name": "stderr",
     "output_type": "stream",
     "text": [
      "mkdir: cannot create directory ‘d4_shapefiles/194_AM_Peak’: File exists\n"
     ]
    },
    {
     "name": "stdout",
     "output_type": "stream",
     "text": [
      "stop_speeds shape: (0, 18), shape_id: 110\n",
      "stop speeds gdf is empty!\n"
     ]
    },
    {
     "name": "stderr",
     "output_type": "stream",
     "text": [
      "mkdir: cannot create directory ‘d4_shapefiles/194_Midday’: File exists\n"
     ]
    },
    {
     "name": "stdout",
     "output_type": "stream",
     "text": [
      "stop_speeds shape: (0, 18), shape_id: 175\n",
      "stop speeds gdf is empty!\n"
     ]
    },
    {
     "name": "stderr",
     "output_type": "stream",
     "text": [
      "TopologyException: assigned depths do not match at -245771.44551456693 9380.3392501076505\n",
      "TopologyException: assigned depths do not match at -245811.7055685604 9335.8512467872388\n",
      "mkdir: cannot create directory ‘d4_shapefiles/194_PM_Peak’: File exists\n",
      "TopologyException: assigned depths do not match at -245771.44551456693 9380.3392501076505\n"
     ]
    },
    {
     "name": "stdout",
     "output_type": "stream",
     "text": [
      "found parquet\n"
     ]
    },
    {
     "name": "stderr",
     "output_type": "stream",
     "text": [
      "mkdir: cannot create directory ‘d4_shapefiles/167_AM_Peak’: File exists\n",
      "TopologyException: assigned depths do not match at -166523.38192423596 -35415.952393142536\n",
      "mkdir: cannot create directory ‘d4_shapefiles/167_Midday’: File exists\n",
      "mkdir: cannot create directory ‘d4_shapefiles/167_PM_Peak’: File exists\n"
     ]
    },
    {
     "name": "stdout",
     "output_type": "stream",
     "text": [
      "found parquet\n"
     ]
    },
    {
     "name": "stderr",
     "output_type": "stream",
     "text": [
      "mkdir: cannot create directory ‘d4_shapefiles/110_AM_Peak’: File exists\n",
      "mkdir: cannot create directory ‘d4_shapefiles/110_Midday’: File exists\n",
      "mkdir: cannot create directory ‘d4_shapefiles/110_PM_Peak’: File exists\n"
     ]
    },
    {
     "name": "stdout",
     "output_type": "stream",
     "text": [
      "found parquet\n"
     ]
    },
    {
     "name": "stderr",
     "output_type": "stream",
     "text": [
      "mkdir: cannot create directory ‘d4_shapefiles/247_AM_Peak’: File exists\n",
      "mkdir: cannot create directory ‘d4_shapefiles/247_Midday’: File exists\n",
      "mkdir: cannot create directory ‘d4_shapefiles/247_PM_Peak’: File exists\n"
     ]
    },
    {
     "name": "stdout",
     "output_type": "stream",
     "text": [
      "found parquet\n"
     ]
    },
    {
     "name": "stderr",
     "output_type": "stream",
     "text": [
      "mkdir: cannot create directory ‘d4_shapefiles/350_AM_Peak’: File exists\n",
      "mkdir: cannot create directory ‘d4_shapefiles/350_Midday’: File exists\n",
      "mkdir: cannot create directory ‘d4_shapefiles/350_PM_Peak’: File exists\n"
     ]
    },
    {
     "name": "stdout",
     "output_type": "stream",
     "text": [
      "found parquet\n"
     ]
    },
    {
     "name": "stderr",
     "output_type": "stream",
     "text": [
      "mkdir: cannot create directory ‘d4_shapefiles/310_AM_Peak’: File exists\n",
      "mkdir: cannot create directory ‘d4_shapefiles/310_Midday’: File exists\n",
      "mkdir: cannot create directory ‘d4_shapefiles/310_PM_Peak’: File exists\n"
     ]
    },
    {
     "name": "stdout",
     "output_type": "stream",
     "text": [
      "found parquet\n"
     ]
    },
    {
     "name": "stderr",
     "output_type": "stream",
     "text": [
      "mkdir: cannot create directory ‘d4_shapefiles/336_AM_Peak’: File exists\n",
      "TopologyException: assigned depths do not match at -156711.91022595117 -322.07836210183837\n",
      "TopologyException: assigned depths do not match at -156711.91022595117 -322.07836210183837\n",
      "TopologyException: depth mismatch at  at -156777.09272740249 -0.85136061594164791\n",
      "mkdir: cannot create directory ‘d4_shapefiles/336_Midday’: File exists\n",
      "TopologyException: assigned depths do not match at -156711.91022595117 -322.07836210183837\n",
      "TopologyException: assigned depths do not match at -156711.91022595117 -322.07836210183837\n",
      "TopologyException: depth mismatch at  at -156777.09272740249 -0.85136061594164791\n",
      "mkdir: cannot create directory ‘d4_shapefiles/336_PM_Peak’: File exists\n",
      "TopologyException: assigned depths do not match at -156711.91022595117 -322.07836210183837\n",
      "TopologyException: assigned depths do not match at -156711.91022595117 -322.07836210183837\n",
      "TopologyException: depth mismatch at  at -156777.09272740249 -0.85136061594164791\n"
     ]
    },
    {
     "name": "stdout",
     "output_type": "stream",
     "text": [
      "found parquet\n"
     ]
    },
    {
     "name": "stderr",
     "output_type": "stream",
     "text": [
      "mkdir: cannot create directory ‘d4_shapefiles/282_AM_Peak’: File exists\n"
     ]
    },
    {
     "name": "stdout",
     "output_type": "stream",
     "text": [
      "stop_speeds shape: (0, 18), shape_id: 202316\n",
      "stop speeds gdf is empty!\n"
     ]
    },
    {
     "name": "stderr",
     "output_type": "stream",
     "text": [
      "mkdir: cannot create directory ‘d4_shapefiles/282_Midday’: File exists\n",
      "TopologyException: assigned depths do not match at -217828.44565838043 -30002.608934296124\n",
      "mkdir: cannot create directory ‘d4_shapefiles/282_PM_Peak’: File exists\n"
     ]
    },
    {
     "name": "stdout",
     "output_type": "stream",
     "text": [
      "found parquet\n"
     ]
    },
    {
     "name": "stderr",
     "output_type": "stream",
     "text": [
      "mkdir: cannot create directory ‘d4_shapefiles/4_AM_Peak’: File exists\n",
      "mkdir: cannot create directory ‘d4_shapefiles/4_Midday’: File exists\n",
      "mkdir: cannot create directory ‘d4_shapefiles/4_PM_Peak’: File exists\n"
     ]
    },
    {
     "name": "stdout",
     "output_type": "stream",
     "text": [
      "found parquet\n"
     ]
    },
    {
     "name": "stderr",
     "output_type": "stream",
     "text": [
      "mkdir: cannot create directory ‘d4_shapefiles/127_AM_Peak’: File exists\n",
      "mkdir: cannot create directory ‘d4_shapefiles/127_Midday’: File exists\n",
      "mkdir: cannot create directory ‘d4_shapefiles/127_PM_Peak’: File exists\n"
     ]
    },
    {
     "name": "stdout",
     "output_type": "stream",
     "text": [
      "found parquet\n"
     ]
    },
    {
     "name": "stderr",
     "output_type": "stream",
     "text": [
      "mkdir: cannot create directory ‘d4_shapefiles/294_AM_Peak’: File exists\n",
      "mkdir: cannot create directory ‘d4_shapefiles/294_Midday’: File exists\n",
      "mkdir: cannot create directory ‘d4_shapefiles/294_PM_Peak’: File exists\n"
     ]
    },
    {
     "name": "stdout",
     "output_type": "stream",
     "text": [
      "found parquet\n"
     ]
    },
    {
     "name": "stderr",
     "output_type": "stream",
     "text": [
      "mkdir: cannot create directory ‘d4_shapefiles/290_AM_Peak’: File exists\n"
     ]
    },
    {
     "name": "stdout",
     "output_type": "stream",
     "text": [
      "stop_speeds shape: (0, 18), shape_id: 380099\n",
      "stop speeds gdf is empty!\n",
      "stop_speeds shape: (0, 18), shape_id: 460115\n",
      "stop speeds gdf is empty!\n"
     ]
    },
    {
     "name": "stderr",
     "output_type": "stream",
     "text": [
      "mkdir: cannot create directory ‘d4_shapefiles/290_Midday’: File exists\n",
      "mkdir: cannot create directory ‘d4_shapefiles/290_PM_Peak’: File exists\n"
     ]
    },
    {
     "name": "stdout",
     "output_type": "stream",
     "text": [
      "found parquet\n"
     ]
    },
    {
     "name": "stderr",
     "output_type": "stream",
     "text": [
      "mkdir: cannot create directory ‘d4_shapefiles/61_AM_Peak’: File exists\n",
      "mkdir: cannot create directory ‘d4_shapefiles/61_Midday’: File exists\n",
      "mkdir: cannot create directory ‘d4_shapefiles/61_PM_Peak’: File exists\n"
     ]
    },
    {
     "name": "stdout",
     "output_type": "stream",
     "text": [
      "found parquet\n"
     ]
    },
    {
     "name": "stderr",
     "output_type": "stream",
     "text": [
      "mkdir: cannot create directory ‘d4_shapefiles/301_AM_Peak’: File exists\n",
      "mkdir: cannot create directory ‘d4_shapefiles/301_Midday’: File exists\n",
      "mkdir: cannot create directory ‘d4_shapefiles/301_PM_Peak’: File exists\n"
     ]
    }
   ],
   "source": [
    "for itp_id in d4_ids:\n",
    "    read_output_shapefile(itp_id)"
   ]
  },
  {
   "cell_type": "code",
   "execution_count": 8,
   "id": "546c4859-75e8-4f44-997d-56ef45cce4e1",
   "metadata": {},
   "outputs": [],
   "source": [
    "# itp_id = 290\n",
    "# analysis_date = dt.date(2022, 6, 1)\n",
    "# rt_day = rt_filter_map_plot.from_gcs(itp_id, analysis_date)\n",
    "# rt_day.set_filter(start_time='06:00', end_time='09:00')\n",
    "# os.system(f'mkdir d4_shapefiles/{itp_id}_{rt_day.filter_period}')\n",
    "# _m = rt_day.segment_speed_map()"
   ]
  }
 ],
 "metadata": {
  "kernelspec": {
   "display_name": "Python 3 (ipykernel)",
   "language": "python",
   "name": "python3"
  },
  "language_info": {
   "codemirror_mode": {
    "name": "ipython",
    "version": 3
   },
   "file_extension": ".py",
   "mimetype": "text/x-python",
   "name": "python",
   "nbconvert_exporter": "python",
   "pygments_lexer": "ipython3",
   "version": "3.9.13"
  },
  "widgets": {
   "application/vnd.jupyter.widget-state+json": {
    "state": {},
    "version_major": 2,
    "version_minor": 0
   }
  }
 },
 "nbformat": 4,
 "nbformat_minor": 5
}
