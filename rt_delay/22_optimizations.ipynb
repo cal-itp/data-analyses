{
 "cells": [
  {
   "cell_type": "code",
   "execution_count": 1,
   "id": "f8bd82e9-ce79-43c9-afff-b2af8394f6b4",
   "metadata": {},
   "outputs": [
    {
     "name": "stderr",
     "output_type": "stream",
     "text": [
      "/opt/conda/lib/python3.10/site-packages/geopandas/_compat.py:112: UserWarning: The Shapely GEOS version (3.10.3-CAPI-1.16.1) is incompatible with the GEOS version PyGEOS was compiled with (3.10.1-CAPI-1.16.0). Conversions between both will be slow.\n",
      "  warnings.warn(\n"
     ]
    }
   ],
   "source": [
    "import os\n",
    "os.environ[\"CALITP_BQ_MAX_BYTES\"] = str(1_000_000_000_000) ## 1TB?\n",
    "\n",
    "from calitp.tables import tbl\n",
    "from calitp import query_sql\n",
    "import calitp.magics\n",
    "import branca\n",
    "\n",
    "import shared_utils\n",
    "\n",
    "from siuba import *\n",
    "import pandas as pd\n",
    "import geopandas as gpd\n",
    "import shapely\n",
    "\n",
    "import datetime as dt\n",
    "import time\n",
    "from zoneinfo import ZoneInfo\n",
    "\n",
    "import rt_analysis as rt\n",
    "import importlib\n",
    "\n",
    "import gcsfs\n",
    "fs = gcsfs.GCSFileSystem()\n",
    "\n",
    "from tqdm import tqdm_notebook\n",
    "from tqdm.notebook import trange, tqdm"
   ]
  },
  {
   "cell_type": "code",
   "execution_count": 2,
   "id": "f09a6885-2c64-4652-8aab-cc469ef20aaa",
   "metadata": {},
   "outputs": [],
   "source": [
    "analysis_date = dt.date(2022, 2, 8) ##for exec board (prior run for comparison)\n",
    "itp_id = 300"
   ]
  },
  {
   "cell_type": "code",
   "execution_count": 42,
   "id": "6edc9bd0-e179-4a8d-9933-097c775211e4",
   "metadata": {},
   "outputs": [
    {
     "data": {
      "application/vnd.jupyter.widget-view+json": {
       "model_id": "cb8f270a37ed4ac1a4788b07b6ad3729",
       "version_major": 2,
       "version_minor": 0
      },
      "text/plain": [
       "0it [00:00, ?it/s]"
      ]
     },
     "metadata": {},
     "output_type": "display_data"
    }
   ],
   "source": [
    "pbar = tqdm()"
   ]
  },
  {
   "cell_type": "code",
   "execution_count": 47,
   "id": "c0f18b2b-adf1-4b15-9e2e-34c97241aaaa",
   "metadata": {},
   "outputs": [
    {
     "data": {
      "text/plain": [
       "<module 'rt_analysis' from '/home/jovyan/data-analyses/rt_delay/rt_analysis.py'>"
      ]
     },
     "execution_count": 47,
     "metadata": {},
     "output_type": "execute_result"
    }
   ],
   "source": [
    "importlib.reload(rt)"
   ]
  },
  {
   "cell_type": "code",
   "execution_count": 48,
   "id": "6e072c7a-ac90-4125-a4ad-5a2aae336534",
   "metadata": {},
   "outputs": [
    {
     "name": "stdout",
     "output_type": "stream",
     "text": [
      "found parquet\n",
      "found parquet\n",
      "found parquet\n",
      "found parquet\n",
      "found parquet\n",
      "CPU times: user 3min 6s, sys: 894 ms, total: 3min 7s\n",
      "Wall time: 3min 18s\n"
     ]
    }
   ],
   "source": [
    "%time bbb = rt.OperatorDayAnalysis(itp_id, analysis_date, pbar)"
   ]
  },
  {
   "cell_type": "code",
   "execution_count": null,
   "id": "ad460503-9a3e-475f-b93f-1b30d26b92b4",
   "metadata": {},
   "outputs": [],
   "source": [
    "## old method: 3min49s\n",
    "## new method: 3min18s"
   ]
  },
  {
   "cell_type": "code",
   "execution_count": 39,
   "id": "1b415093-43c0-45c3-80f9-3efef75ced41",
   "metadata": {},
   "outputs": [],
   "source": [
    "bbb.export_views_gcs()"
   ]
  },
  {
   "cell_type": "code",
   "execution_count": 4,
   "id": "31d9fa2c-832f-4dae-bd76-9563a37394b2",
   "metadata": {},
   "outputs": [],
   "source": [
    "interp = bbb.position_interpolators['860682']['rt']"
   ]
  },
  {
   "cell_type": "code",
   "execution_count": 8,
   "id": "9e615b69-e3da-4237-bf3f-5d76784a85cf",
   "metadata": {},
   "outputs": [],
   "source": [
    "test = interp.position_gdf.iloc[60:,:]"
   ]
  },
  {
   "cell_type": "code",
   "execution_count": 9,
   "id": "2d363d28-1075-49ca-a521-67d88e0bf9c8",
   "metadata": {},
   "outputs": [],
   "source": [
    "a = test.shape_meters.to_numpy()"
   ]
  },
  {
   "cell_type": "code",
   "execution_count": 10,
   "id": "1e3a17ff-0f14-4da3-b148-062e2662f32c",
   "metadata": {},
   "outputs": [
    {
     "data": {
      "text/plain": [
       "array([11507.03032107, 11761.01140182, 11927.73109127, 11926.6027973 ,\n",
       "       12932.70205404, 13148.18336111])"
      ]
     },
     "execution_count": 10,
     "metadata": {},
     "output_type": "execute_result"
    }
   ],
   "source": [
    "a"
   ]
  },
  {
   "cell_type": "code",
   "execution_count": 11,
   "id": "9763e01b-aa3d-49d5-ba5b-79f2e7fb191c",
   "metadata": {},
   "outputs": [],
   "source": [
    "import numpy as np"
   ]
  },
  {
   "cell_type": "code",
   "execution_count": 13,
   "id": "aa9b8ec4-46ee-446f-b18c-8807250f9734",
   "metadata": {},
   "outputs": [
    {
     "name": "stdout",
     "output_type": "stream",
     "text": [
      "773 ns ± 142 ns per loop (mean ± std. dev. of 7 runs, 1,000,000 loops each)\n"
     ]
    }
   ],
   "source": [
    "%%timeit\n",
    "np.maximum.accumulate(a)"
   ]
  }
 ],
 "metadata": {
  "kernelspec": {
   "display_name": "Python 3 (ipykernel)",
   "language": "python",
   "name": "python3"
  },
  "language_info": {
   "codemirror_mode": {
    "name": "ipython",
    "version": 3
   },
   "file_extension": ".py",
   "mimetype": "text/x-python",
   "name": "python",
   "nbconvert_exporter": "python",
   "pygments_lexer": "ipython3",
   "version": "3.10.5"
  }
 },
 "nbformat": 4,
 "nbformat_minor": 5
}
