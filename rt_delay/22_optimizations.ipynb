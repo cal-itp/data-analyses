{
 "cells": [
  {
   "cell_type": "code",
   "execution_count": 1,
   "id": "f8bd82e9-ce79-43c9-afff-b2af8394f6b4",
   "metadata": {},
   "outputs": [
    {
     "name": "stderr",
     "output_type": "stream",
     "text": [
      "/opt/conda/lib/python3.10/site-packages/geopandas/_compat.py:111: UserWarning: The Shapely GEOS version (3.10.2-CAPI-1.16.0) is incompatible with the GEOS version PyGEOS was compiled with (3.10.1-CAPI-1.16.0). Conversions between both will be slow.\n",
      "  warnings.warn(\n"
     ]
    }
   ],
   "source": [
    "import os\n",
    "os.environ[\"CALITP_BQ_MAX_BYTES\"] = str(1_000_000_000_000) ## 1TB?\n",
    "\n",
    "from calitp.tables import tbl\n",
    "from calitp import query_sql\n",
    "import calitp.magics\n",
    "import branca\n",
    "\n",
    "import shared_utils\n",
    "\n",
    "from siuba import *\n",
    "import pandas as pd\n",
    "import geopandas as gpd\n",
    "import shapely\n",
    "\n",
    "import datetime as dt\n",
    "import time\n",
    "from zoneinfo import ZoneInfo\n",
    "\n",
    "import rt_analysis as rt\n",
    "import importlib\n",
    "\n",
    "import gcsfs\n",
    "fs = gcsfs.GCSFileSystem()\n",
    "\n",
    "from tqdm import tqdm_notebook\n",
    "from tqdm.notebook import trange, tqdm"
   ]
  },
  {
   "cell_type": "code",
   "execution_count": 2,
   "id": "f09a6885-2c64-4652-8aab-cc469ef20aaa",
   "metadata": {},
   "outputs": [],
   "source": [
    "analysis_date = dt.date(2022, 2, 8) ##for exec board (prior run for comparison)\n",
    "itp_id = 300"
   ]
  },
  {
   "cell_type": "code",
   "execution_count": 3,
   "id": "6e072c7a-ac90-4125-a4ad-5a2aae336534",
   "metadata": {},
   "outputs": [
    {
     "name": "stdout",
     "output_type": "stream",
     "text": [
      "found parquet\n",
      "found parquet\n",
      "found parquet\n",
      "found parquet\n",
      "found parquet\n"
     ]
    }
   ],
   "source": [
    "bbb = rt.OperatorDayAnalysis(itp_id, analysis_date)"
   ]
  },
  {
   "cell_type": "code",
   "execution_count": 16,
   "id": "31d9fa2c-832f-4dae-bd76-9563a37394b2",
   "metadata": {},
   "outputs": [],
   "source": [
    "interp = bbb.position_interpolators['860682']['rt']"
   ]
  },
  {
   "cell_type": "code",
   "execution_count": 17,
   "id": "3a5d108b-088e-444e-8669-8aedc3e13ddf",
   "metadata": {},
   "outputs": [
    {
     "data": {
      "text/plain": [
       "(41, 12)"
      ]
     },
     "execution_count": 17,
     "metadata": {},
     "output_type": "execute_result"
    }
   ],
   "source": [
    "interp.cleaned_positions.shape"
   ]
  },
  {
   "cell_type": "code",
   "execution_count": 18,
   "id": "a1dbbd51-594e-425d-af78-cc36da788d7c",
   "metadata": {},
   "outputs": [
    {
     "data": {
      "text/plain": [
       "(66, 12)"
      ]
     },
     "execution_count": 18,
     "metadata": {},
     "output_type": "execute_result"
    }
   ],
   "source": [
    "interp.position_gdf.shape"
   ]
  },
  {
   "cell_type": "code",
   "execution_count": 19,
   "id": "19ee989f-a78f-42ff-b3b6-5e3df9b649b9",
   "metadata": {},
   "outputs": [],
   "source": [
    "# interp.detailed_speed_map()"
   ]
  },
  {
   "cell_type": "code",
   "execution_count": 23,
   "id": "9e615b69-e3da-4237-bf3f-5d76784a85cf",
   "metadata": {},
   "outputs": [],
   "source": [
    "test = interp.position_gdf.iloc[60:,:]"
   ]
  },
  {
   "cell_type": "code",
   "execution_count": 26,
   "id": "2d363d28-1075-49ca-a521-67d88e0bf9c8",
   "metadata": {},
   "outputs": [],
   "source": [
    "a = test.shape_meters.to_numpy()"
   ]
  },
  {
   "cell_type": "code",
   "execution_count": 27,
   "id": "1e3a17ff-0f14-4da3-b148-062e2662f32c",
   "metadata": {},
   "outputs": [
    {
     "data": {
      "text/plain": [
       "array([11507.03032107, 11761.01140182, 11927.73109127, 11926.6027973 ,\n",
       "       12932.70205404, 13148.18336111])"
      ]
     },
     "execution_count": 27,
     "metadata": {},
     "output_type": "execute_result"
    }
   ],
   "source": [
    "a"
   ]
  },
  {
   "cell_type": "code",
   "execution_count": 28,
   "id": "9763e01b-aa3d-49d5-ba5b-79f2e7fb191c",
   "metadata": {},
   "outputs": [],
   "source": [
    "import numpy as np"
   ]
  },
  {
   "cell_type": "code",
   "execution_count": 31,
   "id": "2a187578-4a39-434e-9948-828abd9ca4d8",
   "metadata": {},
   "outputs": [],
   "source": [
    "from numba import jit"
   ]
  },
  {
   "cell_type": "code",
   "execution_count": 32,
   "id": "aa9b8ec4-46ee-446f-b18c-8807250f9734",
   "metadata": {},
   "outputs": [
    {
     "name": "stdout",
     "output_type": "stream",
     "text": [
      "1.9 µs ± 43.3 ns per loop (mean ± std. dev. of 7 runs, 1,000,000 loops each)\n"
     ]
    }
   ],
   "source": [
    "%%timeit\n",
    "np.maximum.accumulate(a)"
   ]
  },
  {
   "cell_type": "code",
   "execution_count": 35,
   "id": "3947aab2-179d-47a3-b4f4-192764ea88da",
   "metadata": {},
   "outputs": [],
   "source": [
    "@jit(nopython=True)\n",
    "def numba_accumulate(b):\n",
    "    for i in range(1, b.size):\n",
    "        if b[i] < b[i-1]:\n",
    "            b[i] = b[i-1]\n",
    "    return b\n",
    "    # return np.maximum.accumulate(a)"
   ]
  },
  {
   "cell_type": "code",
   "execution_count": 38,
   "id": "33d97253-5328-44ae-8cf4-0d1164f9f099",
   "metadata": {},
   "outputs": [
    {
     "name": "stdout",
     "output_type": "stream",
     "text": [
      "2.41 µs ± 235 ns per loop (mean ± std. dev. of 7 runs, 100,000 loops each)\n"
     ]
    }
   ],
   "source": [
    "%%timeit\n",
    "numba_accumulate(a)"
   ]
  },
  {
   "cell_type": "code",
   "execution_count": 39,
   "id": "8330dc8d-dc63-4f98-85df-afbbf6ef6537",
   "metadata": {},
   "outputs": [
    {
     "data": {
      "text/plain": [
       "array([11507.03032107, 11761.01140182, 11927.73109127, 11927.73109127,\n",
       "       12932.70205404, 13148.18336111])"
      ]
     },
     "execution_count": 39,
     "metadata": {},
     "output_type": "execute_result"
    }
   ],
   "source": [
    "numba_accumulate(a)"
   ]
  },
  {
   "cell_type": "code",
   "execution_count": 40,
   "id": "f8278d42-7e65-4022-bd2d-0f0b461169bb",
   "metadata": {},
   "outputs": [
    {
     "data": {
      "text/plain": [
       "array([11507.03032107, 11761.01140182, 11927.73109127, 11927.73109127,\n",
       "       12932.70205404, 13148.18336111])"
      ]
     },
     "execution_count": 40,
     "metadata": {},
     "output_type": "execute_result"
    }
   ],
   "source": [
    "np.maximum.accumulate(a)"
   ]
  },
  {
   "cell_type": "code",
   "execution_count": 71,
   "id": "c53bac0c-b01e-4e91-bf11-c7aa91316573",
   "metadata": {},
   "outputs": [],
   "source": [
    "#     def _linear_reference(self):\n",
    "        \n",
    "#         self.position_gdf = self._shift_calculate(self.position_gdf)\n",
    "#         self.progressing_positions = self.position_gdf >> filter(_.progressed)\n",
    "#         self.debug_dict['clean_0'] = self.progressing_positions.copy()\n",
    "#         ## check if positions have progressed from immediate previous point, but not previous point of forwards progression\n",
    "#         while not self.progressing_positions.shape_meters.is_monotonic:\n",
    "#             self._position_cleaning_count += 1\n",
    "#             # print(f'check location data for trip {self.trip_id}')\n",
    "#             self.progressing_positions = self._shift_calculate(self.progressing_positions)\n",
    "#             self.progressing_positions = self.progressing_positions >> filter(_.progressed)\n",
    "#             self.debug_dict[f'clean_{self._position_cleaning_count}'] = self.progressing_positions.copy()\n",
    "#         self.cleaned_positions = self.progressing_positions ## for position and map methods in TripPositionInterpolator\n",
    "#         self.cleaned_positions = self.cleaned_positions >> arrange(self.time_col)\n",
    "#         self._shape_array = self.cleaned_positions.shape_meters.to_numpy()\n",
    "#         self._dt_array = (self.cleaned_positions[self.time_col].to_numpy()\n",
    "#                                       .astype('datetime64[s]')\n",
    "#                                       .astype('float64')\n",
    "#                                      )"
   ]
  },
  {
   "cell_type": "code",
   "execution_count": 50,
   "id": "a38a71d1-7a47-4370-9a62-fa627d069341",
   "metadata": {},
   "outputs": [],
   "source": [
    "def lin_ref_experimental(vp_interp):\n",
    "    raw_positions = vp_interp.position_gdf\n",
    "    raw_positions = raw_positions >> arrange(vp_interp.time_col)\n",
    "    raw_position_array = raw_positions.shape_meters.to_numpy()\n",
    "    cast_monotonic = np.maximum.accumulate(raw_position_array)\n",
    "    raw_positions.shape_meters = cast_monotonic\n",
    "    raw_positions = raw_positions.drop_duplicates(subset=['shape_meters'], keep = 'last')\n",
    "    raw_positions['secs_from_last'] = raw_positions[vp_interp.time_col].diff()\n",
    "    raw_positions.secs_from_last = (raw_positions.secs_from_last\n",
    "                                    .apply(lambda x: x.seconds))\n",
    "    raw_positions['meters_from_last'] = raw_positions.shape_meters.diff()\n",
    "    raw_positions['speed_from_last'] = (raw_positions.meters_from_last\n",
    "                                                 / raw_positions.secs_from_last) ## meters/second\n",
    "    vp_interp.cleaned_positions = raw_positions\n",
    "    vp_interp._shape_array = vp_interp.cleaned_positions.shape_meters.to_numpy()\n",
    "    vp_interp._dt_array = (vp_interp.cleaned_positions[vp_interp.time_col].to_numpy()\n",
    "                                      .astype('datetime64[s]')\n",
    "                                      .astype('float64')\n",
    "                                     )\n",
    "    return"
   ]
  },
  {
   "cell_type": "code",
   "execution_count": 72,
   "id": "c7238513-46af-4919-a1fa-09b2045b6b67",
   "metadata": {},
   "outputs": [
    {
     "name": "stdout",
     "output_type": "stream",
     "text": [
      "31.3 ms ± 3.57 ms per loop (mean ± std. dev. of 7 runs, 10 loops each)\n"
     ]
    }
   ],
   "source": [
    "%%timeit\n",
    "interp._linear_reference()"
   ]
  },
  {
   "cell_type": "code",
   "execution_count": 73,
   "id": "9747b83d-919a-45a8-b0af-28a75b979937",
   "metadata": {},
   "outputs": [
    {
     "name": "stdout",
     "output_type": "stream",
     "text": [
      "22.8 ms ± 3.32 ms per loop (mean ± std. dev. of 7 runs, 10 loops each)\n"
     ]
    }
   ],
   "source": [
    "%%timeit\n",
    "lin_ref_experimental(interp)"
   ]
  },
  {
   "cell_type": "code",
   "execution_count": 60,
   "id": "d941fc14-beb6-4c93-b81c-893def7f2ccc",
   "metadata": {},
   "outputs": [
    {
     "data": {
      "text/plain": [
       "(41, 12)"
      ]
     },
     "execution_count": 60,
     "metadata": {},
     "output_type": "execute_result"
    }
   ],
   "source": [
    "new.shape"
   ]
  },
  {
   "cell_type": "code",
   "execution_count": 61,
   "id": "d1859785-8906-491e-81ca-0a7b5759d337",
   "metadata": {},
   "outputs": [
    {
     "data": {
      "text/plain": [
       "(41, 12)"
      ]
     },
     "execution_count": 61,
     "metadata": {},
     "output_type": "execute_result"
    }
   ],
   "source": [
    "old.shape"
   ]
  },
  {
   "cell_type": "code",
   "execution_count": 70,
   "id": "b4e3e7a9-7a27-4202-b633-512d7d656b61",
   "metadata": {},
   "outputs": [
    {
     "data": {
      "text/plain": [
       "0     True\n",
       "1     True\n",
       "2     True\n",
       "3     True\n",
       "4     True\n",
       "5     True\n",
       "6     True\n",
       "7     True\n",
       "8     True\n",
       "9     True\n",
       "10    True\n",
       "11    True\n",
       "12    True\n",
       "13    True\n",
       "14    True\n",
       "15    True\n",
       "16    True\n",
       "17    True\n",
       "18    True\n",
       "19    True\n",
       "20    True\n",
       "21    True\n",
       "22    True\n",
       "23    True\n",
       "24    True\n",
       "25    True\n",
       "26    True\n",
       "27    True\n",
       "28    True\n",
       "29    True\n",
       "30    True\n",
       "31    True\n",
       "32    True\n",
       "33    True\n",
       "34    True\n",
       "35    True\n",
       "36    True\n",
       "37    True\n",
       "38    True\n",
       "39    True\n",
       "40    True\n",
       "Name: shape_meters, dtype: bool"
      ]
     },
     "execution_count": 70,
     "metadata": {},
     "output_type": "execute_result"
    }
   ],
   "source": [
    "new.shape_meters.reset_index(drop=True) == old.shape_meters.reset_index(drop=True)"
   ]
  },
  {
   "cell_type": "code",
   "execution_count": null,
   "id": "bc909027-1c5b-4f1a-95ee-02ad57c043b0",
   "metadata": {},
   "outputs": [],
   "source": []
  }
 ],
 "metadata": {
  "kernelspec": {
   "display_name": "Python 3 (ipykernel)",
   "language": "python",
   "name": "python3"
  },
  "language_info": {
   "codemirror_mode": {
    "name": "ipython",
    "version": 3
   },
   "file_extension": ".py",
   "mimetype": "text/x-python",
   "name": "python",
   "nbconvert_exporter": "python",
   "pygments_lexer": "ipython3",
   "version": "3.10.4"
  }
 },
 "nbformat": 4,
 "nbformat_minor": 5
}
