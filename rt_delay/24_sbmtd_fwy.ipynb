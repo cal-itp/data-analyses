{
 "cells": [
  {
   "cell_type": "code",
   "execution_count": null,
   "id": "46898b5c-b5cc-4096-ab68-8c3e42fab870",
   "metadata": {},
   "outputs": [],
   "source": [
    "%%capture\n",
    "import warnings\n",
    "warnings.filterwarnings('ignore')\n",
    "\n",
    "import os\n",
    "os.environ[\"CALITP_BQ_MAX_BYTES\"] = str(800_000_000_000)\n",
    "import shared_utils\n",
    "\n",
    "from calitp.tables import tbl\n",
    "from calitp import query_sql\n",
    "import calitp.magics\n",
    "\n",
    "from siuba import *\n",
    "import pandas as pd\n",
    "import geopandas as gpd\n",
    "\n",
    "import datetime as dt\n",
    "\n",
    "import importlib\n",
    "import rt_filter_map_plot\n",
    "\n",
    "from IPython.display import display, Markdown, Latex, HTML\n",
    "import json"
   ]
  },
  {
   "cell_type": "code",
   "execution_count": null,
   "id": "9f15ed6a-5ab7-4f57-9695-3f762781b74c",
   "metadata": {
    "tags": [
     "parameters"
    ]
   },
   "outputs": [],
   "source": [
    "## parameters cell\n",
    "itp_id = 293"
   ]
  },
  {
   "cell_type": "code",
   "execution_count": null,
   "id": "6c2e9651-70e4-4403-b43d-da50315ef8fd",
   "metadata": {
    "tags": []
   },
   "outputs": [],
   "source": [
    "airtable_organizations = (\n",
    "    tbl.airtable.california_transit_organizations()\n",
    "    >> select(_.itp_id, _.name, _.caltrans_district,\n",
    "              _.website, _.ntp_id, _.drmt_organization_name)\n",
    "    >> filter(_.itp_id == itp_id)\n",
    "    >> collect()\n",
    ")"
   ]
  },
  {
   "cell_type": "code",
   "execution_count": null,
   "id": "cc9c7000-4042-4f64-b7ef-8e8e5f1e706a",
   "metadata": {},
   "outputs": [],
   "source": [
    "# airtable_organizations"
   ]
  },
  {
   "cell_type": "code",
   "execution_count": null,
   "id": "306a7053-3fab-4723-a287-111e4eba11f2",
   "metadata": {},
   "outputs": [],
   "source": [
    "if itp_id in [61, 301]:\n",
    "    analysis_date = dt.date(2022, 6, 8) ##wednesday, new tables for Napa operators\n",
    "elif itp_id == 273:\n",
    "    analysis_date = dt.date(2022, 2, 8) ## override for SacRT\n",
    "elif itp_id == 208:\n",
    "    analysis_date = dt.date(2022, 7, 20) ## override for MST\n",
    "elif itp_id == 282:\n",
    "    analysis_date = dt.date(2022, 9, 7) ## override for SFMTA\n",
    "else:\n",
    "    analysis_date = dt.date(2022, 6, 1) #rebuild site"
   ]
  },
  {
   "cell_type": "code",
   "execution_count": null,
   "id": "47c79d99-c82f-4e1e-b11e-2b1e83c13a1b",
   "metadata": {},
   "outputs": [],
   "source": [
    "%%capture_parameters\n",
    "human_date = analysis_date.strftime('%B %d (%A)')\n",
    "human_date"
   ]
  },
  {
   "cell_type": "code",
   "execution_count": null,
   "id": "5a8c665b-dfe8-4972-9ad8-5c78e3c58f89",
   "metadata": {},
   "outputs": [],
   "source": [
    "analysis_date = dt.date(2022, 9, 7)"
   ]
  },
  {
   "cell_type": "code",
   "execution_count": null,
   "id": "e4cbefc6-9bbb-4989-85b7-1f31da17fcb8",
   "metadata": {},
   "outputs": [],
   "source": [
    "%%capture\n",
    "rt_day = rt_filter_map_plot.from_gcs(itp_id, analysis_date)"
   ]
  },
  {
   "cell_type": "code",
   "execution_count": null,
   "id": "6c335d40-7a7b-4641-8a3d-c970b2823cdf",
   "metadata": {},
   "outputs": [],
   "source": [
    "%%capture_parameters\n",
    "agency_name = rt_day.calitp_agency_name\n",
    "if itp_id == 61:\n",
    "    district = '04 - Oakland' ## Airtable error for 61\n",
    "else:\n",
    "    district = airtable_organizations.caltrans_district.iloc[0]\n",
    "agency_name, district"
   ]
  },
  {
   "cell_type": "markdown",
   "id": "52110155-d104-4043-8376-3f83e82a959a",
   "metadata": {},
   "source": [
    "# Santa Barbara Metropolitan Transit District"
   ]
  },
  {
   "cell_type": "markdown",
   "id": "7d5572cd-dd67-4e26-b100-a0e7472a4a17",
   "metadata": {
    "tags": []
   },
   "source": [
    "## About These Maps:\n",
    "\n",
    "* Each map shows bus (and rail, if applicable) speeds for Santa Barbara Metropolitan Transit District, with a map each for the morning peak, midday, and afternoon peak periods on June 01 (Wednesday).\n",
    "* On the map, routes are split into segments corresponding to the distance between two stops, allowing you to focus on specific portions of the route experiencing a slowdown.\n",
    "* Route segments are arrow-shaped to indicate direction of travel.\n",
    "* Hover over, or click, a segment with your mouse to see the exact speed, route name, and transit service frequency in that segment. \n",
    "    * Higher-frequency routes (3+ trips per hour) are especially important, since those slowdowns correspond to more vehicles, and riders, delayed in traffic."
   ]
  },
  {
   "cell_type": "code",
   "execution_count": null,
   "id": "679ce74e-9620-4e38-b69a-badb281c9c0b",
   "metadata": {},
   "outputs": [],
   "source": [
    "rt_day.rt_trips.route_short_name.unique()"
   ]
  },
  {
   "cell_type": "code",
   "execution_count": null,
   "id": "1b9debd5-a9e6-4d89-8f11-4e5d32914645",
   "metadata": {},
   "outputs": [],
   "source": [
    "fwy_rts = ['12X', '24X', '15X']"
   ]
  },
  {
   "cell_type": "code",
   "execution_count": null,
   "id": "c97cb252-0fb8-4e3b-9eb8-a6061bc3b0bd",
   "metadata": {},
   "outputs": [],
   "source": [
    "local_rts = [rt for rt in rt_day.rt_trips.route_short_name.unique() if rt not in fwy_rts]"
   ]
  },
  {
   "cell_type": "code",
   "execution_count": null,
   "id": "91b43cef-e321-4462-87d3-9e5d06b2c0c2",
   "metadata": {},
   "outputs": [],
   "source": [
    "import branca\n",
    "TWENTY_65_COLORSCALE = branca.colormap.step.RdYlGn_10.scale(vmin=20, vmax=65)"
   ]
  },
  {
   "cell_type": "markdown",
   "id": "74fce4a9-514f-405d-9ce0-1cb1998a696b",
   "metadata": {},
   "source": [
    "## Morning Peak"
   ]
  },
  {
   "cell_type": "code",
   "execution_count": null,
   "id": "533a64f4-f374-4f2c-94d3-5146ebe7c036",
   "metadata": {},
   "outputs": [],
   "source": [
    "%%capture\n",
    "rt_day.set_filter(start_time='06:00', end_time='09:00', route_names=fwy_rts)"
   ]
  },
  {
   "cell_type": "code",
   "execution_count": null,
   "id": "8e940d3d-c76e-42ba-be8b-739852771ca6",
   "metadata": {},
   "outputs": [],
   "source": [
    "## avoid papermill errors when map fails to render\n",
    "m = None"
   ]
  },
  {
   "cell_type": "code",
   "execution_count": null,
   "id": "2f317120-99ee-435b-96cd-1236b8ee2e0b",
   "metadata": {
    "tags": []
   },
   "outputs": [],
   "source": [
    "%%capture\n",
    "m = rt_day.segment_speed_map(how='low_speeds', colorscale=TWENTY_65_COLORSCALE)"
   ]
  },
  {
   "cell_type": "code",
   "execution_count": null,
   "id": "bede0115-88c4-4881-89e5-3c8bc7c91434",
   "metadata": {},
   "outputs": [],
   "source": [
    "m"
   ]
  },
  {
   "cell_type": "code",
   "execution_count": null,
   "id": "8068a104-4d27-4d69-bb89-1b726cf9e168",
   "metadata": {},
   "outputs": [],
   "source": [
    "%%capture\n",
    "rt_day.set_filter(start_time='06:00', end_time='09:00', route_names=local_rts)"
   ]
  },
  {
   "cell_type": "code",
   "execution_count": null,
   "id": "0c69af7d-8445-42b4-a88a-e7ff3105aafe",
   "metadata": {},
   "outputs": [],
   "source": [
    "%%capture\n",
    "m = rt_day.segment_speed_map(how='low_speeds')"
   ]
  },
  {
   "cell_type": "code",
   "execution_count": null,
   "id": "275087be-b46d-4acb-95fe-2dc98c2089a2",
   "metadata": {
    "tags": []
   },
   "outputs": [],
   "source": [
    "m"
   ]
  },
  {
   "cell_type": "code",
   "execution_count": null,
   "id": "206d9aa8-9f20-4cb0-a467-eecb4fc8466e",
   "metadata": {},
   "outputs": [],
   "source": [
    "rt_day.describe_slow_routes()"
   ]
  },
  {
   "cell_type": "markdown",
   "id": "3d263ba2-49ae-4e02-9d06-3181b03f51ba",
   "metadata": {},
   "source": [
    "## Midday"
   ]
  },
  {
   "cell_type": "code",
   "execution_count": null,
   "id": "f5344e63-89d2-43d6-9783-55a3061c99d2",
   "metadata": {},
   "outputs": [],
   "source": [
    "%%capture\n",
    "rt_day.set_filter(start_time='10:00', end_time='14:00', route_names=fwy_rts)"
   ]
  },
  {
   "cell_type": "code",
   "execution_count": null,
   "id": "ba0d03e4-b68b-434d-8c15-2c646ca517b7",
   "metadata": {},
   "outputs": [],
   "source": [
    "## avoid papermill errors when map fails to render\n",
    "m = None"
   ]
  },
  {
   "cell_type": "code",
   "execution_count": null,
   "id": "a4c40f3c-cf35-45d5-9d87-aa4701bed3aa",
   "metadata": {
    "tags": []
   },
   "outputs": [],
   "source": [
    "%%capture\n",
    "m = rt_day.segment_speed_map(how='low_speeds', colorscale=TWENTY_65_COLORSCALE)"
   ]
  },
  {
   "cell_type": "code",
   "execution_count": null,
   "id": "3224810a-36c3-44f8-9605-6f8f2a9169dd",
   "metadata": {},
   "outputs": [],
   "source": [
    "m"
   ]
  },
  {
   "cell_type": "code",
   "execution_count": null,
   "id": "d3077bef-cde6-472e-a451-5b7b23cf0471",
   "metadata": {},
   "outputs": [],
   "source": [
    "%%capture\n",
    "rt_day.set_filter(start_time='10:00', end_time='14:00', route_names=local_rts)"
   ]
  },
  {
   "cell_type": "code",
   "execution_count": null,
   "id": "d90188ed-30f4-4dc1-9df2-9267a51e4f42",
   "metadata": {},
   "outputs": [],
   "source": [
    "%%capture\n",
    "m = rt_day.segment_speed_map(how='low_speeds')"
   ]
  },
  {
   "cell_type": "code",
   "execution_count": null,
   "id": "a78b7db5-f43f-4bf1-8036-ae972a87fc53",
   "metadata": {
    "tags": []
   },
   "outputs": [],
   "source": [
    "m"
   ]
  },
  {
   "cell_type": "code",
   "execution_count": null,
   "id": "41198fd0-f8a8-4903-b242-27a581387707",
   "metadata": {},
   "outputs": [],
   "source": [
    "rt_day.describe_slow_routes()"
   ]
  },
  {
   "cell_type": "markdown",
   "id": "704f0788-b4a8-497d-b2aa-c7ac6df939f4",
   "metadata": {},
   "source": [
    "## Afternoon Peak"
   ]
  },
  {
   "cell_type": "code",
   "execution_count": null,
   "id": "923f1462-b34a-42d2-a632-c5eb3ac16ac6",
   "metadata": {},
   "outputs": [],
   "source": [
    "%%capture\n",
    "rt_day.set_filter(start_time='15:00', end_time='19:00', route_names=fwy_rts)"
   ]
  },
  {
   "cell_type": "code",
   "execution_count": null,
   "id": "bf3e3142-0ef8-4b92-ad29-fa000cf294d0",
   "metadata": {},
   "outputs": [],
   "source": [
    "## avoid papermill errors when map fails to render\n",
    "m = None"
   ]
  },
  {
   "cell_type": "code",
   "execution_count": null,
   "id": "5e46b095-7bc2-4552-a37b-661d076b2b51",
   "metadata": {
    "tags": []
   },
   "outputs": [],
   "source": [
    "%%capture\n",
    "m = rt_day.segment_speed_map(how='low_speeds', colorscale=TWENTY_65_COLORSCALE)"
   ]
  },
  {
   "cell_type": "code",
   "execution_count": null,
   "id": "438516d2-8d07-41e3-808d-205b6996493e",
   "metadata": {},
   "outputs": [],
   "source": [
    "m"
   ]
  },
  {
   "cell_type": "code",
   "execution_count": null,
   "id": "05199623-7792-452c-b8d3-a8f2f94f7d8a",
   "metadata": {},
   "outputs": [],
   "source": [
    "%%capture\n",
    "rt_day.set_filter(start_time='15:00', end_time='19:00', route_names=local_rts)"
   ]
  },
  {
   "cell_type": "code",
   "execution_count": null,
   "id": "7d7d8c3c-f5e2-4718-8fbd-f3ca2c8da947",
   "metadata": {},
   "outputs": [],
   "source": [
    "%%capture\n",
    "m = rt_day.segment_speed_map(how='low_speeds')"
   ]
  },
  {
   "cell_type": "code",
   "execution_count": null,
   "id": "0393f107-e9fe-4982-961a-032f7bf4e0eb",
   "metadata": {},
   "outputs": [],
   "source": [
    "m"
   ]
  },
  {
   "cell_type": "code",
   "execution_count": null,
   "id": "c59cf5e3-ea49-4250-867b-d8f651a94fb8",
   "metadata": {},
   "outputs": [],
   "source": [
    "rt_day.describe_slow_routes()"
   ]
  }
 ],
 "metadata": {
  "kernelspec": {
   "display_name": "Python 3 (ipykernel)",
   "language": "python",
   "name": "python3"
  },
  "language_info": {
   "codemirror_mode": {
    "name": "ipython",
    "version": 3
   },
   "file_extension": ".py",
   "mimetype": "text/x-python",
   "name": "python",
   "nbconvert_exporter": "python",
   "pygments_lexer": "ipython3",
   "version": "3.10.5"
  }
 },
 "nbformat": 4,
 "nbformat_minor": 5
}
