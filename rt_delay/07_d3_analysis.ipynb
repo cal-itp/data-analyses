{
 "cells": [
  {
   "cell_type": "code",
   "execution_count": 1,
   "id": "ea8c277e-ea39-413d-9fab-76c75a13395d",
   "metadata": {},
   "outputs": [
    {
     "name": "stderr",
     "output_type": "stream",
     "text": [
      "/opt/conda/lib/python3.9/site-packages/geopandas/_compat.py:111: UserWarning: The Shapely GEOS version (3.9.1-CAPI-1.14.2) is incompatible with the GEOS version PyGEOS was compiled with (3.10.1-CAPI-1.16.0). Conversions between both will be slow.\n",
      "  warnings.warn(\n"
     ]
    }
   ],
   "source": [
    "import os\n",
    "os.environ[\"CALITP_BQ_MAX_BYTES\"] = str(100_000_000_000)\n",
    "\n",
    "from calitp.tables import tbl\n",
    "from calitp import query_sql\n",
    "import calitp.magics\n",
    "import branca\n",
    "\n",
    "import shared_utils\n",
    "import utils\n",
    "\n",
    "from siuba import *\n",
    "import pandas as pd\n",
    "import geopandas as gpd\n",
    "import shapely\n",
    "\n",
    "import datetime as dt\n",
    "import time\n",
    "from zoneinfo import ZoneInfo\n",
    "\n",
    "import rt_analysis as rt\n",
    "import importlib\n",
    "\n",
    "import gcsfs\n",
    "fs = gcsfs.GCSFileSystem()\n",
    "\n",
    "from tqdm import tqdm_notebook\n",
    "from tqdm.notebook import trange, tqdm"
   ]
  },
  {
   "cell_type": "code",
   "execution_count": 2,
   "id": "092a5f2d-2dd8-4640-8339-7412bba547dc",
   "metadata": {},
   "outputs": [
    {
     "data": {
      "text/plain": [
       "<module 'rt_analysis' from '/home/jovyan/data-analyses/rt_delay/rt_analysis.py'>"
      ]
     },
     "execution_count": 2,
     "metadata": {},
     "output_type": "execute_result"
    }
   ],
   "source": [
    "importlib.reload(utils)\n",
    "importlib.reload(rt)"
   ]
  },
  {
   "cell_type": "code",
   "execution_count": 3,
   "id": "a8e71dfa-d364-4c5a-87e6-35385400a53b",
   "metadata": {},
   "outputs": [],
   "source": [
    "sac_rt_itp_id = 273"
   ]
  },
  {
   "cell_type": "code",
   "execution_count": 4,
   "id": "7bed60b0-2b0a-49a1-bd40-095bdec5a51a",
   "metadata": {},
   "outputs": [],
   "source": [
    "analysis_date = dt.date(2022, 2, 8)"
   ]
  },
  {
   "cell_type": "code",
   "execution_count": 5,
   "id": "4456d15c-e819-4125-ac92-92cbb72e3167",
   "metadata": {},
   "outputs": [
    {
     "data": {
      "application/vnd.jupyter.widget-view+json": {
       "model_id": "d817b6622dd44420a7a794249b6b1978",
       "version_major": 2,
       "version_minor": 0
      },
      "text/plain": [
       "0it [00:00, ?it/s]"
      ]
     },
     "metadata": {},
     "output_type": "display_data"
    }
   ],
   "source": [
    "pbar = tqdm()"
   ]
  },
  {
   "cell_type": "code",
   "execution_count": 6,
   "id": "bc6114da-2af4-49ac-9f18-9cd1321715d4",
   "metadata": {
    "tags": []
   },
   "outputs": [
    {
     "name": "stdout",
     "output_type": "stream",
     "text": [
      "found parquet\n",
      "found parquet\n",
      "found parquet\n",
      "found parquet\n",
      "found_parquet\n",
      "less than 1km of data\n",
      "less than 1km of data\n",
      "less than 1km of data\n",
      "less than 1km of data\n",
      "less than 1km of data\n",
      "less than 1km of data\n",
      "less than 1km of data\n",
      "less than 1km of data\n",
      "less than 1km of data\n",
      "less than 1km of data\n",
      "less than 1km of data\n",
      "less than 1km of data\n",
      "less than 1km of data\n",
      "less than 1km of data\n",
      "less than 1km of data\n",
      "less than 1km of data\n",
      "less than 1km of data\n",
      "less than 1km of data\n",
      "less than 1km of data\n",
      "less than 1km of data\n",
      "less than 1km of data\n",
      "less than 1km of data\n",
      "less than 1km of data\n",
      "less than 1km of data\n",
      "less than 1km of data\n",
      "less than 1km of data\n",
      "less than 1km of data\n",
      "less than 1km of data\n",
      "could not generate delays for trip 991293\n",
      "Columns must be same length as key\n",
      "could not generate delays for trip 993942\n",
      "Columns must be same length as key\n"
     ]
    },
    {
     "name": "stderr",
     "output_type": "stream",
     "text": [
      "/opt/conda/lib/python3.9/site-packages/siuba/sql/utils.py:52: SAWarning: Dialect bigquery:bigquery will not make use of SQL compilation caching as it does not set the 'supports_statement_cache' attribute to ``True``.  This can have significant performance implications including some performance degradations in comparison to prior SQLAlchemy versions.  Dialect maintainers should seek to set this attribute to True after appropriate development and testing for SQLAlchemy 1.4 caching support.   Alternatively, this attribute may be set to False which will disable this warning. (Background on this error at: https://sqlalche.me/e/14/cprf)\n"
     ]
    }
   ],
   "source": [
    "sac_rt = rt.OperatorDayAnalysis(sac_rt_itp_id, analysis_date, pbar)"
   ]
  },
  {
   "cell_type": "code",
   "execution_count": 7,
   "id": "d695141f-0d6a-4858-bcf1-310f55bd63b5",
   "metadata": {},
   "outputs": [
    {
     "name": "stdout",
     "output_type": "stream",
     "text": [
      "{'start_time': datetime.time(15, 0), 'end_time': datetime.time(19, 0), 'route_ids': None, 'direction_id': None, 'direction': None}\n"
     ]
    }
   ],
   "source": [
    "sac_rt.set_filter(start_time='15:00', end_time='19:00')"
   ]
  },
  {
   "cell_type": "code",
   "execution_count": 8,
   "id": "4dd8a1a2-2e53-411f-8065-9da7be32652b",
   "metadata": {
    "tags": []
   },
   "outputs": [
    {
     "name": "stdout",
     "output_type": "stream",
     "text": [
      "view filter: {'start_time': datetime.time(15, 0), 'end_time': datetime.time(19, 0), 'route_ids': None, 'direction_id': None, 'direction': None}\n",
      "speed above 80 for shape 41007, dropping\n",
      "negative speed for shape 40808, dropping\n",
      "speed above 80 for shape 40844, dropping\n",
      "negative speed for shape 40844, dropping\n",
      "speed above 80 for shape 40853, dropping\n"
     ]
    },
    {
     "name": "stderr",
     "output_type": "stream",
     "text": [
      "TopologyException: assigned depths do not match at -121992.84082232323 62752.425028798818\n",
      "/opt/conda/lib/python3.9/site-packages/shapely/ops.py:634: ShapelyDeprecationWarning: GeometryTypeError will derive from ShapelyError and not TypeError or ValueError in Shapely 2.0.\n",
      "/home/jovyan/data-analyses/rt_delay/rt_analysis.py:572: UserWarning: Geometry is in a geographic CRS. Results from 'centroid' are likely incorrect. Use 'GeoSeries.to_crs()' to re-project geometries to a projected CRS before this operation.\n",
      "\n"
     ]
    }
   ],
   "source": [
    "m = rt.OperatorDayAnalysis.segment_speed_map(sac_rt)"
   ]
  },
  {
   "cell_type": "code",
   "execution_count": 20,
   "id": "3c8fd3b9-98e3-4fe8-b5cc-ac6692b4e345",
   "metadata": {},
   "outputs": [
    {
     "data": {
      "text/plain": [
       "0.76796875"
      ]
     },
     "execution_count": 20,
     "metadata": {},
     "output_type": "execute_result"
    }
   ],
   "source": [
    "sac_rt.scheduled_trip_rt_coverage"
   ]
  },
  {
   "cell_type": "code",
   "execution_count": 22,
   "id": "75ac1029-78de-4768-bcff-b7f412728003",
   "metadata": {
    "tags": []
   },
   "outputs": [],
   "source": [
    "# m"
   ]
  },
  {
   "cell_type": "code",
   "execution_count": 10,
   "id": "5b5e6b71-411d-4a50-a96e-b4047c7e843e",
   "metadata": {},
   "outputs": [],
   "source": [
    "sac_rt.stop_segment_speed_view = sac_rt.stop_segment_speed_view >> arrange(_.trips_per_hour)"
   ]
  },
  {
   "cell_type": "code",
   "execution_count": 11,
   "id": "50699741-dad3-4a5a-953e-4f29cf43f311",
   "metadata": {},
   "outputs": [],
   "source": [
    "# rt.OperatorDayAnalysis._show_speed_map(sac_rt, how='low_speeds', colorscale = utils.ZERO_THIRTY_COLORSCALE, size = [900, 550])"
   ]
  },
  {
   "cell_type": "code",
   "execution_count": 12,
   "id": "b042065e-2923-4008-a35c-b910d59b8fb7",
   "metadata": {},
   "outputs": [],
   "source": [
    "florin1 = sac_rt.position_interpolators['992810']['rt']\n",
    "# florin1.detailed_speed_map()"
   ]
  },
  {
   "cell_type": "code",
   "execution_count": 38,
   "id": "8988c597-6f14-4e17-b255-05ef73bbb060",
   "metadata": {},
   "outputs": [
    {
     "name": "stderr",
     "output_type": "stream",
     "text": [
      "/opt/conda/lib/python3.9/site-packages/shapely/ops.py:634: ShapelyDeprecationWarning: GeometryTypeError will derive from ShapelyError and not TypeError or ValueError in Shapely 2.0.\n",
      "/home/jovyan/data-analyses/rt_delay/rt_analysis.py:109: UserWarning: Geometry is in a geographic CRS. Results from 'centroid' are likely incorrect. Use 'GeoSeries.to_crs()' to re-project geometries to a projected CRS before this operation.\n",
      "\n"
     ]
    }
   ],
   "source": [
    "florin2 = sac_rt.position_interpolators['992849']['rt']\n",
    "m = florin2.detailed_speed_map()"
   ]
  },
  {
   "cell_type": "code",
   "execution_count": 39,
   "id": "02f3120b-fe0c-4440-be25-0fbabc2ce6b0",
   "metadata": {},
   "outputs": [],
   "source": [
    "m.save('./tripmaps/273_rt_081_tr_992849.html')"
   ]
  },
  {
   "cell_type": "code",
   "execution_count": 14,
   "id": "ac44c8f3-8418-4eca-b00b-e0a57068791b",
   "metadata": {},
   "outputs": [],
   "source": [
    "sac_rt.rt_trips = sac_rt.rt_trips >> inner_join(_, sac_rt.endpoint_delay_view >> select(_.trip_id, _.endpoint_delay == _.delay,\n",
    "                                                                      _.arrival_hour)\n",
    "                              , on = 'trip_id')"
   ]
  },
  {
   "cell_type": "code",
   "execution_count": 15,
   "id": "1df839d4-5020-4850-8a44-40fe34139526",
   "metadata": {},
   "outputs": [
    {
     "data": {
      "text/html": [
       "<div>\n",
       "<style scoped>\n",
       "    .dataframe tbody tr th:only-of-type {\n",
       "        vertical-align: middle;\n",
       "    }\n",
       "\n",
       "    .dataframe tbody tr th {\n",
       "        vertical-align: top;\n",
       "    }\n",
       "\n",
       "    .dataframe thead th {\n",
       "        text-align: right;\n",
       "    }\n",
       "</style>\n",
       "<table border=\"1\" class=\"dataframe\">\n",
       "  <thead>\n",
       "    <tr style=\"text-align: right;\">\n",
       "      <th></th>\n",
       "      <th>calitp_itp_id</th>\n",
       "      <th>calitp_url_number</th>\n",
       "      <th>service_date</th>\n",
       "      <th>trip_key</th>\n",
       "      <th>trip_id</th>\n",
       "      <th>route_id</th>\n",
       "      <th>direction_id</th>\n",
       "      <th>shape_id</th>\n",
       "      <th>calitp_extracted_at</th>\n",
       "      <th>calitp_deleted_at</th>\n",
       "      <th>median_time</th>\n",
       "      <th>direction</th>\n",
       "      <th>mean_speed_mph</th>\n",
       "      <th>endpoint_delay</th>\n",
       "      <th>arrival_hour</th>\n",
       "    </tr>\n",
       "  </thead>\n",
       "  <tbody>\n",
       "    <tr>\n",
       "      <th>1217</th>\n",
       "      <td>273</td>\n",
       "      <td>0</td>\n",
       "      <td>2022-02-08</td>\n",
       "      <td>7604500401212340186</td>\n",
       "      <td>991485</td>\n",
       "      <td>051</td>\n",
       "      <td>0</td>\n",
       "      <td>40770</td>\n",
       "      <td>2021-12-17</td>\n",
       "      <td>2099-01-01</td>\n",
       "      <td>06:33:00</td>\n",
       "      <td>Northbound</td>\n",
       "      <td>11.435978</td>\n",
       "      <td>0 days 00:52:07.711814</td>\n",
       "      <td>6</td>\n",
       "    </tr>\n",
       "    <tr>\n",
       "      <th>1543</th>\n",
       "      <td>273</td>\n",
       "      <td>0</td>\n",
       "      <td>2022-02-08</td>\n",
       "      <td>-6338363960220385199</td>\n",
       "      <td>993897</td>\n",
       "      <td>138</td>\n",
       "      <td>0</td>\n",
       "      <td>40847</td>\n",
       "      <td>2021-12-17</td>\n",
       "      <td>2099-01-01</td>\n",
       "      <td>07:04:30</td>\n",
       "      <td>Westbound</td>\n",
       "      <td>24.915089</td>\n",
       "      <td>0 days 00:40:00.024699</td>\n",
       "      <td>6</td>\n",
       "    </tr>\n",
       "    <tr>\n",
       "      <th>553</th>\n",
       "      <td>273</td>\n",
       "      <td>0</td>\n",
       "      <td>2022-02-08</td>\n",
       "      <td>-2947005468291523101</td>\n",
       "      <td>990964</td>\n",
       "      <td>026</td>\n",
       "      <td>0</td>\n",
       "      <td>40760</td>\n",
       "      <td>2021-12-17</td>\n",
       "      <td>2099-01-01</td>\n",
       "      <td>17:08:00</td>\n",
       "      <td>Southbound</td>\n",
       "      <td>9.578548</td>\n",
       "      <td>0 days 00:23:58.102561</td>\n",
       "      <td>17</td>\n",
       "    </tr>\n",
       "    <tr>\n",
       "      <th>590</th>\n",
       "      <td>273</td>\n",
       "      <td>0</td>\n",
       "      <td>2022-02-08</td>\n",
       "      <td>2613461417951518281</td>\n",
       "      <td>993889</td>\n",
       "      <td>138</td>\n",
       "      <td>0</td>\n",
       "      <td>40847</td>\n",
       "      <td>2021-12-17</td>\n",
       "      <td>2099-01-01</td>\n",
       "      <td>09:56:30</td>\n",
       "      <td>Westbound</td>\n",
       "      <td>58.745901</td>\n",
       "      <td>0 days 00:23:16.722503</td>\n",
       "      <td>9</td>\n",
       "    </tr>\n",
       "    <tr>\n",
       "      <th>823</th>\n",
       "      <td>273</td>\n",
       "      <td>0</td>\n",
       "      <td>2022-02-08</td>\n",
       "      <td>-8356190538517605376</td>\n",
       "      <td>993905</td>\n",
       "      <td>138</td>\n",
       "      <td>1</td>\n",
       "      <td>40853</td>\n",
       "      <td>2021-12-17</td>\n",
       "      <td>2099-01-01</td>\n",
       "      <td>07:47:30</td>\n",
       "      <td>Eastbound</td>\n",
       "      <td>44.161993</td>\n",
       "      <td>0 days 00:22:26.521702</td>\n",
       "      <td>7</td>\n",
       "    </tr>\n",
       "    <tr>\n",
       "      <th>...</th>\n",
       "      <td>...</td>\n",
       "      <td>...</td>\n",
       "      <td>...</td>\n",
       "      <td>...</td>\n",
       "      <td>...</td>\n",
       "      <td>...</td>\n",
       "      <td>...</td>\n",
       "      <td>...</td>\n",
       "      <td>...</td>\n",
       "      <td>...</td>\n",
       "      <td>...</td>\n",
       "      <td>...</td>\n",
       "      <td>...</td>\n",
       "      <td>...</td>\n",
       "      <td>...</td>\n",
       "    </tr>\n",
       "    <tr>\n",
       "      <th>1926</th>\n",
       "      <td>273</td>\n",
       "      <td>0</td>\n",
       "      <td>2022-02-08</td>\n",
       "      <td>4434607073140252276</td>\n",
       "      <td>992219</td>\n",
       "      <td>067</td>\n",
       "      <td>1</td>\n",
       "      <td>40786</td>\n",
       "      <td>2021-12-17</td>\n",
       "      <td>2099-01-01</td>\n",
       "      <td>11:19:00</td>\n",
       "      <td>Southbound</td>\n",
       "      <td>15.688883</td>\n",
       "      <td>0 days 00:00:00</td>\n",
       "      <td>11</td>\n",
       "    </tr>\n",
       "    <tr>\n",
       "      <th>1927</th>\n",
       "      <td>273</td>\n",
       "      <td>0</td>\n",
       "      <td>2022-02-08</td>\n",
       "      <td>2395426288088610260</td>\n",
       "      <td>989934</td>\n",
       "      <td>011</td>\n",
       "      <td>1</td>\n",
       "      <td>40739</td>\n",
       "      <td>2021-12-17</td>\n",
       "      <td>2099-01-01</td>\n",
       "      <td>15:47:00</td>\n",
       "      <td>Northbound</td>\n",
       "      <td>13.537608</td>\n",
       "      <td>0 days 00:00:00</td>\n",
       "      <td>16</td>\n",
       "    </tr>\n",
       "    <tr>\n",
       "      <th>1928</th>\n",
       "      <td>273</td>\n",
       "      <td>0</td>\n",
       "      <td>2022-02-08</td>\n",
       "      <td>3206225287228501872</td>\n",
       "      <td>989935</td>\n",
       "      <td>011</td>\n",
       "      <td>1</td>\n",
       "      <td>40739</td>\n",
       "      <td>2021-12-17</td>\n",
       "      <td>2099-01-01</td>\n",
       "      <td>15:23:00</td>\n",
       "      <td>Northbound</td>\n",
       "      <td>13.754458</td>\n",
       "      <td>0 days 00:00:00</td>\n",
       "      <td>15</td>\n",
       "    </tr>\n",
       "    <tr>\n",
       "      <th>1929</th>\n",
       "      <td>273</td>\n",
       "      <td>0</td>\n",
       "      <td>2022-02-08</td>\n",
       "      <td>2754952228455939726</td>\n",
       "      <td>990597</td>\n",
       "      <td>021</td>\n",
       "      <td>1</td>\n",
       "      <td>40752</td>\n",
       "      <td>2021-12-17</td>\n",
       "      <td>2099-01-01</td>\n",
       "      <td>20:57:30</td>\n",
       "      <td>Northbound</td>\n",
       "      <td>19.954131</td>\n",
       "      <td>0 days 00:00:00</td>\n",
       "      <td>21</td>\n",
       "    </tr>\n",
       "    <tr>\n",
       "      <th>1930</th>\n",
       "      <td>273</td>\n",
       "      <td>0</td>\n",
       "      <td>2022-02-08</td>\n",
       "      <td>4310712918135180411</td>\n",
       "      <td>992487</td>\n",
       "      <td>072</td>\n",
       "      <td>1</td>\n",
       "      <td>40795</td>\n",
       "      <td>2021-12-17</td>\n",
       "      <td>2099-01-01</td>\n",
       "      <td>12:57:30</td>\n",
       "      <td>Eastbound</td>\n",
       "      <td>16.182746</td>\n",
       "      <td>0 days 00:00:00</td>\n",
       "      <td>13</td>\n",
       "    </tr>\n",
       "  </tbody>\n",
       "</table>\n",
       "<p>1936 rows × 15 columns</p>\n",
       "</div>"
      ],
      "text/plain": [
       "      calitp_itp_id  calitp_url_number service_date             trip_key  \\\n",
       "1217            273                  0   2022-02-08  7604500401212340186   \n",
       "1543            273                  0   2022-02-08 -6338363960220385199   \n",
       "553             273                  0   2022-02-08 -2947005468291523101   \n",
       "590             273                  0   2022-02-08  2613461417951518281   \n",
       "823             273                  0   2022-02-08 -8356190538517605376   \n",
       "...             ...                ...          ...                  ...   \n",
       "1926            273                  0   2022-02-08  4434607073140252276   \n",
       "1927            273                  0   2022-02-08  2395426288088610260   \n",
       "1928            273                  0   2022-02-08  3206225287228501872   \n",
       "1929            273                  0   2022-02-08  2754952228455939726   \n",
       "1930            273                  0   2022-02-08  4310712918135180411   \n",
       "\n",
       "     trip_id route_id direction_id shape_id calitp_extracted_at  \\\n",
       "1217  991485      051            0    40770          2021-12-17   \n",
       "1543  993897      138            0    40847          2021-12-17   \n",
       "553   990964      026            0    40760          2021-12-17   \n",
       "590   993889      138            0    40847          2021-12-17   \n",
       "823   993905      138            1    40853          2021-12-17   \n",
       "...      ...      ...          ...      ...                 ...   \n",
       "1926  992219      067            1    40786          2021-12-17   \n",
       "1927  989934      011            1    40739          2021-12-17   \n",
       "1928  989935      011            1    40739          2021-12-17   \n",
       "1929  990597      021            1    40752          2021-12-17   \n",
       "1930  992487      072            1    40795          2021-12-17   \n",
       "\n",
       "     calitp_deleted_at median_time   direction  mean_speed_mph  \\\n",
       "1217        2099-01-01    06:33:00  Northbound       11.435978   \n",
       "1543        2099-01-01    07:04:30   Westbound       24.915089   \n",
       "553         2099-01-01    17:08:00  Southbound        9.578548   \n",
       "590         2099-01-01    09:56:30   Westbound       58.745901   \n",
       "823         2099-01-01    07:47:30   Eastbound       44.161993   \n",
       "...                ...         ...         ...             ...   \n",
       "1926        2099-01-01    11:19:00  Southbound       15.688883   \n",
       "1927        2099-01-01    15:47:00  Northbound       13.537608   \n",
       "1928        2099-01-01    15:23:00  Northbound       13.754458   \n",
       "1929        2099-01-01    20:57:30  Northbound       19.954131   \n",
       "1930        2099-01-01    12:57:30   Eastbound       16.182746   \n",
       "\n",
       "             endpoint_delay  arrival_hour  \n",
       "1217 0 days 00:52:07.711814             6  \n",
       "1543 0 days 00:40:00.024699             6  \n",
       "553  0 days 00:23:58.102561            17  \n",
       "590  0 days 00:23:16.722503             9  \n",
       "823  0 days 00:22:26.521702             7  \n",
       "...                     ...           ...  \n",
       "1926        0 days 00:00:00            11  \n",
       "1927        0 days 00:00:00            16  \n",
       "1928        0 days 00:00:00            15  \n",
       "1929        0 days 00:00:00            21  \n",
       "1930        0 days 00:00:00            13  \n",
       "\n",
       "[1936 rows x 15 columns]"
      ]
     },
     "execution_count": 15,
     "metadata": {},
     "output_type": "execute_result"
    }
   ],
   "source": [
    "sac_rt.rt_trips >> arrange(-_.endpoint_delay)"
   ]
  },
  {
   "cell_type": "code",
   "execution_count": 16,
   "id": "84377f24-564d-4e1a-b289-273e214a67a2",
   "metadata": {},
   "outputs": [],
   "source": [
    "## awesome example here\n",
    "fwy_slow = sac_rt.position_interpolators['990964']['rt']"
   ]
  },
  {
   "cell_type": "code",
   "execution_count": 36,
   "id": "c55a83c7-e6dc-4c6d-aa3d-136343bf4b6b",
   "metadata": {},
   "outputs": [],
   "source": [
    "# fwy_slow.detailed_speed_map()"
   ]
  },
  {
   "cell_type": "code",
   "execution_count": 50,
   "id": "51bd2fa5-3c63-4def-bf2e-74f66ae43f80",
   "metadata": {},
   "outputs": [
    {
     "name": "stdout",
     "output_type": "stream",
     "text": [
      "{'start_time': datetime.time(6, 0), 'end_time': datetime.time(22, 0), 'route_ids': ['081'], 'direction_id': '1', 'direction': None}\n",
      "view filter: {'start_time': datetime.time(6, 0), 'end_time': datetime.time(22, 0), 'route_ids': ['081'], 'direction_id': '1', 'direction': None}\n"
     ]
    },
    {
     "data": {
      "image/png": "[encoded data removed]",
      "text/plain": [
       "<Figure size 432x288 with 1 Axes>"
      ]
     },
     "metadata": {
      "needs_background": "light"
     },
     "output_type": "display_data"
    }
   ],
   "source": [
    "sac_rt.reset_filter()\n",
    "sac_rt.set_filter(start_time='06:00', end_time='22:00', route_ids=['081'], direction_id='1')\n",
    "chart = sac_rt.chart_delays()"
   ]
  },
  {
   "cell_type": "code",
   "execution_count": 51,
   "id": "8d59f4a8-6946-42ff-adf5-c56583900ae2",
   "metadata": {},
   "outputs": [],
   "source": [
    "chart.savefig('./rt.png', bbox_inches='tight')"
   ]
  },
  {
   "cell_type": "code",
   "execution_count": 26,
   "id": "3aa3c2d2-09e7-47f9-a44f-2234870868b3",
   "metadata": {},
   "outputs": [
    {
     "name": "stdout",
     "output_type": "stream",
     "text": [
      "negative speed for shape 40808, dropping\n",
      "negative speed for shape 40896, dropping\n",
      "negative speed for shape 40895, dropping\n",
      "speed above 80 for shape 40844, dropping\n",
      "negative speed for shape 40844, dropping\n",
      "negative speed for shape 40843, dropping\n",
      "speed above 80 for shape 40853, dropping\n"
     ]
    },
    {
     "name": "stderr",
     "output_type": "stream",
     "text": [
      "TopologyException: assigned depths do not match at -129275.25014734207 59157.859164427187\n",
      "TopologyException: assigned depths do not match at -129275.25014734207 59157.859164427187\n",
      "TopologyException: assigned depths do not match at -121992.84082232323 62752.425028798818\n",
      "/opt/conda/lib/python3.9/site-packages/shapely/ops.py:634: ShapelyDeprecationWarning: GeometryTypeError will derive from ShapelyError and not TypeError or ValueError in Shapely 2.0.\n",
      "/home/jovyan/data-analyses/rt_delay/rt_analysis.py:572: UserWarning: Geometry is in a geographic CRS. Results from 'centroid' are likely incorrect. Use 'GeoSeries.to_crs()' to re-project geometries to a projected CRS before this operation.\n",
      "\n"
     ]
    }
   ],
   "source": [
    "m = sac_rt.segment_speed_map()"
   ]
  },
  {
   "cell_type": "code",
   "execution_count": 42,
   "id": "cc4426e3-0615-4f81-ae20-5b2b77172898",
   "metadata": {},
   "outputs": [
    {
     "data": {
      "text/plain": [
       "15.163494924867663"
      ]
     },
     "execution_count": 42,
     "metadata": {},
     "output_type": "execute_result"
    }
   ],
   "source": [
    "sac_rt.rt_trips.mean_speed_mph.median()"
   ]
  },
  {
   "cell_type": "code",
   "execution_count": null,
   "id": "ad0828f7-b04a-4275-9ac9-f3ac757944d5",
   "metadata": {},
   "outputs": [],
   "source": []
  }
 ],
 "metadata": {
  "kernelspec": {
   "display_name": "Python 3 (ipykernel)",
   "language": "python",
   "name": "python3"
  },
  "language_info": {
   "codemirror_mode": {
    "name": "ipython",
    "version": 3
   },
   "file_extension": ".py",
   "mimetype": "text/x-python",
   "name": "python",
   "nbconvert_exporter": "python",
   "pygments_lexer": "ipython3",
   "version": "3.9.7"
  }
 },
 "nbformat": 4,
 "nbformat_minor": 5
}
