{
 "cells": [
  {
   "cell_type": "code",
   "execution_count": 1,
   "id": "ea8c277e-ea39-413d-9fab-76c75a13395d",
   "metadata": {},
   "outputs": [
    {
     "name": "stderr",
     "output_type": "stream",
     "text": [
      "/opt/conda/lib/python3.9/site-packages/geopandas/_compat.py:111: UserWarning: The Shapely GEOS version (3.9.1-CAPI-1.14.2) is incompatible with the GEOS version PyGEOS was compiled with (3.10.1-CAPI-1.16.0). Conversions between both will be slow.\n",
      "  warnings.warn(\n"
     ]
    }
   ],
   "source": [
    "import os\n",
    "os.environ[\"CALITP_BQ_MAX_BYTES\"] = str(100_000_000_000)\n",
    "\n",
    "from calitp.tables import tbl\n",
    "from calitp import query_sql\n",
    "import calitp.magics\n",
    "import branca\n",
    "\n",
    "import shared_utils\n",
    "import utils\n",
    "\n",
    "from siuba import *\n",
    "import pandas as pd\n",
    "import geopandas as gpd\n",
    "import shapely\n",
    "\n",
    "import datetime as dt\n",
    "import time\n",
    "from zoneinfo import ZoneInfo\n",
    "\n",
    "import rt_analysis as rt\n",
    "import importlib\n",
    "\n",
    "import gcsfs\n",
    "fs = gcsfs.GCSFileSystem()\n",
    "\n",
    "from tqdm import tqdm_notebook\n",
    "from tqdm.notebook import trange, tqdm"
   ]
  },
  {
   "cell_type": "code",
   "execution_count": 2,
   "id": "092a5f2d-2dd8-4640-8339-7412bba547dc",
   "metadata": {},
   "outputs": [
    {
     "data": {
      "text/plain": [
       "<module 'rt_analysis' from '/home/jovyan/data-analyses/rt_delay/rt_analysis.py'>"
      ]
     },
     "execution_count": 2,
     "metadata": {},
     "output_type": "execute_result"
    }
   ],
   "source": [
    "importlib.reload(utils)\n",
    "importlib.reload(rt)"
   ]
  },
  {
   "cell_type": "code",
   "execution_count": 3,
   "id": "a8e71dfa-d364-4c5a-87e6-35385400a53b",
   "metadata": {},
   "outputs": [],
   "source": [
    "sac_rt_itp_id = 273"
   ]
  },
  {
   "cell_type": "code",
   "execution_count": 4,
   "id": "7bed60b0-2b0a-49a1-bd40-095bdec5a51a",
   "metadata": {},
   "outputs": [],
   "source": [
    "analysis_date = dt.date(2022, 2, 8)"
   ]
  },
  {
   "cell_type": "code",
   "execution_count": 5,
   "id": "4456d15c-e819-4125-ac92-92cbb72e3167",
   "metadata": {},
   "outputs": [
    {
     "data": {
      "application/vnd.jupyter.widget-view+json": {
       "model_id": "f32810bacf2c4d95ad7820f01d395cef",
       "version_major": 2,
       "version_minor": 0
      },
      "text/plain": [
       "0it [00:00, ?it/s]"
      ]
     },
     "metadata": {},
     "output_type": "display_data"
    }
   ],
   "source": [
    "pbar = tqdm()"
   ]
  },
  {
   "cell_type": "code",
   "execution_count": 6,
   "id": "bc6114da-2af4-49ac-9f18-9cd1321715d4",
   "metadata": {
    "collapsed": true,
    "jupyter": {
     "outputs_hidden": true
    },
    "tags": []
   },
   "outputs": [
    {
     "name": "stdout",
     "output_type": "stream",
     "text": [
      "found parquet\n",
      "found parquet\n",
      "found parquet\n",
      "found parquet\n",
      "found_parquet\n",
      "could not generate delays for trip 992065\n",
      "Columns must be same length as key\n",
      "could not generate delays for trip 991528\n",
      "Columns must be same length as key\n",
      "could not generate delays for trip 991792\n",
      "zero-size array to reduction operation maximum which has no identity\n",
      "could not generate delays for trip 992869\n",
      "zero-size array to reduction operation maximum which has no identity\n",
      "could not generate delays for trip 993984\n",
      "Columns must be same length as key\n",
      "could not generate delays for trip 989947\n",
      "Columns must be same length as key\n",
      "could not generate delays for trip 993942\n",
      "Columns must be same length as key\n",
      "could not generate delays for trip 991260\n",
      "zero-size array to reduction operation maximum which has no identity\n",
      "could not generate delays for trip 991270\n",
      "Columns must be same length as key\n",
      "could not generate delays for trip 991267\n",
      "Columns must be same length as key\n",
      "could not generate delays for trip 991253\n",
      "zero-size array to reduction operation maximum which has no identity\n",
      "could not generate delays for trip 991273\n",
      "Columns must be same length as key\n",
      "could not generate delays for trip 991255\n",
      "Columns must be same length as key\n",
      "could not generate delays for trip 991258\n",
      "Columns must be same length as key\n",
      "could not generate delays for trip 991251\n",
      "zero-size array to reduction operation maximum which has no identity\n",
      "could not generate delays for trip 991269\n",
      "zero-size array to reduction operation maximum which has no identity\n",
      "could not generate delays for trip 991254\n",
      "Columns must be same length as key\n",
      "could not generate delays for trip 991277\n",
      "Columns must be same length as key\n",
      "could not generate delays for trip 991293\n",
      "Columns must be same length as key\n",
      "could not generate delays for trip 991279\n",
      "Columns must be same length as key\n",
      "could not generate delays for trip 991292\n",
      "Columns must be same length as key\n",
      "could not generate delays for trip 991281\n",
      "Columns must be same length as key\n",
      "could not generate delays for trip 991288\n",
      "Columns must be same length as key\n"
     ]
    }
   ],
   "source": [
    "sac_rt = rt.OperatorDayAnalysis(sac_rt_itp_id, analysis_date, pbar)"
   ]
  },
  {
   "cell_type": "code",
   "execution_count": 8,
   "id": "d695141f-0d6a-4858-bcf1-310f55bd63b5",
   "metadata": {},
   "outputs": [],
   "source": [
    "sac_rt.set_filter(start_time='15:00', end_time='19:00')"
   ]
  },
  {
   "cell_type": "code",
   "execution_count": 9,
   "id": "4dd8a1a2-2e53-411f-8065-9da7be32652b",
   "metadata": {
    "tags": []
   },
   "outputs": [
    {
     "name": "stdout",
     "output_type": "stream",
     "text": [
      "view filter: {'start_time': datetime.time(15, 0), 'end_time': datetime.time(19, 0), 'route_ids': None, 'direction_id': None, 'direction': None}\n",
      "speed above 80 for shape 41007, dropping\n",
      "speed above 80 for shape 40853, dropping\n",
      "speed above 80 for shape 40844, dropping\n",
      "stop_speeds shape: (0, 17), shape_id: 40766, direction_id: 1\n",
      "local variable 'grp_levels' referenced before assignment\n"
     ]
    },
    {
     "name": "stderr",
     "output_type": "stream",
     "text": [
      "TopologyException: assigned depths do not match at -121987.84282226175 62752.234451979428\n",
      "/opt/conda/lib/python3.9/site-packages/shapely/ops.py:634: ShapelyDeprecationWarning: GeometryTypeError will derive from ShapelyError and not TypeError or ValueError in Shapely 2.0.\n",
      "/home/jovyan/data-analyses/rt_delay/rt_analysis.py:503: UserWarning: Geometry is in a geographic CRS. Results from 'centroid' are likely incorrect. Use 'GeoSeries.to_crs()' to re-project geometries to a projected CRS before this operation.\n",
      "\n"
     ]
    }
   ],
   "source": [
    "m = sac_rt.segment_speed_map()"
   ]
  },
  {
   "cell_type": "code",
   "execution_count": 13,
   "id": "75ac1029-78de-4768-bcff-b7f412728003",
   "metadata": {},
   "outputs": [],
   "source": [
    "# m"
   ]
  }
 ],
 "metadata": {
  "kernelspec": {
   "display_name": "Python 3 (ipykernel)",
   "language": "python",
   "name": "python3"
  },
  "language_info": {
   "codemirror_mode": {
    "name": "ipython",
    "version": 3
   },
   "file_extension": ".py",
   "mimetype": "text/x-python",
   "name": "python",
   "nbconvert_exporter": "python",
   "pygments_lexer": "ipython3",
   "version": "3.9.7"
  }
 },
 "nbformat": 4,
 "nbformat_minor": 5
}
