{
 "cells": [
  {
   "cell_type": "code",
   "execution_count": null,
   "id": "ea8c277e-ea39-413d-9fab-76c75a13395d",
   "metadata": {},
   "outputs": [],
   "source": [
    "%%capture\n",
    "import warnings\n",
    "warnings.filterwarnings('ignore')\n",
    "\n",
    "import os\n",
    "os.environ[\"CALITP_BQ_MAX_BYTES\"] = str(800_000_000_000)\n",
    "import shared_utils\n",
    "\n",
    "from calitp.tables import tbl\n",
    "from calitp import query_sql\n",
    "import calitp.magics\n",
    "\n",
    "from siuba import *\n",
    "import pandas as pd\n",
    "import geopandas as gpd\n",
    "\n",
    "import datetime as dt\n",
    "\n",
    "import importlib\n",
    "import rt_filter_map_plot\n",
    "import rt_analysis\n",
    "from tqdm import tqdm_notebook\n",
    "from tqdm.notebook import trange, tqdm\n",
    "\n",
    "\n",
    "from IPython.display import display, Markdown, Latex, HTML\n",
    "import json"
   ]
  },
  {
   "cell_type": "code",
   "execution_count": null,
   "id": "a8e71dfa-d364-4c5a-87e6-35385400a53b",
   "metadata": {},
   "outputs": [],
   "source": [
    "sac_rt_itp_id = 273"
   ]
  },
  {
   "cell_type": "code",
   "execution_count": null,
   "id": "7bed60b0-2b0a-49a1-bd40-095bdec5a51a",
   "metadata": {},
   "outputs": [],
   "source": [
    "analysis_date = dt.date(2022, 2, 8)"
   ]
  },
  {
   "cell_type": "code",
   "execution_count": null,
   "id": "bc6114da-2af4-49ac-9f18-9cd1321715d4",
   "metadata": {
    "tags": []
   },
   "outputs": [],
   "source": [
    "sac_rt = rt_filter_map_plot.from_gcs(sac_rt_itp_id, analysis_date)"
   ]
  },
  {
   "cell_type": "code",
   "execution_count": null,
   "id": "1d022228-d671-4fad-ab82-3e6d5a6890e7",
   "metadata": {},
   "outputs": [],
   "source": [
    "pbar = tqdm()"
   ]
  },
  {
   "cell_type": "code",
   "execution_count": null,
   "id": "3f94a95e-c3d4-4d26-a94d-a3955c7227e8",
   "metadata": {},
   "outputs": [],
   "source": [
    "sac_rt_day = rt_analysis.OperatorDayAnalysis(sac_rt_itp_id, analysis_date, pbar)"
   ]
  },
  {
   "cell_type": "code",
   "execution_count": null,
   "id": "d695141f-0d6a-4858-bcf1-310f55bd63b5",
   "metadata": {},
   "outputs": [],
   "source": [
    "sac_rt.set_filter(start_time='15:00', end_time='19:00')"
   ]
  },
  {
   "cell_type": "code",
   "execution_count": null,
   "id": "4dd8a1a2-2e53-411f-8065-9da7be32652b",
   "metadata": {
    "tags": []
   },
   "outputs": [],
   "source": [
    "m = sac_rt.segment_speed_map()"
   ]
  },
  {
   "cell_type": "code",
   "execution_count": null,
   "id": "6cec1d1a-3cf3-417f-9151-954478ad0250",
   "metadata": {},
   "outputs": [],
   "source": [
    "m"
   ]
  },
  {
   "cell_type": "markdown",
   "id": "1a5243bc-a9ad-4278-b399-dcd65a9374e5",
   "metadata": {},
   "source": [
    "## Changing The Maps"
   ]
  },
  {
   "cell_type": "code",
   "execution_count": null,
   "id": "75ac1029-78de-4768-bcff-b7f412728003",
   "metadata": {
    "tags": []
   },
   "outputs": [],
   "source": [
    "# m"
   ]
  },
  {
   "cell_type": "code",
   "execution_count": null,
   "id": "50699741-dad3-4a5a-953e-4f29cf43f311",
   "metadata": {},
   "outputs": [],
   "source": [
    "# rt.OperatorDayAnalysis._show_speed_map(sac_rt, how='low_speeds', colorscale = utils.ZERO_THIRTY_COLORSCALE, size = [900, 550])"
   ]
  },
  {
   "cell_type": "markdown",
   "id": "71f4303a-594e-4a01-96c6-bc449116b61b",
   "metadata": {},
   "source": [
    "## Viewing Specific Trips"
   ]
  },
  {
   "cell_type": "code",
   "execution_count": null,
   "id": "b042065e-2923-4008-a35c-b910d59b8fb7",
   "metadata": {},
   "outputs": [],
   "source": [
    "florin1 = sac_rt_day.position_interpolators['992810']['rt']\n",
    "florin1.detailed_speed_map()"
   ]
  },
  {
   "cell_type": "code",
   "execution_count": null,
   "id": "8988c597-6f14-4e17-b255-05ef73bbb060",
   "metadata": {},
   "outputs": [],
   "source": [
    "florin2 = sac_rt_day.position_interpolators['992849']['rt']\n",
    "florin2.detailed_speed_map()"
   ]
  },
  {
   "cell_type": "code",
   "execution_count": null,
   "id": "5ad27757-5710-4698-8cb3-4a13c7bb01e5",
   "metadata": {},
   "outputs": [],
   "source": [
    "sac_rt.set_filter(start_time='15:00', end_time='19:00', route_names=['26'])"
   ]
  },
  {
   "cell_type": "code",
   "execution_count": null,
   "id": "b0d9f586-9bef-47ff-9e7f-31badd41edc4",
   "metadata": {},
   "outputs": [],
   "source": [
    "# sac_rt.chart_variability(min_stop_seq=10, max_stop_seq=38)"
   ]
  },
  {
   "cell_type": "code",
   "execution_count": null,
   "id": "60d0c9ac-9549-4125-a11d-e6314950f298",
   "metadata": {},
   "outputs": [],
   "source": [
    "# sac_rt._filter(sac_rt.rt_trips)"
   ]
  },
  {
   "cell_type": "code",
   "execution_count": null,
   "id": "b6d6acf0-6897-422b-9654-659402952b25",
   "metadata": {},
   "outputs": [],
   "source": [
    "## awesome example here\n",
    "fwy_slow = sac_rt_day.position_interpolators['990964']['rt']\n",
    "\n",
    "fwy_slow.detailed_speed_map()"
   ]
  },
  {
   "cell_type": "code",
   "execution_count": null,
   "id": "ebcba05e-26b7-450a-a0e5-18ce351b1ac8",
   "metadata": {},
   "outputs": [],
   "source": [
    "sac_rt_day.position_interpolators['990961']['rt'].detailed_speed_map()"
   ]
  },
  {
   "cell_type": "code",
   "execution_count": null,
   "id": "f8e2ce6c-b1fa-4eae-a69b-cf273b48d11c",
   "metadata": {},
   "outputs": [],
   "source": [
    "sac_rt_day.position_interpolators['990968']['rt'].detailed_speed_map()"
   ]
  },
  {
   "cell_type": "markdown",
   "id": "f2be2756-7689-48be-8f9f-eb3b4802d5ef",
   "metadata": {},
   "source": [
    "# Watt Ave / I-80 / I-80 Business"
   ]
  },
  {
   "cell_type": "code",
   "execution_count": null,
   "id": "7dc6f05a-1d37-431c-99f0-292a5c73392f",
   "metadata": {},
   "outputs": [],
   "source": [
    "sac_rt.set_filter(start_time='15:00', end_time='19:00', route_names=['26', '84', '93'])"
   ]
  },
  {
   "cell_type": "code",
   "execution_count": null,
   "id": "9c302c27-6943-470e-9982-1e51c2eb2733",
   "metadata": {},
   "outputs": [],
   "source": [
    "sac_rt.segment_speed_map()"
   ]
  },
  {
   "cell_type": "code",
   "execution_count": null,
   "id": "1be8ef8c-eb2b-4945-8e69-ee1227ce0922",
   "metadata": {},
   "outputs": [],
   "source": [
    "sac_rt._filter(sac_rt.rt_trips)"
   ]
  },
  {
   "cell_type": "code",
   "execution_count": null,
   "id": "25d13205-7939-4cac-92aa-04312a7db92d",
   "metadata": {},
   "outputs": [],
   "source": []
  }
 ],
 "metadata": {
  "kernelspec": {
   "display_name": "Python 3 (ipykernel)",
   "language": "python",
   "name": "python3"
  },
  "language_info": {
   "codemirror_mode": {
    "name": "ipython",
    "version": 3
   },
   "file_extension": ".py",
   "mimetype": "text/x-python",
   "name": "python",
   "nbconvert_exporter": "python",
   "pygments_lexer": "ipython3",
   "version": "3.10.5"
  }
 },
 "nbformat": 4,
 "nbformat_minor": 5
}
