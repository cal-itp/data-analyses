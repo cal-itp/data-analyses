{
 "cells": [
  {
   "cell_type": "code",
   "execution_count": null,
   "id": "46898b5c-b5cc-4096-ab68-8c3e42fab870",
   "metadata": {},
   "outputs": [],
   "source": [
    "%%capture\n",
    "import warnings\n",
    "warnings.filterwarnings('ignore')\n",
    "\n",
    "import os\n",
    "os.environ[\"CALITP_BQ_MAX_BYTES\"] = str(800_000_000_000)\n",
    "import shared_utils\n",
    "\n",
    "from calitp_data_analysis.tables import tbls\n",
    "import calitp_data_analysis.magics\n",
    "\n",
    "from siuba import *\n",
    "import pandas as pd\n",
    "import geopandas as gpd\n",
    "\n",
    "import datetime as dt\n",
    "\n",
    "import importlib\n",
    "from rt_analysis import rt_filter_map_plot\n",
    "# import build_speedmaps_index\n",
    "\n",
    "from IPython.display import display, Markdown, Latex, HTML\n",
    "import json"
   ]
  },
  {
   "cell_type": "code",
   "execution_count": null,
   "id": "a639fd84-29ca-4678-b568-2b1022701e14",
   "metadata": {},
   "outputs": [],
   "source": [
    "analysis_date = dt.date(2023, 4, 12)"
   ]
  },
  {
   "cell_type": "code",
   "execution_count": null,
   "id": "47c79d99-c82f-4e1e-b11e-2b1e83c13a1b",
   "metadata": {},
   "outputs": [],
   "source": [
    "%%capture_parameters\n",
    "human_date = analysis_date.strftime('%B %d %Y (%A)')\n",
    "human_date"
   ]
  },
  {
   "cell_type": "code",
   "execution_count": null,
   "id": "8352dcfe-9c50-46ee-9f80-3b912440968e",
   "metadata": {},
   "outputs": [],
   "source": [
    "from tqdm.notebook import tqdm"
   ]
  },
  {
   "cell_type": "markdown",
   "id": "8049ab71-3913-4d57-999d-95b56ec72387",
   "metadata": {},
   "source": [
    "# Frequent SHN Routes\n",
    "\n",
    "* quickly look for frequent transit routes using the State Highway Network\n",
    "* also evaluate applicable district-sourced ideas\n",
    "\n",
    "### CT Links:\n",
    "\n",
    "https://app.smartsheet.com/folders/whC3J79cMJCf3MqQ7MGv8pxHgQ3JQ68VwGQGwX21\n",
    "\n",
    "https://caltrans-my.sharepoint.com/:p:/g/personal/audrey_ogden_dot_ca_gov/EZbU16vBqYZHvrORsT-LzwsBBxJCZqfUPaKHmm5uqWmn_Q?e=4%3A4Ijf9v&CID=80D7A50B-5D1F-497F-8C92-9435B5782132&wdLOR=c3E29B53E-4F87-436E-BEDA-3F4281A53835\n"
   ]
  },
  {
   "cell_type": "markdown",
   "id": "52110155-d104-4043-8376-3f83e82a959a",
   "metadata": {},
   "source": [
    "# SFMTA"
   ]
  },
  {
   "cell_type": "code",
   "execution_count": null,
   "id": "9f15ed6a-5ab7-4f57-9695-3f762781b74c",
   "metadata": {
    "tags": [
     "parameters"
    ]
   },
   "outputs": [],
   "source": [
    "## parameters cell\n",
    "itp_id = 282"
   ]
  },
  {
   "cell_type": "code",
   "execution_count": null,
   "id": "e4cbefc6-9bbb-4989-85b7-1f31da17fcb8",
   "metadata": {},
   "outputs": [],
   "source": [
    "%%capture\n",
    "rt_day = rt_filter_map_plot.from_gcs(itp_id, analysis_date)"
   ]
  },
  {
   "cell_type": "code",
   "execution_count": null,
   "id": "6c335d40-7a7b-4641-8a3d-c970b2823cdf",
   "metadata": {},
   "outputs": [],
   "source": [
    "%%capture_parameters\n",
    "organization_name = rt_day.organization_name\n",
    "organization_name"
   ]
  },
  {
   "cell_type": "code",
   "execution_count": null,
   "id": "5e2b6890-c4a6-4682-b0f5-9eb6373f431a",
   "metadata": {},
   "outputs": [],
   "source": [
    "rt_day.set_filter(route_names = ['43', '28', '29'])"
   ]
  },
  {
   "cell_type": "code",
   "execution_count": null,
   "id": "864748d4-9187-4b85-b4a6-99f65e893dfd",
   "metadata": {},
   "outputs": [],
   "source": [
    "_m = rt_day.segment_speed_map()"
   ]
  },
  {
   "cell_type": "markdown",
   "id": "dc703f61-41d3-46bd-b3cf-986689a1bb91",
   "metadata": {},
   "source": [
    "## Muni Lombard"
   ]
  },
  {
   "cell_type": "code",
   "execution_count": null,
   "id": "3d268204-d179-4c72-b27b-5002a3d99f08",
   "metadata": {},
   "outputs": [],
   "source": [
    "rt_day.autocorridor(shape_id = '2856', stop_seq_range = [27, 32])"
   ]
  },
  {
   "cell_type": "code",
   "execution_count": null,
   "id": "ea3579c6-ec03-4572-9f5c-dad85807bfb2",
   "metadata": {},
   "outputs": [],
   "source": [
    "rt_day.corridor_stop_delays >> distinct(_.route_short_name)"
   ]
  },
  {
   "cell_type": "code",
   "execution_count": null,
   "id": "5831283d-385c-484a-9fa0-2a02f6f90e14",
   "metadata": {},
   "outputs": [],
   "source": [
    "rt_day.corridor_metrics()"
   ]
  },
  {
   "cell_type": "code",
   "execution_count": null,
   "id": "81055e2d-3a87-4912-b652-82eebe3235d4",
   "metadata": {
    "tags": []
   },
   "outputs": [],
   "source": [
    "rt_day.quick_map_corridor()"
   ]
  },
  {
   "cell_type": "code",
   "execution_count": null,
   "id": "d550627e-f154-47bc-9652-51f246033d16",
   "metadata": {},
   "outputs": [],
   "source": [
    "m = rt_day.segment_speed_map(how='low_speeds', no_title=False, shn=True, corridor=True)"
   ]
  },
  {
   "cell_type": "code",
   "execution_count": null,
   "id": "bab9756b-4256-46c0-a123-b285cbf67259",
   "metadata": {
    "tags": []
   },
   "outputs": [],
   "source": [
    "m"
   ]
  },
  {
   "cell_type": "markdown",
   "id": "15526a92-a716-476e-aaf5-8acd86319c5b",
   "metadata": {},
   "source": [
    "## dev new frequency"
   ]
  },
  {
   "cell_type": "code",
   "execution_count": null,
   "id": "e19dcfdd-2333-4194-8bb5-e32f38c066bc",
   "metadata": {},
   "outputs": [],
   "source": [
    "## filter 6a to 9p -- \"all day\" to include times of likely congestion\n",
    "df = rt_day._filter(rt_day.stop_delay_view)\n",
    "\n",
    "# min_time = \n",
    "(df\n",
    "     >> filter(_.actual_time > dt.datetime.combine(rt_day.analysis_date, dt.time(6)),\n",
    "               _.actual_time < dt.datetime.combine(rt_day.analysis_date, dt.time(21))\n",
    "              )\n",
    "     >> group_by(_.shape_id, _.route_id, _.route_short_name, _.trip_id)\n",
    "     >> summarize(runtime = _.actual_time.max() - _.actual_time.min(),\n",
    "                 start = _.actual_time.min())\n",
    "     >> group_by(_.route_id, _.route_short_name)\n",
    "     >> summarize(p50_runtime_minutes =_.runtime.quantile(.5).seconds / 60,\n",
    "                  p20_runtime_minutes =_.runtime.quantile(.2).seconds / 60,\n",
    "                  p80_runtime_minutes =_.runtime.quantile(.8).seconds / 60,\n",
    "                 first_start = _.start.min(), last_start = _.start.max(),\n",
    "                 n_trips = _.shape[0])\n",
    "     >> mutate(span = _.last_start - _.first_start, span_minutes = _.span.map(lambda x: x.seconds) / 60,\n",
    "              daily_avg_headway = (_.span_minutes / _.n_trips) * 2) # create avg per direction by multiplying 2x\n",
    ").round(1)"
   ]
  },
  {
   "cell_type": "code",
   "execution_count": null,
   "id": "30c329fb-776b-4ced-a4cb-9c46d3d78309",
   "metadata": {},
   "outputs": [],
   "source": [
    "all_corridors = []"
   ]
  },
  {
   "cell_type": "code",
   "execution_count": null,
   "id": "84472c45-e014-4577-bd70-8052dd3445ca",
   "metadata": {},
   "outputs": [],
   "source": [
    "all_corridors += [rt_day.corridor]"
   ]
  },
  {
   "cell_type": "markdown",
   "id": "72a92fed-fb60-4ede-8494-d59a806bbd63",
   "metadata": {
    "tags": []
   },
   "source": [
    "## Muni 19th A"
   ]
  },
  {
   "cell_type": "code",
   "execution_count": null,
   "id": "51c88fe2-9a12-4b21-a2a1-e5d332b4ad03",
   "metadata": {},
   "outputs": [],
   "source": [
    "rt_day.autocorridor(shape_id = '2808', stop_seq_range = [21, 32])"
   ]
  },
  {
   "cell_type": "code",
   "execution_count": null,
   "id": "9ad1e958-e674-4187-a3f6-a2ba1ab99b1d",
   "metadata": {},
   "outputs": [],
   "source": [
    "rt_day.corridor_stop_delays >> distinct(_.route_short_name)"
   ]
  },
  {
   "cell_type": "code",
   "execution_count": null,
   "id": "767fb8df-107d-4f06-ad64-8aaed2c72f30",
   "metadata": {},
   "outputs": [],
   "source": [
    "rt_day.corridor_metrics()"
   ]
  },
  {
   "cell_type": "code",
   "execution_count": null,
   "id": "e97fc987-4842-46c3-ace3-8604722969d8",
   "metadata": {},
   "outputs": [],
   "source": [
    "rt_day.quick_map_corridor()"
   ]
  },
  {
   "cell_type": "code",
   "execution_count": null,
   "id": "db8df09e-3e5d-4bcb-8be3-20c61fe3035a",
   "metadata": {},
   "outputs": [],
   "source": [
    "# m = rt_day.segment_speed_map(how='low_speeds', no_title=False, shn=True, corridor=True)\n",
    "## geoms error, no time to fix"
   ]
  },
  {
   "cell_type": "markdown",
   "id": "44cdaf50-dbbd-4110-8bc9-6bc4bed451cd",
   "metadata": {
    "tags": []
   },
   "source": [
    "## Muni 19th B"
   ]
  },
  {
   "cell_type": "code",
   "execution_count": null,
   "id": "e3158577-c1ba-4d17-9973-23b04cabf0ea",
   "metadata": {},
   "outputs": [],
   "source": [
    "rt_day.autocorridor(shape_id = '2808', stop_seq_range = [32, 37])"
   ]
  },
  {
   "cell_type": "code",
   "execution_count": null,
   "id": "cdefdb6d-ec40-4ab7-aa7b-d9aa1e112618",
   "metadata": {},
   "outputs": [],
   "source": [
    "rt_day.corridor_stop_delays >> distinct(_.route_short_name)"
   ]
  },
  {
   "cell_type": "code",
   "execution_count": null,
   "id": "6c803d57-ca0d-4d4b-8e58-e771f7f5e4c5",
   "metadata": {},
   "outputs": [],
   "source": [
    "rt_day.corridor_metrics()"
   ]
  },
  {
   "cell_type": "code",
   "execution_count": null,
   "id": "32de4a73-90d2-476f-9551-e72e9e81bd78",
   "metadata": {},
   "outputs": [],
   "source": [
    "rt_day.quick_map_corridor()"
   ]
  },
  {
   "cell_type": "code",
   "execution_count": null,
   "id": "c8df5265-eccb-43ea-b1ce-a7b403e24278",
   "metadata": {},
   "outputs": [],
   "source": [
    "m = rt_day.segment_speed_map(how='low_speeds', no_title=False, shn=True, corridor=True)"
   ]
  },
  {
   "cell_type": "code",
   "execution_count": null,
   "id": "3e3e1b29-41f7-4b01-9156-a118d3122ede",
   "metadata": {},
   "outputs": [],
   "source": [
    "m"
   ]
  },
  {
   "cell_type": "markdown",
   "id": "1d1b9c2e-20e4-496f-840e-845dc862d180",
   "metadata": {
    "jp-MarkdownHeadingCollapsed": true,
    "tags": []
   },
   "source": [
    "## GGT"
   ]
  },
  {
   "cell_type": "code",
   "execution_count": null,
   "id": "f36c14e1-1db1-4ae4-a154-ce0411503eb8",
   "metadata": {
    "tags": [
     "parameters"
    ]
   },
   "outputs": [],
   "source": [
    "## parameters cell\n",
    "itp_id = 127"
   ]
  },
  {
   "cell_type": "code",
   "execution_count": null,
   "id": "c4561129-26a8-42b4-9022-4e3b000e6c4b",
   "metadata": {},
   "outputs": [],
   "source": [
    "muni_corr = rt_day.corridor.copy() # use same corridor from muni analysis"
   ]
  },
  {
   "cell_type": "code",
   "execution_count": null,
   "id": "cac560cd-b1cd-46fb-bce4-9089cfdae897",
   "metadata": {},
   "outputs": [],
   "source": [
    "%%capture\n",
    "rt_day = rt_filter_map_plot.from_gcs(itp_id, analysis_date)"
   ]
  },
  {
   "cell_type": "code",
   "execution_count": null,
   "id": "c553920a-61a3-4a5f-a22e-4339fc8c855a",
   "metadata": {},
   "outputs": [],
   "source": [
    "%%capture_parameters\n",
    "organization_name = rt_day.organization_name\n",
    "organization_name"
   ]
  },
  {
   "cell_type": "code",
   "execution_count": null,
   "id": "64f1ec0d-bf56-43a3-8571-4da69130452e",
   "metadata": {},
   "outputs": [],
   "source": [
    "# rt_day.set_filter(route_names = ['43', '28', '29'])"
   ]
  },
  {
   "cell_type": "code",
   "execution_count": null,
   "id": "3c8f8e59-3fa2-46c4-8b8a-0c76ed619c17",
   "metadata": {},
   "outputs": [],
   "source": [
    "## actually fix this bug sometime?\n",
    "_m = rt_day.segment_speed_map()"
   ]
  },
  {
   "cell_type": "markdown",
   "id": "0ff24d06-0ec2-4d19-909d-57c899b96198",
   "metadata": {
    "jp-MarkdownHeadingCollapsed": true,
    "tags": []
   },
   "source": [
    "## GGT Lombard"
   ]
  },
  {
   "cell_type": "code",
   "execution_count": null,
   "id": "34c5b4d6-7023-43cf-adb1-badf307b37f2",
   "metadata": {},
   "outputs": [],
   "source": [
    "rt_day.add_corridor(muni_corr)"
   ]
  },
  {
   "cell_type": "code",
   "execution_count": null,
   "id": "60e40f89-58c9-44b2-8363-fdd949948e20",
   "metadata": {},
   "outputs": [],
   "source": [
    "rt_day.corridor_stop_delays >> distinct(_.route_short_name)"
   ]
  },
  {
   "cell_type": "code",
   "execution_count": null,
   "id": "01f6c4f9-e85a-4453-b74b-35453d942b65",
   "metadata": {},
   "outputs": [],
   "source": [
    "rt_day.transit_priority_target_mph = 20 # one route exceeds even this on corridor!"
   ]
  },
  {
   "cell_type": "code",
   "execution_count": null,
   "id": "8b9b3c72-0349-4599-aa39-c3c5036a1583",
   "metadata": {},
   "outputs": [],
   "source": [
    "rt_day.corridor_metrics()"
   ]
  },
  {
   "cell_type": "code",
   "execution_count": null,
   "id": "b94ec836-cc39-445a-951a-b78922887ba7",
   "metadata": {
    "tags": []
   },
   "outputs": [],
   "source": [
    "rt_day.quick_map_corridor()"
   ]
  },
  {
   "cell_type": "code",
   "execution_count": null,
   "id": "b4cfa979-5ddb-4b6e-af40-0fa0a1dc7ccc",
   "metadata": {},
   "outputs": [],
   "source": [
    "m = rt_day.segment_speed_map(how='low_speeds', no_title=False, shn=True, corridor=True)"
   ]
  },
  {
   "cell_type": "code",
   "execution_count": null,
   "id": "34292468-64d5-40ad-a406-712eafa08ff3",
   "metadata": {},
   "outputs": [],
   "source": [
    "m"
   ]
  },
  {
   "cell_type": "code",
   "execution_count": null,
   "id": "6960857d-f747-49af-9209-de2b5d871856",
   "metadata": {},
   "outputs": [],
   "source": [
    "all_corridors += [rt_day.corridor]"
   ]
  },
  {
   "cell_type": "markdown",
   "id": "02eb001f-e0f4-44d7-902d-36cbe15f55a3",
   "metadata": {},
   "source": [
    "# AC Transit"
   ]
  },
  {
   "cell_type": "code",
   "execution_count": null,
   "id": "6b13c054-d039-4c11-94c8-4eff742a84a1",
   "metadata": {
    "tags": [
     "parameters"
    ]
   },
   "outputs": [],
   "source": [
    "## parameters cell\n",
    "itp_id = 4"
   ]
  },
  {
   "cell_type": "code",
   "execution_count": null,
   "id": "6bb0a27a-0b95-4c85-b606-65bd6db9e4a1",
   "metadata": {},
   "outputs": [],
   "source": [
    "%%capture\n",
    "rt_day = rt_filter_map_plot.from_gcs(itp_id, analysis_date)"
   ]
  },
  {
   "cell_type": "code",
   "execution_count": null,
   "id": "36456654-ac8b-4b15-9301-42ec36574ea2",
   "metadata": {},
   "outputs": [],
   "source": [
    "%%capture_parameters\n",
    "organization_name = rt_day.organization_name\n",
    "organization_name"
   ]
  },
  {
   "cell_type": "code",
   "execution_count": null,
   "id": "8d5f7763-e2bd-46e4-906c-2b8efb36739a",
   "metadata": {},
   "outputs": [],
   "source": [
    "rt_day.set_filter(route_names = ['72', '72M', '72R'])"
   ]
  },
  {
   "cell_type": "code",
   "execution_count": null,
   "id": "15bb169a-6a27-413e-9a99-49c9e4c00646",
   "metadata": {},
   "outputs": [],
   "source": [
    "_m = rt_day.segment_speed_map()"
   ]
  },
  {
   "cell_type": "markdown",
   "id": "2002cb0a-ee4b-43a8-841c-827834bb6322",
   "metadata": {},
   "source": [
    "## AC Transit San Pablo"
   ]
  },
  {
   "cell_type": "code",
   "execution_count": null,
   "id": "13b1c7d0-1887-4286-b64a-80fd5b735e44",
   "metadata": {},
   "outputs": [],
   "source": [
    "rt_day.autocorridor(shape_id = 'shp-72R-15', stop_seq_range = [9, 19])"
   ]
  },
  {
   "cell_type": "code",
   "execution_count": null,
   "id": "a9f6f78b-265a-4c45-9c29-74aa563d0311",
   "metadata": {},
   "outputs": [],
   "source": [
    "rt_day.corridor_stop_delays >> distinct(_.route_short_name)"
   ]
  },
  {
   "cell_type": "code",
   "execution_count": null,
   "id": "63f0e253-de94-4a97-a802-652a77c23dcb",
   "metadata": {},
   "outputs": [],
   "source": [
    "rt_day.corridor_metrics()"
   ]
  },
  {
   "cell_type": "code",
   "execution_count": null,
   "id": "6c35a711-7fb4-4e3e-b326-384afe6270ce",
   "metadata": {},
   "outputs": [],
   "source": [
    "rt_day.quick_map_corridor()"
   ]
  },
  {
   "cell_type": "code",
   "execution_count": null,
   "id": "72e82f12-ed8b-41f0-bc7c-4f2449ca8814",
   "metadata": {},
   "outputs": [],
   "source": [
    "m = rt_day.segment_speed_map(how='low_speeds', no_title=False, shn=True, corridor=True)"
   ]
  },
  {
   "cell_type": "code",
   "execution_count": null,
   "id": "042484bb-f746-411c-a461-63b23295ce23",
   "metadata": {},
   "outputs": [],
   "source": [
    "m"
   ]
  },
  {
   "cell_type": "code",
   "execution_count": null,
   "id": "c429c78b-23e3-43a7-914d-48117330bdc8",
   "metadata": {},
   "outputs": [],
   "source": [
    "all_corridors += [rt_day.corridor]"
   ]
  },
  {
   "cell_type": "markdown",
   "id": "a0a80bcd-8e6f-4285-8b68-2a24c2d6f34f",
   "metadata": {},
   "source": [
    "# BBB"
   ]
  },
  {
   "cell_type": "code",
   "execution_count": null,
   "id": "589319db-bf04-4d73-98b1-94e0707f8764",
   "metadata": {
    "tags": [
     "parameters"
    ]
   },
   "outputs": [],
   "source": [
    "## parameters cell\n",
    "itp_id = 300"
   ]
  },
  {
   "cell_type": "code",
   "execution_count": null,
   "id": "374dfb1f-ef11-4a04-a07a-c3a7cca7f793",
   "metadata": {},
   "outputs": [],
   "source": [
    "%%capture\n",
    "rt_day = rt_filter_map_plot.from_gcs(itp_id, analysis_date)"
   ]
  },
  {
   "cell_type": "code",
   "execution_count": null,
   "id": "6010da46-2492-4079-8b37-a3130d869833",
   "metadata": {},
   "outputs": [],
   "source": [
    "%%capture_parameters\n",
    "organization_name = rt_day.organization_name\n",
    "organization_name"
   ]
  },
  {
   "cell_type": "code",
   "execution_count": null,
   "id": "56927c73-6af4-404c-8b99-64ae0a812f1d",
   "metadata": {},
   "outputs": [],
   "source": [
    "rt_day.set_filter(route_names = ['3', 'R3'])"
   ]
  },
  {
   "cell_type": "code",
   "execution_count": null,
   "id": "2b16ca37-28ed-4650-a20d-89f4c75cd7ae",
   "metadata": {},
   "outputs": [],
   "source": [
    "_m = rt_day.segment_speed_map()"
   ]
  },
  {
   "cell_type": "code",
   "execution_count": null,
   "id": "204ba70c-9291-4baa-94e3-8c7b2f3df8d4",
   "metadata": {},
   "outputs": [],
   "source": [
    "_m"
   ]
  },
  {
   "cell_type": "markdown",
   "id": "c1f92dee-43e9-4a9e-ba39-be017f989196",
   "metadata": {},
   "source": [
    "## BBB Lincoln"
   ]
  },
  {
   "cell_type": "code",
   "execution_count": null,
   "id": "471f5351-3281-49b6-ab16-655a08f66457",
   "metadata": {},
   "outputs": [],
   "source": [
    "rt_day.autocorridor(shape_id = '26171', stop_seq_range = [16, 29])"
   ]
  },
  {
   "cell_type": "code",
   "execution_count": null,
   "id": "3161984b-af55-463c-b8ba-1d55fa046b77",
   "metadata": {},
   "outputs": [],
   "source": [
    "rt_day.corridor_stop_delays >> distinct(_.route_short_name)"
   ]
  },
  {
   "cell_type": "code",
   "execution_count": null,
   "id": "2a3e485c-4123-4419-b927-672400e1a769",
   "metadata": {},
   "outputs": [],
   "source": [
    "rt_day.corridor_metrics()"
   ]
  },
  {
   "cell_type": "code",
   "execution_count": null,
   "id": "7a8c2cbe-2011-407c-ac8a-866db4f447bb",
   "metadata": {},
   "outputs": [],
   "source": [
    "rt_day.quick_map_corridor()"
   ]
  },
  {
   "cell_type": "code",
   "execution_count": null,
   "id": "ec0a38ab-81b6-4018-9b13-8ef9d098e8fb",
   "metadata": {},
   "outputs": [],
   "source": [
    "m = rt_day.segment_speed_map(how='low_speeds', no_title=False, shn=True, corridor=True)"
   ]
  },
  {
   "cell_type": "code",
   "execution_count": null,
   "id": "4db60391-8737-4347-b591-6bcdc0356a6f",
   "metadata": {},
   "outputs": [],
   "source": [
    "m"
   ]
  },
  {
   "cell_type": "markdown",
   "id": "9d78d962-ea22-48d7-9bbf-6835815d79ae",
   "metadata": {},
   "source": [
    "# LA Metro"
   ]
  },
  {
   "cell_type": "code",
   "execution_count": null,
   "id": "11767170-9ab1-4e51-8ba1-50008f2d77a7",
   "metadata": {
    "tags": [
     "parameters"
    ]
   },
   "outputs": [],
   "source": [
    "## parameters cell\n",
    "itp_id = 182"
   ]
  },
  {
   "cell_type": "code",
   "execution_count": null,
   "id": "1ceb7f5f-8c83-4d2d-934a-22bf91887d5d",
   "metadata": {},
   "outputs": [],
   "source": [
    "%%capture\n",
    "rt_day = rt_filter_map_plot.from_gcs(itp_id, analysis_date)"
   ]
  },
  {
   "cell_type": "code",
   "execution_count": null,
   "id": "4337e7b3-6a65-411b-b580-2ad42debe79b",
   "metadata": {},
   "outputs": [],
   "source": [
    "%%capture_parameters\n",
    "organization_name = rt_day.organization_name\n",
    "organization_name"
   ]
  },
  {
   "cell_type": "code",
   "execution_count": null,
   "id": "f9119de1-111b-4f45-a382-c6d7d66761a9",
   "metadata": {},
   "outputs": [],
   "source": [
    "rt_day.set_filter(route_names = ['4'])"
   ]
  },
  {
   "cell_type": "code",
   "execution_count": null,
   "id": "66dfc67a-a3d0-4f10-90a8-fa553764d61a",
   "metadata": {},
   "outputs": [],
   "source": [
    "_m = rt_day.segment_speed_map()"
   ]
  },
  {
   "cell_type": "markdown",
   "id": "34f7b12c-c262-4786-80bf-0646d7f98ce2",
   "metadata": {},
   "source": [
    "## Metro Santa Monica Bl"
   ]
  },
  {
   "cell_type": "code",
   "execution_count": null,
   "id": "a990dd8e-8b01-41bc-a6cc-4575591c0e55",
   "metadata": {},
   "outputs": [],
   "source": [
    "rt_day.autocorridor(shape_id = '40338_DEC22', stop_seq_range = [40, 50])"
   ]
  },
  {
   "cell_type": "code",
   "execution_count": null,
   "id": "39e9fcf5-6ef6-4422-8ea3-350b3e13c4df",
   "metadata": {},
   "outputs": [],
   "source": [
    "rt_day.corridor_stop_delays >> distinct(_.route_short_name)"
   ]
  },
  {
   "cell_type": "code",
   "execution_count": null,
   "id": "8b6259eb-dd21-4da4-934c-f3dcfc31b517",
   "metadata": {},
   "outputs": [],
   "source": [
    "rt_day.corridor_metrics()"
   ]
  },
  {
   "cell_type": "code",
   "execution_count": null,
   "id": "a115cf70-d29b-4256-b112-421564e94823",
   "metadata": {},
   "outputs": [],
   "source": [
    "rt_day.quick_map_corridor()"
   ]
  },
  {
   "cell_type": "code",
   "execution_count": null,
   "id": "e144b197-07dd-446b-bfc0-9d11b004f7ad",
   "metadata": {},
   "outputs": [],
   "source": [
    "m = rt_day.segment_speed_map(how='low_speeds', no_title=False, shn=True, corridor=True)"
   ]
  },
  {
   "cell_type": "code",
   "execution_count": null,
   "id": "afea51b4-00cf-4015-917e-878fd3d5ecc0",
   "metadata": {},
   "outputs": [],
   "source": [
    "m"
   ]
  },
  {
   "cell_type": "code",
   "execution_count": null,
   "id": "36c2dc4b-b653-4869-8e13-939b7f8f4353",
   "metadata": {},
   "outputs": [],
   "source": [
    "all_corridors += [rt_day.corridor]"
   ]
  },
  {
   "cell_type": "markdown",
   "id": "f1b9b973-2897-4e4b-801e-c3ba749ef45e",
   "metadata": {},
   "source": [
    "# VTA"
   ]
  },
  {
   "cell_type": "code",
   "execution_count": null,
   "id": "a2c00f9b-4705-408c-9e9f-1df57c22af13",
   "metadata": {
    "tags": [
     "parameters"
    ]
   },
   "outputs": [],
   "source": [
    "## parameters cell\n",
    "itp_id = 294"
   ]
  },
  {
   "cell_type": "code",
   "execution_count": null,
   "id": "ba887f2c-943f-4a4e-9de8-8269678deb0e",
   "metadata": {},
   "outputs": [],
   "source": [
    "%%capture\n",
    "rt_day = rt_filter_map_plot.from_gcs(itp_id, analysis_date)"
   ]
  },
  {
   "cell_type": "code",
   "execution_count": null,
   "id": "4991ab2c-220b-4690-b1b6-5347a7dcb7ed",
   "metadata": {},
   "outputs": [],
   "source": [
    "%%capture_parameters\n",
    "organization_name = rt_day.organization_name\n",
    "organization_name"
   ]
  },
  {
   "cell_type": "code",
   "execution_count": null,
   "id": "f351f682-430b-4cf5-b891-e1e31a96f978",
   "metadata": {},
   "outputs": [],
   "source": [
    "rt_day.set_filter(route_names = ['22', 'Rapid 522'])"
   ]
  },
  {
   "cell_type": "code",
   "execution_count": null,
   "id": "c2e69780-c111-4984-a87e-cf367262549f",
   "metadata": {},
   "outputs": [],
   "source": [
    "_m = rt_day.segment_speed_map()"
   ]
  },
  {
   "cell_type": "code",
   "execution_count": null,
   "id": "511b05bd-d3a8-4544-843d-d584f6279141",
   "metadata": {},
   "outputs": [],
   "source": [
    "_m"
   ]
  },
  {
   "cell_type": "markdown",
   "id": "4777fdde-5386-43a7-b83c-81580f0ab56b",
   "metadata": {},
   "source": [
    "## VTA ECR"
   ]
  },
  {
   "cell_type": "code",
   "execution_count": null,
   "id": "796f1bca-7146-47b1-88bd-f8a384ce7068",
   "metadata": {},
   "outputs": [],
   "source": [
    "rt_day.autocorridor(shape_id = '107193', stop_seq_range = [44, 98])"
   ]
  },
  {
   "cell_type": "code",
   "execution_count": null,
   "id": "606a131b-29af-4a12-81ec-9452d037e8b7",
   "metadata": {},
   "outputs": [],
   "source": [
    "rt_day.corridor_stop_delays >> distinct(_.route_short_name)"
   ]
  },
  {
   "cell_type": "code",
   "execution_count": null,
   "id": "69fcf4e9-6b92-403a-9120-a9d8393f5296",
   "metadata": {},
   "outputs": [],
   "source": [
    "rt_day.corridor_metrics()"
   ]
  },
  {
   "cell_type": "code",
   "execution_count": null,
   "id": "fac66ce9-88fe-4fc2-9bca-1f30b8c84e6e",
   "metadata": {},
   "outputs": [],
   "source": [
    "rt_day.quick_map_corridor()"
   ]
  },
  {
   "cell_type": "code",
   "execution_count": null,
   "id": "aa392f06-3f23-4ac2-8345-5920e802a699",
   "metadata": {},
   "outputs": [],
   "source": [
    "m = rt_day.segment_speed_map(how='low_speeds', no_title=False, shn=True, corridor=True)"
   ]
  },
  {
   "cell_type": "code",
   "execution_count": null,
   "id": "d55dbc8c-2c4f-4a91-9681-7e7c3ff3ee80",
   "metadata": {},
   "outputs": [],
   "source": [
    "m"
   ]
  },
  {
   "cell_type": "markdown",
   "id": "d5f8039a-4414-4a3c-9c51-5afab9ba57c5",
   "metadata": {},
   "source": [
    "# Samtrans"
   ]
  },
  {
   "cell_type": "code",
   "execution_count": null,
   "id": "de9ca499-cff0-4db4-9cf7-a736985bfa0c",
   "metadata": {
    "tags": [
     "parameters"
    ]
   },
   "outputs": [],
   "source": [
    "## parameters cell\n",
    "itp_id = 290"
   ]
  },
  {
   "cell_type": "code",
   "execution_count": null,
   "id": "3613883a-9463-4cde-b6d0-5e88d2ee18f7",
   "metadata": {},
   "outputs": [],
   "source": [
    "%%capture\n",
    "rt_day = rt_filter_map_plot.from_gcs(itp_id, analysis_date)"
   ]
  },
  {
   "cell_type": "code",
   "execution_count": null,
   "id": "19e435db-3f60-47fb-9c9a-17111f80b415",
   "metadata": {},
   "outputs": [],
   "source": [
    "%%capture_parameters\n",
    "organization_name = rt_day.organization_name\n",
    "organization_name"
   ]
  },
  {
   "cell_type": "code",
   "execution_count": null,
   "id": "04c4b687-98c9-4214-aef6-75e5b1f1cd64",
   "metadata": {},
   "outputs": [],
   "source": [
    "rt_day.set_filter(route_names = ['ECR'])"
   ]
  },
  {
   "cell_type": "code",
   "execution_count": null,
   "id": "1d2ec7c9-3245-4246-9955-51d697055915",
   "metadata": {},
   "outputs": [],
   "source": [
    "_m = rt_day.segment_speed_map()"
   ]
  },
  {
   "cell_type": "markdown",
   "id": "414076ab-4575-4627-9c0f-d7d5db288e4b",
   "metadata": {},
   "source": [
    "## Samtrans ECR"
   ]
  },
  {
   "cell_type": "code",
   "execution_count": null,
   "id": "57148623-6a26-488d-8eed-38828b4df9e4",
   "metadata": {},
   "outputs": [],
   "source": [
    "rt_day.autocorridor(shape_id = 'ECR1095', stop_seq_range = [3, 65])"
   ]
  },
  {
   "cell_type": "code",
   "execution_count": null,
   "id": "69789d35-4848-461e-aa54-07d3a097cf7d",
   "metadata": {},
   "outputs": [],
   "source": [
    "rt_day.corridor_stop_delays >> distinct(_.route_short_name)"
   ]
  },
  {
   "cell_type": "code",
   "execution_count": null,
   "id": "3ceac66c-d2c2-4424-9fd1-96c0d173f457",
   "metadata": {},
   "outputs": [],
   "source": [
    "rt_day.corridor_metrics()"
   ]
  },
  {
   "cell_type": "code",
   "execution_count": null,
   "id": "9d7c2438-47b9-4e42-af9f-0ca78aa53623",
   "metadata": {},
   "outputs": [],
   "source": [
    "rt_day.quick_map_corridor()"
   ]
  },
  {
   "cell_type": "code",
   "execution_count": null,
   "id": "8ff205ca-d104-46cd-b83d-c9eba3a5324e",
   "metadata": {},
   "outputs": [],
   "source": [
    "# m = rt_day.segment_speed_map(how='low_speeds', no_title=False, shn=True, corridor=True)\n",
    "\n",
    "# m"
   ]
  },
  {
   "cell_type": "markdown",
   "id": "1be5a0b2-7a3a-4b97-93dc-cd28d082b1b8",
   "metadata": {},
   "source": [
    "## Part B"
   ]
  },
  {
   "cell_type": "code",
   "execution_count": null,
   "id": "f86c05ff-9d54-4feb-98ec-abac762a6116",
   "metadata": {},
   "outputs": [],
   "source": [
    "rt_day.autocorridor(shape_id = 'ECR1098', stop_seq_range = [4, 35])"
   ]
  },
  {
   "cell_type": "code",
   "execution_count": null,
   "id": "1496ca22-77c6-4d96-87bf-dcbab233f8b3",
   "metadata": {},
   "outputs": [],
   "source": [
    "rt_day.corridor_stop_delays >> distinct(_.route_short_name)"
   ]
  },
  {
   "cell_type": "code",
   "execution_count": null,
   "id": "00793631-01ce-4784-8a3c-047d51a0b4f7",
   "metadata": {},
   "outputs": [],
   "source": [
    "rt_day.corridor_metrics()"
   ]
  },
  {
   "cell_type": "code",
   "execution_count": null,
   "id": "c6d7410a-4211-4106-86a5-7572300e14d1",
   "metadata": {},
   "outputs": [],
   "source": [
    "rt_day.quick_map_corridor()"
   ]
  },
  {
   "cell_type": "code",
   "execution_count": null,
   "id": "45cd449b-ad88-47b2-811c-d4d5e0f429b5",
   "metadata": {},
   "outputs": [],
   "source": [
    "m = rt_day.segment_speed_map(how='low_speeds', no_title=False, shn=True, corridor=True)"
   ]
  },
  {
   "cell_type": "code",
   "execution_count": null,
   "id": "88cbf6f9-4ba3-49b2-b1da-75ba707b70c6",
   "metadata": {},
   "outputs": [],
   "source": [
    "m"
   ]
  },
  {
   "cell_type": "markdown",
   "id": "c776a46b-b32e-413c-a7e9-6a406835c930",
   "metadata": {},
   "source": [
    "# Foothill"
   ]
  },
  {
   "cell_type": "code",
   "execution_count": null,
   "id": "10513c0e-d957-4e0e-b2d1-9bdf032540fd",
   "metadata": {
    "tags": [
     "parameters"
    ]
   },
   "outputs": [],
   "source": [
    "## parameters cell\n",
    "itp_id = 112"
   ]
  },
  {
   "cell_type": "code",
   "execution_count": null,
   "id": "671c2b41-ef6e-450a-9bd6-e00ebcc6c95f",
   "metadata": {},
   "outputs": [],
   "source": [
    "%%capture\n",
    "rt_day = rt_filter_map_plot.from_gcs(itp_id, analysis_date)"
   ]
  },
  {
   "cell_type": "code",
   "execution_count": null,
   "id": "2f11df5d-fee7-46ed-97e6-9e67b4e9fb30",
   "metadata": {},
   "outputs": [],
   "source": [
    "%%capture_parameters\n",
    "organization_name = rt_day.organization_name\n",
    "organization_name"
   ]
  },
  {
   "cell_type": "code",
   "execution_count": null,
   "id": "5b4098b7-5231-4fb6-9adc-4fc9bd6e7562",
   "metadata": {},
   "outputs": [],
   "source": [
    "rt_day.set_filter(route_names = ['188'])"
   ]
  },
  {
   "cell_type": "code",
   "execution_count": null,
   "id": "2223497f-8f4e-45ae-af3b-c2479df859c5",
   "metadata": {},
   "outputs": [],
   "source": [
    "_m = rt_day.segment_speed_map()"
   ]
  },
  {
   "cell_type": "markdown",
   "id": "997a19a8-f5e5-4fd1-9e52-86ff8728b232",
   "metadata": {},
   "source": [
    "## Foothill Foothill Bl"
   ]
  },
  {
   "cell_type": "code",
   "execution_count": null,
   "id": "b752f818-045c-4585-8105-eb061f260532",
   "metadata": {},
   "outputs": [],
   "source": [
    "rt_day.autocorridor(shape_id = '12286_shp', stop_seq_range = [1779, 2834])"
   ]
  },
  {
   "cell_type": "code",
   "execution_count": null,
   "id": "adcd5401-b0c4-42ad-8ec7-04e1c0e08339",
   "metadata": {},
   "outputs": [],
   "source": [
    "rt_day.corridor_stop_delays >> distinct(_.route_short_name)"
   ]
  },
  {
   "cell_type": "code",
   "execution_count": null,
   "id": "b1e07b72-953a-4cd9-a771-0b5cc644f6c8",
   "metadata": {},
   "outputs": [],
   "source": [
    "rt_day.corridor_metrics()"
   ]
  },
  {
   "cell_type": "code",
   "execution_count": null,
   "id": "a4b6bfee-0c57-408b-aa86-20ac60e0d51b",
   "metadata": {},
   "outputs": [],
   "source": [
    "rt_day.quick_map_corridor()"
   ]
  },
  {
   "cell_type": "code",
   "execution_count": null,
   "id": "406ab603-fe67-4c19-9100-af6bff7fd9f0",
   "metadata": {},
   "outputs": [],
   "source": [
    "m = rt_day.segment_speed_map(how='low_speeds', no_title=False, shn=True, corridor=True)"
   ]
  },
  {
   "cell_type": "code",
   "execution_count": null,
   "id": "92cc8ac5-d8f0-47a6-9716-864399633dc9",
   "metadata": {},
   "outputs": [],
   "source": [
    "m"
   ]
  },
  {
   "cell_type": "markdown",
   "id": "3e5b02b1-529b-42de-9adc-cdb90e61cb54",
   "metadata": {},
   "source": [
    "# From Project List\n",
    "https://app.smartsheet.com/reports/4gRrr282hJ3MPVG7hcqX4XQHh2FR4GgpfW6pq5Q1?view=grid"
   ]
  },
  {
   "cell_type": "code",
   "execution_count": null,
   "id": "0f708a99-d819-4122-bf80-60b9a3e5ecdd",
   "metadata": {
    "tags": []
   },
   "outputs": [],
   "source": [
    "# shared_utils.rt_utils.show_full_df((pd.read_parquet('./_rt_progress_2023-05-17.parquet')\n",
    "#                                    >> filter(_.status == 'map_confirmed')\n",
    "#                                    )\n",
    "#                                   )"
   ]
  },
  {
   "cell_type": "code",
   "execution_count": null,
   "id": "b053e5f7-b40a-4572-9af2-24918e4ed470",
   "metadata": {},
   "outputs": [],
   "source": [
    "analysis_date = dt.date(2023, 5, 17)"
   ]
  },
  {
   "cell_type": "markdown",
   "id": "3b99a6fd-b193-4098-9f56-e6e30c42e9b6",
   "metadata": {
    "tags": []
   },
   "source": [
    "# Eureka"
   ]
  },
  {
   "cell_type": "code",
   "execution_count": null,
   "id": "c76b25ac-aa80-44b6-9f16-43808bcdf0d8",
   "metadata": {},
   "outputs": [],
   "source": [
    "import importlib\n",
    "importlib.reload(rt_filter_map_plot)"
   ]
  },
  {
   "cell_type": "code",
   "execution_count": null,
   "id": "f7330beb-543e-40a0-9005-17da0b44702f",
   "metadata": {
    "tags": [
     "parameters"
    ]
   },
   "outputs": [],
   "source": [
    "## parameters cell\n",
    "itp_id = 108"
   ]
  },
  {
   "cell_type": "code",
   "execution_count": null,
   "id": "2189f4aa-6700-47e5-a1e0-d6f8617b7360",
   "metadata": {},
   "outputs": [],
   "source": [
    "%%capture\n",
    "rt_day = rt_filter_map_plot.from_gcs(itp_id, analysis_date)"
   ]
  },
  {
   "cell_type": "code",
   "execution_count": null,
   "id": "15b9d5a9-b776-44e8-a7ca-43b7355f241c",
   "metadata": {},
   "outputs": [],
   "source": [
    "%%capture_parameters\n",
    "organization_name = rt_day.organization_name\n",
    "organization_name"
   ]
  },
  {
   "cell_type": "code",
   "execution_count": null,
   "id": "94d8f6cc-f8a7-4c57-846a-a7f5a9099bd9",
   "metadata": {},
   "outputs": [],
   "source": [
    "# rt_day.set_filter(route_names = ['188'])"
   ]
  },
  {
   "cell_type": "code",
   "execution_count": null,
   "id": "1661351a-02bf-4b06-b3f7-b678198a164e",
   "metadata": {},
   "outputs": [],
   "source": [
    "_m = rt_day.segment_speed_map()"
   ]
  },
  {
   "cell_type": "markdown",
   "id": "eb543d56-3437-41b1-894f-9cd9b83fa7c0",
   "metadata": {
    "tags": []
   },
   "source": [
    "## Eureka US101 (Broadway Truesdale - 4th per [RTP](https://www.hcaog.net/sites/default/files/vroom_2022-2042_full_report.pdf))\n",
    "\n",
    "* difficult to analyze -- need to exclude distant stops from corridor (add to algorithm?)\n",
    "* standardize on most common trip pattern"
   ]
  },
  {
   "cell_type": "code",
   "execution_count": null,
   "id": "7416921b-42cb-48c7-a4fd-134fd6b75e58",
   "metadata": {},
   "outputs": [],
   "source": [
    "rt_day.autocorridor(shape_id = 'p_178050', stop_seq_range = [13, 13.5],\n",
    "manual_exclude={'p_179049': {'max': 4}, 'p_179044': {'max': 4}})\n",
    "# intercity service, exclude stops distant from corridor"
   ]
  },
  {
   "cell_type": "code",
   "execution_count": null,
   "id": "7cabb7ed-017a-4f95-97ea-977a1055c42d",
   "metadata": {},
   "outputs": [],
   "source": [
    "rt_day.corridor_stop_delays >> distinct(_.route_short_name)"
   ]
  },
  {
   "cell_type": "code",
   "execution_count": null,
   "id": "be8b318e-6272-46b5-b28d-597fef8c1042",
   "metadata": {},
   "outputs": [],
   "source": [
    "rt_day.corridor_metrics()"
   ]
  },
  {
   "cell_type": "code",
   "execution_count": null,
   "id": "e133a440-2bf7-46c9-8395-2161913663ea",
   "metadata": {},
   "outputs": [],
   "source": [
    "rt_day.quick_map_corridor()"
   ]
  },
  {
   "cell_type": "code",
   "execution_count": null,
   "id": "83185f80-3f86-429d-86af-f54c22522063",
   "metadata": {},
   "outputs": [],
   "source": [
    "m = rt_day.segment_speed_map(how='low_speeds', no_title=False, shn=True, corridor=True)"
   ]
  },
  {
   "cell_type": "code",
   "execution_count": null,
   "id": "782ba9cc-866c-4cf9-b36e-1e0f969782b0",
   "metadata": {},
   "outputs": [],
   "source": [
    "m"
   ]
  },
  {
   "cell_type": "code",
   "execution_count": null,
   "id": "c65f0c31-d465-4555-aca5-0596daee0327",
   "metadata": {},
   "outputs": [],
   "source": [
    "all_corridors += [rt_day.corridor]"
   ]
  },
  {
   "cell_type": "markdown",
   "id": "a7e42150-fc2a-4a73-81bf-965ee280b667",
   "metadata": {},
   "source": [
    "# TART SR267/89 -- no data"
   ]
  },
  {
   "cell_type": "markdown",
   "id": "e33c342c-36a8-48db-8d87-7e41a98b72b1",
   "metadata": {},
   "source": [
    "# Tahoe Transportation District US50\n",
    "\n",
    "* limited data geographic extent"
   ]
  },
  {
   "cell_type": "code",
   "execution_count": null,
   "id": "905e1c6b-7236-43ec-99e1-d232ecd19d7c",
   "metadata": {
    "tags": [
     "parameters"
    ]
   },
   "outputs": [],
   "source": [
    "## parameters cell\n",
    "itp_id = 331"
   ]
  },
  {
   "cell_type": "code",
   "execution_count": null,
   "id": "f5066302-4d17-45bd-bb7d-65d5dfab2d84",
   "metadata": {},
   "outputs": [],
   "source": [
    "%%capture\n",
    "rt_day = rt_filter_map_plot.from_gcs(itp_id, analysis_date)"
   ]
  },
  {
   "cell_type": "code",
   "execution_count": null,
   "id": "80e91697-add5-4f2d-8456-43ee531436bb",
   "metadata": {},
   "outputs": [],
   "source": [
    "%%capture_parameters\n",
    "organization_name = rt_day.organization_name\n",
    "organization_name"
   ]
  },
  {
   "cell_type": "code",
   "execution_count": null,
   "id": "732deb97-958e-4d47-a920-1c47f319fa92",
   "metadata": {},
   "outputs": [],
   "source": [
    "_m = rt_day.segment_speed_map()"
   ]
  },
  {
   "cell_type": "code",
   "execution_count": null,
   "id": "ffd8cbea-f69e-46ea-85b3-4f5841d25546",
   "metadata": {},
   "outputs": [],
   "source": [
    "rt_day.autocorridor(shape_id = 'p_497358', stop_seq_range = [0, 20])"
   ]
  },
  {
   "cell_type": "code",
   "execution_count": null,
   "id": "fbffabbe-c1f2-4e7c-a8f2-b4643bdfcbab",
   "metadata": {},
   "outputs": [],
   "source": [
    "rt_day.corridor_stop_delays >> distinct(_.route_short_name)"
   ]
  },
  {
   "cell_type": "code",
   "execution_count": null,
   "id": "2447e950-929b-4416-9b3a-00e57e118f63",
   "metadata": {},
   "outputs": [],
   "source": [
    "rt_day.corridor_metrics()"
   ]
  },
  {
   "cell_type": "code",
   "execution_count": null,
   "id": "e10de605-9565-4e02-b6d9-eaf7160b014c",
   "metadata": {},
   "outputs": [],
   "source": [
    "rt_day.quick_map_corridor()"
   ]
  },
  {
   "cell_type": "code",
   "execution_count": null,
   "id": "088f48fb-6c85-4b58-af95-ac9c165b5745",
   "metadata": {},
   "outputs": [],
   "source": [
    "m = rt_day.segment_speed_map(how='low_speeds', no_title=False, shn=True, corridor=True)"
   ]
  },
  {
   "cell_type": "code",
   "execution_count": null,
   "id": "c52e5779-a0af-4df6-be19-5e166deeef33",
   "metadata": {},
   "outputs": [],
   "source": [
    "m"
   ]
  },
  {
   "cell_type": "code",
   "execution_count": null,
   "id": "fa125480-de9b-4d4c-8567-23b6ba08ea90",
   "metadata": {},
   "outputs": [],
   "source": [
    "all_corridors += [rt_day.corridor]"
   ]
  },
  {
   "cell_type": "markdown",
   "id": "18e3e499-8be9-4e50-a56e-c3eefd180e69",
   "metadata": {},
   "source": [
    "# Fresno -- unable eval (new services)"
   ]
  },
  {
   "cell_type": "code",
   "execution_count": null,
   "id": "74fca5ce-63f8-4042-8acc-edc9eaa8db08",
   "metadata": {},
   "outputs": [],
   "source": []
  },
  {
   "cell_type": "markdown",
   "id": "31dbda93-21df-4319-a2f8-50862dc0f7fa",
   "metadata": {
    "jp-MarkdownHeadingCollapsed": true,
    "tags": []
   },
   "source": [
    "# VCTC (SR126 Fillmore - Ventura)\n",
    "\n",
    "* minimal thru running delay on available data..."
   ]
  },
  {
   "cell_type": "code",
   "execution_count": null,
   "id": "218e05de-c371-4792-a7c3-b56767335c92",
   "metadata": {
    "tags": [
     "parameters"
    ]
   },
   "outputs": [],
   "source": [
    "## parameters cell\n",
    "itp_id = 380"
   ]
  },
  {
   "cell_type": "code",
   "execution_count": null,
   "id": "54c8dbdb-c82d-496d-af25-58a7eeb867e4",
   "metadata": {},
   "outputs": [],
   "source": [
    "analysis_date = dt.date(2023, 4, 12)"
   ]
  },
  {
   "cell_type": "code",
   "execution_count": null,
   "id": "91759504-a1d1-48fa-a355-4aefcbd459f4",
   "metadata": {},
   "outputs": [],
   "source": [
    "%%capture\n",
    "rt_day = rt_filter_map_plot.from_gcs(itp_id, analysis_date)"
   ]
  },
  {
   "cell_type": "code",
   "execution_count": null,
   "id": "9b13a1aa-cd59-4073-abdb-6c1b7c728861",
   "metadata": {},
   "outputs": [],
   "source": [
    "%%capture_parameters\n",
    "organization_name = rt_day.organization_name\n",
    "organization_name"
   ]
  },
  {
   "cell_type": "code",
   "execution_count": null,
   "id": "1ff941fa-f957-4fc8-91be-d47ea3320bf6",
   "metadata": {},
   "outputs": [],
   "source": [
    "_m = rt_day.segment_speed_map()"
   ]
  },
  {
   "cell_type": "code",
   "execution_count": null,
   "id": "f705cde4-ab71-4ff9-b8c2-b6fbf4fde6cc",
   "metadata": {},
   "outputs": [],
   "source": [
    "_m"
   ]
  },
  {
   "cell_type": "markdown",
   "id": "2a06598a-c0b6-4ddb-954c-96a3a989072b",
   "metadata": {
    "tags": []
   },
   "source": [
    "# LA Metro Projects\n",
    "\n",
    "* NoHo-Pas BRT to only briefly use SR134, light delay\n",
    "* As per sheet, NSFV improvements only intersect SHN\n",
    "* Inglewood connector, Arbor Vitae not on SHN...\n",
    "* Games Route Network, etc unable to analyze"
   ]
  },
  {
   "cell_type": "code",
   "execution_count": null,
   "id": "0d6e81ac-7fe7-40ba-8127-4ed9502c48bd",
   "metadata": {
    "tags": [
     "parameters"
    ]
   },
   "outputs": [],
   "source": [
    "## parameters cell\n",
    "itp_id = 331"
   ]
  },
  {
   "cell_type": "code",
   "execution_count": null,
   "id": "5b991300-ff3d-4bc4-aea5-11f54240d9f3",
   "metadata": {},
   "outputs": [],
   "source": [
    "%%capture\n",
    "rt_day = rt_filter_map_plot.from_gcs(itp_id, analysis_date)"
   ]
  },
  {
   "cell_type": "code",
   "execution_count": null,
   "id": "c91fb1e6-52a3-4ecc-b74e-247d65c3325c",
   "metadata": {},
   "outputs": [],
   "source": [
    "%%capture_parameters\n",
    "organization_name = rt_day.organization_name\n",
    "organization_name"
   ]
  },
  {
   "cell_type": "code",
   "execution_count": null,
   "id": "1858dc3a-945f-40a9-a50a-2ba11b975414",
   "metadata": {},
   "outputs": [],
   "source": [
    "_m = rt_day.segment_speed_map()"
   ]
  },
  {
   "cell_type": "code",
   "execution_count": null,
   "id": "d6823854-162f-4cb3-9fbc-5941b7cc4fde",
   "metadata": {},
   "outputs": [],
   "source": [
    "rt_day.autocorridor(shape_id = 'p_497358', stop_seq_range = [0, 20])"
   ]
  },
  {
   "cell_type": "code",
   "execution_count": null,
   "id": "a3d2f3d4-2db1-46ec-8888-8cbf99a6c50c",
   "metadata": {},
   "outputs": [],
   "source": [
    "rt_day.corridor_stop_delays >> distinct(_.route_short_name)"
   ]
  },
  {
   "cell_type": "code",
   "execution_count": null,
   "id": "92879332-6e38-4ce7-b196-e471c90b8f5b",
   "metadata": {},
   "outputs": [],
   "source": [
    "rt_day.corridor_metrics()"
   ]
  },
  {
   "cell_type": "code",
   "execution_count": null,
   "id": "809a823f-d0d9-426b-ab7e-37cdd2bc7a4d",
   "metadata": {},
   "outputs": [],
   "source": [
    "rt_day.quick_map_corridor()"
   ]
  },
  {
   "cell_type": "code",
   "execution_count": null,
   "id": "1902d658-cfad-4951-b139-2a7242c88e97",
   "metadata": {},
   "outputs": [],
   "source": [
    "m = rt_day.segment_speed_map(how='low_speeds', no_title=False, shn=True, corridor=True)"
   ]
  },
  {
   "cell_type": "code",
   "execution_count": null,
   "id": "02d17c09-1ecb-460d-9caf-050de4183da9",
   "metadata": {},
   "outputs": [],
   "source": [
    "m"
   ]
  },
  {
   "cell_type": "markdown",
   "id": "6089133c-1d91-4965-9bfb-20269928511c",
   "metadata": {},
   "source": [
    "# Victor Valley\n",
    "\n",
    "* service runs, difficult to evaluate\n",
    "* 0.5/hour, limited span"
   ]
  },
  {
   "cell_type": "markdown",
   "id": "71e0341a-f722-4aef-afdb-c2e1ec15ee39",
   "metadata": {},
   "source": [
    "# Others\n",
    "\n",
    "* OCTA speculative, new services unable to eval"
   ]
  },
  {
   "cell_type": "markdown",
   "id": "b3900a52-45b5-4dd8-85f8-93830d4a0904",
   "metadata": {},
   "source": [
    "# OCTA SR39\n",
    "\n",
    "* multiple SHN sections, eval longest\n",
    "* about 5 trips/hour combined!"
   ]
  },
  {
   "cell_type": "code",
   "execution_count": null,
   "id": "005ea2f3-c8a8-4f76-9f81-9362726c7ba6",
   "metadata": {
    "tags": [
     "parameters"
    ]
   },
   "outputs": [],
   "source": [
    "## parameters cell\n",
    "itp_id = 235"
   ]
  },
  {
   "cell_type": "code",
   "execution_count": null,
   "id": "e97e5812-fa2c-492a-a051-1ae1d27ad154",
   "metadata": {},
   "outputs": [],
   "source": [
    "%%capture\n",
    "rt_day = rt_filter_map_plot.from_gcs(itp_id, analysis_date)"
   ]
  },
  {
   "cell_type": "code",
   "execution_count": null,
   "id": "650ddf4f-8e18-432b-9705-0d5b47548471",
   "metadata": {},
   "outputs": [],
   "source": [
    "%%capture_parameters\n",
    "organization_name = rt_day.organization_name\n",
    "organization_name"
   ]
  },
  {
   "cell_type": "code",
   "execution_count": null,
   "id": "40533ff5-5f14-48c7-bb87-95441ba6ed83",
   "metadata": {},
   "outputs": [],
   "source": [
    "_m = rt_day.segment_speed_map()"
   ]
  },
  {
   "cell_type": "code",
   "execution_count": null,
   "id": "186d49c5-dfdd-4975-90ca-e5aad861064a",
   "metadata": {},
   "outputs": [],
   "source": [
    "rt_day.autocorridor(shape_id = '2902', stop_seq_range = [5, 51])"
   ]
  },
  {
   "cell_type": "code",
   "execution_count": null,
   "id": "d9672f0f-5516-4abd-aff8-8add9460d677",
   "metadata": {},
   "outputs": [],
   "source": [
    "rt_day.corridor_stop_delays >> distinct(_.route_short_name)"
   ]
  },
  {
   "cell_type": "code",
   "execution_count": null,
   "id": "d48f18f9-c38f-4bcb-8531-8ebbd94a6e11",
   "metadata": {},
   "outputs": [],
   "source": [
    "rt_day.corridor_metrics()"
   ]
  },
  {
   "cell_type": "code",
   "execution_count": null,
   "id": "4289d0f7-f33f-4db4-a665-c1bb66f48a73",
   "metadata": {},
   "outputs": [],
   "source": [
    "rt_day.quick_map_corridor()"
   ]
  },
  {
   "cell_type": "code",
   "execution_count": null,
   "id": "73bdd5d5-e7c8-45f6-9c9b-c2b3b565feeb",
   "metadata": {},
   "outputs": [],
   "source": [
    "m = rt_day.segment_speed_map(how='low_speeds', no_title=False, shn=True, corridor=True)"
   ]
  },
  {
   "cell_type": "code",
   "execution_count": null,
   "id": "e5ab48bf-68bd-43a9-902e-8ed1713c022e",
   "metadata": {},
   "outputs": [],
   "source": [
    "m"
   ]
  },
  {
   "cell_type": "code",
   "execution_count": null,
   "id": "854eb7c9-b17b-4760-a60c-61e40183dfda",
   "metadata": {},
   "outputs": [],
   "source": [
    "all_corridors += [rt_day.corridor]"
   ]
  },
  {
   "cell_type": "code",
   "execution_count": null,
   "id": "c67c5765-7657-447d-8629-35cd37ab6c67",
   "metadata": {},
   "outputs": [],
   "source": []
  }
 ],
 "metadata": {
  "kernelspec": {
   "display_name": "Python 3 (ipykernel)",
   "language": "python",
   "name": "python3"
  },
  "language_info": {
   "codemirror_mode": {
    "name": "ipython",
    "version": 3
   },
   "file_extension": ".py",
   "mimetype": "text/x-python",
   "name": "python",
   "nbconvert_exporter": "python",
   "pygments_lexer": "ipython3",
   "version": "3.9.13"
  },
  "widgets": {
   "application/vnd.jupyter.widget-state+json": {
    "state": {},
    "version_major": 2,
    "version_minor": 0
   }
  }
 },
 "nbformat": 4,
 "nbformat_minor": 5
}
