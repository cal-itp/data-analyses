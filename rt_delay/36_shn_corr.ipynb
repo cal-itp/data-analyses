{
 "cells": [
  {
   "cell_type": "code",
   "execution_count": 1,
   "id": "46898b5c-b5cc-4096-ab68-8c3e42fab870",
   "metadata": {},
   "outputs": [
    {
     "ename": "ModuleNotFoundError",
     "evalue": "No module named 'build_speedmaps_index'",
     "output_type": "error",
     "traceback": [
      "\u001b[0;31m---------------------------------------------------------------------------\u001b[0m",
      "\u001b[0;31mModuleNotFoundError\u001b[0m                       Traceback (most recent call last)",
      "Cell \u001b[0;32mIn[1], line 19\u001b[0m\n\u001b[1;32m     17\u001b[0m \u001b[38;5;28;01mimport\u001b[39;00m \u001b[38;5;21;01mimportlib\u001b[39;00m\n\u001b[1;32m     18\u001b[0m \u001b[38;5;28;01mfrom\u001b[39;00m \u001b[38;5;21;01mrt_analysis\u001b[39;00m \u001b[38;5;28;01mimport\u001b[39;00m rt_filter_map_plot\n\u001b[0;32m---> 19\u001b[0m \u001b[38;5;28;01mimport\u001b[39;00m \u001b[38;5;21;01mbuild_speedmaps_index\u001b[39;00m\n\u001b[1;32m     21\u001b[0m \u001b[38;5;28;01mfrom\u001b[39;00m \u001b[38;5;21;01mIPython\u001b[39;00m\u001b[38;5;21;01m.\u001b[39;00m\u001b[38;5;21;01mdisplay\u001b[39;00m \u001b[38;5;28;01mimport\u001b[39;00m display, Markdown, Latex, HTML\n\u001b[1;32m     22\u001b[0m \u001b[38;5;28;01mimport\u001b[39;00m \u001b[38;5;21;01mjson\u001b[39;00m\n",
      "\u001b[0;31mModuleNotFoundError\u001b[0m: No module named 'build_speedmaps_index'"
     ]
    }
   ],
   "source": [
    "%%capture\n",
    "import warnings\n",
    "warnings.filterwarnings('ignore')\n",
    "\n",
    "import os\n",
    "os.environ[\"CALITP_BQ_MAX_BYTES\"] = str(800_000_000_000)\n",
    "import shared_utils\n",
    "\n",
    "from calitp_data_analysis.tables import tbls\n",
    "import calitp_data_analysis.magics\n",
    "\n",
    "from siuba import *\n",
    "import pandas as pd\n",
    "import geopandas as gpd\n",
    "\n",
    "import datetime as dt\n",
    "\n",
    "import importlib\n",
    "from rt_analysis import rt_filter_map_plot\n",
    "import build_speedmaps_index\n",
    "\n",
    "from IPython.display import display, Markdown, Latex, HTML\n",
    "import json"
   ]
  },
  {
   "cell_type": "code",
   "execution_count": 2,
   "id": "a639fd84-29ca-4678-b568-2b1022701e14",
   "metadata": {},
   "outputs": [],
   "source": [
    "analysis_date = dt.date(2023, 4, 12)"
   ]
  },
  {
   "cell_type": "code",
   "execution_count": 3,
   "id": "47c79d99-c82f-4e1e-b11e-2b1e83c13a1b",
   "metadata": {},
   "outputs": [
    {
     "name": "stdout",
     "output_type": "stream",
     "text": [
      "{\"human_date\": \"April 12 2023 (Wednesday)\"}\n"
     ]
    }
   ],
   "source": [
    "%%capture_parameters\n",
    "human_date = analysis_date.strftime('%B %d %Y (%A)')\n",
    "human_date"
   ]
  },
  {
   "cell_type": "code",
   "execution_count": 4,
   "id": "8352dcfe-9c50-46ee-9f80-3b912440968e",
   "metadata": {},
   "outputs": [],
   "source": [
    "from tqdm.notebook import tqdm"
   ]
  },
  {
   "cell_type": "markdown",
   "id": "8049ab71-3913-4d57-999d-95b56ec72387",
   "metadata": {},
   "source": [
    "# Frequent SHN Routes\n",
    "\n",
    "* quickly look for frequent transit routes using the State Highway Network\n",
    "* also evaluate applicable district-sourced ideas\n",
    "\n",
    "### CT Links:\n",
    "\n",
    "https://app.smartsheet.com/folders/whC3J79cMJCf3MqQ7MGv8pxHgQ3JQ68VwGQGwX21\n",
    "\n",
    "https://caltrans-my.sharepoint.com/:p:/g/personal/audrey_ogden_dot_ca_gov/EZbU16vBqYZHvrORsT-LzwsBBxJCZqfUPaKHmm5uqWmn_Q?e=4%3A4Ijf9v&CID=80D7A50B-5D1F-497F-8C92-9435B5782132&wdLOR=c3E29B53E-4F87-436E-BEDA-3F4281A53835\n"
   ]
  },
  {
   "cell_type": "markdown",
   "id": "52110155-d104-4043-8376-3f83e82a959a",
   "metadata": {},
   "source": [
    "# SFMTA"
   ]
  },
  {
   "cell_type": "code",
   "execution_count": 5,
   "id": "9f15ed6a-5ab7-4f57-9695-3f762781b74c",
   "metadata": {
    "tags": [
     "parameters"
    ]
   },
   "outputs": [],
   "source": [
    "## parameters cell\n",
    "itp_id = 282"
   ]
  },
  {
   "cell_type": "code",
   "execution_count": 6,
   "id": "e4cbefc6-9bbb-4989-85b7-1f31da17fcb8",
   "metadata": {},
   "outputs": [],
   "source": [
    "%%capture\n",
    "rt_day = rt_filter_map_plot.from_gcs(itp_id, analysis_date)"
   ]
  },
  {
   "cell_type": "code",
   "execution_count": 7,
   "id": "6c335d40-7a7b-4641-8a3d-c970b2823cdf",
   "metadata": {},
   "outputs": [
    {
     "name": "stdout",
     "output_type": "stream",
     "text": [
      "{\"organization_name\": \"City and County of San Francisco\"}\n"
     ]
    }
   ],
   "source": [
    "%%capture_parameters\n",
    "organization_name = rt_day.organization_name\n",
    "organization_name"
   ]
  },
  {
   "cell_type": "code",
   "execution_count": 8,
   "id": "5e2b6890-c4a6-4682-b0f5-9eb6373f431a",
   "metadata": {},
   "outputs": [],
   "source": [
    "rt_day.set_filter(route_names = ['43', '28', '29'])"
   ]
  },
  {
   "cell_type": "code",
   "execution_count": 9,
   "id": "864748d4-9187-4b85-b4a6-99f65e893dfd",
   "metadata": {},
   "outputs": [],
   "source": [
    "_m = rt_day.segment_speed_map()"
   ]
  },
  {
   "cell_type": "markdown",
   "id": "dc703f61-41d3-46bd-b3cf-986689a1bb91",
   "metadata": {},
   "source": [
    "## Muni Lombard"
   ]
  },
  {
   "cell_type": "code",
   "execution_count": 10,
   "id": "3d268204-d179-4c72-b27b-5002a3d99f08",
   "metadata": {},
   "outputs": [],
   "source": [
    "rt_day.autocorridor(shape_id = '2856', stop_seq_range = [27, 32])"
   ]
  },
  {
   "cell_type": "code",
   "execution_count": 11,
   "id": "ea3579c6-ec03-4572-9f5c-dad85807bfb2",
   "metadata": {},
   "outputs": [
    {
     "data": {
      "text/html": [
       "<div>\n",
       "<style scoped>\n",
       "    .dataframe tbody tr th:only-of-type {\n",
       "        vertical-align: middle;\n",
       "    }\n",
       "\n",
       "    .dataframe tbody tr th {\n",
       "        vertical-align: top;\n",
       "    }\n",
       "\n",
       "    .dataframe thead th {\n",
       "        text-align: right;\n",
       "    }\n",
       "</style>\n",
       "<table border=\"1\" class=\"dataframe\">\n",
       "  <thead>\n",
       "    <tr style=\"text-align: right;\">\n",
       "      <th></th>\n",
       "      <th>route_short_name</th>\n",
       "    </tr>\n",
       "  </thead>\n",
       "  <tbody>\n",
       "    <tr>\n",
       "      <th>0</th>\n",
       "      <td>43</td>\n",
       "    </tr>\n",
       "    <tr>\n",
       "      <th>1</th>\n",
       "      <td>30</td>\n",
       "    </tr>\n",
       "    <tr>\n",
       "      <th>2</th>\n",
       "      <td>90</td>\n",
       "    </tr>\n",
       "    <tr>\n",
       "      <th>3</th>\n",
       "      <td>49</td>\n",
       "    </tr>\n",
       "    <tr>\n",
       "      <th>4</th>\n",
       "      <td>91</td>\n",
       "    </tr>\n",
       "    <tr>\n",
       "      <th>5</th>\n",
       "      <td>28</td>\n",
       "    </tr>\n",
       "    <tr>\n",
       "      <th>6</th>\n",
       "      <td>22</td>\n",
       "    </tr>\n",
       "  </tbody>\n",
       "</table>\n",
       "</div>"
      ],
      "text/plain": [
       "  route_short_name\n",
       "0               43\n",
       "1               30\n",
       "2               90\n",
       "3               49\n",
       "4               91\n",
       "5               28\n",
       "6               22"
      ]
     },
     "execution_count": 11,
     "metadata": {},
     "output_type": "execute_result"
    }
   ],
   "source": [
    "rt_day.corridor_stop_delays >> distinct(_.route_short_name)"
   ]
  },
  {
   "cell_type": "code",
   "execution_count": 12,
   "id": "5831283d-385c-484a-9fa0-2a02f6f90e14",
   "metadata": {},
   "outputs": [
    {
     "name": "stdout",
     "output_type": "stream",
     "text": [
      "warning: filter set -- for SCCP/LPP reset filter first\n"
     ]
    },
    {
     "data": {
      "text/plain": [
       "{'schedule_metric_minutes': 727, 'speed_metric_minutes': 2664}"
      ]
     },
     "execution_count": 12,
     "metadata": {},
     "output_type": "execute_result"
    }
   ],
   "source": [
    "rt_day.corridor_metrics()"
   ]
  },
  {
   "cell_type": "code",
   "execution_count": 13,
   "id": "81055e2d-3a87-4912-b652-82eebe3235d4",
   "metadata": {},
   "outputs": [
    {
     "data": {
      "text/html": [
       "<div style=\"width:100%;\"><div style=\"position:relative;width:100%;height:0;padding-bottom:60%;\"><span style=\"color:#565656\">Make this Notebook Trusted to load map: File -> Trust Notebook</span><iframe src=\"about:blank\" style=\"position:absolute;width:100%;height:100%;left:0;top:0;border:none !important;\" data-html=%3C%21DOCTYPE%20html%3E%0A%3Chead%3E%20%20%20%20%0A%20%20%20%20%3Cmeta%20http-equiv%3D%22content-type%22%20content%3D%22text/html%3B%20charset%3DUTF-8%22%20/%3E%0A%20%20%20%20%0A%20%20%20%20%20%20%20%20%3Cscript%3E%0A%20%20%20%20%20%20%20%20%20%20%20%20L_NO_TOUCH%20%3D%20false%3B%0A%20%20%20%20%20%20%20%20%20%20%20%20L_DISABLE_3D%20%3D%20false%3B%0A%20%20%20%20%20%20%20%20%3C/script%3E%0A%20%20%20%20%0A%20%20%20%20%3Cstyle%3Ehtml%2C%20body%20%7Bwidth%3A%20100%25%3Bheight%3A%20100%25%3Bmargin%3A%200%3Bpadding%3A%200%3B%7D%3C/style%3E%0A%20%20%20%20%3Cstyle%3E%23map%20%7Bposition%3Aabsolute%3Btop%3A0%3Bbottom%3A0%3Bright%3A0%3Bleft%3A0%3B%7D%3C/style%3E%0A%20%20%20%20%3Cscript%20src%3D%22https%3A//cdn.jsdelivr.net/npm/leaflet%401.6.0/dist/leaflet.js%22%3E%3C/script%3E%0A%20%20%20%20%3Cscript%20src%3D%22https%3A//code.jquery.com/jquery-1.12.4.min.js%22%3E%3C/script%3E%0A%20%20%20%20%3Cscript%20src%3D%22https%3A//maxcdn.bootstrapcdn.com/bootstrap/3.2.0/js/bootstrap.min.js%22%3E%3C/script%3E%0A%20%20%20%20%3Cscript%20src%3D%22https%3A//cdnjs.cloudflare.com/ajax/libs/Leaflet.awesome-markers/2.0.2/leaflet.awesome-markers.js%22%3E%3C/script%3E%0A%20%20%20%20%3Clink%20rel%3D%22stylesheet%22%20href%3D%22https%3A//cdn.jsdelivr.net/npm/leaflet%401.6.0/dist/leaflet.css%22/%3E%0A%20%20%20%20%3Clink%20rel%3D%22stylesheet%22%20href%3D%22https%3A//maxcdn.bootstrapcdn.com/bootstrap/3.2.0/css/bootstrap.min.css%22/%3E%0A%20%20%20%20%3Clink%20rel%3D%22stylesheet%22%20href%3D%22https%3A//maxcdn.bootstrapcdn.com/bootstrap/3.2.0/css/bootstrap-theme.min.css%22/%3E%0A%20%20%20%20%3Clink%20rel%3D%22stylesheet%22%20href%3D%22https%3A//maxcdn.bootstrapcdn.com/font-awesome/4.6.3/css/font-awesome.min.css%22/%3E%0A%20%20%20%20%3Clink%20rel%3D%22stylesheet%22%20href%3D%22https%3A//cdnjs.cloudflare.com/ajax/libs/Leaflet.awesome-markers/2.0.2/leaflet.awesome-markers.css%22/%3E%0A%20%20%20%20%3Clink%20rel%3D%22stylesheet%22%20href%3D%22https%3A//cdn.jsdelivr.net/gh/python-visualization/folium/folium/templates/leaflet.awesome.rotate.min.css%22/%3E%0A%20%20%20%20%0A%20%20%20%20%20%20%20%20%20%20%20%20%3Cmeta%20name%3D%22viewport%22%20content%3D%22width%3Ddevice-width%2C%0A%20%20%20%20%20%20%20%20%20%20%20%20%20%20%20%20initial-scale%3D1.0%2C%20maximum-scale%3D1.0%2C%20user-scalable%3Dno%22%20/%3E%0A%20%20%20%20%20%20%20%20%20%20%20%20%3Cstyle%3E%0A%20%20%20%20%20%20%20%20%20%20%20%20%20%20%20%20%23map_2988197566434a03ae6a69d12e0c4d41%20%7B%0A%20%20%20%20%20%20%20%20%20%20%20%20%20%20%20%20%20%20%20%20position%3A%20relative%3B%0A%20%20%20%20%20%20%20%20%20%20%20%20%20%20%20%20%20%20%20%20width%3A%20100.0%25%3B%0A%20%20%20%20%20%20%20%20%20%20%20%20%20%20%20%20%20%20%20%20height%3A%20100.0%25%3B%0A%20%20%20%20%20%20%20%20%20%20%20%20%20%20%20%20%20%20%20%20left%3A%200.0%25%3B%0A%20%20%20%20%20%20%20%20%20%20%20%20%20%20%20%20%20%20%20%20top%3A%200.0%25%3B%0A%20%20%20%20%20%20%20%20%20%20%20%20%20%20%20%20%7D%0A%20%20%20%20%20%20%20%20%20%20%20%20%3C/style%3E%0A%20%20%20%20%20%20%20%20%0A%20%20%20%20%0A%20%20%20%20%20%20%20%20%20%20%20%20%20%20%20%20%20%20%20%20%3Cstyle%3E%0A%20%20%20%20%20%20%20%20%20%20%20%20%20%20%20%20%20%20%20%20%20%20%20%20.foliumtooltip%20%7B%0A%20%20%20%20%20%20%20%20%20%20%20%20%20%20%20%20%20%20%20%20%20%20%20%20%20%20%20%20%0A%20%20%20%20%20%20%20%20%20%20%20%20%20%20%20%20%20%20%20%20%20%20%20%20%7D%0A%20%20%20%20%20%20%20%20%20%20%20%20%20%20%20%20%20%20%20%20%20%20%20.foliumtooltip%20table%7B%0A%20%20%20%20%20%20%20%20%20%20%20%20%20%20%20%20%20%20%20%20%20%20%20%20%20%20%20%20margin%3A%20auto%3B%0A%20%20%20%20%20%20%20%20%20%20%20%20%20%20%20%20%20%20%20%20%20%20%20%20%7D%0A%20%20%20%20%20%20%20%20%20%20%20%20%20%20%20%20%20%20%20%20%20%20%20%20.foliumtooltip%20tr%7B%0A%20%20%20%20%20%20%20%20%20%20%20%20%20%20%20%20%20%20%20%20%20%20%20%20%20%20%20%20text-align%3A%20left%3B%0A%20%20%20%20%20%20%20%20%20%20%20%20%20%20%20%20%20%20%20%20%20%20%20%20%7D%0A%20%20%20%20%20%20%20%20%20%20%20%20%20%20%20%20%20%20%20%20%20%20%20%20.foliumtooltip%20th%7B%0A%20%20%20%20%20%20%20%20%20%20%20%20%20%20%20%20%20%20%20%20%20%20%20%20%20%20%20%20padding%3A%202px%3B%20padding-right%3A%208px%3B%0A%20%20%20%20%20%20%20%20%20%20%20%20%20%20%20%20%20%20%20%20%20%20%20%20%7D%0A%20%20%20%20%20%20%20%20%20%20%20%20%20%20%20%20%20%20%20%20%3C/style%3E%0A%20%20%20%20%20%20%20%20%20%20%20%20%0A%3C/head%3E%0A%3Cbody%3E%20%20%20%20%0A%20%20%20%20%0A%20%20%20%20%20%20%20%20%20%20%20%20%3Cdiv%20class%3D%22folium-map%22%20id%3D%22map_2988197566434a03ae6a69d12e0c4d41%22%20%3E%3C/div%3E%0A%20%20%20%20%20%20%20%20%0A%3C/body%3E%0A%3Cscript%3E%20%20%20%20%0A%20%20%20%20%0A%20%20%20%20%20%20%20%20%20%20%20%20var%20map_2988197566434a03ae6a69d12e0c4d41%20%3D%20L.map%28%0A%20%20%20%20%20%20%20%20%20%20%20%20%20%20%20%20%22map_2988197566434a03ae6a69d12e0c4d41%22%2C%0A%20%20%20%20%20%20%20%20%20%20%20%20%20%20%20%20%7B%0A%20%20%20%20%20%20%20%20%20%20%20%20%20%20%20%20%20%20%20%20center%3A%20%5B37.802728560304246%2C%20-122.44964335060126%5D%2C%0A%20%20%20%20%20%20%20%20%20%20%20%20%20%20%20%20%20%20%20%20crs%3A%20L.CRS.EPSG3857%2C%0A%20%20%20%20%20%20%20%20%20%20%20%20%20%20%20%20%20%20%20%20zoom%3A%2010%2C%0A%20%20%20%20%20%20%20%20%20%20%20%20%20%20%20%20%20%20%20%20zoomControl%3A%20true%2C%0A%20%20%20%20%20%20%20%20%20%20%20%20%20%20%20%20%20%20%20%20preferCanvas%3A%20false%2C%0A%20%20%20%20%20%20%20%20%20%20%20%20%20%20%20%20%7D%0A%20%20%20%20%20%20%20%20%20%20%20%20%29%3B%0A%20%20%20%20%20%20%20%20%20%20%20%20L.control.scale%28%29.addTo%28map_2988197566434a03ae6a69d12e0c4d41%29%3B%0A%0A%20%20%20%20%20%20%20%20%20%20%20%20%0A%0A%20%20%20%20%20%20%20%20%0A%20%20%20%20%0A%20%20%20%20%20%20%20%20%20%20%20%20var%20tile_layer_25505c4d85af431f9bec39abe8ddba76%20%3D%20L.tileLayer%28%0A%20%20%20%20%20%20%20%20%20%20%20%20%20%20%20%20%22https%3A//a.basemaps.cartocdn.com/light_all/%7Bz%7D/%7Bx%7D/%7By%7D%7Br%7D.png%22%2C%0A%20%20%20%20%20%20%20%20%20%20%20%20%20%20%20%20%7B%22attribution%22%3A%20%22%5Cu0026copy%3B%20%5Cu003ca%20href%3D%5C%22https%3A//www.openstreetmap.org/copyright%5C%22%5Cu003eOpenStreetMap%5Cu003c/a%5Cu003e%20contributors%20%5Cu0026copy%3B%20%5Cu003ca%20href%3D%5C%22https%3A//carto.com/attributions%5C%22%5Cu003eCARTO%5Cu003c/a%5Cu003e%22%2C%20%22detectRetina%22%3A%20false%2C%20%22maxNativeZoom%22%3A%2020%2C%20%22maxZoom%22%3A%2020%2C%20%22minZoom%22%3A%200%2C%20%22noWrap%22%3A%20false%2C%20%22opacity%22%3A%201%2C%20%22subdomains%22%3A%20%22abc%22%2C%20%22tms%22%3A%20false%7D%0A%20%20%20%20%20%20%20%20%20%20%20%20%29.addTo%28map_2988197566434a03ae6a69d12e0c4d41%29%3B%0A%20%20%20%20%20%20%20%20%0A%20%20%20%20%0A%20%20%20%20%20%20%20%20%20%20%20%20map_2988197566434a03ae6a69d12e0c4d41.fitBounds%28%0A%20%20%20%20%20%20%20%20%20%20%20%20%20%20%20%20%5B%5B37.79789612060849%2C%20-122.47587200000001%5D%2C%20%5B37.80756099999999%2C%20-122.42341470120252%5D%5D%2C%0A%20%20%20%20%20%20%20%20%20%20%20%20%20%20%20%20%7B%7D%0A%20%20%20%20%20%20%20%20%20%20%20%20%29%3B%0A%20%20%20%20%20%20%20%20%0A%20%20%20%20%0A%20%20%20%20%20%20%20%20function%20geo_json_7ccc6f06946c4394a249811ff21ae00f_styler%28feature%29%20%7B%0A%20%20%20%20%20%20%20%20%20%20%20%20switch%28feature.id%29%20%7B%0A%20%20%20%20%20%20%20%20%20%20%20%20%20%20%20%20default%3A%0A%20%20%20%20%20%20%20%20%20%20%20%20%20%20%20%20%20%20%20%20return%20%7B%22fillOpacity%22%3A%200.5%2C%20%22weight%22%3A%202%7D%3B%0A%20%20%20%20%20%20%20%20%20%20%20%20%7D%0A%20%20%20%20%20%20%20%20%7D%0A%20%20%20%20%20%20%20%20function%20geo_json_7ccc6f06946c4394a249811ff21ae00f_highlighter%28feature%29%20%7B%0A%20%20%20%20%20%20%20%20%20%20%20%20switch%28feature.id%29%20%7B%0A%20%20%20%20%20%20%20%20%20%20%20%20%20%20%20%20default%3A%0A%20%20%20%20%20%20%20%20%20%20%20%20%20%20%20%20%20%20%20%20return%20%7B%22fillOpacity%22%3A%200.75%7D%3B%0A%20%20%20%20%20%20%20%20%20%20%20%20%7D%0A%20%20%20%20%20%20%20%20%7D%0A%20%20%20%20%20%20%20%20function%20geo_json_7ccc6f06946c4394a249811ff21ae00f_pointToLayer%28feature%2C%20latlng%29%20%7B%0A%20%20%20%20%20%20%20%20%20%20%20%20var%20opts%20%3D%20%7B%22bubblingMouseEvents%22%3A%20true%2C%20%22color%22%3A%20%22%233388ff%22%2C%20%22dashArray%22%3A%20null%2C%20%22dashOffset%22%3A%20null%2C%20%22fill%22%3A%20true%2C%20%22fillColor%22%3A%20%22%233388ff%22%2C%20%22fillOpacity%22%3A%200.2%2C%20%22fillRule%22%3A%20%22evenodd%22%2C%20%22lineCap%22%3A%20%22round%22%2C%20%22lineJoin%22%3A%20%22round%22%2C%20%22opacity%22%3A%201.0%2C%20%22radius%22%3A%202%2C%20%22stroke%22%3A%20true%2C%20%22weight%22%3A%203%7D%3B%0A%20%20%20%20%20%20%20%20%20%20%20%20%0A%20%20%20%20%20%20%20%20%20%20%20%20let%20style%20%3D%20geo_json_7ccc6f06946c4394a249811ff21ae00f_styler%28feature%29%0A%20%20%20%20%20%20%20%20%20%20%20%20Object.assign%28opts%2C%20style%29%0A%20%20%20%20%20%20%20%20%20%20%20%20%0A%20%20%20%20%20%20%20%20%20%20%20%20return%20new%20L.CircleMarker%28latlng%2C%20opts%29%0A%20%20%20%20%20%20%20%20%7D%0A%0A%20%20%20%20%20%20%20%20function%20geo_json_7ccc6f06946c4394a249811ff21ae00f_onEachFeature%28feature%2C%20layer%29%20%7B%0A%20%20%20%20%20%20%20%20%20%20%20%20layer.on%28%7B%0A%20%20%20%20%20%20%20%20%20%20%20%20%20%20%20%20mouseout%3A%20function%28e%29%20%7B%0A%20%20%20%20%20%20%20%20%20%20%20%20%20%20%20%20%20%20%20%20if%28typeof%20e.target.setStyle%20%3D%3D%3D%20%22function%22%29%7B%0A%20%20%20%20%20%20%20%20%20%20%20%20%20%20%20%20%20%20%20%20%20%20%20%20geo_json_7ccc6f06946c4394a249811ff21ae00f.resetStyle%28e.target%29%3B%0A%20%20%20%20%20%20%20%20%20%20%20%20%20%20%20%20%20%20%20%20%7D%0A%20%20%20%20%20%20%20%20%20%20%20%20%20%20%20%20%7D%2C%0A%20%20%20%20%20%20%20%20%20%20%20%20%20%20%20%20mouseover%3A%20function%28e%29%20%7B%0A%20%20%20%20%20%20%20%20%20%20%20%20%20%20%20%20%20%20%20%20if%28typeof%20e.target.setStyle%20%3D%3D%3D%20%22function%22%29%7B%0A%20%20%20%20%20%20%20%20%20%20%20%20%20%20%20%20%20%20%20%20%20%20%20%20const%20highlightStyle%20%3D%20geo_json_7ccc6f06946c4394a249811ff21ae00f_highlighter%28e.target.feature%29%0A%20%20%20%20%20%20%20%20%20%20%20%20%20%20%20%20%20%20%20%20%20%20%20%20e.target.setStyle%28highlightStyle%29%3B%0A%20%20%20%20%20%20%20%20%20%20%20%20%20%20%20%20%20%20%20%20%7D%0A%20%20%20%20%20%20%20%20%20%20%20%20%20%20%20%20%7D%2C%0A%20%20%20%20%20%20%20%20%20%20%20%20%7D%29%3B%0A%20%20%20%20%20%20%20%20%7D%3B%0A%20%20%20%20%20%20%20%20var%20geo_json_7ccc6f06946c4394a249811ff21ae00f%20%3D%20L.geoJson%28null%2C%20%7B%0A%20%20%20%20%20%20%20%20%20%20%20%20%20%20%20%20onEachFeature%3A%20geo_json_7ccc6f06946c4394a249811ff21ae00f_onEachFeature%2C%0A%20%20%20%20%20%20%20%20%20%20%20%20%0A%20%20%20%20%20%20%20%20%20%20%20%20%20%20%20%20style%3A%20geo_json_7ccc6f06946c4394a249811ff21ae00f_styler%2C%0A%20%20%20%20%20%20%20%20%20%20%20%20%20%20%20%20pointToLayer%3A%20geo_json_7ccc6f06946c4394a249811ff21ae00f_pointToLayer%0A%20%20%20%20%20%20%20%20%7D%29%3B%0A%0A%20%20%20%20%20%20%20%20function%20geo_json_7ccc6f06946c4394a249811ff21ae00f_add%20%28data%29%20%7B%0A%20%20%20%20%20%20%20%20%20%20%20%20geo_json_7ccc6f06946c4394a249811ff21ae00f%0A%20%20%20%20%20%20%20%20%20%20%20%20%20%20%20%20.addData%28data%29%0A%20%20%20%20%20%20%20%20%20%20%20%20%20%20%20%20.addTo%28map_2988197566434a03ae6a69d12e0c4d41%29%3B%0A%20%20%20%20%20%20%20%20%7D%0A%20%20%20%20%20%20%20%20%20%20%20%20geo_json_7ccc6f06946c4394a249811ff21ae00f_add%28%7B%22bbox%22%3A%20%5B-122.47587200000001%2C%2037.79789612060849%2C%20-122.42341470120252%2C%2037.80756099999999%5D%2C%20%22features%22%3A%20%5B%7B%22bbox%22%3A%20%5B-122.425351%2C%2037.80506300000001%2C%20-122.425351%2C%2037.80506300000001%5D%2C%20%22geometry%22%3A%20%7B%22coordinates%22%3A%20%5B-122.425351%2C%2037.80506300000001%5D%2C%20%22type%22%3A%20%22Point%22%7D%2C%20%22id%22%3A%20%226%22%2C%20%22properties%22%3A%20%7B%22agency%22%3A%20null%2C%20%22routes_included%22%3A%20null%2C%20%22schedule_metric_minutes%22%3A%20null%2C%20%22shape_id%22%3A%20%222808%22%2C%20%22speed_metric_minutes%22%3A%20null%2C%20%22stop_id%22%3A%20%2216819%22%2C%20%22stop_sequence%22%3A%207.0%7D%2C%20%22type%22%3A%20%22Feature%22%7D%2C%20%7B%22bbox%22%3A%20%5B-122.424905%2C%2037.802431%2C%20-122.424905%2C%2037.802431%5D%2C%20%22geometry%22%3A%20%7B%22coordinates%22%3A%20%5B-122.424905%2C%2037.802431%5D%2C%20%22type%22%3A%20%22Point%22%7D%2C%20%22id%22%3A%20%227%22%2C%20%22properties%22%3A%20%7B%22agency%22%3A%20null%2C%20%22routes_included%22%3A%20null%2C%20%22schedule_metric_minutes%22%3A%20null%2C%20%22shape_id%22%3A%20%222808%22%2C%20%22speed_metric_minutes%22%3A%20null%2C%20%22stop_id%22%3A%20%2216801%22%2C%20%22stop_sequence%22%3A%208.0%7D%2C%20%22type%22%3A%20%22Feature%22%7D%2C%20%7B%22bbox%22%3A%20%5B-122.42807000000002%2C%2037.80094199999999%2C%20-122.42807000000002%2C%2037.80094199999999%5D%2C%20%22geometry%22%3A%20%7B%22coordinates%22%3A%20%5B-122.42807000000002%2C%2037.80094199999999%5D%2C%20%22type%22%3A%20%22Point%22%7D%2C%20%22id%22%3A%20%228%22%2C%20%22properties%22%3A%20%7B%22agency%22%3A%20null%2C%20%22routes_included%22%3A%20null%2C%20%22schedule_metric_minutes%22%3A%20null%2C%20%22shape_id%22%3A%20%222808%22%2C%20%22speed_metric_minutes%22%3A%20null%2C%20%22stop_id%22%3A%20%2217800%22%2C%20%22stop_sequence%22%3A%209.0%7D%2C%20%22type%22%3A%20%22Feature%22%7D%2C%20%7B%22bbox%22%3A%20%5B-122.431326%2C%2037.80050500000001%2C%20-122.431326%2C%2037.80050500000001%5D%2C%20%22geometry%22%3A%20%7B%22coordinates%22%3A%20%5B-122.431326%2C%2037.80050500000001%5D%2C%20%22type%22%3A%20%22Point%22%7D%2C%20%22id%22%3A%20%229%22%2C%20%22properties%22%3A%20%7B%22agency%22%3A%20null%2C%20%22routes_included%22%3A%20null%2C%20%22schedule_metric_minutes%22%3A%20null%2C%20%22shape_id%22%3A%20%222808%22%2C%20%22speed_metric_minutes%22%3A%20null%2C%20%22stop_id%22%3A%20%2215280%22%2C%20%22stop_sequence%22%3A%2010.0%7D%2C%20%22type%22%3A%20%22Feature%22%7D%2C%20%7B%22bbox%22%3A%20%5B-122.436268%2C%2037.799845000000005%2C%20-122.436268%2C%2037.799845000000005%5D%2C%20%22geometry%22%3A%20%7B%22coordinates%22%3A%20%5B-122.436268%2C%2037.799845000000005%5D%2C%20%22type%22%3A%20%22Point%22%7D%2C%20%22id%22%3A%20%2210%22%2C%20%22properties%22%3A%20%7B%22agency%22%3A%20null%2C%20%22routes_included%22%3A%20null%2C%20%22schedule_metric_minutes%22%3A%20null%2C%20%22shape_id%22%3A%20%222808%22%2C%20%22speed_metric_minutes%22%3A%20null%2C%20%22stop_id%22%3A%20%2215275%22%2C%20%22stop_sequence%22%3A%2011.0%7D%2C%20%22type%22%3A%20%22Feature%22%7D%2C%20%7B%22bbox%22%3A%20%5B-122.439559%2C%2037.79948000000002%2C%20-122.439559%2C%2037.79948000000002%5D%2C%20%22geometry%22%3A%20%7B%22coordinates%22%3A%20%5B-122.439559%2C%2037.79948000000002%5D%2C%20%22type%22%3A%20%22Point%22%7D%2C%20%22id%22%3A%20%2211%22%2C%20%22properties%22%3A%20%7B%22agency%22%3A%20null%2C%20%22routes_included%22%3A%20null%2C%20%22schedule_metric_minutes%22%3A%20null%2C%20%22shape_id%22%3A%20%222808%22%2C%20%22speed_metric_minutes%22%3A%20null%2C%20%22stop_id%22%3A%20%2215285%22%2C%20%22stop_sequence%22%3A%2012.0%7D%2C%20%22type%22%3A%20%22Feature%22%7D%2C%20%7B%22bbox%22%3A%20%5B-122.44286100000001%2C%2037.79907799999999%2C%20-122.44286100000001%2C%2037.79907799999999%5D%2C%20%22geometry%22%3A%20%7B%22coordinates%22%3A%20%5B-122.44286100000001%2C%2037.79907799999999%5D%2C%20%22type%22%3A%20%22Point%22%7D%2C%20%22id%22%3A%20%2212%22%2C%20%22properties%22%3A%20%7B%22agency%22%3A%20null%2C%20%22routes_included%22%3A%20null%2C%20%22schedule_metric_minutes%22%3A%20null%2C%20%22shape_id%22%3A%20%222808%22%2C%20%22speed_metric_minutes%22%3A%20null%2C%20%22stop_id%22%3A%20%2215273%22%2C%20%22stop_sequence%22%3A%2013.0%7D%2C%20%22type%22%3A%20%22Feature%22%7D%2C%20%7B%22bbox%22%3A%20%5B-122.446954%2C%2037.80032799999998%2C%20-122.446954%2C%2037.80032799999998%5D%2C%20%22geometry%22%3A%20%7B%22coordinates%22%3A%20%5B-122.446954%2C%2037.80032799999998%5D%2C%20%22type%22%3A%20%22Point%22%7D%2C%20%22id%22%3A%20%2213%22%2C%20%22properties%22%3A%20%7B%22agency%22%3A%20null%2C%20%22routes_included%22%3A%20null%2C%20%22schedule_metric_minutes%22%3A%20null%2C%20%22shape_id%22%3A%20%222808%22%2C%20%22speed_metric_minutes%22%3A%20null%2C%20%22stop_id%22%3A%20%2216182%22%2C%20%22stop_sequence%22%3A%2014.0%7D%2C%20%22type%22%3A%20%22Feature%22%7D%2C%20%7B%22bbox%22%3A%20%5B-122.475024%2C%2037.80756099999999%2C%20-122.475024%2C%2037.80756099999999%5D%2C%20%22geometry%22%3A%20%7B%22coordinates%22%3A%20%5B-122.475024%2C%2037.80756099999999%5D%2C%20%22type%22%3A%20%22Point%22%7D%2C%20%22id%22%3A%20%2214%22%2C%20%22properties%22%3A%20%7B%22agency%22%3A%20null%2C%20%22routes_included%22%3A%20null%2C%20%22schedule_metric_minutes%22%3A%20null%2C%20%22shape_id%22%3A%20%222808%22%2C%20%22speed_metric_minutes%22%3A%20null%2C%20%22stop_id%22%3A%20%2214773%22%2C%20%22stop_sequence%22%3A%2015.0%7D%2C%20%22type%22%3A%20%22Feature%22%7D%2C%20%7B%22bbox%22%3A%20%5B-122.447137%2C%2037.798417999999984%2C%20-122.447137%2C%2037.798417999999984%5D%2C%20%22geometry%22%3A%20%7B%22coordinates%22%3A%20%5B-122.447137%2C%2037.798417999999984%5D%2C%20%22type%22%3A%20%22Point%22%7D%2C%20%22id%22%3A%20%22116%22%2C%20%22properties%22%3A%20%7B%22agency%22%3A%20null%2C%20%22routes_included%22%3A%20null%2C%20%22schedule_metric_minutes%22%3A%20null%2C%20%22shape_id%22%3A%20%224350%22%2C%20%22speed_metric_minutes%22%3A%20null%2C%20%22stop_id%22%3A%20%2215283%22%2C%20%22stop_sequence%22%3A%2081.0%7D%2C%20%22type%22%3A%20%22Feature%22%7D%2C%20%7B%22bbox%22%3A%20%5B-122.445108%2C%2037.79866799999999%2C%20-122.445108%2C%2037.79866799999999%5D%2C%20%22geometry%22%3A%20%7B%22coordinates%22%3A%20%5B-122.445108%2C%2037.79866799999999%5D%2C%20%22type%22%3A%20%22Point%22%7D%2C%20%22id%22%3A%20%22117%22%2C%20%22properties%22%3A%20%7B%22agency%22%3A%20null%2C%20%22routes_included%22%3A%20null%2C%20%22schedule_metric_minutes%22%3A%20null%2C%20%22shape_id%22%3A%20%224350%22%2C%20%22speed_metric_minutes%22%3A%20null%2C%20%22stop_id%22%3A%20%2217028%22%2C%20%22stop_sequence%22%3A%2082.0%7D%2C%20%22type%22%3A%20%22Feature%22%7D%2C%20%7B%22bbox%22%3A%20%5B-122.44248200000001%2C%2037.79897099999994%2C%20-122.44248200000001%2C%2037.79897099999994%5D%2C%20%22geometry%22%3A%20%7B%22coordinates%22%3A%20%5B-122.44248200000001%2C%2037.79897099999994%5D%2C%20%22type%22%3A%20%22Point%22%7D%2C%20%22id%22%3A%20%22118%22%2C%20%22properties%22%3A%20%7B%22agency%22%3A%20null%2C%20%22routes_included%22%3A%20null%2C%20%22schedule_metric_minutes%22%3A%20null%2C%20%22shape_id%22%3A%20%224350%22%2C%20%22speed_metric_minutes%22%3A%20null%2C%20%22stop_id%22%3A%20%2215272%22%2C%20%22stop_sequence%22%3A%2083.0%7D%2C%20%22type%22%3A%20%22Feature%22%7D%2C%20%7B%22bbox%22%3A%20%5B-122.439157%2C%2037.79939900000001%2C%20-122.439157%2C%2037.79939900000001%5D%2C%20%22geometry%22%3A%20%7B%22coordinates%22%3A%20%5B-122.439157%2C%2037.79939900000001%5D%2C%20%22type%22%3A%20%22Point%22%7D%2C%20%22id%22%3A%20%22119%22%2C%20%22properties%22%3A%20%7B%22agency%22%3A%20null%2C%20%22routes_included%22%3A%20null%2C%20%22schedule_metric_minutes%22%3A%20null%2C%20%22shape_id%22%3A%20%224350%22%2C%20%22speed_metric_minutes%22%3A%20null%2C%20%22stop_id%22%3A%20%2215284%22%2C%20%22stop_sequence%22%3A%2084.0%7D%2C%20%22type%22%3A%20%22Feature%22%7D%2C%20%7B%22bbox%22%3A%20%5B-122.435878%2C%2037.79981800000003%2C%20-122.435878%2C%2037.79981800000003%5D%2C%20%22geometry%22%3A%20%7B%22coordinates%22%3A%20%5B-122.435878%2C%2037.79981800000003%5D%2C%20%22type%22%3A%20%22Point%22%7D%2C%20%22id%22%3A%20%22120%22%2C%20%22properties%22%3A%20%7B%22agency%22%3A%20null%2C%20%22routes_included%22%3A%20null%2C%20%22schedule_metric_minutes%22%3A%20null%2C%20%22shape_id%22%3A%20%224350%22%2C%20%22speed_metric_minutes%22%3A%20null%2C%20%22stop_id%22%3A%20%2215274%22%2C%20%22stop_sequence%22%3A%2085.0%7D%2C%20%22type%22%3A%20%22Feature%22%7D%2C%20%7B%22bbox%22%3A%20%5B-122.43123%2C%2037.80134999999995%2C%20-122.43123%2C%2037.80134999999995%5D%2C%20%22geometry%22%3A%20%7B%22coordinates%22%3A%20%5B-122.43123%2C%2037.80134999999995%5D%2C%20%22type%22%3A%20%22Point%22%7D%2C%20%22id%22%3A%20%22121%22%2C%20%22properties%22%3A%20%7B%22agency%22%3A%20null%2C%20%22routes_included%22%3A%20null%2C%20%22schedule_metric_minutes%22%3A%20null%2C%20%22shape_id%22%3A%20%224350%22%2C%20%22speed_metric_minutes%22%3A%20null%2C%20%22stop_id%22%3A%20%2215258%22%2C%20%22stop_sequence%22%3A%2086.0%7D%2C%20%22type%22%3A%20%22Feature%22%7D%2C%20%7B%22bbox%22%3A%20%5B-122.43333999999999%2C%2037.803430000000006%2C%20-122.43333999999999%2C%2037.803430000000006%5D%2C%20%22geometry%22%3A%20%7B%22coordinates%22%3A%20%5B-122.43333999999999%2C%2037.803430000000006%5D%2C%20%22type%22%3A%20%22Point%22%7D%2C%20%22id%22%3A%20%22122%22%2C%20%22properties%22%3A%20%7B%22agency%22%3A%20null%2C%20%22routes_included%22%3A%20null%2C%20%22schedule_metric_minutes%22%3A%20null%2C%20%22shape_id%22%3A%20%224350%22%2C%20%22speed_metric_minutes%22%3A%20null%2C%20%22stop_id%22%3A%20%2213794%22%2C%20%22stop_sequence%22%3A%2087.0%7D%2C%20%22type%22%3A%20%22Feature%22%7D%2C%20%7B%22bbox%22%3A%20%5B-122.43141800000001%2C%2037.801513%2C%20-122.43141800000001%2C%2037.801513%5D%2C%20%22geometry%22%3A%20%7B%22coordinates%22%3A%20%5B-122.43141800000001%2C%2037.801513%5D%2C%20%22type%22%3A%20%22Point%22%7D%2C%20%22id%22%3A%20%22296%22%2C%20%22properties%22%3A%20%7B%22agency%22%3A%20null%2C%20%22routes_included%22%3A%20null%2C%20%22schedule_metric_minutes%22%3A%20null%2C%20%22shape_id%22%3A%20%224300%22%2C%20%22speed_metric_minutes%22%3A%20null%2C%20%22stop_id%22%3A%20%2215257%22%2C%20%22stop_sequence%22%3A%202.0%7D%2C%20%22type%22%3A%20%22Feature%22%7D%2C%20%7B%22bbox%22%3A%20%5B-122.436268%2C%2037.799845000000005%2C%20-122.436268%2C%2037.799845000000005%5D%2C%20%22geometry%22%3A%20%7B%22coordinates%22%3A%20%5B-122.436268%2C%2037.799845000000005%5D%2C%20%22type%22%3A%20%22Point%22%7D%2C%20%22id%22%3A%20%22297%22%2C%20%22properties%22%3A%20%7B%22agency%22%3A%20null%2C%20%22routes_included%22%3A%20null%2C%20%22schedule_metric_minutes%22%3A%20null%2C%20%22shape_id%22%3A%20%224300%22%2C%20%22speed_metric_minutes%22%3A%20null%2C%20%22stop_id%22%3A%20%2215275%22%2C%20%22stop_sequence%22%3A%203.0%7D%2C%20%22type%22%3A%20%22Feature%22%7D%2C%20%7B%22bbox%22%3A%20%5B-122.439559%2C%2037.79948000000002%2C%20-122.439559%2C%2037.79948000000002%5D%2C%20%22geometry%22%3A%20%7B%22coordinates%22%3A%20%5B-122.439559%2C%2037.79948000000002%5D%2C%20%22type%22%3A%20%22Point%22%7D%2C%20%22id%22%3A%20%22298%22%2C%20%22properties%22%3A%20%7B%22agency%22%3A%20null%2C%20%22routes_included%22%3A%20null%2C%20%22schedule_metric_minutes%22%3A%20null%2C%20%22shape_id%22%3A%20%224300%22%2C%20%22speed_metric_minutes%22%3A%20null%2C%20%22stop_id%22%3A%20%2215285%22%2C%20%22stop_sequence%22%3A%204.0%7D%2C%20%22type%22%3A%20%22Feature%22%7D%2C%20%7B%22bbox%22%3A%20%5B-122.44286100000001%2C%2037.79907799999999%2C%20-122.44286100000001%2C%2037.79907799999999%5D%2C%20%22geometry%22%3A%20%7B%22coordinates%22%3A%20%5B-122.44286100000001%2C%2037.79907799999999%5D%2C%20%22type%22%3A%20%22Point%22%7D%2C%20%22id%22%3A%20%22299%22%2C%20%22properties%22%3A%20%7B%22agency%22%3A%20null%2C%20%22routes_included%22%3A%20null%2C%20%22schedule_metric_minutes%22%3A%20null%2C%20%22shape_id%22%3A%20%224300%22%2C%20%22speed_metric_minutes%22%3A%20null%2C%20%22stop_id%22%3A%20%2215273%22%2C%20%22stop_sequence%22%3A%205.0%7D%2C%20%22type%22%3A%20%22Feature%22%7D%2C%20%7B%22bbox%22%3A%20%5B-122.44716000000001%2C%2037.798542999999995%2C%20-122.44716000000001%2C%2037.798542999999995%5D%2C%20%22geometry%22%3A%20%7B%22coordinates%22%3A%20%5B-122.44716000000001%2C%2037.798542999999995%5D%2C%20%22type%22%3A%20%22Point%22%7D%2C%20%22id%22%3A%20%22300%22%2C%20%22properties%22%3A%20%7B%22agency%22%3A%20null%2C%20%22routes_included%22%3A%20null%2C%20%22schedule_metric_minutes%22%3A%20null%2C%20%22shape_id%22%3A%20%224300%22%2C%20%22speed_metric_minutes%22%3A%20null%2C%20%22stop_id%22%3A%20%2215282%22%2C%20%22stop_sequence%22%3A%206.0%7D%2C%20%22type%22%3A%20%22Feature%22%7D%2C%20%7B%22bbox%22%3A%20%5B-122.47587200000001%2C%2037.806668%2C%20-122.47587200000001%2C%2037.806668%5D%2C%20%22geometry%22%3A%20%7B%22coordinates%22%3A%20%5B-122.47587200000001%2C%2037.806668%5D%2C%20%22type%22%3A%20%22Point%22%7D%2C%20%22id%22%3A%20%22402%22%2C%20%22properties%22%3A%20%7B%22agency%22%3A%20null%2C%20%22routes_included%22%3A%20null%2C%20%22schedule_metric_minutes%22%3A%20null%2C%20%22shape_id%22%3A%20%222856%22%2C%20%22speed_metric_minutes%22%3A%20null%2C%20%22stop_id%22%3A%20%2214776%22%2C%20%22stop_sequence%22%3A%2025.0%7D%2C%20%22type%22%3A%20%22Feature%22%7D%2C%20%7B%22bbox%22%3A%20%5B-122.447447%2C%2037.80040800000001%2C%20-122.447447%2C%2037.80040800000001%5D%2C%20%22geometry%22%3A%20%7B%22coordinates%22%3A%20%5B-122.447447%2C%2037.80040800000001%5D%2C%20%22type%22%3A%20%22Point%22%7D%2C%20%22id%22%3A%20%22403%22%2C%20%22properties%22%3A%20%7B%22agency%22%3A%20null%2C%20%22routes_included%22%3A%20null%2C%20%22schedule_metric_minutes%22%3A%20null%2C%20%22shape_id%22%3A%20%222856%22%2C%20%22speed_metric_minutes%22%3A%20null%2C%20%22stop_id%22%3A%20%2216181%22%2C%20%22stop_sequence%22%3A%2026.0%7D%2C%20%22type%22%3A%20%22Feature%22%7D%2C%20%7B%22bbox%22%3A%20%5B-122.44248200000001%2C%2037.79897099999994%2C%20-122.44248200000001%2C%2037.79897099999994%5D%2C%20%22geometry%22%3A%20%7B%22coordinates%22%3A%20%5B-122.44248200000001%2C%2037.79897099999994%5D%2C%20%22type%22%3A%20%22Point%22%7D%2C%20%22id%22%3A%20%22404%22%2C%20%22properties%22%3A%20%7B%22agency%22%3A%20null%2C%20%22routes_included%22%3A%20null%2C%20%22schedule_metric_minutes%22%3A%20null%2C%20%22shape_id%22%3A%20%222856%22%2C%20%22speed_metric_minutes%22%3A%20null%2C%20%22stop_id%22%3A%20%2215272%22%2C%20%22stop_sequence%22%3A%2027.0%7D%2C%20%22type%22%3A%20%22Feature%22%7D%2C%20%7B%22bbox%22%3A%20%5B-122.439157%2C%2037.79939900000001%2C%20-122.439157%2C%2037.79939900000001%5D%2C%20%22geometry%22%3A%20%7B%22coordinates%22%3A%20%5B-122.439157%2C%2037.79939900000001%5D%2C%20%22type%22%3A%20%22Point%22%7D%2C%20%22id%22%3A%20%22405%22%2C%20%22properties%22%3A%20%7B%22agency%22%3A%20null%2C%20%22routes_included%22%3A%20null%2C%20%22schedule_metric_minutes%22%3A%20null%2C%20%22shape_id%22%3A%20%222856%22%2C%20%22speed_metric_minutes%22%3A%20null%2C%20%22stop_id%22%3A%20%2215284%22%2C%20%22stop_sequence%22%3A%2028.0%7D%2C%20%22type%22%3A%20%22Feature%22%7D%2C%20%7B%22bbox%22%3A%20%5B-122.435878%2C%2037.79981800000003%2C%20-122.435878%2C%2037.79981800000003%5D%2C%20%22geometry%22%3A%20%7B%22coordinates%22%3A%20%5B-122.435878%2C%2037.79981800000003%5D%2C%20%22type%22%3A%20%22Point%22%7D%2C%20%22id%22%3A%20%22406%22%2C%20%22properties%22%3A%20%7B%22agency%22%3A%20null%2C%20%22routes_included%22%3A%20null%2C%20%22schedule_metric_minutes%22%3A%20null%2C%20%22shape_id%22%3A%20%222856%22%2C%20%22speed_metric_minutes%22%3A%20null%2C%20%22stop_id%22%3A%20%2215274%22%2C%20%22stop_sequence%22%3A%2029.0%7D%2C%20%22type%22%3A%20%22Feature%22%7D%2C%20%7B%22bbox%22%3A%20%5B-122.43093700000001%2C%2037.80044199999998%2C%20-122.43093700000001%2C%2037.80044199999998%5D%2C%20%22geometry%22%3A%20%7B%22coordinates%22%3A%20%5B-122.43093700000001%2C%2037.80044199999998%5D%2C%20%22type%22%3A%20%22Point%22%7D%2C%20%22id%22%3A%20%22407%22%2C%20%22properties%22%3A%20%7B%22agency%22%3A%20null%2C%20%22routes_included%22%3A%20null%2C%20%22schedule_metric_minutes%22%3A%20null%2C%20%22shape_id%22%3A%20%222856%22%2C%20%22speed_metric_minutes%22%3A%20null%2C%20%22stop_id%22%3A%20%2215281%22%2C%20%22stop_sequence%22%3A%2030.0%7D%2C%20%22type%22%3A%20%22Feature%22%7D%2C%20%7B%22bbox%22%3A%20%5B-122.42768000000001%2C%2037.800861000000026%2C%20-122.42768000000001%2C%2037.800861000000026%5D%2C%20%22geometry%22%3A%20%7B%22coordinates%22%3A%20%5B-122.42768000000001%2C%2037.800861000000026%5D%2C%20%22type%22%3A%20%22Point%22%7D%2C%20%22id%22%3A%20%22408%22%2C%20%22properties%22%3A%20%7B%22agency%22%3A%20null%2C%20%22routes_included%22%3A%20null%2C%20%22schedule_metric_minutes%22%3A%20null%2C%20%22shape_id%22%3A%20%222856%22%2C%20%22speed_metric_minutes%22%3A%20null%2C%20%22stop_id%22%3A%20%2217787%22%2C%20%22stop_sequence%22%3A%2031.0%7D%2C%20%22type%22%3A%20%22Feature%22%7D%2C%20%7B%22bbox%22%3A%20%5B-122.42464%2C%2037.80257999999999%2C%20-122.42464%2C%2037.80257999999999%5D%2C%20%22geometry%22%3A%20%7B%22coordinates%22%3A%20%5B-122.42464%2C%2037.80257999999999%5D%2C%20%22type%22%3A%20%22Point%22%7D%2C%20%22id%22%3A%20%22409%22%2C%20%22properties%22%3A%20%7B%22agency%22%3A%20null%2C%20%22routes_included%22%3A%20null%2C%20%22schedule_metric_minutes%22%3A%20null%2C%20%22shape_id%22%3A%20%222856%22%2C%20%22speed_metric_minutes%22%3A%20null%2C%20%22stop_id%22%3A%20%2216800%22%2C%20%22stop_sequence%22%3A%2032.0%7D%2C%20%22type%22%3A%20%22Feature%22%7D%2C%20%7B%22bbox%22%3A%20%5B-122.42499600000001%2C%2037.80428700000001%2C%20-122.42499600000001%2C%2037.80428700000001%5D%2C%20%22geometry%22%3A%20%7B%22coordinates%22%3A%20%5B-122.42499600000001%2C%2037.80428700000001%5D%2C%20%22type%22%3A%20%22Point%22%7D%2C%20%22id%22%3A%20%22410%22%2C%20%22properties%22%3A%20%7B%22agency%22%3A%20null%2C%20%22routes_included%22%3A%20null%2C%20%22schedule_metric_minutes%22%3A%20null%2C%20%22shape_id%22%3A%20%222856%22%2C%20%22speed_metric_minutes%22%3A%20null%2C%20%22stop_id%22%3A%20%2216806%22%2C%20%22stop_sequence%22%3A%2033.0%7D%2C%20%22type%22%3A%20%22Feature%22%7D%2C%20%7B%22bbox%22%3A%20%5B-122.44851776483293%2C%2037.79789612060849%2C%20-122.42341470120252%2C%2037.80345866487605%5D%2C%20%22geometry%22%3A%20%7B%22coordinates%22%3A%20%5B%5B%5B-122.43953314190229%2C%2037.80031767820891%5D%2C%20%5B-122.43947639848382%2C%2037.8003238865867%5D%2C%20%5B-122.43934893142496%2C%2037.800335253093635%5D%2C%20%5B-122.43789323488546%2C%2037.80052640503499%5D%2C%20%5B-122.43788704422059%2C%2037.80052720404017%5D%2C%20%5B-122.43623902520353%2C%2037.80073620651122%5D%2C%20%5B-122.43620548324822%2C%2037.80074005547614%5D%2C%20%5B-122.4360778212656%2C%2037.80075317144573%5D%2C%20%5B-122.43607101926422%2C%2037.800754049020306%5D%2C%20%5B-122.43460005659816%2C%2037.80094381883038%5D%2C%20%5B-122.43459747320273%2C%2037.800944149685826%5D%2C%20%5B-122.43295345423533%2C%2037.80115315215681%5D%2C%20%5B-122.4313083482782%2C%2037.80136216568183%5D%2C%20%5B-122.43124640432603%2C%2037.80136866008875%5D%2C%20%5B-122.43112375160327%2C%2037.80137881606573%5D%2C%20%5B-122.42966980211793%2C%2037.80157033075818%5D%2C%20%5B-122.42966252783415%2C%2037.80157126973056%5D%2C%20%5B-122.4280175088471%2C%2037.80177927219002%5D%2C%20%5B-122.42799620073382%2C%2037.80178180281095%5D%2C%20%5B-122.42787328964707%2C%2037.801795459607796%5D%2C%20%5B-122.42787193547161%2C%2037.801795633596775%5D%2C%20%5B-122.42637532347611%2C%2037.80198791351657%5D%2C%20%5B-122.4263728495851%2C%2037.801988229125584%5D%2C%20%5B-122.42584936326122%2C%2037.802054544230856%5D%2C%20%5B-122.42586598216046%2C%2037.80213875074398%5D%2C%20%5B-122.42592210067822%2C%2037.80239126707297%5D%2C%20%5B-122.42592603921229%2C%2037.802410167222476%5D%2C%20%5B-122.42592856351803%2C%2037.802423140094426%5D%2C%20%5B-122.42594010797673%2C%2037.80251094409635%5D%2C%20%5B-122.42594071616345%2C%2037.802599220323465%5D%2C%20%5B-122.42593038218256%2C%2037.80268711862765%5D%2C%20%5B-122.42590920551802%2C%2037.8027737924974%5D%2C%20%5B-122.42587739007702%2C%2037.80285840721021%5D%2C%20%5B-122.42583524222734%2C%2037.80294014787197%5D%2C%20%5B-122.42578316784834%2C%2037.80301822726463%5D%2C%20%5B-122.42572166842298%2C%2037.80309189342849%5D%2C%20%5B-122.4256513362092%2C%2037.803160436904186%5D%2C%20%5B-122.42557284853682%2C%2037.803223197565615%5D%2C%20%5B-122.42548696128452%2C%2037.80327957097818%5D%2C%20%5B-122.42539450160068%2C%2037.80332901422011%5D%2C%20%5B-122.42529635993685%2C%2037.80337105111179%5D%2C%20%5B-122.42519348147204%2C%2037.80340527680231%5D%2C%20%5B-122.42508685700898%2C%2037.803431361668665%5D%2C%20%5B-122.42497751343133%2C%2037.8034490544908%5D%2C%20%5B-122.42486650381296%2C%2037.80345818487113%5D%2C%20%5B-122.42475489727484%2C%2037.80345866487605%5D%2C%20%5B-122.42464376868746%2C%2037.803450489882586%5D%2C%20%5B-122.4245341883177%2C%2037.803433738623234%5D%2C%20%5B-122.42442721152015%2C%2037.80340857242748%5D%2C%20%5B-122.42432386857217%2C%2037.80337523366784%5D%2C%20%5B-122.4242251547503%2C%2037.80333404342541%5D%2C%20%5B-122.42413202074437%2C%2037.80328539839736%5D%2C%20%5B-122.42404536350087%2C%2037.80322976707574%5D%2C%20%5B-122.42396601758438%2C%2037.803167685235586%5D%2C%20%5B-122.42389474713987%2C%2037.80309975077416%5D%2C%20%5B-122.42383223853354%2C%2037.803026617952334%5D%2C%20%5B-122.42377909374314%2C%2037.80294899109332%5D%2C%20%5B-122.42373582456096%2C%2037.802867617798974%5D%2C%20%5B-122.423702847666%2C%2037.80278328174932%5D%2C%20%5B-122.42368048061194%2C%2037.80269679515543%5D%2C%20%5B-122.42367979846374%2C%2037.80269328893059%5D%2C%20%5B-122.42362389844772%2C%2037.802441721918264%5D%2C%20%5B-122.42362033413086%2C%2037.80242472859356%5D%2C%20%5B-122.42342734842806%2C%2037.80144672678743%5D%2C%20%5B-122.42341558490618%2C%2037.80135916400973%5D%2C%20%5B-122.42341470120252%2C%2037.80127111101817%5D%2C%20%5B-122.42342470574671%2C%2037.80118341155583%5D%2C%20%5B-122.42344550263543%2C%2037.80109690597558%5D%2C%20%5B-122.42347689255277%2C%2037.801012423187274%5D%2C%20%5B-122.42351857468154%2C%2037.80093077271531%5D%2C%20%5B-122.42357014958692%2C%2037.800852736941934%5D%2C%20%5B-122.42363112304513%2C%2037.80077906361054%5D%2C%20%5B-122.42370091077979%2C%2037.8007104586614%5D%2C%20%5B-122.4237788440614%2C%2037.800647579467395%5D%2C%20%5B-122.42386417611542%2C%2037.80059102853557%5D%2C%20%5B-122.42395608927814%2C%2037.800541347734566%5D%2C%20%5B-122.42405370283136%2C%2037.80049901310256%5D%2C%20%5B-122.42415608144123%2C%2037.80046443028664%5D%2C%20%5B-122.42426224411989%2C%2037.80043793065594%5D%2C%20%5B-122.42437117362462%2C%2037.80041976812711%5D%2C%20%5B-122.4260119175385%2C%2037.800211927309284%5D%2C%20%5B-122.42750725833221%2C%2037.80001981081351%5D%2C%20%5B-122.42752066343466%2C%2037.80001808848096%5D%2C%20%5B-122.42754480459647%2C%2037.80001519678408%5D%2C%20%5B-122.42766913406113%2C%2037.8000013824078%5D%2C%20%5B-122.4292998374374%2C%2037.79979519013495%5D%2C%20%5B-122.43076032151295%2C%2037.79960281473356%5D%2C%20%5B-122.43078418518465%2C%2037.799599671247606%5D%2C%20%5B-122.4308526003515%2C%2037.79959233962092%5D%2C%20%5B-122.43097851442954%2C%2037.79958191363236%5D%2C%20%5B-122.43259259352594%2C%2037.79937684202505%5D%2C%20%5B-122.43423523916341%2C%2037.79916801427222%5D%2C%20%5B-122.4357048765006%2C%2037.79897841554695%5D%2C%20%5B-122.43572993049676%2C%2037.7989751831525%5D%2C%20%5B-122.43576652194398%2C%2037.79897094414814%5D%2C%20%5B-122.43589571339164%2C%2037.798957671065935%5D%2C%20%5B-122.43752386339028%2C%2037.798751188411984%5D%2C%20%5B-122.4389808828353%2C%2037.798559862824355%5D%2C%20%5B-122.43900575243433%2C%2037.798556596960616%5D%2C%20%5B-122.43906460640078%2C%2037.79855011309255%5D%2C%20%5B-122.43919313464154%2C%2037.798538651992665%5D%2C%20%5B-122.44080458836744%2C%2037.7983294869375%5D%2C%20%5B-122.44230547182798%2C%2037.79813192489102%5D%2C%20%5B-122.44233031607524%2C%2037.79812865446331%5D%2C%20%5B-122.44240692996769%2C%2037.798120674556614%5D%2C%20%5B-122.44251561725777%2C%2037.79811231401249%5D%2C%20%5B-122.44415255204488%2C%2037.7979065949114%5D%2C%20%5B-122.44426338499885%2C%2037.79789704249867%5D%2C%20%5B-122.44437486780407%2C%2037.79789612060849%5D%2C%20%5B-122.44476786310065%2C%2037.79790812046492%5D%2C%20%5B-122.44488618866401%2C%2037.79791664666415%5D%2C%20%5B-122.44500274381564%2C%2037.797934891973384%5D%2C%20%5B-122.44511625626586%2C%2037.797962657231174%5D%2C%20%5B-122.44522548693492%2C%2037.7979996393584%5D%2C%20%5B-122.44532924347736%2C%2037.79804543466621%5D%2C%20%5B-122.44542639329634%2C%2037.798099543262076%5D%2C%20%5B-122.4466700930984%2C%2037.79887214029138%5D%2C%20%5B-122.44689261305608%2C%2037.79900393249979%5D%2C%20%5B-122.44697335330638%2C%2037.79905650377508%5D%2C%20%5B-122.44770982322008%2C%2037.799582777253306%5D%2C%20%5B-122.4478012324353%2C%2037.79961388400227%5D%2C%20%5B-122.44791187646085%2C%2037.799663802084176%5D%2C%20%5B-122.44799587596921%2C%2037.799706801651915%5D%2C%20%5B-122.44807149937454%2C%2037.79974906500957%5D%2C%20%5B-122.44814252546502%2C%2037.799796054626654%5D%2C%20%5B-122.44814636494846%2C%2037.799798812481804%5D%2C%20%5B-122.44822520510104%2C%2037.79986129334915%5D%2C%20%5B-122.44829592337717%2C%2037.7999295858915%5D%2C%20%5B-122.44835783871365%2C%2037.80000303242923%5D%2C%20%5B-122.44841035481713%2C%2037.800080925646164%5D%2C%20%5B-122.44845296590734%2C%2037.800162515400615%5D%2C%20%5B-122.44848526158894%2C%2037.800247015949395%5D%2C%20%5B-122.44850693080481%2C%2037.80033361351439%5D%2C%20%5B-122.44851776483293%2C%2037.800421474119524%5D%2C%20%5B-122.44851765929792%2C%2037.80050975162217%5D%2C%20%5B-122.44850661517764%2C%2037.80059759586158%5D%2C%20%5B-122.44848473879522%2C%2037.80068416084672%5D%2C%20%5B-122.44845224079664%2C%2037.80076861290372%5D%2C%20%5B-122.44840943412346%2C%2037.80085013870454%5D%2C%20%5B-122.44835673100012%2C%2037.80092795310038%5D%2C%20%5B-122.44829463896521%2C%2037.80100130668346%5D%2C%20%5B-122.44822375598424%2C%2037.801069493004626%5D%2C%20%5B-122.4481447646917%2C%2037.80113185537736%5D%2C%20%5B-122.44805842581695%2C%2037.80118779320274%5D%2C%20%5B-122.44796557085816%2C%2037.80123676775408%5D%2C%20%5B-122.4478670940741%2C%2037.80127830736552%5D%2C%20%5B-122.44776394387151%2C%2037.80131201197535%5D%2C%20%5B-122.44765711367052%2C%2037.801337556979036%5D%2C%20%5B-122.44754763233644%2C%2037.80135469635579%5D%2C%20%5B-122.44743655426993%2C%2037.80136326503826%5D%2C%20%5B-122.4473249492513%2C%2037.801363180502385%5D%2C%20%5B-122.44721389213639%2C%2037.801354443562325%5D%2C%20%5B-122.4471044525037%2C%2037.80133713836261%5D%2C%20%5B-122.44699768435221%2C%2037.801311431567584%5D%2C%20%5B-122.44689461594963%2C%2037.801277570756234%5D%2C%20%5B-122.44684846931418%2C%2037.801258015253566%5D%2C%20%5B-122.44676643084267%2C%2037.80123880312379%5D%2C%20%5B-122.44666190259386%2C%2037.80120509259873%5D%2C%20%5B-122.44656211443163%2C%2037.80116335143134%5D%2C%20%5B-122.44646804952474%2C%2037.801113990882406%5D%2C%20%5B-122.44638063464761%2C%2037.801057497283196%5D%2C%20%5B-122.44548747390073%2C%2037.80041924726787%5D%2C%20%5B-122.44529637287158%2C%2037.80030606228909%5D%2C%20%5B-122.44527559798493%2C%2037.80029345994572%5D%2C%20%5B-122.44432988753036%2C%2037.79970597245757%5D%2C%20%5B-122.44283843288733%2C%2037.799893407287605%5D%2C%20%5B-122.4427700743516%2C%2037.79990032519231%5D%2C%20%5B-122.44266555198803%2C%2037.799908365391914%5D%2C%20%5B-122.44117667077492%2C%2037.80010434760145%5D%2C%20%5B-122.44117416080346%2C%2037.80010467569208%5D%2C%20%5B-122.43953314190229%2C%2037.80031767820891%5D%5D%5D%2C%20%22type%22%3A%20%22Polygon%22%7D%2C%20%22id%22%3A%20%220%22%2C%20%22properties%22%3A%20%7B%22agency%22%3A%20%22City%20and%20County%20of%20San%20Francisco%22%2C%20%22routes_included%22%3A%20%22%2C%20All%20Route%20Types%2C%20Route%28s%29%2043%2C%2028%2C%2029%2C%20All%20Day%2C%20Apr%2012%2C%202023%20%28Wed%29%22%2C%20%22schedule_metric_minutes%22%3A%20727.0%2C%20%22shape_id%22%3A%20null%2C%20%22speed_metric_minutes%22%3A%202664.0%2C%20%22stop_id%22%3A%20null%2C%20%22stop_sequence%22%3A%20null%7D%2C%20%22type%22%3A%20%22Feature%22%7D%5D%2C%20%22type%22%3A%20%22FeatureCollection%22%7D%29%3B%0A%0A%20%20%20%20%20%20%20%20%0A%20%20%20%20%0A%20%20%20%20geo_json_7ccc6f06946c4394a249811ff21ae00f.bindTooltip%28%0A%20%20%20%20function%28layer%29%7B%0A%20%20%20%20let%20div%20%3D%20L.DomUtil.create%28%27div%27%29%3B%0A%20%20%20%20%0A%20%20%20%20let%20handleObject%20%3D%20feature%3D%3Etypeof%28feature%29%3D%3D%27object%27%20%3F%20JSON.stringify%28feature%29%20%3A%20feature%3B%0A%20%20%20%20let%20fields%20%3D%20%5B%22stop_id%22%2C%20%22stop_sequence%22%2C%20%22shape_id%22%2C%20%22schedule_metric_minutes%22%2C%20%22speed_metric_minutes%22%2C%20%22agency%22%2C%20%22routes_included%22%5D%3B%0A%20%20%20%20let%20aliases%20%3D%20%5B%22stop_id%22%2C%20%22stop_sequence%22%2C%20%22shape_id%22%2C%20%22schedule_metric_minutes%22%2C%20%22speed_metric_minutes%22%2C%20%22agency%22%2C%20%22routes_included%22%5D%3B%0A%20%20%20%20let%20table%20%3D%20%27%3Ctable%3E%27%20%2B%0A%20%20%20%20%20%20%20%20String%28%0A%20%20%20%20%20%20%20%20fields.map%28%0A%20%20%20%20%20%20%20%20%28v%2Ci%29%3D%3E%0A%20%20%20%20%20%20%20%20%60%3Ctr%3E%0A%20%20%20%20%20%20%20%20%20%20%20%20%3Cth%3E%24%7Baliases%5Bi%5D%7D%3C/th%3E%0A%20%20%20%20%20%20%20%20%20%20%20%20%0A%20%20%20%20%20%20%20%20%20%20%20%20%3Ctd%3E%24%7BhandleObject%28layer.feature.properties%5Bv%5D%29%7D%3C/td%3E%0A%20%20%20%20%20%20%20%20%3C/tr%3E%60%29.join%28%27%27%29%29%0A%20%20%20%20%2B%27%3C/table%3E%27%3B%0A%20%20%20%20div.innerHTML%3Dtable%3B%0A%20%20%20%20%0A%20%20%20%20return%20div%0A%20%20%20%20%7D%0A%20%20%20%20%2C%7B%22className%22%3A%20%22foliumtooltip%22%2C%20%22sticky%22%3A%20true%7D%29%3B%0A%20%20%20%20%20%20%20%20%20%20%20%20%20%20%20%20%20%20%20%20%20%0A%3C/script%3E onload=\"this.contentDocument.open();this.contentDocument.write(    decodeURIComponent(this.getAttribute('data-html')));this.contentDocument.close();\" allowfullscreen webkitallowfullscreen mozallowfullscreen></iframe></div></div>"
      ],
      "text/plain": [
       "<folium.folium.Map at 0x7fa9603898e0>"
      ]
     },
     "execution_count": 13,
     "metadata": {},
     "output_type": "execute_result"
    }
   ],
   "source": [
    "rt_day.quick_map_corridor()"
   ]
  },
  {
   "cell_type": "markdown",
   "id": "9b380f7a-17ef-44b2-8d33-382d018f2c02",
   "metadata": {},
   "source": [
    "## example for trips saved"
   ]
  },
  {
   "cell_type": "code",
   "execution_count": 16,
   "id": "bbb83755-4f64-43e9-8b7e-214bfd8f7c19",
   "metadata": {},
   "outputs": [
    {
     "data": {
      "text/html": [
       "<div>\n",
       "<style scoped>\n",
       "    .dataframe tbody tr th:only-of-type {\n",
       "        vertical-align: middle;\n",
       "    }\n",
       "\n",
       "    .dataframe tbody tr th {\n",
       "        vertical-align: top;\n",
       "    }\n",
       "\n",
       "    .dataframe thead th {\n",
       "        text-align: right;\n",
       "    }\n",
       "</style>\n",
       "<table border=\"1\" class=\"dataframe\">\n",
       "  <thead>\n",
       "    <tr style=\"text-align: right;\">\n",
       "      <th></th>\n",
       "      <th>shape_meters</th>\n",
       "      <th>stop_id</th>\n",
       "      <th>stop_name</th>\n",
       "      <th>geometry</th>\n",
       "      <th>shape_id</th>\n",
       "      <th>trip_id</th>\n",
       "      <th>stop_sequence</th>\n",
       "      <th>arrival_time</th>\n",
       "      <th>route_id</th>\n",
       "      <th>route_short_name</th>\n",
       "      <th>direction_id</th>\n",
       "      <th>actual_time</th>\n",
       "      <th>delay_seconds</th>\n",
       "      <th>corridor</th>\n",
       "    </tr>\n",
       "  </thead>\n",
       "  <tbody>\n",
       "    <tr>\n",
       "      <th>0</th>\n",
       "      <td>16.507417</td>\n",
       "      <td>17038</td>\n",
       "      <td>Powell St &amp; Beach St</td>\n",
       "      <td>POINT (-212061.113 -20505.663)</td>\n",
       "      <td>2808</td>\n",
       "      <td>11239765_M11</td>\n",
       "      <td>1.0</td>\n",
       "      <td>2023-04-12 09:51:00</td>\n",
       "      <td>28</td>\n",
       "      <td>28</td>\n",
       "      <td>0.0</td>\n",
       "      <td>2023-04-12 09:52:59.184980</td>\n",
       "      <td>119.0</td>\n",
       "      <td>False</td>\n",
       "    </tr>\n",
       "    <tr>\n",
       "      <th>1</th>\n",
       "      <td>581.578304</td>\n",
       "      <td>15466</td>\n",
       "      <td>North Point St &amp; Mason St</td>\n",
       "      <td>POINT (-212248.659 -20620.876)</td>\n",
       "      <td>2808</td>\n",
       "      <td>11239765_M11</td>\n",
       "      <td>2.0</td>\n",
       "      <td>2023-04-12 09:53:32</td>\n",
       "      <td>28</td>\n",
       "      <td>28</td>\n",
       "      <td>0.0</td>\n",
       "      <td>2023-04-12 09:55:28.536022</td>\n",
       "      <td>116.0</td>\n",
       "      <td>False</td>\n",
       "    </tr>\n",
       "    <tr>\n",
       "      <th>2</th>\n",
       "      <td>863.334950</td>\n",
       "      <td>15460</td>\n",
       "      <td>North Point St &amp; Jones St</td>\n",
       "      <td>POINT (-212527.961 -20657.349)</td>\n",
       "      <td>2808</td>\n",
       "      <td>11239765_M11</td>\n",
       "      <td>3.0</td>\n",
       "      <td>2023-04-12 09:54:45</td>\n",
       "      <td>28</td>\n",
       "      <td>28</td>\n",
       "      <td>0.0</td>\n",
       "      <td>2023-04-12 09:56:36.283278</td>\n",
       "      <td>111.0</td>\n",
       "      <td>False</td>\n",
       "    </tr>\n",
       "  </tbody>\n",
       "</table>\n",
       "</div>"
      ],
      "text/plain": [
       "   shape_meters stop_id                  stop_name  \\\n",
       "0     16.507417   17038       Powell St & Beach St   \n",
       "1    581.578304   15466  North Point St & Mason St   \n",
       "2    863.334950   15460  North Point St & Jones St   \n",
       "\n",
       "                         geometry shape_id       trip_id  stop_sequence  \\\n",
       "0  POINT (-212061.113 -20505.663)     2808  11239765_M11            1.0   \n",
       "1  POINT (-212248.659 -20620.876)     2808  11239765_M11            2.0   \n",
       "2  POINT (-212527.961 -20657.349)     2808  11239765_M11            3.0   \n",
       "\n",
       "         arrival_time route_id route_short_name  direction_id  \\\n",
       "0 2023-04-12 09:51:00       28               28           0.0   \n",
       "1 2023-04-12 09:53:32       28               28           0.0   \n",
       "2 2023-04-12 09:54:45       28               28           0.0   \n",
       "\n",
       "                 actual_time  delay_seconds  corridor  \n",
       "0 2023-04-12 09:52:59.184980          119.0     False  \n",
       "1 2023-04-12 09:55:28.536022          116.0     False  \n",
       "2 2023-04-12 09:56:36.283278          111.0     False  "
      ]
     },
     "execution_count": 16,
     "metadata": {},
     "output_type": "execute_result"
    }
   ],
   "source": [
    "df = rt_day._filter(rt_day.stop_delay_view).copy()\n",
    "df >> head(3)"
   ]
  },
  {
   "cell_type": "code",
   "execution_count": 21,
   "id": "a3bad8b1-cff2-420c-9353-a2f38c1a683d",
   "metadata": {},
   "outputs": [
    {
     "data": {
      "text/html": [
       "<div>\n",
       "<style scoped>\n",
       "    .dataframe tbody tr th:only-of-type {\n",
       "        vertical-align: middle;\n",
       "    }\n",
       "\n",
       "    .dataframe tbody tr th {\n",
       "        vertical-align: top;\n",
       "    }\n",
       "\n",
       "    .dataframe thead th {\n",
       "        text-align: right;\n",
       "    }\n",
       "</style>\n",
       "<table border=\"1\" class=\"dataframe\">\n",
       "  <thead>\n",
       "    <tr style=\"text-align: right;\">\n",
       "      <th></th>\n",
       "      <th>shape_id</th>\n",
       "      <th>route_id</th>\n",
       "      <th>route_short_name</th>\n",
       "      <th>trip_id</th>\n",
       "      <th>runtime</th>\n",
       "    </tr>\n",
       "  </thead>\n",
       "  <tbody>\n",
       "    <tr>\n",
       "      <th>0</th>\n",
       "      <td>2808</td>\n",
       "      <td>28</td>\n",
       "      <td>28</td>\n",
       "      <td>11239750_M11</td>\n",
       "      <td>0 days 00:43:59.998196</td>\n",
       "    </tr>\n",
       "    <tr>\n",
       "      <th>1</th>\n",
       "      <td>2808</td>\n",
       "      <td>28</td>\n",
       "      <td>28</td>\n",
       "      <td>11239751_M11</td>\n",
       "      <td>0 days 00:32:55.447605</td>\n",
       "    </tr>\n",
       "    <tr>\n",
       "      <th>2</th>\n",
       "      <td>2808</td>\n",
       "      <td>28</td>\n",
       "      <td>28</td>\n",
       "      <td>11239753_M11</td>\n",
       "      <td>0 days 00:39:39.471332</td>\n",
       "    </tr>\n",
       "  </tbody>\n",
       "</table>\n",
       "</div>"
      ],
      "text/plain": [
       "  shape_id route_id route_short_name       trip_id                runtime\n",
       "0     2808       28               28  11239750_M11 0 days 00:43:59.998196\n",
       "1     2808       28               28  11239751_M11 0 days 00:32:55.447605\n",
       "2     2808       28               28  11239753_M11 0 days 00:39:39.471332"
      ]
     },
     "execution_count": 21,
     "metadata": {},
     "output_type": "execute_result"
    }
   ],
   "source": [
    "df2 = (df\n",
    " >> group_by(_.shape_id, _.route_id, _.route_short_name, _.trip_id)\n",
    " >> summarize(runtime = _.actual_time.max() - _.actual_time.min())\n",
    ")\n",
    "df2 >> head(3)"
   ]
  },
  {
   "cell_type": "code",
   "execution_count": 20,
   "id": "9bfced4d-ee06-4aa3-9481-a9e3ed6088f3",
   "metadata": {},
   "outputs": [
    {
     "data": {
      "text/html": [
       "<div>\n",
       "<style scoped>\n",
       "    .dataframe tbody tr th:only-of-type {\n",
       "        vertical-align: middle;\n",
       "    }\n",
       "\n",
       "    .dataframe tbody tr th {\n",
       "        vertical-align: top;\n",
       "    }\n",
       "\n",
       "    .dataframe thead th {\n",
       "        text-align: right;\n",
       "    }\n",
       "</style>\n",
       "<table border=\"1\" class=\"dataframe\">\n",
       "  <thead>\n",
       "    <tr style=\"text-align: right;\">\n",
       "      <th></th>\n",
       "      <th>route_id</th>\n",
       "      <th>route_short_name</th>\n",
       "      <th>p50_runtime</th>\n",
       "    </tr>\n",
       "  </thead>\n",
       "  <tbody>\n",
       "    <tr>\n",
       "      <th>0</th>\n",
       "      <td>28</td>\n",
       "      <td>28</td>\n",
       "      <td>0 days 00:54:41.605525</td>\n",
       "    </tr>\n",
       "    <tr>\n",
       "      <th>1</th>\n",
       "      <td>29</td>\n",
       "      <td>29</td>\n",
       "      <td>0 days 01:09:07.728547</td>\n",
       "    </tr>\n",
       "    <tr>\n",
       "      <th>2</th>\n",
       "      <td>43</td>\n",
       "      <td>43</td>\n",
       "      <td>0 days 01:12:21.372040500</td>\n",
       "    </tr>\n",
       "  </tbody>\n",
       "</table>\n",
       "</div>"
      ],
      "text/plain": [
       "  route_id route_short_name               p50_runtime\n",
       "0       28               28    0 days 00:54:41.605525\n",
       "1       29               29    0 days 01:09:07.728547\n",
       "2       43               43 0 days 01:12:21.372040500"
      ]
     },
     "execution_count": 20,
     "metadata": {},
     "output_type": "execute_result"
    }
   ],
   "source": [
    "df3 = (df2\n",
    " >> group_by(_.route_id, _.route_short_name)\n",
    " >> summarize(p50_runtime =_.runtime.quantile(.5))\n",
    ")\n",
    "df3"
   ]
  },
  {
   "cell_type": "markdown",
   "id": "a282cc1d-f43c-4d74-8d15-34793aa9b348",
   "metadata": {},
   "source": [
    "## resume modeling, add speeds and trips saved"
   ]
  },
  {
   "cell_type": "code",
   "execution_count": null,
   "id": "d550627e-f154-47bc-9652-51f246033d16",
   "metadata": {},
   "outputs": [],
   "source": [
    "m = rt_day.segment_speed_map(how='low_speeds', no_title=False, shn=True, corridor=True)"
   ]
  },
  {
   "cell_type": "code",
   "execution_count": null,
   "id": "bab9756b-4256-46c0-a123-b285cbf67259",
   "metadata": {},
   "outputs": [],
   "source": [
    "m"
   ]
  },
  {
   "cell_type": "code",
   "execution_count": null,
   "id": "30c329fb-776b-4ced-a4cb-9c46d3d78309",
   "metadata": {},
   "outputs": [],
   "source": [
    "all_corridors = []"
   ]
  },
  {
   "cell_type": "code",
   "execution_count": null,
   "id": "84472c45-e014-4577-bd70-8052dd3445ca",
   "metadata": {},
   "outputs": [],
   "source": [
    "all_corridors += [rt_day.corridor]"
   ]
  },
  {
   "cell_type": "markdown",
   "id": "72a92fed-fb60-4ede-8494-d59a806bbd63",
   "metadata": {},
   "source": [
    "## Muni 19th A"
   ]
  },
  {
   "cell_type": "code",
   "execution_count": null,
   "id": "51c88fe2-9a12-4b21-a2a1-e5d332b4ad03",
   "metadata": {},
   "outputs": [],
   "source": [
    "rt_day.autocorridor(shape_id = '2808', stop_seq_range = [21, 32])"
   ]
  },
  {
   "cell_type": "code",
   "execution_count": null,
   "id": "9ad1e958-e674-4187-a3f6-a2ba1ab99b1d",
   "metadata": {},
   "outputs": [],
   "source": [
    "rt_day.corridor_stop_delays >> distinct(_.route_short_name)"
   ]
  },
  {
   "cell_type": "code",
   "execution_count": null,
   "id": "767fb8df-107d-4f06-ad64-8aaed2c72f30",
   "metadata": {},
   "outputs": [],
   "source": [
    "rt_day.corridor_metrics()"
   ]
  },
  {
   "cell_type": "code",
   "execution_count": null,
   "id": "e97fc987-4842-46c3-ace3-8604722969d8",
   "metadata": {},
   "outputs": [],
   "source": [
    "rt_day.quick_map_corridor()"
   ]
  },
  {
   "cell_type": "code",
   "execution_count": null,
   "id": "db8df09e-3e5d-4bcb-8be3-20c61fe3035a",
   "metadata": {},
   "outputs": [],
   "source": [
    "# m = rt_day.segment_speed_map(how='low_speeds', no_title=False, shn=True, corridor=True)\n",
    "## geoms error, no time to fix"
   ]
  },
  {
   "cell_type": "markdown",
   "id": "44cdaf50-dbbd-4110-8bc9-6bc4bed451cd",
   "metadata": {},
   "source": [
    "## Muni 19th B"
   ]
  },
  {
   "cell_type": "code",
   "execution_count": null,
   "id": "e3158577-c1ba-4d17-9973-23b04cabf0ea",
   "metadata": {},
   "outputs": [],
   "source": [
    "rt_day.autocorridor(shape_id = '2808', stop_seq_range = [32, 37])"
   ]
  },
  {
   "cell_type": "code",
   "execution_count": null,
   "id": "cdefdb6d-ec40-4ab7-aa7b-d9aa1e112618",
   "metadata": {},
   "outputs": [],
   "source": [
    "rt_day.corridor_stop_delays >> distinct(_.route_short_name)"
   ]
  },
  {
   "cell_type": "code",
   "execution_count": null,
   "id": "6c803d57-ca0d-4d4b-8e58-e771f7f5e4c5",
   "metadata": {},
   "outputs": [],
   "source": [
    "rt_day.corridor_metrics()"
   ]
  },
  {
   "cell_type": "code",
   "execution_count": null,
   "id": "32de4a73-90d2-476f-9551-e72e9e81bd78",
   "metadata": {},
   "outputs": [],
   "source": [
    "rt_day.quick_map_corridor()"
   ]
  },
  {
   "cell_type": "code",
   "execution_count": null,
   "id": "c8df5265-eccb-43ea-b1ce-a7b403e24278",
   "metadata": {},
   "outputs": [],
   "source": [
    "m = rt_day.segment_speed_map(how='low_speeds', no_title=False, shn=True, corridor=True)"
   ]
  },
  {
   "cell_type": "code",
   "execution_count": null,
   "id": "3e3e1b29-41f7-4b01-9156-a118d3122ede",
   "metadata": {},
   "outputs": [],
   "source": [
    "m"
   ]
  },
  {
   "cell_type": "markdown",
   "id": "02eb001f-e0f4-44d7-902d-36cbe15f55a3",
   "metadata": {},
   "source": [
    "# AC Transit"
   ]
  },
  {
   "cell_type": "code",
   "execution_count": null,
   "id": "6b13c054-d039-4c11-94c8-4eff742a84a1",
   "metadata": {
    "tags": [
     "parameters"
    ]
   },
   "outputs": [],
   "source": [
    "## parameters cell\n",
    "itp_id = 4"
   ]
  },
  {
   "cell_type": "code",
   "execution_count": null,
   "id": "6bb0a27a-0b95-4c85-b606-65bd6db9e4a1",
   "metadata": {},
   "outputs": [],
   "source": [
    "%%capture\n",
    "rt_day = rt_filter_map_plot.from_gcs(itp_id, analysis_date)"
   ]
  },
  {
   "cell_type": "code",
   "execution_count": null,
   "id": "36456654-ac8b-4b15-9301-42ec36574ea2",
   "metadata": {},
   "outputs": [],
   "source": [
    "%%capture_parameters\n",
    "organization_name = rt_day.organization_name\n",
    "organization_name"
   ]
  },
  {
   "cell_type": "code",
   "execution_count": null,
   "id": "8d5f7763-e2bd-46e4-906c-2b8efb36739a",
   "metadata": {},
   "outputs": [],
   "source": [
    "rt_day.set_filter(route_names = ['72', '72M', '72R'])"
   ]
  },
  {
   "cell_type": "code",
   "execution_count": null,
   "id": "15bb169a-6a27-413e-9a99-49c9e4c00646",
   "metadata": {},
   "outputs": [],
   "source": [
    "_m = rt_day.segment_speed_map()"
   ]
  },
  {
   "cell_type": "markdown",
   "id": "2002cb0a-ee4b-43a8-841c-827834bb6322",
   "metadata": {},
   "source": [
    "## AC Transit San Pablo"
   ]
  },
  {
   "cell_type": "code",
   "execution_count": null,
   "id": "13b1c7d0-1887-4286-b64a-80fd5b735e44",
   "metadata": {},
   "outputs": [],
   "source": [
    "rt_day.autocorridor(shape_id = 'shp-72R-15', stop_seq_range = [9, 19])"
   ]
  },
  {
   "cell_type": "code",
   "execution_count": null,
   "id": "a9f6f78b-265a-4c45-9c29-74aa563d0311",
   "metadata": {},
   "outputs": [],
   "source": [
    "rt_day.corridor_stop_delays >> distinct(_.route_short_name)"
   ]
  },
  {
   "cell_type": "code",
   "execution_count": null,
   "id": "63f0e253-de94-4a97-a802-652a77c23dcb",
   "metadata": {},
   "outputs": [],
   "source": [
    "rt_day.corridor_metrics()"
   ]
  },
  {
   "cell_type": "code",
   "execution_count": null,
   "id": "6c35a711-7fb4-4e3e-b326-384afe6270ce",
   "metadata": {},
   "outputs": [],
   "source": [
    "rt_day.quick_map_corridor()"
   ]
  },
  {
   "cell_type": "code",
   "execution_count": null,
   "id": "72e82f12-ed8b-41f0-bc7c-4f2449ca8814",
   "metadata": {},
   "outputs": [],
   "source": [
    "m = rt_day.segment_speed_map(how='low_speeds', no_title=False, shn=True, corridor=True)"
   ]
  },
  {
   "cell_type": "code",
   "execution_count": null,
   "id": "042484bb-f746-411c-a461-63b23295ce23",
   "metadata": {},
   "outputs": [],
   "source": [
    "m"
   ]
  },
  {
   "cell_type": "code",
   "execution_count": null,
   "id": "c429c78b-23e3-43a7-914d-48117330bdc8",
   "metadata": {},
   "outputs": [],
   "source": [
    "all_corridors += [rt_day.corridor]"
   ]
  },
  {
   "cell_type": "markdown",
   "id": "a0a80bcd-8e6f-4285-8b68-2a24c2d6f34f",
   "metadata": {},
   "source": [
    "# BBB"
   ]
  },
  {
   "cell_type": "code",
   "execution_count": null,
   "id": "589319db-bf04-4d73-98b1-94e0707f8764",
   "metadata": {
    "tags": [
     "parameters"
    ]
   },
   "outputs": [],
   "source": [
    "## parameters cell\n",
    "itp_id = 300"
   ]
  },
  {
   "cell_type": "code",
   "execution_count": null,
   "id": "374dfb1f-ef11-4a04-a07a-c3a7cca7f793",
   "metadata": {},
   "outputs": [],
   "source": [
    "%%capture\n",
    "rt_day = rt_filter_map_plot.from_gcs(itp_id, analysis_date)"
   ]
  },
  {
   "cell_type": "code",
   "execution_count": null,
   "id": "6010da46-2492-4079-8b37-a3130d869833",
   "metadata": {},
   "outputs": [],
   "source": [
    "%%capture_parameters\n",
    "organization_name = rt_day.organization_name\n",
    "organization_name"
   ]
  },
  {
   "cell_type": "code",
   "execution_count": null,
   "id": "56927c73-6af4-404c-8b99-64ae0a812f1d",
   "metadata": {},
   "outputs": [],
   "source": [
    "rt_day.set_filter(route_names = ['3', 'R3'])"
   ]
  },
  {
   "cell_type": "code",
   "execution_count": null,
   "id": "2b16ca37-28ed-4650-a20d-89f4c75cd7ae",
   "metadata": {},
   "outputs": [],
   "source": [
    "_m = rt_day.segment_speed_map()"
   ]
  },
  {
   "cell_type": "code",
   "execution_count": null,
   "id": "204ba70c-9291-4baa-94e3-8c7b2f3df8d4",
   "metadata": {},
   "outputs": [],
   "source": [
    "_m"
   ]
  },
  {
   "cell_type": "markdown",
   "id": "c1f92dee-43e9-4a9e-ba39-be017f989196",
   "metadata": {},
   "source": [
    "## BBB Lincoln"
   ]
  },
  {
   "cell_type": "code",
   "execution_count": null,
   "id": "471f5351-3281-49b6-ab16-655a08f66457",
   "metadata": {},
   "outputs": [],
   "source": [
    "rt_day.autocorridor(shape_id = '26171', stop_seq_range = [16, 29])"
   ]
  },
  {
   "cell_type": "code",
   "execution_count": null,
   "id": "3161984b-af55-463c-b8ba-1d55fa046b77",
   "metadata": {},
   "outputs": [],
   "source": [
    "rt_day.corridor_stop_delays >> distinct(_.route_short_name)"
   ]
  },
  {
   "cell_type": "code",
   "execution_count": null,
   "id": "2a3e485c-4123-4419-b927-672400e1a769",
   "metadata": {},
   "outputs": [],
   "source": [
    "rt_day.corridor_metrics()"
   ]
  },
  {
   "cell_type": "code",
   "execution_count": null,
   "id": "7a8c2cbe-2011-407c-ac8a-866db4f447bb",
   "metadata": {},
   "outputs": [],
   "source": [
    "rt_day.quick_map_corridor()"
   ]
  },
  {
   "cell_type": "code",
   "execution_count": null,
   "id": "ec0a38ab-81b6-4018-9b13-8ef9d098e8fb",
   "metadata": {},
   "outputs": [],
   "source": [
    "m = rt_day.segment_speed_map(how='low_speeds', no_title=False, shn=True, corridor=True)"
   ]
  },
  {
   "cell_type": "code",
   "execution_count": null,
   "id": "4db60391-8737-4347-b591-6bcdc0356a6f",
   "metadata": {},
   "outputs": [],
   "source": [
    "m"
   ]
  },
  {
   "cell_type": "markdown",
   "id": "9d78d962-ea22-48d7-9bbf-6835815d79ae",
   "metadata": {},
   "source": [
    "# LA Metro"
   ]
  },
  {
   "cell_type": "code",
   "execution_count": null,
   "id": "11767170-9ab1-4e51-8ba1-50008f2d77a7",
   "metadata": {
    "tags": [
     "parameters"
    ]
   },
   "outputs": [],
   "source": [
    "## parameters cell\n",
    "itp_id = 182"
   ]
  },
  {
   "cell_type": "code",
   "execution_count": null,
   "id": "1ceb7f5f-8c83-4d2d-934a-22bf91887d5d",
   "metadata": {},
   "outputs": [],
   "source": [
    "%%capture\n",
    "rt_day = rt_filter_map_plot.from_gcs(itp_id, analysis_date)"
   ]
  },
  {
   "cell_type": "code",
   "execution_count": null,
   "id": "4337e7b3-6a65-411b-b580-2ad42debe79b",
   "metadata": {},
   "outputs": [],
   "source": [
    "%%capture_parameters\n",
    "organization_name = rt_day.organization_name\n",
    "organization_name"
   ]
  },
  {
   "cell_type": "code",
   "execution_count": null,
   "id": "f9119de1-111b-4f45-a382-c6d7d66761a9",
   "metadata": {},
   "outputs": [],
   "source": [
    "rt_day.set_filter(route_names = ['4'])"
   ]
  },
  {
   "cell_type": "code",
   "execution_count": null,
   "id": "66dfc67a-a3d0-4f10-90a8-fa553764d61a",
   "metadata": {},
   "outputs": [],
   "source": [
    "_m = rt_day.segment_speed_map()"
   ]
  },
  {
   "cell_type": "markdown",
   "id": "34f7b12c-c262-4786-80bf-0646d7f98ce2",
   "metadata": {},
   "source": [
    "## Metro Santa Monica Bl"
   ]
  },
  {
   "cell_type": "code",
   "execution_count": null,
   "id": "a990dd8e-8b01-41bc-a6cc-4575591c0e55",
   "metadata": {},
   "outputs": [],
   "source": [
    "rt_day.autocorridor(shape_id = '40338_DEC22', stop_seq_range = [40, 50])"
   ]
  },
  {
   "cell_type": "code",
   "execution_count": null,
   "id": "39e9fcf5-6ef6-4422-8ea3-350b3e13c4df",
   "metadata": {},
   "outputs": [],
   "source": [
    "rt_day.corridor_stop_delays >> distinct(_.route_short_name)"
   ]
  },
  {
   "cell_type": "code",
   "execution_count": null,
   "id": "8b6259eb-dd21-4da4-934c-f3dcfc31b517",
   "metadata": {},
   "outputs": [],
   "source": [
    "rt_day.corridor_metrics()"
   ]
  },
  {
   "cell_type": "code",
   "execution_count": null,
   "id": "a115cf70-d29b-4256-b112-421564e94823",
   "metadata": {},
   "outputs": [],
   "source": [
    "rt_day.quick_map_corridor()"
   ]
  },
  {
   "cell_type": "code",
   "execution_count": null,
   "id": "e144b197-07dd-446b-bfc0-9d11b004f7ad",
   "metadata": {},
   "outputs": [],
   "source": [
    "m = rt_day.segment_speed_map(how='low_speeds', no_title=False, shn=True, corridor=True)"
   ]
  },
  {
   "cell_type": "code",
   "execution_count": null,
   "id": "afea51b4-00cf-4015-917e-878fd3d5ecc0",
   "metadata": {},
   "outputs": [],
   "source": [
    "m"
   ]
  },
  {
   "cell_type": "code",
   "execution_count": null,
   "id": "36c2dc4b-b653-4869-8e13-939b7f8f4353",
   "metadata": {},
   "outputs": [],
   "source": [
    "all_corridors += [rt_day.corridor]"
   ]
  },
  {
   "cell_type": "markdown",
   "id": "f1b9b973-2897-4e4b-801e-c3ba749ef45e",
   "metadata": {},
   "source": [
    "# VTA"
   ]
  },
  {
   "cell_type": "code",
   "execution_count": null,
   "id": "a2c00f9b-4705-408c-9e9f-1df57c22af13",
   "metadata": {
    "tags": [
     "parameters"
    ]
   },
   "outputs": [],
   "source": [
    "## parameters cell\n",
    "itp_id = 294"
   ]
  },
  {
   "cell_type": "code",
   "execution_count": null,
   "id": "ba887f2c-943f-4a4e-9de8-8269678deb0e",
   "metadata": {},
   "outputs": [],
   "source": [
    "%%capture\n",
    "rt_day = rt_filter_map_plot.from_gcs(itp_id, analysis_date)"
   ]
  },
  {
   "cell_type": "code",
   "execution_count": null,
   "id": "4991ab2c-220b-4690-b1b6-5347a7dcb7ed",
   "metadata": {},
   "outputs": [],
   "source": [
    "%%capture_parameters\n",
    "organization_name = rt_day.organization_name\n",
    "organization_name"
   ]
  },
  {
   "cell_type": "code",
   "execution_count": null,
   "id": "f351f682-430b-4cf5-b891-e1e31a96f978",
   "metadata": {},
   "outputs": [],
   "source": [
    "rt_day.set_filter(route_names = ['22', 'Rapid 522'])"
   ]
  },
  {
   "cell_type": "code",
   "execution_count": null,
   "id": "c2e69780-c111-4984-a87e-cf367262549f",
   "metadata": {},
   "outputs": [],
   "source": [
    "_m = rt_day.segment_speed_map()"
   ]
  },
  {
   "cell_type": "code",
   "execution_count": null,
   "id": "511b05bd-d3a8-4544-843d-d584f6279141",
   "metadata": {},
   "outputs": [],
   "source": [
    "_m"
   ]
  },
  {
   "cell_type": "markdown",
   "id": "4777fdde-5386-43a7-b83c-81580f0ab56b",
   "metadata": {},
   "source": [
    "## VTA ECR"
   ]
  },
  {
   "cell_type": "code",
   "execution_count": null,
   "id": "796f1bca-7146-47b1-88bd-f8a384ce7068",
   "metadata": {},
   "outputs": [],
   "source": [
    "rt_day.autocorridor(shape_id = '107193', stop_seq_range = [44, 98])"
   ]
  },
  {
   "cell_type": "code",
   "execution_count": null,
   "id": "606a131b-29af-4a12-81ec-9452d037e8b7",
   "metadata": {},
   "outputs": [],
   "source": [
    "rt_day.corridor_stop_delays >> distinct(_.route_short_name)"
   ]
  },
  {
   "cell_type": "code",
   "execution_count": null,
   "id": "69fcf4e9-6b92-403a-9120-a9d8393f5296",
   "metadata": {},
   "outputs": [],
   "source": [
    "rt_day.corridor_metrics()"
   ]
  },
  {
   "cell_type": "code",
   "execution_count": null,
   "id": "fac66ce9-88fe-4fc2-9bca-1f30b8c84e6e",
   "metadata": {},
   "outputs": [],
   "source": [
    "rt_day.quick_map_corridor()"
   ]
  },
  {
   "cell_type": "code",
   "execution_count": null,
   "id": "aa392f06-3f23-4ac2-8345-5920e802a699",
   "metadata": {},
   "outputs": [],
   "source": [
    "m = rt_day.segment_speed_map(how='low_speeds', no_title=False, shn=True, corridor=True)"
   ]
  },
  {
   "cell_type": "code",
   "execution_count": null,
   "id": "d55dbc8c-2c4f-4a91-9681-7e7c3ff3ee80",
   "metadata": {},
   "outputs": [],
   "source": [
    "m"
   ]
  },
  {
   "cell_type": "markdown",
   "id": "d5f8039a-4414-4a3c-9c51-5afab9ba57c5",
   "metadata": {},
   "source": [
    "# Samtrans"
   ]
  },
  {
   "cell_type": "code",
   "execution_count": null,
   "id": "de9ca499-cff0-4db4-9cf7-a736985bfa0c",
   "metadata": {
    "tags": [
     "parameters"
    ]
   },
   "outputs": [],
   "source": [
    "## parameters cell\n",
    "itp_id = 290"
   ]
  },
  {
   "cell_type": "code",
   "execution_count": null,
   "id": "3613883a-9463-4cde-b6d0-5e88d2ee18f7",
   "metadata": {},
   "outputs": [],
   "source": [
    "%%capture\n",
    "rt_day = rt_filter_map_plot.from_gcs(itp_id, analysis_date)"
   ]
  },
  {
   "cell_type": "code",
   "execution_count": null,
   "id": "19e435db-3f60-47fb-9c9a-17111f80b415",
   "metadata": {},
   "outputs": [],
   "source": [
    "%%capture_parameters\n",
    "organization_name = rt_day.organization_name\n",
    "organization_name"
   ]
  },
  {
   "cell_type": "code",
   "execution_count": null,
   "id": "04c4b687-98c9-4214-aef6-75e5b1f1cd64",
   "metadata": {},
   "outputs": [],
   "source": [
    "rt_day.set_filter(route_names = ['ECR'])"
   ]
  },
  {
   "cell_type": "code",
   "execution_count": null,
   "id": "1d2ec7c9-3245-4246-9955-51d697055915",
   "metadata": {},
   "outputs": [],
   "source": [
    "_m = rt_day.segment_speed_map()"
   ]
  },
  {
   "cell_type": "markdown",
   "id": "414076ab-4575-4627-9c0f-d7d5db288e4b",
   "metadata": {},
   "source": [
    "## Samtrans ECR"
   ]
  },
  {
   "cell_type": "code",
   "execution_count": null,
   "id": "57148623-6a26-488d-8eed-38828b4df9e4",
   "metadata": {},
   "outputs": [],
   "source": [
    "rt_day.autocorridor(shape_id = 'ECR1095', stop_seq_range = [3, 65])"
   ]
  },
  {
   "cell_type": "code",
   "execution_count": null,
   "id": "69789d35-4848-461e-aa54-07d3a097cf7d",
   "metadata": {},
   "outputs": [],
   "source": [
    "rt_day.corridor_stop_delays >> distinct(_.route_short_name)"
   ]
  },
  {
   "cell_type": "code",
   "execution_count": null,
   "id": "3ceac66c-d2c2-4424-9fd1-96c0d173f457",
   "metadata": {},
   "outputs": [],
   "source": [
    "rt_day.corridor_metrics()"
   ]
  },
  {
   "cell_type": "code",
   "execution_count": null,
   "id": "9d7c2438-47b9-4e42-af9f-0ca78aa53623",
   "metadata": {},
   "outputs": [],
   "source": [
    "rt_day.quick_map_corridor()"
   ]
  },
  {
   "cell_type": "code",
   "execution_count": null,
   "id": "8ff205ca-d104-46cd-b83d-c9eba3a5324e",
   "metadata": {},
   "outputs": [],
   "source": [
    "# m = rt_day.segment_speed_map(how='low_speeds', no_title=False, shn=True, corridor=True)\n",
    "\n",
    "# m"
   ]
  },
  {
   "cell_type": "markdown",
   "id": "1be5a0b2-7a3a-4b97-93dc-cd28d082b1b8",
   "metadata": {},
   "source": [
    "## Part B"
   ]
  },
  {
   "cell_type": "code",
   "execution_count": null,
   "id": "f86c05ff-9d54-4feb-98ec-abac762a6116",
   "metadata": {},
   "outputs": [],
   "source": [
    "rt_day.autocorridor(shape_id = 'ECR1098', stop_seq_range = [4, 35])"
   ]
  },
  {
   "cell_type": "code",
   "execution_count": null,
   "id": "1496ca22-77c6-4d96-87bf-dcbab233f8b3",
   "metadata": {},
   "outputs": [],
   "source": [
    "rt_day.corridor_stop_delays >> distinct(_.route_short_name)"
   ]
  },
  {
   "cell_type": "code",
   "execution_count": null,
   "id": "00793631-01ce-4784-8a3c-047d51a0b4f7",
   "metadata": {},
   "outputs": [],
   "source": [
    "rt_day.corridor_metrics()"
   ]
  },
  {
   "cell_type": "code",
   "execution_count": null,
   "id": "c6d7410a-4211-4106-86a5-7572300e14d1",
   "metadata": {},
   "outputs": [],
   "source": [
    "rt_day.quick_map_corridor()"
   ]
  },
  {
   "cell_type": "code",
   "execution_count": null,
   "id": "45cd449b-ad88-47b2-811c-d4d5e0f429b5",
   "metadata": {},
   "outputs": [],
   "source": [
    "m = rt_day.segment_speed_map(how='low_speeds', no_title=False, shn=True, corridor=True)"
   ]
  },
  {
   "cell_type": "code",
   "execution_count": null,
   "id": "88cbf6f9-4ba3-49b2-b1da-75ba707b70c6",
   "metadata": {},
   "outputs": [],
   "source": [
    "m"
   ]
  },
  {
   "cell_type": "markdown",
   "id": "c776a46b-b32e-413c-a7e9-6a406835c930",
   "metadata": {},
   "source": [
    "# Foothill"
   ]
  },
  {
   "cell_type": "code",
   "execution_count": null,
   "id": "10513c0e-d957-4e0e-b2d1-9bdf032540fd",
   "metadata": {
    "tags": [
     "parameters"
    ]
   },
   "outputs": [],
   "source": [
    "## parameters cell\n",
    "itp_id = 112"
   ]
  },
  {
   "cell_type": "code",
   "execution_count": null,
   "id": "671c2b41-ef6e-450a-9bd6-e00ebcc6c95f",
   "metadata": {},
   "outputs": [],
   "source": [
    "%%capture\n",
    "rt_day = rt_filter_map_plot.from_gcs(itp_id, analysis_date)"
   ]
  },
  {
   "cell_type": "code",
   "execution_count": null,
   "id": "2f11df5d-fee7-46ed-97e6-9e67b4e9fb30",
   "metadata": {},
   "outputs": [],
   "source": [
    "%%capture_parameters\n",
    "organization_name = rt_day.organization_name\n",
    "organization_name"
   ]
  },
  {
   "cell_type": "code",
   "execution_count": null,
   "id": "5b4098b7-5231-4fb6-9adc-4fc9bd6e7562",
   "metadata": {},
   "outputs": [],
   "source": [
    "rt_day.set_filter(route_names = ['188'])"
   ]
  },
  {
   "cell_type": "code",
   "execution_count": null,
   "id": "2223497f-8f4e-45ae-af3b-c2479df859c5",
   "metadata": {},
   "outputs": [],
   "source": [
    "_m = rt_day.segment_speed_map()"
   ]
  },
  {
   "cell_type": "markdown",
   "id": "997a19a8-f5e5-4fd1-9e52-86ff8728b232",
   "metadata": {},
   "source": [
    "## Foothill Foothill Bl"
   ]
  },
  {
   "cell_type": "code",
   "execution_count": null,
   "id": "b752f818-045c-4585-8105-eb061f260532",
   "metadata": {},
   "outputs": [],
   "source": [
    "rt_day.autocorridor(shape_id = '12286_shp', stop_seq_range = [1779, 2834])"
   ]
  },
  {
   "cell_type": "code",
   "execution_count": null,
   "id": "adcd5401-b0c4-42ad-8ec7-04e1c0e08339",
   "metadata": {},
   "outputs": [],
   "source": [
    "rt_day.corridor_stop_delays >> distinct(_.route_short_name)"
   ]
  },
  {
   "cell_type": "code",
   "execution_count": null,
   "id": "b1e07b72-953a-4cd9-a771-0b5cc644f6c8",
   "metadata": {},
   "outputs": [],
   "source": [
    "rt_day.corridor_metrics()"
   ]
  },
  {
   "cell_type": "code",
   "execution_count": null,
   "id": "a4b6bfee-0c57-408b-aa86-20ac60e0d51b",
   "metadata": {},
   "outputs": [],
   "source": [
    "rt_day.quick_map_corridor()"
   ]
  },
  {
   "cell_type": "code",
   "execution_count": null,
   "id": "406ab603-fe67-4c19-9100-af6bff7fd9f0",
   "metadata": {},
   "outputs": [],
   "source": [
    "m = rt_day.segment_speed_map(how='low_speeds', no_title=False, shn=True, corridor=True)"
   ]
  },
  {
   "cell_type": "code",
   "execution_count": null,
   "id": "92cc8ac5-d8f0-47a6-9716-864399633dc9",
   "metadata": {},
   "outputs": [],
   "source": [
    "m"
   ]
  },
  {
   "cell_type": "markdown",
   "id": "3e5b02b1-529b-42de-9adc-cdb90e61cb54",
   "metadata": {},
   "source": [
    "# From Project List\n",
    "https://app.smartsheet.com/reports/4gRrr282hJ3MPVG7hcqX4XQHh2FR4GgpfW6pq5Q1?view=grid"
   ]
  },
  {
   "cell_type": "code",
   "execution_count": null,
   "id": "0f708a99-d819-4122-bf80-60b9a3e5ecdd",
   "metadata": {
    "tags": []
   },
   "outputs": [],
   "source": [
    "# shared_utils.rt_utils.show_full_df((pd.read_parquet('./_rt_progress_2023-05-17.parquet')\n",
    "#                                    >> filter(_.status == 'map_confirmed')\n",
    "#                                    )\n",
    "#                                   )"
   ]
  },
  {
   "cell_type": "code",
   "execution_count": null,
   "id": "b053e5f7-b40a-4572-9af2-24918e4ed470",
   "metadata": {},
   "outputs": [],
   "source": [
    "analysis_date = dt.date(2023, 5, 17)"
   ]
  },
  {
   "cell_type": "markdown",
   "id": "3b99a6fd-b193-4098-9f56-e6e30c42e9b6",
   "metadata": {
    "tags": []
   },
   "source": [
    "# Eureka"
   ]
  },
  {
   "cell_type": "code",
   "execution_count": null,
   "id": "c76b25ac-aa80-44b6-9f16-43808bcdf0d8",
   "metadata": {},
   "outputs": [],
   "source": [
    "import importlib\n",
    "importlib.reload(rt_filter_map_plot)"
   ]
  },
  {
   "cell_type": "code",
   "execution_count": null,
   "id": "f7330beb-543e-40a0-9005-17da0b44702f",
   "metadata": {
    "tags": [
     "parameters"
    ]
   },
   "outputs": [],
   "source": [
    "## parameters cell\n",
    "itp_id = 108"
   ]
  },
  {
   "cell_type": "code",
   "execution_count": null,
   "id": "2189f4aa-6700-47e5-a1e0-d6f8617b7360",
   "metadata": {},
   "outputs": [],
   "source": [
    "%%capture\n",
    "rt_day = rt_filter_map_plot.from_gcs(itp_id, analysis_date)"
   ]
  },
  {
   "cell_type": "code",
   "execution_count": null,
   "id": "15b9d5a9-b776-44e8-a7ca-43b7355f241c",
   "metadata": {},
   "outputs": [],
   "source": [
    "%%capture_parameters\n",
    "organization_name = rt_day.organization_name\n",
    "organization_name"
   ]
  },
  {
   "cell_type": "code",
   "execution_count": null,
   "id": "94d8f6cc-f8a7-4c57-846a-a7f5a9099bd9",
   "metadata": {},
   "outputs": [],
   "source": [
    "# rt_day.set_filter(route_names = ['188'])"
   ]
  },
  {
   "cell_type": "code",
   "execution_count": null,
   "id": "1661351a-02bf-4b06-b3f7-b678198a164e",
   "metadata": {},
   "outputs": [],
   "source": [
    "_m = rt_day.segment_speed_map()"
   ]
  },
  {
   "cell_type": "markdown",
   "id": "eb543d56-3437-41b1-894f-9cd9b83fa7c0",
   "metadata": {
    "tags": []
   },
   "source": [
    "## Eureka US101 (Broadway Truesdale - 4th per [RTP](https://www.hcaog.net/sites/default/files/vroom_2022-2042_full_report.pdf))\n",
    "\n",
    "* difficult to analyze -- need to exclude distant stops from corridor (add to algorithm?)"
   ]
  },
  {
   "cell_type": "code",
   "execution_count": null,
   "id": "7416921b-42cb-48c7-a4fd-134fd6b75e58",
   "metadata": {},
   "outputs": [],
   "source": [
    "rt_day.autocorridor(shape_id = 'p_178050', stop_seq_range = [13, 13.5],\n",
    "manual_exclude={'p_179049': {'max': 4}, 'p_179044': {'max': 4}})\n",
    "# intercity service, exclude stops distant from corridor"
   ]
  },
  {
   "cell_type": "code",
   "execution_count": null,
   "id": "7cabb7ed-017a-4f95-97ea-977a1055c42d",
   "metadata": {},
   "outputs": [],
   "source": [
    "rt_day.corridor_stop_delays >> distinct(_.route_short_name)"
   ]
  },
  {
   "cell_type": "code",
   "execution_count": null,
   "id": "be8b318e-6272-46b5-b28d-597fef8c1042",
   "metadata": {},
   "outputs": [],
   "source": [
    "rt_day.corridor_metrics()"
   ]
  },
  {
   "cell_type": "code",
   "execution_count": null,
   "id": "e133a440-2bf7-46c9-8395-2161913663ea",
   "metadata": {},
   "outputs": [],
   "source": [
    "rt_day.quick_map_corridor()"
   ]
  },
  {
   "cell_type": "code",
   "execution_count": null,
   "id": "83185f80-3f86-429d-86af-f54c22522063",
   "metadata": {},
   "outputs": [],
   "source": [
    "m = rt_day.segment_speed_map(how='low_speeds', no_title=False, shn=True, corridor=True)"
   ]
  },
  {
   "cell_type": "code",
   "execution_count": null,
   "id": "782ba9cc-866c-4cf9-b36e-1e0f969782b0",
   "metadata": {},
   "outputs": [],
   "source": [
    "m"
   ]
  },
  {
   "cell_type": "code",
   "execution_count": null,
   "id": "c65f0c31-d465-4555-aca5-0596daee0327",
   "metadata": {},
   "outputs": [],
   "source": [
    "all_corridors += [rt_day.corridor]"
   ]
  },
  {
   "cell_type": "markdown",
   "id": "a7e42150-fc2a-4a73-81bf-965ee280b667",
   "metadata": {},
   "source": [
    "# TART SR267/89 -- no data"
   ]
  },
  {
   "cell_type": "markdown",
   "id": "e33c342c-36a8-48db-8d87-7e41a98b72b1",
   "metadata": {},
   "source": [
    "# Tahoe Transportation District US50\n",
    "\n",
    "* limited data geographic extent"
   ]
  },
  {
   "cell_type": "code",
   "execution_count": null,
   "id": "905e1c6b-7236-43ec-99e1-d232ecd19d7c",
   "metadata": {
    "tags": [
     "parameters"
    ]
   },
   "outputs": [],
   "source": [
    "## parameters cell\n",
    "itp_id = 331"
   ]
  },
  {
   "cell_type": "code",
   "execution_count": null,
   "id": "f5066302-4d17-45bd-bb7d-65d5dfab2d84",
   "metadata": {},
   "outputs": [],
   "source": [
    "%%capture\n",
    "rt_day = rt_filter_map_plot.from_gcs(itp_id, analysis_date)"
   ]
  },
  {
   "cell_type": "code",
   "execution_count": null,
   "id": "80e91697-add5-4f2d-8456-43ee531436bb",
   "metadata": {},
   "outputs": [],
   "source": [
    "%%capture_parameters\n",
    "organization_name = rt_day.organization_name\n",
    "organization_name"
   ]
  },
  {
   "cell_type": "code",
   "execution_count": null,
   "id": "732deb97-958e-4d47-a920-1c47f319fa92",
   "metadata": {},
   "outputs": [],
   "source": [
    "_m = rt_day.segment_speed_map()"
   ]
  },
  {
   "cell_type": "code",
   "execution_count": null,
   "id": "ffd8cbea-f69e-46ea-85b3-4f5841d25546",
   "metadata": {},
   "outputs": [],
   "source": [
    "rt_day.autocorridor(shape_id = 'p_497358', stop_seq_range = [0, 20])"
   ]
  },
  {
   "cell_type": "code",
   "execution_count": null,
   "id": "fbffabbe-c1f2-4e7c-a8f2-b4643bdfcbab",
   "metadata": {},
   "outputs": [],
   "source": [
    "rt_day.corridor_stop_delays >> distinct(_.route_short_name)"
   ]
  },
  {
   "cell_type": "code",
   "execution_count": null,
   "id": "2447e950-929b-4416-9b3a-00e57e118f63",
   "metadata": {},
   "outputs": [],
   "source": [
    "rt_day.corridor_metrics()"
   ]
  },
  {
   "cell_type": "code",
   "execution_count": null,
   "id": "e10de605-9565-4e02-b6d9-eaf7160b014c",
   "metadata": {},
   "outputs": [],
   "source": [
    "rt_day.quick_map_corridor()"
   ]
  },
  {
   "cell_type": "code",
   "execution_count": null,
   "id": "088f48fb-6c85-4b58-af95-ac9c165b5745",
   "metadata": {},
   "outputs": [],
   "source": [
    "m = rt_day.segment_speed_map(how='low_speeds', no_title=False, shn=True, corridor=True)"
   ]
  },
  {
   "cell_type": "code",
   "execution_count": null,
   "id": "c52e5779-a0af-4df6-be19-5e166deeef33",
   "metadata": {},
   "outputs": [],
   "source": [
    "m"
   ]
  },
  {
   "cell_type": "code",
   "execution_count": null,
   "id": "fa125480-de9b-4d4c-8567-23b6ba08ea90",
   "metadata": {},
   "outputs": [],
   "source": [
    "all_corridors += [rt_day.corridor]"
   ]
  },
  {
   "cell_type": "markdown",
   "id": "18e3e499-8be9-4e50-a56e-c3eefd180e69",
   "metadata": {},
   "source": [
    "# Fresno -- unable eval (new services)"
   ]
  },
  {
   "cell_type": "code",
   "execution_count": null,
   "id": "74fca5ce-63f8-4042-8acc-edc9eaa8db08",
   "metadata": {},
   "outputs": [],
   "source": []
  },
  {
   "cell_type": "markdown",
   "id": "31dbda93-21df-4319-a2f8-50862dc0f7fa",
   "metadata": {
    "jp-MarkdownHeadingCollapsed": true,
    "tags": []
   },
   "source": [
    "# VCTC (SR126 Fillmore - Ventura)\n",
    "\n",
    "* minimal thru running delay on available data..."
   ]
  },
  {
   "cell_type": "code",
   "execution_count": null,
   "id": "218e05de-c371-4792-a7c3-b56767335c92",
   "metadata": {
    "tags": [
     "parameters"
    ]
   },
   "outputs": [],
   "source": [
    "## parameters cell\n",
    "itp_id = 380"
   ]
  },
  {
   "cell_type": "code",
   "execution_count": null,
   "id": "54c8dbdb-c82d-496d-af25-58a7eeb867e4",
   "metadata": {},
   "outputs": [],
   "source": [
    "analysis_date = dt.date(2023, 4, 12)"
   ]
  },
  {
   "cell_type": "code",
   "execution_count": null,
   "id": "91759504-a1d1-48fa-a355-4aefcbd459f4",
   "metadata": {},
   "outputs": [],
   "source": [
    "%%capture\n",
    "rt_day = rt_filter_map_plot.from_gcs(itp_id, analysis_date)"
   ]
  },
  {
   "cell_type": "code",
   "execution_count": null,
   "id": "9b13a1aa-cd59-4073-abdb-6c1b7c728861",
   "metadata": {},
   "outputs": [],
   "source": [
    "%%capture_parameters\n",
    "organization_name = rt_day.organization_name\n",
    "organization_name"
   ]
  },
  {
   "cell_type": "code",
   "execution_count": null,
   "id": "1ff941fa-f957-4fc8-91be-d47ea3320bf6",
   "metadata": {},
   "outputs": [],
   "source": [
    "_m = rt_day.segment_speed_map()"
   ]
  },
  {
   "cell_type": "code",
   "execution_count": null,
   "id": "f705cde4-ab71-4ff9-b8c2-b6fbf4fde6cc",
   "metadata": {},
   "outputs": [],
   "source": [
    "_m"
   ]
  },
  {
   "cell_type": "markdown",
   "id": "2a06598a-c0b6-4ddb-954c-96a3a989072b",
   "metadata": {
    "tags": []
   },
   "source": [
    "# LA Metro Projects\n",
    "\n",
    "* NoHo-Pas BRT to only briefly use SR134, light delay\n",
    "* As per sheet, NSFV improvements only intersect SHN\n",
    "* Inglewood connector, Arbor Vitae not on SHN...\n",
    "* Games Route Network, etc unable to analyze"
   ]
  },
  {
   "cell_type": "code",
   "execution_count": null,
   "id": "0d6e81ac-7fe7-40ba-8127-4ed9502c48bd",
   "metadata": {
    "tags": [
     "parameters"
    ]
   },
   "outputs": [],
   "source": [
    "## parameters cell\n",
    "itp_id = 331"
   ]
  },
  {
   "cell_type": "code",
   "execution_count": null,
   "id": "5b991300-ff3d-4bc4-aea5-11f54240d9f3",
   "metadata": {},
   "outputs": [],
   "source": [
    "%%capture\n",
    "rt_day = rt_filter_map_plot.from_gcs(itp_id, analysis_date)"
   ]
  },
  {
   "cell_type": "code",
   "execution_count": null,
   "id": "c91fb1e6-52a3-4ecc-b74e-247d65c3325c",
   "metadata": {},
   "outputs": [],
   "source": [
    "%%capture_parameters\n",
    "organization_name = rt_day.organization_name\n",
    "organization_name"
   ]
  },
  {
   "cell_type": "code",
   "execution_count": null,
   "id": "1858dc3a-945f-40a9-a50a-2ba11b975414",
   "metadata": {},
   "outputs": [],
   "source": [
    "_m = rt_day.segment_speed_map()"
   ]
  },
  {
   "cell_type": "code",
   "execution_count": null,
   "id": "d6823854-162f-4cb3-9fbc-5941b7cc4fde",
   "metadata": {},
   "outputs": [],
   "source": [
    "rt_day.autocorridor(shape_id = 'p_497358', stop_seq_range = [0, 20])"
   ]
  },
  {
   "cell_type": "code",
   "execution_count": null,
   "id": "a3d2f3d4-2db1-46ec-8888-8cbf99a6c50c",
   "metadata": {},
   "outputs": [],
   "source": [
    "rt_day.corridor_stop_delays >> distinct(_.route_short_name)"
   ]
  },
  {
   "cell_type": "code",
   "execution_count": null,
   "id": "92879332-6e38-4ce7-b196-e471c90b8f5b",
   "metadata": {},
   "outputs": [],
   "source": [
    "rt_day.corridor_metrics()"
   ]
  },
  {
   "cell_type": "code",
   "execution_count": null,
   "id": "809a823f-d0d9-426b-ab7e-37cdd2bc7a4d",
   "metadata": {},
   "outputs": [],
   "source": [
    "rt_day.quick_map_corridor()"
   ]
  },
  {
   "cell_type": "code",
   "execution_count": null,
   "id": "1902d658-cfad-4951-b139-2a7242c88e97",
   "metadata": {},
   "outputs": [],
   "source": [
    "m = rt_day.segment_speed_map(how='low_speeds', no_title=False, shn=True, corridor=True)"
   ]
  },
  {
   "cell_type": "code",
   "execution_count": null,
   "id": "02d17c09-1ecb-460d-9caf-050de4183da9",
   "metadata": {},
   "outputs": [],
   "source": [
    "m"
   ]
  },
  {
   "cell_type": "markdown",
   "id": "6089133c-1d91-4965-9bfb-20269928511c",
   "metadata": {},
   "source": [
    "# Victor Valley\n",
    "\n",
    "* service runs, difficult to evaluate\n",
    "* 0.5/hour, limited span"
   ]
  },
  {
   "cell_type": "markdown",
   "id": "71e0341a-f722-4aef-afdb-c2e1ec15ee39",
   "metadata": {},
   "source": [
    "# Others\n",
    "\n",
    "* OCTA speculative, new services unable to eval"
   ]
  },
  {
   "cell_type": "markdown",
   "id": "b3900a52-45b5-4dd8-85f8-93830d4a0904",
   "metadata": {},
   "source": [
    "# OCTA SR39\n",
    "\n",
    "* multiple SHN sections, eval longest\n",
    "* about 5 trips/hour combined!"
   ]
  },
  {
   "cell_type": "code",
   "execution_count": null,
   "id": "005ea2f3-c8a8-4f76-9f81-9362726c7ba6",
   "metadata": {
    "tags": [
     "parameters"
    ]
   },
   "outputs": [],
   "source": [
    "## parameters cell\n",
    "itp_id = 235"
   ]
  },
  {
   "cell_type": "code",
   "execution_count": null,
   "id": "e97e5812-fa2c-492a-a051-1ae1d27ad154",
   "metadata": {},
   "outputs": [],
   "source": [
    "%%capture\n",
    "rt_day = rt_filter_map_plot.from_gcs(itp_id, analysis_date)"
   ]
  },
  {
   "cell_type": "code",
   "execution_count": null,
   "id": "650ddf4f-8e18-432b-9705-0d5b47548471",
   "metadata": {},
   "outputs": [],
   "source": [
    "%%capture_parameters\n",
    "organization_name = rt_day.organization_name\n",
    "organization_name"
   ]
  },
  {
   "cell_type": "code",
   "execution_count": null,
   "id": "40533ff5-5f14-48c7-bb87-95441ba6ed83",
   "metadata": {},
   "outputs": [],
   "source": [
    "_m = rt_day.segment_speed_map()"
   ]
  },
  {
   "cell_type": "code",
   "execution_count": null,
   "id": "186d49c5-dfdd-4975-90ca-e5aad861064a",
   "metadata": {},
   "outputs": [],
   "source": [
    "rt_day.autocorridor(shape_id = '2902', stop_seq_range = [5, 51])"
   ]
  },
  {
   "cell_type": "code",
   "execution_count": null,
   "id": "d9672f0f-5516-4abd-aff8-8add9460d677",
   "metadata": {},
   "outputs": [],
   "source": [
    "rt_day.corridor_stop_delays >> distinct(_.route_short_name)"
   ]
  },
  {
   "cell_type": "code",
   "execution_count": null,
   "id": "d48f18f9-c38f-4bcb-8531-8ebbd94a6e11",
   "metadata": {},
   "outputs": [],
   "source": [
    "rt_day.corridor_metrics()"
   ]
  },
  {
   "cell_type": "code",
   "execution_count": null,
   "id": "4289d0f7-f33f-4db4-a665-c1bb66f48a73",
   "metadata": {},
   "outputs": [],
   "source": [
    "rt_day.quick_map_corridor()"
   ]
  },
  {
   "cell_type": "code",
   "execution_count": null,
   "id": "73bdd5d5-e7c8-45f6-9c9b-c2b3b565feeb",
   "metadata": {},
   "outputs": [],
   "source": [
    "m = rt_day.segment_speed_map(how='low_speeds', no_title=False, shn=True, corridor=True)"
   ]
  },
  {
   "cell_type": "code",
   "execution_count": null,
   "id": "e5ab48bf-68bd-43a9-902e-8ed1713c022e",
   "metadata": {},
   "outputs": [],
   "source": [
    "m"
   ]
  },
  {
   "cell_type": "code",
   "execution_count": null,
   "id": "854eb7c9-b17b-4760-a60c-61e40183dfda",
   "metadata": {},
   "outputs": [],
   "source": [
    "all_corridors += [rt_day.corridor]"
   ]
  },
  {
   "cell_type": "code",
   "execution_count": null,
   "id": "c67c5765-7657-447d-8629-35cd37ab6c67",
   "metadata": {},
   "outputs": [],
   "source": []
  }
 ],
 "metadata": {
  "kernelspec": {
   "display_name": "Python 3 (ipykernel)",
   "language": "python",
   "name": "python3"
  },
  "language_info": {
   "codemirror_mode": {
    "name": "ipython",
    "version": 3
   },
   "file_extension": ".py",
   "mimetype": "text/x-python",
   "name": "python",
   "nbconvert_exporter": "python",
   "pygments_lexer": "ipython3",
   "version": "3.9.13"
  },
  "widgets": {
   "application/vnd.jupyter.widget-state+json": {
    "state": {},
    "version_major": 2,
    "version_minor": 0
   }
  }
 },
 "nbformat": 4,
 "nbformat_minor": 5
}
