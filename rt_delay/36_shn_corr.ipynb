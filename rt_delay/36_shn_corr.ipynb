{
 "cells": [
  {
   "cell_type": "code",
   "execution_count": 1,
   "id": "46898b5c-b5cc-4096-ab68-8c3e42fab870",
   "metadata": {},
   "outputs": [],
   "source": [
    "%%capture\n",
    "import warnings\n",
    "warnings.filterwarnings('ignore')\n",
    "\n",
    "import os\n",
    "os.environ[\"CALITP_BQ_MAX_BYTES\"] = str(800_000_000_000)\n",
    "import shared_utils\n",
    "\n",
    "from calitp_data_analysis.tables import tbls\n",
    "import calitp_data_analysis.magics\n",
    "\n",
    "from siuba import *\n",
    "import pandas as pd\n",
    "import geopandas as gpd\n",
    "\n",
    "import datetime as dt\n",
    "\n",
    "import importlib\n",
    "from rt_analysis import rt_filter_map_plot\n",
    "# import build_speedmaps_index\n",
    "\n",
    "from IPython.display import display, Markdown, Latex, HTML\n",
    "import json"
   ]
  },
  {
   "cell_type": "code",
   "execution_count": 2,
   "id": "a639fd84-29ca-4678-b568-2b1022701e14",
   "metadata": {},
   "outputs": [],
   "source": [
    "analysis_date = dt.date(2023, 5, 17)"
   ]
  },
  {
   "cell_type": "code",
   "execution_count": 3,
   "id": "47c79d99-c82f-4e1e-b11e-2b1e83c13a1b",
   "metadata": {},
   "outputs": [
    {
     "name": "stdout",
     "output_type": "stream",
     "text": [
      "{\"human_date\": \"May 17 2023 (Wednesday)\"}\n"
     ]
    }
   ],
   "source": [
    "%%capture_parameters\n",
    "human_date = analysis_date.strftime('%B %d %Y (%A)')\n",
    "human_date"
   ]
  },
  {
   "cell_type": "code",
   "execution_count": 4,
   "id": "8352dcfe-9c50-46ee-9f80-3b912440968e",
   "metadata": {},
   "outputs": [],
   "source": [
    "from tqdm.notebook import tqdm"
   ]
  },
  {
   "cell_type": "markdown",
   "id": "2dd26e5d-88d6-4410-bde6-07f031bdb1f3",
   "metadata": {},
   "source": [
    "# Transit on SHS by district (from `bus_service_increase`)"
   ]
  },
  {
   "cell_type": "code",
   "execution_count": 13,
   "id": "d0407964-22e4-410c-8d44-debfb85430e9",
   "metadata": {},
   "outputs": [],
   "source": [
    "path = 'gs://calitp-analytics-data/data-analyses/bus_service_increase/parallel_or_intersecting_2023-04-12.parquet'"
   ]
  },
  {
   "cell_type": "code",
   "execution_count": 14,
   "id": "4ece6a53-823a-4fef-8316-e007adc275db",
   "metadata": {},
   "outputs": [],
   "source": [
    "shs_pa = gpd.read_parquet(path)"
   ]
  },
  {
   "cell_type": "code",
   "execution_count": null,
   "id": "8ad66537-f820-45e6-83b7-0ba38cce7620",
   "metadata": {},
   "outputs": [],
   "source": [
    "## probably in feet? (yes)"
   ]
  },
  {
   "cell_type": "code",
   "execution_count": 16,
   "id": "40551d8f-6ed8-487b-8401-397d6864172c",
   "metadata": {},
   "outputs": [
    {
     "data": {
      "text/plain": [
       "<Projected CRS: EPSG:2229>\n",
       "Name: NAD83 / California zone 5 (ftUS)\n",
       "Axis Info [cartesian]:\n",
       "- X[east]: Easting (US survey foot)\n",
       "- Y[north]: Northing (US survey foot)\n",
       "Area of Use:\n",
       "- name: United States (USA) - California - counties Kern; Los Angeles; San Bernardino; San Luis Obispo; Santa Barbara; Ventura.\n",
       "- bounds: (-121.42, 32.76, -114.12, 35.81)\n",
       "Coordinate Operation:\n",
       "- name: SPCS83 California zone 5 (US Survey feet)\n",
       "- method: Lambert Conic Conformal (2SP)\n",
       "Datum: North American Datum 1983\n",
       "- Ellipsoid: GRS 1980\n",
       "- Prime Meridian: Greenwich"
      ]
     },
     "execution_count": 16,
     "metadata": {},
     "output_type": "execute_result"
    }
   ],
   "source": [
    "shs_pa.crs"
   ]
  },
  {
   "cell_type": "code",
   "execution_count": 17,
   "id": "9ef6fda6-d453-47e9-9257-fa6bd35a3150",
   "metadata": {},
   "outputs": [],
   "source": [
    "## highway lengths are presumably segments of some kind, not full rts"
   ]
  },
  {
   "cell_type": "code",
   "execution_count": 15,
   "id": "2b795a57-f33d-4917-8c29-6996020ed872",
   "metadata": {},
   "outputs": [
    {
     "data": {
      "text/html": [
       "<div>\n",
       "<style scoped>\n",
       "    .dataframe tbody tr th:only-of-type {\n",
       "        vertical-align: middle;\n",
       "    }\n",
       "\n",
       "    .dataframe tbody tr th {\n",
       "        vertical-align: top;\n",
       "    }\n",
       "\n",
       "    .dataframe thead th {\n",
       "        text-align: right;\n",
       "    }\n",
       "</style>\n",
       "<table border=\"1\" class=\"dataframe\">\n",
       "  <thead>\n",
       "    <tr style=\"text-align: right;\">\n",
       "      <th></th>\n",
       "      <th>feed_key</th>\n",
       "      <th>name</th>\n",
       "      <th>route_id</th>\n",
       "      <th>geometry</th>\n",
       "      <th>total_routes</th>\n",
       "      <th>route_length</th>\n",
       "      <th>Route</th>\n",
       "      <th>County</th>\n",
       "      <th>District</th>\n",
       "      <th>RouteType</th>\n",
       "      <th>NB</th>\n",
       "      <th>SB</th>\n",
       "      <th>EB</th>\n",
       "      <th>WB</th>\n",
       "      <th>highway_length</th>\n",
       "      <th>pct_route</th>\n",
       "      <th>pct_highway</th>\n",
       "      <th>parallel</th>\n",
       "    </tr>\n",
       "  </thead>\n",
       "  <tbody>\n",
       "    <tr>\n",
       "      <th>0</th>\n",
       "      <td>026ed9b585ddcd860d59a367139d7429</td>\n",
       "      <td>Bay Area 511 AC Transit Schedule</td>\n",
       "      <td>10</td>\n",
       "      <td>LINESTRING (5377530.006 3182846.533, 5377574.4...</td>\n",
       "      <td>113</td>\n",
       "      <td>40538.084415</td>\n",
       "      <td>112.0</td>\n",
       "      <td>ALA</td>\n",
       "      <td>4.0</td>\n",
       "      <td>State</td>\n",
       "      <td>0.0</td>\n",
       "      <td>0.0</td>\n",
       "      <td>1.0</td>\n",
       "      <td>1.0</td>\n",
       "      <td>9439.064210</td>\n",
       "      <td>0.130</td>\n",
       "      <td>0.557</td>\n",
       "      <td>0</td>\n",
       "    </tr>\n",
       "    <tr>\n",
       "      <th>1</th>\n",
       "      <td>026ed9b585ddcd860d59a367139d7429</td>\n",
       "      <td>Bay Area 511 AC Transit Schedule</td>\n",
       "      <td>10</td>\n",
       "      <td>LINESTRING (5377530.006 3182846.533, 5377574.4...</td>\n",
       "      <td>113</td>\n",
       "      <td>40538.084415</td>\n",
       "      <td>185.0</td>\n",
       "      <td>ALA</td>\n",
       "      <td>4.0</td>\n",
       "      <td>State</td>\n",
       "      <td>1.0</td>\n",
       "      <td>1.0</td>\n",
       "      <td>0.0</td>\n",
       "      <td>0.0</td>\n",
       "      <td>38599.895707</td>\n",
       "      <td>0.595</td>\n",
       "      <td>0.625</td>\n",
       "      <td>1</td>\n",
       "    </tr>\n",
       "    <tr>\n",
       "      <th>2</th>\n",
       "      <td>026ed9b585ddcd860d59a367139d7429</td>\n",
       "      <td>Bay Area 511 AC Transit Schedule</td>\n",
       "      <td>10</td>\n",
       "      <td>LINESTRING (5377530.006 3182846.533, 5377574.4...</td>\n",
       "      <td>113</td>\n",
       "      <td>40538.084415</td>\n",
       "      <td>238.0</td>\n",
       "      <td>ALA</td>\n",
       "      <td>4.0</td>\n",
       "      <td>State</td>\n",
       "      <td>1.0</td>\n",
       "      <td>1.0</td>\n",
       "      <td>0.0</td>\n",
       "      <td>0.0</td>\n",
       "      <td>54249.258347</td>\n",
       "      <td>0.289</td>\n",
       "      <td>0.216</td>\n",
       "      <td>1</td>\n",
       "    </tr>\n",
       "  </tbody>\n",
       "</table>\n",
       "</div>"
      ],
      "text/plain": [
       "                           feed_key                              name  \\\n",
       "0  026ed9b585ddcd860d59a367139d7429  Bay Area 511 AC Transit Schedule   \n",
       "1  026ed9b585ddcd860d59a367139d7429  Bay Area 511 AC Transit Schedule   \n",
       "2  026ed9b585ddcd860d59a367139d7429  Bay Area 511 AC Transit Schedule   \n",
       "\n",
       "  route_id                                           geometry  total_routes  \\\n",
       "0       10  LINESTRING (5377530.006 3182846.533, 5377574.4...           113   \n",
       "1       10  LINESTRING (5377530.006 3182846.533, 5377574.4...           113   \n",
       "2       10  LINESTRING (5377530.006 3182846.533, 5377574.4...           113   \n",
       "\n",
       "   route_length  Route County  District RouteType   NB   SB   EB   WB  \\\n",
       "0  40538.084415  112.0    ALA       4.0     State  0.0  0.0  1.0  1.0   \n",
       "1  40538.084415  185.0    ALA       4.0     State  1.0  1.0  0.0  0.0   \n",
       "2  40538.084415  238.0    ALA       4.0     State  1.0  1.0  0.0  0.0   \n",
       "\n",
       "   highway_length  pct_route  pct_highway  parallel  \n",
       "0     9439.064210      0.130        0.557         0  \n",
       "1    38599.895707      0.595        0.625         1  \n",
       "2    54249.258347      0.289        0.216         1  "
      ]
     },
     "execution_count": 15,
     "metadata": {},
     "output_type": "execute_result"
    }
   ],
   "source": [
    "shs_pa >> head(3)"
   ]
  },
  {
   "cell_type": "code",
   "execution_count": 18,
   "id": "a0f3b535-3b7a-454e-8f5e-8914e14da435",
   "metadata": {},
   "outputs": [],
   "source": [
    "shs_pa['mi_on_shs'] = shs_pa.route_length * shs_pa.pct_route / shared_utils.geography_utils.FEET_PER_MI"
   ]
  },
  {
   "cell_type": "code",
   "execution_count": 24,
   "id": "a36ea20b-15be-4f6b-81cf-f75c5f6dc84e",
   "metadata": {},
   "outputs": [],
   "source": [
    "shs_mileage = (shs_pa\n",
    " >> select(_.feed_key, _.route_id, _.mi_on_shs)\n",
    " >> group_by(_.feed_key, _.route_id)\n",
    " >> summarize(mi_on_shs = _.mi_on_shs.sum())\n",
    ")"
   ]
  },
  {
   "cell_type": "code",
   "execution_count": 6,
   "id": "a07c94c8-e2ec-41d3-b43d-1d4f68019bd4",
   "metadata": {},
   "outputs": [],
   "source": [
    "path = 'gs://calitp-analytics-data/data-analyses/bus_service_increase/routes_categorized_2023-04-12.parquet'"
   ]
  },
  {
   "cell_type": "code",
   "execution_count": 7,
   "id": "e6af42fd-8c5c-44be-a46c-6bf61589da8d",
   "metadata": {},
   "outputs": [],
   "source": [
    "shs_routes = gpd.read_parquet(path)"
   ]
  },
  {
   "cell_type": "code",
   "execution_count": 8,
   "id": "b0198758-dab1-4e72-943f-78907093ddda",
   "metadata": {},
   "outputs": [
    {
     "data": {
      "text/plain": [
       "Index(['feed_key', 'name', 'route_id', 'total_routes', 'geometry', 'district',\n",
       "       'service_hours', 'category', 'unique_route', 'route_length_mi'],\n",
       "      dtype='object')"
      ]
     },
     "execution_count": 8,
     "metadata": {},
     "output_type": "execute_result"
    }
   ],
   "source": [
    "shs_routes.columns"
   ]
  },
  {
   "cell_type": "code",
   "execution_count": 9,
   "id": "3500eb9a-c1e0-44c6-b23c-0bcf1727cfd6",
   "metadata": {},
   "outputs": [
    {
     "data": {
      "text/html": [
       "<div>\n",
       "<style scoped>\n",
       "    .dataframe tbody tr th:only-of-type {\n",
       "        vertical-align: middle;\n",
       "    }\n",
       "\n",
       "    .dataframe tbody tr th {\n",
       "        vertical-align: top;\n",
       "    }\n",
       "\n",
       "    .dataframe thead th {\n",
       "        text-align: right;\n",
       "    }\n",
       "</style>\n",
       "<table border=\"1\" class=\"dataframe\">\n",
       "  <thead>\n",
       "    <tr style=\"text-align: right;\">\n",
       "      <th></th>\n",
       "      <th>feed_key</th>\n",
       "      <th>name</th>\n",
       "      <th>route_id</th>\n",
       "      <th>total_routes</th>\n",
       "      <th>geometry</th>\n",
       "      <th>district</th>\n",
       "      <th>service_hours</th>\n",
       "      <th>category</th>\n",
       "      <th>unique_route</th>\n",
       "      <th>route_length_mi</th>\n",
       "    </tr>\n",
       "  </thead>\n",
       "  <tbody>\n",
       "    <tr>\n",
       "      <th>0</th>\n",
       "      <td>026ed9b585ddcd860d59a367139d7429</td>\n",
       "      <td>Bay Area 511 AC Transit Schedule</td>\n",
       "      <td>10</td>\n",
       "      <td>113</td>\n",
       "      <td>LINESTRING (-122.08709 37.67010, -122.08693 37...</td>\n",
       "      <td>4.0</td>\n",
       "      <td>70.90</td>\n",
       "      <td>on_shn</td>\n",
       "      <td>1</td>\n",
       "      <td>7.68</td>\n",
       "    </tr>\n",
       "    <tr>\n",
       "      <th>1</th>\n",
       "      <td>026ed9b585ddcd860d59a367139d7429</td>\n",
       "      <td>Bay Area 511 AC Transit Schedule</td>\n",
       "      <td>12</td>\n",
       "      <td>113</td>\n",
       "      <td>LINESTRING (-122.30044 37.87949, -122.30023 37...</td>\n",
       "      <td>4.0</td>\n",
       "      <td>103.55</td>\n",
       "      <td>other</td>\n",
       "      <td>1</td>\n",
       "      <td>11.30</td>\n",
       "    </tr>\n",
       "    <tr>\n",
       "      <th>2</th>\n",
       "      <td>026ed9b585ddcd860d59a367139d7429</td>\n",
       "      <td>Bay Area 511 AC Transit Schedule</td>\n",
       "      <td>14</td>\n",
       "      <td>113</td>\n",
       "      <td>LINESTRING (-122.22546 37.77552, -122.22563 37...</td>\n",
       "      <td>4.0</td>\n",
       "      <td>105.67</td>\n",
       "      <td>intersects_shn</td>\n",
       "      <td>1</td>\n",
       "      <td>10.89</td>\n",
       "    </tr>\n",
       "  </tbody>\n",
       "</table>\n",
       "</div>"
      ],
      "text/plain": [
       "                           feed_key                              name  \\\n",
       "0  026ed9b585ddcd860d59a367139d7429  Bay Area 511 AC Transit Schedule   \n",
       "1  026ed9b585ddcd860d59a367139d7429  Bay Area 511 AC Transit Schedule   \n",
       "2  026ed9b585ddcd860d59a367139d7429  Bay Area 511 AC Transit Schedule   \n",
       "\n",
       "  route_id  total_routes                                           geometry  \\\n",
       "0       10           113  LINESTRING (-122.08709 37.67010, -122.08693 37...   \n",
       "1       12           113  LINESTRING (-122.30044 37.87949, -122.30023 37...   \n",
       "2       14           113  LINESTRING (-122.22546 37.77552, -122.22563 37...   \n",
       "\n",
       "   district  service_hours        category  unique_route  route_length_mi  \n",
       "0       4.0          70.90          on_shn             1             7.68  \n",
       "1       4.0         103.55           other             1            11.30  \n",
       "2       4.0         105.67  intersects_shn             1            10.89  "
      ]
     },
     "execution_count": 9,
     "metadata": {},
     "output_type": "execute_result"
    }
   ],
   "source": [
    "shs_routes >> head(3)"
   ]
  },
  {
   "cell_type": "code",
   "execution_count": 29,
   "id": "0ad2587c-edb3-4a7a-9f50-379e0ea9f3b5",
   "metadata": {},
   "outputs": [],
   "source": [
    "df = (shs_routes\n",
    "      >> filter(-_.district.isna())\n",
    "      >> inner_join(_, shs_mileage, on = ['feed_key', 'route_id'])\n",
    "     )"
   ]
  },
  {
   "cell_type": "code",
   "execution_count": 31,
   "id": "07582345-ba81-48ed-b30b-ccb50e878aa3",
   "metadata": {},
   "outputs": [
    {
     "data": {
      "text/html": [
       "<div>\n",
       "<style scoped>\n",
       "    .dataframe tbody tr th:only-of-type {\n",
       "        vertical-align: middle;\n",
       "    }\n",
       "\n",
       "    .dataframe tbody tr th {\n",
       "        vertical-align: top;\n",
       "    }\n",
       "\n",
       "    .dataframe thead th {\n",
       "        text-align: right;\n",
       "    }\n",
       "</style>\n",
       "<table border=\"1\" class=\"dataframe\">\n",
       "  <thead>\n",
       "    <tr style=\"text-align: right;\">\n",
       "      <th></th>\n",
       "      <th>feed_key</th>\n",
       "      <th>name</th>\n",
       "      <th>route_id</th>\n",
       "      <th>total_routes</th>\n",
       "      <th>geometry</th>\n",
       "      <th>district</th>\n",
       "      <th>service_hours</th>\n",
       "      <th>category</th>\n",
       "      <th>unique_route</th>\n",
       "      <th>route_length_mi</th>\n",
       "      <th>mi_on_shs</th>\n",
       "    </tr>\n",
       "  </thead>\n",
       "  <tbody>\n",
       "    <tr>\n",
       "      <th>0</th>\n",
       "      <td>026ed9b585ddcd860d59a367139d7429</td>\n",
       "      <td>Bay Area 511 AC Transit Schedule</td>\n",
       "      <td>10</td>\n",
       "      <td>113</td>\n",
       "      <td>LINESTRING (-122.08709 37.67010, -122.08693 37...</td>\n",
       "      <td>4.0</td>\n",
       "      <td>70.90</td>\n",
       "      <td>on_shn</td>\n",
       "      <td>1</td>\n",
       "      <td>7.68</td>\n",
       "      <td>11.217072</td>\n",
       "    </tr>\n",
       "    <tr>\n",
       "      <th>1</th>\n",
       "      <td>026ed9b585ddcd860d59a367139d7429</td>\n",
       "      <td>Bay Area 511 AC Transit Schedule</td>\n",
       "      <td>12</td>\n",
       "      <td>113</td>\n",
       "      <td>LINESTRING (-122.30044 37.87949, -122.30023 37...</td>\n",
       "      <td>4.0</td>\n",
       "      <td>103.55</td>\n",
       "      <td>other</td>\n",
       "      <td>1</td>\n",
       "      <td>11.30</td>\n",
       "      <td>10.020702</td>\n",
       "    </tr>\n",
       "    <tr>\n",
       "      <th>2</th>\n",
       "      <td>026ed9b585ddcd860d59a367139d7429</td>\n",
       "      <td>Bay Area 511 AC Transit Schedule</td>\n",
       "      <td>14</td>\n",
       "      <td>113</td>\n",
       "      <td>LINESTRING (-122.22546 37.77552, -122.22563 37...</td>\n",
       "      <td>4.0</td>\n",
       "      <td>105.67</td>\n",
       "      <td>intersects_shn</td>\n",
       "      <td>1</td>\n",
       "      <td>10.89</td>\n",
       "      <td>11.832590</td>\n",
       "    </tr>\n",
       "  </tbody>\n",
       "</table>\n",
       "</div>"
      ],
      "text/plain": [
       "                           feed_key                              name  \\\n",
       "0  026ed9b585ddcd860d59a367139d7429  Bay Area 511 AC Transit Schedule   \n",
       "1  026ed9b585ddcd860d59a367139d7429  Bay Area 511 AC Transit Schedule   \n",
       "2  026ed9b585ddcd860d59a367139d7429  Bay Area 511 AC Transit Schedule   \n",
       "\n",
       "  route_id  total_routes                                           geometry  \\\n",
       "0       10           113  LINESTRING (-122.08709 37.67010, -122.08693 37...   \n",
       "1       12           113  LINESTRING (-122.30044 37.87949, -122.30023 37...   \n",
       "2       14           113  LINESTRING (-122.22546 37.77552, -122.22563 37...   \n",
       "\n",
       "   district  service_hours        category  unique_route  route_length_mi  \\\n",
       "0       4.0          70.90          on_shn             1             7.68   \n",
       "1       4.0         103.55           other             1            11.30   \n",
       "2       4.0         105.67  intersects_shn             1            10.89   \n",
       "\n",
       "   mi_on_shs  \n",
       "0  11.217072  \n",
       "1  10.020702  \n",
       "2  11.832590  "
      ]
     },
     "execution_count": 31,
     "metadata": {},
     "output_type": "execute_result"
    }
   ],
   "source": [
    "df >> head(3)"
   ]
  },
  {
   "cell_type": "code",
   "execution_count": 38,
   "id": "11ebead9-f87e-4ee9-b194-18f20df24dc5",
   "metadata": {},
   "outputs": [
    {
     "data": {
      "text/html": [
       "<div>\n",
       "<style scoped>\n",
       "    .dataframe tbody tr th:only-of-type {\n",
       "        vertical-align: middle;\n",
       "    }\n",
       "\n",
       "    .dataframe tbody tr th {\n",
       "        vertical-align: top;\n",
       "    }\n",
       "\n",
       "    .dataframe thead th {\n",
       "        text-align: right;\n",
       "    }\n",
       "</style>\n",
       "<table border=\"1\" class=\"dataframe\">\n",
       "  <thead>\n",
       "    <tr style=\"text-align: right;\">\n",
       "      <th></th>\n",
       "      <th>district</th>\n",
       "      <th>n</th>\n",
       "      <th>mi_on_shs</th>\n",
       "    </tr>\n",
       "  </thead>\n",
       "  <tbody>\n",
       "    <tr>\n",
       "      <th>0</th>\n",
       "      <td>1.0</td>\n",
       "      <td>40</td>\n",
       "      <td>1052.175156</td>\n",
       "    </tr>\n",
       "    <tr>\n",
       "      <th>1</th>\n",
       "      <td>2.0</td>\n",
       "      <td>35</td>\n",
       "      <td>1059.337037</td>\n",
       "    </tr>\n",
       "    <tr>\n",
       "      <th>2</th>\n",
       "      <td>3.0</td>\n",
       "      <td>209</td>\n",
       "      <td>3150.887764</td>\n",
       "    </tr>\n",
       "    <tr>\n",
       "      <th>3</th>\n",
       "      <td>4.0</td>\n",
       "      <td>622</td>\n",
       "      <td>7195.786269</td>\n",
       "    </tr>\n",
       "    <tr>\n",
       "      <th>4</th>\n",
       "      <td>5.0</td>\n",
       "      <td>144</td>\n",
       "      <td>2644.610772</td>\n",
       "    </tr>\n",
       "    <tr>\n",
       "      <th>5</th>\n",
       "      <td>6.0</td>\n",
       "      <td>109</td>\n",
       "      <td>1759.615480</td>\n",
       "    </tr>\n",
       "    <tr>\n",
       "      <th>6</th>\n",
       "      <td>7.0</td>\n",
       "      <td>494</td>\n",
       "      <td>5949.395936</td>\n",
       "    </tr>\n",
       "    <tr>\n",
       "      <th>7</th>\n",
       "      <td>8.0</td>\n",
       "      <td>176</td>\n",
       "      <td>2420.820507</td>\n",
       "    </tr>\n",
       "    <tr>\n",
       "      <th>8</th>\n",
       "      <td>9.0</td>\n",
       "      <td>16</td>\n",
       "      <td>838.577457</td>\n",
       "    </tr>\n",
       "    <tr>\n",
       "      <th>9</th>\n",
       "      <td>10.0</td>\n",
       "      <td>124</td>\n",
       "      <td>1592.297178</td>\n",
       "    </tr>\n",
       "    <tr>\n",
       "      <th>10</th>\n",
       "      <td>11.0</td>\n",
       "      <td>161</td>\n",
       "      <td>1579.869794</td>\n",
       "    </tr>\n",
       "    <tr>\n",
       "      <th>11</th>\n",
       "      <td>12.0</td>\n",
       "      <td>71</td>\n",
       "      <td>623.197126</td>\n",
       "    </tr>\n",
       "  </tbody>\n",
       "</table>\n",
       "</div>"
      ],
      "text/plain": [
       "    district    n    mi_on_shs\n",
       "0        1.0   40  1052.175156\n",
       "1        2.0   35  1059.337037\n",
       "2        3.0  209  3150.887764\n",
       "3        4.0  622  7195.786269\n",
       "4        5.0  144  2644.610772\n",
       "5        6.0  109  1759.615480\n",
       "6        7.0  494  5949.395936\n",
       "7        8.0  176  2420.820507\n",
       "8        9.0   16   838.577457\n",
       "9       10.0  124  1592.297178\n",
       "10      11.0  161  1579.869794\n",
       "11      12.0   71   623.197126"
      ]
     },
     "execution_count": 38,
     "metadata": {},
     "output_type": "execute_result"
    }
   ],
   "source": [
    "(df >> group_by(_.district)\n",
    "    >> summarize(n = _.shape[0], mi_on_shs = _.mi_on_shs.sum())\n",
    "    # >> spread('category', 'n')\n",
    ")"
   ]
  },
  {
   "cell_type": "code",
   "execution_count": 39,
   "id": "7d5d823e-5892-434f-8900-d9e7332983d1",
   "metadata": {},
   "outputs": [
    {
     "data": {
      "text/html": [
       "<div>\n",
       "<style scoped>\n",
       "    .dataframe tbody tr th:only-of-type {\n",
       "        vertical-align: middle;\n",
       "    }\n",
       "\n",
       "    .dataframe tbody tr th {\n",
       "        vertical-align: top;\n",
       "    }\n",
       "\n",
       "    .dataframe thead th {\n",
       "        text-align: right;\n",
       "    }\n",
       "</style>\n",
       "<table border=\"1\" class=\"dataframe\">\n",
       "  <thead>\n",
       "    <tr style=\"text-align: right;\">\n",
       "      <th></th>\n",
       "      <th>district</th>\n",
       "      <th>intersects_shn</th>\n",
       "      <th>on_shn</th>\n",
       "      <th>other</th>\n",
       "      <th>total</th>\n",
       "    </tr>\n",
       "  </thead>\n",
       "  <tbody>\n",
       "    <tr>\n",
       "      <th>0</th>\n",
       "      <td>1.0</td>\n",
       "      <td>18.0</td>\n",
       "      <td>21.0</td>\n",
       "      <td>1.0</td>\n",
       "      <td>40.0</td>\n",
       "    </tr>\n",
       "    <tr>\n",
       "      <th>1</th>\n",
       "      <td>2.0</td>\n",
       "      <td>12.0</td>\n",
       "      <td>22.0</td>\n",
       "      <td>1.0</td>\n",
       "      <td>35.0</td>\n",
       "    </tr>\n",
       "    <tr>\n",
       "      <th>2</th>\n",
       "      <td>3.0</td>\n",
       "      <td>98.0</td>\n",
       "      <td>77.0</td>\n",
       "      <td>34.0</td>\n",
       "      <td>209.0</td>\n",
       "    </tr>\n",
       "    <tr>\n",
       "      <th>3</th>\n",
       "      <td>4.0</td>\n",
       "      <td>408.0</td>\n",
       "      <td>135.0</td>\n",
       "      <td>79.0</td>\n",
       "      <td>622.0</td>\n",
       "    </tr>\n",
       "    <tr>\n",
       "      <th>4</th>\n",
       "      <td>5.0</td>\n",
       "      <td>76.0</td>\n",
       "      <td>54.0</td>\n",
       "      <td>14.0</td>\n",
       "      <td>144.0</td>\n",
       "    </tr>\n",
       "    <tr>\n",
       "      <th>5</th>\n",
       "      <td>6.0</td>\n",
       "      <td>52.0</td>\n",
       "      <td>33.0</td>\n",
       "      <td>24.0</td>\n",
       "      <td>109.0</td>\n",
       "    </tr>\n",
       "    <tr>\n",
       "      <th>6</th>\n",
       "      <td>7.0</td>\n",
       "      <td>284.0</td>\n",
       "      <td>99.0</td>\n",
       "      <td>111.0</td>\n",
       "      <td>494.0</td>\n",
       "    </tr>\n",
       "    <tr>\n",
       "      <th>7</th>\n",
       "      <td>8.0</td>\n",
       "      <td>76.0</td>\n",
       "      <td>43.0</td>\n",
       "      <td>57.0</td>\n",
       "      <td>176.0</td>\n",
       "    </tr>\n",
       "    <tr>\n",
       "      <th>8</th>\n",
       "      <td>9.0</td>\n",
       "      <td>5.0</td>\n",
       "      <td>11.0</td>\n",
       "      <td>NaN</td>\n",
       "      <td>NaN</td>\n",
       "    </tr>\n",
       "    <tr>\n",
       "      <th>9</th>\n",
       "      <td>10.0</td>\n",
       "      <td>69.0</td>\n",
       "      <td>37.0</td>\n",
       "      <td>18.0</td>\n",
       "      <td>124.0</td>\n",
       "    </tr>\n",
       "    <tr>\n",
       "      <th>10</th>\n",
       "      <td>11.0</td>\n",
       "      <td>117.0</td>\n",
       "      <td>26.0</td>\n",
       "      <td>18.0</td>\n",
       "      <td>161.0</td>\n",
       "    </tr>\n",
       "    <tr>\n",
       "      <th>11</th>\n",
       "      <td>12.0</td>\n",
       "      <td>33.0</td>\n",
       "      <td>8.0</td>\n",
       "      <td>30.0</td>\n",
       "      <td>71.0</td>\n",
       "    </tr>\n",
       "  </tbody>\n",
       "</table>\n",
       "</div>"
      ],
      "text/plain": [
       "    district  intersects_shn  on_shn  other  total\n",
       "0        1.0            18.0    21.0    1.0   40.0\n",
       "1        2.0            12.0    22.0    1.0   35.0\n",
       "2        3.0            98.0    77.0   34.0  209.0\n",
       "3        4.0           408.0   135.0   79.0  622.0\n",
       "4        5.0            76.0    54.0   14.0  144.0\n",
       "5        6.0            52.0    33.0   24.0  109.0\n",
       "6        7.0           284.0    99.0  111.0  494.0\n",
       "7        8.0            76.0    43.0   57.0  176.0\n",
       "8        9.0             5.0    11.0    NaN    NaN\n",
       "9       10.0            69.0    37.0   18.0  124.0\n",
       "10      11.0           117.0    26.0   18.0  161.0\n",
       "11      12.0            33.0     8.0   30.0   71.0"
      ]
     },
     "execution_count": 39,
     "metadata": {},
     "output_type": "execute_result"
    }
   ],
   "source": [
    "(df\n",
    "    >> count(_.district, _.category)\n",
    "    >> spread('category', 'n')\n",
    "    >> mutate(total = _.intersects_shn + _.on_shn + _.other)\n",
    ")"
   ]
  },
  {
   "cell_type": "code",
   "execution_count": 40,
   "id": "fb4f7e80-1fe3-49a2-91b9-b0330122b2eb",
   "metadata": {},
   "outputs": [],
   "source": [
    "# df.to_csv('df.csv')"
   ]
  },
  {
   "cell_type": "markdown",
   "id": "8049ab71-3913-4d57-999d-95b56ec72387",
   "metadata": {},
   "source": [
    "# Frequent SHN Routes\n",
    "\n",
    "* quickly look for frequent transit routes using the State Highway Network\n",
    "* also evaluate applicable district-sourced ideas\n",
    "\n",
    "### CT Links:\n",
    "\n",
    "https://app.smartsheet.com/folders/whC3J79cMJCf3MqQ7MGv8pxHgQ3JQ68VwGQGwX21\n",
    "\n",
    "https://caltrans-my.sharepoint.com/:p:/g/personal/audrey_ogden_dot_ca_gov/EZbU16vBqYZHvrORsT-LzwsBBxJCZqfUPaKHmm5uqWmn_Q?e=4%3A4Ijf9v&CID=80D7A50B-5D1F-497F-8C92-9435B5782132&wdLOR=c3E29B53E-4F87-436E-BEDA-3F4281A53835\n"
   ]
  },
  {
   "cell_type": "markdown",
   "id": "cf310c07-b4e3-4d66-a1c7-b58eb94b1f7a",
   "metadata": {},
   "source": [
    "## pbar"
   ]
  },
  {
   "cell_type": "code",
   "execution_count": null,
   "id": "1f76e269-5dd6-40b8-b36f-4fd83ad32478",
   "metadata": {},
   "outputs": [],
   "source": [
    "pbar = tqdm()"
   ]
  },
  {
   "cell_type": "markdown",
   "id": "52110155-d104-4043-8376-3f83e82a959a",
   "metadata": {},
   "source": [
    "# SFMTA"
   ]
  },
  {
   "cell_type": "code",
   "execution_count": null,
   "id": "9f15ed6a-5ab7-4f57-9695-3f762781b74c",
   "metadata": {
    "tags": [
     "parameters"
    ]
   },
   "outputs": [],
   "source": [
    "## parameters cell\n",
    "itp_id = 282"
   ]
  },
  {
   "cell_type": "code",
   "execution_count": null,
   "id": "e4cbefc6-9bbb-4989-85b7-1f31da17fcb8",
   "metadata": {},
   "outputs": [],
   "source": [
    "%%capture\n",
    "rt_day = rt_filter_map_plot.from_gcs(itp_id, analysis_date, pbar)"
   ]
  },
  {
   "cell_type": "code",
   "execution_count": null,
   "id": "6c335d40-7a7b-4641-8a3d-c970b2823cdf",
   "metadata": {},
   "outputs": [],
   "source": [
    "%%capture_parameters\n",
    "organization_name = rt_day.organization_name\n",
    "organization_name"
   ]
  },
  {
   "cell_type": "code",
   "execution_count": null,
   "id": "5e2b6890-c4a6-4682-b0f5-9eb6373f431a",
   "metadata": {},
   "outputs": [],
   "source": [
    "rt_day.set_filter(route_names = ['43', '28', '29'])"
   ]
  },
  {
   "cell_type": "code",
   "execution_count": null,
   "id": "864748d4-9187-4b85-b4a6-99f65e893dfd",
   "metadata": {},
   "outputs": [],
   "source": [
    "_m = rt_day.segment_speed_map()"
   ]
  },
  {
   "cell_type": "markdown",
   "id": "dc703f61-41d3-46bd-b3cf-986689a1bb91",
   "metadata": {},
   "source": [
    "## Muni Lombard"
   ]
  },
  {
   "cell_type": "code",
   "execution_count": null,
   "id": "3d268204-d179-4c72-b27b-5002a3d99f08",
   "metadata": {},
   "outputs": [],
   "source": [
    "rt_day.autocorridor(shape_id = '2856', stop_seq_range = [27, 32])"
   ]
  },
  {
   "cell_type": "code",
   "execution_count": null,
   "id": "ea3579c6-ec03-4572-9f5c-dad85807bfb2",
   "metadata": {},
   "outputs": [],
   "source": [
    "rt_day.corridor_stop_delays >> distinct(_.route_short_name)"
   ]
  },
  {
   "cell_type": "code",
   "execution_count": null,
   "id": "5831283d-385c-484a-9fa0-2a02f6f90e14",
   "metadata": {},
   "outputs": [],
   "source": [
    "rt_day.corridor_metrics()"
   ]
  },
  {
   "cell_type": "code",
   "execution_count": null,
   "id": "81055e2d-3a87-4912-b652-82eebe3235d4",
   "metadata": {
    "tags": []
   },
   "outputs": [],
   "source": [
    "rt_day.quick_map_corridor()"
   ]
  },
  {
   "cell_type": "code",
   "execution_count": null,
   "id": "c2bb4fa2-616b-43ec-9a3e-ac84576ff1a8",
   "metadata": {
    "tags": []
   },
   "outputs": [],
   "source": [
    "# m = rt_day.segment_speed_map(how='low_speeds', no_title=False, shn=True, corridor=True)\n",
    "# m"
   ]
  },
  {
   "cell_type": "code",
   "execution_count": null,
   "id": "30c329fb-776b-4ced-a4cb-9c46d3d78309",
   "metadata": {},
   "outputs": [],
   "source": [
    "all_corridors = []"
   ]
  },
  {
   "cell_type": "code",
   "execution_count": null,
   "id": "0afe264f-43ab-4287-9b02-7c20a0667055",
   "metadata": {},
   "outputs": [],
   "source": [
    "rt_day.corridor['corridor'] = 'us101_lombard'"
   ]
  },
  {
   "cell_type": "code",
   "execution_count": null,
   "id": "84472c45-e014-4577-bd70-8052dd3445ca",
   "metadata": {},
   "outputs": [],
   "source": [
    "all_corridors += [rt_day.corridor]"
   ]
  },
  {
   "cell_type": "markdown",
   "id": "72a92fed-fb60-4ede-8494-d59a806bbd63",
   "metadata": {
    "tags": []
   },
   "source": [
    "## Muni 19th A (add, check if B worth it)"
   ]
  },
  {
   "cell_type": "code",
   "execution_count": null,
   "id": "51c88fe2-9a12-4b21-a2a1-e5d332b4ad03",
   "metadata": {},
   "outputs": [],
   "source": [
    "rt_day.autocorridor(shape_id = '2808', stop_seq_range = [21, 32])"
   ]
  },
  {
   "cell_type": "code",
   "execution_count": null,
   "id": "9ad1e958-e674-4187-a3f6-a2ba1ab99b1d",
   "metadata": {},
   "outputs": [],
   "source": [
    "# rt_day.corridor_stop_delays >> distinct(_.route_short_name)"
   ]
  },
  {
   "cell_type": "code",
   "execution_count": null,
   "id": "767fb8df-107d-4f06-ad64-8aaed2c72f30",
   "metadata": {},
   "outputs": [],
   "source": [
    "rt_day.corridor_metrics()"
   ]
  },
  {
   "cell_type": "code",
   "execution_count": null,
   "id": "e97fc987-4842-46c3-ace3-8604722969d8",
   "metadata": {},
   "outputs": [],
   "source": [
    "rt_day.quick_map_corridor()"
   ]
  },
  {
   "cell_type": "code",
   "execution_count": null,
   "id": "db8df09e-3e5d-4bcb-8be3-20c61fe3035a",
   "metadata": {},
   "outputs": [],
   "source": [
    "# m = rt_day.segment_speed_map(how='low_speeds', no_title=False, shn=True, corridor=True)\n",
    "## geoms error, no time to fix"
   ]
  },
  {
   "cell_type": "code",
   "execution_count": null,
   "id": "1b497fad-b606-496b-ae1f-f33e9d61ad26",
   "metadata": {},
   "outputs": [],
   "source": [
    "rt_day.corridor['corridor'] = 'sr1_19th_a'"
   ]
  },
  {
   "cell_type": "code",
   "execution_count": null,
   "id": "981be42c-e8f6-495e-80c5-5e356d25632f",
   "metadata": {},
   "outputs": [],
   "source": [
    "all_corridors += [rt_day.corridor]"
   ]
  },
  {
   "cell_type": "markdown",
   "id": "44cdaf50-dbbd-4110-8bc9-6bc4bed451cd",
   "metadata": {
    "tags": []
   },
   "source": [
    "## Muni 19th B"
   ]
  },
  {
   "cell_type": "code",
   "execution_count": null,
   "id": "e3158577-c1ba-4d17-9973-23b04cabf0ea",
   "metadata": {},
   "outputs": [],
   "source": [
    "rt_day.autocorridor(shape_id = '2808', stop_seq_range = [32, 37])"
   ]
  },
  {
   "cell_type": "code",
   "execution_count": null,
   "id": "cdefdb6d-ec40-4ab7-aa7b-d9aa1e112618",
   "metadata": {},
   "outputs": [],
   "source": [
    "rt_day.corridor_stop_delays >> distinct(_.route_short_name)"
   ]
  },
  {
   "cell_type": "code",
   "execution_count": null,
   "id": "6c803d57-ca0d-4d4b-8e58-e771f7f5e4c5",
   "metadata": {},
   "outputs": [],
   "source": [
    "rt_day.corridor_metrics()"
   ]
  },
  {
   "cell_type": "code",
   "execution_count": null,
   "id": "32de4a73-90d2-476f-9551-e72e9e81bd78",
   "metadata": {},
   "outputs": [],
   "source": [
    "rt_day.quick_map_corridor()"
   ]
  },
  {
   "cell_type": "code",
   "execution_count": null,
   "id": "84a841d7-3339-4fb6-b902-a0684197cd89",
   "metadata": {},
   "outputs": [],
   "source": [
    "rt_day.corridor['corridor'] = 'sr1_19th_b'"
   ]
  },
  {
   "cell_type": "code",
   "execution_count": null,
   "id": "2da2e554-a95a-45dd-b2d1-bd6f54984732",
   "metadata": {},
   "outputs": [],
   "source": [
    "all_corridors += [rt_day.corridor]"
   ]
  },
  {
   "cell_type": "code",
   "execution_count": null,
   "id": "c8df5265-eccb-43ea-b1ce-a7b403e24278",
   "metadata": {},
   "outputs": [],
   "source": [
    "# m = rt_day.segment_speed_map(how='low_speeds', no_title=False, shn=True, corridor=True)"
   ]
  },
  {
   "cell_type": "markdown",
   "id": "1d1b9c2e-20e4-496f-840e-845dc862d180",
   "metadata": {
    "tags": []
   },
   "source": [
    "## GGT (skip)"
   ]
  },
  {
   "cell_type": "markdown",
   "id": "02eb001f-e0f4-44d7-902d-36cbe15f55a3",
   "metadata": {},
   "source": [
    "# AC Transit"
   ]
  },
  {
   "cell_type": "code",
   "execution_count": null,
   "id": "6b13c054-d039-4c11-94c8-4eff742a84a1",
   "metadata": {
    "tags": [
     "parameters"
    ]
   },
   "outputs": [],
   "source": [
    "## parameters cell\n",
    "itp_id = 4"
   ]
  },
  {
   "cell_type": "code",
   "execution_count": null,
   "id": "6bb0a27a-0b95-4c85-b606-65bd6db9e4a1",
   "metadata": {},
   "outputs": [],
   "source": [
    "%%capture\n",
    "rt_day = rt_filter_map_plot.from_gcs(itp_id, analysis_date, pbar)"
   ]
  },
  {
   "cell_type": "code",
   "execution_count": null,
   "id": "5cafc3ad-32c6-4c5f-9f75-1dc27cc020bd",
   "metadata": {},
   "outputs": [],
   "source": [
    "rt_day.transit_priority_target_mph = 20"
   ]
  },
  {
   "cell_type": "code",
   "execution_count": null,
   "id": "36456654-ac8b-4b15-9301-42ec36574ea2",
   "metadata": {},
   "outputs": [],
   "source": [
    "%%capture_parameters\n",
    "organization_name = rt_day.organization_name\n",
    "organization_name"
   ]
  },
  {
   "cell_type": "code",
   "execution_count": null,
   "id": "8d5f7763-e2bd-46e4-906c-2b8efb36739a",
   "metadata": {},
   "outputs": [],
   "source": [
    "rt_day.set_filter(route_names = ['72', '72M', '72R'])"
   ]
  },
  {
   "cell_type": "code",
   "execution_count": null,
   "id": "15bb169a-6a27-413e-9a99-49c9e4c00646",
   "metadata": {},
   "outputs": [],
   "source": [
    "_m = rt_day.segment_speed_map()"
   ]
  },
  {
   "cell_type": "markdown",
   "id": "2002cb0a-ee4b-43a8-841c-827834bb6322",
   "metadata": {},
   "source": [
    "## AC Transit San Pablo"
   ]
  },
  {
   "cell_type": "code",
   "execution_count": null,
   "id": "13b1c7d0-1887-4286-b64a-80fd5b735e44",
   "metadata": {},
   "outputs": [],
   "source": [
    "rt_day.autocorridor(shape_id = 'shp-72R-15', stop_seq_range = [9, 19])"
   ]
  },
  {
   "cell_type": "code",
   "execution_count": null,
   "id": "a9f6f78b-265a-4c45-9c29-74aa563d0311",
   "metadata": {},
   "outputs": [],
   "source": [
    "# rt_day.corridor_stop_delays >> distinct(_.route_short_name)"
   ]
  },
  {
   "cell_type": "code",
   "execution_count": null,
   "id": "63f0e253-de94-4a97-a802-652a77c23dcb",
   "metadata": {},
   "outputs": [],
   "source": [
    "rt_day.corridor_metrics()"
   ]
  },
  {
   "cell_type": "code",
   "execution_count": null,
   "id": "6c35a711-7fb4-4e3e-b326-384afe6270ce",
   "metadata": {},
   "outputs": [],
   "source": [
    "rt_day.quick_map_corridor()"
   ]
  },
  {
   "cell_type": "code",
   "execution_count": null,
   "id": "72e82f12-ed8b-41f0-bc7c-4f2449ca8814",
   "metadata": {},
   "outputs": [],
   "source": [
    "# m = rt_day.segment_speed_map(how='low_speeds', no_title=False, shn=True, corridor=True)"
   ]
  },
  {
   "cell_type": "code",
   "execution_count": null,
   "id": "3b6db4e9-ffbd-4fa9-997b-b041ecd451f0",
   "metadata": {},
   "outputs": [],
   "source": [
    "rt_day.corridor['corridor'] = 'sr123_san_pablo'"
   ]
  },
  {
   "cell_type": "code",
   "execution_count": null,
   "id": "c429c78b-23e3-43a7-914d-48117330bdc8",
   "metadata": {},
   "outputs": [],
   "source": [
    "all_corridors += [rt_day.corridor]"
   ]
  },
  {
   "cell_type": "markdown",
   "id": "a0a80bcd-8e6f-4285-8b68-2a24c2d6f34f",
   "metadata": {},
   "source": [
    "# BBB (add)"
   ]
  },
  {
   "cell_type": "code",
   "execution_count": null,
   "id": "589319db-bf04-4d73-98b1-94e0707f8764",
   "metadata": {
    "tags": [
     "parameters"
    ]
   },
   "outputs": [],
   "source": [
    "## parameters cell\n",
    "itp_id = 300"
   ]
  },
  {
   "cell_type": "code",
   "execution_count": null,
   "id": "374dfb1f-ef11-4a04-a07a-c3a7cca7f793",
   "metadata": {},
   "outputs": [],
   "source": [
    "%%capture\n",
    "rt_day = rt_filter_map_plot.from_gcs(itp_id, analysis_date, pbar)"
   ]
  },
  {
   "cell_type": "code",
   "execution_count": null,
   "id": "6010da46-2492-4079-8b37-a3130d869833",
   "metadata": {},
   "outputs": [],
   "source": [
    "%%capture_parameters\n",
    "organization_name = rt_day.organization_name\n",
    "organization_name"
   ]
  },
  {
   "cell_type": "code",
   "execution_count": null,
   "id": "56927c73-6af4-404c-8b99-64ae0a812f1d",
   "metadata": {},
   "outputs": [],
   "source": [
    "rt_day.set_filter(route_names = ['3', 'R3'])"
   ]
  },
  {
   "cell_type": "code",
   "execution_count": null,
   "id": "2b16ca37-28ed-4650-a20d-89f4c75cd7ae",
   "metadata": {},
   "outputs": [],
   "source": [
    "_m = rt_day.segment_speed_map()"
   ]
  },
  {
   "cell_type": "code",
   "execution_count": null,
   "id": "204ba70c-9291-4baa-94e3-8c7b2f3df8d4",
   "metadata": {},
   "outputs": [],
   "source": [
    "# _m"
   ]
  },
  {
   "cell_type": "markdown",
   "id": "c1f92dee-43e9-4a9e-ba39-be017f989196",
   "metadata": {},
   "source": [
    "## BBB Lincoln"
   ]
  },
  {
   "cell_type": "code",
   "execution_count": null,
   "id": "471f5351-3281-49b6-ab16-655a08f66457",
   "metadata": {},
   "outputs": [],
   "source": [
    "rt_day.autocorridor(shape_id = '26355', stop_seq_range = [16, 29])"
   ]
  },
  {
   "cell_type": "code",
   "execution_count": null,
   "id": "3161984b-af55-463c-b8ba-1d55fa046b77",
   "metadata": {},
   "outputs": [],
   "source": [
    "# rt_day.corridor_stop_delays >> distinct(_.route_short_name)"
   ]
  },
  {
   "cell_type": "code",
   "execution_count": null,
   "id": "2a3e485c-4123-4419-b927-672400e1a769",
   "metadata": {},
   "outputs": [],
   "source": [
    "rt_day.corridor_metrics()"
   ]
  },
  {
   "cell_type": "code",
   "execution_count": null,
   "id": "7a8c2cbe-2011-407c-ac8a-866db4f447bb",
   "metadata": {
    "tags": []
   },
   "outputs": [],
   "source": [
    "rt_day.quick_map_corridor()"
   ]
  },
  {
   "cell_type": "code",
   "execution_count": null,
   "id": "ec0a38ab-81b6-4018-9b13-8ef9d098e8fb",
   "metadata": {},
   "outputs": [],
   "source": [
    "# m = rt_day.segment_speed_map(how='low_speeds', no_title=False, shn=True, corridor=True)"
   ]
  },
  {
   "cell_type": "code",
   "execution_count": null,
   "id": "c46b0d9f-0042-42d6-b9d3-f05df2ab5d99",
   "metadata": {},
   "outputs": [],
   "source": [
    "rt_day.corridor['corridor'] = 'sr1_lincoln'"
   ]
  },
  {
   "cell_type": "code",
   "execution_count": null,
   "id": "e08fa75b-d721-47b3-b87a-5313c1754a62",
   "metadata": {},
   "outputs": [],
   "source": [
    "all_corridors += [rt_day.corridor]"
   ]
  },
  {
   "cell_type": "markdown",
   "id": "9d78d962-ea22-48d7-9bbf-6835815d79ae",
   "metadata": {},
   "source": [
    "# LA Metro"
   ]
  },
  {
   "cell_type": "code",
   "execution_count": null,
   "id": "11767170-9ab1-4e51-8ba1-50008f2d77a7",
   "metadata": {
    "tags": [
     "parameters"
    ]
   },
   "outputs": [],
   "source": [
    "## parameters cell\n",
    "itp_id = 182"
   ]
  },
  {
   "cell_type": "code",
   "execution_count": null,
   "id": "1ceb7f5f-8c83-4d2d-934a-22bf91887d5d",
   "metadata": {},
   "outputs": [],
   "source": [
    "%%capture\n",
    "rt_day = rt_filter_map_plot.from_gcs(itp_id, analysis_date, pbar)"
   ]
  },
  {
   "cell_type": "code",
   "execution_count": null,
   "id": "4337e7b3-6a65-411b-b580-2ad42debe79b",
   "metadata": {},
   "outputs": [],
   "source": [
    "%%capture_parameters\n",
    "organization_name = rt_day.organization_name\n",
    "organization_name"
   ]
  },
  {
   "cell_type": "code",
   "execution_count": null,
   "id": "f9119de1-111b-4f45-a382-c6d7d66761a9",
   "metadata": {},
   "outputs": [],
   "source": [
    "rt_day.set_filter(route_names = ['4'])"
   ]
  },
  {
   "cell_type": "code",
   "execution_count": null,
   "id": "66dfc67a-a3d0-4f10-90a8-fa553764d61a",
   "metadata": {},
   "outputs": [],
   "source": [
    "_m = rt_day.segment_speed_map()"
   ]
  },
  {
   "cell_type": "markdown",
   "id": "34f7b12c-c262-4786-80bf-0646d7f98ce2",
   "metadata": {},
   "source": [
    "## Metro Santa Monica Bl"
   ]
  },
  {
   "cell_type": "code",
   "execution_count": null,
   "id": "a990dd8e-8b01-41bc-a6cc-4575591c0e55",
   "metadata": {},
   "outputs": [],
   "source": [
    "rt_day.autocorridor(shape_id = '40336_DEC22', stop_seq_range = [39, 49])"
   ]
  },
  {
   "cell_type": "code",
   "execution_count": null,
   "id": "39e9fcf5-6ef6-4422-8ea3-350b3e13c4df",
   "metadata": {},
   "outputs": [],
   "source": [
    "rt_day.corridor_stop_delays >> distinct(_.route_short_name)"
   ]
  },
  {
   "cell_type": "code",
   "execution_count": null,
   "id": "8b6259eb-dd21-4da4-934c-f3dcfc31b517",
   "metadata": {},
   "outputs": [],
   "source": [
    "rt_day.corridor_metrics()"
   ]
  },
  {
   "cell_type": "code",
   "execution_count": null,
   "id": "a115cf70-d29b-4256-b112-421564e94823",
   "metadata": {},
   "outputs": [],
   "source": [
    "rt_day.quick_map_corridor()"
   ]
  },
  {
   "cell_type": "code",
   "execution_count": null,
   "id": "e144b197-07dd-446b-bfc0-9d11b004f7ad",
   "metadata": {},
   "outputs": [],
   "source": [
    "# m = rt_day.segment_speed_map(how='low_speeds', no_title=False, shn=True, corridor=True)"
   ]
  },
  {
   "cell_type": "code",
   "execution_count": null,
   "id": "4849fcef-eed6-41e4-a310-326730a707b6",
   "metadata": {},
   "outputs": [],
   "source": [
    "rt_day.corridor['corridor'] = 'sr2_santa_monica_bl'"
   ]
  },
  {
   "cell_type": "code",
   "execution_count": null,
   "id": "36c2dc4b-b653-4869-8e13-939b7f8f4353",
   "metadata": {},
   "outputs": [],
   "source": [
    "all_corridors += [rt_day.corridor]"
   ]
  },
  {
   "cell_type": "markdown",
   "id": "f1b9b973-2897-4e4b-801e-c3ba749ef45e",
   "metadata": {},
   "source": [
    "# VTA (add, optional)"
   ]
  },
  {
   "cell_type": "code",
   "execution_count": null,
   "id": "a2c00f9b-4705-408c-9e9f-1df57c22af13",
   "metadata": {
    "tags": [
     "parameters"
    ]
   },
   "outputs": [],
   "source": [
    "## parameters cell\n",
    "itp_id = 294"
   ]
  },
  {
   "cell_type": "code",
   "execution_count": null,
   "id": "ba887f2c-943f-4a4e-9de8-8269678deb0e",
   "metadata": {},
   "outputs": [],
   "source": [
    "%%capture\n",
    "rt_day = rt_filter_map_plot.from_gcs(itp_id, analysis_date, pbar)"
   ]
  },
  {
   "cell_type": "code",
   "execution_count": null,
   "id": "4991ab2c-220b-4690-b1b6-5347a7dcb7ed",
   "metadata": {},
   "outputs": [],
   "source": [
    "%%capture_parameters\n",
    "organization_name = rt_day.organization_name\n",
    "organization_name"
   ]
  },
  {
   "cell_type": "code",
   "execution_count": null,
   "id": "f351f682-430b-4cf5-b891-e1e31a96f978",
   "metadata": {},
   "outputs": [],
   "source": [
    "rt_day.set_filter(route_names = ['22', 'Rapid 522'])"
   ]
  },
  {
   "cell_type": "code",
   "execution_count": null,
   "id": "c2e69780-c111-4984-a87e-cf367262549f",
   "metadata": {},
   "outputs": [],
   "source": [
    "_m = rt_day.segment_speed_map()"
   ]
  },
  {
   "cell_type": "code",
   "execution_count": null,
   "id": "511b05bd-d3a8-4544-843d-d584f6279141",
   "metadata": {},
   "outputs": [],
   "source": [
    "# _m"
   ]
  },
  {
   "cell_type": "markdown",
   "id": "4777fdde-5386-43a7-b83c-81580f0ab56b",
   "metadata": {},
   "source": [
    "## VTA ECR"
   ]
  },
  {
   "cell_type": "code",
   "execution_count": null,
   "id": "796f1bca-7146-47b1-88bd-f8a384ce7068",
   "metadata": {},
   "outputs": [],
   "source": [
    "rt_day.autocorridor(shape_id = '108676', stop_seq_range = [41, 98])"
   ]
  },
  {
   "cell_type": "code",
   "execution_count": null,
   "id": "606a131b-29af-4a12-81ec-9452d037e8b7",
   "metadata": {
    "tags": []
   },
   "outputs": [],
   "source": [
    "rt_day.corridor_stop_delays >> distinct(_.route_short_name)"
   ]
  },
  {
   "cell_type": "code",
   "execution_count": null,
   "id": "69fcf4e9-6b92-403a-9120-a9d8393f5296",
   "metadata": {},
   "outputs": [],
   "source": [
    "rt_day.corridor_metrics()"
   ]
  },
  {
   "cell_type": "code",
   "execution_count": null,
   "id": "fac66ce9-88fe-4fc2-9bca-1f30b8c84e6e",
   "metadata": {},
   "outputs": [],
   "source": [
    "rt_day.quick_map_corridor()"
   ]
  },
  {
   "cell_type": "code",
   "execution_count": null,
   "id": "bf875557-ea10-4b80-a40b-a39e64e9b13b",
   "metadata": {},
   "outputs": [],
   "source": [
    "rt_day.corridor['corridor'] = 'sr82_vta'"
   ]
  },
  {
   "cell_type": "code",
   "execution_count": null,
   "id": "3f43fd0d-6a10-4373-a2d4-12d750971e4a",
   "metadata": {},
   "outputs": [],
   "source": [
    "all_corridors += [rt_day.corridor]"
   ]
  },
  {
   "cell_type": "code",
   "execution_count": null,
   "id": "aa392f06-3f23-4ac2-8345-5920e802a699",
   "metadata": {},
   "outputs": [],
   "source": [
    "# m = rt_day.segment_speed_map(how='low_speeds', no_title=False, shn=True, corridor=True)"
   ]
  },
  {
   "cell_type": "markdown",
   "id": "d5f8039a-4414-4a3c-9c51-5afab9ba57c5",
   "metadata": {},
   "source": [
    "# Samtrans (add, optional)"
   ]
  },
  {
   "cell_type": "code",
   "execution_count": null,
   "id": "de9ca499-cff0-4db4-9cf7-a736985bfa0c",
   "metadata": {
    "tags": [
     "parameters"
    ]
   },
   "outputs": [],
   "source": [
    "## parameters cell\n",
    "itp_id = 290"
   ]
  },
  {
   "cell_type": "code",
   "execution_count": null,
   "id": "3613883a-9463-4cde-b6d0-5e88d2ee18f7",
   "metadata": {},
   "outputs": [],
   "source": [
    "%%capture\n",
    "rt_day = rt_filter_map_plot.from_gcs(itp_id, analysis_date, pbar)"
   ]
  },
  {
   "cell_type": "code",
   "execution_count": null,
   "id": "19e435db-3f60-47fb-9c9a-17111f80b415",
   "metadata": {},
   "outputs": [],
   "source": [
    "%%capture_parameters\n",
    "organization_name = rt_day.organization_name\n",
    "organization_name"
   ]
  },
  {
   "cell_type": "code",
   "execution_count": null,
   "id": "04c4b687-98c9-4214-aef6-75e5b1f1cd64",
   "metadata": {},
   "outputs": [],
   "source": [
    "rt_day.set_filter(route_names = ['ECR'])"
   ]
  },
  {
   "cell_type": "code",
   "execution_count": null,
   "id": "1d2ec7c9-3245-4246-9955-51d697055915",
   "metadata": {},
   "outputs": [],
   "source": [
    "_m = rt_day.segment_speed_map()"
   ]
  },
  {
   "cell_type": "markdown",
   "id": "414076ab-4575-4627-9c0f-d7d5db288e4b",
   "metadata": {},
   "source": [
    "## Samtrans ECR\n",
    "\n",
    "merge shape, don't do 2 parts..."
   ]
  },
  {
   "cell_type": "code",
   "execution_count": null,
   "id": "57148623-6a26-488d-8eed-38828b4df9e4",
   "metadata": {},
   "outputs": [],
   "source": [
    "rt_day.autocorridor(shape_id = 'ECR1095', stop_seq_range = [3, 65])"
   ]
  },
  {
   "cell_type": "code",
   "execution_count": null,
   "id": "32ad79e1-c891-4148-90a6-7855d737a447",
   "metadata": {},
   "outputs": [],
   "source": [
    "corr_copy = rt_day.corridor.copy()"
   ]
  },
  {
   "cell_type": "code",
   "execution_count": null,
   "id": "f86c05ff-9d54-4feb-98ec-abac762a6116",
   "metadata": {},
   "outputs": [],
   "source": [
    "rt_day.autocorridor(shape_id = 'ECR1098', stop_seq_range = [4, 35])"
   ]
  },
  {
   "cell_type": "code",
   "execution_count": null,
   "id": "b143ae78-e893-411a-8e00-458f854e5ff4",
   "metadata": {},
   "outputs": [],
   "source": [
    "corr2_copy = rt_day.corridor.copy()"
   ]
  },
  {
   "cell_type": "code",
   "execution_count": null,
   "id": "d55001b7-a0d8-4ecc-985a-1d83f0155589",
   "metadata": {},
   "outputs": [],
   "source": [
    "gdf = pd.concat([corr_copy, corr2_copy])"
   ]
  },
  {
   "cell_type": "code",
   "execution_count": null,
   "id": "74b5c26e-ee12-408c-a156-243733997257",
   "metadata": {},
   "outputs": [],
   "source": [
    "gdf.distance_meters = gdf.distance_meters.sum()\n",
    "gdf = gdf.dissolve()"
   ]
  },
  {
   "cell_type": "code",
   "execution_count": null,
   "id": "a3088f8a-c649-47a4-ad9b-2bbe07e0c34f",
   "metadata": {},
   "outputs": [],
   "source": [
    "# gdf.explore()"
   ]
  },
  {
   "cell_type": "code",
   "execution_count": null,
   "id": "bb41da8d-4550-47e4-b850-c1ad53f66b0d",
   "metadata": {},
   "outputs": [],
   "source": [
    "rt_day.add_corridor(gdf)"
   ]
  },
  {
   "cell_type": "code",
   "execution_count": null,
   "id": "69789d35-4848-461e-aa54-07d3a097cf7d",
   "metadata": {},
   "outputs": [],
   "source": [
    "# rt_day.corridor_stop_delays >> distinct(_.route_short_name)"
   ]
  },
  {
   "cell_type": "code",
   "execution_count": null,
   "id": "3ceac66c-d2c2-4424-9fd1-96c0d173f457",
   "metadata": {},
   "outputs": [],
   "source": [
    "rt_day.corridor_metrics()"
   ]
  },
  {
   "cell_type": "code",
   "execution_count": null,
   "id": "9d7c2438-47b9-4e42-af9f-0ca78aa53623",
   "metadata": {
    "tags": []
   },
   "outputs": [],
   "source": [
    "rt_day.quick_map_corridor()"
   ]
  },
  {
   "cell_type": "code",
   "execution_count": null,
   "id": "8ff205ca-d104-46cd-b83d-c9eba3a5324e",
   "metadata": {},
   "outputs": [],
   "source": [
    "# m = rt_day.segment_speed_map(how='low_speeds', no_title=False, shn=True, corridor=True)\n",
    "\n",
    "# m"
   ]
  },
  {
   "cell_type": "code",
   "execution_count": null,
   "id": "563bbc6b-fc3d-47db-ab37-a5d1009154a2",
   "metadata": {},
   "outputs": [],
   "source": [
    "rt_day.corridor['corridor'] = 'sr82_samtrans'"
   ]
  },
  {
   "cell_type": "code",
   "execution_count": null,
   "id": "cdb6caae-19b4-4c0f-84af-2c046c5ed789",
   "metadata": {},
   "outputs": [],
   "source": [
    "all_corridors += [rt_day.corridor]"
   ]
  },
  {
   "cell_type": "markdown",
   "id": "c776a46b-b32e-413c-a7e9-6a406835c930",
   "metadata": {},
   "source": [
    "# Foothill (eval)"
   ]
  },
  {
   "cell_type": "code",
   "execution_count": null,
   "id": "10513c0e-d957-4e0e-b2d1-9bdf032540fd",
   "metadata": {
    "tags": [
     "parameters"
    ]
   },
   "outputs": [],
   "source": [
    "## parameters cell\n",
    "itp_id = 112"
   ]
  },
  {
   "cell_type": "code",
   "execution_count": null,
   "id": "671c2b41-ef6e-450a-9bd6-e00ebcc6c95f",
   "metadata": {},
   "outputs": [],
   "source": [
    "%%capture\n",
    "rt_day = rt_filter_map_plot.from_gcs(itp_id, analysis_date, pbar)"
   ]
  },
  {
   "cell_type": "code",
   "execution_count": null,
   "id": "2f11df5d-fee7-46ed-97e6-9e67b4e9fb30",
   "metadata": {},
   "outputs": [],
   "source": [
    "%%capture_parameters\n",
    "organization_name = rt_day.organization_name\n",
    "organization_name"
   ]
  },
  {
   "cell_type": "code",
   "execution_count": null,
   "id": "5b4098b7-5231-4fb6-9adc-4fc9bd6e7562",
   "metadata": {},
   "outputs": [],
   "source": [
    "rt_day.set_filter(route_names = ['188'])"
   ]
  },
  {
   "cell_type": "code",
   "execution_count": null,
   "id": "2223497f-8f4e-45ae-af3b-c2479df859c5",
   "metadata": {},
   "outputs": [],
   "source": [
    "_m = rt_day.segment_speed_map()"
   ]
  },
  {
   "cell_type": "markdown",
   "id": "997a19a8-f5e5-4fd1-9e52-86ff8728b232",
   "metadata": {},
   "source": [
    "## Foothill Foothill Bl"
   ]
  },
  {
   "cell_type": "code",
   "execution_count": null,
   "id": "b752f818-045c-4585-8105-eb061f260532",
   "metadata": {},
   "outputs": [],
   "source": [
    "rt_day.autocorridor(shape_id = '12286_shp', stop_seq_range = [1779, 2834])"
   ]
  },
  {
   "cell_type": "code",
   "execution_count": null,
   "id": "adcd5401-b0c4-42ad-8ec7-04e1c0e08339",
   "metadata": {},
   "outputs": [],
   "source": [
    "# rt_day.corridor_stop_delays >> distinct(_.route_short_name)"
   ]
  },
  {
   "cell_type": "code",
   "execution_count": null,
   "id": "b1e07b72-953a-4cd9-a771-0b5cc644f6c8",
   "metadata": {},
   "outputs": [],
   "source": [
    "rt_day.corridor_metrics()"
   ]
  },
  {
   "cell_type": "code",
   "execution_count": null,
   "id": "a4b6bfee-0c57-408b-aa86-20ac60e0d51b",
   "metadata": {},
   "outputs": [],
   "source": [
    "rt_day.quick_map_corridor()"
   ]
  },
  {
   "cell_type": "code",
   "execution_count": null,
   "id": "bb202adb-929e-47e6-b030-edb0ec390237",
   "metadata": {},
   "outputs": [],
   "source": [
    "rt_day.corridor['corridor'] = 'sr66_foothill'"
   ]
  },
  {
   "cell_type": "code",
   "execution_count": null,
   "id": "966cb5e0-c5e4-4d35-93ed-fea61c4e04b3",
   "metadata": {},
   "outputs": [],
   "source": [
    "all_corridors += [rt_day.corridor]"
   ]
  },
  {
   "cell_type": "markdown",
   "id": "3e5b02b1-529b-42de-9adc-cdb90e61cb54",
   "metadata": {},
   "source": [
    "# From Project List\n",
    "https://app.smartsheet.com/reports/4gRrr282hJ3MPVG7hcqX4XQHh2FR4GgpfW6pq5Q1?view=grid"
   ]
  },
  {
   "cell_type": "code",
   "execution_count": null,
   "id": "0f708a99-d819-4122-bf80-60b9a3e5ecdd",
   "metadata": {
    "tags": []
   },
   "outputs": [],
   "source": [
    "# shared_utils.rt_utils.show_full_df((pd.read_parquet('./_rt_progress_2023-05-17.parquet')\n",
    "#                                    >> filter(_.status == 'map_confirmed')\n",
    "#                                    )\n",
    "#                                   )"
   ]
  },
  {
   "cell_type": "code",
   "execution_count": null,
   "id": "b053e5f7-b40a-4572-9af2-24918e4ed470",
   "metadata": {},
   "outputs": [],
   "source": [
    "# analysis_date = dt.date(2023, 5, 17)"
   ]
  },
  {
   "cell_type": "markdown",
   "id": "3b99a6fd-b193-4098-9f56-e6e30c42e9b6",
   "metadata": {
    "tags": []
   },
   "source": [
    "# Eureka"
   ]
  },
  {
   "cell_type": "code",
   "execution_count": null,
   "id": "f7330beb-543e-40a0-9005-17da0b44702f",
   "metadata": {
    "tags": [
     "parameters"
    ]
   },
   "outputs": [],
   "source": [
    "## parameters cell\n",
    "itp_id = 108"
   ]
  },
  {
   "cell_type": "code",
   "execution_count": null,
   "id": "2189f4aa-6700-47e5-a1e0-d6f8617b7360",
   "metadata": {},
   "outputs": [],
   "source": [
    "%%capture\n",
    "rt_day = rt_filter_map_plot.from_gcs(itp_id, analysis_date, pbar)"
   ]
  },
  {
   "cell_type": "code",
   "execution_count": null,
   "id": "dfd5c7bc-0350-4218-a431-8e1c46141405",
   "metadata": {},
   "outputs": [],
   "source": [
    "rt_day.transit_priority_target_mph = 20"
   ]
  },
  {
   "cell_type": "code",
   "execution_count": null,
   "id": "15b9d5a9-b776-44e8-a7ca-43b7355f241c",
   "metadata": {},
   "outputs": [],
   "source": [
    "%%capture_parameters\n",
    "organization_name = rt_day.organization_name\n",
    "organization_name"
   ]
  },
  {
   "cell_type": "code",
   "execution_count": null,
   "id": "94d8f6cc-f8a7-4c57-846a-a7f5a9099bd9",
   "metadata": {},
   "outputs": [],
   "source": [
    "# rt_day.set_filter(route_names = ['188'])"
   ]
  },
  {
   "cell_type": "code",
   "execution_count": null,
   "id": "1661351a-02bf-4b06-b3f7-b678198a164e",
   "metadata": {
    "tags": []
   },
   "outputs": [],
   "source": [
    "try:\n",
    "    _m = rt_day.segment_speed_map()\n",
    "except:\n",
    "    pass"
   ]
  },
  {
   "cell_type": "markdown",
   "id": "eb543d56-3437-41b1-894f-9cd9b83fa7c0",
   "metadata": {
    "tags": []
   },
   "source": [
    "## Eureka US101 (Broadway Truesdale - 4th per [RTP](https://www.hcaog.net/sites/default/files/vroom_2022-2042_full_report.pdf))\n",
    "\n",
    "* difficult to analyze -- need to exclude distant stops from corridor (add to algorithm?)\n",
    "* standardize on most common trip pattern"
   ]
  },
  {
   "cell_type": "code",
   "execution_count": null,
   "id": "7416921b-42cb-48c7-a4fd-134fd6b75e58",
   "metadata": {},
   "outputs": [],
   "source": [
    "rt_day.autocorridor(shape_id = 'p_178050', stop_seq_range = [13, 13.5],\n",
    "manual_exclude={'p_179049': {'max': 4}, 'p_179044': {'max': 4}})\n",
    "# intercity service, exclude stops distant from corridor"
   ]
  },
  {
   "cell_type": "code",
   "execution_count": null,
   "id": "7cabb7ed-017a-4f95-97ea-977a1055c42d",
   "metadata": {},
   "outputs": [],
   "source": [
    "# rt_day.corridor_stop_delays >> distinct(_.route_short_name)"
   ]
  },
  {
   "cell_type": "code",
   "execution_count": null,
   "id": "be8b318e-6272-46b5-b28d-597fef8c1042",
   "metadata": {},
   "outputs": [],
   "source": [
    "rt_day.corridor_metrics()"
   ]
  },
  {
   "cell_type": "code",
   "execution_count": null,
   "id": "e133a440-2bf7-46c9-8395-2161913663ea",
   "metadata": {},
   "outputs": [],
   "source": [
    "rt_day.quick_map_corridor()"
   ]
  },
  {
   "cell_type": "code",
   "execution_count": null,
   "id": "6be2a1aa-b7f2-4e6d-86ba-9b0ca8aff5b6",
   "metadata": {},
   "outputs": [],
   "source": [
    "rt_day.corridor['corridor'] = 'us101_broadway'"
   ]
  },
  {
   "cell_type": "code",
   "execution_count": null,
   "id": "321436e6-b63f-47ca-8bca-e9b30922854b",
   "metadata": {},
   "outputs": [],
   "source": [
    "all_corridors += [rt_day.corridor]"
   ]
  },
  {
   "cell_type": "markdown",
   "id": "a7e42150-fc2a-4a73-81bf-965ee280b667",
   "metadata": {},
   "source": [
    "# TART SR267/89 -- no data"
   ]
  },
  {
   "cell_type": "markdown",
   "id": "e33c342c-36a8-48db-8d87-7e41a98b72b1",
   "metadata": {},
   "source": [
    "# Tahoe Transportation District US50\n",
    "\n",
    "* limited data geographic extent"
   ]
  },
  {
   "cell_type": "code",
   "execution_count": null,
   "id": "905e1c6b-7236-43ec-99e1-d232ecd19d7c",
   "metadata": {
    "tags": [
     "parameters"
    ]
   },
   "outputs": [],
   "source": [
    "## parameters cell\n",
    "itp_id = 331"
   ]
  },
  {
   "cell_type": "code",
   "execution_count": null,
   "id": "f5066302-4d17-45bd-bb7d-65d5dfab2d84",
   "metadata": {},
   "outputs": [],
   "source": [
    "%%capture\n",
    "rt_day = rt_filter_map_plot.from_gcs(itp_id, analysis_date, pbar)"
   ]
  },
  {
   "cell_type": "code",
   "execution_count": null,
   "id": "a9031cf1-db4b-46af-a012-9c5e1d9e4f3a",
   "metadata": {},
   "outputs": [],
   "source": [
    "rt_day.transit_priority_target_mph = 25"
   ]
  },
  {
   "cell_type": "code",
   "execution_count": null,
   "id": "80e91697-add5-4f2d-8456-43ee531436bb",
   "metadata": {},
   "outputs": [],
   "source": [
    "%%capture_parameters\n",
    "organization_name = rt_day.organization_name\n",
    "organization_name"
   ]
  },
  {
   "cell_type": "code",
   "execution_count": null,
   "id": "732deb97-958e-4d47-a920-1c47f319fa92",
   "metadata": {},
   "outputs": [],
   "source": [
    "_m = rt_day.segment_speed_map()"
   ]
  },
  {
   "cell_type": "code",
   "execution_count": null,
   "id": "ffd8cbea-f69e-46ea-85b3-4f5841d25546",
   "metadata": {},
   "outputs": [],
   "source": [
    "rt_day.autocorridor(shape_id = 'p_497358', stop_seq_range = [0, 20])"
   ]
  },
  {
   "cell_type": "code",
   "execution_count": null,
   "id": "fbffabbe-c1f2-4e7c-a8f2-b4643bdfcbab",
   "metadata": {},
   "outputs": [],
   "source": [
    "rt_day.corridor_stop_delays >> distinct(_.route_short_name)"
   ]
  },
  {
   "cell_type": "code",
   "execution_count": null,
   "id": "2447e950-929b-4416-9b3a-00e57e118f63",
   "metadata": {},
   "outputs": [],
   "source": [
    "rt_day.corridor_metrics()"
   ]
  },
  {
   "cell_type": "code",
   "execution_count": null,
   "id": "e10de605-9565-4e02-b6d9-eaf7160b014c",
   "metadata": {},
   "outputs": [],
   "source": [
    "rt_day.quick_map_corridor()"
   ]
  },
  {
   "cell_type": "code",
   "execution_count": null,
   "id": "e362aac2-464c-43d4-bc5c-0cd3faf0de65",
   "metadata": {},
   "outputs": [],
   "source": [
    "rt_day.corridor['corridor'] = 'us50_tahoe'"
   ]
  },
  {
   "cell_type": "code",
   "execution_count": null,
   "id": "fa125480-de9b-4d4c-8567-23b6ba08ea90",
   "metadata": {},
   "outputs": [],
   "source": [
    "all_corridors += [rt_day.corridor]"
   ]
  },
  {
   "cell_type": "markdown",
   "id": "18e3e499-8be9-4e50-a56e-c3eefd180e69",
   "metadata": {},
   "source": [
    "# Fresno -- unable eval (new services)"
   ]
  },
  {
   "cell_type": "markdown",
   "id": "31dbda93-21df-4319-a2f8-50862dc0f7fa",
   "metadata": {
    "jp-MarkdownHeadingCollapsed": true,
    "tags": []
   },
   "source": [
    "# VCTC (SR126 Fillmore - Ventura)\n",
    "\n",
    "* minimal thru running delay on available data..."
   ]
  },
  {
   "cell_type": "code",
   "execution_count": null,
   "id": "218e05de-c371-4792-a7c3-b56767335c92",
   "metadata": {
    "tags": [
     "parameters"
    ]
   },
   "outputs": [],
   "source": [
    "## parameters cell\n",
    "itp_id = 380"
   ]
  },
  {
   "cell_type": "code",
   "execution_count": null,
   "id": "54c8dbdb-c82d-496d-af25-58a7eeb867e4",
   "metadata": {},
   "outputs": [],
   "source": [
    "# analysis_date = dt.date(2023, 4, 12)"
   ]
  },
  {
   "cell_type": "code",
   "execution_count": null,
   "id": "91759504-a1d1-48fa-a355-4aefcbd459f4",
   "metadata": {},
   "outputs": [],
   "source": [
    "%%capture\n",
    "rt_day = rt_filter_map_plot.from_gcs(itp_id, analysis_date, pbar)"
   ]
  },
  {
   "cell_type": "code",
   "execution_count": null,
   "id": "9b13a1aa-cd59-4073-abdb-6c1b7c728861",
   "metadata": {},
   "outputs": [],
   "source": [
    "%%capture_parameters\n",
    "organization_name = rt_day.organization_name\n",
    "organization_name"
   ]
  },
  {
   "cell_type": "code",
   "execution_count": null,
   "id": "1ff941fa-f957-4fc8-91be-d47ea3320bf6",
   "metadata": {},
   "outputs": [],
   "source": [
    "_m = rt_day.segment_speed_map()"
   ]
  },
  {
   "cell_type": "code",
   "execution_count": null,
   "id": "f705cde4-ab71-4ff9-b8c2-b6fbf4fde6cc",
   "metadata": {},
   "outputs": [],
   "source": [
    "_m"
   ]
  },
  {
   "cell_type": "markdown",
   "id": "2a06598a-c0b6-4ddb-954c-96a3a989072b",
   "metadata": {
    "tags": []
   },
   "source": [
    "# LA Metro Projects\n",
    "\n",
    "* NoHo-Pas BRT to only briefly use SR134, light delay\n",
    "* As per sheet, NSFV improvements only intersect SHN\n",
    "* Inglewood connector, Arbor Vitae not on SHN...\n",
    "* Games Route Network, etc unable to analyze"
   ]
  },
  {
   "cell_type": "markdown",
   "id": "6089133c-1d91-4965-9bfb-20269928511c",
   "metadata": {},
   "source": [
    "# Victor Valley\n",
    "\n",
    "* service runs, difficult to evaluate\n",
    "* 0.5/hour, limited span"
   ]
  },
  {
   "cell_type": "markdown",
   "id": "71e0341a-f722-4aef-afdb-c2e1ec15ee39",
   "metadata": {},
   "source": [
    "# Others\n",
    "\n",
    "* OCTA speculative, new services unable to eval"
   ]
  },
  {
   "cell_type": "markdown",
   "id": "b3900a52-45b5-4dd8-85f8-93830d4a0904",
   "metadata": {},
   "source": [
    "# OCTA SR39\n",
    "\n",
    "* multiple SHN sections, eval longest\n",
    "* about 5 trips/hour combined!"
   ]
  },
  {
   "cell_type": "code",
   "execution_count": null,
   "id": "005ea2f3-c8a8-4f76-9f81-9362726c7ba6",
   "metadata": {
    "tags": [
     "parameters"
    ]
   },
   "outputs": [],
   "source": [
    "## parameters cell\n",
    "itp_id = 235"
   ]
  },
  {
   "cell_type": "code",
   "execution_count": null,
   "id": "e97e5812-fa2c-492a-a051-1ae1d27ad154",
   "metadata": {},
   "outputs": [],
   "source": [
    "%%capture\n",
    "rt_day = rt_filter_map_plot.from_gcs(itp_id, analysis_date, pbar)"
   ]
  },
  {
   "cell_type": "code",
   "execution_count": null,
   "id": "57b68309-a257-4935-af0c-977c8ff8e89e",
   "metadata": {},
   "outputs": [],
   "source": [
    "rt_day.transit_priority_target_mph = 20"
   ]
  },
  {
   "cell_type": "code",
   "execution_count": null,
   "id": "650ddf4f-8e18-432b-9705-0d5b47548471",
   "metadata": {},
   "outputs": [],
   "source": [
    "%%capture_parameters\n",
    "organization_name = rt_day.organization_name\n",
    "organization_name"
   ]
  },
  {
   "cell_type": "code",
   "execution_count": null,
   "id": "8ad12ebc-27d0-44e4-b2b5-bd8464c90b93",
   "metadata": {},
   "outputs": [],
   "source": [
    "rt_day.set_filter(route_names=['29', '529'])"
   ]
  },
  {
   "cell_type": "code",
   "execution_count": null,
   "id": "40533ff5-5f14-48c7-bb87-95441ba6ed83",
   "metadata": {},
   "outputs": [],
   "source": [
    "_m = rt_day.segment_speed_map()"
   ]
  },
  {
   "cell_type": "code",
   "execution_count": null,
   "id": "186d49c5-dfdd-4975-90ca-e5aad861064a",
   "metadata": {},
   "outputs": [],
   "source": [
    "rt_day.autocorridor(shape_id = '2902', stop_seq_range = [5, 51])"
   ]
  },
  {
   "cell_type": "code",
   "execution_count": null,
   "id": "d9672f0f-5516-4abd-aff8-8add9460d677",
   "metadata": {},
   "outputs": [],
   "source": [
    "# rt_day.corridor_stop_delays >> distinct(_.route_short_name)"
   ]
  },
  {
   "cell_type": "code",
   "execution_count": null,
   "id": "d48f18f9-c38f-4bcb-8531-8ebbd94a6e11",
   "metadata": {},
   "outputs": [],
   "source": [
    "rt_day.corridor_metrics()"
   ]
  },
  {
   "cell_type": "code",
   "execution_count": null,
   "id": "4289d0f7-f33f-4db4-a665-c1bb66f48a73",
   "metadata": {
    "tags": []
   },
   "outputs": [],
   "source": [
    "rt_day.quick_map_corridor()"
   ]
  },
  {
   "cell_type": "code",
   "execution_count": null,
   "id": "ddf56ed9-9c98-4b3f-86ec-3be922e1e1fb",
   "metadata": {},
   "outputs": [],
   "source": [
    "rt_day.corridor['corridor'] = 'sr39_beach'"
   ]
  },
  {
   "cell_type": "code",
   "execution_count": null,
   "id": "854eb7c9-b17b-4760-a60c-61e40183dfda",
   "metadata": {},
   "outputs": [],
   "source": [
    "all_corridors += [rt_day.corridor]"
   ]
  },
  {
   "cell_type": "markdown",
   "id": "ba404b34-58d6-40f5-a925-eac1d6fef0f7",
   "metadata": {},
   "source": [
    "# combine and export"
   ]
  },
  {
   "cell_type": "code",
   "execution_count": null,
   "id": "738ebe40-fe25-4645-8aa2-9f535b788a1d",
   "metadata": {},
   "outputs": [],
   "source": [
    "all_gdf = pd.concat(all_corridors)"
   ]
  },
  {
   "cell_type": "code",
   "execution_count": null,
   "id": "eb105844-d8a1-4eb8-8439-63bd109e2d94",
   "metadata": {
    "tags": []
   },
   "outputs": [],
   "source": [
    "all_gdf"
   ]
  },
  {
   "cell_type": "code",
   "execution_count": null,
   "id": "f358cd79-9c8c-45f8-b9f0-8eda6036c41c",
   "metadata": {},
   "outputs": [],
   "source": [
    "(all_gdf >> select(-_.geometry)).to_csv('june16_corridor_metrics_speeds.csv')"
   ]
  },
  {
   "cell_type": "code",
   "execution_count": null,
   "id": "dff0c118-fd99-4c20-b5f8-972d75bdc52d",
   "metadata": {},
   "outputs": [],
   "source": [
    "all_gdf.to_file('june16_corridor_metrics_speeds.geojson')"
   ]
  },
  {
   "cell_type": "code",
   "execution_count": null,
   "id": "03d16426-87e6-4004-b8c5-a1b7d1665ba7",
   "metadata": {},
   "outputs": [],
   "source": []
  }
 ],
 "metadata": {
  "kernelspec": {
   "display_name": "Python 3 (ipykernel)",
   "language": "python",
   "name": "python3"
  },
  "language_info": {
   "codemirror_mode": {
    "name": "ipython",
    "version": 3
   },
   "file_extension": ".py",
   "mimetype": "text/x-python",
   "name": "python",
   "nbconvert_exporter": "python",
   "pygments_lexer": "ipython3",
   "version": "3.9.13"
  },
  "widgets": {
   "application/vnd.jupyter.widget-state+json": {
    "state": {},
    "version_major": 2,
    "version_minor": 0
   }
  }
 },
 "nbformat": 4,
 "nbformat_minor": 5
}
