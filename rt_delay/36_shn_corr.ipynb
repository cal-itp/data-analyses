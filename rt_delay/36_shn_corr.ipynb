{
 "cells": [
  {
   "cell_type": "code",
   "execution_count": 1,
   "id": "46898b5c-b5cc-4096-ab68-8c3e42fab870",
   "metadata": {},
   "outputs": [],
   "source": [
    "%%capture\n",
    "import warnings\n",
    "warnings.filterwarnings('ignore')\n",
    "\n",
    "import os\n",
    "os.environ[\"CALITP_BQ_MAX_BYTES\"] = str(800_000_000_000)\n",
    "import shared_utils\n",
    "\n",
    "from calitp_data_analysis.tables import tbls\n",
    "import calitp_data_analysis.magics\n",
    "\n",
    "from siuba import *\n",
    "import pandas as pd\n",
    "import geopandas as gpd\n",
    "\n",
    "import datetime as dt\n",
    "\n",
    "import importlib\n",
    "from rt_analysis import rt_filter_map_plot\n",
    "# import build_speedmaps_index\n",
    "\n",
    "from IPython.display import display, Markdown, Latex, HTML\n",
    "import json"
   ]
  },
  {
   "cell_type": "code",
   "execution_count": 2,
   "id": "a639fd84-29ca-4678-b568-2b1022701e14",
   "metadata": {},
   "outputs": [],
   "source": [
    "analysis_date = dt.date(2023, 4, 12)"
   ]
  },
  {
   "cell_type": "code",
   "execution_count": 3,
   "id": "47c79d99-c82f-4e1e-b11e-2b1e83c13a1b",
   "metadata": {},
   "outputs": [
    {
     "name": "stdout",
     "output_type": "stream",
     "text": [
      "{\"human_date\": \"April 12 2023 (Wednesday)\"}\n"
     ]
    }
   ],
   "source": [
    "%%capture_parameters\n",
    "human_date = analysis_date.strftime('%B %d %Y (%A)')\n",
    "human_date"
   ]
  },
  {
   "cell_type": "code",
   "execution_count": 4,
   "id": "8352dcfe-9c50-46ee-9f80-3b912440968e",
   "metadata": {},
   "outputs": [],
   "source": [
    "from tqdm.notebook import tqdm"
   ]
  },
  {
   "cell_type": "markdown",
   "id": "8049ab71-3913-4d57-999d-95b56ec72387",
   "metadata": {},
   "source": [
    "# Frequent SHN Routes\n",
    "\n",
    "* quickly look for frequent transit routes using the State Highway Network\n",
    "* also evaluate applicable district-sourced ideas\n",
    "\n",
    "### CT Links:\n",
    "\n",
    "https://app.smartsheet.com/folders/whC3J79cMJCf3MqQ7MGv8pxHgQ3JQ68VwGQGwX21\n",
    "\n",
    "https://caltrans-my.sharepoint.com/:p:/g/personal/audrey_ogden_dot_ca_gov/EZbU16vBqYZHvrORsT-LzwsBBxJCZqfUPaKHmm5uqWmn_Q?e=4%3A4Ijf9v&CID=80D7A50B-5D1F-497F-8C92-9435B5782132&wdLOR=c3E29B53E-4F87-436E-BEDA-3F4281A53835\n"
   ]
  },
  {
   "cell_type": "markdown",
   "id": "52110155-d104-4043-8376-3f83e82a959a",
   "metadata": {},
   "source": [
    "# SFMTA"
   ]
  },
  {
   "cell_type": "code",
   "execution_count": 5,
   "id": "9f15ed6a-5ab7-4f57-9695-3f762781b74c",
   "metadata": {
    "tags": [
     "parameters"
    ]
   },
   "outputs": [],
   "source": [
    "## parameters cell\n",
    "itp_id = 282"
   ]
  },
  {
   "cell_type": "code",
   "execution_count": 6,
   "id": "e4cbefc6-9bbb-4989-85b7-1f31da17fcb8",
   "metadata": {},
   "outputs": [],
   "source": [
    "%%capture\n",
    "rt_day = rt_filter_map_plot.from_gcs(itp_id, analysis_date)"
   ]
  },
  {
   "cell_type": "code",
   "execution_count": 7,
   "id": "6c335d40-7a7b-4641-8a3d-c970b2823cdf",
   "metadata": {},
   "outputs": [
    {
     "name": "stdout",
     "output_type": "stream",
     "text": [
      "{\"organization_name\": \"City and County of San Francisco\"}\n"
     ]
    }
   ],
   "source": [
    "%%capture_parameters\n",
    "organization_name = rt_day.organization_name\n",
    "organization_name"
   ]
  },
  {
   "cell_type": "code",
   "execution_count": 8,
   "id": "5e2b6890-c4a6-4682-b0f5-9eb6373f431a",
   "metadata": {},
   "outputs": [],
   "source": [
    "rt_day.set_filter(route_names = ['43', '28', '29'])"
   ]
  },
  {
   "cell_type": "code",
   "execution_count": 9,
   "id": "864748d4-9187-4b85-b4a6-99f65e893dfd",
   "metadata": {},
   "outputs": [],
   "source": [
    "_m = rt_day.segment_speed_map()"
   ]
  },
  {
   "cell_type": "markdown",
   "id": "dc703f61-41d3-46bd-b3cf-986689a1bb91",
   "metadata": {},
   "source": [
    "## Muni Lombard"
   ]
  },
  {
   "cell_type": "code",
   "execution_count": 10,
   "id": "3d268204-d179-4c72-b27b-5002a3d99f08",
   "metadata": {},
   "outputs": [],
   "source": [
    "rt_day.autocorridor(shape_id = '2856', stop_seq_range = [27, 32])"
   ]
  },
  {
   "cell_type": "code",
   "execution_count": 11,
   "id": "ea3579c6-ec03-4572-9f5c-dad85807bfb2",
   "metadata": {},
   "outputs": [
    {
     "data": {
      "text/html": [
       "<div>\n",
       "<style scoped>\n",
       "    .dataframe tbody tr th:only-of-type {\n",
       "        vertical-align: middle;\n",
       "    }\n",
       "\n",
       "    .dataframe tbody tr th {\n",
       "        vertical-align: top;\n",
       "    }\n",
       "\n",
       "    .dataframe thead th {\n",
       "        text-align: right;\n",
       "    }\n",
       "</style>\n",
       "<table border=\"1\" class=\"dataframe\">\n",
       "  <thead>\n",
       "    <tr style=\"text-align: right;\">\n",
       "      <th></th>\n",
       "      <th>route_short_name</th>\n",
       "    </tr>\n",
       "  </thead>\n",
       "  <tbody>\n",
       "    <tr>\n",
       "      <th>0</th>\n",
       "      <td>43</td>\n",
       "    </tr>\n",
       "    <tr>\n",
       "      <th>1</th>\n",
       "      <td>30</td>\n",
       "    </tr>\n",
       "    <tr>\n",
       "      <th>2</th>\n",
       "      <td>90</td>\n",
       "    </tr>\n",
       "    <tr>\n",
       "      <th>3</th>\n",
       "      <td>49</td>\n",
       "    </tr>\n",
       "    <tr>\n",
       "      <th>4</th>\n",
       "      <td>91</td>\n",
       "    </tr>\n",
       "    <tr>\n",
       "      <th>5</th>\n",
       "      <td>28</td>\n",
       "    </tr>\n",
       "    <tr>\n",
       "      <th>6</th>\n",
       "      <td>22</td>\n",
       "    </tr>\n",
       "  </tbody>\n",
       "</table>\n",
       "</div>"
      ],
      "text/plain": [
       "  route_short_name\n",
       "0               43\n",
       "1               30\n",
       "2               90\n",
       "3               49\n",
       "4               91\n",
       "5               28\n",
       "6               22"
      ]
     },
     "execution_count": 11,
     "metadata": {},
     "output_type": "execute_result"
    }
   ],
   "source": [
    "rt_day.corridor_stop_delays >> distinct(_.route_short_name)"
   ]
  },
  {
   "cell_type": "code",
   "execution_count": 12,
   "id": "5831283d-385c-484a-9fa0-2a02f6f90e14",
   "metadata": {},
   "outputs": [
    {
     "name": "stdout",
     "output_type": "stream",
     "text": [
      "warning: filter set -- for SCCP/LPP reset filter first\n",
      "metrics attached to self.corridor: \n"
     ]
    },
    {
     "data": {
      "text/html": [
       "<div>\n",
       "<style scoped>\n",
       "    .dataframe tbody tr th:only-of-type {\n",
       "        vertical-align: middle;\n",
       "    }\n",
       "\n",
       "    .dataframe tbody tr th {\n",
       "        vertical-align: top;\n",
       "    }\n",
       "\n",
       "    .dataframe thead th {\n",
       "        text-align: right;\n",
       "    }\n",
       "</style>\n",
       "<table border=\"1\" class=\"dataframe\">\n",
       "  <thead>\n",
       "    <tr style=\"text-align: right;\">\n",
       "      <th></th>\n",
       "      <th>route_id</th>\n",
       "      <th>route_short_name</th>\n",
       "      <th>organization</th>\n",
       "      <th>median_corr_mph</th>\n",
       "      <th>speed_delay_minutes</th>\n",
       "      <th>schedule_delay_minutes</th>\n",
       "      <th>total_speed_delay</th>\n",
       "      <th>total_schedule_delay</th>\n",
       "      <th>geometry</th>\n",
       "    </tr>\n",
       "  </thead>\n",
       "  <tbody>\n",
       "    <tr>\n",
       "      <th>0</th>\n",
       "      <td>28</td>\n",
       "      <td>28</td>\n",
       "      <td>City and County of San Francisco</td>\n",
       "      <td>15.192348</td>\n",
       "      <td>136.747604</td>\n",
       "      <td>0.191667</td>\n",
       "      <td>2663.818927</td>\n",
       "      <td>726.675</td>\n",
       "      <td>POLYGON ((-214489.679 -21257.665, -214484.673 ...</td>\n",
       "    </tr>\n",
       "    <tr>\n",
       "      <th>1</th>\n",
       "      <td>43</td>\n",
       "      <td>43</td>\n",
       "      <td>City and County of San Francisco</td>\n",
       "      <td>9.036722</td>\n",
       "      <td>2527.071323</td>\n",
       "      <td>726.483333</td>\n",
       "      <td>2663.818927</td>\n",
       "      <td>726.675</td>\n",
       "      <td>POLYGON ((-214489.679 -21257.665, -214484.673 ...</td>\n",
       "    </tr>\n",
       "  </tbody>\n",
       "</table>\n",
       "</div>"
      ],
      "text/plain": [
       "  route_id route_short_name                      organization  \\\n",
       "0       28               28  City and County of San Francisco   \n",
       "1       43               43  City and County of San Francisco   \n",
       "\n",
       "   median_corr_mph  speed_delay_minutes  schedule_delay_minutes  \\\n",
       "0        15.192348           136.747604                0.191667   \n",
       "1         9.036722          2527.071323              726.483333   \n",
       "\n",
       "   total_speed_delay  total_schedule_delay  \\\n",
       "0        2663.818927               726.675   \n",
       "1        2663.818927               726.675   \n",
       "\n",
       "                                            geometry  \n",
       "0  POLYGON ((-214489.679 -21257.665, -214484.673 ...  \n",
       "1  POLYGON ((-214489.679 -21257.665, -214484.673 ...  "
      ]
     },
     "execution_count": 12,
     "metadata": {},
     "output_type": "execute_result"
    }
   ],
   "source": [
    "rt_day.corridor_metrics()"
   ]
  },
  {
   "cell_type": "code",
   "execution_count": 13,
   "id": "81055e2d-3a87-4912-b652-82eebe3235d4",
   "metadata": {
    "collapsed": true,
    "jupyter": {
     "outputs_hidden": true
    },
    "tags": []
   },
   "outputs": [
    {
     "ename": "TypeError",
     "evalue": "'<' not supported between instances of 'int' and 'str'",
     "output_type": "error",
     "traceback": [
      "\u001b[0;31m---------------------------------------------------------------------------\u001b[0m",
      "\u001b[0;31mTypeError\u001b[0m                                 Traceback (most recent call last)",
      "File \u001b[0;32m/opt/conda/lib/python3.9/site-packages/IPython/core/formatters.py:344\u001b[0m, in \u001b[0;36mBaseFormatter.__call__\u001b[0;34m(self, obj)\u001b[0m\n\u001b[1;32m    342\u001b[0m     method \u001b[38;5;241m=\u001b[39m get_real_method(obj, \u001b[38;5;28mself\u001b[39m\u001b[38;5;241m.\u001b[39mprint_method)\n\u001b[1;32m    343\u001b[0m     \u001b[38;5;28;01mif\u001b[39;00m method \u001b[38;5;129;01mis\u001b[39;00m \u001b[38;5;129;01mnot\u001b[39;00m \u001b[38;5;28;01mNone\u001b[39;00m:\n\u001b[0;32m--> 344\u001b[0m         \u001b[38;5;28;01mreturn\u001b[39;00m \u001b[43mmethod\u001b[49m\u001b[43m(\u001b[49m\u001b[43m)\u001b[49m\n\u001b[1;32m    345\u001b[0m     \u001b[38;5;28;01mreturn\u001b[39;00m \u001b[38;5;28;01mNone\u001b[39;00m\n\u001b[1;32m    346\u001b[0m \u001b[38;5;28;01melse\u001b[39;00m:\n",
      "File \u001b[0;32m/opt/conda/lib/python3.9/site-packages/folium/folium.py:299\u001b[0m, in \u001b[0;36mMap._repr_html_\u001b[0;34m(self, **kwargs)\u001b[0m\n\u001b[1;32m    297\u001b[0m     \u001b[38;5;28mself\u001b[39m\u001b[38;5;241m.\u001b[39m_parent \u001b[38;5;241m=\u001b[39m \u001b[38;5;28;01mNone\u001b[39;00m\n\u001b[1;32m    298\u001b[0m \u001b[38;5;28;01melse\u001b[39;00m:\n\u001b[0;32m--> 299\u001b[0m     out \u001b[38;5;241m=\u001b[39m \u001b[38;5;28;43mself\u001b[39;49m\u001b[38;5;241;43m.\u001b[39;49m\u001b[43m_parent\u001b[49m\u001b[38;5;241;43m.\u001b[39;49m\u001b[43m_repr_html_\u001b[49m\u001b[43m(\u001b[49m\u001b[38;5;241;43m*\u001b[39;49m\u001b[38;5;241;43m*\u001b[39;49m\u001b[43mkwargs\u001b[49m\u001b[43m)\u001b[49m\n\u001b[1;32m    300\u001b[0m \u001b[38;5;28;01mreturn\u001b[39;00m out\n",
      "File \u001b[0;32m/opt/conda/lib/python3.9/site-packages/branca/element.py:331\u001b[0m, in \u001b[0;36mFigure._repr_html_\u001b[0;34m(self, **kwargs)\u001b[0m\n\u001b[1;32m    322\u001b[0m \u001b[38;5;28;01mdef\u001b[39;00m \u001b[38;5;21m_repr_html_\u001b[39m(\u001b[38;5;28mself\u001b[39m, \u001b[38;5;241m*\u001b[39m\u001b[38;5;241m*\u001b[39mkwargs):\n\u001b[1;32m    323\u001b[0m \u001b[38;5;250m    \u001b[39m\u001b[38;5;124;03m\"\"\"Displays the Figure in a Jupyter notebook.\u001b[39;00m\n\u001b[1;32m    324\u001b[0m \n\u001b[1;32m    325\u001b[0m \u001b[38;5;124;03m    Percent-encoded HTML is stored in data-html attribute, which is used to populate\u001b[39;00m\n\u001b[0;32m   (...)\u001b[0m\n\u001b[1;32m    329\u001b[0m \n\u001b[1;32m    330\u001b[0m \u001b[38;5;124;03m    \"\"\"\u001b[39;00m\n\u001b[0;32m--> 331\u001b[0m     html \u001b[38;5;241m=\u001b[39m urllib\u001b[38;5;241m.\u001b[39mparse\u001b[38;5;241m.\u001b[39mquote(\u001b[38;5;28;43mself\u001b[39;49m\u001b[38;5;241;43m.\u001b[39;49m\u001b[43mrender\u001b[49m\u001b[43m(\u001b[49m\u001b[38;5;241;43m*\u001b[39;49m\u001b[38;5;241;43m*\u001b[39;49m\u001b[43mkwargs\u001b[49m\u001b[43m)\u001b[49m)\n\u001b[1;32m    332\u001b[0m     onload \u001b[38;5;241m=\u001b[39m (\n\u001b[1;32m    333\u001b[0m         \u001b[38;5;124m'\u001b[39m\u001b[38;5;124mthis.contentDocument.open();\u001b[39m\u001b[38;5;124m'\u001b[39m\n\u001b[1;32m    334\u001b[0m         \u001b[38;5;124m'\u001b[39m\u001b[38;5;124mthis.contentDocument.write(\u001b[39m\u001b[38;5;124m'\u001b[39m\n\u001b[0;32m   (...)\u001b[0m\n\u001b[1;32m    337\u001b[0m         \u001b[38;5;124m'\u001b[39m\u001b[38;5;124mthis.contentDocument.close();\u001b[39m\u001b[38;5;124m'\u001b[39m\n\u001b[1;32m    338\u001b[0m     )\n\u001b[1;32m    340\u001b[0m     \u001b[38;5;28;01mif\u001b[39;00m \u001b[38;5;28mself\u001b[39m\u001b[38;5;241m.\u001b[39mheight \u001b[38;5;129;01mis\u001b[39;00m \u001b[38;5;28;01mNone\u001b[39;00m:\n",
      "File \u001b[0;32m/opt/conda/lib/python3.9/site-packages/branca/element.py:319\u001b[0m, in \u001b[0;36mFigure.render\u001b[0;34m(self, **kwargs)\u001b[0m\n\u001b[1;32m    317\u001b[0m \u001b[38;5;250m\u001b[39m\u001b[38;5;124;03m\"\"\"Renders the HTML representation of the element.\"\"\"\u001b[39;00m\n\u001b[1;32m    318\u001b[0m \u001b[38;5;28;01mfor\u001b[39;00m name, child \u001b[38;5;129;01min\u001b[39;00m \u001b[38;5;28mself\u001b[39m\u001b[38;5;241m.\u001b[39m_children\u001b[38;5;241m.\u001b[39mitems():\n\u001b[0;32m--> 319\u001b[0m     \u001b[43mchild\u001b[49m\u001b[38;5;241;43m.\u001b[39;49m\u001b[43mrender\u001b[49m\u001b[43m(\u001b[49m\u001b[38;5;241;43m*\u001b[39;49m\u001b[38;5;241;43m*\u001b[39;49m\u001b[43mkwargs\u001b[49m\u001b[43m)\u001b[49m\n\u001b[1;32m    320\u001b[0m \u001b[38;5;28;01mreturn\u001b[39;00m \u001b[38;5;28mself\u001b[39m\u001b[38;5;241m.\u001b[39m_template\u001b[38;5;241m.\u001b[39mrender(this\u001b[38;5;241m=\u001b[39m\u001b[38;5;28mself\u001b[39m, kwargs\u001b[38;5;241m=\u001b[39mkwargs)\n",
      "File \u001b[0;32m/opt/conda/lib/python3.9/site-packages/folium/folium.py:368\u001b[0m, in \u001b[0;36mMap.render\u001b[0;34m(self, **kwargs)\u001b[0m\n\u001b[1;32m    349\u001b[0m figure\u001b[38;5;241m.\u001b[39mheader\u001b[38;5;241m.\u001b[39madd_child(Element(\n\u001b[1;32m    350\u001b[0m     \u001b[38;5;124m'\u001b[39m\u001b[38;5;124m<style>html, body \u001b[39m\u001b[38;5;124m{\u001b[39m\u001b[38;5;124m'\u001b[39m\n\u001b[1;32m    351\u001b[0m     \u001b[38;5;124m'\u001b[39m\u001b[38;5;124mwidth: 100\u001b[39m\u001b[38;5;124m%\u001b[39m\u001b[38;5;124m;\u001b[39m\u001b[38;5;124m'\u001b[39m\n\u001b[0;32m   (...)\u001b[0m\n\u001b[1;32m    355\u001b[0m     \u001b[38;5;124m'\u001b[39m\u001b[38;5;124m}\u001b[39m\u001b[38;5;124m'\u001b[39m\n\u001b[1;32m    356\u001b[0m     \u001b[38;5;124m'\u001b[39m\u001b[38;5;124m</style>\u001b[39m\u001b[38;5;124m'\u001b[39m), name\u001b[38;5;241m=\u001b[39m\u001b[38;5;124m'\u001b[39m\u001b[38;5;124mcss_style\u001b[39m\u001b[38;5;124m'\u001b[39m)\n\u001b[1;32m    358\u001b[0m figure\u001b[38;5;241m.\u001b[39mheader\u001b[38;5;241m.\u001b[39madd_child(Element(\n\u001b[1;32m    359\u001b[0m     \u001b[38;5;124m'\u001b[39m\u001b[38;5;124m<style>#map \u001b[39m\u001b[38;5;124m{\u001b[39m\u001b[38;5;124m'\u001b[39m\n\u001b[1;32m    360\u001b[0m     \u001b[38;5;124m'\u001b[39m\u001b[38;5;124mposition:absolute;\u001b[39m\u001b[38;5;124m'\u001b[39m\n\u001b[0;32m   (...)\u001b[0m\n\u001b[1;32m    365\u001b[0m     \u001b[38;5;124m'\u001b[39m\u001b[38;5;124m}\u001b[39m\u001b[38;5;124m'\u001b[39m\n\u001b[1;32m    366\u001b[0m     \u001b[38;5;124m'\u001b[39m\u001b[38;5;124m</style>\u001b[39m\u001b[38;5;124m'\u001b[39m), name\u001b[38;5;241m=\u001b[39m\u001b[38;5;124m'\u001b[39m\u001b[38;5;124mmap_style\u001b[39m\u001b[38;5;124m'\u001b[39m)\n\u001b[0;32m--> 368\u001b[0m \u001b[38;5;28;43msuper\u001b[39;49m\u001b[43m(\u001b[49m\u001b[43mMap\u001b[49m\u001b[43m,\u001b[49m\u001b[43m \u001b[49m\u001b[38;5;28;43mself\u001b[39;49m\u001b[43m)\u001b[49m\u001b[38;5;241;43m.\u001b[39;49m\u001b[43mrender\u001b[49m\u001b[43m(\u001b[49m\u001b[38;5;241;43m*\u001b[39;49m\u001b[38;5;241;43m*\u001b[39;49m\u001b[43mkwargs\u001b[49m\u001b[43m)\u001b[49m\n",
      "File \u001b[0;32m/opt/conda/lib/python3.9/site-packages/folium/elements.py:21\u001b[0m, in \u001b[0;36mJSCSSMixin.render\u001b[0;34m(self, **kwargs)\u001b[0m\n\u001b[1;32m     18\u001b[0m \u001b[38;5;28;01mfor\u001b[39;00m name, url \u001b[38;5;129;01min\u001b[39;00m \u001b[38;5;28mself\u001b[39m\u001b[38;5;241m.\u001b[39mdefault_css:\n\u001b[1;32m     19\u001b[0m     figure\u001b[38;5;241m.\u001b[39mheader\u001b[38;5;241m.\u001b[39madd_child(CssLink(url), name\u001b[38;5;241m=\u001b[39mname)\n\u001b[0;32m---> 21\u001b[0m \u001b[38;5;28;43msuper\u001b[39;49m\u001b[43m(\u001b[49m\u001b[43m)\u001b[49m\u001b[38;5;241;43m.\u001b[39;49m\u001b[43mrender\u001b[49m\u001b[43m(\u001b[49m\u001b[38;5;241;43m*\u001b[39;49m\u001b[38;5;241;43m*\u001b[39;49m\u001b[43mkwargs\u001b[49m\u001b[43m)\u001b[49m\n",
      "File \u001b[0;32m/opt/conda/lib/python3.9/site-packages/branca/element.py:643\u001b[0m, in \u001b[0;36mMacroElement.render\u001b[0;34m(self, **kwargs)\u001b[0m\n\u001b[1;32m    639\u001b[0m     figure\u001b[38;5;241m.\u001b[39mscript\u001b[38;5;241m.\u001b[39madd_child(Element(script(\u001b[38;5;28mself\u001b[39m, kwargs)),\n\u001b[1;32m    640\u001b[0m                             name\u001b[38;5;241m=\u001b[39m\u001b[38;5;28mself\u001b[39m\u001b[38;5;241m.\u001b[39mget_name())\n\u001b[1;32m    642\u001b[0m \u001b[38;5;28;01mfor\u001b[39;00m name, element \u001b[38;5;129;01min\u001b[39;00m \u001b[38;5;28mself\u001b[39m\u001b[38;5;241m.\u001b[39m_children\u001b[38;5;241m.\u001b[39mitems():\n\u001b[0;32m--> 643\u001b[0m     \u001b[43melement\u001b[49m\u001b[38;5;241;43m.\u001b[39;49m\u001b[43mrender\u001b[49m\u001b[43m(\u001b[49m\u001b[38;5;241;43m*\u001b[39;49m\u001b[38;5;241;43m*\u001b[39;49m\u001b[43mkwargs\u001b[49m\u001b[43m)\u001b[49m\n",
      "File \u001b[0;32m/opt/conda/lib/python3.9/site-packages/folium/features.py:626\u001b[0m, in \u001b[0;36mGeoJson.render\u001b[0;34m(self, **kwargs)\u001b[0m\n\u001b[1;32m    623\u001b[0m     \u001b[38;5;28;01mif\u001b[39;00m \u001b[38;5;28mself\u001b[39m\u001b[38;5;241m.\u001b[39mhighlight:\n\u001b[1;32m    624\u001b[0m         \u001b[38;5;28mself\u001b[39m\u001b[38;5;241m.\u001b[39mhighlight_map \u001b[38;5;241m=\u001b[39m mapper\u001b[38;5;241m.\u001b[39mget_highlight_map(\n\u001b[1;32m    625\u001b[0m             \u001b[38;5;28mself\u001b[39m\u001b[38;5;241m.\u001b[39mhighlight_function)\n\u001b[0;32m--> 626\u001b[0m \u001b[38;5;28;43msuper\u001b[39;49m\u001b[43m(\u001b[49m\u001b[43mGeoJson\u001b[49m\u001b[43m,\u001b[49m\u001b[43m \u001b[49m\u001b[38;5;28;43mself\u001b[39;49m\u001b[43m)\u001b[49m\u001b[38;5;241;43m.\u001b[39;49m\u001b[43mrender\u001b[49m\u001b[43m(\u001b[49m\u001b[43m)\u001b[49m\n",
      "File \u001b[0;32m/opt/conda/lib/python3.9/site-packages/branca/element.py:639\u001b[0m, in \u001b[0;36mMacroElement.render\u001b[0;34m(self, **kwargs)\u001b[0m\n\u001b[1;32m    637\u001b[0m script \u001b[38;5;241m=\u001b[39m \u001b[38;5;28mself\u001b[39m\u001b[38;5;241m.\u001b[39m_template\u001b[38;5;241m.\u001b[39mmodule\u001b[38;5;241m.\u001b[39m\u001b[38;5;18m__dict__\u001b[39m\u001b[38;5;241m.\u001b[39mget(\u001b[38;5;124m'\u001b[39m\u001b[38;5;124mscript\u001b[39m\u001b[38;5;124m'\u001b[39m, \u001b[38;5;28;01mNone\u001b[39;00m)\n\u001b[1;32m    638\u001b[0m \u001b[38;5;28;01mif\u001b[39;00m script \u001b[38;5;129;01mis\u001b[39;00m \u001b[38;5;129;01mnot\u001b[39;00m \u001b[38;5;28;01mNone\u001b[39;00m:\n\u001b[0;32m--> 639\u001b[0m     figure\u001b[38;5;241m.\u001b[39mscript\u001b[38;5;241m.\u001b[39madd_child(Element(\u001b[43mscript\u001b[49m\u001b[43m(\u001b[49m\u001b[38;5;28;43mself\u001b[39;49m\u001b[43m,\u001b[49m\u001b[43m \u001b[49m\u001b[43mkwargs\u001b[49m\u001b[43m)\u001b[49m),\n\u001b[1;32m    640\u001b[0m                             name\u001b[38;5;241m=\u001b[39m\u001b[38;5;28mself\u001b[39m\u001b[38;5;241m.\u001b[39mget_name())\n\u001b[1;32m    642\u001b[0m \u001b[38;5;28;01mfor\u001b[39;00m name, element \u001b[38;5;129;01min\u001b[39;00m \u001b[38;5;28mself\u001b[39m\u001b[38;5;241m.\u001b[39m_children\u001b[38;5;241m.\u001b[39mitems():\n\u001b[1;32m    643\u001b[0m     element\u001b[38;5;241m.\u001b[39mrender(\u001b[38;5;241m*\u001b[39m\u001b[38;5;241m*\u001b[39mkwargs)\n",
      "File \u001b[0;32m/opt/conda/lib/python3.9/site-packages/jinja2/runtime.py:814\u001b[0m, in \u001b[0;36mMacro.__call__\u001b[0;34m(self, *args, **kwargs)\u001b[0m\n\u001b[1;32m    808\u001b[0m \u001b[38;5;28;01melif\u001b[39;00m \u001b[38;5;28mlen\u001b[39m(args) \u001b[38;5;241m>\u001b[39m \u001b[38;5;28mself\u001b[39m\u001b[38;5;241m.\u001b[39m_argument_count:\n\u001b[1;32m    809\u001b[0m     \u001b[38;5;28;01mraise\u001b[39;00m \u001b[38;5;167;01mTypeError\u001b[39;00m(\n\u001b[1;32m    810\u001b[0m         \u001b[38;5;124mf\u001b[39m\u001b[38;5;124m\"\u001b[39m\u001b[38;5;124mmacro \u001b[39m\u001b[38;5;132;01m{\u001b[39;00m\u001b[38;5;28mself\u001b[39m\u001b[38;5;241m.\u001b[39mname\u001b[38;5;132;01m!r}\u001b[39;00m\u001b[38;5;124m takes not more than\u001b[39m\u001b[38;5;124m\"\u001b[39m\n\u001b[1;32m    811\u001b[0m         \u001b[38;5;124mf\u001b[39m\u001b[38;5;124m\"\u001b[39m\u001b[38;5;124m \u001b[39m\u001b[38;5;132;01m{\u001b[39;00m\u001b[38;5;28mlen\u001b[39m(\u001b[38;5;28mself\u001b[39m\u001b[38;5;241m.\u001b[39marguments)\u001b[38;5;132;01m}\u001b[39;00m\u001b[38;5;124m argument(s)\u001b[39m\u001b[38;5;124m\"\u001b[39m\n\u001b[1;32m    812\u001b[0m     )\n\u001b[0;32m--> 814\u001b[0m \u001b[38;5;28;01mreturn\u001b[39;00m \u001b[38;5;28;43mself\u001b[39;49m\u001b[38;5;241;43m.\u001b[39;49m\u001b[43m_invoke\u001b[49m\u001b[43m(\u001b[49m\u001b[43marguments\u001b[49m\u001b[43m,\u001b[49m\u001b[43m \u001b[49m\u001b[43mautoescape\u001b[49m\u001b[43m)\u001b[49m\n",
      "File \u001b[0;32m/opt/conda/lib/python3.9/site-packages/jinja2/runtime.py:828\u001b[0m, in \u001b[0;36mMacro._invoke\u001b[0;34m(self, arguments, autoescape)\u001b[0m\n\u001b[1;32m    825\u001b[0m \u001b[38;5;28;01mif\u001b[39;00m \u001b[38;5;28mself\u001b[39m\u001b[38;5;241m.\u001b[39m_environment\u001b[38;5;241m.\u001b[39mis_async:\n\u001b[1;32m    826\u001b[0m     \u001b[38;5;28;01mreturn\u001b[39;00m \u001b[38;5;28mself\u001b[39m\u001b[38;5;241m.\u001b[39m_async_invoke(arguments, autoescape)  \u001b[38;5;66;03m# type: ignore\u001b[39;00m\n\u001b[0;32m--> 828\u001b[0m rv \u001b[38;5;241m=\u001b[39m \u001b[38;5;28;43mself\u001b[39;49m\u001b[38;5;241;43m.\u001b[39;49m\u001b[43m_func\u001b[49m\u001b[43m(\u001b[49m\u001b[38;5;241;43m*\u001b[39;49m\u001b[43marguments\u001b[49m\u001b[43m)\u001b[49m\n\u001b[1;32m    830\u001b[0m \u001b[38;5;28;01mif\u001b[39;00m autoescape:\n\u001b[1;32m    831\u001b[0m     rv \u001b[38;5;241m=\u001b[39m Markup(rv)\n",
      "File \u001b[0;32m<template>:238\u001b[0m, in \u001b[0;36mmacro\u001b[0;34m(l_1_this, l_1_kwargs)\u001b[0m\n",
      "File \u001b[0;32m/opt/conda/lib/python3.9/site-packages/jinja2/filters.py:1673\u001b[0m, in \u001b[0;36mdo_tojson\u001b[0;34m(eval_ctx, value, indent)\u001b[0m\n\u001b[1;32m   1670\u001b[0m     kwargs \u001b[38;5;241m=\u001b[39m kwargs\u001b[38;5;241m.\u001b[39mcopy()\n\u001b[1;32m   1671\u001b[0m     kwargs[\u001b[38;5;124m\"\u001b[39m\u001b[38;5;124mindent\u001b[39m\u001b[38;5;124m\"\u001b[39m] \u001b[38;5;241m=\u001b[39m indent\n\u001b[0;32m-> 1673\u001b[0m \u001b[38;5;28;01mreturn\u001b[39;00m \u001b[43mhtmlsafe_json_dumps\u001b[49m\u001b[43m(\u001b[49m\u001b[43mvalue\u001b[49m\u001b[43m,\u001b[49m\u001b[43m \u001b[49m\u001b[43mdumps\u001b[49m\u001b[38;5;241;43m=\u001b[39;49m\u001b[43mdumps\u001b[49m\u001b[43m,\u001b[49m\u001b[43m \u001b[49m\u001b[38;5;241;43m*\u001b[39;49m\u001b[38;5;241;43m*\u001b[39;49m\u001b[43mkwargs\u001b[49m\u001b[43m)\u001b[49m\n",
      "File \u001b[0;32m/opt/conda/lib/python3.9/site-packages/jinja2/utils.py:736\u001b[0m, in \u001b[0;36mhtmlsafe_json_dumps\u001b[0;34m(obj, dumps, **kwargs)\u001b[0m\n\u001b[1;32m    732\u001b[0m \u001b[38;5;28;01mif\u001b[39;00m dumps \u001b[38;5;129;01mis\u001b[39;00m \u001b[38;5;28;01mNone\u001b[39;00m:\n\u001b[1;32m    733\u001b[0m     dumps \u001b[38;5;241m=\u001b[39m json\u001b[38;5;241m.\u001b[39mdumps\n\u001b[1;32m    735\u001b[0m \u001b[38;5;28;01mreturn\u001b[39;00m markupsafe\u001b[38;5;241m.\u001b[39mMarkup(\n\u001b[0;32m--> 736\u001b[0m     \u001b[43mdumps\u001b[49m\u001b[43m(\u001b[49m\u001b[43mobj\u001b[49m\u001b[43m,\u001b[49m\u001b[43m \u001b[49m\u001b[38;5;241;43m*\u001b[39;49m\u001b[38;5;241;43m*\u001b[39;49m\u001b[43mkwargs\u001b[49m\u001b[43m)\u001b[49m\n\u001b[1;32m    737\u001b[0m     \u001b[38;5;241m.\u001b[39mreplace(\u001b[38;5;124m\"\u001b[39m\u001b[38;5;124m<\u001b[39m\u001b[38;5;124m\"\u001b[39m, \u001b[38;5;124m\"\u001b[39m\u001b[38;5;130;01m\\\\\u001b[39;00m\u001b[38;5;124mu003c\u001b[39m\u001b[38;5;124m\"\u001b[39m)\n\u001b[1;32m    738\u001b[0m     \u001b[38;5;241m.\u001b[39mreplace(\u001b[38;5;124m\"\u001b[39m\u001b[38;5;124m>\u001b[39m\u001b[38;5;124m\"\u001b[39m, \u001b[38;5;124m\"\u001b[39m\u001b[38;5;130;01m\\\\\u001b[39;00m\u001b[38;5;124mu003e\u001b[39m\u001b[38;5;124m\"\u001b[39m)\n\u001b[1;32m    739\u001b[0m     \u001b[38;5;241m.\u001b[39mreplace(\u001b[38;5;124m\"\u001b[39m\u001b[38;5;124m&\u001b[39m\u001b[38;5;124m\"\u001b[39m, \u001b[38;5;124m\"\u001b[39m\u001b[38;5;130;01m\\\\\u001b[39;00m\u001b[38;5;124mu0026\u001b[39m\u001b[38;5;124m\"\u001b[39m)\n\u001b[1;32m    740\u001b[0m     \u001b[38;5;241m.\u001b[39mreplace(\u001b[38;5;124m\"\u001b[39m\u001b[38;5;124m'\u001b[39m\u001b[38;5;124m\"\u001b[39m, \u001b[38;5;124m\"\u001b[39m\u001b[38;5;130;01m\\\\\u001b[39;00m\u001b[38;5;124mu0027\u001b[39m\u001b[38;5;124m\"\u001b[39m)\n\u001b[1;32m    741\u001b[0m )\n",
      "File \u001b[0;32m/opt/conda/lib/python3.9/json/__init__.py:234\u001b[0m, in \u001b[0;36mdumps\u001b[0;34m(obj, skipkeys, ensure_ascii, check_circular, allow_nan, cls, indent, separators, default, sort_keys, **kw)\u001b[0m\n\u001b[1;32m    232\u001b[0m \u001b[38;5;28;01mif\u001b[39;00m \u001b[38;5;28mcls\u001b[39m \u001b[38;5;129;01mis\u001b[39;00m \u001b[38;5;28;01mNone\u001b[39;00m:\n\u001b[1;32m    233\u001b[0m     \u001b[38;5;28mcls\u001b[39m \u001b[38;5;241m=\u001b[39m JSONEncoder\n\u001b[0;32m--> 234\u001b[0m \u001b[38;5;28;01mreturn\u001b[39;00m \u001b[38;5;28;43mcls\u001b[39;49m\u001b[43m(\u001b[49m\n\u001b[1;32m    235\u001b[0m \u001b[43m    \u001b[49m\u001b[43mskipkeys\u001b[49m\u001b[38;5;241;43m=\u001b[39;49m\u001b[43mskipkeys\u001b[49m\u001b[43m,\u001b[49m\u001b[43m \u001b[49m\u001b[43mensure_ascii\u001b[49m\u001b[38;5;241;43m=\u001b[39;49m\u001b[43mensure_ascii\u001b[49m\u001b[43m,\u001b[49m\n\u001b[1;32m    236\u001b[0m \u001b[43m    \u001b[49m\u001b[43mcheck_circular\u001b[49m\u001b[38;5;241;43m=\u001b[39;49m\u001b[43mcheck_circular\u001b[49m\u001b[43m,\u001b[49m\u001b[43m \u001b[49m\u001b[43mallow_nan\u001b[49m\u001b[38;5;241;43m=\u001b[39;49m\u001b[43mallow_nan\u001b[49m\u001b[43m,\u001b[49m\u001b[43m \u001b[49m\u001b[43mindent\u001b[49m\u001b[38;5;241;43m=\u001b[39;49m\u001b[43mindent\u001b[49m\u001b[43m,\u001b[49m\n\u001b[1;32m    237\u001b[0m \u001b[43m    \u001b[49m\u001b[43mseparators\u001b[49m\u001b[38;5;241;43m=\u001b[39;49m\u001b[43mseparators\u001b[49m\u001b[43m,\u001b[49m\u001b[43m \u001b[49m\u001b[43mdefault\u001b[49m\u001b[38;5;241;43m=\u001b[39;49m\u001b[43mdefault\u001b[49m\u001b[43m,\u001b[49m\u001b[43m \u001b[49m\u001b[43msort_keys\u001b[49m\u001b[38;5;241;43m=\u001b[39;49m\u001b[43msort_keys\u001b[49m\u001b[43m,\u001b[49m\n\u001b[1;32m    238\u001b[0m \u001b[43m    \u001b[49m\u001b[38;5;241;43m*\u001b[39;49m\u001b[38;5;241;43m*\u001b[39;49m\u001b[43mkw\u001b[49m\u001b[43m)\u001b[49m\u001b[38;5;241;43m.\u001b[39;49m\u001b[43mencode\u001b[49m\u001b[43m(\u001b[49m\u001b[43mobj\u001b[49m\u001b[43m)\u001b[49m\n",
      "File \u001b[0;32m/opt/conda/lib/python3.9/json/encoder.py:199\u001b[0m, in \u001b[0;36mJSONEncoder.encode\u001b[0;34m(self, o)\u001b[0m\n\u001b[1;32m    195\u001b[0m         \u001b[38;5;28;01mreturn\u001b[39;00m encode_basestring(o)\n\u001b[1;32m    196\u001b[0m \u001b[38;5;66;03m# This doesn't pass the iterator directly to ''.join() because the\u001b[39;00m\n\u001b[1;32m    197\u001b[0m \u001b[38;5;66;03m# exceptions aren't as detailed.  The list call should be roughly\u001b[39;00m\n\u001b[1;32m    198\u001b[0m \u001b[38;5;66;03m# equivalent to the PySequence_Fast that ''.join() would do.\u001b[39;00m\n\u001b[0;32m--> 199\u001b[0m chunks \u001b[38;5;241m=\u001b[39m \u001b[38;5;28;43mself\u001b[39;49m\u001b[38;5;241;43m.\u001b[39;49m\u001b[43miterencode\u001b[49m\u001b[43m(\u001b[49m\u001b[43mo\u001b[49m\u001b[43m,\u001b[49m\u001b[43m \u001b[49m\u001b[43m_one_shot\u001b[49m\u001b[38;5;241;43m=\u001b[39;49m\u001b[38;5;28;43;01mTrue\u001b[39;49;00m\u001b[43m)\u001b[49m\n\u001b[1;32m    200\u001b[0m \u001b[38;5;28;01mif\u001b[39;00m \u001b[38;5;129;01mnot\u001b[39;00m \u001b[38;5;28misinstance\u001b[39m(chunks, (\u001b[38;5;28mlist\u001b[39m, \u001b[38;5;28mtuple\u001b[39m)):\n\u001b[1;32m    201\u001b[0m     chunks \u001b[38;5;241m=\u001b[39m \u001b[38;5;28mlist\u001b[39m(chunks)\n",
      "File \u001b[0;32m/opt/conda/lib/python3.9/json/encoder.py:257\u001b[0m, in \u001b[0;36mJSONEncoder.iterencode\u001b[0;34m(self, o, _one_shot)\u001b[0m\n\u001b[1;32m    252\u001b[0m \u001b[38;5;28;01melse\u001b[39;00m:\n\u001b[1;32m    253\u001b[0m     _iterencode \u001b[38;5;241m=\u001b[39m _make_iterencode(\n\u001b[1;32m    254\u001b[0m         markers, \u001b[38;5;28mself\u001b[39m\u001b[38;5;241m.\u001b[39mdefault, _encoder, \u001b[38;5;28mself\u001b[39m\u001b[38;5;241m.\u001b[39mindent, floatstr,\n\u001b[1;32m    255\u001b[0m         \u001b[38;5;28mself\u001b[39m\u001b[38;5;241m.\u001b[39mkey_separator, \u001b[38;5;28mself\u001b[39m\u001b[38;5;241m.\u001b[39mitem_separator, \u001b[38;5;28mself\u001b[39m\u001b[38;5;241m.\u001b[39msort_keys,\n\u001b[1;32m    256\u001b[0m         \u001b[38;5;28mself\u001b[39m\u001b[38;5;241m.\u001b[39mskipkeys, _one_shot)\n\u001b[0;32m--> 257\u001b[0m \u001b[38;5;28;01mreturn\u001b[39;00m \u001b[43m_iterencode\u001b[49m\u001b[43m(\u001b[49m\u001b[43mo\u001b[49m\u001b[43m,\u001b[49m\u001b[43m \u001b[49m\u001b[38;5;241;43m0\u001b[39;49m\u001b[43m)\u001b[49m\n",
      "\u001b[0;31mTypeError\u001b[0m: '<' not supported between instances of 'int' and 'str'"
     ]
    },
    {
     "data": {
      "text/plain": [
       "<folium.folium.Map at 0x7f68b02c6580>"
      ]
     },
     "execution_count": 13,
     "metadata": {},
     "output_type": "execute_result"
    }
   ],
   "source": [
    "rt_day.quick_map_corridor()"
   ]
  },
  {
   "cell_type": "markdown",
   "id": "9b380f7a-17ef-44b2-8d33-382d018f2c02",
   "metadata": {},
   "source": [
    "## example for trips saved"
   ]
  },
  {
   "cell_type": "code",
   "execution_count": 23,
   "id": "bbb83755-4f64-43e9-8b7e-214bfd8f7c19",
   "metadata": {},
   "outputs": [
    {
     "data": {
      "text/html": [
       "<div>\n",
       "<style scoped>\n",
       "    .dataframe tbody tr th:only-of-type {\n",
       "        vertical-align: middle;\n",
       "    }\n",
       "\n",
       "    .dataframe tbody tr th {\n",
       "        vertical-align: top;\n",
       "    }\n",
       "\n",
       "    .dataframe thead th {\n",
       "        text-align: right;\n",
       "    }\n",
       "</style>\n",
       "<table border=\"1\" class=\"dataframe\">\n",
       "  <thead>\n",
       "    <tr style=\"text-align: right;\">\n",
       "      <th></th>\n",
       "      <th>shape_meters</th>\n",
       "      <th>stop_id</th>\n",
       "      <th>stop_name</th>\n",
       "      <th>geometry</th>\n",
       "      <th>shape_id</th>\n",
       "      <th>trip_id</th>\n",
       "      <th>stop_sequence</th>\n",
       "      <th>arrival_time</th>\n",
       "      <th>route_id</th>\n",
       "      <th>route_short_name</th>\n",
       "      <th>direction_id</th>\n",
       "      <th>actual_time</th>\n",
       "      <th>delay_seconds</th>\n",
       "      <th>corridor</th>\n",
       "    </tr>\n",
       "  </thead>\n",
       "  <tbody>\n",
       "    <tr>\n",
       "      <th>0</th>\n",
       "      <td>16.507417</td>\n",
       "      <td>17038</td>\n",
       "      <td>Powell St &amp; Beach St</td>\n",
       "      <td>POINT (-212061.113 -20505.663)</td>\n",
       "      <td>2808</td>\n",
       "      <td>11239765_M11</td>\n",
       "      <td>1.0</td>\n",
       "      <td>2023-04-12 09:51:00</td>\n",
       "      <td>28</td>\n",
       "      <td>28</td>\n",
       "      <td>0.0</td>\n",
       "      <td>2023-04-12 09:52:59.184980</td>\n",
       "      <td>119.0</td>\n",
       "      <td>False</td>\n",
       "    </tr>\n",
       "    <tr>\n",
       "      <th>1</th>\n",
       "      <td>581.578304</td>\n",
       "      <td>15466</td>\n",
       "      <td>North Point St &amp; Mason St</td>\n",
       "      <td>POINT (-212248.659 -20620.876)</td>\n",
       "      <td>2808</td>\n",
       "      <td>11239765_M11</td>\n",
       "      <td>2.0</td>\n",
       "      <td>2023-04-12 09:53:32</td>\n",
       "      <td>28</td>\n",
       "      <td>28</td>\n",
       "      <td>0.0</td>\n",
       "      <td>2023-04-12 09:55:28.536022</td>\n",
       "      <td>116.0</td>\n",
       "      <td>False</td>\n",
       "    </tr>\n",
       "    <tr>\n",
       "      <th>2</th>\n",
       "      <td>863.334950</td>\n",
       "      <td>15460</td>\n",
       "      <td>North Point St &amp; Jones St</td>\n",
       "      <td>POINT (-212527.961 -20657.349)</td>\n",
       "      <td>2808</td>\n",
       "      <td>11239765_M11</td>\n",
       "      <td>3.0</td>\n",
       "      <td>2023-04-12 09:54:45</td>\n",
       "      <td>28</td>\n",
       "      <td>28</td>\n",
       "      <td>0.0</td>\n",
       "      <td>2023-04-12 09:56:36.283278</td>\n",
       "      <td>111.0</td>\n",
       "      <td>False</td>\n",
       "    </tr>\n",
       "  </tbody>\n",
       "</table>\n",
       "</div>"
      ],
      "text/plain": [
       "   shape_meters stop_id                  stop_name  \\\n",
       "0     16.507417   17038       Powell St & Beach St   \n",
       "1    581.578304   15466  North Point St & Mason St   \n",
       "2    863.334950   15460  North Point St & Jones St   \n",
       "\n",
       "                         geometry shape_id       trip_id  stop_sequence  \\\n",
       "0  POINT (-212061.113 -20505.663)     2808  11239765_M11            1.0   \n",
       "1  POINT (-212248.659 -20620.876)     2808  11239765_M11            2.0   \n",
       "2  POINT (-212527.961 -20657.349)     2808  11239765_M11            3.0   \n",
       "\n",
       "         arrival_time route_id route_short_name  direction_id  \\\n",
       "0 2023-04-12 09:51:00       28               28           0.0   \n",
       "1 2023-04-12 09:53:32       28               28           0.0   \n",
       "2 2023-04-12 09:54:45       28               28           0.0   \n",
       "\n",
       "                 actual_time  delay_seconds  corridor  \n",
       "0 2023-04-12 09:52:59.184980          119.0     False  \n",
       "1 2023-04-12 09:55:28.536022          116.0     False  \n",
       "2 2023-04-12 09:56:36.283278          111.0     False  "
      ]
     },
     "execution_count": 23,
     "metadata": {},
     "output_type": "execute_result"
    }
   ],
   "source": [
    "df = rt_day._filter(rt_day.stop_delay_view).copy()\n",
    "df >> head(3)"
   ]
  },
  {
   "cell_type": "code",
   "execution_count": 24,
   "id": "a3bad8b1-cff2-420c-9353-a2f38c1a683d",
   "metadata": {},
   "outputs": [
    {
     "data": {
      "text/html": [
       "<div>\n",
       "<style scoped>\n",
       "    .dataframe tbody tr th:only-of-type {\n",
       "        vertical-align: middle;\n",
       "    }\n",
       "\n",
       "    .dataframe tbody tr th {\n",
       "        vertical-align: top;\n",
       "    }\n",
       "\n",
       "    .dataframe thead th {\n",
       "        text-align: right;\n",
       "    }\n",
       "</style>\n",
       "<table border=\"1\" class=\"dataframe\">\n",
       "  <thead>\n",
       "    <tr style=\"text-align: right;\">\n",
       "      <th></th>\n",
       "      <th>shape_id</th>\n",
       "      <th>route_id</th>\n",
       "      <th>route_short_name</th>\n",
       "      <th>trip_id</th>\n",
       "      <th>runtime</th>\n",
       "    </tr>\n",
       "  </thead>\n",
       "  <tbody>\n",
       "    <tr>\n",
       "      <th>0</th>\n",
       "      <td>2808</td>\n",
       "      <td>28</td>\n",
       "      <td>28</td>\n",
       "      <td>11239750_M11</td>\n",
       "      <td>0 days 00:43:59.998196</td>\n",
       "    </tr>\n",
       "    <tr>\n",
       "      <th>1</th>\n",
       "      <td>2808</td>\n",
       "      <td>28</td>\n",
       "      <td>28</td>\n",
       "      <td>11239751_M11</td>\n",
       "      <td>0 days 00:32:55.447605</td>\n",
       "    </tr>\n",
       "    <tr>\n",
       "      <th>2</th>\n",
       "      <td>2808</td>\n",
       "      <td>28</td>\n",
       "      <td>28</td>\n",
       "      <td>11239753_M11</td>\n",
       "      <td>0 days 00:39:39.471332</td>\n",
       "    </tr>\n",
       "  </tbody>\n",
       "</table>\n",
       "</div>"
      ],
      "text/plain": [
       "  shape_id route_id route_short_name       trip_id                runtime\n",
       "0     2808       28               28  11239750_M11 0 days 00:43:59.998196\n",
       "1     2808       28               28  11239751_M11 0 days 00:32:55.447605\n",
       "2     2808       28               28  11239753_M11 0 days 00:39:39.471332"
      ]
     },
     "execution_count": 24,
     "metadata": {},
     "output_type": "execute_result"
    }
   ],
   "source": [
    "df2 = (df\n",
    " >> group_by(_.shape_id, _.route_id, _.route_short_name, _.trip_id)\n",
    " >> summarize(runtime = _.actual_time.max() - _.actual_time.min())\n",
    ")\n",
    "df2 >> head(3)"
   ]
  },
  {
   "cell_type": "code",
   "execution_count": 28,
   "id": "9bfced4d-ee06-4aa3-9481-a9e3ed6088f3",
   "metadata": {},
   "outputs": [
    {
     "data": {
      "text/html": [
       "<div>\n",
       "<style scoped>\n",
       "    .dataframe tbody tr th:only-of-type {\n",
       "        vertical-align: middle;\n",
       "    }\n",
       "\n",
       "    .dataframe tbody tr th {\n",
       "        vertical-align: top;\n",
       "    }\n",
       "\n",
       "    .dataframe thead th {\n",
       "        text-align: right;\n",
       "    }\n",
       "</style>\n",
       "<table border=\"1\" class=\"dataframe\">\n",
       "  <thead>\n",
       "    <tr style=\"text-align: right;\">\n",
       "      <th></th>\n",
       "      <th>route_id</th>\n",
       "      <th>route_short_name</th>\n",
       "      <th>p50_runtime_minutes</th>\n",
       "      <th>p20_runtime_minutes</th>\n",
       "      <th>p80_runtime_minutes</th>\n",
       "    </tr>\n",
       "  </thead>\n",
       "  <tbody>\n",
       "    <tr>\n",
       "      <th>0</th>\n",
       "      <td>28</td>\n",
       "      <td>28</td>\n",
       "      <td>55.0</td>\n",
       "      <td>46.0</td>\n",
       "      <td>62.0</td>\n",
       "    </tr>\n",
       "    <tr>\n",
       "      <th>1</th>\n",
       "      <td>29</td>\n",
       "      <td>29</td>\n",
       "      <td>69.0</td>\n",
       "      <td>61.0</td>\n",
       "      <td>77.0</td>\n",
       "    </tr>\n",
       "    <tr>\n",
       "      <th>2</th>\n",
       "      <td>43</td>\n",
       "      <td>43</td>\n",
       "      <td>72.0</td>\n",
       "      <td>62.0</td>\n",
       "      <td>78.0</td>\n",
       "    </tr>\n",
       "  </tbody>\n",
       "</table>\n",
       "</div>"
      ],
      "text/plain": [
       "  route_id route_short_name  p50_runtime_minutes  p20_runtime_minutes  \\\n",
       "0       28               28                 55.0                 46.0   \n",
       "1       29               29                 69.0                 61.0   \n",
       "2       43               43                 72.0                 62.0   \n",
       "\n",
       "   p80_runtime_minutes  \n",
       "0                 62.0  \n",
       "1                 77.0  \n",
       "2                 78.0  "
      ]
     },
     "execution_count": 28,
     "metadata": {},
     "output_type": "execute_result"
    }
   ],
   "source": [
    "df3 = (df2\n",
    " >> group_by(_.route_id, _.route_short_name)\n",
    " >> summarize(p50_runtime_minutes =_.runtime.quantile(.5).seconds / 60,\n",
    "             p20_runtime_minutes =_.runtime.quantile(.2).seconds / 60,\n",
    "             p80_runtime_minutes =_.runtime.quantile(.8).seconds / 60)\n",
    ").round(0)\n",
    "df3"
   ]
  },
  {
   "cell_type": "markdown",
   "id": "a282cc1d-f43c-4d74-8d15-34793aa9b348",
   "metadata": {},
   "source": [
    "## resume modeling, add actual speeds and trips saved"
   ]
  },
  {
   "cell_type": "code",
   "execution_count": null,
   "id": "d550627e-f154-47bc-9652-51f246033d16",
   "metadata": {},
   "outputs": [],
   "source": [
    "m = rt_day.segment_speed_map(how='low_speeds', no_title=False, shn=True, corridor=True)"
   ]
  },
  {
   "cell_type": "code",
   "execution_count": null,
   "id": "bab9756b-4256-46c0-a123-b285cbf67259",
   "metadata": {},
   "outputs": [],
   "source": [
    "m"
   ]
  },
  {
   "cell_type": "code",
   "execution_count": null,
   "id": "30c329fb-776b-4ced-a4cb-9c46d3d78309",
   "metadata": {},
   "outputs": [],
   "source": [
    "all_corridors = []"
   ]
  },
  {
   "cell_type": "code",
   "execution_count": null,
   "id": "84472c45-e014-4577-bd70-8052dd3445ca",
   "metadata": {},
   "outputs": [],
   "source": [
    "all_corridors += [rt_day.corridor]"
   ]
  },
  {
   "cell_type": "markdown",
   "id": "72a92fed-fb60-4ede-8494-d59a806bbd63",
   "metadata": {},
   "source": [
    "## Muni 19th A"
   ]
  },
  {
   "cell_type": "code",
   "execution_count": null,
   "id": "51c88fe2-9a12-4b21-a2a1-e5d332b4ad03",
   "metadata": {},
   "outputs": [],
   "source": [
    "rt_day.autocorridor(shape_id = '2808', stop_seq_range = [21, 32])"
   ]
  },
  {
   "cell_type": "code",
   "execution_count": null,
   "id": "9ad1e958-e674-4187-a3f6-a2ba1ab99b1d",
   "metadata": {},
   "outputs": [],
   "source": [
    "rt_day.corridor_stop_delays >> distinct(_.route_short_name)"
   ]
  },
  {
   "cell_type": "code",
   "execution_count": null,
   "id": "767fb8df-107d-4f06-ad64-8aaed2c72f30",
   "metadata": {},
   "outputs": [],
   "source": [
    "rt_day.corridor_metrics()"
   ]
  },
  {
   "cell_type": "code",
   "execution_count": null,
   "id": "e97fc987-4842-46c3-ace3-8604722969d8",
   "metadata": {},
   "outputs": [],
   "source": [
    "rt_day.quick_map_corridor()"
   ]
  },
  {
   "cell_type": "code",
   "execution_count": null,
   "id": "db8df09e-3e5d-4bcb-8be3-20c61fe3035a",
   "metadata": {},
   "outputs": [],
   "source": [
    "# m = rt_day.segment_speed_map(how='low_speeds', no_title=False, shn=True, corridor=True)\n",
    "## geoms error, no time to fix"
   ]
  },
  {
   "cell_type": "markdown",
   "id": "44cdaf50-dbbd-4110-8bc9-6bc4bed451cd",
   "metadata": {},
   "source": [
    "## Muni 19th B"
   ]
  },
  {
   "cell_type": "code",
   "execution_count": null,
   "id": "e3158577-c1ba-4d17-9973-23b04cabf0ea",
   "metadata": {},
   "outputs": [],
   "source": [
    "rt_day.autocorridor(shape_id = '2808', stop_seq_range = [32, 37])"
   ]
  },
  {
   "cell_type": "code",
   "execution_count": null,
   "id": "cdefdb6d-ec40-4ab7-aa7b-d9aa1e112618",
   "metadata": {},
   "outputs": [],
   "source": [
    "rt_day.corridor_stop_delays >> distinct(_.route_short_name)"
   ]
  },
  {
   "cell_type": "code",
   "execution_count": null,
   "id": "6c803d57-ca0d-4d4b-8e58-e771f7f5e4c5",
   "metadata": {},
   "outputs": [],
   "source": [
    "rt_day.corridor_metrics()"
   ]
  },
  {
   "cell_type": "code",
   "execution_count": null,
   "id": "32de4a73-90d2-476f-9551-e72e9e81bd78",
   "metadata": {},
   "outputs": [],
   "source": [
    "rt_day.quick_map_corridor()"
   ]
  },
  {
   "cell_type": "code",
   "execution_count": null,
   "id": "c8df5265-eccb-43ea-b1ce-a7b403e24278",
   "metadata": {},
   "outputs": [],
   "source": [
    "m = rt_day.segment_speed_map(how='low_speeds', no_title=False, shn=True, corridor=True)"
   ]
  },
  {
   "cell_type": "code",
   "execution_count": null,
   "id": "3e3e1b29-41f7-4b01-9156-a118d3122ede",
   "metadata": {},
   "outputs": [],
   "source": [
    "m"
   ]
  },
  {
   "cell_type": "markdown",
   "id": "02eb001f-e0f4-44d7-902d-36cbe15f55a3",
   "metadata": {},
   "source": [
    "# AC Transit"
   ]
  },
  {
   "cell_type": "code",
   "execution_count": null,
   "id": "6b13c054-d039-4c11-94c8-4eff742a84a1",
   "metadata": {
    "tags": [
     "parameters"
    ]
   },
   "outputs": [],
   "source": [
    "## parameters cell\n",
    "itp_id = 4"
   ]
  },
  {
   "cell_type": "code",
   "execution_count": null,
   "id": "6bb0a27a-0b95-4c85-b606-65bd6db9e4a1",
   "metadata": {},
   "outputs": [],
   "source": [
    "%%capture\n",
    "rt_day = rt_filter_map_plot.from_gcs(itp_id, analysis_date)"
   ]
  },
  {
   "cell_type": "code",
   "execution_count": null,
   "id": "36456654-ac8b-4b15-9301-42ec36574ea2",
   "metadata": {},
   "outputs": [],
   "source": [
    "%%capture_parameters\n",
    "organization_name = rt_day.organization_name\n",
    "organization_name"
   ]
  },
  {
   "cell_type": "code",
   "execution_count": null,
   "id": "8d5f7763-e2bd-46e4-906c-2b8efb36739a",
   "metadata": {},
   "outputs": [],
   "source": [
    "rt_day.set_filter(route_names = ['72', '72M', '72R'])"
   ]
  },
  {
   "cell_type": "code",
   "execution_count": null,
   "id": "15bb169a-6a27-413e-9a99-49c9e4c00646",
   "metadata": {},
   "outputs": [],
   "source": [
    "_m = rt_day.segment_speed_map()"
   ]
  },
  {
   "cell_type": "markdown",
   "id": "2002cb0a-ee4b-43a8-841c-827834bb6322",
   "metadata": {},
   "source": [
    "## AC Transit San Pablo"
   ]
  },
  {
   "cell_type": "code",
   "execution_count": null,
   "id": "13b1c7d0-1887-4286-b64a-80fd5b735e44",
   "metadata": {},
   "outputs": [],
   "source": [
    "rt_day.autocorridor(shape_id = 'shp-72R-15', stop_seq_range = [9, 19])"
   ]
  },
  {
   "cell_type": "code",
   "execution_count": null,
   "id": "a9f6f78b-265a-4c45-9c29-74aa563d0311",
   "metadata": {},
   "outputs": [],
   "source": [
    "rt_day.corridor_stop_delays >> distinct(_.route_short_name)"
   ]
  },
  {
   "cell_type": "code",
   "execution_count": null,
   "id": "63f0e253-de94-4a97-a802-652a77c23dcb",
   "metadata": {},
   "outputs": [],
   "source": [
    "rt_day.corridor_metrics()"
   ]
  },
  {
   "cell_type": "code",
   "execution_count": null,
   "id": "6c35a711-7fb4-4e3e-b326-384afe6270ce",
   "metadata": {},
   "outputs": [],
   "source": [
    "rt_day.quick_map_corridor()"
   ]
  },
  {
   "cell_type": "code",
   "execution_count": null,
   "id": "72e82f12-ed8b-41f0-bc7c-4f2449ca8814",
   "metadata": {},
   "outputs": [],
   "source": [
    "m = rt_day.segment_speed_map(how='low_speeds', no_title=False, shn=True, corridor=True)"
   ]
  },
  {
   "cell_type": "code",
   "execution_count": null,
   "id": "042484bb-f746-411c-a461-63b23295ce23",
   "metadata": {},
   "outputs": [],
   "source": [
    "m"
   ]
  },
  {
   "cell_type": "code",
   "execution_count": null,
   "id": "c429c78b-23e3-43a7-914d-48117330bdc8",
   "metadata": {},
   "outputs": [],
   "source": [
    "all_corridors += [rt_day.corridor]"
   ]
  },
  {
   "cell_type": "markdown",
   "id": "a0a80bcd-8e6f-4285-8b68-2a24c2d6f34f",
   "metadata": {},
   "source": [
    "# BBB"
   ]
  },
  {
   "cell_type": "code",
   "execution_count": null,
   "id": "589319db-bf04-4d73-98b1-94e0707f8764",
   "metadata": {
    "tags": [
     "parameters"
    ]
   },
   "outputs": [],
   "source": [
    "## parameters cell\n",
    "itp_id = 300"
   ]
  },
  {
   "cell_type": "code",
   "execution_count": null,
   "id": "374dfb1f-ef11-4a04-a07a-c3a7cca7f793",
   "metadata": {},
   "outputs": [],
   "source": [
    "%%capture\n",
    "rt_day = rt_filter_map_plot.from_gcs(itp_id, analysis_date)"
   ]
  },
  {
   "cell_type": "code",
   "execution_count": null,
   "id": "6010da46-2492-4079-8b37-a3130d869833",
   "metadata": {},
   "outputs": [],
   "source": [
    "%%capture_parameters\n",
    "organization_name = rt_day.organization_name\n",
    "organization_name"
   ]
  },
  {
   "cell_type": "code",
   "execution_count": null,
   "id": "56927c73-6af4-404c-8b99-64ae0a812f1d",
   "metadata": {},
   "outputs": [],
   "source": [
    "rt_day.set_filter(route_names = ['3', 'R3'])"
   ]
  },
  {
   "cell_type": "code",
   "execution_count": null,
   "id": "2b16ca37-28ed-4650-a20d-89f4c75cd7ae",
   "metadata": {},
   "outputs": [],
   "source": [
    "_m = rt_day.segment_speed_map()"
   ]
  },
  {
   "cell_type": "code",
   "execution_count": null,
   "id": "204ba70c-9291-4baa-94e3-8c7b2f3df8d4",
   "metadata": {},
   "outputs": [],
   "source": [
    "_m"
   ]
  },
  {
   "cell_type": "markdown",
   "id": "c1f92dee-43e9-4a9e-ba39-be017f989196",
   "metadata": {},
   "source": [
    "## BBB Lincoln"
   ]
  },
  {
   "cell_type": "code",
   "execution_count": null,
   "id": "471f5351-3281-49b6-ab16-655a08f66457",
   "metadata": {},
   "outputs": [],
   "source": [
    "rt_day.autocorridor(shape_id = '26171', stop_seq_range = [16, 29])"
   ]
  },
  {
   "cell_type": "code",
   "execution_count": null,
   "id": "3161984b-af55-463c-b8ba-1d55fa046b77",
   "metadata": {},
   "outputs": [],
   "source": [
    "rt_day.corridor_stop_delays >> distinct(_.route_short_name)"
   ]
  },
  {
   "cell_type": "code",
   "execution_count": null,
   "id": "2a3e485c-4123-4419-b927-672400e1a769",
   "metadata": {},
   "outputs": [],
   "source": [
    "rt_day.corridor_metrics()"
   ]
  },
  {
   "cell_type": "code",
   "execution_count": null,
   "id": "7a8c2cbe-2011-407c-ac8a-866db4f447bb",
   "metadata": {},
   "outputs": [],
   "source": [
    "rt_day.quick_map_corridor()"
   ]
  },
  {
   "cell_type": "code",
   "execution_count": null,
   "id": "ec0a38ab-81b6-4018-9b13-8ef9d098e8fb",
   "metadata": {},
   "outputs": [],
   "source": [
    "m = rt_day.segment_speed_map(how='low_speeds', no_title=False, shn=True, corridor=True)"
   ]
  },
  {
   "cell_type": "code",
   "execution_count": null,
   "id": "4db60391-8737-4347-b591-6bcdc0356a6f",
   "metadata": {},
   "outputs": [],
   "source": [
    "m"
   ]
  },
  {
   "cell_type": "markdown",
   "id": "9d78d962-ea22-48d7-9bbf-6835815d79ae",
   "metadata": {},
   "source": [
    "# LA Metro"
   ]
  },
  {
   "cell_type": "code",
   "execution_count": null,
   "id": "11767170-9ab1-4e51-8ba1-50008f2d77a7",
   "metadata": {
    "tags": [
     "parameters"
    ]
   },
   "outputs": [],
   "source": [
    "## parameters cell\n",
    "itp_id = 182"
   ]
  },
  {
   "cell_type": "code",
   "execution_count": null,
   "id": "1ceb7f5f-8c83-4d2d-934a-22bf91887d5d",
   "metadata": {},
   "outputs": [],
   "source": [
    "%%capture\n",
    "rt_day = rt_filter_map_plot.from_gcs(itp_id, analysis_date)"
   ]
  },
  {
   "cell_type": "code",
   "execution_count": null,
   "id": "4337e7b3-6a65-411b-b580-2ad42debe79b",
   "metadata": {},
   "outputs": [],
   "source": [
    "%%capture_parameters\n",
    "organization_name = rt_day.organization_name\n",
    "organization_name"
   ]
  },
  {
   "cell_type": "code",
   "execution_count": null,
   "id": "f9119de1-111b-4f45-a382-c6d7d66761a9",
   "metadata": {},
   "outputs": [],
   "source": [
    "rt_day.set_filter(route_names = ['4'])"
   ]
  },
  {
   "cell_type": "code",
   "execution_count": null,
   "id": "66dfc67a-a3d0-4f10-90a8-fa553764d61a",
   "metadata": {},
   "outputs": [],
   "source": [
    "_m = rt_day.segment_speed_map()"
   ]
  },
  {
   "cell_type": "markdown",
   "id": "34f7b12c-c262-4786-80bf-0646d7f98ce2",
   "metadata": {},
   "source": [
    "## Metro Santa Monica Bl"
   ]
  },
  {
   "cell_type": "code",
   "execution_count": null,
   "id": "a990dd8e-8b01-41bc-a6cc-4575591c0e55",
   "metadata": {},
   "outputs": [],
   "source": [
    "rt_day.autocorridor(shape_id = '40338_DEC22', stop_seq_range = [40, 50])"
   ]
  },
  {
   "cell_type": "code",
   "execution_count": null,
   "id": "39e9fcf5-6ef6-4422-8ea3-350b3e13c4df",
   "metadata": {},
   "outputs": [],
   "source": [
    "rt_day.corridor_stop_delays >> distinct(_.route_short_name)"
   ]
  },
  {
   "cell_type": "code",
   "execution_count": null,
   "id": "8b6259eb-dd21-4da4-934c-f3dcfc31b517",
   "metadata": {},
   "outputs": [],
   "source": [
    "rt_day.corridor_metrics()"
   ]
  },
  {
   "cell_type": "code",
   "execution_count": null,
   "id": "a115cf70-d29b-4256-b112-421564e94823",
   "metadata": {},
   "outputs": [],
   "source": [
    "rt_day.quick_map_corridor()"
   ]
  },
  {
   "cell_type": "code",
   "execution_count": null,
   "id": "e144b197-07dd-446b-bfc0-9d11b004f7ad",
   "metadata": {},
   "outputs": [],
   "source": [
    "m = rt_day.segment_speed_map(how='low_speeds', no_title=False, shn=True, corridor=True)"
   ]
  },
  {
   "cell_type": "code",
   "execution_count": null,
   "id": "afea51b4-00cf-4015-917e-878fd3d5ecc0",
   "metadata": {},
   "outputs": [],
   "source": [
    "m"
   ]
  },
  {
   "cell_type": "code",
   "execution_count": null,
   "id": "36c2dc4b-b653-4869-8e13-939b7f8f4353",
   "metadata": {},
   "outputs": [],
   "source": [
    "all_corridors += [rt_day.corridor]"
   ]
  },
  {
   "cell_type": "markdown",
   "id": "f1b9b973-2897-4e4b-801e-c3ba749ef45e",
   "metadata": {},
   "source": [
    "# VTA"
   ]
  },
  {
   "cell_type": "code",
   "execution_count": null,
   "id": "a2c00f9b-4705-408c-9e9f-1df57c22af13",
   "metadata": {
    "tags": [
     "parameters"
    ]
   },
   "outputs": [],
   "source": [
    "## parameters cell\n",
    "itp_id = 294"
   ]
  },
  {
   "cell_type": "code",
   "execution_count": null,
   "id": "ba887f2c-943f-4a4e-9de8-8269678deb0e",
   "metadata": {},
   "outputs": [],
   "source": [
    "%%capture\n",
    "rt_day = rt_filter_map_plot.from_gcs(itp_id, analysis_date)"
   ]
  },
  {
   "cell_type": "code",
   "execution_count": null,
   "id": "4991ab2c-220b-4690-b1b6-5347a7dcb7ed",
   "metadata": {},
   "outputs": [],
   "source": [
    "%%capture_parameters\n",
    "organization_name = rt_day.organization_name\n",
    "organization_name"
   ]
  },
  {
   "cell_type": "code",
   "execution_count": null,
   "id": "f351f682-430b-4cf5-b891-e1e31a96f978",
   "metadata": {},
   "outputs": [],
   "source": [
    "rt_day.set_filter(route_names = ['22', 'Rapid 522'])"
   ]
  },
  {
   "cell_type": "code",
   "execution_count": null,
   "id": "c2e69780-c111-4984-a87e-cf367262549f",
   "metadata": {},
   "outputs": [],
   "source": [
    "_m = rt_day.segment_speed_map()"
   ]
  },
  {
   "cell_type": "code",
   "execution_count": null,
   "id": "511b05bd-d3a8-4544-843d-d584f6279141",
   "metadata": {},
   "outputs": [],
   "source": [
    "_m"
   ]
  },
  {
   "cell_type": "markdown",
   "id": "4777fdde-5386-43a7-b83c-81580f0ab56b",
   "metadata": {},
   "source": [
    "## VTA ECR"
   ]
  },
  {
   "cell_type": "code",
   "execution_count": null,
   "id": "796f1bca-7146-47b1-88bd-f8a384ce7068",
   "metadata": {},
   "outputs": [],
   "source": [
    "rt_day.autocorridor(shape_id = '107193', stop_seq_range = [44, 98])"
   ]
  },
  {
   "cell_type": "code",
   "execution_count": null,
   "id": "606a131b-29af-4a12-81ec-9452d037e8b7",
   "metadata": {},
   "outputs": [],
   "source": [
    "rt_day.corridor_stop_delays >> distinct(_.route_short_name)"
   ]
  },
  {
   "cell_type": "code",
   "execution_count": null,
   "id": "69fcf4e9-6b92-403a-9120-a9d8393f5296",
   "metadata": {},
   "outputs": [],
   "source": [
    "rt_day.corridor_metrics()"
   ]
  },
  {
   "cell_type": "code",
   "execution_count": null,
   "id": "fac66ce9-88fe-4fc2-9bca-1f30b8c84e6e",
   "metadata": {},
   "outputs": [],
   "source": [
    "rt_day.quick_map_corridor()"
   ]
  },
  {
   "cell_type": "code",
   "execution_count": null,
   "id": "aa392f06-3f23-4ac2-8345-5920e802a699",
   "metadata": {},
   "outputs": [],
   "source": [
    "m = rt_day.segment_speed_map(how='low_speeds', no_title=False, shn=True, corridor=True)"
   ]
  },
  {
   "cell_type": "code",
   "execution_count": null,
   "id": "d55dbc8c-2c4f-4a91-9681-7e7c3ff3ee80",
   "metadata": {},
   "outputs": [],
   "source": [
    "m"
   ]
  },
  {
   "cell_type": "markdown",
   "id": "d5f8039a-4414-4a3c-9c51-5afab9ba57c5",
   "metadata": {},
   "source": [
    "# Samtrans"
   ]
  },
  {
   "cell_type": "code",
   "execution_count": null,
   "id": "de9ca499-cff0-4db4-9cf7-a736985bfa0c",
   "metadata": {
    "tags": [
     "parameters"
    ]
   },
   "outputs": [],
   "source": [
    "## parameters cell\n",
    "itp_id = 290"
   ]
  },
  {
   "cell_type": "code",
   "execution_count": null,
   "id": "3613883a-9463-4cde-b6d0-5e88d2ee18f7",
   "metadata": {},
   "outputs": [],
   "source": [
    "%%capture\n",
    "rt_day = rt_filter_map_plot.from_gcs(itp_id, analysis_date)"
   ]
  },
  {
   "cell_type": "code",
   "execution_count": null,
   "id": "19e435db-3f60-47fb-9c9a-17111f80b415",
   "metadata": {},
   "outputs": [],
   "source": [
    "%%capture_parameters\n",
    "organization_name = rt_day.organization_name\n",
    "organization_name"
   ]
  },
  {
   "cell_type": "code",
   "execution_count": null,
   "id": "04c4b687-98c9-4214-aef6-75e5b1f1cd64",
   "metadata": {},
   "outputs": [],
   "source": [
    "rt_day.set_filter(route_names = ['ECR'])"
   ]
  },
  {
   "cell_type": "code",
   "execution_count": null,
   "id": "1d2ec7c9-3245-4246-9955-51d697055915",
   "metadata": {},
   "outputs": [],
   "source": [
    "_m = rt_day.segment_speed_map()"
   ]
  },
  {
   "cell_type": "markdown",
   "id": "414076ab-4575-4627-9c0f-d7d5db288e4b",
   "metadata": {},
   "source": [
    "## Samtrans ECR"
   ]
  },
  {
   "cell_type": "code",
   "execution_count": null,
   "id": "57148623-6a26-488d-8eed-38828b4df9e4",
   "metadata": {},
   "outputs": [],
   "source": [
    "rt_day.autocorridor(shape_id = 'ECR1095', stop_seq_range = [3, 65])"
   ]
  },
  {
   "cell_type": "code",
   "execution_count": null,
   "id": "69789d35-4848-461e-aa54-07d3a097cf7d",
   "metadata": {},
   "outputs": [],
   "source": [
    "rt_day.corridor_stop_delays >> distinct(_.route_short_name)"
   ]
  },
  {
   "cell_type": "code",
   "execution_count": null,
   "id": "3ceac66c-d2c2-4424-9fd1-96c0d173f457",
   "metadata": {},
   "outputs": [],
   "source": [
    "rt_day.corridor_metrics()"
   ]
  },
  {
   "cell_type": "code",
   "execution_count": null,
   "id": "9d7c2438-47b9-4e42-af9f-0ca78aa53623",
   "metadata": {},
   "outputs": [],
   "source": [
    "rt_day.quick_map_corridor()"
   ]
  },
  {
   "cell_type": "code",
   "execution_count": null,
   "id": "8ff205ca-d104-46cd-b83d-c9eba3a5324e",
   "metadata": {},
   "outputs": [],
   "source": [
    "# m = rt_day.segment_speed_map(how='low_speeds', no_title=False, shn=True, corridor=True)\n",
    "\n",
    "# m"
   ]
  },
  {
   "cell_type": "markdown",
   "id": "1be5a0b2-7a3a-4b97-93dc-cd28d082b1b8",
   "metadata": {},
   "source": [
    "## Part B"
   ]
  },
  {
   "cell_type": "code",
   "execution_count": null,
   "id": "f86c05ff-9d54-4feb-98ec-abac762a6116",
   "metadata": {},
   "outputs": [],
   "source": [
    "rt_day.autocorridor(shape_id = 'ECR1098', stop_seq_range = [4, 35])"
   ]
  },
  {
   "cell_type": "code",
   "execution_count": null,
   "id": "1496ca22-77c6-4d96-87bf-dcbab233f8b3",
   "metadata": {},
   "outputs": [],
   "source": [
    "rt_day.corridor_stop_delays >> distinct(_.route_short_name)"
   ]
  },
  {
   "cell_type": "code",
   "execution_count": null,
   "id": "00793631-01ce-4784-8a3c-047d51a0b4f7",
   "metadata": {},
   "outputs": [],
   "source": [
    "rt_day.corridor_metrics()"
   ]
  },
  {
   "cell_type": "code",
   "execution_count": null,
   "id": "c6d7410a-4211-4106-86a5-7572300e14d1",
   "metadata": {},
   "outputs": [],
   "source": [
    "rt_day.quick_map_corridor()"
   ]
  },
  {
   "cell_type": "code",
   "execution_count": null,
   "id": "45cd449b-ad88-47b2-811c-d4d5e0f429b5",
   "metadata": {},
   "outputs": [],
   "source": [
    "m = rt_day.segment_speed_map(how='low_speeds', no_title=False, shn=True, corridor=True)"
   ]
  },
  {
   "cell_type": "code",
   "execution_count": null,
   "id": "88cbf6f9-4ba3-49b2-b1da-75ba707b70c6",
   "metadata": {},
   "outputs": [],
   "source": [
    "m"
   ]
  },
  {
   "cell_type": "markdown",
   "id": "c776a46b-b32e-413c-a7e9-6a406835c930",
   "metadata": {},
   "source": [
    "# Foothill"
   ]
  },
  {
   "cell_type": "code",
   "execution_count": null,
   "id": "10513c0e-d957-4e0e-b2d1-9bdf032540fd",
   "metadata": {
    "tags": [
     "parameters"
    ]
   },
   "outputs": [],
   "source": [
    "## parameters cell\n",
    "itp_id = 112"
   ]
  },
  {
   "cell_type": "code",
   "execution_count": null,
   "id": "671c2b41-ef6e-450a-9bd6-e00ebcc6c95f",
   "metadata": {},
   "outputs": [],
   "source": [
    "%%capture\n",
    "rt_day = rt_filter_map_plot.from_gcs(itp_id, analysis_date)"
   ]
  },
  {
   "cell_type": "code",
   "execution_count": null,
   "id": "2f11df5d-fee7-46ed-97e6-9e67b4e9fb30",
   "metadata": {},
   "outputs": [],
   "source": [
    "%%capture_parameters\n",
    "organization_name = rt_day.organization_name\n",
    "organization_name"
   ]
  },
  {
   "cell_type": "code",
   "execution_count": null,
   "id": "5b4098b7-5231-4fb6-9adc-4fc9bd6e7562",
   "metadata": {},
   "outputs": [],
   "source": [
    "rt_day.set_filter(route_names = ['188'])"
   ]
  },
  {
   "cell_type": "code",
   "execution_count": null,
   "id": "2223497f-8f4e-45ae-af3b-c2479df859c5",
   "metadata": {},
   "outputs": [],
   "source": [
    "_m = rt_day.segment_speed_map()"
   ]
  },
  {
   "cell_type": "markdown",
   "id": "997a19a8-f5e5-4fd1-9e52-86ff8728b232",
   "metadata": {},
   "source": [
    "## Foothill Foothill Bl"
   ]
  },
  {
   "cell_type": "code",
   "execution_count": null,
   "id": "b752f818-045c-4585-8105-eb061f260532",
   "metadata": {},
   "outputs": [],
   "source": [
    "rt_day.autocorridor(shape_id = '12286_shp', stop_seq_range = [1779, 2834])"
   ]
  },
  {
   "cell_type": "code",
   "execution_count": null,
   "id": "adcd5401-b0c4-42ad-8ec7-04e1c0e08339",
   "metadata": {},
   "outputs": [],
   "source": [
    "rt_day.corridor_stop_delays >> distinct(_.route_short_name)"
   ]
  },
  {
   "cell_type": "code",
   "execution_count": null,
   "id": "b1e07b72-953a-4cd9-a771-0b5cc644f6c8",
   "metadata": {},
   "outputs": [],
   "source": [
    "rt_day.corridor_metrics()"
   ]
  },
  {
   "cell_type": "code",
   "execution_count": null,
   "id": "a4b6bfee-0c57-408b-aa86-20ac60e0d51b",
   "metadata": {},
   "outputs": [],
   "source": [
    "rt_day.quick_map_corridor()"
   ]
  },
  {
   "cell_type": "code",
   "execution_count": null,
   "id": "406ab603-fe67-4c19-9100-af6bff7fd9f0",
   "metadata": {},
   "outputs": [],
   "source": [
    "m = rt_day.segment_speed_map(how='low_speeds', no_title=False, shn=True, corridor=True)"
   ]
  },
  {
   "cell_type": "code",
   "execution_count": null,
   "id": "92cc8ac5-d8f0-47a6-9716-864399633dc9",
   "metadata": {},
   "outputs": [],
   "source": [
    "m"
   ]
  },
  {
   "cell_type": "markdown",
   "id": "3e5b02b1-529b-42de-9adc-cdb90e61cb54",
   "metadata": {},
   "source": [
    "# From Project List\n",
    "https://app.smartsheet.com/reports/4gRrr282hJ3MPVG7hcqX4XQHh2FR4GgpfW6pq5Q1?view=grid"
   ]
  },
  {
   "cell_type": "code",
   "execution_count": null,
   "id": "0f708a99-d819-4122-bf80-60b9a3e5ecdd",
   "metadata": {
    "tags": []
   },
   "outputs": [],
   "source": [
    "# shared_utils.rt_utils.show_full_df((pd.read_parquet('./_rt_progress_2023-05-17.parquet')\n",
    "#                                    >> filter(_.status == 'map_confirmed')\n",
    "#                                    )\n",
    "#                                   )"
   ]
  },
  {
   "cell_type": "code",
   "execution_count": null,
   "id": "b053e5f7-b40a-4572-9af2-24918e4ed470",
   "metadata": {},
   "outputs": [],
   "source": [
    "analysis_date = dt.date(2023, 5, 17)"
   ]
  },
  {
   "cell_type": "markdown",
   "id": "3b99a6fd-b193-4098-9f56-e6e30c42e9b6",
   "metadata": {
    "tags": []
   },
   "source": [
    "# Eureka"
   ]
  },
  {
   "cell_type": "code",
   "execution_count": null,
   "id": "c76b25ac-aa80-44b6-9f16-43808bcdf0d8",
   "metadata": {},
   "outputs": [],
   "source": [
    "import importlib\n",
    "importlib.reload(rt_filter_map_plot)"
   ]
  },
  {
   "cell_type": "code",
   "execution_count": null,
   "id": "f7330beb-543e-40a0-9005-17da0b44702f",
   "metadata": {
    "tags": [
     "parameters"
    ]
   },
   "outputs": [],
   "source": [
    "## parameters cell\n",
    "itp_id = 108"
   ]
  },
  {
   "cell_type": "code",
   "execution_count": null,
   "id": "2189f4aa-6700-47e5-a1e0-d6f8617b7360",
   "metadata": {},
   "outputs": [],
   "source": [
    "%%capture\n",
    "rt_day = rt_filter_map_plot.from_gcs(itp_id, analysis_date)"
   ]
  },
  {
   "cell_type": "code",
   "execution_count": null,
   "id": "15b9d5a9-b776-44e8-a7ca-43b7355f241c",
   "metadata": {},
   "outputs": [],
   "source": [
    "%%capture_parameters\n",
    "organization_name = rt_day.organization_name\n",
    "organization_name"
   ]
  },
  {
   "cell_type": "code",
   "execution_count": null,
   "id": "94d8f6cc-f8a7-4c57-846a-a7f5a9099bd9",
   "metadata": {},
   "outputs": [],
   "source": [
    "# rt_day.set_filter(route_names = ['188'])"
   ]
  },
  {
   "cell_type": "code",
   "execution_count": null,
   "id": "1661351a-02bf-4b06-b3f7-b678198a164e",
   "metadata": {},
   "outputs": [],
   "source": [
    "_m = rt_day.segment_speed_map()"
   ]
  },
  {
   "cell_type": "markdown",
   "id": "eb543d56-3437-41b1-894f-9cd9b83fa7c0",
   "metadata": {
    "tags": []
   },
   "source": [
    "## Eureka US101 (Broadway Truesdale - 4th per [RTP](https://www.hcaog.net/sites/default/files/vroom_2022-2042_full_report.pdf))\n",
    "\n",
    "* difficult to analyze -- need to exclude distant stops from corridor (add to algorithm?)"
   ]
  },
  {
   "cell_type": "code",
   "execution_count": null,
   "id": "7416921b-42cb-48c7-a4fd-134fd6b75e58",
   "metadata": {},
   "outputs": [],
   "source": [
    "rt_day.autocorridor(shape_id = 'p_178050', stop_seq_range = [13, 13.5],\n",
    "manual_exclude={'p_179049': {'max': 4}, 'p_179044': {'max': 4}})\n",
    "# intercity service, exclude stops distant from corridor"
   ]
  },
  {
   "cell_type": "code",
   "execution_count": null,
   "id": "7cabb7ed-017a-4f95-97ea-977a1055c42d",
   "metadata": {},
   "outputs": [],
   "source": [
    "rt_day.corridor_stop_delays >> distinct(_.route_short_name)"
   ]
  },
  {
   "cell_type": "code",
   "execution_count": null,
   "id": "be8b318e-6272-46b5-b28d-597fef8c1042",
   "metadata": {},
   "outputs": [],
   "source": [
    "rt_day.corridor_metrics()"
   ]
  },
  {
   "cell_type": "code",
   "execution_count": null,
   "id": "e133a440-2bf7-46c9-8395-2161913663ea",
   "metadata": {},
   "outputs": [],
   "source": [
    "rt_day.quick_map_corridor()"
   ]
  },
  {
   "cell_type": "code",
   "execution_count": null,
   "id": "83185f80-3f86-429d-86af-f54c22522063",
   "metadata": {},
   "outputs": [],
   "source": [
    "m = rt_day.segment_speed_map(how='low_speeds', no_title=False, shn=True, corridor=True)"
   ]
  },
  {
   "cell_type": "code",
   "execution_count": null,
   "id": "782ba9cc-866c-4cf9-b36e-1e0f969782b0",
   "metadata": {},
   "outputs": [],
   "source": [
    "m"
   ]
  },
  {
   "cell_type": "code",
   "execution_count": null,
   "id": "c65f0c31-d465-4555-aca5-0596daee0327",
   "metadata": {},
   "outputs": [],
   "source": [
    "all_corridors += [rt_day.corridor]"
   ]
  },
  {
   "cell_type": "markdown",
   "id": "a7e42150-fc2a-4a73-81bf-965ee280b667",
   "metadata": {},
   "source": [
    "# TART SR267/89 -- no data"
   ]
  },
  {
   "cell_type": "markdown",
   "id": "e33c342c-36a8-48db-8d87-7e41a98b72b1",
   "metadata": {},
   "source": [
    "# Tahoe Transportation District US50\n",
    "\n",
    "* limited data geographic extent"
   ]
  },
  {
   "cell_type": "code",
   "execution_count": null,
   "id": "905e1c6b-7236-43ec-99e1-d232ecd19d7c",
   "metadata": {
    "tags": [
     "parameters"
    ]
   },
   "outputs": [],
   "source": [
    "## parameters cell\n",
    "itp_id = 331"
   ]
  },
  {
   "cell_type": "code",
   "execution_count": null,
   "id": "f5066302-4d17-45bd-bb7d-65d5dfab2d84",
   "metadata": {},
   "outputs": [],
   "source": [
    "%%capture\n",
    "rt_day = rt_filter_map_plot.from_gcs(itp_id, analysis_date)"
   ]
  },
  {
   "cell_type": "code",
   "execution_count": null,
   "id": "80e91697-add5-4f2d-8456-43ee531436bb",
   "metadata": {},
   "outputs": [],
   "source": [
    "%%capture_parameters\n",
    "organization_name = rt_day.organization_name\n",
    "organization_name"
   ]
  },
  {
   "cell_type": "code",
   "execution_count": null,
   "id": "732deb97-958e-4d47-a920-1c47f319fa92",
   "metadata": {},
   "outputs": [],
   "source": [
    "_m = rt_day.segment_speed_map()"
   ]
  },
  {
   "cell_type": "code",
   "execution_count": null,
   "id": "ffd8cbea-f69e-46ea-85b3-4f5841d25546",
   "metadata": {},
   "outputs": [],
   "source": [
    "rt_day.autocorridor(shape_id = 'p_497358', stop_seq_range = [0, 20])"
   ]
  },
  {
   "cell_type": "code",
   "execution_count": null,
   "id": "fbffabbe-c1f2-4e7c-a8f2-b4643bdfcbab",
   "metadata": {},
   "outputs": [],
   "source": [
    "rt_day.corridor_stop_delays >> distinct(_.route_short_name)"
   ]
  },
  {
   "cell_type": "code",
   "execution_count": null,
   "id": "2447e950-929b-4416-9b3a-00e57e118f63",
   "metadata": {},
   "outputs": [],
   "source": [
    "rt_day.corridor_metrics()"
   ]
  },
  {
   "cell_type": "code",
   "execution_count": null,
   "id": "e10de605-9565-4e02-b6d9-eaf7160b014c",
   "metadata": {},
   "outputs": [],
   "source": [
    "rt_day.quick_map_corridor()"
   ]
  },
  {
   "cell_type": "code",
   "execution_count": null,
   "id": "088f48fb-6c85-4b58-af95-ac9c165b5745",
   "metadata": {},
   "outputs": [],
   "source": [
    "m = rt_day.segment_speed_map(how='low_speeds', no_title=False, shn=True, corridor=True)"
   ]
  },
  {
   "cell_type": "code",
   "execution_count": null,
   "id": "c52e5779-a0af-4df6-be19-5e166deeef33",
   "metadata": {},
   "outputs": [],
   "source": [
    "m"
   ]
  },
  {
   "cell_type": "code",
   "execution_count": null,
   "id": "fa125480-de9b-4d4c-8567-23b6ba08ea90",
   "metadata": {},
   "outputs": [],
   "source": [
    "all_corridors += [rt_day.corridor]"
   ]
  },
  {
   "cell_type": "markdown",
   "id": "18e3e499-8be9-4e50-a56e-c3eefd180e69",
   "metadata": {},
   "source": [
    "# Fresno -- unable eval (new services)"
   ]
  },
  {
   "cell_type": "code",
   "execution_count": null,
   "id": "74fca5ce-63f8-4042-8acc-edc9eaa8db08",
   "metadata": {},
   "outputs": [],
   "source": []
  },
  {
   "cell_type": "markdown",
   "id": "31dbda93-21df-4319-a2f8-50862dc0f7fa",
   "metadata": {
    "jp-MarkdownHeadingCollapsed": true,
    "tags": []
   },
   "source": [
    "# VCTC (SR126 Fillmore - Ventura)\n",
    "\n",
    "* minimal thru running delay on available data..."
   ]
  },
  {
   "cell_type": "code",
   "execution_count": null,
   "id": "218e05de-c371-4792-a7c3-b56767335c92",
   "metadata": {
    "tags": [
     "parameters"
    ]
   },
   "outputs": [],
   "source": [
    "## parameters cell\n",
    "itp_id = 380"
   ]
  },
  {
   "cell_type": "code",
   "execution_count": null,
   "id": "54c8dbdb-c82d-496d-af25-58a7eeb867e4",
   "metadata": {},
   "outputs": [],
   "source": [
    "analysis_date = dt.date(2023, 4, 12)"
   ]
  },
  {
   "cell_type": "code",
   "execution_count": null,
   "id": "91759504-a1d1-48fa-a355-4aefcbd459f4",
   "metadata": {},
   "outputs": [],
   "source": [
    "%%capture\n",
    "rt_day = rt_filter_map_plot.from_gcs(itp_id, analysis_date)"
   ]
  },
  {
   "cell_type": "code",
   "execution_count": null,
   "id": "9b13a1aa-cd59-4073-abdb-6c1b7c728861",
   "metadata": {},
   "outputs": [],
   "source": [
    "%%capture_parameters\n",
    "organization_name = rt_day.organization_name\n",
    "organization_name"
   ]
  },
  {
   "cell_type": "code",
   "execution_count": null,
   "id": "1ff941fa-f957-4fc8-91be-d47ea3320bf6",
   "metadata": {},
   "outputs": [],
   "source": [
    "_m = rt_day.segment_speed_map()"
   ]
  },
  {
   "cell_type": "code",
   "execution_count": null,
   "id": "f705cde4-ab71-4ff9-b8c2-b6fbf4fde6cc",
   "metadata": {},
   "outputs": [],
   "source": [
    "_m"
   ]
  },
  {
   "cell_type": "markdown",
   "id": "2a06598a-c0b6-4ddb-954c-96a3a989072b",
   "metadata": {
    "tags": []
   },
   "source": [
    "# LA Metro Projects\n",
    "\n",
    "* NoHo-Pas BRT to only briefly use SR134, light delay\n",
    "* As per sheet, NSFV improvements only intersect SHN\n",
    "* Inglewood connector, Arbor Vitae not on SHN...\n",
    "* Games Route Network, etc unable to analyze"
   ]
  },
  {
   "cell_type": "code",
   "execution_count": null,
   "id": "0d6e81ac-7fe7-40ba-8127-4ed9502c48bd",
   "metadata": {
    "tags": [
     "parameters"
    ]
   },
   "outputs": [],
   "source": [
    "## parameters cell\n",
    "itp_id = 331"
   ]
  },
  {
   "cell_type": "code",
   "execution_count": null,
   "id": "5b991300-ff3d-4bc4-aea5-11f54240d9f3",
   "metadata": {},
   "outputs": [],
   "source": [
    "%%capture\n",
    "rt_day = rt_filter_map_plot.from_gcs(itp_id, analysis_date)"
   ]
  },
  {
   "cell_type": "code",
   "execution_count": null,
   "id": "c91fb1e6-52a3-4ecc-b74e-247d65c3325c",
   "metadata": {},
   "outputs": [],
   "source": [
    "%%capture_parameters\n",
    "organization_name = rt_day.organization_name\n",
    "organization_name"
   ]
  },
  {
   "cell_type": "code",
   "execution_count": null,
   "id": "1858dc3a-945f-40a9-a50a-2ba11b975414",
   "metadata": {},
   "outputs": [],
   "source": [
    "_m = rt_day.segment_speed_map()"
   ]
  },
  {
   "cell_type": "code",
   "execution_count": null,
   "id": "d6823854-162f-4cb3-9fbc-5941b7cc4fde",
   "metadata": {},
   "outputs": [],
   "source": [
    "rt_day.autocorridor(shape_id = 'p_497358', stop_seq_range = [0, 20])"
   ]
  },
  {
   "cell_type": "code",
   "execution_count": null,
   "id": "a3d2f3d4-2db1-46ec-8888-8cbf99a6c50c",
   "metadata": {},
   "outputs": [],
   "source": [
    "rt_day.corridor_stop_delays >> distinct(_.route_short_name)"
   ]
  },
  {
   "cell_type": "code",
   "execution_count": null,
   "id": "92879332-6e38-4ce7-b196-e471c90b8f5b",
   "metadata": {},
   "outputs": [],
   "source": [
    "rt_day.corridor_metrics()"
   ]
  },
  {
   "cell_type": "code",
   "execution_count": null,
   "id": "809a823f-d0d9-426b-ab7e-37cdd2bc7a4d",
   "metadata": {},
   "outputs": [],
   "source": [
    "rt_day.quick_map_corridor()"
   ]
  },
  {
   "cell_type": "code",
   "execution_count": null,
   "id": "1902d658-cfad-4951-b139-2a7242c88e97",
   "metadata": {},
   "outputs": [],
   "source": [
    "m = rt_day.segment_speed_map(how='low_speeds', no_title=False, shn=True, corridor=True)"
   ]
  },
  {
   "cell_type": "code",
   "execution_count": null,
   "id": "02d17c09-1ecb-460d-9caf-050de4183da9",
   "metadata": {},
   "outputs": [],
   "source": [
    "m"
   ]
  },
  {
   "cell_type": "markdown",
   "id": "6089133c-1d91-4965-9bfb-20269928511c",
   "metadata": {},
   "source": [
    "# Victor Valley\n",
    "\n",
    "* service runs, difficult to evaluate\n",
    "* 0.5/hour, limited span"
   ]
  },
  {
   "cell_type": "markdown",
   "id": "71e0341a-f722-4aef-afdb-c2e1ec15ee39",
   "metadata": {},
   "source": [
    "# Others\n",
    "\n",
    "* OCTA speculative, new services unable to eval"
   ]
  },
  {
   "cell_type": "markdown",
   "id": "b3900a52-45b5-4dd8-85f8-93830d4a0904",
   "metadata": {},
   "source": [
    "# OCTA SR39\n",
    "\n",
    "* multiple SHN sections, eval longest\n",
    "* about 5 trips/hour combined!"
   ]
  },
  {
   "cell_type": "code",
   "execution_count": null,
   "id": "005ea2f3-c8a8-4f76-9f81-9362726c7ba6",
   "metadata": {
    "tags": [
     "parameters"
    ]
   },
   "outputs": [],
   "source": [
    "## parameters cell\n",
    "itp_id = 235"
   ]
  },
  {
   "cell_type": "code",
   "execution_count": null,
   "id": "e97e5812-fa2c-492a-a051-1ae1d27ad154",
   "metadata": {},
   "outputs": [],
   "source": [
    "%%capture\n",
    "rt_day = rt_filter_map_plot.from_gcs(itp_id, analysis_date)"
   ]
  },
  {
   "cell_type": "code",
   "execution_count": null,
   "id": "650ddf4f-8e18-432b-9705-0d5b47548471",
   "metadata": {},
   "outputs": [],
   "source": [
    "%%capture_parameters\n",
    "organization_name = rt_day.organization_name\n",
    "organization_name"
   ]
  },
  {
   "cell_type": "code",
   "execution_count": null,
   "id": "40533ff5-5f14-48c7-bb87-95441ba6ed83",
   "metadata": {},
   "outputs": [],
   "source": [
    "_m = rt_day.segment_speed_map()"
   ]
  },
  {
   "cell_type": "code",
   "execution_count": null,
   "id": "186d49c5-dfdd-4975-90ca-e5aad861064a",
   "metadata": {},
   "outputs": [],
   "source": [
    "rt_day.autocorridor(shape_id = '2902', stop_seq_range = [5, 51])"
   ]
  },
  {
   "cell_type": "code",
   "execution_count": null,
   "id": "d9672f0f-5516-4abd-aff8-8add9460d677",
   "metadata": {},
   "outputs": [],
   "source": [
    "rt_day.corridor_stop_delays >> distinct(_.route_short_name)"
   ]
  },
  {
   "cell_type": "code",
   "execution_count": null,
   "id": "d48f18f9-c38f-4bcb-8531-8ebbd94a6e11",
   "metadata": {},
   "outputs": [],
   "source": [
    "rt_day.corridor_metrics()"
   ]
  },
  {
   "cell_type": "code",
   "execution_count": null,
   "id": "4289d0f7-f33f-4db4-a665-c1bb66f48a73",
   "metadata": {},
   "outputs": [],
   "source": [
    "rt_day.quick_map_corridor()"
   ]
  },
  {
   "cell_type": "code",
   "execution_count": null,
   "id": "73bdd5d5-e7c8-45f6-9c9b-c2b3b565feeb",
   "metadata": {},
   "outputs": [],
   "source": [
    "m = rt_day.segment_speed_map(how='low_speeds', no_title=False, shn=True, corridor=True)"
   ]
  },
  {
   "cell_type": "code",
   "execution_count": null,
   "id": "e5ab48bf-68bd-43a9-902e-8ed1713c022e",
   "metadata": {},
   "outputs": [],
   "source": [
    "m"
   ]
  },
  {
   "cell_type": "code",
   "execution_count": null,
   "id": "854eb7c9-b17b-4760-a60c-61e40183dfda",
   "metadata": {},
   "outputs": [],
   "source": [
    "all_corridors += [rt_day.corridor]"
   ]
  },
  {
   "cell_type": "code",
   "execution_count": null,
   "id": "c67c5765-7657-447d-8629-35cd37ab6c67",
   "metadata": {},
   "outputs": [],
   "source": []
  }
 ],
 "metadata": {
  "kernelspec": {
   "display_name": "Python 3 (ipykernel)",
   "language": "python",
   "name": "python3"
  },
  "language_info": {
   "codemirror_mode": {
    "name": "ipython",
    "version": 3
   },
   "file_extension": ".py",
   "mimetype": "text/x-python",
   "name": "python",
   "nbconvert_exporter": "python",
   "pygments_lexer": "ipython3",
   "version": "3.9.13"
  },
  "widgets": {
   "application/vnd.jupyter.widget-state+json": {
    "state": {},
    "version_major": 2,
    "version_minor": 0
   }
  }
 },
 "nbformat": 4,
 "nbformat_minor": 5
}
