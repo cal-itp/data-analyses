{
 "cells": [
  {
   "cell_type": "code",
   "execution_count": 1,
   "id": "46898b5c-b5cc-4096-ab68-8c3e42fab870",
   "metadata": {},
   "outputs": [],
   "source": [
    "%%capture\n",
    "import warnings\n",
    "warnings.filterwarnings('ignore')\n",
    "\n",
    "import os\n",
    "os.environ[\"CALITP_BQ_MAX_BYTES\"] = str(800_000_000_000)\n",
    "import shared_utils\n",
    "\n",
    "from calitp_data_analysis.tables import tbls\n",
    "import calitp_data_analysis.magics\n",
    "\n",
    "from siuba import *\n",
    "import pandas as pd\n",
    "import geopandas as gpd\n",
    "\n",
    "import datetime as dt\n",
    "\n",
    "import importlib\n",
    "from rt_analysis import rt_filter_map_plot\n",
    "# import build_speedmaps_index\n",
    "\n",
    "from IPython.display import display, Markdown, Latex, HTML\n",
    "import json"
   ]
  },
  {
   "cell_type": "code",
   "execution_count": 2,
   "id": "a639fd84-29ca-4678-b568-2b1022701e14",
   "metadata": {},
   "outputs": [],
   "source": [
    "analysis_date = dt.date(2023, 5, 17)"
   ]
  },
  {
   "cell_type": "code",
   "execution_count": 3,
   "id": "47c79d99-c82f-4e1e-b11e-2b1e83c13a1b",
   "metadata": {},
   "outputs": [
    {
     "name": "stdout",
     "output_type": "stream",
     "text": [
      "{\"human_date\": \"May 17 2023 (Wednesday)\"}\n"
     ]
    }
   ],
   "source": [
    "%%capture_parameters\n",
    "human_date = analysis_date.strftime('%B %d %Y (%A)')\n",
    "human_date"
   ]
  },
  {
   "cell_type": "code",
   "execution_count": 4,
   "id": "8352dcfe-9c50-46ee-9f80-3b912440968e",
   "metadata": {},
   "outputs": [],
   "source": [
    "from tqdm.notebook import tqdm"
   ]
  },
  {
   "cell_type": "markdown",
   "id": "8049ab71-3913-4d57-999d-95b56ec72387",
   "metadata": {},
   "source": [
    "# Frequent SHN Routes\n",
    "\n",
    "* quickly look for frequent transit routes using the State Highway Network\n",
    "* also evaluate applicable district-sourced ideas\n",
    "\n",
    "### CT Links:\n",
    "\n",
    "https://app.smartsheet.com/folders/whC3J79cMJCf3MqQ7MGv8pxHgQ3JQ68VwGQGwX21\n",
    "\n",
    "https://caltrans-my.sharepoint.com/:p:/g/personal/audrey_ogden_dot_ca_gov/EZbU16vBqYZHvrORsT-LzwsBBxJCZqfUPaKHmm5uqWmn_Q?e=4%3A4Ijf9v&CID=80D7A50B-5D1F-497F-8C92-9435B5782132&wdLOR=c3E29B53E-4F87-436E-BEDA-3F4281A53835\n"
   ]
  },
  {
   "cell_type": "markdown",
   "id": "cf310c07-b4e3-4d66-a1c7-b58eb94b1f7a",
   "metadata": {},
   "source": [
    "## pbar"
   ]
  },
  {
   "cell_type": "code",
   "execution_count": 5,
   "id": "1f76e269-5dd6-40b8-b36f-4fd83ad32478",
   "metadata": {},
   "outputs": [
    {
     "data": {
      "application/vnd.jupyter.widget-view+json": {
       "model_id": "156715ae62474dddbf9856f343c333f3",
       "version_major": 2,
       "version_minor": 0
      },
      "text/plain": [
       "0it [00:00, ?it/s]"
      ]
     },
     "metadata": {},
     "output_type": "display_data"
    }
   ],
   "source": [
    "pbar = tqdm()"
   ]
  },
  {
   "cell_type": "markdown",
   "id": "52110155-d104-4043-8376-3f83e82a959a",
   "metadata": {},
   "source": [
    "# SFMTA"
   ]
  },
  {
   "cell_type": "code",
   "execution_count": 6,
   "id": "9f15ed6a-5ab7-4f57-9695-3f762781b74c",
   "metadata": {
    "tags": [
     "parameters"
    ]
   },
   "outputs": [],
   "source": [
    "## parameters cell\n",
    "itp_id = 282"
   ]
  },
  {
   "cell_type": "code",
   "execution_count": 7,
   "id": "e4cbefc6-9bbb-4989-85b7-1f31da17fcb8",
   "metadata": {},
   "outputs": [],
   "source": [
    "%%capture\n",
    "rt_day = rt_filter_map_plot.from_gcs(itp_id, analysis_date, pbar)"
   ]
  },
  {
   "cell_type": "code",
   "execution_count": 8,
   "id": "6c335d40-7a7b-4641-8a3d-c970b2823cdf",
   "metadata": {},
   "outputs": [
    {
     "name": "stdout",
     "output_type": "stream",
     "text": [
      "{\"organization_name\": \"City and County of San Francisco\"}\n"
     ]
    }
   ],
   "source": [
    "%%capture_parameters\n",
    "organization_name = rt_day.organization_name\n",
    "organization_name"
   ]
  },
  {
   "cell_type": "code",
   "execution_count": 9,
   "id": "5e2b6890-c4a6-4682-b0f5-9eb6373f431a",
   "metadata": {},
   "outputs": [],
   "source": [
    "rt_day.set_filter(route_names = ['43', '28', '29'])"
   ]
  },
  {
   "cell_type": "code",
   "execution_count": null,
   "id": "864748d4-9187-4b85-b4a6-99f65e893dfd",
   "metadata": {},
   "outputs": [],
   "source": [
    "_m = rt_day.segment_speed_map()"
   ]
  },
  {
   "cell_type": "markdown",
   "id": "dc703f61-41d3-46bd-b3cf-986689a1bb91",
   "metadata": {},
   "source": [
    "## Muni Lombard"
   ]
  },
  {
   "cell_type": "code",
   "execution_count": null,
   "id": "3d268204-d179-4c72-b27b-5002a3d99f08",
   "metadata": {},
   "outputs": [],
   "source": [
    "rt_day.autocorridor(shape_id = '2856', stop_seq_range = [27, 32])"
   ]
  },
  {
   "cell_type": "code",
   "execution_count": null,
   "id": "ea3579c6-ec03-4572-9f5c-dad85807bfb2",
   "metadata": {},
   "outputs": [],
   "source": [
    "rt_day.corridor_stop_delays >> distinct(_.route_short_name)"
   ]
  },
  {
   "cell_type": "code",
   "execution_count": null,
   "id": "5831283d-385c-484a-9fa0-2a02f6f90e14",
   "metadata": {},
   "outputs": [],
   "source": [
    "rt_day.corridor_metrics()"
   ]
  },
  {
   "cell_type": "code",
   "execution_count": null,
   "id": "81055e2d-3a87-4912-b652-82eebe3235d4",
   "metadata": {
    "tags": []
   },
   "outputs": [],
   "source": [
    "rt_day.quick_map_corridor()"
   ]
  },
  {
   "cell_type": "code",
   "execution_count": null,
   "id": "c2bb4fa2-616b-43ec-9a3e-ac84576ff1a8",
   "metadata": {
    "tags": []
   },
   "outputs": [],
   "source": [
    "# m = rt_day.segment_speed_map(how='low_speeds', no_title=False, shn=True, corridor=True)\n",
    "# m"
   ]
  },
  {
   "cell_type": "code",
   "execution_count": null,
   "id": "30c329fb-776b-4ced-a4cb-9c46d3d78309",
   "metadata": {},
   "outputs": [],
   "source": [
    "all_corridors = []"
   ]
  },
  {
   "cell_type": "code",
   "execution_count": null,
   "id": "84472c45-e014-4577-bd70-8052dd3445ca",
   "metadata": {},
   "outputs": [],
   "source": [
    "all_corridors += [rt_day.corridor]"
   ]
  },
  {
   "cell_type": "markdown",
   "id": "72a92fed-fb60-4ede-8494-d59a806bbd63",
   "metadata": {
    "tags": []
   },
   "source": [
    "## Muni 19th A (add, check if B worth it)"
   ]
  },
  {
   "cell_type": "code",
   "execution_count": 15,
   "id": "51c88fe2-9a12-4b21-a2a1-e5d332b4ad03",
   "metadata": {},
   "outputs": [],
   "source": [
    "rt_day.autocorridor(shape_id = '2808', stop_seq_range = [21, 32])"
   ]
  },
  {
   "cell_type": "code",
   "execution_count": 16,
   "id": "9ad1e958-e674-4187-a3f6-a2ba1ab99b1d",
   "metadata": {},
   "outputs": [],
   "source": [
    "# rt_day.corridor_stop_delays >> distinct(_.route_short_name)"
   ]
  },
  {
   "cell_type": "code",
   "execution_count": 17,
   "id": "767fb8df-107d-4f06-ad64-8aaed2c72f30",
   "metadata": {},
   "outputs": [
    {
     "name": "stdout",
     "output_type": "stream",
     "text": [
      "metrics attached to self.corridor: \n"
     ]
    },
    {
     "data": {
      "text/html": [
       "<div>\n",
       "<style scoped>\n",
       "    .dataframe tbody tr th:only-of-type {\n",
       "        vertical-align: middle;\n",
       "    }\n",
       "\n",
       "    .dataframe tbody tr th {\n",
       "        vertical-align: top;\n",
       "    }\n",
       "\n",
       "    .dataframe thead th {\n",
       "        text-align: right;\n",
       "    }\n",
       "</style>\n",
       "<table border=\"1\" class=\"dataframe\">\n",
       "  <thead>\n",
       "    <tr style=\"text-align: right;\">\n",
       "      <th></th>\n",
       "      <th>route_id</th>\n",
       "      <th>route_short_name</th>\n",
       "      <th>organization</th>\n",
       "      <th>p20_corr_mph</th>\n",
       "      <th>speed_delay_minutes</th>\n",
       "      <th>total_speed_delay</th>\n",
       "      <th>p50_runtime_minutes</th>\n",
       "      <th>n_trips</th>\n",
       "      <th>span_hours</th>\n",
       "      <th>daily_avg_trips_hr</th>\n",
       "      <th>trips_added</th>\n",
       "      <th>new_avg_trips_hr</th>\n",
       "      <th>geometry</th>\n",
       "    </tr>\n",
       "  </thead>\n",
       "  <tbody>\n",
       "    <tr>\n",
       "      <th>0</th>\n",
       "      <td>28</td>\n",
       "      <td>28</td>\n",
       "      <td>City and County of San Francisco</td>\n",
       "      <td>9.6</td>\n",
       "      <td>1061.7</td>\n",
       "      <td>1347.9</td>\n",
       "      <td>56.4</td>\n",
       "      <td>159</td>\n",
       "      <td>14.9</td>\n",
       "      <td>5.3</td>\n",
       "      <td>18.8</td>\n",
       "      <td>6.0</td>\n",
       "      <td>POLYGON ((-217949.193 -26918.889, -217955.214 ...</td>\n",
       "    </tr>\n",
       "    <tr>\n",
       "      <th>1</th>\n",
       "      <td>29</td>\n",
       "      <td>29</td>\n",
       "      <td>City and County of San Francisco</td>\n",
       "      <td>8.7</td>\n",
       "      <td>286.2</td>\n",
       "      <td>1347.9</td>\n",
       "      <td>70.7</td>\n",
       "      <td>180</td>\n",
       "      <td>15.0</td>\n",
       "      <td>6.0</td>\n",
       "      <td>4.0</td>\n",
       "      <td>6.1</td>\n",
       "      <td>POLYGON ((-217949.193 -26918.889, -217955.214 ...</td>\n",
       "    </tr>\n",
       "  </tbody>\n",
       "</table>\n",
       "</div>"
      ],
      "text/plain": [
       "  route_id route_short_name                      organization  p20_corr_mph  \\\n",
       "0       28               28  City and County of San Francisco           9.6   \n",
       "1       29               29  City and County of San Francisco           8.7   \n",
       "\n",
       "   speed_delay_minutes  total_speed_delay  p50_runtime_minutes  n_trips  \\\n",
       "0               1061.7             1347.9                 56.4      159   \n",
       "1                286.2             1347.9                 70.7      180   \n",
       "\n",
       "   span_hours  daily_avg_trips_hr  trips_added  new_avg_trips_hr  \\\n",
       "0        14.9                 5.3         18.8               6.0   \n",
       "1        15.0                 6.0          4.0               6.1   \n",
       "\n",
       "                                            geometry  \n",
       "0  POLYGON ((-217949.193 -26918.889, -217955.214 ...  \n",
       "1  POLYGON ((-217949.193 -26918.889, -217955.214 ...  "
      ]
     },
     "execution_count": 17,
     "metadata": {},
     "output_type": "execute_result"
    }
   ],
   "source": [
    "rt_day.corridor_metrics()"
   ]
  },
  {
   "cell_type": "code",
   "execution_count": 18,
   "id": "e97fc987-4842-46c3-ace3-8604722969d8",
   "metadata": {},
   "outputs": [
    {
     "data": {
      "text/html": [
       "<div style=\"width:100%;\"><div style=\"position:relative;width:100%;height:0;padding-bottom:60%;\"><span style=\"color:#565656\">Make this Notebook Trusted to load map: File -> Trust Notebook</span><iframe src=\"about:blank\" style=\"position:absolute;width:100%;height:100%;left:0;top:0;border:none !important;\" data-html=%3C%21DOCTYPE%20html%3E%0A%3Chead%3E%20%20%20%20%0A%20%20%20%20%3Cmeta%20http-equiv%3D%22content-type%22%20content%3D%22text/html%3B%20charset%3DUTF-8%22%20/%3E%0A%20%20%20%20%0A%20%20%20%20%20%20%20%20%3Cscript%3E%0A%20%20%20%20%20%20%20%20%20%20%20%20L_NO_TOUCH%20%3D%20false%3B%0A%20%20%20%20%20%20%20%20%20%20%20%20L_DISABLE_3D%20%3D%20false%3B%0A%20%20%20%20%20%20%20%20%3C/script%3E%0A%20%20%20%20%0A%20%20%20%20%3Cstyle%3Ehtml%2C%20body%20%7Bwidth%3A%20100%25%3Bheight%3A%20100%25%3Bmargin%3A%200%3Bpadding%3A%200%3B%7D%3C/style%3E%0A%20%20%20%20%3Cstyle%3E%23map%20%7Bposition%3Aabsolute%3Btop%3A0%3Bbottom%3A0%3Bright%3A0%3Bleft%3A0%3B%7D%3C/style%3E%0A%20%20%20%20%3Cscript%20src%3D%22https%3A//cdn.jsdelivr.net/npm/leaflet%401.6.0/dist/leaflet.js%22%3E%3C/script%3E%0A%20%20%20%20%3Cscript%20src%3D%22https%3A//code.jquery.com/jquery-1.12.4.min.js%22%3E%3C/script%3E%0A%20%20%20%20%3Cscript%20src%3D%22https%3A//maxcdn.bootstrapcdn.com/bootstrap/3.2.0/js/bootstrap.min.js%22%3E%3C/script%3E%0A%20%20%20%20%3Cscript%20src%3D%22https%3A//cdnjs.cloudflare.com/ajax/libs/Leaflet.awesome-markers/2.0.2/leaflet.awesome-markers.js%22%3E%3C/script%3E%0A%20%20%20%20%3Clink%20rel%3D%22stylesheet%22%20href%3D%22https%3A//cdn.jsdelivr.net/npm/leaflet%401.6.0/dist/leaflet.css%22/%3E%0A%20%20%20%20%3Clink%20rel%3D%22stylesheet%22%20href%3D%22https%3A//maxcdn.bootstrapcdn.com/bootstrap/3.2.0/css/bootstrap.min.css%22/%3E%0A%20%20%20%20%3Clink%20rel%3D%22stylesheet%22%20href%3D%22https%3A//maxcdn.bootstrapcdn.com/bootstrap/3.2.0/css/bootstrap-theme.min.css%22/%3E%0A%20%20%20%20%3Clink%20rel%3D%22stylesheet%22%20href%3D%22https%3A//maxcdn.bootstrapcdn.com/font-awesome/4.6.3/css/font-awesome.min.css%22/%3E%0A%20%20%20%20%3Clink%20rel%3D%22stylesheet%22%20href%3D%22https%3A//cdnjs.cloudflare.com/ajax/libs/Leaflet.awesome-markers/2.0.2/leaflet.awesome-markers.css%22/%3E%0A%20%20%20%20%3Clink%20rel%3D%22stylesheet%22%20href%3D%22https%3A//cdn.jsdelivr.net/gh/python-visualization/folium/folium/templates/leaflet.awesome.rotate.min.css%22/%3E%0A%20%20%20%20%0A%20%20%20%20%20%20%20%20%20%20%20%20%3Cmeta%20name%3D%22viewport%22%20content%3D%22width%3Ddevice-width%2C%0A%20%20%20%20%20%20%20%20%20%20%20%20%20%20%20%20initial-scale%3D1.0%2C%20maximum-scale%3D1.0%2C%20user-scalable%3Dno%22%20/%3E%0A%20%20%20%20%20%20%20%20%20%20%20%20%3Cstyle%3E%0A%20%20%20%20%20%20%20%20%20%20%20%20%20%20%20%20%23map_d54216a0fc734ded8a42a1f3171c1325%20%7B%0A%20%20%20%20%20%20%20%20%20%20%20%20%20%20%20%20%20%20%20%20position%3A%20relative%3B%0A%20%20%20%20%20%20%20%20%20%20%20%20%20%20%20%20%20%20%20%20width%3A%20100.0%25%3B%0A%20%20%20%20%20%20%20%20%20%20%20%20%20%20%20%20%20%20%20%20height%3A%20100.0%25%3B%0A%20%20%20%20%20%20%20%20%20%20%20%20%20%20%20%20%20%20%20%20left%3A%200.0%25%3B%0A%20%20%20%20%20%20%20%20%20%20%20%20%20%20%20%20%20%20%20%20top%3A%200.0%25%3B%0A%20%20%20%20%20%20%20%20%20%20%20%20%20%20%20%20%7D%0A%20%20%20%20%20%20%20%20%20%20%20%20%3C/style%3E%0A%20%20%20%20%20%20%20%20%0A%20%20%20%20%0A%20%20%20%20%20%20%20%20%20%20%20%20%20%20%20%20%20%20%20%20%3Cstyle%3E%0A%20%20%20%20%20%20%20%20%20%20%20%20%20%20%20%20%20%20%20%20%20%20%20%20.foliumtooltip%20%7B%0A%20%20%20%20%20%20%20%20%20%20%20%20%20%20%20%20%20%20%20%20%20%20%20%20%20%20%20%20%0A%20%20%20%20%20%20%20%20%20%20%20%20%20%20%20%20%20%20%20%20%20%20%20%20%7D%0A%20%20%20%20%20%20%20%20%20%20%20%20%20%20%20%20%20%20%20%20%20%20%20.foliumtooltip%20table%7B%0A%20%20%20%20%20%20%20%20%20%20%20%20%20%20%20%20%20%20%20%20%20%20%20%20%20%20%20%20margin%3A%20auto%3B%0A%20%20%20%20%20%20%20%20%20%20%20%20%20%20%20%20%20%20%20%20%20%20%20%20%7D%0A%20%20%20%20%20%20%20%20%20%20%20%20%20%20%20%20%20%20%20%20%20%20%20%20.foliumtooltip%20tr%7B%0A%20%20%20%20%20%20%20%20%20%20%20%20%20%20%20%20%20%20%20%20%20%20%20%20%20%20%20%20text-align%3A%20left%3B%0A%20%20%20%20%20%20%20%20%20%20%20%20%20%20%20%20%20%20%20%20%20%20%20%20%7D%0A%20%20%20%20%20%20%20%20%20%20%20%20%20%20%20%20%20%20%20%20%20%20%20%20.foliumtooltip%20th%7B%0A%20%20%20%20%20%20%20%20%20%20%20%20%20%20%20%20%20%20%20%20%20%20%20%20%20%20%20%20padding%3A%202px%3B%20padding-right%3A%208px%3B%0A%20%20%20%20%20%20%20%20%20%20%20%20%20%20%20%20%20%20%20%20%20%20%20%20%7D%0A%20%20%20%20%20%20%20%20%20%20%20%20%20%20%20%20%20%20%20%20%3C/style%3E%0A%20%20%20%20%20%20%20%20%20%20%20%20%0A%3C/head%3E%0A%3Cbody%3E%20%20%20%20%0A%20%20%20%20%0A%20%20%20%20%20%20%20%20%20%20%20%20%3Cdiv%20class%3D%22folium-map%22%20id%3D%22map_d54216a0fc734ded8a42a1f3171c1325%22%20%3E%3C/div%3E%0A%20%20%20%20%20%20%20%20%0A%3C/body%3E%0A%3Cscript%3E%20%20%20%20%0A%20%20%20%20%0A%20%20%20%20%20%20%20%20%20%20%20%20var%20map_d54216a0fc734ded8a42a1f3171c1325%20%3D%20L.map%28%0A%20%20%20%20%20%20%20%20%20%20%20%20%20%20%20%20%22map_d54216a0fc734ded8a42a1f3171c1325%22%2C%0A%20%20%20%20%20%20%20%20%20%20%20%20%20%20%20%20%7B%0A%20%20%20%20%20%20%20%20%20%20%20%20%20%20%20%20%20%20%20%20center%3A%20%5B37.752215%2C%20-122.47746380437057%5D%2C%0A%20%20%20%20%20%20%20%20%20%20%20%20%20%20%20%20%20%20%20%20crs%3A%20L.CRS.EPSG3857%2C%0A%20%20%20%20%20%20%20%20%20%20%20%20%20%20%20%20%20%20%20%20zoom%3A%2010%2C%0A%20%20%20%20%20%20%20%20%20%20%20%20%20%20%20%20%20%20%20%20zoomControl%3A%20true%2C%0A%20%20%20%20%20%20%20%20%20%20%20%20%20%20%20%20%20%20%20%20preferCanvas%3A%20false%2C%0A%20%20%20%20%20%20%20%20%20%20%20%20%20%20%20%20%7D%0A%20%20%20%20%20%20%20%20%20%20%20%20%29%3B%0A%20%20%20%20%20%20%20%20%20%20%20%20L.control.scale%28%29.addTo%28map_d54216a0fc734ded8a42a1f3171c1325%29%3B%0A%0A%20%20%20%20%20%20%20%20%20%20%20%20%0A%0A%20%20%20%20%20%20%20%20%0A%20%20%20%20%0A%20%20%20%20%20%20%20%20%20%20%20%20var%20tile_layer_9b31d74caa704019af8d801f692462c2%20%3D%20L.tileLayer%28%0A%20%20%20%20%20%20%20%20%20%20%20%20%20%20%20%20%22https%3A//a.basemaps.cartocdn.com/light_all/%7Bz%7D/%7Bx%7D/%7By%7D%7Br%7D.png%22%2C%0A%20%20%20%20%20%20%20%20%20%20%20%20%20%20%20%20%7B%22attribution%22%3A%20%22%5Cu0026copy%3B%20%5Cu003ca%20href%3D%5C%22https%3A//www.openstreetmap.org/copyright%5C%22%5Cu003eOpenStreetMap%5Cu003c/a%5Cu003e%20contributors%20%5Cu0026copy%3B%20%5Cu003ca%20href%3D%5C%22https%3A//carto.com/attributions%5C%22%5Cu003eCARTO%5Cu003c/a%5Cu003e%22%2C%20%22detectRetina%22%3A%20false%2C%20%22maxNativeZoom%22%3A%2020%2C%20%22maxZoom%22%3A%2020%2C%20%22minZoom%22%3A%200%2C%20%22noWrap%22%3A%20false%2C%20%22opacity%22%3A%201%2C%20%22subdomains%22%3A%20%22abc%22%2C%20%22tms%22%3A%20false%7D%0A%20%20%20%20%20%20%20%20%20%20%20%20%29.addTo%28map_d54216a0fc734ded8a42a1f3171c1325%29%3B%0A%20%20%20%20%20%20%20%20%0A%20%20%20%20%0A%20%20%20%20%20%20%20%20%20%20%20%20map_d54216a0fc734ded8a42a1f3171c1325.fitBounds%28%0A%20%20%20%20%20%20%20%20%20%20%20%20%20%20%20%20%5B%5B37.72718999999999%2C%20-122.484295%5D%2C%20%5B37.777240000000006%2C%20-122.47063260874114%5D%5D%2C%0A%20%20%20%20%20%20%20%20%20%20%20%20%20%20%20%20%7B%7D%0A%20%20%20%20%20%20%20%20%20%20%20%20%29%3B%0A%20%20%20%20%20%20%20%20%0A%20%20%20%20%0A%20%20%20%20%20%20%20%20function%20geo_json_980dae2e298b44dca4e0f25dd71a3687_styler%28feature%29%20%7B%0A%20%20%20%20%20%20%20%20%20%20%20%20switch%28feature.id%29%20%7B%0A%20%20%20%20%20%20%20%20%20%20%20%20%20%20%20%20default%3A%0A%20%20%20%20%20%20%20%20%20%20%20%20%20%20%20%20%20%20%20%20return%20%7B%22fillOpacity%22%3A%200.5%2C%20%22weight%22%3A%202%7D%3B%0A%20%20%20%20%20%20%20%20%20%20%20%20%7D%0A%20%20%20%20%20%20%20%20%7D%0A%20%20%20%20%20%20%20%20function%20geo_json_980dae2e298b44dca4e0f25dd71a3687_highlighter%28feature%29%20%7B%0A%20%20%20%20%20%20%20%20%20%20%20%20switch%28feature.id%29%20%7B%0A%20%20%20%20%20%20%20%20%20%20%20%20%20%20%20%20default%3A%0A%20%20%20%20%20%20%20%20%20%20%20%20%20%20%20%20%20%20%20%20return%20%7B%22fillOpacity%22%3A%200.75%7D%3B%0A%20%20%20%20%20%20%20%20%20%20%20%20%7D%0A%20%20%20%20%20%20%20%20%7D%0A%20%20%20%20%20%20%20%20function%20geo_json_980dae2e298b44dca4e0f25dd71a3687_pointToLayer%28feature%2C%20latlng%29%20%7B%0A%20%20%20%20%20%20%20%20%20%20%20%20var%20opts%20%3D%20%7B%22bubblingMouseEvents%22%3A%20true%2C%20%22color%22%3A%20%22%233388ff%22%2C%20%22dashArray%22%3A%20null%2C%20%22dashOffset%22%3A%20null%2C%20%22fill%22%3A%20true%2C%20%22fillColor%22%3A%20%22%233388ff%22%2C%20%22fillOpacity%22%3A%200.2%2C%20%22fillRule%22%3A%20%22evenodd%22%2C%20%22lineCap%22%3A%20%22round%22%2C%20%22lineJoin%22%3A%20%22round%22%2C%20%22opacity%22%3A%201.0%2C%20%22radius%22%3A%202%2C%20%22stroke%22%3A%20true%2C%20%22weight%22%3A%203%7D%3B%0A%20%20%20%20%20%20%20%20%20%20%20%20%0A%20%20%20%20%20%20%20%20%20%20%20%20let%20style%20%3D%20geo_json_980dae2e298b44dca4e0f25dd71a3687_styler%28feature%29%0A%20%20%20%20%20%20%20%20%20%20%20%20Object.assign%28opts%2C%20style%29%0A%20%20%20%20%20%20%20%20%20%20%20%20%0A%20%20%20%20%20%20%20%20%20%20%20%20return%20new%20L.CircleMarker%28latlng%2C%20opts%29%0A%20%20%20%20%20%20%20%20%7D%0A%0A%20%20%20%20%20%20%20%20function%20geo_json_980dae2e298b44dca4e0f25dd71a3687_onEachFeature%28feature%2C%20layer%29%20%7B%0A%20%20%20%20%20%20%20%20%20%20%20%20layer.on%28%7B%0A%20%20%20%20%20%20%20%20%20%20%20%20%20%20%20%20mouseout%3A%20function%28e%29%20%7B%0A%20%20%20%20%20%20%20%20%20%20%20%20%20%20%20%20%20%20%20%20if%28typeof%20e.target.setStyle%20%3D%3D%3D%20%22function%22%29%7B%0A%20%20%20%20%20%20%20%20%20%20%20%20%20%20%20%20%20%20%20%20%20%20%20%20geo_json_980dae2e298b44dca4e0f25dd71a3687.resetStyle%28e.target%29%3B%0A%20%20%20%20%20%20%20%20%20%20%20%20%20%20%20%20%20%20%20%20%7D%0A%20%20%20%20%20%20%20%20%20%20%20%20%20%20%20%20%7D%2C%0A%20%20%20%20%20%20%20%20%20%20%20%20%20%20%20%20mouseover%3A%20function%28e%29%20%7B%0A%20%20%20%20%20%20%20%20%20%20%20%20%20%20%20%20%20%20%20%20if%28typeof%20e.target.setStyle%20%3D%3D%3D%20%22function%22%29%7B%0A%20%20%20%20%20%20%20%20%20%20%20%20%20%20%20%20%20%20%20%20%20%20%20%20const%20highlightStyle%20%3D%20geo_json_980dae2e298b44dca4e0f25dd71a3687_highlighter%28e.target.feature%29%0A%20%20%20%20%20%20%20%20%20%20%20%20%20%20%20%20%20%20%20%20%20%20%20%20e.target.setStyle%28highlightStyle%29%3B%0A%20%20%20%20%20%20%20%20%20%20%20%20%20%20%20%20%20%20%20%20%7D%0A%20%20%20%20%20%20%20%20%20%20%20%20%20%20%20%20%7D%2C%0A%20%20%20%20%20%20%20%20%20%20%20%20%7D%29%3B%0A%20%20%20%20%20%20%20%20%7D%3B%0A%20%20%20%20%20%20%20%20var%20geo_json_980dae2e298b44dca4e0f25dd71a3687%20%3D%20L.geoJson%28null%2C%20%7B%0A%20%20%20%20%20%20%20%20%20%20%20%20%20%20%20%20onEachFeature%3A%20geo_json_980dae2e298b44dca4e0f25dd71a3687_onEachFeature%2C%0A%20%20%20%20%20%20%20%20%20%20%20%20%0A%20%20%20%20%20%20%20%20%20%20%20%20%20%20%20%20style%3A%20geo_json_980dae2e298b44dca4e0f25dd71a3687_styler%2C%0A%20%20%20%20%20%20%20%20%20%20%20%20%20%20%20%20pointToLayer%3A%20geo_json_980dae2e298b44dca4e0f25dd71a3687_pointToLayer%0A%20%20%20%20%20%20%20%20%7D%29%3B%0A%0A%20%20%20%20%20%20%20%20function%20geo_json_980dae2e298b44dca4e0f25dd71a3687_add%20%28data%29%20%7B%0A%20%20%20%20%20%20%20%20%20%20%20%20geo_json_980dae2e298b44dca4e0f25dd71a3687%0A%20%20%20%20%20%20%20%20%20%20%20%20%20%20%20%20.addData%28data%29%0A%20%20%20%20%20%20%20%20%20%20%20%20%20%20%20%20.addTo%28map_d54216a0fc734ded8a42a1f3171c1325%29%3B%0A%20%20%20%20%20%20%20%20%7D%0A%20%20%20%20%20%20%20%20%20%20%20%20geo_json_980dae2e298b44dca4e0f25dd71a3687_add%28%7B%22bbox%22%3A%20%5B-122.484295%2C%2037.72718999999999%2C%20-122.47063260874114%2C%2037.777240000000006%5D%2C%20%22features%22%3A%20%5B%7B%22bbox%22%3A%20%5B-122.47214000000001%2C%2037.77648000000001%2C%20-122.47214000000001%2C%2037.77648000000001%5D%2C%20%22geometry%22%3A%20%7B%22coordinates%22%3A%20%5B-122.47214000000001%2C%2037.77648000000001%5D%2C%20%22type%22%3A%20%22Point%22%7D%2C%20%22id%22%3A%20%2218%22%2C%20%22properties%22%3A%20%7B%22shape_id%22%3A%20%222808%22%2C%20%22stop_id%22%3A%20%2215947%22%2C%20%22stop_sequence%22%3A%2019.0%2C%20%22total_speed_delay%22%3A%20null%7D%2C%20%22type%22%3A%20%22Feature%22%7D%2C%20%7B%22bbox%22%3A%20%5B-122.47190999999998%2C%2037.77327000000003%2C%20-122.47190999999998%2C%2037.77327000000003%5D%2C%20%22geometry%22%3A%20%7B%22coordinates%22%3A%20%5B-122.47190999999998%2C%2037.77327000000003%5D%2C%20%22type%22%3A%20%22Point%22%7D%2C%20%22id%22%3A%20%2219%22%2C%20%22properties%22%3A%20%7B%22shape_id%22%3A%20%222808%22%2C%20%22stop_id%22%3A%20%2215951%22%2C%20%22stop_sequence%22%3A%2020.0%2C%20%22total_speed_delay%22%3A%20null%7D%2C%20%22type%22%3A%20%22Feature%22%7D%2C%20%7B%22bbox%22%3A%20%5B-122.477404%2C%2037.765375%2C%20-122.477404%2C%2037.765375%5D%2C%20%22geometry%22%3A%20%7B%22coordinates%22%3A%20%5B-122.477404%2C%2037.765375%5D%2C%20%22type%22%3A%20%22Point%22%7D%2C%20%22id%22%3A%20%2220%22%2C%20%22properties%22%3A%20%7B%22shape_id%22%3A%20%222808%22%2C%20%22stop_id%22%3A%20%2213371%22%2C%20%22stop_sequence%22%3A%2021.0%2C%20%22total_speed_delay%22%3A%20null%7D%2C%20%22type%22%3A%20%22Feature%22%7D%2C%20%7B%22bbox%22%3A%20%5B-122.47731000000002%2C%2037.763680000000015%2C%20-122.47731000000002%2C%2037.763680000000015%5D%2C%20%22geometry%22%3A%20%7B%22coordinates%22%3A%20%5B-122.47731000000002%2C%2037.763680000000015%5D%2C%20%22type%22%3A%20%22Point%22%7D%2C%20%22id%22%3A%20%2221%22%2C%20%22properties%22%3A%20%7B%22shape_id%22%3A%20%222808%22%2C%20%22stop_id%22%3A%20%2213359%22%2C%20%22stop_sequence%22%3A%2022.0%2C%20%22total_speed_delay%22%3A%20null%7D%2C%20%22type%22%3A%20%22Feature%22%7D%2C%20%7B%22bbox%22%3A%20%5B-122.47710999999998%2C%2037.76139999999997%2C%20-122.47710999999998%2C%2037.76139999999997%5D%2C%20%22geometry%22%3A%20%7B%22coordinates%22%3A%20%5B-122.47710999999998%2C%2037.76139999999997%5D%2C%20%22type%22%3A%20%22Point%22%7D%2C%20%22id%22%3A%20%2222%22%2C%20%22properties%22%3A%20%7B%22shape_id%22%3A%20%222808%22%2C%20%22stop_id%22%3A%20%2213365%22%2C%20%22stop_sequence%22%3A%2023.0%2C%20%22total_speed_delay%22%3A%20null%7D%2C%20%22type%22%3A%20%22Feature%22%7D%2C%20%7B%22bbox%22%3A%20%5B-122.47678200000001%2C%2037.75788899999999%2C%20-122.47678200000001%2C%2037.75788899999999%5D%2C%20%22geometry%22%3A%20%7B%22coordinates%22%3A%20%5B-122.47678200000001%2C%2037.75788899999999%5D%2C%20%22type%22%3A%20%22Point%22%7D%2C%20%22id%22%3A%20%2223%22%2C%20%22properties%22%3A%20%7B%22shape_id%22%3A%20%222808%22%2C%20%22stop_id%22%3A%20%2213369%22%2C%20%22stop_sequence%22%3A%2024.0%2C%20%22total_speed_delay%22%3A%20null%7D%2C%20%22type%22%3A%20%22Feature%22%7D%2C%20%7B%22bbox%22%3A%20%5B-122.47653000000001%2C%2037.753919999999994%2C%20-122.47653000000001%2C%2037.753919999999994%5D%2C%20%22geometry%22%3A%20%7B%22coordinates%22%3A%20%5B-122.47653000000001%2C%2037.753919999999994%5D%2C%20%22type%22%3A%20%22Point%22%7D%2C%20%22id%22%3A%20%2224%22%2C%20%22properties%22%3A%20%7B%22shape_id%22%3A%20%222808%22%2C%20%22stop_id%22%3A%20%2213375%22%2C%20%22stop_sequence%22%3A%2025.0%2C%20%22total_speed_delay%22%3A%20null%7D%2C%20%22type%22%3A%20%22Feature%22%7D%2C%20%7B%22bbox%22%3A%20%5B-122.4764%2C%2037.75206000000004%2C%20-122.4764%2C%2037.75206000000004%5D%2C%20%22geometry%22%3A%20%7B%22coordinates%22%3A%20%5B-122.4764%2C%2037.75206000000004%5D%2C%20%22type%22%3A%20%22Point%22%7D%2C%20%22id%22%3A%20%2225%22%2C%20%22properties%22%3A%20%7B%22shape_id%22%3A%20%222808%22%2C%20%22stop_id%22%3A%20%2213380%22%2C%20%22stop_sequence%22%3A%2026.0%2C%20%22total_speed_delay%22%3A%20null%7D%2C%20%22type%22%3A%20%22Feature%22%7D%2C%20%7B%22bbox%22%3A%20%5B-122.47613999999999%2C%2037.74830000000001%2C%20-122.47613999999999%2C%2037.74830000000001%5D%2C%20%22geometry%22%3A%20%7B%22coordinates%22%3A%20%5B-122.47613999999999%2C%2037.74830000000001%5D%2C%20%22type%22%3A%20%22Point%22%7D%2C%20%22id%22%3A%20%2226%22%2C%20%22properties%22%3A%20%7B%22shape_id%22%3A%20%222808%22%2C%20%22stop_id%22%3A%20%2213384%22%2C%20%22stop_sequence%22%3A%2027.0%2C%20%22total_speed_delay%22%3A%20null%7D%2C%20%22type%22%3A%20%22Feature%22%7D%2C%20%7B%22bbox%22%3A%20%5B-122.47601000000002%2C%2037.74646999999999%2C%20-122.47601000000002%2C%2037.74646999999999%5D%2C%20%22geometry%22%3A%20%7B%22coordinates%22%3A%20%5B-122.47601000000002%2C%2037.74646999999999%5D%2C%20%22type%22%3A%20%22Point%22%7D%2C%20%22id%22%3A%20%2227%22%2C%20%22properties%22%3A%20%7B%22shape_id%22%3A%20%222808%22%2C%20%22stop_id%22%3A%20%2213389%22%2C%20%22stop_sequence%22%3A%2028.0%2C%20%22total_speed_delay%22%3A%20null%7D%2C%20%22type%22%3A%20%22Feature%22%7D%2C%20%7B%22bbox%22%3A%20%5B-122.47573700000001%2C%2037.74258599999993%2C%20-122.47573700000001%2C%2037.74258599999993%5D%2C%20%22geometry%22%3A%20%7B%22coordinates%22%3A%20%5B-122.47573700000001%2C%2037.74258599999993%5D%2C%20%22type%22%3A%20%22Point%22%7D%2C%20%22id%22%3A%20%2228%22%2C%20%22properties%22%3A%20%7B%22shape_id%22%3A%20%222808%22%2C%20%22stop_id%22%3A%20%2213395%22%2C%20%22stop_sequence%22%3A%2029.0%2C%20%22total_speed_delay%22%3A%20null%7D%2C%20%22type%22%3A%20%22Feature%22%7D%2C%20%7B%22bbox%22%3A%20%5B-122.47552999999999%2C%2037.73901%2C%20-122.47552999999999%2C%2037.73901%5D%2C%20%22geometry%22%3A%20%7B%22coordinates%22%3A%20%5B-122.47552999999999%2C%2037.73901%5D%2C%20%22type%22%3A%20%22Point%22%7D%2C%20%22id%22%3A%20%2229%22%2C%20%22properties%22%3A%20%7B%22shape_id%22%3A%20%222808%22%2C%20%22stop_id%22%3A%20%2213399%22%2C%20%22stop_sequence%22%3A%2030.0%2C%20%22total_speed_delay%22%3A%20null%7D%2C%20%22type%22%3A%20%22Feature%22%7D%2C%20%7B%22bbox%22%3A%20%5B-122.47520300000001%2C%2037.73455599999998%2C%20-122.47520300000001%2C%2037.73455599999998%5D%2C%20%22geometry%22%3A%20%7B%22coordinates%22%3A%20%5B-122.47520300000001%2C%2037.73455599999998%5D%2C%20%22type%22%3A%20%22Point%22%7D%2C%20%22id%22%3A%20%2230%22%2C%20%22properties%22%3A%20%7B%22shape_id%22%3A%20%222808%22%2C%20%22stop_id%22%3A%20%2213390%22%2C%20%22stop_sequence%22%3A%2031.0%2C%20%22total_speed_delay%22%3A%20null%7D%2C%20%22type%22%3A%20%22Feature%22%7D%2C%20%7B%22bbox%22%3A%20%5B-122.475012%2C%2037.73081300000003%2C%20-122.475012%2C%2037.73081300000003%5D%2C%20%22geometry%22%3A%20%7B%22coordinates%22%3A%20%5B-122.475012%2C%2037.73081300000003%5D%2C%20%22type%22%3A%20%22Point%22%7D%2C%20%22id%22%3A%20%2231%22%2C%20%22properties%22%3A%20%7B%22shape_id%22%3A%20%222808%22%2C%20%22stop_id%22%3A%20%2213354%22%2C%20%22stop_sequence%22%3A%2032.0%2C%20%22total_speed_delay%22%3A%20null%7D%2C%20%22type%22%3A%20%22Feature%22%7D%2C%20%7B%22bbox%22%3A%20%5B-122.47509799999999%2C%2037.72725800000003%2C%20-122.47509799999999%2C%2037.72725800000003%5D%2C%20%22geometry%22%3A%20%7B%22coordinates%22%3A%20%5B-122.47509799999999%2C%2037.72725800000003%5D%2C%20%22type%22%3A%20%22Point%22%7D%2C%20%22id%22%3A%20%2232%22%2C%20%22properties%22%3A%20%7B%22shape_id%22%3A%20%222808%22%2C%20%22stop_id%22%3A%20%2217448%22%2C%20%22stop_sequence%22%3A%2033.0%2C%20%22total_speed_delay%22%3A%20null%7D%2C%20%22type%22%3A%20%22Feature%22%7D%2C%20%7B%22bbox%22%3A%20%5B-122.484295%2C%2037.772688999999964%2C%20-122.484295%2C%2037.772688999999964%5D%2C%20%22geometry%22%3A%20%7B%22coordinates%22%3A%20%5B-122.484295%2C%2037.772688999999964%5D%2C%20%22type%22%3A%20%22Point%22%7D%2C%20%22id%22%3A%20%22128%22%2C%20%22properties%22%3A%20%7B%22shape_id%22%3A%20%222900%22%2C%20%22stop_id%22%3A%20%2213499%22%2C%20%22stop_sequence%22%3A%2010.0%2C%20%22total_speed_delay%22%3A%20null%7D%2C%20%22type%22%3A%20%22Feature%22%7D%2C%20%7B%22bbox%22%3A%20%5B-122.47761%2C%2037.76552599999999%2C%20-122.47761%2C%2037.76552599999999%5D%2C%20%22geometry%22%3A%20%7B%22coordinates%22%3A%20%5B-122.47761%2C%2037.76552599999999%5D%2C%20%22type%22%3A%20%22Point%22%7D%2C%20%22id%22%3A%20%22129%22%2C%20%22properties%22%3A%20%7B%22shape_id%22%3A%20%222900%22%2C%20%22stop_id%22%3A%20%2215309%22%2C%20%22stop_sequence%22%3A%2011.0%2C%20%22total_speed_delay%22%3A%20null%7D%2C%20%22type%22%3A%20%22Feature%22%7D%2C%20%7B%22bbox%22%3A%20%5B-122.479696%2C%2037.76542800000003%2C%20-122.479696%2C%2037.76542800000003%5D%2C%20%22geometry%22%3A%20%7B%22coordinates%22%3A%20%5B-122.479696%2C%2037.76542800000003%5D%2C%20%22type%22%3A%20%22Point%22%7D%2C%20%22id%22%3A%20%22130%22%2C%20%22properties%22%3A%20%7B%22shape_id%22%3A%20%222900%22%2C%20%22stop_id%22%3A%20%2215310%22%2C%20%22stop_sequence%22%3A%2012.0%2C%20%22total_speed_delay%22%3A%20null%7D%2C%20%22type%22%3A%20%22Feature%22%7D%2C%20%7B%22bbox%22%3A%20%5B-122.479489%2C%2037.76528499999996%2C%20-122.479489%2C%2037.76528499999996%5D%2C%20%22geometry%22%3A%20%7B%22coordinates%22%3A%20%5B-122.479489%2C%2037.76528499999996%5D%2C%20%22type%22%3A%20%22Point%22%7D%2C%20%22id%22%3A%20%22282%22%2C%20%22properties%22%3A%20%7B%22shape_id%22%3A%20%222950%22%2C%20%22stop_id%22%3A%20%2215311%22%2C%20%22stop_sequence%22%3A%2080.0%2C%20%22total_speed_delay%22%3A%20null%7D%2C%20%22type%22%3A%20%22Feature%22%7D%2C%20%7B%22bbox%22%3A%20%5B-122.477243%2C%2037.765544000000055%2C%20-122.477243%2C%2037.765544000000055%5D%2C%20%22geometry%22%3A%20%7B%22coordinates%22%3A%20%5B-122.477243%2C%2037.765544000000055%5D%2C%20%22type%22%3A%20%22Point%22%7D%2C%20%22id%22%3A%20%22283%22%2C%20%22properties%22%3A%20%7B%22shape_id%22%3A%20%222950%22%2C%20%22stop_id%22%3A%20%2217758%22%2C%20%22stop_sequence%22%3A%2081.0%2C%20%22total_speed_delay%22%3A%20null%7D%2C%20%22type%22%3A%20%22Feature%22%7D%2C%20%7B%22bbox%22%3A%20%5B-122.484077%2C%2037.77235000000001%2C%20-122.484077%2C%2037.77235000000001%5D%2C%20%22geometry%22%3A%20%7B%22coordinates%22%3A%20%5B-122.484077%2C%2037.77235000000001%5D%2C%20%22type%22%3A%20%22Point%22%7D%2C%20%22id%22%3A%20%22284%22%2C%20%22properties%22%3A%20%7B%22shape_id%22%3A%20%222950%22%2C%20%22stop_id%22%3A%20%2216984%22%2C%20%22stop_sequence%22%3A%2082.0%2C%20%22total_speed_delay%22%3A%20null%7D%2C%20%22type%22%3A%20%22Feature%22%7D%2C%20%7B%22bbox%22%3A%20%5B-122.47467999999999%2C%2037.72718999999999%2C%20-122.47467999999999%2C%2037.72718999999999%5D%2C%20%22geometry%22%3A%20%7B%22coordinates%22%3A%20%5B-122.47467999999999%2C%2037.72718999999999%5D%2C%20%22type%22%3A%20%22Point%22%7D%2C%20%22id%22%3A%20%22384%22%2C%20%22properties%22%3A%20%7B%22shape_id%22%3A%20%222856%22%2C%20%22stop_id%22%3A%20%2213402%22%2C%20%22stop_sequence%22%3A%207.0%2C%20%22total_speed_delay%22%3A%20null%7D%2C%20%22type%22%3A%20%22Feature%22%7D%2C%20%7B%22bbox%22%3A%20%5B-122.474759%2C%2037.731299999999976%2C%20-122.474759%2C%2037.731299999999976%5D%2C%20%22geometry%22%3A%20%7B%22coordinates%22%3A%20%5B-122.474759%2C%2037.731299999999976%5D%2C%20%22type%22%3A%20%22Point%22%7D%2C%20%22id%22%3A%20%22385%22%2C%20%22properties%22%3A%20%7B%22shape_id%22%3A%20%222856%22%2C%20%22stop_id%22%3A%20%2213355%22%2C%20%22stop_sequence%22%3A%208.0%2C%20%22total_speed_delay%22%3A%20null%7D%2C%20%22type%22%3A%20%22Feature%22%7D%2C%20%7B%22bbox%22%3A%20%5B-122.47497400000002%2C%2037.73471700000001%2C%20-122.47497400000002%2C%2037.73471700000001%5D%2C%20%22geometry%22%3A%20%7B%22coordinates%22%3A%20%5B-122.47497400000002%2C%2037.73471700000001%5D%2C%20%22type%22%3A%20%22Point%22%7D%2C%20%22id%22%3A%20%22386%22%2C%20%22properties%22%3A%20%7B%22shape_id%22%3A%20%222856%22%2C%20%22stop_id%22%3A%20%2213391%22%2C%20%22stop_sequence%22%3A%209.0%2C%20%22total_speed_delay%22%3A%20null%7D%2C%20%22type%22%3A%20%22Feature%22%7D%2C%20%7B%22bbox%22%3A%20%5B-122.47531%2C%2037.739546000000026%2C%20-122.47531%2C%2037.739546000000026%5D%2C%20%22geometry%22%3A%20%7B%22coordinates%22%3A%20%5B-122.47531%2C%2037.739546000000026%5D%2C%20%22type%22%3A%20%22Point%22%7D%2C%20%22id%22%3A%20%22387%22%2C%20%22properties%22%3A%20%7B%22shape_id%22%3A%20%222856%22%2C%20%22stop_id%22%3A%20%2213398%22%2C%20%22stop_sequence%22%3A%2010.0%2C%20%22total_speed_delay%22%3A%20null%7D%2C%20%22type%22%3A%20%22Feature%22%7D%2C%20%7B%22bbox%22%3A%20%5B-122.47553999999998%2C%2037.74330999999997%2C%20-122.47553999999998%2C%2037.74330999999997%5D%2C%20%22geometry%22%3A%20%7B%22coordinates%22%3A%20%5B-122.47553999999998%2C%2037.74330999999997%5D%2C%20%22type%22%3A%20%22Point%22%7D%2C%20%22id%22%3A%20%22388%22%2C%20%22properties%22%3A%20%7B%22shape_id%22%3A%20%222856%22%2C%20%22stop_id%22%3A%20%2213394%22%2C%20%22stop_sequence%22%3A%2011.0%2C%20%22total_speed_delay%22%3A%20null%7D%2C%20%22type%22%3A%20%22Feature%22%7D%2C%20%7B%22bbox%22%3A%20%5B-122.475834%2C%2037.747151999999986%2C%20-122.475834%2C%2037.747151999999986%5D%2C%20%22geometry%22%3A%20%7B%22coordinates%22%3A%20%5B-122.475834%2C%2037.747151999999986%5D%2C%20%22type%22%3A%20%22Point%22%7D%2C%20%22id%22%3A%20%22389%22%2C%20%22properties%22%3A%20%7B%22shape_id%22%3A%20%222856%22%2C%20%22stop_id%22%3A%20%2213388%22%2C%20%22stop_sequence%22%3A%2012.0%2C%20%22total_speed_delay%22%3A%20null%7D%2C%20%22type%22%3A%20%22Feature%22%7D%2C%20%7B%22bbox%22%3A%20%5B-122.47589999999998%2C%2037.74853000000002%2C%20-122.47589999999998%2C%2037.74853000000002%5D%2C%20%22geometry%22%3A%20%7B%22coordinates%22%3A%20%5B-122.47589999999998%2C%2037.74853000000002%5D%2C%20%22type%22%3A%20%22Point%22%7D%2C%20%22id%22%3A%20%22390%22%2C%20%22properties%22%3A%20%7B%22shape_id%22%3A%20%222856%22%2C%20%22stop_id%22%3A%20%2213383%22%2C%20%22stop_sequence%22%3A%2013.0%2C%20%22total_speed_delay%22%3A%20null%7D%2C%20%22type%22%3A%20%22Feature%22%7D%2C%20%7B%22bbox%22%3A%20%5B-122.47619000000002%2C%2037.752719999999954%2C%20-122.47619000000002%2C%2037.752719999999954%5D%2C%20%22geometry%22%3A%20%7B%22coordinates%22%3A%20%5B-122.47619000000002%2C%2037.752719999999954%5D%2C%20%22type%22%3A%20%22Point%22%7D%2C%20%22id%22%3A%20%22391%22%2C%20%22properties%22%3A%20%7B%22shape_id%22%3A%20%222856%22%2C%20%22stop_id%22%3A%20%2213379%22%2C%20%22stop_sequence%22%3A%2014.0%2C%20%22total_speed_delay%22%3A%20null%7D%2C%20%22type%22%3A%20%22Feature%22%7D%2C%20%7B%22bbox%22%3A%20%5B-122.47636800000001%2C%2037.75431999999997%2C%20-122.47636800000001%2C%2037.75431999999997%5D%2C%20%22geometry%22%3A%20%7B%22coordinates%22%3A%20%5B-122.47636800000001%2C%2037.75431999999997%5D%2C%20%22type%22%3A%20%22Point%22%7D%2C%20%22id%22%3A%20%22392%22%2C%20%22properties%22%3A%20%7B%22shape_id%22%3A%20%222856%22%2C%20%22stop_id%22%3A%20%2213374%22%2C%20%22stop_sequence%22%3A%2015.0%2C%20%22total_speed_delay%22%3A%20null%7D%2C%20%22type%22%3A%20%22Feature%22%7D%2C%20%7B%22bbox%22%3A%20%5B-122.476633%2C%2037.75807599999999%2C%20-122.476633%2C%2037.75807599999999%5D%2C%20%22geometry%22%3A%20%7B%22coordinates%22%3A%20%5B-122.476633%2C%2037.75807599999999%5D%2C%20%22type%22%3A%20%22Point%22%7D%2C%20%22id%22%3A%20%22393%22%2C%20%22properties%22%3A%20%7B%22shape_id%22%3A%20%222856%22%2C%20%22stop_id%22%3A%20%2213368%22%2C%20%22stop_sequence%22%3A%2016.0%2C%20%22total_speed_delay%22%3A%20null%7D%2C%20%22type%22%3A%20%22Feature%22%7D%2C%20%7B%22bbox%22%3A%20%5B-122.476955%2C%2037.76177%2C%20-122.476955%2C%2037.76177%5D%2C%20%22geometry%22%3A%20%7B%22coordinates%22%3A%20%5B-122.476955%2C%2037.76177%5D%2C%20%22type%22%3A%20%22Point%22%7D%2C%20%22id%22%3A%20%22394%22%2C%20%22properties%22%3A%20%7B%22shape_id%22%3A%20%222856%22%2C%20%22stop_id%22%3A%20%2213364%22%2C%20%22stop_sequence%22%3A%2017.0%2C%20%22total_speed_delay%22%3A%20null%7D%2C%20%22type%22%3A%20%22Feature%22%7D%2C%20%7B%22bbox%22%3A%20%5B-122.47704000000002%2C%2037.76342999999999%2C%20-122.47704000000002%2C%2037.76342999999999%5D%2C%20%22geometry%22%3A%20%7B%22coordinates%22%3A%20%5B-122.47704000000002%2C%2037.76342999999999%5D%2C%20%22type%22%3A%20%22Point%22%7D%2C%20%22id%22%3A%20%22395%22%2C%20%22properties%22%3A%20%7B%22shape_id%22%3A%20%222856%22%2C%20%22stop_id%22%3A%20%2213360%22%2C%20%22stop_sequence%22%3A%2018.0%2C%20%22total_speed_delay%22%3A%20null%7D%2C%20%22type%22%3A%20%22Feature%22%7D%2C%20%7B%22bbox%22%3A%20%5B-122.477243%2C%2037.765544000000055%2C%20-122.477243%2C%2037.765544000000055%5D%2C%20%22geometry%22%3A%20%7B%22coordinates%22%3A%20%5B-122.477243%2C%2037.765544000000055%5D%2C%20%22type%22%3A%20%22Point%22%7D%2C%20%22id%22%3A%20%22396%22%2C%20%22properties%22%3A%20%7B%22shape_id%22%3A%20%222856%22%2C%20%22stop_id%22%3A%20%2217758%22%2C%20%22stop_sequence%22%3A%2019.0%2C%20%22total_speed_delay%22%3A%20null%7D%2C%20%22type%22%3A%20%22Feature%22%7D%2C%20%7B%22bbox%22%3A%20%5B-122.47165300000002%2C%2037.77321899999995%2C%20-122.47165300000002%2C%2037.77321899999995%5D%2C%20%22geometry%22%3A%20%7B%22coordinates%22%3A%20%5B-122.47165300000002%2C%2037.77321899999995%5D%2C%20%22type%22%3A%20%22Point%22%7D%2C%20%22id%22%3A%20%22397%22%2C%20%22properties%22%3A%20%7B%22shape_id%22%3A%20%222856%22%2C%20%22stop_id%22%3A%20%2215950%22%2C%20%22stop_sequence%22%3A%2020.0%2C%20%22total_speed_delay%22%3A%20null%7D%2C%20%22type%22%3A%20%22Feature%22%7D%2C%20%7B%22bbox%22%3A%20%5B-122.47192%2C%2037.777240000000006%2C%20-122.47192%2C%2037.777240000000006%5D%2C%20%22geometry%22%3A%20%7B%22coordinates%22%3A%20%5B-122.47192%2C%2037.777240000000006%5D%2C%20%22type%22%3A%20%22Point%22%7D%2C%20%22id%22%3A%20%22398%22%2C%20%22properties%22%3A%20%7B%22shape_id%22%3A%20%222856%22%2C%20%22stop_id%22%3A%20%2215946%22%2C%20%22stop_sequence%22%3A%2021.0%2C%20%22total_speed_delay%22%3A%20null%7D%2C%20%22type%22%3A%20%22Feature%22%7D%2C%20%7B%22bbox%22%3A%20%5B-122.48065360678149%2C%2037.729916822102716%2C%20-122.47063260874114%2C%2037.77417662386059%5D%2C%20%22geometry%22%3A%20%7B%22coordinates%22%3A%20%5B%5B%5B-122.4771807312328%2C%2037.748602439187266%5D%2C%20%5B-122.47731075934783%2C%2037.750467437959166%5D%2C%20%5B-122.47731104326999%2C%2037.750471693337005%5D%2C%20%5B-122.47740933454354%2C%2037.75201420248758%5D%2C%20%5B-122.47743823604615%2C%2037.75231473086933%5D%2C%20%5B-122.47744012736861%2C%2037.752338578857334%5D%2C%20%5B-122.47753611458464%2C%2037.75387499211318%5D%2C%20%5B-122.47756831030303%2C%2037.754169447536206%5D%2C%20%5B-122.4775707951146%2C%2037.75419714284015%5D%2C%20%5B-122.4777018232775%2C%2037.75606514160249%5D%2C%20%5B-122.47770216816271%2C%2037.75607032888544%5D%2C%20%5B-122.47781036123109%2C%2037.75779231058003%5D%2C%20%5B-122.47781413984262%2C%2037.757808263701826%5D%2C%20%5B-122.47783189902651%2C%2037.757924825363254%5D%2C%20%5B-122.47796025633703%2C%2037.75978012830977%5D%2C%20%5B-122.47810937375641%2C%2037.76132403716952%5D%2C%20%5B-122.47815123619657%2C%2037.76159472122235%5D%2C%20%5B-122.47815689742373%2C%2037.76164137838349%5D%2C%20%5B-122.47832092539635%2C%2037.76350137683512%5D%2C%20%5B-122.47832359121708%2C%2037.76357547569682%5D%2C%20%5B-122.47832207426991%2C%2037.76366961487402%5D%2C%20%5B-122.47842972547066%2C%2037.76525688296766%5D%2C%20%5B-122.47844444588048%2C%2037.765315973874245%5D%2C%20%5B-122.47845496821851%2C%2037.765390538890166%5D%2C%20%5B-122.47850521310198%2C%2037.76596174398946%5D%2C%20%5B-122.4785215426243%2C%2037.76603944444092%5D%2C%20%5B-122.47854316677888%2C%2037.76612161161454%5D%2C%20%5B-122.47855626136537%2C%2037.766157620285014%5D%2C%20%5B-122.47860193079991%2C%2037.76625632221771%5D%2C%20%5B-122.47884336720294%2C%2037.76658849906412%5D%2C%20%5B-122.47885079330119%2C%2037.766598874613535%5D%2C%20%5B-122.47895579465968%2C%2037.7667478737457%5D%2C%20%5B-122.4790027115294%2C%2037.76682235316621%5D%2C%20%5B-122.47910771362575%2C%2037.76701035225718%5D%2C%20%5B-122.47914231106331%2C%2037.76707999576338%5D%2C%20%5B-122.4792533142654%2C%2037.767333994770496%5D%2C%20%5B-122.47928555068962%2C%2037.767422051542574%5D%2C%20%5B-122.47937055467447%2C%2037.767708050759474%5D%2C%20%5B-122.47939431033451%2C%2037.767818394341866%5D%2C%20%5B-122.47944631606858%2C%2037.768203393852474%5D%2C%20%5B-122.47944985935987%2C%2037.768234835708405%5D%2C%20%5B-122.47947915300594%2C%2037.76855896454801%5D%2C%20%5B-122.47950574368467%2C%2037.76879492531961%5D%2C%20%5B-122.47956428437476%2C%2037.76905158697183%5D%2C%20%5B-122.47961971211562%2C%2037.76920321084172%5D%2C%20%5B-122.47970377115467%2C%2037.76937056687543%5D%2C%20%5B-122.47994785912266%2C%2037.7698151443506%5D%2C%20%5B-122.48020998726247%2C%2037.770288145725274%5D%2C%20%5B-122.48042979851273%2C%2037.770670588381826%5D%2C%20%5B-122.48044320159734%2C%2037.77069484908869%5D%2C%20%5B-122.48056520424473%2C%2037.770924848023895%5D%2C%20%5B-122.48060212456676%2C%2037.77100487241514%5D%2C%20%5B-122.48062931276843%2C%2037.77108730161409%5D%2C%20%5B-122.480646524975%2C%2037.771171396339504%5D%2C%20%5B-122.48065360678149%2C%2037.77125640237007%5D%2C%20%5B-122.48065049463852%2C%2037.77134155730874%5D%2C%20%5B-122.4806372164237%2C%2037.771426097420246%5D%2C%20%5B-122.4805512221314%2C%2037.771820098222406%5D%2C%20%5B-122.48052097912006%2C%2037.77192252634683%5D%2C%20%5B-122.48047583244315%2C%2037.772021460660866%5D%2C%20%5B-122.48032683556914%2C%2037.77229646195708%5D%2C%20%5B-122.48028305135236%2C%2037.77236830040458%5D%2C%20%5B-122.48023139765604%2C%2037.77243678768374%5D%2C%20%5B-122.48017228052063%2C%2037.772501385400595%5D%2C%20%5B-122.48010616466185%2C%2037.7725615857366%5D%2C%20%5B-122.48003356981783%2C%2037.772616915440935%5D%2C%20%5B-122.47981556937938%2C%2037.77276891680511%5D%2C%20%5B-122.47971971496617%2C%2037.772828829972845%5D%2C%20%5B-122.47943871358602%2C%2037.77298583150704%5D%2C%20%5B-122.47934873373573%2C%2037.7730312518484%5D%2C%20%5B-122.47925376724076%2C%2037.773069794835365%5D%2C%20%5B-122.47915465117435%2C%2037.773101120731575%5D%2C%20%5B-122.47905225918959%2C%2037.77312495341517%5D%2C%20%5B-122.47860125424785%2C%2037.77321195442628%5D%2C%20%5B-122.47846759658569%2C%2037.77323112771136%5D%2C%20%5B-122.47833200292571%2C%2037.77323754955338%5D%2C%20%5B-122.47788875150468%2C%2037.773237549636136%5D%2C%20%5B-122.47734036038855%2C%2037.773271766180706%5D%2C%20%5B-122.477312756341%2C%2037.77327322126345%5D%2C%20%5B-122.47671632848159%2C%2037.7732988953295%5D%2C%20%5B-122.47631299868578%2C%2037.77332053327538%5D%2C%20%5B-122.47594947483567%2C%2037.77336836528801%5D%2C%20%5B-122.4758982148838%2C%2037.773374163964625%5D%2C%20%5B-122.4754923846087%2C%2037.773412631322934%5D%2C%20%5B-122.47524549407756%2C%2037.77344173247774%5D%2C%20%5B-122.47508175342738%2C%2037.77345154464426%5D%2C%20%5B-122.47469874883498%2C%2037.77345254465622%5D%2C%20%5B-122.47455672097443%2C%2037.77344587019066%5D%2C%20%5B-122.47422671710581%2C%2037.77341386981072%5D%2C%20%5B-122.47419956692895%2C%2037.7734109738733%5D%2C%20%5B-122.47378723733543%2C%2037.77336298302261%5D%2C%20%5B-122.47333015880851%2C%2037.77331546966674%5D%2C%20%5B-122.4729057361378%2C%2037.773280552465756%5D%2C%20%5B-122.4729063079507%2C%2037.7733050213789%5D%2C%20%5B-122.4728974273623%2C%2037.773393018862414%5D%2C%20%5B-122.47287768907147%2C%2037.773479903843985%5D%2C%20%5B-122.47284728313265%2C%2037.77356483956851%5D%2C%20%5B-122.47280650233894%2C%2037.773647008050354%5D%2C%20%5B-122.47275573940341%2C%2037.77372561795204%5D%2C%20%5B-122.4726954831784%2C%2037.77379991220473%5D%2C%20%5B-122.47262631394824%2C%2037.77386917530045%5D%2C%20%5B-122.47254889784155%2C%2037.77393274018293%5D%2C%20%5B-122.4724639804163%2C%2037.77398999467245%5D%2C%20%5B-122.47237237947982%2C%2037.77404038736189%5D%2C%20%5B-122.47227497721265%2C%2037.77408343292795%5D%2C%20%5B-122.47217271167202%2C%2037.77411871680539%5D%2C%20%5B-122.47206656775717%2C%2037.77414589918%5D%2C%20%5B-122.47195756772321%2C%2037.7741647182617%5D%2C%20%5B-122.47184676133503%2C%2037.774174992806245%5D%2C%20%5B-122.47173521575618%2C%2037.77417662386059%5D%2C%20%5B-122.47162400527%2C%2037.7741695957162%5D%2C%20%5B-122.47151420093228%2C%2037.77415397606039%5D%2C%20%5B-122.47140686025486%2C%2037.77412991532421%5D%2C%20%5B-122.47130301701989%2C%2037.77409764523374%5D%2C%20%5B-122.47120367132274%2C%2037.77405747657792%5D%2C%20%5B-122.47110977993928%2C%2037.77400979621522%5D%2C%20%5B-122.47102224711092%2C%2037.77395506334727%5D%2C%20%5B-122.4709419158355%2C%2037.773893805096364%5D%2C%20%5B-122.47086955974858%2C%2037.77382661142817%5D%2C%20%5B-122.47080587567272%2C%2037.77375412946932%5D%2C%20%5B-122.47075147690695%2C%2037.77367705727505%5D%2C%20%5B-122.47070688732094%2C%2037.773596137105635%5D%2C%20%5B-122.47067253631063%2C%2037.773512148277554%5D%2C%20%5B-122.47064875466383%2C%2037.77342589965821%5D%2C%20%5B-122.47063577137578%2C%2037.77333822187519%5D%2C%20%5B-122.47063376244841%2C%2037.77331472612015%5D%2C%20%5B-122.47063260874114%2C%2037.773208755872496%5D%2C%20%5B-122.47063770180416%2C%2037.77312874108641%5D%2C%20%5B-122.4706333278049%2C%2037.77291776015615%5D%2C%20%5B-122.47063684633342%2C%2037.77283076798565%5D%2C%20%5B-122.47065097307728%2C%2037.772744452078804%5D%2C%20%5B-122.47068197505529%2C%2037.77260745236758%5D%2C%20%5B-122.47071248865493%2C%2037.7725065535175%5D%2C%20%5B-122.47075748110699%2C%2037.77240910578811%5D%2C%20%5B-122.47082248245303%2C%2037.772290106352884%5D%2C%20%5B-122.47086669175512%2C%2037.772218141156586%5D%2C%20%5B-122.47091880800059%2C%2037.77214956934158%5D%2C%20%5B-122.4709784188035%2C%2037.77208493347595%5D%2C%20%5B-122.47106741917779%2C%2037.77199693413371%5D%2C%20%5B-122.47113383272185%2C%2037.77193692736457%5D%2C%20%5B-122.47120670286562%2C%2037.77188181187471%5D%2C%20%5B-122.47139170247245%2C%2037.77175381302744%5D%2C%20%5B-122.47146874387103%2C%2037.77170501131858%5D%2C%20%5B-122.47155084368866%2C%2037.77166168059932%5D%2C%20%5B-122.47163738323381%2C%2037.77162414739891%5D%2C%20%5B-122.47172771036152%2C%2037.771592694557555%5D%2C%20%5B-122.47202970749802%2C%2037.77149969559423%5D%2C%20%5B-122.47213200291445%2C%2037.771472541677056%5D%2C%20%5B-122.47223709085084%2C%2037.77145318417626%5D%2C%20%5B-122.4723440246512%2C%2037.771441797468306%5D%2C%20%5B-122.47245184103335%2C%2037.771438484127046%5D%2C%20%5B-122.47255956876549%2C%2037.771443273999665%5D%2C%20%5B-122.47358055672045%2C%2037.77152727300029%5D%2C%20%5B-122.47361107081863%2C%2037.771530113643216%5D%2C%20%5B-122.47409206519902%2C%2037.77158011305021%5D%2C%20%5B-122.47410943403226%2C%2037.77158202645304%5D%2C%20%5B-122.47451687642354%2C%2037.77162944850225%5D%2C%20%5B-122.4747625279153%2C%2037.77165326930971%5D%2C%20%5B-122.47499192933935%2C%2037.77165267036096%5D%2C%20%5B-122.47517350684542%2C%2037.771631267629736%5D%2C%20%5B-122.4752057932878%2C%2037.77162783538229%5D%2C%20%5B-122.47560207549111%2C%2037.77159027313729%5D%2C%20%5B-122.47599452476817%2C%2037.77153863504575%5D%2C%20%5B-122.476104105738%2C%2037.77152851059774%5D%2C%20%5B-122.47657010018887%2C%2037.77150351089612%5D%2C%20%5B-122.47658525234803%2C%2037.77150277836857%5D%2C%20%5B-122.47717543225505%2C%2037.77147737330764%5D%2C%20%5B-122.47775463470349%2C%2037.77144123416828%5D%2C%20%5B-122.47784400292572%2C%2037.77143845042089%5D%2C%20%5B-122.47819543175369%2C%2037.7714384506212%5D%2C%20%5B-122.47830381446829%2C%2037.771417543143826%5D%2C%20%5B-122.47833570353026%2C%2037.771399726182395%5D%2C%20%5B-122.47833996402893%2C%2037.771380208527326%5D%2C%20%5B-122.4781371954587%2C%2037.77102740075497%5D%2C%20%5B-122.47813090526753%2C%2037.77101625603112%5D%2C%20%5B-122.47786491064768%2C%2037.77053625372537%5D%2C%20%5B-122.47786335719684%2C%2037.77053343734583%5D%2C%20%5B-122.4776113623719%2C%2037.7700744351581%5D%2C%20%5B-122.47759759801451%2C%2037.77004824091989%5D%2C%20%5B-122.47748660063485%2C%2037.76982723994362%5D%2C%20%5B-122.47745099133999%2C%2037.76974495516932%5D%2C%20%5B-122.47736399451436%2C%2037.7695069543783%5D%2C%20%5B-122.47733730091194%2C%2037.769416762128095%5D%2C%20%5B-122.4772593058455%2C%2037.769074761401576%5D%2C%20%5B-122.4772457260562%2C%2037.76899488484365%5D%2C%20%5B-122.47721373030826%2C%2037.76871088454198%5D%2C%20%5B-122.47721213370892%2C%2037.7686951538439%5D%2C%20%5B-122.47718356124815%2C%2037.76837889911783%5D%2C%20%5B-122.4771412168435%2C%2037.768065352855324%5D%2C%20%5B-122.47708572138575%2C%2037.76787861767102%5D%2C%20%5B-122.477009146506%2C%2037.767703386510725%5D%2C%20%5B-122.47694455690015%2C%2037.76758773749762%5D%2C%20%5B-122.47686886460794%2C%2037.76748032446347%5D%2C%20%5B-122.47658262452305%2C%2037.76708649044559%5D%2C%20%5B-122.47653783421698%2C%2037.767018275177094%5D%2C%20%5B-122.4765005674865%2C%2037.766947282717716%5D%2C%20%5B-122.47640756996283%2C%2037.76674628189122%5D%2C%20%5B-122.4763825994919%2C%2037.7666857582854%5D%2C%20%5B-122.476346600814%2C%2037.76658675795792%5D%2C%20%5B-122.47632614678842%2C%2037.76652139218099%5D%2C%20%5B-122.47629114867561%2C%2037.7663883918567%5D%2C%20%5B-122.47628267374519%2C%2037.76635256249884%5D%2C%20%5B-122.47625367575063%2C%2037.76621456222813%5D%2C%20%5B-122.47624102065842%2C%2037.76612945088628%5D%2C%20%5B-122.47619348771582%2C%2037.76558889135887%5D%2C%20%5B-122.4761752120683%2C%2037.765513953688505%5D%2C%20%5B-122.47616492111051%2C%2037.76543219580834%5D%2C%20%5B-122.47604994669446%2C%2037.76373619472166%5D%2C%20%5B-122.47604840725266%2C%2037.763676513501004%5D%2C%20%5B-122.47604855676562%2C%2037.76366725240936%5D%2C%20%5B-122.47604981029667%2C%2037.76358960643923%5D%2C%20%5B-122.47589116235936%2C%2037.761789997885685%5D%2C%20%5B-122.47584976482733%2C%2037.761522267729%5D%2C%20%5B-122.47584465307769%2C%2037.761481544517046%5D%2C%20%5B-122.47584417156695%2C%2037.76147655767131%5D%2C%20%5B-122.47569267671346%2C%2037.75990754308301%5D%2C%20%5B-122.47569107136202%2C%2037.759888165103476%5D%2C%20%5B-122.47556616151545%2C%2037.75808190438481%5D%2C%20%5B-122.4755632931934%2C%2037.758069792921944%5D%2C%20%5B-122.4755632931934%2C%2037.758069792921944%5D%2C%20%5B-122.47556185631427%2C%2037.75806372571173%5D%2C%20%5B-122.47555946050332%2C%2037.758047659074485%5D%2C%20%5B-122.47554814863263%2C%2037.75798233276095%5D%2C%20%5B-122.47554740158338%2C%2037.75796679019593%5D%2C%20%5B-122.47554380357849%2C%2037.75794266141555%5D%2C%20%5B-122.47543199338854%2C%2037.75616225439584%5D%2C%20%5B-122.47530217532434%2C%2037.75431070925703%5D%2C%20%5B-122.47526969201441%2C%2037.75401354143961%5D%2C%20%5B-122.47526684785262%2C%2037.753980411302095%5D%2C%20%5B-122.47526616315179%2C%2037.75396944660023%5D%2C%20%5B-122.4751706164834%2C%2037.75243934433569%5D%2C%20%5B-122.47514176657648%2C%2037.75213925812629%5D%2C%20%5B-122.47513993191416%2C%2037.75211629684253%5D%2C%20%5B-122.47513955002786%2C%2037.752110301085224%5D%2C%20%5B-122.47504109088952%2C%2037.75056442386483%5D%2C%20%5B-122.47491210938803%2C%2037.74871363415827%5D%2C%20%5B-122.4748783669714%2C%2037.748388695617535%5D%2C%20%5B-122.47487594941168%2C%2037.74835967531957%5D%2C%20%5B-122.47487532772047%2C%2037.74834977788604%5D%2C%20%5B-122.47487532772047%2C%2037.74834977788604%5D%2C%20%5B-122.47478086567457%2C%2037.746845895042945%5D%2C%20%5B-122.47475133152379%2C%2037.7465590858811%5D%2C%20%5B-122.47474897147777%2C%2037.74653058612971%5D%2C%20%5B-122.47474828050997%2C%2037.74651956346815%5D%2C%20%5B-122.4746511372801%2C%2037.74496985409093%5D%2C%20%5B-122.47452265285541%2C%2037.743109909018834%5D%2C%20%5B-122.4744850549716%2C%2037.74265469345391%5D%2C%20%5B-122.47448344225056%2C%2037.74262992824407%5D%2C%20%5B-122.47448313406812%2C%2037.74262346368216%5D%2C%20%5B-122.47441683870642%2C%2037.741232798844905%5D%2C%20%5B-122.47428838253755%2C%2037.73939350148996%5D%2C%20%5B-122.47425589182312%2C%2037.73909531007554%5D%2C%20%5B-122.47425279478423%2C%2037.73905769663008%5D%2C%20%5B-122.47425262586131%2C%2037.73905466885105%5D%2C%20%5B-122.4741660152477%2C%2037.73750222573057%5D%2C%20%5B-122.47398409486932%2C%2037.73473464108774%5D%2C%20%5B-122.47398357113912%2C%2037.734732371442156%5D%2C%20%5B-122.47398225413907%2C%2037.73472666406914%5D%2C%20%5B-122.47397970924885%2C%2037.73470927402508%5D%2C%20%5B-122.47396893874279%2C%2037.734644857082%5D%2C%20%5B-122.47396839351958%2C%2037.73463194995033%5D%2C%20%5B-122.4739651751206%2C%2037.73460995754936%5D%2C%20%5B-122.47383236918775%2C%2037.732508525077016%5D%2C%20%5B-122.47373619682232%2C%2037.73114317378269%5D%2C%20%5B-122.47370632152592%2C%2037.730923158514315%5D%2C%20%5B-122.47370010003581%2C%2037.730847255432614%5D%2C%20%5B-122.47369979131354%2C%2037.73083640034672%5D%2C%20%5B-122.47370275399079%2C%2037.73074815376485%5D%2C%20%5B-122.4737166274423%2C%2037.73066056202538%5D%2C%20%5B-122.47374127802193%2C%2037.730574468680885%5D%2C%20%5B-122.4737764682964%2C%2037.73049070285081%5D%2C%20%5B-122.4738218593334%2C%2037.730410071236825%5D%2C%20%5B-122.47387701396669%2C%2037.730333350354115%5D%2C%20%5B-122.47394140100737%2C%2037.73026127905371%5D%2C%20%5B-122.47401440036029%2C%2037.73019455140734%5D%2C%20%5B-122.47409530899625%2C%2037.730133810023766%5D%2C%20%5B-122.47418334772294%2C%2037.73007963986042%5D%2C%20%5B-122.47427766868873%2C%2037.73003256259104%5D%2C%20%5B-122.47437736354777%2C%2037.72999303158174%5D%2C%20%5B-122.47448147220707%2C%2037.729961427525616%5D%2C%20%5B-122.47458899207194%2C%2037.72993805477676%5D%2C%20%5B-122.47469888770034%2C%2037.72992313841994%5D%2C%20%5B-122.47481010077348%2C%2037.729916822102716%5D%2C%20%5B-122.47492156028677%2C%2037.729919166652415%5D%2C%20%5B-122.47503219286254%2C%2037.72993014949074%5D%2C%20%5B-122.47514093308585%2C%2037.72994966485047%5D%2C%20%5B-122.47524673376358%2C%2037.72997752479478%5D%2C%20%5B-122.47534857600812%2C%2037.73001346102609%5D%2C%20%5B-122.4754454790487%2C%2037.73005712747024%5D%2C%20%5B-122.47553650967572%2C%2037.730108103608494%5D%2C%20%5B-122.47562079122723%2C%2037.730165898526984%5D%2C%20%5B-122.47569751203133%2C%2037.73022995564425%5D%2C%20%5B-122.47576593322272%2C%2037.73029965807024%5D%2C%20%5B-122.47582539585837%2C%2037.73037433454715%5D%2C%20%5B-122.4758753272641%2C%2037.7304532659135%5D%2C%20%5B-122.4759152465501%2C%2037.730535692029136%5D%2C%20%5B-122.47594476924327%2C%2037.73062081909568%5D%2C%20%5B-122.47596361099087%2C%2037.73070782730066%5D%2C%20%5B-122.47596573571929%2C%2037.73073127362752%5D%2C%20%5B-122.47599867919442%2C%2037.73097383051801%5D%2C%20%5B-122.4760034274525%2C%2037.7310198970945%5D%2C%20%5B-122.47610144840984%2C%2037.73241089616905%5D%2C%20%5B-122.47610179178974%2C%2037.73241603295309%5D%2C%20%5B-122.47623110588573%2C%2037.73446123607204%5D%2C%20%5B-122.47623274198155%2C%2037.734468325357675%5D%2C%20%5B-122.47624970873329%2C%2037.73458323668539%5D%2C%20%5B-122.47643575138672%2C%2037.73741223492845%5D%2C%20%5B-122.47643618048126%2C%2037.73741929343163%5D%2C%20%5B-122.4765221527666%2C%2037.73895946021751%5D%2C%20%5B-122.47655411051561%2C%2037.73925267890205%5D%2C%20%5B-122.47655658245323%2C%2037.73928032680852%5D%2C%20%5B-122.47668661050037%2C%2037.74114132558073%5D%2C%20%5B-122.47668753549488%2C%2037.74115706162266%5D%2C%20%5B-122.4767539656178%2C%2037.74254966959636%5D%2C%20%5B-122.47679095017509%2C%2037.74299729545124%5D%2C%20%5B-122.4767916763945%2C%2037.743006868088074%5D%2C%20%5B-122.47692070453769%2C%2037.74487386686955%5D%2C%20%5B-122.47692100359293%2C%2037.7448784040402%5D%2C%20%5B-122.47701813254407%2C%2037.74642713842514%5D%2C%20%5B-122.47704767078264%2C%2037.74671390311502%5D%2C%20%5B-122.4770500261835%2C%2037.74674231483131%5D%2C%20%5B-122.47714513639536%2C%2037.748255788323284%5D%2C%20%5B-122.47717863585578%2C%2037.74857829334182%5D%2C%20%5B-122.4771807312328%2C%2037.748602439187266%5D%5D%5D%2C%20%22type%22%3A%20%22Polygon%22%7D%2C%20%22id%22%3A%20%220%22%2C%20%22properties%22%3A%20%7B%22shape_id%22%3A%20null%2C%20%22stop_id%22%3A%20null%2C%20%22stop_sequence%22%3A%20null%2C%20%22total_speed_delay%22%3A%201347.9%7D%2C%20%22type%22%3A%20%22Feature%22%7D%5D%2C%20%22type%22%3A%20%22FeatureCollection%22%7D%29%3B%0A%0A%20%20%20%20%20%20%20%20%0A%20%20%20%20%0A%20%20%20%20geo_json_980dae2e298b44dca4e0f25dd71a3687.bindTooltip%28%0A%20%20%20%20function%28layer%29%7B%0A%20%20%20%20let%20div%20%3D%20L.DomUtil.create%28%27div%27%29%3B%0A%20%20%20%20%0A%20%20%20%20let%20handleObject%20%3D%20feature%3D%3Etypeof%28feature%29%3D%3D%27object%27%20%3F%20JSON.stringify%28feature%29%20%3A%20feature%3B%0A%20%20%20%20let%20fields%20%3D%20%5B%22stop_id%22%2C%20%22stop_sequence%22%2C%20%22shape_id%22%2C%20%22total_speed_delay%22%5D%3B%0A%20%20%20%20let%20aliases%20%3D%20%5B%22stop_id%22%2C%20%22stop_sequence%22%2C%20%22shape_id%22%2C%20%22total_speed_delay%22%5D%3B%0A%20%20%20%20let%20table%20%3D%20%27%3Ctable%3E%27%20%2B%0A%20%20%20%20%20%20%20%20String%28%0A%20%20%20%20%20%20%20%20fields.map%28%0A%20%20%20%20%20%20%20%20%28v%2Ci%29%3D%3E%0A%20%20%20%20%20%20%20%20%60%3Ctr%3E%0A%20%20%20%20%20%20%20%20%20%20%20%20%3Cth%3E%24%7Baliases%5Bi%5D%7D%3C/th%3E%0A%20%20%20%20%20%20%20%20%20%20%20%20%0A%20%20%20%20%20%20%20%20%20%20%20%20%3Ctd%3E%24%7BhandleObject%28layer.feature.properties%5Bv%5D%29%7D%3C/td%3E%0A%20%20%20%20%20%20%20%20%3C/tr%3E%60%29.join%28%27%27%29%29%0A%20%20%20%20%2B%27%3C/table%3E%27%3B%0A%20%20%20%20div.innerHTML%3Dtable%3B%0A%20%20%20%20%0A%20%20%20%20return%20div%0A%20%20%20%20%7D%0A%20%20%20%20%2C%7B%22className%22%3A%20%22foliumtooltip%22%2C%20%22sticky%22%3A%20true%7D%29%3B%0A%20%20%20%20%20%20%20%20%20%20%20%20%20%20%20%20%20%20%20%20%20%0A%3C/script%3E onload=\"this.contentDocument.open();this.contentDocument.write(    decodeURIComponent(this.getAttribute('data-html')));this.contentDocument.close();\" allowfullscreen webkitallowfullscreen mozallowfullscreen></iframe></div></div>"
      ],
      "text/plain": [
       "<folium.folium.Map at 0x7fd478175df0>"
      ]
     },
     "execution_count": 18,
     "metadata": {},
     "output_type": "execute_result"
    }
   ],
   "source": [
    "rt_day.quick_map_corridor()"
   ]
  },
  {
   "cell_type": "code",
   "execution_count": 19,
   "id": "db8df09e-3e5d-4bcb-8be3-20c61fe3035a",
   "metadata": {},
   "outputs": [],
   "source": [
    "# m = rt_day.segment_speed_map(how='low_speeds', no_title=False, shn=True, corridor=True)\n",
    "## geoms error, no time to fix"
   ]
  },
  {
   "cell_type": "code",
   "execution_count": null,
   "id": "981be42c-e8f6-495e-80c5-5e356d25632f",
   "metadata": {},
   "outputs": [],
   "source": [
    "all_corridors += [rt_day.corridor]"
   ]
  },
  {
   "cell_type": "markdown",
   "id": "44cdaf50-dbbd-4110-8bc9-6bc4bed451cd",
   "metadata": {
    "tags": []
   },
   "source": [
    "## Muni 19th B"
   ]
  },
  {
   "cell_type": "code",
   "execution_count": 20,
   "id": "e3158577-c1ba-4d17-9973-23b04cabf0ea",
   "metadata": {},
   "outputs": [],
   "source": [
    "rt_day.autocorridor(shape_id = '2808', stop_seq_range = [32, 37])"
   ]
  },
  {
   "cell_type": "code",
   "execution_count": 21,
   "id": "cdefdb6d-ec40-4ab7-aa7b-d9aa1e112618",
   "metadata": {},
   "outputs": [
    {
     "data": {
      "text/html": [
       "<div>\n",
       "<style scoped>\n",
       "    .dataframe tbody tr th:only-of-type {\n",
       "        vertical-align: middle;\n",
       "    }\n",
       "\n",
       "    .dataframe tbody tr th {\n",
       "        vertical-align: top;\n",
       "    }\n",
       "\n",
       "    .dataframe thead th {\n",
       "        text-align: right;\n",
       "    }\n",
       "</style>\n",
       "<table border=\"1\" class=\"dataframe\">\n",
       "  <thead>\n",
       "    <tr style=\"text-align: right;\">\n",
       "      <th></th>\n",
       "      <th>route_short_name</th>\n",
       "    </tr>\n",
       "  </thead>\n",
       "  <tbody>\n",
       "    <tr>\n",
       "      <th>0</th>\n",
       "      <td>58</td>\n",
       "    </tr>\n",
       "    <tr>\n",
       "      <th>1</th>\n",
       "      <td>91</td>\n",
       "    </tr>\n",
       "    <tr>\n",
       "      <th>2</th>\n",
       "      <td>18</td>\n",
       "    </tr>\n",
       "    <tr>\n",
       "      <th>3</th>\n",
       "      <td>28</td>\n",
       "    </tr>\n",
       "    <tr>\n",
       "      <th>4</th>\n",
       "      <td>M</td>\n",
       "    </tr>\n",
       "    <tr>\n",
       "      <th>5</th>\n",
       "      <td>57</td>\n",
       "    </tr>\n",
       "    <tr>\n",
       "      <th>6</th>\n",
       "      <td>23</td>\n",
       "    </tr>\n",
       "    <tr>\n",
       "      <th>7</th>\n",
       "      <td>29</td>\n",
       "    </tr>\n",
       "  </tbody>\n",
       "</table>\n",
       "</div>"
      ],
      "text/plain": [
       "  route_short_name\n",
       "0               58\n",
       "1               91\n",
       "2               18\n",
       "3               28\n",
       "4                M\n",
       "5               57\n",
       "6               23\n",
       "7               29"
      ]
     },
     "execution_count": 21,
     "metadata": {},
     "output_type": "execute_result"
    }
   ],
   "source": [
    "rt_day.corridor_stop_delays >> distinct(_.route_short_name)"
   ]
  },
  {
   "cell_type": "code",
   "execution_count": 22,
   "id": "6c803d57-ca0d-4d4b-8e58-e771f7f5e4c5",
   "metadata": {},
   "outputs": [
    {
     "name": "stdout",
     "output_type": "stream",
     "text": [
      "metrics attached to self.corridor: \n"
     ]
    },
    {
     "data": {
      "text/html": [
       "<div>\n",
       "<style scoped>\n",
       "    .dataframe tbody tr th:only-of-type {\n",
       "        vertical-align: middle;\n",
       "    }\n",
       "\n",
       "    .dataframe tbody tr th {\n",
       "        vertical-align: top;\n",
       "    }\n",
       "\n",
       "    .dataframe thead th {\n",
       "        text-align: right;\n",
       "    }\n",
       "</style>\n",
       "<table border=\"1\" class=\"dataframe\">\n",
       "  <thead>\n",
       "    <tr style=\"text-align: right;\">\n",
       "      <th></th>\n",
       "      <th>route_id</th>\n",
       "      <th>route_short_name</th>\n",
       "      <th>organization</th>\n",
       "      <th>p20_corr_mph</th>\n",
       "      <th>speed_delay_minutes</th>\n",
       "      <th>total_speed_delay</th>\n",
       "      <th>p50_runtime_minutes</th>\n",
       "      <th>n_trips</th>\n",
       "      <th>span_hours</th>\n",
       "      <th>daily_avg_trips_hr</th>\n",
       "      <th>trips_added</th>\n",
       "      <th>new_avg_trips_hr</th>\n",
       "      <th>geometry</th>\n",
       "    </tr>\n",
       "  </thead>\n",
       "  <tbody>\n",
       "    <tr>\n",
       "      <th>0</th>\n",
       "      <td>28</td>\n",
       "      <td>28</td>\n",
       "      <td>City and County of San Francisco</td>\n",
       "      <td>10.2</td>\n",
       "      <td>506.9</td>\n",
       "      <td>956.6</td>\n",
       "      <td>56.4</td>\n",
       "      <td>159</td>\n",
       "      <td>14.9</td>\n",
       "      <td>5.3</td>\n",
       "      <td>9.0</td>\n",
       "      <td>5.6</td>\n",
       "      <td>POLYGON ((-217636.048 -31045.226, -217636.036 ...</td>\n",
       "    </tr>\n",
       "    <tr>\n",
       "      <th>1</th>\n",
       "      <td>29</td>\n",
       "      <td>29</td>\n",
       "      <td>City and County of San Francisco</td>\n",
       "      <td>7.9</td>\n",
       "      <td>449.7</td>\n",
       "      <td>956.6</td>\n",
       "      <td>70.7</td>\n",
       "      <td>180</td>\n",
       "      <td>15.0</td>\n",
       "      <td>6.0</td>\n",
       "      <td>6.4</td>\n",
       "      <td>6.2</td>\n",
       "      <td>POLYGON ((-217636.048 -31045.226, -217636.036 ...</td>\n",
       "    </tr>\n",
       "  </tbody>\n",
       "</table>\n",
       "</div>"
      ],
      "text/plain": [
       "  route_id route_short_name                      organization  p20_corr_mph  \\\n",
       "0       28               28  City and County of San Francisco          10.2   \n",
       "1       29               29  City and County of San Francisco           7.9   \n",
       "\n",
       "   speed_delay_minutes  total_speed_delay  p50_runtime_minutes  n_trips  \\\n",
       "0                506.9              956.6                 56.4      159   \n",
       "1                449.7              956.6                 70.7      180   \n",
       "\n",
       "   span_hours  daily_avg_trips_hr  trips_added  new_avg_trips_hr  \\\n",
       "0        14.9                 5.3          9.0               5.6   \n",
       "1        15.0                 6.0          6.4               6.2   \n",
       "\n",
       "                                            geometry  \n",
       "0  POLYGON ((-217636.048 -31045.226, -217636.036 ...  \n",
       "1  POLYGON ((-217636.048 -31045.226, -217636.036 ...  "
      ]
     },
     "execution_count": 22,
     "metadata": {},
     "output_type": "execute_result"
    }
   ],
   "source": [
    "rt_day.corridor_metrics()"
   ]
  },
  {
   "cell_type": "code",
   "execution_count": 23,
   "id": "32de4a73-90d2-476f-9551-e72e9e81bd78",
   "metadata": {},
   "outputs": [
    {
     "data": {
      "text/html": [
       "<div style=\"width:100%;\"><div style=\"position:relative;width:100%;height:0;padding-bottom:60%;\"><span style=\"color:#565656\">Make this Notebook Trusted to load map: File -> Trust Notebook</span><iframe src=\"about:blank\" style=\"position:absolute;width:100%;height:100%;left:0;top:0;border:none !important;\" data-html=%3C%21DOCTYPE%20html%3E%0A%3Chead%3E%20%20%20%20%0A%20%20%20%20%3Cmeta%20http-equiv%3D%22content-type%22%20content%3D%22text/html%3B%20charset%3DUTF-8%22%20/%3E%0A%20%20%20%20%0A%20%20%20%20%20%20%20%20%3Cscript%3E%0A%20%20%20%20%20%20%20%20%20%20%20%20L_NO_TOUCH%20%3D%20false%3B%0A%20%20%20%20%20%20%20%20%20%20%20%20L_DISABLE_3D%20%3D%20false%3B%0A%20%20%20%20%20%20%20%20%3C/script%3E%0A%20%20%20%20%0A%20%20%20%20%3Cstyle%3Ehtml%2C%20body%20%7Bwidth%3A%20100%25%3Bheight%3A%20100%25%3Bmargin%3A%200%3Bpadding%3A%200%3B%7D%3C/style%3E%0A%20%20%20%20%3Cstyle%3E%23map%20%7Bposition%3Aabsolute%3Btop%3A0%3Bbottom%3A0%3Bright%3A0%3Bleft%3A0%3B%7D%3C/style%3E%0A%20%20%20%20%3Cscript%20src%3D%22https%3A//cdn.jsdelivr.net/npm/leaflet%401.6.0/dist/leaflet.js%22%3E%3C/script%3E%0A%20%20%20%20%3Cscript%20src%3D%22https%3A//code.jquery.com/jquery-1.12.4.min.js%22%3E%3C/script%3E%0A%20%20%20%20%3Cscript%20src%3D%22https%3A//maxcdn.bootstrapcdn.com/bootstrap/3.2.0/js/bootstrap.min.js%22%3E%3C/script%3E%0A%20%20%20%20%3Cscript%20src%3D%22https%3A//cdnjs.cloudflare.com/ajax/libs/Leaflet.awesome-markers/2.0.2/leaflet.awesome-markers.js%22%3E%3C/script%3E%0A%20%20%20%20%3Clink%20rel%3D%22stylesheet%22%20href%3D%22https%3A//cdn.jsdelivr.net/npm/leaflet%401.6.0/dist/leaflet.css%22/%3E%0A%20%20%20%20%3Clink%20rel%3D%22stylesheet%22%20href%3D%22https%3A//maxcdn.bootstrapcdn.com/bootstrap/3.2.0/css/bootstrap.min.css%22/%3E%0A%20%20%20%20%3Clink%20rel%3D%22stylesheet%22%20href%3D%22https%3A//maxcdn.bootstrapcdn.com/bootstrap/3.2.0/css/bootstrap-theme.min.css%22/%3E%0A%20%20%20%20%3Clink%20rel%3D%22stylesheet%22%20href%3D%22https%3A//maxcdn.bootstrapcdn.com/font-awesome/4.6.3/css/font-awesome.min.css%22/%3E%0A%20%20%20%20%3Clink%20rel%3D%22stylesheet%22%20href%3D%22https%3A//cdnjs.cloudflare.com/ajax/libs/Leaflet.awesome-markers/2.0.2/leaflet.awesome-markers.css%22/%3E%0A%20%20%20%20%3Clink%20rel%3D%22stylesheet%22%20href%3D%22https%3A//cdn.jsdelivr.net/gh/python-visualization/folium/folium/templates/leaflet.awesome.rotate.min.css%22/%3E%0A%20%20%20%20%0A%20%20%20%20%20%20%20%20%20%20%20%20%3Cmeta%20name%3D%22viewport%22%20content%3D%22width%3Ddevice-width%2C%0A%20%20%20%20%20%20%20%20%20%20%20%20%20%20%20%20initial-scale%3D1.0%2C%20maximum-scale%3D1.0%2C%20user-scalable%3Dno%22%20/%3E%0A%20%20%20%20%20%20%20%20%20%20%20%20%3Cstyle%3E%0A%20%20%20%20%20%20%20%20%20%20%20%20%20%20%20%20%23map_6fb2c922d6e14ddf8c79688b9e58db3d%20%7B%0A%20%20%20%20%20%20%20%20%20%20%20%20%20%20%20%20%20%20%20%20position%3A%20relative%3B%0A%20%20%20%20%20%20%20%20%20%20%20%20%20%20%20%20%20%20%20%20width%3A%20100.0%25%3B%0A%20%20%20%20%20%20%20%20%20%20%20%20%20%20%20%20%20%20%20%20height%3A%20100.0%25%3B%0A%20%20%20%20%20%20%20%20%20%20%20%20%20%20%20%20%20%20%20%20left%3A%200.0%25%3B%0A%20%20%20%20%20%20%20%20%20%20%20%20%20%20%20%20%20%20%20%20top%3A%200.0%25%3B%0A%20%20%20%20%20%20%20%20%20%20%20%20%20%20%20%20%7D%0A%20%20%20%20%20%20%20%20%20%20%20%20%3C/style%3E%0A%20%20%20%20%20%20%20%20%0A%20%20%20%20%0A%20%20%20%20%20%20%20%20%20%20%20%20%20%20%20%20%20%20%20%20%3Cstyle%3E%0A%20%20%20%20%20%20%20%20%20%20%20%20%20%20%20%20%20%20%20%20%20%20%20%20.foliumtooltip%20%7B%0A%20%20%20%20%20%20%20%20%20%20%20%20%20%20%20%20%20%20%20%20%20%20%20%20%20%20%20%20%0A%20%20%20%20%20%20%20%20%20%20%20%20%20%20%20%20%20%20%20%20%20%20%20%20%7D%0A%20%20%20%20%20%20%20%20%20%20%20%20%20%20%20%20%20%20%20%20%20%20%20.foliumtooltip%20table%7B%0A%20%20%20%20%20%20%20%20%20%20%20%20%20%20%20%20%20%20%20%20%20%20%20%20%20%20%20%20margin%3A%20auto%3B%0A%20%20%20%20%20%20%20%20%20%20%20%20%20%20%20%20%20%20%20%20%20%20%20%20%7D%0A%20%20%20%20%20%20%20%20%20%20%20%20%20%20%20%20%20%20%20%20%20%20%20%20.foliumtooltip%20tr%7B%0A%20%20%20%20%20%20%20%20%20%20%20%20%20%20%20%20%20%20%20%20%20%20%20%20%20%20%20%20text-align%3A%20left%3B%0A%20%20%20%20%20%20%20%20%20%20%20%20%20%20%20%20%20%20%20%20%20%20%20%20%7D%0A%20%20%20%20%20%20%20%20%20%20%20%20%20%20%20%20%20%20%20%20%20%20%20%20.foliumtooltip%20th%7B%0A%20%20%20%20%20%20%20%20%20%20%20%20%20%20%20%20%20%20%20%20%20%20%20%20%20%20%20%20padding%3A%202px%3B%20padding-right%3A%208px%3B%0A%20%20%20%20%20%20%20%20%20%20%20%20%20%20%20%20%20%20%20%20%20%20%20%20%7D%0A%20%20%20%20%20%20%20%20%20%20%20%20%20%20%20%20%20%20%20%20%3C/style%3E%0A%20%20%20%20%20%20%20%20%20%20%20%20%0A%3C/head%3E%0A%3Cbody%3E%20%20%20%20%0A%20%20%20%20%0A%20%20%20%20%20%20%20%20%20%20%20%20%3Cdiv%20class%3D%22folium-map%22%20id%3D%22map_6fb2c922d6e14ddf8c79688b9e58db3d%22%20%3E%3C/div%3E%0A%20%20%20%20%20%20%20%20%0A%3C/body%3E%0A%3Cscript%3E%20%20%20%20%0A%20%20%20%20%0A%20%20%20%20%20%20%20%20%20%20%20%20var%20map_6fb2c922d6e14ddf8c79688b9e58db3d%20%3D%20L.map%28%0A%20%20%20%20%20%20%20%20%20%20%20%20%20%20%20%20%22map_6fb2c922d6e14ddf8c79688b9e58db3d%22%2C%0A%20%20%20%20%20%20%20%20%20%20%20%20%20%20%20%20%7B%0A%20%20%20%20%20%20%20%20%20%20%20%20%20%20%20%20%20%20%20%20center%3A%20%5B37.72265500000006%2C%20-122.47401500000001%5D%2C%0A%20%20%20%20%20%20%20%20%20%20%20%20%20%20%20%20%20%20%20%20crs%3A%20L.CRS.EPSG3857%2C%0A%20%20%20%20%20%20%20%20%20%20%20%20%20%20%20%20%20%20%20%20zoom%3A%2010%2C%0A%20%20%20%20%20%20%20%20%20%20%20%20%20%20%20%20%20%20%20%20zoomControl%3A%20true%2C%0A%20%20%20%20%20%20%20%20%20%20%20%20%20%20%20%20%20%20%20%20preferCanvas%3A%20false%2C%0A%20%20%20%20%20%20%20%20%20%20%20%20%20%20%20%20%7D%0A%20%20%20%20%20%20%20%20%20%20%20%20%29%3B%0A%20%20%20%20%20%20%20%20%20%20%20%20L.control.scale%28%29.addTo%28map_6fb2c922d6e14ddf8c79688b9e58db3d%29%3B%0A%0A%20%20%20%20%20%20%20%20%20%20%20%20%0A%0A%20%20%20%20%20%20%20%20%0A%20%20%20%20%0A%20%20%20%20%20%20%20%20%20%20%20%20var%20tile_layer_fca62653b49d4c1a80fb5da58c14c792%20%3D%20L.tileLayer%28%0A%20%20%20%20%20%20%20%20%20%20%20%20%20%20%20%20%22https%3A//a.basemaps.cartocdn.com/light_all/%7Bz%7D/%7Bx%7D/%7By%7D%7Br%7D.png%22%2C%0A%20%20%20%20%20%20%20%20%20%20%20%20%20%20%20%20%7B%22attribution%22%3A%20%22%5Cu0026copy%3B%20%5Cu003ca%20href%3D%5C%22https%3A//www.openstreetmap.org/copyright%5C%22%5Cu003eOpenStreetMap%5Cu003c/a%5Cu003e%20contributors%20%5Cu0026copy%3B%20%5Cu003ca%20href%3D%5C%22https%3A//carto.com/attributions%5C%22%5Cu003eCARTO%5Cu003c/a%5Cu003e%22%2C%20%22detectRetina%22%3A%20false%2C%20%22maxNativeZoom%22%3A%2020%2C%20%22maxZoom%22%3A%2020%2C%20%22minZoom%22%3A%200%2C%20%22noWrap%22%3A%20false%2C%20%22opacity%22%3A%201%2C%20%22subdomains%22%3A%20%22abc%22%2C%20%22tms%22%3A%20false%7D%0A%20%20%20%20%20%20%20%20%20%20%20%20%29.addTo%28map_6fb2c922d6e14ddf8c79688b9e58db3d%29%3B%0A%20%20%20%20%20%20%20%20%0A%20%20%20%20%0A%20%20%20%20%20%20%20%20%20%20%20%20map_6fb2c922d6e14ddf8c79688b9e58db3d.fitBounds%28%0A%20%20%20%20%20%20%20%20%20%20%20%20%20%20%20%20%5B%5B37.70576400000009%2C%20-122.47875700000002%5D%2C%20%5B37.739546000000026%2C%20-122.46927299999999%5D%5D%2C%0A%20%20%20%20%20%20%20%20%20%20%20%20%20%20%20%20%7B%7D%0A%20%20%20%20%20%20%20%20%20%20%20%20%29%3B%0A%20%20%20%20%20%20%20%20%0A%20%20%20%20%0A%20%20%20%20%20%20%20%20function%20geo_json_ac4cdb2cab97475c80b84153a834adfe_styler%28feature%29%20%7B%0A%20%20%20%20%20%20%20%20%20%20%20%20switch%28feature.id%29%20%7B%0A%20%20%20%20%20%20%20%20%20%20%20%20%20%20%20%20default%3A%0A%20%20%20%20%20%20%20%20%20%20%20%20%20%20%20%20%20%20%20%20return%20%7B%22fillOpacity%22%3A%200.5%2C%20%22weight%22%3A%202%7D%3B%0A%20%20%20%20%20%20%20%20%20%20%20%20%7D%0A%20%20%20%20%20%20%20%20%7D%0A%20%20%20%20%20%20%20%20function%20geo_json_ac4cdb2cab97475c80b84153a834adfe_highlighter%28feature%29%20%7B%0A%20%20%20%20%20%20%20%20%20%20%20%20switch%28feature.id%29%20%7B%0A%20%20%20%20%20%20%20%20%20%20%20%20%20%20%20%20default%3A%0A%20%20%20%20%20%20%20%20%20%20%20%20%20%20%20%20%20%20%20%20return%20%7B%22fillOpacity%22%3A%200.75%7D%3B%0A%20%20%20%20%20%20%20%20%20%20%20%20%7D%0A%20%20%20%20%20%20%20%20%7D%0A%20%20%20%20%20%20%20%20function%20geo_json_ac4cdb2cab97475c80b84153a834adfe_pointToLayer%28feature%2C%20latlng%29%20%7B%0A%20%20%20%20%20%20%20%20%20%20%20%20var%20opts%20%3D%20%7B%22bubblingMouseEvents%22%3A%20true%2C%20%22color%22%3A%20%22%233388ff%22%2C%20%22dashArray%22%3A%20null%2C%20%22dashOffset%22%3A%20null%2C%20%22fill%22%3A%20true%2C%20%22fillColor%22%3A%20%22%233388ff%22%2C%20%22fillOpacity%22%3A%200.2%2C%20%22fillRule%22%3A%20%22evenodd%22%2C%20%22lineCap%22%3A%20%22round%22%2C%20%22lineJoin%22%3A%20%22round%22%2C%20%22opacity%22%3A%201.0%2C%20%22radius%22%3A%202%2C%20%22stroke%22%3A%20true%2C%20%22weight%22%3A%203%7D%3B%0A%20%20%20%20%20%20%20%20%20%20%20%20%0A%20%20%20%20%20%20%20%20%20%20%20%20let%20style%20%3D%20geo_json_ac4cdb2cab97475c80b84153a834adfe_styler%28feature%29%0A%20%20%20%20%20%20%20%20%20%20%20%20Object.assign%28opts%2C%20style%29%0A%20%20%20%20%20%20%20%20%20%20%20%20%0A%20%20%20%20%20%20%20%20%20%20%20%20return%20new%20L.CircleMarker%28latlng%2C%20opts%29%0A%20%20%20%20%20%20%20%20%7D%0A%0A%20%20%20%20%20%20%20%20function%20geo_json_ac4cdb2cab97475c80b84153a834adfe_onEachFeature%28feature%2C%20layer%29%20%7B%0A%20%20%20%20%20%20%20%20%20%20%20%20layer.on%28%7B%0A%20%20%20%20%20%20%20%20%20%20%20%20%20%20%20%20mouseout%3A%20function%28e%29%20%7B%0A%20%20%20%20%20%20%20%20%20%20%20%20%20%20%20%20%20%20%20%20if%28typeof%20e.target.setStyle%20%3D%3D%3D%20%22function%22%29%7B%0A%20%20%20%20%20%20%20%20%20%20%20%20%20%20%20%20%20%20%20%20%20%20%20%20geo_json_ac4cdb2cab97475c80b84153a834adfe.resetStyle%28e.target%29%3B%0A%20%20%20%20%20%20%20%20%20%20%20%20%20%20%20%20%20%20%20%20%7D%0A%20%20%20%20%20%20%20%20%20%20%20%20%20%20%20%20%7D%2C%0A%20%20%20%20%20%20%20%20%20%20%20%20%20%20%20%20mouseover%3A%20function%28e%29%20%7B%0A%20%20%20%20%20%20%20%20%20%20%20%20%20%20%20%20%20%20%20%20if%28typeof%20e.target.setStyle%20%3D%3D%3D%20%22function%22%29%7B%0A%20%20%20%20%20%20%20%20%20%20%20%20%20%20%20%20%20%20%20%20%20%20%20%20const%20highlightStyle%20%3D%20geo_json_ac4cdb2cab97475c80b84153a834adfe_highlighter%28e.target.feature%29%0A%20%20%20%20%20%20%20%20%20%20%20%20%20%20%20%20%20%20%20%20%20%20%20%20e.target.setStyle%28highlightStyle%29%3B%0A%20%20%20%20%20%20%20%20%20%20%20%20%20%20%20%20%20%20%20%20%7D%0A%20%20%20%20%20%20%20%20%20%20%20%20%20%20%20%20%7D%2C%0A%20%20%20%20%20%20%20%20%20%20%20%20%7D%29%3B%0A%20%20%20%20%20%20%20%20%7D%3B%0A%20%20%20%20%20%20%20%20var%20geo_json_ac4cdb2cab97475c80b84153a834adfe%20%3D%20L.geoJson%28null%2C%20%7B%0A%20%20%20%20%20%20%20%20%20%20%20%20%20%20%20%20onEachFeature%3A%20geo_json_ac4cdb2cab97475c80b84153a834adfe_onEachFeature%2C%0A%20%20%20%20%20%20%20%20%20%20%20%20%0A%20%20%20%20%20%20%20%20%20%20%20%20%20%20%20%20style%3A%20geo_json_ac4cdb2cab97475c80b84153a834adfe_styler%2C%0A%20%20%20%20%20%20%20%20%20%20%20%20%20%20%20%20pointToLayer%3A%20geo_json_ac4cdb2cab97475c80b84153a834adfe_pointToLayer%0A%20%20%20%20%20%20%20%20%7D%29%3B%0A%0A%20%20%20%20%20%20%20%20function%20geo_json_ac4cdb2cab97475c80b84153a834adfe_add%20%28data%29%20%7B%0A%20%20%20%20%20%20%20%20%20%20%20%20geo_json_ac4cdb2cab97475c80b84153a834adfe%0A%20%20%20%20%20%20%20%20%20%20%20%20%20%20%20%20.addData%28data%29%0A%20%20%20%20%20%20%20%20%20%20%20%20%20%20%20%20.addTo%28map_6fb2c922d6e14ddf8c79688b9e58db3d%29%3B%0A%20%20%20%20%20%20%20%20%7D%0A%20%20%20%20%20%20%20%20%20%20%20%20geo_json_ac4cdb2cab97475c80b84153a834adfe_add%28%7B%22bbox%22%3A%20%5B-122.47875700000002%2C%2037.70576400000009%2C%20-122.46927299999999%2C%2037.739546000000026%5D%2C%20%22features%22%3A%20%5B%7B%22bbox%22%3A%20%5B-122.47552999999999%2C%2037.73901%2C%20-122.47552999999999%2C%2037.73901%5D%2C%20%22geometry%22%3A%20%7B%22coordinates%22%3A%20%5B-122.47552999999999%2C%2037.73901%5D%2C%20%22type%22%3A%20%22Point%22%7D%2C%20%22id%22%3A%20%2229%22%2C%20%22properties%22%3A%20%7B%22shape_id%22%3A%20%222808%22%2C%20%22stop_id%22%3A%20%2213399%22%2C%20%22stop_sequence%22%3A%2030.0%2C%20%22total_speed_delay%22%3A%20null%7D%2C%20%22type%22%3A%20%22Feature%22%7D%2C%20%7B%22bbox%22%3A%20%5B-122.47520300000001%2C%2037.73455599999998%2C%20-122.47520300000001%2C%2037.73455599999998%5D%2C%20%22geometry%22%3A%20%7B%22coordinates%22%3A%20%5B-122.47520300000001%2C%2037.73455599999998%5D%2C%20%22type%22%3A%20%22Point%22%7D%2C%20%22id%22%3A%20%2230%22%2C%20%22properties%22%3A%20%7B%22shape_id%22%3A%20%222808%22%2C%20%22stop_id%22%3A%20%2213390%22%2C%20%22stop_sequence%22%3A%2031.0%2C%20%22total_speed_delay%22%3A%20null%7D%2C%20%22type%22%3A%20%22Feature%22%7D%2C%20%7B%22bbox%22%3A%20%5B-122.475012%2C%2037.73081300000003%2C%20-122.475012%2C%2037.73081300000003%5D%2C%20%22geometry%22%3A%20%7B%22coordinates%22%3A%20%5B-122.475012%2C%2037.73081300000003%5D%2C%20%22type%22%3A%20%22Point%22%7D%2C%20%22id%22%3A%20%2231%22%2C%20%22properties%22%3A%20%7B%22shape_id%22%3A%20%222808%22%2C%20%22stop_id%22%3A%20%2213354%22%2C%20%22stop_sequence%22%3A%2032.0%2C%20%22total_speed_delay%22%3A%20null%7D%2C%20%22type%22%3A%20%22Feature%22%7D%2C%20%7B%22bbox%22%3A%20%5B-122.47509799999999%2C%2037.72725800000003%2C%20-122.47509799999999%2C%2037.72725800000003%5D%2C%20%22geometry%22%3A%20%7B%22coordinates%22%3A%20%5B-122.47509799999999%2C%2037.72725800000003%5D%2C%20%22type%22%3A%20%22Point%22%7D%2C%20%22id%22%3A%20%2232%22%2C%20%22properties%22%3A%20%7B%22shape_id%22%3A%20%222808%22%2C%20%22stop_id%22%3A%20%2217448%22%2C%20%22stop_sequence%22%3A%2033.0%2C%20%22total_speed_delay%22%3A%20null%7D%2C%20%22type%22%3A%20%22Feature%22%7D%2C%20%7B%22bbox%22%3A%20%5B-122.47530200000001%2C%2037.72111000000001%2C%20-122.47530200000001%2C%2037.72111000000001%5D%2C%20%22geometry%22%3A%20%7B%22coordinates%22%3A%20%5B-122.47530200000001%2C%2037.72111000000001%5D%2C%20%22type%22%3A%20%22Point%22%7D%2C%20%22id%22%3A%20%2233%22%2C%20%22properties%22%3A%20%7B%22shape_id%22%3A%20%222808%22%2C%20%22stop_id%22%3A%20%2213356%22%2C%20%22stop_sequence%22%3A%2034.0%2C%20%22total_speed_delay%22%3A%20null%7D%2C%20%22type%22%3A%20%22Feature%22%7D%2C%20%7B%22bbox%22%3A%20%5B-122.47297%2C%2037.717323%2C%20-122.47297%2C%2037.717323%5D%2C%20%22geometry%22%3A%20%7B%22coordinates%22%3A%20%5B-122.47297%2C%2037.717323%5D%2C%20%22type%22%3A%20%22Point%22%7D%2C%20%22id%22%3A%20%2234%22%2C%20%22properties%22%3A%20%7B%22shape_id%22%3A%20%222808%22%2C%20%22stop_id%22%3A%20%2213363%22%2C%20%22stop_sequence%22%3A%2035.0%2C%20%22total_speed_delay%22%3A%20null%7D%2C%20%22type%22%3A%20%22Feature%22%7D%2C%20%7B%22bbox%22%3A%20%5B-122.47190999999998%2C%2037.714630000000014%2C%20-122.47190999999998%2C%2037.714630000000014%5D%2C%20%22geometry%22%3A%20%7B%22coordinates%22%3A%20%5B-122.47190999999998%2C%2037.714630000000014%5D%2C%20%22type%22%3A%20%22Point%22%7D%2C%20%22id%22%3A%20%2235%22%2C%20%22properties%22%3A%20%7B%22shape_id%22%3A%20%222808%22%2C%20%22stop_id%22%3A%20%2215136%22%2C%20%22stop_sequence%22%3A%2036.0%2C%20%22total_speed_delay%22%3A%20null%7D%2C%20%22type%22%3A%20%22Feature%22%7D%2C%20%7B%22bbox%22%3A%20%5B-122.47132400000001%2C%2037.71070699999999%2C%20-122.47132400000001%2C%2037.71070699999999%5D%2C%20%22geometry%22%3A%20%7B%22coordinates%22%3A%20%5B-122.47132400000001%2C%2037.71070699999999%5D%2C%20%22type%22%3A%20%22Point%22%7D%2C%20%22id%22%3A%20%2236%22%2C%20%22properties%22%3A%20%7B%22shape_id%22%3A%20%222808%22%2C%20%22stop_id%22%3A%20%2215135%22%2C%20%22stop_sequence%22%3A%2037.0%2C%20%22total_speed_delay%22%3A%20null%7D%2C%20%22type%22%3A%20%22Feature%22%7D%2C%20%7B%22bbox%22%3A%20%5B-122.47875700000002%2C%2037.72795199999996%2C%20-122.47875700000002%2C%2037.72795199999996%5D%2C%20%22geometry%22%3A%20%7B%22coordinates%22%3A%20%5B-122.47875700000002%2C%2037.72795199999996%5D%2C%20%22type%22%3A%20%22Point%22%7D%2C%20%22id%22%3A%20%22159%22%2C%20%22properties%22%3A%20%7B%22shape_id%22%3A%20%222900%22%2C%20%22stop_id%22%3A%20%2216953%22%2C%20%22stop_sequence%22%3A%2041.0%2C%20%22total_speed_delay%22%3A%20null%7D%2C%20%22type%22%3A%20%22Feature%22%7D%2C%20%7B%22bbox%22%3A%20%5B-122.475739%2C%2037.72688300000003%2C%20-122.475739%2C%2037.72688300000003%5D%2C%20%22geometry%22%3A%20%7B%22coordinates%22%3A%20%5B-122.475739%2C%2037.72688300000003%5D%2C%20%22type%22%3A%20%22Point%22%7D%2C%20%22id%22%3A%20%22160%22%2C%20%22properties%22%3A%20%7B%22shape_id%22%3A%20%222900%22%2C%20%22stop_id%22%3A%20%2216951%22%2C%20%22stop_sequence%22%3A%2042.0%2C%20%22total_speed_delay%22%3A%20null%7D%2C%20%22type%22%3A%20%22Feature%22%7D%2C%20%7B%22bbox%22%3A%20%5B-122.47530200000001%2C%2037.72111000000001%2C%20-122.47530200000001%2C%2037.72111000000001%5D%2C%20%22geometry%22%3A%20%7B%22coordinates%22%3A%20%5B-122.47530200000001%2C%2037.72111000000001%5D%2C%20%22type%22%3A%20%22Point%22%7D%2C%20%22id%22%3A%20%22161%22%2C%20%22properties%22%3A%20%7B%22shape_id%22%3A%20%222900%22%2C%20%22stop_id%22%3A%20%2213356%22%2C%20%22stop_sequence%22%3A%2043.0%2C%20%22total_speed_delay%22%3A%20null%7D%2C%20%22type%22%3A%20%22Feature%22%7D%2C%20%7B%22bbox%22%3A%20%5B-122.47594%2C%2037.72010000000001%2C%20-122.47594%2C%2037.72010000000001%5D%2C%20%22geometry%22%3A%20%7B%22coordinates%22%3A%20%5B-122.47594%2C%2037.72010000000001%5D%2C%20%22type%22%3A%20%22Point%22%7D%2C%20%22id%22%3A%20%22162%22%2C%20%22properties%22%3A%20%7B%22shape_id%22%3A%20%222900%22%2C%20%22stop_id%22%3A%20%2214207%22%2C%20%22stop_sequence%22%3A%2044.0%2C%20%22total_speed_delay%22%3A%20null%7D%2C%20%22type%22%3A%20%22Feature%22%7D%2C%20%7B%22bbox%22%3A%20%5B-122.47500400000001%2C%2037.72094000000002%2C%20-122.47500400000001%2C%2037.72094000000002%5D%2C%20%22geometry%22%3A%20%7B%22coordinates%22%3A%20%5B-122.47500400000001%2C%2037.72094000000002%5D%2C%20%22type%22%3A%20%22Point%22%7D%2C%20%22id%22%3A%20%22163%22%2C%20%22properties%22%3A%20%7B%22shape_id%22%3A%20%222900%22%2C%20%22stop_id%22%3A%20%2213357%22%2C%20%22stop_sequence%22%3A%2045.0%2C%20%22total_speed_delay%22%3A%20null%7D%2C%20%22type%22%3A%20%22Feature%22%7D%2C%20%7B%22bbox%22%3A%20%5B-122.472713%2C%2037.72148500000004%2C%20-122.472713%2C%2037.72148500000004%5D%2C%20%22geometry%22%3A%20%7B%22coordinates%22%3A%20%5B-122.472713%2C%2037.72148500000004%5D%2C%20%22type%22%3A%20%22Point%22%7D%2C%20%22id%22%3A%20%22164%22%2C%20%22properties%22%3A%20%7B%22shape_id%22%3A%20%222900%22%2C%20%22stop_id%22%3A%20%2215037%22%2C%20%22stop_sequence%22%3A%2046.0%2C%20%22total_speed_delay%22%3A%20null%7D%2C%20%22type%22%3A%20%22Feature%22%7D%2C%20%7B%22bbox%22%3A%20%5B-122.47295399999999%2C%2037.721591999999994%2C%20-122.47295399999999%2C%2037.721591999999994%5D%2C%20%22geometry%22%3A%20%7B%22coordinates%22%3A%20%5B-122.47295399999999%2C%2037.721591999999994%5D%2C%20%22type%22%3A%20%22Point%22%7D%2C%20%22id%22%3A%20%22252%22%2C%20%22properties%22%3A%20%7B%22shape_id%22%3A%20%222950%22%2C%20%22stop_id%22%3A%20%2215036%22%2C%20%22stop_sequence%22%3A%2050.0%2C%20%22total_speed_delay%22%3A%20null%7D%2C%20%22type%22%3A%20%22Feature%22%7D%2C%20%7B%22bbox%22%3A%20%5B-122.475153%2C%2037.721189999999986%2C%20-122.475153%2C%2037.721189999999986%5D%2C%20%22geometry%22%3A%20%7B%22coordinates%22%3A%20%5B-122.475153%2C%2037.721189999999986%5D%2C%20%22type%22%3A%20%22Point%22%7D%2C%20%22id%22%3A%20%22253%22%2C%20%22properties%22%3A%20%7B%22shape_id%22%3A%20%222950%22%2C%20%22stop_id%22%3A%20%2210390%22%2C%20%22stop_sequence%22%3A%2051.0%2C%20%22total_speed_delay%22%3A%20null%7D%2C%20%22type%22%3A%20%22Feature%22%7D%2C%20%7B%22bbox%22%3A%20%5B-122.475922%2C%2037.72701699999996%2C%20-122.475922%2C%2037.72701699999996%5D%2C%20%22geometry%22%3A%20%7B%22coordinates%22%3A%20%5B-122.475922%2C%2037.72701699999996%5D%2C%20%22type%22%3A%20%22Point%22%7D%2C%20%22id%22%3A%20%22254%22%2C%20%22properties%22%3A%20%7B%22shape_id%22%3A%20%222950%22%2C%20%22stop_id%22%3A%20%2216950%22%2C%20%22stop_sequence%22%3A%2052.0%2C%20%22total_speed_delay%22%3A%20null%7D%2C%20%22type%22%3A%20%22Feature%22%7D%2C%20%7B%22bbox%22%3A%20%5B-122.47848799999998%2C%2037.728059999999985%2C%20-122.47848799999998%2C%2037.728059999999985%5D%2C%20%22geometry%22%3A%20%7B%22coordinates%22%3A%20%5B-122.47848799999998%2C%2037.728059999999985%5D%2C%20%22type%22%3A%20%22Point%22%7D%2C%20%22id%22%3A%20%22255%22%2C%20%22properties%22%3A%20%7B%22shape_id%22%3A%20%222950%22%2C%20%22stop_id%22%3A%20%2216952%22%2C%20%22stop_sequence%22%3A%2053.0%2C%20%22total_speed_delay%22%3A%20null%7D%2C%20%22type%22%3A%20%22Feature%22%7D%2C%20%7B%22bbox%22%3A%20%5B-122.46927299999999%2C%2037.70576400000009%2C%20-122.46927299999999%2C%2037.70576400000009%5D%2C%20%22geometry%22%3A%20%7B%22coordinates%22%3A%20%5B-122.46927299999999%2C%2037.70576400000009%5D%2C%20%22type%22%3A%20%22Point%22%7D%2C%20%22id%22%3A%20%22379%22%2C%20%22properties%22%3A%20%7B%22shape_id%22%3A%20%222856%22%2C%20%22stop_id%22%3A%20%2214341%22%2C%20%22stop_sequence%22%3A%202.0%2C%20%22total_speed_delay%22%3A%20null%7D%2C%20%22type%22%3A%20%22Feature%22%7D%2C%20%7B%22bbox%22%3A%20%5B-122.47099000000001%2C%2037.710909999999984%2C%20-122.47099000000001%2C%2037.710909999999984%5D%2C%20%22geometry%22%3A%20%7B%22coordinates%22%3A%20%5B-122.47099000000001%2C%2037.710909999999984%5D%2C%20%22type%22%3A%20%22Point%22%7D%2C%20%22id%22%3A%20%22380%22%2C%20%22properties%22%3A%20%7B%22shape_id%22%3A%20%222856%22%2C%20%22stop_id%22%3A%20%2215140%22%2C%20%22stop_sequence%22%3A%203.0%2C%20%22total_speed_delay%22%3A%20null%7D%2C%20%22type%22%3A%20%22Feature%22%7D%2C%20%7B%22bbox%22%3A%20%5B-122.47126000000002%2C%2037.71355%2C%20-122.47126000000002%2C%2037.71355%5D%2C%20%22geometry%22%3A%20%7B%22coordinates%22%3A%20%5B-122.47126000000002%2C%2037.71355%5D%2C%20%22type%22%3A%20%22Point%22%7D%2C%20%22id%22%3A%20%22381%22%2C%20%22properties%22%3A%20%7B%22shape_id%22%3A%20%222856%22%2C%20%22stop_id%22%3A%20%2215134%22%2C%20%22stop_sequence%22%3A%204.0%2C%20%22total_speed_delay%22%3A%20null%7D%2C%20%22type%22%3A%20%22Feature%22%7D%2C%20%7B%22bbox%22%3A%20%5B-122.47318%2C%2037.718050000000034%2C%20-122.47318%2C%2037.718050000000034%5D%2C%20%22geometry%22%3A%20%7B%22coordinates%22%3A%20%5B-122.47318%2C%2037.718050000000034%5D%2C%20%22type%22%3A%20%22Point%22%7D%2C%20%22id%22%3A%20%22382%22%2C%20%22properties%22%3A%20%7B%22shape_id%22%3A%20%222856%22%2C%20%22stop_id%22%3A%20%2213362%22%2C%20%22stop_sequence%22%3A%205.0%2C%20%22total_speed_delay%22%3A%20null%7D%2C%20%22type%22%3A%20%22Feature%22%7D%2C%20%7B%22bbox%22%3A%20%5B-122.475153%2C%2037.721189999999986%2C%20-122.475153%2C%2037.721189999999986%5D%2C%20%22geometry%22%3A%20%7B%22coordinates%22%3A%20%5B-122.475153%2C%2037.721189999999986%5D%2C%20%22type%22%3A%20%22Point%22%7D%2C%20%22id%22%3A%20%22383%22%2C%20%22properties%22%3A%20%7B%22shape_id%22%3A%20%222856%22%2C%20%22stop_id%22%3A%20%2210390%22%2C%20%22stop_sequence%22%3A%206.0%2C%20%22total_speed_delay%22%3A%20null%7D%2C%20%22type%22%3A%20%22Feature%22%7D%2C%20%7B%22bbox%22%3A%20%5B-122.47467999999999%2C%2037.72718999999999%2C%20-122.47467999999999%2C%2037.72718999999999%5D%2C%20%22geometry%22%3A%20%7B%22coordinates%22%3A%20%5B-122.47467999999999%2C%2037.72718999999999%5D%2C%20%22type%22%3A%20%22Point%22%7D%2C%20%22id%22%3A%20%22384%22%2C%20%22properties%22%3A%20%7B%22shape_id%22%3A%20%222856%22%2C%20%22stop_id%22%3A%20%2213402%22%2C%20%22stop_sequence%22%3A%207.0%2C%20%22total_speed_delay%22%3A%20null%7D%2C%20%22type%22%3A%20%22Feature%22%7D%2C%20%7B%22bbox%22%3A%20%5B-122.474759%2C%2037.731299999999976%2C%20-122.474759%2C%2037.731299999999976%5D%2C%20%22geometry%22%3A%20%7B%22coordinates%22%3A%20%5B-122.474759%2C%2037.731299999999976%5D%2C%20%22type%22%3A%20%22Point%22%7D%2C%20%22id%22%3A%20%22385%22%2C%20%22properties%22%3A%20%7B%22shape_id%22%3A%20%222856%22%2C%20%22stop_id%22%3A%20%2213355%22%2C%20%22stop_sequence%22%3A%208.0%2C%20%22total_speed_delay%22%3A%20null%7D%2C%20%22type%22%3A%20%22Feature%22%7D%2C%20%7B%22bbox%22%3A%20%5B-122.47497400000002%2C%2037.73471700000001%2C%20-122.47497400000002%2C%2037.73471700000001%5D%2C%20%22geometry%22%3A%20%7B%22coordinates%22%3A%20%5B-122.47497400000002%2C%2037.73471700000001%5D%2C%20%22type%22%3A%20%22Point%22%7D%2C%20%22id%22%3A%20%22386%22%2C%20%22properties%22%3A%20%7B%22shape_id%22%3A%20%222856%22%2C%20%22stop_id%22%3A%20%2213391%22%2C%20%22stop_sequence%22%3A%209.0%2C%20%22total_speed_delay%22%3A%20null%7D%2C%20%22type%22%3A%20%22Feature%22%7D%2C%20%7B%22bbox%22%3A%20%5B-122.47531%2C%2037.739546000000026%2C%20-122.47531%2C%2037.739546000000026%5D%2C%20%22geometry%22%3A%20%7B%22coordinates%22%3A%20%5B-122.47531%2C%2037.739546000000026%5D%2C%20%22type%22%3A%20%22Point%22%7D%2C%20%22id%22%3A%20%22387%22%2C%20%22properties%22%3A%20%7B%22shape_id%22%3A%20%222856%22%2C%20%22stop_id%22%3A%20%2213398%22%2C%20%22stop_sequence%22%3A%2010.0%2C%20%22total_speed_delay%22%3A%20null%7D%2C%20%22type%22%3A%20%22Feature%22%7D%2C%20%7B%22bbox%22%3A%20%5B-122.47637401579546%2C%2037.70980761149347%2C%20-122.47009709444143%2C%2037.735470148091885%5D%2C%20%22geometry%22%3A%20%7B%22coordinates%22%3A%20%5B%5B%5B-122.47240042576334%2C%2037.71157010021507%5D%2C%20%5B-122.472400841085%2C%2037.711587090290855%5D%2C%20%5B-122.47240351964342%2C%2037.711801116015316%5D%2C%20%5B-122.47245512066581%2C%2037.7124042723447%5D%2C%20%5B-122.47248464055615%2C%2037.71264040305326%5D%2C%20%5B-122.47260148059313%2C%2037.71326197921133%5D%2C%20%5B-122.47271644679027%2C%2037.71364700555095%5D%2C%20%5B-122.47282945625403%2C%2037.714027016943696%5D%2C%20%5B-122.47295152170504%2C%2037.71443420734194%5D%2C%20%5B-122.47295401419846%2C%2037.71444481372793%5D%2C%20%5B-122.47295422705139%2C%2037.71444323188375%5D%2C%20%5B-122.47296511934755%2C%2037.7144898464569%5D%2C%20%5B-122.47296515659976%2C%2037.71448998962431%5D%2C%20%5B-122.47347805036131%2C%2037.71587484049596%5D%2C%20%5B-122.47348734013619%2C%2037.71590142585349%5D%2C%20%5B-122.47374535085224%2C%2037.71668642349321%5D%2C%20%5B-122.47376990857565%2C%2037.716782228497124%5D%2C%20%5B-122.47378119272686%2C%2037.716879578004004%5D%2C%20%5B-122.47377923951441%2C%2037.71696951615215%5D%2C%20%5B-122.47566649127853%2C%2037.7189973197379%5D%2C%20%5B-122.47572866891709%2C%2037.71907156059905%5D%2C%20%5B-122.4757812684362%2C%2037.71915030724188%5D%2C%20%5B-122.47601427267013%2C%2037.71954530524606%5D%2C%20%5B-122.47604533145726%2C%2037.71960314521881%5D%2C%20%5B-122.4762983377278%2C%2037.72012414298629%5D%2C%20%5B-122.47633163913098%2C%2037.720203562497595%5D%2C%20%5B-122.47635547620656%2C%2037.72028508876775%5D%2C%20%5B-122.47636964263762%2C%2037.72036801626915%5D%2C%20%5B-122.47637401579546%2C%2037.72045162734558%5D%2C%20%5B-122.47637002510153%2C%2037.72106662738339%5D%2C%20%5B-122.4763659237381%2C%2037.72113851338127%5D%2C%20%5B-122.47635457900566%2C%2037.721209909792165%5D%2C%20%5B-122.47635396527951%2C%2037.721212825200126%5D%2C%20%5B-122.47624905410089%2C%2037.72312506545142%5D%2C%20%5B-122.47615316860252%2C%2037.724965402383596%5D%2C%20%5B-122.47611521427807%2C%2037.72572172031478%5D%2C%20%5B-122.4760532313537%2C%2037.726955751899375%5D%2C%20%5B-122.4760521355183%2C%2037.726973267135186%5D%2C%20%5B-122.47602753491836%2C%2037.727301656824395%5D%2C%20%5B-122.47602701574678%2C%2037.72730858713619%5D%2C%20%5B-122.47595453300846%2C%2037.72903489351345%5D%2C%20%5B-122.4759544021995%2C%2037.729037861360354%5D%2C%20%5B-122.4759269191692%2C%2037.72963320638595%5D%2C%20%5B-122.47595744071091%2C%2037.73030255030534%5D%2C%20%5B-122.47595789190952%2C%2037.73031473392497%5D%2C%20%5B-122.47597081588167%2C%2037.73076867805371%5D%2C%20%5B-122.47599867919442%2C%2037.73097383051801%5D%2C%20%5B-122.4760034274525%2C%2037.7310198970945%5D%2C%20%5B-122.47610144840984%2C%2037.73241089616905%5D%2C%20%5B-122.47610179178974%2C%2037.73241603295309%5D%2C%20%5B-122.4762331229933%2C%2037.734493137313564%5D%2C%20%5B-122.47623369318414%2C%2037.73449654693181%5D%2C%20%5B-122.47623440842489%2C%2037.73451346683647%5D%2C%20%5B-122.47623482351979%2C%2037.73452003169675%5D%2C%20%5B-122.47623468616582%2C%2037.73452003714019%5D%2C%20%5B-122.47623742278935%2C%2037.734584775273575%5D%2C%20%5B-122.4762302110694%2C%2037.73467286818497%5D%2C%20%5B-122.476212127439%2C%2037.73475997728112%5D%2C%20%5B-122.47618334601698%2C%2037.734845263648936%5D%2C%20%5B-122.47614414395082%2C%2037.73492790592654%5D%2C%20%5B-122.47609489874894%2C%2037.73500710821359%5D%2C%20%5B-122.47603608464608%2C%2037.73508210773679%5D%2C%20%5B-122.47596826803718%2C%2037.73515218219611%5D%2C%20%5B-122.47589210202324%2C%2037.73521665672161%5D%2C%20%5B-122.47580832012201%2C%2037.73527491037319%5D%2C%20%5B-122.47571772920404%2C%2037.73532638212126%5D%2C%20%5B-122.47562120172162%2C%2037.73537057625046%5D%2C%20%5B-122.47551966730636%2C%2037.73540706713398%5D%2C%20%5B-122.47541410381551%2C%2037.735435503333235%5D%2C%20%5B-122.47530552791363%2C%2037.73545561098285%5D%2C%20%5B-122.4751949852805%2C%2037.73546719642846%5D%2C%20%5B-122.47508354053917%2C%2037.735470148091885%5D%2C%20%5B-122.47497226700182%2C%2037.73546443754604%5D%2C%20%5B-122.47486223633155%2C%2037.73545011978855%5D%2C%20%5B-122.47475450822026%2C%2037.735427332712035%5D%2C%20%5B-122.47465012018189%2C%2037.73539629577618%5D%2C%20%5B-122.47455007755924%2C%2037.73535730789352%5D%2C%20%5B-122.47445534384092%2C%2037.73531074455079%5D%2C%20%5B-122.47436683138145%2C%2037.73525705419192%5D%2C%20%5B-122.47428539261419%2C%2037.73519675389912%5D%2C%20%5B-122.4742118118416%2C%2037.73513042441234%5D%2C%20%5B-122.47414679768177%2C%2037.73505870453577%5D%2C%20%5B-122.47409097624424%2C%2037.734982284985435%5D%2C%20%5B-122.47404488510087%2C%2037.73490190173653%5D%2C%20%5B-122.47400896810923%2C%2037.734818328935084%5D%2C%20%5B-122.47398357113912%2C%2037.73473237144214%5D%2C%20%5B-122.47398225413907%2C%2037.73472666406914%5D%2C%20%5B-122.4739651751206%2C%2037.73460995754936%5D%2C%20%5B-122.47383236918775%2C%2037.732508525077016%5D%2C%20%5B-122.47373619682232%2C%2037.73114317378269%5D%2C%20%5B-122.47370632152592%2C%2037.730923158514315%5D%2C%20%5B-122.47370010003581%2C%2037.730847255432614%5D%2C%20%5B-122.47369979131354%2C%2037.73083640034672%5D%2C%20%5B-122.47368628076266%2C%2037.730361348323456%5D%2C%20%5B-122.47365456891242%2C%2037.72966543862604%5D%2C%20%5B-122.47365458930842%2C%2037.72960012759991%5D%2C%20%5B-122.47368353025175%2C%2037.728973611710714%5D%2C%20%5B-122.47375649415793%2C%2037.727237096408466%5D%2C%20%5B-122.47375786086724%2C%2037.727213721877376%5D%2C%20%5B-122.47375925560344%2C%2037.727195111347584%5D%2C%20%5B-122.47378321008952%2C%2037.72687547549953%5D%2C%20%5B-122.4738447875809%2C%2037.72565025342074%5D%2C%20%5B-122.47388279823205%2C%2037.72489326928171%5D%2C%20%5B-122.47388286807383%2C%2037.724891904469615%5D%2C%20%5B-122.47397889587913%2C%2037.72304990537666%5D%2C%20%5B-122.47397900092928%2C%2037.7230479422915%5D%2C%20%5B-122.47408703062678%2C%2037.72107994331178%5D%2C%20%5B-122.47409838780182%2C%2037.720994047276484%5D%2C%20%5B-122.47410088010294%2C%2037.720611745984094%5D%2C%20%5B-122.47393891144648%2C%2037.720278195474656%5D%2C%20%5B-122.47377050629345%2C%2037.71999269535155%5D%2C%20%5B-122.47187750744084%2C%2037.71795865834731%5D%2C%20%5B-122.47184547424102%2C%2037.717922402885975%5D%2C%20%5B-122.4718405528151%2C%2037.71791653039473%5D%2C%20%5B-122.4718405528151%2C%2037.71791653039473%5D%2C%20%5B-122.47163847598365%2C%2037.71767540125547%5D%2C%20%5B-122.47158274647244%2C%2037.717601445691024%5D%2C%20%5B-122.47153620358739%2C%2037.71752360891759%5D%2C%20%5B-122.47149927390952%2C%2037.71744260438353%5D%2C%20%5B-122.47147229590189%2C%2037.71735917457048%5D%2C%20%5B-122.47145551680876%2C%2037.71727408418752%5D%2C%20%5B-122.4714490903902%2C%2037.71718811316176%5D%2C%20%5B-122.47145307551406%2C%2037.71710204948937%5D%2C%20%5B-122.47146743561797%2C%2037.71701668201313%5D%2C%20%5B-122.47148342676827%2C%2037.716947216937605%5D%2C%20%5B-122.47129304035397%2C%2037.71636791321048%5D%2C%20%5B-122.47075096188763%2C%2037.71490414461458%5D%2C%20%5B-122.47072389509302%2C%2037.714814150402376%5D%2C%20%5B-122.47071579537759%2C%2037.71476544097303%5D%2C%20%5B-122.4706187726244%2C%2037.71444175676151%5D%2C%20%5B-122.47061830445101%2C%2037.714440188600165%5D%2C%20%5B-122.47050542819686%2C%2037.71406058594294%5D%2C%20%5B-122.47037955298049%2C%2037.71363898308067%5D%2C%20%5B-122.47036145170296%2C%2037.71356443225631%5D%2C%20%5B-122.47023346166807%2C%2037.71288343105966%5D%2C%20%5B-122.47022660919622%2C%2037.71283960835891%5D%2C%20%5B-122.4701926132512%2C%2037.71256760803911%5D%2C%20%5B-122.4701896860077%2C%2037.71253978988706%5D%2C%20%5B-122.47013469566889%2C%2037.71189678936839%5D%2C%20%5B-122.47013215501521%2C%2037.71184489896107%5D%2C%20%5B-122.47012926472415%2C%2037.71161339552601%5D%2C%20%5B-122.47009758675011%2C%2037.71074188871407%5D%2C%20%5B-122.4700971192487%2C%2037.710718004787246%5D%2C%20%5B-122.47009709444143%2C%2037.710709165909066%5D%2C%20%5B-122.47010231654883%2C%2037.71062098499862%5D%2C%20%5B-122.47011842747843%2C%2037.710533634061164%5D%2C%20%5B-122.47014527203628%2C%2037.71044795432962%5D%2C%20%5B-122.47018259166072%2C%2037.71036477093965%5D%2C%20%5B-122.47023002691353%2C%2037.71028488498315%5D%2C%20%5B-122.47028712094281%2C%2037.710209065793904%5D%2C%20%5B-122.47035332388359%2C%2037.71013804353878%5D%2C%20%5B-122.47042799815401%2C%2037.71007250218648%5D%2C%20%5B-122.47051042459613%2C%2037.71001307292093%5D%2C%20%5B-122.47059980940182%2C%2037.709960328063424%5D%2C%20%5B-122.47069529175756%2C%2037.709914775561245%5D%2C%20%5B-122.47079595213401%2C%2037.709876854096436%5D%2C%20%5B-122.47090082114094%2C%2037.70984692886174%5D%2C%20%5B-122.47100888886207%2C%2037.70982528804384%5D%2C%20%5B-122.47111911457998%2C%2037.709812140048406%5D%2C%20%5B-122.47123043679747%2C%2037.70980761149347%5D%2C%20%5B-122.47134178345894%2C%2037.70981174598975%5D%2C%20%5B-122.47145208227337%2C%2037.709824503721414%5D%2C%20%5B-122.47156027103978%2C%2037.70984576182865%5D%2C%20%5B-122.47166530787509%2C%2037.70987531559158%5D%2C%20%5B-122.47176618124696%2C%2037.709912880400665%5D%2C%20%5B-122.47186191971423%2C%2037.70995809449807%5D%2C%20%5B-122.47195160128133%2C%2037.71001052246056%5D%2C%20%5B-122.47203436227713%2C%2037.71006965939273%5D%2C%20%5B-122.47210940567184%2C%2037.7101349357887%5D%2C%20%5B-122.47217600875304%2C%2037.710205723016074%5D%2C%20%5B-122.4722335300856%2C%2037.71028133936973%5D%2C%20%5B-122.47228141568975%2C%2037.71036105663627%5D%2C%20%5B-122.47231920437665%2C%2037.710444107106596%5D%2C%20%5B-122.47234653219103%2C%2037.71052969096889%5D%2C%20%5B-122.4723631359173%2C%2037.71061698401105%5D%2C%20%5B-122.47236788031832%2C%2037.71069011265862%5D%2C%20%5B-122.47236841246674%2C%2037.710690100517446%5D%2C%20%5B-122.47240042576334%2C%2037.71157010021507%5D%5D%5D%2C%20%22type%22%3A%20%22Polygon%22%7D%2C%20%22id%22%3A%20%220%22%2C%20%22properties%22%3A%20%7B%22shape_id%22%3A%20null%2C%20%22stop_id%22%3A%20null%2C%20%22stop_sequence%22%3A%20null%2C%20%22total_speed_delay%22%3A%20956.6%7D%2C%20%22type%22%3A%20%22Feature%22%7D%5D%2C%20%22type%22%3A%20%22FeatureCollection%22%7D%29%3B%0A%0A%20%20%20%20%20%20%20%20%0A%20%20%20%20%0A%20%20%20%20geo_json_ac4cdb2cab97475c80b84153a834adfe.bindTooltip%28%0A%20%20%20%20function%28layer%29%7B%0A%20%20%20%20let%20div%20%3D%20L.DomUtil.create%28%27div%27%29%3B%0A%20%20%20%20%0A%20%20%20%20let%20handleObject%20%3D%20feature%3D%3Etypeof%28feature%29%3D%3D%27object%27%20%3F%20JSON.stringify%28feature%29%20%3A%20feature%3B%0A%20%20%20%20let%20fields%20%3D%20%5B%22stop_id%22%2C%20%22stop_sequence%22%2C%20%22shape_id%22%2C%20%22total_speed_delay%22%5D%3B%0A%20%20%20%20let%20aliases%20%3D%20%5B%22stop_id%22%2C%20%22stop_sequence%22%2C%20%22shape_id%22%2C%20%22total_speed_delay%22%5D%3B%0A%20%20%20%20let%20table%20%3D%20%27%3Ctable%3E%27%20%2B%0A%20%20%20%20%20%20%20%20String%28%0A%20%20%20%20%20%20%20%20fields.map%28%0A%20%20%20%20%20%20%20%20%28v%2Ci%29%3D%3E%0A%20%20%20%20%20%20%20%20%60%3Ctr%3E%0A%20%20%20%20%20%20%20%20%20%20%20%20%3Cth%3E%24%7Baliases%5Bi%5D%7D%3C/th%3E%0A%20%20%20%20%20%20%20%20%20%20%20%20%0A%20%20%20%20%20%20%20%20%20%20%20%20%3Ctd%3E%24%7BhandleObject%28layer.feature.properties%5Bv%5D%29%7D%3C/td%3E%0A%20%20%20%20%20%20%20%20%3C/tr%3E%60%29.join%28%27%27%29%29%0A%20%20%20%20%2B%27%3C/table%3E%27%3B%0A%20%20%20%20div.innerHTML%3Dtable%3B%0A%20%20%20%20%0A%20%20%20%20return%20div%0A%20%20%20%20%7D%0A%20%20%20%20%2C%7B%22className%22%3A%20%22foliumtooltip%22%2C%20%22sticky%22%3A%20true%7D%29%3B%0A%20%20%20%20%20%20%20%20%20%20%20%20%20%20%20%20%20%20%20%20%20%0A%3C/script%3E onload=\"this.contentDocument.open();this.contentDocument.write(    decodeURIComponent(this.getAttribute('data-html')));this.contentDocument.close();\" allowfullscreen webkitallowfullscreen mozallowfullscreen></iframe></div></div>"
      ],
      "text/plain": [
       "<folium.folium.Map at 0x7fd48d9bea60>"
      ]
     },
     "execution_count": 23,
     "metadata": {},
     "output_type": "execute_result"
    }
   ],
   "source": [
    "rt_day.quick_map_corridor()"
   ]
  },
  {
   "cell_type": "code",
   "execution_count": null,
   "id": "2da2e554-a95a-45dd-b2d1-bd6f54984732",
   "metadata": {},
   "outputs": [],
   "source": [
    "all_corridors += [rt_day.corridor]"
   ]
  },
  {
   "cell_type": "code",
   "execution_count": null,
   "id": "c8df5265-eccb-43ea-b1ce-a7b403e24278",
   "metadata": {},
   "outputs": [],
   "source": [
    "# m = rt_day.segment_speed_map(how='low_speeds', no_title=False, shn=True, corridor=True)"
   ]
  },
  {
   "cell_type": "markdown",
   "id": "1d1b9c2e-20e4-496f-840e-845dc862d180",
   "metadata": {
    "jp-MarkdownHeadingCollapsed": true,
    "tags": []
   },
   "source": [
    "## GGT (skip)"
   ]
  },
  {
   "cell_type": "code",
   "execution_count": null,
   "id": "f36c14e1-1db1-4ae4-a154-ce0411503eb8",
   "metadata": {
    "tags": [
     "parameters"
    ]
   },
   "outputs": [],
   "source": [
    "## parameters cell\n",
    "itp_id = 127"
   ]
  },
  {
   "cell_type": "code",
   "execution_count": null,
   "id": "c4561129-26a8-42b4-9022-4e3b000e6c4b",
   "metadata": {},
   "outputs": [],
   "source": [
    "muni_corr = rt_day.corridor.copy() # use same corridor from muni analysis"
   ]
  },
  {
   "cell_type": "code",
   "execution_count": null,
   "id": "cac560cd-b1cd-46fb-bce4-9089cfdae897",
   "metadata": {},
   "outputs": [],
   "source": [
    "%%capture\n",
    "rt_day = rt_filter_map_plot.from_gcs(itp_id, analysis_date, pbar)"
   ]
  },
  {
   "cell_type": "code",
   "execution_count": null,
   "id": "c553920a-61a3-4a5f-a22e-4339fc8c855a",
   "metadata": {},
   "outputs": [],
   "source": [
    "%%capture_parameters\n",
    "organization_name = rt_day.organization_name\n",
    "organization_name"
   ]
  },
  {
   "cell_type": "code",
   "execution_count": null,
   "id": "64f1ec0d-bf56-43a3-8571-4da69130452e",
   "metadata": {},
   "outputs": [],
   "source": [
    "# rt_day.set_filter(route_names = ['43', '28', '29'])"
   ]
  },
  {
   "cell_type": "code",
   "execution_count": 43,
   "id": "3c8f8e59-3fa2-46c4-8b8a-0c76ed619c17",
   "metadata": {},
   "outputs": [],
   "source": [
    "# _m = rt_day.segment_speed_map()"
   ]
  },
  {
   "cell_type": "markdown",
   "id": "0ff24d06-0ec2-4d19-909d-57c899b96198",
   "metadata": {
    "jp-MarkdownHeadingCollapsed": true,
    "tags": []
   },
   "source": [
    "## GGT Lombard"
   ]
  },
  {
   "cell_type": "code",
   "execution_count": null,
   "id": "34c5b4d6-7023-43cf-adb1-badf307b37f2",
   "metadata": {},
   "outputs": [],
   "source": [
    "rt_day.add_corridor(muni_corr)"
   ]
  },
  {
   "cell_type": "code",
   "execution_count": null,
   "id": "60e40f89-58c9-44b2-8363-fdd949948e20",
   "metadata": {},
   "outputs": [],
   "source": [
    "rt_day.corridor_stop_delays >> distinct(_.route_short_name)"
   ]
  },
  {
   "cell_type": "code",
   "execution_count": null,
   "id": "01f6c4f9-e85a-4453-b74b-35453d942b65",
   "metadata": {},
   "outputs": [],
   "source": [
    "rt_day.transit_priority_target_mph = 20 # one route exceeds even this on corridor!"
   ]
  },
  {
   "cell_type": "code",
   "execution_count": null,
   "id": "8b9b3c72-0349-4599-aa39-c3c5036a1583",
   "metadata": {},
   "outputs": [],
   "source": [
    "rt_day.corridor_metrics()"
   ]
  },
  {
   "cell_type": "code",
   "execution_count": null,
   "id": "b94ec836-cc39-445a-951a-b78922887ba7",
   "metadata": {
    "tags": []
   },
   "outputs": [],
   "source": [
    "rt_day.quick_map_corridor()"
   ]
  },
  {
   "cell_type": "code",
   "execution_count": null,
   "id": "b4cfa979-5ddb-4b6e-af40-0fa0a1dc7ccc",
   "metadata": {},
   "outputs": [],
   "source": [
    "m = rt_day.segment_speed_map(how='low_speeds', no_title=False, shn=True, corridor=True)"
   ]
  },
  {
   "cell_type": "code",
   "execution_count": null,
   "id": "34292468-64d5-40ad-a406-712eafa08ff3",
   "metadata": {},
   "outputs": [],
   "source": [
    "m"
   ]
  },
  {
   "cell_type": "code",
   "execution_count": null,
   "id": "6960857d-f747-49af-9209-de2b5d871856",
   "metadata": {},
   "outputs": [],
   "source": [
    "all_corridors += [rt_day.corridor]"
   ]
  },
  {
   "cell_type": "markdown",
   "id": "02eb001f-e0f4-44d7-902d-36cbe15f55a3",
   "metadata": {},
   "source": [
    "# AC Transit"
   ]
  },
  {
   "cell_type": "code",
   "execution_count": 54,
   "id": "6b13c054-d039-4c11-94c8-4eff742a84a1",
   "metadata": {
    "tags": [
     "parameters"
    ]
   },
   "outputs": [],
   "source": [
    "## parameters cell\n",
    "itp_id = 4"
   ]
  },
  {
   "cell_type": "code",
   "execution_count": 55,
   "id": "6bb0a27a-0b95-4c85-b606-65bd6db9e4a1",
   "metadata": {},
   "outputs": [],
   "source": [
    "%%capture\n",
    "rt_day = rt_filter_map_plot.from_gcs(itp_id, analysis_date, pbar)"
   ]
  },
  {
   "cell_type": "code",
   "execution_count": 56,
   "id": "36456654-ac8b-4b15-9301-42ec36574ea2",
   "metadata": {},
   "outputs": [
    {
     "name": "stdout",
     "output_type": "stream",
     "text": [
      "{\"organization_name\": \"Alameda-Contra Costa Transit District\"}\n"
     ]
    }
   ],
   "source": [
    "%%capture_parameters\n",
    "organization_name = rt_day.organization_name\n",
    "organization_name"
   ]
  },
  {
   "cell_type": "code",
   "execution_count": 57,
   "id": "8d5f7763-e2bd-46e4-906c-2b8efb36739a",
   "metadata": {},
   "outputs": [],
   "source": [
    "rt_day.set_filter(route_names = ['72', '72M', '72R'])"
   ]
  },
  {
   "cell_type": "code",
   "execution_count": 58,
   "id": "15bb169a-6a27-413e-9a99-49c9e4c00646",
   "metadata": {},
   "outputs": [],
   "source": [
    "_m = rt_day.segment_speed_map()"
   ]
  },
  {
   "cell_type": "markdown",
   "id": "2002cb0a-ee4b-43a8-841c-827834bb6322",
   "metadata": {},
   "source": [
    "## AC Transit San Pablo"
   ]
  },
  {
   "cell_type": "code",
   "execution_count": 59,
   "id": "13b1c7d0-1887-4286-b64a-80fd5b735e44",
   "metadata": {},
   "outputs": [],
   "source": [
    "rt_day.autocorridor(shape_id = 'shp-72R-15', stop_seq_range = [9, 19])"
   ]
  },
  {
   "cell_type": "code",
   "execution_count": 60,
   "id": "a9f6f78b-265a-4c45-9c29-74aa563d0311",
   "metadata": {},
   "outputs": [
    {
     "data": {
      "text/html": [
       "<div>\n",
       "<style scoped>\n",
       "    .dataframe tbody tr th:only-of-type {\n",
       "        vertical-align: middle;\n",
       "    }\n",
       "\n",
       "    .dataframe tbody tr th {\n",
       "        vertical-align: top;\n",
       "    }\n",
       "\n",
       "    .dataframe thead th {\n",
       "        text-align: right;\n",
       "    }\n",
       "</style>\n",
       "<table border=\"1\" class=\"dataframe\">\n",
       "  <thead>\n",
       "    <tr style=\"text-align: right;\">\n",
       "      <th></th>\n",
       "      <th>route_short_name</th>\n",
       "    </tr>\n",
       "  </thead>\n",
       "  <tbody>\n",
       "    <tr>\n",
       "      <th>0</th>\n",
       "      <td>L</td>\n",
       "    </tr>\n",
       "    <tr>\n",
       "      <th>1</th>\n",
       "      <td>36</td>\n",
       "    </tr>\n",
       "    <tr>\n",
       "      <th>2</th>\n",
       "      <td>G</td>\n",
       "    </tr>\n",
       "    <tr>\n",
       "      <th>3</th>\n",
       "      <td>675</td>\n",
       "    </tr>\n",
       "    <tr>\n",
       "      <th>4</th>\n",
       "      <td>F</td>\n",
       "    </tr>\n",
       "    <tr>\n",
       "      <th>5</th>\n",
       "      <td>12</td>\n",
       "    </tr>\n",
       "    <tr>\n",
       "      <th>6</th>\n",
       "      <td>72</td>\n",
       "    </tr>\n",
       "    <tr>\n",
       "      <th>7</th>\n",
       "      <td>72R</td>\n",
       "    </tr>\n",
       "    <tr>\n",
       "      <th>8</th>\n",
       "      <td>667</td>\n",
       "    </tr>\n",
       "    <tr>\n",
       "      <th>9</th>\n",
       "      <td>51B</td>\n",
       "    </tr>\n",
       "    <tr>\n",
       "      <th>10</th>\n",
       "      <td>52</td>\n",
       "    </tr>\n",
       "    <tr>\n",
       "      <th>11</th>\n",
       "      <td>57</td>\n",
       "    </tr>\n",
       "    <tr>\n",
       "      <th>12</th>\n",
       "      <td>18</td>\n",
       "    </tr>\n",
       "    <tr>\n",
       "      <th>13</th>\n",
       "      <td>802</td>\n",
       "    </tr>\n",
       "    <tr>\n",
       "      <th>14</th>\n",
       "      <td>72M</td>\n",
       "    </tr>\n",
       "    <tr>\n",
       "      <th>15</th>\n",
       "      <td>71</td>\n",
       "    </tr>\n",
       "    <tr>\n",
       "      <th>16</th>\n",
       "      <td>J</td>\n",
       "    </tr>\n",
       "    <tr>\n",
       "      <th>17</th>\n",
       "      <td>800</td>\n",
       "    </tr>\n",
       "    <tr>\n",
       "      <th>18</th>\n",
       "      <td>FS</td>\n",
       "    </tr>\n",
       "  </tbody>\n",
       "</table>\n",
       "</div>"
      ],
      "text/plain": [
       "   route_short_name\n",
       "0                 L\n",
       "1                36\n",
       "2                 G\n",
       "3               675\n",
       "4                 F\n",
       "5                12\n",
       "6                72\n",
       "7               72R\n",
       "8               667\n",
       "9               51B\n",
       "10               52\n",
       "11               57\n",
       "12               18\n",
       "13              802\n",
       "14              72M\n",
       "15               71\n",
       "16                J\n",
       "17              800\n",
       "18               FS"
      ]
     },
     "execution_count": 60,
     "metadata": {},
     "output_type": "execute_result"
    }
   ],
   "source": [
    "rt_day.corridor_stop_delays >> distinct(_.route_short_name)"
   ]
  },
  {
   "cell_type": "code",
   "execution_count": 61,
   "id": "63f0e253-de94-4a97-a802-652a77c23dcb",
   "metadata": {},
   "outputs": [
    {
     "name": "stdout",
     "output_type": "stream",
     "text": [
      "metrics attached to self.corridor: \n"
     ]
    },
    {
     "data": {
      "text/html": [
       "<div>\n",
       "<style scoped>\n",
       "    .dataframe tbody tr th:only-of-type {\n",
       "        vertical-align: middle;\n",
       "    }\n",
       "\n",
       "    .dataframe tbody tr th {\n",
       "        vertical-align: top;\n",
       "    }\n",
       "\n",
       "    .dataframe thead th {\n",
       "        text-align: right;\n",
       "    }\n",
       "</style>\n",
       "<table border=\"1\" class=\"dataframe\">\n",
       "  <thead>\n",
       "    <tr style=\"text-align: right;\">\n",
       "      <th></th>\n",
       "      <th>route_id</th>\n",
       "      <th>route_short_name</th>\n",
       "      <th>organization</th>\n",
       "      <th>p20_corr_mph</th>\n",
       "      <th>speed_delay_minutes</th>\n",
       "      <th>total_speed_delay</th>\n",
       "      <th>p50_runtime_minutes</th>\n",
       "      <th>n_trips</th>\n",
       "      <th>span_hours</th>\n",
       "      <th>daily_avg_trips_hr</th>\n",
       "      <th>trips_added</th>\n",
       "      <th>new_avg_trips_hr</th>\n",
       "      <th>geometry</th>\n",
       "    </tr>\n",
       "  </thead>\n",
       "  <tbody>\n",
       "    <tr>\n",
       "      <th>0</th>\n",
       "      <td>72</td>\n",
       "      <td>72</td>\n",
       "      <td>Alameda-Contra Costa Transit District</td>\n",
       "      <td>10.5</td>\n",
       "      <td>614.7</td>\n",
       "      <td>2013.4</td>\n",
       "      <td>83.1</td>\n",
       "      <td>62</td>\n",
       "      <td>14.8</td>\n",
       "      <td>2.1</td>\n",
       "      <td>7.4</td>\n",
       "      <td>2.3</td>\n",
       "      <td>POLYGON ((-201973.660 -11619.671, -201974.344 ...</td>\n",
       "    </tr>\n",
       "    <tr>\n",
       "      <th>1</th>\n",
       "      <td>72M</td>\n",
       "      <td>72M</td>\n",
       "      <td>Alameda-Contra Costa Transit District</td>\n",
       "      <td>11.1</td>\n",
       "      <td>595.2</td>\n",
       "      <td>2013.4</td>\n",
       "      <td>79.4</td>\n",
       "      <td>62</td>\n",
       "      <td>14.6</td>\n",
       "      <td>2.1</td>\n",
       "      <td>7.5</td>\n",
       "      <td>2.4</td>\n",
       "      <td>POLYGON ((-201973.660 -11619.671, -201974.344 ...</td>\n",
       "    </tr>\n",
       "    <tr>\n",
       "      <th>2</th>\n",
       "      <td>72R</td>\n",
       "      <td>72R</td>\n",
       "      <td>Alameda-Contra Costa Transit District</td>\n",
       "      <td>12.0</td>\n",
       "      <td>803.5</td>\n",
       "      <td>2013.4</td>\n",
       "      <td>62.4</td>\n",
       "      <td>126</td>\n",
       "      <td>13.2</td>\n",
       "      <td>4.8</td>\n",
       "      <td>12.9</td>\n",
       "      <td>5.3</td>\n",
       "      <td>POLYGON ((-201973.660 -11619.671, -201974.344 ...</td>\n",
       "    </tr>\n",
       "  </tbody>\n",
       "</table>\n",
       "</div>"
      ],
      "text/plain": [
       "  route_id route_short_name                           organization  \\\n",
       "0       72               72  Alameda-Contra Costa Transit District   \n",
       "1      72M              72M  Alameda-Contra Costa Transit District   \n",
       "2      72R              72R  Alameda-Contra Costa Transit District   \n",
       "\n",
       "   p20_corr_mph  speed_delay_minutes  total_speed_delay  p50_runtime_minutes  \\\n",
       "0          10.5                614.7             2013.4                 83.1   \n",
       "1          11.1                595.2             2013.4                 79.4   \n",
       "2          12.0                803.5             2013.4                 62.4   \n",
       "\n",
       "   n_trips  span_hours  daily_avg_trips_hr  trips_added  new_avg_trips_hr  \\\n",
       "0       62        14.8                 2.1          7.4               2.3   \n",
       "1       62        14.6                 2.1          7.5               2.4   \n",
       "2      126        13.2                 4.8         12.9               5.3   \n",
       "\n",
       "                                            geometry  \n",
       "0  POLYGON ((-201973.660 -11619.671, -201974.344 ...  \n",
       "1  POLYGON ((-201973.660 -11619.671, -201974.344 ...  \n",
       "2  POLYGON ((-201973.660 -11619.671, -201974.344 ...  "
      ]
     },
     "execution_count": 61,
     "metadata": {},
     "output_type": "execute_result"
    }
   ],
   "source": [
    "rt_day.corridor_metrics()"
   ]
  },
  {
   "cell_type": "code",
   "execution_count": 62,
   "id": "6c35a711-7fb4-4e3e-b326-384afe6270ce",
   "metadata": {},
   "outputs": [
    {
     "data": {
      "text/html": [
       "<div style=\"width:100%;\"><div style=\"position:relative;width:100%;height:0;padding-bottom:60%;\"><span style=\"color:#565656\">Make this Notebook Trusted to load map: File -> Trust Notebook</span><iframe src=\"about:blank\" style=\"position:absolute;width:100%;height:100%;left:0;top:0;border:none !important;\" data-html=%3C%21DOCTYPE%20html%3E%0A%3Chead%3E%20%20%20%20%0A%20%20%20%20%3Cmeta%20http-equiv%3D%22content-type%22%20content%3D%22text/html%3B%20charset%3DUTF-8%22%20/%3E%0A%20%20%20%20%0A%20%20%20%20%20%20%20%20%3Cscript%3E%0A%20%20%20%20%20%20%20%20%20%20%20%20L_NO_TOUCH%20%3D%20false%3B%0A%20%20%20%20%20%20%20%20%20%20%20%20L_DISABLE_3D%20%3D%20false%3B%0A%20%20%20%20%20%20%20%20%3C/script%3E%0A%20%20%20%20%0A%20%20%20%20%3Cstyle%3Ehtml%2C%20body%20%7Bwidth%3A%20100%25%3Bheight%3A%20100%25%3Bmargin%3A%200%3Bpadding%3A%200%3B%7D%3C/style%3E%0A%20%20%20%20%3Cstyle%3E%23map%20%7Bposition%3Aabsolute%3Btop%3A0%3Bbottom%3A0%3Bright%3A0%3Bleft%3A0%3B%7D%3C/style%3E%0A%20%20%20%20%3Cscript%20src%3D%22https%3A//cdn.jsdelivr.net/npm/leaflet%401.6.0/dist/leaflet.js%22%3E%3C/script%3E%0A%20%20%20%20%3Cscript%20src%3D%22https%3A//code.jquery.com/jquery-1.12.4.min.js%22%3E%3C/script%3E%0A%20%20%20%20%3Cscript%20src%3D%22https%3A//maxcdn.bootstrapcdn.com/bootstrap/3.2.0/js/bootstrap.min.js%22%3E%3C/script%3E%0A%20%20%20%20%3Cscript%20src%3D%22https%3A//cdnjs.cloudflare.com/ajax/libs/Leaflet.awesome-markers/2.0.2/leaflet.awesome-markers.js%22%3E%3C/script%3E%0A%20%20%20%20%3Clink%20rel%3D%22stylesheet%22%20href%3D%22https%3A//cdn.jsdelivr.net/npm/leaflet%401.6.0/dist/leaflet.css%22/%3E%0A%20%20%20%20%3Clink%20rel%3D%22stylesheet%22%20href%3D%22https%3A//maxcdn.bootstrapcdn.com/bootstrap/3.2.0/css/bootstrap.min.css%22/%3E%0A%20%20%20%20%3Clink%20rel%3D%22stylesheet%22%20href%3D%22https%3A//maxcdn.bootstrapcdn.com/bootstrap/3.2.0/css/bootstrap-theme.min.css%22/%3E%0A%20%20%20%20%3Clink%20rel%3D%22stylesheet%22%20href%3D%22https%3A//maxcdn.bootstrapcdn.com/font-awesome/4.6.3/css/font-awesome.min.css%22/%3E%0A%20%20%20%20%3Clink%20rel%3D%22stylesheet%22%20href%3D%22https%3A//cdnjs.cloudflare.com/ajax/libs/Leaflet.awesome-markers/2.0.2/leaflet.awesome-markers.css%22/%3E%0A%20%20%20%20%3Clink%20rel%3D%22stylesheet%22%20href%3D%22https%3A//cdn.jsdelivr.net/gh/python-visualization/folium/folium/templates/leaflet.awesome.rotate.min.css%22/%3E%0A%20%20%20%20%0A%20%20%20%20%20%20%20%20%20%20%20%20%3Cmeta%20name%3D%22viewport%22%20content%3D%22width%3Ddevice-width%2C%0A%20%20%20%20%20%20%20%20%20%20%20%20%20%20%20%20initial-scale%3D1.0%2C%20maximum-scale%3D1.0%2C%20user-scalable%3Dno%22%20/%3E%0A%20%20%20%20%20%20%20%20%20%20%20%20%3Cstyle%3E%0A%20%20%20%20%20%20%20%20%20%20%20%20%20%20%20%20%23map_e7f37945b69d445e9665675fc3fb92cb%20%7B%0A%20%20%20%20%20%20%20%20%20%20%20%20%20%20%20%20%20%20%20%20position%3A%20relative%3B%0A%20%20%20%20%20%20%20%20%20%20%20%20%20%20%20%20%20%20%20%20width%3A%20100.0%25%3B%0A%20%20%20%20%20%20%20%20%20%20%20%20%20%20%20%20%20%20%20%20height%3A%20100.0%25%3B%0A%20%20%20%20%20%20%20%20%20%20%20%20%20%20%20%20%20%20%20%20left%3A%200.0%25%3B%0A%20%20%20%20%20%20%20%20%20%20%20%20%20%20%20%20%20%20%20%20top%3A%200.0%25%3B%0A%20%20%20%20%20%20%20%20%20%20%20%20%20%20%20%20%7D%0A%20%20%20%20%20%20%20%20%20%20%20%20%3C/style%3E%0A%20%20%20%20%20%20%20%20%0A%20%20%20%20%0A%20%20%20%20%20%20%20%20%20%20%20%20%20%20%20%20%20%20%20%20%3Cstyle%3E%0A%20%20%20%20%20%20%20%20%20%20%20%20%20%20%20%20%20%20%20%20%20%20%20%20.foliumtooltip%20%7B%0A%20%20%20%20%20%20%20%20%20%20%20%20%20%20%20%20%20%20%20%20%20%20%20%20%20%20%20%20%0A%20%20%20%20%20%20%20%20%20%20%20%20%20%20%20%20%20%20%20%20%20%20%20%20%7D%0A%20%20%20%20%20%20%20%20%20%20%20%20%20%20%20%20%20%20%20%20%20%20%20.foliumtooltip%20table%7B%0A%20%20%20%20%20%20%20%20%20%20%20%20%20%20%20%20%20%20%20%20%20%20%20%20%20%20%20%20margin%3A%20auto%3B%0A%20%20%20%20%20%20%20%20%20%20%20%20%20%20%20%20%20%20%20%20%20%20%20%20%7D%0A%20%20%20%20%20%20%20%20%20%20%20%20%20%20%20%20%20%20%20%20%20%20%20%20.foliumtooltip%20tr%7B%0A%20%20%20%20%20%20%20%20%20%20%20%20%20%20%20%20%20%20%20%20%20%20%20%20%20%20%20%20text-align%3A%20left%3B%0A%20%20%20%20%20%20%20%20%20%20%20%20%20%20%20%20%20%20%20%20%20%20%20%20%7D%0A%20%20%20%20%20%20%20%20%20%20%20%20%20%20%20%20%20%20%20%20%20%20%20%20.foliumtooltip%20th%7B%0A%20%20%20%20%20%20%20%20%20%20%20%20%20%20%20%20%20%20%20%20%20%20%20%20%20%20%20%20padding%3A%202px%3B%20padding-right%3A%208px%3B%0A%20%20%20%20%20%20%20%20%20%20%20%20%20%20%20%20%20%20%20%20%20%20%20%20%7D%0A%20%20%20%20%20%20%20%20%20%20%20%20%20%20%20%20%20%20%20%20%3C/style%3E%0A%20%20%20%20%20%20%20%20%20%20%20%20%0A%3C/head%3E%0A%3Cbody%3E%20%20%20%20%0A%20%20%20%20%0A%20%20%20%20%20%20%20%20%20%20%20%20%3Cdiv%20class%3D%22folium-map%22%20id%3D%22map_e7f37945b69d445e9665675fc3fb92cb%22%20%3E%3C/div%3E%0A%20%20%20%20%20%20%20%20%0A%3C/body%3E%0A%3Cscript%3E%20%20%20%20%0A%20%20%20%20%0A%20%20%20%20%20%20%20%20%20%20%20%20var%20map_e7f37945b69d445e9665675fc3fb92cb%20%3D%20L.map%28%0A%20%20%20%20%20%20%20%20%20%20%20%20%20%20%20%20%22map_e7f37945b69d445e9665675fc3fb92cb%22%2C%0A%20%20%20%20%20%20%20%20%20%20%20%20%20%20%20%20%7B%0A%20%20%20%20%20%20%20%20%20%20%20%20%20%20%20%20%20%20%20%20center%3A%20%5B37.876381999999964%2C%20-122.300241%5D%2C%0A%20%20%20%20%20%20%20%20%20%20%20%20%20%20%20%20%20%20%20%20crs%3A%20L.CRS.EPSG3857%2C%0A%20%20%20%20%20%20%20%20%20%20%20%20%20%20%20%20%20%20%20%20zoom%3A%2010%2C%0A%20%20%20%20%20%20%20%20%20%20%20%20%20%20%20%20%20%20%20%20zoomControl%3A%20true%2C%0A%20%20%20%20%20%20%20%20%20%20%20%20%20%20%20%20%20%20%20%20preferCanvas%3A%20false%2C%0A%20%20%20%20%20%20%20%20%20%20%20%20%20%20%20%20%7D%0A%20%20%20%20%20%20%20%20%20%20%20%20%29%3B%0A%20%20%20%20%20%20%20%20%20%20%20%20L.control.scale%28%29.addTo%28map_e7f37945b69d445e9665675fc3fb92cb%29%3B%0A%0A%20%20%20%20%20%20%20%20%20%20%20%20%0A%0A%20%20%20%20%20%20%20%20%0A%20%20%20%20%0A%20%20%20%20%20%20%20%20%20%20%20%20var%20tile_layer_dda81c330b6c4eff8e8dee0ebf4881bc%20%3D%20L.tileLayer%28%0A%20%20%20%20%20%20%20%20%20%20%20%20%20%20%20%20%22https%3A//a.basemaps.cartocdn.com/light_all/%7Bz%7D/%7Bx%7D/%7By%7D%7Br%7D.png%22%2C%0A%20%20%20%20%20%20%20%20%20%20%20%20%20%20%20%20%7B%22attribution%22%3A%20%22%5Cu0026copy%3B%20%5Cu003ca%20href%3D%5C%22https%3A//www.openstreetmap.org/copyright%5C%22%5Cu003eOpenStreetMap%5Cu003c/a%5Cu003e%20contributors%20%5Cu0026copy%3B%20%5Cu003ca%20href%3D%5C%22https%3A//carto.com/attributions%5C%22%5Cu003eCARTO%5Cu003c/a%5Cu003e%22%2C%20%22detectRetina%22%3A%20false%2C%20%22maxNativeZoom%22%3A%2020%2C%20%22maxZoom%22%3A%2020%2C%20%22minZoom%22%3A%200%2C%20%22noWrap%22%3A%20false%2C%20%22opacity%22%3A%201%2C%20%22subdomains%22%3A%20%22abc%22%2C%20%22tms%22%3A%20false%7D%0A%20%20%20%20%20%20%20%20%20%20%20%20%29.addTo%28map_e7f37945b69d445e9665675fc3fb92cb%29%3B%0A%20%20%20%20%20%20%20%20%0A%20%20%20%20%0A%20%20%20%20%20%20%20%20%20%20%20%20map_e7f37945b69d445e9665675fc3fb92cb.fitBounds%28%0A%20%20%20%20%20%20%20%20%20%20%20%20%20%20%20%20%5B%5B37.819683999999945%2C%20-122.324112%5D%2C%20%5B37.93307999999998%2C%20-122.27637%5D%5D%2C%0A%20%20%20%20%20%20%20%20%20%20%20%20%20%20%20%20%7B%7D%0A%20%20%20%20%20%20%20%20%20%20%20%20%29%3B%0A%20%20%20%20%20%20%20%20%0A%20%20%20%20%0A%20%20%20%20%20%20%20%20function%20geo_json_1e5da63d7e9f4694b9695ea00f7cf84c_styler%28feature%29%20%7B%0A%20%20%20%20%20%20%20%20%20%20%20%20switch%28feature.id%29%20%7B%0A%20%20%20%20%20%20%20%20%20%20%20%20%20%20%20%20default%3A%0A%20%20%20%20%20%20%20%20%20%20%20%20%20%20%20%20%20%20%20%20return%20%7B%22fillOpacity%22%3A%200.5%2C%20%22weight%22%3A%202%7D%3B%0A%20%20%20%20%20%20%20%20%20%20%20%20%7D%0A%20%20%20%20%20%20%20%20%7D%0A%20%20%20%20%20%20%20%20function%20geo_json_1e5da63d7e9f4694b9695ea00f7cf84c_highlighter%28feature%29%20%7B%0A%20%20%20%20%20%20%20%20%20%20%20%20switch%28feature.id%29%20%7B%0A%20%20%20%20%20%20%20%20%20%20%20%20%20%20%20%20default%3A%0A%20%20%20%20%20%20%20%20%20%20%20%20%20%20%20%20%20%20%20%20return%20%7B%22fillOpacity%22%3A%200.75%7D%3B%0A%20%20%20%20%20%20%20%20%20%20%20%20%7D%0A%20%20%20%20%20%20%20%20%7D%0A%20%20%20%20%20%20%20%20function%20geo_json_1e5da63d7e9f4694b9695ea00f7cf84c_pointToLayer%28feature%2C%20latlng%29%20%7B%0A%20%20%20%20%20%20%20%20%20%20%20%20var%20opts%20%3D%20%7B%22bubblingMouseEvents%22%3A%20true%2C%20%22color%22%3A%20%22%233388ff%22%2C%20%22dashArray%22%3A%20null%2C%20%22dashOffset%22%3A%20null%2C%20%22fill%22%3A%20true%2C%20%22fillColor%22%3A%20%22%233388ff%22%2C%20%22fillOpacity%22%3A%200.2%2C%20%22fillRule%22%3A%20%22evenodd%22%2C%20%22lineCap%22%3A%20%22round%22%2C%20%22lineJoin%22%3A%20%22round%22%2C%20%22opacity%22%3A%201.0%2C%20%22radius%22%3A%202%2C%20%22stroke%22%3A%20true%2C%20%22weight%22%3A%203%7D%3B%0A%20%20%20%20%20%20%20%20%20%20%20%20%0A%20%20%20%20%20%20%20%20%20%20%20%20let%20style%20%3D%20geo_json_1e5da63d7e9f4694b9695ea00f7cf84c_styler%28feature%29%0A%20%20%20%20%20%20%20%20%20%20%20%20Object.assign%28opts%2C%20style%29%0A%20%20%20%20%20%20%20%20%20%20%20%20%0A%20%20%20%20%20%20%20%20%20%20%20%20return%20new%20L.CircleMarker%28latlng%2C%20opts%29%0A%20%20%20%20%20%20%20%20%7D%0A%0A%20%20%20%20%20%20%20%20function%20geo_json_1e5da63d7e9f4694b9695ea00f7cf84c_onEachFeature%28feature%2C%20layer%29%20%7B%0A%20%20%20%20%20%20%20%20%20%20%20%20layer.on%28%7B%0A%20%20%20%20%20%20%20%20%20%20%20%20%20%20%20%20mouseout%3A%20function%28e%29%20%7B%0A%20%20%20%20%20%20%20%20%20%20%20%20%20%20%20%20%20%20%20%20if%28typeof%20e.target.setStyle%20%3D%3D%3D%20%22function%22%29%7B%0A%20%20%20%20%20%20%20%20%20%20%20%20%20%20%20%20%20%20%20%20%20%20%20%20geo_json_1e5da63d7e9f4694b9695ea00f7cf84c.resetStyle%28e.target%29%3B%0A%20%20%20%20%20%20%20%20%20%20%20%20%20%20%20%20%20%20%20%20%7D%0A%20%20%20%20%20%20%20%20%20%20%20%20%20%20%20%20%7D%2C%0A%20%20%20%20%20%20%20%20%20%20%20%20%20%20%20%20mouseover%3A%20function%28e%29%20%7B%0A%20%20%20%20%20%20%20%20%20%20%20%20%20%20%20%20%20%20%20%20if%28typeof%20e.target.setStyle%20%3D%3D%3D%20%22function%22%29%7B%0A%20%20%20%20%20%20%20%20%20%20%20%20%20%20%20%20%20%20%20%20%20%20%20%20const%20highlightStyle%20%3D%20geo_json_1e5da63d7e9f4694b9695ea00f7cf84c_highlighter%28e.target.feature%29%0A%20%20%20%20%20%20%20%20%20%20%20%20%20%20%20%20%20%20%20%20%20%20%20%20e.target.setStyle%28highlightStyle%29%3B%0A%20%20%20%20%20%20%20%20%20%20%20%20%20%20%20%20%20%20%20%20%7D%0A%20%20%20%20%20%20%20%20%20%20%20%20%20%20%20%20%7D%2C%0A%20%20%20%20%20%20%20%20%20%20%20%20%7D%29%3B%0A%20%20%20%20%20%20%20%20%7D%3B%0A%20%20%20%20%20%20%20%20var%20geo_json_1e5da63d7e9f4694b9695ea00f7cf84c%20%3D%20L.geoJson%28null%2C%20%7B%0A%20%20%20%20%20%20%20%20%20%20%20%20%20%20%20%20onEachFeature%3A%20geo_json_1e5da63d7e9f4694b9695ea00f7cf84c_onEachFeature%2C%0A%20%20%20%20%20%20%20%20%20%20%20%20%0A%20%20%20%20%20%20%20%20%20%20%20%20%20%20%20%20style%3A%20geo_json_1e5da63d7e9f4694b9695ea00f7cf84c_styler%2C%0A%20%20%20%20%20%20%20%20%20%20%20%20%20%20%20%20pointToLayer%3A%20geo_json_1e5da63d7e9f4694b9695ea00f7cf84c_pointToLayer%0A%20%20%20%20%20%20%20%20%7D%29%3B%0A%0A%20%20%20%20%20%20%20%20function%20geo_json_1e5da63d7e9f4694b9695ea00f7cf84c_add%20%28data%29%20%7B%0A%20%20%20%20%20%20%20%20%20%20%20%20geo_json_1e5da63d7e9f4694b9695ea00f7cf84c%0A%20%20%20%20%20%20%20%20%20%20%20%20%20%20%20%20.addData%28data%29%0A%20%20%20%20%20%20%20%20%20%20%20%20%20%20%20%20.addTo%28map_e7f37945b69d445e9665675fc3fb92cb%29%3B%0A%20%20%20%20%20%20%20%20%7D%0A%20%20%20%20%20%20%20%20%20%20%20%20geo_json_1e5da63d7e9f4694b9695ea00f7cf84c_add%28%7B%22bbox%22%3A%20%5B-122.324112%2C%2037.819683999999945%2C%20-122.27637%2C%2037.93307999999998%5D%2C%20%22features%22%3A%20%5B%7B%22bbox%22%3A%20%5B-122.32021600000002%2C%2037.92761999999999%2C%20-122.32021600000002%2C%2037.92761999999999%5D%2C%20%22geometry%22%3A%20%7B%22coordinates%22%3A%20%5B-122.32021600000002%2C%2037.92761999999999%5D%2C%20%22type%22%3A%20%22Point%22%7D%2C%20%22id%22%3A%20%2217%22%2C%20%22properties%22%3A%20%7B%22shape_id%22%3A%20%22shp-72-80%22%2C%20%22stop_id%22%3A%20%2251162%22%2C%20%22stop_sequence%22%3A%2019.0%2C%20%22total_speed_delay%22%3A%20null%7D%2C%20%22type%22%3A%20%22Feature%22%7D%2C%20%7B%22bbox%22%3A%20%5B-122.31621%2C%2037.92440200000003%2C%20-122.31621%2C%2037.92440200000003%5D%2C%20%22geometry%22%3A%20%7B%22coordinates%22%3A%20%5B-122.31621%2C%2037.92440200000003%5D%2C%20%22type%22%3A%20%22Point%22%7D%2C%20%22id%22%3A%20%2218%22%2C%20%22properties%22%3A%20%7B%22shape_id%22%3A%20%22shp-72-80%22%2C%20%22stop_id%22%3A%20%2259667%22%2C%20%22stop_sequence%22%3A%2020.0%2C%20%22total_speed_delay%22%3A%20null%7D%2C%20%22type%22%3A%20%22Feature%22%7D%2C%20%7B%22bbox%22%3A%20%5B-122.31691300000001%2C%2037.922906000000005%2C%20-122.31691300000001%2C%2037.922906000000005%5D%2C%20%22geometry%22%3A%20%7B%22coordinates%22%3A%20%5B-122.31691300000001%2C%2037.922906000000005%5D%2C%20%22type%22%3A%20%22Point%22%7D%2C%20%22id%22%3A%20%2219%22%2C%20%22properties%22%3A%20%7B%22shape_id%22%3A%20%22shp-72-80%22%2C%20%22stop_id%22%3A%20%2250889%22%2C%20%22stop_sequence%22%3A%2021.0%2C%20%22total_speed_delay%22%3A%20null%7D%2C%20%22type%22%3A%20%22Feature%22%7D%2C%20%7B%22bbox%22%3A%20%5B-122.31494499999998%2C%2037.92015800000002%2C%20-122.31494499999998%2C%2037.92015800000002%5D%2C%20%22geometry%22%3A%20%7B%22coordinates%22%3A%20%5B-122.31494499999998%2C%2037.92015800000002%5D%2C%20%22type%22%3A%20%22Point%22%7D%2C%20%22id%22%3A%20%2220%22%2C%20%22properties%22%3A%20%7B%22shape_id%22%3A%20%22shp-72-80%22%2C%20%22stop_id%22%3A%20%2255506%22%2C%20%22stop_sequence%22%3A%2022.0%2C%20%22total_speed_delay%22%3A%20null%7D%2C%20%22type%22%3A%20%22Feature%22%7D%2C%20%7B%22bbox%22%3A%20%5B-122.31286699999998%2C%2037.91721000000005%2C%20-122.31286699999998%2C%2037.91721000000005%5D%2C%20%22geometry%22%3A%20%7B%22coordinates%22%3A%20%5B-122.31286699999998%2C%2037.91721000000005%5D%2C%20%22type%22%3A%20%22Point%22%7D%2C%20%22id%22%3A%20%2221%22%2C%20%22properties%22%3A%20%7B%22shape_id%22%3A%20%22shp-72-80%22%2C%20%22stop_id%22%3A%20%2254345%22%2C%20%22stop_sequence%22%3A%2023.0%2C%20%22total_speed_delay%22%3A%20null%7D%2C%20%22type%22%3A%20%22Feature%22%7D%2C%20%7B%22bbox%22%3A%20%5B-122.31184200000001%2C%2037.91575100000001%2C%20-122.31184200000001%2C%2037.91575100000001%5D%2C%20%22geometry%22%3A%20%7B%22coordinates%22%3A%20%5B-122.31184200000001%2C%2037.91575100000001%5D%2C%20%22type%22%3A%20%22Point%22%7D%2C%20%22id%22%3A%20%2222%22%2C%20%22properties%22%3A%20%7B%22shape_id%22%3A%20%22shp-72-80%22%2C%20%22stop_id%22%3A%20%2258988%22%2C%20%22stop_sequence%22%3A%2024.0%2C%20%22total_speed_delay%22%3A%20null%7D%2C%20%22type%22%3A%20%22Feature%22%7D%2C%20%7B%22bbox%22%3A%20%5B-122.31095000000002%2C%2037.91448199999999%2C%20-122.31095000000002%2C%2037.91448199999999%5D%2C%20%22geometry%22%3A%20%7B%22coordinates%22%3A%20%5B-122.31095000000002%2C%2037.91448199999999%5D%2C%20%22type%22%3A%20%22Point%22%7D%2C%20%22id%22%3A%20%2223%22%2C%20%22properties%22%3A%20%7B%22shape_id%22%3A%20%22shp-72-80%22%2C%20%22stop_id%22%3A%20%2254151%22%2C%20%22stop_sequence%22%3A%2025.0%2C%20%22total_speed_delay%22%3A%20null%7D%2C%20%22type%22%3A%20%22Feature%22%7D%2C%20%7B%22bbox%22%3A%20%5B-122.30861499999999%2C%2037.911073000000016%2C%20-122.30861499999999%2C%2037.911073000000016%5D%2C%20%22geometry%22%3A%20%7B%22coordinates%22%3A%20%5B-122.30861499999999%2C%2037.911073000000016%5D%2C%20%22type%22%3A%20%22Point%22%7D%2C%20%22id%22%3A%20%2224%22%2C%20%22properties%22%3A%20%7B%22shape_id%22%3A%20%22shp-72-80%22%2C%20%22stop_id%22%3A%20%2255594%22%2C%20%22stop_sequence%22%3A%2026.0%2C%20%22total_speed_delay%22%3A%20null%7D%2C%20%22type%22%3A%20%22Feature%22%7D%2C%20%7B%22bbox%22%3A%20%5B-122.30655%2C%2037.90803499999998%2C%20-122.30655%2C%2037.90803499999998%5D%2C%20%22geometry%22%3A%20%7B%22coordinates%22%3A%20%5B-122.30655%2C%2037.90803499999998%5D%2C%20%22type%22%3A%20%22Point%22%7D%2C%20%22id%22%3A%20%2225%22%2C%20%22properties%22%3A%20%7B%22shape_id%22%3A%20%22shp-72-80%22%2C%20%22stop_id%22%3A%20%2252005%22%2C%20%22stop_sequence%22%3A%2027.0%2C%20%22total_speed_delay%22%3A%20null%7D%2C%20%22type%22%3A%20%22Feature%22%7D%2C%20%7B%22bbox%22%3A%20%5B-122.30512500000002%2C%2037.90562799999996%2C%20-122.30512500000002%2C%2037.90562799999996%5D%2C%20%22geometry%22%3A%20%7B%22coordinates%22%3A%20%5B-122.30512500000002%2C%2037.90562799999996%5D%2C%20%22type%22%3A%20%22Point%22%7D%2C%20%22id%22%3A%20%2226%22%2C%20%22properties%22%3A%20%7B%22shape_id%22%3A%20%22shp-72-80%22%2C%20%22stop_id%22%3A%20%2250843%22%2C%20%22stop_sequence%22%3A%2028.0%2C%20%22total_speed_delay%22%3A%20null%7D%2C%20%22type%22%3A%20%22Feature%22%7D%2C%20%7B%22bbox%22%3A%20%5B-122.304235%2C%2037.903765999999976%2C%20-122.304235%2C%2037.903765999999976%5D%2C%20%22geometry%22%3A%20%7B%22coordinates%22%3A%20%5B-122.304235%2C%2037.903765999999976%5D%2C%20%22type%22%3A%20%22Point%22%7D%2C%20%22id%22%3A%20%2227%22%2C%20%22properties%22%3A%20%7B%22shape_id%22%3A%20%22shp-72-80%22%2C%20%22stop_id%22%3A%20%2250616%22%2C%20%22stop_sequence%22%3A%2029.0%2C%20%22total_speed_delay%22%3A%20null%7D%2C%20%22type%22%3A%20%22Feature%22%7D%2C%20%7B%22bbox%22%3A%20%5B-122.302929%2C%2037.90231599999996%2C%20-122.302929%2C%2037.90231599999996%5D%2C%20%22geometry%22%3A%20%7B%22coordinates%22%3A%20%5B-122.302929%2C%2037.90231599999996%5D%2C%20%22type%22%3A%20%22Point%22%7D%2C%20%22id%22%3A%20%2228%22%2C%20%22properties%22%3A%20%7B%22shape_id%22%3A%20%22shp-72-80%22%2C%20%22stop_id%22%3A%20%2252066%22%2C%20%22stop_sequence%22%3A%2030.0%2C%20%22total_speed_delay%22%3A%20null%7D%2C%20%22type%22%3A%20%22Feature%22%7D%2C%20%7B%22bbox%22%3A%20%5B-122.298598%2C%2037.90231599999998%2C%20-122.298598%2C%2037.90231599999998%5D%2C%20%22geometry%22%3A%20%7B%22coordinates%22%3A%20%5B-122.298598%2C%2037.90231599999998%5D%2C%20%22type%22%3A%20%22Point%22%7D%2C%20%22id%22%3A%20%2229%22%2C%20%22properties%22%3A%20%7B%22shape_id%22%3A%20%22shp-72-80%22%2C%20%22stop_id%22%3A%20%2257900%22%2C%20%22stop_sequence%22%3A%2031.0%2C%20%22total_speed_delay%22%3A%20null%7D%2C%20%22type%22%3A%20%22Feature%22%7D%2C%20%7B%22bbox%22%3A%20%5B-122.302555%2C%2037.900201999999965%2C%20-122.302555%2C%2037.900201999999965%5D%2C%20%22geometry%22%3A%20%7B%22coordinates%22%3A%20%5B-122.302555%2C%2037.900201999999965%5D%2C%20%22type%22%3A%20%22Point%22%7D%2C%20%22id%22%3A%20%2230%22%2C%20%22properties%22%3A%20%7B%22shape_id%22%3A%20%22shp-72-80%22%2C%20%22stop_id%22%3A%20%2252925%22%2C%20%22stop_sequence%22%3A%2032.0%2C%20%22total_speed_delay%22%3A%20null%7D%2C%20%22type%22%3A%20%22Feature%22%7D%2C%20%7B%22bbox%22%3A%20%5B-122.30181199999998%2C%2037.89858000000004%2C%20-122.30181199999998%2C%2037.89858000000004%5D%2C%20%22geometry%22%3A%20%7B%22coordinates%22%3A%20%5B-122.30181199999998%2C%2037.89858000000004%5D%2C%20%22type%22%3A%20%22Point%22%7D%2C%20%22id%22%3A%20%2231%22%2C%20%22properties%22%3A%20%7B%22shape_id%22%3A%20%22shp-72-80%22%2C%20%22stop_id%22%3A%20%2252221%22%2C%20%22stop_sequence%22%3A%2033.0%2C%20%22total_speed_delay%22%3A%20null%7D%2C%20%22type%22%3A%20%22Feature%22%7D%2C%20%7B%22bbox%22%3A%20%5B-122.30109000000002%2C%2037.89650999999998%2C%20-122.30109000000002%2C%2037.89650999999998%5D%2C%20%22geometry%22%3A%20%7B%22coordinates%22%3A%20%5B-122.30109000000002%2C%2037.89650999999998%5D%2C%20%22type%22%3A%20%22Point%22%7D%2C%20%22id%22%3A%20%2232%22%2C%20%22properties%22%3A%20%7B%22shape_id%22%3A%20%22shp-72-80%22%2C%20%22stop_id%22%3A%20%2256422%22%2C%20%22stop_sequence%22%3A%2034.0%2C%20%22total_speed_delay%22%3A%20null%7D%2C%20%22type%22%3A%20%22Feature%22%7D%2C%20%7B%22bbox%22%3A%20%5B-122.30037600000001%2C%2037.89428599999996%2C%20-122.30037600000001%2C%2037.89428599999996%5D%2C%20%22geometry%22%3A%20%7B%22coordinates%22%3A%20%5B-122.30037600000001%2C%2037.89428599999996%5D%2C%20%22type%22%3A%20%22Point%22%7D%2C%20%22id%22%3A%20%2233%22%2C%20%22properties%22%3A%20%7B%22shape_id%22%3A%20%22shp-72-80%22%2C%20%22stop_id%22%3A%20%2255728%22%2C%20%22stop_sequence%22%3A%2035.0%2C%20%22total_speed_delay%22%3A%20null%7D%2C%20%22type%22%3A%20%22Feature%22%7D%2C%20%7B%22bbox%22%3A%20%5B-122.29901300000002%2C%2037.88996500000004%2C%20-122.29901300000002%2C%2037.88996500000004%5D%2C%20%22geometry%22%3A%20%7B%22coordinates%22%3A%20%5B-122.29901300000002%2C%2037.88996500000004%5D%2C%20%22type%22%3A%20%22Point%22%7D%2C%20%22id%22%3A%20%2234%22%2C%20%22properties%22%3A%20%7B%22shape_id%22%3A%20%22shp-72-80%22%2C%20%22stop_id%22%3A%20%2256688%22%2C%20%22stop_sequence%22%3A%2036.0%2C%20%22total_speed_delay%22%3A%20null%7D%2C%20%22type%22%3A%20%22Feature%22%7D%2C%20%7B%22bbox%22%3A%20%5B-122.298404%2C%2037.88809599999993%2C%20-122.298404%2C%2037.88809599999993%5D%2C%20%22geometry%22%3A%20%7B%22coordinates%22%3A%20%5B-122.298404%2C%2037.88809599999993%5D%2C%20%22type%22%3A%20%22Point%22%7D%2C%20%22id%22%3A%20%2235%22%2C%20%22properties%22%3A%20%7B%22shape_id%22%3A%20%22shp-72-80%22%2C%20%22stop_id%22%3A%20%2257957%22%2C%20%22stop_sequence%22%3A%2037.0%2C%20%22total_speed_delay%22%3A%20null%7D%2C%20%22type%22%3A%20%22Feature%22%7D%2C%20%7B%22bbox%22%3A%20%5B-122.29787%2C%2037.88646200000004%2C%20-122.29787%2C%2037.88646200000004%5D%2C%20%22geometry%22%3A%20%7B%22coordinates%22%3A%20%5B-122.29787%2C%2037.88646200000004%5D%2C%20%22type%22%3A%20%22Point%22%7D%2C%20%22id%22%3A%20%2236%22%2C%20%22properties%22%3A%20%7B%22shape_id%22%3A%20%22shp-72-80%22%2C%20%22stop_id%22%3A%20%2251166%22%2C%20%22stop_sequence%22%3A%2038.0%2C%20%22total_speed_delay%22%3A%20null%7D%2C%20%22type%22%3A%20%22Feature%22%7D%2C%20%7B%22bbox%22%3A%20%5B-122.297213%2C%2037.884409999999995%2C%20-122.297213%2C%2037.884409999999995%5D%2C%20%22geometry%22%3A%20%7B%22coordinates%22%3A%20%5B-122.297213%2C%2037.884409999999995%5D%2C%20%22type%22%3A%20%22Point%22%7D%2C%20%22id%22%3A%20%2237%22%2C%20%22properties%22%3A%20%7B%22shape_id%22%3A%20%22shp-72-80%22%2C%20%22stop_id%22%3A%20%2254344%22%2C%20%22stop_sequence%22%3A%2039.0%2C%20%22total_speed_delay%22%3A%20null%7D%2C%20%22type%22%3A%20%22Feature%22%7D%2C%20%7B%22bbox%22%3A%20%5B-122.29645199999999%2C%2037.882043000000024%2C%20-122.29645199999999%2C%2037.882043000000024%5D%2C%20%22geometry%22%3A%20%7B%22coordinates%22%3A%20%5B-122.29645199999999%2C%2037.882043000000024%5D%2C%20%22type%22%3A%20%22Point%22%7D%2C%20%22id%22%3A%20%2238%22%2C%20%22properties%22%3A%20%7B%22shape_id%22%3A%20%22shp-72-80%22%2C%20%22stop_id%22%3A%20%2255929%22%2C%20%22stop_sequence%22%3A%2040.0%2C%20%22total_speed_delay%22%3A%20null%7D%2C%20%22type%22%3A%20%22Feature%22%7D%2C%20%7B%22bbox%22%3A%20%5B-122.295773%2C%2037.879896999999964%2C%20-122.295773%2C%2037.879896999999964%5D%2C%20%22geometry%22%3A%20%7B%22coordinates%22%3A%20%5B-122.295773%2C%2037.879896999999964%5D%2C%20%22type%22%3A%20%22Point%22%7D%2C%20%22id%22%3A%20%2239%22%2C%20%22properties%22%3A%20%7B%22shape_id%22%3A%20%22shp-72-80%22%2C%20%22stop_id%22%3A%20%2255501%22%2C%20%22stop_sequence%22%3A%2041.0%2C%20%22total_speed_delay%22%3A%20null%7D%2C%20%22type%22%3A%20%22Feature%22%7D%2C%20%7B%22bbox%22%3A%20%5B-122.29493200000002%2C%2037.87732400000001%2C%20-122.29493200000002%2C%2037.87732400000001%5D%2C%20%22geometry%22%3A%20%7B%22coordinates%22%3A%20%5B-122.29493200000002%2C%2037.87732400000001%5D%2C%20%22type%22%3A%20%22Point%22%7D%2C%20%22id%22%3A%20%2240%22%2C%20%22properties%22%3A%20%7B%22shape_id%22%3A%20%22shp-72-80%22%2C%20%22stop_id%22%3A%20%2253005%22%2C%20%22stop_sequence%22%3A%2042.0%2C%20%22total_speed_delay%22%3A%20null%7D%2C%20%22type%22%3A%20%22Feature%22%7D%2C%20%7B%22bbox%22%3A%20%5B-122.29432900000002%2C%2037.87541799999999%2C%20-122.29432900000002%2C%2037.87541799999999%5D%2C%20%22geometry%22%3A%20%7B%22coordinates%22%3A%20%5B-122.29432900000002%2C%2037.87541799999999%5D%2C%20%22type%22%3A%20%22Point%22%7D%2C%20%22id%22%3A%20%2241%22%2C%20%22properties%22%3A%20%7B%22shape_id%22%3A%20%22shp-72-80%22%2C%20%22stop_id%22%3A%20%2259600%22%2C%20%22stop_sequence%22%3A%2043.0%2C%20%22total_speed_delay%22%3A%20null%7D%2C%20%22type%22%3A%20%22Feature%22%7D%2C%20%7B%22bbox%22%3A%20%5B-122.293147%2C%2037.871763000000044%2C%20-122.293147%2C%2037.871763000000044%5D%2C%20%22geometry%22%3A%20%7B%22coordinates%22%3A%20%5B-122.293147%2C%2037.871763000000044%5D%2C%20%22type%22%3A%20%22Point%22%7D%2C%20%22id%22%3A%20%2242%22%2C%20%22properties%22%3A%20%7B%22shape_id%22%3A%20%22shp-72-80%22%2C%20%22stop_id%22%3A%20%2259755%22%2C%20%22stop_sequence%22%3A%2044.0%2C%20%22total_speed_delay%22%3A%20null%7D%2C%20%22type%22%3A%20%22Feature%22%7D%2C%20%7B%22bbox%22%3A%20%5B-122.29209%2C%2037.86870599999997%2C%20-122.29209%2C%2037.86870599999997%5D%2C%20%22geometry%22%3A%20%7B%22coordinates%22%3A%20%5B-122.29209%2C%2037.86870599999997%5D%2C%20%22type%22%3A%20%22Point%22%7D%2C%20%22id%22%3A%20%2243%22%2C%20%22properties%22%3A%20%7B%22shape_id%22%3A%20%22shp-72-80%22%2C%20%22stop_id%22%3A%20%2255111%22%2C%20%22stop_sequence%22%3A%2045.0%2C%20%22total_speed_delay%22%3A%20null%7D%2C%20%22type%22%3A%20%22Feature%22%7D%2C%20%7B%22bbox%22%3A%20%5B-122.291436%2C%2037.866481%2C%20-122.291436%2C%2037.866481%5D%2C%20%22geometry%22%3A%20%7B%22coordinates%22%3A%20%5B-122.291436%2C%2037.866481%5D%2C%20%22type%22%3A%20%22Point%22%7D%2C%20%22id%22%3A%20%2244%22%2C%20%22properties%22%3A%20%7B%22shape_id%22%3A%20%22shp-72-80%22%2C%20%22stop_id%22%3A%20%2259591%22%2C%20%22stop_sequence%22%3A%2046.0%2C%20%22total_speed_delay%22%3A%20null%7D%2C%20%22type%22%3A%20%22Feature%22%7D%2C%20%7B%22bbox%22%3A%20%5B-122.290869%2C%2037.86471099999999%2C%20-122.290869%2C%2037.86471099999999%5D%2C%20%22geometry%22%3A%20%7B%22coordinates%22%3A%20%5B-122.290869%2C%2037.86471099999999%5D%2C%20%22type%22%3A%20%22Point%22%7D%2C%20%22id%22%3A%20%2245%22%2C%20%22properties%22%3A%20%7B%22shape_id%22%3A%20%22shp-72-80%22%2C%20%22stop_id%22%3A%20%2259277%22%2C%20%22stop_sequence%22%3A%2047.0%2C%20%22total_speed_delay%22%3A%20null%7D%2C%20%22type%22%3A%20%22Feature%22%7D%2C%20%7B%22bbox%22%3A%20%5B-122.29029900000002%2C%2037.862929999999984%2C%20-122.29029900000002%2C%2037.862929999999984%5D%2C%20%22geometry%22%3A%20%7B%22coordinates%22%3A%20%5B-122.29029900000002%2C%2037.862929999999984%5D%2C%20%22type%22%3A%20%22Point%22%7D%2C%20%22id%22%3A%20%2246%22%2C%20%22properties%22%3A%20%7B%22shape_id%22%3A%20%22shp-72-80%22%2C%20%22stop_id%22%3A%20%2250344%22%2C%20%22stop_sequence%22%3A%2048.0%2C%20%22total_speed_delay%22%3A%20null%7D%2C%20%22type%22%3A%20%22Feature%22%7D%2C%20%7B%22bbox%22%3A%20%5B-122.28958300000001%2C%2037.860793999999984%2C%20-122.28958300000001%2C%2037.860793999999984%5D%2C%20%22geometry%22%3A%20%7B%22coordinates%22%3A%20%5B-122.28958300000001%2C%2037.860793999999984%5D%2C%20%22type%22%3A%20%22Point%22%7D%2C%20%22id%22%3A%20%2247%22%2C%20%22properties%22%3A%20%7B%22shape_id%22%3A%20%22shp-72-80%22%2C%20%22stop_id%22%3A%20%2257755%22%2C%20%22stop_sequence%22%3A%2049.0%2C%20%22total_speed_delay%22%3A%20null%7D%2C%20%22type%22%3A%20%22Feature%22%7D%2C%20%7B%22bbox%22%3A%20%5B-122.28917%2C%2037.859454000000014%2C%20-122.28917%2C%2037.859454000000014%5D%2C%20%22geometry%22%3A%20%7B%22coordinates%22%3A%20%5B-122.28917%2C%2037.859454000000014%5D%2C%20%22type%22%3A%20%22Point%22%7D%2C%20%22id%22%3A%20%2248%22%2C%20%22properties%22%3A%20%7B%22shape_id%22%3A%20%22shp-72-80%22%2C%20%22stop_id%22%3A%20%2256077%22%2C%20%22stop_sequence%22%3A%2050.0%2C%20%22total_speed_delay%22%3A%20null%7D%2C%20%22type%22%3A%20%22Feature%22%7D%2C%20%7B%22bbox%22%3A%20%5B-122.28816%2C%2037.856293999999984%2C%20-122.28816%2C%2037.856293999999984%5D%2C%20%22geometry%22%3A%20%7B%22coordinates%22%3A%20%5B-122.28816%2C%2037.856293999999984%5D%2C%20%22type%22%3A%20%22Point%22%7D%2C%20%22id%22%3A%20%2249%22%2C%20%22properties%22%3A%20%7B%22shape_id%22%3A%20%22shp-72-80%22%2C%20%22stop_id%22%3A%20%2253003%22%2C%20%22stop_sequence%22%3A%2051.0%2C%20%22total_speed_delay%22%3A%20null%7D%2C%20%22type%22%3A%20%22Feature%22%7D%2C%20%7B%22bbox%22%3A%20%5B-122.28757700000001%2C%2037.85445600000004%2C%20-122.28757700000001%2C%2037.85445600000004%5D%2C%20%22geometry%22%3A%20%7B%22coordinates%22%3A%20%5B-122.28757700000001%2C%2037.85445600000004%5D%2C%20%22type%22%3A%20%22Point%22%7D%2C%20%22id%22%3A%20%2250%22%2C%20%22properties%22%3A%20%7B%22shape_id%22%3A%20%22shp-72-80%22%2C%20%22stop_id%22%3A%20%2259377%22%2C%20%22stop_sequence%22%3A%2052.0%2C%20%22total_speed_delay%22%3A%20null%7D%2C%20%22type%22%3A%20%22Feature%22%7D%2C%20%7B%22bbox%22%3A%20%5B-122.28671200000001%2C%2037.85180500000002%2C%20-122.28671200000001%2C%2037.85180500000002%5D%2C%20%22geometry%22%3A%20%7B%22coordinates%22%3A%20%5B-122.28671200000001%2C%2037.85180500000002%5D%2C%20%22type%22%3A%20%22Point%22%7D%2C%20%22id%22%3A%20%2251%22%2C%20%22properties%22%3A%20%7B%22shape_id%22%3A%20%22shp-72-80%22%2C%20%22stop_id%22%3A%20%2252228%22%2C%20%22stop_sequence%22%3A%2053.0%2C%20%22total_speed_delay%22%3A%20null%7D%2C%20%22type%22%3A%20%22Feature%22%7D%2C%20%7B%22bbox%22%3A%20%5B-122.28607200000002%2C%2037.84978900000001%2C%20-122.28607200000002%2C%2037.84978900000001%5D%2C%20%22geometry%22%3A%20%7B%22coordinates%22%3A%20%5B-122.28607200000002%2C%2037.84978900000001%5D%2C%20%22type%22%3A%20%22Point%22%7D%2C%20%22id%22%3A%20%2252%22%2C%20%22properties%22%3A%20%7B%22shape_id%22%3A%20%22shp-72-80%22%2C%20%22stop_id%22%3A%20%2251832%22%2C%20%22stop_sequence%22%3A%2054.0%2C%20%22total_speed_delay%22%3A%20null%7D%2C%20%22type%22%3A%20%22Feature%22%7D%2C%20%7B%22bbox%22%3A%20%5B-122.28554300000002%2C%2037.84814600000002%2C%20-122.28554300000002%2C%2037.84814600000002%5D%2C%20%22geometry%22%3A%20%7B%22coordinates%22%3A%20%5B-122.28554300000002%2C%2037.84814600000002%5D%2C%20%22type%22%3A%20%22Point%22%7D%2C%20%22id%22%3A%20%2253%22%2C%20%22properties%22%3A%20%7B%22shape_id%22%3A%20%22shp-72-80%22%2C%20%22stop_id%22%3A%20%2254119%22%2C%20%22stop_sequence%22%3A%2055.0%2C%20%22total_speed_delay%22%3A%20null%7D%2C%20%22type%22%3A%20%22Feature%22%7D%2C%20%7B%22bbox%22%3A%20%5B-122.28502400000002%2C%2037.84654400000001%2C%20-122.28502400000002%2C%2037.84654400000001%5D%2C%20%22geometry%22%3A%20%7B%22coordinates%22%3A%20%5B-122.28502400000002%2C%2037.84654400000001%5D%2C%20%22type%22%3A%20%22Point%22%7D%2C%20%22id%22%3A%20%2254%22%2C%20%22properties%22%3A%20%7B%22shape_id%22%3A%20%22shp-72-80%22%2C%20%22stop_id%22%3A%20%2252226%22%2C%20%22stop_sequence%22%3A%2056.0%2C%20%22total_speed_delay%22%3A%20null%7D%2C%20%22type%22%3A%20%22Feature%22%7D%2C%20%7B%22bbox%22%3A%20%5B-122.28445499999998%2C%2037.84478900000004%2C%20-122.28445499999998%2C%2037.84478900000004%5D%2C%20%22geometry%22%3A%20%7B%22coordinates%22%3A%20%5B-122.28445499999998%2C%2037.84478900000004%5D%2C%20%22type%22%3A%20%22Point%22%7D%2C%20%22id%22%3A%20%2255%22%2C%20%22properties%22%3A%20%7B%22shape_id%22%3A%20%22shp-72-80%22%2C%20%22stop_id%22%3A%20%2256956%22%2C%20%22stop_sequence%22%3A%2057.0%2C%20%22total_speed_delay%22%3A%20null%7D%2C%20%22type%22%3A%20%22Feature%22%7D%2C%20%7B%22bbox%22%3A%20%5B-122.28304699999998%2C%2037.840477000000035%2C%20-122.28304699999998%2C%2037.840477000000035%5D%2C%20%22geometry%22%3A%20%7B%22coordinates%22%3A%20%5B-122.28304699999998%2C%2037.840477000000035%5D%2C%20%22type%22%3A%20%22Point%22%7D%2C%20%22id%22%3A%20%2256%22%2C%20%22properties%22%3A%20%7B%22shape_id%22%3A%20%22shp-72-80%22%2C%20%22stop_id%22%3A%20%2255547%22%2C%20%22stop_sequence%22%3A%2058.0%2C%20%22total_speed_delay%22%3A%20null%7D%2C%20%22type%22%3A%20%22Feature%22%7D%2C%20%7B%22bbox%22%3A%20%5B-122.282549%2C%2037.83890600000003%2C%20-122.282549%2C%2037.83890600000003%5D%2C%20%22geometry%22%3A%20%7B%22coordinates%22%3A%20%5B-122.282549%2C%2037.83890600000003%5D%2C%20%22type%22%3A%20%22Point%22%7D%2C%20%22id%22%3A%20%2257%22%2C%20%22properties%22%3A%20%7B%22shape_id%22%3A%20%22shp-72-80%22%2C%20%22stop_id%22%3A%20%2258810%22%2C%20%22stop_sequence%22%3A%2059.0%2C%20%22total_speed_delay%22%3A%20null%7D%2C%20%22type%22%3A%20%22Feature%22%7D%2C%20%7B%22bbox%22%3A%20%5B-122.28206700000001%2C%2037.837379000000034%2C%20-122.28206700000001%2C%2037.837379000000034%5D%2C%20%22geometry%22%3A%20%7B%22coordinates%22%3A%20%5B-122.28206700000001%2C%2037.837379000000034%5D%2C%20%22type%22%3A%20%22Point%22%7D%2C%20%22id%22%3A%20%2258%22%2C%20%22properties%22%3A%20%7B%22shape_id%22%3A%20%22shp-72-80%22%2C%20%22stop_id%22%3A%20%2255646%22%2C%20%22stop_sequence%22%3A%2060.0%2C%20%22total_speed_delay%22%3A%20null%7D%2C%20%22type%22%3A%20%22Feature%22%7D%2C%20%7B%22bbox%22%3A%20%5B-122.28137900000002%2C%2037.835263000000005%2C%20-122.28137900000002%2C%2037.835263000000005%5D%2C%20%22geometry%22%3A%20%7B%22coordinates%22%3A%20%5B-122.28137900000002%2C%2037.835263000000005%5D%2C%20%22type%22%3A%20%22Point%22%7D%2C%20%22id%22%3A%20%2259%22%2C%20%22properties%22%3A%20%7B%22shape_id%22%3A%20%22shp-72-80%22%2C%20%22stop_id%22%3A%20%2251990%22%2C%20%22stop_sequence%22%3A%2061.0%2C%20%22total_speed_delay%22%3A%20null%7D%2C%20%22type%22%3A%20%22Feature%22%7D%2C%20%7B%22bbox%22%3A%20%5B-122.280922%2C%2037.83384000000002%2C%20-122.280922%2C%2037.83384000000002%5D%2C%20%22geometry%22%3A%20%7B%22coordinates%22%3A%20%5B-122.280922%2C%2037.83384000000002%5D%2C%20%22type%22%3A%20%22Point%22%7D%2C%20%22id%22%3A%20%2260%22%2C%20%22properties%22%3A%20%7B%22shape_id%22%3A%20%22shp-72-80%22%2C%20%22stop_id%22%3A%20%2251041%22%2C%20%22stop_sequence%22%3A%2062.0%2C%20%22total_speed_delay%22%3A%20null%7D%2C%20%22type%22%3A%20%22Feature%22%7D%2C%20%7B%22bbox%22%3A%20%5B-122.279851%2C%2037.83060900000001%2C%20-122.279851%2C%2037.83060900000001%5D%2C%20%22geometry%22%3A%20%7B%22coordinates%22%3A%20%5B-122.279851%2C%2037.83060900000001%5D%2C%20%22type%22%3A%20%22Point%22%7D%2C%20%22id%22%3A%20%2261%22%2C%20%22properties%22%3A%20%7B%22shape_id%22%3A%20%22shp-72-80%22%2C%20%22stop_id%22%3A%20%2255505%22%2C%20%22stop_sequence%22%3A%2063.0%2C%20%22total_speed_delay%22%3A%20null%7D%2C%20%22type%22%3A%20%22Feature%22%7D%2C%20%7B%22bbox%22%3A%20%5B-122.27848900000001%2C%2037.82620100000002%2C%20-122.27848900000001%2C%2037.82620100000002%5D%2C%20%22geometry%22%3A%20%7B%22coordinates%22%3A%20%5B-122.27848900000001%2C%2037.82620100000002%5D%2C%20%22type%22%3A%20%22Point%22%7D%2C%20%22id%22%3A%20%2262%22%2C%20%22properties%22%3A%20%7B%22shape_id%22%3A%20%22shp-72-80%22%2C%20%22stop_id%22%3A%20%2253107%22%2C%20%22stop_sequence%22%3A%2064.0%2C%20%22total_speed_delay%22%3A%20null%7D%2C%20%22type%22%3A%20%22Feature%22%7D%2C%20%7B%22bbox%22%3A%20%5B-122.32021600000002%2C%2037.92761999999999%2C%20-122.32021600000002%2C%2037.92761999999999%5D%2C%20%22geometry%22%3A%20%7B%22coordinates%22%3A%20%5B-122.32021600000002%2C%2037.92761999999999%5D%2C%20%22type%22%3A%20%22Point%22%7D%2C%20%22id%22%3A%20%22107%22%2C%20%22properties%22%3A%20%7B%22shape_id%22%3A%20%22shp-72-81%22%2C%20%22stop_id%22%3A%20%2251162%22%2C%20%22stop_sequence%22%3A%2034.0%2C%20%22total_speed_delay%22%3A%20null%7D%2C%20%22type%22%3A%20%22Feature%22%7D%2C%20%7B%22bbox%22%3A%20%5B-122.31621%2C%2037.92440200000003%2C%20-122.31621%2C%2037.92440200000003%5D%2C%20%22geometry%22%3A%20%7B%22coordinates%22%3A%20%5B-122.31621%2C%2037.92440200000003%5D%2C%20%22type%22%3A%20%22Point%22%7D%2C%20%22id%22%3A%20%22108%22%2C%20%22properties%22%3A%20%7B%22shape_id%22%3A%20%22shp-72-81%22%2C%20%22stop_id%22%3A%20%2259667%22%2C%20%22stop_sequence%22%3A%2035.0%2C%20%22total_speed_delay%22%3A%20null%7D%2C%20%22type%22%3A%20%22Feature%22%7D%2C%20%7B%22bbox%22%3A%20%5B-122.31691300000001%2C%2037.922906000000005%2C%20-122.31691300000001%2C%2037.922906000000005%5D%2C%20%22geometry%22%3A%20%7B%22coordinates%22%3A%20%5B-122.31691300000001%2C%2037.922906000000005%5D%2C%20%22type%22%3A%20%22Point%22%7D%2C%20%22id%22%3A%20%22109%22%2C%20%22properties%22%3A%20%7B%22shape_id%22%3A%20%22shp-72-81%22%2C%20%22stop_id%22%3A%20%2250889%22%2C%20%22stop_sequence%22%3A%2036.0%2C%20%22total_speed_delay%22%3A%20null%7D%2C%20%22type%22%3A%20%22Feature%22%7D%2C%20%7B%22bbox%22%3A%20%5B-122.31494499999998%2C%2037.92015800000002%2C%20-122.31494499999998%2C%2037.92015800000002%5D%2C%20%22geometry%22%3A%20%7B%22coordinates%22%3A%20%5B-122.31494499999998%2C%2037.92015800000002%5D%2C%20%22type%22%3A%20%22Point%22%7D%2C%20%22id%22%3A%20%22110%22%2C%20%22properties%22%3A%20%7B%22shape_id%22%3A%20%22shp-72-81%22%2C%20%22stop_id%22%3A%20%2255506%22%2C%20%22stop_sequence%22%3A%2037.0%2C%20%22total_speed_delay%22%3A%20null%7D%2C%20%22type%22%3A%20%22Feature%22%7D%2C%20%7B%22bbox%22%3A%20%5B-122.31286699999998%2C%2037.91721000000005%2C%20-122.31286699999998%2C%2037.91721000000005%5D%2C%20%22geometry%22%3A%20%7B%22coordinates%22%3A%20%5B-122.31286699999998%2C%2037.91721000000005%5D%2C%20%22type%22%3A%20%22Point%22%7D%2C%20%22id%22%3A%20%22111%22%2C%20%22properties%22%3A%20%7B%22shape_id%22%3A%20%22shp-72-81%22%2C%20%22stop_id%22%3A%20%2254345%22%2C%20%22stop_sequence%22%3A%2038.0%2C%20%22total_speed_delay%22%3A%20null%7D%2C%20%22type%22%3A%20%22Feature%22%7D%2C%20%7B%22bbox%22%3A%20%5B-122.31184200000001%2C%2037.91575100000001%2C%20-122.31184200000001%2C%2037.91575100000001%5D%2C%20%22geometry%22%3A%20%7B%22coordinates%22%3A%20%5B-122.31184200000001%2C%2037.91575100000001%5D%2C%20%22type%22%3A%20%22Point%22%7D%2C%20%22id%22%3A%20%22112%22%2C%20%22properties%22%3A%20%7B%22shape_id%22%3A%20%22shp-72-81%22%2C%20%22stop_id%22%3A%20%2258988%22%2C%20%22stop_sequence%22%3A%2039.0%2C%20%22total_speed_delay%22%3A%20null%7D%2C%20%22type%22%3A%20%22Feature%22%7D%2C%20%7B%22bbox%22%3A%20%5B-122.31095000000002%2C%2037.91448199999999%2C%20-122.31095000000002%2C%2037.91448199999999%5D%2C%20%22geometry%22%3A%20%7B%22coordinates%22%3A%20%5B-122.31095000000002%2C%2037.91448199999999%5D%2C%20%22type%22%3A%20%22Point%22%7D%2C%20%22id%22%3A%20%22113%22%2C%20%22properties%22%3A%20%7B%22shape_id%22%3A%20%22shp-72-81%22%2C%20%22stop_id%22%3A%20%2254151%22%2C%20%22stop_sequence%22%3A%2040.0%2C%20%22total_speed_delay%22%3A%20null%7D%2C%20%22type%22%3A%20%22Feature%22%7D%2C%20%7B%22bbox%22%3A%20%5B-122.30861499999999%2C%2037.911073000000016%2C%20-122.30861499999999%2C%2037.911073000000016%5D%2C%20%22geometry%22%3A%20%7B%22coordinates%22%3A%20%5B-122.30861499999999%2C%2037.911073000000016%5D%2C%20%22type%22%3A%20%22Point%22%7D%2C%20%22id%22%3A%20%22114%22%2C%20%22properties%22%3A%20%7B%22shape_id%22%3A%20%22shp-72-81%22%2C%20%22stop_id%22%3A%20%2255594%22%2C%20%22stop_sequence%22%3A%2041.0%2C%20%22total_speed_delay%22%3A%20null%7D%2C%20%22type%22%3A%20%22Feature%22%7D%2C%20%7B%22bbox%22%3A%20%5B-122.30655%2C%2037.90803499999998%2C%20-122.30655%2C%2037.90803499999998%5D%2C%20%22geometry%22%3A%20%7B%22coordinates%22%3A%20%5B-122.30655%2C%2037.90803499999998%5D%2C%20%22type%22%3A%20%22Point%22%7D%2C%20%22id%22%3A%20%22115%22%2C%20%22properties%22%3A%20%7B%22shape_id%22%3A%20%22shp-72-81%22%2C%20%22stop_id%22%3A%20%2252005%22%2C%20%22stop_sequence%22%3A%2042.0%2C%20%22total_speed_delay%22%3A%20null%7D%2C%20%22type%22%3A%20%22Feature%22%7D%2C%20%7B%22bbox%22%3A%20%5B-122.30512500000002%2C%2037.90562799999996%2C%20-122.30512500000002%2C%2037.90562799999996%5D%2C%20%22geometry%22%3A%20%7B%22coordinates%22%3A%20%5B-122.30512500000002%2C%2037.90562799999996%5D%2C%20%22type%22%3A%20%22Point%22%7D%2C%20%22id%22%3A%20%22116%22%2C%20%22properties%22%3A%20%7B%22shape_id%22%3A%20%22shp-72-81%22%2C%20%22stop_id%22%3A%20%2250843%22%2C%20%22stop_sequence%22%3A%2043.0%2C%20%22total_speed_delay%22%3A%20null%7D%2C%20%22type%22%3A%20%22Feature%22%7D%2C%20%7B%22bbox%22%3A%20%5B-122.304235%2C%2037.903765999999976%2C%20-122.304235%2C%2037.903765999999976%5D%2C%20%22geometry%22%3A%20%7B%22coordinates%22%3A%20%5B-122.304235%2C%2037.903765999999976%5D%2C%20%22type%22%3A%20%22Point%22%7D%2C%20%22id%22%3A%20%22117%22%2C%20%22properties%22%3A%20%7B%22shape_id%22%3A%20%22shp-72-81%22%2C%20%22stop_id%22%3A%20%2250616%22%2C%20%22stop_sequence%22%3A%2044.0%2C%20%22total_speed_delay%22%3A%20null%7D%2C%20%22type%22%3A%20%22Feature%22%7D%2C%20%7B%22bbox%22%3A%20%5B-122.302929%2C%2037.90231599999996%2C%20-122.302929%2C%2037.90231599999996%5D%2C%20%22geometry%22%3A%20%7B%22coordinates%22%3A%20%5B-122.302929%2C%2037.90231599999996%5D%2C%20%22type%22%3A%20%22Point%22%7D%2C%20%22id%22%3A%20%22118%22%2C%20%22properties%22%3A%20%7B%22shape_id%22%3A%20%22shp-72-81%22%2C%20%22stop_id%22%3A%20%2252066%22%2C%20%22stop_sequence%22%3A%2045.0%2C%20%22total_speed_delay%22%3A%20null%7D%2C%20%22type%22%3A%20%22Feature%22%7D%2C%20%7B%22bbox%22%3A%20%5B-122.298598%2C%2037.90231599999998%2C%20-122.298598%2C%2037.90231599999998%5D%2C%20%22geometry%22%3A%20%7B%22coordinates%22%3A%20%5B-122.298598%2C%2037.90231599999998%5D%2C%20%22type%22%3A%20%22Point%22%7D%2C%20%22id%22%3A%20%22119%22%2C%20%22properties%22%3A%20%7B%22shape_id%22%3A%20%22shp-72-81%22%2C%20%22stop_id%22%3A%20%2257900%22%2C%20%22stop_sequence%22%3A%2046.0%2C%20%22total_speed_delay%22%3A%20null%7D%2C%20%22type%22%3A%20%22Feature%22%7D%2C%20%7B%22bbox%22%3A%20%5B-122.302555%2C%2037.900201999999965%2C%20-122.302555%2C%2037.900201999999965%5D%2C%20%22geometry%22%3A%20%7B%22coordinates%22%3A%20%5B-122.302555%2C%2037.900201999999965%5D%2C%20%22type%22%3A%20%22Point%22%7D%2C%20%22id%22%3A%20%22120%22%2C%20%22properties%22%3A%20%7B%22shape_id%22%3A%20%22shp-72-81%22%2C%20%22stop_id%22%3A%20%2252925%22%2C%20%22stop_sequence%22%3A%2047.0%2C%20%22total_speed_delay%22%3A%20null%7D%2C%20%22type%22%3A%20%22Feature%22%7D%2C%20%7B%22bbox%22%3A%20%5B-122.30181199999998%2C%2037.89858000000004%2C%20-122.30181199999998%2C%2037.89858000000004%5D%2C%20%22geometry%22%3A%20%7B%22coordinates%22%3A%20%5B-122.30181199999998%2C%2037.89858000000004%5D%2C%20%22type%22%3A%20%22Point%22%7D%2C%20%22id%22%3A%20%22121%22%2C%20%22properties%22%3A%20%7B%22shape_id%22%3A%20%22shp-72-81%22%2C%20%22stop_id%22%3A%20%2252221%22%2C%20%22stop_sequence%22%3A%2048.0%2C%20%22total_speed_delay%22%3A%20null%7D%2C%20%22type%22%3A%20%22Feature%22%7D%2C%20%7B%22bbox%22%3A%20%5B-122.30109000000002%2C%2037.89650999999998%2C%20-122.30109000000002%2C%2037.89650999999998%5D%2C%20%22geometry%22%3A%20%7B%22coordinates%22%3A%20%5B-122.30109000000002%2C%2037.89650999999998%5D%2C%20%22type%22%3A%20%22Point%22%7D%2C%20%22id%22%3A%20%22122%22%2C%20%22properties%22%3A%20%7B%22shape_id%22%3A%20%22shp-72-81%22%2C%20%22stop_id%22%3A%20%2256422%22%2C%20%22stop_sequence%22%3A%2049.0%2C%20%22total_speed_delay%22%3A%20null%7D%2C%20%22type%22%3A%20%22Feature%22%7D%2C%20%7B%22bbox%22%3A%20%5B-122.30037600000001%2C%2037.89428599999996%2C%20-122.30037600000001%2C%2037.89428599999996%5D%2C%20%22geometry%22%3A%20%7B%22coordinates%22%3A%20%5B-122.30037600000001%2C%2037.89428599999996%5D%2C%20%22type%22%3A%20%22Point%22%7D%2C%20%22id%22%3A%20%22123%22%2C%20%22properties%22%3A%20%7B%22shape_id%22%3A%20%22shp-72-81%22%2C%20%22stop_id%22%3A%20%2255728%22%2C%20%22stop_sequence%22%3A%2050.0%2C%20%22total_speed_delay%22%3A%20null%7D%2C%20%22type%22%3A%20%22Feature%22%7D%2C%20%7B%22bbox%22%3A%20%5B-122.29901300000002%2C%2037.88996500000004%2C%20-122.29901300000002%2C%2037.88996500000004%5D%2C%20%22geometry%22%3A%20%7B%22coordinates%22%3A%20%5B-122.29901300000002%2C%2037.88996500000004%5D%2C%20%22type%22%3A%20%22Point%22%7D%2C%20%22id%22%3A%20%22124%22%2C%20%22properties%22%3A%20%7B%22shape_id%22%3A%20%22shp-72-81%22%2C%20%22stop_id%22%3A%20%2256688%22%2C%20%22stop_sequence%22%3A%2051.0%2C%20%22total_speed_delay%22%3A%20null%7D%2C%20%22type%22%3A%20%22Feature%22%7D%2C%20%7B%22bbox%22%3A%20%5B-122.298404%2C%2037.88809599999993%2C%20-122.298404%2C%2037.88809599999993%5D%2C%20%22geometry%22%3A%20%7B%22coordinates%22%3A%20%5B-122.298404%2C%2037.88809599999993%5D%2C%20%22type%22%3A%20%22Point%22%7D%2C%20%22id%22%3A%20%22125%22%2C%20%22properties%22%3A%20%7B%22shape_id%22%3A%20%22shp-72-81%22%2C%20%22stop_id%22%3A%20%2257957%22%2C%20%22stop_sequence%22%3A%2052.0%2C%20%22total_speed_delay%22%3A%20null%7D%2C%20%22type%22%3A%20%22Feature%22%7D%2C%20%7B%22bbox%22%3A%20%5B-122.29787%2C%2037.88646200000004%2C%20-122.29787%2C%2037.88646200000004%5D%2C%20%22geometry%22%3A%20%7B%22coordinates%22%3A%20%5B-122.29787%2C%2037.88646200000004%5D%2C%20%22type%22%3A%20%22Point%22%7D%2C%20%22id%22%3A%20%22126%22%2C%20%22properties%22%3A%20%7B%22shape_id%22%3A%20%22shp-72-81%22%2C%20%22stop_id%22%3A%20%2251166%22%2C%20%22stop_sequence%22%3A%2053.0%2C%20%22total_speed_delay%22%3A%20null%7D%2C%20%22type%22%3A%20%22Feature%22%7D%2C%20%7B%22bbox%22%3A%20%5B-122.297213%2C%2037.884409999999995%2C%20-122.297213%2C%2037.884409999999995%5D%2C%20%22geometry%22%3A%20%7B%22coordinates%22%3A%20%5B-122.297213%2C%2037.884409999999995%5D%2C%20%22type%22%3A%20%22Point%22%7D%2C%20%22id%22%3A%20%22127%22%2C%20%22properties%22%3A%20%7B%22shape_id%22%3A%20%22shp-72-81%22%2C%20%22stop_id%22%3A%20%2254344%22%2C%20%22stop_sequence%22%3A%2054.0%2C%20%22total_speed_delay%22%3A%20null%7D%2C%20%22type%22%3A%20%22Feature%22%7D%2C%20%7B%22bbox%22%3A%20%5B-122.29645199999999%2C%2037.882043000000024%2C%20-122.29645199999999%2C%2037.882043000000024%5D%2C%20%22geometry%22%3A%20%7B%22coordinates%22%3A%20%5B-122.29645199999999%2C%2037.882043000000024%5D%2C%20%22type%22%3A%20%22Point%22%7D%2C%20%22id%22%3A%20%22128%22%2C%20%22properties%22%3A%20%7B%22shape_id%22%3A%20%22shp-72-81%22%2C%20%22stop_id%22%3A%20%2255929%22%2C%20%22stop_sequence%22%3A%2055.0%2C%20%22total_speed_delay%22%3A%20null%7D%2C%20%22type%22%3A%20%22Feature%22%7D%2C%20%7B%22bbox%22%3A%20%5B-122.295773%2C%2037.879896999999964%2C%20-122.295773%2C%2037.879896999999964%5D%2C%20%22geometry%22%3A%20%7B%22coordinates%22%3A%20%5B-122.295773%2C%2037.879896999999964%5D%2C%20%22type%22%3A%20%22Point%22%7D%2C%20%22id%22%3A%20%22129%22%2C%20%22properties%22%3A%20%7B%22shape_id%22%3A%20%22shp-72-81%22%2C%20%22stop_id%22%3A%20%2255501%22%2C%20%22stop_sequence%22%3A%2056.0%2C%20%22total_speed_delay%22%3A%20null%7D%2C%20%22type%22%3A%20%22Feature%22%7D%2C%20%7B%22bbox%22%3A%20%5B-122.29493200000002%2C%2037.87732400000001%2C%20-122.29493200000002%2C%2037.87732400000001%5D%2C%20%22geometry%22%3A%20%7B%22coordinates%22%3A%20%5B-122.29493200000002%2C%2037.87732400000001%5D%2C%20%22type%22%3A%20%22Point%22%7D%2C%20%22id%22%3A%20%22130%22%2C%20%22properties%22%3A%20%7B%22shape_id%22%3A%20%22shp-72-81%22%2C%20%22stop_id%22%3A%20%2253005%22%2C%20%22stop_sequence%22%3A%2057.0%2C%20%22total_speed_delay%22%3A%20null%7D%2C%20%22type%22%3A%20%22Feature%22%7D%2C%20%7B%22bbox%22%3A%20%5B-122.29432900000002%2C%2037.87541799999999%2C%20-122.29432900000002%2C%2037.87541799999999%5D%2C%20%22geometry%22%3A%20%7B%22coordinates%22%3A%20%5B-122.29432900000002%2C%2037.87541799999999%5D%2C%20%22type%22%3A%20%22Point%22%7D%2C%20%22id%22%3A%20%22131%22%2C%20%22properties%22%3A%20%7B%22shape_id%22%3A%20%22shp-72-81%22%2C%20%22stop_id%22%3A%20%2259600%22%2C%20%22stop_sequence%22%3A%2058.0%2C%20%22total_speed_delay%22%3A%20null%7D%2C%20%22type%22%3A%20%22Feature%22%7D%2C%20%7B%22bbox%22%3A%20%5B-122.293147%2C%2037.871763000000044%2C%20-122.293147%2C%2037.871763000000044%5D%2C%20%22geometry%22%3A%20%7B%22coordinates%22%3A%20%5B-122.293147%2C%2037.871763000000044%5D%2C%20%22type%22%3A%20%22Point%22%7D%2C%20%22id%22%3A%20%22132%22%2C%20%22properties%22%3A%20%7B%22shape_id%22%3A%20%22shp-72-81%22%2C%20%22stop_id%22%3A%20%2259755%22%2C%20%22stop_sequence%22%3A%2059.0%2C%20%22total_speed_delay%22%3A%20null%7D%2C%20%22type%22%3A%20%22Feature%22%7D%2C%20%7B%22bbox%22%3A%20%5B-122.29209%2C%2037.86870599999997%2C%20-122.29209%2C%2037.86870599999997%5D%2C%20%22geometry%22%3A%20%7B%22coordinates%22%3A%20%5B-122.29209%2C%2037.86870599999997%5D%2C%20%22type%22%3A%20%22Point%22%7D%2C%20%22id%22%3A%20%22133%22%2C%20%22properties%22%3A%20%7B%22shape_id%22%3A%20%22shp-72-81%22%2C%20%22stop_id%22%3A%20%2255111%22%2C%20%22stop_sequence%22%3A%2060.0%2C%20%22total_speed_delay%22%3A%20null%7D%2C%20%22type%22%3A%20%22Feature%22%7D%2C%20%7B%22bbox%22%3A%20%5B-122.291436%2C%2037.866481%2C%20-122.291436%2C%2037.866481%5D%2C%20%22geometry%22%3A%20%7B%22coordinates%22%3A%20%5B-122.291436%2C%2037.866481%5D%2C%20%22type%22%3A%20%22Point%22%7D%2C%20%22id%22%3A%20%22134%22%2C%20%22properties%22%3A%20%7B%22shape_id%22%3A%20%22shp-72-81%22%2C%20%22stop_id%22%3A%20%2259591%22%2C%20%22stop_sequence%22%3A%2061.0%2C%20%22total_speed_delay%22%3A%20null%7D%2C%20%22type%22%3A%20%22Feature%22%7D%2C%20%7B%22bbox%22%3A%20%5B-122.290869%2C%2037.86471099999999%2C%20-122.290869%2C%2037.86471099999999%5D%2C%20%22geometry%22%3A%20%7B%22coordinates%22%3A%20%5B-122.290869%2C%2037.86471099999999%5D%2C%20%22type%22%3A%20%22Point%22%7D%2C%20%22id%22%3A%20%22135%22%2C%20%22properties%22%3A%20%7B%22shape_id%22%3A%20%22shp-72-81%22%2C%20%22stop_id%22%3A%20%2259277%22%2C%20%22stop_sequence%22%3A%2062.0%2C%20%22total_speed_delay%22%3A%20null%7D%2C%20%22type%22%3A%20%22Feature%22%7D%2C%20%7B%22bbox%22%3A%20%5B-122.29029900000002%2C%2037.862929999999984%2C%20-122.29029900000002%2C%2037.862929999999984%5D%2C%20%22geometry%22%3A%20%7B%22coordinates%22%3A%20%5B-122.29029900000002%2C%2037.862929999999984%5D%2C%20%22type%22%3A%20%22Point%22%7D%2C%20%22id%22%3A%20%22136%22%2C%20%22properties%22%3A%20%7B%22shape_id%22%3A%20%22shp-72-81%22%2C%20%22stop_id%22%3A%20%2250344%22%2C%20%22stop_sequence%22%3A%2063.0%2C%20%22total_speed_delay%22%3A%20null%7D%2C%20%22type%22%3A%20%22Feature%22%7D%2C%20%7B%22bbox%22%3A%20%5B-122.28958300000001%2C%2037.860793999999984%2C%20-122.28958300000001%2C%2037.860793999999984%5D%2C%20%22geometry%22%3A%20%7B%22coordinates%22%3A%20%5B-122.28958300000001%2C%2037.860793999999984%5D%2C%20%22type%22%3A%20%22Point%22%7D%2C%20%22id%22%3A%20%22137%22%2C%20%22properties%22%3A%20%7B%22shape_id%22%3A%20%22shp-72-81%22%2C%20%22stop_id%22%3A%20%2257755%22%2C%20%22stop_sequence%22%3A%2064.0%2C%20%22total_speed_delay%22%3A%20null%7D%2C%20%22type%22%3A%20%22Feature%22%7D%2C%20%7B%22bbox%22%3A%20%5B-122.28917%2C%2037.859454000000014%2C%20-122.28917%2C%2037.859454000000014%5D%2C%20%22geometry%22%3A%20%7B%22coordinates%22%3A%20%5B-122.28917%2C%2037.859454000000014%5D%2C%20%22type%22%3A%20%22Point%22%7D%2C%20%22id%22%3A%20%22138%22%2C%20%22properties%22%3A%20%7B%22shape_id%22%3A%20%22shp-72-81%22%2C%20%22stop_id%22%3A%20%2256077%22%2C%20%22stop_sequence%22%3A%2065.0%2C%20%22total_speed_delay%22%3A%20null%7D%2C%20%22type%22%3A%20%22Feature%22%7D%2C%20%7B%22bbox%22%3A%20%5B-122.28816%2C%2037.856293999999984%2C%20-122.28816%2C%2037.856293999999984%5D%2C%20%22geometry%22%3A%20%7B%22coordinates%22%3A%20%5B-122.28816%2C%2037.856293999999984%5D%2C%20%22type%22%3A%20%22Point%22%7D%2C%20%22id%22%3A%20%22139%22%2C%20%22properties%22%3A%20%7B%22shape_id%22%3A%20%22shp-72-81%22%2C%20%22stop_id%22%3A%20%2253003%22%2C%20%22stop_sequence%22%3A%2066.0%2C%20%22total_speed_delay%22%3A%20null%7D%2C%20%22type%22%3A%20%22Feature%22%7D%2C%20%7B%22bbox%22%3A%20%5B-122.28757700000001%2C%2037.85445600000004%2C%20-122.28757700000001%2C%2037.85445600000004%5D%2C%20%22geometry%22%3A%20%7B%22coordinates%22%3A%20%5B-122.28757700000001%2C%2037.85445600000004%5D%2C%20%22type%22%3A%20%22Point%22%7D%2C%20%22id%22%3A%20%22140%22%2C%20%22properties%22%3A%20%7B%22shape_id%22%3A%20%22shp-72-81%22%2C%20%22stop_id%22%3A%20%2259377%22%2C%20%22stop_sequence%22%3A%2067.0%2C%20%22total_speed_delay%22%3A%20null%7D%2C%20%22type%22%3A%20%22Feature%22%7D%2C%20%7B%22bbox%22%3A%20%5B-122.28671200000001%2C%2037.85180500000002%2C%20-122.28671200000001%2C%2037.85180500000002%5D%2C%20%22geometry%22%3A%20%7B%22coordinates%22%3A%20%5B-122.28671200000001%2C%2037.85180500000002%5D%2C%20%22type%22%3A%20%22Point%22%7D%2C%20%22id%22%3A%20%22141%22%2C%20%22properties%22%3A%20%7B%22shape_id%22%3A%20%22shp-72-81%22%2C%20%22stop_id%22%3A%20%2252228%22%2C%20%22stop_sequence%22%3A%2068.0%2C%20%22total_speed_delay%22%3A%20null%7D%2C%20%22type%22%3A%20%22Feature%22%7D%2C%20%7B%22bbox%22%3A%20%5B-122.28607200000002%2C%2037.84978900000001%2C%20-122.28607200000002%2C%2037.84978900000001%5D%2C%20%22geometry%22%3A%20%7B%22coordinates%22%3A%20%5B-122.28607200000002%2C%2037.84978900000001%5D%2C%20%22type%22%3A%20%22Point%22%7D%2C%20%22id%22%3A%20%22142%22%2C%20%22properties%22%3A%20%7B%22shape_id%22%3A%20%22shp-72-81%22%2C%20%22stop_id%22%3A%20%2251832%22%2C%20%22stop_sequence%22%3A%2069.0%2C%20%22total_speed_delay%22%3A%20null%7D%2C%20%22type%22%3A%20%22Feature%22%7D%2C%20%7B%22bbox%22%3A%20%5B-122.28554300000002%2C%2037.84814600000002%2C%20-122.28554300000002%2C%2037.84814600000002%5D%2C%20%22geometry%22%3A%20%7B%22coordinates%22%3A%20%5B-122.28554300000002%2C%2037.84814600000002%5D%2C%20%22type%22%3A%20%22Point%22%7D%2C%20%22id%22%3A%20%22143%22%2C%20%22properties%22%3A%20%7B%22shape_id%22%3A%20%22shp-72-81%22%2C%20%22stop_id%22%3A%20%2254119%22%2C%20%22stop_sequence%22%3A%2070.0%2C%20%22total_speed_delay%22%3A%20null%7D%2C%20%22type%22%3A%20%22Feature%22%7D%2C%20%7B%22bbox%22%3A%20%5B-122.28502400000002%2C%2037.84654400000001%2C%20-122.28502400000002%2C%2037.84654400000001%5D%2C%20%22geometry%22%3A%20%7B%22coordinates%22%3A%20%5B-122.28502400000002%2C%2037.84654400000001%5D%2C%20%22type%22%3A%20%22Point%22%7D%2C%20%22id%22%3A%20%22144%22%2C%20%22properties%22%3A%20%7B%22shape_id%22%3A%20%22shp-72-81%22%2C%20%22stop_id%22%3A%20%2252226%22%2C%20%22stop_sequence%22%3A%2071.0%2C%20%22total_speed_delay%22%3A%20null%7D%2C%20%22type%22%3A%20%22Feature%22%7D%2C%20%7B%22bbox%22%3A%20%5B-122.28445499999998%2C%2037.84478900000004%2C%20-122.28445499999998%2C%2037.84478900000004%5D%2C%20%22geometry%22%3A%20%7B%22coordinates%22%3A%20%5B-122.28445499999998%2C%2037.84478900000004%5D%2C%20%22type%22%3A%20%22Point%22%7D%2C%20%22id%22%3A%20%22145%22%2C%20%22properties%22%3A%20%7B%22shape_id%22%3A%20%22shp-72-81%22%2C%20%22stop_id%22%3A%20%2256956%22%2C%20%22stop_sequence%22%3A%2072.0%2C%20%22total_speed_delay%22%3A%20null%7D%2C%20%22type%22%3A%20%22Feature%22%7D%2C%20%7B%22bbox%22%3A%20%5B-122.28304699999998%2C%2037.840477000000035%2C%20-122.28304699999998%2C%2037.840477000000035%5D%2C%20%22geometry%22%3A%20%7B%22coordinates%22%3A%20%5B-122.28304699999998%2C%2037.840477000000035%5D%2C%20%22type%22%3A%20%22Point%22%7D%2C%20%22id%22%3A%20%22146%22%2C%20%22properties%22%3A%20%7B%22shape_id%22%3A%20%22shp-72-81%22%2C%20%22stop_id%22%3A%20%2255547%22%2C%20%22stop_sequence%22%3A%2073.0%2C%20%22total_speed_delay%22%3A%20null%7D%2C%20%22type%22%3A%20%22Feature%22%7D%2C%20%7B%22bbox%22%3A%20%5B-122.282549%2C%2037.83890600000003%2C%20-122.282549%2C%2037.83890600000003%5D%2C%20%22geometry%22%3A%20%7B%22coordinates%22%3A%20%5B-122.282549%2C%2037.83890600000003%5D%2C%20%22type%22%3A%20%22Point%22%7D%2C%20%22id%22%3A%20%22147%22%2C%20%22properties%22%3A%20%7B%22shape_id%22%3A%20%22shp-72-81%22%2C%20%22stop_id%22%3A%20%2258810%22%2C%20%22stop_sequence%22%3A%2074.0%2C%20%22total_speed_delay%22%3A%20null%7D%2C%20%22type%22%3A%20%22Feature%22%7D%2C%20%7B%22bbox%22%3A%20%5B-122.28206700000001%2C%2037.837379000000034%2C%20-122.28206700000001%2C%2037.837379000000034%5D%2C%20%22geometry%22%3A%20%7B%22coordinates%22%3A%20%5B-122.28206700000001%2C%2037.837379000000034%5D%2C%20%22type%22%3A%20%22Point%22%7D%2C%20%22id%22%3A%20%22148%22%2C%20%22properties%22%3A%20%7B%22shape_id%22%3A%20%22shp-72-81%22%2C%20%22stop_id%22%3A%20%2255646%22%2C%20%22stop_sequence%22%3A%2075.0%2C%20%22total_speed_delay%22%3A%20null%7D%2C%20%22type%22%3A%20%22Feature%22%7D%2C%20%7B%22bbox%22%3A%20%5B-122.28137900000002%2C%2037.835263000000005%2C%20-122.28137900000002%2C%2037.835263000000005%5D%2C%20%22geometry%22%3A%20%7B%22coordinates%22%3A%20%5B-122.28137900000002%2C%2037.835263000000005%5D%2C%20%22type%22%3A%20%22Point%22%7D%2C%20%22id%22%3A%20%22149%22%2C%20%22properties%22%3A%20%7B%22shape_id%22%3A%20%22shp-72-81%22%2C%20%22stop_id%22%3A%20%2251990%22%2C%20%22stop_sequence%22%3A%2076.0%2C%20%22total_speed_delay%22%3A%20null%7D%2C%20%22type%22%3A%20%22Feature%22%7D%2C%20%7B%22bbox%22%3A%20%5B-122.280922%2C%2037.83384000000002%2C%20-122.280922%2C%2037.83384000000002%5D%2C%20%22geometry%22%3A%20%7B%22coordinates%22%3A%20%5B-122.280922%2C%2037.83384000000002%5D%2C%20%22type%22%3A%20%22Point%22%7D%2C%20%22id%22%3A%20%22150%22%2C%20%22properties%22%3A%20%7B%22shape_id%22%3A%20%22shp-72-81%22%2C%20%22stop_id%22%3A%20%2251041%22%2C%20%22stop_sequence%22%3A%2077.0%2C%20%22total_speed_delay%22%3A%20null%7D%2C%20%22type%22%3A%20%22Feature%22%7D%2C%20%7B%22bbox%22%3A%20%5B-122.279851%2C%2037.83060900000001%2C%20-122.279851%2C%2037.83060900000001%5D%2C%20%22geometry%22%3A%20%7B%22coordinates%22%3A%20%5B-122.279851%2C%2037.83060900000001%5D%2C%20%22type%22%3A%20%22Point%22%7D%2C%20%22id%22%3A%20%22151%22%2C%20%22properties%22%3A%20%7B%22shape_id%22%3A%20%22shp-72-81%22%2C%20%22stop_id%22%3A%20%2255505%22%2C%20%22stop_sequence%22%3A%2078.0%2C%20%22total_speed_delay%22%3A%20null%7D%2C%20%22type%22%3A%20%22Feature%22%7D%2C%20%7B%22bbox%22%3A%20%5B-122.27848900000001%2C%2037.82620100000002%2C%20-122.27848900000001%2C%2037.82620100000002%5D%2C%20%22geometry%22%3A%20%7B%22coordinates%22%3A%20%5B-122.27848900000001%2C%2037.82620100000002%5D%2C%20%22type%22%3A%20%22Point%22%7D%2C%20%22id%22%3A%20%22152%22%2C%20%22properties%22%3A%20%7B%22shape_id%22%3A%20%22shp-72-81%22%2C%20%22stop_id%22%3A%20%2253107%22%2C%20%22stop_sequence%22%3A%2079.0%2C%20%22total_speed_delay%22%3A%20null%7D%2C%20%22type%22%3A%20%22Feature%22%7D%2C%20%7B%22bbox%22%3A%20%5B-122.324112%2C%2037.93307999999998%2C%20-122.324112%2C%2037.93307999999998%5D%2C%20%22geometry%22%3A%20%7B%22coordinates%22%3A%20%5B-122.324112%2C%2037.93307999999998%5D%2C%20%22type%22%3A%20%22Point%22%7D%2C%20%22id%22%3A%20%22170%22%2C%20%22properties%22%3A%20%7B%22shape_id%22%3A%20%22shp-72R-58%22%2C%20%22stop_id%22%3A%20%2253388%22%2C%20%22stop_sequence%22%3A%207.0%2C%20%22total_speed_delay%22%3A%20null%7D%2C%20%22type%22%3A%20%22Feature%22%7D%2C%20%7B%22bbox%22%3A%20%5B-122.31633099999999%2C%2037.92453500000002%2C%20-122.31633099999999%2C%2037.92453500000002%5D%2C%20%22geometry%22%3A%20%7B%22coordinates%22%3A%20%5B-122.31633099999999%2C%2037.92453500000002%5D%2C%20%22type%22%3A%20%22Point%22%7D%2C%20%22id%22%3A%20%22171%22%2C%20%22properties%22%3A%20%7B%22shape_id%22%3A%20%22shp-72R-58%22%2C%20%22stop_id%22%3A%20%2255524%22%2C%20%22stop_sequence%22%3A%208.0%2C%20%22total_speed_delay%22%3A%20null%7D%2C%20%22type%22%3A%20%22Feature%22%7D%2C%20%7B%22bbox%22%3A%20%5B-122.31494499999998%2C%2037.92015800000002%2C%20-122.31494499999998%2C%2037.92015800000002%5D%2C%20%22geometry%22%3A%20%7B%22coordinates%22%3A%20%5B-122.31494499999998%2C%2037.92015800000002%5D%2C%20%22type%22%3A%20%22Point%22%7D%2C%20%22id%22%3A%20%22172%22%2C%20%22properties%22%3A%20%7B%22shape_id%22%3A%20%22shp-72R-58%22%2C%20%22stop_id%22%3A%20%2255506%22%2C%20%22stop_sequence%22%3A%209.0%2C%20%22total_speed_delay%22%3A%20null%7D%2C%20%22type%22%3A%20%22Feature%22%7D%2C%20%7B%22bbox%22%3A%20%5B-122.30861499999999%2C%2037.911073000000016%2C%20-122.30861499999999%2C%2037.911073000000016%5D%2C%20%22geometry%22%3A%20%7B%22coordinates%22%3A%20%5B-122.30861499999999%2C%2037.911073000000016%5D%2C%20%22type%22%3A%20%22Point%22%7D%2C%20%22id%22%3A%20%22173%22%2C%20%22properties%22%3A%20%7B%22shape_id%22%3A%20%22shp-72R-58%22%2C%20%22stop_id%22%3A%20%2255594%22%2C%20%22stop_sequence%22%3A%2010.0%2C%20%22total_speed_delay%22%3A%20null%7D%2C%20%22type%22%3A%20%22Feature%22%7D%2C%20%7B%22bbox%22%3A%20%5B-122.30181199999998%2C%2037.89858000000004%2C%20-122.30181199999998%2C%2037.89858000000004%5D%2C%20%22geometry%22%3A%20%7B%22coordinates%22%3A%20%5B-122.30181199999998%2C%2037.89858000000004%5D%2C%20%22type%22%3A%20%22Point%22%7D%2C%20%22id%22%3A%20%22174%22%2C%20%22properties%22%3A%20%7B%22shape_id%22%3A%20%22shp-72R-58%22%2C%20%22stop_id%22%3A%20%2252221%22%2C%20%22stop_sequence%22%3A%2011.0%2C%20%22total_speed_delay%22%3A%20null%7D%2C%20%22type%22%3A%20%22Feature%22%7D%2C%20%7B%22bbox%22%3A%20%5B-122.29901300000002%2C%2037.88996500000004%2C%20-122.29901300000002%2C%2037.88996500000004%5D%2C%20%22geometry%22%3A%20%7B%22coordinates%22%3A%20%5B-122.29901300000002%2C%2037.88996500000004%5D%2C%20%22type%22%3A%20%22Point%22%7D%2C%20%22id%22%3A%20%22175%22%2C%20%22properties%22%3A%20%7B%22shape_id%22%3A%20%22shp-72R-58%22%2C%20%22stop_id%22%3A%20%2256688%22%2C%20%22stop_sequence%22%3A%2012.0%2C%20%22total_speed_delay%22%3A%20null%7D%2C%20%22type%22%3A%20%22Feature%22%7D%2C%20%7B%22bbox%22%3A%20%5B-122.295773%2C%2037.879896999999964%2C%20-122.295773%2C%2037.879896999999964%5D%2C%20%22geometry%22%3A%20%7B%22coordinates%22%3A%20%5B-122.295773%2C%2037.879896999999964%5D%2C%20%22type%22%3A%20%22Point%22%7D%2C%20%22id%22%3A%20%22176%22%2C%20%22properties%22%3A%20%7B%22shape_id%22%3A%20%22shp-72R-58%22%2C%20%22stop_id%22%3A%20%2255501%22%2C%20%22stop_sequence%22%3A%2013.0%2C%20%22total_speed_delay%22%3A%20null%7D%2C%20%22type%22%3A%20%22Feature%22%7D%2C%20%7B%22bbox%22%3A%20%5B-122.29209%2C%2037.86870599999997%2C%20-122.29209%2C%2037.86870599999997%5D%2C%20%22geometry%22%3A%20%7B%22coordinates%22%3A%20%5B-122.29209%2C%2037.86870599999997%5D%2C%20%22type%22%3A%20%22Point%22%7D%2C%20%22id%22%3A%20%22177%22%2C%20%22properties%22%3A%20%7B%22shape_id%22%3A%20%22shp-72R-58%22%2C%20%22stop_id%22%3A%20%2255111%22%2C%20%22stop_sequence%22%3A%2014.0%2C%20%22total_speed_delay%22%3A%20null%7D%2C%20%22type%22%3A%20%22Feature%22%7D%2C%20%7B%22bbox%22%3A%20%5B-122.28958300000001%2C%2037.860793999999984%2C%20-122.28958300000001%2C%2037.860793999999984%5D%2C%20%22geometry%22%3A%20%7B%22coordinates%22%3A%20%5B-122.28958300000001%2C%2037.860793999999984%5D%2C%20%22type%22%3A%20%22Point%22%7D%2C%20%22id%22%3A%20%22178%22%2C%20%22properties%22%3A%20%7B%22shape_id%22%3A%20%22shp-72R-58%22%2C%20%22stop_id%22%3A%20%2257755%22%2C%20%22stop_sequence%22%3A%2015.0%2C%20%22total_speed_delay%22%3A%20null%7D%2C%20%22type%22%3A%20%22Feature%22%7D%2C%20%7B%22bbox%22%3A%20%5B-122.28671200000001%2C%2037.85180500000002%2C%20-122.28671200000001%2C%2037.85180500000002%5D%2C%20%22geometry%22%3A%20%7B%22coordinates%22%3A%20%5B-122.28671200000001%2C%2037.85180500000002%5D%2C%20%22type%22%3A%20%22Point%22%7D%2C%20%22id%22%3A%20%22179%22%2C%20%22properties%22%3A%20%7B%22shape_id%22%3A%20%22shp-72R-58%22%2C%20%22stop_id%22%3A%20%2252228%22%2C%20%22stop_sequence%22%3A%2016.0%2C%20%22total_speed_delay%22%3A%20null%7D%2C%20%22type%22%3A%20%22Feature%22%7D%2C%20%7B%22bbox%22%3A%20%5B-122.28502400000002%2C%2037.84654400000001%2C%20-122.28502400000002%2C%2037.84654400000001%5D%2C%20%22geometry%22%3A%20%7B%22coordinates%22%3A%20%5B-122.28502400000002%2C%2037.84654400000001%5D%2C%20%22type%22%3A%20%22Point%22%7D%2C%20%22id%22%3A%20%22180%22%2C%20%22properties%22%3A%20%7B%22shape_id%22%3A%20%22shp-72R-58%22%2C%20%22stop_id%22%3A%20%2252226%22%2C%20%22stop_sequence%22%3A%2017.0%2C%20%22total_speed_delay%22%3A%20null%7D%2C%20%22type%22%3A%20%22Feature%22%7D%2C%20%7B%22bbox%22%3A%20%5B-122.28304699999998%2C%2037.840477000000035%2C%20-122.28304699999998%2C%2037.840477000000035%5D%2C%20%22geometry%22%3A%20%7B%22coordinates%22%3A%20%5B-122.28304699999998%2C%2037.840477000000035%5D%2C%20%22type%22%3A%20%22Point%22%7D%2C%20%22id%22%3A%20%22181%22%2C%20%22properties%22%3A%20%7B%22shape_id%22%3A%20%22shp-72R-58%22%2C%20%22stop_id%22%3A%20%2255547%22%2C%20%22stop_sequence%22%3A%2018.0%2C%20%22total_speed_delay%22%3A%20null%7D%2C%20%22type%22%3A%20%22Feature%22%7D%2C%20%7B%22bbox%22%3A%20%5B-122.279851%2C%2037.83060900000001%2C%20-122.279851%2C%2037.83060900000001%5D%2C%20%22geometry%22%3A%20%7B%22coordinates%22%3A%20%5B-122.279851%2C%2037.83060900000001%5D%2C%20%22type%22%3A%20%22Point%22%7D%2C%20%22id%22%3A%20%22182%22%2C%20%22properties%22%3A%20%7B%22shape_id%22%3A%20%22shp-72R-58%22%2C%20%22stop_id%22%3A%20%2255505%22%2C%20%22stop_sequence%22%3A%2019.0%2C%20%22total_speed_delay%22%3A%20null%7D%2C%20%22type%22%3A%20%22Feature%22%7D%2C%20%7B%22bbox%22%3A%20%5B-122.27637%2C%2037.819683999999945%2C%20-122.27637%2C%2037.819683999999945%5D%2C%20%22geometry%22%3A%20%7B%22coordinates%22%3A%20%5B-122.27637%2C%2037.819683999999945%5D%2C%20%22type%22%3A%20%22Point%22%7D%2C%20%22id%22%3A%20%22183%22%2C%20%22properties%22%3A%20%7B%22shape_id%22%3A%20%22shp-72R-58%22%2C%20%22stop_id%22%3A%20%2259996%22%2C%20%22stop_sequence%22%3A%2020.0%2C%20%22total_speed_delay%22%3A%20null%7D%2C%20%22type%22%3A%20%22Feature%22%7D%2C%20%7B%22bbox%22%3A%20%5B-122.278655%2C%2037.827622999999996%2C%20-122.278655%2C%2037.827622999999996%5D%2C%20%22geometry%22%3A%20%7B%22coordinates%22%3A%20%5B-122.278655%2C%2037.827622999999996%5D%2C%20%22type%22%3A%20%22Point%22%7D%2C%20%22id%22%3A%20%22202%22%2C%20%22properties%22%3A%20%7B%22shape_id%22%3A%20%22shp-72-31%22%2C%20%22stop_id%22%3A%20%2257751%22%2C%20%22stop_sequence%22%3A%2015.0%2C%20%22total_speed_delay%22%3A%20null%7D%2C%20%22type%22%3A%20%22Feature%22%7D%2C%20%7B%22bbox%22%3A%20%5B-122.279884%2C%2037.831487000000024%2C%20-122.279884%2C%2037.831487000000024%5D%2C%20%22geometry%22%3A%20%7B%22coordinates%22%3A%20%5B-122.279884%2C%2037.831487000000024%5D%2C%20%22type%22%3A%20%22Point%22%7D%2C%20%22id%22%3A%20%22203%22%2C%20%22properties%22%3A%20%7B%22shape_id%22%3A%20%22shp-72-31%22%2C%20%22stop_id%22%3A%20%2255535%22%2C%20%22stop_sequence%22%3A%2016.0%2C%20%22total_speed_delay%22%3A%20null%7D%2C%20%22type%22%3A%20%22Feature%22%7D%2C%20%7B%22bbox%22%3A%20%5B-122.28085799999998%2C%2037.83447899999998%2C%20-122.28085799999998%2C%2037.83447899999998%5D%2C%20%22geometry%22%3A%20%7B%22coordinates%22%3A%20%5B-122.28085799999998%2C%2037.83447899999998%5D%2C%20%22type%22%3A%20%22Point%22%7D%2C%20%22id%22%3A%20%22204%22%2C%20%22properties%22%3A%20%7B%22shape_id%22%3A%20%22shp-72-31%22%2C%20%22stop_id%22%3A%20%2250355%22%2C%20%22stop_sequence%22%3A%2017.0%2C%20%22total_speed_delay%22%3A%20null%7D%2C%20%22type%22%3A%20%22Feature%22%7D%2C%20%7B%22bbox%22%3A%20%5B-122.28131600000002%2C%2037.835925%2C%20-122.28131600000002%2C%2037.835925%5D%2C%20%22geometry%22%3A%20%7B%22coordinates%22%3A%20%5B-122.28131600000002%2C%2037.835925%5D%2C%20%22type%22%3A%20%22Point%22%7D%2C%20%22id%22%3A%20%22205%22%2C%20%22properties%22%3A%20%7B%22shape_id%22%3A%20%22shp-72-31%22%2C%20%22stop_id%22%3A%20%2252330%22%2C%20%22stop_sequence%22%3A%2018.0%2C%20%22total_speed_delay%22%3A%20null%7D%2C%20%22type%22%3A%20%22Feature%22%7D%2C%20%7B%22bbox%22%3A%20%5B-122.281852%2C%2037.837606999999984%2C%20-122.281852%2C%2037.837606999999984%5D%2C%20%22geometry%22%3A%20%7B%22coordinates%22%3A%20%5B-122.281852%2C%2037.837606999999984%5D%2C%20%22type%22%3A%20%22Point%22%7D%2C%20%22id%22%3A%20%22206%22%2C%20%22properties%22%3A%20%7B%22shape_id%22%3A%20%22shp-72-31%22%2C%20%22stop_id%22%3A%20%2257133%22%2C%20%22stop_sequence%22%3A%2019.0%2C%20%22total_speed_delay%22%3A%20null%7D%2C%20%22type%22%3A%20%22Feature%22%7D%2C%20%7B%22bbox%22%3A%20%5B-122.28235000000001%2C%2037.83912599999999%2C%20-122.28235000000001%2C%2037.83912599999999%5D%2C%20%22geometry%22%3A%20%7B%22coordinates%22%3A%20%5B-122.28235000000001%2C%2037.83912599999999%5D%2C%20%22type%22%3A%20%22Point%22%7D%2C%20%22id%22%3A%20%22207%22%2C%20%22properties%22%3A%20%7B%22shape_id%22%3A%20%22shp-72-31%22%2C%20%22stop_id%22%3A%20%2258499%22%2C%20%22stop_sequence%22%3A%2020.0%2C%20%22total_speed_delay%22%3A%20null%7D%2C%20%22type%22%3A%20%22Feature%22%7D%2C%20%7B%22bbox%22%3A%20%5B-122.283082%2C%2037.841426%2C%20-122.283082%2C%2037.841426%5D%2C%20%22geometry%22%3A%20%7B%22coordinates%22%3A%20%5B-122.283082%2C%2037.841426%5D%2C%20%22type%22%3A%20%22Point%22%7D%2C%20%22id%22%3A%20%22208%22%2C%20%22properties%22%3A%20%7B%22shape_id%22%3A%20%22shp-72-31%22%2C%20%22stop_id%22%3A%20%2255335%22%2C%20%22stop_sequence%22%3A%2021.0%2C%20%22total_speed_delay%22%3A%20null%7D%2C%20%22type%22%3A%20%22Feature%22%7D%2C%20%7B%22bbox%22%3A%20%5B-122.284219%2C%2037.84486099999998%2C%20-122.284219%2C%2037.84486099999998%5D%2C%20%22geometry%22%3A%20%7B%22coordinates%22%3A%20%5B-122.284219%2C%2037.84486099999998%5D%2C%20%22type%22%3A%20%22Point%22%7D%2C%20%22id%22%3A%20%22209%22%2C%20%22properties%22%3A%20%7B%22shape_id%22%3A%20%22shp-72-31%22%2C%20%22stop_id%22%3A%20%2254288%22%2C%20%22stop_sequence%22%3A%2022.0%2C%20%22total_speed_delay%22%3A%20null%7D%2C%20%22type%22%3A%20%22Feature%22%7D%2C%20%7B%22bbox%22%3A%20%5B-122.284957%2C%2037.84721299999997%2C%20-122.284957%2C%2037.84721299999997%5D%2C%20%22geometry%22%3A%20%7B%22coordinates%22%3A%20%5B-122.284957%2C%2037.84721299999997%5D%2C%20%22type%22%3A%20%22Point%22%7D%2C%20%22id%22%3A%20%22210%22%2C%20%22properties%22%3A%20%7B%22shape_id%22%3A%20%22shp-72-31%22%2C%20%22stop_id%22%3A%20%2255110%22%2C%20%22stop_sequence%22%3A%2023.0%2C%20%22total_speed_delay%22%3A%20null%7D%2C%20%22type%22%3A%20%22Feature%22%7D%2C%20%7B%22bbox%22%3A%20%5B-122.28545300000002%2C%2037.84874599999998%2C%20-122.28545300000002%2C%2037.84874599999998%5D%2C%20%22geometry%22%3A%20%7B%22coordinates%22%3A%20%5B-122.28545300000002%2C%2037.84874599999998%5D%2C%20%22type%22%3A%20%22Point%22%7D%2C%20%22id%22%3A%20%22211%22%2C%20%22properties%22%3A%20%7B%22shape_id%22%3A%20%22shp-72-31%22%2C%20%22stop_id%22%3A%20%2252283%22%2C%20%22stop_sequence%22%3A%2024.0%2C%20%22total_speed_delay%22%3A%20null%7D%2C%20%22type%22%3A%20%22Feature%22%7D%2C%20%7B%22bbox%22%3A%20%5B-122.286002%2C%2037.85047400000001%2C%20-122.286002%2C%2037.85047400000001%5D%2C%20%22geometry%22%3A%20%7B%22coordinates%22%3A%20%5B-122.286002%2C%2037.85047400000001%5D%2C%20%22type%22%3A%20%22Point%22%7D%2C%20%22id%22%3A%20%22212%22%2C%20%22properties%22%3A%20%7B%22shape_id%22%3A%20%22shp-72-31%22%2C%20%22stop_id%22%3A%20%2255603%22%2C%20%22stop_sequence%22%3A%2025.0%2C%20%22total_speed_delay%22%3A%20null%7D%2C%20%22type%22%3A%20%22Feature%22%7D%2C%20%7B%22bbox%22%3A%20%5B-122.286675%2C%2037.852514%2C%20-122.286675%2C%2037.852514%5D%2C%20%22geometry%22%3A%20%7B%22coordinates%22%3A%20%5B-122.286675%2C%2037.852514%5D%2C%20%22type%22%3A%20%22Point%22%7D%2C%20%22id%22%3A%20%22213%22%2C%20%22properties%22%3A%20%7B%22shape_id%22%3A%20%22shp-72-31%22%2C%20%22stop_id%22%3A%20%2251117%22%2C%20%22stop_sequence%22%3A%2026.0%2C%20%22total_speed_delay%22%3A%20null%7D%2C%20%22type%22%3A%20%22Feature%22%7D%2C%20%7B%22bbox%22%3A%20%5B-122.28740800000001%2C%2037.854847000000014%2C%20-122.28740800000001%2C%2037.854847000000014%5D%2C%20%22geometry%22%3A%20%7B%22coordinates%22%3A%20%5B-122.28740800000001%2C%2037.854847000000014%5D%2C%20%22type%22%3A%20%22Point%22%7D%2C%20%22id%22%3A%20%22214%22%2C%20%22properties%22%3A%20%7B%22shape_id%22%3A%20%22shp-72-31%22%2C%20%22stop_id%22%3A%20%2255367%22%2C%20%22stop_sequence%22%3A%2027.0%2C%20%22total_speed_delay%22%3A%20null%7D%2C%20%22type%22%3A%20%22Feature%22%7D%2C%20%7B%22bbox%22%3A%20%5B-122.28791099999998%2C%2037.85642600000001%2C%20-122.28791099999998%2C%2037.85642600000001%5D%2C%20%22geometry%22%3A%20%7B%22coordinates%22%3A%20%5B-122.28791099999998%2C%2037.85642600000001%5D%2C%20%22type%22%3A%20%22Point%22%7D%2C%20%22id%22%3A%20%22215%22%2C%20%22properties%22%3A%20%7B%22shape_id%22%3A%20%22shp-72-31%22%2C%20%22stop_id%22%3A%20%2251699%22%2C%20%22stop_sequence%22%3A%2028.0%2C%20%22total_speed_delay%22%3A%20null%7D%2C%20%22type%22%3A%20%22Feature%22%7D%2C%20%7B%22bbox%22%3A%20%5B-122.28885600000001%2C%2037.85931599999999%2C%20-122.28885600000001%2C%2037.85931599999999%5D%2C%20%22geometry%22%3A%20%7B%22coordinates%22%3A%20%5B-122.28885600000001%2C%2037.85931599999999%5D%2C%20%22type%22%3A%20%22Point%22%7D%2C%20%22id%22%3A%20%22216%22%2C%20%22properties%22%3A%20%7B%22shape_id%22%3A%20%22shp-72-31%22%2C%20%22stop_id%22%3A%20%2255701%22%2C%20%22stop_sequence%22%3A%2029.0%2C%20%22total_speed_delay%22%3A%20null%7D%2C%20%22type%22%3A%20%22Feature%22%7D%2C%20%7B%22bbox%22%3A%20%5B-122.28954600000002%2C%2037.861466%2C%20-122.28954600000002%2C%2037.861466%5D%2C%20%22geometry%22%3A%20%7B%22coordinates%22%3A%20%5B-122.28954600000002%2C%2037.861466%5D%2C%20%22type%22%3A%20%22Point%22%7D%2C%20%22id%22%3A%20%22217%22%2C%20%22properties%22%3A%20%7B%22shape_id%22%3A%20%22shp-72-31%22%2C%20%22stop_id%22%3A%20%2255880%22%2C%20%22stop_sequence%22%3A%2030.0%2C%20%22total_speed_delay%22%3A%20null%7D%2C%20%22type%22%3A%20%22Feature%22%7D%2C%20%7B%22bbox%22%3A%20%5B-122.289956%2C%2037.86274800000004%2C%20-122.289956%2C%2037.86274800000004%5D%2C%20%22geometry%22%3A%20%7B%22coordinates%22%3A%20%5B-122.289956%2C%2037.86274800000004%5D%2C%20%22type%22%3A%20%22Point%22%7D%2C%20%22id%22%3A%20%22218%22%2C%20%22properties%22%3A%20%7B%22shape_id%22%3A%20%22shp-72-31%22%2C%20%22stop_id%22%3A%20%2252207%22%2C%20%22stop_sequence%22%3A%2031.0%2C%20%22total_speed_delay%22%3A%20null%7D%2C%20%22type%22%3A%20%22Feature%22%7D%2C%20%7B%22bbox%22%3A%20%5B-122.290631%2C%2037.864816%2C%20-122.290631%2C%2037.864816%5D%2C%20%22geometry%22%3A%20%7B%22coordinates%22%3A%20%5B-122.290631%2C%2037.864816%5D%2C%20%22type%22%3A%20%22Point%22%7D%2C%20%22id%22%3A%20%22219%22%2C%20%22properties%22%3A%20%7B%22shape_id%22%3A%20%22shp-72-31%22%2C%20%22stop_id%22%3A%20%2255267%22%2C%20%22stop_sequence%22%3A%2032.0%2C%20%22total_speed_delay%22%3A%20null%7D%2C%20%22type%22%3A%20%22Feature%22%7D%2C%20%7B%22bbox%22%3A%20%5B-122.29123900000002%2C%2037.866724000000026%2C%20-122.29123900000002%2C%2037.866724000000026%5D%2C%20%22geometry%22%3A%20%7B%22coordinates%22%3A%20%5B-122.29123900000002%2C%2037.866724000000026%5D%2C%20%22type%22%3A%20%22Point%22%7D%2C%20%22id%22%3A%20%22220%22%2C%20%22properties%22%3A%20%7B%22shape_id%22%3A%20%22shp-72-31%22%2C%20%22stop_id%22%3A%20%2252007%22%2C%20%22stop_sequence%22%3A%2033.0%2C%20%22total_speed_delay%22%3A%20null%7D%2C%20%22type%22%3A%20%22Feature%22%7D%2C%20%7B%22bbox%22%3A%20%5B-122.292118%2C%2037.869467%2C%20-122.292118%2C%2037.869467%5D%2C%20%22geometry%22%3A%20%7B%22coordinates%22%3A%20%5B-122.292118%2C%2037.869467%5D%2C%20%22type%22%3A%20%22Point%22%7D%2C%20%22id%22%3A%20%22221%22%2C%20%22properties%22%3A%20%7B%22shape_id%22%3A%20%22shp-72-31%22%2C%20%22stop_id%22%3A%20%2255525%22%2C%20%22stop_sequence%22%3A%2034.0%2C%20%22total_speed_delay%22%3A%20null%7D%2C%20%22type%22%3A%20%22Feature%22%7D%2C%20%7B%22bbox%22%3A%20%5B-122.29293600000001%2C%2037.87202800000002%2C%20-122.29293600000001%2C%2037.87202800000002%5D%2C%20%22geometry%22%3A%20%7B%22coordinates%22%3A%20%5B-122.29293600000001%2C%2037.87202800000002%5D%2C%20%22type%22%3A%20%22Point%22%7D%2C%20%22id%22%3A%20%22222%22%2C%20%22properties%22%3A%20%7B%22shape_id%22%3A%20%22shp-72-31%22%2C%20%22stop_id%22%3A%20%2251001%22%2C%20%22stop_sequence%22%3A%2035.0%2C%20%22total_speed_delay%22%3A%20null%7D%2C%20%22type%22%3A%20%22Feature%22%7D%2C%20%7B%22bbox%22%3A%20%5B-122.293951%2C%2037.87510800000002%2C%20-122.293951%2C%2037.87510800000002%5D%2C%20%22geometry%22%3A%20%7B%22coordinates%22%3A%20%5B-122.293951%2C%2037.87510800000002%5D%2C%20%22type%22%3A%20%22Point%22%7D%2C%20%22id%22%3A%20%22223%22%2C%20%22properties%22%3A%20%7B%22shape_id%22%3A%20%22shp-72-31%22%2C%20%22stop_id%22%3A%20%2255165%22%2C%20%22stop_sequence%22%3A%2036.0%2C%20%22total_speed_delay%22%3A%20null%7D%2C%20%22type%22%3A%20%22Feature%22%7D%2C%20%7B%22bbox%22%3A%20%5B-122.29481500000001%2C%2037.87777299999996%2C%20-122.29481500000001%2C%2037.87777299999996%5D%2C%20%22geometry%22%3A%20%7B%22coordinates%22%3A%20%5B-122.29481500000001%2C%2037.87777299999996%5D%2C%20%22type%22%3A%20%22Point%22%7D%2C%20%22id%22%3A%20%22224%22%2C%20%22properties%22%3A%20%7B%22shape_id%22%3A%20%22shp-72-31%22%2C%20%22stop_id%22%3A%20%2252273%22%2C%20%22stop_sequence%22%3A%2037.0%2C%20%22total_speed_delay%22%3A%20null%7D%2C%20%22type%22%3A%20%22Feature%22%7D%2C%20%7B%22bbox%22%3A%20%5B-122.29578299999999%2C%2037.88082900000005%2C%20-122.29578299999999%2C%2037.88082900000005%5D%2C%20%22geometry%22%3A%20%7B%22coordinates%22%3A%20%5B-122.29578299999999%2C%2037.88082900000005%5D%2C%20%22type%22%3A%20%22Point%22%7D%2C%20%22id%22%3A%20%22225%22%2C%20%22properties%22%3A%20%7B%22shape_id%22%3A%20%22shp-72-31%22%2C%20%22stop_id%22%3A%20%2255100%22%2C%20%22stop_sequence%22%3A%2038.0%2C%20%22total_speed_delay%22%3A%20null%7D%2C%20%22type%22%3A%20%22Feature%22%7D%2C%20%7B%22bbox%22%3A%20%5B-122.29637%2C%2037.882647999999996%2C%20-122.29637%2C%2037.882647999999996%5D%2C%20%22geometry%22%3A%20%7B%22coordinates%22%3A%20%5B-122.29637%2C%2037.882647999999996%5D%2C%20%22type%22%3A%20%22Point%22%7D%2C%20%22id%22%3A%20%22226%22%2C%20%22properties%22%3A%20%7B%22shape_id%22%3A%20%22shp-72-31%22%2C%20%22stop_id%22%3A%20%2252271%22%2C%20%22stop_sequence%22%3A%2039.0%2C%20%22total_speed_delay%22%3A%20null%7D%2C%20%22type%22%3A%20%22Feature%22%7D%2C%20%7B%22bbox%22%3A%20%5B-122.29706800000001%2C%2037.88482700000002%2C%20-122.29706800000001%2C%2037.88482700000002%5D%2C%20%22geometry%22%3A%20%7B%22coordinates%22%3A%20%5B-122.29706800000001%2C%2037.88482700000002%5D%2C%20%22type%22%3A%20%22Point%22%7D%2C%20%22id%22%3A%20%22227%22%2C%20%22properties%22%3A%20%7B%22shape_id%22%3A%20%22shp-72-31%22%2C%20%22stop_id%22%3A%20%2255978%22%2C%20%22stop_sequence%22%3A%2040.0%2C%20%22total_speed_delay%22%3A%20null%7D%2C%20%22type%22%3A%20%22Feature%22%7D%2C%20%7B%22bbox%22%3A%20%5B-122.29760400000002%2C%2037.88648599999995%2C%20-122.29760400000002%2C%2037.88648599999995%5D%2C%20%22geometry%22%3A%20%7B%22coordinates%22%3A%20%5B-122.29760400000002%2C%2037.88648599999995%5D%2C%20%22type%22%3A%20%22Point%22%7D%2C%20%22id%22%3A%20%22228%22%2C%20%22properties%22%3A%20%7B%22shape_id%22%3A%20%22shp-72-31%22%2C%20%22stop_id%22%3A%20%2255867%22%2C%20%22stop_sequence%22%3A%2041.0%2C%20%22total_speed_delay%22%3A%20null%7D%2C%20%22type%22%3A%20%22Feature%22%7D%2C%20%7B%22bbox%22%3A%20%5B-122.29811200000002%2C%2037.88806999999999%2C%20-122.29811200000002%2C%2037.88806999999999%5D%2C%20%22geometry%22%3A%20%7B%22coordinates%22%3A%20%5B-122.29811200000002%2C%2037.88806999999999%5D%2C%20%22type%22%3A%20%22Point%22%7D%2C%20%22id%22%3A%20%22229%22%2C%20%22properties%22%3A%20%7B%22shape_id%22%3A%20%22shp-72-31%22%2C%20%22stop_id%22%3A%20%2256606%22%2C%20%22stop_sequence%22%3A%2042.0%2C%20%22total_speed_delay%22%3A%20null%7D%2C%20%22type%22%3A%20%22Feature%22%7D%2C%20%7B%22bbox%22%3A%20%5B-122.29891000000002%2C%2037.89054999999998%2C%20-122.29891000000002%2C%2037.89054999999998%5D%2C%20%22geometry%22%3A%20%7B%22coordinates%22%3A%20%5B-122.29891000000002%2C%2037.89054999999998%5D%2C%20%22type%22%3A%20%22Point%22%7D%2C%20%22id%22%3A%20%22230%22%2C%20%22properties%22%3A%20%7B%22shape_id%22%3A%20%22shp-72-31%22%2C%20%22stop_id%22%3A%20%2253021%22%2C%20%22stop_sequence%22%3A%2043.0%2C%20%22total_speed_delay%22%3A%20null%7D%2C%20%22type%22%3A%20%22Feature%22%7D%2C%20%7B%22bbox%22%3A%20%5B-122.299808%2C%2037.89333599999998%2C%20-122.299808%2C%2037.89333599999998%5D%2C%20%22geometry%22%3A%20%7B%22coordinates%22%3A%20%5B-122.299808%2C%2037.89333599999998%5D%2C%20%22type%22%3A%20%22Point%22%7D%2C%20%22id%22%3A%20%22231%22%2C%20%22properties%22%3A%20%7B%22shape_id%22%3A%20%22shp-72-31%22%2C%20%22stop_id%22%3A%20%2252217%22%2C%20%22stop_sequence%22%3A%2044.0%2C%20%22total_speed_delay%22%3A%20null%7D%2C%20%22type%22%3A%20%22Feature%22%7D%2C%20%7B%22bbox%22%3A%20%5B-122.30102500000001%2C%2037.89713699999997%2C%20-122.30102500000001%2C%2037.89713699999997%5D%2C%20%22geometry%22%3A%20%7B%22coordinates%22%3A%20%5B-122.30102500000001%2C%2037.89713699999997%5D%2C%20%22type%22%3A%20%22Point%22%7D%2C%20%22id%22%3A%20%22232%22%2C%20%22properties%22%3A%20%7B%22shape_id%22%3A%20%22shp-72-31%22%2C%20%22stop_id%22%3A%20%2252117%22%2C%20%22stop_sequence%22%3A%2045.0%2C%20%22total_speed_delay%22%3A%20null%7D%2C%20%22type%22%3A%20%22Feature%22%7D%2C%20%7B%22bbox%22%3A%20%5B-122.301866%2C%2037.89934700000003%2C%20-122.301866%2C%2037.89934700000003%5D%2C%20%22geometry%22%3A%20%7B%22coordinates%22%3A%20%5B-122.301866%2C%2037.89934700000003%5D%2C%20%22type%22%3A%20%22Point%22%7D%2C%20%22id%22%3A%20%22233%22%2C%20%22properties%22%3A%20%7B%22shape_id%22%3A%20%22shp-72-31%22%2C%20%22stop_id%22%3A%20%2255562%22%2C%20%22stop_sequence%22%3A%2046.0%2C%20%22total_speed_delay%22%3A%20null%7D%2C%20%22type%22%3A%20%22Feature%22%7D%2C%20%7B%22bbox%22%3A%20%5B-122.29886599999999%2C%2037.90235400000003%2C%20-122.29886599999999%2C%2037.90235400000003%5D%2C%20%22geometry%22%3A%20%7B%22coordinates%22%3A%20%5B-122.29886599999999%2C%2037.90235400000003%5D%2C%20%22type%22%3A%20%22Point%22%7D%2C%20%22id%22%3A%20%22234%22%2C%20%22properties%22%3A%20%7B%22shape_id%22%3A%20%22shp-72-31%22%2C%20%22stop_id%22%3A%20%2250500%22%2C%20%22stop_sequence%22%3A%2047.0%2C%20%22total_speed_delay%22%3A%20null%7D%2C%20%22type%22%3A%20%22Feature%22%7D%2C%20%7B%22bbox%22%3A%20%5B-122.303107%2C%2037.90234300000001%2C%20-122.303107%2C%2037.90234300000001%5D%2C%20%22geometry%22%3A%20%7B%22coordinates%22%3A%20%5B-122.303107%2C%2037.90234300000001%5D%2C%20%22type%22%3A%20%22Point%22%7D%2C%20%22id%22%3A%20%22235%22%2C%20%22properties%22%3A%20%7B%22shape_id%22%3A%20%22shp-72-31%22%2C%20%22stop_id%22%3A%20%2252544%22%2C%20%22stop_sequence%22%3A%2048.0%2C%20%22total_speed_delay%22%3A%20null%7D%2C%20%22type%22%3A%20%22Feature%22%7D%2C%20%7B%22bbox%22%3A%20%5B-122.304151%2C%2037.904239000000004%2C%20-122.304151%2C%2037.904239000000004%5D%2C%20%22geometry%22%3A%20%7B%22coordinates%22%3A%20%5B-122.304151%2C%2037.904239000000004%5D%2C%20%22type%22%3A%20%22Point%22%7D%2C%20%22id%22%3A%20%22236%22%2C%20%22properties%22%3A%20%7B%22shape_id%22%3A%20%22shp-72-31%22%2C%20%22stop_id%22%3A%20%2252325%22%2C%20%22stop_sequence%22%3A%2049.0%2C%20%22total_speed_delay%22%3A%20null%7D%2C%20%22type%22%3A%20%22Feature%22%7D%2C%20%7B%22bbox%22%3A%20%5B-122.30515899999999%2C%2037.90638099999993%2C%20-122.30515899999999%2C%2037.90638099999993%5D%2C%20%22geometry%22%3A%20%7B%22coordinates%22%3A%20%5B-122.30515899999999%2C%2037.90638099999993%5D%2C%20%22type%22%3A%20%22Point%22%7D%2C%20%22id%22%3A%20%22237%22%2C%20%22properties%22%3A%20%7B%22shape_id%22%3A%20%22shp-72-31%22%2C%20%22stop_id%22%3A%20%2259967%22%2C%20%22stop_sequence%22%3A%2050.0%2C%20%22total_speed_delay%22%3A%20null%7D%2C%20%22type%22%3A%20%22Feature%22%7D%2C%20%7B%22bbox%22%3A%20%5B-122.306212%2C%2037.908038999999974%2C%20-122.306212%2C%2037.908038999999974%5D%2C%20%22geometry%22%3A%20%7B%22coordinates%22%3A%20%5B-122.306212%2C%2037.908038999999974%5D%2C%20%22type%22%3A%20%22Point%22%7D%2C%20%22id%22%3A%20%22238%22%2C%20%22properties%22%3A%20%7B%22shape_id%22%3A%20%22shp-72-31%22%2C%20%22stop_id%22%3A%20%2250835%22%2C%20%22stop_sequence%22%3A%2051.0%2C%20%22total_speed_delay%22%3A%20null%7D%2C%20%22type%22%3A%20%22Feature%22%7D%2C%20%7B%22bbox%22%3A%20%5B-122.308824%2C%2037.91186399999997%2C%20-122.308824%2C%2037.91186399999997%5D%2C%20%22geometry%22%3A%20%7B%22coordinates%22%3A%20%5B-122.308824%2C%2037.91186399999997%5D%2C%20%22type%22%3A%20%22Point%22%7D%2C%20%22id%22%3A%20%22239%22%2C%20%22properties%22%3A%20%7B%22shape_id%22%3A%20%22shp-72-31%22%2C%20%22stop_id%22%3A%20%2258855%22%2C%20%22stop_sequence%22%3A%2052.0%2C%20%22total_speed_delay%22%3A%20null%7D%2C%20%22type%22%3A%20%22Feature%22%7D%2C%20%7B%22bbox%22%3A%20%5B-122.31021199999999%2C%2037.913913%2C%20-122.31021199999999%2C%2037.913913%5D%2C%20%22geometry%22%3A%20%7B%22coordinates%22%3A%20%5B-122.31021199999999%2C%2037.913913%5D%2C%20%22type%22%3A%20%22Point%22%7D%2C%20%22id%22%3A%20%22240%22%2C%20%22properties%22%3A%20%7B%22shape_id%22%3A%20%22shp-72-31%22%2C%20%22stop_id%22%3A%20%2251660%22%2C%20%22stop_sequence%22%3A%2053.0%2C%20%22total_speed_delay%22%3A%20null%7D%2C%20%22type%22%3A%20%22Feature%22%7D%2C%20%7B%22bbox%22%3A%20%5B-122.311442%2C%2037.91568399999998%2C%20-122.311442%2C%2037.91568399999998%5D%2C%20%22geometry%22%3A%20%7B%22coordinates%22%3A%20%5B-122.311442%2C%2037.91568399999998%5D%2C%20%22type%22%3A%20%22Point%22%7D%2C%20%22id%22%3A%20%22241%22%2C%20%22properties%22%3A%20%7B%22shape_id%22%3A%20%22shp-72-31%22%2C%20%22stop_id%22%3A%20%2251557%22%2C%20%22stop_sequence%22%3A%2054.0%2C%20%22total_speed_delay%22%3A%20null%7D%2C%20%22type%22%3A%20%22Feature%22%7D%2C%20%7B%22bbox%22%3A%20%5B-122.313619%2C%2037.91876800000001%2C%20-122.313619%2C%2037.91876800000001%5D%2C%20%22geometry%22%3A%20%7B%22coordinates%22%3A%20%5B-122.313619%2C%2037.91876800000001%5D%2C%20%22type%22%3A%20%22Point%22%7D%2C%20%22id%22%3A%20%22242%22%2C%20%22properties%22%3A%20%7B%22shape_id%22%3A%20%22shp-72-31%22%2C%20%22stop_id%22%3A%20%2250838%22%2C%20%22stop_sequence%22%3A%2055.0%2C%20%22total_speed_delay%22%3A%20null%7D%2C%20%22type%22%3A%20%22Feature%22%7D%2C%20%7B%22bbox%22%3A%20%5B-122.31533%2C%2037.921201999999994%2C%20-122.31533%2C%2037.921201999999994%5D%2C%20%22geometry%22%3A%20%7B%22coordinates%22%3A%20%5B-122.31533%2C%2037.921201999999994%5D%2C%20%22type%22%3A%20%22Point%22%7D%2C%20%22id%22%3A%20%22243%22%2C%20%22properties%22%3A%20%7B%22shape_id%22%3A%20%22shp-72-31%22%2C%20%22stop_id%22%3A%20%2255117%22%2C%20%22stop_sequence%22%3A%2056.0%2C%20%22total_speed_delay%22%3A%20null%7D%2C%20%22type%22%3A%20%22Feature%22%7D%2C%20%7B%22bbox%22%3A%20%5B-122.31646999999998%2C%2037.92440400000003%2C%20-122.31646999999998%2C%2037.92440400000003%5D%2C%20%22geometry%22%3A%20%7B%22coordinates%22%3A%20%5B-122.31646999999998%2C%2037.92440400000003%5D%2C%20%22type%22%3A%20%22Point%22%7D%2C%20%22id%22%3A%20%22244%22%2C%20%22properties%22%3A%20%7B%22shape_id%22%3A%20%22shp-72-31%22%2C%20%22stop_id%22%3A%20%2252943%22%2C%20%22stop_sequence%22%3A%2057.0%2C%20%22total_speed_delay%22%3A%20null%7D%2C%20%22type%22%3A%20%22Feature%22%7D%2C%20%7B%22bbox%22%3A%20%5B-122.32022%2C%2037.92808999999999%2C%20-122.32022%2C%2037.92808999999999%5D%2C%20%22geometry%22%3A%20%7B%22coordinates%22%3A%20%5B-122.32022%2C%2037.92808999999999%5D%2C%20%22type%22%3A%20%22Point%22%7D%2C%20%22id%22%3A%20%22245%22%2C%20%22properties%22%3A%20%7B%22shape_id%22%3A%20%22shp-72-31%22%2C%20%22stop_id%22%3A%20%2253019%22%2C%20%22stop_sequence%22%3A%2058.0%2C%20%22total_speed_delay%22%3A%20null%7D%2C%20%22type%22%3A%20%22Feature%22%7D%2C%20%7B%22bbox%22%3A%20%5B-122.278655%2C%2037.827622999999996%2C%20-122.278655%2C%2037.827622999999996%5D%2C%20%22geometry%22%3A%20%7B%22coordinates%22%3A%20%5B-122.278655%2C%2037.827622999999996%5D%2C%20%22type%22%3A%20%22Point%22%7D%2C%20%22id%22%3A%20%22276%22%2C%20%22properties%22%3A%20%7B%22shape_id%22%3A%20%22shp-72-33%22%2C%20%22stop_id%22%3A%20%2257751%22%2C%20%22stop_sequence%22%3A%2015.0%2C%20%22total_speed_delay%22%3A%20null%7D%2C%20%22type%22%3A%20%22Feature%22%7D%2C%20%7B%22bbox%22%3A%20%5B-122.279884%2C%2037.831487000000024%2C%20-122.279884%2C%2037.831487000000024%5D%2C%20%22geometry%22%3A%20%7B%22coordinates%22%3A%20%5B-122.279884%2C%2037.831487000000024%5D%2C%20%22type%22%3A%20%22Point%22%7D%2C%20%22id%22%3A%20%22277%22%2C%20%22properties%22%3A%20%7B%22shape_id%22%3A%20%22shp-72-33%22%2C%20%22stop_id%22%3A%20%2255535%22%2C%20%22stop_sequence%22%3A%2016.0%2C%20%22total_speed_delay%22%3A%20null%7D%2C%20%22type%22%3A%20%22Feature%22%7D%2C%20%7B%22bbox%22%3A%20%5B-122.28085799999998%2C%2037.83447899999998%2C%20-122.28085799999998%2C%2037.83447899999998%5D%2C%20%22geometry%22%3A%20%7B%22coordinates%22%3A%20%5B-122.28085799999998%2C%2037.83447899999998%5D%2C%20%22type%22%3A%20%22Point%22%7D%2C%20%22id%22%3A%20%22278%22%2C%20%22properties%22%3A%20%7B%22shape_id%22%3A%20%22shp-72-33%22%2C%20%22stop_id%22%3A%20%2250355%22%2C%20%22stop_sequence%22%3A%2017.0%2C%20%22total_speed_delay%22%3A%20null%7D%2C%20%22type%22%3A%20%22Feature%22%7D%2C%20%7B%22bbox%22%3A%20%5B-122.28131600000002%2C%2037.835925%2C%20-122.28131600000002%2C%2037.835925%5D%2C%20%22geometry%22%3A%20%7B%22coordinates%22%3A%20%5B-122.28131600000002%2C%2037.835925%5D%2C%20%22type%22%3A%20%22Point%22%7D%2C%20%22id%22%3A%20%22279%22%2C%20%22properties%22%3A%20%7B%22shape_id%22%3A%20%22shp-72-33%22%2C%20%22stop_id%22%3A%20%2252330%22%2C%20%22stop_sequence%22%3A%2018.0%2C%20%22total_speed_delay%22%3A%20null%7D%2C%20%22type%22%3A%20%22Feature%22%7D%2C%20%7B%22bbox%22%3A%20%5B-122.281852%2C%2037.837606999999984%2C%20-122.281852%2C%2037.837606999999984%5D%2C%20%22geometry%22%3A%20%7B%22coordinates%22%3A%20%5B-122.281852%2C%2037.837606999999984%5D%2C%20%22type%22%3A%20%22Point%22%7D%2C%20%22id%22%3A%20%22280%22%2C%20%22properties%22%3A%20%7B%22shape_id%22%3A%20%22shp-72-33%22%2C%20%22stop_id%22%3A%20%2257133%22%2C%20%22stop_sequence%22%3A%2019.0%2C%20%22total_speed_delay%22%3A%20null%7D%2C%20%22type%22%3A%20%22Feature%22%7D%2C%20%7B%22bbox%22%3A%20%5B-122.28235000000001%2C%2037.83912599999999%2C%20-122.28235000000001%2C%2037.83912599999999%5D%2C%20%22geometry%22%3A%20%7B%22coordinates%22%3A%20%5B-122.28235000000001%2C%2037.83912599999999%5D%2C%20%22type%22%3A%20%22Point%22%7D%2C%20%22id%22%3A%20%22281%22%2C%20%22properties%22%3A%20%7B%22shape_id%22%3A%20%22shp-72-33%22%2C%20%22stop_id%22%3A%20%2258499%22%2C%20%22stop_sequence%22%3A%2020.0%2C%20%22total_speed_delay%22%3A%20null%7D%2C%20%22type%22%3A%20%22Feature%22%7D%2C%20%7B%22bbox%22%3A%20%5B-122.283082%2C%2037.841426%2C%20-122.283082%2C%2037.841426%5D%2C%20%22geometry%22%3A%20%7B%22coordinates%22%3A%20%5B-122.283082%2C%2037.841426%5D%2C%20%22type%22%3A%20%22Point%22%7D%2C%20%22id%22%3A%20%22282%22%2C%20%22properties%22%3A%20%7B%22shape_id%22%3A%20%22shp-72-33%22%2C%20%22stop_id%22%3A%20%2255335%22%2C%20%22stop_sequence%22%3A%2021.0%2C%20%22total_speed_delay%22%3A%20null%7D%2C%20%22type%22%3A%20%22Feature%22%7D%2C%20%7B%22bbox%22%3A%20%5B-122.284219%2C%2037.84486099999998%2C%20-122.284219%2C%2037.84486099999998%5D%2C%20%22geometry%22%3A%20%7B%22coordinates%22%3A%20%5B-122.284219%2C%2037.84486099999998%5D%2C%20%22type%22%3A%20%22Point%22%7D%2C%20%22id%22%3A%20%22283%22%2C%20%22properties%22%3A%20%7B%22shape_id%22%3A%20%22shp-72-33%22%2C%20%22stop_id%22%3A%20%2254288%22%2C%20%22stop_sequence%22%3A%2022.0%2C%20%22total_speed_delay%22%3A%20null%7D%2C%20%22type%22%3A%20%22Feature%22%7D%2C%20%7B%22bbox%22%3A%20%5B-122.284957%2C%2037.84721299999997%2C%20-122.284957%2C%2037.84721299999997%5D%2C%20%22geometry%22%3A%20%7B%22coordinates%22%3A%20%5B-122.284957%2C%2037.84721299999997%5D%2C%20%22type%22%3A%20%22Point%22%7D%2C%20%22id%22%3A%20%22284%22%2C%20%22properties%22%3A%20%7B%22shape_id%22%3A%20%22shp-72-33%22%2C%20%22stop_id%22%3A%20%2255110%22%2C%20%22stop_sequence%22%3A%2023.0%2C%20%22total_speed_delay%22%3A%20null%7D%2C%20%22type%22%3A%20%22Feature%22%7D%2C%20%7B%22bbox%22%3A%20%5B-122.28545300000002%2C%2037.84874599999998%2C%20-122.28545300000002%2C%2037.84874599999998%5D%2C%20%22geometry%22%3A%20%7B%22coordinates%22%3A%20%5B-122.28545300000002%2C%2037.84874599999998%5D%2C%20%22type%22%3A%20%22Point%22%7D%2C%20%22id%22%3A%20%22285%22%2C%20%22properties%22%3A%20%7B%22shape_id%22%3A%20%22shp-72-33%22%2C%20%22stop_id%22%3A%20%2252283%22%2C%20%22stop_sequence%22%3A%2024.0%2C%20%22total_speed_delay%22%3A%20null%7D%2C%20%22type%22%3A%20%22Feature%22%7D%2C%20%7B%22bbox%22%3A%20%5B-122.286002%2C%2037.85047400000001%2C%20-122.286002%2C%2037.85047400000001%5D%2C%20%22geometry%22%3A%20%7B%22coordinates%22%3A%20%5B-122.286002%2C%2037.85047400000001%5D%2C%20%22type%22%3A%20%22Point%22%7D%2C%20%22id%22%3A%20%22286%22%2C%20%22properties%22%3A%20%7B%22shape_id%22%3A%20%22shp-72-33%22%2C%20%22stop_id%22%3A%20%2255603%22%2C%20%22stop_sequence%22%3A%2025.0%2C%20%22total_speed_delay%22%3A%20null%7D%2C%20%22type%22%3A%20%22Feature%22%7D%2C%20%7B%22bbox%22%3A%20%5B-122.286675%2C%2037.852514%2C%20-122.286675%2C%2037.852514%5D%2C%20%22geometry%22%3A%20%7B%22coordinates%22%3A%20%5B-122.286675%2C%2037.852514%5D%2C%20%22type%22%3A%20%22Point%22%7D%2C%20%22id%22%3A%20%22287%22%2C%20%22properties%22%3A%20%7B%22shape_id%22%3A%20%22shp-72-33%22%2C%20%22stop_id%22%3A%20%2251117%22%2C%20%22stop_sequence%22%3A%2026.0%2C%20%22total_speed_delay%22%3A%20null%7D%2C%20%22type%22%3A%20%22Feature%22%7D%2C%20%7B%22bbox%22%3A%20%5B-122.28740800000001%2C%2037.854847000000014%2C%20-122.28740800000001%2C%2037.854847000000014%5D%2C%20%22geometry%22%3A%20%7B%22coordinates%22%3A%20%5B-122.28740800000001%2C%2037.854847000000014%5D%2C%20%22type%22%3A%20%22Point%22%7D%2C%20%22id%22%3A%20%22288%22%2C%20%22properties%22%3A%20%7B%22shape_id%22%3A%20%22shp-72-33%22%2C%20%22stop_id%22%3A%20%2255367%22%2C%20%22stop_sequence%22%3A%2027.0%2C%20%22total_speed_delay%22%3A%20null%7D%2C%20%22type%22%3A%20%22Feature%22%7D%2C%20%7B%22bbox%22%3A%20%5B-122.28791099999998%2C%2037.85642600000001%2C%20-122.28791099999998%2C%2037.85642600000001%5D%2C%20%22geometry%22%3A%20%7B%22coordinates%22%3A%20%5B-122.28791099999998%2C%2037.85642600000001%5D%2C%20%22type%22%3A%20%22Point%22%7D%2C%20%22id%22%3A%20%22289%22%2C%20%22properties%22%3A%20%7B%22shape_id%22%3A%20%22shp-72-33%22%2C%20%22stop_id%22%3A%20%2251699%22%2C%20%22stop_sequence%22%3A%2028.0%2C%20%22total_speed_delay%22%3A%20null%7D%2C%20%22type%22%3A%20%22Feature%22%7D%2C%20%7B%22bbox%22%3A%20%5B-122.28885600000001%2C%2037.85931599999999%2C%20-122.28885600000001%2C%2037.85931599999999%5D%2C%20%22geometry%22%3A%20%7B%22coordinates%22%3A%20%5B-122.28885600000001%2C%2037.85931599999999%5D%2C%20%22type%22%3A%20%22Point%22%7D%2C%20%22id%22%3A%20%22290%22%2C%20%22properties%22%3A%20%7B%22shape_id%22%3A%20%22shp-72-33%22%2C%20%22stop_id%22%3A%20%2255701%22%2C%20%22stop_sequence%22%3A%2029.0%2C%20%22total_speed_delay%22%3A%20null%7D%2C%20%22type%22%3A%20%22Feature%22%7D%2C%20%7B%22bbox%22%3A%20%5B-122.28954600000002%2C%2037.861466%2C%20-122.28954600000002%2C%2037.861466%5D%2C%20%22geometry%22%3A%20%7B%22coordinates%22%3A%20%5B-122.28954600000002%2C%2037.861466%5D%2C%20%22type%22%3A%20%22Point%22%7D%2C%20%22id%22%3A%20%22291%22%2C%20%22properties%22%3A%20%7B%22shape_id%22%3A%20%22shp-72-33%22%2C%20%22stop_id%22%3A%20%2255880%22%2C%20%22stop_sequence%22%3A%2030.0%2C%20%22total_speed_delay%22%3A%20null%7D%2C%20%22type%22%3A%20%22Feature%22%7D%2C%20%7B%22bbox%22%3A%20%5B-122.289956%2C%2037.86274800000004%2C%20-122.289956%2C%2037.86274800000004%5D%2C%20%22geometry%22%3A%20%7B%22coordinates%22%3A%20%5B-122.289956%2C%2037.86274800000004%5D%2C%20%22type%22%3A%20%22Point%22%7D%2C%20%22id%22%3A%20%22292%22%2C%20%22properties%22%3A%20%7B%22shape_id%22%3A%20%22shp-72-33%22%2C%20%22stop_id%22%3A%20%2252207%22%2C%20%22stop_sequence%22%3A%2031.0%2C%20%22total_speed_delay%22%3A%20null%7D%2C%20%22type%22%3A%20%22Feature%22%7D%2C%20%7B%22bbox%22%3A%20%5B-122.290631%2C%2037.864816%2C%20-122.290631%2C%2037.864816%5D%2C%20%22geometry%22%3A%20%7B%22coordinates%22%3A%20%5B-122.290631%2C%2037.864816%5D%2C%20%22type%22%3A%20%22Point%22%7D%2C%20%22id%22%3A%20%22293%22%2C%20%22properties%22%3A%20%7B%22shape_id%22%3A%20%22shp-72-33%22%2C%20%22stop_id%22%3A%20%2255267%22%2C%20%22stop_sequence%22%3A%2032.0%2C%20%22total_speed_delay%22%3A%20null%7D%2C%20%22type%22%3A%20%22Feature%22%7D%2C%20%7B%22bbox%22%3A%20%5B-122.29123900000002%2C%2037.866724000000026%2C%20-122.29123900000002%2C%2037.866724000000026%5D%2C%20%22geometry%22%3A%20%7B%22coordinates%22%3A%20%5B-122.29123900000002%2C%2037.866724000000026%5D%2C%20%22type%22%3A%20%22Point%22%7D%2C%20%22id%22%3A%20%22294%22%2C%20%22properties%22%3A%20%7B%22shape_id%22%3A%20%22shp-72-33%22%2C%20%22stop_id%22%3A%20%2252007%22%2C%20%22stop_sequence%22%3A%2033.0%2C%20%22total_speed_delay%22%3A%20null%7D%2C%20%22type%22%3A%20%22Feature%22%7D%2C%20%7B%22bbox%22%3A%20%5B-122.292118%2C%2037.869467%2C%20-122.292118%2C%2037.869467%5D%2C%20%22geometry%22%3A%20%7B%22coordinates%22%3A%20%5B-122.292118%2C%2037.869467%5D%2C%20%22type%22%3A%20%22Point%22%7D%2C%20%22id%22%3A%20%22295%22%2C%20%22properties%22%3A%20%7B%22shape_id%22%3A%20%22shp-72-33%22%2C%20%22stop_id%22%3A%20%2255525%22%2C%20%22stop_sequence%22%3A%2034.0%2C%20%22total_speed_delay%22%3A%20null%7D%2C%20%22type%22%3A%20%22Feature%22%7D%2C%20%7B%22bbox%22%3A%20%5B-122.29293600000001%2C%2037.87202800000002%2C%20-122.29293600000001%2C%2037.87202800000002%5D%2C%20%22geometry%22%3A%20%7B%22coordinates%22%3A%20%5B-122.29293600000001%2C%2037.87202800000002%5D%2C%20%22type%22%3A%20%22Point%22%7D%2C%20%22id%22%3A%20%22296%22%2C%20%22properties%22%3A%20%7B%22shape_id%22%3A%20%22shp-72-33%22%2C%20%22stop_id%22%3A%20%2251001%22%2C%20%22stop_sequence%22%3A%2035.0%2C%20%22total_speed_delay%22%3A%20null%7D%2C%20%22type%22%3A%20%22Feature%22%7D%2C%20%7B%22bbox%22%3A%20%5B-122.293951%2C%2037.87510800000002%2C%20-122.293951%2C%2037.87510800000002%5D%2C%20%22geometry%22%3A%20%7B%22coordinates%22%3A%20%5B-122.293951%2C%2037.87510800000002%5D%2C%20%22type%22%3A%20%22Point%22%7D%2C%20%22id%22%3A%20%22297%22%2C%20%22properties%22%3A%20%7B%22shape_id%22%3A%20%22shp-72-33%22%2C%20%22stop_id%22%3A%20%2255165%22%2C%20%22stop_sequence%22%3A%2036.0%2C%20%22total_speed_delay%22%3A%20null%7D%2C%20%22type%22%3A%20%22Feature%22%7D%2C%20%7B%22bbox%22%3A%20%5B-122.29481500000001%2C%2037.87777299999996%2C%20-122.29481500000001%2C%2037.87777299999996%5D%2C%20%22geometry%22%3A%20%7B%22coordinates%22%3A%20%5B-122.29481500000001%2C%2037.87777299999996%5D%2C%20%22type%22%3A%20%22Point%22%7D%2C%20%22id%22%3A%20%22298%22%2C%20%22properties%22%3A%20%7B%22shape_id%22%3A%20%22shp-72-33%22%2C%20%22stop_id%22%3A%20%2252273%22%2C%20%22stop_sequence%22%3A%2037.0%2C%20%22total_speed_delay%22%3A%20null%7D%2C%20%22type%22%3A%20%22Feature%22%7D%2C%20%7B%22bbox%22%3A%20%5B-122.29578299999999%2C%2037.88082900000005%2C%20-122.29578299999999%2C%2037.88082900000005%5D%2C%20%22geometry%22%3A%20%7B%22coordinates%22%3A%20%5B-122.29578299999999%2C%2037.88082900000005%5D%2C%20%22type%22%3A%20%22Point%22%7D%2C%20%22id%22%3A%20%22299%22%2C%20%22properties%22%3A%20%7B%22shape_id%22%3A%20%22shp-72-33%22%2C%20%22stop_id%22%3A%20%2255100%22%2C%20%22stop_sequence%22%3A%2038.0%2C%20%22total_speed_delay%22%3A%20null%7D%2C%20%22type%22%3A%20%22Feature%22%7D%2C%20%7B%22bbox%22%3A%20%5B-122.29637%2C%2037.882647999999996%2C%20-122.29637%2C%2037.882647999999996%5D%2C%20%22geometry%22%3A%20%7B%22coordinates%22%3A%20%5B-122.29637%2C%2037.882647999999996%5D%2C%20%22type%22%3A%20%22Point%22%7D%2C%20%22id%22%3A%20%22300%22%2C%20%22properties%22%3A%20%7B%22shape_id%22%3A%20%22shp-72-33%22%2C%20%22stop_id%22%3A%20%2252271%22%2C%20%22stop_sequence%22%3A%2039.0%2C%20%22total_speed_delay%22%3A%20null%7D%2C%20%22type%22%3A%20%22Feature%22%7D%2C%20%7B%22bbox%22%3A%20%5B-122.29706800000001%2C%2037.88482700000002%2C%20-122.29706800000001%2C%2037.88482700000002%5D%2C%20%22geometry%22%3A%20%7B%22coordinates%22%3A%20%5B-122.29706800000001%2C%2037.88482700000002%5D%2C%20%22type%22%3A%20%22Point%22%7D%2C%20%22id%22%3A%20%22301%22%2C%20%22properties%22%3A%20%7B%22shape_id%22%3A%20%22shp-72-33%22%2C%20%22stop_id%22%3A%20%2255978%22%2C%20%22stop_sequence%22%3A%2040.0%2C%20%22total_speed_delay%22%3A%20null%7D%2C%20%22type%22%3A%20%22Feature%22%7D%2C%20%7B%22bbox%22%3A%20%5B-122.29760400000002%2C%2037.88648599999995%2C%20-122.29760400000002%2C%2037.88648599999995%5D%2C%20%22geometry%22%3A%20%7B%22coordinates%22%3A%20%5B-122.29760400000002%2C%2037.88648599999995%5D%2C%20%22type%22%3A%20%22Point%22%7D%2C%20%22id%22%3A%20%22302%22%2C%20%22properties%22%3A%20%7B%22shape_id%22%3A%20%22shp-72-33%22%2C%20%22stop_id%22%3A%20%2255867%22%2C%20%22stop_sequence%22%3A%2041.0%2C%20%22total_speed_delay%22%3A%20null%7D%2C%20%22type%22%3A%20%22Feature%22%7D%2C%20%7B%22bbox%22%3A%20%5B-122.29811200000002%2C%2037.88806999999999%2C%20-122.29811200000002%2C%2037.88806999999999%5D%2C%20%22geometry%22%3A%20%7B%22coordinates%22%3A%20%5B-122.29811200000002%2C%2037.88806999999999%5D%2C%20%22type%22%3A%20%22Point%22%7D%2C%20%22id%22%3A%20%22303%22%2C%20%22properties%22%3A%20%7B%22shape_id%22%3A%20%22shp-72-33%22%2C%20%22stop_id%22%3A%20%2256606%22%2C%20%22stop_sequence%22%3A%2042.0%2C%20%22total_speed_delay%22%3A%20null%7D%2C%20%22type%22%3A%20%22Feature%22%7D%2C%20%7B%22bbox%22%3A%20%5B-122.29891000000002%2C%2037.89054999999998%2C%20-122.29891000000002%2C%2037.89054999999998%5D%2C%20%22geometry%22%3A%20%7B%22coordinates%22%3A%20%5B-122.29891000000002%2C%2037.89054999999998%5D%2C%20%22type%22%3A%20%22Point%22%7D%2C%20%22id%22%3A%20%22304%22%2C%20%22properties%22%3A%20%7B%22shape_id%22%3A%20%22shp-72-33%22%2C%20%22stop_id%22%3A%20%2253021%22%2C%20%22stop_sequence%22%3A%2043.0%2C%20%22total_speed_delay%22%3A%20null%7D%2C%20%22type%22%3A%20%22Feature%22%7D%2C%20%7B%22bbox%22%3A%20%5B-122.299808%2C%2037.89333599999998%2C%20-122.299808%2C%2037.89333599999998%5D%2C%20%22geometry%22%3A%20%7B%22coordinates%22%3A%20%5B-122.299808%2C%2037.89333599999998%5D%2C%20%22type%22%3A%20%22Point%22%7D%2C%20%22id%22%3A%20%22305%22%2C%20%22properties%22%3A%20%7B%22shape_id%22%3A%20%22shp-72-33%22%2C%20%22stop_id%22%3A%20%2252217%22%2C%20%22stop_sequence%22%3A%2044.0%2C%20%22total_speed_delay%22%3A%20null%7D%2C%20%22type%22%3A%20%22Feature%22%7D%2C%20%7B%22bbox%22%3A%20%5B-122.30102500000001%2C%2037.89713699999997%2C%20-122.30102500000001%2C%2037.89713699999997%5D%2C%20%22geometry%22%3A%20%7B%22coordinates%22%3A%20%5B-122.30102500000001%2C%2037.89713699999997%5D%2C%20%22type%22%3A%20%22Point%22%7D%2C%20%22id%22%3A%20%22306%22%2C%20%22properties%22%3A%20%7B%22shape_id%22%3A%20%22shp-72-33%22%2C%20%22stop_id%22%3A%20%2252117%22%2C%20%22stop_sequence%22%3A%2045.0%2C%20%22total_speed_delay%22%3A%20null%7D%2C%20%22type%22%3A%20%22Feature%22%7D%2C%20%7B%22bbox%22%3A%20%5B-122.301866%2C%2037.89934700000003%2C%20-122.301866%2C%2037.89934700000003%5D%2C%20%22geometry%22%3A%20%7B%22coordinates%22%3A%20%5B-122.301866%2C%2037.89934700000003%5D%2C%20%22type%22%3A%20%22Point%22%7D%2C%20%22id%22%3A%20%22307%22%2C%20%22properties%22%3A%20%7B%22shape_id%22%3A%20%22shp-72-33%22%2C%20%22stop_id%22%3A%20%2255562%22%2C%20%22stop_sequence%22%3A%2046.0%2C%20%22total_speed_delay%22%3A%20null%7D%2C%20%22type%22%3A%20%22Feature%22%7D%2C%20%7B%22bbox%22%3A%20%5B-122.29886599999999%2C%2037.90235400000003%2C%20-122.29886599999999%2C%2037.90235400000003%5D%2C%20%22geometry%22%3A%20%7B%22coordinates%22%3A%20%5B-122.29886599999999%2C%2037.90235400000003%5D%2C%20%22type%22%3A%20%22Point%22%7D%2C%20%22id%22%3A%20%22308%22%2C%20%22properties%22%3A%20%7B%22shape_id%22%3A%20%22shp-72-33%22%2C%20%22stop_id%22%3A%20%2250500%22%2C%20%22stop_sequence%22%3A%2047.0%2C%20%22total_speed_delay%22%3A%20null%7D%2C%20%22type%22%3A%20%22Feature%22%7D%2C%20%7B%22bbox%22%3A%20%5B-122.303107%2C%2037.90234300000001%2C%20-122.303107%2C%2037.90234300000001%5D%2C%20%22geometry%22%3A%20%7B%22coordinates%22%3A%20%5B-122.303107%2C%2037.90234300000001%5D%2C%20%22type%22%3A%20%22Point%22%7D%2C%20%22id%22%3A%20%22309%22%2C%20%22properties%22%3A%20%7B%22shape_id%22%3A%20%22shp-72-33%22%2C%20%22stop_id%22%3A%20%2252544%22%2C%20%22stop_sequence%22%3A%2048.0%2C%20%22total_speed_delay%22%3A%20null%7D%2C%20%22type%22%3A%20%22Feature%22%7D%2C%20%7B%22bbox%22%3A%20%5B-122.304151%2C%2037.904239000000004%2C%20-122.304151%2C%2037.904239000000004%5D%2C%20%22geometry%22%3A%20%7B%22coordinates%22%3A%20%5B-122.304151%2C%2037.904239000000004%5D%2C%20%22type%22%3A%20%22Point%22%7D%2C%20%22id%22%3A%20%22310%22%2C%20%22properties%22%3A%20%7B%22shape_id%22%3A%20%22shp-72-33%22%2C%20%22stop_id%22%3A%20%2252325%22%2C%20%22stop_sequence%22%3A%2049.0%2C%20%22total_speed_delay%22%3A%20null%7D%2C%20%22type%22%3A%20%22Feature%22%7D%2C%20%7B%22bbox%22%3A%20%5B-122.30515899999999%2C%2037.90638099999993%2C%20-122.30515899999999%2C%2037.90638099999993%5D%2C%20%22geometry%22%3A%20%7B%22coordinates%22%3A%20%5B-122.30515899999999%2C%2037.90638099999993%5D%2C%20%22type%22%3A%20%22Point%22%7D%2C%20%22id%22%3A%20%22311%22%2C%20%22properties%22%3A%20%7B%22shape_id%22%3A%20%22shp-72-33%22%2C%20%22stop_id%22%3A%20%2259967%22%2C%20%22stop_sequence%22%3A%2050.0%2C%20%22total_speed_delay%22%3A%20null%7D%2C%20%22type%22%3A%20%22Feature%22%7D%2C%20%7B%22bbox%22%3A%20%5B-122.306212%2C%2037.908038999999974%2C%20-122.306212%2C%2037.908038999999974%5D%2C%20%22geometry%22%3A%20%7B%22coordinates%22%3A%20%5B-122.306212%2C%2037.908038999999974%5D%2C%20%22type%22%3A%20%22Point%22%7D%2C%20%22id%22%3A%20%22312%22%2C%20%22properties%22%3A%20%7B%22shape_id%22%3A%20%22shp-72-33%22%2C%20%22stop_id%22%3A%20%2250835%22%2C%20%22stop_sequence%22%3A%2051.0%2C%20%22total_speed_delay%22%3A%20null%7D%2C%20%22type%22%3A%20%22Feature%22%7D%2C%20%7B%22bbox%22%3A%20%5B-122.308824%2C%2037.91186399999997%2C%20-122.308824%2C%2037.91186399999997%5D%2C%20%22geometry%22%3A%20%7B%22coordinates%22%3A%20%5B-122.308824%2C%2037.91186399999997%5D%2C%20%22type%22%3A%20%22Point%22%7D%2C%20%22id%22%3A%20%22313%22%2C%20%22properties%22%3A%20%7B%22shape_id%22%3A%20%22shp-72-33%22%2C%20%22stop_id%22%3A%20%2258855%22%2C%20%22stop_sequence%22%3A%2052.0%2C%20%22total_speed_delay%22%3A%20null%7D%2C%20%22type%22%3A%20%22Feature%22%7D%2C%20%7B%22bbox%22%3A%20%5B-122.31021199999999%2C%2037.913913%2C%20-122.31021199999999%2C%2037.913913%5D%2C%20%22geometry%22%3A%20%7B%22coordinates%22%3A%20%5B-122.31021199999999%2C%2037.913913%5D%2C%20%22type%22%3A%20%22Point%22%7D%2C%20%22id%22%3A%20%22314%22%2C%20%22properties%22%3A%20%7B%22shape_id%22%3A%20%22shp-72-33%22%2C%20%22stop_id%22%3A%20%2251660%22%2C%20%22stop_sequence%22%3A%2053.0%2C%20%22total_speed_delay%22%3A%20null%7D%2C%20%22type%22%3A%20%22Feature%22%7D%2C%20%7B%22bbox%22%3A%20%5B-122.311442%2C%2037.91568399999998%2C%20-122.311442%2C%2037.91568399999998%5D%2C%20%22geometry%22%3A%20%7B%22coordinates%22%3A%20%5B-122.311442%2C%2037.91568399999998%5D%2C%20%22type%22%3A%20%22Point%22%7D%2C%20%22id%22%3A%20%22315%22%2C%20%22properties%22%3A%20%7B%22shape_id%22%3A%20%22shp-72-33%22%2C%20%22stop_id%22%3A%20%2251557%22%2C%20%22stop_sequence%22%3A%2054.0%2C%20%22total_speed_delay%22%3A%20null%7D%2C%20%22type%22%3A%20%22Feature%22%7D%2C%20%7B%22bbox%22%3A%20%5B-122.313619%2C%2037.91876800000001%2C%20-122.313619%2C%2037.91876800000001%5D%2C%20%22geometry%22%3A%20%7B%22coordinates%22%3A%20%5B-122.313619%2C%2037.91876800000001%5D%2C%20%22type%22%3A%20%22Point%22%7D%2C%20%22id%22%3A%20%22316%22%2C%20%22properties%22%3A%20%7B%22shape_id%22%3A%20%22shp-72-33%22%2C%20%22stop_id%22%3A%20%2250838%22%2C%20%22stop_sequence%22%3A%2055.0%2C%20%22total_speed_delay%22%3A%20null%7D%2C%20%22type%22%3A%20%22Feature%22%7D%2C%20%7B%22bbox%22%3A%20%5B-122.31533%2C%2037.921201999999994%2C%20-122.31533%2C%2037.921201999999994%5D%2C%20%22geometry%22%3A%20%7B%22coordinates%22%3A%20%5B-122.31533%2C%2037.921201999999994%5D%2C%20%22type%22%3A%20%22Point%22%7D%2C%20%22id%22%3A%20%22317%22%2C%20%22properties%22%3A%20%7B%22shape_id%22%3A%20%22shp-72-33%22%2C%20%22stop_id%22%3A%20%2255117%22%2C%20%22stop_sequence%22%3A%2056.0%2C%20%22total_speed_delay%22%3A%20null%7D%2C%20%22type%22%3A%20%22Feature%22%7D%2C%20%7B%22bbox%22%3A%20%5B-122.278655%2C%2037.827622999999996%2C%20-122.278655%2C%2037.827622999999996%5D%2C%20%22geometry%22%3A%20%7B%22coordinates%22%3A%20%5B-122.278655%2C%2037.827622999999996%5D%2C%20%22type%22%3A%20%22Point%22%7D%2C%20%22id%22%3A%20%22331%22%2C%20%22properties%22%3A%20%7B%22shape_id%22%3A%20%22shp-72-32%22%2C%20%22stop_id%22%3A%20%2257751%22%2C%20%22stop_sequence%22%3A%2015.0%2C%20%22total_speed_delay%22%3A%20null%7D%2C%20%22type%22%3A%20%22Feature%22%7D%2C%20%7B%22bbox%22%3A%20%5B-122.279884%2C%2037.831487000000024%2C%20-122.279884%2C%2037.831487000000024%5D%2C%20%22geometry%22%3A%20%7B%22coordinates%22%3A%20%5B-122.279884%2C%2037.831487000000024%5D%2C%20%22type%22%3A%20%22Point%22%7D%2C%20%22id%22%3A%20%22332%22%2C%20%22properties%22%3A%20%7B%22shape_id%22%3A%20%22shp-72-32%22%2C%20%22stop_id%22%3A%20%2255535%22%2C%20%22stop_sequence%22%3A%2016.0%2C%20%22total_speed_delay%22%3A%20null%7D%2C%20%22type%22%3A%20%22Feature%22%7D%2C%20%7B%22bbox%22%3A%20%5B-122.28085799999998%2C%2037.83447899999998%2C%20-122.28085799999998%2C%2037.83447899999998%5D%2C%20%22geometry%22%3A%20%7B%22coordinates%22%3A%20%5B-122.28085799999998%2C%2037.83447899999998%5D%2C%20%22type%22%3A%20%22Point%22%7D%2C%20%22id%22%3A%20%22333%22%2C%20%22properties%22%3A%20%7B%22shape_id%22%3A%20%22shp-72-32%22%2C%20%22stop_id%22%3A%20%2250355%22%2C%20%22stop_sequence%22%3A%2017.0%2C%20%22total_speed_delay%22%3A%20null%7D%2C%20%22type%22%3A%20%22Feature%22%7D%2C%20%7B%22bbox%22%3A%20%5B-122.28131600000002%2C%2037.835925%2C%20-122.28131600000002%2C%2037.835925%5D%2C%20%22geometry%22%3A%20%7B%22coordinates%22%3A%20%5B-122.28131600000002%2C%2037.835925%5D%2C%20%22type%22%3A%20%22Point%22%7D%2C%20%22id%22%3A%20%22334%22%2C%20%22properties%22%3A%20%7B%22shape_id%22%3A%20%22shp-72-32%22%2C%20%22stop_id%22%3A%20%2252330%22%2C%20%22stop_sequence%22%3A%2018.0%2C%20%22total_speed_delay%22%3A%20null%7D%2C%20%22type%22%3A%20%22Feature%22%7D%2C%20%7B%22bbox%22%3A%20%5B-122.281852%2C%2037.837606999999984%2C%20-122.281852%2C%2037.837606999999984%5D%2C%20%22geometry%22%3A%20%7B%22coordinates%22%3A%20%5B-122.281852%2C%2037.837606999999984%5D%2C%20%22type%22%3A%20%22Point%22%7D%2C%20%22id%22%3A%20%22335%22%2C%20%22properties%22%3A%20%7B%22shape_id%22%3A%20%22shp-72-32%22%2C%20%22stop_id%22%3A%20%2257133%22%2C%20%22stop_sequence%22%3A%2019.0%2C%20%22total_speed_delay%22%3A%20null%7D%2C%20%22type%22%3A%20%22Feature%22%7D%2C%20%7B%22bbox%22%3A%20%5B-122.28235000000001%2C%2037.83912599999999%2C%20-122.28235000000001%2C%2037.83912599999999%5D%2C%20%22geometry%22%3A%20%7B%22coordinates%22%3A%20%5B-122.28235000000001%2C%2037.83912599999999%5D%2C%20%22type%22%3A%20%22Point%22%7D%2C%20%22id%22%3A%20%22336%22%2C%20%22properties%22%3A%20%7B%22shape_id%22%3A%20%22shp-72-32%22%2C%20%22stop_id%22%3A%20%2258499%22%2C%20%22stop_sequence%22%3A%2020.0%2C%20%22total_speed_delay%22%3A%20null%7D%2C%20%22type%22%3A%20%22Feature%22%7D%2C%20%7B%22bbox%22%3A%20%5B-122.283082%2C%2037.841426%2C%20-122.283082%2C%2037.841426%5D%2C%20%22geometry%22%3A%20%7B%22coordinates%22%3A%20%5B-122.283082%2C%2037.841426%5D%2C%20%22type%22%3A%20%22Point%22%7D%2C%20%22id%22%3A%20%22337%22%2C%20%22properties%22%3A%20%7B%22shape_id%22%3A%20%22shp-72-32%22%2C%20%22stop_id%22%3A%20%2255335%22%2C%20%22stop_sequence%22%3A%2021.0%2C%20%22total_speed_delay%22%3A%20null%7D%2C%20%22type%22%3A%20%22Feature%22%7D%2C%20%7B%22bbox%22%3A%20%5B-122.284219%2C%2037.84486099999998%2C%20-122.284219%2C%2037.84486099999998%5D%2C%20%22geometry%22%3A%20%7B%22coordinates%22%3A%20%5B-122.284219%2C%2037.84486099999998%5D%2C%20%22type%22%3A%20%22Point%22%7D%2C%20%22id%22%3A%20%22338%22%2C%20%22properties%22%3A%20%7B%22shape_id%22%3A%20%22shp-72-32%22%2C%20%22stop_id%22%3A%20%2254288%22%2C%20%22stop_sequence%22%3A%2022.0%2C%20%22total_speed_delay%22%3A%20null%7D%2C%20%22type%22%3A%20%22Feature%22%7D%2C%20%7B%22bbox%22%3A%20%5B-122.284957%2C%2037.84721299999997%2C%20-122.284957%2C%2037.84721299999997%5D%2C%20%22geometry%22%3A%20%7B%22coordinates%22%3A%20%5B-122.284957%2C%2037.84721299999997%5D%2C%20%22type%22%3A%20%22Point%22%7D%2C%20%22id%22%3A%20%22339%22%2C%20%22properties%22%3A%20%7B%22shape_id%22%3A%20%22shp-72-32%22%2C%20%22stop_id%22%3A%20%2255110%22%2C%20%22stop_sequence%22%3A%2023.0%2C%20%22total_speed_delay%22%3A%20null%7D%2C%20%22type%22%3A%20%22Feature%22%7D%2C%20%7B%22bbox%22%3A%20%5B-122.28545300000002%2C%2037.84874599999998%2C%20-122.28545300000002%2C%2037.84874599999998%5D%2C%20%22geometry%22%3A%20%7B%22coordinates%22%3A%20%5B-122.28545300000002%2C%2037.84874599999998%5D%2C%20%22type%22%3A%20%22Point%22%7D%2C%20%22id%22%3A%20%22340%22%2C%20%22properties%22%3A%20%7B%22shape_id%22%3A%20%22shp-72-32%22%2C%20%22stop_id%22%3A%20%2252283%22%2C%20%22stop_sequence%22%3A%2024.0%2C%20%22total_speed_delay%22%3A%20null%7D%2C%20%22type%22%3A%20%22Feature%22%7D%2C%20%7B%22bbox%22%3A%20%5B-122.286002%2C%2037.85047400000001%2C%20-122.286002%2C%2037.85047400000001%5D%2C%20%22geometry%22%3A%20%7B%22coordinates%22%3A%20%5B-122.286002%2C%2037.85047400000001%5D%2C%20%22type%22%3A%20%22Point%22%7D%2C%20%22id%22%3A%20%22341%22%2C%20%22properties%22%3A%20%7B%22shape_id%22%3A%20%22shp-72-32%22%2C%20%22stop_id%22%3A%20%2255603%22%2C%20%22stop_sequence%22%3A%2025.0%2C%20%22total_speed_delay%22%3A%20null%7D%2C%20%22type%22%3A%20%22Feature%22%7D%2C%20%7B%22bbox%22%3A%20%5B-122.286675%2C%2037.852514%2C%20-122.286675%2C%2037.852514%5D%2C%20%22geometry%22%3A%20%7B%22coordinates%22%3A%20%5B-122.286675%2C%2037.852514%5D%2C%20%22type%22%3A%20%22Point%22%7D%2C%20%22id%22%3A%20%22342%22%2C%20%22properties%22%3A%20%7B%22shape_id%22%3A%20%22shp-72-32%22%2C%20%22stop_id%22%3A%20%2251117%22%2C%20%22stop_sequence%22%3A%2026.0%2C%20%22total_speed_delay%22%3A%20null%7D%2C%20%22type%22%3A%20%22Feature%22%7D%2C%20%7B%22bbox%22%3A%20%5B-122.28740800000001%2C%2037.854847000000014%2C%20-122.28740800000001%2C%2037.854847000000014%5D%2C%20%22geometry%22%3A%20%7B%22coordinates%22%3A%20%5B-122.28740800000001%2C%2037.854847000000014%5D%2C%20%22type%22%3A%20%22Point%22%7D%2C%20%22id%22%3A%20%22343%22%2C%20%22properties%22%3A%20%7B%22shape_id%22%3A%20%22shp-72-32%22%2C%20%22stop_id%22%3A%20%2255367%22%2C%20%22stop_sequence%22%3A%2027.0%2C%20%22total_speed_delay%22%3A%20null%7D%2C%20%22type%22%3A%20%22Feature%22%7D%2C%20%7B%22bbox%22%3A%20%5B-122.28791099999998%2C%2037.85642600000001%2C%20-122.28791099999998%2C%2037.85642600000001%5D%2C%20%22geometry%22%3A%20%7B%22coordinates%22%3A%20%5B-122.28791099999998%2C%2037.85642600000001%5D%2C%20%22type%22%3A%20%22Point%22%7D%2C%20%22id%22%3A%20%22344%22%2C%20%22properties%22%3A%20%7B%22shape_id%22%3A%20%22shp-72-32%22%2C%20%22stop_id%22%3A%20%2251699%22%2C%20%22stop_sequence%22%3A%2028.0%2C%20%22total_speed_delay%22%3A%20null%7D%2C%20%22type%22%3A%20%22Feature%22%7D%2C%20%7B%22bbox%22%3A%20%5B-122.28885600000001%2C%2037.85931599999999%2C%20-122.28885600000001%2C%2037.85931599999999%5D%2C%20%22geometry%22%3A%20%7B%22coordinates%22%3A%20%5B-122.28885600000001%2C%2037.85931599999999%5D%2C%20%22type%22%3A%20%22Point%22%7D%2C%20%22id%22%3A%20%22345%22%2C%20%22properties%22%3A%20%7B%22shape_id%22%3A%20%22shp-72-32%22%2C%20%22stop_id%22%3A%20%2255701%22%2C%20%22stop_sequence%22%3A%2029.0%2C%20%22total_speed_delay%22%3A%20null%7D%2C%20%22type%22%3A%20%22Feature%22%7D%2C%20%7B%22bbox%22%3A%20%5B-122.28954600000002%2C%2037.861466%2C%20-122.28954600000002%2C%2037.861466%5D%2C%20%22geometry%22%3A%20%7B%22coordinates%22%3A%20%5B-122.28954600000002%2C%2037.861466%5D%2C%20%22type%22%3A%20%22Point%22%7D%2C%20%22id%22%3A%20%22346%22%2C%20%22properties%22%3A%20%7B%22shape_id%22%3A%20%22shp-72-32%22%2C%20%22stop_id%22%3A%20%2255880%22%2C%20%22stop_sequence%22%3A%2030.0%2C%20%22total_speed_delay%22%3A%20null%7D%2C%20%22type%22%3A%20%22Feature%22%7D%2C%20%7B%22bbox%22%3A%20%5B-122.289956%2C%2037.86274800000004%2C%20-122.289956%2C%2037.86274800000004%5D%2C%20%22geometry%22%3A%20%7B%22coordinates%22%3A%20%5B-122.289956%2C%2037.86274800000004%5D%2C%20%22type%22%3A%20%22Point%22%7D%2C%20%22id%22%3A%20%22347%22%2C%20%22properties%22%3A%20%7B%22shape_id%22%3A%20%22shp-72-32%22%2C%20%22stop_id%22%3A%20%2252207%22%2C%20%22stop_sequence%22%3A%2031.0%2C%20%22total_speed_delay%22%3A%20null%7D%2C%20%22type%22%3A%20%22Feature%22%7D%2C%20%7B%22bbox%22%3A%20%5B-122.290631%2C%2037.864816%2C%20-122.290631%2C%2037.864816%5D%2C%20%22geometry%22%3A%20%7B%22coordinates%22%3A%20%5B-122.290631%2C%2037.864816%5D%2C%20%22type%22%3A%20%22Point%22%7D%2C%20%22id%22%3A%20%22348%22%2C%20%22properties%22%3A%20%7B%22shape_id%22%3A%20%22shp-72-32%22%2C%20%22stop_id%22%3A%20%2255267%22%2C%20%22stop_sequence%22%3A%2032.0%2C%20%22total_speed_delay%22%3A%20null%7D%2C%20%22type%22%3A%20%22Feature%22%7D%2C%20%7B%22bbox%22%3A%20%5B-122.29123900000002%2C%2037.866724000000026%2C%20-122.29123900000002%2C%2037.866724000000026%5D%2C%20%22geometry%22%3A%20%7B%22coordinates%22%3A%20%5B-122.29123900000002%2C%2037.866724000000026%5D%2C%20%22type%22%3A%20%22Point%22%7D%2C%20%22id%22%3A%20%22349%22%2C%20%22properties%22%3A%20%7B%22shape_id%22%3A%20%22shp-72-32%22%2C%20%22stop_id%22%3A%20%2252007%22%2C%20%22stop_sequence%22%3A%2033.0%2C%20%22total_speed_delay%22%3A%20null%7D%2C%20%22type%22%3A%20%22Feature%22%7D%2C%20%7B%22bbox%22%3A%20%5B-122.292118%2C%2037.869467%2C%20-122.292118%2C%2037.869467%5D%2C%20%22geometry%22%3A%20%7B%22coordinates%22%3A%20%5B-122.292118%2C%2037.869467%5D%2C%20%22type%22%3A%20%22Point%22%7D%2C%20%22id%22%3A%20%22350%22%2C%20%22properties%22%3A%20%7B%22shape_id%22%3A%20%22shp-72-32%22%2C%20%22stop_id%22%3A%20%2255525%22%2C%20%22stop_sequence%22%3A%2034.0%2C%20%22total_speed_delay%22%3A%20null%7D%2C%20%22type%22%3A%20%22Feature%22%7D%2C%20%7B%22bbox%22%3A%20%5B-122.29293600000001%2C%2037.87202800000002%2C%20-122.29293600000001%2C%2037.87202800000002%5D%2C%20%22geometry%22%3A%20%7B%22coordinates%22%3A%20%5B-122.29293600000001%2C%2037.87202800000002%5D%2C%20%22type%22%3A%20%22Point%22%7D%2C%20%22id%22%3A%20%22351%22%2C%20%22properties%22%3A%20%7B%22shape_id%22%3A%20%22shp-72-32%22%2C%20%22stop_id%22%3A%20%2251001%22%2C%20%22stop_sequence%22%3A%2035.0%2C%20%22total_speed_delay%22%3A%20null%7D%2C%20%22type%22%3A%20%22Feature%22%7D%2C%20%7B%22bbox%22%3A%20%5B-122.293951%2C%2037.87510800000002%2C%20-122.293951%2C%2037.87510800000002%5D%2C%20%22geometry%22%3A%20%7B%22coordinates%22%3A%20%5B-122.293951%2C%2037.87510800000002%5D%2C%20%22type%22%3A%20%22Point%22%7D%2C%20%22id%22%3A%20%22352%22%2C%20%22properties%22%3A%20%7B%22shape_id%22%3A%20%22shp-72-32%22%2C%20%22stop_id%22%3A%20%2255165%22%2C%20%22stop_sequence%22%3A%2036.0%2C%20%22total_speed_delay%22%3A%20null%7D%2C%20%22type%22%3A%20%22Feature%22%7D%2C%20%7B%22bbox%22%3A%20%5B-122.29481500000001%2C%2037.87777299999996%2C%20-122.29481500000001%2C%2037.87777299999996%5D%2C%20%22geometry%22%3A%20%7B%22coordinates%22%3A%20%5B-122.29481500000001%2C%2037.87777299999996%5D%2C%20%22type%22%3A%20%22Point%22%7D%2C%20%22id%22%3A%20%22353%22%2C%20%22properties%22%3A%20%7B%22shape_id%22%3A%20%22shp-72-32%22%2C%20%22stop_id%22%3A%20%2252273%22%2C%20%22stop_sequence%22%3A%2037.0%2C%20%22total_speed_delay%22%3A%20null%7D%2C%20%22type%22%3A%20%22Feature%22%7D%2C%20%7B%22bbox%22%3A%20%5B-122.29578299999999%2C%2037.88082900000005%2C%20-122.29578299999999%2C%2037.88082900000005%5D%2C%20%22geometry%22%3A%20%7B%22coordinates%22%3A%20%5B-122.29578299999999%2C%2037.88082900000005%5D%2C%20%22type%22%3A%20%22Point%22%7D%2C%20%22id%22%3A%20%22354%22%2C%20%22properties%22%3A%20%7B%22shape_id%22%3A%20%22shp-72-32%22%2C%20%22stop_id%22%3A%20%2255100%22%2C%20%22stop_sequence%22%3A%2038.0%2C%20%22total_speed_delay%22%3A%20null%7D%2C%20%22type%22%3A%20%22Feature%22%7D%2C%20%7B%22bbox%22%3A%20%5B-122.29637%2C%2037.882647999999996%2C%20-122.29637%2C%2037.882647999999996%5D%2C%20%22geometry%22%3A%20%7B%22coordinates%22%3A%20%5B-122.29637%2C%2037.882647999999996%5D%2C%20%22type%22%3A%20%22Point%22%7D%2C%20%22id%22%3A%20%22355%22%2C%20%22properties%22%3A%20%7B%22shape_id%22%3A%20%22shp-72-32%22%2C%20%22stop_id%22%3A%20%2252271%22%2C%20%22stop_sequence%22%3A%2039.0%2C%20%22total_speed_delay%22%3A%20null%7D%2C%20%22type%22%3A%20%22Feature%22%7D%2C%20%7B%22bbox%22%3A%20%5B-122.29706800000001%2C%2037.88482700000002%2C%20-122.29706800000001%2C%2037.88482700000002%5D%2C%20%22geometry%22%3A%20%7B%22coordinates%22%3A%20%5B-122.29706800000001%2C%2037.88482700000002%5D%2C%20%22type%22%3A%20%22Point%22%7D%2C%20%22id%22%3A%20%22356%22%2C%20%22properties%22%3A%20%7B%22shape_id%22%3A%20%22shp-72-32%22%2C%20%22stop_id%22%3A%20%2255978%22%2C%20%22stop_sequence%22%3A%2040.0%2C%20%22total_speed_delay%22%3A%20null%7D%2C%20%22type%22%3A%20%22Feature%22%7D%2C%20%7B%22bbox%22%3A%20%5B-122.29760400000002%2C%2037.88648599999995%2C%20-122.29760400000002%2C%2037.88648599999995%5D%2C%20%22geometry%22%3A%20%7B%22coordinates%22%3A%20%5B-122.29760400000002%2C%2037.88648599999995%5D%2C%20%22type%22%3A%20%22Point%22%7D%2C%20%22id%22%3A%20%22357%22%2C%20%22properties%22%3A%20%7B%22shape_id%22%3A%20%22shp-72-32%22%2C%20%22stop_id%22%3A%20%2255867%22%2C%20%22stop_sequence%22%3A%2041.0%2C%20%22total_speed_delay%22%3A%20null%7D%2C%20%22type%22%3A%20%22Feature%22%7D%2C%20%7B%22bbox%22%3A%20%5B-122.29811200000002%2C%2037.88806999999999%2C%20-122.29811200000002%2C%2037.88806999999999%5D%2C%20%22geometry%22%3A%20%7B%22coordinates%22%3A%20%5B-122.29811200000002%2C%2037.88806999999999%5D%2C%20%22type%22%3A%20%22Point%22%7D%2C%20%22id%22%3A%20%22358%22%2C%20%22properties%22%3A%20%7B%22shape_id%22%3A%20%22shp-72-32%22%2C%20%22stop_id%22%3A%20%2256606%22%2C%20%22stop_sequence%22%3A%2042.0%2C%20%22total_speed_delay%22%3A%20null%7D%2C%20%22type%22%3A%20%22Feature%22%7D%2C%20%7B%22bbox%22%3A%20%5B-122.29891000000002%2C%2037.89054999999998%2C%20-122.29891000000002%2C%2037.89054999999998%5D%2C%20%22geometry%22%3A%20%7B%22coordinates%22%3A%20%5B-122.29891000000002%2C%2037.89054999999998%5D%2C%20%22type%22%3A%20%22Point%22%7D%2C%20%22id%22%3A%20%22359%22%2C%20%22properties%22%3A%20%7B%22shape_id%22%3A%20%22shp-72-32%22%2C%20%22stop_id%22%3A%20%2253021%22%2C%20%22stop_sequence%22%3A%2043.0%2C%20%22total_speed_delay%22%3A%20null%7D%2C%20%22type%22%3A%20%22Feature%22%7D%2C%20%7B%22bbox%22%3A%20%5B-122.299808%2C%2037.89333599999998%2C%20-122.299808%2C%2037.89333599999998%5D%2C%20%22geometry%22%3A%20%7B%22coordinates%22%3A%20%5B-122.299808%2C%2037.89333599999998%5D%2C%20%22type%22%3A%20%22Point%22%7D%2C%20%22id%22%3A%20%22360%22%2C%20%22properties%22%3A%20%7B%22shape_id%22%3A%20%22shp-72-32%22%2C%20%22stop_id%22%3A%20%2252217%22%2C%20%22stop_sequence%22%3A%2044.0%2C%20%22total_speed_delay%22%3A%20null%7D%2C%20%22type%22%3A%20%22Feature%22%7D%2C%20%7B%22bbox%22%3A%20%5B-122.30102500000001%2C%2037.89713699999997%2C%20-122.30102500000001%2C%2037.89713699999997%5D%2C%20%22geometry%22%3A%20%7B%22coordinates%22%3A%20%5B-122.30102500000001%2C%2037.89713699999997%5D%2C%20%22type%22%3A%20%22Point%22%7D%2C%20%22id%22%3A%20%22361%22%2C%20%22properties%22%3A%20%7B%22shape_id%22%3A%20%22shp-72-32%22%2C%20%22stop_id%22%3A%20%2252117%22%2C%20%22stop_sequence%22%3A%2045.0%2C%20%22total_speed_delay%22%3A%20null%7D%2C%20%22type%22%3A%20%22Feature%22%7D%2C%20%7B%22bbox%22%3A%20%5B-122.301866%2C%2037.89934700000003%2C%20-122.301866%2C%2037.89934700000003%5D%2C%20%22geometry%22%3A%20%7B%22coordinates%22%3A%20%5B-122.301866%2C%2037.89934700000003%5D%2C%20%22type%22%3A%20%22Point%22%7D%2C%20%22id%22%3A%20%22362%22%2C%20%22properties%22%3A%20%7B%22shape_id%22%3A%20%22shp-72-32%22%2C%20%22stop_id%22%3A%20%2255562%22%2C%20%22stop_sequence%22%3A%2046.0%2C%20%22total_speed_delay%22%3A%20null%7D%2C%20%22type%22%3A%20%22Feature%22%7D%2C%20%7B%22bbox%22%3A%20%5B-122.29886599999999%2C%2037.90235400000003%2C%20-122.29886599999999%2C%2037.90235400000003%5D%2C%20%22geometry%22%3A%20%7B%22coordinates%22%3A%20%5B-122.29886599999999%2C%2037.90235400000003%5D%2C%20%22type%22%3A%20%22Point%22%7D%2C%20%22id%22%3A%20%22363%22%2C%20%22properties%22%3A%20%7B%22shape_id%22%3A%20%22shp-72-32%22%2C%20%22stop_id%22%3A%20%2250500%22%2C%20%22stop_sequence%22%3A%2047.0%2C%20%22total_speed_delay%22%3A%20null%7D%2C%20%22type%22%3A%20%22Feature%22%7D%2C%20%7B%22bbox%22%3A%20%5B-122.303107%2C%2037.90234300000001%2C%20-122.303107%2C%2037.90234300000001%5D%2C%20%22geometry%22%3A%20%7B%22coordinates%22%3A%20%5B-122.303107%2C%2037.90234300000001%5D%2C%20%22type%22%3A%20%22Point%22%7D%2C%20%22id%22%3A%20%22364%22%2C%20%22properties%22%3A%20%7B%22shape_id%22%3A%20%22shp-72-32%22%2C%20%22stop_id%22%3A%20%2252544%22%2C%20%22stop_sequence%22%3A%2048.0%2C%20%22total_speed_delay%22%3A%20null%7D%2C%20%22type%22%3A%20%22Feature%22%7D%2C%20%7B%22bbox%22%3A%20%5B-122.304151%2C%2037.904239000000004%2C%20-122.304151%2C%2037.904239000000004%5D%2C%20%22geometry%22%3A%20%7B%22coordinates%22%3A%20%5B-122.304151%2C%2037.904239000000004%5D%2C%20%22type%22%3A%20%22Point%22%7D%2C%20%22id%22%3A%20%22365%22%2C%20%22properties%22%3A%20%7B%22shape_id%22%3A%20%22shp-72-32%22%2C%20%22stop_id%22%3A%20%2252325%22%2C%20%22stop_sequence%22%3A%2049.0%2C%20%22total_speed_delay%22%3A%20null%7D%2C%20%22type%22%3A%20%22Feature%22%7D%2C%20%7B%22bbox%22%3A%20%5B-122.30515899999999%2C%2037.90638099999993%2C%20-122.30515899999999%2C%2037.90638099999993%5D%2C%20%22geometry%22%3A%20%7B%22coordinates%22%3A%20%5B-122.30515899999999%2C%2037.90638099999993%5D%2C%20%22type%22%3A%20%22Point%22%7D%2C%20%22id%22%3A%20%22366%22%2C%20%22properties%22%3A%20%7B%22shape_id%22%3A%20%22shp-72-32%22%2C%20%22stop_id%22%3A%20%2259967%22%2C%20%22stop_sequence%22%3A%2050.0%2C%20%22total_speed_delay%22%3A%20null%7D%2C%20%22type%22%3A%20%22Feature%22%7D%2C%20%7B%22bbox%22%3A%20%5B-122.306212%2C%2037.908038999999974%2C%20-122.306212%2C%2037.908038999999974%5D%2C%20%22geometry%22%3A%20%7B%22coordinates%22%3A%20%5B-122.306212%2C%2037.908038999999974%5D%2C%20%22type%22%3A%20%22Point%22%7D%2C%20%22id%22%3A%20%22367%22%2C%20%22properties%22%3A%20%7B%22shape_id%22%3A%20%22shp-72-32%22%2C%20%22stop_id%22%3A%20%2250835%22%2C%20%22stop_sequence%22%3A%2051.0%2C%20%22total_speed_delay%22%3A%20null%7D%2C%20%22type%22%3A%20%22Feature%22%7D%2C%20%7B%22bbox%22%3A%20%5B-122.308824%2C%2037.91186399999997%2C%20-122.308824%2C%2037.91186399999997%5D%2C%20%22geometry%22%3A%20%7B%22coordinates%22%3A%20%5B-122.308824%2C%2037.91186399999997%5D%2C%20%22type%22%3A%20%22Point%22%7D%2C%20%22id%22%3A%20%22368%22%2C%20%22properties%22%3A%20%7B%22shape_id%22%3A%20%22shp-72-32%22%2C%20%22stop_id%22%3A%20%2258855%22%2C%20%22stop_sequence%22%3A%2052.0%2C%20%22total_speed_delay%22%3A%20null%7D%2C%20%22type%22%3A%20%22Feature%22%7D%2C%20%7B%22bbox%22%3A%20%5B-122.31021199999999%2C%2037.913913%2C%20-122.31021199999999%2C%2037.913913%5D%2C%20%22geometry%22%3A%20%7B%22coordinates%22%3A%20%5B-122.31021199999999%2C%2037.913913%5D%2C%20%22type%22%3A%20%22Point%22%7D%2C%20%22id%22%3A%20%22369%22%2C%20%22properties%22%3A%20%7B%22shape_id%22%3A%20%22shp-72-32%22%2C%20%22stop_id%22%3A%20%2251660%22%2C%20%22stop_sequence%22%3A%2053.0%2C%20%22total_speed_delay%22%3A%20null%7D%2C%20%22type%22%3A%20%22Feature%22%7D%2C%20%7B%22bbox%22%3A%20%5B-122.311442%2C%2037.91568399999998%2C%20-122.311442%2C%2037.91568399999998%5D%2C%20%22geometry%22%3A%20%7B%22coordinates%22%3A%20%5B-122.311442%2C%2037.91568399999998%5D%2C%20%22type%22%3A%20%22Point%22%7D%2C%20%22id%22%3A%20%22370%22%2C%20%22properties%22%3A%20%7B%22shape_id%22%3A%20%22shp-72-32%22%2C%20%22stop_id%22%3A%20%2251557%22%2C%20%22stop_sequence%22%3A%2054.0%2C%20%22total_speed_delay%22%3A%20null%7D%2C%20%22type%22%3A%20%22Feature%22%7D%2C%20%7B%22bbox%22%3A%20%5B-122.313619%2C%2037.91876800000001%2C%20-122.313619%2C%2037.91876800000001%5D%2C%20%22geometry%22%3A%20%7B%22coordinates%22%3A%20%5B-122.313619%2C%2037.91876800000001%5D%2C%20%22type%22%3A%20%22Point%22%7D%2C%20%22id%22%3A%20%22371%22%2C%20%22properties%22%3A%20%7B%22shape_id%22%3A%20%22shp-72-32%22%2C%20%22stop_id%22%3A%20%2250838%22%2C%20%22stop_sequence%22%3A%2055.0%2C%20%22total_speed_delay%22%3A%20null%7D%2C%20%22type%22%3A%20%22Feature%22%7D%2C%20%7B%22bbox%22%3A%20%5B-122.31533%2C%2037.921201999999994%2C%20-122.31533%2C%2037.921201999999994%5D%2C%20%22geometry%22%3A%20%7B%22coordinates%22%3A%20%5B-122.31533%2C%2037.921201999999994%5D%2C%20%22type%22%3A%20%22Point%22%7D%2C%20%22id%22%3A%20%22372%22%2C%20%22properties%22%3A%20%7B%22shape_id%22%3A%20%22shp-72-32%22%2C%20%22stop_id%22%3A%20%2255117%22%2C%20%22stop_sequence%22%3A%2056.0%2C%20%22total_speed_delay%22%3A%20null%7D%2C%20%22type%22%3A%20%22Feature%22%7D%2C%20%7B%22bbox%22%3A%20%5B-122.31646999999998%2C%2037.92440400000003%2C%20-122.31646999999998%2C%2037.92440400000003%5D%2C%20%22geometry%22%3A%20%7B%22coordinates%22%3A%20%5B-122.31646999999998%2C%2037.92440400000003%5D%2C%20%22type%22%3A%20%22Point%22%7D%2C%20%22id%22%3A%20%22373%22%2C%20%22properties%22%3A%20%7B%22shape_id%22%3A%20%22shp-72-32%22%2C%20%22stop_id%22%3A%20%2252943%22%2C%20%22stop_sequence%22%3A%2057.0%2C%20%22total_speed_delay%22%3A%20null%7D%2C%20%22type%22%3A%20%22Feature%22%7D%2C%20%7B%22bbox%22%3A%20%5B-122.32022%2C%2037.92808999999999%2C%20-122.32022%2C%2037.92808999999999%5D%2C%20%22geometry%22%3A%20%7B%22coordinates%22%3A%20%5B-122.32022%2C%2037.92808999999999%5D%2C%20%22type%22%3A%20%22Point%22%7D%2C%20%22id%22%3A%20%22374%22%2C%20%22properties%22%3A%20%7B%22shape_id%22%3A%20%22shp-72-32%22%2C%20%22stop_id%22%3A%20%2253019%22%2C%20%22stop_sequence%22%3A%2058.0%2C%20%22total_speed_delay%22%3A%20null%7D%2C%20%22type%22%3A%20%22Feature%22%7D%2C%20%7B%22bbox%22%3A%20%5B-122.278655%2C%2037.827622999999996%2C%20-122.278655%2C%2037.827622999999996%5D%2C%20%22geometry%22%3A%20%7B%22coordinates%22%3A%20%5B-122.278655%2C%2037.827622999999996%5D%2C%20%22type%22%3A%20%22Point%22%7D%2C%20%22id%22%3A%20%22418%22%2C%20%22properties%22%3A%20%7B%22shape_id%22%3A%20%22shp-72M-47%22%2C%20%22stop_id%22%3A%20%2257751%22%2C%20%22stop_sequence%22%3A%2015.0%2C%20%22total_speed_delay%22%3A%20null%7D%2C%20%22type%22%3A%20%22Feature%22%7D%2C%20%7B%22bbox%22%3A%20%5B-122.279884%2C%2037.831487000000024%2C%20-122.279884%2C%2037.831487000000024%5D%2C%20%22geometry%22%3A%20%7B%22coordinates%22%3A%20%5B-122.279884%2C%2037.831487000000024%5D%2C%20%22type%22%3A%20%22Point%22%7D%2C%20%22id%22%3A%20%22419%22%2C%20%22properties%22%3A%20%7B%22shape_id%22%3A%20%22shp-72M-47%22%2C%20%22stop_id%22%3A%20%2255535%22%2C%20%22stop_sequence%22%3A%2016.0%2C%20%22total_speed_delay%22%3A%20null%7D%2C%20%22type%22%3A%20%22Feature%22%7D%2C%20%7B%22bbox%22%3A%20%5B-122.28085799999998%2C%2037.83447899999998%2C%20-122.28085799999998%2C%2037.83447899999998%5D%2C%20%22geometry%22%3A%20%7B%22coordinates%22%3A%20%5B-122.28085799999998%2C%2037.83447899999998%5D%2C%20%22type%22%3A%20%22Point%22%7D%2C%20%22id%22%3A%20%22420%22%2C%20%22properties%22%3A%20%7B%22shape_id%22%3A%20%22shp-72M-47%22%2C%20%22stop_id%22%3A%20%2250355%22%2C%20%22stop_sequence%22%3A%2017.0%2C%20%22total_speed_delay%22%3A%20null%7D%2C%20%22type%22%3A%20%22Feature%22%7D%2C%20%7B%22bbox%22%3A%20%5B-122.28131600000002%2C%2037.835925%2C%20-122.28131600000002%2C%2037.835925%5D%2C%20%22geometry%22%3A%20%7B%22coordinates%22%3A%20%5B-122.28131600000002%2C%2037.835925%5D%2C%20%22type%22%3A%20%22Point%22%7D%2C%20%22id%22%3A%20%22421%22%2C%20%22properties%22%3A%20%7B%22shape_id%22%3A%20%22shp-72M-47%22%2C%20%22stop_id%22%3A%20%2252330%22%2C%20%22stop_sequence%22%3A%2018.0%2C%20%22total_speed_delay%22%3A%20null%7D%2C%20%22type%22%3A%20%22Feature%22%7D%2C%20%7B%22bbox%22%3A%20%5B-122.281852%2C%2037.837606999999984%2C%20-122.281852%2C%2037.837606999999984%5D%2C%20%22geometry%22%3A%20%7B%22coordinates%22%3A%20%5B-122.281852%2C%2037.837606999999984%5D%2C%20%22type%22%3A%20%22Point%22%7D%2C%20%22id%22%3A%20%22422%22%2C%20%22properties%22%3A%20%7B%22shape_id%22%3A%20%22shp-72M-47%22%2C%20%22stop_id%22%3A%20%2257133%22%2C%20%22stop_sequence%22%3A%2019.0%2C%20%22total_speed_delay%22%3A%20null%7D%2C%20%22type%22%3A%20%22Feature%22%7D%2C%20%7B%22bbox%22%3A%20%5B-122.28235000000001%2C%2037.83912599999999%2C%20-122.28235000000001%2C%2037.83912599999999%5D%2C%20%22geometry%22%3A%20%7B%22coordinates%22%3A%20%5B-122.28235000000001%2C%2037.83912599999999%5D%2C%20%22type%22%3A%20%22Point%22%7D%2C%20%22id%22%3A%20%22423%22%2C%20%22properties%22%3A%20%7B%22shape_id%22%3A%20%22shp-72M-47%22%2C%20%22stop_id%22%3A%20%2258499%22%2C%20%22stop_sequence%22%3A%2020.0%2C%20%22total_speed_delay%22%3A%20null%7D%2C%20%22type%22%3A%20%22Feature%22%7D%2C%20%7B%22bbox%22%3A%20%5B-122.283082%2C%2037.841426%2C%20-122.283082%2C%2037.841426%5D%2C%20%22geometry%22%3A%20%7B%22coordinates%22%3A%20%5B-122.283082%2C%2037.841426%5D%2C%20%22type%22%3A%20%22Point%22%7D%2C%20%22id%22%3A%20%22424%22%2C%20%22properties%22%3A%20%7B%22shape_id%22%3A%20%22shp-72M-47%22%2C%20%22stop_id%22%3A%20%2255335%22%2C%20%22stop_sequence%22%3A%2021.0%2C%20%22total_speed_delay%22%3A%20null%7D%2C%20%22type%22%3A%20%22Feature%22%7D%2C%20%7B%22bbox%22%3A%20%5B-122.284219%2C%2037.84486099999998%2C%20-122.284219%2C%2037.84486099999998%5D%2C%20%22geometry%22%3A%20%7B%22coordinates%22%3A%20%5B-122.284219%2C%2037.84486099999998%5D%2C%20%22type%22%3A%20%22Point%22%7D%2C%20%22id%22%3A%20%22425%22%2C%20%22properties%22%3A%20%7B%22shape_id%22%3A%20%22shp-72M-47%22%2C%20%22stop_id%22%3A%20%2254288%22%2C%20%22stop_sequence%22%3A%2022.0%2C%20%22total_speed_delay%22%3A%20null%7D%2C%20%22type%22%3A%20%22Feature%22%7D%2C%20%7B%22bbox%22%3A%20%5B-122.284957%2C%2037.84721299999997%2C%20-122.284957%2C%2037.84721299999997%5D%2C%20%22geometry%22%3A%20%7B%22coordinates%22%3A%20%5B-122.284957%2C%2037.84721299999997%5D%2C%20%22type%22%3A%20%22Point%22%7D%2C%20%22id%22%3A%20%22426%22%2C%20%22properties%22%3A%20%7B%22shape_id%22%3A%20%22shp-72M-47%22%2C%20%22stop_id%22%3A%20%2255110%22%2C%20%22stop_sequence%22%3A%2023.0%2C%20%22total_speed_delay%22%3A%20null%7D%2C%20%22type%22%3A%20%22Feature%22%7D%2C%20%7B%22bbox%22%3A%20%5B-122.28545300000002%2C%2037.84874599999998%2C%20-122.28545300000002%2C%2037.84874599999998%5D%2C%20%22geometry%22%3A%20%7B%22coordinates%22%3A%20%5B-122.28545300000002%2C%2037.84874599999998%5D%2C%20%22type%22%3A%20%22Point%22%7D%2C%20%22id%22%3A%20%22427%22%2C%20%22properties%22%3A%20%7B%22shape_id%22%3A%20%22shp-72M-47%22%2C%20%22stop_id%22%3A%20%2252283%22%2C%20%22stop_sequence%22%3A%2024.0%2C%20%22total_speed_delay%22%3A%20null%7D%2C%20%22type%22%3A%20%22Feature%22%7D%2C%20%7B%22bbox%22%3A%20%5B-122.286002%2C%2037.85047400000001%2C%20-122.286002%2C%2037.85047400000001%5D%2C%20%22geometry%22%3A%20%7B%22coordinates%22%3A%20%5B-122.286002%2C%2037.85047400000001%5D%2C%20%22type%22%3A%20%22Point%22%7D%2C%20%22id%22%3A%20%22428%22%2C%20%22properties%22%3A%20%7B%22shape_id%22%3A%20%22shp-72M-47%22%2C%20%22stop_id%22%3A%20%2255603%22%2C%20%22stop_sequence%22%3A%2025.0%2C%20%22total_speed_delay%22%3A%20null%7D%2C%20%22type%22%3A%20%22Feature%22%7D%2C%20%7B%22bbox%22%3A%20%5B-122.286675%2C%2037.852514%2C%20-122.286675%2C%2037.852514%5D%2C%20%22geometry%22%3A%20%7B%22coordinates%22%3A%20%5B-122.286675%2C%2037.852514%5D%2C%20%22type%22%3A%20%22Point%22%7D%2C%20%22id%22%3A%20%22429%22%2C%20%22properties%22%3A%20%7B%22shape_id%22%3A%20%22shp-72M-47%22%2C%20%22stop_id%22%3A%20%2251117%22%2C%20%22stop_sequence%22%3A%2026.0%2C%20%22total_speed_delay%22%3A%20null%7D%2C%20%22type%22%3A%20%22Feature%22%7D%2C%20%7B%22bbox%22%3A%20%5B-122.28740800000001%2C%2037.854847000000014%2C%20-122.28740800000001%2C%2037.854847000000014%5D%2C%20%22geometry%22%3A%20%7B%22coordinates%22%3A%20%5B-122.28740800000001%2C%2037.854847000000014%5D%2C%20%22type%22%3A%20%22Point%22%7D%2C%20%22id%22%3A%20%22430%22%2C%20%22properties%22%3A%20%7B%22shape_id%22%3A%20%22shp-72M-47%22%2C%20%22stop_id%22%3A%20%2255367%22%2C%20%22stop_sequence%22%3A%2027.0%2C%20%22total_speed_delay%22%3A%20null%7D%2C%20%22type%22%3A%20%22Feature%22%7D%2C%20%7B%22bbox%22%3A%20%5B-122.28791099999998%2C%2037.85642600000001%2C%20-122.28791099999998%2C%2037.85642600000001%5D%2C%20%22geometry%22%3A%20%7B%22coordinates%22%3A%20%5B-122.28791099999998%2C%2037.85642600000001%5D%2C%20%22type%22%3A%20%22Point%22%7D%2C%20%22id%22%3A%20%22431%22%2C%20%22properties%22%3A%20%7B%22shape_id%22%3A%20%22shp-72M-47%22%2C%20%22stop_id%22%3A%20%2251699%22%2C%20%22stop_sequence%22%3A%2028.0%2C%20%22total_speed_delay%22%3A%20null%7D%2C%20%22type%22%3A%20%22Feature%22%7D%2C%20%7B%22bbox%22%3A%20%5B-122.28885600000001%2C%2037.85931599999999%2C%20-122.28885600000001%2C%2037.85931599999999%5D%2C%20%22geometry%22%3A%20%7B%22coordinates%22%3A%20%5B-122.28885600000001%2C%2037.85931599999999%5D%2C%20%22type%22%3A%20%22Point%22%7D%2C%20%22id%22%3A%20%22432%22%2C%20%22properties%22%3A%20%7B%22shape_id%22%3A%20%22shp-72M-47%22%2C%20%22stop_id%22%3A%20%2255701%22%2C%20%22stop_sequence%22%3A%2029.0%2C%20%22total_speed_delay%22%3A%20null%7D%2C%20%22type%22%3A%20%22Feature%22%7D%2C%20%7B%22bbox%22%3A%20%5B-122.28954600000002%2C%2037.861466%2C%20-122.28954600000002%2C%2037.861466%5D%2C%20%22geometry%22%3A%20%7B%22coordinates%22%3A%20%5B-122.28954600000002%2C%2037.861466%5D%2C%20%22type%22%3A%20%22Point%22%7D%2C%20%22id%22%3A%20%22433%22%2C%20%22properties%22%3A%20%7B%22shape_id%22%3A%20%22shp-72M-47%22%2C%20%22stop_id%22%3A%20%2255880%22%2C%20%22stop_sequence%22%3A%2030.0%2C%20%22total_speed_delay%22%3A%20null%7D%2C%20%22type%22%3A%20%22Feature%22%7D%2C%20%7B%22bbox%22%3A%20%5B-122.289956%2C%2037.86274800000004%2C%20-122.289956%2C%2037.86274800000004%5D%2C%20%22geometry%22%3A%20%7B%22coordinates%22%3A%20%5B-122.289956%2C%2037.86274800000004%5D%2C%20%22type%22%3A%20%22Point%22%7D%2C%20%22id%22%3A%20%22434%22%2C%20%22properties%22%3A%20%7B%22shape_id%22%3A%20%22shp-72M-47%22%2C%20%22stop_id%22%3A%20%2252207%22%2C%20%22stop_sequence%22%3A%2031.0%2C%20%22total_speed_delay%22%3A%20null%7D%2C%20%22type%22%3A%20%22Feature%22%7D%2C%20%7B%22bbox%22%3A%20%5B-122.290631%2C%2037.864816%2C%20-122.290631%2C%2037.864816%5D%2C%20%22geometry%22%3A%20%7B%22coordinates%22%3A%20%5B-122.290631%2C%2037.864816%5D%2C%20%22type%22%3A%20%22Point%22%7D%2C%20%22id%22%3A%20%22435%22%2C%20%22properties%22%3A%20%7B%22shape_id%22%3A%20%22shp-72M-47%22%2C%20%22stop_id%22%3A%20%2255267%22%2C%20%22stop_sequence%22%3A%2032.0%2C%20%22total_speed_delay%22%3A%20null%7D%2C%20%22type%22%3A%20%22Feature%22%7D%2C%20%7B%22bbox%22%3A%20%5B-122.29123900000002%2C%2037.866724000000026%2C%20-122.29123900000002%2C%2037.866724000000026%5D%2C%20%22geometry%22%3A%20%7B%22coordinates%22%3A%20%5B-122.29123900000002%2C%2037.866724000000026%5D%2C%20%22type%22%3A%20%22Point%22%7D%2C%20%22id%22%3A%20%22436%22%2C%20%22properties%22%3A%20%7B%22shape_id%22%3A%20%22shp-72M-47%22%2C%20%22stop_id%22%3A%20%2252007%22%2C%20%22stop_sequence%22%3A%2033.0%2C%20%22total_speed_delay%22%3A%20null%7D%2C%20%22type%22%3A%20%22Feature%22%7D%2C%20%7B%22bbox%22%3A%20%5B-122.292118%2C%2037.869467%2C%20-122.292118%2C%2037.869467%5D%2C%20%22geometry%22%3A%20%7B%22coordinates%22%3A%20%5B-122.292118%2C%2037.869467%5D%2C%20%22type%22%3A%20%22Point%22%7D%2C%20%22id%22%3A%20%22437%22%2C%20%22properties%22%3A%20%7B%22shape_id%22%3A%20%22shp-72M-47%22%2C%20%22stop_id%22%3A%20%2255525%22%2C%20%22stop_sequence%22%3A%2034.0%2C%20%22total_speed_delay%22%3A%20null%7D%2C%20%22type%22%3A%20%22Feature%22%7D%2C%20%7B%22bbox%22%3A%20%5B-122.29293600000001%2C%2037.87202800000002%2C%20-122.29293600000001%2C%2037.87202800000002%5D%2C%20%22geometry%22%3A%20%7B%22coordinates%22%3A%20%5B-122.29293600000001%2C%2037.87202800000002%5D%2C%20%22type%22%3A%20%22Point%22%7D%2C%20%22id%22%3A%20%22438%22%2C%20%22properties%22%3A%20%7B%22shape_id%22%3A%20%22shp-72M-47%22%2C%20%22stop_id%22%3A%20%2251001%22%2C%20%22stop_sequence%22%3A%2035.0%2C%20%22total_speed_delay%22%3A%20null%7D%2C%20%22type%22%3A%20%22Feature%22%7D%2C%20%7B%22bbox%22%3A%20%5B-122.293951%2C%2037.87510800000002%2C%20-122.293951%2C%2037.87510800000002%5D%2C%20%22geometry%22%3A%20%7B%22coordinates%22%3A%20%5B-122.293951%2C%2037.87510800000002%5D%2C%20%22type%22%3A%20%22Point%22%7D%2C%20%22id%22%3A%20%22439%22%2C%20%22properties%22%3A%20%7B%22shape_id%22%3A%20%22shp-72M-47%22%2C%20%22stop_id%22%3A%20%2255165%22%2C%20%22stop_sequence%22%3A%2036.0%2C%20%22total_speed_delay%22%3A%20null%7D%2C%20%22type%22%3A%20%22Feature%22%7D%2C%20%7B%22bbox%22%3A%20%5B-122.29481500000001%2C%2037.87777299999996%2C%20-122.29481500000001%2C%2037.87777299999996%5D%2C%20%22geometry%22%3A%20%7B%22coordinates%22%3A%20%5B-122.29481500000001%2C%2037.87777299999996%5D%2C%20%22type%22%3A%20%22Point%22%7D%2C%20%22id%22%3A%20%22440%22%2C%20%22properties%22%3A%20%7B%22shape_id%22%3A%20%22shp-72M-47%22%2C%20%22stop_id%22%3A%20%2252273%22%2C%20%22stop_sequence%22%3A%2037.0%2C%20%22total_speed_delay%22%3A%20null%7D%2C%20%22type%22%3A%20%22Feature%22%7D%2C%20%7B%22bbox%22%3A%20%5B-122.29578299999999%2C%2037.88082900000005%2C%20-122.29578299999999%2C%2037.88082900000005%5D%2C%20%22geometry%22%3A%20%7B%22coordinates%22%3A%20%5B-122.29578299999999%2C%2037.88082900000005%5D%2C%20%22type%22%3A%20%22Point%22%7D%2C%20%22id%22%3A%20%22441%22%2C%20%22properties%22%3A%20%7B%22shape_id%22%3A%20%22shp-72M-47%22%2C%20%22stop_id%22%3A%20%2255100%22%2C%20%22stop_sequence%22%3A%2038.0%2C%20%22total_speed_delay%22%3A%20null%7D%2C%20%22type%22%3A%20%22Feature%22%7D%2C%20%7B%22bbox%22%3A%20%5B-122.29637%2C%2037.882647999999996%2C%20-122.29637%2C%2037.882647999999996%5D%2C%20%22geometry%22%3A%20%7B%22coordinates%22%3A%20%5B-122.29637%2C%2037.882647999999996%5D%2C%20%22type%22%3A%20%22Point%22%7D%2C%20%22id%22%3A%20%22442%22%2C%20%22properties%22%3A%20%7B%22shape_id%22%3A%20%22shp-72M-47%22%2C%20%22stop_id%22%3A%20%2252271%22%2C%20%22stop_sequence%22%3A%2039.0%2C%20%22total_speed_delay%22%3A%20null%7D%2C%20%22type%22%3A%20%22Feature%22%7D%2C%20%7B%22bbox%22%3A%20%5B-122.29706800000001%2C%2037.88482700000002%2C%20-122.29706800000001%2C%2037.88482700000002%5D%2C%20%22geometry%22%3A%20%7B%22coordinates%22%3A%20%5B-122.29706800000001%2C%2037.88482700000002%5D%2C%20%22type%22%3A%20%22Point%22%7D%2C%20%22id%22%3A%20%22443%22%2C%20%22properties%22%3A%20%7B%22shape_id%22%3A%20%22shp-72M-47%22%2C%20%22stop_id%22%3A%20%2255978%22%2C%20%22stop_sequence%22%3A%2040.0%2C%20%22total_speed_delay%22%3A%20null%7D%2C%20%22type%22%3A%20%22Feature%22%7D%2C%20%7B%22bbox%22%3A%20%5B-122.29760400000002%2C%2037.88648599999995%2C%20-122.29760400000002%2C%2037.88648599999995%5D%2C%20%22geometry%22%3A%20%7B%22coordinates%22%3A%20%5B-122.29760400000002%2C%2037.88648599999995%5D%2C%20%22type%22%3A%20%22Point%22%7D%2C%20%22id%22%3A%20%22444%22%2C%20%22properties%22%3A%20%7B%22shape_id%22%3A%20%22shp-72M-47%22%2C%20%22stop_id%22%3A%20%2255867%22%2C%20%22stop_sequence%22%3A%2041.0%2C%20%22total_speed_delay%22%3A%20null%7D%2C%20%22type%22%3A%20%22Feature%22%7D%2C%20%7B%22bbox%22%3A%20%5B-122.29811200000002%2C%2037.88806999999999%2C%20-122.29811200000002%2C%2037.88806999999999%5D%2C%20%22geometry%22%3A%20%7B%22coordinates%22%3A%20%5B-122.29811200000002%2C%2037.88806999999999%5D%2C%20%22type%22%3A%20%22Point%22%7D%2C%20%22id%22%3A%20%22445%22%2C%20%22properties%22%3A%20%7B%22shape_id%22%3A%20%22shp-72M-47%22%2C%20%22stop_id%22%3A%20%2256606%22%2C%20%22stop_sequence%22%3A%2042.0%2C%20%22total_speed_delay%22%3A%20null%7D%2C%20%22type%22%3A%20%22Feature%22%7D%2C%20%7B%22bbox%22%3A%20%5B-122.29891000000002%2C%2037.89054999999998%2C%20-122.29891000000002%2C%2037.89054999999998%5D%2C%20%22geometry%22%3A%20%7B%22coordinates%22%3A%20%5B-122.29891000000002%2C%2037.89054999999998%5D%2C%20%22type%22%3A%20%22Point%22%7D%2C%20%22id%22%3A%20%22446%22%2C%20%22properties%22%3A%20%7B%22shape_id%22%3A%20%22shp-72M-47%22%2C%20%22stop_id%22%3A%20%2253021%22%2C%20%22stop_sequence%22%3A%2043.0%2C%20%22total_speed_delay%22%3A%20null%7D%2C%20%22type%22%3A%20%22Feature%22%7D%2C%20%7B%22bbox%22%3A%20%5B-122.299808%2C%2037.89333599999998%2C%20-122.299808%2C%2037.89333599999998%5D%2C%20%22geometry%22%3A%20%7B%22coordinates%22%3A%20%5B-122.299808%2C%2037.89333599999998%5D%2C%20%22type%22%3A%20%22Point%22%7D%2C%20%22id%22%3A%20%22447%22%2C%20%22properties%22%3A%20%7B%22shape_id%22%3A%20%22shp-72M-47%22%2C%20%22stop_id%22%3A%20%2252217%22%2C%20%22stop_sequence%22%3A%2044.0%2C%20%22total_speed_delay%22%3A%20null%7D%2C%20%22type%22%3A%20%22Feature%22%7D%2C%20%7B%22bbox%22%3A%20%5B-122.30102500000001%2C%2037.89713699999997%2C%20-122.30102500000001%2C%2037.89713699999997%5D%2C%20%22geometry%22%3A%20%7B%22coordinates%22%3A%20%5B-122.30102500000001%2C%2037.89713699999997%5D%2C%20%22type%22%3A%20%22Point%22%7D%2C%20%22id%22%3A%20%22448%22%2C%20%22properties%22%3A%20%7B%22shape_id%22%3A%20%22shp-72M-47%22%2C%20%22stop_id%22%3A%20%2252117%22%2C%20%22stop_sequence%22%3A%2045.0%2C%20%22total_speed_delay%22%3A%20null%7D%2C%20%22type%22%3A%20%22Feature%22%7D%2C%20%7B%22bbox%22%3A%20%5B-122.301866%2C%2037.89934700000003%2C%20-122.301866%2C%2037.89934700000003%5D%2C%20%22geometry%22%3A%20%7B%22coordinates%22%3A%20%5B-122.301866%2C%2037.89934700000003%5D%2C%20%22type%22%3A%20%22Point%22%7D%2C%20%22id%22%3A%20%22449%22%2C%20%22properties%22%3A%20%7B%22shape_id%22%3A%20%22shp-72M-47%22%2C%20%22stop_id%22%3A%20%2255562%22%2C%20%22stop_sequence%22%3A%2046.0%2C%20%22total_speed_delay%22%3A%20null%7D%2C%20%22type%22%3A%20%22Feature%22%7D%2C%20%7B%22bbox%22%3A%20%5B-122.29886599999999%2C%2037.90235400000003%2C%20-122.29886599999999%2C%2037.90235400000003%5D%2C%20%22geometry%22%3A%20%7B%22coordinates%22%3A%20%5B-122.29886599999999%2C%2037.90235400000003%5D%2C%20%22type%22%3A%20%22Point%22%7D%2C%20%22id%22%3A%20%22450%22%2C%20%22properties%22%3A%20%7B%22shape_id%22%3A%20%22shp-72M-47%22%2C%20%22stop_id%22%3A%20%2250500%22%2C%20%22stop_sequence%22%3A%2047.0%2C%20%22total_speed_delay%22%3A%20null%7D%2C%20%22type%22%3A%20%22Feature%22%7D%2C%20%7B%22bbox%22%3A%20%5B-122.303107%2C%2037.90234300000001%2C%20-122.303107%2C%2037.90234300000001%5D%2C%20%22geometry%22%3A%20%7B%22coordinates%22%3A%20%5B-122.303107%2C%2037.90234300000001%5D%2C%20%22type%22%3A%20%22Point%22%7D%2C%20%22id%22%3A%20%22451%22%2C%20%22properties%22%3A%20%7B%22shape_id%22%3A%20%22shp-72M-47%22%2C%20%22stop_id%22%3A%20%2252544%22%2C%20%22stop_sequence%22%3A%2048.0%2C%20%22total_speed_delay%22%3A%20null%7D%2C%20%22type%22%3A%20%22Feature%22%7D%2C%20%7B%22bbox%22%3A%20%5B-122.304151%2C%2037.904239000000004%2C%20-122.304151%2C%2037.904239000000004%5D%2C%20%22geometry%22%3A%20%7B%22coordinates%22%3A%20%5B-122.304151%2C%2037.904239000000004%5D%2C%20%22type%22%3A%20%22Point%22%7D%2C%20%22id%22%3A%20%22452%22%2C%20%22properties%22%3A%20%7B%22shape_id%22%3A%20%22shp-72M-47%22%2C%20%22stop_id%22%3A%20%2252325%22%2C%20%22stop_sequence%22%3A%2049.0%2C%20%22total_speed_delay%22%3A%20null%7D%2C%20%22type%22%3A%20%22Feature%22%7D%2C%20%7B%22bbox%22%3A%20%5B-122.30515899999999%2C%2037.90638099999993%2C%20-122.30515899999999%2C%2037.90638099999993%5D%2C%20%22geometry%22%3A%20%7B%22coordinates%22%3A%20%5B-122.30515899999999%2C%2037.90638099999993%5D%2C%20%22type%22%3A%20%22Point%22%7D%2C%20%22id%22%3A%20%22453%22%2C%20%22properties%22%3A%20%7B%22shape_id%22%3A%20%22shp-72M-47%22%2C%20%22stop_id%22%3A%20%2259967%22%2C%20%22stop_sequence%22%3A%2050.0%2C%20%22total_speed_delay%22%3A%20null%7D%2C%20%22type%22%3A%20%22Feature%22%7D%2C%20%7B%22bbox%22%3A%20%5B-122.306212%2C%2037.908038999999974%2C%20-122.306212%2C%2037.908038999999974%5D%2C%20%22geometry%22%3A%20%7B%22coordinates%22%3A%20%5B-122.306212%2C%2037.908038999999974%5D%2C%20%22type%22%3A%20%22Point%22%7D%2C%20%22id%22%3A%20%22454%22%2C%20%22properties%22%3A%20%7B%22shape_id%22%3A%20%22shp-72M-47%22%2C%20%22stop_id%22%3A%20%2250835%22%2C%20%22stop_sequence%22%3A%2051.0%2C%20%22total_speed_delay%22%3A%20null%7D%2C%20%22type%22%3A%20%22Feature%22%7D%2C%20%7B%22bbox%22%3A%20%5B-122.308824%2C%2037.91186399999997%2C%20-122.308824%2C%2037.91186399999997%5D%2C%20%22geometry%22%3A%20%7B%22coordinates%22%3A%20%5B-122.308824%2C%2037.91186399999997%5D%2C%20%22type%22%3A%20%22Point%22%7D%2C%20%22id%22%3A%20%22455%22%2C%20%22properties%22%3A%20%7B%22shape_id%22%3A%20%22shp-72M-47%22%2C%20%22stop_id%22%3A%20%2258855%22%2C%20%22stop_sequence%22%3A%2052.0%2C%20%22total_speed_delay%22%3A%20null%7D%2C%20%22type%22%3A%20%22Feature%22%7D%2C%20%7B%22bbox%22%3A%20%5B-122.31021199999999%2C%2037.913913%2C%20-122.31021199999999%2C%2037.913913%5D%2C%20%22geometry%22%3A%20%7B%22coordinates%22%3A%20%5B-122.31021199999999%2C%2037.913913%5D%2C%20%22type%22%3A%20%22Point%22%7D%2C%20%22id%22%3A%20%22456%22%2C%20%22properties%22%3A%20%7B%22shape_id%22%3A%20%22shp-72M-47%22%2C%20%22stop_id%22%3A%20%2251660%22%2C%20%22stop_sequence%22%3A%2053.0%2C%20%22total_speed_delay%22%3A%20null%7D%2C%20%22type%22%3A%20%22Feature%22%7D%2C%20%7B%22bbox%22%3A%20%5B-122.311442%2C%2037.91568399999998%2C%20-122.311442%2C%2037.91568399999998%5D%2C%20%22geometry%22%3A%20%7B%22coordinates%22%3A%20%5B-122.311442%2C%2037.91568399999998%5D%2C%20%22type%22%3A%20%22Point%22%7D%2C%20%22id%22%3A%20%22457%22%2C%20%22properties%22%3A%20%7B%22shape_id%22%3A%20%22shp-72M-47%22%2C%20%22stop_id%22%3A%20%2251557%22%2C%20%22stop_sequence%22%3A%2054.0%2C%20%22total_speed_delay%22%3A%20null%7D%2C%20%22type%22%3A%20%22Feature%22%7D%2C%20%7B%22bbox%22%3A%20%5B-122.313619%2C%2037.91876800000001%2C%20-122.313619%2C%2037.91876800000001%5D%2C%20%22geometry%22%3A%20%7B%22coordinates%22%3A%20%5B-122.313619%2C%2037.91876800000001%5D%2C%20%22type%22%3A%20%22Point%22%7D%2C%20%22id%22%3A%20%22458%22%2C%20%22properties%22%3A%20%7B%22shape_id%22%3A%20%22shp-72M-47%22%2C%20%22stop_id%22%3A%20%2250838%22%2C%20%22stop_sequence%22%3A%2055.0%2C%20%22total_speed_delay%22%3A%20null%7D%2C%20%22type%22%3A%20%22Feature%22%7D%2C%20%7B%22bbox%22%3A%20%5B-122.31533%2C%2037.921201999999994%2C%20-122.31533%2C%2037.921201999999994%5D%2C%20%22geometry%22%3A%20%7B%22coordinates%22%3A%20%5B-122.31533%2C%2037.921201999999994%5D%2C%20%22type%22%3A%20%22Point%22%7D%2C%20%22id%22%3A%20%22459%22%2C%20%22properties%22%3A%20%7B%22shape_id%22%3A%20%22shp-72M-47%22%2C%20%22stop_id%22%3A%20%2255117%22%2C%20%22stop_sequence%22%3A%2056.0%2C%20%22total_speed_delay%22%3A%20null%7D%2C%20%22type%22%3A%20%22Feature%22%7D%2C%20%7B%22bbox%22%3A%20%5B-122.31646999999998%2C%2037.92440400000003%2C%20-122.31646999999998%2C%2037.92440400000003%5D%2C%20%22geometry%22%3A%20%7B%22coordinates%22%3A%20%5B-122.31646999999998%2C%2037.92440400000003%5D%2C%20%22type%22%3A%20%22Point%22%7D%2C%20%22id%22%3A%20%22460%22%2C%20%22properties%22%3A%20%7B%22shape_id%22%3A%20%22shp-72M-47%22%2C%20%22stop_id%22%3A%20%2252943%22%2C%20%22stop_sequence%22%3A%2057.0%2C%20%22total_speed_delay%22%3A%20null%7D%2C%20%22type%22%3A%20%22Feature%22%7D%2C%20%7B%22bbox%22%3A%20%5B-122.32022%2C%2037.92808999999999%2C%20-122.32022%2C%2037.92808999999999%5D%2C%20%22geometry%22%3A%20%7B%22coordinates%22%3A%20%5B-122.32022%2C%2037.92808999999999%5D%2C%20%22type%22%3A%20%22Point%22%7D%2C%20%22id%22%3A%20%22461%22%2C%20%22properties%22%3A%20%7B%22shape_id%22%3A%20%22shp-72M-47%22%2C%20%22stop_id%22%3A%20%2253019%22%2C%20%22stop_sequence%22%3A%2058.0%2C%20%22total_speed_delay%22%3A%20null%7D%2C%20%22type%22%3A%20%22Feature%22%7D%2C%20%7B%22bbox%22%3A%20%5B-122.32021600000002%2C%2037.92761999999999%2C%20-122.32021600000002%2C%2037.92761999999999%5D%2C%20%22geometry%22%3A%20%7B%22coordinates%22%3A%20%5B-122.32021600000002%2C%2037.92761999999999%5D%2C%20%22type%22%3A%20%22Point%22%7D%2C%20%22id%22%3A%20%22506%22%2C%20%22properties%22%3A%20%7B%22shape_id%22%3A%20%22shp-72M-62%22%2C%20%22stop_id%22%3A%20%2251162%22%2C%20%22stop_sequence%22%3A%2025.0%2C%20%22total_speed_delay%22%3A%20null%7D%2C%20%22type%22%3A%20%22Feature%22%7D%2C%20%7B%22bbox%22%3A%20%5B-122.31621%2C%2037.92440200000003%2C%20-122.31621%2C%2037.92440200000003%5D%2C%20%22geometry%22%3A%20%7B%22coordinates%22%3A%20%5B-122.31621%2C%2037.92440200000003%5D%2C%20%22type%22%3A%20%22Point%22%7D%2C%20%22id%22%3A%20%22507%22%2C%20%22properties%22%3A%20%7B%22shape_id%22%3A%20%22shp-72M-62%22%2C%20%22stop_id%22%3A%20%2259667%22%2C%20%22stop_sequence%22%3A%2026.0%2C%20%22total_speed_delay%22%3A%20null%7D%2C%20%22type%22%3A%20%22Feature%22%7D%2C%20%7B%22bbox%22%3A%20%5B-122.31691300000001%2C%2037.922906000000005%2C%20-122.31691300000001%2C%2037.922906000000005%5D%2C%20%22geometry%22%3A%20%7B%22coordinates%22%3A%20%5B-122.31691300000001%2C%2037.922906000000005%5D%2C%20%22type%22%3A%20%22Point%22%7D%2C%20%22id%22%3A%20%22508%22%2C%20%22properties%22%3A%20%7B%22shape_id%22%3A%20%22shp-72M-62%22%2C%20%22stop_id%22%3A%20%2250889%22%2C%20%22stop_sequence%22%3A%2027.0%2C%20%22total_speed_delay%22%3A%20null%7D%2C%20%22type%22%3A%20%22Feature%22%7D%2C%20%7B%22bbox%22%3A%20%5B-122.31494499999998%2C%2037.92015800000002%2C%20-122.31494499999998%2C%2037.92015800000002%5D%2C%20%22geometry%22%3A%20%7B%22coordinates%22%3A%20%5B-122.31494499999998%2C%2037.92015800000002%5D%2C%20%22type%22%3A%20%22Point%22%7D%2C%20%22id%22%3A%20%22509%22%2C%20%22properties%22%3A%20%7B%22shape_id%22%3A%20%22shp-72M-62%22%2C%20%22stop_id%22%3A%20%2255506%22%2C%20%22stop_sequence%22%3A%2028.0%2C%20%22total_speed_delay%22%3A%20null%7D%2C%20%22type%22%3A%20%22Feature%22%7D%2C%20%7B%22bbox%22%3A%20%5B-122.31286699999998%2C%2037.91721000000005%2C%20-122.31286699999998%2C%2037.91721000000005%5D%2C%20%22geometry%22%3A%20%7B%22coordinates%22%3A%20%5B-122.31286699999998%2C%2037.91721000000005%5D%2C%20%22type%22%3A%20%22Point%22%7D%2C%20%22id%22%3A%20%22510%22%2C%20%22properties%22%3A%20%7B%22shape_id%22%3A%20%22shp-72M-62%22%2C%20%22stop_id%22%3A%20%2254345%22%2C%20%22stop_sequence%22%3A%2029.0%2C%20%22total_speed_delay%22%3A%20null%7D%2C%20%22type%22%3A%20%22Feature%22%7D%2C%20%7B%22bbox%22%3A%20%5B-122.31184200000001%2C%2037.91575100000001%2C%20-122.31184200000001%2C%2037.91575100000001%5D%2C%20%22geometry%22%3A%20%7B%22coordinates%22%3A%20%5B-122.31184200000001%2C%2037.91575100000001%5D%2C%20%22type%22%3A%20%22Point%22%7D%2C%20%22id%22%3A%20%22511%22%2C%20%22properties%22%3A%20%7B%22shape_id%22%3A%20%22shp-72M-62%22%2C%20%22stop_id%22%3A%20%2258988%22%2C%20%22stop_sequence%22%3A%2030.0%2C%20%22total_speed_delay%22%3A%20null%7D%2C%20%22type%22%3A%20%22Feature%22%7D%2C%20%7B%22bbox%22%3A%20%5B-122.31095000000002%2C%2037.91448199999999%2C%20-122.31095000000002%2C%2037.91448199999999%5D%2C%20%22geometry%22%3A%20%7B%22coordinates%22%3A%20%5B-122.31095000000002%2C%2037.91448199999999%5D%2C%20%22type%22%3A%20%22Point%22%7D%2C%20%22id%22%3A%20%22512%22%2C%20%22properties%22%3A%20%7B%22shape_id%22%3A%20%22shp-72M-62%22%2C%20%22stop_id%22%3A%20%2254151%22%2C%20%22stop_sequence%22%3A%2031.0%2C%20%22total_speed_delay%22%3A%20null%7D%2C%20%22type%22%3A%20%22Feature%22%7D%2C%20%7B%22bbox%22%3A%20%5B-122.30861499999999%2C%2037.911073000000016%2C%20-122.30861499999999%2C%2037.911073000000016%5D%2C%20%22geometry%22%3A%20%7B%22coordinates%22%3A%20%5B-122.30861499999999%2C%2037.911073000000016%5D%2C%20%22type%22%3A%20%22Point%22%7D%2C%20%22id%22%3A%20%22513%22%2C%20%22properties%22%3A%20%7B%22shape_id%22%3A%20%22shp-72M-62%22%2C%20%22stop_id%22%3A%20%2255594%22%2C%20%22stop_sequence%22%3A%2032.0%2C%20%22total_speed_delay%22%3A%20null%7D%2C%20%22type%22%3A%20%22Feature%22%7D%2C%20%7B%22bbox%22%3A%20%5B-122.30655%2C%2037.90803499999998%2C%20-122.30655%2C%2037.90803499999998%5D%2C%20%22geometry%22%3A%20%7B%22coordinates%22%3A%20%5B-122.30655%2C%2037.90803499999998%5D%2C%20%22type%22%3A%20%22Point%22%7D%2C%20%22id%22%3A%20%22514%22%2C%20%22properties%22%3A%20%7B%22shape_id%22%3A%20%22shp-72M-62%22%2C%20%22stop_id%22%3A%20%2252005%22%2C%20%22stop_sequence%22%3A%2033.0%2C%20%22total_speed_delay%22%3A%20null%7D%2C%20%22type%22%3A%20%22Feature%22%7D%2C%20%7B%22bbox%22%3A%20%5B-122.30512500000002%2C%2037.90562799999996%2C%20-122.30512500000002%2C%2037.90562799999996%5D%2C%20%22geometry%22%3A%20%7B%22coordinates%22%3A%20%5B-122.30512500000002%2C%2037.90562799999996%5D%2C%20%22type%22%3A%20%22Point%22%7D%2C%20%22id%22%3A%20%22515%22%2C%20%22properties%22%3A%20%7B%22shape_id%22%3A%20%22shp-72M-62%22%2C%20%22stop_id%22%3A%20%2250843%22%2C%20%22stop_sequence%22%3A%2034.0%2C%20%22total_speed_delay%22%3A%20null%7D%2C%20%22type%22%3A%20%22Feature%22%7D%2C%20%7B%22bbox%22%3A%20%5B-122.304235%2C%2037.903765999999976%2C%20-122.304235%2C%2037.903765999999976%5D%2C%20%22geometry%22%3A%20%7B%22coordinates%22%3A%20%5B-122.304235%2C%2037.903765999999976%5D%2C%20%22type%22%3A%20%22Point%22%7D%2C%20%22id%22%3A%20%22516%22%2C%20%22properties%22%3A%20%7B%22shape_id%22%3A%20%22shp-72M-62%22%2C%20%22stop_id%22%3A%20%2250616%22%2C%20%22stop_sequence%22%3A%2035.0%2C%20%22total_speed_delay%22%3A%20null%7D%2C%20%22type%22%3A%20%22Feature%22%7D%2C%20%7B%22bbox%22%3A%20%5B-122.302929%2C%2037.90231599999996%2C%20-122.302929%2C%2037.90231599999996%5D%2C%20%22geometry%22%3A%20%7B%22coordinates%22%3A%20%5B-122.302929%2C%2037.90231599999996%5D%2C%20%22type%22%3A%20%22Point%22%7D%2C%20%22id%22%3A%20%22517%22%2C%20%22properties%22%3A%20%7B%22shape_id%22%3A%20%22shp-72M-62%22%2C%20%22stop_id%22%3A%20%2252066%22%2C%20%22stop_sequence%22%3A%2036.0%2C%20%22total_speed_delay%22%3A%20null%7D%2C%20%22type%22%3A%20%22Feature%22%7D%2C%20%7B%22bbox%22%3A%20%5B-122.298598%2C%2037.90231599999998%2C%20-122.298598%2C%2037.90231599999998%5D%2C%20%22geometry%22%3A%20%7B%22coordinates%22%3A%20%5B-122.298598%2C%2037.90231599999998%5D%2C%20%22type%22%3A%20%22Point%22%7D%2C%20%22id%22%3A%20%22518%22%2C%20%22properties%22%3A%20%7B%22shape_id%22%3A%20%22shp-72M-62%22%2C%20%22stop_id%22%3A%20%2257900%22%2C%20%22stop_sequence%22%3A%2037.0%2C%20%22total_speed_delay%22%3A%20null%7D%2C%20%22type%22%3A%20%22Feature%22%7D%2C%20%7B%22bbox%22%3A%20%5B-122.302555%2C%2037.900201999999965%2C%20-122.302555%2C%2037.900201999999965%5D%2C%20%22geometry%22%3A%20%7B%22coordinates%22%3A%20%5B-122.302555%2C%2037.900201999999965%5D%2C%20%22type%22%3A%20%22Point%22%7D%2C%20%22id%22%3A%20%22519%22%2C%20%22properties%22%3A%20%7B%22shape_id%22%3A%20%22shp-72M-62%22%2C%20%22stop_id%22%3A%20%2252925%22%2C%20%22stop_sequence%22%3A%2038.0%2C%20%22total_speed_delay%22%3A%20null%7D%2C%20%22type%22%3A%20%22Feature%22%7D%2C%20%7B%22bbox%22%3A%20%5B-122.30181199999998%2C%2037.89858000000004%2C%20-122.30181199999998%2C%2037.89858000000004%5D%2C%20%22geometry%22%3A%20%7B%22coordinates%22%3A%20%5B-122.30181199999998%2C%2037.89858000000004%5D%2C%20%22type%22%3A%20%22Point%22%7D%2C%20%22id%22%3A%20%22520%22%2C%20%22properties%22%3A%20%7B%22shape_id%22%3A%20%22shp-72M-62%22%2C%20%22stop_id%22%3A%20%2252221%22%2C%20%22stop_sequence%22%3A%2039.0%2C%20%22total_speed_delay%22%3A%20null%7D%2C%20%22type%22%3A%20%22Feature%22%7D%2C%20%7B%22bbox%22%3A%20%5B-122.30109000000002%2C%2037.89650999999998%2C%20-122.30109000000002%2C%2037.89650999999998%5D%2C%20%22geometry%22%3A%20%7B%22coordinates%22%3A%20%5B-122.30109000000002%2C%2037.89650999999998%5D%2C%20%22type%22%3A%20%22Point%22%7D%2C%20%22id%22%3A%20%22521%22%2C%20%22properties%22%3A%20%7B%22shape_id%22%3A%20%22shp-72M-62%22%2C%20%22stop_id%22%3A%20%2256422%22%2C%20%22stop_sequence%22%3A%2040.0%2C%20%22total_speed_delay%22%3A%20null%7D%2C%20%22type%22%3A%20%22Feature%22%7D%2C%20%7B%22bbox%22%3A%20%5B-122.30037600000001%2C%2037.89428599999996%2C%20-122.30037600000001%2C%2037.89428599999996%5D%2C%20%22geometry%22%3A%20%7B%22coordinates%22%3A%20%5B-122.30037600000001%2C%2037.89428599999996%5D%2C%20%22type%22%3A%20%22Point%22%7D%2C%20%22id%22%3A%20%22522%22%2C%20%22properties%22%3A%20%7B%22shape_id%22%3A%20%22shp-72M-62%22%2C%20%22stop_id%22%3A%20%2255728%22%2C%20%22stop_sequence%22%3A%2041.0%2C%20%22total_speed_delay%22%3A%20null%7D%2C%20%22type%22%3A%20%22Feature%22%7D%2C%20%7B%22bbox%22%3A%20%5B-122.29901300000002%2C%2037.88996500000004%2C%20-122.29901300000002%2C%2037.88996500000004%5D%2C%20%22geometry%22%3A%20%7B%22coordinates%22%3A%20%5B-122.29901300000002%2C%2037.88996500000004%5D%2C%20%22type%22%3A%20%22Point%22%7D%2C%20%22id%22%3A%20%22523%22%2C%20%22properties%22%3A%20%7B%22shape_id%22%3A%20%22shp-72M-62%22%2C%20%22stop_id%22%3A%20%2256688%22%2C%20%22stop_sequence%22%3A%2042.0%2C%20%22total_speed_delay%22%3A%20null%7D%2C%20%22type%22%3A%20%22Feature%22%7D%2C%20%7B%22bbox%22%3A%20%5B-122.298404%2C%2037.88809599999993%2C%20-122.298404%2C%2037.88809599999993%5D%2C%20%22geometry%22%3A%20%7B%22coordinates%22%3A%20%5B-122.298404%2C%2037.88809599999993%5D%2C%20%22type%22%3A%20%22Point%22%7D%2C%20%22id%22%3A%20%22524%22%2C%20%22properties%22%3A%20%7B%22shape_id%22%3A%20%22shp-72M-62%22%2C%20%22stop_id%22%3A%20%2257957%22%2C%20%22stop_sequence%22%3A%2043.0%2C%20%22total_speed_delay%22%3A%20null%7D%2C%20%22type%22%3A%20%22Feature%22%7D%2C%20%7B%22bbox%22%3A%20%5B-122.29787%2C%2037.88646200000004%2C%20-122.29787%2C%2037.88646200000004%5D%2C%20%22geometry%22%3A%20%7B%22coordinates%22%3A%20%5B-122.29787%2C%2037.88646200000004%5D%2C%20%22type%22%3A%20%22Point%22%7D%2C%20%22id%22%3A%20%22525%22%2C%20%22properties%22%3A%20%7B%22shape_id%22%3A%20%22shp-72M-62%22%2C%20%22stop_id%22%3A%20%2251166%22%2C%20%22stop_sequence%22%3A%2044.0%2C%20%22total_speed_delay%22%3A%20null%7D%2C%20%22type%22%3A%20%22Feature%22%7D%2C%20%7B%22bbox%22%3A%20%5B-122.297213%2C%2037.884409999999995%2C%20-122.297213%2C%2037.884409999999995%5D%2C%20%22geometry%22%3A%20%7B%22coordinates%22%3A%20%5B-122.297213%2C%2037.884409999999995%5D%2C%20%22type%22%3A%20%22Point%22%7D%2C%20%22id%22%3A%20%22526%22%2C%20%22properties%22%3A%20%7B%22shape_id%22%3A%20%22shp-72M-62%22%2C%20%22stop_id%22%3A%20%2254344%22%2C%20%22stop_sequence%22%3A%2045.0%2C%20%22total_speed_delay%22%3A%20null%7D%2C%20%22type%22%3A%20%22Feature%22%7D%2C%20%7B%22bbox%22%3A%20%5B-122.29645199999999%2C%2037.882043000000024%2C%20-122.29645199999999%2C%2037.882043000000024%5D%2C%20%22geometry%22%3A%20%7B%22coordinates%22%3A%20%5B-122.29645199999999%2C%2037.882043000000024%5D%2C%20%22type%22%3A%20%22Point%22%7D%2C%20%22id%22%3A%20%22527%22%2C%20%22properties%22%3A%20%7B%22shape_id%22%3A%20%22shp-72M-62%22%2C%20%22stop_id%22%3A%20%2255929%22%2C%20%22stop_sequence%22%3A%2046.0%2C%20%22total_speed_delay%22%3A%20null%7D%2C%20%22type%22%3A%20%22Feature%22%7D%2C%20%7B%22bbox%22%3A%20%5B-122.295773%2C%2037.879896999999964%2C%20-122.295773%2C%2037.879896999999964%5D%2C%20%22geometry%22%3A%20%7B%22coordinates%22%3A%20%5B-122.295773%2C%2037.879896999999964%5D%2C%20%22type%22%3A%20%22Point%22%7D%2C%20%22id%22%3A%20%22528%22%2C%20%22properties%22%3A%20%7B%22shape_id%22%3A%20%22shp-72M-62%22%2C%20%22stop_id%22%3A%20%2255501%22%2C%20%22stop_sequence%22%3A%2047.0%2C%20%22total_speed_delay%22%3A%20null%7D%2C%20%22type%22%3A%20%22Feature%22%7D%2C%20%7B%22bbox%22%3A%20%5B-122.29493200000002%2C%2037.87732400000001%2C%20-122.29493200000002%2C%2037.87732400000001%5D%2C%20%22geometry%22%3A%20%7B%22coordinates%22%3A%20%5B-122.29493200000002%2C%2037.87732400000001%5D%2C%20%22type%22%3A%20%22Point%22%7D%2C%20%22id%22%3A%20%22529%22%2C%20%22properties%22%3A%20%7B%22shape_id%22%3A%20%22shp-72M-62%22%2C%20%22stop_id%22%3A%20%2253005%22%2C%20%22stop_sequence%22%3A%2048.0%2C%20%22total_speed_delay%22%3A%20null%7D%2C%20%22type%22%3A%20%22Feature%22%7D%2C%20%7B%22bbox%22%3A%20%5B-122.29432900000002%2C%2037.87541799999999%2C%20-122.29432900000002%2C%2037.87541799999999%5D%2C%20%22geometry%22%3A%20%7B%22coordinates%22%3A%20%5B-122.29432900000002%2C%2037.87541799999999%5D%2C%20%22type%22%3A%20%22Point%22%7D%2C%20%22id%22%3A%20%22530%22%2C%20%22properties%22%3A%20%7B%22shape_id%22%3A%20%22shp-72M-62%22%2C%20%22stop_id%22%3A%20%2259600%22%2C%20%22stop_sequence%22%3A%2049.0%2C%20%22total_speed_delay%22%3A%20null%7D%2C%20%22type%22%3A%20%22Feature%22%7D%2C%20%7B%22bbox%22%3A%20%5B-122.293147%2C%2037.871763000000044%2C%20-122.293147%2C%2037.871763000000044%5D%2C%20%22geometry%22%3A%20%7B%22coordinates%22%3A%20%5B-122.293147%2C%2037.871763000000044%5D%2C%20%22type%22%3A%20%22Point%22%7D%2C%20%22id%22%3A%20%22531%22%2C%20%22properties%22%3A%20%7B%22shape_id%22%3A%20%22shp-72M-62%22%2C%20%22stop_id%22%3A%20%2259755%22%2C%20%22stop_sequence%22%3A%2050.0%2C%20%22total_speed_delay%22%3A%20null%7D%2C%20%22type%22%3A%20%22Feature%22%7D%2C%20%7B%22bbox%22%3A%20%5B-122.29209%2C%2037.86870599999997%2C%20-122.29209%2C%2037.86870599999997%5D%2C%20%22geometry%22%3A%20%7B%22coordinates%22%3A%20%5B-122.29209%2C%2037.86870599999997%5D%2C%20%22type%22%3A%20%22Point%22%7D%2C%20%22id%22%3A%20%22532%22%2C%20%22properties%22%3A%20%7B%22shape_id%22%3A%20%22shp-72M-62%22%2C%20%22stop_id%22%3A%20%2255111%22%2C%20%22stop_sequence%22%3A%2051.0%2C%20%22total_speed_delay%22%3A%20null%7D%2C%20%22type%22%3A%20%22Feature%22%7D%2C%20%7B%22bbox%22%3A%20%5B-122.291436%2C%2037.866481%2C%20-122.291436%2C%2037.866481%5D%2C%20%22geometry%22%3A%20%7B%22coordinates%22%3A%20%5B-122.291436%2C%2037.866481%5D%2C%20%22type%22%3A%20%22Point%22%7D%2C%20%22id%22%3A%20%22533%22%2C%20%22properties%22%3A%20%7B%22shape_id%22%3A%20%22shp-72M-62%22%2C%20%22stop_id%22%3A%20%2259591%22%2C%20%22stop_sequence%22%3A%2052.0%2C%20%22total_speed_delay%22%3A%20null%7D%2C%20%22type%22%3A%20%22Feature%22%7D%2C%20%7B%22bbox%22%3A%20%5B-122.290869%2C%2037.86471099999999%2C%20-122.290869%2C%2037.86471099999999%5D%2C%20%22geometry%22%3A%20%7B%22coordinates%22%3A%20%5B-122.290869%2C%2037.86471099999999%5D%2C%20%22type%22%3A%20%22Point%22%7D%2C%20%22id%22%3A%20%22534%22%2C%20%22properties%22%3A%20%7B%22shape_id%22%3A%20%22shp-72M-62%22%2C%20%22stop_id%22%3A%20%2259277%22%2C%20%22stop_sequence%22%3A%2053.0%2C%20%22total_speed_delay%22%3A%20null%7D%2C%20%22type%22%3A%20%22Feature%22%7D%2C%20%7B%22bbox%22%3A%20%5B-122.29029900000002%2C%2037.862929999999984%2C%20-122.29029900000002%2C%2037.862929999999984%5D%2C%20%22geometry%22%3A%20%7B%22coordinates%22%3A%20%5B-122.29029900000002%2C%2037.862929999999984%5D%2C%20%22type%22%3A%20%22Point%22%7D%2C%20%22id%22%3A%20%22535%22%2C%20%22properties%22%3A%20%7B%22shape_id%22%3A%20%22shp-72M-62%22%2C%20%22stop_id%22%3A%20%2250344%22%2C%20%22stop_sequence%22%3A%2054.0%2C%20%22total_speed_delay%22%3A%20null%7D%2C%20%22type%22%3A%20%22Feature%22%7D%2C%20%7B%22bbox%22%3A%20%5B-122.28958300000001%2C%2037.860793999999984%2C%20-122.28958300000001%2C%2037.860793999999984%5D%2C%20%22geometry%22%3A%20%7B%22coordinates%22%3A%20%5B-122.28958300000001%2C%2037.860793999999984%5D%2C%20%22type%22%3A%20%22Point%22%7D%2C%20%22id%22%3A%20%22536%22%2C%20%22properties%22%3A%20%7B%22shape_id%22%3A%20%22shp-72M-62%22%2C%20%22stop_id%22%3A%20%2257755%22%2C%20%22stop_sequence%22%3A%2055.0%2C%20%22total_speed_delay%22%3A%20null%7D%2C%20%22type%22%3A%20%22Feature%22%7D%2C%20%7B%22bbox%22%3A%20%5B-122.28917%2C%2037.859454000000014%2C%20-122.28917%2C%2037.859454000000014%5D%2C%20%22geometry%22%3A%20%7B%22coordinates%22%3A%20%5B-122.28917%2C%2037.859454000000014%5D%2C%20%22type%22%3A%20%22Point%22%7D%2C%20%22id%22%3A%20%22537%22%2C%20%22properties%22%3A%20%7B%22shape_id%22%3A%20%22shp-72M-62%22%2C%20%22stop_id%22%3A%20%2256077%22%2C%20%22stop_sequence%22%3A%2056.0%2C%20%22total_speed_delay%22%3A%20null%7D%2C%20%22type%22%3A%20%22Feature%22%7D%2C%20%7B%22bbox%22%3A%20%5B-122.28816%2C%2037.856293999999984%2C%20-122.28816%2C%2037.856293999999984%5D%2C%20%22geometry%22%3A%20%7B%22coordinates%22%3A%20%5B-122.28816%2C%2037.856293999999984%5D%2C%20%22type%22%3A%20%22Point%22%7D%2C%20%22id%22%3A%20%22538%22%2C%20%22properties%22%3A%20%7B%22shape_id%22%3A%20%22shp-72M-62%22%2C%20%22stop_id%22%3A%20%2253003%22%2C%20%22stop_sequence%22%3A%2057.0%2C%20%22total_speed_delay%22%3A%20null%7D%2C%20%22type%22%3A%20%22Feature%22%7D%2C%20%7B%22bbox%22%3A%20%5B-122.28757700000001%2C%2037.85445600000004%2C%20-122.28757700000001%2C%2037.85445600000004%5D%2C%20%22geometry%22%3A%20%7B%22coordinates%22%3A%20%5B-122.28757700000001%2C%2037.85445600000004%5D%2C%20%22type%22%3A%20%22Point%22%7D%2C%20%22id%22%3A%20%22539%22%2C%20%22properties%22%3A%20%7B%22shape_id%22%3A%20%22shp-72M-62%22%2C%20%22stop_id%22%3A%20%2259377%22%2C%20%22stop_sequence%22%3A%2058.0%2C%20%22total_speed_delay%22%3A%20null%7D%2C%20%22type%22%3A%20%22Feature%22%7D%2C%20%7B%22bbox%22%3A%20%5B-122.28671200000001%2C%2037.85180500000002%2C%20-122.28671200000001%2C%2037.85180500000002%5D%2C%20%22geometry%22%3A%20%7B%22coordinates%22%3A%20%5B-122.28671200000001%2C%2037.85180500000002%5D%2C%20%22type%22%3A%20%22Point%22%7D%2C%20%22id%22%3A%20%22540%22%2C%20%22properties%22%3A%20%7B%22shape_id%22%3A%20%22shp-72M-62%22%2C%20%22stop_id%22%3A%20%2252228%22%2C%20%22stop_sequence%22%3A%2059.0%2C%20%22total_speed_delay%22%3A%20null%7D%2C%20%22type%22%3A%20%22Feature%22%7D%2C%20%7B%22bbox%22%3A%20%5B-122.28607200000002%2C%2037.84978900000001%2C%20-122.28607200000002%2C%2037.84978900000001%5D%2C%20%22geometry%22%3A%20%7B%22coordinates%22%3A%20%5B-122.28607200000002%2C%2037.84978900000001%5D%2C%20%22type%22%3A%20%22Point%22%7D%2C%20%22id%22%3A%20%22541%22%2C%20%22properties%22%3A%20%7B%22shape_id%22%3A%20%22shp-72M-62%22%2C%20%22stop_id%22%3A%20%2251832%22%2C%20%22stop_sequence%22%3A%2060.0%2C%20%22total_speed_delay%22%3A%20null%7D%2C%20%22type%22%3A%20%22Feature%22%7D%2C%20%7B%22bbox%22%3A%20%5B-122.28554300000002%2C%2037.84814600000002%2C%20-122.28554300000002%2C%2037.84814600000002%5D%2C%20%22geometry%22%3A%20%7B%22coordinates%22%3A%20%5B-122.28554300000002%2C%2037.84814600000002%5D%2C%20%22type%22%3A%20%22Point%22%7D%2C%20%22id%22%3A%20%22542%22%2C%20%22properties%22%3A%20%7B%22shape_id%22%3A%20%22shp-72M-62%22%2C%20%22stop_id%22%3A%20%2254119%22%2C%20%22stop_sequence%22%3A%2061.0%2C%20%22total_speed_delay%22%3A%20null%7D%2C%20%22type%22%3A%20%22Feature%22%7D%2C%20%7B%22bbox%22%3A%20%5B-122.28502400000002%2C%2037.84654400000001%2C%20-122.28502400000002%2C%2037.84654400000001%5D%2C%20%22geometry%22%3A%20%7B%22coordinates%22%3A%20%5B-122.28502400000002%2C%2037.84654400000001%5D%2C%20%22type%22%3A%20%22Point%22%7D%2C%20%22id%22%3A%20%22543%22%2C%20%22properties%22%3A%20%7B%22shape_id%22%3A%20%22shp-72M-62%22%2C%20%22stop_id%22%3A%20%2252226%22%2C%20%22stop_sequence%22%3A%2062.0%2C%20%22total_speed_delay%22%3A%20null%7D%2C%20%22type%22%3A%20%22Feature%22%7D%2C%20%7B%22bbox%22%3A%20%5B-122.28445499999998%2C%2037.84478900000004%2C%20-122.28445499999998%2C%2037.84478900000004%5D%2C%20%22geometry%22%3A%20%7B%22coordinates%22%3A%20%5B-122.28445499999998%2C%2037.84478900000004%5D%2C%20%22type%22%3A%20%22Point%22%7D%2C%20%22id%22%3A%20%22544%22%2C%20%22properties%22%3A%20%7B%22shape_id%22%3A%20%22shp-72M-62%22%2C%20%22stop_id%22%3A%20%2256956%22%2C%20%22stop_sequence%22%3A%2063.0%2C%20%22total_speed_delay%22%3A%20null%7D%2C%20%22type%22%3A%20%22Feature%22%7D%2C%20%7B%22bbox%22%3A%20%5B-122.28304699999998%2C%2037.840477000000035%2C%20-122.28304699999998%2C%2037.840477000000035%5D%2C%20%22geometry%22%3A%20%7B%22coordinates%22%3A%20%5B-122.28304699999998%2C%2037.840477000000035%5D%2C%20%22type%22%3A%20%22Point%22%7D%2C%20%22id%22%3A%20%22545%22%2C%20%22properties%22%3A%20%7B%22shape_id%22%3A%20%22shp-72M-62%22%2C%20%22stop_id%22%3A%20%2255547%22%2C%20%22stop_sequence%22%3A%2064.0%2C%20%22total_speed_delay%22%3A%20null%7D%2C%20%22type%22%3A%20%22Feature%22%7D%2C%20%7B%22bbox%22%3A%20%5B-122.282549%2C%2037.83890600000003%2C%20-122.282549%2C%2037.83890600000003%5D%2C%20%22geometry%22%3A%20%7B%22coordinates%22%3A%20%5B-122.282549%2C%2037.83890600000003%5D%2C%20%22type%22%3A%20%22Point%22%7D%2C%20%22id%22%3A%20%22546%22%2C%20%22properties%22%3A%20%7B%22shape_id%22%3A%20%22shp-72M-62%22%2C%20%22stop_id%22%3A%20%2258810%22%2C%20%22stop_sequence%22%3A%2065.0%2C%20%22total_speed_delay%22%3A%20null%7D%2C%20%22type%22%3A%20%22Feature%22%7D%2C%20%7B%22bbox%22%3A%20%5B-122.28206700000001%2C%2037.837379000000034%2C%20-122.28206700000001%2C%2037.837379000000034%5D%2C%20%22geometry%22%3A%20%7B%22coordinates%22%3A%20%5B-122.28206700000001%2C%2037.837379000000034%5D%2C%20%22type%22%3A%20%22Point%22%7D%2C%20%22id%22%3A%20%22547%22%2C%20%22properties%22%3A%20%7B%22shape_id%22%3A%20%22shp-72M-62%22%2C%20%22stop_id%22%3A%20%2255646%22%2C%20%22stop_sequence%22%3A%2066.0%2C%20%22total_speed_delay%22%3A%20null%7D%2C%20%22type%22%3A%20%22Feature%22%7D%2C%20%7B%22bbox%22%3A%20%5B-122.28137900000002%2C%2037.835263000000005%2C%20-122.28137900000002%2C%2037.835263000000005%5D%2C%20%22geometry%22%3A%20%7B%22coordinates%22%3A%20%5B-122.28137900000002%2C%2037.835263000000005%5D%2C%20%22type%22%3A%20%22Point%22%7D%2C%20%22id%22%3A%20%22548%22%2C%20%22properties%22%3A%20%7B%22shape_id%22%3A%20%22shp-72M-62%22%2C%20%22stop_id%22%3A%20%2251990%22%2C%20%22stop_sequence%22%3A%2067.0%2C%20%22total_speed_delay%22%3A%20null%7D%2C%20%22type%22%3A%20%22Feature%22%7D%2C%20%7B%22bbox%22%3A%20%5B-122.280922%2C%2037.83384000000002%2C%20-122.280922%2C%2037.83384000000002%5D%2C%20%22geometry%22%3A%20%7B%22coordinates%22%3A%20%5B-122.280922%2C%2037.83384000000002%5D%2C%20%22type%22%3A%20%22Point%22%7D%2C%20%22id%22%3A%20%22549%22%2C%20%22properties%22%3A%20%7B%22shape_id%22%3A%20%22shp-72M-62%22%2C%20%22stop_id%22%3A%20%2251041%22%2C%20%22stop_sequence%22%3A%2068.0%2C%20%22total_speed_delay%22%3A%20null%7D%2C%20%22type%22%3A%20%22Feature%22%7D%2C%20%7B%22bbox%22%3A%20%5B-122.279851%2C%2037.83060900000001%2C%20-122.279851%2C%2037.83060900000001%5D%2C%20%22geometry%22%3A%20%7B%22coordinates%22%3A%20%5B-122.279851%2C%2037.83060900000001%5D%2C%20%22type%22%3A%20%22Point%22%7D%2C%20%22id%22%3A%20%22550%22%2C%20%22properties%22%3A%20%7B%22shape_id%22%3A%20%22shp-72M-62%22%2C%20%22stop_id%22%3A%20%2255505%22%2C%20%22stop_sequence%22%3A%2069.0%2C%20%22total_speed_delay%22%3A%20null%7D%2C%20%22type%22%3A%20%22Feature%22%7D%2C%20%7B%22bbox%22%3A%20%5B-122.27848900000001%2C%2037.82620100000002%2C%20-122.27848900000001%2C%2037.82620100000002%5D%2C%20%22geometry%22%3A%20%7B%22coordinates%22%3A%20%5B-122.27848900000001%2C%2037.82620100000002%5D%2C%20%22type%22%3A%20%22Point%22%7D%2C%20%22id%22%3A%20%22551%22%2C%20%22properties%22%3A%20%7B%22shape_id%22%3A%20%22shp-72M-62%22%2C%20%22stop_id%22%3A%20%2253107%22%2C%20%22stop_sequence%22%3A%2070.0%2C%20%22total_speed_delay%22%3A%20null%7D%2C%20%22type%22%3A%20%22Feature%22%7D%2C%20%7B%22bbox%22%3A%20%5B-122.276583%2C%2037.82124700000001%2C%20-122.276583%2C%2037.82124700000001%5D%2C%20%22geometry%22%3A%20%7B%22coordinates%22%3A%20%5B-122.276583%2C%2037.82124700000001%5D%2C%20%22type%22%3A%20%22Point%22%7D%2C%20%22id%22%3A%20%22569%22%2C%20%22properties%22%3A%20%7B%22shape_id%22%3A%20%22shp-72R-15%22%2C%20%22stop_id%22%3A%20%2256644%22%2C%20%22stop_sequence%22%3A%207.0%2C%20%22total_speed_delay%22%3A%20null%7D%2C%20%22type%22%3A%20%22Feature%22%7D%2C%20%7B%22bbox%22%3A%20%5B-122.279884%2C%2037.831487000000024%2C%20-122.279884%2C%2037.831487000000024%5D%2C%20%22geometry%22%3A%20%7B%22coordinates%22%3A%20%5B-122.279884%2C%2037.831487000000024%5D%2C%20%22type%22%3A%20%22Point%22%7D%2C%20%22id%22%3A%20%22570%22%2C%20%22properties%22%3A%20%7B%22shape_id%22%3A%20%22shp-72R-15%22%2C%20%22stop_id%22%3A%20%2255535%22%2C%20%22stop_sequence%22%3A%208.0%2C%20%22total_speed_delay%22%3A%20null%7D%2C%20%22type%22%3A%20%22Feature%22%7D%2C%20%7B%22bbox%22%3A%20%5B-122.283082%2C%2037.841426%2C%20-122.283082%2C%2037.841426%5D%2C%20%22geometry%22%3A%20%7B%22coordinates%22%3A%20%5B-122.283082%2C%2037.841426%5D%2C%20%22type%22%3A%20%22Point%22%7D%2C%20%22id%22%3A%20%22571%22%2C%20%22properties%22%3A%20%7B%22shape_id%22%3A%20%22shp-72R-15%22%2C%20%22stop_id%22%3A%20%2255335%22%2C%20%22stop_sequence%22%3A%209.0%2C%20%22total_speed_delay%22%3A%20null%7D%2C%20%22type%22%3A%20%22Feature%22%7D%2C%20%7B%22bbox%22%3A%20%5B-122.284957%2C%2037.84721299999997%2C%20-122.284957%2C%2037.84721299999997%5D%2C%20%22geometry%22%3A%20%7B%22coordinates%22%3A%20%5B-122.284957%2C%2037.84721299999997%5D%2C%20%22type%22%3A%20%22Point%22%7D%2C%20%22id%22%3A%20%22572%22%2C%20%22properties%22%3A%20%7B%22shape_id%22%3A%20%22shp-72R-15%22%2C%20%22stop_id%22%3A%20%2255110%22%2C%20%22stop_sequence%22%3A%2010.0%2C%20%22total_speed_delay%22%3A%20null%7D%2C%20%22type%22%3A%20%22Feature%22%7D%2C%20%7B%22bbox%22%3A%20%5B-122.286675%2C%2037.852514%2C%20-122.286675%2C%2037.852514%5D%2C%20%22geometry%22%3A%20%7B%22coordinates%22%3A%20%5B-122.286675%2C%2037.852514%5D%2C%20%22type%22%3A%20%22Point%22%7D%2C%20%22id%22%3A%20%22573%22%2C%20%22properties%22%3A%20%7B%22shape_id%22%3A%20%22shp-72R-15%22%2C%20%22stop_id%22%3A%20%2251117%22%2C%20%22stop_sequence%22%3A%2011.0%2C%20%22total_speed_delay%22%3A%20null%7D%2C%20%22type%22%3A%20%22Feature%22%7D%2C%20%7B%22bbox%22%3A%20%5B-122.28954600000002%2C%2037.861466%2C%20-122.28954600000002%2C%2037.861466%5D%2C%20%22geometry%22%3A%20%7B%22coordinates%22%3A%20%5B-122.28954600000002%2C%2037.861466%5D%2C%20%22type%22%3A%20%22Point%22%7D%2C%20%22id%22%3A%20%22574%22%2C%20%22properties%22%3A%20%7B%22shape_id%22%3A%20%22shp-72R-15%22%2C%20%22stop_id%22%3A%20%2255880%22%2C%20%22stop_sequence%22%3A%2012.0%2C%20%22total_speed_delay%22%3A%20null%7D%2C%20%22type%22%3A%20%22Feature%22%7D%2C%20%7B%22bbox%22%3A%20%5B-122.292118%2C%2037.869467%2C%20-122.292118%2C%2037.869467%5D%2C%20%22geometry%22%3A%20%7B%22coordinates%22%3A%20%5B-122.292118%2C%2037.869467%5D%2C%20%22type%22%3A%20%22Point%22%7D%2C%20%22id%22%3A%20%22575%22%2C%20%22properties%22%3A%20%7B%22shape_id%22%3A%20%22shp-72R-15%22%2C%20%22stop_id%22%3A%20%2255525%22%2C%20%22stop_sequence%22%3A%2013.0%2C%20%22total_speed_delay%22%3A%20null%7D%2C%20%22type%22%3A%20%22Feature%22%7D%2C%20%7B%22bbox%22%3A%20%5B-122.29578299999999%2C%2037.88082900000005%2C%20-122.29578299999999%2C%2037.88082900000005%5D%2C%20%22geometry%22%3A%20%7B%22coordinates%22%3A%20%5B-122.29578299999999%2C%2037.88082900000005%5D%2C%20%22type%22%3A%20%22Point%22%7D%2C%20%22id%22%3A%20%22576%22%2C%20%22properties%22%3A%20%7B%22shape_id%22%3A%20%22shp-72R-15%22%2C%20%22stop_id%22%3A%20%2255100%22%2C%20%22stop_sequence%22%3A%2014.0%2C%20%22total_speed_delay%22%3A%20null%7D%2C%20%22type%22%3A%20%22Feature%22%7D%2C%20%7B%22bbox%22%3A%20%5B-122.29891000000002%2C%2037.89054999999998%2C%20-122.29891000000002%2C%2037.89054999999998%5D%2C%20%22geometry%22%3A%20%7B%22coordinates%22%3A%20%5B-122.29891000000002%2C%2037.89054999999998%5D%2C%20%22type%22%3A%20%22Point%22%7D%2C%20%22id%22%3A%20%22577%22%2C%20%22properties%22%3A%20%7B%22shape_id%22%3A%20%22shp-72R-15%22%2C%20%22stop_id%22%3A%20%2253021%22%2C%20%22stop_sequence%22%3A%2015.0%2C%20%22total_speed_delay%22%3A%20null%7D%2C%20%22type%22%3A%20%22Feature%22%7D%2C%20%7B%22bbox%22%3A%20%5B-122.301866%2C%2037.89934700000003%2C%20-122.301866%2C%2037.89934700000003%5D%2C%20%22geometry%22%3A%20%7B%22coordinates%22%3A%20%5B-122.301866%2C%2037.89934700000003%5D%2C%20%22type%22%3A%20%22Point%22%7D%2C%20%22id%22%3A%20%22578%22%2C%20%22properties%22%3A%20%7B%22shape_id%22%3A%20%22shp-72R-15%22%2C%20%22stop_id%22%3A%20%2255562%22%2C%20%22stop_sequence%22%3A%2016.0%2C%20%22total_speed_delay%22%3A%20null%7D%2C%20%22type%22%3A%20%22Feature%22%7D%2C%20%7B%22bbox%22%3A%20%5B-122.308824%2C%2037.91186399999997%2C%20-122.308824%2C%2037.91186399999997%5D%2C%20%22geometry%22%3A%20%7B%22coordinates%22%3A%20%5B-122.308824%2C%2037.91186399999997%5D%2C%20%22type%22%3A%20%22Point%22%7D%2C%20%22id%22%3A%20%22579%22%2C%20%22properties%22%3A%20%7B%22shape_id%22%3A%20%22shp-72R-15%22%2C%20%22stop_id%22%3A%20%2258855%22%2C%20%22stop_sequence%22%3A%2017.0%2C%20%22total_speed_delay%22%3A%20null%7D%2C%20%22type%22%3A%20%22Feature%22%7D%2C%20%7B%22bbox%22%3A%20%5B-122.31533%2C%2037.921201999999994%2C%20-122.31533%2C%2037.921201999999994%5D%2C%20%22geometry%22%3A%20%7B%22coordinates%22%3A%20%5B-122.31533%2C%2037.921201999999994%5D%2C%20%22type%22%3A%20%22Point%22%7D%2C%20%22id%22%3A%20%22580%22%2C%20%22properties%22%3A%20%7B%22shape_id%22%3A%20%22shp-72R-15%22%2C%20%22stop_id%22%3A%20%2255117%22%2C%20%22stop_sequence%22%3A%2018.0%2C%20%22total_speed_delay%22%3A%20null%7D%2C%20%22type%22%3A%20%22Feature%22%7D%2C%20%7B%22bbox%22%3A%20%5B-122.316573%2C%2037.92455300000004%2C%20-122.316573%2C%2037.92455300000004%5D%2C%20%22geometry%22%3A%20%7B%22coordinates%22%3A%20%5B-122.316573%2C%2037.92455300000004%5D%2C%20%22type%22%3A%20%22Point%22%7D%2C%20%22id%22%3A%20%22581%22%2C%20%22properties%22%3A%20%7B%22shape_id%22%3A%20%22shp-72R-15%22%2C%20%22stop_id%22%3A%20%2252949%22%2C%20%22stop_sequence%22%3A%2019.0%2C%20%22total_speed_delay%22%3A%20null%7D%2C%20%22type%22%3A%20%22Feature%22%7D%2C%20%7B%22bbox%22%3A%20%5B-122.323514%2C%2037.93272300000001%2C%20-122.323514%2C%2037.93272300000001%5D%2C%20%22geometry%22%3A%20%7B%22coordinates%22%3A%20%5B-122.323514%2C%2037.93272300000001%5D%2C%20%22type%22%3A%20%22Point%22%7D%2C%20%22id%22%3A%20%22582%22%2C%20%22properties%22%3A%20%7B%22shape_id%22%3A%20%22shp-72R-15%22%2C%20%22stop_id%22%3A%20%2255530%22%2C%20%22stop_sequence%22%3A%2020.0%2C%20%22total_speed_delay%22%3A%20null%7D%2C%20%22type%22%3A%20%22Feature%22%7D%2C%20%7B%22bbox%22%3A%20%5B-122.31827705270094%2C%2037.83058812418642%2C%20-122.27874713757151%2C%2037.92545192823404%5D%2C%20%22geometry%22%3A%20%7B%22coordinates%22%3A%20%5B%5B%5B-122.29989633198716%2C%2037.889802842485494%5D%2C%20%5B-122.29990501759657%2C%2037.88983175374447%5D%2C%20%5B-122.29995402008304%2C%2037.89000775329023%5D%2C%20%5B-122.29996695838722%2C%2037.89006214874287%5D%2C%20%5B-122.29999939735445%2C%2037.89022618480391%5D%2C%20%5B-122.30006043881238%2C%2037.89030137960549%5D%2C%20%5B-122.30011992448917%2C%2037.89038395172688%5D%2C%20%5B-122.30016805499943%2C%2037.89047102003457%5D%2C%20%5B-122.30020429339571%2C%2037.89056161326106%5D%2C%20%5B-122.3002606895456%2C%2037.89073376219976%5D%2C%20%5B-122.30027807409584%2C%2037.89078591354917%5D%2C%20%5B-122.30028205989154%2C%2037.89079822272808%5D%2C%20%5B-122.30033616633227%2C%2037.89097037151044%5D%2C%20%5B-122.30035577728498%2C%2037.89103106930992%5D%2C%20%5B-122.3004123031044%2C%2037.89120361405603%5D%2C%20%5B-122.3004693058258%2C%2037.8913776145465%5D%2C%20%5B-122.30052570232203%2C%2037.89154976454223%5D%2C%20%5B-122.30054908713298%2C%2037.891619915879375%5D%2C%20%5B-122.30055210053743%2C%2037.89162915433285%5D%2C%20%5B-122.3006037568917%2C%2037.89179106965636%5D%2C%20%5B-122.30065240967937%2C%2037.89194198569062%5D%2C%20%5B-122.30070852266945%2C%2037.892116328503455%5D%2C%20%5B-122.30071237886138%2C%2037.892128674388324%5D%2C%20%5B-122.30076538130056%2C%2037.89230367389907%5D%2C%20%5B-122.30076567537287%2C%2037.892304647234496%5D%2C%20%5B-122.30078640607073%2C%2037.892373432087794%5D%2C%20%5B-122.30083931691365%2C%2037.892541776862736%5D%2C%20%5B-122.30089453199906%2C%2037.89271333016141%5D%2C%20%5B-122.30089572017529%2C%2037.892717055100285%5D%2C%20%5B-122.30095032214909%2C%2037.892889787833056%5D%2C%20%5B-122.30100591947796%2C%2037.8930635214807%5D%2C%20%5B-122.30100672562479%2C%2037.89306605605525%5D%2C%20%5B-122.30106132760021%2C%2037.89323878879308%5D%2C%20%5B-122.30111673459298%2C%2037.893411927669156%5D%2C%20%5B-122.30117254562656%2C%2037.89358533258346%5D%2C%20%5B-122.30122854834579%2C%2037.893759333066626%5D%2C%20%5B-122.30122893068744%2C%2037.89376052440657%5D%2C%20%5B-122.3012835551128%2C%2037.89393121788376%5D%2C%20%5B-122.30129912406575%2C%2037.893977922679895%5D%2C%20%5B-122.30130034688644%2C%2037.893981622897854%5D%2C%20%5B-122.30135734927585%2C%2037.89415562237405%5D%2C%20%5B-122.30141435199745%2C%2037.89432962286441%5D%2C%20%5B-122.30147135471904%2C%2037.89450362335449%5D%2C%20%5B-122.30147174954493%2C%2037.89450483201213%5D%2C%20%5B-122.3015287519509%2C%2037.89467983148815%5D%2C%20%5B-122.30152956309203%2C%2037.89468233662842%5D%2C%20%5B-122.30158556549003%2C%2037.894856336113236%5D%2C%20%5B-122.30158675363828%2C%2037.89486006096439%5D%2C%20%5B-122.30164175604477%2C%2037.895034060457796%5D%2C%20%5B-122.30164212603388%2C%2037.895035234268356%5D%2C%20%5B-122.30169709580098%2C%2037.89521012986174%5D%2C%20%5B-122.301725064346%2C%2037.89529902571066%5D%2C%20%5B-122.3017256431891%2C%2037.89530087386902%5D%2C%20%5B-122.30177818341922%2C%2037.89546939115932%5D%2C%20%5B-122.30180871628191%2C%2037.89556590990011%5D%2C%20%5B-122.30183155444611%2C%2037.89565850827063%5D%2C%20%5B-122.30184199109102%2C%2037.89575248693697%5D%2C%20%5B-122.30183991138122%2C%2037.895846812263486%5D%2C%20%5B-122.30183958622092%2C%2037.89584890145406%5D%2C%20%5B-122.30188777254547%2C%2037.895996835181506%5D%2C%20%5B-122.30188858367495%2C%2037.895999340285734%5D%2C%20%5B-122.30194414435645%2C%2037.89617196736002%5D%2C%20%5B-122.30198854150842%2C%2037.89630811247713%5D%2C%20%5B-122.30204538565859%2C%2037.89648162892741%5D%2C%20%5B-122.30204814874901%2C%2037.89649023823086%5D%2C%20%5B-122.30210238128272%2C%2037.89666278819708%5D%2C%20%5B-122.30215759640393%2C%2037.896834341606144%5D%2C%20%5B-122.3022135991234%2C%2037.897008342089265%5D%2C%20%5B-122.30221398145144%2C%2037.89700953338691%5D%2C%20%5B-122.30226979353642%2C%2037.897183938119895%5D%2C%20%5B-122.30232560457809%2C%2037.89735734305848%5D%2C%20%5B-122.30232716236277%2C%2037.897362240605354%5D%2C%20%5B-122.30238139490397%2C%2037.897534790595046%5D%2C%20%5B-122.3024366100328%2C%2037.897706344027604%5D%2C%20%5B-122.30244514035004%2C%2037.89773477317505%5D%2C%20%5B-122.3024932906609%2C%2037.897907712013584%5D%2C%20%5B-122.30250394197317%2C%2037.89794473611071%5D%2C%20%5B-122.30252837584416%2C%2037.898007469356294%5D%2C%20%5B-122.30253428661746%2C%2037.8980231510936%5D%2C%20%5B-122.30257217305657%2C%2037.89812711438271%5D%2C%20%5B-122.302629306412%2C%2037.89826667808282%5D%2C%20%5B-122.30270022554144%2C%2037.89841838649051%5D%2C%20%5B-122.30270184195722%2C%2037.89842186632441%5D%2C%20%5B-122.30272385769815%2C%2037.898469565622925%5D%2C%20%5B-122.30280181954807%2C%2037.898633280604656%5D%2C%20%5B-122.30280626344644%2C%2037.89864277422613%5D%2C%20%5B-122.30282750959393%2C%2037.89868896007085%5D%2C%20%5B-122.30286071254066%2C%2037.89875915846893%5D%2C%20%5B-122.30288820494003%2C%2037.89882489495267%5D%2C%20%5B-122.30290921625202%2C%2037.89889210695033%5D%2C%20%5B-122.30294832146502%2C%2037.899041718425664%5D%2C%20%5B-122.30298196978988%2C%2037.89909299092428%5D%2C%20%5B-122.30298400671617%2C%2037.89909610961356%5D%2C%20%5B-122.30308800830974%2C%2037.899256108735315%5D%2C%20%5B-122.30313917366945%2C%2037.899346824533474%5D%2C%20%5B-122.3032201757103%2C%2037.899514823814826%5D%2C%20%5B-122.30322183425831%2C%2037.89951828504535%5D%2C%20%5B-122.30328183579773%2C%2037.899644284512306%5D%2C%20%5B-122.30328586181321%2C%2037.89965287124253%5D%2C%20%5B-122.30336306074686%2C%2037.899820130425596%5D%2C%20%5B-122.30344125060462%2C%2037.89998739222834%5D%2C%20%5B-122.30344286720775%2C%2037.89999087246842%5D%2C%20%5B-122.30352038342586%2C%2037.900158819078186%5D%2C%20%5B-122.30355694276597%2C%2037.900237419253244%5D%2C%20%5B-122.30359087067546%2C%2037.90030710697538%5D%2C%20%5B-122.30360177004862%2C%2037.90033045295372%5D%2C%20%5B-122.30367742042847%2C%2037.90049966548349%5D%2C%20%5B-122.30375275507177%2C%2037.9006671806024%5D%2C%20%5B-122.30378417162349%2C%2037.90073667562346%5D%2C%20%5B-122.30386088115982%2C%2037.90090287446751%5D%2C%20%5B-122.30386248436706%2C%2037.90090637040148%5D%2C%20%5B-122.30393869003296%2C%2037.9010736217447%5D%2C%20%5B-122.30401588655461%2C%2037.901240875693446%5D%2C%20%5B-122.30409308610332%2C%2037.90140813620892%5D%2C%20%5B-122.30417127597224%2C%2037.90157539803511%5D%2C%20%5B-122.30424965659796%2C%2037.90174306793089%5D%2C%20%5B-122.30430803074728%2C%2037.90186673824036%5D%2C%20%5B-122.30435005703633%2C%2037.90195579125402%5D%2C%20%5B-122.30435528669237%2C%2037.90196710358266%5D%2C%20%5B-122.3044167950855%2C%2037.902102968594974%5D%2C%20%5B-122.30449386585376%2C%2037.90225896275837%5D%2C%20%5B-122.30449887833984%2C%2037.902269295390326%5D%2C%20%5B-122.30457888039255%2C%2037.902437294679395%5D%2C%20%5B-122.30465888307981%2C%2037.90260529530093%5D%2C%20%5B-122.30465966403025%2C%2037.90260694011573%5D%2C%20%5B-122.30473966610076%2C%2037.902775939404364%5D%2C%20%5B-122.30474053138481%2C%2037.90277777333629%5D%2C%20%5B-122.30481910269299%2C%2037.902944856624714%5D%2C%20%5B-122.30489828266195%2C%2037.903112119275775%5D%2C%20%5B-122.30497789386094%2C%2037.90327929779443%5D%2C%20%5B-122.30502789565952%2C%2037.90338429843278%5D%2C%20%5B-122.30510789822785%2C%2037.90355229880442%5D%2C%20%5B-122.30510867917201%2C%2037.90355394360601%5D%2C%20%5B-122.30518788189354%2C%2037.90372125432458%5D%2C%20%5B-122.30521007456764%2C%2037.90376756809462%5D%2C%20%5B-122.30521492765251%2C%2037.90377788620267%5D%2C%20%5B-122.30529204117583%2C%2037.90394496033553%5D%2C%20%5B-122.30531314208982%2C%2037.90399003818599%5D%2C%20%5B-122.30539193634199%2C%2037.90415859265075%5D%2C%20%5B-122.30547055550451%2C%2037.90432577769795%5D%2C%20%5B-122.30547124183327%2C%2037.90432724107232%5D%2C%20%5B-122.3054982749282%2C%2037.9043850342057%5D%2C%20%5B-122.30557725630072%2C%2037.904548842584276%5D%2C%20%5B-122.30565742845685%2C%2037.90471512067725%5D%2C%20%5B-122.30573859102287%2C%2037.904881400120544%5D%2C%20%5B-122.30574026232857%2C%2037.904884845181755%5D%2C%20%5B-122.30582126436981%2C%2037.905052844463%5D%2C%20%5B-122.30582370322054%2C%2037.90505794914906%5D%2C%20%5B-122.30590282847402%2C%2037.90522509622141%5D%2C%20%5B-122.305972607363%2C%2037.905370546492556%5D%2C%20%5B-122.30605327213489%2C%2037.90553784627115%5D%2C%20%5B-122.30605571097573%2C%2037.905542950936486%5D%2C%20%5B-122.30613426631922%2C%2037.905708894113005%5D%2C%20%5B-122.30616279231539%2C%2037.905767846105%5D%2C%20%5B-122.30616895962481%2C%2037.90578089346602%5D%2C%20%5B-122.30624696171851%2C%2037.905949892770224%5D%2C%20%5B-122.30624856485542%2C%2037.90595338855081%5D%2C%20%5B-122.30632477055669%2C%2037.90612063997079%5D%2C%20%5B-122.30640166436658%2C%2037.90628723806516%5D%2C%20%5B-122.30644359787455%2C%2037.90637765446703%5D%2C%20%5B-122.30647966351701%2C%2037.90643484300628%5D%2C%20%5B-122.3065099040189%2C%2037.90648020284111%5D%2C%20%5B-122.3066139981799%2C%2037.90663108869398%5D%2C%20%5B-122.30668396494558%2C%2037.906731602402196%5D%2C%20%5B-122.30668954661681%2C%2037.90673971940838%5D%2C%20%5B-122.30679754813426%2C%2037.90689871850477%5D%2C%20%5B-122.30679872668813%2C%2037.906900458136306%5D%2C%20%5B-122.30684743419161%2C%2037.90697254381187%5D%2C%20%5B-122.30695413081087%2C%2037.90712863395305%5D%2C%20%5B-122.30695555302692%2C%2037.9071307211297%5D%2C%20%5B-122.30706284626335%2C%2037.90728867750213%5D%2C%20%5B-122.3071701360097%2C%2037.90744563535128%5D%2C%20%5B-122.30717449569194%2C%2037.907452075664004%5D%2C%20%5B-122.30723230485248%2C%2037.907538313836014%5D%2C%20%5B-122.30733804264237%2C%2037.90769158214908%5D%2C%20%5B-122.30734014118674%2C%2037.907694638049115%5D%2C%20%5B-122.3074470982447%2C%2037.907851109203136%5D%2C%20%5B-122.30755504782773%2C%2037.908007583547%5D%2C%20%5B-122.3075570538898%2C%2037.908010504178804%5D%2C%20%5B-122.3076500551787%2C%2037.90814650340186%5D%2C%20%5B-122.30775815009792%2C%2037.90830463914058%5D%2C%20%5B-122.30775957230664%2C%2037.90830672630644%5D%2C%20%5B-122.30786582565806%2C%2037.90846315177068%5D%2C%20%5B-122.30797305785414%2C%2037.908618586250235%5D%2C%20%5B-122.30797594504409%2C%2037.908622797906574%5D%2C%20%5B-122.30806747307987%2C%2037.90875716621751%5D%2C%20%5B-122.30817495923606%2C%2037.90891155245923%5D%2C%20%5B-122.30817560408062%2C%2037.90891247996206%5D%2C%20%5B-122.3082846055447%2C%2037.90906947905458%5D%2C%20%5B-122.3082852577484%2C%2037.909070419776704%5D%2C%20%5B-122.30833025835642%2C%2037.90913541940179%5D%2C%20%5B-122.30833872678116%2C%2037.90914788312145%5D%2C%20%5B-122.30844472832756%2C%2037.90930688223081%5D%2C%20%5B-122.30844771851245%2C%2037.909311398392326%5D%2C%20%5B-122.30849150871505%2C%2037.90937799463119%5D%2C%20%5B-122.30859484165603%2C%2037.909529163922706%5D%2C%20%5B-122.30870351388735%2C%2037.90968768270694%5D%2C%20%5B-122.3087041738901%2C%2037.909688646844494%5D%2C%20%5B-122.30881206568787%2C%2037.909846485457926%5D%2C%20%5B-122.30890295716502%2C%2037.90997932424893%5D%2C%20%5B-122.30901118016102%2C%2037.910137647225504%5D%2C%20%5B-122.30901260235859%2C%2037.91013973437495%5D%2C%20%5B-122.30911825374969%2C%2037.91029527363928%5D%2C%20%5B-122.30915886605311%2C%2037.910353829784434%5D%2C%20%5B-122.30916360598195%2C%2037.91036073534776%5D%2C%20%5B-122.30927160749958%2C%2037.91051973444404%5D%2C%20%5B-122.30927227863491%2C%2037.91052072396405%5D%2C%20%5B-122.30937894605178%2C%2037.910678229741144%5D%2C%20%5B-122.30948590442694%2C%2037.910835693131524%5D%2C%20%5B-122.30959214975837%2C%2037.91099112307353%5D%2C%20%5B-122.30970009935558%2C%2037.91114759743769%5D%2C%20%5B-122.30974223873238%2C%2037.91121528864352%5D%2C%20%5B-122.30977704966992%2C%2037.91128553028894%5D%2C%20%5B-122.30984546396918%2C%2037.9114426931086%5D%2C%20%5B-122.30987655659233%2C%2037.91147608838609%5D%2C%20%5B-122.3100115589922%2C%2037.91162108905453%5D%2C%20%5B-122.31009074130127%2C%2037.911718754247225%5D%2C%20%5B-122.3101397419482%2C%2037.911788753839964%5D%2C%20%5B-122.31015077029397%2C%2037.911804894742524%5D%2C%20%5B-122.31025677184057%2C%2037.911963893851876%5D%2C%20%5B-122.31025813861942%2C%2037.91196595040975%5D%2C%20%5B-122.31036387525157%2C%2037.91212554962696%5D%2C%20%5B-122.31044642757088%2C%2037.91224985003403%5D%2C%20%5B-122.31055111993479%2C%2037.912401602984424%5D%2C%20%5B-122.31066012252765%2C%2037.91255960368312%5D%2C%20%5B-122.31076912512067%2C%2037.91271760438204%5D%2C%20%5B-122.3108781277137%2C%2037.912875605081005%5D%2C%20%5B-122.31098713030657%2C%2037.913033605779695%5D%2C%20%5B-122.31109613289964%2C%2037.91319160647867%5D%2C%20%5B-122.31109823139506%2C%2037.913194662307355%5D%2C%20%5B-122.31120352542251%2C%2037.91334870056206%5D%2C%20%5B-122.31122876826983%2C%2037.91338476108435%5D%2C%20%5B-122.31123772936111%2C%2037.913397815711996%5D%2C%20%5B-122.31134338464233%2C%2037.913554814355514%5D%2C%20%5B-122.3113875907424%2C%2037.91361971139623%5D%2C%20%5B-122.31149453380624%2C%2037.91377472677738%5D%2C%20%5B-122.31153692321357%2C%2037.91383584521114%5D%2C%20%5B-122.31154166307256%2C%2037.91384275067273%5D%2C%20%5B-122.31164934913838%2C%2037.914001285363696%5D%2C%20%5B-122.31169603365436%2C%2037.91406982085771%5D%2C%20%5B-122.31169666681102%2C%2037.914070751676185%5D%2C%20%5B-122.31180440377344%2C%2037.91422936129657%5D%2C%20%5B-122.31186385543569%2C%2037.91431667921485%5D%2C%20%5B-122.31197044667621%2C%2037.914467440554574%5D%2C%20%5B-122.31208144925648%2C%2037.91462444125416%5D%2C%20%5B-122.31219245183671%2C%2037.91478144195358%5D%2C%20%5B-122.31219394760494%2C%2037.91478356427107%5D%2C%20%5B-122.31230420412751%2C%2037.91494050301829%5D%2C%20%5B-122.3124144570137%2C%2037.915096443357065%5D%2C%20%5B-122.31241658479479%2C%2037.91509946649669%5D%2C%20%5B-122.31252432147775%2C%2037.9152532332118%5D%2C%20%5B-122.3125570236145%2C%2037.91529901535158%5D%2C%20%5B-122.31266856624083%2C%2037.91545537103598%5D%2C%20%5B-122.31277979934768%2C%2037.915610300004516%5D%2C%20%5B-122.3127826984903%2C%2037.915614362517296%5D%2C%20%5B-122.31284369927346%2C%2037.91570036201187%5D%2C%20%5B-122.3128465947331%2C%2037.915704469185215%5D%2C%20%5B-122.3129561381407%2C%2037.91586081453405%5D%2C%20%5B-122.31303867980898%2C%2037.915978160709635%5D%2C%20%5B-122.31303959925044%2C%2037.91597947040714%5D%2C%20%5B-122.31314960070026%2C%2037.91613646949302%5D%2C%20%5B-122.31315107902691%2C%2037.91613858613127%5D%2C%20%5B-122.31325928975534%2C%2037.916294013116115%5D%2C%20%5B-122.3133684792339%2C%2037.91644844938037%5D%2C%20%5B-122.31337208419959%2C%2037.91645358752828%5D%2C%20%5B-122.31348129996391%2C%2037.916610458079035%5D%2C%20%5B-122.31355398060073%2C%2037.91671414715331%5D%2C%20%5B-122.3136504359802%2C%2037.916849969532436%5D%2C%20%5B-122.31365509081733%2C%2037.91685658931547%5D%2C%20%5B-122.31376429058362%2C%2037.91701343688768%5D%2C%20%5B-122.31383049158738%2C%2037.917107868879576%5D%2C%20%5B-122.31393943077235%2C%2037.917261951137846%5D%2C%20%5B-122.31405036307103%2C%2037.917417451555956%5D%2C%20%5B-122.31405359947091%2C%2037.91742201922236%5D%2C%20%5B-122.31411060021529%2C%2037.91750301874922%5D%2C%20%5B-122.31411310149117%2C%2037.917506592197974%5D%2C%20%5B-122.31422236672398%2C%2037.917663533801786%5D%2C%20%5B-122.3143316283473%2C%2037.91781947697088%5D%2C%20%5B-122.31433310666404%2C%2037.917821593594915%5D%2C%20%5B-122.31444237189781%2C%2037.917978535200035%5D%2C%20%5B-122.31455163352204%2C%2037.91813447837049%5D%2C%20%5B-122.31455311183682%2C%2037.91813659499171%5D%2C%20%5B-122.31466101627946%2C%2037.918291582047985%5D%2C%20%5B-122.31471413717658%2C%2037.918366519050494%5D%2C%20%5B-122.31482461666515%2C%2037.91852138474114%5D%2C%20%5B-122.31493584978067%2C%2037.918676313721384%5D%2C%20%5B-122.31493738496813%2C%2037.918678458815435%5D%2C%20%5B-122.31504938638855%2C%2037.91883545788872%5D%2C%20%5B-122.31516100255764%2C%2037.91899191693348%5D%2C%20%5B-122.31523361611667%2C%2037.91909337509593%5D%2C%20%5B-122.31524223107186%2C%2037.919105634240594%5D%2C%20%5B-122.31535123255607%2C%2037.91926363333149%5D%2C%20%5B-122.3154332506192%2C%2037.919382519668545%5D%2C%20%5B-122.3154332506192%2C%2037.919382519668524%5D%2C%20%5B-122.31546023514939%2C%2037.91942163403014%5D%2C%20%5B-122.3154623335895%2C%2037.9194246897783%5D%2C%20%5B-122.31556929070037%2C%2037.91958116100839%5D%2C%20%5B-122.31567724033613%2C%2037.9197376354274%5D%2C%20%5B-122.31568075981845%2C%2037.91974277663462%5D%2C%20%5B-122.31578461922595%2C%2037.91989567775791%5D%2C%20%5B-122.31581135921742%2C%2037.9199336305743%5D%2C%20%5B-122.31581414141289%2C%2037.91993760297783%5D%2C%20%5B-122.3159241428825%2C%2037.92009560206226%5D%2C%20%5B-122.3159254390343%2C%2037.92009746899714%5D%2C%20%5B-122.31602147313775%2C%2037.92023618225814%5D%2C%20%5B-122.3160881520722%2C%2037.92033005743146%5D%2C%20%5B-122.31619760536792%2C%2037.92047630709961%5D%2C%20%5B-122.31625360394598%2C%2037.92056112704115%5D%2C%20%5B-122.31629788097972%2C%2037.92065016338809%5D%2C%20%5B-122.31634690427501%2C%2037.92076658981167%5D%2C%20%5B-122.31636226753538%2C%2037.92078184466654%5D%2C%20%5B-122.31650262656237%2C%2037.92092022518276%5D%2C%20%5B-122.3165632193923%2C%2037.92097982399131%5D%2C%20%5B-122.31664939960345%2C%2037.92107710429474%5D%2C%20%5B-122.31669540009804%2C%2037.92113710392099%5D%2C%20%5B-122.31670973701647%2C%2037.921156338530125%5D%2C%20%5B-122.31682273840241%2C%2037.921312337598465%5D%2C%20%5B-122.31682502568798%2C%2037.921315510120635%5D%2C%20%5B-122.31691902686516%2C%2037.92144650934389%5D%2C%20%5B-122.31692468919289%2C%2037.92145449473138%5D%2C%20%5B-122.31703437553361%2C%2037.92161104407971%5D%2C%20%5B-122.31714506122862%2C%2037.92176859370513%5D%2C%20%5B-122.31714569436794%2C%2037.92176949613063%5D%2C%20%5B-122.31725569581812%2C%2037.92192649521639%5D%2C%20%5B-122.31725717411084%2C%2037.92192861180606%5D%2C%20%5B-122.31736593099694%2C%2037.92208482325449%5D%2C%20%5B-122.31743931891684%2C%2037.92218910937993%5D%2C%20%5B-122.31747994923477%2C%2037.92224618423731%5D%2C%20%5B-122.3174893800983%2C%2037.922259702276605%5D%2C%20%5B-122.31759738159724%2C%2037.92241770137389%5D%2C%20%5B-122.31759880371891%2C%2037.922419788412014%5D%2C%20%5B-122.3177050571776%2C%2037.92257621403264%5D%2C%20%5B-122.31780946332421%2C%2037.92272755212434%5D%2C%20%5B-122.31791758495312%2C%2037.92288047803077%5D%2C%20%5B-122.31792539046678%2C%2037.92289170506268%5D%2C%20%5B-122.31803339196577%2C%2037.92304970415993%5D%2C%20%5B-122.31803688762857%2C%2037.92305485807134%5D%2C%20%5B-122.31814388916145%2C%2037.92321385717381%5D%2C%20%5B-122.31819033376586%2C%2037.923291628482964%5D%2C%20%5B-122.31822716327572%2C%2037.92337254635957%5D%2C%20%5B-122.31825404115041%2C%2037.923455871462004%5D%2C%20%5B-122.31827072177407%2C%2037.92354084245136%5D%2C%20%5B-122.31827705270094%2C%2037.92362668294764%5D%2C%20%5B-122.3182729760496%2C%2037.92371260862357%5D%2C%20%5B-122.31825852903296%2C%2037.92379783437081%5D%2C%20%5B-122.31823384361975%2C%2037.923881581473665%5D%2C%20%5B-122.31819914532974%2C%2037.923963084724434%5D%2C%20%5B-122.31815475117453%2C%2037.92404159941526%5D%2C%20%5B-122.3181010667619%2C%2037.92411640814294%5D%2C%20%5B-122.31803858259073%2C%2037.92418682736425%5D%2C%20%5B-122.31796786956981%2C%2037.92425221364187%5D%2C%20%5B-122.31788957380203%2C%2037.92431196952416%5D%2C%20%5B-122.317804410681%2C%2037.924365549004605%5D%2C%20%5B-122.31771315835441%2C%2037.92441246251087%5D%2C%20%5B-122.31769893046105%2C%2037.92441903482809%5D%2C%20%5B-122.31771000557079%2C%2037.924498120879036%5D%2C%20%5B-122.31771134297179%2C%2037.92458639205923%5D%2C%20%5B-122.31770171749305%2C%2037.92467434170733%5D%2C%20%5B-122.31768122179518%2C%2037.92476112281751%5D%2C%20%5B-122.31765005322686%2C%2037.92484589963481%5D%2C%20%5B-122.31760851192585%2C%2037.92492785570387%5D%2C%20%5B-122.31755699792961%2C%2037.92500620173243%5D%2C%20%5B-122.3174960073239%2C%2037.92508018319293%5D%2C%20%5B-122.3174261274659%2C%2037.92514908758954%5D%2C%20%5B-122.31734803132838%2C%2037.92521225132027%5D%2C%20%5B-122.31726247101899%2C%2037.92526906606859%5D%2C%20%5B-122.31717027053686%2C%2037.92531898466249%5D%2C%20%5B-122.317072317837%2C%2037.925361526344254%5D%2C%20%5B-122.3169695562781%2C%2037.9253962814014%5D%2C%20%5B-122.31686297553681%2C%2037.92542291511257%5D%2C%20%5B-122.31675360207558%2C%2037.92544117097196%5D%2C%20%5B-122.31664248925593%2C%2037.92545087315933%5D%2C%20%5B-122.31653070719274%2C%2037.92545192823404%5D%2C%20%5B-122.31641933244703%2C%2037.92544432603479%5D%2C%20%5B-122.31630943765654%2C%2037.92542813977755%5D%2C%20%5B-122.31620208120424%2C%2037.92540352535024%5D%2C%20%5B-122.31609829702406%2C%2037.92537071981149%5D%2C%20%5B-122.31599908464236%2C%2037.92533003910708%5D%2C%20%5B-122.31590539955081%2C%2037.92528187502697%5D%2C%20%5B-122.31581814400371%2C%2037.92522669143151%5D%2C%20%5B-122.31573815832813%2C%2037.925165019783854%5D%2C%20%5B-122.31566621283078%2C%2037.92509745403089%5D%2C%20%5B-122.31560300037944%2C%2037.92502464488278%5D%2C%20%5B-122.31554912973071%2C%2037.92494729354575%5D%2C%20%5B-122.31550511966765%2C%2037.9248661449683%5D%2C%20%5B-122.3154713940046%2C%2037.92478198066665%5D%2C%20%5B-122.31544667458849%2C%2037.92470781915757%5D%2C%20%5B-122.31542042890885%2C%2037.924679495729926%5D%2C%20%5B-122.31538542921152%2C%2037.92463749545219%5D%2C%20%5B-122.31535771705734%2C%2037.92460251911315%5D%2C%20%5B-122.31528171791194%2C%2037.9245015184925%5D%2C%20%5B-122.31522932450267%2C%2037.92442338337652%5D%2C%20%5B-122.31518689744495%2C%2037.924341564041846%5D%2C%20%5B-122.3151548465653%2C%2037.92425685089105%5D%2C%20%5B-122.31513348144946%2C%2037.9241700622791%5D%2C%20%5B-122.31512300845284%2C%2037.92408203660787%5D%2C%20%5B-122.3151235287087%2C%2037.923993624226405%5D%2C%20%5B-122.31513503715239%2C%2037.92390567921657%5D%2C%20%5B-122.31515742257201%2C%2037.92381905114233%5D%2C%20%5B-122.31519046868404%2C%2037.92373457684286%5D%2C%20%5B-122.31523385622405%2C%2037.92365307234881%5D%2C%20%5B-122.31528716603232%2C%2037.92357532499955%5D%2C%20%5B-122.31534988310379%2C%2037.92350208583778%5D%2C%20%5B-122.31542140156402%2C%2037.923434062354836%5D%2C%20%5B-122.31550103052274%2C%2037.92337191165655%5D%2C%20%5B-122.31558800074805%2C%2037.92331623411631%5D%2C%20%5B-122.31561345033994%2C%2037.923302983613965%5D%2C%20%5B-122.31559189417946%2C%2037.92327124746821%5D%2C%20%5B-122.31548925033766%2C%2037.92312108040024%5D%2C%20%5B-122.31545203960809%2C%2037.923068807205254%5D%2C%20%5B-122.31544931122625%2C%2037.923064952281436%5D%2C%20%5B-122.31537331221897%2C%2037.922956951650455%5D%2C%20%5B-122.3153708128636%2C%2037.922953380813%5D%2C%20%5B-122.31526155165959%2C%2037.92279643898877%5D%2C%20%5B-122.3151526102707%2C%2037.92264094695876%5D%2C%20%5B-122.31504192861483%2C%2037.92248339711159%5D%2C%20%5B-122.31504129776201%2C%2037.922482497910906%5D%2C%20%5B-122.31493410458263%2C%2037.92232950111098%5D%2C%20%5B-122.31484410211002%2C%2037.92220406981394%5D%2C%20%5B-122.31473953978131%2C%2037.92205971566682%5D%2C%20%5B-122.31472576749849%2C%2037.92204616898979%5D%2C%20%5B-122.31472495323924%2C%2037.92204536713091%5D%2C%20%5B-122.31458295383507%2C%2037.92190536607819%5D%2C%20%5B-122.3145804897574%2C%2037.921902928019655%5D%2C%20%5B-122.31443849037437%2C%2037.92176192696414%5D%2C%20%5B-122.31442015536551%2C%2037.92174176398687%5D%2C%20%5B-122.31440074002361%2C%2037.921722241909784%5D%2C%20%5B-122.3143875729676%2C%2037.921705933147024%5D%2C%20%5B-122.31437328688686%2C%2037.92169022274054%5D%2C%20%5B-122.31435754278193%2C%2037.92166873761944%5D%2C%20%5B-122.31434064399865%2C%2037.92164780668837%5D%2C%20%5B-122.31432956457537%2C%2037.92163055725173%5D%2C%20%5B-122.31431729724927%2C%2037.92161381667112%5D%2C%20%5B-122.31430429566757%2C%2037.92159121632354%5D%2C%20%5B-122.31429007618247%2C%2037.92156907811853%5D%2C%20%5B-122.31428119108806%2C%2037.92155105413234%5D%2C%20%5B-122.31427106065317%2C%2037.92153344460125%5D%2C%20%5B-122.31426092680017%2C%2037.921509946684274%5D%2C%20%5B-122.31424952354796%2C%2037.92148681441166%5D%2C%20%5B-122.31420852479178%2C%2037.92138981404235%5D%2C%20%5B-122.31420810862957%2C%2037.9213888275303%5D%2C%20%5B-122.3141744914565%2C%2037.92130898410888%5D%2C%20%5B-122.31412038396422%2C%2037.921236683945025%5D%2C%20%5B-122.31410754020828%2C%2037.9212190703662%5D%2C%20%5B-122.31403154118134%2C%2037.92111206973664%5D%2C%20%5B-122.31402554810683%2C%2037.92110352351003%5D%2C%20%5B-122.31392719610476%2C%2037.9209614567689%5D%2C%20%5B-122.31381923174649%2C%2037.92080637772274%5D%2C%20%5B-122.31378962955769%2C%2037.920764360918426%5D%2C%20%5B-122.3137812272621%2C%2037.92075221587926%5D%2C%20%5B-122.31367497789837%2C%2037.920595790122746%5D%2C%20%5B-122.31356774964956%2C%2037.92044035533217%5D%2C%20%5B-122.31356565347086%2C%2037.92043730275808%5D%2C%20%5B-122.31345870042266%2C%2037.92028083134803%5D%2C%20%5B-122.31343276955678%2C%2037.92024324282697%5D%2C%20%5B-122.31343276955678%2C%2037.92024324282697%5D%2C%20%5B-122.31343276955678%2C%2037.92024324282697%5D%2C%20%5B-122.31335075537163%2C%2037.92012435750548%5D%2C%20%5B-122.31324600430467%2C%2037.91997251358238%5D%2C%20%5B-122.31317737307863%2C%2037.91987661611242%5D%2C%20%5B-122.31317659932526%2C%2037.919875533209336%5D%2C%20%5B-122.31306460131829%2C%2037.9197185330851%5D%2C%20%5B-122.3129533690418%2C%2037.91956260637351%5D%2C%20%5B-122.31284213987709%2C%2037.91940767717774%5D%2C%20%5B-122.31284060705414%2C%2037.91940553530832%5D%2C%20%5B-122.31272860847459%2C%2037.91924853438153%5D%2C%20%5B-122.31272709744687%2C%2037.91924640947418%5D%2C%20%5B-122.3126710981669%2C%2037.91916740901005%5D%2C%20%5B-122.31266687513872%2C%2037.91916139762771%5D%2C%20%5B-122.31255761394549%2C%2037.919004455819454%5D%2C%20%5B-122.31244835633379%2C%2037.918848512443915%5D%2C%20%5B-122.31244688031161%2C%2037.918846399024524%5D%2C%20%5B-122.3123376191193%2C%2037.91868945721768%5D%2C%20%5B-122.31222836150859%2C%2037.91853351384355%5D%2C%20%5B-122.31222688548453%2C%2037.91853140042149%5D%2C%20%5B-122.31211813242427%2C%2037.91837518849281%5D%2C%20%5B-122.31206399865299%2C%2037.91829826010121%5D%2C%20%5B-122.3119536266452%2C%2037.91814353931653%5D%2C%20%5B-122.31195149572166%2C%2037.91814053875276%5D%2C%20%5B-122.31184049715688%2C%2037.91798353783233%5D%2C%20%5B-122.31183850288339%2C%2037.91798070506562%5D%2C%20%5B-122.31177050377865%2C%2037.91788370450063%5D%2C%20%5B-122.31176889615858%2C%2037.91788140330398%5D%2C%20%5B-122.31166120734594%2C%2037.917726720054766%5D%2C%20%5B-122.31156555359847%2C%2037.9175920214372%5D%2C%20%5B-122.3115624772454%2C%2037.91758766102683%5D%2C%20%5B-122.31148747823309%2C%2037.91748066040364%5D%2C%20%5B-122.31148590277643%2C%2037.91747840509121%5D%2C%20%5B-122.3113776960598%2C%2037.91732297792759%5D%2C%20%5B-122.31126851055193%2C%2037.917168541463234%5D%2C%20%5B-122.3112649079492%2C%2037.91716340648824%5D%2C%20%5B-122.31115564676176%2C%2037.917006464688576%5D%2C%20%5B-122.31104684817443%2C%2037.91685117648023%5D%2C%20%5B-122.31096430965816%2C%2037.916733830345294%5D%2C%20%5B-122.31096339222346%2C%2037.9167325234576%5D%2C%20%5B-122.31085483457116%2C%2037.91657757914162%5D%2C%20%5B-122.3107967327086%2C%2037.916495663507206%5D%2C%20%5B-122.31068619031059%2C%2037.91634169089499%5D%2C%20%5B-122.31068465747059%2C%2037.916339549001705%5D%2C%20%5B-122.3105728117084%2C%2037.91618276229699%5D%2C%20%5B-122.31053796511678%2C%2037.91613397616337%5D%2C%20%5B-122.31053340216198%2C%2037.91612752614612%5D%2C%20%5B-122.31042446379487%2C%2037.91597203843492%5D%2C%20%5B-122.31031453277234%2C%2037.91581654748668%5D%2C%20%5B-122.31031303933045%2C%2037.91581442839007%5D%2C%20%5B-122.3102027868357%2C%2037.91565748943691%5D%2C%20%5B-122.3100925385018%2C%2037.91550154967154%5D%2C%20%5B-122.30998154108927%2C%2037.915344550381185%5D%2C%20%5B-122.30987054310997%2C%2037.91518755028925%5D%2C%20%5B-122.30986184895636%2C%2037.91517502012829%5D%2C%20%5B-122.30979784985158%2C%2037.91508101959296%5D%2C%20%5B-122.30968963801239%2C%2037.91492170549567%5D%2C%20%5B-122.30964295558476%2C%2037.91485317037033%5D%2C%20%5B-122.30964232400963%2C%2037.914852241841565%5D%2C%20%5B-122.30953667630426%2C%2037.914696701880054%5D%2C%20%5B-122.30949606583508%2C%2037.91463814612036%5D%2C%20%5B-122.30949484601882%2C%2037.91463638260776%5D%2C%20%5B-122.30938584750275%2C%2037.91447838169883%5D%2C%20%5B-122.30938296227498%2C%2037.9144741727369%5D%2C%20%5B-122.30933596293175%2C%2037.91440517234379%5D%2C%20%5B-122.30933325776557%2C%2037.914401176761075%5D%2C%20%5B-122.30923067150086%2C%2037.91424873246101%5D%2C%20%5B-122.30920722051243%2C%2037.914215230408395%5D%2C%20%5B-122.30920175566702%2C%2037.914207330229495%5D%2C%20%5B-122.30909480264616%2C%2037.91405085886015%5D%2C%20%5B-122.30898685760437%2C%2037.91389438503162%5D%2C%20%5B-122.30887786025235%2C%2037.913736385810154%5D%2C%20%5B-122.30876886283549%2C%2037.9135783864947%5D%2C%20%5B-122.30865986539284%2C%2037.91342038714184%5D%2C%20%5B-122.3085508680409%2C%2037.91326238792061%5D%2C%20%5B-122.3084418700521%2C%2037.91310438777612%5D%2C%20%5B-122.30843337765442%2C%2037.91309184231245%5D%2C%20%5B-122.30834637893348%2C%2037.91296084158079%5D%2C%20%5B-122.30834584857384%2C%2037.91296004200052%5D%2C%20%5B-122.30824053182832%2C%2037.91280107009588%5D%2C%20%5B-122.308140628266%2C%2037.91265121174249%5D%2C%20%5B-122.3081328435766%2C%2037.912640090553495%5D%2C%20%5B-122.3080414295324%2C%2037.91254190372771%5D%2C%20%5B-122.30790643116364%2C%2037.912396903570524%5D%2C%20%5B-122.30790284341214%2C%2037.912392624938555%5D%2C%20%5B-122.3078987996616%2C%2037.91238860798768%5D%2C%20%5B-122.30787199321774%2C%2037.912355834007975%5D%2C%20%5B-122.30784471552646%2C%2037.91232330349086%5D%2C%20%5B-122.30784167604533%2C%2037.9123187677147%5D%2C%20%5B-122.30783815028599%2C%2037.912314457058166%5D%2C%20%5B-122.30781554029411%2C%2037.91227976566439%5D%2C%20%5B-122.30779243110709%2C%2037.91224528007879%5D%2C%20%5B-122.307789969167%2C%2037.91224053084123%5D%2C%20%5B-122.3077869953528%2C%2037.912235967993794%5D%2C%20%5B-122.30776879955%2C%2037.91219969328857%5D%2C%20%5B-122.30775008141131%2C%2037.91216358475504%5D%2C%20%5B-122.3077482207206%2C%2037.91215866779445%5D%2C%20%5B-122.30774582748964%2C%2037.91215389669959%5D%2C%20%5B-122.30769638191765%2C%2037.91203917914221%5D%2C%20%5B-122.30765407391645%2C%2037.91194198196993%5D%2C%20%5B-122.30759089063153%2C%2037.91185039332306%5D%2C%20%5B-122.30758879437664%2C%2037.91184734063809%5D%2C%20%5B-122.30748079587497%2C%2037.911689339735595%5D%2C%20%5B-122.30747937590375%2C%2037.91168725577153%5D%2C%20%5B-122.30737137742148%2C%2037.91152825486776%5D%2C%20%5B-122.30737070847202%2C%2037.911527268531614%5D%2C%20%5B-122.3072640451522%2C%2037.911369762566686%5D%2C%20%5B-122.3071587334307%2C%2037.91121471725708%5D%2C%20%5B-122.30711812299626%2C%2037.911156161547545%5D%2C%20%5B-122.30711338472466%2C%2037.91114925813969%5D%2C%20%5B-122.30700609558052%2C%2037.91099130156254%5D%2C%20%5B-122.30689892060224%2C%2037.91083450546591%5D%2C%20%5B-122.30680803265003%2C%2037.910701666629336%5D%2C%20%5B-122.3067001442917%2C%2037.91054382702339%5D%2C%20%5B-122.30659147615884%2C%2037.910385308028644%5D%2C%20%5B-122.30659081837227%2C%2037.910384347090975%5D%2C%20%5B-122.30648281987052%2C%2037.9102263461886%5D%2C%20%5B-122.30647426957609%2C%2037.91021359350355%5D%2C%20%5B-122.30642775724498%2C%2037.91014285455002%5D%2C%20%5B-122.30632743399468%2C%2037.90999236664529%5D%2C%20%5B-122.30628705647149%2C%2037.909934042426606%5D%2C%20%5B-122.30617870645219%2C%2037.90977797563883%5D%2C%20%5B-122.30606903068004%2C%2037.90962043833047%5D%2C%20%5B-122.3060640422261%2C%2037.90961319450113%5D%2C%20%5B-122.30597147999684%2C%2037.90947730260268%5D%2C%20%5B-122.30586393213338%2C%2037.90932140451085%5D%2C%20%5B-122.30586041477711%2C%2037.909316266208414%5D%2C%20%5B-122.30575312563845%2C%2037.90915830963959%5D%2C%20%5B-122.30564588666377%2C%2037.909001419916684%5D%2C%20%5B-122.30555393425814%2C%2037.90886694925343%5D%2C%20%5B-122.30544594215989%2C%2037.90871040721418%5D%2C%20%5B-122.30544384587688%2C%2037.90870735448818%5D%2C%20%5B-122.30533689288022%2C%2037.90855088315484%5D%2C%20%5B-122.3052289473453%2C%2037.90839440861211%5D%2C%20%5B-122.30522249211302%2C%2037.908384916409936%5D%2C%20%5B-122.30516365622279%2C%2037.90829714307996%5D%2C%20%5B-122.3050578540502%2C%2037.9081423553814%5D%2C%20%5B-122.30505643405716%2C%2037.90814027138519%5D%2C%20%5B-122.30494914492205%2C%2037.90798231482173%5D%2C%20%5B-122.30484185924912%2C%2037.90782535677965%5D%2C%20%5B-122.3048392612367%2C%2037.90782153387407%5D%2C%20%5B-122.30478984999935%2C%2037.90774840379133%5D%2C%20%5B-122.30468520636197%2C%2037.907594342070325%5D%2C%20%5B-122.30461702445159%2C%2037.9074963887115%5D%2C%20%5B-122.3046149632394%2C%2037.9074934142063%5D%2C%20%5B-122.30450596472288%2C%2037.90733541329748%5D%2C%20%5B-122.30449830625956%2C%2037.90732412115723%5D%2C%20%5B-122.30445830684306%2C%2037.90726412082113%5D%2C%20%5B-122.30444660150476%2C%2037.907246071825746%5D%2C%20%5B-122.30437660264091%2C%2037.90713507123079%5D%2C%20%5B-122.30432662912658%2C%2037.90704340853804%5D%2C%20%5B-122.30426263083278%2C%2037.906905407967514%5D%2C%20%5B-122.30426202408185%2C%2037.90690409646715%5D%2C%20%5B-122.30418402617562%2C%2037.90673509577131%5D%2C%20%5B-122.30418242432218%2C%2037.906731602571526%5D%2C%20%5B-122.30410622337904%2C%2037.906564351096634%5D%2C%20%5B-122.30403205112758%2C%2037.906403639587204%5D%2C%20%5B-122.30400519931263%2C%2037.9063481442017%5D%2C%20%5B-122.30400227797834%2C%2037.90634204029585%5D%2C%20%5B-122.30392348960758%2C%2037.906175594859626%5D%2C%20%5B-122.30384372080667%2C%2037.90601014357434%5D%2C%20%5B-122.30384304777621%2C%2037.90600874411458%5D%2C%20%5B-122.30377204957873%2C%2037.90586074348419%5D%2C%20%5B-122.30377028573368%2C%2037.90585704208335%5D%2C%20%5B-122.30369149736778%2C%2037.90569059665753%5D%2C%20%5B-122.30361255971087%2C%2037.90552686928149%5D%2C%20%5B-122.3035314018235%2C%2037.90536058974694%5D%2C%20%5B-122.30352973190999%2C%2037.905357147353804%5D%2C%20%5B-122.30344873425776%2C%2037.905189147270875%5D%2C%20%5B-122.30336773664095%2C%2037.90502114726137%5D%2C%20%5B-122.303363748509%2C%2037.905012749679344%5D%2C%20%5B-122.30333509161561%2C%2037.90495148134959%5D%2C%20%5B-122.30325643762995%2C%2037.904784212104595%5D%2C%20%5B-122.30325567385755%2C%2037.90478258300881%5D%2C%20%5B-122.30317676242437%2C%2037.90461376732266%5D%2C%20%5B-122.30315484958994%2C%2037.90456695211327%5D%2C%20%5B-122.30315306145002%2C%2037.90456310495636%5D%2C%20%5B-122.30307744999816%2C%2037.904399275084266%5D%2C%20%5B-122.30305691695986%2C%2037.90435642225084%5D%2C%20%5B-122.30305530978251%2C%2037.904353047626564%5D%2C%20%5B-122.3029757012885%2C%2037.9041848696241%5D%2C%20%5B-122.30289609509363%2C%2037.904017691615515%5D%2C%20%5B-122.30284609682843%2C%2037.90391269211991%5D%2C%20%5B-122.30276609917684%2C%2037.903744692029726%5D%2C%20%5B-122.30276531953612%2C%2037.90374304987487%5D%2C%20%5B-122.3026853216067%2C%2037.903574049163474%5D%2C%20%5B-122.30268445762101%2C%2037.903572217872664%5D%2C%20%5B-122.3026058910421%2C%2037.90340513451506%5D%2C%20%5B-122.30252671643352%2C%2037.903237873121036%5D%2C%20%5B-122.30244711026272%2C%2037.90307069516319%5D%2C%20%5B-122.30236957853545%2C%2037.902907873680995%5D%2C%20%5B-122.30228912689843%2C%2037.90274502713155%5D%2C%20%5B-122.30227770278587%2C%2037.902720887437106%5D%2C%20%5B-122.30221327138858%2C%2037.902578556874936%5D%2C%20%5B-122.30217394769896%2C%2037.90249522558118%5D%2C%20%5B-122.30211496183118%2C%2037.90237025174939%5D%2C%20%5B-122.30211371243853%2C%2037.90236759183935%5D%2C%20%5B-122.30203471481002%2C%2037.90219859175509%5D%2C%20%5B-122.3019557172203%2C%2037.90202959175372%5D%2C%20%5B-122.30195410194447%2C%2037.90202611415725%5D%2C%20%5B-122.30187610434467%2C%2037.90185711412625%5D%2C%20%5B-122.30179810673533%2C%2037.90168811407446%5D%2C%20%5B-122.30179650481159%2C%2037.90168462072141%5D%2C%20%5B-122.30172030390312%2C%2037.901517369323535%5D%2C%20%5B-122.30164311213011%2C%2037.90135011530048%5D%2C%20%5B-122.30164055067858%2C%2037.901344507629226%5D%2C%20%5B-122.30160755159064%2C%2037.90127150733411%5D%2C%20%5B-122.30160692242738%2C%2037.901270111876286%5D%2C%20%5B-122.30153092454333%2C%2037.90110111119638%5D%2C%20%5B-122.30153021922852%2C%2037.901099538120626%5D%2C%20%5B-122.30145946635724%2C%2037.90094127006926%5D%2C%20%5B-122.30142812107876%2C%2037.90087688328501%5D%2C%20%5B-122.30142209585054%2C%2037.900864223494544%5D%2C%20%5B-122.30138209691228%2C%2037.90077822313813%5D%2C%20%5B-122.30138112189559%2C%2037.90077611869107%5D%2C%20%5B-122.3013039277083%2C%2037.90060885944546%5D%2C%20%5B-122.301225742588%2C%2037.90044159756073%5D%2C%20%5B-122.30122412729023%2C%2037.90043811991703%5D%2C%20%5B-122.30114811462236%2C%2037.90027342071528%5D%2C%20%5B-122.30109098145229%2C%2037.90015343746759%5D%2C%20%5B-122.30103322438963%2C%2037.900033641587285%5D%2C%20%5B-122.30095899675021%2C%2037.89991944276853%5D%2C%20%5B-122.30085502061239%2C%2037.899760999676104%5D%2C%20%5B-122.30083766766647%2C%2037.899731044216%5D%2C%20%5B-122.30081937519581%2C%2037.89970143963059%5D%2C%20%5B-122.30081442785716%2C%2037.89969092653778%5D%2C%20%5B-122.30080851974847%2C%2037.899680727668446%5D%2C%20%5B-122.3007949673061%2C%2037.89964957284368%5D%2C%20%5B-122.30078043632422%2C%2037.8996186944581%5D%2C%20%5B-122.30077681729479%2C%2037.899607848924965%5D%2C%20%5B-122.30077220313315%2C%2037.899597241711334%5D%2C%20%5B-122.30076258170067%2C%2037.89956518756364%5D%2C%20%5B-122.30075195213763%2C%2037.899533332757116%5D%2C%20%5B-122.30072595351584%2C%2037.89943633251569%5D%2C%20%5B-122.30072477582206%2C%2037.89943188311491%5D%2C%20%5B-122.30069653754708%2C%2037.899323834963354%5D%2C%20%5B-122.30069227939775%2C%2037.89931483173955%5D%2C%20%5B-122.30068872715279%2C%2037.89930721643565%5D%2C%20%5B-122.3006679157971%2C%2037.89926197295543%5D%2C%20%5B-122.3005901734901%2C%2037.89909870922019%5D%2C%20%5B-122.3005861485956%2C%2037.899090124353684%5D%2C%20%5B-122.30056295286653%2C%2037.89903986538631%5D%2C%20%5B-122.30048476765133%2C%2037.898872603298805%5D%2C%20%5B-122.30046950603813%2C%2037.898837774199336%5D%2C%20%5B-122.3003995082533%2C%2037.89866677356709%5D%2C%20%5B-122.30038870452957%2C%2037.898638839321684%5D%2C%20%5B-122.30034857101388%2C%2037.89852870108379%5D%2C%20%5B-122.30031461771748%2C%2037.898441520438446%5D%2C%20%5B-122.30029258155291%2C%2037.89837633384971%5D%2C%20%5B-122.30027158257933%2C%2037.89830333365538%5D%2C%20%5B-122.30026985142443%2C%2037.89829721697375%5D%2C%20%5B-122.30022482641357%2C%2037.89813548589086%5D%2C%20%5B-122.30017338583323%2C%2037.897975645309245%5D%2C%20%5B-122.30017182881717%2C%2037.89797074972482%5D%2C%20%5B-122.3001176013641%2C%2037.897798199732804%5D%2C%20%5B-122.30006239128794%2C%2037.89762664627844%5D%2C%20%5B-122.30006200963447%2C%2037.89762545697354%5D%2C%20%5B-122.30000620268169%2C%2037.8974510522135%5D%2C%20%5B-122.29995039689481%2C%2037.89727764772059%5D%2C%20%5B-122.2998943994621%2C%2037.89710364773084%5D%2C%20%5B-122.29989284243108%2C%2037.89709875209936%5D%2C%20%5B-122.29983919937918%2C%2037.89692806165732%5D%2C%20%5B-122.29978361009678%2C%2037.89675836042318%5D%2C%20%5B-122.29978329432302%2C%2037.89675739422726%5D%2C%20%5B-122.29973829621997%2C%2037.89661939381365%5D%2C%20%5B-122.29973740739486%2C%2037.89661665008178%5D%2C%20%5B-122.29968181304439%2C%2037.89644390258664%5D%2C%20%5B-122.29962522325961%2C%2037.8962701541617%5D%2C%20%5B-122.29962441284937%2C%2037.89626765105087%5D%2C%20%5B-122.29956841524749%2C%2037.89609365053574%5D%2C%20%5B-122.29954496663136%2C%2037.896000397427024%5D%2C%20%5B-122.29953410796602%2C%2037.89590571007026%5D%2C%20%5B-122.2995359605043%2C%2037.89581064620421%5D%2C%20%5B-122.29953701354351%2C%2037.89580381239538%5D%2C%20%5B-122.29951463861768%2C%2037.89573204027165%5D%2C%20%5B-122.29948693048357%2C%2037.89564396385632%5D%2C%20%5B-122.29943205204827%2C%2037.895469342562386%5D%2C%20%5B-122.2993778289216%2C%2037.895297792304625%5D%2C%20%5B-122.29932283363323%2C%2037.89512690626199%5D%2C%20%5B-122.29926644071982%2C%2037.894953762295856%5D%2C%20%5B-122.29920964120552%2C%2037.894780366512755%5D%2C%20%5B-122.29915264392775%2C%2037.89460636700487%5D%2C%20%5B-122.29909625286106%2C%2037.89443421812377%5D%2C%20%5B-122.29907986989662%2C%2037.89438506706129%5D%2C%20%5B-122.29907706039906%2C%2037.89437646595439%5D%2C%20%5B-122.29902125345278%2C%2037.89420206121547%5D%2C%20%5B-122.29896544771417%2C%2037.89402865687326%5D%2C%20%5B-122.29890945023956%2C%2037.893854656754066%5D%2C%20%5B-122.29890906857035%2C%2037.89385346740009%5D%2C%20%5B-122.29885307098483%2C%2037.893678466884744%5D%2C%20%5B-122.29885226553989%2C%2037.893675934282065%5D%2C%20%5B-122.29879766865447%2C%2037.893503201532724%5D%2C%20%5B-122.29874207643749%2C%2037.893329467849576%5D%2C%20%5B-122.29874127098945%2C%2037.89332693523709%5D%2C%20%5B-122.29868686239872%2C%2037.893154798212954%5D%2C%20%5B-122.29863146386708%2C%2037.89298265917614%5D%2C%20%5B-122.29862990676568%2C%2037.8929777633234%5D%2C%20%5B-122.29857490918852%2C%2037.89280276281677%5D%2C%20%5B-122.29857231744641%2C%2037.892794342744914%5D%2C%20%5B-122.29855046514471%2C%2037.89272182927687%5D%2C%20%5B-122.29849948764432%2C%2037.89255349913711%5D%2C%20%5B-122.2984455284454%2C%2037.89238583250817%5D%2C%20%5B-122.2983965858735%2C%2037.892234003713604%5D%2C%20%5B-122.29839589073117%2C%2037.892231835987815%5D%2C%20%5B-122.29834536855064%2C%2037.89207346107527%5D%2C%20%5B-122.2983229071169%2C%2037.892006073797766%5D%2C%20%5B-122.29832168481904%2C%2037.892002374838306%5D%2C%20%5B-122.29826468734271%2C%2037.891828374724874%5D%2C%20%5B-122.29820769008455%2C%2037.89165437527758%5D%2C%20%5B-122.2981506926511%2C%2037.89148037529528%5D%2C%20%5B-122.29814974574604%2C%2037.89147746456804%5D%2C%20%5B-122.29812874664111%2C%2037.891412464374916%5D%2C%20%5B-122.29812693128952%2C%2037.89140676760285%5D%2C%20%5B-122.29807387142215%2C%2037.891237932840674%5D%2C%20%5B-122.29805791990783%2C%2037.89119007618315%5D%2C%20%5B-122.29805669758149%2C%2037.89118637713788%5D%2C%20%5B-122.29804523658004%2C%2037.89115138941812%5D%2C%20%5B-122.29795067292457%2C%2037.891034528350744%5D%2C%20%5B-122.29794340477%2C%2037.891024493148414%5D%2C%20%5B-122.29793523578839%2C%2037.89101490014828%5D%2C%20%5B-122.29791567072975%2C%2037.890986200496314%5D%2C%20%5B-122.2978951790107%2C%2037.89095790735644%5D%2C%20%5B-122.29788919090383%2C%2037.89094735764974%5D%2C%20%5B-122.29788225144549%2C%2037.890937178258085%5D%2C%20%5B-122.29786634130846%2C%2037.890907101736445%5D%2C%20%5B-122.29784945853687%2C%2037.890877358011146%5D%2C%20%5B-122.29784480814327%2C%2037.89086639540102%5D%2C%20%5B-122.29783916503597%2C%2037.89085572765255%5D%2C%20%5B-122.2978270630342%2C%2037.89082456391881%5D%2C%20%5B-122.29781395179056%2C%2037.89079365606048%5D%2C%20%5B-122.29781068389215%2C%2037.890782386124144%5D%2C%20%5B-122.29780639147842%2C%2037.8907713327565%5D%2C%20%5B-122.29779821414924%2C%2037.89073938193777%5D%2C%20%5B-122.29778900069034%2C%2037.89070760760908%5D%2C%20%5B-122.2977871467543%2C%2037.89069613888326%5D%2C%20%5B-122.29778424636815%2C%2037.890684806347366%5D%2C%20%5B-122.29775163607644%2C%2037.89051482424316%5D%2C%20%5B-122.29772244622781%2C%2037.89036719584617%5D%2C%20%5B-122.2976850168198%2C%2037.89023274833094%5D%2C%20%5B-122.29764078287616%2C%2037.89009561682306%5D%2C%20%5B-122.2976279376546%2C%2037.89005707945702%5D%2C%20%5B-122.29762395254988%2C%2037.89004477131306%5D%2C%20%5B-122.29756895497252%2C%2037.88986977080638%5D%2C%20%5B-122.29754713581505%2C%2037.88978181097777%5D%2C%20%5B-122.29753650489045%2C%2037.88969257228753%5D%2C%20%5B-122.29753716770912%2C%2037.88960294075326%5D%2C%20%5B-122.29753944939901%2C%2037.88958592167258%5D%2C%20%5B-122.29750718629032%2C%2037.88949076861939%5D%2C%20%5B-122.29744818883252%2C%2037.88931676858193%5D%2C%20%5B-122.29744333383597%2C%2037.88930194625355%5D%2C%20%5B-122.29738833624204%2C%2037.889127945747155%5D%2C%20%5B-122.29738680891973%2C%2037.889123055410124%5D%2C%20%5B-122.29733384207161%2C%2037.88895139537967%5D%2C%20%5B-122.29731290603664%2C%2037.888885729322084%5D%2C%20%5B-122.2973111702064%2C%2037.88888021130204%5D%2C%20%5B-122.29725757063008%2C%2037.88870749334287%5D%2C%20%5B-122.29720316031923%2C%2037.88853436149787%5D%2C%20%5B-122.29714878790328%2C%2037.888362338921574%5D%2C%20%5B-122.2971275304041%2C%2037.88833544153892%5D%2C%20%5B-122.29707898510814%2C%2037.88825853080549%5D%2C%20%5B-122.29704498579216%2C%2037.88819753051018%5D%2C%20%5B-122.29700945237913%2C%2037.888125543396015%5D%2C%20%5B-122.29698186933513%2C%2037.888051412644735%5D%2C%20%5B-122.29693421259378%2C%2037.887899499639744%5D%2C%20%5B-122.29692155772773%2C%2037.88785958628244%5D%2C%20%5B-122.2969209866869%2C%2037.88785777727124%5D%2C%20%5B-122.29686635603682%2C%2037.88768394431862%5D%2C%20%5B-122.2968191367597%2C%2037.88753539345369%5D%2C%20%5B-122.29676355168849%2C%2037.887362674787845%5D%2C%20%5B-122.29676199449115%2C%2037.88735777863354%5D%2C%20%5B-122.29670776712713%2C%2037.887185228927265%5D%2C%20%5B-122.29665255714178%2C%2037.88701367575749%5D%2C%20%5B-122.29664768980321%2C%2037.88699796113397%5D%2C%20%5B-122.2966115914569%2C%2037.88687670170397%5D%2C%20%5B-122.29655776721917%2C%2037.88671238873337%5D%2C%20%5B-122.29655737305393%2C%2037.88671118198943%5D%2C%20%5B-122.29650037545935%2C%2037.886536181465516%5D%2C%20%5B-122.29649956496323%2C%2037.88653367808953%5D%2C%20%5B-122.29644416517795%2C%2037.88636153516762%5D%2C%20%5B-122.29638777539792%2C%2037.88618939020737%5D%2C%20%5B-122.29638657040078%2C%2037.8861856790564%5D%2C%20%5B-122.2963309760954%2C%2037.8860129317038%5D%2C%20%5B-122.2962743863562%2C%2037.88583918342116%5D%2C%20%5B-122.29627357585393%2C%2037.88583668002616%5D%2C%20%5B-122.2962175782513%2C%2037.885662679511135%5D%2C%20%5B-122.29621587279516%2C%2037.885657311058395%5D%2C%20%5B-122.29617887442919%2C%2037.88553931071753%5D%2C%20%5B-122.29617786486124%2C%2037.88553606503583%5D%2C%20%5B-122.29612444143328%2C%2037.88536292527517%5D%2C%20%5B-122.29607002802027%2C%2037.885189783557216%5D%2C%20%5B-122.29606922781517%2C%2037.88518722125937%5D%2C%20%5B-122.2960152302293%2C%2037.88501322076168%5D%2C%20%5B-122.29601487303292%2C%2037.8850120664421%5D%2C%20%5B-122.29596087546344%2C%2037.884837065944176%5D%2C%20%5B-122.29595973544798%2C%2037.884833336723354%5D%2C%20%5B-122.29590673799582%2C%2037.884658336594796%5D%2C%20%5B-122.29585421898877%2C%2037.884484916318605%5D%2C%20%5B-122.29581870620645%2C%2037.88436949423343%5D%2C%20%5B-122.29581774272471%2C%2037.884366337957296%5D%2C%20%5B-122.29576531043077%2C%2037.884193204012796%5D%2C%20%5B-122.29571436691569%2C%2037.884028101401235%5D%2C%20%5B-122.2956590344863%2C%2037.883862096775125%5D%2C%20%5B-122.29565781218169%2C%2037.88385839779255%5D%2C%20%5B-122.29560142108191%2C%2037.88368624881291%5D%2C%20%5B-122.29554404013821%2C%2037.88351409838688%5D%2C%20%5B-122.29548604265578%2C%2037.883340098267574%5D%2C%20%5B-122.295482501734%2C%2037.883329198635984%5D%2C%20%5B-122.29543250391795%2C%2037.88317119817567%5D%2C%20%5B-122.29540898798078%2C%2037.88309672802092%5D%2C%20%5B-122.29535362103066%2C%2037.88292468711879%5D%2C%20%5B-122.29535323922461%2C%2037.88292349733771%5D%2C%20%5B-122.29532924030882%2C%2037.88284849727255%5D%2C%20%5B-122.29527343356435%2C%2037.88267409316696%5D%2C%20%5B-122.2952176276551%2C%2037.88250068829706%5D%2C%20%5B-122.29521623028899%2C%2037.882496300089976%5D%2C%20%5B-122.29519392321907%2C%2037.88242549607776%5D%2C%20%5B-122.2951386315141%2C%2037.882253688983525%5D%2C%20%5B-122.29513824979652%2C%2037.88225249947884%5D%2C%20%5B-122.2950824428747%2C%2037.882078094819114%5D%2C%20%5B-122.29502663717251%2C%2037.881904690592805%5D%2C%20%5B-122.2949706396852%2C%2037.88173069043698%5D%2C%20%5B-122.29497025796542%2C%2037.88172950092542%5D%2C%20%5B-122.29491504552394%2C%2037.8815569541069%5D%2C%20%5B-122.29488022898333%2C%2037.881450667354095%5D%2C%20%5B-122.29482468159887%2C%2037.8813476834857%5D%2C%20%5B-122.2948237141253%2C%2037.88134588438682%5D%2C%20%5B-122.29473471603134%2C%2037.881179883609185%5D%2C%20%5B-122.29473062816675%2C%2037.88117107909552%5D%2C%20%5B-122.29472569159473%2C%2037.881162550453894%5D%2C%20%5B-122.29471139647306%2C%2037.88112965751016%5D%2C%20%5B-122.29469623714645%2C%2037.881097007031585%5D%2C%20%5B-122.29469326117835%2C%2037.881087928319516%5D%2C%20%5B-122.29468940636812%2C%2037.88107905842095%5D%2C%20%5B-122.294679260493%2C%2037.88104521674579%5D%2C%20%5B-122.29466822449386%2C%2037.88101154943766%5D%2C%20%5B-122.29466638907897%2C%2037.88100228396114%5D%2C%20%5B-122.29466365315115%2C%2037.880993158228456%5D%2C%20%5B-122.29465775421953%2C%2037.88095869373872%5D%2C%20%5B-122.29465094781705%2C%2037.880924333838244%5D%2C%20%5B-122.29465027062754%2C%2037.880914970829465%5D%2C%20%5B-122.29464867992682%2C%2037.880905677149116%5D%2C%20%5B-122.29463168228673%2C%2037.88074867698839%5D%2C%20%5B-122.29463152138598%2C%2037.88074717601422%5D%2C%20%5B-122.29462011313332%2C%2037.88063968303198%5D%2C%20%5B-122.29456765927651%2C%2037.88047669392181%5D%2C%20%5B-122.29456610196165%2C%2037.880471797397966%5D%2C%20%5B-122.29451110438357%2C%2037.880296796891514%5D%2C%20%5B-122.2945106043677%2C%2037.88029519960913%5D%2C%20%5B-122.29448261941889%2C%2037.88020545053028%5D%2C%20%5B-122.29442766618179%2C%2037.88003469515022%5D%2C%20%5B-122.29442370512463%2C%2037.880022001480214%5D%2C%20%5B-122.2944126280656%2C%2037.87998536018896%5D%2C%20%5B-122.29435866977292%2C%2037.87981769637793%5D%2C%20%5B-122.29430267229019%2C%2037.879643696236826%5D%2C%20%5B-122.29430229056173%2C%2037.87964250669823%5D%2C%20%5B-122.29424648364524%2C%2037.879468102055796%5D%2C%20%5B-122.2941906778535%2C%2037.87929469755187%5D%2C%20%5B-122.29413468046073%2C%2037.8791206976904%5D%2C%20%5B-122.2941342987301%2C%2037.87911950814502%5D%2C%20%5B-122.29407908631076%2C%2037.878946961396345%5D%2C%20%5B-122.29402289152127%2C%2037.87877541169732%5D%2C%20%5B-122.29396589404917%2C%2037.87860141159992%5D%2C%20%5B-122.29396515560231%2C%2037.8785991451371%5D%2C%20%5B-122.29393032890451%2C%2037.87849167501705%5D%2C%20%5B-122.29387370084336%2C%2037.87831780907896%5D%2C%20%5B-122.29381690132423%2C%2037.878144413284915%5D%2C%20%5B-122.293759904084%2C%2037.87797041389543%5D%2C%20%5B-122.29370290663533%2C%2037.877796413869675%5D%2C%20%5B-122.29370240499436%2C%2037.8777948768835%5D%2C%20%5B-122.29366240668512%2C%2037.87767187651592%5D%2C%20%5B-122.29366170344966%2C%2037.877669702721875%5D%2C%20%5B-122.29360570601541%2C%2037.87749570273185%5D%2C%20%5B-122.29355030644076%2C%2037.87732356046645%5D%2C%20%5B-122.29349391671977%2C%2037.87715141568844%5D%2C%20%5B-122.29349232954395%2C%2037.87714651360322%5D%2C%20%5B-122.29343711714137%2C%2037.876973966907315%5D%2C%20%5B-122.29338092217627%2C%2037.876802416672724%5D%2C%20%5B-122.29337971705608%2C%2037.87679870514283%5D%2C%20%5B-122.2933243173335%2C%2037.876626562417954%5D%2C%20%5B-122.29326792761707%2C%2037.87645441765407%5D%2C%20%5B-122.29326753340801%2C%2037.87645321077603%5D%2C%20%5B-122.29321053581273%2C%2037.876278210252295%5D%2C%20%5B-122.29320972522602%2C%2037.8762757065966%5D%2C%20%5B-122.2931543255068%2C%2037.87610356388221%5D%2C%20%5B-122.2930979357938%2C%2037.87593141912888%5D%2C%20%5B-122.2930931700904%2C%2037.87591633430216%5D%2C%20%5B-122.29307217105085%2C%2037.875847334108464%5D%2C%20%5B-122.29307187546722%2C%2037.87584636047382%5D%2C%20%5B-122.29301887806787%2C%2037.875671360521814%5D%2C%20%5B-122.2929660282815%2C%2037.875496847996004%5D%2C%20%5B-122.29294825961945%2C%2037.8754384624229%5D%2C%20%5B-122.29290063966452%2C%2037.875296530049916%5D%2C%20%5B-122.29290016889276%2C%2037.87529512230255%5D%2C%20%5B-122.2928421714522%2C%2037.875121122310674%5D%2C%20%5B-122.2927841739947%2C%2037.874947122268125%5D%2C%20%5B-122.29278295157243%2C%2037.87494342292949%5D%2C%20%5B-122.29272595396044%2C%2037.87476942240591%5D%2C%20%5B-122.2927255597442%2C%2037.874768215505874%5D%2C%20%5B-122.2926693622146%2C%2037.8745956714413%5D%2C%20%5B-122.29261218217802%2C%2037.87442412376395%5D%2C%20%5B-122.29261095974886%2C%2037.87442042440442%5D%2C%20%5B-122.29255396230131%2C%2037.87424642438291%5D%2C%20%5B-122.29249696504385%2C%2037.87407242494177%5D%2C%20%5B-122.2924425461356%2C%2037.87390629662239%5D%2C%20%5B-122.29242030530608%2C%2037.87384313003364%5D%2C%20%5B-122.29241912825808%2C%2037.87383976175518%5D%2C%20%5B-122.29235913060283%2C%2037.87366676120618%5D%2C%20%5B-122.29235376623039%2C%2037.87365071389363%5D%2C%20%5B-122.29229817197927%2C%2037.87347796671231%5D%2C%20%5B-122.29224177920656%2C%2037.873304823183204%5D%2C%20%5B-122.29218497974453%2C%2037.87313142756438%5D%2C%20%5B-122.29212798243461%2C%2037.872957427963385%5D%2C%20%5B-122.29207098500834%2C%2037.87278342800713%5D%2C%20%5B-122.29206859180758%2C%2037.87277599150594%5D%2C%20%5B-122.29201359421252%2C%2037.87260199099965%5D%2C%20%5B-122.2920132247826%2C%2037.87260081885351%5D%2C%20%5B-122.29195899754234%2C%2037.87242826954464%5D%2C%20%5B-122.2919037876832%2C%2037.87225671677036%5D%2C%20%5B-122.2919022302279%2C%2037.872251819805015%5D%2C%20%5B-122.29184741717548%2C%2037.872077406456484%5D%2C%20%5B-122.2917935906738%2C%2037.87190711104281%5D%2C%20%5B-122.29173760681601%2C%2037.871735223005345%5D%2C%20%5B-122.29173679618931%2C%2037.87173271922604%5D%2C%20%5B-122.29168136387243%2C%2037.871560475222424%5D%2C%20%5B-122.29166393886639%2C%2037.87150722975394%5D%2C%20%5B-122.29166279976609%2C%2037.87150371986255%5D%2C%20%5B-122.2916074000776%2C%2037.8713315772448%5D%2C%20%5B-122.29155101057866%2C%2037.871159433146005%5D%2C%20%5B-122.29149401311582%2C%2037.870985433078545%5D%2C%20%5B-122.29149242583337%2C%2037.87098053066405%5D%2C%20%5B-122.29143721348314%2C%2037.87080798413321%5D%2C%20%5B-122.29138101857143%2C%2037.87063643406289%5D%2C%20%5B-122.29137981337041%2C%2037.870632722284185%5D%2C%20%5B-122.29132381576675%2C%2037.87045872176932%5D%2C%20%5B-122.29132343399996%2C%2037.870457532111296%5D%2C%20%5B-122.29126762710193%2C%2037.87028312752876%5D%2C%20%5B-122.29121182135232%2C%2037.870109723157945%5D%2C%20%5B-122.29120256002099%2C%2037.87008094558495%5D%2C%20%5B-122.29114593001884%2C%2037.86996968111595%5D%2C%20%5B-122.29114420654761%2C%2037.869966274854264%5D%2C%20%5B-122.29106020853285%2C%2037.869799274113745%5D%2C%20%5B-122.2910437822396%2C%2037.86976128282588%5D%2C%20%5B-122.2910269295303%2C%2037.86972340835497%5D%2C%20%5B-122.29102572667253%2C%2037.869719523251284%5D%2C%20%5B-122.2910240902147%2C%2037.86971573838945%5D%2C%20%5B-122.29101245517101%2C%2037.86967665767347%5D%2C%20%5B-122.29100038127135%2C%2037.86963766018186%5D%2C%20%5B-122.2909996660833%2C%2037.86963370061363%5D%2C%20%5B-122.29099850695037%2C%2037.86962980721834%5D%2C%20%5B-122.2909917751926%2C%2037.869590013446185%5D%2C%20%5B-122.29098459636502%2C%2037.86955026850407%5D%2C%20%5B-122.29096859840458%2C%2037.86941426835293%5D%2C%20%5B-122.29096812212123%2C%2037.869410114974876%5D%2C%20%5B-122.29095981581612%2C%2037.86933576357768%5D%2C%20%5B-122.29095170817246%2C%2037.86931646669646%5D%2C%20%5B-122.29092845279993%2C%2037.86925353544343%5D%2C%20%5B-122.29087324046435%2C%2037.86908098895882%5D%2C%20%5B-122.29081704556758%2C%2037.86890943893456%5D%2C%20%5B-122.29081584034394%2C%2037.86890572708611%5D%2C%20%5B-122.29075984274013%2C%2037.86873172657124%5D%2C%20%5B-122.29075946096611%2C%2037.868730536890816%5D%2C%20%5B-122.29070365407154%2C%2037.868556132319355%5D%2C%20%5B-122.29064790345406%2C%2037.868382899260524%5D%2C%20%5B-122.29059950454631%2C%2037.86823275701964%5D%2C%20%5B-122.29054305883857%2C%2037.868060441329554%5D%2C%20%5B-122.29054029566258%2C%2037.868051830962095%5D%2C%20%5B-122.29051829663099%2C%2037.86798183075952%5D%2C%20%5B-122.29051599808878%2C%2037.867974381285556%5D%2C%20%5B-122.29046356589701%2C%2037.86780124768245%5D%2C%20%5B-122.29041014377417%2C%2037.86762811214671%5D%2C%20%5B-122.29040900354018%2C%2037.867624382211126%5D%2C%20%5B-122.29035844371867%2C%2037.86745743127839%5D%2C%20%5B-122.2903040708588%2C%2037.867291443499035%5D%2C%20%5B-122.29030286561391%2C%2037.86728773158523%5D%2C%20%5B-122.29024686816113%2C%2037.86711373153999%5D%2C%20%5B-122.2901908707275%2C%2037.86693973155432%5D%2C%20%5B-122.290190488946%2C%2037.86693854185051%5D%2C%20%5B-122.29013468205507%2C%2037.86676413729089%5D%2C%20%5B-122.29007947412403%2C%2037.86659259051786%5D%2C%20%5B-122.29002308465763%2C%2037.866420446519555%5D%2C%20%5B-122.28996608719284%2C%2037.866246446447214%5D%2C%20%5B-122.28996569294013%2C%2037.86624523943553%5D%2C%20%5B-122.28990869534411%2C%2037.86607023891192%5D%2C%20%5B-122.2899078846673%2C%2037.866067734977925%5D%2C%20%5B-122.28985248501385%2C%2037.86589559247027%5D%2C%20%5B-122.28979609551011%2C%2037.86572344835816%5D%2C%20%5B-122.2897390982361%2C%2037.86554944886843%5D%2C%20%5B-122.2896821008068%2C%2037.86537544890453%5D%2C%20%5B-122.28968051342738%2C%2037.86537054619055%5D%2C%20%5B-122.28962530112483%2C%2037.86519799980998%5D%2C%20%5B-122.28956910647362%2C%2037.86502645053619%5D%2C%20%5B-122.28951210898133%2C%2037.86485245038024%5D%2C%20%5B-122.28950926062741%2C%2037.864843568806336%5D%2C%20%5B-122.28946707449082%2C%2037.86470915550395%5D%2C%20%5B-122.28941190823984%2C%2037.86453773823413%5D%2C%20%5B-122.28941017662295%2C%2037.8645322863459%5D%2C%20%5B-122.28936903378222%2C%2037.864401014921704%5D%2C%20%5B-122.28931391304981%2C%2037.8642297390908%5D%2C%20%5B-122.289312725232%2C%2037.86422601493133%5D%2C%20%5B-122.28925772763633%2C%2037.864052014425226%5D%2C%20%5B-122.2892573581716%2C%2037.8640508421686%5D%2C%20%5B-122.28920270374854%2C%2037.86387693357674%5D%2C%20%5B-122.28917648316389%2C%2037.863794383463336%5D%2C%20%5B-122.28912152050992%2C%2037.863623598834884%5D%2C%20%5B-122.28906513087844%2C%2037.86345145433326%5D%2C%20%5B-122.28906354346574%2C%2037.86344655151639%5D%2C%20%5B-122.28900773658181%2C%2037.86327214697951%5D%2C%20%5B-122.2889519307119%2C%2037.86309874223644%5D%2C%20%5B-122.28894972731636%2C%2037.86309177948502%5D%2C%20%5B-122.28893681225863%2C%2037.86305026483304%5D%2C%20%5B-122.28888193426236%2C%2037.86287974325129%5D%2C%20%5B-122.28882593684895%2C%2037.86270574332937%5D%2C%20%5B-122.28882555504981%2C%2037.862704553570524%5D%2C%20%5B-122.28876974816744%2C%2037.86253014903872%5D%2C%20%5B-122.28871394229894%2C%2037.86235674430014%5D%2C%20%5B-122.28871238467437%2C%2037.862351846802696%5D%2C%20%5B-122.28865815752022%2C%2037.86217929777007%5D%2C%20%5B-122.28862050880544%2C%2037.862062312567986%5D%2C%20%5B-122.28857143460786%2C%2037.861963515575844%5D%2C%20%5B-122.28848833689636%2C%2037.86179830477111%5D%2C%20%5B-122.2884794617672%2C%2037.86177777834396%5D%2C%20%5B-122.28846930080012%2C%2037.86175762779593%5D%2C%20%5B-122.28846141347823%2C%2037.86173603616666%5D%2C%20%5B-122.28845221855946%2C%2037.861714770091424%5D%2C%20%5B-122.28844593183818%2C%2037.86169365497129%5D%2C%20%5B-122.28843831885473%2C%2037.861672814309614%5D%2C%20%5B-122.28843314728513%2C%2037.861650715639605%5D%2C%20%5B-122.28842663404033%2C%2037.861628839659545%5D%2C%20%5B-122.28842299626318%2C%2037.861607339198436%5D%2C%20%5B-122.28841800457235%2C%2037.861586009132%5D%2C%20%5B-122.28838717549893%2C%2037.8614049966412%5D%2C%20%5B-122.28836508248827%2C%2037.8612774163205%5D%2C%20%5B-122.28832496131531%2C%2037.86115274831772%5D%2C%20%5B-122.28826896381717%2C%2037.86097874813292%5D%2C%20%5B-122.28826858201084%2C%2037.86097755835175%5D%2C%20%5B-122.28821336974562%2C%2037.86080501208889%5D%2C%20%5B-122.2881571749205%2C%2037.860633462285215%5D%2C%20%5B-122.28815596958832%2C%2037.86062975010252%5D%2C%20%5B-122.28810116648425%2C%2037.86045946124939%5D%2C%20%5B-122.28804440349084%2C%2037.86028916475682%5D%2C%20%5B-122.28798640621396%2C%2037.86011516525932%5D%2C%20%5B-122.28792840875033%2C%2037.85994116520175%5D%2C%20%5B-122.28792718612998%2C%2037.85993746526375%5D%2C%20%5B-122.28787079518536%2C%2037.85976531676306%5D%2C%20%5B-122.28781341419344%2C%2037.85959316619762%5D%2C%20%5B-122.28780541905672%2C%2037.859567674728154%5D%2C%20%5B-122.28776042119793%2C%2037.85941467431243%5D%2C%20%5B-122.28775990385863%2C%2037.859412907189956%5D%2C%20%5B-122.28770949925594%2C%2037.85923994144052%5D%2C%20%5B-122.28766010649167%2C%2037.85907397350326%5D%2C%20%5B-122.28765890919118%2C%2037.859069908068285%5D%2C%20%5B-122.28760845903781%2C%2037.858896786009105%5D%2C%20%5B-122.28755948690232%2C%2037.858731967751105%5D%2C%20%5B-122.28753215489951%2C%2037.858647234666975%5D%2C%20%5B-122.28753044254304%2C%2037.85864185692313%5D%2C%20%5B-122.28747621542009%2C%2037.85846930799063%5D%2C%20%5B-122.28742100568043%2C%2037.85829775559088%5D%2C%20%5B-122.28736787778963%2C%2037.85813235025501%5D%2C%20%5B-122.2873663826538%2C%2037.85812764213614%5D%2C%20%5B-122.28734018739517%2C%2037.85804420147178%5D%2C%20%5B-122.28728501231646%2C%2037.85787275677327%5D%2C%20%5B-122.28728416679725%2C%2037.85787011272769%5D%2C%20%5B-122.28725016827403%2C%2037.85776311241492%5D%2C%20%5B-122.28724829792274%2C%2037.857757139632575%5D%2C%20%5B-122.28719487466951%2C%2037.85758400044478%5D%2C%20%5B-122.2871449272966%2C%2037.857425069558865%5D%2C%20%5B-122.28708797825337%2C%2037.85726615684713%5D%2C%20%5B-122.28708667508016%2C%2037.857262490841705%5D%2C%20%5B-122.28702567741458%2C%2037.85708949028444%5D%2C%20%5B-122.2870180867704%2C%2037.85706682343547%5D%2C%20%5B-122.28698508820611%2C%2037.85696282313193%5D%2C%20%5B-122.2869304302076%2C%2037.85678989856024%5D%2C%20%5B-122.28687503191183%2C%2037.85661776026459%5D%2C%20%5B-122.28687347418918%2C%2037.856612862458725%5D%2C%20%5B-122.28682017697189%2C%2037.856443272463096%5D%2C%20%5B-122.28677496399133%2C%2037.85630666546897%5D%2C%20%5B-122.28677424290404%2C%2037.85630447551733%5D%2C%20%5B-122.28671750032606%2C%2037.85613125355963%5D%2C%20%5B-122.28668475849183%2C%2037.85603203146073%5D%2C%20%5B-122.28668424718568%2C%2037.85603047629068%5D%2C%20%5B-122.28662724974674%2C%2037.85585647629956%5D%2C%20%5B-122.28657025245137%2C%2037.855682476746814%5D%2C%20%5B-122.28651325501045%2C%2037.85550847674974%5D%2C%20%5B-122.28651286071175%2C%2037.85550726959736%5D%2C%20%5B-122.28645666334766%2C%2037.855334726045434%5D%2C%20%5B-122.28639948347968%2C%2037.85516317887815%5D%2C%20%5B-122.28639586680256%2C%2037.85515203980239%5D%2C%20%5B-122.28634145845588%2C%2037.85497990355918%5D%2C%20%5B-122.28628606017188%2C%2037.85480776530041%5D%2C%20%5B-122.28628450241827%2C%2037.854802867397346%5D%2C%20%5B-122.28622990259129%2C%2037.85462913253095%5D%2C%20%5B-122.28618868400883%2C%2037.85449958241807%5D%2C%20%5B-122.28613314505057%2C%2037.85432700704683%5D%2C%20%5B-122.28608322472014%2C%2037.8541722469621%5D%2C%20%5B-122.28608151233716%2C%2037.854166869132754%5D%2C%20%5B-122.28602728525173%2C%2037.85399432032086%5D%2C%20%5B-122.28597375643415%2C%2037.85382799103807%5D%2C%20%5B-122.28595151733882%2C%2037.853762197520695%5D%2C%20%5B-122.28595050578038%2C%2037.85375918392753%5D%2C%20%5B-122.2858925083312%2C%2037.853585183914745%5D%2C%20%5B-122.28583451107112%2C%2037.85341118446919%5D%2C%20%5B-122.28577651360041%2C%2037.85323718439173%5D%2C%20%5B-122.28577290444052%2C%2037.853226069103776%5D%2C%20%5B-122.28573699452554%2C%2037.853112471286344%5D%2C%20%5B-122.28568012308598%2C%2037.85298525471359%5D%2C%20%5B-122.28560428304283%2C%2037.85281879536725%5D%2C%20%5B-122.28560325051471%2C%2037.85281612467572%5D%2C%20%5B-122.28560191203697%2C%2037.85281354022923%5D%2C%20%5B-122.28558693320291%2C%2037.852773919012606%5D%2C%20%5B-122.28557164377726%2C%2037.852734371990806%5D%2C%20%5B-122.28557094739827%2C%2037.852731634162566%5D%2C%20%5B-122.28556993584851%2C%2037.852728958460084%5D%2C%20%5B-122.28555994233925%2C%2037.85268836752017%5D%2C%20%5B-122.28554963052873%2C%2037.852647826354%5D%2C%20%5B-122.28554927700429%2C%2037.852645047755985%5D%2C%20%5B-122.2855486021232%2C%2037.852642306566246%5D%2C%20%5B-122.28551560478724%2C%2037.852461306256515%5D%2C%20%5B-122.28551528709137%2C%2037.85245955134726%5D%2C%20%5B-122.2854911434801%2C%2037.85232524135635%5D%2C%20%5B-122.2854768773241%2C%2037.85227899709795%5D%2C%20%5B-122.28544545408344%2C%2037.85218186629443%5D%2C%20%5B-122.28544354338713%2C%2037.85217587456571%5D%2C%20%5B-122.28538931631847%2C%2037.8520033258075%5D%2C%20%5B-122.2853341066342%2C%2037.851831773581324%5D%2C%20%5B-122.28533363927274%2C%2037.85183031625651%5D%2C%20%5B-122.28530346772105%2C%2037.85173590415204%5D%2C%20%5B-122.28524731663761%2C%2037.85156448788341%5D%2C%20%5B-122.28523109475142%2C%2037.8515148072193%5D%2C%20%5B-122.28522892364653%2C%2037.8515080497932%5D%2C%20%5B-122.28517451532312%2C%2037.851335913624524%5D%2C%20%5B-122.28511911706278%2C%2037.85116377544021%5D%2C%20%5B-122.28511755924683%2C%2037.851158877341064%5D%2C%20%5B-122.2850639455443%2C%2037.85098828029856%5D%2C%20%5B-122.28504596366182%2C%2037.85093343309613%5D%2C%20%5B-122.28498855232053%2C%2037.85076119148088%5D%2C%20%5B-122.28498420165059%2C%2037.85074771695749%5D%2C%20%5B-122.28496015057992%2C%2037.8506707499038%5D%2C%20%5B-122.28490512742876%2C%2037.85049977728809%5D%2C%20%5B-122.28490356960144%2C%2037.85049487915318%5D%2C%20%5B-122.28485187475202%2C%2037.8503303878524%5D%2C%20%5B-122.28479549890925%2C%2037.85016783061857%5D%2C%20%5B-122.28479380227135%2C%2037.85016288318572%5D%2C%20%5B-122.28473480464008%2C%2037.849988882645334%5D%2C%20%5B-122.28472912373536%2C%2037.849971430805766%5D%2C%20%5B-122.28468512568763%2C%2037.84983043040072%5D%2C%20%5B-122.28468442147718%2C%2037.84982816094196%5D%2C%20%5B-122.28463117952904%2C%2037.84965560934823%5D%2C%20%5B-122.28457695490661%2C%2037.84948405436003%5D%2C%20%5B-122.28457542691497%2C%2037.84947916188007%5D%2C%20%5B-122.28452194743922%2C%2037.84930584048248%5D%2C%20%5B-122.28449130144323%2C%2037.849208151782555%5D%2C%20%5B-122.28443671569313%2C%2037.84903853830196%5D%2C%20%5B-122.28441929082722%2C%2037.84898529326327%5D%2C%20%5B-122.28441896260601%2C%2037.848984287926804%5D%2C%20%5B-122.28436216197301%2C%2037.848809892146875%5D%2C%20%5B-122.2843053625152%2C%2037.848636496546646%5D%2C%20%5B-122.28424836526032%2C%2037.84846249711923%5D%2C%20%5B-122.28419136782233%2C%2037.848288497132806%5D%2C%20%5B-122.28418993670574%2C%2037.8482840821963%5D%2C%20%5B-122.28415605089508%2C%2037.8481784333511%5D%2C%20%5B-122.28410016637761%2C%2037.84800478423178%5D%2C%20%5B-122.28409860850766%2C%2037.84799988596275%5D%2C%20%5B-122.28405945807307%2C%2037.847875310643865%5D%2C%20%5B-122.2840564108916%2C%2037.84786888960076%5D%2C%20%5B-122.283976325092%2C%2037.84770480660631%5D%2C%20%5B-122.28397465438688%2C%2037.8477013625815%5D%2C%20%5B-122.28389365642427%2C%2037.8475333618638%5D%2C%20%5B-122.2838872950961%2C%2037.847517931542264%5D%2C%20%5B-122.28387973448464%2C%2037.847502843083724%5D%2C%20%5B-122.28387000364984%2C%2037.847475988604806%5D%2C%20%5B-122.28385905415092%2C%2037.8474494289646%5D%2C%20%5B-122.28385463674593%2C%2037.847433580054826%5D%2C%20%5B-122.28384898344387%2C%2037.847417978438735%5D%2C%20%5B-122.28384262929764%2C%2037.847390499305384%5D%2C%20%5B-122.28383502579605%2C%2037.84736321916617%5D%2C%20%5B-122.28383259484997%2C%2037.84734710430314%5D%2C%20%5B-122.28382890329551%2C%2037.84733113978292%5D%2C%20%5B-122.28379890594253%2C%2037.84715213950091%5D%2C%20%5B-122.28379837030985%2C%2037.84714889803441%5D%2C%20%5B-122.28377714903682%2C%2037.84701863136704%5D%2C%20%5B-122.2837383262294%2C%2037.846890436519445%5D%2C%20%5B-122.28368652506248%2C%2037.846719386600505%5D%2C%20%5B-122.2836477681241%2C%2037.8465963275581%5D%2C%20%5B-122.2835934033783%2C%2037.846423341187226%5D%2C%20%5B-122.28353938842662%2C%2037.846255501345524%5D%2C%20%5B-122.28348324078019%2C%2037.846087050982675%5D%2C%20%5B-122.28342486839779%2C%2037.845914894472855%5D%2C%20%5B-122.283421263774%2C%2037.84590399071403%5D%2C%20%5B-122.28337326582412%2C%2037.84575499027299%5D%2C%20%5B-122.28337164359134%2C%2037.84574989210426%5D%2C%20%5B-122.28331717252317%2C%2037.84557656694732%5D%2C%20%5B-122.28329495604414%2C%2037.845507016502914%5D%2C%20%5B-122.28323920807131%2C%2037.84533379166615%5D%2C%20%5B-122.28323765015566%2C%2037.84532889325343%5D%2C%20%5B-122.28318342314455%2C%2037.84515634467996%5D%2C%20%5B-122.28312821351896%2C%2037.844984792637646%5D%2C%20%5B-122.28311229236414%2C%2037.844935155006404%5D%2C%20%5B-122.28305564626973%2C%2037.84476520922899%5D%2C%20%5B-122.28300864844199%2C%2037.84462420953578%5D%2C%20%5B-122.28295065119335%2C%2037.844450210126475%5D%2C%20%5B-122.28289265372285%2C%2037.844276210051916%5D%2C%20%5B-122.28289175427112%2C%2037.84427349438041%5D%2C%20%5B-122.28286575535334%2C%2037.844194494141774%5D%2C%20%5B-122.28286202207434%2C%2037.84418283065138%5D%2C%20%5B-122.28284802269765%2C%2037.844137830522456%5D%2C%20%5B-122.2827942684346%2C%2037.843964614731%5D%2C%20%5B-122.28273985841064%2C%2037.843791483809426%5D%2C%20%5B-122.28268504639682%2C%2037.84361807044762%5D%2C%20%5B-122.28268467684886%2C%2037.843616897926985%5D%2C%20%5B-122.28262986385276%2C%2037.843442484764374%5D%2C%20%5B-122.28257681567572%2C%2037.843274651813694%5D%2C%20%5B-122.28252128737749%2C%2037.84310805957378%5D%2C%20%5B-122.28246291501479%2C%2037.84293590312269%5D%2C%20%5B-122.28246167507959%2C%2037.84293221493143%5D%2C%20%5B-122.28240367745663%2C%2037.84275821439969%5D%2C%20%5B-122.28240168825857%2C%2037.84275216120395%5D%2C%20%5B-122.28235569021004%2C%2037.84261016078147%5D%2C%20%5B-122.282354868722%2C%2037.84260760923134%5D%2C%20%5B-122.2822990618801%2C%2037.842433204830634%5D%2C%20%5B-122.28224346133739%2C%2037.84226043810395%5D%2C%20%5B-122.28221006442156%2C%2037.842157295886125%5D%2C%20%5B-122.28217249483784%2C%2037.84204260473319%5D%2C%20%5B-122.28211644126685%2C%2037.84193375346469%5D%2C%20%5B-122.28203078795183%2C%2037.84177031862234%5D%2C%20%5B-122.2820173559267%2C%2037.84174064927106%5D%2C%20%5B-122.28200287459146%2C%2037.84171129003274%5D%2C%20%5B-122.2819985512344%2C%2037.84169911245267%5D%2C%20%5B-122.28199316002431%2C%2037.8416872040481%5D%2C%20%5B-122.28198347126526%2C%2037.841656636740105%5D%2C%20%5B-122.28197269979759%2C%2037.84162629674255%5D%2C%20%5B-122.28196990710597%2C%2037.841613842791936%5D%2C%20%5B-122.2819660183303%2C%2037.841601573974565%5D%2C%20%5B-122.28196016613336%2C%2037.84157040309257%5D%2C%20%5B-122.28195320825645%2C%2037.84153937452918%5D%2C%20%5B-122.28194420908623%2C%2037.8414833744445%5D%2C%20%5B-122.28194373663666%2C%2037.841480394706196%5D%2C%20%5B-122.28191609229658%2C%2037.84130365137125%5D%2C%20%5B-122.28189550227748%2C%2037.84117725965351%5D%2C%20%5B-122.28187156588416%2C%2037.841099462598144%5D%2C%20%5B-122.28181884559113%2C%2037.84093445999829%5D%2C%20%5B-122.2817630879885%2C%2037.84076020947744%5D%2C%20%5B-122.28170742736862%2C%2037.840587256073825%5D%2C%20%5B-122.28167557452485%2C%2037.84048870685367%5D%2C%20%5B-122.28167528403074%2C%2037.84048780615559%5D%2C%20%5B-122.28161928664333%2C%2037.84031380631966%5D%2C%20%5B-122.28156369263962%2C%2037.840141059914885%5D%2C%20%5B-122.28150710310082%2C%2037.83996731225806%5D%2C%20%5B-122.28150629219336%2C%2037.83996480761175%5D%2C%20%5B-122.28145122330139%2C%2037.839793692882644%5D%2C%20%5B-122.2814094510338%2C%2037.83966739902081%5D%2C%20%5B-122.28135172864027%2C%2037.839494224212416%5D%2C%20%5B-122.2812937312061%2C%2037.83932022424772%5D%2C%20%5B-122.28129250831343%2C%2037.83931652348575%5D%2C%20%5B-122.28123551069896%2C%2037.83914252296265%5D%2C%20%5B-122.28123158814128%2C%2037.839130189705315%5D%2C%20%5B-122.28117759072768%2C%2037.83895518972359%5D%2C%20%5B-122.28112669933958%2C%2037.83879025606932%5D%2C%20%5B-122.28111209857295%2C%2037.83874726306131%5D%2C%20%5B-122.28105298328325%2C%2037.83857291579335%5D%2C%20%5B-122.28104842906309%2C%2037.83855904311421%5D%2C%20%5B-122.28100187097164%2C%2037.838412427861776%5D%2C%20%5B-122.28094631879371%2C%2037.838239811415775%5D%2C%20%5B-122.28094476075671%2C%2037.83823491262159%5D%2C%20%5B-122.28089111857501%2C%2037.838064224962274%5D%2C%20%5B-122.2808355301924%2C%2037.83789452648801%5D%2C%20%5B-122.28083453217862%2C%2037.83789145751339%5D%2C%20%5B-122.28079402979421%2C%2037.83776599319485%5D%2C%20%5B-122.2807381417078%2C%2037.83759537980523%5D%2C%20%5B-122.28068076086176%2C%2037.837423229682436%5D%2C%20%5B-122.28066893182184%2C%2037.83738423297408%5D%2C%20%5B-122.28064894895904%2C%2037.837311214731564%5D%2C%20%5B-122.2806279748787%2C%2037.83724964299601%5D%2C%20%5B-122.28060377558624%2C%2037.83718331635117%5D%2C%20%5B-122.2805939537136%2C%2037.837154624056964%5D%2C%20%5B-122.28056995474665%2C%2037.837079623836416%5D%2C%20%5B-122.28056793375964%2C%2037.83707320890505%5D%2C%20%5B-122.28051893594896%2C%2037.836915208453874%5D%2C%20%5B-122.28051777760075%2C%2037.836911438044964%5D%2C%20%5B-122.2804850807301%2C%2037.836804000271584%5D%2C%20%5B-122.28046854815992%2C%2037.83675353015672%5D%2C%20%5B-122.28041155073171%2C%2037.83657953020286%5D%2C%20%5B-122.28039448168316%2C%2037.836527317081554%5D%2C%20%5B-122.28033755442593%2C%2037.83635353134297%5D%2C%20%5B-122.28028055716045%2C%2037.836179531885975%5D%2C%20%5B-122.2802235598714%2C%2037.83600553235704%5D%2C%20%5B-122.28016656241466%2C%2037.835831532316085%5D%2C%20%5B-122.2801661680317%2C%2037.835830324905785%5D%2C%20%5B-122.28010917043353%2C%2037.83565532438256%5D%2C%20%5B-122.28010835948801%2C%2037.835652819618595%5D%2C%20%5B-122.28005263940724%2C%2037.83547968145665%5D%2C%20%5B-122.28000424441997%2C%2037.83533053912697%5D%2C%20%5B-122.27994757294158%2C%2037.83515753422028%5D%2C%20%5B-122.27994636727507%2C%2037.83515382100806%5D%2C%20%5B-122.27989096782096%2C%2037.834981679126855%5D%2C%20%5B-122.27983457837682%2C%2037.83480953520372%5D%2C%20%5B-122.2798295146822%2C%2037.83479346908995%5D%2C%20%5B-122.27977708269763%2C%2037.83462033617891%5D%2C%20%5B-122.27972671311255%2C%2037.834457093629936%5D%2C%20%5B-122.27967105024581%2C%2037.8342929282251%5D%2C%20%5B-122.27966981019571%2C%2037.834289239692175%5D%2C%20%5B-122.2796118127653%2C%2037.834115239739944%5D%2C%20%5B-122.2795546402215%2C%2037.833943714562494%5D%2C%20%5B-122.27949648530108%2C%2037.83377318517451%5D%2C%20%5B-122.27949481833963%2C%2037.83376824118516%5D%2C%20%5B-122.27943743614053%2C%2037.83359608701277%5D%2C%20%5B-122.27937906384085%2C%2037.833423930749426%5D%2C%20%5B-122.27937782377921%2C%2037.83342024218225%5D%2C%20%5B-122.2793198261556%2C%2037.83324624165063%5D%2C%20%5B-122.27931310383697%2C%2037.83322503084018%5D%2C%20%5B-122.2792671059686%2C%2037.833072030415984%5D%2C%20%5B-122.27926641836275%2C%2037.833069729830264%5D%2C%20%5B-122.2792144209087%2C%2037.83289472969691%5D%2C%20%5B-122.27916242368516%2C%2037.83271973033944%5D%2C%20%5B-122.27911509465825%2C%2037.83256044207452%5D%2C%20%5B-122.27910147366119%2C%2037.83252101119292%5D%2C%20%5B-122.27904171091575%2C%2037.832347692237825%5D%2C%20%5B-122.27900308867048%2C%2037.832236772409416%5D%2C%20%5B-122.2790015097721%2C%2037.83223219071693%5D%2C%20%5B-122.27895533373939%2C%2037.83209678744995%5D%2C%20%5B-122.27889502288609%2C%2037.83196610983339%5D%2C%20%5B-122.27881683823995%2C%2037.83179884897411%5D%2C%20%5B-122.27878331803214%2C%2037.831714643861055%5D%2C%20%5B-122.2787603980896%2C%2037.83162824645486%5D%2C%20%5B-122.27874829910868%2C%2037.831540488815854%5D%2C%20%5B-122.27874713757151%2C%2037.83145221610138%5D%2C%20%5B-122.27875692462581%2C%2037.831364278426285%5D%2C%20%5B-122.27877756597894%2C%2037.831277522675734%5D%2C%20%5B-122.27880886280748%2C%2037.83119278434959%5D%2C%20%5B-122.27885051367338%2C%2037.83111087951591%5D%2C%20%5B-122.27890211742826%2C%2037.831032596952646%5D%2C%20%5B-122.27896317707761%2C%2037.830958690551086%5D%2C%20%5B-122.27903310456821%2C%2037.83088987205647%5D%2C%20%5B-122.27911122645175%2C%2037.83082680421348%5D%2C%20%5B-122.27919679037102%2C%2037.830770094384846%5D%2C%20%5B-122.2792889723054%2C%2037.830720288702175%5D%2C%20%5B-122.27938688450648%2C%2037.83067786680724%5D%2C%20%5B-122.279489584047%2C%2037.830643237233254%5D%2C%20%5B-122.27959608190089%2C%2037.830616733471004%5D%2C%20%5B-122.27970535246722%2C%2037.83059861075743%5D%2C%20%5B-122.27981634344597%2C%2037.830589043618026%5D%2C%20%5B-122.27992798597097%2C%2037.83058812418642%5D%2C%20%5B-122.28003920490225%2C%2037.83059586131684%5D%2C%20%5B-122.28014892917857%2C%2037.830612180499166%5D%2C%20%5B-122.28025610213115%2C%2037.83063692457629%5D%2C%20%5B-122.2803596916583%2C%2037.83066985525733%5D%2C%20%5B-122.28045870016406%2C%2037.83071065541249%5D%2C%20%5B-122.2805521741645%2C%2037.83075893212638%5D%2C%20%5B-122.28063921346934%2C%2037.83081422048183%5D%2C%20%5B-122.28071897985087%2C%2037.83087598803651%5D%2C%20%5B-122.28079070511596%2C%2037.83094363995043%5D%2C%20%5B-122.28085369850443%2C%2037.83101652471362%5D%2C%20%5B-122.28090735334146%2C%2037.83109394042012%5D%2C%20%5B-122.28095115288092%2C%2037.83117514152729%5D%2C%20%5B-122.28103015495813%2C%2037.83134414082495%5D%2C%20%5B-122.28103177251545%2C%2037.831347623119385%5D%2C%20%5B-122.2811097746041%2C%2037.83151662242487%5D%2C%20%5B-122.28113948101327%2C%2037.83159079975927%5D%2C%20%5B-122.28119770150037%2C%2037.83176150673974%5D%2C%20%5B-122.28123590585612%2C%2037.831871217199186%5D%2C%20%5B-122.28123665498828%2C%2037.8318733789793%5D%2C%20%5B-122.28129658843062%2C%2037.83204717858285%5D%2C%20%5B-122.28131552014355%2C%2037.832101978587225%5D%2C%20%5B-122.28132556767245%2C%2037.832133259506556%5D%2C%20%5B-122.2813775701154%2C%2037.83230825902675%5D%2C%20%5B-122.28142957283647%2C%2037.83248325948282%5D%2C%20%5B-122.28148123363421%2C%2037.83265710929526%5D%2C%20%5B-122.28152369160861%2C%2037.832798321293374%5D%2C%20%5B-122.28157755435893%2C%2037.83295990241085%5D%2C%20%5B-122.28163593169688%2C%2037.83313205863856%5D%2C%20%5B-122.28163717255472%2C%2037.83313574925192%5D%2C%20%5B-122.28169435027495%2C%2037.833307274866506%5D%2C%20%5B-122.28175251018587%2C%2037.833477804221424%5D%2C%20%5B-122.28175417797874%2C%2037.83348275024626%5D%2C%20%5B-122.28181218035515%2C%2037.833656749714606%5D%2C%20%5B-122.28186956794808%2C%2037.83382890491803%5D%2C%20%5B-122.28192794529188%2C%2037.834001061162816%5D%2C%20%5B-122.28193433292702%2C%2037.83402078847787%5D%2C%20%5B-122.28198833535394%2C%2037.834195787980555%5D%2C%20%5B-122.28198947669851%2C%2037.834199521188346%5D%2C%20%5B-122.28204004057447%2C%2037.8343664692645%5D%2C%20%5B-122.2820944173803%2C%2037.834532454156104%5D%2C%20%5B-122.28209562380505%2C%2037.83453616936698%5D%2C%20%5B-122.28215102831837%2C%2037.83470831124178%5D%2C%20%5B-122.28220742281556%2C%2037.834880455139405%5D%2C%20%5B-122.28220807226256%2C%2037.834882446947354%5D%2C%20%5B-122.2822570743365%2C%2037.83503344649743%5D%2C%20%5B-122.28225763159203%2C%2037.83503517075642%5D%2C%20%5B-122.28231323075514%2C%2037.83520791740668%5D%2C%20%5B-122.28236962869447%2C%2037.835381061159964%5D%2C%20%5B-122.28242643334247%2C%2037.83555445704352%5D%2C%20%5B-122.2824834360601%2C%2037.83572845753511%5D%2C%20%5B-122.28254043877777%2C%2037.835902458026574%5D%2C%20%5B-122.28259744149548%2C%2037.836076458518136%5D%2C%20%5B-122.28261451262298%2C%2037.83612867330273%5D%2C%20%5B-122.28267144502536%2C%2037.836302459156656%5D%2C%20%5B-122.28269044604204%2C%2037.83636045965862%5D%2C%20%5B-122.28269521458881%2C%2037.836375552072454%5D%2C%20%5B-122.28272964210376%2C%2037.836488665568446%5D%2C%20%5B-122.28277706424959%2C%2037.83664157052811%5D%2C%20%5B-122.28279542830681%2C%2037.83669895557706%5D%2C%20%5B-122.2828172181306%2C%2037.83675867343596%5D%2C%20%5B-122.28282264520745%2C%2037.83677405862989%5D%2C%20%5B-122.2828536464445%2C%2037.83686505834614%5D%2C%20%5B-122.28286706118986%2C%2037.83690875695366%5D%2C%20%5B-122.2828876973392%2C%2037.83698415420172%5D%2C%20%5B-122.28293923478529%2C%2037.83713875969089%5D%2C%20%5B-122.28294045847777%2C%2037.837142462544044%5D%2C%20%5B-122.28299746086319%2C%2037.837316462020944%5D%2C%20%5B-122.28299845953107%2C%2037.837319532727314%5D%2C%20%5B-122.28303896564684%2C%2037.837444997177634%5D%2C%20%5B-122.28309546556463%2C%2037.83761746287128%5D%2C%20%5B-122.28309823043315%2C%2037.83762607771597%5D%2C%20%5B-122.28315246246461%2C%2037.83779862609787%5D%2C%20%5B-122.28320767707395%2C%2037.83797017792995%5D%2C%20%5B-122.28320856244513%2C%2037.83797294716179%5D%2C%20%5B-122.28325335708196%2C%2037.83811399608858%5D%2C%20%5B-122.28330995346462%2C%2037.838280900222045%5D%2C%20%5B-122.28332789530826%2C%2037.83833372670348%5D%2C%20%5B-122.2833344004172%2C%2037.83835380013138%5D%2C%20%5B-122.28338840284447%2C%2037.838528799634034%5D%2C%20%5B-122.28344049925818%2C%2037.838697622550605%5D%2C%20%5B-122.28349487853708%2C%2037.838863614998836%5D%2C%20%5B-122.28355226444089%2C%2037.839035765125224%5D%2C%20%5B-122.28361026716105%2C%2037.83920976562364%5D%2C%20%5B-122.28361081537555%2C%2037.83921141654513%5D%2C%20%5B-122.28365381715423%2C%2037.83934141615077%5D%2C%20%5B-122.28365569888595%2C%2037.839347182762715%5D%2C%20%5B-122.28371129806827%2C%2037.839519929471805%5D%2C%20%5B-122.28376789270587%2C%2037.839693677093486%5D%2C%20%5B-122.28376870433283%2C%2037.83969618373441%5D%2C%20%5B-122.28382470672697%2C%2037.83987018321986%5D%2C%20%5B-122.28388056447747%2C%2037.84004373329849%5D%2C%20%5B-122.28391242028475%2C%2037.840142282717636%5D%2C%20%5B-122.28391271130924%2C%2037.84014318497881%5D%2C%20%5B-122.28396871370343%2C%2037.84031718446432%5D%2C%20%5B-122.28396909626844%2C%2037.8403183765004%5D%2C%20%5B-122.28402509867911%2C%2037.84049337598563%5D%2C%20%5B-122.28407919941954%2C%2037.84066268323931%5D%2C%20%5B-122.2840816131454%2C%2037.84067037963166%5D%2C%20%5B-122.28412161494954%2C%2037.8408003792631%5D%2C%20%5B-122.2841445341732%2C%2037.84089808279272%5D%2C%20%5B-122.28417353680884%2C%2037.84107608252006%5D%2C%20%5B-122.28417425738104%2C%2037.84108059492367%5D%2C%20%5B-122.28419196602839%2C%2037.84119379297376%5D%2C%20%5B-122.28422020431829%2C%2037.841247671400055%5D%2C%20%5B-122.28422287388273%2C%2037.841252809708614%5D%2C%20%5B-122.28430887584167%2C%2037.84141980895337%5D%2C%20%5B-122.2843565270659%2C%2037.841533474946665%5D%2C%20%5B-122.28441352945157%2C%2037.84170747442355%5D%2C%20%5B-122.28441432419211%2C%2037.84170991443324%5D%2C%20%5B-122.28444832563517%2C%2037.84181491412099%5D%2C%20%5B-122.28444873742087%2C%2037.841816189636326%5D%2C%20%5B-122.28450473981513%2C%2037.84199018912173%5D%2C%20%5B-122.28450512237316%2C%2037.84199138113603%5D%2C%20%5B-122.2845607163665%2C%2037.84216510437853%5D%2C%20%5B-122.28460532380389%2C%2037.842302799350584%5D%2C%20%5B-122.28466170312038%2C%2037.842471929848834%5D%2C%20%5B-122.28472008052263%2C%2037.84264408626397%5D%2C%20%5B-122.28472132125401%2C%2037.84264777650117%5D%2C%20%5B-122.28477932363107%2C%2037.84282177596941%5D%2C%20%5B-122.28478294173624%2C%2037.84283291843277%5D%2C%20%5B-122.28483794413903%2C%2037.84300691792686%5D%2C%20%5B-122.28483831434009%2C%2037.843008092409896%5D%2C%20%5B-122.28489313246723%2C%2037.84318250554865%5D%2C%20%5B-122.28494794958185%2C%2037.84335591888412%5D%2C%20%5B-122.28494831978149%2C%2037.84335709336267%5D%2C%20%5B-122.2850033222008%2C%2037.84353209285656%5D%2C%20%5B-122.28500412345099%2C%2037.84353465825854%5D%2C%20%5B-122.28505804850491%2C%2037.84370840851131%5D%2C%20%5B-122.28507015412349%2C%2037.843747317587464%5D%2C%20%5B-122.28509379198991%2C%2037.84381913712486%5D%2C%20%5B-122.28515134192396%2C%2037.843991779320355%5D%2C%20%5B-122.28520934464454%2C%2037.844165779818844%5D%2C%20%5B-122.28525634688167%2C%2037.84430678032037%5D%2C%20%5B-122.2853143495696%2C%2037.84448078072084%5D%2C%20%5B-122.2853170046012%2C%2037.84448889880678%5D%2C%20%5B-122.28533389282099%2C%2037.8445415479002%5D%2C%20%5B-122.2853897823485%2C%2037.8447151967071%5D%2C%20%5B-122.285391341033%2C%2037.84472009708326%5D%2C%20%5B-122.28544557312502%2C%2037.84489264565619%5D%2C%20%5B-122.28550078779611%2C%2037.84506419767857%5D%2C%20%5B-122.28550128535755%2C%2037.845065749375%5D%2C%20%5B-122.28552428634988%2C%2037.84513774916358%5D%2C%20%5B-122.28552534759727%2C%2037.84514109823243%5D%2C%20%5B-122.28557954825219%2C%2037.845313546783025%5D%2C%20%5B-122.28562497043461%2C%2037.84545453837415%5D%2C%20%5B-122.28568212713952%2C%2037.84562309491331%5D%2C%20%5B-122.28568336783135%2C%2037.84562678503292%5D%2C%20%5B-122.28574137020863%2C%2037.845800784501094%5D%2C%20%5B-122.285743799731%2C%2037.845808200748216%5D%2C%20%5B-122.28579980212557%2C%2037.84598220023366%5D%2C%20%5B-122.28580136078837%2C%2037.84598710054161%5D%2C%20%5B-122.28585629440924%2C%2037.846161881141654%5D%2C%20%5B-122.2858962272269%2C%2037.84628866190686%5D%2C%20%5B-122.28589866498464%2C%2037.8462965532134%5D%2C%20%5B-122.28595166742059%2C%2037.84647155272468%5D%2C%20%5B-122.28600467014486%2C%2037.84664655318786%5D%2C%20%5B-122.28602662359339%2C%2037.84674109161735%5D%2C%20%5B-122.28605536209048%2C%2037.84691747023172%5D%2C%20%5B-122.28606764491091%2C%2037.84699075124668%5D%2C%20%5B-122.28610050559423%2C%2037.8470589046386%5D%2C%20%5B-122.28618166775945%2C%2037.8472251832695%5D%2C%20%5B-122.28618544594576%2C%2037.84723303260564%5D%2C%20%5B-122.28621344666645%2C%2037.84729203235712%5D%2C%20%5B-122.28625238268056%2C%2037.84739110437363%5D%2C%20%5B-122.28630661479536%2C%2037.84756365301842%5D%2C%20%5B-122.28636182948975%2C%2037.847735205112464%5D%2C%20%5B-122.2863953482414%2C%2037.84783969877035%5D%2C%20%5B-122.28645162793441%2C%2037.84801149222499%5D%2C%20%5B-122.28650863065292%2C%2037.84818549271626%5D%2C%20%5B-122.28656563337141%2C%2037.848359493207546%5D%2C%20%5B-122.28656602839496%2C%2037.848360702470245%5D%2C%20%5B-122.28662286704025%2C%2037.84853519920681%5D%2C%20%5B-122.28664070330326%2C%2037.848589696451164%5D%2C%20%5B-122.28664184320495%2C%2037.84859320849909%5D%2C%20%5B-122.28669784559975%2C%2037.84876720798448%5D%2C%20%5B-122.28669951851296%2C%2037.84877247212634%5D%2C%20%5B-122.28673151992378%2C%2037.84887447183183%5D%2C%20%5B-122.28673256436781%2C%2037.84887782842606%5D%2C%20%5B-122.2867858114004%2C%2037.849050380010894%5D%2C%20%5B-122.2868400410719%2C%2037.84922193497081%5D%2C%20%5B-122.28684156980553%2C%2037.84922682936419%5D%2C%20%5B-122.28689522196129%2C%2037.84940069378226%5D%2C%20%5B-122.28693613979367%2C%2037.84953181065561%5D%2C%20%5B-122.28699135142726%2C%2037.84969463112859%5D%2C%20%5B-122.28705049646788%2C%2037.84986515878975%5D%2C%20%5B-122.28705742158638%2C%2037.84988611118291%5D%2C%20%5B-122.28711165372249%2C%2037.85005865989494%5D%2C%20%5B-122.28716686843853%2C%2037.85023021205576%5D%2C%20%5B-122.28716879088174%2C%2037.85023627309577%5D%2C%20%5B-122.28719168235166%2C%2037.85030952235102%5D%2C%20%5B-122.2872474433261%2C%2037.85047679789039%5D%2C%20%5B-122.28724860698094%2C%2037.850480317562024%5D%2C%20%5B-122.28726860781737%2C%2037.85054131737847%5D%2C%20%5B-122.28727143194088%2C%2037.85055011299492%5D%2C%20%5B-122.28732566408267%2C%2037.85072266172493%5D%2C%20%5B-122.28738087880451%2C%2037.850894213903565%5D%2C%20%5B-122.28738206752514%2C%2037.85089794054938%5D%2C%20%5B-122.28743600084732%2C%2037.85106855802477%5D%2C%20%5B-122.28745078818949%2C%2037.85111384221924%5D%2C%20%5B-122.28750767911905%2C%2037.85128750147381%5D%2C%20%5B-122.28750935290277%2C%2037.85129267387825%5D%2C%20%5B-122.28754012130922%2C%2037.85138894478068%5D%2C%20%5B-122.28759588923307%2C%2037.851562215762435%5D%2C%20%5B-122.28759744780041%2C%2037.851567115770145%5D%2C%20%5B-122.2876515078068%2C%2037.85173911682326%5D%2C%20%5B-122.28768354076121%2C%2037.85183812326712%5D%2C%20%5B-122.28768662280514%2C%2037.85184787582058%5D%2C%20%5B-122.28771562410948%2C%2037.85194187555342%5D%2C%20%5B-122.28773670648104%2C%2037.852028438369054%5D%2C%20%5B-122.28776855132323%2C%2037.85220556049334%5D%2C%20%5B-122.28778489620485%2C%2037.852295202410936%5D%2C%20%5B-122.28782271034893%2C%2037.85237819438703%5D%2C%20%5B-122.2878250068576%2C%2037.85238328247781%5D%2C%20%5B-122.2879010089877%2C%2037.85255328179828%5D%2C%20%5B-122.28793208699271%2C%2037.85263492118352%5D%2C%20%5B-122.28797932924942%2C%2037.85278435402256%5D%2C%20%5B-122.28803548204615%2C%2037.85295280497918%5D%2C%20%5B-122.28809348476723%2C%2037.85312680547717%5D%2C%20%5B-122.28815098497162%2C%2037.853299298494974%5D%2C%20%5B-122.28817447681497%2C%2037.85336879218065%5D%2C%20%5B-122.28817791792171%2C%2037.853379221816944%5D%2C%20%5B-122.28823392031681%2C%2037.853553221302256%5D%2C%20%5B-122.28823547885005%2C%2037.853558121202816%5D%2C%20%5B-122.28828963549024%2C%2037.85373042971145%5D%2C%20%5B-122.28833877087133%2C%2037.853882742439325%5D%2C%20%5B-122.28839492818554%2C%2037.854057222704405%5D%2C%20%5B-122.28839568673095%2C%2037.85405959297632%5D%2C%20%5B-122.28843768855202%2C%2037.85419159259002%5D%2C%20%5B-122.28843848876882%2C%2037.85419412293816%5D%2C%20%5B-122.28849272094179%2C%2037.85436667176638%5D%2C%20%5B-122.28854793569533%2C%2037.85453822404284%5D%2C%20%5B-122.28854912436849%2C%2037.85454195053973%5D%2C%20%5B-122.28860236332193%2C%2037.85471037139151%5D%2C%20%5B-122.28865851216679%2C%2037.85487881049248%5D%2C%20%5B-122.28866013028814%2C%2037.854883720798945%5D%2C%20%5B-122.28871693605458%2C%2037.855058116594954%5D%2C%20%5B-122.28877374074614%2C%2037.85523151260691%5D%2C%20%5B-122.28883074346513%2C%2037.85540551309807%5D%2C%20%5B-122.28888749138838%2C%2037.85557873582854%5D%2C%20%5B-122.28892023620492%2C%2037.85567795812586%5D%2C%20%5B-122.28892074807906%2C%2037.85567951488587%5D%2C%20%5B-122.28897739163455%2C%2037.85585241903484%5D%2C%20%5B-122.28902403126202%2C%2037.855993323992934%5D%2C%20%5B-122.2890275169976%2C%2037.85600412787654%5D%2C%20%5B-122.289081749186%2C%2037.85617667675348%5D%2C%20%5B-122.28913696395529%2C%2037.85634822907835%5D%2C%20%5B-122.28913815260482%2C%2037.85635195550129%5D%2C%20%5B-122.28919303040291%2C%2037.85652556080741%5D%2C%20%5B-122.28922229804195%2C%2037.85661779394733%5D%2C%20%5B-122.28927867112621%2C%2037.85677766505678%5D%2C%20%5B-122.28934001690685%2C%2037.856948832590454%5D%2C%20%5B-122.28934953217308%2C%2037.8569771305311%5D%2C%20%5B-122.28940453459334%2C%2037.857152130024886%5D%2C%20%5B-122.28940569335865%2C%2037.8571558506726%5D%2C%20%5B-122.28945877345114%2C%2037.85732786127285%5D%2C%20%5B-122.28949140648672%2C%2037.85743055459274%5D%2C%20%5B-122.28954698355065%2C%2037.85760323256959%5D%2C%20%5B-122.28954860976943%2C%2037.85760834794004%5D%2C%20%5B-122.28957487136206%2C%2037.85769199205141%5D%2C%20%5B-122.28962705293792%2C%2037.85785443667787%5D%2C%20%5B-122.28968299018666%2C%2037.85802823375186%5D%2C%20%5B-122.28968454864344%2C%2037.858033133411936%5D%2C%20%5B-122.2897387052974%2C%2037.858205441963364%5D%2C%20%5B-122.28976783983862%2C%2037.858295754917634%5D%2C%20%5B-122.28977297486112%2C%2037.85831232769596%5D%2C%20%5B-122.28982497730595%2C%2037.85848732721576%5D%2C%20%5B-122.2898260823792%2C%2037.858491082148326%5D%2C%20%5B-122.28987649209168%2C%2037.858664047872644%5D%2C%20%5B-122.28992588976402%2C%2037.85883001580248%5D%2C%20%5B-122.2899270877117%2C%2037.858834083026615%5D%2C%20%5B-122.28997783259702%2C%2037.859008198792544%5D%2C%20%5B-122.29001881242822%2C%2037.859147523233524%5D%2C%20%5B-122.29007258145293%2C%2037.85930882317232%5D%2C%20%5B-122.29007380485253%2C%2037.85931252513909%5D%2C%20%5B-122.29013020085371%2C%2037.85948467363092%5D%2C%20%5B-122.290187586896%2C%2037.85965682416815%5D%2C%20%5B-122.29024558961761%2C%2037.859830824666275%5D%2C%20%5B-122.29030359233919%2C%2037.860004825164204%5D%2C%20%5B-122.29030602148754%2C%2037.86001224026945%5D%2C%20%5B-122.29036142616859%2C%2037.86018438265965%5D%2C%20%5B-122.29041782083587%2C%2037.86035652707074%5D%2C%20%5B-122.29041940908124%2C%2037.86036143201325%5D%2C%20%5B-122.29047522108735%2C%2037.860535836508305%5D%2C%20%5B-122.29053103204986%2C%2037.86070924120946%5D%2C%20%5B-122.2905870347669%2C%2037.8608832416933%5D%2C%20%5B-122.29061164718038%2C%2037.860983005545954%5D%2C%20%5B-122.29064264982368%2C%2037.86116200525464%5D%2C%20%5B-122.29064298912425%2C%2037.86116398055254%5D%2C%20%5B-122.29065532828365%2C%2037.861236417064354%5D%2C%20%5B-122.29068765570725%2C%2037.861300685162746%5D%2C%20%5B-122.29068944669304%2C%2037.86130426803329%5D%2C%20%5B-122.29076544852283%2C%2037.86145726736225%5D%2C%20%5B-122.2908090457225%2C%2037.861564244586184%5D%2C%20%5B-122.29086504811819%2C%2037.86173824407143%5D%2C%20%5B-122.29086660651146%2C%2037.861743143531896%5D%2C%20%5B-122.2909208387488%2C%2037.86191569256328%5D%2C%20%5B-122.29097605356804%2C%2037.862087245041984%5D%2C%20%5B-122.290976436042%2C%2037.862088436794295%5D%2C%20%5B-122.29103224805172%2C%2037.86226284130038%5D%2C%20%5B-122.291088059018%2C%2037.862436246012734%5D%2C%20%5B-122.29114406173515%2C%2037.86261024649651%5D%2C%20%5B-122.29114626572357%2C%2037.86261721046013%5D%2C%20%5B-122.29115918212607%2C%2037.862658725501916%5D%2C%20%5B-122.29121406515507%2C%2037.86282924710557%5D%2C%20%5B-122.29121444762596%2C%2037.8628304388483%5D%2C%20%5B-122.29126966498951%2C%2037.86300298517486%5D%2C%20%5B-122.29132586487785%2C%2037.86317453502227%5D%2C%20%5B-122.29132707092656%2C%2037.86317824907501%5D%2C%20%5B-122.29138307332235%2C%2037.863352248560204%5D%2C%20%5B-122.29138394201291%2C%2037.863354965279804%5D%2C%20%5B-122.29141094318632%2C%2037.863439965031404%5D%2C%20%5B-122.29141163301398%2C%2037.86344214816571%5D%2C%20%5B-122.29146645118418%2C%2037.863616561436515%5D%2C%20%5B-122.29152067941125%2C%2037.863788111832505%5D%2C%20%5B-122.29157608281714%2C%2037.86396025025104%5D%2C%20%5B-122.29157781514408%2C%2037.86396570386548%5D%2C%20%5B-122.29161896189134%2C%2037.864096975412544%5D%2C%20%5B-122.29167408762706%2C%2037.86426825110771%5D%2C%20%5B-122.2916757310907%2C%2037.8642734214159%5D%2C%20%5B-122.29171733730347%2C%2037.86440597452646%5D%2C%20%5B-122.29177288677494%2C%2037.86457553897506%5D%2C%20%5B-122.29182988949457%2C%2037.864749539466%5D%2C%20%5B-122.29183147766399%2C%2037.864754444173954%5D%2C%20%5B-122.29188669504416%2C%2037.864926990551965%5D%2C%20%5B-122.29194289494943%2C%2037.865098540450695%5D%2C%20%5B-122.29199989766903%2C%2037.86527254094145%5D%2C%20%5B-122.29205690038872%2C%2037.865446541432355%5D%2C%20%5B-122.29205810640764%2C%2037.86545025539336%5D%2C%20%5B-122.29211370570657%2C%2037.865623002458825%5D%2C%20%5B-122.292170103848%2C%2037.86579614682545%5D%2C%20%5B-122.29222690856338%2C%2037.86596954290792%5D%2C%20%5B-122.29228391128308%2C%2037.8661435433987%5D%2C%20%5B-122.29228511729288%2C%2037.86614725733157%5D%2C%20%5B-122.29234111968887%2C%2037.86632125681678%5D%2C%20%5B-122.2923415021451%2C%2037.86632244851385%5D%2C%20%5B-122.29239731416398%2C%2037.8664968530475%5D%2C%20%5B-122.29245312513936%2C%2037.86667025778722%5D%2C%20%5B-122.29250853018566%2C%2037.866842401310706%5D%2C%20%5B-122.29256492489738%2C%2037.86701454585593%5D%2C%20%5B-122.29256998783521%2C%2037.867030608063004%5D%2C%20%5B-122.29262242513705%2C%2037.867203741655686%5D%2C%20%5B-122.2926758523642%2C%2037.86737687716178%5D%2C%20%5B-122.29267699328656%2C%2037.86738060898854%5D%2C%20%5B-122.29272886643702%2C%2037.86755187991243%5D%2C%20%5B-122.29274834313438%2C%2037.86761384831561%5D%2C%20%5B-122.29280393691761%2C%2037.86778354802529%5D%2C%20%5B-122.29280503256611%2C%2037.86778691934694%5D%2C%20%5B-122.29285403465857%2C%2037.86793891889651%5D%2C%20%5B-122.29291014767591%2C%2037.86811326179951%5D%2C%20%5B-122.29291053012469%2C%2037.86811445347327%5D%2C%20%5B-122.29296634214744%2C%2037.8682888580186%5D%2C%20%5B-122.29302155546608%2C%2037.868460405842384%5D%2C%20%5B-122.29307795018858%2C%2037.86863255042021%5D%2C%20%5B-122.2930795382908%2C%2037.86863745492065%5D%2C%20%5B-122.29312536405112%2C%2037.86878065389322%5D%2C%20%5B-122.29316228517973%2C%2037.8688685231256%5D%2C%20%5B-122.29319660324575%2C%2037.86896946655788%5D%2C%20%5B-122.29321587279618%2C%2037.869072874497625%5D%2C%20%5B-122.29323564337145%2C%2037.86924979718768%5D%2C%20%5B-122.29323624636986%2C%2037.86925492202385%5D%2C%20%5B-122.29325892668842%2C%2037.86930001131473%5D%2C%20%5B-122.29334306249108%2C%2037.86946530883951%5D%2C%20%5B-122.29339017081367%2C%2037.869579266624804%5D%2C%20%5B-122.29341817201178%2C%2037.86966626636737%5D%2C%20%5B-122.293474174649%2C%2037.8698402666012%5D%2C%20%5B-122.29347455709059%2C%2037.869841458252544%5D%2C%20%5B-122.293530369117%2C%2037.870015862809%5D%2C%20%5B-122.29358558245063%2C%2037.870187410678895%5D%2C%20%5B-122.29364197718466%2C%2037.87035955529148%5D%2C%20%5B-122.29364356525706%2C%2037.87036445969976%5D%2C%20%5B-122.29369878268567%2C%2037.8705370062278%5D%2C%20%5B-122.2937549826403%2C%2037.87070855627581%5D%2C%20%5B-122.29381198536032%2C%2037.87088255676666%5D%2C%20%5B-122.29381319130793%2C%2037.87088627050805%5D%2C%20%5B-122.29386862857856%2C%2037.871058514151365%5D%2C%20%5B-122.29388605526233%2C%2037.87111175995743%5D%2C%20%5B-122.29388719488468%2C%2037.87111527114455%5D%2C%20%5B-122.29394279420895%2C%2037.87128801828723%5D%2C%20%5B-122.29399938898976%2C%2037.87146176634147%5D%2C%20%5B-122.2940013884672%2C%2037.87146799692199%5D%2C%20%5B-122.29405639087202%2C%2037.87164199641575%5D%2C%20%5B-122.29405676095632%2C%2037.8716431705283%5D%2C%20%5B-122.29411099327821%2C%2037.87181571982629%5D%2C%20%5B-122.29416620818353%2C%2037.8719872725703%5D%2C%20%5B-122.29416776640159%2C%2037.87199217147979%5D%2C%20%5B-122.29422258458972%2C%2037.87216658480566%5D%2C%20%5B-122.29427622513077%2C%2037.87233627606584%5D%2C%20%5B-122.29433201074771%2C%2037.87250656134699%5D%2C%20%5B-122.29438901346785%2C%2037.87268056183763%5D%2C%20%5B-122.29444601618803%2C%2037.87285456232857%5D%2C%20%5B-122.29444641110653%2C%2037.87285577126972%5D%2C%20%5B-122.29450341351098%2C%2037.873030770745956%5D%2C%20%5B-122.29450422484328%2C%2037.8730332764767%5D%2C%20%5B-122.2945576385111%2C%2037.87319923279834%5D%2C%20%5B-122.2946142803433%2C%2037.87336254316684%5D%2C%20%5B-122.29463868859318%2C%2037.8734318597132%5D%2C%20%5B-122.29464402579077%2C%2037.87344756501513%5D%2C%20%5B-122.29470102817868%2C%2037.87362156449163%5D%2C%20%5B-122.29475803089889%2C%2037.87379556498227%5D%2C%20%5B-122.29481442732832%2C%2037.87396771477805%5D%2C%20%5B-122.29487181346785%2C%2037.87413986560382%5D%2C%20%5B-122.29487343125238%2C%2037.87414477488805%5D%2C%20%5B-122.2949302370613%2C%2037.874319170810054%5D%2C%20%5B-122.29498643550811%2C%2037.87449071626333%5D%2C%20%5B-122.29504382165116%2C%2037.87466286709959%5D%2C%20%5B-122.29510158968954%2C%2037.87483616357733%5D%2C%20%5B-122.29515235563906%2C%2037.874987459390795%5D%2C%20%5B-122.29515881620543%2C%2037.87500765456908%5D%2C%20%5B-122.29517981716585%2C%2037.875076654375356%5D%2C%20%5B-122.29518011318065%2C%2037.87507762933677%5D%2C%20%5B-122.29523311561864%2C%2037.87525262884771%5D%2C%20%5B-122.29528597088232%2C%2037.87542714243058%5D%2C%20%5B-122.29530452312413%2C%2037.87548809684357%5D%2C%20%5B-122.29535905996215%2C%2037.87565457022475%5D%2C%20%5B-122.29536026584722%2C%2037.87565828377339%5D%2C%20%5B-122.29541586519167%2C%2037.87583103097799%5D%2C%20%5B-122.29547226340092%2C%2037.87600417555061%5D%2C%20%5B-122.29552906813886%2C%2037.8761775716995%5D%2C%20%5B-122.29553027401705%2C%2037.8761812852271%5D%2C%20%5B-122.29558567880449%2C%2037.87635342794409%5D%2C%20%5B-122.29564207357963%2C%2037.87652557268082%5D%2C%20%5B-122.29564366154543%2C%2037.8765304767598%5D%2C%20%5B-122.29569887902727%2C%2037.87670302345276%5D%2C%20%5B-122.29575507903613%2C%2037.87687457366504%5D%2C%20%5B-122.29575628490514%2C%2037.876878287164345%5D%2C%20%5B-122.2958122873019%2C%2037.87705228664934%5D%2C%20%5B-122.29586794008785%2C%2037.87722519989588%5D%2C%20%5B-122.29590733843196%2C%2037.8773463443209%5D%2C%20%5B-122.29596408912052%2C%2037.877519575483696%5D%2C%20%5B-122.296021091841%2C%2037.87769357597436%5D%2C%20%5B-122.29607809456144%2C%2037.877867576464745%5D%2C%20%5B-122.29607848945858%2C%2037.87786878534045%5D%2C%20%5B-122.29613549186335%2C%2037.87804378481669%5D%2C%20%5B-122.29613583634197%2C%2037.87804484504794%5D%2C%20%5B-122.29617047043864%2C%2037.878151711122065%5D%2C%20%5B-122.29622710170673%2C%2037.87832457775338%5D%2C%20%5B-122.29628410442727%2C%2037.878498578244084%5D%2C%20%5B-122.29628569235896%2C%2037.878503482217766%5D%2C%20%5B-122.29634150440408%2C%2037.8786778868306%5D%2C%20%5B-122.29639731540578%2C%2037.87885129164926%5D%2C%20%5B-122.29645331812404%2C%2037.87902529213269%5D%2C%20%5B-122.29645370052724%2C%2037.879026483664454%5D%2C%20%5B-122.29650951257342%2C%2037.87920088828056%5D%2C%20%5B-122.2965653235763%2C%2037.879374293102714%5D%2C%20%5B-122.2966213262946%2C%2037.87954829358623%5D%2C%20%5B-122.29662528809743%2C%2037.8795609884213%5D%2C%20%5B-122.29663636636373%2C%2037.879597630129325%5D%2C%20%5B-122.29669032968471%2C%2037.879765294189255%5D%2C%20%5B-122.29669238799235%2C%2037.87977179047472%5D%2C%20%5B-122.29672114017566%2C%2037.8798639913903%5D%2C%20%5B-122.29677512161318%2C%2037.880035742453494%5D%2C%20%5B-122.29683033658998%2C%2037.880207295417655%5D%2C%20%5B-122.29683225838627%2C%2037.88021335441718%5D%2C%20%5B-122.29685225927294%2C%2037.88027735423291%5D%2C%20%5B-122.29687038809514%2C%2037.880347126528605%5D%2C%20%5B-122.29688147364521%2C%2037.880417813439145%5D%2C%20%5B-122.29690039665924%2C%2037.88059606272079%5D%2C%20%5B-122.29690188485213%2C%2037.88060980472423%5D%2C%20%5B-122.29691979353397%2C%2037.88064320649882%5D%2C%20%5B-122.29700831042736%2C%2037.88080730659622%5D%2C%20%5B-122.29703874039633%2C%2037.88087013577449%5D%2C%20%5B-122.29706314284815%2C%2037.88093458612627%5D%2C%20%5B-122.2971201452366%2C%2037.88110858560262%5D%2C%20%5B-122.29712173312322%2C%2037.88111348943706%5D%2C%20%5B-122.2971775451739%2C%2037.881287894066695%5D%2C%20%5B-122.29723335618127%2C%2037.88146129890231%5D%2C%20%5B-122.29728935889973%2C%2037.88163529938593%5D%2C%20%5B-122.297289741292%2C%2037.88163649088358%5D%2C%20%5B-122.29734555334386%2C%2037.88181089551678%5D%2C%20%5B-122.29740136435231%2C%2037.881984300355725%5D%2C%20%5B-122.29740276229164%2C%2037.88198868995035%5D%2C%20%5B-122.29742507154207%2C%2037.882059494259124%5D%2C%20%5B-122.29748036821135%2C%2037.88223130104207%5D%2C%20%5B-122.2974807506011%2C%2037.88223249253195%5D%2C%20%5B-122.29753675301474%2C%2037.882407492016775%5D%2C%20%5B-122.29756056387173%2C%2037.88248189751942%5D%2C%20%5B-122.29761637483578%2C%2037.88265530222021%5D%2C%20%5B-122.29761762509341%2C%2037.88265922364333%5D%2C%20%5B-122.2976415579635%2C%2037.88273500752673%5D%2C%20%5B-122.29768976436327%2C%2037.8828873326638%5D%2C%20%5B-122.29774595298981%2C%2037.88305589109885%5D%2C%20%5B-122.29780395571296%2C%2037.883229891596336%5D%2C%20%5B-122.29780517879674%2C%2037.883233592607255%5D%2C%20%5B-122.29786157495637%2C%2037.88340574157726%5D%2C%20%5B-122.29791896115931%2C%2037.88357789259119%5D%2C%20%5B-122.29792410550344%2C%2037.88359392166714%5D%2C%20%5B-122.29797810793384%2C%2037.883768921169214%5D%2C%20%5B-122.29797924864798%2C%2037.883772652314754%5D%2C%20%5B-122.29803177290634%2C%2037.883946073009426%5D%2C%20%5B-122.29806728914274%2C%2037.8840614952352%5D%2C%20%5B-122.29806825319783%2C%2037.884064653086206%5D%2C%20%5B-122.29812125563645%2C%2037.884239652597074%5D%2C%20%5B-122.29817369333607%2C%2037.88441278749911%5D%2C%20%5B-122.29822694254281%2C%2037.88458534611209%5D%2C%20%5B-122.2982803681007%2C%2037.8847574869456%5D%2C%20%5B-122.29833496800627%2C%2037.88493120576129%5D%2C%20%5B-122.29833612641558%2C%2037.88493492526576%5D%2C%20%5B-122.29838962783286%2C%2037.88510830119539%5D%2C%20%5B-122.2984252784719%2C%2037.88522199248039%5D%2C%20%5B-122.29848001460485%2C%2037.88539205767761%5D%2C%20%5B-122.2985366094492%2C%2037.885565805923626%5D%2C%20%5B-122.29853742067078%2C%2037.88556831131236%5D%2C%20%5B-122.29859282551995%2C%2037.88574045421899%5D%2C%20%5B-122.29864922035772%2C%2037.88591259914475%5D%2C%20%5B-122.29865042610825%2C%2037.88591631227922%5D%2C%20%5B-122.2987060254985%2C%2037.88608905962365%5D%2C%20%5B-122.2987624237758%2C%2037.88626220440285%5D%2C%20%5B-122.29881922853646%2C%2037.886435600618725%5D%2C%20%5B-122.2988253022709%2C%2037.88645502899014%5D%2C%20%5B-122.29886195964683%2C%2037.88657815407014%5D%2C%20%5B-122.29891543872455%2C%2037.88674431358104%5D%2C%20%5B-122.29891699669054%2C%2037.88674921169797%5D%2C%20%5B-122.2989712291412%2C%2037.88692176140217%5D%2C%20%5B-122.29902644417781%2C%2037.887093314550604%5D%2C%20%5B-122.29902726453832%2C%2037.8870958791871%5D%2C%20%5B-122.29907526662397%2C%2037.88724687874522%5D%2C%20%5B-122.29907600449472%2C%2037.88724921306014%5D%2C%20%5B-122.2991307225581%2C%2037.88742330781945%5D%2C%20%5B-122.29914343639284%2C%2037.88746340343319%5D%2C%20%5B-122.29914412216034%2C%2037.887465577620034%5D%2C%20%5B-122.29914577292222%2C%2037.88747083918679%5D%2C%20%5B-122.29918703928261%2C%2037.887522370902815%5D%2C%20%5B-122.2992345021595%2C%2037.887595742530316%5D%2C%20%5B-122.29927326827348%2C%2037.8876722376495%5D%2C%20%5B-122.29930301233016%2C%2037.887751214427645%5D%2C%20%5B-122.29935783055137%2C%2037.88792562785499%5D%2C%20%5B-122.29941264776033%2C%2037.888099041478426%5D%2C%20%5B-122.29941301777767%2C%2037.88810021537856%5D%2C%20%5B-122.29946802020012%2C%2037.88827521487199%5D%2C%20%5B-122.29946882105425%2C%2037.888277779005605%5D%2C%20%5B-122.29952196651367%2C%2037.88844901734649%5D%2C%20%5B-122.29954308843814%2C%2037.888515260317284%5D%2C%20%5B-122.29954518235652%2C%2037.88852193489103%5D%2C%20%5B-122.2995984297233%2C%2037.888694487549365%5D%2C%20%5B-122.29965031186565%2C%2037.88885861613493%5D%2C%20%5B-122.29970680670336%2C%2037.88902522079779%5D%2C%20%5B-122.29976580942919%2C%2037.88919922130191%5D%2C%20%5B-122.29980686294493%2C%2037.88932037393466%5D%2C%20%5B-122.29983136648282%2C%2037.88941123611506%5D%2C%20%5B-122.29984387770205%2C%2037.889503610388665%5D%2C%20%5B-122.29984426311519%2C%2037.88959651150408%5D%2C%20%5B-122.29984012167465%2C%2037.88962910730672%5D%2C%20%5B-122.29984405618498%2C%2037.88964091031223%5D%2C%20%5B-122.2998463298523%2C%2037.88964784294532%5D%2C%20%5B-122.29989633198716%2C%2037.889802842485494%5D%5D%5D%2C%20%22type%22%3A%20%22Polygon%22%7D%2C%20%22id%22%3A%20%220%22%2C%20%22properties%22%3A%20%7B%22shape_id%22%3A%20null%2C%20%22stop_id%22%3A%20null%2C%20%22stop_sequence%22%3A%20null%2C%20%22total_speed_delay%22%3A%202013.4%7D%2C%20%22type%22%3A%20%22Feature%22%7D%5D%2C%20%22type%22%3A%20%22FeatureCollection%22%7D%29%3B%0A%0A%20%20%20%20%20%20%20%20%0A%20%20%20%20%0A%20%20%20%20geo_json_1e5da63d7e9f4694b9695ea00f7cf84c.bindTooltip%28%0A%20%20%20%20function%28layer%29%7B%0A%20%20%20%20let%20div%20%3D%20L.DomUtil.create%28%27div%27%29%3B%0A%20%20%20%20%0A%20%20%20%20let%20handleObject%20%3D%20feature%3D%3Etypeof%28feature%29%3D%3D%27object%27%20%3F%20JSON.stringify%28feature%29%20%3A%20feature%3B%0A%20%20%20%20let%20fields%20%3D%20%5B%22stop_id%22%2C%20%22stop_sequence%22%2C%20%22shape_id%22%2C%20%22total_speed_delay%22%5D%3B%0A%20%20%20%20let%20aliases%20%3D%20%5B%22stop_id%22%2C%20%22stop_sequence%22%2C%20%22shape_id%22%2C%20%22total_speed_delay%22%5D%3B%0A%20%20%20%20let%20table%20%3D%20%27%3Ctable%3E%27%20%2B%0A%20%20%20%20%20%20%20%20String%28%0A%20%20%20%20%20%20%20%20fields.map%28%0A%20%20%20%20%20%20%20%20%28v%2Ci%29%3D%3E%0A%20%20%20%20%20%20%20%20%60%3Ctr%3E%0A%20%20%20%20%20%20%20%20%20%20%20%20%3Cth%3E%24%7Baliases%5Bi%5D%7D%3C/th%3E%0A%20%20%20%20%20%20%20%20%20%20%20%20%0A%20%20%20%20%20%20%20%20%20%20%20%20%3Ctd%3E%24%7BhandleObject%28layer.feature.properties%5Bv%5D%29%7D%3C/td%3E%0A%20%20%20%20%20%20%20%20%3C/tr%3E%60%29.join%28%27%27%29%29%0A%20%20%20%20%2B%27%3C/table%3E%27%3B%0A%20%20%20%20div.innerHTML%3Dtable%3B%0A%20%20%20%20%0A%20%20%20%20return%20div%0A%20%20%20%20%7D%0A%20%20%20%20%2C%7B%22className%22%3A%20%22foliumtooltip%22%2C%20%22sticky%22%3A%20true%7D%29%3B%0A%20%20%20%20%20%20%20%20%20%20%20%20%20%20%20%20%20%20%20%20%20%0A%3C/script%3E onload=\"this.contentDocument.open();this.contentDocument.write(    decodeURIComponent(this.getAttribute('data-html')));this.contentDocument.close();\" allowfullscreen webkitallowfullscreen mozallowfullscreen></iframe></div></div>"
      ],
      "text/plain": [
       "<folium.folium.Map at 0x7f41f4ae2c10>"
      ]
     },
     "execution_count": 62,
     "metadata": {},
     "output_type": "execute_result"
    }
   ],
   "source": [
    "rt_day.quick_map_corridor()"
   ]
  },
  {
   "cell_type": "code",
   "execution_count": 44,
   "id": "72e82f12-ed8b-41f0-bc7c-4f2449ca8814",
   "metadata": {},
   "outputs": [],
   "source": [
    "# m = rt_day.segment_speed_map(how='low_speeds', no_title=False, shn=True, corridor=True)"
   ]
  },
  {
   "cell_type": "code",
   "execution_count": null,
   "id": "c429c78b-23e3-43a7-914d-48117330bdc8",
   "metadata": {},
   "outputs": [],
   "source": [
    "all_corridors += [rt_day.corridor]"
   ]
  },
  {
   "cell_type": "markdown",
   "id": "a0a80bcd-8e6f-4285-8b68-2a24c2d6f34f",
   "metadata": {},
   "source": [
    "# BBB (add)"
   ]
  },
  {
   "cell_type": "code",
   "execution_count": null,
   "id": "589319db-bf04-4d73-98b1-94e0707f8764",
   "metadata": {
    "tags": [
     "parameters"
    ]
   },
   "outputs": [],
   "source": [
    "## parameters cell\n",
    "itp_id = 300"
   ]
  },
  {
   "cell_type": "code",
   "execution_count": null,
   "id": "374dfb1f-ef11-4a04-a07a-c3a7cca7f793",
   "metadata": {},
   "outputs": [],
   "source": [
    "%%capture\n",
    "rt_day = rt_filter_map_plot.from_gcs(itp_id, analysis_date, pbar)"
   ]
  },
  {
   "cell_type": "code",
   "execution_count": null,
   "id": "6010da46-2492-4079-8b37-a3130d869833",
   "metadata": {},
   "outputs": [],
   "source": [
    "%%capture_parameters\n",
    "organization_name = rt_day.organization_name\n",
    "organization_name"
   ]
  },
  {
   "cell_type": "code",
   "execution_count": null,
   "id": "56927c73-6af4-404c-8b99-64ae0a812f1d",
   "metadata": {},
   "outputs": [],
   "source": [
    "rt_day.set_filter(route_names = ['3', 'R3'])"
   ]
  },
  {
   "cell_type": "code",
   "execution_count": null,
   "id": "2b16ca37-28ed-4650-a20d-89f4c75cd7ae",
   "metadata": {},
   "outputs": [],
   "source": [
    "_m = rt_day.segment_speed_map()"
   ]
  },
  {
   "cell_type": "code",
   "execution_count": null,
   "id": "204ba70c-9291-4baa-94e3-8c7b2f3df8d4",
   "metadata": {},
   "outputs": [],
   "source": [
    "_m"
   ]
  },
  {
   "cell_type": "markdown",
   "id": "c1f92dee-43e9-4a9e-ba39-be017f989196",
   "metadata": {},
   "source": [
    "## BBB Lincoln"
   ]
  },
  {
   "cell_type": "code",
   "execution_count": null,
   "id": "471f5351-3281-49b6-ab16-655a08f66457",
   "metadata": {},
   "outputs": [],
   "source": [
    "rt_day.autocorridor(shape_id = '26171', stop_seq_range = [16, 29])"
   ]
  },
  {
   "cell_type": "code",
   "execution_count": null,
   "id": "3161984b-af55-463c-b8ba-1d55fa046b77",
   "metadata": {},
   "outputs": [],
   "source": [
    "rt_day.corridor_stop_delays >> distinct(_.route_short_name)"
   ]
  },
  {
   "cell_type": "code",
   "execution_count": null,
   "id": "2a3e485c-4123-4419-b927-672400e1a769",
   "metadata": {},
   "outputs": [],
   "source": [
    "rt_day.corridor_metrics()"
   ]
  },
  {
   "cell_type": "code",
   "execution_count": null,
   "id": "7a8c2cbe-2011-407c-ac8a-866db4f447bb",
   "metadata": {},
   "outputs": [],
   "source": [
    "rt_day.quick_map_corridor()"
   ]
  },
  {
   "cell_type": "code",
   "execution_count": 45,
   "id": "ec0a38ab-81b6-4018-9b13-8ef9d098e8fb",
   "metadata": {},
   "outputs": [],
   "source": [
    "# m = rt_day.segment_speed_map(how='low_speeds', no_title=False, shn=True, corridor=True)"
   ]
  },
  {
   "cell_type": "code",
   "execution_count": null,
   "id": "e08fa75b-d721-47b3-b87a-5313c1754a62",
   "metadata": {},
   "outputs": [],
   "source": [
    "all_corridors += [rt_day.corridor]"
   ]
  },
  {
   "cell_type": "markdown",
   "id": "9d78d962-ea22-48d7-9bbf-6835815d79ae",
   "metadata": {},
   "source": [
    "# LA Metro"
   ]
  },
  {
   "cell_type": "code",
   "execution_count": null,
   "id": "11767170-9ab1-4e51-8ba1-50008f2d77a7",
   "metadata": {
    "tags": [
     "parameters"
    ]
   },
   "outputs": [],
   "source": [
    "## parameters cell\n",
    "itp_id = 182"
   ]
  },
  {
   "cell_type": "code",
   "execution_count": null,
   "id": "1ceb7f5f-8c83-4d2d-934a-22bf91887d5d",
   "metadata": {},
   "outputs": [],
   "source": [
    "%%capture\n",
    "rt_day = rt_filter_map_plot.from_gcs(itp_id, analysis_date, pbar)"
   ]
  },
  {
   "cell_type": "code",
   "execution_count": null,
   "id": "4337e7b3-6a65-411b-b580-2ad42debe79b",
   "metadata": {},
   "outputs": [],
   "source": [
    "%%capture_parameters\n",
    "organization_name = rt_day.organization_name\n",
    "organization_name"
   ]
  },
  {
   "cell_type": "code",
   "execution_count": null,
   "id": "f9119de1-111b-4f45-a382-c6d7d66761a9",
   "metadata": {},
   "outputs": [],
   "source": [
    "rt_day.set_filter(route_names = ['4'])"
   ]
  },
  {
   "cell_type": "code",
   "execution_count": null,
   "id": "66dfc67a-a3d0-4f10-90a8-fa553764d61a",
   "metadata": {},
   "outputs": [],
   "source": [
    "_m = rt_day.segment_speed_map()"
   ]
  },
  {
   "cell_type": "markdown",
   "id": "34f7b12c-c262-4786-80bf-0646d7f98ce2",
   "metadata": {},
   "source": [
    "## Metro Santa Monica Bl"
   ]
  },
  {
   "cell_type": "code",
   "execution_count": null,
   "id": "a990dd8e-8b01-41bc-a6cc-4575591c0e55",
   "metadata": {},
   "outputs": [],
   "source": [
    "rt_day.autocorridor(shape_id = '40338_DEC22', stop_seq_range = [40, 50])"
   ]
  },
  {
   "cell_type": "code",
   "execution_count": null,
   "id": "39e9fcf5-6ef6-4422-8ea3-350b3e13c4df",
   "metadata": {},
   "outputs": [],
   "source": [
    "rt_day.corridor_stop_delays >> distinct(_.route_short_name)"
   ]
  },
  {
   "cell_type": "code",
   "execution_count": null,
   "id": "8b6259eb-dd21-4da4-934c-f3dcfc31b517",
   "metadata": {},
   "outputs": [],
   "source": [
    "rt_day.corridor_metrics()"
   ]
  },
  {
   "cell_type": "code",
   "execution_count": null,
   "id": "a115cf70-d29b-4256-b112-421564e94823",
   "metadata": {},
   "outputs": [],
   "source": [
    "rt_day.quick_map_corridor()"
   ]
  },
  {
   "cell_type": "code",
   "execution_count": 46,
   "id": "e144b197-07dd-446b-bfc0-9d11b004f7ad",
   "metadata": {},
   "outputs": [],
   "source": [
    "# m = rt_day.segment_speed_map(how='low_speeds', no_title=False, shn=True, corridor=True)"
   ]
  },
  {
   "cell_type": "code",
   "execution_count": null,
   "id": "36c2dc4b-b653-4869-8e13-939b7f8f4353",
   "metadata": {},
   "outputs": [],
   "source": [
    "all_corridors += [rt_day.corridor]"
   ]
  },
  {
   "cell_type": "markdown",
   "id": "f1b9b973-2897-4e4b-801e-c3ba749ef45e",
   "metadata": {},
   "source": [
    "# VTA (add, optional)"
   ]
  },
  {
   "cell_type": "code",
   "execution_count": null,
   "id": "a2c00f9b-4705-408c-9e9f-1df57c22af13",
   "metadata": {
    "tags": [
     "parameters"
    ]
   },
   "outputs": [],
   "source": [
    "## parameters cell\n",
    "itp_id = 294"
   ]
  },
  {
   "cell_type": "code",
   "execution_count": null,
   "id": "ba887f2c-943f-4a4e-9de8-8269678deb0e",
   "metadata": {},
   "outputs": [],
   "source": [
    "%%capture\n",
    "rt_day = rt_filter_map_plot.from_gcs(itp_id, analysis_date, pbar)"
   ]
  },
  {
   "cell_type": "code",
   "execution_count": null,
   "id": "4991ab2c-220b-4690-b1b6-5347a7dcb7ed",
   "metadata": {},
   "outputs": [],
   "source": [
    "%%capture_parameters\n",
    "organization_name = rt_day.organization_name\n",
    "organization_name"
   ]
  },
  {
   "cell_type": "code",
   "execution_count": null,
   "id": "f351f682-430b-4cf5-b891-e1e31a96f978",
   "metadata": {},
   "outputs": [],
   "source": [
    "rt_day.set_filter(route_names = ['22', 'Rapid 522'])"
   ]
  },
  {
   "cell_type": "code",
   "execution_count": null,
   "id": "c2e69780-c111-4984-a87e-cf367262549f",
   "metadata": {},
   "outputs": [],
   "source": [
    "_m = rt_day.segment_speed_map()"
   ]
  },
  {
   "cell_type": "code",
   "execution_count": null,
   "id": "511b05bd-d3a8-4544-843d-d584f6279141",
   "metadata": {},
   "outputs": [],
   "source": [
    "_m"
   ]
  },
  {
   "cell_type": "markdown",
   "id": "4777fdde-5386-43a7-b83c-81580f0ab56b",
   "metadata": {},
   "source": [
    "## VTA ECR"
   ]
  },
  {
   "cell_type": "code",
   "execution_count": null,
   "id": "796f1bca-7146-47b1-88bd-f8a384ce7068",
   "metadata": {},
   "outputs": [],
   "source": [
    "rt_day.autocorridor(shape_id = '107193', stop_seq_range = [44, 98])"
   ]
  },
  {
   "cell_type": "code",
   "execution_count": null,
   "id": "606a131b-29af-4a12-81ec-9452d037e8b7",
   "metadata": {},
   "outputs": [],
   "source": [
    "rt_day.corridor_stop_delays >> distinct(_.route_short_name)"
   ]
  },
  {
   "cell_type": "code",
   "execution_count": null,
   "id": "69fcf4e9-6b92-403a-9120-a9d8393f5296",
   "metadata": {},
   "outputs": [],
   "source": [
    "rt_day.corridor_metrics()"
   ]
  },
  {
   "cell_type": "code",
   "execution_count": null,
   "id": "fac66ce9-88fe-4fc2-9bca-1f30b8c84e6e",
   "metadata": {},
   "outputs": [],
   "source": [
    "rt_day.quick_map_corridor()"
   ]
  },
  {
   "cell_type": "code",
   "execution_count": null,
   "id": "3f43fd0d-6a10-4373-a2d4-12d750971e4a",
   "metadata": {},
   "outputs": [],
   "source": [
    "all_corridors += [rt_day.corridor]"
   ]
  },
  {
   "cell_type": "code",
   "execution_count": 47,
   "id": "aa392f06-3f23-4ac2-8345-5920e802a699",
   "metadata": {},
   "outputs": [],
   "source": [
    "# m = rt_day.segment_speed_map(how='low_speeds', no_title=False, shn=True, corridor=True)"
   ]
  },
  {
   "cell_type": "markdown",
   "id": "d5f8039a-4414-4a3c-9c51-5afab9ba57c5",
   "metadata": {},
   "source": [
    "# Samtrans (add, optional)"
   ]
  },
  {
   "cell_type": "code",
   "execution_count": null,
   "id": "de9ca499-cff0-4db4-9cf7-a736985bfa0c",
   "metadata": {
    "tags": [
     "parameters"
    ]
   },
   "outputs": [],
   "source": [
    "## parameters cell\n",
    "itp_id = 290"
   ]
  },
  {
   "cell_type": "code",
   "execution_count": null,
   "id": "3613883a-9463-4cde-b6d0-5e88d2ee18f7",
   "metadata": {},
   "outputs": [],
   "source": [
    "%%capture\n",
    "rt_day = rt_filter_map_plot.from_gcs(itp_id, analysis_date, pbar)"
   ]
  },
  {
   "cell_type": "code",
   "execution_count": null,
   "id": "19e435db-3f60-47fb-9c9a-17111f80b415",
   "metadata": {},
   "outputs": [],
   "source": [
    "%%capture_parameters\n",
    "organization_name = rt_day.organization_name\n",
    "organization_name"
   ]
  },
  {
   "cell_type": "code",
   "execution_count": null,
   "id": "04c4b687-98c9-4214-aef6-75e5b1f1cd64",
   "metadata": {},
   "outputs": [],
   "source": [
    "rt_day.set_filter(route_names = ['ECR'])"
   ]
  },
  {
   "cell_type": "code",
   "execution_count": null,
   "id": "1d2ec7c9-3245-4246-9955-51d697055915",
   "metadata": {},
   "outputs": [],
   "source": [
    "_m = rt_day.segment_speed_map()"
   ]
  },
  {
   "cell_type": "markdown",
   "id": "414076ab-4575-4627-9c0f-d7d5db288e4b",
   "metadata": {},
   "source": [
    "## Samtrans ECR\n",
    "\n",
    "TODO merge shape, don't do 2 parts..."
   ]
  },
  {
   "cell_type": "code",
   "execution_count": null,
   "id": "57148623-6a26-488d-8eed-38828b4df9e4",
   "metadata": {},
   "outputs": [],
   "source": [
    "rt_day.autocorridor(shape_id = 'ECR1095', stop_seq_range = [3, 65])"
   ]
  },
  {
   "cell_type": "code",
   "execution_count": null,
   "id": "69789d35-4848-461e-aa54-07d3a097cf7d",
   "metadata": {},
   "outputs": [],
   "source": [
    "rt_day.corridor_stop_delays >> distinct(_.route_short_name)"
   ]
  },
  {
   "cell_type": "code",
   "execution_count": null,
   "id": "3ceac66c-d2c2-4424-9fd1-96c0d173f457",
   "metadata": {},
   "outputs": [],
   "source": [
    "rt_day.corridor_metrics()"
   ]
  },
  {
   "cell_type": "code",
   "execution_count": null,
   "id": "9d7c2438-47b9-4e42-af9f-0ca78aa53623",
   "metadata": {},
   "outputs": [],
   "source": [
    "rt_day.quick_map_corridor()"
   ]
  },
  {
   "cell_type": "code",
   "execution_count": null,
   "id": "8ff205ca-d104-46cd-b83d-c9eba3a5324e",
   "metadata": {},
   "outputs": [],
   "source": [
    "# m = rt_day.segment_speed_map(how='low_speeds', no_title=False, shn=True, corridor=True)\n",
    "\n",
    "# m"
   ]
  },
  {
   "cell_type": "markdown",
   "id": "1be5a0b2-7a3a-4b97-93dc-cd28d082b1b8",
   "metadata": {},
   "source": [
    "## Part B\n",
    "\n",
    "TODO merge shape, don't do 2 parts..."
   ]
  },
  {
   "cell_type": "code",
   "execution_count": null,
   "id": "f86c05ff-9d54-4feb-98ec-abac762a6116",
   "metadata": {},
   "outputs": [],
   "source": [
    "rt_day.autocorridor(shape_id = 'ECR1098', stop_seq_range = [4, 35])"
   ]
  },
  {
   "cell_type": "code",
   "execution_count": null,
   "id": "1496ca22-77c6-4d96-87bf-dcbab233f8b3",
   "metadata": {},
   "outputs": [],
   "source": [
    "rt_day.corridor_stop_delays >> distinct(_.route_short_name)"
   ]
  },
  {
   "cell_type": "code",
   "execution_count": null,
   "id": "00793631-01ce-4784-8a3c-047d51a0b4f7",
   "metadata": {},
   "outputs": [],
   "source": [
    "rt_day.corridor_metrics()"
   ]
  },
  {
   "cell_type": "code",
   "execution_count": null,
   "id": "c6d7410a-4211-4106-86a5-7572300e14d1",
   "metadata": {},
   "outputs": [],
   "source": [
    "rt_day.quick_map_corridor()"
   ]
  },
  {
   "cell_type": "code",
   "execution_count": 48,
   "id": "45cd449b-ad88-47b2-811c-d4d5e0f429b5",
   "metadata": {},
   "outputs": [],
   "source": [
    "# m = rt_day.segment_speed_map(how='low_speeds', no_title=False, shn=True, corridor=True)"
   ]
  },
  {
   "cell_type": "markdown",
   "id": "c776a46b-b32e-413c-a7e9-6a406835c930",
   "metadata": {},
   "source": [
    "# Foothill (eval)"
   ]
  },
  {
   "cell_type": "code",
   "execution_count": null,
   "id": "10513c0e-d957-4e0e-b2d1-9bdf032540fd",
   "metadata": {
    "tags": [
     "parameters"
    ]
   },
   "outputs": [],
   "source": [
    "## parameters cell\n",
    "itp_id = 112"
   ]
  },
  {
   "cell_type": "code",
   "execution_count": null,
   "id": "671c2b41-ef6e-450a-9bd6-e00ebcc6c95f",
   "metadata": {},
   "outputs": [],
   "source": [
    "%%capture\n",
    "rt_day = rt_filter_map_plot.from_gcs(itp_id, analysis_date, pbar)"
   ]
  },
  {
   "cell_type": "code",
   "execution_count": null,
   "id": "2f11df5d-fee7-46ed-97e6-9e67b4e9fb30",
   "metadata": {},
   "outputs": [],
   "source": [
    "%%capture_parameters\n",
    "organization_name = rt_day.organization_name\n",
    "organization_name"
   ]
  },
  {
   "cell_type": "code",
   "execution_count": null,
   "id": "5b4098b7-5231-4fb6-9adc-4fc9bd6e7562",
   "metadata": {},
   "outputs": [],
   "source": [
    "rt_day.set_filter(route_names = ['188'])"
   ]
  },
  {
   "cell_type": "code",
   "execution_count": null,
   "id": "2223497f-8f4e-45ae-af3b-c2479df859c5",
   "metadata": {},
   "outputs": [],
   "source": [
    "_m = rt_day.segment_speed_map()"
   ]
  },
  {
   "cell_type": "markdown",
   "id": "997a19a8-f5e5-4fd1-9e52-86ff8728b232",
   "metadata": {},
   "source": [
    "## Foothill Foothill Bl"
   ]
  },
  {
   "cell_type": "code",
   "execution_count": null,
   "id": "b752f818-045c-4585-8105-eb061f260532",
   "metadata": {},
   "outputs": [],
   "source": [
    "rt_day.autocorridor(shape_id = '12286_shp', stop_seq_range = [1779, 2834])"
   ]
  },
  {
   "cell_type": "code",
   "execution_count": null,
   "id": "adcd5401-b0c4-42ad-8ec7-04e1c0e08339",
   "metadata": {},
   "outputs": [],
   "source": [
    "rt_day.corridor_stop_delays >> distinct(_.route_short_name)"
   ]
  },
  {
   "cell_type": "code",
   "execution_count": null,
   "id": "b1e07b72-953a-4cd9-a771-0b5cc644f6c8",
   "metadata": {},
   "outputs": [],
   "source": [
    "rt_day.corridor_metrics()"
   ]
  },
  {
   "cell_type": "code",
   "execution_count": null,
   "id": "a4b6bfee-0c57-408b-aa86-20ac60e0d51b",
   "metadata": {},
   "outputs": [],
   "source": [
    "rt_day.quick_map_corridor()"
   ]
  },
  {
   "cell_type": "code",
   "execution_count": null,
   "id": "406ab603-fe67-4c19-9100-af6bff7fd9f0",
   "metadata": {},
   "outputs": [],
   "source": [
    "m = rt_day.segment_speed_map(how='low_speeds', no_title=False, shn=True, corridor=True)"
   ]
  },
  {
   "cell_type": "code",
   "execution_count": null,
   "id": "92cc8ac5-d8f0-47a6-9716-864399633dc9",
   "metadata": {},
   "outputs": [],
   "source": [
    "m"
   ]
  },
  {
   "cell_type": "markdown",
   "id": "3e5b02b1-529b-42de-9adc-cdb90e61cb54",
   "metadata": {},
   "source": [
    "# From Project List\n",
    "https://app.smartsheet.com/reports/4gRrr282hJ3MPVG7hcqX4XQHh2FR4GgpfW6pq5Q1?view=grid"
   ]
  },
  {
   "cell_type": "code",
   "execution_count": null,
   "id": "0f708a99-d819-4122-bf80-60b9a3e5ecdd",
   "metadata": {
    "tags": []
   },
   "outputs": [],
   "source": [
    "# shared_utils.rt_utils.show_full_df((pd.read_parquet('./_rt_progress_2023-05-17.parquet')\n",
    "#                                    >> filter(_.status == 'map_confirmed')\n",
    "#                                    )\n",
    "#                                   )"
   ]
  },
  {
   "cell_type": "code",
   "execution_count": null,
   "id": "b053e5f7-b40a-4572-9af2-24918e4ed470",
   "metadata": {},
   "outputs": [],
   "source": [
    "# analysis_date = dt.date(2023, 5, 17)"
   ]
  },
  {
   "cell_type": "markdown",
   "id": "3b99a6fd-b193-4098-9f56-e6e30c42e9b6",
   "metadata": {
    "tags": []
   },
   "source": [
    "# Eureka"
   ]
  },
  {
   "cell_type": "code",
   "execution_count": null,
   "id": "c76b25ac-aa80-44b6-9f16-43808bcdf0d8",
   "metadata": {},
   "outputs": [],
   "source": [
    "import importlib\n",
    "importlib.reload(rt_filter_map_plot)"
   ]
  },
  {
   "cell_type": "code",
   "execution_count": null,
   "id": "f7330beb-543e-40a0-9005-17da0b44702f",
   "metadata": {
    "tags": [
     "parameters"
    ]
   },
   "outputs": [],
   "source": [
    "## parameters cell\n",
    "itp_id = 108"
   ]
  },
  {
   "cell_type": "code",
   "execution_count": null,
   "id": "2189f4aa-6700-47e5-a1e0-d6f8617b7360",
   "metadata": {},
   "outputs": [],
   "source": [
    "%%capture\n",
    "rt_day = rt_filter_map_plot.from_gcs(itp_id, analysis_date, pbar)"
   ]
  },
  {
   "cell_type": "code",
   "execution_count": null,
   "id": "15b9d5a9-b776-44e8-a7ca-43b7355f241c",
   "metadata": {},
   "outputs": [],
   "source": [
    "%%capture_parameters\n",
    "organization_name = rt_day.organization_name\n",
    "organization_name"
   ]
  },
  {
   "cell_type": "code",
   "execution_count": null,
   "id": "94d8f6cc-f8a7-4c57-846a-a7f5a9099bd9",
   "metadata": {},
   "outputs": [],
   "source": [
    "# rt_day.set_filter(route_names = ['188'])"
   ]
  },
  {
   "cell_type": "code",
   "execution_count": null,
   "id": "1661351a-02bf-4b06-b3f7-b678198a164e",
   "metadata": {},
   "outputs": [],
   "source": [
    "_m = rt_day.segment_speed_map()"
   ]
  },
  {
   "cell_type": "markdown",
   "id": "eb543d56-3437-41b1-894f-9cd9b83fa7c0",
   "metadata": {
    "tags": []
   },
   "source": [
    "## Eureka US101 (Broadway Truesdale - 4th per [RTP](https://www.hcaog.net/sites/default/files/vroom_2022-2042_full_report.pdf))\n",
    "\n",
    "* difficult to analyze -- need to exclude distant stops from corridor (add to algorithm?)\n",
    "* standardize on most common trip pattern"
   ]
  },
  {
   "cell_type": "code",
   "execution_count": null,
   "id": "7416921b-42cb-48c7-a4fd-134fd6b75e58",
   "metadata": {},
   "outputs": [],
   "source": [
    "rt_day.autocorridor(shape_id = 'p_178050', stop_seq_range = [13, 13.5],\n",
    "manual_exclude={'p_179049': {'max': 4}, 'p_179044': {'max': 4}})\n",
    "# intercity service, exclude stops distant from corridor"
   ]
  },
  {
   "cell_type": "code",
   "execution_count": null,
   "id": "7cabb7ed-017a-4f95-97ea-977a1055c42d",
   "metadata": {},
   "outputs": [],
   "source": [
    "rt_day.corridor_stop_delays >> distinct(_.route_short_name)"
   ]
  },
  {
   "cell_type": "code",
   "execution_count": null,
   "id": "be8b318e-6272-46b5-b28d-597fef8c1042",
   "metadata": {},
   "outputs": [],
   "source": [
    "rt_day.corridor_metrics()"
   ]
  },
  {
   "cell_type": "code",
   "execution_count": null,
   "id": "e133a440-2bf7-46c9-8395-2161913663ea",
   "metadata": {},
   "outputs": [],
   "source": [
    "rt_day.quick_map_corridor()"
   ]
  },
  {
   "cell_type": "code",
   "execution_count": null,
   "id": "83185f80-3f86-429d-86af-f54c22522063",
   "metadata": {},
   "outputs": [],
   "source": [
    "m = rt_day.segment_speed_map(how='low_speeds', no_title=False, shn=True, corridor=True)"
   ]
  },
  {
   "cell_type": "code",
   "execution_count": null,
   "id": "782ba9cc-866c-4cf9-b36e-1e0f969782b0",
   "metadata": {},
   "outputs": [],
   "source": [
    "m"
   ]
  },
  {
   "cell_type": "code",
   "execution_count": null,
   "id": "c65f0c31-d465-4555-aca5-0596daee0327",
   "metadata": {},
   "outputs": [],
   "source": [
    "all_corridors += [rt_day.corridor]"
   ]
  },
  {
   "cell_type": "markdown",
   "id": "a7e42150-fc2a-4a73-81bf-965ee280b667",
   "metadata": {},
   "source": [
    "# TART SR267/89 -- no data"
   ]
  },
  {
   "cell_type": "markdown",
   "id": "e33c342c-36a8-48db-8d87-7e41a98b72b1",
   "metadata": {},
   "source": [
    "# Tahoe Transportation District US50\n",
    "\n",
    "* limited data geographic extent"
   ]
  },
  {
   "cell_type": "code",
   "execution_count": null,
   "id": "905e1c6b-7236-43ec-99e1-d232ecd19d7c",
   "metadata": {
    "tags": [
     "parameters"
    ]
   },
   "outputs": [],
   "source": [
    "## parameters cell\n",
    "itp_id = 331"
   ]
  },
  {
   "cell_type": "code",
   "execution_count": null,
   "id": "f5066302-4d17-45bd-bb7d-65d5dfab2d84",
   "metadata": {},
   "outputs": [],
   "source": [
    "%%capture\n",
    "rt_day = rt_filter_map_plot.from_gcs(itp_id, analysis_date, pbar)"
   ]
  },
  {
   "cell_type": "code",
   "execution_count": null,
   "id": "80e91697-add5-4f2d-8456-43ee531436bb",
   "metadata": {},
   "outputs": [],
   "source": [
    "%%capture_parameters\n",
    "organization_name = rt_day.organization_name\n",
    "organization_name"
   ]
  },
  {
   "cell_type": "code",
   "execution_count": null,
   "id": "732deb97-958e-4d47-a920-1c47f319fa92",
   "metadata": {},
   "outputs": [],
   "source": [
    "_m = rt_day.segment_speed_map()"
   ]
  },
  {
   "cell_type": "code",
   "execution_count": null,
   "id": "ffd8cbea-f69e-46ea-85b3-4f5841d25546",
   "metadata": {},
   "outputs": [],
   "source": [
    "rt_day.autocorridor(shape_id = 'p_497358', stop_seq_range = [0, 20])"
   ]
  },
  {
   "cell_type": "code",
   "execution_count": null,
   "id": "fbffabbe-c1f2-4e7c-a8f2-b4643bdfcbab",
   "metadata": {},
   "outputs": [],
   "source": [
    "rt_day.corridor_stop_delays >> distinct(_.route_short_name)"
   ]
  },
  {
   "cell_type": "code",
   "execution_count": null,
   "id": "2447e950-929b-4416-9b3a-00e57e118f63",
   "metadata": {},
   "outputs": [],
   "source": [
    "rt_day.corridor_metrics()"
   ]
  },
  {
   "cell_type": "code",
   "execution_count": null,
   "id": "e10de605-9565-4e02-b6d9-eaf7160b014c",
   "metadata": {},
   "outputs": [],
   "source": [
    "rt_day.quick_map_corridor()"
   ]
  },
  {
   "cell_type": "code",
   "execution_count": null,
   "id": "088f48fb-6c85-4b58-af95-ac9c165b5745",
   "metadata": {},
   "outputs": [],
   "source": [
    "m = rt_day.segment_speed_map(how='low_speeds', no_title=False, shn=True, corridor=True)"
   ]
  },
  {
   "cell_type": "code",
   "execution_count": null,
   "id": "c52e5779-a0af-4df6-be19-5e166deeef33",
   "metadata": {},
   "outputs": [],
   "source": [
    "m"
   ]
  },
  {
   "cell_type": "code",
   "execution_count": null,
   "id": "fa125480-de9b-4d4c-8567-23b6ba08ea90",
   "metadata": {},
   "outputs": [],
   "source": [
    "all_corridors += [rt_day.corridor]"
   ]
  },
  {
   "cell_type": "markdown",
   "id": "18e3e499-8be9-4e50-a56e-c3eefd180e69",
   "metadata": {},
   "source": [
    "# Fresno -- unable eval (new services)"
   ]
  },
  {
   "cell_type": "markdown",
   "id": "31dbda93-21df-4319-a2f8-50862dc0f7fa",
   "metadata": {
    "tags": []
   },
   "source": [
    "# VCTC (SR126 Fillmore - Ventura)\n",
    "\n",
    "* minimal thru running delay on available data..."
   ]
  },
  {
   "cell_type": "code",
   "execution_count": null,
   "id": "218e05de-c371-4792-a7c3-b56767335c92",
   "metadata": {
    "tags": [
     "parameters"
    ]
   },
   "outputs": [],
   "source": [
    "## parameters cell\n",
    "itp_id = 380"
   ]
  },
  {
   "cell_type": "code",
   "execution_count": null,
   "id": "54c8dbdb-c82d-496d-af25-58a7eeb867e4",
   "metadata": {},
   "outputs": [],
   "source": [
    "# analysis_date = dt.date(2023, 4, 12)"
   ]
  },
  {
   "cell_type": "code",
   "execution_count": null,
   "id": "91759504-a1d1-48fa-a355-4aefcbd459f4",
   "metadata": {},
   "outputs": [],
   "source": [
    "%%capture\n",
    "rt_day = rt_filter_map_plot.from_gcs(itp_id, analysis_date, pbar)"
   ]
  },
  {
   "cell_type": "code",
   "execution_count": null,
   "id": "9b13a1aa-cd59-4073-abdb-6c1b7c728861",
   "metadata": {},
   "outputs": [],
   "source": [
    "%%capture_parameters\n",
    "organization_name = rt_day.organization_name\n",
    "organization_name"
   ]
  },
  {
   "cell_type": "code",
   "execution_count": null,
   "id": "1ff941fa-f957-4fc8-91be-d47ea3320bf6",
   "metadata": {},
   "outputs": [],
   "source": [
    "_m = rt_day.segment_speed_map()"
   ]
  },
  {
   "cell_type": "code",
   "execution_count": null,
   "id": "f705cde4-ab71-4ff9-b8c2-b6fbf4fde6cc",
   "metadata": {},
   "outputs": [],
   "source": [
    "_m"
   ]
  },
  {
   "cell_type": "markdown",
   "id": "2a06598a-c0b6-4ddb-954c-96a3a989072b",
   "metadata": {
    "tags": []
   },
   "source": [
    "# LA Metro Projects\n",
    "\n",
    "* NoHo-Pas BRT to only briefly use SR134, light delay\n",
    "* As per sheet, NSFV improvements only intersect SHN\n",
    "* Inglewood connector, Arbor Vitae not on SHN...\n",
    "* Games Route Network, etc unable to analyze"
   ]
  },
  {
   "cell_type": "markdown",
   "id": "6089133c-1d91-4965-9bfb-20269928511c",
   "metadata": {},
   "source": [
    "# Victor Valley\n",
    "\n",
    "* service runs, difficult to evaluate\n",
    "* 0.5/hour, limited span"
   ]
  },
  {
   "cell_type": "markdown",
   "id": "71e0341a-f722-4aef-afdb-c2e1ec15ee39",
   "metadata": {},
   "source": [
    "# Others\n",
    "\n",
    "* OCTA speculative, new services unable to eval"
   ]
  },
  {
   "cell_type": "markdown",
   "id": "b3900a52-45b5-4dd8-85f8-93830d4a0904",
   "metadata": {},
   "source": [
    "# OCTA SR39\n",
    "\n",
    "* multiple SHN sections, eval longest\n",
    "* about 5 trips/hour combined!"
   ]
  },
  {
   "cell_type": "code",
   "execution_count": null,
   "id": "005ea2f3-c8a8-4f76-9f81-9362726c7ba6",
   "metadata": {
    "tags": [
     "parameters"
    ]
   },
   "outputs": [],
   "source": [
    "## parameters cell\n",
    "itp_id = 235"
   ]
  },
  {
   "cell_type": "code",
   "execution_count": null,
   "id": "e97e5812-fa2c-492a-a051-1ae1d27ad154",
   "metadata": {},
   "outputs": [],
   "source": [
    "%%capture\n",
    "rt_day = rt_filter_map_plot.from_gcs(itp_id, analysis_date, pbar)"
   ]
  },
  {
   "cell_type": "code",
   "execution_count": null,
   "id": "650ddf4f-8e18-432b-9705-0d5b47548471",
   "metadata": {},
   "outputs": [],
   "source": [
    "%%capture_parameters\n",
    "organization_name = rt_day.organization_name\n",
    "organization_name"
   ]
  },
  {
   "cell_type": "code",
   "execution_count": null,
   "id": "40533ff5-5f14-48c7-bb87-95441ba6ed83",
   "metadata": {},
   "outputs": [],
   "source": [
    "_m = rt_day.segment_speed_map()"
   ]
  },
  {
   "cell_type": "code",
   "execution_count": null,
   "id": "186d49c5-dfdd-4975-90ca-e5aad861064a",
   "metadata": {},
   "outputs": [],
   "source": [
    "rt_day.autocorridor(shape_id = '2902', stop_seq_range = [5, 51])"
   ]
  },
  {
   "cell_type": "code",
   "execution_count": null,
   "id": "d9672f0f-5516-4abd-aff8-8add9460d677",
   "metadata": {},
   "outputs": [],
   "source": [
    "rt_day.corridor_stop_delays >> distinct(_.route_short_name)"
   ]
  },
  {
   "cell_type": "code",
   "execution_count": null,
   "id": "d48f18f9-c38f-4bcb-8531-8ebbd94a6e11",
   "metadata": {},
   "outputs": [],
   "source": [
    "rt_day.corridor_metrics()"
   ]
  },
  {
   "cell_type": "code",
   "execution_count": null,
   "id": "4289d0f7-f33f-4db4-a665-c1bb66f48a73",
   "metadata": {},
   "outputs": [],
   "source": [
    "rt_day.quick_map_corridor()"
   ]
  },
  {
   "cell_type": "code",
   "execution_count": null,
   "id": "73bdd5d5-e7c8-45f6-9c9b-c2b3b565feeb",
   "metadata": {},
   "outputs": [],
   "source": [
    "m = rt_day.segment_speed_map(how='low_speeds', no_title=False, shn=True, corridor=True)"
   ]
  },
  {
   "cell_type": "code",
   "execution_count": null,
   "id": "e5ab48bf-68bd-43a9-902e-8ed1713c022e",
   "metadata": {},
   "outputs": [],
   "source": [
    "m"
   ]
  },
  {
   "cell_type": "code",
   "execution_count": null,
   "id": "854eb7c9-b17b-4760-a60c-61e40183dfda",
   "metadata": {},
   "outputs": [],
   "source": [
    "all_corridors += [rt_day.corridor]"
   ]
  }
 ],
 "metadata": {
  "kernelspec": {
   "display_name": "Python 3 (ipykernel)",
   "language": "python",
   "name": "python3"
  },
  "language_info": {
   "codemirror_mode": {
    "name": "ipython",
    "version": 3
   },
   "file_extension": ".py",
   "mimetype": "text/x-python",
   "name": "python",
   "nbconvert_exporter": "python",
   "pygments_lexer": "ipython3",
   "version": "3.9.13"
  },
  "widgets": {
   "application/vnd.jupyter.widget-state+json": {
    "state": {
     "156715ae62474dddbf9856f343c333f3": {
      "model_module": "@jupyter-widgets/controls",
      "model_module_version": "1.5.0",
      "model_name": "HBoxModel",
      "state": {
       "children": [
        "IPY_MODEL_9fd76052415142ac8eb85c14234a02ae",
        "IPY_MODEL_22dfb16699354e099354405873989a1e",
        "IPY_MODEL_2f208646884a4e899423368a3d6150eb"
       ],
       "layout": "IPY_MODEL_d151060a4c5d4a608e6699f10d683adf"
      }
     },
     "22dfb16699354e099354405873989a1e": {
      "model_module": "@jupyter-widgets/controls",
      "model_module_version": "1.5.0",
      "model_name": "FloatProgressModel",
      "state": {
       "layout": "IPY_MODEL_89573b3ebc02407fb9eceb2690b40746",
       "max": 6,
       "style": "IPY_MODEL_2a052285c50f43f48720c44be2daf624",
       "value": 1
      }
     },
     "2a052285c50f43f48720c44be2daf624": {
      "model_module": "@jupyter-widgets/controls",
      "model_module_version": "1.5.0",
      "model_name": "ProgressStyleModel",
      "state": {
       "description_width": ""
      }
     },
     "2c6ff5353d0949d9b5d5f2947caf25dd": {
      "model_module": "@jupyter-widgets/controls",
      "model_module_version": "1.5.0",
      "model_name": "DescriptionStyleModel",
      "state": {
       "description_width": ""
      }
     },
     "2f208646884a4e899423368a3d6150eb": {
      "model_module": "@jupyter-widgets/controls",
      "model_module_version": "1.5.0",
      "model_name": "HTMLModel",
      "state": {
       "layout": "IPY_MODEL_568833e2228a465e89f65cc1f7795e57",
       "style": "IPY_MODEL_2c6ff5353d0949d9b5d5f2947caf25dd",
       "value": " 1/6 [00:23&lt;01:56, 23.38s/it]"
      }
     },
     "3f557ace28b748b7b9e49fb76b1586a2": {
      "model_module": "@jupyter-widgets/controls",
      "model_module_version": "1.5.0",
      "model_name": "DescriptionStyleModel",
      "state": {
       "description_width": ""
      }
     },
     "568833e2228a465e89f65cc1f7795e57": {
      "model_module": "@jupyter-widgets/base",
      "model_module_version": "1.2.0",
      "model_name": "LayoutModel",
      "state": {}
     },
     "89573b3ebc02407fb9eceb2690b40746": {
      "model_module": "@jupyter-widgets/base",
      "model_module_version": "1.2.0",
      "model_name": "LayoutModel",
      "state": {}
     },
     "9fd76052415142ac8eb85c14234a02ae": {
      "model_module": "@jupyter-widgets/controls",
      "model_module_version": "1.5.0",
      "model_name": "HTMLModel",
      "state": {
       "layout": "IPY_MODEL_a83605513bee45fbb38816911db56a13",
       "style": "IPY_MODEL_3f557ace28b748b7b9e49fb76b1586a2",
       "value": "Generating segment speeds itp_id: 282:  17%"
      }
     },
     "a83605513bee45fbb38816911db56a13": {
      "model_module": "@jupyter-widgets/base",
      "model_module_version": "1.2.0",
      "model_name": "LayoutModel",
      "state": {}
     },
     "d151060a4c5d4a608e6699f10d683adf": {
      "model_module": "@jupyter-widgets/base",
      "model_module_version": "1.2.0",
      "model_name": "LayoutModel",
      "state": {}
     }
    },
    "version_major": 2,
    "version_minor": 0
   }
  }
 },
 "nbformat": 4,
 "nbformat_minor": 5
}
