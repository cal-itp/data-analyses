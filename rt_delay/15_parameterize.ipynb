{
 "cells": [
  {
   "cell_type": "code",
   "execution_count": 1,
   "id": "5019a239-e226-4a6e-b3eb-b9be480f8df7",
   "metadata": {},
   "outputs": [
    {
     "name": "stderr",
     "output_type": "stream",
     "text": [
      "E0414 14:59:06.383147071    1047 fork_posix.cc:70]           Fork support is only compatible with the epoll1 and poll polling strategies\n",
      "E0414 14:59:08.958521014    1047 fork_posix.cc:70]           Fork support is only compatible with the epoll1 and poll polling strategies\n"
     ]
    }
   ],
   "source": [
    "%%capture\n",
    "import warnings\n",
    "warnings.filterwarnings('ignore')\n",
    "\n",
    "import os\n",
    "os.environ[\"CALITP_BQ_MAX_BYTES\"] = str(800_000_000_000)\n",
    "import shared_utils\n",
    "import utils\n",
    "\n",
    "from calitp.tables import tbl\n",
    "from calitp import query_sql\n",
    "import calitp.magics\n",
    "\n",
    "from siuba import *\n",
    "import pandas as pd\n",
    "import geopandas as gpd\n",
    "\n",
    "import datetime as dt\n",
    "\n",
    "import importlib\n",
    "import rt_filter_map_plot"
   ]
  },
  {
   "cell_type": "code",
   "execution_count": 2,
   "id": "9f15ed6a-5ab7-4f57-9695-3f762781b74c",
   "metadata": {
    "tags": [
     "parameters"
    ]
   },
   "outputs": [],
   "source": [
    "## parameters cell\n",
    "itp_id = 300"
   ]
  },
  {
   "cell_type": "code",
   "execution_count": 3,
   "id": "6c2e9651-70e4-4403-b43d-da50315ef8fd",
   "metadata": {},
   "outputs": [],
   "source": [
    "airtable_organizations = (\n",
    "    tbl.airtable.california_transit_organizations()\n",
    "    >> select(_.itp_id, _.name, _.caltrans_district,\n",
    "              _.website, _.ntp_id, _.drmt_organization_name)\n",
    "    >> filter(_.itp_id == itp_id)\n",
    "    >> collect()\n",
    ")"
   ]
  },
  {
   "cell_type": "code",
   "execution_count": 4,
   "id": "cc9c7000-4042-4f64-b7ef-8e8e5f1e706a",
   "metadata": {},
   "outputs": [],
   "source": [
    "# airtable_organizations"
   ]
  },
  {
   "cell_type": "code",
   "execution_count": 5,
   "id": "306a7053-3fab-4723-a287-111e4eba11f2",
   "metadata": {},
   "outputs": [],
   "source": [
    "analysis_date = dt.date(2022, 3, 30)"
   ]
  },
  {
   "cell_type": "code",
   "execution_count": 6,
   "id": "1739d979-cd4d-456c-a1ad-a016cbf69cad",
   "metadata": {
    "tags": []
   },
   "outputs": [],
   "source": [
    "trips = pd.read_parquet(f'{utils.GCS_FILE_PATH}rt_trips/{itp_id}_03_30.parquet')"
   ]
  },
  {
   "cell_type": "code",
   "execution_count": 7,
   "id": "b77a9167-4017-4367-8fed-d4e6bf3999b9",
   "metadata": {
    "tags": []
   },
   "outputs": [],
   "source": [
    "stop_delay = gpd.read_parquet(f'{utils.GCS_FILE_PATH}stop_delay_views/{itp_id}_03_30.parquet')\n",
    "stop_delay['arrival_time'] = stop_delay.arrival_time.map(lambda x: dt.datetime.fromisoformat(x))\n",
    "stop_delay['actual_time'] = stop_delay.actual_time.map(lambda x: dt.datetime.fromisoformat(x))"
   ]
  },
  {
   "cell_type": "code",
   "execution_count": 8,
   "id": "2b2fe439-10af-4140-ab83-69b05c385b40",
   "metadata": {
    "tags": []
   },
   "outputs": [],
   "source": [
    "%%capture\n",
    "routelines = utils.get_routelines(itp_id, analysis_date)"
   ]
  },
  {
   "cell_type": "code",
   "execution_count": 9,
   "id": "e4cbefc6-9bbb-4989-85b7-1f31da17fcb8",
   "metadata": {},
   "outputs": [],
   "source": [
    "%%capture\n",
    "rt_day = rt_filter_map_plot.RtFilterMapper(trips, stop_delay, routelines)"
   ]
  },
  {
   "cell_type": "markdown",
   "id": "046d6d1d-6913-43ef-9aa4-bee60d2a0645",
   "metadata": {},
   "source": [
    "# Bus Speed Maps and Delay Analysis {itp_id}"
   ]
  },
  {
   "cell_type": "code",
   "execution_count": 11,
   "id": "079dd260-fc0e-43dd-9a21-41200a96bad9",
   "metadata": {},
   "outputs": [],
   "source": [
    "from IPython.display import display, Markdown, Latex"
   ]
  },
  {
   "cell_type": "code",
   "execution_count": 15,
   "id": "89c3b646-4a1d-4e3e-99e9-d6a9cc242101",
   "metadata": {},
   "outputs": [
    {
     "data": {
      "text/markdown": [
       "Bus Speed Maps and Delay Analysis Big Blue Bus, District 07 - Los Angeles"
      ],
      "text/plain": [
       "<IPython.core.display.Markdown object>"
      ]
     },
     "execution_count": 15,
     "metadata": {},
     "output_type": "execute_result"
    }
   ],
   "source": [
    "Markdown(f'Bus Speed Maps and Delay Analysis {rt_day.calitp_agency_name}, District {airtable_organizations.caltrans_district.iloc[0]}')"
   ]
  },
  {
   "cell_type": "markdown",
   "id": "30b70478-2bf3-4b36-aa09-ca9661eb51d9",
   "metadata": {
    "tags": []
   },
   "source": [
    "# Bus Speed Maps and Delay Analysis {rt_day.calitp_agency_name}, District {airtable_organizations.caltrans_district.iloc[0]}"
   ]
  },
  {
   "cell_type": "code",
   "execution_count": null,
   "id": "6c335d40-7a7b-4641-8a3d-c970b2823cdf",
   "metadata": {},
   "outputs": [],
   "source": [
    "%%export_papermill\n",
    "agency_name = rt_day.calitp_agency_name\n",
    "district = airtable_organizations.caltrans_district.iloc[0]"
   ]
  },
  {
   "cell_type": "markdown",
   "id": "fd719197-c87f-4622-8cf9-a8ecfd5c5855",
   "metadata": {},
   "source": [
    "# Bus Speed Maps and Delay Analysis {agency_name}, District {district}"
   ]
  },
  {
   "cell_type": "code",
   "execution_count": 13,
   "id": "de86aac8-6181-400c-a991-8e66ec770961",
   "metadata": {},
   "outputs": [],
   "source": [
    "%%capture\n",
    "rt_day.set_filter(start_time='15:00', end_time='19:00')"
   ]
  },
  {
   "cell_type": "code",
   "execution_count": null,
   "id": "8e940d3d-c76e-42ba-be8b-739852771ca6",
   "metadata": {},
   "outputs": [],
   "source": [
    "## avoid papermill errors when map fails to render\n",
    "m = None"
   ]
  },
  {
   "cell_type": "code",
   "execution_count": null,
   "id": "5e46b095-7bc2-4552-a37b-661d076b2b51",
   "metadata": {
    "tags": []
   },
   "outputs": [],
   "source": [
    "%%capture\n",
    "m = rt_day.segment_speed_map(how='low_speeds')"
   ]
  },
  {
   "cell_type": "code",
   "execution_count": null,
   "id": "0393f107-e9fe-4982-961a-032f7bf4e0eb",
   "metadata": {},
   "outputs": [],
   "source": [
    "m"
   ]
  },
  {
   "cell_type": "code",
   "execution_count": null,
   "id": "533a64f4-f374-4f2c-94d3-5146ebe7c036",
   "metadata": {},
   "outputs": [],
   "source": [
    "%%capture\n",
    "rt_day.set_filter(start_time='07:00', end_time='09:00')"
   ]
  },
  {
   "cell_type": "code",
   "execution_count": null,
   "id": "2f317120-99ee-435b-96cd-1236b8ee2e0b",
   "metadata": {
    "tags": []
   },
   "outputs": [],
   "source": [
    "%%capture\n",
    "m = rt_day.segment_speed_map(how='low_speeds')"
   ]
  },
  {
   "cell_type": "code",
   "execution_count": null,
   "id": "275087be-b46d-4acb-95fe-2dc98c2089a2",
   "metadata": {
    "tags": []
   },
   "outputs": [],
   "source": [
    "m"
   ]
  },
  {
   "cell_type": "code",
   "execution_count": null,
   "id": "91874f76-635b-4fde-8d61-abc795aca6c6",
   "metadata": {
    "tags": []
   },
   "outputs": [],
   "source": [
    "try:\n",
    "    metrics_df = (rt_day.rt_trips\n",
    "         >> group_by(_.route_short_name, _.direction_id)\n",
    "         >> summarize(speed_variance = _.mean_speed_mph.var(),\n",
    "                     mean_speed_mph = _.mean_speed_mph.mean(),\n",
    "                     min_hour = _.median_time.min().hour,\n",
    "                     max_hour = _.median_time.max().hour)\n",
    "         >> filter(_.min_hour <= 7, _.max_hour >= 15,\n",
    "                   _.mean_speed_mph < _.mean_speed_mph.quantile(.6),\n",
    "                   _.speed_variance)\n",
    "         >> arrange(-_.speed_variance)\n",
    "         >> head(20)\n",
    "        )\n",
    "    metrics_df\n",
    "except Exception as e:\n",
    "    print(e)\n",
    "## check that route has all-day span..."
   ]
  },
  {
   "cell_type": "code",
   "execution_count": null,
   "id": "758b0bae-32d0-40dd-a1d1-1d107b0e7e8b",
   "metadata": {
    "tags": []
   },
   "outputs": [],
   "source": [
    "def map_from_metrics(rt_day, metrics_df):\n",
    "    try:\n",
    "        route_name = metrics_df.iloc[1,0]\n",
    "        direction_id = metrics_df.iloc[1,1]\n",
    "    except Exception as e:\n",
    "        print(e)\n",
    "        return\n",
    "    # route_name = '281'\n",
    "    # direction_id = '1'\n",
    "    rt_day.set_filter(start_time='07:00', end_time='09:00',\n",
    "                      route_names=[route_name], direction_id = direction_id)\n",
    "    try:\n",
    "        am_map = rt_day.segment_speed_map(how='low_speeds')\n",
    "        display(am_map)\n",
    "    except Exception as e:\n",
    "        print(e)\n",
    "        pass\n",
    "    \n",
    "    rt_day.set_filter(start_time='11:00', end_time='14:00',\n",
    "                      route_names=[route_name], direction_id = direction_id)\n",
    "    try:\n",
    "        mid_map = rt_day.segment_speed_map(how='low_speeds')\n",
    "        display(mid_map)\n",
    "    except Exception as e:\n",
    "        print(e)\n",
    "        pass\n",
    "\n",
    "    rt_day.set_filter(start_time='15:00', end_time='19:00',\n",
    "                      route_names=[route_name], direction_id = direction_id)\n",
    "    try:\n",
    "        pm_map = rt_day.segment_speed_map(how='low_speeds')\n",
    "        display(pm_map)\n",
    "    except Exception as e:\n",
    "        print(e)\n",
    "        pass\n",
    "\n",
    "    return"
   ]
  },
  {
   "cell_type": "code",
   "execution_count": null,
   "id": "c7b4b043-6d15-4d9c-8aac-f0f6649e9552",
   "metadata": {},
   "outputs": [],
   "source": [
    "try:\n",
    "    map_from_metrics(rt_day, metrics_df)\n",
    "except Exception as e:\n",
    "    print(e)\n",
    "    pass"
   ]
  },
  {
   "cell_type": "code",
   "execution_count": null,
   "id": "a3a161f7-2a8f-4b9d-a71e-bedad8c7e08d",
   "metadata": {},
   "outputs": [],
   "source": []
  }
 ],
 "metadata": {
  "kernelspec": {
   "display_name": "Python 3 (ipykernel)",
   "language": "python",
   "name": "python3"
  },
  "language_info": {
   "codemirror_mode": {
    "name": "ipython",
    "version": 3
   },
   "file_extension": ".py",
   "mimetype": "text/x-python",
   "name": "python",
   "nbconvert_exporter": "python",
   "pygments_lexer": "ipython3",
   "version": "3.9.10"
  }
 },
 "nbformat": 4,
 "nbformat_minor": 5
}
