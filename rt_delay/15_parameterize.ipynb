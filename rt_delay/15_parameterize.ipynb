{
 "cells": [
  {
   "cell_type": "code",
   "execution_count": 1,
   "id": "46898b5c-b5cc-4096-ab68-8c3e42fab870",
   "metadata": {},
   "outputs": [
    {
     "name": "stderr",
     "output_type": "stream",
     "text": [
      "E0420 19:07:46.357626021    1051 fork_posix.cc:70]           Fork support is only compatible with the epoll1 and poll polling strategies\n",
      "E0420 19:07:48.612366318    1051 fork_posix.cc:70]           Fork support is only compatible with the epoll1 and poll polling strategies\n"
     ]
    }
   ],
   "source": [
    "%%capture\n",
    "import warnings\n",
    "warnings.filterwarnings('ignore')\n",
    "\n",
    "import os\n",
    "os.environ[\"CALITP_BQ_MAX_BYTES\"] = str(800_000_000_000)\n",
    "import shared_utils\n",
    "import utils\n",
    "\n",
    "from calitp.tables import tbl\n",
    "from calitp import query_sql\n",
    "import calitp.magics\n",
    "\n",
    "from siuba import *\n",
    "import pandas as pd\n",
    "import geopandas as gpd\n",
    "\n",
    "import datetime as dt\n",
    "\n",
    "import importlib\n",
    "import rt_filter_map_plot\n",
    "\n",
    "from IPython.display import display, Markdown, Latex, HTML\n",
    "import json"
   ]
  },
  {
   "cell_type": "code",
   "execution_count": 2,
   "id": "9f15ed6a-5ab7-4f57-9695-3f762781b74c",
   "metadata": {
    "tags": [
     "parameters"
    ]
   },
   "outputs": [],
   "source": [
    "## parameters cell\n",
    "itp_id = 312"
   ]
  },
  {
   "cell_type": "code",
   "execution_count": 3,
   "id": "6c2e9651-70e4-4403-b43d-da50315ef8fd",
   "metadata": {},
   "outputs": [],
   "source": [
    "airtable_organizations = (\n",
    "    tbl.airtable.california_transit_organizations()\n",
    "    >> select(_.itp_id, _.name, _.caltrans_district,\n",
    "              _.website, _.ntp_id, _.drmt_organization_name)\n",
    "    >> filter(_.itp_id == itp_id)\n",
    "    >> collect()\n",
    ")"
   ]
  },
  {
   "cell_type": "code",
   "execution_count": 4,
   "id": "cc9c7000-4042-4f64-b7ef-8e8e5f1e706a",
   "metadata": {},
   "outputs": [],
   "source": [
    "# airtable_organizations"
   ]
  },
  {
   "cell_type": "code",
   "execution_count": 5,
   "id": "306a7053-3fab-4723-a287-111e4eba11f2",
   "metadata": {},
   "outputs": [],
   "source": [
    "analysis_date = dt.date(2022, 3, 30)\n",
    "if itp_id == 273:\n",
    "    analysis_date = dt.date(2022, 2, 8) # #override for SacRT "
   ]
  },
  {
   "cell_type": "code",
   "execution_count": 6,
   "id": "47c79d99-c82f-4e1e-b11e-2b1e83c13a1b",
   "metadata": {},
   "outputs": [],
   "source": [
    "month_day = analysis_date.strftime('%m_%d')"
   ]
  },
  {
   "cell_type": "code",
   "execution_count": 7,
   "id": "1739d979-cd4d-456c-a1ad-a016cbf69cad",
   "metadata": {
    "tags": []
   },
   "outputs": [],
   "source": [
    "trips = pd.read_parquet(f'{utils.GCS_FILE_PATH}rt_trips/{itp_id}_{month_day}.parquet')"
   ]
  },
  {
   "cell_type": "code",
   "execution_count": 8,
   "id": "b77a9167-4017-4367-8fed-d4e6bf3999b9",
   "metadata": {
    "tags": []
   },
   "outputs": [],
   "source": [
    "stop_delay = gpd.read_parquet(f'{utils.GCS_FILE_PATH}stop_delay_views/{itp_id}_{month_day}.parquet')\n",
    "stop_delay['arrival_time'] = stop_delay.arrival_time.map(lambda x: dt.datetime.fromisoformat(x))\n",
    "stop_delay['actual_time'] = stop_delay.actual_time.map(lambda x: dt.datetime.fromisoformat(x))"
   ]
  },
  {
   "cell_type": "code",
   "execution_count": 9,
   "id": "2b2fe439-10af-4140-ab83-69b05c385b40",
   "metadata": {
    "tags": []
   },
   "outputs": [
    {
     "name": "stderr",
     "output_type": "stream",
     "text": [
      "E0420 12:07:51.337340132    1051 fork_posix.cc:70]           Fork support is only compatible with the epoll1 and poll polling strategies\n"
     ]
    }
   ],
   "source": [
    "%%capture\n",
    "routelines = utils.get_routelines(itp_id, analysis_date)"
   ]
  },
  {
   "cell_type": "code",
   "execution_count": 10,
   "id": "e4cbefc6-9bbb-4989-85b7-1f31da17fcb8",
   "metadata": {},
   "outputs": [],
   "source": [
    "%%capture\n",
    "rt_day = rt_filter_map_plot.RtFilterMapper(trips, stop_delay, routelines)"
   ]
  },
  {
   "cell_type": "code",
   "execution_count": 11,
   "id": "6c335d40-7a7b-4641-8a3d-c970b2823cdf",
   "metadata": {},
   "outputs": [
    {
     "name": "stdout",
     "output_type": "stream",
     "text": [
      "{\"agency_name\": \"Santa Ynez Valley Transit\", \"district\": \"05 - San Luis Obispo\"}\n"
     ]
    }
   ],
   "source": [
    "%%capture_parameters\n",
    "agency_name = rt_day.calitp_agency_name\n",
    "district = airtable_organizations.caltrans_district.iloc[0]\n",
    "agency_name, district"
   ]
  },
  {
   "cell_type": "markdown",
   "id": "52110155-d104-4043-8376-3f83e82a959a",
   "metadata": {},
   "source": [
    "# Bus Speed and Delay for {agency_name}, District {district}"
   ]
  },
  {
   "cell_type": "markdown",
   "id": "7d5572cd-dd67-4e26-b100-a0e7472a4a17",
   "metadata": {},
   "source": [
    "## About These Maps:\n",
    "\n",
    "* Each map shows bus (and occasionally rail) speeds for {agency_name}, with a map each for the morning peak, midday, and afternoon peak periods.\n",
    "* On the map, routes are split into segments corresponding to the distance between two stops, allowing you to focus on specific portions of the route experiencing a slowdown.\n",
    "* Route segments are arrow-shaped to indicate direction of travel.\n",
    "* Hover over, or click, a segment with your mouse to see the exact speed, route name, and transit service frequency in that segment. \n",
    "    * Higher-frequency routes (3+ trips per hour) are especially important, since those slowdowns correspond to more vehicles, and riders, delayed in traffic."
   ]
  },
  {
   "cell_type": "code",
   "execution_count": 12,
   "id": "8e940d3d-c76e-42ba-be8b-739852771ca6",
   "metadata": {},
   "outputs": [],
   "source": [
    "## avoid papermill errors when map fails to render\n",
    "m = None"
   ]
  },
  {
   "cell_type": "markdown",
   "id": "74fce4a9-514f-405d-9ce0-1cb1998a696b",
   "metadata": {},
   "source": [
    "## Morning Peak"
   ]
  },
  {
   "cell_type": "code",
   "execution_count": 13,
   "id": "533a64f4-f374-4f2c-94d3-5146ebe7c036",
   "metadata": {},
   "outputs": [],
   "source": [
    "%%capture\n",
    "rt_day.set_filter(start_time='06:00', end_time='09:00')"
   ]
  },
  {
   "cell_type": "code",
   "execution_count": 23,
   "id": "12232a58-f09f-43e7-beee-5c1dd4ac2dab",
   "metadata": {},
   "outputs": [
    {
     "data": {
      "text/html": [
       "<div>\n",
       "<style scoped>\n",
       "    .dataframe tbody tr th:only-of-type {\n",
       "        vertical-align: middle;\n",
       "    }\n",
       "\n",
       "    .dataframe tbody tr th {\n",
       "        vertical-align: top;\n",
       "    }\n",
       "\n",
       "    .dataframe thead th {\n",
       "        text-align: right;\n",
       "    }\n",
       "</style>\n",
       "<table border=\"1\" class=\"dataframe\">\n",
       "  <thead>\n",
       "    <tr style=\"text-align: right;\">\n",
       "      <th></th>\n",
       "      <th>stop_id</th>\n",
       "      <th>stop_name</th>\n",
       "      <th>geometry</th>\n",
       "      <th>shape_id</th>\n",
       "      <th>shape_meters</th>\n",
       "      <th>trip_key</th>\n",
       "      <th>trip_id</th>\n",
       "      <th>stop_sequence</th>\n",
       "      <th>route_id</th>\n",
       "      <th>route_short_name</th>\n",
       "      <th>...</th>\n",
       "      <th>seconds_from_last</th>\n",
       "      <th>last_loc</th>\n",
       "      <th>meters_from_last</th>\n",
       "      <th>speed_from_last</th>\n",
       "      <th>delay_chg_sec</th>\n",
       "      <th>speed_mph</th>\n",
       "      <th>n_trips</th>\n",
       "      <th>avg_mph</th>\n",
       "      <th>_20p_mph</th>\n",
       "      <th>trips_per_hour</th>\n",
       "    </tr>\n",
       "  </thead>\n",
       "  <tbody>\n",
       "  </tbody>\n",
       "</table>\n",
       "<p>0 rows × 22 columns</p>\n",
       "</div>"
      ],
      "text/plain": [
       "Empty GeoDataFrame\n",
       "Columns: [stop_id, stop_name, geometry, shape_id, shape_meters, trip_key, trip_id, stop_sequence, route_id, route_short_name, direction_id, delay_seconds, seconds_from_last, last_loc, meters_from_last, speed_from_last, delay_chg_sec, speed_mph, n_trips, avg_mph, _20p_mph, trips_per_hour]\n",
       "Index: []\n",
       "\n",
       "[0 rows x 22 columns]"
      ]
     },
     "execution_count": 23,
     "metadata": {},
     "output_type": "execute_result"
    }
   ],
   "source": [
    "rt_day.stop_segment_speed_view"
   ]
  },
  {
   "cell_type": "code",
   "execution_count": 15,
   "id": "2f317120-99ee-435b-96cd-1236b8ee2e0b",
   "metadata": {
    "tags": []
   },
   "outputs": [],
   "source": [
    "%%capture\n",
    "m = rt_day.segment_speed_map(how='low_speeds', no_title=True)"
   ]
  },
  {
   "cell_type": "code",
   "execution_count": null,
   "id": "275087be-b46d-4acb-95fe-2dc98c2089a2",
   "metadata": {
    "tags": []
   },
   "outputs": [],
   "source": [
    "m"
   ]
  },
  {
   "cell_type": "code",
   "execution_count": null,
   "id": "b0cf9b97-7485-4f36-b5e8-124f22fa9661",
   "metadata": {},
   "outputs": [],
   "source": [
    "rt_day.describe_delayed_routes()"
   ]
  },
  {
   "cell_type": "markdown",
   "id": "3d263ba2-49ae-4e02-9d06-3181b03f51ba",
   "metadata": {},
   "source": [
    "## Midday"
   ]
  },
  {
   "cell_type": "code",
   "execution_count": 18,
   "id": "f5344e63-89d2-43d6-9783-55a3061c99d2",
   "metadata": {},
   "outputs": [],
   "source": [
    "%%capture\n",
    "rt_day.set_filter(start_time='10:00', end_time='14:00')"
   ]
  },
  {
   "cell_type": "code",
   "execution_count": 19,
   "id": "a4c40f3c-cf35-45d5-9d87-aa4701bed3aa",
   "metadata": {
    "tags": []
   },
   "outputs": [],
   "source": [
    "%%capture\n",
    "m = rt_day.segment_speed_map(how='low_speeds', no_title=True)"
   ]
  },
  {
   "cell_type": "code",
   "execution_count": null,
   "id": "a78b7db5-f43f-4bf1-8036-ae972a87fc53",
   "metadata": {
    "tags": []
   },
   "outputs": [],
   "source": [
    "m"
   ]
  },
  {
   "cell_type": "code",
   "execution_count": null,
   "id": "6c745570-b50f-4722-b943-2176444f7af6",
   "metadata": {},
   "outputs": [],
   "source": [
    "rt_day.describe_delayed_routes()"
   ]
  },
  {
   "cell_type": "markdown",
   "id": "704f0788-b4a8-497d-b2aa-c7ac6df939f4",
   "metadata": {},
   "source": [
    "## Afternoon Peak"
   ]
  },
  {
   "cell_type": "code",
   "execution_count": null,
   "id": "923f1462-b34a-42d2-a632-c5eb3ac16ac6",
   "metadata": {},
   "outputs": [],
   "source": [
    "%%capture\n",
    "rt_day.set_filter(start_time='15:00', end_time='19:00')"
   ]
  },
  {
   "cell_type": "code",
   "execution_count": 21,
   "id": "5e46b095-7bc2-4552-a37b-661d076b2b51",
   "metadata": {
    "tags": []
   },
   "outputs": [],
   "source": [
    "%%capture\n",
    "m = rt_day.segment_speed_map(how='low_speeds', no_title=True)"
   ]
  },
  {
   "cell_type": "code",
   "execution_count": 22,
   "id": "0393f107-e9fe-4982-961a-032f7bf4e0eb",
   "metadata": {},
   "outputs": [],
   "source": [
    "m"
   ]
  },
  {
   "cell_type": "code",
   "execution_count": null,
   "id": "76580953-2a2b-4295-a41c-20442eae883e",
   "metadata": {},
   "outputs": [],
   "source": [
    "rt_day.describe_delayed_routes()"
   ]
  },
  {
   "cell_type": "code",
   "execution_count": null,
   "id": "91874f76-635b-4fde-8d61-abc795aca6c6",
   "metadata": {
    "tags": []
   },
   "outputs": [],
   "source": [
    "try:\n",
    "    metrics_df = (rt_day.rt_trips\n",
    "         >> group_by(_.route_short_name, _.direction_id)\n",
    "         >> summarize(speed_variance = _.mean_speed_mph.var(),\n",
    "                     mean_speed_mph = _.mean_speed_mph.mean(),\n",
    "                     min_hour = _.median_time.min().hour,\n",
    "                     max_hour = _.median_time.max().hour)\n",
    "         >> filter(_.min_hour <= 7, _.max_hour >= 15,\n",
    "                   _.mean_speed_mph < _.mean_speed_mph.quantile(.6),\n",
    "                   _.speed_variance)\n",
    "         >> arrange(-_.speed_variance)\n",
    "         >> head(20)\n",
    "        )\n",
    "    metrics_df\n",
    "except Exception as e:\n",
    "    print(e)\n",
    "## check that route has all-day span..."
   ]
  },
  {
   "cell_type": "code",
   "execution_count": null,
   "id": "758b0bae-32d0-40dd-a1d1-1d107b0e7e8b",
   "metadata": {
    "tags": []
   },
   "outputs": [],
   "source": [
    "def map_from_metrics(rt_day, metrics_df):\n",
    "    try:\n",
    "        route_name = metrics_df.iloc[1,0]\n",
    "        direction_id = metrics_df.iloc[1,1]\n",
    "    except Exception as e:\n",
    "        print(e)\n",
    "        return\n",
    "    # route_name = '281'\n",
    "    # direction_id = '1'\n",
    "    rt_day.set_filter(start_time='07:00', end_time='09:00',\n",
    "                      route_names=[route_name], direction_id = direction_id)\n",
    "    try:\n",
    "        am_map = rt_day.segment_speed_map(how='low_speeds')\n",
    "        display(am_map)\n",
    "    except Exception as e:\n",
    "        print(e)\n",
    "        pass\n",
    "    \n",
    "    rt_day.set_filter(start_time='11:00', end_time='14:00',\n",
    "                      route_names=[route_name], direction_id = direction_id)\n",
    "    try:\n",
    "        mid_map = rt_day.segment_speed_map(how='low_speeds')\n",
    "        display(mid_map)\n",
    "    except Exception as e:\n",
    "        print(e)\n",
    "        pass\n",
    "\n",
    "    rt_day.set_filter(start_time='15:00', end_time='19:00',\n",
    "                      route_names=[route_name], direction_id = direction_id)\n",
    "    try:\n",
    "        pm_map = rt_day.segment_speed_map(how='low_speeds')\n",
    "        display(pm_map)\n",
    "    except Exception as e:\n",
    "        print(e)\n",
    "        pass\n",
    "\n",
    "    return"
   ]
  },
  {
   "cell_type": "markdown",
   "id": "6ce187c8-c7bf-44f4-970e-b3abd69ddc38",
   "metadata": {},
   "source": [
    "## Single-Route Detail Example"
   ]
  },
  {
   "cell_type": "code",
   "execution_count": null,
   "id": "c7b4b043-6d15-4d9c-8aac-f0f6649e9552",
   "metadata": {},
   "outputs": [],
   "source": [
    "try:\n",
    "    map_from_metrics(rt_day, metrics_df)\n",
    "except Exception as e:\n",
    "    print(e)\n",
    "    pass"
   ]
  },
  {
   "cell_type": "code",
   "execution_count": null,
   "id": "b3f55461-ea1d-4dfe-b986-4316c804ca86",
   "metadata": {},
   "outputs": [],
   "source": []
  }
 ],
 "metadata": {
  "kernelspec": {
   "display_name": "Python 3 (ipykernel)",
   "language": "python",
   "name": "python3"
  },
  "language_info": {
   "codemirror_mode": {
    "name": "ipython",
    "version": 3
   },
   "file_extension": ".py",
   "mimetype": "text/x-python",
   "name": "python",
   "nbconvert_exporter": "python",
   "pygments_lexer": "ipython3",
   "version": "3.9.10"
  }
 },
 "nbformat": 4,
 "nbformat_minor": 5
}
