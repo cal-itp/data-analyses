{
 "cells": [
  {
   "cell_type": "code",
   "execution_count": 1,
   "id": "0cc75cc8-125b-4099-bfb3-93a6cd0380cb",
   "metadata": {},
   "outputs": [
    {
     "name": "stderr",
     "output_type": "stream",
     "text": [
      "/opt/conda/lib/python3.9/site-packages/geopandas/_compat.py:111: UserWarning: The Shapely GEOS version (3.9.1-CAPI-1.14.2) is incompatible with the GEOS version PyGEOS was compiled with (3.10.1-CAPI-1.16.0). Conversions between both will be slow.\n",
      "  warnings.warn(\n"
     ]
    }
   ],
   "source": [
    "import os\n",
    "os.environ[\"CALITP_BQ_MAX_BYTES\"] = str(100_000_000_000)\n",
    "\n",
    "from calitp.tables import tbl\n",
    "from calitp import query_sql\n",
    "import calitp.magics\n",
    "\n",
    "import shared_utils\n",
    "import branca\n",
    "from utils import *\n",
    "\n",
    "from siuba import *\n",
    "import pandas as pd\n",
    "import geopandas as gpd\n",
    "import shapely\n",
    "\n",
    "import datetime as dt\n",
    "import time\n",
    "from zoneinfo import ZoneInfo"
   ]
  },
  {
   "cell_type": "markdown",
   "id": "85e01be9-f0aa-41e7-bcb2-6aede59b25a1",
   "metadata": {},
   "source": [
    "### Get and transform test data (Long Beach Transit, 170)"
   ]
  },
  {
   "cell_type": "code",
   "execution_count": 2,
   "id": "f3e3d00e-8bf5-4972-8aea-abcf92253424",
   "metadata": {},
   "outputs": [],
   "source": [
    "lbt_itp_id = 170"
   ]
  },
  {
   "cell_type": "code",
   "execution_count": 3,
   "id": "738545a2-d78b-4df5-a2e9-952125c37505",
   "metadata": {
    "tags": []
   },
   "outputs": [],
   "source": [
    "# %%sql -o lbt_positions\n",
    "\n",
    "# # get all vehicle positions on selected dates, for the feed with itp id 170, and url number 0\n",
    "# SELECT *\n",
    "# FROM `cal-itp-data-infra.gtfs_rt.vehicle_positions`\n",
    "# WHERE _FILE_NAME=\"gs://gtfs-data/rt-processed/vehicle_positions/vp_2021-12-01_170_0.parquet\"\n",
    "#     # OR _FILE_NAME=\"gs://gtfs-data/rt-processed/vehicle_positions/vp_2021-12-02_170_0.parquet\"\n",
    "#     # OR _FILE_NAME=\"gs://gtfs-data/rt-processed/vehicle_positions/vp_2021-12-03_170_0.parquet\"\n",
    "#     # OR _FILE_NAME=\"gs://gtfs-data/rt-processed/vehicle_positions/vp_2021-12-04_170_0.parquet\"\n",
    "#     # OR _FILE_NAME=\"gs://gtfs-data/rt-processed/vehicle_positions/vp_2021-12-05_170_0.parquet\"\n",
    "#     # OR _FILE_NAME=\"gs://gtfs-data/rt-processed/vehicle_positions/vp_2021-12-06_170_0.parquet\"\n",
    "#     # OR _FILE_NAME=\"gs://gtfs-data/rt-processed/vehicle_positions/vp_2021-12-07_170_0.parquet\"\n",
    "# ORDER BY header_timestamp"
   ]
  },
  {
   "cell_type": "code",
   "execution_count": 4,
   "id": "b376c866-82ef-4573-93d4-82f933cee7b6",
   "metadata": {},
   "outputs": [],
   "source": [
    "# lbt_positions.to_parquet(f'{GCS_FILE_PATH}lbt_positions.parquet')"
   ]
  },
  {
   "cell_type": "code",
   "execution_count": 5,
   "id": "fb99a04b-16d5-4748-a8fb-88f9f1c4c1d4",
   "metadata": {},
   "outputs": [],
   "source": [
    "lbt_positions = pd.read_parquet(f'{GCS_FILE_PATH}lbt_positions.parquet')"
   ]
  },
  {
   "cell_type": "markdown",
   "id": "9e86e42d-8978-4ef2-b674-dbfa26c6702c",
   "metadata": {},
   "source": [
    "#### Reformat timestamps"
   ]
  },
  {
   "cell_type": "code",
   "execution_count": 6,
   "id": "e9620700-857e-4036-bad2-c1c15e7b4039",
   "metadata": {},
   "outputs": [
    {
     "data": {
      "text/plain": [
       "('PST', 'PDT')"
      ]
     },
     "execution_count": 6,
     "metadata": {},
     "output_type": "execute_result"
    }
   ],
   "source": [
    "## set system time\n",
    "os.environ['TZ'] = 'America/Los_Angeles'\n",
    "time.tzset()\n",
    "time.tzname"
   ]
  },
  {
   "cell_type": "code",
   "execution_count": 7,
   "id": "1216a725-6cbf-48f9-bc2e-cda3dc62510f",
   "metadata": {},
   "outputs": [],
   "source": [
    "def convert_ts(ts):    \n",
    "    pacific_dt = dt.datetime.fromtimestamp(ts)\n",
    "    # print(pacific_dt)\n",
    "    return pacific_dt"
   ]
  },
  {
   "cell_type": "code",
   "execution_count": 8,
   "id": "93961407-fb64-46bc-8044-47b3c7f19b59",
   "metadata": {},
   "outputs": [],
   "source": [
    "lbt_positions.vehicle_timestamp = lbt_positions.vehicle_timestamp.apply(convert_ts)\n",
    "lbt_positions.header_timestamp = lbt_positions.header_timestamp.apply(convert_ts)"
   ]
  },
  {
   "cell_type": "code",
   "execution_count": 9,
   "id": "22d0c883-dcdf-4831-916a-ea1b82da1b0c",
   "metadata": {},
   "outputs": [],
   "source": [
    "# min_date, max_date = ('2021-11-01', '2021-12-01')\n",
    "pch_routes = ('171', '172', '173', '174', '175')\n",
    "\n",
    "# lbt_trips = (tbl.views.gtfs_schedule_fact_daily_trips()\n",
    "#     # >> filter(_.calitp_extracted_at <= min_date, _.calitp_deleted_at > max_date)\n",
    "#     >> filter(_.calitp_itp_id == lbt_itp_id)\n",
    "#     >> filter(_.service_date == max_date)\n",
    "#     >> filter(_.is_in_service == True)\n",
    "#     >> select(_.trip_key, _.service_date)\n",
    "#     >> inner_join(_, tbl.views.gtfs_schedule_dim_trips(), on = 'trip_key')\n",
    "#     >> select(_.calitp_itp_id, _.calitp_url_number,\n",
    "#               _.date == _.service_date,\n",
    "#               _.trip_key, _.trip_id, _.route_id, _.direction_id,\n",
    "#               _.shape_id, _.calitp_extracted_at, _.calitp_deleted_at)\n",
    "#     # >> filter(_.route_id.isin(pch_routes))\n",
    "\n",
    "#     >> collect()\n",
    "#     )"
   ]
  },
  {
   "cell_type": "code",
   "execution_count": 10,
   "id": "5e3550e9-6be6-476e-aaa6-c12fe3f0505f",
   "metadata": {},
   "outputs": [],
   "source": [
    "# lbt_trips.to_parquet(f'{GCS_FILE_PATH}lbt_trips.parquet')"
   ]
  },
  {
   "cell_type": "code",
   "execution_count": 11,
   "id": "9e6b0bed-8669-467e-9cb0-0924165592ae",
   "metadata": {},
   "outputs": [],
   "source": [
    "lbt_trips = pd.read_parquet(f'{GCS_FILE_PATH}lbt_trips.parquet')"
   ]
  },
  {
   "cell_type": "code",
   "execution_count": 12,
   "id": "c61d00c8-6eeb-42ee-a870-0e9207c7fe50",
   "metadata": {},
   "outputs": [],
   "source": [
    "# stop_times = (tbl.gtfs_schedule.stop_times()\n",
    "#      >> filter(_.calitp_itp_id == 170)\n",
    "#      # >> filter(_.trip_id == '9288623')\n",
    "#      >> mutate(stop_sequence = _.stop_sequence.astype(int)) ## in SQL!\n",
    "#      >> arrange(_.stop_sequence)\n",
    "#      >> collect()\n",
    "#     )"
   ]
  },
  {
   "cell_type": "code",
   "execution_count": 13,
   "id": "06e3466b-dd02-4b31-8fe6-045b95c6a2a3",
   "metadata": {},
   "outputs": [],
   "source": [
    "# stop_times.to_parquet(f'{GCS_FILE_PATH}lbt_st.parquet')"
   ]
  },
  {
   "cell_type": "code",
   "execution_count": 14,
   "id": "f57e50be-02f9-45a2-b8b2-d684117077e2",
   "metadata": {},
   "outputs": [],
   "source": [
    "stop_times = pd.read_parquet(f'{GCS_FILE_PATH}lbt_st.parquet')"
   ]
  },
  {
   "cell_type": "code",
   "execution_count": 15,
   "id": "c75d36aa-437d-40e9-afbd-f06ecb2684f3",
   "metadata": {},
   "outputs": [],
   "source": [
    "# stops = (tbl.gtfs_schedule.stops()\n",
    "#      >> filter(_.calitp_itp_id == 170)\n",
    "#      # >> filter(_.trip_id == '9288623')\n",
    "#      # >> mutate(stop_sequence = _.stop_sequence.astype(int)) ## in SQL!\n",
    "#      # >> arrange(_.stop_sequence)\n",
    "#      >> select(_.calitp_itp_id, _.calitp_url_number, _.stop_id,\n",
    "#               _.stop_lat, _.stop_lon, _.stop_name)\n",
    "#      >> collect()\n",
    "#     )\n",
    "\n",
    "# stops = gpd.GeoDataFrame(stops, geometry=gpd.points_from_xy(stops.stop_lon, stops.stop_lat),\n",
    "#                         crs='EPSG:4326').to_crs(shared_utils.geography_utils.CA_NAD83Albers)"
   ]
  },
  {
   "cell_type": "code",
   "execution_count": 16,
   "id": "b9272195-7dc0-47dd-a5aa-11f4650a28ea",
   "metadata": {},
   "outputs": [],
   "source": [
    "# shared_utils.utils.geoparquet_gcs_export(stops, GCS_FILE_PATH, 'lbt_stops')"
   ]
  },
  {
   "cell_type": "code",
   "execution_count": 17,
   "id": "ec461965-2e8e-4924-a02d-ec2778841d01",
   "metadata": {},
   "outputs": [],
   "source": [
    "stops = gpd.read_parquet(f'{GCS_FILE_PATH}lbt_stops.parquet')"
   ]
  },
  {
   "cell_type": "code",
   "execution_count": 18,
   "id": "62fe3fbf-1d71-4010-a478-a76230b3ca8e",
   "metadata": {},
   "outputs": [],
   "source": [
    "trips_positions_joined = (lbt_trips\n",
    "                        >> filter(_.route_id.isin(pch_routes))\n",
    "                        >> inner_join(_, (lbt_positions >> rename(trip_id = 'vehicle_trip_id')),\n",
    "                                      on= ['trip_id', 'calitp_itp_id', 'calitp_url_number'])\n",
    "                       )"
   ]
  },
  {
   "cell_type": "code",
   "execution_count": 19,
   "id": "8c4bf5d8-be49-4379-9bac-a04f4869260c",
   "metadata": {},
   "outputs": [
    {
     "data": {
      "text/plain": [
       "Timestamp('2021-12-01 11:15:58')"
      ]
     },
     "execution_count": 19,
     "metadata": {},
     "output_type": "execute_result"
    }
   ],
   "source": [
    "trips_positions_joined.vehicle_timestamp.max()"
   ]
  },
  {
   "cell_type": "code",
   "execution_count": 20,
   "id": "dabf0521-6f82-48c4-8664-95df875235c1",
   "metadata": {},
   "outputs": [
    {
     "data": {
      "text/plain": [
       "Timestamp('2021-11-30 15:56:12')"
      ]
     },
     "execution_count": 20,
     "metadata": {},
     "output_type": "execute_result"
    }
   ],
   "source": [
    "trips_positions_joined.vehicle_timestamp.min()"
   ]
  },
  {
   "cell_type": "code",
   "execution_count": 21,
   "id": "1194251c-6ec1-4614-b511-679bbea9eab3",
   "metadata": {},
   "outputs": [],
   "source": [
    "trips_positions_joined = gpd.GeoDataFrame(trips_positions_joined,\n",
    "                                geometry=gpd.points_from_xy(trips_positions_joined.vehicle_position_longitude,\n",
    "                                                            trips_positions_joined.vehicle_position_latitude),\n",
    "                                crs=shared_utils.geography_utils.WGS84).to_crs(shared_utils.geography_utils.CA_NAD83Albers)"
   ]
  },
  {
   "cell_type": "code",
   "execution_count": 22,
   "id": "25f7a355-4465-4bed-921b-c554c84ee842",
   "metadata": {},
   "outputs": [],
   "source": [
    "# lbt_routelines = shared_utils.geography_utils.make_routes_shapefile(['170'], ## LBT\n",
    "#                                 shared_utils.geography_utils.CA_NAD83Albers)"
   ]
  },
  {
   "cell_type": "code",
   "execution_count": 23,
   "id": "db170719-a873-4aab-b93b-e6d7ce48a7e1",
   "metadata": {},
   "outputs": [],
   "source": [
    "# shared_utils.utils.geoparquet_gcs_export(lbt_routelines, GCS_FILE_PATH, 'lbt_routelines')"
   ]
  },
  {
   "cell_type": "code",
   "execution_count": 24,
   "id": "6ce3128b-2c77-42ca-bbe6-75c7f38a70f1",
   "metadata": {},
   "outputs": [],
   "source": [
    "lbt_routelines = gpd.read_parquet(f'{GCS_FILE_PATH}lbt_routelines.parquet')"
   ]
  },
  {
   "cell_type": "markdown",
   "id": "ddaed497-83b0-4faf-905d-498d920f0b14",
   "metadata": {},
   "source": [
    "## Vehicle Positions Trip class"
   ]
  },
  {
   "cell_type": "code",
   "execution_count": 52,
   "id": "5c2195cd-2555-416f-9ad1-675a107c4bb6",
   "metadata": {},
   "outputs": [],
   "source": [
    "class VehiclePositionsTrip:\n",
    "    '''Trip data and useful methods for analyzing GTFS-RT vehicle positions data'''\n",
    "    \n",
    "    def __init__(self, vp_gdf, shape_gdf):\n",
    "        \n",
    "        global vp_gdff\n",
    "        vp_gdff = vp_gdf\n",
    "        \n",
    "        assert vp_gdf.crs == shared_utils.geography_utils.CA_NAD83Albers\n",
    "        vp_gdf = vp_gdf >> distinct(_.trip_id, _.vehicle_timestamp, _keep_all=True)\n",
    "        \n",
    "        self.date = vp_gdf.date.iloc[0]\n",
    "        self.trip_id = vp_gdf.trip_id.iloc[0]\n",
    "        self.route_id = vp_gdf.route_id.iloc[0]\n",
    "        self.shape_id = vp_gdf.shape_id.iloc[0]\n",
    "        self.entity_id = vp_gdf.entity_id.iloc[0]\n",
    "        self.vehicle_id = vp_gdf.vehicle_id.iloc[0]\n",
    "        self.calitp_itp_id = vp_gdf.calitp_itp_id.iloc[0]\n",
    "        self.calitp_url_number = vp_gdf.calitp_url_number.iloc[0]\n",
    "        self.vehicle_positions = vp_gdf >> select(_.vehicle_timestamp,\n",
    "                                              _.header_timestamp,\n",
    "                                              _.geometry)\n",
    "        self._attach_shape(shape_gdf)\n",
    "        \n",
    "    def _attach_shape(self, shape_gdf):\n",
    "        assert shape_gdf.crs == shared_utils.geography_utils.CA_NAD83Albers\n",
    "        assert shape_gdf.calitp_itp_id.iloc[0] == self.calitp_itp_id\n",
    "        self.shape = (shape_gdf\n",
    "                        >> filter(_.shape_id == self.shape_id)\n",
    "                        >> select(_.shape_id, _.geometry))\n",
    "        self.vehicle_positions['shape_meters'] = (self.vehicle_positions.geometry\n",
    "                                .apply(lambda x: self.shape.geometry.iloc[0].project(x)))\n",
    "        self._linear_reference()\n",
    "        \n",
    "    def _linear_reference(self):\n",
    "        \n",
    "        self.vehicle_positions = self._shift_calculate(self.vehicle_positions)\n",
    "        self.progressing_positions = self.vehicle_positions >> filter(_.progressed)\n",
    "        ## check if positions have progressed from immediate previous point, but not previous point of forwards progression\n",
    "        if not self.progressing_positions.shape_meters.is_monotonic:\n",
    "            print(f'check location data for trip {self.trip_id}')\n",
    "            self._fix_progression()\n",
    "    \n",
    "    def _fix_progression(self):\n",
    "        \n",
    "        self.progressing_positions = self._shift_calculate(self.progressing_positions)\n",
    "        self.progressing_positions = self.progressing_positions >> filter(_.progressed)\n",
    "        ## check if positions have progressed from immediate previous point, but not previous point of forwards progression\n",
    "        if not self.progressing_positions.shape_meters.is_monotonic:\n",
    "            # print(f'recheck location data for trip {self.trip_id}')\n",
    "            self._fix_progression()\n",
    "    \n",
    "    def _shift_calculate(self, vehicle_positions):\n",
    "        vehicle_positions['last_time'] = vehicle_positions.vehicle_timestamp.shift(1)\n",
    "        vehicle_positions['last_loc'] = vehicle_positions.shape_meters.shift(1)\n",
    "        vehicle_positions['secs_from_last'] = vehicle_positions.vehicle_timestamp - vehicle_positions.last_time\n",
    "        vehicle_positions.secs_from_last = (vehicle_positions.secs_from_last\n",
    "                                        .apply(lambda x: x.seconds))\n",
    "        vehicle_positions['meters_from_last'] = (vehicle_positions.shape_meters\n",
    "                                                      - vehicle_positions.last_loc)\n",
    "        vehicle_positions['progressed'] = vehicle_positions['meters_from_last'] > 0 ## has the bus moved ahead?\n",
    "        vehicle_positions['speed_from_last'] = (vehicle_positions.meters_from_last\n",
    "                                                     / vehicle_positions.secs_from_last) ## meters/second\n",
    "        return vehicle_positions\n",
    "        \n",
    "        \n",
    "#     def position_at_time(self, dt): ## implement if/when needed\n",
    "        \n",
    "    def time_at_position(self, desired_position):\n",
    "        \n",
    "        global bounding_points\n",
    "        \n",
    "        try:\n",
    "            next_point = (self.progressing_positions\n",
    "                  >> filter(_.shape_meters > desired_position)\n",
    "                  >> filter(_.shape_meters == _.shape_meters.min())\n",
    "                 )\n",
    "            prev_point = (self.progressing_positions\n",
    "                  >> filter(_.shape_meters < desired_position)\n",
    "                  >> filter(_.shape_meters == _.shape_meters.max())\n",
    "                 )\n",
    "            bounding_points = (prev_point.append(next_point).copy().reset_index(drop=True)\n",
    "                    >> select(-_.secs_from_last, -_.meters_from_last, -_.speed_from_last)) ## drop in case bounding points are nonconsecutive\n",
    "            secs_from_last = (bounding_points.loc[1].vehicle_timestamp - bounding_points.loc[0].vehicle_timestamp).seconds\n",
    "            meters_from_last = bounding_points.loc[1].shape_meters - bounding_points.loc[0].shape_meters\n",
    "            speed_from_last = meters_from_last / secs_from_last\n",
    "\n",
    "            meters_position_to_next = bounding_points.loc[1].shape_meters - desired_position\n",
    "            est_seconds_to_next = meters_position_to_next / speed_from_last\n",
    "            est_td_to_next = dt.timedelta(seconds=est_seconds_to_next)\n",
    "            est_dt = bounding_points.iloc[-1].vehicle_timestamp - est_td_to_next\n",
    "\n",
    "            return est_dt\n",
    "        except KeyError:\n",
    "            print(f'insufficient bounding points for location {desired_position}', end=': ')\n",
    "            print(f'start/end of route?')\n",
    "            return None\n",
    "        \n",
    "    def detailed_speed_map(self):\n",
    "        \n",
    "        gdf = self.vehicle_positions.copy()\n",
    "        gdf = gdf >> select(_.geometry,\n",
    "                            _.shape_meters, _.last_loc, _.speed_from_last)\n",
    "        gdf['speed_mph'] = gdf.speed_from_last * MPH_PER_MPS\n",
    "        \n",
    "        gdf.geometry = gdf.apply(lambda x: shapely.ops.substring(self.shape.geometry.iloc[0],\n",
    "                                                                x.last_loc,\n",
    "                                                                x.shape_meters),\n",
    "                                axis = 1)\n",
    "        gdf.geometry = gdf.buffer(25)\n",
    "        \n",
    "        gdf = gdf.to_crs(shared_utils.geography_utils.WGS84)\n",
    "        \n",
    "        gdf = gdf >> filter(_.speed_mph > 0)\n",
    "        # display(gdf)\n",
    "\n",
    "        choropleth_dict = {\n",
    "            \"layer_name\": \"Speed\",\n",
    "            \"MIN_VALUE\": gdf.speed_mph.min(),\n",
    "            \"MAX_VALUE\": gdf.speed_mph.max(),\n",
    "            \"plot_col_name\": \"speed_mph\",\n",
    "            \"fig_width\": '100%',\n",
    "            \"fig_height\": '100%',\n",
    "            \"fig_min_width_px\": '400px',\n",
    "            \"fig_min_height_px\": '600px',\n",
    "            \"name\": \"speed_mph\",\n",
    "        }\n",
    "\n",
    "        colorscale = branca.colormap.step.RdYlGn_08\n",
    "\n",
    "        f = shared_utils.map_utils.make_ipyleaflet_choropleth_map(\n",
    "            gdf,\n",
    "            geometry_col = \"shape_meters\", \n",
    "            plot_col = \"speed_mph\",\n",
    "            choropleth_dict = choropleth_dict,\n",
    "            colorscale = colorscale,\n",
    "            zoom = 13,\n",
    "            centroid = [33.790, -118.154]\n",
    "        )\n",
    "\n",
    "        return f"
   ]
  },
  {
   "cell_type": "markdown",
   "id": "74900b4e-d7d7-426c-9c1e-1ff2919685fc",
   "metadata": {},
   "source": [
    "#### Examples"
   ]
  },
  {
   "cell_type": "code",
   "execution_count": 53,
   "id": "c17c2768-2501-4eea-9e5c-bdc9afcf7e73",
   "metadata": {},
   "outputs": [],
   "source": [
    "example_trip = trips_positions_joined >> filter(_.trip_id == '9288623')"
   ]
  },
  {
   "cell_type": "code",
   "execution_count": 54,
   "id": "939424e9-8ecf-4ff8-85b1-fe9774891b4f",
   "metadata": {},
   "outputs": [
    {
     "data": {
      "text/html": [
       "<div>\n",
       "<style scoped>\n",
       "    .dataframe tbody tr th:only-of-type {\n",
       "        vertical-align: middle;\n",
       "    }\n",
       "\n",
       "    .dataframe tbody tr th {\n",
       "        vertical-align: top;\n",
       "    }\n",
       "\n",
       "    .dataframe thead th {\n",
       "        text-align: right;\n",
       "    }\n",
       "</style>\n",
       "<table border=\"1\" class=\"dataframe\">\n",
       "  <thead>\n",
       "    <tr style=\"text-align: right;\">\n",
       "      <th></th>\n",
       "      <th>calitp_itp_id</th>\n",
       "      <th>calitp_url_number</th>\n",
       "      <th>date</th>\n",
       "      <th>trip_key</th>\n",
       "      <th>trip_id</th>\n",
       "      <th>route_id</th>\n",
       "      <th>direction_id</th>\n",
       "      <th>shape_id</th>\n",
       "      <th>calitp_extracted_at</th>\n",
       "      <th>calitp_deleted_at</th>\n",
       "      <th>entity_id</th>\n",
       "      <th>vehicle_id</th>\n",
       "      <th>vehicle_timestamp</th>\n",
       "      <th>vehicle_position_latitude</th>\n",
       "      <th>vehicle_position_longitude</th>\n",
       "      <th>header_timestamp</th>\n",
       "      <th>geometry</th>\n",
       "    </tr>\n",
       "  </thead>\n",
       "  <tbody>\n",
       "    <tr>\n",
       "      <th>36200</th>\n",
       "      <td>170</td>\n",
       "      <td>0</td>\n",
       "      <td>2021-12-01</td>\n",
       "      <td>1553149201202261125</td>\n",
       "      <td>9288623</td>\n",
       "      <td>175</td>\n",
       "      <td>0</td>\n",
       "      <td>1750012</td>\n",
       "      <td>2021-09-16</td>\n",
       "      <td>2099-01-01</td>\n",
       "      <td>2901</td>\n",
       "      <td>None</td>\n",
       "      <td>2021-11-30 17:02:12</td>\n",
       "      <td>33.78207</td>\n",
       "      <td>-118.11569</td>\n",
       "      <td>2021-11-30 17:02:37</td>\n",
       "      <td>POINT (174550.467 -468602.675)</td>\n",
       "    </tr>\n",
       "    <tr>\n",
       "      <th>36201</th>\n",
       "      <td>170</td>\n",
       "      <td>0</td>\n",
       "      <td>2021-12-01</td>\n",
       "      <td>1553149201202261125</td>\n",
       "      <td>9288623</td>\n",
       "      <td>175</td>\n",
       "      <td>0</td>\n",
       "      <td>1750012</td>\n",
       "      <td>2021-09-16</td>\n",
       "      <td>2099-01-01</td>\n",
       "      <td>2901</td>\n",
       "      <td>None</td>\n",
       "      <td>2021-11-30 17:02:12</td>\n",
       "      <td>33.78207</td>\n",
       "      <td>-118.11569</td>\n",
       "      <td>2021-11-30 17:02:37</td>\n",
       "      <td>POINT (174550.467 -468602.675)</td>\n",
       "    </tr>\n",
       "    <tr>\n",
       "      <th>36202</th>\n",
       "      <td>170</td>\n",
       "      <td>0</td>\n",
       "      <td>2021-12-01</td>\n",
       "      <td>1553149201202261125</td>\n",
       "      <td>9288623</td>\n",
       "      <td>175</td>\n",
       "      <td>0</td>\n",
       "      <td>1750012</td>\n",
       "      <td>2021-09-16</td>\n",
       "      <td>2099-01-01</td>\n",
       "      <td>2901</td>\n",
       "      <td>None</td>\n",
       "      <td>2021-11-30 17:02:12</td>\n",
       "      <td>33.78207</td>\n",
       "      <td>-118.11569</td>\n",
       "      <td>2021-11-30 17:03:07</td>\n",
       "      <td>POINT (174550.467 -468602.675)</td>\n",
       "    </tr>\n",
       "  </tbody>\n",
       "</table>\n",
       "</div>"
      ],
      "text/plain": [
       "       calitp_itp_id  calitp_url_number        date             trip_key  \\\n",
       "36200            170                  0  2021-12-01  1553149201202261125   \n",
       "36201            170                  0  2021-12-01  1553149201202261125   \n",
       "36202            170                  0  2021-12-01  1553149201202261125   \n",
       "\n",
       "       trip_id route_id direction_id shape_id calitp_extracted_at  \\\n",
       "36200  9288623      175            0  1750012          2021-09-16   \n",
       "36201  9288623      175            0  1750012          2021-09-16   \n",
       "36202  9288623      175            0  1750012          2021-09-16   \n",
       "\n",
       "      calitp_deleted_at entity_id vehicle_id   vehicle_timestamp  \\\n",
       "36200        2099-01-01      2901       None 2021-11-30 17:02:12   \n",
       "36201        2099-01-01      2901       None 2021-11-30 17:02:12   \n",
       "36202        2099-01-01      2901       None 2021-11-30 17:02:12   \n",
       "\n",
       "       vehicle_position_latitude  vehicle_position_longitude  \\\n",
       "36200                   33.78207                  -118.11569   \n",
       "36201                   33.78207                  -118.11569   \n",
       "36202                   33.78207                  -118.11569   \n",
       "\n",
       "         header_timestamp                        geometry  \n",
       "36200 2021-11-30 17:02:37  POINT (174550.467 -468602.675)  \n",
       "36201 2021-11-30 17:02:37  POINT (174550.467 -468602.675)  \n",
       "36202 2021-11-30 17:03:07  POINT (174550.467 -468602.675)  "
      ]
     },
     "execution_count": 54,
     "metadata": {},
     "output_type": "execute_result"
    }
   ],
   "source": [
    "example_trip.head(3)"
   ]
  },
  {
   "cell_type": "code",
   "execution_count": 55,
   "id": "b0ffcaec-d642-4c54-a204-5f4ce21c0856",
   "metadata": {},
   "outputs": [],
   "source": [
    "example_vp_trip = VehiclePositionsTrip(example_trip, lbt_routelines)"
   ]
  },
  {
   "cell_type": "code",
   "execution_count": 56,
   "id": "215d5b6f-c521-444c-9a41-b34e83fabcaa",
   "metadata": {},
   "outputs": [
    {
     "data": {
      "text/html": [
       "<div>\n",
       "<style scoped>\n",
       "    .dataframe tbody tr th:only-of-type {\n",
       "        vertical-align: middle;\n",
       "    }\n",
       "\n",
       "    .dataframe tbody tr th {\n",
       "        vertical-align: top;\n",
       "    }\n",
       "\n",
       "    .dataframe thead th {\n",
       "        text-align: right;\n",
       "    }\n",
       "</style>\n",
       "<table border=\"1\" class=\"dataframe\">\n",
       "  <thead>\n",
       "    <tr style=\"text-align: right;\">\n",
       "      <th></th>\n",
       "      <th>vehicle_timestamp</th>\n",
       "      <th>header_timestamp</th>\n",
       "      <th>geometry</th>\n",
       "      <th>shape_meters</th>\n",
       "      <th>last_time</th>\n",
       "      <th>last_loc</th>\n",
       "      <th>secs_from_last</th>\n",
       "      <th>meters_from_last</th>\n",
       "      <th>progressed</th>\n",
       "      <th>speed_from_last</th>\n",
       "    </tr>\n",
       "  </thead>\n",
       "  <tbody>\n",
       "    <tr>\n",
       "      <th>0</th>\n",
       "      <td>2021-11-30 17:02:12</td>\n",
       "      <td>2021-11-30 17:02:37</td>\n",
       "      <td>POINT (174550.467 -468602.675)</td>\n",
       "      <td>74.936069</td>\n",
       "      <td>NaT</td>\n",
       "      <td>NaN</td>\n",
       "      <td>NaN</td>\n",
       "      <td>NaN</td>\n",
       "      <td>False</td>\n",
       "      <td>NaN</td>\n",
       "    </tr>\n",
       "    <tr>\n",
       "      <th>1</th>\n",
       "      <td>2021-11-30 17:03:13</td>\n",
       "      <td>2021-11-30 17:03:37</td>\n",
       "      <td>POINT (174199.373 -468606.652)</td>\n",
       "      <td>426.501155</td>\n",
       "      <td>2021-11-30 17:02:12</td>\n",
       "      <td>74.936069</td>\n",
       "      <td>61.0</td>\n",
       "      <td>351.565087</td>\n",
       "      <td>True</td>\n",
       "      <td>5.763362</td>\n",
       "    </tr>\n",
       "    <tr>\n",
       "      <th>2</th>\n",
       "      <td>2021-11-30 17:04:13</td>\n",
       "      <td>2021-11-30 17:04:37</td>\n",
       "      <td>POINT (173950.148 -468607.933)</td>\n",
       "      <td>676.459161</td>\n",
       "      <td>2021-11-30 17:03:13</td>\n",
       "      <td>426.501155</td>\n",
       "      <td>60.0</td>\n",
       "      <td>249.958006</td>\n",
       "      <td>True</td>\n",
       "      <td>4.165967</td>\n",
       "    </tr>\n",
       "  </tbody>\n",
       "</table>\n",
       "</div>"
      ],
      "text/plain": [
       "    vehicle_timestamp    header_timestamp                        geometry  \\\n",
       "0 2021-11-30 17:02:12 2021-11-30 17:02:37  POINT (174550.467 -468602.675)   \n",
       "1 2021-11-30 17:03:13 2021-11-30 17:03:37  POINT (174199.373 -468606.652)   \n",
       "2 2021-11-30 17:04:13 2021-11-30 17:04:37  POINT (173950.148 -468607.933)   \n",
       "\n",
       "   shape_meters           last_time    last_loc  secs_from_last  \\\n",
       "0     74.936069                 NaT         NaN             NaN   \n",
       "1    426.501155 2021-11-30 17:02:12   74.936069            61.0   \n",
       "2    676.459161 2021-11-30 17:03:13  426.501155            60.0   \n",
       "\n",
       "   meters_from_last  progressed  speed_from_last  \n",
       "0               NaN       False              NaN  \n",
       "1        351.565087        True         5.763362  \n",
       "2        249.958006        True         4.165967  "
      ]
     },
     "execution_count": 56,
     "metadata": {},
     "output_type": "execute_result"
    }
   ],
   "source": [
    "example_vp_trip.vehicle_positions.head(3)"
   ]
  },
  {
   "cell_type": "code",
   "execution_count": 64,
   "id": "8c9a8cd0-d689-4f1d-9833-e19e2d06c69a",
   "metadata": {},
   "outputs": [
    {
     "data": {
      "text/plain": [
       "Timestamp('2021-11-30 17:03:42.644702')"
      ]
     },
     "execution_count": 64,
     "metadata": {},
     "output_type": "execute_result"
    }
   ],
   "source": [
    "example_vp_trip.time_at_position(550) ## interpolate time at 550 meters from start of route (shape_meters in df^)"
   ]
  },
  {
   "cell_type": "code",
   "execution_count": 58,
   "id": "6f46696a-a75c-4b9d-b2e5-94c5431c553a",
   "metadata": {},
   "outputs": [
    {
     "name": "stderr",
     "output_type": "stream",
     "text": [
      "/opt/conda/lib/python3.9/site-packages/pandas/core/dtypes/cast.py:118: ShapelyDeprecationWarning: The array interface is deprecated and will no longer work in Shapely 2.0. Convert the '.coords' to a numpy array instead.\n",
      "  arr = construct_1d_object_array_from_listlike(values)\n"
     ]
    },
    {
     "data": {
      "application/vnd.jupyter.widget-view+json": {
       "model_id": "074cd55a74124cee9eb2307e5c375c9a",
       "version_major": 2,
       "version_minor": 0
      },
      "text/plain": [
       "Map(center=[33.79, -118.154], controls=(ZoomControl(options=['position', 'zoom_in_text', 'zoom_in_title', 'zoo…"
      ]
     },
     "metadata": {},
     "output_type": "display_data"
    }
   ],
   "source": [
    "example_vp_trip.detailed_speed_map()"
   ]
  },
  {
   "cell_type": "markdown",
   "id": "63ca6dbc-5c3a-4bc4-b9f0-ebbf19e9257d",
   "metadata": {},
   "source": [
    "## General RT Analysis class"
   ]
  },
  {
   "cell_type": "code",
   "execution_count": 127,
   "id": "ee11ffac-f8d7-450b-a1a2-1168d4e90552",
   "metadata": {},
   "outputs": [],
   "source": [
    "class RtAnalysis:\n",
    "    '''Current top-level class for GTFS-RT analysis'''\n",
    "    \n",
    "    def __init__(self, trips_positions_joined, stop_times, stops, shape_gdf, trip_ids): ## trips_position_joined is temporary\n",
    "        \n",
    "        for df in (trips_positions_joined, stop_times, stops, shape_gdf):\n",
    "            assert df.calitp_itp_id.nunique() == 1\n",
    "            assert df.calitp_url_number.nunique() == 1\n",
    "        \n",
    "        self.trips_positions = trips_positions_joined >> filter(_.trip_id.isin(trip_ids))\n",
    "        self.stop_times = stop_times >> filter(_.trip_id.isin(trip_ids))\n",
    "        self.stops = stops\n",
    "        self.st_geo = self.stops >> inner_join(_, self.stop_times, on = ['calitp_itp_id', 'calitp_url_number','stop_id'])\n",
    "        self.shape_gdf = shape_gdf\n",
    "        self.trip_ids = trip_ids\n",
    "        self.generate_vp_trips()\n",
    "        \n",
    "    def generate_vp_trips(self):\n",
    "        self.trip_vehicle_positions = {}\n",
    "        for trip_id in self.trip_ids:\n",
    "            self.trip_vehicle_positions[trip_id] = VehiclePositionsTrip(\n",
    "                                            self.trips_positions >> filter(_.trip_id == trip_id),\n",
    "                                            self.shape_gdf)\n",
    "        \n",
    "    def generate_delay_view(self, trip_ids = None):\n",
    "        \n",
    "        if  type(trip_ids) == type(None): ## trip_ids could potentially be a list or pd.Series...\n",
    "            trip_ids = self.trip_ids\n",
    "            \n",
    "        self.delay_view = [trip_ids, gpd.GeoDataFrame()]\n",
    "        for trip_id in trip_ids:\n",
    "                \n",
    "            trip_rt_data = self.trip_vehicle_positions[trip_id]\n",
    "            trip_st = (self.stop_times >> filter(_.trip_id == trip_id)).copy()\n",
    "            trip_st_geo = (self.st_geo >> filter(_.trip_id == trip_id)).copy()\n",
    "            trip_st_geo['linear_meters'] = (trip_st_geo.geometry\n",
    "                                            .apply(lambda x: trip_rt_data.shape.project(x)))\n",
    "            trip_st_geo['actual_time'] = (trip_st_geo.linear_meters\n",
    "                                          .apply(lambda x: trip_rt_data.time_at_position(x)))\n",
    "            trip_st_geo = trip_st_geo.dropna(subset=['actual_time'])\n",
    "            trip_st_geo['arrival_time'] = trip_st_geo.apply(lambda x:\n",
    "                                        dt.datetime.combine(x.actual_time.date(),\n",
    "                                                            dt.datetime.strptime(x.arrival_time, '%H:%M:%S').time()),\n",
    "                                                            axis = 1) ## format scheduled arrival times\n",
    "            # _debug = trip_st_geo\n",
    "            trip_st_geo['delay'] = trip_st_geo.actual_time - trip_st_geo.arrival_time\n",
    "            trip_st_geo['date'] = trip_rt_data.date\n",
    "            trip_view = trip_st_geo.dropna(subset=['delay']) >> arrange(_.arrival_time) >> select(\n",
    "                                                            _.arrival_time, _.actual_time, _.delay,\n",
    "                                                         _.stop_id, _.trip_id, _.stop_sequence,\n",
    "                                                        _.linear_meters, _.date, _.geometry)\n",
    "            self.delay_view[1] = self.delay_view[1].append(trip_view)\n",
    "        self.delay_view[1] = (self.delay_view[1] >> arrange(_.stop_sequence, _.trip_id)).set_crs(self.st_geo.crs)\n",
    "        return self.delay_view[1]\n",
    "    \n",
    "    def generate_delay_summary(self, trip_ids = None):       \n",
    "        \n",
    "        if  type(trip_ids) == type(None): ## trip_ids could potentially be a list or pd.Series...\n",
    "            trip_ids = self.trip_ids\n",
    "            \n",
    "        if hasattr(self, 'delay_view') and list(self.delay_view[0]) == list(trip_ids):\n",
    "        ## if delay view exists and matches request, use it\n",
    "            stop_geos = self.delay_view[1] >> select(_.stop_id, _.geometry) >> distinct(_.stop_id, _keep_all=True)\n",
    "            self.delay_summary = (self.delay_view[1]\n",
    "                     >> group_by(_.stop_id, _.stop_sequence,)\n",
    "                     >> summarize(avg_delay = _.delay.mean(), max_delay = _.delay.max())\n",
    "                     # >> inner_join(_, stop_geos, on = 'stop_id')\n",
    "                     >> arrange(_.stop_sequence)\n",
    "                    )\n",
    "            self.delay_summary = stop_geos >> inner_join(_, self.delay_summary, on = 'stop_id')\n",
    "        else:\n",
    "            self.generate_delay_view(trip_ids) ## generate new delay view if necessary\n",
    "            self.generate_delay_summary(trip_ids)\n",
    "        return self.delay_summary\n",
    "    \n",
    "    def map_stop_delays(self, how = 'max',  trip_ids = None):\n",
    "                \n",
    "        if  type(trip_ids) == type(None): ## trip_ids could potentially be a list or pd.Series...\n",
    "            trip_ids = self.trip_ids\n",
    "        assert how in ['max', 'average']\n",
    "        self.generate_delay_summary(trip_ids)\n",
    "        \n",
    "        gdf = self.delay_summary.copy()\n",
    "        if how == 'max':\n",
    "            gdf['delay_minutes'] = gdf.max_delay.apply(lambda x: x.seconds / 60)\n",
    "        elif how == 'average':\n",
    "            gdf['delay_minutes'] = gdf.avg_delay.apply(lambda x: x.seconds / 60)\n",
    "        gdf = gdf >> select(_.stop_id, _.geometry, _.delay_minutes)\n",
    "        gdf.geometry = gdf.buffer(50)\n",
    "        \n",
    "        gdf = gdf.to_crs(shared_utils.geography_utils.WGS84)\n",
    "\n",
    "        choropleth_dict = {\n",
    "            \"layer_name\": \"Delay\",\n",
    "            \"MIN_VALUE\": gdf.delay_minutes.min(),\n",
    "            \"MAX_VALUE\": gdf.delay_minutes.max(),\n",
    "            \"plot_col_name\": \"delay_minutes\",\n",
    "            \"fig_width\": '100%',\n",
    "            \"fig_height\": '100%',\n",
    "            \"fig_min_width_px\": '400px',\n",
    "            \"fig_min_height_px\": '600px',\n",
    "            \"name\": \"delay_minutes\",\n",
    "        }\n",
    "\n",
    "        colorscale = branca.colormap.linear.Reds_06\n",
    "\n",
    "        f = shared_utils.map_utils.make_ipyleaflet_choropleth_map(\n",
    "            gdf,\n",
    "            geometry_col = \"stop_id\", \n",
    "            plot_col = \"delay_minutes\",\n",
    "            choropleth_dict = choropleth_dict,\n",
    "            colorscale = colorscale,\n",
    "            zoom = 13,\n",
    "            centroid = [33.790, -118.154]\n",
    "        )\n",
    "\n",
    "        return f\n",
    "\n",
    "        \n",
    "    def map_segment_speeds(self, how = 'high_delay', segments = 'stops', trip_ids = None): ##TODO\n",
    "\n",
    "        if  type(trip_ids) == type(None): ## trip_ids could potentially be a list or pd.Series...\n",
    "            trip_ids = self.trip_ids\n",
    "        \n",
    "        assert how in ['high_delay', 'average']\n",
    "        assert segments in ['stops', 'detailed']\n",
    "        \n",
    "        "
   ]
  },
  {
   "cell_type": "code",
   "execution_count": 33,
   "id": "e0db9df7-6d38-4461-94a2-56824db0b50e",
   "metadata": {},
   "outputs": [
    {
     "data": {
      "text/html": [
       "<div>\n",
       "<style scoped>\n",
       "    .dataframe tbody tr th:only-of-type {\n",
       "        vertical-align: middle;\n",
       "    }\n",
       "\n",
       "    .dataframe tbody tr th {\n",
       "        vertical-align: top;\n",
       "    }\n",
       "\n",
       "    .dataframe thead th {\n",
       "        text-align: right;\n",
       "    }\n",
       "</style>\n",
       "<table border=\"1\" class=\"dataframe\">\n",
       "  <thead>\n",
       "    <tr style=\"text-align: right;\">\n",
       "      <th></th>\n",
       "      <th>trip_id</th>\n",
       "      <th>max_time</th>\n",
       "    </tr>\n",
       "  </thead>\n",
       "  <tbody>\n",
       "    <tr>\n",
       "      <th>8</th>\n",
       "      <td>9288619</td>\n",
       "      <td>2021-11-30 16:37:23</td>\n",
       "    </tr>\n",
       "    <tr>\n",
       "      <th>9</th>\n",
       "      <td>9288621</td>\n",
       "      <td>2021-11-30 17:17:58</td>\n",
       "    </tr>\n",
       "    <tr>\n",
       "      <th>10</th>\n",
       "      <td>9288623</td>\n",
       "      <td>2021-11-30 17:56:04</td>\n",
       "    </tr>\n",
       "    <tr>\n",
       "      <th>11</th>\n",
       "      <td>9288625</td>\n",
       "      <td>2021-11-30 18:35:49</td>\n",
       "    </tr>\n",
       "    <tr>\n",
       "      <th>12</th>\n",
       "      <td>9288627</td>\n",
       "      <td>2021-11-30 19:24:12</td>\n",
       "    </tr>\n",
       "    <tr>\n",
       "      <th>13</th>\n",
       "      <td>9288629</td>\n",
       "      <td>2021-11-30 19:59:08</td>\n",
       "    </tr>\n",
       "  </tbody>\n",
       "</table>\n",
       "</div>"
      ],
      "text/plain": [
       "    trip_id            max_time\n",
       "8   9288619 2021-11-30 16:37:23\n",
       "9   9288621 2021-11-30 17:17:58\n",
       "10  9288623 2021-11-30 17:56:04\n",
       "11  9288625 2021-11-30 18:35:49\n",
       "12  9288627 2021-11-30 19:24:12\n",
       "13  9288629 2021-11-30 19:59:08"
      ]
     },
     "execution_count": 33,
     "metadata": {},
     "output_type": "execute_result"
    }
   ],
   "source": [
    "example_trips = (trips_positions_joined\n",
    " >> filter(_.route_id == '175', _.direction_id == '0') ## towards Villages at Cabrillo\n",
    " >> group_by(_.trip_id)\n",
    " >> summarize(max_time = _.vehicle_timestamp.max())\n",
    " >> arrange(_.max_time)\n",
    " >> head(6) ## afternoon/evening\n",
    ")\n",
    "example_trips"
   ]
  },
  {
   "cell_type": "code",
   "execution_count": 76,
   "id": "1f5885d0-fb37-41e0-9c68-b0ce5d0e0e32",
   "metadata": {
    "tags": []
   },
   "outputs": [],
   "source": [
    "%%capture\n",
    "## suppress warnings from location data inaccuracies\n",
    "## generate test analysis with a small subset of LBT trips on a particular route, time, direction\n",
    "test_analysis = RtAnalysis(trips_positions_joined, stop_times, stops, lbt_routelines, example_trips.trip_id)"
   ]
  },
  {
   "cell_type": "code",
   "execution_count": 77,
   "id": "b6e0aae8-4222-4512-967b-e4d37c684bfc",
   "metadata": {
    "tags": []
   },
   "outputs": [],
   "source": [
    "%%capture\n",
    "## suppress warnings from start/end of routes\n",
    "all_delays = test_analysis.generate_delay_view()"
   ]
  },
  {
   "cell_type": "code",
   "execution_count": 78,
   "id": "e89ee547-2858-4b0e-bb46-f60e02746c00",
   "metadata": {},
   "outputs": [
    {
     "data": {
      "text/html": [
       "<div>\n",
       "<style scoped>\n",
       "    .dataframe tbody tr th:only-of-type {\n",
       "        vertical-align: middle;\n",
       "    }\n",
       "\n",
       "    .dataframe tbody tr th {\n",
       "        vertical-align: top;\n",
       "    }\n",
       "\n",
       "    .dataframe thead th {\n",
       "        text-align: right;\n",
       "    }\n",
       "</style>\n",
       "<table border=\"1\" class=\"dataframe\">\n",
       "  <thead>\n",
       "    <tr style=\"text-align: right;\">\n",
       "      <th></th>\n",
       "      <th>arrival_time</th>\n",
       "      <th>actual_time</th>\n",
       "      <th>delay</th>\n",
       "      <th>stop_id</th>\n",
       "      <th>trip_id</th>\n",
       "      <th>stop_sequence</th>\n",
       "      <th>linear_meters</th>\n",
       "      <th>date</th>\n",
       "      <th>geometry</th>\n",
       "    </tr>\n",
       "  </thead>\n",
       "  <tbody>\n",
       "    <tr>\n",
       "      <th>148</th>\n",
       "      <td>2021-11-30 16:58:10</td>\n",
       "      <td>2021-11-30 17:03:30.892511</td>\n",
       "      <td>0 days 00:05:20.892511</td>\n",
       "      <td>1027</td>\n",
       "      <td>9288623</td>\n",
       "      <td>2</td>\n",
       "      <td>501.040761</td>\n",
       "      <td>2021-12-01</td>\n",
       "      <td>POINT (174124.462 -468604.478)</td>\n",
       "    </tr>\n",
       "    <tr>\n",
       "      <th>145</th>\n",
       "      <td>2021-11-30 17:39:10</td>\n",
       "      <td>2021-11-30 17:43:07.179287</td>\n",
       "      <td>0 days 00:03:57.179287</td>\n",
       "      <td>1027</td>\n",
       "      <td>9288625</td>\n",
       "      <td>2</td>\n",
       "      <td>501.040761</td>\n",
       "      <td>2021-12-01</td>\n",
       "      <td>POINT (174124.462 -468604.478)</td>\n",
       "    </tr>\n",
       "    <tr>\n",
       "      <th>86</th>\n",
       "      <td>2021-11-30 17:00:17</td>\n",
       "      <td>2021-11-30 17:05:15.130531</td>\n",
       "      <td>0 days 00:04:58.130531</td>\n",
       "      <td>0540</td>\n",
       "      <td>9288623</td>\n",
       "      <td>3</td>\n",
       "      <td>991.109291</td>\n",
       "      <td>2021-12-01</td>\n",
       "      <td>POINT (173921.407 -468897.107)</td>\n",
       "    </tr>\n",
       "    <tr>\n",
       "      <th>87</th>\n",
       "      <td>2021-11-30 17:41:17</td>\n",
       "      <td>2021-11-30 17:45:05.454960</td>\n",
       "      <td>0 days 00:03:48.454960</td>\n",
       "      <td>0540</td>\n",
       "      <td>9288625</td>\n",
       "      <td>3</td>\n",
       "      <td>991.109291</td>\n",
       "      <td>2021-12-01</td>\n",
       "      <td>POINT (173921.407 -468897.107)</td>\n",
       "    </tr>\n",
       "    <tr>\n",
       "      <th>88</th>\n",
       "      <td>2021-11-30 19:07:48</td>\n",
       "      <td>2021-11-30 19:11:02.996544</td>\n",
       "      <td>0 days 00:03:14.996544</td>\n",
       "      <td>0540</td>\n",
       "      <td>9288629</td>\n",
       "      <td>3</td>\n",
       "      <td>991.109291</td>\n",
       "      <td>2021-12-01</td>\n",
       "      <td>POINT (173921.407 -468897.107)</td>\n",
       "    </tr>\n",
       "  </tbody>\n",
       "</table>\n",
       "</div>"
      ],
      "text/plain": [
       "           arrival_time                actual_time                  delay  \\\n",
       "148 2021-11-30 16:58:10 2021-11-30 17:03:30.892511 0 days 00:05:20.892511   \n",
       "145 2021-11-30 17:39:10 2021-11-30 17:43:07.179287 0 days 00:03:57.179287   \n",
       "86  2021-11-30 17:00:17 2021-11-30 17:05:15.130531 0 days 00:04:58.130531   \n",
       "87  2021-11-30 17:41:17 2021-11-30 17:45:05.454960 0 days 00:03:48.454960   \n",
       "88  2021-11-30 19:07:48 2021-11-30 19:11:02.996544 0 days 00:03:14.996544   \n",
       "\n",
       "    stop_id  trip_id  stop_sequence  linear_meters        date  \\\n",
       "148    1027  9288623              2     501.040761  2021-12-01   \n",
       "145    1027  9288625              2     501.040761  2021-12-01   \n",
       "86     0540  9288623              3     991.109291  2021-12-01   \n",
       "87     0540  9288625              3     991.109291  2021-12-01   \n",
       "88     0540  9288629              3     991.109291  2021-12-01   \n",
       "\n",
       "                           geometry  \n",
       "148  POINT (174124.462 -468604.478)  \n",
       "145  POINT (174124.462 -468604.478)  \n",
       "86   POINT (173921.407 -468897.107)  \n",
       "87   POINT (173921.407 -468897.107)  \n",
       "88   POINT (173921.407 -468897.107)  "
      ]
     },
     "execution_count": 78,
     "metadata": {},
     "output_type": "execute_result"
    }
   ],
   "source": [
    "all_delays.head(5)"
   ]
  },
  {
   "cell_type": "code",
   "execution_count": 37,
   "id": "12b5c355-bf96-4bd3-8930-0459f5e47b70",
   "metadata": {},
   "outputs": [],
   "source": [
    "all_summary = test_analysis.generate_delay_summary()"
   ]
  },
  {
   "cell_type": "code",
   "execution_count": 38,
   "id": "6c7e394c-b4f0-454a-ac23-e90b6d502b3e",
   "metadata": {},
   "outputs": [
    {
     "data": {
      "text/html": [
       "<div>\n",
       "<style scoped>\n",
       "    .dataframe tbody tr th:only-of-type {\n",
       "        vertical-align: middle;\n",
       "    }\n",
       "\n",
       "    .dataframe tbody tr th {\n",
       "        vertical-align: top;\n",
       "    }\n",
       "\n",
       "    .dataframe thead th {\n",
       "        text-align: right;\n",
       "    }\n",
       "</style>\n",
       "<table border=\"1\" class=\"dataframe\">\n",
       "  <thead>\n",
       "    <tr style=\"text-align: right;\">\n",
       "      <th></th>\n",
       "      <th>stop_id</th>\n",
       "      <th>geometry</th>\n",
       "      <th>stop_sequence</th>\n",
       "      <th>avg_delay</th>\n",
       "      <th>max_delay</th>\n",
       "    </tr>\n",
       "  </thead>\n",
       "  <tbody>\n",
       "    <tr>\n",
       "      <th>0</th>\n",
       "      <td>1027</td>\n",
       "      <td>POINT (174124.462 -468604.478)</td>\n",
       "      <td>2</td>\n",
       "      <td>0 days 00:04:39.035899</td>\n",
       "      <td>0 days 00:05:20.892511</td>\n",
       "    </tr>\n",
       "    <tr>\n",
       "      <th>1</th>\n",
       "      <td>0540</td>\n",
       "      <td>POINT (173921.407 -468897.107)</td>\n",
       "      <td>3</td>\n",
       "      <td>0 days 00:04:00.527345</td>\n",
       "      <td>0 days 00:04:58.130531</td>\n",
       "    </tr>\n",
       "    <tr>\n",
       "      <th>2</th>\n",
       "      <td>0542</td>\n",
       "      <td>POINT (173328.363 -468647.513)</td>\n",
       "      <td>4</td>\n",
       "      <td>0 days 00:01:40.985010250</td>\n",
       "      <td>0 days 00:03:24.379293</td>\n",
       "    </tr>\n",
       "  </tbody>\n",
       "</table>\n",
       "</div>"
      ],
      "text/plain": [
       "  stop_id                        geometry  stop_sequence  \\\n",
       "0    1027  POINT (174124.462 -468604.478)              2   \n",
       "1    0540  POINT (173921.407 -468897.107)              3   \n",
       "2    0542  POINT (173328.363 -468647.513)              4   \n",
       "\n",
       "                  avg_delay              max_delay  \n",
       "0    0 days 00:04:39.035899 0 days 00:05:20.892511  \n",
       "1    0 days 00:04:00.527345 0 days 00:04:58.130531  \n",
       "2 0 days 00:01:40.985010250 0 days 00:03:24.379293  "
      ]
     },
     "execution_count": 38,
     "metadata": {},
     "output_type": "execute_result"
    }
   ],
   "source": [
    "all_summary.head(3)"
   ]
  },
  {
   "cell_type": "code",
   "execution_count": 99,
   "id": "182e64ef-82de-41f5-8a4f-8bfb6c1637f0",
   "metadata": {},
   "outputs": [
    {
     "name": "stdout",
     "output_type": "stream",
     "text": [
      "insufficient bounding points for location 11480.641185357437: start/end of route?\n",
      "insufficient bounding points for location 991.1092912035456: start/end of route?\n",
      "insufficient bounding points for location 0.0: start/end of route?\n",
      "insufficient bounding points for location 1666.4024361313238: start/end of route?\n",
      "insufficient bounding points for location 501.0407611454837: start/end of route?\n"
     ]
    },
    {
     "data": {
      "application/vnd.jupyter.widget-view+json": {
       "model_id": "b1e221c62962439eba4e5525eebd4668",
       "version_major": 2,
       "version_minor": 0
      },
      "text/plain": [
       "Map(center=[33.79, -118.154], controls=(ZoomControl(options=['position', 'zoom_in_text', 'zoom_in_title', 'zoo…"
      ]
     },
     "metadata": {},
     "output_type": "display_data"
    }
   ],
   "source": [
    "test_analysis.map_stop_delays(how = 'average', trip_ids=['9288619']) ## to refine, add hover, legend, etc..."
   ]
  },
  {
   "cell_type": "markdown",
   "id": "8019a504-d4f0-4047-b7f5-e4034939b0cf",
   "metadata": {},
   "source": [
    "## Sandbox"
   ]
  },
  {
   "cell_type": "code",
   "execution_count": 100,
   "id": "88dd3afa-cbc5-4558-b975-d602ef0042c2",
   "metadata": {},
   "outputs": [
    {
     "data": {
      "text/html": [
       "<div>\n",
       "<style scoped>\n",
       "    .dataframe tbody tr th:only-of-type {\n",
       "        vertical-align: middle;\n",
       "    }\n",
       "\n",
       "    .dataframe tbody tr th {\n",
       "        vertical-align: top;\n",
       "    }\n",
       "\n",
       "    .dataframe thead th {\n",
       "        text-align: right;\n",
       "    }\n",
       "</style>\n",
       "<table border=\"1\" class=\"dataframe\">\n",
       "  <thead>\n",
       "    <tr style=\"text-align: right;\">\n",
       "      <th></th>\n",
       "      <th>arrival_time</th>\n",
       "      <th>actual_time</th>\n",
       "      <th>delay</th>\n",
       "      <th>stop_id</th>\n",
       "      <th>trip_id</th>\n",
       "      <th>stop_sequence</th>\n",
       "      <th>linear_meters</th>\n",
       "      <th>date</th>\n",
       "      <th>geometry</th>\n",
       "    </tr>\n",
       "  </thead>\n",
       "  <tbody>\n",
       "    <tr>\n",
       "      <th>148</th>\n",
       "      <td>2021-11-30 16:58:10</td>\n",
       "      <td>2021-11-30 17:03:30.892511</td>\n",
       "      <td>0 days 00:05:20.892511</td>\n",
       "      <td>1027</td>\n",
       "      <td>9288623</td>\n",
       "      <td>2</td>\n",
       "      <td>501.040761</td>\n",
       "      <td>2021-12-01</td>\n",
       "      <td>POINT (174124.462 -468604.478)</td>\n",
       "    </tr>\n",
       "    <tr>\n",
       "      <th>145</th>\n",
       "      <td>2021-11-30 17:39:10</td>\n",
       "      <td>2021-11-30 17:43:07.179287</td>\n",
       "      <td>0 days 00:03:57.179287</td>\n",
       "      <td>1027</td>\n",
       "      <td>9288625</td>\n",
       "      <td>2</td>\n",
       "      <td>501.040761</td>\n",
       "      <td>2021-12-01</td>\n",
       "      <td>POINT (174124.462 -468604.478)</td>\n",
       "    </tr>\n",
       "    <tr>\n",
       "      <th>86</th>\n",
       "      <td>2021-11-30 17:00:17</td>\n",
       "      <td>2021-11-30 17:05:15.130531</td>\n",
       "      <td>0 days 00:04:58.130531</td>\n",
       "      <td>0540</td>\n",
       "      <td>9288623</td>\n",
       "      <td>3</td>\n",
       "      <td>991.109291</td>\n",
       "      <td>2021-12-01</td>\n",
       "      <td>POINT (173921.407 -468897.107)</td>\n",
       "    </tr>\n",
       "    <tr>\n",
       "      <th>87</th>\n",
       "      <td>2021-11-30 17:41:17</td>\n",
       "      <td>2021-11-30 17:45:05.454960</td>\n",
       "      <td>0 days 00:03:48.454960</td>\n",
       "      <td>0540</td>\n",
       "      <td>9288625</td>\n",
       "      <td>3</td>\n",
       "      <td>991.109291</td>\n",
       "      <td>2021-12-01</td>\n",
       "      <td>POINT (173921.407 -468897.107)</td>\n",
       "    </tr>\n",
       "    <tr>\n",
       "      <th>88</th>\n",
       "      <td>2021-11-30 19:07:48</td>\n",
       "      <td>2021-11-30 19:11:02.996544</td>\n",
       "      <td>0 days 00:03:14.996544</td>\n",
       "      <td>0540</td>\n",
       "      <td>9288629</td>\n",
       "      <td>3</td>\n",
       "      <td>991.109291</td>\n",
       "      <td>2021-12-01</td>\n",
       "      <td>POINT (173921.407 -468897.107)</td>\n",
       "    </tr>\n",
       "  </tbody>\n",
       "</table>\n",
       "</div>"
      ],
      "text/plain": [
       "           arrival_time                actual_time                  delay  \\\n",
       "148 2021-11-30 16:58:10 2021-11-30 17:03:30.892511 0 days 00:05:20.892511   \n",
       "145 2021-11-30 17:39:10 2021-11-30 17:43:07.179287 0 days 00:03:57.179287   \n",
       "86  2021-11-30 17:00:17 2021-11-30 17:05:15.130531 0 days 00:04:58.130531   \n",
       "87  2021-11-30 17:41:17 2021-11-30 17:45:05.454960 0 days 00:03:48.454960   \n",
       "88  2021-11-30 19:07:48 2021-11-30 19:11:02.996544 0 days 00:03:14.996544   \n",
       "\n",
       "    stop_id  trip_id  stop_sequence  linear_meters        date  \\\n",
       "148    1027  9288623              2     501.040761  2021-12-01   \n",
       "145    1027  9288625              2     501.040761  2021-12-01   \n",
       "86     0540  9288623              3     991.109291  2021-12-01   \n",
       "87     0540  9288625              3     991.109291  2021-12-01   \n",
       "88     0540  9288629              3     991.109291  2021-12-01   \n",
       "\n",
       "                           geometry  \n",
       "148  POINT (174124.462 -468604.478)  \n",
       "145  POINT (174124.462 -468604.478)  \n",
       "86   POINT (173921.407 -468897.107)  \n",
       "87   POINT (173921.407 -468897.107)  \n",
       "88   POINT (173921.407 -468897.107)  "
      ]
     },
     "execution_count": 100,
     "metadata": {},
     "output_type": "execute_result"
    }
   ],
   "source": [
    "all_delays.head(5)"
   ]
  },
  {
   "cell_type": "code",
   "execution_count": 111,
   "id": "612102ad-418e-470c-ab39-a4d3338ff9ed",
   "metadata": {},
   "outputs": [
    {
     "data": {
      "text/html": [
       "<div>\n",
       "<style scoped>\n",
       "    .dataframe tbody tr th:only-of-type {\n",
       "        vertical-align: middle;\n",
       "    }\n",
       "\n",
       "    .dataframe tbody tr th {\n",
       "        vertical-align: top;\n",
       "    }\n",
       "\n",
       "    .dataframe thead th {\n",
       "        text-align: right;\n",
       "    }\n",
       "</style>\n",
       "<table border=\"1\" class=\"dataframe\">\n",
       "  <thead>\n",
       "    <tr style=\"text-align: right;\">\n",
       "      <th></th>\n",
       "      <th>trip_id</th>\n",
       "      <th>min_meters</th>\n",
       "      <th>min_stop</th>\n",
       "      <th>max_meters</th>\n",
       "      <th>max_stop</th>\n",
       "    </tr>\n",
       "  </thead>\n",
       "  <tbody>\n",
       "    <tr>\n",
       "      <th>0</th>\n",
       "      <td>9288619</td>\n",
       "      <td>1954.947256</td>\n",
       "      <td>5</td>\n",
       "      <td>10745.097772</td>\n",
       "      <td>28</td>\n",
       "    </tr>\n",
       "    <tr>\n",
       "      <th>1</th>\n",
       "      <td>9288621</td>\n",
       "      <td>1954.947256</td>\n",
       "      <td>5</td>\n",
       "      <td>11480.641185</td>\n",
       "      <td>29</td>\n",
       "    </tr>\n",
       "    <tr>\n",
       "      <th>2</th>\n",
       "      <td>9288623</td>\n",
       "      <td>501.040761</td>\n",
       "      <td>2</td>\n",
       "      <td>10745.097772</td>\n",
       "      <td>28</td>\n",
       "    </tr>\n",
       "    <tr>\n",
       "      <th>3</th>\n",
       "      <td>9288625</td>\n",
       "      <td>501.040761</td>\n",
       "      <td>2</td>\n",
       "      <td>10745.097772</td>\n",
       "      <td>28</td>\n",
       "    </tr>\n",
       "    <tr>\n",
       "      <th>4</th>\n",
       "      <td>9288627</td>\n",
       "      <td>1666.402436</td>\n",
       "      <td>4</td>\n",
       "      <td>11480.641185</td>\n",
       "      <td>29</td>\n",
       "    </tr>\n",
       "    <tr>\n",
       "      <th>5</th>\n",
       "      <td>9288629</td>\n",
       "      <td>991.109291</td>\n",
       "      <td>3</td>\n",
       "      <td>10745.097772</td>\n",
       "      <td>28</td>\n",
       "    </tr>\n",
       "  </tbody>\n",
       "</table>\n",
       "</div>"
      ],
      "text/plain": [
       "   trip_id   min_meters  min_stop    max_meters  max_stop\n",
       "0  9288619  1954.947256         5  10745.097772        28\n",
       "1  9288621  1954.947256         5  11480.641185        29\n",
       "2  9288623   501.040761         2  10745.097772        28\n",
       "3  9288625   501.040761         2  10745.097772        28\n",
       "4  9288627  1666.402436         4  11480.641185        29\n",
       "5  9288629   991.109291         3  10745.097772        28"
      ]
     },
     "execution_count": 111,
     "metadata": {},
     "output_type": "execute_result"
    }
   ],
   "source": [
    "(all_delays\n",
    " >> group_by(_.trip_id)\n",
    " >> summarize(min_meters = _.linear_meters.min(),\n",
    "             min_stop = _.stop_sequence.min(),\n",
    "             max_meters = _.linear_meters.max(),\n",
    "             max_stop = _.stop_sequence.max())\n",
    ")"
   ]
  },
  {
   "cell_type": "code",
   "execution_count": 125,
   "id": "50c2d6b7-4a9a-48f1-8391-b2decf2516e4",
   "metadata": {},
   "outputs": [
    {
     "data": {
      "text/html": [
       "<div>\n",
       "<style scoped>\n",
       "    .dataframe tbody tr th:only-of-type {\n",
       "        vertical-align: middle;\n",
       "    }\n",
       "\n",
       "    .dataframe tbody tr th {\n",
       "        vertical-align: top;\n",
       "    }\n",
       "\n",
       "    .dataframe thead th {\n",
       "        text-align: right;\n",
       "    }\n",
       "</style>\n",
       "<table border=\"1\" class=\"dataframe\">\n",
       "  <thead>\n",
       "    <tr style=\"text-align: right;\">\n",
       "      <th></th>\n",
       "      <th>arrival_time</th>\n",
       "      <th>actual_time</th>\n",
       "      <th>delay</th>\n",
       "      <th>stop_id</th>\n",
       "      <th>trip_id</th>\n",
       "      <th>stop_sequence</th>\n",
       "      <th>linear_meters</th>\n",
       "      <th>date</th>\n",
       "      <th>geometry</th>\n",
       "      <th>seconds_from_last</th>\n",
       "      <th>meters_from_last</th>\n",
       "      <th>speed_from_last</th>\n",
       "    </tr>\n",
       "  </thead>\n",
       "  <tbody>\n",
       "    <tr>\n",
       "      <th>0</th>\n",
       "      <td>2021-11-30 16:58:10</td>\n",
       "      <td>2021-11-30 17:03:30.892511</td>\n",
       "      <td>0 days 00:05:20.892511</td>\n",
       "      <td>1027</td>\n",
       "      <td>9288623</td>\n",
       "      <td>2</td>\n",
       "      <td>501.040761</td>\n",
       "      <td>2021-12-01</td>\n",
       "      <td>POINT (174124.462 -468604.478)</td>\n",
       "      <td>NaN</td>\n",
       "      <td>NaN</td>\n",
       "      <td>NaN</td>\n",
       "    </tr>\n",
       "    <tr>\n",
       "      <th>1</th>\n",
       "      <td>2021-11-30 17:39:10</td>\n",
       "      <td>2021-11-30 17:43:07.179287</td>\n",
       "      <td>0 days 00:03:57.179287</td>\n",
       "      <td>1027</td>\n",
       "      <td>9288625</td>\n",
       "      <td>2</td>\n",
       "      <td>501.040761</td>\n",
       "      <td>2021-12-01</td>\n",
       "      <td>POINT (174124.462 -468604.478)</td>\n",
       "      <td>NaN</td>\n",
       "      <td>NaN</td>\n",
       "      <td>NaN</td>\n",
       "    </tr>\n",
       "    <tr>\n",
       "      <th>2</th>\n",
       "      <td>2021-11-30 17:00:17</td>\n",
       "      <td>2021-11-30 17:05:15.130531</td>\n",
       "      <td>0 days 00:04:58.130531</td>\n",
       "      <td>0540</td>\n",
       "      <td>9288623</td>\n",
       "      <td>3</td>\n",
       "      <td>991.109291</td>\n",
       "      <td>2021-12-01</td>\n",
       "      <td>POINT (173921.407 -468897.107)</td>\n",
       "      <td>104.0</td>\n",
       "      <td>490.06853</td>\n",
       "      <td>4.712197</td>\n",
       "    </tr>\n",
       "  </tbody>\n",
       "</table>\n",
       "</div>"
      ],
      "text/plain": [
       "         arrival_time                actual_time                  delay  \\\n",
       "0 2021-11-30 16:58:10 2021-11-30 17:03:30.892511 0 days 00:05:20.892511   \n",
       "1 2021-11-30 17:39:10 2021-11-30 17:43:07.179287 0 days 00:03:57.179287   \n",
       "2 2021-11-30 17:00:17 2021-11-30 17:05:15.130531 0 days 00:04:58.130531   \n",
       "\n",
       "  stop_id  trip_id  stop_sequence  linear_meters        date  \\\n",
       "0    1027  9288623              2     501.040761  2021-12-01   \n",
       "1    1027  9288625              2     501.040761  2021-12-01   \n",
       "2    0540  9288623              3     991.109291  2021-12-01   \n",
       "\n",
       "                         geometry  seconds_from_last  meters_from_last  \\\n",
       "0  POINT (174124.462 -468604.478)                NaN               NaN   \n",
       "1  POINT (174124.462 -468604.478)                NaN               NaN   \n",
       "2  POINT (173921.407 -468897.107)              104.0         490.06853   \n",
       "\n",
       "   speed_from_last  \n",
       "0              NaN  \n",
       "1              NaN  \n",
       "2         4.712197  "
      ]
     },
     "execution_count": 125,
     "metadata": {},
     "output_type": "execute_result"
    }
   ],
   "source": [
    "stop_speeds = (all_delays\n",
    "             >> group_by(_.trip_id)\n",
    "             >> arrange(_.stop_sequence)\n",
    "             >> mutate(seconds_from_last = (_.actual_time - _.actual_time.shift(1)).apply(lambda x: x.seconds))\n",
    "             >> mutate(meters_from_last = (_.linear_meters - _.linear_meters.shift(1)))\n",
    "             >> mutate(speed_from_last = _.meters_from_last / _.seconds_from_last) \n",
    "             >> ungroup()\n",
    "            )\n",
    "stop_speeds.head(3)"
   ]
  },
  {
   "cell_type": "code",
   "execution_count": 103,
   "id": "ebfa280b-b719-4e64-82ac-eaebb5594566",
   "metadata": {},
   "outputs": [
    {
     "data": {
      "image/svg+xml": [
       "<svg xmlns=\"http://www.w3.org/2000/svg\" xmlns:xlink=\"http://www.w3.org/1999/xlink\" width=\"300\" height=\"300\" viewBox=\"164097.71789144204 -469313.4999015269 10930.619189769786 2136.4941561041633\" preserveAspectRatio=\"xMinYMin meet\"><g transform=\"matrix(1,0,0,-1,0,-936490.5056469496)\"><polyline fill=\"none\" stroke=\"#66cc99\" stroke-width=\"72.87079459846524\" points=\"174623.49933344257,-468608.2109730425 174620.96327700026,-468606.4867353393 174612.10912097065,-468603.88988035405 174608.02936833032,-468603.74916976737 174599.596408242,-468603.6950136726 174589.2228069418,-468603.9012669921 174576.96371331555,-468602.48124083504 174574.36370082697,-468602.2001796863 174567.59792868246,-468602.11284864694 174562.22588615082,-468602.219640356 174558.80770940508,-468602.73125632294 174552.57777326155,-468606.2935162992 174418.93598798919,-468609.50358062424 174408.6550013325,-468609.7077809358 174397.82048735736,-468610.0338790901 174312.52267477772,-468612.06023940165 174223.8926632746,-468614.26279987954 174153.694586907,-468611.4404358361 174124.71064546597,-468612.3479566518 174124.71064546597,-468612.3479566518 174123.69180862923,-468612.36815911904 174064.3345900064,-468614.21044649463 174056.827849101,-468614.1374095436 174026.37733097508,-468615.85009147506 174019.26338792595,-468612.2199048409 173988.86375426763,-468611.8240319188 173935.86447381423,-468611.8757255748 173920.8510027256,-468611.72942559235 173921.47621735296,-468624.5833722856 173922.52603430147,-468649.5188175258 173923.669495027,-468688.53880467126 173924.90485800817,-468788.3391818707 173926.0537259228,-468841.66721817665 173927.1494966461,-468896.992769754 173927.1494966461,-468896.992769754 173927.3712858331,-468908.19092356926 173914.77872469477,-468908.66215375764 173912.551341459,-468908.4844329618 173904.0035255696,-468907.3227158142 173895.70504404433,-468904.7141411966 173819.34995647357,-468876.5002473742 173745.6151648919,-468849.56484319316 173654.25435724834,-468816.8769935034 173622.77711942737,-468804.189437767 173557.00199870314,-468781.4208116713 173503.8940639902,-468761.9507487528 173416.07447313095,-468730.18870345736 173386.06302847608,-468711.925532924 173348.1283703823,-468677.1812056503 173323.27196561123,-468652.4938137992 173323.27196561123,-468652.4938137992 173276.77652120803,-468606.493732946 173207.30665252893,-468537.21044255374 173137.23762116805,-468470.3785512261 173118.71772773608,-468485.05192973744 173114.8779530719,-468487.678710978 173114.8779530719,-468487.678710978 173096.58557884654,-468499.79647200555 173084.08536957527,-468504.9231990366 173074.67523871717,-468506.99425646104 173064.87714058935,-468508.1856174129 173050.38902348134,-468506.4746470698 173044.3009647189,-468503.1562081403 173006.0002400502,-468539.0714303949 173006.0002400502,-468539.0714303949 172999.08556843043,-468545.529900311 172982.77071720027,-468559.2721999902 172957.7610106831,-468536.13961859373 172896.90291998503,-468480.5488227522 172868.02421537117,-468453.83190526953 172842.06053904316,-468429.27584362775 172833.57638131618,-468421.90050649317 172817.35342734656,-468407.3569708159 172797.26113908735,-468389.229297495 172797.26113908735,-468389.229297495 172795.1864268407,-468387.3845411246 172767.2541542225,-468361.6469030422 172735.47887866898,-468333.6555196084 172707.66355498155,-468309.13546699705 172696.25612508063,-468299.1554858703 172679.95844636968,-468285.5004892852 172662.71937762105,-468271.0875549745 172629.1163823167,-468244.3517953139 172612.4680541782,-468231.70181400655 172602.01315850977,-468223.03398299916 172602.01315850977,-468223.03398299916 172598.15046379386,-468219.7824051422 172592.5945082174,-468215.23310579034 172571.77743253807,-468197.8955598413 172556.24721510825,-468185.5562448851 172518.02169179902,-468154.58512826543 172497.59279630944,-468138.1271089697 172462.45886139083,-468108.86967853643 172455.5781106069,-468102.90438994253 172402.555736248,-468059.13515766803 172367.72421771105,-468031.09148418624 172336.26405788297,-468004.86708913743 172318.66869303887,-467991.1259517763 172318.66869303887,-467991.1259517763 172311.23461727728,-467985.2823219341 172293.82456005146,-467971.5374968918 172288.64590287386,-467967.3133467259 172267.6491295723,-467950.2004158404 172260.29903595583,-467943.91142575163 172249.6639478554,-467935.46853051474 172236.65226090705,-467933.3945129495 172229.9679018682,-467927.9797747298 172215.27868909066,-467915.9560938962 172190.15063315813,-467896.04015550297 172183.93809734329,-467891.05979689397 172178.6669262169,-467886.83739424776 172175.1675951906,-467878.4763123463 172156.31658341087,-467862.0974510629 172150.28714378751,-467857.00256062904 172141.05668358516,-467849.30841076886 172133.0345608182,-467841.8123970865 172131.89929080242,-467840.6145642223 172126.59557211288,-467834.72900994867 172122.2245134175,-467829.157921067 172119.25787216861,-467824.33572004596 172118.2926188748,-467822.3581324313 172116.8403929614,-467819.1700016232 172114.18118327003,-467811.12517427094 172110.35762400035,-467795.671717213 172111.21119415303,-467787.2252792944 172111.30731379538,-467782.6757899737 172111.05822224167,-467774.69463358726 172109.9886571745,-467767.3950623786 172107.5059994838,-467758.9030994056 172103.82807748616,-467750.8782322323 172098.86662792877,-467743.5440239976 172092.71643836104,-467737.00953218155 172085.65751959782,-467731.3801838611 172079.2794890127,-467727.40124455467 172075.81807157974,-467725.69440474967 172071.79446403647,-467723.6658291626 172066.75647042185,-467721.87896486325 172060.24103036622,-467720.3428842351 172054.2212424045,-467720.46084535215 172045.70744451514,-467720.96042272635 172035.36529926918,-467722.71590477927 172025.78794222287,-467725.67648063647 172019.90420635376,-467728.0100975861 172014.04653265153,-467731.674206811 172010.75376111697,-467733.84614115953 172005.36348522946,-467737.7229222469 172002.915080041,-467740.4328987398 171996.88597609304,-467749.53529772256 171994.38621757095,-467754.35370435193 171986.35142175725,-467760.38970073266 171980.6058700027,-467765.04984435067 171974.76769948352,-467769.71179790655 171969.82524818083,-467772.8033636492 171964.33146009123,-467776.12755866675 171958.0880803621,-467779.0227615107 171950.5437751887,-467781.7216018825 171946.76185031582,-467782.5720837065 171939.65020668946,-467783.7096014824 171934.4682325773,-467784.03290783474 171920.4793587022,-467784.08498462243 171883.52685229934,-467784.8084311299 171837.59523996912,-467785.9292856264 171824.2611643016,-467786.30114582693 171814.62943117137,-467786.489622775 171803.5491068109,-467793.1396264634 171770.7619736466,-467793.6701777545 171761.87330451256,-467793.9549773666 171756.59436927925,-467794.058241033 171734.17337285427,-467794.0531245959 171708.7822600871,-467793.773282873 171708.7822600871,-467793.773282873 171705.90909209088,-467793.7185521466 171676.73602896708,-467794.2889941423 171654.60804753876,-467795.054365159 171604.0543973606,-467796.7080225856 171582.66514392005,-467797.34785747714 171556.92308013747,-467798.07268828945 171549.05314624016,-467798.3373677903 171535.4412092352,-467798.7142176586 171514.8811341991,-467799.11585436855 171507.74993678273,-467799.2551495512 171490.15347514,-467799.59884015704 171471.35304431047,-467799.9660074697 171435.88011379677,-467800.54775746865 171419.2097792787,-467800.873223525 171396.79743967345,-467801.3107446772 171379.76097994758,-467801.86511666654 171374.76204292104,-467802.0736026149 171358.55909806598,-467802.6116651292 171335.3197276255,-467803.39792041946 171311.9790883288,-467803.7424219535 171278.8193069549,-467804.1674891971 171267.52052008014,-467804.3878842057 171253.2581165711,-467804.6660669828 171234.640738675,-467804.91824003495 171218.80823710808,-467805.4488202161 171186.76413121342,-467806.073618053 171157.95931789264,-467806.5242391629 171157.95931789264,-467806.5242391629 171157.77409183249,-467806.5278497641 171141.46555381952,-467806.40206797235 171127.67269488648,-467807.0036456161 171109.24486102123,-467807.47369250376 171099.89310434277,-467807.76684590615 171082.02094681776,-467808.2260075002 171064.23492090637,-467808.3507038476 171052.843515596,-467808.5726269223 171032.18864473284,-467808.864062713 171018.75759195973,-467809.0147539065 171013.10819543796,-467809.12478590524 170990.41367726016,-467809.34493134124 170958.4664877331,-467810.188842223 170931.88437757356,-467810.5954446853 170903.26693685915,-467811.15249932185 170896.4135689117,-467811.28589015035 170896.4135689117,-467811.28589015035 170887.05964762295,-467811.4679419715 170857.88868302008,-467812.14653825015 170830.8456598822,-467812.67272039596 170807.60408596564,-467813.3467040714 170792.2324672946,-467813.7566321152 170770.19486001684,-467814.40709791007 170751.21132738702,-467814.88720063353 170730.56075724,-467815.3996767523 170707.49793306677,-467815.7371690506 170690.4549618102,-467815.9575787699 170666.8364578746,-467816.30576646933 170649.23996206583,-467816.64777185116 170629.32598243008,-467816.92386045726 170606.81452576007,-467817.0285399994 170596.62277168315,-467817.00472783716 170576.98232345286,-467817.05354963476 170552.5346069562,-467817.6393723455 170529.1099398891,-467818.4270916758 170505.1209787095,-467818.7820390444 170491.04377814513,-467819.0553869037 170491.04377814513,-467819.0553869037 170470.85195555058,-467819.33651087806 170452.23670879993,-467819.6978999926 170442.3270995219,-467819.8902651658 170426.11764212156,-467820.093981992 170420.746077998,-467820.19824011205 170406.0205829167,-467820.4840343143 170382.30945721688,-467820.83325404255 170359.24877436386,-467821.2807066543 170337.20683543742,-467821.70833567297 170322.94440379558,-467821.9850073159 170303.49778313944,-467822.4731245367 170287.29262329187,-467822.89833515976 170276.0713745268,-467822.3395329281 170242.82968450413,-467823.31685897475 170220.130850238,-467823.3132633809 170194.56745500982,-467823.6978841168 170173.72733297697,-467823.99089077814 170166.880401299,-467824.4563374161 170145.21105578795,-467824.9871801385 170123.17984861427,-467825.96864728676 170101.32312440197,-467826.39209538465 170095.11803725013,-467826.5123016671 170095.11803725013,-467826.5123016671 170080.76298456037,-467826.7903740206 170064.09260022375,-467827.11326730065 170025.47502112563,-467827.97205691505 170012.32393842813,-467828.22670366336 169958.05256495284,-467829.2773614614 169934.707582602,-467829.39645163156 169922.11432309428,-467829.7510839938 169899.33360204654,-467830.30282703927 169875.3489065405,-467830.87780411076 169854.97398278047,-467831.2719704993 169834.50215567971,-467831.44613064127 169805.4172921169,-467831.78681354923 169787.44816811036,-467832.02338083833 169748.64748078887,-467832.9954097979 169743.09068215208,-467833.10283422656 169731.78971477543,-467833.2103778734 169731.78971477543,-467833.2103778734 169721.32226722446,-467833.30179568194 169699.4698104791,-467833.9459938416 169664.46625897137,-467834.8442633641 169647.33279267777,-467835.17531313 169640.10895264093,-467835.3148808498 169619.73830229373,-467835.93025179347 169595.83977657533,-467836.1700506583 169581.38781201266,-467836.2273449893 169562.39779380066,-467836.37225183565 169542.10904801975,-467836.43127808534 169519.8882661433,-467837.19305757293 169497.75581422908,-467837.73124255287 169482.93981651086,-467838.1281517176 169450.5272775988,-467838.86463899957 169437.83924546003,-467839.1094888388 169418.76302921667,-467839.5884979558 169399.87203846165,-467840.0638921135 169382.090268266,-467840.4069315917 169339.86069958695,-467841.33238131274 169319.3952762279,-467841.83796631265 169296.89021866056,-467842.27191333286 169296.89021866056,-467842.27191333286 169296.79760525227,-467842.2736990028 169269.84496530893,-467842.6824124735 169250.4887617392,-467843.05553686665 169225.10627438387,-467843.2120141736 169202.42239620295,-467843.98191481084 169161.7693725393,-467844.98704369226 169145.56415671756,-467845.41014716914 169134.91361087863,-467845.6153093809 169117.9674859781,-467846.0526335947 169095.55076059187,-467846.2625301187 169051.27512531023,-467846.7823283612 169029.50455954598,-467846.86869933596 168997.17819413228,-467847.2691042116 168997.17819413228,-467847.2691042116 168982.72836023473,-467847.4362885612 168972.74957671383,-467848.8484065542 168965.53425980007,-467849.4309207569 168947.64279021035,-467848.8878596532 168941.80387449122,-467848.7783721951 168921.41824401438,-467848.61599542294 168892.2513965139,-467849.5098121492 168859.19477818595,-467850.4783371524 168840.02591643512,-467850.9578699912 168816.4116051545,-467851.52283108 168792.79729205603,-467852.0877286503 168758.8102630718,-467852.8519284087 168740.75275716413,-467853.30988449557 168726.21243361023,-467853.58930193866 168718.33602278132,-467853.518817991 168695.0900270249,-467853.96545908274 168679.43833997633,-467854.2661508871 168656.09759901866,-467854.6035924759 168638.22318583776,-467854.9469044353 168614.97718630318,-467855.39333343366 168593.1182599602,-467855.7021518103 168565.7951334721,-467856.11581712076 168540.04643653438,-467856.499176851 168529.95794288232,-467857.02556553856 168529.95794288232,-467857.02556553856 168517.74146408585,-467857.7036997932 168489.11110438537,-467857.587633342 168466.0481977231,-467857.9192382726 168447.34450970183,-467858.4999047811 168434.37222778876,-467858.41600823635 168413.1615912702,-467858.711942574 168392.3214086463,-467859.0007211645 168373.24088375518,-467859.2557078125 168363.51645701032,-467859.442175 168334.26544129726,-467860.77941611735 168312.69709800679,-467861.7474629595 168292.13475029366,-467862.03067789087 168262.58675630097,-467862.3751256438 168229.79303645203,-467862.5598280374 168210.33780326854,-467862.5998072531 168185.88993007035,-467863.17904048366 168169.9646327975,-467863.70589709515 168161.99986020394,-467863.8584390092 168138.56648664613,-467864.1962785772 168111.24121666685,-467864.49765385315 168100.2223157632,-467864.81952924747 168085.22102738466,-467865.21762604034 168072.90341177813,-467865.4534119512 168072.90341177813,-467865.4534119512 168036.41575313127,-467866.2626797217 168018.0782478949,-467866.6135911355 167995.202672152,-467867.0512905754 167982.2367582702,-467867.29935286427 167963.34356881518,-467867.6607807805 167957.1384524998,-467867.7794761793 167936.6729500359,-467868.2818383733 167910.558011168,-467868.89218867384 167888.0507642762,-467869.21164912684 167870.08158790288,-467869.44429257093 167844.88642341713,-467869.7041143845 167816.26455190993,-467870.0293565816 167782.9193811313,-467870.44476159103 167760.78046832443,-467870.64594134036 167760.78046832443,-467870.64594134036 167760.78046832443,-467870.64594134036 167745.58970190588,-467870.82524550054 167719.56101319403,-467871.1006314368 167708.82205792656,-467871.52758421656 167698.35670784465,-467871.7274660836 167674.27502308824,-467872.0764482077 167627.41036052947,-467872.8603372327 167602.59834560534,-467873.77764571644 167578.4346230812,-467874.6825112831 167563.43542715014,-467875.1905923304 167563.43542715014,-467875.1905923304 167550.6589602201,-467875.6562339668 167526.48042195017,-467875.78482658044 167490.9040463615,-467875.7980274316 167471.7393415158,-467876.4963246044 167456.73802524986,-467876.89334765635 167430.81039648308,-467877.6096143089 167401.6349408107,-467878.0549766007 167376.99333264722,-467878.1919859727 167370.51459443165,-467878.5373145798 167352.3580647046,-467878.66155346856 167333.38280192195,-467879.5777698541 167306.89314131148,-467879.9716330613 167278.08813459668,-467880.4095261032 167252.53305816677,-467881.2290845872 167252.53305816677,-467881.2290845872 167242.44237547505,-467881.64311818965 167222.90085836867,-467882.015300883 167204.28336738914,-467882.2589283413 167180.48794570417,-467883.0447685751 167152.68690785966,-467882.68672274426 167139.9924807772,-467882.59562473046 167123.0462593104,-467883.02909881715 167108.0343767887,-467882.871147051 167092.66258967764,-467883.2745984234 167060.99498380907,-467884.20991719747 167030.5397901795,-467885.5657222215 167019.80079981466,-467885.99183229683 167011.46766044275,-467886.26125302166 167011.46766044275,-467886.26125302166 167002.48833238857,-467886.6538720033 166984.9864180705,-467887.09764844226 166968.5937608908,-467887.4093808583 166945.61919282604,-467887.513479433 166934.04245704165,-467887.7335807164 166903.3893668406,-467888.4272110569 166875.13791368526,-467888.7423437685 166864.30208748384,-467888.94827204756 166864.30208748384,-467888.94827204756 166853.09369850095,-467889.0503506721 166838.92377138275,-467889.3196032336 166819.47274460498,-467889.5782524501 166807.06037457878,-467889.70314625 166791.3349651644,-467891.00011484977 166784.18895078535,-467890.35944248317 166775.02227902878,-467890.64447127935 166741.21609217016,-467891.1755915643 166722.0365885045,-467891.0961210695 166688.14410115452,-467891.9614232541 166668.9709122348,-467892.2144646086 166656.0070656269,-467892.5714444271 166648.5074408851,-467892.82470030105 166632.58205100565,-467893.3487685602 166631.65591153927,-467893.36634420697 166631.65591153927,-467893.36634420697 166614.88647512518,-467893.3518187138 166583.21671129565,-467894.17453842796 166567.45551212179,-467893.58621502854 166560.68628087675,-467893.27096105926 166544.5357026282,-467891.69174017664 166521.6053904637,-467889.2428256157 166511.95041567745,-467888.20585017465 166500.44106326284,-467887.0931118382 166470.88053928365,-467881.8859751858 166461.0910532213,-467873.7528801798 166455.32588038626,-467872.64209945407 166437.40099025608,-467870.3199071586 166369.90065580234,-467862.6149469116 166356.53278410126,-467861.204487226 166347.06309010257,-467860.16382075846 166320.7125231586,-467858.11192663806 166305.78283717926,-467857.3964685411 166289.39863469856,-467858.15043718694 166250.57884973285,-467858.1091238898 166211.35686644912,-467861.2918109447 166191.4785173717,-467863.4427279122 166172.45676394238,-467866.7974623572 166152.06467385573,-467871.1763278744 166147.1666371165,-467871.82358948793 166123.97303588485,-467875.03532574093 166063.7880755305,-467886.7107846532 166019.45290711944,-467893.8713631849 166006.32688046922,-467895.45052301325 165999.30079562182,-467896.24885002244 165989.49629002617,-467897.09969544783 165983.30163259403,-467897.7713764282 165977.29010643807,-467898.328675637 165946.1864699495,-467899.6929742363 165925.17775481322,-467900.86640667357 165807.66310333885,-467903.75176415686 165789.5803335967,-467902.8731374331 165786.70511121617,-467902.70559369354 165784.29923945744,-467902.8619343438 165775.78033219662,-467908.0139783351 165753.7402685931,-467908.54097751016 165728.73655178046,-467909.1238590209 165688.08104658514,-467910.00202892115 165670.30122674626,-467910.44842768554 165660.66935743668,-467910.6301540625 165660.66935743668,-467910.6301540625 165650.20605247788,-467910.93847094895 165619.5528650595,-467911.62761941133 165599.2724591638,-467912.1210398744 165582.41668453056,-467912.43891774863 165545.65095672908,-467913.2430746127 165525.92414097846,-467913.6149728275 165501.29086350743,-467914.19022306893 165482.8606440109,-467914.53758551925 165467.48669151368,-467914.82731555775 165445.35399273504,-467915.35528593557 165426.5533140666,-467915.7095103804 165394.7845598797,-467916.19705984835 165371.72362658553,-467916.6314134938 165326.8036535438,-467917.36639356473 165292.52804944088,-467917.5680264835 165276.32682481466,-467918.2057414572 165249.74028610231,-467918.3733892995 165247.51754504317,-467918.4152206322 165247.51754504317,-467918.4152206322 165213.34498612833,-467919.1691828058 165192.04580121758,-467919.6808312526 165170.00987228853,-467920.4281177656 165151.49119633154,-467920.99827938294 165142.6949289301,-467921.27463628957 165128.5249498113,-467921.54112864565 165107.22367320245,-467921.9416950438 165091.57186498685,-467922.2359913336 165076.8441142999,-467922.40197185846 165041.46755232173,-467923.1779001248 165008.57281939147,-467922.9088074472 164991.7128572215,-467923.0037987307 164974.3013761236,-467923.3309507873 164783.98526951097,-467927.2373789721 164772.9641671925,-467927.44420254277 164744.15903676648,-467927.87378294906 164733.32316227583,-467928.07708145864 164733.32316227583,-467928.07708145864 164714.80237923603,-467928.535445699 164701.37538271345,-467928.8982263594 164690.53950695862,-467929.1014720723 164670.53689195667,-467929.58753619157 164655.07445710435,-467930.099333453 164649.05660442667,-467930.3230940476 164620.72493147294,-467931.2979682875 164608.5603515616,-467924.87110039825 164583.4598029816,-467925.23070399696 164541.38710026725,-467919.69703481067 164537.75852401112,-467918.8777074879 164533.83132946942,-467916.9548204653 164530.36305235483,-467914.80150177237 164528.38699118842,-467913.1747980551 164526.68461807186,-467911.3211348867 164524.7658545648,-467907.8077950976 164523.12077972293,-467904.06749586016 164517.8703274826,-467890.85602453304 164519.65056044917,-467867.1976839425 164519.23419353602,-467840.03119954607 164518.51866965168,-467796.8984793634 164518.35575309637,-467783.2589221797 164518.60429136903,-467756.9672801127 164519.4758538196,-467739.20445760107 164519.26394868916,-467727.8950376492 164519.00218349328,-467713.92457585456 164518.2188620295,-467706.7297376944 164517.37824695202,-467701.42153817276 164516.0704184958,-467695.9002610822 164504.19997829635,-467650.75816184515 164502.9515387038,-467643.4611163628 164502.57191639097,-467638.0333595532 164502.5556392113,-467627.2748409603 164503.0368625817,-467613.4013599092 164503.478275217,-467607.29272451997 164504.9957024248,-467599.2783612348 164509.79638278898,-467583.54929417185 164572.87464203578,-467582.92179470276 164606.6816935298,-467582.5098999911 164671.79738597042,-467581.843493192 164672.63667424867,-467611.77501450805\" opacity=\"0.8\" /></g></svg>"
      ],
      "text/plain": [
       "<shapely.geometry.linestring.LineString at 0x7fcba871c0a0>"
      ]
     },
     "execution_count": 103,
     "metadata": {},
     "output_type": "execute_result"
    }
   ],
   "source": [
    "test_analysis.trip_vehicle_positions['9288619'].shape.geometry.iloc[0]"
   ]
  },
  {
   "cell_type": "code",
   "execution_count": null,
   "id": "aa0b9ad8-6397-4110-a1eb-0c108cd7227e",
   "metadata": {},
   "outputs": [],
   "source": []
  }
 ],
 "metadata": {
  "kernelspec": {
   "display_name": "Python 3 (ipykernel)",
   "language": "python",
   "name": "python3"
  },
  "language_info": {
   "codemirror_mode": {
    "name": "ipython",
    "version": 3
   },
   "file_extension": ".py",
   "mimetype": "text/x-python",
   "name": "python",
   "nbconvert_exporter": "python",
   "pygments_lexer": "ipython3",
   "version": "3.9.7"
  }
 },
 "nbformat": 4,
 "nbformat_minor": 5
}
