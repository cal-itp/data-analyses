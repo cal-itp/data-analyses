{
 "cells": [
  {
   "cell_type": "code",
   "execution_count": 1,
   "id": "0cc75cc8-125b-4099-bfb3-93a6cd0380cb",
   "metadata": {},
   "outputs": [
    {
     "name": "stderr",
     "output_type": "stream",
     "text": [
      "/opt/conda/lib/python3.9/site-packages/geopandas/_compat.py:111: UserWarning: The Shapely GEOS version (3.9.1-CAPI-1.14.2) is incompatible with the GEOS version PyGEOS was compiled with (3.10.1-CAPI-1.16.0). Conversions between both will be slow.\n",
      "  warnings.warn(\n"
     ]
    }
   ],
   "source": [
    "import os\n",
    "os.environ[\"CALITP_BQ_MAX_BYTES\"] = str(100_000_000_000)\n",
    "\n",
    "from calitp.tables import tbl\n",
    "from calitp import query_sql\n",
    "import calitp.magics\n",
    "\n",
    "import shared_utils\n",
    "import branca\n",
    "from utils import *\n",
    "\n",
    "from siuba import *\n",
    "import pandas as pd\n",
    "import geopandas as gpd\n",
    "import shapely\n",
    "\n",
    "import datetime as dt\n",
    "import time\n",
    "from zoneinfo import ZoneInfo"
   ]
  },
  {
   "cell_type": "markdown",
   "id": "85e01be9-f0aa-41e7-bcb2-6aede59b25a1",
   "metadata": {},
   "source": [
    "### Get and transform test data (Long Beach Transit, 170)"
   ]
  },
  {
   "cell_type": "code",
   "execution_count": 2,
   "id": "f3e3d00e-8bf5-4972-8aea-abcf92253424",
   "metadata": {},
   "outputs": [],
   "source": [
    "lbt_itp_id = 170"
   ]
  },
  {
   "cell_type": "code",
   "execution_count": 3,
   "id": "738545a2-d78b-4df5-a2e9-952125c37505",
   "metadata": {
    "tags": []
   },
   "outputs": [],
   "source": [
    "# %%sql -o lbt_positions\n",
    "\n",
    "# # get all vehicle positions on selected dates, for the feed with itp id 170, and url number 0\n",
    "# SELECT *\n",
    "# FROM `cal-itp-data-infra.gtfs_rt.vehicle_positions`\n",
    "# WHERE _FILE_NAME=\"gs://gtfs-data/rt-processed/vehicle_positions/vp_2021-12-01_170_0.parquet\"\n",
    "#     # OR _FILE_NAME=\"gs://gtfs-data/rt-processed/vehicle_positions/vp_2021-12-02_170_0.parquet\"\n",
    "#     # OR _FILE_NAME=\"gs://gtfs-data/rt-processed/vehicle_positions/vp_2021-12-03_170_0.parquet\"\n",
    "#     # OR _FILE_NAME=\"gs://gtfs-data/rt-processed/vehicle_positions/vp_2021-12-04_170_0.parquet\"\n",
    "#     # OR _FILE_NAME=\"gs://gtfs-data/rt-processed/vehicle_positions/vp_2021-12-05_170_0.parquet\"\n",
    "#     # OR _FILE_NAME=\"gs://gtfs-data/rt-processed/vehicle_positions/vp_2021-12-06_170_0.parquet\"\n",
    "#     # OR _FILE_NAME=\"gs://gtfs-data/rt-processed/vehicle_positions/vp_2021-12-07_170_0.parquet\"\n",
    "# ORDER BY header_timestamp"
   ]
  },
  {
   "cell_type": "code",
   "execution_count": 4,
   "id": "b376c866-82ef-4573-93d4-82f933cee7b6",
   "metadata": {},
   "outputs": [],
   "source": [
    "# lbt_positions.to_parquet(f'{GCS_FILE_PATH}lbt_positions.parquet')"
   ]
  },
  {
   "cell_type": "code",
   "execution_count": 5,
   "id": "fb99a04b-16d5-4748-a8fb-88f9f1c4c1d4",
   "metadata": {},
   "outputs": [],
   "source": [
    "lbt_positions = pd.read_parquet(f'{GCS_FILE_PATH}lbt_positions.parquet')"
   ]
  },
  {
   "cell_type": "markdown",
   "id": "9e86e42d-8978-4ef2-b674-dbfa26c6702c",
   "metadata": {},
   "source": [
    "#### Reformat timestamps"
   ]
  },
  {
   "cell_type": "code",
   "execution_count": 6,
   "id": "e9620700-857e-4036-bad2-c1c15e7b4039",
   "metadata": {},
   "outputs": [
    {
     "data": {
      "text/plain": [
       "('PST', 'PDT')"
      ]
     },
     "execution_count": 6,
     "metadata": {},
     "output_type": "execute_result"
    }
   ],
   "source": [
    "## set system time\n",
    "os.environ['TZ'] = 'America/Los_Angeles'\n",
    "time.tzset()\n",
    "time.tzname"
   ]
  },
  {
   "cell_type": "code",
   "execution_count": 7,
   "id": "1216a725-6cbf-48f9-bc2e-cda3dc62510f",
   "metadata": {},
   "outputs": [],
   "source": [
    "def convert_ts(ts):    \n",
    "    pacific_dt = dt.datetime.fromtimestamp(ts)\n",
    "    # print(pacific_dt)\n",
    "    return pacific_dt"
   ]
  },
  {
   "cell_type": "code",
   "execution_count": 8,
   "id": "93961407-fb64-46bc-8044-47b3c7f19b59",
   "metadata": {},
   "outputs": [],
   "source": [
    "lbt_positions.vehicle_timestamp = lbt_positions.vehicle_timestamp.apply(convert_ts)\n",
    "lbt_positions.header_timestamp = lbt_positions.header_timestamp.apply(convert_ts)"
   ]
  },
  {
   "cell_type": "code",
   "execution_count": 9,
   "id": "22d0c883-dcdf-4831-916a-ea1b82da1b0c",
   "metadata": {},
   "outputs": [],
   "source": [
    "# min_date, max_date = ('2021-11-01', '2021-12-01')\n",
    "pch_routes = ('171', '172', '173', '174', '175')\n",
    "\n",
    "# lbt_trips = (tbl.views.gtfs_schedule_fact_daily_trips()\n",
    "#     # >> filter(_.calitp_extracted_at <= min_date, _.calitp_deleted_at > max_date)\n",
    "#     >> filter(_.calitp_itp_id == lbt_itp_id)\n",
    "#     >> filter(_.service_date == max_date)\n",
    "#     >> filter(_.is_in_service == True)\n",
    "#     >> select(_.trip_key, _.service_date)\n",
    "#     >> inner_join(_, tbl.views.gtfs_schedule_dim_trips(), on = 'trip_key')\n",
    "#     >> select(_.calitp_itp_id, _.calitp_url_number,\n",
    "#               _.date == _.service_date,\n",
    "#               _.trip_key, _.trip_id, _.route_id, _.direction_id,\n",
    "#               _.shape_id, _.calitp_extracted_at, _.calitp_deleted_at)\n",
    "#     # >> filter(_.route_id.isin(pch_routes))\n",
    "\n",
    "#     >> collect()\n",
    "#     )"
   ]
  },
  {
   "cell_type": "code",
   "execution_count": 10,
   "id": "5e3550e9-6be6-476e-aaa6-c12fe3f0505f",
   "metadata": {},
   "outputs": [],
   "source": [
    "# lbt_trips.to_parquet(f'{GCS_FILE_PATH}lbt_trips.parquet')"
   ]
  },
  {
   "cell_type": "code",
   "execution_count": 11,
   "id": "9e6b0bed-8669-467e-9cb0-0924165592ae",
   "metadata": {},
   "outputs": [],
   "source": [
    "lbt_trips = pd.read_parquet(f'{GCS_FILE_PATH}lbt_trips.parquet')"
   ]
  },
  {
   "cell_type": "code",
   "execution_count": 12,
   "id": "c61d00c8-6eeb-42ee-a870-0e9207c7fe50",
   "metadata": {},
   "outputs": [],
   "source": [
    "# stop_times = (tbl.gtfs_schedule.stop_times()\n",
    "#      >> filter(_.calitp_itp_id == 170)\n",
    "#      # >> filter(_.trip_id == '9288623')\n",
    "#      >> mutate(stop_sequence = _.stop_sequence.astype(int)) ## in SQL!\n",
    "#      >> arrange(_.stop_sequence)\n",
    "#      >> collect()\n",
    "#     )"
   ]
  },
  {
   "cell_type": "code",
   "execution_count": 13,
   "id": "06e3466b-dd02-4b31-8fe6-045b95c6a2a3",
   "metadata": {},
   "outputs": [],
   "source": [
    "# stop_times.to_parquet(f'{GCS_FILE_PATH}lbt_st.parquet')"
   ]
  },
  {
   "cell_type": "code",
   "execution_count": 14,
   "id": "f57e50be-02f9-45a2-b8b2-d684117077e2",
   "metadata": {},
   "outputs": [],
   "source": [
    "stop_times = pd.read_parquet(f'{GCS_FILE_PATH}lbt_st.parquet')"
   ]
  },
  {
   "cell_type": "code",
   "execution_count": 15,
   "id": "c75d36aa-437d-40e9-afbd-f06ecb2684f3",
   "metadata": {},
   "outputs": [],
   "source": [
    "# stops = (tbl.gtfs_schedule.stops()\n",
    "#      >> filter(_.calitp_itp_id == 170)\n",
    "#      # >> filter(_.trip_id == '9288623')\n",
    "#      # >> mutate(stop_sequence = _.stop_sequence.astype(int)) ## in SQL!\n",
    "#      # >> arrange(_.stop_sequence)\n",
    "#      >> select(_.calitp_itp_id, _.calitp_url_number, _.stop_id,\n",
    "#               _.stop_lat, _.stop_lon, _.stop_name)\n",
    "#      >> collect()\n",
    "#     )\n",
    "\n",
    "# stops = gpd.GeoDataFrame(stops, geometry=gpd.points_from_xy(stops.stop_lon, stops.stop_lat),\n",
    "#                         crs='EPSG:4326').to_crs(shared_utils.geography_utils.CA_NAD83Albers)"
   ]
  },
  {
   "cell_type": "code",
   "execution_count": 16,
   "id": "b9272195-7dc0-47dd-a5aa-11f4650a28ea",
   "metadata": {},
   "outputs": [],
   "source": [
    "# shared_utils.utils.geoparquet_gcs_export(stops, GCS_FILE_PATH, 'lbt_stops')"
   ]
  },
  {
   "cell_type": "code",
   "execution_count": 17,
   "id": "ec461965-2e8e-4924-a02d-ec2778841d01",
   "metadata": {},
   "outputs": [],
   "source": [
    "stops = gpd.read_parquet(f'{GCS_FILE_PATH}lbt_stops.parquet')"
   ]
  },
  {
   "cell_type": "code",
   "execution_count": 18,
   "id": "62fe3fbf-1d71-4010-a478-a76230b3ca8e",
   "metadata": {},
   "outputs": [],
   "source": [
    "trips_positions_joined = (lbt_trips\n",
    "                        >> filter(_.route_id.isin(pch_routes))\n",
    "                        >> inner_join(_, (lbt_positions >> rename(trip_id = 'vehicle_trip_id')),\n",
    "                                      on= ['trip_id', 'calitp_itp_id', 'calitp_url_number'])\n",
    "                       )"
   ]
  },
  {
   "cell_type": "code",
   "execution_count": 19,
   "id": "8c4bf5d8-be49-4379-9bac-a04f4869260c",
   "metadata": {},
   "outputs": [
    {
     "data": {
      "text/plain": [
       "Timestamp('2021-12-01 11:15:58')"
      ]
     },
     "execution_count": 19,
     "metadata": {},
     "output_type": "execute_result"
    }
   ],
   "source": [
    "trips_positions_joined.vehicle_timestamp.max()"
   ]
  },
  {
   "cell_type": "code",
   "execution_count": 20,
   "id": "dabf0521-6f82-48c4-8664-95df875235c1",
   "metadata": {},
   "outputs": [
    {
     "data": {
      "text/plain": [
       "Timestamp('2021-11-30 15:56:12')"
      ]
     },
     "execution_count": 20,
     "metadata": {},
     "output_type": "execute_result"
    }
   ],
   "source": [
    "trips_positions_joined.vehicle_timestamp.min()"
   ]
  },
  {
   "cell_type": "code",
   "execution_count": 21,
   "id": "1194251c-6ec1-4614-b511-679bbea9eab3",
   "metadata": {},
   "outputs": [],
   "source": [
    "trips_positions_joined = gpd.GeoDataFrame(trips_positions_joined,\n",
    "                                geometry=gpd.points_from_xy(trips_positions_joined.vehicle_position_longitude,\n",
    "                                                            trips_positions_joined.vehicle_position_latitude),\n",
    "                                crs=shared_utils.geography_utils.WGS84).to_crs(shared_utils.geography_utils.CA_NAD83Albers)"
   ]
  },
  {
   "cell_type": "code",
   "execution_count": 22,
   "id": "25f7a355-4465-4bed-921b-c554c84ee842",
   "metadata": {},
   "outputs": [],
   "source": [
    "# lbt_routelines = shared_utils.geography_utils.make_routes_shapefile(['170'], ## LBT\n",
    "#                                 shared_utils.geography_utils.CA_NAD83Albers)"
   ]
  },
  {
   "cell_type": "code",
   "execution_count": 23,
   "id": "db170719-a873-4aab-b93b-e6d7ce48a7e1",
   "metadata": {},
   "outputs": [],
   "source": [
    "# shared_utils.utils.geoparquet_gcs_export(lbt_routelines, GCS_FILE_PATH, 'lbt_routelines')"
   ]
  },
  {
   "cell_type": "code",
   "execution_count": 24,
   "id": "6ce3128b-2c77-42ca-bbe6-75c7f38a70f1",
   "metadata": {},
   "outputs": [],
   "source": [
    "lbt_routelines = gpd.read_parquet(f'{GCS_FILE_PATH}lbt_routelines.parquet')"
   ]
  },
  {
   "cell_type": "markdown",
   "id": "ddaed497-83b0-4faf-905d-498d920f0b14",
   "metadata": {},
   "source": [
    "## Vehicle Positions Trip class"
   ]
  },
  {
   "cell_type": "code",
   "execution_count": 25,
   "id": "5c2195cd-2555-416f-9ad1-675a107c4bb6",
   "metadata": {},
   "outputs": [],
   "source": [
    "class VehiclePositionsTrip:\n",
    "    '''Trip data and useful methods for analyzing GTFS-RT vehicle positions data'''\n",
    "    \n",
    "    def __init__(self, vp_gdf, shape_gdf):\n",
    "        \n",
    "        global vp_gdff\n",
    "        vp_gdff = vp_gdf\n",
    "        \n",
    "        assert vp_gdf.crs == shared_utils.geography_utils.CA_NAD83Albers\n",
    "        vp_gdf = vp_gdf >> distinct(_.trip_id, _.vehicle_timestamp, _keep_all=True)\n",
    "        \n",
    "        self.date = vp_gdf.date.iloc[0]\n",
    "        self.trip_id = vp_gdf.trip_id.iloc[0]\n",
    "        self.route_id = vp_gdf.route_id.iloc[0]\n",
    "        self.shape_id = vp_gdf.shape_id.iloc[0]\n",
    "        self.entity_id = vp_gdf.entity_id.iloc[0]\n",
    "        self.vehicle_id = vp_gdf.vehicle_id.iloc[0]\n",
    "        self.calitp_itp_id = vp_gdf.calitp_itp_id.iloc[0]\n",
    "        self.calitp_url_number = vp_gdf.calitp_url_number.iloc[0]\n",
    "        self.vehicle_positions = vp_gdf >> select(_.vehicle_timestamp,\n",
    "                                              _.header_timestamp,\n",
    "                                              _.geometry)\n",
    "        self._attach_shape(shape_gdf)\n",
    "        \n",
    "    def _attach_shape(self, shape_gdf):\n",
    "        assert shape_gdf.crs == shared_utils.geography_utils.CA_NAD83Albers\n",
    "        assert shape_gdf.calitp_itp_id.iloc[0] == self.calitp_itp_id\n",
    "        self.shape = (shape_gdf\n",
    "                        >> filter(_.shape_id == self.shape_id)\n",
    "                        >> select(_.shape_id, _.geometry))\n",
    "        self.vehicle_positions['shape_meters'] = (self.vehicle_positions.geometry\n",
    "                                .apply(lambda x: self.shape.geometry.iloc[0].project(x)))\n",
    "        self._linear_reference()\n",
    "        \n",
    "    def _linear_reference(self):\n",
    "        \n",
    "        self.vehicle_positions = self._shift_calculate(self.vehicle_positions)\n",
    "        self.progressing_positions = self.vehicle_positions >> filter(_.progressed)\n",
    "        ## check if positions have progressed from immediate previous point, but not previous point of forwards progression\n",
    "        if not self.progressing_positions.shape_meters.is_monotonic:\n",
    "            print(f'check location data for trip {self.trip_id}')\n",
    "            self._fix_progression()\n",
    "    \n",
    "    def _fix_progression(self):\n",
    "        \n",
    "        self.progressing_positions = self._shift_calculate(self.progressing_positions)\n",
    "        self.progressing_positions = self.progressing_positions >> filter(_.progressed)\n",
    "        ## check if positions have progressed from immediate previous point, but not previous point of forwards progression\n",
    "        if not self.progressing_positions.shape_meters.is_monotonic:\n",
    "            # print(f'recheck location data for trip {self.trip_id}')\n",
    "            self._fix_progression()\n",
    "    \n",
    "    def _shift_calculate(self, vehicle_positions):\n",
    "        vehicle_positions['last_time'] = vehicle_positions.vehicle_timestamp.shift(1)\n",
    "        vehicle_positions['last_loc'] = vehicle_positions.shape_meters.shift(1)\n",
    "        vehicle_positions['secs_from_last'] = vehicle_positions.vehicle_timestamp - vehicle_positions.last_time\n",
    "        vehicle_positions.secs_from_last = (vehicle_positions.secs_from_last\n",
    "                                        .apply(lambda x: x.seconds))\n",
    "        vehicle_positions['meters_from_last'] = (vehicle_positions.shape_meters\n",
    "                                                      - vehicle_positions.last_loc)\n",
    "        vehicle_positions['progressed'] = vehicle_positions['meters_from_last'] > 0 ## has the bus moved ahead?\n",
    "        vehicle_positions['speed_from_last'] = (vehicle_positions.meters_from_last\n",
    "                                                     / vehicle_positions.secs_from_last) ## meters/second\n",
    "        return vehicle_positions\n",
    "        \n",
    "        \n",
    "#     def position_at_time(self, dt): ## implement if/when needed\n",
    "        \n",
    "    def time_at_position(self, desired_position):\n",
    "        \n",
    "        global bounding_points\n",
    "        \n",
    "        try:\n",
    "            next_point = (self.progressing_positions\n",
    "                  >> filter(_.shape_meters > desired_position)\n",
    "                  >> filter(_.shape_meters == _.shape_meters.min())\n",
    "                 )\n",
    "            prev_point = (self.progressing_positions\n",
    "                  >> filter(_.shape_meters < desired_position)\n",
    "                  >> filter(_.shape_meters == _.shape_meters.max())\n",
    "                 )\n",
    "            bounding_points = (prev_point.append(next_point).copy().reset_index(drop=True)\n",
    "                    >> select(-_.secs_from_last, -_.meters_from_last, -_.speed_from_last)) ## drop in case bounding points are nonconsecutive\n",
    "            secs_from_last = (bounding_points.loc[1].vehicle_timestamp - bounding_points.loc[0].vehicle_timestamp).seconds\n",
    "            meters_from_last = bounding_points.loc[1].shape_meters - bounding_points.loc[0].shape_meters\n",
    "            speed_from_last = meters_from_last / secs_from_last\n",
    "\n",
    "            meters_position_to_next = bounding_points.loc[1].shape_meters - desired_position\n",
    "            est_seconds_to_next = meters_position_to_next / speed_from_last\n",
    "            est_td_to_next = dt.timedelta(seconds=est_seconds_to_next)\n",
    "            est_dt = bounding_points.iloc[-1].vehicle_timestamp - est_td_to_next\n",
    "\n",
    "            return est_dt\n",
    "        except KeyError:\n",
    "            print(f'insufficient bounding points for location {desired_position}', end=': ')\n",
    "            print(f'start/end of route?')\n",
    "            return None\n",
    "        \n",
    "    def detailed_speed_map(self):\n",
    "        \n",
    "        gdf = self.vehicle_positions.copy()\n",
    "        gdf = gdf >> select(_.geometry,\n",
    "                            _.shape_meters, _.last_loc, _.speed_from_last)\n",
    "        gdf['speed_mph'] = gdf.speed_from_last * MPH_PER_MPS\n",
    "        \n",
    "        gdf.geometry = gdf.apply(lambda x: shapely.ops.substring(self.shape.geometry.iloc[0],\n",
    "                                                                x.last_loc,\n",
    "                                                                x.shape_meters),\n",
    "                                axis = 1)\n",
    "        gdf.geometry = gdf.buffer(25)\n",
    "        \n",
    "        gdf = gdf.to_crs(shared_utils.geography_utils.WGS84)\n",
    "        \n",
    "        gdf = gdf >> filter(_.speed_mph > 0)\n",
    "        # display(gdf)\n",
    "\n",
    "        choropleth_dict = {\n",
    "            \"layer_name\": \"Speed\",\n",
    "            \"MIN_VALUE\": gdf.speed_mph.min(),\n",
    "            \"MAX_VALUE\": gdf.speed_mph.max(),\n",
    "            \"plot_col_name\": \"speed_mph\",\n",
    "            \"fig_width\": '100%',\n",
    "            \"fig_height\": '100%',\n",
    "            \"fig_min_width_px\": '400px',\n",
    "            \"fig_min_height_px\": '600px',\n",
    "            \"name\": \"speed_mph\",\n",
    "        }\n",
    "\n",
    "        colorscale = branca.colormap.step.RdYlGn_08\n",
    "\n",
    "        f = shared_utils.map_utils.make_ipyleaflet_choropleth_map(\n",
    "            gdf,\n",
    "            geometry_col = \"shape_meters\", \n",
    "            plot_col = \"speed_mph\",\n",
    "            choropleth_dict = choropleth_dict,\n",
    "            colorscale = colorscale,\n",
    "            zoom = 13,\n",
    "            centroid = [33.790, -118.154]\n",
    "        )\n",
    "\n",
    "        return f"
   ]
  },
  {
   "cell_type": "markdown",
   "id": "74900b4e-d7d7-426c-9c1e-1ff2919685fc",
   "metadata": {},
   "source": [
    "#### Examples"
   ]
  },
  {
   "cell_type": "code",
   "execution_count": 26,
   "id": "c17c2768-2501-4eea-9e5c-bdc9afcf7e73",
   "metadata": {},
   "outputs": [],
   "source": [
    "example_trip = trips_positions_joined >> filter(_.trip_id == '9288623')"
   ]
  },
  {
   "cell_type": "code",
   "execution_count": 27,
   "id": "939424e9-8ecf-4ff8-85b1-fe9774891b4f",
   "metadata": {},
   "outputs": [
    {
     "data": {
      "text/html": [
       "<div>\n",
       "<style scoped>\n",
       "    .dataframe tbody tr th:only-of-type {\n",
       "        vertical-align: middle;\n",
       "    }\n",
       "\n",
       "    .dataframe tbody tr th {\n",
       "        vertical-align: top;\n",
       "    }\n",
       "\n",
       "    .dataframe thead th {\n",
       "        text-align: right;\n",
       "    }\n",
       "</style>\n",
       "<table border=\"1\" class=\"dataframe\">\n",
       "  <thead>\n",
       "    <tr style=\"text-align: right;\">\n",
       "      <th></th>\n",
       "      <th>calitp_itp_id</th>\n",
       "      <th>calitp_url_number</th>\n",
       "      <th>date</th>\n",
       "      <th>trip_key</th>\n",
       "      <th>trip_id</th>\n",
       "      <th>route_id</th>\n",
       "      <th>direction_id</th>\n",
       "      <th>shape_id</th>\n",
       "      <th>calitp_extracted_at</th>\n",
       "      <th>calitp_deleted_at</th>\n",
       "      <th>entity_id</th>\n",
       "      <th>vehicle_id</th>\n",
       "      <th>vehicle_timestamp</th>\n",
       "      <th>vehicle_position_latitude</th>\n",
       "      <th>vehicle_position_longitude</th>\n",
       "      <th>header_timestamp</th>\n",
       "      <th>geometry</th>\n",
       "    </tr>\n",
       "  </thead>\n",
       "  <tbody>\n",
       "    <tr>\n",
       "      <th>36200</th>\n",
       "      <td>170</td>\n",
       "      <td>0</td>\n",
       "      <td>2021-12-01</td>\n",
       "      <td>1553149201202261125</td>\n",
       "      <td>9288623</td>\n",
       "      <td>175</td>\n",
       "      <td>0</td>\n",
       "      <td>1750012</td>\n",
       "      <td>2021-09-16</td>\n",
       "      <td>2099-01-01</td>\n",
       "      <td>2901</td>\n",
       "      <td>None</td>\n",
       "      <td>2021-11-30 17:02:12</td>\n",
       "      <td>33.78207</td>\n",
       "      <td>-118.11569</td>\n",
       "      <td>2021-11-30 17:02:37</td>\n",
       "      <td>POINT (174550.467 -468602.675)</td>\n",
       "    </tr>\n",
       "    <tr>\n",
       "      <th>36201</th>\n",
       "      <td>170</td>\n",
       "      <td>0</td>\n",
       "      <td>2021-12-01</td>\n",
       "      <td>1553149201202261125</td>\n",
       "      <td>9288623</td>\n",
       "      <td>175</td>\n",
       "      <td>0</td>\n",
       "      <td>1750012</td>\n",
       "      <td>2021-09-16</td>\n",
       "      <td>2099-01-01</td>\n",
       "      <td>2901</td>\n",
       "      <td>None</td>\n",
       "      <td>2021-11-30 17:02:12</td>\n",
       "      <td>33.78207</td>\n",
       "      <td>-118.11569</td>\n",
       "      <td>2021-11-30 17:02:37</td>\n",
       "      <td>POINT (174550.467 -468602.675)</td>\n",
       "    </tr>\n",
       "    <tr>\n",
       "      <th>36202</th>\n",
       "      <td>170</td>\n",
       "      <td>0</td>\n",
       "      <td>2021-12-01</td>\n",
       "      <td>1553149201202261125</td>\n",
       "      <td>9288623</td>\n",
       "      <td>175</td>\n",
       "      <td>0</td>\n",
       "      <td>1750012</td>\n",
       "      <td>2021-09-16</td>\n",
       "      <td>2099-01-01</td>\n",
       "      <td>2901</td>\n",
       "      <td>None</td>\n",
       "      <td>2021-11-30 17:02:12</td>\n",
       "      <td>33.78207</td>\n",
       "      <td>-118.11569</td>\n",
       "      <td>2021-11-30 17:03:07</td>\n",
       "      <td>POINT (174550.467 -468602.675)</td>\n",
       "    </tr>\n",
       "  </tbody>\n",
       "</table>\n",
       "</div>"
      ],
      "text/plain": [
       "       calitp_itp_id  calitp_url_number        date             trip_key  \\\n",
       "36200            170                  0  2021-12-01  1553149201202261125   \n",
       "36201            170                  0  2021-12-01  1553149201202261125   \n",
       "36202            170                  0  2021-12-01  1553149201202261125   \n",
       "\n",
       "       trip_id route_id direction_id shape_id calitp_extracted_at  \\\n",
       "36200  9288623      175            0  1750012          2021-09-16   \n",
       "36201  9288623      175            0  1750012          2021-09-16   \n",
       "36202  9288623      175            0  1750012          2021-09-16   \n",
       "\n",
       "      calitp_deleted_at entity_id vehicle_id   vehicle_timestamp  \\\n",
       "36200        2099-01-01      2901       None 2021-11-30 17:02:12   \n",
       "36201        2099-01-01      2901       None 2021-11-30 17:02:12   \n",
       "36202        2099-01-01      2901       None 2021-11-30 17:02:12   \n",
       "\n",
       "       vehicle_position_latitude  vehicle_position_longitude  \\\n",
       "36200                   33.78207                  -118.11569   \n",
       "36201                   33.78207                  -118.11569   \n",
       "36202                   33.78207                  -118.11569   \n",
       "\n",
       "         header_timestamp                        geometry  \n",
       "36200 2021-11-30 17:02:37  POINT (174550.467 -468602.675)  \n",
       "36201 2021-11-30 17:02:37  POINT (174550.467 -468602.675)  \n",
       "36202 2021-11-30 17:03:07  POINT (174550.467 -468602.675)  "
      ]
     },
     "execution_count": 27,
     "metadata": {},
     "output_type": "execute_result"
    }
   ],
   "source": [
    "example_trip.head(3)"
   ]
  },
  {
   "cell_type": "code",
   "execution_count": 28,
   "id": "b0ffcaec-d642-4c54-a204-5f4ce21c0856",
   "metadata": {},
   "outputs": [],
   "source": [
    "example_vp_trip = VehiclePositionsTrip(example_trip, lbt_routelines)"
   ]
  },
  {
   "cell_type": "code",
   "execution_count": 29,
   "id": "215d5b6f-c521-444c-9a41-b34e83fabcaa",
   "metadata": {},
   "outputs": [
    {
     "data": {
      "text/html": [
       "<div>\n",
       "<style scoped>\n",
       "    .dataframe tbody tr th:only-of-type {\n",
       "        vertical-align: middle;\n",
       "    }\n",
       "\n",
       "    .dataframe tbody tr th {\n",
       "        vertical-align: top;\n",
       "    }\n",
       "\n",
       "    .dataframe thead th {\n",
       "        text-align: right;\n",
       "    }\n",
       "</style>\n",
       "<table border=\"1\" class=\"dataframe\">\n",
       "  <thead>\n",
       "    <tr style=\"text-align: right;\">\n",
       "      <th></th>\n",
       "      <th>vehicle_timestamp</th>\n",
       "      <th>header_timestamp</th>\n",
       "      <th>geometry</th>\n",
       "      <th>shape_meters</th>\n",
       "      <th>last_time</th>\n",
       "      <th>last_loc</th>\n",
       "      <th>secs_from_last</th>\n",
       "      <th>meters_from_last</th>\n",
       "      <th>progressed</th>\n",
       "      <th>speed_from_last</th>\n",
       "    </tr>\n",
       "  </thead>\n",
       "  <tbody>\n",
       "    <tr>\n",
       "      <th>0</th>\n",
       "      <td>2021-11-30 17:02:12</td>\n",
       "      <td>2021-11-30 17:02:37</td>\n",
       "      <td>POINT (174550.467 -468602.675)</td>\n",
       "      <td>74.936069</td>\n",
       "      <td>NaT</td>\n",
       "      <td>NaN</td>\n",
       "      <td>NaN</td>\n",
       "      <td>NaN</td>\n",
       "      <td>False</td>\n",
       "      <td>NaN</td>\n",
       "    </tr>\n",
       "    <tr>\n",
       "      <th>1</th>\n",
       "      <td>2021-11-30 17:03:13</td>\n",
       "      <td>2021-11-30 17:03:37</td>\n",
       "      <td>POINT (174199.373 -468606.652)</td>\n",
       "      <td>426.501155</td>\n",
       "      <td>2021-11-30 17:02:12</td>\n",
       "      <td>74.936069</td>\n",
       "      <td>61.0</td>\n",
       "      <td>351.565087</td>\n",
       "      <td>True</td>\n",
       "      <td>5.763362</td>\n",
       "    </tr>\n",
       "    <tr>\n",
       "      <th>2</th>\n",
       "      <td>2021-11-30 17:04:13</td>\n",
       "      <td>2021-11-30 17:04:37</td>\n",
       "      <td>POINT (173950.148 -468607.933)</td>\n",
       "      <td>676.459161</td>\n",
       "      <td>2021-11-30 17:03:13</td>\n",
       "      <td>426.501155</td>\n",
       "      <td>60.0</td>\n",
       "      <td>249.958006</td>\n",
       "      <td>True</td>\n",
       "      <td>4.165967</td>\n",
       "    </tr>\n",
       "  </tbody>\n",
       "</table>\n",
       "</div>"
      ],
      "text/plain": [
       "    vehicle_timestamp    header_timestamp                        geometry  \\\n",
       "0 2021-11-30 17:02:12 2021-11-30 17:02:37  POINT (174550.467 -468602.675)   \n",
       "1 2021-11-30 17:03:13 2021-11-30 17:03:37  POINT (174199.373 -468606.652)   \n",
       "2 2021-11-30 17:04:13 2021-11-30 17:04:37  POINT (173950.148 -468607.933)   \n",
       "\n",
       "   shape_meters           last_time    last_loc  secs_from_last  \\\n",
       "0     74.936069                 NaT         NaN             NaN   \n",
       "1    426.501155 2021-11-30 17:02:12   74.936069            61.0   \n",
       "2    676.459161 2021-11-30 17:03:13  426.501155            60.0   \n",
       "\n",
       "   meters_from_last  progressed  speed_from_last  \n",
       "0               NaN       False              NaN  \n",
       "1        351.565087        True         5.763362  \n",
       "2        249.958006        True         4.165967  "
      ]
     },
     "execution_count": 29,
     "metadata": {},
     "output_type": "execute_result"
    }
   ],
   "source": [
    "example_vp_trip.vehicle_positions.head(3)"
   ]
  },
  {
   "cell_type": "code",
   "execution_count": 30,
   "id": "8c9a8cd0-d689-4f1d-9833-e19e2d06c69a",
   "metadata": {},
   "outputs": [
    {
     "data": {
      "text/plain": [
       "Timestamp('2021-11-30 17:03:42.644702')"
      ]
     },
     "execution_count": 30,
     "metadata": {},
     "output_type": "execute_result"
    }
   ],
   "source": [
    "example_vp_trip.time_at_position(550) ## interpolate time at 550 meters from start of route (shape_meters in df^)"
   ]
  },
  {
   "cell_type": "code",
   "execution_count": 31,
   "id": "6f46696a-a75c-4b9d-b2e5-94c5431c553a",
   "metadata": {},
   "outputs": [
    {
     "name": "stderr",
     "output_type": "stream",
     "text": [
      "/opt/conda/lib/python3.9/site-packages/pandas/core/dtypes/cast.py:118: ShapelyDeprecationWarning: The array interface is deprecated and will no longer work in Shapely 2.0. Convert the '.coords' to a numpy array instead.\n",
      "  arr = construct_1d_object_array_from_listlike(values)\n"
     ]
    },
    {
     "data": {
      "application/vnd.jupyter.widget-view+json": {
       "model_id": "9034aa4b16cf4e059873392f9b6c7948",
       "version_major": 2,
       "version_minor": 0
      },
      "text/plain": [
       "Map(center=[33.79, -118.154], controls=(ZoomControl(options=['position', 'zoom_in_text', 'zoom_in_title', 'zoo…"
      ]
     },
     "metadata": {},
     "output_type": "display_data"
    }
   ],
   "source": [
    "example_vp_trip.detailed_speed_map()"
   ]
  },
  {
   "cell_type": "code",
   "execution_count": null,
   "id": "ee8aaf37-9076-466e-9abc-98e980d83f9d",
   "metadata": {},
   "outputs": [],
   "source": [
    "example_vp_trip.detailed_speed_map().save('my_map.html', title=)"
   ]
  },
  {
   "cell_type": "markdown",
   "id": "63ca6dbc-5c3a-4bc4-b9f0-ebbf19e9257d",
   "metadata": {},
   "source": [
    "## General RT Analysis class"
   ]
  },
  {
   "cell_type": "code",
   "execution_count": 32,
   "id": "ee11ffac-f8d7-450b-a1a2-1168d4e90552",
   "metadata": {},
   "outputs": [],
   "source": [
    "class RtAnalysis:\n",
    "    '''Current top-level class for GTFS-RT analysis'''\n",
    "    \n",
    "    def __init__(self, trips_positions_joined, stop_times, stops, shape_gdf, trip_ids): ## trips_position_joined is temporary\n",
    "        \n",
    "        for df in (trips_positions_joined, stop_times, stops, shape_gdf):\n",
    "            assert df.calitp_itp_id.nunique() == 1\n",
    "            assert df.calitp_url_number.nunique() == 1\n",
    "        \n",
    "        self.trips_positions = trips_positions_joined >> filter(_.trip_id.isin(trip_ids))\n",
    "        self.stop_times = stop_times >> filter(_.trip_id.isin(trip_ids))\n",
    "        self.stops = stops\n",
    "        self.st_geo = self.stops >> inner_join(_, self.stop_times, on = ['calitp_itp_id', 'calitp_url_number','stop_id'])\n",
    "        self.shape_gdf = shape_gdf\n",
    "        self.trip_ids = trip_ids\n",
    "        self.generate_vp_trips()\n",
    "        \n",
    "    def generate_vp_trips(self):\n",
    "        self.trip_vehicle_positions = {}\n",
    "        for trip_id in self.trip_ids:\n",
    "            self.trip_vehicle_positions[trip_id] = VehiclePositionsTrip(\n",
    "                                            self.trips_positions >> filter(_.trip_id == trip_id),\n",
    "                                            self.shape_gdf)\n",
    "        \n",
    "    def generate_delay_view(self, trip_ids = None):\n",
    "        \n",
    "        if  type(trip_ids) == type(None): ## trip_ids could potentially be a list or pd.Series...\n",
    "            trip_ids = self.trip_ids\n",
    "            \n",
    "        self.delay_view = gpd.GeoDataFrame()\n",
    "        for trip_id in trip_ids:\n",
    "                \n",
    "            trip_rt_data = self.trip_vehicle_positions[trip_id]\n",
    "            trip_st = (self.stop_times >> filter(_.trip_id == trip_id)).copy()\n",
    "            trip_st_geo = (self.st_geo >> filter(_.trip_id == trip_id)).copy()\n",
    "            trip_st_geo['shape_meters'] = (trip_st_geo.geometry\n",
    "                                            .apply(lambda x: trip_rt_data.shape.project(x)))\n",
    "            trip_st_geo['actual_time'] = (trip_st_geo.shape_meters\n",
    "                                          .apply(lambda x: trip_rt_data.time_at_position(x)))\n",
    "            trip_st_geo = trip_st_geo.dropna(subset=['actual_time'])\n",
    "            trip_st_geo['arrival_time'] = trip_st_geo.apply(lambda x:\n",
    "                                        dt.datetime.combine(x.actual_time.date(),\n",
    "                                                            dt.datetime.strptime(x.arrival_time, '%H:%M:%S').time()),\n",
    "                                                            axis = 1) ## format scheduled arrival times\n",
    "            # _debug = trip_st_geo\n",
    "            trip_st_geo['delay'] = trip_st_geo.actual_time - trip_st_geo.arrival_time\n",
    "            trip_st_geo['date'] = trip_rt_data.date\n",
    "            trip_view = trip_st_geo.dropna(subset=['delay']) >> arrange(_.arrival_time) >> select(\n",
    "                                                            _.arrival_time, _.actual_time, _.delay,\n",
    "                                                         _.stop_id, _.trip_id, _.stop_sequence,\n",
    "                                                        _.shape_meters, _.date, _.geometry)\n",
    "            self.delay_view = self.delay_view.append(trip_view)\n",
    "        self.delay_view = (self.delay_view >> arrange(_.stop_sequence, _.trip_id)).set_crs(self.st_geo.crs)\n",
    "        return self.delay_view\n",
    "    \n",
    "    def generate_delay_summary(self, trip_ids = None):       \n",
    "        \n",
    "        if  type(trip_ids) == type(None): ## trip_ids could potentially be a list or pd.Series...\n",
    "            trip_ids = self.trip_ids\n",
    "        \n",
    "        if hasattr(self, 'delay_view') and set(list(self.delay_view.trip_id.unique())) == set(list(trip_ids)):\n",
    "        ## if delay view exists and matches request, use it\n",
    "            stop_geos = self.delay_view >> select(_.stop_id, _.geometry) >> distinct(_.stop_id, _keep_all=True)\n",
    "            self.delay_summary = (self.delay_view\n",
    "                     >> group_by(_.stop_id, _.stop_sequence,)\n",
    "                     >> summarize(avg_delay = _.delay.mean(), max_delay = _.delay.max())\n",
    "                     # >> inner_join(_, stop_geos, on = 'stop_id')\n",
    "                     >> arrange(_.stop_sequence)\n",
    "                    )\n",
    "            self.delay_summary = stop_geos >> inner_join(_, self.delay_summary, on = 'stop_id')\n",
    "        else:\n",
    "            self.generate_delay_view(trip_ids) ## generate new delay view if necessary\n",
    "            self.generate_delay_summary(trip_ids)\n",
    "        return self.delay_summary\n",
    "    \n",
    "    def map_stop_delays(self, how = 'max',  trip_ids = None):\n",
    "                \n",
    "        if  type(trip_ids) == type(None): ## trip_ids could potentially be a list or pd.Series...\n",
    "            trip_ids = self.trip_ids\n",
    "        assert how in ['max', 'average']\n",
    "        self.generate_delay_summary(trip_ids)\n",
    "        \n",
    "        gdf = self.delay_summary.copy()\n",
    "        if how == 'max':\n",
    "            gdf['delay_minutes'] = gdf.max_delay.apply(lambda x: x.seconds / 60)\n",
    "        elif how == 'average':\n",
    "            gdf['delay_minutes'] = gdf.avg_delay.apply(lambda x: x.seconds / 60)\n",
    "        gdf = gdf >> select(_.stop_id, _.geometry, _.delay_minutes)\n",
    "        gdf.geometry = gdf.buffer(50)\n",
    "        \n",
    "        gdf = gdf.to_crs(shared_utils.geography_utils.WGS84)\n",
    "\n",
    "        choropleth_dict = {\n",
    "            \"layer_name\": \"Delay\",\n",
    "            \"MIN_VALUE\": gdf.delay_minutes.min(),\n",
    "            \"MAX_VALUE\": gdf.delay_minutes.max(),\n",
    "            \"plot_col_name\": \"delay_minutes\",\n",
    "            \"fig_width\": '100%',\n",
    "            \"fig_height\": '100%',\n",
    "            \"fig_min_width_px\": '400px',\n",
    "            \"fig_min_height_px\": '600px',\n",
    "            \"name\": \"delay_minutes\",\n",
    "        }\n",
    "\n",
    "        colorscale = branca.colormap.linear.Reds_06\n",
    "\n",
    "        f = shared_utils.map_utils.make_ipyleaflet_choropleth_map(\n",
    "            gdf,\n",
    "            geometry_col = \"stop_id\", \n",
    "            plot_col = \"delay_minutes\",\n",
    "            choropleth_dict = choropleth_dict,\n",
    "            colorscale = colorscale,\n",
    "            zoom = 13,\n",
    "            centroid = [33.790, -118.154]\n",
    "        )\n",
    "\n",
    "        return f\n",
    "\n",
    "        \n",
    "    def map_segment_speeds(self, how = 'high_delay', segments = 'stops', trip_ids = None): ##TODO split out segment speed view?\n",
    "\n",
    "        if  type(trip_ids) == type(None): ## trip_ids could potentially be a list or pd.Series...\n",
    "            trip_ids = self.trip_ids\n",
    "        \n",
    "        assert how in ['high_delay', 'average']\n",
    "        assert segments in ['stops', 'detailed']\n",
    "        \n",
    "        if hasattr(self, 'delay_view') and set(list(self.delay_view.trip_id.unique())) == set(list(trip_ids)):\n",
    "            \n",
    "            stop_speeds = (self.delay_view\n",
    "                         >> group_by(_.trip_id)\n",
    "                         >> arrange(_.stop_sequence)\n",
    "                         >> mutate(seconds_from_last = (_.actual_time - _.actual_time.shift(1)).apply(lambda x: x.seconds))\n",
    "                         >> mutate(last_loc = _.shape_meters.shift(1))\n",
    "                         >> mutate(meters_from_last = (_.shape_meters - _.last_loc))\n",
    "                         >> mutate(speed_from_last = _.meters_from_last / _.seconds_from_last) \n",
    "                         >> ungroup()\n",
    "                        )\n",
    "            stop_speeds.geometry = stop_speeds.apply(\n",
    "                lambda x: shapely.ops.substring(\n",
    "                            test_analysis.trip_vehicle_positions[x.trip_id].shape.geometry.iloc[0],\n",
    "                            x.last_loc,\n",
    "                            x.shape_meters),\n",
    "                                            axis = 1)\n",
    "            stop_speeds = stop_speeds.dropna(subset=['last_loc'])\n",
    "            \n",
    "            stop_speeds = (stop_speeds\n",
    "                 >> mutate(speed_mph = _.speed_from_last * MPH_PER_MPS)\n",
    "                 >> group_by(_.stop_sequence)\n",
    "                 >> mutate(speed_mph = _.speed_mph.mean()) ## average speed, percentile changes this...\n",
    "                 >> distinct(_.stop_sequence, _keep_all=True)\n",
    "                 >> ungroup()\n",
    "                 >> select(-_.arrival_time, -_.actual_time, -_.delay, -_.trip_id)\n",
    "                )\n",
    "            \n",
    "            self.segment_speed_view = stop_speeds\n",
    "            return self.segment_speed_view\n",
    "            \n",
    "            \n",
    "        else:\n",
    "            self.generate_delay_view(trip_ids) ## generate new delay view if necessary\n",
    "            self.map_segment_speeds(how, segments, trip_ids = trip_ids)\n",
    "\n",
    "        \n",
    "        "
   ]
  },
  {
   "cell_type": "code",
   "execution_count": 33,
   "id": "e0db9df7-6d38-4461-94a2-56824db0b50e",
   "metadata": {},
   "outputs": [
    {
     "data": {
      "text/html": [
       "<div>\n",
       "<style scoped>\n",
       "    .dataframe tbody tr th:only-of-type {\n",
       "        vertical-align: middle;\n",
       "    }\n",
       "\n",
       "    .dataframe tbody tr th {\n",
       "        vertical-align: top;\n",
       "    }\n",
       "\n",
       "    .dataframe thead th {\n",
       "        text-align: right;\n",
       "    }\n",
       "</style>\n",
       "<table border=\"1\" class=\"dataframe\">\n",
       "  <thead>\n",
       "    <tr style=\"text-align: right;\">\n",
       "      <th></th>\n",
       "      <th>trip_id</th>\n",
       "      <th>max_time</th>\n",
       "    </tr>\n",
       "  </thead>\n",
       "  <tbody>\n",
       "    <tr>\n",
       "      <th>8</th>\n",
       "      <td>9288619</td>\n",
       "      <td>2021-11-30 16:37:23</td>\n",
       "    </tr>\n",
       "    <tr>\n",
       "      <th>9</th>\n",
       "      <td>9288621</td>\n",
       "      <td>2021-11-30 17:17:58</td>\n",
       "    </tr>\n",
       "    <tr>\n",
       "      <th>10</th>\n",
       "      <td>9288623</td>\n",
       "      <td>2021-11-30 17:56:04</td>\n",
       "    </tr>\n",
       "    <tr>\n",
       "      <th>11</th>\n",
       "      <td>9288625</td>\n",
       "      <td>2021-11-30 18:35:49</td>\n",
       "    </tr>\n",
       "    <tr>\n",
       "      <th>12</th>\n",
       "      <td>9288627</td>\n",
       "      <td>2021-11-30 19:24:12</td>\n",
       "    </tr>\n",
       "    <tr>\n",
       "      <th>13</th>\n",
       "      <td>9288629</td>\n",
       "      <td>2021-11-30 19:59:08</td>\n",
       "    </tr>\n",
       "  </tbody>\n",
       "</table>\n",
       "</div>"
      ],
      "text/plain": [
       "    trip_id            max_time\n",
       "8   9288619 2021-11-30 16:37:23\n",
       "9   9288621 2021-11-30 17:17:58\n",
       "10  9288623 2021-11-30 17:56:04\n",
       "11  9288625 2021-11-30 18:35:49\n",
       "12  9288627 2021-11-30 19:24:12\n",
       "13  9288629 2021-11-30 19:59:08"
      ]
     },
     "execution_count": 33,
     "metadata": {},
     "output_type": "execute_result"
    }
   ],
   "source": [
    "example_trips = (trips_positions_joined\n",
    " >> filter(_.route_id == '175', _.direction_id == '0') ## towards Villages at Cabrillo\n",
    " >> group_by(_.trip_id)\n",
    " >> summarize(max_time = _.vehicle_timestamp.max())\n",
    " >> arrange(_.max_time)\n",
    " >> head(6) ## afternoon/evening\n",
    ")\n",
    "example_trips"
   ]
  },
  {
   "cell_type": "code",
   "execution_count": 34,
   "id": "1f5885d0-fb37-41e0-9c68-b0ce5d0e0e32",
   "metadata": {
    "tags": []
   },
   "outputs": [],
   "source": [
    "%%capture\n",
    "## suppress warnings from location data inaccuracies\n",
    "## generate test analysis with a small subset of LBT trips on a particular route, time, direction\n",
    "test_analysis = RtAnalysis(trips_positions_joined, stop_times, stops, lbt_routelines, example_trips.trip_id)"
   ]
  },
  {
   "cell_type": "code",
   "execution_count": 35,
   "id": "b6e0aae8-4222-4512-967b-e4d37c684bfc",
   "metadata": {
    "tags": []
   },
   "outputs": [],
   "source": [
    "%%capture\n",
    "## suppress warnings from start/end of routes\n",
    "all_delays = test_analysis.generate_delay_view()"
   ]
  },
  {
   "cell_type": "code",
   "execution_count": 36,
   "id": "12b5c355-bf96-4bd3-8930-0459f5e47b70",
   "metadata": {
    "tags": []
   },
   "outputs": [],
   "source": [
    "all_summary = test_analysis.generate_delay_summary()"
   ]
  },
  {
   "cell_type": "code",
   "execution_count": 37,
   "id": "6c7e394c-b4f0-454a-ac23-e90b6d502b3e",
   "metadata": {},
   "outputs": [
    {
     "data": {
      "text/html": [
       "<div>\n",
       "<style scoped>\n",
       "    .dataframe tbody tr th:only-of-type {\n",
       "        vertical-align: middle;\n",
       "    }\n",
       "\n",
       "    .dataframe tbody tr th {\n",
       "        vertical-align: top;\n",
       "    }\n",
       "\n",
       "    .dataframe thead th {\n",
       "        text-align: right;\n",
       "    }\n",
       "</style>\n",
       "<table border=\"1\" class=\"dataframe\">\n",
       "  <thead>\n",
       "    <tr style=\"text-align: right;\">\n",
       "      <th></th>\n",
       "      <th>stop_id</th>\n",
       "      <th>geometry</th>\n",
       "      <th>stop_sequence</th>\n",
       "      <th>avg_delay</th>\n",
       "      <th>max_delay</th>\n",
       "    </tr>\n",
       "  </thead>\n",
       "  <tbody>\n",
       "    <tr>\n",
       "      <th>0</th>\n",
       "      <td>1027</td>\n",
       "      <td>POINT (174124.462 -468604.478)</td>\n",
       "      <td>2</td>\n",
       "      <td>0 days 00:04:39.035899</td>\n",
       "      <td>0 days 00:05:20.892511</td>\n",
       "    </tr>\n",
       "    <tr>\n",
       "      <th>1</th>\n",
       "      <td>0540</td>\n",
       "      <td>POINT (173921.407 -468897.107)</td>\n",
       "      <td>3</td>\n",
       "      <td>0 days 00:04:00.527345</td>\n",
       "      <td>0 days 00:04:58.130531</td>\n",
       "    </tr>\n",
       "    <tr>\n",
       "      <th>2</th>\n",
       "      <td>0542</td>\n",
       "      <td>POINT (173328.363 -468647.513)</td>\n",
       "      <td>4</td>\n",
       "      <td>0 days 00:01:40.985010250</td>\n",
       "      <td>0 days 00:03:24.379293</td>\n",
       "    </tr>\n",
       "  </tbody>\n",
       "</table>\n",
       "</div>"
      ],
      "text/plain": [
       "  stop_id                        geometry  stop_sequence  \\\n",
       "0    1027  POINT (174124.462 -468604.478)              2   \n",
       "1    0540  POINT (173921.407 -468897.107)              3   \n",
       "2    0542  POINT (173328.363 -468647.513)              4   \n",
       "\n",
       "                  avg_delay              max_delay  \n",
       "0    0 days 00:04:39.035899 0 days 00:05:20.892511  \n",
       "1    0 days 00:04:00.527345 0 days 00:04:58.130531  \n",
       "2 0 days 00:01:40.985010250 0 days 00:03:24.379293  "
      ]
     },
     "execution_count": 37,
     "metadata": {},
     "output_type": "execute_result"
    }
   ],
   "source": [
    "all_summary.head(3)"
   ]
  },
  {
   "cell_type": "code",
   "execution_count": 40,
   "id": "182e64ef-82de-41f5-8a4f-8bfb6c1637f0",
   "metadata": {},
   "outputs": [
    {
     "name": "stdout",
     "output_type": "stream",
     "text": [
      "insufficient bounding points for location 11480.641185357437: start/end of route?\n",
      "insufficient bounding points for location 991.1092912035456: start/end of route?\n",
      "insufficient bounding points for location 0.0: start/end of route?\n",
      "insufficient bounding points for location 1666.4024361313238: start/end of route?\n",
      "insufficient bounding points for location 501.0407611454837: start/end of route?\n",
      "insufficient bounding points for location 991.1092912035456: start/end of route?\n",
      "insufficient bounding points for location 0.0: start/end of route?\n",
      "insufficient bounding points for location 1666.4024361313238: start/end of route?\n",
      "insufficient bounding points for location 501.0407611454837: start/end of route?\n",
      "insufficient bounding points for location 11480.641185357437: start/end of route?\n",
      "insufficient bounding points for location 0.0: start/end of route?\n",
      "insufficient bounding points for location 11480.641185357437: start/end of route?\n",
      "insufficient bounding points for location 0.0: start/end of route?\n",
      "insufficient bounding points for location 991.1092912035456: start/end of route?\n",
      "insufficient bounding points for location 0.0: start/end of route?\n",
      "insufficient bounding points for location 501.0407611454837: start/end of route?\n",
      "insufficient bounding points for location 11480.641185357437: start/end of route?\n",
      "insufficient bounding points for location 0.0: start/end of route?\n",
      "insufficient bounding points for location 501.0407611454837: start/end of route?\n"
     ]
    },
    {
     "data": {
      "application/vnd.jupyter.widget-view+json": {
       "model_id": "bf7e1e63de1545feb602e8e904e7ea4f",
       "version_major": 2,
       "version_minor": 0
      },
      "text/plain": [
       "Map(center=[33.79, -118.154], controls=(ZoomControl(options=['position', 'zoom_in_text', 'zoom_in_title', 'zoo…"
      ]
     },
     "metadata": {},
     "output_type": "display_data"
    }
   ],
   "source": [
    "test_analysis.map_stop_delays(how = 'average') ## to refine, add hover, legend, etc..."
   ]
  },
  {
   "cell_type": "markdown",
   "id": "8019a504-d4f0-4047-b7f5-e4034939b0cf",
   "metadata": {},
   "source": [
    "## Sandbox"
   ]
  },
  {
   "cell_type": "code",
   "execution_count": 39,
   "id": "612102ad-418e-470c-ab39-a4d3338ff9ed",
   "metadata": {
    "tags": []
   },
   "outputs": [
    {
     "data": {
      "text/html": [
       "<div>\n",
       "<style scoped>\n",
       "    .dataframe tbody tr th:only-of-type {\n",
       "        vertical-align: middle;\n",
       "    }\n",
       "\n",
       "    .dataframe tbody tr th {\n",
       "        vertical-align: top;\n",
       "    }\n",
       "\n",
       "    .dataframe thead th {\n",
       "        text-align: right;\n",
       "    }\n",
       "</style>\n",
       "<table border=\"1\" class=\"dataframe\">\n",
       "  <thead>\n",
       "    <tr style=\"text-align: right;\">\n",
       "      <th></th>\n",
       "      <th>trip_id</th>\n",
       "      <th>min_meters</th>\n",
       "      <th>min_stop</th>\n",
       "      <th>max_meters</th>\n",
       "      <th>max_stop</th>\n",
       "    </tr>\n",
       "  </thead>\n",
       "  <tbody>\n",
       "    <tr>\n",
       "      <th>0</th>\n",
       "      <td>9288619</td>\n",
       "      <td>1954.947256</td>\n",
       "      <td>5</td>\n",
       "      <td>10745.097772</td>\n",
       "      <td>28</td>\n",
       "    </tr>\n",
       "    <tr>\n",
       "      <th>1</th>\n",
       "      <td>9288621</td>\n",
       "      <td>1954.947256</td>\n",
       "      <td>5</td>\n",
       "      <td>11480.641185</td>\n",
       "      <td>29</td>\n",
       "    </tr>\n",
       "    <tr>\n",
       "      <th>2</th>\n",
       "      <td>9288623</td>\n",
       "      <td>501.040761</td>\n",
       "      <td>2</td>\n",
       "      <td>10745.097772</td>\n",
       "      <td>28</td>\n",
       "    </tr>\n",
       "    <tr>\n",
       "      <th>3</th>\n",
       "      <td>9288625</td>\n",
       "      <td>501.040761</td>\n",
       "      <td>2</td>\n",
       "      <td>10745.097772</td>\n",
       "      <td>28</td>\n",
       "    </tr>\n",
       "    <tr>\n",
       "      <th>4</th>\n",
       "      <td>9288627</td>\n",
       "      <td>1666.402436</td>\n",
       "      <td>4</td>\n",
       "      <td>11480.641185</td>\n",
       "      <td>29</td>\n",
       "    </tr>\n",
       "    <tr>\n",
       "      <th>5</th>\n",
       "      <td>9288629</td>\n",
       "      <td>991.109291</td>\n",
       "      <td>3</td>\n",
       "      <td>10745.097772</td>\n",
       "      <td>28</td>\n",
       "    </tr>\n",
       "  </tbody>\n",
       "</table>\n",
       "</div>"
      ],
      "text/plain": [
       "   trip_id   min_meters  min_stop    max_meters  max_stop\n",
       "0  9288619  1954.947256         5  10745.097772        28\n",
       "1  9288621  1954.947256         5  11480.641185        29\n",
       "2  9288623   501.040761         2  10745.097772        28\n",
       "3  9288625   501.040761         2  10745.097772        28\n",
       "4  9288627  1666.402436         4  11480.641185        29\n",
       "5  9288629   991.109291         3  10745.097772        28"
      ]
     },
     "execution_count": 39,
     "metadata": {},
     "output_type": "execute_result"
    }
   ],
   "source": [
    "## TODO implement as scope view in method\n",
    "(all_delays\n",
    " >> group_by(_.trip_id)\n",
    " >> summarize(min_meters = _.shape_meters.min(),\n",
    "             min_stop = _.stop_sequence.min(),\n",
    "             max_meters = _.shape_meters.max(),\n",
    "             max_stop = _.stop_sequence.max())\n",
    ")"
   ]
  }
 ],
 "metadata": {
  "kernelspec": {
   "display_name": "Python 3 (ipykernel)",
   "language": "python",
   "name": "python3"
  },
  "language_info": {
   "codemirror_mode": {
    "name": "ipython",
    "version": 3
   },
   "file_extension": ".py",
   "mimetype": "text/x-python",
   "name": "python",
   "nbconvert_exporter": "python",
   "pygments_lexer": "ipython3",
   "version": "3.9.7"
  }
 },
 "nbformat": 4,
 "nbformat_minor": 5
}
