{
 "cells": [
  {
   "cell_type": "code",
   "execution_count": 1,
   "id": "0cc75cc8-125b-4099-bfb3-93a6cd0380cb",
   "metadata": {},
   "outputs": [
    {
     "name": "stderr",
     "output_type": "stream",
     "text": [
      "/opt/conda/lib/python3.9/site-packages/geopandas/_compat.py:111: UserWarning: The Shapely GEOS version (3.9.1-CAPI-1.14.2) is incompatible with the GEOS version PyGEOS was compiled with (3.10.1-CAPI-1.16.0). Conversions between both will be slow.\n",
      "  warnings.warn(\n"
     ]
    }
   ],
   "source": [
    "import os\n",
    "os.environ[\"CALITP_BQ_MAX_BYTES\"] = str(100_000_000_000)\n",
    "\n",
    "from calitp.tables import tbl\n",
    "from calitp import query_sql\n",
    "import calitp.magics\n",
    "\n",
    "import shared_utils\n",
    "from utils import *\n",
    "\n",
    "from siuba import *\n",
    "import pandas as pd\n",
    "import geopandas as gpd\n",
    "import shapely\n",
    "\n",
    "import datetime as dt\n",
    "import time\n",
    "from zoneinfo import ZoneInfo"
   ]
  },
  {
   "cell_type": "markdown",
   "id": "72ab0619-47ef-4767-8080-42bf835bee0f",
   "metadata": {},
   "source": [
    "### Notes from RT Kickoff Meeting\n",
    "\n",
    "* Incorporating trip updates?\n",
    "* Trip updates can include a measure of delay…\n",
    "* Relying more on internal processes…\n",
    "* Trip updates also include overall schedule deviation\n",
    "* Data can be missing from RT: vehicles without trips, no delay, etc…\n",
    "* Evan: vehicle positions to infer delay if trip updates available, we’re implicitly deciding that we don’t trust trip updates → trusting the schedule and vehicle positions 100%\n",
    "* We have trip updates someplace, just needs to be pipelined…\n",
    "* In theory, update frequency should keep positions and updates close?\n",
    "* Some feeds omit past events once a bus passes stop, or even future events)\n",
    "* Data quality:\n",
    "    * Every 20 seconds, look at next arrival from trip updates…\n",
    "    * Exploratory analysis? Quicker to use+trust trip updates…\n",
    "\n",
    "\n",
    "* Analysis timespan\n",
    "* Confirming agency counts\n",
    "\n",
    "#### Action items\n",
    "\n",
    "* Work towards loading trip updates into warehouse\n",
    "* Look into why there are fewer RT agencies in warehouse (~16) compared to agencies.yml (~30)\n",
    "* Initial work on an algorithm to interpolate vehicle positions\n",
    "* Assess how different various feeds’ implementations of trip updates are\n"
   ]
  },
  {
   "cell_type": "code",
   "execution_count": 2,
   "id": "e9620700-857e-4036-bad2-c1c15e7b4039",
   "metadata": {},
   "outputs": [
    {
     "data": {
      "text/plain": [
       "('PST', 'PDT')"
      ]
     },
     "execution_count": 2,
     "metadata": {},
     "output_type": "execute_result"
    }
   ],
   "source": [
    "## set system time\n",
    "\n",
    "os.environ['TZ'] = 'America/Los_Angeles'\n",
    "time.tzset()\n",
    "time.tzname"
   ]
  },
  {
   "cell_type": "code",
   "execution_count": 3,
   "id": "f3e3d00e-8bf5-4972-8aea-abcf92253424",
   "metadata": {},
   "outputs": [],
   "source": [
    "lbt_itp_id = 170"
   ]
  },
  {
   "cell_type": "code",
   "execution_count": 4,
   "id": "738545a2-d78b-4df5-a2e9-952125c37505",
   "metadata": {
    "tags": []
   },
   "outputs": [],
   "source": [
    "# %%sql -o lbt_positions\n",
    "\n",
    "# # get all vehicle positions on selected dates, for the feed with itp id 170, and url number 0\n",
    "# SELECT *\n",
    "# FROM `cal-itp-data-infra.gtfs_rt.vehicle_positions`\n",
    "# WHERE _FILE_NAME=\"gs://gtfs-data/rt-processed/vehicle_positions/vp_2021-12-01_170_0.parquet\"\n",
    "#     # OR _FILE_NAME=\"gs://gtfs-data/rt-processed/vehicle_positions/vp_2021-12-02_170_0.parquet\"\n",
    "#     # OR _FILE_NAME=\"gs://gtfs-data/rt-processed/vehicle_positions/vp_2021-12-03_170_0.parquet\"\n",
    "#     # OR _FILE_NAME=\"gs://gtfs-data/rt-processed/vehicle_positions/vp_2021-12-04_170_0.parquet\"\n",
    "#     # OR _FILE_NAME=\"gs://gtfs-data/rt-processed/vehicle_positions/vp_2021-12-05_170_0.parquet\"\n",
    "#     # OR _FILE_NAME=\"gs://gtfs-data/rt-processed/vehicle_positions/vp_2021-12-06_170_0.parquet\"\n",
    "#     # OR _FILE_NAME=\"gs://gtfs-data/rt-processed/vehicle_positions/vp_2021-12-07_170_0.parquet\"\n",
    "# ORDER BY header_timestamp"
   ]
  },
  {
   "cell_type": "code",
   "execution_count": 5,
   "id": "b376c866-82ef-4573-93d4-82f933cee7b6",
   "metadata": {},
   "outputs": [],
   "source": [
    "# lbt_positions.to_parquet(f'{GCS_FILE_PATH}lbt_positions.parquet')"
   ]
  },
  {
   "cell_type": "code",
   "execution_count": 6,
   "id": "fb99a04b-16d5-4748-a8fb-88f9f1c4c1d4",
   "metadata": {},
   "outputs": [],
   "source": [
    "lbt_positions = pd.read_parquet(f'{GCS_FILE_PATH}lbt_positions.parquet')"
   ]
  },
  {
   "cell_type": "code",
   "execution_count": 7,
   "id": "1216a725-6cbf-48f9-bc2e-cda3dc62510f",
   "metadata": {},
   "outputs": [],
   "source": [
    "def convert_ts(ts):    \n",
    "    pacific_dt = dt.datetime.fromtimestamp(ts)\n",
    "    # print(pacific_dt)\n",
    "    return pacific_dt"
   ]
  },
  {
   "cell_type": "code",
   "execution_count": 8,
   "id": "93961407-fb64-46bc-8044-47b3c7f19b59",
   "metadata": {},
   "outputs": [],
   "source": [
    "lbt_positions.vehicle_timestamp = lbt_positions.vehicle_timestamp.apply(convert_ts)\n",
    "lbt_positions.header_timestamp = lbt_positions.header_timestamp.apply(convert_ts)"
   ]
  },
  {
   "cell_type": "code",
   "execution_count": 9,
   "id": "7ba6f077-9f35-4ff1-9e88-9740aca8eb43",
   "metadata": {},
   "outputs": [],
   "source": [
    "min_date, max_date = ('2021-11-01', '2021-12-01')\n",
    "pch_routes = ('171', '172', '173', '174', '175')"
   ]
  },
  {
   "cell_type": "code",
   "execution_count": 10,
   "id": "53439a8c-0963-465a-abaf-1297dede95d6",
   "metadata": {},
   "outputs": [],
   "source": [
    "# lbt_trips = (tbl.views.gtfs_schedule_fact_daily_trips()\n",
    "#     # >> filter(_.calitp_extracted_at <= min_date, _.calitp_deleted_at > max_date)\n",
    "#     >> filter(_.calitp_itp_id == lbt_itp_id)\n",
    "#     >> filter(_.service_date == max_date)\n",
    "#     >> filter(_.is_in_service == True)\n",
    "#     >> select(_.trip_key, _.service_date)\n",
    "#     >> inner_join(_, tbl.views.gtfs_schedule_dim_trips(), on = 'trip_key')\n",
    "#     >> select(_.calitp_itp_id, _.calitp_url_number,\n",
    "#               _.date == _.service_date,\n",
    "#               _.trip_key, _.trip_id, _.route_id, _.direction_id,\n",
    "#               _.shape_id, _.calitp_extracted_at, _.calitp_deleted_at)\n",
    "#     # >> filter(_.route_id.isin(pch_routes))\n",
    "\n",
    "#     >> collect()\n",
    "#     )"
   ]
  },
  {
   "cell_type": "code",
   "execution_count": 11,
   "id": "5e3550e9-6be6-476e-aaa6-c12fe3f0505f",
   "metadata": {},
   "outputs": [],
   "source": [
    "# lbt_trips.to_parquet(f'{GCS_FILE_PATH}lbt_trips.parquet')"
   ]
  },
  {
   "cell_type": "code",
   "execution_count": 12,
   "id": "9e6b0bed-8669-467e-9cb0-0924165592ae",
   "metadata": {},
   "outputs": [],
   "source": [
    "lbt_trips = pd.read_parquet(f'{GCS_FILE_PATH}lbt_trips.parquet')"
   ]
  },
  {
   "cell_type": "code",
   "execution_count": 13,
   "id": "c61d00c8-6eeb-42ee-a870-0e9207c7fe50",
   "metadata": {},
   "outputs": [],
   "source": [
    "st = (tbl.gtfs_schedule.stop_times()\n",
    "     >> filter(_.calitp_itp_id == 170)\n",
    "     # >> filter(_.trip_id == '9288623')\n",
    "     >> mutate(stop_sequence = _.stop_sequence.astype(int)) ## in SQL!\n",
    "     >> arrange(_.stop_sequence)\n",
    "     >> collect()\n",
    "    )"
   ]
  },
  {
   "cell_type": "code",
   "execution_count": 14,
   "id": "c75d36aa-437d-40e9-afbd-f06ecb2684f3",
   "metadata": {},
   "outputs": [],
   "source": [
    "stops = (tbl.gtfs_schedule.stops()\n",
    "     >> filter(_.calitp_itp_id == 170)\n",
    "     # >> filter(_.trip_id == '9288623')\n",
    "     # >> mutate(stop_sequence = _.stop_sequence.astype(int)) ## in SQL!\n",
    "     # >> arrange(_.stop_sequence)\n",
    "     >> select(_.calitp_itp_id, _.calitp_url_number, _.stop_id,\n",
    "              _.stop_lat, _.stop_lon, _.stop_name)\n",
    "     >> collect()\n",
    "    )\n",
    "\n",
    "stops = gpd.GeoDataFrame(stops, geometry=gpd.points_from_xy(stops.stop_lon, stops.stop_lat),\n",
    "                        crs='EPSG:4326').to_crs(shared_utils.geography_utils.CA_NAD83Albers)"
   ]
  },
  {
   "cell_type": "code",
   "execution_count": 15,
   "id": "62fe3fbf-1d71-4010-a478-a76230b3ca8e",
   "metadata": {},
   "outputs": [],
   "source": [
    "trips_positions_joined = (lbt_trips\n",
    "                        >> filter(_.route_id.isin(pch_routes))\n",
    "                        >> inner_join(_, (lbt_positions >> rename(trip_id = 'vehicle_trip_id')),\n",
    "                                      on= ['trip_id', 'calitp_itp_id', 'calitp_url_number'])\n",
    "                       )"
   ]
  },
  {
   "cell_type": "code",
   "execution_count": 16,
   "id": "8c4bf5d8-be49-4379-9bac-a04f4869260c",
   "metadata": {},
   "outputs": [
    {
     "data": {
      "text/plain": [
       "Timestamp('2021-12-01 11:15:58')"
      ]
     },
     "execution_count": 16,
     "metadata": {},
     "output_type": "execute_result"
    }
   ],
   "source": [
    "trips_positions_joined.vehicle_timestamp.max()"
   ]
  },
  {
   "cell_type": "code",
   "execution_count": 17,
   "id": "dabf0521-6f82-48c4-8664-95df875235c1",
   "metadata": {},
   "outputs": [
    {
     "data": {
      "text/plain": [
       "Timestamp('2021-11-30 15:56:12')"
      ]
     },
     "execution_count": 17,
     "metadata": {},
     "output_type": "execute_result"
    }
   ],
   "source": [
    "trips_positions_joined.vehicle_timestamp.min()"
   ]
  },
  {
   "cell_type": "code",
   "execution_count": 18,
   "id": "1194251c-6ec1-4614-b511-679bbea9eab3",
   "metadata": {},
   "outputs": [],
   "source": [
    "trips_positions_joined = gpd.GeoDataFrame(trips_positions_joined,\n",
    "                                geometry=gpd.points_from_xy(trips_positions_joined.vehicle_position_longitude,\n",
    "                                                            trips_positions_joined.vehicle_position_latitude),\n",
    "                                crs=shared_utils.geography_utils.WGS84).to_crs(shared_utils.geography_utils.CA_NAD83Albers)"
   ]
  },
  {
   "cell_type": "code",
   "execution_count": 19,
   "id": "25f7a355-4465-4bed-921b-c554c84ee842",
   "metadata": {},
   "outputs": [],
   "source": [
    "lbt_routelines = shared_utils.geography_utils.make_routes_shapefile(['170'], ## LBT\n",
    "                                shared_utils.geography_utils.CA_NAD83Albers)"
   ]
  },
  {
   "cell_type": "code",
   "execution_count": 20,
   "id": "dba6ccef-60aa-44c3-922c-38b753fcba71",
   "metadata": {},
   "outputs": [],
   "source": [
    "MPH_PER_MPS = 2.237"
   ]
  },
  {
   "cell_type": "code",
   "execution_count": 41,
   "id": "5c2195cd-2555-416f-9ad1-675a107c4bb6",
   "metadata": {},
   "outputs": [],
   "source": [
    "class VehiclePositionsTrip:\n",
    "    '''Trip data and useful methods for analyzing GTFS-RT vehicle positions data'''\n",
    "    \n",
    "    def attach_shape(self, shape_gdf):\n",
    "        assert shape_gdf.crs == shared_utils.geography_utils.CA_NAD83Albers\n",
    "        assert shape_gdf.calitp_itp_id.iloc[0] == self.calitp_itp_id\n",
    "        \n",
    "        self.shape = (shape_gdf\n",
    "                        >> filter(_.shape_id == self.shape_id)\n",
    "                        >> select(_.shape_id, _.geometry))\n",
    "        self.linear_reference()\n",
    "    \n",
    "    def __init__(self, vp_gdf, shape_gdf):\n",
    "        assert vp_gdf.crs == shared_utils.geography_utils.CA_NAD83Albers\n",
    "        vp_gdf = vp_gdf >> distinct(_.trip_id, _.vehicle_timestamp, _keep_all=True)\n",
    "        \n",
    "        self.date = vp_gdf.date.iloc[0]\n",
    "        self.trip_id = vp_gdf.trip_id.iloc[0]\n",
    "        self.route_id = vp_gdf.route_id.iloc[0]\n",
    "        self.shape_id = vp_gdf.shape_id.iloc[0]\n",
    "        self.entity_id = vp_gdf.entity_id.iloc[0]\n",
    "        self.vehicle_id = vp_gdf.vehicle_id.iloc[0]\n",
    "        self.calitp_itp_id = vp_gdf.calitp_itp_id.iloc[0]\n",
    "        self.calitp_url_number = vp_gdf.calitp_url_number.iloc[0]\n",
    "        self.vehicle_positions = vp_gdf >> select(_.vehicle_timestamp,\n",
    "                                              _.header_timestamp,\n",
    "                                              _.geometry)\n",
    "        self.attach_shape(shape_gdf)\n",
    "        \n",
    "    def linear_reference(self):\n",
    "        self.vehicle_positions['shape_meters'] = (self.vehicle_positions.geometry\n",
    "                                        .apply(lambda x: self.shape.geometry.iloc[0].project(x)))\n",
    "        self.vehicle_positions['last_time'] = self.vehicle_positions.vehicle_timestamp.shift(1)\n",
    "        self.vehicle_positions['last_loc'] = self.vehicle_positions.shape_meters.shift(1)\n",
    "        self.vehicle_positions['secs_from_last'] = self.vehicle_positions.vehicle_timestamp - self.vehicle_positions.last_time\n",
    "        self.vehicle_positions.secs_from_last = (self.vehicle_positions.secs_from_last\n",
    "                                        .apply(lambda x: x.seconds))\n",
    "        self.vehicle_positions['meters_from_last'] = (self.vehicle_positions.shape_meters\n",
    "                                                      - self.vehicle_positions.last_loc)\n",
    "        self.vehicle_positions['progressed'] = self.vehicle_positions['meters_from_last'] > 0 ## has the bus moved ahead?\n",
    "        self.vehicle_positions['speed_from_last'] = (self.vehicle_positions.meters_from_last\n",
    "                                                     / self.vehicle_positions.secs_from_last)\n",
    "    \n",
    "\n",
    "        \n",
    "#     def position_at_time(self, dt):\n",
    "        \n",
    "    def time_at_position(self, desired_position):\n",
    "        \n",
    "        global bounding_points\n",
    "        \n",
    "        try:\n",
    "            next_point = (self.vehicle_positions\n",
    "                  >> filter(_.progressed)\n",
    "                  >> filter(_.shape_meters > desired_position)\n",
    "                  >> filter(_.shape_meters == _.shape_meters.min())\n",
    "                 )\n",
    "            prev_point = (self.vehicle_positions\n",
    "                  >> filter(_.progressed)\n",
    "                  >> filter(_.shape_meters < desired_position)\n",
    "                  >> filter(_.shape_meters == _.shape_meters.max())\n",
    "                 )\n",
    "            bounding_points = (prev_point.append(next_point).copy().reset_index(drop=True)\n",
    "                    >> select(-_.secs_from_last, -_.meters_from_last, -_.speed_from_last)) ## need to drop in case bounding points are nonconsecutive\n",
    "            secs_from_last = (bounding_points.loc[1].vehicle_timestamp - bounding_points.loc[0].vehicle_timestamp).seconds\n",
    "            meters_from_last = bounding_points.loc[1].shape_meters - bounding_points.loc[0].shape_meters\n",
    "            speed_from_last = meters_from_last / secs_from_last\n",
    "\n",
    "            meters_position_to_next = bounding_points.loc[1].shape_meters - desired_position\n",
    "            est_seconds_to_next = meters_position_to_next / speed_from_last\n",
    "            est_td_to_next = dt.timedelta(seconds=est_seconds_to_next)\n",
    "            est_dt = bounding_points.iloc[-1].vehicle_timestamp - est_td_to_next\n",
    "\n",
    "            return est_dt\n",
    "        except KeyError:\n",
    "            print(f'insufficient bounding points for location {desired_position}')\n",
    "            print(f'start/end of route?')\n",
    "            return None"
   ]
  },
  {
   "cell_type": "code",
   "execution_count": 42,
   "id": "d321c355-4b03-4bb0-8e9f-37d3318c09ff",
   "metadata": {},
   "outputs": [],
   "source": [
    "def delay_view(trip_id, trips_positions_joined, stop_times, stops, shape_gdf):\n",
    "    global _debug\n",
    "    global trip_rt_data\n",
    "    \n",
    "    this_trip = trips_positions_joined >> filter(_.trip_id == trip_id)\n",
    "    trip_rt_data = VehiclePositionsTrip(this_trip, shape_gdf)\n",
    "    \n",
    "    trip_st = stop_times >> filter(_.trip_id == trip_id)\n",
    "    trip_st_geo = stops >> inner_join(_, trip_st, on = ['calitp_itp_id', 'calitp_url_number',\n",
    "                                     'stop_id'])\n",
    "    trip_st_geo['linear_meters'] = (trip_st_geo.geometry\n",
    "                                        .apply(lambda x: trip_rt_data.shape.project(x)))\n",
    "    trip_st_geo['actual_time'] = trip_st_geo['linear_meters'].apply(lambda x: trip_rt_data.time_at_position(x))\n",
    "    trip_st_geo['arrival_time'] = trip_st_geo.arrival_time.apply(lambda x:\n",
    "                                    dt.datetime.combine(trip_st_geo.actual_time.iloc[0].date(),\n",
    "                                                        dt.datetime.strptime(x, '%H:%M:%S').time()))\n",
    "    _debug = trip_st_geo\n",
    "    trip_st_geo['delay'] = trip_st_geo.actual_time - trip_st_geo.arrival_time\n",
    "    trip_st_geo['date'] = trip_rt_data.date\n",
    "    trip_view = trip_st_geo.dropna(subset=['delay']) >> arrange(_.arrival_time) >> select(\n",
    "                                                    _.arrival_time, _.actual_time, _.delay,\n",
    "                                                 _.stop_id, _.trip_id, _.stop_sequence,\n",
    "                                            _.date, _.geometry)\n",
    "    return trip_view"
   ]
  },
  {
   "cell_type": "code",
   "execution_count": 43,
   "id": "7d1c9171-b31b-4338-868b-b5eeb6cabc0a",
   "metadata": {
    "tags": []
   },
   "outputs": [],
   "source": [
    "# delay_view('9288623', trips_positions_joined, st, stops, lbt_routelines)"
   ]
  },
  {
   "cell_type": "code",
   "execution_count": 44,
   "id": "4858574c-e4bb-4bf5-9453-42d1a1275ea2",
   "metadata": {},
   "outputs": [],
   "source": [
    "# _debug"
   ]
  },
  {
   "cell_type": "code",
   "execution_count": 45,
   "id": "e0db9df7-6d38-4461-94a2-56824db0b50e",
   "metadata": {},
   "outputs": [
    {
     "data": {
      "text/html": [
       "<div>\n",
       "<style scoped>\n",
       "    .dataframe tbody tr th:only-of-type {\n",
       "        vertical-align: middle;\n",
       "    }\n",
       "\n",
       "    .dataframe tbody tr th {\n",
       "        vertical-align: top;\n",
       "    }\n",
       "\n",
       "    .dataframe thead th {\n",
       "        text-align: right;\n",
       "    }\n",
       "</style>\n",
       "<table border=\"1\" class=\"dataframe\">\n",
       "  <thead>\n",
       "    <tr style=\"text-align: right;\">\n",
       "      <th></th>\n",
       "      <th>trip_id</th>\n",
       "      <th>max_time</th>\n",
       "    </tr>\n",
       "  </thead>\n",
       "  <tbody>\n",
       "    <tr>\n",
       "      <th>8</th>\n",
       "      <td>9288619</td>\n",
       "      <td>2021-11-30 16:37:23</td>\n",
       "    </tr>\n",
       "    <tr>\n",
       "      <th>9</th>\n",
       "      <td>9288621</td>\n",
       "      <td>2021-11-30 17:17:58</td>\n",
       "    </tr>\n",
       "    <tr>\n",
       "      <th>10</th>\n",
       "      <td>9288623</td>\n",
       "      <td>2021-11-30 17:56:04</td>\n",
       "    </tr>\n",
       "    <tr>\n",
       "      <th>11</th>\n",
       "      <td>9288625</td>\n",
       "      <td>2021-11-30 18:35:49</td>\n",
       "    </tr>\n",
       "    <tr>\n",
       "      <th>12</th>\n",
       "      <td>9288627</td>\n",
       "      <td>2021-11-30 19:24:12</td>\n",
       "    </tr>\n",
       "    <tr>\n",
       "      <th>13</th>\n",
       "      <td>9288629</td>\n",
       "      <td>2021-11-30 19:59:08</td>\n",
       "    </tr>\n",
       "  </tbody>\n",
       "</table>\n",
       "</div>"
      ],
      "text/plain": [
       "    trip_id            max_time\n",
       "8   9288619 2021-11-30 16:37:23\n",
       "9   9288621 2021-11-30 17:17:58\n",
       "10  9288623 2021-11-30 17:56:04\n",
       "11  9288625 2021-11-30 18:35:49\n",
       "12  9288627 2021-11-30 19:24:12\n",
       "13  9288629 2021-11-30 19:59:08"
      ]
     },
     "execution_count": 45,
     "metadata": {},
     "output_type": "execute_result"
    }
   ],
   "source": [
    "example_trips = (trips_positions_joined\n",
    " >> filter(_.route_id == '175', _.direction_id == '0') ## towards Villages at Cabrillo\n",
    " >> group_by(_.trip_id)\n",
    " >> summarize(max_time = _.vehicle_timestamp.max())\n",
    " >> arrange(_.max_time)\n",
    ")\n",
    "example_trips.head(6)"
   ]
  },
  {
   "cell_type": "code",
   "execution_count": 46,
   "id": "fa830e92-215d-459a-a042-2fe780573150",
   "metadata": {},
   "outputs": [
    {
     "data": {
      "text/plain": [
       "8     9288619\n",
       "9     9288621\n",
       "10    9288623\n",
       "11    9288625\n",
       "12    9288627\n",
       "13    9288629\n",
       "Name: trip_id, dtype: object"
      ]
     },
     "execution_count": 46,
     "metadata": {},
     "output_type": "execute_result"
    }
   ],
   "source": [
    "example_trips.trip_id.iloc[:6]"
   ]
  },
  {
   "cell_type": "code",
   "execution_count": 47,
   "id": "5a74954e-c019-4785-99e9-51ae8866885c",
   "metadata": {},
   "outputs": [
    {
     "name": "stdout",
     "output_type": "stream",
     "text": [
      "insufficient bounding points for location 11480.641185357437\n",
      "start/end of route?\n",
      "insufficient bounding points for location 991.1092912035456\n",
      "start/end of route?\n",
      "insufficient bounding points for location 1666.4024361313238\n",
      "start/end of route?\n",
      "insufficient bounding points for location 501.0407611454837\n",
      "start/end of route?\n",
      "insufficient bounding points for location 0.0\n",
      "start/end of route?\n",
      "insufficient bounding points for location 501.0407611454837\n",
      "start/end of route?\n",
      "insufficient bounding points for location 0.0\n",
      "start/end of route?\n",
      "insufficient bounding points for location 11480.641185357437\n",
      "start/end of route?\n",
      "insufficient bounding points for location 0.0\n",
      "start/end of route?\n",
      "insufficient bounding points for location 11480.641185357437\n",
      "start/end of route?\n",
      "insufficient bounding points for location 0.0\n",
      "start/end of route?\n",
      "insufficient bounding points for location 0.0\n",
      "start/end of route?\n",
      "insufficient bounding points for location 11480.641185357437\n",
      "start/end of route?\n",
      "insufficient bounding points for location 0.0\n",
      "start/end of route?\n"
     ]
    }
   ],
   "source": [
    "delays = gpd.GeoDataFrame()\n",
    "\n",
    "for trip_id in example_trips.trip_id.iloc[:6]:\n",
    "    \n",
    "    single_trip_delay = delay_view(trip_id, trips_positions_joined, st, stops, lbt_routelines)\n",
    "    delays = delays.append(single_trip_delay)"
   ]
  },
  {
   "cell_type": "code",
   "execution_count": 50,
   "id": "34bea09d-5486-42d5-b8b3-ef3bbf38adf7",
   "metadata": {},
   "outputs": [
    {
     "data": {
      "text/html": [
       "<div>\n",
       "<style scoped>\n",
       "    .dataframe tbody tr th:only-of-type {\n",
       "        vertical-align: middle;\n",
       "    }\n",
       "\n",
       "    .dataframe tbody tr th {\n",
       "        vertical-align: top;\n",
       "    }\n",
       "\n",
       "    .dataframe thead th {\n",
       "        text-align: right;\n",
       "    }\n",
       "</style>\n",
       "<table border=\"1\" class=\"dataframe\">\n",
       "  <thead>\n",
       "    <tr style=\"text-align: right;\">\n",
       "      <th></th>\n",
       "      <th>arrival_time</th>\n",
       "      <th>actual_time</th>\n",
       "      <th>delay</th>\n",
       "      <th>stop_id</th>\n",
       "      <th>trip_id</th>\n",
       "      <th>stop_sequence</th>\n",
       "      <th>date</th>\n",
       "      <th>geometry</th>\n",
       "    </tr>\n",
       "  </thead>\n",
       "  <tbody>\n",
       "    <tr>\n",
       "      <th>15</th>\n",
       "      <td>2021-11-30 15:43:27</td>\n",
       "      <td>2021-11-30 16:01:08.496330</td>\n",
       "      <td>0 days 00:17:41.496330</td>\n",
       "      <td>0543</td>\n",
       "      <td>9288619</td>\n",
       "      <td>5</td>\n",
       "      <td>2021-12-01</td>\n",
       "      <td>POINT (173108.288 -468477.715)</td>\n",
       "    </tr>\n",
       "    <tr>\n",
       "      <th>26</th>\n",
       "      <td>2021-11-30 15:44:00</td>\n",
       "      <td>2021-11-30 16:01:37.389317</td>\n",
       "      <td>0 days 00:17:37.389317</td>\n",
       "      <td>0544</td>\n",
       "      <td>9288619</td>\n",
       "      <td>6</td>\n",
       "      <td>2021-12-01</td>\n",
       "      <td>POINT (173001.551 -468534.279)</td>\n",
       "    </tr>\n",
       "    <tr>\n",
       "      <th>28</th>\n",
       "      <td>2021-11-30 15:45:15</td>\n",
       "      <td>2021-11-30 16:03:06.190004</td>\n",
       "      <td>0 days 00:17:51.190004</td>\n",
       "      <td>4054</td>\n",
       "      <td>9288619</td>\n",
       "      <td>7</td>\n",
       "      <td>2021-12-01</td>\n",
       "      <td>POINT (172801.703 -468384.262)</td>\n",
       "    </tr>\n",
       "    <tr>\n",
       "      <th>16</th>\n",
       "      <td>2021-11-30 15:46:23</td>\n",
       "      <td>2021-11-30 16:03:44.801889</td>\n",
       "      <td>0 days 00:17:21.801889</td>\n",
       "      <td>4055</td>\n",
       "      <td>9288619</td>\n",
       "      <td>8</td>\n",
       "      <td>2021-12-01</td>\n",
       "      <td>POINT (172606.266 -468217.848)</td>\n",
       "    </tr>\n",
       "    <tr>\n",
       "      <th>21</th>\n",
       "      <td>2021-11-30 15:48:00</td>\n",
       "      <td>2021-11-30 16:04:26.802384</td>\n",
       "      <td>0 days 00:16:26.802384</td>\n",
       "      <td>1346</td>\n",
       "      <td>9288619</td>\n",
       "      <td>9</td>\n",
       "      <td>2021-12-01</td>\n",
       "      <td>POINT (172322.827 -467985.831)</td>\n",
       "    </tr>\n",
       "    <tr>\n",
       "      <th>...</th>\n",
       "      <td>...</td>\n",
       "      <td>...</td>\n",
       "      <td>...</td>\n",
       "      <td>...</td>\n",
       "      <td>...</td>\n",
       "      <td>...</td>\n",
       "      <td>...</td>\n",
       "      <td>...</td>\n",
       "    </tr>\n",
       "    <tr>\n",
       "      <th>14</th>\n",
       "      <td>2021-11-30 19:32:08</td>\n",
       "      <td>2021-11-30 19:33:19.123625</td>\n",
       "      <td>0 days 00:01:11.123625</td>\n",
       "      <td>0011</td>\n",
       "      <td>9288629</td>\n",
       "      <td>24</td>\n",
       "      <td>2021-12-01</td>\n",
       "      <td>POINT (166864.163 -467876.750)</td>\n",
       "    </tr>\n",
       "    <tr>\n",
       "      <th>8</th>\n",
       "      <td>2021-11-30 19:32:42</td>\n",
       "      <td>2021-11-30 19:33:50.098569</td>\n",
       "      <td>0 days 00:01:08.098569</td>\n",
       "      <td>0012</td>\n",
       "      <td>9288629</td>\n",
       "      <td>25</td>\n",
       "      <td>2021-12-01</td>\n",
       "      <td>POINT (166631.631 -467882.275)</td>\n",
       "    </tr>\n",
       "    <tr>\n",
       "      <th>17</th>\n",
       "      <td>2021-11-30 19:35:01</td>\n",
       "      <td>2021-11-30 19:35:09.357729</td>\n",
       "      <td>0 days 00:00:08.357729</td>\n",
       "      <td>3140</td>\n",
       "      <td>9288629</td>\n",
       "      <td>26</td>\n",
       "      <td>2021-12-01</td>\n",
       "      <td>POINT (165660.454 -467899.210)</td>\n",
       "    </tr>\n",
       "    <tr>\n",
       "      <th>10</th>\n",
       "      <td>2021-11-30 19:36:00</td>\n",
       "      <td>2021-11-30 19:37:09.103320</td>\n",
       "      <td>0 days 00:01:09.103320</td>\n",
       "      <td>3048</td>\n",
       "      <td>9288629</td>\n",
       "      <td>27</td>\n",
       "      <td>2021-12-01</td>\n",
       "      <td>POINT (165247.302 -467911.875)</td>\n",
       "    </tr>\n",
       "    <tr>\n",
       "      <th>2</th>\n",
       "      <td>2021-11-30 19:37:39</td>\n",
       "      <td>2021-11-30 19:38:27.248586</td>\n",
       "      <td>0 days 00:00:48.248586</td>\n",
       "      <td>3049</td>\n",
       "      <td>9288629</td>\n",
       "      <td>28</td>\n",
       "      <td>2021-12-01</td>\n",
       "      <td>POINT (164733.079 -467919.985)</td>\n",
       "    </tr>\n",
       "  </tbody>\n",
       "</table>\n",
       "<p>160 rows × 8 columns</p>\n",
       "</div>"
      ],
      "text/plain": [
       "          arrival_time                actual_time                  delay  \\\n",
       "15 2021-11-30 15:43:27 2021-11-30 16:01:08.496330 0 days 00:17:41.496330   \n",
       "26 2021-11-30 15:44:00 2021-11-30 16:01:37.389317 0 days 00:17:37.389317   \n",
       "28 2021-11-30 15:45:15 2021-11-30 16:03:06.190004 0 days 00:17:51.190004   \n",
       "16 2021-11-30 15:46:23 2021-11-30 16:03:44.801889 0 days 00:17:21.801889   \n",
       "21 2021-11-30 15:48:00 2021-11-30 16:04:26.802384 0 days 00:16:26.802384   \n",
       "..                 ...                        ...                    ...   \n",
       "14 2021-11-30 19:32:08 2021-11-30 19:33:19.123625 0 days 00:01:11.123625   \n",
       "8  2021-11-30 19:32:42 2021-11-30 19:33:50.098569 0 days 00:01:08.098569   \n",
       "17 2021-11-30 19:35:01 2021-11-30 19:35:09.357729 0 days 00:00:08.357729   \n",
       "10 2021-11-30 19:36:00 2021-11-30 19:37:09.103320 0 days 00:01:09.103320   \n",
       "2  2021-11-30 19:37:39 2021-11-30 19:38:27.248586 0 days 00:00:48.248586   \n",
       "\n",
       "   stop_id  trip_id  stop_sequence        date                        geometry  \n",
       "15    0543  9288619              5  2021-12-01  POINT (173108.288 -468477.715)  \n",
       "26    0544  9288619              6  2021-12-01  POINT (173001.551 -468534.279)  \n",
       "28    4054  9288619              7  2021-12-01  POINT (172801.703 -468384.262)  \n",
       "16    4055  9288619              8  2021-12-01  POINT (172606.266 -468217.848)  \n",
       "21    1346  9288619              9  2021-12-01  POINT (172322.827 -467985.831)  \n",
       "..     ...      ...            ...         ...                             ...  \n",
       "14    0011  9288629             24  2021-12-01  POINT (166864.163 -467876.750)  \n",
       "8     0012  9288629             25  2021-12-01  POINT (166631.631 -467882.275)  \n",
       "17    3140  9288629             26  2021-12-01  POINT (165660.454 -467899.210)  \n",
       "10    3048  9288629             27  2021-12-01  POINT (165247.302 -467911.875)  \n",
       "2     3049  9288629             28  2021-12-01  POINT (164733.079 -467919.985)  \n",
       "\n",
       "[160 rows x 8 columns]"
      ]
     },
     "execution_count": 50,
     "metadata": {},
     "output_type": "execute_result"
    }
   ],
   "source": [
    "delays"
   ]
  },
  {
   "cell_type": "code",
   "execution_count": null,
   "id": "49f7128d-f871-433f-949d-1fcce287c186",
   "metadata": {},
   "outputs": [],
   "source": [
    "# delays >> group_by(_.stop_id) >> summarize(avg_delay = _.delay.mean()) >> inner_join(_, delays, on = 'stop_id')"
   ]
  },
  {
   "cell_type": "code",
   "execution_count": null,
   "id": "e1d252f2-959e-4151-ab42-c71a6ff8dfb1",
   "metadata": {},
   "outputs": [],
   "source": [
    "test1 = (delays >> group_by(_.stop_id) >> summarize(max_delay = _.delay.max()) >> inner_join(_, delays, on = 'stop_id'))"
   ]
  },
  {
   "cell_type": "code",
   "execution_count": null,
   "id": "f9731893-146f-425a-8ed6-548d731011fb",
   "metadata": {},
   "outputs": [],
   "source": [
    "test1 >> filter(_.delay > dt.timedelta(hours=1))"
   ]
  },
  {
   "cell_type": "code",
   "execution_count": null,
   "id": "abdfdaa5-6791-4990-900d-d09b72809277",
   "metadata": {},
   "outputs": [],
   "source": [
    "# example_trip = delays >> filter(_.trip_id == '9288621')\n",
    "example_trip = delay_view('9288623', trips_positions_joined, st, stops, lbt_routelines)\n",
    "example_trip['delay_minutes'] = example_trip.delay.apply(lambda x: round((x.seconds / 60), 0))"
   ]
  },
  {
   "cell_type": "code",
   "execution_count": null,
   "id": "5bcc2ece-7311-4bce-be8f-7b35a47bff72",
   "metadata": {},
   "outputs": [],
   "source": [
    "# simple_map(example_trip >> select(_.geometry, _.delay_minutes), 'delay_minutes')"
   ]
  },
  {
   "cell_type": "code",
   "execution_count": null,
   "id": "6f5ce79a-a7a2-4e41-b890-a49cb87f9c3e",
   "metadata": {},
   "outputs": [],
   "source": [
    "buggy_trip = delay_view('9288627', trips_positions_joined, st, stops, lbt_routelines)\n",
    "## actually not a bug, early arrivals wrap around...\n",
    "-buggy_trip.delay.iloc[0]"
   ]
  },
  {
   "cell_type": "code",
   "execution_count": null,
   "id": "773c8c05-4c22-459f-9037-22ad422e9548",
   "metadata": {},
   "outputs": [],
   "source": [
    "## a good view: trip, (direction), stop, timedelta?\n",
    "## plot deltas with a sequential scheme..."
   ]
  },
  {
   "cell_type": "code",
   "execution_count": null,
   "id": "cf57ebe2-8adb-48e3-bfd5-7a7339a23753",
   "metadata": {
    "tags": []
   },
   "outputs": [],
   "source": [
    "delay_view('9288625', trips_positions_joined, st, stops, lbt_routelines);"
   ]
  },
  {
   "cell_type": "code",
   "execution_count": null,
   "id": "ea77c3ce-0560-4f81-bbf6-41d95185c38a",
   "metadata": {},
   "outputs": [],
   "source": [
    "trip_rt_data.time_at_position(3309)"
   ]
  },
  {
   "cell_type": "code",
   "execution_count": null,
   "id": "2bf87acd-21dd-420e-a304-7f5ccbbfa062",
   "metadata": {},
   "outputs": [],
   "source": [
    "trip_rt_data.time_at_position(4309)"
   ]
  },
  {
   "cell_type": "code",
   "execution_count": null,
   "id": "c7397c54-7aa5-4154-bb1a-1579f614c437",
   "metadata": {},
   "outputs": [],
   "source": [
    "trip_rt_data.time_at_position(5309)"
   ]
  },
  {
   "cell_type": "code",
   "execution_count": null,
   "id": "781edfd5-decc-4020-80f2-13c494d4ed8c",
   "metadata": {},
   "outputs": [],
   "source": [
    "bounding_points"
   ]
  },
  {
   "cell_type": "code",
   "execution_count": null,
   "id": "51f0bc09-4115-40a6-8d8c-a19021454408",
   "metadata": {
    "tags": []
   },
   "outputs": [],
   "source": [
    "_debug"
   ]
  }
 ],
 "metadata": {
  "kernelspec": {
   "display_name": "Python 3 (ipykernel)",
   "language": "python",
   "name": "python3"
  },
  "language_info": {
   "codemirror_mode": {
    "name": "ipython",
    "version": 3
   },
   "file_extension": ".py",
   "mimetype": "text/x-python",
   "name": "python",
   "nbconvert_exporter": "python",
   "pygments_lexer": "ipython3",
   "version": "3.9.7"
  }
 },
 "nbformat": 4,
 "nbformat_minor": 5
}
