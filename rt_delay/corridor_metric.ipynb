{
 "cells": [
  {
   "cell_type": "code",
   "execution_count": 1,
   "id": "36fbf7ff-e325-4403-a49f-946ac2546b82",
   "metadata": {},
   "outputs": [],
   "source": [
    "%%capture\n",
    "import warnings\n",
    "warnings.filterwarnings('ignore')\n",
    "\n",
    "import os\n",
    "os.environ[\"CALITP_BQ_MAX_BYTES\"] = str(800_000_000_000)\n",
    "import shared_utils\n",
    "\n",
    "from calitp.tables import tbl\n",
    "from calitp import query_sql\n",
    "import calitp.magics\n",
    "\n",
    "from siuba import *\n",
    "import pandas as pd\n",
    "import geopandas as gpd\n",
    "\n",
    "import datetime as dt\n",
    "\n",
    "import importlib\n",
    "import rt_analysis as rt\n",
    "import rt_filter_map_plot\n",
    "\n",
    "from IPython.display import display, Markdown, Latex, HTML\n",
    "import json\n",
    "\n",
    "from tqdm import tqdm_notebook\n",
    "from tqdm.notebook import trange, tqdm"
   ]
  },
  {
   "cell_type": "code",
   "execution_count": 2,
   "id": "243c6b83-c5c4-4dd4-9ef9-e60b4ea9d844",
   "metadata": {},
   "outputs": [],
   "source": [
    "import numpy as np"
   ]
  },
  {
   "cell_type": "markdown",
   "id": "bd9db471-7cd7-4078-a8e5-ed865b05f1ea",
   "metadata": {},
   "source": [
    "# Corridor-based metrics for SCCP\n",
    "\n",
    "* intent is to eventually parameterize this and output formatted report, also methodology may change"
   ]
  },
  {
   "cell_type": "code",
   "execution_count": 3,
   "id": "30a52f2f-0c68-415c-b8b3-e3918c04fcfc",
   "metadata": {},
   "outputs": [],
   "source": [
    "date_range = np.arange('2022-04-30', '2022-05-09', dtype='datetime64[D]')"
   ]
  },
  {
   "cell_type": "code",
   "execution_count": 4,
   "id": "9400ddf7-ebba-4617-a386-f55a3089764f",
   "metadata": {},
   "outputs": [
    {
     "data": {
      "text/plain": [
       "array(['2022-04-30', '2022-05-01', '2022-05-02', '2022-05-03',\n",
       "       '2022-05-04', '2022-05-05', '2022-05-06', '2022-05-07',\n",
       "       '2022-05-08'], dtype='datetime64[D]')"
      ]
     },
     "execution_count": 4,
     "metadata": {},
     "output_type": "execute_result"
    }
   ],
   "source": [
    "date_range"
   ]
  },
  {
   "cell_type": "code",
   "execution_count": 5,
   "id": "69d7186c-9835-4e37-bd90-fa34e01620a1",
   "metadata": {},
   "outputs": [],
   "source": [
    "itp_id = 4"
   ]
  },
  {
   "cell_type": "code",
   "execution_count": 6,
   "id": "1251a4e3-5081-4127-ab65-ef0aacffa80a",
   "metadata": {},
   "outputs": [],
   "source": [
    "corridor = gpd.read_file('./CMCP_StudyAreaBoundary.geojson')"
   ]
  },
  {
   "cell_type": "code",
   "execution_count": 7,
   "id": "b7f3f405-ce6d-4ea6-80ae-96b175fc92cd",
   "metadata": {},
   "outputs": [
    {
     "data": {
      "application/vnd.jupyter.widget-view+json": {
       "model_id": "149cca2df27c4551aba2139d1819a98c",
       "version_major": 2,
       "version_minor": 0
      },
      "text/plain": [
       "0it [00:00, ?it/s]"
      ]
     },
     "metadata": {},
     "output_type": "display_data"
    }
   ],
   "source": [
    "pbar = tqdm()"
   ]
  },
  {
   "cell_type": "code",
   "execution_count": 8,
   "id": "7219a723-9b27-4dd8-ba58-bddb548362ac",
   "metadata": {},
   "outputs": [
    {
     "name": "stdout",
     "output_type": "stream",
     "text": [
      "found parquet\n",
      "complete for date: 2022-04-30\n",
      "found parquet\n",
      "complete for date: 2022-05-01\n",
      "found parquet\n",
      "complete for date: 2022-05-02\n",
      "found parquet\n",
      "complete for date: 2022-05-03\n",
      "found parquet\n",
      "complete for date: 2022-05-04\n",
      "found parquet\n",
      "complete for date: 2022-05-05\n",
      "found parquet\n",
      "complete for date: 2022-05-06\n",
      "found parquet\n",
      "complete for date: 2022-05-07\n",
      "found parquet\n",
      "complete for date: 2022-05-08\n"
     ]
    }
   ],
   "source": [
    "schedule_metrics = []\n",
    "speed_metrics = []\n",
    "for date in date_range:\n",
    "    date = date.astype(dt.date)\n",
    "    try:\n",
    "        rt_day = rt_filter_map_plot.from_gcs(itp_id, date, pbar)\n",
    "        rt_day.add_corridor(corridor)\n",
    "        _m = rt_filter_map_plot.RtFilterMapper.segment_speed_map(rt_day, corridor=True)\n",
    "        metrics = rt_day.corridor_metrics()\n",
    "        schedule_metrics += [metrics['schedule_metric']]\n",
    "        speed_metrics += [metrics['speed_metric']]\n",
    "        print(f'complete for date: {date}')\n",
    "    except:\n",
    "        print(f'failed for date: {date}')\n",
    "        continue"
   ]
  },
  {
   "cell_type": "code",
   "execution_count": 13,
   "id": "40797261-8489-4c8c-845f-ef6ead44772c",
   "metadata": {},
   "outputs": [
    {
     "data": {
      "text/plain": [
       "462.0"
      ]
     },
     "execution_count": 13,
     "metadata": {},
     "output_type": "execute_result"
    }
   ],
   "source": [
    "np.round(np.mean(schedule_metrics), 0)"
   ]
  },
  {
   "cell_type": "code",
   "execution_count": 14,
   "id": "f532a0ef-ac0b-423a-af66-383e1503496a",
   "metadata": {},
   "outputs": [
    {
     "data": {
      "text/plain": [
       "4820.0"
      ]
     },
     "execution_count": 14,
     "metadata": {},
     "output_type": "execute_result"
    }
   ],
   "source": [
    "np.round(np.mean(speed_metrics), 0)"
   ]
  },
  {
   "cell_type": "code",
   "execution_count": 17,
   "id": "b9f4c9f2-dd0a-47b7-9e7a-0757c15da0c4",
   "metadata": {},
   "outputs": [
    {
     "data": {
      "text/plain": [
       "numpy.datetime64('2022-05-04')"
      ]
     },
     "execution_count": 17,
     "metadata": {},
     "output_type": "execute_result"
    }
   ],
   "source": [
    "date_range[4]"
   ]
  },
  {
   "cell_type": "code",
   "execution_count": 19,
   "id": "6dcf613b-9e19-47f9-89db-ea83c4ab4e38",
   "metadata": {},
   "outputs": [
    {
     "name": "stdout",
     "output_type": "stream",
     "text": [
      "found parquet\n"
     ]
    }
   ],
   "source": [
    "rt_day = rt_filter_map_plot.from_gcs(itp_id, date_range[4].astype(dt.date), pbar)"
   ]
  },
  {
   "cell_type": "code",
   "execution_count": 22,
   "id": "a94975e0-7d14-4793-b522-278664269d35",
   "metadata": {},
   "outputs": [
    {
     "data": {
      "text/plain": [
       "<rt_filter_map_plot.RtFilterMapper at 0x7f29f27e1e10>"
      ]
     },
     "execution_count": 22,
     "metadata": {},
     "output_type": "execute_result"
    }
   ],
   "source": [
    "rt_day"
   ]
  },
  {
   "cell_type": "code",
   "execution_count": 23,
   "id": "9677249f-0dd6-4d9a-be2e-5f75e7459ed5",
   "metadata": {},
   "outputs": [
    {
     "data": {
      "text/plain": [
       "<module 'rt_filter_map_plot' from '/home/jovyan/data-analyses/rt_delay/rt_filter_map_plot.py'>"
      ]
     },
     "execution_count": 23,
     "metadata": {},
     "output_type": "execute_result"
    }
   ],
   "source": [
    "importlib.reload(rt_filter_map_plot)"
   ]
  },
  {
   "cell_type": "code",
   "execution_count": 25,
   "id": "067c3ffc-183f-4781-8f92-2658322cfb57",
   "metadata": {},
   "outputs": [],
   "source": [
    "rt_day.add_corridor(corridor)"
   ]
  },
  {
   "cell_type": "code",
   "execution_count": 39,
   "id": "81d448cd-e3e4-41de-8b3b-73679ee561ce",
   "metadata": {},
   "outputs": [],
   "source": [
    "# rt_filter_map_plot.RtFilterMapper.quick_map_corridor(rt_day)"
   ]
  },
  {
   "cell_type": "code",
   "execution_count": 27,
   "id": "bf2efb2a-2ff1-434a-9a82-946583f8f0c5",
   "metadata": {},
   "outputs": [
    {
     "data": {
      "text/plain": [
       "array(['801', '73', '10', '41', '45', '1T', '90', '840', '40'],\n",
       "      dtype=object)"
      ]
     },
     "execution_count": 27,
     "metadata": {},
     "output_type": "execute_result"
    }
   ],
   "source": [
    "(rt_day.stop_delay_view >> filter(_.corridor)).route_short_name.unique()"
   ]
  },
  {
   "cell_type": "code",
   "execution_count": 35,
   "id": "e280d78e-6926-4160-a8f6-0c7a231dd356",
   "metadata": {},
   "outputs": [],
   "source": [
    "rt_day.set_filter(start_time = '06:00', end_time = '09:00')"
   ]
  },
  {
   "cell_type": "code",
   "execution_count": 36,
   "id": "9cf9e9cb-fa9f-4336-b4cb-72fbd875af37",
   "metadata": {},
   "outputs": [],
   "source": [
    "_m = rt_filter_map_plot.RtFilterMapper.segment_speed_map(rt_day, corridor=True)"
   ]
  },
  {
   "cell_type": "code",
   "execution_count": 40,
   "id": "b52a8009-387e-442f-a067-9913f5997535",
   "metadata": {},
   "outputs": [],
   "source": [
    "# _m"
   ]
  },
  {
   "cell_type": "code",
   "execution_count": 38,
   "id": "a27d641b-e816-4837-ba21-fcd1090bced8",
   "metadata": {},
   "outputs": [],
   "source": [
    "_m.save('corridor_speedmap.html')"
   ]
  }
 ],
 "metadata": {
  "kernelspec": {
   "display_name": "Python 3 (ipykernel)",
   "language": "python",
   "name": "python3"
  },
  "language_info": {
   "codemirror_mode": {
    "name": "ipython",
    "version": 3
   },
   "file_extension": ".py",
   "mimetype": "text/x-python",
   "name": "python",
   "nbconvert_exporter": "python",
   "pygments_lexer": "ipython3",
   "version": "3.10.5"
  }
 },
 "nbformat": 4,
 "nbformat_minor": 5
}
