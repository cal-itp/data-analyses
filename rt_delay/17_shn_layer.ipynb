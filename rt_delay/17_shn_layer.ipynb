{
 "cells": [
  {
   "cell_type": "code",
   "execution_count": 1,
   "id": "6fa4f641-0434-4d01-aea8-ca0b8d02e031",
   "metadata": {},
   "outputs": [
    {
     "name": "stderr",
     "output_type": "stream",
     "text": [
      "/opt/conda/lib/python3.9/site-packages/geopandas/_compat.py:111: UserWarning: The Shapely GEOS version (3.10.2-CAPI-1.16.0) is incompatible with the GEOS version PyGEOS was compiled with (3.10.1-CAPI-1.16.0). Conversions between both will be slow.\n",
      "  warnings.warn(\n",
      "E0411 21:34:47.080355053     973 fork_posix.cc:70]           Fork support is only compatible with the epoll1 and poll polling strategies\n",
      "E0411 21:34:51.400946221     973 fork_posix.cc:70]           Fork support is only compatible with the epoll1 and poll polling strategies\n"
     ]
    }
   ],
   "source": [
    "import os\n",
    "os.environ[\"CALITP_BQ_MAX_BYTES\"] = str(800_000_000_000)\n",
    "import shared_utils\n",
    "import utils\n",
    "\n",
    "from siuba import *\n",
    "import pandas as pd\n",
    "import geopandas as gpd\n",
    "\n",
    "import datetime as dt\n",
    "\n",
    "import importlib\n",
    "import rt_filter_map_plot"
   ]
  },
  {
   "cell_type": "code",
   "execution_count": 2,
   "id": "aafe0ff0-1712-4d7c-bb98-95d7e2fc1040",
   "metadata": {},
   "outputs": [],
   "source": [
    "shn = gpd.read_parquet(f'{utils.BUS_GCS_FILE_PATH}state_highway_network.parquet')"
   ]
  },
  {
   "cell_type": "code",
   "execution_count": 18,
   "id": "eeae7abd-ad86-4c31-b02b-cd6af7605bf7",
   "metadata": {},
   "outputs": [],
   "source": [
    "shn_proj = shn.to_crs(shared_utils.geography_utils.CA_NAD83Albers)\n",
    "shn_proj.geometry = shn_proj.buffer(40)"
   ]
  },
  {
   "cell_type": "code",
   "execution_count": 19,
   "id": "593fa6c5-d3c4-490f-a4f1-c1109cfb8cab",
   "metadata": {},
   "outputs": [],
   "source": [
    "shn_to_map = shn_proj.to_crs(shared_utils.geography_utils.WGS84)"
   ]
  },
  {
   "cell_type": "code",
   "execution_count": 3,
   "id": "288bd047-e7e5-4423-b57b-be33252ef22d",
   "metadata": {
    "tags": [
     "parameters"
    ]
   },
   "outputs": [],
   "source": [
    "## parameters cell\n",
    "itp_id = 300"
   ]
  },
  {
   "cell_type": "code",
   "execution_count": 4,
   "id": "65b65ce9-5870-48ec-ae56-2424141bcc94",
   "metadata": {},
   "outputs": [],
   "source": [
    "analysis_date = dt.date(2022, 3, 30) ##TODO shift to Mar 30 for all?"
   ]
  },
  {
   "cell_type": "code",
   "execution_count": 5,
   "id": "5e7586a5-6d76-472f-9928-bb479297a72a",
   "metadata": {
    "tags": []
   },
   "outputs": [],
   "source": [
    "trips = pd.read_parquet(f'{utils.GCS_FILE_PATH}rt_trips/{itp_id}_03_30.parquet')"
   ]
  },
  {
   "cell_type": "code",
   "execution_count": 6,
   "id": "32af68ef-dbfc-4c2d-841f-8c74aacb3daa",
   "metadata": {
    "tags": []
   },
   "outputs": [],
   "source": [
    "stop_delay = gpd.read_parquet(f'{utils.GCS_FILE_PATH}stop_delay_views/{itp_id}_03_30.parquet')\n",
    "stop_delay['arrival_time'] = stop_delay.arrival_time.map(lambda x: dt.datetime.fromisoformat(x))\n",
    "stop_delay['actual_time'] = stop_delay.actual_time.map(lambda x: dt.datetime.fromisoformat(x))"
   ]
  },
  {
   "cell_type": "code",
   "execution_count": 8,
   "id": "d3efaae1-3117-4dfe-9f1b-66fa74545ef9",
   "metadata": {
    "tags": []
   },
   "outputs": [],
   "source": [
    "%%capture\n",
    "routelines = utils.get_routelines(itp_id, analysis_date)"
   ]
  },
  {
   "cell_type": "code",
   "execution_count": 9,
   "id": "77b024d5-f1cc-4f05-93cb-1b5a99a84046",
   "metadata": {},
   "outputs": [],
   "source": [
    "%%capture\n",
    "rt_day = rt_filter_map_plot.RtFilterMapper(trips, stop_delay, routelines)"
   ]
  },
  {
   "cell_type": "code",
   "execution_count": 20,
   "id": "a1eadfc8-3572-4e8a-9221-74f899528bcb",
   "metadata": {},
   "outputs": [],
   "source": [
    "rt_day.shn_gdf = shn_to_map"
   ]
  },
  {
   "cell_type": "code",
   "execution_count": 21,
   "id": "d9d9fce0-515b-4f05-ad18-9e8806e72ec8",
   "metadata": {},
   "outputs": [],
   "source": [
    "%%capture\n",
    "rt_day.set_filter(start_time='15:00', end_time='19:00')"
   ]
  },
  {
   "cell_type": "code",
   "execution_count": 22,
   "id": "3bbea28e-5bc7-40db-87dd-3f90cb61b32b",
   "metadata": {
    "tags": []
   },
   "outputs": [
    {
     "name": "stdout",
     "output_type": "stream",
     "text": [
      "speed above 80 for shape 25944, dropping\n",
      "negative speed for shape 25920, dropping\n",
      "speed above 80 for shape 25877, dropping\n"
     ]
    },
    {
     "name": "stderr",
     "output_type": "stream",
     "text": [
      "/opt/conda/lib/python3.9/site-packages/shapely/ops.py:634: ShapelyDeprecationWarning: GeometryTypeError will derive from ShapelyError and not TypeError or ValueError in Shapely 2.0.\n",
      "/home/jovyan/data-analyses/rt_delay/rt_filter_map_plot.py:243: UserWarning: Geometry is in a geographic CRS. Results from 'centroid' are likely incorrect. Use 'GeoSeries.to_crs()' to re-project geometries to a projected CRS before this operation.\n",
      "\n"
     ]
    }
   ],
   "source": [
    "m = rt_day.segment_speed_map(how='low_speeds')"
   ]
  },
  {
   "cell_type": "code",
   "execution_count": 1,
   "id": "5ea8434d-7a7f-45f0-b376-82a98c1888ba",
   "metadata": {},
   "outputs": [],
   "source": [
    "# m"
   ]
  },
  {
   "cell_type": "code",
   "execution_count": 2,
   "id": "634fca28-8298-4c9d-a888-d0a9f20e68f9",
   "metadata": {},
   "outputs": [
    {
     "ename": "NameError",
     "evalue": "name 'ZERO_THIRTY_COLORSCALE' is not defined",
     "output_type": "error",
     "traceback": [
      "\u001b[0;31m---------------------------------------------------------------------------\u001b[0m",
      "\u001b[0;31mNameError\u001b[0m                                 Traceback (most recent call last)",
      "Input \u001b[0;32mIn [2]\u001b[0m, in \u001b[0;36m<cell line: 1>\u001b[0;34m()\u001b[0m\n\u001b[1;32m      1\u001b[0m \u001b[38;5;28;01mdef\u001b[39;00m \u001b[38;5;21m_show_speed_map\u001b[39m(\u001b[38;5;28mself\u001b[39m, how \u001b[38;5;241m=\u001b[39m \u001b[38;5;124m'\u001b[39m\u001b[38;5;124maverage\u001b[39m\u001b[38;5;124m'\u001b[39m,\n\u001b[0;32m----> 2\u001b[0m                       colorscale \u001b[38;5;241m=\u001b[39m \u001b[43mZERO_THIRTY_COLORSCALE\u001b[49m, size \u001b[38;5;241m=\u001b[39m [\u001b[38;5;241m900\u001b[39m, \u001b[38;5;241m550\u001b[39m]):\n\u001b[1;32m      4\u001b[0m     gdf \u001b[38;5;241m=\u001b[39m \u001b[38;5;28mself\u001b[39m\u001b[38;5;241m.\u001b[39mstop_segment_speed_view\u001b[38;5;241m.\u001b[39mcopy()\n\u001b[1;32m      5\u001b[0m     \u001b[38;5;66;03m# gdf = self._filter(gdf)\u001b[39;00m\n\u001b[1;32m      6\u001b[0m     \u001b[38;5;66;03m# print(gdf.dtypes)\u001b[39;00m\n",
      "\u001b[0;31mNameError\u001b[0m: name 'ZERO_THIRTY_COLORSCALE' is not defined"
     ]
    }
   ],
   "source": [
    "def _show_speed_map(self, how = 'average',\n",
    "                      colorscale = ZERO_THIRTY_COLORSCALE, size = [900, 550]):\n",
    "\n",
    "    gdf = self.stop_segment_speed_view.copy()\n",
    "    # gdf = self._filter(gdf)\n",
    "    # print(gdf.dtypes)\n",
    "    singletrip = gdf.trip_id.nunique() == 1\n",
    "    gdf = gdf >> distinct(_.shape_id, _.stop_sequence, _keep_all=True) ## essential here for reasonable map size!\n",
    "    orig_rows = gdf.shape[0]\n",
    "    gdf = gdf.round({'avg_mph': 1, '_20p_mph': 1, 'shape_meters': 0,\n",
    "                    'trips_per_hour': 1}) ##round for display\n",
    "\n",
    "    how_speed_col = {'average': 'avg_mph', 'low_speeds': '_20p_mph'}\n",
    "    how_formatted = {'average': 'Average', 'low_speeds': '20th Percentile'}\n",
    "\n",
    "    gdf = gdf >> select(-_.service_date)\n",
    "    gdf = gdf >> arrange(_.trips_per_hour)\n",
    "    gdf = gdf.set_crs(CA_NAD83Albers)\n",
    "\n",
    "    ## shift to right side of road to display direction\n",
    "    gdf.geometry = gdf.geometry.apply(try_parallel)\n",
    "    self.detailed_map_view = gdf.copy()\n",
    "    ## create clips, integrate buffer+simplify?\n",
    "    gdf.geometry = gdf.geometry.apply(arrowize_segment).simplify(tolerance=5)\n",
    "    gdf = gdf >> filter(gdf.geometry.is_valid)\n",
    "    gdf = gdf >> filter(-gdf.geometry.is_empty)\n",
    "\n",
    "    assert gdf.shape[0] >= orig_rows*.99, 'over 1% of geometries invalid after buffer+simplify'\n",
    "    gdf = gdf.to_crs(WGS84)\n",
    "    centroid = gdf.dissolve().centroid \n",
    "    name = self.calitp_agency_name\n",
    "\n",
    "    popup_dict = {\n",
    "        how_speed_col[how]: \"Speed (miles per hour)\",\n",
    "        \"shape_meters\": \"Distance along route (meters)\",\n",
    "        \"route_short_name\": \"Route\",\n",
    "        \"shape_id\": \"Shape ID\",\n",
    "        \"direction_id\": \"Direction ID\",\n",
    "        \"stop_id\": \"Next Stop ID\",\n",
    "        \"stop_sequence\": \"Next Stop Sequence\",\n",
    "        \"trips_per_hour\": \"Trips per Hour\" \n",
    "    }\n",
    "    if singletrip:\n",
    "        popup_dict[\"delay_seconds\"] = \"Current Delay (seconds)\"\n",
    "        popup_dict[\"delay_chg_sec\"] = \"Change in Delay (seconds)\"\n",
    "\n",
    "    # g = make_folium_choropleth_map(\n",
    "    #     gdf,\n",
    "    #     plot_col = how_speed_col[how],\n",
    "    #     popup_dict = popup_dict,\n",
    "    #     tooltip_dict = popup_dict,\n",
    "    #     colorscale = colorscale,\n",
    "    #     fig_width = size[0], fig_height = size[1],\n",
    "    #     zoom = 13,\n",
    "    #     centroid = [centroid.y, centroid.x],\n",
    "    #     title=f\"{name} {how_formatted[how]} Vehicle Speeds Between Stops{self.filter_formatted}\",\n",
    "    #     legend_name = \"Speed (miles per hour)\",\n",
    "    #     highlight_function=lambda x: {\n",
    "    #         'fillColor': '#DD1C77',\n",
    "    #         \"fillOpacity\": 0.6,\n",
    "    #     }\n",
    "    # )\n",
    "    shn_dict = {'Route': 'Route', 'District': 'District'}\n",
    "\n",
    "    LAYERS_DICT = {\n",
    "        \"Bus Speeds\": {'df': gdf,\n",
    "                    'plot_col': how_speed_col[how],\n",
    "                    'popup_dict': popup_dict,\n",
    "                    'tooltip_dict': popup_dict,\n",
    "                    'colorscale': colorscale, \n",
    "        },\n",
    "        \"State Highway Network\": {'df': self.shn_gdf,\n",
    "                                  'plot_col': 'Route',\n",
    "                                  'popup_dict': shn_dict,\n",
    "                                  'tooltip_dict': shn_dict,\n",
    "                                  'colorscale': lambda x: shared_utils.calitp_color_palette.CALITP_CATEGORY_BRIGHT_COLORS[0]\n",
    "        }\n",
    "    }\n",
    "\n",
    "    g = make_folium_multiple_layers_map(\n",
    "        LAYERS_DICT,\n",
    "        fig_width = size[0], fig_height = size[1],\n",
    "        zoom = 13,\n",
    "        centroid = [centroid.y, centroid.x],\n",
    "        title=f\"{name} {how_formatted[how]} Vehicle Speeds Between Stops{self.filter_formatted}\",\n",
    "        legend_name = \"Speed (miles per hour)\",\n",
    "        highlight_function=lambda x: {\n",
    "            'fillColor': '#DD1C77',\n",
    "            \"fillOpacity\": 0.6,\n",
    "        }\n",
    "    )\n",
    "\n",
    "    return g  "
   ]
  }
 ],
 "metadata": {
  "kernelspec": {
   "display_name": "Python 3 (ipykernel)",
   "language": "python",
   "name": "python3"
  },
  "language_info": {
   "codemirror_mode": {
    "name": "ipython",
    "version": 3
   },
   "file_extension": ".py",
   "mimetype": "text/x-python",
   "name": "python",
   "nbconvert_exporter": "python",
   "pygments_lexer": "ipython3",
   "version": "3.9.10"
  }
 },
 "nbformat": 4,
 "nbformat_minor": 5
}
