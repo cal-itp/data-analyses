{
 "cells": [
  {
   "cell_type": "code",
   "execution_count": 2,
   "id": "6c59e820-4a5a-47ac-b65c-8704b50ded8f",
   "metadata": {},
   "outputs": [
    {
     "name": "stderr",
     "output_type": "stream",
     "text": [
      "/opt/conda/lib/python3.10/site-packages/geopandas/_compat.py:111: UserWarning: The Shapely GEOS version (3.10.2-CAPI-1.16.0) is incompatible with the GEOS version PyGEOS was compiled with (3.10.1-CAPI-1.16.0). Conversions between both will be slow.\n",
      "  warnings.warn(\n"
     ]
    }
   ],
   "source": [
    "from calitp.tables import tbl\n",
    "from calitp import query_sql\n",
    "import calitp.magics\n",
    "import seaborn as sns\n",
    "\n",
    "import shared_utils\n",
    "import os\n",
    "\n",
    "from siuba import *\n",
    "import pandas as pd\n",
    "import geopandas as gpd\n",
    "import shapely\n",
    "\n",
    "import datetime as dt\n",
    "import time\n",
    "from zoneinfo import ZoneInfo\n",
    "\n",
    "import rt_analysis as rt\n",
    "import rt_filter_map_plot\n",
    "\n",
    "import gcsfs\n",
    "fs = gcsfs.GCSFileSystem()"
   ]
  },
  {
   "cell_type": "markdown",
   "id": "8f2a7a7f-2f8d-4dbb-ab63-bc5272c3de3e",
   "metadata": {},
   "source": [
    "# May 4"
   ]
  },
  {
   "cell_type": "code",
   "execution_count": 8,
   "id": "668b4e9e-5d93-44c0-92f4-1dec83016f8b",
   "metadata": {},
   "outputs": [],
   "source": [
    "working_organizations = pd.read_parquet('./2022-05-04_working_organizations.parquet')"
   ]
  },
  {
   "cell_type": "code",
   "execution_count": 9,
   "id": "cd80e870-a82b-49fb-835b-4453803d3d13",
   "metadata": {},
   "outputs": [],
   "source": [
    "def aggregate_endpoint_delays(working_organizations):\n",
    "    endpoint_delay_all = pd.DataFrame()\n",
    "    for _ix, operator in working_organizations.iterrows():\n",
    "        itp_id = operator.itp_id\n",
    "        analysis_date = operator.analysis_date\n",
    "        rt_day = rt_filter_map_plot.from_gcs(itp_id, analysis_date)\n",
    "        df = rt_day.endpoint_delay_view\n",
    "        df['calitp_itp_id'] = itp_id\n",
    "        endpoint_delay_all = pd.concat([endpoint_delay_all, df])\n",
    "    return endpoint_delay_all"
   ]
  },
  {
   "cell_type": "code",
   "execution_count": 10,
   "id": "93467be2-2e57-402e-aa6b-49019881c736",
   "metadata": {
    "collapsed": true,
    "jupyter": {
     "outputs_hidden": true
    },
    "tags": []
   },
   "outputs": [
    {
     "name": "stdout",
     "output_type": "stream",
     "text": [
      "found parquet\n",
      "found parquet\n",
      "found parquet\n",
      "found parquet\n",
      "found parquet\n",
      "found parquet\n",
      "found parquet\n",
      "found parquet\n",
      "found parquet\n",
      "found parquet\n",
      "found parquet\n",
      "found parquet\n",
      "found parquet\n",
      "found parquet\n",
      "found parquet\n",
      "found parquet\n",
      "found parquet\n",
      "found parquet\n",
      "found parquet\n",
      "found parquet\n",
      "found parquet\n",
      "found parquet\n",
      "found parquet\n",
      "found parquet\n",
      "found parquet\n",
      "found parquet\n",
      "found parquet\n",
      "found parquet\n",
      "found parquet\n",
      "found parquet\n",
      "found parquet\n",
      "found parquet\n",
      "found parquet\n",
      "found parquet\n",
      "found parquet\n",
      "found parquet\n",
      "found parquet\n",
      "found parquet\n",
      "found parquet\n",
      "found parquet\n",
      "found parquet\n",
      "found parquet\n",
      "found parquet\n",
      "found parquet\n",
      "found parquet\n",
      "found parquet\n"
     ]
    }
   ],
   "source": [
    "may_endpoint_delays = aggregate_endpoint_delays(working_organizations)"
   ]
  },
  {
   "cell_type": "code",
   "execution_count": 11,
   "id": "6d3da629-1973-45db-a3cc-2abb8a15142e",
   "metadata": {
    "tags": []
   },
   "outputs": [
    {
     "data": {
      "text/html": [
       "<div>\n",
       "<style scoped>\n",
       "    .dataframe tbody tr th:only-of-type {\n",
       "        vertical-align: middle;\n",
       "    }\n",
       "\n",
       "    .dataframe tbody tr th {\n",
       "        vertical-align: top;\n",
       "    }\n",
       "\n",
       "    .dataframe thead th {\n",
       "        text-align: right;\n",
       "    }\n",
       "</style>\n",
       "<table border=\"1\" class=\"dataframe\">\n",
       "  <thead>\n",
       "    <tr style=\"text-align: right;\">\n",
       "      <th></th>\n",
       "      <th>stop_id</th>\n",
       "      <th>stop_name</th>\n",
       "      <th>geometry</th>\n",
       "      <th>shape_id</th>\n",
       "      <th>shape_meters</th>\n",
       "      <th>trip_key</th>\n",
       "      <th>trip_id</th>\n",
       "      <th>stop_sequence</th>\n",
       "      <th>arrival_time</th>\n",
       "      <th>route_id</th>\n",
       "      <th>route_short_name</th>\n",
       "      <th>direction_id</th>\n",
       "      <th>actual_time</th>\n",
       "      <th>delay_seconds</th>\n",
       "      <th>arrival_hour</th>\n",
       "      <th>mean_speed_mph</th>\n",
       "      <th>calitp_itp_id</th>\n",
       "    </tr>\n",
       "  </thead>\n",
       "  <tbody>\n",
       "    <tr>\n",
       "      <th>0</th>\n",
       "      <td>1264</td>\n",
       "      <td>Valley West Blvd (McDonald's)</td>\n",
       "      <td>POINT (-344115.782 328111.975)</td>\n",
       "      <td>p_414</td>\n",
       "      <td>4771.239431</td>\n",
       "      <td>-7990274345177526504</td>\n",
       "      <td>t_2062941_b_33847_tn_0</td>\n",
       "      <td>2</td>\n",
       "      <td>2022-05-04 08:30:00</td>\n",
       "      <td>8</td>\n",
       "      <td>None</td>\n",
       "      <td>0</td>\n",
       "      <td>2022-05-04 08:32:16.495633</td>\n",
       "      <td>136</td>\n",
       "      <td>8</td>\n",
       "      <td>32.987869</td>\n",
       "      <td>135</td>\n",
       "    </tr>\n",
       "    <tr>\n",
       "      <th>1</th>\n",
       "      <td>2506</td>\n",
       "      <td>14th &amp; B (Westbound)</td>\n",
       "      <td>POINT (-343909.882 324668.740)</td>\n",
       "      <td>p_178062</td>\n",
       "      <td>29131.187045</td>\n",
       "      <td>-8027813218054477157</td>\n",
       "      <td>t_2062905_b_33847_tn_0</td>\n",
       "      <td>12</td>\n",
       "      <td>2022-05-04 13:36:00</td>\n",
       "      <td>33023</td>\n",
       "      <td>RTS</td>\n",
       "      <td>0</td>\n",
       "      <td>2022-05-04 13:38:13.166273</td>\n",
       "      <td>133</td>\n",
       "      <td>13</td>\n",
       "      <td>21.798080</td>\n",
       "      <td>135</td>\n",
       "    </tr>\n",
       "    <tr>\n",
       "      <th>2</th>\n",
       "      <td>2506</td>\n",
       "      <td>14th &amp; B (Westbound)</td>\n",
       "      <td>POINT (-343909.882 324668.740)</td>\n",
       "      <td>p_178062</td>\n",
       "      <td>29131.187045</td>\n",
       "      <td>1445152742703914407</td>\n",
       "      <td>t_2062906_b_33847_tn_0</td>\n",
       "      <td>12</td>\n",
       "      <td>2022-05-04 14:39:00</td>\n",
       "      <td>33023</td>\n",
       "      <td>RTS</td>\n",
       "      <td>0</td>\n",
       "      <td>2022-05-04 14:39:33.414093</td>\n",
       "      <td>33</td>\n",
       "      <td>14</td>\n",
       "      <td>26.569880</td>\n",
       "      <td>135</td>\n",
       "    </tr>\n",
       "  </tbody>\n",
       "</table>\n",
       "</div>"
      ],
      "text/plain": [
       "  stop_id                      stop_name                        geometry  \\\n",
       "0    1264  Valley West Blvd (McDonald's)  POINT (-344115.782 328111.975)   \n",
       "1    2506           14th & B (Westbound)  POINT (-343909.882 324668.740)   \n",
       "2    2506           14th & B (Westbound)  POINT (-343909.882 324668.740)   \n",
       "\n",
       "   shape_id  shape_meters             trip_key                 trip_id  \\\n",
       "0     p_414   4771.239431 -7990274345177526504  t_2062941_b_33847_tn_0   \n",
       "1  p_178062  29131.187045 -8027813218054477157  t_2062905_b_33847_tn_0   \n",
       "2  p_178062  29131.187045  1445152742703914407  t_2062906_b_33847_tn_0   \n",
       "\n",
       "   stop_sequence        arrival_time route_id route_short_name direction_id  \\\n",
       "0              2 2022-05-04 08:30:00        8             None            0   \n",
       "1             12 2022-05-04 13:36:00    33023              RTS            0   \n",
       "2             12 2022-05-04 14:39:00    33023              RTS            0   \n",
       "\n",
       "                 actual_time  delay_seconds  arrival_hour  mean_speed_mph  \\\n",
       "0 2022-05-04 08:32:16.495633            136             8       32.987869   \n",
       "1 2022-05-04 13:38:13.166273            133            13       21.798080   \n",
       "2 2022-05-04 14:39:33.414093             33            14       26.569880   \n",
       "\n",
       "   calitp_itp_id  \n",
       "0            135  \n",
       "1            135  \n",
       "2            135  "
      ]
     },
     "execution_count": 11,
     "metadata": {},
     "output_type": "execute_result"
    }
   ],
   "source": [
    "may_endpoint_delays >> head(3)"
   ]
  },
  {
   "cell_type": "code",
   "execution_count": 24,
   "id": "0bd78754-3d1b-4056-aca7-b911512e9ddd",
   "metadata": {},
   "outputs": [
    {
     "data": {
      "text/plain": [
       "5177.317222222222"
      ]
     },
     "execution_count": 24,
     "metadata": {},
     "output_type": "execute_result"
    }
   ],
   "source": [
    "may_delay_hours = may_endpoint_delays.delay_seconds.sum() / 60 ** 2\n",
    "may_delay_hours"
   ]
  },
  {
   "cell_type": "code",
   "execution_count": 25,
   "id": "accfd1c2-0890-4273-b71a-6f4bd81ada46",
   "metadata": {},
   "outputs": [
    {
     "data": {
      "text/plain": [
       "0.0949792188996922"
      ]
     },
     "execution_count": 25,
     "metadata": {},
     "output_type": "execute_result"
    }
   ],
   "source": [
    "may_delay_hours / may_endpoint_delays.shape[0]"
   ]
  },
  {
   "cell_type": "markdown",
   "id": "120dfebf-06d2-4da3-a9ca-2d41b52801a5",
   "metadata": {},
   "source": [
    "# Feb 8"
   ]
  },
  {
   "cell_type": "code",
   "execution_count": 13,
   "id": "07947a5c-8b5d-4e09-914c-58ae231dd2df",
   "metadata": {},
   "outputs": [],
   "source": [
    "working_organizations = pd.read_parquet('./2022-02-08_working_organizations.parquet')"
   ]
  },
  {
   "cell_type": "code",
   "execution_count": 15,
   "id": "ed0c38fa-66f0-4679-b722-d554bfc50313",
   "metadata": {
    "collapsed": true,
    "jupyter": {
     "outputs_hidden": true
    },
    "tags": []
   },
   "outputs": [
    {
     "name": "stdout",
     "output_type": "stream",
     "text": [
      "found parquet\n",
      "found parquet\n",
      "found parquet\n",
      "found parquet\n",
      "found parquet\n",
      "found parquet\n",
      "found parquet\n",
      "found parquet\n",
      "found parquet\n",
      "found parquet\n",
      "found parquet\n",
      "found parquet\n",
      "found parquet\n",
      "found parquet\n",
      "found parquet\n",
      "found parquet\n",
      "found parquet\n",
      "found parquet\n",
      "found parquet\n",
      "found parquet\n",
      "found parquet\n",
      "found parquet\n",
      "found parquet\n",
      "found parquet\n",
      "found parquet\n",
      "found parquet\n",
      "found parquet\n",
      "found parquet\n",
      "found parquet\n",
      "found parquet\n",
      "found parquet\n",
      "found parquet\n",
      "found parquet\n",
      "found parquet\n",
      "found parquet\n",
      "found parquet\n",
      "found parquet\n",
      "found parquet\n",
      "found parquet\n",
      "found parquet\n",
      "found parquet\n"
     ]
    }
   ],
   "source": [
    "feb_endpoint_delays = aggregate_endpoint_delays(working_organizations)"
   ]
  },
  {
   "cell_type": "code",
   "execution_count": 16,
   "id": "a4ea4c3d-aa96-43bf-b2f5-58475bc05801",
   "metadata": {
    "tags": []
   },
   "outputs": [
    {
     "data": {
      "text/html": [
       "<div>\n",
       "<style scoped>\n",
       "    .dataframe tbody tr th:only-of-type {\n",
       "        vertical-align: middle;\n",
       "    }\n",
       "\n",
       "    .dataframe tbody tr th {\n",
       "        vertical-align: top;\n",
       "    }\n",
       "\n",
       "    .dataframe thead th {\n",
       "        text-align: right;\n",
       "    }\n",
       "</style>\n",
       "<table border=\"1\" class=\"dataframe\">\n",
       "  <thead>\n",
       "    <tr style=\"text-align: right;\">\n",
       "      <th></th>\n",
       "      <th>stop_id</th>\n",
       "      <th>stop_name</th>\n",
       "      <th>geometry</th>\n",
       "      <th>shape_id</th>\n",
       "      <th>shape_meters</th>\n",
       "      <th>trip_key</th>\n",
       "      <th>trip_id</th>\n",
       "      <th>stop_sequence</th>\n",
       "      <th>arrival_time</th>\n",
       "      <th>route_id</th>\n",
       "      <th>route_short_name</th>\n",
       "      <th>direction_id</th>\n",
       "      <th>actual_time</th>\n",
       "      <th>delay_seconds</th>\n",
       "      <th>arrival_hour</th>\n",
       "      <th>mean_speed_mph</th>\n",
       "      <th>calitp_itp_id</th>\n",
       "    </tr>\n",
       "  </thead>\n",
       "  <tbody>\n",
       "    <tr>\n",
       "      <th>0</th>\n",
       "      <td>1264</td>\n",
       "      <td>Valley West Blvd (McDonald's)</td>\n",
       "      <td>POINT (-344115.784 328111.976)</td>\n",
       "      <td>p_530998</td>\n",
       "      <td>12463.119679</td>\n",
       "      <td>4231438015864381462</td>\n",
       "      <td>t_1229664_b_18361_tn_0</td>\n",
       "      <td>6</td>\n",
       "      <td>2022-02-08 16:45:00</td>\n",
       "      <td>12416</td>\n",
       "      <td>BLRTS</td>\n",
       "      <td>1</td>\n",
       "      <td>2022-02-08 16:41:01.997936</td>\n",
       "      <td>0</td>\n",
       "      <td>16</td>\n",
       "      <td>85.971007</td>\n",
       "      <td>135</td>\n",
       "    </tr>\n",
       "    <tr>\n",
       "      <th>1</th>\n",
       "      <td>1264</td>\n",
       "      <td>Valley West Blvd (McDonald's)</td>\n",
       "      <td>POINT (-344115.784 328111.976)</td>\n",
       "      <td>p_414</td>\n",
       "      <td>4768.171008</td>\n",
       "      <td>2215492193602828897</td>\n",
       "      <td>t_2062941_b_33847_tn_0</td>\n",
       "      <td>2</td>\n",
       "      <td>2022-02-08 08:30:00</td>\n",
       "      <td>8</td>\n",
       "      <td>None</td>\n",
       "      <td>1</td>\n",
       "      <td>2022-02-08 08:30:13.627436</td>\n",
       "      <td>13</td>\n",
       "      <td>8</td>\n",
       "      <td>39.181819</td>\n",
       "      <td>135</td>\n",
       "    </tr>\n",
       "    <tr>\n",
       "      <th>2</th>\n",
       "      <td>802640</td>\n",
       "      <td>Redcrest Off Ramp</td>\n",
       "      <td>POINT (-334985.395 271623.374)</td>\n",
       "      <td>p_179043</td>\n",
       "      <td>57567.272370</td>\n",
       "      <td>-7983805054614466631</td>\n",
       "      <td>t_2062926_b_33847_tn_0</td>\n",
       "      <td>12</td>\n",
       "      <td>2022-02-08 12:13:00</td>\n",
       "      <td>822</td>\n",
       "      <td>None</td>\n",
       "      <td>1</td>\n",
       "      <td>2022-02-08 12:15:49.925327</td>\n",
       "      <td>169</td>\n",
       "      <td>12</td>\n",
       "      <td>38.096445</td>\n",
       "      <td>135</td>\n",
       "    </tr>\n",
       "  </tbody>\n",
       "</table>\n",
       "</div>"
      ],
      "text/plain": [
       "  stop_id                      stop_name                        geometry  \\\n",
       "0    1264  Valley West Blvd (McDonald's)  POINT (-344115.784 328111.976)   \n",
       "1    1264  Valley West Blvd (McDonald's)  POINT (-344115.784 328111.976)   \n",
       "2  802640              Redcrest Off Ramp  POINT (-334985.395 271623.374)   \n",
       "\n",
       "   shape_id  shape_meters             trip_key                 trip_id  \\\n",
       "0  p_530998  12463.119679  4231438015864381462  t_1229664_b_18361_tn_0   \n",
       "1     p_414   4768.171008  2215492193602828897  t_2062941_b_33847_tn_0   \n",
       "2  p_179043  57567.272370 -7983805054614466631  t_2062926_b_33847_tn_0   \n",
       "\n",
       "   stop_sequence        arrival_time route_id route_short_name direction_id  \\\n",
       "0              6 2022-02-08 16:45:00    12416            BLRTS            1   \n",
       "1              2 2022-02-08 08:30:00        8             None            1   \n",
       "2             12 2022-02-08 12:13:00      822             None            1   \n",
       "\n",
       "                 actual_time  delay_seconds  arrival_hour  mean_speed_mph  \\\n",
       "0 2022-02-08 16:41:01.997936              0            16       85.971007   \n",
       "1 2022-02-08 08:30:13.627436             13             8       39.181819   \n",
       "2 2022-02-08 12:15:49.925327            169            12       38.096445   \n",
       "\n",
       "   calitp_itp_id  \n",
       "0            135  \n",
       "1            135  \n",
       "2            135  "
      ]
     },
     "execution_count": 16,
     "metadata": {},
     "output_type": "execute_result"
    }
   ],
   "source": [
    "feb_endpoint_delays >> head(3)"
   ]
  },
  {
   "cell_type": "code",
   "execution_count": 18,
   "id": "50dee990-4aee-4f0e-9998-745bc219f8b5",
   "metadata": {},
   "outputs": [
    {
     "data": {
      "text/plain": [
       "4647.175833333334"
      ]
     },
     "execution_count": 18,
     "metadata": {},
     "output_type": "execute_result"
    }
   ],
   "source": [
    "feb_delay_hours = feb_endpoint_delays.delay_seconds.sum() / 60 ** 2\n",
    "feb_delay_hours"
   ]
  },
  {
   "cell_type": "code",
   "execution_count": 20,
   "id": "1a2decbf-7dc7-4cef-8525-9b4b2d8075e2",
   "metadata": {},
   "outputs": [
    {
     "data": {
      "text/plain": [
       "0.11649977020138716"
      ]
     },
     "execution_count": 20,
     "metadata": {},
     "output_type": "execute_result"
    }
   ],
   "source": [
    "feb_delay_hours / feb_endpoint_delays.shape[0]"
   ]
  },
  {
   "cell_type": "markdown",
   "id": "de4410cb-aaf7-49d1-ad39-10090beba013",
   "metadata": {},
   "source": [
    "# Old"
   ]
  },
  {
   "cell_type": "code",
   "execution_count": 21,
   "id": "9269a7a0-dda5-4aed-9f16-a247b443563d",
   "metadata": {},
   "outputs": [],
   "source": [
    "endpoint_delay_all = pd.DataFrame()\n",
    "for operator_parquet in os.listdir('./endpoint_delay_views/'):\n",
    "    if operator_parquet == '.ipynb_checkpoints':\n",
    "        continue\n",
    "    calitp_itp_id = operator_parquet.split('_')[0]\n",
    "    df = gpd.read_parquet(f'./endpoint_delay_views/{operator_parquet}')\n",
    "    df['calitp_itp_id'] = int(calitp_itp_id)\n",
    "    endpoint_delay_all = pd.concat([endpoint_delay_all, df])"
   ]
  },
  {
   "cell_type": "code",
   "execution_count": 22,
   "id": "21641c04-83ce-4b6a-a6f6-54cdf9ece029",
   "metadata": {},
   "outputs": [
    {
     "data": {
      "text/html": [
       "<div>\n",
       "<style scoped>\n",
       "    .dataframe tbody tr th:only-of-type {\n",
       "        vertical-align: middle;\n",
       "    }\n",
       "\n",
       "    .dataframe tbody tr th {\n",
       "        vertical-align: top;\n",
       "    }\n",
       "\n",
       "    .dataframe thead th {\n",
       "        text-align: right;\n",
       "    }\n",
       "</style>\n",
       "<table border=\"1\" class=\"dataframe\">\n",
       "  <thead>\n",
       "    <tr style=\"text-align: right;\">\n",
       "      <th></th>\n",
       "      <th>stop_id</th>\n",
       "      <th>stop_name</th>\n",
       "      <th>geometry</th>\n",
       "      <th>shape_id</th>\n",
       "      <th>shape_meters</th>\n",
       "      <th>trip_key</th>\n",
       "      <th>trip_id</th>\n",
       "      <th>stop_sequence</th>\n",
       "      <th>arrival_time</th>\n",
       "      <th>route_id</th>\n",
       "      <th>direction_id</th>\n",
       "      <th>actual_time</th>\n",
       "      <th>arrival_hour</th>\n",
       "      <th>mean_speed_mph</th>\n",
       "      <th>delay_seconds</th>\n",
       "      <th>calitp_itp_id</th>\n",
       "    </tr>\n",
       "  </thead>\n",
       "  <tbody>\n",
       "    <tr>\n",
       "      <th>0</th>\n",
       "      <td>13171</td>\n",
       "      <td>Genesee Av &amp; La Jolla Village Dr</td>\n",
       "      <td>POINT (261001.239 -567362.657)</td>\n",
       "      <td>3010093</td>\n",
       "      <td>45232.728222</td>\n",
       "      <td>-1879550975976699090</td>\n",
       "      <td>16174935-NC2110-NCTD-Weekday-20</td>\n",
       "      <td>73</td>\n",
       "      <td>2022-02-08 07:43:00</td>\n",
       "      <td>301</td>\n",
       "      <td>1</td>\n",
       "      <td>2022-02-08 07:44:07.859503</td>\n",
       "      <td>7</td>\n",
       "      <td>18.560864</td>\n",
       "      <td>67</td>\n",
       "      <td>226</td>\n",
       "    </tr>\n",
       "    <tr>\n",
       "      <th>1</th>\n",
       "      <td>13171</td>\n",
       "      <td>Genesee Av &amp; La Jolla Village Dr</td>\n",
       "      <td>POINT (261001.239 -567362.657)</td>\n",
       "      <td>3010093</td>\n",
       "      <td>45232.728222</td>\n",
       "      <td>-7086145044901280522</td>\n",
       "      <td>16174928-NC2110-NCTD-Weekday-20</td>\n",
       "      <td>73</td>\n",
       "      <td>2022-02-08 18:59:00</td>\n",
       "      <td>301</td>\n",
       "      <td>1</td>\n",
       "      <td>2022-02-08 18:58:22.016938</td>\n",
       "      <td>18</td>\n",
       "      <td>15.325906</td>\n",
       "      <td>0</td>\n",
       "      <td>226</td>\n",
       "    </tr>\n",
       "    <tr>\n",
       "      <th>2</th>\n",
       "      <td>13171</td>\n",
       "      <td>Genesee Av &amp; La Jolla Village Dr</td>\n",
       "      <td>POINT (261001.239 -567362.657)</td>\n",
       "      <td>3010093</td>\n",
       "      <td>45232.728222</td>\n",
       "      <td>-2987294244121688089</td>\n",
       "      <td>16174910-NC2110-NCTD-Weekday-20</td>\n",
       "      <td>73</td>\n",
       "      <td>2022-02-08 12:27:00</td>\n",
       "      <td>301</td>\n",
       "      <td>1</td>\n",
       "      <td>2022-02-08 12:29:09.865643</td>\n",
       "      <td>12</td>\n",
       "      <td>15.733527</td>\n",
       "      <td>129</td>\n",
       "      <td>226</td>\n",
       "    </tr>\n",
       "    <tr>\n",
       "      <th>3</th>\n",
       "      <td>13171</td>\n",
       "      <td>Genesee Av &amp; La Jolla Village Dr</td>\n",
       "      <td>POINT (261001.239 -567362.657)</td>\n",
       "      <td>3010093</td>\n",
       "      <td>45232.728222</td>\n",
       "      <td>-1093749300821038708</td>\n",
       "      <td>16174906-NC2110-NCTD-Weekday-20</td>\n",
       "      <td>73</td>\n",
       "      <td>2022-02-08 22:15:00</td>\n",
       "      <td>301</td>\n",
       "      <td>1</td>\n",
       "      <td>2022-02-08 22:16:39.039018</td>\n",
       "      <td>22</td>\n",
       "      <td>17.243248</td>\n",
       "      <td>99</td>\n",
       "      <td>226</td>\n",
       "    </tr>\n",
       "    <tr>\n",
       "      <th>4</th>\n",
       "      <td>13171</td>\n",
       "      <td>Genesee Av &amp; La Jolla Village Dr</td>\n",
       "      <td>POINT (261001.239 -567362.657)</td>\n",
       "      <td>3010093</td>\n",
       "      <td>45232.728222</td>\n",
       "      <td>8517315111569206284</td>\n",
       "      <td>16174896-NC2110-NCTD-Weekday-20</td>\n",
       "      <td>73</td>\n",
       "      <td>2022-02-08 19:51:00</td>\n",
       "      <td>301</td>\n",
       "      <td>1</td>\n",
       "      <td>2022-02-08 19:48:15.121243</td>\n",
       "      <td>19</td>\n",
       "      <td>17.204731</td>\n",
       "      <td>0</td>\n",
       "      <td>226</td>\n",
       "    </tr>\n",
       "  </tbody>\n",
       "</table>\n",
       "</div>"
      ],
      "text/plain": [
       "  stop_id                         stop_name                        geometry  \\\n",
       "0   13171  Genesee Av & La Jolla Village Dr  POINT (261001.239 -567362.657)   \n",
       "1   13171  Genesee Av & La Jolla Village Dr  POINT (261001.239 -567362.657)   \n",
       "2   13171  Genesee Av & La Jolla Village Dr  POINT (261001.239 -567362.657)   \n",
       "3   13171  Genesee Av & La Jolla Village Dr  POINT (261001.239 -567362.657)   \n",
       "4   13171  Genesee Av & La Jolla Village Dr  POINT (261001.239 -567362.657)   \n",
       "\n",
       "  shape_id  shape_meters             trip_key  \\\n",
       "0  3010093  45232.728222 -1879550975976699090   \n",
       "1  3010093  45232.728222 -7086145044901280522   \n",
       "2  3010093  45232.728222 -2987294244121688089   \n",
       "3  3010093  45232.728222 -1093749300821038708   \n",
       "4  3010093  45232.728222  8517315111569206284   \n",
       "\n",
       "                           trip_id  stop_sequence        arrival_time  \\\n",
       "0  16174935-NC2110-NCTD-Weekday-20             73 2022-02-08 07:43:00   \n",
       "1  16174928-NC2110-NCTD-Weekday-20             73 2022-02-08 18:59:00   \n",
       "2  16174910-NC2110-NCTD-Weekday-20             73 2022-02-08 12:27:00   \n",
       "3  16174906-NC2110-NCTD-Weekday-20             73 2022-02-08 22:15:00   \n",
       "4  16174896-NC2110-NCTD-Weekday-20             73 2022-02-08 19:51:00   \n",
       "\n",
       "  route_id direction_id                actual_time  arrival_hour  \\\n",
       "0      301            1 2022-02-08 07:44:07.859503             7   \n",
       "1      301            1 2022-02-08 18:58:22.016938            18   \n",
       "2      301            1 2022-02-08 12:29:09.865643            12   \n",
       "3      301            1 2022-02-08 22:16:39.039018            22   \n",
       "4      301            1 2022-02-08 19:48:15.121243            19   \n",
       "\n",
       "   mean_speed_mph  delay_seconds  calitp_itp_id  \n",
       "0       18.560864             67            226  \n",
       "1       15.325906              0            226  \n",
       "2       15.733527            129            226  \n",
       "3       17.243248             99            226  \n",
       "4       17.204731              0            226  "
      ]
     },
     "execution_count": 22,
     "metadata": {},
     "output_type": "execute_result"
    }
   ],
   "source": [
    "endpoint_delay_all >> head(5)"
   ]
  },
  {
   "cell_type": "code",
   "execution_count": 23,
   "id": "6eb848ec-2524-4e6f-8fbf-55bd13ca723b",
   "metadata": {},
   "outputs": [
    {
     "data": {
      "text/plain": [
       "3338.7069444444446"
      ]
     },
     "execution_count": 23,
     "metadata": {},
     "output_type": "execute_result"
    }
   ],
   "source": [
    "endpoint_delay_all.delay_seconds.sum() / 60 ** 2 ## ~3340 hours of delay on a weekday, statewide"
   ]
  },
  {
   "cell_type": "code",
   "execution_count": 24,
   "id": "230f04dd-7905-4959-b280-92c04b1c5437",
   "metadata": {},
   "outputs": [],
   "source": [
    "gdf = shared_utils.utils.download_geoparquet(utils.BUS_GCS_FILE_PATH, \n",
    "                                             \"parallel_or_intersecting\")"
   ]
  },
  {
   "cell_type": "code",
   "execution_count": 25,
   "id": "b5178859-612a-4512-93a1-b2cf704e1b44",
   "metadata": {},
   "outputs": [],
   "source": [
    "parallel_routes = (gdf\n",
    "                   >> filter(_.pct_route >= .3)\n",
    "                   >> select(_.calitp_itp_id == _.itp_id, _.route_id)\n",
    "                   >> distinct(_.calitp_itp_id, _.route_id)\n",
    "                  )"
   ]
  },
  {
   "cell_type": "code",
   "execution_count": 26,
   "id": "bb708370-767a-437e-ac26-4def0636c603",
   "metadata": {},
   "outputs": [],
   "source": [
    "parallel_delays = (endpoint_delay_all\n",
    "                   >> inner_join(_, parallel_routes, on = ['calitp_itp_id', 'route_id'])\n",
    "                   >> distinct(_.calitp_itp_id, _.trip_id, _keep_all=True)\n",
    "                   ## ensure we don't duplicate delays...\n",
    "                   ## guessing these come partially from multiple url numbers/aggregation in RT tools?\n",
    "                  )"
   ]
  },
  {
   "cell_type": "code",
   "execution_count": 27,
   "id": "8fd74acd-5d76-4180-93f7-ff7b477aeb2c",
   "metadata": {},
   "outputs": [
    {
     "data": {
      "text/plain": [
       "1745.3352777777777"
      ]
     },
     "execution_count": 27,
     "metadata": {},
     "output_type": "execute_result"
    }
   ],
   "source": [
    "parallel_delays.delay_seconds.sum() / 60 ** 2"
   ]
  },
  {
   "cell_type": "code",
   "execution_count": 28,
   "id": "062c5a3f-fb97-419c-b83b-ccaf841b2075",
   "metadata": {},
   "outputs": [
    {
     "data": {
      "text/plain": [
       "True"
      ]
     },
     "execution_count": 28,
     "metadata": {},
     "output_type": "execute_result"
    }
   ],
   "source": [
    "parallel_delays.route_id.isin(gdf.route_id).all() ## looks good"
   ]
  },
  {
   "cell_type": "markdown",
   "id": "e1e54b22-eea6-4288-afcc-1d03bbdeaa6b",
   "metadata": {},
   "source": [
    "#### what about parallel routes without RT data?"
   ]
  },
  {
   "cell_type": "code",
   "execution_count": 29,
   "id": "528a1823-4ac9-43e5-8a38-8df7b50c2798",
   "metadata": {},
   "outputs": [
    {
     "data": {
      "text/html": [
       "<div>\n",
       "<style scoped>\n",
       "    .dataframe tbody tr th:only-of-type {\n",
       "        vertical-align: middle;\n",
       "    }\n",
       "\n",
       "    .dataframe tbody tr th {\n",
       "        vertical-align: top;\n",
       "    }\n",
       "\n",
       "    .dataframe thead th {\n",
       "        text-align: right;\n",
       "    }\n",
       "</style>\n",
       "<table border=\"1\" class=\"dataframe\">\n",
       "  <thead>\n",
       "    <tr style=\"text-align: right;\">\n",
       "      <th></th>\n",
       "      <th>calitp_itp_id</th>\n",
       "      <th>route_id</th>\n",
       "    </tr>\n",
       "  </thead>\n",
       "  <tbody>\n",
       "    <tr>\n",
       "      <th>0</th>\n",
       "      <td>4</td>\n",
       "      <td>10</td>\n",
       "    </tr>\n",
       "    <tr>\n",
       "      <th>1</th>\n",
       "      <td>4</td>\n",
       "      <td>12</td>\n",
       "    </tr>\n",
       "    <tr>\n",
       "      <th>2</th>\n",
       "      <td>4</td>\n",
       "      <td>14</td>\n",
       "    </tr>\n",
       "    <tr>\n",
       "      <th>3</th>\n",
       "      <td>4</td>\n",
       "      <td>18</td>\n",
       "    </tr>\n",
       "    <tr>\n",
       "      <th>4</th>\n",
       "      <td>4</td>\n",
       "      <td>19</td>\n",
       "    </tr>\n",
       "    <tr>\n",
       "      <th>...</th>\n",
       "      <td>...</td>\n",
       "      <td>...</td>\n",
       "    </tr>\n",
       "    <tr>\n",
       "      <th>3103</th>\n",
       "      <td>482</td>\n",
       "      <td>30</td>\n",
       "    </tr>\n",
       "    <tr>\n",
       "      <th>3104</th>\n",
       "      <td>482</td>\n",
       "      <td>31</td>\n",
       "    </tr>\n",
       "    <tr>\n",
       "      <th>3105</th>\n",
       "      <td>482</td>\n",
       "      <td>32</td>\n",
       "    </tr>\n",
       "    <tr>\n",
       "      <th>3106</th>\n",
       "      <td>482</td>\n",
       "      <td>7</td>\n",
       "    </tr>\n",
       "    <tr>\n",
       "      <th>3107</th>\n",
       "      <td>482</td>\n",
       "      <td>9</td>\n",
       "    </tr>\n",
       "  </tbody>\n",
       "</table>\n",
       "<p>2522 rows × 2 columns</p>\n",
       "</div>"
      ],
      "text/plain": [
       "      calitp_itp_id route_id\n",
       "0                 4       10\n",
       "1                 4       12\n",
       "2                 4       14\n",
       "3                 4       18\n",
       "4                 4       19\n",
       "...             ...      ...\n",
       "3103            482       30\n",
       "3104            482       31\n",
       "3105            482       32\n",
       "3106            482        7\n",
       "3107            482        9\n",
       "\n",
       "[2522 rows x 2 columns]"
      ]
     },
     "execution_count": 29,
     "metadata": {},
     "output_type": "execute_result"
    }
   ],
   "source": [
    "parallel_routes >> distinct(_.calitp_itp_id, _.route_id) >> filter(_.calitp_itp_id != 200)"
   ]
  },
  {
   "cell_type": "code",
   "execution_count": 14,
   "id": "f8838be6-9f5d-4766-bb36-a13676598075",
   "metadata": {},
   "outputs": [
    {
     "name": "stderr",
     "output_type": "stream",
     "text": [
      "/opt/conda/lib/python3.9/site-packages/siuba/sql/utils.py:52: SAWarning: Dialect bigquery:bigquery will not make use of SQL compilation caching as it does not set the 'supports_statement_cache' attribute to ``True``.  This can have significant performance implications including some performance degradations in comparison to prior SQLAlchemy versions.  Dialect maintainers should seek to set this attribute to True after appropriate development and testing for SQLAlchemy 1.4 caching support.   Alternatively, this attribute may be set to False which will disable this warning. (Background on this error at: https://sqlalche.me/e/14/cprf)\n"
     ]
    }
   ],
   "source": [
    "all_ca_routes = tbl.gtfs_schedule.routes() >> distinct(_.calitp_itp_id, _.route_id) >> collect()"
   ]
  },
  {
   "cell_type": "code",
   "execution_count": 19,
   "id": "9fb91c8a-b3f1-4473-b145-b875d77838ba",
   "metadata": {},
   "outputs": [
    {
     "data": {
      "text/html": [
       "<div>\n",
       "<style scoped>\n",
       "    .dataframe tbody tr th:only-of-type {\n",
       "        vertical-align: middle;\n",
       "    }\n",
       "\n",
       "    .dataframe tbody tr th {\n",
       "        vertical-align: top;\n",
       "    }\n",
       "\n",
       "    .dataframe thead th {\n",
       "        text-align: right;\n",
       "    }\n",
       "</style>\n",
       "<table border=\"1\" class=\"dataframe\">\n",
       "  <thead>\n",
       "    <tr style=\"text-align: right;\">\n",
       "      <th></th>\n",
       "      <th>calitp_itp_id</th>\n",
       "      <th>route_id</th>\n",
       "    </tr>\n",
       "  </thead>\n",
       "  <tbody>\n",
       "    <tr>\n",
       "      <th>0</th>\n",
       "      <td>279</td>\n",
       "      <td>12</td>\n",
       "    </tr>\n",
       "    <tr>\n",
       "      <th>1</th>\n",
       "      <td>279</td>\n",
       "      <td>2</td>\n",
       "    </tr>\n",
       "    <tr>\n",
       "      <th>2</th>\n",
       "      <td>279</td>\n",
       "      <td>11</td>\n",
       "    </tr>\n",
       "    <tr>\n",
       "      <th>3</th>\n",
       "      <td>279</td>\n",
       "      <td>4</td>\n",
       "    </tr>\n",
       "    <tr>\n",
       "      <th>4</th>\n",
       "      <td>279</td>\n",
       "      <td>6</td>\n",
       "    </tr>\n",
       "    <tr>\n",
       "      <th>...</th>\n",
       "      <td>...</td>\n",
       "      <td>...</td>\n",
       "    </tr>\n",
       "    <tr>\n",
       "      <th>3992</th>\n",
       "      <td>372</td>\n",
       "      <td>060f6b21-00e0-46a1-8be8-98ed29ed5673</td>\n",
       "    </tr>\n",
       "    <tr>\n",
       "      <th>3993</th>\n",
       "      <td>372</td>\n",
       "      <td>96926054-eff8-4292-975d-f9917fe88820</td>\n",
       "    </tr>\n",
       "    <tr>\n",
       "      <th>3994</th>\n",
       "      <td>372</td>\n",
       "      <td>232750c4-edd8-467e-8c8a-0b860672803e</td>\n",
       "    </tr>\n",
       "    <tr>\n",
       "      <th>3995</th>\n",
       "      <td>372</td>\n",
       "      <td>dcf17c80-34f0-45e1-861f-c53760ac2d3c</td>\n",
       "    </tr>\n",
       "    <tr>\n",
       "      <th>3996</th>\n",
       "      <td>372</td>\n",
       "      <td>b8ac63c9-d3c1-4eac-ba04-f785289f063f</td>\n",
       "    </tr>\n",
       "  </tbody>\n",
       "</table>\n",
       "<p>3335 rows × 2 columns</p>\n",
       "</div>"
      ],
      "text/plain": [
       "      calitp_itp_id                              route_id\n",
       "0               279                                    12\n",
       "1               279                                     2\n",
       "2               279                                    11\n",
       "3               279                                     4\n",
       "4               279                                     6\n",
       "...             ...                                   ...\n",
       "3992            372  060f6b21-00e0-46a1-8be8-98ed29ed5673\n",
       "3993            372  96926054-eff8-4292-975d-f9917fe88820\n",
       "3994            372  232750c4-edd8-467e-8c8a-0b860672803e\n",
       "3995            372  dcf17c80-34f0-45e1-861f-c53760ac2d3c\n",
       "3996            372  b8ac63c9-d3c1-4eac-ba04-f785289f063f\n",
       "\n",
       "[3335 rows x 2 columns]"
      ]
     },
     "execution_count": 19,
     "metadata": {},
     "output_type": "execute_result"
    }
   ],
   "source": [
    "all_ca_routes >> filter(_.calitp_itp_id != 200)"
   ]
  },
  {
   "cell_type": "code",
   "execution_count": 17,
   "id": "a9af9ffb-4c76-468b-b02d-0f923d5d6c6d",
   "metadata": {},
   "outputs": [
    {
     "data": {
      "text/html": [
       "<div>\n",
       "<style scoped>\n",
       "    .dataframe tbody tr th:only-of-type {\n",
       "        vertical-align: middle;\n",
       "    }\n",
       "\n",
       "    .dataframe tbody tr th {\n",
       "        vertical-align: top;\n",
       "    }\n",
       "\n",
       "    .dataframe thead th {\n",
       "        text-align: right;\n",
       "    }\n",
       "</style>\n",
       "<table border=\"1\" class=\"dataframe\">\n",
       "  <thead>\n",
       "    <tr style=\"text-align: right;\">\n",
       "      <th></th>\n",
       "      <th>calitp_itp_id</th>\n",
       "      <th>route_id</th>\n",
       "    </tr>\n",
       "  </thead>\n",
       "  <tbody>\n",
       "    <tr>\n",
       "      <th>0</th>\n",
       "      <td>226</td>\n",
       "      <td>301</td>\n",
       "    </tr>\n",
       "    <tr>\n",
       "      <th>1</th>\n",
       "      <td>226</td>\n",
       "      <td>398</td>\n",
       "    </tr>\n",
       "    <tr>\n",
       "      <th>2</th>\n",
       "      <td>226</td>\n",
       "      <td>323</td>\n",
       "    </tr>\n",
       "    <tr>\n",
       "      <th>3</th>\n",
       "      <td>226</td>\n",
       "      <td>332</td>\n",
       "    </tr>\n",
       "    <tr>\n",
       "      <th>4</th>\n",
       "      <td>226</td>\n",
       "      <td>354</td>\n",
       "    </tr>\n",
       "    <tr>\n",
       "      <th>...</th>\n",
       "      <td>...</td>\n",
       "      <td>...</td>\n",
       "    </tr>\n",
       "    <tr>\n",
       "      <th>932</th>\n",
       "      <td>300</td>\n",
       "      <td>3366</td>\n",
       "    </tr>\n",
       "    <tr>\n",
       "      <th>933</th>\n",
       "      <td>300</td>\n",
       "      <td>3369</td>\n",
       "    </tr>\n",
       "    <tr>\n",
       "      <th>934</th>\n",
       "      <td>300</td>\n",
       "      <td>3354</td>\n",
       "    </tr>\n",
       "    <tr>\n",
       "      <th>935</th>\n",
       "      <td>300</td>\n",
       "      <td>3374</td>\n",
       "    </tr>\n",
       "    <tr>\n",
       "      <th>936</th>\n",
       "      <td>300</td>\n",
       "      <td>3372</td>\n",
       "    </tr>\n",
       "  </tbody>\n",
       "</table>\n",
       "<p>937 rows × 2 columns</p>\n",
       "</div>"
      ],
      "text/plain": [
       "     calitp_itp_id route_id\n",
       "0              226      301\n",
       "1              226      398\n",
       "2              226      323\n",
       "3              226      332\n",
       "4              226      354\n",
       "..             ...      ...\n",
       "932            300     3366\n",
       "933            300     3369\n",
       "934            300     3354\n",
       "935            300     3374\n",
       "936            300     3372\n",
       "\n",
       "[937 rows x 2 columns]"
      ]
     },
     "execution_count": 17,
     "metadata": {},
     "output_type": "execute_result"
    }
   ],
   "source": [
    "parallel_delays >> distinct(_.calitp_itp_id, _.route_id)"
   ]
  }
 ],
 "metadata": {
  "kernelspec": {
   "display_name": "Python 3 (ipykernel)",
   "language": "python",
   "name": "python3"
  },
  "language_info": {
   "codemirror_mode": {
    "name": "ipython",
    "version": 3
   },
   "file_extension": ".py",
   "mimetype": "text/x-python",
   "name": "python",
   "nbconvert_exporter": "python",
   "pygments_lexer": "ipython3",
   "version": "3.10.5"
  }
 },
 "nbformat": 4,
 "nbformat_minor": 5
}
