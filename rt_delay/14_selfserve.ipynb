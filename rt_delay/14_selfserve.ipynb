{
 "cells": [
  {
   "cell_type": "code",
   "execution_count": 1,
   "id": "62d24706-ef4f-4d01-be15-8e3036d45914",
   "metadata": {},
   "outputs": [
    {
     "name": "stderr",
     "output_type": "stream",
     "text": [
      "/opt/conda/lib/python3.10/site-packages/geopandas/_compat.py:111: UserWarning: The Shapely GEOS version (3.10.2-CAPI-1.16.0) is incompatible with the GEOS version PyGEOS was compiled with (3.10.1-CAPI-1.16.0). Conversions between both will be slow.\n",
      "  warnings.warn(\n"
     ]
    }
   ],
   "source": [
    "import os\n",
    "os.environ[\"CALITP_BQ_MAX_BYTES\"] = str(100_000_000_000)\n",
    "\n",
    "from calitp.tables import tbl\n",
    "from calitp import query_sql\n",
    "import calitp.magics\n",
    "import branca\n",
    "\n",
    "import shared_utils\n",
    "\n",
    "from siuba import *\n",
    "import pandas as pd\n",
    "import geopandas as gpd\n",
    "import shapely\n",
    "\n",
    "import datetime as dt\n",
    "import time\n",
    "from zoneinfo import ZoneInfo\n",
    "\n",
    "import rt_analysis as rt\n",
    "import importlib\n",
    "\n",
    "import gcsfs\n",
    "fs = gcsfs.GCSFileSystem()\n",
    "\n",
    "from tqdm import tqdm_notebook\n",
    "from tqdm.notebook import trange, tqdm"
   ]
  },
  {
   "cell_type": "code",
   "execution_count": 2,
   "id": "89647c25-ba31-4d1c-b538-18d1b56927c6",
   "metadata": {},
   "outputs": [],
   "source": [
    "bbb_itp_id = 300"
   ]
  },
  {
   "cell_type": "code",
   "execution_count": 3,
   "id": "b8b268f7-009a-47b5-9500-f14e314422ee",
   "metadata": {},
   "outputs": [],
   "source": [
    "analysis_date = dt.date(2022, 3, 30)"
   ]
  },
  {
   "cell_type": "code",
   "execution_count": 4,
   "id": "289d05ae-4a5d-4c41-af3d-25cbc179d0fa",
   "metadata": {
    "tags": []
   },
   "outputs": [
    {
     "data": {
      "application/vnd.jupyter.widget-view+json": {
       "model_id": "afa4727652744444ab9d650a8ce690e2",
       "version_major": 2,
       "version_minor": 0
      },
      "text/plain": [
       "0it [00:00, ?it/s]"
      ]
     },
     "metadata": {},
     "output_type": "display_data"
    }
   ],
   "source": [
    "pbar = tqdm()"
   ]
  },
  {
   "cell_type": "code",
   "execution_count": 5,
   "id": "ece5e5fe-b5f7-4921-a1fd-423b2a239f22",
   "metadata": {
    "tags": []
   },
   "outputs": [
    {
     "name": "stdout",
     "output_type": "stream",
     "text": [
      "found parquet\n",
      "found parquet\n",
      "found parquet\n",
      "found parquet\n",
      "found parquet\n",
      "less than 1km of data\n",
      "less than 1km of data\n",
      "less than 1km of data\n",
      "less than 1km of data\n",
      "less than 1km of data\n",
      "less than 1km of data\n",
      "less than 1km of data\n",
      "less than 1km of data\n",
      "less than 1km of data\n",
      "less than 1km of data\n",
      "less than 1km of data\n",
      "less than 1km of data\n",
      "less than 1km of data\n",
      "less than 1km of data\n",
      "less than 1km of data\n",
      "less than 1km of data\n",
      "less than 1km of data\n",
      "less than 1km of data\n",
      "less than 1km of data\n",
      "less than 1km of data\n",
      "less than 1km of data\n",
      "less than 1km of data\n",
      "less than 1km of data\n",
      "less than 1km of data\n",
      "less than 1km of data\n",
      "less than 1km of data\n",
      "less than 1km of data\n",
      "less than 1km of data\n",
      "less than 1km of data\n",
      "less than 1km of data\n",
      "less than 1km of data\n",
      "less than 1km of data\n",
      "less than 1km of data\n",
      "less than 1km of data\n",
      "less than 1km of data\n",
      "less than 1km of data\n",
      "less than 1km of data\n",
      "less than 1km of data\n",
      "less than 1km of data\n",
      "less than 1km of data\n",
      "less than 1km of data\n",
      "less than 1km of data\n",
      "less than 1km of data\n",
      "less than 1km of data\n",
      "less than 1km of data\n",
      "less than 1km of data\n",
      "less than 1km of data\n",
      "less than 1km of data\n",
      "less than 1km of data\n",
      "less than 1km of data\n",
      "less than 1km of data\n",
      "less than 1km of data\n",
      "less than 1km of data\n",
      "less than 1km of data\n",
      "less than 1km of data\n",
      "less than 1km of data\n",
      "less than 1km of data\n",
      "less than 1km of data\n",
      "less than 1km of data\n",
      "less than 1km of data\n",
      "less than 1km of data\n",
      "less than 1km of data\n",
      "less than 1km of data\n",
      "less than 1km of data\n",
      "less than 1km of data\n",
      "less than 1km of data\n",
      "less than 1km of data\n",
      "less than 1km of data\n"
     ]
    }
   ],
   "source": [
    "bbb = rt.OperatorDayAnalysis(bbb_itp_id, analysis_date, pbar)"
   ]
  },
  {
   "cell_type": "markdown",
   "id": "fc2ddbe6-4248-4366-9a3a-21d4b68cc8a9",
   "metadata": {},
   "source": [
    "### Proof of Concept\n",
    "\n",
    "  * A rough interative variability chart and map\n",
    "    * Could be iterated on but would need to have a way to run a remote kernel in analyses site..."
   ]
  },
  {
   "cell_type": "code",
   "execution_count": 6,
   "id": "d2b0279d-7543-4a83-b916-872ad0b0d2e7",
   "metadata": {},
   "outputs": [],
   "source": [
    "import rt_filter_map_plot"
   ]
  },
  {
   "cell_type": "code",
   "execution_count": 7,
   "id": "ca529176-d012-44f2-b6b4-75f23d671cf6",
   "metadata": {},
   "outputs": [
    {
     "name": "stdout",
     "output_type": "stream",
     "text": [
      "found parquet\n"
     ]
    }
   ],
   "source": [
    "bbb2 = rt_filter_map_plot.from_gcs(bbb_itp_id, analysis_date)"
   ]
  },
  {
   "cell_type": "code",
   "execution_count": 8,
   "id": "1e157c55-67b5-4a3d-a83b-60716eb7dd7e",
   "metadata": {},
   "outputs": [],
   "source": [
    "bbb2.set_filter(start_time='15:00', end_time='19:00')"
   ]
  },
  {
   "cell_type": "code",
   "execution_count": 9,
   "id": "a31e231e-40a1-4f3e-b116-9ad1b4a508ec",
   "metadata": {},
   "outputs": [],
   "source": [
    "from ipywidgets import interact, fixed\n",
    "import ipywidgets as widgets"
   ]
  },
  {
   "cell_type": "code",
   "execution_count": 22,
   "id": "e09c75f9-9f37-445d-ba56-3b10a5171c2d",
   "metadata": {},
   "outputs": [],
   "source": [
    "min_stop_seq = bbb2.stop_delay_view.stop_sequence.min()\n",
    "max_stop_seq = bbb2.stop_delay_view.stop_sequence.max()\n",
    "min_stop = widgets.IntSlider(min = min_stop_seq, max = max_stop_seq, value = min_stop_seq)\n",
    "max_stop = widgets.IntSlider(min = min_stop_seq, max = max_stop_seq, value = max_stop_seq)"
   ]
  },
  {
   "cell_type": "code",
   "execution_count": 23,
   "id": "b078768b-1983-4308-aeb3-5e95d138b4d6",
   "metadata": {},
   "outputs": [],
   "source": [
    "def friendly_chart_variability(rt_filter_mapper, min_stop_seq, max_stop_seq):\n",
    "    return rt_filter_mapper.chart_variability(min_stop_seq = min_stop_seq, max_stop_seq = max_stop_seq)"
   ]
  },
  {
   "cell_type": "code",
   "execution_count": 24,
   "id": "d837216c-5103-40c9-a0bf-7537ecd23178",
   "metadata": {},
   "outputs": [],
   "source": [
    "bbb2.set_filter(start_time='15:00', end_time='19:00', shape_ids=['25951'])"
   ]
  },
  {
   "cell_type": "code",
   "execution_count": 27,
   "id": "7d698ce7-f179-4c6d-b90f-4eb9eb16f31c",
   "metadata": {},
   "outputs": [
    {
     "data": {
      "application/vnd.jupyter.widget-view+json": {
       "model_id": "ca851e4007904a65a0b20c6bdbd31b29",
       "version_major": 2,
       "version_minor": 0
      },
      "text/plain": [
       "interactive(children=(IntSlider(value=9, description='min_stop_seq', max=56, min=1), IntSlider(value=37, descr…"
      ]
     },
     "metadata": {},
     "output_type": "display_data"
    },
    {
     "data": {
      "text/plain": [
       "<function __main__.friendly_chart_variability(rt_filter_mapper, min_stop_seq, max_stop_seq)>"
      ]
     },
     "execution_count": 27,
     "metadata": {},
     "output_type": "execute_result"
    }
   ],
   "source": [
    "interact(friendly_chart_variability, rt_filter_mapper = fixed(bbb2),\n",
    "         min_stop_seq = min_stop, max_stop_seq = max_stop)"
   ]
  },
  {
   "cell_type": "code",
   "execution_count": 14,
   "id": "1ab06b3c-1e79-4fb2-b4b0-81132237a7a4",
   "metadata": {},
   "outputs": [],
   "source": [
    "bbb2_routes = list(bbb2.rt_trips.route_short_name.unique())\n",
    "all_routes = widgets.SelectMultiple(\n",
    "    options=bbb2_routes,\n",
    "    value=bbb2_routes[:1],\n",
    "    #rows=10,\n",
    "    description='Routes',\n",
    "    disabled=False\n",
    ")"
   ]
  },
  {
   "cell_type": "code",
   "execution_count": 15,
   "id": "e37f12ba-b9b4-47a5-8350-1fb5180f3add",
   "metadata": {},
   "outputs": [],
   "source": [
    "def filter_then_map(filter_mapper, start_time, end_time, route_names, shape_ids, direction_id, direction):\n",
    "    filter_mapper.set_filter(start_time = start_time, end_time = end_time,\n",
    "        route_names = all_routes.value, shape_ids = shape_ids,\n",
    "        direction_id = direction_id, direction = direction)\n",
    "    return filter_mapper.segment_speed_map(how='low_speeds')"
   ]
  },
  {
   "cell_type": "code",
   "execution_count": 16,
   "id": "80329370-b3f1-48ee-909f-b2504daffa29",
   "metadata": {},
   "outputs": [
    {
     "data": {
      "application/vnd.jupyter.widget-view+json": {
       "model_id": "57083729508d4c57995ffd7a928b7fd6",
       "version_major": 2,
       "version_minor": 0
      },
      "text/plain": [
       "interactive(children=(SelectMultiple(description='Routes', index=(0,), options=('41', '1', '7', '3', '2', '17'…"
      ]
     },
     "metadata": {},
     "output_type": "display_data"
    },
    {
     "data": {
      "text/plain": [
       "<function __main__.filter_then_map(filter_mapper, start_time, end_time, route_names, shape_ids, direction_id, direction)>"
      ]
     },
     "execution_count": 16,
     "metadata": {},
     "output_type": "execute_result"
    }
   ],
   "source": [
    "interact(filter_then_map, filter_mapper = fixed(bbb2), start_time = fixed('15:00'), end_time = fixed('19:00'),\n",
    "        route_names = all_routes, shape_ids = fixed(False),\n",
    "        direction_id = fixed(False), direction = fixed(False))"
   ]
  }
 ],
 "metadata": {
  "kernelspec": {
   "display_name": "Python 3 (ipykernel)",
   "language": "python",
   "name": "python3"
  },
  "language_info": {
   "codemirror_mode": {
    "name": "ipython",
    "version": 3
   },
   "file_extension": ".py",
   "mimetype": "text/x-python",
   "name": "python",
   "nbconvert_exporter": "python",
   "pygments_lexer": "ipython3",
   "version": "3.10.4"
  }
 },
 "nbformat": 4,
 "nbformat_minor": 5
}
