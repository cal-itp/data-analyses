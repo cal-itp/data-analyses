{
 "cells": [
  {
   "cell_type": "code",
   "execution_count": 1,
   "id": "ce24720a-0e94-494a-950e-30c8e6ed5410",
   "metadata": {},
   "outputs": [
    {
     "name": "stderr",
     "output_type": "stream",
     "text": [
      "/opt/conda/lib/python3.9/site-packages/geopandas/_compat.py:111: UserWarning: The Shapely GEOS version (3.10.2-CAPI-1.16.0) is incompatible with the GEOS version PyGEOS was compiled with (3.10.1-CAPI-1.16.0). Conversions between both will be slow.\n",
      "  warnings.warn(\n",
      "E0321 16:58:41.327710778    1112 fork_posix.cc:70]           Fork support is only compatible with the epoll1 and poll polling strategies\n",
      "E0321 16:58:44.305736028    1112 fork_posix.cc:70]           Fork support is only compatible with the epoll1 and poll polling strategies\n"
     ]
    }
   ],
   "source": [
    "import os\n",
    "os.environ[\"CALITP_BQ_MAX_BYTES\"] = str(100_000_000_000)\n",
    "\n",
    "from calitp.tables import tbl\n",
    "from calitp import query_sql\n",
    "import calitp.magics\n",
    "import branca\n",
    "\n",
    "import shared_utils\n",
    "import utils\n",
    "\n",
    "from siuba import *\n",
    "import pandas as pd\n",
    "import geopandas as gpd\n",
    "import shapely\n",
    "\n",
    "import datetime as dt\n",
    "import time\n",
    "from zoneinfo import ZoneInfo\n",
    "\n",
    "import rt_analysis as rt\n",
    "import importlib\n",
    "\n",
    "import gcsfs\n",
    "fs = gcsfs.GCSFileSystem()\n",
    "\n",
    "from tqdm import tqdm_notebook\n",
    "from tqdm.notebook import trange, tqdm"
   ]
  },
  {
   "cell_type": "code",
   "execution_count": 2,
   "id": "f6184b0b-25cc-433e-baea-9b0157d4f6c4",
   "metadata": {},
   "outputs": [
    {
     "data": {
      "text/plain": [
       "<module 'rt_analysis' from '/home/jovyan/data-analyses/rt_delay/rt_analysis.py'>"
      ]
     },
     "execution_count": 2,
     "metadata": {},
     "output_type": "execute_result"
    }
   ],
   "source": [
    "importlib.reload(utils)\n",
    "importlib.reload(rt)"
   ]
  },
  {
   "cell_type": "code",
   "execution_count": 3,
   "id": "96e6abb8-746f-4c84-93cd-e6a61f92d1d5",
   "metadata": {},
   "outputs": [],
   "source": [
    "ac_itp_id = 4"
   ]
  },
  {
   "cell_type": "code",
   "execution_count": 4,
   "id": "278745fe-452a-4aea-8564-00b0352edd4d",
   "metadata": {},
   "outputs": [],
   "source": [
    "analysis_date = dt.date(2022, 2, 8)"
   ]
  },
  {
   "cell_type": "code",
   "execution_count": 5,
   "id": "e5470320-132a-4a36-b418-7f90afc97860",
   "metadata": {},
   "outputs": [
    {
     "data": {
      "application/vnd.jupyter.widget-view+json": {
       "model_id": "66f2a108978c48118fdb2b6b2fb86e92",
       "version_major": 2,
       "version_minor": 0
      },
      "text/plain": [
       "0it [00:00, ?it/s]"
      ]
     },
     "metadata": {},
     "output_type": "display_data"
    }
   ],
   "source": [
    "pbar = tqdm()"
   ]
  },
  {
   "cell_type": "code",
   "execution_count": 6,
   "id": "26cf2e35-104e-48d2-9488-b4d2b454da57",
   "metadata": {
    "collapsed": true,
    "jupyter": {
     "outputs_hidden": true
    },
    "tags": []
   },
   "outputs": [
    {
     "name": "stdout",
     "output_type": "stream",
     "text": [
      "found parquet\n",
      "found parquet\n",
      "found parquet\n",
      "found parquet\n",
      "found_parquet\n",
      "None\n",
      "-505977292\n",
      "2000000007\n",
      "6460020\n",
      "-1210612622\n",
      "-1327745854\n",
      "-1053525814\n",
      "2000000005\n",
      "2000000004\n",
      "13630020\n",
      "-1376570937\n",
      "-1209853505\n",
      "-1452335409\n",
      "14063020\n",
      "-1138258266\n",
      "-1374544651\n",
      "9019020\n",
      "-1075052938\n",
      "2826020\n",
      "-608177528\n",
      "-1220178442\n",
      "2000000006\n",
      "-787251113\n",
      "4768020\n",
      "-213298196\n",
      "4633020\n",
      "-879745742\n",
      "919020\n",
      "11581020\n",
      "-505563441\n",
      "7279020\n",
      "5657020\n",
      "7508020\n",
      "4410020\n",
      "-314089998\n",
      "8133020\n",
      "4634020\n",
      "10772020\n",
      "24020\n",
      "7416020\n",
      "1041020\n",
      "2849020\n",
      "1417020\n",
      "10185020\n",
      "8395020\n",
      "8569020\n",
      "12728020\n",
      "8503020\n",
      "12057020\n",
      "-343749741\n",
      "11669020\n",
      "5117020\n",
      "2082020\n",
      "10576020\n",
      "-1381051737\n",
      "-1035446239\n",
      "-1857838497\n",
      "6263020\n",
      "-904233423\n",
      "-653666098\n",
      "-1220405201\n",
      "-1412315046\n",
      "-367669440\n",
      "-1745925377\n",
      "-1965504709\n",
      "-1661293737\n",
      "-411200069\n",
      "-70371748\n",
      "10918020\n",
      "-1240266950\n",
      "-562688013\n",
      "6129020\n",
      "-932152246\n",
      "9540020\n",
      "-1503648298\n",
      "-599482746\n",
      "-275088594\n",
      "3778020\n",
      "-1664068629\n",
      "-1757396655\n",
      "-1294817963\n",
      "5692020\n",
      "-257185474\n",
      "-1039492315\n",
      "-136173916\n",
      "2180020\n",
      "4619020\n",
      "8273020\n",
      "4158020\n",
      "could not generate delays for trip 7442020\n",
      "Columns must be same length as key\n",
      "could not generate delays for trip 10430020\n",
      "Columns must be same length as key\n",
      "could not generate delays for trip 7595020\n",
      "Columns must be same length as key\n",
      "could not generate delays for trip 1757020\n",
      "Columns must be same length as key\n",
      "could not generate delays for trip 1512020\n",
      "Columns must be same length as key\n"
     ]
    },
    {
     "name": "stderr",
     "output_type": "stream",
     "text": [
      "/opt/conda/lib/python3.9/site-packages/siuba/sql/utils.py:52: SAWarning: Dialect bigquery:bigquery will not make use of SQL compilation caching as it does not set the 'supports_statement_cache' attribute to ``True``.  This can have significant performance implications including some performance degradations in comparison to prior SQLAlchemy versions.  Dialect maintainers should seek to set this attribute to True after appropriate development and testing for SQLAlchemy 1.4 caching support.   Alternatively, this attribute may be set to False which will disable this warning. (Background on this error at: https://sqlalche.me/e/14/cprf)\n"
     ]
    }
   ],
   "source": [
    "ac = rt.OperatorDayAnalysis(ac_itp_id, analysis_date, pbar)"
   ]
  },
  {
   "cell_type": "code",
   "execution_count": 35,
   "id": "3065e8c7-dc93-421a-a72d-cc7f71fd8203",
   "metadata": {},
   "outputs": [
    {
     "name": "stdout",
     "output_type": "stream",
     "text": [
      "{'start_time': datetime.time(15, 0), 'end_time': datetime.time(19, 0), 'route_ids': None, 'shape_ids': None, 'direction_id': None, 'direction': None}\n"
     ]
    }
   ],
   "source": [
    "ac.set_filter(start_time='15:00', end_time='19:00')"
   ]
  },
  {
   "cell_type": "code",
   "execution_count": 36,
   "id": "b82711bc-fb04-4636-95a7-2ea1c9f8d45c",
   "metadata": {
    "collapsed": true,
    "jupyter": {
     "outputs_hidden": true
    },
    "tags": []
   },
   "outputs": [
    {
     "name": "stdout",
     "output_type": "stream",
     "text": [
      "view filter: {'start_time': datetime.time(15, 0), 'end_time': datetime.time(19, 0), 'route_ids': None, 'shape_ids': None, 'direction_id': None, 'direction': None}\n",
      "shp-98-52_1_ empty!\n",
      "shp-20-62_1_ empty!\n",
      "shp-680-53_0_ empty!\n",
      "shp-98-02_0_ empty!\n",
      "shp-76-09_1_ empty!\n",
      "speed above 80 for shape shp-76-09, dropping\n",
      "shp-604-62_1_ empty!\n",
      "shp-36-09_1_ empty!\n",
      "speed above 80 for shape shp-21-13, dropping\n",
      "speed above 80 for shape shp-21-13, dropping\n",
      "shp-20-18_0_ empty!\n",
      "shp-NX3-06_0_ empty!\n",
      "shp-657-10_1_ empty!\n",
      "shp-NX-06_0_ empty!\n",
      "shp-611-07_0_ empty!\n",
      "shp-96-09_0_ empty!\n",
      "shp-72-28_0_ empty!\n",
      "shp-663-55_0_ empty!\n",
      "shp-631-51_1_ empty!\n",
      "shp-688-53_1_ empty!\n",
      "shp-696-01_1_ empty!\n",
      "shp-33-68_1_ empty!\n",
      "shp-19-64_1_ empty!\n",
      "shp-35-61_1_ empty!\n",
      "shp-54-03_0_ empty!\n",
      "speed above 80 for shape shp-216-62, dropping\n",
      "speed above 80 for shape shp-216-62, dropping\n",
      "shp-65-57_1_ empty!\n",
      "shp-671-04_1_ empty!\n",
      "shp-676-55_1_ empty!\n",
      "shp-28-09_0_ empty!\n",
      "speed above 80 for shape shp-45-04, dropping\n",
      "shp-45-04_0_ empty!\n",
      "shp-45-53_1_ empty!\n",
      "speed above 80 for shape shp-45-53, dropping\n",
      "shp-71-03_0_ empty!\n",
      "shp-675-56_1_ empty!\n",
      "shp-675-57_1_ empty!\n"
     ]
    },
    {
     "name": "stderr",
     "output_type": "stream",
     "text": [
      "/opt/conda/lib/python3.9/site-packages/numpy/lib/function_base.py:4011: RuntimeWarning: invalid value encountered in multiply\n",
      "/opt/conda/lib/python3.9/site-packages/numpy/lib/function_base.py:4011: RuntimeWarning: invalid value encountered in multiply\n"
     ]
    },
    {
     "name": "stdout",
     "output_type": "stream",
     "text": [
      "speed above 80 for shape shp-675-57, dropping\n",
      "shp-10-10_1_ empty!\n",
      "speed above 80 for shape shp-10-10, dropping\n",
      "shp-96-58_1_ empty!\n",
      "speed above 80 for shape shp-239-08, dropping\n",
      "shp-239-08_0_ empty!\n",
      "shp-29-61_1_ empty!\n",
      "shp-O-03_0_ empty!\n",
      "speed above 80 for shape shp-OX-03, dropping\n",
      "shp-631-52_1_ empty!\n",
      "shp-56-53_1_ empty!\n",
      "shp-200-15_0_ empty!\n",
      "shp-72M-39_0_ empty!\n",
      "shp-72-77_1_ empty!\n",
      "shp-76-06_0_ empty!\n",
      "shp-86-51_1_ empty!\n",
      "shp-93-09_0_ empty!\n",
      "shp-86-52_1_ empty!\n",
      "shp-623-04_1_ empty!\n",
      "shp-623-55_1_ empty!\n",
      "shp-217-10_1_ empty!\n",
      "speed above 80 for shape shp-217-10, dropping\n",
      "shp-239-57_1_ empty!\n",
      "shp-35-11_0_ empty!\n",
      "shp-88-07_0_ empty!\n",
      "shp-667-52_1_ empty!\n",
      "shp-76-07_0_ empty!\n",
      "shp-667-56_1_ empty!\n",
      "speed above 80 for shape shp-617-03, dropping\n",
      "shp-617-03_0_ empty!\n",
      "shp-36-08_0_ empty!\n",
      "shp-O-53_1_ empty!\n",
      "shp-72M-60_1_ empty!\n",
      "shp-95-03_0_ empty!\n",
      "shp-95-08_0_ empty!\n",
      "shp-86-01_0_ empty!\n",
      "shp-6-59_1_ empty!\n",
      "shp-200-60_1_ empty!\n",
      "shp-56-03_0_ empty!\n",
      "shp-658-04_0_ empty!\n",
      "shp-657-55_1_ empty!\n",
      "shp-653-01_1_ empty!\n",
      "shp-669-57_1_ empty!\n"
     ]
    },
    {
     "name": "stderr",
     "output_type": "stream",
     "text": [
      "/opt/conda/lib/python3.9/site-packages/numpy/lib/function_base.py:4009: RuntimeWarning: invalid value encountered in subtract\n",
      "/opt/conda/lib/python3.9/site-packages/numpy/lib/function_base.py:4009: RuntimeWarning: invalid value encountered in subtract\n",
      "/opt/conda/lib/python3.9/site-packages/numpy/lib/function_base.py:4009: RuntimeWarning: invalid value encountered in subtract\n",
      "/opt/conda/lib/python3.9/site-packages/numpy/lib/function_base.py:4009: RuntimeWarning: invalid value encountered in subtract\n",
      "/opt/conda/lib/python3.9/site-packages/numpy/lib/function_base.py:4009: RuntimeWarning: invalid value encountered in subtract\n"
     ]
    },
    {
     "name": "stdout",
     "output_type": "stream",
     "text": [
      "speed above 80 for shape shp-669-57, dropping\n",
      "speed above 80 for shape shp-G-06, dropping\n",
      "shp-660-51_1_ empty!\n",
      "shp-682-53_1_ empty!\n",
      "shp-662-60_1_ empty!\n",
      "shp-605-03_1_ empty!\n",
      "shp-677-02_1_ empty!\n",
      "speed above 80 for shape shp-217-09, dropping\n",
      "shp-217-09_0_ empty!\n",
      "shp-646-13_0_ empty!\n",
      "shp-646-12_0_ empty!\n",
      "speed above 80 for shape shp-74-56, dropping\n",
      "shp-621-08_0_ empty!\n",
      "speed above 80 for shape shp-29-34, dropping\n",
      "shp-29-34_0_ empty!\n",
      "shp-72R-57_1_ empty!\n",
      "shp-628-51_1_ empty!\n",
      "shp-626-51_1_ empty!\n",
      "shp-629-51_0_ empty!\n",
      "shp-33-14_0_ empty!\n",
      "shp-93-56_1_ empty!\n",
      "shp-72R-12_0_ empty!\n",
      "shp-687-01_1_ empty!\n",
      "shp-19-16_0_ empty!\n",
      "shp-L-06_0_ empty!\n",
      "shp-65-10_0_ empty!\n",
      "speed above 80 for shape shp-10-09, dropping\n",
      "shp-10-09_0_ empty!\n",
      "shp-28-58_1_ empty!\n",
      "shp-F-22_1_ empty!\n",
      "shp-604-61_1_ empty!\n",
      "shp-648-62_1_ empty!\n",
      "shp-648-63_1_ empty!\n",
      "shp-88-08_1_ empty!\n",
      "shp-6-14_0_ empty!\n",
      "shp-215-67_1_ empty!\n",
      "shp-655-54_1_ empty!\n",
      "shp-649-14_1_ empty!\n",
      "shp-654-54_1_ empty!\n",
      "shp-638-55_1_ empty!\n",
      "shp-54-53_1_ empty!\n",
      "speed above 80 for shape shp-7-56, dropping\n",
      "shp-624-03_0_ empty!\n",
      "shp-620-01_0_ empty!\n",
      "shp-67-57_1_ empty!\n",
      "shp-657-11_0_ empty!\n",
      "speed above 80 for shape shp-216-16, dropping\n",
      "shp-652-07_0_ empty!\n",
      "shp-67-06_0_ empty!\n",
      "shp-672-51_1_ empty!\n"
     ]
    },
    {
     "name": "stderr",
     "output_type": "stream",
     "text": [
      "/opt/conda/lib/python3.9/site-packages/numpy/lib/function_base.py:4009: RuntimeWarning: invalid value encountered in subtract\n"
     ]
    },
    {
     "name": "stdout",
     "output_type": "stream",
     "text": [
      "speed above 80 for shape shp-672-51, dropping\n",
      "shp-625-02_0_ empty!\n",
      "shp-649-15_1_ empty!\n",
      "shp-215-15_0_ empty!\n",
      "shp-684-57_1_ empty!\n",
      "shp-606-53_0_ empty!\n",
      "shp-642-51_1_ empty!\n"
     ]
    },
    {
     "name": "stderr",
     "output_type": "stream",
     "text": [
      "/opt/conda/lib/python3.9/site-packages/numpy/lib/function_base.py:4009: RuntimeWarning: invalid value encountered in subtract\n",
      "/opt/conda/lib/python3.9/site-packages/numpy/lib/function_base.py:4009: RuntimeWarning: invalid value encountered in subtract\n",
      "/opt/conda/lib/python3.9/site-packages/numpy/lib/function_base.py:4009: RuntimeWarning: invalid value encountered in subtract\n",
      "/opt/conda/lib/python3.9/site-packages/numpy/lib/function_base.py:4009: RuntimeWarning: invalid value encountered in subtract\n",
      "/opt/conda/lib/python3.9/site-packages/numpy/lib/function_base.py:4009: RuntimeWarning: invalid value encountered in subtract\n",
      "/opt/conda/lib/python3.9/site-packages/numpy/lib/function_base.py:4009: RuntimeWarning: invalid value encountered in subtract\n",
      "/opt/conda/lib/python3.9/site-packages/numpy/lib/function_base.py:4009: RuntimeWarning: invalid value encountered in subtract\n",
      "/opt/conda/lib/python3.9/site-packages/numpy/lib/function_base.py:4009: RuntimeWarning: invalid value encountered in subtract\n",
      "/opt/conda/lib/python3.9/site-packages/numpy/lib/function_base.py:4009: RuntimeWarning: invalid value encountered in subtract\n",
      "/opt/conda/lib/python3.9/site-packages/numpy/lib/function_base.py:4009: RuntimeWarning: invalid value encountered in subtract\n",
      "/opt/conda/lib/python3.9/site-packages/numpy/lib/function_base.py:4009: RuntimeWarning: invalid value encountered in subtract\n",
      "/opt/conda/lib/python3.9/site-packages/numpy/lib/function_base.py:4009: RuntimeWarning: invalid value encountered in subtract\n"
     ]
    },
    {
     "name": "stdout",
     "output_type": "stream",
     "text": [
      "speed above 80 for shape shp-642-51, dropping\n"
     ]
    },
    {
     "name": "stderr",
     "output_type": "stream",
     "text": [
      "/opt/conda/lib/python3.9/site-packages/shapely/ops.py:634: ShapelyDeprecationWarning: GeometryTypeError will derive from ShapelyError and not TypeError or ValueError in Shapely 2.0.\n",
      "/home/jovyan/data-analyses/rt_delay/rt_analysis.py:589: UserWarning: Geometry is in a geographic CRS. Results from 'centroid' are likely incorrect. Use 'GeoSeries.to_crs()' to re-project geometries to a projected CRS before this operation.\n",
      "\n"
     ]
    }
   ],
   "source": [
    "m = ac.segment_speed_map()"
   ]
  },
  {
   "cell_type": "code",
   "execution_count": 17,
   "id": "421f0258-61c7-405b-bfae-dce111c8d8c5",
   "metadata": {},
   "outputs": [],
   "source": [
    "# m"
   ]
  },
  {
   "cell_type": "code",
   "execution_count": 18,
   "id": "1e1b622c-eb0f-4162-887d-e64bd57d0790",
   "metadata": {},
   "outputs": [],
   "source": [
    "import seaborn as sns"
   ]
  },
  {
   "cell_type": "code",
   "execution_count": 22,
   "id": "dd04b31c-6018-4e0e-9cb0-7972d641991b",
   "metadata": {},
   "outputs": [
    {
     "name": "stdout",
     "output_type": "stream",
     "text": [
      "{'start_time': datetime.time(15, 0), 'end_time': datetime.time(19, 0), 'route_ids': ['1T'], 'shape_ids': ['shp-1T-05'], 'direction_id': '1', 'direction': None}\n"
     ]
    }
   ],
   "source": [
    "ac.set_filter(start_time='15:00', end_time='19:00', route_ids=['1T'], shape_ids=['shp-1T-05'], direction_id='1')"
   ]
  },
  {
   "cell_type": "code",
   "execution_count": 23,
   "id": "ac5cbe69-26f1-4c94-80cd-375d647e1632",
   "metadata": {},
   "outputs": [
    {
     "name": "stdout",
     "output_type": "stream",
     "text": [
      "view filter: {'start_time': datetime.time(15, 0), 'end_time': datetime.time(19, 0), 'route_ids': ['1T'], 'shape_ids': ['shp-1T-05'], 'direction_id': '1', 'direction': None}\n"
     ]
    },
    {
     "name": "stderr",
     "output_type": "stream",
     "text": [
      "/home/jovyan/data-analyses/rt_delay/rt_analysis.py:589: UserWarning: Geometry is in a geographic CRS. Results from 'centroid' are likely incorrect. Use 'GeoSeries.to_crs()' to re-project geometries to a projected CRS before this operation.\n",
      "\n"
     ]
    },
    {
     "data": {
      "text/html": [
       "<iframe src=\"about:blank\" width=\"900\" height=\"550\"style=\"border:none !important;\" data-html=%3C%21DOCTYPE%20html%3E%0A%3Chead%3E%20%20%20%20%0A%20%20%20%20%3Cmeta%20http-equiv%3D%22content-type%22%20content%3D%22text/html%3B%20charset%3DUTF-8%22%20/%3E%0A%20%20%20%20%0A%20%20%20%20%20%20%20%20%3Cscript%3E%0A%20%20%20%20%20%20%20%20%20%20%20%20L_NO_TOUCH%20%3D%20false%3B%0A%20%20%20%20%20%20%20%20%20%20%20%20L_DISABLE_3D%20%3D%20false%3B%0A%20%20%20%20%20%20%20%20%3C/script%3E%0A%20%20%20%20%0A%20%20%20%20%3Cstyle%3Ehtml%2C%20body%20%7Bwidth%3A%20100%25%3Bheight%3A%20100%25%3Bmargin%3A%200%3Bpadding%3A%200%3B%7D%3C/style%3E%0A%20%20%20%20%3Cstyle%3E%23map%20%7Bposition%3Aabsolute%3Btop%3A0%3Bbottom%3A0%3Bright%3A0%3Bleft%3A0%3B%7D%3C/style%3E%0A%20%20%20%20%3Cscript%20src%3D%22https%3A//cdn.jsdelivr.net/npm/leaflet%401.6.0/dist/leaflet.js%22%3E%3C/script%3E%0A%20%20%20%20%3Cscript%20src%3D%22https%3A//code.jquery.com/jquery-1.12.4.min.js%22%3E%3C/script%3E%0A%20%20%20%20%3Cscript%20src%3D%22https%3A//maxcdn.bootstrapcdn.com/bootstrap/3.2.0/js/bootstrap.min.js%22%3E%3C/script%3E%0A%20%20%20%20%3Cscript%20src%3D%22https%3A//cdnjs.cloudflare.com/ajax/libs/Leaflet.awesome-markers/2.0.2/leaflet.awesome-markers.js%22%3E%3C/script%3E%0A%20%20%20%20%3Clink%20rel%3D%22stylesheet%22%20href%3D%22https%3A//cdn.jsdelivr.net/npm/leaflet%401.6.0/dist/leaflet.css%22/%3E%0A%20%20%20%20%3Clink%20rel%3D%22stylesheet%22%20href%3D%22https%3A//maxcdn.bootstrapcdn.com/bootstrap/3.2.0/css/bootstrap.min.css%22/%3E%0A%20%20%20%20%3Clink%20rel%3D%22stylesheet%22%20href%3D%22https%3A//maxcdn.bootstrapcdn.com/bootstrap/3.2.0/css/bootstrap-theme.min.css%22/%3E%0A%20%20%20%20%3Clink%20rel%3D%22stylesheet%22%20href%3D%22https%3A//maxcdn.bootstrapcdn.com/font-awesome/4.6.3/css/font-awesome.min.css%22/%3E%0A%20%20%20%20%3Clink%20rel%3D%22stylesheet%22%20href%3D%22https%3A//cdnjs.cloudflare.com/ajax/libs/Leaflet.awesome-markers/2.0.2/leaflet.awesome-markers.css%22/%3E%0A%20%20%20%20%3Clink%20rel%3D%22stylesheet%22%20href%3D%22https%3A//cdn.jsdelivr.net/gh/python-visualization/folium/folium/templates/leaflet.awesome.rotate.min.css%22/%3E%0A%20%20%20%20%0A%20%20%20%20%20%20%20%20%20%20%20%20%3Cmeta%20name%3D%22viewport%22%20content%3D%22width%3Ddevice-width%2C%0A%20%20%20%20%20%20%20%20%20%20%20%20%20%20%20%20initial-scale%3D1.0%2C%20maximum-scale%3D1.0%2C%20user-scalable%3Dno%22%20/%3E%0A%20%20%20%20%20%20%20%20%20%20%20%20%3Cstyle%3E%0A%20%20%20%20%20%20%20%20%20%20%20%20%20%20%20%20%23map_5da2d6fef37a4d09848f929c24bdb5ed%20%7B%0A%20%20%20%20%20%20%20%20%20%20%20%20%20%20%20%20%20%20%20%20position%3A%20relative%3B%0A%20%20%20%20%20%20%20%20%20%20%20%20%20%20%20%20%20%20%20%20width%3A%20900.0px%3B%0A%20%20%20%20%20%20%20%20%20%20%20%20%20%20%20%20%20%20%20%20height%3A%20550.0px%3B%0A%20%20%20%20%20%20%20%20%20%20%20%20%20%20%20%20%20%20%20%20left%3A%200.0%25%3B%0A%20%20%20%20%20%20%20%20%20%20%20%20%20%20%20%20%20%20%20%20top%3A%200.0%25%3B%0A%20%20%20%20%20%20%20%20%20%20%20%20%20%20%20%20%7D%0A%20%20%20%20%20%20%20%20%20%20%20%20%3C/style%3E%0A%20%20%20%20%20%20%20%20%0A%20%20%20%20%0A%20%20%20%20%20%20%20%20%20%20%20%20%20%20%20%20%20%20%20%20%3Cstyle%3E%0A%20%20%20%20%20%20%20%20%20%20%20%20%20%20%20%20%20%20%20%20%20%20%20%20.foliumtooltip%20%7B%0A%20%20%20%20%20%20%20%20%20%20%20%20%20%20%20%20%20%20%20%20%20%20%20%20%20%20%20%20%0A%20%20%20%20%20%20%20%20%20%20%20%20background-color%3A%20%22gray%22%3B%0A%20%20%20%20%20%20%20%20%20%20%20%20border%3A%200px%20%23FFFFFF%3B%0A%20%20%20%20%20%20%20%20%20%20%20%20border-radius%3A%200px%3B%0A%20%20%20%20%20%20%20%20%20%20%20%20box-shadow%3A%200px%3B%0A%20%20%20%20%20%20%20%20%20%20%20%20font-size%3A%2012px%3B%0A%20%20%20%20%20%20%20%20%0A%20%20%20%20%20%20%20%20%20%20%20%20%20%20%20%20%20%20%20%20%20%20%20%20%7D%0A%20%20%20%20%20%20%20%20%20%20%20%20%20%20%20%20%20%20%20%20%20%20%20.foliumtooltip%20table%7B%0A%20%20%20%20%20%20%20%20%20%20%20%20%20%20%20%20%20%20%20%20%20%20%20%20%20%20%20%20margin%3A%20auto%3B%0A%20%20%20%20%20%20%20%20%20%20%20%20%20%20%20%20%20%20%20%20%20%20%20%20%7D%0A%20%20%20%20%20%20%20%20%20%20%20%20%20%20%20%20%20%20%20%20%20%20%20%20.foliumtooltip%20tr%7B%0A%20%20%20%20%20%20%20%20%20%20%20%20%20%20%20%20%20%20%20%20%20%20%20%20%20%20%20%20text-align%3A%20left%3B%0A%20%20%20%20%20%20%20%20%20%20%20%20%20%20%20%20%20%20%20%20%20%20%20%20%7D%0A%20%20%20%20%20%20%20%20%20%20%20%20%20%20%20%20%20%20%20%20%20%20%20%20.foliumtooltip%20th%7B%0A%20%20%20%20%20%20%20%20%20%20%20%20%20%20%20%20%20%20%20%20%20%20%20%20%20%20%20%20padding%3A%202px%3B%20padding-right%3A%208px%3B%0A%20%20%20%20%20%20%20%20%20%20%20%20%20%20%20%20%20%20%20%20%20%20%20%20%7D%0A%20%20%20%20%20%20%20%20%20%20%20%20%20%20%20%20%20%20%20%20%3C/style%3E%0A%20%20%20%20%20%20%20%20%20%20%20%20%0A%20%20%20%20%0A%20%20%20%20%20%20%20%20%20%20%20%20%20%20%20%20%20%20%20%20%3Cstyle%3E%0A%20%20%20%20%20%20%20%20%20%20%20%20%20%20%20%20%20%20%20%20%20%20%20%20.foliumpopup%20%7B%0A%20%20%20%20%20%20%20%20%20%20%20%20%20%20%20%20%20%20%20%20%20%20%20%20%20%20%20%20background-color%3A%20light_gray%3B%0A%20%20%20%20%20%20%20%20%20%20%20%20%20%20%20%20%20%20%20%20%20%20%20%20%7D%0A%20%20%20%20%20%20%20%20%20%20%20%20%20%20%20%20%20%20%20%20%20%20%20.foliumpopup%20table%7B%0A%20%20%20%20%20%20%20%20%20%20%20%20%20%20%20%20%20%20%20%20%20%20%20%20%20%20%20%20margin%3A%20auto%3B%0A%20%20%20%20%20%20%20%20%20%20%20%20%20%20%20%20%20%20%20%20%20%20%20%20%7D%0A%20%20%20%20%20%20%20%20%20%20%20%20%20%20%20%20%20%20%20%20%20%20%20%20.foliumpopup%20tr%7B%0A%20%20%20%20%20%20%20%20%20%20%20%20%20%20%20%20%20%20%20%20%20%20%20%20%20%20%20%20text-align%3A%20left%3B%0A%20%20%20%20%20%20%20%20%20%20%20%20%20%20%20%20%20%20%20%20%20%20%20%20%7D%0A%20%20%20%20%20%20%20%20%20%20%20%20%20%20%20%20%20%20%20%20%20%20%20%20.foliumpopup%20th%7B%0A%20%20%20%20%20%20%20%20%20%20%20%20%20%20%20%20%20%20%20%20%20%20%20%20%20%20%20%20padding%3A%202px%3B%20padding-right%3A%208px%3B%0A%20%20%20%20%20%20%20%20%20%20%20%20%20%20%20%20%20%20%20%20%20%20%20%20%7D%0A%20%20%20%20%20%20%20%20%20%20%20%20%20%20%20%20%20%20%20%20%3C/style%3E%0A%20%20%20%20%20%20%20%20%20%20%20%20%0A%20%20%20%20%3Cscript%20src%3D%22https%3A//cdnjs.cloudflare.com/ajax/libs/d3/3.5.5/d3.min.js%22%3E%3C/script%3E%0A%3C/head%3E%0A%3Cbody%3E%20%20%20%20%0A%20%20%20%20%0A%20%20%20%20%20%20%20%20%20%20%20%20%20%3Ch3%20align%3D%22center%22%20style%3D%22font-size%3A20px%22%3E%3Cb%3EAC%20Transit%20Average%20Vehicle%20Speeds%20Between%20Stops%2C%20Route%28s%29%201T%2C%20PM%20Peak%2C%20Feb%2008%20%28Tue%29%3C/b%3E%3C/h3%3E%0A%20%20%20%20%20%20%20%20%20%20%20%20%20%0A%20%20%20%20%0A%20%20%20%20%20%20%20%20%20%20%20%20%3Cdiv%20class%3D%22folium-map%22%20id%3D%22map_5da2d6fef37a4d09848f929c24bdb5ed%22%20%3E%3C/div%3E%0A%20%20%20%20%20%20%20%20%0A%3C/body%3E%0A%3Cscript%3E%20%20%20%20%0A%20%20%20%20%0A%20%20%20%20%20%20%20%20%20%20%20%20var%20map_5da2d6fef37a4d09848f929c24bdb5ed%20%3D%20L.map%28%0A%20%20%20%20%20%20%20%20%20%20%20%20%20%20%20%20%22map_5da2d6fef37a4d09848f929c24bdb5ed%22%2C%0A%20%20%20%20%20%20%20%20%20%20%20%20%20%20%20%20%7B%0A%20%20%20%20%20%20%20%20%20%20%20%20%20%20%20%20%20%20%20%20center%3A%20%5B37.76851925423461%2C%20-122.20963396293357%5D%2C%0A%20%20%20%20%20%20%20%20%20%20%20%20%20%20%20%20%20%20%20%20crs%3A%20L.CRS.EPSG3857%2C%0A%20%20%20%20%20%20%20%20%20%20%20%20%20%20%20%20%20%20%20%20zoom%3A%2013%2C%0A%20%20%20%20%20%20%20%20%20%20%20%20%20%20%20%20%20%20%20%20zoomControl%3A%20true%2C%0A%20%20%20%20%20%20%20%20%20%20%20%20%20%20%20%20%20%20%20%20preferCanvas%3A%20false%2C%0A%20%20%20%20%20%20%20%20%20%20%20%20%20%20%20%20%7D%0A%20%20%20%20%20%20%20%20%20%20%20%20%29%3B%0A%0A%20%20%20%20%20%20%20%20%20%20%20%20%0A%0A%20%20%20%20%20%20%20%20%0A%20%20%20%20%0A%20%20%20%20%20%20%20%20%20%20%20%20var%20tile_layer_1a908ba7fea04f29a52163efe881f8fa%20%3D%20L.tileLayer%28%0A%20%20%20%20%20%20%20%20%20%20%20%20%20%20%20%20%22https%3A//cartodb-basemaps-%7Bs%7D.global.ssl.fastly.net/light_all/%7Bz%7D/%7Bx%7D/%7By%7D.png%22%2C%0A%20%20%20%20%20%20%20%20%20%20%20%20%20%20%20%20%7B%22attribution%22%3A%20%22%5Cu0026copy%3B%20%5Cu003ca%20href%3D%5C%22http%3A//www.openstreetmap.org/copyright%5C%22%5Cu003eOpenStreetMap%5Cu003c/a%5Cu003e%20contributors%20%5Cu0026copy%3B%20%5Cu003ca%20href%3D%5C%22http%3A//cartodb.com/attributions%5C%22%5Cu003eCartoDB%5Cu003c/a%5Cu003e%2C%20CartoDB%20%5Cu003ca%20href%20%3D%5C%22http%3A//cartodb.com/attributions%5C%22%5Cu003eattributions%5Cu003c/a%5Cu003e%22%2C%20%22detectRetina%22%3A%20false%2C%20%22maxNativeZoom%22%3A%2018%2C%20%22maxZoom%22%3A%2018%2C%20%22minZoom%22%3A%200%2C%20%22noWrap%22%3A%20false%2C%20%22opacity%22%3A%201%2C%20%22subdomains%22%3A%20%22abc%22%2C%20%22tms%22%3A%20false%7D%0A%20%20%20%20%20%20%20%20%20%20%20%20%29.addTo%28map_5da2d6fef37a4d09848f929c24bdb5ed%29%3B%0A%20%20%20%20%20%20%20%20%0A%20%20%20%20%0A%20%20%20%20%20%20%20%20function%20geo_json_689919d0dcd544b49012d27607c15a78_styler%28feature%29%20%7B%0A%20%20%20%20%20%20%20%20%20%20%20%20switch%28feature.id%29%20%7B%0A%20%20%20%20%20%20%20%20%20%20%20%20%20%20%20%20case%20%220%22%3A%20case%20%225%22%3A%20case%20%226%22%3A%20case%20%2213%22%3A%20case%20%2215%22%3A%20case%20%2217%22%3A%20case%20%2218%22%3A%20case%20%2227%22%3A%20case%20%2229%22%3A%20%0A%20%20%20%20%20%20%20%20%20%20%20%20%20%20%20%20%20%20%20%20return%20%7B%22color%22%3A%20%22%23FFFFFF%22%2C%20%22fillColor%22%3A%20%22%23fdae61ff%22%2C%20%22fillOpacity%22%3A%200.8%2C%20%22weight%22%3A%200.2%7D%3B%0A%20%20%20%20%20%20%20%20%20%20%20%20%20%20%20%20case%20%221%22%3A%20case%20%222%22%3A%20case%20%2223%22%3A%20case%20%2224%22%3A%20case%20%2225%22%3A%20case%20%2226%22%3A%20%0A%20%20%20%20%20%20%20%20%20%20%20%20%20%20%20%20%20%20%20%20return%20%7B%22color%22%3A%20%22%23FFFFFF%22%2C%20%22fillColor%22%3A%20%22%23d9ef8bff%22%2C%20%22fillOpacity%22%3A%200.8%2C%20%22weight%22%3A%200.2%7D%3B%0A%20%20%20%20%20%20%20%20%20%20%20%20%20%20%20%20case%20%2210%22%3A%20case%20%2219%22%3A%20case%20%2230%22%3A%20%0A%20%20%20%20%20%20%20%20%20%20%20%20%20%20%20%20%20%20%20%20return%20%7B%22color%22%3A%20%22%23FFFFFF%22%2C%20%22fillColor%22%3A%20%22%23f46d43ff%22%2C%20%22fillOpacity%22%3A%200.8%2C%20%22weight%22%3A%200.2%7D%3B%0A%20%20%20%20%20%20%20%20%20%20%20%20%20%20%20%20default%3A%0A%20%20%20%20%20%20%20%20%20%20%20%20%20%20%20%20%20%20%20%20return%20%7B%22color%22%3A%20%22%23FFFFFF%22%2C%20%22fillColor%22%3A%20%22%23fee08bff%22%2C%20%22fillOpacity%22%3A%200.8%2C%20%22weight%22%3A%200.2%7D%3B%0A%20%20%20%20%20%20%20%20%20%20%20%20%7D%0A%20%20%20%20%20%20%20%20%7D%0A%20%20%20%20%20%20%20%20function%20geo_json_689919d0dcd544b49012d27607c15a78_highlighter%28feature%29%20%7B%0A%20%20%20%20%20%20%20%20%20%20%20%20switch%28feature.id%29%20%7B%0A%20%20%20%20%20%20%20%20%20%20%20%20%20%20%20%20default%3A%0A%20%20%20%20%20%20%20%20%20%20%20%20%20%20%20%20%20%20%20%20return%20%7B%22fillColor%22%3A%20%22%23DD1C77%22%2C%20%22fillOpacity%22%3A%200.6%7D%3B%0A%20%20%20%20%20%20%20%20%20%20%20%20%7D%0A%20%20%20%20%20%20%20%20%7D%0A%0A%20%20%20%20%20%20%20%20function%20geo_json_689919d0dcd544b49012d27607c15a78_onEachFeature%28feature%2C%20layer%29%20%7B%0A%20%20%20%20%20%20%20%20%20%20%20%20layer.on%28%7B%0A%20%20%20%20%20%20%20%20%20%20%20%20%20%20%20%20mouseout%3A%20function%28e%29%20%7B%0A%20%20%20%20%20%20%20%20%20%20%20%20%20%20%20%20%20%20%20%20if%28typeof%20e.target.setStyle%20%3D%3D%3D%20%22function%22%29%7B%0A%20%20%20%20%20%20%20%20%20%20%20%20%20%20%20%20%20%20%20%20%20%20%20%20geo_json_689919d0dcd544b49012d27607c15a78.resetStyle%28e.target%29%3B%0A%20%20%20%20%20%20%20%20%20%20%20%20%20%20%20%20%20%20%20%20%7D%0A%20%20%20%20%20%20%20%20%20%20%20%20%20%20%20%20%7D%2C%0A%20%20%20%20%20%20%20%20%20%20%20%20%20%20%20%20mouseover%3A%20function%28e%29%20%7B%0A%20%20%20%20%20%20%20%20%20%20%20%20%20%20%20%20%20%20%20%20if%28typeof%20e.target.setStyle%20%3D%3D%3D%20%22function%22%29%7B%0A%20%20%20%20%20%20%20%20%20%20%20%20%20%20%20%20%20%20%20%20%20%20%20%20const%20highlightStyle%20%3D%20geo_json_689919d0dcd544b49012d27607c15a78_highlighter%28e.target.feature%29%0A%20%20%20%20%20%20%20%20%20%20%20%20%20%20%20%20%20%20%20%20%20%20%20%20e.target.setStyle%28highlightStyle%29%3B%0A%20%20%20%20%20%20%20%20%20%20%20%20%20%20%20%20%20%20%20%20%7D%0A%20%20%20%20%20%20%20%20%20%20%20%20%20%20%20%20%7D%2C%0A%20%20%20%20%20%20%20%20%20%20%20%20%7D%29%3B%0A%20%20%20%20%20%20%20%20%7D%3B%0A%20%20%20%20%20%20%20%20var%20geo_json_689919d0dcd544b49012d27607c15a78%20%3D%20L.geoJson%28null%2C%20%7B%0A%20%20%20%20%20%20%20%20%20%20%20%20%20%20%20%20onEachFeature%3A%20geo_json_689919d0dcd544b49012d27607c15a78_onEachFeature%2C%0A%20%20%20%20%20%20%20%20%20%20%20%20%0A%20%20%20%20%20%20%20%20%20%20%20%20%20%20%20%20style%3A%20geo_json_689919d0dcd544b49012d27607c15a78_styler%2C%0A%20%20%20%20%20%20%20%20%7D%29%3B%0A%0A%20%20%20%20%20%20%20%20function%20geo_json_689919d0dcd544b49012d27607c15a78_add%20%28data%29%20%7B%0A%20%20%20%20%20%20%20%20%20%20%20%20geo_json_689919d0dcd544b49012d27607c15a78%0A%20%20%20%20%20%20%20%20%20%20%20%20%20%20%20%20.addData%28data%29%0A%20%20%20%20%20%20%20%20%20%20%20%20%20%20%20%20.addTo%28map_5da2d6fef37a4d09848f929c24bdb5ed%29%3B%0A%20%20%20%20%20%20%20%20%7D%0A%20%20%20%20%20%20%20%20%20%20%20%20geo_json_689919d0dcd544b49012d27607c15a78_add%28%7B%22bbox%22%3A%20%5B-122.27180829836486%2C%2037.72501298215214%2C%20-122.1562270032883%2C%2037.80441624257023%5D%2C%20%22features%22%3A%20%5B%7B%22bbox%22%3A%20%5B-122.15816054344019%2C%2037.72501298215214%2C%20-122.1562270032883%2C%2037.72820939495636%5D%2C%20%22geometry%22%3A%20%7B%22coordinates%22%3A%20%5B%5B%5B-122.15624779943825%2C%2037.72590123817874%5D%2C%20%5B-122.1562270032883%2C%2037.72577142877088%5D%2C%20%5B-122.15639566237206%2C%2037.72543127754668%5D%2C%20%5B-122.15724379358112%2C%2037.72501298215214%5D%2C%20%5B-122.15716931381216%2C%2037.725259619337876%5D%2C%20%5B-122.15748030635596%2C%2037.72532023051693%5D%2C%20%5B-122.15675232964652%2C%2037.725671544186035%5D%2C%20%5B-122.15669530278012%2C%2037.725799574647546%5D%2C%20%5B-122.15811009648557%2C%2037.72785984985893%5D%2C%20%5B-122.15816054344019%2C%2037.72798529795243%5D%2C%20%5B-122.15801063184581%2C%2037.72820939495636%5D%2C%20%5B-122.15772660314215%2C%2037.728092194332014%5D%2C%20%5B-122.15624779943825%2C%2037.72590123817874%5D%5D%5D%2C%20%22type%22%3A%20%22Polygon%22%7D%2C%20%22id%22%3A%20%220%22%2C%20%22properties%22%3A%20%7B%22_20p_mph%22%3A%206.9%2C%20%22avg_mph%22%3A%209.3%2C%20%22delay_chg_sec%22%3A%20-29.0%2C%20%22delay_sec%22%3A%20260%2C%20%22direction_id%22%3A%20%221%22%2C%20%22last_loc%22%3A%20807.7555705317359%2C%20%22meters_from_last%22%3A%20379.9720331321071%2C%20%22n_trips%22%3A%2036%2C%20%22route_id%22%3A%20%221T%22%2C%20%22seconds_from_last%22%3A%2060.0%2C%20%22shape_id%22%3A%20%22shp-1T-05%22%2C%20%22shape_meters%22%3A%201188.0%2C%20%22speed_from_last%22%3A%206.332867218868452%2C%20%22speed_mph%22%3A%2014.166623968608727%2C%20%22stop_id%22%3A%20%226122%22%2C%20%22stop_name%22%3A%20%22San%20Leandro%20Civic%20Center%20NB%22%2C%20%22stop_sequence%22%3A%203%2C%20%22trip_id%22%3A%20%2213092020%22%2C%20%22trip_key%22%3A%201410230785512079583%2C%20%22trips_per_hour%22%3A%209.0%7D%2C%20%22type%22%3A%20%22Feature%22%7D%2C%20%7B%22bbox%22%3A%20%5B-122.1606779788562%2C%2037.728210860578294%2C%20-122.15791271318463%2C%2037.73159950255772%5D%2C%20%22geometry%22%3A%20%7B%22coordinates%22%3A%20%5B%5B%5B-122.15830556794096%2C%2037.72883676070285%5D%2C%20%5B-122.15791271318463%2C%2037.72842913701918%5D%2C%20%5B-122.15823306831497%2C%2037.728464961368864%5D%2C%20%5B-122.15827400311147%2C%2037.728210860578294%5D%2C%20%5B-122.15869040373151%2C%2037.72864505763132%5D%2C%20%5B-122.16061863012389%2C%2037.731241740653104%5D%2C%20%5B-122.1606779788562%2C%2037.731369275417%5D%2C%20%5B-122.1605361257635%2C%2037.73159950255772%5D%2C%20%5B-122.16024726594442%2C%2037.731484108681265%5D%2C%20%5B-122.15830556794096%2C%2037.72883676070285%5D%5D%5D%2C%20%22type%22%3A%20%22Polygon%22%7D%2C%20%22id%22%3A%20%221%22%2C%20%22properties%22%3A%20%7B%22_20p_mph%22%3A%2010.5%2C%20%22avg_mph%22%3A%2016.0%2C%20%22delay_chg_sec%22%3A%20-58.0%2C%20%22delay_sec%22%3A%20202%2C%20%22direction_id%22%3A%20%221%22%2C%20%22last_loc%22%3A%201187.727603663843%2C%20%22meters_from_last%22%3A%20438.4181751804697%2C%20%22n_trips%22%3A%2036%2C%20%22route_id%22%3A%20%221T%22%2C%20%22seconds_from_last%22%3A%2030.0%2C%20%22shape_id%22%3A%20%22shp-1T-05%22%2C%20%22shape_meters%22%3A%201626.0%2C%20%22speed_from_last%22%3A%2014.613939172682324%2C%20%22speed_mph%22%3A%2032.69138192929036%2C%20%22stop_id%22%3A%20%226124%22%2C%20%22stop_name%22%3A%20%22Georgia%20Way%20NB%22%2C%20%22stop_sequence%22%3A%204%2C%20%22trip_id%22%3A%20%2213092020%22%2C%20%22trip_key%22%3A%201410230785512079583%2C%20%22trips_per_hour%22%3A%209.0%7D%2C%20%22type%22%3A%20%22Feature%22%7D%2C%20%7B%22bbox%22%3A%20%5B-122.16380003491366%2C%2037.73158096035678%2C%20-122.16044222115252%2C%2037.73584364681924%5D%2C%20%22geometry%22%3A%20%7B%22coordinates%22%3A%20%5B%5B%5B-122.16044222115252%2C%2037.731818850753804%5D%2C%20%5B-122.16080551497929%2C%2037.731873129223914%5D%2C%20%5B-122.1607832022004%2C%2037.73158096035678%5D%2C%20%5B-122.16106104661073%2C%2037.731831880545315%5D%2C%20%5B-122.16380003491366%2C%2037.735553590560286%5D%2C%20%5B-122.16375043258957%2C%2037.73584364681924%5D%2C%20%5B-122.16340728412615%2C%2037.73573467689504%5D%2C%20%5B-122.16069155716636%2C%2037.732042866503924%5D%2C%20%5B-122.16044222115252%2C%2037.731818850753804%5D%5D%5D%2C%20%22type%22%3A%20%22Polygon%22%7D%2C%20%22id%22%3A%20%222%22%2C%20%22properties%22%3A%20%7B%22_20p_mph%22%3A%2012.4%2C%20%22avg_mph%22%3A%2015.4%2C%20%22delay_chg_sec%22%3A%20-36.0%2C%20%22delay_sec%22%3A%20167%2C%20%22direction_id%22%3A%20%221%22%2C%20%22last_loc%22%3A%201626.1457788443126%2C%20%22meters_from_last%22%3A%20545.3716611401778%2C%20%22n_trips%22%3A%2036%2C%20%22route_id%22%3A%20%221T%22%2C%20%22seconds_from_last%22%3A%2074.0%2C%20%22shape_id%22%3A%20%22shp-1T-05%22%2C%20%22shape_meters%22%3A%202172.0%2C%20%22speed_from_last%22%3A%207.369887312705106%2C%20%22speed_mph%22%3A%2016.48643791852132%2C%20%22stop_id%22%3A%20%226126%22%2C%20%22stop_name%22%3A%20%22Durant%20Avenue%22%2C%20%22stop_sequence%22%3A%205%2C%20%22trip_id%22%3A%20%2213092020%22%2C%20%22trip_key%22%3A%201410230785512079583%2C%20%22trips_per_hour%22%3A%209.0%7D%2C%20%22type%22%3A%20%22Feature%22%7D%2C%20%7B%22bbox%22%3A%20%5B-122.16750142388555%2C%2037.73577733364399%2C%20-122.16357334675763%2C%2037.74085956693488%5D%2C%20%22geometry%22%3A%20%7B%22coordinates%22%3A%20%5B%5B%5B-122.16750142388555%2C%2037.7405299832211%5D%2C%20%5B-122.16748291640528%2C%2037.74085956693488%5D%2C%20%5B-122.16710979167756%2C%2037.74071261646937%5D%2C%20%5B-122.16357334675763%2C%2037.73595995536461%5D%2C%20%5B-122.16394644093484%2C%2037.736106916877205%5D%2C%20%5B-122.16396496277213%2C%2037.73577733364399%5D%2C%20%5B-122.16750142388555%2C%2037.7405299832211%5D%5D%5D%2C%20%22type%22%3A%20%22Polygon%22%7D%2C%20%22id%22%3A%20%223%22%2C%20%22properties%22%3A%20%7B%22_20p_mph%22%3A%209.4%2C%20%22avg_mph%22%3A%2013.0%2C%20%22delay_chg_sec%22%3A%20-64.0%2C%20%22delay_sec%22%3A%20104%2C%20%22direction_id%22%3A%20%221%22%2C%20%22last_loc%22%3A%202171.5174399844905%2C%20%22meters_from_last%22%3A%20647.9126960062144%2C%20%22n_trips%22%3A%2036%2C%20%22route_id%22%3A%20%221T%22%2C%20%22seconds_from_last%22%3A%2060.0%2C%20%22shape_id%22%3A%20%22shp-1T-05%22%2C%20%22shape_meters%22%3A%202819.0%2C%20%22speed_from_last%22%3A%2010.798544933436908%2C%20%22speed_mph%22%3A%2024.156345016098363%2C%20%22stop_id%22%3A%20%226128%22%2C%20%22stop_name%22%3A%20%22103rd%20Avenue%22%2C%20%22stop_sequence%22%3A%206%2C%20%22trip_id%22%3A%20%2213092020%22%2C%20%22trip_key%22%3A%201410230785512079583%2C%20%22trips_per_hour%22%3A%209.0%7D%2C%20%22type%22%3A%20%22Feature%22%7D%2C%20%7B%22bbox%22%3A%20%5B-122.16962212458313%2C%2037.74079198745112%2C%20-122.16730589595697%2C%2037.7435687479266%5D%2C%20%22geometry%22%3A%20%7B%22coordinates%22%3A%20%5B%5B%5B-122.16962212458313%2C%2037.74334843990841%5D%2C%20%5B-122.16952347340343%2C%2037.7435687479266%5D%2C%20%5B-122.16923172223775%2C%2037.74353273531618%5D%2C%20%5B-122.16730589595697%2C%2037.7409762766007%5D%2C%20%5B-122.16759763626078%2C%2037.741012293906124%5D%2C%20%5B-122.16769628973327%2C%2037.74079198745112%5D%2C%20%5B-122.16962212458313%2C%2037.74334843990841%5D%5D%5D%2C%20%22type%22%3A%20%22Polygon%22%7D%2C%20%22id%22%3A%20%224%22%2C%20%22properties%22%3A%20%7B%22_20p_mph%22%3A%2010.6%2C%20%22avg_mph%22%3A%2014.1%2C%20%22delay_chg_sec%22%3A%20-26.0%2C%20%22delay_sec%22%3A%2078%2C%20%22direction_id%22%3A%20%221%22%2C%20%22last_loc%22%3A%202819.430135990705%2C%20%22meters_from_last%22%3A%20350.0323325215727%2C%20%22n_trips%22%3A%2036%2C%20%22route_id%22%3A%20%221T%22%2C%20%22seconds_from_last%22%3A%2045.0%2C%20%22shape_id%22%3A%20%22shp-1T-05%22%2C%20%22shape_meters%22%3A%203169.0%2C%20%22speed_from_last%22%3A%207.778496278257171%2C%20%22speed_mph%22%3A%2017.400496174461292%2C%20%22stop_id%22%3A%20%226130%22%2C%20%22stop_name%22%3A%20%2298th%20Avenue%22%2C%20%22stop_sequence%22%3A%207%2C%20%22trip_id%22%3A%20%2213092020%22%2C%20%22trip_key%22%3A%201410230785512079583%2C%20%22trips_per_hour%22%3A%209.0%7D%2C%20%22type%22%3A%20%22Feature%22%7D%2C%20%7B%22bbox%22%3A%20%5B-122.17156410145408%2C%2037.74349976395084%2C%20-122.16934335598356%2C%2037.746199248386986%5D%2C%20%22geometry%22%3A%20%7B%22coordinates%22%3A%20%5B%5B%5B-122.17156410145408%2C%2037.745984141604765%5D%2C%20%5B-122.17145935373847%2C%2037.746199248386986%5D%2C%20%5B-122.17117130282904%2C%2037.74616523703452%5D%2C%20%5B-122.16934335598356%2C%2037.74368085340382%5D%2C%20%5B-122.16963139652914%2C%2037.743714869155845%5D%2C%20%5B-122.1697361460165%2C%2037.74349976395084%5D%2C%20%5B-122.17156410145408%2C%2037.745984141604765%5D%5D%5D%2C%20%22type%22%3A%20%22Polygon%22%7D%2C%20%22id%22%3A%20%225%22%2C%20%22properties%22%3A%20%7B%22_20p_mph%22%3A%205.4%2C%20%22avg_mph%22%3A%2010.4%2C%20%22delay_chg_sec%22%3A%2028.0%2C%20%22delay_sec%22%3A%20106%2C%20%22direction_id%22%3A%20%221%22%2C%20%22last_loc%22%3A%203169.4624685122776%2C%20%22meters_from_last%22%3A%20339.0720482855463%2C%20%22n_trips%22%3A%2036%2C%20%22route_id%22%3A%20%221T%22%2C%20%22seconds_from_last%22%3A%2089.0%2C%20%22shape_id%22%3A%20%22shp-1T-05%22%2C%20%22shape_meters%22%3A%203509.0%2C%20%22speed_from_last%22%3A%203.8097982953432172%2C%20%22speed_mph%22%3A%208.522518786682777%2C%20%22stop_id%22%3A%20%226132%22%2C%20%22stop_name%22%3A%20%2295th%20Avenue%22%2C%20%22stop_sequence%22%3A%208%2C%20%22trip_id%22%3A%20%2213092020%22%2C%20%22trip_key%22%3A%201410230785512079583%2C%20%22trips_per_hour%22%3A%209.0%7D%2C%20%22type%22%3A%20%22Feature%22%7D%2C%20%7B%22bbox%22%3A%20%5B-122.17400829337325%2C%2037.74613346735044%2C%20-122.17128212198052%2C%2037.74952716713307%5D%2C%20%22geometry%22%3A%20%7B%22coordinates%22%3A%20%5B%5B%5B-122.17400829337325%2C%2037.749278376586965%5D%2C%20%5B-122.17392934138422%2C%2037.74952716713307%5D%2C%20%5B-122.17361634683795%2C%2037.74946064828769%5D%2C%20%5B-122.17128212198052%2C%2037.74631573143546%5D%2C%20%5B-122.17159510134141%2C%2037.746382256388664%5D%2C%20%5B-122.17167405776016%2C%2037.74613346735044%5D%2C%20%5B-122.17400829337325%2C%2037.749278376586965%5D%5D%5D%2C%20%22type%22%3A%20%22Polygon%22%7D%2C%20%22id%22%3A%20%226%22%2C%20%22properties%22%3A%20%7B%22_20p_mph%22%3A%208.6%2C%20%22avg_mph%22%3A%2011.3%2C%20%22delay_chg_sec%22%3A%20-44.0%2C%20%22delay_sec%22%3A%2063%2C%20%22direction_id%22%3A%20%221%22%2C%20%22last_loc%22%3A%203508.534516797824%2C%20%22meters_from_last%22%3A%20428.74650445842235%2C%20%22n_trips%22%3A%2036%2C%20%22route_id%22%3A%20%221T%22%2C%20%22seconds_from_last%22%3A%2034.0%2C%20%22shape_id%22%3A%20%22shp-1T-05%22%2C%20%22shape_meters%22%3A%203937.0%2C%20%22speed_from_last%22%3A%2012.610191307600658%2C%20%22speed_mph%22%3A%2028.208997955102674%2C%20%22stop_id%22%3A%20%226134%22%2C%20%22stop_name%22%3A%20%2290th%20Avenue%22%2C%20%22stop_sequence%22%3A%209%2C%20%22trip_id%22%3A%20%2213092020%22%2C%20%22trip_key%22%3A%201410230785512079583%2C%20%22trips_per_hour%22%3A%209.0%7D%2C%20%22type%22%3A%20%22Feature%22%7D%2C%20%7B%22bbox%22%3A%20%5B-122.17620684404591%2C%2037.74945698536934%2C%20-122.17374856083488%2C%2037.75248160370058%5D%2C%20%22geometry%22%3A%20%7B%22coordinates%22%3A%20%5B%5B%5B-122.17620684404591%2C%2037.75225066825299%5D%2C%20%5B-122.17611425046796%2C%2037.75248160370058%5D%2C%20%5B-122.17581450955846%2C%2037.75243243727189%5D%2C%20%5B-122.17374856083488%2C%2037.749638747641%5D%2C%20%5B-122.17404828923212%2C%2037.74968791924467%5D%2C%20%5B-122.1741408857207%2C%2037.74945698536934%5D%2C%20%5B-122.17620684404591%2C%2037.75225066825299%5D%5D%5D%2C%20%22type%22%3A%20%22Polygon%22%7D%2C%20%22id%22%3A%20%227%22%2C%20%22properties%22%3A%20%7B%22_20p_mph%22%3A%208.3%2C%20%22avg_mph%22%3A%2013.9%2C%20%22delay_chg_sec%22%3A%20-34.0%2C%20%22delay_sec%22%3A%2029%2C%20%22direction_id%22%3A%20%221%22%2C%20%22last_loc%22%3A%203937.2810212562463%2C%20%22meters_from_last%22%3A%20380.8084178647814%2C%20%22n_trips%22%3A%2036%2C%20%22route_id%22%3A%20%221T%22%2C%20%22seconds_from_last%22%3A%2033.0%2C%20%22shape_id%22%3A%20%22shp-1T-05%22%2C%20%22shape_meters%22%3A%204318.0%2C%20%22speed_from_last%22%3A%2011.539649026205497%2C%20%22speed_mph%22%3A%2025.814194871621698%2C%20%22stop_id%22%3A%20%226136%22%2C%20%22stop_name%22%3A%20%2286th%20Avenue%22%2C%20%22stop_sequence%22%3A%2010%2C%20%22trip_id%22%3A%20%2213092020%22%2C%20%22trip_key%22%3A%201410230785512079583%2C%20%22trips_per_hour%22%3A%209.0%7D%2C%20%22type%22%3A%20%22Feature%22%7D%2C%20%7B%22bbox%22%3A%20%5B-122.17963579896927%2C%2037.75241685942635%2C%20-122.1759388860442%2C%2037.75602658609971%5D%2C%20%22geometry%22%3A%20%7B%22coordinates%22%3A%20%5B%5B%5B-122.17819243717528%2C%2037.75548393375351%5D%2C%20%5B-122.17793975391439%2C%2037.75527277248431%5D%2C%20%5B-122.1759388860442%2C%2037.752600290460585%5D%2C%20%5B-122.17627433799147%2C%2037.75269544394732%5D%2C%20%5B-122.17632998470548%2C%2037.75241685942635%5D%2C%20%5B-122.17831712403905%2C%2037.755070987078994%5D%2C%20%5B-122.17952407904208%2C%2037.755721760775245%5D%2C%20%5B-122.17963579896927%2C%2037.755989586718556%5D%2C%20%5B-122.17928251895405%2C%2037.75602658609971%5D%2C%20%5B-122.17819243717528%2C%2037.75548393375351%5D%5D%5D%2C%20%22type%22%3A%20%22Polygon%22%7D%2C%20%22id%22%3A%20%228%22%2C%20%22properties%22%3A%20%7B%22_20p_mph%22%3A%209.0%2C%20%22avg_mph%22%3A%2013.8%2C%20%22delay_chg_sec%22%3A%2043.0%2C%20%22delay_sec%22%3A%2073%2C%20%22direction_id%22%3A%20%221%22%2C%20%22last_loc%22%3A%204318.089439121028%2C%20%22meters_from_last%22%3A%20494.3727678225423%2C%20%22n_trips%22%3A%2036%2C%20%22route_id%22%3A%20%221T%22%2C%20%22seconds_from_last%22%3A%20135.0%2C%20%22shape_id%22%3A%20%22shp-1T-05%22%2C%20%22shape_meters%22%3A%204812.0%2C%20%22speed_from_last%22%3A%203.6620205023892023%2C%20%22speed_mph%22%3A%208.191939863844645%2C%20%22stop_id%22%3A%20%226138%22%2C%20%22stop_name%22%3A%20%2282nd%20Avenue%22%2C%20%22stop_sequence%22%3A%2011%2C%20%22trip_id%22%3A%20%2213092020%22%2C%20%22trip_key%22%3A%201410230785512079583%2C%20%22trips_per_hour%22%3A%209.0%7D%2C%20%22type%22%3A%20%22Feature%22%7D%2C%20%7B%22bbox%22%3A%20%5B-122.18455103373677%2C%2037.75584806175134%2C%20-122.17954512798975%2C%2037.758370433808196%5D%2C%20%22geometry%22%3A%20%7B%22coordinates%22%3A%20%5B%5B%5B-122.18443473129857%2C%2037.758062005074684%5D%2C%20%5B-122.18455103373677%2C%2037.75832719673427%5D%2C%20%5B-122.1842005797291%2C%2037.758370433808196%5D%2C%20%5B-122.17954512798975%2C%2037.756156481409676%5D%2C%20%5B-122.1798955743395%2C%2037.7561132579519%5D%2C%20%5B-122.17977929178586%2C%2037.75584806175134%5D%2C%20%5B-122.18443473129857%2C%2037.758062005074684%5D%5D%5D%2C%20%22type%22%3A%20%22Polygon%22%7D%2C%20%22id%22%3A%20%229%22%2C%20%22properties%22%3A%20%7B%22_20p_mph%22%3A%209.2%2C%20%22avg_mph%22%3A%2013.5%2C%20%22delay_chg_sec%22%3A%20-18.0%2C%20%22delay_sec%22%3A%2055%2C%20%22direction_id%22%3A%20%221%22%2C%20%22last_loc%22%3A%204812.46220694357%2C%20%22meters_from_last%22%3A%20504.639405095475%2C%20%22n_trips%22%3A%2036%2C%20%22route_id%22%3A%20%221T%22%2C%20%22seconds_from_last%22%3A%2075.0%2C%20%22shape_id%22%3A%20%22shp-1T-05%22%2C%20%22shape_meters%22%3A%205317.0%2C%20%22speed_from_last%22%3A%206.728525401273%2C%20%22speed_mph%22%3A%2015.051711322647702%2C%20%22stop_id%22%3A%20%226140%22%2C%20%22stop_name%22%3A%20%2277th%20Avenue%22%2C%20%22stop_sequence%22%3A%2012%2C%20%22trip_id%22%3A%20%2213092020%22%2C%20%22trip_key%22%3A%201410230785512079583%2C%20%22trips_per_hour%22%3A%209.0%7D%2C%20%22type%22%3A%20%22Feature%22%7D%2C%20%7B%22bbox%22%3A%20%5B-122.18834165519323%2C%2037.75818568655103%2C%20-122.18446056981477%2C%2037.76019740453041%5D%2C%20%22geometry%22%3A%20%7B%22coordinates%22%3A%20%5B%5B%5B-122.18827898367385%2C%2037.75988891380638%5D%2C%20%5B-122.18834165519323%2C%2037.760128537132125%5D%2C%20%5B-122.18804495685991%2C%2037.76019740453041%5D%2C%20%5B-122.18446056981477%2C%2037.758494170291435%5D%2C%20%5B-122.18475726470285%2C%2037.75842531176644%5D%2C%20%5B-122.1846946060528%2C%2037.75818568655103%5D%2C%20%5B-122.18827898367385%2C%2037.75988891380638%5D%5D%5D%2C%20%22type%22%3A%20%22Polygon%22%7D%2C%20%22id%22%3A%20%2210%22%2C%20%22properties%22%3A%20%7B%22_20p_mph%22%3A%205.1%2C%20%22avg_mph%22%3A%208.5%2C%20%22delay_chg_sec%22%3A%2063.0%2C%20%22delay_sec%22%3A%20119%2C%20%22direction_id%22%3A%20%221%22%2C%20%22last_loc%22%3A%205317.101612039045%2C%20%22meters_from_last%22%3A%20388.5445645703794%2C%20%22n_trips%22%3A%2036%2C%20%22route_id%22%3A%20%221T%22%2C%20%22seconds_from_last%22%3A%20137.0%2C%20%22shape_id%22%3A%20%22shp-1T-05%22%2C%20%22shape_meters%22%3A%205706.0%2C%20%22speed_from_last%22%3A%202.8360917121925504%2C%20%22speed_mph%22%3A%206.344337160174735%2C%20%22stop_id%22%3A%20%226142%22%2C%20%22stop_name%22%3A%20%2273rd%20Avenue%22%2C%20%22stop_sequence%22%3A%2013%2C%20%22trip_id%22%3A%20%2213092020%22%2C%20%22trip_key%22%3A%201410230785512079583%2C%20%22trips_per_hour%22%3A%209.0%7D%2C%20%22type%22%3A%20%22Feature%22%7D%2C%20%7B%22bbox%22%3A%20%5B-122.19139996980043%2C%2037.759984849468665%2C%20-122.18824559137512%2C%2037.7616775009521%5D%2C%20%22geometry%22%3A%20%7B%22coordinates%22%3A%20%5B%5B%5B-122.19137267127094%2C%2037.76136965107654%5D%2C%20%5B-122.19139996980043%2C%2037.761593004984036%5D%2C%20%5B-122.19113729639011%2C%2037.7616775009521%5D%2C%20%5B-122.18824559137512%2C%2037.7602926936777%5D%2C%20%5B-122.18850826319381%2C%2037.760208204045966%5D%2C%20%5B-122.188480973776%2C%2037.759984849468665%5D%2C%20%5B-122.19137267127094%2C%2037.76136965107654%5D%5D%5D%2C%20%22type%22%3A%20%22Polygon%22%7D%2C%20%22id%22%3A%20%2211%22%2C%20%22properties%22%3A%20%7B%22_20p_mph%22%3A%208.2%2C%20%22avg_mph%22%3A%2012.9%2C%20%22delay_chg_sec%22%3A%20-1.0%2C%20%22delay_sec%22%3A%20119%2C%20%22direction_id%22%3A%20%221%22%2C%20%22last_loc%22%3A%205705.646176609424%2C%20%22meters_from_last%22%3A%20315.68169713663247%2C%20%22n_trips%22%3A%2036%2C%20%22route_id%22%3A%20%221T%22%2C%20%22seconds_from_last%22%3A%2059.0%2C%20%22shape_id%22%3A%20%22shp-1T-05%22%2C%20%22shape_meters%22%3A%206021.0%2C%20%22speed_from_last%22%3A%205.35053723960394%2C%20%22speed_mph%22%3A%2011.969151804994015%2C%20%22stop_id%22%3A%20%226144%22%2C%20%22stop_name%22%3A%20%2267th%20Avenue%22%2C%20%22stop_sequence%22%3A%2014%2C%20%22trip_id%22%3A%20%2213092020%22%2C%20%22trip_key%22%3A%201410230785512079583%2C%20%22trips_per_hour%22%3A%209.0%7D%2C%20%22type%22%3A%20%22Feature%22%7D%2C%20%7B%22bbox%22%3A%20%5B-122.19595375908473%2C%2037.76145838165195%2C%20-122.19132599618001%2C%2037.76378656106395%5D%2C%20%22geometry%22%3A%20%7B%22coordinates%22%3A%20%5B%5B%5B-122.19585442774819%2C%2037.763477164124346%5D%2C%20%5B-122.19595375908473%2C%2037.763733065621025%5D%2C%20%5B-122.19562230777332%2C%2037.76378656106395%5D%2C%20%5B-122.19132599618001%2C%2037.761767770288714%5D%2C%20%5B-122.19165744163625%2C%2037.761714286728555%5D%2C%20%5B-122.19155812762531%2C%2037.76145838165195%5D%2C%20%5B-122.19585442774819%2C%2037.763477164124346%5D%5D%5D%2C%20%22type%22%3A%20%22Polygon%22%7D%2C%20%22id%22%3A%20%2212%22%2C%20%22properties%22%3A%20%7B%22_20p_mph%22%3A%209.5%2C%20%22avg_mph%22%3A%2012.2%2C%20%22delay_chg_sec%22%3A%20-39.0%2C%20%22delay_sec%22%3A%2080%2C%20%22direction_id%22%3A%20%221%22%2C%20%22last_loc%22%3A%206021.327873746057%2C%20%22meters_from_last%22%3A%20464.56067474742395%2C%20%22n_trips%22%3A%2036%2C%20%22route_id%22%3A%20%221T%22%2C%20%22seconds_from_last%22%3A%2057.0%2C%20%22shape_id%22%3A%20%22shp-1T-05%22%2C%20%22shape_meters%22%3A%206486.0%2C%20%22speed_from_last%22%3A%208.150187276270595%2C%20%22speed_mph%22%3A%2018.23196893701732%2C%20%22stop_id%22%3A%20%226146%22%2C%20%22stop_name%22%3A%20%2263rd%20Avenue%22%2C%20%22stop_sequence%22%3A%2015%2C%20%22trip_id%22%3A%20%2213092020%22%2C%20%22trip_key%22%3A%201410230785512079583%2C%20%22trips_per_hour%22%3A%209.0%7D%2C%20%22type%22%3A%20%22Feature%22%7D%2C%20%7B%22bbox%22%3A%20%5B-122.20044428890851%2C%2037.763584935421335%2C%20-122.19584846392013%2C%2037.765931444345675%5D%2C%20%22geometry%22%3A%20%7B%22coordinates%22%3A%20%5B%5B%5B-122.20034802592211%2C%2037.76562344830213%5D%2C%20%5B-122.20044428890851%2C%2037.76587964274297%5D%2C%20%5B-122.20011294331498%2C%2037.765931444345675%5D%2C%20%5B-122.19584846392013%2C%2037.76389292311823%5D%2C%20%5B-122.19617980345507%2C%2037.7638411333063%5D%2C%20%5B-122.1960835576456%2C%2037.763584935421335%5D%2C%20%5B-122.20034802592211%2C%2037.76562344830213%5D%5D%5D%2C%20%22type%22%3A%20%22Polygon%22%7D%2C%20%22id%22%3A%20%2213%22%2C%20%22properties%22%3A%20%7B%22_20p_mph%22%3A%207.1%2C%20%22avg_mph%22%3A%2011.6%2C%20%22delay_chg_sec%22%3A%2051.0%2C%20%22delay_sec%22%3A%20132%2C%20%22direction_id%22%3A%20%221%22%2C%20%22last_loc%22%3A%206485.888548493481%2C%20%22meters_from_last%22%3A%20463.1273667264013%2C%20%22n_trips%22%3A%2036%2C%20%22route_id%22%3A%20%221T%22%2C%20%22seconds_from_last%22%3A%20151.0%2C%20%22shape_id%22%3A%20%22shp-1T-05%22%2C%20%22shape_meters%22%3A%206949.0%2C%20%22speed_from_last%22%3A%203.0670686538172274%2C%20%22speed_mph%22%3A%206.861032578589138%2C%20%22stop_id%22%3A%20%226148%22%2C%20%22stop_name%22%3A%20%22Seminary%22%2C%20%22stop_sequence%22%3A%2016%2C%20%22trip_id%22%3A%20%2213092020%22%2C%20%22trip_key%22%3A%201410230785512079583%2C%20%22trips_per_hour%22%3A%209.0%7D%2C%20%22type%22%3A%20%22Feature%22%7D%2C%20%7B%22bbox%22%3A%20%5B-122.2056437871416%2C%2037.76574390784125%2C%20-122.20036908492625%2C%2037.76834243626278%5D%2C%20%22geometry%22%3A%20%7B%22coordinates%22%3A%20%5B%5B%5B-122.20551279829164%2C%2037.76803233999867%5D%2C%20%5B-122.2056437871416%2C%2037.76830210601109%5D%2C%20%5B-122.20528215928442%2C%2037.76834243626278%5D%2C%20%5B-122.20036908492625%2C%2037.76605399467072%5D%2C%20%5B-122.20073070439375%2C%2037.76601367924557%5D%2C%20%5B-122.2005997372046%2C%2037.76574390784125%5D%2C%20%5B-122.20551279829164%2C%2037.76803233999867%5D%5D%5D%2C%20%22type%22%3A%20%22Polygon%22%7D%2C%20%22id%22%3A%20%2214%22%2C%20%22properties%22%3A%20%7B%22_20p_mph%22%3A%209.7%2C%20%22avg_mph%22%3A%2012.8%2C%20%22delay_chg_sec%22%3A%20-31.0%2C%20%22delay_sec%22%3A%20102%2C%20%22direction_id%22%3A%20%221%22%2C%20%22last_loc%22%3A%206949.015915219882%2C%20%22meters_from_last%22%3A%20529.9624886834654%2C%20%22n_trips%22%3A%2036%2C%20%22route_id%22%3A%20%221T%22%2C%20%22seconds_from_last%22%3A%2080.0%2C%20%22shape_id%22%3A%20%22shp-1T-05%22%2C%20%22shape_meters%22%3A%207479.0%2C%20%22speed_from_last%22%3A%206.624531108543318%2C%20%22speed_mph%22%3A%2014.819076089811402%2C%20%22stop_id%22%3A%20%226185%22%2C%20%22stop_name%22%3A%20%2254th%20Avenue%22%2C%20%22stop_sequence%22%3A%2017%2C%20%22trip_id%22%3A%20%2213092020%22%2C%20%22trip_key%22%3A%201410230785512079583%2C%20%22trips_per_hour%22%3A%209.0%7D%2C%20%22type%22%3A%20%22Feature%22%7D%2C%20%7B%22bbox%22%3A%20%5B-122.20895538863225%2C%2037.76815911844923%2C%20-122.20555041756229%2C%2037.76995458310787%5D%2C%20%22geometry%22%3A%20%7B%22coordinates%22%3A%20%5B%5B%5B-122.20891541795785%2C%2037.76964605657326%5D%2C%20%5B-122.20895538863225%2C%2037.76987485821005%5D%2C%20%5B-122.20868143631596%2C%2037.76995458310787%5D%2C%20%5B-122.20555041756229%2C%2037.76846763888408%5D%2C%20%5B-122.20582436777607%2C%2037.76838792114153%5D%2C%20%5B-122.20578440744244%2C%2037.76815911844923%5D%2C%20%5B-122.20891541795785%2C%2037.76964605657326%5D%5D%5D%2C%20%22type%22%3A%20%22Polygon%22%7D%2C%20%22id%22%3A%20%2215%22%2C%20%22properties%22%3A%20%7B%22_20p_mph%22%3A%207.3%2C%20%22avg_mph%22%3A%2011.0%2C%20%22delay_chg_sec%22%3A%2024.0%2C%20%22delay_sec%22%3A%20126%2C%20%22direction_id%22%3A%20%221%22%2C%20%22last_loc%22%3A%207478.9784039033475%2C%20%22meters_from_last%22%3A%20338.99927279366966%2C%20%22n_trips%22%3A%2036%2C%20%22route_id%22%3A%20%221T%22%2C%20%22seconds_from_last%22%3A%20100.0%2C%20%22shape_id%22%3A%20%22shp-1T-05%22%2C%20%22shape_meters%22%3A%207818.0%2C%20%22speed_from_last%22%3A%203.3899927279366966%2C%20%22speed_mph%22%3A%207.583413732394391%2C%20%22stop_id%22%3A%20%226150%22%2C%20%22stop_name%22%3A%20%2248th%20Avenue%22%2C%20%22stop_sequence%22%3A%2018%2C%20%22trip_id%22%3A%20%2213092020%22%2C%20%22trip_key%22%3A%201410230785512079583%2C%20%22trips_per_hour%22%3A%209.0%7D%2C%20%22type%22%3A%20%22Feature%22%7D%2C%20%7B%22bbox%22%3A%20%5B-122.21314043691652%2C%2037.769727390795666%2C%20-122.20885206801219%2C%2037.77192864068647%5D%2C%20%22geometry%22%3A%20%7B%22coordinates%22%3A%20%5B%5B%5B-122.21305861102813%2C%2037.77162040638473%5D%2C%20%5B-122.21314043691652%2C%2037.77186942112588%5D%2C%20%5B-122.21282400897528%2C%2037.77192864068647%5D%2C%20%5B-122.20885206801219%2C%2037.770035617338685%5D%2C%20%5B-122.20916849110415%2C%2037.76997640826439%5D%2C%20%5B-122.20908668046401%2C%2037.769727390795666%5D%2C%20%5B-122.21305861102813%2C%2037.77162040638473%5D%5D%5D%2C%20%22type%22%3A%20%22Polygon%22%7D%2C%20%22id%22%3A%20%2216%22%2C%20%22properties%22%3A%20%7B%22_20p_mph%22%3A%2012.4%2C%20%22avg_mph%22%3A%2015.0%2C%20%22delay_chg_sec%22%3A%20-24.0%2C%20%22delay_sec%22%3A%20103%2C%20%22direction_id%22%3A%20%221%22%2C%20%22last_loc%22%3A%207817.977676697017%2C%20%22meters_from_last%22%3A%20430.74634288134075%2C%20%22n_trips%22%3A%2036%2C%20%22route_id%22%3A%20%221T%22%2C%20%22seconds_from_last%22%3A%2063.0%2C%20%22shape_id%22%3A%20%22shp-1T-05%22%2C%20%22shape_meters%22%3A%208249.0%2C%20%22speed_from_last%22%3A%206.8372435377990595%2C%20%22speed_mph%22%3A%2015.294913794056496%2C%20%22stop_id%22%3A%20%226152%22%2C%20%22stop_name%22%3A%20%22High%20Street%22%2C%20%22stop_sequence%22%3A%2019%2C%20%22trip_id%22%3A%20%2213092020%22%2C%20%22trip_key%22%3A%201410230785512079583%2C%20%22trips_per_hour%22%3A%209.0%7D%2C%20%22type%22%3A%20%22Feature%22%7D%2C%20%7B%22bbox%22%3A%20%5B-122.21916076015104%2C%2037.77173267058857%2C%20-122.2130603841419%2C%2037.77474861474686%5D%2C%20%22geometry%22%3A%20%7B%22coordinates%22%3A%20%5B%5B%5B-122.21899216620183%2C%2037.77444013890729%5D%2C%20%5B-122.21916076015104%2C%2037.77473010027248%5D%2C%20%5B-122.21875806298054%2C%2037.77474861474686%5D%2C%20%5B-122.2130603841419%2C%2037.772041135321786%5D%2C%20%5B-122.2134630681847%2C%2037.77202263999505%5D%2C%20%5B-122.21329450234205%2C%2037.77173267058857%5D%2C%20%5B-122.21899216620183%2C%2037.77444013890729%5D%5D%5D%2C%20%22type%22%3A%20%22Polygon%22%7D%2C%20%22id%22%3A%20%2217%22%2C%20%22properties%22%3A%20%7B%22_20p_mph%22%3A%206.3%2C%20%22avg_mph%22%3A%209.8%2C%20%22delay_chg_sec%22%3A%2078.0%2C%20%22delay_sec%22%3A%20182%2C%20%22direction_id%22%3A%20%221%22%2C%20%22last_loc%22%3A%208248.724019578358%2C%20%22meters_from_last%22%3A%20617.6581235754875%2C%20%22n_trips%22%3A%2036%2C%20%22route_id%22%3A%20%221T%22%2C%20%22seconds_from_last%22%3A%20197.0%2C%20%22shape_id%22%3A%20%22shp-1T-05%22%2C%20%22shape_meters%22%3A%208866.0%2C%20%22speed_from_last%22%3A%203.135320424241053%2C%20%22speed_mph%22%3A%207.013711789027236%2C%20%22stop_id%22%3A%20%226183%22%2C%20%22stop_name%22%3A%20%2239th%20Avenue%22%2C%20%22stop_sequence%22%3A%2020%2C%20%22trip_id%22%3A%20%2213092020%22%2C%20%22trip_key%22%3A%201410230785512079583%2C%20%22trips_per_hour%22%3A%209.0%7D%2C%20%22type%22%3A%20%22Feature%22%7D%2C%20%7B%22bbox%22%3A%20%5B-122.22339008351196%2C%2037.77458864569293%2C%20-122.21906864015853%2C%2037.776817656655766%5D%2C%20%22geometry%22%3A%20%7B%22coordinates%22%3A%20%5B%5B%5B-122.2233073316046%2C%2037.776510014288135%5D%2C%20%5B-122.22339008351196%2C%2037.77676015607822%5D%2C%20%5B-122.22307147666399%2C%2037.776817656655766%5D%2C%20%5B-122.21906864015853%2C%2037.77489628019937%5D%2C%20%5B-122.21938724191416%2C%2037.77483879026202%5D%2C%20%5B-122.21930450547337%2C%2037.77458864569293%5D%2C%20%5B-122.2233073316046%2C%2037.776510014288135%5D%5D%5D%2C%20%22type%22%3A%20%22Polygon%22%7D%2C%20%22id%22%3A%20%2218%22%2C%20%22properties%22%3A%20%7B%22_20p_mph%22%3A%206.8%2C%20%22avg_mph%22%3A%209.6%2C%20%22delay_chg_sec%22%3A%20-8.0%2C%20%22delay_sec%22%3A%20175%2C%20%22direction_id%22%3A%20%221%22%2C%20%22last_loc%22%3A%208866.382143153845%2C%20%22meters_from_last%22%3A%20435.77563134099%2C%20%22n_trips%22%3A%2036%2C%20%22route_id%22%3A%20%221T%22%2C%20%22seconds_from_last%22%3A%2079.0%2C%20%22shape_id%22%3A%20%22shp-1T-05%22%2C%20%22shape_meters%22%3A%209302.0%2C%20%22speed_from_last%22%3A%205.51614723216443%2C%20%22speed_mph%22%3A%2012.339621358351831%2C%20%22stop_id%22%3A%20%226181%22%2C%20%22stop_name%22%3A%20%22Fruitvale%22%2C%20%22stop_sequence%22%3A%2021%2C%20%22trip_id%22%3A%20%2213092020%22%2C%20%22trip_key%22%3A%201410230785512079583%2C%20%22trips_per_hour%22%3A%209.0%7D%2C%20%22type%22%3A%20%22Feature%22%7D%2C%20%7B%22bbox%22%3A%20%5B-122.22675245773503%2C%2037.77662174761338%2C%20-122.22330594171086%2C%2037.778436650847766%5D%2C%20%22geometry%22%3A%20%7B%22coordinates%22%3A%20%5B%5B%5B-122.22671055473339%2C%2037.77812817362246%5D%2C%20%5B-122.22675245773503%2C%2037.778357936048806%5D%2C%20%5B-122.22647644299232%2C%2037.778436650847766%5D%2C%20%5B-122.22330594171086%2C%2037.776930218658144%5D%2C%20%5B-122.22358195423749%2C%2037.77685151115882%5D%2C%20%5B-122.22354006178801%2C%2037.77662174761338%5D%2C%20%5B-122.22671055473339%2C%2037.77812817362246%5D%5D%5D%2C%20%22type%22%3A%20%22Polygon%22%7D%2C%20%22id%22%3A%20%2219%22%2C%20%22properties%22%3A%20%7B%22_20p_mph%22%3A%206.5%2C%20%22avg_mph%22%3A%208.8%2C%20%22delay_chg_sec%22%3A%2034.0%2C%20%22delay_sec%22%3A%20209%2C%20%22direction_id%22%3A%20%221%22%2C%20%22last_loc%22%3A%209302.157774494835%2C%20%22meters_from_last%22%3A%20343.8700961373652%2C%20%22n_trips%22%3A%2036%2C%20%22route_id%22%3A%20%221T%22%2C%20%22seconds_from_last%22%3A%20106.0%2C%20%22shape_id%22%3A%20%22shp-1T-05%22%2C%20%22shape_meters%22%3A%209646.0%2C%20%22speed_from_last%22%3A%203.2440575107298604%2C%20%22speed_mph%22%3A%207.256956651502698%2C%20%22stop_id%22%3A%20%226179%22%2C%20%22stop_name%22%3A%20%2231st%20%20Avenue%22%2C%20%22stop_sequence%22%3A%2022%2C%20%22trip_id%22%3A%20%2213092020%22%2C%20%22trip_key%22%3A%201410230785512079583%2C%20%22trips_per_hour%22%3A%209.0%7D%2C%20%22type%22%3A%20%22Feature%22%7D%2C%20%7B%22bbox%22%3A%20%5B-122.23011667680802%2C%2037.77821137914784%2C%20-122.22664540821218%2C%2037.780322329952455%5D%2C%20%22geometry%22%3A%20%7B%22coordinates%22%3A%20%5B%5B%5B-122.22664540821218%2C%2037.778517053405174%5D%2C%20%5B-122.22693307244413%2C%2037.778446619839926%5D%2C%20%5B-122.22688532107588%2C%2037.77821137914784%5D%2C%20%5B-122.22798765545775%2C%2037.77875300570435%5D%2C%20%5B-122.23009887365966%2C%2037.78003715443207%5D%2C%20%5B-122.23011667680802%2C%2037.78027499313355%5D%2C%20%5B-122.2298215498539%2C%2037.780322329952455%5D%2C%20%5B-122.22773806645999%2C%2037.779053926557964%5D%2C%20%5B-122.22664540821218%2C%2037.778517053405174%5D%5D%5D%2C%20%22type%22%3A%20%22Polygon%22%7D%2C%20%22id%22%3A%20%2220%22%2C%20%22properties%22%3A%20%7B%22_20p_mph%22%3A%209.3%2C%20%22avg_mph%22%3A%2012.2%2C%20%22delay_chg_sec%22%3A%20-2.0%2C%20%22delay_sec%22%3A%20208%2C%20%22direction_id%22%3A%20%221%22%2C%20%22last_loc%22%3A%209646.0278706322%2C%20%22meters_from_last%22%3A%20369.30965774266406%2C%20%22n_trips%22%3A%2036%2C%20%22route_id%22%3A%20%221T%22%2C%20%22seconds_from_last%22%3A%2071.0%2C%20%22shape_id%22%3A%20%22shp-1T-05%22%2C%20%22shape_meters%22%3A%2010015.0%2C%20%22speed_from_last%22%3A%205.20154447524879%2C%20%22speed_mph%22%3A%2011.635854991131543%2C%20%22stop_id%22%3A%20%226154%22%2C%20%22stop_name%22%3A%20%2228th%20Avenue%22%2C%20%22stop_sequence%22%3A%2023%2C%20%22trip_id%22%3A%20%2213092020%22%2C%20%22trip_key%22%3A%201410230785512079583%2C%20%22trips_per_hour%22%3A%209.0%7D%2C%20%22type%22%3A%20%22Feature%22%7D%2C%20%7B%22bbox%22%3A%20%5B-122.23438606128215%2C%2037.78014955517163%2C%20-122.2300093963556%2C%2037.78285229242735%5D%2C%20%22geometry%22%3A%20%7B%22coordinates%22%3A%20%5B%5B%5B-122.23432083476727%2C%2037.78256530383568%5D%2C%20%5B-122.23438606128215%2C%2037.78282989860832%5D%2C%20%5B-122.23404650573778%2C%2037.78285229242735%5D%2C%20%5B-122.2300093963556%2C%2037.780436534541096%5D%2C%20%5B-122.23034894216967%2C%2037.78041415216003%5D%2C%20%5B-122.23028373199561%2C%2037.78014955517163%5D%2C%20%5B-122.23432083476727%2C%2037.78256530383568%5D%5D%5D%2C%20%22type%22%3A%20%22Polygon%22%7D%2C%20%22id%22%3A%20%2221%22%2C%20%22properties%22%3A%20%7B%22_20p_mph%22%3A%2010.2%2C%20%22avg_mph%22%3A%2014.4%2C%20%22delay_chg_sec%22%3A%2026.0%2C%20%22delay_sec%22%3A%20235%2C%20%22direction_id%22%3A%20%221%22%2C%20%22last_loc%22%3A%2010015.337528374865%2C%20%22meters_from_last%22%3A%20470.717854619179%2C%20%22n_trips%22%3A%2036%2C%20%22route_id%22%3A%20%221T%22%2C%20%22seconds_from_last%22%3A%20121.0%2C%20%22shape_id%22%3A%20%22shp-1T-05%22%2C%20%22shape_meters%22%3A%2010486.0%2C%20%22speed_from_last%22%3A%203.8902302034642893%2C%20%22speed_mph%22%3A%208.702444965149615%2C%20%22stop_id%22%3A%20%226156%22%2C%20%22stop_name%22%3A%20%2224th%20Avenue%22%2C%20%22stop_sequence%22%3A%2024%2C%20%22trip_id%22%3A%20%2213092020%22%2C%20%22trip_key%22%3A%201410230785512079583%2C%20%22trips_per_hour%22%3A%209.0%7D%2C%20%22type%22%3A%20%22Feature%22%7D%2C%20%7B%22bbox%22%3A%20%5B-122.23952672535609%2C%2037.7827052189837%2C%20-122.23428012411871%2C%2037.785907332869805%5D%2C%20%22geometry%22%3A%20%7B%22coordinates%22%3A%20%5B%5B%5B-122.23942001528259%2C%2037.78561785457975%5D%2C%20%5B-122.23952672535609%2C%2037.785907332869805%5D%2C%20%5B-122.23914559788933%2C%2037.785904796945985%5D%2C%20%5B-122.23428012411871%2C%2037.78299215023151%5D%2C%20%5B-122.23466123662135%2C%2037.78299470162956%5D%2C%20%5B-122.23455454946827%2C%2037.7827052189837%5D%2C%20%5B-122.23942001528259%2C%2037.78561785457975%5D%5D%5D%2C%20%22type%22%3A%20%22Polygon%22%7D%2C%20%22id%22%3A%20%2222%22%2C%20%22properties%22%3A%20%7B%22_20p_mph%22%3A%2010.7%2C%20%22avg_mph%22%3A%2014.9%2C%20%22delay_chg_sec%22%3A%20-64.0%2C%20%22delay_sec%22%3A%20172%2C%20%22direction_id%22%3A%20%221%22%2C%20%22last_loc%22%3A%2010486.055382994044%2C%20%22meters_from_last%22%3A%20566.9524622902009%2C%20%22n_trips%22%3A%2036%2C%20%22route_id%22%3A%20%221T%22%2C%20%22seconds_from_last%22%3A%2049.0%2C%20%22shape_id%22%3A%20%22shp-1T-05%22%2C%20%22shape_meters%22%3A%2011053.0%2C%20%22speed_from_last%22%3A%2011.570458414085731%2C%20%22speed_mph%22%3A%2025.883115472309782%2C%20%22stop_id%22%3A%20%226158%22%2C%20%22stop_name%22%3A%20%2220th%20Avenue%22%2C%20%22stop_sequence%22%3A%2025%2C%20%22trip_id%22%3A%20%2213092020%22%2C%20%22trip_key%22%3A%201410230785512079583%2C%20%22trips_per_hour%22%3A%209.0%7D%2C%20%22type%22%3A%20%22Feature%22%7D%2C%20%7B%22bbox%22%3A%20%5B-122.24556417988174%2C%2037.785785239034574%2C%20-122.23942555812215%2C%2037.78951836201658%5D%2C%20%22geometry%22%3A%20%7B%22coordinates%22%3A%20%5B%5B%5B-122.24541478818693%2C%2037.78920347951368%5D%2C%20%5B-122.24556417988174%2C%2037.78951836201658%5D%2C%20%5B-122.24514050032097%2C%2037.78949050719992%5D%2C%20%5B-122.23942555812215%2C%2037.78607225366686%5D%2C%20%5B-122.23984921625178%2C%2037.78610012869011%5D%2C%20%5B-122.23969985535686%2C%2037.785785239034574%5D%2C%20%5B-122.24541478818693%2C%2037.78920347951368%5D%5D%5D%2C%20%22type%22%3A%20%22Polygon%22%7D%2C%20%22id%22%3A%20%2223%22%2C%20%22properties%22%3A%20%7B%22_20p_mph%22%3A%2013.7%2C%20%22avg_mph%22%3A%2016.6%2C%20%22delay_chg_sec%22%3A%207.0%2C%20%22delay_sec%22%3A%20179%2C%20%22direction_id%22%3A%20%221%22%2C%20%22last_loc%22%3A%2011053.007845284244%2C%20%22meters_from_last%22%3A%20666.2957795505463%2C%20%22n_trips%22%3A%2036%2C%20%22route_id%22%3A%20%221T%22%2C%20%22seconds_from_last%22%3A%20141.0%2C%20%22shape_id%22%3A%20%22shp-1T-05%22%2C%20%22shape_meters%22%3A%2011719.0%2C%20%22speed_from_last%22%3A%204.725501982627988%2C%20%22speed_mph%22%3A%2010.57094793513881%2C%20%22stop_id%22%3A%20%226160%22%2C%20%22stop_name%22%3A%20%2214th%20Avenue%20NB%22%2C%20%22stop_sequence%22%3A%2026%2C%20%22trip_id%22%3A%20%2213092020%22%2C%20%22trip_key%22%3A%201410230785512079583%2C%20%22trips_per_hour%22%3A%209.0%7D%2C%20%22type%22%3A%20%22Feature%22%7D%2C%20%7B%22bbox%22%3A%20%5B-122.24921652968712%2C%2037.789401292824245%2C%20-122.24564659484318%2C%2037.79210959266607%5D%2C%20%22geometry%22%3A%20%7B%22coordinates%22%3A%20%5B%5B%5B-122.24590837972035%2C%2037.78980476631542%5D%2C%20%5B-122.24564659484318%2C%2037.78974854371356%5D%2C%20%5B-122.24592838959317%2C%2037.789622642192256%5D%2C%20%5B-122.24576575822897%2C%2037.789401292824245%5D%2C%20%5B-122.24609507505868%2C%2037.78947497676562%5D%2C%20%5B-122.247178915736%2C%2037.78998452181872%5D%2C%20%5B-122.24921652968712%2C%2037.79185416147533%5D%2C%20%5B-122.24919450695894%2C%2037.79210959266607%5D%2C%20%5B-122.24887191573174%2C%2037.79208900161046%5D%2C%20%5B-122.24687597014449%2C%2037.79025598549241%5D%2C%20%5B-122.24590837972035%2C%2037.78980476631542%5D%5D%5D%2C%20%22type%22%3A%20%22Polygon%22%7D%2C%20%22id%22%3A%20%2224%22%2C%20%22properties%22%3A%20%7B%22_20p_mph%22%3A%2011.9%2C%20%22avg_mph%22%3A%2017.2%2C%20%22delay_chg_sec%22%3A%20-25.0%2C%20%22delay_sec%22%3A%20154%2C%20%22direction_id%22%3A%20%221%22%2C%20%22last_loc%22%3A%2011719.30362483479%2C%20%22meters_from_last%22%3A%20446.3399337173523%2C%20%22n_trips%22%3A%2036%2C%20%22route_id%22%3A%20%221T%22%2C%20%22seconds_from_last%22%3A%2081.0%2C%20%22shape_id%22%3A%20%22shp-1T-05%22%2C%20%22shape_meters%22%3A%2012166.0%2C%20%22speed_from_last%22%3A%205.510369552066078%2C%20%22speed_mph%22%3A%2012.326696687971817%2C%20%22stop_id%22%3A%20%226162%22%2C%20%22stop_name%22%3A%20%2210th%20Avenue%20NB%22%2C%20%22stop_sequence%22%3A%2027%2C%20%22trip_id%22%3A%20%2213092020%22%2C%20%22trip_key%22%3A%201410230785512079583%2C%20%22trips_per_hour%22%3A%209.0%7D%2C%20%22type%22%3A%20%22Feature%22%7D%2C%20%7B%22bbox%22%3A%20%5B-122.25374279328054%2C%2037.79203976580078%2C%20-122.24910791314876%2C%2037.79613787018441%5D%2C%20%22geometry%22%3A%20%7B%22coordinates%22%3A%20%5B%5B%5B-122.24910791314876%2C%2037.79230003448755%5D%2C%20%5B-122.2494974175674%2C%2037.792345453401076%5D%2C%20%5B-122.24942198557349%2C%2037.79203976580078%5D%2C%20%5B-122.24998632917624%2C%2037.792466946634065%5D%2C%20%5B-122.25370239298998%2C%2037.795828056713574%5D%2C%20%5B-122.25374279328054%2C%2037.79613787018441%5D%2C%20%5B-122.25336000576284%2C%2037.796064942749354%5D%2C%20%5B-122.24965069032552%2C%2037.79270992299401%5D%2C%20%5B-122.24910791314876%2C%2037.79230003448755%5D%5D%5D%2C%20%22type%22%3A%20%22Polygon%22%7D%2C%20%22id%22%3A%20%2225%22%2C%20%22properties%22%3A%20%7B%22_20p_mph%22%3A%2012.5%2C%20%22avg_mph%22%3A%2017.5%2C%20%22delay_chg_sec%22%3A%20-77.0%2C%20%22delay_sec%22%3A%2078%2C%20%22direction_id%22%3A%20%221%22%2C%20%22last_loc%22%3A%2012165.643558552143%2C%20%22meters_from_last%22%3A%20602.8415406188615%2C%20%22n_trips%22%3A%2036%2C%20%22route_id%22%3A%20%221T%22%2C%20%22seconds_from_last%22%3A%2043.0%2C%20%22shape_id%22%3A%20%22shp-1T-05%22%2C%20%22shape_meters%22%3A%2012768.0%2C%20%22speed_from_last%22%3A%2014.019570712066546%2C%20%22speed_mph%22%3A%2031.361779682892866%2C%20%22stop_id%22%3A%20%226166%22%2C%20%22stop_name%22%3A%20%225th%20Avenue%20NB%22%2C%20%22stop_sequence%22%3A%2028%2C%20%22trip_id%22%3A%20%2213092020%22%2C%20%22trip_key%22%3A%201410230785512079583%2C%20%22trips_per_hour%22%3A%209.0%7D%2C%20%22type%22%3A%20%22Feature%22%7D%2C%20%7B%22bbox%22%3A%20%5B-122.25590608915982%2C%2037.796080074263294%2C%20-122.25365083932633%2C%2037.79798464867079%5D%2C%20%22geometry%22%3A%20%7B%22coordinates%22%3A%20%5B%5B%5B-122.25365083932633%2C%2037.796328950681776%5D%2C%20%5B-122.25392746148155%2C%2037.79629732204091%5D%2C%20%5B-122.25397935362423%2C%2037.796080074263294%5D%2C%20%5B-122.25541678822958%2C%2037.79726731901869%5D%2C%20%5B-122.25590608915982%2C%2037.797763874405895%5D%2C%20%5B-122.25582617211802%2C%2037.79797573599682%5D%2C%20%5B-122.25554689618446%2C%2037.79798464867079%5D%2C%20%5B-122.25508014518101%2C%2037.79750948593846%5D%2C%20%5B-122.25365083932633%2C%2037.796328950681776%5D%5D%5D%2C%20%22type%22%3A%20%22Polygon%22%7D%2C%20%22id%22%3A%20%2226%22%2C%20%22properties%22%3A%20%7B%22_20p_mph%22%3A%2013.0%2C%20%22avg_mph%22%3A%2015.9%2C%20%22delay_chg_sec%22%3A%20-5.0%2C%20%22delay_sec%22%3A%2074%2C%20%22direction_id%22%3A%20%221%22%2C%20%22last_loc%22%3A%2012768.485099171005%2C%20%22meters_from_last%22%3A%20274.18229085618987%2C%20%22n_trips%22%3A%2036%2C%20%22route_id%22%3A%20%221T%22%2C%20%22seconds_from_last%22%3A%2054.0%2C%20%22shape_id%22%3A%20%22shp-1T-05%22%2C%20%22shape_meters%22%3A%2013043.0%2C%20%22speed_from_last%22%3A%205.077449830670183%2C%20%22speed_mph%22%3A%2011.3582552712092%2C%20%22stop_id%22%3A%20%226168%22%2C%20%22stop_name%22%3A%20%222nd%20Avenue%20NB%22%2C%20%22stop_sequence%22%3A%2029%2C%20%22trip_id%22%3A%20%2213092020%22%2C%20%22trip_key%22%3A%201410230785512079583%2C%20%22trips_per_hour%22%3A%209.0%7D%2C%20%22type%22%3A%20%22Feature%22%7D%2C%20%7B%22bbox%22%3A%20%5B-122.26443235987352%2C%2037.79792268611386%2C%20-122.2557405169952%2C%2037.80031690687059%5D%2C%20%22geometry%22%3A%20%7B%22coordinates%22%3A%20%5B%5B%5B-122.26235860316784%2C%2037.799657713981645%5D%2C%20%5B-122.26153967731155%2C%2037.799467620961636%5D%2C%20%5B-122.26105637868893%2C%2037.798995776992854%5D%2C%20%5B-122.26071147847665%2C%2037.798816168682585%5D%2C%20%5B-122.25852940135668%2C%2037.79868426504949%5D%2C%20%5B-122.25702949688265%2C%2037.799138824781906%5D%2C%20%5B-122.25676406581518%2C%2037.79902949914497%5D%2C%20%5B-122.2557405169952%2C%2037.79816912085639%5D%2C%20%5B-122.25622830162449%2C%2037.79831693616587%5D%2C%20%5B-122.2560719680038%2C%2037.79792268611386%5D%2C%20%5B-122.25710046322058%2C%2037.79876769659031%5D%2C%20%5B-122.25846644288553%2C%2037.798322810001416%5D%2C%20%5B-122.26084999221787%2C%2037.7984673545835%5D%2C%20%5B-122.26137502758549%2C%2037.79873587349512%5D%2C%20%5B-122.26179873436433%2C%2037.799160506503696%5D%2C%20%5B-122.2625203663195%2C%2037.79932062220584%5D%2C%20%5B-122.26418320198721%2C%2037.79996057387593%5D%2C%20%5B-122.26443235987352%2C%2037.80031690687059%5D%2C%20%5B-122.26391293362326%2C%2037.80025667418712%5D%2C%20%5B-122.26235860316784%2C%2037.799657713981645%5D%5D%5D%2C%20%22type%22%3A%20%22Polygon%22%7D%2C%20%22id%22%3A%20%2227%22%2C%20%22properties%22%3A%20%7B%22_20p_mph%22%3A%209.2%2C%20%22avg_mph%22%3A%2011.7%2C%20%22delay_chg_sec%22%3A%20-54.0%2C%20%22delay_sec%22%3A%2020%2C%20%22direction_id%22%3A%20%221%22%2C%20%22last_loc%22%3A%2013042.667390027194%2C%20%22meters_from_last%22%3A%20867.4377491874056%2C%20%22n_trips%22%3A%2036%2C%20%22route_id%22%3A%20%221T%22%2C%20%22seconds_from_last%22%3A%20171.0%2C%20%22shape_id%22%3A%20%22shp-1T-05%22%2C%20%22shape_meters%22%3A%2013910.0%2C%20%22speed_from_last%22%3A%205.072735375364945%2C%20%22speed_mph%22%3A%2011.347709034691382%2C%20%22stop_id%22%3A%20%226169%22%2C%20%22stop_name%22%3A%20%22Madison%20NB%22%2C%20%22stop_sequence%22%3A%2030%2C%20%22trip_id%22%3A%20%2213092020%22%2C%20%22trip_key%22%3A%201410230785512079583%2C%20%22trips_per_hour%22%3A%209.0%7D%2C%20%22type%22%3A%20%22Feature%22%7D%2C%20%7B%22bbox%22%3A%20%5B-122.26923692415066%2C%2037.800198714728346%2C%20-122.26445534033346%2C%2037.802234124114975%5D%2C%20%22geometry%22%3A%20%7B%22coordinates%22%3A%20%5B%5B%5B-122.26445534033346%2C%2037.80052908154329%5D%2C%20%5B-122.26477419171458%2C%2037.80044197756421%5D%2C%20%5B-122.26463558976342%2C%2037.800198714728346%5D%2C%20%5B-122.2660354972627%2C%2037.80067658569197%5D%2C%20%5B-122.26911768054677%2C%2037.80191324646041%5D%2C%20%5B-122.26923692415066%2C%2037.80216284656964%5D%2C%20%5B-122.2689118436337%2C%2037.802234124114975%5D%2C%20%5B-122.2658487589422%2C%2037.80100473790436%5D%2C%20%5B-122.26445534033346%2C%2037.80052908154329%5D%5D%5D%2C%20%22type%22%3A%20%22Polygon%22%7D%2C%20%22id%22%3A%20%2228%22%2C%20%22properties%22%3A%20%7B%22_20p_mph%22%3A%2010.4%2C%20%22avg_mph%22%3A%2012.9%2C%20%22delay_chg_sec%22%3A%20-21.0%2C%20%22delay_sec%22%3A%200%2C%20%22direction_id%22%3A%20%221%22%2C%20%22last_loc%22%3A%2013910.1051392146%2C%20%22meters_from_last%22%3A%20465.8133552768304%2C%20%22n_trips%22%3A%2036%2C%20%22route_id%22%3A%20%221T%22%2C%20%22seconds_from_last%22%3A%2067.0%2C%20%22shape_id%22%3A%20%22shp-1T-05%22%2C%20%22shape_meters%22%3A%2014376.0%2C%20%22speed_from_last%22%3A%206.952438138460155%2C%20%22speed_mph%22%3A%2015.552604115735368%2C%20%22stop_id%22%3A%20%226178%22%2C%20%22stop_name%22%3A%20%22Harrison%20NB%22%2C%20%22stop_sequence%22%3A%2031%2C%20%22trip_id%22%3A%20%2213092020%22%2C%20%22trip_key%22%3A%201410230785512079583%2C%20%22trips_per_hour%22%3A%209.0%7D%2C%20%22type%22%3A%20%22Feature%22%7D%2C%20%7B%22bbox%22%3A%20%5B-122.2713115363738%2C%2037.80201528576734%2C%20-122.26917545830835%2C%2037.80306281699375%5D%2C%20%22geometry%22%3A%20%7B%22coordinates%22%3A%20%5B%5B%5B-122.26917545830835%2C%2037.80233962389876%5D%2C%20%5B-122.26942039374585%2C%2037.80223309905557%5D%2C%20%5B-122.26937243594101%2C%2037.80201528576734%5D%2C%20%5B-122.27117024093324%2C%2037.802699278565825%5D%2C%20%5B-122.2713115363738%2C%2037.8027958316416%5D%2C%20%5B-122.27127960113025%2C%2037.80301547570605%5D%2C%20%5B-122.27100656230556%2C%2037.80306281699375%5D%2C%20%5B-122.26917545830835%2C%2037.80233962389876%5D%5D%5D%2C%20%22type%22%3A%20%22Polygon%22%7D%2C%20%22id%22%3A%20%2229%22%2C%20%22properties%22%3A%20%7B%22_20p_mph%22%3A%208.6%2C%20%22avg_mph%22%3A%2010.1%2C%20%22delay_chg_sec%22%3A%205.0%2C%20%22delay_sec%22%3A%205%2C%20%22direction_id%22%3A%20%221%22%2C%20%22last_loc%22%3A%2014375.91849449143%2C%20%22meters_from_last%22%3A%20210.674684421012%2C%20%22n_trips%22%3A%2036%2C%20%22route_id%22%3A%20%221T%22%2C%20%22seconds_from_last%22%3A%2048.0%2C%20%22shape_id%22%3A%20%22shp-1T-05%22%2C%20%22shape_meters%22%3A%2014587.0%2C%20%22speed_from_last%22%3A%204.3890559254377495%2C%20%22speed_mph%22%3A%209.818318105204247%2C%20%22stop_id%22%3A%20%226175%22%2C%20%22stop_name%22%3A%20%22City%20Center%20NB%22%2C%20%22stop_sequence%22%3A%2032%2C%20%22trip_id%22%3A%20%2213092020%22%2C%20%22trip_key%22%3A%201410230785512079583%2C%20%22trips_per_hour%22%3A%209.0%7D%2C%20%22type%22%3A%20%22Feature%22%7D%2C%20%7B%22bbox%22%3A%20%5B-122.27180829836486%2C%2037.80290232593282%2C%20-122.27057329301061%2C%2037.80441624257023%5D%2C%20%22geometry%22%3A%20%7B%22coordinates%22%3A%20%5B%5B%5B-122.2712580533123%2C%2037.80319072717539%5D%2C%20%5B-122.27121955570482%2C%2037.80302386505367%5D%2C%20%5B-122.27137357461655%2C%2037.80290584294849%5D%2C%20%5B-122.27147935163342%2C%2037.80290232593282%5D%2C%20%5B-122.27137840294087%2C%2037.80301879999031%5D%2C%20%5B-122.27158514956714%2C%2037.80311387533206%5D%2C%20%5B-122.27149091956582%2C%2037.80290410819596%5D%2C%20%5B-122.27170019377718%2C%2037.80294742721199%5D%2C%20%5B-122.27180829836486%2C%2037.80305249292487%5D%2C%20%5B-122.27179310131132%2C%2037.80318742156649%5D%2C%20%5B-122.27110656890922%2C%2037.80424102445649%5D%2C%20%5B-122.27091853073644%2C%2037.80441624257023%5D%2C%20%5B-122.27064010822389%2C%2037.804396607025296%5D%2C%20%5B-122.27057329301061%2C%2037.80418192423279%5D%2C%20%5B-122.2712580533123%2C%2037.80319072717539%5D%5D%5D%2C%20%22type%22%3A%20%22Polygon%22%7D%2C%20%22id%22%3A%20%2230%22%2C%20%22properties%22%3A%20%7B%22_20p_mph%22%3A%205.7%2C%20%22avg_mph%22%3A%207.9%2C%20%22delay_chg_sec%22%3A%20106.0%2C%20%22delay_sec%22%3A%20112%2C%20%22direction_id%22%3A%20%221%22%2C%20%22last_loc%22%3A%2014586.593178912442%2C%20%22meters_from_last%22%3A%20261.06996994450674%2C%20%22n_trips%22%3A%2036%2C%20%22route_id%22%3A%20%221T%22%2C%20%22seconds_from_last%22%3A%20161.0%2C%20%22shape_id%22%3A%20%22shp-1T-05%22%2C%20%22shape_meters%22%3A%2014848.0%2C%20%22speed_from_last%22%3A%201.6215526083509735%2C%20%22speed_mph%22%3A%203.627413184881128%2C%20%22stop_id%22%3A%20%226173%22%2C%20%22stop_name%22%3A%20%2214th%20Street%20NB%22%2C%20%22stop_sequence%22%3A%2033%2C%20%22trip_id%22%3A%20%2213092020%22%2C%20%22trip_key%22%3A%201410230785512079583%2C%20%22trips_per_hour%22%3A%209.0%7D%2C%20%22type%22%3A%20%22Feature%22%7D%5D%2C%20%22type%22%3A%20%22FeatureCollection%22%7D%29%3B%0A%0A%20%20%20%20%20%20%20%20%0A%20%20%20%20%0A%20%20%20%20geo_json_689919d0dcd544b49012d27607c15a78.bindTooltip%28%0A%20%20%20%20function%28layer%29%7B%0A%20%20%20%20let%20div%20%3D%20L.DomUtil.create%28%27div%27%29%3B%0A%20%20%20%20%0A%20%20%20%20let%20handleObject%20%3D%20feature%3D%3Etypeof%28feature%29%3D%3D%27object%27%20%3F%20JSON.stringify%28feature%29%20%3A%20feature%3B%0A%20%20%20%20let%20fields%20%3D%20%5B%22avg_mph%22%2C%20%22shape_meters%22%2C%20%22route_id%22%2C%20%22shape_id%22%2C%20%22direction_id%22%2C%20%22stop_id%22%2C%20%22stop_sequence%22%2C%20%22trips_per_hour%22%5D%3B%0A%20%20%20%20let%20aliases%20%3D%20%5B%22Speed%20%28miles%20per%20hour%29%22%2C%20%22Distance%20along%20route%20%28meters%29%22%2C%20%22Route%22%2C%20%22Shape%20ID%22%2C%20%22Direction%20ID%22%2C%20%22Next%20Stop%20ID%22%2C%20%22Next%20Stop%20Sequence%22%2C%20%22Trips%20per%20Hour%22%5D%3B%0A%20%20%20%20let%20table%20%3D%20%27%3Ctable%3E%27%20%2B%0A%20%20%20%20%20%20%20%20String%28%0A%20%20%20%20%20%20%20%20fields.map%28%0A%20%20%20%20%20%20%20%20%28v%2Ci%29%3D%3E%0A%20%20%20%20%20%20%20%20%60%3Ctr%3E%0A%20%20%20%20%20%20%20%20%20%20%20%20%3Cth%3E%24%7Baliases%5Bi%5D%7D%3C/th%3E%0A%20%20%20%20%20%20%20%20%20%20%20%20%0A%20%20%20%20%20%20%20%20%20%20%20%20%3Ctd%3E%24%7BhandleObject%28layer.feature.properties%5Bv%5D%29%7D%3C/td%3E%0A%20%20%20%20%20%20%20%20%3C/tr%3E%60%29.join%28%27%27%29%29%0A%20%20%20%20%2B%27%3C/table%3E%27%3B%0A%20%20%20%20div.innerHTML%3Dtable%3B%0A%20%20%20%20%0A%20%20%20%20return%20div%0A%20%20%20%20%7D%0A%20%20%20%20%2C%7B%22className%22%3A%20%22foliumtooltip%22%2C%20%22maxWidth%22%3A%20100%2C%20%22minWidth%22%3A%2050%2C%20%22sticky%22%3A%20false%7D%29%3B%0A%20%20%20%20%20%20%20%20%20%20%20%20%20%20%20%20%20%20%20%20%20%0A%20%20%20%20%0A%20%20%20%20geo_json_689919d0dcd544b49012d27607c15a78.bindPopup%28%0A%20%20%20%20function%28layer%29%7B%0A%20%20%20%20let%20div%20%3D%20L.DomUtil.create%28%27div%27%29%3B%0A%20%20%20%20%0A%20%20%20%20let%20handleObject%20%3D%20feature%3D%3Etypeof%28feature%29%3D%3D%27object%27%20%3F%20JSON.stringify%28feature%29%20%3A%20feature%3B%0A%20%20%20%20let%20fields%20%3D%20%5B%22avg_mph%22%2C%20%22shape_meters%22%2C%20%22route_id%22%2C%20%22shape_id%22%2C%20%22direction_id%22%2C%20%22stop_id%22%2C%20%22stop_sequence%22%2C%20%22trips_per_hour%22%5D%3B%0A%20%20%20%20let%20aliases%20%3D%20%5B%22Speed%20%28miles%20per%20hour%29%22%2C%20%22Distance%20along%20route%20%28meters%29%22%2C%20%22Route%22%2C%20%22Shape%20ID%22%2C%20%22Direction%20ID%22%2C%20%22Next%20Stop%20ID%22%2C%20%22Next%20Stop%20Sequence%22%2C%20%22Trips%20per%20Hour%22%5D%3B%0A%20%20%20%20let%20table%20%3D%20%27%3Ctable%3E%27%20%2B%0A%20%20%20%20%20%20%20%20String%28%0A%20%20%20%20%20%20%20%20fields.map%28%0A%20%20%20%20%20%20%20%20%28v%2Ci%29%3D%3E%0A%20%20%20%20%20%20%20%20%60%3Ctr%3E%0A%20%20%20%20%20%20%20%20%20%20%20%20%3Cth%3E%24%7Baliases%5Bi%5D.toLocaleString%28%29%7D%3C/th%3E%0A%20%20%20%20%20%20%20%20%20%20%20%20%0A%20%20%20%20%20%20%20%20%20%20%20%20%3Ctd%3E%24%7BhandleObject%28layer.feature.properties%5Bv%5D%29.toLocaleString%28%29%7D%3C/td%3E%0A%20%20%20%20%20%20%20%20%3C/tr%3E%60%29.join%28%27%27%29%29%0A%20%20%20%20%2B%27%3C/table%3E%27%3B%0A%20%20%20%20div.innerHTML%3Dtable%3B%0A%20%20%20%20%0A%20%20%20%20return%20div%0A%20%20%20%20%7D%0A%20%20%20%20%2C%7B%22className%22%3A%20%22foliumpopup%22%2C%20%22maxWidth%22%3A%20100%2C%20%22minWidth%22%3A%2050%7D%29%3B%0A%20%20%20%20%20%20%20%20%20%20%20%20%20%20%20%20%20%20%20%20%20%0A%20%20%20%20%0A%20%20%20%20var%20color_map_24556533704548099a90a6bb15044d04%20%3D%20%7B%7D%3B%0A%0A%20%20%20%20%0A%20%20%20%20color_map_24556533704548099a90a6bb15044d04.color%20%3D%20d3.scale.threshold%28%29%0A%20%20%20%20%20%20%20%20%20%20%20%20%20%20.domain%28%5B0.0%2C%200.06012024048096192%2C%200.12024048096192384%2C%200.18036072144288579%2C%200.24048096192384769%2C%200.30060120240480964%2C%200.36072144288577157%2C%200.42084168336673344%2C%200.48096192384769537%2C%200.5410821643286573%2C%200.6012024048096193%2C%200.6613226452905812%2C%200.7214428857715431%2C%200.781563126252505%2C%200.8416833667334669%2C%200.9018036072144289%2C%200.9619238476953907%2C%201.0220440881763526%2C%201.0821643286573146%2C%201.1422845691382766%2C%201.2024048096192386%2C%201.2625250501002003%2C%201.3226452905811623%2C%201.3827655310621243%2C%201.4428857715430863%2C%201.503006012024048%2C%201.56312625250501%2C%201.623246492985972%2C%201.6833667334669338%2C%201.7434869739478958%2C%201.8036072144288577%2C%201.8637274549098197%2C%201.9238476953907815%2C%201.9839679358717435%2C%202.0440881763527052%2C%202.1042084168336674%2C%202.164328657314629%2C%202.224448897795591%2C%202.284569138276553%2C%202.344689378757515%2C%202.404809619238477%2C%202.464929859719439%2C%202.5250501002004007%2C%202.585170340681363%2C%202.6452905811623246%2C%202.7054108216432864%2C%202.7655310621242486%2C%202.8256513026052104%2C%202.8857715430861726%2C%202.9458917835671343%2C%203.006012024048096%2C%203.0661322645290583%2C%203.12625250501002%2C%203.186372745490982%2C%203.246492985971944%2C%203.306613226452906%2C%203.3667334669338675%2C%203.4268537074148298%2C%203.4869739478957915%2C%203.5470941883767537%2C%203.6072144288577155%2C%203.6673346693386772%2C%203.7274549098196395%2C%203.787575150300601%2C%203.847695390781563%2C%203.907815631262525%2C%203.967935871743487%2C%204.028056112224449%2C%204.0881763527054105%2C%204.148296593186373%2C%204.208416833667335%2C%204.268537074148297%2C%204.328657314629258%2C%204.38877755511022%2C%204.448897795591182%2C%204.509018036072145%2C%204.569138276553106%2C%204.629258517034068%2C%204.68937875751503%2C%204.749498997995992%2C%204.809619238476954%2C%204.869739478957916%2C%204.929859719438878%2C%204.98997995991984%2C%205.050100200400801%2C%205.110220440881764%2C%205.170340681362726%2C%205.2304609218436875%2C%205.290581162324649%2C%205.350701402805611%2C%205.410821643286573%2C%205.470941883767535%2C%205.531062124248497%2C%205.591182364729459%2C%205.651302605210421%2C%205.7114228456913825%2C%205.771543086172345%2C%205.831663326653307%2C%205.891783567134269%2C%205.95190380761523%2C%206.012024048096192%2C%206.072144288577154%2C%206.132264529058117%2C%206.192384769539078%2C%206.25250501002004%2C%206.312625250501002%2C%206.372745490981964%2C%206.432865731462926%2C%206.492985971943888%2C%206.55310621242485%2C%206.613226452905812%2C%206.673346693386773%2C%206.733466933867735%2C%206.793587174348698%2C%206.8537074148296595%2C%206.913827655310621%2C%206.973947895791583%2C%207.034068136272545%2C%207.094188376753507%2C%207.154308617234469%2C%207.214428857715431%2C%207.274549098196393%2C%207.3346693386773545%2C%207.394789579158316%2C%207.454909819639279%2C%207.515030060120241%2C%207.575150300601202%2C%207.635270541082164%2C%207.695390781563126%2C%207.755511022044089%2C%207.81563126252505%2C%207.875751503006012%2C%207.935871743486974%2C%207.995991983967936%2C%208.056112224448897%2C%208.11623246492986%2C%208.176352705410821%2C%208.236472945891784%2C%208.296593186372746%2C%208.356713426853707%2C%208.41683366733467%2C%208.47695390781563%2C%208.537074148296593%2C%208.597194388777556%2C%208.657314629258517%2C%208.71743486973948%2C%208.77755511022044%2C%208.837675350701403%2C%208.897795591182364%2C%208.957915831663327%2C%209.01803607214429%2C%209.07815631262525%2C%209.138276553106213%2C%209.198396793587174%2C%209.258517034068136%2C%209.318637274549099%2C%209.37875751503006%2C%209.438877755511022%2C%209.498997995991983%2C%209.559118236472946%2C%209.619238476953909%2C%209.67935871743487%2C%209.739478957915832%2C%209.799599198396793%2C%209.859719438877756%2C%209.919839679358718%2C%209.97995991983968%2C%2010.040080160320642%2C%2010.100200400801603%2C%2010.160320641282565%2C%2010.220440881763528%2C%2010.280561122244489%2C%2010.340681362725451%2C%2010.400801603206412%2C%2010.460921843687375%2C%2010.521042084168336%2C%2010.581162324649299%2C%2010.641282565130261%2C%2010.701402805611222%2C%2010.761523046092185%2C%2010.821643286573146%2C%2010.881763527054108%2C%2010.94188376753507%2C%2011.002004008016032%2C%2011.062124248496994%2C%2011.122244488977955%2C%2011.182364729458918%2C%2011.24248496993988%2C%2011.302605210420841%2C%2011.362725450901804%2C%2011.422845691382765%2C%2011.482965931863728%2C%2011.54308617234469%2C%2011.603206412825651%2C%2011.663326653306614%2C%2011.723446893787575%2C%2011.783567134268537%2C%2011.843687374749498%2C%2011.90380761523046%2C%2011.963927855711423%2C%2012.024048096192384%2C%2012.084168336673347%2C%2012.144288577154308%2C%2012.20440881763527%2C%2012.264529058116233%2C%2012.324649298597194%2C%2012.384769539078157%2C%2012.444889779559118%2C%2012.50501002004008%2C%2012.565130260521043%2C%2012.625250501002004%2C%2012.685370741482966%2C%2012.745490981963927%2C%2012.80561122244489%2C%2012.865731462925853%2C%2012.925851703406813%2C%2012.985971943887776%2C%2013.046092184368737%2C%2013.1062124248497%2C%2013.16633266533066%2C%2013.226452905811623%2C%2013.286573146292586%2C%2013.346693386773547%2C%2013.40681362725451%2C%2013.46693386773547%2C%2013.527054108216433%2C%2013.587174348697395%2C%2013.647294589178356%2C%2013.707414829659319%2C%2013.76753507014028%2C%2013.827655310621243%2C%2013.887775551102205%2C%2013.947895791583166%2C%2014.008016032064129%2C%2014.06813627254509%2C%2014.128256513026052%2C%2014.188376753507015%2C%2014.248496993987976%2C%2014.308617234468938%2C%2014.3687374749499%2C%2014.428857715430862%2C%2014.488977955911823%2C%2014.549098196392785%2C%2014.609218436873748%2C%2014.669338677354709%2C%2014.729458917835672%2C%2014.789579158316633%2C%2014.849699398797595%2C%2014.909819639278558%2C%2014.969939879759519%2C%2015.030060120240481%2C%2015.090180360721442%2C%2015.150300601202405%2C%2015.210420841683367%2C%2015.270541082164328%2C%2015.330661322645291%2C%2015.390781563126252%2C%2015.450901803607215%2C%2015.511022044088177%2C%2015.571142284569138%2C%2015.6312625250501%2C%2015.691382765531062%2C%2015.751503006012024%2C%2015.811623246492985%2C%2015.871743486973948%2C%2015.93186372745491%2C%2015.991983967935871%2C%2016.052104208416832%2C%2016.112224448897795%2C%2016.172344689378757%2C%2016.23246492985972%2C%2016.292585170340683%2C%2016.352705410821642%2C%2016.412825651302605%2C%2016.472945891783567%2C%2016.53306613226453%2C%2016.593186372745492%2C%2016.65330661322645%2C%2016.713426853707414%2C%2016.773547094188377%2C%2016.83366733466934%2C%2016.893787575150302%2C%2016.95390781563126%2C%2017.014028056112224%2C%2017.074148296593187%2C%2017.13426853707415%2C%2017.194388777555112%2C%2017.25450901803607%2C%2017.314629258517034%2C%2017.374749498997996%2C%2017.43486973947896%2C%2017.49498997995992%2C%2017.55511022044088%2C%2017.615230460921843%2C%2017.675350701402806%2C%2017.73547094188377%2C%2017.795591182364728%2C%2017.85571142284569%2C%2017.915831663326653%2C%2017.975951903807616%2C%2018.03607214428858%2C%2018.096192384769537%2C%2018.1563126252505%2C%2018.216432865731463%2C%2018.276553106212425%2C%2018.336673346693388%2C%2018.396793587174347%2C%2018.45691382765531%2C%2018.517034068136272%2C%2018.577154308617235%2C%2018.637274549098198%2C%2018.697394789579157%2C%2018.75751503006012%2C%2018.817635270541082%2C%2018.877755511022045%2C%2018.937875751503007%2C%2018.997995991983966%2C%2019.05811623246493%2C%2019.118236472945892%2C%2019.178356713426854%2C%2019.238476953907817%2C%2019.298597194388776%2C%2019.35871743486974%2C%2019.4188376753507%2C%2019.478957915831664%2C%2019.539078156312627%2C%2019.599198396793586%2C%2019.65931863727455%2C%2019.71943887775551%2C%2019.779559118236474%2C%2019.839679358717436%2C%2019.899799599198396%2C%2019.95991983967936%2C%2020.02004008016032%2C%2020.080160320641284%2C%2020.140280561122246%2C%2020.200400801603205%2C%2020.260521042084168%2C%2020.32064128256513%2C%2020.380761523046093%2C%2020.440881763527056%2C%2020.501002004008015%2C%2020.561122244488978%2C%2020.62124248496994%2C%2020.681362725450903%2C%2020.741482965931862%2C%2020.801603206412825%2C%2020.861723446893787%2C%2020.92184368737475%2C%2020.981963927855713%2C%2021.04208416833667%2C%2021.102204408817634%2C%2021.162324649298597%2C%2021.22244488977956%2C%2021.282565130260522%2C%2021.34268537074148%2C%2021.402805611222444%2C%2021.462925851703407%2C%2021.52304609218437%2C%2021.583166332665332%2C%2021.64328657314629%2C%2021.703406813627254%2C%2021.763527054108216%2C%2021.82364729458918%2C%2021.88376753507014%2C%2021.9438877755511%2C%2022.004008016032063%2C%2022.064128256513026%2C%2022.12424849699399%2C%2022.18436873747495%2C%2022.24448897795591%2C%2022.304609218436873%2C%2022.364729458917836%2C%2022.4248496993988%2C%2022.48496993987976%2C%2022.54509018036072%2C%2022.605210420841683%2C%2022.665330661322646%2C%2022.725450901803608%2C%2022.78557114228457%2C%2022.84569138276553%2C%2022.905811623246493%2C%2022.965931863727455%2C%2023.026052104208418%2C%2023.08617234468938%2C%2023.14629258517034%2C%2023.206412825651302%2C%2023.266533066132265%2C%2023.326653306613228%2C%2023.386773547094187%2C%2023.44689378757515%2C%2023.507014028056112%2C%2023.567134268537075%2C%2023.627254509018037%2C%2023.687374749498996%2C%2023.74749498997996%2C%2023.80761523046092%2C%2023.867735470941884%2C%2023.927855711422847%2C%2023.987975951903806%2C%2024.04809619238477%2C%2024.10821643286573%2C%2024.168336673346694%2C%2024.228456913827657%2C%2024.288577154308616%2C%2024.34869739478958%2C%2024.40881763527054%2C%2024.468937875751504%2C%2024.529058116232466%2C%2024.589178356713425%2C%2024.649298597194388%2C%2024.70941883767535%2C%2024.769539078156313%2C%2024.829659318637276%2C%2024.889779559118235%2C%2024.949899799599198%2C%2025.01002004008016%2C%2025.070140280561123%2C%2025.130260521042086%2C%2025.190380761523045%2C%2025.250501002004007%2C%2025.31062124248497%2C%2025.370741482965933%2C%2025.430861723446895%2C%2025.490981963927855%2C%2025.551102204408817%2C%2025.61122244488978%2C%2025.671342685370742%2C%2025.731462925851705%2C%2025.791583166332664%2C%2025.851703406813627%2C%2025.91182364729459%2C%2025.971943887775552%2C%2026.03206412825651%2C%2026.092184368737474%2C%2026.152304609218437%2C%2026.2124248496994%2C%2026.272545090180362%2C%2026.33266533066132%2C%2026.392785571142284%2C%2026.452905811623246%2C%2026.51302605210421%2C%2026.57314629258517%2C%2026.63326653306613%2C%2026.693386773547093%2C%2026.753507014028056%2C%2026.81362725450902%2C%2026.87374749498998%2C%2026.93386773547094%2C%2026.993987975951903%2C%2027.054108216432866%2C%2027.11422845691383%2C%2027.17434869739479%2C%2027.23446893787575%2C%2027.294589178356713%2C%2027.354709418837675%2C%2027.414829659318638%2C%2027.4749498997996%2C%2027.53507014028056%2C%2027.595190380761522%2C%2027.655310621242485%2C%2027.715430861723448%2C%2027.77555110220441%2C%2027.83567134268537%2C%2027.895791583166332%2C%2027.955911823647295%2C%2028.016032064128257%2C%2028.07615230460922%2C%2028.13627254509018%2C%2028.196392785571142%2C%2028.256513026052104%2C%2028.316633266533067%2C%2028.37675350701403%2C%2028.43687374749499%2C%2028.49699398797595%2C%2028.557114228456914%2C%2028.617234468937877%2C%2028.677354709418836%2C%2028.7374749498998%2C%2028.79759519038076%2C%2028.857715430861724%2C%2028.917835671342687%2C%2028.977955911823646%2C%2029.03807615230461%2C%2029.09819639278557%2C%2029.158316633266534%2C%2029.218436873747496%2C%2029.278557114228455%2C%2029.338677354709418%2C%2029.39879759519038%2C%2029.458917835671343%2C%2029.519038076152306%2C%2029.579158316633265%2C%2029.639278557114228%2C%2029.69939879759519%2C%2029.759519038076153%2C%2029.819639278557116%2C%2029.879759519038075%2C%2029.939879759519037%2C%2030.0%5D%29%0A%20%20%20%20%20%20%20%20%20%20%20%20%20%20.range%28%5B%27%23a50026ff%27%2C%20%27%23a50026ff%27%2C%20%27%23a50026ff%27%2C%20%27%23a50026ff%27%2C%20%27%23a50026ff%27%2C%20%27%23a50026ff%27%2C%20%27%23a50026ff%27%2C%20%27%23a50026ff%27%2C%20%27%23a50026ff%27%2C%20%27%23a50026ff%27%2C%20%27%23a50026ff%27%2C%20%27%23a50026ff%27%2C%20%27%23a50026ff%27%2C%20%27%23a50026ff%27%2C%20%27%23a50026ff%27%2C%20%27%23a50026ff%27%2C%20%27%23a50026ff%27%2C%20%27%23a50026ff%27%2C%20%27%23a50026ff%27%2C%20%27%23a50026ff%27%2C%20%27%23a50026ff%27%2C%20%27%23a50026ff%27%2C%20%27%23a50026ff%27%2C%20%27%23a50026ff%27%2C%20%27%23a50026ff%27%2C%20%27%23a50026ff%27%2C%20%27%23a50026ff%27%2C%20%27%23a50026ff%27%2C%20%27%23a50026ff%27%2C%20%27%23a50026ff%27%2C%20%27%23a50026ff%27%2C%20%27%23a50026ff%27%2C%20%27%23a50026ff%27%2C%20%27%23a50026ff%27%2C%20%27%23a50026ff%27%2C%20%27%23a50026ff%27%2C%20%27%23a50026ff%27%2C%20%27%23a50026ff%27%2C%20%27%23a50026ff%27%2C%20%27%23a50026ff%27%2C%20%27%23a50026ff%27%2C%20%27%23a50026ff%27%2C%20%27%23a50026ff%27%2C%20%27%23a50026ff%27%2C%20%27%23a50026ff%27%2C%20%27%23a50026ff%27%2C%20%27%23a50026ff%27%2C%20%27%23a50026ff%27%2C%20%27%23a50026ff%27%2C%20%27%23a50026ff%27%2C%20%27%23d73027ff%27%2C%20%27%23d73027ff%27%2C%20%27%23d73027ff%27%2C%20%27%23d73027ff%27%2C%20%27%23d73027ff%27%2C%20%27%23d73027ff%27%2C%20%27%23d73027ff%27%2C%20%27%23d73027ff%27%2C%20%27%23d73027ff%27%2C%20%27%23d73027ff%27%2C%20%27%23d73027ff%27%2C%20%27%23d73027ff%27%2C%20%27%23d73027ff%27%2C%20%27%23d73027ff%27%2C%20%27%23d73027ff%27%2C%20%27%23d73027ff%27%2C%20%27%23d73027ff%27%2C%20%27%23d73027ff%27%2C%20%27%23d73027ff%27%2C%20%27%23d73027ff%27%2C%20%27%23d73027ff%27%2C%20%27%23d73027ff%27%2C%20%27%23d73027ff%27%2C%20%27%23d73027ff%27%2C%20%27%23d73027ff%27%2C%20%27%23d73027ff%27%2C%20%27%23d73027ff%27%2C%20%27%23d73027ff%27%2C%20%27%23d73027ff%27%2C%20%27%23d73027ff%27%2C%20%27%23d73027ff%27%2C%20%27%23d73027ff%27%2C%20%27%23d73027ff%27%2C%20%27%23d73027ff%27%2C%20%27%23d73027ff%27%2C%20%27%23d73027ff%27%2C%20%27%23d73027ff%27%2C%20%27%23d73027ff%27%2C%20%27%23d73027ff%27%2C%20%27%23d73027ff%27%2C%20%27%23d73027ff%27%2C%20%27%23d73027ff%27%2C%20%27%23d73027ff%27%2C%20%27%23d73027ff%27%2C%20%27%23d73027ff%27%2C%20%27%23d73027ff%27%2C%20%27%23d73027ff%27%2C%20%27%23d73027ff%27%2C%20%27%23d73027ff%27%2C%20%27%23d73027ff%27%2C%20%27%23f46d43ff%27%2C%20%27%23f46d43ff%27%2C%20%27%23f46d43ff%27%2C%20%27%23f46d43ff%27%2C%20%27%23f46d43ff%27%2C%20%27%23f46d43ff%27%2C%20%27%23f46d43ff%27%2C%20%27%23f46d43ff%27%2C%20%27%23f46d43ff%27%2C%20%27%23f46d43ff%27%2C%20%27%23f46d43ff%27%2C%20%27%23f46d43ff%27%2C%20%27%23f46d43ff%27%2C%20%27%23f46d43ff%27%2C%20%27%23f46d43ff%27%2C%20%27%23f46d43ff%27%2C%20%27%23f46d43ff%27%2C%20%27%23f46d43ff%27%2C%20%27%23f46d43ff%27%2C%20%27%23f46d43ff%27%2C%20%27%23f46d43ff%27%2C%20%27%23f46d43ff%27%2C%20%27%23f46d43ff%27%2C%20%27%23f46d43ff%27%2C%20%27%23f46d43ff%27%2C%20%27%23f46d43ff%27%2C%20%27%23f46d43ff%27%2C%20%27%23f46d43ff%27%2C%20%27%23f46d43ff%27%2C%20%27%23f46d43ff%27%2C%20%27%23f46d43ff%27%2C%20%27%23f46d43ff%27%2C%20%27%23f46d43ff%27%2C%20%27%23f46d43ff%27%2C%20%27%23f46d43ff%27%2C%20%27%23f46d43ff%27%2C%20%27%23f46d43ff%27%2C%20%27%23f46d43ff%27%2C%20%27%23f46d43ff%27%2C%20%27%23f46d43ff%27%2C%20%27%23f46d43ff%27%2C%20%27%23f46d43ff%27%2C%20%27%23f46d43ff%27%2C%20%27%23f46d43ff%27%2C%20%27%23f46d43ff%27%2C%20%27%23f46d43ff%27%2C%20%27%23f46d43ff%27%2C%20%27%23f46d43ff%27%2C%20%27%23f46d43ff%27%2C%20%27%23f46d43ff%27%2C%20%27%23fdae61ff%27%2C%20%27%23fdae61ff%27%2C%20%27%23fdae61ff%27%2C%20%27%23fdae61ff%27%2C%20%27%23fdae61ff%27%2C%20%27%23fdae61ff%27%2C%20%27%23fdae61ff%27%2C%20%27%23fdae61ff%27%2C%20%27%23fdae61ff%27%2C%20%27%23fdae61ff%27%2C%20%27%23fdae61ff%27%2C%20%27%23fdae61ff%27%2C%20%27%23fdae61ff%27%2C%20%27%23fdae61ff%27%2C%20%27%23fdae61ff%27%2C%20%27%23fdae61ff%27%2C%20%27%23fdae61ff%27%2C%20%27%23fdae61ff%27%2C%20%27%23fdae61ff%27%2C%20%27%23fdae61ff%27%2C%20%27%23fdae61ff%27%2C%20%27%23fdae61ff%27%2C%20%27%23fdae61ff%27%2C%20%27%23fdae61ff%27%2C%20%27%23fdae61ff%27%2C%20%27%23fdae61ff%27%2C%20%27%23fdae61ff%27%2C%20%27%23fdae61ff%27%2C%20%27%23fdae61ff%27%2C%20%27%23fdae61ff%27%2C%20%27%23fdae61ff%27%2C%20%27%23fdae61ff%27%2C%20%27%23fdae61ff%27%2C%20%27%23fdae61ff%27%2C%20%27%23fdae61ff%27%2C%20%27%23fdae61ff%27%2C%20%27%23fdae61ff%27%2C%20%27%23fdae61ff%27%2C%20%27%23fdae61ff%27%2C%20%27%23fdae61ff%27%2C%20%27%23fdae61ff%27%2C%20%27%23fdae61ff%27%2C%20%27%23fdae61ff%27%2C%20%27%23fdae61ff%27%2C%20%27%23fdae61ff%27%2C%20%27%23fdae61ff%27%2C%20%27%23fdae61ff%27%2C%20%27%23fdae61ff%27%2C%20%27%23fdae61ff%27%2C%20%27%23fdae61ff%27%2C%20%27%23fee08bff%27%2C%20%27%23fee08bff%27%2C%20%27%23fee08bff%27%2C%20%27%23fee08bff%27%2C%20%27%23fee08bff%27%2C%20%27%23fee08bff%27%2C%20%27%23fee08bff%27%2C%20%27%23fee08bff%27%2C%20%27%23fee08bff%27%2C%20%27%23fee08bff%27%2C%20%27%23fee08bff%27%2C%20%27%23fee08bff%27%2C%20%27%23fee08bff%27%2C%20%27%23fee08bff%27%2C%20%27%23fee08bff%27%2C%20%27%23fee08bff%27%2C%20%27%23fee08bff%27%2C%20%27%23fee08bff%27%2C%20%27%23fee08bff%27%2C%20%27%23fee08bff%27%2C%20%27%23fee08bff%27%2C%20%27%23fee08bff%27%2C%20%27%23fee08bff%27%2C%20%27%23fee08bff%27%2C%20%27%23fee08bff%27%2C%20%27%23fee08bff%27%2C%20%27%23fee08bff%27%2C%20%27%23fee08bff%27%2C%20%27%23fee08bff%27%2C%20%27%23fee08bff%27%2C%20%27%23fee08bff%27%2C%20%27%23fee08bff%27%2C%20%27%23fee08bff%27%2C%20%27%23fee08bff%27%2C%20%27%23fee08bff%27%2C%20%27%23fee08bff%27%2C%20%27%23fee08bff%27%2C%20%27%23fee08bff%27%2C%20%27%23fee08bff%27%2C%20%27%23fee08bff%27%2C%20%27%23fee08bff%27%2C%20%27%23fee08bff%27%2C%20%27%23fee08bff%27%2C%20%27%23fee08bff%27%2C%20%27%23fee08bff%27%2C%20%27%23fee08bff%27%2C%20%27%23fee08bff%27%2C%20%27%23fee08bff%27%2C%20%27%23fee08bff%27%2C%20%27%23fee08bff%27%2C%20%27%23d9ef8bff%27%2C%20%27%23d9ef8bff%27%2C%20%27%23d9ef8bff%27%2C%20%27%23d9ef8bff%27%2C%20%27%23d9ef8bff%27%2C%20%27%23d9ef8bff%27%2C%20%27%23d9ef8bff%27%2C%20%27%23d9ef8bff%27%2C%20%27%23d9ef8bff%27%2C%20%27%23d9ef8bff%27%2C%20%27%23d9ef8bff%27%2C%20%27%23d9ef8bff%27%2C%20%27%23d9ef8bff%27%2C%20%27%23d9ef8bff%27%2C%20%27%23d9ef8bff%27%2C%20%27%23d9ef8bff%27%2C%20%27%23d9ef8bff%27%2C%20%27%23d9ef8bff%27%2C%20%27%23d9ef8bff%27%2C%20%27%23d9ef8bff%27%2C%20%27%23d9ef8bff%27%2C%20%27%23d9ef8bff%27%2C%20%27%23d9ef8bff%27%2C%20%27%23d9ef8bff%27%2C%20%27%23d9ef8bff%27%2C%20%27%23d9ef8bff%27%2C%20%27%23d9ef8bff%27%2C%20%27%23d9ef8bff%27%2C%20%27%23d9ef8bff%27%2C%20%27%23d9ef8bff%27%2C%20%27%23d9ef8bff%27%2C%20%27%23d9ef8bff%27%2C%20%27%23d9ef8bff%27%2C%20%27%23d9ef8bff%27%2C%20%27%23d9ef8bff%27%2C%20%27%23d9ef8bff%27%2C%20%27%23d9ef8bff%27%2C%20%27%23d9ef8bff%27%2C%20%27%23d9ef8bff%27%2C%20%27%23d9ef8bff%27%2C%20%27%23d9ef8bff%27%2C%20%27%23d9ef8bff%27%2C%20%27%23d9ef8bff%27%2C%20%27%23d9ef8bff%27%2C%20%27%23d9ef8bff%27%2C%20%27%23d9ef8bff%27%2C%20%27%23d9ef8bff%27%2C%20%27%23d9ef8bff%27%2C%20%27%23d9ef8bff%27%2C%20%27%23d9ef8bff%27%2C%20%27%23a6d96aff%27%2C%20%27%23a6d96aff%27%2C%20%27%23a6d96aff%27%2C%20%27%23a6d96aff%27%2C%20%27%23a6d96aff%27%2C%20%27%23a6d96aff%27%2C%20%27%23a6d96aff%27%2C%20%27%23a6d96aff%27%2C%20%27%23a6d96aff%27%2C%20%27%23a6d96aff%27%2C%20%27%23a6d96aff%27%2C%20%27%23a6d96aff%27%2C%20%27%23a6d96aff%27%2C%20%27%23a6d96aff%27%2C%20%27%23a6d96aff%27%2C%20%27%23a6d96aff%27%2C%20%27%23a6d96aff%27%2C%20%27%23a6d96aff%27%2C%20%27%23a6d96aff%27%2C%20%27%23a6d96aff%27%2C%20%27%23a6d96aff%27%2C%20%27%23a6d96aff%27%2C%20%27%23a6d96aff%27%2C%20%27%23a6d96aff%27%2C%20%27%23a6d96aff%27%2C%20%27%23a6d96aff%27%2C%20%27%23a6d96aff%27%2C%20%27%23a6d96aff%27%2C%20%27%23a6d96aff%27%2C%20%27%23a6d96aff%27%2C%20%27%23a6d96aff%27%2C%20%27%23a6d96aff%27%2C%20%27%23a6d96aff%27%2C%20%27%23a6d96aff%27%2C%20%27%23a6d96aff%27%2C%20%27%23a6d96aff%27%2C%20%27%23a6d96aff%27%2C%20%27%23a6d96aff%27%2C%20%27%23a6d96aff%27%2C%20%27%23a6d96aff%27%2C%20%27%23a6d96aff%27%2C%20%27%23a6d96aff%27%2C%20%27%23a6d96aff%27%2C%20%27%23a6d96aff%27%2C%20%27%23a6d96aff%27%2C%20%27%23a6d96aff%27%2C%20%27%23a6d96aff%27%2C%20%27%23a6d96aff%27%2C%20%27%23a6d96aff%27%2C%20%27%23a6d96aff%27%2C%20%27%2366bd63ff%27%2C%20%27%2366bd63ff%27%2C%20%27%2366bd63ff%27%2C%20%27%2366bd63ff%27%2C%20%27%2366bd63ff%27%2C%20%27%2366bd63ff%27%2C%20%27%2366bd63ff%27%2C%20%27%2366bd63ff%27%2C%20%27%2366bd63ff%27%2C%20%27%2366bd63ff%27%2C%20%27%2366bd63ff%27%2C%20%27%2366bd63ff%27%2C%20%27%2366bd63ff%27%2C%20%27%2366bd63ff%27%2C%20%27%2366bd63ff%27%2C%20%27%2366bd63ff%27%2C%20%27%2366bd63ff%27%2C%20%27%2366bd63ff%27%2C%20%27%2366bd63ff%27%2C%20%27%2366bd63ff%27%2C%20%27%2366bd63ff%27%2C%20%27%2366bd63ff%27%2C%20%27%2366bd63ff%27%2C%20%27%2366bd63ff%27%2C%20%27%2366bd63ff%27%2C%20%27%2366bd63ff%27%2C%20%27%2366bd63ff%27%2C%20%27%2366bd63ff%27%2C%20%27%2366bd63ff%27%2C%20%27%2366bd63ff%27%2C%20%27%2366bd63ff%27%2C%20%27%2366bd63ff%27%2C%20%27%2366bd63ff%27%2C%20%27%2366bd63ff%27%2C%20%27%2366bd63ff%27%2C%20%27%2366bd63ff%27%2C%20%27%2366bd63ff%27%2C%20%27%2366bd63ff%27%2C%20%27%2366bd63ff%27%2C%20%27%2366bd63ff%27%2C%20%27%2366bd63ff%27%2C%20%27%2366bd63ff%27%2C%20%27%2366bd63ff%27%2C%20%27%2366bd63ff%27%2C%20%27%2366bd63ff%27%2C%20%27%2366bd63ff%27%2C%20%27%2366bd63ff%27%2C%20%27%2366bd63ff%27%2C%20%27%2366bd63ff%27%2C%20%27%2366bd63ff%27%2C%20%27%231a9850ff%27%2C%20%27%231a9850ff%27%2C%20%27%231a9850ff%27%2C%20%27%231a9850ff%27%2C%20%27%231a9850ff%27%2C%20%27%231a9850ff%27%2C%20%27%231a9850ff%27%2C%20%27%231a9850ff%27%2C%20%27%231a9850ff%27%2C%20%27%231a9850ff%27%2C%20%27%231a9850ff%27%2C%20%27%231a9850ff%27%2C%20%27%231a9850ff%27%2C%20%27%231a9850ff%27%2C%20%27%231a9850ff%27%2C%20%27%231a9850ff%27%2C%20%27%231a9850ff%27%2C%20%27%231a9850ff%27%2C%20%27%231a9850ff%27%2C%20%27%231a9850ff%27%2C%20%27%231a9850ff%27%2C%20%27%231a9850ff%27%2C%20%27%231a9850ff%27%2C%20%27%231a9850ff%27%2C%20%27%231a9850ff%27%2C%20%27%231a9850ff%27%2C%20%27%231a9850ff%27%2C%20%27%231a9850ff%27%2C%20%27%231a9850ff%27%2C%20%27%231a9850ff%27%2C%20%27%231a9850ff%27%2C%20%27%231a9850ff%27%2C%20%27%231a9850ff%27%2C%20%27%231a9850ff%27%2C%20%27%231a9850ff%27%2C%20%27%231a9850ff%27%2C%20%27%231a9850ff%27%2C%20%27%231a9850ff%27%2C%20%27%231a9850ff%27%2C%20%27%231a9850ff%27%2C%20%27%231a9850ff%27%2C%20%27%231a9850ff%27%2C%20%27%231a9850ff%27%2C%20%27%231a9850ff%27%2C%20%27%231a9850ff%27%2C%20%27%231a9850ff%27%2C%20%27%231a9850ff%27%2C%20%27%231a9850ff%27%2C%20%27%231a9850ff%27%2C%20%27%231a9850ff%27%2C%20%27%23006837ff%27%2C%20%27%23006837ff%27%2C%20%27%23006837ff%27%2C%20%27%23006837ff%27%2C%20%27%23006837ff%27%2C%20%27%23006837ff%27%2C%20%27%23006837ff%27%2C%20%27%23006837ff%27%2C%20%27%23006837ff%27%2C%20%27%23006837ff%27%2C%20%27%23006837ff%27%2C%20%27%23006837ff%27%2C%20%27%23006837ff%27%2C%20%27%23006837ff%27%2C%20%27%23006837ff%27%2C%20%27%23006837ff%27%2C%20%27%23006837ff%27%2C%20%27%23006837ff%27%2C%20%27%23006837ff%27%2C%20%27%23006837ff%27%2C%20%27%23006837ff%27%2C%20%27%23006837ff%27%2C%20%27%23006837ff%27%2C%20%27%23006837ff%27%2C%20%27%23006837ff%27%2C%20%27%23006837ff%27%2C%20%27%23006837ff%27%2C%20%27%23006837ff%27%2C%20%27%23006837ff%27%2C%20%27%23006837ff%27%2C%20%27%23006837ff%27%2C%20%27%23006837ff%27%2C%20%27%23006837ff%27%2C%20%27%23006837ff%27%2C%20%27%23006837ff%27%2C%20%27%23006837ff%27%2C%20%27%23006837ff%27%2C%20%27%23006837ff%27%2C%20%27%23006837ff%27%2C%20%27%23006837ff%27%2C%20%27%23006837ff%27%2C%20%27%23006837ff%27%2C%20%27%23006837ff%27%2C%20%27%23006837ff%27%2C%20%27%23006837ff%27%2C%20%27%23006837ff%27%2C%20%27%23006837ff%27%2C%20%27%23006837ff%27%2C%20%27%23006837ff%27%2C%20%27%23006837ff%27%5D%29%3B%0A%20%20%20%20%0A%0A%20%20%20%20color_map_24556533704548099a90a6bb15044d04.x%20%3D%20d3.scale.linear%28%29%0A%20%20%20%20%20%20%20%20%20%20%20%20%20%20.domain%28%5B0.0%2C%2030.0%5D%29%0A%20%20%20%20%20%20%20%20%20%20%20%20%20%20.range%28%5B0%2C%20400%5D%29%3B%0A%0A%20%20%20%20color_map_24556533704548099a90a6bb15044d04.legend%20%3D%20L.control%28%7Bposition%3A%20%27topright%27%7D%29%3B%0A%20%20%20%20color_map_24556533704548099a90a6bb15044d04.legend.onAdd%20%3D%20function%20%28map%29%20%7Bvar%20div%20%3D%20L.DomUtil.create%28%27div%27%2C%20%27legend%27%29%3B%20return%20div%7D%3B%0A%20%20%20%20color_map_24556533704548099a90a6bb15044d04.legend.addTo%28map_5da2d6fef37a4d09848f929c24bdb5ed%29%3B%0A%0A%20%20%20%20color_map_24556533704548099a90a6bb15044d04.xAxis%20%3D%20d3.svg.axis%28%29%0A%20%20%20%20%20%20%20%20.scale%28color_map_24556533704548099a90a6bb15044d04.x%29%0A%20%20%20%20%20%20%20%20.orient%28%22top%22%29%0A%20%20%20%20%20%20%20%20.tickSize%281%29%0A%20%20%20%20%20%20%20%20.tickValues%28%5B0.0%2C%20%27%27%2C%206.0%2C%20%27%27%2C%2012.0%2C%20%27%27%2C%2018.0%2C%20%27%27%2C%2024.0%2C%20%27%27%2C%2030.0%2C%20%27%27%5D%29%3B%0A%0A%20%20%20%20color_map_24556533704548099a90a6bb15044d04.svg%20%3D%20d3.select%28%22.legend.leaflet-control%22%29.append%28%22svg%22%29%0A%20%20%20%20%20%20%20%20.attr%28%22id%22%2C%20%27legend%27%29%0A%20%20%20%20%20%20%20%20.attr%28%22width%22%2C%20450%29%0A%20%20%20%20%20%20%20%20.attr%28%22height%22%2C%2040%29%3B%0A%0A%20%20%20%20color_map_24556533704548099a90a6bb15044d04.g%20%3D%20color_map_24556533704548099a90a6bb15044d04.svg.append%28%22g%22%29%0A%20%20%20%20%20%20%20%20.attr%28%22class%22%2C%20%22key%22%29%0A%20%20%20%20%20%20%20%20.attr%28%22transform%22%2C%20%22translate%2825%2C16%29%22%29%3B%0A%0A%20%20%20%20color_map_24556533704548099a90a6bb15044d04.g.selectAll%28%22rect%22%29%0A%20%20%20%20%20%20%20%20.data%28color_map_24556533704548099a90a6bb15044d04.color.range%28%29.map%28function%28d%2C%20i%29%20%7B%0A%20%20%20%20%20%20%20%20%20%20return%20%7B%0A%20%20%20%20%20%20%20%20%20%20%20%20x0%3A%20i%20%3F%20color_map_24556533704548099a90a6bb15044d04.x%28color_map_24556533704548099a90a6bb15044d04.color.domain%28%29%5Bi%20-%201%5D%29%20%3A%20color_map_24556533704548099a90a6bb15044d04.x.range%28%29%5B0%5D%2C%0A%20%20%20%20%20%20%20%20%20%20%20%20x1%3A%20i%20%3C%20color_map_24556533704548099a90a6bb15044d04.color.domain%28%29.length%20%3F%20color_map_24556533704548099a90a6bb15044d04.x%28color_map_24556533704548099a90a6bb15044d04.color.domain%28%29%5Bi%5D%29%20%3A%20color_map_24556533704548099a90a6bb15044d04.x.range%28%29%5B1%5D%2C%0A%20%20%20%20%20%20%20%20%20%20%20%20z%3A%20d%0A%20%20%20%20%20%20%20%20%20%20%7D%3B%0A%20%20%20%20%20%20%20%20%7D%29%29%0A%20%20%20%20%20%20.enter%28%29.append%28%22rect%22%29%0A%20%20%20%20%20%20%20%20.attr%28%22height%22%2C%2010%29%0A%20%20%20%20%20%20%20%20.attr%28%22x%22%2C%20function%28d%29%20%7B%20return%20d.x0%3B%20%7D%29%0A%20%20%20%20%20%20%20%20.attr%28%22width%22%2C%20function%28d%29%20%7B%20return%20d.x1%20-%20d.x0%3B%20%7D%29%0A%20%20%20%20%20%20%20%20.style%28%22fill%22%2C%20function%28d%29%20%7B%20return%20d.z%3B%20%7D%29%3B%0A%0A%20%20%20%20color_map_24556533704548099a90a6bb15044d04.g.call%28color_map_24556533704548099a90a6bb15044d04.xAxis%29.append%28%22text%22%29%0A%20%20%20%20%20%20%20%20.attr%28%22class%22%2C%20%22caption%22%29%0A%20%20%20%20%20%20%20%20.attr%28%22y%22%2C%2021%29%0A%20%20%20%20%20%20%20%20.text%28%27Speed%20%28miles%20per%20hour%29%27%29%3B%0A%3C/script%3E onload=\"this.contentDocument.open();this.contentDocument.write(    decodeURIComponent(this.getAttribute('data-html')));this.contentDocument.close();\" \"allowfullscreen\" \"webkitallowfullscreen\" \"mozallowfullscreen\"></iframe>"
      ],
      "text/plain": [
       "<branca.element.Figure at 0x7fbb73e88fd0>"
      ]
     },
     "execution_count": 23,
     "metadata": {},
     "output_type": "execute_result"
    }
   ],
   "source": [
    "ac.segment_speed_map()"
   ]
  },
  {
   "cell_type": "code",
   "execution_count": 13,
   "id": "c4662239-bcb1-4f3f-a0cd-effcd84001fe",
   "metadata": {},
   "outputs": [],
   "source": [
    "sns.set(rc = {'figure.figsize':(13,6)})"
   ]
  },
  {
   "cell_type": "code",
   "execution_count": 14,
   "id": "ff777888-d26c-4a53-b341-f2ed3b438d84",
   "metadata": {},
   "outputs": [],
   "source": [
    "to_chart = ac.stop_segment_speed_view.copy()\n",
    "# to_chart = to_chart >> filter(_.stop_sequence >= 44, _.stop_sequence < 67) ## extent of bus lane\n",
    "to_chart.stop_name = to_chart.stop_name.str.split('&').map(lambda x: x[-1])\n",
    "to_chart = to_chart.rename(columns={'speed_mph': 'Segement Speed (mph)',\n",
    "                              'delay_chg_sec': 'Increase in Delay (seconds)',\n",
    "                              'stop_sequence': 'Stop Segment ID',\n",
    "                              'stop_name': 'Segment Cross Street'})"
   ]
  },
  {
   "cell_type": "code",
   "execution_count": 15,
   "id": "64fb880b-5457-4f7e-ae45-219e22e77e1e",
   "metadata": {},
   "outputs": [],
   "source": [
    "# plt = sns.swarmplot(x = to_chart['Segment Cross Street'], y=to_chart['Increase in Delay (seconds)'],\n",
    "#               palette=shared_utils.calitp_color_palette.CALITP_CATEGORY_BRIGHT_COLORS,\n",
    "#              ).set_title('Samtrans Route ECR Northbound Change in Delay by Stop Segment, PM Peak')"
   ]
  },
  {
   "cell_type": "code",
   "execution_count": 42,
   "id": "85bac328-7a41-478f-adea-dbed2f701504",
   "metadata": {},
   "outputs": [
    {
     "name": "stdout",
     "output_type": "stream",
     "text": [
      "{'start_time': datetime.time(6, 0), 'end_time': datetime.time(22, 0), 'route_ids': None, 'shape_ids': None, 'direction_id': None, 'direction': None}\n"
     ]
    }
   ],
   "source": [
    "ac.reset_filter()\n",
    "ac.set_filter(start_time='06:00', end_time='22:00')"
   ]
  },
  {
   "cell_type": "code",
   "execution_count": 43,
   "id": "e8cb95cf-908f-4e8f-9d37-602d77f0a70b",
   "metadata": {},
   "outputs": [
    {
     "data": {
      "text/plain": [
       "', All Routes, 06:00–22:00, Feb 08 (Tue)'"
      ]
     },
     "execution_count": 43,
     "metadata": {},
     "output_type": "execute_result"
    }
   ],
   "source": [
    "ac.filter_formatted"
   ]
  },
  {
   "cell_type": "code",
   "execution_count": 46,
   "id": "bfb64f03-7030-4502-bb88-3942243f8a5c",
   "metadata": {},
   "outputs": [
    {
     "name": "stdout",
     "output_type": "stream",
     "text": [
      "view filter: {'start_time': datetime.time(6, 0), 'end_time': datetime.time(22, 0), 'route_ids': None, 'shape_ids': None, 'direction_id': None, 'direction': None}\n"
     ]
    },
    {
     "data": {
      "image/png": "[encoded data removed]",
      "text/plain": [
       "<Figure size 936x432 with 1 Axes>"
      ]
     },
     "metadata": {},
     "output_type": "display_data"
    }
   ],
   "source": [
    "ac.chart_delays();"
   ]
  },
  {
   "cell_type": "code",
   "execution_count": 47,
   "id": "79b1f346-aeee-490a-9fb1-34ca59398bd1",
   "metadata": {
    "collapsed": true,
    "jupyter": {
     "outputs_hidden": true
    },
    "tags": []
   },
   "outputs": [
    {
     "name": "stdout",
     "output_type": "stream",
     "text": [
      "found parquet\n",
      "found parquet\n",
      "found parquet\n",
      "found parquet\n",
      "found_parquet\n",
      "11402517-137-Blocks-Weekday-51\n",
      "11401834-137-Blocks-Weekday-51\n",
      "11402478-137-Blocks-Weekday-51\n",
      "11403590-137-Blocks-Weekday-51\n",
      "11427350-137-Blocks-Weekday-51\n",
      "11427081-137-Blocks-Weekday-51\n",
      "11402028-137-Blocks-Weekday-51\n",
      "11401851-137-Blocks-Weekday-51\n",
      "11402770-137-Blocks-Weekday-51\n",
      "11401987-137-Blocks-Weekday-51\n",
      "11402729-137-Blocks-Weekday-51\n",
      "11403298-137-Blocks-Weekday-51\n",
      "11454057-137-Blocks-Weekday-51\n",
      "11402693-137-Blocks-Weekday-51\n",
      "11403738-137-Blocks-Weekday-51\n",
      "11402789-137-Blocks-Weekday-51\n",
      "11402732-137-Blocks-Weekday-51\n",
      "11402766-137-Blocks-Weekday-51\n",
      "11403136-137-Blocks-Weekday-51\n",
      "11401976-137-Blocks-Weekday-51\n",
      "11403170-137-Blocks-Weekday-51\n",
      "11401993-137-Blocks-Weekday-51\n",
      "11402768-137-Blocks-Weekday-51\n",
      "11402790-137-Blocks-Weekday-51\n",
      "11403152-137-Blocks-Weekday-51\n",
      "11454033-137-Blocks-Weekday-51\n",
      "11426551-137-Blocks-Weekday-51\n",
      "11403215-137-Blocks-Weekday-51\n",
      "11426555-137-Blocks-Weekday-51\n",
      "11441225-137-Blocks-Weekday-51\n",
      "11426561-137-Blocks-Weekday-51\n",
      "11426593-137-Blocks-Weekday-51\n",
      "11402034-137-Blocks-Weekday-51\n",
      "11441203-137-Blocks-Weekday-51\n",
      "11403118-137-Blocks-Weekday-51\n",
      "11403724-137-Blocks-Weekday-51\n",
      "11401874-137-Blocks-Weekday-51\n",
      "11401869-137-Blocks-Weekday-51\n",
      "11401979-137-Blocks-Weekday-51\n",
      "11402479-137-Blocks-Weekday-51\n",
      "11403696-137-Blocks-Weekday-51\n",
      "11401852-137-Blocks-Weekday-51\n",
      "11403717-137-Blocks-Weekday-51\n",
      "11427341-137-Blocks-Weekday-51\n",
      "11403740-137-Blocks-Weekday-51\n",
      "11427091-137-Blocks-Weekday-51\n",
      "11401922-137-Blocks-Weekday-51\n",
      "11402735-137-Blocks-Weekday-51\n",
      "11427074-137-Blocks-Weekday-51\n",
      "11427340-137-Blocks-Weekday-51\n",
      "11403196-137-Blocks-Weekday-51\n",
      "11403184-137-Blocks-Weekday-51\n",
      "11402489-137-Blocks-Weekday-51\n",
      "11401890-137-Blocks-Weekday-51\n",
      "11454058-137-Blocks-Weekday-51\n",
      "11401957-137-Blocks-Weekday-51\n",
      "11402734-137-Blocks-Weekday-51\n",
      "11402721-137-Blocks-Weekday-51\n",
      "11454066-137-Blocks-Weekday-51\n",
      "11401994-137-Blocks-Weekday-51\n",
      "11402792-137-Blocks-Weekday-51\n",
      "11402699-137-Blocks-Weekday-51\n",
      "11401988-137-Blocks-Weekday-51\n",
      "11402733-137-Blocks-Weekday-51\n",
      "11403197-137-Blocks-Weekday-51\n",
      "11401970-137-Blocks-Weekday-51\n",
      "11402765-137-Blocks-Weekday-51\n",
      "11402737-137-Blocks-Weekday-51\n",
      "11441204-137-Blocks-Weekday-51\n",
      "11441261-137-Blocks-Weekday-51\n",
      "11426560-137-Blocks-Weekday-51\n",
      "11441205-137-Blocks-Weekday-51\n",
      "11441243-137-Blocks-Weekday-51\n",
      "11403150-137-Blocks-Weekday-51\n",
      "11426552-137-Blocks-Weekday-51\n",
      "11402635-137-Blocks-Weekday-51\n",
      "11402636-137-Blocks-Weekday-51\n",
      "11426600-137-Blocks-Weekday-51\n",
      "11403108-137-Blocks-Weekday-51\n",
      "11402531-137-Blocks-Weekday-51\n",
      "11402428-137-Blocks-Weekday-51\n",
      "11402480-137-Blocks-Weekday-51\n",
      "11401838-137-Blocks-Weekday-51\n",
      "11403071-137-Blocks-Weekday-51\n",
      "11427388-137-Blocks-Weekday-51\n",
      "11403179-137-Blocks-Weekday-51\n",
      "11403230-137-Blocks-Weekday-51\n",
      "11402011-137-Blocks-Weekday-51\n",
      "11402016-137-Blocks-Weekday-51\n",
      "11441241-137-Blocks-Weekday-51\n",
      "11403151-137-Blocks-Weekday-51\n",
      "11402805-137-Blocks-Weekday-51\n",
      "11426572-137-Blocks-Weekday-51\n",
      "11403508-137-Blocks-Weekday-51\n",
      "11426581-137-Blocks-Weekday-51\n",
      "11427082-137-Blocks-Weekday-51\n",
      "11427087-137-Blocks-Weekday-51\n",
      "11402499-137-Blocks-Weekday-51\n",
      "11403344-137-Blocks-Weekday-51\n",
      "11427365-137-Blocks-Weekday-51\n",
      "11402813-137-Blocks-Weekday-51\n",
      "11402526-137-Blocks-Weekday-51\n",
      "11402787-137-Blocks-Weekday-51\n",
      "11403732-137-Blocks-Weekday-51\n",
      "11402806-137-Blocks-Weekday-51\n",
      "11402799-137-Blocks-Weekday-51\n",
      "11402683-137-Blocks-Weekday-51\n",
      "11454055-137-Blocks-Weekday-51\n",
      "11401908-137-Blocks-Weekday-51\n",
      "11403156-137-Blocks-Weekday-51\n",
      "11402684-137-Blocks-Weekday-51\n",
      "11402783-137-Blocks-Weekday-51\n",
      "11401974-137-Blocks-Weekday-51\n",
      "11403216-137-Blocks-Weekday-51\n",
      "11403287-137-Blocks-Weekday-51\n",
      "11441254-137-Blocks-Weekday-51\n",
      "11402616-137-Blocks-Weekday-51\n",
      "11426582-137-Blocks-Weekday-51\n",
      "11403080-137-Blocks-Weekday-51\n",
      "11403178-137-Blocks-Weekday-51\n",
      "11403107-137-Blocks-Weekday-51\n",
      "11427073-137-Blocks-Weekday-51\n",
      "11403315-137-Blocks-Weekday-51\n",
      "11427090-137-Blocks-Weekday-51\n",
      "11401921-137-Blocks-Weekday-51\n",
      "11403593-137-Blocks-Weekday-51\n",
      "11402521-137-Blocks-Weekday-51\n",
      "11402694-137-Blocks-Weekday-51\n",
      "11403137-137-Blocks-Weekday-51\n",
      "11402764-137-Blocks-Weekday-51\n",
      "11403070-137-Blocks-Weekday-51\n",
      "11403199-137-Blocks-Weekday-51\n",
      "11403221-137-Blocks-Weekday-51\n",
      "11441226-137-Blocks-Weekday-51\n",
      "11403735-137-Blocks-Weekday-51\n",
      "11402511-137-Blocks-Weekday-51\n",
      "11403692-137-Blocks-Weekday-14\n",
      "11427097-137-Blocks-Weekday-51\n",
      "11402056-137-Blocks-Weekday-51\n",
      "11401820-137-Blocks-Weekday-51\n",
      "11403731-137-Blocks-Weekday-51\n",
      "11427077-137-Blocks-Weekday-51\n",
      "11403557-137-Blocks-Weekday-51\n",
      "11403310-137-Blocks-Weekday-51\n",
      "11403094-137-Blocks-Weekday-51\n",
      "11403194-137-Blocks-Weekday-51\n",
      "11402496-137-Blocks-Weekday-51\n",
      "11401918-137-Blocks-Weekday-51\n",
      "11454046-137-Blocks-Weekday-51\n",
      "11401983-137-Blocks-Weekday-51\n",
      "11403734-137-Blocks-Weekday-51\n",
      "11402724-137-Blocks-Weekday-51\n",
      "11402814-137-Blocks-Weekday-51\n",
      "11402788-137-Blocks-Weekday-51\n",
      "11402775-137-Blocks-Weekday-51\n",
      "11401954-137-Blocks-Weekday-51\n",
      "11402726-137-Blocks-Weekday-51\n",
      "11403160-137-Blocks-Weekday-51\n",
      "11401846-137-Blocks-Weekday-51\n",
      "11402045-137-Blocks-Weekday-51\n",
      "11454047-137-Blocks-Weekday-51\n",
      "11402738-137-Blocks-Weekday-51\n",
      "11403085-137-Blocks-Weekday-51\n",
      "11402622-137-Blocks-Weekday-51\n",
      "11441255-137-Blocks-Weekday-51\n",
      "11441252-137-Blocks-Weekday-51\n",
      "11441245-137-Blocks-Weekday-51\n",
      "11441223-137-Blocks-Weekday-51\n",
      "11403695-137-Blocks-Weekday-51\n",
      "11403183-137-Blocks-Weekday-51\n",
      "11402529-137-Blocks-Weekday-51\n",
      "11403299-137-Blocks-Weekday-51\n",
      "11403709-137-Blocks-Weekday-51\n",
      "11401962-137-Blocks-Weekday-51\n",
      "11441200-137-Blocks-Weekday-51\n",
      "11426550-137-Blocks-Weekday-51\n",
      "11403082-137-Blocks-Weekday-51\n",
      "11402510-137-Blocks-Weekday-51\n",
      "11401968-137-Blocks-Weekday-51\n",
      "11403192-137-Blocks-Weekday-51\n",
      "11427088-137-Blocks-Weekday-51\n",
      "11401952-137-Blocks-Weekday-51\n",
      "11402515-137-Blocks-Weekday-51\n",
      "11427979-137-Blocks-Weekday-51-SDon-1100100\n",
      "11402793-137-Blocks-Weekday-51\n",
      "11402527-137-Blocks-Weekday-51\n",
      "11454056-137-Blocks-Weekday-51\n",
      "11403148-137-Blocks-Weekday-51\n",
      "11403713-137-Blocks-Weekday-51\n",
      "11403166-137-Blocks-Weekday-51\n",
      "11403575-137-Blocks-Weekday-51\n",
      "11403157-137-Blocks-Weekday-51\n",
      "11403288-137-Blocks-Weekday-51\n",
      "11441266-137-Blocks-Weekday-51\n",
      "11441267-137-Blocks-Weekday-51\n",
      "11426557-137-Blocks-Weekday-51\n",
      "11402667-137-Blocks-Weekday-51\n",
      "11402666-137-Blocks-Weekday-51\n",
      "11403513-137-Blocks-Weekday-51\n",
      "11403202-137-Blocks-Weekday-51\n",
      "11403753-137-Blocks-Weekday-51\n",
      "11403301-137-Blocks-Weekday-51\n",
      "11402739-137-Blocks-Weekday-51\n",
      "11401995-137-Blocks-Weekday-51\n",
      "11401873-137-Blocks-Weekday-51\n",
      "11402702-137-Blocks-Weekday-51\n",
      "11426538-137-Blocks-Weekday-14\n",
      "11441227-137-Blocks-Weekday-51\n",
      "11403563-137-Blocks-Weekday-51\n",
      "11402633-137-Blocks-Weekday-51\n",
      "11403155-137-Blocks-Weekday-51\n",
      "11402059-137-Blocks-Weekday-51\n",
      "11426605-137-Blocks-Weekday-51\n",
      "11402476-137-Blocks-Weekday-51\n",
      "11401848-137-Blocks-Weekday-51\n",
      "11403098-137-Blocks-Weekday-51\n",
      "11403219-137-Blocks-Weekday-51\n",
      "11402725-137-Blocks-Weekday-51\n",
      "11402025-137-Blocks-Weekday-51\n",
      "11403297-137-Blocks-Weekday-51\n",
      "11403588-137-Blocks-Weekday-51\n",
      "11403169-137-Blocks-Weekday-51\n",
      "11403714-137-Blocks-Weekday-51\n",
      "11403086-137-Blocks-Weekday-51\n",
      "11401992-137-Blocks-Weekday-51\n",
      "11402626-137-Blocks-Weekday-51\n",
      "11402497-137-Blocks-Weekday-51\n",
      "11427078-137-Blocks-Weekday-51\n",
      "11402475-137-Blocks-Weekday-51\n",
      "11427338-137-Blocks-Weekday-51\n",
      "11403737-137-Blocks-Weekday-51\n",
      "11403325-137-Blocks-Weekday-51\n",
      "11402054-137-Blocks-Weekday-51\n",
      "11402003-137-Blocks-Weekday-51\n",
      "11402477-137-Blocks-Weekday-51\n",
      "11403095-137-Blocks-Weekday-51\n",
      "11403227-137-Blocks-Weekday-51\n",
      "11426570-137-Blocks-Weekday-14\n",
      "11402628-137-Blocks-Weekday-51\n",
      "11402627-137-Blocks-Weekday-51\n",
      "11403307-137-Blocks-Weekday-51\n",
      "11403577-137-Blocks-Weekday-51\n",
      "11401927-137-Blocks-Weekday-51\n",
      "11403165-137-Blocks-Weekday-51\n",
      "11402211-137-Blocks-Weekday-51\n",
      "11403073-137-Blocks-Weekday-51\n",
      "11441208-137-Blocks-Weekday-51\n",
      "11441207-137-Blocks-Weekday-51\n",
      "11441230-137-Blocks-Weekday-51\n",
      "11441209-137-Blocks-Weekday-51\n",
      "11441265-137-Blocks-Weekday-51\n",
      "11401981-137-Blocks-Weekday-51\n",
      "11454060-137-Blocks-Weekday-51\n",
      "11402704-137-Blocks-Weekday-51\n",
      "11402538-137-Blocks-Weekday-51\n",
      "11403331-137-Blocks-Weekday-51\n",
      "11402706-137-Blocks-Weekday-51\n",
      "11402818-137-Blocks-Weekday-51\n",
      "11403721-137-Blocks-Weekday-51\n",
      "11403303-137-Blocks-Weekday-51\n",
      "11454034-137-Blocks-Weekday-51\n",
      "11402492-137-Blocks-Weekday-51\n",
      "11454038-137-Blocks-Weekday-51\n",
      "11401958-137-Blocks-Weekday-51\n",
      "11402744-137-Blocks-Weekday-51\n",
      "11427093-137-Blocks-Weekday-51\n",
      "11402707-137-Blocks-Weekday-51\n",
      "11402482-137-Blocks-Weekday-51\n",
      "11402506-137-Blocks-Weekday-51\n",
      "11402817-137-Blocks-Weekday-51\n",
      "11402780-137-Blocks-Weekday-51\n",
      "11402761-137-Blocks-Weekday-51\n",
      "11402778-137-Blocks-Weekday-51\n",
      "11402747-137-Blocks-Weekday-51\n",
      "11401996-137-Blocks-Weekday-51\n",
      "11402742-137-Blocks-Weekday-51\n",
      "11401972-137-Blocks-Weekday-51\n",
      "11402705-137-Blocks-Weekday-51\n",
      "11402797-137-Blocks-Weekday-51\n",
      "11403580-137-Blocks-Weekday-51\n",
      "11427104-137-Blocks-Weekday-51\n",
      "11403283-137-Blocks-Weekday-51\n",
      "11402745-137-Blocks-Weekday-51\n",
      "11403153-137-Blocks-Weekday-51\n",
      "11426573-137-Blocks-Weekday-51\n",
      "11403127-137-Blocks-Weekday-51\n",
      "11403164-137-Blocks-Weekday-51\n",
      "11402615-137-Blocks-Weekday-51\n",
      "11403084-137-Blocks-Weekday-51\n",
      "11403323-137-Blocks-Weekday-51\n",
      "11403576-137-Blocks-Weekday-51\n",
      "11426611-137-Blocks-Weekday-51\n",
      "11402771-137-Blocks-Weekday-51\n",
      "11401935-137-Blocks-Weekday-51\n",
      "11403103-137-Blocks-Weekday-51\n",
      "11402516-137-Blocks-Weekday-51\n",
      "11401845-137-Blocks-Weekday-51\n",
      "11427079-137-Blocks-Weekday-51\n",
      "11401953-137-Blocks-Weekday-51\n",
      "11403201-137-Blocks-Weekday-51\n",
      "11402500-137-Blocks-Weekday-51\n",
      "11428056-137-Blocks-Weekday-51-SDon-1100100\n",
      "11403556-137-Blocks-Weekday-51\n",
      "11403093-137-Blocks-Weekday-51\n",
      "11401947-137-Blocks-Weekday-51\n",
      "11403146-137-Blocks-Weekday-51\n",
      "11403728-137-Blocks-Weekday-51\n",
      "11403158-137-Blocks-Weekday-51\n",
      "11401867-137-Blocks-Weekday-51\n",
      "11402532-137-Blocks-Weekday-51\n",
      "11427342-137-Blocks-Weekday-51\n",
      "11427102-137-Blocks-Weekday-51\n",
      "11403072-137-Blocks-Weekday-51\n",
      "11427351-137-Blocks-Weekday-51-SDon\n",
      "11402490-137-Blocks-Weekday-51\n",
      "11403223-137-Blocks-Weekday-51\n",
      "11402513-137-Blocks-Weekday-51\n",
      "11401980-137-Blocks-Weekday-51\n",
      "11401854-137-Blocks-Weekday-51\n",
      "11401837-137-Blocks-Weekday-51\n",
      "11403567-137-Blocks-Weekday-51\n",
      "11403163-137-Blocks-Weekday-51\n",
      "11454059-137-Blocks-Weekday-51\n",
      "11426545-137-Blocks-Weekday-51\n",
      "11441228-137-Blocks-Weekday-51\n",
      "11402639-137-Blocks-Weekday-51\n",
      "11402640-137-Blocks-Weekday-51\n",
      "11403698-137-Blocks-Weekday-51\n",
      "11402481-137-Blocks-Weekday-51\n",
      "11402036-137-Blocks-Weekday-51\n",
      "11403720-137-Blocks-Weekday-51\n",
      "11402031-137-Blocks-Weekday-51\n",
      "11403198-137-Blocks-Weekday-51\n",
      "11403203-137-Blocks-Weekday-51\n",
      "11441229-137-Blocks-Weekday-51\n",
      "11403555-137-Blocks-Weekday-51\n",
      "11403122-137-Blocks-Weekday-51\n",
      "11403271-137-Blocks-Weekday-51\n",
      "11441253-137-Blocks-Weekday-51\n",
      "11402642-137-Blocks-Weekday-51\n",
      "11403171-137-Blocks-Weekday-51\n",
      "11403711-137-Blocks-Weekday-51\n",
      "11427343-137-Blocks-Weekday-51\n",
      "11401934-137-Blocks-Weekday-51\n",
      "11403077-137-Blocks-Weekday-51\n",
      "11402491-137-Blocks-Weekday-51\n",
      "11402430-137-Blocks-Weekday-51\n",
      "11402505-137-Blocks-Weekday-51\n",
      "11403207-137-Blocks-Weekday-51\n",
      "11403302-137-Blocks-Weekday-51\n",
      "11427092-137-Blocks-Weekday-51\n",
      "11401944-137-Blocks-Weekday-51\n",
      "11427103-137-Blocks-Weekday-51\n",
      "11403568-137-Blocks-Weekday-51\n",
      "11403726-137-Blocks-Weekday-51\n",
      "3971006\n",
      "3971004\n",
      "3971005\n",
      "11402760-137-Blocks-Weekday-14\n",
      "11402646-137-Blocks-Weekday-51\n",
      "11403078-137-Blocks-Weekday-51\n",
      "11427345-137-Blocks-Weekday-51\n",
      "11403154-137-Blocks-Weekday-51\n",
      "11403332-137-Blocks-Weekday-51\n",
      "11403284-137-Blocks-Weekday-51\n",
      "11403570-137-Blocks-Weekday-51\n",
      "11401836-137-Blocks-Weekday-51\n",
      "11403173-137-Blocks-Weekday-51\n",
      "11454051-137-Blocks-Weekday-51\n",
      "11401942-137-Blocks-Weekday-51\n",
      "11402009-137-Blocks-Weekday-51\n",
      "11427094-137-Blocks-Weekday-51\n",
      "11402058-137-Blocks-Weekday-51\n",
      "11403745-137-Blocks-Weekday-51\n",
      "11403135-137-Blocks-Weekday-51\n",
      "11403124-137-Blocks-Weekday-51\n",
      "11403091-137-Blocks-Weekday-51\n",
      "11402508-137-Blocks-Weekday-51\n",
      "11402493-137-Blocks-Weekday-51\n",
      "11401859-137-Blocks-Weekday-51\n",
      "11403234-137-Blocks-Weekday-51\n",
      "11401982-137-Blocks-Weekday-51\n",
      "11403186-137-Blocks-Weekday-51\n",
      "11427354-137-Blocks-Weekday-51\n",
      "11402743-137-Blocks-Weekday-51\n",
      "11402800-137-Blocks-Weekday-51\n",
      "11403598-137-Blocks-Weekday-51\n",
      "11403304-137-Blocks-Weekday-51\n",
      "11402507-137-Blocks-Weekday-51\n",
      "11426608-137-Blocks-Weekday-51\n",
      "11441210-137-Blocks-Weekday-51\n",
      "11441232-137-Blocks-Weekday-51\n",
      "11441231-137-Blocks-Weekday-51\n",
      "11441211-137-Blocks-Weekday-51\n",
      "11426574-137-Blocks-Weekday-51\n",
      "11402751-137-Blocks-Weekday-51\n",
      "11401999-137-Blocks-Weekday-51\n",
      "11402509-137-Blocks-Weekday-51\n",
      "11403273-137-Blocks-Weekday-51\n",
      "11402432-137-Blocks-Weekday-51\n",
      "11402801-137-Blocks-Weekday-51\n",
      "11403701-137-Blocks-Weekday-51\n",
      "11403583-137-Blocks-Weekday-51\n",
      "11441258-137-Blocks-Weekday-51\n",
      "11403305-137-Blocks-Weekday-51\n",
      "11403571-137-Blocks-Weekday-51\n",
      "11402753-137-Blocks-Weekday-51\n",
      "11403747-137-Blocks-Weekday-51\n",
      "11403130-137-Blocks-Weekday-51\n",
      "11403768-137-Blocks-Weekday-51\n",
      "11402000-137-Blocks-Weekday-51\n",
      "11403285-137-Blocks-Weekday-51\n",
      "11402752-137-Blocks-Weekday-51\n",
      "11427346-137-Blocks-Weekday-51\n",
      "11402772-137-Blocks-Weekday-51\n",
      "11403322-137-Blocks-Weekday-51\n",
      "11403075-137-Blocks-Weekday-51\n",
      "11403748-137-Blocks-Weekday-51\n",
      "11427098-137-Blocks-Weekday-51\n",
      "11426589-137-Blocks-Weekday-51\n",
      "11401937-137-Blocks-Weekday-51\n",
      "11427076-137-Blocks-Weekday-51\n",
      "11402715-137-Blocks-Weekday-51\n",
      "11402520-137-Blocks-Weekday-51\n",
      "11403314-137-Blocks-Weekday-51\n",
      "11402716-137-Blocks-Weekday-51\n",
      "11402713-137-Blocks-Weekday-51\n",
      "11427356-137-Blocks-Weekday-51\n",
      "11403101-137-Blocks-Weekday-51\n",
      "11403335-137-Blocks-Weekday-51\n",
      "11403751-137-Blocks-Weekday-51\n",
      "11402037-137-Blocks-Weekday-51\n",
      "11402757-137-Blocks-Weekday-51\n",
      "11427099-137-Blocks-Weekday-51\n",
      "11401863-137-Blocks-Weekday-51\n",
      "11401965-137-Blocks-Weekday-51\n",
      "11402046-137-Blocks-Weekday-51\n",
      "11403750-137-Blocks-Weekday-51\n",
      "11403237-137-Blocks-Weekday-51\n",
      "11403211-137-Blocks-Weekday-51\n",
      "11426578-137-Blocks-Weekday-51\n",
      "11426566-137-Blocks-Weekday-51\n",
      "11441236-137-Blocks-Weekday-51\n",
      "11441214-137-Blocks-Weekday-51\n",
      "11402658-137-Blocks-Weekday-51\n",
      "11402657-137-Blocks-Weekday-51\n",
      "11426622-137-Blocks-Weekday-51\n",
      "11402484-137-Blocks-Weekday-51\n",
      "11402659-137-Blocks-Weekday-51\n",
      "11403102-137-Blocks-Weekday-51\n",
      "11401832-137-Blocks-Weekday-51\n",
      "11402038-137-Blocks-Weekday-51\n",
      "11427362-137-Blocks-Weekday-51\n",
      "11403752-137-Blocks-Weekday-51\n",
      "11403705-137-Blocks-Weekday-51\n",
      "11454054-137-Blocks-Weekday-51\n",
      "11402084-137-Blocks-Weekday-51\n",
      "11401831-137-Blocks-Weekday-51\n",
      "11403309-137-Blocks-Weekday-51\n",
      "11441216-137-Blocks-Weekday-51\n",
      "11441250-137-Blocks-Weekday-51\n",
      "11441239-137-Blocks-Weekday-51\n",
      "11402759-137-Blocks-Weekday-51\n",
      "11426612-137-Blocks-Weekday-51\n",
      "11402668-137-Blocks-Weekday-51\n",
      "11403188-137-Blocks-Weekday-51\n",
      "11454063-137-Blocks-Weekday-51\n",
      "11402005-137-Blocks-Weekday-51\n",
      "11403320-137-Blocks-Weekday-51\n",
      "11403703-137-Blocks-Weekday-51\n",
      "11403604-137-Blocks-Weekday-51\n",
      "11403134-137-Blocks-Weekday-51\n",
      "11426536-137-Blocks-Weekday-51\n",
      "11402656-137-Blocks-Weekday-51\n",
      "11402673-137-Blocks-Weekday-51\n",
      "11403190-137-Blocks-Weekday-51\n",
      "11401967-137-Blocks-Weekday-51\n",
      "11402682-137-Blocks-Weekday-51\n",
      "11403117-137-Blocks-Weekday-51\n",
      "11441218-137-Blocks-Weekday-51\n",
      "11402664-137-Blocks-Weekday-51\n",
      "11402671-137-Blocks-Weekday-51\n",
      "11403116-137-Blocks-Weekday-51\n",
      "11427357-137-Blocks-Weekday-51\n",
      "11402444-137-Blocks-Weekday-51\n",
      "11403716-137-Blocks-Weekday-51\n",
      "11401966-137-Blocks-Weekday-51\n",
      "11403238-137-Blocks-Weekday-51\n",
      "11441242-137-Blocks-Weekday-51\n",
      "11402717-137-Blocks-Weekday-51\n",
      "11427101-137-Blocks-Weekday-51\n",
      "11401878-137-Blocks-Weekday-51\n",
      "11403719-137-Blocks-Weekday-51\n",
      "11403145-137-Blocks-Weekday-51\n",
      "11402486-137-Blocks-Weekday-51\n",
      "11403707-137-Blocks-Weekday-51\n",
      "11401896-137-Blocks-Weekday-51\n",
      "11427355-137-Blocks-Weekday-51\n",
      "11401842-137-Blocks-Weekday-51\n",
      "11401860-137-Blocks-Weekday-51\n",
      "11403214-137-Blocks-Weekday-51\n",
      "11427086-137-Blocks-Weekday-51\n",
      "11403601-137-Blocks-Weekday-51\n",
      "11403100-137-Blocks-Weekday-51\n",
      "11427353-137-Blocks-Weekday-51\n",
      "11427344-137-Blocks-Weekday-51\n",
      "11401857-137-Blocks-Weekday-51\n",
      "11402533-137-Blocks-Weekday-51\n",
      "11401858-137-Blocks-Weekday-51\n",
      "11403582-137-Blocks-Weekday-51\n",
      "11403510-137-Blocks-Weekday-51\n",
      "11403133-137-Blocks-Weekday-51\n",
      "11403212-137-Blocks-Weekday-51\n",
      "11427095-137-Blocks-Weekday-51\n",
      "11403574-137-Blocks-Weekday-51\n",
      "11402495-137-Blocks-Weekday-51\n",
      "11427359-137-Blocks-Weekday-51\n",
      "11403112-137-Blocks-Weekday-51\n",
      "11403603-137-Blocks-Weekday-51\n",
      "11441212-137-Blocks-Weekday-51\n",
      "11402010-137-Blocks-Weekday-51\n",
      "11427363-137-Blocks-Weekday-51\n",
      "11402537-137-Blocks-Weekday-51\n",
      "11403336-137-Blocks-Weekday-51\n",
      "11402021-137-Blocks-Weekday-51\n",
      "11403142-137-Blocks-Weekday-51\n",
      "11401880-137-Blocks-Weekday-51\n",
      "11427366-137-Blocks-Weekday-51\n",
      "11403718-137-Blocks-Weekday-51\n",
      "11427100-137-Blocks-Weekday-51\n",
      "11402660-137-Blocks-Weekday-51\n",
      "11402661-137-Blocks-Weekday-51\n",
      "11401876-137-Blocks-Weekday-51\n",
      "11401932-137-Blocks-Weekday-51\n",
      "11402534-137-Blocks-Weekday-51\n",
      "11402079-137-Blocks-Weekday-51\n",
      "11402653-137-Blocks-Weekday-51\n",
      "11403143-137-Blocks-Weekday-51\n",
      "11401824-137-Blocks-Weekday-51\n",
      "11402674-137-Blocks-Weekday-51\n",
      "11403274-137-Blocks-Weekday-51\n",
      "11403076-137-Blocks-Weekday-51\n",
      "11403272-137-Blocks-Weekday-51\n",
      "11401941-137-Blocks-Weekday-51\n",
      "11403708-137-Blocks-Weekday-51\n",
      "11403141-137-Blocks-Weekday-51\n",
      "11401861-137-Blocks-Weekday-51\n",
      "11403286-137-Blocks-Weekday-51\n",
      "11403715-137-Blocks-Weekday-51\n",
      "11403602-137-Blocks-Weekday-51\n",
      "11403573-137-Blocks-Weekday-51\n",
      "11402024-137-Blocks-Weekday-51\n",
      "11403111-137-Blocks-Weekday-51\n",
      "11401929-137-Blocks-Weekday-51\n",
      "could not generate delays for trip 11463591-137-Blocks-Weekday-14\n",
      "Columns must be same length as key\n",
      "could not generate delays for trip 11463589-137-Blocks-Weekday-14\n",
      "Columns must be same length as key\n",
      "could not generate delays for trip 11463879-137-Blocks-Weekday-14\n",
      "Columns must be same length as key\n",
      "could not generate delays for trip 11463875-137-Blocks-Weekday-14\n",
      "Columns must be same length as key\n",
      "could not generate delays for trip 11463882-137-Blocks-Weekday-14\n",
      "Columns must be same length as key\n",
      "could not generate delays for trip 11463616-137-Blocks-Weekday-14\n",
      "Columns must be same length as key\n",
      "could not generate delays for trip 11463618-137-Blocks-Weekday-14\n",
      "Columns must be same length as key\n"
     ]
    }
   ],
   "source": [
    "sam = rt.OperatorDayAnalysis(290, analysis_date, pbar)"
   ]
  },
  {
   "cell_type": "code",
   "execution_count": 48,
   "id": "64ed45f6-b50f-419c-8644-9c650e530596",
   "metadata": {},
   "outputs": [
    {
     "name": "stdout",
     "output_type": "stream",
     "text": [
      "{'start_time': datetime.time(6, 0), 'end_time': datetime.time(22, 0), 'route_ids': None, 'shape_ids': None, 'direction_id': None, 'direction': None}\n"
     ]
    }
   ],
   "source": [
    "sam.set_filter(start_time='06:00', end_time='22:00')"
   ]
  },
  {
   "cell_type": "code",
   "execution_count": 49,
   "id": "eb0a3db7-5f56-4804-9ff1-84cc95684a58",
   "metadata": {},
   "outputs": [
    {
     "name": "stdout",
     "output_type": "stream",
     "text": [
      "view filter: {'start_time': datetime.time(6, 0), 'end_time': datetime.time(22, 0), 'route_ids': None, 'shape_ids': None, 'direction_id': None, 'direction': None}\n"
     ]
    },
    {
     "data": {
      "image/png": "[encoded data removed]",
      "text/plain": [
       "<Figure size 936x432 with 1 Axes>"
      ]
     },
     "execution_count": 49,
     "metadata": {},
     "output_type": "execute_result"
    },
    {
     "data": {
      "image/png": "[encoded data removed]",
      "text/plain": [
       "<Figure size 936x432 with 1 Axes>"
      ]
     },
     "metadata": {},
     "output_type": "display_data"
    }
   ],
   "source": [
    "sam.chart_delays()"
   ]
  },
  {
   "cell_type": "code",
   "execution_count": 56,
   "id": "7d7c5215-47f1-4218-b3c9-d13bb9736ae7",
   "metadata": {},
   "outputs": [
    {
     "name": "stdout",
     "output_type": "stream",
     "text": [
      "{'start_time': datetime.time(15, 0), 'end_time': datetime.time(19, 0), 'route_ids': None, 'shape_ids': None, 'direction_id': None, 'direction': None}\n"
     ]
    }
   ],
   "source": [
    "sam.set_filter(start_time='15:00', end_time='19:00')"
   ]
  },
  {
   "cell_type": "code",
   "execution_count": 57,
   "id": "55a908cb-944d-4001-ab4a-3136c4da1127",
   "metadata": {},
   "outputs": [
    {
     "name": "stdout",
     "output_type": "stream",
     "text": [
      "view filter: {'start_time': datetime.time(15, 0), 'end_time': datetime.time(19, 0), 'route_ids': None, 'shape_ids': None, 'direction_id': None, 'direction': None}\n"
     ]
    },
    {
     "name": "stderr",
     "output_type": "stream",
     "text": [
      "/tmp/ipykernel_1112/770518766.py:1: FutureWarning: Dropping of nuisance columns in DataFrame reductions (with 'numeric_only=None') is deprecated; in a future version this will raise TypeError.  Select only valid columns before calling the reduction.\n"
     ]
    },
    {
     "data": {
      "text/plain": [
       "calitp_itp_id        2.900000e+02\n",
       "calitp_url_number    1.000000e+00\n",
       "trip_key             2.345923e+17\n",
       "direction_id         1.000000e+00\n",
       "mean_speed_mph       1.179184e+01\n",
       "dtype: float64"
      ]
     },
     "execution_count": 57,
     "metadata": {},
     "output_type": "execute_result"
    }
   ],
   "source": [
    "sam._filter(sam.rt_trips).median()"
   ]
  },
  {
   "cell_type": "code",
   "execution_count": null,
   "id": "9d0c7801-7880-465e-ad6a-c7dc3f58814e",
   "metadata": {},
   "outputs": [],
   "source": [
    "ac        >> filter(_.shape_id == 'shp-1T-05', _.direction_id == '1')\n"
   ]
  },
  {
   "cell_type": "code",
   "execution_count": 66,
   "id": "2a056442-ae74-453f-b251-01e9d055f0a5",
   "metadata": {},
   "outputs": [
    {
     "name": "stdout",
     "output_type": "stream",
     "text": [
      "{'start_time': datetime.time(15, 0), 'end_time': datetime.time(19, 0), 'route_ids': None, 'shape_ids': None, 'direction_id': None, 'direction': None}\n"
     ]
    }
   ],
   "source": [
    "ac.set_filter(start_time='15:00', end_time='19:00')"
   ]
  },
  {
   "cell_type": "code",
   "execution_count": 72,
   "id": "8b75bead-95cf-4e22-ad8e-15cb7408f4e6",
   "metadata": {},
   "outputs": [
    {
     "name": "stdout",
     "output_type": "stream",
     "text": [
      "view filter: {'start_time': datetime.time(15, 0), 'end_time': datetime.time(19, 0), 'route_ids': None, 'shape_ids': None, 'direction_id': None, 'direction': None}\n"
     ]
    }
   ],
   "source": [
    "trips_grouped = ac._filter(ac.rt_trips.copy()) >> group_by(_.route_id) >> summarize(mean_spd = _.mean_speed_mph.mean())"
   ]
  },
  {
   "cell_type": "code",
   "execution_count": 76,
   "id": "d921ffd7-fc02-40b5-b511-adeda9374dc2",
   "metadata": {},
   "outputs": [
    {
     "data": {
      "text/html": [
       "<div>\n",
       "<style scoped>\n",
       "    .dataframe tbody tr th:only-of-type {\n",
       "        vertical-align: middle;\n",
       "    }\n",
       "\n",
       "    .dataframe tbody tr th {\n",
       "        vertical-align: top;\n",
       "    }\n",
       "\n",
       "    .dataframe thead th {\n",
       "        text-align: right;\n",
       "    }\n",
       "</style>\n",
       "<table border=\"1\" class=\"dataframe\">\n",
       "  <thead>\n",
       "    <tr style=\"text-align: right;\">\n",
       "      <th></th>\n",
       "      <th>route_id</th>\n",
       "      <th>mean_spd</th>\n",
       "    </tr>\n",
       "  </thead>\n",
       "  <tbody>\n",
       "    <tr>\n",
       "      <th>5</th>\n",
       "      <td>1T</td>\n",
       "      <td>9.816227</td>\n",
       "    </tr>\n",
       "    <tr>\n",
       "      <th>34</th>\n",
       "      <td>6</td>\n",
       "      <td>7.771176</td>\n",
       "    </tr>\n",
       "    <tr>\n",
       "      <th>83</th>\n",
       "      <td>72</td>\n",
       "      <td>10.617038</td>\n",
       "    </tr>\n",
       "  </tbody>\n",
       "</table>\n",
       "</div>"
      ],
      "text/plain": [
       "   route_id   mean_spd\n",
       "5        1T   9.816227\n",
       "34        6   7.771176\n",
       "83       72  10.617038"
      ]
     },
     "execution_count": 76,
     "metadata": {},
     "output_type": "execute_result"
    }
   ],
   "source": [
    "trips_grouped >> filter(_.route_id.isin(['6', '1T', '72']))"
   ]
  },
  {
   "cell_type": "code",
   "execution_count": 77,
   "id": "929150c0-fc51-485b-a3f9-077393b88341",
   "metadata": {},
   "outputs": [],
   "source": [
    "sfmta = pd.read_parquet(f'{utils.GCS_FILE_PATH}endpoint_delay_views/282_02_08_pm_peak.parquet')"
   ]
  },
  {
   "cell_type": "code",
   "execution_count": 80,
   "id": "d7965c43-9cbd-45a8-83dd-323bd83c0a33",
   "metadata": {},
   "outputs": [
    {
     "data": {
      "text/html": [
       "<div>\n",
       "<style scoped>\n",
       "    .dataframe tbody tr th:only-of-type {\n",
       "        vertical-align: middle;\n",
       "    }\n",
       "\n",
       "    .dataframe tbody tr th {\n",
       "        vertical-align: top;\n",
       "    }\n",
       "\n",
       "    .dataframe thead th {\n",
       "        text-align: right;\n",
       "    }\n",
       "</style>\n",
       "<table border=\"1\" class=\"dataframe\">\n",
       "  <thead>\n",
       "    <tr style=\"text-align: right;\">\n",
       "      <th></th>\n",
       "      <th>median_spd</th>\n",
       "    </tr>\n",
       "  </thead>\n",
       "  <tbody>\n",
       "    <tr>\n",
       "      <th>0</th>\n",
       "      <td>8.542447</td>\n",
       "    </tr>\n",
       "  </tbody>\n",
       "</table>\n",
       "</div>"
      ],
      "text/plain": [
       "   median_spd\n",
       "0    8.542447"
      ]
     },
     "execution_count": 80,
     "metadata": {},
     "output_type": "execute_result"
    }
   ],
   "source": [
    "sfmta >> filter(_.arrival_hour >= 15, _.arrival_hour <= 19) >> summarize(median_spd = _.mean_speed_mph.median())"
   ]
  },
  {
   "cell_type": "code",
   "execution_count": 81,
   "id": "82dd3687-82af-4f26-9f24-81853a03444d",
   "metadata": {},
   "outputs": [
    {
     "data": {
      "text/html": [
       "<div>\n",
       "<style scoped>\n",
       "    .dataframe tbody tr th:only-of-type {\n",
       "        vertical-align: middle;\n",
       "    }\n",
       "\n",
       "    .dataframe tbody tr th {\n",
       "        vertical-align: top;\n",
       "    }\n",
       "\n",
       "    .dataframe thead th {\n",
       "        text-align: right;\n",
       "    }\n",
       "</style>\n",
       "<table border=\"1\" class=\"dataframe\">\n",
       "  <thead>\n",
       "    <tr style=\"text-align: right;\">\n",
       "      <th></th>\n",
       "      <th>median_spd</th>\n",
       "    </tr>\n",
       "  </thead>\n",
       "  <tbody>\n",
       "    <tr>\n",
       "      <th>0</th>\n",
       "      <td>9.088836</td>\n",
       "    </tr>\n",
       "  </tbody>\n",
       "</table>\n",
       "</div>"
      ],
      "text/plain": [
       "   median_spd\n",
       "0    9.088836"
      ]
     },
     "execution_count": 81,
     "metadata": {},
     "output_type": "execute_result"
    }
   ],
   "source": [
    "sfmta >> summarize(median_spd = _.mean_speed_mph.median())"
   ]
  },
  {
   "cell_type": "code",
   "execution_count": null,
   "id": "1203bace-9bd3-4e93-b033-03b44a82a3c6",
   "metadata": {},
   "outputs": [],
   "source": []
  }
 ],
 "metadata": {
  "kernelspec": {
   "display_name": "Python 3 (ipykernel)",
   "language": "python",
   "name": "python3"
  },
  "language_info": {
   "codemirror_mode": {
    "name": "ipython",
    "version": 3
   },
   "file_extension": ".py",
   "mimetype": "text/x-python",
   "name": "python",
   "nbconvert_exporter": "python",
   "pygments_lexer": "ipython3",
   "version": "3.9.10"
  }
 },
 "nbformat": 4,
 "nbformat_minor": 5
}
