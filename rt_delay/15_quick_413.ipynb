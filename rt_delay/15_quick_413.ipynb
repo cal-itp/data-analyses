{
 "cells": [
  {
   "cell_type": "code",
   "execution_count": 1,
   "id": "5019a239-e226-4a6e-b3eb-b9be480f8df7",
   "metadata": {},
   "outputs": [
    {
     "name": "stderr",
     "output_type": "stream",
     "text": [
      "/opt/conda/lib/python3.9/site-packages/geopandas/_compat.py:111: UserWarning: The Shapely GEOS version (3.10.2-CAPI-1.16.0) is incompatible with the GEOS version PyGEOS was compiled with (3.10.1-CAPI-1.16.0). Conversions between both will be slow.\n",
      "  warnings.warn(\n",
      "E0324 20:04:44.671864592    2018 fork_posix.cc:70]           Fork support is only compatible with the epoll1 and poll polling strategies\n",
      "E0324 20:04:47.166414455    2018 fork_posix.cc:70]           Fork support is only compatible with the epoll1 and poll polling strategies\n"
     ]
    }
   ],
   "source": [
    "import os\n",
    "os.environ[\"CALITP_BQ_MAX_BYTES\"] = str(100_000_000_000)\n",
    "\n",
    "from calitp.tables import tbl\n",
    "from calitp import query_sql\n",
    "import calitp.magics\n",
    "import branca\n",
    "\n",
    "import shared_utils\n",
    "import utils\n",
    "\n",
    "from siuba import *\n",
    "import pandas as pd\n",
    "import geopandas as gpd\n",
    "import shapely\n",
    "\n",
    "import datetime as dt\n",
    "import time\n",
    "from zoneinfo import ZoneInfo\n",
    "\n",
    "import rt_analysis as rt\n",
    "import importlib\n",
    "\n",
    "import gcsfs\n",
    "fs = gcsfs.GCSFileSystem()\n",
    "\n",
    "from tqdm import tqdm_notebook\n",
    "from tqdm.notebook import trange, tqdm"
   ]
  },
  {
   "cell_type": "code",
   "execution_count": 2,
   "id": "1739d979-cd4d-456c-a1ad-a016cbf69cad",
   "metadata": {},
   "outputs": [],
   "source": [
    "trips = pd.read_parquet(f'{utils.GCS_FILE_PATH}rt_trips.parquet')"
   ]
  },
  {
   "cell_type": "code",
   "execution_count": 3,
   "id": "682cdf9c-c9b4-455c-a624-cc650438d513",
   "metadata": {},
   "outputs": [],
   "source": [
    "segments = gpd.read_parquet(f'{utils.GCS_FILE_PATH}segment_speed_view.parquet')"
   ]
  },
  {
   "cell_type": "code",
   "execution_count": 4,
   "id": "6ad28719-b3a2-436c-ab5b-c3a9f9dd492e",
   "metadata": {},
   "outputs": [],
   "source": [
    "import rt_filter_map_plot"
   ]
  },
  {
   "cell_type": "code",
   "execution_count": 5,
   "id": "b6e71954-7ce8-4b3b-9391-b3510b0d19a9",
   "metadata": {},
   "outputs": [
    {
     "data": {
      "text/plain": [
       "<module 'rt_filter_map_plot' from '/home/jovyan/data-analyses/rt_delay/rt_filter_map_plot.py'>"
      ]
     },
     "execution_count": 5,
     "metadata": {},
     "output_type": "execute_result"
    }
   ],
   "source": [
    "importlib.reload(rt_filter_map_plot)"
   ]
  },
  {
   "cell_type": "code",
   "execution_count": 6,
   "id": "e4cbefc6-9bbb-4989-85b7-1f31da17fcb8",
   "metadata": {},
   "outputs": [],
   "source": [
    "bbb2 = rt_filter_map_plot.RtFilterMapper(trips, segments)"
   ]
  },
  {
   "cell_type": "code",
   "execution_count": 7,
   "id": "de86aac8-6181-400c-a991-8e66ec770961",
   "metadata": {},
   "outputs": [
    {
     "name": "stdout",
     "output_type": "stream",
     "text": [
      "{'start_time': datetime.time(15, 0), 'end_time': datetime.time(19, 0), 'route_names': None, 'shape_ids': None, 'direction_id': None, 'direction': None}\n"
     ]
    }
   ],
   "source": [
    "bbb2.set_filter(start_time='15:00', end_time='19:00')"
   ]
  },
  {
   "cell_type": "code",
   "execution_count": 8,
   "id": "11b7f6c6-6fc0-4d02-a7bd-d35184616439",
   "metadata": {},
   "outputs": [],
   "source": [
    "# bbb2.set_filter(start_time='15:00', end_time='19:00', route_names=['1', '3', 'R12'])"
   ]
  },
  {
   "cell_type": "code",
   "execution_count": 10,
   "id": "b8806aef-aace-48dc-9b1a-a8e6ad11a780",
   "metadata": {},
   "outputs": [],
   "source": [
    "# bbb2.show_speed_map()"
   ]
  },
  {
   "cell_type": "code",
   "execution_count": null,
   "id": "27931551-32c0-4e1e-90c9-b6f9953f0285",
   "metadata": {},
   "outputs": [],
   "source": []
  }
 ],
 "metadata": {
  "kernelspec": {
   "display_name": "Python 3 (ipykernel)",
   "language": "python",
   "name": "python3"
  },
  "language_info": {
   "codemirror_mode": {
    "name": "ipython",
    "version": 3
   },
   "file_extension": ".py",
   "mimetype": "text/x-python",
   "name": "python",
   "nbconvert_exporter": "python",
   "pygments_lexer": "ipython3",
   "version": "3.9.10"
  }
 },
 "nbformat": 4,
 "nbformat_minor": 5
}
