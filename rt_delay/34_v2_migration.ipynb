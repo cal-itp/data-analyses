{
 "cells": [
  {
   "cell_type": "code",
   "execution_count": null,
   "id": "ec317966-d8ef-474a-a0e4-bc2cbefebb12",
   "metadata": {},
   "outputs": [],
   "source": [
    "import os\n",
    "os.environ[\"CALITP_BQ_MAX_BYTES\"] = str(1_000_000_000_000) ## 1TB?\n",
    "import sys\n",
    "\n",
    "from siuba import *\n",
    "import pandas as pd\n",
    "import geopandas as gpd\n",
    "import gcsfs\n",
    "import datetime as dt\n",
    "import time\n",
    "import shapely\n",
    "\n",
    "from rt_analysis import rt_parser\n",
    "from rt_analysis import rt_filter_map_plot\n",
    "\n",
    "import shared_utils\n",
    "from calitp_data_analysis.tables import tbls"
   ]
  },
  {
   "cell_type": "markdown",
   "id": "683469b6-b7b3-4242-b4bb-1bfd152aca02",
   "metadata": {},
   "source": [
    "# Migrate existing rt_analysis to use the v2 warehouse \n",
    "\n",
    "* mostly just changing queries around"
   ]
  },
  {
   "cell_type": "code",
   "execution_count": null,
   "id": "864d21a7-d4b8-452d-abf8-8e479a4b23ca",
   "metadata": {},
   "outputs": [],
   "source": [
    "# date for v2 testing\n",
    "analysis_date = dt.date(2023, 3, 15)"
   ]
  },
  {
   "cell_type": "markdown",
   "id": "2ee5e846-12d1-4661-848f-196aff1df70f",
   "metadata": {},
   "source": [
    "## Does it work?"
   ]
  },
  {
   "cell_type": "code",
   "execution_count": null,
   "id": "e41161f6-6cfc-41ff-8033-eaa78a4e7c06",
   "metadata": {},
   "outputs": [],
   "source": [
    "rt_parser.OperatorDayAnalysis?"
   ]
  },
  {
   "cell_type": "code",
   "execution_count": null,
   "id": "0a0fe53c-67a0-4aa3-a9fe-bada0d4ff82b",
   "metadata": {},
   "outputs": [],
   "source": [
    "analysis_date"
   ]
  },
  {
   "cell_type": "code",
   "execution_count": null,
   "id": "2e720142-8936-465e-ac33-9a869d18bf7d",
   "metadata": {},
   "outputs": [],
   "source": [
    "from tqdm.notebook import tqdm"
   ]
  },
  {
   "cell_type": "code",
   "execution_count": null,
   "id": "17213181-f5ba-46db-a3b9-7ad8f2ed6900",
   "metadata": {
    "tags": []
   },
   "outputs": [],
   "source": [
    "pbar = tqdm()"
   ]
  },
  {
   "cell_type": "code",
   "execution_count": null,
   "id": "a7cca436-1db5-4b0f-a82e-fca65c4b6bdf",
   "metadata": {},
   "outputs": [],
   "source": [
    "import rt_analysis"
   ]
  },
  {
   "cell_type": "code",
   "execution_count": null,
   "id": "bd31f7a4-ec30-45e0-903a-49a5fd9ee0e6",
   "metadata": {
    "tags": []
   },
   "outputs": [],
   "source": [
    "rt_day = rt_parser.OperatorDayAnalysis(4, analysis_date, pbar)"
   ]
  },
  {
   "cell_type": "code",
   "execution_count": null,
   "id": "0e3ba32c-0b04-434b-afa8-02f181a5846e",
   "metadata": {},
   "outputs": [],
   "source": [
    "rt_day = rt_filter_map_plot.RtFilterMapper(rt_day.rt_trips, rt_day.stop_delay_view, rt_day.routelines, pbar)"
   ]
  },
  {
   "cell_type": "code",
   "execution_count": null,
   "id": "3ce3d650-24b4-4060-9bb5-5a4e19ed2391",
   "metadata": {
    "tags": []
   },
   "outputs": [],
   "source": [
    "rt_day.segment_speed_map()"
   ]
  },
  {
   "cell_type": "markdown",
   "id": "e2a7e03c-840c-48e8-a99d-def9d1c4b3f4",
   "metadata": {},
   "source": [
    "## Before Merging\n",
    "\n",
    "* use new folder, restore caching, move to rt_utils\n",
    "* backwards compatibility -- RtFilterMapper shall accept and use v1 for pre-2023 dates\n",
    "* message change with Chaithra, pre-stage 2 weeks for SFMTA, AC Transit, SDMTS using v1 around Oct date's she's already using\n",
    "    * example notebook...\n",
    "    * note that she's welcome to rerun recent dates with v2\n",
    "* _some time later_\n",
    "    * advocate to delete v1 tables\n",
    "    * remove v1 cached data\n",
    "\n"
   ]
  },
  {
   "cell_type": "code",
   "execution_count": null,
   "id": "0dcd60ff-d5f5-4a12-b38f-4dd1381af66c",
   "metadata": {},
   "outputs": [],
   "source": []
  },
  {
   "cell_type": "code",
   "execution_count": null,
   "id": "9d6be594-938f-4005-b9dd-b8bb9271d62d",
   "metadata": {},
   "outputs": [],
   "source": [
    "# rt_day.export_views_gcs()"
   ]
  }
 ],
 "metadata": {
  "kernelspec": {
   "display_name": "Python 3 (ipykernel)",
   "language": "python",
   "name": "python3"
  },
  "language_info": {
   "codemirror_mode": {
    "name": "ipython",
    "version": 3
   },
   "file_extension": ".py",
   "mimetype": "text/x-python",
   "name": "python",
   "nbconvert_exporter": "python",
   "pygments_lexer": "ipython3",
   "version": "3.9.13"
  },
  "widgets": {
   "application/vnd.jupyter.widget-state+json": {
    "state": {},
    "version_major": 2,
    "version_minor": 0
   }
  }
 },
 "nbformat": 4,
 "nbformat_minor": 5
}
