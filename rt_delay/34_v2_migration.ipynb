{
 "cells": [
  {
   "cell_type": "code",
   "execution_count": 1,
   "id": "ec317966-d8ef-474a-a0e4-bc2cbefebb12",
   "metadata": {},
   "outputs": [
    {
     "name": "stderr",
     "output_type": "stream",
     "text": [
      "/opt/conda/lib/python3.9/site-packages/geopandas/_compat.py:123: UserWarning: The Shapely GEOS version (3.10.3-CAPI-1.16.1) is incompatible with the GEOS version PyGEOS was compiled with (3.10.1-CAPI-1.16.0). Conversions between both will be slow.\n",
      "  warnings.warn(\n"
     ]
    }
   ],
   "source": [
    "import os\n",
    "os.environ[\"CALITP_BQ_MAX_BYTES\"] = str(1_000_000_000_000) ## 1TB?\n",
    "import sys\n",
    "\n",
    "from siuba import *\n",
    "import pandas as pd\n",
    "import geopandas as gpd\n",
    "import gcsfs\n",
    "import datetime as dt\n",
    "import time\n",
    "import shapely\n",
    "\n",
    "from rt_analysis import rt_parser\n",
    "from rt_analysis import rt_filter_map_plot\n",
    "\n",
    "import shared_utils\n",
    "from calitp_data_analysis.tables import tbls"
   ]
  },
  {
   "cell_type": "markdown",
   "id": "683469b6-b7b3-4242-b4bb-1bfd152aca02",
   "metadata": {},
   "source": [
    "# Migrate existing rt_analysis to use the v2 warehouse \n",
    "\n",
    "* mostly just changing queries around"
   ]
  },
  {
   "cell_type": "code",
   "execution_count": 2,
   "id": "864d21a7-d4b8-452d-abf8-8e479a4b23ca",
   "metadata": {},
   "outputs": [],
   "source": [
    "# date for v2 testing\n",
    "analysis_date = dt.date(2023, 3, 15)"
   ]
  },
  {
   "cell_type": "markdown",
   "id": "2ee5e846-12d1-4661-848f-196aff1df70f",
   "metadata": {},
   "source": [
    "## Does it work?"
   ]
  },
  {
   "cell_type": "code",
   "execution_count": 3,
   "id": "e41161f6-6cfc-41ff-8033-eaa78a4e7c06",
   "metadata": {},
   "outputs": [
    {
     "data": {
      "text/plain": [
       "\u001b[0;31mInit signature:\u001b[0m \u001b[0mrt_parser\u001b[0m\u001b[0;34m.\u001b[0m\u001b[0mOperatorDayAnalysis\u001b[0m\u001b[0;34m(\u001b[0m\u001b[0mitp_id\u001b[0m\u001b[0;34m,\u001b[0m \u001b[0manalysis_date\u001b[0m\u001b[0;34m,\u001b[0m \u001b[0mpbar\u001b[0m\u001b[0;34m=\u001b[0m\u001b[0;32mNone\u001b[0m\u001b[0;34m)\u001b[0m\u001b[0;34m\u001b[0m\u001b[0;34m\u001b[0m\u001b[0m\n",
       "\u001b[0;31mDocstring:\u001b[0m     \n",
       "New top-level class for rt delay/speed analysis of a single operator on a single day\n",
       "    \n",
       "\u001b[0;31mFile:\u001b[0m           ~/data-analyses/rt_delay/rt_analysis/rt_parser.py\n",
       "\u001b[0;31mType:\u001b[0m           type\n",
       "\u001b[0;31mSubclasses:\u001b[0m     "
      ]
     },
     "metadata": {},
     "output_type": "display_data"
    }
   ],
   "source": [
    "rt_parser.OperatorDayAnalysis?"
   ]
  },
  {
   "cell_type": "code",
   "execution_count": 4,
   "id": "0a0fe53c-67a0-4aa3-a9fe-bada0d4ff82b",
   "metadata": {},
   "outputs": [
    {
     "data": {
      "text/plain": [
       "datetime.date(2023, 3, 15)"
      ]
     },
     "execution_count": 4,
     "metadata": {},
     "output_type": "execute_result"
    }
   ],
   "source": [
    "analysis_date"
   ]
  },
  {
   "cell_type": "code",
   "execution_count": 5,
   "id": "2e720142-8936-465e-ac33-9a869d18bf7d",
   "metadata": {},
   "outputs": [],
   "source": [
    "from tqdm.notebook import tqdm"
   ]
  },
  {
   "cell_type": "code",
   "execution_count": 6,
   "id": "17213181-f5ba-46db-a3b9-7ad8f2ed6900",
   "metadata": {
    "tags": []
   },
   "outputs": [
    {
     "data": {
      "application/vnd.jupyter.widget-view+json": {
       "model_id": "2f3b4a7c48a74eab8125aed5edd7ab94",
       "version_major": 2,
       "version_minor": 0
      },
      "text/plain": [
       "0it [00:00, ?it/s]"
      ]
     },
     "metadata": {},
     "output_type": "display_data"
    }
   ],
   "source": [
    "pbar = tqdm()"
   ]
  },
  {
   "cell_type": "code",
   "execution_count": 7,
   "id": "bd31f7a4-ec30-45e0-903a-49a5fd9ee0e6",
   "metadata": {
    "tags": []
   },
   "outputs": [],
   "source": [
    "# rt_day = rt_parser.OperatorDayAnalysis(182, analysis_date, pbar)"
   ]
  },
  {
   "cell_type": "code",
   "execution_count": 8,
   "id": "0e3ba32c-0b04-434b-afa8-02f181a5846e",
   "metadata": {},
   "outputs": [],
   "source": [
    "# rt_day = rt_filter_map_plot.RtFilterMapper(rt_day.rt_trips, rt_day.stop_delay_view, rt_day.routelines, pbar)"
   ]
  },
  {
   "cell_type": "code",
   "execution_count": 9,
   "id": "1f7c9c6d-ccca-407b-9842-75a08a26a470",
   "metadata": {},
   "outputs": [],
   "source": [
    "# rt_day.set_filter(start_time = '06:00', end_time = '09:00')"
   ]
  },
  {
   "cell_type": "code",
   "execution_count": 10,
   "id": "3ce3d650-24b4-4060-9bb5-5a4e19ed2391",
   "metadata": {
    "tags": []
   },
   "outputs": [],
   "source": [
    "# m = rt_day.segment_speed_map()"
   ]
  },
  {
   "cell_type": "code",
   "execution_count": 11,
   "id": "df3768ae-990c-4b16-a41d-0480d81254ab",
   "metadata": {},
   "outputs": [],
   "source": [
    "# m"
   ]
  },
  {
   "cell_type": "markdown",
   "id": "e2a7e03c-840c-48e8-a99d-def9d1c4b3f4",
   "metadata": {},
   "source": [
    "## Before Merging\n",
    "\n",
    "* use new folder, restore caching, move to rt_utils\n",
    "* backwards compatibility -- RtFilterMapper shall accept and use v1 for pre-2023 dates (done)\n",
    "* message change with Chaithra, pre-stage 2 weeks for SFMTA, AC Transit, SDMTS using v1 around Oct date's she's already using\n",
    "    * example notebook (or just point to relevant tutorial)\n",
    "    * note that she's welcome to rerun recent dates with v2\n",
    "* _some time later_\n",
    "    * advocate to delete v1 tables\n",
    "    * remove v1 cached data"
   ]
  },
  {
   "cell_type": "code",
   "execution_count": 12,
   "id": "9d6be594-938f-4005-b9dd-b8bb9271d62d",
   "metadata": {},
   "outputs": [],
   "source": [
    "# rt_day.export_views_gcs()"
   ]
  },
  {
   "cell_type": "markdown",
   "id": "2ed02a71-35a3-4148-9e60-e04ba67e2f8f",
   "metadata": {},
   "source": [
    "## Backwards compatibility"
   ]
  },
  {
   "cell_type": "code",
   "execution_count": 13,
   "id": "974c1944-a761-4e71-885a-653de14783d6",
   "metadata": {},
   "outputs": [],
   "source": [
    "v1_date = dt.date(2022, 10, 12)"
   ]
  },
  {
   "cell_type": "code",
   "execution_count": 14,
   "id": "fb62787d-ced1-4739-930f-857882eb15ca",
   "metadata": {},
   "outputs": [
    {
     "name": "stdout",
     "output_type": "stream",
     "text": [
      "found parquet\n"
     ]
    }
   ],
   "source": [
    "rt_day = rt_filter_map_plot.from_gcs(300, v1_date, pbar)"
   ]
  },
  {
   "cell_type": "code",
   "execution_count": 15,
   "id": "bfdf7159-6847-428b-8a58-60f9e56a6756",
   "metadata": {
    "tags": []
   },
   "outputs": [],
   "source": [
    "# rt_day.segment_speed_map()"
   ]
  },
  {
   "cell_type": "code",
   "execution_count": 16,
   "id": "41dc9809-421e-4c2f-a3f6-5fcffffd86d3",
   "metadata": {},
   "outputs": [],
   "source": [
    "## TODO print warning"
   ]
  },
  {
   "cell_type": "markdown",
   "id": "54fbf231-e628-413a-86ac-7eee74990d95",
   "metadata": {},
   "source": [
    "## Caching"
   ]
  },
  {
   "cell_type": "code",
   "execution_count": 17,
   "id": "5d5230bc-c2ca-47b9-802f-19d3afa4e616",
   "metadata": {},
   "outputs": [],
   "source": [
    "import rt_analysis"
   ]
  },
  {
   "cell_type": "code",
   "execution_count": 18,
   "id": "216849b3-e88a-464d-91f3-3a2d16ae4485",
   "metadata": {},
   "outputs": [],
   "source": [
    "ix_query = rt_analysis.v2_queries.get_ix_query(300, analysis_date)"
   ]
  },
  {
   "cell_type": "code",
   "execution_count": 19,
   "id": "1b1514ac-f4c4-40ab-ad78-e37b6f288e98",
   "metadata": {},
   "outputs": [],
   "source": [
    "ix_df = ix_query >> collect()"
   ]
  },
  {
   "cell_type": "code",
   "execution_count": 20,
   "id": "27bc49d8-da34-4b91-a55f-ef94d86b8552",
   "metadata": {},
   "outputs": [],
   "source": [
    "date_str = analysis_date.strftime(shared_utils.rt_utils.FULL_DATE_FMT)"
   ]
  },
  {
   "cell_type": "code",
   "execution_count": 22,
   "id": "ea9c86a6-648d-42bf-8a9d-74db47ea605e",
   "metadata": {},
   "outputs": [
    {
     "name": "stdout",
     "output_type": "stream",
     "text": [
      "found vp parquet\n"
     ]
    }
   ],
   "source": [
    "vp = rt_analysis.v2_queries.get_vehicle_positions(ix_query)"
   ]
  }
 ],
 "metadata": {
  "kernelspec": {
   "display_name": "Python 3 (ipykernel)",
   "language": "python",
   "name": "python3"
  },
  "language_info": {
   "codemirror_mode": {
    "name": "ipython",
    "version": 3
   },
   "file_extension": ".py",
   "mimetype": "text/x-python",
   "name": "python",
   "nbconvert_exporter": "python",
   "pygments_lexer": "ipython3",
   "version": "3.9.13"
  },
  "widgets": {
   "application/vnd.jupyter.widget-state+json": {
    "state": {
     "00b822c8ef324a6f83e97aae1fe304d4": {
      "model_module": "@jupyter-widgets/controls",
      "model_module_version": "1.5.0",
      "model_name": "HBoxModel",
      "state": {
       "children": [
        "IPY_MODEL_2bccb36a6e694efd9efbe0c3bcbfe4ef",
        "IPY_MODEL_804b936ab52f4f0f9da26ba04a37407c",
        "IPY_MODEL_4bc713a5359843c38e6a7e512824688f"
       ],
       "layout": "IPY_MODEL_15add3dcd84d468fb228cfb26b5eea26"
      }
     },
     "15add3dcd84d468fb228cfb26b5eea26": {
      "model_module": "@jupyter-widgets/base",
      "model_module_version": "1.2.0",
      "model_name": "LayoutModel",
      "state": {}
     },
     "1989289ceff4420e93b59a29c5752cb2": {
      "model_module": "@jupyter-widgets/controls",
      "model_module_version": "1.5.0",
      "model_name": "DescriptionStyleModel",
      "state": {
       "description_width": ""
      }
     },
     "1e896ebdff9f45faa6171c785bd32ee9": {
      "model_module": "@jupyter-widgets/base",
      "model_module_version": "1.2.0",
      "model_name": "LayoutModel",
      "state": {}
     },
     "28030299ce0b43d4bb7f36b008cc417b": {
      "model_module": "@jupyter-widgets/base",
      "model_module_version": "1.2.0",
      "model_name": "LayoutModel",
      "state": {
       "width": "20px"
      }
     },
     "2bccb36a6e694efd9efbe0c3bcbfe4ef": {
      "model_module": "@jupyter-widgets/controls",
      "model_module_version": "1.5.0",
      "model_name": "HTMLModel",
      "state": {
       "layout": "IPY_MODEL_f262f9736f9f4838a7556b68a4ae28e3",
       "style": "IPY_MODEL_e6338efa7f4e4dfc9cfada13d62ef1da"
      }
     },
     "2f3b4a7c48a74eab8125aed5edd7ab94": {
      "model_module": "@jupyter-widgets/controls",
      "model_module_version": "1.5.0",
      "model_name": "HBoxModel",
      "state": {
       "children": [
        "IPY_MODEL_2bccb36a6e694efd9efbe0c3bcbfe4ef",
        "IPY_MODEL_804b936ab52f4f0f9da26ba04a37407c",
        "IPY_MODEL_4bc713a5359843c38e6a7e512824688f"
       ],
       "layout": "IPY_MODEL_15add3dcd84d468fb228cfb26b5eea26"
      }
     },
     "3c66c2e17b7c4d71ab24f6bbd72263de": {
      "model_module": "@jupyter-widgets/controls",
      "model_module_version": "1.5.0",
      "model_name": "FloatProgressModel",
      "state": {
       "layout": "IPY_MODEL_28030299ce0b43d4bb7f36b008cc417b",
       "max": 1,
       "style": "IPY_MODEL_f866837573e04b7183b61a2a43028319"
      }
     },
     "4a75f9ebb300462a8d7abc4c9d4ca03b": {
      "model_module": "@jupyter-widgets/controls",
      "model_module_version": "1.5.0",
      "model_name": "HTMLModel",
      "state": {
       "layout": "IPY_MODEL_1e896ebdff9f45faa6171c785bd32ee9",
       "style": "IPY_MODEL_e019864b823744c7957627ab9c049534"
      }
     },
     "4bc713a5359843c38e6a7e512824688f": {
      "model_module": "@jupyter-widgets/controls",
      "model_module_version": "1.5.0",
      "model_name": "HTMLModel",
      "state": {
       "layout": "IPY_MODEL_1e896ebdff9f45faa6171c785bd32ee9",
       "style": "IPY_MODEL_e019864b823744c7957627ab9c049534",
       "value": " 0/? [00:00&lt;?, ?it/s]"
      }
     },
     "5957d3437cdf42e6b823fd8a2bb12116": {
      "model_module": "@jupyter-widgets/base",
      "model_module_version": "1.2.0",
      "model_name": "LayoutModel",
      "state": {}
     },
     "5c9bd6959a1d493b89d63f1566f8f96d": {
      "model_module": "@jupyter-widgets/controls",
      "model_module_version": "1.5.0",
      "model_name": "HTMLModel",
      "state": {
       "layout": "IPY_MODEL_f262f9736f9f4838a7556b68a4ae28e3",
       "style": "IPY_MODEL_e6338efa7f4e4dfc9cfada13d62ef1da"
      }
     },
     "804b936ab52f4f0f9da26ba04a37407c": {
      "model_module": "@jupyter-widgets/controls",
      "model_module_version": "1.5.0",
      "model_name": "FloatProgressModel",
      "state": {
       "bar_style": "info",
       "layout": "IPY_MODEL_28030299ce0b43d4bb7f36b008cc417b",
       "max": 1,
       "style": "IPY_MODEL_f866837573e04b7183b61a2a43028319"
      }
     },
     "8bc389a2615b42498da8f01b7a202c44": {
      "model_module": "@jupyter-widgets/base",
      "model_module_version": "1.2.0",
      "model_name": "LayoutModel",
      "state": {}
     },
     "980eddce2aeb4f84b95f64972f2eac64": {
      "model_module": "@jupyter-widgets/base",
      "model_module_version": "1.2.0",
      "model_name": "LayoutModel",
      "state": {}
     },
     "a89fe1f9d6664477bda4dc22ec9954f1": {
      "model_module": "@jupyter-widgets/base",
      "model_module_version": "1.2.0",
      "model_name": "LayoutModel",
      "state": {}
     },
     "b3450942c9b0422081503a087128761d": {
      "model_module": "@jupyter-widgets/controls",
      "model_module_version": "1.5.0",
      "model_name": "DescriptionStyleModel",
      "state": {
       "description_width": ""
      }
     },
     "d8ed76f7b3ba4fc18ae955f0f95fef75": {
      "model_module": "@jupyter-widgets/controls",
      "model_module_version": "1.5.0",
      "model_name": "ProgressStyleModel",
      "state": {
       "description_width": ""
      }
     },
     "e019864b823744c7957627ab9c049534": {
      "model_module": "@jupyter-widgets/controls",
      "model_module_version": "1.5.0",
      "model_name": "DescriptionStyleModel",
      "state": {
       "description_width": ""
      }
     },
     "e6338efa7f4e4dfc9cfada13d62ef1da": {
      "model_module": "@jupyter-widgets/controls",
      "model_module_version": "1.5.0",
      "model_name": "DescriptionStyleModel",
      "state": {
       "description_width": ""
      }
     },
     "f262f9736f9f4838a7556b68a4ae28e3": {
      "model_module": "@jupyter-widgets/base",
      "model_module_version": "1.2.0",
      "model_name": "LayoutModel",
      "state": {}
     },
     "f866837573e04b7183b61a2a43028319": {
      "model_module": "@jupyter-widgets/controls",
      "model_module_version": "1.5.0",
      "model_name": "ProgressStyleModel",
      "state": {
       "description_width": ""
      }
     }
    },
    "version_major": 2,
    "version_minor": 0
   }
  }
 },
 "nbformat": 4,
 "nbformat_minor": 5
}
