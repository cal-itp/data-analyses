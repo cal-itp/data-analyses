{
 "cells": [
  {
   "cell_type": "code",
   "execution_count": 18,
   "id": "ec317966-d8ef-474a-a0e4-bc2cbefebb12",
   "metadata": {},
   "outputs": [],
   "source": [
    "import os\n",
    "os.environ[\"CALITP_BQ_MAX_BYTES\"] = str(1_000_000_000_000) ## 1TB?\n",
    "import sys\n",
    "\n",
    "from siuba import *\n",
    "import pandas as pd\n",
    "import geopandas as gpd\n",
    "import datetime as dt\n",
    "\n",
    "from rt_analysis import rt_parser\n",
    "from rt_analysis import rt_filter_map_plot\n",
    "\n",
    "import shared_utils"
   ]
  },
  {
   "cell_type": "code",
   "execution_count": 2,
   "id": "805bef37-f4ef-48f9-af7a-ca2195160198",
   "metadata": {},
   "outputs": [],
   "source": [
    "import datetime as dt\n",
    "import os\n",
    "import re\n",
    "import time\n",
    "from pathlib import Path\n",
    "from typing import Union\n",
    "\n",
    "import branca\n",
    "import dask_geopandas as dg\n",
    "import folium\n",
    "import gcsfs\n",
    "import geopandas as gpd\n",
    "import numpy as np\n",
    "import pandas as pd\n",
    "import shapely\n",
    "import siuba  # need for type hints\n",
    "from calitp_data_analysis.sql import query_sql\n",
    "from calitp_data_analysis.tables import tbls\n",
    "from numba import jit\n",
    "from shared_utils import geography_utils, gtfs_utils, gtfs_utils_v2, map_utils, utils\n",
    "from siuba import *"
   ]
  },
  {
   "cell_type": "markdown",
   "id": "683469b6-b7b3-4242-b4bb-1bfd152aca02",
   "metadata": {},
   "source": [
    "# Migrate existing rt_analysis to use the v2 warehouse \n",
    "\n",
    "* mostly just changing queries around"
   ]
  },
  {
   "cell_type": "code",
   "execution_count": 3,
   "id": "a2aa1129-80e0-4f3b-ab39-d697d08d7bb0",
   "metadata": {},
   "outputs": [],
   "source": [
    "fs = gcsfs.GCSFileSystem()\n",
    "\n",
    "# set system time\n",
    "os.environ[\"TZ\"] = \"America/Los_Angeles\"\n",
    "time.tzset()\n",
    "\n",
    "GCS_PROJECT = \"cal-itp-data-infra\"\n",
    "BUCKET_NAME = \"calitp-analytics-data\"\n",
    "BUCKET_DIR = \"data-analyses/rt_delay\"\n",
    "GCS_FILE_PATH = f\"gs://{BUCKET_NAME}/{BUCKET_DIR}/\"\n",
    "EXPORT_PATH = f\"{GCS_FILE_PATH}cached_views/\""
   ]
  },
  {
   "cell_type": "code",
   "execution_count": 4,
   "id": "edb7e1d7-8910-487d-a61a-086e9622781e",
   "metadata": {},
   "outputs": [],
   "source": [
    "# Datetime formats\n",
    "DATE_WEEKDAY_FMT = \"%b %d (%a)\"  # Jun 01 (Wed) for 6/1/22\n",
    "MONTH_DAY_FMT = \"%m_%d\"  # 6_01 for 6/1/22\n",
    "HOUR_MIN_FMT = \"%H:%M\"  # 08:00 for 8 am, 13:00 for 1pm\n",
    "HOUR_MIN_SEC_FMT = \"%H:%M:%S\"  # 08:15:05 for 8:15 am + 5 sec, 13:15:05 for 1:15pm + 5 sec\n",
    "FULL_DATE_FMT = \"%Y-%m-%d\"  # 2022-06-01 for 6/1/22"
   ]
  },
  {
   "cell_type": "code",
   "execution_count": 5,
   "id": "06a2c747-8144-4d4f-b36a-2981f7f1b518",
   "metadata": {},
   "outputs": [],
   "source": [
    "def check_cached(\n",
    "    filename: str,\n",
    "    GCS_FILE_PATH: Union[str, Path] = GCS_FILE_PATH,\n",
    "    subfolder: Union[str, Path] = \"cached_views/\",\n",
    ") -> Union[str, Path]:\n",
    "    \"\"\"\n",
    "    Check GCS bucket to see if a file already is there.\n",
    "    Returns the path, if it exists.\n",
    "\n",
    "    GCS_FILE_PATH: Defaults to gs://calitp-analytics-data/data-analyses/rt_delay/\n",
    "    \"\"\"\n",
    "    path = f\"{GCS_FILE_PATH}{subfolder}{filename}\"\n",
    "    if fs.exists(path):\n",
    "        return path\n",
    "    else:\n",
    "        return None"
   ]
  },
  {
   "cell_type": "code",
   "execution_count": 6,
   "id": "85c4dbe5-a25d-4d37-80c8-eed349b7e58a",
   "metadata": {},
   "outputs": [],
   "source": [
    "def convert_ts(ts: int) -> dt.datetime:\n",
    "    pacific_dt = dt.datetime.fromtimestamp(ts)\n",
    "    return pacific_dt"
   ]
  },
  {
   "cell_type": "code",
   "execution_count": 7,
   "id": "fb6c4cd4-4d65-438f-a291-a1349b3d249c",
   "metadata": {},
   "outputs": [],
   "source": [
    "def get_vehicle_positions(\n",
    "    itp_id: int, analysis_date: dt.date, export_path: Union[str, Path] = EXPORT_PATH\n",
    ") -> pd.DataFrame:\n",
    "    \"\"\"\n",
    "    itp_id: an itp_id (string or integer)\n",
    "    analysis_date: datetime.date\n",
    "\n",
    "    Interim function for getting complete vehicle positions data for a\n",
    "    single operator on a single date of interest.\n",
    "    To be replaced as RT views are implemented...\n",
    "\n",
    "    Currently drops positions for day after analysis date after 2AM,\n",
    "    temporary fix to balance capturing trips crossing\n",
    "    midnight with avoiding duplicates...\n",
    "    \"\"\"\n",
    "\n",
    "    next_date = analysis_date + dt.timedelta(days=1)\n",
    "    date_str = analysis_date.strftime(FULL_DATE_FMT)\n",
    "\n",
    "    start = dt.datetime.combine(analysis_date, dt.time(0))\n",
    "    end = start + dt.timedelta(days=1, seconds=2 * 60**2)\n",
    "\n",
    "    filename = f\"vp_{itp_id}_{date_str}.parquet\"\n",
    "    path = check_cached(filename)\n",
    "\n",
    "    # these times should now be Pacific?\n",
    "    st_combined = dt.datetime.combine(analysis_date, dt.time(0))\n",
    "    st_ts_utc = int(st_combined.timestamp())\n",
    "    end_combined = dt.datetime.combine(analysis_date + dt.timedelta(days=1), dt.time(2))\n",
    "    end_ts_utc = int(end_combined.timestamp())\n",
    "\n",
    "    if path:\n",
    "        print(\"found parquet\")\n",
    "        return pd.read_parquet(path)\n",
    "    else:\n",
    "        df = query_sql(\n",
    "            f\"\"\"\n",
    "        SELECT calitp_itp_id, calitp_url_number,\n",
    "        timestamp AS vehicle_timestamp,\n",
    "        vehicle_label AS entity_id, vehicle_id,\n",
    "        trip_id, longitude AS vehicle_longitude, latitude AS vehicle_latitude\n",
    "        FROM `cal-itp-data-infra.staging.stg_rt__vehicle_positions`\n",
    "        WHERE calitp_itp_id = {itp_id} AND date IN (\"{analysis_date}\", \"{next_date}\")\n",
    "        AND timestamp > {st_ts_utc}\n",
    "        AND timestamp < {end_ts_utc}\n",
    "        \"\"\"\n",
    "        )\n",
    "\n",
    "        df = df >> distinct(_.trip_id, _.vehicle_timestamp, _keep_all=True)\n",
    "        df = df.dropna(subset=[\"vehicle_timestamp\"])\n",
    "        assert not df.empty, f\"no vehicle positions data found for {date_str}\"\n",
    "        df.vehicle_timestamp = df.vehicle_timestamp.apply(convert_ts)\n",
    "        # header timestamp not present in staging, add upstream if desired\n",
    "        # df.header_timestamp = df.header_timestamp.apply(convert_ts)\n",
    "        df = df >> filter(_.vehicle_timestamp > start, _.vehicle_timestamp < end)\n",
    "\n",
    "        # assert df.vehicle_timestamp.min() < dt.datetime.combine(analysis_date, dt.time(0)), 'rt data starts after analysis date'\n",
    "        # assert dt.datetime.combine(analysis_date, dt.time(hour=23, minute=59)) < df.vehicle_timestamp.max(), 'rt data ends early on analysis date'\n",
    "        # if not df.vehicle_timestamp.min() < dt.datetime.combine(analysis_date, dt.time(0)):\n",
    "        #     warnings.warn('rt data starts after analysis date')\n",
    "        # if not dt.datetime.combine(end) < df.vehicle_timestamp.max():\n",
    "        #     warnings.warn('rt data ends early on analysis date')\n",
    "\n",
    "        df.to_parquet(f\"{export_path}{filename}\")\n",
    "        return df"
   ]
  },
  {
   "cell_type": "code",
   "execution_count": 8,
   "id": "1ebcc931-b01c-4d59-b057-26d9aa808841",
   "metadata": {},
   "outputs": [
    {
     "name": "stdout",
     "output_type": "stream",
     "text": [
      "found parquet\n"
     ]
    }
   ],
   "source": [
    "ac_v1 = get_vehicle_positions(4, dt.date(2022, 10, 17))"
   ]
  },
  {
   "cell_type": "code",
   "execution_count": 9,
   "id": "257b2ec3-cd1d-4694-8fce-d09f982b2d99",
   "metadata": {},
   "outputs": [
    {
     "data": {
      "text/html": [
       "<div>\n",
       "<style scoped>\n",
       "    .dataframe tbody tr th:only-of-type {\n",
       "        vertical-align: middle;\n",
       "    }\n",
       "\n",
       "    .dataframe tbody tr th {\n",
       "        vertical-align: top;\n",
       "    }\n",
       "\n",
       "    .dataframe thead th {\n",
       "        text-align: right;\n",
       "    }\n",
       "</style>\n",
       "<table border=\"1\" class=\"dataframe\">\n",
       "  <thead>\n",
       "    <tr style=\"text-align: right;\">\n",
       "      <th></th>\n",
       "      <th>calitp_itp_id</th>\n",
       "      <th>calitp_url_number</th>\n",
       "      <th>vehicle_timestamp</th>\n",
       "      <th>entity_id</th>\n",
       "      <th>vehicle_id</th>\n",
       "      <th>trip_id</th>\n",
       "      <th>vehicle_longitude</th>\n",
       "      <th>vehicle_latitude</th>\n",
       "    </tr>\n",
       "  </thead>\n",
       "  <tbody>\n",
       "    <tr>\n",
       "      <th>0</th>\n",
       "      <td>4</td>\n",
       "      <td>0</td>\n",
       "      <td>2022-10-17 00:59:37</td>\n",
       "      <td>None</td>\n",
       "      <td>1361</td>\n",
       "      <td>783020</td>\n",
       "      <td>-122.27368</td>\n",
       "      <td>37.805170</td>\n",
       "    </tr>\n",
       "    <tr>\n",
       "      <th>1</th>\n",
       "      <td>4</td>\n",
       "      <td>0</td>\n",
       "      <td>2022-10-17 00:59:42</td>\n",
       "      <td>None</td>\n",
       "      <td>2251</td>\n",
       "      <td>14070010</td>\n",
       "      <td>-122.15236</td>\n",
       "      <td>37.743004</td>\n",
       "    </tr>\n",
       "    <tr>\n",
       "      <th>2</th>\n",
       "      <td>4</td>\n",
       "      <td>0</td>\n",
       "      <td>2022-10-17 00:59:40</td>\n",
       "      <td>None</td>\n",
       "      <td>2245</td>\n",
       "      <td>13273010</td>\n",
       "      <td>-122.29322</td>\n",
       "      <td>37.838596</td>\n",
       "    </tr>\n",
       "  </tbody>\n",
       "</table>\n",
       "</div>"
      ],
      "text/plain": [
       "   calitp_itp_id  calitp_url_number   vehicle_timestamp entity_id vehicle_id  \\\n",
       "0              4                  0 2022-10-17 00:59:37      None       1361   \n",
       "1              4                  0 2022-10-17 00:59:42      None       2251   \n",
       "2              4                  0 2022-10-17 00:59:40      None       2245   \n",
       "\n",
       "    trip_id  vehicle_longitude  vehicle_latitude  \n",
       "0    783020         -122.27368         37.805170  \n",
       "1  14070010         -122.15236         37.743004  \n",
       "2  13273010         -122.29322         37.838596  "
      ]
     },
     "execution_count": 9,
     "metadata": {},
     "output_type": "execute_result"
    }
   ],
   "source": [
    "ac_v1 >> head(3)"
   ]
  },
  {
   "cell_type": "code",
   "execution_count": 10,
   "id": "eacf4ade-ddb2-477b-8346-527a17ac9032",
   "metadata": {},
   "outputs": [],
   "source": [
    "provider = (tbls.mart_transit_database.dim_provider_gtfs_data()\n",
    "            >> collect()\n",
    "           )"
   ]
  },
  {
   "cell_type": "code",
   "execution_count": 11,
   "id": "9995702a-df3d-4b67-bc05-448bfd540cc5",
   "metadata": {},
   "outputs": [
    {
     "data": {
      "text/plain": [
       "Index(['key', 'guidelines_assessed', 'reports_site_assessed',\n",
       "       'organization_key', 'organization_name', 'organization_itp_id',\n",
       "       'organization_hubspot_company_record_id', 'organization_ntd_id',\n",
       "       'organization_source_record_id', 'service_key', 'service_name',\n",
       "       'service_source_record_id', 'gtfs_service_data_customer_facing',\n",
       "       'regional_feed_type', 'associated_schedule_gtfs_dataset_key',\n",
       "       'schedule_gtfs_dataset_name', 'schedule_source_record_id',\n",
       "       'service_alerts_gtfs_dataset_name', 'service_alerts_source_record_id',\n",
       "       'vehicle_positions_gtfs_dataset_name',\n",
       "       'vehicle_positions_source_record_id', 'trip_updates_gtfs_dataset_name',\n",
       "       'trip_updates_source_record_id', 'schedule_gtfs_dataset_key',\n",
       "       'service_alerts_gtfs_dataset_key', 'vehicle_positions_gtfs_dataset_key',\n",
       "       'trip_updates_gtfs_dataset_key', '_valid_from', '_valid_to',\n",
       "       '_is_current'],\n",
       "      dtype='object')"
      ]
     },
     "execution_count": 11,
     "metadata": {},
     "output_type": "execute_result"
    }
   ],
   "source": [
    "provider.columns"
   ]
  },
  {
   "cell_type": "code",
   "execution_count": 8,
   "id": "613ca6c7-b79b-411a-9d0c-c3994edd8de4",
   "metadata": {},
   "outputs": [],
   "source": [
    "analysis_date = dt.date(2023, 2, 17)"
   ]
  },
  {
   "cell_type": "code",
   "execution_count": 14,
   "id": "db6583c0-a601-49a9-aac1-f1a6dce5f342",
   "metadata": {},
   "outputs": [],
   "source": [
    "import pytz"
   ]
  },
  {
   "cell_type": "code",
   "execution_count": 15,
   "id": "f55f1499-4d4d-40de-8e02-f0457e3512d7",
   "metadata": {},
   "outputs": [],
   "source": [
    "analysis_dt = dt.datetime.combine(analysis_date, dt.time(0,0))\n",
    "analysis_dt = analysis_dt.replace(tzinfo=pytz.UTC)"
   ]
  },
  {
   "cell_type": "code",
   "execution_count": 16,
   "id": "86533830-0843-42bd-aa9b-c7f57db7fa3d",
   "metadata": {},
   "outputs": [],
   "source": [
    "## TODO unexpected regional feed for 10.17? (AC Transit 4)\n",
    "## may need own always ditch regional type logic here, or not use reports_site_assessed?"
   ]
  },
  {
   "cell_type": "code",
   "execution_count": 17,
   "id": "339afdce-b968-429c-9f9b-2a8ef9cd7bf7",
   "metadata": {},
   "outputs": [],
   "source": [
    "## is mtc regional feed...\n",
    "# tbls.mart_transit_database.dim_gtfs_datasets() >> filter(_.key == 'f5670225b34b10c22339915c7bce3707') >> head(3)"
   ]
  },
  {
   "cell_type": "code",
   "execution_count": 18,
   "id": "b4df259f-c595-4bfd-8829-599e7c507ac8",
   "metadata": {},
   "outputs": [],
   "source": [
    "one_org = provider >> filter(_.organization_itp_id == 4,\n",
    "                  _.vehicle_positions_gtfs_dataset_key,\n",
    "                  _.reports_site_assessed,\n",
    "                  _._valid_from < analysis_dt,\n",
    "                  _._valid_to >= analysis_dt)"
   ]
  },
  {
   "cell_type": "code",
   "execution_count": 19,
   "id": "e787b778-590a-4d1b-b791-a3ae91a015cc",
   "metadata": {},
   "outputs": [
    {
     "data": {
      "text/html": [
       "<div>\n",
       "<style scoped>\n",
       "    .dataframe tbody tr th:only-of-type {\n",
       "        vertical-align: middle;\n",
       "    }\n",
       "\n",
       "    .dataframe tbody tr th {\n",
       "        vertical-align: top;\n",
       "    }\n",
       "\n",
       "    .dataframe thead th {\n",
       "        text-align: right;\n",
       "    }\n",
       "</style>\n",
       "<table border=\"1\" class=\"dataframe\">\n",
       "  <thead>\n",
       "    <tr style=\"text-align: right;\">\n",
       "      <th></th>\n",
       "      <th>key</th>\n",
       "      <th>guidelines_assessed</th>\n",
       "      <th>reports_site_assessed</th>\n",
       "      <th>organization_key</th>\n",
       "      <th>organization_name</th>\n",
       "      <th>organization_itp_id</th>\n",
       "      <th>organization_hubspot_company_record_id</th>\n",
       "      <th>organization_ntd_id</th>\n",
       "      <th>organization_source_record_id</th>\n",
       "      <th>service_key</th>\n",
       "      <th>...</th>\n",
       "      <th>vehicle_positions_source_record_id</th>\n",
       "      <th>trip_updates_gtfs_dataset_name</th>\n",
       "      <th>trip_updates_source_record_id</th>\n",
       "      <th>schedule_gtfs_dataset_key</th>\n",
       "      <th>service_alerts_gtfs_dataset_key</th>\n",
       "      <th>vehicle_positions_gtfs_dataset_key</th>\n",
       "      <th>trip_updates_gtfs_dataset_key</th>\n",
       "      <th>_valid_from</th>\n",
       "      <th>_valid_to</th>\n",
       "      <th>_is_current</th>\n",
       "    </tr>\n",
       "  </thead>\n",
       "  <tbody>\n",
       "    <tr>\n",
       "      <th>11829</th>\n",
       "      <td>77955416b0ce88db34b68e56f44bc6dd</td>\n",
       "      <td>False</td>\n",
       "      <td>True</td>\n",
       "      <td>87a88b5598e8666c1298092f2cc5df8e</td>\n",
       "      <td>Alameda-Contra Costa Transit District</td>\n",
       "      <td>4.0</td>\n",
       "      <td>1880690867</td>\n",
       "      <td>90014</td>\n",
       "      <td>recOZgevYf7Jimm9L</td>\n",
       "      <td>d1444c8a6478da002d65324246682885</td>\n",
       "      <td>...</td>\n",
       "      <td>recIAk0ojKEvO8yl5</td>\n",
       "      <td>Bay Area 511 AC Transit Trip Updates</td>\n",
       "      <td>recFOyTNrrrVpozMy</td>\n",
       "      <td>444700afe086ed24e3cb888cecd3037c</td>\n",
       "      <td>None</td>\n",
       "      <td>4bb240cf480589e58c6e58d06d6fb72c</td>\n",
       "      <td>6aba5c314d297bcedd7ec86fcaf9361c</td>\n",
       "      <td>2023-02-07 00:00:00+00:00</td>\n",
       "      <td>2023-03-13 23:59:59.999999+00:00</td>\n",
       "      <td>False</td>\n",
       "    </tr>\n",
       "    <tr>\n",
       "      <th>11832</th>\n",
       "      <td>398354c595b11c671c7fb7913aa93950</td>\n",
       "      <td>False</td>\n",
       "      <td>True</td>\n",
       "      <td>87a88b5598e8666c1298092f2cc5df8e</td>\n",
       "      <td>Alameda-Contra Costa Transit District</td>\n",
       "      <td>4.0</td>\n",
       "      <td>1880690867</td>\n",
       "      <td>90014</td>\n",
       "      <td>recOZgevYf7Jimm9L</td>\n",
       "      <td>b0aad71e4c04e4c647b5d36b07e5cb63</td>\n",
       "      <td>...</td>\n",
       "      <td>recIAk0ojKEvO8yl5</td>\n",
       "      <td>Bay Area 511 AC Transit Trip Updates</td>\n",
       "      <td>recFOyTNrrrVpozMy</td>\n",
       "      <td>444700afe086ed24e3cb888cecd3037c</td>\n",
       "      <td>None</td>\n",
       "      <td>4bb240cf480589e58c6e58d06d6fb72c</td>\n",
       "      <td>6aba5c314d297bcedd7ec86fcaf9361c</td>\n",
       "      <td>2023-02-07 00:00:00+00:00</td>\n",
       "      <td>2023-03-13 23:59:59.999999+00:00</td>\n",
       "      <td>False</td>\n",
       "    </tr>\n",
       "    <tr>\n",
       "      <th>11838</th>\n",
       "      <td>4e486663e81b6dba84fdf0d9d6f67f64</td>\n",
       "      <td>False</td>\n",
       "      <td>True</td>\n",
       "      <td>87a88b5598e8666c1298092f2cc5df8e</td>\n",
       "      <td>Alameda-Contra Costa Transit District</td>\n",
       "      <td>4.0</td>\n",
       "      <td>1880690867</td>\n",
       "      <td>90014</td>\n",
       "      <td>recOZgevYf7Jimm9L</td>\n",
       "      <td>26963c5207c102bbdca4777e580765fd</td>\n",
       "      <td>...</td>\n",
       "      <td>recIAk0ojKEvO8yl5</td>\n",
       "      <td>Bay Area 511 AC Transit Trip Updates</td>\n",
       "      <td>recFOyTNrrrVpozMy</td>\n",
       "      <td>444700afe086ed24e3cb888cecd3037c</td>\n",
       "      <td>None</td>\n",
       "      <td>4bb240cf480589e58c6e58d06d6fb72c</td>\n",
       "      <td>6aba5c314d297bcedd7ec86fcaf9361c</td>\n",
       "      <td>2023-02-07 00:00:00+00:00</td>\n",
       "      <td>2023-03-13 23:59:59.999999+00:00</td>\n",
       "      <td>False</td>\n",
       "    </tr>\n",
       "    <tr>\n",
       "      <th>12383</th>\n",
       "      <td>860dc5fe4888c4a3f431dc4dd551159f</td>\n",
       "      <td>False</td>\n",
       "      <td>True</td>\n",
       "      <td>87a88b5598e8666c1298092f2cc5df8e</td>\n",
       "      <td>Alameda-Contra Costa Transit District</td>\n",
       "      <td>4.0</td>\n",
       "      <td>1880690867</td>\n",
       "      <td>90014</td>\n",
       "      <td>recOZgevYf7Jimm9L</td>\n",
       "      <td>4b74478a08534933b97246e56f065742</td>\n",
       "      <td>...</td>\n",
       "      <td>rec31PoLtsVT9kDeb</td>\n",
       "      <td>Bay Area 511 Dumbarton Express TripUpdates</td>\n",
       "      <td>recCsrEnH5Bjgmbfm</td>\n",
       "      <td>d7dcb48dbed269f345db12d1884a9e33</td>\n",
       "      <td>None</td>\n",
       "      <td>6d1991ecbdee1e06031cda8761757f03</td>\n",
       "      <td>5c3e65766dda65958cf4da845286c0d5</td>\n",
       "      <td>2023-02-07 00:00:00+00:00</td>\n",
       "      <td>2023-03-13 23:59:59.999999+00:00</td>\n",
       "      <td>False</td>\n",
       "    </tr>\n",
       "  </tbody>\n",
       "</table>\n",
       "<p>4 rows × 30 columns</p>\n",
       "</div>"
      ],
      "text/plain": [
       "                                    key  guidelines_assessed  \\\n",
       "11829  77955416b0ce88db34b68e56f44bc6dd                False   \n",
       "11832  398354c595b11c671c7fb7913aa93950                False   \n",
       "11838  4e486663e81b6dba84fdf0d9d6f67f64                False   \n",
       "12383  860dc5fe4888c4a3f431dc4dd551159f                False   \n",
       "\n",
       "       reports_site_assessed                  organization_key  \\\n",
       "11829                   True  87a88b5598e8666c1298092f2cc5df8e   \n",
       "11832                   True  87a88b5598e8666c1298092f2cc5df8e   \n",
       "11838                   True  87a88b5598e8666c1298092f2cc5df8e   \n",
       "12383                   True  87a88b5598e8666c1298092f2cc5df8e   \n",
       "\n",
       "                           organization_name  organization_itp_id  \\\n",
       "11829  Alameda-Contra Costa Transit District                  4.0   \n",
       "11832  Alameda-Contra Costa Transit District                  4.0   \n",
       "11838  Alameda-Contra Costa Transit District                  4.0   \n",
       "12383  Alameda-Contra Costa Transit District                  4.0   \n",
       "\n",
       "      organization_hubspot_company_record_id organization_ntd_id  \\\n",
       "11829                             1880690867               90014   \n",
       "11832                             1880690867               90014   \n",
       "11838                             1880690867               90014   \n",
       "12383                             1880690867               90014   \n",
       "\n",
       "      organization_source_record_id                       service_key  ...  \\\n",
       "11829             recOZgevYf7Jimm9L  d1444c8a6478da002d65324246682885  ...   \n",
       "11832             recOZgevYf7Jimm9L  b0aad71e4c04e4c647b5d36b07e5cb63  ...   \n",
       "11838             recOZgevYf7Jimm9L  26963c5207c102bbdca4777e580765fd  ...   \n",
       "12383             recOZgevYf7Jimm9L  4b74478a08534933b97246e56f065742  ...   \n",
       "\n",
       "      vehicle_positions_source_record_id  \\\n",
       "11829                  recIAk0ojKEvO8yl5   \n",
       "11832                  recIAk0ojKEvO8yl5   \n",
       "11838                  recIAk0ojKEvO8yl5   \n",
       "12383                  rec31PoLtsVT9kDeb   \n",
       "\n",
       "                   trip_updates_gtfs_dataset_name  \\\n",
       "11829        Bay Area 511 AC Transit Trip Updates   \n",
       "11832        Bay Area 511 AC Transit Trip Updates   \n",
       "11838        Bay Area 511 AC Transit Trip Updates   \n",
       "12383  Bay Area 511 Dumbarton Express TripUpdates   \n",
       "\n",
       "      trip_updates_source_record_id         schedule_gtfs_dataset_key  \\\n",
       "11829             recFOyTNrrrVpozMy  444700afe086ed24e3cb888cecd3037c   \n",
       "11832             recFOyTNrrrVpozMy  444700afe086ed24e3cb888cecd3037c   \n",
       "11838             recFOyTNrrrVpozMy  444700afe086ed24e3cb888cecd3037c   \n",
       "12383             recCsrEnH5Bjgmbfm  d7dcb48dbed269f345db12d1884a9e33   \n",
       "\n",
       "      service_alerts_gtfs_dataset_key vehicle_positions_gtfs_dataset_key  \\\n",
       "11829                            None   4bb240cf480589e58c6e58d06d6fb72c   \n",
       "11832                            None   4bb240cf480589e58c6e58d06d6fb72c   \n",
       "11838                            None   4bb240cf480589e58c6e58d06d6fb72c   \n",
       "12383                            None   6d1991ecbdee1e06031cda8761757f03   \n",
       "\n",
       "          trip_updates_gtfs_dataset_key               _valid_from  \\\n",
       "11829  6aba5c314d297bcedd7ec86fcaf9361c 2023-02-07 00:00:00+00:00   \n",
       "11832  6aba5c314d297bcedd7ec86fcaf9361c 2023-02-07 00:00:00+00:00   \n",
       "11838  6aba5c314d297bcedd7ec86fcaf9361c 2023-02-07 00:00:00+00:00   \n",
       "12383  5c3e65766dda65958cf4da845286c0d5 2023-02-07 00:00:00+00:00   \n",
       "\n",
       "                             _valid_to _is_current  \n",
       "11829 2023-03-13 23:59:59.999999+00:00       False  \n",
       "11832 2023-03-13 23:59:59.999999+00:00       False  \n",
       "11838 2023-03-13 23:59:59.999999+00:00       False  \n",
       "12383 2023-03-13 23:59:59.999999+00:00       False  \n",
       "\n",
       "[4 rows x 30 columns]"
      ]
     },
     "execution_count": 19,
     "metadata": {},
     "output_type": "execute_result"
    }
   ],
   "source": [
    "one_org"
   ]
  },
  {
   "cell_type": "code",
   "execution_count": 20,
   "id": "4413b6bf-a3c6-44de-8953-4b3efdf837da",
   "metadata": {},
   "outputs": [
    {
     "data": {
      "text/html": [
       "<div>\n",
       "<style scoped>\n",
       "    .dataframe tbody tr th:only-of-type {\n",
       "        vertical-align: middle;\n",
       "    }\n",
       "\n",
       "    .dataframe tbody tr th {\n",
       "        vertical-align: top;\n",
       "    }\n",
       "\n",
       "    .dataframe thead th {\n",
       "        text-align: right;\n",
       "    }\n",
       "</style>\n",
       "<table border=\"1\" class=\"dataframe\">\n",
       "  <thead>\n",
       "    <tr style=\"text-align: right;\">\n",
       "      <th></th>\n",
       "      <th>key</th>\n",
       "      <th>guidelines_assessed</th>\n",
       "      <th>reports_site_assessed</th>\n",
       "      <th>organization_key</th>\n",
       "      <th>organization_name</th>\n",
       "      <th>organization_itp_id</th>\n",
       "      <th>organization_hubspot_company_record_id</th>\n",
       "      <th>organization_ntd_id</th>\n",
       "      <th>organization_source_record_id</th>\n",
       "      <th>service_key</th>\n",
       "      <th>...</th>\n",
       "      <th>vehicle_positions_source_record_id</th>\n",
       "      <th>trip_updates_gtfs_dataset_name</th>\n",
       "      <th>trip_updates_source_record_id</th>\n",
       "      <th>schedule_gtfs_dataset_key</th>\n",
       "      <th>service_alerts_gtfs_dataset_key</th>\n",
       "      <th>vehicle_positions_gtfs_dataset_key</th>\n",
       "      <th>trip_updates_gtfs_dataset_key</th>\n",
       "      <th>_valid_from</th>\n",
       "      <th>_valid_to</th>\n",
       "      <th>_is_current</th>\n",
       "    </tr>\n",
       "  </thead>\n",
       "  <tbody>\n",
       "    <tr>\n",
       "      <th>0</th>\n",
       "      <td>77955416b0ce88db34b68e56f44bc6dd</td>\n",
       "      <td>False</td>\n",
       "      <td>True</td>\n",
       "      <td>87a88b5598e8666c1298092f2cc5df8e</td>\n",
       "      <td>Alameda-Contra Costa Transit District</td>\n",
       "      <td>4.0</td>\n",
       "      <td>1880690867</td>\n",
       "      <td>90014</td>\n",
       "      <td>recOZgevYf7Jimm9L</td>\n",
       "      <td>d1444c8a6478da002d65324246682885</td>\n",
       "      <td>...</td>\n",
       "      <td>recIAk0ojKEvO8yl5</td>\n",
       "      <td>Bay Area 511 AC Transit Trip Updates</td>\n",
       "      <td>recFOyTNrrrVpozMy</td>\n",
       "      <td>444700afe086ed24e3cb888cecd3037c</td>\n",
       "      <td>None</td>\n",
       "      <td>4bb240cf480589e58c6e58d06d6fb72c</td>\n",
       "      <td>6aba5c314d297bcedd7ec86fcaf9361c</td>\n",
       "      <td>2023-02-07 00:00:00+00:00</td>\n",
       "      <td>2023-03-13 23:59:59.999999+00:00</td>\n",
       "      <td>False</td>\n",
       "    </tr>\n",
       "    <tr>\n",
       "      <th>1</th>\n",
       "      <td>860dc5fe4888c4a3f431dc4dd551159f</td>\n",
       "      <td>False</td>\n",
       "      <td>True</td>\n",
       "      <td>87a88b5598e8666c1298092f2cc5df8e</td>\n",
       "      <td>Alameda-Contra Costa Transit District</td>\n",
       "      <td>4.0</td>\n",
       "      <td>1880690867</td>\n",
       "      <td>90014</td>\n",
       "      <td>recOZgevYf7Jimm9L</td>\n",
       "      <td>4b74478a08534933b97246e56f065742</td>\n",
       "      <td>...</td>\n",
       "      <td>rec31PoLtsVT9kDeb</td>\n",
       "      <td>Bay Area 511 Dumbarton Express TripUpdates</td>\n",
       "      <td>recCsrEnH5Bjgmbfm</td>\n",
       "      <td>d7dcb48dbed269f345db12d1884a9e33</td>\n",
       "      <td>None</td>\n",
       "      <td>6d1991ecbdee1e06031cda8761757f03</td>\n",
       "      <td>5c3e65766dda65958cf4da845286c0d5</td>\n",
       "      <td>2023-02-07 00:00:00+00:00</td>\n",
       "      <td>2023-03-13 23:59:59.999999+00:00</td>\n",
       "      <td>False</td>\n",
       "    </tr>\n",
       "  </tbody>\n",
       "</table>\n",
       "<p>2 rows × 30 columns</p>\n",
       "</div>"
      ],
      "text/plain": [
       "                                key  guidelines_assessed  \\\n",
       "0  77955416b0ce88db34b68e56f44bc6dd                False   \n",
       "1  860dc5fe4888c4a3f431dc4dd551159f                False   \n",
       "\n",
       "   reports_site_assessed                  organization_key  \\\n",
       "0                   True  87a88b5598e8666c1298092f2cc5df8e   \n",
       "1                   True  87a88b5598e8666c1298092f2cc5df8e   \n",
       "\n",
       "                       organization_name  organization_itp_id  \\\n",
       "0  Alameda-Contra Costa Transit District                  4.0   \n",
       "1  Alameda-Contra Costa Transit District                  4.0   \n",
       "\n",
       "  organization_hubspot_company_record_id organization_ntd_id  \\\n",
       "0                             1880690867               90014   \n",
       "1                             1880690867               90014   \n",
       "\n",
       "  organization_source_record_id                       service_key  ...  \\\n",
       "0             recOZgevYf7Jimm9L  d1444c8a6478da002d65324246682885  ...   \n",
       "1             recOZgevYf7Jimm9L  4b74478a08534933b97246e56f065742  ...   \n",
       "\n",
       "  vehicle_positions_source_record_id  \\\n",
       "0                  recIAk0ojKEvO8yl5   \n",
       "1                  rec31PoLtsVT9kDeb   \n",
       "\n",
       "               trip_updates_gtfs_dataset_name trip_updates_source_record_id  \\\n",
       "0        Bay Area 511 AC Transit Trip Updates             recFOyTNrrrVpozMy   \n",
       "1  Bay Area 511 Dumbarton Express TripUpdates             recCsrEnH5Bjgmbfm   \n",
       "\n",
       "          schedule_gtfs_dataset_key service_alerts_gtfs_dataset_key  \\\n",
       "0  444700afe086ed24e3cb888cecd3037c                            None   \n",
       "1  d7dcb48dbed269f345db12d1884a9e33                            None   \n",
       "\n",
       "  vehicle_positions_gtfs_dataset_key     trip_updates_gtfs_dataset_key  \\\n",
       "0   4bb240cf480589e58c6e58d06d6fb72c  6aba5c314d297bcedd7ec86fcaf9361c   \n",
       "1   6d1991ecbdee1e06031cda8761757f03  5c3e65766dda65958cf4da845286c0d5   \n",
       "\n",
       "                _valid_from                        _valid_to _is_current  \n",
       "0 2023-02-07 00:00:00+00:00 2023-03-13 23:59:59.999999+00:00       False  \n",
       "1 2023-02-07 00:00:00+00:00 2023-03-13 23:59:59.999999+00:00       False  \n",
       "\n",
       "[2 rows x 30 columns]"
      ]
     },
     "execution_count": 20,
     "metadata": {},
     "output_type": "execute_result"
    }
   ],
   "source": [
    "distinct_vp_feeds = one_org >> distinct(_.vehicle_positions_gtfs_dataset_key, _keep_all=True)\n",
    "distinct_vp_feeds"
   ]
  },
  {
   "cell_type": "code",
   "execution_count": 21,
   "id": "ddaecdc2-2b7f-461a-b285-7bd20169ff9d",
   "metadata": {},
   "outputs": [],
   "source": [
    "st_date = analysis_date\n",
    "end_date = analysis_date + dt.timedelta(days=1)"
   ]
  },
  {
   "cell_type": "code",
   "execution_count": 22,
   "id": "68812b8e-e3de-4184-8f50-c2da0d285d13",
   "metadata": {},
   "outputs": [
    {
     "data": {
      "text/plain": [
       "Index(['calitp_itp_id', 'calitp_url_number', 'vehicle_timestamp', 'entity_id',\n",
       "       'vehicle_id', 'trip_id', 'vehicle_longitude', 'vehicle_latitude'],\n",
       "      dtype='object')"
      ]
     },
     "execution_count": 22,
     "metadata": {},
     "output_type": "execute_result"
    }
   ],
   "source": [
    "ac_v1.columns"
   ]
  },
  {
   "cell_type": "code",
   "execution_count": 23,
   "id": "b6bfb0ee-3df8-417d-8820-73f68c8a4cdb",
   "metadata": {},
   "outputs": [
    {
     "name": "stderr",
     "output_type": "stream",
     "text": [
      "/opt/conda/lib/python3.9/site-packages/sqlalchemy_bigquery/_types.py:101: SAWarning: Did not recognize type 'GEOGRAPHY' of column 'location'\n"
     ]
    }
   ],
   "source": [
    "##TODO somehow support unscheduled trips?\n",
    "org_vl = (tbls.mart_gtfs.fct_vehicle_locations() >> filter((_.dt == st_date) | (_.dt == end_date))\n",
    "         >> filter(_.gtfs_dataset_key.isin(distinct_vp_feeds.vehicle_positions_gtfs_dataset_key))\n",
    "         >> select(_.gtfs_dataset_key, _.vehicle_timestamp, _.vehicle_id, _.trip_id,\n",
    "                  _.position_longitude, _.position_latitude)\n",
    "         >> collect()\n",
    "         )"
   ]
  },
  {
   "cell_type": "code",
   "execution_count": 24,
   "id": "40043fa9-3f2c-4bd1-94e0-90f25508d68e",
   "metadata": {},
   "outputs": [
    {
     "data": {
      "text/html": [
       "<div>\n",
       "<style scoped>\n",
       "    .dataframe tbody tr th:only-of-type {\n",
       "        vertical-align: middle;\n",
       "    }\n",
       "\n",
       "    .dataframe tbody tr th {\n",
       "        vertical-align: top;\n",
       "    }\n",
       "\n",
       "    .dataframe thead th {\n",
       "        text-align: right;\n",
       "    }\n",
       "</style>\n",
       "<table border=\"1\" class=\"dataframe\">\n",
       "  <thead>\n",
       "    <tr style=\"text-align: right;\">\n",
       "      <th></th>\n",
       "      <th>gtfs_dataset_key</th>\n",
       "      <th>vehicle_timestamp</th>\n",
       "      <th>vehicle_id</th>\n",
       "      <th>trip_id</th>\n",
       "      <th>position_longitude</th>\n",
       "      <th>position_latitude</th>\n",
       "    </tr>\n",
       "  </thead>\n",
       "  <tbody>\n",
       "    <tr>\n",
       "      <th>0</th>\n",
       "      <td>4bb240cf480589e58c6e58d06d6fb72c</td>\n",
       "      <td>2023-02-16 23:59:39+00:00</td>\n",
       "      <td>1217</td>\n",
       "      <td>12899020</td>\n",
       "      <td>-122.35482</td>\n",
       "      <td>37.963722</td>\n",
       "    </tr>\n",
       "    <tr>\n",
       "      <th>1</th>\n",
       "      <td>4bb240cf480589e58c6e58d06d6fb72c</td>\n",
       "      <td>2023-02-16 23:59:39+00:00</td>\n",
       "      <td>2211</td>\n",
       "      <td>6630020</td>\n",
       "      <td>-122.04145</td>\n",
       "      <td>37.532100</td>\n",
       "    </tr>\n",
       "    <tr>\n",
       "      <th>2</th>\n",
       "      <td>4bb240cf480589e58c6e58d06d6fb72c</td>\n",
       "      <td>2023-02-16 23:59:39+00:00</td>\n",
       "      <td>7032</td>\n",
       "      <td>948020</td>\n",
       "      <td>-122.26163</td>\n",
       "      <td>37.810800</td>\n",
       "    </tr>\n",
       "  </tbody>\n",
       "</table>\n",
       "</div>"
      ],
      "text/plain": [
       "                   gtfs_dataset_key         vehicle_timestamp vehicle_id  \\\n",
       "0  4bb240cf480589e58c6e58d06d6fb72c 2023-02-16 23:59:39+00:00       1217   \n",
       "1  4bb240cf480589e58c6e58d06d6fb72c 2023-02-16 23:59:39+00:00       2211   \n",
       "2  4bb240cf480589e58c6e58d06d6fb72c 2023-02-16 23:59:39+00:00       7032   \n",
       "\n",
       "    trip_id  position_longitude  position_latitude  \n",
       "0  12899020          -122.35482          37.963722  \n",
       "1   6630020          -122.04145          37.532100  \n",
       "2    948020          -122.26163          37.810800  "
      ]
     },
     "execution_count": 24,
     "metadata": {},
     "output_type": "execute_result"
    }
   ],
   "source": [
    "org_vl >> head(3)"
   ]
  },
  {
   "cell_type": "code",
   "execution_count": 25,
   "id": "4dd4a4d4-1b4f-4609-bcdd-9f9d3f0beadc",
   "metadata": {},
   "outputs": [
    {
     "data": {
      "text/plain": [
       "Index(['gtfs_dataset_key', 'vehicle_timestamp', 'vehicle_id', 'trip_id',\n",
       "       'position_longitude', 'position_latitude'],\n",
       "      dtype='object')"
      ]
     },
     "execution_count": 25,
     "metadata": {},
     "output_type": "execute_result"
    }
   ],
   "source": [
    "org_vl.columns"
   ]
  },
  {
   "cell_type": "code",
   "execution_count": 26,
   "id": "b7c646fc-17b1-4a48-a10c-a5ef87c882cd",
   "metadata": {},
   "outputs": [],
   "source": [
    "gdf = gpd.GeoDataFrame(org_vl, geometry=gpd.points_from_xy(org_vl.position_longitude, org_vl.position_latitude),\n",
    "                crs = shared_utils.geography_utils.WGS84)"
   ]
  },
  {
   "cell_type": "code",
   "execution_count": 27,
   "id": "273563c8-c6aa-41dd-918b-1d072c256420",
   "metadata": {},
   "outputs": [],
   "source": [
    "## (gdf >> select(_.geometry, _.trip_id) >> head(1000)).explore()"
   ]
  },
  {
   "cell_type": "code",
   "execution_count": 28,
   "id": "b2c03333-9dcd-4383-a8b0-bd617123754f",
   "metadata": {},
   "outputs": [],
   "source": [
    "import sys"
   ]
  },
  {
   "cell_type": "code",
   "execution_count": 29,
   "id": "8a92e8d5-1d0b-433c-b214-3828666297a6",
   "metadata": {},
   "outputs": [
    {
     "data": {
      "text/plain": [
       "380786665"
      ]
     },
     "execution_count": 29,
     "metadata": {},
     "output_type": "execute_result"
    }
   ],
   "source": [
    "new_size = sys.getsizeof(org_vl)\n",
    "new_size"
   ]
  },
  {
   "cell_type": "code",
   "execution_count": 30,
   "id": "9513d417-57b5-493d-9da9-298a7f6ea177",
   "metadata": {},
   "outputs": [
    {
     "data": {
      "text/plain": [
       "345707533"
      ]
     },
     "execution_count": 30,
     "metadata": {},
     "output_type": "execute_result"
    }
   ],
   "source": [
    "old_size = sys.getsizeof(ac_v1)\n",
    "old_size"
   ]
  },
  {
   "cell_type": "code",
   "execution_count": 31,
   "id": "81656eb6-86e8-46e6-b53e-07d8a7693fc3",
   "metadata": {},
   "outputs": [
    {
     "data": {
      "text/plain": [
       "1.1014705456244716"
      ]
     },
     "execution_count": 31,
     "metadata": {},
     "output_type": "execute_result"
    }
   ],
   "source": [
    "## OK after selecting similar subset of columns :) \n",
    "new_size / old_size"
   ]
  },
  {
   "cell_type": "markdown",
   "id": "f4c76247-358d-4f30-b4e1-13aa970c97b7",
   "metadata": {},
   "source": [
    "## New Trips Query"
   ]
  },
  {
   "cell_type": "code",
   "execution_count": 32,
   "id": "d01b87ee-4610-44e9-9001-a0226e58e97e",
   "metadata": {},
   "outputs": [
    {
     "name": "stdout",
     "output_type": "stream",
     "text": [
      "found parquet\n"
     ]
    }
   ],
   "source": [
    "old_trips = shared_utils.rt_utils.get_trips(4, dt.date(2022, 10, 17))"
   ]
  },
  {
   "cell_type": "code",
   "execution_count": 33,
   "id": "5b00241e-13ee-4e64-96e7-1db76f64cace",
   "metadata": {},
   "outputs": [
    {
     "data": {
      "text/html": [
       "<div>\n",
       "<style scoped>\n",
       "    .dataframe tbody tr th:only-of-type {\n",
       "        vertical-align: middle;\n",
       "    }\n",
       "\n",
       "    .dataframe tbody tr th {\n",
       "        vertical-align: top;\n",
       "    }\n",
       "\n",
       "    .dataframe thead th {\n",
       "        text-align: right;\n",
       "    }\n",
       "</style>\n",
       "<table border=\"1\" class=\"dataframe\">\n",
       "  <thead>\n",
       "    <tr style=\"text-align: right;\">\n",
       "      <th></th>\n",
       "      <th>calitp_itp_id</th>\n",
       "      <th>calitp_url_number</th>\n",
       "      <th>service_date</th>\n",
       "      <th>trip_key</th>\n",
       "      <th>trip_id</th>\n",
       "      <th>route_id</th>\n",
       "      <th>direction_id</th>\n",
       "      <th>shape_id</th>\n",
       "      <th>calitp_extracted_at</th>\n",
       "      <th>calitp_deleted_at</th>\n",
       "      <th>route_type</th>\n",
       "      <th>route_long_name</th>\n",
       "      <th>route_desc</th>\n",
       "      <th>route_short_name</th>\n",
       "    </tr>\n",
       "  </thead>\n",
       "  <tbody>\n",
       "    <tr>\n",
       "      <th>0</th>\n",
       "      <td>4</td>\n",
       "      <td>1</td>\n",
       "      <td>2022-10-17</td>\n",
       "      <td>-1409619756174269082</td>\n",
       "      <td>5909020</td>\n",
       "      <td>658</td>\n",
       "      <td>0</td>\n",
       "      <td>shp-658-56</td>\n",
       "      <td>2022-08-07</td>\n",
       "      <td>2022-12-04</td>\n",
       "      <td>3</td>\n",
       "      <td>Skyline - Bret Harte - MacArthur</td>\n",
       "      <td>None</td>\n",
       "      <td>658</td>\n",
       "    </tr>\n",
       "    <tr>\n",
       "      <th>1</th>\n",
       "      <td>4</td>\n",
       "      <td>1</td>\n",
       "      <td>2022-10-17</td>\n",
       "      <td>7637808243967000074</td>\n",
       "      <td>13231020</td>\n",
       "      <td>78</td>\n",
       "      <td>1</td>\n",
       "      <td>shp-78-03</td>\n",
       "      <td>2022-08-07</td>\n",
       "      <td>2022-12-04</td>\n",
       "      <td>3</td>\n",
       "      <td>Fruitvale Bart\\ Ferry Terminal</td>\n",
       "      <td>None</td>\n",
       "      <td>78</td>\n",
       "    </tr>\n",
       "    <tr>\n",
       "      <th>2</th>\n",
       "      <td>4</td>\n",
       "      <td>0</td>\n",
       "      <td>2022-10-17</td>\n",
       "      <td>4286204798464335370</td>\n",
       "      <td>10240020</td>\n",
       "      <td>623</td>\n",
       "      <td>0</td>\n",
       "      <td>shp-623-57</td>\n",
       "      <td>2022-08-07</td>\n",
       "      <td>2022-12-04</td>\n",
       "      <td>3</td>\n",
       "      <td>Irvington High - Horner Jr. High</td>\n",
       "      <td>None</td>\n",
       "      <td>623</td>\n",
       "    </tr>\n",
       "  </tbody>\n",
       "</table>\n",
       "</div>"
      ],
      "text/plain": [
       "   calitp_itp_id  calitp_url_number service_date             trip_key  \\\n",
       "0              4                  1   2022-10-17 -1409619756174269082   \n",
       "1              4                  1   2022-10-17  7637808243967000074   \n",
       "2              4                  0   2022-10-17  4286204798464335370   \n",
       "\n",
       "    trip_id route_id direction_id    shape_id calitp_extracted_at  \\\n",
       "0   5909020      658            0  shp-658-56          2022-08-07   \n",
       "1  13231020       78            1   shp-78-03          2022-08-07   \n",
       "2  10240020      623            0  shp-623-57          2022-08-07   \n",
       "\n",
       "  calitp_deleted_at route_type                   route_long_name route_desc  \\\n",
       "0        2022-12-04          3  Skyline - Bret Harte - MacArthur       None   \n",
       "1        2022-12-04          3    Fruitvale Bart\\ Ferry Terminal       None   \n",
       "2        2022-12-04          3  Irvington High - Horner Jr. High       None   \n",
       "\n",
       "  route_short_name  \n",
       "0              658  \n",
       "1               78  \n",
       "2              623  "
      ]
     },
     "execution_count": 33,
     "metadata": {},
     "output_type": "execute_result"
    }
   ],
   "source": [
    "old_trips >> head(3)"
   ]
  },
  {
   "cell_type": "code",
   "execution_count": 34,
   "id": "7b750f22-bd05-4e71-a206-c2903f465ca1",
   "metadata": {},
   "outputs": [],
   "source": [
    "org_trips = (tbls.mart_gtfs.fct_daily_scheduled_trips()\n",
    "             >> filter(_.activity_date == analysis_date)\n",
    "             >> filter(_.gtfs_dataset_key.isin(distinct_vp_feeds.schedule_gtfs_dataset_key))\n",
    "             >> select(_.trip_key, _.gtfs_dataset_key, _.activity_date,\n",
    "                       _.trip_id, _.route_id, _.route_short_name,\n",
    "                       _.shape_id, _.direction_id, _.route_type,\n",
    "                       _.route_long_name, _.route_desc\n",
    "                      )\n",
    "             # no longer need to join in routes, thanks v2 warehouse!\n",
    "             >> collect()\n",
    "            )"
   ]
  },
  {
   "cell_type": "code",
   "execution_count": 35,
   "id": "740e7bdb-9ea7-446e-8f70-44c24533e1c5",
   "metadata": {},
   "outputs": [
    {
     "data": {
      "text/html": [
       "<div>\n",
       "<style scoped>\n",
       "    .dataframe tbody tr th:only-of-type {\n",
       "        vertical-align: middle;\n",
       "    }\n",
       "\n",
       "    .dataframe tbody tr th {\n",
       "        vertical-align: top;\n",
       "    }\n",
       "\n",
       "    .dataframe thead th {\n",
       "        text-align: right;\n",
       "    }\n",
       "</style>\n",
       "<table border=\"1\" class=\"dataframe\">\n",
       "  <thead>\n",
       "    <tr style=\"text-align: right;\">\n",
       "      <th></th>\n",
       "      <th>trip_key</th>\n",
       "      <th>gtfs_dataset_key</th>\n",
       "      <th>activity_date</th>\n",
       "      <th>trip_id</th>\n",
       "      <th>route_id</th>\n",
       "      <th>route_short_name</th>\n",
       "      <th>shape_id</th>\n",
       "      <th>direction_id</th>\n",
       "      <th>route_type</th>\n",
       "      <th>route_long_name</th>\n",
       "      <th>route_desc</th>\n",
       "    </tr>\n",
       "  </thead>\n",
       "  <tbody>\n",
       "    <tr>\n",
       "      <th>0</th>\n",
       "      <td>75a9da76738e2839c3c4e80c70ffc51e</td>\n",
       "      <td>444700afe086ed24e3cb888cecd3037c</td>\n",
       "      <td>2023-02-17</td>\n",
       "      <td>9986020</td>\n",
       "      <td>34</td>\n",
       "      <td>34</td>\n",
       "      <td>shp-34-07</td>\n",
       "      <td>1</td>\n",
       "      <td>3</td>\n",
       "      <td>Estudillo - Davis - Meekland</td>\n",
       "      <td>None</td>\n",
       "    </tr>\n",
       "    <tr>\n",
       "      <th>1</th>\n",
       "      <td>f85e951538208c01928a984343fe05f5</td>\n",
       "      <td>444700afe086ed24e3cb888cecd3037c</td>\n",
       "      <td>2023-02-17</td>\n",
       "      <td>13260020</td>\n",
       "      <td>39</td>\n",
       "      <td>39</td>\n",
       "      <td>shp-39-05</td>\n",
       "      <td>1</td>\n",
       "      <td>3</td>\n",
       "      <td>Skyline - Dimond - Fruitvale</td>\n",
       "      <td>None</td>\n",
       "    </tr>\n",
       "    <tr>\n",
       "      <th>2</th>\n",
       "      <td>06efdd32d7cc558267a1c9ec5ad8c1d8</td>\n",
       "      <td>444700afe086ed24e3cb888cecd3037c</td>\n",
       "      <td>2023-02-17</td>\n",
       "      <td>6663020</td>\n",
       "      <td>41</td>\n",
       "      <td>41</td>\n",
       "      <td>shp-41-55</td>\n",
       "      <td>0</td>\n",
       "      <td>3</td>\n",
       "      <td>Whitman - Huntwood - Union Landg</td>\n",
       "      <td>None</td>\n",
       "    </tr>\n",
       "  </tbody>\n",
       "</table>\n",
       "</div>"
      ],
      "text/plain": [
       "                           trip_key                  gtfs_dataset_key  \\\n",
       "0  75a9da76738e2839c3c4e80c70ffc51e  444700afe086ed24e3cb888cecd3037c   \n",
       "1  f85e951538208c01928a984343fe05f5  444700afe086ed24e3cb888cecd3037c   \n",
       "2  06efdd32d7cc558267a1c9ec5ad8c1d8  444700afe086ed24e3cb888cecd3037c   \n",
       "\n",
       "  activity_date   trip_id route_id route_short_name   shape_id  direction_id  \\\n",
       "0    2023-02-17   9986020       34               34  shp-34-07             1   \n",
       "1    2023-02-17  13260020       39               39  shp-39-05             1   \n",
       "2    2023-02-17   6663020       41               41  shp-41-55             0   \n",
       "\n",
       "  route_type                   route_long_name route_desc  \n",
       "0          3      Estudillo - Davis - Meekland       None  \n",
       "1          3      Skyline - Dimond - Fruitvale       None  \n",
       "2          3  Whitman - Huntwood - Union Landg       None  "
      ]
     },
     "execution_count": 35,
     "metadata": {},
     "output_type": "execute_result"
    }
   ],
   "source": [
    "org_trips >> head(3)"
   ]
  },
  {
   "cell_type": "code",
   "execution_count": 36,
   "id": "6729626d-b199-4b1b-975a-ffed4310a0e0",
   "metadata": {},
   "outputs": [
    {
     "data": {
      "text/plain": [
       "3667653"
      ]
     },
     "execution_count": 36,
     "metadata": {},
     "output_type": "execute_result"
    }
   ],
   "source": [
    "new_size = sys.getsizeof(org_trips)\n",
    "new_size"
   ]
  },
  {
   "cell_type": "code",
   "execution_count": 37,
   "id": "684bd777-8394-4aab-beea-3c0239befa51",
   "metadata": {},
   "outputs": [
    {
     "data": {
      "text/plain": [
       "3452715"
      ]
     },
     "execution_count": 37,
     "metadata": {},
     "output_type": "execute_result"
    }
   ],
   "source": [
    "old_size = sys.getsizeof(old_trips)\n",
    "old_size"
   ]
  },
  {
   "cell_type": "code",
   "execution_count": 38,
   "id": "4973ed35-100a-4223-82c6-5f0d906b01e0",
   "metadata": {},
   "outputs": [
    {
     "data": {
      "text/plain": [
       "1.0622518800422276"
      ]
     },
     "execution_count": 38,
     "metadata": {},
     "output_type": "execute_result"
    }
   ],
   "source": [
    "## OK after selecting similar subset of columns :) \n",
    "new_size / old_size"
   ]
  },
  {
   "cell_type": "markdown",
   "id": "cf898b32-9579-46de-bc00-e355ed44a0c5",
   "metadata": {},
   "source": [
    "## New ST Query"
   ]
  },
  {
   "cell_type": "code",
   "execution_count": 22,
   "id": "daab90a1-cdee-4393-97ec-4897bb1e2340",
   "metadata": {},
   "outputs": [
    {
     "name": "stdout",
     "output_type": "stream",
     "text": [
      "found parquet\n"
     ]
    }
   ],
   "source": [
    "old_st = shared_utils.rt_utils.get_stop_times(4, dt.date(2022, 10, 17))"
   ]
  },
  {
   "cell_type": "code",
   "execution_count": 23,
   "id": "80213ffa-7ae5-4d6a-87a5-03afaf2176a9",
   "metadata": {},
   "outputs": [
    {
     "data": {
      "text/html": [
       "<div>\n",
       "<style scoped>\n",
       "    .dataframe tbody tr th:only-of-type {\n",
       "        vertical-align: middle;\n",
       "    }\n",
       "\n",
       "    .dataframe tbody tr th {\n",
       "        vertical-align: top;\n",
       "    }\n",
       "\n",
       "    .dataframe thead th {\n",
       "        text-align: right;\n",
       "    }\n",
       "</style>\n",
       "<table border=\"1\" class=\"dataframe\">\n",
       "  <thead>\n",
       "    <tr style=\"text-align: right;\">\n",
       "      <th></th>\n",
       "      <th>calitp_itp_id</th>\n",
       "      <th>trip_id</th>\n",
       "      <th>stop_id</th>\n",
       "      <th>arrival_time</th>\n",
       "      <th>departure_time</th>\n",
       "      <th>stop_headsign</th>\n",
       "      <th>pickup_type</th>\n",
       "      <th>drop_off_type</th>\n",
       "      <th>shape_dist_traveled</th>\n",
       "      <th>timepoint</th>\n",
       "      <th>...</th>\n",
       "      <th>stop_time_key</th>\n",
       "      <th>calitp_deleted_at</th>\n",
       "      <th>stop_sequence</th>\n",
       "      <th>stop_time_continuous_pickup</th>\n",
       "      <th>stop_time_continuous_drop_off</th>\n",
       "      <th>stop_sequence_rank</th>\n",
       "      <th>arrival_ts</th>\n",
       "      <th>departure_ts</th>\n",
       "      <th>trip_key</th>\n",
       "      <th>departure_hour</th>\n",
       "    </tr>\n",
       "  </thead>\n",
       "  <tbody>\n",
       "    <tr>\n",
       "      <th>0</th>\n",
       "      <td>4</td>\n",
       "      <td>12731020</td>\n",
       "      <td>53832</td>\n",
       "      <td>7:51:34</td>\n",
       "      <td>7:51:34</td>\n",
       "      <td>33 PIEDMONT TO HIGHLAND WAY VIA OAKLAND AVE</td>\n",
       "      <td>0</td>\n",
       "      <td>0</td>\n",
       "      <td>15292.32000000</td>\n",
       "      <td>0</td>\n",
       "      <td>...</td>\n",
       "      <td>6674480576887928016</td>\n",
       "      <td>2022-12-04</td>\n",
       "      <td>57</td>\n",
       "      <td>None</td>\n",
       "      <td>None</td>\n",
       "      <td>57</td>\n",
       "      <td>28294</td>\n",
       "      <td>28294</td>\n",
       "      <td>4622753192079563450</td>\n",
       "      <td>7</td>\n",
       "    </tr>\n",
       "    <tr>\n",
       "      <th>1</th>\n",
       "      <td>4</td>\n",
       "      <td>2699020</td>\n",
       "      <td>51832</td>\n",
       "      <td>12:17:36</td>\n",
       "      <td>12:17:36</td>\n",
       "      <td>72M JACK LONDON SQ VIA SAN PABLO AVE DOWNTOWN ...</td>\n",
       "      <td>0</td>\n",
       "      <td>0</td>\n",
       "      <td>18080.36000000</td>\n",
       "      <td>0</td>\n",
       "      <td>...</td>\n",
       "      <td>7067786241977062485</td>\n",
       "      <td>2022-12-04</td>\n",
       "      <td>60</td>\n",
       "      <td>None</td>\n",
       "      <td>None</td>\n",
       "      <td>60</td>\n",
       "      <td>44256</td>\n",
       "      <td>44256</td>\n",
       "      <td>491570519637676407</td>\n",
       "      <td>12</td>\n",
       "    </tr>\n",
       "    <tr>\n",
       "      <th>2</th>\n",
       "      <td>4</td>\n",
       "      <td>3198020</td>\n",
       "      <td>3099</td>\n",
       "      <td>18:21:08</td>\n",
       "      <td>18:21:08</td>\n",
       "      <td>57 FOOTHILL SQUARE VIA MACARTHUR BLVD</td>\n",
       "      <td>0</td>\n",
       "      <td>0</td>\n",
       "      <td>18275.13</td>\n",
       "      <td>0</td>\n",
       "      <td>...</td>\n",
       "      <td>4813443666059748000</td>\n",
       "      <td>2022-12-04</td>\n",
       "      <td>57</td>\n",
       "      <td>None</td>\n",
       "      <td>None</td>\n",
       "      <td>57</td>\n",
       "      <td>66068</td>\n",
       "      <td>66068</td>\n",
       "      <td>-6354043175372643119</td>\n",
       "      <td>18</td>\n",
       "    </tr>\n",
       "  </tbody>\n",
       "</table>\n",
       "<p>3 rows × 22 columns</p>\n",
       "</div>"
      ],
      "text/plain": [
       "   calitp_itp_id   trip_id stop_id arrival_time departure_time  \\\n",
       "0              4  12731020   53832      7:51:34        7:51:34   \n",
       "1              4   2699020   51832     12:17:36       12:17:36   \n",
       "2              4   3198020    3099     18:21:08       18:21:08   \n",
       "\n",
       "                                       stop_headsign pickup_type  \\\n",
       "0        33 PIEDMONT TO HIGHLAND WAY VIA OAKLAND AVE           0   \n",
       "1  72M JACK LONDON SQ VIA SAN PABLO AVE DOWNTOWN ...           0   \n",
       "2              57 FOOTHILL SQUARE VIA MACARTHUR BLVD           0   \n",
       "\n",
       "  drop_off_type shape_dist_traveled timepoint  ...        stop_time_key  \\\n",
       "0             0      15292.32000000         0  ...  6674480576887928016   \n",
       "1             0      18080.36000000         0  ...  7067786241977062485   \n",
       "2             0            18275.13         0  ...  4813443666059748000   \n",
       "\n",
       "  calitp_deleted_at  stop_sequence stop_time_continuous_pickup  \\\n",
       "0        2022-12-04             57                        None   \n",
       "1        2022-12-04             60                        None   \n",
       "2        2022-12-04             57                        None   \n",
       "\n",
       "   stop_time_continuous_drop_off stop_sequence_rank arrival_ts  departure_ts  \\\n",
       "0                           None                 57      28294         28294   \n",
       "1                           None                 60      44256         44256   \n",
       "2                           None                 57      66068         66068   \n",
       "\n",
       "              trip_key  departure_hour  \n",
       "0  4622753192079563450               7  \n",
       "1   491570519637676407              12  \n",
       "2 -6354043175372643119              18  \n",
       "\n",
       "[3 rows x 22 columns]"
      ]
     },
     "execution_count": 23,
     "metadata": {},
     "output_type": "execute_result"
    }
   ],
   "source": [
    "old_st >> head(3)"
   ]
  },
  {
   "cell_type": "code",
   "execution_count": 9,
   "id": "4067215c-51d5-4c23-95df-a8a34ed9ad86",
   "metadata": {},
   "outputs": [
    {
     "data": {
      "text/plain": [
       "datetime.date(2023, 2, 17)"
      ]
     },
     "execution_count": 9,
     "metadata": {},
     "output_type": "execute_result"
    }
   ],
   "source": [
    "analysis_date"
   ]
  },
  {
   "cell_type": "code",
   "execution_count": null,
   "id": "c0b2984a-8c71-48c9-8590-f59df74305a1",
   "metadata": {},
   "outputs": [],
   "source": [
    "## TODO worked for LADOT but runs out of memory here??"
   ]
  },
  {
   "cell_type": "code",
   "execution_count": 48,
   "id": "a913d2ba-30d5-469b-9a05-0a8954aa36f1",
   "metadata": {},
   "outputs": [],
   "source": [
    "org_feed_keys = (tbls.mart_transit_database.dim_provider_gtfs_data()\n",
    "    >> filter(_._is_current, _.reports_site_assessed,\n",
    "            _.organization_name == 'Alameda-Contra Costa Transit District')\n",
    "            ## think more about how to start/persist org level identifiers...\n",
    "            ## could be an attribute, or in any case leave first index table as sql...\n",
    "    >> select(_.gtfs_dataset_key == _.schedule_gtfs_dataset_key)\n",
    "    >> inner_join(_, tbls.mart_gtfs.fct_daily_feed_scheduled_service_summary(), by = 'gtfs_dataset_key')\n",
    "    >> filter(_.activity_date == analysis_date)\n",
    "    >> distinct(_.feed_key)\n",
    "    ## only one in this c`ase\n",
    "    )\n",
    "\n",
    "## still required to filter to trips running on date...\n",
    "trips_day_filtered = (tbls.mart_gtfs.fct_daily_scheduled_trips()\n",
    "                      >> filter(_.activity_date == analysis_date)\n",
    "                     )\n",
    "org_st = (\n",
    "    org_feed_keys\n",
    "    >> inner_join(_, tbls.mart_gtfs.dim_stop_times(), on = 'feed_key')\n",
    "    >> inner_join(_, trips_day_filtered, on = ['feed_key', 'trip_id'])\n",
    "    >> inner_join(_, (tbls.mart_gtfs.dim_stops() >> select(_.feed_key,\n",
    "                        _.stop_id, _.stop_name))\n",
    "                  , on = ['feed_key', 'stop_id'])\n",
    "    >> select(_.feed_key, _.gtfs_dataset_key, _.trip_id,\n",
    "             _.stop_id, _.arrival_time, _.departure_time,\n",
    "             _.timepoint, _.stop_sequence, _.continuous_drop_off,\n",
    "             _.continuous_pickup)\n",
    "    )"
   ]
  },
  {
   "cell_type": "code",
   "execution_count": 49,
   "id": "c59fb96d-73b6-46c9-81fc-2352f05f70e9",
   "metadata": {},
   "outputs": [
    {
     "data": {
      "text/html": [
       "<div><pre># Source: lazy query\n",
       "# DB Conn: Engine(bigquery://cal-itp-data-infra/?maximum_bytes_billed=1000000000000)\n",
       "# Preview:\n",
       "</pre><div>\n",
       "<style scoped>\n",
       "    .dataframe tbody tr th:only-of-type {\n",
       "        vertical-align: middle;\n",
       "    }\n",
       "\n",
       "    .dataframe tbody tr th {\n",
       "        vertical-align: top;\n",
       "    }\n",
       "\n",
       "    .dataframe thead th {\n",
       "        text-align: right;\n",
       "    }\n",
       "</style>\n",
       "<table border=\"1\" class=\"dataframe\">\n",
       "  <thead>\n",
       "    <tr style=\"text-align: right;\">\n",
       "      <th></th>\n",
       "      <th>feed_key</th>\n",
       "    </tr>\n",
       "  </thead>\n",
       "  <tbody>\n",
       "    <tr>\n",
       "      <th>0</th>\n",
       "      <td>2e0478675d2b2bcd6c93da9354d92755</td>\n",
       "    </tr>\n",
       "    <tr>\n",
       "      <th>1</th>\n",
       "      <td>aa047b2e150d2833f6713867b2c4ae71</td>\n",
       "    </tr>\n",
       "  </tbody>\n",
       "</table>\n",
       "</div><p># .. may have more rows</p></div>"
      ],
      "text/plain": [
       "# Source: lazy query\n",
       "# DB Conn: Engine(bigquery://cal-itp-data-infra/?maximum_bytes_billed=1000000000000)\n",
       "# Preview:\n",
       "                           feed_key\n",
       "0  2e0478675d2b2bcd6c93da9354d92755\n",
       "1  aa047b2e150d2833f6713867b2c4ae71\n",
       "# .. may have more rows"
      ]
     },
     "execution_count": 49,
     "metadata": {},
     "output_type": "execute_result"
    }
   ],
   "source": [
    "org_feed_keys ## probably catching regional feed!"
   ]
  },
  {
   "cell_type": "markdown",
   "id": "4413cd61-2ba5-43f5-a0df-dfd2dadb1d0b",
   "metadata": {},
   "source": [
    "#### TODO ask in data OH if there's a good way to get from dataset key to feed key...\n",
    "https://dbt-docs.calitp.org/#!/model/model.calitp_warehouse.fct_daily_scheduled_trips#code"
   ]
  },
  {
   "cell_type": "code",
   "execution_count": 50,
   "id": "1ff44e5d-49e6-4a87-b747-ecb1a80dd9c8",
   "metadata": {},
   "outputs": [],
   "source": [
    "org_st = org_st >> collect()"
   ]
  },
  {
   "cell_type": "code",
   "execution_count": 51,
   "id": "f5a493bd-2a88-434a-a699-8acd699f7c98",
   "metadata": {},
   "outputs": [
    {
     "data": {
      "text/plain": [
       "Index(['calitp_itp_id', 'trip_id', 'stop_id', 'arrival_time', 'departure_time',\n",
       "       'stop_headsign', 'pickup_type', 'drop_off_type', 'shape_dist_traveled',\n",
       "       'timepoint', 'calitp_extracted_at', 'calitp_hash', 'stop_time_key',\n",
       "       'calitp_deleted_at', 'stop_sequence', 'stop_time_continuous_pickup',\n",
       "       'stop_time_continuous_drop_off', 'stop_sequence_rank', 'arrival_ts',\n",
       "       'departure_ts', 'trip_key', 'departure_hour'],\n",
       "      dtype='object')"
      ]
     },
     "execution_count": 51,
     "metadata": {},
     "output_type": "execute_result"
    }
   ],
   "source": [
    "old_st.columns"
   ]
  },
  {
   "cell_type": "code",
   "execution_count": 52,
   "id": "651cf134-1f2e-448d-91b9-4f5e3182a5cd",
   "metadata": {},
   "outputs": [
    {
     "data": {
      "text/plain": [
       "Index(['feed_key', 'gtfs_dataset_key', 'trip_id', 'stop_id', 'arrival_time',\n",
       "       'departure_time', 'timepoint', 'stop_sequence', 'continuous_drop_off',\n",
       "       'continuous_pickup'],\n",
       "      dtype='object')"
      ]
     },
     "execution_count": 52,
     "metadata": {},
     "output_type": "execute_result"
    }
   ],
   "source": [
    "org_st.columns"
   ]
  },
  {
   "cell_type": "code",
   "execution_count": 53,
   "id": "0bf8c887-7c97-4bbd-bf4f-4d67996f1bce",
   "metadata": {},
   "outputs": [
    {
     "data": {
      "text/plain": [
       "120812527"
      ]
     },
     "execution_count": 53,
     "metadata": {},
     "output_type": "execute_result"
    }
   ],
   "source": [
    "new_size = sys.getsizeof(org_st)\n",
    "new_size"
   ]
  },
  {
   "cell_type": "code",
   "execution_count": 54,
   "id": "e8819960-762f-443a-8150-ee3798dc100e",
   "metadata": {},
   "outputs": [
    {
     "data": {
      "text/plain": [
       "206354241"
      ]
     },
     "execution_count": 54,
     "metadata": {},
     "output_type": "execute_result"
    }
   ],
   "source": [
    "old_size = sys.getsizeof(old_st)\n",
    "old_size"
   ]
  },
  {
   "cell_type": "code",
   "execution_count": 55,
   "id": "b8dc535a-65ec-4edd-8b6d-5e68e73061af",
   "metadata": {},
   "outputs": [
    {
     "data": {
      "text/plain": [
       "0.585461807882107"
      ]
     },
     "execution_count": 55,
     "metadata": {},
     "output_type": "execute_result"
    }
   ],
   "source": [
    "## hey look this one's smaller :) \n",
    "new_size / old_size"
   ]
  },
  {
   "cell_type": "markdown",
   "id": "b1afbcb3-082f-413e-8892-51ee3523db2f",
   "metadata": {},
   "source": [
    "## New Shapes Query"
   ]
  },
  {
   "cell_type": "code",
   "execution_count": 56,
   "id": "e723ae15-e255-405e-8dd6-903e0992e6d1",
   "metadata": {},
   "outputs": [],
   "source": [
    "old_shp = shared_utils.rt_utils.get_routelines(4, dt.date(2022, 10, 17))"
   ]
  },
  {
   "cell_type": "code",
   "execution_count": 57,
   "id": "93bd5b3d-1063-43b9-b4c0-a51af1b9790a",
   "metadata": {},
   "outputs": [
    {
     "data": {
      "text/html": [
       "<div>\n",
       "<style scoped>\n",
       "    .dataframe tbody tr th:only-of-type {\n",
       "        vertical-align: middle;\n",
       "    }\n",
       "\n",
       "    .dataframe tbody tr th {\n",
       "        vertical-align: top;\n",
       "    }\n",
       "\n",
       "    .dataframe thead th {\n",
       "        text-align: right;\n",
       "    }\n",
       "</style>\n",
       "<table border=\"1\" class=\"dataframe\">\n",
       "  <thead>\n",
       "    <tr style=\"text-align: right;\">\n",
       "      <th></th>\n",
       "      <th>calitp_itp_id</th>\n",
       "      <th>calitp_url_number</th>\n",
       "      <th>shape_id</th>\n",
       "      <th>geometry</th>\n",
       "    </tr>\n",
       "  </thead>\n",
       "  <tbody>\n",
       "    <tr>\n",
       "      <th>0</th>\n",
       "      <td>4</td>\n",
       "      <td>0</td>\n",
       "      <td>shp-95-53</td>\n",
       "      <td>LINESTRING (-180326.410 -34738.218, -180345.10...</td>\n",
       "    </tr>\n",
       "    <tr>\n",
       "      <th>1</th>\n",
       "      <td>4</td>\n",
       "      <td>0</td>\n",
       "      <td>shp-65-12</td>\n",
       "      <td>LINESTRING (-199094.894 -13747.291, -199076.60...</td>\n",
       "    </tr>\n",
       "    <tr>\n",
       "      <th>2</th>\n",
       "      <td>4</td>\n",
       "      <td>0</td>\n",
       "      <td>shp-86-52</td>\n",
       "      <td>LINESTRING (-183767.650 -36536.552, -183750.70...</td>\n",
       "    </tr>\n",
       "  </tbody>\n",
       "</table>\n",
       "</div>"
      ],
      "text/plain": [
       "   calitp_itp_id  calitp_url_number   shape_id  \\\n",
       "0              4                  0  shp-95-53   \n",
       "1              4                  0  shp-65-12   \n",
       "2              4                  0  shp-86-52   \n",
       "\n",
       "                                            geometry  \n",
       "0  LINESTRING (-180326.410 -34738.218, -180345.10...  \n",
       "1  LINESTRING (-199094.894 -13747.291, -199076.60...  \n",
       "2  LINESTRING (-183767.650 -36536.552, -183750.70...  "
      ]
     },
     "execution_count": 57,
     "metadata": {},
     "output_type": "execute_result"
    }
   ],
   "source": [
    "old_shp >> head(3)"
   ]
  },
  {
   "cell_type": "code",
   "execution_count": 80,
   "id": "153a11f6-dc2b-4cfe-893e-ad94bcf1d311",
   "metadata": {},
   "outputs": [
    {
     "name": "stderr",
     "output_type": "stream",
     "text": [
      "/opt/conda/lib/python3.9/site-packages/sqlalchemy_bigquery/_types.py:101: SAWarning: Did not recognize type 'GEOGRAPHY' of column 'pt_array'\n"
     ]
    }
   ],
   "source": [
    "org_shp = (\n",
    "    org_feed_keys\n",
    "    >> inner_join(_, tbls.mart_gtfs.dim_shapes_arrays(), on = 'feed_key')\n",
    "    >> inner_join(_, (trips_day_filtered >> distinct(\n",
    "                        _.feed_key, _.shape_id)),\n",
    "                  on = ['feed_key', 'shape_id'])\n",
    "    >> select(_.feed_key, _.shape_id, _.pt_array)\n",
    "    )"
   ]
  },
  {
   "cell_type": "code",
   "execution_count": 81,
   "id": "8ad5f70b-b5c4-4637-a486-159776b9ab10",
   "metadata": {},
   "outputs": [],
   "source": [
    "org_shp = org_shp >> collect()"
   ]
  },
  {
   "cell_type": "code",
   "execution_count": 82,
   "id": "87f4b0eb-e616-417b-898a-5af9d50fd74f",
   "metadata": {},
   "outputs": [],
   "source": [
    "def linestring_from_wkt(wkt_list):\n",
    "    '''\n",
    "    Use shapely to create linestring geometries from wkt points arrays\n",
    "    in tables such as dim_shapes_arrays\n",
    "    \n",
    "    wkt_list: list of points in wkt format\n",
    "    '''\n",
    "    ## shapely 1.85; 2.0 has new top-level from_wkt...\n",
    "    pt_list = [shapely.wkt.loads(pt) for pt in wkt_list]\n",
    "    linestring = shapely.geometry.LineString(pt_list)\n",
    "    return linestring"
   ]
  },
  {
   "cell_type": "code",
   "execution_count": 83,
   "id": "19645bc9-05de-45a9-a384-ae2954d16fa4",
   "metadata": {},
   "outputs": [],
   "source": [
    "org_shp['geometry'] = org_shp.pt_array.apply(linestring_from_wkt)"
   ]
  },
  {
   "cell_type": "code",
   "execution_count": 84,
   "id": "8337f5b2-1c0f-4bd9-8562-027b48841ce9",
   "metadata": {},
   "outputs": [],
   "source": [
    "org_shp = org_shp >> select(-_.pt_array)"
   ]
  },
  {
   "cell_type": "code",
   "execution_count": 85,
   "id": "2bcca727-b30a-4f0c-86b1-41bd2043afdf",
   "metadata": {},
   "outputs": [
    {
     "data": {
      "text/html": [
       "<div>\n",
       "<style scoped>\n",
       "    .dataframe tbody tr th:only-of-type {\n",
       "        vertical-align: middle;\n",
       "    }\n",
       "\n",
       "    .dataframe tbody tr th {\n",
       "        vertical-align: top;\n",
       "    }\n",
       "\n",
       "    .dataframe thead th {\n",
       "        text-align: right;\n",
       "    }\n",
       "</style>\n",
       "<table border=\"1\" class=\"dataframe\">\n",
       "  <thead>\n",
       "    <tr style=\"text-align: right;\">\n",
       "      <th></th>\n",
       "      <th>feed_key</th>\n",
       "      <th>shape_id</th>\n",
       "      <th>geometry</th>\n",
       "    </tr>\n",
       "  </thead>\n",
       "  <tbody>\n",
       "    <tr>\n",
       "      <th>0</th>\n",
       "      <td>2e0478675d2b2bcd6c93da9354d92755</td>\n",
       "      <td>shp-239-59</td>\n",
       "      <td>LINESTRING (-121.97549 37.556958, -121.9753 37...</td>\n",
       "    </tr>\n",
       "    <tr>\n",
       "      <th>1</th>\n",
       "      <td>2e0478675d2b2bcd6c93da9354d92755</td>\n",
       "      <td>shp-65-14</td>\n",
       "      <td>LINESTRING (-122.246738 37.880352, -122.246696...</td>\n",
       "    </tr>\n",
       "    <tr>\n",
       "      <th>2</th>\n",
       "      <td>2e0478675d2b2bcd6c93da9354d92755</td>\n",
       "      <td>shp-200-16</td>\n",
       "      <td>LINESTRING (-121.976025 37.557496, -121.975895...</td>\n",
       "    </tr>\n",
       "    <tr>\n",
       "      <th>3</th>\n",
       "      <td>2e0478675d2b2bcd6c93da9354d92755</td>\n",
       "      <td>shp-33-17</td>\n",
       "      <td>LINESTRING (-122.209505 37.825505, -122.209488...</td>\n",
       "    </tr>\n",
       "    <tr>\n",
       "      <th>4</th>\n",
       "      <td>2e0478675d2b2bcd6c93da9354d92755</td>\n",
       "      <td>shp-72-33</td>\n",
       "      <td>LINESTRING (-122.27785 37.796567, -122.277628 ...</td>\n",
       "    </tr>\n",
       "    <tr>\n",
       "      <th>...</th>\n",
       "      <td>...</td>\n",
       "      <td>...</td>\n",
       "      <td>...</td>\n",
       "    </tr>\n",
       "    <tr>\n",
       "      <th>323</th>\n",
       "      <td>aa047b2e150d2833f6713867b2c4ae71</td>\n",
       "      <td>DB10036</td>\n",
       "      <td>LINESTRING (-122.1502733 37.395688, -122.15039...</td>\n",
       "    </tr>\n",
       "    <tr>\n",
       "      <th>324</th>\n",
       "      <td>aa047b2e150d2833f6713867b2c4ae71</td>\n",
       "      <td>DB10039</td>\n",
       "      <td>LINESTRING (-122.0172182 37.5902461, -122.0170...</td>\n",
       "    </tr>\n",
       "    <tr>\n",
       "      <th>325</th>\n",
       "      <td>aa047b2e150d2833f6713867b2c4ae71</td>\n",
       "      <td>DB10045</td>\n",
       "      <td>LINESTRING (-122.1499304 37.3954966, -122.1496...</td>\n",
       "    </tr>\n",
       "    <tr>\n",
       "      <th>326</th>\n",
       "      <td>aa047b2e150d2833f6713867b2c4ae71</td>\n",
       "      <td>DB0084</td>\n",
       "      <td>LINESTRING (-122.017422 37.5903968, -122.01741...</td>\n",
       "    </tr>\n",
       "    <tr>\n",
       "      <th>327</th>\n",
       "      <td>aa047b2e150d2833f6713867b2c4ae71</td>\n",
       "      <td>DB10038</td>\n",
       "      <td>LINESTRING (-122.0172182 37.5902461, -122.0170...</td>\n",
       "    </tr>\n",
       "  </tbody>\n",
       "</table>\n",
       "<p>328 rows × 3 columns</p>\n",
       "</div>"
      ],
      "text/plain": [
       "                             feed_key    shape_id  \\\n",
       "0    2e0478675d2b2bcd6c93da9354d92755  shp-239-59   \n",
       "1    2e0478675d2b2bcd6c93da9354d92755   shp-65-14   \n",
       "2    2e0478675d2b2bcd6c93da9354d92755  shp-200-16   \n",
       "3    2e0478675d2b2bcd6c93da9354d92755   shp-33-17   \n",
       "4    2e0478675d2b2bcd6c93da9354d92755   shp-72-33   \n",
       "..                                ...         ...   \n",
       "323  aa047b2e150d2833f6713867b2c4ae71     DB10036   \n",
       "324  aa047b2e150d2833f6713867b2c4ae71     DB10039   \n",
       "325  aa047b2e150d2833f6713867b2c4ae71     DB10045   \n",
       "326  aa047b2e150d2833f6713867b2c4ae71      DB0084   \n",
       "327  aa047b2e150d2833f6713867b2c4ae71     DB10038   \n",
       "\n",
       "                                              geometry  \n",
       "0    LINESTRING (-121.97549 37.556958, -121.9753 37...  \n",
       "1    LINESTRING (-122.246738 37.880352, -122.246696...  \n",
       "2    LINESTRING (-121.976025 37.557496, -121.975895...  \n",
       "3    LINESTRING (-122.209505 37.825505, -122.209488...  \n",
       "4    LINESTRING (-122.27785 37.796567, -122.277628 ...  \n",
       "..                                                 ...  \n",
       "323  LINESTRING (-122.1502733 37.395688, -122.15039...  \n",
       "324  LINESTRING (-122.0172182 37.5902461, -122.0170...  \n",
       "325  LINESTRING (-122.1499304 37.3954966, -122.1496...  \n",
       "326  LINESTRING (-122.017422 37.5903968, -122.01741...  \n",
       "327  LINESTRING (-122.0172182 37.5902461, -122.0170...  \n",
       "\n",
       "[328 rows x 3 columns]"
      ]
     },
     "execution_count": 85,
     "metadata": {},
     "output_type": "execute_result"
    }
   ],
   "source": [
    "org_shp"
   ]
  }
 ],
 "metadata": {
  "kernelspec": {
   "display_name": "Python 3 (ipykernel)",
   "language": "python",
   "name": "python3"
  },
  "language_info": {
   "codemirror_mode": {
    "name": "ipython",
    "version": 3
   },
   "file_extension": ".py",
   "mimetype": "text/x-python",
   "name": "python",
   "nbconvert_exporter": "python",
   "pygments_lexer": "ipython3",
   "version": "3.9.13"
  },
  "widgets": {
   "application/vnd.jupyter.widget-state+json": {
    "state": {},
    "version_major": 2,
    "version_minor": 0
   }
  }
 },
 "nbformat": 4,
 "nbformat_minor": 5
}
