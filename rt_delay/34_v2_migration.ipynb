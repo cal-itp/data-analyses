{
 "cells": [
  {
   "cell_type": "code",
   "execution_count": null,
   "id": "ec317966-d8ef-474a-a0e4-bc2cbefebb12",
   "metadata": {},
   "outputs": [],
   "source": [
    "import os\n",
    "os.environ[\"CALITP_BQ_MAX_BYTES\"] = str(1_000_000_000_000) ## 1TB?\n",
    "import sys\n",
    "\n",
    "from siuba import *\n",
    "import pandas as pd\n",
    "import geopandas as gpd\n",
    "import gcsfs\n",
    "import datetime as dt\n",
    "import time\n",
    "import shapely\n",
    "\n",
    "from rt_analysis import rt_parser\n",
    "from rt_analysis import rt_filter_map_plot\n",
    "\n",
    "import shared_utils\n",
    "from calitp_data_analysis.tables import tbls\n",
    "from tqdm.notebook import tqdm"
   ]
  },
  {
   "cell_type": "markdown",
   "id": "683469b6-b7b3-4242-b4bb-1bfd152aca02",
   "metadata": {},
   "source": [
    "# Migrate existing rt_analysis to use the v2 warehouse \n",
    "\n",
    "* mostly just changing queries around"
   ]
  },
  {
   "cell_type": "code",
   "execution_count": null,
   "id": "864d21a7-d4b8-452d-abf8-8e479a4b23ca",
   "metadata": {
    "tags": []
   },
   "outputs": [],
   "source": [
    "# date for v2 testing\n",
    "analysis_date = dt.date(2023, 3, 15)"
   ]
  },
  {
   "cell_type": "markdown",
   "id": "2ee5e846-12d1-4661-848f-196aff1df70f",
   "metadata": {},
   "source": [
    "## Does it work?"
   ]
  },
  {
   "cell_type": "code",
   "execution_count": null,
   "id": "e41161f6-6cfc-41ff-8033-eaa78a4e7c06",
   "metadata": {},
   "outputs": [],
   "source": [
    "rt_parser.OperatorDayAnalysis?"
   ]
  },
  {
   "cell_type": "code",
   "execution_count": null,
   "id": "0a0fe53c-67a0-4aa3-a9fe-bada0d4ff82b",
   "metadata": {},
   "outputs": [],
   "source": [
    "analysis_date"
   ]
  },
  {
   "cell_type": "code",
   "execution_count": null,
   "id": "17213181-f5ba-46db-a3b9-7ad8f2ed6900",
   "metadata": {
    "tags": []
   },
   "outputs": [],
   "source": [
    "pbar = tqdm()"
   ]
  },
  {
   "cell_type": "code",
   "execution_count": null,
   "id": "bd31f7a4-ec30-45e0-903a-49a5fd9ee0e6",
   "metadata": {
    "tags": []
   },
   "outputs": [],
   "source": [
    "%%capture --no-stdout\n",
    "rt_day = rt_parser.OperatorDayAnalysis(183, analysis_date, pbar)"
   ]
  },
  {
   "cell_type": "code",
   "execution_count": null,
   "id": "4ad613c5-ee16-43e5-babb-fcd3c6a87106",
   "metadata": {},
   "outputs": [],
   "source": [
    "rt_day.export_views_gcs()"
   ]
  },
  {
   "cell_type": "code",
   "execution_count": null,
   "id": "0e3ba32c-0b04-434b-afa8-02f181a5846e",
   "metadata": {},
   "outputs": [],
   "source": [
    "rt_day = rt_filter_map_plot.RtFilterMapper(rt_day.rt_trips, rt_day.stop_delay_view, rt_day.shapes, pbar)"
   ]
  },
  {
   "cell_type": "code",
   "execution_count": null,
   "id": "1f7c9c6d-ccca-407b-9842-75a08a26a470",
   "metadata": {},
   "outputs": [],
   "source": [
    "rt_day.set_filter(start_time = '06:00', end_time = '09:00')"
   ]
  },
  {
   "cell_type": "code",
   "execution_count": null,
   "id": "3ce3d650-24b4-4060-9bb5-5a4e19ed2391",
   "metadata": {
    "tags": []
   },
   "outputs": [],
   "source": [
    "m = rt_day.segment_speed_map()"
   ]
  },
  {
   "cell_type": "code",
   "execution_count": null,
   "id": "df3768ae-990c-4b16-a41d-0480d81254ab",
   "metadata": {
    "tags": []
   },
   "outputs": [],
   "source": [
    "m"
   ]
  },
  {
   "cell_type": "markdown",
   "id": "e2a7e03c-840c-48e8-a99d-def9d1c4b3f4",
   "metadata": {},
   "source": [
    "## Before Merging\n",
    "\n",
    "* use new folder, restore caching, move to rt_utils\n",
    "    * testing caching; move pending\n",
    "* backwards compatibility -- RtFilterMapper shall accept and use v1 for pre-2023 dates (done)\n",
    "* message change with Chaithra, pre-stage 2 weeks for SFMTA, AC Transit, SDMTS using v1 around Oct date's she's already using\n",
    "    * example notebook (or just point to relevant tutorial)\n",
    "    * staged Oct 9 thru 15\n",
    "    * note that she's welcome to rerun recent dates with v2\n",
    "* _some time later_\n",
    "    * advocate to delete v1 tables\n",
    "    * remove v1 cached data"
   ]
  },
  {
   "cell_type": "code",
   "execution_count": null,
   "id": "9d6be594-938f-4005-b9dd-b8bb9271d62d",
   "metadata": {},
   "outputs": [],
   "source": [
    "# rt_day.export_views_gcs()"
   ]
  },
  {
   "cell_type": "markdown",
   "id": "2ed02a71-35a3-4148-9e60-e04ba67e2f8f",
   "metadata": {},
   "source": [
    "## Backwards compatibility"
   ]
  },
  {
   "cell_type": "code",
   "execution_count": null,
   "id": "974c1944-a761-4e71-885a-653de14783d6",
   "metadata": {},
   "outputs": [],
   "source": [
    "v1_date = dt.date(2022, 10, 9)"
   ]
  },
  {
   "cell_type": "code",
   "execution_count": null,
   "id": "fb62787d-ced1-4739-930f-857882eb15ca",
   "metadata": {},
   "outputs": [],
   "source": [
    "rt_day = rt_filter_map_plot.from_gcs(4, v1_date, pbar)"
   ]
  },
  {
   "cell_type": "code",
   "execution_count": null,
   "id": "0967e99d-2b2d-4d71-b17c-7cf8eb53e65f",
   "metadata": {},
   "outputs": [],
   "source": [
    "rt_day.set_filter(start_time = '06:00', end_time = '09:00')"
   ]
  },
  {
   "cell_type": "code",
   "execution_count": null,
   "id": "bfdf7159-6847-428b-8a58-60f9e56a6756",
   "metadata": {
    "tags": []
   },
   "outputs": [],
   "source": [
    "rt_day.segment_speed_map()"
   ]
  },
  {
   "cell_type": "code",
   "execution_count": null,
   "id": "6b8c96dd-9c66-4b8f-948e-805fd9f51fcc",
   "metadata": {
    "tags": []
   },
   "outputs": [],
   "source": [
    "rt_day = rt_filter_map_plot.from_gcs(300, analysis_date, pbar)"
   ]
  },
  {
   "cell_type": "code",
   "execution_count": null,
   "id": "cee41238-cac8-4591-b153-a0783d965719",
   "metadata": {},
   "outputs": [],
   "source": [
    "rt_day.rt_trips"
   ]
  },
  {
   "cell_type": "code",
   "execution_count": null,
   "id": "5f7b11c4-2f34-403d-a9ae-930d44da7843",
   "metadata": {},
   "outputs": [],
   "source": [
    "rt_day.stop_delay_view"
   ]
  },
  {
   "cell_type": "code",
   "execution_count": null,
   "id": "60a0a279-2e93-4ec9-bb19-48bd2d749777",
   "metadata": {},
   "outputs": [],
   "source": [
    "rt_day.stop_delay_viewt_filter(start_time = '06:00', end_time = '09:00')"
   ]
  },
  {
   "cell_type": "code",
   "execution_count": null,
   "id": "c3bcc798-f0d7-4bb2-b00f-a12285a573ac",
   "metadata": {},
   "outputs": [],
   "source": [
    "rt_day.segment_speed_map()"
   ]
  },
  {
   "cell_type": "code",
   "execution_count": null,
   "id": "41dc9809-421e-4c2f-a3f6-5fcffffd86d3",
   "metadata": {},
   "outputs": [],
   "source": [
    "## TODO print warning"
   ]
  },
  {
   "cell_type": "markdown",
   "id": "d6dd896d-0dae-4382-bef2-ab33a4c2addf",
   "metadata": {},
   "source": [
    "## debug queries"
   ]
  },
  {
   "cell_type": "markdown",
   "id": "a44cc729-aa2b-4390-8b10-92c510541491",
   "metadata": {},
   "source": [
    "## What's up with SacRT??"
   ]
  },
  {
   "cell_type": "code",
   "execution_count": null,
   "id": "1cd832d1-ed27-4c9d-a476-612b4dd21213",
   "metadata": {},
   "outputs": [],
   "source": [
    "## classic SacRT -- uploaded a new feed but no service 'til April 2..."
   ]
  },
  {
   "cell_type": "markdown",
   "id": "87bac8a6-ddb3-43be-9840-4faaceb1d896",
   "metadata": {},
   "source": [
    "## What's up with Sonoma??"
   ]
  },
  {
   "cell_type": "code",
   "execution_count": null,
   "id": "3a79fbbd-5fb2-4f49-a4f1-1c06e096a93d",
   "metadata": {},
   "outputs": [],
   "source": [
    "pbar = tqdm()"
   ]
  },
  {
   "cell_type": "code",
   "execution_count": null,
   "id": "ae9eaa82-1959-4744-801a-62cc7ea44983",
   "metadata": {
    "tags": []
   },
   "outputs": [],
   "source": [
    "rt_day = rt_filter_map_plot.from_gcs(314, analysis_date, pbar)"
   ]
  },
  {
   "cell_type": "code",
   "execution_count": null,
   "id": "79d7e63d-26fa-4041-a3cc-71f2ecc1aba9",
   "metadata": {},
   "outputs": [],
   "source": [
    "# rt_day.set_filter(start_time = '06:00', end_time = '09:00')"
   ]
  },
  {
   "cell_type": "code",
   "execution_count": null,
   "id": "3b396fcd-9055-43e4-9e4d-99681c26c56f",
   "metadata": {},
   "outputs": [],
   "source": [
    "rt_day.segment_speed_map()"
   ]
  },
  {
   "cell_type": "code",
   "execution_count": null,
   "id": "e476971c-43dd-464e-85cb-560907add153",
   "metadata": {},
   "outputs": [],
   "source": []
  }
 ],
 "metadata": {
  "kernelspec": {
   "display_name": "Python 3 (ipykernel)",
   "language": "python",
   "name": "python3"
  },
  "language_info": {
   "codemirror_mode": {
    "name": "ipython",
    "version": 3
   },
   "file_extension": ".py",
   "mimetype": "text/x-python",
   "name": "python",
   "nbconvert_exporter": "python",
   "pygments_lexer": "ipython3",
   "version": "3.9.13"
  },
  "widgets": {
   "application/vnd.jupyter.widget-state+json": {
    "state": {},
    "version_major": 2,
    "version_minor": 0
   }
  }
 },
 "nbformat": 4,
 "nbformat_minor": 5
}
