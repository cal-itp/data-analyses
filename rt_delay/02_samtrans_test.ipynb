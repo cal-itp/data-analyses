{
 "cells": [
  {
   "cell_type": "code",
   "execution_count": 151,
   "id": "ab6b505a-68af-490c-88ea-af5f01ddf765",
   "metadata": {},
   "outputs": [],
   "source": [
    "import os\n",
    "os.environ[\"CALITP_BQ_MAX_BYTES\"] = str(100_000_000_000)\n",
    "\n",
    "from calitp.tables import tbl\n",
    "from calitp import query_sql\n",
    "import calitp.magics\n",
    "\n",
    "import shared_utils\n",
    "import branca\n",
    "from utils import *\n",
    "\n",
    "from siuba import *\n",
    "import pandas as pd\n",
    "import geopandas as gpd\n",
    "import shapely\n",
    "\n",
    "import datetime as dt\n",
    "import time\n",
    "from zoneinfo import ZoneInfo\n",
    "\n",
    "import rt_analysis2 as rt\n",
    "import importlib"
   ]
  },
  {
   "cell_type": "code",
   "execution_count": 11,
   "id": "733a5c0b-18b1-43b4-872c-d54dfe1f3be4",
   "metadata": {},
   "outputs": [],
   "source": [
    "analysis_date = dt.date(2021, 11, 30)"
   ]
  },
  {
   "cell_type": "code",
   "execution_count": 10,
   "id": "11058848-8372-4cd9-895c-4ac3d290666f",
   "metadata": {},
   "outputs": [
    {
     "data": {
      "text/plain": [
       "datetime.date(2021, 11, 30)"
      ]
     },
     "execution_count": 10,
     "metadata": {},
     "output_type": "execute_result"
    }
   ],
   "source": [
    "dt.datetime.strptime('11-30-2021', '%m-%d-%Y').date()"
   ]
  },
  {
   "cell_type": "code",
   "execution_count": null,
   "id": "834b1b9c-180b-4721-bbd7-31abc794f25a",
   "metadata": {},
   "outputs": [],
   "source": [
    "## "
   ]
  },
  {
   "cell_type": "code",
   "execution_count": 13,
   "id": "d23df179-aa9c-448b-884e-c87ba0ead4a2",
   "metadata": {},
   "outputs": [
    {
     "data": {
      "text/plain": [
       "'2021-11-30'"
      ]
     },
     "execution_count": 13,
     "metadata": {},
     "output_type": "execute_result"
    }
   ],
   "source": [
    "analysis_date.strftime('%Y-%m-%d')"
   ]
  },
  {
   "cell_type": "code",
   "execution_count": 16,
   "id": "e4124aac-bad6-406d-b3d9-20ccc8d32ae3",
   "metadata": {},
   "outputs": [],
   "source": [
    "date_str = analysis_date.strftime('%Y-%m-%d')"
   ]
  },
  {
   "cell_type": "code",
   "execution_count": 18,
   "id": "4ade5077-7296-472c-902d-4aede1f8a268",
   "metadata": {},
   "outputs": [],
   "source": [
    "next_str = (analysis_date + dt.timedelta(days = 1)).strftime('%Y-%m-%d')"
   ]
  },
  {
   "cell_type": "code",
   "execution_count": 17,
   "id": "eb406d37-ef09-431c-81a7-74478eb1389c",
   "metadata": {},
   "outputs": [],
   "source": [
    "samtrans_itp_id = 290"
   ]
  },
  {
   "cell_type": "code",
   "execution_count": null,
   "id": "1e24acdb-5748-48a9-9660-71b24750523f",
   "metadata": {},
   "outputs": [],
   "source": [
    "## todo check for multiple url numbers..."
   ]
  },
  {
   "cell_type": "code",
   "execution_count": 20,
   "id": "2b414051-0f21-427b-a6db-477c07499c4d",
   "metadata": {},
   "outputs": [
    {
     "data": {
      "text/plain": [
       "'gs://gtfs-data/rt-processed/vehicle_positions/vp_2021-11-30_290_0.parquet'"
      ]
     },
     "execution_count": 20,
     "metadata": {},
     "output_type": "execute_result"
    }
   ],
   "source": [
    "f\"gs://gtfs-data/rt-processed/vehicle_positions/vp_{date_str}_{samtrans_itp_id}_0.parquet\""
   ]
  },
  {
   "cell_type": "code",
   "execution_count": 21,
   "id": "fe752375-94d7-4051-9fd7-1ccd6970f86f",
   "metadata": {},
   "outputs": [
    {
     "data": {
      "text/plain": [
       "'gs://gtfs-data/rt-processed/vehicle_positions/vp_2021-12-01_290_0.parquet'"
      ]
     },
     "execution_count": 21,
     "metadata": {},
     "output_type": "execute_result"
    }
   ],
   "source": [
    "f\"gs://gtfs-data/rt-processed/vehicle_positions/vp_{next_str}_{samtrans_itp_id}_0.parquet\""
   ]
  },
  {
   "cell_type": "code",
   "execution_count": 40,
   "id": "5857d21b-211a-414f-bbc6-92d3d0fef7ff",
   "metadata": {
    "collapsed": true,
    "jupyter": {
     "outputs_hidden": true
    },
    "tags": []
   },
   "outputs": [
    {
     "data": {
      "text/html": [
       "<div>\n",
       "<style scoped>\n",
       "    .dataframe tbody tr th:only-of-type {\n",
       "        vertical-align: middle;\n",
       "    }\n",
       "\n",
       "    .dataframe tbody tr th {\n",
       "        vertical-align: top;\n",
       "    }\n",
       "\n",
       "    .dataframe thead th {\n",
       "        text-align: right;\n",
       "    }\n",
       "</style>\n",
       "<table border=\"1\" class=\"dataframe\">\n",
       "  <thead>\n",
       "    <tr style=\"text-align: right;\">\n",
       "      <th></th>\n",
       "      <th>calitp_itp_id</th>\n",
       "      <th>calitp_url_number</th>\n",
       "      <th>entity_id</th>\n",
       "      <th>vehicle_id</th>\n",
       "      <th>vehicle_trip_id</th>\n",
       "      <th>vehicle_timestamp</th>\n",
       "      <th>vehicle_position_latitude</th>\n",
       "      <th>vehicle_position_longitude</th>\n",
       "      <th>header_timestamp</th>\n",
       "    </tr>\n",
       "  </thead>\n",
       "  <tbody>\n",
       "    <tr>\n",
       "      <th>0</th>\n",
       "      <td>290</td>\n",
       "      <td>0</td>\n",
       "      <td>1</td>\n",
       "      <td>2912</td>\n",
       "      <td>11344573-136-Blocks-Weekday-54-SDon-1111000</td>\n",
       "      <td>1638230373</td>\n",
       "      <td>37.470440</td>\n",
       "      <td>-122.433710</td>\n",
       "      <td>1638230410</td>\n",
       "    </tr>\n",
       "    <tr>\n",
       "      <th>1</th>\n",
       "      <td>290</td>\n",
       "      <td>0</td>\n",
       "      <td>10</td>\n",
       "      <td>630</td>\n",
       "      <td>11344643-136-Blocks-Weekday-54-SDon-1100100</td>\n",
       "      <td>1638230373</td>\n",
       "      <td>37.461860</td>\n",
       "      <td>-122.199295</td>\n",
       "      <td>1638230410</td>\n",
       "    </tr>\n",
       "    <tr>\n",
       "      <th>2</th>\n",
       "      <td>290</td>\n",
       "      <td>0</td>\n",
       "      <td>100</td>\n",
       "      <td>818</td>\n",
       "      <td>11031714-136-Blocks-Weekday-54</td>\n",
       "      <td>1638230373</td>\n",
       "      <td>37.617565</td>\n",
       "      <td>-122.408356</td>\n",
       "      <td>1638230410</td>\n",
       "    </tr>\n",
       "    <tr>\n",
       "      <th>3</th>\n",
       "      <td>290</td>\n",
       "      <td>0</td>\n",
       "      <td>101</td>\n",
       "      <td>609</td>\n",
       "      <td>11037713-136-Blocks-Weekday-54</td>\n",
       "      <td>1638230373</td>\n",
       "      <td>37.669320</td>\n",
       "      <td>-122.471020</td>\n",
       "      <td>1638230410</td>\n",
       "    </tr>\n",
       "    <tr>\n",
       "      <th>4</th>\n",
       "      <td>290</td>\n",
       "      <td>0</td>\n",
       "      <td>102</td>\n",
       "      <td>409</td>\n",
       "      <td>11031571-136-Blocks-Weekday-54</td>\n",
       "      <td>1638230373</td>\n",
       "      <td>37.707930</td>\n",
       "      <td>-122.454830</td>\n",
       "      <td>1638230410</td>\n",
       "    </tr>\n",
       "    <tr>\n",
       "      <th>...</th>\n",
       "      <td>...</td>\n",
       "      <td>...</td>\n",
       "      <td>...</td>\n",
       "      <td>...</td>\n",
       "      <td>...</td>\n",
       "      <td>...</td>\n",
       "      <td>...</td>\n",
       "      <td>...</td>\n",
       "      <td>...</td>\n",
       "    </tr>\n",
       "    <tr>\n",
       "      <th>474976</th>\n",
       "      <td>290</td>\n",
       "      <td>0</td>\n",
       "      <td>83</td>\n",
       "      <td>819</td>\n",
       "      <td>11031584-136-Blocks-Weekday-54</td>\n",
       "      <td>1638386133</td>\n",
       "      <td>37.664288</td>\n",
       "      <td>-122.448570</td>\n",
       "      <td>1638386151</td>\n",
       "    </tr>\n",
       "    <tr>\n",
       "      <th>474977</th>\n",
       "      <td>290</td>\n",
       "      <td>0</td>\n",
       "      <td>84</td>\n",
       "      <td>901</td>\n",
       "      <td>11031483-136-Blocks-Weekday-54</td>\n",
       "      <td>1638386133</td>\n",
       "      <td>37.685078</td>\n",
       "      <td>-122.466340</td>\n",
       "      <td>1638386151</td>\n",
       "    </tr>\n",
       "    <tr>\n",
       "      <th>474978</th>\n",
       "      <td>290</td>\n",
       "      <td>0</td>\n",
       "      <td>85</td>\n",
       "      <td>813</td>\n",
       "      <td>11031588-136-Blocks-Weekday-54</td>\n",
       "      <td>1638386133</td>\n",
       "      <td>37.654964</td>\n",
       "      <td>-122.433815</td>\n",
       "      <td>1638386151</td>\n",
       "    </tr>\n",
       "    <tr>\n",
       "      <th>474979</th>\n",
       "      <td>290</td>\n",
       "      <td>0</td>\n",
       "      <td>86</td>\n",
       "      <td>617</td>\n",
       "      <td>11037708-136-Blocks-Weekday-54</td>\n",
       "      <td>1638386133</td>\n",
       "      <td>37.666320</td>\n",
       "      <td>-122.451645</td>\n",
       "      <td>1638386151</td>\n",
       "    </tr>\n",
       "    <tr>\n",
       "      <th>474980</th>\n",
       "      <td>290</td>\n",
       "      <td>0</td>\n",
       "      <td>9</td>\n",
       "      <td>610</td>\n",
       "      <td>11037687-136-Blocks-Weekday-54</td>\n",
       "      <td>1638386133</td>\n",
       "      <td>37.702457</td>\n",
       "      <td>-122.462240</td>\n",
       "      <td>1638386151</td>\n",
       "    </tr>\n",
       "  </tbody>\n",
       "</table>\n",
       "<p>474981 rows × 9 columns</p>\n",
       "</div>"
      ],
      "text/plain": [
       "        calitp_itp_id  calitp_url_number entity_id vehicle_id  \\\n",
       "0                 290                  0         1       2912   \n",
       "1                 290                  0        10        630   \n",
       "2                 290                  0       100        818   \n",
       "3                 290                  0       101        609   \n",
       "4                 290                  0       102        409   \n",
       "...               ...                ...       ...        ...   \n",
       "474976            290                  0        83        819   \n",
       "474977            290                  0        84        901   \n",
       "474978            290                  0        85        813   \n",
       "474979            290                  0        86        617   \n",
       "474980            290                  0         9        610   \n",
       "\n",
       "                                    vehicle_trip_id  vehicle_timestamp  \\\n",
       "0       11344573-136-Blocks-Weekday-54-SDon-1111000         1638230373   \n",
       "1       11344643-136-Blocks-Weekday-54-SDon-1100100         1638230373   \n",
       "2                    11031714-136-Blocks-Weekday-54         1638230373   \n",
       "3                    11037713-136-Blocks-Weekday-54         1638230373   \n",
       "4                    11031571-136-Blocks-Weekday-54         1638230373   \n",
       "...                                             ...                ...   \n",
       "474976               11031584-136-Blocks-Weekday-54         1638386133   \n",
       "474977               11031483-136-Blocks-Weekday-54         1638386133   \n",
       "474978               11031588-136-Blocks-Weekday-54         1638386133   \n",
       "474979               11037708-136-Blocks-Weekday-54         1638386133   \n",
       "474980               11037687-136-Blocks-Weekday-54         1638386133   \n",
       "\n",
       "        vehicle_position_latitude  vehicle_position_longitude  \\\n",
       "0                       37.470440                 -122.433710   \n",
       "1                       37.461860                 -122.199295   \n",
       "2                       37.617565                 -122.408356   \n",
       "3                       37.669320                 -122.471020   \n",
       "4                       37.707930                 -122.454830   \n",
       "...                           ...                         ...   \n",
       "474976                  37.664288                 -122.448570   \n",
       "474977                  37.685078                 -122.466340   \n",
       "474978                  37.654964                 -122.433815   \n",
       "474979                  37.666320                 -122.451645   \n",
       "474980                  37.702457                 -122.462240   \n",
       "\n",
       "        header_timestamp  \n",
       "0             1638230410  \n",
       "1             1638230410  \n",
       "2             1638230410  \n",
       "3             1638230410  \n",
       "4             1638230410  \n",
       "...                  ...  \n",
       "474976        1638386151  \n",
       "474977        1638386151  \n",
       "474978        1638386151  \n",
       "474979        1638386151  \n",
       "474980        1638386151  \n",
       "\n",
       "[474981 rows x 9 columns]"
      ]
     },
     "execution_count": 40,
     "metadata": {},
     "output_type": "execute_result"
    }
   ],
   "source": [
    "%%sql -o samtrans_positions\n",
    "\n",
    "# get all vehicle positions on selected dates, for the feed with itp id 170, and url number 0\n",
    "SELECT *\n",
    "FROM `cal-itp-data-infra.gtfs_rt.vehicle_positions`\n",
    "WHERE _FILE_NAME='gs://gtfs-data/rt-processed/vehicle_positions/vp_2021-11-30_290_0.parquet' ##utc, must bracket 2 days for 1 day pacific\n",
    "    OR _FILE_NAME='gs://gtfs-data/rt-processed/vehicle_positions/vp_2021-12-01_290_0.parquet'\n",
    "ORDER BY header_timestamp"
   ]
  },
  {
   "cell_type": "code",
   "execution_count": 41,
   "id": "3d27c1fd-093d-4f5b-a97e-4e2db1dfbc9f",
   "metadata": {},
   "outputs": [
    {
     "data": {
      "text/plain": [
       "('PST', 'PDT')"
      ]
     },
     "execution_count": 41,
     "metadata": {},
     "output_type": "execute_result"
    }
   ],
   "source": [
    "## set system time\n",
    "os.environ['TZ'] = 'America/Los_Angeles'\n",
    "time.tzset()\n",
    "time.tzname"
   ]
  },
  {
   "cell_type": "code",
   "execution_count": 42,
   "id": "6e313ccf-d6a6-422f-8d18-e4ddd19f2703",
   "metadata": {},
   "outputs": [],
   "source": [
    "samtrans_positions.vehicle_timestamp = samtrans_positions.vehicle_timestamp.apply(convert_ts)\n",
    "samtrans_positions.header_timestamp = samtrans_positions.header_timestamp.apply(convert_ts)"
   ]
  },
  {
   "cell_type": "code",
   "execution_count": 43,
   "id": "d4995964-d3ae-498d-be14-5280115bb46b",
   "metadata": {},
   "outputs": [
    {
     "data": {
      "text/plain": [
       "Timestamp('2021-12-01 11:15:33')"
      ]
     },
     "execution_count": 43,
     "metadata": {},
     "output_type": "execute_result"
    }
   ],
   "source": [
    "samtrans_positions.vehicle_timestamp.max() ## TODO assert covers desired day"
   ]
  },
  {
   "cell_type": "code",
   "execution_count": 44,
   "id": "dd3443ce-8585-4e30-bb21-d5a743ac6133",
   "metadata": {},
   "outputs": [
    {
     "data": {
      "text/plain": [
       "Timestamp('2021-11-29 15:59:33')"
      ]
     },
     "execution_count": 44,
     "metadata": {},
     "output_type": "execute_result"
    }
   ],
   "source": [
    "samtrans_positions.vehicle_timestamp.min()"
   ]
  },
  {
   "cell_type": "code",
   "execution_count": 45,
   "id": "08ba12bc-555d-44b1-ab69-1fbee76624ec",
   "metadata": {},
   "outputs": [
    {
     "data": {
      "text/plain": [
       "'2021-11-30'"
      ]
     },
     "execution_count": 45,
     "metadata": {},
     "output_type": "execute_result"
    }
   ],
   "source": [
    "date_str"
   ]
  },
  {
   "cell_type": "code",
   "execution_count": 46,
   "id": "9371fbac-f906-48ee-91ad-8b86300f9f3f",
   "metadata": {},
   "outputs": [
    {
     "data": {
      "text/plain": [
       "'2021-12-01'"
      ]
     },
     "execution_count": 46,
     "metadata": {},
     "output_type": "execute_result"
    }
   ],
   "source": [
    "next_str"
   ]
  },
  {
   "cell_type": "code",
   "execution_count": 47,
   "id": "053810da-fe8c-4616-a944-47c4d3c84d4e",
   "metadata": {},
   "outputs": [
    {
     "name": "stderr",
     "output_type": "stream",
     "text": [
      "/opt/conda/lib/python3.9/site-packages/siuba/sql/utils.py:52: SAWarning: Dialect bigquery:bigquery will not make use of SQL compilation caching as it does not set the 'supports_statement_cache' attribute to ``True``.  This can have significant performance implications including some performance degradations in comparison to prior SQLAlchemy versions.  Dialect maintainers should seek to set this attribute to True after appropriate development and testing for SQLAlchemy 1.4 caching support.   Alternatively, this attribute may be set to False which will disable this warning. (Background on this error at: https://sqlalche.me/e/14/cprf)\n",
      "  return self.connectable.execute(*args, **kwargs)\n"
     ]
    }
   ],
   "source": [
    "min_date, max_date = (date_str, next_str)\n",
    "\n",
    "samtrans_trips = (tbl.views.gtfs_schedule_fact_daily_trips()\n",
    "    >> filter(_.calitp_extracted_at <= min_date, _.calitp_deleted_at > max_date)\n",
    "    >> filter(_.calitp_itp_id == samtrans_itp_id)\n",
    "    >> filter(_.service_date == date_str)\n",
    "    >> filter(_.calitp_extracted_at == _.calitp_extracted_at.max())\n",
    "    >> filter(_.is_in_service == True)\n",
    "    >> select(_.trip_key, _.service_date)\n",
    "    >> inner_join(_, tbl.views.gtfs_schedule_dim_trips(), on = 'trip_key')\n",
    "    >> select(_.calitp_itp_id, _.calitp_url_number, _.service_date,\n",
    "              _.trip_key, _.trip_id, _.route_id, _.direction_id,\n",
    "              _.shape_id, _.calitp_extracted_at, _.calitp_deleted_at)\n",
    "    >> collect()\n",
    "    )"
   ]
  },
  {
   "cell_type": "code",
   "execution_count": 53,
   "id": "7fcc5a8c-0670-4acd-a964-b4d095d94d71",
   "metadata": {},
   "outputs": [
    {
     "data": {
      "text/html": [
       "<div>\n",
       "<style scoped>\n",
       "    .dataframe tbody tr th:only-of-type {\n",
       "        vertical-align: middle;\n",
       "    }\n",
       "\n",
       "    .dataframe tbody tr th {\n",
       "        vertical-align: top;\n",
       "    }\n",
       "\n",
       "    .dataframe thead th {\n",
       "        text-align: right;\n",
       "    }\n",
       "</style>\n",
       "<table border=\"1\" class=\"dataframe\">\n",
       "  <thead>\n",
       "    <tr style=\"text-align: right;\">\n",
       "      <th></th>\n",
       "      <th>calitp_itp_id</th>\n",
       "      <th>calitp_url_number</th>\n",
       "      <th>service_date</th>\n",
       "      <th>trip_key</th>\n",
       "      <th>trip_id</th>\n",
       "      <th>route_id</th>\n",
       "      <th>direction_id</th>\n",
       "      <th>shape_id</th>\n",
       "      <th>calitp_extracted_at</th>\n",
       "      <th>calitp_deleted_at</th>\n",
       "    </tr>\n",
       "  </thead>\n",
       "  <tbody>\n",
       "    <tr>\n",
       "      <th>0</th>\n",
       "      <td>290</td>\n",
       "      <td>1</td>\n",
       "      <td>2021-11-30</td>\n",
       "      <td>-8118108557453686259</td>\n",
       "      <td>11032442-136-Blocks-Weekday-54</td>\n",
       "      <td>250</td>\n",
       "      <td>1</td>\n",
       "      <td>2500398</td>\n",
       "      <td>2021-10-12</td>\n",
       "      <td>2021-12-21</td>\n",
       "    </tr>\n",
       "    <tr>\n",
       "      <th>1</th>\n",
       "      <td>290</td>\n",
       "      <td>1</td>\n",
       "      <td>2021-11-30</td>\n",
       "      <td>-5135734635980113023</td>\n",
       "      <td>11038139-136-Blocks-Weekday-54</td>\n",
       "      <td>256</td>\n",
       "      <td>0</td>\n",
       "      <td>2560186</td>\n",
       "      <td>2021-10-12</td>\n",
       "      <td>2022-01-05</td>\n",
       "    </tr>\n",
       "    <tr>\n",
       "      <th>2</th>\n",
       "      <td>290</td>\n",
       "      <td>1</td>\n",
       "      <td>2021-11-30</td>\n",
       "      <td>-5532324825960195079</td>\n",
       "      <td>11032605-136-Blocks-Weekday-54</td>\n",
       "      <td>122</td>\n",
       "      <td>0</td>\n",
       "      <td>1220566</td>\n",
       "      <td>2021-10-24</td>\n",
       "      <td>2021-12-21</td>\n",
       "    </tr>\n",
       "  </tbody>\n",
       "</table>\n",
       "</div>"
      ],
      "text/plain": [
       "   calitp_itp_id  calitp_url_number service_date             trip_key  \\\n",
       "0            290                  1   2021-11-30 -8118108557453686259   \n",
       "1            290                  1   2021-11-30 -5135734635980113023   \n",
       "2            290                  1   2021-11-30 -5532324825960195079   \n",
       "\n",
       "                          trip_id route_id direction_id shape_id  \\\n",
       "0  11032442-136-Blocks-Weekday-54      250            1  2500398   \n",
       "1  11038139-136-Blocks-Weekday-54      256            0  2560186   \n",
       "2  11032605-136-Blocks-Weekday-54      122            0  1220566   \n",
       "\n",
       "  calitp_extracted_at calitp_deleted_at  \n",
       "0          2021-10-12        2021-12-21  \n",
       "1          2021-10-12        2022-01-05  \n",
       "2          2021-10-24        2021-12-21  "
      ]
     },
     "execution_count": 53,
     "metadata": {},
     "output_type": "execute_result"
    }
   ],
   "source": [
    "samtrans_trips.head(3)"
   ]
  },
  {
   "cell_type": "code",
   "execution_count": 54,
   "id": "443d455b-0627-4272-98ab-90977aa38a91",
   "metadata": {},
   "outputs": [
    {
     "data": {
      "text/html": [
       "<div>\n",
       "<style scoped>\n",
       "    .dataframe tbody tr th:only-of-type {\n",
       "        vertical-align: middle;\n",
       "    }\n",
       "\n",
       "    .dataframe tbody tr th {\n",
       "        vertical-align: top;\n",
       "    }\n",
       "\n",
       "    .dataframe thead th {\n",
       "        text-align: right;\n",
       "    }\n",
       "</style>\n",
       "<table border=\"1\" class=\"dataframe\">\n",
       "  <thead>\n",
       "    <tr style=\"text-align: right;\">\n",
       "      <th></th>\n",
       "      <th>trip_id</th>\n",
       "      <th>n</th>\n",
       "      <th>count_n</th>\n",
       "    </tr>\n",
       "  </thead>\n",
       "  <tbody>\n",
       "    <tr>\n",
       "      <th>0</th>\n",
       "      <td>11030731-136-Blocks-Weekday-54</td>\n",
       "      <td>1</td>\n",
       "      <td>1451</td>\n",
       "    </tr>\n",
       "    <tr>\n",
       "      <th>1</th>\n",
       "      <td>11030732-136-Blocks-Weekday-54</td>\n",
       "      <td>1</td>\n",
       "      <td>1451</td>\n",
       "    </tr>\n",
       "    <tr>\n",
       "      <th>2</th>\n",
       "      <td>11030733-136-Blocks-Weekday-54</td>\n",
       "      <td>1</td>\n",
       "      <td>1451</td>\n",
       "    </tr>\n",
       "    <tr>\n",
       "      <th>3</th>\n",
       "      <td>11030734-136-Blocks-Weekday-54</td>\n",
       "      <td>1</td>\n",
       "      <td>1451</td>\n",
       "    </tr>\n",
       "    <tr>\n",
       "      <th>4</th>\n",
       "      <td>11030735-136-Blocks-Weekday-54</td>\n",
       "      <td>1</td>\n",
       "      <td>1451</td>\n",
       "    </tr>\n",
       "    <tr>\n",
       "      <th>...</th>\n",
       "      <td>...</td>\n",
       "      <td>...</td>\n",
       "      <td>...</td>\n",
       "    </tr>\n",
       "    <tr>\n",
       "      <th>1446</th>\n",
       "      <td>11344692-136-Blocks-Weekday-54-SDon</td>\n",
       "      <td>1</td>\n",
       "      <td>1451</td>\n",
       "    </tr>\n",
       "    <tr>\n",
       "      <th>1447</th>\n",
       "      <td>11344693-136-Blocks-Weekday-54-SDon-1101100</td>\n",
       "      <td>1</td>\n",
       "      <td>1451</td>\n",
       "    </tr>\n",
       "    <tr>\n",
       "      <th>1448</th>\n",
       "      <td>11344695-136-Blocks-Weekday-54-SDon-1100100</td>\n",
       "      <td>1</td>\n",
       "      <td>1451</td>\n",
       "    </tr>\n",
       "    <tr>\n",
       "      <th>1449</th>\n",
       "      <td>11344697-136-Blocks-Weekday-54-SDon-1100100</td>\n",
       "      <td>1</td>\n",
       "      <td>1451</td>\n",
       "    </tr>\n",
       "    <tr>\n",
       "      <th>1450</th>\n",
       "      <td>11344699-136-Blocks-Weekday-54-SDon</td>\n",
       "      <td>1</td>\n",
       "      <td>1451</td>\n",
       "    </tr>\n",
       "  </tbody>\n",
       "</table>\n",
       "<p>1451 rows × 3 columns</p>\n",
       "</div>"
      ],
      "text/plain": [
       "                                          trip_id  n  count_n\n",
       "0                  11030731-136-Blocks-Weekday-54  1     1451\n",
       "1                  11030732-136-Blocks-Weekday-54  1     1451\n",
       "2                  11030733-136-Blocks-Weekday-54  1     1451\n",
       "3                  11030734-136-Blocks-Weekday-54  1     1451\n",
       "4                  11030735-136-Blocks-Weekday-54  1     1451\n",
       "...                                           ... ..      ...\n",
       "1446          11344692-136-Blocks-Weekday-54-SDon  1     1451\n",
       "1447  11344693-136-Blocks-Weekday-54-SDon-1101100  1     1451\n",
       "1448  11344695-136-Blocks-Weekday-54-SDon-1100100  1     1451\n",
       "1449  11344697-136-Blocks-Weekday-54-SDon-1100100  1     1451\n",
       "1450          11344699-136-Blocks-Weekday-54-SDon  1     1451\n",
       "\n",
       "[1451 rows x 3 columns]"
      ]
     },
     "execution_count": 54,
     "metadata": {},
     "output_type": "execute_result"
    }
   ],
   "source": [
    "samtrans_trips >> count(_.trip_id) >> mutate(count_n = _.n.sum()) ## assert something like this (encouraging)"
   ]
  },
  {
   "cell_type": "code",
   "execution_count": null,
   "id": "b76c11f6-c9b7-44a3-81f4-5a3ee9816c97",
   "metadata": {},
   "outputs": [],
   "source": [
    "stop_times = (tbl.gtfs_schedule.stop_times()\n",
    "     >> filter(_.calitp_itp_id == 170)\n",
    "     # >> filter(_.trip_id == '9288623')\n",
    "     >> mutate(stop_sequence = _.stop_sequence.astype(int)) ## in SQL!\n",
    "     >> arrange(_.stop_sequence)\n",
    "     >> collect()\n",
    "    )"
   ]
  },
  {
   "cell_type": "code",
   "execution_count": 107,
   "id": "bc85e815-46fe-49b4-bc00-4bf9381a14d4",
   "metadata": {},
   "outputs": [],
   "source": [
    "min_date, max_date = (date_str, next_str)\n",
    "\n",
    "sam_trips_query = (tbl.views.gtfs_schedule_fact_daily_trips()\n",
    "    >> filter(_.calitp_extracted_at <= min_date, _.calitp_deleted_at > max_date)\n",
    "    >> filter(_.calitp_itp_id == samtrans_itp_id)\n",
    "    >> filter(_.service_date == date_str)\n",
    "    >> filter(_.calitp_extracted_at == _.calitp_extracted_at.max())\n",
    "    >> filter(_.is_in_service == True)\n",
    "    >> select(_.trip_key, _.service_date)\n",
    "    )"
   ]
  },
  {
   "cell_type": "code",
   "execution_count": 108,
   "id": "94e5184e-de0e-40e1-989e-003f0188ec57",
   "metadata": {},
   "outputs": [],
   "source": [
    "sam_trips_ix_query = (sam_trips_query\n",
    "    >> inner_join(_, tbl.views.gtfs_schedule_index_feed_trip_stops(), on = 'trip_key')\n",
    "    )"
   ]
  },
  {
   "cell_type": "code",
   "execution_count": 109,
   "id": "facd8008-36c6-43bb-bf2d-8c6c4e18614a",
   "metadata": {},
   "outputs": [],
   "source": [
    "sam_st_query = (tbl.views.gtfs_schedule_dim_stop_times()\n",
    "    >> filter(_.calitp_itp_id == samtrans_itp_id)\n",
    "    )"
   ]
  },
  {
   "cell_type": "code",
   "execution_count": 110,
   "id": "c6342a99-f43b-4712-a907-9764b77c8cf0",
   "metadata": {},
   "outputs": [],
   "source": [
    "sam_st = (sam_trips_ix_query\n",
    "    >> inner_join(_, sam_st_query, on = 'stop_time_key')\n",
    "    >> mutate(stop_sequence = _.stop_sequence.astype(int)) ## in SQL!\n",
    "    >> arrange(_.stop_sequence)\n",
    "    >> collect()\n",
    "    )"
   ]
  },
  {
   "cell_type": "markdown",
   "id": "94101522-d9c9-4ae2-bdb8-67cddfdddffd",
   "metadata": {},
   "source": [
    "* it kind of seems that once you've got a key, filtering extracted/deleted is bad news..."
   ]
  },
  {
   "cell_type": "code",
   "execution_count": 114,
   "id": "0c0f0252-bfc1-4327-a454-d1a8d83b05db",
   "metadata": {},
   "outputs": [],
   "source": [
    "stops = (tbl.views.gtfs_schedule_dim_stops()\n",
    "     >> filter(_.calitp_itp_id == samtrans_itp_id)\n",
    "     >> distinct(_.calitp_itp_id, _.calitp_url_number, _.stop_id,\n",
    "              _.stop_lat, _.stop_lon, _.stop_name, _.stop_key)\n",
    "     # >> collect()\n",
    "     # >> distinct(_.stop_key, _keep_all=True)\n",
    "     >> inner_join(_, sam_trips_ix_query >> distinct(_.stop_key), on = 'stop_key')\n",
    "     >> collect()\n",
    "    )\n",
    "\n",
    "stops = gpd.GeoDataFrame(stops, geometry=gpd.points_from_xy(stops.stop_lon, stops.stop_lat),\n",
    "                        crs='EPSG:4326').to_crs(shared_utils.geography_utils.CA_NAD83Albers)"
   ]
  },
  {
   "cell_type": "code",
   "execution_count": 124,
   "id": "a6d04197-3d91-4802-8882-4ba26c79a7a2",
   "metadata": {},
   "outputs": [
    {
     "data": {
      "text/html": [
       "<div>\n",
       "<style scoped>\n",
       "    .dataframe tbody tr th:only-of-type {\n",
       "        vertical-align: middle;\n",
       "    }\n",
       "\n",
       "    .dataframe tbody tr th {\n",
       "        vertical-align: top;\n",
       "    }\n",
       "\n",
       "    .dataframe thead th {\n",
       "        text-align: right;\n",
       "    }\n",
       "</style>\n",
       "<table border=\"1\" class=\"dataframe\">\n",
       "  <thead>\n",
       "    <tr style=\"text-align: right;\">\n",
       "      <th></th>\n",
       "      <th>calitp_itp_id</th>\n",
       "      <th>calitp_url_number</th>\n",
       "      <th>stop_id</th>\n",
       "      <th>stop_lat</th>\n",
       "      <th>stop_lon</th>\n",
       "      <th>stop_name</th>\n",
       "      <th>stop_key</th>\n",
       "      <th>geometry</th>\n",
       "    </tr>\n",
       "  </thead>\n",
       "  <tbody>\n",
       "    <tr>\n",
       "      <th>0</th>\n",
       "      <td>290</td>\n",
       "      <td>1</td>\n",
       "      <td>332218</td>\n",
       "      <td>37.706419</td>\n",
       "      <td>-122.459780</td>\n",
       "      <td>Mission St &amp; Flournoy St</td>\n",
       "      <td>8328312696755447011</td>\n",
       "      <td>POINT (-216540.225 -31646.559)</td>\n",
       "    </tr>\n",
       "    <tr>\n",
       "      <th>1</th>\n",
       "      <td>290</td>\n",
       "      <td>1</td>\n",
       "      <td>341153</td>\n",
       "      <td>37.536236</td>\n",
       "      <td>-122.297005</td>\n",
       "      <td>El Camino Real &amp; Hillsdale Blvd</td>\n",
       "      <td>-5105536355019630068</td>\n",
       "      <td>POINT (-202671.972 -50919.009)</td>\n",
       "    </tr>\n",
       "    <tr>\n",
       "      <th>2</th>\n",
       "      <td>290</td>\n",
       "      <td>1</td>\n",
       "      <td>341236</td>\n",
       "      <td>37.553320</td>\n",
       "      <td>-122.290693</td>\n",
       "      <td>S Norfolk St &amp; Fashion Island Blvd</td>\n",
       "      <td>3584246796067643826</td>\n",
       "      <td>POINT (-202069.271 -49033.894)</td>\n",
       "    </tr>\n",
       "  </tbody>\n",
       "</table>\n",
       "</div>"
      ],
      "text/plain": [
       "   calitp_itp_id  calitp_url_number stop_id   stop_lat    stop_lon  \\\n",
       "0            290                  1  332218  37.706419 -122.459780   \n",
       "1            290                  1  341153  37.536236 -122.297005   \n",
       "2            290                  1  341236  37.553320 -122.290693   \n",
       "\n",
       "                            stop_name             stop_key  \\\n",
       "0            Mission St & Flournoy St  8328312696755447011   \n",
       "1     El Camino Real & Hillsdale Blvd -5105536355019630068   \n",
       "2  S Norfolk St & Fashion Island Blvd  3584246796067643826   \n",
       "\n",
       "                         geometry  \n",
       "0  POINT (-216540.225 -31646.559)  \n",
       "1  POINT (-202671.972 -50919.009)  \n",
       "2  POINT (-202069.271 -49033.894)  "
      ]
     },
     "execution_count": 124,
     "metadata": {},
     "output_type": "execute_result"
    }
   ],
   "source": [
    "stops.head(3)"
   ]
  },
  {
   "cell_type": "code",
   "execution_count": 123,
   "id": "60ecc660-b775-42a4-965e-9949aed67d1e",
   "metadata": {},
   "outputs": [
    {
     "data": {
      "text/html": [
       "<div>\n",
       "<style scoped>\n",
       "    .dataframe tbody tr th:only-of-type {\n",
       "        vertical-align: middle;\n",
       "    }\n",
       "\n",
       "    .dataframe tbody tr th {\n",
       "        vertical-align: top;\n",
       "    }\n",
       "\n",
       "    .dataframe thead th {\n",
       "        text-align: right;\n",
       "    }\n",
       "</style>\n",
       "<table border=\"1\" class=\"dataframe\">\n",
       "  <thead>\n",
       "    <tr style=\"text-align: right;\">\n",
       "      <th></th>\n",
       "      <th>calitp_itp_id</th>\n",
       "      <th>calitp_url_number</th>\n",
       "      <th>stop_id</th>\n",
       "      <th>stop_lat</th>\n",
       "      <th>stop_lon</th>\n",
       "      <th>stop_name</th>\n",
       "      <th>stop_key</th>\n",
       "      <th>geometry</th>\n",
       "    </tr>\n",
       "  </thead>\n",
       "  <tbody>\n",
       "    <tr>\n",
       "      <th>420</th>\n",
       "      <td>290</td>\n",
       "      <td>1</td>\n",
       "      <td>315017</td>\n",
       "      <td>37.483802</td>\n",
       "      <td>-122.446712</td>\n",
       "      <td>Hwy 1 &amp; Ruisseau Francais Ave</td>\n",
       "      <td>-8064029110528363578</td>\n",
       "      <td>POINT (-216028.655 -56415.420)</td>\n",
       "    </tr>\n",
       "    <tr>\n",
       "      <th>723</th>\n",
       "      <td>290</td>\n",
       "      <td>1</td>\n",
       "      <td>315018</td>\n",
       "      <td>37.483849</td>\n",
       "      <td>-122.446537</td>\n",
       "      <td>Hwy 1 &amp; Ruisseau Francais Ave</td>\n",
       "      <td>-6888104359049458766</td>\n",
       "      <td>POINT (-216013.072 -56410.596)</td>\n",
       "    </tr>\n",
       "    <tr>\n",
       "      <th>1956</th>\n",
       "      <td>290</td>\n",
       "      <td>1</td>\n",
       "      <td>315018</td>\n",
       "      <td>37.483849</td>\n",
       "      <td>-122.446537</td>\n",
       "      <td>Hwy 1 &amp; Ruisseau Francais Ave</td>\n",
       "      <td>5626421419577972445</td>\n",
       "      <td>POINT (-216013.072 -56410.596)</td>\n",
       "    </tr>\n",
       "    <tr>\n",
       "      <th>3187</th>\n",
       "      <td>290</td>\n",
       "      <td>1</td>\n",
       "      <td>315017</td>\n",
       "      <td>37.483802</td>\n",
       "      <td>-122.446712</td>\n",
       "      <td>Hwy 1 &amp; Ruisseau Francais Ave</td>\n",
       "      <td>7985544784696432888</td>\n",
       "      <td>POINT (-216028.655 -56415.420)</td>\n",
       "    </tr>\n",
       "    <tr>\n",
       "      <th>3520</th>\n",
       "      <td>290</td>\n",
       "      <td>1</td>\n",
       "      <td>315017</td>\n",
       "      <td>37.483802</td>\n",
       "      <td>-122.446712</td>\n",
       "      <td>Hwy 1 &amp; Ruisseau Francais Ave</td>\n",
       "      <td>-1355362411902854211</td>\n",
       "      <td>POINT (-216028.655 -56415.420)</td>\n",
       "    </tr>\n",
       "    <tr>\n",
       "      <th>4211</th>\n",
       "      <td>290</td>\n",
       "      <td>1</td>\n",
       "      <td>315018</td>\n",
       "      <td>37.483849</td>\n",
       "      <td>-122.446537</td>\n",
       "      <td>Hwy 1 &amp; Ruisseau Francais Ave</td>\n",
       "      <td>-4832955083364989897</td>\n",
       "      <td>POINT (-216013.072 -56410.596)</td>\n",
       "    </tr>\n",
       "  </tbody>\n",
       "</table>\n",
       "</div>"
      ],
      "text/plain": [
       "      calitp_itp_id  calitp_url_number stop_id   stop_lat    stop_lon  \\\n",
       "420             290                  1  315017  37.483802 -122.446712   \n",
       "723             290                  1  315018  37.483849 -122.446537   \n",
       "1956            290                  1  315018  37.483849 -122.446537   \n",
       "3187            290                  1  315017  37.483802 -122.446712   \n",
       "3520            290                  1  315017  37.483802 -122.446712   \n",
       "4211            290                  1  315018  37.483849 -122.446537   \n",
       "\n",
       "                          stop_name             stop_key  \\\n",
       "420   Hwy 1 & Ruisseau Francais Ave -8064029110528363578   \n",
       "723   Hwy 1 & Ruisseau Francais Ave -6888104359049458766   \n",
       "1956  Hwy 1 & Ruisseau Francais Ave  5626421419577972445   \n",
       "3187  Hwy 1 & Ruisseau Francais Ave  7985544784696432888   \n",
       "3520  Hwy 1 & Ruisseau Francais Ave -1355362411902854211   \n",
       "4211  Hwy 1 & Ruisseau Francais Ave -4832955083364989897   \n",
       "\n",
       "                            geometry  \n",
       "420   POINT (-216028.655 -56415.420)  \n",
       "723   POINT (-216013.072 -56410.596)  \n",
       "1956  POINT (-216013.072 -56410.596)  \n",
       "3187  POINT (-216028.655 -56415.420)  \n",
       "3520  POINT (-216028.655 -56415.420)  \n",
       "4211  POINT (-216013.072 -56410.596)  "
      ]
     },
     "execution_count": 123,
     "metadata": {},
     "output_type": "execute_result"
    }
   ],
   "source": [
    "stops >> filter(_.stop_name.str.contains('Ruiss'))"
   ]
  },
  {
   "cell_type": "markdown",
   "id": "3792638b-13ae-486b-9667-2022e3ba6b1c",
   "metadata": {},
   "source": [
    "* we seem to have 3 rows per stop with different keys... (can't drop if we need keys to match with trips...)"
   ]
  },
  {
   "cell_type": "code",
   "execution_count": 131,
   "id": "f1d4ae3c-b7ca-47c3-8363-84dc640b226a",
   "metadata": {},
   "outputs": [],
   "source": [
    "trips_positions_joined = (samtrans_trips\n",
    "                        >> inner_join(_, (samtrans_positions >> rename(trip_id = 'vehicle_trip_id')),\n",
    "                                      on= ['trip_id', 'calitp_itp_id'])\n",
    "                       )"
   ]
  },
  {
   "cell_type": "code",
   "execution_count": 133,
   "id": "c16eed07-2302-4ec8-81ab-af5ce237159f",
   "metadata": {},
   "outputs": [],
   "source": [
    "trips_positions_joined = gpd.GeoDataFrame(trips_positions_joined,\n",
    "                                geometry=gpd.points_from_xy(trips_positions_joined.vehicle_position_longitude,\n",
    "                                                            trips_positions_joined.vehicle_position_latitude),\n",
    "                                crs=shared_utils.geography_utils.WGS84).to_crs(shared_utils.geography_utils.CA_NAD83Albers)"
   ]
  },
  {
   "cell_type": "code",
   "execution_count": 134,
   "id": "e893f7ae-c266-43be-89a9-9f91434d87ea",
   "metadata": {},
   "outputs": [
    {
     "data": {
      "text/html": [
       "<div>\n",
       "<style scoped>\n",
       "    .dataframe tbody tr th:only-of-type {\n",
       "        vertical-align: middle;\n",
       "    }\n",
       "\n",
       "    .dataframe tbody tr th {\n",
       "        vertical-align: top;\n",
       "    }\n",
       "\n",
       "    .dataframe thead th {\n",
       "        text-align: right;\n",
       "    }\n",
       "</style>\n",
       "<table border=\"1\" class=\"dataframe\">\n",
       "  <thead>\n",
       "    <tr style=\"text-align: right;\">\n",
       "      <th></th>\n",
       "      <th>calitp_itp_id</th>\n",
       "      <th>calitp_url_number_x</th>\n",
       "      <th>service_date</th>\n",
       "      <th>trip_key</th>\n",
       "      <th>trip_id</th>\n",
       "      <th>route_id</th>\n",
       "      <th>direction_id</th>\n",
       "      <th>shape_id</th>\n",
       "      <th>calitp_extracted_at</th>\n",
       "      <th>calitp_deleted_at</th>\n",
       "      <th>calitp_url_number_y</th>\n",
       "      <th>entity_id</th>\n",
       "      <th>vehicle_id</th>\n",
       "      <th>vehicle_timestamp</th>\n",
       "      <th>vehicle_position_latitude</th>\n",
       "      <th>vehicle_position_longitude</th>\n",
       "      <th>header_timestamp</th>\n",
       "      <th>geometry</th>\n",
       "    </tr>\n",
       "  </thead>\n",
       "  <tbody>\n",
       "    <tr>\n",
       "      <th>0</th>\n",
       "      <td>290</td>\n",
       "      <td>1</td>\n",
       "      <td>2021-11-30</td>\n",
       "      <td>-8118108557453686259</td>\n",
       "      <td>11032442-136-Blocks-Weekday-54</td>\n",
       "      <td>250</td>\n",
       "      <td>1</td>\n",
       "      <td>2500398</td>\n",
       "      <td>2021-10-12</td>\n",
       "      <td>2021-12-21</td>\n",
       "      <td>0</td>\n",
       "      <td>70</td>\n",
       "      <td>509</td>\n",
       "      <td>2021-11-29 15:59:33</td>\n",
       "      <td>37.534653</td>\n",
       "      <td>-122.300766</td>\n",
       "      <td>2021-11-29 16:00:10</td>\n",
       "      <td>POINT (-203008.021 -51086.885)</td>\n",
       "    </tr>\n",
       "    <tr>\n",
       "      <th>1</th>\n",
       "      <td>290</td>\n",
       "      <td>1</td>\n",
       "      <td>2021-11-30</td>\n",
       "      <td>-8118108557453686259</td>\n",
       "      <td>11032442-136-Blocks-Weekday-54</td>\n",
       "      <td>250</td>\n",
       "      <td>1</td>\n",
       "      <td>2500398</td>\n",
       "      <td>2021-10-12</td>\n",
       "      <td>2021-12-21</td>\n",
       "      <td>0</td>\n",
       "      <td>68</td>\n",
       "      <td>509</td>\n",
       "      <td>2021-11-29 16:00:14</td>\n",
       "      <td>37.537376</td>\n",
       "      <td>-122.311630</td>\n",
       "      <td>2021-11-29 16:00:30</td>\n",
       "      <td>POINT (-203959.037 -50760.956)</td>\n",
       "    </tr>\n",
       "    <tr>\n",
       "      <th>2</th>\n",
       "      <td>290</td>\n",
       "      <td>1</td>\n",
       "      <td>2021-11-30</td>\n",
       "      <td>-8118108557453686259</td>\n",
       "      <td>11032442-136-Blocks-Weekday-54</td>\n",
       "      <td>250</td>\n",
       "      <td>1</td>\n",
       "      <td>2500398</td>\n",
       "      <td>2021-10-12</td>\n",
       "      <td>2021-12-21</td>\n",
       "      <td>0</td>\n",
       "      <td>68</td>\n",
       "      <td>509</td>\n",
       "      <td>2021-11-29 16:00:14</td>\n",
       "      <td>37.537376</td>\n",
       "      <td>-122.311630</td>\n",
       "      <td>2021-11-29 16:00:50</td>\n",
       "      <td>POINT (-203959.037 -50760.956)</td>\n",
       "    </tr>\n",
       "  </tbody>\n",
       "</table>\n",
       "</div>"
      ],
      "text/plain": [
       "   calitp_itp_id  calitp_url_number_x service_date             trip_key  \\\n",
       "0            290                    1   2021-11-30 -8118108557453686259   \n",
       "1            290                    1   2021-11-30 -8118108557453686259   \n",
       "2            290                    1   2021-11-30 -8118108557453686259   \n",
       "\n",
       "                          trip_id route_id direction_id shape_id  \\\n",
       "0  11032442-136-Blocks-Weekday-54      250            1  2500398   \n",
       "1  11032442-136-Blocks-Weekday-54      250            1  2500398   \n",
       "2  11032442-136-Blocks-Weekday-54      250            1  2500398   \n",
       "\n",
       "  calitp_extracted_at calitp_deleted_at  calitp_url_number_y entity_id  \\\n",
       "0          2021-10-12        2021-12-21                    0        70   \n",
       "1          2021-10-12        2021-12-21                    0        68   \n",
       "2          2021-10-12        2021-12-21                    0        68   \n",
       "\n",
       "  vehicle_id   vehicle_timestamp  vehicle_position_latitude  \\\n",
       "0        509 2021-11-29 15:59:33                  37.534653   \n",
       "1        509 2021-11-29 16:00:14                  37.537376   \n",
       "2        509 2021-11-29 16:00:14                  37.537376   \n",
       "\n",
       "   vehicle_position_longitude    header_timestamp  \\\n",
       "0                 -122.300766 2021-11-29 16:00:10   \n",
       "1                 -122.311630 2021-11-29 16:00:30   \n",
       "2                 -122.311630 2021-11-29 16:00:50   \n",
       "\n",
       "                         geometry  \n",
       "0  POINT (-203008.021 -51086.885)  \n",
       "1  POINT (-203959.037 -50760.956)  \n",
       "2  POINT (-203959.037 -50760.956)  "
      ]
     },
     "execution_count": 134,
     "metadata": {},
     "output_type": "execute_result"
    }
   ],
   "source": [
    "trips_positions_joined.head(3)"
   ]
  },
  {
   "cell_type": "code",
   "execution_count": 137,
   "id": "36987cf2-82e4-4fca-b1e9-1e15b41d9faa",
   "metadata": {},
   "outputs": [],
   "source": [
    "st_routelines = shared_utils.geography_utils.make_routes_shapefile([samtrans_itp_id], ## samtrans\n",
    "                                shared_utils.geography_utils.CA_NAD83Albers)"
   ]
  },
  {
   "cell_type": "code",
   "execution_count": 143,
   "id": "c4d9b321-ccdb-4681-b056-78b049ddca0b",
   "metadata": {},
   "outputs": [],
   "source": [
    "# shared_utils.utils.geoparquet_gcs_export(st_routelines, GCS_FILE_PATH, 'sam_routelines')"
   ]
  },
  {
   "cell_type": "code",
   "execution_count": 141,
   "id": "bee72173-2012-49a8-a012-6e6418810f74",
   "metadata": {},
   "outputs": [],
   "source": [
    "sam_routelines = gpd.read_parquet(f'{GCS_FILE_PATH}sam_routelines.parquet')"
   ]
  },
  {
   "cell_type": "code",
   "execution_count": 142,
   "id": "ced95a13-4c52-44a6-977f-5eb6190dda2c",
   "metadata": {},
   "outputs": [
    {
     "data": {
      "text/html": [
       "<div>\n",
       "<style scoped>\n",
       "    .dataframe tbody tr th:only-of-type {\n",
       "        vertical-align: middle;\n",
       "    }\n",
       "\n",
       "    .dataframe tbody tr th {\n",
       "        vertical-align: top;\n",
       "    }\n",
       "\n",
       "    .dataframe thead th {\n",
       "        text-align: right;\n",
       "    }\n",
       "</style>\n",
       "<table border=\"1\" class=\"dataframe\">\n",
       "  <thead>\n",
       "    <tr style=\"text-align: right;\">\n",
       "      <th></th>\n",
       "      <th>calitp_itp_id</th>\n",
       "      <th>calitp_url_number</th>\n",
       "      <th>shape_id</th>\n",
       "      <th>geometry</th>\n",
       "    </tr>\n",
       "  </thead>\n",
       "  <tbody>\n",
       "    <tr>\n",
       "      <th>0</th>\n",
       "      <td>290</td>\n",
       "      <td>0</td>\n",
       "      <td>1100224</td>\n",
       "      <td>LINESTRING (-217339.785 -31678.594, -217339.78...</td>\n",
       "    </tr>\n",
       "    <tr>\n",
       "      <th>1</th>\n",
       "      <td>290</td>\n",
       "      <td>1</td>\n",
       "      <td>1100236</td>\n",
       "      <td>LINESTRING (-217339.785 -31678.594, -217339.78...</td>\n",
       "    </tr>\n",
       "    <tr>\n",
       "      <th>2</th>\n",
       "      <td>290</td>\n",
       "      <td>0</td>\n",
       "      <td>1100237</td>\n",
       "      <td>LINESTRING (-220663.991 -43864.472, -220663.99...</td>\n",
       "    </tr>\n",
       "    <tr>\n",
       "      <th>3</th>\n",
       "      <td>290</td>\n",
       "      <td>1</td>\n",
       "      <td>1100256</td>\n",
       "      <td>LINESTRING (-218302.184 -44113.771, -218302.18...</td>\n",
       "    </tr>\n",
       "    <tr>\n",
       "      <th>4</th>\n",
       "      <td>290</td>\n",
       "      <td>1</td>\n",
       "      <td>1120134</td>\n",
       "      <td>LINESTRING (-217098.080 -34074.660, -217098.08...</td>\n",
       "    </tr>\n",
       "    <tr>\n",
       "      <th>...</th>\n",
       "      <td>...</td>\n",
       "      <td>...</td>\n",
       "      <td>...</td>\n",
       "      <td>...</td>\n",
       "    </tr>\n",
       "    <tr>\n",
       "      <th>438</th>\n",
       "      <td>290</td>\n",
       "      <td>1</td>\n",
       "      <td>SamTrans79:ECR1064</td>\n",
       "      <td>LINESTRING (-216685.505 -31709.510, -216679.32...</td>\n",
       "    </tr>\n",
       "    <tr>\n",
       "      <th>439</th>\n",
       "      <td>290</td>\n",
       "      <td>1</td>\n",
       "      <td>SamTrans79:ECR1065</td>\n",
       "      <td>LINESTRING (-216685.505 -31709.510, -216679.32...</td>\n",
       "    </tr>\n",
       "    <tr>\n",
       "      <th>440</th>\n",
       "      <td>290</td>\n",
       "      <td>1</td>\n",
       "      <td>SamTrans79:ECR1072</td>\n",
       "      <td>LINESTRING (-191349.232 -61446.984, -191332.05...</td>\n",
       "    </tr>\n",
       "    <tr>\n",
       "      <th>441</th>\n",
       "      <td>290</td>\n",
       "      <td>1</td>\n",
       "      <td>SamTrans79:FLXP0056</td>\n",
       "      <td>LINESTRING (-220663.991 -43864.472, -220670.53...</td>\n",
       "    </tr>\n",
       "    <tr>\n",
       "      <th>442</th>\n",
       "      <td>290</td>\n",
       "      <td>1</td>\n",
       "      <td>SamTrans79:SFO0024</td>\n",
       "      <td>LINESTRING (-210400.815 -43698.495, -210411.25...</td>\n",
       "    </tr>\n",
       "  </tbody>\n",
       "</table>\n",
       "<p>443 rows × 4 columns</p>\n",
       "</div>"
      ],
      "text/plain": [
       "     calitp_itp_id  calitp_url_number             shape_id  \\\n",
       "0              290                  0              1100224   \n",
       "1              290                  1              1100236   \n",
       "2              290                  0              1100237   \n",
       "3              290                  1              1100256   \n",
       "4              290                  1              1120134   \n",
       "..             ...                ...                  ...   \n",
       "438            290                  1   SamTrans79:ECR1064   \n",
       "439            290                  1   SamTrans79:ECR1065   \n",
       "440            290                  1   SamTrans79:ECR1072   \n",
       "441            290                  1  SamTrans79:FLXP0056   \n",
       "442            290                  1   SamTrans79:SFO0024   \n",
       "\n",
       "                                              geometry  \n",
       "0    LINESTRING (-217339.785 -31678.594, -217339.78...  \n",
       "1    LINESTRING (-217339.785 -31678.594, -217339.78...  \n",
       "2    LINESTRING (-220663.991 -43864.472, -220663.99...  \n",
       "3    LINESTRING (-218302.184 -44113.771, -218302.18...  \n",
       "4    LINESTRING (-217098.080 -34074.660, -217098.08...  \n",
       "..                                                 ...  \n",
       "438  LINESTRING (-216685.505 -31709.510, -216679.32...  \n",
       "439  LINESTRING (-216685.505 -31709.510, -216679.32...  \n",
       "440  LINESTRING (-191349.232 -61446.984, -191332.05...  \n",
       "441  LINESTRING (-220663.991 -43864.472, -220670.53...  \n",
       "442  LINESTRING (-210400.815 -43698.495, -210411.25...  \n",
       "\n",
       "[443 rows x 4 columns]"
      ]
     },
     "execution_count": 142,
     "metadata": {},
     "output_type": "execute_result"
    }
   ],
   "source": [
    "sam_routelines"
   ]
  },
  {
   "cell_type": "code",
   "execution_count": 167,
   "id": "ef9d8745-47ef-4d0e-8cf8-f796d172b302",
   "metadata": {},
   "outputs": [],
   "source": [
    "# trips_positions_joined >> filter(_.route_id == 'ECR')"
   ]
  },
  {
   "cell_type": "code",
   "execution_count": 170,
   "id": "6df8ae8c-4bd2-46e2-8d6c-b21cd440d32e",
   "metadata": {},
   "outputs": [],
   "source": [
    "example_trip = (trips_positions_joined\n",
    " >> filter(_.trip_key == 9182511101216666422)\n",
    ")"
   ]
  },
  {
   "cell_type": "code",
   "execution_count": 191,
   "id": "0a3a624d-e27b-40d1-88a9-cae6ec165f91",
   "metadata": {},
   "outputs": [
    {
     "data": {
      "text/plain": [
       "<module 'rt_analysis2' from '/home/jovyan/data-analyses/rt_delay/rt_analysis2.py'>"
      ]
     },
     "execution_count": 191,
     "metadata": {},
     "output_type": "execute_result"
    }
   ],
   "source": [
    "importlib.reload(rt)"
   ]
  },
  {
   "cell_type": "code",
   "execution_count": 192,
   "id": "670dc275-1a58-4ae0-accc-5134b9617276",
   "metadata": {},
   "outputs": [],
   "source": [
    "# example_trip[['calitp_url_number_x', 'calitp_url_number_y']] ## RT and static numbers, these need not match?"
   ]
  },
  {
   "cell_type": "code",
   "execution_count": 193,
   "id": "92e09650-02ae-4171-8b61-34666d6f6430",
   "metadata": {},
   "outputs": [],
   "source": [
    "## gums up for 294..."
   ]
  },
  {
   "cell_type": "code",
   "execution_count": 194,
   "id": "e1083cba-dfa1-4a64-b6ba-65f30bf58066",
   "metadata": {
    "tags": []
   },
   "outputs": [
    {
     "name": "stdout",
     "output_type": "stream",
     "text": [
      "sc_called\n",
      "(422, 10)\n",
      "check location data for trip 9182511101216666422\n",
      "sc_called\n",
      "(111, 16)\n"
     ]
    }
   ],
   "source": [
    "example_vp_trip = rt.VehiclePositionsInterpolator(example_trip, sam_routelines)"
   ]
  },
  {
   "cell_type": "code",
   "execution_count": 198,
   "id": "59c5331d-0e23-4c6b-b602-dc221a02b286",
   "metadata": {
    "tags": []
   },
   "outputs": [],
   "source": [
    "# example_vp_trip.detailed_speed_map()"
   ]
  },
  {
   "cell_type": "code",
   "execution_count": null,
   "id": "807e745e-9a60-4c2b-a8fd-789b50401dbf",
   "metadata": {},
   "outputs": [],
   "source": []
  }
 ],
 "metadata": {
  "kernelspec": {
   "display_name": "Python 3 (ipykernel)",
   "language": "python",
   "name": "python3"
  },
  "language_info": {
   "codemirror_mode": {
    "name": "ipython",
    "version": 3
   },
   "file_extension": ".py",
   "mimetype": "text/x-python",
   "name": "python",
   "nbconvert_exporter": "python",
   "pygments_lexer": "ipython3",
   "version": "3.9.7"
  }
 },
 "nbformat": 4,
 "nbformat_minor": 5
}
