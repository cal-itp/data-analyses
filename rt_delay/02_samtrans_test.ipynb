{
 "cells": [
  {
   "cell_type": "code",
   "execution_count": 1,
   "id": "ab6b505a-68af-490c-88ea-af5f01ddf765",
   "metadata": {},
   "outputs": [
    {
     "name": "stderr",
     "output_type": "stream",
     "text": [
      "/opt/conda/lib/python3.9/site-packages/geopandas/_compat.py:111: UserWarning: The Shapely GEOS version (3.9.1-CAPI-1.14.2) is incompatible with the GEOS version PyGEOS was compiled with (3.10.1-CAPI-1.16.0). Conversions between both will be slow.\n",
      "  warnings.warn(\n"
     ]
    }
   ],
   "source": [
    "import os\n",
    "os.environ[\"CALITP_BQ_MAX_BYTES\"] = str(100_000_000_000)\n",
    "\n",
    "from calitp.tables import tbl\n",
    "from calitp import query_sql\n",
    "import calitp.magics\n",
    "import branca\n",
    "\n",
    "import shared_utils\n",
    "import utils\n",
    "\n",
    "from siuba import *\n",
    "import pandas as pd\n",
    "import geopandas as gpd\n",
    "import shapely\n",
    "\n",
    "import datetime as dt\n",
    "import time\n",
    "from zoneinfo import ZoneInfo\n",
    "\n",
    "import rt_analysis as rt\n",
    "import importlib\n",
    "\n",
    "import gcsfs\n",
    "fs = gcsfs.GCSFileSystem()"
   ]
  },
  {
   "cell_type": "code",
   "execution_count": 2,
   "id": "eb73cc0e-5851-4a47-8b68-17e39f213187",
   "metadata": {},
   "outputs": [],
   "source": [
    "analysis_date = dt.date(2022, 1, 12)"
   ]
  },
  {
   "cell_type": "code",
   "execution_count": 3,
   "id": "eb406d37-ef09-431c-81a7-74478eb1389c",
   "metadata": {},
   "outputs": [],
   "source": [
    "samtrans_itp_id = 290"
   ]
  },
  {
   "cell_type": "code",
   "execution_count": 4,
   "id": "edda88f3-b348-4983-b41a-c8eb836faf29",
   "metadata": {},
   "outputs": [
    {
     "data": {
      "text/plain": [
       "<module 'rt_analysis' from '/home/jovyan/data-analyses/rt_delay/rt_analysis.py'>"
      ]
     },
     "execution_count": 4,
     "metadata": {},
     "output_type": "execute_result"
    }
   ],
   "source": [
    "importlib.reload(utils)\n",
    "importlib.reload(rt)"
   ]
  },
  {
   "cell_type": "code",
   "execution_count": 5,
   "id": "ba09e8a3-c24a-4b90-bfb8-1306d95fc3a8",
   "metadata": {},
   "outputs": [],
   "source": [
    "colorscale = branca.colormap.step.RdYlGn_10.scale(vmin=0, \n",
    " vmax=30)\n",
    "colorscale.caption = \"Speed (miles per hour)\""
   ]
  },
  {
   "cell_type": "code",
   "execution_count": 6,
   "id": "4836b058-5a08-4d25-ac40-fa0d1cb5266e",
   "metadata": {},
   "outputs": [],
   "source": [
    "from tqdm import tqdm_notebook"
   ]
  },
  {
   "cell_type": "code",
   "execution_count": 7,
   "id": "1a4def43-5855-497f-9623-4c69866061eb",
   "metadata": {},
   "outputs": [],
   "source": [
    "from tqdm.notebook import trange, tqdm"
   ]
  },
  {
   "cell_type": "code",
   "execution_count": 8,
   "id": "c1990afc-3d85-4217-ac28-58c9f0c5dd01",
   "metadata": {},
   "outputs": [
    {
     "data": {
      "application/vnd.jupyter.widget-view+json": {
       "model_id": "7f9f523b49814525be12df05bd120527",
       "version_major": 2,
       "version_minor": 0
      },
      "text/plain": [
       "0it [00:00, ?it/s]"
      ]
     },
     "metadata": {},
     "output_type": "display_data"
    }
   ],
   "source": [
    "pbar = tqdm()"
   ]
  },
  {
   "cell_type": "code",
   "execution_count": 9,
   "id": "bf2c9ed1-f376-4b3a-8430-338d2bef56d1",
   "metadata": {},
   "outputs": [],
   "source": [
    "## running about 2 minutes for interpolators, about 20 for delay(!)"
   ]
  },
  {
   "cell_type": "code",
   "execution_count": 10,
   "id": "911504f2-6efd-4b31-aff9-e55d8598066a",
   "metadata": {
    "tags": []
   },
   "outputs": [],
   "source": [
    "%%capture\n",
    "sam = rt.OperatorDayAnalysis(samtrans_itp_id, analysis_date, pbar)"
   ]
  },
  {
   "cell_type": "code",
   "execution_count": 11,
   "id": "530f6807-e30d-44e7-bfa2-00d6f2aebc8d",
   "metadata": {},
   "outputs": [
    {
     "data": {
      "text/html": [
       "<div>\n",
       "<style scoped>\n",
       "    .dataframe tbody tr th:only-of-type {\n",
       "        vertical-align: middle;\n",
       "    }\n",
       "\n",
       "    .dataframe tbody tr th {\n",
       "        vertical-align: top;\n",
       "    }\n",
       "\n",
       "    .dataframe thead th {\n",
       "        text-align: right;\n",
       "    }\n",
       "</style>\n",
       "<table border=\"1\" class=\"dataframe\">\n",
       "  <thead>\n",
       "    <tr style=\"text-align: right;\">\n",
       "      <th></th>\n",
       "      <th>stop_id</th>\n",
       "      <th>stop_name</th>\n",
       "      <th>mean_delay</th>\n",
       "      <th>max_delay</th>\n",
       "    </tr>\n",
       "  </thead>\n",
       "  <tbody>\n",
       "    <tr>\n",
       "      <th>715</th>\n",
       "      <td>334620</td>\n",
       "      <td>South SF BART-Bay 5 Westside Busway</td>\n",
       "      <td>0 days 00:26:28.198510</td>\n",
       "      <td>0 days 00:26:28.198510</td>\n",
       "    </tr>\n",
       "    <tr>\n",
       "      <th>1192</th>\n",
       "      <td>343118</td>\n",
       "      <td>Alameda de las Pulgas &amp; Alma St</td>\n",
       "      <td>0 days 00:18:37.985408200</td>\n",
       "      <td>0 days 00:22:35.850843</td>\n",
       "    </tr>\n",
       "    <tr>\n",
       "      <th>269</th>\n",
       "      <td>331100</td>\n",
       "      <td>SF Transit Center - BART shuttle connection</td>\n",
       "      <td>0 days 00:17:02.684474</td>\n",
       "      <td>0 days 00:17:02.684474</td>\n",
       "    </tr>\n",
       "  </tbody>\n",
       "</table>\n",
       "</div>"
      ],
      "text/plain": [
       "     stop_id                                    stop_name  \\\n",
       "715   334620          South SF BART-Bay 5 Westside Busway   \n",
       "1192  343118              Alameda de las Pulgas & Alma St   \n",
       "269   331100  SF Transit Center - BART shuttle connection   \n",
       "\n",
       "                    mean_delay              max_delay  \n",
       "715     0 days 00:26:28.198510 0 days 00:26:28.198510  \n",
       "1192 0 days 00:18:37.985408200 0 days 00:22:35.850843  \n",
       "269     0 days 00:17:02.684474 0 days 00:17:02.684474  "
      ]
     },
     "execution_count": 11,
     "metadata": {},
     "output_type": "execute_result"
    }
   ],
   "source": [
    "(sam.stop_delay_view\n",
    " >> group_by(_.stop_id, _.stop_name)\n",
    " >> summarize(mean_delay = _.delay.mean(), max_delay = _.delay.max())\n",
    " >> arrange(-_.mean_delay)) >> head(3)"
   ]
  },
  {
   "cell_type": "code",
   "execution_count": 12,
   "id": "4d85c9a4-5355-451c-9494-09620d538f13",
   "metadata": {},
   "outputs": [],
   "source": [
    "sam.set_filter(start_time='15:00', end_time='19:00', direction_id='1')"
   ]
  },
  {
   "cell_type": "code",
   "execution_count": 13,
   "id": "e76328d8-7587-48d8-94d2-0265326e0d22",
   "metadata": {},
   "outputs": [
    {
     "data": {
      "text/plain": [
       "{'start_time': datetime.time(15, 0),\n",
       " 'end_time': datetime.time(19, 0),\n",
       " 'route_ids': None,\n",
       " 'direction_id': '1',\n",
       " 'direction': None}"
      ]
     },
     "execution_count": 13,
     "metadata": {},
     "output_type": "execute_result"
    }
   ],
   "source": [
    "sam.filter"
   ]
  },
  {
   "cell_type": "code",
   "execution_count": 14,
   "id": "f9656d52-99ff-4459-a04a-e48914527afa",
   "metadata": {
    "tags": []
   },
   "outputs": [],
   "source": [
    "# %%capture\n",
    "# m = sam.segment_speed_map(colorscale=colorscale)"
   ]
  },
  {
   "cell_type": "code",
   "execution_count": 15,
   "id": "953f6b71-3a37-4f7e-83ed-88939959ecfb",
   "metadata": {},
   "outputs": [],
   "source": [
    "# m"
   ]
  },
  {
   "cell_type": "markdown",
   "id": "89116519-3abb-4786-9a76-26c601bb1fe8",
   "metadata": {},
   "source": [
    "### speedup ideas\n",
    "\n",
    "* selective use of numba @jit decorator in computation-heavy methods?\n",
    "    * likely requires refactor to plain np, translation, etc...\n",
    "    * done for time_at_position with wonderful results (60x speedup) "
   ]
  },
  {
   "cell_type": "code",
   "execution_count": 16,
   "id": "4f11ae8e-2c21-421c-a926-93b246f94dc5",
   "metadata": {},
   "outputs": [],
   "source": [
    "# rt.TripPositionInterpolator.detailed_speed_map(ex1)"
   ]
  },
  {
   "cell_type": "code",
   "execution_count": 17,
   "id": "e319b79a-1e08-4239-84ce-aca8217fb5e9",
   "metadata": {},
   "outputs": [],
   "source": [
    "# @jit(nopython=True) ##numba gives huge speedup here (~60x)\n",
    "# def time_at_position_numba(desired_position, shape_array, dt_float_array):\n",
    "#     if desired_position < shape_array.max() and desired_position > shape_array.min():\\\n",
    "#         return np.interp(desired_position, shape_array, dt_float_array)\n",
    "#     else:\n",
    "#         return None"
   ]
  },
  {
   "cell_type": "code",
   "execution_count": 18,
   "id": "dd092cd7-d898-4c39-af97-5f8e0c8586e3",
   "metadata": {},
   "outputs": [],
   "source": [
    "def _shift_calculate(self, vehicle_positions):\n",
    "\n",
    "    # if hasattr(self, \"progressing_positions\"):\n",
    "    #     print(self.progressing_positions.shape)\n",
    "    #     self.debug_dict[self.progressing_positions.shape[0]] = self.progressing_positions.copy()\n",
    "\n",
    "    vehicle_positions = vehicle_positions >> arrange(self.time_col) ## unnecessary?\n",
    "    vehicle_positions['last_time'] = vehicle_positions[self.time_col].shift(1)\n",
    "    vehicle_positions['last_loc'] = vehicle_positions.shape_meters.shift(1)\n",
    "    vehicle_positions['secs_from_last'] = vehicle_positions[self.time_col] - vehicle_positions.last_time\n",
    "    vehicle_positions.secs_from_last = (vehicle_positions.secs_from_last\n",
    "                                    .apply(lambda x: x.seconds))\n",
    "    vehicle_positions['meters_from_last'] = (vehicle_positions.shape_meters\n",
    "                                                  - vehicle_positions.last_loc)\n",
    "    vehicle_positions['progressed'] = vehicle_positions['meters_from_last'] > 0 ## has the bus moved ahead?\n",
    "    vehicle_positions['speed_from_last'] = (vehicle_positions.meters_from_last\n",
    "                                                 / vehicle_positions.secs_from_last) ## meters/second\n",
    "    return vehicle_positions"
   ]
  },
  {
   "cell_type": "code",
   "execution_count": 19,
   "id": "5035d7e0-7284-4177-b3fc-130637f0133a",
   "metadata": {},
   "outputs": [],
   "source": [
    "import numpy as np\n",
    "from numba import jit"
   ]
  },
  {
   "cell_type": "code",
   "execution_count": 20,
   "id": "6ebda684-fbb6-40b0-b8e3-711606c8be73",
   "metadata": {},
   "outputs": [],
   "source": [
    "one_interpolator = sam.position_interpolators['11030873-136-Blocks-Weekday-54']['rt']"
   ]
  },
  {
   "cell_type": "code",
   "execution_count": 21,
   "id": "b5dec1a5-271f-4474-a003-29195f653e26",
   "metadata": {},
   "outputs": [
    {
     "data": {
      "text/html": [
       "<div>\n",
       "<style scoped>\n",
       "    .dataframe tbody tr th:only-of-type {\n",
       "        vertical-align: middle;\n",
       "    }\n",
       "\n",
       "    .dataframe tbody tr th {\n",
       "        vertical-align: top;\n",
       "    }\n",
       "\n",
       "    .dataframe thead th {\n",
       "        text-align: right;\n",
       "    }\n",
       "</style>\n",
       "<table border=\"1\" class=\"dataframe\">\n",
       "  <thead>\n",
       "    <tr style=\"text-align: right;\">\n",
       "      <th></th>\n",
       "      <th>vehicle_timestamp</th>\n",
       "      <th>vehicle_position_latitude</th>\n",
       "      <th>vehicle_position_longitude</th>\n",
       "      <th>header_timestamp</th>\n",
       "      <th>geometry</th>\n",
       "      <th>shape_meters</th>\n",
       "      <th>last_time</th>\n",
       "      <th>last_loc</th>\n",
       "      <th>secs_from_last</th>\n",
       "      <th>meters_from_last</th>\n",
       "      <th>progressed</th>\n",
       "      <th>speed_from_last</th>\n",
       "    </tr>\n",
       "  </thead>\n",
       "  <tbody>\n",
       "    <tr>\n",
       "      <th>0</th>\n",
       "      <td>2022-01-12 20:19:05</td>\n",
       "      <td>37.598866</td>\n",
       "      <td>-122.38635</td>\n",
       "      <td>2022-01-12 20:19:30</td>\n",
       "      <td>POINT (-210378.305 -43764.225)</td>\n",
       "      <td>137.234294</td>\n",
       "      <td>NaT</td>\n",
       "      <td>NaN</td>\n",
       "      <td>NaN</td>\n",
       "      <td>NaN</td>\n",
       "      <td>False</td>\n",
       "      <td>NaN</td>\n",
       "    </tr>\n",
       "    <tr>\n",
       "      <th>1</th>\n",
       "      <td>2022-01-12 20:19:35</td>\n",
       "      <td>37.598866</td>\n",
       "      <td>-122.38635</td>\n",
       "      <td>2022-01-12 20:19:44</td>\n",
       "      <td>POINT (-210378.305 -43764.225)</td>\n",
       "      <td>137.234294</td>\n",
       "      <td>2022-01-12 20:19:05</td>\n",
       "      <td>137.234294</td>\n",
       "      <td>30.0</td>\n",
       "      <td>0.000000</td>\n",
       "      <td>False</td>\n",
       "      <td>0.000000</td>\n",
       "    </tr>\n",
       "    <tr>\n",
       "      <th>2</th>\n",
       "      <td>2022-01-12 20:20:08</td>\n",
       "      <td>37.598260</td>\n",
       "      <td>-122.38694</td>\n",
       "      <td>2022-01-12 20:20:44</td>\n",
       "      <td>POINT (-210432.003 -43830.261)</td>\n",
       "      <td>682.613133</td>\n",
       "      <td>2022-01-12 20:19:35</td>\n",
       "      <td>137.234294</td>\n",
       "      <td>33.0</td>\n",
       "      <td>545.378838</td>\n",
       "      <td>True</td>\n",
       "      <td>16.526631</td>\n",
       "    </tr>\n",
       "  </tbody>\n",
       "</table>\n",
       "</div>"
      ],
      "text/plain": [
       "    vehicle_timestamp  vehicle_position_latitude  vehicle_position_longitude  \\\n",
       "0 2022-01-12 20:19:05                  37.598866                  -122.38635   \n",
       "1 2022-01-12 20:19:35                  37.598866                  -122.38635   \n",
       "2 2022-01-12 20:20:08                  37.598260                  -122.38694   \n",
       "\n",
       "     header_timestamp                        geometry  shape_meters  \\\n",
       "0 2022-01-12 20:19:30  POINT (-210378.305 -43764.225)    137.234294   \n",
       "1 2022-01-12 20:19:44  POINT (-210378.305 -43764.225)    137.234294   \n",
       "2 2022-01-12 20:20:44  POINT (-210432.003 -43830.261)    682.613133   \n",
       "\n",
       "            last_time    last_loc  secs_from_last  meters_from_last  \\\n",
       "0                 NaT         NaN             NaN               NaN   \n",
       "1 2022-01-12 20:19:05  137.234294            30.0          0.000000   \n",
       "2 2022-01-12 20:19:35  137.234294            33.0        545.378838   \n",
       "\n",
       "   progressed  speed_from_last  \n",
       "0       False              NaN  \n",
       "1       False         0.000000  \n",
       "2        True        16.526631  "
      ]
     },
     "execution_count": 21,
     "metadata": {},
     "output_type": "execute_result"
    }
   ],
   "source": [
    "one_interpolator.position_gdf >> head(3)"
   ]
  },
  {
   "cell_type": "code",
   "execution_count": 22,
   "id": "71ae6a7c-d472-4fdc-8282-78ae6d86165e",
   "metadata": {},
   "outputs": [
    {
     "data": {
      "text/html": [
       "<div>\n",
       "<style scoped>\n",
       "    .dataframe tbody tr th:only-of-type {\n",
       "        vertical-align: middle;\n",
       "    }\n",
       "\n",
       "    .dataframe tbody tr th {\n",
       "        vertical-align: top;\n",
       "    }\n",
       "\n",
       "    .dataframe thead th {\n",
       "        text-align: right;\n",
       "    }\n",
       "</style>\n",
       "<table border=\"1\" class=\"dataframe\">\n",
       "  <thead>\n",
       "    <tr style=\"text-align: right;\">\n",
       "      <th></th>\n",
       "      <th>vehicle_timestamp</th>\n",
       "      <th>vehicle_position_latitude</th>\n",
       "      <th>vehicle_position_longitude</th>\n",
       "      <th>header_timestamp</th>\n",
       "      <th>geometry</th>\n",
       "      <th>shape_meters</th>\n",
       "      <th>last_time</th>\n",
       "      <th>last_loc</th>\n",
       "      <th>secs_from_last</th>\n",
       "      <th>meters_from_last</th>\n",
       "      <th>progressed</th>\n",
       "      <th>speed_from_last</th>\n",
       "    </tr>\n",
       "  </thead>\n",
       "  <tbody>\n",
       "    <tr>\n",
       "      <th>48056</th>\n",
       "      <td>2022-01-12 20:20:08</td>\n",
       "      <td>37.59826</td>\n",
       "      <td>-122.386940</td>\n",
       "      <td>2022-01-12 20:20:44</td>\n",
       "      <td>POINT (-210432.003 -43830.261)</td>\n",
       "      <td>682.613133</td>\n",
       "      <td>2022-01-12 20:19:35</td>\n",
       "      <td>137.234294</td>\n",
       "      <td>33.0</td>\n",
       "      <td>545.378838</td>\n",
       "      <td>True</td>\n",
       "      <td>16.526631</td>\n",
       "    </tr>\n",
       "    <tr>\n",
       "      <th>48058</th>\n",
       "      <td>2022-01-12 20:21:40</td>\n",
       "      <td>37.60131</td>\n",
       "      <td>-122.382324</td>\n",
       "      <td>2022-01-12 20:22:10</td>\n",
       "      <td>POINT (-210016.625 -43501.548)</td>\n",
       "      <td>1258.192127</td>\n",
       "      <td>2022-01-12 20:21:08</td>\n",
       "      <td>682.613133</td>\n",
       "      <td>32.0</td>\n",
       "      <td>575.578994</td>\n",
       "      <td>True</td>\n",
       "      <td>17.986844</td>\n",
       "    </tr>\n",
       "    <tr>\n",
       "      <th>48059</th>\n",
       "      <td>2022-01-12 20:22:09</td>\n",
       "      <td>37.60332</td>\n",
       "      <td>-122.378810</td>\n",
       "      <td>2022-01-12 20:22:44</td>\n",
       "      <td>POINT (-209701.303 -43285.954)</td>\n",
       "      <td>1636.230870</td>\n",
       "      <td>2022-01-12 20:21:40</td>\n",
       "      <td>1258.192127</td>\n",
       "      <td>29.0</td>\n",
       "      <td>378.038743</td>\n",
       "      <td>True</td>\n",
       "      <td>13.035819</td>\n",
       "    </tr>\n",
       "  </tbody>\n",
       "</table>\n",
       "</div>"
      ],
      "text/plain": [
       "        vehicle_timestamp  vehicle_position_latitude  \\\n",
       "48056 2022-01-12 20:20:08                   37.59826   \n",
       "48058 2022-01-12 20:21:40                   37.60131   \n",
       "48059 2022-01-12 20:22:09                   37.60332   \n",
       "\n",
       "       vehicle_position_longitude    header_timestamp  \\\n",
       "48056                 -122.386940 2022-01-12 20:20:44   \n",
       "48058                 -122.382324 2022-01-12 20:22:10   \n",
       "48059                 -122.378810 2022-01-12 20:22:44   \n",
       "\n",
       "                             geometry  shape_meters           last_time  \\\n",
       "48056  POINT (-210432.003 -43830.261)    682.613133 2022-01-12 20:19:35   \n",
       "48058  POINT (-210016.625 -43501.548)   1258.192127 2022-01-12 20:21:08   \n",
       "48059  POINT (-209701.303 -43285.954)   1636.230870 2022-01-12 20:21:40   \n",
       "\n",
       "          last_loc  secs_from_last  meters_from_last  progressed  \\\n",
       "48056   137.234294            33.0        545.378838        True   \n",
       "48058   682.613133            32.0        575.578994        True   \n",
       "48059  1258.192127            29.0        378.038743        True   \n",
       "\n",
       "       speed_from_last  \n",
       "48056        16.526631  \n",
       "48058        17.986844  \n",
       "48059        13.035819  "
      ]
     },
     "execution_count": 22,
     "metadata": {},
     "output_type": "execute_result"
    }
   ],
   "source": [
    "one_interpolator.cleaned_positions >> head(3)"
   ]
  },
  {
   "cell_type": "code",
   "execution_count": 23,
   "id": "da7afafa-1dc4-4138-8a39-ba806c33b275",
   "metadata": {},
   "outputs": [
    {
     "name": "stdout",
     "output_type": "stream",
     "text": [
      "12.6 ms ± 997 µs per loop (mean ± std. dev. of 7 runs, 100 loops each)\n"
     ]
    }
   ],
   "source": [
    "%%timeit\n",
    "one_interpolator._linear_reference()"
   ]
  },
  {
   "cell_type": "code",
   "execution_count": 24,
   "id": "5410afcb-8ce1-4fde-9f19-4e3ed43882ce",
   "metadata": {},
   "outputs": [],
   "source": [
    "pos_gdf = one_interpolator.position_gdf.copy()"
   ]
  },
  {
   "cell_type": "code",
   "execution_count": 35,
   "id": "d6fb28ee-4af9-4795-a4d9-a955e29bfbb0",
   "metadata": {},
   "outputs": [],
   "source": [
    "_ix_array = pos_gdf.index.to_numpy()"
   ]
  },
  {
   "cell_type": "code",
   "execution_count": 26,
   "id": "0444d1c0-7804-4fc0-a0e6-eb4b2fddf91e",
   "metadata": {},
   "outputs": [
    {
     "data": {
      "text/plain": [
       "array([1.64201874e+09, 1.64201878e+09, 1.64201881e+09, 1.64201887e+09,\n",
       "       1.64201890e+09])"
      ]
     },
     "execution_count": 26,
     "metadata": {},
     "output_type": "execute_result"
    }
   ],
   "source": [
    "time_col = 'vehicle_timestamp'\n",
    "_raw_dt_array = (pos_gdf[time_col].to_numpy()\n",
    "                              .astype('datetime64[s]')\n",
    "                              .astype('float64')\n",
    "                             )\n",
    "_raw_dt_array[:5]"
   ]
  },
  {
   "cell_type": "code",
   "execution_count": 27,
   "id": "3369aeea-d8d8-4c01-b339-e84ddf530b3b",
   "metadata": {},
   "outputs": [
    {
     "data": {
      "text/plain": [
       "array([ 137.23429403,  137.23429403,  682.61313251,  682.61313251,\n",
       "       1258.19212654])"
      ]
     },
     "execution_count": 27,
     "metadata": {},
     "output_type": "execute_result"
    }
   ],
   "source": [
    "_raw_shape_array = pos_gdf.shape_meters.to_numpy()\n",
    "_raw_shape_array[:5]"
   ]
  },
  {
   "cell_type": "code",
   "execution_count": 28,
   "id": "2d62289f-ec51-44a3-9339-ab910c1593e1",
   "metadata": {},
   "outputs": [
    {
     "data": {
      "text/html": [
       "<div>\n",
       "<style scoped>\n",
       "    .dataframe tbody tr th:only-of-type {\n",
       "        vertical-align: middle;\n",
       "    }\n",
       "\n",
       "    .dataframe tbody tr th {\n",
       "        vertical-align: top;\n",
       "    }\n",
       "\n",
       "    .dataframe thead th {\n",
       "        text-align: right;\n",
       "    }\n",
       "</style>\n",
       "<table border=\"1\" class=\"dataframe\">\n",
       "  <thead>\n",
       "    <tr style=\"text-align: right;\">\n",
       "      <th></th>\n",
       "      <th>vehicle_timestamp</th>\n",
       "      <th>vehicle_position_latitude</th>\n",
       "      <th>vehicle_position_longitude</th>\n",
       "      <th>header_timestamp</th>\n",
       "      <th>geometry</th>\n",
       "      <th>shape_meters</th>\n",
       "      <th>last_time</th>\n",
       "      <th>last_loc</th>\n",
       "      <th>secs_from_last</th>\n",
       "      <th>meters_from_last</th>\n",
       "      <th>progressed</th>\n",
       "      <th>speed_from_last</th>\n",
       "    </tr>\n",
       "  </thead>\n",
       "  <tbody>\n",
       "    <tr>\n",
       "      <th>0</th>\n",
       "      <td>2022-01-12 20:19:05</td>\n",
       "      <td>37.598866</td>\n",
       "      <td>-122.386350</td>\n",
       "      <td>2022-01-12 20:19:30</td>\n",
       "      <td>POINT (-210378.305 -43764.225)</td>\n",
       "      <td>137.234294</td>\n",
       "      <td>NaT</td>\n",
       "      <td>NaN</td>\n",
       "      <td>NaN</td>\n",
       "      <td>NaN</td>\n",
       "      <td>False</td>\n",
       "      <td>NaN</td>\n",
       "    </tr>\n",
       "    <tr>\n",
       "      <th>1</th>\n",
       "      <td>2022-01-12 20:19:35</td>\n",
       "      <td>37.598866</td>\n",
       "      <td>-122.386350</td>\n",
       "      <td>2022-01-12 20:19:44</td>\n",
       "      <td>POINT (-210378.305 -43764.225)</td>\n",
       "      <td>137.234294</td>\n",
       "      <td>2022-01-12 20:19:05</td>\n",
       "      <td>137.234294</td>\n",
       "      <td>30.0</td>\n",
       "      <td>0.000000</td>\n",
       "      <td>False</td>\n",
       "      <td>0.000000</td>\n",
       "    </tr>\n",
       "    <tr>\n",
       "      <th>2</th>\n",
       "      <td>2022-01-12 20:20:08</td>\n",
       "      <td>37.598260</td>\n",
       "      <td>-122.386940</td>\n",
       "      <td>2022-01-12 20:20:44</td>\n",
       "      <td>POINT (-210432.003 -43830.261)</td>\n",
       "      <td>682.613133</td>\n",
       "      <td>2022-01-12 20:19:35</td>\n",
       "      <td>137.234294</td>\n",
       "      <td>33.0</td>\n",
       "      <td>545.378838</td>\n",
       "      <td>True</td>\n",
       "      <td>16.526631</td>\n",
       "    </tr>\n",
       "    <tr>\n",
       "      <th>3</th>\n",
       "      <td>2022-01-12 20:21:08</td>\n",
       "      <td>37.598260</td>\n",
       "      <td>-122.386940</td>\n",
       "      <td>2022-01-12 20:21:24</td>\n",
       "      <td>POINT (-210432.003 -43830.261)</td>\n",
       "      <td>682.613133</td>\n",
       "      <td>2022-01-12 20:20:08</td>\n",
       "      <td>682.613133</td>\n",
       "      <td>60.0</td>\n",
       "      <td>0.000000</td>\n",
       "      <td>False</td>\n",
       "      <td>0.000000</td>\n",
       "    </tr>\n",
       "    <tr>\n",
       "      <th>4</th>\n",
       "      <td>2022-01-12 20:21:40</td>\n",
       "      <td>37.601310</td>\n",
       "      <td>-122.382324</td>\n",
       "      <td>2022-01-12 20:22:10</td>\n",
       "      <td>POINT (-210016.625 -43501.548)</td>\n",
       "      <td>1258.192127</td>\n",
       "      <td>2022-01-12 20:21:08</td>\n",
       "      <td>682.613133</td>\n",
       "      <td>32.0</td>\n",
       "      <td>575.578994</td>\n",
       "      <td>True</td>\n",
       "      <td>17.986844</td>\n",
       "    </tr>\n",
       "  </tbody>\n",
       "</table>\n",
       "</div>"
      ],
      "text/plain": [
       "    vehicle_timestamp  vehicle_position_latitude  vehicle_position_longitude  \\\n",
       "0 2022-01-12 20:19:05                  37.598866                 -122.386350   \n",
       "1 2022-01-12 20:19:35                  37.598866                 -122.386350   \n",
       "2 2022-01-12 20:20:08                  37.598260                 -122.386940   \n",
       "3 2022-01-12 20:21:08                  37.598260                 -122.386940   \n",
       "4 2022-01-12 20:21:40                  37.601310                 -122.382324   \n",
       "\n",
       "     header_timestamp                        geometry  shape_meters  \\\n",
       "0 2022-01-12 20:19:30  POINT (-210378.305 -43764.225)    137.234294   \n",
       "1 2022-01-12 20:19:44  POINT (-210378.305 -43764.225)    137.234294   \n",
       "2 2022-01-12 20:20:44  POINT (-210432.003 -43830.261)    682.613133   \n",
       "3 2022-01-12 20:21:24  POINT (-210432.003 -43830.261)    682.613133   \n",
       "4 2022-01-12 20:22:10  POINT (-210016.625 -43501.548)   1258.192127   \n",
       "\n",
       "            last_time    last_loc  secs_from_last  meters_from_last  \\\n",
       "0                 NaT         NaN             NaN               NaN   \n",
       "1 2022-01-12 20:19:05  137.234294            30.0          0.000000   \n",
       "2 2022-01-12 20:19:35  137.234294            33.0        545.378838   \n",
       "3 2022-01-12 20:20:08  682.613133            60.0          0.000000   \n",
       "4 2022-01-12 20:21:08  682.613133            32.0        575.578994   \n",
       "\n",
       "   progressed  speed_from_last  \n",
       "0       False              NaN  \n",
       "1       False         0.000000  \n",
       "2        True        16.526631  \n",
       "3       False         0.000000  \n",
       "4        True        17.986844  "
      ]
     },
     "execution_count": 28,
     "metadata": {},
     "output_type": "execute_result"
    }
   ],
   "source": [
    "pos_gdf.head(5)"
   ]
  },
  {
   "cell_type": "code",
   "execution_count": 30,
   "id": "75ccc759-5b3c-4235-9f77-4fc9bfab075a",
   "metadata": {},
   "outputs": [],
   "source": []
  },
  {
   "cell_type": "code",
   "execution_count": 31,
   "id": "90be15da-6d36-491e-bb8b-a7afac52ebb7",
   "metadata": {},
   "outputs": [
    {
     "data": {
      "text/plain": [
       "array([ 137.23429403,  137.23429403,  682.61313251,  682.61313251,\n",
       "       1258.19212654])"
      ]
     },
     "execution_count": 31,
     "metadata": {},
     "output_type": "execute_result"
    }
   ],
   "source": [
    "_raw_shape_array[:5]"
   ]
  },
  {
   "cell_type": "code",
   "execution_count": 46,
   "id": "3c5bd15a-422e-49ba-9d1d-27095ce594c2",
   "metadata": {},
   "outputs": [
    {
     "data": {
      "text/plain": [
       "array([1.37234294e+02, 6.82613133e+02, 6.82613133e+02, 1.25819213e+03,\n",
       "       1.63623087e+03, 2.32714948e+03, 2.32714948e+03, 2.32714948e+03,\n",
       "       2.32714948e+03, 3.94883684e+03, 3.94883684e+03, 4.13043171e+03,\n",
       "       4.13043171e+03, 4.12964695e+03, 4.12964695e+03, 4.13302947e+03,\n",
       "       4.13302947e+03, 4.13302947e+03, 4.13302947e+03, 4.13556636e+03,\n",
       "       4.13556636e+03, 4.13556636e+03, 4.13556636e+03, 4.70823876e+03,\n",
       "       4.70823876e+03, 5.13120542e+03, 5.13120542e+03, 5.36652335e+03,\n",
       "       5.63316505e+03, 5.78462973e+03, 5.78462973e+03, 6.70569403e+03,\n",
       "       6.70569403e+03, 7.86851860e+03, 7.86851860e+03, 7.86851860e+03,\n",
       "       7.86851860e+03, 7.86851860e+03, 8.25160058e+01, 8.99847607e+03,\n",
       "       8.99847607e+03, 9.01912268e+03, 9.01912268e+03, 9.01912268e+03,\n",
       "       9.01912268e+03, 9.01912268e+03, 9.01912268e+03, 9.01912268e+03,\n",
       "       9.01912268e+03, 9.01912268e+03, 9.01912268e+03, 9.01912268e+03,\n",
       "       9.01912268e+03, 9.01912268e+03, 9.01912268e+03, 9.01912268e+03,\n",
       "       9.01912268e+03, 9.01912268e+03, 9.01912268e+03, 9.01912268e+03,\n",
       "       9.01912268e+03, 9.01912268e+03, 9.01912268e+03, 9.01912268e+03,\n",
       "       9.01912268e+03, 9.01912268e+03, 9.01912268e+03, 9.01912268e+03,\n",
       "       9.01912268e+03, 9.01912268e+03, 9.01912268e+03, 9.01912268e+03,\n",
       "       9.01912268e+03, 9.01912268e+03, 9.01912268e+03, 9.01912268e+03,\n",
       "       9.01912268e+03, 9.01912268e+03, 9.01912268e+03, 9.01912268e+03,\n",
       "       9.01912268e+03, 9.01912268e+03, 9.01912268e+03, 9.01912268e+03,\n",
       "       9.01912268e+03, 9.01912268e+03, 9.01912268e+03, 9.01912268e+03,\n",
       "       9.01912268e+03, 9.01912268e+03, 9.01912268e+03, 9.01912268e+03,\n",
       "       9.01912268e+03, 9.01912268e+03, 9.01912268e+03, 9.01912268e+03,\n",
       "       9.01912268e+03, 9.01912268e+03, 9.01912268e+03, 9.01912268e+03,\n",
       "       9.01912268e+03, 9.01912268e+03, 9.01912268e+03, 9.01912268e+03,\n",
       "       9.01912268e+03, 9.01912268e+03, 9.01912268e+03, 9.01912268e+03,\n",
       "       9.01912268e+03, 9.01912268e+03, 9.01912268e+03, 9.01912268e+03,\n",
       "       9.01912268e+03, 9.01912268e+03, 9.01912268e+03, 9.01912268e+03,\n",
       "       9.01912268e+03, 9.01912268e+03, 2.93380560e+00])"
      ]
     },
     "execution_count": 46,
     "metadata": {},
     "output_type": "execute_result"
    }
   ],
   "source": [
    "np.roll(_raw_shape_array, -1)[:-1]"
   ]
  },
  {
   "cell_type": "code",
   "execution_count": 32,
   "id": "cc884fb5-ac12-4e19-8fc3-cc94a8494056",
   "metadata": {},
   "outputs": [
    {
     "data": {
      "text/plain": [
       "array([ 0.00000000e+00,  5.45378838e+02,  0.00000000e+00,  5.75578994e+02,\n",
       "        3.78038743e+02,  6.90918611e+02,  0.00000000e+00,  0.00000000e+00,\n",
       "        0.00000000e+00,  1.62168736e+03,  0.00000000e+00,  1.81594872e+02,\n",
       "        0.00000000e+00, -7.84760283e-01,  0.00000000e+00,  3.38251873e+00,\n",
       "        0.00000000e+00,  0.00000000e+00,  0.00000000e+00,  2.53688933e+00,\n",
       "        0.00000000e+00,  0.00000000e+00,  0.00000000e+00,  5.72672406e+02,\n",
       "        0.00000000e+00,  4.22966657e+02,  0.00000000e+00,  2.35317928e+02,\n",
       "        2.66641702e+02,  1.51464685e+02,  0.00000000e+00,  9.21064300e+02,\n",
       "        0.00000000e+00,  1.16282457e+03,  0.00000000e+00,  0.00000000e+00,\n",
       "        0.00000000e+00,  0.00000000e+00, -7.78600260e+03,  8.91596007e+03,\n",
       "        0.00000000e+00,  2.06466081e+01,  0.00000000e+00,  0.00000000e+00,\n",
       "        0.00000000e+00,  0.00000000e+00,  0.00000000e+00,  0.00000000e+00,\n",
       "        0.00000000e+00,  0.00000000e+00,  0.00000000e+00,  0.00000000e+00,\n",
       "        0.00000000e+00,  0.00000000e+00,  0.00000000e+00,  0.00000000e+00,\n",
       "        0.00000000e+00,  0.00000000e+00,  0.00000000e+00,  0.00000000e+00,\n",
       "        0.00000000e+00,  0.00000000e+00,  0.00000000e+00,  0.00000000e+00,\n",
       "        0.00000000e+00,  0.00000000e+00,  0.00000000e+00,  0.00000000e+00,\n",
       "        0.00000000e+00,  0.00000000e+00,  0.00000000e+00,  0.00000000e+00,\n",
       "        0.00000000e+00,  0.00000000e+00,  0.00000000e+00,  0.00000000e+00,\n",
       "        0.00000000e+00,  0.00000000e+00,  0.00000000e+00,  0.00000000e+00,\n",
       "        0.00000000e+00,  0.00000000e+00,  0.00000000e+00,  0.00000000e+00,\n",
       "        0.00000000e+00,  0.00000000e+00,  0.00000000e+00,  0.00000000e+00,\n",
       "        0.00000000e+00,  0.00000000e+00,  0.00000000e+00,  0.00000000e+00,\n",
       "        0.00000000e+00,  0.00000000e+00,  0.00000000e+00,  0.00000000e+00,\n",
       "        0.00000000e+00,  0.00000000e+00,  0.00000000e+00,  0.00000000e+00,\n",
       "        0.00000000e+00,  0.00000000e+00,  0.00000000e+00,  0.00000000e+00,\n",
       "        0.00000000e+00,  0.00000000e+00,  0.00000000e+00,  0.00000000e+00,\n",
       "        0.00000000e+00,  0.00000000e+00,  0.00000000e+00,  0.00000000e+00,\n",
       "        0.00000000e+00,  0.00000000e+00,  0.00000000e+00,  0.00000000e+00,\n",
       "        0.00000000e+00,  0.00000000e+00, -9.01618887e+03])"
      ]
     },
     "execution_count": 32,
     "metadata": {},
     "output_type": "execute_result"
    }
   ],
   "source": [
    "##equiv to pd shift 1 (distance_from_last)\n",
    "(np.roll(_raw_shape_array, -1) - _raw_shape_array)[:-1] ##checked"
   ]
  },
  {
   "cell_type": "code",
   "execution_count": 33,
   "id": "be7c08c6-86c4-47de-9eba-4a7ca4ba51dc",
   "metadata": {},
   "outputs": [
    {
     "data": {
      "text/html": [
       "<div>\n",
       "<style scoped>\n",
       "    .dataframe tbody tr th:only-of-type {\n",
       "        vertical-align: middle;\n",
       "    }\n",
       "\n",
       "    .dataframe tbody tr th {\n",
       "        vertical-align: top;\n",
       "    }\n",
       "\n",
       "    .dataframe thead th {\n",
       "        text-align: right;\n",
       "    }\n",
       "</style>\n",
       "<table border=\"1\" class=\"dataframe\">\n",
       "  <thead>\n",
       "    <tr style=\"text-align: right;\">\n",
       "      <th></th>\n",
       "      <th>vehicle_timestamp</th>\n",
       "      <th>vehicle_position_latitude</th>\n",
       "      <th>vehicle_position_longitude</th>\n",
       "      <th>header_timestamp</th>\n",
       "      <th>geometry</th>\n",
       "      <th>shape_meters</th>\n",
       "      <th>last_time</th>\n",
       "      <th>last_loc</th>\n",
       "      <th>secs_from_last</th>\n",
       "      <th>meters_from_last</th>\n",
       "      <th>progressed</th>\n",
       "      <th>speed_from_last</th>\n",
       "    </tr>\n",
       "  </thead>\n",
       "  <tbody>\n",
       "    <tr>\n",
       "      <th>115</th>\n",
       "      <td>2022-01-12 21:18:28</td>\n",
       "      <td>37.599500</td>\n",
       "      <td>-122.38646</td>\n",
       "      <td>2022-01-12 21:18:52</td>\n",
       "      <td>POINT (-210386.226 -43693.525)</td>\n",
       "      <td>9019.122680</td>\n",
       "      <td>2022-01-12 21:18:06</td>\n",
       "      <td>9019.12268</td>\n",
       "      <td>22.0</td>\n",
       "      <td>0.000000</td>\n",
       "      <td>False</td>\n",
       "      <td>0.000000</td>\n",
       "    </tr>\n",
       "    <tr>\n",
       "      <th>116</th>\n",
       "      <td>2022-01-12 21:19:17</td>\n",
       "      <td>37.599500</td>\n",
       "      <td>-122.38646</td>\n",
       "      <td>2022-01-12 21:19:32</td>\n",
       "      <td>POINT (-210386.226 -43693.525)</td>\n",
       "      <td>9019.122680</td>\n",
       "      <td>2022-01-12 21:18:28</td>\n",
       "      <td>9019.12268</td>\n",
       "      <td>49.0</td>\n",
       "      <td>0.000000</td>\n",
       "      <td>False</td>\n",
       "      <td>0.000000</td>\n",
       "    </tr>\n",
       "    <tr>\n",
       "      <th>117</th>\n",
       "      <td>2022-01-12 21:19:45</td>\n",
       "      <td>37.599500</td>\n",
       "      <td>-122.38646</td>\n",
       "      <td>2022-01-12 21:20:12</td>\n",
       "      <td>POINT (-210386.226 -43693.525)</td>\n",
       "      <td>9019.122680</td>\n",
       "      <td>2022-01-12 21:19:17</td>\n",
       "      <td>9019.12268</td>\n",
       "      <td>28.0</td>\n",
       "      <td>0.000000</td>\n",
       "      <td>False</td>\n",
       "      <td>0.000000</td>\n",
       "    </tr>\n",
       "    <tr>\n",
       "      <th>118</th>\n",
       "      <td>2022-01-12 21:20:11</td>\n",
       "      <td>37.599500</td>\n",
       "      <td>-122.38646</td>\n",
       "      <td>2022-01-12 21:20:27</td>\n",
       "      <td>POINT (-210386.226 -43693.525)</td>\n",
       "      <td>9019.122680</td>\n",
       "      <td>2022-01-12 21:19:45</td>\n",
       "      <td>9019.12268</td>\n",
       "      <td>26.0</td>\n",
       "      <td>0.000000</td>\n",
       "      <td>False</td>\n",
       "      <td>0.000000</td>\n",
       "    </tr>\n",
       "    <tr>\n",
       "      <th>119</th>\n",
       "      <td>2022-01-12 21:20:40</td>\n",
       "      <td>37.599552</td>\n",
       "      <td>-122.38653</td>\n",
       "      <td>2022-01-12 21:21:13</td>\n",
       "      <td>POINT (-210392.251 -43687.590)</td>\n",
       "      <td>2.933806</td>\n",
       "      <td>2022-01-12 21:20:11</td>\n",
       "      <td>9019.12268</td>\n",
       "      <td>29.0</td>\n",
       "      <td>-9016.188875</td>\n",
       "      <td>False</td>\n",
       "      <td>-310.903065</td>\n",
       "    </tr>\n",
       "  </tbody>\n",
       "</table>\n",
       "</div>"
      ],
      "text/plain": [
       "      vehicle_timestamp  vehicle_position_latitude  \\\n",
       "115 2022-01-12 21:18:28                  37.599500   \n",
       "116 2022-01-12 21:19:17                  37.599500   \n",
       "117 2022-01-12 21:19:45                  37.599500   \n",
       "118 2022-01-12 21:20:11                  37.599500   \n",
       "119 2022-01-12 21:20:40                  37.599552   \n",
       "\n",
       "     vehicle_position_longitude    header_timestamp  \\\n",
       "115                  -122.38646 2022-01-12 21:18:52   \n",
       "116                  -122.38646 2022-01-12 21:19:32   \n",
       "117                  -122.38646 2022-01-12 21:20:12   \n",
       "118                  -122.38646 2022-01-12 21:20:27   \n",
       "119                  -122.38653 2022-01-12 21:21:13   \n",
       "\n",
       "                           geometry  shape_meters           last_time  \\\n",
       "115  POINT (-210386.226 -43693.525)   9019.122680 2022-01-12 21:18:06   \n",
       "116  POINT (-210386.226 -43693.525)   9019.122680 2022-01-12 21:18:28   \n",
       "117  POINT (-210386.226 -43693.525)   9019.122680 2022-01-12 21:19:17   \n",
       "118  POINT (-210386.226 -43693.525)   9019.122680 2022-01-12 21:19:45   \n",
       "119  POINT (-210392.251 -43687.590)      2.933806 2022-01-12 21:20:11   \n",
       "\n",
       "       last_loc  secs_from_last  meters_from_last  progressed  speed_from_last  \n",
       "115  9019.12268            22.0          0.000000       False         0.000000  \n",
       "116  9019.12268            49.0          0.000000       False         0.000000  \n",
       "117  9019.12268            28.0          0.000000       False         0.000000  \n",
       "118  9019.12268            26.0          0.000000       False         0.000000  \n",
       "119  9019.12268            29.0      -9016.188875       False      -310.903065  "
      ]
     },
     "execution_count": 33,
     "metadata": {},
     "output_type": "execute_result"
    }
   ],
   "source": [
    "pos_gdf.tail(5)"
   ]
  },
  {
   "cell_type": "code",
   "execution_count": 41,
   "id": "cc9105bb-0782-4b87-8f4b-8bd7c6316912",
   "metadata": {},
   "outputs": [
    {
     "data": {
      "text/plain": [
       "array([1.64201878e+09, 1.64201881e+09, 1.64201887e+09, 1.64201890e+09,\n",
       "       1.64201893e+09, 1.64201899e+09, 1.64201902e+09, 1.64201905e+09,\n",
       "       1.64201908e+09, 1.64201911e+09, 1.64201914e+09, 1.64201916e+09,\n",
       "       1.64201920e+09, 1.64201922e+09, 1.64201926e+09, 1.64201929e+09,\n",
       "       1.64201932e+09, 1.64201934e+09, 1.64201937e+09, 1.64201939e+09,\n",
       "       1.64201943e+09, 1.64201946e+09, 1.64201950e+09, 1.64201952e+09,\n",
       "       1.64201954e+09, 1.64201958e+09, 1.64201961e+09, 1.64201964e+09,\n",
       "       1.64201967e+09, 1.64201970e+09, 1.64201973e+09, 1.64201976e+09,\n",
       "       1.64201980e+09, 1.64201982e+09, 1.64201985e+09, 1.64201989e+09,\n",
       "       1.64201992e+09, 1.64201995e+09, 1.64201998e+09, 1.64202001e+09,\n",
       "       1.64202003e+09, 1.64202006e+09, 1.64202008e+09, 1.64202012e+09,\n",
       "       1.64202015e+09, 1.64202018e+09, 1.64202021e+09, 1.64202024e+09,\n",
       "       1.64202027e+09, 1.64202030e+09, 1.64202034e+09, 1.64202036e+09,\n",
       "       1.64202039e+09, 1.64202042e+09, 1.64202044e+09, 1.64202048e+09,\n",
       "       1.64202052e+09, 1.64202054e+09, 1.64202060e+09, 1.64202066e+09,\n",
       "       1.64202069e+09, 1.64202071e+09, 1.64202074e+09, 1.64202076e+09,\n",
       "       1.64202081e+09, 1.64202084e+09, 1.64202087e+09, 1.64202089e+09,\n",
       "       1.64202093e+09, 1.64202096e+09, 1.64202099e+09, 1.64202102e+09,\n",
       "       1.64202104e+09, 1.64202107e+09, 1.64202111e+09, 1.64202114e+09,\n",
       "       1.64202120e+09, 1.64202122e+09, 1.64202126e+09, 1.64202129e+09,\n",
       "       1.64202132e+09, 1.64202135e+09, 1.64202138e+09, 1.64202141e+09,\n",
       "       1.64202144e+09, 1.64202147e+09, 1.64202149e+09, 1.64202152e+09,\n",
       "       1.64202156e+09, 1.64202159e+09, 1.64202162e+09, 1.64202165e+09,\n",
       "       1.64202168e+09, 1.64202171e+09, 1.64202173e+09, 1.64202177e+09,\n",
       "       1.64202179e+09, 1.64202181e+09, 1.64202186e+09, 1.64202188e+09,\n",
       "       1.64202191e+09, 1.64202194e+09, 1.64202198e+09, 1.64202201e+09,\n",
       "       1.64202204e+09, 1.64202206e+09, 1.64202210e+09, 1.64202213e+09,\n",
       "       1.64202216e+09, 1.64202218e+09, 1.64202221e+09, 1.64202224e+09,\n",
       "       1.64202226e+09, 1.64202229e+09, 1.64202231e+09, 1.64202236e+09,\n",
       "       1.64202238e+09, 1.64202241e+09, 1.64202244e+09, 1.64201874e+09])"
      ]
     },
     "execution_count": 41,
     "metadata": {},
     "output_type": "execute_result"
    }
   ],
   "source": [
    "np.roll(_raw_dt_array, -1)"
   ]
  },
  {
   "cell_type": "code",
   "execution_count": 34,
   "id": "804b43b3-a4d4-4343-9dd3-a0d4135e6335",
   "metadata": {},
   "outputs": [
    {
     "data": {
      "text/plain": [
       "array([30., 33., 60., 32., 29., 58., 30., 31., 31., 27., 30., 28., 32.,\n",
       "       29., 30., 31., 33., 23., 28., 22., 38., 33., 33., 26., 22., 36.,\n",
       "       31., 25., 38., 30., 22., 32., 37., 28., 30., 35., 30., 32., 34.,\n",
       "       28., 22., 27., 21., 33., 36., 31., 32., 31., 27., 33., 30., 30.,\n",
       "       27., 29., 24., 33., 38., 27., 53., 62., 29., 26., 29., 22., 45.,\n",
       "       30., 28., 24., 35., 29., 32., 30., 26., 29., 35., 34., 55., 26.,\n",
       "       35., 32., 28., 32., 30., 31., 29., 29., 23., 34., 33., 33., 31.,\n",
       "       29., 30., 28., 25., 32., 26., 22., 43., 28., 28., 26., 40., 32.,\n",
       "       28., 25., 40., 29., 22., 28., 31., 29., 21., 22., 22., 49., 28.,\n",
       "       26., 29.])"
      ]
     },
     "execution_count": 34,
     "metadata": {},
     "output_type": "execute_result"
    }
   ],
   "source": [
    "##equiv to pd shift 1 (secs_from_last)\n",
    "(np.roll(_raw_dt_array, -1) - _raw_dt_array)[:-1] ##checked"
   ]
  },
  {
   "cell_type": "code",
   "execution_count": 37,
   "id": "d3ab09b0-de8a-4555-b9d0-a496ec621285",
   "metadata": {},
   "outputs": [
    {
     "data": {
      "text/plain": [
       "array([  1,   2,   3,   4,   5,   6,   7,   8,   9,  10,  11,  12,  13,\n",
       "        14,  15,  16,  17,  18,  19,  20,  21,  22,  23,  24,  25,  26,\n",
       "        27,  28,  29,  30,  31,  32,  33,  34,  35,  36,  37,  38,  39,\n",
       "        40,  41,  42,  43,  44,  45,  46,  47,  48,  49,  50,  51,  52,\n",
       "        53,  54,  55,  56,  57,  58,  59,  60,  61,  62,  63,  64,  65,\n",
       "        66,  67,  68,  69,  70,  71,  72,  73,  74,  75,  76,  77,  78,\n",
       "        79,  80,  81,  82,  83,  84,  85,  86,  87,  88,  89,  90,  91,\n",
       "        92,  93,  94,  95,  96,  97,  98,  99, 100, 101, 102, 103, 104,\n",
       "       105, 106, 107, 108, 109, 110, 111, 112, 113, 114, 115, 116, 117,\n",
       "       118, 119])"
      ]
     },
     "execution_count": 37,
     "metadata": {},
     "output_type": "execute_result"
    }
   ],
   "source": [
    "##equiv to pd shift 1 (index)\n",
    "np.roll(_ix_array, -1)[:-1]"
   ]
  },
  {
   "cell_type": "code",
   "execution_count": 29,
   "id": "90516ecd-e37b-4f76-b8e9-9a8266692e86",
   "metadata": {},
   "outputs": [],
   "source": [
    "@jit\n",
    "def integrate_f_numba(a, b, N):\n",
    "    s = 0\n",
    "    dx = (b - a) / N\n",
    "    for i in range(N):\n",
    "        s += f_plain(a + i * dx)\n",
    "    return s * dx"
   ]
  },
  {
   "cell_type": "code",
   "execution_count": 56,
   "id": "1cc12372-f798-46bb-88f2-3b1e991c31cb",
   "metadata": {},
   "outputs": [],
   "source": [
    "@jit(nopython=True)\n",
    "def apply_shift_calculate_numba(ix_array, dt_array, shape_array):\n",
    "## generate arrays for last time, last loc, secs from last, meters from last...\n",
    "    n = len(dt_array)\n",
    "    # result = np.empty(n, dtype=\"float64\")\n",
    "    assert len(ix_array) == len(shape_array) == n\n",
    "    \n",
    "    last_loc = np.roll(shape_array, -1)[:-1]\n",
    "    # last_loc = np.insert(last_loc, 0, np.nan, axis=0) ## prepend NaN to match pd behavior\n",
    "    last_time = np.roll(dt_array, -1)[:-1]\n",
    "    # last_time = np.insert(last_time, 0, np.nan, axis=0) ## prepend NaN to match pd behavior\n",
    "    ##equiv to pd shift 1 (distance_from_last)\n",
    "    meters_from_last = (np.roll(shape_array, -1) - shape_array)[:-1] ##checked\n",
    "    # meters_from_last = np.insert(meters_from_last, 0, np.nan, axis=0) ## prepend NaN to match pd behavior\n",
    "    ##equiv to pd shift 1 (secs_from_last)\n",
    "    seconds_from_last = (np.roll(dt_array, -1) - dt_array)[:-1] ##checked\n",
    "    # seconds_from_last = np.insert(seconds_from_last, 0, np.nan, axis=0) ## prepend NaN to match pd behavior\n",
    "    \n",
    "    speed_from_last = np.divide(meters_from_last, seconds_from_last)\n",
    "    \n",
    "    \n",
    "    \n",
    "    # for i in range(n):\n",
    "    #     if i == 0:\n",
    "    #         result[1]\n",
    "    #     result[i] = integrate_f_numba(col_a[i], col_b[i], col_N[i])\n",
    "    return last_time, last_loc, meters_from_last, seconds_from_last, speed_from_last"
   ]
  },
  {
   "cell_type": "code",
   "execution_count": 39,
   "id": "f7e26712-0922-4cf4-8d4f-a39b5c1b5af7",
   "metadata": {},
   "outputs": [
    {
     "data": {
      "text/plain": [
       "[0, 1, 2, 3, 4, 5, 6, 7, 8, 9, 10, 11, 12, 13, 14, 15, 16, 17, 18, 19]"
      ]
     },
     "execution_count": 39,
     "metadata": {},
     "output_type": "execute_result"
    }
   ],
   "source": [
    "list(range(20))"
   ]
  },
  {
   "cell_type": "code",
   "execution_count": null,
   "id": "ee174855-fca4-431c-87ea-38e45287c245",
   "metadata": {},
   "outputs": [],
   "source": [
    "last_time = last_time.map(lambda x: dt.datetime.utcfromtimestamp(x))"
   ]
  },
  {
   "cell_type": "code",
   "execution_count": null,
   "id": "b2da8203-fab3-4faf-90c8-4a174e5f46a3",
   "metadata": {},
   "outputs": [],
   "source": [
    "vehicle_positions['progressed'] = vehicle_positions['meters_from_last'] > 0 ## has the bus moved ahead?\n",
    "vehicle_positions['speed_from_last'] = (vehicle_positions.meters_from_last\n",
    "                                             / vehicle_positions.secs_from_last) ## meters/second"
   ]
  },
  {
   "cell_type": "code",
   "execution_count": 65,
   "id": "e60335e5-9c85-4459-b7be-3170611f7ddf",
   "metadata": {},
   "outputs": [],
   "source": [
    "test_tuple = apply_shift_calculate_numba(_ix_array, _raw_dt_array, _raw_shape_array)"
   ]
  },
  {
   "cell_type": "code",
   "execution_count": 72,
   "id": "0d226350-e5d4-4f94-8815-0e2338afd108",
   "metadata": {},
   "outputs": [],
   "source": [
    "with_na = [np.insert(array, 0, np.nan, axis=0) for array in test_tuple]"
   ]
  },
  {
   "cell_type": "code",
   "execution_count": 88,
   "id": "5d96828e-78e6-442d-9db0-3eb80922d203",
   "metadata": {},
   "outputs": [],
   "source": [
    "def map_dt_or_nan(timestamp):\n",
    "    # print(timestamp)\n",
    "    if  np.isnan(timestamp):\n",
    "        return np.nan\n",
    "    else:\n",
    "        return dt.datetime.utcfromtimestamp(timestamp)"
   ]
  },
  {
   "cell_type": "code",
   "execution_count": 91,
   "id": "6a0b7991-8f34-4dc9-9111-a5c835a059ef",
   "metadata": {},
   "outputs": [],
   "source": [
    "back_to_dt = np.array([map_dt_or_nan(x) for x in with_na[0]]) ##nice!\n",
    "with_na[0] = back_to_dt ##with na could be your result? (check...)\n",
    "##TODO add progressed, wrapper..."
   ]
  },
  {
   "cell_type": "code",
   "execution_count": null,
   "id": "582ec531-bc95-46dd-9df9-3131a052b1ed",
   "metadata": {},
   "outputs": [],
   "source": []
  }
 ],
 "metadata": {
  "kernelspec": {
   "display_name": "Python 3 (ipykernel)",
   "language": "python",
   "name": "python3"
  },
  "language_info": {
   "codemirror_mode": {
    "name": "ipython",
    "version": 3
   },
   "file_extension": ".py",
   "mimetype": "text/x-python",
   "name": "python",
   "nbconvert_exporter": "python",
   "pygments_lexer": "ipython3",
   "version": "3.9.7"
  }
 },
 "nbformat": 4,
 "nbformat_minor": 5
}
