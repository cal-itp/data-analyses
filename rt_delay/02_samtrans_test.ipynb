{
 "cells": [
  {
   "cell_type": "code",
   "execution_count": 1,
   "id": "ab6b505a-68af-490c-88ea-af5f01ddf765",
   "metadata": {},
   "outputs": [
    {
     "name": "stderr",
     "output_type": "stream",
     "text": [
      "/opt/conda/lib/python3.9/site-packages/geopandas/_compat.py:111: UserWarning: The Shapely GEOS version (3.9.1-CAPI-1.14.2) is incompatible with the GEOS version PyGEOS was compiled with (3.10.1-CAPI-1.16.0). Conversions between both will be slow.\n",
      "  warnings.warn(\n"
     ]
    }
   ],
   "source": [
    "import os\n",
    "os.environ[\"CALITP_BQ_MAX_BYTES\"] = str(100_000_000_000)\n",
    "\n",
    "from calitp.tables import tbl\n",
    "from calitp import query_sql\n",
    "import calitp.magics\n",
    "import branca\n",
    "\n",
    "import shared_utils\n",
    "import utils\n",
    "\n",
    "from siuba import *\n",
    "import pandas as pd\n",
    "import geopandas as gpd\n",
    "import shapely\n",
    "\n",
    "import datetime as dt\n",
    "import time\n",
    "from zoneinfo import ZoneInfo\n",
    "\n",
    "import rt_analysis as rt\n",
    "import importlib\n",
    "\n",
    "import gcsfs\n",
    "fs = gcsfs.GCSFileSystem()"
   ]
  },
  {
   "cell_type": "code",
   "execution_count": 2,
   "id": "eb73cc0e-5851-4a47-8b68-17e39f213187",
   "metadata": {},
   "outputs": [],
   "source": [
    "analysis_date = dt.date(2022, 1, 12)"
   ]
  },
  {
   "cell_type": "code",
   "execution_count": 3,
   "id": "eb406d37-ef09-431c-81a7-74478eb1389c",
   "metadata": {},
   "outputs": [],
   "source": [
    "samtrans_itp_id = 290"
   ]
  },
  {
   "cell_type": "code",
   "execution_count": 4,
   "id": "edda88f3-b348-4983-b41a-c8eb836faf29",
   "metadata": {},
   "outputs": [
    {
     "data": {
      "text/plain": [
       "<module 'rt_analysis' from '/home/jovyan/data-analyses/rt_delay/rt_analysis.py'>"
      ]
     },
     "execution_count": 4,
     "metadata": {},
     "output_type": "execute_result"
    }
   ],
   "source": [
    "importlib.reload(utils)\n",
    "importlib.reload(rt)"
   ]
  },
  {
   "cell_type": "code",
   "execution_count": 5,
   "id": "ba09e8a3-c24a-4b90-bfb8-1306d95fc3a8",
   "metadata": {},
   "outputs": [],
   "source": [
    "colorscale = branca.colormap.step.RdYlGn_10.scale(vmin=0, \n",
    " vmax=30)\n",
    "colorscale.caption = \"Speed (miles per hour)\""
   ]
  },
  {
   "cell_type": "code",
   "execution_count": 6,
   "id": "4836b058-5a08-4d25-ac40-fa0d1cb5266e",
   "metadata": {},
   "outputs": [],
   "source": [
    "from tqdm import tqdm_notebook"
   ]
  },
  {
   "cell_type": "code",
   "execution_count": 7,
   "id": "1a4def43-5855-497f-9623-4c69866061eb",
   "metadata": {},
   "outputs": [],
   "source": [
    "from tqdm.notebook import trange, tqdm"
   ]
  },
  {
   "cell_type": "code",
   "execution_count": 8,
   "id": "c1990afc-3d85-4217-ac28-58c9f0c5dd01",
   "metadata": {},
   "outputs": [
    {
     "data": {
      "application/vnd.jupyter.widget-view+json": {
       "model_id": "9c0fb7d5fd3d4c65afbb4c207016f734",
       "version_major": 2,
       "version_minor": 0
      },
      "text/plain": [
       "0it [00:00, ?it/s]"
      ]
     },
     "metadata": {},
     "output_type": "display_data"
    }
   ],
   "source": [
    "pbar = tqdm()"
   ]
  },
  {
   "cell_type": "code",
   "execution_count": 9,
   "id": "bf2c9ed1-f376-4b3a-8430-338d2bef56d1",
   "metadata": {},
   "outputs": [],
   "source": [
    "## running about 2 minutes for interpolators, about 20 for delay(!)"
   ]
  },
  {
   "cell_type": "code",
   "execution_count": 10,
   "id": "911504f2-6efd-4b31-aff9-e55d8598066a",
   "metadata": {
    "tags": []
   },
   "outputs": [],
   "source": [
    "%%capture\n",
    "sam = rt.OperatorDayAnalysis(samtrans_itp_id, analysis_date, pbar)"
   ]
  },
  {
   "cell_type": "code",
   "execution_count": 13,
   "id": "530f6807-e30d-44e7-bfa2-00d6f2aebc8d",
   "metadata": {},
   "outputs": [
    {
     "data": {
      "text/html": [
       "<div>\n",
       "<style scoped>\n",
       "    .dataframe tbody tr th:only-of-type {\n",
       "        vertical-align: middle;\n",
       "    }\n",
       "\n",
       "    .dataframe tbody tr th {\n",
       "        vertical-align: top;\n",
       "    }\n",
       "\n",
       "    .dataframe thead th {\n",
       "        text-align: right;\n",
       "    }\n",
       "</style>\n",
       "<table border=\"1\" class=\"dataframe\">\n",
       "  <thead>\n",
       "    <tr style=\"text-align: right;\">\n",
       "      <th></th>\n",
       "      <th>stop_id</th>\n",
       "      <th>stop_name</th>\n",
       "      <th>mean_delay</th>\n",
       "      <th>max_delay</th>\n",
       "    </tr>\n",
       "  </thead>\n",
       "  <tbody>\n",
       "    <tr>\n",
       "      <th>715</th>\n",
       "      <td>334620</td>\n",
       "      <td>South SF BART-Bay 5 Westside Busway</td>\n",
       "      <td>0 days 00:26:28.198510</td>\n",
       "      <td>0 days 00:26:28.198510</td>\n",
       "    </tr>\n",
       "    <tr>\n",
       "      <th>1192</th>\n",
       "      <td>343118</td>\n",
       "      <td>Alameda de las Pulgas &amp; Alma St</td>\n",
       "      <td>0 days 00:18:37.985408200</td>\n",
       "      <td>0 days 00:22:35.850843</td>\n",
       "    </tr>\n",
       "    <tr>\n",
       "      <th>269</th>\n",
       "      <td>331100</td>\n",
       "      <td>SF Transit Center - BART shuttle connection</td>\n",
       "      <td>0 days 00:17:02.684474</td>\n",
       "      <td>0 days 00:17:02.684474</td>\n",
       "    </tr>\n",
       "  </tbody>\n",
       "</table>\n",
       "</div>"
      ],
      "text/plain": [
       "     stop_id                                    stop_name  \\\n",
       "715   334620          South SF BART-Bay 5 Westside Busway   \n",
       "1192  343118              Alameda de las Pulgas & Alma St   \n",
       "269   331100  SF Transit Center - BART shuttle connection   \n",
       "\n",
       "                    mean_delay              max_delay  \n",
       "715     0 days 00:26:28.198510 0 days 00:26:28.198510  \n",
       "1192 0 days 00:18:37.985408200 0 days 00:22:35.850843  \n",
       "269     0 days 00:17:02.684474 0 days 00:17:02.684474  "
      ]
     },
     "execution_count": 13,
     "metadata": {},
     "output_type": "execute_result"
    }
   ],
   "source": [
    "(sam.stop_delay_view\n",
    " >> group_by(_.stop_id, _.stop_name)\n",
    " >> summarize(mean_delay = _.delay.mean(), max_delay = _.delay.max())\n",
    " >> arrange(-_.mean_delay)) >> head(3)"
   ]
  },
  {
   "cell_type": "code",
   "execution_count": 14,
   "id": "4d85c9a4-5355-451c-9494-09620d538f13",
   "metadata": {},
   "outputs": [],
   "source": [
    "sam.set_filter(start_time='15:00', end_time='19:00', direction_id='1')"
   ]
  },
  {
   "cell_type": "code",
   "execution_count": 15,
   "id": "e76328d8-7587-48d8-94d2-0265326e0d22",
   "metadata": {},
   "outputs": [
    {
     "data": {
      "text/plain": [
       "{'start_time': datetime.time(15, 0),\n",
       " 'end_time': datetime.time(19, 0),\n",
       " 'route_ids': None,\n",
       " 'direction_id': '1',\n",
       " 'direction': None}"
      ]
     },
     "execution_count": 15,
     "metadata": {},
     "output_type": "execute_result"
    }
   ],
   "source": [
    "sam.filter"
   ]
  },
  {
   "cell_type": "code",
   "execution_count": 16,
   "id": "f9656d52-99ff-4459-a04a-e48914527afa",
   "metadata": {
    "tags": []
   },
   "outputs": [],
   "source": [
    "%%capture\n",
    "m = sam.segment_speed_map(colorscale=colorscale)"
   ]
  },
  {
   "cell_type": "code",
   "execution_count": 18,
   "id": "953f6b71-3a37-4f7e-83ed-88939959ecfb",
   "metadata": {},
   "outputs": [],
   "source": [
    "# m"
   ]
  },
  {
   "cell_type": "markdown",
   "id": "89116519-3abb-4786-9a76-26c601bb1fe8",
   "metadata": {},
   "source": [
    "### speedup ideas\n",
    "\n",
    "* selective use of numba @jit decorator in computation-heavy methods?\n",
    "    * likely requires refactor to plain np, translation, etc...\n",
    "    * done for time_at_position with wonderful results (60x speedup) "
   ]
  },
  {
   "cell_type": "code",
   "execution_count": null,
   "id": "4f11ae8e-2c21-421c-a926-93b246f94dc5",
   "metadata": {},
   "outputs": [],
   "source": [
    "# rt.TripPositionInterpolator.detailed_speed_map(ex1)"
   ]
  }
 ],
 "metadata": {
  "kernelspec": {
   "display_name": "Python 3 (ipykernel)",
   "language": "python",
   "name": "python3"
  },
  "language_info": {
   "codemirror_mode": {
    "name": "ipython",
    "version": 3
   },
   "file_extension": ".py",
   "mimetype": "text/x-python",
   "name": "python",
   "nbconvert_exporter": "python",
   "pygments_lexer": "ipython3",
   "version": "3.9.7"
  }
 },
 "nbformat": 4,
 "nbformat_minor": 5
}
