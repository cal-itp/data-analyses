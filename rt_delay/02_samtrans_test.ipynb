{
 "cells": [
  {
   "cell_type": "code",
   "execution_count": 1,
   "id": "ab6b505a-68af-490c-88ea-af5f01ddf765",
   "metadata": {},
   "outputs": [
    {
     "name": "stderr",
     "output_type": "stream",
     "text": [
      "/opt/conda/lib/python3.9/site-packages/geopandas/_compat.py:111: UserWarning: The Shapely GEOS version (3.9.1-CAPI-1.14.2) is incompatible with the GEOS version PyGEOS was compiled with (3.10.1-CAPI-1.16.0). Conversions between both will be slow.\n",
      "  warnings.warn(\n"
     ]
    }
   ],
   "source": [
    "import os\n",
    "os.environ[\"CALITP_BQ_MAX_BYTES\"] = str(100_000_000_000)\n",
    "\n",
    "from calitp.tables import tbl\n",
    "from calitp import query_sql\n",
    "import calitp.magics\n",
    "import branca\n",
    "\n",
    "import shared_utils\n",
    "import utils\n",
    "\n",
    "from siuba import *\n",
    "import pandas as pd\n",
    "import geopandas as gpd\n",
    "import shapely\n",
    "\n",
    "import datetime as dt\n",
    "import time\n",
    "from zoneinfo import ZoneInfo\n",
    "\n",
    "import rt_analysis as rt\n",
    "import importlib\n",
    "\n",
    "import gcsfs\n",
    "fs = gcsfs.GCSFileSystem()"
   ]
  },
  {
   "cell_type": "code",
   "execution_count": 2,
   "id": "eb73cc0e-5851-4a47-8b68-17e39f213187",
   "metadata": {},
   "outputs": [],
   "source": [
    "analysis_date = dt.date(2022, 1, 12)"
   ]
  },
  {
   "cell_type": "code",
   "execution_count": 3,
   "id": "eb406d37-ef09-431c-81a7-74478eb1389c",
   "metadata": {},
   "outputs": [],
   "source": [
    "samtrans_itp_id = 290"
   ]
  },
  {
   "cell_type": "code",
   "execution_count": 4,
   "id": "edda88f3-b348-4983-b41a-c8eb836faf29",
   "metadata": {},
   "outputs": [
    {
     "data": {
      "text/plain": [
       "<module 'rt_analysis' from '/home/jovyan/data-analyses/rt_delay/rt_analysis.py'>"
      ]
     },
     "execution_count": 4,
     "metadata": {},
     "output_type": "execute_result"
    }
   ],
   "source": [
    "importlib.reload(utils)\n",
    "importlib.reload(rt)"
   ]
  },
  {
   "cell_type": "code",
   "execution_count": 5,
   "id": "ba09e8a3-c24a-4b90-bfb8-1306d95fc3a8",
   "metadata": {},
   "outputs": [],
   "source": [
    "colorscale = branca.colormap.step.RdYlGn_10.scale(vmin=0, \n",
    " vmax=30)\n",
    "colorscale.caption = \"Speed (miles per hour)\""
   ]
  },
  {
   "cell_type": "code",
   "execution_count": 6,
   "id": "4836b058-5a08-4d25-ac40-fa0d1cb5266e",
   "metadata": {},
   "outputs": [],
   "source": [
    "from tqdm import tqdm_notebook"
   ]
  },
  {
   "cell_type": "code",
   "execution_count": 7,
   "id": "1a4def43-5855-497f-9623-4c69866061eb",
   "metadata": {},
   "outputs": [],
   "source": [
    "from tqdm.notebook import trange, tqdm"
   ]
  },
  {
   "cell_type": "code",
   "execution_count": 8,
   "id": "c1990afc-3d85-4217-ac28-58c9f0c5dd01",
   "metadata": {},
   "outputs": [
    {
     "data": {
      "application/vnd.jupyter.widget-view+json": {
       "model_id": "325b0b101c9043779aea1e27586a8bb3",
       "version_major": 2,
       "version_minor": 0
      },
      "text/plain": [
       "0it [00:00, ?it/s]"
      ]
     },
     "metadata": {},
     "output_type": "display_data"
    }
   ],
   "source": [
    "pbar = tqdm()"
   ]
  },
  {
   "cell_type": "code",
   "execution_count": 9,
   "id": "bf2c9ed1-f376-4b3a-8430-338d2bef56d1",
   "metadata": {},
   "outputs": [],
   "source": [
    "## running about 2 minutes for interpolators, about 20 for delay(!)"
   ]
  },
  {
   "cell_type": "code",
   "execution_count": 10,
   "id": "911504f2-6efd-4b31-aff9-e55d8598066a",
   "metadata": {
    "tags": []
   },
   "outputs": [],
   "source": [
    "%%capture\n",
    "sam = rt.OperatorDayAnalysis(samtrans_itp_id, analysis_date, pbar)"
   ]
  },
  {
   "cell_type": "code",
   "execution_count": 11,
   "id": "530f6807-e30d-44e7-bfa2-00d6f2aebc8d",
   "metadata": {},
   "outputs": [
    {
     "data": {
      "text/html": [
       "<div>\n",
       "<style scoped>\n",
       "    .dataframe tbody tr th:only-of-type {\n",
       "        vertical-align: middle;\n",
       "    }\n",
       "\n",
       "    .dataframe tbody tr th {\n",
       "        vertical-align: top;\n",
       "    }\n",
       "\n",
       "    .dataframe thead th {\n",
       "        text-align: right;\n",
       "    }\n",
       "</style>\n",
       "<table border=\"1\" class=\"dataframe\">\n",
       "  <thead>\n",
       "    <tr style=\"text-align: right;\">\n",
       "      <th></th>\n",
       "      <th>stop_id</th>\n",
       "      <th>stop_name</th>\n",
       "      <th>mean_delay</th>\n",
       "      <th>max_delay</th>\n",
       "    </tr>\n",
       "  </thead>\n",
       "  <tbody>\n",
       "    <tr>\n",
       "      <th>715</th>\n",
       "      <td>334620</td>\n",
       "      <td>South SF BART-Bay 5 Westside Busway</td>\n",
       "      <td>0 days 00:26:28.198510</td>\n",
       "      <td>0 days 00:26:28.198510</td>\n",
       "    </tr>\n",
       "    <tr>\n",
       "      <th>1192</th>\n",
       "      <td>343118</td>\n",
       "      <td>Alameda de las Pulgas &amp; Alma St</td>\n",
       "      <td>0 days 00:18:37.985408200</td>\n",
       "      <td>0 days 00:22:35.850843</td>\n",
       "    </tr>\n",
       "    <tr>\n",
       "      <th>269</th>\n",
       "      <td>331100</td>\n",
       "      <td>SF Transit Center - BART shuttle connection</td>\n",
       "      <td>0 days 00:17:02.684474</td>\n",
       "      <td>0 days 00:17:02.684474</td>\n",
       "    </tr>\n",
       "  </tbody>\n",
       "</table>\n",
       "</div>"
      ],
      "text/plain": [
       "     stop_id                                    stop_name  \\\n",
       "715   334620          South SF BART-Bay 5 Westside Busway   \n",
       "1192  343118              Alameda de las Pulgas & Alma St   \n",
       "269   331100  SF Transit Center - BART shuttle connection   \n",
       "\n",
       "                    mean_delay              max_delay  \n",
       "715     0 days 00:26:28.198510 0 days 00:26:28.198510  \n",
       "1192 0 days 00:18:37.985408200 0 days 00:22:35.850843  \n",
       "269     0 days 00:17:02.684474 0 days 00:17:02.684474  "
      ]
     },
     "execution_count": 11,
     "metadata": {},
     "output_type": "execute_result"
    }
   ],
   "source": [
    "(sam.stop_delay_view\n",
    " >> group_by(_.stop_id, _.stop_name)\n",
    " >> summarize(mean_delay = _.delay.mean(), max_delay = _.delay.max())\n",
    " >> arrange(-_.mean_delay)) >> head(3)"
   ]
  },
  {
   "cell_type": "code",
   "execution_count": 12,
   "id": "4d85c9a4-5355-451c-9494-09620d538f13",
   "metadata": {},
   "outputs": [],
   "source": [
    "sam.set_filter(start_time='15:00', end_time='19:00', direction_id='1')"
   ]
  },
  {
   "cell_type": "code",
   "execution_count": 13,
   "id": "e76328d8-7587-48d8-94d2-0265326e0d22",
   "metadata": {},
   "outputs": [
    {
     "data": {
      "text/plain": [
       "{'start_time': datetime.time(15, 0),\n",
       " 'end_time': datetime.time(19, 0),\n",
       " 'route_ids': None,\n",
       " 'direction_id': '1',\n",
       " 'direction': None}"
      ]
     },
     "execution_count": 13,
     "metadata": {},
     "output_type": "execute_result"
    }
   ],
   "source": [
    "sam.filter"
   ]
  },
  {
   "cell_type": "code",
   "execution_count": 37,
   "id": "f9656d52-99ff-4459-a04a-e48914527afa",
   "metadata": {
    "tags": []
   },
   "outputs": [],
   "source": [
    "# %%capture\n",
    "# m = sam.segment_speed_map(colorscale=colorscale)"
   ]
  },
  {
   "cell_type": "code",
   "execution_count": 38,
   "id": "953f6b71-3a37-4f7e-83ed-88939959ecfb",
   "metadata": {},
   "outputs": [],
   "source": [
    "# m"
   ]
  },
  {
   "cell_type": "markdown",
   "id": "89116519-3abb-4786-9a76-26c601bb1fe8",
   "metadata": {},
   "source": [
    "### speedup sandbox\n",
    "\n",
    "* selective use of numba @jit decorator in computation-heavy methods?\n",
    "    * likely requires refactor to plain np, translation, etc...\n",
    "    * done for time_at_position with wonderful results (60x speedup)\n",
    "    * harder to do for shift_calculate, giving up for now to focus on more important things"
   ]
  },
  {
   "cell_type": "code",
   "execution_count": 48,
   "id": "17bf689e-c85e-48d1-a6e0-309a7efa131b",
   "metadata": {},
   "outputs": [],
   "source": [
    "from numba import jit"
   ]
  },
  {
   "cell_type": "code",
   "execution_count": 49,
   "id": "d6124e2f-e6d5-43a1-8d67-33159db977ab",
   "metadata": {},
   "outputs": [
    {
     "data": {
      "text/plain": [
       "<module 'rt_analysis' from '/home/jovyan/data-analyses/rt_delay/rt_analysis.py'>"
      ]
     },
     "execution_count": 49,
     "metadata": {},
     "output_type": "execute_result"
    }
   ],
   "source": [
    "importlib.reload(rt)"
   ]
  },
  {
   "cell_type": "code",
   "execution_count": 50,
   "id": "4f11ae8e-2c21-421c-a926-93b246f94dc5",
   "metadata": {},
   "outputs": [],
   "source": [
    "one_interpolator = sam.position_interpolators['11030732-136-Blocks-Weekday-54']['rt']"
   ]
  },
  {
   "cell_type": "code",
   "execution_count": 51,
   "id": "5410afcb-8ce1-4fde-9f19-4e3ed43882ce",
   "metadata": {},
   "outputs": [],
   "source": [
    "pos_gdf = one_interpolator.position_gdf.copy()"
   ]
  },
  {
   "cell_type": "code",
   "execution_count": 52,
   "id": "d6fb28ee-4af9-4795-a4d9-a955e29bfbb0",
   "metadata": {},
   "outputs": [],
   "source": [
    "_ix_array = pos_gdf.index.to_numpy().astype('float64')"
   ]
  },
  {
   "cell_type": "code",
   "execution_count": 53,
   "id": "0444d1c0-7804-4fc0-a0e6-eb4b2fddf91e",
   "metadata": {},
   "outputs": [
    {
     "data": {
      "text/plain": [
       "array([1.64196636e+09, 1.64196639e+09, 1.64196640e+09, 1.64196642e+09,\n",
       "       1.64196645e+09])"
      ]
     },
     "execution_count": 53,
     "metadata": {},
     "output_type": "execute_result"
    }
   ],
   "source": [
    "time_col = 'vehicle_timestamp'\n",
    "_raw_dt_array = (pos_gdf[time_col].to_numpy()\n",
    "                              .astype('datetime64[s]')\n",
    "                              .astype('float64')\n",
    "                             )\n",
    "_raw_dt_array[:5]"
   ]
  },
  {
   "cell_type": "code",
   "execution_count": 54,
   "id": "3369aeea-d8d8-4c01-b339-e84ddf530b3b",
   "metadata": {},
   "outputs": [
    {
     "data": {
      "text/plain": [
       "array([ 323.81885049,  323.81885049, 1088.32441641, 1088.32441641,\n",
       "       1088.32441641])"
      ]
     },
     "execution_count": 54,
     "metadata": {},
     "output_type": "execute_result"
    }
   ],
   "source": [
    "_raw_shape_array = pos_gdf.shape_meters.to_numpy()\n",
    "_raw_shape_array[:5]"
   ]
  },
  {
   "cell_type": "code",
   "execution_count": 55,
   "id": "1cc12372-f798-46bb-88f2-3b1e991c31cb",
   "metadata": {},
   "outputs": [],
   "source": [
    "@jit(nopython=True)\n",
    "def apply_shift_calculate_numba(ix_array, dt_array, shape_array):\n",
    "## generate arrays for last time, last loc, secs from last, meters from last...\n",
    "    # global _dt_arr\n",
    "    _dt_arr = dt_array\n",
    "    n = len(dt_array)\n",
    "    # result = np.empty(n, dtype=\"float64\")\n",
    "    assert len(ix_array) == len(shape_array) == n\n",
    "    \n",
    "    # last_loc = np.roll(shape_array, 1) ##test\n",
    "    meters_from_last = np.diff(shape_array) ##test2\n",
    "    # last_time = np.roll(dt_array, 1) ##test\n",
    "    seconds_from_last = np.diff(dt_array) ##test2\n",
    "    # meters_from_last = (shape_array - np.roll(shape_array, 1)) ##test\n",
    "    # seconds_from_last = (dt_array - np.roll(dt_array, 1)) ##test    \n",
    "    speed_from_last = np.divide(meters_from_last, seconds_from_last)\n",
    "    \n",
    "    return ix_array, dt_array, shape_array, meters_from_last, seconds_from_last, speed_from_last"
   ]
  },
  {
   "cell_type": "code",
   "execution_count": 56,
   "id": "5d96828e-78e6-442d-9db0-3eb80922d203",
   "metadata": {},
   "outputs": [],
   "source": [
    "def map_dt_or_nan(timestamp):\n",
    "    # print(timestamp)\n",
    "    if  np.isnan(timestamp):\n",
    "        return np.nan\n",
    "    else:\n",
    "        return dt.datetime.utcfromtimestamp(timestamp)"
   ]
  },
  {
   "cell_type": "code",
   "execution_count": 57,
   "id": "5c3b9832-191b-457c-8121-b235ebcd6ab7",
   "metadata": {},
   "outputs": [],
   "source": [
    "def wrap_shift_calculate_numba(ix_array, dt_array, shape_array):\n",
    "    \n",
    "#     global _debug\n",
    "#     global _huh\n",
    "#     global progression_mask\n",
    "    n = len(dt_array)\n",
    "    # print(n)\n",
    "    arrays = apply_shift_calculate_numba(ix_array, dt_array, shape_array)\n",
    "    bumped_meters = np.insert(arrays[3], 0, np.nan)\n",
    "    bumped_sec = np.insert(arrays[4], 0, np.nan)\n",
    "    bumped_spd = np.insert(arrays[5], 0, np.nan)\n",
    "    # _huh = bumped_meters\n",
    "    progression_mask = np.ma.masked_less_equal(bumped_meters, 0).mask\n",
    "    compressed_arrays = [np.ma.array(array, mask=progression_mask).compressed() for array in\n",
    "                         [arrays[0], arrays[1], arrays[2], bumped_meters, bumped_sec, bumped_spd]]\n",
    "    new_n = len(compressed_arrays[1])\n",
    "    if new_n == n:\n",
    "        compressed_arrays[1] = np.array([map_dt_or_nan(x) for x in compressed_arrays[1]]) ##nice!\n",
    "        return compressed_arrays\n",
    "    else:\n",
    "        # print('recursing...')\n",
    "        # _debug = compressed_arrays\n",
    "        return wrap_shift_calculate_numba(compressed_arrays[0], compressed_arrays[1], compressed_arrays[2])"
   ]
  }
 ],
 "metadata": {
  "kernelspec": {
   "display_name": "Python 3 (ipykernel)",
   "language": "python",
   "name": "python3"
  },
  "language_info": {
   "codemirror_mode": {
    "name": "ipython",
    "version": 3
   },
   "file_extension": ".py",
   "mimetype": "text/x-python",
   "name": "python",
   "nbconvert_exporter": "python",
   "pygments_lexer": "ipython3",
   "version": "3.9.7"
  }
 },
 "nbformat": 4,
 "nbformat_minor": 5
}
