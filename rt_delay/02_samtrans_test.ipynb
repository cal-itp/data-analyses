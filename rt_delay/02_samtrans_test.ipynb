{
 "cells": [
  {
   "cell_type": "code",
   "execution_count": 1,
   "id": "ab6b505a-68af-490c-88ea-af5f01ddf765",
   "metadata": {},
   "outputs": [
    {
     "name": "stderr",
     "output_type": "stream",
     "text": [
      "/Users/edasmalchi/miniconda3/envs/calitp/lib/python3.10/site-packages/google/cloud/bigquery/client.py:535: UserWarning: Cannot create BigQuery Storage client, the dependency google-cloud-bigquery-storage is not installed.\n",
      "  warnings.warn(\n"
     ]
    }
   ],
   "source": [
    "import os\n",
    "os.environ[\"CALITP_BQ_MAX_BYTES\"] = str(100_000_000_000)\n",
    "\n",
    "from calitp.tables import tbl\n",
    "from calitp import query_sql\n",
    "import calitp.magics\n",
    "import branca\n",
    "\n",
    "import shared_utils\n",
    "import utils\n",
    "\n",
    "from siuba import *\n",
    "import pandas as pd\n",
    "import geopandas as gpd\n",
    "import shapely\n",
    "\n",
    "import datetime as dt\n",
    "import time\n",
    "from zoneinfo import ZoneInfo\n",
    "\n",
    "import rt_analysis2 as rt\n",
    "import importlib\n",
    "\n",
    "importlib.reload(utils)\n",
    "importlib.reload(rt)\n",
    "\n",
    "import gcsfs\n",
    "fs = gcsfs.GCSFileSystem()"
   ]
  },
  {
   "cell_type": "code",
   "execution_count": 2,
   "id": "733a5c0b-18b1-43b4-872c-d54dfe1f3be4",
   "metadata": {},
   "outputs": [],
   "source": [
    "# analysis_date = dt.date(2022, 1, 11)\n",
    "## all data incomplete -- did it crash? (nothing before 9ish)"
   ]
  },
  {
   "cell_type": "code",
   "execution_count": 3,
   "id": "eb73cc0e-5851-4a47-8b68-17e39f213187",
   "metadata": {},
   "outputs": [],
   "source": [
    "analysis_date = dt.date(2022, 1, 12)"
   ]
  },
  {
   "cell_type": "code",
   "execution_count": 4,
   "id": "eb406d37-ef09-431c-81a7-74478eb1389c",
   "metadata": {},
   "outputs": [],
   "source": [
    "samtrans_itp_id = 290"
   ]
  },
  {
   "cell_type": "code",
   "execution_count": 5,
   "id": "4c6a8766-7f3e-4eeb-9f48-8c7f651db9d4",
   "metadata": {},
   "outputs": [],
   "source": [
    "# utils.get_vehicle_positions(samtrans_itp_id, analysis_date)"
   ]
  },
  {
   "cell_type": "code",
   "execution_count": 6,
   "id": "d265f7a3-7121-42d4-86d7-b1163ad99049",
   "metadata": {},
   "outputs": [],
   "source": [
    "# utils.get_trips(samtrans_itp_id, analysis_date)"
   ]
  },
  {
   "cell_type": "code",
   "execution_count": 7,
   "id": "2ce07fba-7bce-4dae-9c38-209bba86be61",
   "metadata": {},
   "outputs": [],
   "source": [
    "# utils.get_stop_times(samtrans_itp_id, analysis_date, force_clear=False)"
   ]
  },
  {
   "cell_type": "code",
   "execution_count": 8,
   "id": "cecf82b0-88b0-4294-a21e-0b6f43a385e5",
   "metadata": {},
   "outputs": [],
   "source": [
    "# utils.get_stops(samtrans_itp_id, analysis_date)"
   ]
  },
  {
   "cell_type": "code",
   "execution_count": 9,
   "id": "7b0a4033-a88f-45c5-b386-17d5748cf604",
   "metadata": {
    "tags": []
   },
   "outputs": [],
   "source": [
    "# sam_trips >> head(5)"
   ]
  },
  {
   "cell_type": "code",
   "execution_count": 10,
   "id": "6946a5e8-91fd-450f-8919-1f2c6255a284",
   "metadata": {
    "tags": []
   },
   "outputs": [],
   "source": [
    "# sam_vp >> head(5)"
   ]
  },
  {
   "cell_type": "code",
   "execution_count": 11,
   "id": "ecdc6853-adca-41c9-a2d7-ef58a22636df",
   "metadata": {
    "tags": []
   },
   "outputs": [],
   "source": [
    "# sam_vp >> inner_join(_, sam_trips, on ='trip_id')"
   ]
  },
  {
   "cell_type": "code",
   "execution_count": 12,
   "id": "fa2644fe-baaa-4b71-9686-24a7943af0d2",
   "metadata": {},
   "outputs": [],
   "source": [
    "## TODO\n",
    "# lbt_analysis.position_interpolators['9288623']['rt'].trip_key\n",
    "# generated 1553149201202261125 on 11/30/21 but this doesn't seem to exist?"
   ]
  },
  {
   "cell_type": "code",
   "execution_count": 5,
   "id": "f437999e-6c21-4ad9-ba15-d259853f7e67",
   "metadata": {},
   "outputs": [],
   "source": [
    "air_joined = pd.read_parquet('airtable_joined.parquet')"
   ]
  },
  {
   "cell_type": "code",
   "execution_count": 7,
   "id": "25115c5b-11e2-4ba2-a1db-75a504601881",
   "metadata": {},
   "outputs": [],
   "source": [
    "air_joined['url'] = air_joined.apply(lambda x:\n",
    "                    f'http://docs.calitp.org/data-analyses/rt_delay/speedmaps/{x.calitp_itp_id}_01_12_pm_peak.html',\n",
    "                                    axis = 1)"
   ]
  },
  {
   "cell_type": "code",
   "execution_count": 8,
   "id": "8ee4be69-8dc3-4b90-b2d9-e6e4ec0214d8",
   "metadata": {},
   "outputs": [],
   "source": [
    "air_joined.to_csv('linked.csv')"
   ]
  },
  {
   "cell_type": "code",
   "execution_count": 14,
   "id": "89706766-9ff5-456f-bb70-98b551bf8fdd",
   "metadata": {
    "tags": []
   },
   "outputs": [],
   "source": [
    "# for agency in air_joined.calitp_itp_id:\n",
    "#     try:\n",
    "#         analysis = rt.OperatorDayAnalysis(agency, analysis_date)\n",
    "#     except Exception as e:\n",
    "#         print(f'failed on agency {agency}')\n",
    "#         print(e)"
   ]
  },
  {
   "cell_type": "code",
   "execution_count": 15,
   "id": "42506e68-d840-4420-a4f7-d918cf7c5435",
   "metadata": {},
   "outputs": [],
   "source": [
    "## fix routelines thing..."
   ]
  },
  {
   "cell_type": "code",
   "execution_count": 16,
   "id": "53855b31-343c-4a18-b15d-b12e6c22dea7",
   "metadata": {},
   "outputs": [],
   "source": [
    "# metro_analysis.position_interpolators['10105002581045-DEC21']['rt'].detailed_speed_map()"
   ]
  },
  {
   "cell_type": "code",
   "execution_count": 17,
   "id": "b153162e-9fa6-4bd0-bd73-262c2ac2d2fa",
   "metadata": {},
   "outputs": [],
   "source": [
    "# lbt_analysis.position_interpolators['9288672']['rt'].detailed_speed_map()"
   ]
  },
  {
   "cell_type": "code",
   "execution_count": 18,
   "id": "8b23bed2-bce6-4cac-aa4a-d81aee5d2547",
   "metadata": {
    "tags": []
   },
   "outputs": [],
   "source": [
    "# lbt = rt.OperatorDayAnalysis(170, analysis_date)"
   ]
  },
  {
   "cell_type": "code",
   "execution_count": 21,
   "id": "edda88f3-b348-4983-b41a-c8eb836faf29",
   "metadata": {},
   "outputs": [
    {
     "data": {
      "text/plain": [
       "<module 'rt_analysis2' from '/Users/edasmalchi/calitp/data-analyses/rt_delay/rt_analysis2.py'>"
      ]
     },
     "execution_count": 21,
     "metadata": {},
     "output_type": "execute_result"
    }
   ],
   "source": [
    "importlib.reload(utils)\n",
    "importlib.reload(rt)"
   ]
  },
  {
   "cell_type": "code",
   "execution_count": 22,
   "id": "6430b961-8fd1-494a-8661-931613a304a0",
   "metadata": {
    "tags": []
   },
   "outputs": [],
   "source": [
    "# rt.OperatorDayAnalysis.map_segment_speeds(lbt, how = 'average')"
   ]
  },
  {
   "cell_type": "code",
   "execution_count": 23,
   "id": "92416f34-f608-4478-ac09-40895699881b",
   "metadata": {},
   "outputs": [],
   "source": [
    "# lbt.segment_speed_view['direction'] = '*'"
   ]
  },
  {
   "cell_type": "code",
   "execution_count": 24,
   "id": "ba09e8a3-c24a-4b90-bfb8-1306d95fc3a8",
   "metadata": {},
   "outputs": [],
   "source": [
    "colorscale = branca.colormap.step.RdYlGn_10.scale(vmin=0, \n",
    " vmax=30)\n",
    "colorscale.caption = \"Speed (miles per hour)\""
   ]
  },
  {
   "cell_type": "code",
   "execution_count": 25,
   "id": "639d3a90-5e38-4bcd-a98f-8acdfa8834d2",
   "metadata": {},
   "outputs": [],
   "source": [
    "# lbt._generate_segment_map(how = 'average', colorscale=colorscale)"
   ]
  },
  {
   "cell_type": "code",
   "execution_count": 26,
   "id": "fa899fa0-3409-4f62-830b-ce6ebb8343df",
   "metadata": {},
   "outputs": [],
   "source": [
    "## TODO '11031623-136-Blocks-Weekday-54' should not be eastbound... (Metro?)"
   ]
  },
  {
   "cell_type": "code",
   "execution_count": 3,
   "id": "911504f2-6efd-4b31-aff9-e55d8598066a",
   "metadata": {
    "tags": []
   },
   "outputs": [],
   "source": [
    "# sam = rt.OperatorDayAnalysis(samtrans_itp_id, analysis_date)"
   ]
  },
  {
   "cell_type": "code",
   "execution_count": 29,
   "id": "530f6807-e30d-44e7-bfa2-00d6f2aebc8d",
   "metadata": {},
   "outputs": [
    {
     "data": {
      "text/html": [
       "<div>\n",
       "<style scoped>\n",
       "    .dataframe tbody tr th:only-of-type {\n",
       "        vertical-align: middle;\n",
       "    }\n",
       "\n",
       "    .dataframe tbody tr th {\n",
       "        vertical-align: top;\n",
       "    }\n",
       "\n",
       "    .dataframe thead th {\n",
       "        text-align: right;\n",
       "    }\n",
       "</style>\n",
       "<table border=\"1\" class=\"dataframe\">\n",
       "  <thead>\n",
       "    <tr style=\"text-align: right;\">\n",
       "      <th></th>\n",
       "      <th>stop_id</th>\n",
       "      <th>stop_name</th>\n",
       "      <th>mean_delay</th>\n",
       "      <th>max_delay</th>\n",
       "    </tr>\n",
       "  </thead>\n",
       "  <tbody>\n",
       "    <tr>\n",
       "      <th>711</th>\n",
       "      <td>334620</td>\n",
       "      <td>South SF BART-Bay 5 Westside Busway</td>\n",
       "      <td>0 days 00:26:28.206070</td>\n",
       "      <td>0 days 00:26:28.206070</td>\n",
       "    </tr>\n",
       "    <tr>\n",
       "      <th>1188</th>\n",
       "      <td>343118</td>\n",
       "      <td>Alameda de las Pulgas &amp; Alma St</td>\n",
       "      <td>0 days 00:18:39.587416400</td>\n",
       "      <td>0 days 00:22:35.861996</td>\n",
       "    </tr>\n",
       "    <tr>\n",
       "      <th>1350</th>\n",
       "      <td>344637</td>\n",
       "      <td>Redwood City Caltrain-Lane C</td>\n",
       "      <td>0 days 00:18:09.367815400</td>\n",
       "      <td>0 days 01:11:28.602062</td>\n",
       "    </tr>\n",
       "    <tr>\n",
       "      <th>265</th>\n",
       "      <td>331100</td>\n",
       "      <td>SF Transit Center - BART shuttle connection</td>\n",
       "      <td>0 days 00:17:02.685705</td>\n",
       "      <td>0 days 00:17:02.685705</td>\n",
       "    </tr>\n",
       "    <tr>\n",
       "      <th>41</th>\n",
       "      <td>311106</td>\n",
       "      <td>Linda Mar Park N Ride</td>\n",
       "      <td>0 days 00:17:00.310031461</td>\n",
       "      <td>0 days 00:35:10.992110</td>\n",
       "    </tr>\n",
       "    <tr>\n",
       "      <th>...</th>\n",
       "      <td>...</td>\n",
       "      <td>...</td>\n",
       "      <td>...</td>\n",
       "      <td>...</td>\n",
       "    </tr>\n",
       "    <tr>\n",
       "      <th>1695</th>\n",
       "      <td>363051</td>\n",
       "      <td>Pulgas Ave &amp; O'Connor St</td>\n",
       "      <td>0 days 00:00:00</td>\n",
       "      <td>0 days 00:00:00</td>\n",
       "    </tr>\n",
       "    <tr>\n",
       "      <th>1697</th>\n",
       "      <td>363053</td>\n",
       "      <td>Pulgas Ave &amp; Sage St</td>\n",
       "      <td>0 days 00:00:00</td>\n",
       "      <td>0 days 00:00:00</td>\n",
       "    </tr>\n",
       "    <tr>\n",
       "      <th>1709</th>\n",
       "      <td>363101</td>\n",
       "      <td>East Okeefe St &amp; Menalto Ave</td>\n",
       "      <td>0 days 00:00:00</td>\n",
       "      <td>0 days 00:00:00</td>\n",
       "    </tr>\n",
       "    <tr>\n",
       "      <th>1711</th>\n",
       "      <td>363103</td>\n",
       "      <td>East Okeefe St &amp; Euclid Ave</td>\n",
       "      <td>0 days 00:00:00</td>\n",
       "      <td>0 days 00:00:00</td>\n",
       "    </tr>\n",
       "    <tr>\n",
       "      <th>1722</th>\n",
       "      <td>363611</td>\n",
       "      <td>Pulgas Ave &amp; Garden St</td>\n",
       "      <td>0 days 00:00:00</td>\n",
       "      <td>0 days 00:00:00</td>\n",
       "    </tr>\n",
       "  </tbody>\n",
       "</table>\n",
       "<p>1725 rows × 4 columns</p>\n",
       "</div>"
      ],
      "text/plain": [
       "     stop_id                                    stop_name  \\\n",
       "711   334620          South SF BART-Bay 5 Westside Busway   \n",
       "1188  343118              Alameda de las Pulgas & Alma St   \n",
       "1350  344637                 Redwood City Caltrain-Lane C   \n",
       "265   331100  SF Transit Center - BART shuttle connection   \n",
       "41    311106                        Linda Mar Park N Ride   \n",
       "...      ...                                          ...   \n",
       "1695  363051                     Pulgas Ave & O'Connor St   \n",
       "1697  363053                         Pulgas Ave & Sage St   \n",
       "1709  363101                 East Okeefe St & Menalto Ave   \n",
       "1711  363103                  East Okeefe St & Euclid Ave   \n",
       "1722  363611                       Pulgas Ave & Garden St   \n",
       "\n",
       "                    mean_delay              max_delay  \n",
       "711     0 days 00:26:28.206070 0 days 00:26:28.206070  \n",
       "1188 0 days 00:18:39.587416400 0 days 00:22:35.861996  \n",
       "1350 0 days 00:18:09.367815400 0 days 01:11:28.602062  \n",
       "265     0 days 00:17:02.685705 0 days 00:17:02.685705  \n",
       "41   0 days 00:17:00.310031461 0 days 00:35:10.992110  \n",
       "...                        ...                    ...  \n",
       "1695           0 days 00:00:00        0 days 00:00:00  \n",
       "1697           0 days 00:00:00        0 days 00:00:00  \n",
       "1709           0 days 00:00:00        0 days 00:00:00  \n",
       "1711           0 days 00:00:00        0 days 00:00:00  \n",
       "1722           0 days 00:00:00        0 days 00:00:00  \n",
       "\n",
       "[1725 rows x 4 columns]"
      ]
     },
     "execution_count": 29,
     "metadata": {},
     "output_type": "execute_result"
    }
   ],
   "source": [
    "(sam.stop_delay_view\n",
    " >> group_by(_.stop_id, _.stop_name)\n",
    " >> summarize(mean_delay = _.delay.mean(), max_delay = _.delay.max())\n",
    " >> arrange(-_.mean_delay))"
   ]
  },
  {
   "cell_type": "code",
   "execution_count": 30,
   "id": "6b0ccff2-db2f-4699-8280-b8fbf0b8be59",
   "metadata": {},
   "outputs": [],
   "source": [
    "## try filter!"
   ]
  },
  {
   "cell_type": "code",
   "execution_count": 50,
   "id": "4d85c9a4-5355-451c-9494-09620d538f13",
   "metadata": {},
   "outputs": [],
   "source": [
    "sam.set_filter(start_time='15:00', end_time='19:00', direction_id='1')"
   ]
  },
  {
   "cell_type": "code",
   "execution_count": 51,
   "id": "e76328d8-7587-48d8-94d2-0265326e0d22",
   "metadata": {},
   "outputs": [
    {
     "data": {
      "text/plain": [
       "{'start_time': datetime.time(15, 0),\n",
       " 'end_time': datetime.time(19, 0),\n",
       " 'route_ids': None,\n",
       " 'direction_id': '1',\n",
       " 'direction': None}"
      ]
     },
     "execution_count": 51,
     "metadata": {},
     "output_type": "execute_result"
    }
   ],
   "source": [
    "sam.filter"
   ]
  },
  {
   "cell_type": "code",
   "execution_count": 52,
   "id": "f9656d52-99ff-4459-a04a-e48914527afa",
   "metadata": {
    "tags": []
   },
   "outputs": [],
   "source": [
    "%%capture\n",
    "m = sam.segment_speed_map(colorscale=colorscale)"
   ]
  },
  {
   "cell_type": "code",
   "execution_count": 56,
   "id": "953f6b71-3a37-4f7e-83ed-88939959ecfb",
   "metadata": {},
   "outputs": [],
   "source": [
    "# m"
   ]
  },
  {
   "cell_type": "code",
   "execution_count": 2,
   "id": "cfb3f484-37fa-4386-a798-cee76a42665b",
   "metadata": {
    "tags": []
   },
   "outputs": [],
   "source": [
    "# lbt = rt.OperatorDayAnalysis(170, analysis_date)"
   ]
  },
  {
   "cell_type": "code",
   "execution_count": null,
   "id": "3904f4f5-9c6a-4ce4-816d-dd42ee39357c",
   "metadata": {},
   "outputs": [],
   "source": [
    "lbt.set_filter(direction_id='0')"
   ]
  },
  {
   "cell_type": "code",
   "execution_count": 60,
   "id": "83279932-6f89-4a29-8f28-cf26f610bd5e",
   "metadata": {},
   "outputs": [],
   "source": [
    "%%capture\n",
    "lbt._generate_stop_delay_view()"
   ]
  },
  {
   "cell_type": "code",
   "execution_count": 74,
   "id": "515b2953-0390-4359-acaa-2074a604fb5e",
   "metadata": {},
   "outputs": [],
   "source": [
    "lbt.set_filter(start_time='15:00', end_time='19:00', route_ids=['175'], direction_id='0')"
   ]
  },
  {
   "cell_type": "code",
   "execution_count": 75,
   "id": "028a2106-93cb-4f20-abc4-974abe62483a",
   "metadata": {},
   "outputs": [
    {
     "data": {
      "text/plain": [
       "{'start_time': datetime.time(15, 0),\n",
       " 'end_time': datetime.time(19, 0),\n",
       " 'route_ids': ['175'],\n",
       " 'direction_id': '0',\n",
       " 'direction': None}"
      ]
     },
     "execution_count": 75,
     "metadata": {},
     "output_type": "execute_result"
    }
   ],
   "source": [
    "lbt.filter"
   ]
  },
  {
   "cell_type": "code",
   "execution_count": 79,
   "id": "d2f7e591-8347-4c38-bc84-53283239ad5b",
   "metadata": {},
   "outputs": [
    {
     "name": "stdout",
     "output_type": "stream",
     "text": [
      "view filter: {'start_time': datetime.time(15, 0), 'end_time': datetime.time(19, 0), 'route_ids': ['175'], 'direction_id': '0', 'direction': None}\n"
     ]
    },
    {
     "data": {
      "text/html": [
       "<div>\n",
       "<style scoped>\n",
       "    .dataframe tbody tr th:only-of-type {\n",
       "        vertical-align: middle;\n",
       "    }\n",
       "\n",
       "    .dataframe tbody tr th {\n",
       "        vertical-align: top;\n",
       "    }\n",
       "\n",
       "    .dataframe thead th {\n",
       "        text-align: right;\n",
       "    }\n",
       "</style>\n",
       "<table border=\"1\" class=\"dataframe\">\n",
       "  <thead>\n",
       "    <tr style=\"text-align: right;\">\n",
       "      <th></th>\n",
       "      <th>calitp_itp_id</th>\n",
       "      <th>calitp_url_number</th>\n",
       "      <th>service_date</th>\n",
       "      <th>trip_key</th>\n",
       "      <th>trip_id</th>\n",
       "      <th>route_id</th>\n",
       "      <th>direction_id</th>\n",
       "      <th>shape_id</th>\n",
       "      <th>calitp_extracted_at</th>\n",
       "      <th>calitp_deleted_at</th>\n",
       "      <th>median_time</th>\n",
       "      <th>direction</th>\n",
       "    </tr>\n",
       "  </thead>\n",
       "  <tbody>\n",
       "    <tr>\n",
       "      <th>0</th>\n",
       "      <td>170</td>\n",
       "      <td>0</td>\n",
       "      <td>2022-01-12</td>\n",
       "      <td>1553149201202261125</td>\n",
       "      <td>9288623</td>\n",
       "      <td>175</td>\n",
       "      <td>0</td>\n",
       "      <td>1750012</td>\n",
       "      <td>2021-09-16</td>\n",
       "      <td>2099-01-01</td>\n",
       "      <td>17:25:56</td>\n",
       "      <td>Westbound</td>\n",
       "    </tr>\n",
       "    <tr>\n",
       "      <th>1</th>\n",
       "      <td>170</td>\n",
       "      <td>0</td>\n",
       "      <td>2022-01-12</td>\n",
       "      <td>6004281467132627200</td>\n",
       "      <td>9288619</td>\n",
       "      <td>175</td>\n",
       "      <td>0</td>\n",
       "      <td>1750012</td>\n",
       "      <td>2021-09-16</td>\n",
       "      <td>2099-01-01</td>\n",
       "      <td>16:08:22</td>\n",
       "      <td>Westbound</td>\n",
       "    </tr>\n",
       "    <tr>\n",
       "      <th>2</th>\n",
       "      <td>170</td>\n",
       "      <td>0</td>\n",
       "      <td>2022-01-12</td>\n",
       "      <td>-6507058681082383946</td>\n",
       "      <td>9288621</td>\n",
       "      <td>175</td>\n",
       "      <td>0</td>\n",
       "      <td>1750012</td>\n",
       "      <td>2021-09-16</td>\n",
       "      <td>2099-01-01</td>\n",
       "      <td>16:47:36</td>\n",
       "      <td>Westbound</td>\n",
       "    </tr>\n",
       "    <tr>\n",
       "      <th>3</th>\n",
       "      <td>170</td>\n",
       "      <td>0</td>\n",
       "      <td>2022-01-12</td>\n",
       "      <td>-3729871019479677706</td>\n",
       "      <td>9288617</td>\n",
       "      <td>175</td>\n",
       "      <td>0</td>\n",
       "      <td>1750012</td>\n",
       "      <td>2021-09-16</td>\n",
       "      <td>2099-01-01</td>\n",
       "      <td>15:26:50</td>\n",
       "      <td>Westbound</td>\n",
       "    </tr>\n",
       "    <tr>\n",
       "      <th>4</th>\n",
       "      <td>170</td>\n",
       "      <td>0</td>\n",
       "      <td>2022-01-12</td>\n",
       "      <td>6062701308686180855</td>\n",
       "      <td>9288625</td>\n",
       "      <td>175</td>\n",
       "      <td>0</td>\n",
       "      <td>1750012</td>\n",
       "      <td>2021-09-16</td>\n",
       "      <td>2099-01-01</td>\n",
       "      <td>18:08:08</td>\n",
       "      <td>Westbound</td>\n",
       "    </tr>\n",
       "    <tr>\n",
       "      <th>5</th>\n",
       "      <td>170</td>\n",
       "      <td>0</td>\n",
       "      <td>2022-01-12</td>\n",
       "      <td>6978398524389426859</td>\n",
       "      <td>9288627</td>\n",
       "      <td>175</td>\n",
       "      <td>0</td>\n",
       "      <td>1750012</td>\n",
       "      <td>2021-09-16</td>\n",
       "      <td>2099-01-01</td>\n",
       "      <td>18:49:15</td>\n",
       "      <td>Westbound</td>\n",
       "    </tr>\n",
       "  </tbody>\n",
       "</table>\n",
       "</div>"
      ],
      "text/plain": [
       "   calitp_itp_id  calitp_url_number service_date             trip_key  \\\n",
       "0            170                  0   2022-01-12  1553149201202261125   \n",
       "1            170                  0   2022-01-12  6004281467132627200   \n",
       "2            170                  0   2022-01-12 -6507058681082383946   \n",
       "3            170                  0   2022-01-12 -3729871019479677706   \n",
       "4            170                  0   2022-01-12  6062701308686180855   \n",
       "5            170                  0   2022-01-12  6978398524389426859   \n",
       "\n",
       "   trip_id route_id direction_id shape_id calitp_extracted_at  \\\n",
       "0  9288623      175            0  1750012          2021-09-16   \n",
       "1  9288619      175            0  1750012          2021-09-16   \n",
       "2  9288621      175            0  1750012          2021-09-16   \n",
       "3  9288617      175            0  1750012          2021-09-16   \n",
       "4  9288625      175            0  1750012          2021-09-16   \n",
       "5  9288627      175            0  1750012          2021-09-16   \n",
       "\n",
       "  calitp_deleted_at median_time  direction  \n",
       "0        2099-01-01    17:25:56  Westbound  \n",
       "1        2099-01-01    16:08:22  Westbound  \n",
       "2        2099-01-01    16:47:36  Westbound  \n",
       "3        2099-01-01    15:26:50  Westbound  \n",
       "4        2099-01-01    18:08:08  Westbound  \n",
       "5        2099-01-01    18:49:15  Westbound  "
      ]
     },
     "execution_count": 79,
     "metadata": {},
     "output_type": "execute_result"
    }
   ],
   "source": [
    "lbt._filter(lbt.rt_trips)"
   ]
  },
  {
   "cell_type": "code",
   "execution_count": 1,
   "id": "a00162a8-0fd9-4c93-9dea-f451da2b1efa",
   "metadata": {},
   "outputs": [],
   "source": [
    "# %%capture\n",
    "# m = lbt.segment_speed_map(how='low_speeds', colorscale=colorscale)"
   ]
  }
 ],
 "metadata": {
  "kernelspec": {
   "display_name": "Python 3 (ipykernel)",
   "language": "python",
   "name": "python3"
  },
  "language_info": {
   "codemirror_mode": {
    "name": "ipython",
    "version": 3
   },
   "file_extension": ".py",
   "mimetype": "text/x-python",
   "name": "python",
   "nbconvert_exporter": "python",
   "pygments_lexer": "ipython3",
   "version": "3.10.1"
  }
 },
 "nbformat": 4,
 "nbformat_minor": 5
}
