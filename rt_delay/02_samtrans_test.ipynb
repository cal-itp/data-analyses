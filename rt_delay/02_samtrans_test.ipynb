{
 "cells": [
  {
   "cell_type": "code",
   "execution_count": 1,
   "id": "9035b363-fc5c-45ea-8f44-b2f12136d6ea",
   "metadata": {},
   "outputs": [
    {
     "name": "stderr",
     "output_type": "stream",
     "text": [
      "/opt/conda/lib/python3.9/site-packages/geopandas/_compat.py:111: UserWarning: The Shapely GEOS version (3.10.2-CAPI-1.16.0) is incompatible with the GEOS version PyGEOS was compiled with (3.10.1-CAPI-1.16.0). Conversions between both will be slow.\n",
      "  warnings.warn(\n",
      "E0315 22:54:03.955707461    1137 fork_posix.cc:70]           Fork support is only compatible with the epoll1 and poll polling strategies\n",
      "E0315 22:54:10.321209302    1137 fork_posix.cc:70]           Fork support is only compatible with the epoll1 and poll polling strategies\n"
     ]
    }
   ],
   "source": [
    "import os\n",
    "os.environ[\"CALITP_BQ_MAX_BYTES\"] = str(400_000_000_000)\n",
    "\n",
    "from calitp.tables import tbl\n",
    "from calitp import query_sql\n",
    "import calitp.magics\n",
    "import branca\n",
    "\n",
    "import shared_utils\n",
    "import utils\n",
    "\n",
    "from siuba import *\n",
    "import pandas as pd\n",
    "import geopandas as gpd\n",
    "import shapely\n",
    "\n",
    "import datetime as dt\n",
    "\n",
    "import rt_analysis as rt\n",
    "import importlib\n",
    "\n",
    "from tqdm import tqdm_notebook\n",
    "from tqdm.notebook import trange, tqdm"
   ]
  },
  {
   "cell_type": "code",
   "execution_count": 2,
   "id": "eb73cc0e-5851-4a47-8b68-17e39f213187",
   "metadata": {},
   "outputs": [],
   "source": [
    "analysis_date = dt.date(2022, 2, 8)"
   ]
  },
  {
   "cell_type": "code",
   "execution_count": 3,
   "id": "eb406d37-ef09-431c-81a7-74478eb1389c",
   "metadata": {},
   "outputs": [],
   "source": [
    "samtrans_itp_id = 290"
   ]
  },
  {
   "cell_type": "code",
   "execution_count": 4,
   "id": "edda88f3-b348-4983-b41a-c8eb836faf29",
   "metadata": {},
   "outputs": [
    {
     "data": {
      "text/plain": [
       "<module 'rt_analysis' from '/home/jovyan/data-analyses/rt_delay/rt_analysis.py'>"
      ]
     },
     "execution_count": 4,
     "metadata": {},
     "output_type": "execute_result"
    }
   ],
   "source": [
    "importlib.reload(utils)\n",
    "importlib.reload(rt)"
   ]
  },
  {
   "cell_type": "code",
   "execution_count": 5,
   "id": "c1990afc-3d85-4217-ac28-58c9f0c5dd01",
   "metadata": {},
   "outputs": [
    {
     "data": {
      "application/vnd.jupyter.widget-view+json": {
       "model_id": "fc28589da079466a952e35edfa902110",
       "version_major": 2,
       "version_minor": 0
      },
      "text/plain": [
       "0it [00:00, ?it/s]"
      ]
     },
     "metadata": {},
     "output_type": "display_data"
    }
   ],
   "source": [
    "pbar = tqdm()"
   ]
  },
  {
   "cell_type": "code",
   "execution_count": 6,
   "id": "911504f2-6efd-4b31-aff9-e55d8598066a",
   "metadata": {
    "collapsed": true,
    "jupyter": {
     "outputs_hidden": true
    },
    "tags": []
   },
   "outputs": [
    {
     "name": "stdout",
     "output_type": "stream",
     "text": [
      "found parquet\n",
      "found parquet\n",
      "found parquet\n",
      "found parquet\n",
      "found_parquet\n",
      "vehicle positions gdf must not be empty\n",
      "vehicle positions gdf must not be empty\n",
      "vehicle positions gdf must not be empty\n",
      "vehicle positions gdf must not be empty\n",
      "vehicle positions gdf must not be empty\n",
      "vehicle positions gdf must not be empty\n",
      "vehicle positions gdf must not be empty\n",
      "vehicle positions gdf must not be empty\n",
      "vehicle positions gdf must not be empty\n",
      "vehicle positions gdf must not be empty\n",
      "vehicle positions gdf must not be empty\n",
      "vehicle positions gdf must not be empty\n",
      "vehicle positions gdf must not be empty\n",
      "vehicle positions gdf must not be empty\n",
      "vehicle positions gdf must not be empty\n",
      "vehicle positions gdf must not be empty\n",
      "vehicle positions gdf must not be empty\n",
      "vehicle positions gdf must not be empty\n",
      "vehicle positions gdf must not be empty\n",
      "vehicle positions gdf must not be empty\n",
      "vehicle positions gdf must not be empty\n",
      "vehicle positions gdf must not be empty\n",
      "vehicle positions gdf must not be empty\n",
      "vehicle positions gdf must not be empty\n",
      "vehicle positions gdf must not be empty\n",
      "vehicle positions gdf must not be empty\n",
      "vehicle positions gdf must not be empty\n",
      "vehicle positions gdf must not be empty\n",
      "vehicle positions gdf must not be empty\n",
      "vehicle positions gdf must not be empty\n",
      "vehicle positions gdf must not be empty\n",
      "vehicle positions gdf must not be empty\n",
      "vehicle positions gdf must not be empty\n",
      "vehicle positions gdf must not be empty\n",
      "vehicle positions gdf must not be empty\n",
      "vehicle positions gdf must not be empty\n",
      "vehicle positions gdf must not be empty\n",
      "vehicle positions gdf must not be empty\n",
      "vehicle positions gdf must not be empty\n",
      "vehicle positions gdf must not be empty\n",
      "vehicle positions gdf must not be empty\n",
      "vehicle positions gdf must not be empty\n",
      "vehicle positions gdf must not be empty\n",
      "vehicle positions gdf must not be empty\n",
      "vehicle positions gdf must not be empty\n",
      "vehicle positions gdf must not be empty\n",
      "vehicle positions gdf must not be empty\n",
      "vehicle positions gdf must not be empty\n",
      "vehicle positions gdf must not be empty\n",
      "vehicle positions gdf must not be empty\n",
      "vehicle positions gdf must not be empty\n",
      "vehicle positions gdf must not be empty\n",
      "vehicle positions gdf must not be empty\n",
      "vehicle positions gdf must not be empty\n",
      "vehicle positions gdf must not be empty\n",
      "vehicle positions gdf must not be empty\n",
      "vehicle positions gdf must not be empty\n",
      "vehicle positions gdf must not be empty\n",
      "vehicle positions gdf must not be empty\n",
      "vehicle positions gdf must not be empty\n",
      "vehicle positions gdf must not be empty\n",
      "vehicle positions gdf must not be empty\n",
      "vehicle positions gdf must not be empty\n",
      "vehicle positions gdf must not be empty\n",
      "vehicle positions gdf must not be empty\n",
      "vehicle positions gdf must not be empty\n",
      "vehicle positions gdf must not be empty\n",
      "vehicle positions gdf must not be empty\n",
      "vehicle positions gdf must not be empty\n",
      "vehicle positions gdf must not be empty\n",
      "vehicle positions gdf must not be empty\n",
      "vehicle positions gdf must not be empty\n",
      "vehicle positions gdf must not be empty\n",
      "vehicle positions gdf must not be empty\n",
      "vehicle positions gdf must not be empty\n",
      "vehicle positions gdf must not be empty\n",
      "vehicle positions gdf must not be empty\n",
      "vehicle positions gdf must not be empty\n",
      "vehicle positions gdf must not be empty\n",
      "vehicle positions gdf must not be empty\n",
      "vehicle positions gdf must not be empty\n",
      "vehicle positions gdf must not be empty\n",
      "vehicle positions gdf must not be empty\n",
      "vehicle positions gdf must not be empty\n",
      "vehicle positions gdf must not be empty\n",
      "vehicle positions gdf must not be empty\n",
      "vehicle positions gdf must not be empty\n",
      "vehicle positions gdf must not be empty\n",
      "vehicle positions gdf must not be empty\n",
      "vehicle positions gdf must not be empty\n",
      "vehicle positions gdf must not be empty\n",
      "vehicle positions gdf must not be empty\n",
      "vehicle positions gdf must not be empty\n",
      "vehicle positions gdf must not be empty\n",
      "vehicle positions gdf must not be empty\n",
      "vehicle positions gdf must not be empty\n",
      "vehicle positions gdf must not be empty\n",
      "vehicle positions gdf must not be empty\n",
      "vehicle positions gdf must not be empty\n",
      "vehicle positions gdf must not be empty\n",
      "vehicle positions gdf must not be empty\n",
      "vehicle positions gdf must not be empty\n",
      "vehicle positions gdf must not be empty\n",
      "vehicle positions gdf must not be empty\n",
      "vehicle positions gdf must not be empty\n",
      "vehicle positions gdf must not be empty\n",
      "vehicle positions gdf must not be empty\n",
      "vehicle positions gdf must not be empty\n",
      "vehicle positions gdf must not be empty\n",
      "vehicle positions gdf must not be empty\n",
      "vehicle positions gdf must not be empty\n",
      "vehicle positions gdf must not be empty\n",
      "vehicle positions gdf must not be empty\n",
      "vehicle positions gdf must not be empty\n",
      "vehicle positions gdf must not be empty\n",
      "vehicle positions gdf must not be empty\n",
      "vehicle positions gdf must not be empty\n",
      "vehicle positions gdf must not be empty\n",
      "vehicle positions gdf must not be empty\n",
      "vehicle positions gdf must not be empty\n",
      "vehicle positions gdf must not be empty\n",
      "vehicle positions gdf must not be empty\n",
      "vehicle positions gdf must not be empty\n",
      "vehicle positions gdf must not be empty\n",
      "vehicle positions gdf must not be empty\n",
      "vehicle positions gdf must not be empty\n",
      "vehicle positions gdf must not be empty\n",
      "vehicle positions gdf must not be empty\n",
      "vehicle positions gdf must not be empty\n",
      "vehicle positions gdf must not be empty\n",
      "vehicle positions gdf must not be empty\n",
      "vehicle positions gdf must not be empty\n",
      "vehicle positions gdf must not be empty\n",
      "vehicle positions gdf must not be empty\n",
      "vehicle positions gdf must not be empty\n",
      "vehicle positions gdf must not be empty\n",
      "less than 1km of data\n",
      "vehicle positions gdf must not be empty\n",
      "vehicle positions gdf must not be empty\n",
      "vehicle positions gdf must not be empty\n",
      "vehicle positions gdf must not be empty\n",
      "vehicle positions gdf must not be empty\n",
      "vehicle positions gdf must not be empty\n",
      "vehicle positions gdf must not be empty\n",
      "vehicle positions gdf must not be empty\n",
      "vehicle positions gdf must not be empty\n",
      "vehicle positions gdf must not be empty\n",
      "vehicle positions gdf must not be empty\n",
      "vehicle positions gdf must not be empty\n",
      "vehicle positions gdf must not be empty\n",
      "vehicle positions gdf must not be empty\n",
      "vehicle positions gdf must not be empty\n",
      "vehicle positions gdf must not be empty\n",
      "vehicle positions gdf must not be empty\n",
      "vehicle positions gdf must not be empty\n",
      "vehicle positions gdf must not be empty\n",
      "vehicle positions gdf must not be empty\n",
      "vehicle positions gdf must not be empty\n",
      "vehicle positions gdf must not be empty\n",
      "vehicle positions gdf must not be empty\n",
      "vehicle positions gdf must not be empty\n",
      "vehicle positions gdf must not be empty\n",
      "vehicle positions gdf must not be empty\n",
      "vehicle positions gdf must not be empty\n",
      "vehicle positions gdf must not be empty\n",
      "vehicle positions gdf must not be empty\n",
      "vehicle positions gdf must not be empty\n",
      "vehicle positions gdf must not be empty\n",
      "vehicle positions gdf must not be empty\n",
      "vehicle positions gdf must not be empty\n",
      "vehicle positions gdf must not be empty\n",
      "vehicle positions gdf must not be empty\n",
      "vehicle positions gdf must not be empty\n",
      "vehicle positions gdf must not be empty\n",
      "vehicle positions gdf must not be empty\n",
      "vehicle positions gdf must not be empty\n",
      "vehicle positions gdf must not be empty\n",
      "vehicle positions gdf must not be empty\n",
      "vehicle positions gdf must not be empty\n",
      "vehicle positions gdf must not be empty\n",
      "vehicle positions gdf must not be empty\n",
      "vehicle positions gdf must not be empty\n",
      "vehicle positions gdf must not be empty\n",
      "vehicle positions gdf must not be empty\n",
      "vehicle positions gdf must not be empty\n",
      "vehicle positions gdf must not be empty\n",
      "vehicle positions gdf must not be empty\n",
      "vehicle positions gdf must not be empty\n",
      "vehicle positions gdf must not be empty\n",
      "vehicle positions gdf must not be empty\n",
      "vehicle positions gdf must not be empty\n",
      "vehicle positions gdf must not be empty\n",
      "vehicle positions gdf must not be empty\n",
      "vehicle positions gdf must not be empty\n",
      "vehicle positions gdf must not be empty\n",
      "vehicle positions gdf must not be empty\n",
      "vehicle positions gdf must not be empty\n",
      "vehicle positions gdf must not be empty\n",
      "vehicle positions gdf must not be empty\n",
      "vehicle positions gdf must not be empty\n",
      "vehicle positions gdf must not be empty\n",
      "vehicle positions gdf must not be empty\n",
      "vehicle positions gdf must not be empty\n",
      "vehicle positions gdf must not be empty\n",
      "vehicle positions gdf must not be empty\n",
      "vehicle positions gdf must not be empty\n",
      "less than 1km of data\n",
      "vehicle positions gdf must not be empty\n",
      "vehicle positions gdf must not be empty\n",
      "vehicle positions gdf must not be empty\n",
      "vehicle positions gdf must not be empty\n",
      "vehicle positions gdf must not be empty\n",
      "vehicle positions gdf must not be empty\n",
      "vehicle positions gdf must not be empty\n",
      "vehicle positions gdf must not be empty\n",
      "vehicle positions gdf must not be empty\n",
      "vehicle positions gdf must not be empty\n",
      "vehicle positions gdf must not be empty\n",
      "vehicle positions gdf must not be empty\n",
      "vehicle positions gdf must not be empty\n",
      "vehicle positions gdf must not be empty\n",
      "vehicle positions gdf must not be empty\n",
      "vehicle positions gdf must not be empty\n",
      "vehicle positions gdf must not be empty\n",
      "vehicle positions gdf must not be empty\n",
      "vehicle positions gdf must not be empty\n",
      "vehicle positions gdf must not be empty\n",
      "vehicle positions gdf must not be empty\n",
      "vehicle positions gdf must not be empty\n",
      "vehicle positions gdf must not be empty\n",
      "vehicle positions gdf must not be empty\n",
      "vehicle positions gdf must not be empty\n",
      "vehicle positions gdf must not be empty\n",
      "vehicle positions gdf must not be empty\n",
      "vehicle positions gdf must not be empty\n",
      "vehicle positions gdf must not be empty\n",
      "vehicle positions gdf must not be empty\n",
      "less than 1km of data\n",
      "vehicle positions gdf must not be empty\n",
      "vehicle positions gdf must not be empty\n",
      "vehicle positions gdf must not be empty\n",
      "vehicle positions gdf must not be empty\n",
      "vehicle positions gdf must not be empty\n",
      "vehicle positions gdf must not be empty\n",
      "vehicle positions gdf must not be empty\n",
      "vehicle positions gdf must not be empty\n",
      "vehicle positions gdf must not be empty\n",
      "vehicle positions gdf must not be empty\n",
      "vehicle positions gdf must not be empty\n",
      "vehicle positions gdf must not be empty\n",
      "vehicle positions gdf must not be empty\n",
      "vehicle positions gdf must not be empty\n",
      "vehicle positions gdf must not be empty\n",
      "vehicle positions gdf must not be empty\n",
      "vehicle positions gdf must not be empty\n",
      "vehicle positions gdf must not be empty\n",
      "vehicle positions gdf must not be empty\n",
      "vehicle positions gdf must not be empty\n",
      "vehicle positions gdf must not be empty\n",
      "vehicle positions gdf must not be empty\n",
      "vehicle positions gdf must not be empty\n",
      "vehicle positions gdf must not be empty\n",
      "vehicle positions gdf must not be empty\n",
      "vehicle positions gdf must not be empty\n",
      "vehicle positions gdf must not be empty\n",
      "vehicle positions gdf must not be empty\n",
      "vehicle positions gdf must not be empty\n",
      "vehicle positions gdf must not be empty\n",
      "vehicle positions gdf must not be empty\n",
      "vehicle positions gdf must not be empty\n",
      "vehicle positions gdf must not be empty\n",
      "vehicle positions gdf must not be empty\n",
      "vehicle positions gdf must not be empty\n",
      "vehicle positions gdf must not be empty\n",
      "vehicle positions gdf must not be empty\n",
      "vehicle positions gdf must not be empty\n",
      "vehicle positions gdf must not be empty\n",
      "vehicle positions gdf must not be empty\n",
      "vehicle positions gdf must not be empty\n",
      "vehicle positions gdf must not be empty\n",
      "vehicle positions gdf must not be empty\n",
      "vehicle positions gdf must not be empty\n",
      "vehicle positions gdf must not be empty\n",
      "vehicle positions gdf must not be empty\n",
      "vehicle positions gdf must not be empty\n",
      "vehicle positions gdf must not be empty\n",
      "vehicle positions gdf must not be empty\n",
      "vehicle positions gdf must not be empty\n",
      "vehicle positions gdf must not be empty\n",
      "vehicle positions gdf must not be empty\n",
      "vehicle positions gdf must not be empty\n",
      "vehicle positions gdf must not be empty\n",
      "vehicle positions gdf must not be empty\n",
      "vehicle positions gdf must not be empty\n",
      "vehicle positions gdf must not be empty\n",
      "vehicle positions gdf must not be empty\n",
      "vehicle positions gdf must not be empty\n",
      "vehicle positions gdf must not be empty\n",
      "vehicle positions gdf must not be empty\n",
      "vehicle positions gdf must not be empty\n",
      "vehicle positions gdf must not be empty\n",
      "vehicle positions gdf must not be empty\n",
      "vehicle positions gdf must not be empty\n",
      "vehicle positions gdf must not be empty\n",
      "vehicle positions gdf must not be empty\n",
      "vehicle positions gdf must not be empty\n",
      "vehicle positions gdf must not be empty\n",
      "vehicle positions gdf must not be empty\n",
      "vehicle positions gdf must not be empty\n",
      "vehicle positions gdf must not be empty\n",
      "vehicle positions gdf must not be empty\n",
      "vehicle positions gdf must not be empty\n",
      "vehicle positions gdf must not be empty\n",
      "vehicle positions gdf must not be empty\n",
      "vehicle positions gdf must not be empty\n",
      "vehicle positions gdf must not be empty\n",
      "vehicle positions gdf must not be empty\n",
      "vehicle positions gdf must not be empty\n",
      "vehicle positions gdf must not be empty\n",
      "vehicle positions gdf must not be empty\n",
      "vehicle positions gdf must not be empty\n",
      "vehicle positions gdf must not be empty\n",
      "vehicle positions gdf must not be empty\n",
      "vehicle positions gdf must not be empty\n",
      "vehicle positions gdf must not be empty\n",
      "vehicle positions gdf must not be empty\n",
      "vehicle positions gdf must not be empty\n",
      "vehicle positions gdf must not be empty\n",
      "vehicle positions gdf must not be empty\n",
      "vehicle positions gdf must not be empty\n",
      "vehicle positions gdf must not be empty\n",
      "vehicle positions gdf must not be empty\n",
      "vehicle positions gdf must not be empty\n",
      "vehicle positions gdf must not be empty\n",
      "vehicle positions gdf must not be empty\n",
      "vehicle positions gdf must not be empty\n",
      "vehicle positions gdf must not be empty\n",
      "vehicle positions gdf must not be empty\n",
      "vehicle positions gdf must not be empty\n",
      "vehicle positions gdf must not be empty\n",
      "vehicle positions gdf must not be empty\n",
      "vehicle positions gdf must not be empty\n",
      "vehicle positions gdf must not be empty\n",
      "vehicle positions gdf must not be empty\n",
      "vehicle positions gdf must not be empty\n",
      "vehicle positions gdf must not be empty\n",
      "vehicle positions gdf must not be empty\n",
      "vehicle positions gdf must not be empty\n",
      "vehicle positions gdf must not be empty\n",
      "vehicle positions gdf must not be empty\n",
      "vehicle positions gdf must not be empty\n",
      "vehicle positions gdf must not be empty\n",
      "vehicle positions gdf must not be empty\n",
      "vehicle positions gdf must not be empty\n",
      "vehicle positions gdf must not be empty\n",
      "vehicle positions gdf must not be empty\n",
      "vehicle positions gdf must not be empty\n",
      "vehicle positions gdf must not be empty\n",
      "less than 1km of data\n",
      "vehicle positions gdf must not be empty\n",
      "vehicle positions gdf must not be empty\n",
      "vehicle positions gdf must not be empty\n",
      "vehicle positions gdf must not be empty\n",
      "vehicle positions gdf must not be empty\n",
      "vehicle positions gdf must not be empty\n",
      "vehicle positions gdf must not be empty\n",
      "vehicle positions gdf must not be empty\n",
      "vehicle positions gdf must not be empty\n",
      "vehicle positions gdf must not be empty\n",
      "vehicle positions gdf must not be empty\n",
      "vehicle positions gdf must not be empty\n",
      "vehicle positions gdf must not be empty\n",
      "vehicle positions gdf must not be empty\n",
      "vehicle positions gdf must not be empty\n",
      "vehicle positions gdf must not be empty\n",
      "vehicle positions gdf must not be empty\n",
      "vehicle positions gdf must not be empty\n",
      "vehicle positions gdf must not be empty\n",
      "vehicle positions gdf must not be empty\n",
      "vehicle positions gdf must not be empty\n",
      "vehicle positions gdf must not be empty\n",
      "vehicle positions gdf must not be empty\n",
      "vehicle positions gdf must not be empty\n",
      "vehicle positions gdf must not be empty\n",
      "vehicle positions gdf must not be empty\n",
      "vehicle positions gdf must not be empty\n",
      "vehicle positions gdf must not be empty\n",
      "vehicle positions gdf must not be empty\n",
      "vehicle positions gdf must not be empty\n",
      "vehicle positions gdf must not be empty\n",
      "vehicle positions gdf must not be empty\n",
      "vehicle positions gdf must not be empty\n",
      "vehicle positions gdf must not be empty\n",
      "vehicle positions gdf must not be empty\n",
      "vehicle positions gdf must not be empty\n",
      "vehicle positions gdf must not be empty\n",
      "vehicle positions gdf must not be empty\n",
      "vehicle positions gdf must not be empty\n",
      "vehicle positions gdf must not be empty\n",
      "vehicle positions gdf must not be empty\n",
      "vehicle positions gdf must not be empty\n",
      "vehicle positions gdf must not be empty\n",
      "vehicle positions gdf must not be empty\n",
      "vehicle positions gdf must not be empty\n",
      "vehicle positions gdf must not be empty\n",
      "vehicle positions gdf must not be empty\n",
      "vehicle positions gdf must not be empty\n",
      "vehicle positions gdf must not be empty\n",
      "vehicle positions gdf must not be empty\n",
      "vehicle positions gdf must not be empty\n",
      "vehicle positions gdf must not be empty\n",
      "vehicle positions gdf must not be empty\n",
      "vehicle positions gdf must not be empty\n",
      "vehicle positions gdf must not be empty\n",
      "vehicle positions gdf must not be empty\n",
      "vehicle positions gdf must not be empty\n",
      "vehicle positions gdf must not be empty\n",
      "vehicle positions gdf must not be empty\n",
      "vehicle positions gdf must not be empty\n",
      "vehicle positions gdf must not be empty\n",
      "vehicle positions gdf must not be empty\n",
      "vehicle positions gdf must not be empty\n",
      "vehicle positions gdf must not be empty\n",
      "vehicle positions gdf must not be empty\n",
      "vehicle positions gdf must not be empty\n",
      "vehicle positions gdf must not be empty\n",
      "vehicle positions gdf must not be empty\n",
      "vehicle positions gdf must not be empty\n",
      "vehicle positions gdf must not be empty\n",
      "vehicle positions gdf must not be empty\n",
      "vehicle positions gdf must not be empty\n",
      "vehicle positions gdf must not be empty\n",
      "vehicle positions gdf must not be empty\n",
      "vehicle positions gdf must not be empty\n",
      "vehicle positions gdf must not be empty\n",
      "vehicle positions gdf must not be empty\n",
      "vehicle positions gdf must not be empty\n",
      "vehicle positions gdf must not be empty\n",
      "vehicle positions gdf must not be empty\n",
      "vehicle positions gdf must not be empty\n",
      "vehicle positions gdf must not be empty\n",
      "vehicle positions gdf must not be empty\n",
      "vehicle positions gdf must not be empty\n",
      "vehicle positions gdf must not be empty\n",
      "vehicle positions gdf must not be empty\n",
      "vehicle positions gdf must not be empty\n",
      "vehicle positions gdf must not be empty\n",
      "vehicle positions gdf must not be empty\n",
      "vehicle positions gdf must not be empty\n",
      "vehicle positions gdf must not be empty\n",
      "vehicle positions gdf must not be empty\n",
      "vehicle positions gdf must not be empty\n",
      "vehicle positions gdf must not be empty\n",
      "vehicle positions gdf must not be empty\n",
      "vehicle positions gdf must not be empty\n",
      "vehicle positions gdf must not be empty\n",
      "vehicle positions gdf must not be empty\n",
      "vehicle positions gdf must not be empty\n",
      "vehicle positions gdf must not be empty\n",
      "vehicle positions gdf must not be empty\n",
      "vehicle positions gdf must not be empty\n",
      "vehicle positions gdf must not be empty\n",
      "vehicle positions gdf must not be empty\n",
      "vehicle positions gdf must not be empty\n",
      "vehicle positions gdf must not be empty\n",
      "vehicle positions gdf must not be empty\n",
      "vehicle positions gdf must not be empty\n",
      "vehicle positions gdf must not be empty\n",
      "vehicle positions gdf must not be empty\n",
      "vehicle positions gdf must not be empty\n",
      "vehicle positions gdf must not be empty\n",
      "vehicle positions gdf must not be empty\n",
      "vehicle positions gdf must not be empty\n",
      "vehicle positions gdf must not be empty\n",
      "vehicle positions gdf must not be empty\n",
      "vehicle positions gdf must not be empty\n",
      "vehicle positions gdf must not be empty\n",
      "vehicle positions gdf must not be empty\n",
      "vehicle positions gdf must not be empty\n",
      "vehicle positions gdf must not be empty\n",
      "vehicle positions gdf must not be empty\n",
      "vehicle positions gdf must not be empty\n",
      "vehicle positions gdf must not be empty\n",
      "vehicle positions gdf must not be empty\n",
      "vehicle positions gdf must not be empty\n",
      "vehicle positions gdf must not be empty\n",
      "vehicle positions gdf must not be empty\n",
      "vehicle positions gdf must not be empty\n",
      "vehicle positions gdf must not be empty\n",
      "vehicle positions gdf must not be empty\n",
      "vehicle positions gdf must not be empty\n",
      "vehicle positions gdf must not be empty\n",
      "vehicle positions gdf must not be empty\n",
      "vehicle positions gdf must not be empty\n",
      "vehicle positions gdf must not be empty\n",
      "vehicle positions gdf must not be empty\n",
      "vehicle positions gdf must not be empty\n",
      "vehicle positions gdf must not be empty\n",
      "vehicle positions gdf must not be empty\n",
      "vehicle positions gdf must not be empty\n",
      "vehicle positions gdf must not be empty\n",
      "vehicle positions gdf must not be empty\n",
      "vehicle positions gdf must not be empty\n",
      "vehicle positions gdf must not be empty\n",
      "vehicle positions gdf must not be empty\n",
      "vehicle positions gdf must not be empty\n",
      "vehicle positions gdf must not be empty\n",
      "vehicle positions gdf must not be empty\n",
      "vehicle positions gdf must not be empty\n",
      "vehicle positions gdf must not be empty\n",
      "vehicle positions gdf must not be empty\n",
      "vehicle positions gdf must not be empty\n",
      "vehicle positions gdf must not be empty\n",
      "vehicle positions gdf must not be empty\n",
      "vehicle positions gdf must not be empty\n",
      "vehicle positions gdf must not be empty\n",
      "vehicle positions gdf must not be empty\n",
      "vehicle positions gdf must not be empty\n",
      "vehicle positions gdf must not be empty\n",
      "vehicle positions gdf must not be empty\n",
      "vehicle positions gdf must not be empty\n",
      "vehicle positions gdf must not be empty\n",
      "vehicle positions gdf must not be empty\n",
      "vehicle positions gdf must not be empty\n",
      "vehicle positions gdf must not be empty\n",
      "vehicle positions gdf must not be empty\n",
      "vehicle positions gdf must not be empty\n",
      "vehicle positions gdf must not be empty\n",
      "vehicle positions gdf must not be empty\n",
      "vehicle positions gdf must not be empty\n",
      "vehicle positions gdf must not be empty\n",
      "vehicle positions gdf must not be empty\n",
      "vehicle positions gdf must not be empty\n",
      "vehicle positions gdf must not be empty\n",
      "vehicle positions gdf must not be empty\n",
      "vehicle positions gdf must not be empty\n",
      "vehicle positions gdf must not be empty\n",
      "vehicle positions gdf must not be empty\n",
      "vehicle positions gdf must not be empty\n",
      "vehicle positions gdf must not be empty\n",
      "vehicle positions gdf must not be empty\n",
      "vehicle positions gdf must not be empty\n",
      "vehicle positions gdf must not be empty\n",
      "vehicle positions gdf must not be empty\n",
      "vehicle positions gdf must not be empty\n",
      "vehicle positions gdf must not be empty\n",
      "vehicle positions gdf must not be empty\n",
      "vehicle positions gdf must not be empty\n",
      "vehicle positions gdf must not be empty\n",
      "vehicle positions gdf must not be empty\n",
      "vehicle positions gdf must not be empty\n",
      "vehicle positions gdf must not be empty\n",
      "vehicle positions gdf must not be empty\n",
      "vehicle positions gdf must not be empty\n",
      "could not generate delays for trip 11463591-137-Blocks-Weekday-14\n",
      "Columns must be same length as key\n",
      "could not generate delays for trip 11463589-137-Blocks-Weekday-14\n",
      "Columns must be same length as key\n",
      "could not generate delays for trip 11463879-137-Blocks-Weekday-14\n",
      "Columns must be same length as key\n",
      "could not generate delays for trip 11463875-137-Blocks-Weekday-14\n",
      "Columns must be same length as key\n",
      "could not generate delays for trip 11463882-137-Blocks-Weekday-14\n",
      "Columns must be same length as key\n",
      "could not generate delays for trip 11463616-137-Blocks-Weekday-14\n",
      "Columns must be same length as key\n",
      "could not generate delays for trip 11463618-137-Blocks-Weekday-14\n",
      "Columns must be same length as key\n"
     ]
    },
    {
     "name": "stderr",
     "output_type": "stream",
     "text": [
      "/opt/conda/lib/python3.9/site-packages/siuba/sql/utils.py:52: SAWarning: Dialect bigquery:bigquery will not make use of SQL compilation caching as it does not set the 'supports_statement_cache' attribute to ``True``.  This can have significant performance implications including some performance degradations in comparison to prior SQLAlchemy versions.  Dialect maintainers should seek to set this attribute to True after appropriate development and testing for SQLAlchemy 1.4 caching support.   Alternatively, this attribute may be set to False which will disable this warning. (Background on this error at: https://sqlalche.me/e/14/cprf)\n"
     ]
    }
   ],
   "source": [
    "sam = rt.OperatorDayAnalysis(samtrans_itp_id, analysis_date, pbar)"
   ]
  },
  {
   "cell_type": "code",
   "execution_count": 7,
   "id": "530f6807-e30d-44e7-bfa2-00d6f2aebc8d",
   "metadata": {},
   "outputs": [],
   "source": [
    "# (sam.stop_delay_view\n",
    "#  >> group_by(_.stop_id, _.stop_name)\n",
    "#  >> summarize(mean_delay = _.delay.mean(), max_delay = _.delay.max())\n",
    "#  >> arrange(-_.mean_delay)) >> head(10)"
   ]
  },
  {
   "cell_type": "code",
   "execution_count": 8,
   "id": "4d85c9a4-5355-451c-9494-09620d538f13",
   "metadata": {},
   "outputs": [
    {
     "name": "stdout",
     "output_type": "stream",
     "text": [
      "{'start_time': datetime.time(15, 0), 'end_time': datetime.time(19, 0), 'route_ids': None, 'direction_id': None, 'direction': None}\n"
     ]
    }
   ],
   "source": [
    "sam.set_filter(start_time='15:00', end_time='19:00')"
   ]
  },
  {
   "cell_type": "code",
   "execution_count": 23,
   "id": "f9656d52-99ff-4459-a04a-e48914527afa",
   "metadata": {
    "tags": []
   },
   "outputs": [],
   "source": [
    "# m = sam.segment_speed_map()"
   ]
  },
  {
   "cell_type": "code",
   "execution_count": 24,
   "id": "953f6b71-3a37-4f7e-83ed-88939959ecfb",
   "metadata": {},
   "outputs": [],
   "source": [
    "# m"
   ]
  },
  {
   "cell_type": "code",
   "execution_count": 11,
   "id": "a3042ca5-6c9a-40f4-89ee-83278a5b23c5",
   "metadata": {},
   "outputs": [
    {
     "data": {
      "text/plain": [
       "0.5881133379405666"
      ]
     },
     "execution_count": 11,
     "metadata": {},
     "output_type": "execute_result"
    }
   ],
   "source": [
    "sam.pct_trips_valid_rt"
   ]
  },
  {
   "cell_type": "code",
   "execution_count": 12,
   "id": "a97b8cec-6db4-4cb7-aedd-a4c3b6f86320",
   "metadata": {
    "jupyter": {
     "source_hidden": true
    },
    "tags": []
   },
   "outputs": [],
   "source": [
    "# sam.position_interpolators['11401903-137-Blocks-Weekday-14']['rt'].detailed_speed_map()"
   ]
  },
  {
   "cell_type": "code",
   "execution_count": 13,
   "id": "661fae12-9d4e-4449-a35f-19a9e5f5c376",
   "metadata": {},
   "outputs": [],
   "source": [
    "# sam.position_interpolators['11401833-137-Blocks-Weekday-14']['rt'].detailed_speed_map()"
   ]
  },
  {
   "cell_type": "markdown",
   "id": "89116519-3abb-4786-9a76-26c601bb1fe8",
   "metadata": {},
   "source": [
    "### What does shapes data look like?\n",
    "\n",
    "* tough to work with directly\n",
    "* currently converted to line geometries in shared utils, will soon be done in BigQuery"
   ]
  },
  {
   "cell_type": "code",
   "execution_count": 14,
   "id": "999f9591-183f-412a-af1e-641e9f7c92f6",
   "metadata": {},
   "outputs": [],
   "source": [
    "a_shape = tbl.gtfs_schedule.shapes() >> filter(_.calitp_itp_id == 290, _.shape_id == '3980273', _.calitp_url_number == 1) >> collect()\n",
    "a_shape = a_shape.astype({'shape_pt_sequence': 'int64'})"
   ]
  },
  {
   "cell_type": "code",
   "execution_count": 15,
   "id": "fbe41db2-f9ec-4fd3-8031-110234155baa",
   "metadata": {},
   "outputs": [
    {
     "data": {
      "text/html": [
       "<div>\n",
       "<style scoped>\n",
       "    .dataframe tbody tr th:only-of-type {\n",
       "        vertical-align: middle;\n",
       "    }\n",
       "\n",
       "    .dataframe tbody tr th {\n",
       "        vertical-align: top;\n",
       "    }\n",
       "\n",
       "    .dataframe thead th {\n",
       "        text-align: right;\n",
       "    }\n",
       "</style>\n",
       "<table border=\"1\" class=\"dataframe\">\n",
       "  <thead>\n",
       "    <tr style=\"text-align: right;\">\n",
       "      <th></th>\n",
       "      <th>calitp_itp_id</th>\n",
       "      <th>calitp_url_number</th>\n",
       "      <th>shape_id</th>\n",
       "      <th>shape_pt_lat</th>\n",
       "      <th>shape_pt_lon</th>\n",
       "      <th>shape_pt_sequence</th>\n",
       "      <th>shape_dist_traveled</th>\n",
       "      <th>calitp_extracted_at</th>\n",
       "    </tr>\n",
       "  </thead>\n",
       "  <tbody>\n",
       "    <tr>\n",
       "      <th>669</th>\n",
       "      <td>290</td>\n",
       "      <td>1</td>\n",
       "      <td>3980273</td>\n",
       "      <td>37.795809</td>\n",
       "      <td>-122.396782</td>\n",
       "      <td>10001</td>\n",
       "      <td>None</td>\n",
       "      <td>2022-03-08</td>\n",
       "    </tr>\n",
       "    <tr>\n",
       "      <th>956</th>\n",
       "      <td>290</td>\n",
       "      <td>1</td>\n",
       "      <td>3980273</td>\n",
       "      <td>37.796021</td>\n",
       "      <td>-122.39683</td>\n",
       "      <td>10002</td>\n",
       "      <td>None</td>\n",
       "      <td>2022-03-08</td>\n",
       "    </tr>\n",
       "    <tr>\n",
       "      <th>655</th>\n",
       "      <td>290</td>\n",
       "      <td>1</td>\n",
       "      <td>3980273</td>\n",
       "      <td>37.79637</td>\n",
       "      <td>-122.396875</td>\n",
       "      <td>10003</td>\n",
       "      <td>None</td>\n",
       "      <td>2022-03-08</td>\n",
       "    </tr>\n",
       "    <tr>\n",
       "      <th>562</th>\n",
       "      <td>290</td>\n",
       "      <td>1</td>\n",
       "      <td>3980273</td>\n",
       "      <td>37.796382</td>\n",
       "      <td>-122.396806</td>\n",
       "      <td>10004</td>\n",
       "      <td>None</td>\n",
       "      <td>2022-03-08</td>\n",
       "    </tr>\n",
       "    <tr>\n",
       "      <th>570</th>\n",
       "      <td>290</td>\n",
       "      <td>1</td>\n",
       "      <td>3980273</td>\n",
       "      <td>37.796363</td>\n",
       "      <td>-122.396726</td>\n",
       "      <td>10005</td>\n",
       "      <td>None</td>\n",
       "      <td>2022-03-08</td>\n",
       "    </tr>\n",
       "    <tr>\n",
       "      <th>...</th>\n",
       "      <td>...</td>\n",
       "      <td>...</td>\n",
       "      <td>...</td>\n",
       "      <td>...</td>\n",
       "      <td>...</td>\n",
       "      <td>...</td>\n",
       "      <td>...</td>\n",
       "      <td>...</td>\n",
       "    </tr>\n",
       "    <tr>\n",
       "      <th>1357</th>\n",
       "      <td>290</td>\n",
       "      <td>1</td>\n",
       "      <td>3980273</td>\n",
       "      <td>37.486169</td>\n",
       "      <td>-122.232721</td>\n",
       "      <td>430022</td>\n",
       "      <td>None</td>\n",
       "      <td>2022-03-08</td>\n",
       "    </tr>\n",
       "    <tr>\n",
       "      <th>1044</th>\n",
       "      <td>290</td>\n",
       "      <td>1</td>\n",
       "      <td>3980273</td>\n",
       "      <td>37.486174</td>\n",
       "      <td>-122.232718</td>\n",
       "      <td>430023</td>\n",
       "      <td>None</td>\n",
       "      <td>2022-03-08</td>\n",
       "    </tr>\n",
       "    <tr>\n",
       "      <th>616</th>\n",
       "      <td>290</td>\n",
       "      <td>1</td>\n",
       "      <td>3980273</td>\n",
       "      <td>37.486182</td>\n",
       "      <td>-122.232633</td>\n",
       "      <td>430024</td>\n",
       "      <td>None</td>\n",
       "      <td>2022-03-08</td>\n",
       "    </tr>\n",
       "    <tr>\n",
       "      <th>771</th>\n",
       "      <td>290</td>\n",
       "      <td>1</td>\n",
       "      <td>3980273</td>\n",
       "      <td>37.486173</td>\n",
       "      <td>-122.232593</td>\n",
       "      <td>430025</td>\n",
       "      <td>None</td>\n",
       "      <td>2022-03-08</td>\n",
       "    </tr>\n",
       "    <tr>\n",
       "      <th>718</th>\n",
       "      <td>290</td>\n",
       "      <td>1</td>\n",
       "      <td>3980273</td>\n",
       "      <td>37.485853</td>\n",
       "      <td>-122.232023</td>\n",
       "      <td>430026</td>\n",
       "      <td>None</td>\n",
       "      <td>2022-03-08</td>\n",
       "    </tr>\n",
       "  </tbody>\n",
       "</table>\n",
       "<p>1404 rows × 8 columns</p>\n",
       "</div>"
      ],
      "text/plain": [
       "      calitp_itp_id  calitp_url_number shape_id shape_pt_lat shape_pt_lon  \\\n",
       "669             290                  1  3980273    37.795809  -122.396782   \n",
       "956             290                  1  3980273    37.796021   -122.39683   \n",
       "655             290                  1  3980273     37.79637  -122.396875   \n",
       "562             290                  1  3980273    37.796382  -122.396806   \n",
       "570             290                  1  3980273    37.796363  -122.396726   \n",
       "...             ...                ...      ...          ...          ...   \n",
       "1357            290                  1  3980273    37.486169  -122.232721   \n",
       "1044            290                  1  3980273    37.486174  -122.232718   \n",
       "616             290                  1  3980273    37.486182  -122.232633   \n",
       "771             290                  1  3980273    37.486173  -122.232593   \n",
       "718             290                  1  3980273    37.485853  -122.232023   \n",
       "\n",
       "      shape_pt_sequence shape_dist_traveled calitp_extracted_at  \n",
       "669               10001                None          2022-03-08  \n",
       "956               10002                None          2022-03-08  \n",
       "655               10003                None          2022-03-08  \n",
       "562               10004                None          2022-03-08  \n",
       "570               10005                None          2022-03-08  \n",
       "...                 ...                 ...                 ...  \n",
       "1357             430022                None          2022-03-08  \n",
       "1044             430023                None          2022-03-08  \n",
       "616              430024                None          2022-03-08  \n",
       "771              430025                None          2022-03-08  \n",
       "718              430026                None          2022-03-08  \n",
       "\n",
       "[1404 rows x 8 columns]"
      ]
     },
     "execution_count": 15,
     "metadata": {},
     "output_type": "execute_result"
    }
   ],
   "source": [
    "a_shape >> arrange(_.shape_pt_sequence)"
   ]
  },
  {
   "cell_type": "code",
   "execution_count": 16,
   "id": "be24306e-ec9f-40dc-8d47-2fb06fcaec57",
   "metadata": {},
   "outputs": [],
   "source": [
    "ex = sam.position_interpolators['11454049-137-Blocks-Weekday-14']['rt']"
   ]
  },
  {
   "cell_type": "code",
   "execution_count": 17,
   "id": "ad56a1cb-a3e6-4a31-bb31-171ee24407b1",
   "metadata": {},
   "outputs": [
    {
     "data": {
      "text/plain": [
       "'LINESTRING (-210744.37200495336 -21854.591054198798, -210747.995915223 -21830.924521209672, -210750.'"
      ]
     },
     "execution_count": 17,
     "metadata": {},
     "output_type": "execute_result"
    }
   ],
   "source": [
    "## result of shared_utils.geography_utils.make_routes_shapefile\n",
    "ex.shape.wkt[:100]"
   ]
  },
  {
   "cell_type": "code",
   "execution_count": 20,
   "id": "a91ddefb-10bf-41b0-b597-9c792953bbbf",
   "metadata": {
    "tags": []
   },
   "outputs": [],
   "source": [
    "# ex.detailed_speed_map()"
   ]
  },
  {
   "cell_type": "code",
   "execution_count": 18,
   "id": "2af2d248-7d32-42eb-af4b-039941a0d30a",
   "metadata": {},
   "outputs": [],
   "source": [
    "import folium"
   ]
  },
  {
   "cell_type": "code",
   "execution_count": 94,
   "id": "35c34aed-9716-4d97-8315-7f354bf9739f",
   "metadata": {},
   "outputs": [],
   "source": [
    "# utils.layer_points(ex)"
   ]
  },
  {
   "cell_type": "code",
   "execution_count": 83,
   "id": "93124a1e-05aa-491d-8360-ba374881613f",
   "metadata": {},
   "outputs": [
    {
     "data": {
      "text/plain": [
       "12"
      ]
     },
     "execution_count": 83,
     "metadata": {},
     "output_type": "execute_result"
    }
   ],
   "source": [
    "ex._position_cleaning_count"
   ]
  },
  {
   "cell_type": "code",
   "execution_count": 21,
   "id": "ac15894d-d9ba-4c1c-8313-75f34e9068bc",
   "metadata": {},
   "outputs": [
    {
     "data": {
      "text/html": [
       "<div>\n",
       "<style scoped>\n",
       "    .dataframe tbody tr th:only-of-type {\n",
       "        vertical-align: middle;\n",
       "    }\n",
       "\n",
       "    .dataframe tbody tr th {\n",
       "        vertical-align: top;\n",
       "    }\n",
       "\n",
       "    .dataframe thead th {\n",
       "        text-align: right;\n",
       "    }\n",
       "</style>\n",
       "<table border=\"1\" class=\"dataframe\">\n",
       "  <thead>\n",
       "    <tr style=\"text-align: right;\">\n",
       "      <th></th>\n",
       "      <th>header_timestamp</th>\n",
       "      <th>vehicle_timestamp</th>\n",
       "      <th>vehicle_longitude</th>\n",
       "      <th>vehicle_latitude</th>\n",
       "      <th>geometry</th>\n",
       "      <th>shape_meters</th>\n",
       "      <th>secs_from_last</th>\n",
       "      <th>meters_from_last</th>\n",
       "      <th>progressed</th>\n",
       "      <th>speed_from_last</th>\n",
       "    </tr>\n",
       "  </thead>\n",
       "  <tbody>\n",
       "    <tr>\n",
       "      <th>78126</th>\n",
       "      <td>2022-02-08 12:22:41</td>\n",
       "      <td>2022-02-08 12:22:11</td>\n",
       "      <td>-122.40980</td>\n",
       "      <td>37.630985</td>\n",
       "      <td>POINT (-212354.446 -40142.555)</td>\n",
       "      <td>25443.153727</td>\n",
       "      <td>NaN</td>\n",
       "      <td>NaN</td>\n",
       "      <td>False</td>\n",
       "      <td>NaN</td>\n",
       "    </tr>\n",
       "    <tr>\n",
       "      <th>78061</th>\n",
       "      <td>2022-02-08 12:35:57</td>\n",
       "      <td>2022-02-08 12:35:43</td>\n",
       "      <td>-122.41246</td>\n",
       "      <td>37.630410</td>\n",
       "      <td>POINT (-212590.425 -40200.493)</td>\n",
       "      <td>25199.604548</td>\n",
       "      <td>812.0</td>\n",
       "      <td>-243.549179</td>\n",
       "      <td>False</td>\n",
       "      <td>-0.299937</td>\n",
       "    </tr>\n",
       "    <tr>\n",
       "      <th>78107</th>\n",
       "      <td>2022-02-08 12:36:37</td>\n",
       "      <td>2022-02-08 12:36:12</td>\n",
       "      <td>-122.40877</td>\n",
       "      <td>37.630875</td>\n",
       "      <td>POINT (-212264.012 -40157.086)</td>\n",
       "      <td>25533.356591</td>\n",
       "      <td>29.0</td>\n",
       "      <td>333.752043</td>\n",
       "      <td>True</td>\n",
       "      <td>11.508691</td>\n",
       "    </tr>\n",
       "  </tbody>\n",
       "</table>\n",
       "</div>"
      ],
      "text/plain": [
       "         header_timestamp   vehicle_timestamp  vehicle_longitude  \\\n",
       "78126 2022-02-08 12:22:41 2022-02-08 12:22:11         -122.40980   \n",
       "78061 2022-02-08 12:35:57 2022-02-08 12:35:43         -122.41246   \n",
       "78107 2022-02-08 12:36:37 2022-02-08 12:36:12         -122.40877   \n",
       "\n",
       "       vehicle_latitude                        geometry  shape_meters  \\\n",
       "78126         37.630985  POINT (-212354.446 -40142.555)  25443.153727   \n",
       "78061         37.630410  POINT (-212590.425 -40200.493)  25199.604548   \n",
       "78107         37.630875  POINT (-212264.012 -40157.086)  25533.356591   \n",
       "\n",
       "       secs_from_last  meters_from_last  progressed  speed_from_last  \n",
       "78126             NaN               NaN       False              NaN  \n",
       "78061           812.0       -243.549179       False        -0.299937  \n",
       "78107            29.0        333.752043        True        11.508691  "
      ]
     },
     "execution_count": 21,
     "metadata": {},
     "output_type": "execute_result"
    }
   ],
   "source": [
    "ex._shift_calculate(ex.debug_dict['clean_11']) >> head(3)"
   ]
  },
  {
   "cell_type": "code",
   "execution_count": 22,
   "id": "93d220cc-c6ed-4d1f-9fc3-fee11cc1def7",
   "metadata": {},
   "outputs": [
    {
     "data": {
      "text/html": [
       "<div>\n",
       "<style scoped>\n",
       "    .dataframe tbody tr th:only-of-type {\n",
       "        vertical-align: middle;\n",
       "    }\n",
       "\n",
       "    .dataframe tbody tr th {\n",
       "        vertical-align: top;\n",
       "    }\n",
       "\n",
       "    .dataframe thead th {\n",
       "        text-align: right;\n",
       "    }\n",
       "</style>\n",
       "<table border=\"1\" class=\"dataframe\">\n",
       "  <thead>\n",
       "    <tr style=\"text-align: right;\">\n",
       "      <th></th>\n",
       "      <th>header_timestamp</th>\n",
       "      <th>vehicle_timestamp</th>\n",
       "      <th>vehicle_longitude</th>\n",
       "      <th>vehicle_latitude</th>\n",
       "      <th>geometry</th>\n",
       "      <th>shape_meters</th>\n",
       "      <th>secs_from_last</th>\n",
       "      <th>meters_from_last</th>\n",
       "      <th>progressed</th>\n",
       "      <th>speed_from_last</th>\n",
       "    </tr>\n",
       "  </thead>\n",
       "  <tbody>\n",
       "    <tr>\n",
       "      <th>78134</th>\n",
       "      <td>2022-02-08 12:02:55</td>\n",
       "      <td>2022-02-08 12:02:31</td>\n",
       "      <td>-122.406920</td>\n",
       "      <td>37.782290</td>\n",
       "      <td>POINT (-211673.745 -23334.388)</td>\n",
       "      <td>2394.138605</td>\n",
       "      <td>NaN</td>\n",
       "      <td>NaN</td>\n",
       "      <td>False</td>\n",
       "      <td>NaN</td>\n",
       "    </tr>\n",
       "    <tr>\n",
       "      <th>78001</th>\n",
       "      <td>2022-02-08 12:03:55</td>\n",
       "      <td>2022-02-08 12:03:40</td>\n",
       "      <td>-122.408394</td>\n",
       "      <td>37.781110</td>\n",
       "      <td>POINT (-211806.678 -23462.231)</td>\n",
       "      <td>2578.537122</td>\n",
       "      <td>69.0</td>\n",
       "      <td>184.398518</td>\n",
       "      <td>True</td>\n",
       "      <td>2.672442</td>\n",
       "    </tr>\n",
       "    <tr>\n",
       "      <th>78121</th>\n",
       "      <td>2022-02-08 12:04:55</td>\n",
       "      <td>2022-02-08 12:04:40</td>\n",
       "      <td>-122.411260</td>\n",
       "      <td>37.778854</td>\n",
       "      <td>POINT (-212065.052 -23706.535)</td>\n",
       "      <td>2934.174313</td>\n",
       "      <td>60.0</td>\n",
       "      <td>355.637191</td>\n",
       "      <td>True</td>\n",
       "      <td>5.927287</td>\n",
       "    </tr>\n",
       "  </tbody>\n",
       "</table>\n",
       "</div>"
      ],
      "text/plain": [
       "         header_timestamp   vehicle_timestamp  vehicle_longitude  \\\n",
       "78134 2022-02-08 12:02:55 2022-02-08 12:02:31        -122.406920   \n",
       "78001 2022-02-08 12:03:55 2022-02-08 12:03:40        -122.408394   \n",
       "78121 2022-02-08 12:04:55 2022-02-08 12:04:40        -122.411260   \n",
       "\n",
       "       vehicle_latitude                        geometry  shape_meters  \\\n",
       "78134         37.782290  POINT (-211673.745 -23334.388)   2394.138605   \n",
       "78001         37.781110  POINT (-211806.678 -23462.231)   2578.537122   \n",
       "78121         37.778854  POINT (-212065.052 -23706.535)   2934.174313   \n",
       "\n",
       "       secs_from_last  meters_from_last  progressed  speed_from_last  \n",
       "78134             NaN               NaN       False              NaN  \n",
       "78001            69.0        184.398518        True         2.672442  \n",
       "78121            60.0        355.637191        True         5.927287  "
      ]
     },
     "execution_count": 22,
     "metadata": {},
     "output_type": "execute_result"
    }
   ],
   "source": [
    "ex._shift_calculate(ex.debug_dict['clean_1']) >> head(3)"
   ]
  },
  {
   "cell_type": "markdown",
   "id": "1c45408a-4057-4a7d-b228-7a551eee2815",
   "metadata": {},
   "source": [
    "### Complex Shape Geometries"
   ]
  },
  {
   "cell_type": "code",
   "execution_count": 23,
   "id": "415d818f-bc52-400d-bbfa-e79035838f4c",
   "metadata": {},
   "outputs": [
    {
     "data": {
      "text/plain": [
       "'LineString'"
      ]
     },
     "execution_count": 23,
     "metadata": {},
     "output_type": "execute_result"
    }
   ],
   "source": [
    "ex.shape.geom_type"
   ]
  },
  {
   "cell_type": "code",
   "execution_count": 24,
   "id": "5c1beb31-6df5-4fd5-adba-c5160dd233cd",
   "metadata": {},
   "outputs": [],
   "source": [
    "geo = ex.shape"
   ]
  },
  {
   "cell_type": "code",
   "execution_count": 52,
   "id": "9da8d974-75ab-4009-96d5-e7212600fc16",
   "metadata": {},
   "outputs": [
    {
     "data": {
      "text/plain": [
       "'SamTrans80:3980273'"
      ]
     },
     "execution_count": 52,
     "metadata": {},
     "output_type": "execute_result"
    }
   ],
   "source": [
    "ex.shape_id"
   ]
  },
  {
   "cell_type": "code",
   "execution_count": 26,
   "id": "6e17e3c5-4f9c-40c5-9820-71ad18e5623a",
   "metadata": {},
   "outputs": [
    {
     "data": {
      "image/svg+xml": [
       "<svg xmlns=\"http://www.w3.org/2000/svg\" xmlns:xlink=\"http://www.w3.org/1999/xlink\" width=\"300\" height=\"300\" viewBox=\"-214769.03222514124 -58209.43783304445 19099.38572356297 37845.31271024795\" preserveAspectRatio=\"xMinYMin meet\"><g transform=\"matrix(1,0,0,-1,0,-78573.56295584096)\"><polyline fill=\"none\" stroke=\"#66cc99\" stroke-width=\"252.30208473498632\" points=\"-210744.37200495336,-21854.591054198798 -210747.995915223,-21830.924521209672 -210750.9710868674,-21792.039667309728 -210744.8716686457,-21790.859470378608 -210737.89236598002,-21793.148789964616 -210698.99622107772,-21785.56960916333 -210683.0089163619,-21782.97129602963 -210654.48243281423,-21778.46584392432 -210649.08069031683,-21777.04553904757 -210643.19249797816,-21770.299813640304 -210636.3055869544,-21765.803371324204 -210632.31432086785,-21771.464357294142 -210609.24850380665,-21805.519150106236 -210600.5477201075,-21819.750501201022 -210598.0143506472,-21823.92900050478 -210592.9897240628,-21833.952967072837 -210585.6215593007,-21848.70664050663 -210566.67410163648,-21889.106980088633 -210555.78681085978,-21914.291344360914 -210550.6966236002,-21925.206557063386 -210544.07176369967,-21938.05097314855 -210536.54532140258,-21950.028539537918 -210529.82216881705,-21958.98334632907 -210516.3598729218,-21972.77886227239 -210502.8778845818,-21985.79643679131 -210483.3459351257,-22003.081259172875 -210476.28036878572,-22008.93100415729 -210440.95238765888,-22038.17963914387 -210435.86663410324,-22042.31132684229 -210422.6285002973,-22054.544192845467 -210409.7868614333,-22068.546263117343 -210385.45018203626,-22097.62837266689 -210436.24366296642,-22147.832735508215 -210493.6892466552,-22203.651328159962 -210515.02985924223,-22223.12876223959 -210530.9666413758,-22237.627335974015 -210530.9666413758,-22237.627335974015 -210534.93027068637,-22241.30809548311 -210592.29765295476,-22297.461622383446 -210651.10979092633,-22351.5766186337 -210671.10994937402,-22370.197929785587 -210693.0864625728,-22390.43727214029 -210754.0857384688,-22447.49875076255 -210831.4596646547,-22522.38282451406 -210894.53915668515,-22581.614752397873 -210916.2241418155,-22604.196159372572 -210938.64425274704,-22624.534861417953 -210938.64425274704,-22624.534861417953 -210960.25352462582,-22644.11561070336 -210998.14736097958,-22677.962819459382 -211035.29595102093,-22710.16069524316 -211049.53314607337,-22723.478125303052 -211049.53314607337,-22723.478125303052 -211095.22231350408,-22766.357335515786 -211167.3536350674,-22835.477473136503 -211219.12833584493,-22889.322113064583 -211227.37532020497,-22891.893197037745 -211236.3841956107,-22900.227494712453 -211252.850411262,-22918.158610860817 -211274.8776338659,-22940.285646152683 -211350.55637722983,-23013.87366159074 -211350.55637722983,-23013.87366159074 -211421.5432775035,-23082.798314322252 -211435.59177213488,-23095.563888797536 -211493.62358335583,-23149.693003606983 -211526.70629527833,-23180.99112057127 -211547.0761495564,-23200.157057685312 -211596.74063445057,-23246.936052773148 -211599.5509070109,-23250.200795117766 -211601.5947798325,-23257.933094803244 -211634.64445905839,-23287.897210935596 -211681.61857885646,-23332.631177603267 -211681.61857885646,-23332.631177603267 -211696.04498341875,-23346.38756021578 -211703.07529735568,-23352.99238068424 -211834.86940917527,-23477.527350347023 -211867.85544740356,-23508.381822151598 -211889.32436119491,-23529.187068687286 -211910.8530580499,-23548.878715959843 -211919.51725152793,-23557.443476589397 -211932.93484743527,-23569.557073106058 -211945.4675556896,-23581.470741420053 -211950.41376481496,-23585.68189050397 -211970.7968617202,-23605.291314124595 -212035.61962395883,-23666.69473130768 -212100.44898460511,-23728.319905283395 -212100.44898460511,-23728.319905283395 -212179.43499196926,-23803.373440268915 -212237.24660545346,-23858.837653783616 -212313.70788062643,-23931.39658727264 -212321.72339192816,-23938.643036186695 -212376.19279379025,-23990.63296143897 -212406.31802301054,-24019.55662782304 -212415.89083991846,-24029.209774917923 -212417.96141875465,-24031.047465576325 -212417.96141875465,-24031.047465576325 -212420.20786308416,-24032.88067468116 -212428.4192491865,-24040.900454655755 -212448.77906795265,-24059.508531524334 -212485.57610777952,-24094.711667237338 -212474.9471569673,-24105.769244932104 -212463.56642923877,-24118.402807302307 -212452.24527973702,-24129.92280647671 -212437.95120517164,-24145.633050713222 -212422.82603059013,-24159.80760572618 -212397.2956455324,-24186.924352773 -212354.1773326546,-24231.725463409442 -212340.892820649,-24245.630571667105 -212315.29943550588,-24273.74948325986 -212315.29943550588,-24273.74948325986 -212310.50526781572,-24278.986902107485 -212223.20230503788,-24371.728761418723 -212188.2465254316,-24408.87059622258 -212144.03928924003,-24455.92232814571 -212089.26969854836,-24513.250757636968 -211955.9452301396,-24654.64381806506 -211940.96418619785,-24657.24871250009 -211931.86374077655,-24659.25928913057 -211920.50795136383,-24662.550411873497 -211909.94925326924,-24666.0436646631 -211902.01741892812,-24669.025329509284 -211889.0641958618,-24675.248277423903 -211875.3844566303,-24684.04732799763 -211868.11900036968,-24689.013672668952 -211835.05946816033,-24714.31828517234 -211816.97050396848,-24729.679015353788 -211786.51172466294,-24756.919000067282 -211780.82907158963,-24761.84505943302 -211763.1255350421,-24778.530308241025 -211756.0781474887,-24785.159051457886 -211718.56541440156,-24822.252554420847 -211707.06919881856,-24833.887137154583 -211694.7871263173,-24845.764061674476 -211666.83500989858,-24874.719182581175 -211641.60655388248,-24900.04658633517 -211628.48154288763,-24913.3904381888 -211618.84595193187,-24925.53367803432 -211611.81756156054,-24936.38750698231 -211604.80043411165,-24947.685853768606 -211598.60014880425,-24959.96428653272 -211595.1581015271,-24966.50138676772 -211592.52445015495,-24973.685185223818 -211590.287686911,-24982.63815099839 -211588.34012748132,-24992.58459949633 -211587.42018771454,-24997.945666032843 -211586.43613421233,-25014.651016404387 -211582.81527528827,-25059.22390903067 -211572.13579360055,-25106.5335719632 -211570.09391350634,-25157.849740950856 -211568.55639595262,-25194.3631767896 -211567.70585319595,-25209.397096863482 -211567.18734652956,-25223.644174048677 -211564.85333664072,-25273.855725431815 -211564.28916676712,-25289.771998004522 -211564.12295765025,-25300.562857778743 -211563.78771623064,-25322.033446289133 -211563.9829667614,-25343.60177672375 -211564.45493440554,-25355.26606354816 -211566.23039976083,-25376.68309581373 -211567.08624025589,-25382.666314932983 -211567.90489156052,-25390.652122545987 -211569.28506202874,-25399.958112202585 -211576.49421411578,-25434.35916252155 -211584.97239749055,-25463.27908301726 -211591.94529360507,-25484.897829681635 -211596.45725374427,-25496.237189492676 -211606.5422248033,-25519.111380392686 -211617.09570903255,-25539.6384172244 -211634.80538450155,-25571.660076123197 -211640.15179963325,-25581.198994945735 -211645.4982265142,-25590.737910309806 -211660.56681796425,-25622.715353165288 -211673.3662563595,-25651.970312218647 -211678.6186782522,-25664.736467718147 -211682.92906033908,-25678.52735819621 -211689.70009378204,-25706.04489069525 -211692.44433865417,-25720.542751989327 -211694.80808937285,-25737.385525487363 -211695.48434883697,-25750.156647012103 -211695.82291408896,-25763.49235444283 -211695.6676316407,-25778.175029816106 -211694.07545229,-25802.123993833084 -211692.54729091414,-25814.728674793616 -211690.51680818788,-25828.346930437256 -211687.83962439164,-25840.758375265636 -211685.27908936222,-25850.831604846753 -211678.44128193936,-25872.689679102506 -211670.51980280713,-25893.463230034802 -211667.78100495812,-25899.982497928664 -211656.04316811205,-25922.96575479582 -211652.67739914742,-25929.05612125108 -211635.79822526514,-25954.06028616475 -211622.26502032057,-25972.196147613227 -211608.3973928934,-25987.56040992681 -211592.43857921055,-26003.756128734443 -211571.99636201392,-26023.624049616046 -211558.24525239095,-26036.65001567267 -211532.10787589298,-26060.999217217788 -211512.9508542477,-26079.49995441921 -211499.2249263424,-26093.526001508348 -211487.8990809177,-26108.491976438556 -211472.80970980067,-26131.226346683223 -211460.28502995262,-26154.451663318556 -211451.92071507435,-26171.67773589585 -211445.8431950267,-26188.845814069267 -211440.88934129366,-26205.206978579517 -211436.63850508892,-26224.997589176055 -211430.8605784219,-26264.398540490307 -211427.76757702677,-26298.616101570427 -211418.64122718468,-26435.070430872496 -211414.60285948022,-26518.797015375923 -211411.88310419954,-26574.68956688419 -211411.80270770154,-26627.067930792924 -211412.1426539212,-26630.06177725224 -211414.94707668922,-26671.246767529752 -211415.9584702683,-26679.894913462922 -211418.0066186018,-26698.191383569036 -211425.22979705117,-26750.495788058266 -211427.41789028244,-26763.89580327319 -211430.81428818154,-26779.822838875 -211437.5711062287,-26806.784913645126 -211476.35780076895,-26944.47082766099 -211488.40376584517,-26989.09112694906 -211491.565838451,-26999.24155915901 -211510.73912606767,-27064.58713256009 -211513.84992619706,-27076.184488999657 -211515.9908958986,-27084.247964729555 -211522.0230959454,-27103.4441904556 -211535.73179131557,-27151.13592604641 -211556.24942249374,-27224.3426808957 -211575.90576954954,-27291.343906788155 -211602.7267130337,-27397.86257948447 -211618.09245835553,-27451.850693343207 -211624.86270428746,-27472.362556646112 -211632.9068433977,-27494.510126424953 -211638.09198983747,-27508.056449510623 -211645.69125350442,-27526.545617314056 -211652.11364854546,-27540.282940306235 -211660.3292959493,-27555.309178669006 -211666.6355617098,-27567.93741431739 -211675.37907872492,-27582.95024230983 -211680.8970105421,-27592.26240288373 -211692.93442871442,-27612.195721848868 -211703.38332006786,-27628.499666113406 -211731.25243890856,-27668.71471558744 -211740.4703898132,-27681.602589666843 -211757.8794406892,-27705.069128880277 -211782.4353543046,-27739.58561050147 -211788.4559334076,-27747.884119456634 -211801.00189312123,-27767.025962746702 -211807.88480998742,-27778.082621680107 -211820.0220425704,-27798.458045240026 -211838.35501437218,-27834.022032565903 -211858.82538464022,-27887.880100304727 -211867.38093342682,-27912.794537588023 -211878.7893709926,-27952.982437749393 -211880.58180538187,-27961.16588780936 -211891.05889283953,-28006.2703421372 -211893.73300697777,-28021.43714765925 -211897.37913787962,-28047.143494313583 -211900.30737139267,-28072.312065708917 -211903.29118269513,-28106.59782785736 -211904.1630317197,-28123.5896578189 -211904.81804915573,-28149.371992445085 -211904.95368069876,-28175.501129589044 -211903.93296398787,-28211.556664565112 -211901.7957623865,-28234.852278280538 -211898.57413419723,-28260.51069233101 -211894.8617793368,-28284.179926317185 -211893.16861324382,-28297.233628451824 -211887.24738869575,-28327.519916650373 -211876.38572027968,-28374.72326744767 -211872.6266579438,-28386.16140348185 -211859.0638313328,-28427.539608036168 -211850.9466766082,-28451.098288560752 -211843.87772288508,-28467.402179416735 -211809.17609739208,-28553.464499800466 -211804.73044322964,-28562.1399738295 -211799.18568178764,-28576.069867441896 -211795.12014280417,-28585.84770814376 -211785.07270343634,-28609.677731100935 -211758.12995391883,-28671.967894789297 -211730.40676357923,-28731.275304861832 -211706.85382372476,-28781.46937847836 -211696.1871727074,-28805.203793074936 -211669.93959665915,-28860.2478374145 -211651.48388455843,-28906.642710877582 -211643.80104743975,-28923.073187538423 -211626.40425076828,-28966.105059884954 -211619.54981528426,-28983.96012519393 -211602.20853735658,-29032.661850064527 -211595.73693790386,-29051.730406916235 -211589.44691536232,-29071.016756770667 -211575.38168386222,-29113.51919002738 -211522.2936816726,-29276.776050379034 -211498.4257716451,-29356.33484114753 -211484.07583866394,-29398.06589299813 -211477.19187316837,-29418.256817345507 -211462.93401273532,-29467.102437002584 -211444.45472496765,-29533.513779524248 -211404.21627729456,-29668.97708044201 -211392.05098586806,-29710.09657002706 -211376.31517712015,-29763.2051439099 -211371.88666924782,-29779.552873155568 -211357.84640581682,-29826.613524989225 -211352.008493444,-29849.891485207714 -211350.8779366707,-29853.923406272195 -211321.43175136673,-29946.29995235242 -211288.72736469322,-30059.553698206786 -211276.37846902126,-30103.902495240327 -211272.39234921284,-30120.35015839152 -211261.86792506298,-30167.210375143215 -211234.01695530995,-30287.902697255835 -211218.1508609371,-30367.2579065077 -211215.42819608003,-30381.449505183846 -211208.5985882511,-30417.76309333183 -211203.6249090301,-30443.910298765637 -211199.95510992513,-30465.91001522029 -211185.18928889136,-30547.01651939703 -211167.76258895587,-30630.859183903318 -211160.15899525973,-30660.964989391156 -211153.1243623632,-30685.71868658997 -211134.4807933361,-30738.900281838607 -211126.65000961442,-30756.557166026905 -211125.26081432856,-30760.817997696344 -211117.0883902452,-30782.375589219853 -211107.5564999216,-30802.4107398442 -211087.43737199955,-30839.0604403154 -211060.20570768733,-30880.00448568538 -211047.91449163342,-30898.88613809133 -211032.65547834142,-30922.290916447528 -210979.43421305105,-31015.044913168065 -210949.77484052384,-31074.954293344636 -210940.76741556198,-31094.86477027228 -210929.10012857587,-31124.517050306313 -210914.53605038428,-31168.476390461903 -210905.80745141298,-31195.941510479897 -210900.0607627753,-31219.43918049475 -210894.3617890358,-31244.826072971802 -210892.1241340089,-31257.337250415236 -210886.04216740205,-31291.96357868472 -210874.0353130717,-31377.892540057655 -210861.2285985501,-31460.060820696875 -210851.1332297373,-31520.587382640224 -210842.34198559672,-31576.966502774507 -210841.6443891992,-31584.212255247403 -210834.8436780485,-31628.753661564086 -210824.14655375364,-31707.31009095302 -210813.17672626695,-31785.539782008622 -210799.4357810149,-31883.07738334639 -210794.23019240188,-31917.570271139964 -210790.0771126843,-31944.9196458729 -210778.39679602117,-32022.94480855437 -210771.19167836112,-32068.94197413558 -210731.6234932755,-32329.597630689852 -210726.1728373887,-32364.875054924283 -210721.4844747213,-32395.46274773311 -210710.5688801439,-32465.461922089104 -210705.3596355839,-32499.843615458813 -210699.0919940993,-32541.146539446432 -210637.67352542843,-32941.3554274491 -210626.14354368031,-33018.48685417045 -210606.21184514475,-33146.649481931236 -210597.72113227966,-33201.1301951115 -210542.94945558577,-33561.47126281541 -210524.65719444945,-33677.916056688875 -210516.02674878444,-33730.398537060246 -210508.05841653072,-33781.19627965009 -210476.51929944102,-33983.71149661904 -210454.5627052357,-34129.605695799924 -210401.1470490485,-34477.90136472508 -210380.8423370862,-34602.069314400665 -210366.18650974665,-34684.727847056 -210357.50207530154,-34738.657061600126 -210349.77638065745,-34795.67574688094 -210347.4685817142,-34815.972585236654 -210346.69239478782,-34834.11799838068 -210345.46320490818,-34848.271570086945 -210343.22479407623,-34888.80534044793 -210343.04999576442,-34916.83253635187 -210343.2578617417,-34939.06760878209 -210344.76592105257,-34970.94445345877 -210346.44819759318,-34992.25276056724 -210349.72687193903,-35020.97134426981 -210353.42340337875,-35048.7897848743 -210358.30099445314,-35078.024082251824 -210363.88300737788,-35107.2406257675 -210366.587994126,-35120.18304082984 -210371.08915170567,-35137.97305860184 -210380.96921611732,-35173.419765392784 -210386.81078263492,-35191.954405733384 -210393.2883303469,-35211.25142458081 -210404.03067962173,-35242.45071590692 -210431.51747022933,-35312.259672001936 -210445.86057994858,-35346.48179178219 -210457.69872204523,-35372.20452056592 -210470.06124835974,-35401.25006017694 -210486.27336974646,-35436.20340634184 -210517.29150444554,-35499.25097293127 -210544.60411752024,-35551.60533557786 -210568.40397049492,-35593.92887478182 -210585.9932285478,-35624.065639368724 -210626.033635378,-35688.442063821014 -210654.9723361114,-35731.858938680496 -210668.95524481652,-35751.74478958361 -210699.48499864872,-35795.343773437664 -210702.68477132428,-35799.93348450679 -210711.9834767104,-35812.26457717875 -210737.31597717866,-35845.43045219686 -210742.50914690061,-35852.19386292482 -210767.61526840157,-35883.36373648513 -210777.80595508261,-35896.11704758182 -210947.77824083576,-36108.88968357956 -210977.699077444,-36145.71979299281 -210992.35138166987,-36164.1425963291 -211015.55669247702,-36193.24697027914 -211073.60204879264,-36265.50641986588 -211097.5180243774,-36294.81501526758 -211123.68348578576,-36325.957092010416 -211148.34458458435,-36353.35627822578 -211172.79879821918,-36379.5374089824 -211191.70704580046,-36398.964252092876 -211214.91549633723,-36421.17351463949 -211235.05119453996,-36440.34680857044 -211253.8126080224,-36457.4419956957 -211279.49278698396,-36479.810948838014 -211304.07133611036,-36500.42847846309 -211313.3416051118,-36508.089183723554 -211318.92251249775,-36512.729608372785 -211326.21039536776,-36518.66124570975 -211349.05969034648,-36537.09838147974 -211350.86035793732,-36538.60962476395 -211374.0507650992,-36556.59325273195 -211410.63021580066,-36584.80197758507 -211437.5843317981,-36605.24777564639 -211473.44561318588,-36632.91841310868 -211482.97193415544,-36640.2388463309 -211498.15617596128,-36651.75282037584 -211567.17865840546,-36704.826625101734 -211627.36869065036,-36750.11722072773 -211656.94822782167,-36773.27583722817 -211674.6833406374,-36788.060893255286 -211689.81949226398,-36801.132576587144 -211694.86394737335,-36805.45275477134 -211707.4039473741,-36816.922202401794 -211719.23662546583,-36828.298365729395 -211745.923854148,-36855.53328685323 -211762.70676832116,-36874.45678121224 -211770.17354105425,-36883.94196915999 -211780.0829954593,-36895.92283818172 -211791.73624335942,-36910.63951144554 -211805.24392554394,-36928.978790644556 -211821.24510465685,-36951.81407033373 -211834.99107964372,-36972.593700918835 -211845.0135097505,-36989.01970720664 -211854.5216615424,-37006.01476046769 -211864.51531390919,-37024.77671524044 -211875.19881437038,-37046.41240376001 -211886.19451827777,-37069.93058965681 -211928.2488268047,-37164.385753960814 -211936.86188921216,-37184.29468899453 -211943.34216224833,-37200.03207914904 -211959.10007703738,-37237.55194219295 -211987.5581774103,-37303.21705221338 -212001.1519325134,-37338.790151037276 -212012.00202633787,-37370.42962342687 -212023.3850840876,-37409.17247405555 -212027.54130348077,-37427.08165298402 -212039.63236272262,-37479.81794987945 -212042.38687529674,-37487.64334027516 -212047.3555901756,-37506.31029165443 -212048.15049203692,-37509.84856757615 -212050.0688401295,-37522.921680441126 -212051.35150444278,-37531.78526241658 -212052.57996178244,-37541.984643986914 -212053.53008612347,-37551.6350839464 -212054.87143387677,-37566.27967565367 -212056.57178812468,-37591.59053553548 -212058.19924179968,-37627.91223722231 -212058.70382259885,-37651.25182819599 -212058.43829455215,-37675.50059125479 -212057.89336850913,-37688.7474587122 -212055.46574647824,-37745.85569329979 -212053.53281828813,-37784.26944014756 -212050.64822177737,-37854.62229970796 -212049.12739367018,-37891.91355770733 -212048.83092119667,-37897.59238327807 -212046.9023368308,-37943.12293424131 -212043.7607728557,-38003.362933514174 -212042.841895084,-38026.1826541489 -212042.4285074127,-38034.1996871992 -212042.12919860726,-38039.767381865066 -212038.7416149945,-38125.0340443654 -212036.3029059849,-38178.25046524312 -212034.15844380204,-38222.22965599783 -212032.55372829674,-38266.63994750101 -212011.08522545165,-38747.243371829856 -212006.02764294992,-38853.56950046588 -212003.5412276812,-38915.349623922724 -212002.66842660084,-38933.052867245395 -212002.21195754615,-38942.85021353839 -211997.90287383116,-38995.33564566355 -211995.466985419,-39013.96817798074 -211989.28661957526,-39058.71697460255 -211984.40757722204,-39088.75409751665 -211978.0302875668,-39122.276498603635 -211966.00829194448,-39176.51448318735 -211957.97749390858,-39207.40998559492 -211945.7302770641,-39249.310251329094 -211936.28983112006,-39280.24149970338 -211924.21146708223,-39314.90932776313 -211906.30408697363,-39366.51649236865 -211893.19378564548,-39430.01169753773 -211886.91796403532,-39450.18722353224 -211875.82155683858,-39488.833316536155 -211868.66398090695,-39512.47844695486 -211853.27531048606,-39569.58166489052 -211848.22134594707,-39589.281355749816 -211843.5732959653,-39611.083579548635 -211837.93707811154,-39642.585409974214 -211836.87847079508,-39649.50676407991 -211835.16227656687,-39661.78247717209 -211833.462987346,-39674.72497106902 -211832.44946652467,-39683.42440780159 -211830.2039454736,-39699.16079625022 -211826.57694193823,-39729.94444713928 -211822.0434549292,-39773.65047872858 -211819.84128575138,-39825.85991222225 -211817.91648273202,-39909.865985358134 -211817.61737909084,-39939.786818242166 -211817.79284313295,-39943.229620145634 -211818.76181899596,-39957.10525532067 -211820.1149346274,-39968.74711548118 -211822.62953422414,-39984.47398191551 -211826.2830805975,-40003.39681195561 -211836.40726122382,-40051.51277758973 -211840.877680869,-40078.310202737805 -211841.65504394245,-40084.628982028924 -211842.60151614688,-40097.615571847185 -211842.9735541835,-40112.28475512145 -211841.8971290987,-40135.88680631248 -211840.3189086868,-40153.60789544089 -211860.12993445795,-40156.10788070783 -211869.9346651881,-40156.86000469467 -211880.69442928076,-40157.03188333381 -211889.51876114146,-40157.36404673662 -211935.37428539197,-40157.86871459661 -211974.67640288113,-40157.20502233552 -211987.90303932942,-40157.31415957771 -211994.45297183268,-40161.8183972477 -212033.32870312675,-40161.72125974158 -212088.83604196977,-40160.423249938525 -212166.41413329533,-40160.343521181494 -212246.010125172,-40159.87819238333 -212325.00689148775,-40156.64729198534 -212360.72507557957,-40157.184902661014 -212360.72507557957,-40157.184902661014 -212370.42481228785,-40157.271899060346 -212376.77716964466,-40153.99673734605 -212404.29052999985,-40154.297963294666 -212444.3997026246,-40154.16754759243 -212493.25645380508,-40154.81522588944 -212500.62266494968,-40156.740664794575 -212520.73737577858,-40164.23544817278 -212531.78649321533,-40168.84720260976 -212556.2376471118,-40180.45723559102 -212613.91363506013,-40035.76128275832 -212632.73773846784,-39996.027823468205 -212640.6518132498,-39977.92284112051 -212640.6518132498,-39977.92284112051 -212641.48189361847,-39975.90007420303 -212657.6793035837,-39940.34789220756 -212668.17439874768,-39916.28346378077 -212688.07532697887,-39873.85359836323 -212691.67437541438,-39862.864159822 -212692.41953520593,-39857.50749057904 -212692.20975246342,-39852.731148092076 -212686.87512155724,-39830.1817886373 -212685.69097066118,-39821.76059218496 -212686.9230252624,-39807.82897373894 -212698.1516781211,-39777.96331708366 -212708.13765246552,-39754.69020620966 -212711.9779049152,-39746.252258880064 -212711.9779049152,-39746.252258880064 -212727.15414686996,-39712.17154931137 -212770.50266154116,-39607.42712498084 -212856.05609362494,-39405.083571591415 -212869.4091224039,-39375.6083143088 -212909.55314789375,-39283.62176433485 -212942.69317595943,-39207.3818665836 -212950.2420510498,-39188.84104741318 -212959.55248065523,-39173.70256906049 -212966.23946387324,-39166.3039215249 -212974.08013045814,-39159.20945556834 -212986.51572546182,-39152.553815197665 -213000.21009235326,-39146.866872093175 -213016.81690926105,-39144.77529379167 -213025.80226144058,-39144.54611426685 -213015.20700198255,-39168.05760021042 -213001.3366572581,-39170.30178935407 -212991.04666600045,-39174.678691604175 -212977.36876563213,-39187.926942224614 -212964.3855701278,-39221.507440995425 -212964.3855701278,-39221.507440995425 -212935.6021744839,-39295.74592003599 -212937.32127959825,-39297.481324455235 -212921.7862291875,-39289.75962959882 -212909.55314789375,-39283.62176433485 -212942.69317595943,-39207.3818665836 -212950.2420510498,-39188.84104741318 -212959.55248065523,-39173.70256906049 -212966.23946387324,-39166.3039215249 -212974.08013045814,-39159.20945556834 -212986.51572546182,-39152.553815197665 -213000.21009235326,-39146.866872093175 -213016.81690926105,-39144.77529379167 -213025.80226144058,-39144.54611426685 -213036.16001258654,-39146.28355696192 -213054.64184157338,-39152.03942807624 -213066.6219119963,-39158.62834260566 -213076.06718253111,-39166.0603246605 -213082.49749514894,-39172.790802957024 -213094.2552905649,-39191.39518274926 -213097.16497501207,-39194.879412087146 -213117.69292761543,-39201.361355771776 -213120.78164570578,-39204.95221090503 -213120.78164570578,-39204.95221090503 -213127.68084404536,-39212.78271270124 -213155.73791156817,-39248.31860129768 -213178.60087495847,-39277.20364566147 -213210.2984175075,-39317.20572883263 -213239.9418606688,-39352.70085285371 -213252.67224937305,-39367.94412512053 -213298.5050928516,-39416.03633062588 -213336.97313138196,-39444.96723146271 -213351.03680056936,-39453.7265764568 -213360.53384163976,-39459.71129895747 -213367.35397661355,-39464.42996991612 -213362.85234392094,-39474.55316905351 -213359.19190868406,-39483.098045714665 -213344.7945052469,-39516.492877175566 -213344.7945052469,-39516.492877175566 -213334.4638950973,-39539.9980121986 -213316.9486371023,-39579.032535130624 -213284.05760142693,-39654.60037398571 -213282.97477052896,-39657.074472834356 -213275.48303263113,-39674.39091123128 -213228.24105836012,-39785.242413368076 -213223.5912388482,-39796.48133092467 -213198.2273981859,-39856.177118824795 -213185.71594638447,-39884.074591293 -213181.15694452255,-39895.42236571759 -213173.02803034696,-39915.42381177563 -213171.19760978338,-39919.696207636036 -213168.78452182852,-39925.31789884623 -213165.11232515104,-39933.418169288896 -213152.88762381897,-39962.197884100024 -213141.97319113027,-39987.052069568075 -213134.74230051602,-40004.25050428882 -213123.60881858118,-40030.88948518783 -213117.28174645416,-40045.50719287433 -213115.203974588,-40050.45309822541 -213115.203974588,-40050.45309822541 -213093.1584535926,-40102.05730213504 -213081.83715059623,-40128.25620206492 -213077.89763019234,-40136.25204594387 -213073.4663411691,-40145.70605920674 -213063.95844043247,-40166.96578190895 -213043.3337221091,-40212.08387342282 -213027.575029611,-40247.51443295833 -212998.00452914313,-40311.76488576969 -212968.12444635548,-40367.34935525386 -212962.9282894691,-40377.9348229873 -212954.288639676,-40374.48542136885 -212948.40290510558,-40371.85542075802 -212898.43550964523,-40348.44226927264 -212829.00119653036,-40315.294270017184 -212812.40716115801,-40307.599314463325 -212812.40716115801,-40307.599314463325 -212760.56771902868,-40283.34343611263 -212690.21630625596,-40252.219304294325 -212621.60202798896,-40220.04955751076 -212552.31739852874,-40189.230740885716 -212527.78943296373,-40178.06745789852 -212497.85618447172,-40165.818396664225 -212493.41996339962,-40164.70803288091 -212444.65408332262,-40164.16924474109 -212437.41555127036,-40163.79733538162 -212430.4187172139,-40162.5296580866 -212423.17170901882,-40161.82434645854 -212404.56231714052,-40161.51917177206 -212376.50901635998,-40160.78686711704 -212370.42481228785,-40157.271899060346 -212325.00689148775,-40156.64729198534 -212272.8700582108,-40158.75083148852 -212272.8700582108,-40158.75083148852 -212246.010125172,-40159.87819238333 -212166.41413329533,-40160.343521181494 -212088.83604196977,-40160.423249938525 -212033.32870312675,-40161.72125974158 -211994.45297183268,-40161.8183972477 -211987.7621581252,-40165.657862656284 -211973.3105346611,-40165.91341692675 -211962.2152646172,-40166.41738114832 -211953.22317322053,-40166.42315613851 -211936.73955272973,-40166.50780523848 -211892.41555200005,-40167.29871272296 -211871.43306827953,-40167.274953921326 -211853.25859081303,-40166.73511700146 -211838.5969416095,-40165.66134524159 -211835.80646426883,-40177.297086221166 -211834.4270903817,-40182.00253741443 -211828.13993579405,-40198.28622000199 -211819.34211763638,-40219.86004179111 -211812.63411192555,-40236.93279445497 -211802.11002280735,-40263.443241475616 -211799.15808819627,-40272.191818881314 -211796.09831876872,-40280.16471787542 -211784.93257542732,-40316.14354706509 -211776.73768296614,-40347.598973220214 -211771.93525589159,-40370.2946563242 -211768.15061462278,-40391.40771017829 -211758.40345413893,-40462.490236110054 -211751.00426710874,-40518.3898063316 -211745.10181837738,-40553.34552652156 -211731.3555738724,-40623.19495376898 -211726.37582433256,-40649.34234218532 -211719.94045602562,-40677.19464327302 -211714.15436911385,-40699.359202160966 -211710.59024552992,-40711.79290644592 -211702.12545418963,-40739.58542210376 -211678.58908085618,-40812.79648356931 -211639.87279433585,-40941.10321301408 -211633.09370206643,-40965.85049389955 -211610.39713367572,-41051.38341025263 -211589.76213783,-41131.303957124706 -211570.9441840672,-41206.39675666345 -211562.24322745172,-41242.312783965375 -211554.69980262688,-41275.19704680191 -211542.4285610056,-41333.77735524904 -211532.57266206713,-41383.28916350659 -211521.85990788575,-41437.27070789924 -211518.94289312587,-41450.91113959998 -211515.23474308357,-41468.13004615111 -211507.92428640038,-41499.78513709735 -211500.221012488,-41533.34058841551 -211492.4585904396,-41564.5622978257 -211482.1699906063,-41624.87151390128 -211478.1035716505,-41641.877064194996 -211458.52765907245,-41714.9870878472 -211446.9523600436,-41759.3158107819 -211437.91831923174,-41792.57126228325 -211429.08575154262,-41826.8224149812 -211417.7641666726,-41867.252617259044 -211402.72729389762,-41917.673732237425 -211380.01227747992,-41988.750127402134 -211377.86731937886,-41994.58686588192 -211375.02581844534,-42000.77483039349 -211371.430578015,-42008.53868190199 -211363.66354913393,-42022.190542933065 -211360.01768286072,-42027.95404572878 -211355.84588977936,-42033.842052884866 -211352.68376526173,-42037.81409334671 -211336.22250685576,-42056.35631863214 -211325.10770024307,-42066.645582285244 -211318.7103114059,-42071.70025291853 -211312.04854696183,-42076.76160512911 -211302.4158992579,-42082.89890128607 -211289.02768468042,-42090.46557911532 -211270.0220657809,-42099.06389592402 -211258.30352443142,-42102.918658893555 -211246.7499789948,-42106.32442818396 -211237.63015046608,-42108.334233684 -211221.77823026315,-42112.627053205855 -211217.74423892752,-42113.50744632352 -211210.8134249473,-42114.90587514453 -211207.21442793132,-42115.552863855846 -211191.29225152585,-42117.067369211465 -211165.30718891422,-42118.168978805654 -211139.26595277112,-42117.04790207697 -211129.7177729646,-42116.06598035665 -211117.33842647463,-42114.710783894174 -211108.31056647733,-42113.38208618155 -211097.77619514393,-42111.757839670405 -211090.4086394256,-42109.831166178454 -211046.42563974523,-42096.5973560405 -211016.2393334774,-42088.463726295624 -210991.74345471474,-42082.18790640123 -210976.0851312473,-42076.68966374127 -210941.04329251076,-42061.33909886284 -210922.26594275207,-42058.03232823592 -210911.1608668466,-42054.75423934497 -210903.34157469927,-42052.3940023724 -210825.43451583927,-42033.12086766772 -210786.13564827168,-42023.77074692026 -210773.40962515556,-42022.64619467314 -210761.45586487735,-42024.17096873652 -210751.30378850095,-42027.207093372475 -210741.91835201715,-42032.67029231787 -210737.20495783977,-42041.574071489275 -210736.08775043135,-42049.719933294225 -210737.0754919401,-42053.92066150624 -210739.36825176538,-42057.421265365556 -210747.9068540472,-42067.325186524075 -210724.36064340992,-42053.24055624334 -210707.4884682545,-42048.55083973333 -210693.10335393253,-42044.57677809056 -210690.52819047615,-42043.863311412744 -210687.67184594588,-42042.489728074055 -210639.92304925696,-42030.23837634968 -210601.12794472117,-42019.87388080405 -210581.71695773132,-42008.9094492537 -210591.20775306056,-41972.641077847686 -210594.12801589275,-41962.55937079061 -210594.12801589275,-41962.55937079061 -210596.2342885897,-41955.16700676596 -210585.9921475247,-41940.63543117279 -210586.45084590276,-41937.84384226054 -210554.25281296892,-41930.315281554125 -210538.39232518597,-41927.26775117498 -210520.74571493402,-41926.82282247394 -210491.50073021147,-41928.004493703134 -210483.4103926066,-41928.87552889949 -210439.0059887242,-41944.33905205503 -210419.8501868294,-41950.492783815134 -210384.824119285,-41956.71252400661 -210371.73046501636,-41965.4935113485 -210342.84485429054,-41977.45210612239 -210327.97889311673,-41982.385608749 -210305.83938198487,-41985.61176221864 -210287.84018695043,-41985.1752144536 -210272.77559745856,-41982.21834823722 -210241.4547592259,-41970.996876569 -210226.93579269332,-41961.687743768096 -210206.61077164352,-41942.40538460435 -210199.0199081981,-41931.587476574816 -210172.40378272257,-41893.5591560388 -210169.5238735715,-41887.737953885924 -210155.40831430804,-41859.40319241956 -210146.44560356459,-41839.612471340224 -210144.558877882,-41831.20865739742 -210142.22743150257,-41819.146398078185 -210142.51149483246,-41812.91200017044 -210146.6563199526,-41791.90196579648 -210150.24286093697,-41780.246851476375 -210150.24286093697,-41780.246851476375 -210154.54698787932,-41765.57125889929 -210161.99688966037,-41746.257290808484 -210172.83720988352,-41728.526037056465 -210181.04635100596,-41721.86985923443 -210185.1068572233,-41718.542875760235 -210226.31589455385,-41695.26581787225 -210240.65410394775,-41686.89853407163 -210269.2423189418,-41670.16611035587 -210281.89639955072,-41664.954768922646 -210298.1003700096,-41660.654858992435 -210313.0413015318,-41658.72193442704 -210324.32882488848,-41658.771377136 -210342.03640533597,-41661.66159355687 -210358.35929051018,-41665.58744802233 -210374.29197162786,-41671.52471546084 -210388.8539619813,-41679.05328590702 -210402.5334377296,-41690.05128977168 -210416.76830032785,-41705.59452673001 -210429.77940181195,-41725.06060122419 -210442.39889545093,-41742.97970631672 -210463.13808076005,-41764.69748644577 -210480.62107451612,-41783.16122192377 -210485.8286777509,-41790.369291285984 -210485.8286777509,-41790.369291285984 -210493.8659981923,-41801.39809969999 -210502.05717838963,-41811.53341564303 -210513.03181282227,-41820.152974482626 -210520.23542217733,-41826.08751716185 -210535.80073897223,-41834.92497141473 -210555.53014241363,-41844.54706163611 -210562.37141224157,-41846.59866320621 -210600.68049347115,-41862.20202164538 -210619.9187457229,-41862.829055115115 -210636.80577053627,-41864.62733534025 -210644.6821073586,-41865.76316522807 -210663.1316419478,-41870.07962223329 -210678.22981584183,-41874.369350191206 -210685.34951623168,-41876.96983682411 -210685.34951623168,-41876.96983682411 -210692.3811006226,-41879.57253967365 -210706.32533191357,-41883.55771523388 -210737.56119855857,-41894.89079790702 -210741.3519708331,-41898.353614361025 -210746.8142375359,-41901.66306434572 -210754.76351482226,-41905.688181418926 -210810.84444444964,-41923.177482132334 -210870.76928894242,-41939.2349788025 -210889.56598737868,-41943.31977805868 -210939.27695249752,-41952.962533147074 -210950.52728414387,-41955.01370101888 -210987.72627462362,-41961.52484481549 -211041.65717663098,-41967.168382694945 -211047.41033678097,-41968.02386504877 -211094.4875064759,-41974.61860224884 -211101.21282301613,-41975.56068590935 -211149.03824164526,-41980.35699143121 -211192.54857027563,-41985.37330542551 -211208.66256416537,-41987.96838950738 -211219.03741973414,-41990.263733602595 -211223.30378615673,-41991.6014891346 -211229.26975392588,-41993.897083768155 -211232.57240407038,-41995.48160253791 -211233.55298232153,-41995.9016155838 -211242.05661213188,-42000.913072952535 -211245.01801972484,-42002.95102013741 -211247.79756521314,-42004.77116209036 -211252.3020070803,-42008.549311917275 -211264.50476724614,-42020.36169274757 -211274.5645273755,-42031.11623599334 -211279.40823843883,-42041.33546790341 -211283.7372785728,-42052.12371929595 -211285.9580106875,-42059.74044872541 -211288.001502253,-42070.80890033301 -211288.81790113336,-42078.6835464607 -211289.02768468042,-42090.46557911532 -211287.7337581269,-42102.06323710177 -211285.09830948364,-42112.91641150182 -211282.6316710583,-42119.98447174532 -211278.37626830765,-42129.54419438122 -211271.95430601147,-42140.60431821225 -211265.9055005394,-42148.986169802956 -211260.26076954667,-42155.912182553206 -211231.2336437238,-42186.670454128645 -211176.17987939523,-42241.327561780345 -211150.55074238204,-42266.99559353385 -211116.3852223605,-42300.329728534445 -211100.25121768494,-42314.415141284 -211087.99294948866,-42324.84416379314 -210982.38559638025,-42403.01724189753 -210966.23713563618,-42416.54674343439 -210944.47544542822,-42434.77718049986 -210919.08808893544,-42456.101517006755 -210815.81687022626,-42543.10951621551 -210811.84151394878,-42546.323450562544 -210802.68784724554,-42554.00487597613 -210620.43925435585,-42712.50323628448 -210478.28839813962,-42835.18155614799 -210410.02668796718,-42894.50289523089 -210388.98436684057,-42913.38090824196 -210264.16939810486,-43020.82916265167 -210210.56576207187,-43066.99182277545 -210188.74332805557,-43086.44493690552 -210010.62236061183,-43238.15347862337 -209946.48398312964,-43293.36398912873 -209901.94685202258,-43331.957522950135 -209855.04916456286,-43371.388496547006 -209851.772549672,-43374.36200345261 -209848.40500524495,-43377.22659184551 -209825.21258080975,-43398.38112609135 -209791.9005507747,-43427.46251256997 -209726.70997614422,-43483.03127483092 -209691.66797132406,-43513.49006991228 -209686.2324151829,-43518.29689536849 -209616.0594155044,-43579.21620804863 -209516.3084626685,-43667.00868961075 -209495.75476932907,-43684.42648523068 -209462.27808640854,-43714.066625173204 -209452.2683410667,-43722.879965703934 -209397.81881388562,-43770.83757461328 -209229.58337202366,-43916.94333433686 -209185.46080483013,-43954.744083868805 -209000.56187234508,-44115.49577421462 -208779.97618478897,-44306.15807540296 -208747.26277465813,-44334.77534150146 -208713.32341109932,-44363.75669171801 -208665.47793986343,-44404.53874869691 -208580.81613499683,-44475.707524989266 -208549.9879408788,-44502.16412679013 -208526.31781860723,-44522.103597995825 -208496.08413979976,-44547.65555623267 -208470.8686610038,-44569.30141862109 -208417.4407671289,-44616.22604723694 -208404.75161624097,-44627.328894521575 -208383.41649641626,-44645.43051250791 -208264.09429133235,-44748.818511574995 -208208.93150286286,-44797.00817640405 -208181.1004234321,-44819.94148504175 -208122.38609751023,-44870.776617979165 -208089.3677707656,-44897.953179432545 -208066.874219491,-44915.63799449243 -208037.94302403217,-44936.93019333389 -208004.63445478067,-44959.55443230178 -207971.7277566888,-44980.61173451925 -207961.98732508742,-44986.19170551142 -207944.16751314385,-44996.75428507151 -207915.67310032193,-45010.807183081284 -207839.61043805553,-45048.727819048334 -207820.44868653486,-45058.54509922769 -207811.80985714882,-45062.31830019131 -207783.94287872865,-45073.241540526506 -207750.81419304805,-45085.40747740725 -207725.18107439473,-45093.93979353085 -207698.04927800002,-45102.50927319843 -207653.01119568336,-45114.63716603257 -207612.04448854103,-45123.77248436678 -207585.09966637904,-45129.22335341992 -207552.17407875785,-45135.378657659516 -207540.5735097166,-45137.112326524686 -207504.33922396466,-45141.45920520602 -207481.02230495776,-45143.817269756924 -207407.32208395054,-45149.09372297861 -207276.0647847009,-45156.130746062845 -207114.17337811145,-45165.704090316314 -207039.02654057514,-45169.5675404761 -207011.27690788597,-45171.03329855902 -206894.58397012542,-45178.48196583474 -206836.00192371217,-45181.599919389 -206718.95062357106,-45188.832597951405 -206586.10558917027,-45195.89803213766 -206352.14829638082,-45209.12794928346 -206160.49149629087,-45220.752009219956 -206088.95558326805,-45224.40663039079 -206008.03949260054,-45226.8462576 -205951.84809240192,-45230.343872666825 -205911.5438840357,-45234.22811141657 -205855.00526025947,-45237.95602642 -205798.10576223268,-45241.35884618852 -205765.98080669864,-45244.26258386299 -205757.44882331023,-45245.25102450838 -205732.92988385182,-45248.96817735955 -205717.92904901976,-45252.33979073493 -205697.31629505547,-45257.07268431829 -205672.16862104376,-45263.91870756075 -205649.93006547162,-45270.69307504827 -205615.8443744155,-45283.54119908251 -205596.553160767,-45291.79970150674 -205583.38093540448,-45297.79486735817 -205571.87820109178,-45303.52655141521 -205544.4559477691,-45318.323265897576 -205529.935989245,-45326.90906884475 -205511.9580359314,-45338.35985098826 -205493.4948079207,-45351.60170969926 -205479.72917627147,-45362.170459923334 -205461.04781439315,-45377.30799120851 -205433.34747886937,-45402.34147954313 -205418.3685720963,-45417.387907614 -205405.5662497232,-45431.26882637525 -205393.71996896324,-45444.57023530081 -205366.74202767148,-45477.48087055469 -205335.65783387359,-45515.60744672967 -205321.86829024943,-45532.40365644172 -205315.35929387857,-45540.3474797816 -205208.71428059944,-45669.844498867635 -205162.10521697556,-45726.03216018574 -205136.50054764238,-45757.46270641405 -205085.48057822845,-45820.87489518477 -205059.51721659835,-45852.09159207065 -205022.31781161964,-45896.371683597565 -204974.46003931857,-45955.70242320513 -204938.24040887802,-46000.40288351895 -204901.13329044785,-46044.902533513494 -204869.1903718927,-46084.160292021 -204857.44951224467,-46098.23669821629 -204807.82605624013,-46157.60968998959 -204717.81760893227,-46268.2333662929 -204639.68663548192,-46363.21981734969 -204624.4552362053,-46382.49646615982 -204601.10891417993,-46412.646788401995 -204594.86846694394,-46420.80583572714 -204582.96935710192,-46435.66409374308 -204502.68264431888,-46532.81470893789 -204466.87971720984,-46576.72439813521 -204389.42381472085,-46670.691046437714 -204361.8504985487,-46704.835953505244 -204294.748715891,-46785.76069251867 -204258.19106235125,-46845.811658525374 -204238.11262653195,-46876.214638797566 -204217.39239198595,-46905.63245836459 -204211.7493984616,-46912.998213323765 -204190.3411812522,-46939.54160541296 -204184.59639402147,-46946.35383453965 -204138.76392066566,-47002.40522210719 -204138.76392066566,-47002.40522210719 -204136.19195473354,-47005.47038664855 -204110.16290435573,-47037.90871518059 -204103.9879599111,-47045.176181642804 -204098.93214843757,-47051.30433557741 -204089.9450757189,-47062.643591945525 -204076.26025909817,-47080.32463286631 -204069.49243994826,-47088.60733124055 -204019.58733825025,-47147.75979327643 -204001.46761087596,-47168.10649854597 -203989.85938811535,-47180.5103877699 -203949.00169432606,-47227.209802994505 -203916.86655990302,-47262.576410256326 -203875.43416277887,-47311.068635087926 -203867.09500909096,-47320.05666874116 -203805.198699385,-47383.28092104988 -203773.92637863773,-47421.51706742449 -203696.89817725288,-47515.57762569841 -203658.75180076144,-47561.431080312934 -203621.9996531353,-47606.5832019127 -203590.97393424538,-47644.14542037016 -203575.80422317784,-47662.52893389622 -203557.04716236665,-47685.781286789104 -203485.0517829901,-47772.934125238564 -203458.23760116685,-47805.94538345793 -203438.19498882972,-47830.7855100953 -203383.16011705573,-47897.06422433397 -203337.67230720093,-47953.21373134898 -203237.2186041407,-48074.97179438686 -203218.20588741082,-48098.674340408295 -203173.99272206542,-48152.9015451693 -203160.61635329816,-48168.905514148995 -203145.20444926343,-48188.294859464746 -203121.66036890674,-48218.00076428335 -203108.8318152456,-48234.76972203888 -203078.41417907557,-48275.76227221452 -203057.67003913736,-48304.51039126376 -203041.35773070715,-48326.81254632166 -202991.77766087334,-48399.961506200954 -202975.66564148883,-48423.25944150565 -202911.24442256612,-48521.23170509236 -202886.82900801513,-48558.74189729337 -202845.92625525067,-48618.66919771675 -202832.5384734692,-48637.897617940325 -202780.6831880254,-48711.989992104005 -202756.3035905782,-48747.38614109438 -202714.3406080984,-48807.338451938704 -202655.38390113937,-48890.7203684547 -202630.18254056992,-48925.02405708516 -202609.0635402956,-48953.00166976638 -202588.56445620942,-48981.075403339695 -202564.74943954506,-49014.34451021999 -202557.83441082996,-49023.963836180046 -202548.25797377632,-49036.649963961914 -202531.28569207917,-49060.96858814964 -202526.08337009745,-49068.433644443285 -202496.3174501152,-49111.07608532719 -202474.8453278652,-49142.731408702675 -202441.62629965966,-49188.57078825496 -202426.71094616642,-49210.39303392777 -202407.4265329016,-49237.658498030156 -202385.17070480148,-49269.777332394384 -202351.3870491671,-49317.85394317657 -202339.0123188052,-49335.277829211205 -202269.7520996615,-49434.47378416918 -202241.0709818053,-49474.64265167015 -202233.4791400513,-49485.50122981239 -202196.66766961606,-49550.7748186551 -202187.1411072524,-49565.572047326714 -202154.56302137818,-49612.506669051014 -202141.96848505887,-49631.82591076521 -202134.6624621551,-49643.5670625465 -202121.53636779802,-49666.45744142728 -202110.73483823796,-49683.28694737516 -202097.91576570505,-49704.27950651012 -202027.87908999354,-49822.729216636624 -202017.05338589437,-49842.227913958486 -202008.69966074618,-49858.108562017325 -202003.96421949798,-49866.673961702734 -201997.51681527516,-49888.40201567346 -201995.05358062978,-49899.692461556755 -201994.54351891307,-49904.15268164687 -201993.8631708744,-49916.17844437109 -201994.12623633913,-49927.06944441656 -201995.28746322985,-49938.6059347149 -201996.10853512207,-49943.36759419227 -201998.45095804596,-49952.651602846105 -202002.54714436308,-49965.11797560705 -202006.58965220102,-49975.36169334408 -202009.28721935372,-49981.07880069269 -202012.5167108678,-49986.89425535593 -202018.72949371708,-49995.6399738756 -202023.44776358668,-50000.974669831805 -202028.9733195294,-50006.845848068595 -202039.16615902813,-50015.94018963352 -202058.6403016591,-50032.92768876534 -202075.6550653194,-50046.74984482769 -202091.74753271215,-50058.92629279476 -202108.21973264194,-50072.20550868474 -202135.745604941,-50093.66853512963 -202191.38298211998,-50135.24579576356 -202204.1126793938,-50143.38902807655 -202197.35162981224,-50155.784228430595 -202189.60192226278,-50171.09446131857 -202174.58199275087,-50232.5050235088 -202167.19977444346,-50259.37088885391 -202159.63707123185,-50275.12135816412 -202150.29403542992,-50290.2476691124 -202129.91264637333,-50316.09333205549 -202137.54605805886,-50332.47725937283 -202153.70537402094,-50361.998793669976 -202161.06305261224,-50374.27505864389 -202166.91267425276,-50382.58466313314 -202166.91267425276,-50382.58466313314 -202167.27894760328,-50383.13179640984 -202170.37212396838,-50386.94893449405 -202173.74336690138,-50391.31533685792 -202183.29471175527,-50395.7547271885 -202194.00177335215,-50407.838792954106 -202199.0741335694,-50420.503870368004 -202392.2592073684,-50569.17234158376 -202405.9310405656,-50579.738830192015 -202405.9310405656,-50579.738830192015 -202571.26301399185,-50707.83861807827 -202584.016926099,-50709.642448307015 -202596.29126950103,-50720.79847449297 -202629.9375070905,-50747.00437518628 -202633.1805274568,-50749.70574263949 -202645.58833907783,-50759.07930362411 -202657.46150690873,-50768.24340668414 -202664.84319211525,-50774.18040447356 -202672.94137537215,-50780.544823498 -202677.98372230923,-50784.648139719386 -202686.97484393883,-50791.4356968333 -202693.53031879672,-50796.058321689256 -202706.06149663564,-50806.87437508674 -202715.4297665157,-50814.65354028158 -202724.79805370263,-50822.43269492593 -202732.0060979959,-50828.48504198389 -202737.36163789566,-50834.58228913788 -202733.57715758515,-50838.67714106385 -202729.1085033635,-50843.67815632885 -202666.19660425096,-50913.81179998955 -202666.19660425096,-50913.81179998955 -202591.93246838357,-50996.34046578407 -202545.64857899808,-51049.7243087925 -202534.026020554,-51054.56486437004 -202484.85771263659,-51112.799691872206 -202484.85771263659,-51112.799691872206 -202474.81332028707,-51124.496200787835 -202373.89291230513,-51229.129192306194 -202321.142069859,-51281.66741086915 -202321.142069859,-51281.66741086915 -202300.62423781326,-51301.956847298425 -202242.93795030148,-51358.50582811795 -202230.04477072333,-51361.93110272894 -202181.26169196243,-51410.702942298725 -202088.78805184658,-51496.22456463892 -202088.78805184658,-51496.22456463892 -202068.84103294607,-51514.609256001655 -202005.08578548188,-51572.19270609366 -201991.94966969106,-51583.852070779074 -201983.74024951563,-51591.16694629891 -201899.58689834154,-51666.81128071016 -201887.66684276098,-51677.66273928806 -201870.22111590244,-51693.65141760511 -201870.22111590244,-51693.65141760511 -201855.36572796432,-51707.24240412889 -201852.16098967195,-51717.105100150686 -201843.79631978535,-51725.31315581268 -201840.8583703922,-51727.94158818433 -201833.68591529678,-51734.34170806687 -201787.83604761236,-51776.813305769116 -201717.79427874016,-51837.43723974936 -201714.26547073462,-51841.191846400034 -201681.2171000999,-51869.12086704746 -201624.89390831374,-51920.29503195407 -201521.95824767184,-52015.402805346996 -201500.61849967996,-52034.70920334663 -201500.61849967996,-52034.70920334663 -201467.09548396058,-52064.98391021369 -201402.27316471637,-52126.25773966266 -201394.1001479697,-52135.127889939584 -201379.1068639881,-52150.38926344877 -201367.92604395747,-52162.667708648834 -201363.367617767,-52167.67011250695 -201350.5906484923,-52183.322867366485 -201233.8953006392,-52315.89790651668 -201171.13060842163,-52385.79370576562 -201087.9399834704,-52480.087380676065 -201076.3092632767,-52484.70363945933 -201038.72388246245,-52526.08267645724 -201006.52858634433,-52560.32661548536 -201004.3277618294,-52571.61038311198 -200962.97146831962,-52617.7499344009 -200914.87390127516,-52669.94461185858 -200860.2379814006,-52729.30138868 -200823.7787854152,-52769.87398019899 -200823.7787854152,-52769.87398019899 -200793.76886670978,-52803.286208490375 -200737.27532624145,-52866.24501675833 -200678.83704103925,-52929.13887433754 -200564.7518050441,-53057.30469703488 -200527.9553955273,-53098.662379099056 -200520.23232435063,-53107.96562383929 -200509.48479476472,-53120.010070681106 -200509.48479476472,-53120.010070681106 -200445.8467406064,-53190.81059012003 -200376.07640419944,-53259.97832797235 -200342.797973434,-53293.4671222372 -200330.66735926655,-53306.76760873478 -200285.32387040916,-53360.004459874704 -200244.26329937784,-53415.14007517416 -200230.8827168131,-53435.253314096946 -200230.8827168131,-53435.253314096946 -200218.01024698897,-53454.46479736315 -200187.19391616815,-53502.349556565285 -200169.57105547577,-53529.68077358371 -200141.56251975152,-53573.161505626515 -200132.62390172173,-53587.05250208033 -200105.69622525954,-53624.05785146821 -200091.9704868413,-53640.84320948552 -200040.14604545632,-53700.12704305351 -200032.91147208255,-53707.750179644674 -200018.23656864604,-53721.77819126705 -200000.60642845544,-53737.767160824966 -199984.4259265238,-53751.60870866431 -199984.4259265238,-53751.60870866431 -199974.3003945725,-53760.19046566216 -199968.22677731854,-53764.672294557095 -199960.28876971142,-53772.42337424867 -199959.06660646352,-53773.00856614066 -199906.91438928572,-53814.95272240462 -199879.00020267133,-53840.305244413204 -199864.89474637,-53852.31783471862 -199822.27026625394,-53890.25315305451 -199818.56587790916,-53894.122301376425 -199782.46666707672,-53928.00968941674 -199751.91086397253,-53961.097390082665 -199717.27081226924,-53996.95117776701 -199715.04798012102,-54000.006537825335 -199661.23128798892,-54061.11458225548 -199649.2828987251,-54074.74325868022 -199550.93474672962,-54182.83710117731 -199519.874068524,-54217.04790558107 -199512.2344096898,-54226.236972922925 -199484.79516635957,-54256.80300479615 -199484.79516635957,-54256.80300479615 -199479.80378247384,-54262.259425347205 -199381.05228336737,-54372.13990103034 -199228.59339720279,-54540.67530370178 -199094.6177279898,-54684.63844619412 -199085.06991002505,-54695.318048968446 -199085.06991002505,-54695.318048968446 -198968.4933211146,-54824.74315761542 -198846.0805184595,-54961.42177014658 -198840.4889617206,-54967.6704192562 -198817.64326720536,-54994.78909035912 -198817.64326720536,-54994.78909035912 -198711.56766249615,-55120.5138042192 -198678.75322969753,-55155.54130710801 -198650.1196399721,-55188.13431083551 -198644.8781864852,-55194.263313604984 -198636.55429837052,-55204.4685335774 -198601.1191621869,-55244.450538561214 -198531.5889968119,-55328.83010634035 -198519.02697272602,-55342.805210497696 -198519.02697272602,-55342.805210497696 -198434.00297293664,-55436.78071497474 -198409.76876582566,-55465.04308078578 -198342.00667753405,-55545.93197788717 -198314.96315582964,-55574.927810148336 -198247.8369057615,-55652.90973785892 -198168.70875443835,-55742.51726309676 -198146.78633098095,-55764.05233615823 -198146.78633098095,-55764.05233615823 -198143.59149902998,-55767.13026325032 -198138.0304382655,-55774.7120377426 -198089.91499635624,-55827.66825358337 -198014.87194942927,-55907.16993289022 -197935.46809037545,-55985.32850027876 -197883.95477369992,-56021.68450427381 -197846.22898546103,-56047.26186500583 -197846.22898546103,-56047.26186500583 -197829.8838046126,-56058.211835839786 -197810.65718648816,-56070.56422747066 -197797.6015560148,-56082.43713701842 -197781.40332346925,-56099.61048133345 -197766.25639333136,-56116.42536252085 -197749.3292409939,-56136.39575206349 -197726.81404806912,-56162.836271613836 -197651.27090055082,-56251.35315267509 -197597.61126182706,-56312.888157964684 -197580.0785039801,-56333.42845764337 -197580.0785039801,-56333.42845764337 -197532.8835618513,-56388.24987053173 -197497.90821132934,-56429.439208881464 -197430.2761009231,-56505.313395681325 -197399.28616015924,-56539.51417014701 -197382.85282719394,-56558.02658307925 -197382.85282719394,-56558.02658307925 -197334.75942490573,-56612.312018706 -197268.0262008889,-56692.72261963645 -197193.7790974808,-56780.426181090064 -197166.33511883995,-56807.75958451675 -197160.21178879685,-56802.78885648027 -197156.4177239841,-56799.208792068064 -197149.3828314004,-56793.036382825114 -197142.89404770176,-56791.29891060153 -197129.18265189382,-56779.168013392016 -197109.83771919544,-56756.60623290669 -197108.8397832994,-56751.73714868864 -197080.4343425862,-56719.49231392564 -197072.7050488099,-56706.33089993708 -197117.81857534408,-56671.68756014807 -197131.69938380824,-56661.019473101944 -197136.83890796863,-56654.22670498211 -197136.80080858685,-56645.109598218 -197135.90278068715,-56633.232867275365 -197135.86278944594,-56627.78524567047 -197135.0492553113,-56623.2454058812 -197132.1144803594,-56618.64433512511 -197131.83656411443,-56618.09490532102 -197124.31216443732,-56617.382571112365 -197120.80468264926,-56618.46593940025 -197071.32475010597,-56655.213633053005\" opacity=\"0.8\" /></g></svg>"
      ],
      "text/plain": [
       "<shapely.geometry.linestring.LineString at 0x7f8d64f39160>"
      ]
     },
     "execution_count": 26,
     "metadata": {},
     "output_type": "execute_result"
    }
   ],
   "source": [
    "geo"
   ]
  },
  {
   "cell_type": "code",
   "execution_count": 25,
   "id": "02f0920e-f48c-4aeb-84e7-7db85ca4c58f",
   "metadata": {},
   "outputs": [
    {
     "data": {
      "text/plain": [
       "False"
      ]
     },
     "execution_count": 25,
     "metadata": {},
     "output_type": "execute_result"
    }
   ],
   "source": [
    "geo.is_simple"
   ]
  },
  {
   "cell_type": "code",
   "execution_count": 27,
   "id": "f4d7348b-6849-4422-b285-f21eea352bdc",
   "metadata": {},
   "outputs": [],
   "source": [
    "import numpy as np"
   ]
  },
  {
   "cell_type": "code",
   "execution_count": 28,
   "id": "20de9c4e-5334-4dc9-b6da-cbd10c651390",
   "metadata": {},
   "outputs": [],
   "source": [
    "def show_simple_complex(linestring):\n",
    "    full_len = linestring.length\n",
    "    step = 0.1\n",
    "    splits = []\n",
    "    for split in np.arange(0, 1, step):\n",
    "        if split > 1:\n",
    "            split = 1\n",
    "        split_st = full_len * split\n",
    "        split_end = full_len * (split+step)\n",
    "        # pre_split = shapely.ops.substring(geo, 0, split_st)\n",
    "        split = shapely.ops.substring(geo, split_st, split_end)\n",
    "        splits += [[split_st, split_end, split.is_simple, split]]\n",
    "    return splits"
   ]
  },
  {
   "cell_type": "code",
   "execution_count": 29,
   "id": "a0c2d223-676d-4168-a739-d3522607bd35",
   "metadata": {},
   "outputs": [
    {
     "data": {
      "text/html": [
       "<div>\n",
       "<style scoped>\n",
       "    .dataframe tbody tr th:only-of-type {\n",
       "        vertical-align: middle;\n",
       "    }\n",
       "\n",
       "    .dataframe tbody tr th {\n",
       "        vertical-align: top;\n",
       "    }\n",
       "\n",
       "    .dataframe thead th {\n",
       "        text-align: right;\n",
       "    }\n",
       "</style>\n",
       "<table border=\"1\" class=\"dataframe\">\n",
       "  <thead>\n",
       "    <tr style=\"text-align: right;\">\n",
       "      <th></th>\n",
       "      <th>segment_st</th>\n",
       "      <th>segment_end</th>\n",
       "      <th>simple</th>\n",
       "      <th>geometry</th>\n",
       "    </tr>\n",
       "  </thead>\n",
       "  <tbody>\n",
       "    <tr>\n",
       "      <th>0</th>\n",
       "      <td>0.000000</td>\n",
       "      <td>5333.389503</td>\n",
       "      <td>True</td>\n",
       "      <td>LINESTRING (-210744.37200495336 -21854.5910541...</td>\n",
       "    </tr>\n",
       "    <tr>\n",
       "      <th>1</th>\n",
       "      <td>5333.389503</td>\n",
       "      <td>10666.779007</td>\n",
       "      <td>True</td>\n",
       "      <td>LINESTRING (-211610.0829775423 -25525.99831557...</td>\n",
       "    </tr>\n",
       "    <tr>\n",
       "      <th>2</th>\n",
       "      <td>10666.779007</td>\n",
       "      <td>16000.168510</td>\n",
       "      <td>True</td>\n",
       "      <td>LINESTRING (-211185.93999520756 -30542.8929989...</td>\n",
       "    </tr>\n",
       "    <tr>\n",
       "      <th>3</th>\n",
       "      <td>16000.168510</td>\n",
       "      <td>21333.558013</td>\n",
       "      <td>True</td>\n",
       "      <td>LINESTRING (-210637.70296056085 -35705.9496097...</td>\n",
       "    </tr>\n",
       "    <tr>\n",
       "      <th>4</th>\n",
       "      <td>21333.558013</td>\n",
       "      <td>26666.947517</td>\n",
       "      <td>False</td>\n",
       "      <td>LINESTRING (-212168.35532007198 -40160.3321727...</td>\n",
       "    </tr>\n",
       "    <tr>\n",
       "      <th>5</th>\n",
       "      <td>26666.947517</td>\n",
       "      <td>32000.337020</td>\n",
       "      <td>False</td>\n",
       "      <td>LINESTRING (-211667.58120282902 -40849.2768631...</td>\n",
       "    </tr>\n",
       "    <tr>\n",
       "      <th>6</th>\n",
       "      <td>32000.337020</td>\n",
       "      <td>37333.726523</td>\n",
       "      <td>True</td>\n",
       "      <td>LINESTRING (-210391.18730405127 -42911.4045541...</td>\n",
       "    </tr>\n",
       "    <tr>\n",
       "      <th>7</th>\n",
       "      <td>37333.726523</td>\n",
       "      <td>42667.116026</td>\n",
       "      <td>True</td>\n",
       "      <td>LINESTRING (-205856.52591217656 -45237.8557611...</td>\n",
       "    </tr>\n",
       "    <tr>\n",
       "      <th>8</th>\n",
       "      <td>42667.116026</td>\n",
       "      <td>48000.505530</td>\n",
       "      <td>True</td>\n",
       "      <td>LINESTRING (-202420.18081819676 -49219.6257218...</td>\n",
       "    </tr>\n",
       "    <tr>\n",
       "      <th>9</th>\n",
       "      <td>48000.505530</td>\n",
       "      <td>53333.895033</td>\n",
       "      <td>True</td>\n",
       "      <td>LINESTRING (-200516.9016863283 -53111.69817393...</td>\n",
       "    </tr>\n",
       "  </tbody>\n",
       "</table>\n",
       "</div>"
      ],
      "text/plain": [
       "     segment_st   segment_end  simple  \\\n",
       "0      0.000000   5333.389503    True   \n",
       "1   5333.389503  10666.779007    True   \n",
       "2  10666.779007  16000.168510    True   \n",
       "3  16000.168510  21333.558013    True   \n",
       "4  21333.558013  26666.947517   False   \n",
       "5  26666.947517  32000.337020   False   \n",
       "6  32000.337020  37333.726523    True   \n",
       "7  37333.726523  42667.116026    True   \n",
       "8  42667.116026  48000.505530    True   \n",
       "9  48000.505530  53333.895033    True   \n",
       "\n",
       "                                            geometry  \n",
       "0  LINESTRING (-210744.37200495336 -21854.5910541...  \n",
       "1  LINESTRING (-211610.0829775423 -25525.99831557...  \n",
       "2  LINESTRING (-211185.93999520756 -30542.8929989...  \n",
       "3  LINESTRING (-210637.70296056085 -35705.9496097...  \n",
       "4  LINESTRING (-212168.35532007198 -40160.3321727...  \n",
       "5  LINESTRING (-211667.58120282902 -40849.2768631...  \n",
       "6  LINESTRING (-210391.18730405127 -42911.4045541...  \n",
       "7  LINESTRING (-205856.52591217656 -45237.8557611...  \n",
       "8  LINESTRING (-202420.18081819676 -49219.6257218...  \n",
       "9  LINESTRING (-200516.9016863283 -53111.69817393...  "
      ]
     },
     "execution_count": 29,
     "metadata": {},
     "output_type": "execute_result"
    }
   ],
   "source": [
    "pd.DataFrame(show_simple_complex(geo), columns=['segment_st', 'segment_end', 'simple', 'geometry'])"
   ]
  },
  {
   "cell_type": "code",
   "execution_count": 30,
   "id": "6ae8f82b-f91d-4f55-8ba4-abeec09346f5",
   "metadata": {
    "tags": []
   },
   "outputs": [
    {
     "data": {
      "image/svg+xml": [
       "<svg xmlns=\"http://www.w3.org/2000/svg\" xmlns:xlink=\"http://www.w3.org/1999/xlink\" width=\"300\" height=\"300\" viewBox=\"-211750.06631046973 -42993.889661797184 1690.3239866078657 2227.0979062988117\" preserveAspectRatio=\"xMinYMin meet\"><g transform=\"matrix(1,0,0,-1,0,-83760.68141729556)\"><polyline fill=\"none\" stroke=\"#66cc99\" stroke-width=\"14.847319375325412\" points=\"-211667.58120282902,-40849.27686313907 -211639.87279433585,-40941.10321301408 -211633.09370206643,-40965.85049389955 -211610.39713367572,-41051.38341025263 -211589.76213783,-41131.303957124706 -211570.9441840672,-41206.39675666345 -211562.24322745172,-41242.312783965375 -211554.69980262688,-41275.19704680191 -211542.4285610056,-41333.77735524904 -211532.57266206713,-41383.28916350659 -211521.85990788575,-41437.27070789924 -211518.94289312587,-41450.91113959998 -211515.23474308357,-41468.13004615111 -211507.92428640038,-41499.78513709735 -211500.221012488,-41533.34058841551 -211492.4585904396,-41564.5622978257 -211482.1699906063,-41624.87151390128 -211478.1035716505,-41641.877064194996 -211458.52765907245,-41714.9870878472 -211446.9523600436,-41759.3158107819 -211437.91831923174,-41792.57126228325 -211429.08575154262,-41826.8224149812 -211417.7641666726,-41867.252617259044 -211402.72729389762,-41917.673732237425 -211380.01227747992,-41988.750127402134 -211377.86731937886,-41994.58686588192 -211375.02581844534,-42000.77483039349 -211371.430578015,-42008.53868190199 -211363.66354913393,-42022.190542933065 -211360.01768286072,-42027.95404572878 -211355.84588977936,-42033.842052884866 -211352.68376526173,-42037.81409334671 -211336.22250685576,-42056.35631863214 -211325.10770024307,-42066.645582285244 -211318.7103114059,-42071.70025291853 -211312.04854696183,-42076.76160512911 -211302.4158992579,-42082.89890128607 -211289.02768468042,-42090.46557911532 -211270.0220657809,-42099.06389592402 -211258.30352443142,-42102.918658893555 -211246.7499789948,-42106.32442818396 -211237.63015046608,-42108.334233684 -211221.77823026315,-42112.627053205855 -211217.74423892752,-42113.50744632352 -211210.8134249473,-42114.90587514453 -211207.21442793132,-42115.552863855846 -211191.29225152585,-42117.067369211465 -211165.30718891422,-42118.168978805654 -211139.26595277112,-42117.04790207697 -211129.7177729646,-42116.06598035665 -211117.33842647463,-42114.710783894174 -211108.31056647733,-42113.38208618155 -211097.77619514393,-42111.757839670405 -211090.4086394256,-42109.831166178454 -211046.42563974523,-42096.5973560405 -211016.2393334774,-42088.463726295624 -210991.74345471474,-42082.18790640123 -210976.0851312473,-42076.68966374127 -210941.04329251076,-42061.33909886284 -210922.26594275207,-42058.03232823592 -210911.1608668466,-42054.75423934497 -210903.34157469927,-42052.3940023724 -210825.43451583927,-42033.12086766772 -210786.13564827168,-42023.77074692026 -210773.40962515556,-42022.64619467314 -210761.45586487735,-42024.17096873652 -210751.30378850095,-42027.207093372475 -210741.91835201715,-42032.67029231787 -210737.20495783977,-42041.574071489275 -210736.08775043135,-42049.719933294225 -210737.0754919401,-42053.92066150624 -210739.36825176538,-42057.421265365556 -210747.9068540472,-42067.325186524075 -210724.36064340992,-42053.24055624334 -210707.4884682545,-42048.55083973333 -210693.10335393253,-42044.57677809056 -210690.52819047615,-42043.863311412744 -210687.67184594588,-42042.489728074055 -210639.92304925696,-42030.23837634968 -210601.12794472117,-42019.87388080405 -210581.71695773132,-42008.9094492537 -210591.20775306056,-41972.641077847686 -210594.12801589275,-41962.55937079061 -210594.12801589275,-41962.55937079061 -210596.2342885897,-41955.16700676596 -210585.9921475247,-41940.63543117279 -210586.45084590276,-41937.84384226054 -210554.25281296892,-41930.315281554125 -210538.39232518597,-41927.26775117498 -210520.74571493402,-41926.82282247394 -210491.50073021147,-41928.004493703134 -210483.4103926066,-41928.87552889949 -210439.0059887242,-41944.33905205503 -210419.8501868294,-41950.492783815134 -210384.824119285,-41956.71252400661 -210371.73046501636,-41965.4935113485 -210342.84485429054,-41977.45210612239 -210327.97889311673,-41982.385608749 -210305.83938198487,-41985.61176221864 -210287.84018695043,-41985.1752144536 -210272.77559745856,-41982.21834823722 -210241.4547592259,-41970.996876569 -210226.93579269332,-41961.687743768096 -210206.61077164352,-41942.40538460435 -210199.0199081981,-41931.587476574816 -210172.40378272257,-41893.5591560388 -210169.5238735715,-41887.737953885924 -210155.40831430804,-41859.40319241956 -210146.44560356459,-41839.612471340224 -210144.558877882,-41831.20865739742 -210142.22743150257,-41819.146398078185 -210142.51149483246,-41812.91200017044 -210146.6563199526,-41791.90196579648 -210150.24286093697,-41780.246851476375 -210150.24286093697,-41780.246851476375 -210154.54698787932,-41765.57125889929 -210161.99688966037,-41746.257290808484 -210172.83720988352,-41728.526037056465 -210181.04635100596,-41721.86985923443 -210185.1068572233,-41718.542875760235 -210226.31589455385,-41695.26581787225 -210240.65410394775,-41686.89853407163 -210269.2423189418,-41670.16611035587 -210281.89639955072,-41664.954768922646 -210298.1003700096,-41660.654858992435 -210313.0413015318,-41658.72193442704 -210324.32882488848,-41658.771377136 -210342.03640533597,-41661.66159355687 -210358.35929051018,-41665.58744802233 -210374.29197162786,-41671.52471546084 -210388.8539619813,-41679.05328590702 -210402.5334377296,-41690.05128977168 -210416.76830032785,-41705.59452673001 -210429.77940181195,-41725.06060122419 -210442.39889545093,-41742.97970631672 -210463.13808076005,-41764.69748644577 -210480.62107451612,-41783.16122192377 -210485.8286777509,-41790.369291285984 -210485.8286777509,-41790.369291285984 -210493.8659981923,-41801.39809969999 -210502.05717838963,-41811.53341564303 -210513.03181282227,-41820.152974482626 -210520.23542217733,-41826.08751716185 -210535.80073897223,-41834.92497141473 -210555.53014241363,-41844.54706163611 -210562.37141224157,-41846.59866320621 -210600.68049347115,-41862.20202164538 -210619.9187457229,-41862.829055115115 -210636.80577053627,-41864.62733534025 -210644.6821073586,-41865.76316522807 -210663.1316419478,-41870.07962223329 -210678.22981584183,-41874.369350191206 -210685.34951623168,-41876.96983682411 -210685.34951623168,-41876.96983682411 -210692.3811006226,-41879.57253967365 -210706.32533191357,-41883.55771523388 -210737.56119855857,-41894.89079790702 -210741.3519708331,-41898.353614361025 -210746.8142375359,-41901.66306434572 -210754.76351482226,-41905.688181418926 -210810.84444444964,-41923.177482132334 -210870.76928894242,-41939.2349788025 -210889.56598737868,-41943.31977805868 -210939.27695249752,-41952.962533147074 -210950.52728414387,-41955.01370101888 -210987.72627462362,-41961.52484481549 -211041.65717663098,-41967.168382694945 -211047.41033678097,-41968.02386504877 -211094.4875064759,-41974.61860224884 -211101.21282301613,-41975.56068590935 -211149.03824164526,-41980.35699143121 -211192.54857027563,-41985.37330542551 -211208.66256416537,-41987.96838950738 -211219.03741973414,-41990.263733602595 -211223.30378615673,-41991.6014891346 -211229.26975392588,-41993.897083768155 -211232.57240407038,-41995.48160253791 -211233.55298232153,-41995.9016155838 -211242.05661213188,-42000.913072952535 -211245.01801972484,-42002.95102013741 -211247.79756521314,-42004.77116209036 -211252.3020070803,-42008.549311917275 -211264.50476724614,-42020.36169274757 -211274.5645273755,-42031.11623599334 -211279.40823843883,-42041.33546790341 -211283.7372785728,-42052.12371929595 -211285.9580106875,-42059.74044872541 -211288.001502253,-42070.80890033301 -211288.81790113336,-42078.6835464607 -211289.02768468042,-42090.46557911532 -211287.7337581269,-42102.06323710177 -211285.09830948364,-42112.91641150182 -211282.6316710583,-42119.98447174532 -211278.37626830765,-42129.54419438122 -211271.95430601147,-42140.60431821225 -211265.9055005394,-42148.986169802956 -211260.26076954667,-42155.912182553206 -211231.2336437238,-42186.670454128645 -211176.17987939523,-42241.327561780345 -211150.55074238204,-42266.99559353385 -211116.3852223605,-42300.329728534445 -211100.25121768494,-42314.415141284 -211087.99294948866,-42324.84416379314 -210982.38559638025,-42403.01724189753 -210966.23713563618,-42416.54674343439 -210944.47544542822,-42434.77718049986 -210919.08808893544,-42456.101517006755 -210815.81687022626,-42543.10951621551 -210811.84151394878,-42546.323450562544 -210802.68784724554,-42554.00487597613 -210620.43925435585,-42712.50323628448 -210478.28839813962,-42835.18155614799 -210410.02668796718,-42894.50289523089 -210391.18730405127,-42911.404554156485\" opacity=\"0.8\" /></g></svg>"
      ],
      "text/plain": [
       "<shapely.geometry.linestring.LineString at 0x7f8d5ba2d760>"
      ]
     },
     "execution_count": 30,
     "metadata": {},
     "output_type": "execute_result"
    }
   ],
   "source": [
    "show_simple_complex(geo)[5][3]"
   ]
  },
  {
   "cell_type": "code",
   "execution_count": 84,
   "id": "6968b855-5d0a-4703-ba48-29b6a4dc30ba",
   "metadata": {},
   "outputs": [],
   "source": [
    "gdf = gpd.GeoDataFrame({'shape': [ex.shape_id], 'geometry': [geo]}, crs = shared_utils.geography_utils.CA_NAD83Albers)"
   ]
  },
  {
   "cell_type": "code",
   "execution_count": 85,
   "id": "acd98f4a-a5f5-4887-8914-709f8ad14436",
   "metadata": {
    "tags": []
   },
   "outputs": [],
   "source": [
    "utils.map_line(gdf)"
   ]
  },
  {
   "cell_type": "code",
   "execution_count": 35,
   "id": "ff9709c7-2af7-4d27-897f-d20ac29e6a32",
   "metadata": {
    "tags": []
   },
   "outputs": [],
   "source": [
    "# [(x, sam.position_interpolators[x]['rt'].shape.is_simple) for x in sam.position_interpolators.keys()]"
   ]
  },
  {
   "cell_type": "markdown",
   "id": "e0a34ff6-8099-4645-912a-8958ef6d7a19",
   "metadata": {},
   "source": [
    "## stats for non-progressing positions"
   ]
  },
  {
   "cell_type": "code",
   "execution_count": 48,
   "id": "64279123-d269-4ce3-b166-9e9c4ced126a",
   "metadata": {},
   "outputs": [],
   "source": [
    "sam_non_progress_series = [sam.position_interpolators[key]['rt'].position_gdf >> filter(-_.progressed) >> select(_.meters_from_last) for key in sam.position_interpolators.keys()]"
   ]
  },
  {
   "cell_type": "code",
   "execution_count": 49,
   "id": "219d9ac8-15a2-4c2e-9b21-113265ba7263",
   "metadata": {},
   "outputs": [
    {
     "name": "stderr",
     "output_type": "stream",
     "text": [
      "/tmp/ipykernel_931/3533518072.py:1: FutureWarning: The default dtype for empty Series will be 'object' instead of 'float64' in a future version. Specify a dtype explicitly to silence this warning.\n"
     ]
    }
   ],
   "source": [
    "all_np = pd.Series()\n",
    "for np in sam_non_progress_series:\n",
    "    all_np = pd.concat((all_np, np))"
   ]
  },
  {
   "cell_type": "code",
   "execution_count": 50,
   "id": "5abb2e64-5f4e-43f9-aa84-4dab9de56db1",
   "metadata": {},
   "outputs": [
    {
     "data": {
      "text/plain": [
       "0.0"
      ]
     },
     "execution_count": 50,
     "metadata": {},
     "output_type": "execute_result"
    }
   ],
   "source": [
    "all_np.meters_from_last.median()"
   ]
  },
  {
   "cell_type": "code",
   "execution_count": 51,
   "id": "bd0f9309-3fe2-4fb1-acf4-e77d6b95d0db",
   "metadata": {},
   "outputs": [],
   "source": [
    "all_np = all_np.apply(lambda x: abs(x)) >> filter(_.meters_from_last > 0)"
   ]
  },
  {
   "cell_type": "code",
   "execution_count": 52,
   "id": "6378d0ae-b98f-413e-b11b-aeed7bb73d4e",
   "metadata": {},
   "outputs": [
    {
     "data": {
      "text/plain": [
       "4.342589361126329"
      ]
     },
     "execution_count": 52,
     "metadata": {},
     "output_type": "execute_result"
    }
   ],
   "source": [
    "all_np.meters_from_last.quantile(.5)"
   ]
  },
  {
   "cell_type": "code",
   "execution_count": 53,
   "id": "55c2c9d4-cfad-4b8a-921a-50c963b6452f",
   "metadata": {},
   "outputs": [
    {
     "data": {
      "text/plain": [
       "282.2121205743536"
      ]
     },
     "execution_count": 53,
     "metadata": {},
     "output_type": "execute_result"
    }
   ],
   "source": [
    "all_np.meters_from_last.quantile(.8)"
   ]
  },
  {
   "cell_type": "code",
   "execution_count": 54,
   "id": "3ece7103-f7e2-49bf-9230-1b0004df5bdc",
   "metadata": {},
   "outputs": [
    {
     "data": {
      "text/plain": [
       "459.9110923020999"
      ]
     },
     "execution_count": 54,
     "metadata": {},
     "output_type": "execute_result"
    }
   ],
   "source": [
    "all_np.meters_from_last.mean()"
   ]
  },
  {
   "cell_type": "code",
   "execution_count": 55,
   "id": "d580a2ae-a70b-4992-99d3-79eaad4f942e",
   "metadata": {},
   "outputs": [
    {
     "data": {
      "text/plain": [
       "1.590134       19\n",
       "2.572077       14\n",
       "2.476809       14\n",
       "1.361410       13\n",
       "1.361400       12\n",
       "               ..\n",
       "1507.247856     1\n",
       "117.363291      1\n",
       "2073.437137     1\n",
       "1.063098        1\n",
       "45.529849       1\n",
       "Name: meters_from_last, Length: 3310, dtype: int64"
      ]
     },
     "execution_count": 55,
     "metadata": {},
     "output_type": "execute_result"
    }
   ],
   "source": [
    "all_np.meters_from_last.value_counts()"
   ]
  },
  {
   "cell_type": "code",
   "execution_count": 56,
   "id": "ef68fbc5-d136-49eb-b8c3-60aabe60ac54",
   "metadata": {},
   "outputs": [
    {
     "data": {
      "text/html": [
       "<div>\n",
       "<style scoped>\n",
       "    .dataframe tbody tr th:only-of-type {\n",
       "        vertical-align: middle;\n",
       "    }\n",
       "\n",
       "    .dataframe tbody tr th {\n",
       "        vertical-align: top;\n",
       "    }\n",
       "\n",
       "    .dataframe thead th {\n",
       "        text-align: right;\n",
       "    }\n",
       "</style>\n",
       "<table border=\"1\" class=\"dataframe\">\n",
       "  <thead>\n",
       "    <tr style=\"text-align: right;\">\n",
       "      <th></th>\n",
       "      <th>0</th>\n",
       "      <th>meters_from_last</th>\n",
       "    </tr>\n",
       "  </thead>\n",
       "  <tbody>\n",
       "    <tr>\n",
       "      <th>33</th>\n",
       "      <td>NaN</td>\n",
       "      <td>3.360355</td>\n",
       "    </tr>\n",
       "    <tr>\n",
       "      <th>50</th>\n",
       "      <td>NaN</td>\n",
       "      <td>530.313233</td>\n",
       "    </tr>\n",
       "    <tr>\n",
       "      <th>51</th>\n",
       "      <td>NaN</td>\n",
       "      <td>176.720918</td>\n",
       "    </tr>\n",
       "    <tr>\n",
       "      <th>85</th>\n",
       "      <td>NaN</td>\n",
       "      <td>210.383566</td>\n",
       "    </tr>\n",
       "    <tr>\n",
       "      <th>93</th>\n",
       "      <td>NaN</td>\n",
       "      <td>1.305119</td>\n",
       "    </tr>\n",
       "    <tr>\n",
       "      <th>...</th>\n",
       "      <td>...</td>\n",
       "      <td>...</td>\n",
       "    </tr>\n",
       "    <tr>\n",
       "      <th>76</th>\n",
       "      <td>NaN</td>\n",
       "      <td>13735.566598</td>\n",
       "    </tr>\n",
       "    <tr>\n",
       "      <th>12</th>\n",
       "      <td>NaN</td>\n",
       "      <td>469.219307</td>\n",
       "    </tr>\n",
       "    <tr>\n",
       "      <th>13</th>\n",
       "      <td>NaN</td>\n",
       "      <td>2.600646</td>\n",
       "    </tr>\n",
       "    <tr>\n",
       "      <th>2</th>\n",
       "      <td>NaN</td>\n",
       "      <td>190.309337</td>\n",
       "    </tr>\n",
       "    <tr>\n",
       "      <th>3</th>\n",
       "      <td>NaN</td>\n",
       "      <td>45.529849</td>\n",
       "    </tr>\n",
       "  </tbody>\n",
       "</table>\n",
       "<p>3764 rows × 2 columns</p>\n",
       "</div>"
      ],
      "text/plain": [
       "     0  meters_from_last\n",
       "33 NaN          3.360355\n",
       "50 NaN        530.313233\n",
       "51 NaN        176.720918\n",
       "85 NaN        210.383566\n",
       "93 NaN          1.305119\n",
       "..  ..               ...\n",
       "76 NaN      13735.566598\n",
       "12 NaN        469.219307\n",
       "13 NaN          2.600646\n",
       "2  NaN        190.309337\n",
       "3  NaN         45.529849\n",
       "\n",
       "[3764 rows x 2 columns]"
      ]
     },
     "execution_count": 56,
     "metadata": {},
     "output_type": "execute_result"
    }
   ],
   "source": [
    "all_np"
   ]
  },
  {
   "cell_type": "code",
   "execution_count": 93,
   "id": "080048cb-ee89-4306-8eba-dbf72f45c7df",
   "metadata": {},
   "outputs": [
    {
     "data": {
      "text/html": [
       "<div>\n",
       "<style scoped>\n",
       "    .dataframe tbody tr th:only-of-type {\n",
       "        vertical-align: middle;\n",
       "    }\n",
       "\n",
       "    .dataframe tbody tr th {\n",
       "        vertical-align: top;\n",
       "    }\n",
       "\n",
       "    .dataframe thead th {\n",
       "        text-align: right;\n",
       "    }\n",
       "</style>\n",
       "<table border=\"1\" class=\"dataframe\">\n",
       "  <thead>\n",
       "    <tr style=\"text-align: right;\">\n",
       "      <th></th>\n",
       "      <th>trip_id</th>\n",
       "      <th>percent of initial points after cleaning</th>\n",
       "      <th>percent of location-deduplicated initial points</th>\n",
       "    </tr>\n",
       "  </thead>\n",
       "  <tbody>\n",
       "    <tr>\n",
       "      <th>0</th>\n",
       "      <td>11403326-137-Blocks-Weekday-14</td>\n",
       "      <td>0.829060</td>\n",
       "      <td>0.941748</td>\n",
       "    </tr>\n",
       "    <tr>\n",
       "      <th>1</th>\n",
       "      <td>11427096-137-Blocks-Weekday-14</td>\n",
       "      <td>0.080201</td>\n",
       "      <td>0.800000</td>\n",
       "    </tr>\n",
       "    <tr>\n",
       "      <th>2</th>\n",
       "      <td>11403562-137-Blocks-Weekday-14</td>\n",
       "      <td>0.333333</td>\n",
       "      <td>0.769231</td>\n",
       "    </tr>\n",
       "    <tr>\n",
       "      <th>3</th>\n",
       "      <td>11403225-137-Blocks-Weekday-14</td>\n",
       "      <td>0.098237</td>\n",
       "      <td>0.829787</td>\n",
       "    </tr>\n",
       "    <tr>\n",
       "      <th>4</th>\n",
       "      <td>11427080-137-Blocks-Weekday-14</td>\n",
       "      <td>0.080247</td>\n",
       "      <td>0.722222</td>\n",
       "    </tr>\n",
       "    <tr>\n",
       "      <th>...</th>\n",
       "      <td>...</td>\n",
       "      <td>...</td>\n",
       "      <td>...</td>\n",
       "    </tr>\n",
       "    <tr>\n",
       "      <th>848</th>\n",
       "      <td>11403306-137-Blocks-Weekday-14</td>\n",
       "      <td>0.207792</td>\n",
       "      <td>0.444444</td>\n",
       "    </tr>\n",
       "    <tr>\n",
       "      <th>849</th>\n",
       "      <td>11401821-137-Blocks-Weekday-14</td>\n",
       "      <td>0.484848</td>\n",
       "      <td>0.941176</td>\n",
       "    </tr>\n",
       "    <tr>\n",
       "      <th>850</th>\n",
       "      <td>11402654-137-Blocks-Weekday-14</td>\n",
       "      <td>0.523810</td>\n",
       "      <td>0.970588</td>\n",
       "    </tr>\n",
       "    <tr>\n",
       "      <th>851</th>\n",
       "      <td>11463607-137-Blocks-Weekday-14</td>\n",
       "      <td>0.733333</td>\n",
       "      <td>0.846154</td>\n",
       "    </tr>\n",
       "    <tr>\n",
       "      <th>852</th>\n",
       "      <td>11463591-137-Blocks-Weekday-14</td>\n",
       "      <td>0.333333</td>\n",
       "      <td>0.571429</td>\n",
       "    </tr>\n",
       "  </tbody>\n",
       "</table>\n",
       "<p>853 rows × 3 columns</p>\n",
       "</div>"
      ],
      "text/plain": [
       "                            trip_id  percent of initial points after cleaning  \\\n",
       "0    11403326-137-Blocks-Weekday-14                                  0.829060   \n",
       "1    11427096-137-Blocks-Weekday-14                                  0.080201   \n",
       "2    11403562-137-Blocks-Weekday-14                                  0.333333   \n",
       "3    11403225-137-Blocks-Weekday-14                                  0.098237   \n",
       "4    11427080-137-Blocks-Weekday-14                                  0.080247   \n",
       "..                              ...                                       ...   \n",
       "848  11403306-137-Blocks-Weekday-14                                  0.207792   \n",
       "849  11401821-137-Blocks-Weekday-14                                  0.484848   \n",
       "850  11402654-137-Blocks-Weekday-14                                  0.523810   \n",
       "851  11463607-137-Blocks-Weekday-14                                  0.733333   \n",
       "852  11463591-137-Blocks-Weekday-14                                  0.333333   \n",
       "\n",
       "     percent of location-deduplicated initial points  \n",
       "0                                           0.941748  \n",
       "1                                           0.800000  \n",
       "2                                           0.769231  \n",
       "3                                           0.829787  \n",
       "4                                           0.722222  \n",
       "..                                               ...  \n",
       "848                                         0.444444  \n",
       "849                                         0.941176  \n",
       "850                                         0.970588  \n",
       "851                                         0.846154  \n",
       "852                                         0.571429  \n",
       "\n",
       "[853 rows x 3 columns]"
      ]
     },
     "execution_count": 93,
     "metadata": {},
     "output_type": "execute_result"
    }
   ],
   "source": [
    "pd.DataFrame([categorize_cleaning(sam, key) for key in sam.position_interpolators.keys()], columns=['trip_id',\n",
    "                                                                                                    'percent of initial points after cleaning',\n",
    "                                                                                                   'percent of location-deduplicated initial points'])"
   ]
  },
  {
   "cell_type": "code",
   "execution_count": 64,
   "id": "c238660f-3cee-43bf-b809-192e3cee3bbf",
   "metadata": {},
   "outputs": [
    {
     "data": {
      "text/html": [
       "<div>\n",
       "<style scoped>\n",
       "    .dataframe tbody tr th:only-of-type {\n",
       "        vertical-align: middle;\n",
       "    }\n",
       "\n",
       "    .dataframe tbody tr th {\n",
       "        vertical-align: top;\n",
       "    }\n",
       "\n",
       "    .dataframe thead th {\n",
       "        text-align: right;\n",
       "    }\n",
       "</style>\n",
       "<table border=\"1\" class=\"dataframe\">\n",
       "  <thead>\n",
       "    <tr style=\"text-align: right;\">\n",
       "      <th></th>\n",
       "      <th>calitp_itp_id</th>\n",
       "      <th>calitp_url_number</th>\n",
       "      <th>service_date</th>\n",
       "      <th>trip_key</th>\n",
       "      <th>trip_id</th>\n",
       "      <th>route_id</th>\n",
       "      <th>direction_id</th>\n",
       "      <th>shape_id</th>\n",
       "      <th>calitp_extracted_at</th>\n",
       "      <th>calitp_deleted_at</th>\n",
       "      <th>median_time</th>\n",
       "      <th>direction</th>\n",
       "      <th>mean_speed_mph</th>\n",
       "    </tr>\n",
       "  </thead>\n",
       "  <tbody>\n",
       "    <tr>\n",
       "      <th>154</th>\n",
       "      <td>290</td>\n",
       "      <td>1</td>\n",
       "      <td>2022-02-08</td>\n",
       "      <td>-5436864444649761470</td>\n",
       "      <td>11454053-137-Blocks-Weekday-14</td>\n",
       "      <td>398</td>\n",
       "      <td>0</td>\n",
       "      <td>SamTrans80:3980273</td>\n",
       "      <td>2022-01-31</td>\n",
       "      <td>2099-01-01</td>\n",
       "      <td>20:42:50.500000</td>\n",
       "      <td>Southbound</td>\n",
       "      <td>23.841306</td>\n",
       "    </tr>\n",
       "    <tr>\n",
       "      <th>1016</th>\n",
       "      <td>290</td>\n",
       "      <td>1</td>\n",
       "      <td>2022-02-08</td>\n",
       "      <td>-7193195425898549160</td>\n",
       "      <td>11454049-137-Blocks-Weekday-14</td>\n",
       "      <td>398</td>\n",
       "      <td>0</td>\n",
       "      <td>SamTrans80:3980273</td>\n",
       "      <td>2022-01-31</td>\n",
       "      <td>2099-01-01</td>\n",
       "      <td>12:43:11</td>\n",
       "      <td>Southbound</td>\n",
       "      <td>18.713125</td>\n",
       "    </tr>\n",
       "  </tbody>\n",
       "</table>\n",
       "</div>"
      ],
      "text/plain": [
       "      calitp_itp_id  calitp_url_number service_date             trip_key  \\\n",
       "154             290                  1   2022-02-08 -5436864444649761470   \n",
       "1016            290                  1   2022-02-08 -7193195425898549160   \n",
       "\n",
       "                             trip_id route_id direction_id  \\\n",
       "154   11454053-137-Blocks-Weekday-14      398            0   \n",
       "1016  11454049-137-Blocks-Weekday-14      398            0   \n",
       "\n",
       "                shape_id calitp_extracted_at calitp_deleted_at  \\\n",
       "154   SamTrans80:3980273          2022-01-31        2099-01-01   \n",
       "1016  SamTrans80:3980273          2022-01-31        2099-01-01   \n",
       "\n",
       "          median_time   direction  mean_speed_mph  \n",
       "154   20:42:50.500000  Southbound       23.841306  \n",
       "1016         12:43:11  Southbound       18.713125  "
      ]
     },
     "execution_count": 64,
     "metadata": {},
     "output_type": "execute_result"
    }
   ],
   "source": [
    "sam.rt_trips >> filter(_.route_id == '398', _.direction_id == '0')"
   ]
  },
  {
   "cell_type": "code",
   "execution_count": 62,
   "id": "0554c72c-887a-4b85-879c-4ca4ecf79ad1",
   "metadata": {},
   "outputs": [
    {
     "data": {
      "text/plain": [
       "'0'"
      ]
     },
     "execution_count": 62,
     "metadata": {},
     "output_type": "execute_result"
    }
   ],
   "source": [
    "ex.direction_id"
   ]
  },
  {
   "cell_type": "code",
   "execution_count": 65,
   "id": "622e68d9-d2c6-4da6-a7b9-370852302092",
   "metadata": {},
   "outputs": [
    {
     "data": {
      "text/plain": [
       "'11454049-137-Blocks-Weekday-14'"
      ]
     },
     "execution_count": 65,
     "metadata": {},
     "output_type": "execute_result"
    }
   ],
   "source": [
    "ex.trip_id"
   ]
  },
  {
   "cell_type": "markdown",
   "id": "a1e3ebcc-250f-42a6-a294-573d51b71912",
   "metadata": {},
   "source": [
    "### More data helps"
   ]
  },
  {
   "cell_type": "code",
   "execution_count": 87,
   "id": "4673f877-456c-4f43-808d-0212135736f1",
   "metadata": {},
   "outputs": [],
   "source": [
    "# sam.position_interpolators['11454053-137-Blocks-Weekday-14']['rt'].detailed_speed_map()"
   ]
  },
  {
   "cell_type": "code",
   "execution_count": 96,
   "id": "ed463d1d-ca7c-4e3a-8a19-b7d21abfe997",
   "metadata": {},
   "outputs": [],
   "source": [
    "# utils.layer_points(sam.position_interpolators['11454053-137-Blocks-Weekday-14']['rt'])"
   ]
  },
  {
   "cell_type": "markdown",
   "id": "4f18003c-6c12-4ff4-a925-b5272b19a693",
   "metadata": {},
   "source": [
    "### This cleaning step can be smooth, for example it only ran once for this trip"
   ]
  },
  {
   "cell_type": "code",
   "execution_count": 89,
   "id": "81424946-990b-430f-b53b-bd346accae33",
   "metadata": {},
   "outputs": [],
   "source": [
    "ex2 = sam.position_interpolators['11403326-137-Blocks-Weekday-14']['rt']"
   ]
  },
  {
   "cell_type": "code",
   "execution_count": 97,
   "id": "cf3f78e6-4342-4d3a-85f6-251fb5bffe9f",
   "metadata": {},
   "outputs": [],
   "source": [
    "# utils.layer_points(ex2)"
   ]
  },
  {
   "cell_type": "code",
   "execution_count": 98,
   "id": "2a007c0e-fd3a-44c8-a2b4-e89e30d866f9",
   "metadata": {},
   "outputs": [],
   "source": [
    "# gdf = gpd.GeoDataFrame({'shape': [ex2.shape_id], 'geometry': [ex2.shape]}, crs = shared_utils.geography_utils.CA_NAD83Albers)\n",
    "\n",
    "# utils.map_line(gdf)"
   ]
  },
  {
   "cell_type": "code",
   "execution_count": 93,
   "id": "14466f4b-ef40-4699-9ac4-cfc65faecbad",
   "metadata": {},
   "outputs": [],
   "source": [
    "# ex2.detailed_speed_map()"
   ]
  },
  {
   "cell_type": "code",
   "execution_count": null,
   "id": "0c377c7a-7d70-42c4-a730-98beb8046b88",
   "metadata": {},
   "outputs": [],
   "source": []
  },
  {
   "cell_type": "markdown",
   "id": "ba92bff8-02be-41c6-a233-4304572032b1",
   "metadata": {},
   "source": [
    "## What about some other operators?"
   ]
  },
  {
   "cell_type": "code",
   "execution_count": 65,
   "id": "fa9e9786-fca4-4a8c-8adf-f9e6c21ab461",
   "metadata": {},
   "outputs": [
    {
     "name": "stdout",
     "output_type": "stream",
     "text": [
      "found parquet\n",
      "found parquet\n",
      "found parquet\n",
      "found parquet\n",
      "found_parquet\n",
      "vehicle positions gdf must not be empty\n",
      "less than 1km of data\n",
      "less than 1km of data\n",
      "less than 1km of data\n",
      "less than 1km of data\n",
      "less than 1km of data\n",
      "less than 1km of data\n",
      "less than 1km of data\n",
      "less than 1km of data\n",
      "less than 1km of data\n",
      "vehicle positions gdf must not be empty\n",
      "less than 1km of data\n",
      "less than 1km of data\n",
      "less than 1km of data\n",
      "less than 1km of data\n",
      "less than 1km of data\n",
      "less than 1km of data\n",
      "less than 1km of data\n",
      "less than 1km of data\n",
      "less than 1km of data\n",
      "less than 1km of data\n",
      "vehicle positions gdf must not be empty\n",
      "less than 1km of data\n",
      "vehicle positions gdf must not be empty\n",
      "less than 1km of data\n",
      "less than 1km of data\n",
      "less than 1km of data\n",
      "less than 1km of data\n",
      "less than 1km of data\n"
     ]
    }
   ],
   "source": [
    "sbmtd = rt.OperatorDayAnalysis(293, analysis_date, pbar)"
   ]
  },
  {
   "cell_type": "code",
   "execution_count": 69,
   "id": "ae9566cc-5c11-4711-838e-d1b20c2ac6ae",
   "metadata": {},
   "outputs": [
    {
     "data": {
      "text/html": [
       "<div>\n",
       "<style scoped>\n",
       "    .dataframe tbody tr th:only-of-type {\n",
       "        vertical-align: middle;\n",
       "    }\n",
       "\n",
       "    .dataframe tbody tr th {\n",
       "        vertical-align: top;\n",
       "    }\n",
       "\n",
       "    .dataframe thead th {\n",
       "        text-align: right;\n",
       "    }\n",
       "</style>\n",
       "<table border=\"1\" class=\"dataframe\">\n",
       "  <thead>\n",
       "    <tr style=\"text-align: right;\">\n",
       "      <th></th>\n",
       "      <th>calitp_itp_id</th>\n",
       "      <th>calitp_url_number</th>\n",
       "      <th>service_date</th>\n",
       "      <th>trip_key</th>\n",
       "      <th>trip_id</th>\n",
       "      <th>route_id</th>\n",
       "      <th>direction_id</th>\n",
       "      <th>shape_id</th>\n",
       "      <th>calitp_extracted_at</th>\n",
       "      <th>calitp_deleted_at</th>\n",
       "      <th>median_time</th>\n",
       "      <th>direction</th>\n",
       "      <th>mean_speed_mph</th>\n",
       "    </tr>\n",
       "  </thead>\n",
       "  <tbody>\n",
       "    <tr>\n",
       "      <th>2</th>\n",
       "      <td>293</td>\n",
       "      <td>0</td>\n",
       "      <td>2022-02-08</td>\n",
       "      <td>4454682800876067958</td>\n",
       "      <td>800841030</td>\n",
       "      <td>6</td>\n",
       "      <td>1</td>\n",
       "      <td>shp-6-04</td>\n",
       "      <td>2021-12-18</td>\n",
       "      <td>2022-02-10</td>\n",
       "      <td>15:38:14</td>\n",
       "      <td>Westbound</td>\n",
       "      <td>11.470326</td>\n",
       "    </tr>\n",
       "    <tr>\n",
       "      <th>115</th>\n",
       "      <td>293</td>\n",
       "      <td>0</td>\n",
       "      <td>2022-02-08</td>\n",
       "      <td>-4557418924535906903</td>\n",
       "      <td>800847030</td>\n",
       "      <td>6</td>\n",
       "      <td>1</td>\n",
       "      <td>shp-6-04</td>\n",
       "      <td>2021-12-18</td>\n",
       "      <td>2022-02-10</td>\n",
       "      <td>12:36:38</td>\n",
       "      <td>Westbound</td>\n",
       "      <td>13.426449</td>\n",
       "    </tr>\n",
       "    <tr>\n",
       "      <th>164</th>\n",
       "      <td>293</td>\n",
       "      <td>0</td>\n",
       "      <td>2022-02-08</td>\n",
       "      <td>885801156839346046</td>\n",
       "      <td>800849030</td>\n",
       "      <td>6</td>\n",
       "      <td>1</td>\n",
       "      <td>shp-6-04</td>\n",
       "      <td>2021-12-18</td>\n",
       "      <td>2022-02-10</td>\n",
       "      <td>11:40:37.500000</td>\n",
       "      <td>Westbound</td>\n",
       "      <td>12.517786</td>\n",
       "    </tr>\n",
       "    <tr>\n",
       "      <th>177</th>\n",
       "      <td>293</td>\n",
       "      <td>0</td>\n",
       "      <td>2022-02-08</td>\n",
       "      <td>811895267587567791</td>\n",
       "      <td>800834030</td>\n",
       "      <td>6</td>\n",
       "      <td>1</td>\n",
       "      <td>shp-6-04</td>\n",
       "      <td>2021-12-18</td>\n",
       "      <td>2022-02-10</td>\n",
       "      <td>17:52:19</td>\n",
       "      <td>Westbound</td>\n",
       "      <td>12.342392</td>\n",
       "    </tr>\n",
       "    <tr>\n",
       "      <th>342</th>\n",
       "      <td>293</td>\n",
       "      <td>0</td>\n",
       "      <td>2022-02-08</td>\n",
       "      <td>2724814575258198476</td>\n",
       "      <td>800832030</td>\n",
       "      <td>6</td>\n",
       "      <td>1</td>\n",
       "      <td>shp-6-04</td>\n",
       "      <td>2021-12-18</td>\n",
       "      <td>2022-02-10</td>\n",
       "      <td>18:15:44</td>\n",
       "      <td>Westbound</td>\n",
       "      <td>8.571812</td>\n",
       "    </tr>\n",
       "    <tr>\n",
       "      <th>365</th>\n",
       "      <td>293</td>\n",
       "      <td>0</td>\n",
       "      <td>2022-02-08</td>\n",
       "      <td>3865504044402145696</td>\n",
       "      <td>800845030</td>\n",
       "      <td>6</td>\n",
       "      <td>1</td>\n",
       "      <td>shp-6-04</td>\n",
       "      <td>2021-12-18</td>\n",
       "      <td>2022-02-10</td>\n",
       "      <td>13:41:04</td>\n",
       "      <td>Westbound</td>\n",
       "      <td>12.183714</td>\n",
       "    </tr>\n",
       "    <tr>\n",
       "      <th>452</th>\n",
       "      <td>293</td>\n",
       "      <td>0</td>\n",
       "      <td>2022-02-08</td>\n",
       "      <td>818247832631865311</td>\n",
       "      <td>800840030</td>\n",
       "      <td>6</td>\n",
       "      <td>1</td>\n",
       "      <td>shp-6-04</td>\n",
       "      <td>2021-12-18</td>\n",
       "      <td>2022-02-10</td>\n",
       "      <td>15:55:26</td>\n",
       "      <td>Westbound</td>\n",
       "      <td>12.882781</td>\n",
       "    </tr>\n",
       "    <tr>\n",
       "      <th>536</th>\n",
       "      <td>293</td>\n",
       "      <td>0</td>\n",
       "      <td>2022-02-08</td>\n",
       "      <td>4328912869561063653</td>\n",
       "      <td>800853030</td>\n",
       "      <td>6</td>\n",
       "      <td>1</td>\n",
       "      <td>shp-6-04</td>\n",
       "      <td>2021-12-18</td>\n",
       "      <td>2022-02-10</td>\n",
       "      <td>09:39:49</td>\n",
       "      <td>Westbound</td>\n",
       "      <td>13.273122</td>\n",
       "    </tr>\n",
       "    <tr>\n",
       "      <th>572</th>\n",
       "      <td>293</td>\n",
       "      <td>0</td>\n",
       "      <td>2022-02-08</td>\n",
       "      <td>6720165131830200643</td>\n",
       "      <td>800837030</td>\n",
       "      <td>6</td>\n",
       "      <td>1</td>\n",
       "      <td>shp-6-04</td>\n",
       "      <td>2021-12-18</td>\n",
       "      <td>2022-02-10</td>\n",
       "      <td>16:58:07</td>\n",
       "      <td>Westbound</td>\n",
       "      <td>13.861656</td>\n",
       "    </tr>\n",
       "    <tr>\n",
       "      <th>834</th>\n",
       "      <td>293</td>\n",
       "      <td>0</td>\n",
       "      <td>2022-02-08</td>\n",
       "      <td>8296401396791920085</td>\n",
       "      <td>800858030</td>\n",
       "      <td>6</td>\n",
       "      <td>1</td>\n",
       "      <td>shp-6-04</td>\n",
       "      <td>2021-12-18</td>\n",
       "      <td>2022-02-10</td>\n",
       "      <td>07:37:01</td>\n",
       "      <td>Westbound</td>\n",
       "      <td>13.140462</td>\n",
       "    </tr>\n",
       "    <tr>\n",
       "      <th>900</th>\n",
       "      <td>293</td>\n",
       "      <td>0</td>\n",
       "      <td>2022-02-08</td>\n",
       "      <td>6256735403692111205</td>\n",
       "      <td>800838030</td>\n",
       "      <td>6</td>\n",
       "      <td>1</td>\n",
       "      <td>shp-6-04</td>\n",
       "      <td>2021-12-18</td>\n",
       "      <td>2022-02-10</td>\n",
       "      <td>16:40:58</td>\n",
       "      <td>Westbound</td>\n",
       "      <td>12.153408</td>\n",
       "    </tr>\n",
       "    <tr>\n",
       "      <th>1095</th>\n",
       "      <td>293</td>\n",
       "      <td>0</td>\n",
       "      <td>2022-02-08</td>\n",
       "      <td>4857334416797952992</td>\n",
       "      <td>800851030</td>\n",
       "      <td>6</td>\n",
       "      <td>1</td>\n",
       "      <td>shp-6-04</td>\n",
       "      <td>2021-12-18</td>\n",
       "      <td>2022-02-10</td>\n",
       "      <td>10:43:02</td>\n",
       "      <td>Westbound</td>\n",
       "      <td>13.204059</td>\n",
       "    </tr>\n",
       "  </tbody>\n",
       "</table>\n",
       "</div>"
      ],
      "text/plain": [
       "      calitp_itp_id  calitp_url_number service_date             trip_key  \\\n",
       "2               293                  0   2022-02-08  4454682800876067958   \n",
       "115             293                  0   2022-02-08 -4557418924535906903   \n",
       "164             293                  0   2022-02-08   885801156839346046   \n",
       "177             293                  0   2022-02-08   811895267587567791   \n",
       "342             293                  0   2022-02-08  2724814575258198476   \n",
       "365             293                  0   2022-02-08  3865504044402145696   \n",
       "452             293                  0   2022-02-08   818247832631865311   \n",
       "536             293                  0   2022-02-08  4328912869561063653   \n",
       "572             293                  0   2022-02-08  6720165131830200643   \n",
       "834             293                  0   2022-02-08  8296401396791920085   \n",
       "900             293                  0   2022-02-08  6256735403692111205   \n",
       "1095            293                  0   2022-02-08  4857334416797952992   \n",
       "\n",
       "        trip_id route_id direction_id  shape_id calitp_extracted_at  \\\n",
       "2     800841030        6            1  shp-6-04          2021-12-18   \n",
       "115   800847030        6            1  shp-6-04          2021-12-18   \n",
       "164   800849030        6            1  shp-6-04          2021-12-18   \n",
       "177   800834030        6            1  shp-6-04          2021-12-18   \n",
       "342   800832030        6            1  shp-6-04          2021-12-18   \n",
       "365   800845030        6            1  shp-6-04          2021-12-18   \n",
       "452   800840030        6            1  shp-6-04          2021-12-18   \n",
       "536   800853030        6            1  shp-6-04          2021-12-18   \n",
       "572   800837030        6            1  shp-6-04          2021-12-18   \n",
       "834   800858030        6            1  shp-6-04          2021-12-18   \n",
       "900   800838030        6            1  shp-6-04          2021-12-18   \n",
       "1095  800851030        6            1  shp-6-04          2021-12-18   \n",
       "\n",
       "     calitp_deleted_at      median_time  direction  mean_speed_mph  \n",
       "2           2022-02-10         15:38:14  Westbound       11.470326  \n",
       "115         2022-02-10         12:36:38  Westbound       13.426449  \n",
       "164         2022-02-10  11:40:37.500000  Westbound       12.517786  \n",
       "177         2022-02-10         17:52:19  Westbound       12.342392  \n",
       "342         2022-02-10         18:15:44  Westbound        8.571812  \n",
       "365         2022-02-10         13:41:04  Westbound       12.183714  \n",
       "452         2022-02-10         15:55:26  Westbound       12.882781  \n",
       "536         2022-02-10         09:39:49  Westbound       13.273122  \n",
       "572         2022-02-10         16:58:07  Westbound       13.861656  \n",
       "834         2022-02-10         07:37:01  Westbound       13.140462  \n",
       "900         2022-02-10         16:40:58  Westbound       12.153408  \n",
       "1095        2022-02-10         10:43:02  Westbound       13.204059  "
      ]
     },
     "execution_count": 69,
     "metadata": {},
     "output_type": "execute_result"
    }
   ],
   "source": [
    "sbmtd.rt_trips >> filter(_.shape_id == 'shp-6-04')"
   ]
  },
  {
   "cell_type": "code",
   "execution_count": 74,
   "id": "8fdd1e35-549d-4967-b881-80ba35e2fa01",
   "metadata": {},
   "outputs": [],
   "source": [
    "sb_trip = sbmtd.position_interpolators['800834030']['rt']"
   ]
  },
  {
   "cell_type": "code",
   "execution_count": 99,
   "id": "7fc72663-7bdb-417c-a110-32e110e7e9b0",
   "metadata": {},
   "outputs": [],
   "source": [
    "# sb_trip.detailed_speed_map()"
   ]
  },
  {
   "cell_type": "code",
   "execution_count": 100,
   "id": "3a40589c-1bf3-4bba-a9a1-2e053a2b11de",
   "metadata": {},
   "outputs": [],
   "source": [
    "# gdf = gpd.GeoDataFrame({'shape': [sb_trip.shape_id], 'geometry': [sb_trip.shape]}, crs = shared_utils.geography_utils.CA_NAD83Albers)\n",
    "# utils.map_line(gdf)"
   ]
  },
  {
   "cell_type": "code",
   "execution_count": 101,
   "id": "ef034bcd-a8cb-4da5-8d9c-85b43a6eff4b",
   "metadata": {},
   "outputs": [],
   "source": [
    "# utils.layer_points(sb_trip)"
   ]
  },
  {
   "cell_type": "code",
   "execution_count": null,
   "id": "3131487a-fd23-40fd-8907-f815d8afe1a7",
   "metadata": {},
   "outputs": [],
   "source": []
  }
 ],
 "metadata": {
  "kernelspec": {
   "display_name": "Python 3 (ipykernel)",
   "language": "python",
   "name": "python3"
  },
  "language_info": {
   "codemirror_mode": {
    "name": "ipython",
    "version": 3
   },
   "file_extension": ".py",
   "mimetype": "text/x-python",
   "name": "python",
   "nbconvert_exporter": "python",
   "pygments_lexer": "ipython3",
   "version": "3.9.10"
  }
 },
 "nbformat": 4,
 "nbformat_minor": 5
}
