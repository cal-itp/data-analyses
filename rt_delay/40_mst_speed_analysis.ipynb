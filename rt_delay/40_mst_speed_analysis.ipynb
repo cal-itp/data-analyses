{
 "cells": [
  {
   "cell_type": "code",
   "execution_count": null,
   "id": "ec753ee9-a727-4ba1-8f97-fd1745170ed5",
   "metadata": {},
   "outputs": [],
   "source": [
    "import os\n",
    "os.environ[\"CALITP_BQ_MAX_BYTES\"] = str(800_000_000_000)\n",
    "from shared_utils import rt_utils, rt_dates\n",
    "\n",
    "from rt_analysis import rt_parser, rt_filter_map_plot\n",
    "\n",
    "import pandas as pd\n",
    "import geopandas as gpd\n",
    "from siuba import *\n",
    "import datetime as dt\n",
    "\n",
    "from tqdm.notebook import tqdm"
   ]
  },
  {
   "cell_type": "code",
   "execution_count": null,
   "id": "73ba1ff8-d3c4-4988-8ed8-1695ae1d4de3",
   "metadata": {},
   "outputs": [],
   "source": [
    "from calitp_data_analysis.tables import tbls"
   ]
  },
  {
   "cell_type": "code",
   "execution_count": null,
   "id": "c846238f-ede8-4332-a9ad-48c39a8aee20",
   "metadata": {},
   "outputs": [],
   "source": [
    "mst_itp_id = 208"
   ]
  },
  {
   "cell_type": "code",
   "execution_count": null,
   "id": "a71d49c5-7664-4c96-b889-cba0151e3124",
   "metadata": {},
   "outputs": [],
   "source": [
    "key_dates = [\"sep2022a\", \"oct2022\", \"nov2022\", \"dec2022\",\n",
    "\"jan2023\", \"feb2023\", \"mar2023\",\n",
    "\"apr2023\", \"may2023\", \"jun2023\",\n",
    "\"jul2023\",\n",
    "\"aug2023a\"]"
   ]
  },
  {
   "cell_type": "code",
   "execution_count": null,
   "id": "bb1cb365-4c4c-4f4e-8058-59470372645a",
   "metadata": {},
   "outputs": [],
   "source": [
    "# key_dates = key_dates[1:3]"
   ]
  },
  {
   "cell_type": "code",
   "execution_count": null,
   "id": "76b7ad83-0b83-48fe-ae7e-c6016d622735",
   "metadata": {},
   "outputs": [],
   "source": [
    "key_dates = [dt.date.fromisoformat(rt_dates.DATES[date]) for date in key_dates]\n",
    "key_dates"
   ]
  },
  {
   "cell_type": "code",
   "execution_count": null,
   "id": "861eb7ee-1b19-4ffc-a166-4a832b31d04e",
   "metadata": {},
   "outputs": [],
   "source": [
    "# [rt_utils.get_operators(date, [mst_itp_id]) for date in key_dates]"
   ]
  },
  {
   "cell_type": "code",
   "execution_count": null,
   "id": "8465f65d-306c-4456-913b-94318307a735",
   "metadata": {},
   "outputs": [],
   "source": [
    "def run_process(analysis_date):\n",
    "\n",
    "    rt_day = rt_parser.OperatorDayAnalysis(mst_itp_id,\n",
    "                                           analysis_date, pbar)\n",
    "\n",
    "\n",
    "    rt_day.export_views_gcs()\n",
    "\n",
    "    rt_day = rt_filter_map_plot.from_gcs(mst_itp_id, analysis_date, pbar)\n",
    "\n",
    "    rt_day.set_filter(start_time='06:00', end_time='09:00')\n",
    "    _m = rt_day.segment_speed_map()\n",
    "    rt_day.set_filter(start_time='10:00', end_time='14:00')\n",
    "    _m = rt_day.segment_speed_map()\n",
    "    rt_day.set_filter(start_time='15:00', end_time='19:00')\n",
    "    _m = rt_day.segment_speed_map()"
   ]
  },
  {
   "cell_type": "code",
   "execution_count": null,
   "id": "f1243ac2-6ecc-47b5-9d35-f5abd2b4b6e0",
   "metadata": {
    "tags": []
   },
   "outputs": [],
   "source": [
    "# for date in key_dates:\n",
    "#     try:\n",
    "#         run_process(date)\n",
    "#     except Exception as e:\n",
    "#         print(e)"
   ]
  },
  {
   "cell_type": "code",
   "execution_count": null,
   "id": "6bcfb1a9-838e-4927-bd25-b5ac1345a20c",
   "metadata": {},
   "outputs": [],
   "source": [
    "periods = {'am_peak': {'start_time': '06:00', 'end_time': '09:00'},\n",
    "          'midday': {'start_time': '10:00', 'end_time': '14:00'},\n",
    "           'pm_peak': {'start_time': '15:00', 'end_time': '19:00'}\n",
    "          }"
   ]
  },
  {
   "cell_type": "code",
   "execution_count": null,
   "id": "340e6488-ee15-40a2-9e63-27a9621ba033",
   "metadata": {},
   "outputs": [],
   "source": [
    "pbar = tqdm()"
   ]
  },
  {
   "cell_type": "code",
   "execution_count": null,
   "id": "176a822c-53d9-4032-a66f-79155f2426b1",
   "metadata": {},
   "outputs": [],
   "source": [
    "rt_day = rt_filter_map_plot.from_gcs(mst_itp_id, key_dates[-1], pbar)"
   ]
  },
  {
   "cell_type": "code",
   "execution_count": null,
   "id": "95da9ae5-fd5a-4350-b6cf-8035bab5e3ec",
   "metadata": {},
   "outputs": [],
   "source": [
    "rt_day.set_filter(route_names=['20'])"
   ]
  },
  {
   "cell_type": "code",
   "execution_count": null,
   "id": "8bb4b4ab-b4dc-4fa6-8ef4-d4dd9478058b",
   "metadata": {},
   "outputs": [],
   "source": [
    "_m = rt_day.segment_speed_map()"
   ]
  },
  {
   "cell_type": "code",
   "execution_count": null,
   "id": "2d58e8c1-5818-40dd-9020-69fb471ba1fd",
   "metadata": {},
   "outputs": [],
   "source": [
    "# _m"
   ]
  },
  {
   "cell_type": "code",
   "execution_count": null,
   "id": "5a99b1be-b46d-45fb-8a09-49c369270b11",
   "metadata": {},
   "outputs": [],
   "source": [
    "rt_day.autocorridor(shape_id='0200095', stop_seq_range=[17, 24])"
   ]
  },
  {
   "cell_type": "code",
   "execution_count": null,
   "id": "0fa2e6c3-07c1-43cc-aaf8-faf93f751ef2",
   "metadata": {},
   "outputs": [],
   "source": [
    "static_corridor = rt_day.corridor.copy()"
   ]
  },
  {
   "cell_type": "code",
   "execution_count": null,
   "id": "4061e2ac-c596-4b59-b005-998f645da2cc",
   "metadata": {},
   "outputs": [],
   "source": [
    "# rt_day.segment_speed_map(corridor=True)"
   ]
  },
  {
   "cell_type": "code",
   "execution_count": null,
   "id": "e80a6226-41fb-4255-afdd-7219fd953b3e",
   "metadata": {
    "tags": []
   },
   "outputs": [],
   "source": [
    "all_dates = []\n",
    "\n",
    "for date in key_dates:\n",
    "    rt_day = rt_filter_map_plot.from_gcs(mst_itp_id, date, pbar)\n",
    "    rt_day.transit_priority_target_mph = 60\n",
    "    \n",
    "    for period in periods.keys():\n",
    "        rt_day.set_filter(**periods[period], route_names=['20'])\n",
    "        _m = rt_day.segment_speed_map(no_render=True)\n",
    "        rt_day.add_corridor(static_corridor)\n",
    "        rt_day.corridor_metrics()\n",
    "        rt_day.corridor[\"period\"] = period\n",
    "        rt_day.corridor[\"analysis_date\"] = rt_day.analysis_date.isoformat()\n",
    "        all_dates += [rt_day.corridor]\n",
    "        \n",
    "    rt_day.reset_filter()\n",
    "    rt_day.set_filter(route_names=['20'])\n",
    "    _m = rt_day.segment_speed_map(no_render=True)\n",
    "    rt_day.add_corridor(static_corridor)\n",
    "    rt_day.corridor_metrics()\n",
    "    rt_day.corridor[\"period\"] = \"all_day\"\n",
    "    rt_day.corridor[\"analysis_date\"] = rt_day.analysis_date.isoformat()\n",
    "    all_dates += [rt_day.corridor]"
   ]
  },
  {
   "cell_type": "code",
   "execution_count": null,
   "id": "286f88cb-5ce8-4d6e-a70f-ff95582655f4",
   "metadata": {},
   "outputs": [],
   "source": [
    "gdf = pd.concat(all_dates)"
   ]
  },
  {
   "cell_type": "code",
   "execution_count": null,
   "id": "8756c4f2-97df-4686-a495-ad0aa67ed8e2",
   "metadata": {},
   "outputs": [],
   "source": [
    "gdf.to_parquet('./_mst_sep22_onwards.parquet')"
   ]
  },
  {
   "cell_type": "code",
   "execution_count": null,
   "id": "0019a90b-dd52-42b9-979f-f5358d5c9734",
   "metadata": {},
   "outputs": [],
   "source": [
    "gdf >> head(5)"
   ]
  },
  {
   "cell_type": "code",
   "execution_count": null,
   "id": "03437b9b-9459-41f7-8a54-c5ec77b21c7f",
   "metadata": {},
   "outputs": [],
   "source": [
    "gdf.columns"
   ]
  },
  {
   "cell_type": "code",
   "execution_count": null,
   "id": "dec3cfb0-71db-41e3-8699-2987835d5996",
   "metadata": {},
   "outputs": [],
   "source": [
    "(gdf >> select(_.route_id, _.route_short_name, _.organization,\n",
    "              _.p20_corr_mph, _.p50_corr_mph, _.avg_corr_mph,\n",
    "               _.n_trips,\n",
    "              _.speed_delay_minutes, _.target_mph, _.period,\n",
    "              _.analysis_date)).to_csv('./2022_23_marina_corridor_speeds.csv')"
   ]
  },
  {
   "cell_type": "code",
   "execution_count": null,
   "id": "7e4d25b3-bbda-4392-9543-7a48a2ce82dd",
   "metadata": {},
   "outputs": [],
   "source": [
    "rt_day.quick_map_corridor()"
   ]
  },
  {
   "cell_type": "code",
   "execution_count": null,
   "id": "35cc54b0-643c-46da-9251-0060391da222",
   "metadata": {},
   "outputs": [],
   "source": []
  }
 ],
 "metadata": {
  "kernelspec": {
   "display_name": "Python 3 (ipykernel)",
   "language": "python",
   "name": "python3"
  },
  "language_info": {
   "codemirror_mode": {
    "name": "ipython",
    "version": 3
   },
   "file_extension": ".py",
   "mimetype": "text/x-python",
   "name": "python",
   "nbconvert_exporter": "python",
   "pygments_lexer": "ipython3",
   "version": "3.9.13"
  },
  "widgets": {
   "application/vnd.jupyter.widget-state+json": {
    "state": {},
    "version_major": 2,
    "version_minor": 0
   }
  }
 },
 "nbformat": 4,
 "nbformat_minor": 5
}
