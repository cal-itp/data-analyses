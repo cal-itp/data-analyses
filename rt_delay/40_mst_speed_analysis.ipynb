{
 "cells": [
  {
   "cell_type": "code",
   "execution_count": 2,
   "id": "ec753ee9-a727-4ba1-8f97-fd1745170ed5",
   "metadata": {},
   "outputs": [
    {
     "name": "stderr",
     "output_type": "stream",
     "text": [
      "/opt/conda/lib/python3.9/site-packages/geopandas/_compat.py:124: UserWarning: The Shapely GEOS version (3.11.1-CAPI-1.17.1) is incompatible with the GEOS version PyGEOS was compiled with (3.10.1-CAPI-1.16.0). Conversions between both will be slow.\n",
      "  warnings.warn(\n"
     ]
    }
   ],
   "source": [
    "import os\n",
    "os.environ[\"CALITP_BQ_MAX_BYTES\"] = str(800_000_000_000)\n",
    "import shared_utils\n",
    "\n",
    "from rt_analysis import rt_parser, rt_filter_map_plot\n",
    "\n",
    "import pandas as pd\n",
    "import geopandas as gpd\n",
    "from siuba import *\n",
    "import datetime as dt\n",
    "\n",
    "from tqdm.notebook import tqdm"
   ]
  },
  {
   "cell_type": "code",
   "execution_count": 3,
   "id": "73ba1ff8-d3c4-4988-8ed8-1695ae1d4de3",
   "metadata": {},
   "outputs": [],
   "source": [
    "from calitp_data_analysis.tables import tbls"
   ]
  },
  {
   "cell_type": "code",
   "execution_count": 4,
   "id": "c846238f-ede8-4332-a9ad-48c39a8aee20",
   "metadata": {},
   "outputs": [],
   "source": [
    "mst_itp_id = 208"
   ]
  },
  {
   "cell_type": "code",
   "execution_count": 5,
   "id": "a71d49c5-7664-4c96-b889-cba0151e3124",
   "metadata": {},
   "outputs": [],
   "source": [
    "key_dates = [\"oct2022\", \"nov2022\", \"dec2022\",\n",
    "\"jan2023\", \"feb2023\", \"mar2023\",\n",
    "\"apr2023\", \"may2023\", \"jun2023\",\n",
    "\"jul2023\",\n",
    "\"aug2023a\"]"
   ]
  },
  {
   "cell_type": "code",
   "execution_count": 6,
   "id": "bb1cb365-4c4c-4f4e-8058-59470372645a",
   "metadata": {},
   "outputs": [],
   "source": [
    "# key_dates = key_dates[1:3]"
   ]
  },
  {
   "cell_type": "code",
   "execution_count": 7,
   "id": "76b7ad83-0b83-48fe-ae7e-c6016d622735",
   "metadata": {},
   "outputs": [
    {
     "data": {
      "text/plain": [
       "[datetime.date(2022, 10, 12),\n",
       " datetime.date(2022, 11, 16),\n",
       " datetime.date(2022, 12, 14),\n",
       " datetime.date(2023, 1, 18),\n",
       " datetime.date(2023, 2, 15),\n",
       " datetime.date(2023, 3, 15),\n",
       " datetime.date(2023, 4, 12),\n",
       " datetime.date(2023, 5, 17),\n",
       " datetime.date(2023, 6, 14),\n",
       " datetime.date(2023, 7, 12),\n",
       " datetime.date(2023, 8, 23)]"
      ]
     },
     "execution_count": 7,
     "metadata": {},
     "output_type": "execute_result"
    }
   ],
   "source": [
    "key_dates = [dt.date.fromisoformat(shared_utils.rt_dates.DATES[date]) for date in key_dates]\n",
    "key_dates"
   ]
  },
  {
   "cell_type": "code",
   "execution_count": 8,
   "id": "861eb7ee-1b19-4ffc-a166-4a832b31d04e",
   "metadata": {},
   "outputs": [
    {
     "data": {
      "text/plain": [
       "[{208: 'already_ran'},\n",
       " {208: 'already_ran'},\n",
       " {208: 'already_ran'},\n",
       " {208: 'not_yet_run'},\n",
       " {208: 'already_ran'},\n",
       " {208: 'already_ran'},\n",
       " {208: 'already_ran'},\n",
       " {208: 'already_ran'},\n",
       " {208: 'already_ran'},\n",
       " {208: 'already_ran'},\n",
       " {208: 'already_ran'}]"
      ]
     },
     "execution_count": 8,
     "metadata": {},
     "output_type": "execute_result"
    }
   ],
   "source": [
    "[shared_utils.rt_utils.get_operators(date, [mst_itp_id]) for date in key_dates]"
   ]
  },
  {
   "cell_type": "code",
   "execution_count": 9,
   "id": "340e6488-ee15-40a2-9e63-27a9621ba033",
   "metadata": {},
   "outputs": [
    {
     "data": {
      "application/vnd.jupyter.widget-view+json": {
       "model_id": "14fb4f019b394910b7840f6471d90150",
       "version_major": 2,
       "version_minor": 0
      },
      "text/plain": [
       "0it [00:00, ?it/s]"
      ]
     },
     "metadata": {},
     "output_type": "display_data"
    }
   ],
   "source": [
    "pbar = tqdm()"
   ]
  },
  {
   "cell_type": "code",
   "execution_count": 10,
   "id": "8465f65d-306c-4456-913b-94318307a735",
   "metadata": {},
   "outputs": [],
   "source": [
    "def run_process(analysis_date):\n",
    "\n",
    "    rt_day = rt_parser.OperatorDayAnalysis(mst_itp_id,\n",
    "                                           analysis_date, pbar)\n",
    "\n",
    "\n",
    "    rt_day.export_views_gcs()\n",
    "\n",
    "    rt_day = rt_filter_map_plot.from_gcs(mst_itp_id, analysis_date, pbar)\n",
    "\n",
    "    rt_day.set_filter(start_time='06:00', end_time='09:00')\n",
    "    _m = rt_day.segment_speed_map()\n",
    "    rt_day.set_filter(start_time='10:00', end_time='14:00')\n",
    "    _m = rt_day.segment_speed_map()\n",
    "    rt_day.set_filter(start_time='15:00', end_time='19:00')\n",
    "    _m = rt_day.segment_speed_map()"
   ]
  },
  {
   "cell_type": "code",
   "execution_count": 17,
   "id": "b491572f-70ad-4c57-9ead-25a32820a341",
   "metadata": {},
   "outputs": [
    {
     "name": "stdout",
     "output_type": "stream",
     "text": [
      "found vp parquet at gs://calitp-analytics-data/data-analyses/rt_delay/v2_cached_views/vp_208_2023-01-18.parquet\n"
     ]
    },
    {
     "name": "stderr",
     "output_type": "stream",
     "text": [
      "/opt/conda/lib/python3.9/site-packages/sqlalchemy_bigquery/_types.py:101: SAWarning: Did not recognize type 'INTERVAL' of column 'arrival_time_interval'\n",
      "  sqlalchemy.util.warn(\n",
      "/opt/conda/lib/python3.9/site-packages/sqlalchemy_bigquery/_types.py:101: SAWarning: Did not recognize type 'INTERVAL' of column 'departure_time_interval'\n",
      "  sqlalchemy.util.warn(\n",
      "/opt/conda/lib/python3.9/site-packages/sqlalchemy_bigquery/_types.py:101: SAWarning: Did not recognize type 'INTERVAL' of column 'start_pickup_drop_off_window_interval'\n",
      "  sqlalchemy.util.warn(\n",
      "/opt/conda/lib/python3.9/site-packages/sqlalchemy_bigquery/_types.py:101: SAWarning: Did not recognize type 'INTERVAL' of column 'end_pickup_drop_off_window_interval'\n",
      "  sqlalchemy.util.warn(\n",
      "/opt/conda/lib/python3.9/site-packages/sqlalchemy_bigquery/_types.py:101: SAWarning: Did not recognize type 'GEOGRAPHY' of column 'pt_geom'\n",
      "  sqlalchemy.util.warn(\n",
      "/opt/conda/lib/python3.9/site-packages/sqlalchemy_bigquery/_types.py:101: SAWarning: Did not recognize type 'GEOGRAPHY' of column 'pt_array'\n",
      "  sqlalchemy.util.warn(\n",
      "/opt/conda/lib/python3.9/site-packages/shapely/linear.py:90: RuntimeWarning: invalid value encountered in line_locate_point\n",
      "  return lib.line_locate_point(line, other)\n"
     ]
    },
    {
     "name": "stdout",
     "output_type": "stream",
     "text": [
      "found shapes parquet at gs://calitp-analytics-data/data-analyses/rt_delay/v2_cached_views/shapes_208_2023-01-18.parquet\n"
     ]
    }
   ],
   "source": [
    "run_process(key_dates[3])"
   ]
  },
  {
   "cell_type": "code",
   "execution_count": 10,
   "id": "f1243ac2-6ecc-47b5-9d35-f5abd2b4b6e0",
   "metadata": {
    "tags": []
   },
   "outputs": [],
   "source": [
    "# for date in key_dates:\n",
    "#     try:\n",
    "#         run_process(date)\n",
    "#     except Exception as e:\n",
    "#         print(e)"
   ]
  },
  {
   "cell_type": "code",
   "execution_count": 11,
   "id": "539620f1-6c38-44fe-b439-20f18d7676ca",
   "metadata": {},
   "outputs": [
    {
     "name": "stdout",
     "output_type": "stream",
     "text": [
      "found shapes parquet at gs://calitp-analytics-data/data-analyses/rt_delay/v2_cached_views/shapes_208_2023-08-23.parquet\n"
     ]
    }
   ],
   "source": [
    "rt_day = rt_filter_map_plot.from_gcs(mst_itp_id, key_dates[-1], pbar)"
   ]
  },
  {
   "cell_type": "code",
   "execution_count": null,
   "id": "6de6afa9-6a43-4e7d-8a76-a2b396479125",
   "metadata": {},
   "outputs": [],
   "source": []
  }
 ],
 "metadata": {
  "kernelspec": {
   "display_name": "Python 3 (ipykernel)",
   "language": "python",
   "name": "python3"
  },
  "language_info": {
   "codemirror_mode": {
    "name": "ipython",
    "version": 3
   },
   "file_extension": ".py",
   "mimetype": "text/x-python",
   "name": "python",
   "nbconvert_exporter": "python",
   "pygments_lexer": "ipython3",
   "version": "3.9.13"
  },
  "widgets": {
   "application/vnd.jupyter.widget-state+json": {
    "state": {
     "10eaefa5f2a241649c19f0f609f0e651": {
      "model_module": "@jupyter-widgets/base",
      "model_module_version": "1.2.0",
      "model_name": "LayoutModel",
      "state": {}
     },
     "14fb4f019b394910b7840f6471d90150": {
      "model_module": "@jupyter-widgets/controls",
      "model_module_version": "1.5.0",
      "model_name": "HBoxModel",
      "state": {
       "children": [
        "IPY_MODEL_81d49b07170b4a8388f9d0bb1d35915d",
        "IPY_MODEL_e52b2e9d9f2748038d72412f7cb538f3",
        "IPY_MODEL_cc05b036206c49e2acf68cfb87f0acca"
       ],
       "layout": "IPY_MODEL_f9de146912204a3182ac7aff0c040610"
      }
     },
     "19668ed1808646a1b35cf0bf5c5726e9": {
      "model_module": "@jupyter-widgets/controls",
      "model_module_version": "1.5.0",
      "model_name": "DescriptionStyleModel",
      "state": {
       "description_width": ""
      }
     },
     "2ed7c2b0987c4e328f1d7b491328dbda": {
      "model_module": "@jupyter-widgets/controls",
      "model_module_version": "1.5.0",
      "model_name": "ProgressStyleModel",
      "state": {
       "description_width": ""
      }
     },
     "81d49b07170b4a8388f9d0bb1d35915d": {
      "model_module": "@jupyter-widgets/controls",
      "model_module_version": "1.5.0",
      "model_name": "HTMLModel",
      "state": {
       "layout": "IPY_MODEL_10eaefa5f2a241649c19f0f609f0e651",
       "style": "IPY_MODEL_f6b5290daa0b44139b0cfb6dc990db9c",
       "value": "Generating segment speeds itp_id: 208 org: Monterey-Salina: 100%"
      }
     },
     "a175589ba2da4e3fb9711fad00a3b84d": {
      "model_module": "@jupyter-widgets/base",
      "model_module_version": "1.2.0",
      "model_name": "LayoutModel",
      "state": {}
     },
     "a6ecdd85ac5f48dfbfdbf6a92b885935": {
      "model_module": "@jupyter-widgets/base",
      "model_module_version": "1.2.0",
      "model_name": "LayoutModel",
      "state": {}
     },
     "cc05b036206c49e2acf68cfb87f0acca": {
      "model_module": "@jupyter-widgets/controls",
      "model_module_version": "1.5.0",
      "model_name": "HTMLModel",
      "state": {
       "layout": "IPY_MODEL_a175589ba2da4e3fb9711fad00a3b84d",
       "style": "IPY_MODEL_19668ed1808646a1b35cf0bf5c5726e9",
       "value": " 59/59 [00:53&lt;00:00,  1.36it/s]"
      }
     },
     "e52b2e9d9f2748038d72412f7cb538f3": {
      "model_module": "@jupyter-widgets/controls",
      "model_module_version": "1.5.0",
      "model_name": "FloatProgressModel",
      "state": {
       "layout": "IPY_MODEL_a6ecdd85ac5f48dfbfdbf6a92b885935",
       "max": 59,
       "style": "IPY_MODEL_2ed7c2b0987c4e328f1d7b491328dbda",
       "value": 59
      }
     },
     "f6b5290daa0b44139b0cfb6dc990db9c": {
      "model_module": "@jupyter-widgets/controls",
      "model_module_version": "1.5.0",
      "model_name": "DescriptionStyleModel",
      "state": {
       "description_width": ""
      }
     },
     "f9de146912204a3182ac7aff0c040610": {
      "model_module": "@jupyter-widgets/base",
      "model_module_version": "1.2.0",
      "model_name": "LayoutModel",
      "state": {}
     }
    },
    "version_major": 2,
    "version_minor": 0
   }
  }
 },
 "nbformat": 4,
 "nbformat_minor": 5
}
