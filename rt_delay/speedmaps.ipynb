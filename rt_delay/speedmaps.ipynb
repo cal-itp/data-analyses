{
 "cells": [
  {
   "cell_type": "code",
   "execution_count": null,
   "id": "46898b5c-b5cc-4096-ab68-8c3e42fab870",
   "metadata": {},
   "outputs": [],
   "source": [
    "%%capture\n",
    "import warnings\n",
    "warnings.filterwarnings('ignore')\n",
    "\n",
    "import os\n",
    "os.environ[\"CALITP_BQ_MAX_BYTES\"] = str(800_000_000_000)\n",
    "import shared_utils\n",
    "\n",
    "from calitp_data_analysis.tables import tbls\n",
    "import calitp_data_analysis.magics\n",
    "\n",
    "from siuba import *\n",
    "import pandas as pd\n",
    "import geopandas as gpd\n",
    "\n",
    "import datetime as dt\n",
    "\n",
    "import importlib\n",
    "from rt_analysis import rt_filter_map_plot\n",
    "\n",
    "from IPython.display import display, Markdown, Latex, HTML\n",
    "import json"
   ]
  },
  {
   "cell_type": "code",
   "execution_count": null,
   "id": "9f15ed6a-5ab7-4f57-9695-3f762781b74c",
   "metadata": {
    "tags": [
     "parameters"
    ]
   },
   "outputs": [],
   "source": [
    "## parameters cell\n",
    "itp_id = 290"
   ]
  },
  {
   "cell_type": "code",
   "execution_count": null,
   "id": "a639fd84-29ca-4678-b568-2b1022701e14",
   "metadata": {},
   "outputs": [],
   "source": [
    "analysis_date = dt.date(2023, 3, 15) #v2! rerun April for SacRT?"
   ]
  },
  {
   "cell_type": "code",
   "execution_count": null,
   "id": "47c79d99-c82f-4e1e-b11e-2b1e83c13a1b",
   "metadata": {},
   "outputs": [],
   "source": [
    "%%capture_parameters\n",
    "human_date = analysis_date.strftime('%B %d (%A)')\n",
    "human_date"
   ]
  },
  {
   "cell_type": "code",
   "execution_count": null,
   "id": "e4cbefc6-9bbb-4989-85b7-1f31da17fcb8",
   "metadata": {},
   "outputs": [],
   "source": [
    "%%capture\n",
    "rt_day = rt_filter_map_plot.from_gcs(itp_id, analysis_date)"
   ]
  },
  {
   "cell_type": "code",
   "execution_count": null,
   "id": "6c335d40-7a7b-4641-8a3d-c970b2823cdf",
   "metadata": {},
   "outputs": [],
   "source": [
    "%%capture_parameters\n",
    "organization_name = rt_day.organization_name\n",
    "organization_name"
   ]
  },
  {
   "cell_type": "markdown",
   "id": "52110155-d104-4043-8376-3f83e82a959a",
   "metadata": {},
   "source": [
    "# {organization_name}"
   ]
  },
  {
   "cell_type": "markdown",
   "id": "7d5572cd-dd67-4e26-b100-a0e7472a4a17",
   "metadata": {
    "tags": []
   },
   "source": [
    "## About These Maps:\n",
    "\n",
    "* Each map shows bus (and rail, if applicable) speeds for {organization_name}, with a map each for the morning peak, midday, and afternoon peak periods on {human_date}.\n",
    "* On the map, routes are split into segments corresponding to the distance between two stops, allowing you to focus on specific portions of the route experiencing a slowdown.\n",
    "* Route segments are arrow-shaped to indicate direction of travel. Thicker segments indicate more frequent transit routes.\n",
    "* Hover over, or click, a segment with your mouse to see the exact speed, route name, and transit service frequency in that segment. \n",
    "    * Higher-frequency routes (3+ trips per hour) are especially important, since those slowdowns correspond to more vehicles, and riders, delayed in traffic."
   ]
  },
  {
   "cell_type": "markdown",
   "id": "74fce4a9-514f-405d-9ce0-1cb1998a696b",
   "metadata": {
    "tags": []
   },
   "source": [
    "## Morning Peak"
   ]
  },
  {
   "cell_type": "code",
   "execution_count": null,
   "id": "533a64f4-f374-4f2c-94d3-5146ebe7c036",
   "metadata": {},
   "outputs": [],
   "source": [
    "%%capture\n",
    "rt_day.set_filter(start_time='06:00', end_time='09:00')"
   ]
  },
  {
   "cell_type": "code",
   "execution_count": null,
   "id": "8e940d3d-c76e-42ba-be8b-739852771ca6",
   "metadata": {},
   "outputs": [],
   "source": [
    "## avoid papermill errors when map fails to render\n",
    "m = None"
   ]
  },
  {
   "cell_type": "code",
   "execution_count": null,
   "id": "2f317120-99ee-435b-96cd-1236b8ee2e0b",
   "metadata": {
    "tags": []
   },
   "outputs": [],
   "source": [
    "%%capture\n",
    "m = rt_day.segment_speed_map(how='low_speeds', no_title=True)"
   ]
  },
  {
   "cell_type": "code",
   "execution_count": null,
   "id": "275087be-b46d-4acb-95fe-2dc98c2089a2",
   "metadata": {
    "tags": []
   },
   "outputs": [],
   "source": [
    "m"
   ]
  },
  {
   "cell_type": "code",
   "execution_count": null,
   "id": "206d9aa8-9f20-4cb0-a467-eecb4fc8466e",
   "metadata": {},
   "outputs": [],
   "source": [
    "rt_day.describe_slow_routes()"
   ]
  },
  {
   "cell_type": "markdown",
   "id": "3d263ba2-49ae-4e02-9d06-3181b03f51ba",
   "metadata": {},
   "source": [
    "## Midday"
   ]
  },
  {
   "cell_type": "code",
   "execution_count": null,
   "id": "f5344e63-89d2-43d6-9783-55a3061c99d2",
   "metadata": {},
   "outputs": [],
   "source": [
    "%%capture\n",
    "rt_day.set_filter(start_time='10:00', end_time='14:00')"
   ]
  },
  {
   "cell_type": "code",
   "execution_count": null,
   "id": "ba0d03e4-b68b-434d-8c15-2c646ca517b7",
   "metadata": {},
   "outputs": [],
   "source": [
    "## avoid papermill errors when map fails to render\n",
    "m = None"
   ]
  },
  {
   "cell_type": "code",
   "execution_count": null,
   "id": "a4c40f3c-cf35-45d5-9d87-aa4701bed3aa",
   "metadata": {
    "tags": []
   },
   "outputs": [],
   "source": [
    "%%capture\n",
    "m = rt_day.segment_speed_map(how='low_speeds', no_title=True)"
   ]
  },
  {
   "cell_type": "code",
   "execution_count": null,
   "id": "a78b7db5-f43f-4bf1-8036-ae972a87fc53",
   "metadata": {
    "tags": []
   },
   "outputs": [],
   "source": [
    "m"
   ]
  },
  {
   "cell_type": "code",
   "execution_count": null,
   "id": "41198fd0-f8a8-4903-b242-27a581387707",
   "metadata": {},
   "outputs": [],
   "source": [
    "rt_day.describe_slow_routes()"
   ]
  },
  {
   "cell_type": "markdown",
   "id": "704f0788-b4a8-497d-b2aa-c7ac6df939f4",
   "metadata": {
    "tags": []
   },
   "source": [
    "## Afternoon Peak"
   ]
  },
  {
   "cell_type": "code",
   "execution_count": null,
   "id": "923f1462-b34a-42d2-a632-c5eb3ac16ac6",
   "metadata": {},
   "outputs": [],
   "source": [
    "%%capture\n",
    "rt_day.set_filter(start_time='15:00', end_time='19:00')"
   ]
  },
  {
   "cell_type": "code",
   "execution_count": null,
   "id": "bf3e3142-0ef8-4b92-ad29-fa000cf294d0",
   "metadata": {},
   "outputs": [],
   "source": [
    "## avoid papermill errors when map fails to render\n",
    "m = None"
   ]
  },
  {
   "cell_type": "code",
   "execution_count": null,
   "id": "5e46b095-7bc2-4552-a37b-661d076b2b51",
   "metadata": {
    "tags": []
   },
   "outputs": [],
   "source": [
    "%%capture\n",
    "m = rt_day.segment_speed_map(how='low_speeds', no_title=True)"
   ]
  },
  {
   "cell_type": "code",
   "execution_count": null,
   "id": "0393f107-e9fe-4982-961a-032f7bf4e0eb",
   "metadata": {},
   "outputs": [],
   "source": [
    "m"
   ]
  },
  {
   "cell_type": "code",
   "execution_count": null,
   "id": "c59cf5e3-ea49-4250-867b-d8f651a94fb8",
   "metadata": {},
   "outputs": [],
   "source": [
    "rt_day.describe_slow_routes()"
   ]
  },
  {
   "cell_type": "code",
   "execution_count": null,
   "id": "91874f76-635b-4fde-8d61-abc795aca6c6",
   "metadata": {
    "tags": []
   },
   "outputs": [],
   "source": [
    "try:\n",
    "    metrics_df = (rt_day.rt_trips\n",
    "         >> group_by(_.route_short_name, _.direction_id)\n",
    "         >> summarize(speed_variance = _.mean_speed_mph.var(),\n",
    "                     mean_speed_mph = _.mean_speed_mph.mean(),\n",
    "                     min_hour = _.median_time.min().hour,\n",
    "                     max_hour = _.median_time.max().hour,\n",
    "                     n = _.route_short_name.size)\n",
    "         >> filter(_.min_hour <= 7, _.max_hour >= 15,\n",
    "                   _.mean_speed_mph < _.mean_speed_mph.quantile(.6),\n",
    "                   _.speed_variance, _.n > _.n.quantile(.4))\n",
    "         >> arrange(-_.speed_variance)\n",
    "         >> head(20)\n",
    "        )\n",
    "except Exception as e:\n",
    "    pass\n",
    "    # print(e)\n",
    "## check that route has all-day span..."
   ]
  },
  {
   "cell_type": "code",
   "execution_count": null,
   "id": "758b0bae-32d0-40dd-a1d1-1d107b0e7e8b",
   "metadata": {
    "tags": []
   },
   "outputs": [],
   "source": [
    "def map_from_metrics(rt_day, metrics_df, which_map = 'speeds'):\n",
    "    def show_title_and_map(which_map):\n",
    "        try:\n",
    "            am_map = rt_day.segment_speed_map(how='low_speeds', no_title = True)\n",
    "            if which_map == 'speeds':\n",
    "                display(Markdown(f'20th Percentile Vehicle Speeds Between Stops{rt_day.filter_formatted}'))\n",
    "                display(am_map)\n",
    "            elif which_map == 'variance':\n",
    "                display(Markdown(f'Speed Variance Between Stops{rt_day.filter_formatted}'))\n",
    "                display(rt_day.map_variance(no_title = True))\n",
    "        except Exception as e:\n",
    "            display(Markdown(f'Map not available for this time/route'))\n",
    "            pass\n",
    "        return\n",
    "    try:\n",
    "        route_name = metrics_df.iloc[1,0]\n",
    "    except Exception as e:\n",
    "        # print(e)\n",
    "        return\n",
    "    rt_day.set_filter(start_time='06:00', end_time='09:00',\n",
    "                      route_names=[route_name])\n",
    "    show_title_and_map(which_map)\n",
    "    \n",
    "    rt_day.set_filter(start_time='10:00', end_time='14:00',\n",
    "                      route_names=[route_name])\n",
    "    show_title_and_map(which_map)\n",
    "\n",
    "    rt_day.set_filter(start_time='15:00', end_time='19:00',\n",
    "                      route_names=[route_name])\n",
    "    show_title_and_map(which_map)\n",
    "\n",
    "    return"
   ]
  },
  {
   "cell_type": "markdown",
   "id": "8594cbd6-f705-4fe4-91f9-9d9722bdad53",
   "metadata": {},
   "source": [
    "## Daily Speed Patterns\n",
    "\n",
    "* This chart shows the distribution of median trip speeds throughout the day. It can help find times of day where transit riders experience the slowest overall speeds."
   ]
  },
  {
   "cell_type": "code",
   "execution_count": null,
   "id": "745e9e8f-47c2-4875-afd2-2c55de086aad",
   "metadata": {},
   "outputs": [],
   "source": [
    "try:\n",
    "    rt_day.set_filter(start_time='06:00', end_time='22:00')\n",
    "    display(Markdown(f'Median Trip Speed by Hour of Day{rt_day.filter_formatted}'))\n",
    "\n",
    "    rt_day.chart_speeds(no_title=True);\n",
    "except:\n",
    "    display(Markdown(f'Chart not available for this agency'))\n",
    "    pass"
   ]
  },
  {
   "cell_type": "markdown",
   "id": "6ce187c8-c7bf-44f4-970e-b3abd69ddc38",
   "metadata": {},
   "source": [
    "## Single-Route Detail Example (Speeds)\n",
    "\n",
    "* These maps highlight a single route which runs throughout the day, with a low average trip speed and a high amount of variation in speeds between different trips."
   ]
  },
  {
   "cell_type": "code",
   "execution_count": null,
   "id": "c7b4b043-6d15-4d9c-8aac-f0f6649e9552",
   "metadata": {},
   "outputs": [],
   "source": [
    "try:\n",
    "    map_from_metrics(rt_day, metrics_df)\n",
    "except Exception as e:\n",
    "    # print(e)\n",
    "    display(Markdown(f'Example not available for this agency'))\n",
    "    pass"
   ]
  },
  {
   "cell_type": "markdown",
   "id": "a34aa393-a970-422f-99b0-43d4f2f29171",
   "metadata": {},
   "source": [
    "## Single-Route Detail Example (Variance)\n",
    "\n",
    "* These maps highlight the same route as above, but showing _variance_ in speeds for each segment instead of 20th percentile speeds.\n",
    "* Darker segments have higher variance, these are the segments where speeds are most inconsistent between individual trips.\n",
    "* Segments with high variance (some fast trips and some slow trips) might be better-suited to a different set of projects than segments that experience consistently slow speeds."
   ]
  },
  {
   "cell_type": "code",
   "execution_count": null,
   "id": "63304124-a7fc-4908-81e8-0ccd93675f1c",
   "metadata": {},
   "outputs": [],
   "source": [
    "try:\n",
    "    map_from_metrics(rt_day, metrics_df, which_map = 'variance')\n",
    "except Exception as e:\n",
    "    # print(e)\n",
    "    display(Markdown(f'Example not available for this agency'))\n",
    "    pass"
   ]
  }
 ],
 "metadata": {
  "kernelspec": {
   "display_name": "Python 3 (ipykernel)",
   "language": "python",
   "name": "python3"
  },
  "language_info": {
   "codemirror_mode": {
    "name": "ipython",
    "version": 3
   },
   "file_extension": ".py",
   "mimetype": "text/x-python",
   "name": "python",
   "nbconvert_exporter": "python",
   "pygments_lexer": "ipython3",
   "version": "3.9.13"
  },
  "widgets": {
   "application/vnd.jupyter.widget-state+json": {
    "state": {},
    "version_major": 2,
    "version_minor": 0
   }
  }
 },
 "nbformat": 4,
 "nbformat_minor": 5
}
