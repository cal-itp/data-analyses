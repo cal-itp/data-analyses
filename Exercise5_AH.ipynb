{
 "cells": [
  {
   "cell_type": "markdown",
   "id": "be271b0b-3fc1-4b28-998f-6c3ee50140f3",
   "metadata": {},
   "source": [
    "## Exercise 5: Geospatial wrangling and making maps\n",
    "\n",
    "Skills: \n",
    "* More geospatial practice building on earlier skills\n",
    "* Make a map with `folium` or `ipyleaflet` using `shared_utils.map_utils`\n",
    "\n",
    "References: \n",
    "* https://cityoflosangeles.github.io/best-practices/data-analysis-intermediate.html\n",
    "* https://docs.calitp.org/data-infra/analytics_tools/python_libraries.html\n",
    "* https://docs.calitp.org/data-infra/analytics_examples/warehouse_tutorial.html\n",
    "* https://docs.calitp.org/data-infra/analytics_examples/new_tutorial.html"
   ]
  },
  {
   "cell_type": "code",
   "execution_count": null,
   "id": "cd857644-ccaa-4eb8-8e67-f506a46bbace",
   "metadata": {},
   "outputs": [],
   "source": [
    "import geopandas as gpd\n",
    "import intake\n",
    "import pandas as pd\n",
    "\n",
    "from calitp.tables import tbl\n",
    "from calitp import query_sql\n",
    "from siuba import *\n",
    "\n",
    "# Hint: if this doesn't import: refer to docs for correctly import\n",
    "# cd into _shared_utils folder, run the make setup_env command\n",
    "import shared_utils"
   ]
  },
  {
   "cell_type": "markdown",
   "id": "6c762aa7-15ac-4f6d-9867-e35b0b723a57",
   "metadata": {},
   "source": [
    "## Research Question: What's the average number of trips per stop by operators in southern California? Show visualizations at the operator and county-level.\n",
    "<br>**Geographic scope:** southern California counties\n",
    "<br>**Deliverables:** chart(s) and map(s) showing metrics comparing across counties and also across operators. Make these visualizations using function(s).\n",
    "\n",
    "### Prep data\n",
    "\n",
    "* Use the same query, but grab a different set of operators. These are in southern California, so the map should zoom in counties ranging from LA to SD.\n",
    "* To find what ITP IDs are what operators:\n",
    "[agencies.yml](https://github.com/cal-itp/data-infra/blob/main/airflow/data/agencies.yml)\n",
    "* *Hint*: for some counties, there are multiple operators. Make sure the average trips per stop by counties is the weighted average.\n",
    "* Use the same [shapefile for CA counties](https://gis.data.ca.gov/datasets/CALFIRE-Forestry::california-county-boundaries/explore?location=37.246136%2C-119.002032%2C6.12) as in Exercise 4.\n",
    "* Join the data and only keep counties that have bus stops.\n",
    "\n",
    "### Notes 1/18\n",
    "* Go back to original ID & map to original operator"
   ]
  },
  {
   "cell_type": "code",
   "execution_count": null,
   "id": "45927326-b770-4392-b5e0-42475a271312",
   "metadata": {},
   "outputs": [],
   "source": [
    "#choosing a different set of ITP IDS\n",
    "ITP_ID = [278,289,284,293,381,337,380]"
   ]
  },
  {
   "cell_type": "code",
   "execution_count": null,
   "id": "86f2b511-5067-4c42-8887-bb82f67dd371",
   "metadata": {},
   "outputs": [],
   "source": [
    "stops = (\n",
    "    tbl.views.gtfs_schedule_dim_stops()\n",
    "    >> select(_.itp_id == _.calitp_itp_id, _.stop_id, \n",
    "             _.stop_lat, _.stop_lon, _.stop_name)\n",
    "    >> arrange(_.itp_id, _.stop_id, \n",
    "               _.stop_lat, _.stop_lon)\n",
    "    >> collect()\n",
    "    >> filter(_.itp_id.isin(ITP_ID))\n",
    "    >> distinct()\n",
    ")"
   ]
  },
  {
   "cell_type": "code",
   "execution_count": null,
   "id": "18a16b8e-3b64-4ece-939c-bbefc03e86d0",
   "metadata": {},
   "outputs": [],
   "source": [
    "#just looking at rows\n",
    "stops.shape"
   ]
  },
  {
   "cell_type": "code",
   "execution_count": null,
   "id": "9f192cf9-0e18-48f7-93a3-1a276b8b862b",
   "metadata": {},
   "outputs": [],
   "source": [
    "#creating point geometry\n",
    "stops = shared_utils.geography_utils.create_point_geometry(stops, 'stop_lon', 'stop_lat')"
   ]
  },
  {
   "cell_type": "code",
   "execution_count": null,
   "id": "82999f46-b610-4330-a39f-f620e68b9362",
   "metadata": {},
   "outputs": [],
   "source": [
    "#bringing in CA dataframe\n",
    "geojson = gpd.read_file('https://opendata.arcgis.com/datasets/8713ced9b78a4abb97dc130a691a8695_0.geojson')"
   ]
  },
  {
   "cell_type": "code",
   "execution_count": null,
   "id": "a1c11f6d-64fa-46f2-bed5-7675d028777a",
   "metadata": {},
   "outputs": [],
   "source": [
    "#checking crs\n",
    "geojson.crs"
   ]
  },
  {
   "cell_type": "code",
   "execution_count": null,
   "id": "8ee23eb8-d1d5-4db7-b81a-8bd54d6de17a",
   "metadata": {},
   "outputs": [],
   "source": [
    "#converting crs \n",
    "stops = stops.to_crs(epsg=4326)"
   ]
  },
  {
   "cell_type": "code",
   "execution_count": null,
   "id": "66f59d60-440b-4865-b2b0-91c527dcbcca",
   "metadata": {},
   "outputs": [],
   "source": [
    "#Joining the 2 dataframes, only keeping stops that are in a county\n",
    "stops_joined = gpd.sjoin(stops, geojson, how='inner')"
   ]
  },
  {
   "cell_type": "code",
   "execution_count": null,
   "id": "b2393ecb-5c0a-45c9-8522-94f86e06b4c0",
   "metadata": {},
   "outputs": [],
   "source": [
    "#previewing\n",
    "stops_joined.head(4)"
   ]
  },
  {
   "cell_type": "code",
   "execution_count": null,
   "id": "cea8ec20-8f84-43e6-bff7-2064da512806",
   "metadata": {},
   "outputs": [],
   "source": [
    "#after joining, there are only 2 rows missing from the original data frame\n",
    "stops_joined.shape"
   ]
  },
  {
   "cell_type": "markdown",
   "id": "893a7fff-a99e-4eed-ae04-1cf5f6549f9d",
   "metadata": {},
   "source": [
    "### Bring in a new table from BigQuery\n",
    "\n",
    "* In `transitstacks`, there's a table called `ntd_stats`. \n",
    "* Decide what columns to keep.\n",
    "* Merge `ntd_stats` with the `stops` table to create 1 df."
   ]
  },
  {
   "cell_type": "code",
   "execution_count": null,
   "id": "ddb28685-6404-4069-a434-f3dbd888c3d8",
   "metadata": {},
   "outputs": [],
   "source": [
    "ntd_stats = (tbl.transitstacks.ntd_stats()\n",
    "             >> select(_.transit_provider, _.itp_id, _.modes, _.servvehicles_2019)\n",
    "             >> collect()\n",
    "             >> filter(_.itp_id.isin(ITP_ID))\n",
    "            )"
   ]
  },
  {
   "cell_type": "code",
   "execution_count": null,
   "id": "6b27ed89-75a1-4d12-b71b-5bc772569738",
   "metadata": {},
   "outputs": [],
   "source": [
    "ntd_stats.shape"
   ]
  },
  {
   "cell_type": "code",
   "execution_count": null,
   "id": "c92ec90d-87dd-4892-bc96-114bee74e9f3",
   "metadata": {},
   "outputs": [],
   "source": [
    "ntd_stats"
   ]
  },
  {
   "cell_type": "markdown",
   "id": "d9c01c96-14fb-4ba6-acd1-920704796fff",
   "metadata": {},
   "source": [
    "### Merging the 2\n",
    "\n",
    "* <b> Question </b>: did I use the right type of merge (left)?\n",
    "* Was I supposed to aggregate in the step above already for stops per county?\n",
    "* Did I choose enough columns for ntd_stats? Lots of nulls when I went to google.\n",
    "* Still seems to be a lot of duplicates? Even in the very first row after dropping duplicates they are exactly the same..."
   ]
  },
  {
   "cell_type": "code",
   "execution_count": null,
   "id": "37f8b73e-be45-4ae4-adf1-5c080f4c3578",
   "metadata": {},
   "outputs": [],
   "source": [
    "df1 = stops_joined.merge(ntd_stats, how = 'left', on ='itp_id')"
   ]
  },
  {
   "cell_type": "code",
   "execution_count": null,
   "id": "c63f547c-24dd-4dde-9e8c-1b4c484ba2da",
   "metadata": {},
   "outputs": [],
   "source": [
    "df1.drop_duplicates(inplace = True)"
   ]
  },
  {
   "cell_type": "code",
   "execution_count": null,
   "id": "be655750-6a31-4fb2-9cfe-e578f6b33505",
   "metadata": {},
   "outputs": [],
   "source": [
    "df1.shape"
   ]
  },
  {
   "cell_type": "code",
   "execution_count": null,
   "id": "2c7d4bdf-9c52-4302-9880-af73a2f19f9e",
   "metadata": {},
   "outputs": [],
   "source": [
    "df1.head(3)"
   ]
  },
  {
   "cell_type": "code",
   "execution_count": null,
   "id": "dc00ace6-122f-4f3e-9d4e-8e29230c773b",
   "metadata": {},
   "outputs": [],
   "source": [
    "df1.columns"
   ]
  },
  {
   "cell_type": "code",
   "execution_count": null,
   "id": "0aad28e4-c152-4572-9b7d-7cf952b031de",
   "metadata": {},
   "outputs": [],
   "source": [
    "type(df1)"
   ]
  },
  {
   "cell_type": "markdown",
   "id": "e8f32be3-7e0e-4c51-affd-1c67b879b0ec",
   "metadata": {},
   "source": [
    "### Aggregate\n",
    "* Write a function to aggregate to the operator level or county level, add new columns for desired metrics.\n",
    "* Merge in CA shapefile to get a gdf.\n",
    "* Add another `geometry` column, called `centroid`, and grab the county's centroid.\n",
    "* Refer to [docs](https://geopandas.org/en/stable/docs/reference/api/geopandas.GeoDataFrame.set_geometry.html) to see how to pick which column to use as the `geometry` for the gdf, since technically, a gdf can handle multiple geometry columns."
   ]
  },
  {
   "cell_type": "code",
   "execution_count": null,
   "id": "e3ba21d7-4965-401c-9956-ab71dafbc58b",
   "metadata": {},
   "outputs": [],
   "source": [
    "subset1 = df1[['stop_id', 'geometry',\n",
    "               'transit_provider']]"
   ]
  },
  {
   "cell_type": "code",
   "execution_count": null,
   "id": "480a989c-ce4e-4238-9cb2-c6400ab36ae5",
   "metadata": {},
   "outputs": [],
   "source": [
    "type(subset1)"
   ]
  },
  {
   "cell_type": "code",
   "execution_count": null,
   "id": "2b0f7df9-6a8f-4a8e-8f4a-e3f65577c02a",
   "metadata": {},
   "outputs": [],
   "source": [
    "def aggregation(df, aggregating_column):\n",
    "    #aggregating stops by counting unique stops per county.\n",
    "    df = df.dissolve(by='aggregating_column', aggfunc ='nunique').reset_index()\n",
    "    return df "
   ]
  },
  {
   "cell_type": "markdown",
   "id": "533611ec-f316-4459-9237-476e5fcbfee0",
   "metadata": {},
   "source": [
    "### Visualizations\n",
    "* Make one chart for comparing trips per stop by operators, and another chart for comparing it by counties. Use a function to do this.\n",
    "* Make 1 map for comparing trips per stop by counties. Use `shared_utils.map_utils` to do this.\n",
    "* Visualizations should follow the Cal-ITP style guide.\n",
    "* More on `folium` and `ipyleaflet`: https://github.com/jorisvandenbossche/geopandas-tutorial/blob/master/05-more-on-visualization.ipynb"
   ]
  },
  {
   "cell_type": "code",
   "execution_count": null,
   "id": "f2349ddd-8cb6-4452-95ab-8a0d1aca3b20",
   "metadata": {},
   "outputs": [],
   "source": []
  }
 ],
 "metadata": {
  "kernelspec": {
   "display_name": "Python 3 (ipykernel)",
   "language": "python",
   "name": "python3"
  },
  "language_info": {
   "codemirror_mode": {
    "name": "ipython",
    "version": 3
   },
   "file_extension": ".py",
   "mimetype": "text/x-python",
   "name": "python",
   "nbconvert_exporter": "python",
   "pygments_lexer": "ipython3",
   "version": "3.9.7"
  }
 },
 "nbformat": 4,
 "nbformat_minor": 5
}
