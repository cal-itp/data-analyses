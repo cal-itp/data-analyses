{
 "cells": [
  {
   "cell_type": "markdown",
   "id": "1382c77d-634a-4ca4-926e-e9eaf44d552f",
   "metadata": {},
   "source": [
    "# Charts"
   ]
  },
  {
   "cell_type": "code",
   "execution_count": null,
   "id": "e60b1121-c948-489c-b432-e3feb6b27d78",
   "metadata": {},
   "outputs": [],
   "source": [
    "import numpy as np\n",
    "import pandas as pd\n",
    "from siuba import *\n",
    "from calitp import *\n",
    "import intake\n",
    "import data_prep\n",
    "import _utils\n",
    "import shared_utils\n",
    "import altair as alt\n",
    "import altair_saver\n",
    "from shared_utils import altair_utils \n",
    "pd.options.display.max_rows = 100\n",
    "pd.options.display.float_format = \"{:.0f}\".format\n",
    "pd.options.display.float_format = '{:,}'.format"
   ]
  },
  {
   "cell_type": "code",
   "execution_count": null,
   "id": "5e639e2a-1860-4eae-aaa6-262ff6f1bad5",
   "metadata": {},
   "outputs": [],
   "source": [
    "#Natalie's cleaned df \n",
    "agg_parquet = pd.read_parquet('5311_agg.parquet')\n",
    "agg_parquet.head(1)"
   ]
  },
  {
   "cell_type": "code",
   "execution_count": null,
   "id": "7a9dcd4c-46b6-415b-9ce4-49b40440428b",
   "metadata": {},
   "outputs": [],
   "source": [
    "#Original DF\n",
    "BC_GTFS_NTD2 = data_prep.merged_dataframe()\n",
    "BC_GTFS_NTD2.head(1)"
   ]
  },
  {
   "cell_type": "code",
   "execution_count": null,
   "id": "2f0864d6-92eb-4aec-9f53-583cebb8f859",
   "metadata": {},
   "outputs": [],
   "source": [
    "#Grabbing only one row for each agency with original df\n",
    "Aggregate1 = BC_GTFS_NTD2.groupby(['organization_name','reporter_type','GTFS', 'fleet_size', 'Is_Agency_In_BC_Only_1_means_Yes']).agg({'total_vehicles':'max',\n",
    "       'average_age_of_fleet__in_years_':'max','doors_sum':'max','_0_9':'max', '_10_12':'max', '_13_15':'max', '_16_20':'max', '_21_25':'max',\n",
    "       '_26_30':'max', '_31_60':'max', '_60plus':'max',})\n"
   ]
  },
  {
   "cell_type": "code",
   "execution_count": null,
   "id": "dfc7ecac-d527-4d70-b661-d1e6c207cc28",
   "metadata": {},
   "outputs": [],
   "source": [
    "#How many orgs are static ok? \n",
    "Aggregate2['gtfs_static_status'].value_counts()"
   ]
  },
  {
   "cell_type": "code",
   "execution_count": null,
   "id": "1d22c5d1-e87b-4c67-9341-0c43583ace27",
   "metadata": {},
   "outputs": [],
   "source": [
    "Aggregate2['gtfs_realtime_status'].value_counts()"
   ]
  },
  {
   "cell_type": "markdown",
   "id": "a19b837b-6a74-4858-803b-7ac8af427412",
   "metadata": {},
   "source": [
    "#  GTFS Status Charts\n",
    "* One for vehicles over 9\n",
    "* One for vehicles over 15"
   ]
  },
  {
   "cell_type": "code",
   "execution_count": null,
   "id": "01bd72fe-1792-43f7-9ac8-e223acdf83fc",
   "metadata": {},
   "outputs": [],
   "source": [
    "vehicles_gtfs = _utils.aggregation_one(Aggregate1, 'GTFS')\n",
    "vehicles_gtfs"
   ]
  },
  {
   "cell_type": "code",
   "execution_count": null,
   "id": "14d0c6a2-55db-449f-adaf-793c119f4bc4",
   "metadata": {
    "tags": []
   },
   "outputs": [],
   "source": [
    "_utils.basic_bar_chart(vehicles_gtfs,'GTFS','vehicles_older_than_9','GTFS') "
   ]
  },
  {
   "cell_type": "code",
   "execution_count": null,
   "id": "02f2de42-13d0-403c-a48d-b965dfd87d9c",
   "metadata": {},
   "outputs": [],
   "source": [
    "_utils.basic_bar_chart(vehicles_gtfs,'GTFS','vehicles_percent_older_than_9','GTFS') "
   ]
  },
  {
   "cell_type": "code",
   "execution_count": null,
   "id": "5000480e-994e-48a5-b365-06f6f5ddfe0c",
   "metadata": {},
   "outputs": [],
   "source": [
    "_utils.basic_bar_chart(vehicles_gtfs,'GTFS','vehicles_older_than_15', 'GTFS') "
   ]
  },
  {
   "cell_type": "markdown",
   "id": "3713e679-2387-4844-8f89-5669db335b75",
   "metadata": {},
   "source": [
    "# Fleet size "
   ]
  },
  {
   "cell_type": "code",
   "execution_count": null,
   "id": "6cbec23e-505f-473e-951c-94397ed406aa",
   "metadata": {},
   "outputs": [],
   "source": [
    "fleet = _utils.aggregation_one(agg_parquet,'fleet_size') \n",
    "fleet"
   ]
  },
  {
   "cell_type": "code",
   "execution_count": null,
   "id": "fae72c7a-629f-4a6c-9592-5a68cafc1df3",
   "metadata": {},
   "outputs": [],
   "source": [
    "# don't need no info\n",
    "fleet =  fleet.loc[fleet['fleet_size'] != 'No Info'] "
   ]
  },
  {
   "cell_type": "code",
   "execution_count": null,
   "id": "6da482d8-1e67-4a65-aeca-fde16ce6a9e3",
   "metadata": {},
   "outputs": [],
   "source": [
    "_utils.basic_bar_chart(fleet,'fleet_size','vehicles_older_than_9', 'fleet_size') "
   ]
  },
  {
   "cell_type": "markdown",
   "id": "ecfb26f7-b331-41dc-81c0-8a985b156c39",
   "metadata": {},
   "source": [
    "### Vehicles older than 15\n",
    "![pic](./chart_outputs/bar_fleet_size_by_vehicles_older_than_15.png)"
   ]
  },
  {
   "cell_type": "code",
   "execution_count": null,
   "id": "81cae673-ee29-43bb-8455-8dfb002864ad",
   "metadata": {},
   "outputs": [],
   "source": [
    "_utils.basic_bar_chart(fleet,'fleet_size','vehicles_older_than_15', 'fleet_size') "
   ]
  },
  {
   "cell_type": "code",
   "execution_count": null,
   "id": "a3f35868-c5f6-4b50-97ec-3672413002f9",
   "metadata": {},
   "outputs": [],
   "source": [
    "Orgs = agg_parquet.groupby(['gtfs_static_status']).agg({'organization_name':'nunique'})\n",
    "Orgs = Orgs.reset_index()\n",
    "Orgs = Orgs.rename(columns = {'organization_name': 'Organizations'}) \n",
    "_utils.basic_bar_chart(Orgs, 'gtfs_static_status','Organizations', 'gtfs_static_status') \n"
   ]
  },
  {
   "cell_type": "markdown",
   "id": "70560752-2667-4adc-9aa9-da38ff5f8202",
   "metadata": {},
   "source": [
    "### Fleet Size by agencies"
   ]
  },
  {
   "cell_type": "code",
   "execution_count": null,
   "id": "1a46f2ad-a4a3-4458-a86a-879ac8f7ab1d",
   "metadata": {},
   "outputs": [],
   "source": [
    "Fleet = agg_parquet.groupby(['fleet_size']).agg({'organization_name':'nunique'}).reset_index()\n",
    "Fleet"
   ]
  },
  {
   "cell_type": "markdown",
   "id": "64b0bea7-8c10-447f-8c9a-a100c2598bbb",
   "metadata": {},
   "source": [
    "## Looking at reporter type & GTFS\n",
    "![testing](./chart_outputs/bar_GTFS_by_count_of_agencies.png)"
   ]
  },
  {
   "cell_type": "markdown",
   "id": "488c4e5d-0eba-4277-a823-4ebb1871fd82",
   "metadata": {},
   "source": [
    "![testing](./chart_outputs/bar_reporter_type_by_Count of Agencies.png)"
   ]
  },
  {
   "cell_type": "code",
   "execution_count": null,
   "id": "7b34e42e-cd42-4c54-a74a-3b1da2b429c5",
   "metadata": {},
   "outputs": [],
   "source": [
    "agg_parquet.head(1)"
   ]
  },
  {
   "cell_type": "code",
   "execution_count": null,
   "id": "69dc8dc2-e3df-441a-9e3e-dde72735aaaa",
   "metadata": {
    "tags": []
   },
   "outputs": [],
   "source": [
    "Reporter_type_agg = agg_parquet.groupby(['reporter_type']).agg({'organization_name':'nunique'})\n",
    "Reporter_type_agg = Reporter_type_agg.reset_index()\n",
    "Reporter_type_agg = Reporter_type_agg.rename(columns = {'organization_name':'Count_of_Agencies'})\n",
    "_utils.basic_bar_chart(Reporter_type_agg,'reporter_type','Count_of_Agencies', 'reporter_type') "
   ]
  },
  {
   "cell_type": "code",
   "execution_count": null,
   "id": "5e15c878-3197-49c5-9d06-46264723a3f4",
   "metadata": {},
   "outputs": [],
   "source": [
    "fleet_size_avg_age = agg_parquet.groupby(['fleet_size']).agg({'average_age_of_fleet__in_years_':'mean'})\n",
    "fleet_size_avg_age"
   ]
  },
  {
   "cell_type": "code",
   "execution_count": null,
   "id": "a4906737-d50b-4be4-b2d0-d73ca7270368",
   "metadata": {},
   "outputs": [],
   "source": [
    "Aggregate1.columns"
   ]
  },
  {
   "cell_type": "code",
   "execution_count": null,
   "id": "f8fce712-77bc-4b43-959e-f6c058ee1503",
   "metadata": {},
   "outputs": [],
   "source": [
    "age = agg_parquet\n",
    "age  =  age.loc[age['fleet_size'] != 'No Info'] \n",
    "age = age.groupby(['gtfs_realtime_status','fleet_size']).agg({'_0_9':'sum', 'vehicles_older_than_9':'sum','average_age_of_fleet__in_years_':'mean'})\n",
    "age"
   ]
  },
  {
   "cell_type": "markdown",
   "id": "6f45af6e-5547-421e-8c34-9f8187d08505",
   "metadata": {},
   "source": [
    "## Looking at agencies that spent the most.."
   ]
  },
  {
   "cell_type": "code",
   "execution_count": null,
   "id": "5c2db6f1-af80-4346-8eed-efb5a6451691",
   "metadata": {},
   "outputs": [],
   "source": [
    "Most_Money = agg_parquet.groupby(['organization_name','gtfs_realtime_status']).agg({'allocationamount':'sum'})"
   ]
  },
  {
   "cell_type": "code",
   "execution_count": null,
   "id": "4dba20b1-42da-4362-9076-99529274e152",
   "metadata": {
    "scrolled": true,
    "tags": []
   },
   "outputs": [],
   "source": [
    "Most_Money.sort_values('allocationamount')"
   ]
  },
  {
   "cell_type": "code",
   "execution_count": null,
   "id": "9ce988eb-5368-422d-b591-38467b2d8f3b",
   "metadata": {
    "tags": []
   },
   "outputs": [],
   "source": [
    "Top_ten = Most_Money.sort_values('allocationamount').tail(10)\n",
    "Top_ten =Top_ten.rename(columns = {'allocationamount': '5311_funds_received'})\n",
    "Top_ten = Top_ten.reset_index()"
   ]
  },
  {
   "cell_type": "code",
   "execution_count": null,
   "id": "385a6596-fc72-4053-8ca5-16d48292c7f5",
   "metadata": {},
   "outputs": [],
   "source": [
    "\n",
    "Top_ten_agencies = Top_ten['organization_name'].tolist()\n",
    "Top_ten_agencies"
   ]
  },
  {
   "cell_type": "code",
   "execution_count": null,
   "id": "dfce19ff-7a8f-45ee-800e-c8d18f301f95",
   "metadata": {
    "scrolled": true,
    "tags": []
   },
   "outputs": [],
   "source": [
    "Year_look = BC_GTFS_NTD2.groupby(['grant_fiscal_year','organization_name']).agg({'allocationamount':'sum'})\n",
    "Year_look = Year_look.reset_index()\n",
    "\n",
    "Year_look = Year_look[Year_look.organization_name.isin(Top_ten_agencies)]\n",
    "Year_look.groupby(['organization_name','grant_fiscal_year']).agg({'allocationamount':'sum'})"
   ]
  },
  {
   "cell_type": "code",
   "execution_count": null,
   "id": "60a47c56-4772-448a-8e09-efc83226b80f",
   "metadata": {},
   "outputs": [],
   "source": [
    "_utils.basic_bar_chart(Top_ten,'organization_name','5311_funds_received', 'organization_name') "
   ]
  },
  {
   "cell_type": "code",
   "execution_count": null,
   "id": "ffbab959-bcb2-43ae-bad5-8eb710ec4c8e",
   "metadata": {},
   "outputs": [],
   "source": [
    "bc_funds = BC_GTFS_NTD2.groupby(['funding_program']).agg({'organization_name':'nunique','allocationamount':'sum'})\n",
    "bc_funds = bc_funds.rename(columns = {'organization_name':'Count_of_Organizations','allocationamount':'total_sum'}).reset_index()\n",
    "bc_funds.sort_values(by =['total_sum'])\n",
    "\n",
    "_utils.basic_bar_chart(bc_funds,'funding_program','total_sum', 'funding_program') "
   ]
  },
  {
   "cell_type": "code",
   "execution_count": null,
   "id": "0d42d390-8728-45f6-8738-ff5cf78f5a0d",
   "metadata": {},
   "outputs": [],
   "source": [
    "bc_funds"
   ]
  },
  {
   "cell_type": "code",
   "execution_count": null,
   "id": "9822bdd6-5685-4802-b8f7-95f5a4fb479f",
   "metadata": {},
   "outputs": [],
   "source": [
    "129/164"
   ]
  },
  {
   "cell_type": "code",
   "execution_count": null,
   "id": "ff7b174f-ea50-4549-87a7-122731e995a9",
   "metadata": {},
   "outputs": [],
   "source": [
    "BC_GTFS_NTD2.columns"
   ]
  },
  {
   "cell_type": "code",
   "execution_count": null,
   "id": "c9e85465-ce0f-486d-a73b-c22061223f90",
   "metadata": {
    "tags": []
   },
   "outputs": [],
   "source": [
    "project_money = BC_GTFS_NTD2.groupby(['description']).agg({'upin':'nunique','allocationamount':'sum'}).rename(columns = {'allocationamount': '5311_funds_received'})"
   ]
  },
  {
   "cell_type": "code",
   "execution_count": null,
   "id": "62464c24-906b-45bf-bb8f-bd0bb7010601",
   "metadata": {
    "tags": []
   },
   "outputs": [],
   "source": [
    "\n",
    "project_money = project_money.sort_values('5311_funds_received').tail(10).reset_index()"
   ]
  },
  {
   "cell_type": "code",
   "execution_count": null,
   "id": "9712252e-62d5-41df-907e-acad7621ce59",
   "metadata": {
    "tags": []
   },
   "outputs": [],
   "source": [
    "_utils.basic_bar_chart(project_money,'description','5311_funds_received', 'description') "
   ]
  }
 ],
 "metadata": {
  "kernelspec": {
   "display_name": "Python 3 (ipykernel)",
   "language": "python",
   "name": "python3"
  },
  "language_info": {
   "codemirror_mode": {
    "name": "ipython",
    "version": 3
   },
   "file_extension": ".py",
   "mimetype": "text/x-python",
   "name": "python",
   "nbconvert_exporter": "python",
   "pygments_lexer": "ipython3",
   "version": "3.9.7"
  },
  "toc-autonumbering": false,
  "widgets": {
   "application/vnd.jupyter.widget-state+json": {
    "state": {},
    "version_major": 2,
    "version_minor": 0
   }
  }
 },
 "nbformat": 4,
 "nbformat_minor": 5
}
