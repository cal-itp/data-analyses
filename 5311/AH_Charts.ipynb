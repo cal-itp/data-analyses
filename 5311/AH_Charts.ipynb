{
 "cells": [
  {
   "cell_type": "markdown",
   "id": "1382c77d-634a-4ca4-926e-e9eaf44d552f",
   "metadata": {},
   "source": [
    "# Charts"
   ]
  },
  {
   "cell_type": "code",
   "execution_count": null,
   "id": "e60b1121-c948-489c-b432-e3feb6b27d78",
   "metadata": {},
   "outputs": [],
   "source": [
    "import numpy as np\n",
    "import pandas as pd\n",
    "from siuba import *\n",
    "from calitp import *\n",
    "import intake\n",
    "import data_prep\n",
    "import shared_utils\n",
    "import altair as alt\n",
    "import altair_saver\n",
    "from shared_utils import altair_utils \n",
    "pd.options.display.max_rows = 100\n",
    "pd.options.display.float_format = \"{:.0f}\".format"
   ]
  },
  {
   "cell_type": "code",
   "execution_count": null,
   "id": "5e639e2a-1860-4eae-aaa6-262ff6f1bad5",
   "metadata": {},
   "outputs": [],
   "source": [
    "BC_GTFS_NTD2 = pd.read_parquet('BC_GTFS_NTD.parquet')"
   ]
  },
  {
   "cell_type": "code",
   "execution_count": null,
   "id": "2f0864d6-92eb-4aec-9f53-583cebb8f859",
   "metadata": {},
   "outputs": [],
   "source": [
    "#Grabbing only one row for each agency.\n",
    "Aggregate1 = BC_GTFS_NTD2.groupby(['organization_name','reporter_type','GTFS', 'fleet_size', 'Is_Agency_In_BC_Only_1_means_Yes']).agg({'total_vehicles':'max',\n",
    "       'average_age_of_fleet__in_years_':'max','doors_sum':'max','_0_9':'max', '_10_12':'max', '_13_15':'max', '_16_20':'max', '_21_25':'max',\n",
    "       '_26_30':'max', '_31_60':'max', '_60plus':'max',})"
   ]
  },
  {
   "cell_type": "code",
   "execution_count": null,
   "id": "8b707a06-583d-4b7a-b75e-c4ff2911d1f6",
   "metadata": {
    "scrolled": true,
    "tags": []
   },
   "outputs": [],
   "source": [
    "#Reset index\n",
    "Aggregate1 = Aggregate1.reset_index()\n"
   ]
  },
  {
   "cell_type": "markdown",
   "id": "a19b837b-6a74-4858-803b-7ac8af427412",
   "metadata": {},
   "source": [
    "#  GTFS Status Charts\n",
    "* One for vehicles over 9\n",
    "* One for vehicles over 15"
   ]
  },
  {
   "cell_type": "code",
   "execution_count": null,
   "id": "01bd72fe-1792-43f7-9ac8-e223acdf83fc",
   "metadata": {},
   "outputs": [],
   "source": [
    "vehicles_gtfs = data_prep.aggregation_one(Aggregate1, 'GTFS')\n",
    "vehicles_gtfs"
   ]
  },
  {
   "cell_type": "markdown",
   "id": "92713519-c007-41a2-af42-d9b2bad84328",
   "metadata": {},
   "source": [
    "### Looking at vehicles 9+ by GTFS\n",
    "![pic](./chart_outputs/bar_GTFS_by_vehicles_older_than_9.png)"
   ]
  },
  {
   "cell_type": "code",
   "execution_count": null,
   "id": "14d0c6a2-55db-449f-adaf-793c119f4bc4",
   "metadata": {
    "tags": []
   },
   "outputs": [],
   "source": [
    "data_prep.basic_bar_chart2(vehicles_gtfs,'GTFS','vehicles_older_than_9') "
   ]
  },
  {
   "cell_type": "code",
   "execution_count": null,
   "id": "02f2de42-13d0-403c-a48d-b965dfd87d9c",
   "metadata": {},
   "outputs": [],
   "source": [
    "data_prep.basic_bar_chart2(vehicles_gtfs,'GTFS','vehicles_percent_older_than_9') "
   ]
  },
  {
   "cell_type": "markdown",
   "id": "1e93c5ea-fef2-437d-8aa2-785e96027d02",
   "metadata": {},
   "source": [
    "### Looking at vehicles 15+ by GTFS\n",
    "![pic](./chart_outputs/bar_GTFS_by_vehicles_older_than_15.png)"
   ]
  },
  {
   "cell_type": "code",
   "execution_count": null,
   "id": "5000480e-994e-48a5-b365-06f6f5ddfe0c",
   "metadata": {},
   "outputs": [],
   "source": [
    "data_prep.basic_bar_chart2(vehicles_gtfs,'GTFS','vehicles_older_than_15') "
   ]
  },
  {
   "cell_type": "markdown",
   "id": "3713e679-2387-4844-8f89-5669db335b75",
   "metadata": {},
   "source": [
    "# Fleet size "
   ]
  },
  {
   "cell_type": "code",
   "execution_count": null,
   "id": "6cbec23e-505f-473e-951c-94397ed406aa",
   "metadata": {},
   "outputs": [],
   "source": [
    "fleet = data_prep.aggregation_one(Aggregate1,'fleet_size') "
   ]
  },
  {
   "cell_type": "code",
   "execution_count": null,
   "id": "fae72c7a-629f-4a6c-9592-5a68cafc1df3",
   "metadata": {},
   "outputs": [],
   "source": [
    "# don't need no info\n",
    "fleet =  fleet.loc[fleet['fleet_size'] != 'No Info'] "
   ]
  },
  {
   "cell_type": "markdown",
   "id": "9676fd10-3161-4542-9c48-89c25701da7f",
   "metadata": {},
   "source": [
    "### Vehicles older than 9\n",
    "![pic](./chart_outputs/bar_fleet_size_by_vehicles_older_than_9.png)"
   ]
  },
  {
   "cell_type": "code",
   "execution_count": null,
   "id": "6da482d8-1e67-4a65-aeca-fde16ce6a9e3",
   "metadata": {},
   "outputs": [],
   "source": [
    "data_prep.basic_bar_chart2(fleet,'fleet_size','vehicles_older_than_9') "
   ]
  },
  {
   "cell_type": "markdown",
   "id": "ecfb26f7-b331-41dc-81c0-8a985b156c39",
   "metadata": {},
   "source": [
    "### Vehicles older than 15\n",
    "![pic](./chart_outputs/bar_fleet_size_by_vehicles_older_than_15.png)"
   ]
  },
  {
   "cell_type": "code",
   "execution_count": null,
   "id": "81cae673-ee29-43bb-8455-8dfb002864ad",
   "metadata": {},
   "outputs": [],
   "source": [
    "data_prep.basic_bar_chart2(fleet,'fleet_size','vehicles_older_than_15') "
   ]
  },
  {
   "cell_type": "markdown",
   "id": "78e4eb79-2951-4b61-8af6-bcfb1268a5d6",
   "metadata": {},
   "source": [
    "# Other\n",
    "## Looking at organizations & GTFS\n",
    "![pic](./chart_outputs/bar_GTFS_by_count_of_agencies.png)"
   ]
  },
  {
   "cell_type": "code",
   "execution_count": null,
   "id": "a3f35868-c5f6-4b50-97ec-3672413002f9",
   "metadata": {},
   "outputs": [],
   "source": [
    "Orgs = Aggregate1.groupby(['GTFS']).agg({'organization_name':'nunique'})\n",
    "Orgs = Orgs.reset_index()\n",
    "Orgs = Orgs.rename(columns = {'organization_name': 'count_of_agencies'}) \n",
    "data_prep.basic_bar_chart2(Orgs,'GTFS','count_of_agencies') "
   ]
  },
  {
   "cell_type": "markdown",
   "id": "5d0ca08c-0ad4-43a0-b66c-9fed0bac26ab",
   "metadata": {},
   "source": [
    "## Looking at reporter type & GTFS\n",
    "![testing](./chart_outputs/bar_GTFS_by_count_of_agencies.png)"
   ]
  },
  {
   "cell_type": "code",
   "execution_count": null,
   "id": "69dc8dc2-e3df-441a-9e3e-dde72735aaaa",
   "metadata": {
    "tags": []
   },
   "outputs": [],
   "source": [
    "Reporter_type_agg = Aggregate1.groupby(['reporter_type']).agg({'organization_name':'nunique'})\n",
    "Reporter_type_agg = Reporter_type_agg.reset_index()\n",
    "Reporter_type_agg = Reporter_type_agg.rename(columns = {'organization_name':'Count of Agencies'})\n",
    "data_prep.basic_bar_chart2(Reporter_type_agg,'reporter_type','Count of Agencies') "
   ]
  },
  {
   "cell_type": "markdown",
   "id": "6f45af6e-5547-421e-8c34-9f8187d08505",
   "metadata": {},
   "source": [
    "## Looking at agencies that spent the most..\n",
    "![pic](./chart_outputs/bar_organization_name_by_allocationamount.png)"
   ]
  },
  {
   "cell_type": "code",
   "execution_count": null,
   "id": "5c2db6f1-af80-4346-8eed-efb5a6451691",
   "metadata": {},
   "outputs": [],
   "source": [
    "Most_Money = BC_GTFS_NTD2.groupby(['organization_name','GTFS']).agg({'allocationamount':'sum'})"
   ]
  },
  {
   "cell_type": "code",
   "execution_count": null,
   "id": "9ce988eb-5368-422d-b591-38467b2d8f3b",
   "metadata": {
    "tags": []
   },
   "outputs": [],
   "source": [
    "Most_Money= Most_Money.sort_values('allocationamount').tail(10)\n",
    "Most_Money = Most_Money.reset_index()"
   ]
  },
  {
   "cell_type": "code",
   "execution_count": null,
   "id": "a182c0dd-89d3-4692-956f-4856c85a4bfa",
   "metadata": {},
   "outputs": [],
   "source": [
    "data_prep.basic_bar_chart2(Most_Money,'organization_name','allocationamount') "
   ]
  }
 ],
 "metadata": {
  "kernelspec": {
   "display_name": "Python 3 (ipykernel)",
   "language": "python",
   "name": "python3"
  },
  "language_info": {
   "codemirror_mode": {
    "name": "ipython",
    "version": 3
   },
   "file_extension": ".py",
   "mimetype": "text/x-python",
   "name": "python",
   "nbconvert_exporter": "python",
   "pygments_lexer": "ipython3",
   "version": "3.9.7"
  },
  "toc-autonumbering": false
 },
 "nbformat": 4,
 "nbformat_minor": 5
}
