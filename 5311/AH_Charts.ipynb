{
 "cells": [
  {
   "cell_type": "markdown",
   "id": "1382c77d-634a-4ca4-926e-e9eaf44d552f",
   "metadata": {},
   "source": [
    "# Charts"
   ]
  },
  {
   "cell_type": "code",
   "execution_count": 2,
   "id": "e60b1121-c948-489c-b432-e3feb6b27d78",
   "metadata": {},
   "outputs": [],
   "source": [
    "import numpy as np\n",
    "import pandas as pd\n",
    "from siuba import *\n",
    "from calitp import *\n",
    "import intake\n",
    "import data_prep\n",
    "import _utils\n",
    "import shared_utils\n",
    "import altair as alt\n",
    "import altair_saver\n",
    "from shared_utils import altair_utils \n",
    "pd.options.display.max_rows = 100\n",
    "pd.options.display.float_format = \"{:.0f}\".format"
   ]
  },
  {
   "cell_type": "code",
   "execution_count": 3,
   "id": "5e639e2a-1860-4eae-aaa6-262ff6f1bad5",
   "metadata": {},
   "outputs": [],
   "source": [
    "BC_GTFS_NTD2 = pd.read_parquet('BC_GTFS_NTD.parquet')"
   ]
  },
  {
   "cell_type": "code",
   "execution_count": 4,
   "id": "2f0864d6-92eb-4aec-9f53-583cebb8f859",
   "metadata": {},
   "outputs": [],
   "source": [
    "#Grabbing only one row for each agency.\n",
    "Aggregate1 = BC_GTFS_NTD2.groupby(['organization_name','reporter_type','GTFS', 'fleet_size', 'Is_Agency_In_BC_Only_1_means_Yes']).agg({'total_vehicles':'max',\n",
    "       'average_age_of_fleet__in_years_':'max','doors_sum':'max','_0_9':'max', '_10_12':'max', '_13_15':'max', '_16_20':'max', '_21_25':'max',\n",
    "       '_26_30':'max', '_31_60':'max', '_60plus':'max',})"
   ]
  },
  {
   "cell_type": "code",
   "execution_count": 5,
   "id": "8b707a06-583d-4b7a-b75e-c4ff2911d1f6",
   "metadata": {
    "scrolled": true,
    "tags": []
   },
   "outputs": [],
   "source": [
    "#Reset index\n",
    "Aggregate1 = Aggregate1.reset_index()\n"
   ]
  },
  {
   "cell_type": "markdown",
   "id": "a19b837b-6a74-4858-803b-7ac8af427412",
   "metadata": {},
   "source": [
    "#  GTFS Status Charts\n",
    "* One for vehicles over 9\n",
    "* One for vehicles over 15"
   ]
  },
  {
   "cell_type": "code",
   "execution_count": 7,
   "id": "01bd72fe-1792-43f7-9ac8-e223acdf83fc",
   "metadata": {},
   "outputs": [
    {
     "data": {
      "text/html": [
       "<div>\n",
       "<style scoped>\n",
       "    .dataframe tbody tr th:only-of-type {\n",
       "        vertical-align: middle;\n",
       "    }\n",
       "\n",
       "    .dataframe tbody tr th {\n",
       "        vertical-align: top;\n",
       "    }\n",
       "\n",
       "    .dataframe thead th {\n",
       "        text-align: right;\n",
       "    }\n",
       "</style>\n",
       "<table border=\"1\" class=\"dataframe\">\n",
       "  <thead>\n",
       "    <tr style=\"text-align: right;\">\n",
       "      <th></th>\n",
       "      <th>GTFS</th>\n",
       "      <th>vehicles_older_than_9</th>\n",
       "      <th>vehicles_older_than_15</th>\n",
       "      <th>vehicles_0_to_9</th>\n",
       "      <th>vehicles_percent_older_than_9</th>\n",
       "      <th>vehicles_percent_older_than_15</th>\n",
       "      <th>vehicles_percent_0_to_9</th>\n",
       "    </tr>\n",
       "  </thead>\n",
       "  <tbody>\n",
       "    <tr>\n",
       "      <th>0</th>\n",
       "      <td>Long-term solution needed</td>\n",
       "      <td>7</td>\n",
       "      <td>1</td>\n",
       "      <td>24</td>\n",
       "      <td>0</td>\n",
       "      <td>0</td>\n",
       "      <td>0</td>\n",
       "    </tr>\n",
       "    <tr>\n",
       "      <th>1</th>\n",
       "      <td>Needed</td>\n",
       "      <td>34</td>\n",
       "      <td>7</td>\n",
       "      <td>122</td>\n",
       "      <td>2</td>\n",
       "      <td>1</td>\n",
       "      <td>2</td>\n",
       "    </tr>\n",
       "    <tr>\n",
       "      <th>2</th>\n",
       "      <td>None</td>\n",
       "      <td>51</td>\n",
       "      <td>5</td>\n",
       "      <td>191</td>\n",
       "      <td>3</td>\n",
       "      <td>1</td>\n",
       "      <td>4</td>\n",
       "    </tr>\n",
       "    <tr>\n",
       "      <th>3</th>\n",
       "      <td>Ok</td>\n",
       "      <td>1901</td>\n",
       "      <td>720</td>\n",
       "      <td>4470</td>\n",
       "      <td>93</td>\n",
       "      <td>96</td>\n",
       "      <td>90</td>\n",
       "    </tr>\n",
       "    <tr>\n",
       "      <th>4</th>\n",
       "      <td>Research</td>\n",
       "      <td>45</td>\n",
       "      <td>16</td>\n",
       "      <td>151</td>\n",
       "      <td>2</td>\n",
       "      <td>2</td>\n",
       "      <td>3</td>\n",
       "    </tr>\n",
       "  </tbody>\n",
       "</table>\n",
       "</div>"
      ],
      "text/plain": [
       "                        GTFS  vehicles_older_than_9  vehicles_older_than_15  \\\n",
       "0  Long-term solution needed                      7                       1   \n",
       "1                     Needed                     34                       7   \n",
       "2                       None                     51                       5   \n",
       "3                         Ok                   1901                     720   \n",
       "4                   Research                     45                      16   \n",
       "\n",
       "   vehicles_0_to_9  vehicles_percent_older_than_9  \\\n",
       "0               24                              0   \n",
       "1              122                              2   \n",
       "2              191                              3   \n",
       "3             4470                             93   \n",
       "4              151                              2   \n",
       "\n",
       "   vehicles_percent_older_than_15  vehicles_percent_0_to_9  \n",
       "0                               0                        0  \n",
       "1                               1                        2  \n",
       "2                               1                        4  \n",
       "3                              96                       90  \n",
       "4                               2                        3  "
      ]
     },
     "execution_count": 7,
     "metadata": {},
     "output_type": "execute_result"
    }
   ],
   "source": [
    "vehicles_gtfs = _utils.aggregation_one(Aggregate1, 'GTFS')\n",
    "vehicles_gtfs"
   ]
  },
  {
   "cell_type": "markdown",
   "id": "92713519-c007-41a2-af42-d9b2bad84328",
   "metadata": {},
   "source": [
    "### Looking at vehicles 9+ by GTFS\n",
    "![pic](./chart_outputs/bar_GTFS_by_vehicles_older_than_9.png)"
   ]
  },
  {
   "cell_type": "code",
   "execution_count": 8,
   "id": "14d0c6a2-55db-449f-adaf-793c119f4bc4",
   "metadata": {
    "tags": []
   },
   "outputs": [
    {
     "data": {
      "text/html": [
       "\n",
       "<div id=\"altair-viz-b552face4b0d4d2c87aa53cdfd9a644f\"></div>\n",
       "<script type=\"text/javascript\">\n",
       "  var VEGA_DEBUG = (typeof VEGA_DEBUG == \"undefined\") ? {} : VEGA_DEBUG;\n",
       "  (function(spec, embedOpt){\n",
       "    let outputDiv = document.currentScript.previousElementSibling;\n",
       "    if (outputDiv.id !== \"altair-viz-b552face4b0d4d2c87aa53cdfd9a644f\") {\n",
       "      outputDiv = document.getElementById(\"altair-viz-b552face4b0d4d2c87aa53cdfd9a644f\");\n",
       "    }\n",
       "    const paths = {\n",
       "      \"vega\": \"https://cdn.jsdelivr.net/npm//vega@5?noext\",\n",
       "      \"vega-lib\": \"https://cdn.jsdelivr.net/npm//vega-lib?noext\",\n",
       "      \"vega-lite\": \"https://cdn.jsdelivr.net/npm//vega-lite@4.17.0?noext\",\n",
       "      \"vega-embed\": \"https://cdn.jsdelivr.net/npm//vega-embed@6?noext\",\n",
       "    };\n",
       "\n",
       "    function maybeLoadScript(lib, version) {\n",
       "      var key = `${lib.replace(\"-\", \"\")}_version`;\n",
       "      return (VEGA_DEBUG[key] == version) ?\n",
       "        Promise.resolve(paths[lib]) :\n",
       "        new Promise(function(resolve, reject) {\n",
       "          var s = document.createElement('script');\n",
       "          document.getElementsByTagName(\"head\")[0].appendChild(s);\n",
       "          s.async = true;\n",
       "          s.onload = () => {\n",
       "            VEGA_DEBUG[key] = version;\n",
       "            return resolve(paths[lib]);\n",
       "          };\n",
       "          s.onerror = () => reject(`Error loading script: ${paths[lib]}`);\n",
       "          s.src = paths[lib];\n",
       "        });\n",
       "    }\n",
       "\n",
       "    function showError(err) {\n",
       "      outputDiv.innerHTML = `<div class=\"error\" style=\"color:red;\">${err}</div>`;\n",
       "      throw err;\n",
       "    }\n",
       "\n",
       "    function displayChart(vegaEmbed) {\n",
       "      vegaEmbed(outputDiv, spec, embedOpt)\n",
       "        .catch(err => showError(`Javascript Error: ${err.message}<br>This usually means there's a typo in your chart specification. See the javascript console for the full traceback.`));\n",
       "    }\n",
       "\n",
       "    if(typeof define === \"function\" && define.amd) {\n",
       "      requirejs.config({paths});\n",
       "      require([\"vega-embed\"], displayChart, err => showError(`Error loading script: ${err.message}`));\n",
       "    } else {\n",
       "      maybeLoadScript(\"vega\", \"5\")\n",
       "        .then(() => maybeLoadScript(\"vega-lite\", \"4.17.0\"))\n",
       "        .then(() => maybeLoadScript(\"vega-embed\", \"6\"))\n",
       "        .catch(showError)\n",
       "        .then(() => displayChart(vegaEmbed));\n",
       "    }\n",
       "  })({\"config\": {\"view\": {\"continuousWidth\": 400, \"continuousHeight\": 300}, \"axis\": {\"domainColor\": \"#cbcbcb\", \"grid\": true, \"gridColor\": \"#cbcbcb\", \"gridWidth\": 1, \"labelColor\": \"#474747\", \"labelFont\": \"Nunito Sans\", \"labelFontSize\": 10, \"labelPadding\": 4, \"tickColor\": \"#cbcbcb\", \"tickSize\": 10, \"titleColor\": \"#333\", \"titleFont\": \"Raleway\", \"titleFontSize\": 12, \"titlePadding\": 10}, \"axisBand\": {\"grid\": false}, \"background\": \"white\", \"font\": \"Raleway\", \"header\": {\"labelFont\": \"Nunito Sans\", \"titleFont\": \"Raleway\"}, \"legend\": {\"labelColor\": \"#333\", \"labelFont\": \"Nunito Sans\", \"labelFontSize\": 11, \"labelLimit\": 0, \"padding\": 1, \"symbolSize\": 30, \"symbolType\": \"square\", \"titleColor\": \"#333\", \"titleFont\": \"Raleway\", \"titleFontSize\": 14, \"titlePadding\": 10}, \"title\": {\"anchor\": \"middle\", \"font\": \"Raleway\", \"fontSize\": 18, \"fontWeight\": 300, \"offset\": 20}}, \"data\": {\"name\": \"data-b9b3aaee253b609d634bef356d304f5e\"}, \"mark\": \"bar\", \"encoding\": {\"color\": {\"field\": \"GTFS\", \"legend\": {\"title\": \"Gtfs\"}, \"scale\": {\"range\": [\"#2EA8CE\", \"#EB9F3C\", \"#F4D837\", \"#51BF9D\", \"#8CBCCB\", \"#9487C0\"]}, \"type\": \"nominal\"}, \"x\": {\"field\": \"GTFS\", \"sort\": \"-y\", \"title\": \"Gtfs\", \"type\": \"nominal\"}, \"y\": {\"field\": \"vehicles_older_than_9\", \"title\": \"Vehicles Older Than 9\", \"type\": \"quantitative\"}}, \"height\": 250, \"title\": \"Gtfs by Vehicles Older Than 9\", \"width\": 400, \"$schema\": \"https://vega.github.io/schema/vega-lite/v4.17.0.json\", \"datasets\": {\"data-b9b3aaee253b609d634bef356d304f5e\": [{\"GTFS\": \"Long-term solution needed\", \"vehicles_older_than_9\": 7.0, \"vehicles_older_than_15\": 1.0, \"vehicles_0_to_9\": 24.0, \"vehicles_percent_older_than_9\": 0.34347399411187435, \"vehicles_percent_older_than_15\": 0.13351134846461948, \"vehicles_percent_0_to_9\": 0.4840661557079467}, {\"GTFS\": \"Needed\", \"vehicles_older_than_9\": 34.0, \"vehicles_older_than_15\": 7.0, \"vehicles_0_to_9\": 122.0, \"vehicles_percent_older_than_9\": 1.6683022571148183, \"vehicles_percent_older_than_15\": 0.9345794392523363, \"vehicles_percent_0_to_9\": 2.4606696248487294}, {\"GTFS\": \"None\", \"vehicles_older_than_9\": 51.0, \"vehicles_older_than_15\": 5.0, \"vehicles_0_to_9\": 191.0, \"vehicles_percent_older_than_9\": 2.502453385672228, \"vehicles_percent_older_than_15\": 0.6675567423230975, \"vehicles_percent_0_to_9\": 3.8523598225090763}, {\"GTFS\": \"Ok\", \"vehicles_older_than_9\": 1901.0, \"vehicles_older_than_15\": 720.0, \"vehicles_0_to_9\": 4470.0, \"vehicles_percent_older_than_9\": 93.27772325809617, \"vehicles_percent_older_than_15\": 96.12817089452604, \"vehicles_percent_0_to_9\": 90.15732150060508}, {\"GTFS\": \"Research\", \"vehicles_older_than_9\": 45.0, \"vehicles_older_than_15\": 16.0, \"vehicles_0_to_9\": 151.0, \"vehicles_percent_older_than_9\": 2.2080471050049066, \"vehicles_percent_older_than_15\": 2.1361815754339117, \"vehicles_percent_0_to_9\": 3.0455828963291647}]}}, {\"mode\": \"vega-lite\"});\n",
       "</script>"
      ],
      "text/plain": [
       "alt.Chart(...)"
      ]
     },
     "execution_count": 8,
     "metadata": {},
     "output_type": "execute_result"
    }
   ],
   "source": [
    "_utils.basic_bar_chart(vehicles_gtfs,'GTFS','vehicles_older_than_9','GTFS') "
   ]
  },
  {
   "cell_type": "code",
   "execution_count": 9,
   "id": "02f2de42-13d0-403c-a48d-b965dfd87d9c",
   "metadata": {},
   "outputs": [
    {
     "data": {
      "text/html": [
       "\n",
       "<div id=\"altair-viz-a02b9c20d7144f11b74819ecc48604bb\"></div>\n",
       "<script type=\"text/javascript\">\n",
       "  var VEGA_DEBUG = (typeof VEGA_DEBUG == \"undefined\") ? {} : VEGA_DEBUG;\n",
       "  (function(spec, embedOpt){\n",
       "    let outputDiv = document.currentScript.previousElementSibling;\n",
       "    if (outputDiv.id !== \"altair-viz-a02b9c20d7144f11b74819ecc48604bb\") {\n",
       "      outputDiv = document.getElementById(\"altair-viz-a02b9c20d7144f11b74819ecc48604bb\");\n",
       "    }\n",
       "    const paths = {\n",
       "      \"vega\": \"https://cdn.jsdelivr.net/npm//vega@5?noext\",\n",
       "      \"vega-lib\": \"https://cdn.jsdelivr.net/npm//vega-lib?noext\",\n",
       "      \"vega-lite\": \"https://cdn.jsdelivr.net/npm//vega-lite@4.17.0?noext\",\n",
       "      \"vega-embed\": \"https://cdn.jsdelivr.net/npm//vega-embed@6?noext\",\n",
       "    };\n",
       "\n",
       "    function maybeLoadScript(lib, version) {\n",
       "      var key = `${lib.replace(\"-\", \"\")}_version`;\n",
       "      return (VEGA_DEBUG[key] == version) ?\n",
       "        Promise.resolve(paths[lib]) :\n",
       "        new Promise(function(resolve, reject) {\n",
       "          var s = document.createElement('script');\n",
       "          document.getElementsByTagName(\"head\")[0].appendChild(s);\n",
       "          s.async = true;\n",
       "          s.onload = () => {\n",
       "            VEGA_DEBUG[key] = version;\n",
       "            return resolve(paths[lib]);\n",
       "          };\n",
       "          s.onerror = () => reject(`Error loading script: ${paths[lib]}`);\n",
       "          s.src = paths[lib];\n",
       "        });\n",
       "    }\n",
       "\n",
       "    function showError(err) {\n",
       "      outputDiv.innerHTML = `<div class=\"error\" style=\"color:red;\">${err}</div>`;\n",
       "      throw err;\n",
       "    }\n",
       "\n",
       "    function displayChart(vegaEmbed) {\n",
       "      vegaEmbed(outputDiv, spec, embedOpt)\n",
       "        .catch(err => showError(`Javascript Error: ${err.message}<br>This usually means there's a typo in your chart specification. See the javascript console for the full traceback.`));\n",
       "    }\n",
       "\n",
       "    if(typeof define === \"function\" && define.amd) {\n",
       "      requirejs.config({paths});\n",
       "      require([\"vega-embed\"], displayChart, err => showError(`Error loading script: ${err.message}`));\n",
       "    } else {\n",
       "      maybeLoadScript(\"vega\", \"5\")\n",
       "        .then(() => maybeLoadScript(\"vega-lite\", \"4.17.0\"))\n",
       "        .then(() => maybeLoadScript(\"vega-embed\", \"6\"))\n",
       "        .catch(showError)\n",
       "        .then(() => displayChart(vegaEmbed));\n",
       "    }\n",
       "  })({\"config\": {\"view\": {\"continuousWidth\": 400, \"continuousHeight\": 300}, \"axis\": {\"domainColor\": \"#cbcbcb\", \"grid\": true, \"gridColor\": \"#cbcbcb\", \"gridWidth\": 1, \"labelColor\": \"#474747\", \"labelFont\": \"Nunito Sans\", \"labelFontSize\": 10, \"labelPadding\": 4, \"tickColor\": \"#cbcbcb\", \"tickSize\": 10, \"titleColor\": \"#333\", \"titleFont\": \"Raleway\", \"titleFontSize\": 12, \"titlePadding\": 10}, \"axisBand\": {\"grid\": false}, \"background\": \"white\", \"font\": \"Raleway\", \"header\": {\"labelFont\": \"Nunito Sans\", \"titleFont\": \"Raleway\"}, \"legend\": {\"labelColor\": \"#333\", \"labelFont\": \"Nunito Sans\", \"labelFontSize\": 11, \"labelLimit\": 0, \"padding\": 1, \"symbolSize\": 30, \"symbolType\": \"square\", \"titleColor\": \"#333\", \"titleFont\": \"Raleway\", \"titleFontSize\": 14, \"titlePadding\": 10}, \"title\": {\"anchor\": \"middle\", \"font\": \"Raleway\", \"fontSize\": 18, \"fontWeight\": 300, \"offset\": 20}}, \"data\": {\"name\": \"data-b9b3aaee253b609d634bef356d304f5e\"}, \"mark\": \"bar\", \"encoding\": {\"color\": {\"field\": \"GTFS\", \"legend\": {\"title\": \"Gtfs\"}, \"scale\": {\"range\": [\"#2EA8CE\", \"#EB9F3C\", \"#F4D837\", \"#51BF9D\", \"#8CBCCB\", \"#9487C0\"]}, \"type\": \"nominal\"}, \"x\": {\"field\": \"GTFS\", \"sort\": \"-y\", \"title\": \"Gtfs\", \"type\": \"nominal\"}, \"y\": {\"field\": \"vehicles_percent_older_than_9\", \"title\": \"Vehicles Percent Older Than 9\", \"type\": \"quantitative\"}}, \"height\": 250, \"title\": \"Gtfs by Vehicles Percent Older Than 9\", \"width\": 400, \"$schema\": \"https://vega.github.io/schema/vega-lite/v4.17.0.json\", \"datasets\": {\"data-b9b3aaee253b609d634bef356d304f5e\": [{\"GTFS\": \"Long-term solution needed\", \"vehicles_older_than_9\": 7.0, \"vehicles_older_than_15\": 1.0, \"vehicles_0_to_9\": 24.0, \"vehicles_percent_older_than_9\": 0.34347399411187435, \"vehicles_percent_older_than_15\": 0.13351134846461948, \"vehicles_percent_0_to_9\": 0.4840661557079467}, {\"GTFS\": \"Needed\", \"vehicles_older_than_9\": 34.0, \"vehicles_older_than_15\": 7.0, \"vehicles_0_to_9\": 122.0, \"vehicles_percent_older_than_9\": 1.6683022571148183, \"vehicles_percent_older_than_15\": 0.9345794392523363, \"vehicles_percent_0_to_9\": 2.4606696248487294}, {\"GTFS\": \"None\", \"vehicles_older_than_9\": 51.0, \"vehicles_older_than_15\": 5.0, \"vehicles_0_to_9\": 191.0, \"vehicles_percent_older_than_9\": 2.502453385672228, \"vehicles_percent_older_than_15\": 0.6675567423230975, \"vehicles_percent_0_to_9\": 3.8523598225090763}, {\"GTFS\": \"Ok\", \"vehicles_older_than_9\": 1901.0, \"vehicles_older_than_15\": 720.0, \"vehicles_0_to_9\": 4470.0, \"vehicles_percent_older_than_9\": 93.27772325809617, \"vehicles_percent_older_than_15\": 96.12817089452604, \"vehicles_percent_0_to_9\": 90.15732150060508}, {\"GTFS\": \"Research\", \"vehicles_older_than_9\": 45.0, \"vehicles_older_than_15\": 16.0, \"vehicles_0_to_9\": 151.0, \"vehicles_percent_older_than_9\": 2.2080471050049066, \"vehicles_percent_older_than_15\": 2.1361815754339117, \"vehicles_percent_0_to_9\": 3.0455828963291647}]}}, {\"mode\": \"vega-lite\"});\n",
       "</script>"
      ],
      "text/plain": [
       "alt.Chart(...)"
      ]
     },
     "execution_count": 9,
     "metadata": {},
     "output_type": "execute_result"
    }
   ],
   "source": [
    "_utils.basic_bar_chart(vehicles_gtfs,'GTFS','vehicles_percent_older_than_9','GTFS') "
   ]
  },
  {
   "cell_type": "markdown",
   "id": "1e93c5ea-fef2-437d-8aa2-785e96027d02",
   "metadata": {},
   "source": [
    "### Looking at vehicles 15+ by GTFS\n",
    "![pic](./chart_outputs/bar_GTFS_by_vehicles_older_than_15.png)"
   ]
  },
  {
   "cell_type": "code",
   "execution_count": 10,
   "id": "5000480e-994e-48a5-b365-06f6f5ddfe0c",
   "metadata": {},
   "outputs": [
    {
     "data": {
      "text/html": [
       "\n",
       "<div id=\"altair-viz-3dba419a712444189c4e0dc5f0f91b64\"></div>\n",
       "<script type=\"text/javascript\">\n",
       "  var VEGA_DEBUG = (typeof VEGA_DEBUG == \"undefined\") ? {} : VEGA_DEBUG;\n",
       "  (function(spec, embedOpt){\n",
       "    let outputDiv = document.currentScript.previousElementSibling;\n",
       "    if (outputDiv.id !== \"altair-viz-3dba419a712444189c4e0dc5f0f91b64\") {\n",
       "      outputDiv = document.getElementById(\"altair-viz-3dba419a712444189c4e0dc5f0f91b64\");\n",
       "    }\n",
       "    const paths = {\n",
       "      \"vega\": \"https://cdn.jsdelivr.net/npm//vega@5?noext\",\n",
       "      \"vega-lib\": \"https://cdn.jsdelivr.net/npm//vega-lib?noext\",\n",
       "      \"vega-lite\": \"https://cdn.jsdelivr.net/npm//vega-lite@4.17.0?noext\",\n",
       "      \"vega-embed\": \"https://cdn.jsdelivr.net/npm//vega-embed@6?noext\",\n",
       "    };\n",
       "\n",
       "    function maybeLoadScript(lib, version) {\n",
       "      var key = `${lib.replace(\"-\", \"\")}_version`;\n",
       "      return (VEGA_DEBUG[key] == version) ?\n",
       "        Promise.resolve(paths[lib]) :\n",
       "        new Promise(function(resolve, reject) {\n",
       "          var s = document.createElement('script');\n",
       "          document.getElementsByTagName(\"head\")[0].appendChild(s);\n",
       "          s.async = true;\n",
       "          s.onload = () => {\n",
       "            VEGA_DEBUG[key] = version;\n",
       "            return resolve(paths[lib]);\n",
       "          };\n",
       "          s.onerror = () => reject(`Error loading script: ${paths[lib]}`);\n",
       "          s.src = paths[lib];\n",
       "        });\n",
       "    }\n",
       "\n",
       "    function showError(err) {\n",
       "      outputDiv.innerHTML = `<div class=\"error\" style=\"color:red;\">${err}</div>`;\n",
       "      throw err;\n",
       "    }\n",
       "\n",
       "    function displayChart(vegaEmbed) {\n",
       "      vegaEmbed(outputDiv, spec, embedOpt)\n",
       "        .catch(err => showError(`Javascript Error: ${err.message}<br>This usually means there's a typo in your chart specification. See the javascript console for the full traceback.`));\n",
       "    }\n",
       "\n",
       "    if(typeof define === \"function\" && define.amd) {\n",
       "      requirejs.config({paths});\n",
       "      require([\"vega-embed\"], displayChart, err => showError(`Error loading script: ${err.message}`));\n",
       "    } else {\n",
       "      maybeLoadScript(\"vega\", \"5\")\n",
       "        .then(() => maybeLoadScript(\"vega-lite\", \"4.17.0\"))\n",
       "        .then(() => maybeLoadScript(\"vega-embed\", \"6\"))\n",
       "        .catch(showError)\n",
       "        .then(() => displayChart(vegaEmbed));\n",
       "    }\n",
       "  })({\"config\": {\"view\": {\"continuousWidth\": 400, \"continuousHeight\": 300}, \"axis\": {\"domainColor\": \"#cbcbcb\", \"grid\": true, \"gridColor\": \"#cbcbcb\", \"gridWidth\": 1, \"labelColor\": \"#474747\", \"labelFont\": \"Nunito Sans\", \"labelFontSize\": 10, \"labelPadding\": 4, \"tickColor\": \"#cbcbcb\", \"tickSize\": 10, \"titleColor\": \"#333\", \"titleFont\": \"Raleway\", \"titleFontSize\": 12, \"titlePadding\": 10}, \"axisBand\": {\"grid\": false}, \"background\": \"white\", \"font\": \"Raleway\", \"header\": {\"labelFont\": \"Nunito Sans\", \"titleFont\": \"Raleway\"}, \"legend\": {\"labelColor\": \"#333\", \"labelFont\": \"Nunito Sans\", \"labelFontSize\": 11, \"labelLimit\": 0, \"padding\": 1, \"symbolSize\": 30, \"symbolType\": \"square\", \"titleColor\": \"#333\", \"titleFont\": \"Raleway\", \"titleFontSize\": 14, \"titlePadding\": 10}, \"title\": {\"anchor\": \"middle\", \"font\": \"Raleway\", \"fontSize\": 18, \"fontWeight\": 300, \"offset\": 20}}, \"data\": {\"name\": \"data-b9b3aaee253b609d634bef356d304f5e\"}, \"mark\": \"bar\", \"encoding\": {\"color\": {\"field\": \"GTFS\", \"legend\": {\"title\": \"Gtfs\"}, \"scale\": {\"range\": [\"#2EA8CE\", \"#EB9F3C\", \"#F4D837\", \"#51BF9D\", \"#8CBCCB\", \"#9487C0\"]}, \"type\": \"nominal\"}, \"x\": {\"field\": \"GTFS\", \"sort\": \"-y\", \"title\": \"Gtfs\", \"type\": \"nominal\"}, \"y\": {\"field\": \"vehicles_older_than_15\", \"title\": \"Vehicles Older Than 15\", \"type\": \"quantitative\"}}, \"height\": 250, \"title\": \"Gtfs by Vehicles Older Than 15\", \"width\": 400, \"$schema\": \"https://vega.github.io/schema/vega-lite/v4.17.0.json\", \"datasets\": {\"data-b9b3aaee253b609d634bef356d304f5e\": [{\"GTFS\": \"Long-term solution needed\", \"vehicles_older_than_9\": 7.0, \"vehicles_older_than_15\": 1.0, \"vehicles_0_to_9\": 24.0, \"vehicles_percent_older_than_9\": 0.34347399411187435, \"vehicles_percent_older_than_15\": 0.13351134846461948, \"vehicles_percent_0_to_9\": 0.4840661557079467}, {\"GTFS\": \"Needed\", \"vehicles_older_than_9\": 34.0, \"vehicles_older_than_15\": 7.0, \"vehicles_0_to_9\": 122.0, \"vehicles_percent_older_than_9\": 1.6683022571148183, \"vehicles_percent_older_than_15\": 0.9345794392523363, \"vehicles_percent_0_to_9\": 2.4606696248487294}, {\"GTFS\": \"None\", \"vehicles_older_than_9\": 51.0, \"vehicles_older_than_15\": 5.0, \"vehicles_0_to_9\": 191.0, \"vehicles_percent_older_than_9\": 2.502453385672228, \"vehicles_percent_older_than_15\": 0.6675567423230975, \"vehicles_percent_0_to_9\": 3.8523598225090763}, {\"GTFS\": \"Ok\", \"vehicles_older_than_9\": 1901.0, \"vehicles_older_than_15\": 720.0, \"vehicles_0_to_9\": 4470.0, \"vehicles_percent_older_than_9\": 93.27772325809617, \"vehicles_percent_older_than_15\": 96.12817089452604, \"vehicles_percent_0_to_9\": 90.15732150060508}, {\"GTFS\": \"Research\", \"vehicles_older_than_9\": 45.0, \"vehicles_older_than_15\": 16.0, \"vehicles_0_to_9\": 151.0, \"vehicles_percent_older_than_9\": 2.2080471050049066, \"vehicles_percent_older_than_15\": 2.1361815754339117, \"vehicles_percent_0_to_9\": 3.0455828963291647}]}}, {\"mode\": \"vega-lite\"});\n",
       "</script>"
      ],
      "text/plain": [
       "alt.Chart(...)"
      ]
     },
     "execution_count": 10,
     "metadata": {},
     "output_type": "execute_result"
    }
   ],
   "source": [
    "_utils.basic_bar_chart(vehicles_gtfs,'GTFS','vehicles_older_than_15', 'GTFS') "
   ]
  },
  {
   "cell_type": "markdown",
   "id": "3713e679-2387-4844-8f89-5669db335b75",
   "metadata": {},
   "source": [
    "# Fleet size "
   ]
  },
  {
   "cell_type": "code",
   "execution_count": 11,
   "id": "6cbec23e-505f-473e-951c-94397ed406aa",
   "metadata": {},
   "outputs": [],
   "source": [
    "fleet = _utils.aggregation_one(Aggregate1,'fleet_size') "
   ]
  },
  {
   "cell_type": "code",
   "execution_count": 12,
   "id": "fae72c7a-629f-4a6c-9592-5a68cafc1df3",
   "metadata": {},
   "outputs": [],
   "source": [
    "# don't need no info\n",
    "fleet =  fleet.loc[fleet['fleet_size'] != 'No Info'] "
   ]
  },
  {
   "cell_type": "markdown",
   "id": "9676fd10-3161-4542-9c48-89c25701da7f",
   "metadata": {},
   "source": [
    "### Vehicles older than 9\n",
    "![pic](./chart_outputs/bar_fleet_size_by_vehicles_older_than_9.png)"
   ]
  },
  {
   "cell_type": "code",
   "execution_count": 13,
   "id": "6da482d8-1e67-4a65-aeca-fde16ce6a9e3",
   "metadata": {},
   "outputs": [
    {
     "data": {
      "text/html": [
       "\n",
       "<div id=\"altair-viz-6c44ab3e39934b3d9e83256f11e704f8\"></div>\n",
       "<script type=\"text/javascript\">\n",
       "  var VEGA_DEBUG = (typeof VEGA_DEBUG == \"undefined\") ? {} : VEGA_DEBUG;\n",
       "  (function(spec, embedOpt){\n",
       "    let outputDiv = document.currentScript.previousElementSibling;\n",
       "    if (outputDiv.id !== \"altair-viz-6c44ab3e39934b3d9e83256f11e704f8\") {\n",
       "      outputDiv = document.getElementById(\"altair-viz-6c44ab3e39934b3d9e83256f11e704f8\");\n",
       "    }\n",
       "    const paths = {\n",
       "      \"vega\": \"https://cdn.jsdelivr.net/npm//vega@5?noext\",\n",
       "      \"vega-lib\": \"https://cdn.jsdelivr.net/npm//vega-lib?noext\",\n",
       "      \"vega-lite\": \"https://cdn.jsdelivr.net/npm//vega-lite@4.17.0?noext\",\n",
       "      \"vega-embed\": \"https://cdn.jsdelivr.net/npm//vega-embed@6?noext\",\n",
       "    };\n",
       "\n",
       "    function maybeLoadScript(lib, version) {\n",
       "      var key = `${lib.replace(\"-\", \"\")}_version`;\n",
       "      return (VEGA_DEBUG[key] == version) ?\n",
       "        Promise.resolve(paths[lib]) :\n",
       "        new Promise(function(resolve, reject) {\n",
       "          var s = document.createElement('script');\n",
       "          document.getElementsByTagName(\"head\")[0].appendChild(s);\n",
       "          s.async = true;\n",
       "          s.onload = () => {\n",
       "            VEGA_DEBUG[key] = version;\n",
       "            return resolve(paths[lib]);\n",
       "          };\n",
       "          s.onerror = () => reject(`Error loading script: ${paths[lib]}`);\n",
       "          s.src = paths[lib];\n",
       "        });\n",
       "    }\n",
       "\n",
       "    function showError(err) {\n",
       "      outputDiv.innerHTML = `<div class=\"error\" style=\"color:red;\">${err}</div>`;\n",
       "      throw err;\n",
       "    }\n",
       "\n",
       "    function displayChart(vegaEmbed) {\n",
       "      vegaEmbed(outputDiv, spec, embedOpt)\n",
       "        .catch(err => showError(`Javascript Error: ${err.message}<br>This usually means there's a typo in your chart specification. See the javascript console for the full traceback.`));\n",
       "    }\n",
       "\n",
       "    if(typeof define === \"function\" && define.amd) {\n",
       "      requirejs.config({paths});\n",
       "      require([\"vega-embed\"], displayChart, err => showError(`Error loading script: ${err.message}`));\n",
       "    } else {\n",
       "      maybeLoadScript(\"vega\", \"5\")\n",
       "        .then(() => maybeLoadScript(\"vega-lite\", \"4.17.0\"))\n",
       "        .then(() => maybeLoadScript(\"vega-embed\", \"6\"))\n",
       "        .catch(showError)\n",
       "        .then(() => displayChart(vegaEmbed));\n",
       "    }\n",
       "  })({\"config\": {\"view\": {\"continuousWidth\": 400, \"continuousHeight\": 300}, \"axis\": {\"domainColor\": \"#cbcbcb\", \"grid\": true, \"gridColor\": \"#cbcbcb\", \"gridWidth\": 1, \"labelColor\": \"#474747\", \"labelFont\": \"Nunito Sans\", \"labelFontSize\": 10, \"labelPadding\": 4, \"tickColor\": \"#cbcbcb\", \"tickSize\": 10, \"titleColor\": \"#333\", \"titleFont\": \"Raleway\", \"titleFontSize\": 12, \"titlePadding\": 10}, \"axisBand\": {\"grid\": false}, \"background\": \"white\", \"font\": \"Raleway\", \"header\": {\"labelFont\": \"Nunito Sans\", \"titleFont\": \"Raleway\"}, \"legend\": {\"labelColor\": \"#333\", \"labelFont\": \"Nunito Sans\", \"labelFontSize\": 11, \"labelLimit\": 0, \"padding\": 1, \"symbolSize\": 30, \"symbolType\": \"square\", \"titleColor\": \"#333\", \"titleFont\": \"Raleway\", \"titleFontSize\": 14, \"titlePadding\": 10}, \"title\": {\"anchor\": \"middle\", \"font\": \"Raleway\", \"fontSize\": 18, \"fontWeight\": 300, \"offset\": 20}}, \"data\": {\"name\": \"data-e5c9e196326ee54efcdb1c54f067b50d\"}, \"mark\": \"bar\", \"encoding\": {\"color\": {\"field\": \"fleet_size\", \"legend\": {\"title\": \"Fleet Size\"}, \"scale\": {\"range\": [\"#2EA8CE\", \"#EB9F3C\", \"#F4D837\", \"#51BF9D\", \"#8CBCCB\", \"#9487C0\"]}, \"type\": \"nominal\"}, \"x\": {\"field\": \"fleet_size\", \"sort\": \"-y\", \"title\": \"Fleet Size\", \"type\": \"nominal\"}, \"y\": {\"field\": \"vehicles_older_than_9\", \"title\": \"Vehicles Older Than 9\", \"type\": \"quantitative\"}}, \"height\": 250, \"title\": \"Fleet Size by Vehicles Older Than 9\", \"width\": 400, \"$schema\": \"https://vega.github.io/schema/vega-lite/v4.17.0.json\", \"datasets\": {\"data-e5c9e196326ee54efcdb1c54f067b50d\": [{\"fleet_size\": \"Large\", \"vehicles_older_than_9\": 1752.0, \"vehicles_older_than_15\": 695.0, \"vehicles_0_to_9\": 3899.0, \"vehicles_percent_older_than_9\": 85.96663395485771, \"vehicles_percent_older_than_15\": 92.79038718291055, \"vehicles_percent_0_to_9\": 78.64058087938685}, {\"fleet_size\": \"Medium\", \"vehicles_older_than_9\": 203.0, \"vehicles_older_than_15\": 36.0, \"vehicles_0_to_9\": 754.0, \"vehicles_percent_older_than_9\": 9.960745829244356, \"vehicles_percent_older_than_15\": 4.806408544726302, \"vehicles_percent_0_to_9\": 15.207745058491327}, {\"fleet_size\": \"Small\", \"vehicles_older_than_9\": 83.0, \"vehicles_older_than_15\": 18.0, \"vehicles_0_to_9\": 305.0, \"vehicles_percent_older_than_9\": 4.072620215897939, \"vehicles_percent_older_than_15\": 2.403204272363151, \"vehicles_percent_0_to_9\": 6.151674062121823}]}}, {\"mode\": \"vega-lite\"});\n",
       "</script>"
      ],
      "text/plain": [
       "alt.Chart(...)"
      ]
     },
     "execution_count": 13,
     "metadata": {},
     "output_type": "execute_result"
    }
   ],
   "source": [
    "_utils.basic_bar_chart(fleet,'fleet_size','vehicles_older_than_9', 'fleet_size') "
   ]
  },
  {
   "cell_type": "markdown",
   "id": "ecfb26f7-b331-41dc-81c0-8a985b156c39",
   "metadata": {},
   "source": [
    "### Vehicles older than 15\n",
    "![pic](./chart_outputs/bar_fleet_size_by_vehicles_older_than_15.png)"
   ]
  },
  {
   "cell_type": "code",
   "execution_count": 14,
   "id": "81cae673-ee29-43bb-8455-8dfb002864ad",
   "metadata": {},
   "outputs": [
    {
     "data": {
      "text/html": [
       "\n",
       "<div id=\"altair-viz-550b66c6510e41258ce9af5329a3be24\"></div>\n",
       "<script type=\"text/javascript\">\n",
       "  var VEGA_DEBUG = (typeof VEGA_DEBUG == \"undefined\") ? {} : VEGA_DEBUG;\n",
       "  (function(spec, embedOpt){\n",
       "    let outputDiv = document.currentScript.previousElementSibling;\n",
       "    if (outputDiv.id !== \"altair-viz-550b66c6510e41258ce9af5329a3be24\") {\n",
       "      outputDiv = document.getElementById(\"altair-viz-550b66c6510e41258ce9af5329a3be24\");\n",
       "    }\n",
       "    const paths = {\n",
       "      \"vega\": \"https://cdn.jsdelivr.net/npm//vega@5?noext\",\n",
       "      \"vega-lib\": \"https://cdn.jsdelivr.net/npm//vega-lib?noext\",\n",
       "      \"vega-lite\": \"https://cdn.jsdelivr.net/npm//vega-lite@4.17.0?noext\",\n",
       "      \"vega-embed\": \"https://cdn.jsdelivr.net/npm//vega-embed@6?noext\",\n",
       "    };\n",
       "\n",
       "    function maybeLoadScript(lib, version) {\n",
       "      var key = `${lib.replace(\"-\", \"\")}_version`;\n",
       "      return (VEGA_DEBUG[key] == version) ?\n",
       "        Promise.resolve(paths[lib]) :\n",
       "        new Promise(function(resolve, reject) {\n",
       "          var s = document.createElement('script');\n",
       "          document.getElementsByTagName(\"head\")[0].appendChild(s);\n",
       "          s.async = true;\n",
       "          s.onload = () => {\n",
       "            VEGA_DEBUG[key] = version;\n",
       "            return resolve(paths[lib]);\n",
       "          };\n",
       "          s.onerror = () => reject(`Error loading script: ${paths[lib]}`);\n",
       "          s.src = paths[lib];\n",
       "        });\n",
       "    }\n",
       "\n",
       "    function showError(err) {\n",
       "      outputDiv.innerHTML = `<div class=\"error\" style=\"color:red;\">${err}</div>`;\n",
       "      throw err;\n",
       "    }\n",
       "\n",
       "    function displayChart(vegaEmbed) {\n",
       "      vegaEmbed(outputDiv, spec, embedOpt)\n",
       "        .catch(err => showError(`Javascript Error: ${err.message}<br>This usually means there's a typo in your chart specification. See the javascript console for the full traceback.`));\n",
       "    }\n",
       "\n",
       "    if(typeof define === \"function\" && define.amd) {\n",
       "      requirejs.config({paths});\n",
       "      require([\"vega-embed\"], displayChart, err => showError(`Error loading script: ${err.message}`));\n",
       "    } else {\n",
       "      maybeLoadScript(\"vega\", \"5\")\n",
       "        .then(() => maybeLoadScript(\"vega-lite\", \"4.17.0\"))\n",
       "        .then(() => maybeLoadScript(\"vega-embed\", \"6\"))\n",
       "        .catch(showError)\n",
       "        .then(() => displayChart(vegaEmbed));\n",
       "    }\n",
       "  })({\"config\": {\"view\": {\"continuousWidth\": 400, \"continuousHeight\": 300}, \"axis\": {\"domainColor\": \"#cbcbcb\", \"grid\": true, \"gridColor\": \"#cbcbcb\", \"gridWidth\": 1, \"labelColor\": \"#474747\", \"labelFont\": \"Nunito Sans\", \"labelFontSize\": 10, \"labelPadding\": 4, \"tickColor\": \"#cbcbcb\", \"tickSize\": 10, \"titleColor\": \"#333\", \"titleFont\": \"Raleway\", \"titleFontSize\": 12, \"titlePadding\": 10}, \"axisBand\": {\"grid\": false}, \"background\": \"white\", \"font\": \"Raleway\", \"header\": {\"labelFont\": \"Nunito Sans\", \"titleFont\": \"Raleway\"}, \"legend\": {\"labelColor\": \"#333\", \"labelFont\": \"Nunito Sans\", \"labelFontSize\": 11, \"labelLimit\": 0, \"padding\": 1, \"symbolSize\": 30, \"symbolType\": \"square\", \"titleColor\": \"#333\", \"titleFont\": \"Raleway\", \"titleFontSize\": 14, \"titlePadding\": 10}, \"title\": {\"anchor\": \"middle\", \"font\": \"Raleway\", \"fontSize\": 18, \"fontWeight\": 300, \"offset\": 20}}, \"data\": {\"name\": \"data-e5c9e196326ee54efcdb1c54f067b50d\"}, \"mark\": \"bar\", \"encoding\": {\"color\": {\"field\": \"fleet_size\", \"legend\": {\"title\": \"Fleet Size\"}, \"scale\": {\"range\": [\"#2EA8CE\", \"#EB9F3C\", \"#F4D837\", \"#51BF9D\", \"#8CBCCB\", \"#9487C0\"]}, \"type\": \"nominal\"}, \"x\": {\"field\": \"fleet_size\", \"sort\": \"-y\", \"title\": \"Fleet Size\", \"type\": \"nominal\"}, \"y\": {\"field\": \"vehicles_older_than_15\", \"title\": \"Vehicles Older Than 15\", \"type\": \"quantitative\"}}, \"height\": 250, \"title\": \"Fleet Size by Vehicles Older Than 15\", \"width\": 400, \"$schema\": \"https://vega.github.io/schema/vega-lite/v4.17.0.json\", \"datasets\": {\"data-e5c9e196326ee54efcdb1c54f067b50d\": [{\"fleet_size\": \"Large\", \"vehicles_older_than_9\": 1752.0, \"vehicles_older_than_15\": 695.0, \"vehicles_0_to_9\": 3899.0, \"vehicles_percent_older_than_9\": 85.96663395485771, \"vehicles_percent_older_than_15\": 92.79038718291055, \"vehicles_percent_0_to_9\": 78.64058087938685}, {\"fleet_size\": \"Medium\", \"vehicles_older_than_9\": 203.0, \"vehicles_older_than_15\": 36.0, \"vehicles_0_to_9\": 754.0, \"vehicles_percent_older_than_9\": 9.960745829244356, \"vehicles_percent_older_than_15\": 4.806408544726302, \"vehicles_percent_0_to_9\": 15.207745058491327}, {\"fleet_size\": \"Small\", \"vehicles_older_than_9\": 83.0, \"vehicles_older_than_15\": 18.0, \"vehicles_0_to_9\": 305.0, \"vehicles_percent_older_than_9\": 4.072620215897939, \"vehicles_percent_older_than_15\": 2.403204272363151, \"vehicles_percent_0_to_9\": 6.151674062121823}]}}, {\"mode\": \"vega-lite\"});\n",
       "</script>"
      ],
      "text/plain": [
       "alt.Chart(...)"
      ]
     },
     "execution_count": 14,
     "metadata": {},
     "output_type": "execute_result"
    }
   ],
   "source": [
    "_utils.basic_bar_chart(fleet,'fleet_size','vehicles_older_than_15', 'fleet_size') "
   ]
  },
  {
   "cell_type": "markdown",
   "id": "78e4eb79-2951-4b61-8af6-bcfb1268a5d6",
   "metadata": {},
   "source": [
    "# Other\n",
    "## Looking at organizations & GTFS\n",
    "![pic](./chart_outputs/bar_GTFS_by_count_of_agencies.png)"
   ]
  },
  {
   "cell_type": "code",
   "execution_count": 15,
   "id": "a3f35868-c5f6-4b50-97ec-3672413002f9",
   "metadata": {},
   "outputs": [
    {
     "data": {
      "text/html": [
       "\n",
       "<div id=\"altair-viz-4c2fefeb93064d8cae41ba559bc71c87\"></div>\n",
       "<script type=\"text/javascript\">\n",
       "  var VEGA_DEBUG = (typeof VEGA_DEBUG == \"undefined\") ? {} : VEGA_DEBUG;\n",
       "  (function(spec, embedOpt){\n",
       "    let outputDiv = document.currentScript.previousElementSibling;\n",
       "    if (outputDiv.id !== \"altair-viz-4c2fefeb93064d8cae41ba559bc71c87\") {\n",
       "      outputDiv = document.getElementById(\"altair-viz-4c2fefeb93064d8cae41ba559bc71c87\");\n",
       "    }\n",
       "    const paths = {\n",
       "      \"vega\": \"https://cdn.jsdelivr.net/npm//vega@5?noext\",\n",
       "      \"vega-lib\": \"https://cdn.jsdelivr.net/npm//vega-lib?noext\",\n",
       "      \"vega-lite\": \"https://cdn.jsdelivr.net/npm//vega-lite@4.17.0?noext\",\n",
       "      \"vega-embed\": \"https://cdn.jsdelivr.net/npm//vega-embed@6?noext\",\n",
       "    };\n",
       "\n",
       "    function maybeLoadScript(lib, version) {\n",
       "      var key = `${lib.replace(\"-\", \"\")}_version`;\n",
       "      return (VEGA_DEBUG[key] == version) ?\n",
       "        Promise.resolve(paths[lib]) :\n",
       "        new Promise(function(resolve, reject) {\n",
       "          var s = document.createElement('script');\n",
       "          document.getElementsByTagName(\"head\")[0].appendChild(s);\n",
       "          s.async = true;\n",
       "          s.onload = () => {\n",
       "            VEGA_DEBUG[key] = version;\n",
       "            return resolve(paths[lib]);\n",
       "          };\n",
       "          s.onerror = () => reject(`Error loading script: ${paths[lib]}`);\n",
       "          s.src = paths[lib];\n",
       "        });\n",
       "    }\n",
       "\n",
       "    function showError(err) {\n",
       "      outputDiv.innerHTML = `<div class=\"error\" style=\"color:red;\">${err}</div>`;\n",
       "      throw err;\n",
       "    }\n",
       "\n",
       "    function displayChart(vegaEmbed) {\n",
       "      vegaEmbed(outputDiv, spec, embedOpt)\n",
       "        .catch(err => showError(`Javascript Error: ${err.message}<br>This usually means there's a typo in your chart specification. See the javascript console for the full traceback.`));\n",
       "    }\n",
       "\n",
       "    if(typeof define === \"function\" && define.amd) {\n",
       "      requirejs.config({paths});\n",
       "      require([\"vega-embed\"], displayChart, err => showError(`Error loading script: ${err.message}`));\n",
       "    } else {\n",
       "      maybeLoadScript(\"vega\", \"5\")\n",
       "        .then(() => maybeLoadScript(\"vega-lite\", \"4.17.0\"))\n",
       "        .then(() => maybeLoadScript(\"vega-embed\", \"6\"))\n",
       "        .catch(showError)\n",
       "        .then(() => displayChart(vegaEmbed));\n",
       "    }\n",
       "  })({\"config\": {\"view\": {\"continuousWidth\": 400, \"continuousHeight\": 300}, \"axis\": {\"domainColor\": \"#cbcbcb\", \"grid\": true, \"gridColor\": \"#cbcbcb\", \"gridWidth\": 1, \"labelColor\": \"#474747\", \"labelFont\": \"Nunito Sans\", \"labelFontSize\": 10, \"labelPadding\": 4, \"tickColor\": \"#cbcbcb\", \"tickSize\": 10, \"titleColor\": \"#333\", \"titleFont\": \"Raleway\", \"titleFontSize\": 12, \"titlePadding\": 10}, \"axisBand\": {\"grid\": false}, \"background\": \"white\", \"font\": \"Raleway\", \"header\": {\"labelFont\": \"Nunito Sans\", \"titleFont\": \"Raleway\"}, \"legend\": {\"labelColor\": \"#333\", \"labelFont\": \"Nunito Sans\", \"labelFontSize\": 11, \"labelLimit\": 0, \"padding\": 1, \"symbolSize\": 30, \"symbolType\": \"square\", \"titleColor\": \"#333\", \"titleFont\": \"Raleway\", \"titleFontSize\": 14, \"titlePadding\": 10}, \"title\": {\"anchor\": \"middle\", \"font\": \"Raleway\", \"fontSize\": 18, \"fontWeight\": 300, \"offset\": 20}}, \"data\": {\"name\": \"data-59a0bb9687e07db553b58f5d64498d7c\"}, \"mark\": \"bar\", \"encoding\": {\"color\": {\"field\": \"GTFS\", \"legend\": {\"title\": \"Gtfs\"}, \"scale\": {\"range\": [\"#2EA8CE\", \"#EB9F3C\", \"#F4D837\", \"#51BF9D\", \"#8CBCCB\", \"#9487C0\"]}, \"type\": \"nominal\"}, \"x\": {\"field\": \"GTFS\", \"sort\": \"-y\", \"title\": \"Gtfs\", \"type\": \"nominal\"}, \"y\": {\"field\": \"count_of_agencies\", \"title\": \"Count Of Agencies\", \"type\": \"quantitative\"}}, \"height\": 250, \"title\": \"Gtfs by Count Of Agencies\", \"width\": 400, \"$schema\": \"https://vega.github.io/schema/vega-lite/v4.17.0.json\", \"datasets\": {\"data-59a0bb9687e07db553b58f5d64498d7c\": [{\"GTFS\": \"Long-term solution needed\", \"count_of_agencies\": 3}, {\"GTFS\": \"Needed\", \"count_of_agencies\": 15}, {\"GTFS\": \"None\", \"count_of_agencies\": 14}, {\"GTFS\": \"Ok\", \"count_of_agencies\": 54}, {\"GTFS\": \"Research\", \"count_of_agencies\": 1}]}}, {\"mode\": \"vega-lite\"});\n",
       "</script>"
      ],
      "text/plain": [
       "alt.Chart(...)"
      ]
     },
     "execution_count": 15,
     "metadata": {},
     "output_type": "execute_result"
    }
   ],
   "source": [
    "Orgs = Aggregate1.groupby(['GTFS']).agg({'organization_name':'nunique'})\n",
    "Orgs = Orgs.reset_index()\n",
    "Orgs = Orgs.rename(columns = {'organization_name': 'count_of_agencies'}) \n",
    "_utils.basic_bar_chart(Orgs,'GTFS','count_of_agencies', 'GTFS') "
   ]
  },
  {
   "cell_type": "markdown",
   "id": "5d0ca08c-0ad4-43a0-b66c-9fed0bac26ab",
   "metadata": {},
   "source": [
    "## Looking at reporter type & GTFS\n",
    "![testing](./chart_outputs/bar_GTFS_by_count_of_agencies.png)"
   ]
  },
  {
   "cell_type": "code",
   "execution_count": 16,
   "id": "69dc8dc2-e3df-441a-9e3e-dde72735aaaa",
   "metadata": {
    "tags": []
   },
   "outputs": [
    {
     "data": {
      "text/html": [
       "\n",
       "<div id=\"altair-viz-9d766852e8fe476497793b6c9b2f3db4\"></div>\n",
       "<script type=\"text/javascript\">\n",
       "  var VEGA_DEBUG = (typeof VEGA_DEBUG == \"undefined\") ? {} : VEGA_DEBUG;\n",
       "  (function(spec, embedOpt){\n",
       "    let outputDiv = document.currentScript.previousElementSibling;\n",
       "    if (outputDiv.id !== \"altair-viz-9d766852e8fe476497793b6c9b2f3db4\") {\n",
       "      outputDiv = document.getElementById(\"altair-viz-9d766852e8fe476497793b6c9b2f3db4\");\n",
       "    }\n",
       "    const paths = {\n",
       "      \"vega\": \"https://cdn.jsdelivr.net/npm//vega@5?noext\",\n",
       "      \"vega-lib\": \"https://cdn.jsdelivr.net/npm//vega-lib?noext\",\n",
       "      \"vega-lite\": \"https://cdn.jsdelivr.net/npm//vega-lite@4.17.0?noext\",\n",
       "      \"vega-embed\": \"https://cdn.jsdelivr.net/npm//vega-embed@6?noext\",\n",
       "    };\n",
       "\n",
       "    function maybeLoadScript(lib, version) {\n",
       "      var key = `${lib.replace(\"-\", \"\")}_version`;\n",
       "      return (VEGA_DEBUG[key] == version) ?\n",
       "        Promise.resolve(paths[lib]) :\n",
       "        new Promise(function(resolve, reject) {\n",
       "          var s = document.createElement('script');\n",
       "          document.getElementsByTagName(\"head\")[0].appendChild(s);\n",
       "          s.async = true;\n",
       "          s.onload = () => {\n",
       "            VEGA_DEBUG[key] = version;\n",
       "            return resolve(paths[lib]);\n",
       "          };\n",
       "          s.onerror = () => reject(`Error loading script: ${paths[lib]}`);\n",
       "          s.src = paths[lib];\n",
       "        });\n",
       "    }\n",
       "\n",
       "    function showError(err) {\n",
       "      outputDiv.innerHTML = `<div class=\"error\" style=\"color:red;\">${err}</div>`;\n",
       "      throw err;\n",
       "    }\n",
       "\n",
       "    function displayChart(vegaEmbed) {\n",
       "      vegaEmbed(outputDiv, spec, embedOpt)\n",
       "        .catch(err => showError(`Javascript Error: ${err.message}<br>This usually means there's a typo in your chart specification. See the javascript console for the full traceback.`));\n",
       "    }\n",
       "\n",
       "    if(typeof define === \"function\" && define.amd) {\n",
       "      requirejs.config({paths});\n",
       "      require([\"vega-embed\"], displayChart, err => showError(`Error loading script: ${err.message}`));\n",
       "    } else {\n",
       "      maybeLoadScript(\"vega\", \"5\")\n",
       "        .then(() => maybeLoadScript(\"vega-lite\", \"4.17.0\"))\n",
       "        .then(() => maybeLoadScript(\"vega-embed\", \"6\"))\n",
       "        .catch(showError)\n",
       "        .then(() => displayChart(vegaEmbed));\n",
       "    }\n",
       "  })({\"config\": {\"view\": {\"continuousWidth\": 400, \"continuousHeight\": 300}, \"axis\": {\"domainColor\": \"#cbcbcb\", \"grid\": true, \"gridColor\": \"#cbcbcb\", \"gridWidth\": 1, \"labelColor\": \"#474747\", \"labelFont\": \"Nunito Sans\", \"labelFontSize\": 10, \"labelPadding\": 4, \"tickColor\": \"#cbcbcb\", \"tickSize\": 10, \"titleColor\": \"#333\", \"titleFont\": \"Raleway\", \"titleFontSize\": 12, \"titlePadding\": 10}, \"axisBand\": {\"grid\": false}, \"background\": \"white\", \"font\": \"Raleway\", \"header\": {\"labelFont\": \"Nunito Sans\", \"titleFont\": \"Raleway\"}, \"legend\": {\"labelColor\": \"#333\", \"labelFont\": \"Nunito Sans\", \"labelFontSize\": 11, \"labelLimit\": 0, \"padding\": 1, \"symbolSize\": 30, \"symbolType\": \"square\", \"titleColor\": \"#333\", \"titleFont\": \"Raleway\", \"titleFontSize\": 14, \"titlePadding\": 10}, \"title\": {\"anchor\": \"middle\", \"font\": \"Raleway\", \"fontSize\": 18, \"fontWeight\": 300, \"offset\": 20}}, \"data\": {\"name\": \"data-d5002bb7996cc8c319f95f17c7b7bda4\"}, \"mark\": \"bar\", \"encoding\": {\"color\": {\"field\": \"reporter_type\", \"legend\": {\"title\": \"Reporter Type\"}, \"scale\": {\"range\": [\"#2EA8CE\", \"#EB9F3C\", \"#F4D837\", \"#51BF9D\", \"#8CBCCB\", \"#9487C0\"]}, \"type\": \"nominal\"}, \"x\": {\"field\": \"reporter_type\", \"sort\": \"-y\", \"title\": \"Reporter Type\", \"type\": \"nominal\"}, \"y\": {\"field\": \"Count of Agencies\", \"title\": \"Count Of Agencies\", \"type\": \"quantitative\"}}, \"height\": 250, \"title\": \"Reporter Type by Count Of Agencies\", \"width\": 400, \"$schema\": \"https://vega.github.io/schema/vega-lite/v4.17.0.json\", \"datasets\": {\"data-d5002bb7996cc8c319f95f17c7b7bda4\": [{\"reporter_type\": \"Asset Subrecipient\", \"Count of Agencies\": 1}, {\"reporter_type\": \"Full Reporter\", \"Count of Agencies\": 26}, {\"reporter_type\": \"None\", \"Count of Agencies\": 9}, {\"reporter_type\": \"Reduced Reporter\", \"Count of Agencies\": 2}, {\"reporter_type\": \"Rural Reporter\", \"Count of Agencies\": 49}]}}, {\"mode\": \"vega-lite\"});\n",
       "</script>"
      ],
      "text/plain": [
       "alt.Chart(...)"
      ]
     },
     "execution_count": 16,
     "metadata": {},
     "output_type": "execute_result"
    }
   ],
   "source": [
    "Reporter_type_agg = Aggregate1.groupby(['reporter_type']).agg({'organization_name':'nunique'})\n",
    "Reporter_type_agg = Reporter_type_agg.reset_index()\n",
    "Reporter_type_agg = Reporter_type_agg.rename(columns = {'organization_name':'Count of Agencies'})\n",
    "_utils.basic_bar_chart(Reporter_type_agg,'reporter_type','Count of Agencies', 'reporter_type') "
   ]
  },
  {
   "cell_type": "markdown",
   "id": "6f45af6e-5547-421e-8c34-9f8187d08505",
   "metadata": {},
   "source": [
    "## Looking at agencies that spent the most..\n",
    "![pic](./chart_outputs/bar_organization_name_by_allocationamount.png)"
   ]
  },
  {
   "cell_type": "code",
   "execution_count": 17,
   "id": "5c2db6f1-af80-4346-8eed-efb5a6451691",
   "metadata": {},
   "outputs": [],
   "source": [
    "Most_Money = BC_GTFS_NTD2.groupby(['organization_name','GTFS']).agg({'allocationamount':'sum'})"
   ]
  },
  {
   "cell_type": "code",
   "execution_count": 18,
   "id": "9ce988eb-5368-422d-b591-38467b2d8f3b",
   "metadata": {
    "tags": []
   },
   "outputs": [],
   "source": [
    "Most_Money= Most_Money.sort_values('allocationamount').tail(10)\n",
    "Most_Money = Most_Money.reset_index()"
   ]
  },
  {
   "cell_type": "code",
   "execution_count": 19,
   "id": "a182c0dd-89d3-4692-956f-4856c85a4bfa",
   "metadata": {},
   "outputs": [
    {
     "data": {
      "text/html": [
       "\n",
       "<div id=\"altair-viz-5c37076ccf6744c18103822e79526b1b\"></div>\n",
       "<script type=\"text/javascript\">\n",
       "  var VEGA_DEBUG = (typeof VEGA_DEBUG == \"undefined\") ? {} : VEGA_DEBUG;\n",
       "  (function(spec, embedOpt){\n",
       "    let outputDiv = document.currentScript.previousElementSibling;\n",
       "    if (outputDiv.id !== \"altair-viz-5c37076ccf6744c18103822e79526b1b\") {\n",
       "      outputDiv = document.getElementById(\"altair-viz-5c37076ccf6744c18103822e79526b1b\");\n",
       "    }\n",
       "    const paths = {\n",
       "      \"vega\": \"https://cdn.jsdelivr.net/npm//vega@5?noext\",\n",
       "      \"vega-lib\": \"https://cdn.jsdelivr.net/npm//vega-lib?noext\",\n",
       "      \"vega-lite\": \"https://cdn.jsdelivr.net/npm//vega-lite@4.17.0?noext\",\n",
       "      \"vega-embed\": \"https://cdn.jsdelivr.net/npm//vega-embed@6?noext\",\n",
       "    };\n",
       "\n",
       "    function maybeLoadScript(lib, version) {\n",
       "      var key = `${lib.replace(\"-\", \"\")}_version`;\n",
       "      return (VEGA_DEBUG[key] == version) ?\n",
       "        Promise.resolve(paths[lib]) :\n",
       "        new Promise(function(resolve, reject) {\n",
       "          var s = document.createElement('script');\n",
       "          document.getElementsByTagName(\"head\")[0].appendChild(s);\n",
       "          s.async = true;\n",
       "          s.onload = () => {\n",
       "            VEGA_DEBUG[key] = version;\n",
       "            return resolve(paths[lib]);\n",
       "          };\n",
       "          s.onerror = () => reject(`Error loading script: ${paths[lib]}`);\n",
       "          s.src = paths[lib];\n",
       "        });\n",
       "    }\n",
       "\n",
       "    function showError(err) {\n",
       "      outputDiv.innerHTML = `<div class=\"error\" style=\"color:red;\">${err}</div>`;\n",
       "      throw err;\n",
       "    }\n",
       "\n",
       "    function displayChart(vegaEmbed) {\n",
       "      vegaEmbed(outputDiv, spec, embedOpt)\n",
       "        .catch(err => showError(`Javascript Error: ${err.message}<br>This usually means there's a typo in your chart specification. See the javascript console for the full traceback.`));\n",
       "    }\n",
       "\n",
       "    if(typeof define === \"function\" && define.amd) {\n",
       "      requirejs.config({paths});\n",
       "      require([\"vega-embed\"], displayChart, err => showError(`Error loading script: ${err.message}`));\n",
       "    } else {\n",
       "      maybeLoadScript(\"vega\", \"5\")\n",
       "        .then(() => maybeLoadScript(\"vega-lite\", \"4.17.0\"))\n",
       "        .then(() => maybeLoadScript(\"vega-embed\", \"6\"))\n",
       "        .catch(showError)\n",
       "        .then(() => displayChart(vegaEmbed));\n",
       "    }\n",
       "  })({\"config\": {\"view\": {\"continuousWidth\": 400, \"continuousHeight\": 300}, \"axis\": {\"domainColor\": \"#cbcbcb\", \"grid\": true, \"gridColor\": \"#cbcbcb\", \"gridWidth\": 1, \"labelColor\": \"#474747\", \"labelFont\": \"Nunito Sans\", \"labelFontSize\": 10, \"labelPadding\": 4, \"tickColor\": \"#cbcbcb\", \"tickSize\": 10, \"titleColor\": \"#333\", \"titleFont\": \"Raleway\", \"titleFontSize\": 12, \"titlePadding\": 10}, \"axisBand\": {\"grid\": false}, \"background\": \"white\", \"font\": \"Raleway\", \"header\": {\"labelFont\": \"Nunito Sans\", \"titleFont\": \"Raleway\"}, \"legend\": {\"labelColor\": \"#333\", \"labelFont\": \"Nunito Sans\", \"labelFontSize\": 11, \"labelLimit\": 0, \"padding\": 1, \"symbolSize\": 30, \"symbolType\": \"square\", \"titleColor\": \"#333\", \"titleFont\": \"Raleway\", \"titleFontSize\": 14, \"titlePadding\": 10}, \"title\": {\"anchor\": \"middle\", \"font\": \"Raleway\", \"fontSize\": 18, \"fontWeight\": 300, \"offset\": 20}}, \"data\": {\"name\": \"data-6246b5cc38f19cf7e74131ec6abab4e4\"}, \"mark\": \"bar\", \"encoding\": {\"color\": {\"field\": \"organization_name\", \"legend\": {\"title\": \"Organization Name\"}, \"scale\": {\"range\": [\"#2EA8CE\", \"#EB9F3C\", \"#F4D837\", \"#51BF9D\", \"#8CBCCB\", \"#9487C0\"]}, \"type\": \"nominal\"}, \"x\": {\"field\": \"organization_name\", \"sort\": \"-y\", \"title\": \"Organization Name\", \"type\": \"nominal\"}, \"y\": {\"field\": \"allocationamount\", \"title\": \"Allocationamount\", \"type\": \"quantitative\"}}, \"height\": 250, \"title\": \"Organization Name by Allocationamount\", \"width\": 400, \"$schema\": \"https://vega.github.io/schema/vega-lite/v4.17.0.json\", \"datasets\": {\"data-6246b5cc38f19cf7e74131ec6abab4e4\": [{\"organization_name\": \"Transit Joint Powers Authority for Merced County\", \"GTFS\": \"Ok\", \"allocationamount\": 3216038.0}, {\"organization_name\": \"Mountain Area Regional Transit Authority\", \"GTFS\": \"Ok\", \"allocationamount\": 3833588.0}, {\"organization_name\": \"Victor Valley Transit Authority\", \"GTFS\": \"Ok\", \"allocationamount\": 3990601.0}, {\"organization_name\": \"Mendocino Transit Authority\", \"GTFS\": \"Ok\", \"allocationamount\": 4203816.0}, {\"organization_name\": \"Lake Transit Authority\", \"GTFS\": \"Ok\", \"allocationamount\": 5055140.0}, {\"organization_name\": \"Humboldt Transit Authority\", \"GTFS\": \"Ok\", \"allocationamount\": 5717828.0}, {\"organization_name\": \"Butte County Association of Governments\", \"GTFS\": \"Ok\", \"allocationamount\": 5886587.0}, {\"organization_name\": \"Kern Regional Transit\", \"GTFS\": \"Ok\", \"allocationamount\": 7496759.0}, {\"organization_name\": \"Monterey-Salinas Transit\", \"GTFS\": \"Research\", \"allocationamount\": 8385671.0}, {\"organization_name\": \"Fresno County Rural Transit Agency\", \"GTFS\": \"Ok\", \"allocationamount\": 8776187.0}]}}, {\"mode\": \"vega-lite\"});\n",
       "</script>"
      ],
      "text/plain": [
       "alt.Chart(...)"
      ]
     },
     "execution_count": 19,
     "metadata": {},
     "output_type": "execute_result"
    }
   ],
   "source": [
    "_utils.basic_bar_chart(Most_Money,'organization_name','allocationamount','organization_name') "
   ]
  },
  {
   "cell_type": "code",
   "execution_count": null,
   "id": "4dba20b1-42da-4362-9076-99529274e152",
   "metadata": {},
   "outputs": [],
   "source": []
  }
 ],
 "metadata": {
  "kernelspec": {
   "display_name": "Python 3 (ipykernel)",
   "language": "python",
   "name": "python3"
  },
  "language_info": {
   "codemirror_mode": {
    "name": "ipython",
    "version": 3
   },
   "file_extension": ".py",
   "mimetype": "text/x-python",
   "name": "python",
   "nbconvert_exporter": "python",
   "pygments_lexer": "ipython3",
   "version": "3.9.7"
  },
  "toc-autonumbering": false,
  "widgets": {
   "application/vnd.jupyter.widget-state+json": {
    "state": {},
    "version_major": 2,
    "version_minor": 0
   }
  }
 },
 "nbformat": 4,
 "nbformat_minor": 5
}
