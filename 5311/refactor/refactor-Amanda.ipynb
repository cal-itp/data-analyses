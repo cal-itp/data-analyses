{
 "cells": [
  {
   "cell_type": "markdown",
   "id": "e20c6b55-15be-414a-8460-0cacdd1f5c06",
   "metadata": {},
   "source": [
    "# Revisiting code"
   ]
  },
  {
   "cell_type": "code",
   "execution_count": 1,
   "id": "a36b0115-d0a8-4174-b7cd-98c19a48af85",
   "metadata": {},
   "outputs": [
    {
     "name": "stderr",
     "output_type": "stream",
     "text": [
      "/opt/conda/lib/python3.10/site-packages/geopandas/_compat.py:111: UserWarning: The Shapely GEOS version (3.10.2-CAPI-1.16.0) is incompatible with the GEOS version PyGEOS was compiled with (3.10.1-CAPI-1.16.0). Conversions between both will be slow.\n",
      "  warnings.warn(\n"
     ]
    }
   ],
   "source": [
    "import numpy as np\n",
    "import pandas as pd\n",
    "import math\n",
    "from siuba import *\n",
    "from calitp import *\n",
    "import intake\n",
    "from shared_utils import geography_utils\n",
    "import shared_utils\n",
    "from plotnine import *\n",
    "import altair as alt\n",
    "import altair_saver\n",
    "from shared_utils import altair_utils \n",
    "import cpi"
   ]
  },
  {
   "cell_type": "code",
   "execution_count": 2,
   "id": "ebdba1b3-3444-4793-9304-bc6c64f311c5",
   "metadata": {},
   "outputs": [],
   "source": [
    "#NB ONLY\n",
    "import data_prep_refactored\n",
    "import data_prep \n",
    "import agency_crosswalk\n",
    "pd.options.display.float_format = \"{:.2f}\".format\n",
    "pd.options.display.max_rows = 250"
   ]
  },
  {
   "cell_type": "code",
   "execution_count": 3,
   "id": "26ed600e-2497-49be-a061-48a825633a2c",
   "metadata": {},
   "outputs": [
    {
     "name": "stderr",
     "output_type": "stream",
     "text": [
      "/home/jovyan/data-analyses/5311/data_prep_refactored.py:232: SettingWithCopyWarning: \n",
      "A value is trying to be set on a copy of a slice from a DataFrame.\n",
      "Try using .loc[row_indexer,col_indexer] = value instead\n",
      "\n",
      "See the caveats in the documentation: https://pandas.pydata.org/pandas-docs/stable/user_guide/indexing.html#returning-a-view-versus-a-copy\n"
     ]
    }
   ],
   "source": [
    "#Load in data\n",
    "df_5311 = data_prep_refactored.load_grantprojects()\n",
    "vehicles = data_prep_refactored.clean_vehicles_data()\n",
    "organizations = data_prep_refactored.load_cleaned_organizations_data()\n",
    "airtable = data_prep_refactored.load_airtable()"
   ]
  },
  {
   "cell_type": "markdown",
   "id": "e85cfdd2-24f4-44c9-8e85-f4493228b4c8",
   "metadata": {
    "tags": []
   },
   "source": [
    "## Testing script"
   ]
  },
  {
   "cell_type": "code",
   "execution_count": 4,
   "id": "bf9d097f-f190-4ac2-899e-eaff08db5a3e",
   "metadata": {},
   "outputs": [
    {
     "name": "stderr",
     "output_type": "stream",
     "text": [
      "/home/jovyan/data-analyses/5311/data_prep_refactored.py:232: SettingWithCopyWarning: \n",
      "A value is trying to be set on a copy of a slice from a DataFrame.\n",
      "Try using .loc[row_indexer,col_indexer] = value instead\n",
      "\n",
      "See the caveats in the documentation: https://pandas.pydata.org/pandas-docs/stable/user_guide/indexing.html#returning-a-view-versus-a-copy\n",
      "/home/jovyan/data-analyses/5311/data_prep_refactored.py:334: SettingWithCopyWarning: \n",
      "A value is trying to be set on a copy of a slice from a DataFrame\n",
      "\n",
      "See the caveats in the documentation: https://pandas.pydata.org/pandas-docs/stable/user_guide/indexing.html#returning-a-view-versus-a-copy\n"
     ]
    }
   ],
   "source": [
    "#New script\n",
    "test_aggregate = data_prep_refactored.aggregated_df()"
   ]
  },
  {
   "cell_type": "code",
   "execution_count": 5,
   "id": "05b5ce55-e4fd-4606-a1a9-45e65d77f178",
   "metadata": {},
   "outputs": [
    {
     "data": {
      "text/plain": [
       "Rural Reporter        49\n",
       "Full Reporter         26\n",
       "None                   9\n",
       "Reduced Reporter       2\n",
       "Asset Subrecipient     1\n",
       "Name: reporter_type, dtype: int64"
      ]
     },
     "execution_count": 5,
     "metadata": {},
     "output_type": "execute_result"
    }
   ],
   "source": [
    "test_aggregate['reporter_type'].value_counts()"
   ]
  },
  {
   "cell_type": "code",
   "execution_count": 6,
   "id": "3cbbcdfb-d5ae-4fd8-a023-a698a3bb3782",
   "metadata": {},
   "outputs": [
    {
     "data": {
      "text/plain": [
       "0    78\n",
       "1     9\n",
       "Name: Is_Agency_In_BC_Only_1_means_Yes, dtype: int64"
      ]
     },
     "execution_count": 6,
     "metadata": {},
     "output_type": "execute_result"
    }
   ],
   "source": [
    "test_aggregate['Is_Agency_In_BC_Only_1_means_Yes'].value_counts()"
   ]
  },
  {
   "cell_type": "code",
   "execution_count": 7,
   "id": "13a20e8c-e263-48c4-b825-e547258ab034",
   "metadata": {},
   "outputs": [
    {
     "data": {
      "text/plain": [
       "Static OK_RT Incomplete            54\n",
       "Static OK_RT OK                    15\n",
       "None                               11\n",
       "Static Incomplete_RT Incomplete     5\n",
       "Static Incomplete_RT OK             2\n",
       "Name: GTFS, dtype: int64"
      ]
     },
     "execution_count": 7,
     "metadata": {},
     "output_type": "execute_result"
    }
   ],
   "source": [
    "test_aggregate['GTFS'].value_counts()"
   ]
  },
  {
   "cell_type": "code",
   "execution_count": 8,
   "id": "2a93ca35-9372-43d7-a884-bfb541c6ec48",
   "metadata": {},
   "outputs": [
    {
     "data": {
      "text/plain": [
       "None                    17\n",
       "06 - Fresno             16\n",
       "04 - Oakland             9\n",
       "03 - Marysville          8\n",
       "05 - San Luis Obispo     7\n",
       "08 - San Bernardino      7\n",
       "10 - Stockton            6\n",
       "01 - Eureka              6\n",
       "02 - Redding             4\n",
       "09 - Bishop              3\n",
       "11 - San Diego           3\n",
       "07 - Los Angeles         1\n",
       "Name: caltrans_district, dtype: int64"
      ]
     },
     "execution_count": 8,
     "metadata": {},
     "output_type": "execute_result"
    }
   ],
   "source": [
    "test_aggregate['caltrans_district'].value_counts()"
   ]
  },
  {
   "cell_type": "code",
   "execution_count": 24,
   "id": "c2fa0fd6-fc2a-4607-855e-23203ed0c486",
   "metadata": {},
   "outputs": [
    {
     "data": {
      "text/plain": [
       "(87, 38)"
      ]
     },
     "execution_count": 24,
     "metadata": {},
     "output_type": "execute_result"
    }
   ],
   "source": [
    "test_aggregate.shape"
   ]
  },
  {
   "cell_type": "code",
   "execution_count": 9,
   "id": "b59a64b2-e442-4054-a42a-b26cdefa8d16",
   "metadata": {
    "scrolled": true,
    "tags": []
   },
   "outputs": [],
   "source": [
    "#test_aggregate.groupby(['fleet_size','organization_name']).agg({'total_vehicles':'sum'})"
   ]
  },
  {
   "cell_type": "code",
   "execution_count": 10,
   "id": "8c9f19af-296d-40c4-b9b4-37169c23b6f2",
   "metadata": {
    "tags": []
   },
   "outputs": [
    {
     "name": "stderr",
     "output_type": "stream",
     "text": [
      "/home/jovyan/data-analyses/5311/data_prep.py:72: SettingWithCopyWarning: \n",
      "A value is trying to be set on a copy of a slice from a DataFrame.\n",
      "Try using .loc[row_indexer,col_indexer] = value instead\n",
      "\n",
      "See the caveats in the documentation: https://pandas.pydata.org/pandas-docs/stable/user_guide/indexing.html#returning-a-view-versus-a-copy\n",
      "/home/jovyan/data-analyses/5311/data_prep.py:74: SettingWithCopyWarning: \n",
      "A value is trying to be set on a copy of a slice from a DataFrame.\n",
      "Try using .loc[row_indexer,col_indexer] = value instead\n",
      "\n",
      "See the caveats in the documentation: https://pandas.pydata.org/pandas-docs/stable/user_guide/indexing.html#returning-a-view-versus-a-copy\n",
      "/home/jovyan/data-analyses/5311/data_prep.py:126: SettingWithCopyWarning: \n",
      "A value is trying to be set on a copy of a slice from a DataFrame.\n",
      "Try using .loc[row_indexer,col_indexer] = value instead\n",
      "\n",
      "See the caveats in the documentation: https://pandas.pydata.org/pandas-docs/stable/user_guide/indexing.html#returning-a-view-versus-a-copy\n",
      "/home/jovyan/data-analyses/5311/data_prep.py:285: SettingWithCopyWarning: \n",
      "A value is trying to be set on a copy of a slice from a DataFrame\n",
      "\n",
      "See the caveats in the documentation: https://pandas.pydata.org/pandas-docs/stable/user_guide/indexing.html#returning-a-view-versus-a-copy\n",
      "/home/jovyan/data-analyses/5311/data_prep.py:289: FutureWarning: The frame.append method is deprecated and will be removed from pandas in a future version. Use pandas.concat instead.\n",
      "/home/jovyan/data-analyses/5311/data_prep.py:431: FutureWarning: In a future version of pandas all arguments of DataFrame.drop except for the argument 'labels' will be keyword-only.\n"
     ]
    }
   ],
   "source": [
    "original = data_prep.aggregated_merged_df()"
   ]
  },
  {
   "cell_type": "code",
   "execution_count": 11,
   "id": "d68ea25a-6bc5-47b6-9c5d-7ef53e91c52c",
   "metadata": {},
   "outputs": [
    {
     "data": {
      "text/plain": [
       "Rural Reporter        49\n",
       "Full Reporter         26\n",
       "None                   9\n",
       "Reduced Reporter       2\n",
       "Asset Subrecipient     1\n",
       "Name: reporter_type, dtype: int64"
      ]
     },
     "execution_count": 11,
     "metadata": {},
     "output_type": "execute_result"
    }
   ],
   "source": [
    "original['reporter_type'].value_counts()"
   ]
  },
  {
   "cell_type": "code",
   "execution_count": 12,
   "id": "cb62bd20-0412-448f-96be-6ee13ce2022a",
   "metadata": {},
   "outputs": [
    {
     "data": {
      "text/plain": [
       "06 - Fresno             13\n",
       "03 - Marysville          7\n",
       "04 - Oakland             7\n",
       "08 - San Bernardino      7\n",
       "05 - San Luis Obispo     6\n",
       "01 - Eureka              5\n",
       "10 - Stockton            4\n",
       "09 - Bishop              3\n",
       "11 - San Diego           3\n",
       "02 - Redding             3\n",
       "07 - Los Angeles         1\n",
       "Name: caltrans_district, dtype: int64"
      ]
     },
     "execution_count": 12,
     "metadata": {},
     "output_type": "execute_result"
    }
   ],
   "source": [
    "original['caltrans_district'].value_counts()"
   ]
  },
  {
   "cell_type": "code",
   "execution_count": 13,
   "id": "80509df4-aa69-47ce-b791-ec527dba29a0",
   "metadata": {},
   "outputs": [
    {
     "data": {
      "text/plain": [
       "Only Static            45\n",
       "None                   27\n",
       "Both static & RT OK    13\n",
       "Only RT                 2\n",
       "Name: GTFS_Status, dtype: int64"
      ]
     },
     "execution_count": 13,
     "metadata": {},
     "output_type": "execute_result"
    }
   ],
   "source": [
    "original['GTFS_Status'].value_counts()"
   ]
  },
  {
   "cell_type": "code",
   "execution_count": 14,
   "id": "c7f41763-4ef5-4cc7-b171-f7d11da7f622",
   "metadata": {},
   "outputs": [
    {
     "data": {
      "text/plain": [
       "'\\noriginal.to_csv(f\"./original.csv\", index=False)\\ntest_aggregate.to_csv(f\"./test.csv\", index=False)\\n'"
      ]
     },
     "execution_count": 14,
     "metadata": {},
     "output_type": "execute_result"
    }
   ],
   "source": [
    "'''\n",
    "original.to_csv(f\"./original.csv\", index=False)\n",
    "test_aggregate.to_csv(f\"./test.csv\", index=False)\n",
    "'''\n"
   ]
  },
  {
   "cell_type": "code",
   "execution_count": 15,
   "id": "d18d9fae-533f-44ec-bb43-1830a7af1bd4",
   "metadata": {},
   "outputs": [
    {
     "data": {
      "text/plain": [
       "(87, 44)"
      ]
     },
     "execution_count": 15,
     "metadata": {},
     "output_type": "execute_result"
    }
   ],
   "source": [
    "original.shape"
   ]
  },
  {
   "cell_type": "code",
   "execution_count": 16,
   "id": "8230a302-d4ca-402c-a113-6b74862e0249",
   "metadata": {},
   "outputs": [
    {
     "data": {
      "text/html": [
       "<div>\n",
       "<style scoped>\n",
       "    .dataframe tbody tr th:only-of-type {\n",
       "        vertical-align: middle;\n",
       "    }\n",
       "\n",
       "    .dataframe tbody tr th {\n",
       "        vertical-align: top;\n",
       "    }\n",
       "\n",
       "    .dataframe thead th {\n",
       "        text-align: right;\n",
       "    }\n",
       "</style>\n",
       "<table border=\"1\" class=\"dataframe\">\n",
       "  <thead>\n",
       "    <tr style=\"text-align: right;\">\n",
       "      <th></th>\n",
       "      <th>organization_name</th>\n",
       "      <th>allocationamount_mean</th>\n",
       "      <th>allocationamount</th>\n",
       "      <th>encumbered_amount</th>\n",
       "      <th>expendedamount</th>\n",
       "      <th>activebalance</th>\n",
       "      <th>closedoutbalance</th>\n",
       "      <th>adjusted_allocationamount</th>\n",
       "      <th>adjusted_expendedamount</th>\n",
       "      <th>adjusted_encumbered_amount</th>\n",
       "      <th>adjusted_activebalance</th>\n",
       "      <th>adjusted_closedoutbalance</th>\n",
       "      <th>total_vehicles</th>\n",
       "      <th>average_age_of_fleet__in_years_</th>\n",
       "      <th>average_lifetime_miles_per_vehicle</th>\n",
       "      <th>Automobiles</th>\n",
       "      <th>Bus</th>\n",
       "      <th>Other</th>\n",
       "      <th>Train</th>\n",
       "      <th>Van</th>\n",
       "      <th>automobiles_door</th>\n",
       "      <th>bus_doors</th>\n",
       "      <th>van_doors</th>\n",
       "      <th>train_doors</th>\n",
       "      <th>doors_sum</th>\n",
       "      <th>_0_9</th>\n",
       "      <th>_10_12</th>\n",
       "      <th>_13_15</th>\n",
       "      <th>_16_20</th>\n",
       "      <th>_21_25</th>\n",
       "      <th>_26_30</th>\n",
       "      <th>_31_60</th>\n",
       "      <th>_16plus</th>\n",
       "      <th>_60plus</th>\n",
       "      <th>reporter_type</th>\n",
       "      <th>fleet_size</th>\n",
       "      <th>ntd_id</th>\n",
       "      <th>itp_id</th>\n",
       "      <th>caltrans_district</th>\n",
       "      <th>mpo_rtpa</th>\n",
       "      <th>planning_authority</th>\n",
       "      <th>gtfs_static_status</th>\n",
       "      <th>gtfs_realtime_status</th>\n",
       "      <th>GTFS_Status</th>\n",
       "    </tr>\n",
       "  </thead>\n",
       "  <tbody>\n",
       "    <tr>\n",
       "      <th>0</th>\n",
       "      <td>Alpine County Community Development</td>\n",
       "      <td>48766.57</td>\n",
       "      <td>341366.00</td>\n",
       "      <td>293366.00</td>\n",
       "      <td>159901.31</td>\n",
       "      <td>181464.69</td>\n",
       "      <td>0</td>\n",
       "      <td>363613.49</td>\n",
       "      <td>173611.38</td>\n",
       "      <td>315613.45</td>\n",
       "      <td>190002.10</td>\n",
       "      <td>0.00</td>\n",
       "      <td>NaN</td>\n",
       "      <td>NaN</td>\n",
       "      <td>NaN</td>\n",
       "      <td>NaN</td>\n",
       "      <td>NaN</td>\n",
       "      <td>NaN</td>\n",
       "      <td>NaN</td>\n",
       "      <td>NaN</td>\n",
       "      <td>NaN</td>\n",
       "      <td>NaN</td>\n",
       "      <td>NaN</td>\n",
       "      <td>NaN</td>\n",
       "      <td>NaN</td>\n",
       "      <td>NaN</td>\n",
       "      <td>NaN</td>\n",
       "      <td>NaN</td>\n",
       "      <td>NaN</td>\n",
       "      <td>NaN</td>\n",
       "      <td>NaN</td>\n",
       "      <td>NaN</td>\n",
       "      <td>0.00</td>\n",
       "      <td>NaN</td>\n",
       "      <td>None</td>\n",
       "      <td>No Info</td>\n",
       "      <td>NaN</td>\n",
       "      <td>0</td>\n",
       "      <td>NaN</td>\n",
       "      <td>NaN</td>\n",
       "      <td>NaN</td>\n",
       "      <td>NaN</td>\n",
       "      <td>NaN</td>\n",
       "      <td>None</td>\n",
       "    </tr>\n",
       "    <tr>\n",
       "      <th>1</th>\n",
       "      <td>Amador Regional Transit System</td>\n",
       "      <td>189817.38</td>\n",
       "      <td>1518539.00</td>\n",
       "      <td>1279114.00</td>\n",
       "      <td>1067984.00</td>\n",
       "      <td>450555.00</td>\n",
       "      <td>0</td>\n",
       "      <td>1612119.29</td>\n",
       "      <td>1151645.28</td>\n",
       "      <td>1372694.08</td>\n",
       "      <td>460474.01</td>\n",
       "      <td>0.00</td>\n",
       "      <td>24.00</td>\n",
       "      <td>4.07</td>\n",
       "      <td>0.00</td>\n",
       "      <td>0.00</td>\n",
       "      <td>0.00</td>\n",
       "      <td>0.00</td>\n",
       "      <td>0.00</td>\n",
       "      <td>21.00</td>\n",
       "      <td>0.00</td>\n",
       "      <td>0.00</td>\n",
       "      <td>21.00</td>\n",
       "      <td>0.00</td>\n",
       "      <td>21.00</td>\n",
       "      <td>18.00</td>\n",
       "      <td>3.00</td>\n",
       "      <td>1.00</td>\n",
       "      <td>1.00</td>\n",
       "      <td>1.00</td>\n",
       "      <td>0.00</td>\n",
       "      <td>0.00</td>\n",
       "      <td>2.00</td>\n",
       "      <td>0.00</td>\n",
       "      <td>Rural Reporter</td>\n",
       "      <td>Medium</td>\n",
       "      <td>9R02-91000</td>\n",
       "      <td>11.00</td>\n",
       "      <td>10 - Stockton</td>\n",
       "      <td>NaN</td>\n",
       "      <td>Amador County Transportation Commission</td>\n",
       "      <td>Static OK</td>\n",
       "      <td>RT Incomplete</td>\n",
       "      <td>Only Static</td>\n",
       "    </tr>\n",
       "  </tbody>\n",
       "</table>\n",
       "</div>"
      ],
      "text/plain": [
       "                     organization_name  allocationamount_mean  \\\n",
       "0  Alpine County Community Development               48766.57   \n",
       "1       Amador Regional Transit System              189817.38   \n",
       "\n",
       "   allocationamount  encumbered_amount  expendedamount  activebalance  \\\n",
       "0         341366.00          293366.00       159901.31      181464.69   \n",
       "1        1518539.00         1279114.00      1067984.00      450555.00   \n",
       "\n",
       "   closedoutbalance  adjusted_allocationamount  adjusted_expendedamount  \\\n",
       "0                 0                  363613.49                173611.38   \n",
       "1                 0                 1612119.29               1151645.28   \n",
       "\n",
       "   adjusted_encumbered_amount  adjusted_activebalance  \\\n",
       "0                   315613.45               190002.10   \n",
       "1                  1372694.08               460474.01   \n",
       "\n",
       "   adjusted_closedoutbalance  total_vehicles  average_age_of_fleet__in_years_  \\\n",
       "0                       0.00             NaN                              NaN   \n",
       "1                       0.00           24.00                             4.07   \n",
       "\n",
       "   average_lifetime_miles_per_vehicle  Automobiles  Bus  Other  Train   Van  \\\n",
       "0                                 NaN          NaN  NaN    NaN    NaN   NaN   \n",
       "1                                0.00         0.00 0.00   0.00   0.00 21.00   \n",
       "\n",
       "   automobiles_door  bus_doors  van_doors  train_doors  doors_sum  _0_9  \\\n",
       "0               NaN        NaN        NaN          NaN        NaN   NaN   \n",
       "1              0.00       0.00      21.00         0.00      21.00 18.00   \n",
       "\n",
       "   _10_12  _13_15  _16_20  _21_25  _26_30  _31_60  _16plus  _60plus  \\\n",
       "0     NaN     NaN     NaN     NaN     NaN     NaN     0.00      NaN   \n",
       "1    3.00    1.00    1.00    1.00    0.00    0.00     2.00     0.00   \n",
       "\n",
       "    reporter_type fleet_size      ntd_id itp_id caltrans_district mpo_rtpa  \\\n",
       "0            None    No Info         NaN      0               NaN      NaN   \n",
       "1  Rural Reporter     Medium  9R02-91000  11.00     10 - Stockton      NaN   \n",
       "\n",
       "                        planning_authority gtfs_static_status  \\\n",
       "0                                      NaN                NaN   \n",
       "1  Amador County Transportation Commission          Static OK   \n",
       "\n",
       "  gtfs_realtime_status  GTFS_Status  \n",
       "0                  NaN         None  \n",
       "1        RT Incomplete  Only Static  "
      ]
     },
     "execution_count": 16,
     "metadata": {},
     "output_type": "execute_result"
    }
   ],
   "source": [
    "original.head(2)"
   ]
  },
  {
   "cell_type": "code",
   "execution_count": 17,
   "id": "4bd6e067-98c7-4351-811c-f61172a81e26",
   "metadata": {},
   "outputs": [
    {
     "data": {
      "text/plain": [
       "{'GTFS_Status',\n",
       " '_0_9',\n",
       " '_10_12',\n",
       " '_13_15',\n",
       " '_16_20',\n",
       " '_21_25',\n",
       " '_26_30',\n",
       " 'allocationamount_mean',\n",
       " 'gtfs_realtime_status',\n",
       " 'gtfs_static_status'}"
      ]
     },
     "execution_count": 17,
     "metadata": {},
     "output_type": "execute_result"
    }
   ],
   "source": [
    "\n",
    "set(original.columns).difference(set(test_aggregate.columns))"
   ]
  },
  {
   "cell_type": "code",
   "execution_count": 18,
   "id": "4198a1ab-380c-4b81-88bd-6f1b0029a55c",
   "metadata": {},
   "outputs": [],
   "source": [
    "org_original = set(original.organization_name.unique().tolist())\n",
    "org_script = set(test_aggregate.organization_name.unique().tolist())"
   ]
  },
  {
   "cell_type": "code",
   "execution_count": 19,
   "id": "3bac80e8-4086-49cb-99b6-8c13078f1b35",
   "metadata": {},
   "outputs": [
    {
     "data": {
      "text/plain": [
       "set()"
      ]
     },
     "execution_count": 19,
     "metadata": {},
     "output_type": "execute_result"
    }
   ],
   "source": [
    "org_original-org_script"
   ]
  },
  {
   "cell_type": "code",
   "execution_count": 20,
   "id": "56064c93-e387-4457-b1f1-14ca281386ba",
   "metadata": {},
   "outputs": [
    {
     "data": {
      "text/plain": [
       "set()"
      ]
     },
     "execution_count": 20,
     "metadata": {},
     "output_type": "execute_result"
    }
   ],
   "source": [
    "org_script-org_original"
   ]
  },
  {
   "cell_type": "code",
   "execution_count": 21,
   "id": "d7a1d65e-c4ba-4992-a23b-fd425a895d0d",
   "metadata": {},
   "outputs": [],
   "source": [
    "def pick_column_and_aggregate(df1, df2, col):\n",
    "    if df1[col].sum() == df2[col].sum():\n",
    "        print(\"PASS\")\n",
    "    else:\n",
    "        print(f\"{col}: FAIL\")"
   ]
  },
  {
   "cell_type": "code",
   "execution_count": 22,
   "id": "326df6d3-5f17-4d2e-b693-949d8a0162fd",
   "metadata": {},
   "outputs": [],
   "source": [
    "my_columns = ['allocationamount',\n",
    "       'encumbered_amount', 'expendedamount', 'activebalance',\n",
    "       'closedoutbalance', 'adjusted_allocationamount',\n",
    "       'adjusted_expendedamount', 'adjusted_encumbered_amount',\n",
    "       'adjusted_activebalance', 'adjusted_closedoutbalance', 'total_vehicles',]"
   ]
  },
  {
   "cell_type": "code",
   "execution_count": 23,
   "id": "d9599201-b671-4ecb-9538-b01287cd1782",
   "metadata": {},
   "outputs": [
    {
     "name": "stdout",
     "output_type": "stream",
     "text": [
      "PASS\n",
      "PASS\n",
      "PASS\n",
      "PASS\n",
      "PASS\n",
      "PASS\n",
      "PASS\n",
      "PASS\n",
      "PASS\n",
      "PASS\n",
      "PASS\n"
     ]
    }
   ],
   "source": [
    "for c in my_columns:\n",
    "    pick_column_and_aggregate(test_aggregate, original, c)"
   ]
  }
 ],
 "metadata": {
  "kernelspec": {
   "display_name": "Python 3 (ipykernel)",
   "language": "python",
   "name": "python3"
  },
  "language_info": {
   "codemirror_mode": {
    "name": "ipython",
    "version": 3
   },
   "file_extension": ".py",
   "mimetype": "text/x-python",
   "name": "python",
   "nbconvert_exporter": "python",
   "pygments_lexer": "ipython3",
   "version": "3.10.4"
  }
 },
 "nbformat": 4,
 "nbformat_minor": 5
}
