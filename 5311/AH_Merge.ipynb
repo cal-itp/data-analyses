{
 "cells": [
  {
   "cell_type": "markdown",
   "id": "1382c77d-634a-4ca4-926e-e9eaf44d552f",
   "metadata": {},
   "source": [
    "# Testing merges before turning them into functions"
   ]
  },
  {
   "cell_type": "code",
   "execution_count": 1,
   "id": "e60b1121-c948-489c-b432-e3feb6b27d78",
   "metadata": {},
   "outputs": [
    {
     "name": "stderr",
     "output_type": "stream",
     "text": [
      "/opt/conda/lib/python3.9/site-packages/geopandas/_compat.py:111: UserWarning: The Shapely GEOS version (3.9.1-CAPI-1.14.2) is incompatible with the GEOS version PyGEOS was compiled with (3.10.1-CAPI-1.16.0). Conversions between both will be slow.\n"
     ]
    }
   ],
   "source": [
    "import numpy as np\n",
    "import pandas as pd\n",
    "from siuba import *\n",
    "from calitp import *\n",
    "import intake\n",
    "import data_prep\n",
    "import fuzzymatcher\n",
    "pd.options.display.max_rows = 250"
   ]
  },
  {
   "cell_type": "code",
   "execution_count": 2,
   "id": "282b13d7-8b0d-4a5b-a4b9-e77bd4e6d4ff",
   "metadata": {},
   "outputs": [
    {
     "name": "stderr",
     "output_type": "stream",
     "text": [
      "/home/jovyan/data-analyses/5311/data_prep.py:53: SettingWithCopyWarning: \n",
      "A value is trying to be set on a copy of a slice from a DataFrame.\n",
      "Try using .loc[row_indexer,col_indexer] = value instead\n",
      "\n",
      "See the caveats in the documentation: https://pandas.pydata.org/pandas-docs/stable/user_guide/indexing.html#returning-a-view-versus-a-copy\n",
      "/home/jovyan/data-analyses/5311/data_prep.py:55: SettingWithCopyWarning: \n",
      "A value is trying to be set on a copy of a slice from a DataFrame.\n",
      "Try using .loc[row_indexer,col_indexer] = value instead\n",
      "\n",
      "See the caveats in the documentation: https://pandas.pydata.org/pandas-docs/stable/user_guide/indexing.html#returning-a-view-versus-a-copy\n"
     ]
    }
   ],
   "source": [
    "df_5311 = data_prep.load_grantprojects()\n",
    "vehicles = data_prep.load_vehiclesdata()\n",
    "organizations= data_prep.load_organizations_data()"
   ]
  },
  {
   "cell_type": "markdown",
   "id": "9364796b-cd25-4b2a-bdd7-8f84f26187df",
   "metadata": {},
   "source": [
    "# Merge NTD with GTFS  --> m2_df Function\n"
   ]
  },
  {
   "cell_type": "code",
   "execution_count": 3,
   "id": "7c169ab0-7843-4e57-a94b-282874076b78",
   "metadata": {},
   "outputs": [],
   "source": [
    "#reading in crosswalk 1\n",
    "crosswalk1 = pd.read_parquet('test_crosswalk_both.parquet', engine='pyarrow')"
   ]
  },
  {
   "cell_type": "code",
   "execution_count": 4,
   "id": "0ac48fc7-6cf8-4d11-8083-dd9832fe4e63",
   "metadata": {
    "scrolled": true,
    "tags": []
   },
   "outputs": [
    {
     "data": {
      "text/plain": [
       "44"
      ]
     },
     "execution_count": 4,
     "metadata": {},
     "output_type": "execute_result"
    }
   ],
   "source": [
    "len(crosswalk1)"
   ]
  },
  {
   "cell_type": "code",
   "execution_count": 5,
   "id": "cee9dcf2-3e83-493e-806e-75311546d61b",
   "metadata": {},
   "outputs": [],
   "source": [
    "#rename to agency so we can match it\n",
    "crosswalk1 = crosswalk1.rename(columns = {'agency_x':'agency'})"
   ]
  },
  {
   "cell_type": "code",
   "execution_count": 6,
   "id": "723d83e9-177f-4fdb-a071-f30d6e9fad17",
   "metadata": {},
   "outputs": [],
   "source": [
    "#first crosswalk\n",
    "m1_df = vehicles.merge(crosswalk1, on=['agency','ntd_id'],  how='outer', indicator=True)"
   ]
  },
  {
   "cell_type": "code",
   "execution_count": 7,
   "id": "cae25c7f-ca28-43f9-895b-6379662031d2",
   "metadata": {},
   "outputs": [
    {
     "data": {
      "text/plain": [
       "52"
      ]
     },
     "execution_count": 7,
     "metadata": {},
     "output_type": "execute_result"
    }
   ],
   "source": [
    "m1_df['agency'].nunique()"
   ]
  },
  {
   "cell_type": "code",
   "execution_count": 8,
   "id": "a8e76054-3402-4b51-859c-0e4f55dc87aa",
   "metadata": {
    "scrolled": true,
    "tags": []
   },
   "outputs": [],
   "source": [
    "m1_df = m1_df.drop(columns = ['_merge'])"
   ]
  },
  {
   "cell_type": "code",
   "execution_count": 9,
   "id": "13e35b70-5d31-4f98-a00f-0bf7bffb4147",
   "metadata": {},
   "outputs": [],
   "source": [
    "#reading crosswalk 2 (the manual one that captures some of the missing values)\n",
    "crosswalk2 = pd.read_csv('vehicles-left-only.csv')"
   ]
  },
  {
   "cell_type": "code",
   "execution_count": 10,
   "id": "37bbb4da-8b5e-4b32-9d3c-a8d7d85fa088",
   "metadata": {},
   "outputs": [
    {
     "data": {
      "text/html": [
       "<div>\n",
       "<style scoped>\n",
       "    .dataframe tbody tr th:only-of-type {\n",
       "        vertical-align: middle;\n",
       "    }\n",
       "\n",
       "    .dataframe tbody tr th {\n",
       "        vertical-align: top;\n",
       "    }\n",
       "\n",
       "    .dataframe thead th {\n",
       "        text-align: right;\n",
       "    }\n",
       "</style>\n",
       "<table border=\"1\" class=\"dataframe\">\n",
       "  <thead>\n",
       "    <tr style=\"text-align: right;\">\n",
       "      <th></th>\n",
       "      <th>agency</th>\n",
       "      <th>ntd_id</th>\n",
       "      <th>itp_id</th>\n",
       "    </tr>\n",
       "  </thead>\n",
       "  <tbody>\n",
       "    <tr>\n",
       "      <th>0</th>\n",
       "      <td>San Benito County LTA</td>\n",
       "      <td>9R02-91009</td>\n",
       "      <td>274.0</td>\n",
       "    </tr>\n",
       "    <tr>\n",
       "      <th>1</th>\n",
       "      <td>County of Sacramento Municipal Services Agency...</td>\n",
       "      <td>9R02-90216</td>\n",
       "      <td>NaN</td>\n",
       "    </tr>\n",
       "    <tr>\n",
       "      <th>2</th>\n",
       "      <td>City of Dixon, dba: Readi-Ride</td>\n",
       "      <td>9R02-91041</td>\n",
       "      <td>94.0</td>\n",
       "    </tr>\n",
       "    <tr>\n",
       "      <th>3</th>\n",
       "      <td>Mariposa County Transit, dba: Mari-Go</td>\n",
       "      <td>9R02-91082</td>\n",
       "      <td>NaN</td>\n",
       "    </tr>\n",
       "    <tr>\n",
       "      <th>4</th>\n",
       "      <td>Calaveras Transit Agency</td>\n",
       "      <td>9R02-99442</td>\n",
       "      <td>NaN</td>\n",
       "    </tr>\n",
       "    <tr>\n",
       "      <th>5</th>\n",
       "      <td>Palo Verde Valley Transit Agency</td>\n",
       "      <td>9R02-99454</td>\n",
       "      <td>238.0</td>\n",
       "    </tr>\n",
       "    <tr>\n",
       "      <th>6</th>\n",
       "      <td>City of Ridgecrest, dba: Ridgerunner</td>\n",
       "      <td>9R02-91006</td>\n",
       "      <td>263.0</td>\n",
       "    </tr>\n",
       "    <tr>\n",
       "      <th>7</th>\n",
       "      <td>Modoc Transportation Agency</td>\n",
       "      <td>9R02-91008</td>\n",
       "      <td>NaN</td>\n",
       "    </tr>\n",
       "    <tr>\n",
       "      <th>8</th>\n",
       "      <td>Wasco, City of</td>\n",
       "      <td>9R02-99426</td>\n",
       "      <td>363.0</td>\n",
       "    </tr>\n",
       "  </tbody>\n",
       "</table>\n",
       "</div>"
      ],
      "text/plain": [
       "                                              agency      ntd_id  itp_id\n",
       "0                              San Benito County LTA  9R02-91009   274.0\n",
       "1  County of Sacramento Municipal Services Agency...  9R02-90216     NaN\n",
       "2                     City of Dixon, dba: Readi-Ride  9R02-91041    94.0\n",
       "3              Mariposa County Transit, dba: Mari-Go  9R02-91082     NaN\n",
       "4                           Calaveras Transit Agency  9R02-99442     NaN\n",
       "5                   Palo Verde Valley Transit Agency  9R02-99454   238.0\n",
       "6               City of Ridgecrest, dba: Ridgerunner  9R02-91006   263.0\n",
       "7                        Modoc Transportation Agency  9R02-91008     NaN\n",
       "8                                     Wasco, City of  9R02-99426   363.0"
      ]
     },
     "execution_count": 10,
     "metadata": {},
     "output_type": "execute_result"
    }
   ],
   "source": [
    "crosswalk2 "
   ]
  },
  {
   "cell_type": "code",
   "execution_count": 11,
   "id": "98c97a24-2db7-4547-b826-1afe79d5ed48",
   "metadata": {
    "scrolled": true,
    "tags": []
   },
   "outputs": [],
   "source": [
    "#second crosswalk\n",
    "m2_df = m1_df.merge(crosswalk2, on=['agency', 'ntd_id','itp_id'],  how='outer')"
   ]
  },
  {
   "cell_type": "code",
   "execution_count": 12,
   "id": "06833a3e-ff09-487e-866c-9a643dca695e",
   "metadata": {},
   "outputs": [
    {
     "data": {
      "text/plain": [
       "52"
      ]
     },
     "execution_count": 12,
     "metadata": {},
     "output_type": "execute_result"
    }
   ],
   "source": [
    "m2_df['agency'].nunique()"
   ]
  },
  {
   "cell_type": "code",
   "execution_count": 13,
   "id": "3ce92448-f3c9-4bde-83ac-ebdf97475e26",
   "metadata": {
    "scrolled": true,
    "tags": []
   },
   "outputs": [],
   "source": [
    "#merging the 2 datasets together\n",
    "vehicles_gtfs = m2_df.merge(organizations, on=['agency', 'ntd_id', 'itp_id'],  how='left', indicator=True)"
   ]
  },
  {
   "cell_type": "code",
   "execution_count": 14,
   "id": "89143bdc-24c9-4551-b8f9-5bc141d75dc9",
   "metadata": {},
   "outputs": [],
   "source": [
    "vehicles_gtfs = vehicles_gtfs.drop(columns = ['_merge'])"
   ]
  },
  {
   "cell_type": "code",
   "execution_count": 15,
   "id": "672b29be-bd6a-45ba-bc51-6c7de69bacd0",
   "metadata": {
    "scrolled": true,
    "tags": []
   },
   "outputs": [
    {
     "data": {
      "text/plain": [
       "52"
      ]
     },
     "execution_count": 15,
     "metadata": {},
     "output_type": "execute_result"
    }
   ],
   "source": [
    "vehicles_gtfs['agency'].nunique()"
   ]
  },
  {
   "cell_type": "code",
   "execution_count": 16,
   "id": "286504df-0e91-446b-bfc2-31950f0fedfd",
   "metadata": {},
   "outputs": [
    {
     "data": {
      "text/html": [
       "<div>\n",
       "<style scoped>\n",
       "    .dataframe tbody tr th:only-of-type {\n",
       "        vertical-align: middle;\n",
       "    }\n",
       "\n",
       "    .dataframe tbody tr th {\n",
       "        vertical-align: top;\n",
       "    }\n",
       "\n",
       "    .dataframe thead th {\n",
       "        text-align: right;\n",
       "    }\n",
       "</style>\n",
       "<table border=\"1\" class=\"dataframe\">\n",
       "  <thead>\n",
       "    <tr style=\"text-align: right;\">\n",
       "      <th></th>\n",
       "      <th>agency</th>\n",
       "      <th>city</th>\n",
       "      <th>state</th>\n",
       "      <th>legacy_ntd_id</th>\n",
       "      <th>ntd_id</th>\n",
       "      <th>organization_type</th>\n",
       "      <th>reporter_type</th>\n",
       "      <th>primary_uza_population</th>\n",
       "      <th>agency_voms</th>\n",
       "      <th>vehicle_type</th>\n",
       "      <th>years_old:</th>\n",
       "      <th>_13_15</th>\n",
       "      <th>_16_20</th>\n",
       "      <th>_21_25</th>\n",
       "      <th>_26_30</th>\n",
       "      <th>_31_60</th>\n",
       "      <th>_60+</th>\n",
       "      <th>total_vehicles</th>\n",
       "      <th>average_age_of_fleet__in_years_</th>\n",
       "      <th>average_lifetime_miles_per_vehicle</th>\n",
       "      <th>_0_9</th>\n",
       "      <th>_10_12</th>\n",
       "      <th>vehicle_groups</th>\n",
       "      <th>itp_id</th>\n",
       "      <th>gtfs_schedule_status</th>\n",
       "      <th>#_services_w__complete_rt_status</th>\n",
       "      <th>#_fixed_route_services_w__static_gtfs</th>\n",
       "      <th>complete_static_gtfs_coverage__1=yes_</th>\n",
       "      <th>complete_rt_coverage</th>\n",
       "      <th>&gt;=1_gtfs_feed_for_any_service__1=yes_</th>\n",
       "      <th>&gt;=_1_complete_rt_set__1=yes_</th>\n",
       "    </tr>\n",
       "  </thead>\n",
       "  <tbody>\n",
       "    <tr>\n",
       "      <th>0</th>\n",
       "      <td>Fresno County Rural Transit Agency</td>\n",
       "      <td>Fresno</td>\n",
       "      <td>CA</td>\n",
       "      <td>9R02-025</td>\n",
       "      <td>9R02-91007</td>\n",
       "      <td>Independent Public Agency or Authority of Tran...</td>\n",
       "      <td>Rural Reporter</td>\n",
       "      <td>0.0</td>\n",
       "      <td>77.0</td>\n",
       "      <td>Van</td>\n",
       "      <td>NaN</td>\n",
       "      <td>0.0</td>\n",
       "      <td>0.0</td>\n",
       "      <td>0.0</td>\n",
       "      <td>0.0</td>\n",
       "      <td>0.0</td>\n",
       "      <td>0.0</td>\n",
       "      <td>18.0</td>\n",
       "      <td>2.555556</td>\n",
       "      <td>0.0</td>\n",
       "      <td>18.0</td>\n",
       "      <td>0.0</td>\n",
       "      <td>Vans</td>\n",
       "      <td>117.0</td>\n",
       "      <td>needed,needed,ok,ok,needed,ok,ok,needed,needed...</td>\n",
       "      <td>0.0</td>\n",
       "      <td>4.0</td>\n",
       "      <td>0.0</td>\n",
       "      <td>0.0</td>\n",
       "      <td>1.0</td>\n",
       "      <td>0.0</td>\n",
       "    </tr>\n",
       "    <tr>\n",
       "      <th>1</th>\n",
       "      <td>Fresno County Rural Transit Agency</td>\n",
       "      <td>Fresno</td>\n",
       "      <td>CA</td>\n",
       "      <td>9R02-025</td>\n",
       "      <td>9R02-91007</td>\n",
       "      <td>Independent Public Agency or Authority of Tran...</td>\n",
       "      <td>Rural Reporter</td>\n",
       "      <td>0.0</td>\n",
       "      <td>77.0</td>\n",
       "      <td>Trucks and other Rubber Tire Vehicles (Service)</td>\n",
       "      <td>NaN</td>\n",
       "      <td>0.0</td>\n",
       "      <td>0.0</td>\n",
       "      <td>0.0</td>\n",
       "      <td>0.0</td>\n",
       "      <td>0.0</td>\n",
       "      <td>0.0</td>\n",
       "      <td>3.0</td>\n",
       "      <td>NaN</td>\n",
       "      <td>NaN</td>\n",
       "      <td>3.0</td>\n",
       "      <td>0.0</td>\n",
       "      <td>Vans</td>\n",
       "      <td>117.0</td>\n",
       "      <td>needed,needed,ok,ok,needed,ok,ok,needed,needed...</td>\n",
       "      <td>0.0</td>\n",
       "      <td>4.0</td>\n",
       "      <td>0.0</td>\n",
       "      <td>0.0</td>\n",
       "      <td>1.0</td>\n",
       "      <td>0.0</td>\n",
       "    </tr>\n",
       "  </tbody>\n",
       "</table>\n",
       "</div>"
      ],
      "text/plain": [
       "                               agency    city state legacy_ntd_id      ntd_id  \\\n",
       "0  Fresno County Rural Transit Agency  Fresno    CA      9R02-025  9R02-91007   \n",
       "1  Fresno County Rural Transit Agency  Fresno    CA      9R02-025  9R02-91007   \n",
       "\n",
       "                                   organization_type   reporter_type  \\\n",
       "0  Independent Public Agency or Authority of Tran...  Rural Reporter   \n",
       "1  Independent Public Agency or Authority of Tran...  Rural Reporter   \n",
       "\n",
       "   primary_uza_population  agency_voms  \\\n",
       "0                     0.0         77.0   \n",
       "1                     0.0         77.0   \n",
       "\n",
       "                                      vehicle_type  years_old:  _13_15  \\\n",
       "0                                              Van         NaN     0.0   \n",
       "1  Trucks and other Rubber Tire Vehicles (Service)         NaN     0.0   \n",
       "\n",
       "   _16_20  _21_25  _26_30  _31_60  _60+  total_vehicles  \\\n",
       "0     0.0     0.0     0.0     0.0   0.0            18.0   \n",
       "1     0.0     0.0     0.0     0.0   0.0             3.0   \n",
       "\n",
       "   average_age_of_fleet__in_years_  average_lifetime_miles_per_vehicle  _0_9  \\\n",
       "0                         2.555556                                 0.0  18.0   \n",
       "1                              NaN                                 NaN   3.0   \n",
       "\n",
       "   _10_12 vehicle_groups  itp_id  \\\n",
       "0     0.0           Vans   117.0   \n",
       "1     0.0           Vans   117.0   \n",
       "\n",
       "                                gtfs_schedule_status  \\\n",
       "0  needed,needed,ok,ok,needed,ok,ok,needed,needed...   \n",
       "1  needed,needed,ok,ok,needed,ok,ok,needed,needed...   \n",
       "\n",
       "   #_services_w__complete_rt_status  #_fixed_route_services_w__static_gtfs  \\\n",
       "0                               0.0                                    4.0   \n",
       "1                               0.0                                    4.0   \n",
       "\n",
       "   complete_static_gtfs_coverage__1=yes_  complete_rt_coverage  \\\n",
       "0                                    0.0                   0.0   \n",
       "1                                    0.0                   0.0   \n",
       "\n",
       "   >=1_gtfs_feed_for_any_service__1=yes_  >=_1_complete_rt_set__1=yes_  \n",
       "0                                    1.0                           0.0  \n",
       "1                                    1.0                           0.0  "
      ]
     },
     "execution_count": 16,
     "metadata": {},
     "output_type": "execute_result"
    }
   ],
   "source": [
    "vehicles_gtfs.head(2)"
   ]
  },
  {
   "cell_type": "code",
   "execution_count": 17,
   "id": "cb5e6e4e-4084-407d-a1a4-7f67cf9018d7",
   "metadata": {
    "scrolled": true,
    "tags": []
   },
   "outputs": [
    {
     "data": {
      "text/plain": [
       "array(['Alpine County Local Transportation Commission',\n",
       "       'Amador Regional Transit System', 'Calaveras Transit Agency',\n",
       "       'City of Arcata', 'City of Arvin', 'City of Auburn',\n",
       "       'City of California City',\n",
       "       'City of Chowchilla, dba: Chowchilla Area Transit ',\n",
       "       'City of Corcoran, dba: Corcoran Area Transit', 'City of Dinuba',\n",
       "       'City of Dixon, dba: Readi-Ride', 'City of Escalon, dba: eTrans',\n",
       "       'City of Eureka, dba: Eureka Transit Service', 'City of Guadalupe',\n",
       "       'City of McFarland', 'City of Needles, dba: Needles Area Transit',\n",
       "       'City of Ojai', 'City of Ridgecrest, dba: Ridgerunner',\n",
       "       'City of Rio Vista, dba: Rio Vista Delta Breeze',\n",
       "       'City of Shafter, dba: Shafter Dial-A-Ride', 'City of Solvang',\n",
       "       'City of Taft, dba: Taft Area Transit', 'City of Woodlake',\n",
       "       'Colusa County Transit Agency',\n",
       "       'County of Sacramento Municipal Services Agency Department of Transportation',\n",
       "       'County of Siskiyou, dba: Siskiyou County Transit',\n",
       "       'Eastern Sierra Transit Authority',\n",
       "       'Fresno County Rural Transit Agency', 'Glenn Transit Service',\n",
       "       'Humboldt Transit Authority', 'Kern Regional Transit',\n",
       "       'Lake Transit Authority', 'Lassen Transit Service Agency',\n",
       "       'Madera County, dba: Madera County Connection Transit',\n",
       "       'Mariposa County Transit, dba: Mari-Go',\n",
       "       'Mendocino Transit Authority', 'Modoc Transportation Agency',\n",
       "       'Morongo Basin Transit Authority',\n",
       "       'Mountain Area Regional Transit Authority, dba: Mountain Transit',\n",
       "       'Nevada County Transit Services',\n",
       "       'Palo Verde Valley Transit Agency',\n",
       "       'Plumas County Transportation Commission',\n",
       "       'Redwood Coast Transit Authority', 'San Benito County LTA',\n",
       "       'Sierra County Transportation Commission', 'Tehama County',\n",
       "       'Town of Truckee', 'Trinity County', 'Tulare County Area Transit',\n",
       "       'Tuolumne County Transit', 'Wasco, City of',\n",
       "       'Yosemite Area Regional Transportation System'], dtype=object)"
      ]
     },
     "execution_count": 17,
     "metadata": {},
     "output_type": "execute_result"
    }
   ],
   "source": [
    "vehicles['agency'].sort_values().unique()"
   ]
  },
  {
   "cell_type": "markdown",
   "id": "67788fcb-c551-4036-b0ea-450191f23e44",
   "metadata": {},
   "source": [
    "# Merging Black Cat with vehicles_gtfs"
   ]
  },
  {
   "cell_type": "code",
   "execution_count": 18,
   "id": "d4a2e235-afa0-4a9c-8678-7e62ba499205",
   "metadata": {},
   "outputs": [],
   "source": [
    "right_on = [\"agency\"]\n",
    "left_on = [\"organization_name\"]"
   ]
  },
  {
   "cell_type": "code",
   "execution_count": 19,
   "id": "07b518c0-4806-4102-9bd0-d93a8c127de7",
   "metadata": {},
   "outputs": [],
   "source": [
    "m4_df = fuzzymatcher.fuzzy_left_join(df_5311, vehicles_gtfs, left_on, right_on)"
   ]
  },
  {
   "cell_type": "code",
   "execution_count": 20,
   "id": "1d038e2f-baef-4d30-b0e4-ed9c81248c55",
   "metadata": {},
   "outputs": [],
   "source": [
    "#stuff to filter out before cutting off at scores...\n",
    "subset3 = ['Plumas County Transportation Commission', 'Imperial County Transportation Commission', 'Glenn County Transportation Commission','Tehama County Transit Agency','Tuolumne County Transit Agency (TCTA)']"
   ]
  },
  {
   "cell_type": "code",
   "execution_count": 21,
   "id": "3c77868b-9bf5-4928-97b5-704cae56a238",
   "metadata": {},
   "outputs": [],
   "source": [
    "#filter out a bunch of stuff all at once\n",
    "m4_df = m4_df[~m4_df.organization_name.isin(subset3)]"
   ]
  },
  {
   "cell_type": "code",
   "execution_count": 22,
   "id": "951a8a31-3e20-4629-9aa5-bc31bce198bc",
   "metadata": {
    "scrolled": true,
    "tags": []
   },
   "outputs": [],
   "source": [
    "#filter out for any scores below 0.075\n",
    "m5_df = m4_df.loc[m4_df['best_match_score'] > 0.075 ]"
   ]
  },
  {
   "cell_type": "code",
   "execution_count": 23,
   "id": "b1065ca3-f7cf-4980-9b60-e93017a91005",
   "metadata": {},
   "outputs": [
    {
     "data": {
      "text/plain": [
       "43"
      ]
     },
     "execution_count": 23,
     "metadata": {},
     "output_type": "execute_result"
    }
   ],
   "source": [
    "#total agencies that matched over\n",
    "m5_df['organization_name'].nunique()"
   ]
  },
  {
   "cell_type": "code",
   "execution_count": 24,
   "id": "fcd9b3bc-cebd-4bfa-a2b4-8dc900b3580b",
   "metadata": {},
   "outputs": [
    {
     "data": {
      "text/plain": [
       "(401, 49)"
      ]
     },
     "execution_count": 24,
     "metadata": {},
     "output_type": "execute_result"
    }
   ],
   "source": [
    "m5_df.shape"
   ]
  },
  {
   "cell_type": "markdown",
   "id": "fbd38360-cc98-4005-abaf-f650361b19e6",
   "metadata": {},
   "source": [
    "# Walking back in the other 45 agencies that were cut"
   ]
  },
  {
   "cell_type": "code",
   "execution_count": 25,
   "id": "e180e511-a606-465e-b3de-ec8ad50e3efd",
   "metadata": {},
   "outputs": [],
   "source": [
    "#reading crosswalk 3, what I manually inputted\n",
    "crosswalk3 = pd.read_excel('BlackCat_NTD_CalITP.xlsx')"
   ]
  },
  {
   "cell_type": "code",
   "execution_count": 26,
   "id": "282fc3c4-5061-43b6-889e-41cb229d05d6",
   "metadata": {},
   "outputs": [],
   "source": [
    "#crosswalk on the left\n",
    "unmatched = crosswalk3.merge(df_5311, on=['organization_name'],  how='left')"
   ]
  },
  {
   "cell_type": "code",
   "execution_count": 27,
   "id": "cb603238-8ac3-4eec-ab1b-0b382ce99f35",
   "metadata": {},
   "outputs": [
    {
     "data": {
      "text/plain": [
       "34"
      ]
     },
     "execution_count": 27,
     "metadata": {},
     "output_type": "execute_result"
    }
   ],
   "source": [
    "unmatched['agency'].nunique()"
   ]
  },
  {
   "cell_type": "code",
   "execution_count": 28,
   "id": "45096397-f85f-4989-b9ad-40a1d7a472ff",
   "metadata": {},
   "outputs": [
    {
     "data": {
      "text/html": [
       "<div>\n",
       "<style scoped>\n",
       "    .dataframe tbody tr th:only-of-type {\n",
       "        vertical-align: middle;\n",
       "    }\n",
       "\n",
       "    .dataframe tbody tr th {\n",
       "        vertical-align: top;\n",
       "    }\n",
       "\n",
       "    .dataframe thead th {\n",
       "        text-align: right;\n",
       "    }\n",
       "</style>\n",
       "<table border=\"1\" class=\"dataframe\">\n",
       "  <thead>\n",
       "    <tr style=\"text-align: right;\">\n",
       "      <th></th>\n",
       "      <th>organization_name</th>\n",
       "      <th>agency</th>\n",
       "      <th>ntd_id</th>\n",
       "      <th>grant_fiscal_year</th>\n",
       "      <th>funding_program</th>\n",
       "      <th>grant_number</th>\n",
       "      <th>project_year</th>\n",
       "      <th>upin</th>\n",
       "      <th>description</th>\n",
       "      <th>ali</th>\n",
       "      <th>contract_number</th>\n",
       "      <th>allocationamount</th>\n",
       "      <th>encumbered_amount</th>\n",
       "      <th>expendedamount</th>\n",
       "      <th>activebalance</th>\n",
       "      <th>closedoutbalance</th>\n",
       "      <th>project_status</th>\n",
       "    </tr>\n",
       "  </thead>\n",
       "  <tbody>\n",
       "    <tr>\n",
       "      <th>0</th>\n",
       "      <td>Madera County</td>\n",
       "      <td>Madera County, dba: Madera County Connection T...</td>\n",
       "      <td>9R02-91005</td>\n",
       "      <td>2011.0</td>\n",
       "      <td>Section 5311</td>\n",
       "      <td>CA-18-X047 | 0012000083</td>\n",
       "      <td>2016.0</td>\n",
       "      <td>BCG0000283</td>\n",
       "      <td>Buy &lt;30-Ft Bus For Expansion</td>\n",
       "      <td>111304</td>\n",
       "      <td>64BC17-00408</td>\n",
       "      <td>110663.0</td>\n",
       "      <td>110663.0</td>\n",
       "      <td>101352.02</td>\n",
       "      <td>9310.98</td>\n",
       "      <td>0.0</td>\n",
       "      <td>Open</td>\n",
       "    </tr>\n",
       "  </tbody>\n",
       "</table>\n",
       "</div>"
      ],
      "text/plain": [
       "  organization_name                                             agency  \\\n",
       "0     Madera County  Madera County, dba: Madera County Connection T...   \n",
       "\n",
       "       ntd_id  grant_fiscal_year funding_program             grant_number  \\\n",
       "0  9R02-91005             2011.0    Section 5311  CA-18-X047 | 0012000083   \n",
       "\n",
       "   project_year        upin                   description     ali  \\\n",
       "0        2016.0  BCG0000283  Buy <30-Ft Bus For Expansion  111304   \n",
       "\n",
       "  contract_number  allocationamount  encumbered_amount  expendedamount  \\\n",
       "0    64BC17-00408          110663.0           110663.0       101352.02   \n",
       "\n",
       "   activebalance  closedoutbalance project_status  \n",
       "0        9310.98               0.0           Open  "
      ]
     },
     "execution_count": 28,
     "metadata": {},
     "output_type": "execute_result"
    }
   ],
   "source": [
    "unmatched.head(1)"
   ]
  },
  {
   "cell_type": "code",
   "execution_count": 29,
   "id": "efcc0ca2-06b0-4034-8c08-b24fc88f7acf",
   "metadata": {},
   "outputs": [],
   "source": [
    "#reading in vehicle without filtering for reporter type...test\n",
    "vehicles_info =  pd.read_excel('gs://calitp-analytics-data/data-analyses/5311 /2020-Vehicles_1.xlsm', sheet_name = 'Age Distribution')"
   ]
  },
  {
   "cell_type": "code",
   "execution_count": 30,
   "id": "852459a6-81dd-4e17-8989-7d2f85b2c2f0",
   "metadata": {},
   "outputs": [],
   "source": [
    "vehicles_info = vehicles_info.rename(columns = {'Agency':'agency', 'NTD ID':'ntd_id'})"
   ]
  },
  {
   "cell_type": "code",
   "execution_count": 31,
   "id": "0fe1b0b6-99ce-47a6-bba5-5b693df6bccd",
   "metadata": {},
   "outputs": [
    {
     "data": {
      "text/html": [
       "<div>\n",
       "<style scoped>\n",
       "    .dataframe tbody tr th:only-of-type {\n",
       "        vertical-align: middle;\n",
       "    }\n",
       "\n",
       "    .dataframe tbody tr th {\n",
       "        vertical-align: top;\n",
       "    }\n",
       "\n",
       "    .dataframe thead th {\n",
       "        text-align: right;\n",
       "    }\n",
       "</style>\n",
       "<table border=\"1\" class=\"dataframe\">\n",
       "  <thead>\n",
       "    <tr style=\"text-align: right;\">\n",
       "      <th></th>\n",
       "      <th>agency</th>\n",
       "      <th>City</th>\n",
       "      <th>State</th>\n",
       "      <th>Legacy NTD ID</th>\n",
       "      <th>ntd_id</th>\n",
       "      <th>Organization Type</th>\n",
       "      <th>Reporter Type</th>\n",
       "      <th>Primary UZA Population</th>\n",
       "      <th>Agency VOMS</th>\n",
       "      <th>Vehicle Type</th>\n",
       "      <th>Years Old:</th>\n",
       "      <th>0</th>\n",
       "      <th>1</th>\n",
       "      <th>2</th>\n",
       "      <th>3</th>\n",
       "      <th>4</th>\n",
       "      <th>5</th>\n",
       "      <th>6</th>\n",
       "      <th>7</th>\n",
       "      <th>8</th>\n",
       "      <th>9</th>\n",
       "      <th>10</th>\n",
       "      <th>11</th>\n",
       "      <th>12</th>\n",
       "      <th>13-15</th>\n",
       "      <th>16-20</th>\n",
       "      <th>21-25</th>\n",
       "      <th>26-30</th>\n",
       "      <th>31-60</th>\n",
       "      <th>60+</th>\n",
       "      <th>Total Vehicles</th>\n",
       "      <th>Average Age Of Fleet (In Years)</th>\n",
       "      <th>Average Lifetime Miles Per Vehicle</th>\n",
       "    </tr>\n",
       "  </thead>\n",
       "  <tbody>\n",
       "    <tr>\n",
       "      <th>0</th>\n",
       "      <td>MTA New York City Transit</td>\n",
       "      <td>Brooklyn</td>\n",
       "      <td>NY</td>\n",
       "      <td>2008</td>\n",
       "      <td>20008</td>\n",
       "      <td>Subsidiary Unit of a Transit Agency, Reporting...</td>\n",
       "      <td>Full Reporter</td>\n",
       "      <td>18351295</td>\n",
       "      <td>10427</td>\n",
       "      <td>Van</td>\n",
       "      <td>NaN</td>\n",
       "      <td>0</td>\n",
       "      <td>32</td>\n",
       "      <td>0</td>\n",
       "      <td>2</td>\n",
       "      <td>10</td>\n",
       "      <td>0</td>\n",
       "      <td>4</td>\n",
       "      <td>0</td>\n",
       "      <td>0</td>\n",
       "      <td>0</td>\n",
       "      <td>0</td>\n",
       "      <td>0</td>\n",
       "      <td>0</td>\n",
       "      <td>0</td>\n",
       "      <td>0</td>\n",
       "      <td>0</td>\n",
       "      <td>0</td>\n",
       "      <td>0</td>\n",
       "      <td>0</td>\n",
       "      <td>48</td>\n",
       "      <td>2.125</td>\n",
       "      <td>70685.0417</td>\n",
       "    </tr>\n",
       "  </tbody>\n",
       "</table>\n",
       "</div>"
      ],
      "text/plain": [
       "                      agency      City State Legacy NTD ID ntd_id  \\\n",
       "0  MTA New York City Transit  Brooklyn    NY          2008  20008   \n",
       "\n",
       "                                   Organization Type  Reporter Type  \\\n",
       "0  Subsidiary Unit of a Transit Agency, Reporting...  Full Reporter   \n",
       "\n",
       "   Primary UZA Population  Agency VOMS Vehicle Type  Years Old:  0   1  2  3  \\\n",
       "0                18351295        10427          Van         NaN  0  32  0  2   \n",
       "\n",
       "    4  5  6  7  8  9  10  11  12  13-15  16-20  21-25  26-30  31-60  60+  \\\n",
       "0  10  0  4  0  0  0   0   0   0      0      0      0      0      0    0   \n",
       "\n",
       "   Total Vehicles  Average Age Of Fleet (In Years)  \\\n",
       "0              48                            2.125   \n",
       "\n",
       "   Average Lifetime Miles Per Vehicle  \n",
       "0                          70685.0417  "
      ]
     },
     "execution_count": 31,
     "metadata": {},
     "output_type": "execute_result"
    }
   ],
   "source": [
    "vehicles_info.head(1)"
   ]
  },
  {
   "cell_type": "code",
   "execution_count": 32,
   "id": "3b411801-34c9-466b-ab16-67d6964c3bc7",
   "metadata": {},
   "outputs": [],
   "source": [
    "#joining vehicles-gtfs data frame\n",
    "unmatched2 = unmatched.merge(vehicles_info, on=['agency','ntd_id'],  how='left', indicator=True)"
   ]
  },
  {
   "cell_type": "code",
   "execution_count": 33,
   "id": "b1ff8a69-08f2-492c-b409-f8509d3a5b8c",
   "metadata": {},
   "outputs": [
    {
     "data": {
      "text/plain": [
       "both          1523\n",
       "left_only       54\n",
       "right_only       0\n",
       "Name: _merge, dtype: int64"
      ]
     },
     "execution_count": 33,
     "metadata": {},
     "output_type": "execute_result"
    }
   ],
   "source": [
    "unmatched2._merge.value_counts()"
   ]
  },
  {
   "cell_type": "code",
   "execution_count": 37,
   "id": "1d48af66-368e-40f0-9a05-eaad7e3a9410",
   "metadata": {},
   "outputs": [
    {
     "data": {
      "text/html": [
       "<div>\n",
       "<style scoped>\n",
       "    .dataframe tbody tr th:only-of-type {\n",
       "        vertical-align: middle;\n",
       "    }\n",
       "\n",
       "    .dataframe tbody tr th {\n",
       "        vertical-align: top;\n",
       "    }\n",
       "\n",
       "    .dataframe thead th {\n",
       "        text-align: right;\n",
       "    }\n",
       "</style>\n",
       "<table border=\"1\" class=\"dataframe\">\n",
       "  <thead>\n",
       "    <tr style=\"text-align: right;\">\n",
       "      <th></th>\n",
       "      <th>organization_name</th>\n",
       "      <th>agency</th>\n",
       "      <th>ntd_id</th>\n",
       "      <th>grant_fiscal_year</th>\n",
       "      <th>funding_program</th>\n",
       "      <th>grant_number</th>\n",
       "      <th>project_year</th>\n",
       "      <th>upin</th>\n",
       "      <th>description</th>\n",
       "      <th>ali</th>\n",
       "      <th>contract_number</th>\n",
       "      <th>allocationamount</th>\n",
       "      <th>encumbered_amount</th>\n",
       "      <th>expendedamount</th>\n",
       "      <th>activebalance</th>\n",
       "      <th>closedoutbalance</th>\n",
       "      <th>project_status</th>\n",
       "      <th>City</th>\n",
       "      <th>State</th>\n",
       "      <th>Legacy NTD ID</th>\n",
       "      <th>Organization Type</th>\n",
       "      <th>Reporter Type</th>\n",
       "      <th>Primary UZA Population</th>\n",
       "      <th>Agency VOMS</th>\n",
       "      <th>Vehicle Type</th>\n",
       "      <th>Years Old:</th>\n",
       "      <th>0</th>\n",
       "      <th>1</th>\n",
       "      <th>2</th>\n",
       "      <th>3</th>\n",
       "      <th>4</th>\n",
       "      <th>5</th>\n",
       "      <th>6</th>\n",
       "      <th>7</th>\n",
       "      <th>8</th>\n",
       "      <th>9</th>\n",
       "      <th>10</th>\n",
       "      <th>11</th>\n",
       "      <th>12</th>\n",
       "      <th>13-15</th>\n",
       "      <th>16-20</th>\n",
       "      <th>21-25</th>\n",
       "      <th>26-30</th>\n",
       "      <th>31-60</th>\n",
       "      <th>60+</th>\n",
       "      <th>Total Vehicles</th>\n",
       "      <th>Average Age Of Fleet (In Years)</th>\n",
       "      <th>Average Lifetime Miles Per Vehicle</th>\n",
       "      <th>_merge</th>\n",
       "    </tr>\n",
       "  </thead>\n",
       "  <tbody>\n",
       "    <tr>\n",
       "      <th>1278</th>\n",
       "      <td>Sunline Transit Agency</td>\n",
       "      <td>SunLine Transit Agency</td>\n",
       "      <td>90079</td>\n",
       "      <td>2019.0</td>\n",
       "      <td>5311(f) Round 2</td>\n",
       "      <td>CA-2020-015 | 0020000057-F</td>\n",
       "      <td>2019.0</td>\n",
       "      <td>BCG0001612</td>\n",
       "      <td>Operating Assistance Sliding Scale</td>\n",
       "      <td>300902</td>\n",
       "      <td>64CO19-01012</td>\n",
       "      <td>185187.0</td>\n",
       "      <td>185187.0</td>\n",
       "      <td>185187.0</td>\n",
       "      <td>0.0</td>\n",
       "      <td>0.0</td>\n",
       "      <td>Open</td>\n",
       "      <td>Thousand Palms</td>\n",
       "      <td>CA</td>\n",
       "      <td>9079</td>\n",
       "      <td>Independent Public Agency or Authority of Tran...</td>\n",
       "      <td>Full Reporter</td>\n",
       "      <td>345580.0</td>\n",
       "      <td>98.0</td>\n",
       "      <td>Sports Utility Vehicle</td>\n",
       "      <td>NaN</td>\n",
       "      <td>0.0</td>\n",
       "      <td>1.0</td>\n",
       "      <td>0.0</td>\n",
       "      <td>0.0</td>\n",
       "      <td>0.0</td>\n",
       "      <td>0.0</td>\n",
       "      <td>0.0</td>\n",
       "      <td>0.0</td>\n",
       "      <td>0.0</td>\n",
       "      <td>0.0</td>\n",
       "      <td>0.0</td>\n",
       "      <td>0.0</td>\n",
       "      <td>0.0</td>\n",
       "      <td>0.0</td>\n",
       "      <td>0.0</td>\n",
       "      <td>0.0</td>\n",
       "      <td>0.0</td>\n",
       "      <td>0.0</td>\n",
       "      <td>0.0</td>\n",
       "      <td>1.0</td>\n",
       "      <td>1.0</td>\n",
       "      <td>41939.0</td>\n",
       "      <td>both</td>\n",
       "    </tr>\n",
       "    <tr>\n",
       "      <th>210</th>\n",
       "      <td>San Diego Metropolitan Transit System</td>\n",
       "      <td>San Diego Metropolitan Transit System</td>\n",
       "      <td>90026</td>\n",
       "      <td>2019.0</td>\n",
       "      <td>Section 5311</td>\n",
       "      <td>CA-2020-015 | 0020000057</td>\n",
       "      <td>2019.0</td>\n",
       "      <td>BCG0001513</td>\n",
       "      <td>Operating Assistance Sliding Scale</td>\n",
       "      <td>300902</td>\n",
       "      <td>64BO19-00977</td>\n",
       "      <td>150000.0</td>\n",
       "      <td>150000.0</td>\n",
       "      <td>150000.0</td>\n",
       "      <td>0.0</td>\n",
       "      <td>0.0</td>\n",
       "      <td>Open</td>\n",
       "      <td>San Diego</td>\n",
       "      <td>CA</td>\n",
       "      <td>9026</td>\n",
       "      <td>Independent Public Agency or Authority of Tran...</td>\n",
       "      <td>Full Reporter</td>\n",
       "      <td>2956746.0</td>\n",
       "      <td>906.0</td>\n",
       "      <td>Automobiles (Service)</td>\n",
       "      <td>NaN</td>\n",
       "      <td>0.0</td>\n",
       "      <td>0.0</td>\n",
       "      <td>0.0</td>\n",
       "      <td>0.0</td>\n",
       "      <td>0.0</td>\n",
       "      <td>0.0</td>\n",
       "      <td>0.0</td>\n",
       "      <td>0.0</td>\n",
       "      <td>0.0</td>\n",
       "      <td>0.0</td>\n",
       "      <td>0.0</td>\n",
       "      <td>0.0</td>\n",
       "      <td>0.0</td>\n",
       "      <td>2.0</td>\n",
       "      <td>0.0</td>\n",
       "      <td>0.0</td>\n",
       "      <td>0.0</td>\n",
       "      <td>0.0</td>\n",
       "      <td>0.0</td>\n",
       "      <td>2.0</td>\n",
       "      <td>NaN</td>\n",
       "      <td>NaN</td>\n",
       "      <td>both</td>\n",
       "    </tr>\n",
       "    <tr>\n",
       "      <th>150</th>\n",
       "      <td>San Diego Metropolitan Transit System</td>\n",
       "      <td>San Diego Metropolitan Transit System</td>\n",
       "      <td>90026</td>\n",
       "      <td>2014.0</td>\n",
       "      <td>Section 5311</td>\n",
       "      <td>CA-18-X069 | 0015000075</td>\n",
       "      <td>2017.0</td>\n",
       "      <td>BCG0001128</td>\n",
       "      <td>Operating Assistance Sliding Scale</td>\n",
       "      <td>300902</td>\n",
       "      <td>64BO17-00579</td>\n",
       "      <td>131388.0</td>\n",
       "      <td>275000.0</td>\n",
       "      <td>131388.0</td>\n",
       "      <td>0.0</td>\n",
       "      <td>0.0</td>\n",
       "      <td>Open</td>\n",
       "      <td>San Diego</td>\n",
       "      <td>CA</td>\n",
       "      <td>9026</td>\n",
       "      <td>Independent Public Agency or Authority of Tran...</td>\n",
       "      <td>Full Reporter</td>\n",
       "      <td>2956746.0</td>\n",
       "      <td>906.0</td>\n",
       "      <td>Over-the-road Bus</td>\n",
       "      <td>NaN</td>\n",
       "      <td>0.0</td>\n",
       "      <td>0.0</td>\n",
       "      <td>0.0</td>\n",
       "      <td>0.0</td>\n",
       "      <td>0.0</td>\n",
       "      <td>0.0</td>\n",
       "      <td>0.0</td>\n",
       "      <td>0.0</td>\n",
       "      <td>0.0</td>\n",
       "      <td>0.0</td>\n",
       "      <td>0.0</td>\n",
       "      <td>0.0</td>\n",
       "      <td>0.0</td>\n",
       "      <td>24.0</td>\n",
       "      <td>0.0</td>\n",
       "      <td>0.0</td>\n",
       "      <td>0.0</td>\n",
       "      <td>0.0</td>\n",
       "      <td>0.0</td>\n",
       "      <td>24.0</td>\n",
       "      <td>13.0</td>\n",
       "      <td>440302.0</td>\n",
       "      <td>both</td>\n",
       "    </tr>\n",
       "    <tr>\n",
       "      <th>1329</th>\n",
       "      <td>Transit Joint Powers Authority for Merced County</td>\n",
       "      <td>Transit Joint Powers Authority for Merced Coun...</td>\n",
       "      <td>90173</td>\n",
       "      <td>2018.0</td>\n",
       "      <td>Section 5311</td>\n",
       "      <td>CA-2018-114 | 0019000012</td>\n",
       "      <td>2018.0</td>\n",
       "      <td>BCG0001183</td>\n",
       "      <td>Operating Assistance Sliding Scale</td>\n",
       "      <td>300902</td>\n",
       "      <td>64BO19-00878</td>\n",
       "      <td>507341.0</td>\n",
       "      <td>507341.0</td>\n",
       "      <td>507341.0</td>\n",
       "      <td>0.0</td>\n",
       "      <td>0.0</td>\n",
       "      <td>Open</td>\n",
       "      <td>Merced</td>\n",
       "      <td>CA</td>\n",
       "      <td>9173</td>\n",
       "      <td>Independent Public Agency or Authority of Tran...</td>\n",
       "      <td>Full Reporter</td>\n",
       "      <td>136969.0</td>\n",
       "      <td>53.0</td>\n",
       "      <td>Trucks and other Rubber Tire Vehicles (Service)</td>\n",
       "      <td>NaN</td>\n",
       "      <td>0.0</td>\n",
       "      <td>0.0</td>\n",
       "      <td>1.0</td>\n",
       "      <td>0.0</td>\n",
       "      <td>0.0</td>\n",
       "      <td>1.0</td>\n",
       "      <td>0.0</td>\n",
       "      <td>0.0</td>\n",
       "      <td>0.0</td>\n",
       "      <td>0.0</td>\n",
       "      <td>0.0</td>\n",
       "      <td>0.0</td>\n",
       "      <td>0.0</td>\n",
       "      <td>0.0</td>\n",
       "      <td>1.0</td>\n",
       "      <td>0.0</td>\n",
       "      <td>0.0</td>\n",
       "      <td>0.0</td>\n",
       "      <td>0.0</td>\n",
       "      <td>3.0</td>\n",
       "      <td>NaN</td>\n",
       "      <td>NaN</td>\n",
       "      <td>both</td>\n",
       "    </tr>\n",
       "    <tr>\n",
       "      <th>265</th>\n",
       "      <td>City of Fairfield</td>\n",
       "      <td>City of Fairfield, California, dba: Fairfield ...</td>\n",
       "      <td>90092</td>\n",
       "      <td>2016.0</td>\n",
       "      <td>Section 5311</td>\n",
       "      <td>CA-2017-025 | 0017000158</td>\n",
       "      <td>2016.0</td>\n",
       "      <td>BCG0000231</td>\n",
       "      <td>Operating Assistance</td>\n",
       "      <td>300902</td>\n",
       "      <td>64BO17-00374</td>\n",
       "      <td>100000.0</td>\n",
       "      <td>100000.0</td>\n",
       "      <td>100000.0</td>\n",
       "      <td>0.0</td>\n",
       "      <td>0.0</td>\n",
       "      <td>Open</td>\n",
       "      <td>Fairfield</td>\n",
       "      <td>CA</td>\n",
       "      <td>9092</td>\n",
       "      <td>City, County or Local Government Unit or Depar...</td>\n",
       "      <td>Full Reporter</td>\n",
       "      <td>133683.0</td>\n",
       "      <td>39.0</td>\n",
       "      <td>Trucks and other Rubber Tire Vehicles (Service)</td>\n",
       "      <td>NaN</td>\n",
       "      <td>0.0</td>\n",
       "      <td>0.0</td>\n",
       "      <td>0.0</td>\n",
       "      <td>0.0</td>\n",
       "      <td>0.0</td>\n",
       "      <td>0.0</td>\n",
       "      <td>0.0</td>\n",
       "      <td>3.0</td>\n",
       "      <td>1.0</td>\n",
       "      <td>0.0</td>\n",
       "      <td>0.0</td>\n",
       "      <td>1.0</td>\n",
       "      <td>0.0</td>\n",
       "      <td>0.0</td>\n",
       "      <td>0.0</td>\n",
       "      <td>0.0</td>\n",
       "      <td>0.0</td>\n",
       "      <td>0.0</td>\n",
       "      <td>0.0</td>\n",
       "      <td>5.0</td>\n",
       "      <td>NaN</td>\n",
       "      <td>NaN</td>\n",
       "      <td>both</td>\n",
       "    </tr>\n",
       "  </tbody>\n",
       "</table>\n",
       "</div>"
      ],
      "text/plain": [
       "                                     organization_name  \\\n",
       "1278                            Sunline Transit Agency   \n",
       "210              San Diego Metropolitan Transit System   \n",
       "150              San Diego Metropolitan Transit System   \n",
       "1329  Transit Joint Powers Authority for Merced County   \n",
       "265                                  City of Fairfield   \n",
       "\n",
       "                                                 agency ntd_id  \\\n",
       "1278                             SunLine Transit Agency  90079   \n",
       "210               San Diego Metropolitan Transit System  90026   \n",
       "150               San Diego Metropolitan Transit System  90026   \n",
       "1329  Transit Joint Powers Authority for Merced Coun...  90173   \n",
       "265   City of Fairfield, California, dba: Fairfield ...  90092   \n",
       "\n",
       "      grant_fiscal_year  funding_program                grant_number  \\\n",
       "1278             2019.0  5311(f) Round 2  CA-2020-015 | 0020000057-F   \n",
       "210              2019.0     Section 5311    CA-2020-015 | 0020000057   \n",
       "150              2014.0     Section 5311     CA-18-X069 | 0015000075   \n",
       "1329             2018.0     Section 5311    CA-2018-114 | 0019000012   \n",
       "265              2016.0     Section 5311    CA-2017-025 | 0017000158   \n",
       "\n",
       "      project_year        upin                          description     ali  \\\n",
       "1278        2019.0  BCG0001612   Operating Assistance Sliding Scale  300902   \n",
       "210         2019.0  BCG0001513  Operating Assistance Sliding Scale   300902   \n",
       "150         2017.0  BCG0001128  Operating Assistance Sliding Scale   300902   \n",
       "1329        2018.0  BCG0001183  Operating Assistance Sliding Scale   300902   \n",
       "265         2016.0  BCG0000231                 Operating Assistance  300902   \n",
       "\n",
       "     contract_number  allocationamount  encumbered_amount  expendedamount  \\\n",
       "1278    64CO19-01012          185187.0           185187.0        185187.0   \n",
       "210     64BO19-00977          150000.0           150000.0        150000.0   \n",
       "150     64BO17-00579          131388.0           275000.0        131388.0   \n",
       "1329    64BO19-00878          507341.0           507341.0        507341.0   \n",
       "265     64BO17-00374          100000.0           100000.0        100000.0   \n",
       "\n",
       "      activebalance  closedoutbalance project_status            City State  \\\n",
       "1278            0.0               0.0           Open  Thousand Palms    CA   \n",
       "210             0.0               0.0           Open       San Diego    CA   \n",
       "150             0.0               0.0           Open       San Diego    CA   \n",
       "1329            0.0               0.0           Open          Merced    CA   \n",
       "265             0.0               0.0           Open       Fairfield    CA   \n",
       "\n",
       "     Legacy NTD ID                                  Organization Type  \\\n",
       "1278          9079  Independent Public Agency or Authority of Tran...   \n",
       "210           9026  Independent Public Agency or Authority of Tran...   \n",
       "150           9026  Independent Public Agency or Authority of Tran...   \n",
       "1329          9173  Independent Public Agency or Authority of Tran...   \n",
       "265           9092  City, County or Local Government Unit or Depar...   \n",
       "\n",
       "      Reporter Type  Primary UZA Population  Agency VOMS  \\\n",
       "1278  Full Reporter                345580.0         98.0   \n",
       "210   Full Reporter               2956746.0        906.0   \n",
       "150   Full Reporter               2956746.0        906.0   \n",
       "1329  Full Reporter                136969.0         53.0   \n",
       "265   Full Reporter                133683.0         39.0   \n",
       "\n",
       "                                         Vehicle Type  Years Old:    0    1  \\\n",
       "1278                           Sports Utility Vehicle         NaN  0.0  1.0   \n",
       "210                             Automobiles (Service)         NaN  0.0  0.0   \n",
       "150                                 Over-the-road Bus         NaN  0.0  0.0   \n",
       "1329  Trucks and other Rubber Tire Vehicles (Service)         NaN  0.0  0.0   \n",
       "265   Trucks and other Rubber Tire Vehicles (Service)         NaN  0.0  0.0   \n",
       "\n",
       "        2    3    4    5    6    7    8    9   10   11   12  13-15  16-20  \\\n",
       "1278  0.0  0.0  0.0  0.0  0.0  0.0  0.0  0.0  0.0  0.0  0.0    0.0    0.0   \n",
       "210   0.0  0.0  0.0  0.0  0.0  0.0  0.0  0.0  0.0  0.0  0.0    2.0    0.0   \n",
       "150   0.0  0.0  0.0  0.0  0.0  0.0  0.0  0.0  0.0  0.0  0.0   24.0    0.0   \n",
       "1329  1.0  0.0  0.0  1.0  0.0  0.0  0.0  0.0  0.0  0.0  0.0    0.0    1.0   \n",
       "265   0.0  0.0  0.0  0.0  0.0  3.0  1.0  0.0  0.0  1.0  0.0    0.0    0.0   \n",
       "\n",
       "      21-25  26-30  31-60  60+  Total Vehicles  \\\n",
       "1278    0.0    0.0    0.0  0.0             1.0   \n",
       "210     0.0    0.0    0.0  0.0             2.0   \n",
       "150     0.0    0.0    0.0  0.0            24.0   \n",
       "1329    0.0    0.0    0.0  0.0             3.0   \n",
       "265     0.0    0.0    0.0  0.0             5.0   \n",
       "\n",
       "      Average Age Of Fleet (In Years)  Average Lifetime Miles Per Vehicle  \\\n",
       "1278                              1.0                             41939.0   \n",
       "210                               NaN                                 NaN   \n",
       "150                              13.0                            440302.0   \n",
       "1329                              NaN                                 NaN   \n",
       "265                               NaN                                 NaN   \n",
       "\n",
       "     _merge  \n",
       "1278   both  \n",
       "210    both  \n",
       "150    both  \n",
       "1329   both  \n",
       "265    both  "
      ]
     },
     "execution_count": 37,
     "metadata": {},
     "output_type": "execute_result"
    }
   ],
   "source": [
    "unmatched2.sample(5)"
   ]
  },
  {
   "cell_type": "code",
   "execution_count": 35,
   "id": "eaa4e7e5-49b6-479f-8244-ad7af0e025c1",
   "metadata": {},
   "outputs": [],
   "source": [
    "#unmatched2.to_csv(\"./unmatched2.csv\", index = False) "
   ]
  }
 ],
 "metadata": {
  "kernelspec": {
   "display_name": "Python 3 (ipykernel)",
   "language": "python",
   "name": "python3"
  },
  "language_info": {
   "codemirror_mode": {
    "name": "ipython",
    "version": 3
   },
   "file_extension": ".py",
   "mimetype": "text/x-python",
   "name": "python",
   "nbconvert_exporter": "python",
   "pygments_lexer": "ipython3",
   "version": "3.9.7"
  }
 },
 "nbformat": 4,
 "nbformat_minor": 5
}
