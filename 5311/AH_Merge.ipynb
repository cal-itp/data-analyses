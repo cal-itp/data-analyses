{
 "cells": [
  {
   "cell_type": "markdown",
   "id": "1382c77d-634a-4ca4-926e-e9eaf44d552f",
   "metadata": {},
   "source": [
    "# Testing merges before turning them into functions"
   ]
  },
  {
   "cell_type": "code",
   "execution_count": null,
   "id": "e60b1121-c948-489c-b432-e3feb6b27d78",
   "metadata": {},
   "outputs": [],
   "source": [
    "import numpy as np\n",
    "import pandas as pd\n",
    "from siuba import *\n",
    "from calitp import *\n",
    "import intake\n",
    "import data_prep\n",
    "import fuzzymatcher\n",
    "pd.options.display.max_rows = 250"
   ]
  },
  {
   "cell_type": "code",
   "execution_count": null,
   "id": "282b13d7-8b0d-4a5b-a4b9-e77bd4e6d4ff",
   "metadata": {},
   "outputs": [],
   "source": [
    "df_5311 = data_prep.load_grantprojects()\n",
    "vehicles = data_prep.load_vehiclesdata()\n",
    "organizations= data_prep.load_organizations_data()"
   ]
  },
  {
   "cell_type": "code",
   "execution_count": null,
   "id": "3b54bcb5-3eca-4448-9de5-76e2a61301a1",
   "metadata": {},
   "outputs": [],
   "source": [
    "vehicles['agency'].nunique()"
   ]
  },
  {
   "cell_type": "markdown",
   "id": "9364796b-cd25-4b2a-bdd7-8f84f26187df",
   "metadata": {},
   "source": [
    "# Merge NTD with GTFS  --> m2_df Function\n"
   ]
  },
  {
   "cell_type": "code",
   "execution_count": null,
   "id": "67c0001d-5a7f-4246-8671-cb1859df5926",
   "metadata": {},
   "outputs": [],
   "source": [
    "#drop records without NTD ID.\n",
    "organizations = organizations.dropna(subset=['ntd_id'])"
   ]
  },
  {
   "cell_type": "code",
   "execution_count": null,
   "id": "fcd3b4a9-3ba0-4796-a24f-6a9d475f65a4",
   "metadata": {},
   "outputs": [],
   "source": [
    "organizations.head(1)"
   ]
  },
  {
   "cell_type": "code",
   "execution_count": null,
   "id": "50ca9169-d139-4f68-91cc-20330a88e957",
   "metadata": {},
   "outputs": [],
   "source": [
    "vehicles.head(1)"
   ]
  },
  {
   "cell_type": "code",
   "execution_count": null,
   "id": "3ce92448-f3c9-4bde-83ac-ebdf97475e26",
   "metadata": {
    "scrolled": true,
    "tags": []
   },
   "outputs": [],
   "source": [
    "#merging the 2 datasets together\n",
    "vehicles_gtfs = pd.merge(vehicles, organizations,  how='left', on=['ntd_id'], indicator=True)"
   ]
  },
  {
   "cell_type": "code",
   "execution_count": null,
   "id": "4874726e-5fce-4c5a-89e0-f3336585751b",
   "metadata": {},
   "outputs": [],
   "source": [
    "vehicles_gtfs['_merge'].value_counts()"
   ]
  },
  {
   "cell_type": "code",
   "execution_count": null,
   "id": "89143bdc-24c9-4551-b8f9-5bc141d75dc9",
   "metadata": {},
   "outputs": [],
   "source": [
    "vehicles_gtfs = vehicles_gtfs.drop(columns = ['_merge'])"
   ]
  },
  {
   "cell_type": "code",
   "execution_count": null,
   "id": "5415e553-91f7-4df7-9782-0461a4612159",
   "metadata": {},
   "outputs": [],
   "source": [
    "vehicles_gtfs.head(2)"
   ]
  },
  {
   "cell_type": "markdown",
   "id": "67788fcb-c551-4036-b0ea-450191f23e44",
   "metadata": {},
   "source": [
    "# Merging Black Cat with vehicles_gtfs"
   ]
  },
  {
   "cell_type": "code",
   "execution_count": null,
   "id": "d4a2e235-afa0-4a9c-8678-7e62ba499205",
   "metadata": {},
   "outputs": [],
   "source": [
    "right_on = [\"agency\"]\n",
    "left_on = [\"organization_name\"]"
   ]
  },
  {
   "cell_type": "code",
   "execution_count": null,
   "id": "07b518c0-4806-4102-9bd0-d93a8c127de7",
   "metadata": {},
   "outputs": [],
   "source": [
    "black_cat1 = fuzzymatcher.fuzzy_left_join(df_5311, vehicles_gtfs, left_on, right_on)"
   ]
  },
  {
   "cell_type": "code",
   "execution_count": null,
   "id": "c71c15da-0988-4c5d-896d-a72d4da31c3c",
   "metadata": {},
   "outputs": [],
   "source": [
    "organizations = black_cat1[['best_match_score','organization_name','agency']]\n",
    "organizations = organizations.drop_duplicates()"
   ]
  },
  {
   "cell_type": "code",
   "execution_count": null,
   "id": "30c508d8-ff2a-4b03-bffd-8eb397d41c8f",
   "metadata": {
    "scrolled": true,
    "tags": []
   },
   "outputs": [],
   "source": [
    "organizations.sort_values('best_match_score')"
   ]
  },
  {
   "cell_type": "code",
   "execution_count": null,
   "id": "1d038e2f-baef-4d30-b0e4-ed9c81248c55",
   "metadata": {},
   "outputs": [],
   "source": [
    "#stuff to filter out before cutting off at scores...\n",
    "subset3 = ['County of Los Angeles - Department of Public Works', 'County of Sacramento Department of Transportation']"
   ]
  },
  {
   "cell_type": "code",
   "execution_count": null,
   "id": "3c77868b-9bf5-4928-97b5-704cae56a238",
   "metadata": {},
   "outputs": [],
   "source": [
    "#filter out a bunch of stuff all at once\n",
    "black_cat2 = black_cat1[~black_cat1.organization_name.isin(subset3)]"
   ]
  },
  {
   "cell_type": "code",
   "execution_count": null,
   "id": "951a8a31-3e20-4629-9aa5-bc31bce198bc",
   "metadata": {
    "scrolled": true,
    "tags": []
   },
   "outputs": [],
   "source": [
    "#filter out for any scores below 0.19\n",
    "black_cat2 = black_cat2.loc[black_cat2['best_match_score'] > 0.19 ]"
   ]
  },
  {
   "cell_type": "code",
   "execution_count": null,
   "id": "b1065ca3-f7cf-4980-9b60-e93017a91005",
   "metadata": {},
   "outputs": [],
   "source": [
    "#total agencies that matched over with decent scores\n",
    "black_cat2['organization_name'].nunique()"
   ]
  },
  {
   "cell_type": "markdown",
   "id": "fbd38360-cc98-4005-abaf-f650361b19e6",
   "metadata": {},
   "source": [
    "# Walking back in the other 21 agencies that were cut into a seperate dataframe"
   ]
  },
  {
   "cell_type": "code",
   "execution_count": null,
   "id": "15cbb94d-e02c-4dc8-8ef9-685270f982e7",
   "metadata": {},
   "outputs": [],
   "source": [
    "#getting a list of agencies with bad scores\n",
    "bad_fuzzy_matches = black_cat1.loc[black_cat1['best_match_score'] < 0.19 ]"
   ]
  },
  {
   "cell_type": "code",
   "execution_count": null,
   "id": "8d01a5fd-5371-4199-bc29-03aa1eca6de1",
   "metadata": {},
   "outputs": [],
   "source": [
    "bad_fuzzy_matches = bad_fuzzy_matches[['organization_name','agency', 'ntd_id']]"
   ]
  },
  {
   "cell_type": "code",
   "execution_count": null,
   "id": "53f3d131-05c4-48ed-becf-4cfd824d8c90",
   "metadata": {},
   "outputs": [],
   "source": [
    "bad_fuzzy_matches = bad_fuzzy_matches.drop_duplicates()"
   ]
  },
  {
   "cell_type": "code",
   "execution_count": null,
   "id": "eaa4e7e5-49b6-479f-8244-ad7af0e025c1",
   "metadata": {},
   "outputs": [],
   "source": [
    "#making a manual crosswalk\n",
    "#bad_fuzzy_matches.to_csv(\"./bad_fuzzy_matches.csv\", index = False) "
   ]
  },
  {
   "cell_type": "code",
   "execution_count": null,
   "id": "e180e511-a606-465e-b3de-ec8ad50e3efd",
   "metadata": {},
   "outputs": [],
   "source": [
    "#reading crosswalk 3, what I manually inputted\n",
    "crosswalk3 = pd.read_excel('corrected_bad_fuzzy_match.xlsx')"
   ]
  },
  {
   "cell_type": "code",
   "execution_count": null,
   "id": "282fc3c4-5061-43b6-889e-41cb229d05d6",
   "metadata": {},
   "outputs": [],
   "source": [
    "#crosswalk on the left, I only want a dataframe with the poorly matched agencies\n",
    "unmatched = crosswalk3.merge(df_5311, on=['organization_name'],  how='left')"
   ]
  },
  {
   "cell_type": "code",
   "execution_count": null,
   "id": "91f75078-67e8-4db0-9885-14e429a8f531",
   "metadata": {},
   "outputs": [],
   "source": [
    "#now grabbing vehicles and GTFS info on the left\n",
    "unmatched2 = unmatched.merge(vehicles_gtfs, on=['agency','ntd_id'],  how='left')"
   ]
  },
  {
   "cell_type": "code",
   "execution_count": null,
   "id": "1d48af66-368e-40f0-9a05-eaad7e3a9410",
   "metadata": {},
   "outputs": [],
   "source": [
    "unmatched2['organization_name'].nunique()"
   ]
  },
  {
   "cell_type": "markdown",
   "id": "273d55d1-f4c0-4237-850c-c83cf849900b",
   "metadata": {},
   "source": [
    "# R Bind"
   ]
  },
  {
   "cell_type": "code",
   "execution_count": null,
   "id": "d9ac0a9b-51f1-433c-af22-93a68e3a85aa",
   "metadata": {},
   "outputs": [],
   "source": [
    "GTFS_Vehicles_BC = black_cat2.append(pd.DataFrame(data = unmatched2), ignore_index=True)"
   ]
  },
  {
   "cell_type": "code",
   "execution_count": null,
   "id": "387d8fec-75ce-48fb-bdb5-1c46b57165f9",
   "metadata": {},
   "outputs": [],
   "source": [
    "GTFS_Vehicles_BC = GTFS_Vehicles_BC.drop(columns=['best_match_score','__id_left','__id_right','vehicle_type'])"
   ]
  },
  {
   "cell_type": "code",
   "execution_count": null,
   "id": "5cd26e5b-a415-4cdd-a419-d45b1a90abe8",
   "metadata": {},
   "outputs": [],
   "source": [
    "GTFS_Vehicles_BC.shape"
   ]
  },
  {
   "cell_type": "code",
   "execution_count": null,
   "id": "b2ce09c6-0c98-4671-8e0d-675cfcd7a536",
   "metadata": {
    "scrolled": true,
    "tags": []
   },
   "outputs": [],
   "source": [
    "# One last check to make sure all the names are there\n",
    "Names = GTFS_Vehicles_BC[['organization_name','agency','ntd_id','itp_id','gtfs_schedule_status']]\n",
    "Names = Names.drop_duplicates()\n",
    "Names.sort_values('organization_name')"
   ]
  },
  {
   "cell_type": "code",
   "execution_count": null,
   "id": "efe0ac30-4ff0-4c90-b71f-2d7bc14425b8",
   "metadata": {},
   "outputs": [],
   "source": [
    "Names.isna().sum()"
   ]
  },
  {
   "cell_type": "code",
   "execution_count": null,
   "id": "4635aeb5-117e-48d3-86d3-bd02aba2a04d",
   "metadata": {},
   "outputs": [],
   "source": [
    "#GTFS_Vehicles_BC.to_csv(\"./GTFS_Vehicles_BC.csv\", index = False) "
   ]
  }
 ],
 "metadata": {
  "kernelspec": {
   "display_name": "Python 3 (ipykernel)",
   "language": "python",
   "name": "python3"
  },
  "language_info": {
   "codemirror_mode": {
    "name": "ipython",
    "version": 3
   },
   "file_extension": ".py",
   "mimetype": "text/x-python",
   "name": "python",
   "nbconvert_exporter": "python",
   "pygments_lexer": "ipython3",
   "version": "3.9.7"
  }
 },
 "nbformat": 4,
 "nbformat_minor": 5
}
