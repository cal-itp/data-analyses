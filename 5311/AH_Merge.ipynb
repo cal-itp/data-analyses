{
 "cells": [
  {
   "cell_type": "markdown",
   "id": "1382c77d-634a-4ca4-926e-e9eaf44d552f",
   "metadata": {},
   "source": [
    "# Testing merges before turning them into functions"
   ]
  },
  {
   "cell_type": "code",
   "execution_count": 1,
   "id": "e60b1121-c948-489c-b432-e3feb6b27d78",
   "metadata": {},
   "outputs": [
    {
     "name": "stderr",
     "output_type": "stream",
     "text": [
      "/opt/conda/lib/python3.9/site-packages/geopandas/_compat.py:111: UserWarning: The Shapely GEOS version (3.9.1-CAPI-1.14.2) is incompatible with the GEOS version PyGEOS was compiled with (3.10.1-CAPI-1.16.0). Conversions between both will be slow.\n"
     ]
    }
   ],
   "source": [
    "import numpy as np\n",
    "import pandas as pd\n",
    "from siuba import *\n",
    "from calitp import *\n",
    "import intake\n",
    "import data_prep\n",
    "import fuzzymatcher\n",
    "pd.options.display.max_rows = 250"
   ]
  },
  {
   "cell_type": "code",
   "execution_count": 2,
   "id": "282b13d7-8b0d-4a5b-a4b9-e77bd4e6d4ff",
   "metadata": {},
   "outputs": [
    {
     "name": "stderr",
     "output_type": "stream",
     "text": [
      "/home/jovyan/data-analyses/5311/data_prep.py:69: SettingWithCopyWarning: \n",
      "A value is trying to be set on a copy of a slice from a DataFrame.\n",
      "Try using .loc[row_indexer,col_indexer] = value instead\n",
      "\n",
      "See the caveats in the documentation: https://pandas.pydata.org/pandas-docs/stable/user_guide/indexing.html#returning-a-view-versus-a-copy\n",
      "/home/jovyan/data-analyses/5311/data_prep.py:71: SettingWithCopyWarning: \n",
      "A value is trying to be set on a copy of a slice from a DataFrame.\n",
      "Try using .loc[row_indexer,col_indexer] = value instead\n",
      "\n",
      "See the caveats in the documentation: https://pandas.pydata.org/pandas-docs/stable/user_guide/indexing.html#returning-a-view-versus-a-copy\n"
     ]
    }
   ],
   "source": [
    "df_5311 = data_prep.load_grantprojects()\n",
    "vehicles = data_prep.load_vehiclesdata()\n",
    "organizations= data_prep.load_organizations_data()"
   ]
  },
  {
   "cell_type": "markdown",
   "id": "9364796b-cd25-4b2a-bdd7-8f84f26187df",
   "metadata": {},
   "source": [
    "# Merge NTD with GTFS  --> m2_df Function\n",
    "* Delete 'legacy ntd id\", primary_uza_pop, reporter_type, & Years old in vehicles data set?"
   ]
  },
  {
   "cell_type": "code",
   "execution_count": 3,
   "id": "7c169ab0-7843-4e57-a94b-282874076b78",
   "metadata": {},
   "outputs": [],
   "source": [
    "#reading in crosswalk 1\n",
    "crosswalk1 = pd.read_parquet('test_crosswalk_both.parquet', engine='pyarrow')"
   ]
  },
  {
   "cell_type": "code",
   "execution_count": 4,
   "id": "13e35b70-5d31-4f98-a00f-0bf7bffb4147",
   "metadata": {},
   "outputs": [],
   "source": [
    "#reading crosswalk 2 (the manual one that captures some of the missing values)\n",
    "crosswalk2 = pd.read_csv('vehicles-left-only.csv')"
   ]
  },
  {
   "cell_type": "code",
   "execution_count": 5,
   "id": "cee9dcf2-3e83-493e-806e-75311546d61b",
   "metadata": {},
   "outputs": [],
   "source": [
    "#rename to agency so we can match it\n",
    "crosswalk1 = crosswalk1.rename(columns = {'agency_x':'agency'})"
   ]
  },
  {
   "cell_type": "code",
   "execution_count": 6,
   "id": "723d83e9-177f-4fdb-a071-f30d6e9fad17",
   "metadata": {},
   "outputs": [],
   "source": [
    "#first crosswalk\n",
    "m1_df = vehicles.merge(crosswalk1, on=['agency', 'ntd_id'],  how='left', indicator=True)"
   ]
  },
  {
   "cell_type": "code",
   "execution_count": 7,
   "id": "a8e76054-3402-4b51-859c-0e4f55dc87aa",
   "metadata": {
    "scrolled": true,
    "tags": []
   },
   "outputs": [],
   "source": [
    "m1_df = m1_df.drop(columns = ['_merge'])"
   ]
  },
  {
   "cell_type": "code",
   "execution_count": 8,
   "id": "98c97a24-2db7-4547-b826-1afe79d5ed48",
   "metadata": {
    "scrolled": true,
    "tags": []
   },
   "outputs": [],
   "source": [
    "#second crosswalk\n",
    "m2_df = m1_df.merge(crosswalk2, on=['agency', 'ntd_id', 'itp_id'],  how='left', indicator=True)\n",
    "m2_df = m2_df.drop(columns = ['_merge'])"
   ]
  },
  {
   "cell_type": "code",
   "execution_count": 9,
   "id": "3ce92448-f3c9-4bde-83ac-ebdf97475e26",
   "metadata": {
    "scrolled": true,
    "tags": []
   },
   "outputs": [],
   "source": [
    "#merging the 2 datasets together\n",
    "vehicles_gtfs = m2_df.merge(organizations, on=['agency', 'ntd_id', 'itp_id'],  how='left', indicator=True)"
   ]
  },
  {
   "cell_type": "code",
   "execution_count": 10,
   "id": "89143bdc-24c9-4551-b8f9-5bc141d75dc9",
   "metadata": {},
   "outputs": [],
   "source": [
    "vehicles_gtfs = vehicles_gtfs.drop(columns = ['_merge'])"
   ]
  },
  {
   "cell_type": "markdown",
   "id": "67788fcb-c551-4036-b0ea-450191f23e44",
   "metadata": {},
   "source": [
    "# Merging Black Cat with vehicles_gtfs"
   ]
  },
  {
   "cell_type": "code",
   "execution_count": 99,
   "id": "036208b2-ef6d-4cfe-9325-3743be0ce3dd",
   "metadata": {},
   "outputs": [],
   "source": [
    "#trying to merge in crosswalk\n",
    "test1= df_5311.merge(crosswalk3, on=['organization_name'],  how='left', indicator=True)"
   ]
  },
  {
   "cell_type": "code",
   "execution_count": 103,
   "id": "52c9cac3-d661-473f-a902-0ff65de0f7b1",
   "metadata": {
    "scrolled": true,
    "tags": []
   },
   "outputs": [
    {
     "data": {
      "text/html": [
       "<div>\n",
       "<style scoped>\n",
       "    .dataframe tbody tr th:only-of-type {\n",
       "        vertical-align: middle;\n",
       "    }\n",
       "\n",
       "    .dataframe tbody tr th {\n",
       "        vertical-align: top;\n",
       "    }\n",
       "\n",
       "    .dataframe thead th {\n",
       "        text-align: right;\n",
       "    }\n",
       "</style>\n",
       "<table border=\"1\" class=\"dataframe\">\n",
       "  <thead>\n",
       "    <tr style=\"text-align: right;\">\n",
       "      <th></th>\n",
       "      <th>grant_fiscal_year</th>\n",
       "      <th>funding_program</th>\n",
       "      <th>grant_number</th>\n",
       "      <th>project_year</th>\n",
       "      <th>organization_name</th>\n",
       "      <th>upin</th>\n",
       "      <th>description</th>\n",
       "      <th>ali</th>\n",
       "      <th>contract_number</th>\n",
       "      <th>allocationamount</th>\n",
       "      <th>encumbered_amount</th>\n",
       "      <th>expendedamount</th>\n",
       "      <th>activebalance</th>\n",
       "      <th>closedoutbalance</th>\n",
       "      <th>project_status</th>\n",
       "      <th>agency</th>\n",
       "      <th>ntd_id</th>\n",
       "      <th>_merge</th>\n",
       "    </tr>\n",
       "  </thead>\n",
       "  <tbody>\n",
       "    <tr>\n",
       "      <th>0</th>\n",
       "      <td>2011</td>\n",
       "      <td>Section 5311</td>\n",
       "      <td>CA-18-X047 | 0012000083</td>\n",
       "      <td>2016</td>\n",
       "      <td>City of Chowchilla</td>\n",
       "      <td>BCG0000228</td>\n",
       "      <td>Operating Assistance</td>\n",
       "      <td>300902</td>\n",
       "      <td>64BO17-00368</td>\n",
       "      <td>53221.0</td>\n",
       "      <td>114511.0</td>\n",
       "      <td>53221.0</td>\n",
       "      <td>0.0</td>\n",
       "      <td>0</td>\n",
       "      <td>Open</td>\n",
       "      <td>NaN</td>\n",
       "      <td>NaN</td>\n",
       "      <td>left_only</td>\n",
       "    </tr>\n",
       "  </tbody>\n",
       "</table>\n",
       "</div>"
      ],
      "text/plain": [
       "   grant_fiscal_year funding_program             grant_number  project_year  \\\n",
       "0               2011    Section 5311  CA-18-X047 | 0012000083          2016   \n",
       "\n",
       "     organization_name        upin           description     ali  \\\n",
       "0  City of Chowchilla   BCG0000228  Operating Assistance  300902   \n",
       "\n",
       "  contract_number  allocationamount  encumbered_amount  expendedamount  \\\n",
       "0    64BO17-00368           53221.0           114511.0         53221.0   \n",
       "\n",
       "   activebalance  closedoutbalance project_status agency ntd_id     _merge  \n",
       "0            0.0                 0           Open    NaN    NaN  left_only  "
      ]
     },
     "execution_count": 103,
     "metadata": {},
     "output_type": "execute_result"
    }
   ],
   "source": [
    "test1.head(1)"
   ]
  },
  {
   "cell_type": "code",
   "execution_count": 17,
   "id": "d4a2e235-afa0-4a9c-8678-7e62ba499205",
   "metadata": {},
   "outputs": [],
   "source": [
    "right_on = [\"agency\"]\n",
    "left_on = [\"organization_name\"]"
   ]
  },
  {
   "cell_type": "code",
   "execution_count": 18,
   "id": "07b518c0-4806-4102-9bd0-d93a8c127de7",
   "metadata": {},
   "outputs": [],
   "source": [
    "m4_df = fuzzymatcher.fuzzy_left_join(df_5311, vehicles_gtfs, left_on, right_on)"
   ]
  },
  {
   "cell_type": "code",
   "execution_count": 19,
   "id": "1d038e2f-baef-4d30-b0e4-ed9c81248c55",
   "metadata": {},
   "outputs": [],
   "source": [
    "#stuff to filter out before cutting off at scores...\n",
    "subset3 = ['Plumas County Transportation Commission', 'Imperial County Transportation Commission', 'Glenn County Transportation Commission','Tehama County Transit Agency','Tuolumne County Transit Agency (TCTA)']"
   ]
  },
  {
   "cell_type": "code",
   "execution_count": 20,
   "id": "3c77868b-9bf5-4928-97b5-704cae56a238",
   "metadata": {},
   "outputs": [],
   "source": [
    "#filter out a bunch of stuff all at once\n",
    "m4_df = m4_df[~m4_df.organization_name.isin(subset3)]"
   ]
  },
  {
   "cell_type": "code",
   "execution_count": 21,
   "id": "951a8a31-3e20-4629-9aa5-bc31bce198bc",
   "metadata": {
    "scrolled": true,
    "tags": []
   },
   "outputs": [],
   "source": [
    "#filter out for any scores below 0.075\n",
    "m5_df = m4_df.loc[m4_df['best_match_score'] > 0.075 ]"
   ]
  },
  {
   "cell_type": "code",
   "execution_count": 22,
   "id": "b1065ca3-f7cf-4980-9b60-e93017a91005",
   "metadata": {},
   "outputs": [
    {
     "data": {
      "text/plain": [
       "43"
      ]
     },
     "execution_count": 22,
     "metadata": {},
     "output_type": "execute_result"
    }
   ],
   "source": [
    "m5_df['organization_name'].nunique()"
   ]
  },
  {
   "cell_type": "code",
   "execution_count": 64,
   "id": "e180e511-a606-465e-b3de-ec8ad50e3efd",
   "metadata": {},
   "outputs": [],
   "source": [
    "#reading crosswalk 3, what I manually inputted\n",
    "crosswalk3 = pd.read_excel('BlackCat_NTD_CalITP.xlsx')"
   ]
  },
  {
   "cell_type": "code",
   "execution_count": 92,
   "id": "d5b81b9c-5ffa-4cd6-baaf-b0a97c5dbe60",
   "metadata": {},
   "outputs": [],
   "source": [
    "black_cat_merged =  m5_df.merge(crosswalk3, on=['organization_name','agency','ntd_id'],  how='left')"
   ]
  },
  {
   "cell_type": "code",
   "execution_count": 42,
   "id": "8cc12302-fad8-4d6a-a3b9-bd5d33e1990f",
   "metadata": {},
   "outputs": [
    {
     "data": {
      "text/html": [
       "<div>\n",
       "<style scoped>\n",
       "    .dataframe tbody tr th:only-of-type {\n",
       "        vertical-align: middle;\n",
       "    }\n",
       "\n",
       "    .dataframe tbody tr th {\n",
       "        vertical-align: top;\n",
       "    }\n",
       "\n",
       "    .dataframe thead th {\n",
       "        text-align: right;\n",
       "    }\n",
       "</style>\n",
       "<table border=\"1\" class=\"dataframe\">\n",
       "  <thead>\n",
       "    <tr style=\"text-align: right;\">\n",
       "      <th></th>\n",
       "      <th>best_match_score</th>\n",
       "      <th>__id_left</th>\n",
       "      <th>__id_right</th>\n",
       "      <th>grant_fiscal_year</th>\n",
       "      <th>funding_program</th>\n",
       "      <th>grant_number</th>\n",
       "      <th>project_year</th>\n",
       "      <th>organization_name</th>\n",
       "      <th>upin</th>\n",
       "      <th>description</th>\n",
       "      <th>ali</th>\n",
       "      <th>contract_number</th>\n",
       "      <th>allocationamount</th>\n",
       "      <th>encumbered_amount</th>\n",
       "      <th>expendedamount</th>\n",
       "      <th>activebalance</th>\n",
       "      <th>closedoutbalance</th>\n",
       "      <th>project_status</th>\n",
       "      <th>agency</th>\n",
       "      <th>city</th>\n",
       "      <th>state</th>\n",
       "      <th>legacy_ntd_id</th>\n",
       "      <th>ntd_id</th>\n",
       "      <th>organization_type</th>\n",
       "      <th>reporter_type</th>\n",
       "      <th>primary_uza_population</th>\n",
       "      <th>agency_voms</th>\n",
       "      <th>vehicle_type</th>\n",
       "      <th>years_old:</th>\n",
       "      <th>_13_15</th>\n",
       "      <th>_16_20</th>\n",
       "      <th>_21_25</th>\n",
       "      <th>_26_30</th>\n",
       "      <th>_31_60</th>\n",
       "      <th>_60+</th>\n",
       "      <th>total_vehicles</th>\n",
       "      <th>average_age_of_fleet__in_years_</th>\n",
       "      <th>average_lifetime_miles_per_vehicle</th>\n",
       "      <th>_0_9</th>\n",
       "      <th>_10_12</th>\n",
       "      <th>itp_id</th>\n",
       "      <th>gtfs_schedule_status</th>\n",
       "      <th>#_services_w__complete_rt_status</th>\n",
       "      <th>#_fixed_route_services_w__static_gtfs</th>\n",
       "      <th>complete_static_gtfs_coverage__1=yes_</th>\n",
       "      <th>complete_rt_coverage</th>\n",
       "      <th>&gt;=1_gtfs_feed_for_any_service__1=yes_</th>\n",
       "      <th>&gt;=_1_complete_rt_set__1=yes_</th>\n",
       "    </tr>\n",
       "  </thead>\n",
       "  <tbody>\n",
       "    <tr>\n",
       "      <th>0</th>\n",
       "      <td>0.276762</td>\n",
       "      <td>0_left</td>\n",
       "      <td>132_right</td>\n",
       "      <td>2011.0</td>\n",
       "      <td>Section 5311</td>\n",
       "      <td>CA-18-X047 | 0012000083</td>\n",
       "      <td>2016.0</td>\n",
       "      <td>City of Chowchilla</td>\n",
       "      <td>BCG0000228</td>\n",
       "      <td>Operating Assistance</td>\n",
       "      <td>300902</td>\n",
       "      <td>64BO17-00368</td>\n",
       "      <td>53221.0</td>\n",
       "      <td>114511.0</td>\n",
       "      <td>53221.0</td>\n",
       "      <td>0.0</td>\n",
       "      <td>0.0</td>\n",
       "      <td>Open</td>\n",
       "      <td>City of Chowchilla, dba: Chowchilla Area Transit</td>\n",
       "      <td>Chowchilla</td>\n",
       "      <td>CA</td>\n",
       "      <td>9R02-058</td>\n",
       "      <td>9R02-91071</td>\n",
       "      <td>City, County or Local Government Unit or Depar...</td>\n",
       "      <td>Rural Reporter</td>\n",
       "      <td>0.0</td>\n",
       "      <td>2.0</td>\n",
       "      <td>Cutaway</td>\n",
       "      <td>NaN</td>\n",
       "      <td>0.0</td>\n",
       "      <td>0.0</td>\n",
       "      <td>0.0</td>\n",
       "      <td>0.0</td>\n",
       "      <td>0.0</td>\n",
       "      <td>0.0</td>\n",
       "      <td>4.0</td>\n",
       "      <td>5.75</td>\n",
       "      <td>0.0</td>\n",
       "      <td>4.0</td>\n",
       "      <td>0.0</td>\n",
       "      <td>65.0</td>\n",
       "      <td>NaN</td>\n",
       "      <td>NaN</td>\n",
       "      <td>NaN</td>\n",
       "      <td>NaN</td>\n",
       "      <td>NaN</td>\n",
       "      <td>NaN</td>\n",
       "      <td>NaN</td>\n",
       "    </tr>\n",
       "  </tbody>\n",
       "</table>\n",
       "</div>"
      ],
      "text/plain": [
       "   best_match_score __id_left __id_right  grant_fiscal_year funding_program  \\\n",
       "0          0.276762    0_left  132_right             2011.0    Section 5311   \n",
       "\n",
       "              grant_number  project_year    organization_name        upin  \\\n",
       "0  CA-18-X047 | 0012000083        2016.0  City of Chowchilla   BCG0000228   \n",
       "\n",
       "            description     ali contract_number  allocationamount  \\\n",
       "0  Operating Assistance  300902    64BO17-00368           53221.0   \n",
       "\n",
       "   encumbered_amount  expendedamount  activebalance  closedoutbalance  \\\n",
       "0           114511.0         53221.0            0.0               0.0   \n",
       "\n",
       "  project_status                                             agency  \\\n",
       "0           Open  City of Chowchilla, dba: Chowchilla Area Transit    \n",
       "\n",
       "         city state legacy_ntd_id      ntd_id  \\\n",
       "0  Chowchilla    CA      9R02-058  9R02-91071   \n",
       "\n",
       "                                   organization_type   reporter_type  \\\n",
       "0  City, County or Local Government Unit or Depar...  Rural Reporter   \n",
       "\n",
       "   primary_uza_population  agency_voms vehicle_type  years_old:  _13_15  \\\n",
       "0                     0.0          2.0      Cutaway         NaN     0.0   \n",
       "\n",
       "   _16_20  _21_25  _26_30  _31_60  _60+  total_vehicles  \\\n",
       "0     0.0     0.0     0.0     0.0   0.0             4.0   \n",
       "\n",
       "   average_age_of_fleet__in_years_  average_lifetime_miles_per_vehicle  _0_9  \\\n",
       "0                             5.75                                 0.0   4.0   \n",
       "\n",
       "   _10_12  itp_id gtfs_schedule_status  #_services_w__complete_rt_status  \\\n",
       "0     0.0    65.0                  NaN                               NaN   \n",
       "\n",
       "   #_fixed_route_services_w__static_gtfs  \\\n",
       "0                                    NaN   \n",
       "\n",
       "   complete_static_gtfs_coverage__1=yes_  complete_rt_coverage  \\\n",
       "0                                    NaN                   NaN   \n",
       "\n",
       "   >=1_gtfs_feed_for_any_service__1=yes_  >=_1_complete_rt_set__1=yes_  \n",
       "0                                    NaN                           NaN  "
      ]
     },
     "execution_count": 42,
     "metadata": {},
     "output_type": "execute_result"
    }
   ],
   "source": [
    "black_cat_merged.head(1)"
   ]
  }
 ],
 "metadata": {
  "kernelspec": {
   "display_name": "Python 3 (ipykernel)",
   "language": "python",
   "name": "python3"
  },
  "language_info": {
   "codemirror_mode": {
    "name": "ipython",
    "version": 3
   },
   "file_extension": ".py",
   "mimetype": "text/x-python",
   "name": "python",
   "nbconvert_exporter": "python",
   "pygments_lexer": "ipython3",
   "version": "3.9.7"
  }
 },
 "nbformat": 4,
 "nbformat_minor": 5
}
