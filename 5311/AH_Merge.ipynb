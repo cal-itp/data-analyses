{
 "cells": [
  {
   "cell_type": "markdown",
   "id": "1382c77d-634a-4ca4-926e-e9eaf44d552f",
   "metadata": {},
   "source": [
    "# Testing merges "
   ]
  },
  {
   "cell_type": "code",
   "execution_count": null,
   "id": "e60b1121-c948-489c-b432-e3feb6b27d78",
   "metadata": {},
   "outputs": [],
   "source": [
    "import numpy as np\n",
    "import pandas as pd\n",
    "import math\n",
    "from siuba import *\n",
    "from calitp import *\n",
    "import intake\n",
    "import data_prep\n",
    "import fuzzymatcher\n",
    "pd.options.display.max_rows = 250"
   ]
  },
  {
   "cell_type": "code",
   "execution_count": null,
   "id": "0ede89be-4e8c-439c-8013-ce470d535dd2",
   "metadata": {},
   "outputs": [],
   "source": [
    "df_5311 = data_prep.load_grantprojects()\n",
    "vehicles = data_prep.load_cleaned_vehiclesdata()\n",
    "organizations = data_prep.load_cleaned_organizations_data()"
   ]
  },
  {
   "cell_type": "code",
   "execution_count": null,
   "id": "59b23e8b-c2b6-41f0-9ebe-cfa16a913d7b",
   "metadata": {},
   "outputs": [],
   "source": [
    "GTFS = data_prep.GTFS()"
   ]
  },
  {
   "cell_type": "markdown",
   "id": "9364796b-cd25-4b2a-bdd7-8f84f26187df",
   "metadata": {},
   "source": [
    "# Merge NTD with GTFS  --> vehicle_gtfs\n",
    "<b> NOTE</b>:\n",
    "I had to manually add NTD ID to the following agencies in the original CSV file called \"cleaned organizations.csv\"\n",
    "\n",
    "* Butte County Association of Governments\t90208\n",
    "* City of Dixon\t9402-91041\n",
    "* City of Fairfield\t90092\n",
    "* City of Ridgecrest\t9R02-91006\n",
    "* City of Wasco\t9R02-99426\n",
    "* Glenn County\t9R02-91088\n",
    "* Mariposa County\t9R02-91082\n",
    "* Modoc Transportation Authority \t9R02-91008\n",
    "* Palo Verde Valley Transit Agency\t9R02-99454\n",
    "* San Benito County Local Transportation Authority\t9R02-91009\n",
    "* San Joaquin Regional Transit District\t90012\n",
    "* Tuolumne County Transit Agency\t9402-035\n"
   ]
  },
  {
   "cell_type": "code",
   "execution_count": null,
   "id": "31b2b5a3-ef31-4464-89a5-4474751d6486",
   "metadata": {},
   "outputs": [],
   "source": [
    "#trying the iloc way \n",
    "organizations.loc[(organizations['name'] == 'Butte County Association of Governments'), \"ntd_id\"] = \"90208\"\n",
    "vehicles.loc[(vehicles['agency'] == 'Butte County Association of Governments'), \"ntd_id\"] = \"90208\"\n",
    "\n",
    "organizations.loc[(organizations['name'] == 'City of Fairfield'), \"ntd_id\"] = \"90092\"\n",
    "vehicles.loc[(vehicles['agency'] == 'City of Fairfield, California, dba: Fairfield and Suisun Transit'), \"ntd_id\"] = \"90092\""
   ]
  },
  {
   "cell_type": "code",
   "execution_count": null,
   "id": "3ce92448-f3c9-4bde-83ac-ebdf97475e26",
   "metadata": {
    "scrolled": true,
    "tags": []
   },
   "outputs": [],
   "source": [
    "#merging the 2 datasets together\n",
    "vehicles_gtfs = pd.merge(vehicles, organizations,  how='left', on=['ntd_id'], indicator=True)"
   ]
  },
  {
   "cell_type": "code",
   "execution_count": null,
   "id": "64e78fd8-1c89-4560-ad48-c93640063779",
   "metadata": {},
   "outputs": [],
   "source": [
    "vehicle_agencies = vehicles_gtfs['agency'].drop_duplicates().tolist()"
   ]
  },
  {
   "cell_type": "code",
   "execution_count": null,
   "id": "4874726e-5fce-4c5a-89e0-f3336585751b",
   "metadata": {},
   "outputs": [],
   "source": [
    "vehicles_gtfs['_merge'].value_counts()"
   ]
  },
  {
   "cell_type": "code",
   "execution_count": null,
   "id": "89143bdc-24c9-4551-b8f9-5bc141d75dc9",
   "metadata": {},
   "outputs": [],
   "source": [
    "vehicles_gtfs = vehicles_gtfs.drop(columns = ['_merge'])"
   ]
  },
  {
   "cell_type": "markdown",
   "id": "688c1efb-3b20-4a64-8a81-89f3505c4c1c",
   "metadata": {},
   "source": [
    "# Merging - the \"traditional\" way without fuzzy matcher (Use this!!)"
   ]
  },
  {
   "cell_type": "code",
   "execution_count": null,
   "id": "205aae2a-5258-4e00-91ec-224bead7828d",
   "metadata": {},
   "outputs": [],
   "source": [
    "#left merge, Black Cat on the left\n",
    "Test1 = pd.merge(df_5311, vehicles_gtfs,  how='left', left_on=['organization_name'], right_on=['name'], indicator=True)"
   ]
  },
  {
   "cell_type": "code",
   "execution_count": null,
   "id": "733387de-fa58-48ee-983d-09b6a9550c81",
   "metadata": {},
   "outputs": [],
   "source": [
    "# Counting left only and both\n",
    "Test1['_merge'].value_counts()"
   ]
  },
  {
   "cell_type": "code",
   "execution_count": null,
   "id": "0765ba0c-17f7-4e82-8f3a-07c5025472d7",
   "metadata": {},
   "outputs": [],
   "source": [
    "#finding the agencies that are in left only.\n",
    "Left_only = Test1[(Test1._merge.str.contains(\"left_only\", case= False))] \n",
    "Left_orgs = Left_only['organization_name'].drop_duplicates().tolist()"
   ]
  },
  {
   "cell_type": "code",
   "execution_count": null,
   "id": "28b086e2-a1f1-4fb6-82f2-5e302f3f66b2",
   "metadata": {},
   "outputs": [],
   "source": [
    "# Filter out left only matches\n",
    "m2 = Test1[~Test1.organization_name.isin(Left_orgs)]"
   ]
  },
  {
   "cell_type": "code",
   "execution_count": null,
   "id": "eb898f13-799d-4ea7-8305-641d860fd3bf",
   "metadata": {},
   "outputs": [],
   "source": [
    "#check that filter worked ok\n",
    "m2.shape"
   ]
  },
  {
   "cell_type": "markdown",
   "id": "c5d8feb0-5128-465e-8661-ca215f8daac2",
   "metadata": {},
   "source": [
    "### Failed Matches, crosswalk manually"
   ]
  },
  {
   "cell_type": "code",
   "execution_count": null,
   "id": "ce8571b0-6698-433c-ba7b-47c4184760c8",
   "metadata": {},
   "outputs": [],
   "source": [
    "#making a data frame with only failed merges out out of original Black Cat\n",
    "fail = df_5311[df_5311.organization_name.isin(Left_orgs)]"
   ]
  },
  {
   "cell_type": "code",
   "execution_count": null,
   "id": "4f216916-f35b-4ec9-8e04-e7df7ffee73a",
   "metadata": {},
   "outputs": [],
   "source": [
    "fail.shape"
   ]
  },
  {
   "cell_type": "code",
   "execution_count": null,
   "id": "5c78986a-8d62-438c-99a7-f47566eb8216",
   "metadata": {},
   "outputs": [],
   "source": [
    "#crosswalk dictionary for replacing organization name\n",
    "crosswalk = {'City of Chowchilla ': 'City of Chowchilla, dba: Chowchilla Area Transit ',\n",
    " 'City of Dinuba ':  'City of Dinuba',\n",
    " 'Modoc Transportation Agency': 'Modoc Transportation Agency',\n",
    " 'Butte County Association of Governments/ Butte Regional Transit': 'Butte County Association of Governments',\n",
    " 'Calaveras County Public Works':  'Calaveras Transit Agency',\n",
    " 'City of Escalon ':  'City of Escalon, dba: eTrans',\n",
    " 'County of Mariposa':  'Mariposa County Transit, dba: Mari-Go',\n",
    " 'County of Shasta Department of Public Works':  'County of Shasta Department of Public Works',\n",
    " 'County of Siskiyou': 'County of Siskiyou, dba: Siskiyou County Transit',\n",
    " 'County of Tulare': 'Tulare County Area Transit',\n",
    " 'Eureka Transit Service':  'City of Eureka, dba: Eureka Transit Service',\n",
    " 'Kern Regional Transit':  'Kern Regional Transit',\n",
    " 'Livermore Amador Valley Transit Authority':  'Livermore / Amador Valley Transit Authority',\n",
    " 'Placer County Public Works (TART & PCT)': 'County of Placer, dba: Placer County Department of Public Works',\n",
    " 'Plumas County Transportation Commission': 'Plumas County Transportation Commission',\n",
    " 'San Luis Obispo Regional Transit Authority':  'San Luis Obispo Regional Transit Authority',\n",
    " 'Sonoma County Transit':  'County of Sonoma, dba: Sonoma County Transit',\n",
    " 'Sunline Transit Agency':  'SunLine Transit Agency',\n",
    " 'Tehama County Transit Agency': 'Tehama County',\n",
    " 'Trinity County Department of Transportation ':  'Trinity County',\n",
    " 'Tuolumne County Transit Agency (TCTA)':  'Tuolumne County Transit',\n",
    " 'Amador Transit':  'Amador Regional Transit System',\n",
    " 'City of Corcoran - Corcoran Area Transit':  'City of Corcoran, dba: Corcoran Area Transit',\n",
    " 'Yosemite Area Regional Transportation System ':  'Yosemite Area Regional Transportation System',\n",
    " 'County Connection (Central Contra Costa Transit Authority)': 'Central Contra Costa Transit Authority, dba: COUNTY CONNECTION',\n",
    " 'Calaveras Transit Agency ': 'Calaveras Transit Agency'}"
   ]
  },
  {
   "cell_type": "code",
   "execution_count": null,
   "id": "f41883c5-5de9-423a-9edb-e4f54288b1c6",
   "metadata": {},
   "outputs": [],
   "source": [
    "#failed merges\n",
    "fail['organization_name'].replace(crosswalk, inplace= True)"
   ]
  },
  {
   "cell_type": "code",
   "execution_count": null,
   "id": "8f557654-a6a2-45f3-a6e8-14164a7bd98e",
   "metadata": {},
   "outputs": [],
   "source": [
    "#Merging the failed organizations to vehicles \n",
    "Test2 = pd.merge(fail, vehicles_gtfs,  how='left', left_on=['organization_name'], right_on=['agency'], indicator=True)"
   ]
  },
  {
   "cell_type": "code",
   "execution_count": null,
   "id": "82c35582-647b-4674-8319-36b6f03f5c79",
   "metadata": {},
   "outputs": [],
   "source": [
    "Test2['_merge'].value_counts()"
   ]
  },
  {
   "cell_type": "code",
   "execution_count": null,
   "id": "255d6bf7-c207-464d-8994-d1679bb6e80b",
   "metadata": {
    "scrolled": true,
    "tags": []
   },
   "outputs": [],
   "source": [
    "#Checking again \n",
    "Test2[(Test2.organization_name.str.contains(\"calaveras\", case= False))]"
   ]
  },
  {
   "cell_type": "code",
   "execution_count": null,
   "id": "b8745e10-f2d0-46d9-afe4-fa2bd4de9adb",
   "metadata": {},
   "outputs": [],
   "source": [
    "#finding the agencies that are in left only...make sure these are the ones we aren't sure have any matches.\n",
    "L_only_2 = Test2[(Test2._merge.str.contains(\"left_only\", case= False))]\n",
    "#find failed agencies \n",
    "L_only_2_orgs = L_only_2['organization_name'].drop_duplicates().tolist()"
   ]
  },
  {
   "cell_type": "code",
   "execution_count": null,
   "id": "2a4067e7-468d-4d44-84b7-790dcc5a06b9",
   "metadata": {},
   "outputs": [],
   "source": [
    "#deleting Klamath off since it has GTFS, we only want agencies that do not appear in both GTFS & NTD \n",
    "L_only_2_orgs = ['County of Los Angeles - Department of Public Works',\n",
    " 'County of Nevada Public Works, Transit Services Division',\n",
    " 'County of Sacramento Department of Transportation',\n",
    " 'Glenn County Transportation Commission',\n",
    " 'Stanislaus County Public Works - Transit Division',\n",
    " 'Alpine County Community Development',\n",
    " 'Fresno Council of Governments',\n",
    " 'Greyhound Lines, Inc.']"
   ]
  },
  {
   "cell_type": "code",
   "execution_count": null,
   "id": "efd9cd5d-a8c5-43ea-a732-0d58a4e6815c",
   "metadata": {},
   "outputs": [],
   "source": [
    "#appending failed matches to the first data frame\n",
    "BC_GTFS_NTD = m2.append(Test2, ignore_index=True)"
   ]
  },
  {
   "cell_type": "code",
   "execution_count": null,
   "id": "6b7ad0a1-43ed-4101-b2d9-74f58757b402",
   "metadata": {},
   "outputs": [],
   "source": [
    "#checking that rows match up\n",
    "BC_GTFS_NTD.shape"
   ]
  },
  {
   "cell_type": "code",
   "execution_count": null,
   "id": "53192718-4ef2-4468-95d4-5f17b93f9cc8",
   "metadata": {},
   "outputs": [],
   "source": [
    "#checking that organizations are here\n",
    "BC_GTFS_NTD['organization_name'].nunique()"
   ]
  },
  {
   "cell_type": "markdown",
   "id": "eda38931-d3c6-4d98-b37e-9d431a3b745d",
   "metadata": {},
   "source": [
    "### Flag for Black Cat Only"
   ]
  },
  {
   "cell_type": "code",
   "execution_count": null,
   "id": "acd174ab-639f-4ce2-b31e-56032cfcb16a",
   "metadata": {},
   "outputs": [],
   "source": [
    "def BC_only(row):\n",
    "    if row.organization_name in L_only_2_orgs:\n",
    "        return '1'\n",
    "    else: \n",
    "        return '0'  "
   ]
  },
  {
   "cell_type": "code",
   "execution_count": null,
   "id": "313b1714-c39c-42d3-bb12-684ef3731969",
   "metadata": {},
   "outputs": [],
   "source": [
    "BC_GTFS_NTD[\"Is_Agency_In_BC_Only_1_means_Yes\"] = BC_GTFS_NTD.apply(lambda x: BC_only(x), axis=1)"
   ]
  },
  {
   "cell_type": "code",
   "execution_count": null,
   "id": "92475f64-a486-4f85-9c59-4c542a72df6b",
   "metadata": {},
   "outputs": [],
   "source": [
    "#Checking again \n",
    "BC_GTFS_NTD[(BC_GTFS_NTD.organization_name.str.contains(\"greyhound\", case= False))].head(1)"
   ]
  },
  {
   "cell_type": "markdown",
   "id": "8c66a66f-cff9-48d4-bc47-731eaaa4f6cd",
   "metadata": {},
   "source": [
    "### Replacing Klamath\n",
    "* Klamath has GTFS but no NTD records"
   ]
  },
  {
   "cell_type": "code",
   "execution_count": null,
   "id": "4e2bba4d-64e8-437d-a9f2-3f44f8002175",
   "metadata": {},
   "outputs": [],
   "source": [
    "BC_GTFS_NTD.loc[(BC_GTFS_NTD['organization_name'] == 'Klamath Trinity Non-Emergency Transportation\\u200b'), \"itp_id\"] = \"436\"\n",
    "BC_GTFS_NTD.loc[(BC_GTFS_NTD['organization_name'] == 'Klamath Trinity Non-Emergency Transportation\\u200b'), \"gtfs_schedule_status\"] = \"needed\""
   ]
  },
  {
   "cell_type": "code",
   "execution_count": null,
   "id": "8baa6744-8408-49b7-8e49-7c740b3c4c85",
   "metadata": {},
   "outputs": [],
   "source": [
    "#Checking again \n",
    "BC_GTFS_NTD[(BC_GTFS_NTD.organization_name.str.contains(\"Klamath\", case= False))].head(1)"
   ]
  },
  {
   "cell_type": "code",
   "execution_count": null,
   "id": "3993425a-d771-4a51-9c31-1421223f72fa",
   "metadata": {},
   "outputs": [],
   "source": [
    "#drop  merge\n",
    "BC_GTFS_NTD = BC_GTFS_NTD.drop(columns=['_merge'])"
   ]
  },
  {
   "cell_type": "markdown",
   "id": "33ab74bd-bde5-444e-8818-d0402998e0fa",
   "metadata": {},
   "source": [
    "### Replacing GTFS with either ok or need"
   ]
  },
  {
   "cell_type": "code",
   "execution_count": null,
   "id": "c6df0e12-fd1f-49fd-99e1-28bf065ea609",
   "metadata": {},
   "outputs": [],
   "source": [
    "#Drop the columns that have lower \"both\" matches\n",
    "GTFS = GTFS.drop(columns=['name','operator'])\n",
    "#in script, delete later\n",
    "GTFS = GTFS.rename(columns = {'gtfs_schedule_status':'simple_GTFS_status'})     "
   ]
  },
  {
   "cell_type": "code",
   "execution_count": null,
   "id": "3707b015-25b6-491b-a793-49eb2e7c1dd0",
   "metadata": {},
   "outputs": [],
   "source": [
    "#in script, delete later\n",
    "GTFS = GTFS.dropna(subset=['simple_GTFS_status'])"
   ]
  },
  {
   "cell_type": "code",
   "execution_count": null,
   "id": "15b34ac6-1c5d-4a46-b0a3-b29df343ec26",
   "metadata": {},
   "outputs": [],
   "source": [
    "GTFS['provider'] = GTFS['provider'].str.replace('\"', \"\")"
   ]
  },
  {
   "cell_type": "code",
   "execution_count": null,
   "id": "196204c6-2cc3-49bc-a523-c29e3ce9e43e",
   "metadata": {
    "scrolled": true,
    "tags": []
   },
   "outputs": [],
   "source": [
    "#lots of agencies have duplicates due to service type\n",
    "GTFS['provider'].value_counts()"
   ]
  },
  {
   "cell_type": "code",
   "execution_count": null,
   "id": "d381ffb5-d2f0-4189-bbbd-b6965e53fc7e",
   "metadata": {},
   "outputs": [],
   "source": [
    "#keep the first occurence.\n",
    "GTFS.drop_duplicates(subset=['provider'], keep='first', inplace = True)"
   ]
  },
  {
   "cell_type": "code",
   "execution_count": null,
   "id": "e16336f4-fd8f-4e85-b5cc-3f1b4ed69bb7",
   "metadata": {},
   "outputs": [],
   "source": [
    "GTFS.shape"
   ]
  },
  {
   "cell_type": "code",
   "execution_count": null,
   "id": "61556186-541a-480e-bf15-728d7eead57c",
   "metadata": {},
   "outputs": [],
   "source": [
    "BC_GTFS_NTD2 = pd.merge(BC_GTFS_NTD, GTFS,  how='left', left_on = ['organization_name'], right_on = ['provider'], indicator = True)"
   ]
  },
  {
   "cell_type": "code",
   "execution_count": null,
   "id": "8d6e6923-af4f-4747-ab71-f237c6191b22",
   "metadata": {},
   "outputs": [],
   "source": [
    "BC_GTFS_NTD2['_merge'].value_counts()"
   ]
  },
  {
   "cell_type": "code",
   "execution_count": null,
   "id": "c1d9ec2d-21ff-43a4-af8a-56e61d33a76c",
   "metadata": {},
   "outputs": [],
   "source": [
    "BC_GTFS_NTD2['gtfs_status_final'] = BC_GTFS_NTD2.apply(lambda x: x.gtfs_schedule_status if (str(x.simple_GTFS_status) == 'nan') else x.simple_GTFS_status, axis=1)"
   ]
  },
  {
   "cell_type": "code",
   "execution_count": null,
   "id": "11b1cff3-9757-46a1-85da-62ca45a147ae",
   "metadata": {},
   "outputs": [],
   "source": [
    "#Checking again \n",
    "BC_GTFS_NTD2[(BC_GTFS_NTD2.organization_name.str.contains(\"Greyhound\", case= False))].head(1)"
   ]
  },
  {
   "cell_type": "code",
   "execution_count": null,
   "id": "b25c5dc8-a1f9-4be0-80b3-278ed22c9b1a",
   "metadata": {},
   "outputs": [],
   "source": [
    "BC_GTFS_NTD2.shape"
   ]
  },
  {
   "cell_type": "code",
   "execution_count": null,
   "id": "007fceea-462a-40a5-ac8a-8fe1f6677690",
   "metadata": {},
   "outputs": [],
   "source": [
    "#delete old columns\n",
    "BC_GTFS_NTD3 = BC_GTFS_NTD2.drop(columns=['simple_GTFS_status','_merge','legacy_ntd_id','years_old:','gtfs_schedule_status','provider','name'])"
   ]
  },
  {
   "cell_type": "code",
   "execution_count": null,
   "id": "f5bbaf28-0812-4211-8a15-c261f3f58937",
   "metadata": {},
   "outputs": [],
   "source": [
    "#get agencies without any data to show up (do this neater...)\n",
    "show_up = ['vehicle_groups','reporter_type','gtfs_status_final']\n",
    "\n",
    "for i in show_up:\n",
    "    BC_GTFS_NTD3[i] = BC_GTFS_NTD3[i].fillna('None')"
   ]
  },
  {
   "cell_type": "markdown",
   "id": "20384c75-ecd4-4888-8f3c-646c8d612e5e",
   "metadata": {},
   "source": [
    "BC_GTFS_NTD3['vehicle_groups'] = BC_GTFS_NTD3['vehicle_groups'].fillna('None')\n",
    "BC_GTFS_NTD3['reporter_type'] = BC_GTFS_NTD3['reporter_type'].fillna('None')\n",
    "BC_GTFS_NTD3['gtfs_status_final'] = BC_GTFS_NTD3['gtfs_status_final'].fillna('None')"
   ]
  },
  {
   "cell_type": "code",
   "execution_count": null,
   "id": "b8edf555-a415-4b9a-bb10-6ff1368910b2",
   "metadata": {},
   "outputs": [],
   "source": [
    "#Adding to GCS\n",
    "#BC_GTFS_NTD3.to_csv(\"gs://calitp-analytics-data/data-analyses/5311 /BC_GTFS_NTD.csv\", index= False)"
   ]
  },
  {
   "cell_type": "code",
   "execution_count": null,
   "id": "2f0864d6-92eb-4aec-9f53-583cebb8f859",
   "metadata": {},
   "outputs": [],
   "source": [
    "Aggregate1 = BC_GTFS_NTD3.groupby(['organization_name','reporter_type','gtfs_status_final', 'Is_Agency_In_BC_Only_1_means_Yes','vehicle_groups',]).agg({'_0_9':'max', '_10_12':'max','_13_15':'max',\n",
    "       '_16_20':'max', '_21_25':'max', '_26_30':'max', '_31_60':'max', '_60+':'max'\n",
    "})"
   ]
  },
  {
   "cell_type": "code",
   "execution_count": null,
   "id": "781cd57d-23e7-45fe-8f6b-699ac46715dc",
   "metadata": {
    "scrolled": true,
    "tags": []
   },
   "outputs": [],
   "source": [
    "Aggregate1"
   ]
  },
  {
   "cell_type": "markdown",
   "id": "67788fcb-c551-4036-b0ea-450191f23e44",
   "metadata": {},
   "source": [
    "# Don't Use This: Merging Black Cat with vehicles_gtfs"
   ]
  },
  {
   "cell_type": "code",
   "execution_count": null,
   "id": "d4a2e235-afa0-4a9c-8678-7e62ba499205",
   "metadata": {},
   "outputs": [],
   "source": [
    "right_on = [\"agency\"]\n",
    "left_on = [\"organization_name\"]"
   ]
  },
  {
   "cell_type": "code",
   "execution_count": null,
   "id": "07b518c0-4806-4102-9bd0-d93a8c127de7",
   "metadata": {},
   "outputs": [],
   "source": [
    "black_cat1 = fuzzymatcher.fuzzy_left_join(df_5311, vehicles_gtfs, left_on, right_on)"
   ]
  },
  {
   "cell_type": "code",
   "execution_count": null,
   "id": "c71c15da-0988-4c5d-896d-a72d4da31c3c",
   "metadata": {},
   "outputs": [],
   "source": [
    "unique_agencies = black_cat1[['best_match_score','organization_name','agency']]\n",
    "unique_agencies = unique_agencies.drop_duplicates()"
   ]
  },
  {
   "cell_type": "code",
   "execution_count": null,
   "id": "30c508d8-ff2a-4b03-bffd-8eb397d41c8f",
   "metadata": {
    "scrolled": true,
    "tags": []
   },
   "outputs": [],
   "source": [
    "unique_agencies.sort_values('best_match_score')"
   ]
  },
  {
   "cell_type": "code",
   "execution_count": null,
   "id": "1d038e2f-baef-4d30-b0e4-ed9c81248c55",
   "metadata": {},
   "outputs": [],
   "source": [
    "#stuff to filter out before cutting off at scores...\n",
    "bad_matches_before_cutoff = ['County of Los Angeles - Department of Public Works', 'County of Sacramento Department of Transportation']"
   ]
  },
  {
   "cell_type": "code",
   "execution_count": null,
   "id": "3c77868b-9bf5-4928-97b5-704cae56a238",
   "metadata": {},
   "outputs": [],
   "source": [
    "#filter out a bunch the agencies above\n",
    "black_cat2 = black_cat1[~black_cat1.organization_name.isin(bad_matches_before_cutoff)]"
   ]
  },
  {
   "cell_type": "code",
   "execution_count": null,
   "id": "951a8a31-3e20-4629-9aa5-bc31bce198bc",
   "metadata": {
    "scrolled": true,
    "tags": []
   },
   "outputs": [],
   "source": [
    "#filter out for any scores below 0.19\n",
    "black_cat2 = black_cat2.loc[black_cat2['best_match_score'] > 0.19 ]"
   ]
  },
  {
   "cell_type": "code",
   "execution_count": null,
   "id": "b1065ca3-f7cf-4980-9b60-e93017a91005",
   "metadata": {},
   "outputs": [],
   "source": [
    "#total agencies that matched over with decent scores\n",
    "black_cat2['organization_name'].nunique()"
   ]
  },
  {
   "cell_type": "markdown",
   "id": "fbd38360-cc98-4005-abaf-f650361b19e6",
   "metadata": {},
   "source": [
    "## Walking back in the other agencies that were cut into a seperate dataframe"
   ]
  },
  {
   "cell_type": "code",
   "execution_count": null,
   "id": "15cbb94d-e02c-4dc8-8ef9-685270f982e7",
   "metadata": {},
   "outputs": [],
   "source": [
    "#getting a list of agencies with bad scores\n",
    "bad_fuzzy_matches = black_cat1.loc[black_cat1['best_match_score'] < 0.19 ]"
   ]
  },
  {
   "cell_type": "code",
   "execution_count": null,
   "id": "8d01a5fd-5371-4199-bc29-03aa1eca6de1",
   "metadata": {},
   "outputs": [],
   "source": [
    "bad_fuzzy_matches = bad_fuzzy_matches[['organization_name','agency', 'ntd_id']]"
   ]
  },
  {
   "cell_type": "code",
   "execution_count": null,
   "id": "53f3d131-05c4-48ed-becf-4cfd824d8c90",
   "metadata": {},
   "outputs": [],
   "source": [
    "bad_fuzzy_matches = bad_fuzzy_matches.drop_duplicates()"
   ]
  },
  {
   "cell_type": "code",
   "execution_count": null,
   "id": "eaa4e7e5-49b6-479f-8244-ad7af0e025c1",
   "metadata": {},
   "outputs": [],
   "source": [
    "#making a manual crosswalk\n",
    "#bad_fuzzy_matches.to_csv(\"./bad_fuzzy_matches.csv\", index = False) "
   ]
  },
  {
   "cell_type": "code",
   "execution_count": null,
   "id": "e180e511-a606-465e-b3de-ec8ad50e3efd",
   "metadata": {},
   "outputs": [],
   "source": [
    "#reading crosswalk 3, what I manually inputted\n",
    "crosswalk3 = pd.read_excel('corrected_bad_fuzzy_match.xlsx')"
   ]
  },
  {
   "cell_type": "code",
   "execution_count": null,
   "id": "282fc3c4-5061-43b6-889e-41cb229d05d6",
   "metadata": {},
   "outputs": [],
   "source": [
    "#crosswalk on the left, I only want a dataframe with the poorly matched agencies\n",
    "unmatched = crosswalk3.merge(df_5311, on=['organization_name'],  how='left')"
   ]
  },
  {
   "cell_type": "code",
   "execution_count": null,
   "id": "91f75078-67e8-4db0-9885-14e429a8f531",
   "metadata": {},
   "outputs": [],
   "source": [
    "#now grabbing vehicles and GTFS info on the left\n",
    "unmatched2 = unmatched.merge(vehicles_gtfs, on=['agency','ntd_id'],  how='left')"
   ]
  },
  {
   "cell_type": "markdown",
   "id": "273d55d1-f4c0-4237-850c-c83cf849900b",
   "metadata": {},
   "source": [
    "## R bind the badly matched columns back"
   ]
  },
  {
   "cell_type": "code",
   "execution_count": null,
   "id": "d9ac0a9b-51f1-433c-af22-93a68e3a85aa",
   "metadata": {},
   "outputs": [],
   "source": [
    "GTFS_Vehicles_BC = black_cat2.append(pd.DataFrame(data = unmatched2), ignore_index=True)"
   ]
  },
  {
   "cell_type": "code",
   "execution_count": null,
   "id": "5cd26e5b-a415-4cdd-a419-d45b1a90abe8",
   "metadata": {},
   "outputs": [],
   "source": [
    "GTFS_Vehicles_BC.shape"
   ]
  },
  {
   "cell_type": "code",
   "execution_count": null,
   "id": "0c65f69e-4b7e-49b6-bb92-8d53974f57eb",
   "metadata": {},
   "outputs": [],
   "source": [
    "\n",
    "GTFS_Vehicles_BC[(GTFS_Vehicles_BC.organization_name.str.contains(\"livermore\", case= False))]"
   ]
  },
  {
   "cell_type": "markdown",
   "id": "fb812475-a3f2-464e-b063-8332220ad1ec",
   "metadata": {},
   "source": [
    "# Final Clean Up"
   ]
  },
  {
   "cell_type": "markdown",
   "id": "f7ae48bd-2575-4962-8d82-524511a847ac",
   "metadata": {
    "tags": []
   },
   "source": [
    "## One last check to make sure all the names are there\n",
    "<b> Still having issues with </b>\n",
    "* Butte\n",
    "* Fairfield\n",
    "* Tuolumne \n",
    "\n",
    "<b> Inherently, aren't sure if these agencies correspond with any GTFS & NTD records</b> \n",
    "\n",
    "* Alpine County\n",
    "* Fresno Council of Gov\n",
    "* Greyhound\n",
    "* County of LA\n",
    "* City of Tehachapi\n",
    "* Calaveras County Public Works\n",
    "* County of Nevada Public Works\n",
    "* County of Shasta Department of Public Works\n",
    "* Glenn County Transportation Commission\n",
    "* Tehama County Transit Agency\n",
    "\n",
    "<b> Has GTFS but no NTD </b>\n",
    "* Klamath Trinity Non-Emergency Transportationâ€\n",
    "\n",
    "<b> Has NTD no GTFS </b>\n",
    "* Calaveras Transit Agency"
   ]
  },
  {
   "cell_type": "code",
   "execution_count": null,
   "id": "d47b045e-e4c4-4035-b21e-a91eedbe675f",
   "metadata": {
    "scrolled": true,
    "tags": []
   },
   "outputs": [],
   "source": [
    "Names = GTFS_Vehicles_BC[['organization_name','agency','ntd_id','itp_id','gtfs_schedule_status']]\n",
    "Names = Names.drop_duplicates()\n",
    "#Names.sort_values('organization_name')"
   ]
  },
  {
   "cell_type": "code",
   "execution_count": null,
   "id": "9b100828-031c-4ff5-8c5f-ac59e6e55771",
   "metadata": {},
   "outputs": [],
   "source": [
    "Names.isna().sum()"
   ]
  },
  {
   "cell_type": "code",
   "execution_count": null,
   "id": "643c6037-b14e-483b-af67-64ea9ca06b0e",
   "metadata": {},
   "outputs": [],
   "source": [
    "Names['organization_name'].nunique()"
   ]
  },
  {
   "cell_type": "markdown",
   "id": "900f434a-c119-4e04-8332-69f0b5366133",
   "metadata": {},
   "source": [
    "## Fill in Missing Values - Loops\n",
    "* https://stackoverflow.com/questions/51097981/fill-column-of-a-dataframe-from-another-dataframe\n",
    "* https://www.kite.com/python/answers/how-to-create-a-pandas-dataframe-from-columns-in-other-dataframes-in-python\n",
    "* https://www.kite.com/python/answers/how-to-fill-a-pandas-dataframe-row-by-row-in-python\n",
    "* https://www.geeksforgeeks.org/replace-values-of-a-dataframe-with-the-value-of-another-dataframe-in-pandas/"
   ]
  },
  {
   "cell_type": "code",
   "execution_count": null,
   "id": "72875561-362c-41c6-a8fe-130559fbb7fe",
   "metadata": {},
   "outputs": [],
   "source": [
    "#only including  columns just belonging to df where GTFS and vehicles merged. \n",
    "v_gtfs_subset = vehicles_gtfs[['agency','ntd_id',\n",
    "       'organization_type', 'reporter_type', 'primary_uza_population',\n",
    "       'agency_voms', 'vehicle_type', 'years_old:', '_13_15', '_16_20',\n",
    "       '_21_25', '_26_30', '_31_60', '_60+', 'total_vehicles',\n",
    "       'average_age_of_fleet__in_years_', 'average_lifetime_miles_per_vehicle',\n",
    "       '_0_9', '_10_12', 'vehicle_groups', 'name', 'itp_id',\n",
    "       'gtfs_schedule_status']]"
   ]
  },
  {
   "cell_type": "code",
   "execution_count": null,
   "id": "282cd5f1-4cc1-4eac-869e-af67734fec2a",
   "metadata": {},
   "outputs": [],
   "source": [
    "#subsetting only for agencies that aren't matching\n",
    "subset_agencies = ['Butte County Association of Governments','City of Fairfield, California, dba: Fairfield and Suisun Transit','Tuolumne County Transit']\n",
    "subset1 = vehicles_gtfs[vehicles_gtfs.agency.isin(subset_agencies)]"
   ]
  },
  {
   "cell_type": "code",
   "execution_count": null,
   "id": "16a945ac-d333-437a-95aa-33acdff62f3b",
   "metadata": {},
   "outputs": [],
   "source": [
    "#subset for organizations that aren't matching\n",
    "subset_orgs = ['Butte County Association of Governments/ Butte Regional Transit','City of Fairfield','Tuolumne County Transit Agency (TCTA)']"
   ]
  },
  {
   "cell_type": "code",
   "execution_count": null,
   "id": "615fc1fd-146f-472d-842d-1463042cb699",
   "metadata": {},
   "outputs": [],
   "source": [
    "#only including  columns just belonging to blackcat data\n",
    "subset2 = GTFS_Vehicles_BC[GTFS_Vehicles_BC.organization_name.isin(subset_orgs)]\n",
    "subset2 = subset2[['best_match_score', '__id_left', '__id_right', 'grant_fiscal_year',\n",
    "       'funding_program', 'grant_number', 'project_year', 'organization_name',\n",
    "       'upin', 'description', 'ali', 'contract_number', 'allocationamount',\n",
    "       'encumbered_amount', 'expendedamount', 'activebalance',\n",
    "       'closedoutbalance', 'project_status','agency']]"
   ]
  },
  {
   "cell_type": "code",
   "execution_count": null,
   "id": "87cac89d-d97e-46ce-a882-017f03f72a24",
   "metadata": {},
   "outputs": [],
   "source": [
    "#Tuolumne has no agency name, fill it in\n",
    "subset2.agency = subset2.agency.fillna('Tuolumne County Transit')"
   ]
  },
  {
   "cell_type": "code",
   "execution_count": null,
   "id": "e6a2fb99-2936-4609-b220-e26daed9c4c5",
   "metadata": {},
   "outputs": [],
   "source": [
    "subset3 = pd.merge(subset1, subset2,  how='inner', on=['agency'])"
   ]
  },
  {
   "cell_type": "code",
   "execution_count": null,
   "id": "a2e06945-84ae-4716-ac72-097774a5477f",
   "metadata": {},
   "outputs": [],
   "source": [
    "#delete the original fairfield, tuolumne, and butte info\n",
    "GTFS_Vehicles_BC = GTFS_Vehicles_BC[~GTFS_Vehicles_BC.organization_name.isin(subset_orgs)]"
   ]
  },
  {
   "cell_type": "code",
   "execution_count": null,
   "id": "749755a8-2f8a-4741-b80f-32c138b0f77a",
   "metadata": {},
   "outputs": [],
   "source": [
    "#append our dataframe subset 3 in\n",
    "GTFS_Vehicles_BC = GTFS_Vehicles_BC.append(subset3, ignore_index=True)"
   ]
  },
  {
   "cell_type": "markdown",
   "id": "7e711ea7-cba7-4a89-857f-0baa260f939c",
   "metadata": {},
   "source": [
    "#### Klamath has ITP data but no NTD data. Have to add it manually"
   ]
  },
  {
   "cell_type": "code",
   "execution_count": null,
   "id": "cb1a4b1a-997f-4d6c-938c-0f133336407e",
   "metadata": {},
   "outputs": [],
   "source": [
    "GTFS_Vehicles_BC.loc[(GTFS_Vehicles_BC['organization_name'] == 'Klamath Trinity Non-Emergency Transportation\\u200b'), \"itp_id\"] = \"436\"\n",
    "GTFS_Vehicles_BC.loc[(GTFS_Vehicles_BC['organization_name'] == 'Klamath Trinity Non-Emergency Transportation\\u200b'), \"gtfs_schedule_status\"] = \"needed\""
   ]
  },
  {
   "cell_type": "code",
   "execution_count": null,
   "id": "8a36836a-4691-47d2-8868-9c8c9b366ea3",
   "metadata": {},
   "outputs": [],
   "source": [
    "GTFS_Vehicles_BC.shape"
   ]
  },
  {
   "cell_type": "markdown",
   "id": "ede52eb0-a2e6-434a-a69b-3a90e8bb57a1",
   "metadata": {},
   "source": [
    "## Generate a column that indicates that the rows that only appear in Black Cat "
   ]
  },
  {
   "cell_type": "code",
   "execution_count": null,
   "id": "dcbbd53e-4dad-485e-9dfd-f7fdc32ad043",
   "metadata": {},
   "outputs": [],
   "source": [
    "missing_list = Names[Names.isna().any(axis=1)]"
   ]
  },
  {
   "cell_type": "code",
   "execution_count": null,
   "id": "9ff95537-732f-4d0c-bf1c-62a9ebad8e4c",
   "metadata": {},
   "outputs": [],
   "source": [
    "BC_only = missing_list[['organization_name']]\n",
    "BC_only=BC_only.values.tolist()"
   ]
  },
  {
   "cell_type": "code",
   "execution_count": null,
   "id": "926d334c-8a96-45c7-93ed-e71054731173",
   "metadata": {},
   "outputs": [],
   "source": [
    "BC_only = ['County of Los Angeles - Department of Public Works','Greyhound Lines, Inc.','Alpine County Community Development',\n",
    "'Fresno Council of Governments','Tehama County Transit Agency','Glenn County Transportation Commission',\n",
    "'Stanislaus County Public Works - Transit Division','County Connection (Central Contra Costa Transit Authority)','County of Nevada Public Works, Transit Services Division',\n",
    "'City of Tehachapi','Calaveras County Public Works']"
   ]
  },
  {
   "cell_type": "code",
   "execution_count": null,
   "id": "96eef81c-4609-4a6f-863f-8e1ee17bd3c8",
   "metadata": {},
   "outputs": [],
   "source": [
    "def flag_for_BC(row):\n",
    "    if row.organization_name in BC_only:\n",
    "        return '1'\n",
    "    else: \n",
    "        return '0'     "
   ]
  },
  {
   "cell_type": "code",
   "execution_count": null,
   "id": "1c3a9459-f34b-4bcf-bc4d-2847d31aa860",
   "metadata": {},
   "outputs": [],
   "source": [
    "GTFS_Vehicles_BC[\"Is_Agency_In_BC_Only_1_means_Yes\"] = GTFS_Vehicles_BC.apply(lambda x: flag_for_BC(x), axis=1)"
   ]
  },
  {
   "cell_type": "markdown",
   "id": "9056f9b3-dd79-4d46-92e5-cd5e908eb8de",
   "metadata": {},
   "source": [
    "## Replacing GTFS with more simple data - Help how come this gives us such a crazy number of new rows?\n",
    "* This data frame didn't have NTD IDS, but they do have a more definitive GTFS status like \"ok\" or \"needed.\"\n",
    "* Using provider, as that gives us the most matches for \"both\"\n",
    "* How come this gives us such a crazy number of new rows?\n"
   ]
  },
  {
   "cell_type": "code",
   "execution_count": null,
   "id": "285270ff-3659-4a07-a81b-f5150a79c311",
   "metadata": {},
   "outputs": [],
   "source": [
    "GTFS_Vehicles_BC2 = pd.merge(GTFS_Vehicles_BC, GTFS,  how='left', on = ['name'], indicator=True)"
   ]
  },
  {
   "cell_type": "code",
   "execution_count": null,
   "id": "1bdab237-0add-49df-8788-35759bff9d7c",
   "metadata": {},
   "outputs": [],
   "source": [
    "GTFS_Vehicles_BC2['_merge'].value_counts()"
   ]
  },
  {
   "cell_type": "code",
   "execution_count": null,
   "id": "13927c53-e9ae-4ac7-b3d0-38a9c7f8f6cc",
   "metadata": {},
   "outputs": [],
   "source": [
    "GTFS_Vehicles_BC2['gtfs_status_final'] = GTFS_Vehicles_BC2.apply(lambda x: x.gtfs_schedule_status if (str(x.simple_GTFS_status) == 'nan') else x.simple_GTFS_status\t, axis=1)"
   ]
  },
  {
   "cell_type": "code",
   "execution_count": null,
   "id": "7426307b-fd31-4263-970c-98efd612b0f4",
   "metadata": {},
   "outputs": [],
   "source": [
    "GTFS_Vehicles_BC2.sample(3)"
   ]
  },
  {
   "cell_type": "markdown",
   "id": "328f3eff-996e-4f62-8c3e-9cb741e5a9b0",
   "metadata": {},
   "source": [
    "## Final preview\n",
    "* Deleted a few things: agency, state, legacy_id, years old\n"
   ]
  },
  {
   "cell_type": "code",
   "execution_count": null,
   "id": "387d8fec-75ce-48fb-bdb5-1c46b57165f9",
   "metadata": {},
   "outputs": [],
   "source": [
    "GTFS_Vehicles_BC2 = GTFS_Vehicles_BC2.drop(columns=['best_match_score', '__id_left', '__id_right','state', 'legacy_ntd_id', 'years_old:','simple_GTFS_status','gtfs_schedule_status','agency','name'])"
   ]
  },
  {
   "cell_type": "code",
   "execution_count": null,
   "id": "7fe2bccb-4a53-496c-b4dd-951944fa14be",
   "metadata": {},
   "outputs": [],
   "source": [
    "GTFS_Vehicles_BC2.head(1)"
   ]
  },
  {
   "cell_type": "code",
   "execution_count": null,
   "id": "9f0774e6-f7e9-4805-b3f7-a48c76a05b9d",
   "metadata": {},
   "outputs": [],
   "source": [
    "GTFS_Vehicles_BC2.duplicated().sum()"
   ]
  },
  {
   "cell_type": "code",
   "execution_count": null,
   "id": "a785ccff-f8d6-49eb-bb14-e12dd98b0c97",
   "metadata": {},
   "outputs": [],
   "source": [
    "GTFS_Vehicles_BC2 =GTFS_Vehicles_BC2.drop_duplicates()"
   ]
  },
  {
   "cell_type": "code",
   "execution_count": null,
   "id": "5c22ccf9-5bd5-44b7-8115-5ed57a7d37d5",
   "metadata": {},
   "outputs": [],
   "source": [
    "GTFS_Vehicles_BC2.shape"
   ]
  },
  {
   "cell_type": "code",
   "execution_count": null,
   "id": "a087e6ed-e65e-44c5-8154-2298cc02b050",
   "metadata": {},
   "outputs": [],
   "source": [
    "GTFS_Vehicles_BC2['organization_name'].nunique()"
   ]
  },
  {
   "cell_type": "code",
   "execution_count": null,
   "id": "e3407fc7-79a7-4480-8074-192dc706a72a",
   "metadata": {
    "scrolled": true,
    "tags": []
   },
   "outputs": [],
   "source": [
    "GTFS_Vehicles_BC2.isna().sum()"
   ]
  },
  {
   "cell_type": "code",
   "execution_count": null,
   "id": "5df0d7a9-c0f2-46bf-8e7e-0e594a31e9ff",
   "metadata": {
    "scrolled": true,
    "tags": []
   },
   "outputs": [],
   "source": [
    "GTFS_Vehicles_BC2.organization_name.value_counts()"
   ]
  },
  {
   "cell_type": "code",
   "execution_count": null,
   "id": "4635aeb5-117e-48d3-86d3-bd02aba2a04d",
   "metadata": {},
   "outputs": [],
   "source": [
    "#writing to GCS bucket\n",
    "#GTFS_Vehicles_BC2.to_csv(\"gs://calitp-analytics-data/data-analyses/5311 /GTFS_Vehicles_BC.csv\", index= False)"
   ]
  }
 ],
 "metadata": {
  "kernelspec": {
   "display_name": "Python 3 (ipykernel)",
   "language": "python",
   "name": "python3"
  },
  "language_info": {
   "codemirror_mode": {
    "name": "ipython",
    "version": 3
   },
   "file_extension": ".py",
   "mimetype": "text/x-python",
   "name": "python",
   "nbconvert_exporter": "python",
   "pygments_lexer": "ipython3",
   "version": "3.9.7"
  }
 },
 "nbformat": 4,
 "nbformat_minor": 5
}
