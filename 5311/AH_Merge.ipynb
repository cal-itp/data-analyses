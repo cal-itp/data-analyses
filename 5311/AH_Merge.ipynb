{
 "cells": [
  {
   "cell_type": "markdown",
   "id": "1382c77d-634a-4ca4-926e-e9eaf44d552f",
   "metadata": {},
   "source": [
    "# Testing merges "
   ]
  },
  {
   "cell_type": "code",
   "execution_count": 1,
   "id": "e60b1121-c948-489c-b432-e3feb6b27d78",
   "metadata": {},
   "outputs": [
    {
     "name": "stderr",
     "output_type": "stream",
     "text": [
      "/opt/conda/lib/python3.9/site-packages/geopandas/_compat.py:111: UserWarning: The Shapely GEOS version (3.9.1-CAPI-1.14.2) is incompatible with the GEOS version PyGEOS was compiled with (3.10.1-CAPI-1.16.0). Conversions between both will be slow.\n"
     ]
    }
   ],
   "source": [
    "import numpy as np\n",
    "import pandas as pd\n",
    "import math\n",
    "from siuba import *\n",
    "from calitp import *\n",
    "import intake\n",
    "import data_prep\n",
    "import fuzzymatcher\n",
    "pd.options.display.max_rows = 250"
   ]
  },
  {
   "cell_type": "code",
   "execution_count": 2,
   "id": "0ede89be-4e8c-439c-8013-ce470d535dd2",
   "metadata": {},
   "outputs": [
    {
     "name": "stderr",
     "output_type": "stream",
     "text": [
      "/home/jovyan/data-analyses/5311/data_prep.py:61: SettingWithCopyWarning: \n",
      "A value is trying to be set on a copy of a slice from a DataFrame.\n",
      "Try using .loc[row_indexer,col_indexer] = value instead\n",
      "\n",
      "See the caveats in the documentation: https://pandas.pydata.org/pandas-docs/stable/user_guide/indexing.html#returning-a-view-versus-a-copy\n",
      "/home/jovyan/data-analyses/5311/data_prep.py:63: SettingWithCopyWarning: \n",
      "A value is trying to be set on a copy of a slice from a DataFrame.\n",
      "Try using .loc[row_indexer,col_indexer] = value instead\n",
      "\n",
      "See the caveats in the documentation: https://pandas.pydata.org/pandas-docs/stable/user_guide/indexing.html#returning-a-view-versus-a-copy\n"
     ]
    }
   ],
   "source": [
    "df_5311 = data_prep.load_grantprojects()\n",
    "vehicles = data_prep.load_cleaned_vehiclesdata()\n",
    "organizations = data_prep.load_cleaned_organizations_data()"
   ]
  },
  {
   "cell_type": "code",
   "execution_count": 3,
   "id": "59b23e8b-c2b6-41f0-9ebe-cfa16a913d7b",
   "metadata": {},
   "outputs": [],
   "source": [
    "GTFS = data_prep.GTFS()"
   ]
  },
  {
   "cell_type": "markdown",
   "id": "9364796b-cd25-4b2a-bdd7-8f84f26187df",
   "metadata": {},
   "source": [
    "# Merge NTD with GTFS  --> vehicle_gtfs\n",
    "<b> NOTE</b>:\n",
    "I had to manually add NTD ID to the following agencies in the original CSV file called \"cleaned organizations.csv\"\n",
    "\n",
    "* Butte County Association of Governments\t90208\n",
    "* City of Dixon\t9402-91041\n",
    "* City of Fairfield\t90092\n",
    "* City of Ridgecrest\t9R02-91006\n",
    "* City of Wasco\t9R02-99426\n",
    "* Glenn County\t9R02-91088\n",
    "* Mariposa County\t9R02-91082\n",
    "* Modoc Transportation Authority \t9R02-91008\n",
    "* Palo Verde Valley Transit Agency\t9R02-99454\n",
    "* San Benito County Local Transportation Authority\t9R02-91009\n",
    "* San Joaquin Regional Transit District\t90012\n",
    "* Tuolumne County Transit Agency\t9402-035\n"
   ]
  },
  {
   "cell_type": "code",
   "execution_count": 4,
   "id": "31b2b5a3-ef31-4464-89a5-4474751d6486",
   "metadata": {},
   "outputs": [],
   "source": [
    "#trying the iloc way \n",
    "organizations.loc[(organizations['name'] == 'Butte County Association of Governments'), \"ntd_id\"] = \"90208\"\n",
    "vehicles.loc[(vehicles['agency'] == 'Butte County Association of Governments'), \"ntd_id\"] = \"90208\"\n",
    "\n",
    "organizations.loc[(organizations['name'] == 'City of Fairfield'), \"ntd_id\"] = \"90092\"\n",
    "vehicles.loc[(vehicles['agency'] == 'City of Fairfield, California, dba: Fairfield and Suisun Transit'), \"ntd_id\"] = \"90092\""
   ]
  },
  {
   "cell_type": "code",
   "execution_count": 5,
   "id": "3ce92448-f3c9-4bde-83ac-ebdf97475e26",
   "metadata": {
    "scrolled": true,
    "tags": []
   },
   "outputs": [],
   "source": [
    "#merging the 2 datasets together\n",
    "vehicles_gtfs = pd.merge(vehicles, organizations,  how='left', on=['ntd_id'], indicator=True)"
   ]
  },
  {
   "cell_type": "code",
   "execution_count": 6,
   "id": "4874726e-5fce-4c5a-89e0-f3336585751b",
   "metadata": {},
   "outputs": [
    {
     "data": {
      "text/plain": [
       "both          646\n",
       "left_only      59\n",
       "right_only      0\n",
       "Name: _merge, dtype: int64"
      ]
     },
     "execution_count": 6,
     "metadata": {},
     "output_type": "execute_result"
    }
   ],
   "source": [
    "vehicles_gtfs['_merge'].value_counts()"
   ]
  },
  {
   "cell_type": "code",
   "execution_count": 7,
   "id": "89143bdc-24c9-4551-b8f9-5bc141d75dc9",
   "metadata": {},
   "outputs": [],
   "source": [
    "vehicles_gtfs = vehicles_gtfs.drop(columns = ['_merge'])"
   ]
  },
  {
   "cell_type": "code",
   "execution_count": 48,
   "id": "5415e553-91f7-4df7-9782-0461a4612159",
   "metadata": {},
   "outputs": [
    {
     "data": {
      "text/html": [
       "<div>\n",
       "<style scoped>\n",
       "    .dataframe tbody tr th:only-of-type {\n",
       "        vertical-align: middle;\n",
       "    }\n",
       "\n",
       "    .dataframe tbody tr th {\n",
       "        vertical-align: top;\n",
       "    }\n",
       "\n",
       "    .dataframe thead th {\n",
       "        text-align: right;\n",
       "    }\n",
       "</style>\n",
       "<table border=\"1\" class=\"dataframe\">\n",
       "  <thead>\n",
       "    <tr style=\"text-align: right;\">\n",
       "      <th></th>\n",
       "      <th>agency</th>\n",
       "      <th>city</th>\n",
       "      <th>state</th>\n",
       "      <th>legacy_ntd_id</th>\n",
       "      <th>ntd_id</th>\n",
       "      <th>organization_type</th>\n",
       "      <th>reporter_type</th>\n",
       "      <th>primary_uza_population</th>\n",
       "      <th>agency_voms</th>\n",
       "      <th>vehicle_type</th>\n",
       "      <th>years_old:</th>\n",
       "      <th>_13_15</th>\n",
       "      <th>_16_20</th>\n",
       "      <th>_21_25</th>\n",
       "      <th>_26_30</th>\n",
       "      <th>_31_60</th>\n",
       "      <th>_60+</th>\n",
       "      <th>total_vehicles</th>\n",
       "      <th>average_age_of_fleet__in_years_</th>\n",
       "      <th>average_lifetime_miles_per_vehicle</th>\n",
       "      <th>_0_9</th>\n",
       "      <th>_10_12</th>\n",
       "      <th>vehicle_groups</th>\n",
       "      <th>name</th>\n",
       "      <th>itp_id</th>\n",
       "      <th>gtfs_schedule_status</th>\n",
       "    </tr>\n",
       "  </thead>\n",
       "  <tbody>\n",
       "    <tr>\n",
       "      <th>295</th>\n",
       "      <td>Butte County Association of Governments</td>\n",
       "      <td>Chico</td>\n",
       "      <td>CA</td>\n",
       "      <td>9208</td>\n",
       "      <td>90208</td>\n",
       "      <td>MPO, COG or Other Planning Agency</td>\n",
       "      <td>Full Reporter</td>\n",
       "      <td>98176</td>\n",
       "      <td>44</td>\n",
       "      <td>Cutaway</td>\n",
       "      <td>NaN</td>\n",
       "      <td>0</td>\n",
       "      <td>0</td>\n",
       "      <td>0</td>\n",
       "      <td>0</td>\n",
       "      <td>0</td>\n",
       "      <td>0</td>\n",
       "      <td>24</td>\n",
       "      <td>6.250000</td>\n",
       "      <td>131700.750</td>\n",
       "      <td>20</td>\n",
       "      <td>4</td>\n",
       "      <td>Van</td>\n",
       "      <td>Butte County Association of Governments</td>\n",
       "      <td>47.0</td>\n",
       "      <td>ok,needed</td>\n",
       "    </tr>\n",
       "    <tr>\n",
       "      <th>296</th>\n",
       "      <td>Butte County Association of Governments</td>\n",
       "      <td>Chico</td>\n",
       "      <td>CA</td>\n",
       "      <td>9208</td>\n",
       "      <td>90208</td>\n",
       "      <td>MPO, COG or Other Planning Agency</td>\n",
       "      <td>Full Reporter</td>\n",
       "      <td>98176</td>\n",
       "      <td>44</td>\n",
       "      <td>Bus</td>\n",
       "      <td>NaN</td>\n",
       "      <td>0</td>\n",
       "      <td>0</td>\n",
       "      <td>0</td>\n",
       "      <td>0</td>\n",
       "      <td>0</td>\n",
       "      <td>0</td>\n",
       "      <td>29</td>\n",
       "      <td>6.206897</td>\n",
       "      <td>268894.931</td>\n",
       "      <td>24</td>\n",
       "      <td>5</td>\n",
       "      <td>Bus</td>\n",
       "      <td>Butte County Association of Governments</td>\n",
       "      <td>47.0</td>\n",
       "      <td>ok,needed</td>\n",
       "    </tr>\n",
       "  </tbody>\n",
       "</table>\n",
       "</div>"
      ],
      "text/plain": [
       "                                      agency   city state legacy_ntd_id  \\\n",
       "295  Butte County Association of Governments  Chico    CA          9208   \n",
       "296  Butte County Association of Governments  Chico    CA          9208   \n",
       "\n",
       "    ntd_id                  organization_type  reporter_type  \\\n",
       "295  90208  MPO, COG or Other Planning Agency  Full Reporter   \n",
       "296  90208  MPO, COG or Other Planning Agency  Full Reporter   \n",
       "\n",
       "     primary_uza_population  agency_voms vehicle_type  years_old:  _13_15  \\\n",
       "295                   98176           44      Cutaway         NaN       0   \n",
       "296                   98176           44          Bus         NaN       0   \n",
       "\n",
       "     _16_20  _21_25  _26_30  _31_60  _60+  total_vehicles  \\\n",
       "295       0       0       0       0     0              24   \n",
       "296       0       0       0       0     0              29   \n",
       "\n",
       "     average_age_of_fleet__in_years_  average_lifetime_miles_per_vehicle  \\\n",
       "295                         6.250000                          131700.750   \n",
       "296                         6.206897                          268894.931   \n",
       "\n",
       "     _0_9  _10_12 vehicle_groups                                     name  \\\n",
       "295    20       4            Van  Butte County Association of Governments   \n",
       "296    24       5            Bus  Butte County Association of Governments   \n",
       "\n",
       "     itp_id gtfs_schedule_status  \n",
       "295    47.0            ok,needed  \n",
       "296    47.0            ok,needed  "
      ]
     },
     "execution_count": 48,
     "metadata": {},
     "output_type": "execute_result"
    }
   ],
   "source": [
    "vehicles_gtfs.head(2)\n",
    "vehicles_gtfs[(vehicles_gtfs.agency.str.contains(\"Butte\", case= False))]"
   ]
  },
  {
   "cell_type": "markdown",
   "id": "67788fcb-c551-4036-b0ea-450191f23e44",
   "metadata": {},
   "source": [
    "# Merging Black Cat with vehicles_gtfs"
   ]
  },
  {
   "cell_type": "code",
   "execution_count": 9,
   "id": "d4a2e235-afa0-4a9c-8678-7e62ba499205",
   "metadata": {},
   "outputs": [],
   "source": [
    "right_on = [\"agency\"]\n",
    "left_on = [\"organization_name\"]"
   ]
  },
  {
   "cell_type": "code",
   "execution_count": 10,
   "id": "07b518c0-4806-4102-9bd0-d93a8c127de7",
   "metadata": {},
   "outputs": [],
   "source": [
    "black_cat1 = fuzzymatcher.fuzzy_left_join(df_5311, vehicles_gtfs, left_on, right_on)"
   ]
  },
  {
   "cell_type": "code",
   "execution_count": 11,
   "id": "c71c15da-0988-4c5d-896d-a72d4da31c3c",
   "metadata": {},
   "outputs": [],
   "source": [
    "unique_agencies = black_cat1[['best_match_score','organization_name','agency']]\n",
    "unique_agencies = unique_agencies.drop_duplicates()"
   ]
  },
  {
   "cell_type": "code",
   "execution_count": 12,
   "id": "30c508d8-ff2a-4b03-bffd-8eb397d41c8f",
   "metadata": {
    "scrolled": true,
    "tags": []
   },
   "outputs": [],
   "source": [
    "#unique_agencies.sort_values('best_match_score')"
   ]
  },
  {
   "cell_type": "code",
   "execution_count": 13,
   "id": "1d038e2f-baef-4d30-b0e4-ed9c81248c55",
   "metadata": {},
   "outputs": [],
   "source": [
    "#stuff to filter out before cutting off at scores...\n",
    "subset3 = ['County of Los Angeles - Department of Public Works', 'County of Sacramento Department of Transportation']"
   ]
  },
  {
   "cell_type": "code",
   "execution_count": 14,
   "id": "3c77868b-9bf5-4928-97b5-704cae56a238",
   "metadata": {},
   "outputs": [],
   "source": [
    "#filter out a bunch the agencies above\n",
    "black_cat2 = black_cat1[~black_cat1.organization_name.isin(subset3)]"
   ]
  },
  {
   "cell_type": "code",
   "execution_count": 15,
   "id": "951a8a31-3e20-4629-9aa5-bc31bce198bc",
   "metadata": {
    "scrolled": true,
    "tags": []
   },
   "outputs": [],
   "source": [
    "#filter out for any scores below 0.19\n",
    "black_cat2 = black_cat2.loc[black_cat2['best_match_score'] > 0.19 ]"
   ]
  },
  {
   "cell_type": "code",
   "execution_count": 16,
   "id": "b1065ca3-f7cf-4980-9b60-e93017a91005",
   "metadata": {},
   "outputs": [
    {
     "data": {
      "text/plain": [
       "65"
      ]
     },
     "execution_count": 16,
     "metadata": {},
     "output_type": "execute_result"
    }
   ],
   "source": [
    "#total agencies that matched over with decent scores\n",
    "black_cat2['organization_name'].nunique()"
   ]
  },
  {
   "cell_type": "markdown",
   "id": "fbd38360-cc98-4005-abaf-f650361b19e6",
   "metadata": {},
   "source": [
    "## Walking back in the other agencies that were cut into a seperate dataframe"
   ]
  },
  {
   "cell_type": "code",
   "execution_count": 17,
   "id": "15cbb94d-e02c-4dc8-8ef9-685270f982e7",
   "metadata": {},
   "outputs": [],
   "source": [
    "#getting a list of agencies with bad scores\n",
    "bad_fuzzy_matches = black_cat1.loc[black_cat1['best_match_score'] < 0.19 ]"
   ]
  },
  {
   "cell_type": "code",
   "execution_count": 18,
   "id": "8d01a5fd-5371-4199-bc29-03aa1eca6de1",
   "metadata": {},
   "outputs": [],
   "source": [
    "bad_fuzzy_matches = bad_fuzzy_matches[['organization_name','agency', 'ntd_id']]"
   ]
  },
  {
   "cell_type": "code",
   "execution_count": 19,
   "id": "53f3d131-05c4-48ed-becf-4cfd824d8c90",
   "metadata": {},
   "outputs": [],
   "source": [
    "bad_fuzzy_matches = bad_fuzzy_matches.drop_duplicates()"
   ]
  },
  {
   "cell_type": "code",
   "execution_count": 20,
   "id": "eaa4e7e5-49b6-479f-8244-ad7af0e025c1",
   "metadata": {},
   "outputs": [],
   "source": [
    "#making a manual crosswalk\n",
    "#bad_fuzzy_matches.to_csv(\"./bad_fuzzy_matches.csv\", index = False) "
   ]
  },
  {
   "cell_type": "code",
   "execution_count": 21,
   "id": "e180e511-a606-465e-b3de-ec8ad50e3efd",
   "metadata": {},
   "outputs": [],
   "source": [
    "#reading crosswalk 3, what I manually inputted\n",
    "crosswalk3 = pd.read_excel('corrected_bad_fuzzy_match.xlsx')"
   ]
  },
  {
   "cell_type": "code",
   "execution_count": 22,
   "id": "282fc3c4-5061-43b6-889e-41cb229d05d6",
   "metadata": {},
   "outputs": [],
   "source": [
    "#crosswalk on the left, I only want a dataframe with the poorly matched agencies\n",
    "unmatched = crosswalk3.merge(df_5311, on=['organization_name'],  how='left')"
   ]
  },
  {
   "cell_type": "code",
   "execution_count": 23,
   "id": "91f75078-67e8-4db0-9885-14e429a8f531",
   "metadata": {},
   "outputs": [],
   "source": [
    "#now grabbing vehicles and GTFS info on the left\n",
    "unmatched2 = unmatched.merge(vehicles_gtfs, on=['agency','ntd_id'],  how='left')"
   ]
  },
  {
   "cell_type": "markdown",
   "id": "273d55d1-f4c0-4237-850c-c83cf849900b",
   "metadata": {},
   "source": [
    "## R bind the badly matched columns back"
   ]
  },
  {
   "cell_type": "code",
   "execution_count": 24,
   "id": "d9ac0a9b-51f1-433c-af22-93a68e3a85aa",
   "metadata": {},
   "outputs": [],
   "source": [
    "GTFS_Vehicles_BC = black_cat2.append(pd.DataFrame(data = unmatched2), ignore_index=True)"
   ]
  },
  {
   "cell_type": "code",
   "execution_count": 25,
   "id": "5cd26e5b-a415-4cdd-a419-d45b1a90abe8",
   "metadata": {},
   "outputs": [
    {
     "data": {
      "text/plain": [
       "(927, 44)"
      ]
     },
     "execution_count": 25,
     "metadata": {},
     "output_type": "execute_result"
    }
   ],
   "source": [
    "GTFS_Vehicles_BC.shape"
   ]
  },
  {
   "cell_type": "markdown",
   "id": "fb812475-a3f2-464e-b063-8332220ad1ec",
   "metadata": {},
   "source": [
    "# Final Clean Up"
   ]
  },
  {
   "cell_type": "markdown",
   "id": "f7ae48bd-2575-4962-8d82-524511a847ac",
   "metadata": {
    "tags": []
   },
   "source": [
    "## One last check to make sure all the names are there\n",
    "<b> Still having issues with </b>\n",
    "* Butte\n",
    "* Fairfield\n",
    "* Tuolumne \n",
    "\n",
    "<b> Inherently, aren't sure if these agencies correspond with any GTFS & NTD records</b> \n",
    "\n",
    "* Alpine County\n",
    "* Fresno Council of Gov\n",
    "* Greyhound\n",
    "* County of LA\n",
    "* City of Tehachapi\n",
    "* Calaveras County Work\n",
    "* County of Nevada Public Works\n",
    "* County of Shasta Department of Public Works\n",
    "* Glenn County Transportation Commission\n",
    "* Tehama County Transit Agency\n",
    "\n",
    "<b> Has GTFS but no NTD </b>\n",
    "* Klamath Trinity Non-Emergency Transportationâ€\n",
    "\n",
    "<b> Has NTD no GFS </b>\n",
    "* Calaveras Transit Agency"
   ]
  },
  {
   "cell_type": "code",
   "execution_count": 26,
   "id": "d47b045e-e4c4-4035-b21e-a91eedbe675f",
   "metadata": {
    "scrolled": true,
    "tags": []
   },
   "outputs": [],
   "source": [
    "Names = GTFS_Vehicles_BC[['organization_name','agency','ntd_id','itp_id','gtfs_schedule_status']]\n",
    "Names = Names.drop_duplicates()\n",
    "#Names.sort_values('organization_name')"
   ]
  },
  {
   "cell_type": "code",
   "execution_count": 27,
   "id": "9b100828-031c-4ff5-8c5f-ac59e6e55771",
   "metadata": {},
   "outputs": [
    {
     "data": {
      "text/plain": [
       "organization_name        0\n",
       "agency                  11\n",
       "ntd_id                  10\n",
       "itp_id                  18\n",
       "gtfs_schedule_status    18\n",
       "dtype: int64"
      ]
     },
     "execution_count": 27,
     "metadata": {},
     "output_type": "execute_result"
    }
   ],
   "source": [
    "Names.isna().sum()"
   ]
  },
  {
   "cell_type": "code",
   "execution_count": 49,
   "id": "643c6037-b14e-483b-af67-64ea9ca06b0e",
   "metadata": {},
   "outputs": [
    {
     "data": {
      "text/plain": [
       "87"
      ]
     },
     "execution_count": 49,
     "metadata": {},
     "output_type": "execute_result"
    }
   ],
   "source": [
    "Names['organization_name'].nunique()"
   ]
  },
  {
   "cell_type": "markdown",
   "id": "ede52eb0-a2e6-434a-a69b-3a90e8bb57a1",
   "metadata": {},
   "source": [
    "## Generate a column that indicates that the rows that only appear in Black Cat "
   ]
  },
  {
   "cell_type": "code",
   "execution_count": 28,
   "id": "f522bb17-8def-4968-9109-9d2e399a003b",
   "metadata": {},
   "outputs": [],
   "source": [
    "missing_list = Names[Names.isna().any(axis=1)]"
   ]
  },
  {
   "cell_type": "code",
   "execution_count": 29,
   "id": "a5f8f9c0-4186-4119-bab3-288462b28b34",
   "metadata": {},
   "outputs": [],
   "source": [
    "BC_only = missing_list[['organization_name']]\n",
    "BC_only=BC_only.values.tolist()"
   ]
  },
  {
   "cell_type": "code",
   "execution_count": 30,
   "id": "6169a64a-3349-471a-a537-4760878eedd2",
   "metadata": {},
   "outputs": [],
   "source": [
    "BC_only = ['County of Los Angeles - Department of Public Works','Greyhound Lines, Inc.','Alpine County Community Development',\n",
    "'Fresno Council of Governments','Tehama County Transit Agency','Glenn County Transportation Commission','Stanislaus County Public Works - Transit Division','County Connection (Central Contra Costa Transit Authority)','County of Nevada Public Works, Transit Services Division',\n",
    "'City of Tehachapi']"
   ]
  },
  {
   "cell_type": "code",
   "execution_count": 31,
   "id": "6fb18feb-d425-403a-aab1-dd63b7faea52",
   "metadata": {},
   "outputs": [
    {
     "data": {
      "text/plain": [
       "10"
      ]
     },
     "execution_count": 31,
     "metadata": {},
     "output_type": "execute_result"
    }
   ],
   "source": [
    "len(BC_only)"
   ]
  },
  {
   "cell_type": "code",
   "execution_count": 32,
   "id": "e44ebe59-ffdd-4fae-9261-14df96a7e8c4",
   "metadata": {},
   "outputs": [],
   "source": [
    "def flag_for_BC(row):\n",
    "    if row.organization_name in BC_only:\n",
    "        return '1'\n",
    "    else: \n",
    "        return '0'                    "
   ]
  },
  {
   "cell_type": "code",
   "execution_count": 33,
   "id": "2f05d0b8-ba02-482a-9253-d8f4fe93c8fa",
   "metadata": {},
   "outputs": [],
   "source": [
    "GTFS_Vehicles_BC[\"Is_Agency_In_BC_Only_1_means_Yes\"] = GTFS_Vehicles_BC.apply(lambda x: flag_for_BC(x), axis=1)"
   ]
  },
  {
   "cell_type": "markdown",
   "id": "900f434a-c119-4e04-8332-69f0b5366133",
   "metadata": {},
   "source": [
    "## Fill in Missing Values - Loops\n",
    "* https://stackoverflow.com/questions/51097981/fill-column-of-a-dataframe-from-another-dataframe\n",
    "* https://www.kite.com/python/answers/how-to-create-a-pandas-dataframe-from-columns-in-other-dataframes-in-python\n",
    "* https://www.kite.com/python/answers/how-to-fill-a-pandas-dataframe-row-by-row-in-python\n",
    "* https://www.geeksforgeeks.org/replace-values-of-a-dataframe-with-the-value-of-another-dataframe-in-pandas/"
   ]
  },
  {
   "cell_type": "code",
   "execution_count": 34,
   "id": "72875561-362c-41c6-a8fe-130559fbb7fe",
   "metadata": {},
   "outputs": [],
   "source": [
    "v_gtfs_subset = vehicles_gtfs[['agency','ntd_id',\n",
    "       'organization_type', 'reporter_type', 'primary_uza_population',\n",
    "       'agency_voms', 'vehicle_type', 'years_old:', '_13_15', '_16_20',\n",
    "       '_21_25', '_26_30', '_31_60', '_60+', 'total_vehicles',\n",
    "       'average_age_of_fleet__in_years_', 'average_lifetime_miles_per_vehicle',\n",
    "       '_0_9', '_10_12', 'vehicle_groups', 'name', 'itp_id',\n",
    "       'gtfs_schedule_status']]"
   ]
  },
  {
   "cell_type": "code",
   "execution_count": 35,
   "id": "282cd5f1-4cc1-4eac-869e-af67734fec2a",
   "metadata": {},
   "outputs": [],
   "source": [
    "subset_agencies = ['Butte County Association of Governments','City of Fairfield, California, dba: Fairfield and Suisun Transit']\n",
    "subset1 = vehicles_gtfs[vehicles_gtfs.agency.isin(subset_agencies)]"
   ]
  },
  {
   "cell_type": "code",
   "execution_count": 36,
   "id": "615fc1fd-146f-472d-842d-1463042cb699",
   "metadata": {},
   "outputs": [],
   "source": [
    "subset2 = GTFS_Vehicles_BC[GTFS_Vehicles_BC.agency.isin(subset_agencies)]\n",
    "subset2 = subset2[['best_match_score', '__id_left', '__id_right', 'grant_fiscal_year',\n",
    "       'funding_program', 'grant_number', 'project_year', 'organization_name',\n",
    "       'upin', 'description', 'ali', 'contract_number', 'allocationamount',\n",
    "       'encumbered_amount', 'expendedamount', 'activebalance',\n",
    "       'closedoutbalance', 'project_status','agency']]"
   ]
  },
  {
   "cell_type": "code",
   "execution_count": 37,
   "id": "e6a2fb99-2936-4609-b220-e26daed9c4c5",
   "metadata": {},
   "outputs": [],
   "source": [
    "subset3 = pd.merge(subset1, subset2,  how='outer', on=['agency'])"
   ]
  },
  {
   "cell_type": "code",
   "execution_count": 38,
   "id": "cfee060c-7063-4d7c-829f-e64eb241f0c0",
   "metadata": {
    "scrolled": true,
    "tags": []
   },
   "outputs": [
    {
     "data": {
      "text/plain": [
       "(32, 44)"
      ]
     },
     "execution_count": 38,
     "metadata": {},
     "output_type": "execute_result"
    }
   ],
   "source": [
    "subset3.shape"
   ]
  },
  {
   "cell_type": "code",
   "execution_count": 39,
   "id": "0f6953b7-ed87-4b56-8266-b0cfbca3e224",
   "metadata": {},
   "outputs": [
    {
     "data": {
      "text/html": [
       "<div>\n",
       "<style scoped>\n",
       "    .dataframe tbody tr th:only-of-type {\n",
       "        vertical-align: middle;\n",
       "    }\n",
       "\n",
       "    .dataframe tbody tr th {\n",
       "        vertical-align: top;\n",
       "    }\n",
       "\n",
       "    .dataframe thead th {\n",
       "        text-align: right;\n",
       "    }\n",
       "</style>\n",
       "<table border=\"1\" class=\"dataframe\">\n",
       "  <thead>\n",
       "    <tr style=\"text-align: right;\">\n",
       "      <th></th>\n",
       "      <th>best_match_score</th>\n",
       "      <th>__id_left</th>\n",
       "      <th>__id_right</th>\n",
       "      <th>grant_fiscal_year</th>\n",
       "      <th>funding_program</th>\n",
       "      <th>grant_number</th>\n",
       "      <th>project_year</th>\n",
       "      <th>organization_name</th>\n",
       "      <th>upin</th>\n",
       "      <th>description</th>\n",
       "      <th>ali</th>\n",
       "      <th>contract_number</th>\n",
       "      <th>allocationamount</th>\n",
       "      <th>encumbered_amount</th>\n",
       "      <th>expendedamount</th>\n",
       "      <th>activebalance</th>\n",
       "      <th>closedoutbalance</th>\n",
       "      <th>project_status</th>\n",
       "      <th>agency</th>\n",
       "      <th>city</th>\n",
       "      <th>state</th>\n",
       "      <th>legacy_ntd_id</th>\n",
       "      <th>ntd_id</th>\n",
       "      <th>organization_type</th>\n",
       "      <th>reporter_type</th>\n",
       "      <th>primary_uza_population</th>\n",
       "      <th>agency_voms</th>\n",
       "      <th>vehicle_type</th>\n",
       "      <th>years_old:</th>\n",
       "      <th>_13_15</th>\n",
       "      <th>_16_20</th>\n",
       "      <th>_21_25</th>\n",
       "      <th>_26_30</th>\n",
       "      <th>_31_60</th>\n",
       "      <th>_60+</th>\n",
       "      <th>total_vehicles</th>\n",
       "      <th>average_age_of_fleet__in_years_</th>\n",
       "      <th>average_lifetime_miles_per_vehicle</th>\n",
       "      <th>_0_9</th>\n",
       "      <th>_10_12</th>\n",
       "      <th>vehicle_groups</th>\n",
       "      <th>name</th>\n",
       "      <th>itp_id</th>\n",
       "      <th>gtfs_schedule_status</th>\n",
       "      <th>Is_Agency_In_BC_Only_1_means_Yes</th>\n",
       "    </tr>\n",
       "  </thead>\n",
       "  <tbody>\n",
       "    <tr>\n",
       "      <th>676</th>\n",
       "      <td>NaN</td>\n",
       "      <td>NaN</td>\n",
       "      <td>NaN</td>\n",
       "      <td>2016</td>\n",
       "      <td>Section 5311</td>\n",
       "      <td>CA-2017-025 | 0017000158</td>\n",
       "      <td>2016</td>\n",
       "      <td>City of Dixon</td>\n",
       "      <td>BCG0000163</td>\n",
       "      <td>Operating Assistance</td>\n",
       "      <td>300902</td>\n",
       "      <td>64BO17-00371</td>\n",
       "      <td>183266.0</td>\n",
       "      <td>183266.0</td>\n",
       "      <td>183266.0</td>\n",
       "      <td>0.0</td>\n",
       "      <td>0</td>\n",
       "      <td>Open</td>\n",
       "      <td>City of Dixon, dba: Readi-Ride</td>\n",
       "      <td>Dixon</td>\n",
       "      <td>CA</td>\n",
       "      <td>9R02-006</td>\n",
       "      <td>9R02-91041</td>\n",
       "      <td>City, County or Local Government Unit or Depar...</td>\n",
       "      <td>Rural Reporter</td>\n",
       "      <td>0.0</td>\n",
       "      <td>9.0</td>\n",
       "      <td>Minivan</td>\n",
       "      <td>NaN</td>\n",
       "      <td>0.0</td>\n",
       "      <td>0.0</td>\n",
       "      <td>0.0</td>\n",
       "      <td>0.0</td>\n",
       "      <td>0.0</td>\n",
       "      <td>0.0</td>\n",
       "      <td>2.0</td>\n",
       "      <td>10.000</td>\n",
       "      <td>0.0</td>\n",
       "      <td>0.0</td>\n",
       "      <td>2.0</td>\n",
       "      <td>Van</td>\n",
       "      <td>City of Dixon</td>\n",
       "      <td>94.0</td>\n",
       "      <td>needed</td>\n",
       "      <td>0</td>\n",
       "    </tr>\n",
       "    <tr>\n",
       "      <th>677</th>\n",
       "      <td>NaN</td>\n",
       "      <td>NaN</td>\n",
       "      <td>NaN</td>\n",
       "      <td>2016</td>\n",
       "      <td>Section 5311</td>\n",
       "      <td>CA-2017-025 | 0017000158</td>\n",
       "      <td>2016</td>\n",
       "      <td>City of Dixon</td>\n",
       "      <td>BCG0000163</td>\n",
       "      <td>Operating Assistance</td>\n",
       "      <td>300902</td>\n",
       "      <td>64BO17-00371</td>\n",
       "      <td>183266.0</td>\n",
       "      <td>183266.0</td>\n",
       "      <td>183266.0</td>\n",
       "      <td>0.0</td>\n",
       "      <td>0</td>\n",
       "      <td>Open</td>\n",
       "      <td>City of Dixon, dba: Readi-Ride</td>\n",
       "      <td>Dixon</td>\n",
       "      <td>CA</td>\n",
       "      <td>9R02-006</td>\n",
       "      <td>9R02-91041</td>\n",
       "      <td>City, County or Local Government Unit or Depar...</td>\n",
       "      <td>Rural Reporter</td>\n",
       "      <td>0.0</td>\n",
       "      <td>9.0</td>\n",
       "      <td>Cutaway</td>\n",
       "      <td>NaN</td>\n",
       "      <td>0.0</td>\n",
       "      <td>0.0</td>\n",
       "      <td>0.0</td>\n",
       "      <td>0.0</td>\n",
       "      <td>0.0</td>\n",
       "      <td>0.0</td>\n",
       "      <td>8.0</td>\n",
       "      <td>5.625</td>\n",
       "      <td>0.0</td>\n",
       "      <td>8.0</td>\n",
       "      <td>0.0</td>\n",
       "      <td>Van</td>\n",
       "      <td>City of Dixon</td>\n",
       "      <td>94.0</td>\n",
       "      <td>needed</td>\n",
       "      <td>0</td>\n",
       "    </tr>\n",
       "  </tbody>\n",
       "</table>\n",
       "</div>"
      ],
      "text/plain": [
       "     best_match_score __id_left __id_right  grant_fiscal_year funding_program  \\\n",
       "676               NaN       NaN        NaN               2016    Section 5311   \n",
       "677               NaN       NaN        NaN               2016    Section 5311   \n",
       "\n",
       "                 grant_number  project_year organization_name        upin  \\\n",
       "676  CA-2017-025 | 0017000158          2016     City of Dixon  BCG0000163   \n",
       "677  CA-2017-025 | 0017000158          2016     City of Dixon  BCG0000163   \n",
       "\n",
       "               description     ali contract_number  allocationamount  \\\n",
       "676  Operating Assistance   300902    64BO17-00371          183266.0   \n",
       "677  Operating Assistance   300902    64BO17-00371          183266.0   \n",
       "\n",
       "     encumbered_amount  expendedamount  activebalance  closedoutbalance  \\\n",
       "676           183266.0        183266.0            0.0                 0   \n",
       "677           183266.0        183266.0            0.0                 0   \n",
       "\n",
       "    project_status                          agency   city state legacy_ntd_id  \\\n",
       "676           Open  City of Dixon, dba: Readi-Ride  Dixon    CA      9R02-006   \n",
       "677           Open  City of Dixon, dba: Readi-Ride  Dixon    CA      9R02-006   \n",
       "\n",
       "         ntd_id                                  organization_type  \\\n",
       "676  9R02-91041  City, County or Local Government Unit or Depar...   \n",
       "677  9R02-91041  City, County or Local Government Unit or Depar...   \n",
       "\n",
       "      reporter_type  primary_uza_population  agency_voms vehicle_type  \\\n",
       "676  Rural Reporter                     0.0          9.0      Minivan   \n",
       "677  Rural Reporter                     0.0          9.0      Cutaway   \n",
       "\n",
       "     years_old:  _13_15  _16_20  _21_25  _26_30  _31_60  _60+  total_vehicles  \\\n",
       "676         NaN     0.0     0.0     0.0     0.0     0.0   0.0             2.0   \n",
       "677         NaN     0.0     0.0     0.0     0.0     0.0   0.0             8.0   \n",
       "\n",
       "     average_age_of_fleet__in_years_  average_lifetime_miles_per_vehicle  \\\n",
       "676                           10.000                                 0.0   \n",
       "677                            5.625                                 0.0   \n",
       "\n",
       "     _0_9  _10_12 vehicle_groups           name  itp_id gtfs_schedule_status  \\\n",
       "676   0.0     2.0            Van  City of Dixon    94.0               needed   \n",
       "677   8.0     0.0            Van  City of Dixon    94.0               needed   \n",
       "\n",
       "    Is_Agency_In_BC_Only_1_means_Yes  \n",
       "676                                0  \n",
       "677                                0  "
      ]
     },
     "execution_count": 39,
     "metadata": {},
     "output_type": "execute_result"
    }
   ],
   "source": [
    "GTFS_Vehicles_BC[(GTFS_Vehicles_BC.organization_name.str.contains(\"Dixon\", case= False))].head(2)"
   ]
  },
  {
   "cell_type": "markdown",
   "id": "7e711ea7-cba7-4a89-857f-0baa260f939c",
   "metadata": {},
   "source": [
    "#### Klamath has ITP data but no NTD data. Have to add it manually"
   ]
  },
  {
   "cell_type": "code",
   "execution_count": 40,
   "id": "cb1a4b1a-997f-4d6c-938c-0f133336407e",
   "metadata": {},
   "outputs": [],
   "source": [
    "GTFS_Vehicles_BC.loc[(GTFS_Vehicles_BC['organization_name'] == 'Klamath Trinity Non-Emergency Transportation\\u200b'), \"itp_id\"] = \"436\"\n",
    "GTFS_Vehicles_BC.loc[(GTFS_Vehicles_BC['organization_name'] == 'Klamath Trinity Non-Emergency Transportation\\u200b'), \"gtfs_schedule_status\"] = \"needed\""
   ]
  },
  {
   "cell_type": "markdown",
   "id": "9056f9b3-dd79-4d46-92e5-cd5e908eb8de",
   "metadata": {},
   "source": [
    "## Replacing GTFS with more simple data\n",
    "* This data frame didn't have NTD IDS, but they do have a more definitive GTFS status like \"ok\" or \"needed.\"\n",
    "* Using operator instead of provider and name because more gtfs_simple_status matches (502 verus 520 versus 830 ish)\n"
   ]
  },
  {
   "cell_type": "code",
   "execution_count": 41,
   "id": "99cc2dc5-4270-446f-be40-cd2cf9d4d6f2",
   "metadata": {},
   "outputs": [],
   "source": [
    "GTFS.head(1)\n",
    "GTFS = GTFS.rename(columns = {'gtfs_schedule_status':'simple_GTFS_status'})"
   ]
  },
  {
   "cell_type": "code",
   "execution_count": 42,
   "id": "285270ff-3659-4a07-a81b-f5150a79c311",
   "metadata": {},
   "outputs": [],
   "source": [
    "GTFS_Vehicles_BC2 = pd.merge(GTFS_Vehicles_BC, GTFS,  how='left', left_on = ['organization_name'], right_on=['operator'], indicator=True)"
   ]
  },
  {
   "cell_type": "code",
   "execution_count": 43,
   "id": "13927c53-e9ae-4ac7-b3d0-38a9c7f8f6cc",
   "metadata": {},
   "outputs": [],
   "source": [
    "GTFS_Vehicles_BC2['gtfs_status_final'] = GTFS_Vehicles_BC2.apply(lambda x: x.gtfs_schedule_status if (str(x.simple_GTFS_status) == 'nan') else x.simple_GTFS_status\t, axis=1)"
   ]
  },
  {
   "cell_type": "markdown",
   "id": "328f3eff-996e-4f62-8c3e-9cb741e5a9b0",
   "metadata": {},
   "source": [
    "## Final preview\n",
    "* Deleted a few things: agency, state, legacy_id, years old\n",
    "* LOTS of rows that look the same but the column \"upin\" makes them different. Do we need every year/contract that the agency has produced?"
   ]
  },
  {
   "cell_type": "code",
   "execution_count": 44,
   "id": "387d8fec-75ce-48fb-bdb5-1c46b57165f9",
   "metadata": {},
   "outputs": [],
   "source": [
    "GTFS_Vehicles_BC2 = GTFS_Vehicles_BC2.drop(columns=['best_match_score','__id_left','__id_right','state', 'legacy_ntd_id', 'years_old:','simple_GTFS_status','gtfs_schedule_status'])"
   ]
  },
  {
   "cell_type": "code",
   "execution_count": 45,
   "id": "9f0774e6-f7e9-4805-b3f7-a48c76a05b9d",
   "metadata": {},
   "outputs": [
    {
     "data": {
      "text/plain": [
       "0"
      ]
     },
     "execution_count": 45,
     "metadata": {},
     "output_type": "execute_result"
    }
   ],
   "source": [
    "GTFS_Vehicles_BC2.duplicated().sum()"
   ]
  },
  {
   "cell_type": "code",
   "execution_count": 46,
   "id": "4635aeb5-117e-48d3-86d3-bd02aba2a04d",
   "metadata": {},
   "outputs": [],
   "source": [
    "#writing to GCS bucket\n",
    "#GTFS_Vehicles_BC2.to_csv(\"gs://calitp-analytics-data/data-analyses/5311 /GTFS_Vehicles_BC.csv\", index= False)"
   ]
  }
 ],
 "metadata": {
  "kernelspec": {
   "display_name": "Python 3 (ipykernel)",
   "language": "python",
   "name": "python3"
  },
  "language_info": {
   "codemirror_mode": {
    "name": "ipython",
    "version": 3
   },
   "file_extension": ".py",
   "mimetype": "text/x-python",
   "name": "python",
   "nbconvert_exporter": "python",
   "pygments_lexer": "ipython3",
   "version": "3.9.7"
  }
 },
 "nbformat": 4,
 "nbformat_minor": 5
}
