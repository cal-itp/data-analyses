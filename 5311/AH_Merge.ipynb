{
 "cells": [
  {
   "cell_type": "markdown",
   "id": "1382c77d-634a-4ca4-926e-e9eaf44d552f",
   "metadata": {},
   "source": [
    "# Testing merges "
   ]
  },
  {
   "cell_type": "code",
   "execution_count": 1,
   "id": "e60b1121-c948-489c-b432-e3feb6b27d78",
   "metadata": {},
   "outputs": [
    {
     "name": "stderr",
     "output_type": "stream",
     "text": [
      "/opt/conda/lib/python3.9/site-packages/geopandas/_compat.py:111: UserWarning: The Shapely GEOS version (3.9.1-CAPI-1.14.2) is incompatible with the GEOS version PyGEOS was compiled with (3.10.1-CAPI-1.16.0). Conversions between both will be slow.\n"
     ]
    }
   ],
   "source": [
    "import numpy as np\n",
    "import pandas as pd\n",
    "import math\n",
    "from siuba import *\n",
    "from calitp import *\n",
    "import intake\n",
    "import data_prep\n",
    "import altair as alt\n",
    "from shared_utils import altair_utils \n",
    "pd.options.display.max_rows = 250"
   ]
  },
  {
   "cell_type": "code",
   "execution_count": 2,
   "id": "0ede89be-4e8c-439c-8013-ce470d535dd2",
   "metadata": {},
   "outputs": [
    {
     "name": "stderr",
     "output_type": "stream",
     "text": [
      "/home/jovyan/data-analyses/5311/data_prep.py:61: SettingWithCopyWarning: \n",
      "A value is trying to be set on a copy of a slice from a DataFrame.\n",
      "Try using .loc[row_indexer,col_indexer] = value instead\n",
      "\n",
      "See the caveats in the documentation: https://pandas.pydata.org/pandas-docs/stable/user_guide/indexing.html#returning-a-view-versus-a-copy\n",
      "/home/jovyan/data-analyses/5311/data_prep.py:63: SettingWithCopyWarning: \n",
      "A value is trying to be set on a copy of a slice from a DataFrame.\n",
      "Try using .loc[row_indexer,col_indexer] = value instead\n",
      "\n",
      "See the caveats in the documentation: https://pandas.pydata.org/pandas-docs/stable/user_guide/indexing.html#returning-a-view-versus-a-copy\n",
      "/home/jovyan/data-analyses/5311/data_prep.py:115: SettingWithCopyWarning: \n",
      "A value is trying to be set on a copy of a slice from a DataFrame.\n",
      "Try using .loc[row_indexer,col_indexer] = value instead\n",
      "\n",
      "See the caveats in the documentation: https://pandas.pydata.org/pandas-docs/stable/user_guide/indexing.html#returning-a-view-versus-a-copy\n"
     ]
    }
   ],
   "source": [
    "df_5311 = data_prep.load_grantprojects()\n",
    "vehicles = data_prep.load_cleaned_vehiclesdata()\n",
    "organizations = data_prep.load_cleaned_organizations_data()\n",
    "GTFS = data_prep.GTFS()"
   ]
  },
  {
   "cell_type": "code",
   "execution_count": 3,
   "id": "59b23e8b-c2b6-41f0-9ebe-cfa16a913d7b",
   "metadata": {},
   "outputs": [],
   "source": []
  },
  {
   "cell_type": "markdown",
   "id": "9364796b-cd25-4b2a-bdd7-8f84f26187df",
   "metadata": {},
   "source": [
    "# Merge NTD with GTFS  --> vehicle_gtfs\n",
    "<b> NOTE</b>:\n",
    "I had to manually add NTD ID to the following agencies in the original CSV file called \"cleaned organizations.csv\"\n",
    "\n",
    "* Butte County Association of Governments\t90208\n",
    "* City of Dixon\t9402-91041\n",
    "* City of Fairfield\t90092\n",
    "* City of Ridgecrest\t9R02-91006\n",
    "* City of Wasco\t9R02-99426\n",
    "* Glenn County\t9R02-91088\n",
    "* Mariposa County\t9R02-91082\n",
    "* Modoc Transportation Authority \t9R02-91008\n",
    "* Palo Verde Valley Transit Agency\t9R02-99454\n",
    "* San Benito County Local Transportation Authority\t9R02-91009\n",
    "* San Joaquin Regional Transit District\t90012\n",
    "* Tuolumne County Transit Agency\t9402-035\n"
   ]
  },
  {
   "cell_type": "code",
   "execution_count": 4,
   "id": "31b2b5a3-ef31-4464-89a5-4474751d6486",
   "metadata": {},
   "outputs": [],
   "source": [
    "#trying the iloc way \n",
    "#organizations.loc[(organizations['name'] == 'Butte County Association of Governments'), \"ntd_id\"] = \"90208\"\n",
    "#vehicles.loc[(vehicles['agency'] == 'Butte County Association of Governments'), \"ntd_id\"] = \"90208\"\n",
    "\n",
    "#organizations.loc[(organizations['name'] == 'City of Fairfield'), \"ntd_id\"] = \"90092\"\n",
    "#vehicles.loc[(vehicles['agency'] == 'City of Fairfield, California, dba: Fairfield and Suisun Transit'), \"ntd_id\"] = \"90092\""
   ]
  },
  {
   "cell_type": "code",
   "execution_count": 5,
   "id": "3ce92448-f3c9-4bde-83ac-ebdf97475e26",
   "metadata": {
    "scrolled": true,
    "tags": []
   },
   "outputs": [],
   "source": [
    "#merging the 2 datasets together\n",
    "vehicles_gtfs = pd.merge(vehicles, organizations,  how='left', on=['ntd_id'], indicator=True)"
   ]
  },
  {
   "cell_type": "code",
   "execution_count": 6,
   "id": "64e78fd8-1c89-4560-ad48-c93640063779",
   "metadata": {},
   "outputs": [],
   "source": [
    "vehicle_agencies = vehicles_gtfs['agency'].drop_duplicates().tolist()"
   ]
  },
  {
   "cell_type": "code",
   "execution_count": 7,
   "id": "4874726e-5fce-4c5a-89e0-f3336585751b",
   "metadata": {},
   "outputs": [
    {
     "data": {
      "text/plain": [
       "both          192\n",
       "left_only      26\n",
       "right_only      0\n",
       "Name: _merge, dtype: int64"
      ]
     },
     "execution_count": 7,
     "metadata": {},
     "output_type": "execute_result"
    }
   ],
   "source": [
    "vehicles_gtfs['_merge'].value_counts()"
   ]
  },
  {
   "cell_type": "code",
   "execution_count": 8,
   "id": "89143bdc-24c9-4551-b8f9-5bc141d75dc9",
   "metadata": {},
   "outputs": [],
   "source": [
    "vehicles_gtfs = vehicles_gtfs.drop(columns = ['_merge'])"
   ]
  },
  {
   "cell_type": "markdown",
   "id": "688c1efb-3b20-4a64-8a81-89f3505c4c1c",
   "metadata": {},
   "source": [
    "# Merging -> Vehicle & GTFS with Black Cat."
   ]
  },
  {
   "cell_type": "code",
   "execution_count": 9,
   "id": "205aae2a-5258-4e00-91ec-224bead7828d",
   "metadata": {},
   "outputs": [],
   "source": [
    "#left merge, Black Cat on the left\n",
    "Test1 = pd.merge(df_5311, vehicles_gtfs,  how='left', left_on=['organization_name'], right_on=['name'], indicator=True)"
   ]
  },
  {
   "cell_type": "code",
   "execution_count": 10,
   "id": "733387de-fa58-48ee-983d-09b6a9550c81",
   "metadata": {},
   "outputs": [
    {
     "data": {
      "text/plain": [
       "both          495\n",
       "left_only     303\n",
       "right_only      0\n",
       "Name: _merge, dtype: int64"
      ]
     },
     "execution_count": 10,
     "metadata": {},
     "output_type": "execute_result"
    }
   ],
   "source": [
    "# Counting left only and both\n",
    "Test1['_merge'].value_counts()"
   ]
  },
  {
   "cell_type": "code",
   "execution_count": 11,
   "id": "0765ba0c-17f7-4e82-8f3a-07c5025472d7",
   "metadata": {},
   "outputs": [],
   "source": [
    "#finding the agencies that are in left only.\n",
    "Left_only = Test1[(Test1._merge.str.contains(\"left_only\", case= False))] \n",
    "Left_orgs = Left_only['organization_name'].drop_duplicates().tolist()"
   ]
  },
  {
   "cell_type": "code",
   "execution_count": 12,
   "id": "28b086e2-a1f1-4fb6-82f2-5e302f3f66b2",
   "metadata": {},
   "outputs": [],
   "source": [
    "# Filter out left only matches\n",
    "m2 = Test1[~Test1.organization_name.isin(Left_orgs)]"
   ]
  },
  {
   "cell_type": "code",
   "execution_count": 13,
   "id": "eb898f13-799d-4ea7-8305-641d860fd3bf",
   "metadata": {},
   "outputs": [
    {
     "data": {
      "text/plain": [
       "(495, 44)"
      ]
     },
     "execution_count": 13,
     "metadata": {},
     "output_type": "execute_result"
    }
   ],
   "source": [
    "#check that filter worked ok\n",
    "m2.shape"
   ]
  },
  {
   "cell_type": "markdown",
   "id": "c5d8feb0-5128-465e-8661-ca215f8daac2",
   "metadata": {},
   "source": [
    "### Failed Matches, crosswalk manually"
   ]
  },
  {
   "cell_type": "code",
   "execution_count": 14,
   "id": "ce8571b0-6698-433c-ba7b-47c4184760c8",
   "metadata": {},
   "outputs": [],
   "source": [
    "#making a data frame with only failed merges out out of original Black Cat\n",
    "fail = df_5311[df_5311.organization_name.isin(Left_orgs)]"
   ]
  },
  {
   "cell_type": "code",
   "execution_count": 15,
   "id": "4f216916-f35b-4ec9-8e04-e7df7ffee73a",
   "metadata": {},
   "outputs": [
    {
     "data": {
      "text/plain": [
       "(303, 15)"
      ]
     },
     "execution_count": 15,
     "metadata": {},
     "output_type": "execute_result"
    }
   ],
   "source": [
    "fail.shape"
   ]
  },
  {
   "cell_type": "code",
   "execution_count": 16,
   "id": "5c78986a-8d62-438c-99a7-f47566eb8216",
   "metadata": {},
   "outputs": [],
   "source": [
    "#crosswalk dictionary for replacing organization name\n",
    "crosswalk = {'City of Chowchilla ': 'City of Chowchilla, dba: Chowchilla Area Transit ',\n",
    " 'City of Dinuba ':  'City of Dinuba',\n",
    " 'Modoc Transportation Agency': 'Modoc Transportation Agency',\n",
    " 'Butte County Association of Governments/ Butte Regional Transit': 'Butte County Association of Governments',\n",
    " 'Calaveras County Public Works':  'Calaveras Transit Agency',\n",
    " 'City of Escalon ':  'City of Escalon, dba: eTrans',\n",
    " 'County of Mariposa':  'Mariposa County Transit, dba: Mari-Go',\n",
    " 'County of Shasta Department of Public Works':  'County of Shasta Department of Public Works',\n",
    " 'County of Siskiyou': 'County of Siskiyou, dba: Siskiyou County Transit',\n",
    " 'County of Tulare': 'Tulare County Area Transit',\n",
    " 'Eureka Transit Service':  'City of Eureka, dba: Eureka Transit Service',\n",
    " 'Kern Regional Transit':  'Kern Regional Transit',\n",
    " 'Livermore Amador Valley Transit Authority':  'Livermore / Amador Valley Transit Authority',\n",
    " 'Placer County Public Works (TART & PCT)': 'County of Placer, dba: Placer County Department of Public Works',\n",
    " 'Plumas County Transportation Commission': 'Plumas County Transportation Commission',\n",
    " 'San Luis Obispo Regional Transit Authority':  'San Luis Obispo Regional Transit Authority',\n",
    " 'Sonoma County Transit':  'County of Sonoma, dba: Sonoma County Transit',\n",
    " 'Sunline Transit Agency':  'SunLine Transit Agency',\n",
    " 'Tehama County Transit Agency': 'Tehama County',\n",
    " 'Trinity County Department of Transportation ':  'Trinity County',\n",
    " 'Tuolumne County Transit Agency (TCTA)':  'Tuolumne County Transit',\n",
    " 'Amador Transit':  'Amador Regional Transit System',\n",
    " 'City of Corcoran - Corcoran Area Transit':  'City of Corcoran, dba: Corcoran Area Transit',\n",
    " 'Yosemite Area Regional Transportation System ':  'Yosemite Area Regional Transportation System',\n",
    " 'County Connection (Central Contra Costa Transit Authority)': 'Central Contra Costa Transit Authority, dba: COUNTY CONNECTION',\n",
    " 'Calaveras Transit Agency ': 'Calaveras Transit Agency'}"
   ]
  },
  {
   "cell_type": "code",
   "execution_count": 17,
   "id": "f41883c5-5de9-423a-9edb-e4f54288b1c6",
   "metadata": {},
   "outputs": [
    {
     "name": "stderr",
     "output_type": "stream",
     "text": [
      "/opt/conda/lib/python3.9/site-packages/pandas/core/generic.py:6619: SettingWithCopyWarning: \n",
      "A value is trying to be set on a copy of a slice from a DataFrame\n",
      "\n",
      "See the caveats in the documentation: https://pandas.pydata.org/pandas-docs/stable/user_guide/indexing.html#returning-a-view-versus-a-copy\n"
     ]
    }
   ],
   "source": [
    "#failed merges\n",
    "fail['organization_name'].replace(crosswalk, inplace= True)"
   ]
  },
  {
   "cell_type": "code",
   "execution_count": 18,
   "id": "8f557654-a6a2-45f3-a6e8-14164a7bd98e",
   "metadata": {},
   "outputs": [],
   "source": [
    "#Merging the failed organizations to vehicles \n",
    "Test2 = pd.merge(fail, vehicles_gtfs,  how='left', left_on=['organization_name'], right_on=['agency'], indicator=True)"
   ]
  },
  {
   "cell_type": "code",
   "execution_count": 19,
   "id": "82c35582-647b-4674-8319-36b6f03f5c79",
   "metadata": {},
   "outputs": [
    {
     "data": {
      "text/plain": [
       "both          248\n",
       "left_only      55\n",
       "right_only      0\n",
       "Name: _merge, dtype: int64"
      ]
     },
     "execution_count": 19,
     "metadata": {},
     "output_type": "execute_result"
    }
   ],
   "source": [
    "Test2['_merge'].value_counts()"
   ]
  },
  {
   "cell_type": "code",
   "execution_count": 20,
   "id": "b8745e10-f2d0-46d9-afe4-fa2bd4de9adb",
   "metadata": {},
   "outputs": [],
   "source": [
    "#finding the agencies that are in left only...make sure these are the ones we aren't sure have any matches.\n",
    "Left_only = Test2[(Test2._merge.str.contains(\"left_only\", case= False))]\n",
    "#find failed agencies \n",
    "Left_only_orgs = Left_only['organization_name'].drop_duplicates().tolist()"
   ]
  },
  {
   "cell_type": "code",
   "execution_count": 21,
   "id": "2a4067e7-468d-4d44-84b7-790dcc5a06b9",
   "metadata": {},
   "outputs": [],
   "source": [
    "#deleting Klamath off since it has GTFS, we only want agencies that do not appear in both GTFS & NTD \n",
    "L_only_2_orgs = ['County of Los Angeles - Department of Public Works',\n",
    " 'County of Nevada Public Works, Transit Services Division',\n",
    " 'County of Sacramento Department of Transportation',\n",
    " 'Glenn County Transportation Commission',\n",
    " 'Stanislaus County Public Works - Transit Division',\n",
    " 'Alpine County Community Development',\n",
    " 'Fresno Council of Governments',\n",
    " 'Greyhound Lines, Inc.']"
   ]
  },
  {
   "cell_type": "code",
   "execution_count": 22,
   "id": "efd9cd5d-a8c5-43ea-a732-0d58a4e6815c",
   "metadata": {},
   "outputs": [],
   "source": [
    "#appending failed matches to the first data frame\n",
    "BC_GTFS_NTD = m2.append(Test2, ignore_index=True)"
   ]
  },
  {
   "cell_type": "code",
   "execution_count": 23,
   "id": "6b7ad0a1-43ed-4101-b2d9-74f58757b402",
   "metadata": {},
   "outputs": [
    {
     "data": {
      "text/plain": [
       "(798, 44)"
      ]
     },
     "execution_count": 23,
     "metadata": {},
     "output_type": "execute_result"
    }
   ],
   "source": [
    "#checking that rows match up\n",
    "BC_GTFS_NTD.shape"
   ]
  },
  {
   "cell_type": "code",
   "execution_count": 24,
   "id": "53192718-4ef2-4468-95d4-5f17b93f9cc8",
   "metadata": {},
   "outputs": [
    {
     "data": {
      "text/plain": [
       "87"
      ]
     },
     "execution_count": 24,
     "metadata": {},
     "output_type": "execute_result"
    }
   ],
   "source": [
    "#checking that organizations are here\n",
    "BC_GTFS_NTD['organization_name'].nunique()"
   ]
  },
  {
   "cell_type": "code",
   "execution_count": 25,
   "id": "3993425a-d771-4a51-9c31-1421223f72fa",
   "metadata": {},
   "outputs": [],
   "source": [
    "#drop  merge\n",
    "BC_GTFS_NTD = BC_GTFS_NTD.drop(columns=['_merge'])"
   ]
  },
  {
   "cell_type": "markdown",
   "id": "eda38931-d3c6-4d98-b37e-9d431a3b745d",
   "metadata": {},
   "source": [
    "### Flag for Black Cat Only"
   ]
  },
  {
   "cell_type": "code",
   "execution_count": 26,
   "id": "acd174ab-639f-4ce2-b31e-56032cfcb16a",
   "metadata": {},
   "outputs": [],
   "source": [
    "def BC_only(row):\n",
    "    if row.organization_name in Left_only_orgs:\n",
    "        return '1'\n",
    "    else: \n",
    "        return '0'  "
   ]
  },
  {
   "cell_type": "code",
   "execution_count": 27,
   "id": "313b1714-c39c-42d3-bb12-684ef3731969",
   "metadata": {},
   "outputs": [],
   "source": [
    "BC_GTFS_NTD[\"Is_Agency_In_BC_Only_1_means_Yes\"] = BC_GTFS_NTD.apply(lambda x: BC_only(x), axis=1)"
   ]
  },
  {
   "cell_type": "code",
   "execution_count": 28,
   "id": "92475f64-a486-4f85-9c59-4c542a72df6b",
   "metadata": {},
   "outputs": [
    {
     "data": {
      "text/html": [
       "<div>\n",
       "<style scoped>\n",
       "    .dataframe tbody tr th:only-of-type {\n",
       "        vertical-align: middle;\n",
       "    }\n",
       "\n",
       "    .dataframe tbody tr th {\n",
       "        vertical-align: top;\n",
       "    }\n",
       "\n",
       "    .dataframe thead th {\n",
       "        text-align: right;\n",
       "    }\n",
       "</style>\n",
       "<table border=\"1\" class=\"dataframe\">\n",
       "  <thead>\n",
       "    <tr style=\"text-align: right;\">\n",
       "      <th></th>\n",
       "      <th>grant_fiscal_year</th>\n",
       "      <th>funding_program</th>\n",
       "      <th>grant_number</th>\n",
       "      <th>project_year</th>\n",
       "      <th>organization_name</th>\n",
       "      <th>upin</th>\n",
       "      <th>description</th>\n",
       "      <th>ali</th>\n",
       "      <th>contract_number</th>\n",
       "      <th>allocationamount</th>\n",
       "      <th>encumbered_amount</th>\n",
       "      <th>expendedamount</th>\n",
       "      <th>activebalance</th>\n",
       "      <th>closedoutbalance</th>\n",
       "      <th>project_status</th>\n",
       "      <th>agency</th>\n",
       "      <th>ntd_id</th>\n",
       "      <th>_0_9</th>\n",
       "      <th>_10_12</th>\n",
       "      <th>_13_15</th>\n",
       "      <th>_16_20</th>\n",
       "      <th>_21_25</th>\n",
       "      <th>_26_30</th>\n",
       "      <th>_31_60</th>\n",
       "      <th>_60plus</th>\n",
       "      <th>total_vehicles</th>\n",
       "      <th>average_age_of_fleet__in_years_</th>\n",
       "      <th>average_lifetime_miles_per_vehicle</th>\n",
       "      <th>sum_15plus</th>\n",
       "      <th>Automobiles</th>\n",
       "      <th>Bus</th>\n",
       "      <th>Other</th>\n",
       "      <th>Service</th>\n",
       "      <th>Train</th>\n",
       "      <th>Van</th>\n",
       "      <th>automobiles_door</th>\n",
       "      <th>bus_doors</th>\n",
       "      <th>train_doors</th>\n",
       "      <th>van_doors</th>\n",
       "      <th>doors_sum</th>\n",
       "      <th>name</th>\n",
       "      <th>itp_id</th>\n",
       "      <th>gtfs_schedule_status</th>\n",
       "      <th>Is_Agency_In_BC_Only_1_means_Yes</th>\n",
       "    </tr>\n",
       "  </thead>\n",
       "  <tbody>\n",
       "    <tr>\n",
       "      <th>578</th>\n",
       "      <td>2017</td>\n",
       "      <td>Section 5311(f)</td>\n",
       "      <td>CA-2017-168 | 0017000259-F</td>\n",
       "      <td>2017</td>\n",
       "      <td>Greyhound Lines, Inc.</td>\n",
       "      <td>BCG0000173</td>\n",
       "      <td>Operating Assistance - Route 1 Service from Ar...</td>\n",
       "      <td>300902</td>\n",
       "      <td>64CO17-00447</td>\n",
       "      <td>161293.0</td>\n",
       "      <td>247887.0</td>\n",
       "      <td>161293.0</td>\n",
       "      <td>0.0</td>\n",
       "      <td>0</td>\n",
       "      <td>Open</td>\n",
       "      <td>NaN</td>\n",
       "      <td>NaN</td>\n",
       "      <td>NaN</td>\n",
       "      <td>NaN</td>\n",
       "      <td>NaN</td>\n",
       "      <td>NaN</td>\n",
       "      <td>NaN</td>\n",
       "      <td>NaN</td>\n",
       "      <td>NaN</td>\n",
       "      <td>NaN</td>\n",
       "      <td>NaN</td>\n",
       "      <td>NaN</td>\n",
       "      <td>NaN</td>\n",
       "      <td>NaN</td>\n",
       "      <td>NaN</td>\n",
       "      <td>NaN</td>\n",
       "      <td>NaN</td>\n",
       "      <td>NaN</td>\n",
       "      <td>NaN</td>\n",
       "      <td>NaN</td>\n",
       "      <td>NaN</td>\n",
       "      <td>NaN</td>\n",
       "      <td>NaN</td>\n",
       "      <td>NaN</td>\n",
       "      <td>NaN</td>\n",
       "      <td>NaN</td>\n",
       "      <td>NaN</td>\n",
       "      <td>NaN</td>\n",
       "      <td>1</td>\n",
       "    </tr>\n",
       "  </tbody>\n",
       "</table>\n",
       "</div>"
      ],
      "text/plain": [
       "     grant_fiscal_year  funding_program                grant_number  \\\n",
       "578               2017  Section 5311(f)  CA-2017-168 | 0017000259-F   \n",
       "\n",
       "     project_year      organization_name        upin  \\\n",
       "578          2017  Greyhound Lines, Inc.  BCG0000173   \n",
       "\n",
       "                                           description     ali  \\\n",
       "578  Operating Assistance - Route 1 Service from Ar...  300902   \n",
       "\n",
       "    contract_number  allocationamount  encumbered_amount  expendedamount  \\\n",
       "578    64CO17-00447          161293.0           247887.0        161293.0   \n",
       "\n",
       "     activebalance  closedoutbalance project_status agency ntd_id  _0_9  \\\n",
       "578            0.0                 0           Open    NaN    NaN   NaN   \n",
       "\n",
       "     _10_12  _13_15  _16_20  _21_25  _26_30  _31_60  _60plus  total_vehicles  \\\n",
       "578     NaN     NaN     NaN     NaN     NaN     NaN      NaN             NaN   \n",
       "\n",
       "     average_age_of_fleet__in_years_  average_lifetime_miles_per_vehicle  \\\n",
       "578                              NaN                                 NaN   \n",
       "\n",
       "     sum_15plus  Automobiles  Bus  Other  Service  Train  Van  \\\n",
       "578         NaN          NaN  NaN    NaN      NaN    NaN  NaN   \n",
       "\n",
       "     automobiles_door  bus_doors  train_doors  van_doors  doors_sum name  \\\n",
       "578               NaN        NaN          NaN        NaN        NaN  NaN   \n",
       "\n",
       "     itp_id gtfs_schedule_status Is_Agency_In_BC_Only_1_means_Yes  \n",
       "578     NaN                  NaN                                1  "
      ]
     },
     "execution_count": 28,
     "metadata": {},
     "output_type": "execute_result"
    }
   ],
   "source": [
    "#Checking again \n",
    "BC_GTFS_NTD[(BC_GTFS_NTD.organization_name.str.contains(\"greyhound\", case= False))].head(1)"
   ]
  },
  {
   "cell_type": "markdown",
   "id": "8c66a66f-cff9-48d4-bc47-731eaaa4f6cd",
   "metadata": {},
   "source": [
    "### Replacing Klamath\n",
    "* Klamath has GTFS but no NTD records"
   ]
  },
  {
   "cell_type": "code",
   "execution_count": 29,
   "id": "4e2bba4d-64e8-437d-a9f2-3f44f8002175",
   "metadata": {},
   "outputs": [],
   "source": [
    "BC_GTFS_NTD.loc[(BC_GTFS_NTD['organization_name'] == 'Klamath Trinity Non-Emergency Transportation\\u200b'), \"itp_id\"] = \"436\"\n",
    "BC_GTFS_NTD.loc[(BC_GTFS_NTD['organization_name'] == 'Klamath Trinity Non-Emergency Transportation\\u200b'), \"gtfs_schedule_status\"] = \"needed\""
   ]
  },
  {
   "cell_type": "code",
   "execution_count": 30,
   "id": "8baa6744-8408-49b7-8e49-7c740b3c4c85",
   "metadata": {},
   "outputs": [
    {
     "data": {
      "text/html": [
       "<div>\n",
       "<style scoped>\n",
       "    .dataframe tbody tr th:only-of-type {\n",
       "        vertical-align: middle;\n",
       "    }\n",
       "\n",
       "    .dataframe tbody tr th {\n",
       "        vertical-align: top;\n",
       "    }\n",
       "\n",
       "    .dataframe thead th {\n",
       "        text-align: right;\n",
       "    }\n",
       "</style>\n",
       "<table border=\"1\" class=\"dataframe\">\n",
       "  <thead>\n",
       "    <tr style=\"text-align: right;\">\n",
       "      <th></th>\n",
       "      <th>grant_fiscal_year</th>\n",
       "      <th>funding_program</th>\n",
       "      <th>grant_number</th>\n",
       "      <th>project_year</th>\n",
       "      <th>organization_name</th>\n",
       "      <th>upin</th>\n",
       "      <th>description</th>\n",
       "      <th>ali</th>\n",
       "      <th>contract_number</th>\n",
       "      <th>allocationamount</th>\n",
       "      <th>encumbered_amount</th>\n",
       "      <th>expendedamount</th>\n",
       "      <th>activebalance</th>\n",
       "      <th>closedoutbalance</th>\n",
       "      <th>project_status</th>\n",
       "      <th>agency</th>\n",
       "      <th>ntd_id</th>\n",
       "      <th>_0_9</th>\n",
       "      <th>_10_12</th>\n",
       "      <th>_13_15</th>\n",
       "      <th>_16_20</th>\n",
       "      <th>_21_25</th>\n",
       "      <th>_26_30</th>\n",
       "      <th>_31_60</th>\n",
       "      <th>_60plus</th>\n",
       "      <th>total_vehicles</th>\n",
       "      <th>average_age_of_fleet__in_years_</th>\n",
       "      <th>average_lifetime_miles_per_vehicle</th>\n",
       "      <th>sum_15plus</th>\n",
       "      <th>Automobiles</th>\n",
       "      <th>Bus</th>\n",
       "      <th>Other</th>\n",
       "      <th>Service</th>\n",
       "      <th>Train</th>\n",
       "      <th>Van</th>\n",
       "      <th>automobiles_door</th>\n",
       "      <th>bus_doors</th>\n",
       "      <th>train_doors</th>\n",
       "      <th>van_doors</th>\n",
       "      <th>doors_sum</th>\n",
       "      <th>name</th>\n",
       "      <th>itp_id</th>\n",
       "      <th>gtfs_schedule_status</th>\n",
       "      <th>Is_Agency_In_BC_Only_1_means_Yes</th>\n",
       "    </tr>\n",
       "  </thead>\n",
       "  <tbody>\n",
       "    <tr>\n",
       "      <th>544</th>\n",
       "      <td>2017</td>\n",
       "      <td>5311(f) Cont</td>\n",
       "      <td>TBD</td>\n",
       "      <td>2017</td>\n",
       "      <td>Klamath Trinity Non-Emergency Transportation​</td>\n",
       "      <td>BCG0000168</td>\n",
       "      <td>Operating Assistance</td>\n",
       "      <td>300902</td>\n",
       "      <td>64CO17-00467</td>\n",
       "      <td>8344.0</td>\n",
       "      <td>8344.0</td>\n",
       "      <td>8344.0</td>\n",
       "      <td>0.0</td>\n",
       "      <td>0</td>\n",
       "      <td>Open</td>\n",
       "      <td>NaN</td>\n",
       "      <td>NaN</td>\n",
       "      <td>NaN</td>\n",
       "      <td>NaN</td>\n",
       "      <td>NaN</td>\n",
       "      <td>NaN</td>\n",
       "      <td>NaN</td>\n",
       "      <td>NaN</td>\n",
       "      <td>NaN</td>\n",
       "      <td>NaN</td>\n",
       "      <td>NaN</td>\n",
       "      <td>NaN</td>\n",
       "      <td>NaN</td>\n",
       "      <td>NaN</td>\n",
       "      <td>NaN</td>\n",
       "      <td>NaN</td>\n",
       "      <td>NaN</td>\n",
       "      <td>NaN</td>\n",
       "      <td>NaN</td>\n",
       "      <td>NaN</td>\n",
       "      <td>NaN</td>\n",
       "      <td>NaN</td>\n",
       "      <td>NaN</td>\n",
       "      <td>NaN</td>\n",
       "      <td>NaN</td>\n",
       "      <td>NaN</td>\n",
       "      <td>436</td>\n",
       "      <td>needed</td>\n",
       "      <td>1</td>\n",
       "    </tr>\n",
       "  </tbody>\n",
       "</table>\n",
       "</div>"
      ],
      "text/plain": [
       "     grant_fiscal_year funding_program grant_number  project_year  \\\n",
       "544               2017    5311(f) Cont          TBD          2017   \n",
       "\n",
       "                                 organization_name        upin  \\\n",
       "544  Klamath Trinity Non-Emergency Transportation​  BCG0000168   \n",
       "\n",
       "               description     ali contract_number  allocationamount  \\\n",
       "544  Operating Assistance   300902    64CO17-00467            8344.0   \n",
       "\n",
       "     encumbered_amount  expendedamount  activebalance  closedoutbalance  \\\n",
       "544             8344.0          8344.0            0.0                 0   \n",
       "\n",
       "    project_status agency ntd_id  _0_9  _10_12  _13_15  _16_20  _21_25  \\\n",
       "544           Open    NaN    NaN   NaN     NaN     NaN     NaN     NaN   \n",
       "\n",
       "     _26_30  _31_60  _60plus  total_vehicles  average_age_of_fleet__in_years_  \\\n",
       "544     NaN     NaN      NaN             NaN                              NaN   \n",
       "\n",
       "     average_lifetime_miles_per_vehicle  sum_15plus  Automobiles  Bus  Other  \\\n",
       "544                                 NaN         NaN          NaN  NaN    NaN   \n",
       "\n",
       "     Service  Train  Van  automobiles_door  bus_doors  train_doors  van_doors  \\\n",
       "544      NaN    NaN  NaN               NaN        NaN          NaN        NaN   \n",
       "\n",
       "     doors_sum name itp_id gtfs_schedule_status  \\\n",
       "544        NaN  NaN    436               needed   \n",
       "\n",
       "    Is_Agency_In_BC_Only_1_means_Yes  \n",
       "544                                1  "
      ]
     },
     "execution_count": 30,
     "metadata": {},
     "output_type": "execute_result"
    }
   ],
   "source": [
    "#Checking again \n",
    "BC_GTFS_NTD[(BC_GTFS_NTD.organization_name.str.contains(\"Klamath\", case= False))].head(1)"
   ]
  },
  {
   "cell_type": "markdown",
   "id": "a14c0ff7-7d1b-40df-a19a-afb8532e036d",
   "metadata": {},
   "source": [
    "### Getting ok/needed/research out of original GTFS data frame"
   ]
  },
  {
   "cell_type": "code",
   "execution_count": 31,
   "id": "b4466d9c-92e5-4f0b-a1b2-5528b734b36a",
   "metadata": {
    "scrolled": true,
    "tags": []
   },
   "outputs": [
    {
     "data": {
      "text/plain": [
       "ok,needed,needed                                                                                                             173\n",
       "ok,needed                                                                                                                     87\n",
       "ok                                                                                                                            81\n",
       "needed                                                                                                                        78\n",
       "ok,ok                                                                                                                         28\n",
       "needed,needed,needed,needed,research,needed                                                                                   28\n",
       "ok,needed,ok,ok,ok,needed,needed,needed,needed                                                                                24\n",
       "needed,ok,ok,ok                                                                                                               21\n",
       "needed,ok,ok,needed,needed,needed                                                                                             13\n",
       "needed,needed,needed                                                                                                          12\n",
       "need long-term solution,needed                                                                                                12\n",
       "ok,needed,needed,needed,needed,needed                                                                                         11\n",
       "ok,needed,needed,ok,needed,needed,research,needed                                                                             11\n",
       "ok,needed,needed,needed,needed,needed,needed,needed,needed                                                                    11\n",
       "needed,ok,needed,ok                                                                                                           11\n",
       "needed,needed,ok,ok,needed,ok,ok,needed,needed,needed,needed,needed,ok,ok,ok,needed,ok,needed,needed,needed,needed,needed     10\n",
       "ok,research                                                                                                                   10\n",
       "ok,ok,ok,ok,needed,needed                                                                                                      9\n",
       "needed,ok,needed,needed                                                                                                        9\n",
       "needed,needed,needed,needed                                                                                                    8\n",
       "needed,needed,ok,ok                                                                                                            6\n",
       "ok,ok,ok,needed,needed,needed,needed,needed,needed,needed,needed                                                               6\n",
       "needed,needed                                                                                                                  6\n",
       "need long-term solution                                                                                                        6\n",
       "ok,ok,ok,ok,ok,ok,needed,needed                                                                                                6\n",
       "ok,needed,needed,needed,research,needed                                                                                        6\n",
       "ok,needed,needed,needed,needed                                                                                                 6\n",
       "needed,ok,needed                                                                                                               6\n",
       "needed,ok,needed,needed,needed,needed,needed,needed,needed                                                                     6\n",
       "ok,ok,ok,needed,needed                                                                                                         6\n",
       "needed,ok                                                                                                                      5\n",
       "ok,needed,ok                                                                                                                   2\n",
       "Name: gtfs_schedule_status, dtype: int64"
      ]
     },
     "execution_count": 31,
     "metadata": {},
     "output_type": "execute_result"
    }
   ],
   "source": [
    "#look at original GTFS status for all the different varities...\n",
    "BC_GTFS_NTD['gtfs_schedule_status'].value_counts()"
   ]
  },
  {
   "cell_type": "code",
   "execution_count": 32,
   "id": "b747020e-bc02-486d-a5fc-1ee25f6fd723",
   "metadata": {},
   "outputs": [],
   "source": [
    "#create a new column\n",
    "temp = BC_GTFS_NTD.gtfs_schedule_status.fillna(\"None\")\n",
    "BC_GTFS_NTD['GTFS_schedule_status_use'] = np.where(temp.str.contains(\"None\"),\"None\",\n",
    "                   np.where(temp.str.contains(\"ok\"), \"Ok\",\n",
    "                   np.where(temp.str.contains(\"long\"), \"Long-term solution needed\",\n",
    "                   np.where(temp.str.contains(\"research\"), \"Research\", \"Needed\"))))\n"
   ]
  },
  {
   "cell_type": "code",
   "execution_count": 33,
   "id": "83983d6c-d9d3-4c35-b215-9218d34c454f",
   "metadata": {
    "tags": []
   },
   "outputs": [
    {
     "data": {
      "text/html": [
       "<div>\n",
       "<style scoped>\n",
       "    .dataframe tbody tr th:only-of-type {\n",
       "        vertical-align: middle;\n",
       "    }\n",
       "\n",
       "    .dataframe tbody tr th {\n",
       "        vertical-align: top;\n",
       "    }\n",
       "\n",
       "    .dataframe thead th {\n",
       "        text-align: right;\n",
       "    }\n",
       "</style>\n",
       "<table border=\"1\" class=\"dataframe\">\n",
       "  <thead>\n",
       "    <tr style=\"text-align: right;\">\n",
       "      <th></th>\n",
       "      <th>grant_fiscal_year</th>\n",
       "      <th>funding_program</th>\n",
       "      <th>grant_number</th>\n",
       "      <th>project_year</th>\n",
       "      <th>organization_name</th>\n",
       "      <th>upin</th>\n",
       "      <th>description</th>\n",
       "      <th>ali</th>\n",
       "      <th>contract_number</th>\n",
       "      <th>allocationamount</th>\n",
       "      <th>encumbered_amount</th>\n",
       "      <th>expendedamount</th>\n",
       "      <th>activebalance</th>\n",
       "      <th>closedoutbalance</th>\n",
       "      <th>project_status</th>\n",
       "      <th>agency</th>\n",
       "      <th>ntd_id</th>\n",
       "      <th>_0_9</th>\n",
       "      <th>_10_12</th>\n",
       "      <th>_13_15</th>\n",
       "      <th>_16_20</th>\n",
       "      <th>_21_25</th>\n",
       "      <th>_26_30</th>\n",
       "      <th>_31_60</th>\n",
       "      <th>_60plus</th>\n",
       "      <th>total_vehicles</th>\n",
       "      <th>average_age_of_fleet__in_years_</th>\n",
       "      <th>average_lifetime_miles_per_vehicle</th>\n",
       "      <th>sum_15plus</th>\n",
       "      <th>Automobiles</th>\n",
       "      <th>Bus</th>\n",
       "      <th>Other</th>\n",
       "      <th>Service</th>\n",
       "      <th>Train</th>\n",
       "      <th>Van</th>\n",
       "      <th>automobiles_door</th>\n",
       "      <th>bus_doors</th>\n",
       "      <th>train_doors</th>\n",
       "      <th>van_doors</th>\n",
       "      <th>doors_sum</th>\n",
       "      <th>name</th>\n",
       "      <th>itp_id</th>\n",
       "      <th>gtfs_schedule_status</th>\n",
       "      <th>Is_Agency_In_BC_Only_1_means_Yes</th>\n",
       "      <th>GTFS_schedule_status_use</th>\n",
       "    </tr>\n",
       "  </thead>\n",
       "  <tbody>\n",
       "    <tr>\n",
       "      <th>114</th>\n",
       "      <td>2017</td>\n",
       "      <td>Section 5311</td>\n",
       "      <td>CA-2017-168 | 0017000259</td>\n",
       "      <td>2017</td>\n",
       "      <td>City of Ridgecrest</td>\n",
       "      <td>BCG0001068</td>\n",
       "      <td>Operating Assistance Sliding Scale</td>\n",
       "      <td>300902</td>\n",
       "      <td>64BO17-00566</td>\n",
       "      <td>87275.0</td>\n",
       "      <td>87275.0</td>\n",
       "      <td>87275.00</td>\n",
       "      <td>0.00</td>\n",
       "      <td>0</td>\n",
       "      <td>Open</td>\n",
       "      <td>City of Ridgecrest, dba: Ridgerunner</td>\n",
       "      <td>9R02-91006</td>\n",
       "      <td>8.0</td>\n",
       "      <td>2.0</td>\n",
       "      <td>0.0</td>\n",
       "      <td>1.0</td>\n",
       "      <td>0.0</td>\n",
       "      <td>0.0</td>\n",
       "      <td>0.0</td>\n",
       "      <td>0.0</td>\n",
       "      <td>11.0</td>\n",
       "      <td>12.166667</td>\n",
       "      <td>0.0000</td>\n",
       "      <td>NaN</td>\n",
       "      <td>0.0</td>\n",
       "      <td>0.0</td>\n",
       "      <td>0.0</td>\n",
       "      <td>1.0</td>\n",
       "      <td>0.0</td>\n",
       "      <td>10.0</td>\n",
       "      <td>0.0</td>\n",
       "      <td>0.0</td>\n",
       "      <td>0.0</td>\n",
       "      <td>10.0</td>\n",
       "      <td>10.0</td>\n",
       "      <td>City of Ridgecrest</td>\n",
       "      <td>263.0</td>\n",
       "      <td>need long-term solution</td>\n",
       "      <td>0</td>\n",
       "      <td>Long-term solution needed</td>\n",
       "    </tr>\n",
       "    <tr>\n",
       "      <th>702</th>\n",
       "      <td>2019</td>\n",
       "      <td>Section 5311(f)</td>\n",
       "      <td>CA-2018-114 | 0019000012</td>\n",
       "      <td>2019</td>\n",
       "      <td>Modoc Transportation Agency</td>\n",
       "      <td>BCG0001420</td>\n",
       "      <td>Operating Assistance Sliding Scale  - Klamath ...</td>\n",
       "      <td>300902</td>\n",
       "      <td>64CO19-00900</td>\n",
       "      <td>17966.0</td>\n",
       "      <td>17966.0</td>\n",
       "      <td>17653.38</td>\n",
       "      <td>312.62</td>\n",
       "      <td>0</td>\n",
       "      <td>Open</td>\n",
       "      <td>Modoc Transportation Agency</td>\n",
       "      <td>9R02-91008</td>\n",
       "      <td>10.0</td>\n",
       "      <td>4.0</td>\n",
       "      <td>0.0</td>\n",
       "      <td>0.0</td>\n",
       "      <td>0.0</td>\n",
       "      <td>0.0</td>\n",
       "      <td>0.0</td>\n",
       "      <td>0.0</td>\n",
       "      <td>14.0</td>\n",
       "      <td>7.750000</td>\n",
       "      <td>0.0000</td>\n",
       "      <td>NaN</td>\n",
       "      <td>0.0</td>\n",
       "      <td>0.0</td>\n",
       "      <td>0.0</td>\n",
       "      <td>0.0</td>\n",
       "      <td>0.0</td>\n",
       "      <td>14.0</td>\n",
       "      <td>0.0</td>\n",
       "      <td>0.0</td>\n",
       "      <td>0.0</td>\n",
       "      <td>14.0</td>\n",
       "      <td>14.0</td>\n",
       "      <td>Modoc Transportation Authority</td>\n",
       "      <td>204.0</td>\n",
       "      <td>ok,ok</td>\n",
       "      <td>0</td>\n",
       "      <td>Ok</td>\n",
       "    </tr>\n",
       "    <tr>\n",
       "      <th>49</th>\n",
       "      <td>2016</td>\n",
       "      <td>Section 5311</td>\n",
       "      <td>CA-2017-025 | 0017000158</td>\n",
       "      <td>2016</td>\n",
       "      <td>Imperial County Transportation Commission</td>\n",
       "      <td>BCG0000186</td>\n",
       "      <td>Operating Assistance</td>\n",
       "      <td>300902</td>\n",
       "      <td>64BO17-00402</td>\n",
       "      <td>164302.0</td>\n",
       "      <td>164302.0</td>\n",
       "      <td>164302.00</td>\n",
       "      <td>0.00</td>\n",
       "      <td>0</td>\n",
       "      <td>Open</td>\n",
       "      <td>Imperial County Transportation Commission</td>\n",
       "      <td>90226</td>\n",
       "      <td>46.0</td>\n",
       "      <td>0.0</td>\n",
       "      <td>0.0</td>\n",
       "      <td>0.0</td>\n",
       "      <td>0.0</td>\n",
       "      <td>0.0</td>\n",
       "      <td>0.0</td>\n",
       "      <td>0.0</td>\n",
       "      <td>46.0</td>\n",
       "      <td>4.227564</td>\n",
       "      <td>142255.1186</td>\n",
       "      <td>NaN</td>\n",
       "      <td>0.0</td>\n",
       "      <td>16.0</td>\n",
       "      <td>0.0</td>\n",
       "      <td>3.0</td>\n",
       "      <td>0.0</td>\n",
       "      <td>27.0</td>\n",
       "      <td>0.0</td>\n",
       "      <td>32.0</td>\n",
       "      <td>0.0</td>\n",
       "      <td>27.0</td>\n",
       "      <td>59.0</td>\n",
       "      <td>Imperial County Transportation Commission</td>\n",
       "      <td>138.0</td>\n",
       "      <td>needed,needed,needed,needed</td>\n",
       "      <td>0</td>\n",
       "      <td>Needed</td>\n",
       "    </tr>\n",
       "  </tbody>\n",
       "</table>\n",
       "</div>"
      ],
      "text/plain": [
       "     grant_fiscal_year  funding_program              grant_number  \\\n",
       "114               2017     Section 5311  CA-2017-168 | 0017000259   \n",
       "702               2019  Section 5311(f)  CA-2018-114 | 0019000012   \n",
       "49                2016     Section 5311  CA-2017-025 | 0017000158   \n",
       "\n",
       "     project_year                          organization_name        upin  \\\n",
       "114          2017                         City of Ridgecrest  BCG0001068   \n",
       "702          2019                Modoc Transportation Agency  BCG0001420   \n",
       "49           2016  Imperial County Transportation Commission  BCG0000186   \n",
       "\n",
       "                                           description     ali  \\\n",
       "114                 Operating Assistance Sliding Scale  300902   \n",
       "702  Operating Assistance Sliding Scale  - Klamath ...  300902   \n",
       "49                               Operating Assistance   300902   \n",
       "\n",
       "    contract_number  allocationamount  encumbered_amount  expendedamount  \\\n",
       "114    64BO17-00566           87275.0            87275.0        87275.00   \n",
       "702    64CO19-00900           17966.0            17966.0        17653.38   \n",
       "49     64BO17-00402          164302.0           164302.0       164302.00   \n",
       "\n",
       "     activebalance  closedoutbalance project_status  \\\n",
       "114           0.00                 0           Open   \n",
       "702         312.62                 0           Open   \n",
       "49            0.00                 0           Open   \n",
       "\n",
       "                                        agency      ntd_id  _0_9  _10_12  \\\n",
       "114       City of Ridgecrest, dba: Ridgerunner  9R02-91006   8.0     2.0   \n",
       "702                Modoc Transportation Agency  9R02-91008  10.0     4.0   \n",
       "49   Imperial County Transportation Commission       90226  46.0     0.0   \n",
       "\n",
       "     _13_15  _16_20  _21_25  _26_30  _31_60  _60plus  total_vehicles  \\\n",
       "114     0.0     1.0     0.0     0.0     0.0      0.0            11.0   \n",
       "702     0.0     0.0     0.0     0.0     0.0      0.0            14.0   \n",
       "49      0.0     0.0     0.0     0.0     0.0      0.0            46.0   \n",
       "\n",
       "     average_age_of_fleet__in_years_  average_lifetime_miles_per_vehicle  \\\n",
       "114                        12.166667                              0.0000   \n",
       "702                         7.750000                              0.0000   \n",
       "49                          4.227564                         142255.1186   \n",
       "\n",
       "     sum_15plus  Automobiles   Bus  Other  Service  Train   Van  \\\n",
       "114         NaN          0.0   0.0    0.0      1.0    0.0  10.0   \n",
       "702         NaN          0.0   0.0    0.0      0.0    0.0  14.0   \n",
       "49          NaN          0.0  16.0    0.0      3.0    0.0  27.0   \n",
       "\n",
       "     automobiles_door  bus_doors  train_doors  van_doors  doors_sum  \\\n",
       "114               0.0        0.0          0.0       10.0       10.0   \n",
       "702               0.0        0.0          0.0       14.0       14.0   \n",
       "49                0.0       32.0          0.0       27.0       59.0   \n",
       "\n",
       "                                          name itp_id  \\\n",
       "114                         City of Ridgecrest  263.0   \n",
       "702            Modoc Transportation Authority   204.0   \n",
       "49   Imperial County Transportation Commission  138.0   \n",
       "\n",
       "            gtfs_schedule_status Is_Agency_In_BC_Only_1_means_Yes  \\\n",
       "114      need long-term solution                                0   \n",
       "702                        ok,ok                                0   \n",
       "49   needed,needed,needed,needed                                0   \n",
       "\n",
       "      GTFS_schedule_status_use  \n",
       "114  Long-term solution needed  \n",
       "702                         Ok  \n",
       "49                      Needed  "
      ]
     },
     "execution_count": 33,
     "metadata": {},
     "output_type": "execute_result"
    }
   ],
   "source": [
    "BC_GTFS_NTD.sample(3)"
   ]
  },
  {
   "cell_type": "code",
   "execution_count": 34,
   "id": "007fceea-462a-40a5-ac8a-8fe1f6677690",
   "metadata": {},
   "outputs": [],
   "source": [
    "#delete old columns\n",
    "BC_GTFS_NTD = BC_GTFS_NTD.drop(columns=['simple_GTFS_status','_merge','gtfs_schedule_status','name',])"
   ]
  },
  {
   "cell_type": "code",
   "execution_count": 35,
   "id": "f5bbaf28-0812-4211-8a15-c261f3f58937",
   "metadata": {},
   "outputs": [],
   "source": [
    "#get agencies without any data to show up (do this neater...)\n",
    "#show_up = ['reporter_type','gtfs_status_final','vehicle_type']\n",
    "#for i in show_up:\n",
    "    #BC_GTFS_NTD3[i] = BC_GTFS_NTD3[i].fillna('None')"
   ]
  },
  {
   "cell_type": "code",
   "execution_count": 36,
   "id": "38b84f83-4788-4af5-b593-cab5cad188b4",
   "metadata": {},
   "outputs": [
    {
     "data": {
      "text/html": [
       "<div>\n",
       "<style scoped>\n",
       "    .dataframe tbody tr th:only-of-type {\n",
       "        vertical-align: middle;\n",
       "    }\n",
       "\n",
       "    .dataframe tbody tr th {\n",
       "        vertical-align: top;\n",
       "    }\n",
       "\n",
       "    .dataframe thead th {\n",
       "        text-align: right;\n",
       "    }\n",
       "</style>\n",
       "<table border=\"1\" class=\"dataframe\">\n",
       "  <thead>\n",
       "    <tr style=\"text-align: right;\">\n",
       "      <th></th>\n",
       "      <th>grant_fiscal_year</th>\n",
       "      <th>funding_program</th>\n",
       "      <th>grant_number</th>\n",
       "      <th>project_year</th>\n",
       "      <th>organization_name</th>\n",
       "      <th>upin</th>\n",
       "      <th>description</th>\n",
       "      <th>ali</th>\n",
       "      <th>contract_number</th>\n",
       "      <th>allocationamount</th>\n",
       "      <th>encumbered_amount</th>\n",
       "      <th>expendedamount</th>\n",
       "      <th>activebalance</th>\n",
       "      <th>closedoutbalance</th>\n",
       "      <th>project_status</th>\n",
       "      <th>agency</th>\n",
       "      <th>ntd_id</th>\n",
       "      <th>_0_9</th>\n",
       "      <th>_10_12</th>\n",
       "      <th>_13_15</th>\n",
       "      <th>_16_20</th>\n",
       "      <th>_21_25</th>\n",
       "      <th>_26_30</th>\n",
       "      <th>_31_60</th>\n",
       "      <th>_60plus</th>\n",
       "      <th>total_vehicles</th>\n",
       "      <th>average_age_of_fleet__in_years_</th>\n",
       "      <th>average_lifetime_miles_per_vehicle</th>\n",
       "      <th>sum_15plus</th>\n",
       "      <th>Automobiles</th>\n",
       "      <th>Bus</th>\n",
       "      <th>Other</th>\n",
       "      <th>Service</th>\n",
       "      <th>Train</th>\n",
       "      <th>Van</th>\n",
       "      <th>automobiles_door</th>\n",
       "      <th>bus_doors</th>\n",
       "      <th>train_doors</th>\n",
       "      <th>van_doors</th>\n",
       "      <th>doors_sum</th>\n",
       "      <th>name</th>\n",
       "      <th>itp_id</th>\n",
       "      <th>gtfs_schedule_status</th>\n",
       "      <th>Is_Agency_In_BC_Only_1_means_Yes</th>\n",
       "      <th>GTFS_schedule_status_use</th>\n",
       "    </tr>\n",
       "  </thead>\n",
       "  <tbody>\n",
       "    <tr>\n",
       "      <th>0</th>\n",
       "      <td>2011</td>\n",
       "      <td>Section 5311</td>\n",
       "      <td>CA-18-X047 | 0012000083</td>\n",
       "      <td>2016</td>\n",
       "      <td>Madera County</td>\n",
       "      <td>BCG0000283</td>\n",
       "      <td>Buy &lt;30-Ft Bus For Expansion</td>\n",
       "      <td>111304</td>\n",
       "      <td>64BC17-00408</td>\n",
       "      <td>110663.0</td>\n",
       "      <td>110663.0</td>\n",
       "      <td>101352.02</td>\n",
       "      <td>9310.98</td>\n",
       "      <td>0</td>\n",
       "      <td>Open</td>\n",
       "      <td>Madera County, dba: Madera County Connection T...</td>\n",
       "      <td>9R02-91005</td>\n",
       "      <td>16.0</td>\n",
       "      <td>0.0</td>\n",
       "      <td>0.0</td>\n",
       "      <td>0.0</td>\n",
       "      <td>0.0</td>\n",
       "      <td>0.0</td>\n",
       "      <td>0.0</td>\n",
       "      <td>0.0</td>\n",
       "      <td>16.0</td>\n",
       "      <td>5.464286</td>\n",
       "      <td>0.0</td>\n",
       "      <td>NaN</td>\n",
       "      <td>0.0</td>\n",
       "      <td>0.0</td>\n",
       "      <td>0.0</td>\n",
       "      <td>0.0</td>\n",
       "      <td>0.0</td>\n",
       "      <td>16.0</td>\n",
       "      <td>0.0</td>\n",
       "      <td>0.0</td>\n",
       "      <td>0.0</td>\n",
       "      <td>16.0</td>\n",
       "      <td>16.0</td>\n",
       "      <td>Madera County</td>\n",
       "      <td>188.0</td>\n",
       "      <td>ok,needed,needed</td>\n",
       "      <td>0</td>\n",
       "      <td>Ok</td>\n",
       "    </tr>\n",
       "  </tbody>\n",
       "</table>\n",
       "</div>"
      ],
      "text/plain": [
       "   grant_fiscal_year funding_program             grant_number  project_year  \\\n",
       "0               2011    Section 5311  CA-18-X047 | 0012000083          2016   \n",
       "\n",
       "  organization_name        upin                   description     ali  \\\n",
       "0     Madera County  BCG0000283  Buy <30-Ft Bus For Expansion  111304   \n",
       "\n",
       "  contract_number  allocationamount  encumbered_amount  expendedamount  \\\n",
       "0    64BC17-00408          110663.0           110663.0       101352.02   \n",
       "\n",
       "   activebalance  closedoutbalance project_status  \\\n",
       "0        9310.98                 0           Open   \n",
       "\n",
       "                                              agency      ntd_id  _0_9  \\\n",
       "0  Madera County, dba: Madera County Connection T...  9R02-91005  16.0   \n",
       "\n",
       "   _10_12  _13_15  _16_20  _21_25  _26_30  _31_60  _60plus  total_vehicles  \\\n",
       "0     0.0     0.0     0.0     0.0     0.0     0.0      0.0            16.0   \n",
       "\n",
       "   average_age_of_fleet__in_years_  average_lifetime_miles_per_vehicle  \\\n",
       "0                         5.464286                                 0.0   \n",
       "\n",
       "   sum_15plus  Automobiles  Bus  Other  Service  Train   Van  \\\n",
       "0         NaN          0.0  0.0    0.0      0.0    0.0  16.0   \n",
       "\n",
       "   automobiles_door  bus_doors  train_doors  van_doors  doors_sum  \\\n",
       "0               0.0        0.0          0.0       16.0       16.0   \n",
       "\n",
       "            name itp_id gtfs_schedule_status Is_Agency_In_BC_Only_1_means_Yes  \\\n",
       "0  Madera County  188.0     ok,needed,needed                                0   \n",
       "\n",
       "  GTFS_schedule_status_use  \n",
       "0                       Ok  "
      ]
     },
     "execution_count": 36,
     "metadata": {},
     "output_type": "execute_result"
    }
   ],
   "source": [
    "BC_GTFS_NTD.head(1)"
   ]
  },
  {
   "cell_type": "code",
   "execution_count": 37,
   "id": "63a55276-5fc1-4292-b352-3ae213ebc1b5",
   "metadata": {},
   "outputs": [],
   "source": [
    "BC_GTFS_NTD['itp_id'] = BC_GTFS_NTD['itp_id'].fillna(0)\n",
    "\n",
    "BC_GTFS_NTD.loc[(BC_GTFS_NTD['itp_id'] == '436'), \"itp_id\"] = 436"
   ]
  },
  {
   "cell_type": "markdown",
   "id": "381d46a1-8a29-48ab-b5ee-e982a38a5400",
   "metadata": {},
   "source": [
    "### Parquet"
   ]
  },
  {
   "cell_type": "code",
   "execution_count": 39,
   "id": "b8edf555-a415-4b9a-bb10-6ff1368910b2",
   "metadata": {},
   "outputs": [],
   "source": [
    "#Adding to GCS\n",
    "BC_GTFS_NTD.to_parquet(\"BC_GTFS_NTD.parquet\")"
   ]
  },
  {
   "cell_type": "markdown",
   "id": "9711a5b7-515a-495e-8e72-255e44580703",
   "metadata": {},
   "source": [
    "# Taking a quick look\n",
    "* Help, what if an agency has two types of vans...Here I just take the max. If I take the sum, it's not correct...Adds up everything."
   ]
  },
  {
   "cell_type": "code",
   "execution_count": 41,
   "id": "2f0864d6-92eb-4aec-9f53-583cebb8f859",
   "metadata": {},
   "outputs": [
    {
     "ename": "KeyError",
     "evalue": "'reporter_type'",
     "output_type": "error",
     "traceback": [
      "\u001b[0;31m---------------------------------------------------------------------------\u001b[0m",
      "\u001b[0;31mKeyError\u001b[0m                                  Traceback (most recent call last)",
      "\u001b[0;32m/tmp/ipykernel_1155/1576042922.py\u001b[0m in \u001b[0;36m<module>\u001b[0;34m\u001b[0m\n\u001b[0;32m----> 1\u001b[0;31m Aggregate1 = BC_GTFS_NTD.groupby(['organization_name','reporter_type','GTFS_schedule_status_use', 'Is_Agency_In_BC_Only_1_means_Yes','vehicle_groups',]).agg({'_0_9':'max', '_10_12':'max','_13_15':'max',\n\u001b[0m\u001b[1;32m      2\u001b[0m        \u001b[0;34m'_16_20'\u001b[0m\u001b[0;34m:\u001b[0m\u001b[0;34m'max'\u001b[0m\u001b[0;34m,\u001b[0m \u001b[0;34m'_21_25'\u001b[0m\u001b[0;34m:\u001b[0m\u001b[0;34m'max'\u001b[0m\u001b[0;34m,\u001b[0m \u001b[0;34m'_26_30'\u001b[0m\u001b[0;34m:\u001b[0m\u001b[0;34m'max'\u001b[0m\u001b[0;34m,\u001b[0m \u001b[0;34m'_31_60'\u001b[0m\u001b[0;34m:\u001b[0m\u001b[0;34m'max'\u001b[0m\u001b[0;34m,\u001b[0m \u001b[0;34m'_60+'\u001b[0m\u001b[0;34m:\u001b[0m\u001b[0;34m'max'\u001b[0m\u001b[0;34m,\u001b[0m \u001b[0;34m'total_vehicles'\u001b[0m\u001b[0;34m:\u001b[0m\u001b[0;34m'max'\u001b[0m\u001b[0;34m,\u001b[0m\u001b[0;34m'average_age_of_fleet__in_years_'\u001b[0m\u001b[0;34m:\u001b[0m\u001b[0;34m'max'\u001b[0m\u001b[0;34m\u001b[0m\u001b[0;34m\u001b[0m\u001b[0m\n\u001b[1;32m      3\u001b[0m })\n",
      "\u001b[0;32m/opt/conda/lib/python3.9/site-packages/pandas/core/frame.py\u001b[0m in \u001b[0;36mgroupby\u001b[0;34m(self, by, axis, level, as_index, sort, group_keys, squeeze, observed, dropna)\u001b[0m\n\u001b[1;32m   7629\u001b[0m         \u001b[0;31m# error: Argument \"squeeze\" to \"DataFrameGroupBy\" has incompatible type\u001b[0m\u001b[0;34m\u001b[0m\u001b[0;34m\u001b[0m\u001b[0m\n\u001b[1;32m   7630\u001b[0m         \u001b[0;31m# \"Union[bool, NoDefault]\"; expected \"bool\"\u001b[0m\u001b[0;34m\u001b[0m\u001b[0;34m\u001b[0m\u001b[0m\n\u001b[0;32m-> 7631\u001b[0;31m         return DataFrameGroupBy(\n\u001b[0m\u001b[1;32m   7632\u001b[0m             \u001b[0mobj\u001b[0m\u001b[0;34m=\u001b[0m\u001b[0mself\u001b[0m\u001b[0;34m,\u001b[0m\u001b[0;34m\u001b[0m\u001b[0;34m\u001b[0m\u001b[0m\n\u001b[1;32m   7633\u001b[0m             \u001b[0mkeys\u001b[0m\u001b[0;34m=\u001b[0m\u001b[0mby\u001b[0m\u001b[0;34m,\u001b[0m\u001b[0;34m\u001b[0m\u001b[0;34m\u001b[0m\u001b[0m\n",
      "\u001b[0;32m/opt/conda/lib/python3.9/site-packages/pandas/core/groupby/groupby.py\u001b[0m in \u001b[0;36m__init__\u001b[0;34m(self, obj, keys, axis, level, grouper, exclusions, selection, as_index, sort, group_keys, squeeze, observed, mutated, dropna)\u001b[0m\n\u001b[1;32m    887\u001b[0m             \u001b[0;32mfrom\u001b[0m \u001b[0mpandas\u001b[0m\u001b[0;34m.\u001b[0m\u001b[0mcore\u001b[0m\u001b[0;34m.\u001b[0m\u001b[0mgroupby\u001b[0m\u001b[0;34m.\u001b[0m\u001b[0mgrouper\u001b[0m \u001b[0;32mimport\u001b[0m \u001b[0mget_grouper\u001b[0m\u001b[0;34m\u001b[0m\u001b[0;34m\u001b[0m\u001b[0m\n\u001b[1;32m    888\u001b[0m \u001b[0;34m\u001b[0m\u001b[0m\n\u001b[0;32m--> 889\u001b[0;31m             grouper, exclusions, obj = get_grouper(\n\u001b[0m\u001b[1;32m    890\u001b[0m                 \u001b[0mobj\u001b[0m\u001b[0;34m,\u001b[0m\u001b[0;34m\u001b[0m\u001b[0;34m\u001b[0m\u001b[0m\n\u001b[1;32m    891\u001b[0m                 \u001b[0mkeys\u001b[0m\u001b[0;34m,\u001b[0m\u001b[0;34m\u001b[0m\u001b[0;34m\u001b[0m\u001b[0m\n",
      "\u001b[0;32m/opt/conda/lib/python3.9/site-packages/pandas/core/groupby/grouper.py\u001b[0m in \u001b[0;36mget_grouper\u001b[0;34m(obj, key, axis, level, sort, observed, mutated, validate, dropna)\u001b[0m\n\u001b[1;32m    860\u001b[0m                 \u001b[0min_axis\u001b[0m\u001b[0;34m,\u001b[0m \u001b[0mlevel\u001b[0m\u001b[0;34m,\u001b[0m \u001b[0mgpr\u001b[0m \u001b[0;34m=\u001b[0m \u001b[0;32mFalse\u001b[0m\u001b[0;34m,\u001b[0m \u001b[0mgpr\u001b[0m\u001b[0;34m,\u001b[0m \u001b[0;32mNone\u001b[0m\u001b[0;34m\u001b[0m\u001b[0;34m\u001b[0m\u001b[0m\n\u001b[1;32m    861\u001b[0m             \u001b[0;32melse\u001b[0m\u001b[0;34m:\u001b[0m\u001b[0;34m\u001b[0m\u001b[0;34m\u001b[0m\u001b[0m\n\u001b[0;32m--> 862\u001b[0;31m                 \u001b[0;32mraise\u001b[0m \u001b[0mKeyError\u001b[0m\u001b[0;34m(\u001b[0m\u001b[0mgpr\u001b[0m\u001b[0;34m)\u001b[0m\u001b[0;34m\u001b[0m\u001b[0;34m\u001b[0m\u001b[0m\n\u001b[0m\u001b[1;32m    863\u001b[0m         \u001b[0;32melif\u001b[0m \u001b[0misinstance\u001b[0m\u001b[0;34m(\u001b[0m\u001b[0mgpr\u001b[0m\u001b[0;34m,\u001b[0m \u001b[0mGrouper\u001b[0m\u001b[0;34m)\u001b[0m \u001b[0;32mand\u001b[0m \u001b[0mgpr\u001b[0m\u001b[0;34m.\u001b[0m\u001b[0mkey\u001b[0m \u001b[0;32mis\u001b[0m \u001b[0;32mnot\u001b[0m \u001b[0;32mNone\u001b[0m\u001b[0;34m:\u001b[0m\u001b[0;34m\u001b[0m\u001b[0;34m\u001b[0m\u001b[0m\n\u001b[1;32m    864\u001b[0m             \u001b[0;31m# Add key to exclusions\u001b[0m\u001b[0;34m\u001b[0m\u001b[0;34m\u001b[0m\u001b[0m\n",
      "\u001b[0;31mKeyError\u001b[0m: 'reporter_type'"
     ]
    }
   ],
   "source": [
    "Aggregate1 = BC_GTFS_NTD.groupby(['organization_name','reporter_type','GTFS_schedule_status_use', 'Is_Agency_In_BC_Only_1_means_Yes','vehicle_groups',]).agg({'_0_9':'max', '_10_12':'max','_13_15':'max',\n",
    "       '_16_20':'max', '_21_25':'max', '_26_30':'max', '_31_60':'max', '_60+':'max', 'total_vehicles':'max','average_age_of_fleet__in_years_':'max'\n",
    "})"
   ]
  },
  {
   "cell_type": "code",
   "execution_count": null,
   "id": "781cd57d-23e7-45fe-8f6b-699ac46715dc",
   "metadata": {
    "scrolled": true,
    "tags": []
   },
   "outputs": [],
   "source": [
    "Aggregate1"
   ]
  },
  {
   "cell_type": "code",
   "execution_count": null,
   "id": "8b707a06-583d-4b7a-b75e-c4ff2911d1f6",
   "metadata": {},
   "outputs": [],
   "source": [
    "#reset index\n",
    "Aggregate1 = Aggregate1.reset_index()"
   ]
  },
  {
   "cell_type": "code",
   "execution_count": null,
   "id": "ec9025d3-5b84-400a-9f59-3d13ab094de7",
   "metadata": {},
   "outputs": [],
   "source": [
    "def bar_chart(df, x_col, y_col):\n",
    "    y_col_stripped = y_col.replace('_',' ')\n",
    "    x_col_stripped = x_col.replace('_',' ') \n",
    "    chart_title = f\"{x_col_stripped} for Black Cat\" \n",
    "    chart = (alt.Chart(df).mark_bar().encode(\n",
    "                 x=alt.X(x_col, title=x_col_stripped),\n",
    "                 y=alt.Y(y_col, title=y_col_stripped),   \n",
    "                 color =alt.Color(x_col, scale=alt.Scale(range=altair_utils.FIVETHIRTYEIGHT_CATEGORY_COLORS)),\n",
    "                 tooltip = [alt.Tooltip(x_col_stripped),alt.Tooltip(y_col_stripped)]).interactive().properties(width=600,height=250,\n",
    "                 title = chart_title)\n",
    "            )\n",
    "    display(chart)"
   ]
  },
  {
   "cell_type": "markdown",
   "id": "36bbe0e7-4dce-4719-ba90-d1f7a53d855e",
   "metadata": {},
   "source": [
    "## Look at GTFS Status"
   ]
  },
  {
   "cell_type": "code",
   "execution_count": null,
   "id": "20403ecc-2b3e-4e38-9634-55f94981618a",
   "metadata": {},
   "outputs": [],
   "source": [
    "Looking_at_GTFS = Aggregate1.groupby(['GTFS_schedule_status_use']).agg({'organization_name':'nunique'})\n",
    "Looking_at_GTFS = Looking_at_GTFS.reset_index()\n",
    "Looking_at_GTFS"
   ]
  },
  {
   "cell_type": "code",
   "execution_count": null,
   "id": "4705dd43-8b33-40c2-9b01-c0bef409b2a1",
   "metadata": {
    "scrolled": true,
    "tags": []
   },
   "outputs": [],
   "source": [
    "bar_chart(Looking_at_GTFS, 'GTFS_schedule_status_use','organization_name')"
   ]
  },
  {
   "cell_type": "markdown",
   "id": "ac71b3e3-fe1e-49e8-9cc1-3490af1fdc48",
   "metadata": {},
   "source": [
    "## Look at Vehicles\n",
    "* Something weird going on, the total vehicles are wrong for certain counties...\n",
    "* 5339 is just about buses."
   ]
  },
  {
   "cell_type": "code",
   "execution_count": null,
   "id": "4eeace13-4054-4ac9-b9c6-c014551f7266",
   "metadata": {},
   "outputs": [],
   "source": [
    "vehicles = Aggregate1"
   ]
  },
  {
   "cell_type": "code",
   "execution_count": null,
   "id": "8f325056-ccd0-4529-90b9-f4e4c4309d9d",
   "metadata": {},
   "outputs": [],
   "source": [
    "vehicles.tail(1)"
   ]
  },
  {
   "cell_type": "code",
   "execution_count": null,
   "id": "1d34122d-bab6-44c2-9165-fd959052bc22",
   "metadata": {},
   "outputs": [],
   "source": [
    "#sum up all vehicles except 0-9 category\n",
    "vehicles['older_than_9']= vehicles['_10_12'] + vehicles['_13_15'] + vehicles['_16_20'] + vehicles['_21_25'] + vehicles['_26_30'] + vehicles['_31_60'] + vehicles['_60+']\n",
    "#dividing\n",
    "vehicles['percent_older_than_9'] = (vehicles['older_than_9']/vehicles['total_vehicles'])*100\n",
    "\n",
    "vehicles.sample(3)"
   ]
  },
  {
   "cell_type": "code",
   "execution_count": null,
   "id": "f7144e69-b2bf-4c94-87d2-f0fc0e392e22",
   "metadata": {
    "scrolled": true,
    "tags": []
   },
   "outputs": [],
   "source": [
    "Vehicles_Age = vehicles.groupby(['organization_name','vehicle_groups']).agg({'percent_older_than_9':'max'})\n",
    "Vehicles_Age ="
   ]
  }
 ],
 "metadata": {
  "kernelspec": {
   "display_name": "Python 3 (ipykernel)",
   "language": "python",
   "name": "python3"
  },
  "language_info": {
   "codemirror_mode": {
    "name": "ipython",
    "version": 3
   },
   "file_extension": ".py",
   "mimetype": "text/x-python",
   "name": "python",
   "nbconvert_exporter": "python",
   "pygments_lexer": "ipython3",
   "version": "3.9.7"
  }
 },
 "nbformat": 4,
 "nbformat_minor": 5
}
