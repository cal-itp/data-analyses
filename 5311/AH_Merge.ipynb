{
 "cells": [
  {
   "cell_type": "markdown",
   "id": "1382c77d-634a-4ca4-926e-e9eaf44d552f",
   "metadata": {},
   "source": [
    "# Testing merges "
   ]
  },
  {
   "cell_type": "code",
   "execution_count": null,
   "id": "e60b1121-c948-489c-b432-e3feb6b27d78",
   "metadata": {},
   "outputs": [],
   "source": [
    "import numpy as np\n",
    "import pandas as pd\n",
    "import math\n",
    "from siuba import *\n",
    "from calitp import *\n",
    "import intake\n",
    "import data_prep\n",
    "import fuzzymatcher\n",
    "pd.options.display.max_rows = 250"
   ]
  },
  {
   "cell_type": "code",
   "execution_count": null,
   "id": "0ede89be-4e8c-439c-8013-ce470d535dd2",
   "metadata": {},
   "outputs": [],
   "source": [
    "df_5311 = data_prep.load_grantprojects()\n",
    "vehicles = data_prep.load_cleaned_vehiclesdata()\n",
    "organizations = data_prep.load_cleaned_organizations_data()"
   ]
  },
  {
   "cell_type": "code",
   "execution_count": null,
   "id": "59b23e8b-c2b6-41f0-9ebe-cfa16a913d7b",
   "metadata": {},
   "outputs": [],
   "source": [
    "GTFS = data_prep.GTFS()"
   ]
  },
  {
   "cell_type": "markdown",
   "id": "9364796b-cd25-4b2a-bdd7-8f84f26187df",
   "metadata": {},
   "source": [
    "# Merge NTD with GTFS  --> vehicle_gtfs\n",
    "<b> NOTE</b>:\n",
    "I had to manually add NTD ID to the following agencies in the original CSV file called \"cleaned organizations.csv\"\n",
    "\n",
    "* Butte County Association of Governments\t90208\n",
    "* City of Dixon\t9402-91041\n",
    "* City of Fairfield\t90092\n",
    "* City of Ridgecrest\t9R02-91006\n",
    "* City of Wasco\t9R02-99426\n",
    "* Glenn County\t9R02-91088\n",
    "* Mariposa County\t9R02-91082\n",
    "* Modoc Transportation Authority \t9R02-91008\n",
    "* Palo Verde Valley Transit Agency\t9R02-99454\n",
    "* San Benito County Local Transportation Authority\t9R02-91009\n",
    "* San Joaquin Regional Transit District\t90012\n",
    "* Tuolumne County Transit Agency\t9402-035\n"
   ]
  },
  {
   "cell_type": "code",
   "execution_count": null,
   "id": "31b2b5a3-ef31-4464-89a5-4474751d6486",
   "metadata": {},
   "outputs": [],
   "source": [
    "#trying the iloc way \n",
    "organizations.loc[(organizations['name'] == 'Butte County Association of Governments'), \"ntd_id\"] = \"90208\"\n",
    "vehicles.loc[(vehicles['agency'] == 'Butte County Association of Governments'), \"ntd_id\"] = \"90208\"\n",
    "\n",
    "organizations.loc[(organizations['name'] == 'City of Fairfield'), \"ntd_id\"] = \"90092\"\n",
    "vehicles.loc[(vehicles['agency'] == 'City of Fairfield, California, dba: Fairfield and Suisun Transit'), \"ntd_id\"] = \"90092\""
   ]
  },
  {
   "cell_type": "code",
   "execution_count": null,
   "id": "3ce92448-f3c9-4bde-83ac-ebdf97475e26",
   "metadata": {
    "scrolled": true,
    "tags": []
   },
   "outputs": [],
   "source": [
    "#merging the 2 datasets together\n",
    "vehicles_gtfs = pd.merge(vehicles, organizations,  how='left', on=['ntd_id'], indicator=True)"
   ]
  },
  {
   "cell_type": "code",
   "execution_count": null,
   "id": "4874726e-5fce-4c5a-89e0-f3336585751b",
   "metadata": {},
   "outputs": [],
   "source": [
    "vehicles_gtfs['_merge'].value_counts()"
   ]
  },
  {
   "cell_type": "code",
   "execution_count": null,
   "id": "89143bdc-24c9-4551-b8f9-5bc141d75dc9",
   "metadata": {},
   "outputs": [],
   "source": [
    "vehicles_gtfs = vehicles_gtfs.drop(columns = ['_merge'])"
   ]
  },
  {
   "cell_type": "code",
   "execution_count": null,
   "id": "5415e553-91f7-4df7-9782-0461a4612159",
   "metadata": {},
   "outputs": [],
   "source": [
    "#vehicles_gtfs.head(2)\n",
    "vehicles_gtfs[(vehicles_gtfs.agency.str.contains(\"livermore\", case= False))]"
   ]
  },
  {
   "cell_type": "markdown",
   "id": "67788fcb-c551-4036-b0ea-450191f23e44",
   "metadata": {},
   "source": [
    "# Merging Black Cat with vehicles_gtfs"
   ]
  },
  {
   "cell_type": "code",
   "execution_count": null,
   "id": "d4a2e235-afa0-4a9c-8678-7e62ba499205",
   "metadata": {},
   "outputs": [],
   "source": [
    "right_on = [\"agency\"]\n",
    "left_on = [\"organization_name\"]"
   ]
  },
  {
   "cell_type": "code",
   "execution_count": null,
   "id": "07b518c0-4806-4102-9bd0-d93a8c127de7",
   "metadata": {},
   "outputs": [],
   "source": [
    "black_cat1 = fuzzymatcher.fuzzy_left_join(df_5311, vehicles_gtfs, left_on, right_on)"
   ]
  },
  {
   "cell_type": "code",
   "execution_count": null,
   "id": "c71c15da-0988-4c5d-896d-a72d4da31c3c",
   "metadata": {},
   "outputs": [],
   "source": [
    "unique_agencies = black_cat1[['best_match_score','organization_name','agency']]\n",
    "unique_agencies = unique_agencies.drop_duplicates()"
   ]
  },
  {
   "cell_type": "code",
   "execution_count": null,
   "id": "30c508d8-ff2a-4b03-bffd-8eb397d41c8f",
   "metadata": {
    "scrolled": true,
    "tags": []
   },
   "outputs": [],
   "source": [
    "#unique_agencies.sort_values('best_match_score')"
   ]
  },
  {
   "cell_type": "code",
   "execution_count": null,
   "id": "1d038e2f-baef-4d30-b0e4-ed9c81248c55",
   "metadata": {},
   "outputs": [],
   "source": [
    "#stuff to filter out before cutting off at scores...\n",
    "bad_matches_before_cutoff = ['County of Los Angeles - Department of Public Works', 'County of Sacramento Department of Transportation']"
   ]
  },
  {
   "cell_type": "code",
   "execution_count": null,
   "id": "3c77868b-9bf5-4928-97b5-704cae56a238",
   "metadata": {},
   "outputs": [],
   "source": [
    "#filter out a bunch the agencies above\n",
    "black_cat2 = black_cat1[~black_cat1.organization_name.isin(bad_matches_before_cutoff)]"
   ]
  },
  {
   "cell_type": "code",
   "execution_count": null,
   "id": "951a8a31-3e20-4629-9aa5-bc31bce198bc",
   "metadata": {
    "scrolled": true,
    "tags": []
   },
   "outputs": [],
   "source": [
    "#filter out for any scores below 0.19\n",
    "black_cat2 = black_cat2.loc[black_cat2['best_match_score'] > 0.19 ]"
   ]
  },
  {
   "cell_type": "code",
   "execution_count": null,
   "id": "b1065ca3-f7cf-4980-9b60-e93017a91005",
   "metadata": {},
   "outputs": [],
   "source": [
    "#total agencies that matched over with decent scores\n",
    "black_cat2['organization_name'].nunique()"
   ]
  },
  {
   "cell_type": "markdown",
   "id": "fbd38360-cc98-4005-abaf-f650361b19e6",
   "metadata": {},
   "source": [
    "## Walking back in the other agencies that were cut into a seperate dataframe"
   ]
  },
  {
   "cell_type": "code",
   "execution_count": null,
   "id": "15cbb94d-e02c-4dc8-8ef9-685270f982e7",
   "metadata": {},
   "outputs": [],
   "source": [
    "#getting a list of agencies with bad scores\n",
    "bad_fuzzy_matches = black_cat1.loc[black_cat1['best_match_score'] < 0.19 ]"
   ]
  },
  {
   "cell_type": "code",
   "execution_count": null,
   "id": "8d01a5fd-5371-4199-bc29-03aa1eca6de1",
   "metadata": {},
   "outputs": [],
   "source": [
    "bad_fuzzy_matches = bad_fuzzy_matches[['organization_name','agency', 'ntd_id']]"
   ]
  },
  {
   "cell_type": "code",
   "execution_count": null,
   "id": "53f3d131-05c4-48ed-becf-4cfd824d8c90",
   "metadata": {},
   "outputs": [],
   "source": [
    "bad_fuzzy_matches = bad_fuzzy_matches.drop_duplicates()"
   ]
  },
  {
   "cell_type": "code",
   "execution_count": null,
   "id": "eaa4e7e5-49b6-479f-8244-ad7af0e025c1",
   "metadata": {},
   "outputs": [],
   "source": [
    "#making a manual crosswalk\n",
    "#bad_fuzzy_matches.to_csv(\"./bad_fuzzy_matches.csv\", index = False) "
   ]
  },
  {
   "cell_type": "code",
   "execution_count": null,
   "id": "e180e511-a606-465e-b3de-ec8ad50e3efd",
   "metadata": {},
   "outputs": [],
   "source": [
    "#reading crosswalk 3, what I manually inputted\n",
    "crosswalk3 = pd.read_excel('corrected_bad_fuzzy_match.xlsx')"
   ]
  },
  {
   "cell_type": "code",
   "execution_count": null,
   "id": "282fc3c4-5061-43b6-889e-41cb229d05d6",
   "metadata": {},
   "outputs": [],
   "source": [
    "#crosswalk on the left, I only want a dataframe with the poorly matched agencies\n",
    "unmatched = crosswalk3.merge(df_5311, on=['organization_name'],  how='left')"
   ]
  },
  {
   "cell_type": "code",
   "execution_count": null,
   "id": "91f75078-67e8-4db0-9885-14e429a8f531",
   "metadata": {},
   "outputs": [],
   "source": [
    "#now grabbing vehicles and GTFS info on the left\n",
    "unmatched2 = unmatched.merge(vehicles_gtfs, on=['agency','ntd_id'],  how='left')"
   ]
  },
  {
   "cell_type": "markdown",
   "id": "273d55d1-f4c0-4237-850c-c83cf849900b",
   "metadata": {},
   "source": [
    "## R bind the badly matched columns back"
   ]
  },
  {
   "cell_type": "code",
   "execution_count": null,
   "id": "d9ac0a9b-51f1-433c-af22-93a68e3a85aa",
   "metadata": {},
   "outputs": [],
   "source": [
    "GTFS_Vehicles_BC = black_cat2.append(pd.DataFrame(data = unmatched2), ignore_index=True)"
   ]
  },
  {
   "cell_type": "code",
   "execution_count": null,
   "id": "5cd26e5b-a415-4cdd-a419-d45b1a90abe8",
   "metadata": {},
   "outputs": [],
   "source": [
    "GTFS_Vehicles_BC.shape"
   ]
  },
  {
   "cell_type": "markdown",
   "id": "fb812475-a3f2-464e-b063-8332220ad1ec",
   "metadata": {},
   "source": [
    "# Final Clean Up"
   ]
  },
  {
   "cell_type": "markdown",
   "id": "f7ae48bd-2575-4962-8d82-524511a847ac",
   "metadata": {
    "tags": []
   },
   "source": [
    "## One last check to make sure all the names are there\n",
    "<b> Still having issues with </b>\n",
    "* Butte\n",
    "* Fairfield\n",
    "* Tuolumne \n",
    "\n",
    "<b> Inherently, aren't sure if these agencies correspond with any GTFS & NTD records</b> \n",
    "\n",
    "* Alpine County\n",
    "* Fresno Council of Gov\n",
    "* Greyhound\n",
    "* County of LA\n",
    "* City of Tehachapi\n",
    "* Calaveras County Public Works\n",
    "* County of Nevada Public Works\n",
    "* County of Shasta Department of Public Works\n",
    "* Glenn County Transportation Commission\n",
    "* Tehama County Transit Agency\n",
    "\n",
    "<b> Has GTFS but no NTD </b>\n",
    "* Klamath Trinity Non-Emergency Transportationâ€\n",
    "\n",
    "<b> Has NTD no GTFS </b>\n",
    "* Calaveras Transit Agency"
   ]
  },
  {
   "cell_type": "code",
   "execution_count": null,
   "id": "d47b045e-e4c4-4035-b21e-a91eedbe675f",
   "metadata": {
    "scrolled": true,
    "tags": []
   },
   "outputs": [],
   "source": [
    "Names = GTFS_Vehicles_BC[['organization_name','agency','ntd_id','itp_id','gtfs_schedule_status']]\n",
    "Names = Names.drop_duplicates()\n",
    "#Names.sort_values('organization_name')"
   ]
  },
  {
   "cell_type": "code",
   "execution_count": null,
   "id": "9b100828-031c-4ff5-8c5f-ac59e6e55771",
   "metadata": {},
   "outputs": [],
   "source": [
    "Names.isna().sum()"
   ]
  },
  {
   "cell_type": "code",
   "execution_count": null,
   "id": "643c6037-b14e-483b-af67-64ea9ca06b0e",
   "metadata": {},
   "outputs": [],
   "source": [
    "Names['organization_name'].nunique()"
   ]
  },
  {
   "cell_type": "markdown",
   "id": "900f434a-c119-4e04-8332-69f0b5366133",
   "metadata": {},
   "source": [
    "## Fill in Missing Values - Loops\n",
    "* https://stackoverflow.com/questions/51097981/fill-column-of-a-dataframe-from-another-dataframe\n",
    "* https://www.kite.com/python/answers/how-to-create-a-pandas-dataframe-from-columns-in-other-dataframes-in-python\n",
    "* https://www.kite.com/python/answers/how-to-fill-a-pandas-dataframe-row-by-row-in-python\n",
    "* https://www.geeksforgeeks.org/replace-values-of-a-dataframe-with-the-value-of-another-dataframe-in-pandas/"
   ]
  },
  {
   "cell_type": "code",
   "execution_count": null,
   "id": "72875561-362c-41c6-a8fe-130559fbb7fe",
   "metadata": {},
   "outputs": [],
   "source": [
    "#only including  columns just belonging to df where GTFS and vehicles merged. \n",
    "v_gtfs_subset = vehicles_gtfs[['agency','ntd_id',\n",
    "       'organization_type', 'reporter_type', 'primary_uza_population',\n",
    "       'agency_voms', 'vehicle_type', 'years_old:', '_13_15', '_16_20',\n",
    "       '_21_25', '_26_30', '_31_60', '_60+', 'total_vehicles',\n",
    "       'average_age_of_fleet__in_years_', 'average_lifetime_miles_per_vehicle',\n",
    "       '_0_9', '_10_12', 'vehicle_groups', 'name', 'itp_id',\n",
    "       'gtfs_schedule_status']]"
   ]
  },
  {
   "cell_type": "code",
   "execution_count": null,
   "id": "282cd5f1-4cc1-4eac-869e-af67734fec2a",
   "metadata": {},
   "outputs": [],
   "source": [
    "#subsetting only for agencies that aren't matching\n",
    "subset_agencies = ['Butte County Association of Governments','City of Fairfield, California, dba: Fairfield and Suisun Transit','Tuolumne County Transit']\n",
    "subset1 = vehicles_gtfs[vehicles_gtfs.agency.isin(subset_agencies)]"
   ]
  },
  {
   "cell_type": "code",
   "execution_count": null,
   "id": "16a945ac-d333-437a-95aa-33acdff62f3b",
   "metadata": {},
   "outputs": [],
   "source": [
    "#subset for organizations that aren't matching\n",
    "subset_orgs = ['Butte County Association of Governments/ Butte Regional Transit','City of Fairfield','Tuolumne County Transit Agency (TCTA)']"
   ]
  },
  {
   "cell_type": "code",
   "execution_count": null,
   "id": "615fc1fd-146f-472d-842d-1463042cb699",
   "metadata": {},
   "outputs": [],
   "source": [
    "#only including  columns just belonging to blackcat data\n",
    "subset2 = GTFS_Vehicles_BC[GTFS_Vehicles_BC.organization_name.isin(subset_orgs)]\n",
    "subset2 = subset2[['best_match_score', '__id_left', '__id_right', 'grant_fiscal_year',\n",
    "       'funding_program', 'grant_number', 'project_year', 'organization_name',\n",
    "       'upin', 'description', 'ali', 'contract_number', 'allocationamount',\n",
    "       'encumbered_amount', 'expendedamount', 'activebalance',\n",
    "       'closedoutbalance', 'project_status','agency']]"
   ]
  },
  {
   "cell_type": "code",
   "execution_count": null,
   "id": "87cac89d-d97e-46ce-a882-017f03f72a24",
   "metadata": {},
   "outputs": [],
   "source": [
    "#Tuolumne has no agency name, fill it in\n",
    "subset2.agency = subset2.agency.fillna('Tuolumne County Transit')"
   ]
  },
  {
   "cell_type": "code",
   "execution_count": null,
   "id": "e6a2fb99-2936-4609-b220-e26daed9c4c5",
   "metadata": {},
   "outputs": [],
   "source": [
    "subset3 = pd.merge(subset1, subset2,  how='inner', on=['agency'])"
   ]
  },
  {
   "cell_type": "code",
   "execution_count": null,
   "id": "a2e06945-84ae-4716-ac72-097774a5477f",
   "metadata": {},
   "outputs": [],
   "source": [
    "#delete the original fairfield, tuolumne, and butte info\n",
    "GTFS_Vehicles_BC = GTFS_Vehicles_BC[~GTFS_Vehicles_BC.organization_name.isin(subset_orgs)]"
   ]
  },
  {
   "cell_type": "code",
   "execution_count": null,
   "id": "b0831599-20ef-4ad0-a215-f689772b3fd7",
   "metadata": {},
   "outputs": [],
   "source": [
    "GTFS_Vehicles_BC.shape"
   ]
  },
  {
   "cell_type": "code",
   "execution_count": null,
   "id": "749755a8-2f8a-4741-b80f-32c138b0f77a",
   "metadata": {},
   "outputs": [],
   "source": [
    "#append our dataframe subset 3 in\n",
    "GTFS_Vehicles_BC = GTFS_Vehicles_BC.append(subset3, ignore_index=True)"
   ]
  },
  {
   "cell_type": "markdown",
   "id": "7e711ea7-cba7-4a89-857f-0baa260f939c",
   "metadata": {},
   "source": [
    "#### Klamath has ITP data but no NTD data. Have to add it manually"
   ]
  },
  {
   "cell_type": "code",
   "execution_count": null,
   "id": "cb1a4b1a-997f-4d6c-938c-0f133336407e",
   "metadata": {},
   "outputs": [],
   "source": [
    "GTFS_Vehicles_BC.loc[(GTFS_Vehicles_BC['organization_name'] == 'Klamath Trinity Non-Emergency Transportation\\u200b'), \"itp_id\"] = \"436\"\n",
    "GTFS_Vehicles_BC.loc[(GTFS_Vehicles_BC['organization_name'] == 'Klamath Trinity Non-Emergency Transportation\\u200b'), \"gtfs_schedule_status\"] = \"needed\""
   ]
  },
  {
   "cell_type": "code",
   "execution_count": null,
   "id": "8a36836a-4691-47d2-8868-9c8c9b366ea3",
   "metadata": {},
   "outputs": [],
   "source": [
    "GTFS_Vehicles_BC.shape"
   ]
  },
  {
   "cell_type": "markdown",
   "id": "ede52eb0-a2e6-434a-a69b-3a90e8bb57a1",
   "metadata": {},
   "source": [
    "## Generate a column that indicates that the rows that only appear in Black Cat "
   ]
  },
  {
   "cell_type": "code",
   "execution_count": null,
   "id": "dcbbd53e-4dad-485e-9dfd-f7fdc32ad043",
   "metadata": {},
   "outputs": [],
   "source": [
    "missing_list = Names[Names.isna().any(axis=1)]"
   ]
  },
  {
   "cell_type": "code",
   "execution_count": null,
   "id": "9ff95537-732f-4d0c-bf1c-62a9ebad8e4c",
   "metadata": {},
   "outputs": [],
   "source": [
    "BC_only = missing_list[['organization_name']]\n",
    "BC_only=BC_only.values.tolist()"
   ]
  },
  {
   "cell_type": "code",
   "execution_count": null,
   "id": "926d334c-8a96-45c7-93ed-e71054731173",
   "metadata": {},
   "outputs": [],
   "source": [
    "BC_only = ['County of Los Angeles - Department of Public Works','Greyhound Lines, Inc.','Alpine County Community Development',\n",
    "'Fresno Council of Governments','Tehama County Transit Agency','Glenn County Transportation Commission',\n",
    "'Stanislaus County Public Works - Transit Division','County Connection (Central Contra Costa Transit Authority)','County of Nevada Public Works, Transit Services Division',\n",
    "'City of Tehachapi','Calaveras County Public Works']"
   ]
  },
  {
   "cell_type": "code",
   "execution_count": null,
   "id": "96eef81c-4609-4a6f-863f-8e1ee17bd3c8",
   "metadata": {},
   "outputs": [],
   "source": [
    "def flag_for_BC(row):\n",
    "    if row.organization_name in BC_only:\n",
    "        return '1'\n",
    "    else: \n",
    "        return '0'     "
   ]
  },
  {
   "cell_type": "code",
   "execution_count": null,
   "id": "1c3a9459-f34b-4bcf-bc4d-2847d31aa860",
   "metadata": {},
   "outputs": [],
   "source": [
    "GTFS_Vehicles_BC[\"Is_Agency_In_BC_Only_1_means_Yes\"] = GTFS_Vehicles_BC.apply(lambda x: flag_for_BC(x), axis=1)"
   ]
  },
  {
   "cell_type": "code",
   "execution_count": null,
   "id": "a40fe9cd-317c-4f77-9a3d-b7f2dc2185e4",
   "metadata": {},
   "outputs": [],
   "source": [
    "GTFS_Vehicles_BC.columns"
   ]
  },
  {
   "cell_type": "markdown",
   "id": "9056f9b3-dd79-4d46-92e5-cd5e908eb8de",
   "metadata": {},
   "source": [
    "## Replacing GTFS with more simple data - Help how come this gives us such a crazy number of new rows?\n",
    "* This data frame didn't have NTD IDS, but they do have a more definitive GTFS status like \"ok\" or \"needed.\"\n",
    "* Using provider, as that gives us the most matches for \"both\"\n",
    "* How come this gives us such a crazy number of new rows?\n"
   ]
  },
  {
   "cell_type": "code",
   "execution_count": null,
   "id": "1c118f5c-e9ce-405d-a3aa-35c047a46a25",
   "metadata": {},
   "outputs": [],
   "source": [
    "GTFS = GTFS.drop(columns=['name','operator'])\n",
    "GTFS = GTFS.rename(columns = {'gtfs_schedule_status':'simple_GTFS_status', 'provider':'name'})     \n"
   ]
  },
  {
   "cell_type": "code",
   "execution_count": null,
   "id": "285270ff-3659-4a07-a81b-f5150a79c311",
   "metadata": {},
   "outputs": [],
   "source": [
    "GTFS_Vehicles_BC2 = pd.merge(GTFS_Vehicles_BC, GTFS,  how='left', on = ['name'], indicator=True)"
   ]
  },
  {
   "cell_type": "code",
   "execution_count": null,
   "id": "1bdab237-0add-49df-8788-35759bff9d7c",
   "metadata": {},
   "outputs": [],
   "source": [
    "GTFS_Vehicles_BC2['_merge'].value_counts()"
   ]
  },
  {
   "cell_type": "code",
   "execution_count": null,
   "id": "13927c53-e9ae-4ac7-b3d0-38a9c7f8f6cc",
   "metadata": {},
   "outputs": [],
   "source": [
    "GTFS_Vehicles_BC2['gtfs_status_final'] = GTFS_Vehicles_BC2.apply(lambda x: x.gtfs_schedule_status if (str(x.simple_GTFS_status) == 'nan') else x.simple_GTFS_status\t, axis=1)"
   ]
  },
  {
   "cell_type": "code",
   "execution_count": null,
   "id": "7426307b-fd31-4263-970c-98efd612b0f4",
   "metadata": {},
   "outputs": [],
   "source": [
    "GTFS_Vehicles_BC2.sample(3)"
   ]
  },
  {
   "cell_type": "markdown",
   "id": "328f3eff-996e-4f62-8c3e-9cb741e5a9b0",
   "metadata": {},
   "source": [
    "## Final preview\n",
    "* Deleted a few things: agency, state, legacy_id, years old\n"
   ]
  },
  {
   "cell_type": "code",
   "execution_count": null,
   "id": "387d8fec-75ce-48fb-bdb5-1c46b57165f9",
   "metadata": {},
   "outputs": [],
   "source": [
    "GTFS_Vehicles_BC3 = GTFS_Vehicles_BC2.drop(columns=['_merge','best_match_score','__id_left','__id_right','state', 'legacy_ntd_id', 'years_old:','simple_GTFS_status','gtfs_schedule_status','agency','name'])"
   ]
  },
  {
   "cell_type": "code",
   "execution_count": null,
   "id": "9f0774e6-f7e9-4805-b3f7-a48c76a05b9d",
   "metadata": {},
   "outputs": [],
   "source": [
    "GTFS_Vehicles_BC3.duplicated().sum()"
   ]
  },
  {
   "cell_type": "code",
   "execution_count": null,
   "id": "a785ccff-f8d6-49eb-bb14-e12dd98b0c97",
   "metadata": {},
   "outputs": [],
   "source": [
    "GTFS_Vehicles_BC3 =GTFS_Vehicles_BC2.drop_duplicates()"
   ]
  },
  {
   "cell_type": "code",
   "execution_count": null,
   "id": "5c22ccf9-5bd5-44b7-8115-5ed57a7d37d5",
   "metadata": {},
   "outputs": [],
   "source": [
    "GTFS_Vehicles_BC3.shape"
   ]
  },
  {
   "cell_type": "code",
   "execution_count": null,
   "id": "a087e6ed-e65e-44c5-8154-2298cc02b050",
   "metadata": {},
   "outputs": [],
   "source": [
    "GTFS_Vehicles_BC3['organization_name'].nunique()"
   ]
  },
  {
   "cell_type": "code",
   "execution_count": null,
   "id": "e3407fc7-79a7-4480-8074-192dc706a72a",
   "metadata": {
    "scrolled": true,
    "tags": []
   },
   "outputs": [],
   "source": [
    "GTFS_Vehicles_BC3.isna().sum()"
   ]
  },
  {
   "cell_type": "code",
   "execution_count": null,
   "id": "5df0d7a9-c0f2-46bf-8e7e-0e594a31e9ff",
   "metadata": {
    "scrolled": true,
    "tags": []
   },
   "outputs": [],
   "source": [
    "GTFS_Vehicles_BC3.organization_name.value_counts()"
   ]
  },
  {
   "cell_type": "code",
   "execution_count": null,
   "id": "4635aeb5-117e-48d3-86d3-bd02aba2a04d",
   "metadata": {},
   "outputs": [],
   "source": [
    "#writing to GCS bucket\n",
    "GTFS_Vehicles_BC3.to_csv(\"gs://calitp-analytics-data/data-analyses/5311 /GTFS_Vehicles_BC.csv\", index= False)"
   ]
  }
 ],
 "metadata": {
  "kernelspec": {
   "display_name": "Python 3 (ipykernel)",
   "language": "python",
   "name": "python3"
  },
  "language_info": {
   "codemirror_mode": {
    "name": "ipython",
    "version": 3
   },
   "file_extension": ".py",
   "mimetype": "text/x-python",
   "name": "python",
   "nbconvert_exporter": "python",
   "pygments_lexer": "ipython3",
   "version": "3.9.7"
  }
 },
 "nbformat": 4,
 "nbformat_minor": 5
}
