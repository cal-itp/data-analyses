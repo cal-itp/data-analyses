{
 "cells": [
  {
   "cell_type": "markdown",
   "id": "1382c77d-634a-4ca4-926e-e9eaf44d552f",
   "metadata": {},
   "source": [
    "# Testing merges before turning them into functions"
   ]
  },
  {
   "cell_type": "code",
   "execution_count": null,
   "id": "e60b1121-c948-489c-b432-e3feb6b27d78",
   "metadata": {},
   "outputs": [],
   "source": [
    "import numpy as np\n",
    "import pandas as pd\n",
    "from siuba import *\n",
    "from calitp import *\n",
    "import intake\n",
    "import data_prep\n",
    "import fuzzymatcher\n",
    "pd.options.display.max_rows = 250"
   ]
  },
  {
   "cell_type": "code",
   "execution_count": null,
   "id": "282b13d7-8b0d-4a5b-a4b9-e77bd4e6d4ff",
   "metadata": {},
   "outputs": [],
   "source": [
    "df_5311 = data_prep.load_grantprojects()\n",
    "vehicles = data_prep.load_vehiclesdata2()\n",
    "organizations = data_prep.load_cleaned_organizations_data()"
   ]
  },
  {
   "cell_type": "markdown",
   "id": "9364796b-cd25-4b2a-bdd7-8f84f26187df",
   "metadata": {},
   "source": [
    "# Merge NTD with GTFS  --> vehicle_gtfs\n",
    "<b> NOTE</b>:\n",
    "I had to MANUALLY add NTD ID to the following agencies in the original CSV file called \"cleaned organizations.csv\"\n",
    "\n",
    "* Butte County Association of Governments\t90208\n",
    "* City of Dixon\t9402-91041\n",
    "* City of Fairfield\t90092\n",
    "* City of Ridgecrest\t9R02-91006\n",
    "* City of Wasco\t9R02-99426\n",
    "* Glenn County\t9R02-91088\n",
    "* Mariposa County\t9R02-91082\n",
    "* Modoc Transportation Authority \t9R02-91008\n",
    "* Palo Verde Valley Transit Agency\t9R02-99454\n",
    "* San Benito County Local Transportation Authority\t9R02-91009\n",
    "* San Joaquin Regional Transit District\t90012\n",
    "* Tuolumne County Transit Agency\t9402-035\n"
   ]
  },
  {
   "cell_type": "code",
   "execution_count": null,
   "id": "67c0001d-5a7f-4246-8671-cb1859df5926",
   "metadata": {},
   "outputs": [],
   "source": [
    "#drop records without NTD ID.\n",
    "#organizations = organizations.dropna(subset=['ntd_id'])"
   ]
  },
  {
   "cell_type": "code",
   "execution_count": null,
   "id": "39e5e024-bf32-4c63-b204-9c581b280f88",
   "metadata": {},
   "outputs": [],
   "source": [
    "#put in script later\n",
    "#vehicles.ntd_id = vehicles.ntd_id.astype(str)\n",
    "#put in script later\n",
    "#organizations.ntd_id = organizations.ntd_id.astype(str)"
   ]
  },
  {
   "cell_type": "code",
   "execution_count": null,
   "id": "31b2b5a3-ef31-4464-89a5-4474751d6486",
   "metadata": {},
   "outputs": [],
   "source": [
    "organizations.loc[(organizations['name'] == 'Butte County Association of Governments'), \"ntd_id\"] = \"90208\"\n",
    "vehicles.loc[(vehicles['agency'] == 'Butte County Association of Governments'), \"ntd_id\"] = \"90208\"\n",
    "\n",
    "organizations.loc[(organizations['name'] == 'City of Fairfield'), \"ntd_id\"] = \"90208\"\n",
    "vehicles.loc[(vehicles['agency'] == 'City of Fairfield, California, dba: Fairfield and Suisun Transit'), \"ntd_id\"] = \"90092\""
   ]
  },
  {
   "cell_type": "code",
   "execution_count": null,
   "id": "bcf2ee31-6b0a-4c53-a5d7-bab20603048b",
   "metadata": {},
   "outputs": [],
   "source": [
    "#checking to make sure the NTD IDS are the same\n",
    "organizations[organizations.name.str.contains(\"Butte County Association\")][\"ntd_id\"].iloc[0]"
   ]
  },
  {
   "cell_type": "code",
   "execution_count": null,
   "id": "7689517a-9ef7-4e0e-9d58-4a88211563b0",
   "metadata": {},
   "outputs": [],
   "source": [
    "vehicles[vehicles.agency.str.contains(\"Butte\")][\"ntd_id\"].iloc[0]"
   ]
  },
  {
   "cell_type": "code",
   "execution_count": null,
   "id": "3ce92448-f3c9-4bde-83ac-ebdf97475e26",
   "metadata": {
    "scrolled": true,
    "tags": []
   },
   "outputs": [],
   "source": [
    "#merging the 2 datasets together\n",
    "vehicles_gtfs = pd.merge(vehicles, organizations,  how='left', on=['ntd_id'], indicator=True)"
   ]
  },
  {
   "cell_type": "code",
   "execution_count": null,
   "id": "4874726e-5fce-4c5a-89e0-f3336585751b",
   "metadata": {},
   "outputs": [],
   "source": [
    "vehicles_gtfs['_merge'].value_counts()"
   ]
  },
  {
   "cell_type": "code",
   "execution_count": null,
   "id": "89143bdc-24c9-4551-b8f9-5bc141d75dc9",
   "metadata": {},
   "outputs": [],
   "source": [
    "vehicles_gtfs = vehicles_gtfs.drop(columns = ['_merge'])"
   ]
  },
  {
   "cell_type": "code",
   "execution_count": null,
   "id": "5415e553-91f7-4df7-9782-0461a4612159",
   "metadata": {},
   "outputs": [],
   "source": [
    "vehicles_gtfs.head(2)"
   ]
  },
  {
   "cell_type": "markdown",
   "id": "67788fcb-c551-4036-b0ea-450191f23e44",
   "metadata": {},
   "source": [
    "# Merging Black Cat with vehicles_gtfs"
   ]
  },
  {
   "cell_type": "code",
   "execution_count": null,
   "id": "d4a2e235-afa0-4a9c-8678-7e62ba499205",
   "metadata": {},
   "outputs": [],
   "source": [
    "right_on = [\"agency\"]\n",
    "left_on = [\"organization_name\"]"
   ]
  },
  {
   "cell_type": "code",
   "execution_count": null,
   "id": "07b518c0-4806-4102-9bd0-d93a8c127de7",
   "metadata": {},
   "outputs": [],
   "source": [
    "black_cat1 = fuzzymatcher.fuzzy_left_join(df_5311, vehicles_gtfs, left_on, right_on)"
   ]
  },
  {
   "cell_type": "code",
   "execution_count": null,
   "id": "c71c15da-0988-4c5d-896d-a72d4da31c3c",
   "metadata": {},
   "outputs": [],
   "source": [
    "unique_agencies = black_cat1[['best_match_score','organization_name','agency']]\n",
    "unique_agencies = unique_agencies.drop_duplicates()"
   ]
  },
  {
   "cell_type": "code",
   "execution_count": null,
   "id": "30c508d8-ff2a-4b03-bffd-8eb397d41c8f",
   "metadata": {
    "scrolled": true,
    "tags": []
   },
   "outputs": [],
   "source": [
    "unique_agencies.sort_values('best_match_score')"
   ]
  },
  {
   "cell_type": "code",
   "execution_count": null,
   "id": "1d038e2f-baef-4d30-b0e4-ed9c81248c55",
   "metadata": {},
   "outputs": [],
   "source": [
    "#stuff to filter out before cutting off at scores...\n",
    "subset3 = ['County of Los Angeles - Department of Public Works', 'County of Sacramento Department of Transportation']"
   ]
  },
  {
   "cell_type": "code",
   "execution_count": null,
   "id": "3c77868b-9bf5-4928-97b5-704cae56a238",
   "metadata": {},
   "outputs": [],
   "source": [
    "#filter out a bunch the agencies above\n",
    "black_cat2 = black_cat1[~black_cat1.organization_name.isin(subset3)]"
   ]
  },
  {
   "cell_type": "code",
   "execution_count": null,
   "id": "951a8a31-3e20-4629-9aa5-bc31bce198bc",
   "metadata": {
    "scrolled": true,
    "tags": []
   },
   "outputs": [],
   "source": [
    "#filter out for any scores below 0.19\n",
    "black_cat2 = black_cat2.loc[black_cat2['best_match_score'] > 0.19 ]"
   ]
  },
  {
   "cell_type": "code",
   "execution_count": null,
   "id": "b1065ca3-f7cf-4980-9b60-e93017a91005",
   "metadata": {},
   "outputs": [],
   "source": [
    "#total agencies that matched over with decent scores\n",
    "black_cat2['organization_name'].nunique()"
   ]
  },
  {
   "cell_type": "markdown",
   "id": "fbd38360-cc98-4005-abaf-f650361b19e6",
   "metadata": {},
   "source": [
    "# Walking back in the other 21 agencies that were cut into a seperate dataframe"
   ]
  },
  {
   "cell_type": "code",
   "execution_count": null,
   "id": "15cbb94d-e02c-4dc8-8ef9-685270f982e7",
   "metadata": {},
   "outputs": [],
   "source": [
    "#getting a list of agencies with bad scores\n",
    "bad_fuzzy_matches = black_cat1.loc[black_cat1['best_match_score'] < 0.19 ]"
   ]
  },
  {
   "cell_type": "code",
   "execution_count": null,
   "id": "8d01a5fd-5371-4199-bc29-03aa1eca6de1",
   "metadata": {},
   "outputs": [],
   "source": [
    "bad_fuzzy_matches = bad_fuzzy_matches[['organization_name','agency', 'ntd_id']]"
   ]
  },
  {
   "cell_type": "code",
   "execution_count": null,
   "id": "53f3d131-05c4-48ed-becf-4cfd824d8c90",
   "metadata": {},
   "outputs": [],
   "source": [
    "bad_fuzzy_matches = bad_fuzzy_matches.drop_duplicates()"
   ]
  },
  {
   "cell_type": "code",
   "execution_count": null,
   "id": "eaa4e7e5-49b6-479f-8244-ad7af0e025c1",
   "metadata": {},
   "outputs": [],
   "source": [
    "#making a manual crosswalk\n",
    "#bad_fuzzy_matches.to_csv(\"./bad_fuzzy_matches.csv\", index = False) "
   ]
  },
  {
   "cell_type": "code",
   "execution_count": null,
   "id": "e180e511-a606-465e-b3de-ec8ad50e3efd",
   "metadata": {},
   "outputs": [],
   "source": [
    "#reading crosswalk 3, what I manually inputted\n",
    "crosswalk3 = pd.read_excel('corrected_bad_fuzzy_match.xlsx')"
   ]
  },
  {
   "cell_type": "code",
   "execution_count": null,
   "id": "282fc3c4-5061-43b6-889e-41cb229d05d6",
   "metadata": {},
   "outputs": [],
   "source": [
    "#crosswalk on the left, I only want a dataframe with the poorly matched agencies\n",
    "unmatched = crosswalk3.merge(df_5311, on=['organization_name'],  how='left')"
   ]
  },
  {
   "cell_type": "code",
   "execution_count": null,
   "id": "91f75078-67e8-4db0-9885-14e429a8f531",
   "metadata": {},
   "outputs": [],
   "source": [
    "#now grabbing vehicles and GTFS info on the left\n",
    "unmatched2 = unmatched.merge(vehicles_gtfs, on=['agency','ntd_id'],  how='left')"
   ]
  },
  {
   "cell_type": "code",
   "execution_count": null,
   "id": "1d48af66-368e-40f0-9a05-eaad7e3a9410",
   "metadata": {},
   "outputs": [],
   "source": [
    "unmatched2['organization_name'].nunique()"
   ]
  },
  {
   "cell_type": "markdown",
   "id": "273d55d1-f4c0-4237-850c-c83cf849900b",
   "metadata": {},
   "source": [
    "# R Bind"
   ]
  },
  {
   "cell_type": "code",
   "execution_count": null,
   "id": "d9ac0a9b-51f1-433c-af22-93a68e3a85aa",
   "metadata": {},
   "outputs": [],
   "source": [
    "GTFS_Vehicles_BC = black_cat2.append(pd.DataFrame(data = unmatched2), ignore_index=True)"
   ]
  },
  {
   "cell_type": "code",
   "execution_count": null,
   "id": "387d8fec-75ce-48fb-bdb5-1c46b57165f9",
   "metadata": {},
   "outputs": [],
   "source": [
    "GTFS_Vehicles_BC = GTFS_Vehicles_BC.drop(columns=['best_match_score','__id_left','__id_right','vehicle_type'])"
   ]
  },
  {
   "cell_type": "code",
   "execution_count": null,
   "id": "5cd26e5b-a415-4cdd-a419-d45b1a90abe8",
   "metadata": {},
   "outputs": [],
   "source": [
    "GTFS_Vehicles_BC.shape"
   ]
  },
  {
   "cell_type": "markdown",
   "id": "f7ae48bd-2575-4962-8d82-524511a847ac",
   "metadata": {
    "tags": []
   },
   "source": [
    "## One last check to make sure all the names are there\n",
    "<b> Still having issues - even though their NTD ID has been manually changed in the Cal ITP data set, still not carrying over any GTFS info</b>\n",
    "* Butte\n",
    "* City of Fairfiefld\n",
    "\n",
    "<b> Inherently, aren't sure if these agencies correspond with any GTFS records </b> \n",
    "* Calaveras Transit Agency\n",
    "* Tuloumne\n",
    "* Alpine County\n",
    "* Fresno Council of Gov\n",
    "* Klamath Trinity Non-Emergency Transportationâ€\n",
    "* Greyhound\n",
    "* County of LA\n",
    "* City of Tehachapi\n",
    "* Calaveras County Work\n",
    "* County of Nevada Public Works\n",
    "* County Connection (Central Contra Costa Transit)\n",
    "* County of Shasta Department of Public Works\n",
    "* Glenn County Transportation Commission\n",
    "* Tehama County Transit Agency"
   ]
  },
  {
   "cell_type": "code",
   "execution_count": null,
   "id": "d47b045e-e4c4-4035-b21e-a91eedbe675f",
   "metadata": {
    "scrolled": true,
    "tags": []
   },
   "outputs": [],
   "source": [
    "Names = GTFS_Vehicles_BC[['organization_name','agency','ntd_id','itp_id','gtfs_schedule_status']]\n",
    "Names = Names.drop_duplicates()\n",
    "Names.sort_values('itp_id')"
   ]
  },
  {
   "cell_type": "code",
   "execution_count": null,
   "id": "efe0ac30-4ff0-4c90-b71f-2d7bc14425b8",
   "metadata": {},
   "outputs": [],
   "source": [
    "Names.isna().sum()"
   ]
  },
  {
   "cell_type": "code",
   "execution_count": null,
   "id": "8c86a1df-69e7-4d6d-b88d-3c44aaf5a5eb",
   "metadata": {},
   "outputs": [],
   "source": [
    "Names.shape"
   ]
  },
  {
   "cell_type": "markdown",
   "id": "ede52eb0-a2e6-434a-a69b-3a90e8bb57a1",
   "metadata": {},
   "source": [
    "## Generate a column that indicates that the rows  that don't have GTFS/NTD ID/Cal ITP, since we aren't able to match these agencies ('true'), while everything else is 'false.'"
   ]
  },
  {
   "cell_type": "code",
   "execution_count": null,
   "id": "5771ac1f-2cba-4361-b1f3-cc8658c9c137",
   "metadata": {},
   "outputs": [],
   "source": [
    "missing_list = Names[Names.isna().any(axis=1)]"
   ]
  },
  {
   "cell_type": "code",
   "execution_count": null,
   "id": "f7a7510b-7be8-439a-a7e2-ce1d9366a68a",
   "metadata": {},
   "outputs": [],
   "source": [
    "missing_agencies = missing_list[['organization_name']]"
   ]
  },
  {
   "cell_type": "code",
   "execution_count": null,
   "id": "3a327d6e-6e2b-4fd3-9b3b-9d56f79b306e",
   "metadata": {
    "scrolled": true,
    "tags": []
   },
   "outputs": [],
   "source": [
    "missing_agencies=missing_agencies.values.tolist()"
   ]
  },
  {
   "cell_type": "code",
   "execution_count": null,
   "id": "64ea6bc5-47f0-4682-aa43-154251e2a07e",
   "metadata": {
    "scrolled": true,
    "tags": []
   },
   "outputs": [],
   "source": [
    "missing_agencies"
   ]
  },
  {
   "cell_type": "code",
   "execution_count": null,
   "id": "9fd3209d-02f8-41ef-abf6-6894646502ef",
   "metadata": {},
   "outputs": [],
   "source": [
    "GTFS_Vehicles_BC = GTFS_Vehicles_BC.assign(No_GTFS_NTD_Matches = GTFS_Vehicles_BC.apply(lambda x: 0 if x.organization_name in missing_agencies else 0, axis=1))"
   ]
  },
  {
   "cell_type": "code",
   "execution_count": null,
   "id": "06bcf1e4-3dd2-4ace-a1cd-f65c9ac38565",
   "metadata": {},
   "outputs": [],
   "source": [
    "#df_combined2 = df_combined2.assign( Allocated_Before_July_31_2020_1_is_yes = df_combined2.apply(lambda x: 0 if x.Allocation_Date > pd.Timestamp(2020, 7, 31, 0) else 1, axis=1))"
   ]
  },
  {
   "cell_type": "markdown",
   "id": "1ad696f5-7cf3-4d04-890b-3d480153fb0d",
   "metadata": {},
   "source": [
    "## Generate a column that indicates that the rows  that don't have GTFS, since we aren't able to match these agencies ('true'), while everything else is 'false.'"
   ]
  },
  {
   "cell_type": "code",
   "execution_count": null,
   "id": "5b246b14-75a4-4662-9ec0-f5f816c01091",
   "metadata": {},
   "outputs": [],
   "source": [
    "missing_gtfs = Names[Names['gtfs_schedule_status'].isnull()]\n",
    "missing_gtfs = missing_gtfs[['organization_name']]\n",
    "missing_gtfs=missing_gtfs.values.tolist()"
   ]
  },
  {
   "cell_type": "code",
   "execution_count": null,
   "id": "98431f20-ed60-4cc5-a5b6-28e64295c5e4",
   "metadata": {},
   "outputs": [],
   "source": [
    "GTFS_Vehicles_BC = GTFS_Vehicles_BC.assign(No_GTFS_Matches =GTFS_Vehicles_BC.apply(lambda x: 0 if x.organization_name in missing_agencies else 0, axis=1))"
   ]
  },
  {
   "cell_type": "markdown",
   "id": "328f3eff-996e-4f62-8c3e-9cb741e5a9b0",
   "metadata": {},
   "source": [
    "## Final preview\n",
    "* Deleted a few things: agency, state, legacy_id, years old\n",
    "* LOTS of rows that look the same but the column \"upin\" makes them different. Do we need every year/contract that the agency has produced?"
   ]
  },
  {
   "cell_type": "code",
   "execution_count": null,
   "id": "f605f071-b2c7-4cea-9991-1afd809f42c8",
   "metadata": {
    "scrolled": true,
    "tags": []
   },
   "outputs": [],
   "source": [
    "GTFS_Vehicles_BC.isna().sum()"
   ]
  },
  {
   "cell_type": "code",
   "execution_count": null,
   "id": "c2bc1a31-5ab3-41c5-baab-334722ab7efd",
   "metadata": {
    "scrolled": true,
    "tags": []
   },
   "outputs": [],
   "source": [
    "GTFS_Vehicles_BC.columns"
   ]
  },
  {
   "cell_type": "code",
   "execution_count": null,
   "id": "a7c234f1-8f38-4d4a-9938-fd2182f56e97",
   "metadata": {},
   "outputs": [],
   "source": [
    "#dropping columns. I don't want Project closed by...project closed time\n",
    "GTFS_Vehicles_BC = GTFS_Vehicles_BC.drop(columns=['state', 'legacy_ntd_id', 'years_old:','agency'])"
   ]
  },
  {
   "cell_type": "code",
   "execution_count": null,
   "id": "7b4270c6-17ce-4fcc-91df-27edc4b3cbbe",
   "metadata": {},
   "outputs": [],
   "source": [
    "GTFS_Vehicles_BC.shape"
   ]
  },
  {
   "cell_type": "code",
   "execution_count": null,
   "id": "4635aeb5-117e-48d3-86d3-bd02aba2a04d",
   "metadata": {},
   "outputs": [],
   "source": [
    "#writing to GCS bucket\n",
    "GTFS_Vehicles_BC.to_csv(\"gs://calitp-analytics-data/data-analyses/5311 /GTFS_Vehicles_BC.csv\", index= False)"
   ]
  }
 ],
 "metadata": {
  "kernelspec": {
   "display_name": "Python 3 (ipykernel)",
   "language": "python",
   "name": "python3"
  },
  "language_info": {
   "codemirror_mode": {
    "name": "ipython",
    "version": 3
   },
   "file_extension": ".py",
   "mimetype": "text/x-python",
   "name": "python",
   "nbconvert_exporter": "python",
   "pygments_lexer": "ipython3",
   "version": "3.9.7"
  }
 },
 "nbformat": 4,
 "nbformat_minor": 5
}
