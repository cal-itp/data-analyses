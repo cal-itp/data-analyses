{
 "cells": [
  {
   "cell_type": "markdown",
   "id": "1382c77d-634a-4ca4-926e-e9eaf44d552f",
   "metadata": {},
   "source": [
    "# Testing merges "
   ]
  },
  {
   "cell_type": "code",
   "execution_count": null,
   "id": "e60b1121-c948-489c-b432-e3feb6b27d78",
   "metadata": {},
   "outputs": [],
   "source": [
    "import numpy as np\n",
    "import pandas as pd\n",
    "import math\n",
    "from siuba import *\n",
    "from calitp import *\n",
    "import intake\n",
    "import data_prep\n",
    "\n",
    "import shared_utils\n",
    "from plotnine import *\n",
    "import altair as alt\n",
    "import altair_saver\n",
    "from shared_utils import altair_utils \n",
    "\n",
    "pd.options.display.float_format = \"{:.2f}\".format\n",
    "pd.options.display.max_rows = 250"
   ]
  },
  {
   "cell_type": "code",
   "execution_count": null,
   "id": "0ede89be-4e8c-439c-8013-ce470d535dd2",
   "metadata": {},
   "outputs": [],
   "source": [
    "df_5311 = data_prep.load_grantprojects()\n",
    "vehicles = data_prep.load_cleaned_vehiclesdata()\n",
    "organizations = data_prep.load_cleaned_organizations_data()"
   ]
  },
  {
   "cell_type": "markdown",
   "id": "9364796b-cd25-4b2a-bdd7-8f84f26187df",
   "metadata": {},
   "source": [
    "# Merge NTD with GTFS  --> vehicle_gtfs\n",
    "<b> NOTE</b>:\n",
    "I had to manually add NTD ID to the following agencies in the original CSV file called \"cleaned organizations.csv\"\n",
    "\n",
    "* Butte County Association of Governments\t90208\n",
    "* City of Dixon\t9402-91041\n",
    "* City of Fairfield\t90092\n",
    "* City of Ridgecrest\t9R02-91006\n",
    "* City of Wasco\t9R02-99426\n",
    "* Glenn County\t9R02-91088\n",
    "* Mariposa County\t9R02-91082\n",
    "* Modoc Transportation Authority \t9R02-91008\n",
    "* Palo Verde Valley Transit Agency\t9R02-99454\n",
    "* San Benito County Local Transportation Authority\t9R02-91009\n",
    "* San Joaquin Regional Transit District\t90012\n",
    "* Tuolumne County Transit Agency\t9402-035\n"
   ]
  },
  {
   "cell_type": "code",
   "execution_count": null,
   "id": "31b2b5a3-ef31-4464-89a5-4474751d6486",
   "metadata": {},
   "outputs": [],
   "source": [
    "#trying the iloc way \n",
    "#organizations.loc[(organizations['name'] == 'Butte County Association of Governments'), \"ntd_id\"] = \"90208\"\n",
    "#vehicles.loc[(vehicles['agency'] == 'Butte County Association of Governments'), \"ntd_id\"] = \"90208\"\n",
    "\n",
    "#organizations.loc[(organizations['name'] == 'City of Fairfield'), \"ntd_id\"] = \"90092\"\n",
    "#vehicles.loc[(vehicles['agency'] == 'City of Fairfield, California, dba: Fairfield and Suisun Transit'), \"ntd_id\"] = \"90092\""
   ]
  },
  {
   "cell_type": "code",
   "execution_count": null,
   "id": "3ce92448-f3c9-4bde-83ac-ebdf97475e26",
   "metadata": {
    "scrolled": true,
    "tags": []
   },
   "outputs": [],
   "source": [
    "#merging the 2 datasets together\n",
    "vehicles_gtfs = pd.merge(vehicles, organizations,  how='left', on=['ntd_id'], indicator=True)"
   ]
  },
  {
   "cell_type": "code",
   "execution_count": null,
   "id": "64e78fd8-1c89-4560-ad48-c93640063779",
   "metadata": {},
   "outputs": [],
   "source": [
    "vehicle_agencies = vehicles_gtfs['agency'].drop_duplicates().tolist()"
   ]
  },
  {
   "cell_type": "code",
   "execution_count": null,
   "id": "4874726e-5fce-4c5a-89e0-f3336585751b",
   "metadata": {},
   "outputs": [],
   "source": [
    "vehicles_gtfs['_merge'].value_counts()"
   ]
  },
  {
   "cell_type": "code",
   "execution_count": null,
   "id": "89143bdc-24c9-4551-b8f9-5bc141d75dc9",
   "metadata": {},
   "outputs": [],
   "source": [
    "vehicles_gtfs = vehicles_gtfs.drop(columns = ['_merge'])"
   ]
  },
  {
   "cell_type": "markdown",
   "id": "688c1efb-3b20-4a64-8a81-89f3505c4c1c",
   "metadata": {},
   "source": [
    "# Merging -> Vehicle & GTFS with Black Cat."
   ]
  },
  {
   "cell_type": "code",
   "execution_count": null,
   "id": "205aae2a-5258-4e00-91ec-224bead7828d",
   "metadata": {},
   "outputs": [],
   "source": [
    "#left merge, Black Cat on the left\n",
    "Test1 = pd.merge(df_5311, vehicles_gtfs,  how='left', left_on=['organization_name'], right_on=['name'], indicator=True)"
   ]
  },
  {
   "cell_type": "code",
   "execution_count": null,
   "id": "ba4cd30e-f902-4816-9bc9-a9baeef813b2",
   "metadata": {},
   "outputs": [],
   "source": [
    "len(Test1)"
   ]
  },
  {
   "cell_type": "code",
   "execution_count": null,
   "id": "733387de-fa58-48ee-983d-09b6a9550c81",
   "metadata": {},
   "outputs": [],
   "source": [
    "# Counting left only and both\n",
    "Test1['_merge'].value_counts()"
   ]
  },
  {
   "cell_type": "code",
   "execution_count": null,
   "id": "0765ba0c-17f7-4e82-8f3a-07c5025472d7",
   "metadata": {},
   "outputs": [],
   "source": [
    "#finding the agencies that are in left only.\n",
    "Left_only = Test1[(Test1._merge.str.contains(\"left_only\", case= False))] \n",
    "Left_orgs = Left_only['organization_name'].drop_duplicates().tolist()"
   ]
  },
  {
   "cell_type": "code",
   "execution_count": null,
   "id": "28b086e2-a1f1-4fb6-82f2-5e302f3f66b2",
   "metadata": {},
   "outputs": [],
   "source": [
    "# Filter out left only matches\n",
    "m2 = Test1[~Test1.organization_name.isin(Left_orgs)]"
   ]
  },
  {
   "cell_type": "code",
   "execution_count": null,
   "id": "eb898f13-799d-4ea7-8305-641d860fd3bf",
   "metadata": {},
   "outputs": [],
   "source": [
    "#check that filter worked ok\n",
    "m2.shape"
   ]
  },
  {
   "cell_type": "code",
   "execution_count": null,
   "id": "cda87a34-5c1b-40ce-aca9-2f27ea9cb5bd",
   "metadata": {},
   "outputs": [],
   "source": [
    "m2.sample(3)"
   ]
  },
  {
   "cell_type": "markdown",
   "id": "c5d8feb0-5128-465e-8661-ca215f8daac2",
   "metadata": {},
   "source": [
    "### Failed Matches, crosswalk manually"
   ]
  },
  {
   "cell_type": "code",
   "execution_count": null,
   "id": "ce8571b0-6698-433c-ba7b-47c4184760c8",
   "metadata": {},
   "outputs": [],
   "source": [
    "#making a data frame with only failed merges out out of original Black Cat\n",
    "fail = df_5311[df_5311.organization_name.isin(Left_orgs)]"
   ]
  },
  {
   "cell_type": "code",
   "execution_count": null,
   "id": "4f216916-f35b-4ec9-8e04-e7df7ffee73a",
   "metadata": {},
   "outputs": [],
   "source": [
    "fail.shape"
   ]
  },
  {
   "cell_type": "code",
   "execution_count": null,
   "id": "5c78986a-8d62-438c-99a7-f47566eb8216",
   "metadata": {},
   "outputs": [],
   "source": [
    "#crosswalk dictionary for replacing organization name\n",
    "crosswalk = {'City of Chowchilla ': 'City of Chowchilla, dba: Chowchilla Area Transit ',\n",
    " 'City of Dinuba ':  'City of Dinuba',\n",
    " 'Modoc Transportation Agency': 'Modoc Transportation Agency',\n",
    " 'Butte County Association of Governments/ Butte Regional Transit': 'Butte County Association of Governments',\n",
    " 'Calaveras County Public Works':  'Calaveras Transit Agency',\n",
    " 'City of Escalon ':  'City of Escalon, dba: eTrans',\n",
    " 'County of Mariposa':  'Mariposa County Transit, dba: Mari-Go',\n",
    " 'County of Shasta Department of Public Works':  'County of Shasta Department of Public Works',\n",
    " 'County of Siskiyou': 'County of Siskiyou, dba: Siskiyou County Transit',\n",
    " 'County of Tulare': 'Tulare County Area Transit',\n",
    " 'Eureka Transit Service':  'City of Eureka, dba: Eureka Transit Service',\n",
    " 'Kern Regional Transit':  'Kern Regional Transit',\n",
    " 'Livermore Amador Valley Transit Authority':  'Livermore / Amador Valley Transit Authority',\n",
    " 'Placer County Public Works (TART & PCT)': 'County of Placer, dba: Placer County Department of Public Works',\n",
    " 'Plumas County Transportation Commission': 'Plumas County Transportation Commission',\n",
    " 'San Luis Obispo Regional Transit Authority':  'San Luis Obispo Regional Transit Authority',\n",
    " 'Sonoma County Transit':  'County of Sonoma, dba: Sonoma County Transit',\n",
    " 'Sunline Transit Agency':  'SunLine Transit Agency',\n",
    " 'Tehama County Transit Agency': 'Tehama County',\n",
    " 'Trinity County Department of Transportation ':  'Trinity County',\n",
    " 'Tuolumne County Transit Agency (TCTA)':  'Tuolumne County Transit',\n",
    " 'Amador Transit':  'Amador Regional Transit System',\n",
    " 'City of Corcoran - Corcoran Area Transit':  'City of Corcoran, dba: Corcoran Area Transit',\n",
    " 'Yosemite Area Regional Transportation System ':  'Yosemite Area Regional Transportation System',\n",
    " 'County Connection (Central Contra Costa Transit Authority)': 'Central Contra Costa Transit Authority, dba: COUNTY CONNECTION',\n",
    " 'Calaveras Transit Agency ': 'Calaveras Transit Agency'}"
   ]
  },
  {
   "cell_type": "code",
   "execution_count": null,
   "id": "f41883c5-5de9-423a-9edb-e4f54288b1c6",
   "metadata": {},
   "outputs": [],
   "source": [
    "#failed merges\n",
    "fail['organization_name'].replace(crosswalk, inplace= True)"
   ]
  },
  {
   "cell_type": "code",
   "execution_count": null,
   "id": "8f557654-a6a2-45f3-a6e8-14164a7bd98e",
   "metadata": {},
   "outputs": [],
   "source": [
    "#Merging the failed organizations to vehicles \n",
    "Test2 = pd.merge(fail, vehicles_gtfs,  how='left', left_on=['organization_name'], right_on=['agency'], indicator=True)"
   ]
  },
  {
   "cell_type": "code",
   "execution_count": null,
   "id": "82c35582-647b-4674-8319-36b6f03f5c79",
   "metadata": {},
   "outputs": [],
   "source": [
    "Test2['_merge'].value_counts()"
   ]
  },
  {
   "cell_type": "code",
   "execution_count": null,
   "id": "b8745e10-f2d0-46d9-afe4-fa2bd4de9adb",
   "metadata": {},
   "outputs": [],
   "source": [
    "#finding the agencies that are in left only...make sure these are the ones we aren't sure have any matches.\n",
    "Left_only = Test2[(Test2._merge.str.contains(\"left_only\", case= False))]\n",
    "#find failed agencies \n",
    "\n",
    "Left_only_orgs= Left_only['organization_name'].drop_duplicates().tolist()\n",
    "Left_only_orgs"
   ]
  },
  {
   "cell_type": "code",
   "execution_count": null,
   "id": "2a4067e7-468d-4d44-84b7-790dcc5a06b9",
   "metadata": {},
   "outputs": [],
   "source": [
    "#deleting Klamath off since it has GTFS, we only want agencies that do not appear in both GTFS & NTD \n",
    "L_only_2_orgs = ['County of Los Angeles - Department of Public Works',\n",
    " 'County of Nevada Public Works, Transit Services Division',\n",
    " 'County of Sacramento Department of Transportation',\n",
    " 'Glenn County Transportation Commission',\n",
    " 'Stanislaus County Public Works - Transit Division',\n",
    " 'Alpine County Community Development',\n",
    " 'Fresno Council of Governments',\n",
    " 'Greyhound Lines, Inc.']"
   ]
  },
  {
   "cell_type": "code",
   "execution_count": null,
   "id": "efd9cd5d-a8c5-43ea-a732-0d58a4e6815c",
   "metadata": {},
   "outputs": [],
   "source": [
    "#appending failed matches to the first data frame\n",
    "BC_GTFS_NTD = m2.append(Test2, ignore_index=True)"
   ]
  },
  {
   "cell_type": "code",
   "execution_count": null,
   "id": "6b7ad0a1-43ed-4101-b2d9-74f58757b402",
   "metadata": {},
   "outputs": [],
   "source": [
    "#checking that rows match up\n",
    "BC_GTFS_NTD.shape"
   ]
  },
  {
   "cell_type": "code",
   "execution_count": null,
   "id": "53192718-4ef2-4468-95d4-5f17b93f9cc8",
   "metadata": {},
   "outputs": [],
   "source": [
    "#checking that organizations are here\n",
    "BC_GTFS_NTD['organization_name'].nunique()"
   ]
  },
  {
   "cell_type": "code",
   "execution_count": null,
   "id": "3993425a-d771-4a51-9c31-1421223f72fa",
   "metadata": {},
   "outputs": [],
   "source": [
    "#drop  merge\n",
    "BC_GTFS_NTD = BC_GTFS_NTD.drop(columns=['_merge'])"
   ]
  },
  {
   "cell_type": "markdown",
   "id": "eda38931-d3c6-4d98-b37e-9d431a3b745d",
   "metadata": {},
   "source": [
    "### Flag agencies that appear in Black Cat Only"
   ]
  },
  {
   "cell_type": "code",
   "execution_count": null,
   "id": "acd174ab-639f-4ce2-b31e-56032cfcb16a",
   "metadata": {},
   "outputs": [],
   "source": [
    "def BC_only(row):\n",
    "    if row.organization_name in Left_only_orgs:\n",
    "        return '1'\n",
    "    else: \n",
    "        return '0'  "
   ]
  },
  {
   "cell_type": "code",
   "execution_count": null,
   "id": "313b1714-c39c-42d3-bb12-684ef3731969",
   "metadata": {},
   "outputs": [],
   "source": [
    "BC_GTFS_NTD[\"Is_Agency_In_BC_Only_1_means_Yes\"] = BC_GTFS_NTD.apply(lambda x: BC_only(x), axis=1)"
   ]
  },
  {
   "cell_type": "code",
   "execution_count": null,
   "id": "92475f64-a486-4f85-9c59-4c542a72df6b",
   "metadata": {},
   "outputs": [],
   "source": [
    "#Checking again \n",
    "BC_GTFS_NTD[(BC_GTFS_NTD.organization_name.str.contains(\"greyhound\", case= False))].head(1)"
   ]
  },
  {
   "cell_type": "markdown",
   "id": "8c66a66f-cff9-48d4-bc47-731eaaa4f6cd",
   "metadata": {},
   "source": [
    "### Replacing Klamath\n",
    "* Klamath has GTFS but no NTD records"
   ]
  },
  {
   "cell_type": "code",
   "execution_count": null,
   "id": "4e2bba4d-64e8-437d-a9f2-3f44f8002175",
   "metadata": {},
   "outputs": [],
   "source": [
    "BC_GTFS_NTD.loc[(BC_GTFS_NTD['organization_name'] == 'Klamath Trinity Non-Emergency Transportation\\u200b'), \"itp_id\"] = \"436\"\n",
    "BC_GTFS_NTD.loc[(BC_GTFS_NTD['organization_name'] == 'Klamath Trinity Non-Emergency Transportation\\u200b'), \"gtfs_schedule_status\"] = \"needed\""
   ]
  },
  {
   "cell_type": "code",
   "execution_count": null,
   "id": "8baa6744-8408-49b7-8e49-7c740b3c4c85",
   "metadata": {},
   "outputs": [],
   "source": [
    "#Checking again \n",
    "BC_GTFS_NTD[(BC_GTFS_NTD.organization_name.str.contains(\"Klamath\", case= False))].head(1)"
   ]
  },
  {
   "cell_type": "markdown",
   "id": "a14c0ff7-7d1b-40df-a19a-afb8532e036d",
   "metadata": {},
   "source": [
    "### Getting ok/needed/research out of original GTFS data frame"
   ]
  },
  {
   "cell_type": "code",
   "execution_count": null,
   "id": "b4466d9c-92e5-4f0b-a1b2-5528b734b36a",
   "metadata": {
    "scrolled": true,
    "tags": []
   },
   "outputs": [],
   "source": [
    "#look at original GTFS status for all the different varities...\n",
    "BC_GTFS_NTD['gtfs_schedule_status'].unique()"
   ]
  },
  {
   "cell_type": "code",
   "execution_count": null,
   "id": "b747020e-bc02-486d-a5fc-1ee25f6fd723",
   "metadata": {},
   "outputs": [],
   "source": [
    "#create a new column\n",
    "temp = BC_GTFS_NTD.gtfs_schedule_status.fillna(\"None\")\n",
    "BC_GTFS_NTD['GTFS_schedule_status_use'] = np.where(temp.str.contains(\"None\"),\"None\",\n",
    "                   np.where(temp.str.contains(\"ok\"), \"Ok\",\n",
    "                   np.where(temp.str.contains(\"long\"), \"Long-term solution needed\",\n",
    "                   np.where(temp.str.contains(\"research\"), \"Research\", \"Needed\"))))\n"
   ]
  },
  {
   "cell_type": "markdown",
   "id": "e725ae3e-1b68-405e-b770-0fb21f1333a0",
   "metadata": {},
   "source": [
    "### Rating Fleet Size\n",
    "* Using the aggregated df below, I did aggregate1['total_vehicles'].describe() and looked at the different percentiles to choose small, med, large, and no info"
   ]
  },
  {
   "cell_type": "code",
   "execution_count": null,
   "id": "97e8ad29-da17-42e3-8874-74b31de513b7",
   "metadata": {},
   "outputs": [],
   "source": [
    "#Function\n",
    "def fleet_size (row):\n",
    "            if ((row.total_vehicles > 0) and (row.total_vehicles < 26)):\n",
    "                return \"Small\"\n",
    "            elif ((row.total_vehicles > 25) and (row.total_vehicles < 82)):\n",
    "                return \"Medium\"\n",
    "            elif ((row.total_vehicles > 82) and (row.total_vehicles < 1200)):\n",
    "                return \"Large\"\n",
    "            else:\n",
    "                return \"No Info\""
   ]
  },
  {
   "cell_type": "code",
   "execution_count": null,
   "id": "35cf51cc-ce9d-4635-870f-30c728c8c081",
   "metadata": {},
   "outputs": [],
   "source": [
    "BC_GTFS_NTD[\"fleet_size\"] = BC_GTFS_NTD.apply(lambda x: fleet_size(x), axis=1)"
   ]
  },
  {
   "cell_type": "code",
   "execution_count": null,
   "id": "18a3cc67-1614-447a-93fe-d29843fba370",
   "metadata": {
    "scrolled": true,
    "tags": []
   },
   "outputs": [],
   "source": [
    "#Checking again \n",
    "BC_GTFS_NTD[(BC_GTFS_NTD.fleet_size.str.contains(\"Info\", case= False))]"
   ]
  },
  {
   "cell_type": "markdown",
   "id": "5ea2780d-8fe1-407b-819d-8f0e3d4730f5",
   "metadata": {},
   "source": [
    "### Final Cleaning"
   ]
  },
  {
   "cell_type": "code",
   "execution_count": null,
   "id": "007fceea-462a-40a5-ac8a-8fe1f6677690",
   "metadata": {},
   "outputs": [],
   "source": [
    "#delete old columns\n",
    "BC_GTFS_NTD2 = BC_GTFS_NTD.drop(columns=['gtfs_schedule_status','name','agency'])\n",
    "\n",
    "#rename\n",
    "BC_GTFS_NTD2 = BC_GTFS_NTD2.rename(columns = {'GTFS_schedule_status_use':'GTFS'})"
   ]
  },
  {
   "cell_type": "code",
   "execution_count": null,
   "id": "f5bbaf28-0812-4211-8a15-c261f3f58937",
   "metadata": {},
   "outputs": [],
   "source": [
    "#get agencies without any data to show up \n",
    "show_up = ['reporter_type']\n",
    "for i in show_up:\n",
    "    BC_GTFS_NTD2[i] = BC_GTFS_NTD2[i].fillna('None')"
   ]
  },
  {
   "cell_type": "code",
   "execution_count": null,
   "id": "63a55276-5fc1-4292-b352-3ae213ebc1b5",
   "metadata": {},
   "outputs": [],
   "source": [
    "#change itp id to be float.\n",
    "BC_GTFS_NTD2['itp_id'] = BC_GTFS_NTD2['itp_id'].fillna(0)\n",
    "BC_GTFS_NTD2.loc[(BC_GTFS_NTD['itp_id'] == '436'), \"itp_id\"] = 436"
   ]
  },
  {
   "cell_type": "markdown",
   "id": "381d46a1-8a29-48ab-b5ee-e982a38a5400",
   "metadata": {},
   "source": [
    "### Parquet"
   ]
  },
  {
   "cell_type": "code",
   "execution_count": null,
   "id": "b8edf555-a415-4b9a-bb10-6ff1368910b2",
   "metadata": {},
   "outputs": [],
   "source": [
    "#Parquet\n",
    "BC_GTFS_NTD2.to_parquet(\"BC_GTFS_NTD.parquet\")\n",
    "#Adding to GCS (just in case)\n",
    "#BC_GTFS_NTD2.to_parquet(\"gs://calitp-analytics-data/data-analyses/5311 /BC_GTFS_NTD.parquet\")\n",
    "#BC_GTFS_NTD2.to_csv(\"gs://calitp-analytics-data/data-analyses/5311 /BC_GTFS_NTD.csv\")"
   ]
  },
  {
   "cell_type": "markdown",
   "id": "9711a5b7-515a-495e-8e72-255e44580703",
   "metadata": {},
   "source": [
    "# Taking a quick look\n",
    "\n",
    "\n",
    "(2) % and # vehicles older vehicles (10, 15 yrs), avg age by fleet size buckets\n",
    "\n",
    "(3) # doors (which means # validators) for vehicles over 10 yrs by GTFS status and by fleet size"
   ]
  },
  {
   "cell_type": "code",
   "execution_count": null,
   "id": "f5645dab-deda-4cc6-8e74-9e442ebf04ff",
   "metadata": {},
   "outputs": [],
   "source": [
    "BC_GTFS_NTD2.columns"
   ]
  },
  {
   "cell_type": "code",
   "execution_count": null,
   "id": "2f0864d6-92eb-4aec-9f53-583cebb8f859",
   "metadata": {},
   "outputs": [],
   "source": [
    "#First grabbing only one row for each agency.\n",
    "Aggregate1 = BC_GTFS_NTD2.groupby(['organization_name','reporter_type','GTFS', 'fleet_size', 'Is_Agency_In_BC_Only_1_means_Yes']).agg({'total_vehicles':'max',\n",
    "       'average_age_of_fleet__in_years_':'max','doors_sum':'max','_0_9':'max', '_10_12':'max', '_13_15':'max', '_16_20':'max', '_21_25':'max',\n",
    "       '_26_30':'max', '_31_60':'max', '_60plus':'max',\n",
    "})"
   ]
  },
  {
   "cell_type": "code",
   "execution_count": null,
   "id": "8b707a06-583d-4b7a-b75e-c4ff2911d1f6",
   "metadata": {},
   "outputs": [],
   "source": [
    "#reset index\n",
    "Aggregate1 = Aggregate1.reset_index()"
   ]
  },
  {
   "cell_type": "markdown",
   "id": "a19b837b-6a74-4858-803b-7ac8af427412",
   "metadata": {},
   "source": [
    "### (1) % and # vehicles over 10 yrs by GTFS status bucket. Another version of over 15 yrs"
   ]
  },
  {
   "cell_type": "code",
   "execution_count": null,
   "id": "8f1498c9-ea99-4160-a75a-94562d29a81b",
   "metadata": {},
   "outputs": [],
   "source": [
    "#duplicate df into vehicles\n",
    "vehicles_gtfs_ten = Aggregate1.copy()"
   ]
  },
  {
   "cell_type": "code",
   "execution_count": null,
   "id": "d67ccaea-94cf-42b2-a3aa-582bae24dab2",
   "metadata": {},
   "outputs": [],
   "source": [
    "#Adding up by age group\n",
    "vehicles_gtfs_ten['vehicles_older_than_9']= vehicles_gtfs_ten['_10_12'] + vehicles_gtfs_ten['_13_15'] + vehicles_gtfs_ten['_16_20'] + vehicles_gtfs_ten['_21_25'] + vehicles_gtfs_ten['_26_30'] + vehicles_gtfs_ten['_31_60'] + vehicles_gtfs_ten['_60plus']\n",
    "vehicles_gtfs_ten['vehicles_older_than_16']= vehicles_gtfs_ten['_16_20'] + vehicles_gtfs_ten['_21_25'] + vehicles_gtfs_ten['_26_30'] + vehicles_gtfs_ten['_31_60'] + vehicles_gtfs_ten['_60plus']\n",
    "\n",
    "#dividing by age group\n",
    "vehicles_gtfs_ten['vehicles_percent_older_than_9'] = (vehicles_gtfs_ten['vehicles_older_than_9']/vehicles_gtfs_ten['total_vehicles'])*100\n",
    "vehicles_gtfs_ten['vehicles_percent_older_than_16'] = (vehicles_gtfs_ten['vehicles_older_than_16']/vehicles_gtfs_ten['total_vehicles'])*100\n",
    "vehicles_gtfs_ten['vehicles_percent_under_10'] = (vehicles_gtfs_ten['_0_9']/vehicles_gtfs_ten['total_vehicles'])*100"
   ]
  },
  {
   "cell_type": "code",
   "execution_count": null,
   "id": "261f1169-2171-4c9f-8dfc-6133a8feea42",
   "metadata": {
    "scrolled": true,
    "tags": []
   },
   "outputs": [],
   "source": [
    "vehicles_gtfs_ten.columns"
   ]
  },
  {
   "cell_type": "code",
   "execution_count": null,
   "id": "01bd72fe-1792-43f7-9ac8-e223acdf83fc",
   "metadata": {},
   "outputs": [],
   "source": [
    "#ONLY for vehicles over 9 \n",
    "GTFS_ten = vehicles_gtfs_ten.groupby(['GTFS']).agg({'vehicles_older_than_9':'sum','vehicles_percent_older_than_9':'median' })\n",
    "GTFS_ten = GTFS_ten.reset_index()\n",
    "GTFS_ten"
   ]
  },
  {
   "cell_type": "code",
   "execution_count": null,
   "id": "14d0c6a2-55db-449f-adaf-793c119f4bc4",
   "metadata": {
    "tags": []
   },
   "outputs": [],
   "source": [
    "data_prep.basic_bar_chart(GTFS_ten,'GTFS','vehicles_percent_older_than_9') "
   ]
  },
  {
   "cell_type": "markdown",
   "id": "3713e679-2387-4844-8f89-5669db335b75",
   "metadata": {},
   "source": [
    "### (2) % and # vehicles older vehicles (10, 15 yrs), avg age by fleet size buckets"
   ]
  },
  {
   "cell_type": "code",
   "execution_count": null,
   "id": "a0dd122a-d0a5-430a-a0cb-234511bf6f70",
   "metadata": {},
   "outputs": [],
   "source": [
    "#fleet size 9 years & older\n",
    "fleet_ten = vehicles_gtfs_ten.groupby(['fleet_size']).agg({'vehicles_older_than_9':'sum','vehicles_percent_older_than_9':'median'})\n",
    "fleet_ten = fleet_ten.reset_index()\n",
    "fleet_ten"
   ]
  },
  {
   "cell_type": "markdown",
   "id": "78e4eb79-2951-4b61-8af6-bcfb1268a5d6",
   "metadata": {},
   "source": [
    "### Looking at organizations & GTFS"
   ]
  },
  {
   "cell_type": "code",
   "execution_count": null,
   "id": "62494266-a1df-4641-bf53-0bf53477fe55",
   "metadata": {},
   "outputs": [],
   "source": [
    "Looking_at_GTFS = Aggregate1.groupby(['GTFS']).agg({'organization_name':'nunique'})\n",
    "Looking_at_GTFS = Looking_at_GTFS.reset_index()\n",
    "Looking_at_GTFS = Looking_at_GTFS.rename(columns = {'organization_name':'Count of Agencies by GTFS'})\n",
    "Looking_at_GTFS"
   ]
  },
  {
   "cell_type": "code",
   "execution_count": null,
   "id": "a3f35868-c5f6-4b50-97ec-3672413002f9",
   "metadata": {},
   "outputs": [],
   "source": [
    "data_prep.basic_bar_chart(Looking_at_GTFS,'GTFS','Count of Agencies by GTFS') "
   ]
  },
  {
   "cell_type": "code",
   "execution_count": null,
   "id": "d422985e-0323-42e3-9ab9-522ed7689c2b",
   "metadata": {},
   "outputs": [],
   "source": []
  }
 ],
 "metadata": {
  "kernelspec": {
   "display_name": "Python 3 (ipykernel)",
   "language": "python",
   "name": "python3"
  },
  "language_info": {
   "codemirror_mode": {
    "name": "ipython",
    "version": 3
   },
   "file_extension": ".py",
   "mimetype": "text/x-python",
   "name": "python",
   "nbconvert_exporter": "python",
   "pygments_lexer": "ipython3",
   "version": "3.9.7"
  },
  "toc-autonumbering": false
 },
 "nbformat": 4,
 "nbformat_minor": 5
}
