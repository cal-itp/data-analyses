{
 "cells": [
  {
   "cell_type": "markdown",
   "id": "1382c77d-634a-4ca4-926e-e9eaf44d552f",
   "metadata": {},
   "source": [
    "# Testing merges "
   ]
  },
  {
   "cell_type": "code",
   "execution_count": 1,
   "id": "e60b1121-c948-489c-b432-e3feb6b27d78",
   "metadata": {},
   "outputs": [
    {
     "name": "stderr",
     "output_type": "stream",
     "text": [
      "/opt/conda/lib/python3.9/site-packages/geopandas/_compat.py:111: UserWarning: The Shapely GEOS version (3.9.1-CAPI-1.14.2) is incompatible with the GEOS version PyGEOS was compiled with (3.10.1-CAPI-1.16.0). Conversions between both will be slow.\n"
     ]
    }
   ],
   "source": [
    "import numpy as np\n",
    "import pandas as pd\n",
    "import math\n",
    "from siuba import *\n",
    "from calitp import *\n",
    "import intake\n",
    "import data_prep\n",
    "\n",
    "import shared_utils\n",
    "from plotnine import *\n",
    "import altair as alt\n",
    "import altair_saver\n",
    "from shared_utils import altair_utils \n",
    "\n",
    "pd.options.display.float_format = \"{:.2f}\".format\n",
    "pd.options.display.max_rows = 250"
   ]
  },
  {
   "cell_type": "code",
   "execution_count": 2,
   "id": "0ede89be-4e8c-439c-8013-ce470d535dd2",
   "metadata": {},
   "outputs": [
    {
     "name": "stderr",
     "output_type": "stream",
     "text": [
      "/home/jovyan/data-analyses/5311/data_prep.py:68: SettingWithCopyWarning: \n",
      "A value is trying to be set on a copy of a slice from a DataFrame.\n",
      "Try using .loc[row_indexer,col_indexer] = value instead\n",
      "\n",
      "See the caveats in the documentation: https://pandas.pydata.org/pandas-docs/stable/user_guide/indexing.html#returning-a-view-versus-a-copy\n",
      "/home/jovyan/data-analyses/5311/data_prep.py:70: SettingWithCopyWarning: \n",
      "A value is trying to be set on a copy of a slice from a DataFrame.\n",
      "Try using .loc[row_indexer,col_indexer] = value instead\n",
      "\n",
      "See the caveats in the documentation: https://pandas.pydata.org/pandas-docs/stable/user_guide/indexing.html#returning-a-view-versus-a-copy\n",
      "/home/jovyan/data-analyses/5311/data_prep.py:122: SettingWithCopyWarning: \n",
      "A value is trying to be set on a copy of a slice from a DataFrame.\n",
      "Try using .loc[row_indexer,col_indexer] = value instead\n",
      "\n",
      "See the caveats in the documentation: https://pandas.pydata.org/pandas-docs/stable/user_guide/indexing.html#returning-a-view-versus-a-copy\n"
     ]
    }
   ],
   "source": [
    "df_5311 = data_prep.load_grantprojects()\n",
    "vehicles = data_prep.load_cleaned_vehiclesdata()\n",
    "organizations = data_prep.load_cleaned_organizations_data()"
   ]
  },
  {
   "cell_type": "markdown",
   "id": "9364796b-cd25-4b2a-bdd7-8f84f26187df",
   "metadata": {},
   "source": [
    "# Merge NTD with GTFS  --> vehicle_gtfs\n",
    "<b> NOTE</b>:\n",
    "I had to manually add NTD ID to the following agencies in the original CSV file called \"cleaned organizations.csv\"\n",
    "\n",
    "* Butte County Association of Governments\t90208\n",
    "* City of Dixon\t9402-91041\n",
    "* City of Fairfield\t90092\n",
    "* City of Ridgecrest\t9R02-91006\n",
    "* City of Wasco\t9R02-99426\n",
    "* Glenn County\t9R02-91088\n",
    "* Mariposa County\t9R02-91082\n",
    "* Modoc Transportation Authority \t9R02-91008\n",
    "* Palo Verde Valley Transit Agency\t9R02-99454\n",
    "* San Benito County Local Transportation Authority\t9R02-91009\n",
    "* San Joaquin Regional Transit District\t90012\n",
    "* Tuolumne County Transit Agency\t9402-035\n"
   ]
  },
  {
   "cell_type": "code",
   "execution_count": 3,
   "id": "31b2b5a3-ef31-4464-89a5-4474751d6486",
   "metadata": {},
   "outputs": [],
   "source": [
    "#trying the iloc way \n",
    "#organizations.loc[(organizations['name'] == 'Butte County Association of Governments'), \"ntd_id\"] = \"90208\"\n",
    "#vehicles.loc[(vehicles['agency'] == 'Butte County Association of Governments'), \"ntd_id\"] = \"90208\"\n",
    "\n",
    "#organizations.loc[(organizations['name'] == 'City of Fairfield'), \"ntd_id\"] = \"90092\"\n",
    "#vehicles.loc[(vehicles['agency'] == 'City of Fairfield, California, dba: Fairfield and Suisun Transit'), \"ntd_id\"] = \"90092\""
   ]
  },
  {
   "cell_type": "code",
   "execution_count": 4,
   "id": "3ce92448-f3c9-4bde-83ac-ebdf97475e26",
   "metadata": {
    "scrolled": true,
    "tags": []
   },
   "outputs": [],
   "source": [
    "#merging the 2 datasets together\n",
    "vehicles_gtfs = pd.merge(vehicles, organizations,  how='left', on=['ntd_id'], indicator=True)"
   ]
  },
  {
   "cell_type": "code",
   "execution_count": 5,
   "id": "64e78fd8-1c89-4560-ad48-c93640063779",
   "metadata": {},
   "outputs": [],
   "source": [
    "vehicle_agencies = vehicles_gtfs['agency'].drop_duplicates().tolist()"
   ]
  },
  {
   "cell_type": "code",
   "execution_count": 6,
   "id": "4874726e-5fce-4c5a-89e0-f3336585751b",
   "metadata": {},
   "outputs": [
    {
     "data": {
      "text/plain": [
       "both          192\n",
       "left_only      26\n",
       "right_only      0\n",
       "Name: _merge, dtype: int64"
      ]
     },
     "execution_count": 6,
     "metadata": {},
     "output_type": "execute_result"
    }
   ],
   "source": [
    "vehicles_gtfs['_merge'].value_counts()"
   ]
  },
  {
   "cell_type": "code",
   "execution_count": 7,
   "id": "89143bdc-24c9-4551-b8f9-5bc141d75dc9",
   "metadata": {},
   "outputs": [],
   "source": [
    "vehicles_gtfs = vehicles_gtfs.drop(columns = ['_merge'])"
   ]
  },
  {
   "cell_type": "markdown",
   "id": "688c1efb-3b20-4a64-8a81-89f3505c4c1c",
   "metadata": {},
   "source": [
    "# Merging -> Vehicle & GTFS with Black Cat."
   ]
  },
  {
   "cell_type": "code",
   "execution_count": 8,
   "id": "205aae2a-5258-4e00-91ec-224bead7828d",
   "metadata": {},
   "outputs": [],
   "source": [
    "#left merge, Black Cat on the left\n",
    "Test1 = pd.merge(df_5311, vehicles_gtfs,  how='left', left_on=['organization_name'], right_on=['name'], indicator=True)"
   ]
  },
  {
   "cell_type": "code",
   "execution_count": 9,
   "id": "ba4cd30e-f902-4816-9bc9-a9baeef813b2",
   "metadata": {},
   "outputs": [
    {
     "data": {
      "text/plain": [
       "798"
      ]
     },
     "execution_count": 9,
     "metadata": {},
     "output_type": "execute_result"
    }
   ],
   "source": [
    "len(Test1)"
   ]
  },
  {
   "cell_type": "code",
   "execution_count": 10,
   "id": "733387de-fa58-48ee-983d-09b6a9550c81",
   "metadata": {},
   "outputs": [
    {
     "data": {
      "text/plain": [
       "both          495\n",
       "left_only     303\n",
       "right_only      0\n",
       "Name: _merge, dtype: int64"
      ]
     },
     "execution_count": 10,
     "metadata": {},
     "output_type": "execute_result"
    }
   ],
   "source": [
    "# Counting left only and both\n",
    "Test1['_merge'].value_counts()"
   ]
  },
  {
   "cell_type": "code",
   "execution_count": 11,
   "id": "0765ba0c-17f7-4e82-8f3a-07c5025472d7",
   "metadata": {},
   "outputs": [],
   "source": [
    "#finding the agencies that are in left only.\n",
    "Left_only = Test1[(Test1._merge.str.contains(\"left_only\", case= False))] \n",
    "Left_orgs = Left_only['organization_name'].drop_duplicates().tolist()"
   ]
  },
  {
   "cell_type": "code",
   "execution_count": 12,
   "id": "28b086e2-a1f1-4fb6-82f2-5e302f3f66b2",
   "metadata": {},
   "outputs": [],
   "source": [
    "# Filter out left only matches\n",
    "m2 = Test1[~Test1.organization_name.isin(Left_orgs)]"
   ]
  },
  {
   "cell_type": "code",
   "execution_count": 13,
   "id": "eb898f13-799d-4ea7-8305-641d860fd3bf",
   "metadata": {},
   "outputs": [
    {
     "data": {
      "text/plain": [
       "(495, 45)"
      ]
     },
     "execution_count": 13,
     "metadata": {},
     "output_type": "execute_result"
    }
   ],
   "source": [
    "#check that filter worked ok\n",
    "m2.shape"
   ]
  },
  {
   "cell_type": "code",
   "execution_count": 14,
   "id": "cda87a34-5c1b-40ce-aca9-2f27ea9cb5bd",
   "metadata": {},
   "outputs": [
    {
     "data": {
      "text/html": [
       "<div>\n",
       "<style scoped>\n",
       "    .dataframe tbody tr th:only-of-type {\n",
       "        vertical-align: middle;\n",
       "    }\n",
       "\n",
       "    .dataframe tbody tr th {\n",
       "        vertical-align: top;\n",
       "    }\n",
       "\n",
       "    .dataframe thead th {\n",
       "        text-align: right;\n",
       "    }\n",
       "</style>\n",
       "<table border=\"1\" class=\"dataframe\">\n",
       "  <thead>\n",
       "    <tr style=\"text-align: right;\">\n",
       "      <th></th>\n",
       "      <th>grant_fiscal_year</th>\n",
       "      <th>funding_program</th>\n",
       "      <th>grant_number</th>\n",
       "      <th>project_year</th>\n",
       "      <th>organization_name</th>\n",
       "      <th>upin</th>\n",
       "      <th>description</th>\n",
       "      <th>ali</th>\n",
       "      <th>contract_number</th>\n",
       "      <th>allocationamount</th>\n",
       "      <th>encumbered_amount</th>\n",
       "      <th>expendedamount</th>\n",
       "      <th>activebalance</th>\n",
       "      <th>closedoutbalance</th>\n",
       "      <th>project_status</th>\n",
       "      <th>agency</th>\n",
       "      <th>ntd_id</th>\n",
       "      <th>reporter_type</th>\n",
       "      <th>_0_9</th>\n",
       "      <th>_10_12</th>\n",
       "      <th>_13_15</th>\n",
       "      <th>_16_20</th>\n",
       "      <th>_21_25</th>\n",
       "      <th>_26_30</th>\n",
       "      <th>_31_60</th>\n",
       "      <th>_60plus</th>\n",
       "      <th>total_vehicles</th>\n",
       "      <th>average_age_of_fleet__in_years_</th>\n",
       "      <th>average_lifetime_miles_per_vehicle</th>\n",
       "      <th>sum_15plus</th>\n",
       "      <th>Automobiles</th>\n",
       "      <th>Bus</th>\n",
       "      <th>Other</th>\n",
       "      <th>Service</th>\n",
       "      <th>Train</th>\n",
       "      <th>Van</th>\n",
       "      <th>automobiles_door</th>\n",
       "      <th>bus_doors</th>\n",
       "      <th>train_doors</th>\n",
       "      <th>van_doors</th>\n",
       "      <th>doors_sum</th>\n",
       "      <th>name</th>\n",
       "      <th>itp_id</th>\n",
       "      <th>gtfs_schedule_status</th>\n",
       "      <th>_merge</th>\n",
       "    </tr>\n",
       "  </thead>\n",
       "  <tbody>\n",
       "    <tr>\n",
       "      <th>157</th>\n",
       "      <td>2017</td>\n",
       "      <td>CMAQ (FTA 5311)</td>\n",
       "      <td>CA-2018-048 | 0018000002</td>\n",
       "      <td>2017</td>\n",
       "      <td>Mountain Area Regional Transit Authority</td>\n",
       "      <td>BCG0000222</td>\n",
       "      <td>Purchase Replacement &lt; 30 Ft Bus</td>\n",
       "      <td>111204</td>\n",
       "      <td>64CH17-00477</td>\n",
       "      <td>100581.00</td>\n",
       "      <td>126645.00</td>\n",
       "      <td>93089.03</td>\n",
       "      <td>7491.97</td>\n",
       "      <td>0</td>\n",
       "      <td>Open</td>\n",
       "      <td>Mountain Area Regional Transit Authority, dba:...</td>\n",
       "      <td>9R02-91012</td>\n",
       "      <td>Rural Reporter</td>\n",
       "      <td>30.00</td>\n",
       "      <td>3.00</td>\n",
       "      <td>0.00</td>\n",
       "      <td>1.00</td>\n",
       "      <td>0.00</td>\n",
       "      <td>0.00</td>\n",
       "      <td>0.00</td>\n",
       "      <td>0.00</td>\n",
       "      <td>34.00</td>\n",
       "      <td>3.96</td>\n",
       "      <td>0.00</td>\n",
       "      <td>NaN</td>\n",
       "      <td>0.00</td>\n",
       "      <td>12.00</td>\n",
       "      <td>0.00</td>\n",
       "      <td>7.00</td>\n",
       "      <td>0.00</td>\n",
       "      <td>15.00</td>\n",
       "      <td>0.00</td>\n",
       "      <td>24.00</td>\n",
       "      <td>0.00</td>\n",
       "      <td>15.00</td>\n",
       "      <td>39.00</td>\n",
       "      <td>Mountain Area Regional Transit Authority</td>\n",
       "      <td>214.00</td>\n",
       "      <td>ok,needed,needed</td>\n",
       "      <td>both</td>\n",
       "    </tr>\n",
       "    <tr>\n",
       "      <th>492</th>\n",
       "      <td>2019</td>\n",
       "      <td>Section 5311</td>\n",
       "      <td>CA-2020-015 | 0020000057</td>\n",
       "      <td>2019</td>\n",
       "      <td>North County Transit District</td>\n",
       "      <td>BCG0001429</td>\n",
       "      <td>Operating Assistance Sliding Scale</td>\n",
       "      <td>300902</td>\n",
       "      <td>64BO19-00969</td>\n",
       "      <td>440965.00</td>\n",
       "      <td>440965.00</td>\n",
       "      <td>440965.00</td>\n",
       "      <td>0.00</td>\n",
       "      <td>0</td>\n",
       "      <td>Open</td>\n",
       "      <td>North County Transit District</td>\n",
       "      <td>90030</td>\n",
       "      <td>Full Reporter</td>\n",
       "      <td>168.00</td>\n",
       "      <td>22.00</td>\n",
       "      <td>90.00</td>\n",
       "      <td>73.00</td>\n",
       "      <td>6.00</td>\n",
       "      <td>21.00</td>\n",
       "      <td>0.00</td>\n",
       "      <td>0.00</td>\n",
       "      <td>380.00</td>\n",
       "      <td>14.19</td>\n",
       "      <td>525021.42</td>\n",
       "      <td>100.00</td>\n",
       "      <td>0.00</td>\n",
       "      <td>152.00</td>\n",
       "      <td>0.00</td>\n",
       "      <td>123.00</td>\n",
       "      <td>44.00</td>\n",
       "      <td>61.00</td>\n",
       "      <td>0.00</td>\n",
       "      <td>304.00</td>\n",
       "      <td>88.00</td>\n",
       "      <td>61.00</td>\n",
       "      <td>453.00</td>\n",
       "      <td>North County Transit District</td>\n",
       "      <td>226.00</td>\n",
       "      <td>ok,ok,ok,needed,needed</td>\n",
       "      <td>both</td>\n",
       "    </tr>\n",
       "    <tr>\n",
       "      <th>497</th>\n",
       "      <td>2019</td>\n",
       "      <td>Section 5311</td>\n",
       "      <td>CA-2020-015 | 0020000057</td>\n",
       "      <td>2019</td>\n",
       "      <td>Redwood Coast Transit Authority</td>\n",
       "      <td>BCG0001509</td>\n",
       "      <td>Operating Assistance Sliding Scale</td>\n",
       "      <td>300902</td>\n",
       "      <td>64BO19-00958</td>\n",
       "      <td>200000.00</td>\n",
       "      <td>506697.00</td>\n",
       "      <td>106697.00</td>\n",
       "      <td>93303.00</td>\n",
       "      <td>0</td>\n",
       "      <td>Open</td>\n",
       "      <td>Redwood Coast Transit Authority</td>\n",
       "      <td>9R02-91097</td>\n",
       "      <td>Rural Reporter</td>\n",
       "      <td>16.00</td>\n",
       "      <td>3.00</td>\n",
       "      <td>0.00</td>\n",
       "      <td>0.00</td>\n",
       "      <td>0.00</td>\n",
       "      <td>0.00</td>\n",
       "      <td>0.00</td>\n",
       "      <td>0.00</td>\n",
       "      <td>19.00</td>\n",
       "      <td>4.12</td>\n",
       "      <td>0.00</td>\n",
       "      <td>NaN</td>\n",
       "      <td>1.00</td>\n",
       "      <td>0.00</td>\n",
       "      <td>0.00</td>\n",
       "      <td>2.00</td>\n",
       "      <td>0.00</td>\n",
       "      <td>16.00</td>\n",
       "      <td>2.00</td>\n",
       "      <td>0.00</td>\n",
       "      <td>0.00</td>\n",
       "      <td>16.00</td>\n",
       "      <td>18.00</td>\n",
       "      <td>Redwood Coast Transit Authority</td>\n",
       "      <td>261.00</td>\n",
       "      <td>ok,needed</td>\n",
       "      <td>both</td>\n",
       "    </tr>\n",
       "  </tbody>\n",
       "</table>\n",
       "</div>"
      ],
      "text/plain": [
       "     grant_fiscal_year  funding_program              grant_number  \\\n",
       "157               2017  CMAQ (FTA 5311)  CA-2018-048 | 0018000002   \n",
       "492               2019     Section 5311  CA-2020-015 | 0020000057   \n",
       "497               2019     Section 5311  CA-2020-015 | 0020000057   \n",
       "\n",
       "     project_year                         organization_name        upin  \\\n",
       "157          2017  Mountain Area Regional Transit Authority  BCG0000222   \n",
       "492          2019             North County Transit District  BCG0001429   \n",
       "497          2019           Redwood Coast Transit Authority  BCG0001509   \n",
       "\n",
       "                            description     ali contract_number  \\\n",
       "157    Purchase Replacement < 30 Ft Bus  111204    64CH17-00477   \n",
       "492  Operating Assistance Sliding Scale  300902    64BO19-00969   \n",
       "497  Operating Assistance Sliding Scale  300902    64BO19-00958   \n",
       "\n",
       "     allocationamount  encumbered_amount  expendedamount  activebalance  \\\n",
       "157         100581.00          126645.00        93089.03        7491.97   \n",
       "492         440965.00          440965.00       440965.00           0.00   \n",
       "497         200000.00          506697.00       106697.00       93303.00   \n",
       "\n",
       "     closedoutbalance project_status  \\\n",
       "157                 0           Open   \n",
       "492                 0           Open   \n",
       "497                 0           Open   \n",
       "\n",
       "                                                agency      ntd_id  \\\n",
       "157  Mountain Area Regional Transit Authority, dba:...  9R02-91012   \n",
       "492                      North County Transit District       90030   \n",
       "497                    Redwood Coast Transit Authority  9R02-91097   \n",
       "\n",
       "      reporter_type   _0_9  _10_12  _13_15  _16_20  _21_25  _26_30  _31_60  \\\n",
       "157  Rural Reporter  30.00    3.00    0.00    1.00    0.00    0.00    0.00   \n",
       "492   Full Reporter 168.00   22.00   90.00   73.00    6.00   21.00    0.00   \n",
       "497  Rural Reporter  16.00    3.00    0.00    0.00    0.00    0.00    0.00   \n",
       "\n",
       "     _60plus  total_vehicles  average_age_of_fleet__in_years_  \\\n",
       "157     0.00           34.00                             3.96   \n",
       "492     0.00          380.00                            14.19   \n",
       "497     0.00           19.00                             4.12   \n",
       "\n",
       "     average_lifetime_miles_per_vehicle  sum_15plus  Automobiles    Bus  \\\n",
       "157                                0.00         NaN         0.00  12.00   \n",
       "492                           525021.42      100.00         0.00 152.00   \n",
       "497                                0.00         NaN         1.00   0.00   \n",
       "\n",
       "     Other  Service  Train   Van  automobiles_door  bus_doors  train_doors  \\\n",
       "157   0.00     7.00   0.00 15.00              0.00      24.00         0.00   \n",
       "492   0.00   123.00  44.00 61.00              0.00     304.00        88.00   \n",
       "497   0.00     2.00   0.00 16.00              2.00       0.00         0.00   \n",
       "\n",
       "     van_doors  doors_sum                                      name  itp_id  \\\n",
       "157      15.00      39.00  Mountain Area Regional Transit Authority  214.00   \n",
       "492      61.00     453.00             North County Transit District  226.00   \n",
       "497      16.00      18.00           Redwood Coast Transit Authority  261.00   \n",
       "\n",
       "       gtfs_schedule_status _merge  \n",
       "157        ok,needed,needed   both  \n",
       "492  ok,ok,ok,needed,needed   both  \n",
       "497               ok,needed   both  "
      ]
     },
     "execution_count": 14,
     "metadata": {},
     "output_type": "execute_result"
    }
   ],
   "source": [
    "m2.sample(3)"
   ]
  },
  {
   "cell_type": "markdown",
   "id": "c5d8feb0-5128-465e-8661-ca215f8daac2",
   "metadata": {},
   "source": [
    "### Failed Matches, crosswalk manually"
   ]
  },
  {
   "cell_type": "code",
   "execution_count": 15,
   "id": "ce8571b0-6698-433c-ba7b-47c4184760c8",
   "metadata": {},
   "outputs": [],
   "source": [
    "#making a data frame with only failed merges out out of original Black Cat\n",
    "fail = df_5311[df_5311.organization_name.isin(Left_orgs)]"
   ]
  },
  {
   "cell_type": "code",
   "execution_count": 16,
   "id": "4f216916-f35b-4ec9-8e04-e7df7ffee73a",
   "metadata": {},
   "outputs": [
    {
     "data": {
      "text/plain": [
       "(303, 15)"
      ]
     },
     "execution_count": 16,
     "metadata": {},
     "output_type": "execute_result"
    }
   ],
   "source": [
    "fail.shape"
   ]
  },
  {
   "cell_type": "code",
   "execution_count": 17,
   "id": "5c78986a-8d62-438c-99a7-f47566eb8216",
   "metadata": {},
   "outputs": [],
   "source": [
    "#crosswalk dictionary for replacing organization name\n",
    "crosswalk = {'City of Chowchilla ': 'City of Chowchilla, dba: Chowchilla Area Transit ',\n",
    " 'City of Dinuba ':  'City of Dinuba',\n",
    " 'Modoc Transportation Agency': 'Modoc Transportation Agency',\n",
    " 'Butte County Association of Governments/ Butte Regional Transit': 'Butte County Association of Governments',\n",
    " 'Calaveras County Public Works':  'Calaveras Transit Agency',\n",
    " 'City of Escalon ':  'City of Escalon, dba: eTrans',\n",
    " 'County of Mariposa':  'Mariposa County Transit, dba: Mari-Go',\n",
    " 'County of Shasta Department of Public Works':  'County of Shasta Department of Public Works',\n",
    " 'County of Siskiyou': 'County of Siskiyou, dba: Siskiyou County Transit',\n",
    " 'County of Tulare': 'Tulare County Area Transit',\n",
    " 'Eureka Transit Service':  'City of Eureka, dba: Eureka Transit Service',\n",
    " 'Kern Regional Transit':  'Kern Regional Transit',\n",
    " 'Livermore Amador Valley Transit Authority':  'Livermore / Amador Valley Transit Authority',\n",
    " 'Placer County Public Works (TART & PCT)': 'County of Placer, dba: Placer County Department of Public Works',\n",
    " 'Plumas County Transportation Commission': 'Plumas County Transportation Commission',\n",
    " 'San Luis Obispo Regional Transit Authority':  'San Luis Obispo Regional Transit Authority',\n",
    " 'Sonoma County Transit':  'County of Sonoma, dba: Sonoma County Transit',\n",
    " 'Sunline Transit Agency':  'SunLine Transit Agency',\n",
    " 'Tehama County Transit Agency': 'Tehama County',\n",
    " 'Trinity County Department of Transportation ':  'Trinity County',\n",
    " 'Tuolumne County Transit Agency (TCTA)':  'Tuolumne County Transit',\n",
    " 'Amador Transit':  'Amador Regional Transit System',\n",
    " 'City of Corcoran - Corcoran Area Transit':  'City of Corcoran, dba: Corcoran Area Transit',\n",
    " 'Yosemite Area Regional Transportation System ':  'Yosemite Area Regional Transportation System',\n",
    " 'County Connection (Central Contra Costa Transit Authority)': 'Central Contra Costa Transit Authority, dba: COUNTY CONNECTION',\n",
    " 'Calaveras Transit Agency ': 'Calaveras Transit Agency'}"
   ]
  },
  {
   "cell_type": "code",
   "execution_count": 18,
   "id": "f41883c5-5de9-423a-9edb-e4f54288b1c6",
   "metadata": {},
   "outputs": [
    {
     "name": "stderr",
     "output_type": "stream",
     "text": [
      "/opt/conda/lib/python3.9/site-packages/pandas/core/generic.py:6619: SettingWithCopyWarning: \n",
      "A value is trying to be set on a copy of a slice from a DataFrame\n",
      "\n",
      "See the caveats in the documentation: https://pandas.pydata.org/pandas-docs/stable/user_guide/indexing.html#returning-a-view-versus-a-copy\n"
     ]
    }
   ],
   "source": [
    "#failed merges\n",
    "fail['organization_name'].replace(crosswalk, inplace= True)"
   ]
  },
  {
   "cell_type": "code",
   "execution_count": 19,
   "id": "8f557654-a6a2-45f3-a6e8-14164a7bd98e",
   "metadata": {},
   "outputs": [],
   "source": [
    "#Merging the failed organizations to vehicles \n",
    "Test2 = pd.merge(fail, vehicles_gtfs,  how='left', left_on=['organization_name'], right_on=['agency'], indicator=True)"
   ]
  },
  {
   "cell_type": "code",
   "execution_count": 20,
   "id": "82c35582-647b-4674-8319-36b6f03f5c79",
   "metadata": {},
   "outputs": [
    {
     "data": {
      "text/plain": [
       "both          248\n",
       "left_only      55\n",
       "right_only      0\n",
       "Name: _merge, dtype: int64"
      ]
     },
     "execution_count": 20,
     "metadata": {},
     "output_type": "execute_result"
    }
   ],
   "source": [
    "Test2['_merge'].value_counts()"
   ]
  },
  {
   "cell_type": "code",
   "execution_count": 21,
   "id": "b8745e10-f2d0-46d9-afe4-fa2bd4de9adb",
   "metadata": {},
   "outputs": [
    {
     "data": {
      "text/plain": [
       "['County of Los Angeles - Department of Public Works',\n",
       " 'County of Nevada Public Works, Transit Services Division',\n",
       " 'County of Sacramento Department of Transportation',\n",
       " 'Glenn County Transportation Commission',\n",
       " 'Stanislaus County Public Works - Transit Division',\n",
       " 'Alpine County Community Development',\n",
       " 'Fresno Council of Governments',\n",
       " 'Klamath Trinity Non-Emergency Transportation\\u200b',\n",
       " 'Greyhound Lines, Inc.']"
      ]
     },
     "execution_count": 21,
     "metadata": {},
     "output_type": "execute_result"
    }
   ],
   "source": [
    "#finding the agencies that are in left only...make sure these are the ones we aren't sure have any matches.\n",
    "Left_only = Test2[(Test2._merge.str.contains(\"left_only\", case= False))]\n",
    "#find failed agencies \n",
    "\n",
    "Left_only_orgs= Left_only['organization_name'].drop_duplicates().tolist()\n",
    "Left_only_orgs"
   ]
  },
  {
   "cell_type": "code",
   "execution_count": 22,
   "id": "2a4067e7-468d-4d44-84b7-790dcc5a06b9",
   "metadata": {},
   "outputs": [],
   "source": [
    "#deleting Klamath off since it has GTFS, we only want agencies that do not appear in both GTFS & NTD \n",
    "L_only_2_orgs = ['County of Los Angeles - Department of Public Works',\n",
    " 'County of Nevada Public Works, Transit Services Division',\n",
    " 'County of Sacramento Department of Transportation',\n",
    " 'Glenn County Transportation Commission',\n",
    " 'Stanislaus County Public Works - Transit Division',\n",
    " 'Alpine County Community Development',\n",
    " 'Fresno Council of Governments',\n",
    " 'Greyhound Lines, Inc.']"
   ]
  },
  {
   "cell_type": "code",
   "execution_count": 23,
   "id": "efd9cd5d-a8c5-43ea-a732-0d58a4e6815c",
   "metadata": {},
   "outputs": [],
   "source": [
    "#appending failed matches to the first data frame\n",
    "BC_GTFS_NTD = m2.append(Test2, ignore_index=True)"
   ]
  },
  {
   "cell_type": "code",
   "execution_count": 24,
   "id": "6b7ad0a1-43ed-4101-b2d9-74f58757b402",
   "metadata": {},
   "outputs": [
    {
     "data": {
      "text/plain": [
       "(798, 45)"
      ]
     },
     "execution_count": 24,
     "metadata": {},
     "output_type": "execute_result"
    }
   ],
   "source": [
    "#checking that rows match up\n",
    "BC_GTFS_NTD.shape"
   ]
  },
  {
   "cell_type": "code",
   "execution_count": 25,
   "id": "53192718-4ef2-4468-95d4-5f17b93f9cc8",
   "metadata": {},
   "outputs": [
    {
     "data": {
      "text/plain": [
       "87"
      ]
     },
     "execution_count": 25,
     "metadata": {},
     "output_type": "execute_result"
    }
   ],
   "source": [
    "#checking that organizations are here\n",
    "BC_GTFS_NTD['organization_name'].nunique()"
   ]
  },
  {
   "cell_type": "code",
   "execution_count": 26,
   "id": "3993425a-d771-4a51-9c31-1421223f72fa",
   "metadata": {},
   "outputs": [],
   "source": [
    "#drop  merge\n",
    "BC_GTFS_NTD = BC_GTFS_NTD.drop(columns=['_merge'])"
   ]
  },
  {
   "cell_type": "markdown",
   "id": "eda38931-d3c6-4d98-b37e-9d431a3b745d",
   "metadata": {},
   "source": [
    "### Flag agencies that appear in Black Cat Only"
   ]
  },
  {
   "cell_type": "code",
   "execution_count": 27,
   "id": "acd174ab-639f-4ce2-b31e-56032cfcb16a",
   "metadata": {},
   "outputs": [],
   "source": [
    "def BC_only(row):\n",
    "    if row.organization_name in Left_only_orgs:\n",
    "        return '1'\n",
    "    else: \n",
    "        return '0'  "
   ]
  },
  {
   "cell_type": "code",
   "execution_count": 28,
   "id": "313b1714-c39c-42d3-bb12-684ef3731969",
   "metadata": {},
   "outputs": [],
   "source": [
    "BC_GTFS_NTD[\"Is_Agency_In_BC_Only_1_means_Yes\"] = BC_GTFS_NTD.apply(lambda x: BC_only(x), axis=1)"
   ]
  },
  {
   "cell_type": "code",
   "execution_count": 29,
   "id": "92475f64-a486-4f85-9c59-4c542a72df6b",
   "metadata": {},
   "outputs": [
    {
     "data": {
      "text/html": [
       "<div>\n",
       "<style scoped>\n",
       "    .dataframe tbody tr th:only-of-type {\n",
       "        vertical-align: middle;\n",
       "    }\n",
       "\n",
       "    .dataframe tbody tr th {\n",
       "        vertical-align: top;\n",
       "    }\n",
       "\n",
       "    .dataframe thead th {\n",
       "        text-align: right;\n",
       "    }\n",
       "</style>\n",
       "<table border=\"1\" class=\"dataframe\">\n",
       "  <thead>\n",
       "    <tr style=\"text-align: right;\">\n",
       "      <th></th>\n",
       "      <th>grant_fiscal_year</th>\n",
       "      <th>funding_program</th>\n",
       "      <th>grant_number</th>\n",
       "      <th>project_year</th>\n",
       "      <th>organization_name</th>\n",
       "      <th>upin</th>\n",
       "      <th>description</th>\n",
       "      <th>ali</th>\n",
       "      <th>contract_number</th>\n",
       "      <th>allocationamount</th>\n",
       "      <th>encumbered_amount</th>\n",
       "      <th>expendedamount</th>\n",
       "      <th>activebalance</th>\n",
       "      <th>closedoutbalance</th>\n",
       "      <th>project_status</th>\n",
       "      <th>agency</th>\n",
       "      <th>ntd_id</th>\n",
       "      <th>reporter_type</th>\n",
       "      <th>_0_9</th>\n",
       "      <th>_10_12</th>\n",
       "      <th>_13_15</th>\n",
       "      <th>_16_20</th>\n",
       "      <th>_21_25</th>\n",
       "      <th>_26_30</th>\n",
       "      <th>_31_60</th>\n",
       "      <th>_60plus</th>\n",
       "      <th>total_vehicles</th>\n",
       "      <th>average_age_of_fleet__in_years_</th>\n",
       "      <th>average_lifetime_miles_per_vehicle</th>\n",
       "      <th>sum_15plus</th>\n",
       "      <th>Automobiles</th>\n",
       "      <th>Bus</th>\n",
       "      <th>Other</th>\n",
       "      <th>Service</th>\n",
       "      <th>Train</th>\n",
       "      <th>Van</th>\n",
       "      <th>automobiles_door</th>\n",
       "      <th>bus_doors</th>\n",
       "      <th>train_doors</th>\n",
       "      <th>van_doors</th>\n",
       "      <th>doors_sum</th>\n",
       "      <th>name</th>\n",
       "      <th>itp_id</th>\n",
       "      <th>gtfs_schedule_status</th>\n",
       "      <th>Is_Agency_In_BC_Only_1_means_Yes</th>\n",
       "    </tr>\n",
       "  </thead>\n",
       "  <tbody>\n",
       "    <tr>\n",
       "      <th>578</th>\n",
       "      <td>2017</td>\n",
       "      <td>Section 5311(f)</td>\n",
       "      <td>CA-2017-168 | 0017000259-F</td>\n",
       "      <td>2017</td>\n",
       "      <td>Greyhound Lines, Inc.</td>\n",
       "      <td>BCG0000173</td>\n",
       "      <td>Operating Assistance - Route 1 Service from Ar...</td>\n",
       "      <td>300902</td>\n",
       "      <td>64CO17-00447</td>\n",
       "      <td>161293.00</td>\n",
       "      <td>247887.00</td>\n",
       "      <td>161293.00</td>\n",
       "      <td>0.00</td>\n",
       "      <td>0</td>\n",
       "      <td>Open</td>\n",
       "      <td>NaN</td>\n",
       "      <td>NaN</td>\n",
       "      <td>NaN</td>\n",
       "      <td>NaN</td>\n",
       "      <td>NaN</td>\n",
       "      <td>NaN</td>\n",
       "      <td>NaN</td>\n",
       "      <td>NaN</td>\n",
       "      <td>NaN</td>\n",
       "      <td>NaN</td>\n",
       "      <td>NaN</td>\n",
       "      <td>NaN</td>\n",
       "      <td>NaN</td>\n",
       "      <td>NaN</td>\n",
       "      <td>NaN</td>\n",
       "      <td>NaN</td>\n",
       "      <td>NaN</td>\n",
       "      <td>NaN</td>\n",
       "      <td>NaN</td>\n",
       "      <td>NaN</td>\n",
       "      <td>NaN</td>\n",
       "      <td>NaN</td>\n",
       "      <td>NaN</td>\n",
       "      <td>NaN</td>\n",
       "      <td>NaN</td>\n",
       "      <td>NaN</td>\n",
       "      <td>NaN</td>\n",
       "      <td>NaN</td>\n",
       "      <td>NaN</td>\n",
       "      <td>1</td>\n",
       "    </tr>\n",
       "  </tbody>\n",
       "</table>\n",
       "</div>"
      ],
      "text/plain": [
       "     grant_fiscal_year  funding_program                grant_number  \\\n",
       "578               2017  Section 5311(f)  CA-2017-168 | 0017000259-F   \n",
       "\n",
       "     project_year      organization_name        upin  \\\n",
       "578          2017  Greyhound Lines, Inc.  BCG0000173   \n",
       "\n",
       "                                           description     ali  \\\n",
       "578  Operating Assistance - Route 1 Service from Ar...  300902   \n",
       "\n",
       "    contract_number  allocationamount  encumbered_amount  expendedamount  \\\n",
       "578    64CO17-00447         161293.00          247887.00       161293.00   \n",
       "\n",
       "     activebalance  closedoutbalance project_status agency ntd_id  \\\n",
       "578           0.00                 0           Open    NaN    NaN   \n",
       "\n",
       "    reporter_type  _0_9  _10_12  _13_15  _16_20  _21_25  _26_30  _31_60  \\\n",
       "578           NaN   NaN     NaN     NaN     NaN     NaN     NaN     NaN   \n",
       "\n",
       "     _60plus  total_vehicles  average_age_of_fleet__in_years_  \\\n",
       "578      NaN             NaN                              NaN   \n",
       "\n",
       "     average_lifetime_miles_per_vehicle  sum_15plus  Automobiles  Bus  Other  \\\n",
       "578                                 NaN         NaN          NaN  NaN    NaN   \n",
       "\n",
       "     Service  Train  Van  automobiles_door  bus_doors  train_doors  van_doors  \\\n",
       "578      NaN    NaN  NaN               NaN        NaN          NaN        NaN   \n",
       "\n",
       "     doors_sum name  itp_id gtfs_schedule_status  \\\n",
       "578        NaN  NaN     NaN                  NaN   \n",
       "\n",
       "    Is_Agency_In_BC_Only_1_means_Yes  \n",
       "578                                1  "
      ]
     },
     "execution_count": 29,
     "metadata": {},
     "output_type": "execute_result"
    }
   ],
   "source": [
    "#Checking again \n",
    "BC_GTFS_NTD[(BC_GTFS_NTD.organization_name.str.contains(\"greyhound\", case= False))].head(1)"
   ]
  },
  {
   "cell_type": "markdown",
   "id": "8c66a66f-cff9-48d4-bc47-731eaaa4f6cd",
   "metadata": {},
   "source": [
    "### Replacing Klamath\n",
    "* Klamath has GTFS but no NTD records"
   ]
  },
  {
   "cell_type": "code",
   "execution_count": 30,
   "id": "4e2bba4d-64e8-437d-a9f2-3f44f8002175",
   "metadata": {},
   "outputs": [],
   "source": [
    "BC_GTFS_NTD.loc[(BC_GTFS_NTD['organization_name'] == 'Klamath Trinity Non-Emergency Transportation\\u200b'), \"itp_id\"] = \"436\"\n",
    "BC_GTFS_NTD.loc[(BC_GTFS_NTD['organization_name'] == 'Klamath Trinity Non-Emergency Transportation\\u200b'), \"gtfs_schedule_status\"] = \"needed\""
   ]
  },
  {
   "cell_type": "code",
   "execution_count": 31,
   "id": "8baa6744-8408-49b7-8e49-7c740b3c4c85",
   "metadata": {},
   "outputs": [
    {
     "data": {
      "text/html": [
       "<div>\n",
       "<style scoped>\n",
       "    .dataframe tbody tr th:only-of-type {\n",
       "        vertical-align: middle;\n",
       "    }\n",
       "\n",
       "    .dataframe tbody tr th {\n",
       "        vertical-align: top;\n",
       "    }\n",
       "\n",
       "    .dataframe thead th {\n",
       "        text-align: right;\n",
       "    }\n",
       "</style>\n",
       "<table border=\"1\" class=\"dataframe\">\n",
       "  <thead>\n",
       "    <tr style=\"text-align: right;\">\n",
       "      <th></th>\n",
       "      <th>grant_fiscal_year</th>\n",
       "      <th>funding_program</th>\n",
       "      <th>grant_number</th>\n",
       "      <th>project_year</th>\n",
       "      <th>organization_name</th>\n",
       "      <th>upin</th>\n",
       "      <th>description</th>\n",
       "      <th>ali</th>\n",
       "      <th>contract_number</th>\n",
       "      <th>allocationamount</th>\n",
       "      <th>encumbered_amount</th>\n",
       "      <th>expendedamount</th>\n",
       "      <th>activebalance</th>\n",
       "      <th>closedoutbalance</th>\n",
       "      <th>project_status</th>\n",
       "      <th>agency</th>\n",
       "      <th>ntd_id</th>\n",
       "      <th>reporter_type</th>\n",
       "      <th>_0_9</th>\n",
       "      <th>_10_12</th>\n",
       "      <th>_13_15</th>\n",
       "      <th>_16_20</th>\n",
       "      <th>_21_25</th>\n",
       "      <th>_26_30</th>\n",
       "      <th>_31_60</th>\n",
       "      <th>_60plus</th>\n",
       "      <th>total_vehicles</th>\n",
       "      <th>average_age_of_fleet__in_years_</th>\n",
       "      <th>average_lifetime_miles_per_vehicle</th>\n",
       "      <th>sum_15plus</th>\n",
       "      <th>Automobiles</th>\n",
       "      <th>Bus</th>\n",
       "      <th>Other</th>\n",
       "      <th>Service</th>\n",
       "      <th>Train</th>\n",
       "      <th>Van</th>\n",
       "      <th>automobiles_door</th>\n",
       "      <th>bus_doors</th>\n",
       "      <th>train_doors</th>\n",
       "      <th>van_doors</th>\n",
       "      <th>doors_sum</th>\n",
       "      <th>name</th>\n",
       "      <th>itp_id</th>\n",
       "      <th>gtfs_schedule_status</th>\n",
       "      <th>Is_Agency_In_BC_Only_1_means_Yes</th>\n",
       "    </tr>\n",
       "  </thead>\n",
       "  <tbody>\n",
       "    <tr>\n",
       "      <th>544</th>\n",
       "      <td>2017</td>\n",
       "      <td>5311(f) Cont</td>\n",
       "      <td>TBD</td>\n",
       "      <td>2017</td>\n",
       "      <td>Klamath Trinity Non-Emergency Transportation​</td>\n",
       "      <td>BCG0000168</td>\n",
       "      <td>Operating Assistance</td>\n",
       "      <td>300902</td>\n",
       "      <td>64CO17-00467</td>\n",
       "      <td>8344.00</td>\n",
       "      <td>8344.00</td>\n",
       "      <td>8344.00</td>\n",
       "      <td>0.00</td>\n",
       "      <td>0</td>\n",
       "      <td>Open</td>\n",
       "      <td>NaN</td>\n",
       "      <td>NaN</td>\n",
       "      <td>NaN</td>\n",
       "      <td>NaN</td>\n",
       "      <td>NaN</td>\n",
       "      <td>NaN</td>\n",
       "      <td>NaN</td>\n",
       "      <td>NaN</td>\n",
       "      <td>NaN</td>\n",
       "      <td>NaN</td>\n",
       "      <td>NaN</td>\n",
       "      <td>NaN</td>\n",
       "      <td>NaN</td>\n",
       "      <td>NaN</td>\n",
       "      <td>NaN</td>\n",
       "      <td>NaN</td>\n",
       "      <td>NaN</td>\n",
       "      <td>NaN</td>\n",
       "      <td>NaN</td>\n",
       "      <td>NaN</td>\n",
       "      <td>NaN</td>\n",
       "      <td>NaN</td>\n",
       "      <td>NaN</td>\n",
       "      <td>NaN</td>\n",
       "      <td>NaN</td>\n",
       "      <td>NaN</td>\n",
       "      <td>NaN</td>\n",
       "      <td>436</td>\n",
       "      <td>needed</td>\n",
       "      <td>1</td>\n",
       "    </tr>\n",
       "  </tbody>\n",
       "</table>\n",
       "</div>"
      ],
      "text/plain": [
       "     grant_fiscal_year funding_program grant_number  project_year  \\\n",
       "544               2017    5311(f) Cont          TBD          2017   \n",
       "\n",
       "                                 organization_name        upin  \\\n",
       "544  Klamath Trinity Non-Emergency Transportation​  BCG0000168   \n",
       "\n",
       "               description     ali contract_number  allocationamount  \\\n",
       "544  Operating Assistance   300902    64CO17-00467           8344.00   \n",
       "\n",
       "     encumbered_amount  expendedamount  activebalance  closedoutbalance  \\\n",
       "544            8344.00         8344.00           0.00                 0   \n",
       "\n",
       "    project_status agency ntd_id reporter_type  _0_9  _10_12  _13_15  _16_20  \\\n",
       "544           Open    NaN    NaN           NaN   NaN     NaN     NaN     NaN   \n",
       "\n",
       "     _21_25  _26_30  _31_60  _60plus  total_vehicles  \\\n",
       "544     NaN     NaN     NaN      NaN             NaN   \n",
       "\n",
       "     average_age_of_fleet__in_years_  average_lifetime_miles_per_vehicle  \\\n",
       "544                              NaN                                 NaN   \n",
       "\n",
       "     sum_15plus  Automobiles  Bus  Other  Service  Train  Van  \\\n",
       "544         NaN          NaN  NaN    NaN      NaN    NaN  NaN   \n",
       "\n",
       "     automobiles_door  bus_doors  train_doors  van_doors  doors_sum name  \\\n",
       "544               NaN        NaN          NaN        NaN        NaN  NaN   \n",
       "\n",
       "    itp_id gtfs_schedule_status Is_Agency_In_BC_Only_1_means_Yes  \n",
       "544    436               needed                                1  "
      ]
     },
     "execution_count": 31,
     "metadata": {},
     "output_type": "execute_result"
    }
   ],
   "source": [
    "#Checking again \n",
    "BC_GTFS_NTD[(BC_GTFS_NTD.organization_name.str.contains(\"Klamath\", case= False))].head(1)"
   ]
  },
  {
   "cell_type": "markdown",
   "id": "a14c0ff7-7d1b-40df-a19a-afb8532e036d",
   "metadata": {},
   "source": [
    "### Getting ok/needed/research out of original GTFS data frame"
   ]
  },
  {
   "cell_type": "code",
   "execution_count": 32,
   "id": "b4466d9c-92e5-4f0b-a1b2-5528b734b36a",
   "metadata": {
    "scrolled": true,
    "tags": []
   },
   "outputs": [
    {
     "data": {
      "text/plain": [
       "array(['ok,needed,needed',\n",
       "       'needed,needed,ok,ok,needed,ok,ok,needed,needed,needed,needed,needed,ok,ok,ok,needed,ok,needed,needed,needed,needed,needed',\n",
       "       'ok', 'needed,ok,needed,ok', 'needed,ok,ok,ok',\n",
       "       'need long-term solution,needed', 'ok,needed', 'needed',\n",
       "       'ok,needed,ok', 'needed,ok', 'need long-term solution', nan,\n",
       "       'ok,needed,ok,ok,ok,needed,needed,needed,needed',\n",
       "       'ok,needed,needed,needed,needed', 'needed,needed,needed,needed',\n",
       "       'needed,ok,needed,needed,needed,needed,needed,needed,needed',\n",
       "       'ok,needed,needed,needed,needed,needed',\n",
       "       'needed,needed,needed,needed,research,needed', 'ok,research',\n",
       "       'ok,needed,needed,ok,needed,needed,research,needed',\n",
       "       'ok,ok,ok,needed,needed', 'needed,ok,needed',\n",
       "       'ok,ok,ok,ok,needed,needed',\n",
       "       'ok,needed,needed,needed,research,needed',\n",
       "       'ok,ok,ok,ok,ok,ok,needed,needed', 'needed,needed,ok,ok',\n",
       "       'needed,needed,needed', 'needed,ok,needed,needed', 'ok,ok',\n",
       "       'needed,needed',\n",
       "       'ok,needed,needed,needed,needed,needed,needed,needed,needed',\n",
       "       'ok,ok,ok,needed,needed,needed,needed,needed,needed,needed,needed',\n",
       "       'needed,ok,ok,needed,needed,needed'], dtype=object)"
      ]
     },
     "execution_count": 32,
     "metadata": {},
     "output_type": "execute_result"
    }
   ],
   "source": [
    "#look at original GTFS status for all the different varities...\n",
    "BC_GTFS_NTD['gtfs_schedule_status'].unique()"
   ]
  },
  {
   "cell_type": "code",
   "execution_count": 33,
   "id": "b747020e-bc02-486d-a5fc-1ee25f6fd723",
   "metadata": {},
   "outputs": [],
   "source": [
    "#create a new column\n",
    "temp = BC_GTFS_NTD.gtfs_schedule_status.fillna(\"None\")\n",
    "BC_GTFS_NTD['GTFS_schedule_status_use'] = np.where(temp.str.contains(\"None\"),\"None\",\n",
    "                   np.where(temp.str.contains(\"ok\"), \"Ok\",\n",
    "                   np.where(temp.str.contains(\"long\"), \"Long-term solution needed\",\n",
    "                   np.where(temp.str.contains(\"research\"), \"Research\", \"Needed\"))))\n"
   ]
  },
  {
   "cell_type": "markdown",
   "id": "e725ae3e-1b68-405e-b770-0fb21f1333a0",
   "metadata": {},
   "source": [
    "### Rating Fleet Size\n",
    "* Using the aggregated df below, I did aggregate1['total_vehicles'].describe() and looked at the different percentiles to choose small, med, large, and no info"
   ]
  },
  {
   "cell_type": "code",
   "execution_count": 34,
   "id": "95de8002-8169-46ec-b297-0e808e893dac",
   "metadata": {},
   "outputs": [],
   "source": [
    "#First grabbing only one row for each agency.\n",
    "Fleet_size = BC_GTFS_NTD.groupby(['organization_name',]).agg({'total_vehicles':'max'})\n"
   ]
  },
  {
   "cell_type": "code",
   "execution_count": 35,
   "id": "f1d20f7f-27da-4e5c-9e3a-4f04a0ef3e35",
   "metadata": {},
   "outputs": [
    {
     "data": {
      "text/plain": [
       "pandas.core.frame.DataFrame"
      ]
     },
     "execution_count": 35,
     "metadata": {},
     "output_type": "execute_result"
    }
   ],
   "source": [
    "Fleet_size = Fleet_size.reindex()\n",
    "type(Fleet_size)"
   ]
  },
  {
   "cell_type": "code",
   "execution_count": 36,
   "id": "637f452e-86f7-4b82-8eae-3970616b72f7",
   "metadata": {},
   "outputs": [
    {
     "data": {
      "text/plain": [
       "count     78.00\n",
       "mean      89.69\n",
       "std      189.60\n",
       "min        1.00\n",
       "25%        9.25\n",
       "50%       24.50\n",
       "75%       80.25\n",
       "max     1114.00\n",
       "Name: total_vehicles, dtype: float64"
      ]
     },
     "execution_count": 36,
     "metadata": {},
     "output_type": "execute_result"
    }
   ],
   "source": [
    "Fleet_size['total_vehicles'].describe()"
   ]
  },
  {
   "cell_type": "code",
   "execution_count": 37,
   "id": "9fd3e73a-a430-4da8-8735-5961aac8ef6b",
   "metadata": {},
   "outputs": [
    {
     "ename": "TypeError",
     "evalue": "'Series' object is not callable",
     "output_type": "error",
     "traceback": [
      "\u001b[0;31m---------------------------------------------------------------------------\u001b[0m",
      "\u001b[0;31mTypeError\u001b[0m                                 Traceback (most recent call last)",
      "\u001b[0;32m/tmp/ipykernel_4049/2687832152.py\u001b[0m in \u001b[0;36m<module>\u001b[0;34m\u001b[0m\n\u001b[1;32m      1\u001b[0m \u001b[0;31m#Get percentiles in a variable\u001b[0m\u001b[0;34m\u001b[0m\u001b[0;34m\u001b[0m\u001b[0m\n\u001b[0;32m----> 2\u001b[0;31m \u001b[0mp75\u001b[0m \u001b[0;34m=\u001b[0m \u001b[0mFleet_size\u001b[0m\u001b[0;34m.\u001b[0m\u001b[0mtotal_vehicles\u001b[0m\u001b[0;34m(\u001b[0m\u001b[0;34m'mean'\u001b[0m\u001b[0;34m)\u001b[0m\u001b[0;34m\u001b[0m\u001b[0;34m\u001b[0m\u001b[0m\n\u001b[0m\u001b[1;32m      3\u001b[0m \u001b[0;31m#p25 = Fleet_size.total_vehicles.quantile(0.25)\u001b[0m\u001b[0;34m\u001b[0m\u001b[0;34m\u001b[0m\u001b[0m\n\u001b[1;32m      4\u001b[0m \u001b[0;31m#p50 = Fleet_size.total_vehicles.quantile(0.50)\u001b[0m\u001b[0;34m\u001b[0m\u001b[0;34m\u001b[0m\u001b[0m\n",
      "\u001b[0;31mTypeError\u001b[0m: 'Series' object is not callable"
     ]
    }
   ],
   "source": [
    "#Get percentiles in a variable\n",
    "p75 = Fleet_size.total_vehicles(0.75)\n",
    "p25 = Fleet_size.total_vehicles.quantile(0.25)\n",
    "p50 = Fleet_size.total_vehicles.quantile(0.50)"
   ]
  },
  {
   "cell_type": "code",
   "execution_count": null,
   "id": "97e8ad29-da17-42e3-8874-74b31de513b7",
   "metadata": {},
   "outputs": [],
   "source": [
    "#Function\n",
    "def fleet_size (row):\n",
    "            if ((row.total_vehicles > 0) and (row.total_vehicles < 26)):\n",
    "                return \"Small\"\n",
    "            elif ((row.total_vehicles > 25) and (row.total_vehicles < 82)):\n",
    "                return \"Medium\"\n",
    "            elif ((row.total_vehicles > 82) and (row.total_vehicles < 1200)):\n",
    "                return \"Large\"\n",
    "            else:\n",
    "                return \"No Info\""
   ]
  },
  {
   "cell_type": "code",
   "execution_count": null,
   "id": "35cf51cc-ce9d-4635-870f-30c728c8c081",
   "metadata": {},
   "outputs": [],
   "source": [
    "BC_GTFS_NTD[\"fleet_size\"] = BC_GTFS_NTD.apply(lambda x: fleet_size(x), axis=1)"
   ]
  },
  {
   "cell_type": "code",
   "execution_count": null,
   "id": "18a3cc67-1614-447a-93fe-d29843fba370",
   "metadata": {
    "scrolled": true,
    "tags": []
   },
   "outputs": [],
   "source": [
    "#Checking again \n",
    "BC_GTFS_NTD[(BC_GTFS_NTD.fleet_size.str.contains(\"Info\", case= False))].head(2)"
   ]
  },
  {
   "cell_type": "markdown",
   "id": "5ea2780d-8fe1-407b-819d-8f0e3d4730f5",
   "metadata": {},
   "source": [
    "### Final Cleaning"
   ]
  },
  {
   "cell_type": "code",
   "execution_count": null,
   "id": "007fceea-462a-40a5-ac8a-8fe1f6677690",
   "metadata": {},
   "outputs": [],
   "source": [
    "#delete old columns\n",
    "BC_GTFS_NTD2 = BC_GTFS_NTD.drop(columns=['gtfs_schedule_status','name','agency'])\n",
    "\n",
    "#rename\n",
    "BC_GTFS_NTD2 = BC_GTFS_NTD2.rename(columns = {'GTFS_schedule_status_use':'GTFS'})"
   ]
  },
  {
   "cell_type": "code",
   "execution_count": null,
   "id": "f5bbaf28-0812-4211-8a15-c261f3f58937",
   "metadata": {},
   "outputs": [],
   "source": [
    "#get agencies without any data to show up \n",
    "show_up = ['reporter_type']\n",
    "for i in show_up:\n",
    "    BC_GTFS_NTD2[i] = BC_GTFS_NTD2[i].fillna('None')"
   ]
  },
  {
   "cell_type": "code",
   "execution_count": null,
   "id": "63a55276-5fc1-4292-b352-3ae213ebc1b5",
   "metadata": {},
   "outputs": [],
   "source": [
    "#change itp id to be float.\n",
    "BC_GTFS_NTD2['itp_id'] = BC_GTFS_NTD2['itp_id'].fillna(0)\n",
    "BC_GTFS_NTD2.loc[(BC_GTFS_NTD['itp_id'] == '436'), \"itp_id\"] = 436"
   ]
  },
  {
   "cell_type": "markdown",
   "id": "381d46a1-8a29-48ab-b5ee-e982a38a5400",
   "metadata": {},
   "source": [
    "### Parquet"
   ]
  },
  {
   "cell_type": "code",
   "execution_count": null,
   "id": "b8edf555-a415-4b9a-bb10-6ff1368910b2",
   "metadata": {},
   "outputs": [],
   "source": [
    "#Parquet\n",
    "BC_GTFS_NTD2.to_parquet(\"BC_GTFS_NTD.parquet\")\n",
    "#Adding to GCS (just in case)\n",
    "#BC_GTFS_NTD2.to_parquet(\"gs://calitp-analytics-data/data-analyses/5311 /BC_GTFS_NTD.parquet\")\n",
    "#BC_GTFS_NTD2.to_csv(\"gs://calitp-analytics-data/data-analyses/5311 /BC_GTFS_NTD.csv\")"
   ]
  },
  {
   "cell_type": "markdown",
   "id": "9711a5b7-515a-495e-8e72-255e44580703",
   "metadata": {},
   "source": [
    "# Taking a quick look\n",
    "\n",
    "\n",
    "(2) % and # vehicles older vehicles (10, 15 yrs), avg age by fleet size buckets\n",
    "\n",
    "(3) # doors (which means # validators) for vehicles over 10 yrs by GTFS status and by fleet size"
   ]
  },
  {
   "cell_type": "code",
   "execution_count": null,
   "id": "f5645dab-deda-4cc6-8e74-9e442ebf04ff",
   "metadata": {},
   "outputs": [],
   "source": [
    "BC_GTFS_NTD2.columns"
   ]
  },
  {
   "cell_type": "code",
   "execution_count": null,
   "id": "2f0864d6-92eb-4aec-9f53-583cebb8f859",
   "metadata": {},
   "outputs": [],
   "source": [
    "#First grabbing only one row for each agency.\n",
    "Aggregate1 = BC_GTFS_NTD2.groupby(['organization_name','reporter_type','GTFS', 'fleet_size', 'Is_Agency_In_BC_Only_1_means_Yes']).agg({'total_vehicles':'max',\n",
    "       'average_age_of_fleet__in_years_':'max','doors_sum':'max','_0_9':'max', '_10_12':'max', '_13_15':'max', '_16_20':'max', '_21_25':'max',\n",
    "       '_26_30':'max', '_31_60':'max', '_60plus':'max',\n",
    "})"
   ]
  },
  {
   "cell_type": "code",
   "execution_count": null,
   "id": "8b707a06-583d-4b7a-b75e-c4ff2911d1f6",
   "metadata": {
    "scrolled": true,
    "tags": []
   },
   "outputs": [],
   "source": [
    "#reset index\n",
    "Aggregate1 = Aggregate1.reset_index()\n",
    "Aggregate1\n"
   ]
  },
  {
   "cell_type": "markdown",
   "id": "a19b837b-6a74-4858-803b-7ac8af427412",
   "metadata": {},
   "source": [
    "### (1) % and # vehicles over 10 yrs by GTFS status bucket. Another version of over 15 yrs"
   ]
  },
  {
   "cell_type": "code",
   "execution_count": null,
   "id": "8f1498c9-ea99-4160-a75a-94562d29a81b",
   "metadata": {},
   "outputs": [],
   "source": [
    "#duplicate df into vehicles\n",
    "vehicles_gtfs_ten = Aggregate1.copy()"
   ]
  },
  {
   "cell_type": "code",
   "execution_count": null,
   "id": "d67ccaea-94cf-42b2-a3aa-582bae24dab2",
   "metadata": {},
   "outputs": [],
   "source": [
    "#Adding up by age group\n",
    "vehicles_gtfs_ten['vehicles_older_than_9']= vehicles_gtfs_ten['_10_12'] + vehicles_gtfs_ten['_13_15'] + vehicles_gtfs_ten['_16_20'] + vehicles_gtfs_ten['_21_25'] + vehicles_gtfs_ten['_26_30'] + vehicles_gtfs_ten['_31_60'] + vehicles_gtfs_ten['_60plus']\n",
    "vehicles_gtfs_ten['vehicles_older_than_15']= vehicles_gtfs_ten['_16_20'] + vehicles_gtfs_ten['_21_25'] + vehicles_gtfs_ten['_26_30'] + vehicles_gtfs_ten['_31_60'] + vehicles_gtfs_ten['_60plus']\n",
    "\n",
    "#dividing by age group\n",
    "vehicles_gtfs_ten['vehicles_percent_older_than_9'] = (vehicles_gtfs_ten['vehicles_older_than_9']/vehicles_gtfs_ten['total_vehicles'])*100\n",
    "vehicles_gtfs_ten['vehicles_percent_older_than_15'] = (vehicles_gtfs_ten['vehicles_older_than_15']/vehicles_gtfs_ten['total_vehicles'])*100\n",
    "vehicles_gtfs_ten['vehicles_percent_under_10'] = (vehicles_gtfs_ten['_0_9']/vehicles_gtfs_ten['total_vehicles'])*100"
   ]
  },
  {
   "cell_type": "code",
   "execution_count": null,
   "id": "261f1169-2171-4c9f-8dfc-6133a8feea42",
   "metadata": {
    "scrolled": true,
    "tags": []
   },
   "outputs": [],
   "source": [
    "vehicles_gtfs_ten.sample(3)"
   ]
  },
  {
   "cell_type": "code",
   "execution_count": null,
   "id": "01bd72fe-1792-43f7-9ac8-e223acdf83fc",
   "metadata": {},
   "outputs": [],
   "source": [
    "#ONLY for vehicles over 9 \n",
    "GTFS_ten = vehicles_gtfs_ten.groupby(['GTFS']).agg({'vehicles_older_than_9':'sum','vehicles_percent_older_than_9':'median' })\n",
    "GTFS_ten = GTFS_ten.reset_index()\n",
    "GTFS_ten"
   ]
  },
  {
   "cell_type": "code",
   "execution_count": null,
   "id": "14d0c6a2-55db-449f-adaf-793c119f4bc4",
   "metadata": {
    "tags": []
   },
   "outputs": [],
   "source": [
    "data_prep.basic_bar_chart(GTFS_ten,'GTFS','vehicles_percent_older_than_9') "
   ]
  },
  {
   "cell_type": "code",
   "execution_count": null,
   "id": "8ee0c24c-ac67-41f7-8fbb-e5f16af5fdf4",
   "metadata": {},
   "outputs": [],
   "source": [
    "#ONLY for vehicles over 15\n",
    "GTFS_fifteen = vehicles_gtfs_ten.groupby(['GTFS']).agg({'vehicles_older_than_15':'sum','vehicles_percent_older_than_15':'median' })\n",
    "GTFS_fifteen = GTFS_fifteen.reset_index()\n",
    "GTFS_fifteen"
   ]
  },
  {
   "cell_type": "code",
   "execution_count": null,
   "id": "f2fbb8c4-cdd0-4cec-ab1b-fcac409fdc56",
   "metadata": {},
   "outputs": [],
   "source": [
    "data_prep.basic_bar_chart(GTFS_fifteen,'GTFS','vehicles_older_than_15') "
   ]
  },
  {
   "cell_type": "markdown",
   "id": "3713e679-2387-4844-8f89-5669db335b75",
   "metadata": {},
   "source": [
    "### (2) % and # vehicles older vehicles (10, 15 yrs), avg age by fleet size buckets"
   ]
  },
  {
   "cell_type": "code",
   "execution_count": null,
   "id": "a0dd122a-d0a5-430a-a0cb-234511bf6f70",
   "metadata": {},
   "outputs": [],
   "source": [
    "#fleet size 9 years & older\n",
    "fleet_ten = vehicles_gtfs_ten.groupby(['fleet_size']).agg({'vehicles_older_than_9':'sum','vehicles_percent_older_than_9':'median'})\n",
    "fleet_ten = fleet_ten.reset_index()\n",
    "fleet_ten"
   ]
  },
  {
   "cell_type": "markdown",
   "id": "78e4eb79-2951-4b61-8af6-bcfb1268a5d6",
   "metadata": {},
   "source": [
    "### Looking at organizations & GTFS"
   ]
  },
  {
   "cell_type": "code",
   "execution_count": null,
   "id": "62494266-a1df-4641-bf53-0bf53477fe55",
   "metadata": {},
   "outputs": [],
   "source": [
    "Looking_at_GTFS = Aggregate1.groupby(['GTFS']).agg({'organization_name':'nunique'})\n",
    "Looking_at_GTFS = Looking_at_GTFS.reset_index()\n",
    "Looking_at_GTFS = Looking_at_GTFS.rename(columns = {'organization_name':'Count of Agencies'})\n",
    "Looking_at_GTFS"
   ]
  },
  {
   "cell_type": "code",
   "execution_count": null,
   "id": "a3f35868-c5f6-4b50-97ec-3672413002f9",
   "metadata": {},
   "outputs": [],
   "source": [
    "data_prep.basic_bar_chart(Looking_at_GTFS,'GTFS','Count of Agencies by GTFS') "
   ]
  },
  {
   "cell_type": "markdown",
   "id": "5d0ca08c-0ad4-43a0-b66c-9fed0bac26ab",
   "metadata": {},
   "source": [
    "### Looking at reporter type & GTFS"
   ]
  },
  {
   "cell_type": "code",
   "execution_count": null,
   "id": "69dc8dc2-e3df-441a-9e3e-dde72735aaaa",
   "metadata": {},
   "outputs": [],
   "source": [
    "Reporter_type_agg = Aggregate1.groupby(['reporter_type']).agg({'organization_name':'nunique'})\n",
    "Reporter_type_agg = Reporter_type_agg.reset_index()\n",
    "Reporter_type_agg = Reporter_type_agg.rename(columns = {'organization_name':'Count of Agencies'})"
   ]
  },
  {
   "cell_type": "markdown",
   "id": "54aa5fb5-5c00-433b-936e-21bad22fc4e5",
   "metadata": {},
   "source": [
    "![pic](./chart_outputs/bar_GTFS_by_vehicles_older_than_15.png)"
   ]
  },
  {
   "cell_type": "code",
   "execution_count": null,
   "id": "1d967562-5254-4856-93ff-e5657000c258",
   "metadata": {},
   "outputs": [],
   "source": [
    "Reporter_type_agg"
   ]
  },
  {
   "cell_type": "code",
   "execution_count": null,
   "id": "7e1f56cd-d534-4343-ac08-9870f3088da3",
   "metadata": {},
   "outputs": [],
   "source": [
    "data_prep.basic_bar_chart(Reporter_type_agg,'reporter_type','Count of Agencies') "
   ]
  },
  {
   "cell_type": "markdown",
   "id": "6f45af6e-5547-421e-8c34-9f8187d08505",
   "metadata": {},
   "source": [
    "### Looking at agencies that spent the most.."
   ]
  },
  {
   "cell_type": "code",
   "execution_count": null,
   "id": "5c2db6f1-af80-4346-8eed-efb5a6451691",
   "metadata": {},
   "outputs": [],
   "source": [
    "Aggregate2 = BC_GTFS_NTD2.groupby(['organization_name','GTFS']).agg({'allocationamount':'sum'})"
   ]
  },
  {
   "cell_type": "code",
   "execution_count": null,
   "id": "9ce988eb-5368-422d-b591-38467b2d8f3b",
   "metadata": {
    "scrolled": true,
    "tags": []
   },
   "outputs": [],
   "source": [
    "Aggregate2.sort_values('allocationamount')"
   ]
  }
 ],
 "metadata": {
  "kernelspec": {
   "display_name": "Python 3 (ipykernel)",
   "language": "python",
   "name": "python3"
  },
  "language_info": {
   "codemirror_mode": {
    "name": "ipython",
    "version": 3
   },
   "file_extension": ".py",
   "mimetype": "text/x-python",
   "name": "python",
   "nbconvert_exporter": "python",
   "pygments_lexer": "ipython3",
   "version": "3.9.7"
  },
  "toc-autonumbering": false
 },
 "nbformat": 4,
 "nbformat_minor": 5
}
