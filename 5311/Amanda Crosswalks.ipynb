{
 "cells": [
  {
   "cell_type": "markdown",
   "id": "239a3aeb-ccb0-4279-aac5-fc372421a958",
   "metadata": {
    "tags": []
   },
   "source": [
    "# Crosswalking our data"
   ]
  },
  {
   "cell_type": "code",
   "execution_count": 351,
   "id": "0a3d8626-f769-454a-b004-62ef797a83d9",
   "metadata": {},
   "outputs": [],
   "source": [
    "import numpy as np\n",
    "import pandas as pd\n",
    "from siuba import *\n",
    "from calitp import *\n",
    "import intake\n",
    "import data_prep\n",
    "import fuzzymatcher\n",
    "pd.options.display.max_rows = 140"
   ]
  },
  {
   "cell_type": "code",
   "execution_count": 352,
   "id": "1b3047cb-d77c-4f73-a673-341d83188418",
   "metadata": {},
   "outputs": [],
   "source": [
    "df = data_prep.load_grantprojects()\n",
    "vehicles = data_prep.load_vehiclesdata()\n",
    "agency_info = data_prep.load_agencyinfo()\n",
    "gtfs_status = data_prep.load_catalog_gtfs()"
   ]
  },
  {
   "cell_type": "markdown",
   "id": "cd6598e6-2735-4064-861d-2370abb68992",
   "metadata": {},
   "source": [
    "# Vehicle Data"
   ]
  },
  {
   "cell_type": "code",
   "execution_count": 353,
   "id": "b82dc64c-8789-4494-910b-202934bc1745",
   "metadata": {},
   "outputs": [],
   "source": [
    "#drop some columns.\n",
    "vehicles = vehicles.drop(columns=['Years Old:',\n",
    "                                          0,\n",
    "                                          1,\n",
    "                                          2,\n",
    "                                          3,\n",
    "                                          4,\n",
    "                                          5,\n",
    "                                          6,\n",
    "                                          7,\n",
    "                                          8,\n",
    "                                          9,\n",
    "                                         10,\n",
    "                                         11,\n",
    "                                         12,\n",
    "                                    '13-15',\n",
    "                                    '16-20',\n",
    "                                    '21-25',\n",
    "                                    '26-30',\n",
    "                                    '31-60',\n",
    "                                      '60+'])"
   ]
  },
  {
   "cell_type": "code",
   "execution_count": 354,
   "id": "08661997-09cc-4c7d-8934-7f042a9dac7a",
   "metadata": {},
   "outputs": [],
   "source": [
    "#cleaning columns\n",
    "vehicles = to_snakecase(vehicles)"
   ]
  },
  {
   "cell_type": "code",
   "execution_count": 356,
   "id": "78aeb6f0-3a43-4a83-a9a1-7c3774588a62",
   "metadata": {},
   "outputs": [
    {
     "data": {
      "text/plain": [
       "(705, 13)"
      ]
     },
     "execution_count": 356,
     "metadata": {},
     "output_type": "execute_result"
    }
   ],
   "source": [
    "vehicles.shape"
   ]
  },
  {
   "cell_type": "code",
   "execution_count": 357,
   "id": "61dbd4fc-cd41-45f6-a64c-769d132b27ff",
   "metadata": {},
   "outputs": [
    {
     "data": {
      "text/html": [
       "<div>\n",
       "<style scoped>\n",
       "    .dataframe tbody tr th:only-of-type {\n",
       "        vertical-align: middle;\n",
       "    }\n",
       "\n",
       "    .dataframe tbody tr th {\n",
       "        vertical-align: top;\n",
       "    }\n",
       "\n",
       "    .dataframe thead th {\n",
       "        text-align: right;\n",
       "    }\n",
       "</style>\n",
       "<table border=\"1\" class=\"dataframe\">\n",
       "  <thead>\n",
       "    <tr style=\"text-align: right;\">\n",
       "      <th></th>\n",
       "      <th>agency</th>\n",
       "      <th>city</th>\n",
       "      <th>state</th>\n",
       "      <th>legacy_ntd_id</th>\n",
       "      <th>ntd_id</th>\n",
       "      <th>organization_type</th>\n",
       "      <th>reporter_type</th>\n",
       "      <th>primary_uza_population</th>\n",
       "      <th>agency_voms</th>\n",
       "      <th>vehicle_type</th>\n",
       "      <th>total_vehicles</th>\n",
       "      <th>average_age_of_fleet__in_years_</th>\n",
       "      <th>average_lifetime_miles_per_vehicle</th>\n",
       "    </tr>\n",
       "  </thead>\n",
       "  <tbody>\n",
       "    <tr>\n",
       "      <th>25</th>\n",
       "      <td>Los Angeles County Metropolitan Transportation...</td>\n",
       "      <td>Los Angeles</td>\n",
       "      <td>CA</td>\n",
       "      <td>9154</td>\n",
       "      <td>90154</td>\n",
       "      <td>Independent Public Agency or Authority of Tran...</td>\n",
       "      <td>Full Reporter</td>\n",
       "      <td>12150996</td>\n",
       "      <td>3482</td>\n",
       "      <td>Van</td>\n",
       "      <td>1208</td>\n",
       "      <td>1.440397</td>\n",
       "      <td>31456.6134</td>\n",
       "    </tr>\n",
       "    <tr>\n",
       "      <th>26</th>\n",
       "      <td>Los Angeles County Metropolitan Transportation...</td>\n",
       "      <td>Los Angeles</td>\n",
       "      <td>CA</td>\n",
       "      <td>9154</td>\n",
       "      <td>90154</td>\n",
       "      <td>Independent Public Agency or Authority of Tran...</td>\n",
       "      <td>Full Reporter</td>\n",
       "      <td>12150996</td>\n",
       "      <td>3482</td>\n",
       "      <td>Trucks and other Rubber Tire Vehicles (Service)</td>\n",
       "      <td>961</td>\n",
       "      <td>NaN</td>\n",
       "      <td>NaN</td>\n",
       "    </tr>\n",
       "  </tbody>\n",
       "</table>\n",
       "</div>"
      ],
      "text/plain": [
       "                                               agency         city state  \\\n",
       "25  Los Angeles County Metropolitan Transportation...  Los Angeles    CA   \n",
       "26  Los Angeles County Metropolitan Transportation...  Los Angeles    CA   \n",
       "\n",
       "   legacy_ntd_id ntd_id                                  organization_type  \\\n",
       "25          9154  90154  Independent Public Agency or Authority of Tran...   \n",
       "26          9154  90154  Independent Public Agency or Authority of Tran...   \n",
       "\n",
       "    reporter_type  primary_uza_population  agency_voms  \\\n",
       "25  Full Reporter                12150996         3482   \n",
       "26  Full Reporter                12150996         3482   \n",
       "\n",
       "                                       vehicle_type  total_vehicles  \\\n",
       "25                                              Van            1208   \n",
       "26  Trucks and other Rubber Tire Vehicles (Service)             961   \n",
       "\n",
       "    average_age_of_fleet__in_years_  average_lifetime_miles_per_vehicle  \n",
       "25                         1.440397                          31456.6134  \n",
       "26                              NaN                                 NaN  "
      ]
     },
     "execution_count": 357,
     "metadata": {},
     "output_type": "execute_result"
    }
   ],
   "source": [
    "vehicles.head(2)"
   ]
  },
  {
   "cell_type": "code",
   "execution_count": 358,
   "id": "2c2b09c9-24c5-4ca3-be48-ed51d7aa015c",
   "metadata": {},
   "outputs": [],
   "source": [
    "#subset for crosswalk\n",
    "vehicles_crosswalk = vehicles[['agency','ntd_id']]"
   ]
  },
  {
   "cell_type": "code",
   "execution_count": 359,
   "id": "579bd9e0-cefc-49f0-a2c3-af7e55a079d4",
   "metadata": {},
   "outputs": [],
   "source": [
    "#drop duplicates for crosswalk\n",
    "vehicles_crosswalk = vehicles_crosswalk.drop_duplicates()"
   ]
  },
  {
   "cell_type": "markdown",
   "id": "7cfab0f7-3ac0-403b-9194-f0d5d989b2f7",
   "metadata": {},
   "source": [
    "# Agency Data\n",
    "* Our source of truth"
   ]
  },
  {
   "cell_type": "code",
   "execution_count": 360,
   "id": "ed2bc70a-337a-40bd-bd31-dc51531e61f5",
   "metadata": {},
   "outputs": [],
   "source": [
    "#making the crosswalk\n",
    "agency_info_crosswalk = agency_info[['agency_name','ntd_id']]"
   ]
  },
  {
   "cell_type": "code",
   "execution_count": 361,
   "id": "95798e04-6ee4-4ad6-a2af-0e818d4b0c76",
   "metadata": {},
   "outputs": [],
   "source": [
    "#drop dupcliates\n",
    "agency_info_crosswalk = agency_info_crosswalk.drop_duplicates()"
   ]
  },
  {
   "cell_type": "code",
   "execution_count": 362,
   "id": "0e48eef6-303d-4b82-a865-f21e9a54f166",
   "metadata": {},
   "outputs": [],
   "source": [
    "#rename column of agency_name to avoid confusion \n",
    "agency_info_crosswalk = agency_info_crosswalk.rename(columns={'agency_name':'crosswalk_agency'})"
   ]
  },
  {
   "cell_type": "markdown",
   "id": "4af81e17-9270-4fab-ab60-cc3031d2f387",
   "metadata": {},
   "source": [
    "# Crosswalk Agency and Vehicle Data\n",
    "* Comparing Agency Info & Vehicle Data Sets to ensure they have the same agency names & NTD ID\n",
    "* Merging on left because that's for vehicle crosswalk.\n",
    "* Looks like stuff matches? We get 0 for left only & right only"
   ]
  },
  {
   "cell_type": "code",
   "execution_count": 363,
   "id": "afecc674-a4b6-46e0-827f-29bf6308e55c",
   "metadata": {},
   "outputs": [
    {
     "data": {
      "text/html": [
       "<div>\n",
       "<style scoped>\n",
       "    .dataframe tbody tr th:only-of-type {\n",
       "        vertical-align: middle;\n",
       "    }\n",
       "\n",
       "    .dataframe tbody tr th {\n",
       "        vertical-align: top;\n",
       "    }\n",
       "\n",
       "    .dataframe thead th {\n",
       "        text-align: right;\n",
       "    }\n",
       "</style>\n",
       "<table border=\"1\" class=\"dataframe\">\n",
       "  <thead>\n",
       "    <tr style=\"text-align: right;\">\n",
       "      <th></th>\n",
       "      <th>agency</th>\n",
       "      <th>ntd_id</th>\n",
       "      <th>crosswalk_agency</th>\n",
       "      <th>_merge</th>\n",
       "    </tr>\n",
       "  </thead>\n",
       "  <tbody>\n",
       "    <tr>\n",
       "      <th>0</th>\n",
       "      <td>Los Angeles County Metropolitan Transportation...</td>\n",
       "      <td>90154</td>\n",
       "      <td>Los Angeles County Metropolitan Transportation...</td>\n",
       "      <td>both</td>\n",
       "    </tr>\n",
       "    <tr>\n",
       "      <th>1</th>\n",
       "      <td>Orange County Transportation Authority</td>\n",
       "      <td>90036</td>\n",
       "      <td>Orange County Transportation Authority</td>\n",
       "      <td>both</td>\n",
       "    </tr>\n",
       "    <tr>\n",
       "      <th>2</th>\n",
       "      <td>Access Services</td>\n",
       "      <td>90157</td>\n",
       "      <td>Access Services</td>\n",
       "      <td>both</td>\n",
       "    </tr>\n",
       "    <tr>\n",
       "      <th>3</th>\n",
       "      <td>City and County of San Francisco, dba: San Fra...</td>\n",
       "      <td>90015</td>\n",
       "      <td>City and County of San Francisco</td>\n",
       "      <td>both</td>\n",
       "    </tr>\n",
       "    <tr>\n",
       "      <th>4</th>\n",
       "      <td>San Diego Metropolitan Transit System</td>\n",
       "      <td>90026</td>\n",
       "      <td>San Diego Metropolitan Transit System</td>\n",
       "      <td>both</td>\n",
       "    </tr>\n",
       "    <tr>\n",
       "      <th>...</th>\n",
       "      <td>...</td>\n",
       "      <td>...</td>\n",
       "      <td>...</td>\n",
       "      <td>...</td>\n",
       "    </tr>\n",
       "    <tr>\n",
       "      <th>213</th>\n",
       "      <td>Playa Vista Parks and Landscape Corp.</td>\n",
       "      <td>A0003-99446</td>\n",
       "      <td>Playa Vista Parks and Landscape Corp.</td>\n",
       "      <td>both</td>\n",
       "    </tr>\n",
       "    <tr>\n",
       "      <th>214</th>\n",
       "      <td>City of Sierra Madre</td>\n",
       "      <td>A0003-99447</td>\n",
       "      <td>City of Sierra Madre</td>\n",
       "      <td>both</td>\n",
       "    </tr>\n",
       "    <tr>\n",
       "      <th>215</th>\n",
       "      <td>City of El Segundo</td>\n",
       "      <td>A0003-99449</td>\n",
       "      <td>City of El Segundo</td>\n",
       "      <td>both</td>\n",
       "    </tr>\n",
       "    <tr>\n",
       "      <th>216</th>\n",
       "      <td>City of Hawaiian Gardens</td>\n",
       "      <td>A0003-99450</td>\n",
       "      <td>City of Hawaiian Gardens</td>\n",
       "      <td>both</td>\n",
       "    </tr>\n",
       "    <tr>\n",
       "      <th>217</th>\n",
       "      <td>City of San Fernando</td>\n",
       "      <td>A0003-99451</td>\n",
       "      <td>City of San Fernando</td>\n",
       "      <td>both</td>\n",
       "    </tr>\n",
       "  </tbody>\n",
       "</table>\n",
       "<p>218 rows × 4 columns</p>\n",
       "</div>"
      ],
      "text/plain": [
       "                                                agency       ntd_id  \\\n",
       "0    Los Angeles County Metropolitan Transportation...        90154   \n",
       "1               Orange County Transportation Authority        90036   \n",
       "2                                    Access Services          90157   \n",
       "3    City and County of San Francisco, dba: San Fra...        90015   \n",
       "4                San Diego Metropolitan Transit System        90026   \n",
       "..                                                 ...          ...   \n",
       "213              Playa Vista Parks and Landscape Corp.  A0003-99446   \n",
       "214                               City of Sierra Madre  A0003-99447   \n",
       "215                                 City of El Segundo  A0003-99449   \n",
       "216                           City of Hawaiian Gardens  A0003-99450   \n",
       "217                               City of San Fernando  A0003-99451   \n",
       "\n",
       "                                      crosswalk_agency _merge  \n",
       "0    Los Angeles County Metropolitan Transportation...   both  \n",
       "1               Orange County Transportation Authority   both  \n",
       "2                                    Access Services     both  \n",
       "3                     City and County of San Francisco   both  \n",
       "4                San Diego Metropolitan Transit System   both  \n",
       "..                                                 ...    ...  \n",
       "213              Playa Vista Parks and Landscape Corp.   both  \n",
       "214                               City of Sierra Madre   both  \n",
       "215                                 City of El Segundo   both  \n",
       "216                           City of Hawaiian Gardens   both  \n",
       "217                               City of San Fernando   both  \n",
       "\n",
       "[218 rows x 4 columns]"
      ]
     },
     "execution_count": 363,
     "metadata": {},
     "output_type": "execute_result"
    }
   ],
   "source": [
    "df_all = vehicles_crosswalk.merge(agency_info_crosswalk.drop_duplicates(), on=['ntd_id'], \n",
    "                   how='left', indicator=True)\n",
    "df_all"
   ]
  },
  {
   "cell_type": "code",
   "execution_count": 364,
   "id": "6f1354df-9aa5-4f11-b558-868dc5c9ebca",
   "metadata": {},
   "outputs": [
    {
     "data": {
      "text/html": [
       "<div>\n",
       "<style scoped>\n",
       "    .dataframe tbody tr th:only-of-type {\n",
       "        vertical-align: middle;\n",
       "    }\n",
       "\n",
       "    .dataframe tbody tr th {\n",
       "        vertical-align: top;\n",
       "    }\n",
       "\n",
       "    .dataframe thead th {\n",
       "        text-align: right;\n",
       "    }\n",
       "</style>\n",
       "<table border=\"1\" class=\"dataframe\">\n",
       "  <thead>\n",
       "    <tr style=\"text-align: right;\">\n",
       "      <th></th>\n",
       "      <th>_merge</th>\n",
       "      <th>n</th>\n",
       "    </tr>\n",
       "  </thead>\n",
       "  <tbody>\n",
       "    <tr>\n",
       "      <th>2</th>\n",
       "      <td>both</td>\n",
       "      <td>218</td>\n",
       "    </tr>\n",
       "    <tr>\n",
       "      <th>0</th>\n",
       "      <td>left_only</td>\n",
       "      <td>0</td>\n",
       "    </tr>\n",
       "    <tr>\n",
       "      <th>1</th>\n",
       "      <td>right_only</td>\n",
       "      <td>0</td>\n",
       "    </tr>\n",
       "  </tbody>\n",
       "</table>\n",
       "</div>"
      ],
      "text/plain": [
       "       _merge    n\n",
       "2        both  218\n",
       "0   left_only    0\n",
       "1  right_only    0"
      ]
     },
     "execution_count": 364,
     "metadata": {},
     "output_type": "execute_result"
    }
   ],
   "source": [
    "\n",
    "df_all >> count(_._merge) >> arrange(-_.n)"
   ]
  },
  {
   "cell_type": "markdown",
   "id": "9c0ac85c-6a67-4e87-87a1-8f91dff91511",
   "metadata": {},
   "source": [
    "# 5311 Data Crosswalk\n",
    "* Comparing agency names against Vehicle Data to ensure everything is the same using fuzzy matcher https://pbpython.com/record-linking.html"
   ]
  },
  {
   "cell_type": "code",
   "execution_count": 365,
   "id": "d0bc50e5-24a8-40fa-9dcc-f7b0e4dfbf85",
   "metadata": {},
   "outputs": [],
   "source": [
    "GCS_FILE_PATH = \"gs://calitp-analytics-data/data-analyses/5311 /\"\n",
    "FILE_NAME = \"5311_blackcat_clean.csv\"\n",
    "df_5311 = pd.read_csv(f\"{GCS_FILE_PATH}{FILE_NAME}\")"
   ]
  },
  {
   "cell_type": "code",
   "execution_count": 366,
   "id": "defa8569-ed47-4353-bdbd-a2e90cecc4bc",
   "metadata": {},
   "outputs": [],
   "source": [
    "#subset for crosswalk\n",
    "crosswalk_5311 = df_5311[['Organization_Name']]\n",
    "crosswalk_5311 = crosswalk_5311.drop_duplicates()"
   ]
  },
  {
   "cell_type": "code",
   "execution_count": 367,
   "id": "cd4788ea-08ec-4ac2-9950-578e48d17120",
   "metadata": {},
   "outputs": [],
   "source": [
    "left_on = [\"Organization_Name\"]\n",
    "right_on = [\"agency\"]"
   ]
  },
  {
   "cell_type": "code",
   "execution_count": 368,
   "id": "2ce90754-2a29-4edc-922e-2de9855049a7",
   "metadata": {},
   "outputs": [],
   "source": [
    "matched_results = fuzzymatcher.fuzzy_left_join(crosswalk_5311,vehicles_crosswalk, left_on,\n",
    "                                            right_on,)"
   ]
  },
  {
   "cell_type": "code",
   "execution_count": 369,
   "id": "dc6c2417-ee07-47d9-9dd0-e39676deeae2",
   "metadata": {
    "tags": []
   },
   "outputs": [
    {
     "data": {
      "text/html": [
       "<div>\n",
       "<style scoped>\n",
       "    .dataframe tbody tr th:only-of-type {\n",
       "        vertical-align: middle;\n",
       "    }\n",
       "\n",
       "    .dataframe tbody tr th {\n",
       "        vertical-align: top;\n",
       "    }\n",
       "\n",
       "    .dataframe thead th {\n",
       "        text-align: right;\n",
       "    }\n",
       "</style>\n",
       "<table border=\"1\" class=\"dataframe\">\n",
       "  <thead>\n",
       "    <tr style=\"text-align: right;\">\n",
       "      <th></th>\n",
       "      <th>best_match_score</th>\n",
       "      <th>__id_left</th>\n",
       "      <th>__id_right</th>\n",
       "      <th>Organization_Name</th>\n",
       "      <th>agency</th>\n",
       "      <th>ntd_id</th>\n",
       "    </tr>\n",
       "  </thead>\n",
       "  <tbody>\n",
       "    <tr>\n",
       "      <th>472</th>\n",
       "      <td>0.902053</td>\n",
       "      <td>61_left</td>\n",
       "      <td>52_right</td>\n",
       "      <td>San Luis Obispo Regional Transit Authority</td>\n",
       "      <td>San Luis Obispo Regional Transit Authority</td>\n",
       "      <td>90206</td>\n",
       "    </tr>\n",
       "    <tr>\n",
       "      <th>447</th>\n",
       "      <td>0.167093</td>\n",
       "      <td>41_left</td>\n",
       "      <td>40_right</td>\n",
       "      <td>Glenn County Transportation Commission</td>\n",
       "      <td>Riverside County Transportation Commission</td>\n",
       "      <td>90218</td>\n",
       "    </tr>\n",
       "    <tr>\n",
       "      <th>380</th>\n",
       "      <td>0.851320</td>\n",
       "      <td>35_left</td>\n",
       "      <td>210_right</td>\n",
       "      <td>County of Shasta Department of Public Works</td>\n",
       "      <td>County of Shasta Department of Public Works</td>\n",
       "      <td>9R02-99438</td>\n",
       "    </tr>\n",
       "    <tr>\n",
       "      <th>577</th>\n",
       "      <td>0.586271</td>\n",
       "      <td>74_left</td>\n",
       "      <td>13_right</td>\n",
       "      <td>Victor Valley Transit Authority</td>\n",
       "      <td>Victor Valley Transit Authority</td>\n",
       "      <td>90148</td>\n",
       "    </tr>\n",
       "  </tbody>\n",
       "</table>\n",
       "</div>"
      ],
      "text/plain": [
       "     best_match_score __id_left __id_right  \\\n",
       "472          0.902053   61_left   52_right   \n",
       "447          0.167093   41_left   40_right   \n",
       "380          0.851320   35_left  210_right   \n",
       "577          0.586271   74_left   13_right   \n",
       "\n",
       "                               Organization_Name  \\\n",
       "472   San Luis Obispo Regional Transit Authority   \n",
       "447       Glenn County Transportation Commission   \n",
       "380  County of Shasta Department of Public Works   \n",
       "577              Victor Valley Transit Authority   \n",
       "\n",
       "                                          agency      ntd_id  \n",
       "472   San Luis Obispo Regional Transit Authority       90206  \n",
       "447   Riverside County Transportation Commission       90218  \n",
       "380  County of Shasta Department of Public Works  9R02-99438  \n",
       "577              Victor Valley Transit Authority       90148  "
      ]
     },
     "execution_count": 369,
     "metadata": {},
     "output_type": "execute_result"
    }
   ],
   "source": [
    "matched_results.sample(4)"
   ]
  },
  {
   "cell_type": "code",
   "execution_count": 370,
   "id": "1e5210c5-1168-4a35-946f-015b79d29de7",
   "metadata": {},
   "outputs": [
    {
     "data": {
      "text/plain": [
       "'we have a total of 89 unique organization names...'"
      ]
     },
     "execution_count": 370,
     "metadata": {},
     "output_type": "execute_result"
    }
   ],
   "source": [
    "f'we have a total of {matched_results.Organization_Name.nunique()} unique organization names...'"
   ]
  },
  {
   "cell_type": "markdown",
   "id": "add4f395-bbec-4460-ad23-8e4cedf63471",
   "metadata": {},
   "source": [
    "# Actually joining Vehicles & 5311 Blackcat Data"
   ]
  },
  {
   "cell_type": "code",
   "execution_count": 371,
   "id": "ef45f3f6-51b4-4d4a-a6bb-deae50d47fba",
   "metadata": {},
   "outputs": [],
   "source": [
    "df_join = fuzzymatcher.fuzzy_left_join(df_5311,vehicles, left_on, right_on)"
   ]
  },
  {
   "cell_type": "code",
   "execution_count": 375,
   "id": "2a21d151-a4de-459e-ab35-6d5aeeeefb69",
   "metadata": {},
   "outputs": [
    {
     "data": {
      "text/plain": [
       "Index(['best_match_score', '__id_left', '__id_right', 'Grant_Fiscal_Year',\n",
       "       'Funding_Program', 'Grant_Number', 'Project_Year', 'Organization_Name',\n",
       "       'UPIN', 'Description', 'ALI', 'Contract_Number', 'AllocationAmount',\n",
       "       'Encumbered_Amount', 'ExpendedAmount', 'ActiveBalance',\n",
       "       'ClosedOutBalance', 'Project_Status', 'agency', 'city', 'state',\n",
       "       'legacy_ntd_id', 'ntd_id', 'organization_type', 'reporter_type',\n",
       "       'primary_uza_population', 'agency_voms', 'vehicle_type',\n",
       "       'total_vehicles', 'average_age_of_fleet__in_years_',\n",
       "       'average_lifetime_miles_per_vehicle'],\n",
       "      dtype='object')"
      ]
     },
     "execution_count": 375,
     "metadata": {},
     "output_type": "execute_result"
    }
   ],
   "source": [
    "df_join.columns"
   ]
  },
  {
   "cell_type": "code",
   "execution_count": 380,
   "id": "f662b4e3-2395-44bf-b026-b02296df9619",
   "metadata": {},
   "outputs": [],
   "source": [
    "#subsetting\n",
    "df_join1 = df_join[['agency',\n",
    "     'ntd_id', 'organization_type', 'reporter_type','Grant_Fiscal_Year',\n",
    "       'Funding_Program', 'Grant_Number', 'Project_Year',\n",
    "        'Description', 'ALI', 'Contract_Number', 'AllocationAmount',\n",
    "       'Encumbered_Amount', 'ExpendedAmount', 'ActiveBalance',\n",
    "       'ClosedOutBalance', 'Project_Status', \n",
    "       'primary_uza_population', 'agency_voms', 'vehicle_type',\n",
    "       'total_vehicles', 'average_age_of_fleet__in_years_',\n",
    "       'average_lifetime_miles_per_vehicle']]"
   ]
  },
  {
   "cell_type": "code",
   "execution_count": 381,
   "id": "647b2fe1-4198-4dac-aa54-d8827242fd6d",
   "metadata": {},
   "outputs": [
    {
     "data": {
      "text/html": [
       "<div>\n",
       "<style scoped>\n",
       "    .dataframe tbody tr th:only-of-type {\n",
       "        vertical-align: middle;\n",
       "    }\n",
       "\n",
       "    .dataframe tbody tr th {\n",
       "        vertical-align: top;\n",
       "    }\n",
       "\n",
       "    .dataframe thead th {\n",
       "        text-align: right;\n",
       "    }\n",
       "</style>\n",
       "<table border=\"1\" class=\"dataframe\">\n",
       "  <thead>\n",
       "    <tr style=\"text-align: right;\">\n",
       "      <th></th>\n",
       "      <th>agency</th>\n",
       "      <th>ntd_id</th>\n",
       "      <th>organization_type</th>\n",
       "      <th>reporter_type</th>\n",
       "      <th>Grant_Fiscal_Year</th>\n",
       "      <th>Funding_Program</th>\n",
       "      <th>Grant_Number</th>\n",
       "      <th>Project_Year</th>\n",
       "      <th>Description</th>\n",
       "      <th>ALI</th>\n",
       "      <th>Contract_Number</th>\n",
       "      <th>AllocationAmount</th>\n",
       "      <th>Encumbered_Amount</th>\n",
       "      <th>ExpendedAmount</th>\n",
       "      <th>ActiveBalance</th>\n",
       "      <th>ClosedOutBalance</th>\n",
       "      <th>Project_Status</th>\n",
       "      <th>primary_uza_population</th>\n",
       "      <th>agency_voms</th>\n",
       "      <th>vehicle_type</th>\n",
       "      <th>total_vehicles</th>\n",
       "      <th>average_age_of_fleet__in_years_</th>\n",
       "      <th>average_lifetime_miles_per_vehicle</th>\n",
       "    </tr>\n",
       "  </thead>\n",
       "  <tbody>\n",
       "    <tr>\n",
       "      <th>6134</th>\n",
       "      <td>Redwood Coast Transit Authority</td>\n",
       "      <td>9R02-91097</td>\n",
       "      <td>Independent Public Agency or Authority of Tran...</td>\n",
       "      <td>Rural Reporter</td>\n",
       "      <td>2019</td>\n",
       "      <td>5339 (National)</td>\n",
       "      <td>CA-2021-034 | 0021000216</td>\n",
       "      <td>2019</td>\n",
       "      <td>Rehab/Rebuild STD 35 Ft Bus</td>\n",
       "      <td>111402</td>\n",
       "      <td>64GC19-01465</td>\n",
       "      <td>31777.0</td>\n",
       "      <td>31777.0</td>\n",
       "      <td>0.0</td>\n",
       "      <td>31777.0</td>\n",
       "      <td>0</td>\n",
       "      <td>Open</td>\n",
       "      <td>0</td>\n",
       "      <td>8</td>\n",
       "      <td>Trucks and other Rubber Tire Vehicles (Service)</td>\n",
       "      <td>1</td>\n",
       "      <td>NaN</td>\n",
       "      <td>NaN</td>\n",
       "    </tr>\n",
       "    <tr>\n",
       "      <th>211</th>\n",
       "      <td>City of Arvin</td>\n",
       "      <td>9R02-91027</td>\n",
       "      <td>City, County or Local Government Unit or Depar...</td>\n",
       "      <td>Rural Reporter</td>\n",
       "      <td>2016</td>\n",
       "      <td>Section 5311</td>\n",
       "      <td>CA-2017-025 | 0017000158</td>\n",
       "      <td>2016</td>\n",
       "      <td>Operating Assistance Sliding Scale</td>\n",
       "      <td>300902</td>\n",
       "      <td>64BO17-00365</td>\n",
       "      <td>62188.0</td>\n",
       "      <td>62188.0</td>\n",
       "      <td>62188.0</td>\n",
       "      <td>0.0</td>\n",
       "      <td>0</td>\n",
       "      <td>Open</td>\n",
       "      <td>0</td>\n",
       "      <td>6</td>\n",
       "      <td>Cutaway</td>\n",
       "      <td>3</td>\n",
       "      <td>9.333333</td>\n",
       "      <td>0.0</td>\n",
       "    </tr>\n",
       "    <tr>\n",
       "      <th>6819</th>\n",
       "      <td>El Dorado County Transit Authority</td>\n",
       "      <td>90229</td>\n",
       "      <td>Independent Public Agency or Authority of Tran...</td>\n",
       "      <td>Reduced Reporter</td>\n",
       "      <td>2019</td>\n",
       "      <td>Section 5311</td>\n",
       "      <td>CA-2020-015 | 0020000057</td>\n",
       "      <td>2019</td>\n",
       "      <td>Operating Assistance Sliding Scale</td>\n",
       "      <td>300902</td>\n",
       "      <td>64BO19-00950</td>\n",
       "      <td>509322.0</td>\n",
       "      <td>509322.0</td>\n",
       "      <td>509322.0</td>\n",
       "      <td>0.0</td>\n",
       "      <td>0</td>\n",
       "      <td>Open</td>\n",
       "      <td>1723634</td>\n",
       "      <td>29</td>\n",
       "      <td>Trucks and other Rubber Tire Vehicles (Service)</td>\n",
       "      <td>3</td>\n",
       "      <td>NaN</td>\n",
       "      <td>NaN</td>\n",
       "    </tr>\n",
       "  </tbody>\n",
       "</table>\n",
       "</div>"
      ],
      "text/plain": [
       "                                  agency      ntd_id  \\\n",
       "6134     Redwood Coast Transit Authority  9R02-91097   \n",
       "211                        City of Arvin  9R02-91027   \n",
       "6819  El Dorado County Transit Authority       90229   \n",
       "\n",
       "                                      organization_type     reporter_type  \\\n",
       "6134  Independent Public Agency or Authority of Tran...    Rural Reporter   \n",
       "211   City, County or Local Government Unit or Depar...    Rural Reporter   \n",
       "6819  Independent Public Agency or Authority of Tran...  Reduced Reporter   \n",
       "\n",
       "      Grant_Fiscal_Year  Funding_Program              Grant_Number  \\\n",
       "6134               2019  5339 (National)  CA-2021-034 | 0021000216   \n",
       "211                2016     Section 5311  CA-2017-025 | 0017000158   \n",
       "6819               2019     Section 5311  CA-2020-015 | 0020000057   \n",
       "\n",
       "      Project_Year                         Description     ALI  \\\n",
       "6134          2019         Rehab/Rebuild STD 35 Ft Bus  111402   \n",
       "211           2016  Operating Assistance Sliding Scale  300902   \n",
       "6819          2019  Operating Assistance Sliding Scale  300902   \n",
       "\n",
       "     Contract_Number  AllocationAmount  Encumbered_Amount  ExpendedAmount  \\\n",
       "6134    64GC19-01465           31777.0            31777.0             0.0   \n",
       "211     64BO17-00365           62188.0            62188.0         62188.0   \n",
       "6819    64BO19-00950          509322.0           509322.0        509322.0   \n",
       "\n",
       "      ActiveBalance  ClosedOutBalance Project_Status  primary_uza_population  \\\n",
       "6134        31777.0                 0           Open                       0   \n",
       "211             0.0                 0           Open                       0   \n",
       "6819            0.0                 0           Open                 1723634   \n",
       "\n",
       "      agency_voms                                     vehicle_type  \\\n",
       "6134            8  Trucks and other Rubber Tire Vehicles (Service)   \n",
       "211             6                                          Cutaway   \n",
       "6819           29  Trucks and other Rubber Tire Vehicles (Service)   \n",
       "\n",
       "      total_vehicles  average_age_of_fleet__in_years_  \\\n",
       "6134               1                              NaN   \n",
       "211                3                         9.333333   \n",
       "6819               3                              NaN   \n",
       "\n",
       "      average_lifetime_miles_per_vehicle  \n",
       "6134                                 NaN  \n",
       "211                                  0.0  \n",
       "6819                                 NaN  "
      ]
     },
     "execution_count": 381,
     "metadata": {},
     "output_type": "execute_result"
    }
   ],
   "source": [
    "df_join1.sample(3)"
   ]
  }
 ],
 "metadata": {
  "kernelspec": {
   "display_name": "Python 3 (ipykernel)",
   "language": "python",
   "name": "python3"
  },
  "language_info": {
   "codemirror_mode": {
    "name": "ipython",
    "version": 3
   },
   "file_extension": ".py",
   "mimetype": "text/x-python",
   "name": "python",
   "nbconvert_exporter": "python",
   "pygments_lexer": "ipython3",
   "version": "3.9.7"
  }
 },
 "nbformat": 4,
 "nbformat_minor": 5
}
