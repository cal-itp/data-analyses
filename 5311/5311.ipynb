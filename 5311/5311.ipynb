{
 "cells": [
  {
   "cell_type": "markdown",
   "id": "83c2168e-356d-471c-a263-8c4ef945997f",
   "metadata": {},
   "source": [
    "# 5311 Rural Areas First Look\n",
    "* Using data from Black Cat\n",
    "* Downloaded all records from projects file off of Black Cat"
   ]
  },
  {
   "cell_type": "markdown",
   "id": "29d7ca2d-1066-4e89-8037-8e3211c9ac48",
   "metadata": {},
   "source": [
    "### Clean up"
   ]
  },
  {
   "cell_type": "code",
   "execution_count": null,
   "id": "d177d90b-c8d3-43f4-bfbd-4d1a5030e708",
   "metadata": {},
   "outputs": [],
   "source": [
    "import pandas as pd\n",
    "import numpy as np\n",
    "#import shared_utils"
   ]
  },
  {
   "cell_type": "code",
   "execution_count": null,
   "id": "1c250548-61e3-45d4-9c2c-b6ab9ceb1884",
   "metadata": {},
   "outputs": [],
   "source": [
    "GCS_FILE_PATH = \"gs://calitp-analytics-data/data-analyses/5311 /\"\n",
    "FILE_NAME = \"Grant_Projects.xlsx\"\n",
    "df_5311 = pd.read_excel(f\"{GCS_FILE_PATH}{FILE_NAME}\")"
   ]
  },
  {
   "cell_type": "code",
   "execution_count": null,
   "id": "0e37403e-a18f-488f-89bf-23ad6104825c",
   "metadata": {},
   "outputs": [],
   "source": [
    "f'There are {len(df_5311)} rows without any filtering'"
   ]
  },
  {
   "cell_type": "code",
   "execution_count": null,
   "id": "44e7f5a0-2a3c-4e70-8d34-aa2375c9c1ca",
   "metadata": {},
   "outputs": [],
   "source": [
    "#clean column names\n",
    "df_5311.columns = df_5311.columns.str.replace('\\n', ' ').str.replace(' ', '_')"
   ]
  },
  {
   "cell_type": "code",
   "execution_count": null,
   "id": "62d8bc70-eb68-4a8f-8d65-a6b4abf83ac9",
   "metadata": {},
   "outputs": [],
   "source": [
    "#drop any potential duplicates\n",
    "df_5311.drop_duplicates(inplace=True)"
   ]
  },
  {
   "cell_type": "markdown",
   "id": "4bf4f42f-433e-4cbd-8138-cb190e68b76b",
   "metadata": {},
   "source": [
    "### Filtering out only for 5311 programs"
   ]
  },
  {
   "cell_type": "code",
   "execution_count": null,
   "id": "7c03a174-be33-4057-a6f4-2583eaee9950",
   "metadata": {},
   "outputs": [],
   "source": [
    "df_5311['Funding_Program'].unique()"
   ]
  },
  {
   "cell_type": "code",
   "execution_count": null,
   "id": "f2a56f82-69bf-4e71-a803-73d4228e0315",
   "metadata": {},
   "outputs": [],
   "source": [
    "subset = ['Section 5311', '5311(f) Cont','5339 (National)', 'Section 5311(f)',  '5311(f) Round 2']"
   ]
  },
  {
   "cell_type": "code",
   "execution_count": null,
   "id": "ee381ee5-4fb1-4664-9dd3-b94a0509efd2",
   "metadata": {},
   "outputs": [],
   "source": [
    "df_5311 = df_5311[df_5311.Funding_Program.isin(subset)]"
   ]
  },
  {
   "cell_type": "code",
   "execution_count": null,
   "id": "cf6e6f28-90f7-4fdc-aea5-2740b121b0f0",
   "metadata": {},
   "outputs": [],
   "source": [
    "f'There are {len(df_5311)} rows after filtering for only 5311'"
   ]
  },
  {
   "cell_type": "code",
   "execution_count": null,
   "id": "eddee0ae-421b-4a47-9371-315f122d8799",
   "metadata": {},
   "outputs": [],
   "source": [
    "df_5311.columns"
   ]
  },
  {
   "cell_type": "code",
   "execution_count": null,
   "id": "3a2b2b16-9695-49af-8325-673f83e7d570",
   "metadata": {},
   "outputs": [],
   "source": [
    "df_5311 = df_5311.drop(columns = ['Project_Closed_By', 'Project_Closed_Date', 'Project_Closed_Time'])"
   ]
  },
  {
   "cell_type": "code",
   "execution_count": null,
   "id": "93089a3b-6d70-4595-be24-ada0d8e36f41",
   "metadata": {},
   "outputs": [],
   "source": [
    "#Convert to CSV\n",
    "df_5311.to_csv(\"./5311_bus.csv\", index = False) "
   ]
  },
  {
   "cell_type": "markdown",
   "id": "98eb8621-a59c-4ad5-ab33-4b190307049d",
   "metadata": {},
   "source": [
    "### Find only projects with bus replacement"
   ]
  },
  {
   "cell_type": "code",
   "execution_count": null,
   "id": "9c9d7a3f-6080-4483-87b6-94a95db6dbd1",
   "metadata": {
    "scrolled": true,
    "tags": []
   },
   "outputs": [],
   "source": [
    "#can see  bus is typed as BUS or Bus\n",
    "df_5311.Description.unique().tolist()"
   ]
  },
  {
   "cell_type": "code",
   "execution_count": null,
   "id": "880dc6a0-b56e-4c9b-bdde-85e94f26e778",
   "metadata": {},
   "outputs": [],
   "source": [
    "df_5311_bus = df_5311[(df_5311.Description.str.contains(\"Bus\", case= False))]"
   ]
  },
  {
   "cell_type": "code",
   "execution_count": null,
   "id": "9ec2adc8-194a-47cb-ac41-b7f25449527f",
   "metadata": {},
   "outputs": [],
   "source": [
    "f'There are {len(df_5311_bus)} rows after filtering for only 5311 & descriptions that contain keyword bus'"
   ]
  },
  {
   "cell_type": "code",
   "execution_count": null,
   "id": "a54b8728-e753-469e-b149-9308409a373c",
   "metadata": {},
   "outputs": [],
   "source": [
    "#Checking nas\n",
    "df_5311_bus.isna().sum()"
   ]
  },
  {
   "cell_type": "code",
   "execution_count": null,
   "id": "0952dcc8-d661-49bb-b11e-798a9a9904f3",
   "metadata": {},
   "outputs": [],
   "source": [
    "#drop columns with all NAs aka project closed by, closed date, and closed time\n",
    "df_5311_bus = df_5311_bus.drop(columns=['Project_Closed_By', 'Project_Closed_Date', 'Project_Closed_Time'])"
   ]
  },
  {
   "cell_type": "markdown",
   "id": "ed9ff646-91ae-4d33-a0a0-4dea7695ae3b",
   "metadata": {},
   "source": [
    "### Finding unique agencies/organizations"
   ]
  },
  {
   "cell_type": "code",
   "execution_count": null,
   "id": "1f9b9640-7487-4623-95af-88605cba055f",
   "metadata": {},
   "outputs": [],
   "source": [
    "unique_agencies = df_5311_bus['Organization_Name'].unique().tolist()"
   ]
  },
  {
   "cell_type": "markdown",
   "id": "b40512da-6fb8-4a74-821b-7de6f709ec62",
   "metadata": {},
   "source": [
    "### So I thought each record/grant recipient would have their own unique contract number but apparently not...Weird"
   ]
  },
  {
   "cell_type": "code",
   "execution_count": null,
   "id": "4e49a267-89e5-4e0f-9726-e3268cf402eb",
   "metadata": {},
   "outputs": [],
   "source": [
    "print(df_5311_bus['Contract_Number'].nunique())"
   ]
  },
  {
   "cell_type": "markdown",
   "id": "a55996c7-c576-4b93-9497-f2068db956ae",
   "metadata": {},
   "source": [
    "### Looking at some measures"
   ]
  },
  {
   "cell_type": "code",
   "execution_count": null,
   "id": "2a7bf7a6-053e-45c2-bc58-8c9dbaf7dfc5",
   "metadata": {},
   "outputs": [],
   "source": [
    "#Look at count of funding program (lots of different ways to call  the same program)\n",
    "df_5311_bus.Funding_Program.value_counts() "
   ]
  },
  {
   "cell_type": "code",
   "execution_count": null,
   "id": "bf70f754-2b62-4eae-9fc5-5db234084de8",
   "metadata": {},
   "outputs": [],
   "source": [
    "#preview \n",
    "df_5311_bus.head(2)"
   ]
  },
  {
   "cell_type": "markdown",
   "id": "b8081b22-26b1-45ed-94fb-d5c261cbad7d",
   "metadata": {},
   "source": [
    "#### Looking at data by year\n",
    "* 2018 had the most projects followed by 2019 then 2021\n",
    "* 2019 registered the largest amount of allocated money. "
   ]
  },
  {
   "cell_type": "code",
   "execution_count": null,
   "id": "1fdbfa46-be01-4732-941f-46c4c6250d8b",
   "metadata": {},
   "outputs": [],
   "source": [
    "year = df_5311_bus[['Grant_Fiscal_Year',\"AllocationAmount\",'Encumbered_Amount','ExpendedAmount', 'ActiveBalance','Organization_Name',]].groupby(['Grant_Fiscal_Year']).agg({\"AllocationAmount\": 'sum', \n",
    "'Encumbered_Amount': 'sum','ExpendedAmount': 'sum', 'ActiveBalance':'sum', 'Organization_Name':'count',})\n",
    "year = year.rename(columns = {'Organization_Name': 'Number_of_Award_Recipients'})"
   ]
  },
  {
   "cell_type": "code",
   "execution_count": null,
   "id": "ceb4f9f4-aca0-433e-9e87-2d29636ab934",
   "metadata": {},
   "outputs": [],
   "source": [
    "year"
   ]
  },
  {
   "cell_type": "markdown",
   "id": "abef1875-1b04-41ec-b397-264022d7fedb",
   "metadata": {},
   "source": [
    "### Looking at stuff by description, really annoying how the same category like \"buy <30 ft bus for expansion' is split off\n",
    "* Looks like most projects (58) are for Purchase Replacement < 30 Ft Bus\t"
   ]
  },
  {
   "cell_type": "code",
   "execution_count": null,
   "id": "b1b62933-c341-4ae9-bc56-4dec94c6b011",
   "metadata": {},
   "outputs": [],
   "source": [
    "description = df_5311_bus[[\"AllocationAmount\",'Encumbered_Amount','ExpendedAmount', 'ActiveBalance','Description',]].groupby(['Description']).agg({\"AllocationAmount\": 'sum', \n",
    "'Encumbered_Amount': 'sum','ExpendedAmount': 'sum', 'ActiveBalance':'sum','Description': 'count'})\n",
    "description = description.rename(columns = {'Description': 'Project_Count'})\n",
    "description.sort_values(by='Project_Count', inplace=True, ascending=False)"
   ]
  },
  {
   "cell_type": "code",
   "execution_count": null,
   "id": "fc664343-a1d3-4825-bb72-30904ac72ce5",
   "metadata": {},
   "outputs": [],
   "source": [
    "description"
   ]
  },
  {
   "cell_type": "markdown",
   "id": "03224fd2-383b-4526-a9f6-97459dc630c5",
   "metadata": {},
   "source": [
    "### Look at the different organizations & the grant money they have received over the years\n",
    "* Yuba-Sutter Transit Authority has received the most grants by agency"
   ]
  },
  {
   "cell_type": "code",
   "execution_count": null,
   "id": "e0a1704f-736c-407b-9cd9-9c20d1f35abe",
   "metadata": {},
   "outputs": [],
   "source": [
    "df_5311_bus.Organization_Name.value_counts()"
   ]
  },
  {
   "cell_type": "code",
   "execution_count": null,
   "id": "59734cc8-af1e-486a-a0ea-c6462b0ca01f",
   "metadata": {},
   "outputs": [],
   "source": [
    "organization = df_5311_bus[['Grant_Fiscal_Year',\"AllocationAmount\",'Encumbered_Amount','ExpendedAmount', 'ActiveBalance','Organization_Name',]].groupby(['Organization_Name','Grant_Fiscal_Year']).agg({\"AllocationAmount\": 'sum', \n",
    "'Encumbered_Amount': 'sum','ExpendedAmount': 'sum', 'ActiveBalance':'sum'})"
   ]
  },
  {
   "cell_type": "markdown",
   "id": "9275390b-6347-49dc-aa3a-9da9b8baca37",
   "metadata": {},
   "source": [
    "### Once we summarize the organization by year, it becomes more condensed"
   ]
  },
  {
   "cell_type": "code",
   "execution_count": null,
   "id": "5d3e6067-433f-4b45-9fa0-4ed3421e1dfd",
   "metadata": {
    "scrolled": true,
    "tags": []
   },
   "outputs": [],
   "source": [
    "organization"
   ]
  }
 ],
 "metadata": {
  "kernelspec": {
   "display_name": "Python 3 (ipykernel)",
   "language": "python",
   "name": "python3"
  },
  "language_info": {
   "codemirror_mode": {
    "name": "ipython",
    "version": 3
   },
   "file_extension": ".py",
   "mimetype": "text/x-python",
   "name": "python",
   "nbconvert_exporter": "python",
   "pygments_lexer": "ipython3",
   "version": "3.9.7"
  },
  "toc-autonumbering": false,
  "toc-showcode": false,
  "toc-showtags": false
 },
 "nbformat": 4,
 "nbformat_minor": 5
}
