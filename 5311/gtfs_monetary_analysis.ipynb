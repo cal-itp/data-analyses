{
 "cells": [
  {
   "cell_type": "markdown",
   "id": "68c7a512-3b90-4da4-96a9-69e1e8f466f1",
   "metadata": {},
   "source": [
    "# 5311 Insights\n",
    "<hr style=\"border:2px solid #8CBCCB\">\n"
   ]
  },
  {
   "cell_type": "code",
   "execution_count": 1,
   "id": "e60b1121-c948-489c-b432-e3feb6b27d78",
   "metadata": {},
   "outputs": [
    {
     "name": "stderr",
     "output_type": "stream",
     "text": [
      "/opt/conda/lib/python3.10/site-packages/geopandas/_compat.py:111: UserWarning: The Shapely GEOS version (3.10.2-CAPI-1.16.0) is incompatible with the GEOS version PyGEOS was compiled with (3.10.1-CAPI-1.16.0). Conversions between both will be slow.\n",
      "  warnings.warn(\n"
     ]
    }
   ],
   "source": [
    "import pandas as pd\n",
    "#import warnings\n",
    "#warnings.filterwarnings(\"ignore\")\n",
    "\n",
    "#Perhaps unnecessary\n",
    "#from siuba import *\n",
    "#from calitp import *\n",
    "#import intake\n",
    "#import numpy as np\n",
    "\n",
    "\n",
    "import shared_utils\n",
    "import altair as alt\n",
    "import altair_saver\n",
    "from shared_utils import altair_utils \n",
    "\n",
    "pd.options.display.max_rows = 100\n",
    "pd.options.display.float_format = \"{:.0f}\".format\n",
    "pd.options.display.float_format = '{:,}'.format\n",
    "\n",
    "#Import script \n",
    "import data_prep\n",
    "import _utils"
   ]
  },
  {
   "cell_type": "code",
   "execution_count": 2,
   "id": "839255c7-fd26-442c-aafb-56a629d944e6",
   "metadata": {},
   "outputs": [],
   "source": [
    "#Color Palette\n",
    "LIGHT_BLUE =\"#8CBCCB\""
   ]
  },
  {
   "cell_type": "code",
   "execution_count": 3,
   "id": "5e639e2a-1860-4eae-aaa6-262ff6f1bad5",
   "metadata": {},
   "outputs": [
    {
     "name": "stderr",
     "output_type": "stream",
     "text": [
      "/home/jovyan/data-analyses/5311/data_prep.py:232: SettingWithCopyWarning: \n",
      "A value is trying to be set on a copy of a slice from a DataFrame.\n",
      "Try using .loc[row_indexer,col_indexer] = value instead\n",
      "\n",
      "See the caveats in the documentation: https://pandas.pydata.org/pandas-docs/stable/user_guide/indexing.html#returning-a-view-versus-a-copy\n",
      "/home/jovyan/data-analyses/5311/data_prep.py:334: SettingWithCopyWarning: \n",
      "A value is trying to be set on a copy of a slice from a DataFrame\n",
      "\n",
      "See the caveats in the documentation: https://pandas.pydata.org/pandas-docs/stable/user_guide/indexing.html#returning-a-view-versus-a-copy\n",
      "/home/jovyan/data-analyses/5311/data_prep.py:232: SettingWithCopyWarning: \n",
      "A value is trying to be set on a copy of a slice from a DataFrame.\n",
      "Try using .loc[row_indexer,col_indexer] = value instead\n",
      "\n",
      "See the caveats in the documentation: https://pandas.pydata.org/pandas-docs/stable/user_guide/indexing.html#returning-a-view-versus-a-copy\n",
      "/home/jovyan/data-analyses/5311/data_prep.py:334: SettingWithCopyWarning: \n",
      "A value is trying to be set on a copy of a slice from a DataFrame\n",
      "\n",
      "See the caveats in the documentation: https://pandas.pydata.org/pandas-docs/stable/user_guide/indexing.html#returning-a-view-versus-a-copy\n"
     ]
    }
   ],
   "source": [
    "#Cleaned & aggregated DF \n",
    "aggregated = data_prep.aggregated_df()\n",
    "final = data_prep.final_df()"
   ]
  },
  {
   "cell_type": "markdown",
   "id": "c19d0fc2-11d6-49fb-98d6-7fdf15aca115",
   "metadata": {},
   "source": [
    "## Analyze 5311 by District"
   ]
  },
  {
   "cell_type": "code",
   "execution_count": 4,
   "id": "fd395428-1b90-40b7-807b-193b0845d707",
   "metadata": {
    "tags": []
   },
   "outputs": [
    {
     "name": "stderr",
     "output_type": "stream",
     "text": [
      "/home/jovyan/data-analyses/5311/_utils.py:147: FutureWarning: The default value of regex will change from True to False in a future version.\n"
     ]
    },
    {
     "data": {
      "text/html": [
       "<style type=\"text/css\">\n",
       "#T_3c573_row0_col3 {\n",
       "  width: 10em;\n",
       "  background: linear-gradient(90deg, #8CBCCB 61.8%, transparent 61.8%);\n",
       "}\n",
       "#T_3c573_row1_col3 {\n",
       "  width: 10em;\n",
       "  background: linear-gradient(90deg, #8CBCCB 21.0%, transparent 21.0%);\n",
       "}\n",
       "#T_3c573_row2_col3 {\n",
       "  width: 10em;\n",
       "  background: linear-gradient(90deg, #8CBCCB 54.9%, transparent 54.9%);\n",
       "}\n",
       "#T_3c573_row3_col3 {\n",
       "  width: 10em;\n",
       "  background: linear-gradient(90deg, #8CBCCB 36.5%, transparent 36.5%);\n",
       "}\n",
       "#T_3c573_row4_col3 {\n",
       "  width: 10em;\n",
       "  background: linear-gradient(90deg, #8CBCCB 55.4%, transparent 55.4%);\n",
       "}\n",
       "#T_3c573_row5_col3 {\n",
       "  width: 10em;\n",
       "  background: linear-gradient(90deg, #8CBCCB 100.0%, transparent 100.0%);\n",
       "}\n",
       "#T_3c573_row6_col3 {\n",
       "  width: 10em;\n",
       "  background: linear-gradient(90deg, #8CBCCB 9.0%, transparent 9.0%);\n",
       "}\n",
       "#T_3c573_row7_col3 {\n",
       "  width: 10em;\n",
       "  background: linear-gradient(90deg, #8CBCCB 59.7%, transparent 59.7%);\n",
       "}\n",
       "#T_3c573_row8_col3 {\n",
       "  width: 10em;\n",
       "  background: linear-gradient(90deg, #8CBCCB 12.8%, transparent 12.8%);\n",
       "}\n",
       "#T_3c573_row9_col3 {\n",
       "  width: 10em;\n",
       "  background: linear-gradient(90deg, #8CBCCB 38.1%, transparent 38.1%);\n",
       "}\n",
       "#T_3c573_row10_col3 {\n",
       "  width: 10em;\n",
       "  background: linear-gradient(90deg, #8CBCCB 23.8%, transparent 23.8%);\n",
       "}\n",
       "#T_3c573_row11_col3 {\n",
       "  width: 10em;\n",
       "  background: linear-gradient(90deg, #8CBCCB 76.1%, transparent 76.1%);\n",
       "}\n",
       "</style>\n",
       "<table id=\"T_3c573\">\n",
       "  <thead>\n",
       "    <tr>\n",
       "      <th class=\"blank level0\" >&nbsp;</th>\n",
       "      <th id=\"T_3c573_level0_col0\" class=\"col_heading level0 col0\" >Caltrans District</th>\n",
       "      <th id=\"T_3c573_level0_col1\" class=\"col_heading level0 col1\" >Organization Name</th>\n",
       "      <th id=\"T_3c573_level0_col2\" class=\"col_heading level0 col2\" >Doors Sum</th>\n",
       "      <th id=\"T_3c573_level0_col3\" class=\"col_heading level0 col3\" >Allocationamount</th>\n",
       "      <th id=\"T_3c573_level0_col4\" class=\"col_heading level0 col4\" >Expendedamount</th>\n",
       "      <th id=\"T_3c573_level0_col5\" class=\"col_heading level0 col5\" >Total Vehicles</th>\n",
       "      <th id=\"T_3c573_level0_col6\" class=\"col_heading level0 col6\" >Average Age Of Fleet  In Years</th>\n",
       "    </tr>\n",
       "  </thead>\n",
       "  <tbody>\n",
       "    <tr>\n",
       "      <th id=\"T_3c573_level0_row0\" class=\"row_heading level0 row0\" >0</th>\n",
       "      <td id=\"T_3c573_row0_col0\" class=\"data row0 col0\" >01 - Eureka</td>\n",
       "      <td id=\"T_3c573_row0_col1\" class=\"data row0 col1\" >6</td>\n",
       "      <td id=\"T_3c573_row0_col2\" class=\"data row0 col2\" >31.500000</td>\n",
       "      <td id=\"T_3c573_row0_col3\" class=\"data row0 col3\" >18514520.000000</td>\n",
       "      <td id=\"T_3c573_row0_col4\" class=\"data row0 col4\" >12328651.030000</td>\n",
       "      <td id=\"T_3c573_row0_col5\" class=\"data row0 col5\" >177.000000</td>\n",
       "      <td id=\"T_3c573_row0_col6\" class=\"data row0 col6\" >5.424279</td>\n",
       "    </tr>\n",
       "    <tr>\n",
       "      <th id=\"T_3c573_level0_row1\" class=\"row_heading level0 row1\" >1</th>\n",
       "      <td id=\"T_3c573_row1_col0\" class=\"data row1 col0\" >02 - Redding</td>\n",
       "      <td id=\"T_3c573_row1_col1\" class=\"data row1 col1\" >4</td>\n",
       "      <td id=\"T_3c573_row1_col2\" class=\"data row1 col2\" >14.500000</td>\n",
       "      <td id=\"T_3c573_row1_col3\" class=\"data row1 col3\" >6293412.000000</td>\n",
       "      <td id=\"T_3c573_row1_col4\" class=\"data row1 col4\" >4625264.020000</td>\n",
       "      <td id=\"T_3c573_row1_col5\" class=\"data row1 col5\" >62.000000</td>\n",
       "      <td id=\"T_3c573_row1_col6\" class=\"data row1 col6\" >5.938889</td>\n",
       "    </tr>\n",
       "    <tr>\n",
       "      <th id=\"T_3c573_level0_row2\" class=\"row_heading level0 row2\" >2</th>\n",
       "      <td id=\"T_3c573_row2_col0\" class=\"data row2 col0\" >03 - Marysville</td>\n",
       "      <td id=\"T_3c573_row2_col1\" class=\"data row2 col1\" >8</td>\n",
       "      <td id=\"T_3c573_row2_col2\" class=\"data row2 col2\" >83.000000</td>\n",
       "      <td id=\"T_3c573_row2_col3\" class=\"data row2 col3\" >16444169.000000</td>\n",
       "      <td id=\"T_3c573_row2_col4\" class=\"data row2 col4\" >11525387.780000</td>\n",
       "      <td id=\"T_3c573_row2_col5\" class=\"data row2 col5\" >353.000000</td>\n",
       "      <td id=\"T_3c573_row2_col6\" class=\"data row2 col6\" >6.592634</td>\n",
       "    </tr>\n",
       "    <tr>\n",
       "      <th id=\"T_3c573_level0_row3\" class=\"row_heading level0 row3\" >3</th>\n",
       "      <td id=\"T_3c573_row3_col0\" class=\"data row3 col0\" >04 - Oakland</td>\n",
       "      <td id=\"T_3c573_row3_col1\" class=\"data row3 col1\" >9</td>\n",
       "      <td id=\"T_3c573_row3_col2\" class=\"data row3 col2\" >132.000000</td>\n",
       "      <td id=\"T_3c573_row3_col3\" class=\"data row3 col3\" >10945699.280000</td>\n",
       "      <td id=\"T_3c573_row3_col4\" class=\"data row3 col4\" >7418303.000000</td>\n",
       "      <td id=\"T_3c573_row3_col5\" class=\"data row3 col5\" >2145.000000</td>\n",
       "      <td id=\"T_3c573_row3_col6\" class=\"data row3 col6\" >7.201646</td>\n",
       "    </tr>\n",
       "    <tr>\n",
       "      <th id=\"T_3c573_level0_row4\" class=\"row_heading level0 row4\" >4</th>\n",
       "      <td id=\"T_3c573_row4_col0\" class=\"data row4 col0\" >05 - San Luis Obispo</td>\n",
       "      <td id=\"T_3c573_row4_col1\" class=\"data row4 col1\" >7</td>\n",
       "      <td id=\"T_3c573_row4_col2\" class=\"data row4 col2\" >65.000000</td>\n",
       "      <td id=\"T_3c573_row4_col3\" class=\"data row4 col3\" >16604962.000000</td>\n",
       "      <td id=\"T_3c573_row4_col4\" class=\"data row4 col4\" >11601678.880000</td>\n",
       "      <td id=\"T_3c573_row4_col5\" class=\"data row4 col5\" >531.000000</td>\n",
       "      <td id=\"T_3c573_row4_col6\" class=\"data row4 col6\" >7.128430</td>\n",
       "    </tr>\n",
       "    <tr>\n",
       "      <th id=\"T_3c573_level0_row5\" class=\"row_heading level0 row5\" >5</th>\n",
       "      <td id=\"T_3c573_row5_col0\" class=\"data row5 col0\" >06 - Fresno</td>\n",
       "      <td id=\"T_3c573_row5_col1\" class=\"data row5 col1\" >16</td>\n",
       "      <td id=\"T_3c573_row5_col2\" class=\"data row5 col2\" >15.500000</td>\n",
       "      <td id=\"T_3c573_row5_col3\" class=\"data row5 col3\" >29962524.000000</td>\n",
       "      <td id=\"T_3c573_row5_col4\" class=\"data row5 col4\" >21368584.630000</td>\n",
       "      <td id=\"T_3c573_row5_col5\" class=\"data row5 col5\" >507.000000</td>\n",
       "      <td id=\"T_3c573_row5_col6\" class=\"data row5 col6\" >6.691667</td>\n",
       "    </tr>\n",
       "    <tr>\n",
       "      <th id=\"T_3c573_level0_row6\" class=\"row_heading level0 row6\" >6</th>\n",
       "      <td id=\"T_3c573_row6_col0\" class=\"data row6 col0\" >07 - Los Angeles</td>\n",
       "      <td id=\"T_3c573_row6_col1\" class=\"data row6 col1\" >1</td>\n",
       "      <td id=\"T_3c573_row6_col2\" class=\"data row6 col2\" >12.000000</td>\n",
       "      <td id=\"T_3c573_row6_col3\" class=\"data row6 col3\" >2706782.000000</td>\n",
       "      <td id=\"T_3c573_row6_col4\" class=\"data row6 col4\" >2169754.170000</td>\n",
       "      <td id=\"T_3c573_row6_col5\" class=\"data row6 col5\" >7.000000</td>\n",
       "      <td id=\"T_3c573_row6_col6\" class=\"data row6 col6\" >7.500000</td>\n",
       "    </tr>\n",
       "    <tr>\n",
       "      <th id=\"T_3c573_level0_row7\" class=\"row_heading level0 row7\" >7</th>\n",
       "      <td id=\"T_3c573_row7_col0\" class=\"data row7 col0\" >08 - San Bernardino</td>\n",
       "      <td id=\"T_3c573_row7_col1\" class=\"data row7 col1\" >7</td>\n",
       "      <td id=\"T_3c573_row7_col2\" class=\"data row7 col2\" >56.000000</td>\n",
       "      <td id=\"T_3c573_row7_col3\" class=\"data row7 col3\" >17885468.000000</td>\n",
       "      <td id=\"T_3c573_row7_col4\" class=\"data row7 col4\" >13913177.690000</td>\n",
       "      <td id=\"T_3c573_row7_col5\" class=\"data row7 col5\" >1076.000000</td>\n",
       "      <td id=\"T_3c573_row7_col6\" class=\"data row7 col6\" >4.000000</td>\n",
       "    </tr>\n",
       "    <tr>\n",
       "      <th id=\"T_3c573_level0_row8\" class=\"row_heading level0 row8\" >8</th>\n",
       "      <td id=\"T_3c573_row8_col0\" class=\"data row8 col0\" >09 - Bishop</td>\n",
       "      <td id=\"T_3c573_row8_col1\" class=\"data row8 col1\" >3</td>\n",
       "      <td id=\"T_3c573_row8_col2\" class=\"data row8 col2\" >10.000000</td>\n",
       "      <td id=\"T_3c573_row8_col3\" class=\"data row8 col3\" >3830444.000000</td>\n",
       "      <td id=\"T_3c573_row8_col4\" class=\"data row8 col4\" >2467504.560000</td>\n",
       "      <td id=\"T_3c573_row8_col5\" class=\"data row8 col5\" >112.000000</td>\n",
       "      <td id=\"T_3c573_row8_col6\" class=\"data row8 col6\" >11.000000</td>\n",
       "    </tr>\n",
       "    <tr>\n",
       "      <th id=\"T_3c573_level0_row9\" class=\"row_heading level0 row9\" >9</th>\n",
       "      <td id=\"T_3c573_row9_col0\" class=\"data row9 col0\" >10 - Stockton</td>\n",
       "      <td id=\"T_3c573_row9_col1\" class=\"data row9 col1\" >6</td>\n",
       "      <td id=\"T_3c573_row9_col2\" class=\"data row9 col2\" >29.000000</td>\n",
       "      <td id=\"T_3c573_row9_col3\" class=\"data row9 col3\" >11420717.000000</td>\n",
       "      <td id=\"T_3c573_row9_col4\" class=\"data row9 col4\" >8459654.400000</td>\n",
       "      <td id=\"T_3c573_row9_col5\" class=\"data row9 col5\" >335.000000</td>\n",
       "      <td id=\"T_3c573_row9_col6\" class=\"data row9 col6\" >6.156062</td>\n",
       "    </tr>\n",
       "    <tr>\n",
       "      <th id=\"T_3c573_level0_row10\" class=\"row_heading level0 row10\" >10</th>\n",
       "      <td id=\"T_3c573_row10_col0\" class=\"data row10 col0\" >11 - San Diego</td>\n",
       "      <td id=\"T_3c573_row10_col1\" class=\"data row10 col1\" >3</td>\n",
       "      <td id=\"T_3c573_row10_col2\" class=\"data row10 col2\" >453.000000</td>\n",
       "      <td id=\"T_3c573_row10_col3\" class=\"data row10 col3\" >7128856.000000</td>\n",
       "      <td id=\"T_3c573_row10_col4\" class=\"data row10 col4\" >5174360.700000</td>\n",
       "      <td id=\"T_3c573_row10_col5\" class=\"data row10 col5\" >1439.000000</td>\n",
       "      <td id=\"T_3c573_row10_col6\" class=\"data row10 col6\" >14.194925</td>\n",
       "    </tr>\n",
       "    <tr>\n",
       "      <th id=\"T_3c573_level0_row11\" class=\"row_heading level0 row11\" >11</th>\n",
       "      <td id=\"T_3c573_row11_col0\" class=\"data row11 col0\" >None</td>\n",
       "      <td id=\"T_3c573_row11_col1\" class=\"data row11 col1\" >17</td>\n",
       "      <td id=\"T_3c573_row11_col2\" class=\"data row11 col2\" >0.000000</td>\n",
       "      <td id=\"T_3c573_row11_col3\" class=\"data row11 col3\" >22793949.000000</td>\n",
       "      <td id=\"T_3c573_row11_col4\" class=\"data row11 col4\" >17635946.790000</td>\n",
       "      <td id=\"T_3c573_row11_col5\" class=\"data row11 col5\" >252.000000</td>\n",
       "      <td id=\"T_3c573_row11_col6\" class=\"data row11 col6\" >0.000000</td>\n",
       "    </tr>\n",
       "  </tbody>\n",
       "</table>\n"
      ],
      "text/plain": [
       "<pandas.io.formats.style.Styler at 0x7f7955c7c040>"
      ]
     },
     "execution_count": 4,
     "metadata": {},
     "output_type": "execute_result"
    }
   ],
   "source": [
    "district = (aggregated.groupby(['caltrans_district',\n",
    "                    ])\n",
    "           .agg({'organization_name':'nunique',\n",
    "                 'doors_sum':'median',\n",
    "                 'allocationamount':'sum',\n",
    "                 'expendedamount':'sum',\n",
    "                 'total_vehicles':'sum',\n",
    "                 'average_age_of_fleet__in_years_':'median'\n",
    "                 })\n",
    "            .reset_index()\n",
    ") \n",
    "\n",
    "district = (_utils\n",
    "            .cols_cleanup(district)\n",
    "           ) \n",
    "district.style.bar(subset=[\"Allocationamount\"], color=LIGHT_BLUE)"
   ]
  },
  {
   "cell_type": "markdown",
   "id": "0db80693-03ea-423e-a09f-4f8c87986929",
   "metadata": {},
   "source": [
    "## What are the GTFS statuses of the organizations?"
   ]
  },
  {
   "cell_type": "code",
   "execution_count": 5,
   "id": "a8fe9c75-794b-4694-b1cc-2a01f0864be6",
   "metadata": {},
   "outputs": [],
   "source": [
    "GTFS_orgs = (aggregated.groupby(['GTFS'])\n",
    "             .agg({'organization_name':'nunique'})\n",
    "             .reset_index()\n",
    "             .rename(columns = {'organization_name': 'Count_of_Organizations'})\n",
    "             .sort_values('Count_of_Organizations', ascending = False)\n",
    "            )"
   ]
  },
  {
   "cell_type": "code",
   "execution_count": 6,
   "id": "0b6272b1-e29c-4c59-8294-cd15a7717ec7",
   "metadata": {},
   "outputs": [
    {
     "data": {
      "text/html": [
       "\n",
       "<div id=\"altair-viz-e74900927cd543d7b619ff027deafcb5\"></div>\n",
       "<script type=\"text/javascript\">\n",
       "  var VEGA_DEBUG = (typeof VEGA_DEBUG == \"undefined\") ? {} : VEGA_DEBUG;\n",
       "  (function(spec, embedOpt){\n",
       "    let outputDiv = document.currentScript.previousElementSibling;\n",
       "    if (outputDiv.id !== \"altair-viz-e74900927cd543d7b619ff027deafcb5\") {\n",
       "      outputDiv = document.getElementById(\"altair-viz-e74900927cd543d7b619ff027deafcb5\");\n",
       "    }\n",
       "    const paths = {\n",
       "      \"vega\": \"https://cdn.jsdelivr.net/npm//vega@5?noext\",\n",
       "      \"vega-lib\": \"https://cdn.jsdelivr.net/npm//vega-lib?noext\",\n",
       "      \"vega-lite\": \"https://cdn.jsdelivr.net/npm//vega-lite@4.17.0?noext\",\n",
       "      \"vega-embed\": \"https://cdn.jsdelivr.net/npm//vega-embed@6?noext\",\n",
       "    };\n",
       "\n",
       "    function maybeLoadScript(lib, version) {\n",
       "      var key = `${lib.replace(\"-\", \"\")}_version`;\n",
       "      return (VEGA_DEBUG[key] == version) ?\n",
       "        Promise.resolve(paths[lib]) :\n",
       "        new Promise(function(resolve, reject) {\n",
       "          var s = document.createElement('script');\n",
       "          document.getElementsByTagName(\"head\")[0].appendChild(s);\n",
       "          s.async = true;\n",
       "          s.onload = () => {\n",
       "            VEGA_DEBUG[key] = version;\n",
       "            return resolve(paths[lib]);\n",
       "          };\n",
       "          s.onerror = () => reject(`Error loading script: ${paths[lib]}`);\n",
       "          s.src = paths[lib];\n",
       "        });\n",
       "    }\n",
       "\n",
       "    function showError(err) {\n",
       "      outputDiv.innerHTML = `<div class=\"error\" style=\"color:red;\">${err}</div>`;\n",
       "      throw err;\n",
       "    }\n",
       "\n",
       "    function displayChart(vegaEmbed) {\n",
       "      vegaEmbed(outputDiv, spec, embedOpt)\n",
       "        .catch(err => showError(`Javascript Error: ${err.message}<br>This usually means there's a typo in your chart specification. See the javascript console for the full traceback.`));\n",
       "    }\n",
       "\n",
       "    if(typeof define === \"function\" && define.amd) {\n",
       "      requirejs.config({paths});\n",
       "      require([\"vega-embed\"], displayChart, err => showError(`Error loading script: ${err.message}`));\n",
       "    } else {\n",
       "      maybeLoadScript(\"vega\", \"5\")\n",
       "        .then(() => maybeLoadScript(\"vega-lite\", \"4.17.0\"))\n",
       "        .then(() => maybeLoadScript(\"vega-embed\", \"6\"))\n",
       "        .catch(showError)\n",
       "        .then(() => displayChart(vegaEmbed));\n",
       "    }\n",
       "  })({\"config\": {\"view\": {\"continuousWidth\": 400, \"continuousHeight\": 300}, \"axis\": {\"domainColor\": \"#cbcbcb\", \"grid\": true, \"gridColor\": \"#cbcbcb\", \"gridWidth\": 1, \"labelColor\": \"#474747\", \"labelFont\": \"Nunito Sans\", \"labelFontSize\": 10, \"labelPadding\": 4, \"tickColor\": \"#cbcbcb\", \"tickSize\": 10, \"titleColor\": \"#333\", \"titleFont\": \"Raleway\", \"titleFontSize\": 12, \"titlePadding\": 10}, \"axisBand\": {\"grid\": false}, \"background\": \"white\", \"font\": \"Raleway\", \"header\": {\"labelFont\": \"Nunito Sans\", \"titleFont\": \"Raleway\"}, \"legend\": {\"labelColor\": \"#333\", \"labelFont\": \"Nunito Sans\", \"labelFontSize\": 11, \"labelLimit\": 0, \"padding\": 1, \"symbolSize\": 30, \"symbolType\": \"square\", \"titleColor\": \"#333\", \"titleFont\": \"Raleway\", \"titleFontSize\": 14, \"titlePadding\": 10}, \"title\": {\"anchor\": \"middle\", \"font\": \"Raleway\", \"fontSize\": 18, \"fontWeight\": 300, \"offset\": 20}}, \"data\": {\"name\": \"data-3f1fa7dd6d3c1a86516c10c58766472d\"}, \"mark\": \"bar\", \"encoding\": {\"color\": {\"field\": \"GTFS\", \"legend\": {\"title\": \"Gtfs\"}, \"scale\": {\"range\": [\"#2EA8CE\", \"#EB9F3C\", \"#F4D837\", \"#51BF9D\", \"#8CBCCB\", \"#9487C0\"]}, \"type\": \"nominal\"}, \"x\": {\"field\": \"Count_of_Organizations\", \"sort\": \"-y\", \"title\": \"Count Of Organizations\", \"type\": \"quantitative\"}, \"y\": {\"field\": \"GTFS\", \"title\": \"Gtfs\", \"type\": \"nominal\"}}, \"height\": 250, \"title\": \"Count Of Organizations by Gtfs\", \"width\": 400, \"$schema\": \"https://vega.github.io/schema/vega-lite/v4.17.0.json\", \"datasets\": {\"data-3f1fa7dd6d3c1a86516c10c58766472d\": [{\"GTFS\": \"Static OK_RT Incomplete\", \"Count_of_Organizations\": 54}, {\"GTFS\": \"Static OK_RT OK\", \"Count_of_Organizations\": 15}, {\"GTFS\": \"None\", \"Count_of_Organizations\": 11}, {\"GTFS\": \"Static Incomplete_RT Incomplete\", \"Count_of_Organizations\": 5}, {\"GTFS\": \"Static Incomplete_RT OK\", \"Count_of_Organizations\": 2}]}}, {\"mode\": \"vega-lite\"});\n",
       "</script>"
      ],
      "text/plain": [
       "alt.Chart(...)"
      ]
     },
     "execution_count": 6,
     "metadata": {},
     "output_type": "execute_result"
    }
   ],
   "source": [
    "_utils.basic_bar_chart(GTFS_orgs, 'Count_of_Organizations', 'GTFS', 'GTFS') "
   ]
  },
  {
   "cell_type": "markdown",
   "id": "0383bfae-698d-493e-b34e-347eb5b314e9",
   "metadata": {},
   "source": [
    "## How many organizations are in each Caltrans district?"
   ]
  },
  {
   "cell_type": "code",
   "execution_count": 7,
   "id": "7ac46428-79e8-4107-9917-347bab7a06bb",
   "metadata": {},
   "outputs": [],
   "source": [
    "Orgs_in_district = (aggregated\n",
    "                    .groupby(['caltrans_district'])\n",
    "                    .agg({'organization_name':'nunique'})\n",
    "                    .reset_index()\n",
    "                    .rename(columns = {'organization_name':'count_of_organizations'})\n",
    "                    .sort_values(by='count_of_organizations', ascending=False)\n",
    "                   )"
   ]
  },
  {
   "cell_type": "code",
   "execution_count": 8,
   "id": "d51c19b6-480b-41e1-8966-c49562ca3457",
   "metadata": {},
   "outputs": [
    {
     "data": {
      "text/html": [
       "\n",
       "<div id=\"altair-viz-8ccbb783a42a438db3bda00226985b79\"></div>\n",
       "<script type=\"text/javascript\">\n",
       "  var VEGA_DEBUG = (typeof VEGA_DEBUG == \"undefined\") ? {} : VEGA_DEBUG;\n",
       "  (function(spec, embedOpt){\n",
       "    let outputDiv = document.currentScript.previousElementSibling;\n",
       "    if (outputDiv.id !== \"altair-viz-8ccbb783a42a438db3bda00226985b79\") {\n",
       "      outputDiv = document.getElementById(\"altair-viz-8ccbb783a42a438db3bda00226985b79\");\n",
       "    }\n",
       "    const paths = {\n",
       "      \"vega\": \"https://cdn.jsdelivr.net/npm//vega@5?noext\",\n",
       "      \"vega-lib\": \"https://cdn.jsdelivr.net/npm//vega-lib?noext\",\n",
       "      \"vega-lite\": \"https://cdn.jsdelivr.net/npm//vega-lite@4.17.0?noext\",\n",
       "      \"vega-embed\": \"https://cdn.jsdelivr.net/npm//vega-embed@6?noext\",\n",
       "    };\n",
       "\n",
       "    function maybeLoadScript(lib, version) {\n",
       "      var key = `${lib.replace(\"-\", \"\")}_version`;\n",
       "      return (VEGA_DEBUG[key] == version) ?\n",
       "        Promise.resolve(paths[lib]) :\n",
       "        new Promise(function(resolve, reject) {\n",
       "          var s = document.createElement('script');\n",
       "          document.getElementsByTagName(\"head\")[0].appendChild(s);\n",
       "          s.async = true;\n",
       "          s.onload = () => {\n",
       "            VEGA_DEBUG[key] = version;\n",
       "            return resolve(paths[lib]);\n",
       "          };\n",
       "          s.onerror = () => reject(`Error loading script: ${paths[lib]}`);\n",
       "          s.src = paths[lib];\n",
       "        });\n",
       "    }\n",
       "\n",
       "    function showError(err) {\n",
       "      outputDiv.innerHTML = `<div class=\"error\" style=\"color:red;\">${err}</div>`;\n",
       "      throw err;\n",
       "    }\n",
       "\n",
       "    function displayChart(vegaEmbed) {\n",
       "      vegaEmbed(outputDiv, spec, embedOpt)\n",
       "        .catch(err => showError(`Javascript Error: ${err.message}<br>This usually means there's a typo in your chart specification. See the javascript console for the full traceback.`));\n",
       "    }\n",
       "\n",
       "    if(typeof define === \"function\" && define.amd) {\n",
       "      requirejs.config({paths});\n",
       "      require([\"vega-embed\"], displayChart, err => showError(`Error loading script: ${err.message}`));\n",
       "    } else {\n",
       "      maybeLoadScript(\"vega\", \"5\")\n",
       "        .then(() => maybeLoadScript(\"vega-lite\", \"4.17.0\"))\n",
       "        .then(() => maybeLoadScript(\"vega-embed\", \"6\"))\n",
       "        .catch(showError)\n",
       "        .then(() => displayChart(vegaEmbed));\n",
       "    }\n",
       "  })({\"config\": {\"view\": {\"continuousWidth\": 400, \"continuousHeight\": 300}, \"axis\": {\"domainColor\": \"#cbcbcb\", \"grid\": true, \"gridColor\": \"#cbcbcb\", \"gridWidth\": 1, \"labelColor\": \"#474747\", \"labelFont\": \"Nunito Sans\", \"labelFontSize\": 10, \"labelPadding\": 4, \"tickColor\": \"#cbcbcb\", \"tickSize\": 10, \"titleColor\": \"#333\", \"titleFont\": \"Raleway\", \"titleFontSize\": 12, \"titlePadding\": 10}, \"axisBand\": {\"grid\": false}, \"background\": \"white\", \"font\": \"Raleway\", \"header\": {\"labelFont\": \"Nunito Sans\", \"titleFont\": \"Raleway\"}, \"legend\": {\"labelColor\": \"#333\", \"labelFont\": \"Nunito Sans\", \"labelFontSize\": 11, \"labelLimit\": 0, \"padding\": 1, \"symbolSize\": 30, \"symbolType\": \"square\", \"titleColor\": \"#333\", \"titleFont\": \"Raleway\", \"titleFontSize\": 14, \"titlePadding\": 10}, \"title\": {\"anchor\": \"middle\", \"font\": \"Raleway\", \"fontSize\": 18, \"fontWeight\": 300, \"offset\": 20}}, \"data\": {\"name\": \"data-0465ebe76b15c0fc1b5563d1b8862369\"}, \"mark\": \"bar\", \"encoding\": {\"color\": {\"field\": \"caltrans_district\", \"legend\": {\"title\": \"Caltrans District\"}, \"scale\": {\"range\": [\"#2EA8CE\", \"#EB9F3C\", \"#F4D837\", \"#51BF9D\", \"#8CBCCB\", \"#9487C0\"]}, \"type\": \"nominal\"}, \"x\": {\"field\": \"caltrans_district\", \"sort\": \"-y\", \"title\": \"Caltrans District\", \"type\": \"nominal\"}, \"y\": {\"field\": \"count_of_organizations\", \"title\": \"Count Of Organizations\", \"type\": \"quantitative\"}}, \"height\": 250, \"title\": \"Caltrans District by Count Of Organizations\", \"width\": 400, \"$schema\": \"https://vega.github.io/schema/vega-lite/v4.17.0.json\", \"datasets\": {\"data-0465ebe76b15c0fc1b5563d1b8862369\": [{\"caltrans_district\": \"None\", \"count_of_organizations\": 17}, {\"caltrans_district\": \"06 - Fresno\", \"count_of_organizations\": 16}, {\"caltrans_district\": \"04 - Oakland\", \"count_of_organizations\": 9}, {\"caltrans_district\": \"03 - Marysville\", \"count_of_organizations\": 8}, {\"caltrans_district\": \"05 - San Luis Obispo\", \"count_of_organizations\": 7}, {\"caltrans_district\": \"08 - San Bernardino\", \"count_of_organizations\": 7}, {\"caltrans_district\": \"01 - Eureka\", \"count_of_organizations\": 6}, {\"caltrans_district\": \"10 - Stockton\", \"count_of_organizations\": 6}, {\"caltrans_district\": \"02 - Redding\", \"count_of_organizations\": 4}, {\"caltrans_district\": \"09 - Bishop\", \"count_of_organizations\": 3}, {\"caltrans_district\": \"11 - San Diego\", \"count_of_organizations\": 3}, {\"caltrans_district\": \"07 - Los Angeles\", \"count_of_organizations\": 1}]}}, {\"mode\": \"vega-lite\"});\n",
       "</script>"
      ],
      "text/plain": [
       "alt.Chart(...)"
      ]
     },
     "execution_count": 8,
     "metadata": {},
     "output_type": "execute_result"
    }
   ],
   "source": [
    "_utils.basic_bar_chart(Orgs_in_district,'caltrans_district','count_of_organizations','caltrans_district') "
   ]
  },
  {
   "cell_type": "markdown",
   "id": "a19b837b-6a74-4858-803b-7ac8af427412",
   "metadata": {},
   "source": [
    "##  What is the GTFS status by Fleet Size?"
   ]
  },
  {
   "cell_type": "code",
   "execution_count": 9,
   "id": "555fc394-053c-4f57-b645-a961e1cf6c0b",
   "metadata": {},
   "outputs": [
    {
     "data": {
      "text/plain": [
       "'\\ndef GTFS_Fleet(df, x_axis_col:str, cols_of_int: list):\\n    for i in cols_of_int:\\n        df_i = df[[x_axis_col, i]]\\n        bar_chart_i = _utils.basic_bar_chart(df_i, x_axis_col, i, x_axis_col)\\n        display(bar_chart_i)\\n    return bar_chart_i\\n    '"
      ]
     },
     "execution_count": 9,
     "metadata": {},
     "output_type": "execute_result"
    }
   ],
   "source": [
    "'''\n",
    "def GTFS_Fleet(df, x_axis_col:str, cols_of_int: list):\n",
    "    for i in cols_of_int:\n",
    "        df_i = df[[x_axis_col, i]]\n",
    "        bar_chart_i = _utils.basic_bar_chart(df_i, x_axis_col, i, x_axis_col)\n",
    "        display(bar_chart_i)\n",
    "    return bar_chart_i\n",
    "    ''' "
   ]
  },
  {
   "cell_type": "code",
   "execution_count": 10,
   "id": "23db0422-62d4-49ad-9483-a7e366537c67",
   "metadata": {},
   "outputs": [],
   "source": [
    "vehicle_size=  ['vehicles_percent_older_than_9',\n",
    "       'vehicles_percent_older_than_15','vehicles_percent_0_to_9']"
   ]
  },
  {
   "cell_type": "code",
   "execution_count": 11,
   "id": "60f8227d-e8c3-424c-8c39-694a15dcd1f3",
   "metadata": {},
   "outputs": [
    {
     "data": {
      "text/html": [
       "\n",
       "<div id=\"altair-viz-f4967e8c3e3d4ee58932b6556a787ef7\"></div>\n",
       "<script type=\"text/javascript\">\n",
       "  var VEGA_DEBUG = (typeof VEGA_DEBUG == \"undefined\") ? {} : VEGA_DEBUG;\n",
       "  (function(spec, embedOpt){\n",
       "    let outputDiv = document.currentScript.previousElementSibling;\n",
       "    if (outputDiv.id !== \"altair-viz-f4967e8c3e3d4ee58932b6556a787ef7\") {\n",
       "      outputDiv = document.getElementById(\"altair-viz-f4967e8c3e3d4ee58932b6556a787ef7\");\n",
       "    }\n",
       "    const paths = {\n",
       "      \"vega\": \"https://cdn.jsdelivr.net/npm//vega@5?noext\",\n",
       "      \"vega-lib\": \"https://cdn.jsdelivr.net/npm//vega-lib?noext\",\n",
       "      \"vega-lite\": \"https://cdn.jsdelivr.net/npm//vega-lite@4.17.0?noext\",\n",
       "      \"vega-embed\": \"https://cdn.jsdelivr.net/npm//vega-embed@6?noext\",\n",
       "    };\n",
       "\n",
       "    function maybeLoadScript(lib, version) {\n",
       "      var key = `${lib.replace(\"-\", \"\")}_version`;\n",
       "      return (VEGA_DEBUG[key] == version) ?\n",
       "        Promise.resolve(paths[lib]) :\n",
       "        new Promise(function(resolve, reject) {\n",
       "          var s = document.createElement('script');\n",
       "          document.getElementsByTagName(\"head\")[0].appendChild(s);\n",
       "          s.async = true;\n",
       "          s.onload = () => {\n",
       "            VEGA_DEBUG[key] = version;\n",
       "            return resolve(paths[lib]);\n",
       "          };\n",
       "          s.onerror = () => reject(`Error loading script: ${paths[lib]}`);\n",
       "          s.src = paths[lib];\n",
       "        });\n",
       "    }\n",
       "\n",
       "    function showError(err) {\n",
       "      outputDiv.innerHTML = `<div class=\"error\" style=\"color:red;\">${err}</div>`;\n",
       "      throw err;\n",
       "    }\n",
       "\n",
       "    function displayChart(vegaEmbed) {\n",
       "      vegaEmbed(outputDiv, spec, embedOpt)\n",
       "        .catch(err => showError(`Javascript Error: ${err.message}<br>This usually means there's a typo in your chart specification. See the javascript console for the full traceback.`));\n",
       "    }\n",
       "\n",
       "    if(typeof define === \"function\" && define.amd) {\n",
       "      requirejs.config({paths});\n",
       "      require([\"vega-embed\"], displayChart, err => showError(`Error loading script: ${err.message}`));\n",
       "    } else {\n",
       "      maybeLoadScript(\"vega\", \"5\")\n",
       "        .then(() => maybeLoadScript(\"vega-lite\", \"4.17.0\"))\n",
       "        .then(() => maybeLoadScript(\"vega-embed\", \"6\"))\n",
       "        .catch(showError)\n",
       "        .then(() => displayChart(vegaEmbed));\n",
       "    }\n",
       "  })({\"config\": {\"view\": {\"continuousWidth\": 400, \"continuousHeight\": 300}, \"axis\": {\"domainColor\": \"#cbcbcb\", \"grid\": true, \"gridColor\": \"#cbcbcb\", \"gridWidth\": 1, \"labelColor\": \"#474747\", \"labelFont\": \"Nunito Sans\", \"labelFontSize\": 10, \"labelPadding\": 4, \"tickColor\": \"#cbcbcb\", \"tickSize\": 10, \"titleColor\": \"#333\", \"titleFont\": \"Raleway\", \"titleFontSize\": 12, \"titlePadding\": 10}, \"axisBand\": {\"grid\": false}, \"background\": \"white\", \"font\": \"Raleway\", \"header\": {\"labelFont\": \"Nunito Sans\", \"titleFont\": \"Raleway\"}, \"legend\": {\"labelColor\": \"#333\", \"labelFont\": \"Nunito Sans\", \"labelFontSize\": 11, \"labelLimit\": 0, \"padding\": 1, \"symbolSize\": 30, \"symbolType\": \"square\", \"titleColor\": \"#333\", \"titleFont\": \"Raleway\", \"titleFontSize\": 14, \"titlePadding\": 10}, \"title\": {\"anchor\": \"middle\", \"font\": \"Raleway\", \"fontSize\": 18, \"fontWeight\": 300, \"offset\": 20}}, \"data\": {\"name\": \"data-076a01ef2fd536a4ea41991803a66427\"}, \"mark\": \"bar\", \"encoding\": {\"color\": {\"field\": \"GTFS\", \"legend\": {\"title\": \"Gtfs\"}, \"scale\": {\"range\": [\"#2EA8CE\", \"#EB9F3C\", \"#F4D837\", \"#51BF9D\", \"#8CBCCB\", \"#9487C0\"]}, \"type\": \"nominal\"}, \"x\": {\"field\": \"GTFS\", \"sort\": \"-y\", \"title\": \"Gtfs\", \"type\": \"nominal\"}, \"y\": {\"field\": \"vehicles_percent_older_than_9\", \"title\": \"Vehicles Percent Older Than 9\", \"type\": \"quantitative\"}}, \"height\": 250, \"title\": \"Gtfs by Vehicles Percent Older Than 9\", \"width\": 400, \"$schema\": \"https://vega.github.io/schema/vega-lite/v4.17.0.json\", \"datasets\": {\"data-076a01ef2fd536a4ea41991803a66427\": [{\"GTFS\": \"None\", \"vehicles_percent_older_than_9\": 0.45136001900463235}, {\"GTFS\": \"Static Incomplete_RT Incomplete\", \"vehicles_percent_older_than_9\": 14.437581660529755}, {\"GTFS\": \"Static Incomplete_RT OK\", \"vehicles_percent_older_than_9\": 7.839410856396246}, {\"GTFS\": \"Static OK_RT Incomplete\", \"vehicles_percent_older_than_9\": 40.64021855327236}, {\"GTFS\": \"Static OK_RT OK\", \"vehicles_percent_older_than_9\": 36.63142891079701}]}}, {\"mode\": \"vega-lite\"});\n",
       "</script>"
      ],
      "text/plain": [
       "alt.Chart(...)"
      ]
     },
     "metadata": {},
     "output_type": "display_data"
    },
    {
     "data": {
      "text/html": [
       "\n",
       "<div id=\"altair-viz-949eadb04eec488fa433c73c110ce8b9\"></div>\n",
       "<script type=\"text/javascript\">\n",
       "  var VEGA_DEBUG = (typeof VEGA_DEBUG == \"undefined\") ? {} : VEGA_DEBUG;\n",
       "  (function(spec, embedOpt){\n",
       "    let outputDiv = document.currentScript.previousElementSibling;\n",
       "    if (outputDiv.id !== \"altair-viz-949eadb04eec488fa433c73c110ce8b9\") {\n",
       "      outputDiv = document.getElementById(\"altair-viz-949eadb04eec488fa433c73c110ce8b9\");\n",
       "    }\n",
       "    const paths = {\n",
       "      \"vega\": \"https://cdn.jsdelivr.net/npm//vega@5?noext\",\n",
       "      \"vega-lib\": \"https://cdn.jsdelivr.net/npm//vega-lib?noext\",\n",
       "      \"vega-lite\": \"https://cdn.jsdelivr.net/npm//vega-lite@4.17.0?noext\",\n",
       "      \"vega-embed\": \"https://cdn.jsdelivr.net/npm//vega-embed@6?noext\",\n",
       "    };\n",
       "\n",
       "    function maybeLoadScript(lib, version) {\n",
       "      var key = `${lib.replace(\"-\", \"\")}_version`;\n",
       "      return (VEGA_DEBUG[key] == version) ?\n",
       "        Promise.resolve(paths[lib]) :\n",
       "        new Promise(function(resolve, reject) {\n",
       "          var s = document.createElement('script');\n",
       "          document.getElementsByTagName(\"head\")[0].appendChild(s);\n",
       "          s.async = true;\n",
       "          s.onload = () => {\n",
       "            VEGA_DEBUG[key] = version;\n",
       "            return resolve(paths[lib]);\n",
       "          };\n",
       "          s.onerror = () => reject(`Error loading script: ${paths[lib]}`);\n",
       "          s.src = paths[lib];\n",
       "        });\n",
       "    }\n",
       "\n",
       "    function showError(err) {\n",
       "      outputDiv.innerHTML = `<div class=\"error\" style=\"color:red;\">${err}</div>`;\n",
       "      throw err;\n",
       "    }\n",
       "\n",
       "    function displayChart(vegaEmbed) {\n",
       "      vegaEmbed(outputDiv, spec, embedOpt)\n",
       "        .catch(err => showError(`Javascript Error: ${err.message}<br>This usually means there's a typo in your chart specification. See the javascript console for the full traceback.`));\n",
       "    }\n",
       "\n",
       "    if(typeof define === \"function\" && define.amd) {\n",
       "      requirejs.config({paths});\n",
       "      require([\"vega-embed\"], displayChart, err => showError(`Error loading script: ${err.message}`));\n",
       "    } else {\n",
       "      maybeLoadScript(\"vega\", \"5\")\n",
       "        .then(() => maybeLoadScript(\"vega-lite\", \"4.17.0\"))\n",
       "        .then(() => maybeLoadScript(\"vega-embed\", \"6\"))\n",
       "        .catch(showError)\n",
       "        .then(() => displayChart(vegaEmbed));\n",
       "    }\n",
       "  })({\"config\": {\"view\": {\"continuousWidth\": 400, \"continuousHeight\": 300}, \"axis\": {\"domainColor\": \"#cbcbcb\", \"grid\": true, \"gridColor\": \"#cbcbcb\", \"gridWidth\": 1, \"labelColor\": \"#474747\", \"labelFont\": \"Nunito Sans\", \"labelFontSize\": 10, \"labelPadding\": 4, \"tickColor\": \"#cbcbcb\", \"tickSize\": 10, \"titleColor\": \"#333\", \"titleFont\": \"Raleway\", \"titleFontSize\": 12, \"titlePadding\": 10}, \"axisBand\": {\"grid\": false}, \"background\": \"white\", \"font\": \"Raleway\", \"header\": {\"labelFont\": \"Nunito Sans\", \"titleFont\": \"Raleway\"}, \"legend\": {\"labelColor\": \"#333\", \"labelFont\": \"Nunito Sans\", \"labelFontSize\": 11, \"labelLimit\": 0, \"padding\": 1, \"symbolSize\": 30, \"symbolType\": \"square\", \"titleColor\": \"#333\", \"titleFont\": \"Raleway\", \"titleFontSize\": 14, \"titlePadding\": 10}, \"title\": {\"anchor\": \"middle\", \"font\": \"Raleway\", \"fontSize\": 18, \"fontWeight\": 300, \"offset\": 20}}, \"data\": {\"name\": \"data-4d740383295929ed45bd91791b263bd7\"}, \"mark\": \"bar\", \"encoding\": {\"color\": {\"field\": \"GTFS\", \"legend\": {\"title\": \"Gtfs\"}, \"scale\": {\"range\": [\"#2EA8CE\", \"#EB9F3C\", \"#F4D837\", \"#51BF9D\", \"#8CBCCB\", \"#9487C0\"]}, \"type\": \"nominal\"}, \"x\": {\"field\": \"GTFS\", \"sort\": \"-y\", \"title\": \"Gtfs\", \"type\": \"nominal\"}, \"y\": {\"field\": \"vehicles_percent_older_than_15\", \"title\": \"Vehicles Percent Older Than 15\", \"type\": \"quantitative\"}}, \"height\": 250, \"title\": \"Gtfs by Vehicles Percent Older Than 15\", \"width\": 400, \"$schema\": \"https://vega.github.io/schema/vega-lite/v4.17.0.json\", \"datasets\": {\"data-4d740383295929ed45bd91791b263bd7\": [{\"GTFS\": \"None\", \"vehicles_percent_older_than_15\": 0.3806623524933384}, {\"GTFS\": \"Static Incomplete_RT Incomplete\", \"vehicles_percent_older_than_15\": 11.952797868290826}, {\"GTFS\": \"Static Incomplete_RT OK\", \"vehicles_percent_older_than_15\": 8.526836695850779}, {\"GTFS\": \"Static OK_RT Incomplete\", \"vehicles_percent_older_than_15\": 29.349067377236395}, {\"GTFS\": \"Static OK_RT OK\", \"vehicles_percent_older_than_15\": 49.79063570612867}]}}, {\"mode\": \"vega-lite\"});\n",
       "</script>"
      ],
      "text/plain": [
       "alt.Chart(...)"
      ]
     },
     "metadata": {},
     "output_type": "display_data"
    },
    {
     "data": {
      "text/html": [
       "\n",
       "<div id=\"altair-viz-2990d048f7504ba0b9d3fd7bba4d5ab4\"></div>\n",
       "<script type=\"text/javascript\">\n",
       "  var VEGA_DEBUG = (typeof VEGA_DEBUG == \"undefined\") ? {} : VEGA_DEBUG;\n",
       "  (function(spec, embedOpt){\n",
       "    let outputDiv = document.currentScript.previousElementSibling;\n",
       "    if (outputDiv.id !== \"altair-viz-2990d048f7504ba0b9d3fd7bba4d5ab4\") {\n",
       "      outputDiv = document.getElementById(\"altair-viz-2990d048f7504ba0b9d3fd7bba4d5ab4\");\n",
       "    }\n",
       "    const paths = {\n",
       "      \"vega\": \"https://cdn.jsdelivr.net/npm//vega@5?noext\",\n",
       "      \"vega-lib\": \"https://cdn.jsdelivr.net/npm//vega-lib?noext\",\n",
       "      \"vega-lite\": \"https://cdn.jsdelivr.net/npm//vega-lite@4.17.0?noext\",\n",
       "      \"vega-embed\": \"https://cdn.jsdelivr.net/npm//vega-embed@6?noext\",\n",
       "    };\n",
       "\n",
       "    function maybeLoadScript(lib, version) {\n",
       "      var key = `${lib.replace(\"-\", \"\")}_version`;\n",
       "      return (VEGA_DEBUG[key] == version) ?\n",
       "        Promise.resolve(paths[lib]) :\n",
       "        new Promise(function(resolve, reject) {\n",
       "          var s = document.createElement('script');\n",
       "          document.getElementsByTagName(\"head\")[0].appendChild(s);\n",
       "          s.async = true;\n",
       "          s.onload = () => {\n",
       "            VEGA_DEBUG[key] = version;\n",
       "            return resolve(paths[lib]);\n",
       "          };\n",
       "          s.onerror = () => reject(`Error loading script: ${paths[lib]}`);\n",
       "          s.src = paths[lib];\n",
       "        });\n",
       "    }\n",
       "\n",
       "    function showError(err) {\n",
       "      outputDiv.innerHTML = `<div class=\"error\" style=\"color:red;\">${err}</div>`;\n",
       "      throw err;\n",
       "    }\n",
       "\n",
       "    function displayChart(vegaEmbed) {\n",
       "      vegaEmbed(outputDiv, spec, embedOpt)\n",
       "        .catch(err => showError(`Javascript Error: ${err.message}<br>This usually means there's a typo in your chart specification. See the javascript console for the full traceback.`));\n",
       "    }\n",
       "\n",
       "    if(typeof define === \"function\" && define.amd) {\n",
       "      requirejs.config({paths});\n",
       "      require([\"vega-embed\"], displayChart, err => showError(`Error loading script: ${err.message}`));\n",
       "    } else {\n",
       "      maybeLoadScript(\"vega\", \"5\")\n",
       "        .then(() => maybeLoadScript(\"vega-lite\", \"4.17.0\"))\n",
       "        .then(() => maybeLoadScript(\"vega-embed\", \"6\"))\n",
       "        .catch(showError)\n",
       "        .then(() => displayChart(vegaEmbed));\n",
       "    }\n",
       "  })({\"config\": {\"view\": {\"continuousWidth\": 400, \"continuousHeight\": 300}, \"axis\": {\"domainColor\": \"#cbcbcb\", \"grid\": true, \"gridColor\": \"#cbcbcb\", \"gridWidth\": 1, \"labelColor\": \"#474747\", \"labelFont\": \"Nunito Sans\", \"labelFontSize\": 10, \"labelPadding\": 4, \"tickColor\": \"#cbcbcb\", \"tickSize\": 10, \"titleColor\": \"#333\", \"titleFont\": \"Raleway\", \"titleFontSize\": 12, \"titlePadding\": 10}, \"axisBand\": {\"grid\": false}, \"background\": \"white\", \"font\": \"Raleway\", \"header\": {\"labelFont\": \"Nunito Sans\", \"titleFont\": \"Raleway\"}, \"legend\": {\"labelColor\": \"#333\", \"labelFont\": \"Nunito Sans\", \"labelFontSize\": 11, \"labelLimit\": 0, \"padding\": 1, \"symbolSize\": 30, \"symbolType\": \"square\", \"titleColor\": \"#333\", \"titleFont\": \"Raleway\", \"titleFontSize\": 14, \"titlePadding\": 10}, \"title\": {\"anchor\": \"middle\", \"font\": \"Raleway\", \"fontSize\": 18, \"fontWeight\": 300, \"offset\": 20}}, \"data\": {\"name\": \"data-20aa0043083fac56d47a8b0b8204450a\"}, \"mark\": \"bar\", \"encoding\": {\"color\": {\"field\": \"GTFS\", \"legend\": {\"title\": \"Gtfs\"}, \"scale\": {\"range\": [\"#2EA8CE\", \"#EB9F3C\", \"#F4D837\", \"#51BF9D\", \"#8CBCCB\", \"#9487C0\"]}, \"type\": \"nominal\"}, \"x\": {\"field\": \"GTFS\", \"sort\": \"-y\", \"title\": \"Gtfs\", \"type\": \"nominal\"}, \"y\": {\"field\": \"vehicles_percent_0_to_9\", \"title\": \"Vehicles Percent 0 To 9\", \"type\": \"quantitative\"}}, \"height\": 250, \"title\": \"Gtfs by Vehicles Percent 0 To 9\", \"width\": 400, \"$schema\": \"https://vega.github.io/schema/vega-lite/v4.17.0.json\", \"datasets\": {\"data-20aa0043083fac56d47a8b0b8204450a\": [{\"GTFS\": \"None\", \"vehicles_percent_0_to_9\": 0.6774475524475524}, {\"GTFS\": \"Static Incomplete_RT Incomplete\", \"vehicles_percent_0_to_9\": 7.895541958041958}, {\"GTFS\": \"Static Incomplete_RT OK\", \"vehicles_percent_0_to_9\": 10.62937062937063}, {\"GTFS\": \"Static OK_RT Incomplete\", \"vehicles_percent_0_to_9\": 46.33741258741259}, {\"GTFS\": \"Static OK_RT OK\", \"vehicles_percent_0_to_9\": 34.46022727272727}]}}, {\"mode\": \"vega-lite\"});\n",
       "</script>"
      ],
      "text/plain": [
       "alt.Chart(...)"
      ]
     },
     "metadata": {},
     "output_type": "display_data"
    },
    {
     "data": {
      "text/html": [
       "\n",
       "<div id=\"altair-viz-809658ebe994468c861f3b8e28567db9\"></div>\n",
       "<script type=\"text/javascript\">\n",
       "  var VEGA_DEBUG = (typeof VEGA_DEBUG == \"undefined\") ? {} : VEGA_DEBUG;\n",
       "  (function(spec, embedOpt){\n",
       "    let outputDiv = document.currentScript.previousElementSibling;\n",
       "    if (outputDiv.id !== \"altair-viz-809658ebe994468c861f3b8e28567db9\") {\n",
       "      outputDiv = document.getElementById(\"altair-viz-809658ebe994468c861f3b8e28567db9\");\n",
       "    }\n",
       "    const paths = {\n",
       "      \"vega\": \"https://cdn.jsdelivr.net/npm//vega@5?noext\",\n",
       "      \"vega-lib\": \"https://cdn.jsdelivr.net/npm//vega-lib?noext\",\n",
       "      \"vega-lite\": \"https://cdn.jsdelivr.net/npm//vega-lite@4.17.0?noext\",\n",
       "      \"vega-embed\": \"https://cdn.jsdelivr.net/npm//vega-embed@6?noext\",\n",
       "    };\n",
       "\n",
       "    function maybeLoadScript(lib, version) {\n",
       "      var key = `${lib.replace(\"-\", \"\")}_version`;\n",
       "      return (VEGA_DEBUG[key] == version) ?\n",
       "        Promise.resolve(paths[lib]) :\n",
       "        new Promise(function(resolve, reject) {\n",
       "          var s = document.createElement('script');\n",
       "          document.getElementsByTagName(\"head\")[0].appendChild(s);\n",
       "          s.async = true;\n",
       "          s.onload = () => {\n",
       "            VEGA_DEBUG[key] = version;\n",
       "            return resolve(paths[lib]);\n",
       "          };\n",
       "          s.onerror = () => reject(`Error loading script: ${paths[lib]}`);\n",
       "          s.src = paths[lib];\n",
       "        });\n",
       "    }\n",
       "\n",
       "    function showError(err) {\n",
       "      outputDiv.innerHTML = `<div class=\"error\" style=\"color:red;\">${err}</div>`;\n",
       "      throw err;\n",
       "    }\n",
       "\n",
       "    function displayChart(vegaEmbed) {\n",
       "      vegaEmbed(outputDiv, spec, embedOpt)\n",
       "        .catch(err => showError(`Javascript Error: ${err.message}<br>This usually means there's a typo in your chart specification. See the javascript console for the full traceback.`));\n",
       "    }\n",
       "\n",
       "    if(typeof define === \"function\" && define.amd) {\n",
       "      requirejs.config({paths});\n",
       "      require([\"vega-embed\"], displayChart, err => showError(`Error loading script: ${err.message}`));\n",
       "    } else {\n",
       "      maybeLoadScript(\"vega\", \"5\")\n",
       "        .then(() => maybeLoadScript(\"vega-lite\", \"4.17.0\"))\n",
       "        .then(() => maybeLoadScript(\"vega-embed\", \"6\"))\n",
       "        .catch(showError)\n",
       "        .then(() => displayChart(vegaEmbed));\n",
       "    }\n",
       "  })({\"config\": {\"view\": {\"continuousWidth\": 400, \"continuousHeight\": 300}, \"axis\": {\"domainColor\": \"#cbcbcb\", \"grid\": true, \"gridColor\": \"#cbcbcb\", \"gridWidth\": 1, \"labelColor\": \"#474747\", \"labelFont\": \"Nunito Sans\", \"labelFontSize\": 10, \"labelPadding\": 4, \"tickColor\": \"#cbcbcb\", \"tickSize\": 10, \"titleColor\": \"#333\", \"titleFont\": \"Raleway\", \"titleFontSize\": 12, \"titlePadding\": 10}, \"axisBand\": {\"grid\": false}, \"background\": \"white\", \"font\": \"Raleway\", \"header\": {\"labelFont\": \"Nunito Sans\", \"titleFont\": \"Raleway\"}, \"legend\": {\"labelColor\": \"#333\", \"labelFont\": \"Nunito Sans\", \"labelFontSize\": 11, \"labelLimit\": 0, \"padding\": 1, \"symbolSize\": 30, \"symbolType\": \"square\", \"titleColor\": \"#333\", \"titleFont\": \"Raleway\", \"titleFontSize\": 14, \"titlePadding\": 10}, \"title\": {\"anchor\": \"middle\", \"font\": \"Raleway\", \"fontSize\": 18, \"fontWeight\": 300, \"offset\": 20}}, \"data\": {\"name\": \"data-20aa0043083fac56d47a8b0b8204450a\"}, \"mark\": \"bar\", \"encoding\": {\"color\": {\"field\": \"GTFS\", \"legend\": {\"title\": \"Gtfs\"}, \"scale\": {\"range\": [\"#2EA8CE\", \"#EB9F3C\", \"#F4D837\", \"#51BF9D\", \"#8CBCCB\", \"#9487C0\"]}, \"type\": \"nominal\"}, \"x\": {\"field\": \"GTFS\", \"sort\": \"-y\", \"title\": \"Gtfs\", \"type\": \"nominal\"}, \"y\": {\"field\": \"vehicles_percent_0_to_9\", \"title\": \"Vehicles Percent 0 To 9\", \"type\": \"quantitative\"}}, \"height\": 250, \"title\": \"Gtfs by Vehicles Percent 0 To 9\", \"width\": 400, \"$schema\": \"https://vega.github.io/schema/vega-lite/v4.17.0.json\", \"datasets\": {\"data-20aa0043083fac56d47a8b0b8204450a\": [{\"GTFS\": \"None\", \"vehicles_percent_0_to_9\": 0.6774475524475524}, {\"GTFS\": \"Static Incomplete_RT Incomplete\", \"vehicles_percent_0_to_9\": 7.895541958041958}, {\"GTFS\": \"Static Incomplete_RT OK\", \"vehicles_percent_0_to_9\": 10.62937062937063}, {\"GTFS\": \"Static OK_RT Incomplete\", \"vehicles_percent_0_to_9\": 46.33741258741259}, {\"GTFS\": \"Static OK_RT OK\", \"vehicles_percent_0_to_9\": 34.46022727272727}]}}, {\"mode\": \"vega-lite\"});\n",
       "</script>"
      ],
      "text/plain": [
       "alt.Chart(...)"
      ]
     },
     "execution_count": 11,
     "metadata": {},
     "output_type": "execute_result"
    }
   ],
   "source": [
    "_utils.multi_charts((_utils.aggregation_one(final, 'GTFS')), 'GTFS', vehicle_size)"
   ]
  },
  {
   "cell_type": "markdown",
   "id": "3713e679-2387-4844-8f89-5669db335b75",
   "metadata": {},
   "source": [
    "## Analyze fleet size by vehicle age"
   ]
  },
  {
   "cell_type": "code",
   "execution_count": 12,
   "id": "735c8db3-7419-4e0e-9e64-9c3aa9e749ef",
   "metadata": {},
   "outputs": [],
   "source": [
    "fleet = _utils.aggregation_one(final,'fleet_size')"
   ]
  },
  {
   "cell_type": "code",
   "execution_count": 13,
   "id": "16089478-9efe-4a41-a32e-23a010488978",
   "metadata": {
    "tags": []
   },
   "outputs": [
    {
     "name": "stderr",
     "output_type": "stream",
     "text": [
      "/home/jovyan/data-analyses/5311/_utils.py:147: FutureWarning: The default value of regex will change from True to False in a future version.\n"
     ]
    }
   ],
   "source": [
    "fleet = _utils.cols_cleanup(fleet\n",
    "         .loc[fleet['fleet_size'] != 'No Info']) \n"
   ]
  },
  {
   "cell_type": "code",
   "execution_count": 14,
   "id": "fae72c7a-629f-4a6c-9592-5a68cafc1df3",
   "metadata": {},
   "outputs": [
    {
     "data": {
      "text/html": [
       "<style type=\"text/css\">\n",
       "#T_e22b6_row0_col1, #T_e22b6_row0_col2, #T_e22b6_row0_col3 {\n",
       "  background-color: #00441b;\n",
       "  color: #f1f1f1;\n",
       "}\n",
       "#T_e22b6_row1_col1 {\n",
       "  background-color: #e1f4f6;\n",
       "  color: #000000;\n",
       "}\n",
       "#T_e22b6_row1_col2 {\n",
       "  background-color: #ebf7fa;\n",
       "  color: #000000;\n",
       "}\n",
       "#T_e22b6_row1_col3 {\n",
       "  background-color: #bae5dc;\n",
       "  color: #000000;\n",
       "}\n",
       "#T_e22b6_row2_col1, #T_e22b6_row2_col2, #T_e22b6_row2_col3 {\n",
       "  background-color: #f7fcfd;\n",
       "  color: #000000;\n",
       "}\n",
       "</style>\n",
       "<table id=\"T_e22b6\">\n",
       "  <thead>\n",
       "    <tr>\n",
       "      <th class=\"blank level0\" >&nbsp;</th>\n",
       "      <th id=\"T_e22b6_level0_col0\" class=\"col_heading level0 col0\" >Fleet Size</th>\n",
       "      <th id=\"T_e22b6_level0_col1\" class=\"col_heading level0 col1\" >Vehicles Older Than 9</th>\n",
       "      <th id=\"T_e22b6_level0_col2\" class=\"col_heading level0 col2\" >Vehicles Older Than 15</th>\n",
       "      <th id=\"T_e22b6_level0_col3\" class=\"col_heading level0 col3\" >Vehicles 0 To 9</th>\n",
       "    </tr>\n",
       "  </thead>\n",
       "  <tbody>\n",
       "    <tr>\n",
       "      <th id=\"T_e22b6_level0_row0\" class=\"row_heading level0 row0\" >0</th>\n",
       "      <td id=\"T_e22b6_row0_col0\" class=\"data row0 col0\" >Large</td>\n",
       "      <td id=\"T_e22b6_row0_col1\" class=\"data row0 col1\" >14216.000000</td>\n",
       "      <td id=\"T_e22b6_row0_col2\" class=\"data row0 col2\" >4768.000000</td>\n",
       "      <td id=\"T_e22b6_row0_col3\" class=\"data row0 col3\" >34058.000000</td>\n",
       "    </tr>\n",
       "    <tr>\n",
       "      <th id=\"T_e22b6_level0_row1\" class=\"row_heading level0 row1\" >1</th>\n",
       "      <td id=\"T_e22b6_row1_col0\" class=\"data row1 col0\" >Medium</td>\n",
       "      <td id=\"T_e22b6_row1_col1\" class=\"data row1 col1\" >2340.000000</td>\n",
       "      <td id=\"T_e22b6_row1_col2\" class=\"data row1 col2\" >451.000000</td>\n",
       "      <td id=\"T_e22b6_row1_col3\" class=\"data row1 col3\" >10712.000000</td>\n",
       "    </tr>\n",
       "    <tr>\n",
       "      <th id=\"T_e22b6_level0_row2\" class=\"row_heading level0 row2\" >3</th>\n",
       "      <td id=\"T_e22b6_row2_col0\" class=\"data row2 col0\" >Small</td>\n",
       "      <td id=\"T_e22b6_row2_col1\" class=\"data row2 col1\" >282.000000</td>\n",
       "      <td id=\"T_e22b6_row2_col2\" class=\"data row2 col2\" >35.000000</td>\n",
       "      <td id=\"T_e22b6_row2_col3\" class=\"data row2 col3\" >990.000000</td>\n",
       "    </tr>\n",
       "  </tbody>\n",
       "</table>\n"
      ],
      "text/plain": [
       "<pandas.io.formats.style.Styler at 0x7f795186c160>"
      ]
     },
     "execution_count": 14,
     "metadata": {},
     "output_type": "execute_result"
    }
   ],
   "source": [
    "fleet[['Fleet Size','Vehicles Older Than 9', 'Vehicles Older Than 15',\n",
    "       'Vehicles 0 To 9',]].style.background_gradient(cmap = 'BuGn' )"
   ]
  },
  {
   "cell_type": "markdown",
   "id": "70560752-2667-4adc-9aa9-da38ff5f8202",
   "metadata": {},
   "source": [
    "## What is the fleet size by agency?"
   ]
  },
  {
   "cell_type": "code",
   "execution_count": 15,
   "id": "ee0c22bf-886f-4f1e-b18b-d50a69b2e5c9",
   "metadata": {},
   "outputs": [],
   "source": [
    "fleet_agencies = (aggregated\n",
    "                  .groupby(['fleet_size'])\n",
    "                  .agg({'organization_name':'nunique'})\n",
    "                  .reset_index()\n",
    "                  .rename(columns = {'organization_name':'Total Organizations'})\n",
    "                 )"
   ]
  },
  {
   "cell_type": "code",
   "execution_count": 16,
   "id": "89d3903e-179f-4fd1-9abf-20304af52aed",
   "metadata": {},
   "outputs": [
    {
     "data": {
      "text/html": [
       "\n",
       "<div id=\"altair-viz-3b5fb65b21354b83b243a75cf65b5b52\"></div>\n",
       "<script type=\"text/javascript\">\n",
       "  var VEGA_DEBUG = (typeof VEGA_DEBUG == \"undefined\") ? {} : VEGA_DEBUG;\n",
       "  (function(spec, embedOpt){\n",
       "    let outputDiv = document.currentScript.previousElementSibling;\n",
       "    if (outputDiv.id !== \"altair-viz-3b5fb65b21354b83b243a75cf65b5b52\") {\n",
       "      outputDiv = document.getElementById(\"altair-viz-3b5fb65b21354b83b243a75cf65b5b52\");\n",
       "    }\n",
       "    const paths = {\n",
       "      \"vega\": \"https://cdn.jsdelivr.net/npm//vega@5?noext\",\n",
       "      \"vega-lib\": \"https://cdn.jsdelivr.net/npm//vega-lib?noext\",\n",
       "      \"vega-lite\": \"https://cdn.jsdelivr.net/npm//vega-lite@4.17.0?noext\",\n",
       "      \"vega-embed\": \"https://cdn.jsdelivr.net/npm//vega-embed@6?noext\",\n",
       "    };\n",
       "\n",
       "    function maybeLoadScript(lib, version) {\n",
       "      var key = `${lib.replace(\"-\", \"\")}_version`;\n",
       "      return (VEGA_DEBUG[key] == version) ?\n",
       "        Promise.resolve(paths[lib]) :\n",
       "        new Promise(function(resolve, reject) {\n",
       "          var s = document.createElement('script');\n",
       "          document.getElementsByTagName(\"head\")[0].appendChild(s);\n",
       "          s.async = true;\n",
       "          s.onload = () => {\n",
       "            VEGA_DEBUG[key] = version;\n",
       "            return resolve(paths[lib]);\n",
       "          };\n",
       "          s.onerror = () => reject(`Error loading script: ${paths[lib]}`);\n",
       "          s.src = paths[lib];\n",
       "        });\n",
       "    }\n",
       "\n",
       "    function showError(err) {\n",
       "      outputDiv.innerHTML = `<div class=\"error\" style=\"color:red;\">${err}</div>`;\n",
       "      throw err;\n",
       "    }\n",
       "\n",
       "    function displayChart(vegaEmbed) {\n",
       "      vegaEmbed(outputDiv, spec, embedOpt)\n",
       "        .catch(err => showError(`Javascript Error: ${err.message}<br>This usually means there's a typo in your chart specification. See the javascript console for the full traceback.`));\n",
       "    }\n",
       "\n",
       "    if(typeof define === \"function\" && define.amd) {\n",
       "      requirejs.config({paths});\n",
       "      require([\"vega-embed\"], displayChart, err => showError(`Error loading script: ${err.message}`));\n",
       "    } else {\n",
       "      maybeLoadScript(\"vega\", \"5\")\n",
       "        .then(() => maybeLoadScript(\"vega-lite\", \"4.17.0\"))\n",
       "        .then(() => maybeLoadScript(\"vega-embed\", \"6\"))\n",
       "        .catch(showError)\n",
       "        .then(() => displayChart(vegaEmbed));\n",
       "    }\n",
       "  })({\"config\": {\"view\": {\"continuousWidth\": 400, \"continuousHeight\": 300}, \"axis\": {\"domainColor\": \"#cbcbcb\", \"grid\": true, \"gridColor\": \"#cbcbcb\", \"gridWidth\": 1, \"labelColor\": \"#474747\", \"labelFont\": \"Nunito Sans\", \"labelFontSize\": 10, \"labelPadding\": 4, \"tickColor\": \"#cbcbcb\", \"tickSize\": 10, \"titleColor\": \"#333\", \"titleFont\": \"Raleway\", \"titleFontSize\": 12, \"titlePadding\": 10}, \"axisBand\": {\"grid\": false}, \"background\": \"white\", \"font\": \"Raleway\", \"header\": {\"labelFont\": \"Nunito Sans\", \"titleFont\": \"Raleway\"}, \"legend\": {\"labelColor\": \"#333\", \"labelFont\": \"Nunito Sans\", \"labelFontSize\": 11, \"labelLimit\": 0, \"padding\": 1, \"symbolSize\": 30, \"symbolType\": \"square\", \"titleColor\": \"#333\", \"titleFont\": \"Raleway\", \"titleFontSize\": 14, \"titlePadding\": 10}, \"title\": {\"anchor\": \"middle\", \"font\": \"Raleway\", \"fontSize\": 18, \"fontWeight\": 300, \"offset\": 20}}, \"data\": {\"name\": \"data-bf52636b4cd62a41a2988098e2037058\"}, \"mark\": \"bar\", \"encoding\": {\"color\": {\"field\": \"fleet_size\", \"legend\": {\"title\": \"Fleet Size\"}, \"scale\": {\"range\": [\"#2EA8CE\", \"#EB9F3C\", \"#F4D837\", \"#51BF9D\", \"#8CBCCB\", \"#9487C0\"]}, \"type\": \"nominal\"}, \"x\": {\"field\": \"fleet_size\", \"sort\": \"-y\", \"title\": \"Fleet Size\", \"type\": \"nominal\"}, \"y\": {\"field\": \"Total Organizations\", \"title\": \"Total Organizations\", \"type\": \"quantitative\"}}, \"height\": 250, \"title\": \"Fleet Size by Total Organizations\", \"width\": 400, \"$schema\": \"https://vega.github.io/schema/vega-lite/v4.17.0.json\", \"datasets\": {\"data-bf52636b4cd62a41a2988098e2037058\": [{\"fleet_size\": \"Large\", \"Total Organizations\": 17}, {\"fleet_size\": \"Medium\", \"Total Organizations\": 35}, {\"fleet_size\": \"No Info\", \"Total Organizations\": 9}, {\"fleet_size\": \"Small\", \"Total Organizations\": 26}]}}, {\"mode\": \"vega-lite\"});\n",
       "</script>"
      ],
      "text/plain": [
       "alt.Chart(...)"
      ]
     },
     "execution_count": 16,
     "metadata": {},
     "output_type": "execute_result"
    }
   ],
   "source": [
    "_utils.basic_bar_chart(fleet_agencies,'fleet_size','Total Organizations','fleet_size') "
   ]
  },
  {
   "cell_type": "markdown",
   "id": "9690c6ef-2628-48a6-a77c-c6774f7bbb52",
   "metadata": {},
   "source": [
    "## What are the most common reporter types?"
   ]
  },
  {
   "cell_type": "code",
   "execution_count": 17,
   "id": "6588ba69-470b-463d-a7b4-971912bef42f",
   "metadata": {
    "tags": []
   },
   "outputs": [],
   "source": [
    "Reporter_type_agg = (aggregated\n",
    "                     .groupby(['reporter_type'])\n",
    "                     .agg({'organization_name':'nunique'})\n",
    "                     .reset_index()\n",
    "                     .rename(columns = {'organization_name':'Count_of_Agencies'})\n",
    "                    )"
   ]
  },
  {
   "cell_type": "code",
   "execution_count": 18,
   "id": "eafdfa4a-89a3-46e1-bec5-5148abeb58ee",
   "metadata": {
    "tags": []
   },
   "outputs": [
    {
     "data": {
      "text/html": [
       "\n",
       "<div id=\"altair-viz-cd04dcee9a6e400092142adabe0210cd\"></div>\n",
       "<script type=\"text/javascript\">\n",
       "  var VEGA_DEBUG = (typeof VEGA_DEBUG == \"undefined\") ? {} : VEGA_DEBUG;\n",
       "  (function(spec, embedOpt){\n",
       "    let outputDiv = document.currentScript.previousElementSibling;\n",
       "    if (outputDiv.id !== \"altair-viz-cd04dcee9a6e400092142adabe0210cd\") {\n",
       "      outputDiv = document.getElementById(\"altair-viz-cd04dcee9a6e400092142adabe0210cd\");\n",
       "    }\n",
       "    const paths = {\n",
       "      \"vega\": \"https://cdn.jsdelivr.net/npm//vega@5?noext\",\n",
       "      \"vega-lib\": \"https://cdn.jsdelivr.net/npm//vega-lib?noext\",\n",
       "      \"vega-lite\": \"https://cdn.jsdelivr.net/npm//vega-lite@4.17.0?noext\",\n",
       "      \"vega-embed\": \"https://cdn.jsdelivr.net/npm//vega-embed@6?noext\",\n",
       "    };\n",
       "\n",
       "    function maybeLoadScript(lib, version) {\n",
       "      var key = `${lib.replace(\"-\", \"\")}_version`;\n",
       "      return (VEGA_DEBUG[key] == version) ?\n",
       "        Promise.resolve(paths[lib]) :\n",
       "        new Promise(function(resolve, reject) {\n",
       "          var s = document.createElement('script');\n",
       "          document.getElementsByTagName(\"head\")[0].appendChild(s);\n",
       "          s.async = true;\n",
       "          s.onload = () => {\n",
       "            VEGA_DEBUG[key] = version;\n",
       "            return resolve(paths[lib]);\n",
       "          };\n",
       "          s.onerror = () => reject(`Error loading script: ${paths[lib]}`);\n",
       "          s.src = paths[lib];\n",
       "        });\n",
       "    }\n",
       "\n",
       "    function showError(err) {\n",
       "      outputDiv.innerHTML = `<div class=\"error\" style=\"color:red;\">${err}</div>`;\n",
       "      throw err;\n",
       "    }\n",
       "\n",
       "    function displayChart(vegaEmbed) {\n",
       "      vegaEmbed(outputDiv, spec, embedOpt)\n",
       "        .catch(err => showError(`Javascript Error: ${err.message}<br>This usually means there's a typo in your chart specification. See the javascript console for the full traceback.`));\n",
       "    }\n",
       "\n",
       "    if(typeof define === \"function\" && define.amd) {\n",
       "      requirejs.config({paths});\n",
       "      require([\"vega-embed\"], displayChart, err => showError(`Error loading script: ${err.message}`));\n",
       "    } else {\n",
       "      maybeLoadScript(\"vega\", \"5\")\n",
       "        .then(() => maybeLoadScript(\"vega-lite\", \"4.17.0\"))\n",
       "        .then(() => maybeLoadScript(\"vega-embed\", \"6\"))\n",
       "        .catch(showError)\n",
       "        .then(() => displayChart(vegaEmbed));\n",
       "    }\n",
       "  })({\"config\": {\"view\": {\"continuousWidth\": 400, \"continuousHeight\": 300}, \"axis\": {\"domainColor\": \"#cbcbcb\", \"grid\": true, \"gridColor\": \"#cbcbcb\", \"gridWidth\": 1, \"labelColor\": \"#474747\", \"labelFont\": \"Nunito Sans\", \"labelFontSize\": 10, \"labelPadding\": 4, \"tickColor\": \"#cbcbcb\", \"tickSize\": 10, \"titleColor\": \"#333\", \"titleFont\": \"Raleway\", \"titleFontSize\": 12, \"titlePadding\": 10}, \"axisBand\": {\"grid\": false}, \"background\": \"white\", \"font\": \"Raleway\", \"header\": {\"labelFont\": \"Nunito Sans\", \"titleFont\": \"Raleway\"}, \"legend\": {\"labelColor\": \"#333\", \"labelFont\": \"Nunito Sans\", \"labelFontSize\": 11, \"labelLimit\": 0, \"padding\": 1, \"symbolSize\": 30, \"symbolType\": \"square\", \"titleColor\": \"#333\", \"titleFont\": \"Raleway\", \"titleFontSize\": 14, \"titlePadding\": 10}, \"title\": {\"anchor\": \"middle\", \"font\": \"Raleway\", \"fontSize\": 18, \"fontWeight\": 300, \"offset\": 20}}, \"data\": {\"name\": \"data-44e2caecc339b87a6a0e0adeed3a9ffb\"}, \"mark\": \"bar\", \"encoding\": {\"color\": {\"field\": \"reporter_type\", \"legend\": {\"title\": \"Reporter Type\"}, \"scale\": {\"range\": [\"#2EA8CE\", \"#EB9F3C\", \"#F4D837\", \"#51BF9D\", \"#8CBCCB\", \"#9487C0\"]}, \"type\": \"nominal\"}, \"x\": {\"field\": \"Count_of_Agencies\", \"sort\": \"-y\", \"title\": \"Count Of Agencies\", \"type\": \"quantitative\"}, \"y\": {\"field\": \"reporter_type\", \"title\": \"Reporter Type\", \"type\": \"nominal\"}}, \"height\": 250, \"title\": \"Count Of Agencies by Reporter Type\", \"width\": 400, \"$schema\": \"https://vega.github.io/schema/vega-lite/v4.17.0.json\", \"datasets\": {\"data-44e2caecc339b87a6a0e0adeed3a9ffb\": [{\"reporter_type\": \"Asset Subrecipient\", \"Count_of_Agencies\": 1}, {\"reporter_type\": \"Full Reporter\", \"Count_of_Agencies\": 26}, {\"reporter_type\": \"None\", \"Count_of_Agencies\": 9}, {\"reporter_type\": \"Reduced Reporter\", \"Count_of_Agencies\": 2}, {\"reporter_type\": \"Rural Reporter\", \"Count_of_Agencies\": 49}]}}, {\"mode\": \"vega-lite\"});\n",
       "</script>"
      ],
      "text/plain": [
       "alt.Chart(...)"
      ]
     },
     "execution_count": 18,
     "metadata": {},
     "output_type": "execute_result"
    }
   ],
   "source": [
    "_utils.basic_bar_chart(Reporter_type_agg,'Count_of_Agencies', 'reporter_type', 'reporter_type') "
   ]
  },
  {
   "cell_type": "markdown",
   "id": "6f45af6e-5547-421e-8c34-9f8187d08505",
   "metadata": {},
   "source": [
    "## Using the median an organization received, who received the most? What is their GTFS Status?"
   ]
  },
  {
   "cell_type": "code",
   "execution_count": 19,
   "id": "9ae84782-91be-482f-8c2e-06723a345ba9",
   "metadata": {
    "tags": []
   },
   "outputs": [],
   "source": [
    "Most_Money = (aggregated\n",
    "              .groupby(['organization_name','GTFS'])\n",
    "              .agg({'allocationamount':'sum'})\n",
    "              .rename(columns = {'allocationamount': '5311_funds_received'})\n",
    "              .reset_index()\n",
    "              .sort_values('5311_funds_received', ascending = False)\n",
    "              .head(10)\n",
    "             )"
   ]
  },
  {
   "cell_type": "code",
   "execution_count": 20,
   "id": "60a47c56-4772-448a-8e09-efc83226b80f",
   "metadata": {},
   "outputs": [
    {
     "data": {
      "text/html": [
       "\n",
       "<div id=\"altair-viz-d2368ebb6a77466bb67b00157a9e6b09\"></div>\n",
       "<script type=\"text/javascript\">\n",
       "  var VEGA_DEBUG = (typeof VEGA_DEBUG == \"undefined\") ? {} : VEGA_DEBUG;\n",
       "  (function(spec, embedOpt){\n",
       "    let outputDiv = document.currentScript.previousElementSibling;\n",
       "    if (outputDiv.id !== \"altair-viz-d2368ebb6a77466bb67b00157a9e6b09\") {\n",
       "      outputDiv = document.getElementById(\"altair-viz-d2368ebb6a77466bb67b00157a9e6b09\");\n",
       "    }\n",
       "    const paths = {\n",
       "      \"vega\": \"https://cdn.jsdelivr.net/npm//vega@5?noext\",\n",
       "      \"vega-lib\": \"https://cdn.jsdelivr.net/npm//vega-lib?noext\",\n",
       "      \"vega-lite\": \"https://cdn.jsdelivr.net/npm//vega-lite@4.17.0?noext\",\n",
       "      \"vega-embed\": \"https://cdn.jsdelivr.net/npm//vega-embed@6?noext\",\n",
       "    };\n",
       "\n",
       "    function maybeLoadScript(lib, version) {\n",
       "      var key = `${lib.replace(\"-\", \"\")}_version`;\n",
       "      return (VEGA_DEBUG[key] == version) ?\n",
       "        Promise.resolve(paths[lib]) :\n",
       "        new Promise(function(resolve, reject) {\n",
       "          var s = document.createElement('script');\n",
       "          document.getElementsByTagName(\"head\")[0].appendChild(s);\n",
       "          s.async = true;\n",
       "          s.onload = () => {\n",
       "            VEGA_DEBUG[key] = version;\n",
       "            return resolve(paths[lib]);\n",
       "          };\n",
       "          s.onerror = () => reject(`Error loading script: ${paths[lib]}`);\n",
       "          s.src = paths[lib];\n",
       "        });\n",
       "    }\n",
       "\n",
       "    function showError(err) {\n",
       "      outputDiv.innerHTML = `<div class=\"error\" style=\"color:red;\">${err}</div>`;\n",
       "      throw err;\n",
       "    }\n",
       "\n",
       "    function displayChart(vegaEmbed) {\n",
       "      vegaEmbed(outputDiv, spec, embedOpt)\n",
       "        .catch(err => showError(`Javascript Error: ${err.message}<br>This usually means there's a typo in your chart specification. See the javascript console for the full traceback.`));\n",
       "    }\n",
       "\n",
       "    if(typeof define === \"function\" && define.amd) {\n",
       "      requirejs.config({paths});\n",
       "      require([\"vega-embed\"], displayChart, err => showError(`Error loading script: ${err.message}`));\n",
       "    } else {\n",
       "      maybeLoadScript(\"vega\", \"5\")\n",
       "        .then(() => maybeLoadScript(\"vega-lite\", \"4.17.0\"))\n",
       "        .then(() => maybeLoadScript(\"vega-embed\", \"6\"))\n",
       "        .catch(showError)\n",
       "        .then(() => displayChart(vegaEmbed));\n",
       "    }\n",
       "  })({\"config\": {\"view\": {\"continuousWidth\": 400, \"continuousHeight\": 300}, \"axis\": {\"domainColor\": \"#cbcbcb\", \"grid\": true, \"gridColor\": \"#cbcbcb\", \"gridWidth\": 1, \"labelColor\": \"#474747\", \"labelFont\": \"Nunito Sans\", \"labelFontSize\": 10, \"labelPadding\": 4, \"tickColor\": \"#cbcbcb\", \"tickSize\": 10, \"titleColor\": \"#333\", \"titleFont\": \"Raleway\", \"titleFontSize\": 12, \"titlePadding\": 10}, \"axisBand\": {\"grid\": false}, \"background\": \"white\", \"font\": \"Raleway\", \"header\": {\"labelFont\": \"Nunito Sans\", \"titleFont\": \"Raleway\"}, \"legend\": {\"labelColor\": \"#333\", \"labelFont\": \"Nunito Sans\", \"labelFontSize\": 11, \"labelLimit\": 0, \"padding\": 1, \"symbolSize\": 30, \"symbolType\": \"square\", \"titleColor\": \"#333\", \"titleFont\": \"Raleway\", \"titleFontSize\": 14, \"titlePadding\": 10}, \"title\": {\"anchor\": \"middle\", \"font\": \"Raleway\", \"fontSize\": 18, \"fontWeight\": 300, \"offset\": 20}}, \"data\": {\"name\": \"data-746a492dbc3a10f9dae9f10b58b1929d\"}, \"mark\": \"bar\", \"encoding\": {\"color\": {\"field\": \"organization_name\", \"legend\": {\"title\": \"Organization Name\"}, \"scale\": {\"range\": [\"#2EA8CE\", \"#EB9F3C\", \"#F4D837\", \"#51BF9D\", \"#8CBCCB\", \"#9487C0\"]}, \"type\": \"nominal\"}, \"x\": {\"field\": \"5311_funds_received\", \"sort\": \"-y\", \"title\": \"5311 Funds Received\", \"type\": \"quantitative\"}, \"y\": {\"field\": \"organization_name\", \"title\": \"Organization Name\", \"type\": \"nominal\"}}, \"height\": 250, \"title\": \"5311 Funds Received by Organization Name\", \"width\": 400, \"$schema\": \"https://vega.github.io/schema/vega-lite/v4.17.0.json\", \"datasets\": {\"data-746a492dbc3a10f9dae9f10b58b1929d\": [{\"organization_name\": \"Fresno County Rural Transit Agency\", \"GTFS\": \"Static Incomplete_RT Incomplete\", \"5311_funds_received\": 8776187.0}, {\"organization_name\": \"Monterey-Salinas Transit\", \"GTFS\": \"Static Incomplete_RT OK\", \"5311_funds_received\": 8385671.0}, {\"organization_name\": \"Kern Regional Transit\", \"GTFS\": \"Static OK_RT Incomplete\", \"5311_funds_received\": 7496759.0}, {\"organization_name\": \"Butte County Association of Governments\", \"GTFS\": \"Static OK_RT Incomplete\", \"5311_funds_received\": 5886587.0}, {\"organization_name\": \"Humboldt Transit Authority\", \"GTFS\": \"Static OK_RT OK\", \"5311_funds_received\": 5717828.0}, {\"organization_name\": \"Lake Transit Authority\", \"GTFS\": \"Static OK_RT OK\", \"5311_funds_received\": 5055140.0}, {\"organization_name\": \"Mendocino Transit Authority\", \"GTFS\": \"Static OK_RT Incomplete\", \"5311_funds_received\": 4203816.0}, {\"organization_name\": \"Victor Valley Transit Authority\", \"GTFS\": \"Static OK_RT OK\", \"5311_funds_received\": 3990601.0}, {\"organization_name\": \"Mountain Area Regional Transit Authority\", \"GTFS\": \"Static OK_RT Incomplete\", \"5311_funds_received\": 3833588.0}, {\"organization_name\": \"Transit Joint Powers Authority for Merced County\", \"GTFS\": \"Static OK_RT Incomplete\", \"5311_funds_received\": 3216038.0}]}}, {\"mode\": \"vega-lite\"});\n",
       "</script>"
      ],
      "text/plain": [
       "alt.Chart(...)"
      ]
     },
     "execution_count": 20,
     "metadata": {},
     "output_type": "execute_result"
    }
   ],
   "source": [
    "_utils.basic_bar_chart(Most_Money,'5311_funds_received', 'organization_name','organization_name') "
   ]
  },
  {
   "cell_type": "markdown",
   "id": "c5f886f5-1cef-405a-b929-8292b847ccce",
   "metadata": {},
   "source": [
    "## Which subset of 5311 is the most popular, by amount requested?"
   ]
  },
  {
   "cell_type": "code",
   "execution_count": 22,
   "id": "141416f0-8848-489a-9d94-7987f6ec4364",
   "metadata": {},
   "outputs": [],
   "source": [
    "bc_funds = (final\n",
    "            .groupby(['funding_program'])\n",
    "            .agg({'organization_name':'nunique',\n",
    "                  'allocationamount':'sum'})\n",
    "            .rename(columns = {'organization_name':'Count_of_Organizations'\n",
    "                               ,'allocationamount':'total_sum'})\n",
    "            .reset_index()\n",
    "            .sort_values(by =['total_sum'])\n",
    "             )"
   ]
  },
  {
   "cell_type": "code",
   "execution_count": 23,
   "id": "dcd41a55-fa99-41bd-b5df-7418547e5ce7",
   "metadata": {},
   "outputs": [
    {
     "data": {
      "text/html": [
       "\n",
       "<div id=\"altair-viz-8e543202f28e4655bfed88a883be077f\"></div>\n",
       "<script type=\"text/javascript\">\n",
       "  var VEGA_DEBUG = (typeof VEGA_DEBUG == \"undefined\") ? {} : VEGA_DEBUG;\n",
       "  (function(spec, embedOpt){\n",
       "    let outputDiv = document.currentScript.previousElementSibling;\n",
       "    if (outputDiv.id !== \"altair-viz-8e543202f28e4655bfed88a883be077f\") {\n",
       "      outputDiv = document.getElementById(\"altair-viz-8e543202f28e4655bfed88a883be077f\");\n",
       "    }\n",
       "    const paths = {\n",
       "      \"vega\": \"https://cdn.jsdelivr.net/npm//vega@5?noext\",\n",
       "      \"vega-lib\": \"https://cdn.jsdelivr.net/npm//vega-lib?noext\",\n",
       "      \"vega-lite\": \"https://cdn.jsdelivr.net/npm//vega-lite@4.17.0?noext\",\n",
       "      \"vega-embed\": \"https://cdn.jsdelivr.net/npm//vega-embed@6?noext\",\n",
       "    };\n",
       "\n",
       "    function maybeLoadScript(lib, version) {\n",
       "      var key = `${lib.replace(\"-\", \"\")}_version`;\n",
       "      return (VEGA_DEBUG[key] == version) ?\n",
       "        Promise.resolve(paths[lib]) :\n",
       "        new Promise(function(resolve, reject) {\n",
       "          var s = document.createElement('script');\n",
       "          document.getElementsByTagName(\"head\")[0].appendChild(s);\n",
       "          s.async = true;\n",
       "          s.onload = () => {\n",
       "            VEGA_DEBUG[key] = version;\n",
       "            return resolve(paths[lib]);\n",
       "          };\n",
       "          s.onerror = () => reject(`Error loading script: ${paths[lib]}`);\n",
       "          s.src = paths[lib];\n",
       "        });\n",
       "    }\n",
       "\n",
       "    function showError(err) {\n",
       "      outputDiv.innerHTML = `<div class=\"error\" style=\"color:red;\">${err}</div>`;\n",
       "      throw err;\n",
       "    }\n",
       "\n",
       "    function displayChart(vegaEmbed) {\n",
       "      vegaEmbed(outputDiv, spec, embedOpt)\n",
       "        .catch(err => showError(`Javascript Error: ${err.message}<br>This usually means there's a typo in your chart specification. See the javascript console for the full traceback.`));\n",
       "    }\n",
       "\n",
       "    if(typeof define === \"function\" && define.amd) {\n",
       "      requirejs.config({paths});\n",
       "      require([\"vega-embed\"], displayChart, err => showError(`Error loading script: ${err.message}`));\n",
       "    } else {\n",
       "      maybeLoadScript(\"vega\", \"5\")\n",
       "        .then(() => maybeLoadScript(\"vega-lite\", \"4.17.0\"))\n",
       "        .then(() => maybeLoadScript(\"vega-embed\", \"6\"))\n",
       "        .catch(showError)\n",
       "        .then(() => displayChart(vegaEmbed));\n",
       "    }\n",
       "  })({\"config\": {\"view\": {\"continuousWidth\": 400, \"continuousHeight\": 300}, \"axis\": {\"domainColor\": \"#cbcbcb\", \"grid\": true, \"gridColor\": \"#cbcbcb\", \"gridWidth\": 1, \"labelColor\": \"#474747\", \"labelFont\": \"Nunito Sans\", \"labelFontSize\": 10, \"labelPadding\": 4, \"tickColor\": \"#cbcbcb\", \"tickSize\": 10, \"titleColor\": \"#333\", \"titleFont\": \"Raleway\", \"titleFontSize\": 12, \"titlePadding\": 10}, \"axisBand\": {\"grid\": false}, \"background\": \"white\", \"font\": \"Raleway\", \"header\": {\"labelFont\": \"Nunito Sans\", \"titleFont\": \"Raleway\"}, \"legend\": {\"labelColor\": \"#333\", \"labelFont\": \"Nunito Sans\", \"labelFontSize\": 11, \"labelLimit\": 0, \"padding\": 1, \"symbolSize\": 30, \"symbolType\": \"square\", \"titleColor\": \"#333\", \"titleFont\": \"Raleway\", \"titleFontSize\": 14, \"titlePadding\": 10}, \"title\": {\"anchor\": \"middle\", \"font\": \"Raleway\", \"fontSize\": 18, \"fontWeight\": 300, \"offset\": 20}}, \"data\": {\"name\": \"data-2a4a58b769a4dd32c2c2956adc6c6b6a\"}, \"mark\": \"bar\", \"encoding\": {\"color\": {\"field\": \"funding_program\", \"legend\": {\"title\": \"Funding Program\"}, \"scale\": {\"range\": [\"#2EA8CE\", \"#EB9F3C\", \"#F4D837\", \"#51BF9D\", \"#8CBCCB\", \"#9487C0\"]}, \"type\": \"nominal\"}, \"x\": {\"field\": \"total_sum\", \"sort\": \"-y\", \"title\": \"Total Sum\", \"type\": \"quantitative\"}, \"y\": {\"field\": \"funding_program\", \"title\": \"Funding Program\", \"type\": \"nominal\"}}, \"height\": 250, \"title\": \"Total Sum by Funding Program\", \"width\": 400, \"$schema\": \"https://vega.github.io/schema/vega-lite/v4.17.0.json\", \"datasets\": {\"data-2a4a58b769a4dd32c2c2956adc6c6b6a\": [{\"funding_program\": \"CMAQ (FTA 5311)\", \"Count_of_Organizations\": 6, \"total_sum\": 2532205.0}, {\"funding_program\": \"5311(f) Round 2\", \"Count_of_Organizations\": 20, \"total_sum\": 6203361.0}, {\"funding_program\": \"5311(f) Cont\", \"Count_of_Organizations\": 21, \"total_sum\": 7627280.0}, {\"funding_program\": \"Section 5311(f)\", \"Count_of_Organizations\": 22, \"total_sum\": 18753232.0}, {\"funding_program\": \"Section 5311\", \"Count_of_Organizations\": 81, \"total_sum\": 129415424.28}]}}, {\"mode\": \"vega-lite\"});\n",
       "</script>"
      ],
      "text/plain": [
       "alt.Chart(...)"
      ]
     },
     "execution_count": 23,
     "metadata": {},
     "output_type": "execute_result"
    }
   ],
   "source": [
    "_utils.basic_bar_chart(bc_funds,'total_sum', 'funding_program', 'funding_program') "
   ]
  }
 ],
 "metadata": {
  "kernelspec": {
   "display_name": "Python 3 (ipykernel)",
   "language": "python",
   "name": "python3"
  },
  "language_info": {
   "codemirror_mode": {
    "name": "ipython",
    "version": 3
   },
   "file_extension": ".py",
   "mimetype": "text/x-python",
   "name": "python",
   "nbconvert_exporter": "python",
   "pygments_lexer": "ipython3",
   "version": "3.10.4"
  },
  "toc-autonumbering": false,
  "widgets": {
   "application/vnd.jupyter.widget-state+json": {
    "state": {},
    "version_major": 2,
    "version_minor": 0
   }
  }
 },
 "nbformat": 4,
 "nbformat_minor": 5
}
