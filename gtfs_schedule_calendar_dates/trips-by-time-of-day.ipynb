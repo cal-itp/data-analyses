{
 "cells": [
  {
   "cell_type": "markdown",
   "id": "c91cddf4-1b18-497e-a672-b289cfe51e61",
   "metadata": {},
   "source": [
    "# Trips query and aggregate\n",
    "\n",
    "Use `views.gtfs_schedule_fact_daily_trips` to group into time-of-day based on trip first departure.\n",
    "\n",
    "Also, just use the `n_stops`, `n_stop_times`, and `service_hours` columns to aggregate to shape_id / day."
   ]
  },
  {
   "cell_type": "code",
   "execution_count": 1,
   "id": "e8340181-4fcd-4f96-a0c2-43198881d8d4",
   "metadata": {},
   "outputs": [
    {
     "name": "stderr",
     "output_type": "stream",
     "text": [
      "/opt/conda/lib/python3.10/site-packages/geopandas/_compat.py:112: UserWarning: The Shapely GEOS version (3.10.3-CAPI-1.16.1) is incompatible with the GEOS version PyGEOS was compiled with (3.10.1-CAPI-1.16.0). Conversions between both will be slow.\n",
      "  warnings.warn(\n"
     ]
    }
   ],
   "source": [
    "import os\n",
    "os.environ[\"CALITP_BQ_MAX_BYTES\"] = str(100_000_000_000)\n",
    "\n",
    "import dask.dataframe as dd\n",
    "\n",
    "from calitp.tables import tbl\n",
    "from siuba import *\n",
    "\n",
    "from shared_utils import rt_utils\n",
    "\n",
    "GCS_FILE_PATH = \"gs://calitp-analytics-data/data-analyses/rt_delay/compiled_cached_views/\""
   ]
  },
  {
   "cell_type": "code",
   "execution_count": 2,
   "id": "fc1c32ea-66bd-49d9-ab09-2560c47d9786",
   "metadata": {},
   "outputs": [],
   "source": [
    "date = \"2022-09-14\"\n",
    "trips = dd.read_parquet(f\"{GCS_FILE_PATH}trips_{date}.parquet\")"
   ]
  },
  {
   "cell_type": "code",
   "execution_count": 3,
   "id": "4ae1b492-0ac4-4613-a0af-a7ec2e1a1fa7",
   "metadata": {},
   "outputs": [
    {
     "data": {
      "text/plain": [
       "'\\nITP_ID = 183\\n\\nday1 = (tbl.views.gtfs_schedule_fact_daily_trips()\\n         >> filter(_.calitp_itp_id == ITP_ID, \\n           _.service_date == \"2022-09-14\",\\n           _.is_in_service == True\\n          )\\n        >> select(_.calitp_itp_id, _.calitp_url_number, _.service_date,\\n                  _.trip_id, _.trip_first_departure_ts, \\n                  _.service_hours, _.n_stops, _.n_stop_times\\n          )\\n        >> collect()\\n)\\n\\nday2 = (tbl.views.gtfs_schedule_fact_daily_trips()\\n        >> filter(_.calitp_itp_id == ITP_ID, \\n           _.service_date == \"2022-10-12\", \\n           _.is_in_service == True\\n          )\\n        >> select(_.calitp_itp_id, _.calitp_url_number, _.service_date,\\n                  _.trip_id, _.trip_first_departure_ts, \\n                  _.service_hours, _.n_stops, _.n_stop_times\\n          )\\n        >> collect()\\n)\\n\\nday1.to_parquet(\"day1.parquet\")\\nday2.to_parquet(\"day2.parquet\")\\n'"
      ]
     },
     "execution_count": 3,
     "metadata": {},
     "output_type": "execute_result"
    }
   ],
   "source": [
    "'''\n",
    "ITP_ID = 183\n",
    "\n",
    "day1 = (tbl.views.gtfs_schedule_fact_daily_trips()\n",
    "         >> filter(_.calitp_itp_id == ITP_ID, \n",
    "           _.service_date == \"2022-09-14\",\n",
    "           _.is_in_service == True\n",
    "          )\n",
    "        >> select(_.calitp_itp_id, _.calitp_url_number, _.service_date,\n",
    "                  _.trip_id, _.trip_first_departure_ts, \n",
    "                  _.service_hours, _.n_stops, _.n_stop_times\n",
    "          )\n",
    "        >> collect()\n",
    ")\n",
    "\n",
    "day2 = (tbl.views.gtfs_schedule_fact_daily_trips()\n",
    "        >> filter(_.calitp_itp_id == ITP_ID, \n",
    "           _.service_date == \"2022-10-12\", \n",
    "           _.is_in_service == True\n",
    "          )\n",
    "        >> select(_.calitp_itp_id, _.calitp_url_number, _.service_date,\n",
    "                  _.trip_id, _.trip_first_departure_ts, \n",
    "                  _.service_hours, _.n_stops, _.n_stop_times\n",
    "          )\n",
    "        >> collect()\n",
    ")\n",
    "\n",
    "day1.to_parquet(\"day1.parquet\")\n",
    "day2.to_parquet(\"day2.parquet\")\n",
    "'''"
   ]
  },
  {
   "cell_type": "code",
   "execution_count": 4,
   "id": "96619e77-8af9-4429-bc10-a10424fcdc85",
   "metadata": {},
   "outputs": [
    {
     "data": {
      "text/plain": [
       "Index(['calitp_itp_id', 'calitp_url_number', 'service_date', 'trip_key',\n",
       "       'trip_id', 'route_id', 'direction_id', 'shape_id',\n",
       "       'calitp_extracted_at', 'calitp_deleted_at', 'route_short_name',\n",
       "       'route_long_name', 'route_desc', 'route_type'],\n",
       "      dtype='object')"
      ]
     },
     "execution_count": 4,
     "metadata": {},
     "output_type": "execute_result"
    }
   ],
   "source": [
    "trips.columns"
   ]
  },
  {
   "cell_type": "code",
   "execution_count": 5,
   "id": "53541bbe-36ae-40a1-b413-14a85ba2a05d",
   "metadata": {},
   "outputs": [],
   "source": [
    "day1 = dd.read_parquet(\"day1.parquet\")\n",
    "day2 = dd.read_parquet(\"day2.parquet\")\n",
    "ddf = dd.multi.concat(\n",
    "    [day1, day2], axis=0)"
   ]
  },
  {
   "cell_type": "code",
   "execution_count": 6,
   "id": "8bfabe1c-ff3b-4896-9fae-100d83ca3389",
   "metadata": {},
   "outputs": [],
   "source": [
    "##https://stackoverflow.com/questions/39584118/dask-dataframe-how-to-convert-column-to-to-datetime\n",
    "ddf = ddf.assign(\n",
    "    departure_hour = dd.to_datetime(ddf.trip_first_departure_ts, \n",
    "                                    unit=\"s\").dt.hour\n",
    ")"
   ]
  },
  {
   "cell_type": "code",
   "execution_count": 8,
   "id": "f6ed65ee-aa5f-44eb-92ef-c1008f1ee1bb",
   "metadata": {},
   "outputs": [],
   "source": [
    "ddf = ddf.assign(\n",
    "    time_of_day=ddf.apply(\n",
    "        lambda x: rt_utils.categorize_time_of_day(x.departure_hour), axis=1, \n",
    "        meta=('time_of_day', 'str'))\n",
    ")"
   ]
  },
  {
   "cell_type": "code",
   "execution_count": 9,
   "id": "1f29936e-9bee-430b-a577-c7d60ff5cb93",
   "metadata": {},
   "outputs": [
    {
     "data": {
      "text/plain": [
       "PM Peak     2194\n",
       "Midday      2136\n",
       "AM Peak     1366\n",
       "Early AM     648\n",
       "Evening      240\n",
       "Name: time_of_day, dtype: int64"
      ]
     },
     "execution_count": 9,
     "metadata": {},
     "output_type": "execute_result"
    }
   ],
   "source": [
    "ddf.time_of_day.value_counts().compute()"
   ]
  },
  {
   "cell_type": "code",
   "execution_count": 17,
   "id": "71e9d9c4-ae25-48f1-a8c4-5e90ed17d331",
   "metadata": {},
   "outputs": [],
   "source": [
    "trips_with_hours = dd.merge(\n",
    "    trips,\n",
    "    ddf,\n",
    "    on = [\"calitp_itp_id\", \"calitp_url_number\", \"service_date\", \"trip_id\"],\n",
    "    how = \"outer\"\n",
    ")"
   ]
  },
  {
   "cell_type": "code",
   "execution_count": 20,
   "id": "da3b12a2-5d20-4a16-8ec1-03d265253637",
   "metadata": {},
   "outputs": [],
   "source": [
    "day_time_of_day_df = (trips_with_hours.drop_duplicates()\n",
    " .groupby([\"calitp_itp_id\", \"calitp_url_number\", \n",
    "              \"service_date\", \"shape_id\", \"time_of_day\"])\n",
    " .agg({\"service_hours\": \"sum\",\n",
    "       \"n_stops\": \"mean\", # sum would be same as stop_times\n",
    "       # how to correctly count unique stops without bringing in stops table?\n",
    "       # mean should be right...since shape_id means they're traveling same path\n",
    "       \"n_stop_times\": \"sum\",\n",
    "       \"trip_id\": \"count\",\n",
    "      })\n",
    " .reset_index()\n",
    ")"
   ]
  },
  {
   "cell_type": "code",
   "execution_count": null,
   "id": "f5d1b82b-dcc0-43d3-aae3-2e09a169e84f",
   "metadata": {},
   "outputs": [],
   "source": []
  }
 ],
 "metadata": {
  "kernelspec": {
   "display_name": "Python 3 (ipykernel)",
   "language": "python",
   "name": "python3"
  },
  "language_info": {
   "codemirror_mode": {
    "name": "ipython",
    "version": 3
   },
   "file_extension": ".py",
   "mimetype": "text/x-python",
   "name": "python",
   "nbconvert_exporter": "python",
   "pygments_lexer": "ipython3",
   "version": "3.10.6"
  }
 },
 "nbformat": 4,
 "nbformat_minor": 5
}
