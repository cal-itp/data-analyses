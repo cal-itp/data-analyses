{
 "cells": [
  {
   "cell_type": "code",
   "execution_count": 1,
   "id": "878de449-71f7-4d7d-b9db-26409bb8a3a4",
   "metadata": {},
   "outputs": [],
   "source": [
    "#from workalendar.usa import california\n",
    "import pandas as pd"
   ]
  },
  {
   "cell_type": "code",
   "execution_count": 2,
   "id": "e54f1400-2eb2-4943-87bd-481371f068e5",
   "metadata": {},
   "outputs": [],
   "source": [
    "def make_test_df():\n",
    "\n",
    "    df = pd.DataFrame(\n",
    "        {'service_date':pd.date_range(start = \"2022-05-15\",\n",
    "                                      end = \"2022-10-15\")})\n",
    "    \n",
    "    df = df.assign(\n",
    "        service_date = pd.to_datetime(df.service_date)\n",
    "    )\n",
    "    df = df.assign(\n",
    "        day_name = df.service_date.dt.day_name(),\n",
    "        day_of_week = df.service_date.dt.dayofweek,\n",
    "        month = df.service_date.dt.month, \n",
    "        year = df.service_date.dt.year,\n",
    "        quarter = df.service_date.dt.quarter,\n",
    "    )\n",
    "    \n",
    "    df = df.assign(\n",
    "        weekday = df.apply(lambda x: 1 if x.day_of_week <= 4 else 0, axis=1)\n",
    "    )\n",
    "    \n",
    "    return df"
   ]
  },
  {
   "cell_type": "code",
   "execution_count": 4,
   "id": "a89a6f18-0eb6-4f1a-b704-2e1a1a0c275f",
   "metadata": {},
   "outputs": [],
   "source": [
    "df = make_test_df()\n",
    "holidays = pd.read_parquet(\"./holidays.parquet\")"
   ]
  },
  {
   "cell_type": "code",
   "execution_count": 7,
   "id": "68b8648d-7e32-40ee-909f-d56a7f728a71",
   "metadata": {},
   "outputs": [],
   "source": [
    "df2 = pd.merge(\n",
    "    df, \n",
    "    holidays.rename(columns = {\"date\": \"service_date\"})[[\"service_date\", \"holiday\"]],\n",
    "    on = [\"service_date\"],\n",
    "    how = \"left\",\n",
    ")\n",
    "\n",
    "df2 = df2.assign(\n",
    "    weekday = df2.apply(lambda x: 0 if x.holiday==1 else x.weekday, axis=1),\n",
    "    holiday = df2.holiday.fillna(0).astype(int)\n",
    ")"
   ]
  },
  {
   "cell_type": "code",
   "execution_count": 9,
   "id": "1dfb8abd-66ba-4def-8028-9b3c7f18fe39",
   "metadata": {},
   "outputs": [
    {
     "data": {
      "text/html": [
       "<div>\n",
       "<style scoped>\n",
       "    .dataframe tbody tr th:only-of-type {\n",
       "        vertical-align: middle;\n",
       "    }\n",
       "\n",
       "    .dataframe tbody tr th {\n",
       "        vertical-align: top;\n",
       "    }\n",
       "\n",
       "    .dataframe thead th {\n",
       "        text-align: right;\n",
       "    }\n",
       "</style>\n",
       "<table border=\"1\" class=\"dataframe\">\n",
       "  <thead>\n",
       "    <tr style=\"text-align: right;\">\n",
       "      <th></th>\n",
       "      <th>service_date</th>\n",
       "      <th>day_name</th>\n",
       "      <th>day_of_week</th>\n",
       "      <th>month</th>\n",
       "      <th>year</th>\n",
       "      <th>quarter</th>\n",
       "      <th>weekday</th>\n",
       "      <th>holiday</th>\n",
       "    </tr>\n",
       "  </thead>\n",
       "  <tbody>\n",
       "    <tr>\n",
       "      <th>109</th>\n",
       "      <td>2022-09-01</td>\n",
       "      <td>Thursday</td>\n",
       "      <td>3</td>\n",
       "      <td>9</td>\n",
       "      <td>2022</td>\n",
       "      <td>3</td>\n",
       "      <td>1</td>\n",
       "      <td>0</td>\n",
       "    </tr>\n",
       "    <tr>\n",
       "      <th>110</th>\n",
       "      <td>2022-09-02</td>\n",
       "      <td>Friday</td>\n",
       "      <td>4</td>\n",
       "      <td>9</td>\n",
       "      <td>2022</td>\n",
       "      <td>3</td>\n",
       "      <td>1</td>\n",
       "      <td>0</td>\n",
       "    </tr>\n",
       "    <tr>\n",
       "      <th>111</th>\n",
       "      <td>2022-09-03</td>\n",
       "      <td>Saturday</td>\n",
       "      <td>5</td>\n",
       "      <td>9</td>\n",
       "      <td>2022</td>\n",
       "      <td>3</td>\n",
       "      <td>0</td>\n",
       "      <td>0</td>\n",
       "    </tr>\n",
       "    <tr>\n",
       "      <th>112</th>\n",
       "      <td>2022-09-04</td>\n",
       "      <td>Sunday</td>\n",
       "      <td>6</td>\n",
       "      <td>9</td>\n",
       "      <td>2022</td>\n",
       "      <td>3</td>\n",
       "      <td>0</td>\n",
       "      <td>0</td>\n",
       "    </tr>\n",
       "    <tr>\n",
       "      <th>113</th>\n",
       "      <td>2022-09-05</td>\n",
       "      <td>Monday</td>\n",
       "      <td>0</td>\n",
       "      <td>9</td>\n",
       "      <td>2022</td>\n",
       "      <td>3</td>\n",
       "      <td>0</td>\n",
       "      <td>1</td>\n",
       "    </tr>\n",
       "  </tbody>\n",
       "</table>\n",
       "</div>"
      ],
      "text/plain": [
       "    service_date  day_name  day_of_week  month  year  quarter  weekday  \\\n",
       "109   2022-09-01  Thursday            3      9  2022        3        1   \n",
       "110   2022-09-02    Friday            4      9  2022        3        1   \n",
       "111   2022-09-03  Saturday            5      9  2022        3        0   \n",
       "112   2022-09-04    Sunday            6      9  2022        3        0   \n",
       "113   2022-09-05    Monday            0      9  2022        3        0   \n",
       "\n",
       "     holiday  \n",
       "109        0  \n",
       "110        0  \n",
       "111        0  \n",
       "112        0  \n",
       "113        1  "
      ]
     },
     "execution_count": 9,
     "metadata": {},
     "output_type": "execute_result"
    }
   ],
   "source": [
    "df2[df2.month==9].head()"
   ]
  },
  {
   "cell_type": "code",
   "execution_count": null,
   "id": "2e1e7f94-2da6-4bbd-9f32-0c638faaac19",
   "metadata": {},
   "outputs": [],
   "source": [
    "# https://stackoverflow.com/questions/13145368/how-to-find-the-maximum-value-in-a-list-of-tuples\n",
    "#from operator import itemgetter\n",
    "\n",
    "#max_date = max(CA_HOLIDAYS,key=itemgetter(0))[0]   #faster solution\n",
    "#itemgetter(0)"
   ]
  }
 ],
 "metadata": {
  "kernelspec": {
   "display_name": "Python 3 (ipykernel)",
   "language": "python",
   "name": "python3"
  },
  "language_info": {
   "codemirror_mode": {
    "name": "ipython",
    "version": 3
   },
   "file_extension": ".py",
   "mimetype": "text/x-python",
   "name": "python",
   "nbconvert_exporter": "python",
   "pygments_lexer": "ipython3",
   "version": "3.10.6"
  }
 },
 "nbformat": 4,
 "nbformat_minor": 5
}
