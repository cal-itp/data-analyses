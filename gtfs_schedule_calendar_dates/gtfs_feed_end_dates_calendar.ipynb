{
 "cells": [
  {
   "cell_type": "code",
   "execution_count": 1,
   "source": [
    "from siuba import *\n",
    "from plotnine import *\n",
    "from calitp.tables import tbl\n",
    "from siuba.sql import LazyTbl"
   ],
   "outputs": [],
   "metadata": {}
  },
  {
   "cell_type": "markdown",
   "source": [
    "## Are often do feeds lack a feed_end_date?"
   ],
   "metadata": {}
  },
  {
   "cell_type": "code",
   "execution_count": 2,
   "source": [
    "tbl_daily_feed = (\n",
    "    tbl.views.gtfs_schedule_fact_daily_feeds()\n",
    "    >> mutate\n",
    "    (missing_date = _\n",
    "    >>count(_.date)\n",
    ")"
   ],
   "outputs": [
    {
     "output_type": "error",
     "ename": "SyntaxError",
     "evalue": "unexpected EOF while parsing (632141756.py, line 6)",
     "traceback": [
      "\u001b[0;36m  File \u001b[0;32m\"/var/folders/nc/7wg15gf17mzc953z26vq1ft00000gn/T/ipykernel_41795/632141756.py\"\u001b[0;36m, line \u001b[0;32m6\u001b[0m\n\u001b[0;31m    )\u001b[0m\n\u001b[0m     ^\u001b[0m\n\u001b[0;31mSyntaxError\u001b[0m\u001b[0;31m:\u001b[0m unexpected EOF while parsing\n"
     ]
    }
   ],
   "metadata": {}
  },
  {
   "cell_type": "code",
   "execution_count": null,
   "source": [
    "tbl_daily_feeds_enriched = (tbl.views.gtfs_schedule_fact_daily_feeds()\n",
    "  >> inner_join(_, tbl.views.gtfs_schedule_dim_feeds(), \"feed_key\")\n",
    ")"
   ],
   "outputs": [],
   "metadata": {}
  },
  {
   "cell_type": "code",
   "execution_count": null,
   "source": [
    "(tbl.views.gtfs_schedule_fact_daily_feeds()\n",
    "  >> inner_join(_, tbl.views.gtfs_schedule_dim_feeds(), \"feed_key\")\n",
    "  >> count(_.date, no_end_date = _.feed_end_date.isna())\n",
    "  >> collect()\n",
    "  >> mutate(date = _.date.astype(\"datetime64[ns]\"))\n",
    "  >> ggplot(aes(\"date\", \"n\", color = \"no_end_date\")) + geom_line() + expand_limits(y = 0) + ggtitle(\"Number of Feeds with no End_Date\")\n",
    "\n",
    ")"
   ],
   "outputs": [],
   "metadata": {}
  },
  {
   "cell_type": "code",
   "execution_count": null,
   "source": [
    "#tbl.views.gtfs_schedule_fact_daily_service()"
   ],
   "outputs": [],
   "metadata": {}
  },
  {
   "cell_type": "code",
   "execution_count": null,
   "source": [
    "# get type 2 calendar data (cal across history)\n",
    "(\n",
    "    tbl.gtfs_schedule_type2.calendar_clean()\n",
    "    # expand it for each day\n",
    "    inner_join(_, tbl_daily_feeds_enriched\n",
    "\n",
    "    # group by feed and date, summarize with max calendar end date\n",
    ")"
   ],
   "outputs": [],
   "metadata": {}
  },
  {
   "cell_type": "markdown",
   "source": [
    "# What is the max calendar end date? (calculated max service end date per date, feed key)"
   ],
   "metadata": {}
  },
  {
   "cell_type": "code",
   "execution_count": null,
   "source": [
    "tbl_feeds_service = (\n",
    "    tbl.views.gtfs_schedule_fact_daily_service()\n",
    "    >>group_by(_.calitp_itp_id, _.calitp_url_number)\n",
    "    >>mutate(\n",
    "        max_service_date = (_.service_date.max())\n",
    "    )\n",
    ")"
   ],
   "outputs": [],
   "metadata": {
    "tags": []
   }
  },
  {
   "cell_type": "code",
   "execution_count": null,
   "source": [
    "from siuba.experimental.datetime import floor_date\n",
    "\n",
    "tbl_calendar_max = (\n",
    "    tbl.gtfs_schedule_type2.calendar_clean()\n",
    "    >> filter(_.calitp_extracted_at <= \"2021-08-01\", _.calitp_deleted_at > \"2021-08-01\")\n",
    "    >> group_by(_.calitp_itp_id, _.calitp_url_number)\n",
    "    >> summarize(max_calendar_end_date = _.end_date.max())\n",
    ")\n",
    "\n",
    "(tbl_calendar_max\n",
    "    >> collect()\n",
    "    >> mutate(max_calendar_end_date = _.max_calendar_end_date.astype(\"datetime64[ns]\"), n = 1)\n",
    "    >> ggplot(aes(\"floor_date(max_calendar_end_date, 'MS')\", \"n\" )) + geom_col() + ggtitle(\"Max Calendar End Date per Feed\") + theme(axis_text_x=element_text(angle=45, hjust=1))\n",
    ")"
   ],
   "outputs": [],
   "metadata": {}
  },
  {
   "cell_type": "code",
   "execution_count": null,
   "source": [
    "tbl_end_date_joined = tbl_daily_feeds_enriched >> filter(_.date == \"2021-08-01\") >> inner_join(_, tbl_calendar_max, [\"calitp_itp_id\", \"calitp_url_number\"])"
   ],
   "outputs": [],
   "metadata": {}
  },
  {
   "cell_type": "code",
   "execution_count": null,
   "source": [
    "tbl_end_date_filtered = (\n",
    "    tbl_end_date_joined \n",
    "    >> filter(_.feed_end_date.isna()) \n",
    "    >> collect() >> arrange(_.max_calendar_end_date) \n",
    "    >> select(_.calitp_feed_name, _.max_calendar_end_date)\n",
    ")"
   ],
   "outputs": [],
   "metadata": {}
  },
  {
   "cell_type": "code",
   "execution_count": null,
   "source": [
    "#commented out to avoid generating csv\n",
    "# tbl_end_date_filtered.to_csv('calitp_max_calendar_end_date.csv')"
   ],
   "outputs": [],
   "metadata": {}
  },
  {
   "cell_type": "markdown",
   "source": [
    "# On today, what percentage of feeds lack feed_end_date? "
   ],
   "metadata": {}
  },
  {
   "cell_type": "code",
   "execution_count": null,
   "source": [
    " tbl_filt = (\n",
    "  tbl.views.gtfs_schedule_fact_daily_feeds()\n",
    "  >> inner_join(_, tbl.views.gtfs_schedule_dim_feeds(), \"feed_key\")\n",
    "  >> filter(_.date == \"2021-09-14\")\n",
    "  >> count(_.date, no_end_date = _.feed_end_date.isna())\n",
    "  >> collect()\n",
    ")\n",
    "\n"
   ],
   "outputs": [],
   "metadata": {}
  },
  {
   "cell_type": "code",
   "execution_count": null,
   "source": [
    "tbl_filt_percent = ((tbl_filt['n']/tbl_filt['n'].sum()) *100).round()"
   ],
   "outputs": [],
   "metadata": {}
  },
  {
   "cell_type": "code",
   "execution_count": null,
   "source": [
    "#percentage of feeds that lack feed_end_dates for September 14, rounded up by 2 decimals \n",
    "tbl_filt_percent.iloc[1]"
   ],
   "outputs": [],
   "metadata": {}
  },
  {
   "cell_type": "code",
   "execution_count": null,
   "source": [
    "tbl_end_date_joined_today = tbl_daily_feeds_enriched >> filter(_.date == \"2021-09-14\") >> inner_join(_, tbl_calendar_max, [\"calitp_itp_id\", \"calitp_url_number\"])"
   ],
   "outputs": [],
   "metadata": {}
  },
  {
   "cell_type": "code",
   "execution_count": null,
   "source": [
    "tbl_end_date_filtered = (\n",
    "    tbl_end_date_joined_today \n",
    "    >> filter(_.feed_end_date.isna()) \n",
    "    >> collect() >> arrange(_.max_calendar_end_date) \n",
    "    >> select(_.calitp_feed_name, _.max_calendar_end_date)\n",
    ")"
   ],
   "outputs": [],
   "metadata": {}
  },
  {
   "cell_type": "code",
   "execution_count": null,
   "source": [
    "tbl_end_date_filtered"
   ],
   "outputs": [],
   "metadata": {}
  }
 ],
 "metadata": {
  "kernelspec": {
   "display_name": "Python 3 (ipykernel)",
   "language": "python",
   "name": "python3"
  },
  "language_info": {
   "codemirror_mode": {
    "name": "ipython",
    "version": 3
   },
   "file_extension": ".py",
   "mimetype": "text/x-python",
   "name": "python",
   "nbconvert_exporter": "python",
   "pygments_lexer": "ipython3",
   "version": "3.9.6"
  }
 },
 "nbformat": 4,
 "nbformat_minor": 5
}