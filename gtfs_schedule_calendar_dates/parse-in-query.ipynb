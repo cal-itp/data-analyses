{
 "cells": [
  {
   "cell_type": "markdown",
   "id": "cec80b99-21fa-4a68-a447-e242628c24c6",
   "metadata": {},
   "source": [
    "# Explore using dask in BQ query directly\n",
    "\n",
    "Do some mapping of `arrival_time` or `departure_time` and map that column to a time-of-day bucket, then immediately aggregate to operator-shape_id-time_bucket level.\n",
    "\n",
    "References:\n",
    "* Dask + Big Query: https://github.com/dask/dask/issues/3121"
   ]
  },
  {
   "cell_type": "code",
   "execution_count": 1,
   "id": "dc691434-7d51-454c-85b9-99fee98a9b82",
   "metadata": {},
   "outputs": [
    {
     "name": "stderr",
     "output_type": "stream",
     "text": [
      "/opt/conda/lib/python3.10/site-packages/geopandas/_compat.py:112: UserWarning: The Shapely GEOS version (3.10.3-CAPI-1.16.1) is incompatible with the GEOS version PyGEOS was compiled with (3.10.1-CAPI-1.16.0). Conversions between both will be slow.\n",
      "  warnings.warn(\n"
     ]
    }
   ],
   "source": [
    "import dask.dataframe as dd\n",
    "import dask_geopandas as dg\n",
    "\n",
    "from calitp.tables import tbls\n",
    "#from siuba import *"
   ]
  },
  {
   "cell_type": "code",
   "execution_count": null,
   "id": "faa8ce74-8555-4f9f-aa95-2252c2410d32",
   "metadata": {},
   "outputs": [],
   "source": []
  }
 ],
 "metadata": {
  "kernelspec": {
   "display_name": "Python 3 (ipykernel)",
   "language": "python",
   "name": "python3"
  },
  "language_info": {
   "codemirror_mode": {
    "name": "ipython",
    "version": 3
   },
   "file_extension": ".py",
   "mimetype": "text/x-python",
   "name": "python",
   "nbconvert_exporter": "python",
   "pygments_lexer": "ipython3",
   "version": "3.10.6"
  }
 },
 "nbformat": 4,
 "nbformat_minor": 5
}
