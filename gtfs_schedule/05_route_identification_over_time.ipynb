{
 "cells": [
  {
   "cell_type": "markdown",
   "id": "9f2b17f8-faef-489a-9f55-e3defc8b33ea",
   "metadata": {},
   "source": [
    "# Route Identification Over Time\n",
    "\n",
    "Recent observations shows small chages in routes over time. Specifically in the following fields:\n",
    "* route ID\n",
    "* route short name\n",
    "* route long name\n",
    "* route desc\n",
    "\n",
    "Need to observe these route changes in order to account for these changes in future analyses.\n",
    "\n",
    "## Objective\n",
    "1. Query data from `fct_monthly_routes` to help identify variences in Routes. Query for 2023, a couple of months. \n",
    "2. Save data to GCS `gtfs_schedule` bucket\n",
    "3. Filter down data to `Sacramento Regional Transit`, identify and observe routes for any variences\n"
   ]
  },
  {
   "cell_type": "markdown",
   "id": "2c288bcf-6ed4-4ccd-900a-d361ab4dc1bc",
   "metadata": {},
   "source": [
    "## function from `open_data/download_vehicle_position.py`\n",
    "    \n",
    "    import datetime\n",
    "    import gcsfs\n",
    "    import geopandas as gpd\n",
    "    import pandas as pd\n",
    "    import shapely\n",
    "    import sys\n",
    "\n",
    "    from calitp_data_analysis.tables import tbls\n",
    "    from calitp_data_analysis import utils\n",
    "    from loguru import logger\n",
    "    from siuba import *\n",
    "\n",
    "    from shared_utils import schedule_rt_utils\n",
    "    \n",
    "    def download_vehicle_positions(\n",
    "        date: str,\n",
    "        operator_names: list\n",
    "    ) -> pd.DataFrame:    \n",
    "    \n",
    "        df = (tbls.mart_gtfs.fct_vehicle_locations()\n",
    "              >> filter(_.service_date == date)\n",
    "              >> filter(_.gtfs_dataset_name.isin(operator_names))\n",
    "              >> select(_.gtfs_dataset_key, _.gtfs_dataset_name,\n",
    "                        _.schedule_gtfs_dataset_key,\n",
    "                        _.trip_id, _.trip_instance_key,\n",
    "                        _.location_timestamp,\n",
    "                        _.location)\n",
    "                  >> collect()\n",
    "             )"
   ]
  },
  {
   "cell_type": "code",
   "execution_count": 3,
   "id": "78a70c5e-a8fc-4644-b8d0-5bf4e2481cf7",
   "metadata": {},
   "outputs": [
    {
     "ename": "ModuleNotFoundError",
     "evalue": "No module named 'shared_utils'",
     "output_type": "error",
     "traceback": [
      "\u001b[0;31m---------------------------------------------------------------------------\u001b[0m",
      "\u001b[0;31mModuleNotFoundError\u001b[0m                       Traceback (most recent call last)",
      "Cell \u001b[0;32mIn[3], line 15\u001b[0m\n\u001b[1;32m     12\u001b[0m \u001b[38;5;28;01mfrom\u001b[39;00m \u001b[38;5;21;01mloguru\u001b[39;00m \u001b[38;5;28;01mimport\u001b[39;00m logger\n\u001b[1;32m     13\u001b[0m \u001b[38;5;28;01mfrom\u001b[39;00m \u001b[38;5;21;01msiuba\u001b[39;00m \u001b[38;5;28;01mimport\u001b[39;00m \u001b[38;5;241m*\u001b[39m\n\u001b[0;32m---> 15\u001b[0m \u001b[38;5;28;01mfrom\u001b[39;00m \u001b[38;5;21;01mshared_utils\u001b[39;00m \u001b[38;5;28;01mimport\u001b[39;00m schedule_rt_utils\n",
      "\u001b[0;31mModuleNotFoundError\u001b[0m: No module named 'shared_utils'"
     ]
    }
   ],
   "source": [
    "#imports\n",
    "\n",
    "import datetime\n",
    "import gcsfs\n",
    "import geopandas as gpd\n",
    "import pandas as pd\n",
    "import shapely\n",
    "import sys\n",
    "\n",
    "from calitp_data_analysis.tables import tbls\n",
    "from calitp_data_analysis import utils\n",
    "from loguru import logger\n",
    "from siuba import *\n",
    "\n",
    "from shared_utils import schedule_rt_utils"
   ]
  },
  {
   "cell_type": "code",
   "execution_count": 4,
   "id": "500bfadf-a3f9-48a1-b53b-662ca1f8a20f",
   "metadata": {},
   "outputs": [],
   "source": [
    "# test to query fct_monthly_routes\n",
    "def get_monthly_routes(\n",
    "        year: str,\n",
    "        months: list\n",
    "    ) -> pd.DataFrame:    \n",
    "    \n",
    "        df = (tbls.mart_gtfs.fct_monthly_routes()\n",
    "              >> filter(_.year == year)\n",
    "              >> filter(_.month.isin(months))\n",
    "              >> select(_.key, _.source_record_id,\n",
    "                        _.name,\n",
    "                        _.route_id, _.shape_id,\n",
    "                        _.month,\n",
    "                        _.year,\n",
    "                       _.pt_array)\n",
    "                  >> collect()\n",
    "             )\n",
    "        return df"
   ]
  },
  {
   "cell_type": "code",
   "execution_count": 5,
   "id": "64984523-58a9-4f63-8b5d-df38648cd3c6",
   "metadata": {},
   "outputs": [
    {
     "name": "stderr",
     "output_type": "stream",
     "text": [
      "/opt/conda/lib/python3.9/site-packages/sqlalchemy_bigquery/_types.py:101: SAWarning: Did not recognize type 'GEOGRAPHY' of column 'pt_array'\n",
      "  sqlalchemy.util.warn(\n"
     ]
    }
   ],
   "source": [
    "df = get_monthly_routes(2023, [3, 4, 5])"
   ]
  },
  {
   "cell_type": "code",
   "execution_count": null,
   "id": "1513ce16-3f4c-4b78-9910-357e8d940d0c",
   "metadata": {},
   "outputs": [],
   "source": [
    "#testing export to GCS > csuyat_folder\n",
    "# 'gs://calitp-analytics-data/data-analyses/csuyat_folder/##FILENAME##.parquet'\n",
    "# df.to_parquet()\n",
    "\n",
    "#sucsessfully written to GCS\n",
    "\n",
    "df.to_parquet('gs://calitp-analytics-data/data-analyses/csuyat_folder/route_identification_2023_m03_m05.parquet')"
   ]
  },
  {
   "cell_type": "markdown",
   "id": "6013738e-0f38-4405-8653-d0e8d0ced0ce",
   "metadata": {},
   "source": [
    "---"
   ]
  },
  {
   "cell_type": "code",
   "execution_count": 6,
   "id": "7a57e90e-b515-4b71-94e4-dbf1c79789c2",
   "metadata": {},
   "outputs": [
    {
     "data": {
      "text/plain": [
       "(11927, 8)"
      ]
     },
     "metadata": {},
     "output_type": "display_data"
    },
    {
     "data": {
      "text/plain": [
       "pandas.core.frame.DataFrame"
      ]
     },
     "metadata": {},
     "output_type": "display_data"
    },
    {
     "data": {
      "text/plain": [
       "['key',\n",
       " 'source_record_id',\n",
       " 'name',\n",
       " 'route_id',\n",
       " 'shape_id',\n",
       " 'month',\n",
       " 'year',\n",
       " 'pt_array']"
      ]
     },
     "metadata": {},
     "output_type": "display_data"
    },
    {
     "data": {
      "text/plain": [
       "year  month\n",
       "2023  5        4180\n",
       "      3        3899\n",
       "      4        3848\n",
       "dtype: int64"
      ]
     },
     "metadata": {},
     "output_type": "display_data"
    }
   ],
   "source": [
    "#peaking into df to make sure everything looks good\n",
    "\n",
    "#shape shows 11,927 rows and 8 columns\n",
    "display(df.shape)\n",
    "\n",
    "#type shows data is in df\n",
    "display(type(df))\n",
    "\n",
    "#columns return all the columns we listed in the function\n",
    "display(list(df.columns))\n",
    "\n",
    "#value_counts confirm df only has rows from 2023 March to May\n",
    "display(df.value_counts(subset=['year','month']))"
   ]
  },
  {
   "cell_type": "code",
   "execution_count": 8,
   "id": "bfd73f43-1e22-4759-bf1a-ef6a1cf90aa9",
   "metadata": {},
   "outputs": [],
   "source": [
    "#creating sub-df for 'Sacramento Schedule'\n",
    "#195 rows, 8 columns\n",
    "sac = df[df['name'] == 'Sacramento Schedule']"
   ]
  },
  {
   "cell_type": "code",
   "execution_count": 10,
   "id": "425e7286-1880-4148-8789-dfa2c561f1ea",
   "metadata": {},
   "outputs": [
    {
     "data": {
      "text/plain": [
       "(195, 8)"
      ]
     },
     "metadata": {},
     "output_type": "display_data"
    },
    {
     "data": {
      "text/html": [
       "<div>\n",
       "<style scoped>\n",
       "    .dataframe tbody tr th:only-of-type {\n",
       "        vertical-align: middle;\n",
       "    }\n",
       "\n",
       "    .dataframe tbody tr th {\n",
       "        vertical-align: top;\n",
       "    }\n",
       "\n",
       "    .dataframe thead th {\n",
       "        text-align: right;\n",
       "    }\n",
       "</style>\n",
       "<table border=\"1\" class=\"dataframe\">\n",
       "  <thead>\n",
       "    <tr style=\"text-align: right;\">\n",
       "      <th></th>\n",
       "      <th>key</th>\n",
       "      <th>source_record_id</th>\n",
       "      <th>name</th>\n",
       "      <th>route_id</th>\n",
       "      <th>shape_id</th>\n",
       "      <th>month</th>\n",
       "      <th>year</th>\n",
       "      <th>pt_array</th>\n",
       "    </tr>\n",
       "  </thead>\n",
       "  <tbody>\n",
       "    <tr>\n",
       "      <th>30</th>\n",
       "      <td>0e71513e4352259016b51891442e272d</td>\n",
       "      <td>recbzZQUIdMmFvm1r</td>\n",
       "      <td>Sacramento Schedule</td>\n",
       "      <td>051</td>\n",
       "      <td>45303</td>\n",
       "      <td>4</td>\n",
       "      <td>2023</td>\n",
       "      <td>[POINT(-121.434585 38.50019), POINT(-121.43444...</td>\n",
       "    </tr>\n",
       "    <tr>\n",
       "      <th>71</th>\n",
       "      <td>d63a9754f51a8834d558e84020e10f34</td>\n",
       "      <td>recbzZQUIdMmFvm1r</td>\n",
       "      <td>Sacramento Schedule</td>\n",
       "      <td>138</td>\n",
       "      <td>45389</td>\n",
       "      <td>4</td>\n",
       "      <td>2023</td>\n",
       "      <td>[POINT(-121.753874 38.539257), POINT(-121.7536...</td>\n",
       "    </tr>\n",
       "    <tr>\n",
       "      <th>168</th>\n",
       "      <td>87a3f535201f3e670f4c0d362c28d1f0</td>\n",
       "      <td>recbzZQUIdMmFvm1r</td>\n",
       "      <td>Sacramento Schedule</td>\n",
       "      <td>F20</td>\n",
       "      <td>45548</td>\n",
       "      <td>5</td>\n",
       "      <td>2023</td>\n",
       "      <td>[]</td>\n",
       "    </tr>\n",
       "  </tbody>\n",
       "</table>\n",
       "</div>"
      ],
      "text/plain": [
       "                                  key   source_record_id                 name  \\\n",
       "30   0e71513e4352259016b51891442e272d  recbzZQUIdMmFvm1r  Sacramento Schedule   \n",
       "71   d63a9754f51a8834d558e84020e10f34  recbzZQUIdMmFvm1r  Sacramento Schedule   \n",
       "168  87a3f535201f3e670f4c0d362c28d1f0  recbzZQUIdMmFvm1r  Sacramento Schedule   \n",
       "\n",
       "    route_id shape_id  month  year  \\\n",
       "30       051    45303      4  2023   \n",
       "71       138    45389      4  2023   \n",
       "168      F20    45548      5  2023   \n",
       "\n",
       "                                              pt_array  \n",
       "30   [POINT(-121.434585 38.50019), POINT(-121.43444...  \n",
       "71   [POINT(-121.753874 38.539257), POINT(-121.7536...  \n",
       "168                                                 []  "
      ]
     },
     "metadata": {},
     "output_type": "display_data"
    },
    {
     "data": {
      "text/plain": [
       "array(['051', '138', 'F20', '081', '105', '019', '106', '030', '212',\n",
       "       '026', '206', '082', '175', '033', '088', '093', '062', '247',\n",
       "       '213', '124', '067', 'F10', '252', '078', '214', '176', '246',\n",
       "       '102', '161', '072', '086', '013', '001', '075', '177', '507',\n",
       "       '068', '015', '056', '038', '248', '023', '109', '533', '255',\n",
       "       '30', '025', '205', '211', '228', '129', '113', '519', '061',\n",
       "       '103', '227', '142', '226', '084', '021', '210', '011', '134',\n",
       "       '087', '215'], dtype=object)"
      ]
     },
     "metadata": {},
     "output_type": "display_data"
    }
   ],
   "source": [
    "display(sac.shape)\n",
    "display(sac.head(3))\n",
    "display(sac.route_id.unique())"
   ]
  },
  {
   "cell_type": "code",
   "execution_count": 54,
   "id": "81d867e5-d3d1-4338-af9c-77747145fe3c",
   "metadata": {},
   "outputs": [],
   "source": [
    "sac_routes = pd.Series(sac['route_id'].unique())"
   ]
  },
  {
   "cell_type": "code",
   "execution_count": 55,
   "id": "25a03861-04ff-4f82-9bc8-45588ee2ac85",
   "metadata": {},
   "outputs": [
    {
     "data": {
      "text/plain": [
       "0     051\n",
       "1     138\n",
       "2     F20\n",
       "3     081\n",
       "4     105\n",
       "     ... \n",
       "60    210\n",
       "61    011\n",
       "62    134\n",
       "63    087\n",
       "64    215\n",
       "Length: 65, dtype: object"
      ]
     },
     "execution_count": 55,
     "metadata": {},
     "output_type": "execute_result"
    }
   ],
   "source": [
    "sac_routes"
   ]
  },
  {
   "cell_type": "code",
   "execution_count": 63,
   "id": "9b6e27f1-b08c-4535-9fea-1ac2708b8003",
   "metadata": {},
   "outputs": [
    {
     "data": {
      "text/html": [
       "<div>\n",
       "<style scoped>\n",
       "    .dataframe tbody tr th:only-of-type {\n",
       "        vertical-align: middle;\n",
       "    }\n",
       "\n",
       "    .dataframe tbody tr th {\n",
       "        vertical-align: top;\n",
       "    }\n",
       "\n",
       "    .dataframe thead th {\n",
       "        text-align: right;\n",
       "    }\n",
       "</style>\n",
       "<table border=\"1\" class=\"dataframe\">\n",
       "  <thead>\n",
       "    <tr style=\"text-align: right;\">\n",
       "      <th></th>\n",
       "      <th>key</th>\n",
       "      <th>source_record_id</th>\n",
       "      <th>name</th>\n",
       "      <th>route_id</th>\n",
       "      <th>shape_id</th>\n",
       "      <th>month</th>\n",
       "      <th>year</th>\n",
       "      <th>pt_array</th>\n",
       "    </tr>\n",
       "  </thead>\n",
       "  <tbody>\n",
       "    <tr>\n",
       "      <th>8495</th>\n",
       "      <td>09d85c24a2d1149571fd5838c9e4fb7c</td>\n",
       "      <td>recbzZQUIdMmFvm1r</td>\n",
       "      <td>Sacramento Schedule</td>\n",
       "      <td>087</td>\n",
       "      <td>45347</td>\n",
       "      <td>5</td>\n",
       "      <td>2023</td>\n",
       "      <td>[]</td>\n",
       "    </tr>\n",
       "    <tr>\n",
       "      <th>9855</th>\n",
       "      <td>49d3ba651367edca3da47d9bf021dc8f</td>\n",
       "      <td>recbzZQUIdMmFvm1r</td>\n",
       "      <td>Sacramento Schedule</td>\n",
       "      <td>087</td>\n",
       "      <td>45347</td>\n",
       "      <td>4</td>\n",
       "      <td>2023</td>\n",
       "      <td>[POINT(-121.427541 38.552818), POINT(-121.4273...</td>\n",
       "    </tr>\n",
       "    <tr>\n",
       "      <th>10948</th>\n",
       "      <td>97fc1ffd6d98c985a5119adc039c7b40</td>\n",
       "      <td>recbzZQUIdMmFvm1r</td>\n",
       "      <td>Sacramento Schedule</td>\n",
       "      <td>087</td>\n",
       "      <td>44971</td>\n",
       "      <td>3</td>\n",
       "      <td>2023</td>\n",
       "      <td>[]</td>\n",
       "    </tr>\n",
       "  </tbody>\n",
       "</table>\n",
       "</div>"
      ],
      "text/plain": [
       "                                    key   source_record_id  \\\n",
       "8495   09d85c24a2d1149571fd5838c9e4fb7c  recbzZQUIdMmFvm1r   \n",
       "9855   49d3ba651367edca3da47d9bf021dc8f  recbzZQUIdMmFvm1r   \n",
       "10948  97fc1ffd6d98c985a5119adc039c7b40  recbzZQUIdMmFvm1r   \n",
       "\n",
       "                      name route_id shape_id  month  year  \\\n",
       "8495   Sacramento Schedule      087    45347      5  2023   \n",
       "9855   Sacramento Schedule      087    45347      4  2023   \n",
       "10948  Sacramento Schedule      087    44971      3  2023   \n",
       "\n",
       "                                                pt_array  \n",
       "8495                                                  []  \n",
       "9855   [POINT(-121.427541 38.552818), POINT(-121.4273...  \n",
       "10948                                                 []  "
      ]
     },
     "execution_count": 63,
     "metadata": {},
     "output_type": "execute_result"
    }
   ],
   "source": [
    "#test to see if i can select certain rows \n",
    "sac[sac['route_id']==sac_routes.iloc[63]]"
   ]
  },
  {
   "cell_type": "code",
   "execution_count": null,
   "id": "d9904574-603d-4677-a0dc-99c560060aaa",
   "metadata": {},
   "outputs": [],
   "source": [
    "#fucntion that pulls a list of unique route IDs from the df\n",
    "#then checks each route's to see if all columns match for each month\n",
    "\n",
    "def route_checker(df):\n",
    "    #get list of unique route_id\n",
    "    df_routes = pd.Series(df['route_id'].unique())\n",
    "    \n",
    "    #for every unique route, pull all the rows for that route, then check to see if all rows in that sub set are equal.\n",
    "    route_check = df_routes[\n",
    "    "
   ]
  }
 ],
 "metadata": {
  "kernelspec": {
   "display_name": "Python 3 (ipykernel)",
   "language": "python",
   "name": "python3"
  },
  "language_info": {
   "codemirror_mode": {
    "name": "ipython",
    "version": 3
   },
   "file_extension": ".py",
   "mimetype": "text/x-python",
   "name": "python",
   "nbconvert_exporter": "python",
   "pygments_lexer": "ipython3",
   "version": "3.9.13"
  }
 },
 "nbformat": 4,
 "nbformat_minor": 5
}
