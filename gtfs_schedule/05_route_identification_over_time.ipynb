{
 "cells": [
  {
   "cell_type": "markdown",
   "id": "9f2b17f8-faef-489a-9f55-e3defc8b33ea",
   "metadata": {},
   "source": [
    "# Route Identification Over Time\n",
    "\n",
    "Recent observations shows small chages in routes over time. Specifically in the following fields:\n",
    "* route ID\n",
    "* route short name\n",
    "* route long name\n",
    "* route desc\n",
    "\n",
    "Need to observe these route changes in order to account for these changes in future analyses.\n",
    "\n",
    "## Objective\n",
    "1. Query data from `fct_monthly_routes` to help identify variences in Routes. Query for 2023, a couple of months. \n",
    "2. Save data to GCS `gtfs_schedule` bucket\n",
    "3. Filter down data to `Sacramento Regional Transit`, identify and observe routes for any variences\n"
   ]
  },
  {
   "cell_type": "markdown",
   "id": "2c288bcf-6ed4-4ccd-900a-d361ab4dc1bc",
   "metadata": {},
   "source": [
    "## function from `open_data/download_vehicle_position.py`\n",
    "    \n",
    "    import datetime\n",
    "    import gcsfs\n",
    "    import geopandas as gpd\n",
    "    import pandas as pd\n",
    "    import shapely\n",
    "    import sys\n",
    "\n",
    "    from calitp_data_analysis.tables import tbls\n",
    "    from calitp_data_analysis import utils\n",
    "    from loguru import logger\n",
    "    from siuba import *\n",
    "\n",
    "    from shared_utils import schedule_rt_utils\n",
    "    \n",
    "    def download_vehicle_positions(\n",
    "        date: str,\n",
    "        operator_names: list\n",
    "    ) -> pd.DataFrame:    \n",
    "    \n",
    "        df = (tbls.mart_gtfs.fct_vehicle_locations()\n",
    "              >> filter(_.service_date == date)\n",
    "              >> filter(_.gtfs_dataset_name.isin(operator_names))\n",
    "              >> select(_.gtfs_dataset_key, _.gtfs_dataset_name,\n",
    "                        _.schedule_gtfs_dataset_key,\n",
    "                        _.trip_id, _.trip_instance_key,\n",
    "                        _.location_timestamp,\n",
    "                        _.location)\n",
    "                  >> collect()\n",
    "             )"
   ]
  },
  {
   "cell_type": "code",
   "execution_count": 1,
   "id": "78a70c5e-a8fc-4644-b8d0-5bf4e2481cf7",
   "metadata": {},
   "outputs": [
    {
     "name": "stderr",
     "output_type": "stream",
     "text": [
      "/opt/conda/lib/python3.9/site-packages/google/auth/_default.py:78: UserWarning: Your application has authenticated using end user credentials from Google Cloud SDK without a quota project. You might receive a \"quota exceeded\" or \"API not enabled\" error. See the following page for troubleshooting: https://cloud.google.com/docs/authentication/adc-troubleshooting/user-creds. \n",
      "  warnings.warn(_CLOUD_SDK_CREDENTIALS_WARNING)\n",
      "/opt/conda/lib/python3.9/site-packages/google/auth/_default.py:78: UserWarning: Your application has authenticated using end user credentials from Google Cloud SDK without a quota project. You might receive a \"quota exceeded\" or \"API not enabled\" error. See the following page for troubleshooting: https://cloud.google.com/docs/authentication/adc-troubleshooting/user-creds. \n",
      "  warnings.warn(_CLOUD_SDK_CREDENTIALS_WARNING)\n",
      "/opt/conda/lib/python3.9/site-packages/google/auth/_default.py:78: UserWarning: Your application has authenticated using end user credentials from Google Cloud SDK without a quota project. You might receive a \"quota exceeded\" or \"API not enabled\" error. See the following page for troubleshooting: https://cloud.google.com/docs/authentication/adc-troubleshooting/user-creds. \n",
      "  warnings.warn(_CLOUD_SDK_CREDENTIALS_WARNING)\n"
     ]
    }
   ],
   "source": [
    "#imports\n",
    "\n",
    "import datetime\n",
    "import gcsfs\n",
    "import geopandas as gpd\n",
    "import pandas as pd\n",
    "import shapely\n",
    "import sys\n",
    "\n",
    "from calitp_data_analysis.tables import tbls\n",
    "from calitp_data_analysis import utils\n",
    "from loguru import logger\n",
    "from siuba import *\n",
    "\n",
    "from shared_utils import schedule_rt_utils"
   ]
  },
  {
   "cell_type": "code",
   "execution_count": 2,
   "id": "500bfadf-a3f9-48a1-b53b-662ca1f8a20f",
   "metadata": {},
   "outputs": [],
   "source": [
    "# test to query fct_monthly_routes\n",
    "def get_monthly_routes(\n",
    "        year: str,\n",
    "        months: list\n",
    "    ) -> pd.DataFrame:    \n",
    "    \n",
    "        df = (tbls.mart_gtfs.fct_monthly_routes()\n",
    "              >> filter(_.year == year)\n",
    "              >> filter(_.month.isin(months))\n",
    "              >> select(_.key, _.source_record_id,\n",
    "                        _.name,\n",
    "                        _.route_id, _.shape_id,\n",
    "                        _.month,\n",
    "                        _.year,\n",
    "                       _.pt_array)\n",
    "                  >> collect()\n",
    "             )\n",
    "        return df"
   ]
  },
  {
   "cell_type": "code",
   "execution_count": 3,
   "id": "64984523-58a9-4f63-8b5d-df38648cd3c6",
   "metadata": {},
   "outputs": [
    {
     "name": "stderr",
     "output_type": "stream",
     "text": [
      "/opt/conda/lib/python3.9/site-packages/sqlalchemy_bigquery/_types.py:101: SAWarning: Did not recognize type 'GEOGRAPHY' of column 'pt_array'\n",
      "  sqlalchemy.util.warn(\n"
     ]
    }
   ],
   "source": [
    "df = get_monthly_routes(2023, [3, 4, 5])"
   ]
  },
  {
   "cell_type": "code",
   "execution_count": null,
   "id": "1513ce16-3f4c-4b78-9910-357e8d940d0c",
   "metadata": {},
   "outputs": [],
   "source": [
    "#testing export to GCS > csuyat_folder\n",
    "# 'gs://calitp-analytics-data/data-analyses/csuyat_folder/##FILENAME##.parquet'\n",
    "# df.to_parquet()\n",
    "\n",
    "#sucsessfully written to GCS\n",
    "\n",
    "#df.to_parquet('gs://calitp-analytics-data/data-analyses/csuyat_folder/route_identification_2023_m03_m05.parquet')"
   ]
  },
  {
   "cell_type": "markdown",
   "id": "6013738e-0f38-4405-8653-d0e8d0ced0ce",
   "metadata": {},
   "source": [
    "---"
   ]
  },
  {
   "cell_type": "code",
   "execution_count": 4,
   "id": "7a57e90e-b515-4b71-94e4-dbf1c79789c2",
   "metadata": {},
   "outputs": [
    {
     "data": {
      "text/plain": [
       "(11927, 8)"
      ]
     },
     "metadata": {},
     "output_type": "display_data"
    },
    {
     "data": {
      "text/plain": [
       "pandas.core.frame.DataFrame"
      ]
     },
     "metadata": {},
     "output_type": "display_data"
    },
    {
     "data": {
      "text/plain": [
       "['key',\n",
       " 'source_record_id',\n",
       " 'name',\n",
       " 'route_id',\n",
       " 'shape_id',\n",
       " 'month',\n",
       " 'year',\n",
       " 'pt_array']"
      ]
     },
     "metadata": {},
     "output_type": "display_data"
    },
    {
     "data": {
      "text/plain": [
       "year  month\n",
       "2023  5        4180\n",
       "      3        3899\n",
       "      4        3848\n",
       "dtype: int64"
      ]
     },
     "metadata": {},
     "output_type": "display_data"
    }
   ],
   "source": [
    "#peaking into df to make sure everything looks good\n",
    "\n",
    "#shape shows 11,927 rows and 8 columns\n",
    "display(df.shape)\n",
    "\n",
    "#type shows data is in df\n",
    "display(type(df))\n",
    "\n",
    "#columns return all the columns we listed in the function\n",
    "display(list(df.columns))\n",
    "\n",
    "#value_counts confirm df only has rows from 2023 March to May\n",
    "display(df.value_counts(subset=['year','month']))"
   ]
  },
  {
   "cell_type": "code",
   "execution_count": 58,
   "id": "09398f94-de3d-4d5d-b0dc-4aae1584bed9",
   "metadata": {},
   "outputs": [
    {
     "data": {
      "text/html": [
       "<div>\n",
       "<style scoped>\n",
       "    .dataframe tbody tr th:only-of-type {\n",
       "        vertical-align: middle;\n",
       "    }\n",
       "\n",
       "    .dataframe tbody tr th {\n",
       "        vertical-align: top;\n",
       "    }\n",
       "\n",
       "    .dataframe thead th {\n",
       "        text-align: right;\n",
       "    }\n",
       "</style>\n",
       "<table border=\"1\" class=\"dataframe\">\n",
       "  <thead>\n",
       "    <tr style=\"text-align: right;\">\n",
       "      <th></th>\n",
       "      <th>key</th>\n",
       "      <th>source_record_id</th>\n",
       "      <th>name</th>\n",
       "      <th>route_id</th>\n",
       "      <th>shape_id</th>\n",
       "      <th>month</th>\n",
       "      <th>year</th>\n",
       "      <th>pt_array</th>\n",
       "    </tr>\n",
       "  </thead>\n",
       "  <tbody>\n",
       "    <tr>\n",
       "      <th>0</th>\n",
       "      <td>8f81340f4949669bf89a962038249112</td>\n",
       "      <td>rec5HrdtVmO2dPK0h</td>\n",
       "      <td>Palos Verdes PTA Schedule</td>\n",
       "      <td>840</td>\n",
       "      <td>p_2203</td>\n",
       "      <td>3</td>\n",
       "      <td>2023</td>\n",
       "      <td>[POINT(-118.4073 33.74868), POINT(-118.40898 3...</td>\n",
       "    </tr>\n",
       "    <tr>\n",
       "      <th>1</th>\n",
       "      <td>0ed4e44064781ebb11168abfbf93b09d</td>\n",
       "      <td>rec9AyXUSMUHFnLsH</td>\n",
       "      <td>Bay Area 511 Regional Schedule</td>\n",
       "      <td>SF:35</td>\n",
       "      <td>SF:3501</td>\n",
       "      <td>5</td>\n",
       "      <td>2023</td>\n",
       "      <td>[POINT(-122.435254 37.762362), POINT(-122.4351...</td>\n",
       "    </tr>\n",
       "    <tr>\n",
       "      <th>2</th>\n",
       "      <td>3987c4e3d673a91b2d6a1a060215444b</td>\n",
       "      <td>reciKWkJ953NSPTtj</td>\n",
       "      <td>G Trans Schedule</td>\n",
       "      <td>19607</td>\n",
       "      <td>p_1277378</td>\n",
       "      <td>5</td>\n",
       "      <td>2023</td>\n",
       "      <td>[POINT(-118.287054 33.869095), POINT(-118.2877...</td>\n",
       "    </tr>\n",
       "    <tr>\n",
       "      <th>3</th>\n",
       "      <td>04f100967e2ef9ebbe637ec63ebaf410</td>\n",
       "      <td>rec9AyXUSMUHFnLsH</td>\n",
       "      <td>Bay Area 511 Regional Schedule</td>\n",
       "      <td>AC:W</td>\n",
       "      <td>AC:shp-W-06</td>\n",
       "      <td>5</td>\n",
       "      <td>2023</td>\n",
       "      <td>[POINT(-122.396553 37.789249), POINT(-122.3966...</td>\n",
       "    </tr>\n",
       "    <tr>\n",
       "      <th>4</th>\n",
       "      <td>6dd26cfe3807522aff9d39a3880a7c05</td>\n",
       "      <td>recvAztAtQDpjBkL2</td>\n",
       "      <td>San Joaquin Flex</td>\n",
       "      <td>19696</td>\n",
       "      <td>None</td>\n",
       "      <td>4</td>\n",
       "      <td>2023</td>\n",
       "      <td>[]</td>\n",
       "    </tr>\n",
       "  </tbody>\n",
       "</table>\n",
       "</div>"
      ],
      "text/plain": [
       "                                key   source_record_id  \\\n",
       "0  8f81340f4949669bf89a962038249112  rec5HrdtVmO2dPK0h   \n",
       "1  0ed4e44064781ebb11168abfbf93b09d  rec9AyXUSMUHFnLsH   \n",
       "2  3987c4e3d673a91b2d6a1a060215444b  reciKWkJ953NSPTtj   \n",
       "3  04f100967e2ef9ebbe637ec63ebaf410  rec9AyXUSMUHFnLsH   \n",
       "4  6dd26cfe3807522aff9d39a3880a7c05  recvAztAtQDpjBkL2   \n",
       "\n",
       "                             name route_id     shape_id  month  year  \\\n",
       "0       Palos Verdes PTA Schedule      840       p_2203      3  2023   \n",
       "1  Bay Area 511 Regional Schedule    SF:35      SF:3501      5  2023   \n",
       "2                G Trans Schedule    19607    p_1277378      5  2023   \n",
       "3  Bay Area 511 Regional Schedule     AC:W  AC:shp-W-06      5  2023   \n",
       "4                San Joaquin Flex    19696         None      4  2023   \n",
       "\n",
       "                                            pt_array  \n",
       "0  [POINT(-118.4073 33.74868), POINT(-118.40898 3...  \n",
       "1  [POINT(-122.435254 37.762362), POINT(-122.4351...  \n",
       "2  [POINT(-118.287054 33.869095), POINT(-118.2877...  \n",
       "3  [POINT(-122.396553 37.789249), POINT(-122.3966...  \n",
       "4                                                 []  "
      ]
     },
     "execution_count": 58,
     "metadata": {},
     "output_type": "execute_result"
    }
   ],
   "source": [
    "df.head()"
   ]
  },
  {
   "cell_type": "markdown",
   "id": "ed29b2ad-d1b9-44d7-be34-d1a98c29d4f7",
   "metadata": {},
   "source": [
    "---"
   ]
  },
  {
   "cell_type": "markdown",
   "id": "1d4a03f9-7457-4c3c-82f6-8ba548407685",
   "metadata": {},
   "source": [
    "## Next Steps\n",
    "\n",
    "for every `name` and `route_id` in routes, need to see if each row is the same or not. Need to identify any variation in the routes. \n",
    "\n"
   ]
  },
  {
   "cell_type": "markdown",
   "id": "3b5d0e05-7aa8-4930-bcd9-bc632d745cf9",
   "metadata": {},
   "source": [
    "---\n",
    "\n",
    "Trying to use a loop that will create a df for every route_id in sac_routes. but would need to do this for every `name` in the `fct_monthly_routes` df eventually?\n"
   ]
  },
  {
   "cell_type": "code",
   "execution_count": 5,
   "id": "bfd73f43-1e22-4759-bf1a-ef6a1cf90aa9",
   "metadata": {},
   "outputs": [],
   "source": [
    "#creating sub-df for 'Sacramento Schedule'\n",
    "#195 rows, 8 columns\n",
    "sac = df[df['name'] == 'Sacramento Schedule']"
   ]
  },
  {
   "cell_type": "code",
   "execution_count": 62,
   "id": "425e7286-1880-4148-8789-dfa2c561f1ea",
   "metadata": {},
   "outputs": [
    {
     "data": {
      "text/plain": [
       "(195, 8)"
      ]
     },
     "metadata": {},
     "output_type": "display_data"
    },
    {
     "data": {
      "text/html": [
       "<div>\n",
       "<style scoped>\n",
       "    .dataframe tbody tr th:only-of-type {\n",
       "        vertical-align: middle;\n",
       "    }\n",
       "\n",
       "    .dataframe tbody tr th {\n",
       "        vertical-align: top;\n",
       "    }\n",
       "\n",
       "    .dataframe thead th {\n",
       "        text-align: right;\n",
       "    }\n",
       "</style>\n",
       "<table border=\"1\" class=\"dataframe\">\n",
       "  <thead>\n",
       "    <tr style=\"text-align: right;\">\n",
       "      <th></th>\n",
       "      <th>key</th>\n",
       "      <th>source_record_id</th>\n",
       "      <th>name</th>\n",
       "      <th>route_id</th>\n",
       "      <th>shape_id</th>\n",
       "      <th>month</th>\n",
       "      <th>year</th>\n",
       "      <th>pt_array</th>\n",
       "    </tr>\n",
       "  </thead>\n",
       "  <tbody>\n",
       "    <tr>\n",
       "      <th>144</th>\n",
       "      <td>5ee089aa97106d962f283dd7d77fa8eb</td>\n",
       "      <td>recbzZQUIdMmFvm1r</td>\n",
       "      <td>Sacramento Schedule</td>\n",
       "      <td>013</td>\n",
       "      <td>45278</td>\n",
       "      <td>4</td>\n",
       "      <td>2023</td>\n",
       "      <td>[POINT(-121.38163 38.6067), POINT(-121.38188 3...</td>\n",
       "    </tr>\n",
       "    <tr>\n",
       "      <th>178</th>\n",
       "      <td>f2b22790026a410c8fff0a9213058ec8</td>\n",
       "      <td>recbzZQUIdMmFvm1r</td>\n",
       "      <td>Sacramento Schedule</td>\n",
       "      <td>142</td>\n",
       "      <td>45391</td>\n",
       "      <td>4</td>\n",
       "      <td>2023</td>\n",
       "      <td>[POINT(-121.488841 38.57662), POINT(-121.49016...</td>\n",
       "    </tr>\n",
       "    <tr>\n",
       "      <th>180</th>\n",
       "      <td>f6e440870fca27e0a16e5ce174b6cbe3</td>\n",
       "      <td>recbzZQUIdMmFvm1r</td>\n",
       "      <td>Sacramento Schedule</td>\n",
       "      <td>227</td>\n",
       "      <td>45445</td>\n",
       "      <td>5</td>\n",
       "      <td>2023</td>\n",
       "      <td>[]</td>\n",
       "    </tr>\n",
       "  </tbody>\n",
       "</table>\n",
       "</div>"
      ],
      "text/plain": [
       "                                  key   source_record_id                 name  \\\n",
       "144  5ee089aa97106d962f283dd7d77fa8eb  recbzZQUIdMmFvm1r  Sacramento Schedule   \n",
       "178  f2b22790026a410c8fff0a9213058ec8  recbzZQUIdMmFvm1r  Sacramento Schedule   \n",
       "180  f6e440870fca27e0a16e5ce174b6cbe3  recbzZQUIdMmFvm1r  Sacramento Schedule   \n",
       "\n",
       "    route_id shape_id  month  year  \\\n",
       "144      013    45278      4  2023   \n",
       "178      142    45391      4  2023   \n",
       "180      227    45445      5  2023   \n",
       "\n",
       "                                              pt_array  \n",
       "144  [POINT(-121.38163 38.6067), POINT(-121.38188 3...  \n",
       "178  [POINT(-121.488841 38.57662), POINT(-121.49016...  \n",
       "180                                                 []  "
      ]
     },
     "metadata": {},
     "output_type": "display_data"
    }
   ],
   "source": [
    "display(sac.shape)\n",
    "display(sac.head(3))"
   ]
  },
  {
   "cell_type": "code",
   "execution_count": 67,
   "id": "81d867e5-d3d1-4338-af9c-77747145fe3c",
   "metadata": {},
   "outputs": [],
   "source": [
    "sac_routes = sac['route_id'].unique()"
   ]
  },
  {
   "cell_type": "code",
   "execution_count": 68,
   "id": "25a03861-04ff-4f82-9bc8-45588ee2ac85",
   "metadata": {},
   "outputs": [
    {
     "data": {
      "text/plain": [
       "array(['013', '142', '227', '026', '061', '113', '134', '103', '533',\n",
       "       '252', '138', '086', '051', '023', '078', '129', '001', '011',\n",
       "       '210', '019', '033', '519', '248', '084', '213', '067', '205',\n",
       "       '068', '056', '109', '246', '176', '030', '124', '161', 'F20',\n",
       "       '106', '247', '087', '025', '214', '021', '507', '072', '228',\n",
       "       'F10', '255', '226', '062', '211', '30', '175', '093', '206',\n",
       "       '015', '075', '088', '105', '081', '212', '102', '082', '177',\n",
       "       '038', '215'], dtype=object)"
      ]
     },
     "execution_count": 68,
     "metadata": {},
     "output_type": "execute_result"
    }
   ],
   "source": [
    "sac_routes"
   ]
  },
  {
   "cell_type": "code",
   "execution_count": 69,
   "id": "d9904574-603d-4677-a0dc-99c560060aaa",
   "metadata": {},
   "outputs": [],
   "source": [
    "#test for loop that will create df for evey unique route on `sac_routes` list\n",
    "\n",
    "sub_sacdf = []\n",
    "\n",
    "for sac_routes in sac_routes:\n",
    "        sub_df = sac[sac['name'] == sac_routes]\n",
    "        sub_sacdf.append(sub_df)"
   ]
  },
  {
   "cell_type": "markdown",
   "id": "5b684be3-62b3-42eb-86b9-08b05d02253a",
   "metadata": {},
   "source": [
    "---"
   ]
  },
  {
   "cell_type": "markdown",
   "id": "3e763f24-f5b5-4f6f-a25d-1e6306ca062d",
   "metadata": {},
   "source": [
    "Trying to use a loop that will create df for every `name` in routes, then group by `route_id`, then check for matching rows\n",
    "\n",
    "1. need a list of unique names from initial df\n",
    "    `df.name.unique()` >> returns array\n",
    "\n",
    "2. then need to run that list of names through `new_df = df[df['name'] == unique name]` and get new dfs for each unique name\n",
    "    use for loop\n",
    "    \n",
    "3. then run a check for all rows in each df to see if all rows match eachother\n",
    "    use function."
   ]
  },
  {
   "cell_type": "code",
   "execution_count": 52,
   "id": "30abf0e8-dd05-4805-8801-92f78ffa7a75",
   "metadata": {},
   "outputs": [],
   "source": [
    "name_list = df['name'].unique()"
   ]
  },
  {
   "cell_type": "code",
   "execution_count": 54,
   "id": "21c28758-a165-4bfd-bd56-d2f545ba3ace",
   "metadata": {},
   "outputs": [],
   "source": [
    "name_list2 = pd.DataFrame(name_list, columns=['name'])"
   ]
  },
  {
   "cell_type": "code",
   "execution_count": 56,
   "id": "b69ace75-b5d9-4433-8adf-b65d92472d26",
   "metadata": {},
   "outputs": [
    {
     "name": "stderr",
     "output_type": "stream",
     "text": [
      "/tmp/ipykernel_315/2439445782.py:4: FutureWarning: Automatic reindexing on DataFrame vs Series comparisons is deprecated and will raise ValueError in a future version. Do `left, right = left.align(right, axis=1, copy=False)` before e.g. `left == right`\n",
      "  sub_df = df[df['name'] == name_list2]\n"
     ]
    }
   ],
   "source": [
    "sub_dataframes = []\n",
    "\n",
    "for name in name_list2:\n",
    "    sub_df = df[df['name'] == name_list2]\n",
    "    sub_dataframes.append(sub_df)\n",
    "    "
   ]
  },
  {
   "cell_type": "code",
   "execution_count": 57,
   "id": "6df003d8-95c4-45fc-955a-a27f0412f836",
   "metadata": {},
   "outputs": [
    {
     "data": {
      "text/plain": [
       "[       key source_record_id name route_id shape_id  month  year pt_array\n",
       " 0      NaN              NaN  NaN      NaN      NaN    NaN   NaN      NaN\n",
       " 1      NaN              NaN  NaN      NaN      NaN    NaN   NaN      NaN\n",
       " 2      NaN              NaN  NaN      NaN      NaN    NaN   NaN      NaN\n",
       " 3      NaN              NaN  NaN      NaN      NaN    NaN   NaN      NaN\n",
       " 4      NaN              NaN  NaN      NaN      NaN    NaN   NaN      NaN\n",
       " ...    ...              ...  ...      ...      ...    ...   ...      ...\n",
       " 11922  NaN              NaN  NaN      NaN      NaN    NaN   NaN      NaN\n",
       " 11923  NaN              NaN  NaN      NaN      NaN    NaN   NaN      NaN\n",
       " 11924  NaN              NaN  NaN      NaN      NaN    NaN   NaN      NaN\n",
       " 11925  NaN              NaN  NaN      NaN      NaN    NaN   NaN      NaN\n",
       " 11926  NaN              NaN  NaN      NaN      NaN    NaN   NaN      NaN\n",
       " \n",
       " [11927 rows x 8 columns]]"
      ]
     },
     "execution_count": 57,
     "metadata": {},
     "output_type": "execute_result"
    }
   ],
   "source": [
    "sub_dataframes"
   ]
  }
 ],
 "metadata": {
  "kernelspec": {
   "display_name": "Python 3 (ipykernel)",
   "language": "python",
   "name": "python3"
  },
  "language_info": {
   "codemirror_mode": {
    "name": "ipython",
    "version": 3
   },
   "file_extension": ".py",
   "mimetype": "text/x-python",
   "name": "python",
   "nbconvert_exporter": "python",
   "pygments_lexer": "ipython3",
   "version": "3.9.13"
  }
 },
 "nbformat": 4,
 "nbformat_minor": 5
}
