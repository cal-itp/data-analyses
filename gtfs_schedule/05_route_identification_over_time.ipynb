{
 "cells": [
  {
   "cell_type": "markdown",
   "id": "9f2b17f8-faef-489a-9f55-e3defc8b33ea",
   "metadata": {},
   "source": [
    "# Route Identification Over Time\n",
    "\n",
    "Recent observations shows small chages in routes over time. Specifically in the following fields:\n",
    "* route ID\n",
    "* route short name\n",
    "* route long name\n",
    "* route desc\n",
    "\n",
    "Need to observe these route changes in order to account for these changes in future analyses.\n",
    "\n",
    "## Objective\n",
    "1. Query data from `fct_monthly_routes` to help identify variences in Routes. Query for 2023, a couple of months. \n",
    "2. Save data to GCS `gtfs_schedule` bucket\n",
    "3. Filter down data to `Sacramento Regional Transit`, identify and observe routes for any variences\n"
   ]
  },
  {
   "cell_type": "markdown",
   "id": "2c288bcf-6ed4-4ccd-900a-d361ab4dc1bc",
   "metadata": {},
   "source": [
    "## function from open_data/download_vehicle_position.py\n",
    "    \n",
    "    import datetime\n",
    "    import gcsfs\n",
    "    import geopandas as gpd\n",
    "    import pandas as pd\n",
    "    import shapely\n",
    "    import sys\n",
    "\n",
    "    from calitp_data_analysis.tables import tbls\n",
    "    from calitp_data_analysis import utils\n",
    "    from loguru import logger\n",
    "    from siuba import *\n",
    "\n",
    "    from shared_utils import schedule_rt_utils\n",
    "    \n",
    "    def download_vehicle_positions(\n",
    "        date: str,\n",
    "        operator_names: list\n",
    "    ) -> pd.DataFrame:    \n",
    "    \n",
    "        df = (tbls.mart_gtfs.fct_vehicle_locations()\n",
    "              >> filter(_.service_date == date)\n",
    "              >> filter(_.gtfs_dataset_name.isin(operator_names))\n",
    "              >> select(_.gtfs_dataset_key, _.gtfs_dataset_name,\n",
    "                        _.schedule_gtfs_dataset_key,\n",
    "                        _.trip_id, _.trip_instance_key,\n",
    "                        _.location_timestamp,\n",
    "                        _.location)\n",
    "                  >> collect()\n",
    "             )"
   ]
  },
  {
   "cell_type": "code",
   "execution_count": 3,
   "id": "78a70c5e-a8fc-4644-b8d0-5bf4e2481cf7",
   "metadata": {},
   "outputs": [
    {
     "name": "stderr",
     "output_type": "stream",
     "text": [
      "/opt/conda/lib/python3.9/site-packages/google/auth/_default.py:78: UserWarning: Your application has authenticated using end user credentials from Google Cloud SDK without a quota project. You might receive a \"quota exceeded\" or \"API not enabled\" error. See the following page for troubleshooting: https://cloud.google.com/docs/authentication/adc-troubleshooting/user-creds. \n",
      "  warnings.warn(_CLOUD_SDK_CREDENTIALS_WARNING)\n",
      "/opt/conda/lib/python3.9/site-packages/google/auth/_default.py:78: UserWarning: Your application has authenticated using end user credentials from Google Cloud SDK without a quota project. You might receive a \"quota exceeded\" or \"API not enabled\" error. See the following page for troubleshooting: https://cloud.google.com/docs/authentication/adc-troubleshooting/user-creds. \n",
      "  warnings.warn(_CLOUD_SDK_CREDENTIALS_WARNING)\n"
     ]
    },
    {
     "ename": "ModuleNotFoundError",
     "evalue": "No module named 'shared_utils'",
     "output_type": "error",
     "traceback": [
      "\u001b[0;31m---------------------------------------------------------------------------\u001b[0m",
      "\u001b[0;31mModuleNotFoundError\u001b[0m                       Traceback (most recent call last)",
      "Cell \u001b[0;32mIn[3], line 15\u001b[0m\n\u001b[1;32m     12\u001b[0m \u001b[38;5;28;01mfrom\u001b[39;00m \u001b[38;5;21;01mloguru\u001b[39;00m \u001b[38;5;28;01mimport\u001b[39;00m logger\n\u001b[1;32m     13\u001b[0m \u001b[38;5;28;01mfrom\u001b[39;00m \u001b[38;5;21;01msiuba\u001b[39;00m \u001b[38;5;28;01mimport\u001b[39;00m \u001b[38;5;241m*\u001b[39m\n\u001b[0;32m---> 15\u001b[0m \u001b[38;5;28;01mfrom\u001b[39;00m \u001b[38;5;21;01mshared_utils\u001b[39;00m \u001b[38;5;28;01mimport\u001b[39;00m schedule_rt_utils\n",
      "\u001b[0;31mModuleNotFoundError\u001b[0m: No module named 'shared_utils'"
     ]
    }
   ],
   "source": [
    "#imports\n",
    "\n",
    "import datetime\n",
    "import gcsfs\n",
    "import geopandas as gpd\n",
    "import pandas as pd\n",
    "import shapely\n",
    "import sys\n",
    "\n",
    "from calitp_data_analysis.tables import tbls\n",
    "from calitp_data_analysis import utils\n",
    "from loguru import logger\n",
    "from siuba import *\n",
    "\n",
    "from shared_utils import schedule_rt_utils"
   ]
  },
  {
   "cell_type": "code",
   "execution_count": 14,
   "id": "500bfadf-a3f9-48a1-b53b-662ca1f8a20f",
   "metadata": {},
   "outputs": [],
   "source": [
    "# test to query fct_monthly_routes\n",
    "def get_monthly_routes(\n",
    "        year: str,\n",
    "        months: list\n",
    "    ) -> pd.DataFrame:    \n",
    "    \n",
    "        df = (tbls.mart_gtfs.fct_monthly_routes()\n",
    "              >> filter(_.year == year)\n",
    "              >> filter(_.month.isin(months))\n",
    "              >> select(_.key, _.source_record_id,\n",
    "                        _.name,\n",
    "                        _.route_id, _.shape_id,\n",
    "                        _.month,\n",
    "                        _.year,\n",
    "                       _.pt_array)\n",
    "                  >> collect()\n",
    "             )\n",
    "        return df"
   ]
  },
  {
   "cell_type": "code",
   "execution_count": 25,
   "id": "64984523-58a9-4f63-8b5d-df38648cd3c6",
   "metadata": {},
   "outputs": [
    {
     "name": "stderr",
     "output_type": "stream",
     "text": [
      "/opt/conda/lib/python3.9/site-packages/sqlalchemy_bigquery/_types.py:101: SAWarning: Did not recognize type 'GEOGRAPHY' of column 'pt_array'\n",
      "  sqlalchemy.util.warn(\n"
     ]
    }
   ],
   "source": [
    "monthly_routes = get_monthly_routes(2023, [3, 4, 5])"
   ]
  },
  {
   "cell_type": "code",
   "execution_count": 26,
   "id": "7a57e90e-b515-4b71-94e4-dbf1c79789c2",
   "metadata": {},
   "outputs": [
    {
     "data": {
      "text/plain": [
       "(11927, 8)"
      ]
     },
     "metadata": {},
     "output_type": "display_data"
    },
    {
     "data": {
      "text/plain": [
       "pandas.core.frame.DataFrame"
      ]
     },
     "metadata": {},
     "output_type": "display_data"
    },
    {
     "data": {
      "text/plain": [
       "['key',\n",
       " 'source_record_id',\n",
       " 'name',\n",
       " 'route_id',\n",
       " 'shape_id',\n",
       " 'month',\n",
       " 'year',\n",
       " 'pt_array']"
      ]
     },
     "metadata": {},
     "output_type": "display_data"
    },
    {
     "data": {
      "text/plain": [
       "year  month\n",
       "2023  5        4180\n",
       "      3        3899\n",
       "      4        3848\n",
       "dtype: int64"
      ]
     },
     "metadata": {},
     "output_type": "display_data"
    }
   ],
   "source": [
    "#peaking into df to make sure everything looks good\n",
    "\n",
    "#shape shows 11,927 rows and 8 columns\n",
    "display(monthly_routes.shape)\n",
    "\n",
    "#type shows data is in df\n",
    "display(type(monthly_routes))\n",
    "\n",
    "#columns return all the columns we listed in the function\n",
    "display(list(monthly_routes.columns))\n",
    "\n",
    "#value_counts confirm df only has rows from 2023 March to May\n",
    "display(monthly_routes.value_counts(subset=['year','month']))"
   ]
  },
  {
   "cell_type": "code",
   "execution_count": 29,
   "id": "8e8670a1-ac48-45fe-bc8f-e0d460f03250",
   "metadata": {},
   "outputs": [
    {
     "data": {
      "text/plain": [
       "name\n",
       "AC Transit Schedule     [19, 706, 657, J, 18, 605, 628, FS, 210, 667, ...\n",
       "ACE Schedule                                                        [ACE]\n",
       "Alhambra Schedule                                   [GreenLine, BlueLine]\n",
       "Amador Schedule                            [570, 569, 660, 661, 573, 571]\n",
       "Amtrak Schedule         [21314, 85, 75, 70, 39297, 37329, 42896, 40751...\n",
       "                                              ...                        \n",
       "YARTS Schedule                                          [580, 1094, 2005]\n",
       "Yolobus Schedule        [fd4f01d1-f65d-4955-a793-32d619ef0cea, 7e1a17f...\n",
       "Yuba-Sutter Schedule    [6464, 472, 363, 473, 6465, 369, 362, 367, 364...\n",
       "Yuma Schedule                        [12, 14, 17, 10, 21, 11, 23, 16, 28]\n",
       "eTrans Schedule                                                     [277]\n",
       "Name: route_id, Length: 212, dtype: object"
      ]
     },
     "execution_count": 29,
     "metadata": {},
     "output_type": "execute_result"
    }
   ],
   "source": [
    "monthly_routes.groupby(['name']).route_id.unique()"
   ]
  },
  {
   "cell_type": "code",
   "execution_count": 45,
   "id": "bfd73f43-1e22-4759-bf1a-ef6a1cf90aa9",
   "metadata": {},
   "outputs": [],
   "source": [
    "#checking for rows for 'Sacramento Schedule'\n",
    "#195 rows\n",
    "sac = monthly_routes[monthly_routes['name'] == 'Sacramento Schedule']"
   ]
  },
  {
   "cell_type": "code",
   "execution_count": 51,
   "id": "425e7286-1880-4148-8789-dfa2c561f1ea",
   "metadata": {},
   "outputs": [
    {
     "data": {
      "text/plain": [
       "['075',\n",
       " '30',\n",
       " '255',\n",
       " '103',\n",
       " '519',\n",
       " '175',\n",
       " '051',\n",
       " '021',\n",
       " '138',\n",
       " '093',\n",
       " '247',\n",
       " '214',\n",
       " '213',\n",
       " '102',\n",
       " '507',\n",
       " '081',\n",
       " '082',\n",
       " '078',\n",
       " '013',\n",
       " '025',\n",
       " '030',\n",
       " 'F10',\n",
       " '246',\n",
       " '109',\n",
       " '026',\n",
       " '038',\n",
       " '215',\n",
       " '072',\n",
       " '211',\n",
       " '134',\n",
       " '011',\n",
       " '206',\n",
       " '212',\n",
       " '033',\n",
       " '087',\n",
       " '061',\n",
       " '001',\n",
       " '227',\n",
       " 'F20',\n",
       " '056',\n",
       " '019',\n",
       " '124',\n",
       " '015',\n",
       " '176',\n",
       " '533',\n",
       " '161',\n",
       " '113',\n",
       " '086',\n",
       " '210',\n",
       " '084',\n",
       " '226',\n",
       " '129',\n",
       " '177',\n",
       " '105',\n",
       " '205',\n",
       " '106',\n",
       " '062',\n",
       " '248',\n",
       " '068',\n",
       " '067',\n",
       " '088',\n",
       " '023',\n",
       " '142',\n",
       " '228',\n",
       " '252']"
      ]
     },
     "execution_count": 51,
     "metadata": {},
     "output_type": "execute_result"
    }
   ],
   "source": [
    "list(sac.route_id.unique())"
   ]
  },
  {
   "cell_type": "code",
   "execution_count": null,
   "id": "1513ce16-3f4c-4b78-9910-357e8d940d0c",
   "metadata": {},
   "outputs": [],
   "source": [
    "#saving data to GCS"
   ]
  }
 ],
 "metadata": {
  "kernelspec": {
   "display_name": "Python 3 (ipykernel)",
   "language": "python",
   "name": "python3"
  },
  "language_info": {
   "codemirror_mode": {
    "name": "ipython",
    "version": 3
   },
   "file_extension": ".py",
   "mimetype": "text/x-python",
   "name": "python",
   "nbconvert_exporter": "python",
   "pygments_lexer": "ipython3",
   "version": "3.9.13"
  }
 },
 "nbformat": 4,
 "nbformat_minor": 5
}
