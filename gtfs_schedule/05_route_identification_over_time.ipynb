{
 "cells": [
  {
   "cell_type": "markdown",
   "id": "9f2b17f8-faef-489a-9f55-e3defc8b33ea",
   "metadata": {},
   "source": [
    "# Route Identification Over Time\n",
    "\n",
    "Recent observations shows small chages in routes over time. Specifically in the following fields:\n",
    "* route ID\n",
    "* route short name\n",
    "* route long name\n",
    "* route desc\n",
    "\n",
    "Need to observe these route changes in order to account for these changes in future analyses.\n",
    "\n",
    "## Objective\n",
    "1. Query data from `fct_monthly_routes` to help identify variences in Routes. Query for 2023, a couple of months. \n",
    "2. Save data to GCS `gtfs_schedule` bucket\n",
    "3. Filter down data to `Sacramento Regional Transit`, identify and observe routes for any variences\n"
   ]
  },
  {
   "cell_type": "markdown",
   "id": "2c288bcf-6ed4-4ccd-900a-d361ab4dc1bc",
   "metadata": {},
   "source": [
    "## function from `open_data/download_vehicle_position.py`\n",
    "    \n",
    "    import datetime\n",
    "    import gcsfs\n",
    "    import geopandas as gpd\n",
    "    import pandas as pd\n",
    "    import shapely\n",
    "    import sys\n",
    "\n",
    "    from calitp_data_analysis.tables import tbls\n",
    "    from calitp_data_analysis import utils\n",
    "    from loguru import logger\n",
    "    from siuba import *\n",
    "\n",
    "    from shared_utils import schedule_rt_utils\n",
    "    \n",
    "    def download_vehicle_positions(\n",
    "        date: str,\n",
    "        operator_names: list\n",
    "    ) -> pd.DataFrame:    \n",
    "    \n",
    "        df = (tbls.mart_gtfs.fct_vehicle_locations()\n",
    "              >> filter(_.service_date == date)\n",
    "              >> filter(_.gtfs_dataset_name.isin(operator_names))\n",
    "              >> select(_.gtfs_dataset_key, _.gtfs_dataset_name,\n",
    "                        _.schedule_gtfs_dataset_key,\n",
    "                        _.trip_id, _.trip_instance_key,\n",
    "                        _.location_timestamp,\n",
    "                        _.location)\n",
    "                  >> collect()\n",
    "             )"
   ]
  },
  {
   "cell_type": "code",
   "execution_count": 1,
   "id": "78a70c5e-a8fc-4644-b8d0-5bf4e2481cf7",
   "metadata": {},
   "outputs": [
    {
     "name": "stderr",
     "output_type": "stream",
     "text": [
      "/opt/conda/lib/python3.9/site-packages/google/auth/_default.py:78: UserWarning: Your application has authenticated using end user credentials from Google Cloud SDK without a quota project. You might receive a \"quota exceeded\" or \"API not enabled\" error. See the following page for troubleshooting: https://cloud.google.com/docs/authentication/adc-troubleshooting/user-creds. \n",
      "  warnings.warn(_CLOUD_SDK_CREDENTIALS_WARNING)\n",
      "/opt/conda/lib/python3.9/site-packages/google/auth/_default.py:78: UserWarning: Your application has authenticated using end user credentials from Google Cloud SDK without a quota project. You might receive a \"quota exceeded\" or \"API not enabled\" error. See the following page for troubleshooting: https://cloud.google.com/docs/authentication/adc-troubleshooting/user-creds. \n",
      "  warnings.warn(_CLOUD_SDK_CREDENTIALS_WARNING)\n"
     ]
    },
    {
     "ename": "ModuleNotFoundError",
     "evalue": "No module named 'shared_utils'",
     "output_type": "error",
     "traceback": [
      "\u001b[0;31m---------------------------------------------------------------------------\u001b[0m",
      "\u001b[0;31mModuleNotFoundError\u001b[0m                       Traceback (most recent call last)",
      "Cell \u001b[0;32mIn[1], line 15\u001b[0m\n\u001b[1;32m     12\u001b[0m \u001b[38;5;28;01mfrom\u001b[39;00m \u001b[38;5;21;01mloguru\u001b[39;00m \u001b[38;5;28;01mimport\u001b[39;00m logger\n\u001b[1;32m     13\u001b[0m \u001b[38;5;28;01mfrom\u001b[39;00m \u001b[38;5;21;01msiuba\u001b[39;00m \u001b[38;5;28;01mimport\u001b[39;00m \u001b[38;5;241m*\u001b[39m\n\u001b[0;32m---> 15\u001b[0m \u001b[38;5;28;01mfrom\u001b[39;00m \u001b[38;5;21;01mshared_utils\u001b[39;00m \u001b[38;5;28;01mimport\u001b[39;00m schedule_rt_utils\n",
      "\u001b[0;31mModuleNotFoundError\u001b[0m: No module named 'shared_utils'"
     ]
    }
   ],
   "source": [
    "#imports\n",
    "\n",
    "import datetime\n",
    "import gcsfs\n",
    "import geopandas as gpd\n",
    "import pandas as pd\n",
    "import shapely\n",
    "import sys\n",
    "\n",
    "from calitp_data_analysis.tables import tbls\n",
    "from calitp_data_analysis import utils\n",
    "from loguru import logger\n",
    "from siuba import *\n",
    "\n",
    "from shared_utils import schedule_rt_utils"
   ]
  },
  {
   "cell_type": "code",
   "execution_count": 2,
   "id": "500bfadf-a3f9-48a1-b53b-662ca1f8a20f",
   "metadata": {},
   "outputs": [],
   "source": [
    "# test to query fct_monthly_routes\n",
    "def get_monthly_routes(\n",
    "        year: str,\n",
    "        months: list\n",
    "    ) -> pd.DataFrame:    \n",
    "    \n",
    "        df = (tbls.mart_gtfs.fct_monthly_routes()\n",
    "              >> filter(_.year == year)\n",
    "              >> filter(_.month.isin(months))\n",
    "              >> select(_.key, _.source_record_id,\n",
    "                        _.name,\n",
    "                        _.route_id, _.shape_id,\n",
    "                        _.month,\n",
    "                        _.year,\n",
    "                       _.pt_array)\n",
    "                  >> collect()\n",
    "             )\n",
    "        return df"
   ]
  },
  {
   "cell_type": "code",
   "execution_count": 3,
   "id": "64984523-58a9-4f63-8b5d-df38648cd3c6",
   "metadata": {},
   "outputs": [
    {
     "name": "stderr",
     "output_type": "stream",
     "text": [
      "/opt/conda/lib/python3.9/site-packages/sqlalchemy_bigquery/_types.py:101: SAWarning: Did not recognize type 'GEOGRAPHY' of column 'pt_array'\n",
      "  sqlalchemy.util.warn(\n"
     ]
    }
   ],
   "source": [
    "df = get_monthly_routes(2023, [3, 4, 5])"
   ]
  },
  {
   "cell_type": "code",
   "execution_count": null,
   "id": "1513ce16-3f4c-4b78-9910-357e8d940d0c",
   "metadata": {},
   "outputs": [],
   "source": [
    "#testing export to GCS > csuyat_folder\n",
    "# 'gs://calitp-analytics-data/data-analyses/csuyat_folder/##FILENAME##.parquet'\n",
    "# df.to_parquet()\n",
    "\n",
    "#sucsessfully written to GCS\n",
    "\n",
    "#df.to_parquet('gs://calitp-analytics-data/data-analyses/csuyat_folder/route_identification_2023_m03_m05.parquet')"
   ]
  },
  {
   "cell_type": "markdown",
   "id": "6013738e-0f38-4405-8653-d0e8d0ced0ce",
   "metadata": {},
   "source": [
    "---"
   ]
  },
  {
   "cell_type": "code",
   "execution_count": 4,
   "id": "7a57e90e-b515-4b71-94e4-dbf1c79789c2",
   "metadata": {},
   "outputs": [
    {
     "data": {
      "text/plain": [
       "(11927, 8)"
      ]
     },
     "metadata": {},
     "output_type": "display_data"
    },
    {
     "data": {
      "text/plain": [
       "pandas.core.frame.DataFrame"
      ]
     },
     "metadata": {},
     "output_type": "display_data"
    },
    {
     "data": {
      "text/plain": [
       "['key',\n",
       " 'source_record_id',\n",
       " 'name',\n",
       " 'route_id',\n",
       " 'shape_id',\n",
       " 'month',\n",
       " 'year',\n",
       " 'pt_array']"
      ]
     },
     "metadata": {},
     "output_type": "display_data"
    },
    {
     "data": {
      "text/plain": [
       "year  month\n",
       "2023  5        4180\n",
       "      3        3899\n",
       "      4        3848\n",
       "dtype: int64"
      ]
     },
     "metadata": {},
     "output_type": "display_data"
    }
   ],
   "source": [
    "#peaking into df to make sure everything looks good\n",
    "\n",
    "#shape shows 11,927 rows and 8 columns\n",
    "display(df.shape)\n",
    "\n",
    "#type shows data is in df\n",
    "display(type(df))\n",
    "\n",
    "#columns return all the columns we listed in the function\n",
    "display(list(df.columns))\n",
    "\n",
    "#value_counts confirm df only has rows from 2023 March to May\n",
    "display(df.value_counts(subset=['year','month']))"
   ]
  },
  {
   "cell_type": "code",
   "execution_count": 5,
   "id": "09398f94-de3d-4d5d-b0dc-4aae1584bed9",
   "metadata": {},
   "outputs": [
    {
     "data": {
      "text/html": [
       "<div>\n",
       "<style scoped>\n",
       "    .dataframe tbody tr th:only-of-type {\n",
       "        vertical-align: middle;\n",
       "    }\n",
       "\n",
       "    .dataframe tbody tr th {\n",
       "        vertical-align: top;\n",
       "    }\n",
       "\n",
       "    .dataframe thead th {\n",
       "        text-align: right;\n",
       "    }\n",
       "</style>\n",
       "<table border=\"1\" class=\"dataframe\">\n",
       "  <thead>\n",
       "    <tr style=\"text-align: right;\">\n",
       "      <th></th>\n",
       "      <th>key</th>\n",
       "      <th>source_record_id</th>\n",
       "      <th>name</th>\n",
       "      <th>route_id</th>\n",
       "      <th>shape_id</th>\n",
       "      <th>month</th>\n",
       "      <th>year</th>\n",
       "      <th>pt_array</th>\n",
       "    </tr>\n",
       "  </thead>\n",
       "  <tbody>\n",
       "    <tr>\n",
       "      <th>0</th>\n",
       "      <td>5203ce136ca42bd0dedcacd1dc9333af</td>\n",
       "      <td>reca8NS1B4WihN0UT</td>\n",
       "      <td>AC Transit Schedule</td>\n",
       "      <td>706</td>\n",
       "      <td>shp-706-04</td>\n",
       "      <td>5</td>\n",
       "      <td>2023</td>\n",
       "      <td>[POINT(-122.125885 37.696773), POINT(-122.1256...</td>\n",
       "    </tr>\n",
       "    <tr>\n",
       "      <th>1</th>\n",
       "      <td>b8d8702da47d7c09600f595fe7883fde</td>\n",
       "      <td>recS9dL7UTYLgg4r9</td>\n",
       "      <td>Sonoma Schedule</td>\n",
       "      <td>1079</td>\n",
       "      <td>p_8814</td>\n",
       "      <td>4</td>\n",
       "      <td>2023</td>\n",
       "      <td>[POINT(-122.873369 38.609732), POINT(-122.8718...</td>\n",
       "    </tr>\n",
       "    <tr>\n",
       "      <th>2</th>\n",
       "      <td>a828ca6eb47f20a8d80a1ca8909f0bf2</td>\n",
       "      <td>rec5AIu50d5GUeSFW</td>\n",
       "      <td>Plumas Schedule</td>\n",
       "      <td>126</td>\n",
       "      <td>p_1426806</td>\n",
       "      <td>3</td>\n",
       "      <td>2023</td>\n",
       "      <td>[POINT(-120.902916 39.93456), POINT(-120.90307...</td>\n",
       "    </tr>\n",
       "    <tr>\n",
       "      <th>3</th>\n",
       "      <td>1ca08f0eee7e2b274208197b8e7d6a8f</td>\n",
       "      <td>recSitwCIHxMr06TX</td>\n",
       "      <td>Imperial Valley Transit Schedule</td>\n",
       "      <td>11</td>\n",
       "      <td>18</td>\n",
       "      <td>4</td>\n",
       "      <td>2023</td>\n",
       "      <td>[POINT(-115.55911 32.7918), POINT(-115.56138 3...</td>\n",
       "    </tr>\n",
       "    <tr>\n",
       "      <th>4</th>\n",
       "      <td>ccaa77907ea4779e7a7aa54cc9a812cf</td>\n",
       "      <td>recS9dL7UTYLgg4r9</td>\n",
       "      <td>Sonoma Schedule</td>\n",
       "      <td>1026</td>\n",
       "      <td>p_2773</td>\n",
       "      <td>4</td>\n",
       "      <td>2023</td>\n",
       "      <td>[POINT(-123.011852 38.460851), POINT(-123.0119...</td>\n",
       "    </tr>\n",
       "  </tbody>\n",
       "</table>\n",
       "</div>"
      ],
      "text/plain": [
       "                                key   source_record_id  \\\n",
       "0  5203ce136ca42bd0dedcacd1dc9333af  reca8NS1B4WihN0UT   \n",
       "1  b8d8702da47d7c09600f595fe7883fde  recS9dL7UTYLgg4r9   \n",
       "2  a828ca6eb47f20a8d80a1ca8909f0bf2  rec5AIu50d5GUeSFW   \n",
       "3  1ca08f0eee7e2b274208197b8e7d6a8f  recSitwCIHxMr06TX   \n",
       "4  ccaa77907ea4779e7a7aa54cc9a812cf  recS9dL7UTYLgg4r9   \n",
       "\n",
       "                               name route_id    shape_id  month  year  \\\n",
       "0               AC Transit Schedule      706  shp-706-04      5  2023   \n",
       "1                   Sonoma Schedule     1079      p_8814      4  2023   \n",
       "2                   Plumas Schedule      126   p_1426806      3  2023   \n",
       "3  Imperial Valley Transit Schedule       11          18      4  2023   \n",
       "4                   Sonoma Schedule     1026      p_2773      4  2023   \n",
       "\n",
       "                                            pt_array  \n",
       "0  [POINT(-122.125885 37.696773), POINT(-122.1256...  \n",
       "1  [POINT(-122.873369 38.609732), POINT(-122.8718...  \n",
       "2  [POINT(-120.902916 39.93456), POINT(-120.90307...  \n",
       "3  [POINT(-115.55911 32.7918), POINT(-115.56138 3...  \n",
       "4  [POINT(-123.011852 38.460851), POINT(-123.0119...  "
      ]
     },
     "execution_count": 5,
     "metadata": {},
     "output_type": "execute_result"
    }
   ],
   "source": [
    "df.head()"
   ]
  },
  {
   "cell_type": "code",
   "execution_count": 6,
   "id": "bfd73f43-1e22-4759-bf1a-ef6a1cf90aa9",
   "metadata": {
    "tags": []
   },
   "outputs": [],
   "source": [
    "#creating sub-df for 'Sacramento Schedule'\n",
    "#195 rows, 8 columns\n",
    "sac = df[df['name'] == 'Sacramento Schedule']"
   ]
  },
  {
   "cell_type": "code",
   "execution_count": 7,
   "id": "425e7286-1880-4148-8789-dfa2c561f1ea",
   "metadata": {},
   "outputs": [
    {
     "data": {
      "text/plain": [
       "(195, 8)"
      ]
     },
     "metadata": {},
     "output_type": "display_data"
    },
    {
     "data": {
      "text/html": [
       "<div>\n",
       "<style scoped>\n",
       "    .dataframe tbody tr th:only-of-type {\n",
       "        vertical-align: middle;\n",
       "    }\n",
       "\n",
       "    .dataframe tbody tr th {\n",
       "        vertical-align: top;\n",
       "    }\n",
       "\n",
       "    .dataframe thead th {\n",
       "        text-align: right;\n",
       "    }\n",
       "</style>\n",
       "<table border=\"1\" class=\"dataframe\">\n",
       "  <thead>\n",
       "    <tr style=\"text-align: right;\">\n",
       "      <th></th>\n",
       "      <th>key</th>\n",
       "      <th>source_record_id</th>\n",
       "      <th>name</th>\n",
       "      <th>route_id</th>\n",
       "      <th>shape_id</th>\n",
       "      <th>month</th>\n",
       "      <th>year</th>\n",
       "      <th>pt_array</th>\n",
       "    </tr>\n",
       "  </thead>\n",
       "  <tbody>\n",
       "    <tr>\n",
       "      <th>13</th>\n",
       "      <td>7d5bc4199721d12c326e68b76ed4e40b</td>\n",
       "      <td>recbzZQUIdMmFvm1r</td>\n",
       "      <td>Sacramento Schedule</td>\n",
       "      <td>062</td>\n",
       "      <td>45316</td>\n",
       "      <td>4</td>\n",
       "      <td>2023</td>\n",
       "      <td>[POINT(-121.53569 38.48545), POINT(-121.535756...</td>\n",
       "    </tr>\n",
       "    <tr>\n",
       "      <th>20</th>\n",
       "      <td>d63a9754f51a8834d558e84020e10f34</td>\n",
       "      <td>recbzZQUIdMmFvm1r</td>\n",
       "      <td>Sacramento Schedule</td>\n",
       "      <td>138</td>\n",
       "      <td>45389</td>\n",
       "      <td>4</td>\n",
       "      <td>2023</td>\n",
       "      <td>[POINT(-121.753874 38.539257), POINT(-121.7536...</td>\n",
       "    </tr>\n",
       "    <tr>\n",
       "      <th>268</th>\n",
       "      <td>274a0e075046066ef749de889c204785</td>\n",
       "      <td>recbzZQUIdMmFvm1r</td>\n",
       "      <td>Sacramento Schedule</td>\n",
       "      <td>248</td>\n",
       "      <td>45451</td>\n",
       "      <td>5</td>\n",
       "      <td>2023</td>\n",
       "      <td>[]</td>\n",
       "    </tr>\n",
       "  </tbody>\n",
       "</table>\n",
       "</div>"
      ],
      "text/plain": [
       "                                  key   source_record_id                 name  \\\n",
       "13   7d5bc4199721d12c326e68b76ed4e40b  recbzZQUIdMmFvm1r  Sacramento Schedule   \n",
       "20   d63a9754f51a8834d558e84020e10f34  recbzZQUIdMmFvm1r  Sacramento Schedule   \n",
       "268  274a0e075046066ef749de889c204785  recbzZQUIdMmFvm1r  Sacramento Schedule   \n",
       "\n",
       "    route_id shape_id  month  year  \\\n",
       "13       062    45316      4  2023   \n",
       "20       138    45389      4  2023   \n",
       "268      248    45451      5  2023   \n",
       "\n",
       "                                              pt_array  \n",
       "13   [POINT(-121.53569 38.48545), POINT(-121.535756...  \n",
       "20   [POINT(-121.753874 38.539257), POINT(-121.7536...  \n",
       "268                                                 []  "
      ]
     },
     "metadata": {},
     "output_type": "display_data"
    }
   ],
   "source": [
    "display(sac.shape)\n",
    "display(sac.head(3))"
   ]
  },
  {
   "cell_type": "code",
   "execution_count": 8,
   "id": "81d867e5-d3d1-4338-af9c-77747145fe3c",
   "metadata": {},
   "outputs": [],
   "source": [
    "sac_routes = sac['route_id'].unique()"
   ]
  },
  {
   "cell_type": "code",
   "execution_count": 9,
   "id": "25a03861-04ff-4f82-9bc8-45588ee2ac85",
   "metadata": {},
   "outputs": [
    {
     "data": {
      "text/plain": [
       "array(['062', '138', '248', 'F10', '227', '013', '142', '124', '226',\n",
       "       '033', '001', '067', '088', '211', '113', '093', '011', '023',\n",
       "       '210', '177', '084', '026', '081', '087', '206', 'F20', '025',\n",
       "       '056', '175', '102', '213', '015', '019', '30', '533', '075',\n",
       "       '252', '030', '205', '109', '228', '068', '105', '176', '021',\n",
       "       '507', '255', '082', '247', '061', '106', '051', '519', '134',\n",
       "       '214', '086', '103', '161', '246', '072', '215', '129', '038',\n",
       "       '212', '078'], dtype=object)"
      ]
     },
     "execution_count": 9,
     "metadata": {},
     "output_type": "execute_result"
    }
   ],
   "source": [
    "sac_routes"
   ]
  },
  {
   "cell_type": "markdown",
   "id": "1d4a03f9-7457-4c3c-82f6-8ba548407685",
   "metadata": {},
   "source": [
    "## Next Steps\n",
    "\n",
    "for every `name` and `route_id` in routes, need to see if each row is the same or not. Need to identify any variation in the routes. \n",
    "\n"
   ]
  },
  {
   "cell_type": "markdown",
   "id": "3b5d0e05-7aa8-4930-bcd9-bc632d745cf9",
   "metadata": {},
   "source": [
    "---\n",
    "\n",
    "Trying to use a loop that will create a df for every route_id in sac_routes. but would need to do this for every `name` in the `fct_monthly_routes` df eventually?\n"
   ]
  },
  {
   "cell_type": "code",
   "execution_count": null,
   "id": "d9904574-603d-4677-a0dc-99c560060aaa",
   "metadata": {},
   "outputs": [],
   "source": [
    "#test loop that will create df for evey unique route on `sac_routes` list\n",
    "\n",
    "#declare empty list\n",
    "sub_sacdf = []\n",
    "\n",
    "for routes in sac_routes:\n",
    "        sub_df = sac[sac['name'] == sac_routes]\n",
    "        sub_sacdf.append(sub_df)"
   ]
  },
  {
   "cell_type": "code",
   "execution_count": 15,
   "id": "c7d3fc70-3b21-42f2-bd6a-057333349cc6",
   "metadata": {},
   "outputs": [],
   "source": [
    "#v2 of above\n",
    "\n",
    "#empty dictionary\n",
    "sub_dataframes = {}\n",
    "\n",
    "#each element in sac_routes will be called route.\n",
    "#for each route in sac_routes, query each row related to that route.\n",
    "#then, create a dataframe for each route and place it into the dictionary sub_dataframes\n",
    "for route in sac_routes:\n",
    "    sub_df = sac[sac['route_id'] == route]\n",
    "    sub_dataframes[route] = sub_df"
   ]
  },
  {
   "cell_type": "code",
   "execution_count": 24,
   "id": "c1cbf71a-1572-432a-bbf6-5e0f0a3ef47f",
   "metadata": {},
   "outputs": [
    {
     "data": {
      "text/html": [
       "<div>\n",
       "<style scoped>\n",
       "    .dataframe tbody tr th:only-of-type {\n",
       "        vertical-align: middle;\n",
       "    }\n",
       "\n",
       "    .dataframe tbody tr th {\n",
       "        vertical-align: top;\n",
       "    }\n",
       "\n",
       "    .dataframe thead th {\n",
       "        text-align: right;\n",
       "    }\n",
       "</style>\n",
       "<table border=\"1\" class=\"dataframe\">\n",
       "  <thead>\n",
       "    <tr style=\"text-align: right;\">\n",
       "      <th></th>\n",
       "      <th>key</th>\n",
       "      <th>source_record_id</th>\n",
       "      <th>name</th>\n",
       "      <th>route_id</th>\n",
       "      <th>shape_id</th>\n",
       "      <th>month</th>\n",
       "      <th>year</th>\n",
       "      <th>pt_array</th>\n",
       "    </tr>\n",
       "  </thead>\n",
       "  <tbody>\n",
       "    <tr>\n",
       "      <th>1173</th>\n",
       "      <td>fc4aecdbb2e90697aaca21929881da0c</td>\n",
       "      <td>recbzZQUIdMmFvm1r</td>\n",
       "      <td>Sacramento Schedule</td>\n",
       "      <td>088</td>\n",
       "      <td>45350</td>\n",
       "      <td>4</td>\n",
       "      <td>2023</td>\n",
       "      <td>[POINT(-121.491718 38.579866), POINT(-121.4915...</td>\n",
       "    </tr>\n",
       "    <tr>\n",
       "      <th>4271</th>\n",
       "      <td>79872e3f47d4f8c9579aeb7c141649ad</td>\n",
       "      <td>recbzZQUIdMmFvm1r</td>\n",
       "      <td>Sacramento Schedule</td>\n",
       "      <td>088</td>\n",
       "      <td>44974</td>\n",
       "      <td>3</td>\n",
       "      <td>2023</td>\n",
       "      <td>[]</td>\n",
       "    </tr>\n",
       "    <tr>\n",
       "      <th>10792</th>\n",
       "      <td>559586f993036a5d2aba23bbddb5645f</td>\n",
       "      <td>recbzZQUIdMmFvm1r</td>\n",
       "      <td>Sacramento Schedule</td>\n",
       "      <td>088</td>\n",
       "      <td>45350</td>\n",
       "      <td>5</td>\n",
       "      <td>2023</td>\n",
       "      <td>[]</td>\n",
       "    </tr>\n",
       "  </tbody>\n",
       "</table>\n",
       "</div>"
      ],
      "text/plain": [
       "                                    key   source_record_id  \\\n",
       "1173   fc4aecdbb2e90697aaca21929881da0c  recbzZQUIdMmFvm1r   \n",
       "4271   79872e3f47d4f8c9579aeb7c141649ad  recbzZQUIdMmFvm1r   \n",
       "10792  559586f993036a5d2aba23bbddb5645f  recbzZQUIdMmFvm1r   \n",
       "\n",
       "                      name route_id shape_id  month  year  \\\n",
       "1173   Sacramento Schedule      088    45350      4  2023   \n",
       "4271   Sacramento Schedule      088    44974      3  2023   \n",
       "10792  Sacramento Schedule      088    45350      5  2023   \n",
       "\n",
       "                                                pt_array  \n",
       "1173   [POINT(-121.491718 38.579866), POINT(-121.4915...  \n",
       "4271                                                  []  \n",
       "10792                                                 []  "
      ]
     },
     "execution_count": 24,
     "metadata": {},
     "output_type": "execute_result"
    }
   ],
   "source": [
    "#testing dictionary with route 23\n",
    "sub_dataframes['088']"
   ]
  },
  {
   "cell_type": "code",
   "execution_count": null,
   "id": "fbc29f08-f40c-4b1e-ad16-74aa78733b8c",
   "metadata": {},
   "outputs": [],
   "source": []
  },
  {
   "cell_type": "markdown",
   "id": "5b684be3-62b3-42eb-86b9-08b05d02253a",
   "metadata": {},
   "source": [
    "---"
   ]
  },
  {
   "cell_type": "markdown",
   "id": "3e763f24-f5b5-4f6f-a25d-1e6306ca062d",
   "metadata": {},
   "source": [
    "Trying to use a loop that will create df for every `name` in routes, then group by `route_id`, then check for matching rows\n",
    "\n",
    "1. need a list of unique names from initial df\n",
    "    `df.name.unique()` >> returns array\n",
    "\n",
    "2. then need to run that list of names through `new_df = df[df['name'] == unique name]` and get new dfs for each unique name\n",
    "    use for loop\n",
    "    \n",
    "3. then run a check for all rows in each df to see if all rows match eachother\n",
    "    use function."
   ]
  },
  {
   "cell_type": "code",
   "execution_count": 10,
   "id": "30abf0e8-dd05-4805-8801-92f78ffa7a75",
   "metadata": {},
   "outputs": [],
   "source": [
    "name_list = df['name'].unique()"
   ]
  },
  {
   "cell_type": "code",
   "execution_count": 12,
   "id": "21c28758-a165-4bfd-bd56-d2f545ba3ace",
   "metadata": {},
   "outputs": [],
   "source": [
    "name_list2 = pd.DataFrame(name_list, columns=['name'])"
   ]
  },
  {
   "cell_type": "code",
   "execution_count": 13,
   "id": "b69ace75-b5d9-4433-8adf-b65d92472d26",
   "metadata": {},
   "outputs": [
    {
     "name": "stderr",
     "output_type": "stream",
     "text": [
      "/tmp/ipykernel_219/2439445782.py:4: FutureWarning: Automatic reindexing on DataFrame vs Series comparisons is deprecated and will raise ValueError in a future version. Do `left, right = left.align(right, axis=1, copy=False)` before e.g. `left == right`\n",
      "  sub_df = df[df['name'] == name_list2]\n"
     ]
    }
   ],
   "source": [
    "sub_dataframes = []\n",
    "\n",
    "for name in name_list2:\n",
    "    sub_df = df[df['name'] == name_list2]\n",
    "    sub_dataframes.append(sub_df)\n",
    "    "
   ]
  },
  {
   "cell_type": "code",
   "execution_count": 14,
   "id": "6df003d8-95c4-45fc-955a-a27f0412f836",
   "metadata": {},
   "outputs": [
    {
     "data": {
      "text/plain": [
       "[       key source_record_id name route_id shape_id  month  year pt_array\n",
       " 0      NaN              NaN  NaN      NaN      NaN    NaN   NaN      NaN\n",
       " 1      NaN              NaN  NaN      NaN      NaN    NaN   NaN      NaN\n",
       " 2      NaN              NaN  NaN      NaN      NaN    NaN   NaN      NaN\n",
       " 3      NaN              NaN  NaN      NaN      NaN    NaN   NaN      NaN\n",
       " 4      NaN              NaN  NaN      NaN      NaN    NaN   NaN      NaN\n",
       " ...    ...              ...  ...      ...      ...    ...   ...      ...\n",
       " 11922  NaN              NaN  NaN      NaN      NaN    NaN   NaN      NaN\n",
       " 11923  NaN              NaN  NaN      NaN      NaN    NaN   NaN      NaN\n",
       " 11924  NaN              NaN  NaN      NaN      NaN    NaN   NaN      NaN\n",
       " 11925  NaN              NaN  NaN      NaN      NaN    NaN   NaN      NaN\n",
       " 11926  NaN              NaN  NaN      NaN      NaN    NaN   NaN      NaN\n",
       " \n",
       " [11927 rows x 8 columns]]"
      ]
     },
     "execution_count": 14,
     "metadata": {},
     "output_type": "execute_result"
    }
   ],
   "source": [
    "sub_dataframes"
   ]
  },
  {
   "cell_type": "code",
   "execution_count": null,
   "id": "82abf8d4-b157-453b-aa45-a91d4905f8bc",
   "metadata": {},
   "outputs": [],
   "source": []
  }
 ],
 "metadata": {
  "kernelspec": {
   "display_name": "Python 3 (ipykernel)",
   "language": "python",
   "name": "python3"
  },
  "language_info": {
   "codemirror_mode": {
    "name": "ipython",
    "version": 3
   },
   "file_extension": ".py",
   "mimetype": "text/x-python",
   "name": "python",
   "nbconvert_exporter": "python",
   "pygments_lexer": "ipython3",
   "version": "3.9.13"
  }
 },
 "nbformat": 4,
 "nbformat_minor": 5
}
