{
 "cells": [
  {
   "cell_type": "markdown",
   "id": "5c7cff4e-49cc-4d93-a498-140f3e970e67",
   "metadata": {},
   "source": [
    "# Transit service and speeds in CalEnviroScreen tracts\n",
    "\n",
    "* Use this as exploratory analysis to check aggregate transit service against RT segment speeds.\n",
    "* Note: aggregated monthly transit service hours are for Dec 2022, and RT segment speeds are for Jan 2023.\n",
    "\n",
    "\n",
    "#### Changes to `ad_hoc`\n",
    "* there isn't any `service_hours` aggregated for the month\n",
    "* there isn't any sense of how many days went into that `shape_id`"
   ]
  },
  {
   "cell_type": "code",
   "execution_count": null,
   "id": "3df5dbc5-942d-4962-89a0-238c1bf261f3",
   "metadata": {
    "tags": []
   },
   "outputs": [],
   "source": [
    "import altair as alt\n",
    "import dask.dataframe as dd\n",
    "import dask_geopandas as dg\n",
    "import geopandas as gpd\n",
    "import pandas as pd\n",
    "\n",
    "from calitp_data_analysis.tables import tbls\n",
    "from calitp_data_analysis.sql import query_sql\n",
    "from calitp_data_analysis.gcs_geopandas import GCSGeoPandas\n",
    "gcsgp = GCSGeoPandas()\n",
    "\n",
    "from shared_utils import portfolio_utils, rt_dates, v1_rt_dates, time_helpers, schedule_rt_utils\n",
    "from calitp_data_analysis import calitp_color_palette as cp\n",
    "from calitp_data_analysis import geography_utils, styleguide\n",
    "\n",
    "GCS_FILE_PATH = \"gs://calitp-analytics-data/data-analyses/\"\n",
    "BUS_SERVICE_GCS = f\"{GCS_FILE_PATH}bus_service_increase/\"\n",
    "SEGMENT_GCS = f\"{GCS_FILE_PATH}rt_segment_speeds/\"\n",
    "\n",
    "analysis_date = v1_rt_dates.v1_dates[\"jan2023\"]"
   ]
  },
  {
   "cell_type": "markdown",
   "id": "7ce364f6-def6-4b64-af51-22407585abf2",
   "metadata": {},
   "source": [
    "## Import data\n",
    "\n",
    "* CalEnviroScreen (equity) and LEHD (jobs) by census tract\n",
    "* Monthly GTFS scheduled transit service (`mart_ad_hoc.fct_scheduled_service_by_daypart`)\n",
    "* Speeds by 1 km segments "
   ]
  },
  {
   "cell_type": "markdown",
   "id": "beb6f87b-a083-4d59-9b2f-b40ff696ea37",
   "metadata": {},
   "source": [
    "### CalEnviroScreen tracts"
   ]
  },
  {
   "cell_type": "code",
   "execution_count": null,
   "id": "7f1c1963-0528-4af3-83cf-09d902202187",
   "metadata": {
    "tags": []
   },
   "outputs": [],
   "source": [
    "calenviroscreen_tracts = gcsgp.read_parquet(\n",
    "    f\"{BUS_SERVICE_GCS}calenviroscreen_lehd_by_tract.parquet\",\n",
    "    columns = [\"Tract\", \"overall_ptile\", \"geometry\"]\n",
    ").to_crs(geography_utils.WGS84)"
   ]
  },
  {
   "cell_type": "code",
   "execution_count": null,
   "id": "0f4a3f6c-c585-4698-a822-1f7b44b67c28",
   "metadata": {
    "tags": []
   },
   "outputs": [],
   "source": [
    "def set_equity_groups(row):\n",
    "    if (row.overall_ptile < 34):\n",
    "        return 1\n",
    "    elif (row.overall_ptile >= 34) and (row.overall_ptile < 67):\n",
    "        return 2\n",
    "    else:\n",
    "        return 3\n",
    "\n",
    "calenviroscreen_tracts = calenviroscreen_tracts.assign(\n",
    "    equity_group = calenviroscreen_tracts.apply(\n",
    "        lambda x: set_equity_groups(x), axis=1)\n",
    ")"
   ]
  },
  {
   "cell_type": "markdown",
   "id": "8322aa48-1e5d-4a6a-b276-3fbec7a8c179",
   "metadata": {},
   "source": [
    "### Monthly GTFS scheduled transit service\n",
    "\n",
    "Comes with `shape_id`, but we would still need to pick a day in that month to get the shape geometry.\n",
    "\n",
    "Instead, let's just aggregate up to route."
   ]
  },
  {
   "cell_type": "code",
   "execution_count": null,
   "id": "1f7d891f-4831-485e-891b-b63fb8523309",
   "metadata": {
    "tags": []
   },
   "outputs": [],
   "source": [
    "# query = '''\n",
    "#     SELECT * FROM cal-itp-data-infra.mart_ad_hoc.fct_scheduled_service_by_daypart\n",
    "#     WHERE year = 2022 AND month = 12\n",
    "# '''\n",
    "\n",
    "# monthly_transit_service = query_sql(query, as_df=True)\n",
    "# monthly_transit_service.to_parquet(\"./data/dec_service.parquet\")"
   ]
  },
  {
   "cell_type": "code",
   "execution_count": null,
   "id": "2e926f73-f1b5-438e-8fc9-578d1fa7a1d5",
   "metadata": {},
   "outputs": [],
   "source": [
    "monthly_transit_service = pd.read_parquet(\"./data/dec_service.parquet\")"
   ]
  },
  {
   "cell_type": "code",
   "execution_count": null,
   "id": "0b5a08d0-16e5-4e2d-9923-939104f02d37",
   "metadata": {},
   "outputs": [],
   "source": [
    "def categorize_peak_off_peak(row):\n",
    "    if row in [\"AM Peak\", \"PM Peak\"]:\n",
    "        return \"Peak\"\n",
    "    else:\n",
    "        return \"Off Peak\"\n",
    "\n",
    "def wrangle_monthly_service(df: pd.DataFrame):\n",
    "    \"\"\"\n",
    "    Categorize time-of-day by peak / off-peak.\n",
    "\n",
    "    Aggregate up to route-level and peak.\n",
    "    \"\"\"    \n",
    "    df = df.assign(\n",
    "        peak = df.time_of_day.apply(categorize_peak_off_peak)\n",
    "    )    \n",
    "    \n",
    "    by_route = portfolio_utils.aggregate_by_geography(\n",
    "        df,\n",
    "        group_cols = [\"name\", \"source_record_id\", \n",
    "                      \"route_id\", \"route_short_name\", \n",
    "                      \"peak\"\n",
    "                     ],\n",
    "        sum_cols = [\"n_trips\"]\n",
    "    )\n",
    "    \n",
    "    by_route = by_route.assign(\n",
    "        n_trips = by_route.n_trips.fillna(0).astype(int),\n",
    "    )\n",
    "    \n",
    "    return by_route"
   ]
  },
  {
   "cell_type": "code",
   "execution_count": null,
   "id": "aef7f9ed-3aa9-481d-b533-d1957c309635",
   "metadata": {},
   "outputs": [],
   "source": [
    "transit_service = wrangle_monthly_service(monthly_transit_service)"
   ]
  },
  {
   "cell_type": "markdown",
   "id": "60f7b266-4178-449f-8ddf-860159ac0681",
   "metadata": {},
   "source": [
    "### Speeds\n",
    "\n",
    "* First, use RT to determine a trip's time-of-day category. In the future, use scheduled data.\n",
    "* Get speeds by segment. Average speed by peak/off peak for same segment."
   ]
  },
  {
   "cell_type": "code",
   "execution_count": null,
   "id": "860c4091-996a-4b25-826a-2ba0551587dd",
   "metadata": {},
   "outputs": [],
   "source": [
    "def find_rt_trip_start_time(analysis_date: str):\n",
    "    \"\"\"\n",
    "    Find the earliest min_time by trip_id.\n",
    "    Use that timestamp to get time-of-day.\n",
    "    \"\"\"\n",
    "    speeds_by_trip = dd.read_parquet(\n",
    "        f\"{SEGMENT_GCS}speeds_route_segments_{analysis_date}/\",\n",
    "        columns = [\"gtfs_dataset_key\", \"trip_id\",\"min_time\"]\n",
    "    ).drop_duplicates()\n",
    "    \n",
    "    \n",
    "    trip_start_time = (speeds_by_trip\n",
    "                   .groupby([\"gtfs_dataset_key\", \"trip_id\"])\n",
    "                   .min_time\n",
    "                   .min()\n",
    "                   .reset_index()\n",
    "                   .compute()\n",
    "                  )\n",
    "\n",
    "    trip_start = schedule_rt_utils.localize_vp_timestamp(\n",
    "        trip_start_time, [\"min_time\"]\n",
    "    )\n",
    "    \n",
    "    trip_start = trip_start.assign(\n",
    "        time_of_day = trip_start.min_time_local.apply(\n",
    "            time_helpers.categorize_time_of_day)\n",
    "    )\n",
    "    \n",
    "    trip_start = trip_start.assign(\n",
    "        peak = trip_start.time_of_day.apply(categorize_peak_off_peak)\n",
    "    )\n",
    "    \n",
    "    return trip_start[[\"gtfs_dataset_key\", \"trip_id\", \"peak\"]]"
   ]
  },
  {
   "cell_type": "code",
   "execution_count": null,
   "id": "0c0f54b5-6c03-4d0c-8bb5-8c20ba940bca",
   "metadata": {},
   "outputs": [],
   "source": [
    "rt_trip_start = find_rt_trip_start_time(analysis_date)"
   ]
  },
  {
   "cell_type": "code",
   "execution_count": null,
   "id": "e5b9aab5-2325-41df-b7e3-d1b6d02c88f3",
   "metadata": {},
   "outputs": [],
   "source": [
    "speeds = dd.read_parquet(\n",
    "    f\"{SEGMENT_GCS}speeds_route_segments_{analysis_date}/\",\n",
    "    columns = [\"gtfs_dataset_key\", \"_gtfs_dataset_name\", \n",
    "               \"trip_id\",\n",
    "               \"route_dir_identifier\", \"segment_sequence\",\n",
    "               \"speed_mph\"]\n",
    ").astype({\"segment_sequence\": int})"
   ]
  },
  {
   "cell_type": "code",
   "execution_count": null,
   "id": "ac097f3e-5006-46e0-9eb1-f121f859cd6a",
   "metadata": {},
   "outputs": [],
   "source": [
    "# Merge in time-of-day category\n",
    "speeds_with_daytype = dd.merge(\n",
    "    speeds,\n",
    "    rt_trip_start,\n",
    "    on = [\"gtfs_dataset_key\", \"trip_id\"]\n",
    ")"
   ]
  },
  {
   "cell_type": "code",
   "execution_count": null,
   "id": "8b610c0a-e1e2-4bc3-9fa6-952f8dea7676",
   "metadata": {},
   "outputs": [],
   "source": [
    "# Find average speed for peak vs off peak for each segment\n",
    "avg_speeds_by_peak = portfolio_utils.aggregate_by_geography(\n",
    "    speeds_with_daytype.compute(),\n",
    "    group_cols = [\"gtfs_dataset_key\", \"_gtfs_dataset_name\",\n",
    "                  \"route_dir_identifier\", \"segment_sequence\", \n",
    "                  \"peak\"],\n",
    "    mean_cols = [\"speed_mph\"],\n",
    "    nunique_cols = [\"trip_id\"],\n",
    "    rename_cols = True\n",
    ")"
   ]
  },
  {
   "cell_type": "code",
   "execution_count": null,
   "id": "e03c8567-4c0d-4a4b-bdad-d2dd5cb454fc",
   "metadata": {},
   "outputs": [],
   "source": [
    "# Merge in route segment to get segment's line geom\n",
    "route_segments = gpd.read_parquet(\n",
    "    f\"{SEGMENT_GCS}longest_shape_segments_{analysis_date}.parquet\", \n",
    ").drop(columns = [\"feed_key\", \"longest_shape_id\"])\n",
    "\n",
    "speeds_by_segment = pd.merge(\n",
    "    route_segments,\n",
    "    avg_speeds_by_peak,\n",
    "    on = [\"gtfs_dataset_key\", \"route_dir_identifier\", \n",
    "          \"segment_sequence\"],\n",
    "    how = \"inner\",\n",
    ").to_crs(geography_utils.WGS84)"
   ]
  },
  {
   "cell_type": "code",
   "execution_count": null,
   "id": "4e61f66e-3b8a-4654-8c23-eeab40621529",
   "metadata": {},
   "outputs": [],
   "source": [
    "# Merge in aggregated transit service hours\n",
    "'''\n",
    "speeds_with_service_by_segment = pd.merge(\n",
    "    speeds_by_segment,\n",
    "    transit_service,\n",
    "    on = [\"name\", \"route_id\", \"peak\"],\n",
    "    how = \"inner\",\n",
    "    validate = \"1:1\"\n",
    ")\n",
    "'''"
   ]
  },
  {
   "cell_type": "markdown",
   "id": "dce99e96-0e5d-4cff-88b4-994da8ea851a",
   "metadata": {},
   "source": [
    "## Spatial Join segments to tracts"
   ]
  },
  {
   "cell_type": "code",
   "execution_count": null,
   "id": "509c76e4-489c-4ff1-9b44-27932a84392b",
   "metadata": {},
   "outputs": [],
   "source": [
    "segments_with_tract = gpd.sjoin(\n",
    "    speeds_by_segment,\n",
    "    calenviroscreen_tracts,\n",
    "    how = \"inner\",\n",
    "    predicate = \"intersects\"\n",
    ").drop(columns = \"index_right\")"
   ]
  },
  {
   "cell_type": "markdown",
   "id": "33729635-fe92-4af8-98e4-4af8ecbe82a1",
   "metadata": {},
   "source": [
    "## Aggregate speeds and trips by equity group"
   ]
  },
  {
   "cell_type": "code",
   "execution_count": null,
   "id": "b2199c81-f35f-4e41-a170-da9ca1d68ba1",
   "metadata": {},
   "outputs": [],
   "source": [
    "avg_speeds_by_equity = portfolio_utils.aggregate_by_geography(\n",
    "    segments_with_tract,\n",
    "    group_cols = [\"equity_group\", \"peak\"],\n",
    "    sum_cols = [\"trip_id_nunique\"],\n",
    "    mean_cols = [\"speed_mph_mean\"],\n",
    "    nunique_cols = [\"route_id\"]\n",
    ")\n",
    "\n",
    "avg_speeds_by_equity = avg_speeds_by_equity.assign(\n",
    "    speed_mph_mean = avg_speeds_by_equity.speed_mph_mean.round(1)\n",
    ")"
   ]
  },
  {
   "cell_type": "markdown",
   "id": "5dcac022-ea6e-4043-8c53-0662c4b243b8",
   "metadata": {},
   "source": [
    "## Visualizations"
   ]
  },
  {
   "cell_type": "code",
   "execution_count": null,
   "id": "5e0d91ec-eddb-4093-8bb3-5eb0bf5fbe3b",
   "metadata": {},
   "outputs": [],
   "source": [
    "chart = (alt.Chart(avg_speeds_by_equity)\n",
    "         .mark_bar()\n",
    "         .encode(\n",
    "             x = alt.X(\"equity_group:O\", title=\"Equity Group\"),\n",
    "             y = alt.Y(\"speed_mph_mean:Q\", title=\"Avg Speed\"),\n",
    "             column = alt.Column(\"peak:N\"),\n",
    "             color = alt.Color(\"equity_group:O\", \n",
    "                               scale = alt.Scale(\n",
    "                                   range=cp.CALITP_CATEGORY_BOLD_COLORS)\n",
    "                              ),\n",
    "             tooltip = [\"equity_group\", \"speed_mph_mean\", \"peak\"]\n",
    "         ).properties(\n",
    "             title=\"Avg Speeds by Equity Group\", width=150\n",
    "         ).interactive()\n",
    ")\n",
    "\n",
    "chart"
   ]
  },
  {
   "cell_type": "code",
   "execution_count": null,
   "id": "f84f3ac3-1108-4821-948c-2b3a40e55a2d",
   "metadata": {},
   "outputs": [],
   "source": [
    "chart2 = (alt.Chart(avg_speeds_by_equity)\n",
    "         .mark_bar()\n",
    "         .encode(\n",
    "             x = alt.X(\"equity_group:O\", title=\"Equity Group\"),\n",
    "             y = alt.Y(\"trip_id_nunique:Q\", title=\"# Trips\"),\n",
    "             column = alt.Column(\"peak:N\"),\n",
    "             color = alt.Color(\"equity_group:O\", \n",
    "                               scale = alt.Scale(\n",
    "                                   range=cp.CALITP_CATEGORY_BRIGHT_COLORS)\n",
    "                              ),\n",
    "             tooltip = [\"equity_group\", \"trip_id_nunique\", \"peak\"]\n",
    "         ).properties(\n",
    "             title=\"Trips by Equity Group\", width=150\n",
    "         ).interactive()\n",
    ")\n",
    "\n",
    "chart2"
   ]
  },
  {
   "cell_type": "code",
   "execution_count": null,
   "id": "79391ca4-0e97-44e8-9cfb-295c97b673f0",
   "metadata": {},
   "outputs": [],
   "source": []
  }
 ],
 "metadata": {
  "kernelspec": {
   "display_name": "Python 3 (ipykernel)",
   "language": "python",
   "name": "python3"
  },
  "language_info": {
   "codemirror_mode": {
    "name": "ipython",
    "version": 3
   },
   "file_extension": ".py",
   "mimetype": "text/x-python",
   "name": "python",
   "nbconvert_exporter": "python",
   "pygments_lexer": "ipython3",
   "version": "3.11.10"
  },
  "widgets": {
   "application/vnd.jupyter.widget-state+json": {
    "state": {},
    "version_major": 2,
    "version_minor": 0
   }
  }
 },
 "nbformat": 4,
 "nbformat_minor": 5
}
