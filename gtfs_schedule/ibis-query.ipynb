{
 "cells": [
  {
   "cell_type": "markdown",
   "id": "66ed903a-8709-4aa7-b48f-3478a00369f8",
   "metadata": {},
   "source": [
    "# Use ibis\n",
    "\n",
    "https://www.twosigma.com/articles/ibis-and-bigquery-scalable-analytics-with-the-comfort-of-python/"
   ]
  },
  {
   "cell_type": "code",
   "execution_count": null,
   "id": "5332a504-20c2-44d8-b6f5-7f7fdd4c9ec1",
   "metadata": {},
   "outputs": [],
   "source": [
    "import pandas as pd\n",
    "import ibis\n",
    "import ibis_bigquery\n",
    "\n",
    "PROJECT = \"cal-itp-data-infra-staging\""
   ]
  },
  {
   "cell_type": "code",
   "execution_count": null,
   "id": "feb59e41-14c1-488d-8fbe-7c758fa5eff1",
   "metadata": {},
   "outputs": [],
   "source": [
    "conn = ibis_bigquery.connect(\n",
    "    project_id=PROJECT,\n",
    "    dataset_id = 'views'\n",
    ")\n",
    "\n",
    "table = conn.table(\"gtfs_agency_names\")"
   ]
  },
  {
   "cell_type": "code",
   "execution_count": null,
   "id": "7531eab6-9806-4d36-94c6-1722561b4666",
   "metadata": {},
   "outputs": [],
   "source": [
    "table"
   ]
  },
  {
   "cell_type": "code",
   "execution_count": null,
   "id": "2408a552-d129-4785-88de-64261e7704a5",
   "metadata": {},
   "outputs": [],
   "source": [
    "table[table.calitp_itp_id.isin([182, 183])].execute()"
   ]
  },
  {
   "cell_type": "code",
   "execution_count": null,
   "id": "7e6ea143-d4d2-4f22-a912-e54d3cb850d6",
   "metadata": {},
   "outputs": [],
   "source": [
    "#table.execute??\n",
    "table.compile()"
   ]
  },
  {
   "cell_type": "code",
   "execution_count": null,
   "id": "2a279718-4368-4f8e-8f53-3ce1f3f3c645",
   "metadata": {},
   "outputs": [],
   "source": [
    "print(table[table.calitp_itp_id.isin([182, 183])].compile())"
   ]
  },
  {
   "cell_type": "code",
   "execution_count": null,
   "id": "22c15d1a-ca09-47ac-9d5f-07e7f7b322e1",
   "metadata": {},
   "outputs": [],
   "source": []
  },
  {
   "cell_type": "code",
   "execution_count": null,
   "id": "c1f99be0-7460-493d-a20e-da954f8bb4dc",
   "metadata": {},
   "outputs": [],
   "source": [
    "# Use ibis\n",
    "#catalog = intake_civis.open_postgres_catalog()\n",
    "#expr = catalog.public.import311.to_ibis()\n",
    "\n",
    "refuse_pickup = ['Bulky Items', 'Electronic Waste', \n",
    "                'Metal/Household Applicances', 'Illegal Dumping Pickup', \n",
    "                'Illegal Dumping in Progress', 'Service Not Complete']\n",
    "\n",
    "street_repair = ['Barricade Removal', 'Bus Pad/Landing', 'Curb Repair', \n",
    "                 'Flooding', 'General Street Inspection', 'Guard/Warning Rail Maintenance',  \n",
    "                 'Gutter Repair', 'Land/Mud Slide',  'Pothole - Small Asphalt Repair', \n",
    "                 'Resurfacing', 'Sidewalk Repair', 'Street Sweeping']\n",
    "\n",
    "trees_vegetation = ['Bees or Beehive', 'Median Island Maintenance', \n",
    "                    'Overgrown Vegetation/Plants', 'Palm Fronds Down',\n",
    "                    'Street Tree Inspection', 'Street Tree Violations', \n",
    "                    'Tree Emergency', 'Tree Obstruction', 'Tree Permits', \n",
    "                    'Weed Abatement for Pvt Parcels']\n",
    "\n",
    "investigation = ['News Rack Violation', 'Obstructions', 'Tables and Chairs Obstructing']\n",
    "\n",
    "cols = ['srnumber', 'createddate', 'requesttype', 'status', 'servicedate',\n",
    "        'closeddate', 'latitude', 'longitude', 'cd', 'ncname']\n",
    "\n",
    "\n",
    "def query_and_execute(query_expression, subset_request, cols):\n",
    "    # Subset by request type and columns\n",
    "    df_query = query_expression[\n",
    "                query_expression.requesttype.isin(subset_request)][cols]\n",
    "\n",
    "    df_query = fix_dates(df_query)\n",
    "    \n",
    "    df = df_query.execute(limit=None)\n",
    "\n",
    "    return df\n",
    "\n",
    "def fix_dates(df_query):\n",
    "    # Fix dates\n",
    "    datecols = [\"createddate\", \"closeddate\", \"servicedate\"]\n",
    "\n",
    "    # Filter to non-future dates and cast to string (shapefile can't handle datetime)\n",
    "    df_query = df_query[\n",
    "                reduce(lambda x,y: x & y, [df_query[c] < ibis.now() for c in datecols])\n",
    "            ].mutate(\n",
    "                **{c: df_query[c].cast(\"string\") for c in datecols}\n",
    "            )\n",
    "    \n",
    "    return df_query"
   ]
  },
  {
   "cell_type": "code",
   "execution_count": null,
   "id": "f9849598-5308-433a-ac46-a83c8eaffe59",
   "metadata": {},
   "outputs": [],
   "source": [
    "street = query_and_execute(expr, street_repair, cols)\n",
    "tree = query_and_execute(expr, trees_vegetation, cols)\n",
    "investigate = query_and_execute(expr, investigation, cols)\n",
    "\n",
    "bulky_query = expr[expr.requesttype.isin(refuse_pickup)][cols]\n",
    "bulky_query = fix_dates(bulky_query)\n",
    "\n",
    "bulky1_query = bulky_query[bulky_query.createddate.cast('date') < '2018-01-01']\n",
    "bulky1 = bulky1_query.execute(limit=None)\n",
    "\n",
    "bulky2_query = bulky_query[bulky_query.createddate.cast('date') >= '2018-01-01']\n",
    "bulky2 = bulky2_query.execute(limit=None)\n",
    "\n",
    "print(\"Execute queries\")"
   ]
  },
  {
   "cell_type": "code",
   "execution_count": null,
   "id": "cefbf50f-8f7f-49bd-98df-867eacf4617b",
   "metadata": {},
   "outputs": [],
   "source": [
    "def light_cleaning(df, category_name):\n",
    "\n",
    "    df = (\n",
    "        df.assign(\n",
    "            Category = category_name,\n",
    "            Year = pd.to_datetime(df.createddate, errors = \"coerce\").dt.year,\n",
    "            createddate = pd.to_datetime(df.createddate, errors = \"coerce\").dt.date,\n",
    "            servicedate = pd.to_datetime(df.servicedate, errors = \"coerce\").dt.date,\n",
    "        ).rename(columns = {\n",
    "            'srnumber': 'SRNumber',\n",
    "            'createddate': 'CreatedDate',\n",
    "            'requesttype': 'RequestType',\n",
    "            'status': 'Status',\n",
    "            'servicedate': 'ServiceDate',\n",
    "            'closeddate': 'ClosedDate',\n",
    "            'cd': 'CD', \n",
    "            'ncname': 'NCName',\n",
    "        })\n",
    "    )\n",
    "\n",
    "    col_order= ['SRNumber', 'Category', 'RequestType', 'Status', \n",
    "                 'Year', 'CreatedDate', 'ServiceDate', \n",
    "                'CD', 'NCName', 'longitude', 'latitude']\n",
    "                \n",
    "    df = (df.reindex(columns = col_order)\n",
    "           .sort_values('SRNumber')\n",
    "           .reset_index(drop=True))\n",
    "    \n",
    "    return df\n",
    "\n",
    "\n",
    "# Do some light cleaning\n",
    "dataframes = {}\n",
    "\n",
    "street = light_cleaning(street, \"bulky\")\n",
    "tree = light_cleaning(tree, \"tree\")\n",
    "new_street = (street.append(tree, sort=False)\n",
    "              .sort_values(\"SRNumber\")\n",
    "              .reset_index(drop=True)\n",
    "              )\n",
    "\n",
    "dataframes[\"street\"] = new_street\n",
    "dataframes[\"investigate\"] = light_cleaning(investigate, \"investigate\")\n",
    "dataframes[\"bulky2015\"] = light_cleaning(bulky1, \"bulky\")\n",
    "dataframes[\"bulky2018\"] = light_cleaning(bulky2, \"bulky\")\n",
    "\n",
    "print(\"Finish cleaning\")"
   ]
  },
  {
   "cell_type": "code",
   "execution_count": null,
   "id": "79cd5399-efd6-4498-9e9c-f51da2b94200",
   "metadata": {},
   "outputs": [],
   "source": [
    "for key, value in dataframes.items():\n",
    "    print(key)\n",
    "    value.to_parquet(f'{s3_file_path}service_requests_{key}.parquet', \n",
    "            allow_truncated_timestamps=True) \n",
    "    print(f\"Upload {key} to S3\")"
   ]
  }
 ],
 "metadata": {
  "kernelspec": {
   "display_name": "Python 3 (ipykernel)",
   "language": "python",
   "name": "python3"
  },
  "language_info": {
   "codemirror_mode": {
    "name": "ipython",
    "version": 3
   },
   "file_extension": ".py",
   "mimetype": "text/x-python",
   "name": "python",
   "nbconvert_exporter": "python",
   "pygments_lexer": "ipython3",
   "version": "3.9.13"
  }
 },
 "nbformat": 4,
 "nbformat_minor": 5
}
