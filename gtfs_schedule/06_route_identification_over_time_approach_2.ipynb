{
 "cells": [
  {
   "cell_type": "markdown",
   "id": "8b7804a6-16e9-4991-abfd-9574544e0d60",
   "metadata": {},
   "source": [
    "# Route Identification Over Time, Approach 2\n",
    "See `05_route_identification_over_time.ipynb` for previous work.\n",
    "<br>Determined that more data is needed than what is given from `fct_monthly_routes`. exploring using `dim_routes` to get feed_key, route short/long name/id/desc and other. \n",
    "<br>Cannot rely on feed_key as it is unstable over time. Next best is gtfs_schedule key, but absolute best is source_record_id.\n",
    "<br>Start with running `make install_env` to install everything needed. `helpers`,`rt_dates`,`sched_gcs`\n",
    "<br>Query data from warehouse, then use this snippet from `make_routes_gdf` from `geography_utils`.\n",
    "* ddf[\"geometry\"] = ddf.pt_array.apply(make_linestring)\n",
    "    \n",
    "<br> then save out as geo parquet to the `gtfs_schedule` folder in GCS (so versioning and history stays) using \n",
    "* utils.geoparquet_gcs_export(\n",
    "                vp_gdf,\n",
    "                SEGMENT_GCS,\n",
    "                f\"vp_{analysis_date}\"\n",
    "            )\n",
    "\n",
    "<br>also add `route_long_name` to query. then see if we are able to see any changes in routes via:\n",
    "* feed key\n",
    "* name\n",
    "* route id\n",
    "* route short name\n",
    "* route long name\n",
    "* route desc\n",
    "    "
   ]
  },
  {
   "cell_type": "code",
   "execution_count": 1,
   "id": "19f7db52-cba6-4c37-8b84-c23ee26d3ed0",
   "metadata": {},
   "outputs": [
    {
     "name": "stderr",
     "output_type": "stream",
     "text": [
      "/opt/conda/lib/python3.9/site-packages/google/auth/_default.py:78: UserWarning: Your application has authenticated using end user credentials from Google Cloud SDK without a quota project. You might receive a \"quota exceeded\" or \"API not enabled\" error. See the following page for troubleshooting: https://cloud.google.com/docs/authentication/adc-troubleshooting/user-creds. \n",
      "  warnings.warn(_CLOUD_SDK_CREDENTIALS_WARNING)\n",
      "/opt/conda/lib/python3.9/site-packages/google/auth/_default.py:78: UserWarning: Your application has authenticated using end user credentials from Google Cloud SDK without a quota project. You might receive a \"quota exceeded\" or \"API not enabled\" error. See the following page for troubleshooting: https://cloud.google.com/docs/authentication/adc-troubleshooting/user-creds. \n",
      "  warnings.warn(_CLOUD_SDK_CREDENTIALS_WARNING)\n",
      "/opt/conda/lib/python3.9/site-packages/google/auth/_default.py:78: UserWarning: Your application has authenticated using end user credentials from Google Cloud SDK without a quota project. You might receive a \"quota exceeded\" or \"API not enabled\" error. See the following page for troubleshooting: https://cloud.google.com/docs/authentication/adc-troubleshooting/user-creds. \n",
      "  warnings.warn(_CLOUD_SDK_CREDENTIALS_WARNING)\n"
     ]
    }
   ],
   "source": [
    "import pandas as pd\n",
    "from segment_speed_utils import helpers\n",
    "from segment_speed_utils.project_vars import SCHED_GCS\n",
    "from shared_utils import rt_dates"
   ]
  },
  {
   "cell_type": "code",
   "execution_count": 50,
   "id": "e58b7202-e43e-443e-ab1a-c3cd16b65d33",
   "metadata": {},
   "outputs": [],
   "source": [
    "sep_date = rt_dates.DATES[\"sep2023\"]\n",
    "aug_date = rt_dates.DATES[\"aug2023\"]\n",
    "\n",
    "# grabbing additional dates\n",
    "april_date = rt_dates.DATES[\"apr2023\"]\n",
    "may_date = rt_dates.DATES[\"may2023\"]\n",
    "june_date = rt_dates.DATES[\"jun2023\"]\n",
    "july_date = rt_dates.DATES[\"jul2023\"]"
   ]
  },
  {
   "cell_type": "code",
   "execution_count": 52,
   "id": "b1d9e303-fa2f-4039-9eb8-4e3a0037db21",
   "metadata": {},
   "outputs": [],
   "source": [
    "# list of all the months\n",
    "months_list = [sep_date, aug_date, april_date, may_date, june_date, july_date]"
   ]
  },
  {
   "cell_type": "code",
   "execution_count": 53,
   "id": "9f90fb5c-f238-4a32-a3e5-bcc08991ad5e",
   "metadata": {},
   "outputs": [
    {
     "data": {
      "text/plain": [
       "['2023-09-13',\n",
       " '2023-08-15',\n",
       " '2023-04-12',\n",
       " '2023-05-17',\n",
       " '2023-06-14',\n",
       " '2023-07-12']"
      ]
     },
     "execution_count": 53,
     "metadata": {},
     "output_type": "execute_result"
    }
   ],
   "source": [
    "months_list"
   ]
  },
  {
   "cell_type": "code",
   "execution_count": 54,
   "id": "ead3240f-e98d-4916-90ea-1c16b9d3a644",
   "metadata": {},
   "outputs": [],
   "source": [
    "# test loop of import_scheduled_trips, iterated through months_list\n",
    "\n",
    "# empty list\n",
    "month_trips = {}\n",
    "\n",
    "for months in months_list:\n",
    "    df = helpers.import_scheduled_trips(\n",
    "        months,\n",
    "        columns=[\n",
    "            \"feed_key\",\n",
    "            \"name\",\n",
    "            \"gtfs_dataset_key\",\n",
    "            \"route_id\",\n",
    "            \"route_short_name\",\n",
    "            \"route_long_name\",\n",
    "            \"route_desc\",\n",
    "        ],\n",
    "        filters=[[(\"name\", \"==\", \"Sacramento Schedule\")]],\n",
    "        get_pandas=True,\n",
    "    )\n",
    "    month_trips[months] = df"
   ]
  },
  {
   "cell_type": "code",
   "execution_count": 55,
   "id": "52e07e41-41ee-4bdd-9fc7-bb4244f55e0d",
   "metadata": {},
   "outputs": [
    {
     "data": {
      "text/plain": [
       "dict_keys(['2023-09-13', '2023-08-15', '2023-04-12', '2023-05-17', '2023-06-14', '2023-07-12'])"
      ]
     },
     "execution_count": 55,
     "metadata": {},
     "output_type": "execute_result"
    }
   ],
   "source": [
    "month_trips.keys()"
   ]
  },
  {
   "cell_type": "code",
   "execution_count": 56,
   "id": "b85dade9-90c2-470f-a737-88772dabeaf9",
   "metadata": {},
   "outputs": [],
   "source": [
    "april = month_trips['2023-04-12']\n",
    "may = month_trips['2023-05-17']\n",
    "june = month_trips['2023-06-14']\n",
    "july = month_trips['2023-07-12']\n",
    "aug = month_trips['2023-08-15']\n",
    "sep = month_trips['2023-09-13']"
   ]
  },
  {
   "cell_type": "code",
   "execution_count": null,
   "id": "80cc82e3-f0d0-475a-96a9-d6a87d30a6cd",
   "metadata": {},
   "outputs": [],
   "source": [
    "# use this pseudo code to concat all the different months data\n",
    "# pd.concat can stack DFs on top of others.\n",
    "# pd.concat([df1, df2], axis=0)"
   ]
  },
  {
   "cell_type": "code",
   "execution_count": 57,
   "id": "9c7ea7ad-8069-4c06-b44b-935617dfba4e",
   "metadata": {},
   "outputs": [],
   "source": [
    "#test to see if i can use a dictionary in concat\n",
    "all_trips = pd.concat([april,may,june,july,aug,sep],axis=0)"
   ]
  },
  {
   "cell_type": "code",
   "execution_count": 58,
   "id": "12c9888a-b2ee-4dd7-9b15-a871365eb3ad",
   "metadata": {},
   "outputs": [
    {
     "data": {
      "text/html": [
       "<div>\n",
       "<style scoped>\n",
       "    .dataframe tbody tr th:only-of-type {\n",
       "        vertical-align: middle;\n",
       "    }\n",
       "\n",
       "    .dataframe tbody tr th {\n",
       "        vertical-align: top;\n",
       "    }\n",
       "\n",
       "    .dataframe thead th {\n",
       "        text-align: right;\n",
       "    }\n",
       "</style>\n",
       "<table border=\"1\" class=\"dataframe\">\n",
       "  <thead>\n",
       "    <tr style=\"text-align: right;\">\n",
       "      <th></th>\n",
       "      <th>feed_key</th>\n",
       "      <th>name</th>\n",
       "      <th>schedule_gtfs_dataset_key</th>\n",
       "      <th>route_id</th>\n",
       "      <th>route_short_name</th>\n",
       "      <th>route_long_name</th>\n",
       "      <th>route_desc</th>\n",
       "    </tr>\n",
       "  </thead>\n",
       "  <tbody>\n",
       "    <tr>\n",
       "      <th>0</th>\n",
       "      <td>55c36112e9a6a849c0ddc65eb54de7f1</td>\n",
       "      <td>Sacramento Schedule</td>\n",
       "      <td>43a1e46d592a1ee647bce8422c68460c</td>\n",
       "      <td>001</td>\n",
       "      <td>1</td>\n",
       "      <td>GREENBACK</td>\n",
       "      <td>None</td>\n",
       "    </tr>\n",
       "    <tr>\n",
       "      <th>1</th>\n",
       "      <td>55c36112e9a6a849c0ddc65eb54de7f1</td>\n",
       "      <td>Sacramento Schedule</td>\n",
       "      <td>43a1e46d592a1ee647bce8422c68460c</td>\n",
       "      <td>011</td>\n",
       "      <td>11</td>\n",
       "      <td>NATOMAS/LAND PARK</td>\n",
       "      <td>None</td>\n",
       "    </tr>\n",
       "    <tr>\n",
       "      <th>2</th>\n",
       "      <td>55c36112e9a6a849c0ddc65eb54de7f1</td>\n",
       "      <td>Sacramento Schedule</td>\n",
       "      <td>43a1e46d592a1ee647bce8422c68460c</td>\n",
       "      <td>013</td>\n",
       "      <td>13</td>\n",
       "      <td>NATOMAS/ARDEN</td>\n",
       "      <td>None</td>\n",
       "    </tr>\n",
       "    <tr>\n",
       "      <th>3</th>\n",
       "      <td>55c36112e9a6a849c0ddc65eb54de7f1</td>\n",
       "      <td>Sacramento Schedule</td>\n",
       "      <td>43a1e46d592a1ee647bce8422c68460c</td>\n",
       "      <td>015</td>\n",
       "      <td>15</td>\n",
       "      <td>DEL PASO HEIGHTS</td>\n",
       "      <td>None</td>\n",
       "    </tr>\n",
       "    <tr>\n",
       "      <th>4</th>\n",
       "      <td>55c36112e9a6a849c0ddc65eb54de7f1</td>\n",
       "      <td>Sacramento Schedule</td>\n",
       "      <td>43a1e46d592a1ee647bce8422c68460c</td>\n",
       "      <td>019</td>\n",
       "      <td>19</td>\n",
       "      <td>RIO LINDA</td>\n",
       "      <td>None</td>\n",
       "    </tr>\n",
       "    <tr>\n",
       "      <th>...</th>\n",
       "      <td>...</td>\n",
       "      <td>...</td>\n",
       "      <td>...</td>\n",
       "      <td>...</td>\n",
       "      <td>...</td>\n",
       "      <td>...</td>\n",
       "      <td>...</td>\n",
       "    </tr>\n",
       "    <tr>\n",
       "      <th>61</th>\n",
       "      <td>294252b3b4b42fbb31a31ce184fcb3f5</td>\n",
       "      <td>Sacramento Schedule</td>\n",
       "      <td>cb3074eb8b423dfc5acfeeb0de95eb82</td>\n",
       "      <td>227</td>\n",
       "      <td>227</td>\n",
       "      <td>SOUTH LAND PARK - GREENHAVEN DR</td>\n",
       "      <td>None</td>\n",
       "    </tr>\n",
       "    <tr>\n",
       "      <th>62</th>\n",
       "      <td>294252b3b4b42fbb31a31ce184fcb3f5</td>\n",
       "      <td>Sacramento Schedule</td>\n",
       "      <td>cb3074eb8b423dfc5acfeeb0de95eb82</td>\n",
       "      <td>228</td>\n",
       "      <td>228</td>\n",
       "      <td>GLORIA DR - RUSH RIVER DR</td>\n",
       "      <td>None</td>\n",
       "    </tr>\n",
       "    <tr>\n",
       "      <th>63</th>\n",
       "      <td>294252b3b4b42fbb31a31ce184fcb3f5</td>\n",
       "      <td>Sacramento Schedule</td>\n",
       "      <td>cb3074eb8b423dfc5acfeeb0de95eb82</td>\n",
       "      <td>247</td>\n",
       "      <td>247</td>\n",
       "      <td>21ST ST - FLORIN RD</td>\n",
       "      <td>None</td>\n",
       "    </tr>\n",
       "    <tr>\n",
       "      <th>64</th>\n",
       "      <td>294252b3b4b42fbb31a31ce184fcb3f5</td>\n",
       "      <td>Sacramento Schedule</td>\n",
       "      <td>cb3074eb8b423dfc5acfeeb0de95eb82</td>\n",
       "      <td>252</td>\n",
       "      <td>252</td>\n",
       "      <td>FREEPORT - FRUITRIDGE - ML KING</td>\n",
       "      <td>None</td>\n",
       "    </tr>\n",
       "    <tr>\n",
       "      <th>65</th>\n",
       "      <td>294252b3b4b42fbb31a31ce184fcb3f5</td>\n",
       "      <td>Sacramento Schedule</td>\n",
       "      <td>cb3074eb8b423dfc5acfeeb0de95eb82</td>\n",
       "      <td>255</td>\n",
       "      <td>255</td>\n",
       "      <td>LA RIVIERA - COLLEGE GREENS</td>\n",
       "      <td>None</td>\n",
       "    </tr>\n",
       "  </tbody>\n",
       "</table>\n",
       "<p>326 rows × 7 columns</p>\n",
       "</div>"
      ],
      "text/plain": [
       "                            feed_key                 name  \\\n",
       "0   55c36112e9a6a849c0ddc65eb54de7f1  Sacramento Schedule   \n",
       "1   55c36112e9a6a849c0ddc65eb54de7f1  Sacramento Schedule   \n",
       "2   55c36112e9a6a849c0ddc65eb54de7f1  Sacramento Schedule   \n",
       "3   55c36112e9a6a849c0ddc65eb54de7f1  Sacramento Schedule   \n",
       "4   55c36112e9a6a849c0ddc65eb54de7f1  Sacramento Schedule   \n",
       "..                               ...                  ...   \n",
       "61  294252b3b4b42fbb31a31ce184fcb3f5  Sacramento Schedule   \n",
       "62  294252b3b4b42fbb31a31ce184fcb3f5  Sacramento Schedule   \n",
       "63  294252b3b4b42fbb31a31ce184fcb3f5  Sacramento Schedule   \n",
       "64  294252b3b4b42fbb31a31ce184fcb3f5  Sacramento Schedule   \n",
       "65  294252b3b4b42fbb31a31ce184fcb3f5  Sacramento Schedule   \n",
       "\n",
       "           schedule_gtfs_dataset_key route_id route_short_name  \\\n",
       "0   43a1e46d592a1ee647bce8422c68460c      001                1   \n",
       "1   43a1e46d592a1ee647bce8422c68460c      011               11   \n",
       "2   43a1e46d592a1ee647bce8422c68460c      013               13   \n",
       "3   43a1e46d592a1ee647bce8422c68460c      015               15   \n",
       "4   43a1e46d592a1ee647bce8422c68460c      019               19   \n",
       "..                               ...      ...              ...   \n",
       "61  cb3074eb8b423dfc5acfeeb0de95eb82      227              227   \n",
       "62  cb3074eb8b423dfc5acfeeb0de95eb82      228              228   \n",
       "63  cb3074eb8b423dfc5acfeeb0de95eb82      247              247   \n",
       "64  cb3074eb8b423dfc5acfeeb0de95eb82      252              252   \n",
       "65  cb3074eb8b423dfc5acfeeb0de95eb82      255              255   \n",
       "\n",
       "                    route_long_name route_desc  \n",
       "0                         GREENBACK       None  \n",
       "1                 NATOMAS/LAND PARK       None  \n",
       "2                     NATOMAS/ARDEN       None  \n",
       "3                  DEL PASO HEIGHTS       None  \n",
       "4                         RIO LINDA       None  \n",
       "..                              ...        ...  \n",
       "61  SOUTH LAND PARK - GREENHAVEN DR       None  \n",
       "62        GLORIA DR - RUSH RIVER DR       None  \n",
       "63              21ST ST - FLORIN RD       None  \n",
       "64  FREEPORT - FRUITRIDGE - ML KING       None  \n",
       "65      LA RIVIERA - COLLEGE GREENS       None  \n",
       "\n",
       "[326 rows x 7 columns]"
      ]
     },
     "execution_count": 58,
     "metadata": {},
     "output_type": "execute_result"
    }
   ],
   "source": [
    "all_trips"
   ]
  },
  {
   "cell_type": "code",
   "execution_count": null,
   "id": "b1029f70-fba9-4896-83ca-19f4397a444a",
   "metadata": {},
   "outputs": [],
   "source": []
  }
 ],
 "metadata": {
  "kernelspec": {
   "display_name": "Python 3 (ipykernel)",
   "language": "python",
   "name": "python3"
  },
  "language_info": {
   "codemirror_mode": {
    "name": "ipython",
    "version": 3
   },
   "file_extension": ".py",
   "mimetype": "text/x-python",
   "name": "python",
   "nbconvert_exporter": "python",
   "pygments_lexer": "ipython3",
   "version": "3.9.13"
  }
 },
 "nbformat": 4,
 "nbformat_minor": 5
}
