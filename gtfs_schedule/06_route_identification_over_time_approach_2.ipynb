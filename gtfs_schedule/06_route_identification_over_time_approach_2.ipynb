{
 "cells": [
  {
   "cell_type": "markdown",
   "id": "8b7804a6-16e9-4991-abfd-9574544e0d60",
   "metadata": {},
   "source": [
    "# Route Identification Over Time, Approach 2\n",
    "See `05_route_identification_over_time.ipynb` for previous work.\n",
    "<br>Determined that more data is needed than what is given from `fct_monthly_routes`. exploring using `dim_routes` to get feed_key, route short/long name/id/desc and other. \n",
    "<br>Cannot rely on feed_key as it is unstable over time. Next best is gtfs_schedule key, but absolute best is source_record_id.\n",
    "<br>Start with running `make install_env` to install everything needed. `helpers`,`rt_dates`,`sched_gcs`\n",
    "<br>Query data from warehouse, then use this snippet from `make_routes_gdf` from `geography_utils`.\n",
    "* ddf[\"geometry\"] = ddf.pt_array.apply(make_linestring)\n",
    "    \n",
    "<br> then save out as geo parquet to the `gtfs_schedule` folder in GCS (so versioning and history stays) using \n",
    "* utils.geoparquet_gcs_export(\n",
    "                vp_gdf,\n",
    "                SEGMENT_GCS,\n",
    "                f\"vp_{analysis_date}\"\n",
    "            )\n",
    "\n",
    "<br>also add `route_long_name` to query. then see if we are able to see any changes in routes via:\n",
    "* feed key\n",
    "* name\n",
    "* route id\n",
    "* route short name\n",
    "* route long name\n",
    "* route desc\n",
    "    "
   ]
  },
  {
   "cell_type": "code",
   "execution_count": 4,
   "id": "19f7db52-cba6-4c37-8b84-c23ee26d3ed0",
   "metadata": {},
   "outputs": [
    {
     "name": "stderr",
     "output_type": "stream",
     "text": [
      "/opt/conda/lib/python3.9/site-packages/google/auth/_default.py:78: UserWarning: Your application has authenticated using end user credentials from Google Cloud SDK without a quota project. You might receive a \"quota exceeded\" or \"API not enabled\" error. See the following page for troubleshooting: https://cloud.google.com/docs/authentication/adc-troubleshooting/user-creds. \n",
      "  warnings.warn(_CLOUD_SDK_CREDENTIALS_WARNING)\n",
      "/opt/conda/lib/python3.9/site-packages/google/auth/_default.py:78: UserWarning: Your application has authenticated using end user credentials from Google Cloud SDK without a quota project. You might receive a \"quota exceeded\" or \"API not enabled\" error. See the following page for troubleshooting: https://cloud.google.com/docs/authentication/adc-troubleshooting/user-creds. \n",
      "  warnings.warn(_CLOUD_SDK_CREDENTIALS_WARNING)\n",
      "/opt/conda/lib/python3.9/site-packages/google/auth/_default.py:78: UserWarning: Your application has authenticated using end user credentials from Google Cloud SDK without a quota project. You might receive a \"quota exceeded\" or \"API not enabled\" error. See the following page for troubleshooting: https://cloud.google.com/docs/authentication/adc-troubleshooting/user-creds. \n",
      "  warnings.warn(_CLOUD_SDK_CREDENTIALS_WARNING)\n"
     ]
    }
   ],
   "source": [
    "import pandas as pd\n",
    "from segment_speed_utils import helpers\n",
    "from segment_speed_utils.project_vars import SCHED_GCS\n",
    "from shared_utils import rt_dates"
   ]
  },
  {
   "cell_type": "code",
   "execution_count": 5,
   "id": "e58b7202-e43e-443e-ab1a-c3cd16b65d33",
   "metadata": {},
   "outputs": [],
   "source": [
    "sep_date = rt_dates.DATES[\"sep2023\"]\n",
    "aug_date = rt_dates.DATES[\"aug2023\"]\n",
    "\n",
    "# grabbing additional dates\n",
    "april_date = rt_dates.DATES[\"apr2023\"]\n",
    "may_date = rt_dates.DATES[\"may2023\"]\n",
    "june_date = rt_dates.DATES[\"jun2023\"]\n",
    "july_date = rt_dates.DATES[\"jul2023\"]"
   ]
  },
  {
   "cell_type": "code",
   "execution_count": 6,
   "id": "b1d9e303-fa2f-4039-9eb8-4e3a0037db21",
   "metadata": {},
   "outputs": [],
   "source": [
    "# list of all the months\n",
    "months_list = [sep_date, aug_date, april_date, may_date, june_date, july_date]"
   ]
  },
  {
   "cell_type": "code",
   "execution_count": 7,
   "id": "ead3240f-e98d-4916-90ea-1c16b9d3a644",
   "metadata": {},
   "outputs": [],
   "source": [
    "# test loop of import_scheduled_trips, iterated through months_list\n",
    "\n",
    "# empty list\n",
    "month_trips = {}\n",
    "\n",
    "for months in months_list:\n",
    "    df = helpers.import_scheduled_trips(\n",
    "        months,\n",
    "        columns=[\n",
    "            \"feed_key\",\n",
    "            \"name\",\n",
    "            \"gtfs_dataset_key\",\n",
    "            \"route_id\",\n",
    "            \"route_short_name\",\n",
    "            \"route_long_name\",\n",
    "            \"route_desc\",\n",
    "        ],\n",
    "        filters=[[(\"name\", \"==\", \"Sacramento Schedule\")]],\n",
    "        get_pandas=True,\n",
    "    )\n",
    "    month_trips[months] = df"
   ]
  },
  {
   "cell_type": "code",
   "execution_count": 5,
   "id": "52e07e41-41ee-4bdd-9fc7-bb4244f55e0d",
   "metadata": {},
   "outputs": [
    {
     "data": {
      "text/plain": [
       "dict_keys(['2023-09-13', '2023-08-15', '2023-04-12', '2023-05-17', '2023-06-14', '2023-07-12'])"
      ]
     },
     "execution_count": 5,
     "metadata": {},
     "output_type": "execute_result"
    }
   ],
   "source": [
    "month_trips.keys()"
   ]
  },
  {
   "cell_type": "code",
   "execution_count": 12,
   "id": "b85dade9-90c2-470f-a737-88772dabeaf9",
   "metadata": {},
   "outputs": [],
   "source": [
    "april = month_trips['2023-04-12'].assign(month='april')\n",
    "may = month_trips['2023-05-17'].assign(month='may')\n",
    "june = month_trips['2023-06-14'].assign(month='june')\n",
    "july = month_trips['2023-07-12'].assign(month='july')\n",
    "aug = month_trips['2023-08-15'].assign(month='aug')\n",
    "sep = month_trips['2023-09-13'].assign(month='sep')"
   ]
  },
  {
   "cell_type": "code",
   "execution_count": null,
   "id": "80cc82e3-f0d0-475a-96a9-d6a87d30a6cd",
   "metadata": {},
   "outputs": [],
   "source": [
    "# use this pseudo code to concat all the different months data\n",
    "# pd.concat can stack DFs on top of others.\n",
    "# pd.concat([df1, df2], axis=0)"
   ]
  },
  {
   "cell_type": "code",
   "execution_count": 13,
   "id": "9c7ea7ad-8069-4c06-b44b-935617dfba4e",
   "metadata": {},
   "outputs": [],
   "source": [
    "#test to see if i can use a dictionary in concat\n",
    "all_trips = pd.concat([april,may,june,july,aug,sep],axis=0)"
   ]
  },
  {
   "cell_type": "code",
   "execution_count": 14,
   "id": "12c9888a-b2ee-4dd7-9b15-a871365eb3ad",
   "metadata": {},
   "outputs": [
    {
     "data": {
      "text/plain": [
       "(326, 8)"
      ]
     },
     "execution_count": 14,
     "metadata": {},
     "output_type": "execute_result"
    }
   ],
   "source": [
    "all_trips.shape"
   ]
  },
  {
   "cell_type": "code",
   "execution_count": 15,
   "id": "b1029f70-fba9-4896-83ca-19f4397a444a",
   "metadata": {},
   "outputs": [
    {
     "data": {
      "text/plain": [
       "55c36112e9a6a849c0ddc65eb54de7f1    130\n",
       "e91cfff58ee7410589d8bf9940ed1c41    130\n",
       "294252b3b4b42fbb31a31ce184fcb3f5     66\n",
       "Name: feed_key, dtype: int64"
      ]
     },
     "execution_count": 15,
     "metadata": {},
     "output_type": "execute_result"
    }
   ],
   "source": [
    "# 3 unique feed keys\n",
    "all_trips.feed_key.value_counts()"
   ]
  },
  {
   "cell_type": "code",
   "execution_count": 16,
   "id": "24bc34e5-1676-4972-a9a9-414b93d9e127",
   "metadata": {},
   "outputs": [
    {
     "data": {
      "text/plain": [
       "43a1e46d592a1ee647bce8422c68460c    260\n",
       "cb3074eb8b423dfc5acfeeb0de95eb82     66\n",
       "Name: schedule_gtfs_dataset_key, dtype: int64"
      ]
     },
     "execution_count": 16,
     "metadata": {},
     "output_type": "execute_result"
    }
   ],
   "source": [
    "# 2 unique gtfs dataset keys, as opposed to 3 unique feed keys\n",
    "all_trips.schedule_gtfs_dataset_key.value_counts()"
   ]
  },
  {
   "cell_type": "code",
   "execution_count": 17,
   "id": "12ce9d07-cd34-499e-b365-3ffeeb27e018",
   "metadata": {},
   "outputs": [
    {
     "data": {
      "text/plain": [
       "001    5\n",
       "011    5\n",
       "138    5\n",
       "142    5\n",
       "161    5\n",
       "      ..\n",
       "078    5\n",
       "075    5\n",
       "F10    4\n",
       "10     1\n",
       "137    1\n",
       "Name: route_id, Length: 67, dtype: int64"
      ]
     },
     "execution_count": 17,
     "metadata": {},
     "output_type": "execute_result"
    }
   ],
   "source": [
    "#expect to see 5 instances of each route id (1 for each month, except june). but some routes only happen 1 time? route 10 and 137\n",
    "all_trips.route_id.value_counts()"
   ]
  },
  {
   "cell_type": "code",
   "execution_count": 18,
   "id": "3825ac8a-919e-4eea-b95e-967463b18a18",
   "metadata": {},
   "outputs": [
    {
     "data": {
      "text/plain": [
       "30     10\n",
       "1       5\n",
       "228     5\n",
       "138     5\n",
       "142     5\n",
       "       ..\n",
       "78      5\n",
       "75      5\n",
       "F10     4\n",
       "10      1\n",
       "137     1\n",
       "Name: route_short_name, Length: 66, dtype: int64"
      ]
     },
     "execution_count": 18,
     "metadata": {},
     "output_type": "execute_result"
    }
   ],
   "source": [
    "#similar results with route short name\n",
    "all_trips.route_short_name.value_counts()"
   ]
  },
  {
   "cell_type": "code",
   "execution_count": 22,
   "id": "ec9c81a9-9740-4fe9-af66-bb6641ba268d",
   "metadata": {},
   "outputs": [
    {
     "data": {
      "text/html": [
       "<div>\n",
       "<style scoped>\n",
       "    .dataframe tbody tr th:only-of-type {\n",
       "        vertical-align: middle;\n",
       "    }\n",
       "\n",
       "    .dataframe tbody tr th {\n",
       "        vertical-align: top;\n",
       "    }\n",
       "\n",
       "    .dataframe thead th {\n",
       "        text-align: right;\n",
       "    }\n",
       "</style>\n",
       "<table border=\"1\" class=\"dataframe\">\n",
       "  <thead>\n",
       "    <tr style=\"text-align: right;\">\n",
       "      <th></th>\n",
       "      <th>feed_key</th>\n",
       "      <th>name</th>\n",
       "      <th>schedule_gtfs_dataset_key</th>\n",
       "      <th>route_id</th>\n",
       "      <th>route_short_name</th>\n",
       "      <th>route_long_name</th>\n",
       "      <th>route_desc</th>\n",
       "      <th>month</th>\n",
       "    </tr>\n",
       "  </thead>\n",
       "  <tbody>\n",
       "    <tr>\n",
       "      <th>54</th>\n",
       "      <td>294252b3b4b42fbb31a31ce184fcb3f5</td>\n",
       "      <td>Sacramento Schedule</td>\n",
       "      <td>cb3074eb8b423dfc5acfeeb0de95eb82</td>\n",
       "      <td>10</td>\n",
       "      <td>10</td>\n",
       "      <td>FSL Route 10</td>\n",
       "      <td>None</td>\n",
       "      <td>sep</td>\n",
       "    </tr>\n",
       "  </tbody>\n",
       "</table>\n",
       "</div>"
      ],
      "text/plain": [
       "                            feed_key                 name  \\\n",
       "54  294252b3b4b42fbb31a31ce184fcb3f5  Sacramento Schedule   \n",
       "\n",
       "           schedule_gtfs_dataset_key route_id route_short_name  \\\n",
       "54  cb3074eb8b423dfc5acfeeb0de95eb82       10               10   \n",
       "\n",
       "   route_long_name route_desc month  \n",
       "54    FSL Route 10       None   sep  "
      ]
     },
     "metadata": {},
     "output_type": "display_data"
    },
    {
     "data": {
      "text/html": [
       "<div>\n",
       "<style scoped>\n",
       "    .dataframe tbody tr th:only-of-type {\n",
       "        vertical-align: middle;\n",
       "    }\n",
       "\n",
       "    .dataframe tbody tr th {\n",
       "        vertical-align: top;\n",
       "    }\n",
       "\n",
       "    .dataframe thead th {\n",
       "        text-align: right;\n",
       "    }\n",
       "</style>\n",
       "<table border=\"1\" class=\"dataframe\">\n",
       "  <thead>\n",
       "    <tr style=\"text-align: right;\">\n",
       "      <th></th>\n",
       "      <th>feed_key</th>\n",
       "      <th>name</th>\n",
       "      <th>schedule_gtfs_dataset_key</th>\n",
       "      <th>route_id</th>\n",
       "      <th>route_short_name</th>\n",
       "      <th>route_long_name</th>\n",
       "      <th>route_desc</th>\n",
       "      <th>month</th>\n",
       "    </tr>\n",
       "  </thead>\n",
       "  <tbody>\n",
       "    <tr>\n",
       "      <th>56</th>\n",
       "      <td>294252b3b4b42fbb31a31ce184fcb3f5</td>\n",
       "      <td>Sacramento Schedule</td>\n",
       "      <td>cb3074eb8b423dfc5acfeeb0de95eb82</td>\n",
       "      <td>137</td>\n",
       "      <td>137</td>\n",
       "      <td>UCDMC</td>\n",
       "      <td>None</td>\n",
       "      <td>sep</td>\n",
       "    </tr>\n",
       "  </tbody>\n",
       "</table>\n",
       "</div>"
      ],
      "text/plain": [
       "                            feed_key                 name  \\\n",
       "56  294252b3b4b42fbb31a31ce184fcb3f5  Sacramento Schedule   \n",
       "\n",
       "           schedule_gtfs_dataset_key route_id route_short_name  \\\n",
       "56  cb3074eb8b423dfc5acfeeb0de95eb82      137              137   \n",
       "\n",
       "   route_long_name route_desc month  \n",
       "56           UCDMC       None   sep  "
      ]
     },
     "metadata": {},
     "output_type": "display_data"
    }
   ],
   "source": [
    "#further investigation of route 10 and 137, see what their rows say\n",
    "#only 1 row for each of these routes, both occuring in september\n",
    "display(all_trips[all_trips['route_id']=='10'])\n",
    "display(all_trips[all_trips['route_id']=='137'])"
   ]
  },
  {
   "cell_type": "code",
   "execution_count": 20,
   "id": "4dd4889a-2914-42e5-a455-afed68bd4edf",
   "metadata": {},
   "outputs": [
    {
     "data": {
      "text/html": [
       "<div>\n",
       "<style scoped>\n",
       "    .dataframe tbody tr th:only-of-type {\n",
       "        vertical-align: middle;\n",
       "    }\n",
       "\n",
       "    .dataframe tbody tr th {\n",
       "        vertical-align: top;\n",
       "    }\n",
       "\n",
       "    .dataframe thead th {\n",
       "        text-align: right;\n",
       "    }\n",
       "</style>\n",
       "<table border=\"1\" class=\"dataframe\">\n",
       "  <thead>\n",
       "    <tr style=\"text-align: right;\">\n",
       "      <th></th>\n",
       "      <th>feed_key</th>\n",
       "      <th>name</th>\n",
       "      <th>schedule_gtfs_dataset_key</th>\n",
       "      <th>route_id</th>\n",
       "      <th>route_short_name</th>\n",
       "      <th>route_long_name</th>\n",
       "      <th>route_desc</th>\n",
       "      <th>month</th>\n",
       "    </tr>\n",
       "  </thead>\n",
       "  <tbody>\n",
       "    <tr>\n",
       "      <th>57</th>\n",
       "      <td>55c36112e9a6a849c0ddc65eb54de7f1</td>\n",
       "      <td>Sacramento Schedule</td>\n",
       "      <td>43a1e46d592a1ee647bce8422c68460c</td>\n",
       "      <td>F10</td>\n",
       "      <td>F10</td>\n",
       "      <td>FSL Route 10</td>\n",
       "      <td>None</td>\n",
       "      <td>april</td>\n",
       "    </tr>\n",
       "    <tr>\n",
       "      <th>60</th>\n",
       "      <td>55c36112e9a6a849c0ddc65eb54de7f1</td>\n",
       "      <td>Sacramento Schedule</td>\n",
       "      <td>43a1e46d592a1ee647bce8422c68460c</td>\n",
       "      <td>F10</td>\n",
       "      <td>F10</td>\n",
       "      <td>FSL Route 10</td>\n",
       "      <td>None</td>\n",
       "      <td>may</td>\n",
       "    </tr>\n",
       "    <tr>\n",
       "      <th>58</th>\n",
       "      <td>e91cfff58ee7410589d8bf9940ed1c41</td>\n",
       "      <td>Sacramento Schedule</td>\n",
       "      <td>43a1e46d592a1ee647bce8422c68460c</td>\n",
       "      <td>F10</td>\n",
       "      <td>F10</td>\n",
       "      <td>FSL Route 10</td>\n",
       "      <td>None</td>\n",
       "      <td>july</td>\n",
       "    </tr>\n",
       "    <tr>\n",
       "      <th>57</th>\n",
       "      <td>e91cfff58ee7410589d8bf9940ed1c41</td>\n",
       "      <td>Sacramento Schedule</td>\n",
       "      <td>43a1e46d592a1ee647bce8422c68460c</td>\n",
       "      <td>F10</td>\n",
       "      <td>F10</td>\n",
       "      <td>FSL Route 10</td>\n",
       "      <td>None</td>\n",
       "      <td>aug</td>\n",
       "    </tr>\n",
       "  </tbody>\n",
       "</table>\n",
       "</div>"
      ],
      "text/plain": [
       "                            feed_key                 name  \\\n",
       "57  55c36112e9a6a849c0ddc65eb54de7f1  Sacramento Schedule   \n",
       "60  55c36112e9a6a849c0ddc65eb54de7f1  Sacramento Schedule   \n",
       "58  e91cfff58ee7410589d8bf9940ed1c41  Sacramento Schedule   \n",
       "57  e91cfff58ee7410589d8bf9940ed1c41  Sacramento Schedule   \n",
       "\n",
       "           schedule_gtfs_dataset_key route_id route_short_name  \\\n",
       "57  43a1e46d592a1ee647bce8422c68460c      F10              F10   \n",
       "60  43a1e46d592a1ee647bce8422c68460c      F10              F10   \n",
       "58  43a1e46d592a1ee647bce8422c68460c      F10              F10   \n",
       "57  43a1e46d592a1ee647bce8422c68460c      F10              F10   \n",
       "\n",
       "   route_long_name route_desc  month  \n",
       "57    FSL Route 10       None  april  \n",
       "60    FSL Route 10       None    may  \n",
       "58    FSL Route 10       None   july  \n",
       "57    FSL Route 10       None    aug  "
      ]
     },
     "execution_count": 20,
     "metadata": {},
     "output_type": "execute_result"
    }
   ],
   "source": [
    "#other routes return multiple rows as expected. \n",
    "all_trips[all_trips['route_id']=='F10']"
   ]
  },
  {
   "cell_type": "code",
   "execution_count": 19,
   "id": "088278a4-7ee2-45fb-8e3e-4dd924c11c6b",
   "metadata": {},
   "outputs": [],
   "source": [
    "#would like shape Id and pt array from previous approach, but need a join to make this work\n",
    "#seek out preliminary joins via metabase\n"
   ]
  },
  {
   "cell_type": "code",
   "execution_count": null,
   "id": "91feab3c-39d9-456d-ace4-4efa888619bc",
   "metadata": {},
   "outputs": [],
   "source": []
  }
 ],
 "metadata": {
  "kernelspec": {
   "display_name": "Python 3 (ipykernel)",
   "language": "python",
   "name": "python3"
  },
  "language_info": {
   "codemirror_mode": {
    "name": "ipython",
    "version": 3
   },
   "file_extension": ".py",
   "mimetype": "text/x-python",
   "name": "python",
   "nbconvert_exporter": "python",
   "pygments_lexer": "ipython3",
   "version": "3.9.13"
  }
 },
 "nbformat": 4,
 "nbformat_minor": 5
}
