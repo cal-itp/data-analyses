{
 "cells": [
  {
   "cell_type": "markdown",
   "id": "9f2b17f8-faef-489a-9f55-e3defc8b33ea",
   "metadata": {},
   "source": [
    "# Route Variance Identification Over Time, Approach 1\n",
    "\n",
    "Recent observations shows small chages in routes over time. Specifically in the following fields:\n",
    "* route ID\n",
    "* route short name\n",
    "* route long name\n",
    "* route desc\n",
    "\n",
    "Need to observe these route changes in order to account for these changes in future analyses.\n",
    "\n",
    "## Objective\n",
    "1. Query data from `fct_monthly_routes` to help identify variences in Routes. Query for 2023, a couple of months. \n",
    "2. Save data to GCS `gtfs_schedule` bucket\n",
    "3. Filter down data to `Sacramento Regional Transit`, identify and observe routes for any variences\n"
   ]
  },
  {
   "cell_type": "code",
   "execution_count": 1,
   "id": "78a70c5e-a8fc-4644-b8d0-5bf4e2481cf7",
   "metadata": {},
   "outputs": [],
   "source": [
    "#imports copied from download_vehicle_position.py script\n",
    "\n",
    "import datetime\n",
    "import gcsfs\n",
    "import geopandas as gpd\n",
    "import pandas as pd\n",
    "import shapely\n",
    "import sys\n",
    "\n",
    "from calitp_data_analysis.tables import tbls\n",
    "from calitp_data_analysis import utils\n",
    "from loguru import logger\n",
    "from siuba import *\n",
    "\n",
    "from shared_utils import schedule_rt_utils\n",
    "from shared_utils import geography_utils\n",
    "\n"
   ]
  },
  {
   "cell_type": "markdown",
   "id": "e8907080-1a36-4424-80df-a890d73be44b",
   "metadata": {
    "jp-MarkdownHeadingCollapsed": true,
    "tags": []
   },
   "source": [
    "## test to query fct_monthly_routes. DO NOT RUN\n",
    "\n",
    "def get_monthly_routes(\n",
    "        year: str,\n",
    "        months: list\n",
    "    ) -> pd.DataFrame:    \n",
    "    \n",
    "        df = (tbls.mart_gtfs.fct_monthly_routes()\n",
    "              >> filter(_.year == year)\n",
    "              >> filter(_.month.isin(months))\n",
    "              >> select(_.key, _.source_record_id,\n",
    "                        _.name,\n",
    "                        _.route_id, _.shape_id,\n",
    "                        _.month,\n",
    "                        _.year,\n",
    "                       _.pt_array)\n",
    "                  >> collect()\n",
    "             )\n",
    "        return df"
   ]
  },
  {
   "cell_type": "code",
   "execution_count": null,
   "id": "64984523-58a9-4f63-8b5d-df38648cd3c6",
   "metadata": {
    "tags": []
   },
   "outputs": [],
   "source": [
    "# df_pt = get_monthly_routes(2023, [4, 5, 6, 7, 8, 9])"
   ]
  },
  {
   "cell_type": "code",
   "execution_count": null,
   "id": "52b83a92-82bf-43b0-8cc6-4e709c693ee6",
   "metadata": {},
   "outputs": [],
   "source": [
    "#from metabase, joined fct_monthly_routes with dim_providers_gtfs_data.saved results to gcs\n",
    "#test reading in data for  sacramento schedule m4 to m9,\n",
    "\n",
    "#df = pd.read_csv('gs://calitp-analytics-data/data-analyses/gtfs_schedule/sacrament_schedule_route_id_2023_m4_m9.csv')"
   ]
  },
  {
   "cell_type": "code",
   "execution_count": null,
   "id": "b6e89a1e-3be5-4aa2-a1dc-9e019050f33a",
   "metadata": {},
   "outputs": [],
   "source": [
    "#df.shape"
   ]
  },
  {
   "cell_type": "markdown",
   "id": "f1b9a24b-73e3-4dc8-a3cd-6b813af92c09",
   "metadata": {
    "jp-MarkdownHeadingCollapsed": true,
    "tags": []
   },
   "source": [
    "## cleaning metabase data of fct_monthly_routes and dim_providers_gtfs_data"
   ]
  },
  {
   "cell_type": "code",
   "execution_count": null,
   "id": "dd410b7f-e7e9-4708-92cc-278c1ad65487",
   "metadata": {},
   "outputs": [],
   "source": [
    "#looking at columns name\n",
    "#df.columns"
   ]
  },
  {
   "cell_type": "markdown",
   "id": "b9f424dd-35ac-462e-8c60-6331c054b827",
   "metadata": {},
   "source": [
    "#function that replaces spaces with _ and make lower case\n",
    "#effectively making snakecase\n",
    "def cleaner(df):\n",
    "    df.columns = df.columns.str.replace(' ','_')\n",
    "    df.columns = df.columns.str.lower()\n",
    "    return df"
   ]
  },
  {
   "cell_type": "code",
   "execution_count": null,
   "id": "022c7306-20ed-499f-8ea0-9b79c72d60bb",
   "metadata": {},
   "outputs": [],
   "source": [
    "#cleaner(df)"
   ]
  },
  {
   "cell_type": "code",
   "execution_count": null,
   "id": "c1f5e964-deb9-4ce2-9806-e9aa0b31bab5",
   "metadata": {},
   "outputs": [],
   "source": [
    "#removing dim providers string\n",
    "#df.columns = df.columns.str.replace('dim_provider_gtfs_data_→_','')\n"
   ]
  },
  {
   "cell_type": "code",
   "execution_count": null,
   "id": "56cf319f-e882-47fa-ab75-0f9d064682ac",
   "metadata": {},
   "outputs": [],
   "source": [
    "#df.columns"
   ]
  },
  {
   "cell_type": "markdown",
   "id": "704f6f81-a281-4439-8938-bd3e2dc199b7",
   "metadata": {},
   "source": [
    "#need a way to get point array back\n",
    "#merge df with regular fct_monthly_routes on key\n",
    "\n",
    "merge = pd.merge(df, df_pt, on=['key', \n",
    "                                'name', \n",
    "                                'month', \n",
    "                                'source_record_id', \n",
    "                                'route_id',\n",
    "                                'year',\n",
    "                               ])"
   ]
  },
  {
   "cell_type": "markdown",
   "id": "98ceaaef-8f92-43ae-8bcf-c194163a8ab4",
   "metadata": {},
   "source": [
    "display(merge.shape)\n",
    "display(type(merge))\n",
    "list(merge.columns)\n"
   ]
  },
  {
   "cell_type": "code",
   "execution_count": null,
   "id": "7b9b2db3-179f-43e1-83a9-1cdf55e93152",
   "metadata": {},
   "outputs": [],
   "source": [
    "#merge.head(3)"
   ]
  },
  {
   "cell_type": "markdown",
   "id": "9f14aba1-283b-4e82-a54f-281f86c87d75",
   "metadata": {},
   "source": [
    "merge2=merge.drop(columns=['distinct_values_of_key',\n",
    " 'shape_id_y'])\n",
    "merge2.columns"
   ]
  },
  {
   "cell_type": "code",
   "execution_count": null,
   "id": "e0343551-0831-4e82-b8d2-cc1a3496b4e4",
   "metadata": {},
   "outputs": [],
   "source": [
    "#makeing merge into a gdf now that i have pt geom back\n",
    "\n",
    "#sac_m4m9= geography_utils.make_routes_gdf(merge2, 'EPSG:4326')"
   ]
  },
  {
   "cell_type": "markdown",
   "id": "9204a538-8f3b-4822-b841-add7e8ffd215",
   "metadata": {},
   "source": [
    "type(sac_m4m9)\n",
    "display(sac_m4m9.geometry.name)\n",
    "display(list(sac_m4m9.columns))"
   ]
  },
  {
   "cell_type": "code",
   "execution_count": null,
   "id": "c649c07d-bff1-4ad8-93bc-d9194f3303c2",
   "metadata": {},
   "outputs": [],
   "source": [
    "#sac_m4m9.plot()"
   ]
  },
  {
   "cell_type": "code",
   "execution_count": null,
   "id": "ae46c520-1a7e-44e2-962b-3a682e9ddc8d",
   "metadata": {
    "tags": []
   },
   "outputs": [],
   "source": [
    "#uploading as geoparquet to GCS\n",
    "#utils.geoparquet_gcs_export(sac_m4m9, \"gs://calitp-analytics-data/data-analyses/gtfs_schedule/\", \"sac_route_variance_m4m9_geo\")"
   ]
  },
  {
   "cell_type": "markdown",
   "id": "f65437f8-c441-454b-96bf-aaeb3a874559",
   "metadata": {},
   "source": [
    "## start here"
   ]
  },
  {
   "cell_type": "code",
   "execution_count": 2,
   "id": "3ab8ad7f-80d6-434f-9475-33cd77d8ea20",
   "metadata": {},
   "outputs": [],
   "source": [
    "#attempt at reading in geoparquet FROM GCS\n",
    "#fct_monthly_routes/dim_providers_gtfs_data\n",
    "sac_m4m9 = gpd.read_parquet('gs://calitp-analytics-data/data-analyses/gtfs_schedule/sac_route_variance_m4m9_geo.parquet')"
   ]
  },
  {
   "cell_type": "code",
   "execution_count": 3,
   "id": "444921c7-ba2e-41f0-a48e-19f2e61c57e3",
   "metadata": {},
   "outputs": [],
   "source": [
    "#attempt to read in dataframe from approach 2\n",
    "#helpers.import_scheduled_trips\n",
    "sac_trip_desc = pd.read_parquet('gs://calitp-analytics-data/data-analyses/gtfs_schedule/sac_trips_route_identification_2023_m04_m09.parquet')"
   ]
  },
  {
   "cell_type": "markdown",
   "id": "996d4d83-66c1-49b1-86bb-78ffe5efd970",
   "metadata": {},
   "source": [
    "## Dataframe Comparison\n",
    "Comparing the data within the `fct_monthly_routes/dim_providers_gtfs_data` (aka sac_m4m9) and the `helpers.import_scheduled_trips` (aka sac_trip_desc)"
   ]
  },
  {
   "cell_type": "code",
   "execution_count": 4,
   "id": "55498729-b365-486d-8964-7100c36353e6",
   "metadata": {},
   "outputs": [
    {
     "data": {
      "text/plain": [
       "geopandas.geodataframe.GeoDataFrame"
      ]
     },
     "metadata": {},
     "output_type": "display_data"
    },
    {
     "data": {
      "text/plain": [
       "(1179, 18)"
      ]
     },
     "metadata": {},
     "output_type": "display_data"
    },
    {
     "data": {
      "text/html": [
       "<div>\n",
       "<style scoped>\n",
       "    .dataframe tbody tr th:only-of-type {\n",
       "        vertical-align: middle;\n",
       "    }\n",
       "\n",
       "    .dataframe tbody tr th {\n",
       "        vertical-align: top;\n",
       "    }\n",
       "\n",
       "    .dataframe thead th {\n",
       "        text-align: right;\n",
       "    }\n",
       "</style>\n",
       "<table border=\"1\" class=\"dataframe\">\n",
       "  <thead>\n",
       "    <tr style=\"text-align: right;\">\n",
       "      <th></th>\n",
       "      <th>key</th>\n",
       "      <th>schedule_gtfs_dataset_key</th>\n",
       "      <th>name</th>\n",
       "      <th>month</th>\n",
       "      <th>year</th>\n",
       "      <th>month_last_day</th>\n",
       "      <th>valid_from</th>\n",
       "      <th>valid_to</th>\n",
       "      <th>source_record_id</th>\n",
       "      <th>route_id</th>\n",
       "      <th>shape_id_x</th>\n",
       "      <th>organization_name</th>\n",
       "      <th>service_name</th>\n",
       "      <th>schedule_gtfs_dataset_name</th>\n",
       "      <th>organization_source_record_id</th>\n",
       "      <th>service_source_record_id</th>\n",
       "      <th>schedule_source_record_id</th>\n",
       "      <th>geometry</th>\n",
       "    </tr>\n",
       "  </thead>\n",
       "  <tbody>\n",
       "    <tr>\n",
       "      <th>0</th>\n",
       "      <td>c5f18e65ac0287bb0fd02f379ca29ea6</td>\n",
       "      <td>cb3074eb8b423dfc5acfeeb0de95eb82</td>\n",
       "      <td>Sacramento Schedule</td>\n",
       "      <td>4</td>\n",
       "      <td>2023</td>\n",
       "      <td>2023-04-30</td>\n",
       "      <td>2023-10-25T00:00:00-07:00</td>\n",
       "      <td>2098-12-31T00:00:00-08:00</td>\n",
       "      <td>recbzZQUIdMmFvm1r</td>\n",
       "      <td>001</td>\n",
       "      <td>45267</td>\n",
       "      <td>Sacramento Regional Transit District</td>\n",
       "      <td>SacRT Light Rail</td>\n",
       "      <td>Sacramento Schedule</td>\n",
       "      <td>recX9lccSE1jmjsmG</td>\n",
       "      <td>rec4ngaW4prJCvuQv</td>\n",
       "      <td>recbzZQUIdMmFvm1r</td>\n",
       "      <td>LINESTRING (-121.26715 38.67928, -121.26715 38...</td>\n",
       "    </tr>\n",
       "    <tr>\n",
       "      <th>1</th>\n",
       "      <td>c5f18e65ac0287bb0fd02f379ca29ea6</td>\n",
       "      <td>cb3074eb8b423dfc5acfeeb0de95eb82</td>\n",
       "      <td>Sacramento Schedule</td>\n",
       "      <td>4</td>\n",
       "      <td>2023</td>\n",
       "      <td>2023-04-30</td>\n",
       "      <td>2023-10-25T00:00:00-07:00</td>\n",
       "      <td>2098-12-31T00:00:00-08:00</td>\n",
       "      <td>recbzZQUIdMmFvm1r</td>\n",
       "      <td>001</td>\n",
       "      <td>45267</td>\n",
       "      <td>Sacramento Regional Transit District</td>\n",
       "      <td>Sacramento Regional Transit District Bus</td>\n",
       "      <td>Sacramento Schedule</td>\n",
       "      <td>recX9lccSE1jmjsmG</td>\n",
       "      <td>recucpbla6cP2ZdsV</td>\n",
       "      <td>recbzZQUIdMmFvm1r</td>\n",
       "      <td>LINESTRING (-121.26715 38.67928, -121.26715 38...</td>\n",
       "    </tr>\n",
       "    <tr>\n",
       "      <th>2</th>\n",
       "      <td>c5f18e65ac0287bb0fd02f379ca29ea6</td>\n",
       "      <td>cb3074eb8b423dfc5acfeeb0de95eb82</td>\n",
       "      <td>Sacramento Schedule</td>\n",
       "      <td>4</td>\n",
       "      <td>2023</td>\n",
       "      <td>2023-04-30</td>\n",
       "      <td>2023-10-30T00:00:00-07:00</td>\n",
       "      <td>2098-12-31T00:00:00-08:00</td>\n",
       "      <td>recbzZQUIdMmFvm1r</td>\n",
       "      <td>001</td>\n",
       "      <td>45267</td>\n",
       "      <td>City of Rancho Cordova</td>\n",
       "      <td>Rancho CordoVan</td>\n",
       "      <td>Sacramento Schedule</td>\n",
       "      <td>rec43oyrfhtPDdRHj</td>\n",
       "      <td>recthtqJiccuHePry</td>\n",
       "      <td>recbzZQUIdMmFvm1r</td>\n",
       "      <td>LINESTRING (-121.26715 38.67928, -121.26715 38...</td>\n",
       "    </tr>\n",
       "  </tbody>\n",
       "</table>\n",
       "</div>"
      ],
      "text/plain": [
       "                                key         schedule_gtfs_dataset_key  \\\n",
       "0  c5f18e65ac0287bb0fd02f379ca29ea6  cb3074eb8b423dfc5acfeeb0de95eb82   \n",
       "1  c5f18e65ac0287bb0fd02f379ca29ea6  cb3074eb8b423dfc5acfeeb0de95eb82   \n",
       "2  c5f18e65ac0287bb0fd02f379ca29ea6  cb3074eb8b423dfc5acfeeb0de95eb82   \n",
       "\n",
       "                  name  month  year month_last_day                 valid_from  \\\n",
       "0  Sacramento Schedule      4  2023     2023-04-30  2023-10-25T00:00:00-07:00   \n",
       "1  Sacramento Schedule      4  2023     2023-04-30  2023-10-25T00:00:00-07:00   \n",
       "2  Sacramento Schedule      4  2023     2023-04-30  2023-10-30T00:00:00-07:00   \n",
       "\n",
       "                    valid_to   source_record_id route_id  shape_id_x  \\\n",
       "0  2098-12-31T00:00:00-08:00  recbzZQUIdMmFvm1r      001       45267   \n",
       "1  2098-12-31T00:00:00-08:00  recbzZQUIdMmFvm1r      001       45267   \n",
       "2  2098-12-31T00:00:00-08:00  recbzZQUIdMmFvm1r      001       45267   \n",
       "\n",
       "                      organization_name  \\\n",
       "0  Sacramento Regional Transit District   \n",
       "1  Sacramento Regional Transit District   \n",
       "2                City of Rancho Cordova   \n",
       "\n",
       "                               service_name schedule_gtfs_dataset_name  \\\n",
       "0                          SacRT Light Rail        Sacramento Schedule   \n",
       "1  Sacramento Regional Transit District Bus        Sacramento Schedule   \n",
       "2                           Rancho CordoVan        Sacramento Schedule   \n",
       "\n",
       "  organization_source_record_id service_source_record_id  \\\n",
       "0             recX9lccSE1jmjsmG        rec4ngaW4prJCvuQv   \n",
       "1             recX9lccSE1jmjsmG        recucpbla6cP2ZdsV   \n",
       "2             rec43oyrfhtPDdRHj        recthtqJiccuHePry   \n",
       "\n",
       "  schedule_source_record_id                                           geometry  \n",
       "0         recbzZQUIdMmFvm1r  LINESTRING (-121.26715 38.67928, -121.26715 38...  \n",
       "1         recbzZQUIdMmFvm1r  LINESTRING (-121.26715 38.67928, -121.26715 38...  \n",
       "2         recbzZQUIdMmFvm1r  LINESTRING (-121.26715 38.67928, -121.26715 38...  "
      ]
     },
     "metadata": {},
     "output_type": "display_data"
    }
   ],
   "source": [
    "#info about fct_monthly_routes/dim_providers_gtfs_data df\n",
    "display(type(sac_m4m9))\n",
    "display(sac_m4m9.shape)\n",
    "display(sac_m4m9.head(3))"
   ]
  },
  {
   "cell_type": "code",
   "execution_count": 24,
   "id": "79311f39-79ed-4a67-8aad-0504e8de973d",
   "metadata": {},
   "outputs": [
    {
     "data": {
      "text/plain": [
       "8    201\n",
       "9    198\n",
       "4    195\n",
       "5    195\n",
       "6    195\n",
       "7    195\n",
       "Name: month, dtype: int64"
      ]
     },
     "execution_count": 24,
     "metadata": {},
     "output_type": "execute_result"
    }
   ],
   "source": [
    "sac_m4m9.month.value_counts()"
   ]
  },
  {
   "cell_type": "code",
   "execution_count": 25,
   "id": "3dbc7939-cd31-4a22-8d47-51aa439980c6",
   "metadata": {},
   "outputs": [],
   "source": [
    "#need to update months column to say month name instead of number\n",
    "replace_month= {\n",
    "    4:'april',\n",
    "    5:'may',\n",
    "    6:'june',\n",
    "    7:'july',\n",
    "    8:'aug',\n",
    "    9:'sep'\n",
    "}"
   ]
  },
  {
   "cell_type": "code",
   "execution_count": 26,
   "id": "b6f87089-3e22-49cb-b823-dcd1f14fa452",
   "metadata": {},
   "outputs": [],
   "source": [
    "sac_m4m9['month'] = sac_m4m9['month'].replace(replace_month)\n"
   ]
  },
  {
   "cell_type": "code",
   "execution_count": 27,
   "id": "e690d52b-7130-4820-be62-c25433192c66",
   "metadata": {},
   "outputs": [
    {
     "data": {
      "text/plain": [
       "aug      201\n",
       "sep      198\n",
       "april    195\n",
       "may      195\n",
       "june     195\n",
       "july     195\n",
       "Name: month, dtype: int64"
      ]
     },
     "execution_count": 27,
     "metadata": {},
     "output_type": "execute_result"
    }
   ],
   "source": [
    "sac_m4m9.month.value_counts()"
   ]
  },
  {
   "cell_type": "code",
   "execution_count": 5,
   "id": "f2d1ab00-15f1-4c0b-804f-2b87f77b4195",
   "metadata": {},
   "outputs": [
    {
     "data": {
      "text/plain": [
       "pandas.core.frame.DataFrame"
      ]
     },
     "metadata": {},
     "output_type": "display_data"
    },
    {
     "data": {
      "text/plain": [
       "(326, 8)"
      ]
     },
     "metadata": {},
     "output_type": "display_data"
    },
    {
     "data": {
      "text/html": [
       "<div>\n",
       "<style scoped>\n",
       "    .dataframe tbody tr th:only-of-type {\n",
       "        vertical-align: middle;\n",
       "    }\n",
       "\n",
       "    .dataframe tbody tr th {\n",
       "        vertical-align: top;\n",
       "    }\n",
       "\n",
       "    .dataframe thead th {\n",
       "        text-align: right;\n",
       "    }\n",
       "</style>\n",
       "<table border=\"1\" class=\"dataframe\">\n",
       "  <thead>\n",
       "    <tr style=\"text-align: right;\">\n",
       "      <th></th>\n",
       "      <th>feed_key</th>\n",
       "      <th>name</th>\n",
       "      <th>schedule_gtfs_dataset_key</th>\n",
       "      <th>route_id</th>\n",
       "      <th>route_short_name</th>\n",
       "      <th>route_long_name</th>\n",
       "      <th>route_desc</th>\n",
       "      <th>month</th>\n",
       "    </tr>\n",
       "  </thead>\n",
       "  <tbody>\n",
       "    <tr>\n",
       "      <th>0</th>\n",
       "      <td>55c36112e9a6a849c0ddc65eb54de7f1</td>\n",
       "      <td>Sacramento Schedule</td>\n",
       "      <td>43a1e46d592a1ee647bce8422c68460c</td>\n",
       "      <td>001</td>\n",
       "      <td>1</td>\n",
       "      <td>GREENBACK</td>\n",
       "      <td>None</td>\n",
       "      <td>april</td>\n",
       "    </tr>\n",
       "    <tr>\n",
       "      <th>1</th>\n",
       "      <td>55c36112e9a6a849c0ddc65eb54de7f1</td>\n",
       "      <td>Sacramento Schedule</td>\n",
       "      <td>43a1e46d592a1ee647bce8422c68460c</td>\n",
       "      <td>011</td>\n",
       "      <td>11</td>\n",
       "      <td>NATOMAS/LAND PARK</td>\n",
       "      <td>None</td>\n",
       "      <td>april</td>\n",
       "    </tr>\n",
       "    <tr>\n",
       "      <th>2</th>\n",
       "      <td>55c36112e9a6a849c0ddc65eb54de7f1</td>\n",
       "      <td>Sacramento Schedule</td>\n",
       "      <td>43a1e46d592a1ee647bce8422c68460c</td>\n",
       "      <td>013</td>\n",
       "      <td>13</td>\n",
       "      <td>NATOMAS/ARDEN</td>\n",
       "      <td>None</td>\n",
       "      <td>april</td>\n",
       "    </tr>\n",
       "  </tbody>\n",
       "</table>\n",
       "</div>"
      ],
      "text/plain": [
       "                           feed_key                 name  \\\n",
       "0  55c36112e9a6a849c0ddc65eb54de7f1  Sacramento Schedule   \n",
       "1  55c36112e9a6a849c0ddc65eb54de7f1  Sacramento Schedule   \n",
       "2  55c36112e9a6a849c0ddc65eb54de7f1  Sacramento Schedule   \n",
       "\n",
       "          schedule_gtfs_dataset_key route_id route_short_name  \\\n",
       "0  43a1e46d592a1ee647bce8422c68460c      001                1   \n",
       "1  43a1e46d592a1ee647bce8422c68460c      011               11   \n",
       "2  43a1e46d592a1ee647bce8422c68460c      013               13   \n",
       "\n",
       "     route_long_name route_desc  month  \n",
       "0          GREENBACK       None  april  \n",
       "1  NATOMAS/LAND PARK       None  april  \n",
       "2      NATOMAS/ARDEN       None  april  "
      ]
     },
     "metadata": {},
     "output_type": "display_data"
    }
   ],
   "source": [
    "#info on helpers.import_scheduled_trips df\n",
    "display(type(sac_trip_desc))\n",
    "display(sac_trip_desc.shape)\n",
    "display(sac_trip_desc.head(3))"
   ]
  },
  {
   "cell_type": "code",
   "execution_count": 23,
   "id": "bfe89a5f-f1fe-48d4-8a09-07983c3f6372",
   "metadata": {},
   "outputs": [
    {
     "data": {
      "text/plain": [
       "sep      66\n",
       "april    65\n",
       "may      65\n",
       "july     65\n",
       "aug      65\n",
       "Name: month, dtype: int64"
      ]
     },
     "execution_count": 23,
     "metadata": {},
     "output_type": "execute_result"
    }
   ],
   "source": [
    "sac_trip_desc.month.value_counts()"
   ]
  },
  {
   "cell_type": "code",
   "execution_count": 6,
   "id": "5ece8b21-13b6-4210-93ee-cdacad82de17",
   "metadata": {},
   "outputs": [
    {
     "data": {
      "text/plain": [
       "cb3074eb8b423dfc5acfeeb0de95eb82    1179\n",
       "Name: schedule_gtfs_dataset_key, dtype: int64"
      ]
     },
     "metadata": {},
     "output_type": "display_data"
    },
    {
     "data": {
      "text/plain": [
       "43a1e46d592a1ee647bce8422c68460c    260\n",
       "cb3074eb8b423dfc5acfeeb0de95eb82     66\n",
       "Name: schedule_gtfs_dataset_key, dtype: int64"
      ]
     },
     "metadata": {},
     "output_type": "display_data"
    }
   ],
   "source": [
    "#comparing gtfs dataset keys\n",
    "display(sac_m4m9.schedule_gtfs_dataset_key.value_counts())\n",
    "display(sac_trip_desc.schedule_gtfs_dataset_key.value_counts())\n",
    "\n",
    "#observed 1 dataset key in `sac_m4m9`, but 2 dataset keys in `sac_trip_desc`\n",
    "#`sac_trip_desc` pulls data from `helpers.import_scheduled_trips`\n"
   ]
  },
  {
   "cell_type": "code",
   "execution_count": 29,
   "id": "fa9b582c-362b-4845-9726-5052aff4ff15",
   "metadata": {},
   "outputs": [],
   "source": [
    "#try to merge on name\n",
    "# and another join on gtfs dataset key\n",
    "test = sac_m4m9.merge(sac_trip_desc, \n",
    "                      how='outer', \n",
    "                      on=['name','schedule_gtfs_dataset_key','route_id','month'], \n",
    "                      indicator=True)\n"
   ]
  },
  {
   "cell_type": "code",
   "execution_count": 30,
   "id": "5b8523b4-fb4e-471e-bc0e-338abc1cab78",
   "metadata": {},
   "outputs": [
    {
     "data": {
      "text/plain": [
       "(1439, 23)"
      ]
     },
     "execution_count": 30,
     "metadata": {},
     "output_type": "execute_result"
    }
   ],
   "source": [
    "test.shape\n"
   ]
  },
  {
   "cell_type": "code",
   "execution_count": 31,
   "id": "525e9f60-0636-4af5-9fee-136a399b0fc1",
   "metadata": {},
   "outputs": [
    {
     "data": {
      "text/plain": [
       "['key',\n",
       " 'schedule_gtfs_dataset_key',\n",
       " 'name',\n",
       " 'month',\n",
       " 'year',\n",
       " 'month_last_day',\n",
       " 'valid_from',\n",
       " 'valid_to',\n",
       " 'source_record_id',\n",
       " 'route_id',\n",
       " 'shape_id_x',\n",
       " 'organization_name',\n",
       " 'service_name',\n",
       " 'schedule_gtfs_dataset_name',\n",
       " 'organization_source_record_id',\n",
       " 'service_source_record_id',\n",
       " 'schedule_source_record_id',\n",
       " 'geometry',\n",
       " 'feed_key',\n",
       " 'route_short_name',\n",
       " 'route_long_name',\n",
       " 'route_desc',\n",
       " '_merge']"
      ]
     },
     "execution_count": 31,
     "metadata": {},
     "output_type": "execute_result"
    }
   ],
   "source": [
    "list(test.columns)"
   ]
  },
  {
   "cell_type": "markdown",
   "id": "3a4f3c93-c673-46ad-9038-8345481d4bb4",
   "metadata": {},
   "source": [
    "clean up the values, especially in month (change numbers to str names)\n",
    "use the merge to identify whats the same/not the same in each df\n",
    "\n"
   ]
  },
  {
   "cell_type": "code",
   "execution_count": null,
   "id": "aade9b77-3f69-47e7-a4e5-b467997b6dbe",
   "metadata": {},
   "outputs": [],
   "source": [
    "for i in string_cols:        \n",
    "    gdf[i] = gdf[i].str.title().str.lstrip().str.rstrip()        \n",
    "    gdf[i] = gdf[i].replace(r'\\s+', ' ', regex=True)"
   ]
  },
  {
   "cell_type": "code",
   "execution_count": null,
   "id": "4409481b-ffaf-4f9f-a87a-2c90e354dd66",
   "metadata": {},
   "outputs": [],
   "source": [
    "df.select_dtypes(include=['object'])"
   ]
  },
  {
   "cell_type": "code",
   "execution_count": null,
   "id": "7bb9cee3-0fba-407e-b310-24270c65872a",
   "metadata": {},
   "outputs": [],
   "source": [
    "#comparing months\n",
    "display(sac_m4m9.month.value_counts())\n",
    "display(sac_trip_desc.month.value_counts())\n",
    "#missing June 2023 from sac_trip_desc??\n",
    "#so for the same time period, sac_m4m9 had all the same dataset key, but sac_trip_desc has different keys. \n",
    "#again, confirming why gtfs dataset key is not the most stable over time\n"
   ]
  },
  {
   "cell_type": "code",
   "execution_count": null,
   "id": "ee53c7d3-637a-4fc9-9c03-f6263656d61f",
   "metadata": {},
   "outputs": [],
   "source": [
    "sac_trip_desc.pivot_table(index = ['schedule_gtfs_dataset_key','month'],\n",
    "                      values = ['route_id'],\n",
    "                     aggfunc='count'\n",
    "                             ).reset_index()\n",
    "#only sept has the matching cb307... dataset key\n",
    "#April to May, had 65 routes with the 43a1e... dataset key. but 66 routes in Sept.\n",
    "#What is the difference between these months? What routes are in each of these months"
   ]
  },
  {
   "cell_type": "markdown",
   "id": "f16a04b4-9f9f-40ac-ae0a-31045c65bd52",
   "metadata": {},
   "source": [
    "## Questions to answer regarding `sac_trip_desc`\n",
    "1. Why does September have 66 route_ids?\n",
    "    <br>a. What are the unique routes in each month?\n",
    "2. Why does September have a different dataset key, where as the other months have a differnt key?\n",
    "    <br>a. do april, may, july, aug have the same routes and therefore the same dataset key?\n",
    "3. "
   ]
  },
  {
   "cell_type": "code",
   "execution_count": null,
   "id": "68012e1d-f3c0-40a1-98d6-c80980369dd1",
   "metadata": {},
   "outputs": [],
   "source": [
    "#funcion that prints the unique route IDs for each month in the helpers.import_scheduled_trips dataset\n",
    "\n",
    "def route(month):\n",
    "    array = sac_trip_desc[sac_trip_desc.month==month].route_id.unique()\n",
    "    series = pd.Series(array).sort_values()\n",
    "    \n",
    "    return series"
   ]
  },
  {
   "cell_type": "code",
   "execution_count": null,
   "id": "926e29f2-f9d6-460d-b950-8763c68bde30",
   "metadata": {},
   "outputs": [],
   "source": [
    "#attempt to compare the routes in each month from helpers.import_scheduled_trips dataframe\n",
    "#which routes exisit / not exist compared to other months. \n",
    "april = route('april')\n",
    "may = route('may')\n",
    "july = route('july')\n",
    "aug = route('aug')\n",
    "sep = route('sep')"
   ]
  },
  {
   "cell_type": "markdown",
   "id": "a1ed6dd6-8e31-4f19-85e9-56ab332f16f7",
   "metadata": {},
   "source": [
    "### Need to find a way to compare each of these months to see which routes appear/not appear in each month\n",
    "Then i can move on with next step"
   ]
  },
  {
   "cell_type": "markdown",
   "id": "099d0faa-4fe8-4296-9832-1c3d32b68326",
   "metadata": {},
   "source": [
    "## Attempt at joining sac_m4m9 and sac_trip_desc\n",
    "1. first update the col names of sac_m4m9 to match sac_trip_desc (8 = aug, 9 = sep)"
   ]
  },
  {
   "cell_type": "code",
   "execution_count": null,
   "id": "d9f8dbd1-01e3-45de-a807-0941cddc32b9",
   "metadata": {},
   "outputs": [],
   "source": [
    "#test function that creates a new col in sac_m4m9 and tags a new value\n",
    "def month_def(x):\n",
    "    if x.month == 4:\n",
    "        return 'april'\n",
    "    elif x.month == 5:\n",
    "        return 'may'\n",
    "    elif x.month == 6:\n",
    "        return 'june'\n",
    "    elif x.month == 7:\n",
    "        return 'july'\n",
    "    elif x.month == 8:\n",
    "        return 'aug'\n",
    "    elif x.month == 9:\n",
    "        return 'sep'"
   ]
  },
  {
   "cell_type": "code",
   "execution_count": null,
   "id": "f2359b1f-be1b-4700-ad0f-c0eeece42896",
   "metadata": {},
   "outputs": [],
   "source": [
    "sac_m4m9['month_name'] = sac_m4m9.apply(month_def,axis=1)"
   ]
  },
  {
   "cell_type": "code",
   "execution_count": null,
   "id": "1500ae48-4880-4bd0-a6a8-0691c8215677",
   "metadata": {},
   "outputs": [],
   "source": [
    "sac_m4m9.month_name.value_counts()"
   ]
  },
  {
   "cell_type": "code",
   "execution_count": null,
   "id": "52f24a60-27b9-46c5-ac4a-7461ab9b817a",
   "metadata": {},
   "outputs": [],
   "source": [
    "#test join, just to see what happenes\n",
    "join = pd.merge(sac_m4m9, sac_trip_desc, on='schedule_gtfs_dataset_key', how ='left')\n",
    "list(join.columns)"
   ]
  },
  {
   "cell_type": "markdown",
   "id": "db0af213-6077-46f7-8b37-d69f4128a137",
   "metadata": {},
   "source": [
    "# HALL OF SHAME\n",
    "\n",
    "---\n"
   ]
  },
  {
   "cell_type": "markdown",
   "id": "7a26e176-13e1-4383-9287-8faa55cd1bcd",
   "metadata": {},
   "source": [
    "---\n"
   ]
  },
  {
   "cell_type": "code",
   "execution_count": null,
   "id": "7a57e90e-b515-4b71-94e4-dbf1c79789c2",
   "metadata": {},
   "outputs": [],
   "source": [
    "#peaking into df to make sure everything looks good\n",
    "\n",
    "#shape shows 11,927 rows and 8 columns\n",
    "#display(df.shape)\n",
    "\n",
    "#type shows data is in df\n",
    "#display(type(df))\n",
    "\n",
    "#columns return all the columns we listed in the function\n",
    "#display(list(df.columns))\n",
    "\n",
    "#value_counts confirm df only has rows from 2023 March to May\n",
    "#display(df.value_counts(subset=['year','month']))"
   ]
  },
  {
   "cell_type": "markdown",
   "id": "90503063-e37d-4952-9a2b-685facefcd87",
   "metadata": {},
   "source": [
    "### via Tiffany, make df to GPD\n",
    "* <b>COMPLETE</b> Query data from warehouse\n",
    "* then use this snippet from `make_routes_gdf` from `_shared_utils/shared_utils/geography_utils.py`.\n",
    "    * `ddf[\"geometry\"] = ddf.pt_array.apply(make_linestring)`\n",
    "<br>  \n",
    "* <b>COMPLETE</b> then save out as geo parquet to the `gtfs_schedule` folder in GCS (so versioning and history stays) using \n",
    "    * `utils.geoparquet_gcs_export(vp_gdf, SEGMENT_GCS, f\"vp_{analysis_date}\")`"
   ]
  },
  {
   "cell_type": "code",
   "execution_count": null,
   "id": "11fb6f6b-ff9f-4a1f-b962-3b4de22b4982",
   "metadata": {},
   "outputs": [],
   "source": [
    "#test of make_routes_gdf. DO NOT RUN\n",
    "\n",
    "# aprl_sept_2023_routes = geography_utils.make_routes_gdf(df, \"EPSG:4326\")"
   ]
  },
  {
   "cell_type": "code",
   "execution_count": null,
   "id": "36a9a610-071c-410e-9850-b4dc2f5fc032",
   "metadata": {},
   "outputs": [],
   "source": [
    "#display(type(aprl_sept_2023_routes))\n",
    "#list(aprl_sept_2023_routes.columns)\n",
    "#display(aprl_sept_2023_routes.geometry.name)"
   ]
  },
  {
   "cell_type": "raw",
   "id": "4eb6b299-f009-4a2d-bd4d-eb618cb730a7",
   "metadata": {},
   "source": [
    "#writing to gcs bucket. DO NOT RUN AGAIN\n",
    "\n",
    "#aprl_sept_2023_routes.to_parquet('gs://calitp-analytics-data/data-analyses/gtfs_schedule/route_identification_2023_m04_m09.parquet')\n"
   ]
  },
  {
   "cell_type": "markdown",
   "id": "6013738e-0f38-4405-8653-d0e8d0ced0ce",
   "metadata": {},
   "source": [
    "---"
   ]
  },
  {
   "cell_type": "code",
   "execution_count": null,
   "id": "bfd73f43-1e22-4759-bf1a-ef6a1cf90aa9",
   "metadata": {
    "tags": []
   },
   "outputs": [],
   "source": [
    "#creating sub-df for 'Sacramento Schedule'. DO NOT RUN\n",
    "\n",
    "# sac = aprl_sept_2023_routes[aprl_sept_2023_routes['name'] == 'Sacramento Schedule']"
   ]
  },
  {
   "cell_type": "code",
   "execution_count": null,
   "id": "2b9b4792-64ef-453a-80f4-f26ac64fa40e",
   "metadata": {},
   "outputs": [],
   "source": [
    "# type(sac)"
   ]
  },
  {
   "cell_type": "code",
   "execution_count": null,
   "id": "216d3c77-2fd4-4647-80be-3b1f53513358",
   "metadata": {},
   "outputs": [],
   "source": [
    "#writing sac filtered gdf to gcs as geoparquet. DO NOT RUN AGAIN\n",
    "\n",
    "# utils.geoparquet_gcs_export(sac, \"gs://calitp-analytics-data/data-analyses/gtfs_schedule/\", \"sac_route_identification_2023_m04_m09_geo\")"
   ]
  },
  {
   "cell_type": "code",
   "execution_count": null,
   "id": "a5319651-2fa7-43ed-8d93-67ffd4b22284",
   "metadata": {},
   "outputs": [],
   "source": [
    "#Now we can read in the parquet file from gcs without having to remake everything again.\n",
    "\n",
    "sac_gdf = gpd.read_parquet('gs://calitp-analytics-data/data-analyses/gtfs_schedule/sac_route_identification_2023_m04_m09_geo.parquet')"
   ]
  },
  {
   "cell_type": "code",
   "execution_count": null,
   "id": "60f4ad75-1a5f-45bb-b19d-1460a2660d06",
   "metadata": {},
   "outputs": [],
   "source": [
    "type(sac_gdf)"
   ]
  },
  {
   "cell_type": "code",
   "execution_count": null,
   "id": "425e7286-1880-4148-8789-dfa2c561f1ea",
   "metadata": {},
   "outputs": [],
   "source": [
    "display(sac.shape)\n",
    "display(sac.head())"
   ]
  },
  {
   "cell_type": "code",
   "execution_count": null,
   "id": "fbdfd7f8-a97a-41e8-9569-cf29d69971b3",
   "metadata": {},
   "outputs": [],
   "source": [
    "sac_gdf.plot()"
   ]
  },
  {
   "cell_type": "code",
   "execution_count": null,
   "id": "9ceaddbe-188d-4605-898a-9b38e9df552d",
   "metadata": {},
   "outputs": [],
   "source": [
    "Attempt at creating sub df of each routes to plot"
   ]
  },
  {
   "cell_type": "code",
   "execution_count": null,
   "id": "81d867e5-d3d1-4338-af9c-77747145fe3c",
   "metadata": {},
   "outputs": [],
   "source": [
    "sac_routes = sac_gdf['route_id'].unique()\n"
   ]
  },
  {
   "cell_type": "code",
   "execution_count": null,
   "id": "c7d3fc70-3b21-42f2-bd6a-057333349cc6",
   "metadata": {
    "tags": []
   },
   "outputs": [],
   "source": [
    "#empty dictionary\n",
    "sac_sub_route_ids = {}\n",
    "\n",
    "#each element in sac_routes will be called route.\n",
    "#for each route in sac_routes, query each row related to that route.(where ever you use the variable route, go 1-by-1 the differnet\n",
    "#then, create a dataframe for each route and place it into the dictionary sub_dataframes\n",
    "for route in sac_routes:\n",
    "    sub_df = sac[sac['route_id'] == route]\n",
    "    sac_sub_route_ids[route] = sub_df"
   ]
  },
  {
   "cell_type": "code",
   "execution_count": null,
   "id": "3272b64b-ffb7-41c2-962d-eff528a03ddc",
   "metadata": {},
   "outputs": [],
   "source": [
    "len(sac_sub_route_ids)"
   ]
  },
  {
   "cell_type": "code",
   "execution_count": null,
   "id": "c1cbf71a-1572-432a-bbf6-5e0f0a3ef47f",
   "metadata": {},
   "outputs": [],
   "source": [
    "#testing dictionary with route 23 and 88\n",
    "sac_sub_route_ids['023']"
   ]
  },
  {
   "cell_type": "code",
   "execution_count": null,
   "id": "9ff85050-b2b3-4534-899b-10fa6400b9e5",
   "metadata": {},
   "outputs": [],
   "source": [
    "#function to plot routes and to check for any variation in route geometry\n",
    "def route_checker(route_id):\n",
    "    display(sac_sub_route_ids[route_id].plot())\n",
    "    display(f'geometry checker...{sac_sub_route_ids[route_id].geometry.value_counts()}')\n",
    "    "
   ]
  },
  {
   "cell_type": "code",
   "execution_count": null,
   "id": "c0a59f5e-1347-47d8-b21a-298c32424703",
   "metadata": {},
   "outputs": [],
   "source": [
    "route_checker('088')"
   ]
  },
  {
   "cell_type": "markdown",
   "id": "31885351-4bdd-4df7-91dd-69ec22eba4c3",
   "metadata": {},
   "source": [
    "At this point determined we need more data that what `fct_monthly_routes` has. See approach 2"
   ]
  },
  {
   "cell_type": "markdown",
   "id": "1d4a03f9-7457-4c3c-82f6-8ba548407685",
   "metadata": {},
   "source": [
    "## Next Steps\n",
    "\n",
    "for every `name` and `route_id` in routes, need to see if each row is the same or not. Need to identify any variation in the routes. \n",
    "\n"
   ]
  },
  {
   "cell_type": "markdown",
   "id": "3b5d0e05-7aa8-4930-bcd9-bc632d745cf9",
   "metadata": {},
   "source": [
    "---\n",
    "\n",
    "Trying to use a loop that will create a df for every route_id in sac_routes. but would need to do this for every `name` in the `fct_monthly_routes` df eventually?\n"
   ]
  },
  {
   "cell_type": "markdown",
   "id": "5b684be3-62b3-42eb-86b9-08b05d02253a",
   "metadata": {},
   "source": [
    "---"
   ]
  },
  {
   "cell_type": "code",
   "execution_count": null,
   "id": "30abf0e8-dd05-4805-8801-92f78ffa7a75",
   "metadata": {},
   "outputs": [],
   "source": [
    "#list of unique route names from initial df\n",
    "route_names = df['name'].unique()\n"
   ]
  },
  {
   "cell_type": "code",
   "execution_count": null,
   "id": "b69ace75-b5d9-4433-8adf-b65d92472d26",
   "metadata": {},
   "outputs": [],
   "source": [
    "#new loop that creates a dictionary of each unique schedule name with all its routes.\n",
    "sub_route_name = {}\n",
    "\n",
    "for name in route_names:\n",
    "    sub_df2 = df[df['name'] == name]\n",
    "    sub_route_name[name] = sub_df2\n",
    "    "
   ]
  },
  {
   "cell_type": "code",
   "execution_count": null,
   "id": "82abf8d4-b157-453b-aa45-a91d4905f8bc",
   "metadata": {},
   "outputs": [],
   "source": [
    "#test to see if new dictionary works\n",
    "sub_route_name['Auburn Schedule']"
   ]
  },
  {
   "cell_type": "markdown",
   "id": "4b055e09-1396-4af9-8b0f-49faab6207bc",
   "metadata": {},
   "source": [
    "## Now I have `sac_sub_route_ids` and `sub_route_name` dictionaries\n",
    "\n",
    "Examples of some noteable routes with slight variations over time."
   ]
  },
  {
   "cell_type": "code",
   "execution_count": null,
   "id": "6f225d6b-11de-48c8-9b4d-8e7ed16861d8",
   "metadata": {},
   "outputs": [],
   "source": [
    "#General observations for Sacramento Schedule: \n",
    "#shape_id changes every month. \n",
    "#pt_array changes every month, however, did get a warning upon initial query of data so may need to review query to account for geodata\n",
    "#Month 4 has the point geom data\n",
    "\n",
    "display(sac_sub_route_ids['088'])\n",
    "display(sac_sub_route_ids['023'])\n",
    "display(sac_sub_route_ids['105'])\n",
    "display(sac_sub_route_ids['F20'])\n",
    "display(sac_sub_route_ids['215'])"
   ]
  },
  {
   "cell_type": "code",
   "execution_count": null,
   "id": "f784a5fa-276d-4d48-b512-b25daa5def1d",
   "metadata": {},
   "outputs": [],
   "source": [
    "#test to see other route names\n",
    "#other route names have more point geometry than Sacramento.\n",
    "display(sub_route_name['Santa Cruz Schedule'])\n",
    "display(sub_route_name['Merced Schedule'])\n",
    "display(sub_route_name['San Diego Schedule'])\n",
    "display(sub_route_name['Roseville Schedule'])"
   ]
  },
  {
   "cell_type": "code",
   "execution_count": null,
   "id": "16d75337-2544-4371-afa8-52b88fe06eb6",
   "metadata": {},
   "outputs": [],
   "source": [
    "import importlib\n",
    "\n",
    "importlib.reload(segment_speed_utils)\n",
    "from segment_speed_utils.project_vars import SCHED_GCS, analysis_date"
   ]
  },
  {
   "cell_type": "code",
   "execution_count": null,
   "id": "c8ec3566-e221-4165-8f52-d42146d3c64e",
   "metadata": {},
   "outputs": [],
   "source": []
  }
 ],
 "metadata": {
  "kernelspec": {
   "display_name": "Python 3 (ipykernel)",
   "language": "python",
   "name": "python3"
  },
  "language_info": {
   "codemirror_mode": {
    "name": "ipython",
    "version": 3
   },
   "file_extension": ".py",
   "mimetype": "text/x-python",
   "name": "python",
   "nbconvert_exporter": "python",
   "pygments_lexer": "ipython3",
   "version": "3.9.13"
  }
 },
 "nbformat": 4,
 "nbformat_minor": 5
}
