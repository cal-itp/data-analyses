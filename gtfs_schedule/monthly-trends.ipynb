{
 "cells": [
  {
   "cell_type": "markdown",
   "id": "86c85d1e-ec33-4801-9713-5e09f2ff4ac1",
   "metadata": {},
   "source": [
    "# Monthly Trends \n",
    "\n",
    "Now that we're beginning to add monthly aggregations to schedule data, let's see how it all plays together. Use this to get out the kinks of combining all our current data products.\n",
    "\n",
    "* Start with a single day across multiple months.\n",
    "* `scheduled_service_hours`\n",
    "    * service hours, scheduled trips in peak vs offpeak\n",
    "    * average stop spacing\n",
    "* `speeds` - single day aggregation to route-direction. don't use weekly average...we only produced this for 2 months\n",
    "    * segment speeds\n",
    "    * route-direction avg speed with common shape?\n",
    "* `rt_vs_schedule_metrics`"
   ]
  },
  {
   "cell_type": "code",
   "execution_count": 1,
   "id": "cca8128a-2a3b-4b07-b2b7-a74bdea1f66a",
   "metadata": {},
   "outputs": [],
   "source": [
    "import altair as alt\n",
    "import geopandas as gpd\n",
    "import pandas as pd\n",
    "\n",
    "from shared_utils import calitp_color_palette as cp\n",
    "from shared_utils import portfolio_utils, rt_dates, styleguide\n",
    "from segment_speed_utils import helpers\n",
    "from segment_speed_utils.project_vars import (SEGMENT_GCS, SCHED_GCS, \n",
    "                                              RT_SCHED_GCS)"
   ]
  },
  {
   "cell_type": "code",
   "execution_count": null,
   "id": "384997ea-21b0-4dfe-9149-f2bb0be1fdd3",
   "metadata": {},
   "outputs": [],
   "source": [
    "name = \"City of Santa Monica\""
   ]
  },
  {
   "cell_type": "code",
   "execution_count": null,
   "id": "e6ef5c90-0320-45d6-a754-9f923b973e67",
   "metadata": {},
   "outputs": [],
   "source": [
    "%%capture_parameters\n",
    "name"
   ]
  },
  {
   "cell_type": "markdown",
   "id": "9c82b116-3d7f-43ec-9356-5fb928522e4f",
   "metadata": {},
   "source": [
    "## Datasets\n",
    "* Start with single day for multiple months\n",
    "* scheduled service hours, avg stop spacing, parallel / intersecting\n",
    "* vehicle positions speeds\n",
    "* rt vs sched metrics"
   ]
  },
  {
   "cell_type": "code",
   "execution_count": 2,
   "id": "b07794b2-709f-4679-a2d6-47a2cafac5e4",
   "metadata": {},
   "outputs": [],
   "source": [
    "months = [\n",
    "    \"mar\", \"apr\", \"may\", \n",
    "    \"jun\", \"jul\", \"aug\", \n",
    "    \"sep\", \"oct\", \"nov\", \"dec\"\n",
    "]\n",
    "\n",
    "analysis_date_list = [\n",
    "    rt_dates.DATES[f\"{m}2023\"] for m in months\n",
    "]"
   ]
  },
  {
   "cell_type": "code",
   "execution_count": null,
   "id": "cd50a162-0113-4702-8aae-468267019c36",
   "metadata": {},
   "outputs": [],
   "source": []
  },
  {
   "cell_type": "code",
   "execution_count": null,
   "id": "1435b81a-bfeb-4d2c-9a59-65f53506f71d",
   "metadata": {},
   "outputs": [],
   "source": [
    "def merge_in_organization_identifiers(scheduled_service: pd.DataFrame):\n",
    "    crosswalk = (tbls.mart_transit_database.dim_provider_gtfs_data()\n",
    "             >> select(_.organization_source_record_id, \n",
    "                       _.organization_name, \n",
    "                       _.schedule_source_record_id)\n",
    "             >> filter(_.schedule_source_record_id != None, \n",
    "                       _.organization_source_record_id != None)\n",
    "             >> distinct()\n",
    "             >> collect()\n",
    "            )\n",
    "    \n",
    "    df_with_org = pd.merge(\n",
    "        scheduled_service,\n",
    "        crosswalk,\n",
    "        on = \"schedule_source_record_id\",\n",
    "        how = \"inner\"\n",
    "    ).drop(columns = [\"schedule_source_record_id\"]\n",
    "          ).rename(columns = {\n",
    "        \"organization_source_record_id\": \"source_record_id\",\n",
    "        \"organization_name\": \"name\",\n",
    "    })\n",
    "    \n",
    "    return df_with_org"
   ]
  },
  {
   "cell_type": "code",
   "execution_count": 33,
   "id": "485af91e-796f-4a83-9414-55adcd876e13",
   "metadata": {},
   "outputs": [],
   "source": [
    "def concatenate_route_direction_and_cleanup(\n",
    "    date_list: list\n",
    ") -> pd.DataFrame:\n",
    "    df_schedule = pd.concat([\n",
    "        pd.read_parquet(\n",
    "         f\"{RT_SCHED_GCS}schedule_route_direction_metrics_{d}.parquet\",\n",
    "            columns = [\n",
    "                \"schedule_gtfs_dataset_key\", \n",
    "                \"route_id\", \"direction_id\",\n",
    "                \"avg_sched_service_min\", \n",
    "                \"avg_stop_meters\",\n",
    "                \"offpeak_n_trips\", \"peak_n_trips\",\n",
    "                \"offpeak_frequency\", \"peak_frequency\"\n",
    "            ]\n",
    "        ).assign(service_date = pd.to_datetime(d)) \n",
    "        for d in date_list\n",
    "    ], axis=0, ignore_index=True)\n",
    "    \n",
    "    standardized_route_names = pd.read_parquet(\n",
    "        f\"{SCHED_GCS}standardized_route_ids.parquet\",\n",
    "        columns = [\"schedule_gtfs_dataset_key\", \"name\", \n",
    "                   \"route_id\", \"service_date\",\n",
    "                   \"recent_route_id2\", \"recent_combined_name\"\n",
    "                  ]\n",
    "    )\n",
    "    \n",
    "    df = pd.merge(\n",
    "        df_schedule,\n",
    "        standardized_route_names,\n",
    "        on = [\"schedule_gtfs_dataset_key\", \"route_id\", \"service_date\"],\n",
    "        how = \"left\",\n",
    "    )\n",
    "    \n",
    "    # Clean up, round columns, get it as close to ready for charts\n",
    "    df = df.assign(\n",
    "        route_short_name = (df.recent_combined_name\n",
    "                            .str.split(\"__\", expand=True)[0]),\n",
    "        route_long_name = (df.recent_combined_name\n",
    "                           .str.split(\"__\", expand=True)[1]),\n",
    "        direction_id = df.direction_id.astype(\"int\"),\n",
    "        avg_sched_service_min = df.avg_sched_service_min.round(1),\n",
    "        avg_stop_meters = df.avg_stop_meters.round(1),\n",
    "    ).drop(\n",
    "        columns = [\"route_id\", \"recent_combined_name\"]\n",
    "    ).rename(\n",
    "        columns = {\"recent_route_id2\": \"route_id\"}\n",
    "    )\n",
    "    \n",
    "    return df"
   ]
  },
  {
   "cell_type": "code",
   "execution_count": 18,
   "id": "f086a759-de86-49b4-bd66-a515b9908f73",
   "metadata": {},
   "outputs": [],
   "source": [
    "df_schedule2 = concatenate_route_direction_and_cleanup(analysis_date_list)"
   ]
  },
  {
   "cell_type": "code",
   "execution_count": 46,
   "id": "e608f2ce-c186-4d28-ac99-a88d56e23059",
   "metadata": {},
   "outputs": [
    {
     "data": {
      "text/plain": [
       "Index(['schedule_gtfs_dataset_key', 'direction_id', 'avg_sched_service_min',\n",
       "       'avg_stop_meters', 'offpeak_n_trips', 'peak_n_trips',\n",
       "       'offpeak_frequency', 'peak_frequency', 'service_date', 'name',\n",
       "       'route_id', 'route_short_name', 'route_long_name'],\n",
       "      dtype='object')"
      ]
     },
     "execution_count": 46,
     "metadata": {},
     "output_type": "execute_result"
    }
   ],
   "source": [
    "df_schedule2.columns"
   ]
  },
  {
   "cell_type": "code",
   "execution_count": 47,
   "id": "fc007968-3bb9-4704-a39e-5b68ea2049b8",
   "metadata": {},
   "outputs": [],
   "source": [
    "from shared_utils import schedule_rt_utils\n",
    "'''\n",
    "crosswalk = schedule_rt_utils.sample_gtfs_dataset_key_to_organization_crosswalk(\n",
    "    df_schedule2.rename(\n",
    "        columns = {\"schedule_gtfs_dataset_key\": \"gtfs_dataset_key\"}\n",
    "    ),\n",
    "    analysis_date_list[-1],\n",
    "    quartet_data = \"schedule\",\n",
    "    dim_gtfs_dataset_cols = [\n",
    "        \"key\",\n",
    "    ],\n",
    "    dim_organization_cols = [\"source_record_id\", \"name\", \"caltrans_district\"]\n",
    ")\n",
    "\n",
    "crosswalk.to_parquet(\"crosswalk_to_organization.parquet\")\n",
    "'''"
   ]
  },
  {
   "cell_type": "code",
   "execution_count": 51,
   "id": "6df67302-d275-4d06-a9df-17d3a3bec110",
   "metadata": {},
   "outputs": [],
   "source": [
    "crosswalk = pd.read_parquet(\"crosswalk_to_organization.parquet\")"
   ]
  },
  {
   "cell_type": "code",
   "execution_count": 57,
   "id": "9250d8c6-d4fb-4e31-966d-76b6609d48ff",
   "metadata": {},
   "outputs": [
    {
     "data": {
      "text/plain": [
       "2023-03-15    1998\n",
       "2023-04-12    1100\n",
       "2023-08-15     935\n",
       "2023-05-17     918\n",
       "2023-07-12     851\n",
       "2023-06-14     780\n",
       "2023-09-13      97\n",
       "2023-10-11      71\n",
       "2023-11-15      20\n",
       "Name: service_date, dtype: int64"
      ]
     },
     "execution_count": 57,
     "metadata": {},
     "output_type": "execute_result"
    }
   ],
   "source": [
    "pd.merge(\n",
    "    df_schedule2,\n",
    "    crosswalk,\n",
    "    on = [\"schedule_gtfs_dataset_key\"],\n",
    "    how = \"outer\",\n",
    "    indicator = True\n",
    ").query('_merge==\"left_only\"').service_date.value_counts()"
   ]
  },
  {
   "cell_type": "code",
   "execution_count": 58,
   "id": "b34ffa83-c064-4ef5-b3c3-ea945f86eb01",
   "metadata": {},
   "outputs": [
    {
     "data": {
      "text/plain": [
       "San Diego Schedule            1064\n",
       "Sacramento Schedule            500\n",
       "North County Schedule          454\n",
       "Santa Clarita Schedule         417\n",
       "StanRTA Schedule               408\n",
       "                              ... \n",
       "Inglewood Schedule               3\n",
       "Lawndale Beat GMV Schedule       2\n",
       "Cudahy Schedule                  2\n",
       "La Campana Schedule              2\n",
       "Santa Maria Schedule             1\n",
       "Name: name, Length: 71, dtype: int64"
      ]
     },
     "execution_count": 58,
     "metadata": {},
     "output_type": "execute_result"
    }
   ],
   "source": [
    "pd.merge(\n",
    "    df_schedule2,\n",
    "    crosswalk,\n",
    "    on = [\"schedule_gtfs_dataset_key\"],\n",
    "    how = \"outer\",\n",
    "    indicator = True\n",
    ").query('_merge==\"left_only\"').name.value_counts()"
   ]
  },
  {
   "cell_type": "code",
   "execution_count": null,
   "id": "1161e9d7-d487-4dfc-8865-ece0c1a2cd0e",
   "metadata": {},
   "outputs": [],
   "source": []
  },
  {
   "cell_type": "code",
   "execution_count": 41,
   "id": "c6d8fda8-6ead-4a2c-955f-6af26f5e5b1e",
   "metadata": {},
   "outputs": [],
   "source": [
    "d = analysis_date_list[-2]"
   ]
  },
  {
   "cell_type": "code",
   "execution_count": 45,
   "id": "d6007953-b508-4650-8748-0951647c0496",
   "metadata": {},
   "outputs": [
    {
     "data": {
      "text/html": [
       "<div>\n",
       "<style scoped>\n",
       "    .dataframe tbody tr th:only-of-type {\n",
       "        vertical-align: middle;\n",
       "    }\n",
       "\n",
       "    .dataframe tbody tr th {\n",
       "        vertical-align: top;\n",
       "    }\n",
       "\n",
       "    .dataframe thead th {\n",
       "        text-align: right;\n",
       "    }\n",
       "</style>\n",
       "<table border=\"1\" class=\"dataframe\">\n",
       "  <thead>\n",
       "    <tr style=\"text-align: right;\">\n",
       "      <th></th>\n",
       "      <th>org_id</th>\n",
       "      <th>agency</th>\n",
       "      <th>route_id</th>\n",
       "      <th>route_name</th>\n",
       "      <th>direction_id</th>\n",
       "      <th>common_shape_id</th>\n",
       "      <th>time_of_day</th>\n",
       "      <th>speed_mph</th>\n",
       "      <th>n_trips</th>\n",
       "      <th>avg_sched_trip_min</th>\n",
       "      <th>avg_rt_trip_min</th>\n",
       "      <th>base64_url</th>\n",
       "      <th>district_name</th>\n",
       "      <th>geometry</th>\n",
       "    </tr>\n",
       "  </thead>\n",
       "  <tbody>\n",
       "    <tr>\n",
       "      <th>0</th>\n",
       "      <td>rec00qSzZL8KqiXAo</td>\n",
       "      <td>Long Beach Transit</td>\n",
       "      <td>51</td>\n",
       "      <td>LONG BEACH BLVD</td>\n",
       "      <td>0</td>\n",
       "      <td>510078</td>\n",
       "      <td>AM Peak</td>\n",
       "      <td>5.0</td>\n",
       "      <td>13</td>\n",
       "      <td>50.7</td>\n",
       "      <td>124.5</td>\n",
       "      <td>aHR0cHM6Ly9kcml2ZS5nb29nbGUuY29tL3VjP2V4cG9ydD...</td>\n",
       "      <td>07 - Los Angeles</td>\n",
       "      <td>LINESTRING (-118.22298 33.87534, -118.22293 33...</td>\n",
       "    </tr>\n",
       "    <tr>\n",
       "      <th>1</th>\n",
       "      <td>rec00qSzZL8KqiXAo</td>\n",
       "      <td>Long Beach Transit</td>\n",
       "      <td>51</td>\n",
       "      <td>LONG BEACH BLVD</td>\n",
       "      <td>0</td>\n",
       "      <td>510078</td>\n",
       "      <td>Early AM</td>\n",
       "      <td>5.8</td>\n",
       "      <td>8</td>\n",
       "      <td>43.8</td>\n",
       "      <td>109.5</td>\n",
       "      <td>aHR0cHM6Ly9kcml2ZS5nb29nbGUuY29tL3VjP2V4cG9ydD...</td>\n",
       "      <td>07 - Los Angeles</td>\n",
       "      <td>LINESTRING (-118.22298 33.87534, -118.22293 33...</td>\n",
       "    </tr>\n",
       "    <tr>\n",
       "      <th>2</th>\n",
       "      <td>rec00qSzZL8KqiXAo</td>\n",
       "      <td>Long Beach Transit</td>\n",
       "      <td>51</td>\n",
       "      <td>LONG BEACH BLVD</td>\n",
       "      <td>0</td>\n",
       "      <td>510078</td>\n",
       "      <td>Evening</td>\n",
       "      <td>6.0</td>\n",
       "      <td>4</td>\n",
       "      <td>42.0</td>\n",
       "      <td>105.3</td>\n",
       "      <td>aHR0cHM6Ly9kcml2ZS5nb29nbGUuY29tL3VjP2V4cG9ydD...</td>\n",
       "      <td>07 - Los Angeles</td>\n",
       "      <td>LINESTRING (-118.22298 33.87534, -118.22293 33...</td>\n",
       "    </tr>\n",
       "    <tr>\n",
       "      <th>3</th>\n",
       "      <td>rec00qSzZL8KqiXAo</td>\n",
       "      <td>Long Beach Transit</td>\n",
       "      <td>51</td>\n",
       "      <td>LONG BEACH BLVD</td>\n",
       "      <td>0</td>\n",
       "      <td>510078</td>\n",
       "      <td>Midday</td>\n",
       "      <td>4.6</td>\n",
       "      <td>20</td>\n",
       "      <td>55.8</td>\n",
       "      <td>135.0</td>\n",
       "      <td>aHR0cHM6Ly9kcml2ZS5nb29nbGUuY29tL3VjP2V4cG9ydD...</td>\n",
       "      <td>07 - Los Angeles</td>\n",
       "      <td>LINESTRING (-118.22298 33.87534, -118.22293 33...</td>\n",
       "    </tr>\n",
       "    <tr>\n",
       "      <th>4</th>\n",
       "      <td>rec00qSzZL8KqiXAo</td>\n",
       "      <td>Long Beach Transit</td>\n",
       "      <td>51</td>\n",
       "      <td>LONG BEACH BLVD</td>\n",
       "      <td>0</td>\n",
       "      <td>510078</td>\n",
       "      <td>PM Peak</td>\n",
       "      <td>4.9</td>\n",
       "      <td>16</td>\n",
       "      <td>54.0</td>\n",
       "      <td>129.7</td>\n",
       "      <td>aHR0cHM6Ly9kcml2ZS5nb29nbGUuY29tL3VjP2V4cG9ydD...</td>\n",
       "      <td>07 - Los Angeles</td>\n",
       "      <td>LINESTRING (-118.22298 33.87534, -118.22293 33...</td>\n",
       "    </tr>\n",
       "  </tbody>\n",
       "</table>\n",
       "</div>"
      ],
      "text/plain": [
       "              org_id              agency route_id       route_name  \\\n",
       "0  rec00qSzZL8KqiXAo  Long Beach Transit       51  LONG BEACH BLVD   \n",
       "1  rec00qSzZL8KqiXAo  Long Beach Transit       51  LONG BEACH BLVD   \n",
       "2  rec00qSzZL8KqiXAo  Long Beach Transit       51  LONG BEACH BLVD   \n",
       "3  rec00qSzZL8KqiXAo  Long Beach Transit       51  LONG BEACH BLVD   \n",
       "4  rec00qSzZL8KqiXAo  Long Beach Transit       51  LONG BEACH BLVD   \n",
       "\n",
       "   direction_id common_shape_id time_of_day  speed_mph  n_trips  \\\n",
       "0             0          510078     AM Peak        5.0       13   \n",
       "1             0          510078    Early AM        5.8        8   \n",
       "2             0          510078     Evening        6.0        4   \n",
       "3             0          510078      Midday        4.6       20   \n",
       "4             0          510078     PM Peak        4.9       16   \n",
       "\n",
       "   avg_sched_trip_min  avg_rt_trip_min  \\\n",
       "0                50.7            124.5   \n",
       "1                43.8            109.5   \n",
       "2                42.0            105.3   \n",
       "3                55.8            135.0   \n",
       "4                54.0            129.7   \n",
       "\n",
       "                                          base64_url     district_name  \\\n",
       "0  aHR0cHM6Ly9kcml2ZS5nb29nbGUuY29tL3VjP2V4cG9ydD...  07 - Los Angeles   \n",
       "1  aHR0cHM6Ly9kcml2ZS5nb29nbGUuY29tL3VjP2V4cG9ydD...  07 - Los Angeles   \n",
       "2  aHR0cHM6Ly9kcml2ZS5nb29nbGUuY29tL3VjP2V4cG9ydD...  07 - Los Angeles   \n",
       "3  aHR0cHM6Ly9kcml2ZS5nb29nbGUuY29tL3VjP2V4cG9ydD...  07 - Los Angeles   \n",
       "4  aHR0cHM6Ly9kcml2ZS5nb29nbGUuY29tL3VjP2V4cG9ydD...  07 - Los Angeles   \n",
       "\n",
       "                                            geometry  \n",
       "0  LINESTRING (-118.22298 33.87534, -118.22293 33...  \n",
       "1  LINESTRING (-118.22298 33.87534, -118.22293 33...  \n",
       "2  LINESTRING (-118.22298 33.87534, -118.22293 33...  \n",
       "3  LINESTRING (-118.22298 33.87534, -118.22293 33...  \n",
       "4  LINESTRING (-118.22298 33.87534, -118.22293 33...  "
      ]
     },
     "execution_count": 45,
     "metadata": {},
     "output_type": "execute_result"
    }
   ],
   "source": [
    "gpd.read_parquet(f\"{SEGMENT_GCS}trip_summary/route_speeds_{d}.parquet\").head()"
   ]
  },
  {
   "cell_type": "code",
   "execution_count": 31,
   "id": "6d59804c-6371-4abf-91b1-84abd66bd61b",
   "metadata": {},
   "outputs": [],
   "source": []
  },
  {
   "cell_type": "markdown",
   "id": "2b53303a-a7bc-4349-bb25-9d83c9b764ed",
   "metadata": {},
   "source": [
    "## Prep `route-time_of_day-month` schedule and RT dfs"
   ]
  },
  {
   "cell_type": "code",
   "execution_count": null,
   "id": "7ea2fe5c-faed-46cd-a23f-b66cbabd97a9",
   "metadata": {},
   "outputs": [],
   "source": [
    "'''\n",
    "df = (tbls.mart_ad_hoc.fct_scheduled_service_by_daypart()\n",
    "      >> filter(_.year == 2023)\n",
    "      >> collect()\n",
    "     )\n",
    "     \n",
    "df.to_parquet(f\"{SCHED_GCS}service_daypart_2023_m01_m07.parquet\")\n",
    "'''"
   ]
  },
  {
   "cell_type": "code",
   "execution_count": null,
   "id": "4d371705-5082-491d-8591-f58c328d0541",
   "metadata": {},
   "outputs": [],
   "source": [
    "DAY_TYPE_DICT = {\n",
    "    1: \"Sunday\",\n",
    "    2: \"Monday\",\n",
    "    3: \"Tuesday\",\n",
    "    4: \"Wednesday\",\n",
    "    5: \"Thursday\",\n",
    "    6: \"Friday\",\n",
    "    7: \"Saturday\"\n",
    "}\n",
    "\n",
    "WEEKDAY_WEEKEND_DICT = {\n",
    "    \"weekday\": [2, 3, 4, 5, 6],\n",
    "    \"weekend\": [1, 7]\n",
    "}"
   ]
  },
  {
   "cell_type": "code",
   "execution_count": null,
   "id": "4ae4b9d3-fb45-45cc-940c-895d3f8de7d5",
   "metadata": {},
   "outputs": [],
   "source": [
    "def aggregate_scheduled_service_by_time_of_day(\n",
    "    df: pd.DataFrame,\n",
    "    group_cols: list\n",
    ") -> pd.DataFrame:\n",
    "    \"\"\"\n",
    "    Aggregate ttl_service_hours up to time-of-day/service_type (weekday/weekend)\n",
    "    and calculate avg_service_hours.\n",
    "    \"\"\"\n",
    "    # Get weekday and weekend service by time-of-day\n",
    "    # https://stackoverflow.com/questions/61135954/pandas-map-column-from-dict-values-in-a-list\n",
    "    df = df.assign(\n",
    "        service_type = df.day_type.map(\n",
    "            {item: k for k, v in WEEKDAY_WEEKEND_DICT.items() for item in v})\n",
    "    )\n",
    "\n",
    "    df2 = (df.groupby(group_cols)\n",
    "        .agg({\n",
    "            \"ttl_service_hours\": \"sum\", \n",
    "            \"n_trips\": \"sum\"\n",
    "        }).reset_index()\n",
    "    )\n",
    "    \n",
    "    df2 = df2.assign(\n",
    "        avg_service_hours = df2.ttl_service_hours.divide(df2.n_trips).round(2),\n",
    "        ttl_service_hours = df2.ttl_service_hours.round(2),\n",
    "    )\n",
    "    \n",
    "    return df2\n"
   ]
  },
  {
   "cell_type": "code",
   "execution_count": null,
   "id": "c9ca1a0b-9b3f-4176-a89a-3b2aade4242c",
   "metadata": {},
   "outputs": [],
   "source": [
    "service_hours = pd.read_parquet(\n",
    "    f\"{SCHED_GCS}service_daypart_2023_m01_m07.parquet\")\n",
    "\n",
    "\n",
    "route_cols = [\n",
    "    \"source_record_id\", \n",
    "    \"route_id\",\n",
    "    #\"route_long_name\", \"route_short_name\", \n",
    "    \"year\", \"month\",\n",
    "    \"time_of_day\", \"service_type\",\n",
    "]\n",
    "\n",
    "service_time_of_day = (aggregate_scheduled_service_by_time_of_day(\n",
    "    service_hours, route_cols)\n",
    "    .rename(columns = {\n",
    "        \"source_record_id\": \"schedule_source_record_id\"})\n",
    ")"
   ]
  },
  {
   "cell_type": "code",
   "execution_count": null,
   "id": "dc9deb48-c172-4109-8ae7-f9431269fafe",
   "metadata": {},
   "outputs": [],
   "source": [
    "def merge_in_organization_identifiers(scheduled_service: pd.DataFrame):\n",
    "    crosswalk = (tbls.mart_transit_database.dim_provider_gtfs_data()\n",
    "             >> select(_.organization_source_record_id, \n",
    "                       _.organization_name, \n",
    "                       _.schedule_source_record_id)\n",
    "             >> filter(_.schedule_source_record_id != None, \n",
    "                       _.organization_source_record_id != None)\n",
    "             >> distinct()\n",
    "             >> collect()\n",
    "            )\n",
    "    \n",
    "    df_with_org = pd.merge(\n",
    "        scheduled_service,\n",
    "        crosswalk,\n",
    "        on = \"schedule_source_record_id\",\n",
    "        how = \"inner\"\n",
    "    ).drop(columns = [\"schedule_source_record_id\"]\n",
    "          ).rename(columns = {\n",
    "        \"organization_source_record_id\": \"source_record_id\",\n",
    "        \"organization_name\": \"name\",\n",
    "    })\n",
    "    \n",
    "    return df_with_org"
   ]
  },
  {
   "cell_type": "code",
   "execution_count": null,
   "id": "dbda953a-4742-44e4-b162-0774b666bd3d",
   "metadata": {},
   "outputs": [],
   "source": [
    "service_df = merge_in_organization_identifiers(service_time_of_day)"
   ]
  },
  {
   "cell_type": "code",
   "execution_count": null,
   "id": "8219d629-44a6-402d-afd9-403714b2cd79",
   "metadata": {},
   "outputs": [],
   "source": [
    "# Use avg speed for a single day as stand-in for the month\n",
    "speed_month_dates = [\"mar2023\", \"apr2023\", \"may2023\", \"jun2023\"]\n",
    "speed_dates = [rt_dates.DATES[i] for i in speed_month_dates]\n",
    "speed_dates"
   ]
  },
  {
   "cell_type": "code",
   "execution_count": null,
   "id": "14befb9b-6e3d-495f-8b2f-9afff5660708",
   "metadata": {},
   "outputs": [],
   "source": [
    "def import_route_speeds(analysis_date: str) -> gpd.GeoDataFrame:\n",
    "    \"\"\"\n",
    "    Import route-direction_time_of_day avg speeds.\n",
    "    Get it ready to merge with scheduled service.\n",
    "    \"\"\"\n",
    "    df = gpd.read_parquet(\n",
    "        f\"{SEGMENT_GCS}trip_summary/route_speeds_{analysis_date}.parquet\")\n",
    "    \n",
    "    df = df.assign(\n",
    "        year = pd.to_datetime(analysis_date).year, \n",
    "        month = pd.to_datetime(analysis_date).month,\n",
    "        analysis_date = pd.to_datetime(analysis_date)\n",
    "    ).rename(columns = {\"org_id\": \"source_record_id\",\n",
    "                        \"agency\": \"name\", \n",
    "                        \"n_trips\": \"n_rt_trips\"\n",
    "                       })\n",
    "    \n",
    "    return df"
   ]
  },
  {
   "cell_type": "code",
   "execution_count": null,
   "id": "9868a5df-1915-4f75-99ee-86fa3e4bd747",
   "metadata": {},
   "outputs": [],
   "source": [
    "speed_df = pd.concat(\n",
    "    [import_route_speeds(i) for i in speed_dates], \n",
    "    axis=0\n",
    ")"
   ]
  },
  {
   "cell_type": "code",
   "execution_count": null,
   "id": "fe6e68a5-bfa8-4c1f-8720-e34404a7c3eb",
   "metadata": {},
   "outputs": [],
   "source": [
    "df = pd.merge(\n",
    "    speed_df,\n",
    "    service_df,\n",
    "    on = [\"source_record_id\", \"name\", \"route_id\", \n",
    "          \"time_of_day\", \"year\", \"month\"],\n",
    "    how = \"outer\",\n",
    "    indicator=True\n",
    ")\n",
    "\n",
    "df._merge.value_counts()"
   ]
  },
  {
   "cell_type": "markdown",
   "id": "76479d14-0082-4d54-8c3b-993b7ef426fe",
   "metadata": {},
   "source": [
    "## Check merge results\n",
    "\n",
    "Speed data not available for Jan or Feb, so we can drop those.\n",
    "\n",
    "Other than that, take a look at which routes appear in RT but not schedule and vice versa."
   ]
  },
  {
   "cell_type": "code",
   "execution_count": null,
   "id": "cd524355-42fd-407f-9cf0-f836b930f330",
   "metadata": {},
   "outputs": [],
   "source": [
    "df[(df.month < 3) & (df.year == 2023)]._merge.value_counts()"
   ]
  },
  {
   "cell_type": "code",
   "execution_count": null,
   "id": "a413cbef-ed50-4e9c-ba43-8cd28c9e5f7d",
   "metadata": {},
   "outputs": [],
   "source": [
    "df[(df.month >= 3) & (df.year == 2023)]._merge.value_counts()"
   ]
  },
  {
   "cell_type": "code",
   "execution_count": null,
   "id": "6aac1d69-2730-4d75-be1c-5ddeeb33766d",
   "metadata": {},
   "outputs": [],
   "source": [
    "df2 = df[(df.month >= 3) & (df.year == 2023)].reset_index(drop=True)"
   ]
  },
  {
   "cell_type": "markdown",
   "id": "4f84fbd5-66a1-4996-a4e3-8415a726b205",
   "metadata": {},
   "source": [
    "## Sample Route Chart\n",
    "\n",
    "### Issues to Resolve\n",
    "* `route_id` may be unstable over many months. For LA Metro, they tack something after a hyphen.\n",
    "* `route_name` is more stable, but may be less understandable in some cases (Metro's Line 720's standardized route_name (via `portfolio_utils`) is `SANTA MONICA-DOWNTOWN LA VIA WILSHIRE BLVD`)\n",
    "* speeds have `direction_id`, and scheduled service hours doesn't. Should we add it? This will actually double up the rows from speeds and if we're not careful, double count scheduled service hours."
   ]
  },
  {
   "cell_type": "code",
   "execution_count": null,
   "id": "efaf499c-0054-4fcb-8982-84b2404e6651",
   "metadata": {},
   "outputs": [],
   "source": [
    "metro = df2[df2.name.str.contains(\"Los Angeles County Metropolitan\")]\n",
    "metro[metro.route_id.str.contains(\"720\")].route_id.value_counts()"
   ]
  },
  {
   "cell_type": "code",
   "execution_count": null,
   "id": "f7a79484-f019-4dd5-8508-9d2228d36c5e",
   "metadata": {},
   "outputs": [],
   "source": [
    "one_route = metro[(metro.route_id.str.contains(\"720\")) & \n",
    "                  (metro.route_id.notna())].route_name.iloc[0]\n",
    "one_route"
   ]
  },
  {
   "cell_type": "code",
   "execution_count": null,
   "id": "88bf720a-8142-436d-9e21-26f7559fb38a",
   "metadata": {},
   "outputs": [],
   "source": [
    "service_df = service_df.assign(\n",
    "    date = pd.to_datetime(service_df.year.astype(str) + \" \" + \n",
    "                          service_df.month.astype(str) + \" \" + \"01\")\n",
    ")"
   ]
  },
  {
   "cell_type": "code",
   "execution_count": null,
   "id": "e40a2500-b91f-45d3-8c21-20b797c7a431",
   "metadata": {},
   "outputs": [],
   "source": [
    "test_operator = \"Los Angeles County Metropolitan\"\n",
    "test_route = \"720\"\n",
    "\n",
    "metro = service_df[\n",
    "    (service_df.name.str.contains(test_operator)) & \n",
    "    (service_df.route_id.str.contains(test_route)) ] "
   ]
  },
  {
   "cell_type": "code",
   "execution_count": null,
   "id": "dc1918cb-6252-4773-b748-63be75d331ea",
   "metadata": {},
   "outputs": [],
   "source": [
    "sort_time_of_day = [\"Early AM\", \"AM Peak\", \n",
    "                      \"Midday\", \"PM Peak\", \n",
    "                      \"Evening\", \"OWL\"]\n",
    "(alt.Chart(metro)\n",
    " .mark_line()\n",
    " .encode(\n",
    "     x = alt.X(\"month(date):T\"),\n",
    "     y = alt.Y(\"sum(avg_service_hours):Q\", \n",
    "               title = \"Avg Service Hours\"\n",
    "              ),\n",
    "     color = alt.Color(\n",
    "         \"time_of_day:N\", title = \"Time of Day\",\n",
    "        scale = alt.Scale(\n",
    "            domain = sort_time_of_day, \n",
    "            range = cp.CALITP_CATEGORY_BRIGHT_COLORS)\n",
    "        ),\n",
    "     tooltip = [\"time_of_day\", \n",
    "                \"sum(avg_service_hours)\", \n",
    "               ]\n",
    " ).properties(title = f\"Route {metro.route_id.iloc[0]}\")\n",
    " .interactive()\n",
    ")"
   ]
  },
  {
   "cell_type": "code",
   "execution_count": null,
   "id": "20a10256-33fe-4091-9936-34c1c385e301",
   "metadata": {},
   "outputs": [],
   "source": [
    "metro_speed = speed_df[(speed_df.name.str.contains(test_operator)) & \n",
    "        (speed_df.route_id.str.contains(test_route))]"
   ]
  },
  {
   "cell_type": "code",
   "execution_count": null,
   "id": "6e584832-8e6e-4bfe-b0b7-3c69addd0240",
   "metadata": {},
   "outputs": [],
   "source": [
    "(alt.Chart(metro_speed[metro_speed.direction_id==0])\n",
    " .mark_bar()\n",
    " .encode(\n",
    "     x = alt.X(\"month:O\", title = \"Date\"),\n",
    "     y = alt.Y(\"speed_mph:Q\", title=\"Avg Speed\"),\n",
    "     column = alt.Column(\"time_of_day:N\", title = \"Time of Day\",\n",
    "                         sort = sort_time_of_day),\n",
    "     color = alt.Color(\n",
    "         \"time_of_day:N\", title = \"Time of Day\",\n",
    "         scale = alt.Scale(\n",
    "             domain = sort_time_of_day, \n",
    "             range = cp.CALITP_CATEGORY_BRIGHT_COLORS)\n",
    "     )\n",
    " ).properties(title = f\"{metro_speed.route_id.iloc[0]} direction 0\")\n",
    " .interactive()\n",
    ")"
   ]
  },
  {
   "cell_type": "code",
   "execution_count": null,
   "id": "dbe28f54-1851-48d8-97a7-152568e5c514",
   "metadata": {},
   "outputs": [],
   "source": [
    "(alt.Chart(metro_speed[metro_speed.direction_id==1])\n",
    " .mark_bar()\n",
    " .encode(\n",
    "     x = alt.X(\"month:O\", title = \"Date\"),\n",
    "     y = alt.Y(\"speed_mph:Q\", title=\"Avg Speed\"),\n",
    "     column = alt.Column(\"time_of_day:N\", title = \"Time of Day\",\n",
    "                         sort = sort_time_of_day),\n",
    "     color = alt.Color(\n",
    "         \"time_of_day:N\", title = \"Time of Day\",\n",
    "         scale = alt.Scale(\n",
    "             domain = sort_time_of_day, \n",
    "             range = cp.CALITP_CATEGORY_BRIGHT_COLORS)\n",
    "     )\n",
    " ).properties(title = f\"{metro_speed.route_id.iloc[0]} direction 0\")\n",
    " .interactive()\n",
    ")"
   ]
  },
  {
   "cell_type": "code",
   "execution_count": null,
   "id": "a8ae809a-da68-46c7-a460-cb5eb16bd86f",
   "metadata": {},
   "outputs": [],
   "source": [
    "# Does it make sense to take a 6 month avg of speeds by \n",
    "# route-direction-time_of_day?\n",
    "metro_speed_aggregated = (metro_speed.groupby([\"source_record_id\", \"name\", \n",
    "                                               \"route_name\", \"direction_id\", \n",
    "                                               \"time_of_day\", ])\n",
    "                          .agg({\"speed_mph\": \"mean\"}\n",
    "                          ).reset_index()\n",
    "                         )"
   ]
  },
  {
   "cell_type": "code",
   "execution_count": null,
   "id": "1ce2022f-76d4-4285-86b8-8e4ab8123ae5",
   "metadata": {},
   "outputs": [],
   "source": [
    "route_crosswalk = metro_speed[\n",
    "    [\"source_record_id\", \"name\", \"route_id\", \"route_name\", \"geometry\"]\n",
    "].drop_duplicates(subset=[\"source_record_id\", \"name\", \"route_name\"])"
   ]
  },
  {
   "cell_type": "code",
   "execution_count": null,
   "id": "6966dc0e-7005-4130-ba4f-8356f78a5ff7",
   "metadata": {},
   "outputs": [],
   "source": [
    "metro_speed_aggregated = pd.merge(\n",
    "    route_crosswalk,\n",
    "    metro_speed_aggregated, \n",
    "    on = [\"source_record_id\", \"name\", \"route_name\"]\n",
    ")"
   ]
  },
  {
   "cell_type": "code",
   "execution_count": null,
   "id": "3f18db05-91db-447f-977d-de6d8b767cba",
   "metadata": {},
   "outputs": [],
   "source": [
    "metro_speed_aggregated.columns"
   ]
  },
  {
   "cell_type": "code",
   "execution_count": null,
   "id": "711519dc-32a6-422f-8b5d-d408ece9e8c0",
   "metadata": {},
   "outputs": [],
   "source": [
    "COLORSCALE = branca.colormap.step.RdYlGn_10.scale(vmin=0, vmax=40)\n",
    "COLORSCALE.caption = \"Speed (miles per hour)\"\n",
    "\n",
    "for t in sort_time_of_day:\n",
    "    subset_df = metro_speed_aggregated[\n",
    "        metro_speed_aggregated.time_of_day==t]\n",
    "    \n",
    "    if len(subset_df) > 0:\n",
    "        m = subset_df.explore(\"speed_mph\", cmap = COLORSCALE, \n",
    "                        tiles = 'CartoDBPositron')\n",
    "        print(f\"{t}\")\n",
    "        display(m)"
   ]
  },
  {
   "cell_type": "code",
   "execution_count": null,
   "id": "e720742d-a8d4-4d24-b737-b46234e0acc2",
   "metadata": {},
   "outputs": [],
   "source": []
  }
 ],
 "metadata": {
  "kernelspec": {
   "display_name": "Python 3 (ipykernel)",
   "language": "python",
   "name": "python3"
  },
  "language_info": {
   "codemirror_mode": {
    "name": "ipython",
    "version": 3
   },
   "file_extension": ".py",
   "mimetype": "text/x-python",
   "name": "python",
   "nbconvert_exporter": "python",
   "pygments_lexer": "ipython3",
   "version": "3.9.13"
  }
 },
 "nbformat": 4,
 "nbformat_minor": 5
}
