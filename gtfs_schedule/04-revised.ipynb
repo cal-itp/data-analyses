{
 "cells": [
  {
   "cell_type": "markdown",
   "id": "5ba3f83d-14b2-468b-8feb-ac8dfea2d958",
   "metadata": {},
   "source": [
    "# Revenue Vehicles for NTD agencies with no GTFS RT\n",
    "\n",
    "* `dim_annual_ntd_agency_information`\n",
    "* `dim_organizations`\n",
    "\n",
    "[Slack thread](https://cal-itp.slack.com/archives/C02H6JUSS9L/p1688662549443129)"
   ]
  },
  {
   "cell_type": "code",
   "execution_count": null,
   "id": "59ee77d0-48f0-49d2-85c6-6e1af4ed37f7",
   "metadata": {},
   "outputs": [],
   "source": [
    "import pandas as pd\n",
    "from calitp_data_analysis.tables import tbls\n",
    "from calitp_data_analysis.sql import to_snakecase\n",
    "from siuba import *\n",
    "\n",
    "pd.options.display.max_columns = 100\n",
    "pd.options.display.float_format = \"{:.2f}\".format\n",
    "pd.set_option(\"display.max_rows\", None)\n",
    "pd.set_option(\"display.max_colwidth\", None)"
   ]
  },
  {
   "cell_type": "code",
   "execution_count": null,
   "id": "2b2cf314-933b-415e-91de-83680cd2f5c9",
   "metadata": {},
   "outputs": [],
   "source": [
    "def dim_orgs()->pd.DataFrame:\n",
    "    # https://dbt-docs.calitp.org/#!/model/model.calitp_warehouse.dim_organizations\n",
    "    df = (tbls.mart_transit_database.dim_organizations() \n",
    "        >> filter(_._is_current == True)\n",
    "        >> select(_.ntd_id, _.name, \n",
    "                  _.gtfs_static_status, _.gtfs_realtime_status)\n",
    "        >> collect()\n",
    "        >> distinct()\n",
    "       )    \n",
    "    \n",
    "    df = df[df.ntd_id.notna()].reset_index(drop=True)\n",
    "    \n",
    "    return df"
   ]
  },
  {
   "cell_type": "code",
   "execution_count": null,
   "id": "46d6d692-cb9f-4b17-a588-8d42183cb431",
   "metadata": {},
   "outputs": [],
   "source": [
    "orgs = dim_orgs()"
   ]
  },
  {
   "cell_type": "code",
   "execution_count": null,
   "id": "2e70abf0-167b-4760-a245-919c5345c9d6",
   "metadata": {},
   "outputs": [],
   "source": [
    "def ntd_data(year: int) -> pd.DataFrame:\n",
    "    \n",
    "    df = (tbls.mart_ntd.dim_annual_ntd_agency_information() \n",
    "          >> filter(_.year == year, _.state == \"CA\")\n",
    "          >> select(_.ntd_id, _.total_voms, _.agency_name, _.state)\n",
    "          >> collect()\n",
    "         )\n",
    "\n",
    "    return df"
   ]
  },
  {
   "cell_type": "code",
   "execution_count": null,
   "id": "7870d720-dda0-4ed9-ac31-6438ddd882e3",
   "metadata": {},
   "outputs": [],
   "source": [
    "ntd = ntd_data(2021)"
   ]
  },
  {
   "cell_type": "code",
   "execution_count": null,
   "id": "5e7820ee-427f-49f7-ba22-f84fce4759cf",
   "metadata": {},
   "outputs": [],
   "source": [
    "df = pd.merge(\n",
    "    orgs,\n",
    "    ntd,\n",
    "    on = \"ntd_id\",\n",
    "    how = \"outer\",\n",
    "    validate = \"m:1\",\n",
    "    indicator=True\n",
    ")\n",
    "\n",
    "df._merge.value_counts()"
   ]
  },
  {
   "cell_type": "code",
   "execution_count": null,
   "id": "8c69268d-8c90-4bed-b168-01f8d6679f5e",
   "metadata": {},
   "outputs": [],
   "source": [
    "# Who hasn't merged on?\n",
    "df[df._merge==\"right_only\"].agency_name.unique()"
   ]
  },
  {
   "cell_type": "code",
   "execution_count": null,
   "id": "05c7837e-79af-4252-9f7d-db52cccf03fe",
   "metadata": {},
   "outputs": [],
   "source": [
    "no_rt_vehicles = df[df.gtfs_realtime_status == \"RT Incomplete\"].total_voms.sum()\n",
    "yes_rt_vehicles = df[df.gtfs_realtime_status == \"RT OK\"].total_voms.sum()"
   ]
  },
  {
   "cell_type": "code",
   "execution_count": null,
   "id": "87a97dcf-3204-400b-88c3-265113d4f5e2",
   "metadata": {},
   "outputs": [],
   "source": [
    "no_rt_vehicles / (no_rt_vehicles + yes_rt_vehicles)"
   ]
  },
  {
   "cell_type": "code",
   "execution_count": null,
   "id": "b846174d-ba2e-48b5-bbbc-49ffffbf2fc2",
   "metadata": {},
   "outputs": [],
   "source": [
    "yes_rt_vehicles"
   ]
  },
  {
   "cell_type": "code",
   "execution_count": null,
   "id": "cdf87f6c-dc4f-4257-b42c-c91e3c7e4987",
   "metadata": {},
   "outputs": [],
   "source": []
  }
 ],
 "metadata": {
  "kernelspec": {
   "display_name": "Python 3 (ipykernel)",
   "language": "python",
   "name": "python3"
  },
  "language_info": {
   "codemirror_mode": {
    "name": "ipython",
    "version": 3
   },
   "file_extension": ".py",
   "mimetype": "text/x-python",
   "name": "python",
   "nbconvert_exporter": "python",
   "pygments_lexer": "ipython3",
   "version": "3.9.13"
  }
 },
 "nbformat": 4,
 "nbformat_minor": 5
}
