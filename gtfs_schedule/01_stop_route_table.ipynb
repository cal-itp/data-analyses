{
 "cells": [
  {
   "cell_type": "markdown",
   "id": "837ebf08-21d1-4c1a-a822-06187b3ac5b7",
   "metadata": {},
   "source": [
    "# Investigate neeed for a `stop_id-route_id` grain table\n",
    "\n",
    "Eric: \n",
    "* I can think of a few examples of when this would not be true -- for example a route where one trip in a particular direction deviates to serve a high school around dismissal time, then resumes the route and serves all remaining stops. It seems possible that those remaining stops would have a shifted (or even completely different) `stop_sequence`...\n",
    "* My first thought is that making a table like this at the `shape_id` level could avoid some of those issues, hopefully capturing complexities like the one above. \n",
    "* GTFS spec: stop sequence relationships are only required to be consistent within the individual trip (hence the cumbersome joins).\n",
    "* Perhaps one middle ground would be to make this table without `stop_sequence`, it could be used to show things like \"here are all the stops generally served by this route in this direction\", without claiming that there is a consistent sequence or that all trips on that route in that direction serve exactly those stops."
   ]
  },
  {
   "cell_type": "code",
   "execution_count": 1,
   "id": "a71a9e76-f693-409c-a3f8-c020a498233f",
   "metadata": {},
   "outputs": [
    {
     "name": "stderr",
     "output_type": "stream",
     "text": [
      "/opt/conda/lib/python3.9/site-packages/geopandas/_compat.py:123: UserWarning: The Shapely GEOS version (3.10.3-CAPI-1.16.1) is incompatible with the GEOS version PyGEOS was compiled with (3.10.1-CAPI-1.16.0). Conversions between both will be slow.\n",
      "  warnings.warn(\n"
     ]
    }
   ],
   "source": [
    "import geopandas as gpd\n",
    "import pandas as pd\n",
    "\n",
    "GCS_FILE_PATH = \"gs://calitp-analytics-data/data-analyses/\"\n",
    "COMPILED_CACHED_VIEWS = f\"{GCS_FILE_PATH}rt_delay/compiled_cached_views/\"\n",
    "analysis_date = \"2023-01-18\""
   ]
  },
  {
   "cell_type": "markdown",
   "id": "c68efd99-8a4f-43a1-b6ed-b38bf0efc7fc",
   "metadata": {},
   "source": [
    "Pick LA Metro and pick a `route_id` that has a lot of `shape_id` values.\n",
    "\n",
    "See how `stop_sequence` plays a role here for stops."
   ]
  },
  {
   "cell_type": "code",
   "execution_count": 2,
   "id": "1ebcf317-6469-4f3d-bfa3-0350baf5ad44",
   "metadata": {},
   "outputs": [
    {
     "data": {
      "text/html": [
       "<div>\n",
       "<style scoped>\n",
       "    .dataframe tbody tr th:only-of-type {\n",
       "        vertical-align: middle;\n",
       "    }\n",
       "\n",
       "    .dataframe tbody tr th {\n",
       "        vertical-align: top;\n",
       "    }\n",
       "\n",
       "    .dataframe thead th {\n",
       "        text-align: right;\n",
       "    }\n",
       "</style>\n",
       "<table border=\"1\" class=\"dataframe\">\n",
       "  <thead>\n",
       "    <tr style=\"text-align: right;\">\n",
       "      <th></th>\n",
       "      <th>route_id</th>\n",
       "      <th>trip_id</th>\n",
       "      <th>direction_id</th>\n",
       "      <th>shape_id</th>\n",
       "    </tr>\n",
       "  </thead>\n",
       "  <tbody>\n",
       "    <tr>\n",
       "      <th>79</th>\n",
       "      <td>51-13167</td>\n",
       "      <td>300</td>\n",
       "      <td>2</td>\n",
       "      <td>23</td>\n",
       "    </tr>\n",
       "    <tr>\n",
       "      <th>0</th>\n",
       "      <td>10-13167</td>\n",
       "      <td>132</td>\n",
       "      <td>2</td>\n",
       "      <td>19</td>\n",
       "    </tr>\n",
       "    <tr>\n",
       "      <th>4</th>\n",
       "      <td>108-13167</td>\n",
       "      <td>197</td>\n",
       "      <td>2</td>\n",
       "      <td>18</td>\n",
       "    </tr>\n",
       "    <tr>\n",
       "      <th>110</th>\n",
       "      <td>92-13167</td>\n",
       "      <td>111</td>\n",
       "      <td>2</td>\n",
       "      <td>17</td>\n",
       "    </tr>\n",
       "    <tr>\n",
       "      <th>6</th>\n",
       "      <td>111-13167</td>\n",
       "      <td>197</td>\n",
       "      <td>2</td>\n",
       "      <td>17</td>\n",
       "    </tr>\n",
       "  </tbody>\n",
       "</table>\n",
       "</div>"
      ],
      "text/plain": [
       "      route_id  trip_id  direction_id  shape_id\n",
       "79    51-13167      300             2        23\n",
       "0     10-13167      132             2        19\n",
       "4    108-13167      197             2        18\n",
       "110   92-13167      111             2        17\n",
       "6    111-13167      197             2        17"
      ]
     },
     "execution_count": 2,
     "metadata": {},
     "output_type": "execute_result"
    }
   ],
   "source": [
    "TEST_OPERATOR = \"LA Metro Bus Schedule\"\n",
    "\n",
    "trips = pd.read_parquet(\n",
    "    f\"{COMPILED_CACHED_VIEWS}trips_{analysis_date}.parquet\", \n",
    "    columns = [\"feed_key\", \"name\", \"trip_id\", \"shape_id\", \n",
    "               \"route_id\", \"direction_id\"], \n",
    "    filters = [[(\"name\", \"==\", TEST_OPERATOR)]]\n",
    ")\n",
    "\n",
    "TEST_FEED = trips.feed_key.iloc[0]\n",
    "\n",
    "# Let's pick a route that has a lot of variations on shape_id\n",
    "trips.groupby(\"route_id\").agg({\n",
    "    \"trip_id\": \"nunique\", \n",
    "    \"direction_id\": \"nunique\", \n",
    "    \"shape_id\": \"nunique\"\n",
    "}\n",
    ").reset_index().sort_values(\"shape_id\", ascending=False).head()\n"
   ]
  },
  {
   "cell_type": "code",
   "execution_count": 3,
   "id": "98575c1d-e609-4a4a-a83b-b325eab98cbd",
   "metadata": {},
   "outputs": [],
   "source": [
    "TEST_ROUTE = \"51-13167\"\n",
    "\n",
    "def get_subset_trips_shapes(test_route: str) -> tuple[list]:\n",
    "    \"\"\"\n",
    "    Returns a tuple of 2 lists: \n",
    "    list1: list of the trips for that route_id\n",
    "    list2: list of the shapes for that route_id\n",
    "    \"\"\"\n",
    "    subset_trips = trips[trips.route_id==test_route\n",
    "                        ].trip_id.unique().tolist()\n",
    "    subset_shapes = trips[trips.route_id==test_route\n",
    "                         ].shape_id.unique().tolist()\n",
    "    \n",
    "    return subset_trips, subset_shapes\n",
    "\n",
    "TEST_TRIPS, TEST_SHAPES = get_subset_trips_shapes(TEST_ROUTE)"
   ]
  },
  {
   "cell_type": "code",
   "execution_count": 4,
   "id": "800a277e-2fda-428c-af27-0fdf9f253a52",
   "metadata": {},
   "outputs": [],
   "source": [
    "def stop_times_shapes_df(\n",
    "    test_route: str) -> tuple[pd.DataFrame, gpd.GeoDataFrame]:\n",
    "    \"\"\"\n",
    "    Return the subset of stop_times and shapes tables \n",
    "    for the route_id we're interested in.\n",
    "    \"\"\"\n",
    "    TEST_TRIPS, TEST_SHAPES = get_subset_trips_shapes(test_route)\n",
    "    \n",
    "    stop_times = pd.read_parquet(\n",
    "        f\"{COMPILED_CACHED_VIEWS}st_{analysis_date}.parquet\", \n",
    "        columns = [\"feed_key\", \"stop_id\", \"trip_id\", \"stop_sequence\"],\n",
    "        filters = [[(\"feed_key\", \"==\", TEST_FEED)]]\n",
    "    )\n",
    "    \n",
    "    stop_times = stop_times[stop_times.trip_id.isin(TEST_TRIPS)]\n",
    "\n",
    "    shapes = gpd.read_parquet(\n",
    "        f\"{COMPILED_CACHED_VIEWS}routelines_{analysis_date}.parquet\", \n",
    "        filters = [[(\"feed_key\", \"==\", TEST_FEED)]],\n",
    "        columns = [\"feed_key\", \"shape_id\", \"geometry\"]\n",
    "    )\n",
    "    \n",
    "    shapes = shapes[shapes.shape_id.isin(TEST_SHAPES)]\n",
    "    \n",
    "    return stop_times, shapes\n",
    "\n",
    "    \n",
    "stop_times, shapes = stop_times_shapes_df(TEST_ROUTE)    \n",
    "\n",
    "stops = gpd.read_parquet(\n",
    "    f\"{COMPILED_CACHED_VIEWS}stops_{analysis_date}.parquet\", \n",
    "    columns = ['feed_key', 'stop_id', 'stop_name', 'geometry'],\n",
    "    filters = [[(\"feed_key\", \"==\", TEST_FEED)]]\n",
    ")"
   ]
  },
  {
   "cell_type": "code",
   "execution_count": 5,
   "id": "75cf04b8-29f3-44cd-9a48-5acbd276a052",
   "metadata": {},
   "outputs": [],
   "source": [
    "stop_times_with_shape = pd.merge(\n",
    "    stop_times,\n",
    "    trips[[\"feed_key\", \"trip_id\", \"shape_id\"]].drop_duplicates(),\n",
    "    on = [\"feed_key\", \"trip_id\"],\n",
    "    how = \"inner\"\n",
    ")"
   ]
  },
  {
   "cell_type": "code",
   "execution_count": 6,
   "id": "24ba7987-c335-4d53-9749-a1af6c4a53a3",
   "metadata": {},
   "outputs": [],
   "source": [
    "stop_times_unique = (stop_times_with_shape\n",
    "                     .drop(columns = \"trip_id\")\n",
    "                     .drop_duplicates(\n",
    "                         subset=[\"feed_key\", \"stop_id\", \n",
    "                                 \"stop_sequence\", \"shape_id\"])\n",
    "                     .sort_values([\"stop_sequence\", \"stop_id\"])\n",
    "                     .reset_index(drop=True)\n",
    ")"
   ]
  },
  {
   "cell_type": "code",
   "execution_count": 7,
   "id": "281794ff-aed1-423b-a7f8-138c80797083",
   "metadata": {},
   "outputs": [
    {
     "name": "stdout",
     "output_type": "stream",
     "text": [
      "510323_DEC22\n",
      "54 54 54\n",
      "510327_DEC22\n",
      "61 61 61\n",
      "510330_DEC22\n",
      "53 53 53\n",
      "510328_DEC22\n",
      "80 80 80\n",
      "510331_DEC22\n",
      "72 72 72\n",
      "510326_DEC22\n",
      "62 62 62\n",
      "510329_DEC22\n",
      "75 75 75\n",
      "510333_DEC22\n",
      "52 52 52\n",
      "510325_DEC22\n",
      "83 83 83\n",
      "510339_DEC22\n",
      "74 74 74\n",
      "510335_DEC22\n",
      "53 53 53\n",
      "510336_DEC22\n",
      "42 42 42\n",
      "510334_DEC22\n",
      "53 53 53\n",
      "510321_DEC22\n",
      "40 40 40\n",
      "510324_DEC22\n",
      "61 61 61\n",
      "510340_DEC22\n",
      "52 52 52\n",
      "510301_DEC22\n",
      "33 33 33\n",
      "510332_DEC22\n",
      "60 60 60\n",
      "510320_DEC22\n",
      "33 33 33\n",
      "510315_DEC22\n",
      "32 32 32\n",
      "510337_DEC22\n",
      "31 31 31\n",
      "510338_DEC22\n",
      "0 0 0\n",
      "510341_DEC22\n",
      "71 71 71\n"
     ]
    }
   ],
   "source": [
    "for i in TEST_SHAPES:\n",
    "    print(i)\n",
    "    subset_df = stop_times_unique[stop_times_unique.shape_id==i]\n",
    "    \n",
    "    n_rows = len(subset_df)\n",
    "    n_stops = subset_df.stop_id.nunique()\n",
    "    n_stop_seq = subset_df.stop_sequence.nunique()\n",
    "    \n",
    "    print(n_rows, n_stops, n_stop_seq)       "
   ]
  },
  {
   "cell_type": "code",
   "execution_count": 8,
   "id": "9ea1b9ef-26c6-4124-9db6-4220e680f47d",
   "metadata": {},
   "outputs": [],
   "source": [
    "shapes0 = trips[(trips.route_id==TEST_ROUTE) & \n",
    "               (trips.direction_id==0)].shape_id.unique()\n",
    "shapes1 = trips[(trips.route_id==TEST_ROUTE) & \n",
    "               (trips.direction_id==1)].shape_id.unique()"
   ]
  },
  {
   "cell_type": "markdown",
   "id": "a3519908-1c86-439e-9b46-100289875683",
   "metadata": {},
   "source": [
    "Now that it's established that `stop_sequence` is unique within a `shape_id`, \n",
    "let's take a batch of those `shape_ids` that travel in the same direction.\n",
    "\n",
    "If `stop_sequence` is unique within `route-direction`, that would be really useful....but it's unlikely."
   ]
  },
  {
   "cell_type": "code",
   "execution_count": 9,
   "id": "e6b1237f-d372-422f-b60a-7b6f8d991a95",
   "metadata": {},
   "outputs": [],
   "source": [
    "# Subset to just shapes in direction 0, drop_duplicates by stop_id/stop_sequence\n",
    "st0 = (stop_times_with_shape[\n",
    "    stop_times_with_shape.shape_id.isin(shapes0)]\n",
    "                     .drop(columns = \"trip_id\")\n",
    "                     .drop_duplicates(\n",
    "                         subset=[\"feed_key\", \"stop_id\", \n",
    "                                 \"stop_sequence\"])\n",
    "                     .sort_values([\"stop_sequence\", \"stop_id\"])\n",
    "                     .reset_index(drop=True)\n",
    ")\n",
    "\n",
    "# Merge in point geom\n",
    "st0 = pd.merge(\n",
    "    stops, \n",
    "    st0,\n",
    "    on = [\"feed_key\", \"stop_id\"],\n",
    "    how = \"inner\"\n",
    ")\n"
   ]
  },
  {
   "cell_type": "code",
   "execution_count": 10,
   "id": "6115e3e4-3114-4d05-b48d-4f8b4da1c9aa",
   "metadata": {},
   "outputs": [
    {
     "data": {
      "text/plain": [
       "83"
      ]
     },
     "execution_count": 10,
     "metadata": {},
     "output_type": "execute_result"
    }
   ],
   "source": [
    "very_long_shape = \"510325_DEC22\" \n",
    "st0[st0.shape_id == very_long_shape].stop_id.nunique()"
   ]
  },
  {
   "cell_type": "code",
   "execution_count": 11,
   "id": "c539c62b-3900-4fa6-abd3-28ce9dd74eff",
   "metadata": {},
   "outputs": [
    {
     "data": {
      "text/plain": [
       "61"
      ]
     },
     "execution_count": 11,
     "metadata": {},
     "output_type": "execute_result"
    }
   ],
   "source": [
    "short_shape = \"510324_DEC22\"\n",
    "st0[st0.shape_id==short_shape].stop_id.nunique()"
   ]
  },
  {
   "cell_type": "code",
   "execution_count": 12,
   "id": "da6c8004-bda6-4367-90c5-61aca6baa4f4",
   "metadata": {},
   "outputs": [],
   "source": [
    "longer = st0[st0.shape_id==very_long_shape][\n",
    "    [\"stop_id\", \"stop_name\", \"stop_sequence\", \"geometry\"]\n",
    "].sort_values(\"stop_sequence\").reset_index(drop=True)"
   ]
  },
  {
   "cell_type": "code",
   "execution_count": 13,
   "id": "6a7281d3-68da-44f6-967e-177ad5d55837",
   "metadata": {},
   "outputs": [],
   "source": [
    "shorter = st0[st0.shape_id==short_shape][\n",
    "    [\"stop_id\", \"stop_name\", \"stop_sequence\"]\n",
    "].sort_values(\"stop_sequence\").reset_index(drop=True)"
   ]
  },
  {
   "cell_type": "code",
   "execution_count": 14,
   "id": "97ed4e5a-3356-41ba-896e-a1df481e179c",
   "metadata": {},
   "outputs": [],
   "source": [
    "m1 = pd.merge(\n",
    "    longer, \n",
    "    shorter,\n",
    "    on = [\"stop_id\", \"stop_name\"],\n",
    "    how = \"outer\",\n",
    "    validate = \"1:1\",\n",
    "    indicator=True\n",
    ")"
   ]
  },
  {
   "cell_type": "code",
   "execution_count": 15,
   "id": "abe22b76-53c5-4dbf-bd21-2b380025875c",
   "metadata": {},
   "outputs": [
    {
     "data": {
      "text/html": [
       "<div style=\"width:100%;\"><div style=\"position:relative;width:100%;height:0;padding-bottom:60%;\"><span style=\"color:#565656\">Make this Notebook Trusted to load map: File -> Trust Notebook</span><iframe src=\"about:blank\" style=\"position:absolute;width:100%;height:100%;left:0;top:0;border:none !important;\" data-html=%3C%21DOCTYPE%20html%3E%0A%3Chead%3E%20%20%20%20%0A%20%20%20%20%3Cmeta%20http-equiv%3D%22content-type%22%20content%3D%22text/html%3B%20charset%3DUTF-8%22%20/%3E%0A%20%20%20%20%0A%20%20%20%20%20%20%20%20%3Cscript%3E%0A%20%20%20%20%20%20%20%20%20%20%20%20L_NO_TOUCH%20%3D%20false%3B%0A%20%20%20%20%20%20%20%20%20%20%20%20L_DISABLE_3D%20%3D%20false%3B%0A%20%20%20%20%20%20%20%20%3C/script%3E%0A%20%20%20%20%0A%20%20%20%20%3Cstyle%3Ehtml%2C%20body%20%7Bwidth%3A%20100%25%3Bheight%3A%20100%25%3Bmargin%3A%200%3Bpadding%3A%200%3B%7D%3C/style%3E%0A%20%20%20%20%3Cstyle%3E%23map%20%7Bposition%3Aabsolute%3Btop%3A0%3Bbottom%3A0%3Bright%3A0%3Bleft%3A0%3B%7D%3C/style%3E%0A%20%20%20%20%3Cscript%20src%3D%22https%3A//cdn.jsdelivr.net/npm/leaflet%401.6.0/dist/leaflet.js%22%3E%3C/script%3E%0A%20%20%20%20%3Cscript%20src%3D%22https%3A//code.jquery.com/jquery-1.12.4.min.js%22%3E%3C/script%3E%0A%20%20%20%20%3Cscript%20src%3D%22https%3A//maxcdn.bootstrapcdn.com/bootstrap/3.2.0/js/bootstrap.min.js%22%3E%3C/script%3E%0A%20%20%20%20%3Cscript%20src%3D%22https%3A//cdnjs.cloudflare.com/ajax/libs/Leaflet.awesome-markers/2.0.2/leaflet.awesome-markers.js%22%3E%3C/script%3E%0A%20%20%20%20%3Clink%20rel%3D%22stylesheet%22%20href%3D%22https%3A//cdn.jsdelivr.net/npm/leaflet%401.6.0/dist/leaflet.css%22/%3E%0A%20%20%20%20%3Clink%20rel%3D%22stylesheet%22%20href%3D%22https%3A//maxcdn.bootstrapcdn.com/bootstrap/3.2.0/css/bootstrap.min.css%22/%3E%0A%20%20%20%20%3Clink%20rel%3D%22stylesheet%22%20href%3D%22https%3A//maxcdn.bootstrapcdn.com/bootstrap/3.2.0/css/bootstrap-theme.min.css%22/%3E%0A%20%20%20%20%3Clink%20rel%3D%22stylesheet%22%20href%3D%22https%3A//maxcdn.bootstrapcdn.com/font-awesome/4.6.3/css/font-awesome.min.css%22/%3E%0A%20%20%20%20%3Clink%20rel%3D%22stylesheet%22%20href%3D%22https%3A//cdnjs.cloudflare.com/ajax/libs/Leaflet.awesome-markers/2.0.2/leaflet.awesome-markers.css%22/%3E%0A%20%20%20%20%3Clink%20rel%3D%22stylesheet%22%20href%3D%22https%3A//cdn.jsdelivr.net/gh/python-visualization/folium/folium/templates/leaflet.awesome.rotate.min.css%22/%3E%0A%20%20%20%20%0A%20%20%20%20%20%20%20%20%20%20%20%20%3Cmeta%20name%3D%22viewport%22%20content%3D%22width%3Ddevice-width%2C%0A%20%20%20%20%20%20%20%20%20%20%20%20%20%20%20%20initial-scale%3D1.0%2C%20maximum-scale%3D1.0%2C%20user-scalable%3Dno%22%20/%3E%0A%20%20%20%20%20%20%20%20%20%20%20%20%3Cstyle%3E%0A%20%20%20%20%20%20%20%20%20%20%20%20%20%20%20%20%23map_596ac8c9993145c98b60c2c7291023b6%20%7B%0A%20%20%20%20%20%20%20%20%20%20%20%20%20%20%20%20%20%20%20%20position%3A%20relative%3B%0A%20%20%20%20%20%20%20%20%20%20%20%20%20%20%20%20%20%20%20%20width%3A%20100.0%25%3B%0A%20%20%20%20%20%20%20%20%20%20%20%20%20%20%20%20%20%20%20%20height%3A%20100.0%25%3B%0A%20%20%20%20%20%20%20%20%20%20%20%20%20%20%20%20%20%20%20%20left%3A%200.0%25%3B%0A%20%20%20%20%20%20%20%20%20%20%20%20%20%20%20%20%20%20%20%20top%3A%200.0%25%3B%0A%20%20%20%20%20%20%20%20%20%20%20%20%20%20%20%20%7D%0A%20%20%20%20%20%20%20%20%20%20%20%20%3C/style%3E%0A%20%20%20%20%20%20%20%20%0A%20%20%20%20%0A%20%20%20%20%20%20%20%20%20%20%20%20%20%20%20%20%20%20%20%20%3Cstyle%3E%0A%20%20%20%20%20%20%20%20%20%20%20%20%20%20%20%20%20%20%20%20%20%20%20%20.foliumtooltip%20%7B%0A%20%20%20%20%20%20%20%20%20%20%20%20%20%20%20%20%20%20%20%20%20%20%20%20%20%20%20%20%0A%20%20%20%20%20%20%20%20%20%20%20%20%20%20%20%20%20%20%20%20%20%20%20%20%7D%0A%20%20%20%20%20%20%20%20%20%20%20%20%20%20%20%20%20%20%20%20%20%20%20.foliumtooltip%20table%7B%0A%20%20%20%20%20%20%20%20%20%20%20%20%20%20%20%20%20%20%20%20%20%20%20%20%20%20%20%20margin%3A%20auto%3B%0A%20%20%20%20%20%20%20%20%20%20%20%20%20%20%20%20%20%20%20%20%20%20%20%20%7D%0A%20%20%20%20%20%20%20%20%20%20%20%20%20%20%20%20%20%20%20%20%20%20%20%20.foliumtooltip%20tr%7B%0A%20%20%20%20%20%20%20%20%20%20%20%20%20%20%20%20%20%20%20%20%20%20%20%20%20%20%20%20text-align%3A%20left%3B%0A%20%20%20%20%20%20%20%20%20%20%20%20%20%20%20%20%20%20%20%20%20%20%20%20%7D%0A%20%20%20%20%20%20%20%20%20%20%20%20%20%20%20%20%20%20%20%20%20%20%20%20.foliumtooltip%20th%7B%0A%20%20%20%20%20%20%20%20%20%20%20%20%20%20%20%20%20%20%20%20%20%20%20%20%20%20%20%20padding%3A%202px%3B%20padding-right%3A%208px%3B%0A%20%20%20%20%20%20%20%20%20%20%20%20%20%20%20%20%20%20%20%20%20%20%20%20%7D%0A%20%20%20%20%20%20%20%20%20%20%20%20%20%20%20%20%20%20%20%20%3C/style%3E%0A%20%20%20%20%20%20%20%20%20%20%20%20%0A%20%20%20%20%0A%20%20%20%20%3Cscript%20src%3D%22https%3A//code.jquery.com/ui/1.12.1/jquery-ui.js%22%3E%3C/script%3E%0A%20%20%20%20%3Cscript%3E%24%28%20function%28%29%20%7B%0A%20%20%20%20%20%20%20%20%24%28%20%22.maplegend%22%20%29.draggable%28%7B%0A%20%20%20%20%20%20%20%20%20%20%20%20start%3A%20function%20%28event%2C%20ui%29%20%7B%0A%20%20%20%20%20%20%20%20%20%20%20%20%20%20%20%20%24%28this%29.css%28%7B%0A%20%20%20%20%20%20%20%20%20%20%20%20%20%20%20%20%20%20%20%20right%3A%20%22auto%22%2C%0A%20%20%20%20%20%20%20%20%20%20%20%20%20%20%20%20%20%20%20%20top%3A%20%22auto%22%2C%0A%20%20%20%20%20%20%20%20%20%20%20%20%20%20%20%20%20%20%20%20bottom%3A%20%22auto%22%0A%20%20%20%20%20%20%20%20%20%20%20%20%20%20%20%20%7D%29%3B%0A%20%20%20%20%20%20%20%20%20%20%20%20%7D%0A%20%20%20%20%20%20%20%20%7D%29%3B%0A%20%20%20%20%7D%29%3B%0A%20%20%20%20%3C/script%3E%0A%20%20%20%20%3Cstyle%20type%3D%27text/css%27%3E%0A%20%20%20%20%20%20.maplegend%20%7B%0A%20%20%20%20%20%20%20%20position%3A%20absolute%3B%0A%20%20%20%20%20%20%20%20z-index%3A9999%3B%0A%20%20%20%20%20%20%20%20background-color%3A%20rgba%28255%2C%20255%2C%20255%2C%20.8%29%3B%0A%20%20%20%20%20%20%20%20border-radius%3A%205px%3B%0A%20%20%20%20%20%20%20%20box-shadow%3A%200%200%2015px%20rgba%280%2C0%2C0%2C0.2%29%3B%0A%20%20%20%20%20%20%20%20padding%3A%2010px%3B%0A%20%20%20%20%20%20%20%20font%3A%2012px/14px%20Arial%2C%20Helvetica%2C%20sans-serif%3B%0A%20%20%20%20%20%20%20%20right%3A%2010px%3B%0A%20%20%20%20%20%20%20%20bottom%3A%2020px%3B%0A%20%20%20%20%20%20%7D%0A%20%20%20%20%20%20.maplegend%20.legend-title%20%7B%0A%20%20%20%20%20%20%20%20text-align%3A%20left%3B%0A%20%20%20%20%20%20%20%20margin-bottom%3A%205px%3B%0A%20%20%20%20%20%20%20%20font-weight%3A%20bold%3B%0A%20%20%20%20%20%20%20%20%7D%0A%20%20%20%20%20%20.maplegend%20.legend-scale%20ul%20%7B%0A%20%20%20%20%20%20%20%20margin%3A%200%3B%0A%20%20%20%20%20%20%20%20margin-bottom%3A%200px%3B%0A%20%20%20%20%20%20%20%20padding%3A%200%3B%0A%20%20%20%20%20%20%20%20float%3A%20left%3B%0A%20%20%20%20%20%20%20%20list-style%3A%20none%3B%0A%20%20%20%20%20%20%20%20%7D%0A%20%20%20%20%20%20.maplegend%20.legend-scale%20ul%20li%20%7B%0A%20%20%20%20%20%20%20%20list-style%3A%20none%3B%0A%20%20%20%20%20%20%20%20margin-left%3A%200%3B%0A%20%20%20%20%20%20%20%20line-height%3A%2016px%3B%0A%20%20%20%20%20%20%20%20margin-bottom%3A%202px%3B%0A%20%20%20%20%20%20%20%20%7D%0A%20%20%20%20%20%20.maplegend%20ul.legend-labels%20li%20span%20%7B%0A%20%20%20%20%20%20%20%20display%3A%20block%3B%0A%20%20%20%20%20%20%20%20float%3A%20left%3B%0A%20%20%20%20%20%20%20%20height%3A%2014px%3B%0A%20%20%20%20%20%20%20%20width%3A%2014px%3B%0A%20%20%20%20%20%20%20%20margin-right%3A%205px%3B%0A%20%20%20%20%20%20%20%20margin-left%3A%200%3B%0A%20%20%20%20%20%20%20%20border%3A%200px%20solid%20%23ccc%3B%0A%20%20%20%20%20%20%20%20%7D%0A%20%20%20%20%20%20.maplegend%20.legend-source%20%7B%0A%20%20%20%20%20%20%20%20color%3A%20%23777%3B%0A%20%20%20%20%20%20%20%20clear%3A%20both%3B%0A%20%20%20%20%20%20%20%20%7D%0A%20%20%20%20%20%20.maplegend%20a%20%7B%0A%20%20%20%20%20%20%20%20color%3A%20%23777%3B%0A%20%20%20%20%20%20%20%20%7D%0A%20%20%20%20%3C/style%3E%0A%20%20%20%20%0A%3C/head%3E%0A%3Cbody%3E%20%20%20%20%0A%20%20%20%20%0A%20%20%20%20%3Cdiv%20id%3D%27maplegend%20_merge%27%20class%3D%27maplegend%27%3E%0A%20%20%20%20%20%20%20%20%3Cdiv%20class%3D%27legend-title%27%3E_merge%3C/div%3E%0A%20%20%20%20%20%20%20%20%3Cdiv%20class%3D%27legend-scale%27%3E%0A%20%20%20%20%20%20%20%20%20%20%20%20%3Cul%20class%3D%27legend-labels%27%3E%0A%20%20%20%20%20%20%20%20%20%20%20%20%20%20%20%20%3Cli%3E%3Cspan%20style%3D%27background%3A%231f77b4%27%3E%3C/span%3Eleft_only%3C/li%3E%0A%20%20%20%20%20%20%20%20%20%20%20%20%20%20%20%20%3Cli%3E%3Cspan%20style%3D%27background%3A%238c564b%27%3E%3C/span%3Eright_only%3C/li%3E%0A%20%20%20%20%20%20%20%20%20%20%20%20%20%20%20%20%3Cli%3E%3Cspan%20style%3D%27background%3A%239edae5%27%3E%3C/span%3Eboth%3C/li%3E%0A%20%20%20%20%20%20%20%20%20%20%20%20%3C/ul%3E%0A%20%20%20%20%20%20%20%20%3C/div%3E%0A%20%20%20%20%3C/div%3E%0A%20%20%20%20%0A%20%20%20%20%0A%20%20%20%20%20%20%20%20%20%20%20%20%3Cdiv%20class%3D%22folium-map%22%20id%3D%22map_596ac8c9993145c98b60c2c7291023b6%22%20%3E%3C/div%3E%0A%20%20%20%20%20%20%20%20%0A%3C/body%3E%0A%3Cscript%3E%20%20%20%20%0A%20%20%20%20%0A%20%20%20%20%20%20%20%20%20%20%20%20var%20map_596ac8c9993145c98b60c2c7291023b6%20%3D%20L.map%28%0A%20%20%20%20%20%20%20%20%20%20%20%20%20%20%20%20%22map_596ac8c9993145c98b60c2c7291023b6%22%2C%0A%20%20%20%20%20%20%20%20%20%20%20%20%20%20%20%20%7B%0A%20%20%20%20%20%20%20%20%20%20%20%20%20%20%20%20%20%20%20%20center%3A%20%5B33.95744550000002%2C%20-118.26157300000001%5D%2C%0A%20%20%20%20%20%20%20%20%20%20%20%20%20%20%20%20%20%20%20%20crs%3A%20L.CRS.EPSG3857%2C%0A%20%20%20%20%20%20%20%20%20%20%20%20%20%20%20%20%20%20%20%20zoom%3A%2010%2C%0A%20%20%20%20%20%20%20%20%20%20%20%20%20%20%20%20%20%20%20%20zoomControl%3A%20true%2C%0A%20%20%20%20%20%20%20%20%20%20%20%20%20%20%20%20%20%20%20%20preferCanvas%3A%20false%2C%0A%20%20%20%20%20%20%20%20%20%20%20%20%20%20%20%20%7D%0A%20%20%20%20%20%20%20%20%20%20%20%20%29%3B%0A%20%20%20%20%20%20%20%20%20%20%20%20L.control.scale%28%29.addTo%28map_596ac8c9993145c98b60c2c7291023b6%29%3B%0A%0A%20%20%20%20%20%20%20%20%20%20%20%20%0A%0A%20%20%20%20%20%20%20%20%0A%20%20%20%20%0A%20%20%20%20%20%20%20%20%20%20%20%20var%20tile_layer_199301a4b6a34700bebb43a2e035440a%20%3D%20L.tileLayer%28%0A%20%20%20%20%20%20%20%20%20%20%20%20%20%20%20%20%22https%3A//a.basemaps.cartocdn.com/light_all/%7Bz%7D/%7Bx%7D/%7By%7D%7Br%7D.png%22%2C%0A%20%20%20%20%20%20%20%20%20%20%20%20%20%20%20%20%7B%22attribution%22%3A%20%22%5Cu0026copy%3B%20%5Cu003ca%20href%3D%5C%22https%3A//www.openstreetmap.org/copyright%5C%22%5Cu003eOpenStreetMap%5Cu003c/a%5Cu003e%20contributors%20%5Cu0026copy%3B%20%5Cu003ca%20href%3D%5C%22https%3A//carto.com/attributions%5C%22%5Cu003eCARTO%5Cu003c/a%5Cu003e%22%2C%20%22detectRetina%22%3A%20false%2C%20%22maxNativeZoom%22%3A%2020%2C%20%22maxZoom%22%3A%2020%2C%20%22minZoom%22%3A%200%2C%20%22noWrap%22%3A%20false%2C%20%22opacity%22%3A%201%2C%20%22subdomains%22%3A%20%22abc%22%2C%20%22tms%22%3A%20false%7D%0A%20%20%20%20%20%20%20%20%20%20%20%20%29.addTo%28map_596ac8c9993145c98b60c2c7291023b6%29%3B%0A%20%20%20%20%20%20%20%20%0A%20%20%20%20%0A%20%20%20%20%20%20%20%20%20%20%20%20map_596ac8c9993145c98b60c2c7291023b6.fitBounds%28%0A%20%20%20%20%20%20%20%20%20%20%20%20%20%20%20%20%5B%5B33.85779600000004%2C%20-118.27623700000001%5D%2C%20%5B34.057095%2C%20-118.24690900000002%5D%5D%2C%0A%20%20%20%20%20%20%20%20%20%20%20%20%20%20%20%20%7B%7D%0A%20%20%20%20%20%20%20%20%20%20%20%20%29%3B%0A%20%20%20%20%20%20%20%20%0A%20%20%20%20%0A%20%20%20%20%20%20%20%20function%20geo_json_4b11d5f9b54b4ef4aa4ca2d4f3efd8c3_styler%28feature%29%20%7B%0A%20%20%20%20%20%20%20%20%20%20%20%20switch%28feature.id%29%20%7B%0A%20%20%20%20%20%20%20%20%20%20%20%20%20%20%20%20case%20%220%22%3A%20case%20%221%22%3A%20case%20%222%22%3A%20case%20%223%22%3A%20case%20%224%22%3A%20case%20%225%22%3A%20case%20%226%22%3A%20case%20%227%22%3A%20case%20%228%22%3A%20case%20%229%22%3A%20case%20%2210%22%3A%20case%20%2211%22%3A%20case%20%2212%22%3A%20case%20%2213%22%3A%20case%20%2214%22%3A%20case%20%2215%22%3A%20case%20%2216%22%3A%20case%20%2217%22%3A%20case%20%2218%22%3A%20case%20%2219%22%3A%20case%20%2220%22%3A%20case%20%2221%22%3A%20%0A%20%20%20%20%20%20%20%20%20%20%20%20%20%20%20%20%20%20%20%20return%20%7B%22color%22%3A%20%22%231f77b4%22%2C%20%22fillColor%22%3A%20%22%231f77b4%22%2C%20%22fillOpacity%22%3A%200.5%2C%20%22weight%22%3A%202%7D%3B%0A%20%20%20%20%20%20%20%20%20%20%20%20%20%20%20%20default%3A%0A%20%20%20%20%20%20%20%20%20%20%20%20%20%20%20%20%20%20%20%20return%20%7B%22color%22%3A%20%22%239edae5%22%2C%20%22fillColor%22%3A%20%22%239edae5%22%2C%20%22fillOpacity%22%3A%200.5%2C%20%22weight%22%3A%202%7D%3B%0A%20%20%20%20%20%20%20%20%20%20%20%20%7D%0A%20%20%20%20%20%20%20%20%7D%0A%20%20%20%20%20%20%20%20function%20geo_json_4b11d5f9b54b4ef4aa4ca2d4f3efd8c3_highlighter%28feature%29%20%7B%0A%20%20%20%20%20%20%20%20%20%20%20%20switch%28feature.id%29%20%7B%0A%20%20%20%20%20%20%20%20%20%20%20%20%20%20%20%20default%3A%0A%20%20%20%20%20%20%20%20%20%20%20%20%20%20%20%20%20%20%20%20return%20%7B%22fillOpacity%22%3A%200.75%7D%3B%0A%20%20%20%20%20%20%20%20%20%20%20%20%7D%0A%20%20%20%20%20%20%20%20%7D%0A%20%20%20%20%20%20%20%20function%20geo_json_4b11d5f9b54b4ef4aa4ca2d4f3efd8c3_pointToLayer%28feature%2C%20latlng%29%20%7B%0A%20%20%20%20%20%20%20%20%20%20%20%20var%20opts%20%3D%20%7B%22bubblingMouseEvents%22%3A%20true%2C%20%22color%22%3A%20%22%233388ff%22%2C%20%22dashArray%22%3A%20null%2C%20%22dashOffset%22%3A%20null%2C%20%22fill%22%3A%20true%2C%20%22fillColor%22%3A%20%22%233388ff%22%2C%20%22fillOpacity%22%3A%200.2%2C%20%22fillRule%22%3A%20%22evenodd%22%2C%20%22lineCap%22%3A%20%22round%22%2C%20%22lineJoin%22%3A%20%22round%22%2C%20%22opacity%22%3A%201.0%2C%20%22radius%22%3A%202%2C%20%22stroke%22%3A%20true%2C%20%22weight%22%3A%203%7D%3B%0A%20%20%20%20%20%20%20%20%20%20%20%20%0A%20%20%20%20%20%20%20%20%20%20%20%20let%20style%20%3D%20geo_json_4b11d5f9b54b4ef4aa4ca2d4f3efd8c3_styler%28feature%29%0A%20%20%20%20%20%20%20%20%20%20%20%20Object.assign%28opts%2C%20style%29%0A%20%20%20%20%20%20%20%20%20%20%20%20%0A%20%20%20%20%20%20%20%20%20%20%20%20return%20new%20L.CircleMarker%28latlng%2C%20opts%29%0A%20%20%20%20%20%20%20%20%7D%0A%0A%20%20%20%20%20%20%20%20function%20geo_json_4b11d5f9b54b4ef4aa4ca2d4f3efd8c3_onEachFeature%28feature%2C%20layer%29%20%7B%0A%20%20%20%20%20%20%20%20%20%20%20%20layer.on%28%7B%0A%20%20%20%20%20%20%20%20%20%20%20%20%20%20%20%20mouseout%3A%20function%28e%29%20%7B%0A%20%20%20%20%20%20%20%20%20%20%20%20%20%20%20%20%20%20%20%20if%28typeof%20e.target.setStyle%20%3D%3D%3D%20%22function%22%29%7B%0A%20%20%20%20%20%20%20%20%20%20%20%20%20%20%20%20%20%20%20%20%20%20%20%20geo_json_4b11d5f9b54b4ef4aa4ca2d4f3efd8c3.resetStyle%28e.target%29%3B%0A%20%20%20%20%20%20%20%20%20%20%20%20%20%20%20%20%20%20%20%20%7D%0A%20%20%20%20%20%20%20%20%20%20%20%20%20%20%20%20%7D%2C%0A%20%20%20%20%20%20%20%20%20%20%20%20%20%20%20%20mouseover%3A%20function%28e%29%20%7B%0A%20%20%20%20%20%20%20%20%20%20%20%20%20%20%20%20%20%20%20%20if%28typeof%20e.target.setStyle%20%3D%3D%3D%20%22function%22%29%7B%0A%20%20%20%20%20%20%20%20%20%20%20%20%20%20%20%20%20%20%20%20%20%20%20%20const%20highlightStyle%20%3D%20geo_json_4b11d5f9b54b4ef4aa4ca2d4f3efd8c3_highlighter%28e.target.feature%29%0A%20%20%20%20%20%20%20%20%20%20%20%20%20%20%20%20%20%20%20%20%20%20%20%20e.target.setStyle%28highlightStyle%29%3B%0A%20%20%20%20%20%20%20%20%20%20%20%20%20%20%20%20%20%20%20%20%7D%0A%20%20%20%20%20%20%20%20%20%20%20%20%20%20%20%20%7D%2C%0A%20%20%20%20%20%20%20%20%20%20%20%20%7D%29%3B%0A%20%20%20%20%20%20%20%20%7D%3B%0A%20%20%20%20%20%20%20%20var%20geo_json_4b11d5f9b54b4ef4aa4ca2d4f3efd8c3%20%3D%20L.geoJson%28null%2C%20%7B%0A%20%20%20%20%20%20%20%20%20%20%20%20%20%20%20%20onEachFeature%3A%20geo_json_4b11d5f9b54b4ef4aa4ca2d4f3efd8c3_onEachFeature%2C%0A%20%20%20%20%20%20%20%20%20%20%20%20%0A%20%20%20%20%20%20%20%20%20%20%20%20%20%20%20%20style%3A%20geo_json_4b11d5f9b54b4ef4aa4ca2d4f3efd8c3_styler%2C%0A%20%20%20%20%20%20%20%20%20%20%20%20%20%20%20%20pointToLayer%3A%20geo_json_4b11d5f9b54b4ef4aa4ca2d4f3efd8c3_pointToLayer%0A%20%20%20%20%20%20%20%20%7D%29%3B%0A%0A%20%20%20%20%20%20%20%20function%20geo_json_4b11d5f9b54b4ef4aa4ca2d4f3efd8c3_add%20%28data%29%20%7B%0A%20%20%20%20%20%20%20%20%20%20%20%20geo_json_4b11d5f9b54b4ef4aa4ca2d4f3efd8c3%0A%20%20%20%20%20%20%20%20%20%20%20%20%20%20%20%20.addData%28data%29%0A%20%20%20%20%20%20%20%20%20%20%20%20%20%20%20%20.addTo%28map_596ac8c9993145c98b60c2c7291023b6%29%3B%0A%20%20%20%20%20%20%20%20%7D%0A%20%20%20%20%20%20%20%20%20%20%20%20geo_json_4b11d5f9b54b4ef4aa4ca2d4f3efd8c3_add%28%7B%22bbox%22%3A%20%5B-118.27623700000001%2C%2033.85779600000004%2C%20-118.24690900000002%2C%2034.057095%5D%2C%20%22features%22%3A%20%5B%7B%22bbox%22%3A%20%5B-118.257175%2C%2033.867123000000014%2C%20-118.257175%2C%2033.867123000000014%5D%2C%20%22geometry%22%3A%20%7B%22coordinates%22%3A%20%5B-118.257175%2C%2033.867123000000014%5D%2C%20%22type%22%3A%20%22Point%22%7D%2C%20%22id%22%3A%20%220%22%2C%20%22properties%22%3A%20%7B%22__folium_color%22%3A%20%22%231f77b4%22%2C%20%22_merge%22%3A%20%22left_only%22%2C%20%22stop_id%22%3A%20%221703%22%2C%20%22stop_name%22%3A%20%22Victoria%20/%20Tamcliff%22%2C%20%22stop_sequence_x%22%3A%201%2C%20%22stop_sequence_y%22%3A%20null%7D%2C%20%22type%22%3A%20%22Feature%22%7D%2C%20%7B%22bbox%22%3A%20%5B-118.249153%2C%2033.85779600000004%2C%20-118.249153%2C%2033.85779600000004%5D%2C%20%22geometry%22%3A%20%7B%22coordinates%22%3A%20%5B-118.249153%2C%2033.85779600000004%5D%2C%20%22type%22%3A%20%22Point%22%7D%2C%20%22id%22%3A%20%221%22%2C%20%22properties%22%3A%20%7B%22__folium_color%22%3A%20%22%231f77b4%22%2C%20%22_merge%22%3A%20%22left_only%22%2C%20%22stop_id%22%3A%20%225042%22%2C%20%22stop_name%22%3A%20%22University%20/%20Central%22%2C%20%22stop_sequence_x%22%3A%202%2C%20%22stop_sequence_y%22%3A%20null%7D%2C%20%22type%22%3A%20%22Feature%22%7D%2C%20%7B%22bbox%22%3A%20%5B-118.265961%2C%2033.85918400000002%2C%20-118.265961%2C%2033.85918400000002%5D%2C%20%22geometry%22%3A%20%7B%22coordinates%22%3A%20%5B-118.265961%2C%2033.85918400000002%5D%2C%20%22type%22%3A%20%22Point%22%7D%2C%20%22id%22%3A%20%222%22%2C%20%22properties%22%3A%20%7B%22__folium_color%22%3A%20%22%231f77b4%22%2C%20%22_merge%22%3A%20%22left_only%22%2C%20%22stop_id%22%3A%20%22224%22%2C%20%22stop_name%22%3A%20%22Avalon%20/%20189th%22%2C%20%22stop_sequence_x%22%3A%203%2C%20%22stop_sequence_y%22%3A%20null%7D%2C%20%22type%22%3A%20%22Feature%22%7D%2C%20%7B%22bbox%22%3A%20%5B-118.26597700000002%2C%2033.863187999999965%2C%20-118.26597700000002%2C%2033.863187999999965%5D%2C%20%22geometry%22%3A%20%7B%22coordinates%22%3A%20%5B-118.26597700000002%2C%2033.863187999999965%5D%2C%20%22type%22%3A%20%22Point%22%7D%2C%20%22id%22%3A%20%223%22%2C%20%22properties%22%3A%20%7B%22__folium_color%22%3A%20%22%231f77b4%22%2C%20%22_merge%22%3A%20%22left_only%22%2C%20%22stop_id%22%3A%20%224796%22%2C%20%22stop_name%22%3A%20%22Avalon%20/%20184th%22%2C%20%22stop_sequence_x%22%3A%204%2C%20%22stop_sequence_y%22%3A%20null%7D%2C%20%22type%22%3A%20%22Feature%22%7D%2C%20%7B%22bbox%22%3A%20%5B-118.26598700000001%2C%2033.867265999999965%2C%20-118.26598700000001%2C%2033.867265999999965%5D%2C%20%22geometry%22%3A%20%7B%22coordinates%22%3A%20%5B-118.26598700000001%2C%2033.867265999999965%5D%2C%20%22type%22%3A%20%22Point%22%7D%2C%20%22id%22%3A%20%224%22%2C%20%22properties%22%3A%20%7B%22__folium_color%22%3A%20%22%231f77b4%22%2C%20%22_merge%22%3A%20%22left_only%22%2C%20%22stop_id%22%3A%20%228811%22%2C%20%22stop_name%22%3A%20%22Avalon%20/%20Victoria%22%2C%20%22stop_sequence_x%22%3A%205%2C%20%22stop_sequence_y%22%3A%20null%7D%2C%20%22type%22%3A%20%22Feature%22%7D%2C%20%7B%22bbox%22%3A%20%5B-118.26597700000002%2C%2033.86962799999998%2C%20-118.26597700000002%2C%2033.86962799999998%5D%2C%20%22geometry%22%3A%20%7B%22coordinates%22%3A%20%5B-118.26597700000002%2C%2033.86962799999998%5D%2C%20%22type%22%3A%20%22Point%22%7D%2C%20%22id%22%3A%20%225%22%2C%20%22properties%22%3A%20%7B%22__folium_color%22%3A%20%22%231f77b4%22%2C%20%22_merge%22%3A%20%22left_only%22%2C%20%22stop_id%22%3A%20%223478%22%2C%20%22stop_name%22%3A%20%22Avalon%20/%20Colony%20Cove%22%2C%20%22stop_sequence_x%22%3A%206%2C%20%22stop_sequence_y%22%3A%20null%7D%2C%20%22type%22%3A%20%22Feature%22%7D%2C%20%7B%22bbox%22%3A%20%5B-118.265968%2C%2033.87171700000002%2C%20-118.265968%2C%2033.87171700000002%5D%2C%20%22geometry%22%3A%20%7B%22coordinates%22%3A%20%5B-118.265968%2C%2033.87171700000002%5D%2C%20%22type%22%3A%20%22Point%22%7D%2C%20%22id%22%3A%20%226%22%2C%20%22properties%22%3A%20%7B%22__folium_color%22%3A%20%22%231f77b4%22%2C%20%22_merge%22%3A%20%22left_only%22%2C%20%22stop_id%22%3A%20%22204%22%2C%20%22stop_name%22%3A%20%22Avalon%20/%20Albertoni%22%2C%20%22stop_sequence_x%22%3A%207%2C%20%22stop_sequence_y%22%3A%20null%7D%2C%20%22type%22%3A%20%22Feature%22%7D%2C%20%7B%22bbox%22%3A%20%5B-118.265234%2C%2033.876109999999976%2C%20-118.265234%2C%2033.876109999999976%5D%2C%20%22geometry%22%3A%20%7B%22coordinates%22%3A%20%5B-118.265234%2C%2033.876109999999976%5D%2C%20%22type%22%3A%20%22Point%22%7D%2C%20%22id%22%3A%20%227%22%2C%20%22properties%22%3A%20%7B%22__folium_color%22%3A%20%22%231f77b4%22%2C%20%22_merge%22%3A%20%22left_only%22%2C%20%22stop_id%22%3A%20%22298%22%2C%20%22stop_name%22%3A%20%22Avalon%20/%20Walnut%22%2C%20%22stop_sequence_x%22%3A%208%2C%20%22stop_sequence_y%22%3A%20null%7D%2C%20%22type%22%3A%20%22Feature%22%7D%2C%20%7B%22bbox%22%3A%20%5B-118.26477900000002%2C%2033.87897699999997%2C%20-118.26477900000002%2C%2033.87897699999997%5D%2C%20%22geometry%22%3A%20%7B%22coordinates%22%3A%20%5B-118.26477900000002%2C%2033.87897699999997%5D%2C%20%22type%22%3A%20%22Point%22%7D%2C%20%22id%22%3A%20%228%22%2C%20%22properties%22%3A%20%7B%22__folium_color%22%3A%20%22%231f77b4%22%2C%20%22_merge%22%3A%20%22left_only%22%2C%20%22stop_id%22%3A%20%22201%22%2C%20%22stop_name%22%3A%20%22Avalon%20/%20169th%22%2C%20%22stop_sequence_x%22%3A%209%2C%20%22stop_sequence_y%22%3A%20null%7D%2C%20%22type%22%3A%20%22Feature%22%7D%2C%20%7B%22bbox%22%3A%20%5B-118.26440700000002%2C%2033.88217900000001%2C%20-118.26440700000002%2C%2033.88217900000001%5D%2C%20%22geometry%22%3A%20%7B%22coordinates%22%3A%20%5B-118.26440700000002%2C%2033.88217900000001%5D%2C%20%22type%22%3A%20%22Point%22%7D%2C%20%22id%22%3A%20%229%22%2C%20%22properties%22%3A%20%7B%22__folium_color%22%3A%20%22%231f77b4%22%2C%20%22_merge%22%3A%20%22left_only%22%2C%20%22stop_id%22%3A%20%22282%22%2C%20%22stop_name%22%3A%20%22Avalon%20/%20Gardena%22%2C%20%22stop_sequence_x%22%3A%2010%2C%20%22stop_sequence_y%22%3A%20null%7D%2C%20%22type%22%3A%20%22Feature%22%7D%2C%20%7B%22bbox%22%3A%20%5B-118.26514300000001%2C%2033.885823999999964%2C%20-118.26514300000001%2C%2033.885823999999964%5D%2C%20%22geometry%22%3A%20%7B%22coordinates%22%3A%20%5B-118.26514300000001%2C%2033.885823999999964%5D%2C%20%22type%22%3A%20%22Point%22%7D%2C%20%22id%22%3A%20%2210%22%2C%20%22properties%22%3A%20%7B%22__folium_color%22%3A%20%22%231f77b4%22%2C%20%22_merge%22%3A%20%22left_only%22%2C%20%22stop_id%22%3A%20%22268%22%2C%20%22stop_name%22%3A%20%22Avalon%20/%20Alondra%22%2C%20%22stop_sequence_x%22%3A%2011%2C%20%22stop_sequence_y%22%3A%20null%7D%2C%20%22type%22%3A%20%22Feature%22%7D%2C%20%7B%22bbox%22%3A%20%5B-118.265166%2C%2033.888027%2C%20-118.265166%2C%2033.888027%5D%2C%20%22geometry%22%3A%20%7B%22coordinates%22%3A%20%5B-118.265166%2C%2033.888027%5D%2C%20%22type%22%3A%20%22Point%22%7D%2C%20%22id%22%3A%20%2211%22%2C%20%22properties%22%3A%20%7B%22__folium_color%22%3A%20%22%231f77b4%22%2C%20%22_merge%22%3A%20%22left_only%22%2C%20%22stop_id%22%3A%20%22269%22%2C%20%22stop_name%22%3A%20%22Avalon%20/%20San%20Pedro%22%2C%20%22stop_sequence_x%22%3A%2012%2C%20%22stop_sequence_y%22%3A%20null%7D%2C%20%22type%22%3A%20%22Feature%22%7D%2C%20%7B%22bbox%22%3A%20%5B-118.26514600000002%2C%2033.89304499999997%2C%20-118.26514600000002%2C%2033.89304499999997%5D%2C%20%22geometry%22%3A%20%7B%22coordinates%22%3A%20%5B-118.26514600000002%2C%2033.89304499999997%5D%2C%20%22type%22%3A%20%22Point%22%7D%2C%20%22id%22%3A%20%2212%22%2C%20%22properties%22%3A%20%7B%22__folium_color%22%3A%20%22%231f77b4%22%2C%20%22_merge%22%3A%20%22left_only%22%2C%20%22stop_id%22%3A%20%22286%22%2C%20%22stop_name%22%3A%20%22Avalon%20/%20Redondo%20Beach%22%2C%20%22stop_sequence_x%22%3A%2013%2C%20%22stop_sequence_y%22%3A%20null%7D%2C%20%22type%22%3A%20%22Feature%22%7D%2C%20%7B%22bbox%22%3A%20%5B-118.265129%2C%2033.89502299999997%2C%20-118.265129%2C%2033.89502299999997%5D%2C%20%22geometry%22%3A%20%7B%22coordinates%22%3A%20%5B-118.265129%2C%2033.89502299999997%5D%2C%20%22type%22%3A%20%22Point%22%7D%2C%20%22id%22%3A%20%2213%22%2C%20%22properties%22%3A%20%7B%22__folium_color%22%3A%20%22%231f77b4%22%2C%20%22_merge%22%3A%20%22left_only%22%2C%20%22stop_id%22%3A%20%22274%22%2C%20%22stop_name%22%3A%20%22Avalon%20/%20Compton%22%2C%20%22stop_sequence_x%22%3A%2014%2C%20%22stop_sequence_y%22%3A%20null%7D%2C%20%22type%22%3A%20%22Feature%22%7D%2C%20%7B%22bbox%22%3A%20%5B-118.26510999999999%2C%2033.898431%2C%20-118.26510999999999%2C%2033.898431%5D%2C%20%22geometry%22%3A%20%7B%22coordinates%22%3A%20%5B-118.26510999999999%2C%2033.898431%5D%2C%20%22type%22%3A%20%22Point%22%7D%2C%20%22id%22%3A%20%2214%22%2C%20%22properties%22%3A%20%7B%22__folium_color%22%3A%20%22%231f77b4%22%2C%20%22_merge%22%3A%20%22left_only%22%2C%20%22stop_id%22%3A%20%228814%22%2C%20%22stop_name%22%3A%20%2214800%20Avalon%20%28Hesse%20Co%29%22%2C%20%22stop_sequence_x%22%3A%2015%2C%20%22stop_sequence_y%22%3A%20null%7D%2C%20%22type%22%3A%20%22Feature%22%7D%2C%20%7B%22bbox%22%3A%20%5B-118.265105%2C%2033.901962%2C%20-118.265105%2C%2033.901962%5D%2C%20%22geometry%22%3A%20%7B%22coordinates%22%3A%20%5B-118.265105%2C%2033.901962%5D%2C%20%22type%22%3A%20%22Point%22%7D%2C%20%22id%22%3A%20%2215%22%2C%20%22properties%22%3A%20%7B%22__folium_color%22%3A%20%22%231f77b4%22%2C%20%22_merge%22%3A%20%22left_only%22%2C%20%22stop_id%22%3A%20%228875%22%2C%20%22stop_name%22%3A%20%22Avalon%20/%20Rosecrans%22%2C%20%22stop_sequence_x%22%3A%2016%2C%20%22stop_sequence_y%22%3A%20null%7D%2C%20%22type%22%3A%20%22Feature%22%7D%2C%20%7B%22bbox%22%3A%20%5B-118.26512500000001%2C%2033.90628699999992%2C%20-118.26512500000001%2C%2033.90628699999992%5D%2C%20%22geometry%22%3A%20%7B%22coordinates%22%3A%20%5B-118.26512500000001%2C%2033.90628699999992%5D%2C%20%22type%22%3A%20%22Point%22%7D%2C%20%22id%22%3A%20%2216%22%2C%20%22properties%22%3A%20%7B%22__folium_color%22%3A%20%22%231f77b4%22%2C%20%22_merge%22%3A%20%22left_only%22%2C%20%22stop_id%22%3A%20%228832%22%2C%20%22stop_name%22%3A%20%22Avalon%20/%20138th%22%2C%20%22stop_sequence_x%22%3A%2017%2C%20%22stop_sequence_y%22%3A%20null%7D%2C%20%22type%22%3A%20%22Feature%22%7D%2C%20%7B%22bbox%22%3A%20%5B-118.265112%2C%2033.90937600000004%2C%20-118.265112%2C%2033.90937600000004%5D%2C%20%22geometry%22%3A%20%7B%22coordinates%22%3A%20%5B-118.265112%2C%2033.90937600000004%5D%2C%20%22type%22%3A%20%22Point%22%7D%2C%20%22id%22%3A%20%2217%22%2C%20%22properties%22%3A%20%7B%22__folium_color%22%3A%20%22%231f77b4%22%2C%20%22_merge%22%3A%20%22left_only%22%2C%20%22stop_id%22%3A%20%228831%22%2C%20%22stop_name%22%3A%20%22Avalon%20/%20135th%22%2C%20%22stop_sequence_x%22%3A%2018%2C%20%22stop_sequence_y%22%3A%20null%7D%2C%20%22type%22%3A%20%22Feature%22%7D%2C%20%7B%22bbox%22%3A%20%5B-118.265103%2C%2033.91277700000002%2C%20-118.265103%2C%2033.91277700000002%5D%2C%20%22geometry%22%3A%20%7B%22coordinates%22%3A%20%5B-118.265103%2C%2033.91277700000002%5D%2C%20%22type%22%3A%20%22Point%22%7D%2C%20%22id%22%3A%20%2218%22%2C%20%22properties%22%3A%20%7B%22__folium_color%22%3A%20%22%231f77b4%22%2C%20%22_merge%22%3A%20%22left_only%22%2C%20%22stop_id%22%3A%20%228830%22%2C%20%22stop_name%22%3A%20%22Avalon%20/%20132nd%22%2C%20%22stop_sequence_x%22%3A%2019%2C%20%22stop_sequence_y%22%3A%20null%7D%2C%20%22type%22%3A%20%22Feature%22%7D%2C%20%7B%22bbox%22%3A%20%5B-118.26508699999998%2C%2033.91622300000001%2C%20-118.26508699999998%2C%2033.91622300000001%5D%2C%20%22geometry%22%3A%20%7B%22coordinates%22%3A%20%5B-118.26508699999998%2C%2033.91622300000001%5D%2C%20%22type%22%3A%20%22Point%22%7D%2C%20%22id%22%3A%20%2219%22%2C%20%22properties%22%3A%20%7B%22__folium_color%22%3A%20%22%231f77b4%22%2C%20%22_merge%22%3A%20%22left_only%22%2C%20%22stop_id%22%3A%20%22277%22%2C%20%22stop_name%22%3A%20%22Avalon%20/%20El%20Segundo%22%2C%20%22stop_sequence_x%22%3A%2020%2C%20%22stop_sequence_y%22%3A%20null%7D%2C%20%22type%22%3A%20%22Feature%22%7D%2C%20%7B%22bbox%22%3A%20%5B-118.265072%2C%2033.91873500000003%2C%20-118.265072%2C%2033.91873500000003%5D%2C%20%22geometry%22%3A%20%7B%22coordinates%22%3A%20%5B-118.265072%2C%2033.91873500000003%5D%2C%20%22type%22%3A%20%22Point%22%7D%2C%20%22id%22%3A%20%2220%22%2C%20%22properties%22%3A%20%7B%22__folium_color%22%3A%20%22%231f77b4%22%2C%20%22_merge%22%3A%20%22left_only%22%2C%20%22stop_id%22%3A%20%228829%22%2C%20%22stop_name%22%3A%20%22Avalon%20/%20126th%22%2C%20%22stop_sequence_x%22%3A%2021%2C%20%22stop_sequence_y%22%3A%20null%7D%2C%20%22type%22%3A%20%22Feature%22%7D%2C%20%7B%22bbox%22%3A%20%5B-118.265045%2C%2033.92358499999998%2C%20-118.265045%2C%2033.92358499999998%5D%2C%20%22geometry%22%3A%20%7B%22coordinates%22%3A%20%5B-118.265045%2C%2033.92358499999998%5D%2C%20%22type%22%3A%20%22Point%22%7D%2C%20%22id%22%3A%20%2221%22%2C%20%22properties%22%3A%20%7B%22__folium_color%22%3A%20%22%231f77b4%22%2C%20%22_merge%22%3A%20%22left_only%22%2C%20%22stop_id%22%3A%20%221133%22%2C%20%22stop_name%22%3A%20%22Avalon%20/%20120th%22%2C%20%22stop_sequence_x%22%3A%2022%2C%20%22stop_sequence_y%22%3A%20null%7D%2C%20%22type%22%3A%20%22Feature%22%7D%2C%20%7B%22bbox%22%3A%20%5B-118.265018%2C%2033.92773100000001%2C%20-118.265018%2C%2033.92773100000001%5D%2C%20%22geometry%22%3A%20%7B%22coordinates%22%3A%20%5B-118.265018%2C%2033.92773100000001%5D%2C%20%22type%22%3A%20%22Point%22%7D%2C%20%22id%22%3A%20%2222%22%2C%20%22properties%22%3A%20%7B%22__folium_color%22%3A%20%22%239edae5%22%2C%20%22_merge%22%3A%20%22both%22%2C%20%22stop_id%22%3A%20%228818%22%2C%20%22stop_name%22%3A%20%22Avalon%20Station%22%2C%20%22stop_sequence_x%22%3A%2023%2C%20%22stop_sequence_y%22%3A%201.0%7D%2C%20%22type%22%3A%20%22Feature%22%7D%2C%20%7B%22bbox%22%3A%20%5B-118.26500200000001%2C%2033.930866999999985%2C%20-118.26500200000001%2C%2033.930866999999985%5D%2C%20%22geometry%22%3A%20%7B%22coordinates%22%3A%20%5B-118.26500200000001%2C%2033.930866999999985%5D%2C%20%22type%22%3A%20%22Point%22%7D%2C%20%22id%22%3A%20%2223%22%2C%20%22properties%22%3A%20%7B%22__folium_color%22%3A%20%22%239edae5%22%2C%20%22_merge%22%3A%20%22both%22%2C%20%22stop_id%22%3A%20%22283%22%2C%20%22stop_name%22%3A%20%22Avalon%20/%20Imperial%22%2C%20%22stop_sequence_x%22%3A%2024%2C%20%22stop_sequence_y%22%3A%202.0%7D%2C%20%22type%22%3A%20%22Feature%22%7D%2C%20%7B%22bbox%22%3A%20%5B-118.265001%2C%2033.933801000000024%2C%20-118.265001%2C%2033.933801000000024%5D%2C%20%22geometry%22%3A%20%7B%22coordinates%22%3A%20%5B-118.265001%2C%2033.933801000000024%5D%2C%20%22type%22%3A%20%22Point%22%7D%2C%20%22id%22%3A%20%2224%22%2C%20%22properties%22%3A%20%7B%22__folium_color%22%3A%20%22%239edae5%22%2C%20%22_merge%22%3A%20%22both%22%2C%20%22stop_id%22%3A%20%228824%22%2C%20%22stop_name%22%3A%20%22Avalon%20/%20111th%22%2C%20%22stop_sequence_x%22%3A%2025%2C%20%22stop_sequence_y%22%3A%203.0%7D%2C%20%22type%22%3A%20%22Feature%22%7D%2C%20%7B%22bbox%22%3A%20%5B-118.26500500000002%2C%2033.93587000000001%2C%20-118.26500500000002%2C%2033.93587000000001%5D%2C%20%22geometry%22%3A%20%7B%22coordinates%22%3A%20%5B-118.26500500000002%2C%2033.93587000000001%5D%2C%20%22type%22%3A%20%22Point%22%7D%2C%20%22id%22%3A%20%2225%22%2C%20%22properties%22%3A%20%7B%22__folium_color%22%3A%20%22%239edae5%22%2C%20%22_merge%22%3A%20%22both%22%2C%20%22stop_id%22%3A%20%228823%22%2C%20%22stop_name%22%3A%20%22Avalon%20/%20110th%22%2C%20%22stop_sequence_x%22%3A%2026%2C%20%22stop_sequence_y%22%3A%204.0%7D%2C%20%22type%22%3A%20%22Feature%22%7D%2C%20%7B%22bbox%22%3A%20%5B-118.26500800000001%2C%2033.938035999999954%2C%20-118.26500800000001%2C%2033.938035999999954%5D%2C%20%22geometry%22%3A%20%7B%22coordinates%22%3A%20%5B-118.26500800000001%2C%2033.938035999999954%5D%2C%20%22type%22%3A%20%22Point%22%7D%2C%20%22id%22%3A%20%2226%22%2C%20%22properties%22%3A%20%7B%22__folium_color%22%3A%20%22%239edae5%22%2C%20%22_merge%22%3A%20%22both%22%2C%20%22stop_id%22%3A%20%228822%22%2C%20%22stop_name%22%3A%20%22Avalon%20/%20108th%22%2C%20%22stop_sequence_x%22%3A%2027%2C%20%22stop_sequence_y%22%3A%205.0%7D%2C%20%22type%22%3A%20%22Feature%22%7D%2C%20%7B%22bbox%22%3A%20%5B-118.265007%2C%2033.941786999999984%2C%20-118.265007%2C%2033.941786999999984%5D%2C%20%22geometry%22%3A%20%7B%22coordinates%22%3A%20%5B-118.265007%2C%2033.941786999999984%5D%2C%20%22type%22%3A%20%22Point%22%7D%2C%20%22id%22%3A%20%2227%22%2C%20%22properties%22%3A%20%7B%22__folium_color%22%3A%20%22%239edae5%22%2C%20%22_merge%22%3A%20%22both%22%2C%20%22stop_id%22%3A%20%228820%22%2C%20%22stop_name%22%3A%20%22Avalon%20/%20104th%22%2C%20%22stop_sequence_x%22%3A%2028%2C%20%22stop_sequence_y%22%3A%206.0%7D%2C%20%22type%22%3A%20%22Feature%22%7D%2C%20%7B%22bbox%22%3A%20%5B-118.26500400000002%2C%2033.944039999999966%2C%20-118.26500400000002%2C%2033.944039999999966%5D%2C%20%22geometry%22%3A%20%7B%22coordinates%22%3A%20%5B-118.26500400000002%2C%2033.944039999999966%5D%2C%20%22type%22%3A%20%22Point%22%7D%2C%20%22id%22%3A%20%2228%22%2C%20%22properties%22%3A%20%7B%22__folium_color%22%3A%20%22%239edae5%22%2C%20%22_merge%22%3A%20%22both%22%2C%20%22stop_id%22%3A%20%229832%22%2C%20%22stop_name%22%3A%20%22Avalon%20/%20103rd%22%2C%20%22stop_sequence_x%22%3A%2029%2C%20%22stop_sequence_y%22%3A%207.0%7D%2C%20%22type%22%3A%20%22Feature%22%7D%2C%20%7B%22bbox%22%3A%20%5B-118.26499800000002%2C%2033.945422%2C%20-118.26499800000002%2C%2033.945422%5D%2C%20%22geometry%22%3A%20%7B%22coordinates%22%3A%20%5B-118.26499800000002%2C%2033.945422%5D%2C%20%22type%22%3A%20%22Point%22%7D%2C%20%22id%22%3A%20%2229%22%2C%20%22properties%22%3A%20%7B%22__folium_color%22%3A%20%22%239edae5%22%2C%20%22_merge%22%3A%20%22both%22%2C%20%22stop_id%22%3A%20%228863%22%2C%20%22stop_name%22%3A%20%22Avalon%20/%20Century%22%2C%20%22stop_sequence_x%22%3A%2030%2C%20%22stop_sequence_y%22%3A%208.0%7D%2C%20%22type%22%3A%20%22Feature%22%7D%2C%20%7B%22bbox%22%3A%20%5B-118.26499699999998%2C%2033.94910999999999%2C%20-118.26499699999998%2C%2033.94910999999999%5D%2C%20%22geometry%22%3A%20%7B%22coordinates%22%3A%20%5B-118.26499699999998%2C%2033.94910999999999%5D%2C%20%22type%22%3A%20%22Point%22%7D%2C%20%22id%22%3A%20%2230%22%2C%20%22properties%22%3A%20%7B%22__folium_color%22%3A%20%22%239edae5%22%2C%20%22_merge%22%3A%20%22both%22%2C%20%22stop_id%22%3A%20%228864%22%2C%20%22stop_name%22%3A%20%22Avalon%20/%20Colden%22%2C%20%22stop_sequence_x%22%3A%2031%2C%20%22stop_sequence_y%22%3A%209.0%7D%2C%20%22type%22%3A%20%22Feature%22%7D%2C%20%7B%22bbox%22%3A%20%5B-118.264986%2C%2033.950977999999985%2C%20-118.264986%2C%2033.950977999999985%5D%2C%20%22geometry%22%3A%20%7B%22coordinates%22%3A%20%5B-118.264986%2C%2033.950977999999985%5D%2C%20%22type%22%3A%20%22Point%22%7D%2C%20%22id%22%3A%20%2231%22%2C%20%22properties%22%3A%20%7B%22__folium_color%22%3A%20%22%239edae5%22%2C%20%22_merge%22%3A%20%22both%22%2C%20%22stop_id%22%3A%20%228856%22%2C%20%22stop_name%22%3A%20%22Avalon%20/%2094th%22%2C%20%22stop_sequence_x%22%3A%2032%2C%20%22stop_sequence_y%22%3A%2010.0%7D%2C%20%22type%22%3A%20%22Feature%22%7D%2C%20%7B%22bbox%22%3A%20%5B-118.264982%2C%2033.952770000000015%2C%20-118.264982%2C%2033.952770000000015%5D%2C%20%22geometry%22%3A%20%7B%22coordinates%22%3A%20%5B-118.264982%2C%2033.952770000000015%5D%2C%20%22type%22%3A%20%22Point%22%7D%2C%20%22id%22%3A%20%2232%22%2C%20%22properties%22%3A%20%7B%22__folium_color%22%3A%20%22%239edae5%22%2C%20%22_merge%22%3A%20%22both%22%2C%20%22stop_id%22%3A%20%228855%22%2C%20%22stop_name%22%3A%20%22Avalon%20/%2092nd%22%2C%20%22stop_sequence_x%22%3A%2033%2C%20%22stop_sequence_y%22%3A%2011.0%7D%2C%20%22type%22%3A%20%22Feature%22%7D%2C%20%7B%22bbox%22%3A%20%5B-118.26497%2C%2033.95636999999997%2C%20-118.26497%2C%2033.95636999999997%5D%2C%20%22geometry%22%3A%20%7B%22coordinates%22%3A%20%5B-118.26497%2C%2033.95636999999997%5D%2C%20%22type%22%3A%20%22Point%22%7D%2C%20%22id%22%3A%20%2233%22%2C%20%22properties%22%3A%20%7B%22__folium_color%22%3A%20%22%239edae5%22%2C%20%22_merge%22%3A%20%22both%22%2C%20%22stop_id%22%3A%20%228853%22%2C%20%22stop_name%22%3A%20%22Avalon%20/%2088th%22%2C%20%22stop_sequence_x%22%3A%2034%2C%20%22stop_sequence_y%22%3A%2012.0%7D%2C%20%22type%22%3A%20%22Feature%22%7D%2C%20%7B%22bbox%22%3A%20%5B-118.26497%2C%2033.95819700000001%2C%20-118.26497%2C%2033.95819700000001%5D%2C%20%22geometry%22%3A%20%7B%22coordinates%22%3A%20%5B-118.26497%2C%2033.95819700000001%5D%2C%20%22type%22%3A%20%22Point%22%7D%2C%20%22id%22%3A%20%2234%22%2C%20%22properties%22%3A%20%7B%22__folium_color%22%3A%20%22%239edae5%22%2C%20%22_merge%22%3A%20%22both%22%2C%20%22stop_id%22%3A%20%228852%22%2C%20%22stop_name%22%3A%20%22Avalon%20/%2087th%22%2C%20%22stop_sequence_x%22%3A%2035%2C%20%22stop_sequence_y%22%3A%2013.0%7D%2C%20%22type%22%3A%20%22Feature%22%7D%2C%20%7B%22bbox%22%3A%20%5B-118.26495700000001%2C%2033.96038999999994%2C%20-118.26495700000001%2C%2033.96038999999994%5D%2C%20%22geometry%22%3A%20%7B%22coordinates%22%3A%20%5B-118.26495700000001%2C%2033.96038999999994%5D%2C%20%22type%22%3A%20%22Point%22%7D%2C%20%22id%22%3A%20%2235%22%2C%20%22properties%22%3A%20%7B%22__folium_color%22%3A%20%22%239edae5%22%2C%20%22_merge%22%3A%20%22both%22%2C%20%22stop_id%22%3A%20%228873%22%2C%20%22stop_name%22%3A%20%22Avalon%20/%20Manchester%22%2C%20%22stop_sequence_x%22%3A%2036%2C%20%22stop_sequence_y%22%3A%2014.0%7D%2C%20%22type%22%3A%20%22Feature%22%7D%2C%20%7B%22bbox%22%3A%20%5B-118.264974%2C%2033.96362899999993%2C%20-118.264974%2C%2033.96362899999993%5D%2C%20%22geometry%22%3A%20%7B%22coordinates%22%3A%20%5B-118.264974%2C%2033.96362899999993%5D%2C%20%22type%22%3A%20%22Point%22%7D%2C%20%22id%22%3A%20%2236%22%2C%20%22properties%22%3A%20%7B%22__folium_color%22%3A%20%22%239edae5%22%2C%20%22_merge%22%3A%20%22both%22%2C%20%22stop_id%22%3A%20%228851%22%2C%20%22stop_name%22%3A%20%22Avalon%20/%2083rd%22%2C%20%22stop_sequence_x%22%3A%2037%2C%20%22stop_sequence_y%22%3A%2015.0%7D%2C%20%22type%22%3A%20%22Feature%22%7D%2C%20%7B%22bbox%22%3A%20%5B-118.264985%2C%2033.96726699999999%2C%20-118.264985%2C%2033.96726699999999%5D%2C%20%22geometry%22%3A%20%7B%22coordinates%22%3A%20%5B-118.264985%2C%2033.96726699999999%5D%2C%20%22type%22%3A%20%22Point%22%7D%2C%20%22id%22%3A%20%2237%22%2C%20%22properties%22%3A%20%7B%22__folium_color%22%3A%20%22%239edae5%22%2C%20%22_merge%22%3A%20%22both%22%2C%20%22stop_id%22%3A%20%228850%22%2C%20%22stop_name%22%3A%20%22Avalon%20/%2079th%22%2C%20%22stop_sequence_x%22%3A%2038%2C%20%22stop_sequence_y%22%3A%2016.0%7D%2C%20%22type%22%3A%20%22Feature%22%7D%2C%20%7B%22bbox%22%3A%20%5B-118.265%2C%2033.971031999999994%2C%20-118.265%2C%2033.971031999999994%5D%2C%20%22geometry%22%3A%20%7B%22coordinates%22%3A%20%5B-118.265%2C%2033.971031999999994%5D%2C%20%22type%22%3A%20%22Point%22%7D%2C%20%22id%22%3A%20%2238%22%2C%20%22properties%22%3A%20%7B%22__folium_color%22%3A%20%22%239edae5%22%2C%20%22_merge%22%3A%20%22both%22%2C%20%22stop_id%22%3A%20%228849%22%2C%20%22stop_name%22%3A%20%22Avalon%20/%2076th%22%2C%20%22stop_sequence_x%22%3A%2039%2C%20%22stop_sequence_y%22%3A%2017.0%7D%2C%20%22type%22%3A%20%22Feature%22%7D%2C%20%7B%22bbox%22%3A%20%5B-118.26501000000002%2C%2033.975018999999996%2C%20-118.26501000000002%2C%2033.975018999999996%5D%2C%20%22geometry%22%3A%20%7B%22coordinates%22%3A%20%5B-118.26501000000002%2C%2033.975018999999996%5D%2C%20%22type%22%3A%20%22Point%22%7D%2C%20%22id%22%3A%20%2239%22%2C%20%22properties%22%3A%20%7B%22__folium_color%22%3A%20%22%239edae5%22%2C%20%22_merge%22%3A%20%22both%22%2C%20%22stop_id%22%3A%20%228868%22%2C%20%22stop_name%22%3A%20%22Avalon%20/%20Florence%22%2C%20%22stop_sequence_x%22%3A%2040%2C%20%22stop_sequence_y%22%3A%2018.0%7D%2C%20%22type%22%3A%20%22Feature%22%7D%2C%20%7B%22bbox%22%3A%20%5B-118.265012%2C%2033.97880600000001%2C%20-118.265012%2C%2033.97880600000001%5D%2C%20%22geometry%22%3A%20%7B%22coordinates%22%3A%20%5B-118.265012%2C%2033.97880600000001%5D%2C%20%22type%22%3A%20%22Point%22%7D%2C%20%22id%22%3A%20%2240%22%2C%20%22properties%22%3A%20%7B%22__folium_color%22%3A%20%22%239edae5%22%2C%20%22_merge%22%3A%20%22both%22%2C%20%22stop_id%22%3A%20%228847%22%2C%20%22stop_name%22%3A%20%22Avalon%20/%2067th%22%2C%20%22stop_sequence_x%22%3A%2041%2C%20%22stop_sequence_y%22%3A%2019.0%7D%2C%20%22type%22%3A%20%22Feature%22%7D%2C%20%7B%22bbox%22%3A%20%5B-118.265015%2C%2033.981770999999995%2C%20-118.265015%2C%2033.981770999999995%5D%2C%20%22geometry%22%3A%20%7B%22coordinates%22%3A%20%5B-118.265015%2C%2033.981770999999995%5D%2C%20%22type%22%3A%20%22Point%22%7D%2C%20%22id%22%3A%20%2241%22%2C%20%22properties%22%3A%20%7B%22__folium_color%22%3A%20%22%239edae5%22%2C%20%22_merge%22%3A%20%22both%22%2C%20%22stop_id%22%3A%20%228869%22%2C%20%22stop_name%22%3A%20%22Avalon%20/%20Gage%22%2C%20%22stop_sequence_x%22%3A%2042%2C%20%22stop_sequence_y%22%3A%2020.0%7D%2C%20%22type%22%3A%20%22Feature%22%7D%2C%20%7B%22bbox%22%3A%20%5B-118.265024%2C%2033.984601000000005%2C%20-118.265024%2C%2033.984601000000005%5D%2C%20%22geometry%22%3A%20%7B%22coordinates%22%3A%20%5B-118.265024%2C%2033.984601000000005%5D%2C%20%22type%22%3A%20%22Point%22%7D%2C%20%22id%22%3A%20%2242%22%2C%20%22properties%22%3A%20%7B%22__folium_color%22%3A%20%22%239edae5%22%2C%20%22_merge%22%3A%20%22both%22%2C%20%22stop_id%22%3A%20%228846%22%2C%20%22stop_name%22%3A%20%22Avalon%20/%2061st%22%2C%20%22stop_sequence_x%22%3A%2043%2C%20%22stop_sequence_y%22%3A%2021.0%7D%2C%20%22type%22%3A%20%22Feature%22%7D%2C%20%7B%22bbox%22%3A%20%5B-118.265022%2C%2033.98606499999998%2C%20-118.265022%2C%2033.98606499999998%5D%2C%20%22geometry%22%3A%20%7B%22coordinates%22%3A%20%5B-118.265022%2C%2033.98606499999998%5D%2C%20%22type%22%3A%20%22Point%22%7D%2C%20%22id%22%3A%20%2243%22%2C%20%22properties%22%3A%20%7B%22__folium_color%22%3A%20%22%239edae5%22%2C%20%22_merge%22%3A%20%22both%22%2C%20%22stop_id%22%3A%20%228845%22%2C%20%22stop_name%22%3A%20%22Avalon%20/%2059th%22%2C%20%22stop_sequence_x%22%3A%2044%2C%20%22stop_sequence_y%22%3A%2022.0%7D%2C%20%22type%22%3A%20%22Feature%22%7D%2C%20%7B%22bbox%22%3A%20%5B-118.265%2C%2033.989763999999994%2C%20-118.265%2C%2033.989763999999994%5D%2C%20%22geometry%22%3A%20%7B%22coordinates%22%3A%20%5B-118.265%2C%2033.989763999999994%5D%2C%20%22type%22%3A%20%22Point%22%7D%2C%20%22id%22%3A%20%2244%22%2C%20%22properties%22%3A%20%7B%22__folium_color%22%3A%20%22%239edae5%22%2C%20%22_merge%22%3A%20%22both%22%2C%20%22stop_id%22%3A%20%228877%22%2C%20%22stop_name%22%3A%20%22Avalon%20/%20Slauson%22%2C%20%22stop_sequence_x%22%3A%2045%2C%20%22stop_sequence_y%22%3A%2023.0%7D%2C%20%22type%22%3A%20%22Feature%22%7D%2C%20%7B%22bbox%22%3A%20%5B-118.26503500000001%2C%2033.991443000000004%2C%20-118.26503500000001%2C%2033.991443000000004%5D%2C%20%22geometry%22%3A%20%7B%22coordinates%22%3A%20%5B-118.26503500000001%2C%2033.991443000000004%5D%2C%20%22type%22%3A%20%22Point%22%7D%2C%20%22id%22%3A%20%2245%22%2C%20%22properties%22%3A%20%7B%22__folium_color%22%3A%20%22%239edae5%22%2C%20%22_merge%22%3A%20%22both%22%2C%20%22stop_id%22%3A%20%228844%22%2C%20%22stop_name%22%3A%20%22Avalon%20/%2056th%22%2C%20%22stop_sequence_x%22%3A%2046%2C%20%22stop_sequence_y%22%3A%2024.0%7D%2C%20%22type%22%3A%20%22Feature%22%7D%2C%20%7B%22bbox%22%3A%20%5B-118.26504399999999%2C%2033.99314699999999%2C%20-118.26504399999999%2C%2033.99314699999999%5D%2C%20%22geometry%22%3A%20%7B%22coordinates%22%3A%20%5B-118.26504399999999%2C%2033.99314699999999%5D%2C%20%22type%22%3A%20%22Point%22%7D%2C%20%22id%22%3A%20%2246%22%2C%20%22properties%22%3A%20%7B%22__folium_color%22%3A%20%22%239edae5%22%2C%20%22_merge%22%3A%20%22both%22%2C%20%22stop_id%22%3A%20%228843%22%2C%20%22stop_name%22%3A%20%22Avalon%20/%2054th%22%2C%20%22stop_sequence_x%22%3A%2047%2C%20%22stop_sequence_y%22%3A%2025.0%7D%2C%20%22type%22%3A%20%22Feature%22%7D%2C%20%7B%22bbox%22%3A%20%5B-118.265046%2C%2033.996861999999965%2C%20-118.265046%2C%2033.996861999999965%5D%2C%20%22geometry%22%3A%20%7B%22coordinates%22%3A%20%5B-118.265046%2C%2033.996861999999965%5D%2C%20%22type%22%3A%20%22Point%22%7D%2C%20%22id%22%3A%20%2247%22%2C%20%22properties%22%3A%20%7B%22__folium_color%22%3A%20%22%239edae5%22%2C%20%22_merge%22%3A%20%22both%22%2C%20%22stop_id%22%3A%20%228842%22%2C%20%22stop_name%22%3A%20%22Avalon%20/%2051st%22%2C%20%22stop_sequence_x%22%3A%2048%2C%20%22stop_sequence_y%22%3A%2026.0%7D%2C%20%22type%22%3A%20%22Feature%22%7D%2C%20%7B%22bbox%22%3A%20%5B-118.265064%2C%2033.99957700000004%2C%20-118.265064%2C%2033.99957700000004%5D%2C%20%22geometry%22%3A%20%7B%22coordinates%22%3A%20%5B-118.265064%2C%2033.99957700000004%5D%2C%20%22type%22%3A%20%22Point%22%7D%2C%20%22id%22%3A%20%2248%22%2C%20%22properties%22%3A%20%7B%22__folium_color%22%3A%20%22%239edae5%22%2C%20%22_merge%22%3A%20%22both%22%2C%20%22stop_id%22%3A%20%228841%22%2C%20%22stop_name%22%3A%20%22Avalon%20/%2048th%22%2C%20%22stop_sequence_x%22%3A%2049%2C%20%22stop_sequence_y%22%3A%2027.0%7D%2C%20%22type%22%3A%20%22Feature%22%7D%2C%20%7B%22bbox%22%3A%20%5B-118.265064%2C%2034.001470000000005%2C%20-118.265064%2C%2034.001470000000005%5D%2C%20%22geometry%22%3A%20%7B%22coordinates%22%3A%20%5B-118.265064%2C%2034.001470000000005%5D%2C%20%22type%22%3A%20%22Point%22%7D%2C%20%22id%22%3A%20%2249%22%2C%20%22properties%22%3A%20%7B%22__folium_color%22%3A%20%22%239edae5%22%2C%20%22_merge%22%3A%20%22both%22%2C%20%22stop_id%22%3A%20%2213173%22%2C%20%22stop_name%22%3A%20%22Avalon%20/%2046th%22%2C%20%22stop_sequence_x%22%3A%2050%2C%20%22stop_sequence_y%22%3A%2028.0%7D%2C%20%22type%22%3A%20%22Feature%22%7D%2C%20%7B%22bbox%22%3A%20%5B-118.26507099999999%2C%2034.00368699999999%2C%20-118.26507099999999%2C%2034.00368699999999%5D%2C%20%22geometry%22%3A%20%7B%22coordinates%22%3A%20%5B-118.26507099999999%2C%2034.00368699999999%5D%2C%20%22type%22%3A%20%22Point%22%7D%2C%20%22id%22%3A%20%2250%22%2C%20%22properties%22%3A%20%7B%22__folium_color%22%3A%20%22%239edae5%22%2C%20%22_merge%22%3A%20%22both%22%2C%20%22stop_id%22%3A%20%2213174%22%2C%20%22stop_name%22%3A%20%22Avalon%20/%20Vernon%22%2C%20%22stop_sequence_x%22%3A%2051%2C%20%22stop_sequence_y%22%3A%2029.0%7D%2C%20%22type%22%3A%20%22Feature%22%7D%2C%20%7B%22bbox%22%3A%20%5B-118.26508299999999%2C%2034.00647100000001%2C%20-118.26508299999999%2C%2034.00647100000001%5D%2C%20%22geometry%22%3A%20%7B%22coordinates%22%3A%20%5B-118.26508299999999%2C%2034.00647100000001%5D%2C%20%22type%22%3A%20%22Point%22%7D%2C%20%22id%22%3A%20%2251%22%2C%20%22properties%22%3A%20%7B%22__folium_color%22%3A%20%22%239edae5%22%2C%20%22_merge%22%3A%20%22both%22%2C%20%22stop_id%22%3A%20%228840%22%2C%20%22stop_name%22%3A%20%22Avalon%20/%2042nd%22%2C%20%22stop_sequence_x%22%3A%2052%2C%20%22stop_sequence_y%22%3A%2030.0%7D%2C%20%22type%22%3A%20%22Feature%22%7D%2C%20%7B%22bbox%22%3A%20%5B-118.265091%2C%2034.00905900000004%2C%20-118.265091%2C%2034.00905900000004%5D%2C%20%22geometry%22%3A%20%7B%22coordinates%22%3A%20%5B-118.265091%2C%2034.00905900000004%5D%2C%20%22type%22%3A%20%22Point%22%7D%2C%20%22id%22%3A%20%2252%22%2C%20%22properties%22%3A%20%7B%22__folium_color%22%3A%20%22%239edae5%22%2C%20%22_merge%22%3A%20%22both%22%2C%20%22stop_id%22%3A%20%228839%22%2C%20%22stop_name%22%3A%20%22Avalon%20/%2041st%22%2C%20%22stop_sequence_x%22%3A%2053%2C%20%22stop_sequence_y%22%3A%2031.0%7D%2C%20%22type%22%3A%20%22Feature%22%7D%2C%20%7B%22bbox%22%3A%20%5B-118.26509800000001%2C%2034.011296%2C%20-118.26509800000001%2C%2034.011296%5D%2C%20%22geometry%22%3A%20%7B%22coordinates%22%3A%20%5B-118.26509800000001%2C%2034.011296%5D%2C%20%22type%22%3A%20%22Point%22%7D%2C%20%22id%22%3A%20%2253%22%2C%20%22properties%22%3A%20%7B%22__folium_color%22%3A%20%22%239edae5%22%2C%20%22_merge%22%3A%20%22both%22%2C%20%22stop_id%22%3A%20%228804%22%2C%20%22stop_name%22%3A%20%22Avalon%20/%20Martin%20Luther%20King%20Jr%22%2C%20%22stop_sequence_x%22%3A%2054%2C%20%22stop_sequence_y%22%3A%2032.0%7D%2C%20%22type%22%3A%20%22Feature%22%7D%2C%20%7B%22bbox%22%3A%20%5B-118.265117%2C%2034.01507699999998%2C%20-118.265117%2C%2034.01507699999998%5D%2C%20%22geometry%22%3A%20%7B%22coordinates%22%3A%20%5B-118.265117%2C%2034.01507699999998%5D%2C%20%22type%22%3A%20%22Point%22%7D%2C%20%22id%22%3A%20%2254%22%2C%20%22properties%22%3A%20%7B%22__folium_color%22%3A%20%22%239edae5%22%2C%20%22_merge%22%3A%20%22both%22%2C%20%22stop_id%22%3A%20%228803%22%2C%20%22stop_name%22%3A%20%22Avalon%20/%20Jefferson%22%2C%20%22stop_sequence_x%22%3A%2055%2C%20%22stop_sequence_y%22%3A%2033.0%7D%2C%20%22type%22%3A%20%22Feature%22%7D%2C%20%7B%22bbox%22%3A%20%5B-118.26324600000001%2C%2034.01826100000005%2C%20-118.26324600000001%2C%2034.01826100000005%5D%2C%20%22geometry%22%3A%20%7B%22coordinates%22%3A%20%5B-118.26324600000001%2C%2034.01826100000005%5D%2C%20%22type%22%3A%20%22Point%22%7D%2C%20%22id%22%3A%20%2255%22%2C%20%22properties%22%3A%20%7B%22__folium_color%22%3A%20%22%239edae5%22%2C%20%22_merge%22%3A%20%22both%22%2C%20%22stop_id%22%3A%20%2213875%22%2C%20%22stop_name%22%3A%20%22San%20Pedro%20/%2030th%22%2C%20%22stop_sequence_x%22%3A%2056%2C%20%22stop_sequence_y%22%3A%2034.0%7D%2C%20%22type%22%3A%20%22Feature%22%7D%2C%20%7B%22bbox%22%3A%20%5B-118.261249%2C%2034.02140600000001%2C%20-118.261249%2C%2034.02140600000001%5D%2C%20%22geometry%22%3A%20%7B%22coordinates%22%3A%20%5B-118.261249%2C%2034.02140600000001%5D%2C%20%22type%22%3A%20%22Point%22%7D%2C%20%22id%22%3A%20%2256%22%2C%20%22properties%22%3A%20%7B%22__folium_color%22%3A%20%22%239edae5%22%2C%20%22_merge%22%3A%20%22both%22%2C%20%22stop_id%22%3A%20%2213888%22%2C%20%22stop_name%22%3A%20%22San%20Pedro%20/%20Adams%22%2C%20%22stop_sequence_x%22%3A%2057%2C%20%22stop_sequence_y%22%3A%2035.0%7D%2C%20%22type%22%3A%20%22Feature%22%7D%2C%20%7B%22bbox%22%3A%20%5B-118.259519%2C%2034.02411899999997%2C%20-118.259519%2C%2034.02411899999997%5D%2C%20%22geometry%22%3A%20%7B%22coordinates%22%3A%20%5B-118.259519%2C%2034.02411899999997%5D%2C%20%22type%22%3A%20%22Point%22%7D%2C%20%22id%22%3A%20%2257%22%2C%20%22properties%22%3A%20%7B%22__folium_color%22%3A%20%22%239edae5%22%2C%20%22_merge%22%3A%20%22both%22%2C%20%22stop_id%22%3A%20%2213874%22%2C%20%22stop_name%22%3A%20%22San%20Pedro%20/%2023rd%22%2C%20%22stop_sequence_x%22%3A%2058%2C%20%22stop_sequence_y%22%3A%2036.0%7D%2C%20%22type%22%3A%20%22Feature%22%7D%2C%20%7B%22bbox%22%3A%20%5B-118.25855600000001%2C%2034.025619000000006%2C%20-118.25855600000001%2C%2034.025619000000006%5D%2C%20%22geometry%22%3A%20%7B%22coordinates%22%3A%20%5B-118.25855600000001%2C%2034.025619000000006%5D%2C%20%22type%22%3A%20%22Point%22%7D%2C%20%22id%22%3A%20%2258%22%2C%20%22properties%22%3A%20%7B%22__folium_color%22%3A%20%22%239edae5%22%2C%20%22_merge%22%3A%20%22both%22%2C%20%22stop_id%22%3A%20%2213873%22%2C%20%22stop_name%22%3A%20%22San%20Pedro%20/%2021st%22%2C%20%22stop_sequence_x%22%3A%2059%2C%20%22stop_sequence_y%22%3A%2037.0%7D%2C%20%22type%22%3A%20%22Feature%22%7D%2C%20%7B%22bbox%22%3A%20%5B-118.25741700000002%2C%2034.02739600000002%2C%20-118.25741700000002%2C%2034.02739600000002%5D%2C%20%22geometry%22%3A%20%7B%22coordinates%22%3A%20%5B-118.25741700000002%2C%2034.02739600000002%5D%2C%20%22type%22%3A%20%22Point%22%7D%2C%20%22id%22%3A%20%2259%22%2C%20%22properties%22%3A%20%7B%22__folium_color%22%3A%20%22%239edae5%22%2C%20%22_merge%22%3A%20%22both%22%2C%20%22stop_id%22%3A%20%2213896%22%2C%20%22stop_name%22%3A%20%22San%20Pedro%20/%20Washington%22%2C%20%22stop_sequence_x%22%3A%2060%2C%20%22stop_sequence_y%22%3A%2038.0%7D%2C%20%22type%22%3A%20%22Feature%22%7D%2C%20%7B%22bbox%22%3A%20%5B-118.255942%2C%2034.02963600000001%2C%20-118.255942%2C%2034.02963600000001%5D%2C%20%22geometry%22%3A%20%7B%22coordinates%22%3A%20%5B-118.255942%2C%2034.02963600000001%5D%2C%20%22type%22%3A%20%22Point%22%7D%2C%20%22id%22%3A%20%2260%22%2C%20%22properties%22%3A%20%7B%22__folium_color%22%3A%20%22%239edae5%22%2C%20%22_merge%22%3A%20%22both%22%2C%20%22stop_id%22%3A%20%2214257%22%2C%20%22stop_name%22%3A%20%22San%20Pedro%20/%2016th%22%2C%20%22stop_sequence_x%22%3A%2061%2C%20%22stop_sequence_y%22%3A%2039.0%7D%2C%20%22type%22%3A%20%22Feature%22%7D%2C%20%7B%22bbox%22%3A%20%5B-118.254841%2C%2034.03124899999999%2C%20-118.254841%2C%2034.03124899999999%5D%2C%20%22geometry%22%3A%20%7B%22coordinates%22%3A%20%5B-118.254841%2C%2034.03124899999999%5D%2C%20%22type%22%3A%20%22Point%22%7D%2C%20%22id%22%3A%20%2261%22%2C%20%22properties%22%3A%20%7B%22__folium_color%22%3A%20%22%239edae5%22%2C%20%22_merge%22%3A%20%22both%22%2C%20%22stop_id%22%3A%20%2213872%22%2C%20%22stop_name%22%3A%20%22San%20Pedro%20/%2014th%22%2C%20%22stop_sequence_x%22%3A%2062%2C%20%22stop_sequence_y%22%3A%2040.0%7D%2C%20%22type%22%3A%20%22Feature%22%7D%2C%20%7B%22bbox%22%3A%20%5B-118.25369700000002%2C%2034.03286899999993%2C%20-118.25369700000002%2C%2034.03286899999993%5D%2C%20%22geometry%22%3A%20%7B%22coordinates%22%3A%20%5B-118.25369700000002%2C%2034.03286899999993%5D%2C%20%22type%22%3A%20%22Point%22%7D%2C%20%22id%22%3A%20%2262%22%2C%20%22properties%22%3A%20%7B%22__folium_color%22%3A%20%22%239edae5%22%2C%20%22_merge%22%3A%20%22both%22%2C%20%22stop_id%22%3A%20%2213893%22%2C%20%22stop_name%22%3A%20%22San%20Pedro%20/%20Pico%22%2C%20%22stop_sequence_x%22%3A%2063%2C%20%22stop_sequence_y%22%3A%2041.0%7D%2C%20%22type%22%3A%20%22Feature%22%7D%2C%20%7B%22bbox%22%3A%20%5B-118.253017%2C%2034.03382199999998%2C%20-118.253017%2C%2034.03382199999998%5D%2C%20%22geometry%22%3A%20%7B%22coordinates%22%3A%20%5B-118.253017%2C%2034.03382199999998%5D%2C%20%22type%22%3A%20%22Point%22%7D%2C%20%22id%22%3A%20%2263%22%2C%20%22properties%22%3A%20%7B%22__folium_color%22%3A%20%22%239edae5%22%2C%20%22_merge%22%3A%20%22both%22%2C%20%22stop_id%22%3A%20%228604%22%2C%20%22stop_name%22%3A%20%22San%20Pedro%20/%2012th%22%2C%20%22stop_sequence_x%22%3A%2064%2C%20%22stop_sequence_y%22%3A%2042.0%7D%2C%20%22type%22%3A%20%22Feature%22%7D%2C%20%7B%22bbox%22%3A%20%5B-118.25211900000001%2C%2034.03506600000003%2C%20-118.25211900000001%2C%2034.03506600000003%5D%2C%20%22geometry%22%3A%20%7B%22coordinates%22%3A%20%5B-118.25211900000001%2C%2034.03506600000003%5D%2C%20%22type%22%3A%20%22Point%22%7D%2C%20%22id%22%3A%20%2264%22%2C%20%22properties%22%3A%20%7B%22__folium_color%22%3A%20%22%239edae5%22%2C%20%22_merge%22%3A%20%22both%22%2C%20%22stop_id%22%3A%20%2213868%22%2C%20%22stop_name%22%3A%20%22San%20Pedro%20/%2011th%22%2C%20%22stop_sequence_x%22%3A%2065%2C%20%22stop_sequence_y%22%3A%2043.0%7D%2C%20%22type%22%3A%20%22Feature%22%7D%2C%20%7B%22bbox%22%3A%20%5B-118.25001700000001%2C%2034.03737799999994%2C%20-118.25001700000001%2C%2034.03737799999994%5D%2C%20%22geometry%22%3A%20%7B%22coordinates%22%3A%20%5B-118.25001700000001%2C%2034.03737799999994%5D%2C%20%22type%22%3A%20%22Point%22%7D%2C%20%22id%22%3A%20%2265%22%2C%20%22properties%22%3A%20%7B%22__folium_color%22%3A%20%22%239edae5%22%2C%20%22_merge%22%3A%20%22both%22%2C%20%22stop_id%22%3A%20%229780%22%2C%20%22stop_name%22%3A%20%22San%20Pedro%20/%209th%22%2C%20%22stop_sequence_x%22%3A%2066%2C%20%22stop_sequence_y%22%3A%2044.0%7D%2C%20%22type%22%3A%20%22Feature%22%7D%2C%20%7B%22bbox%22%3A%20%5B-118.24908900000001%2C%2034.03829200000001%2C%20-118.24908900000001%2C%2034.03829200000001%5D%2C%20%22geometry%22%3A%20%7B%22coordinates%22%3A%20%5B-118.24908900000001%2C%2034.03829200000001%5D%2C%20%22type%22%3A%20%22Point%22%7D%2C%20%22id%22%3A%20%2266%22%2C%20%22properties%22%3A%20%7B%22__folium_color%22%3A%20%22%239edae5%22%2C%20%22_merge%22%3A%20%22both%22%2C%20%22stop_id%22%3A%20%2213885%22%2C%20%22stop_name%22%3A%20%22San%20Pedro%20/%208th%22%2C%20%22stop_sequence_x%22%3A%2067%2C%20%22stop_sequence_y%22%3A%2045.0%7D%2C%20%22type%22%3A%20%22Feature%22%7D%2C%20%7B%22bbox%22%3A%20%5B-118.24690900000002%2C%2034.04097000000002%2C%20-118.24690900000002%2C%2034.04097000000002%5D%2C%20%22geometry%22%3A%20%7B%22coordinates%22%3A%20%5B-118.24690900000002%2C%2034.04097000000002%5D%2C%20%22type%22%3A%20%22Point%22%7D%2C%20%22id%22%3A%20%2267%22%2C%20%22properties%22%3A%20%7B%22__folium_color%22%3A%20%22%239edae5%22%2C%20%22_merge%22%3A%20%22both%22%2C%20%22stop_id%22%3A%20%221231%22%2C%20%22stop_name%22%3A%20%227th%20/%20San%20Pedro%22%2C%20%22stop_sequence_x%22%3A%2068%2C%20%22stop_sequence_y%22%3A%2046.0%7D%2C%20%22type%22%3A%20%22Feature%22%7D%2C%20%7B%22bbox%22%3A%20%5B-118.249036%2C%2034.04244699999998%2C%20-118.249036%2C%2034.04244699999998%5D%2C%20%22geometry%22%3A%20%7B%22coordinates%22%3A%20%5B-118.249036%2C%2034.04244699999998%5D%2C%20%22type%22%3A%20%22Point%22%7D%2C%20%22id%22%3A%20%2268%22%2C%20%22properties%22%3A%20%7B%22__folium_color%22%3A%20%22%239edae5%22%2C%20%22_merge%22%3A%20%22both%22%2C%20%22stop_id%22%3A%20%221220%22%2C%20%22stop_name%22%3A%20%227th%20/%20Maple%22%2C%20%22stop_sequence_x%22%3A%2069%2C%20%22stop_sequence_y%22%3A%2047.0%7D%2C%20%22type%22%3A%20%22Feature%22%7D%2C%20%7B%22bbox%22%3A%20%5B-118.25109%2C%2034.043893999999995%2C%20-118.25109%2C%2034.043893999999995%5D%2C%20%22geometry%22%3A%20%7B%22coordinates%22%3A%20%5B-118.25109%2C%2034.043893999999995%5D%2C%20%22type%22%3A%20%22Point%22%7D%2C%20%22id%22%3A%20%2269%22%2C%20%22properties%22%3A%20%7B%22__folium_color%22%3A%20%22%239edae5%22%2C%20%22_merge%22%3A%20%22both%22%2C%20%22stop_id%22%3A%20%221229%22%2C%20%22stop_name%22%3A%20%227th%20/%20Main%22%2C%20%22stop_sequence_x%22%3A%2070%2C%20%22stop_sequence_y%22%3A%2048.0%7D%2C%20%22type%22%3A%20%22Feature%22%7D%2C%20%7B%22bbox%22%3A%20%5B-118.253114%2C%2034.045205999999986%2C%20-118.253114%2C%2034.045205999999986%5D%2C%20%22geometry%22%3A%20%7B%22coordinates%22%3A%20%5B-118.253114%2C%2034.045205999999986%5D%2C%20%22type%22%3A%20%22Point%22%7D%2C%20%22id%22%3A%20%2270%22%2C%20%22properties%22%3A%20%7B%22__folium_color%22%3A%20%22%239edae5%22%2C%20%22_merge%22%3A%20%22both%22%2C%20%22stop_id%22%3A%20%227380%22%2C%20%22stop_name%22%3A%20%227th%20/%20Broadway%22%2C%20%22stop_sequence_x%22%3A%2071%2C%20%22stop_sequence_y%22%3A%2049.0%7D%2C%20%22type%22%3A%20%22Feature%22%7D%2C%20%7B%22bbox%22%3A%20%5B-118.25569400000002%2C%2034.04687700000002%2C%20-118.25569400000002%2C%2034.04687700000002%5D%2C%20%22geometry%22%3A%20%7B%22coordinates%22%3A%20%5B-118.25569400000002%2C%2034.04687700000002%5D%2C%20%22type%22%3A%20%22Point%22%7D%2C%20%22id%22%3A%20%2271%22%2C%20%22properties%22%3A%20%7B%22__folium_color%22%3A%20%22%239edae5%22%2C%20%22_merge%22%3A%20%22both%22%2C%20%22stop_id%22%3A%20%227398%22%2C%20%22stop_name%22%3A%20%227th%20/%20Olive%22%2C%20%22stop_sequence_x%22%3A%2072%2C%20%22stop_sequence_y%22%3A%2050.0%7D%2C%20%22type%22%3A%20%22Feature%22%7D%2C%20%7B%22bbox%22%3A%20%5B-118.25744%2C%2034.04801300000003%2C%20-118.25744%2C%2034.04801300000003%5D%2C%20%22geometry%22%3A%20%7B%22coordinates%22%3A%20%5B-118.25744%2C%2034.04801300000003%5D%2C%20%22type%22%3A%20%22Point%22%7D%2C%20%22id%22%3A%20%2272%22%2C%20%22properties%22%3A%20%7B%22__folium_color%22%3A%20%22%239edae5%22%2C%20%22_merge%22%3A%20%22both%22%2C%20%22stop_id%22%3A%20%2215750%22%2C%20%22stop_name%22%3A%20%227th%20/%20Hope%22%2C%20%22stop_sequence_x%22%3A%2073%2C%20%22stop_sequence_y%22%3A%2051.0%7D%2C%20%22type%22%3A%20%22Feature%22%7D%2C%20%7B%22bbox%22%3A%20%5B-118.25853799999999%2C%2034.048717%2C%20-118.25853799999999%2C%2034.048717%5D%2C%20%22geometry%22%3A%20%7B%22coordinates%22%3A%20%5B-118.25853799999999%2C%2034.048717%5D%2C%20%22type%22%3A%20%22Point%22%7D%2C%20%22id%22%3A%20%2273%22%2C%20%22properties%22%3A%20%7B%22__folium_color%22%3A%20%22%239edae5%22%2C%20%22_merge%22%3A%20%22both%22%2C%20%22stop_id%22%3A%20%2215746%22%2C%20%22stop_name%22%3A%20%227th%20/%20Flower%22%2C%20%22stop_sequence_x%22%3A%2074%2C%20%22stop_sequence_y%22%3A%2052.0%7D%2C%20%22type%22%3A%20%22Feature%22%7D%2C%20%7B%22bbox%22%3A%20%5B-118.261874%2C%2034.050087%2C%20-118.261874%2C%2034.050087%5D%2C%20%22geometry%22%3A%20%7B%22coordinates%22%3A%20%5B-118.261874%2C%2034.050087%5D%2C%20%22type%22%3A%20%22Point%22%7D%2C%20%22id%22%3A%20%2274%22%2C%20%22properties%22%3A%20%7B%22__folium_color%22%3A%20%22%239edae5%22%2C%20%22_merge%22%3A%20%22both%22%2C%20%22stop_id%22%3A%20%2215734%22%2C%20%22stop_name%22%3A%20%227th%20/%20Francisco%22%2C%20%22stop_sequence_x%22%3A%2075%2C%20%22stop_sequence_y%22%3A%2053.0%7D%2C%20%22type%22%3A%20%22Feature%22%7D%2C%20%7B%22bbox%22%3A%20%5B-118.26384000000002%2C%2034.05082199999997%2C%20-118.26384000000002%2C%2034.05082199999997%5D%2C%20%22geometry%22%3A%20%7B%22coordinates%22%3A%20%5B-118.26384000000002%2C%2034.05082199999997%5D%2C%20%22type%22%3A%20%22Point%22%7D%2C%20%22id%22%3A%20%2275%22%2C%20%22properties%22%3A%20%7B%22__folium_color%22%3A%20%22%239edae5%22%2C%20%22_merge%22%3A%20%22both%22%2C%20%22stop_id%22%3A%20%2215739%22%2C%20%22stop_name%22%3A%20%227th%20/%20Bixel%22%2C%20%22stop_sequence_x%22%3A%2076%2C%20%22stop_sequence_y%22%3A%2054.0%7D%2C%20%22type%22%3A%20%22Feature%22%7D%2C%20%7B%22bbox%22%3A%20%5B-118.26561500000001%2C%2034.051518000000016%2C%20-118.26561500000001%2C%2034.051518000000016%5D%2C%20%22geometry%22%3A%20%7B%22coordinates%22%3A%20%5B-118.26561500000001%2C%2034.051518000000016%5D%2C%20%22type%22%3A%20%22Point%22%7D%2C%20%22id%22%3A%20%2276%22%2C%20%22properties%22%3A%20%7B%22__folium_color%22%3A%20%22%239edae5%22%2C%20%22_merge%22%3A%20%22both%22%2C%20%22stop_id%22%3A%20%2215735%22%2C%20%22stop_name%22%3A%20%227th%20/%20Lucas%22%2C%20%22stop_sequence_x%22%3A%2077%2C%20%22stop_sequence_y%22%3A%2055.0%7D%2C%20%22type%22%3A%20%22Feature%22%7D%2C%20%7B%22bbox%22%3A%20%5B-118.26745%2C%2034.052328%2C%20-118.26745%2C%2034.052328%5D%2C%20%22geometry%22%3A%20%7B%22coordinates%22%3A%20%5B-118.26745%2C%2034.052328%5D%2C%20%22type%22%3A%20%22Point%22%7D%2C%20%22id%22%3A%20%2277%22%2C%20%22properties%22%3A%20%7B%22__folium_color%22%3A%20%22%239edae5%22%2C%20%22_merge%22%3A%20%22both%22%2C%20%22stop_id%22%3A%20%2215767%22%2C%20%22stop_name%22%3A%20%227th%20/%20Witmer%22%2C%20%22stop_sequence_x%22%3A%2078%2C%20%22stop_sequence_y%22%3A%2056.0%7D%2C%20%22type%22%3A%20%22Feature%22%7D%2C%20%7B%22bbox%22%3A%20%5B-118.269159%2C%2034.053099000000024%2C%20-118.269159%2C%2034.053099000000024%5D%2C%20%22geometry%22%3A%20%7B%22coordinates%22%3A%20%5B-118.269159%2C%2034.053099000000024%5D%2C%20%22type%22%3A%20%22Point%22%7D%2C%20%22id%22%3A%20%2278%22%2C%20%22properties%22%3A%20%7B%22__folium_color%22%3A%20%22%239edae5%22%2C%20%22_merge%22%3A%20%22both%22%2C%20%22stop_id%22%3A%20%2215766%22%2C%20%22stop_name%22%3A%20%227th%20/%20Valencia%22%2C%20%22stop_sequence_x%22%3A%2079%2C%20%22stop_sequence_y%22%3A%2057.0%7D%2C%20%22type%22%3A%20%22Feature%22%7D%2C%20%7B%22bbox%22%3A%20%5B-118.271345%2C%2034.05408300000004%2C%20-118.271345%2C%2034.05408300000004%5D%2C%20%22geometry%22%3A%20%7B%22coordinates%22%3A%20%5B-118.271345%2C%2034.05408300000004%5D%2C%20%22type%22%3A%20%22Point%22%7D%2C%20%22id%22%3A%20%2279%22%2C%20%22properties%22%3A%20%7B%22__folium_color%22%3A%20%22%239edae5%22%2C%20%22_merge%22%3A%20%22both%22%2C%20%22stop_id%22%3A%20%2215762%22%2C%20%22stop_name%22%3A%20%227th%20/%20Union%22%2C%20%22stop_sequence_x%22%3A%2080%2C%20%22stop_sequence_y%22%3A%2058.0%7D%2C%20%22type%22%3A%20%22Feature%22%7D%2C%20%7B%22bbox%22%3A%20%5B-118.273269%2C%2034.05494399999999%2C%20-118.273269%2C%2034.05494399999999%5D%2C%20%22geometry%22%3A%20%7B%22coordinates%22%3A%20%5B-118.273269%2C%2034.05494399999999%5D%2C%20%22type%22%3A%20%22Point%22%7D%2C%20%22id%22%3A%20%2280%22%2C%20%22properties%22%3A%20%7B%22__folium_color%22%3A%20%22%239edae5%22%2C%20%22_merge%22%3A%20%22both%22%2C%20%22stop_id%22%3A%20%2215742%22%2C%20%22stop_name%22%3A%20%227th%20/%20Burlington%22%2C%20%22stop_sequence_x%22%3A%2081%2C%20%22stop_sequence_y%22%3A%2059.0%7D%2C%20%22type%22%3A%20%22Feature%22%7D%2C%20%7B%22bbox%22%3A%20%5B-118.27623700000001%2C%2034.057095%2C%20-118.27623700000001%2C%2034.057095%5D%2C%20%22geometry%22%3A%20%7B%22coordinates%22%3A%20%5B-118.27623700000001%2C%2034.057095%5D%2C%20%22type%22%3A%20%22Point%22%7D%2C%20%22id%22%3A%20%2281%22%2C%20%22properties%22%3A%20%7B%22__folium_color%22%3A%20%22%239edae5%22%2C%20%22_merge%22%3A%20%22both%22%2C%20%22stop_id%22%3A%20%221854%22%2C%20%22stop_name%22%3A%20%22Alvarado%20/%20Wilshire%22%2C%20%22stop_sequence_x%22%3A%2082%2C%20%22stop_sequence_y%22%3A%2060.0%7D%2C%20%22type%22%3A%20%22Feature%22%7D%2C%20%7B%22bbox%22%3A%20%5B-118.275068%2C%2034.05695700000001%2C%20-118.275068%2C%2034.05695700000001%5D%2C%20%22geometry%22%3A%20%7B%22coordinates%22%3A%20%5B-118.275068%2C%2034.05695700000001%5D%2C%20%22type%22%3A%20%22Point%22%7D%2C%20%22id%22%3A%20%2282%22%2C%20%22properties%22%3A%20%7B%22__folium_color%22%3A%20%22%239edae5%22%2C%20%22_merge%22%3A%20%22both%22%2C%20%22stop_id%22%3A%20%22140944%22%2C%20%22stop_name%22%3A%20%22Westlake%20/%20Wilshire%22%2C%20%22stop_sequence_x%22%3A%2083%2C%20%22stop_sequence_y%22%3A%2061.0%7D%2C%20%22type%22%3A%20%22Feature%22%7D%5D%2C%20%22type%22%3A%20%22FeatureCollection%22%7D%29%3B%0A%0A%20%20%20%20%20%20%20%20%0A%20%20%20%20%0A%20%20%20%20geo_json_4b11d5f9b54b4ef4aa4ca2d4f3efd8c3.bindTooltip%28%0A%20%20%20%20function%28layer%29%7B%0A%20%20%20%20let%20div%20%3D%20L.DomUtil.create%28%27div%27%29%3B%0A%20%20%20%20%0A%20%20%20%20let%20handleObject%20%3D%20feature%3D%3Etypeof%28feature%29%3D%3D%27object%27%20%3F%20JSON.stringify%28feature%29%20%3A%20feature%3B%0A%20%20%20%20let%20fields%20%3D%20%5B%22stop_id%22%2C%20%22stop_name%22%2C%20%22stop_sequence_x%22%2C%20%22stop_sequence_y%22%2C%20%22_merge%22%5D%3B%0A%20%20%20%20let%20aliases%20%3D%20%5B%22stop_id%22%2C%20%22stop_name%22%2C%20%22stop_sequence_x%22%2C%20%22stop_sequence_y%22%2C%20%22_merge%22%5D%3B%0A%20%20%20%20let%20table%20%3D%20%27%3Ctable%3E%27%20%2B%0A%20%20%20%20%20%20%20%20String%28%0A%20%20%20%20%20%20%20%20fields.map%28%0A%20%20%20%20%20%20%20%20%28v%2Ci%29%3D%3E%0A%20%20%20%20%20%20%20%20%60%3Ctr%3E%0A%20%20%20%20%20%20%20%20%20%20%20%20%3Cth%3E%24%7Baliases%5Bi%5D%7D%3C/th%3E%0A%20%20%20%20%20%20%20%20%20%20%20%20%0A%20%20%20%20%20%20%20%20%20%20%20%20%3Ctd%3E%24%7BhandleObject%28layer.feature.properties%5Bv%5D%29%7D%3C/td%3E%0A%20%20%20%20%20%20%20%20%3C/tr%3E%60%29.join%28%27%27%29%29%0A%20%20%20%20%2B%27%3C/table%3E%27%3B%0A%20%20%20%20div.innerHTML%3Dtable%3B%0A%20%20%20%20%0A%20%20%20%20return%20div%0A%20%20%20%20%7D%0A%20%20%20%20%2C%7B%22className%22%3A%20%22foliumtooltip%22%2C%20%22sticky%22%3A%20true%7D%29%3B%0A%20%20%20%20%20%20%20%20%20%20%20%20%20%20%20%20%20%20%20%20%20%0A%3C/script%3E onload=\"this.contentDocument.open();this.contentDocument.write(    decodeURIComponent(this.getAttribute('data-html')));this.contentDocument.close();\" allowfullscreen webkitallowfullscreen mozallowfullscreen></iframe></div></div>"
      ],
      "text/plain": [
       "<folium.folium.Map at 0x7ff6f9328520>"
      ]
     },
     "execution_count": 15,
     "metadata": {},
     "output_type": "execute_result"
    }
   ],
   "source": [
    "m1.explore(\"_merge\", \n",
    "           tiles=\"Carto DB Positron\")"
   ]
  },
  {
   "cell_type": "code",
   "execution_count": null,
   "id": "44e45dc1-0f66-467c-a9e6-112923435dc6",
   "metadata": {},
   "outputs": [],
   "source": []
  }
 ],
 "metadata": {
  "kernelspec": {
   "display_name": "Python 3 (ipykernel)",
   "language": "python",
   "name": "python3"
  },
  "language_info": {
   "codemirror_mode": {
    "name": "ipython",
    "version": 3
   },
   "file_extension": ".py",
   "mimetype": "text/x-python",
   "name": "python",
   "nbconvert_exporter": "python",
   "pygments_lexer": "ipython3",
   "version": "3.9.13"
  }
 },
 "nbformat": 4,
 "nbformat_minor": 5
}
