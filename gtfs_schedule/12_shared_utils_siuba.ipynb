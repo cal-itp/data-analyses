{
 "cells": [
  {
   "cell_type": "code",
   "execution_count": 1,
   "id": "cffeb606-8ddf-409a-b24f-e428ad13572e",
   "metadata": {
    "tags": []
   },
   "outputs": [],
   "source": [
    "import pandas as pd\n",
    "from calitp_data_analysis.sql import query_sql"
   ]
  },
  {
   "cell_type": "markdown",
   "id": "0e3da706-ab37-44f8-a494-43c18d1b76f6",
   "metadata": {},
   "source": [
    "# Migrate `shared_utils` away from siuba"
   ]
  },
  {
   "cell_type": "markdown",
   "id": "59b669f6-7fe1-44bd-a71a-68e1a915dc70",
   "metadata": {},
   "source": [
    "## `rt_utils` already done"
   ]
  },
  {
   "cell_type": "markdown",
   "id": "97d6cdf6-6f38-45b2-9f4c-2e0ab4dc74c5",
   "metadata": {},
   "source": [
    "## `schedule_rt_utils`"
   ]
  },
  {
   "cell_type": "markdown",
   "id": "3c6fc789-6572-46e2-a55d-c1da2aca6a0d",
   "metadata": {},
   "source": [
    "## `gtfs_utils_v2`"
   ]
  },
  {
   "cell_type": "code",
   "execution_count": null,
   "id": "4c4771a7-87da-479c-9999-27281f23403a",
   "metadata": {},
   "outputs": [],
   "source": []
  }
 ],
 "metadata": {
  "kernelspec": {
   "display_name": "Python 3 (ipykernel)",
   "language": "python",
   "name": "python3"
  },
  "language_info": {
   "codemirror_mode": {
    "name": "ipython",
    "version": 3
   },
   "file_extension": ".py",
   "mimetype": "text/x-python",
   "name": "python",
   "nbconvert_exporter": "python",
   "pygments_lexer": "ipython3",
   "version": "3.11.10"
  },
  "widgets": {
   "application/vnd.jupyter.widget-state+json": {
    "state": {},
    "version_major": 2,
    "version_minor": 0
   }
  }
 },
 "nbformat": 4,
 "nbformat_minor": 5
}
