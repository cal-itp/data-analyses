{
 "cells": [
  {
   "cell_type": "markdown",
   "id": "a0102701-5730-4c64-81d1-8bb6eae74345",
   "metadata": {},
   "source": [
    "# Bus Stops on SHN in CA\n",
    "\n",
    "Uriel's request:\n",
    "\n",
    "Can you help me get a copy of the dataset (Excel or .csv) for bus stops that are on the SHS?\n",
    "\n",
    "I am looking for an Excel or .csv dataset that shows only the bus stops on the SHS.  A filtered, tabulated data of them based on a snapshot of the most recent dataset is fine.  Gillian wants to move this sub-dataset into Entur for protoyping purposes."
   ]
  },
  {
   "cell_type": "code",
   "execution_count": 1,
   "id": "dcac5d5c-11b1-4782-aad1-228d40709df7",
   "metadata": {},
   "outputs": [],
   "source": [
    "import os\n",
    "os.environ[\"CALITP_BQ_MAX_BYTES\"] = str(200_000_000_000)\n",
    "\n",
    "import geopandas as gpd\n",
    "import pandas as pd\n",
    "from siuba import *\n",
    "\n",
    "from segment_speed_utils import helpers\n",
    "from shared_utils import catalog_utils, rt_dates, gtfs_utils_v2, rt_utils\n",
    "\n",
    "SCHED_GCS = \"gs://calitp-analytics-data/data-analyses/gtfs_schedule/\""
   ]
  },
  {
   "cell_type": "code",
   "execution_count": 2,
   "id": "4cd8ca9b-c36a-4bf0-926d-69d88c4538db",
   "metadata": {},
   "outputs": [],
   "source": [
    "pd.set_option('display.max_rows', None)"
   ]
  },
  {
   "cell_type": "code",
   "execution_count": null,
   "id": "3f980fa5-ef2d-4661-9c28-81025907ae51",
   "metadata": {},
   "outputs": [],
   "source": [
    "shared_data_catalog = catalog_utils.get_catalog(\"shared_data_catalog\")"
   ]
  },
  {
   "cell_type": "code",
   "execution_count": null,
   "id": "ccafc04e-67e2-451c-ac98-370abad2d4e2",
   "metadata": {},
   "outputs": [],
   "source": [
    "shn = shared_data_catalog.state_highway_network.read()\n",
    "\n",
    "# 100 ft buffer around SHN\n",
    "shn = shn.assign(\n",
    "    geometry_buffered = (shn.geometry.to_crs(\"EPSG:2229\")\n",
    "                         .buffer(100)\n",
    "                         .to_crs(\"EPSG:4326\")\n",
    "                        )\n",
    ")"
   ]
  },
  {
   "cell_type": "code",
   "execution_count": null,
   "id": "64cdc098-af3d-4833-b67a-ea45f9e3e65d",
   "metadata": {},
   "outputs": [],
   "source": [
    "shn.plot()"
   ]
  },
  {
   "cell_type": "code",
   "execution_count": null,
   "id": "e69f6960-97cc-4085-a5f9-3acab04f771d",
   "metadata": {},
   "outputs": [],
   "source": [
    "ca_stops = shared_data_catalog.ca_transit_stops.read()"
   ]
  },
  {
   "cell_type": "code",
   "execution_count": null,
   "id": "bc0de9df-6271-4c12-93b5-91ea1dcbfac0",
   "metadata": {},
   "outputs": [],
   "source": [
    "ca_stops['date'] = rt_dates.DATES['aug2024'] #  change to match most recent open data upload..."
   ]
  },
  {
   "cell_type": "code",
   "execution_count": null,
   "id": "93cb0f09-eb7f-441f-962e-f93fee474f4f",
   "metadata": {},
   "outputs": [],
   "source": [
    "# wasn't finding `route_type` during sjoin_shs, changed to `routetypes`\n",
    "\n",
    "unique_stop_cols = [\"agency\", \"stop_id\", \"stop_name\",\n",
    "                        \"RouteType\", \"date\"]"
   ]
  },
  {
   "cell_type": "code",
   "execution_count": null,
   "id": "610fe2ed-21af-452a-ab32-aa61fa7be6db",
   "metadata": {},
   "outputs": [],
   "source": [
    "def sjoin_shs(stops: gpd.GeoDataFrame):\n",
    "    \n",
    "    stops_on_shn = gpd.sjoin(\n",
    "        stops, \n",
    "        shn[\n",
    "            [\"Route\", \"RouteType\", \"geometry_buffered\"]\n",
    "        ].set_geometry(\"geometry_buffered\"),\n",
    "        how = \"inner\",\n",
    "        predicate = \"intersects\"\n",
    "    ).drop(columns = \"index_right\")\n",
    "\n",
    "    print(stops_on_shn[unique_stop_cols].drop_duplicates().shape)\n",
    "    return stops_on_shn"
   ]
  },
  {
   "cell_type": "code",
   "execution_count": null,
   "id": "ef37fae1-a401-455c-889e-a68dad50bf10",
   "metadata": {},
   "outputs": [],
   "source": [
    "display(\n",
    "    ca_stops.columns,\n",
    "    ca_stops.routetypes.unique()\n",
    ")"
   ]
  },
  {
   "cell_type": "code",
   "execution_count": null,
   "id": "93dd1d24-ec9c-422b-8b48-aeaa6bb87aee",
   "metadata": {},
   "outputs": [],
   "source": [
    "display(\n",
    "    shn.columns,\n",
    "    shn.RouteType.unique()\n",
    ")"
   ]
  },
  {
   "cell_type": "code",
   "execution_count": null,
   "id": "0f54a224-62c8-48d7-91f4-61eb39c03c5a",
   "metadata": {},
   "outputs": [],
   "source": [
    "def process_for_export(stops: gpd.GeoDataFrame):\n",
    "\n",
    "    # Export / rename columns for clarity / get it as csv so back out lat/lon\n",
    "    stops_for_export = stops[\n",
    "        unique_stop_cols + [\"Route\", \"RouteType\", \"geometry\"]\n",
    "    ].rename(columns = {\n",
    "        \"Route\": \"shn_route\",\n",
    "        \"RouteType\": \"shn_route_type\"}\n",
    "    ).drop_duplicates().reset_index(drop=True)\n",
    "\n",
    "    stops_for_export = stops_for_export.assign(\n",
    "        x = stops_for_export.geometry.x,\n",
    "        y = stops_for_export.geometry.y,\n",
    "    ).drop(columns = \"geometry\")\n",
    "\n",
    "    return stops_for_export"
   ]
  },
  {
   "cell_type": "code",
   "execution_count": null,
   "id": "aa3d7515-2b4a-4113-bbe0-990109a6270e",
   "metadata": {},
   "outputs": [],
   "source": [
    "aug_shs_joined = sjoin_shs(ca_stops)"
   ]
  },
  {
   "cell_type": "code",
   "execution_count": null,
   "id": "50728a53-08b6-45aa-8fda-cccb738c8388",
   "metadata": {},
   "outputs": [],
   "source": [
    "aug_shs_joined.columns"
   ]
  },
  {
   "cell_type": "code",
   "execution_count": null,
   "id": "c4b6bc1c-b3ce-4458-9da0-0e9555784168",
   "metadata": {},
   "outputs": [],
   "source": [
    "# aug_shs_joined.explore()"
   ]
  },
  {
   "cell_type": "markdown",
   "id": "a1b07e1d-c79f-40e7-baae-d8ea2ff7a034",
   "metadata": {},
   "source": [
    "# adding SBMTD"
   ]
  },
  {
   "cell_type": "markdown",
   "id": "638f60e4-bbf2-4f66-af4e-3738521b6223",
   "metadata": {},
   "source": [
    "## where'd it go?"
   ]
  },
  {
   "cell_type": "code",
   "execution_count": null,
   "id": "d9b2710e-6065-49e8-b6b8-3652dc0baab1",
   "metadata": {},
   "outputs": [],
   "source": [
    "analysis_date = rt_dates.DATES['aug2024'] #  start with same date as open data run (Aug 14)"
   ]
  },
  {
   "cell_type": "code",
   "execution_count": null,
   "id": "514ccaa9-ea2f-49e2-ad9e-065b9f874b15",
   "metadata": {},
   "outputs": [],
   "source": [
    "sb = gtfs_utils_v2.schedule_daily_feed_to_gtfs_dataset_name(selected_date=analysis_date)"
   ]
  },
  {
   "cell_type": "code",
   "execution_count": null,
   "id": "6d00fae0-0de8-464a-a0c2-2dbb15f9f682",
   "metadata": {},
   "outputs": [],
   "source": [
    "sb = sb >> filter(_.name.str.contains('SB'))\n",
    "sb"
   ]
  },
  {
   "cell_type": "code",
   "execution_count": null,
   "id": "dbf34e5f-e404-45a4-850a-cb4690236500",
   "metadata": {},
   "outputs": [],
   "source": [
    "sb_stops = gtfs_utils_v2.get_stops(selected_date=analysis_date, operator_feeds=sb.feed_key)"
   ]
  },
  {
   "cell_type": "code",
   "execution_count": null,
   "id": "4636ed03-a68b-4c66-88eb-41ed98d967d7",
   "metadata": {},
   "outputs": [],
   "source": [
    "sb_stops >> head(3) #  empty"
   ]
  },
  {
   "cell_type": "markdown",
   "id": "05ea79c2-bb03-442d-bd0a-a69052426ea3",
   "metadata": {},
   "source": [
    "### classic upload with coverage gap (uploaded ~8/14, service in feed starts ~8/19)\n",
    "\n",
    "https://github.com/cal-itp/data-infra/issues/1300"
   ]
  },
  {
   "cell_type": "markdown",
   "id": "67503336-f434-40f8-8f3e-6ff0a549d9f8",
   "metadata": {},
   "source": [
    "## here it is"
   ]
  },
  {
   "cell_type": "code",
   "execution_count": null,
   "id": "668c109a-caca-4efe-a1a1-4d039dfd7d81",
   "metadata": {},
   "outputs": [],
   "source": [
    "analysis_date = '2024-08-21'"
   ]
  },
  {
   "cell_type": "code",
   "execution_count": null,
   "id": "2cf6e094-d5ad-4812-9531-e01a261b99d4",
   "metadata": {},
   "outputs": [],
   "source": [
    "sb = gtfs_utils_v2.schedule_daily_feed_to_gtfs_dataset_name(selected_date=analysis_date)\n",
    "sb = sb >> filter(_.name.str.contains('SB'))\n",
    "sb"
   ]
  },
  {
   "cell_type": "code",
   "execution_count": null,
   "id": "64f6d98d-5422-4f28-876c-e430801931a9",
   "metadata": {},
   "outputs": [],
   "source": [
    "sb_stops = gtfs_utils_v2.get_stops(selected_date=analysis_date, operator_feeds=sb.feed_key)"
   ]
  },
  {
   "cell_type": "code",
   "execution_count": null,
   "id": "4cee3992-7063-4652-a693-92bd29d73b1d",
   "metadata": {},
   "outputs": [],
   "source": [
    "sb_trips = gtfs_utils_v2.get_trips(selected_date=analysis_date, operator_feeds=sb.feed_key)"
   ]
  },
  {
   "cell_type": "code",
   "execution_count": null,
   "id": "394031c0-7b90-438f-a003-f88d139ce564",
   "metadata": {},
   "outputs": [],
   "source": [
    "sb_trips.empty"
   ]
  },
  {
   "cell_type": "code",
   "execution_count": null,
   "id": "342a2fb7-4e1d-457e-b07c-960f178b2a15",
   "metadata": {},
   "outputs": [],
   "source": [
    "sb_stops >> head(2)"
   ]
  },
  {
   "cell_type": "code",
   "execution_count": null,
   "id": "86b2778d-8365-4166-afe4-c972ebb71669",
   "metadata": {},
   "outputs": [],
   "source": [
    "#  lifted from https://github.com/cal-itp/data-analyses/blob/main/open_data/create_stops_data.py\n",
    "export_stops_path = 'gs://calitp-analytics-data/data-analyses/traffic_ops/export/ca_transit_stops_'"
   ]
  },
  {
   "cell_type": "code",
   "execution_count": null,
   "id": "f7c693c3-e51d-44aa-a36e-c9baa8a819eb",
   "metadata": {},
   "outputs": [],
   "source": [
    "analysis_date = rt_dates.DATES['jul2024']"
   ]
  },
  {
   "cell_type": "code",
   "execution_count": null,
   "id": "86f07929-4995-4b97-b2ce-f395b1fe49db",
   "metadata": {},
   "outputs": [],
   "source": [
    "jul_stops = gpd.read_parquet(f'{export_stops_path}{analysis_date}.parquet', filters=[('agency', '==', 'Santa Barbara Metropolitan Transit District')])"
   ]
  },
  {
   "cell_type": "code",
   "execution_count": null,
   "id": "8a2489b8-dc84-484e-b520-7c1cc7208956",
   "metadata": {},
   "outputs": [],
   "source": [
    "jul_stops['date'] = analysis_date"
   ]
  },
  {
   "cell_type": "markdown",
   "id": "e8bc2f56-44bf-48be-a70d-241f02c738c9",
   "metadata": {},
   "source": [
    "## now B-Line"
   ]
  },
  {
   "cell_type": "code",
   "execution_count": null,
   "id": "0dff3f2c-fa0d-406e-be48-0ea528ffb60a",
   "metadata": {},
   "outputs": [],
   "source": [
    "analysis_date = rt_dates.DATES['mar2024']"
   ]
  },
  {
   "cell_type": "code",
   "execution_count": null,
   "id": "47b8406c-db8a-4317-b113-62877576c48d",
   "metadata": {},
   "outputs": [],
   "source": [
    "mar_stops = gpd.read_parquet(f'{export_stops_path}{analysis_date}.parquet'\n",
    "                             , filters=[('agency', '==', 'Butte County Association of Governments')]\n",
    "                            )\n",
    "mar_stops['date'] = analysis_date"
   ]
  },
  {
   "cell_type": "markdown",
   "id": "9081df93-e57d-4d7f-bd24-0e98faa3cbd6",
   "metadata": {},
   "source": [
    "## now LBT"
   ]
  },
  {
   "cell_type": "code",
   "execution_count": null,
   "id": "335bab12-44d2-4b1d-a59c-4925550f2bfa",
   "metadata": {},
   "outputs": [],
   "source": [
    "analysis_date = rt_dates.DATES['may2024']"
   ]
  },
  {
   "cell_type": "code",
   "execution_count": null,
   "id": "e92242d9-65d1-463f-b984-84f691caf134",
   "metadata": {},
   "outputs": [],
   "source": [
    "may_stops = gpd.read_parquet(f'{export_stops_path}{analysis_date}.parquet'\n",
    "                             , filters=[('agency', '==', 'Long Beach Transit')]\n",
    "                            )\n",
    "may_stops['date'] = analysis_date"
   ]
  },
  {
   "cell_type": "markdown",
   "id": "fadb9daa-e50d-4810-8a13-e825b938e1d1",
   "metadata": {},
   "source": [
    "## concat and process"
   ]
  },
  {
   "cell_type": "code",
   "execution_count": null,
   "id": "b2e6b5a6-8ff8-4faf-8d31-9c936e826295",
   "metadata": {},
   "outputs": [],
   "source": [
    "stops_to_add = pd.concat([jul_stops, mar_stops, may_stops])"
   ]
  },
  {
   "cell_type": "code",
   "execution_count": null,
   "id": "4a2ce3de-01f5-46d1-a7da-457a2498b304",
   "metadata": {},
   "outputs": [],
   "source": [
    "# stops_to_add.explore()"
   ]
  },
  {
   "cell_type": "code",
   "execution_count": null,
   "id": "7b6cc76f-c57b-40b0-9577-76d91d3066ff",
   "metadata": {},
   "outputs": [],
   "source": [
    "additional_shs_joined = sjoin_shs(stops_to_add)"
   ]
  },
  {
   "cell_type": "code",
   "execution_count": null,
   "id": "7f80fa5c-8f6c-4626-a8de-ade84db3579c",
   "metadata": {},
   "outputs": [],
   "source": [
    "# additional_shs_joined.explore()"
   ]
  },
  {
   "cell_type": "markdown",
   "id": "3b46f7b6-fa94-4625-9f7a-5d43cf880a26",
   "metadata": {},
   "source": [
    "# new combined export"
   ]
  },
  {
   "cell_type": "code",
   "execution_count": null,
   "id": "c3381bce-83c4-40e7-930d-000763302eea",
   "metadata": {},
   "outputs": [],
   "source": [
    "all_spatial = pd.concat([aug_shs_joined, additional_shs_joined])"
   ]
  },
  {
   "cell_type": "code",
   "execution_count": null,
   "id": "f0a4544b-df05-4107-a2e5-63eb4ce8bf2f",
   "metadata": {},
   "outputs": [],
   "source": [
    "stops_for_export = process_for_export(all_spatial)"
   ]
  },
  {
   "cell_type": "code",
   "execution_count": null,
   "id": "ad05cbdb-ef63-4beb-8aac-fba9df5a7e22",
   "metadata": {},
   "outputs": [],
   "source": [
    "stops_for_export.to_csv(\"ca_stops_revised.csv\", index=False)"
   ]
  },
  {
   "cell_type": "markdown",
   "id": "17cf4efa-f233-4544-9865-aeb03eb30df7",
   "metadata": {},
   "source": [
    "## a map?\n",
    "\n",
    "using webapp"
   ]
  },
  {
   "cell_type": "code",
   "execution_count": null,
   "id": "92db6d36-c7ea-41ff-9a6b-ae290fd46634",
   "metadata": {},
   "outputs": [],
   "source": [
    "shn = gpd.read_parquet(rt_utils.SHN_PATH)[['Route', 'County', 'District',\n",
    "                                           'RouteType', 'geometry']]"
   ]
  },
  {
   "cell_type": "code",
   "execution_count": null,
   "id": "e4d5776e-4c1e-48b9-b8a0-9a49b7f16841",
   "metadata": {},
   "outputs": [],
   "source": [
    "to_map = all_spatial.drop(columns=['base64_url'])\n",
    "# to_map['color'] = (10, 29, 245)"
   ]
  },
  {
   "cell_type": "code",
   "execution_count": null,
   "id": "f4c8fc45-0ad8-4819-a3ed-662940186030",
   "metadata": {},
   "outputs": [],
   "source": [
    "import calitp_data_analysis"
   ]
  },
  {
   "cell_type": "code",
   "execution_count": null,
   "id": "8e28af68-1186-4eae-b78f-4ad8597b1575",
   "metadata": {},
   "outputs": [],
   "source": [
    "len(to_map.agency.unique())"
   ]
  },
  {
   "cell_type": "code",
   "execution_count": null,
   "id": "fa6c7df5-40a5-4324-97b7-056aa5d0af65",
   "metadata": {},
   "outputs": [],
   "source": [
    "#calitp_data_analysis.calitp_color_palette  #  doesn't work?"
   ]
  },
  {
   "cell_type": "code",
   "execution_count": null,
   "id": "eacdcc13-4246-4cb0-8262-94864f717607",
   "metadata": {},
   "outputs": [],
   "source": [
    "CALITP_CATEGORY_BOLD_COLORS = [\n",
    "    \"#136C97\",  # darker blue\n",
    "    \"#E16B26\",  # orange\n",
    "    \"#F6BF16\",  # yellow\n",
    "    \"#00896B\",  # green\n",
    "    \"#7790A3\",  # lighter blue\n",
    "    \"#5B559C\",  # purple\n",
    "]"
   ]
  },
  {
   "cell_type": "code",
   "execution_count": null,
   "id": "6f0cd2cb-6a50-47f8-951a-5f193c3350c0",
   "metadata": {},
   "outputs": [],
   "source": [
    "full_categories = CALITP_CATEGORY_BOLD_COLORS * 20"
   ]
  },
  {
   "cell_type": "code",
   "execution_count": null,
   "id": "6b89c935-aeaa-4710-bb00-f0e0b9875d20",
   "metadata": {},
   "outputs": [],
   "source": [
    "color_dict = dict(zip(to_map.agency.unique(), full_categories))"
   ]
  },
  {
   "cell_type": "code",
   "execution_count": null,
   "id": "d2fe6b19-ee91-4350-8ef8-519fe9fa63df",
   "metadata": {},
   "outputs": [],
   "source": [
    "#  https://www.30secondsofcode.org/python/s/hex-to-rgb/\n",
    "def hex_to_rgb(hex):\n",
    "    return tuple(int(hex[i:i+2], 16) for i in (0, 2, 4))"
   ]
  },
  {
   "cell_type": "code",
   "execution_count": null,
   "id": "0ba9270e-5fce-4cab-8d3d-e909d1d321f0",
   "metadata": {},
   "outputs": [],
   "source": [
    "to_map['color'] = to_map.agency.apply(lambda x: hex_to_rgb(color_dict[x][1:]))"
   ]
  },
  {
   "cell_type": "code",
   "execution_count": null,
   "id": "a0c5aa1e-feb7-4492-8698-8826f55e04eb",
   "metadata": {},
   "outputs": [],
   "source": [
    "export_result = rt_utils.set_state_export(shn, subfolder = 'shs_stops/', filename = 'shs',\n",
    "                                map_type = 'state_highway_network')\n",
    "spa_map_state = export_result['state_dict']\n",
    "\n",
    "combined_state = rt_utils.set_state_export(\n",
    "                    to_map, subfolder = 'shs_stops/', filename=f'stops4',\n",
    "                    existing_state=spa_map_state, map_title=f'SHS with Stops Sep 2024')"
   ]
  },
  {
   "cell_type": "code",
   "execution_count": null,
   "id": "9cc52ae4-8d39-44f5-9d95-799cfa64515a",
   "metadata": {},
   "outputs": [],
   "source": [
    "combined_state"
   ]
  },
  {
   "cell_type": "markdown",
   "id": "5e257bc0-1d92-4142-8dae-68d85431d373",
   "metadata": {},
   "source": [
    "# Identify 5311 agencies from list\n"
   ]
  },
  {
   "cell_type": "code",
   "execution_count": 3,
   "id": "f9c5e31d-b626-4df7-b814-2b13fa97b968",
   "metadata": {},
   "outputs": [],
   "source": [
    "stops_for_export = pd.read_csv(\"ca_stops_revised.csv\")"
   ]
  },
  {
   "cell_type": "code",
   "execution_count": null,
   "id": "83b30acb-f4ec-4a76-8858-0878236e3744",
   "metadata": {},
   "outputs": [],
   "source": [
    "display(\n",
    "    stops_for_export.info(),\n",
    "    stops_for_export[\"agency\"].nunique()\n",
    ")"
   ]
  },
  {
   "cell_type": "code",
   "execution_count": 4,
   "id": "95201b6e-9f05-4ee0-ae5b-9279a98383cb",
   "metadata": {},
   "outputs": [],
   "source": [
    "from calitp_data_analysis.tables import tbls\n",
    "\n",
    "# read in suggested bridge table \n",
    "#bridge_org = (tbls.mart_transit_database.bridge_organizations_x_funding_programs()\n",
    "#        >> filter(_._is_current == True) # when `True`, get 21 rows?\n",
    "#        >> collect()\n",
    "#)"
   ]
  },
  {
   "cell_type": "code",
   "execution_count": null,
   "id": "10a1d49a-0494-4c9c-9751-b52e584e0fba",
   "metadata": {},
   "outputs": [],
   "source": [
    "# what about dim_annual_funding_sources?\n",
    "# data from 2022 NTD\n",
    "\n",
    "#fund_source = (tbls.mart_ntd.dim_annual_funding_sources()\n",
    "#        >> filter(\n",
    "#           # _._is_current == True,\n",
    "#            _.fta_rural_progam_5311 > 0,\n",
    "#            _.uza_name.str.contains(\", CA\")\n",
    "#        ) # when `True`, get  rows?\n",
    "#        >> collect()\n",
    "#)"
   ]
  },
  {
   "cell_type": "code",
   "execution_count": null,
   "id": "32224a82-10de-44f6-ab06-a09024fed082",
   "metadata": {},
   "outputs": [],
   "source": [
    "# dim_funding_programs\n",
    "\n",
    "#fund_program = (tbls.mart_transit_database.dim_funding_programs()\n",
    "#        >> filter(_._is_current == True) # when `True`, get  rows?\n",
    "#        >> collect()\n",
    "#)"
   ]
  },
  {
   "cell_type": "markdown",
   "id": "568b2ba0-1b4d-440c-b777-dc84ae757064",
   "metadata": {},
   "source": [
    "## table that list services with the funding programs (5311)"
   ]
  },
  {
   "cell_type": "code",
   "execution_count": 5,
   "id": "7aef4579-60c3-40ff-90f8-3c68e19fb70a",
   "metadata": {},
   "outputs": [],
   "source": [
    "bridge_service = (tbls.mart_transit_database.bridge_services_x_funding_programs()\n",
    "        >> filter(\n",
    "            _._is_current == True,\n",
    "            _.funding_program_name == \"5311\"\n",
    "        ) \n",
    "        >> collect()\n",
    ")"
   ]
  },
  {
   "cell_type": "code",
   "execution_count": 6,
   "id": "e95a8be0-4a07-481a-b686-2f1d86a9ff8d",
   "metadata": {},
   "outputs": [
    {
     "data": {
      "text/plain": [
       "(139, 4)"
      ]
     },
     "execution_count": 6,
     "metadata": {},
     "output_type": "execute_result"
    }
   ],
   "source": [
    "service_keep_cols =[\n",
    "    \"service_key\",\n",
    "    \"service_name\",\n",
    "    \"funding_program_key\",\n",
    "    \"funding_program_name\"\n",
    "]\n",
    "\n",
    "bridge_service = bridge_service[service_keep_cols]\n",
    "\n",
    "bridge_service.shape"
   ]
  },
  {
   "cell_type": "code",
   "execution_count": null,
   "id": "ad0a449d-f04e-4e1b-8d37-f720429146b7",
   "metadata": {},
   "outputs": [],
   "source": [
    "display(\n",
    "    bridge_service.info(),\n",
    "    bridge_service.sample(3)\n",
    ")"
   ]
  },
  {
   "cell_type": "code",
   "execution_count": 7,
   "id": "d065e904-3e3e-4939-9807-4fa5fb2d5a7e",
   "metadata": {},
   "outputs": [],
   "source": [
    "bridge_service_keys = list(bridge_service[\"service_key\"].unique())"
   ]
  },
  {
   "cell_type": "code",
   "execution_count": 8,
   "id": "94ba518e-e0bc-450b-9a2c-f5913a8c8bcf",
   "metadata": {},
   "outputs": [
    {
     "data": {
      "text/plain": [
       "139"
      ]
     },
     "execution_count": 8,
     "metadata": {},
     "output_type": "execute_result"
    }
   ],
   "source": [
    "len(bridge_service_keys)"
   ]
  },
  {
   "cell_type": "markdown",
   "id": "cbd96ad9-f3fb-4ee1-b29c-6f476a75f764",
   "metadata": {},
   "source": [
    "## table to get agency name from services"
   ]
  },
  {
   "cell_type": "code",
   "execution_count": 9,
   "id": "0e2a6415-53f8-4e7d-89f3-e1ae0790b371",
   "metadata": {},
   "outputs": [],
   "source": [
    "\n",
    "gtfs_provider = (tbls.mart_transit_database.dim_provider_gtfs_data()\n",
    "        >> filter(\n",
    "            _._is_current == True,\n",
    "            _.service_key.isin(bridge_service_keys)\n",
    "        )\n",
    "        >> collect()\n",
    ")"
   ]
  },
  {
   "cell_type": "code",
   "execution_count": null,
   "id": "a81064b7-192e-480c-8711-b4911f67619a",
   "metadata": {},
   "outputs": [],
   "source": [
    "display(\n",
    "    gtfs_provider.info()\n",
    ")"
   ]
  },
  {
   "cell_type": "code",
   "execution_count": 10,
   "id": "866c4516-6e92-46d6-a13b-fd458a56b260",
   "metadata": {},
   "outputs": [
    {
     "data": {
      "text/plain": [
       "(165, 4)"
      ]
     },
     "execution_count": 10,
     "metadata": {},
     "output_type": "execute_result"
    }
   ],
   "source": [
    "provider_keep_col =[\n",
    "    \"organization_key\",\n",
    "    \"organization_name\",\n",
    "    \"service_key\",\n",
    "    \"service_name\",\n",
    "\n",
    "]\n",
    "\n",
    "gtfs_provider = gtfs_provider[provider_keep_col]\n",
    "gtfs_provider.shape"
   ]
  },
  {
   "cell_type": "code",
   "execution_count": null,
   "id": "e55cc00e-910e-4eee-92a8-904c1b4e28f3",
   "metadata": {},
   "outputs": [],
   "source": [
    "gtfs_provider.head()"
   ]
  },
  {
   "cell_type": "markdown",
   "id": "ca001372-13a2-439c-8f8d-7f24f790f5dd",
   "metadata": {},
   "source": [
    "## merge services with 5311 funding list (`bridge_service`) to services-to-agency list (`gtfs_provider`) = agencies that receive 5311"
   ]
  },
  {
   "cell_type": "code",
   "execution_count": 12,
   "id": "468bcb2a-956a-48b7-89d7-9bc220bd6942",
   "metadata": {},
   "outputs": [
    {
     "name": "stdout",
     "output_type": "stream",
     "text": [
      "<class 'pandas.core.frame.DataFrame'>\n",
      "Int64Index: 165 entries, 0 to 164\n",
      "Data columns (total 6 columns):\n",
      " #   Column                Non-Null Count  Dtype \n",
      "---  ------                --------------  ----- \n",
      " 0   organization_key      165 non-null    object\n",
      " 1   organization_name     165 non-null    object\n",
      " 2   service_key           165 non-null    object\n",
      " 3   service_name          165 non-null    object\n",
      " 4   funding_program_key   165 non-null    object\n",
      " 5   funding_program_name  165 non-null    object\n",
      "dtypes: object(6)\n",
      "memory usage: 9.0+ KB\n"
     ]
    }
   ],
   "source": [
    "orgs_5311 = gtfs_provider.merge(bridge_service, on=[\"service_key\",\"service_name\"], how=\"inner\")\n",
    "\n",
    "orgs_5311.info()"
   ]
  },
  {
   "cell_type": "code",
   "execution_count": null,
   "id": "6689e26d-3690-4b59-a18b-e9bdf7e73c29",
   "metadata": {},
   "outputs": [],
   "source": [
    "orgs_5311.sort_values(by=\"organization_name\").head()"
   ]
  },
  {
   "cell_type": "markdown",
   "id": "b4924711-131d-44fc-931b-cb30598b08b2",
   "metadata": {},
   "source": [
    "## merge agencies-with-stops-on-shn (`stops_for_export`) to 5311-agencies (`orgs_5311`)."
   ]
  },
  {
   "cell_type": "code",
   "execution_count": 15,
   "id": "c0642679-fdbb-4290-839d-d7e11db03482",
   "metadata": {},
   "outputs": [
    {
     "name": "stdout",
     "output_type": "stream",
     "text": [
      "<class 'pandas.core.frame.DataFrame'>\n",
      "RangeIndex: 7216 entries, 0 to 7215\n",
      "Data columns (total 9 columns):\n",
      " #   Column            Non-Null Count  Dtype  \n",
      "---  ------            --------------  -----  \n",
      " 0   agency            7216 non-null   object \n",
      " 1   stop_id           7216 non-null   object \n",
      " 2   stop_name         7216 non-null   object \n",
      " 3   shn_route_type    7216 non-null   object \n",
      " 4   date              7216 non-null   object \n",
      " 5   shn_route         7216 non-null   int64  \n",
      " 6   shn_route_type.1  7216 non-null   object \n",
      " 7   x                 7216 non-null   float64\n",
      " 8   y                 7216 non-null   float64\n",
      "dtypes: float64(2), int64(1), object(6)\n",
      "memory usage: 507.5+ KB\n",
      "<class 'pandas.core.frame.DataFrame'>\n",
      "Int64Index: 165 entries, 0 to 164\n",
      "Data columns (total 6 columns):\n",
      " #   Column                Non-Null Count  Dtype \n",
      "---  ------                --------------  ----- \n",
      " 0   organization_key      165 non-null    object\n",
      " 1   organization_name     165 non-null    object\n",
      " 2   service_key           165 non-null    object\n",
      " 3   service_name          165 non-null    object\n",
      " 4   funding_program_key   165 non-null    object\n",
      " 5   funding_program_name  165 non-null    object\n",
      "dtypes: object(6)\n",
      "memory usage: 9.0+ KB\n"
     ]
    },
    {
     "data": {
      "text/plain": [
       "None"
      ]
     },
     "metadata": {},
     "output_type": "display_data"
    },
    {
     "data": {
      "text/plain": [
       "None"
      ]
     },
     "metadata": {},
     "output_type": "display_data"
    }
   ],
   "source": [
    "# inspect\n",
    "display(\n",
    "    stops_for_export.info(), # +7,000 stops on the SHN\n",
    "    orgs_5311.info() # 165 servies that get 5311 funds\n",
    ")\n",
    "\n",
    "#merge on `agency` and `organization_name`"
   ]
  },
  {
   "cell_type": "code",
   "execution_count": 13,
   "id": "e7c869c3-e3ae-48ff-b05b-5a43f380b013",
   "metadata": {},
   "outputs": [
    {
     "name": "stdout",
     "output_type": "stream",
     "text": [
      "<class 'pandas.core.frame.DataFrame'>\n",
      "Int64Index: 8394 entries, 0 to 8393\n",
      "Data columns (total 16 columns):\n",
      " #   Column                Non-Null Count  Dtype   \n",
      "---  ------                --------------  -----   \n",
      " 0   agency                8394 non-null   object  \n",
      " 1   stop_id               8394 non-null   object  \n",
      " 2   stop_name             8394 non-null   object  \n",
      " 3   shn_route_type        8394 non-null   object  \n",
      " 4   date                  8394 non-null   object  \n",
      " 5   shn_route             8394 non-null   int64   \n",
      " 6   shn_route_type.1      8394 non-null   object  \n",
      " 7   x                     8394 non-null   float64 \n",
      " 8   y                     8394 non-null   float64 \n",
      " 9   organization_key      8394 non-null   object  \n",
      " 10  organization_name     8394 non-null   object  \n",
      " 11  service_key           8394 non-null   object  \n",
      " 12  service_name          8394 non-null   object  \n",
      " 13  funding_program_key   8394 non-null   object  \n",
      " 14  funding_program_name  8394 non-null   object  \n",
      " 15  _merge                8394 non-null   category\n",
      "dtypes: category(1), float64(2), int64(1), object(12)\n",
      "memory usage: 1.0+ MB\n"
     ]
    }
   ],
   "source": [
    "org_on_shn_stops_5311 = stops_for_export.merge(\n",
    "    orgs_5311, \n",
    "    left_on=\"agency\", \n",
    "    right_on=\"organization_name\", \n",
    "    how=\"inner\",\n",
    "    indicator=True\n",
    ")\n",
    "\n",
    "org_on_shn_stops_5311.info()"
   ]
  },
  {
   "cell_type": "code",
   "execution_count": null,
   "id": "114bc431-525b-4cb2-9dc3-08a41672ae7a",
   "metadata": {},
   "outputs": [],
   "source": [
    "org_on_shn_stops_5311[\"_merge\"].value_counts()"
   ]
  },
  {
   "cell_type": "code",
   "execution_count": null,
   "id": "77788d96-e7d2-47f3-a199-327ea843632b",
   "metadata": {},
   "outputs": [],
   "source": [
    "org_on_shn_stops_5311.head()"
   ]
  },
  {
   "cell_type": "code",
   "execution_count": null,
   "id": "616b1812-be47-456c-8f7e-d5e9456f8e5d",
   "metadata": {},
   "outputs": [],
   "source": [
    "display(\n",
    "    stops_for_export[\"agency\"].nunique(),\n",
    "    orgs_5311[\"organization_name\"].nunique(),\n",
    "    org_on_shn_stops_5311[\"agency\"].nunique()\n",
    ")"
   ]
  },
  {
   "cell_type": "code",
   "execution_count": null,
   "id": "eeecfdf4-db6a-4f49-9695-dfb2096eef76",
   "metadata": {},
   "outputs": [],
   "source": [
    "org_on_shn_stops_5311.to_csv(\"ca_stops_revised_5311.csv\", index=False)"
   ]
  },
  {
   "cell_type": "markdown",
   "id": "08f6a187-e39b-4d65-92c4-d0c45f3aba06",
   "metadata": {},
   "source": [
    "## lots of rows, lets try getting the unique agencies from `stops_for_export` and `orgs_5311` first, then join"
   ]
  },
  {
   "cell_type": "code",
   "execution_count": 45,
   "id": "076a15d4-2372-4795-869a-241bf24f4e0b",
   "metadata": {},
   "outputs": [
    {
     "name": "stdout",
     "output_type": "stream",
     "text": [
      "<class 'pandas.core.frame.DataFrame'>\n",
      "RangeIndex: 150 entries, 0 to 149\n",
      "Data columns (total 1 columns):\n",
      " #   Column  Non-Null Count  Dtype \n",
      "---  ------  --------------  ----- \n",
      " 0   agency  150 non-null    object\n",
      "dtypes: object(1)\n",
      "memory usage: 1.3+ KB\n",
      "<class 'pandas.core.frame.DataFrame'>\n",
      "RangeIndex: 90 entries, 0 to 89\n",
      "Data columns (total 1 columns):\n",
      " #   Column  Non-Null Count  Dtype \n",
      "---  ------  --------------  ----- \n",
      " 0   agency  90 non-null     object\n",
      "dtypes: object(1)\n",
      "memory usage: 848.0+ bytes\n"
     ]
    },
    {
     "data": {
      "text/plain": [
       "None"
      ]
     },
     "metadata": {},
     "output_type": "display_data"
    },
    {
     "data": {
      "text/plain": [
       "None"
      ]
     },
     "metadata": {},
     "output_type": "display_data"
    }
   ],
   "source": [
    "# can i group by agencies and get a count of stops?\n",
    "stops_agg = stops_for_export.groupby(\"agency\").agg(\n",
    "    stop_counts=(\"stop_id\",\"count\")\n",
    ")\n",
    "\n",
    "# get list of just unique agency names from each list \n",
    "agency_stops = stops_for_export[\"agency\"].unique()\n",
    "agency_5311 = orgs_5311[\"organization_name\"].unique()\n",
    "\n",
    "# convert array to DF\n",
    "df_stops = pd.DataFrame(agency_array, columns=[\"agency\"])\n",
    "df_5311 = pd.DataFrame(agency_5311, columns=[\"agency\"])\n",
    "\n",
    "# inspect\n",
    "display(\n",
    "    df_stops.info(), # 150 unique agencies with stops on SHN\n",
    "    df_5311.info() # 90 unique agencies that get 5311 funds\n",
    ")\n",
    "    "
   ]
  },
  {
   "cell_type": "code",
   "execution_count": 59,
   "id": "2754f1f5-cdb0-4f85-a525-0ce386a2f8a8",
   "metadata": {},
   "outputs": [
    {
     "name": "stdout",
     "output_type": "stream",
     "text": [
      "<class 'pandas.core.frame.DataFrame'>\n",
      "Int64Index: 69 entries, 0 to 68\n",
      "Data columns (total 3 columns):\n",
      " #   Column       Non-Null Count  Dtype   \n",
      "---  ------       --------------  -----   \n",
      " 0   agency       69 non-null     object  \n",
      " 1   stop_counts  69 non-null     int64   \n",
      " 2   _merge       69 non-null     category\n",
      "dtypes: category(1), int64(1), object(1)\n",
      "memory usage: 1.8+ KB\n"
     ]
    }
   ],
   "source": [
    "# merge aggreated stops to 5311 agencies\n",
    "test_merge_2 = stops_agg.merge(\n",
    "    df_5311, \n",
    "    on=\"agency\",\n",
    "    how=\"inner\",\n",
    "    indicator=True\n",
    ")\n",
    "\n",
    "# inspect\n",
    "test_merge_2.info()"
   ]
  },
  {
   "cell_type": "code",
   "execution_count": 60,
   "id": "5679c684-3574-4188-a41c-72ac30ede91a",
   "metadata": {},
   "outputs": [
    {
     "data": {
      "text/html": [
       "<div>\n",
       "<style scoped>\n",
       "    .dataframe tbody tr th:only-of-type {\n",
       "        vertical-align: middle;\n",
       "    }\n",
       "\n",
       "    .dataframe tbody tr th {\n",
       "        vertical-align: top;\n",
       "    }\n",
       "\n",
       "    .dataframe thead th {\n",
       "        text-align: right;\n",
       "    }\n",
       "</style>\n",
       "<table border=\"1\" class=\"dataframe\">\n",
       "  <thead>\n",
       "    <tr style=\"text-align: right;\">\n",
       "      <th></th>\n",
       "      <th>agency</th>\n",
       "      <th>stop_counts</th>\n",
       "      <th>_merge</th>\n",
       "    </tr>\n",
       "  </thead>\n",
       "  <tbody>\n",
       "    <tr>\n",
       "      <th>0</th>\n",
       "      <td>Amador Regional Transit System</td>\n",
       "      <td>22</td>\n",
       "      <td>both</td>\n",
       "    </tr>\n",
       "    <tr>\n",
       "      <th>1</th>\n",
       "      <td>Antelope Valley Transit Authority</td>\n",
       "      <td>53</td>\n",
       "      <td>both</td>\n",
       "    </tr>\n",
       "    <tr>\n",
       "      <th>2</th>\n",
       "      <td>Basin Transit</td>\n",
       "      <td>79</td>\n",
       "      <td>both</td>\n",
       "    </tr>\n",
       "    <tr>\n",
       "      <th>3</th>\n",
       "      <td>Butte County Association of Governments</td>\n",
       "      <td>106</td>\n",
       "      <td>both</td>\n",
       "    </tr>\n",
       "    <tr>\n",
       "      <th>4</th>\n",
       "      <td>Calaveras Transit Agency</td>\n",
       "      <td>12</td>\n",
       "      <td>both</td>\n",
       "    </tr>\n",
       "    <tr>\n",
       "      <th>5</th>\n",
       "      <td>Central Contra Costa Transit Authority</td>\n",
       "      <td>12</td>\n",
       "      <td>both</td>\n",
       "    </tr>\n",
       "    <tr>\n",
       "      <th>6</th>\n",
       "      <td>City of Arcata</td>\n",
       "      <td>37</td>\n",
       "      <td>both</td>\n",
       "    </tr>\n",
       "    <tr>\n",
       "      <th>7</th>\n",
       "      <td>City of Arvin</td>\n",
       "      <td>6</td>\n",
       "      <td>both</td>\n",
       "    </tr>\n",
       "    <tr>\n",
       "      <th>8</th>\n",
       "      <td>City of Escalon</td>\n",
       "      <td>9</td>\n",
       "      <td>both</td>\n",
       "    </tr>\n",
       "    <tr>\n",
       "      <th>9</th>\n",
       "      <td>City of Eureka</td>\n",
       "      <td>37</td>\n",
       "      <td>both</td>\n",
       "    </tr>\n",
       "    <tr>\n",
       "      <th>10</th>\n",
       "      <td>City of Guadalupe</td>\n",
       "      <td>5</td>\n",
       "      <td>both</td>\n",
       "    </tr>\n",
       "    <tr>\n",
       "      <th>11</th>\n",
       "      <td>City of Needles</td>\n",
       "      <td>2</td>\n",
       "      <td>both</td>\n",
       "    </tr>\n",
       "    <tr>\n",
       "      <th>12</th>\n",
       "      <td>City of Ojai</td>\n",
       "      <td>83</td>\n",
       "      <td>both</td>\n",
       "    </tr>\n",
       "    <tr>\n",
       "      <th>13</th>\n",
       "      <td>City of Rio Vista</td>\n",
       "      <td>1</td>\n",
       "      <td>both</td>\n",
       "    </tr>\n",
       "    <tr>\n",
       "      <th>14</th>\n",
       "      <td>City of Santa Maria</td>\n",
       "      <td>38</td>\n",
       "      <td>both</td>\n",
       "    </tr>\n",
       "    <tr>\n",
       "      <th>15</th>\n",
       "      <td>City of Solvang</td>\n",
       "      <td>13</td>\n",
       "      <td>both</td>\n",
       "    </tr>\n",
       "    <tr>\n",
       "      <th>16</th>\n",
       "      <td>City of Visalia</td>\n",
       "      <td>53</td>\n",
       "      <td>both</td>\n",
       "    </tr>\n",
       "    <tr>\n",
       "      <th>17</th>\n",
       "      <td>Eastern Contra Costa Transit Authority</td>\n",
       "      <td>5</td>\n",
       "      <td>both</td>\n",
       "    </tr>\n",
       "    <tr>\n",
       "      <th>18</th>\n",
       "      <td>Eastern Sierra Transit Authority</td>\n",
       "      <td>23</td>\n",
       "      <td>both</td>\n",
       "    </tr>\n",
       "    <tr>\n",
       "      <th>19</th>\n",
       "      <td>El Dorado County Transit Authority</td>\n",
       "      <td>8</td>\n",
       "      <td>both</td>\n",
       "    </tr>\n",
       "    <tr>\n",
       "      <th>20</th>\n",
       "      <td>Fresno County Rural Transit Agency</td>\n",
       "      <td>16</td>\n",
       "      <td>both</td>\n",
       "    </tr>\n",
       "    <tr>\n",
       "      <th>21</th>\n",
       "      <td>Glenn County</td>\n",
       "      <td>13</td>\n",
       "      <td>both</td>\n",
       "    </tr>\n",
       "    <tr>\n",
       "      <th>22</th>\n",
       "      <td>Greyhound</td>\n",
       "      <td>1</td>\n",
       "      <td>both</td>\n",
       "    </tr>\n",
       "    <tr>\n",
       "      <th>23</th>\n",
       "      <td>Humboldt Transit Authority</td>\n",
       "      <td>37</td>\n",
       "      <td>both</td>\n",
       "    </tr>\n",
       "    <tr>\n",
       "      <th>24</th>\n",
       "      <td>Imperial County Transportation Commission</td>\n",
       "      <td>21</td>\n",
       "      <td>both</td>\n",
       "    </tr>\n",
       "    <tr>\n",
       "      <th>25</th>\n",
       "      <td>Kern County</td>\n",
       "      <td>87</td>\n",
       "      <td>both</td>\n",
       "    </tr>\n",
       "    <tr>\n",
       "      <th>26</th>\n",
       "      <td>Kings County Area Public Transit Agency</td>\n",
       "      <td>6</td>\n",
       "      <td>both</td>\n",
       "    </tr>\n",
       "    <tr>\n",
       "      <th>27</th>\n",
       "      <td>Lake Transit Authority</td>\n",
       "      <td>111</td>\n",
       "      <td>both</td>\n",
       "    </tr>\n",
       "    <tr>\n",
       "      <th>28</th>\n",
       "      <td>Lassen Transit Service Agency</td>\n",
       "      <td>32</td>\n",
       "      <td>both</td>\n",
       "    </tr>\n",
       "    <tr>\n",
       "      <th>29</th>\n",
       "      <td>Livermore-Amador Valley Transit Authority</td>\n",
       "      <td>3</td>\n",
       "      <td>both</td>\n",
       "    </tr>\n",
       "    <tr>\n",
       "      <th>30</th>\n",
       "      <td>Los Angeles County</td>\n",
       "      <td>32</td>\n",
       "      <td>both</td>\n",
       "    </tr>\n",
       "    <tr>\n",
       "      <th>31</th>\n",
       "      <td>Madera County</td>\n",
       "      <td>9</td>\n",
       "      <td>both</td>\n",
       "    </tr>\n",
       "    <tr>\n",
       "      <th>32</th>\n",
       "      <td>Marin County Transit District</td>\n",
       "      <td>68</td>\n",
       "      <td>both</td>\n",
       "    </tr>\n",
       "    <tr>\n",
       "      <th>33</th>\n",
       "      <td>Mendocino Transit Authority</td>\n",
       "      <td>33</td>\n",
       "      <td>both</td>\n",
       "    </tr>\n",
       "    <tr>\n",
       "      <th>34</th>\n",
       "      <td>Modoc Transportation Agency</td>\n",
       "      <td>5</td>\n",
       "      <td>both</td>\n",
       "    </tr>\n",
       "    <tr>\n",
       "      <th>35</th>\n",
       "      <td>Monterey-Salinas Transit</td>\n",
       "      <td>73</td>\n",
       "      <td>both</td>\n",
       "    </tr>\n",
       "    <tr>\n",
       "      <th>36</th>\n",
       "      <td>Mountain Area Regional Transit Authority</td>\n",
       "      <td>125</td>\n",
       "      <td>both</td>\n",
       "    </tr>\n",
       "    <tr>\n",
       "      <th>37</th>\n",
       "      <td>Napa Valley Transportation Authority</td>\n",
       "      <td>44</td>\n",
       "      <td>both</td>\n",
       "    </tr>\n",
       "    <tr>\n",
       "      <th>38</th>\n",
       "      <td>Nevada County</td>\n",
       "      <td>16</td>\n",
       "      <td>both</td>\n",
       "    </tr>\n",
       "    <tr>\n",
       "      <th>39</th>\n",
       "      <td>North County Transit District</td>\n",
       "      <td>104</td>\n",
       "      <td>both</td>\n",
       "    </tr>\n",
       "    <tr>\n",
       "      <th>40</th>\n",
       "      <td>Palo Verde Valley Transit Agency</td>\n",
       "      <td>13</td>\n",
       "      <td>both</td>\n",
       "    </tr>\n",
       "    <tr>\n",
       "      <th>41</th>\n",
       "      <td>Placer County</td>\n",
       "      <td>8</td>\n",
       "      <td>both</td>\n",
       "    </tr>\n",
       "    <tr>\n",
       "      <th>42</th>\n",
       "      <td>Plumas Transit Systems</td>\n",
       "      <td>37</td>\n",
       "      <td>both</td>\n",
       "    </tr>\n",
       "    <tr>\n",
       "      <th>43</th>\n",
       "      <td>Redding Area Bus Authority</td>\n",
       "      <td>61</td>\n",
       "      <td>both</td>\n",
       "    </tr>\n",
       "    <tr>\n",
       "      <th>44</th>\n",
       "      <td>Redwood Coast Transit Authority</td>\n",
       "      <td>38</td>\n",
       "      <td>both</td>\n",
       "    </tr>\n",
       "    <tr>\n",
       "      <th>45</th>\n",
       "      <td>Riverside Transit Agency</td>\n",
       "      <td>107</td>\n",
       "      <td>both</td>\n",
       "    </tr>\n",
       "    <tr>\n",
       "      <th>46</th>\n",
       "      <td>Sacramento County</td>\n",
       "      <td>3</td>\n",
       "      <td>both</td>\n",
       "    </tr>\n",
       "    <tr>\n",
       "      <th>47</th>\n",
       "      <td>San Diego Metropolitan Transit System</td>\n",
       "      <td>136</td>\n",
       "      <td>both</td>\n",
       "    </tr>\n",
       "    <tr>\n",
       "      <th>48</th>\n",
       "      <td>San Joaquin Regional Transit District</td>\n",
       "      <td>14</td>\n",
       "      <td>both</td>\n",
       "    </tr>\n",
       "    <tr>\n",
       "      <th>49</th>\n",
       "      <td>San Luis Obispo Regional Transit Authority</td>\n",
       "      <td>31</td>\n",
       "      <td>both</td>\n",
       "    </tr>\n",
       "    <tr>\n",
       "      <th>50</th>\n",
       "      <td>San Mateo County Transit District</td>\n",
       "      <td>279</td>\n",
       "      <td>both</td>\n",
       "    </tr>\n",
       "    <tr>\n",
       "      <th>51</th>\n",
       "      <td>Santa Clara Valley Transportation Authority</td>\n",
       "      <td>158</td>\n",
       "      <td>both</td>\n",
       "    </tr>\n",
       "    <tr>\n",
       "      <th>52</th>\n",
       "      <td>Santa Cruz Metropolitan Transit District</td>\n",
       "      <td>105</td>\n",
       "      <td>both</td>\n",
       "    </tr>\n",
       "    <tr>\n",
       "      <th>53</th>\n",
       "      <td>Shasta County</td>\n",
       "      <td>61</td>\n",
       "      <td>both</td>\n",
       "    </tr>\n",
       "    <tr>\n",
       "      <th>54</th>\n",
       "      <td>Siskiyou County</td>\n",
       "      <td>15</td>\n",
       "      <td>both</td>\n",
       "    </tr>\n",
       "    <tr>\n",
       "      <th>55</th>\n",
       "      <td>Sonoma County</td>\n",
       "      <td>198</td>\n",
       "      <td>both</td>\n",
       "    </tr>\n",
       "    <tr>\n",
       "      <th>56</th>\n",
       "      <td>Stanislaus Regional Transit Authority</td>\n",
       "      <td>114</td>\n",
       "      <td>both</td>\n",
       "    </tr>\n",
       "    <tr>\n",
       "      <th>57</th>\n",
       "      <td>SunLine Transit Agency</td>\n",
       "      <td>14</td>\n",
       "      <td>both</td>\n",
       "    </tr>\n",
       "    <tr>\n",
       "      <th>58</th>\n",
       "      <td>Tahoe Truckee Area Regional Transportation</td>\n",
       "      <td>129</td>\n",
       "      <td>both</td>\n",
       "    </tr>\n",
       "    <tr>\n",
       "      <th>59</th>\n",
       "      <td>Tehama County</td>\n",
       "      <td>16</td>\n",
       "      <td>both</td>\n",
       "    </tr>\n",
       "    <tr>\n",
       "      <th>60</th>\n",
       "      <td>Transit Joint Powers Authority for Merced County</td>\n",
       "      <td>22</td>\n",
       "      <td>both</td>\n",
       "    </tr>\n",
       "    <tr>\n",
       "      <th>61</th>\n",
       "      <td>Trinity County</td>\n",
       "      <td>72</td>\n",
       "      <td>both</td>\n",
       "    </tr>\n",
       "    <tr>\n",
       "      <th>62</th>\n",
       "      <td>Tulare County Regional Transit Agency</td>\n",
       "      <td>82</td>\n",
       "      <td>both</td>\n",
       "    </tr>\n",
       "    <tr>\n",
       "      <th>63</th>\n",
       "      <td>Tuolumne County Transit Agency</td>\n",
       "      <td>30</td>\n",
       "      <td>both</td>\n",
       "    </tr>\n",
       "    <tr>\n",
       "      <th>64</th>\n",
       "      <td>Ventura County Transportation Commission</td>\n",
       "      <td>83</td>\n",
       "      <td>both</td>\n",
       "    </tr>\n",
       "    <tr>\n",
       "      <th>65</th>\n",
       "      <td>Victor Valley Transit Authority</td>\n",
       "      <td>69</td>\n",
       "      <td>both</td>\n",
       "    </tr>\n",
       "    <tr>\n",
       "      <th>66</th>\n",
       "      <td>Yolo County Transportation District</td>\n",
       "      <td>6</td>\n",
       "      <td>both</td>\n",
       "    </tr>\n",
       "    <tr>\n",
       "      <th>67</th>\n",
       "      <td>Yosemite Area Regional Transportation System</td>\n",
       "      <td>11</td>\n",
       "      <td>both</td>\n",
       "    </tr>\n",
       "    <tr>\n",
       "      <th>68</th>\n",
       "      <td>Yuba-Sutter Transit Authority</td>\n",
       "      <td>7</td>\n",
       "      <td>both</td>\n",
       "    </tr>\n",
       "  </tbody>\n",
       "</table>\n",
       "</div>"
      ],
      "text/plain": [
       "                                              agency  stop_counts _merge\n",
       "0                     Amador Regional Transit System           22   both\n",
       "1                  Antelope Valley Transit Authority           53   both\n",
       "2                                      Basin Transit           79   both\n",
       "3            Butte County Association of Governments          106   both\n",
       "4                           Calaveras Transit Agency           12   both\n",
       "5             Central Contra Costa Transit Authority           12   both\n",
       "6                                     City of Arcata           37   both\n",
       "7                                      City of Arvin            6   both\n",
       "8                                    City of Escalon            9   both\n",
       "9                                     City of Eureka           37   both\n",
       "10                                 City of Guadalupe            5   both\n",
       "11                                   City of Needles            2   both\n",
       "12                                      City of Ojai           83   both\n",
       "13                                 City of Rio Vista            1   both\n",
       "14                               City of Santa Maria           38   both\n",
       "15                                   City of Solvang           13   both\n",
       "16                                   City of Visalia           53   both\n",
       "17            Eastern Contra Costa Transit Authority            5   both\n",
       "18                  Eastern Sierra Transit Authority           23   both\n",
       "19                El Dorado County Transit Authority            8   both\n",
       "20                Fresno County Rural Transit Agency           16   both\n",
       "21                                      Glenn County           13   both\n",
       "22                                         Greyhound            1   both\n",
       "23                        Humboldt Transit Authority           37   both\n",
       "24         Imperial County Transportation Commission           21   both\n",
       "25                                       Kern County           87   both\n",
       "26           Kings County Area Public Transit Agency            6   both\n",
       "27                            Lake Transit Authority          111   both\n",
       "28                     Lassen Transit Service Agency           32   both\n",
       "29         Livermore-Amador Valley Transit Authority            3   both\n",
       "30                                Los Angeles County           32   both\n",
       "31                                     Madera County            9   both\n",
       "32                     Marin County Transit District           68   both\n",
       "33                       Mendocino Transit Authority           33   both\n",
       "34                       Modoc Transportation Agency            5   both\n",
       "35                          Monterey-Salinas Transit           73   both\n",
       "36          Mountain Area Regional Transit Authority          125   both\n",
       "37              Napa Valley Transportation Authority           44   both\n",
       "38                                     Nevada County           16   both\n",
       "39                     North County Transit District          104   both\n",
       "40                  Palo Verde Valley Transit Agency           13   both\n",
       "41                                     Placer County            8   both\n",
       "42                            Plumas Transit Systems           37   both\n",
       "43                        Redding Area Bus Authority           61   both\n",
       "44                   Redwood Coast Transit Authority           38   both\n",
       "45                          Riverside Transit Agency          107   both\n",
       "46                                 Sacramento County            3   both\n",
       "47             San Diego Metropolitan Transit System          136   both\n",
       "48             San Joaquin Regional Transit District           14   both\n",
       "49        San Luis Obispo Regional Transit Authority           31   both\n",
       "50                 San Mateo County Transit District          279   both\n",
       "51       Santa Clara Valley Transportation Authority          158   both\n",
       "52          Santa Cruz Metropolitan Transit District          105   both\n",
       "53                                     Shasta County           61   both\n",
       "54                                   Siskiyou County           15   both\n",
       "55                                     Sonoma County          198   both\n",
       "56             Stanislaus Regional Transit Authority          114   both\n",
       "57                            SunLine Transit Agency           14   both\n",
       "58        Tahoe Truckee Area Regional Transportation          129   both\n",
       "59                                     Tehama County           16   both\n",
       "60  Transit Joint Powers Authority for Merced County           22   both\n",
       "61                                    Trinity County           72   both\n",
       "62             Tulare County Regional Transit Agency           82   both\n",
       "63                    Tuolumne County Transit Agency           30   both\n",
       "64          Ventura County Transportation Commission           83   both\n",
       "65                   Victor Valley Transit Authority           69   both\n",
       "66               Yolo County Transportation District            6   both\n",
       "67      Yosemite Area Regional Transportation System           11   both\n",
       "68                     Yuba-Sutter Transit Authority            7   both"
      ]
     },
     "execution_count": 60,
     "metadata": {},
     "output_type": "execute_result"
    }
   ],
   "source": [
    "# spot check\n",
    "test_merge_2"
   ]
  },
  {
   "cell_type": "code",
   "execution_count": 61,
   "id": "59755b5d-bcd7-44b7-b31e-783d0782aeed",
   "metadata": {},
   "outputs": [],
   "source": [
    "test_merge_2.to_csv(\"ca_stops_revised_5311_2.csv\", index=False)"
   ]
  },
  {
   "cell_type": "code",
   "execution_count": null,
   "id": "4b81cfea-a623-4c11-b958-f3a03f2ec321",
   "metadata": {},
   "outputs": [],
   "source": []
  }
 ],
 "metadata": {
  "kernelspec": {
   "display_name": "Python 3 (ipykernel)",
   "language": "python",
   "name": "python3"
  },
  "language_info": {
   "codemirror_mode": {
    "name": "ipython",
    "version": 3
   },
   "file_extension": ".py",
   "mimetype": "text/x-python",
   "name": "python",
   "nbconvert_exporter": "python",
   "pygments_lexer": "ipython3",
   "version": "3.9.13"
  },
  "widgets": {
   "application/vnd.jupyter.widget-state+json": {
    "state": {},
    "version_major": 2,
    "version_minor": 0
   }
  }
 },
 "nbformat": 4,
 "nbformat_minor": 5
}
