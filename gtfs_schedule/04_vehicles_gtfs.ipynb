{
 "cells": [
  {
   "cell_type": "code",
   "execution_count": 55,
   "id": "992939f9-dc04-4dbd-a4d0-99313bb93da9",
   "metadata": {},
   "outputs": [],
   "source": [
    "import pandas as pd\n",
    "from calitp_data_analysis.tables import tbls\n",
    "from calitp_data_analysis.sql import to_snakecase\n",
    "from siuba import *"
   ]
  },
  {
   "cell_type": "code",
   "execution_count": 56,
   "id": "39078ad7-7d48-49ac-aefd-0daf32dc6f98",
   "metadata": {},
   "outputs": [],
   "source": [
    "pd.options.display.max_columns = 100\n",
    "pd.options.display.float_format = \"{:.2f}\".format\n",
    "pd.set_option(\"display.max_rows\", None)\n",
    "pd.set_option(\"display.max_colwidth\", None)"
   ]
  },
  {
   "cell_type": "code",
   "execution_count": 132,
   "id": "eb2161ba-f56d-4187-a006-2344502c7430",
   "metadata": {},
   "outputs": [],
   "source": [
    "def dim_orgs()->pd.DataFrame:\n",
    "    # https://dbt-docs.calitp.org/#!/model/model.calitp_warehouse.dim_organizations\n",
    "    df = tbls.mart_transit_database.dim_organizations() >> collect()\n",
    "    \n",
    "    cols_to_keep = ['name','ntd_id', 'gtfs_static_status','gtfs_realtime_status',\n",
    "                    'caltrans_district']\n",
    "    \n",
    "    df = df[cols_to_keep] \n",
    "    \n",
    "    # Sort by CT District, some agencies\n",
    "    # have more than one value for this col\n",
    "    df = df.sort_values(by = ['caltrans_district']) \n",
    "    df = df.drop_duplicates(subset = ['name','ntd_id', 'gtfs_static_status','gtfs_realtime_status']).reset_index(drop = True)\n",
    "    \n",
    "    # Sort by static and realtime.\n",
    "    # Some agencies have \"OK\" in one row and \"Incomplete\" on another.\n",
    "    # If there is one ok, assume it's alright. \n",
    "    df = df.sort_values(by = ['gtfs_static_status','gtfs_realtime_status'], ascending = False)\n",
    "    df = df.drop_duplicates(subset = ['name'])\n",
    "    \n",
    "    return df"
   ]
  },
  {
   "cell_type": "code",
   "execution_count": 133,
   "id": "28bd0569-e6d9-44b7-804b-ea09e521165d",
   "metadata": {},
   "outputs": [],
   "source": [
    "orgs = dim_orgs()"
   ]
  },
  {
   "cell_type": "code",
   "execution_count": 153,
   "id": "4cb482bc-e296-4118-8166-a8ebc243ae18",
   "metadata": {},
   "outputs": [
    {
     "data": {
      "text/plain": [
       "Lake Transit Authority                   1\n",
       "Calaveras Council of Governments         1\n",
       "San Joaquin Regional Transit District    1\n",
       "Ceres Area Transit                       1\n",
       "Stanislaus County                        1\n",
       "Name: name, dtype: int64"
      ]
     },
     "execution_count": 153,
     "metadata": {},
     "output_type": "execute_result"
    }
   ],
   "source": [
    "orgs.name.value_counts().head()"
   ]
  },
  {
   "cell_type": "code",
   "execution_count": 134,
   "id": "b59095ec-8763-4d69-99f7-67a780c17faf",
   "metadata": {},
   "outputs": [
    {
     "data": {
      "text/plain": [
       "(926, 5)"
      ]
     },
     "execution_count": 134,
     "metadata": {},
     "output_type": "execute_result"
    }
   ],
   "source": [
    "orgs.shape"
   ]
  },
  {
   "cell_type": "code",
   "execution_count": 137,
   "id": "7ad83853-82fb-4332-b937-97be7737dd84",
   "metadata": {},
   "outputs": [],
   "source": [
    "def ntd_data()->pd.DataFrame:\n",
    "\n",
    "    df = tbls.mart_ntd.dim_annual_ntd_agency_information() >> collect()\n",
    "    \n",
    "    cols_to_keep = ['ntd_id','personal_vehicles','agency_name', 'doing_business_as']\n",
    "    \n",
    "    df = df[cols_to_keep] \n",
    "    return df"
   ]
  },
  {
   "cell_type": "code",
   "execution_count": 138,
   "id": "fab5e5b1-69fe-4073-8810-800b34dd7cfa",
   "metadata": {},
   "outputs": [],
   "source": [
    "# doesn't contain anything usefl\n",
    "# ntd = ntd_data()"
   ]
  },
  {
   "cell_type": "code",
   "execution_count": 139,
   "id": "bb9ffef1-15b8-4162-9b9c-fc3a8bf43f3e",
   "metadata": {},
   "outputs": [],
   "source": [
    "# ntd.loc[ntd.personal_vehicles >0 ].head()"
   ]
  },
  {
   "cell_type": "code",
   "execution_count": 140,
   "id": "3864fbc7-078d-4626-8c3a-2d2a7eb103cd",
   "metadata": {},
   "outputs": [],
   "source": [
    "rev_vehicle_url = \"gs://calitp-analytics-data/data-analyses/2021-Annual-Database-Files/2021 Revenue Vehicle Inventory.xlsx\""
   ]
  },
  {
   "cell_type": "code",
   "execution_count": 141,
   "id": "50d05f26-93fb-4e57-99af-806a87b371e2",
   "metadata": {},
   "outputs": [],
   "source": [
    "rev_vehicle = to_snakecase(pd.read_excel(rev_vehicle_url))"
   ]
  },
  {
   "cell_type": "code",
   "execution_count": 142,
   "id": "0f917677-3c50-4156-8f3d-514458b41821",
   "metadata": {},
   "outputs": [
    {
     "data": {
      "text/plain": [
       "Index(['ntd_id', 'agency_name', 'reporter_type', 'reporting_module',\n",
       "       'group_plan_sponsor_ntdid', 'group_plan_sponsor_name', 'modes',\n",
       "       'revenue_vehicle_inventory_id', 'agency_fleet_id',\n",
       "       'modetos_vehicles_operated_in_maximum_service', 'total_fleet_vehicles',\n",
       "       'dedicated_fleet', 'vehicle_type', 'ownership_type', 'funding_source',\n",
       "       'manufacture_year', 'rebuild_year', 'type_of_last_renewal',\n",
       "       'useful_life_benchmark', 'manufacturer',\n",
       "       'other_manufacturer_description', 'model', 'active_fleet_vehicles',\n",
       "       'ada_fleet_vehicles', 'emergency_contingency_vehicles', 'fuel_type',\n",
       "       'vehicle_length', 'seating_capacity', 'standing_capacity',\n",
       "       'total_miles_on_active_vehicles_during_period',\n",
       "       'average_lifetime_miles_per_active_vehicles',\n",
       "       'no_capital_replacement_flag', 'separate_asset_flag',\n",
       "       'event_data_recorders', 'emergency_lighting_system_design',\n",
       "       'emergency_signage', 'emergency_path_marking',\n",
       "       'automated_vehicles_flag', 'notes'],\n",
       "      dtype='object')"
      ]
     },
     "execution_count": 142,
     "metadata": {},
     "output_type": "execute_result"
    }
   ],
   "source": [
    "rev_vehicle.columns"
   ]
  },
  {
   "cell_type": "code",
   "execution_count": 143,
   "id": "3c1303aa-59b5-4401-88bc-7a6c8de929b1",
   "metadata": {},
   "outputs": [],
   "source": [
    "rev_vehicle2 = rev_vehicle.groupby(['ntd_id']).agg({'total_fleet_vehicles':'sum','active_fleet_vehicles':'sum'}).reset_index()"
   ]
  },
  {
   "cell_type": "code",
   "execution_count": 144,
   "id": "74ae1af6-31fc-4a1c-9cc4-95bd6f172659",
   "metadata": {},
   "outputs": [
    {
     "data": {
      "text/html": [
       "<div>\n",
       "<style scoped>\n",
       "    .dataframe tbody tr th:only-of-type {\n",
       "        vertical-align: middle;\n",
       "    }\n",
       "\n",
       "    .dataframe tbody tr th {\n",
       "        vertical-align: top;\n",
       "    }\n",
       "\n",
       "    .dataframe thead th {\n",
       "        text-align: right;\n",
       "    }\n",
       "</style>\n",
       "<table border=\"1\" class=\"dataframe\">\n",
       "  <thead>\n",
       "    <tr style=\"text-align: right;\">\n",
       "      <th></th>\n",
       "      <th>ntd_id</th>\n",
       "      <th>total_fleet_vehicles</th>\n",
       "      <th>active_fleet_vehicles</th>\n",
       "    </tr>\n",
       "  </thead>\n",
       "  <tbody>\n",
       "    <tr>\n",
       "      <th>818</th>\n",
       "      <td>80005</td>\n",
       "      <td>151</td>\n",
       "      <td>145</td>\n",
       "    </tr>\n",
       "    <tr>\n",
       "      <th>2201</th>\n",
       "      <td>6R05-60145</td>\n",
       "      <td>70</td>\n",
       "      <td>65</td>\n",
       "    </tr>\n",
       "  </tbody>\n",
       "</table>\n",
       "</div>"
      ],
      "text/plain": [
       "          ntd_id  total_fleet_vehicles  active_fleet_vehicles\n",
       "818        80005                   151                    145\n",
       "2201  6R05-60145                    70                     65"
      ]
     },
     "execution_count": 144,
     "metadata": {},
     "output_type": "execute_result"
    }
   ],
   "source": [
    "rev_vehicle2.sample(2)"
   ]
  },
  {
   "cell_type": "code",
   "execution_count": 145,
   "id": "e5462351-20e7-4ca2-89ff-620fedc63924",
   "metadata": {},
   "outputs": [
    {
     "name": "stdout",
     "output_type": "stream",
     "text": [
      "<class 'pandas.core.frame.DataFrame'>\n",
      "RangeIndex: 2772 entries, 0 to 2771\n",
      "Data columns (total 3 columns):\n",
      " #   Column                 Non-Null Count  Dtype \n",
      "---  ------                 --------------  ----- \n",
      " 0   ntd_id                 2772 non-null   object\n",
      " 1   total_fleet_vehicles   2772 non-null   int64 \n",
      " 2   active_fleet_vehicles  2772 non-null   int64 \n",
      "dtypes: int64(2), object(1)\n",
      "memory usage: 65.1+ KB\n"
     ]
    }
   ],
   "source": [
    "rev_vehicle2.info()"
   ]
  },
  {
   "cell_type": "code",
   "execution_count": 146,
   "id": "c4f9b076-419d-42f6-bb75-2a1031d7856c",
   "metadata": {},
   "outputs": [
    {
     "name": "stdout",
     "output_type": "stream",
     "text": [
      "<class 'pandas.core.frame.DataFrame'>\n",
      "Int64Index: 926 entries, 2 to 982\n",
      "Data columns (total 5 columns):\n",
      " #   Column                Non-Null Count  Dtype \n",
      "---  ------                --------------  ----- \n",
      " 0   name                  925 non-null    object\n",
      " 1   ntd_id                225 non-null    object\n",
      " 2   gtfs_static_status    926 non-null    object\n",
      " 3   gtfs_realtime_status  926 non-null    object\n",
      " 4   caltrans_district     750 non-null    object\n",
      "dtypes: object(5)\n",
      "memory usage: 43.4+ KB\n"
     ]
    }
   ],
   "source": [
    "orgs.info()"
   ]
  },
  {
   "cell_type": "code",
   "execution_count": 147,
   "id": "03c9ead5-4e82-4b61-883e-111112914062",
   "metadata": {},
   "outputs": [
    {
     "data": {
      "text/plain": [
       "_merge    \n",
       "right_only    2714\n",
       "left_only      868\n",
       "both            58\n",
       "dtype: int64"
      ]
     },
     "execution_count": 147,
     "metadata": {},
     "output_type": "execute_result"
    }
   ],
   "source": [
    "pd.merge(orgs, rev_vehicle2, on ='ntd_id', how = 'outer', indicator = True)[['_merge']].value_counts()"
   ]
  },
  {
   "cell_type": "code",
   "execution_count": 148,
   "id": "7edaeadd-3bd3-48ce-bdda-9c6d30d73e32",
   "metadata": {},
   "outputs": [],
   "source": [
    "m1 = pd.merge(orgs, rev_vehicle2, on ='ntd_id', how = 'left')\n",
    "m1 = m1.drop_duplicates()"
   ]
  },
  {
   "cell_type": "code",
   "execution_count": 149,
   "id": "f86ef62f-9f96-4c9f-a3b4-be74b21e061e",
   "metadata": {},
   "outputs": [
    {
     "data": {
      "text/plain": [
       "(926, 7)"
      ]
     },
     "execution_count": 149,
     "metadata": {},
     "output_type": "execute_result"
    }
   ],
   "source": [
    "m1.shape"
   ]
  },
  {
   "cell_type": "code",
   "execution_count": 155,
   "id": "090e8cb0-1246-41c2-9b6f-f7df5bc842b0",
   "metadata": {},
   "outputs": [],
   "source": [
    "m1[['total_fleet_vehicles','active_fleet_vehicles']] = m1[['total_fleet_vehicles','active_fleet_vehicles']].fillna(0)"
   ]
  },
  {
   "cell_type": "code",
   "execution_count": 156,
   "id": "c2fdf7e2-a5a9-4d8a-be5b-dbe59cac83e8",
   "metadata": {},
   "outputs": [
    {
     "name": "stdout",
     "output_type": "stream",
     "text": [
      "<class 'pandas.core.frame.DataFrame'>\n",
      "Int64Index: 926 entries, 0 to 925\n",
      "Data columns (total 7 columns):\n",
      " #   Column                 Non-Null Count  Dtype  \n",
      "---  ------                 --------------  -----  \n",
      " 0   name                   925 non-null    object \n",
      " 1   ntd_id                 225 non-null    object \n",
      " 2   gtfs_static_status     926 non-null    object \n",
      " 3   gtfs_realtime_status   926 non-null    object \n",
      " 4   caltrans_district      750 non-null    object \n",
      " 5   total_fleet_vehicles   926 non-null    float64\n",
      " 6   active_fleet_vehicles  926 non-null    float64\n",
      "dtypes: float64(2), object(5)\n",
      "memory usage: 57.9+ KB\n"
     ]
    }
   ],
   "source": [
    "m1.info()"
   ]
  },
  {
   "cell_type": "code",
   "execution_count": 159,
   "id": "75baac33-30a0-4eb0-ace2-a77beeefa005",
   "metadata": {},
   "outputs": [
    {
     "data": {
      "text/html": [
       "<div>\n",
       "<style scoped>\n",
       "    .dataframe tbody tr th:only-of-type {\n",
       "        vertical-align: middle;\n",
       "    }\n",
       "\n",
       "    .dataframe tbody tr th {\n",
       "        vertical-align: top;\n",
       "    }\n",
       "\n",
       "    .dataframe thead th {\n",
       "        text-align: right;\n",
       "    }\n",
       "</style>\n",
       "<table border=\"1\" class=\"dataframe\">\n",
       "  <thead>\n",
       "    <tr style=\"text-align: right;\">\n",
       "      <th></th>\n",
       "      <th>name</th>\n",
       "      <th>ntd_id</th>\n",
       "      <th>gtfs_static_status</th>\n",
       "      <th>gtfs_realtime_status</th>\n",
       "      <th>caltrans_district</th>\n",
       "      <th>total_fleet_vehicles</th>\n",
       "      <th>active_fleet_vehicles</th>\n",
       "    </tr>\n",
       "  </thead>\n",
       "  <tbody>\n",
       "    <tr>\n",
       "      <th>0</th>\n",
       "      <td>Lake Transit Authority</td>\n",
       "      <td>9R02-91053</td>\n",
       "      <td>Static OK</td>\n",
       "      <td>RT OK</td>\n",
       "      <td>01 - Eureka</td>\n",
       "      <td>36.00</td>\n",
       "      <td>36.00</td>\n",
       "    </tr>\n",
       "    <tr>\n",
       "      <th>1</th>\n",
       "      <td>Humboldt Transit Authority</td>\n",
       "      <td>9R02-91036</td>\n",
       "      <td>Static OK</td>\n",
       "      <td>RT OK</td>\n",
       "      <td>01 - Eureka</td>\n",
       "      <td>25.00</td>\n",
       "      <td>25.00</td>\n",
       "    </tr>\n",
       "    <tr>\n",
       "      <th>2</th>\n",
       "      <td>City of Eureka</td>\n",
       "      <td>9R02-91093</td>\n",
       "      <td>Static OK</td>\n",
       "      <td>RT OK</td>\n",
       "      <td>01 - Eureka</td>\n",
       "      <td>10.00</td>\n",
       "      <td>9.00</td>\n",
       "    </tr>\n",
       "    <tr>\n",
       "      <th>3</th>\n",
       "      <td>City of Arcata</td>\n",
       "      <td>9R02-91018</td>\n",
       "      <td>Static OK</td>\n",
       "      <td>RT OK</td>\n",
       "      <td>01 - Eureka</td>\n",
       "      <td>7.00</td>\n",
       "      <td>7.00</td>\n",
       "    </tr>\n",
       "    <tr>\n",
       "      <th>5</th>\n",
       "      <td>Redwood Coast Transit Authority</td>\n",
       "      <td>9R02-91097</td>\n",
       "      <td>Static OK</td>\n",
       "      <td>RT OK</td>\n",
       "      <td>01 - Eureka</td>\n",
       "      <td>16.00</td>\n",
       "      <td>15.00</td>\n",
       "    </tr>\n",
       "    <tr>\n",
       "      <th>6</th>\n",
       "      <td>Mendocino Transit Authority</td>\n",
       "      <td>9R02-91047</td>\n",
       "      <td>Static OK</td>\n",
       "      <td>RT OK</td>\n",
       "      <td>01 - Eureka</td>\n",
       "      <td>34.00</td>\n",
       "      <td>34.00</td>\n",
       "    </tr>\n",
       "    <tr>\n",
       "      <th>9</th>\n",
       "      <td>Nevada County</td>\n",
       "      <td>9R02-91095</td>\n",
       "      <td>Static OK</td>\n",
       "      <td>RT OK</td>\n",
       "      <td>03 - Marysville</td>\n",
       "      <td>26.00</td>\n",
       "      <td>26.00</td>\n",
       "    </tr>\n",
       "    <tr>\n",
       "      <th>32</th>\n",
       "      <td>City of Rio Vista</td>\n",
       "      <td>9R02-91014</td>\n",
       "      <td>Static OK</td>\n",
       "      <td>RT OK</td>\n",
       "      <td>04 - Oakland</td>\n",
       "      <td>6.00</td>\n",
       "      <td>6.00</td>\n",
       "    </tr>\n",
       "    <tr>\n",
       "      <th>58</th>\n",
       "      <td>Madera County</td>\n",
       "      <td>9R02-91005</td>\n",
       "      <td>Static OK</td>\n",
       "      <td>RT OK</td>\n",
       "      <td>06 - Fresno</td>\n",
       "      <td>14.00</td>\n",
       "      <td>14.00</td>\n",
       "    </tr>\n",
       "    <tr>\n",
       "      <th>70</th>\n",
       "      <td>City of Ojai</td>\n",
       "      <td>9R02-91058</td>\n",
       "      <td>Static OK</td>\n",
       "      <td>RT OK</td>\n",
       "      <td>07 - Los Angeles</td>\n",
       "      <td>6.00</td>\n",
       "      <td>6.00</td>\n",
       "    </tr>\n",
       "  </tbody>\n",
       "</table>\n",
       "</div>"
      ],
      "text/plain": [
       "                               name      ntd_id gtfs_static_status  \\\n",
       "0            Lake Transit Authority  9R02-91053          Static OK   \n",
       "1        Humboldt Transit Authority  9R02-91036          Static OK   \n",
       "2                    City of Eureka  9R02-91093          Static OK   \n",
       "3                    City of Arcata  9R02-91018          Static OK   \n",
       "5   Redwood Coast Transit Authority  9R02-91097          Static OK   \n",
       "6       Mendocino Transit Authority  9R02-91047          Static OK   \n",
       "9                     Nevada County  9R02-91095          Static OK   \n",
       "32                City of Rio Vista  9R02-91014          Static OK   \n",
       "58                    Madera County  9R02-91005          Static OK   \n",
       "70                     City of Ojai  9R02-91058          Static OK   \n",
       "\n",
       "   gtfs_realtime_status caltrans_district  total_fleet_vehicles  \\\n",
       "0                 RT OK       01 - Eureka                 36.00   \n",
       "1                 RT OK       01 - Eureka                 25.00   \n",
       "2                 RT OK       01 - Eureka                 10.00   \n",
       "3                 RT OK       01 - Eureka                  7.00   \n",
       "5                 RT OK       01 - Eureka                 16.00   \n",
       "6                 RT OK       01 - Eureka                 34.00   \n",
       "9                 RT OK   03 - Marysville                 26.00   \n",
       "32                RT OK      04 - Oakland                  6.00   \n",
       "58                RT OK       06 - Fresno                 14.00   \n",
       "70                RT OK  07 - Los Angeles                  6.00   \n",
       "\n",
       "    active_fleet_vehicles  \n",
       "0                   36.00  \n",
       "1                   25.00  \n",
       "2                    9.00  \n",
       "3                    7.00  \n",
       "5                   15.00  \n",
       "6                   34.00  \n",
       "9                   26.00  \n",
       "32                   6.00  \n",
       "58                  14.00  \n",
       "70                   6.00  "
      ]
     },
     "execution_count": 159,
     "metadata": {},
     "output_type": "execute_result"
    }
   ],
   "source": [
    "m1.loc[m1.total_fleet_vehicles != 0].head(10)"
   ]
  }
 ],
 "metadata": {
  "kernelspec": {
   "display_name": "Python 3 (ipykernel)",
   "language": "python",
   "name": "python3"
  },
  "language_info": {
   "codemirror_mode": {
    "name": "ipython",
    "version": 3
   },
   "file_extension": ".py",
   "mimetype": "text/x-python",
   "name": "python",
   "nbconvert_exporter": "python",
   "pygments_lexer": "ipython3",
   "version": "3.9.13"
  }
 },
 "nbformat": 4,
 "nbformat_minor": 5
}
