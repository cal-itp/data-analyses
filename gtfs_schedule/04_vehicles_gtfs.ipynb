{
 "cells": [
  {
   "cell_type": "markdown",
   "id": "733c8008-2966-439d-a50a-f91f4469099e",
   "metadata": {},
   "source": [
    "# Revenue Vehicles for NTD agencies with no GTFS RT\n",
    "\n",
    "* `dim_annual_ntd_agency_information`\n",
    "* `dim_organizations`\n",
    "\n",
    "[Slack thread](https://cal-itp.slack.com/archives/C02H6JUSS9L/p1688662549443129)"
   ]
  },
  {
   "cell_type": "code",
   "execution_count": 1,
   "id": "992939f9-dc04-4dbd-a4d0-99313bb93da9",
   "metadata": {},
   "outputs": [
    {
     "name": "stderr",
     "output_type": "stream",
     "text": [
      "/opt/conda/lib/python3.9/site-packages/geopandas/_compat.py:124: UserWarning: The Shapely GEOS version (3.11.1-CAPI-1.17.1) is incompatible with the GEOS version PyGEOS was compiled with (3.10.1-CAPI-1.16.0). Conversions between both will be slow.\n",
      "  warnings.warn(\n"
     ]
    }
   ],
   "source": [
    "import pandas as pd\n",
    "from calitp_data_analysis.tables import tbls\n",
    "from calitp_data_analysis.sql import to_snakecase\n",
    "from siuba import *"
   ]
  },
  {
   "cell_type": "code",
   "execution_count": 2,
   "id": "39078ad7-7d48-49ac-aefd-0daf32dc6f98",
   "metadata": {},
   "outputs": [],
   "source": [
    "pd.options.display.max_columns = 100\n",
    "pd.options.display.float_format = \"{:.2f}\".format\n",
    "pd.set_option(\"display.max_rows\", None)\n",
    "pd.set_option(\"display.max_colwidth\", None)"
   ]
  },
  {
   "cell_type": "markdown",
   "id": "abce491c-ff46-4d90-843d-d617b9134aae",
   "metadata": {},
   "source": [
    "### Organizations"
   ]
  },
  {
   "cell_type": "code",
   "execution_count": 3,
   "id": "eb2161ba-f56d-4187-a006-2344502c7430",
   "metadata": {},
   "outputs": [],
   "source": [
    "def dim_orgs()->pd.DataFrame:\n",
    "    # https://dbt-docs.calitp.org/#!/model/model.calitp_warehouse.dim_organizations\n",
    "    df = (tbls.mart_transit_database.dim_organizations() \n",
    "        >> filter(_._is_current == True)\n",
    "        >> select(_.ntd_id, _.name, \n",
    "                  _.gtfs_static_status, _.gtfs_realtime_status)\n",
    "        >> collect()\n",
    "        >> distinct()\n",
    "       )    \n",
    "    \n",
    "    df = df[df.ntd_id.notna()].reset_index(drop=True)\n",
    "    \n",
    "    return df"
   ]
  },
  {
   "cell_type": "code",
   "execution_count": 4,
   "id": "28bd0569-e6d9-44b7-804b-ea09e521165d",
   "metadata": {},
   "outputs": [],
   "source": [
    "orgs = dim_orgs()"
   ]
  },
  {
   "cell_type": "code",
   "execution_count": 5,
   "id": "4cb482bc-e296-4118-8166-a8ebc243ae18",
   "metadata": {},
   "outputs": [
    {
     "data": {
      "text/plain": [
       "Yurok Tribe              1\n",
       "Solano County Transit    1\n",
       "City of West Covina      1\n",
       "City of Baldwin Park     1\n",
       "City of Bell Gardens     1\n",
       "Name: name, dtype: int64"
      ]
     },
     "execution_count": 5,
     "metadata": {},
     "output_type": "execute_result"
    }
   ],
   "source": [
    "orgs.name.value_counts().head()"
   ]
  },
  {
   "cell_type": "code",
   "execution_count": 6,
   "id": "b59095ec-8763-4d69-99f7-67a780c17faf",
   "metadata": {},
   "outputs": [
    {
     "data": {
      "text/plain": [
       "(222, 4)"
      ]
     },
     "execution_count": 6,
     "metadata": {},
     "output_type": "execute_result"
    }
   ],
   "source": [
    "orgs.shape"
   ]
  },
  {
   "cell_type": "markdown",
   "id": "cf86ef4d-b58d-429f-81e0-7768337a77f3",
   "metadata": {},
   "source": [
    "### NTD"
   ]
  },
  {
   "cell_type": "code",
   "execution_count": 7,
   "id": "7ad83853-82fb-4332-b937-97be7737dd84",
   "metadata": {},
   "outputs": [],
   "source": [
    "def ntd_data(year: int) -> pd.DataFrame:\n",
    "    \n",
    "    df = (tbls.mart_ntd.dim_annual_ntd_agency_information() \n",
    "          >> filter(_.year == year, _.state == \"CA\")\n",
    "          >> select(_.ntd_id, _.total_voms, _.agency_name, _.state)\n",
    "          >> collect()\n",
    "         )\n",
    "\n",
    "    return df"
   ]
  },
  {
   "cell_type": "code",
   "execution_count": 8,
   "id": "c2206e0b-8e46-4fe8-a477-d0187e0ce04c",
   "metadata": {},
   "outputs": [],
   "source": [
    "ntd = ntd_data(2021)"
   ]
  },
  {
   "cell_type": "code",
   "execution_count": 9,
   "id": "555b498b-d5f3-4305-ac9e-d2573c5163d9",
   "metadata": {},
   "outputs": [
    {
     "data": {
      "text/html": [
       "<div>\n",
       "<style scoped>\n",
       "    .dataframe tbody tr th:only-of-type {\n",
       "        vertical-align: middle;\n",
       "    }\n",
       "\n",
       "    .dataframe tbody tr th {\n",
       "        vertical-align: top;\n",
       "    }\n",
       "\n",
       "    .dataframe thead th {\n",
       "        text-align: right;\n",
       "    }\n",
       "</style>\n",
       "<table border=\"1\" class=\"dataframe\">\n",
       "  <thead>\n",
       "    <tr style=\"text-align: right;\">\n",
       "      <th></th>\n",
       "      <th>ntd_id</th>\n",
       "      <th>total_voms</th>\n",
       "      <th>agency_name</th>\n",
       "      <th>state</th>\n",
       "    </tr>\n",
       "  </thead>\n",
       "  <tbody>\n",
       "    <tr>\n",
       "      <th>0</th>\n",
       "      <td>90003</td>\n",
       "      <td>512.00</td>\n",
       "      <td>San Francisco Bay Area Rapid Transit District</td>\n",
       "      <td>CA</td>\n",
       "    </tr>\n",
       "    <tr>\n",
       "      <th>1</th>\n",
       "      <td>90004</td>\n",
       "      <td>91.00</td>\n",
       "      <td>Golden Empire Transit District</td>\n",
       "      <td>CA</td>\n",
       "    </tr>\n",
       "    <tr>\n",
       "      <th>2</th>\n",
       "      <td>90006</td>\n",
       "      <td>80.00</td>\n",
       "      <td>Santa Cruz Metropolitan Transit District</td>\n",
       "      <td>CA</td>\n",
       "    </tr>\n",
       "    <tr>\n",
       "      <th>3</th>\n",
       "      <td>90007</td>\n",
       "      <td>72.00</td>\n",
       "      <td>City of Modesto</td>\n",
       "      <td>CA</td>\n",
       "    </tr>\n",
       "    <tr>\n",
       "      <th>4</th>\n",
       "      <td>90008</td>\n",
       "      <td>128.00</td>\n",
       "      <td>City of Santa Monica</td>\n",
       "      <td>CA</td>\n",
       "    </tr>\n",
       "  </tbody>\n",
       "</table>\n",
       "</div>"
      ],
      "text/plain": [
       "  ntd_id  total_voms                                    agency_name state\n",
       "0  90003      512.00  San Francisco Bay Area Rapid Transit District    CA\n",
       "1  90004       91.00                 Golden Empire Transit District    CA\n",
       "2  90006       80.00       Santa Cruz Metropolitan Transit District    CA\n",
       "3  90007       72.00                               City of Modesto     CA\n",
       "4  90008      128.00                           City of Santa Monica    CA"
      ]
     },
     "execution_count": 9,
     "metadata": {},
     "output_type": "execute_result"
    }
   ],
   "source": [
    "ntd.head()"
   ]
  },
  {
   "cell_type": "code",
   "execution_count": 10,
   "id": "08eb916c-33fe-42a7-b342-976241ec5be4",
   "metadata": {},
   "outputs": [
    {
     "data": {
      "text/plain": [
       "both          212\n",
       "right_only     26\n",
       "left_only      10\n",
       "Name: _merge, dtype: int64"
      ]
     },
     "execution_count": 10,
     "metadata": {},
     "output_type": "execute_result"
    }
   ],
   "source": [
    "df = pd.merge(\n",
    "    orgs,\n",
    "    ntd,\n",
    "    on = \"ntd_id\",\n",
    "    how = \"outer\",\n",
    "    validate = \"m:1\",\n",
    "    indicator=True\n",
    ")\n",
    "\n",
    "df._merge.value_counts()"
   ]
  },
  {
   "cell_type": "code",
   "execution_count": 11,
   "id": "2f789f09-8fb7-4061-aadb-82183edd7125",
   "metadata": {},
   "outputs": [
    {
     "data": {
      "text/plain": [
       "array(['Metropolitan Transportation Commission',\n",
       "       'Los Angeles County Dept. of Public Works - Athens Shuttle Service',\n",
       "       'Los Angeles County Department of Public Works - Avocado Heights',\n",
       "       'Los Angeles County Department of Public Works - East Valinda',\n",
       "       'Los Angeles County Dept. of Public Works - Florence-Firestone',\n",
       "       'Los Angeles County Dept. of Public Works - King Medical Center Shuttle Service',\n",
       "       'Los Angeles County Dept. of Public Works - Lennox Shuttle',\n",
       "       'Los Angeles County Department of Public Works - South Whittier',\n",
       "       'Los Angeles County Department of Public Works - Whittier',\n",
       "       'Los Angeles County Dept. of Public Works - Willowbrook Shuttle',\n",
       "       'Los Angeles County Dept. of Public Works - Willowbrook et al.',\n",
       "       'Riverfront Joint Powers Authority',\n",
       "       'SACRAMENTO AREA COUNCIL OF GOVERNMENTS FINANCING CORPORATION',\n",
       "       'Pomona Valley Transportation Authority', 'Elk Valley Rancheria',\n",
       "       'Los Angeles County Metropolitan Transportation Authority ',\n",
       "       'Bob Hope Airport', 'City of La Habra Heights',\n",
       "       'Playa Vista Parks and Landscape Corp.', 'City of Palmdale',\n",
       "       'Ventura Intercity Service Transit Authority',\n",
       "       'Kern Regional Transit', 'Humboldt Transit Authority',\n",
       "       'Redding Area Bus Authority ',\n",
       "       'San Luis Obispo Regional Transit Authority'], dtype=object)"
      ]
     },
     "execution_count": 11,
     "metadata": {},
     "output_type": "execute_result"
    }
   ],
   "source": [
    "# Who hasn't merged on?\n",
    "df[df._merge==\"right_only\"].agency_name.unique()"
   ]
  },
  {
   "cell_type": "code",
   "execution_count": 29,
   "id": "651ba50c-bbed-41c8-82fa-0938ac32e9ce",
   "metadata": {},
   "outputs": [
    {
     "data": {
      "text/html": [
       "<div>\n",
       "<style scoped>\n",
       "    .dataframe tbody tr th:only-of-type {\n",
       "        vertical-align: middle;\n",
       "    }\n",
       "\n",
       "    .dataframe tbody tr th {\n",
       "        vertical-align: top;\n",
       "    }\n",
       "\n",
       "    .dataframe thead th {\n",
       "        text-align: right;\n",
       "    }\n",
       "</style>\n",
       "<table border=\"1\" class=\"dataframe\">\n",
       "  <thead>\n",
       "    <tr style=\"text-align: right;\">\n",
       "      <th></th>\n",
       "      <th>ntd_id</th>\n",
       "      <th>name</th>\n",
       "      <th>gtfs_static_status</th>\n",
       "      <th>gtfs_realtime_status</th>\n",
       "      <th>total_voms</th>\n",
       "      <th>agency_name</th>\n",
       "      <th>state</th>\n",
       "      <th>_merge</th>\n",
       "    </tr>\n",
       "  </thead>\n",
       "  <tbody>\n",
       "    <tr>\n",
       "      <th>114</th>\n",
       "      <td>90289</td>\n",
       "      <td>City of Rosemead</td>\n",
       "      <td>Static OK</td>\n",
       "      <td>RT Incomplete</td>\n",
       "      <td>7.00</td>\n",
       "      <td>City of Rosemead</td>\n",
       "      <td>CA</td>\n",
       "      <td>both</td>\n",
       "    </tr>\n",
       "  </tbody>\n",
       "</table>\n",
       "</div>"
      ],
      "text/plain": [
       "    ntd_id              name gtfs_static_status gtfs_realtime_status  \\\n",
       "114  90289  City of Rosemead          Static OK        RT Incomplete   \n",
       "\n",
       "     total_voms       agency_name state _merge  \n",
       "114        7.00  City of Rosemead    CA   both  "
      ]
     },
     "execution_count": 29,
     "metadata": {},
     "output_type": "execute_result"
    }
   ],
   "source": [
    "df.sample()"
   ]
  },
  {
   "cell_type": "code",
   "execution_count": 30,
   "id": "7e47f77f-f1c5-4c76-b6c6-42f1371fe6e0",
   "metadata": {},
   "outputs": [
    {
     "data": {
      "text/html": [
       "<div>\n",
       "<style scoped>\n",
       "    .dataframe tbody tr th:only-of-type {\n",
       "        vertical-align: middle;\n",
       "    }\n",
       "\n",
       "    .dataframe tbody tr th {\n",
       "        vertical-align: top;\n",
       "    }\n",
       "\n",
       "    .dataframe thead th {\n",
       "        text-align: right;\n",
       "    }\n",
       "</style>\n",
       "<table border=\"1\" class=\"dataframe\">\n",
       "  <thead>\n",
       "    <tr style=\"text-align: right;\">\n",
       "      <th></th>\n",
       "      <th>ntd_id</th>\n",
       "      <th>name</th>\n",
       "      <th>gtfs_static_status</th>\n",
       "      <th>gtfs_realtime_status</th>\n",
       "      <th>total_voms</th>\n",
       "      <th>agency_name</th>\n",
       "      <th>state</th>\n",
       "      <th>_merge</th>\n",
       "    </tr>\n",
       "  </thead>\n",
       "  <tbody>\n",
       "    <tr>\n",
       "      <th>1</th>\n",
       "      <td>9R02-91116</td>\n",
       "      <td>Alpine County</td>\n",
       "      <td>Static OK</td>\n",
       "      <td>RT Incomplete</td>\n",
       "      <td>1.00</td>\n",
       "      <td>Alpine County Local Transportation Commission</td>\n",
       "      <td>CA</td>\n",
       "      <td>both</td>\n",
       "    </tr>\n",
       "  </tbody>\n",
       "</table>\n",
       "</div>"
      ],
      "text/plain": [
       "       ntd_id           name gtfs_static_status gtfs_realtime_status  \\\n",
       "1  9R02-91116  Alpine County          Static OK        RT Incomplete   \n",
       "\n",
       "   total_voms                                    agency_name state _merge  \n",
       "1        1.00  Alpine County Local Transportation Commission    CA   both  "
      ]
     },
     "execution_count": 30,
     "metadata": {},
     "output_type": "execute_result"
    }
   ],
   "source": [
    "df.loc[df.ntd_id == \"9R02-91116\"]"
   ]
  },
  {
   "cell_type": "code",
   "execution_count": 12,
   "id": "1825ef07-f245-41a3-b044-7a7efe7c9c56",
   "metadata": {},
   "outputs": [],
   "source": [
    "no_rt_vehicles = df[df.gtfs_realtime_status == \"RT Incomplete\"].total_voms.sum()\n",
    "yes_rt_vehicles = df[df.gtfs_realtime_status == \"RT OK\"].total_voms.sum()"
   ]
  },
  {
   "cell_type": "code",
   "execution_count": 13,
   "id": "50a0e236-b6f1-469f-ada6-c5219201e3ee",
   "metadata": {},
   "outputs": [
    {
     "data": {
      "text/plain": [
       "0.2779102240991758"
      ]
     },
     "execution_count": 13,
     "metadata": {},
     "output_type": "execute_result"
    }
   ],
   "source": [
    "no_rt_vehicles / (no_rt_vehicles + yes_rt_vehicles)"
   ]
  },
  {
   "cell_type": "code",
   "execution_count": 14,
   "id": "25f361f1-ae00-45db-a4ef-2bf90e06658d",
   "metadata": {},
   "outputs": [
    {
     "data": {
      "text/plain": [
       "10601.0"
      ]
     },
     "execution_count": 14,
     "metadata": {},
     "output_type": "execute_result"
    }
   ],
   "source": [
    "yes_rt_vehicles"
   ]
  },
  {
   "cell_type": "code",
   "execution_count": 28,
   "id": "f9fefcfc-eb62-4ce5-a4d9-a2078ff839ef",
   "metadata": {},
   "outputs": [
    {
     "data": {
      "text/plain": [
       "4080.0"
      ]
     },
     "execution_count": 28,
     "metadata": {},
     "output_type": "execute_result"
    }
   ],
   "source": [
    "no_rt_vehicles"
   ]
  },
  {
   "cell_type": "markdown",
   "id": "ee7b59e1-9116-4cd7-8f1a-2caccea68f6a",
   "metadata": {},
   "source": [
    "### Revenue Vehicles"
   ]
  },
  {
   "cell_type": "code",
   "execution_count": 15,
   "id": "3864fbc7-078d-4626-8c3a-2d2a7eb103cd",
   "metadata": {},
   "outputs": [],
   "source": [
    "rev_vehicle_url = \"gs://calitp-analytics-data/data-analyses/2021-Annual-Database-Files/2021 Revenue Vehicle Inventory.xlsx\""
   ]
  },
  {
   "cell_type": "code",
   "execution_count": 16,
   "id": "50d05f26-93fb-4e57-99af-806a87b371e2",
   "metadata": {},
   "outputs": [],
   "source": [
    "rev_vehicle = to_snakecase(pd.read_excel(rev_vehicle_url))"
   ]
  },
  {
   "cell_type": "code",
   "execution_count": 17,
   "id": "0f917677-3c50-4156-8f3d-514458b41821",
   "metadata": {},
   "outputs": [
    {
     "data": {
      "text/plain": [
       "Index(['ntd_id', 'agency_name', 'reporter_type', 'reporting_module',\n",
       "       'group_plan_sponsor_ntdid', 'group_plan_sponsor_name', 'modes',\n",
       "       'revenue_vehicle_inventory_id', 'agency_fleet_id',\n",
       "       'modetos_vehicles_operated_in_maximum_service', 'total_fleet_vehicles',\n",
       "       'dedicated_fleet', 'vehicle_type', 'ownership_type', 'funding_source',\n",
       "       'manufacture_year', 'rebuild_year', 'type_of_last_renewal',\n",
       "       'useful_life_benchmark', 'manufacturer',\n",
       "       'other_manufacturer_description', 'model', 'active_fleet_vehicles',\n",
       "       'ada_fleet_vehicles', 'emergency_contingency_vehicles', 'fuel_type',\n",
       "       'vehicle_length', 'seating_capacity', 'standing_capacity',\n",
       "       'total_miles_on_active_vehicles_during_period',\n",
       "       'average_lifetime_miles_per_active_vehicles',\n",
       "       'no_capital_replacement_flag', 'separate_asset_flag',\n",
       "       'event_data_recorders', 'emergency_lighting_system_design',\n",
       "       'emergency_signage', 'emergency_path_marking',\n",
       "       'automated_vehicles_flag', 'notes'],\n",
       "      dtype='object')"
      ]
     },
     "execution_count": 17,
     "metadata": {},
     "output_type": "execute_result"
    }
   ],
   "source": [
    "rev_vehicle.columns"
   ]
  },
  {
   "cell_type": "code",
   "execution_count": 18,
   "id": "3c1303aa-59b5-4401-88bc-7a6c8de929b1",
   "metadata": {},
   "outputs": [],
   "source": [
    "rev_vehicle2 = rev_vehicle.groupby(['ntd_id']).agg({'total_fleet_vehicles':'sum','active_fleet_vehicles':'sum'}).reset_index()"
   ]
  },
  {
   "cell_type": "code",
   "execution_count": 19,
   "id": "74ae1af6-31fc-4a1c-9cc4-95bd6f172659",
   "metadata": {},
   "outputs": [
    {
     "data": {
      "text/html": [
       "<div>\n",
       "<style scoped>\n",
       "    .dataframe tbody tr th:only-of-type {\n",
       "        vertical-align: middle;\n",
       "    }\n",
       "\n",
       "    .dataframe tbody tr th {\n",
       "        vertical-align: top;\n",
       "    }\n",
       "\n",
       "    .dataframe thead th {\n",
       "        text-align: right;\n",
       "    }\n",
       "</style>\n",
       "<table border=\"1\" class=\"dataframe\">\n",
       "  <thead>\n",
       "    <tr style=\"text-align: right;\">\n",
       "      <th></th>\n",
       "      <th>ntd_id</th>\n",
       "      <th>total_fleet_vehicles</th>\n",
       "      <th>active_fleet_vehicles</th>\n",
       "    </tr>\n",
       "  </thead>\n",
       "  <tbody>\n",
       "    <tr>\n",
       "      <th>894</th>\n",
       "      <td>90041</td>\n",
       "      <td>115</td>\n",
       "      <td>111</td>\n",
       "    </tr>\n",
       "    <tr>\n",
       "      <th>1895</th>\n",
       "      <td>5R05-50293</td>\n",
       "      <td>15</td>\n",
       "      <td>15</td>\n",
       "    </tr>\n",
       "  </tbody>\n",
       "</table>\n",
       "</div>"
      ],
      "text/plain": [
       "          ntd_id  total_fleet_vehicles  active_fleet_vehicles\n",
       "894        90041                   115                    111\n",
       "1895  5R05-50293                    15                     15"
      ]
     },
     "execution_count": 19,
     "metadata": {},
     "output_type": "execute_result"
    }
   ],
   "source": [
    "rev_vehicle2.sample(2)"
   ]
  },
  {
   "cell_type": "code",
   "execution_count": 22,
   "id": "03c9ead5-4e82-4b61-883e-111112914062",
   "metadata": {},
   "outputs": [
    {
     "data": {
      "text/plain": [
       "_merge    \n",
       "right_only    2714\n",
       "left_only      164\n",
       "both            58\n",
       "dtype: int64"
      ]
     },
     "execution_count": 22,
     "metadata": {},
     "output_type": "execute_result"
    }
   ],
   "source": [
    "pd.merge(orgs, rev_vehicle2, on ='ntd_id', how = 'outer', indicator = True)[['_merge']].value_counts()"
   ]
  },
  {
   "cell_type": "code",
   "execution_count": 23,
   "id": "7edaeadd-3bd3-48ce-bdda-9c6d30d73e32",
   "metadata": {},
   "outputs": [],
   "source": [
    "m1 = pd.merge(orgs, rev_vehicle2, on ='ntd_id', how = 'left')\n",
    "m1 = m1.drop_duplicates()"
   ]
  },
  {
   "cell_type": "code",
   "execution_count": 24,
   "id": "f86ef62f-9f96-4c9f-a3b4-be74b21e061e",
   "metadata": {},
   "outputs": [
    {
     "data": {
      "text/plain": [
       "(222, 6)"
      ]
     },
     "execution_count": 24,
     "metadata": {},
     "output_type": "execute_result"
    }
   ],
   "source": [
    "m1.shape"
   ]
  },
  {
   "cell_type": "code",
   "execution_count": 25,
   "id": "090e8cb0-1246-41c2-9b6f-f7df5bc842b0",
   "metadata": {},
   "outputs": [],
   "source": [
    "m1[['total_fleet_vehicles','active_fleet_vehicles']] = m1[['total_fleet_vehicles','active_fleet_vehicles']].fillna(0)"
   ]
  },
  {
   "cell_type": "code",
   "execution_count": 27,
   "id": "75baac33-30a0-4eb0-ace2-a77beeefa005",
   "metadata": {},
   "outputs": [
    {
     "data": {
      "text/html": [
       "<div>\n",
       "<style scoped>\n",
       "    .dataframe tbody tr th:only-of-type {\n",
       "        vertical-align: middle;\n",
       "    }\n",
       "\n",
       "    .dataframe tbody tr th {\n",
       "        vertical-align: top;\n",
       "    }\n",
       "\n",
       "    .dataframe thead th {\n",
       "        text-align: right;\n",
       "    }\n",
       "</style>\n",
       "<table border=\"1\" class=\"dataframe\">\n",
       "  <thead>\n",
       "    <tr style=\"text-align: right;\">\n",
       "      <th></th>\n",
       "      <th>ntd_id</th>\n",
       "      <th>name</th>\n",
       "      <th>gtfs_static_status</th>\n",
       "      <th>gtfs_realtime_status</th>\n",
       "      <th>total_fleet_vehicles</th>\n",
       "      <th>active_fleet_vehicles</th>\n",
       "    </tr>\n",
       "  </thead>\n",
       "  <tbody>\n",
       "    <tr>\n",
       "      <th>1</th>\n",
       "      <td>9R02-91116</td>\n",
       "      <td>Alpine County</td>\n",
       "      <td>Static OK</td>\n",
       "      <td>RT Incomplete</td>\n",
       "      <td>3.00</td>\n",
       "      <td>3.00</td>\n",
       "    </tr>\n",
       "    <tr>\n",
       "      <th>4</th>\n",
       "      <td>9R02-91041</td>\n",
       "      <td>City of Dixon</td>\n",
       "      <td>Static OK</td>\n",
       "      <td>RT Incomplete</td>\n",
       "      <td>13.00</td>\n",
       "      <td>13.00</td>\n",
       "    </tr>\n",
       "    <tr>\n",
       "      <th>5</th>\n",
       "      <td>9R02-99426</td>\n",
       "      <td>City of Wasco</td>\n",
       "      <td>Static OK</td>\n",
       "      <td>RT Incomplete</td>\n",
       "      <td>3.00</td>\n",
       "      <td>3.00</td>\n",
       "    </tr>\n",
       "    <tr>\n",
       "      <th>6</th>\n",
       "      <td>9R02-91119</td>\n",
       "      <td>Plumas County</td>\n",
       "      <td>Static OK</td>\n",
       "      <td>RT Incomplete</td>\n",
       "      <td>11.00</td>\n",
       "      <td>10.00</td>\n",
       "    </tr>\n",
       "    <tr>\n",
       "      <th>10</th>\n",
       "      <td>9R02-91040</td>\n",
       "      <td>City of Dinuba</td>\n",
       "      <td>Static OK</td>\n",
       "      <td>RT Incomplete</td>\n",
       "      <td>10.00</td>\n",
       "      <td>10.00</td>\n",
       "    </tr>\n",
       "    <tr>\n",
       "      <th>18</th>\n",
       "      <td>9R02-91082</td>\n",
       "      <td>Mariposa County</td>\n",
       "      <td>Static OK</td>\n",
       "      <td>RT Incomplete</td>\n",
       "      <td>10.00</td>\n",
       "      <td>10.00</td>\n",
       "    </tr>\n",
       "    <tr>\n",
       "      <th>19</th>\n",
       "      <td>9R02-91101</td>\n",
       "      <td>Town of Truckee</td>\n",
       "      <td>Static OK</td>\n",
       "      <td>RT Incomplete</td>\n",
       "      <td>8.00</td>\n",
       "      <td>8.00</td>\n",
       "    </tr>\n",
       "    <tr>\n",
       "      <th>21</th>\n",
       "      <td>9R02-91002</td>\n",
       "      <td>City of Corcoran</td>\n",
       "      <td>Static OK</td>\n",
       "      <td>RT Incomplete</td>\n",
       "      <td>6.00</td>\n",
       "      <td>6.00</td>\n",
       "    </tr>\n",
       "    <tr>\n",
       "      <th>25</th>\n",
       "      <td>9R02-91079</td>\n",
       "      <td>City of Woodlake</td>\n",
       "      <td>Static OK</td>\n",
       "      <td>RT Incomplete</td>\n",
       "      <td>3.00</td>\n",
       "      <td>3.00</td>\n",
       "    </tr>\n",
       "    <tr>\n",
       "      <th>30</th>\n",
       "      <td>9R02-91110</td>\n",
       "      <td>City of McFarland</td>\n",
       "      <td>Static OK</td>\n",
       "      <td>RT Incomplete</td>\n",
       "      <td>2.00</td>\n",
       "      <td>2.00</td>\n",
       "    </tr>\n",
       "  </tbody>\n",
       "</table>\n",
       "</div>"
      ],
      "text/plain": [
       "        ntd_id               name gtfs_static_status gtfs_realtime_status  \\\n",
       "1   9R02-91116      Alpine County          Static OK        RT Incomplete   \n",
       "4   9R02-91041      City of Dixon          Static OK        RT Incomplete   \n",
       "5   9R02-99426      City of Wasco          Static OK        RT Incomplete   \n",
       "6   9R02-91119      Plumas County          Static OK        RT Incomplete   \n",
       "10  9R02-91040     City of Dinuba          Static OK        RT Incomplete   \n",
       "18  9R02-91082    Mariposa County          Static OK        RT Incomplete   \n",
       "19  9R02-91101    Town of Truckee          Static OK        RT Incomplete   \n",
       "21  9R02-91002   City of Corcoran          Static OK        RT Incomplete   \n",
       "25  9R02-91079   City of Woodlake          Static OK        RT Incomplete   \n",
       "30  9R02-91110  City of McFarland          Static OK        RT Incomplete   \n",
       "\n",
       "    total_fleet_vehicles  active_fleet_vehicles  \n",
       "1                   3.00                   3.00  \n",
       "4                  13.00                  13.00  \n",
       "5                   3.00                   3.00  \n",
       "6                  11.00                  10.00  \n",
       "10                 10.00                  10.00  \n",
       "18                 10.00                  10.00  \n",
       "19                  8.00                   8.00  \n",
       "21                  6.00                   6.00  \n",
       "25                  3.00                   3.00  \n",
       "30                  2.00                   2.00  "
      ]
     },
     "execution_count": 27,
     "metadata": {},
     "output_type": "execute_result"
    }
   ],
   "source": [
    "m1.loc[m1.total_fleet_vehicles != 0].head(10)"
   ]
  }
 ],
 "metadata": {
  "kernelspec": {
   "display_name": "Python 3 (ipykernel)",
   "language": "python",
   "name": "python3"
  },
  "language_info": {
   "codemirror_mode": {
    "name": "ipython",
    "version": 3
   },
   "file_extension": ".py",
   "mimetype": "text/x-python",
   "name": "python",
   "nbconvert_exporter": "python",
   "pygments_lexer": "ipython3",
   "version": "3.9.13"
  }
 },
 "nbformat": 4,
 "nbformat_minor": 5
}
