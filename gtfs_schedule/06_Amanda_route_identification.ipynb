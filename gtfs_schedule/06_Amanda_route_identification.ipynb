{
 "cells": [
  {
   "cell_type": "markdown",
   "id": "9f2b17f8-faef-489a-9f55-e3defc8b33ea",
   "metadata": {},
   "source": [
    "# Route Identification Over Time, Approach 1\n",
    "\n",
    "Recent observations shows small chages in routes over time. Specifically in the following fields:\n",
    "* route ID\n",
    "* route short name\n",
    "* route long name\n",
    "* route desc\n",
    "\n",
    "Need to observe these route changes in order to account for these changes in future analyses.\n",
    "\n",
    "## Objective\n",
    "1. Query data from `fct_monthly_routes` to help identify variences in Routes. Query for 2023, a couple of months. \n",
    "2. Save data to GCS `gtfs_schedule` bucket\n",
    "3. Filter down data to `Sacramento Regional Transit`, identify and observe routes for any variences\n",
    "\n",
    "* https://github.com/cal-itp/data-analyses/issues/924"
   ]
  },
  {
   "cell_type": "code",
   "execution_count": null,
   "id": "78a70c5e-a8fc-4644-b8d0-5bf4e2481cf7",
   "metadata": {},
   "outputs": [],
   "source": [
    "import geopandas as gpd\n",
    "import pandas as pd\n",
    "from shared_utils import rt_dates\n",
    "from calitp_data_analysis import geography_utils"
   ]
  },
  {
   "cell_type": "code",
   "execution_count": null,
   "id": "219f24e7-3030-4ddd-9614-1774100d39f9",
   "metadata": {},
   "outputs": [],
   "source": [
    "pd.options.display.max_columns = 100\n",
    "pd.options.display.float_format = \"{:.2f}\".format\n",
    "pd.set_option(\"display.max_rows\", None)\n",
    "pd.set_option(\"display.max_colwidth\", None)"
   ]
  },
  {
   "cell_type": "code",
   "execution_count": null,
   "id": "a5319651-2fa7-43ed-8d93-67ffd4b22284",
   "metadata": {},
   "outputs": [],
   "source": [
    "gdf = gpd.read_parquet(\n",
    "    \"gs://calitp-analytics-data/data-analyses/gtfs_schedule/route_identification_2023_m04_m09.parquet\"\n",
    ")"
   ]
  },
  {
   "cell_type": "code",
   "execution_count": null,
   "id": "60f4ad75-1a5f-45bb-b19d-1460a2660d06",
   "metadata": {},
   "outputs": [],
   "source": [
    "gdf.shape"
   ]
  },
  {
   "cell_type": "code",
   "execution_count": null,
   "id": "3a7affe3-22ca-4bf2-8148-0c0f1932fd62",
   "metadata": {},
   "outputs": [],
   "source": [
    "gdf = gdf.drop(columns=[\"year\", \"key\"])"
   ]
  },
  {
   "cell_type": "code",
   "execution_count": null,
   "id": "6146b869-be2f-4e97-8236-0c36e2ffa0c1",
   "metadata": {},
   "outputs": [],
   "source": [
    "gdf.sample().drop(columns=[\"geometry\"])"
   ]
  },
  {
   "cell_type": "markdown",
   "id": "4543c2ca-fd1b-4693-83fc-59ad1b9f366a",
   "metadata": {},
   "source": [
    "### LA Metro"
   ]
  },
  {
   "cell_type": "code",
   "execution_count": null,
   "id": "e67529e0-e29e-40fb-9d09-b797eb84e724",
   "metadata": {},
   "outputs": [],
   "source": [
    "# gdf.name.unique()"
   ]
  },
  {
   "cell_type": "code",
   "execution_count": null,
   "id": "26ac850f-4849-4c5a-bf1a-497313d7f599",
   "metadata": {},
   "outputs": [],
   "source": [
    "la_metro = gdf.loc[gdf.name == \"LA Metro Bus Schedule\"].reset_index(drop=True)"
   ]
  },
  {
   "cell_type": "code",
   "execution_count": null,
   "id": "f5a8d4f2-3d6c-4ca9-8d3e-92f32c076664",
   "metadata": {},
   "outputs": [],
   "source": [
    "la_metro.shape"
   ]
  },
  {
   "cell_type": "code",
   "execution_count": null,
   "id": "27a4b63b-d682-48f1-bdfc-cbac2a92ea31",
   "metadata": {},
   "outputs": [],
   "source": [
    "la_metro.month.unique()"
   ]
  },
  {
   "cell_type": "code",
   "execution_count": null,
   "id": "b420b66b-dd06-4f4a-b9f0-761ffe09ef17",
   "metadata": {},
   "outputs": [],
   "source": [
    "# Compare each month\n",
    "# https://stackoverflow.com/questions/47769453/pandas-split-dataframe-to-multiple-by-unique-values-rows\n",
    "la_dfs = dict(tuple(la_metro.groupby(\"month\")))"
   ]
  },
  {
   "cell_type": "code",
   "execution_count": null,
   "id": "f8df5a9c-cfea-4ce5-b4ec-79a91448badd",
   "metadata": {},
   "outputs": [],
   "source": [
    "la_metro_df = la_metro.drop(columns = ['geometry'])"
   ]
  },
  {
   "cell_type": "code",
   "execution_count": null,
   "id": "2491a297-4257-4f12-a7cc-d9b42ade7b0b",
   "metadata": {},
   "outputs": [],
   "source": [
    "la_metro_df.groupby(['route_id']).agg({'shape_id':'nunique'}).sort_values(['shape_id'], ascending = False).head()"
   ]
  },
  {
   "cell_type": "code",
   "execution_count": null,
   "id": "e089e67c-bd87-4c9c-842c-25c42fbf58db",
   "metadata": {},
   "outputs": [],
   "source": [
    "april = la_dfs[4]"
   ]
  },
  {
   "cell_type": "code",
   "execution_count": null,
   "id": "5320c5fa-0f22-4d3a-8cfa-b04c11ed5228",
   "metadata": {},
   "outputs": [],
   "source": [
    "april.columns"
   ]
  },
  {
   "cell_type": "code",
   "execution_count": null,
   "id": "39b63c90-965f-470d-8885-f1eae699d5c6",
   "metadata": {},
   "outputs": [],
   "source": [
    "may = la_dfs[5]"
   ]
  },
  {
   "cell_type": "code",
   "execution_count": null,
   "id": "a613bf02-a938-4a6d-8d79-bc8b6ea91641",
   "metadata": {},
   "outputs": [],
   "source": [
    "june = la_dfs[6]"
   ]
  },
  {
   "cell_type": "code",
   "execution_count": null,
   "id": "10394d18-686b-4a55-bf54-7f0c26958fc7",
   "metadata": {},
   "outputs": [],
   "source": [
    "pd.merge(\n",
    "    april,\n",
    "    may,\n",
    "    on=[\"name\", \"source_record_id\", \"route_id\", \"shape_id\"],\n",
    "    how=\"outer\",\n",
    "    indicator=True,\n",
    ")[[\"_merge\"]].value_counts()"
   ]
  },
  {
   "cell_type": "code",
   "execution_count": null,
   "id": "5662283b-0b21-4ac4-8a85-e869ca8af564",
   "metadata": {},
   "outputs": [],
   "source": [
    "m1 = (\n",
    "    pd.merge(\n",
    "        april,\n",
    "        may,\n",
    "        on=[\"name\", \"source_record_id\", \"route_id\", \"shape_id\"],\n",
    "        how=\"outer\",\n",
    "        indicator=True,\n",
    "    )\n",
    "    .rename(columns={\"_merge\": \"april_v_may\"})\n",
    "    .drop(columns=[\"month_x\", \"month_y\"])\n",
    ")"
   ]
  },
  {
   "cell_type": "code",
   "execution_count": null,
   "id": "6d4f8bd7-fb90-4f7a-810f-f88ead97cbba",
   "metadata": {},
   "outputs": [],
   "source": [
    "m1.columns"
   ]
  },
  {
   "cell_type": "code",
   "execution_count": null,
   "id": "44d606d4-07c8-4755-a1c4-e4f16261c417",
   "metadata": {},
   "outputs": [],
   "source": [
    "preview = [\"source_record_id\", \"name\", \"route_id\", \"shape_id\", \"april_v_may\"]"
   ]
  },
  {
   "cell_type": "code",
   "execution_count": null,
   "id": "3e18c1d9-8c7f-45c9-b692-bc0317cbc9a9",
   "metadata": {},
   "outputs": [],
   "source": [
    "m1.loc[m1.april_v_may == \"left_only\"].set_geometry(\"geometry_x\").explore(\n",
    "    \"route_id\", style_kwds={\"weight\": 10}\n",
    ")"
   ]
  },
  {
   "cell_type": "code",
   "execution_count": null,
   "id": "5166c1ff-50c8-4e1d-9df2-097cea3598a5",
   "metadata": {},
   "outputs": [],
   "source": [
    "m1.loc[m1.april_v_may == \"right_only\"].set_geometry(\"geometry_y\").explore(\n",
    "    \"route_id\", style_kwds={\"weight\": 10}\n",
    ")"
   ]
  },
  {
   "cell_type": "code",
   "execution_count": null,
   "id": "af8c3f1b-be41-4a1a-a5ad-3c31c81f0cc5",
   "metadata": {},
   "outputs": [],
   "source": [
    "m1 = m1.set_geometry('geometry_x').to_crs(geography_utils.CA_StatePlane)"
   ]
  },
  {
   "cell_type": "code",
   "execution_count": null,
   "id": "eb629c4f-6c30-47b5-b799-e6d6e27bc0eb",
   "metadata": {},
   "outputs": [],
   "source": [
    "m1['april_geo_len'] = m1.geometry_x.length"
   ]
  },
  {
   "cell_type": "code",
   "execution_count": null,
   "id": "ae60abe6-975e-4898-8a62-57f5be2a5a28",
   "metadata": {},
   "outputs": [],
   "source": [
    "m1 = m1.set_geometry('geometry_y').to_crs(geography_utils.CA_StatePlane)"
   ]
  },
  {
   "cell_type": "code",
   "execution_count": null,
   "id": "a9d7df13-d37b-435d-a789-67951dc0ffe3",
   "metadata": {},
   "outputs": [],
   "source": [
    "m1['may_len'] = m1.geometry_y.length"
   ]
  },
  {
   "cell_type": "code",
   "execution_count": null,
   "id": "8c6ba350-bcf8-44ec-95e1-c9ea9606d872",
   "metadata": {},
   "outputs": [],
   "source": [
    "m1.loc[m1.april_v_may != \"both\"][preview]"
   ]
  },
  {
   "cell_type": "code",
   "execution_count": null,
   "id": "ae4deee1-7d71-4a57-b25b-2a0340b91f0c",
   "metadata": {},
   "outputs": [],
   "source": [
    "may.shape, april.shape"
   ]
  },
  {
   "cell_type": "code",
   "execution_count": null,
   "id": "bb2d3b33-cbc8-4c84-a21a-f3d2ad9eb30e",
   "metadata": {},
   "outputs": [],
   "source": [
    "april.geometry.geom_type.unique()"
   ]
  },
  {
   "cell_type": "code",
   "execution_count": null,
   "id": "03e20398-0711-4ed3-89af-d6fefe13540b",
   "metadata": {},
   "outputs": [],
   "source": [
    "may.geometry.geom_type.unique()"
   ]
  },
  {
   "cell_type": "code",
   "execution_count": null,
   "id": "3bb3ce72-892c-4905-8e4a-91a97334089d",
   "metadata": {},
   "outputs": [],
   "source": [
    "group1 = m1.loc[m1.april_v_may != \"both\"].groupby(['route_id',]).agg({'shape_id':'nunique', 'april_geo_len':'max', 'may_len':'max'}).reset_index()"
   ]
  },
  {
   "cell_type": "code",
   "execution_count": null,
   "id": "5fed27af-3200-4bec-bdd8-57be91401aae",
   "metadata": {},
   "outputs": [],
   "source": [
    "group1.april_geo_len/group1.may_len * 100"
   ]
  }
 ],
 "metadata": {
  "kernelspec": {
   "display_name": "Python 3 (ipykernel)",
   "language": "python",
   "name": "python3"
  },
  "language_info": {
   "codemirror_mode": {
    "name": "ipython",
    "version": 3
   },
   "file_extension": ".py",
   "mimetype": "text/x-python",
   "name": "python",
   "nbconvert_exporter": "python",
   "pygments_lexer": "ipython3",
   "version": "3.9.13"
  }
 },
 "nbformat": 4,
 "nbformat_minor": 5
}
