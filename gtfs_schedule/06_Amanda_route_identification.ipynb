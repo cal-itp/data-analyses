{
 "cells": [
  {
   "cell_type": "markdown",
   "id": "9f2b17f8-faef-489a-9f55-e3defc8b33ea",
   "metadata": {},
   "source": [
    "# Route Identification Over Time, Approach 1\n",
    "\n",
    "Recent observations shows small chages in routes over time. Specifically in the following fields:\n",
    "* route ID\n",
    "* route short name\n",
    "* route long name\n",
    "* route desc\n",
    "\n",
    "Need to observe these route changes in order to account for these changes in future analyses.\n",
    "\n",
    "## Objective\n",
    "1. Query data from `fct_monthly_routes` to help identify variences in Routes. Query for 2023, a couple of months. \n",
    "2. Save data to GCS `gtfs_schedule` bucket\n",
    "3. Filter down data to `Sacramento Regional Transit`, identify and observe routes for any variences\n",
    "\n",
    "* https://github.com/cal-itp/data-analyses/issues/924"
   ]
  },
  {
   "cell_type": "code",
   "execution_count": 7,
   "id": "78a70c5e-a8fc-4644-b8d0-5bf4e2481cf7",
   "metadata": {},
   "outputs": [],
   "source": [
    "import geopandas as gpd\n",
    "import pandas as pd\n",
    "from calitp_data_analysis import geography_utils\n",
    "from shared_utils import rt_dates\n",
    "from calitp_data_analysis.tables import tbls\n",
    "from siuba import *\n",
    "import datetime"
   ]
  },
  {
   "cell_type": "code",
   "execution_count": 2,
   "id": "219f24e7-3030-4ddd-9614-1774100d39f9",
   "metadata": {},
   "outputs": [],
   "source": [
    "pd.options.display.max_columns = 100\n",
    "pd.options.display.float_format = \"{:.2f}\".format\n",
    "pd.set_option(\"display.max_rows\", None)\n",
    "pd.set_option(\"display.max_colwidth\", None)"
   ]
  },
  {
   "cell_type": "markdown",
   "id": "286039cd-3aee-4bc7-abc7-a75cca84d9f1",
   "metadata": {},
   "source": [
    "### Tables\n",
    "* https://dbt-docs.calitp.org/#!/source/source.calitp_warehouse.external_gtfs_schedule.routes"
   ]
  },
  {
   "cell_type": "code",
   "execution_count": 8,
   "id": "f3affc3e-335b-4e11-ae2e-1c7999d99feb",
   "metadata": {},
   "outputs": [],
   "source": [
    "analysis_date = datetime.date(2023, 11, 15)"
   ]
  },
  {
   "cell_type": "code",
   "execution_count": 10,
   "id": "9624a6cf-e37a-4fd7-b1be-290f97e663fc",
   "metadata": {},
   "outputs": [],
   "source": [
    "def external_gtfs(\n",
    "        date,\n",
    "    ) -> pd.DataFrame:    \n",
    "    \n",
    "        df = (tbls.external_gtfs_schedule.routes()\n",
    "              >> filter(_.dt == date)\n",
    "                  >> collect()\n",
    "             )\n",
    "        return df"
   ]
  },
  {
   "cell_type": "code",
   "execution_count": 11,
   "id": "1952861c-01f7-4fe0-9f8d-dda53a8743b8",
   "metadata": {
    "scrolled": true,
    "tags": []
   },
   "outputs": [],
   "source": [
    "route_info = external_gtfs(analysis_date)"
   ]
  },
  {
   "cell_type": "code",
   "execution_count": 13,
   "id": "04004e13-511b-4565-8ecf-c8e00f0e37d2",
   "metadata": {},
   "outputs": [
    {
     "data": {
      "text/html": [
       "<div>\n",
       "<style scoped>\n",
       "    .dataframe tbody tr th:only-of-type {\n",
       "        vertical-align: middle;\n",
       "    }\n",
       "\n",
       "    .dataframe tbody tr th {\n",
       "        vertical-align: top;\n",
       "    }\n",
       "\n",
       "    .dataframe thead th {\n",
       "        text-align: right;\n",
       "    }\n",
       "</style>\n",
       "<table border=\"1\" class=\"dataframe\">\n",
       "  <thead>\n",
       "    <tr style=\"text-align: right;\">\n",
       "      <th></th>\n",
       "      <th>_line_number</th>\n",
       "      <th>agency_id</th>\n",
       "      <th>route_id</th>\n",
       "      <th>route_short_name</th>\n",
       "      <th>route_long_name</th>\n",
       "      <th>route_desc</th>\n",
       "      <th>route_type</th>\n",
       "      <th>route_url</th>\n",
       "      <th>route_color</th>\n",
       "      <th>route_text_color</th>\n",
       "      <th>route_sort_order</th>\n",
       "      <th>continuous_pickup</th>\n",
       "      <th>continuous_drop_off</th>\n",
       "      <th>network_id</th>\n",
       "      <th>dt</th>\n",
       "      <th>ts</th>\n",
       "      <th>base64_url</th>\n",
       "    </tr>\n",
       "  </thead>\n",
       "  <tbody>\n",
       "    <tr>\n",
       "      <th>0</th>\n",
       "      <td>1</td>\n",
       "      <td>None</td>\n",
       "      <td>601</td>\n",
       "      <td>601</td>\n",
       "      <td>ROUTE 601</td>\n",
       "      <td>None</td>\n",
       "      <td>3</td>\n",
       "      <td>https://countyconnection.com/routes/601/</td>\n",
       "      <td>7a99ac</td>\n",
       "      <td>ffffff</td>\n",
       "      <td>None</td>\n",
       "      <td>None</td>\n",
       "      <td>None</td>\n",
       "      <td>None</td>\n",
       "      <td>2023-11-01</td>\n",
       "      <td>2023-11-01 03:00:27.975483+00:00</td>\n",
       "      <td>aHR0cDovL2NjY3RhLm9yZy9HVEZTL2dvb2dsZV90cmFuc2l0LnppcA==</td>\n",
       "    </tr>\n",
       "    <tr>\n",
       "      <th>1</th>\n",
       "      <td>2</td>\n",
       "      <td>None</td>\n",
       "      <td>602</td>\n",
       "      <td>602</td>\n",
       "      <td>ROUTE 602</td>\n",
       "      <td>None</td>\n",
       "      <td>3</td>\n",
       "      <td>https://countyconnection.com/routes/602/</td>\n",
       "      <td>7a99ac</td>\n",
       "      <td>ffffff</td>\n",
       "      <td>None</td>\n",
       "      <td>None</td>\n",
       "      <td>None</td>\n",
       "      <td>None</td>\n",
       "      <td>2023-11-01</td>\n",
       "      <td>2023-11-01 03:00:27.975483+00:00</td>\n",
       "      <td>aHR0cDovL2NjY3RhLm9yZy9HVEZTL2dvb2dsZV90cmFuc2l0LnppcA==</td>\n",
       "    </tr>\n",
       "    <tr>\n",
       "      <th>2</th>\n",
       "      <td>3</td>\n",
       "      <td>None</td>\n",
       "      <td>603</td>\n",
       "      <td>603</td>\n",
       "      <td>ROUTE 603</td>\n",
       "      <td>None</td>\n",
       "      <td>3</td>\n",
       "      <td>https://countyconnection.com/routes/603/</td>\n",
       "      <td>7a99ac</td>\n",
       "      <td>ffffff</td>\n",
       "      <td>None</td>\n",
       "      <td>None</td>\n",
       "      <td>None</td>\n",
       "      <td>None</td>\n",
       "      <td>2023-11-01</td>\n",
       "      <td>2023-11-01 03:00:27.975483+00:00</td>\n",
       "      <td>aHR0cDovL2NjY3RhLm9yZy9HVEZTL2dvb2dsZV90cmFuc2l0LnppcA==</td>\n",
       "    </tr>\n",
       "    <tr>\n",
       "      <th>3</th>\n",
       "      <td>4</td>\n",
       "      <td>None</td>\n",
       "      <td>605</td>\n",
       "      <td>605</td>\n",
       "      <td>ROUTE 605</td>\n",
       "      <td>None</td>\n",
       "      <td>3</td>\n",
       "      <td>https://countyconnection.com/routes/605/</td>\n",
       "      <td>7a99ac</td>\n",
       "      <td>ffffff</td>\n",
       "      <td>None</td>\n",
       "      <td>None</td>\n",
       "      <td>None</td>\n",
       "      <td>None</td>\n",
       "      <td>2023-11-01</td>\n",
       "      <td>2023-11-01 03:00:27.975483+00:00</td>\n",
       "      <td>aHR0cDovL2NjY3RhLm9yZy9HVEZTL2dvb2dsZV90cmFuc2l0LnppcA==</td>\n",
       "    </tr>\n",
       "    <tr>\n",
       "      <th>4</th>\n",
       "      <td>5</td>\n",
       "      <td>None</td>\n",
       "      <td>606</td>\n",
       "      <td>606</td>\n",
       "      <td>ROUTE 606</td>\n",
       "      <td>None</td>\n",
       "      <td>3</td>\n",
       "      <td>https://countyconnection.com/routes/606/</td>\n",
       "      <td>7a99ac</td>\n",
       "      <td>ffffff</td>\n",
       "      <td>None</td>\n",
       "      <td>None</td>\n",
       "      <td>None</td>\n",
       "      <td>None</td>\n",
       "      <td>2023-11-01</td>\n",
       "      <td>2023-11-01 03:00:27.975483+00:00</td>\n",
       "      <td>aHR0cDovL2NjY3RhLm9yZy9HVEZTL2dvb2dsZV90cmFuc2l0LnppcA==</td>\n",
       "    </tr>\n",
       "  </tbody>\n",
       "</table>\n",
       "</div>"
      ],
      "text/plain": [
       "   _line_number agency_id route_id route_short_name route_long_name  \\\n",
       "0             1      None      601              601       ROUTE 601   \n",
       "1             2      None      602              602       ROUTE 602   \n",
       "2             3      None      603              603       ROUTE 603   \n",
       "3             4      None      605              605       ROUTE 605   \n",
       "4             5      None      606              606       ROUTE 606   \n",
       "\n",
       "  route_desc route_type                                 route_url route_color  \\\n",
       "0       None          3  https://countyconnection.com/routes/601/      7a99ac   \n",
       "1       None          3  https://countyconnection.com/routes/602/      7a99ac   \n",
       "2       None          3  https://countyconnection.com/routes/603/      7a99ac   \n",
       "3       None          3  https://countyconnection.com/routes/605/      7a99ac   \n",
       "4       None          3  https://countyconnection.com/routes/606/      7a99ac   \n",
       "\n",
       "  route_text_color route_sort_order continuous_pickup continuous_drop_off  \\\n",
       "0           ffffff             None              None                None   \n",
       "1           ffffff             None              None                None   \n",
       "2           ffffff             None              None                None   \n",
       "3           ffffff             None              None                None   \n",
       "4           ffffff             None              None                None   \n",
       "\n",
       "  network_id          dt                               ts  \\\n",
       "0       None  2023-11-01 2023-11-01 03:00:27.975483+00:00   \n",
       "1       None  2023-11-01 2023-11-01 03:00:27.975483+00:00   \n",
       "2       None  2023-11-01 2023-11-01 03:00:27.975483+00:00   \n",
       "3       None  2023-11-01 2023-11-01 03:00:27.975483+00:00   \n",
       "4       None  2023-11-01 2023-11-01 03:00:27.975483+00:00   \n",
       "\n",
       "                                                 base64_url  \n",
       "0  aHR0cDovL2NjY3RhLm9yZy9HVEZTL2dvb2dsZV90cmFuc2l0LnppcA==  \n",
       "1  aHR0cDovL2NjY3RhLm9yZy9HVEZTL2dvb2dsZV90cmFuc2l0LnppcA==  \n",
       "2  aHR0cDovL2NjY3RhLm9yZy9HVEZTL2dvb2dsZV90cmFuc2l0LnppcA==  \n",
       "3  aHR0cDovL2NjY3RhLm9yZy9HVEZTL2dvb2dsZV90cmFuc2l0LnppcA==  \n",
       "4  aHR0cDovL2NjY3RhLm9yZy9HVEZTL2dvb2dsZV90cmFuc2l0LnppcA==  "
      ]
     },
     "execution_count": 13,
     "metadata": {},
     "output_type": "execute_result"
    }
   ],
   "source": [
    "route_info.head()"
   ]
  },
  {
   "cell_type": "code",
   "execution_count": null,
   "id": "a5319651-2fa7-43ed-8d93-67ffd4b22284",
   "metadata": {},
   "outputs": [],
   "source": [
    "gdf = gpd.read_parquet(\n",
    "    \"gs://calitp-analytics-data/data-analyses/gtfs_schedule/route_identification_2023_m04_m09.parquet\"\n",
    ")"
   ]
  },
  {
   "cell_type": "code",
   "execution_count": null,
   "id": "60f4ad75-1a5f-45bb-b19d-1460a2660d06",
   "metadata": {},
   "outputs": [],
   "source": [
    "gdf.shape"
   ]
  },
  {
   "cell_type": "code",
   "execution_count": null,
   "id": "3a7affe3-22ca-4bf2-8148-0c0f1932fd62",
   "metadata": {},
   "outputs": [],
   "source": [
    "gdf = gdf.drop(columns=[\"year\", \"key\"])"
   ]
  },
  {
   "cell_type": "code",
   "execution_count": null,
   "id": "c8aa908d-880b-4993-b821-eb5de8bc6476",
   "metadata": {},
   "outputs": [],
   "source": [
    "gdf.sample().drop(columns=[\"geometry\"])"
   ]
  },
  {
   "cell_type": "markdown",
   "id": "4543c2ca-fd1b-4693-83fc-59ad1b9f366a",
   "metadata": {},
   "source": [
    "### LA Metro Example\n",
    "\n"
   ]
  },
  {
   "cell_type": "code",
   "execution_count": null,
   "id": "e67529e0-e29e-40fb-9d09-b797eb84e724",
   "metadata": {},
   "outputs": [],
   "source": [
    "# gdf.name.unique()"
   ]
  },
  {
   "cell_type": "code",
   "execution_count": null,
   "id": "26ac850f-4849-4c5a-bf1a-497313d7f599",
   "metadata": {},
   "outputs": [],
   "source": [
    "la_metro = gdf.loc[gdf.name == \"LA Metro Bus Schedule\"].reset_index(drop=True)"
   ]
  },
  {
   "cell_type": "code",
   "execution_count": null,
   "id": "f5a8d4f2-3d6c-4ca9-8d3e-92f32c076664",
   "metadata": {},
   "outputs": [],
   "source": [
    "la_metro.shape"
   ]
  },
  {
   "cell_type": "code",
   "execution_count": null,
   "id": "27a4b63b-d682-48f1-bdfc-cbac2a92ea31",
   "metadata": {},
   "outputs": [],
   "source": [
    "la_metro.month.unique()"
   ]
  },
  {
   "cell_type": "code",
   "execution_count": null,
   "id": "b420b66b-dd06-4f4a-b9f0-761ffe09ef17",
   "metadata": {},
   "outputs": [],
   "source": [
    "# Compare each month\n",
    "# https://stackoverflow.com/questions/47769453/pandas-split-dataframe-to-multiple-by-unique-values-rows\n",
    "la_dfs = dict(tuple(la_metro.groupby(\"month\")))"
   ]
  },
  {
   "cell_type": "code",
   "execution_count": null,
   "id": "f8df5a9c-cfea-4ce5-b4ec-79a91448badd",
   "metadata": {},
   "outputs": [],
   "source": [
    "la_metro_df = la_metro.drop(columns=[\"geometry\"])"
   ]
  },
  {
   "cell_type": "code",
   "execution_count": null,
   "id": "2491a297-4257-4f12-a7cc-d9b42ade7b0b",
   "metadata": {},
   "outputs": [],
   "source": [
    "la_metro_summary = (\n",
    "    la_metro_df.groupby([\"route_id\"])\n",
    "    .agg({\"shape_id\": \"nunique\",\n",
    "         \"month\":\"nunique\"})\n",
    "    .sort_values([\"shape_id\"], ascending=False)\n",
    "    .reset_index()\n",
    "    .rename(columns = {'shape_id':'total_unique_shapes', 'month':'total_unique_months'})\n",
    ")"
   ]
  },
  {
   "cell_type": "code",
   "execution_count": null,
   "id": "004c62fd-0bbe-4c3e-a77b-e2e8f362138e",
   "metadata": {
    "tags": []
   },
   "outputs": [],
   "source": [
    "la_metro_summary.shape"
   ]
  },
  {
   "cell_type": "markdown",
   "id": "da7c4041-c8e0-48d2-93e7-16a8e0c30397",
   "metadata": {},
   "source": [
    "#### Can see that for the same route id there are 3 unique diffrent shape ids associated with it for 4 different months."
   ]
  },
  {
   "cell_type": "code",
   "execution_count": null,
   "id": "d624b1d5-f396-4904-a3f2-7046dceda881",
   "metadata": {},
   "outputs": [],
   "source": [
    "la_metro_summary.loc[la_metro_summary.total_unique_shapes > 1].shape"
   ]
  },
  {
   "cell_type": "code",
   "execution_count": null,
   "id": "c9dccd72-45e8-4510-8b28-9542c8c1ff77",
   "metadata": {
    "scrolled": true,
    "tags": []
   },
   "outputs": [],
   "source": [
    "la_metro_summary.loc[la_metro_summary.total_unique_shapes > 1]"
   ]
  },
  {
   "cell_type": "markdown",
   "id": "bf8ed98f-4119-4d15-b200-01730954c217",
   "metadata": {},
   "source": [
    "#### Evaluate each month using merges"
   ]
  },
  {
   "cell_type": "code",
   "execution_count": null,
   "id": "e089e67c-bd87-4c9c-842c-25c42fbf58db",
   "metadata": {},
   "outputs": [],
   "source": [
    "april = la_dfs[4]"
   ]
  },
  {
   "cell_type": "code",
   "execution_count": null,
   "id": "39b63c90-965f-470d-8885-f1eae699d5c6",
   "metadata": {},
   "outputs": [],
   "source": [
    "may = la_dfs[5]"
   ]
  },
  {
   "cell_type": "code",
   "execution_count": null,
   "id": "a613bf02-a938-4a6d-8d79-bc8b6ea91641",
   "metadata": {},
   "outputs": [],
   "source": [
    "june = la_dfs[6]"
   ]
  },
  {
   "cell_type": "code",
   "execution_count": null,
   "id": "5662283b-0b21-4ac4-8a85-e869ca8af564",
   "metadata": {},
   "outputs": [],
   "source": [
    "m1 = (\n",
    "    pd.merge(\n",
    "        april,\n",
    "        may,\n",
    "        on=[\"name\", \"source_record_id\", \"route_id\", \"shape_id\"],\n",
    "        how=\"outer\",\n",
    "        indicator=True,\n",
    "    )\n",
    "    .rename(columns={\"_merge\": \"april_v_may\"})\n",
    "    .drop(columns=[\"month_x\", \"month_y\"])\n",
    ")"
   ]
  },
  {
   "cell_type": "code",
   "execution_count": null,
   "id": "44d606d4-07c8-4755-a1c4-e4f16261c417",
   "metadata": {},
   "outputs": [],
   "source": [
    "preview = [\"source_record_id\", \"name\", \"route_id\", \"shape_id\", \"april_v_may\"]"
   ]
  },
  {
   "cell_type": "markdown",
   "id": "7c1642b3-a4e9-4fe1-bb69-05630b4c0788",
   "metadata": {},
   "source": [
    "* Can see the pattern again , route_id 901-13167 has a different shape_id in April vs May"
   ]
  },
  {
   "cell_type": "code",
   "execution_count": null,
   "id": "5418050c-8fab-4468-b9c6-6f9c2eee2398",
   "metadata": {},
   "outputs": [],
   "source": [
    "m1.loc[m1.april_v_may != \"both\"].shape"
   ]
  },
  {
   "cell_type": "code",
   "execution_count": null,
   "id": "f34e0a63-bcae-4baa-ba86-8344f550d478",
   "metadata": {},
   "outputs": [],
   "source": [
    "m1.shape"
   ]
  },
  {
   "cell_type": "code",
   "execution_count": null,
   "id": "8c6ba350-bcf8-44ec-95e1-c9ea9606d872",
   "metadata": {},
   "outputs": [],
   "source": [
    "m1.loc[m1.april_v_may != \"both\"][preview]"
   ]
  },
  {
   "cell_type": "markdown",
   "id": "5a3c4c30-e1e0-4d33-925e-89cb3a83c7ba",
   "metadata": {},
   "source": [
    "#### Eyeball the maps\n",
    "* 237-13167"
   ]
  },
  {
   "cell_type": "code",
   "execution_count": null,
   "id": "3e18c1d9-8c7f-45c9-b692-bc0317cbc9a9",
   "metadata": {},
   "outputs": [],
   "source": [
    "m1.loc[m1.april_v_may == \"left_only\"].set_geometry(\"geometry_x\").explore(\n",
    "    \"route_id\", style_kwds={\"weight\": 10}\n",
    ")"
   ]
  },
  {
   "cell_type": "code",
   "execution_count": null,
   "id": "5166c1ff-50c8-4e1d-9df2-097cea3598a5",
   "metadata": {},
   "outputs": [],
   "source": [
    "m1.loc[m1.april_v_may == \"right_only\"].set_geometry(\"geometry_y\").explore(\n",
    "    \"route_id\", style_kwds={\"weight\": 10}\n",
    ")"
   ]
  },
  {
   "cell_type": "markdown",
   "id": "4f818c01-86e6-486e-936c-75f1e80e3246",
   "metadata": {},
   "source": [
    "#### How to check if it's the same route under different names?\n",
    "* Change the CRS\n",
    "* Take the length for each month? "
   ]
  },
  {
   "cell_type": "code",
   "execution_count": null,
   "id": "af8c3f1b-be41-4a1a-a5ad-3c31c81f0cc5",
   "metadata": {},
   "outputs": [],
   "source": [
    "m1 = m1.set_geometry(\"geometry_x\").to_crs(geography_utils.CA_StatePlane)"
   ]
  },
  {
   "cell_type": "code",
   "execution_count": null,
   "id": "eb629c4f-6c30-47b5-b799-e6d6e27bc0eb",
   "metadata": {},
   "outputs": [],
   "source": [
    "m1[\"april_len\"] = m1.geometry_x.length"
   ]
  },
  {
   "cell_type": "code",
   "execution_count": null,
   "id": "ae60abe6-975e-4898-8a62-57f5be2a5a28",
   "metadata": {},
   "outputs": [],
   "source": [
    "m1 = m1.set_geometry(\"geometry_y\").to_crs(geography_utils.CA_StatePlane)"
   ]
  },
  {
   "cell_type": "code",
   "execution_count": null,
   "id": "a9d7df13-d37b-435d-a789-67951dc0ffe3",
   "metadata": {},
   "outputs": [],
   "source": [
    "m1[\"may_len\"] = m1.geometry_y.length"
   ]
  },
  {
   "cell_type": "code",
   "execution_count": null,
   "id": "ae4deee1-7d71-4a57-b25b-2a0340b91f0c",
   "metadata": {},
   "outputs": [],
   "source": [
    "may.shape, april.shape"
   ]
  },
  {
   "cell_type": "code",
   "execution_count": null,
   "id": "3bb3ce72-892c-4905-8e4a-91a97334089d",
   "metadata": {},
   "outputs": [],
   "source": [
    "group1 = (\n",
    "    m1.loc[m1.april_v_may != \"both\"]\n",
    "    .groupby(\n",
    "        [\n",
    "            \"route_id\",\n",
    "        ]\n",
    "    )\n",
    "    .agg({\"april_len\": \"max\", \"may_len\": \"max\"})\n",
    "    .reset_index()\n",
    ")"
   ]
  },
  {
   "cell_type": "code",
   "execution_count": null,
   "id": "5fed27af-3200-4bec-bdd8-57be91401aae",
   "metadata": {},
   "outputs": [],
   "source": [
    "group1['length_pct'] = (group1.april_len / group1.may_len * 100).astype('int64')"
   ]
  },
  {
   "cell_type": "code",
   "execution_count": null,
   "id": "48a4dbb9-c012-4df2-affe-513843447a8e",
   "metadata": {},
   "outputs": [],
   "source": [
    "group1['length'] = (group1.april_len - group1.may_len).astype('int64')"
   ]
  },
  {
   "cell_type": "code",
   "execution_count": null,
   "id": "1a034f50-7ffd-4dda-95b1-eb9e79665723",
   "metadata": {},
   "outputs": [],
   "source": [
    "group1"
   ]
  },
  {
   "cell_type": "markdown",
   "id": "058a47c4-e0f4-4950-8dd5-75a559ac5c4c",
   "metadata": {},
   "source": [
    "## To do\n",
    "* Find other examples that aren't LA Metro in which the route-id, description, shape-id, etc changed\n",
    "    * Can use various combinations of `groupby`\n",
    "* Compare all the months you've queried \n",
    "    * Can use `pd.merge` and turn on the indicator.\n",
    "    * Can also change the values of the indicator so it isn't just left_only/right_only/both\n",
    "* What's the threshold for the length to be considered the same route?\n",
    "    * Can also eyeball routes using `explore()`\n",
    "* Find steps that are repeated month after month and turn them into functions\n",
    "* Clean up string columns\n",
    "    * \"Route ABC\"  \"route abc\"  \"   Route abc\" and \"Route-ABC\" are all considered different strings.\n",
    "    * Make sure to do lstrip, rstrip, remove puncutation, and either lowercase/titlecase/uppercase for columns you want to compare, to make sure the same string presented in different formats are as uniform as possible. "
   ]
  }
 ],
 "metadata": {
  "kernelspec": {
   "display_name": "Python 3 (ipykernel)",
   "language": "python",
   "name": "python3"
  },
  "language_info": {
   "codemirror_mode": {
    "name": "ipython",
    "version": 3
   },
   "file_extension": ".py",
   "mimetype": "text/x-python",
   "name": "python",
   "nbconvert_exporter": "python",
   "pygments_lexer": "ipython3",
   "version": "3.9.13"
  }
 },
 "nbformat": 4,
 "nbformat_minor": 5
}
