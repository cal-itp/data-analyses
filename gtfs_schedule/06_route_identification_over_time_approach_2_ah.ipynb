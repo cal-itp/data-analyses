{
 "cells": [
  {
   "cell_type": "markdown",
   "id": "8b7804a6-16e9-4991-abfd-9574544e0d60",
   "metadata": {},
   "source": [
    "# Route Identification Over Time, Approach 2\n",
    "See `05_route_identification_over_time.ipynb` for previous work.\n",
    "<br>Determined that more data is needed than what is given from `fct_monthly_routes`. exploring data from `helpers.import_scheduled_trips` to get feed_key, route short/long name/id/desc and other. \n",
    "<br>Cannot rely on feed_key as it is unstable over time. Next best is gtfs_schedule key, but absolute best is source_record_id.\n",
    "<br>Start with running `make install_env` to install everything needed. `helpers`,`rt_dates`,`sched_gcs`\n",
    "<br>Query data from warehouse, then use this snippet from `make_routes_gdf` from `_shared_utils/shared_utils/geography_utils.py`.\n",
    "* ddf[\"geometry\"] = ddf.pt_array.apply(make_linestring)\n",
    "    \n",
    "<br> then save out as geo parquet to the `gtfs_schedule` folder in GCS (so versioning and history stays) using \n",
    "* utils.geoparquet_gcs_export(\n",
    "                vp_gdf,\n",
    "                SEGMENT_GCS,\n",
    "                f\"vp_{analysis_date}\"\n",
    "            )\n",
    "\n",
    "<br>also add `route_long_name` to query. then see if we are able to see any changes in routes via:\n",
    "* feed key\n",
    "* name\n",
    "* route id\n",
    "* route short name\n",
    "* route long name\n",
    "* route desc\n",
    "    "
   ]
  },
  {
   "cell_type": "code",
   "execution_count": 30,
   "id": "19f7db52-cba6-4c37-8b84-c23ee26d3ed0",
   "metadata": {},
   "outputs": [],
   "source": [
    "import pandas as pd\n",
    "#rt_segment_speeds/segment_speed_utils\n",
    "from segment_speed_utils import helpers\n",
    "\n",
    "#rt_segment_speeds/segment_speed_utils/project_vars.py\n",
    "from segment_speed_utils.project_vars import SCHED_GCS, COMPILED_CACHED_VIEWS\n",
    "\n",
    "#_shared_utils/shared_utils/rt_dates.py\n",
    "from shared_utils import rt_dates\n",
    "\n",
    "import geopandas as gpd\n"
   ]
  },
  {
   "cell_type": "code",
   "execution_count": 2,
   "id": "e58b7202-e43e-443e-ab1a-c3cd16b65d33",
   "metadata": {},
   "outputs": [],
   "source": [
    "sep_date = rt_dates.DATES[\"sep2023\"]\n",
    "aug_date = rt_dates.DATES[\"aug2023\"]\n",
    "\n",
    "# grabbing additional dates\n",
    "april_date = rt_dates.DATES[\"apr2023\"]\n",
    "may_date = rt_dates.DATES[\"may2023\"]\n",
    "june_date = rt_dates.DATES[\"jun2023\"]\n",
    "july_date = rt_dates.DATES[\"jul2023\"]"
   ]
  },
  {
   "cell_type": "code",
   "execution_count": 20,
   "id": "4936c7bd-9acf-4b22-84a2-3f32b85e6d6d",
   "metadata": {},
   "outputs": [
    {
     "data": {
      "text/plain": [
       "'2023-05-17'"
      ]
     },
     "execution_count": 20,
     "metadata": {},
     "output_type": "execute_result"
    }
   ],
   "source": [
    "may_date"
   ]
  },
  {
   "cell_type": "code",
   "execution_count": 3,
   "id": "b1d9e303-fa2f-4039-9eb8-4e3a0037db21",
   "metadata": {},
   "outputs": [],
   "source": [
    "# list of all the months\n",
    "months_list = [sep_date, aug_date, april_date, may_date, june_date, july_date]"
   ]
  },
  {
   "cell_type": "code",
   "execution_count": 17,
   "id": "369fee0c-b29c-4512-bab3-1b5f8d3239cb",
   "metadata": {},
   "outputs": [
    {
     "data": {
      "text/plain": [
       "['2023-09-13',\n",
       " '2023-08-15',\n",
       " '2023-04-12',\n",
       " '2023-05-17',\n",
       " '2023-06-14',\n",
       " '2023-07-12']"
      ]
     },
     "execution_count": 17,
     "metadata": {},
     "output_type": "execute_result"
    }
   ],
   "source": [
    "months_list"
   ]
  },
  {
   "cell_type": "code",
   "execution_count": 4,
   "id": "ead3240f-e98d-4916-90ea-1c16b9d3a644",
   "metadata": {},
   "outputs": [],
   "source": [
    "# test loop of import_scheduled_trips, iterated through months_list\n",
    "\n",
    "# empty list\n",
    "month_trips = {}\n",
    "\n",
    "for months in months_list:\n",
    "    df = helpers.import_scheduled_trips(\n",
    "        months,\n",
    "        columns=[\n",
    "            \"feed_key\",\n",
    "            \"name\",\n",
    "            \"gtfs_dataset_key\",\n",
    "            \"route_id\",\n",
    "            \"route_short_name\",\n",
    "            \"route_long_name\",\n",
    "            \"route_desc\",\n",
    "        ],\n",
    "        filters=[[(\"name\", \"==\", \"Sacramento Schedule\")]],\n",
    "        get_pandas=True,\n",
    "    )\n",
    "    month_trips[months] = df"
   ]
  },
  {
   "cell_type": "code",
   "execution_count": 22,
   "id": "9da54863-2f61-4b81-a9be-8a68eda1e76e",
   "metadata": {},
   "outputs": [
    {
     "data": {
      "text/plain": [
       "'gs://calitp-analytics-data/data-analyses/rt_delay/compiled_cached_views/'"
      ]
     },
     "execution_count": 22,
     "metadata": {},
     "output_type": "execute_result"
    }
   ],
   "source": [
    "COMPILED_CACHED_VIEWS"
   ]
  },
  {
   "cell_type": "code",
   "execution_count": 24,
   "id": "9ec0a057-683e-4a65-a4a5-f362af005a84",
   "metadata": {},
   "outputs": [],
   "source": []
  },
  {
   "cell_type": "code",
   "execution_count": 25,
   "id": "83b99792-9654-47b3-8760-03f4b99f06df",
   "metadata": {},
   "outputs": [],
   "source": []
  },
  {
   "cell_type": "code",
   "execution_count": 27,
   "id": "5199f11b-172a-4cac-8a2b-3010c7332dcb",
   "metadata": {},
   "outputs": [
    {
     "data": {
      "text/plain": [
       "Index(['feed_key', 'gtfs_dataset_key', 'name', 'regional_feed_type',\n",
       "       'service_date', 'trip_start_date_pacific', 'trip_id',\n",
       "       'trip_instance_key', 'route_key', 'route_id', 'route_type',\n",
       "       'route_short_name', 'route_long_name', 'route_desc', 'direction_id',\n",
       "       'shape_array_key', 'shape_id', 'trip_first_departure_datetime_pacific',\n",
       "       'trip_last_arrival_datetime_pacific', 'service_hours',\n",
       "       'trip_start_date_local_tz', 'trip_first_departure_datetime_local_tz',\n",
       "       'trip_last_arrival_datetime_local_tz'],\n",
       "      dtype='object')"
      ]
     },
     "execution_count": 27,
     "metadata": {},
     "output_type": "execute_result"
    }
   ],
   "source": []
  },
  {
   "cell_type": "code",
   "execution_count": 5,
   "id": "52e07e41-41ee-4bdd-9fc7-bb4244f55e0d",
   "metadata": {},
   "outputs": [
    {
     "data": {
      "text/plain": [
       "dict_keys(['2023-09-13', '2023-08-15', '2023-04-12', '2023-05-17', '2023-06-14', '2023-07-12'])"
      ]
     },
     "execution_count": 5,
     "metadata": {},
     "output_type": "execute_result"
    }
   ],
   "source": [
    "month_trips.keys()"
   ]
  },
  {
   "cell_type": "code",
   "execution_count": 6,
   "id": "b85dade9-90c2-470f-a737-88772dabeaf9",
   "metadata": {},
   "outputs": [],
   "source": [
    "april = month_trips['2023-04-12'].assign(month='april')\n",
    "may = month_trips['2023-05-17'].assign(month='may')\n",
    "june = month_trips['2023-06-14'].assign(month='june')\n",
    "july = month_trips['2023-07-12'].assign(month='july')\n",
    "aug = month_trips['2023-08-15'].assign(month='aug')\n",
    "sep = month_trips['2023-09-13'].assign(month='sep')"
   ]
  },
  {
   "cell_type": "code",
   "execution_count": null,
   "id": "73cf738d-fe22-4126-9f79-c145d64a1097",
   "metadata": {},
   "outputs": [],
   "source": []
  },
  {
   "cell_type": "code",
   "execution_count": 7,
   "id": "80cc82e3-f0d0-475a-96a9-d6a87d30a6cd",
   "metadata": {},
   "outputs": [],
   "source": [
    "# use this pseudo code to concat all the different months data\n",
    "# pd.concat can stack DFs on top of others.\n",
    "# pd.concat([df1, df2], axis=0)"
   ]
  },
  {
   "cell_type": "code",
   "execution_count": 8,
   "id": "9c7ea7ad-8069-4c06-b44b-935617dfba4e",
   "metadata": {},
   "outputs": [],
   "source": [
    "#test to see if i can use a dictionary in concat\n",
    "all_trips = pd.concat([april,may,june,july,aug,sep],axis=0)"
   ]
  },
  {
   "cell_type": "code",
   "execution_count": 9,
   "id": "12c9888a-b2ee-4dd7-9b15-a871365eb3ad",
   "metadata": {},
   "outputs": [
    {
     "data": {
      "text/plain": [
       "(326, 8)"
      ]
     },
     "execution_count": 9,
     "metadata": {},
     "output_type": "execute_result"
    }
   ],
   "source": [
    "all_trips.shape"
   ]
  },
  {
   "cell_type": "code",
   "execution_count": 18,
   "id": "71be2e14-7a49-4703-8462-b5807d795661",
   "metadata": {},
   "outputs": [
    {
     "data": {
      "text/html": [
       "<div>\n",
       "<style scoped>\n",
       "    .dataframe tbody tr th:only-of-type {\n",
       "        vertical-align: middle;\n",
       "    }\n",
       "\n",
       "    .dataframe tbody tr th {\n",
       "        vertical-align: top;\n",
       "    }\n",
       "\n",
       "    .dataframe thead th {\n",
       "        text-align: right;\n",
       "    }\n",
       "</style>\n",
       "<table border=\"1\" class=\"dataframe\">\n",
       "  <thead>\n",
       "    <tr style=\"text-align: right;\">\n",
       "      <th></th>\n",
       "      <th>feed_key</th>\n",
       "      <th>name</th>\n",
       "      <th>schedule_gtfs_dataset_key</th>\n",
       "      <th>route_id</th>\n",
       "      <th>route_short_name</th>\n",
       "      <th>route_long_name</th>\n",
       "      <th>route_desc</th>\n",
       "      <th>month</th>\n",
       "    </tr>\n",
       "  </thead>\n",
       "  <tbody>\n",
       "    <tr>\n",
       "      <th>0</th>\n",
       "      <td>55c36112e9a6a849c0ddc65eb54de7f1</td>\n",
       "      <td>Sacramento Schedule</td>\n",
       "      <td>43a1e46d592a1ee647bce8422c68460c</td>\n",
       "      <td>001</td>\n",
       "      <td>1</td>\n",
       "      <td>GREENBACK</td>\n",
       "      <td>None</td>\n",
       "      <td>april</td>\n",
       "    </tr>\n",
       "    <tr>\n",
       "      <th>1</th>\n",
       "      <td>55c36112e9a6a849c0ddc65eb54de7f1</td>\n",
       "      <td>Sacramento Schedule</td>\n",
       "      <td>43a1e46d592a1ee647bce8422c68460c</td>\n",
       "      <td>011</td>\n",
       "      <td>11</td>\n",
       "      <td>NATOMAS/LAND PARK</td>\n",
       "      <td>None</td>\n",
       "      <td>april</td>\n",
       "    </tr>\n",
       "    <tr>\n",
       "      <th>2</th>\n",
       "      <td>55c36112e9a6a849c0ddc65eb54de7f1</td>\n",
       "      <td>Sacramento Schedule</td>\n",
       "      <td>43a1e46d592a1ee647bce8422c68460c</td>\n",
       "      <td>013</td>\n",
       "      <td>13</td>\n",
       "      <td>NATOMAS/ARDEN</td>\n",
       "      <td>None</td>\n",
       "      <td>april</td>\n",
       "    </tr>\n",
       "    <tr>\n",
       "      <th>3</th>\n",
       "      <td>55c36112e9a6a849c0ddc65eb54de7f1</td>\n",
       "      <td>Sacramento Schedule</td>\n",
       "      <td>43a1e46d592a1ee647bce8422c68460c</td>\n",
       "      <td>015</td>\n",
       "      <td>15</td>\n",
       "      <td>DEL PASO HEIGHTS</td>\n",
       "      <td>None</td>\n",
       "      <td>april</td>\n",
       "    </tr>\n",
       "    <tr>\n",
       "      <th>4</th>\n",
       "      <td>55c36112e9a6a849c0ddc65eb54de7f1</td>\n",
       "      <td>Sacramento Schedule</td>\n",
       "      <td>43a1e46d592a1ee647bce8422c68460c</td>\n",
       "      <td>019</td>\n",
       "      <td>19</td>\n",
       "      <td>RIO LINDA</td>\n",
       "      <td>None</td>\n",
       "      <td>april</td>\n",
       "    </tr>\n",
       "  </tbody>\n",
       "</table>\n",
       "</div>"
      ],
      "text/plain": [
       "                           feed_key                 name  \\\n",
       "0  55c36112e9a6a849c0ddc65eb54de7f1  Sacramento Schedule   \n",
       "1  55c36112e9a6a849c0ddc65eb54de7f1  Sacramento Schedule   \n",
       "2  55c36112e9a6a849c0ddc65eb54de7f1  Sacramento Schedule   \n",
       "3  55c36112e9a6a849c0ddc65eb54de7f1  Sacramento Schedule   \n",
       "4  55c36112e9a6a849c0ddc65eb54de7f1  Sacramento Schedule   \n",
       "\n",
       "          schedule_gtfs_dataset_key route_id route_short_name  \\\n",
       "0  43a1e46d592a1ee647bce8422c68460c      001                1   \n",
       "1  43a1e46d592a1ee647bce8422c68460c      011               11   \n",
       "2  43a1e46d592a1ee647bce8422c68460c      013               13   \n",
       "3  43a1e46d592a1ee647bce8422c68460c      015               15   \n",
       "4  43a1e46d592a1ee647bce8422c68460c      019               19   \n",
       "\n",
       "     route_long_name route_desc  month  \n",
       "0          GREENBACK       None  april  \n",
       "1  NATOMAS/LAND PARK       None  april  \n",
       "2      NATOMAS/ARDEN       None  april  \n",
       "3   DEL PASO HEIGHTS       None  april  \n",
       "4          RIO LINDA       None  april  "
      ]
     },
     "execution_count": 18,
     "metadata": {},
     "output_type": "execute_result"
    }
   ],
   "source": [
    "all_trips.head()"
   ]
  },
  {
   "cell_type": "code",
   "execution_count": 10,
   "id": "b1029f70-fba9-4896-83ca-19f4397a444a",
   "metadata": {},
   "outputs": [
    {
     "data": {
      "text/plain": [
       "55c36112e9a6a849c0ddc65eb54de7f1    130\n",
       "e91cfff58ee7410589d8bf9940ed1c41    130\n",
       "294252b3b4b42fbb31a31ce184fcb3f5     66\n",
       "Name: feed_key, dtype: int64"
      ]
     },
     "execution_count": 10,
     "metadata": {},
     "output_type": "execute_result"
    }
   ],
   "source": [
    "# 3 unique feed keys\n",
    "all_trips.feed_key.value_counts()"
   ]
  },
  {
   "cell_type": "code",
   "execution_count": 11,
   "id": "24bc34e5-1676-4972-a9a9-414b93d9e127",
   "metadata": {},
   "outputs": [
    {
     "data": {
      "text/plain": [
       "43a1e46d592a1ee647bce8422c68460c    260\n",
       "cb3074eb8b423dfc5acfeeb0de95eb82     66\n",
       "Name: schedule_gtfs_dataset_key, dtype: int64"
      ]
     },
     "execution_count": 11,
     "metadata": {},
     "output_type": "execute_result"
    }
   ],
   "source": [
    "# 2 unique gtfs dataset keys, as opposed to 3 unique feed keys\n",
    "all_trips.schedule_gtfs_dataset_key.value_counts()"
   ]
  },
  {
   "cell_type": "code",
   "execution_count": 12,
   "id": "12ce9d07-cd34-499e-b365-3ffeeb27e018",
   "metadata": {},
   "outputs": [
    {
     "data": {
      "text/plain": [
       "001    5\n",
       "011    5\n",
       "138    5\n",
       "142    5\n",
       "161    5\n",
       "      ..\n",
       "078    5\n",
       "075    5\n",
       "F10    4\n",
       "10     1\n",
       "137    1\n",
       "Name: route_id, Length: 67, dtype: int64"
      ]
     },
     "execution_count": 12,
     "metadata": {},
     "output_type": "execute_result"
    }
   ],
   "source": [
    "#expect to see 5 instances of each route id (1 for each month, except june). but some routes only happen 1 time? route 10 and 137\n",
    "all_trips.route_id.value_counts()"
   ]
  },
  {
   "cell_type": "code",
   "execution_count": 13,
   "id": "3825ac8a-919e-4eea-b95e-967463b18a18",
   "metadata": {},
   "outputs": [
    {
     "data": {
      "text/plain": [
       "30     10\n",
       "1       5\n",
       "228     5\n",
       "138     5\n",
       "142     5\n",
       "       ..\n",
       "78      5\n",
       "75      5\n",
       "F10     4\n",
       "10      1\n",
       "137     1\n",
       "Name: route_short_name, Length: 66, dtype: int64"
      ]
     },
     "execution_count": 13,
     "metadata": {},
     "output_type": "execute_result"
    }
   ],
   "source": [
    "#similar results with route short name\n",
    "all_trips.route_short_name.value_counts()"
   ]
  },
  {
   "cell_type": "code",
   "execution_count": 14,
   "id": "ec9c81a9-9740-4fe9-af66-bb6641ba268d",
   "metadata": {},
   "outputs": [
    {
     "data": {
      "text/html": [
       "<div>\n",
       "<style scoped>\n",
       "    .dataframe tbody tr th:only-of-type {\n",
       "        vertical-align: middle;\n",
       "    }\n",
       "\n",
       "    .dataframe tbody tr th {\n",
       "        vertical-align: top;\n",
       "    }\n",
       "\n",
       "    .dataframe thead th {\n",
       "        text-align: right;\n",
       "    }\n",
       "</style>\n",
       "<table border=\"1\" class=\"dataframe\">\n",
       "  <thead>\n",
       "    <tr style=\"text-align: right;\">\n",
       "      <th></th>\n",
       "      <th>feed_key</th>\n",
       "      <th>name</th>\n",
       "      <th>schedule_gtfs_dataset_key</th>\n",
       "      <th>route_id</th>\n",
       "      <th>route_short_name</th>\n",
       "      <th>route_long_name</th>\n",
       "      <th>route_desc</th>\n",
       "      <th>month</th>\n",
       "    </tr>\n",
       "  </thead>\n",
       "  <tbody>\n",
       "    <tr>\n",
       "      <th>54</th>\n",
       "      <td>294252b3b4b42fbb31a31ce184fcb3f5</td>\n",
       "      <td>Sacramento Schedule</td>\n",
       "      <td>cb3074eb8b423dfc5acfeeb0de95eb82</td>\n",
       "      <td>10</td>\n",
       "      <td>10</td>\n",
       "      <td>FSL Route 10</td>\n",
       "      <td>None</td>\n",
       "      <td>sep</td>\n",
       "    </tr>\n",
       "  </tbody>\n",
       "</table>\n",
       "</div>"
      ],
      "text/plain": [
       "                            feed_key                 name  \\\n",
       "54  294252b3b4b42fbb31a31ce184fcb3f5  Sacramento Schedule   \n",
       "\n",
       "           schedule_gtfs_dataset_key route_id route_short_name  \\\n",
       "54  cb3074eb8b423dfc5acfeeb0de95eb82       10               10   \n",
       "\n",
       "   route_long_name route_desc month  \n",
       "54    FSL Route 10       None   sep  "
      ]
     },
     "metadata": {},
     "output_type": "display_data"
    },
    {
     "data": {
      "text/html": [
       "<div>\n",
       "<style scoped>\n",
       "    .dataframe tbody tr th:only-of-type {\n",
       "        vertical-align: middle;\n",
       "    }\n",
       "\n",
       "    .dataframe tbody tr th {\n",
       "        vertical-align: top;\n",
       "    }\n",
       "\n",
       "    .dataframe thead th {\n",
       "        text-align: right;\n",
       "    }\n",
       "</style>\n",
       "<table border=\"1\" class=\"dataframe\">\n",
       "  <thead>\n",
       "    <tr style=\"text-align: right;\">\n",
       "      <th></th>\n",
       "      <th>feed_key</th>\n",
       "      <th>name</th>\n",
       "      <th>schedule_gtfs_dataset_key</th>\n",
       "      <th>route_id</th>\n",
       "      <th>route_short_name</th>\n",
       "      <th>route_long_name</th>\n",
       "      <th>route_desc</th>\n",
       "      <th>month</th>\n",
       "    </tr>\n",
       "  </thead>\n",
       "  <tbody>\n",
       "    <tr>\n",
       "      <th>56</th>\n",
       "      <td>294252b3b4b42fbb31a31ce184fcb3f5</td>\n",
       "      <td>Sacramento Schedule</td>\n",
       "      <td>cb3074eb8b423dfc5acfeeb0de95eb82</td>\n",
       "      <td>137</td>\n",
       "      <td>137</td>\n",
       "      <td>UCDMC</td>\n",
       "      <td>None</td>\n",
       "      <td>sep</td>\n",
       "    </tr>\n",
       "  </tbody>\n",
       "</table>\n",
       "</div>"
      ],
      "text/plain": [
       "                            feed_key                 name  \\\n",
       "56  294252b3b4b42fbb31a31ce184fcb3f5  Sacramento Schedule   \n",
       "\n",
       "           schedule_gtfs_dataset_key route_id route_short_name  \\\n",
       "56  cb3074eb8b423dfc5acfeeb0de95eb82      137              137   \n",
       "\n",
       "   route_long_name route_desc month  \n",
       "56           UCDMC       None   sep  "
      ]
     },
     "metadata": {},
     "output_type": "display_data"
    }
   ],
   "source": [
    "#further investigation of route 10 and 137, see what their rows say\n",
    "#only 1 row for each of these routes, both occuring in september\n",
    "display(all_trips[all_trips['route_id']=='10'])\n",
    "display(all_trips[all_trips['route_id']=='137'])"
   ]
  },
  {
   "cell_type": "code",
   "execution_count": 15,
   "id": "4dd4889a-2914-42e5-a455-afed68bd4edf",
   "metadata": {},
   "outputs": [
    {
     "data": {
      "text/html": [
       "<div>\n",
       "<style scoped>\n",
       "    .dataframe tbody tr th:only-of-type {\n",
       "        vertical-align: middle;\n",
       "    }\n",
       "\n",
       "    .dataframe tbody tr th {\n",
       "        vertical-align: top;\n",
       "    }\n",
       "\n",
       "    .dataframe thead th {\n",
       "        text-align: right;\n",
       "    }\n",
       "</style>\n",
       "<table border=\"1\" class=\"dataframe\">\n",
       "  <thead>\n",
       "    <tr style=\"text-align: right;\">\n",
       "      <th></th>\n",
       "      <th>feed_key</th>\n",
       "      <th>name</th>\n",
       "      <th>schedule_gtfs_dataset_key</th>\n",
       "      <th>route_id</th>\n",
       "      <th>route_short_name</th>\n",
       "      <th>route_long_name</th>\n",
       "      <th>route_desc</th>\n",
       "      <th>month</th>\n",
       "    </tr>\n",
       "  </thead>\n",
       "  <tbody>\n",
       "    <tr>\n",
       "      <th>57</th>\n",
       "      <td>55c36112e9a6a849c0ddc65eb54de7f1</td>\n",
       "      <td>Sacramento Schedule</td>\n",
       "      <td>43a1e46d592a1ee647bce8422c68460c</td>\n",
       "      <td>F10</td>\n",
       "      <td>F10</td>\n",
       "      <td>FSL Route 10</td>\n",
       "      <td>None</td>\n",
       "      <td>april</td>\n",
       "    </tr>\n",
       "    <tr>\n",
       "      <th>60</th>\n",
       "      <td>55c36112e9a6a849c0ddc65eb54de7f1</td>\n",
       "      <td>Sacramento Schedule</td>\n",
       "      <td>43a1e46d592a1ee647bce8422c68460c</td>\n",
       "      <td>F10</td>\n",
       "      <td>F10</td>\n",
       "      <td>FSL Route 10</td>\n",
       "      <td>None</td>\n",
       "      <td>may</td>\n",
       "    </tr>\n",
       "    <tr>\n",
       "      <th>58</th>\n",
       "      <td>e91cfff58ee7410589d8bf9940ed1c41</td>\n",
       "      <td>Sacramento Schedule</td>\n",
       "      <td>43a1e46d592a1ee647bce8422c68460c</td>\n",
       "      <td>F10</td>\n",
       "      <td>F10</td>\n",
       "      <td>FSL Route 10</td>\n",
       "      <td>None</td>\n",
       "      <td>july</td>\n",
       "    </tr>\n",
       "    <tr>\n",
       "      <th>57</th>\n",
       "      <td>e91cfff58ee7410589d8bf9940ed1c41</td>\n",
       "      <td>Sacramento Schedule</td>\n",
       "      <td>43a1e46d592a1ee647bce8422c68460c</td>\n",
       "      <td>F10</td>\n",
       "      <td>F10</td>\n",
       "      <td>FSL Route 10</td>\n",
       "      <td>None</td>\n",
       "      <td>aug</td>\n",
       "    </tr>\n",
       "  </tbody>\n",
       "</table>\n",
       "</div>"
      ],
      "text/plain": [
       "                            feed_key                 name  \\\n",
       "57  55c36112e9a6a849c0ddc65eb54de7f1  Sacramento Schedule   \n",
       "60  55c36112e9a6a849c0ddc65eb54de7f1  Sacramento Schedule   \n",
       "58  e91cfff58ee7410589d8bf9940ed1c41  Sacramento Schedule   \n",
       "57  e91cfff58ee7410589d8bf9940ed1c41  Sacramento Schedule   \n",
       "\n",
       "           schedule_gtfs_dataset_key route_id route_short_name  \\\n",
       "57  43a1e46d592a1ee647bce8422c68460c      F10              F10   \n",
       "60  43a1e46d592a1ee647bce8422c68460c      F10              F10   \n",
       "58  43a1e46d592a1ee647bce8422c68460c      F10              F10   \n",
       "57  43a1e46d592a1ee647bce8422c68460c      F10              F10   \n",
       "\n",
       "   route_long_name route_desc  month  \n",
       "57    FSL Route 10       None  april  \n",
       "60    FSL Route 10       None    may  \n",
       "58    FSL Route 10       None   july  \n",
       "57    FSL Route 10       None    aug  "
      ]
     },
     "execution_count": 15,
     "metadata": {},
     "output_type": "execute_result"
    }
   ],
   "source": [
    "#other routes return multiple rows as expected. \n",
    "all_trips[all_trips['route_id']=='F10']"
   ]
  },
  {
   "cell_type": "code",
   "execution_count": 16,
   "id": "088278a4-7ee2-45fb-8e3e-4dd924c11c6b",
   "metadata": {},
   "outputs": [],
   "source": [
    "#would like shape Id and pt array from previous approach, but need a join to make this work\n",
    "#seek out preliminary joins via metabase\n"
   ]
  },
  {
   "cell_type": "markdown",
   "id": "c1ae87a6-82d4-4896-904c-128106299eef",
   "metadata": {},
   "source": [
    "## Amanda's Stuff"
   ]
  },
  {
   "cell_type": "code",
   "execution_count": 42,
   "id": "d0a2eb7c-0b45-4172-9cbc-b1856f35e728",
   "metadata": {},
   "outputs": [],
   "source": [
    "from calitp_data_analysis.tables import tbls\n",
    "from calitp_data_analysis import utils\n",
    "from siuba import *\n"
   ]
  },
  {
   "cell_type": "code",
   "execution_count": 87,
   "id": "7bc41c6c-b3bb-4b38-8677-796d2d0ba835",
   "metadata": {},
   "outputs": [
    {
     "data": {
      "text/plain": [
       "Index(['feed_key', 'name', 'schedule_gtfs_dataset_key', 'route_id',\n",
       "       'route_short_name', 'route_long_name', 'route_desc', 'month'],\n",
       "      dtype='object')"
      ]
     },
     "execution_count": 87,
     "metadata": {},
     "output_type": "execute_result"
    }
   ],
   "source": [
    "all_trips.columns"
   ]
  },
  {
   "cell_type": "code",
   "execution_count": 31,
   "id": "35e024c0-32e9-434b-bb99-c0d3cb402628",
   "metadata": {},
   "outputs": [],
   "source": [
    "aprl_sept_2023_routes = gpd.read_parquet(\"gs://calitp-analytics-data/data-analyses/gtfs_schedule/route_identification_2023_m04_m09.parquet\")"
   ]
  },
  {
   "cell_type": "code",
   "execution_count": 33,
   "id": "0364fe20-5698-4b88-9d39-2cef4bdf80e1",
   "metadata": {},
   "outputs": [],
   "source": [
    "sac = aprl_sept_2023_routes[aprl_sept_2023_routes['name'] == 'Sacramento Schedule']"
   ]
  },
  {
   "cell_type": "code",
   "execution_count": 34,
   "id": "2b45dd6b-720b-4073-a84f-e4482d1a339a",
   "metadata": {},
   "outputs": [
    {
     "data": {
      "text/html": [
       "<div>\n",
       "<style scoped>\n",
       "    .dataframe tbody tr th:only-of-type {\n",
       "        vertical-align: middle;\n",
       "    }\n",
       "\n",
       "    .dataframe tbody tr th {\n",
       "        vertical-align: top;\n",
       "    }\n",
       "\n",
       "    .dataframe thead th {\n",
       "        text-align: right;\n",
       "    }\n",
       "</style>\n",
       "<table border=\"1\" class=\"dataframe\">\n",
       "  <thead>\n",
       "    <tr style=\"text-align: right;\">\n",
       "      <th></th>\n",
       "      <th>key</th>\n",
       "      <th>source_record_id</th>\n",
       "      <th>name</th>\n",
       "      <th>route_id</th>\n",
       "      <th>shape_id</th>\n",
       "      <th>month</th>\n",
       "      <th>year</th>\n",
       "      <th>geometry</th>\n",
       "    </tr>\n",
       "  </thead>\n",
       "  <tbody>\n",
       "    <tr>\n",
       "      <th>618</th>\n",
       "      <td>dc9448ee3e4039db4fa5a482b7f69aef</td>\n",
       "      <td>recbzZQUIdMmFvm1r</td>\n",
       "      <td>Sacramento Schedule</td>\n",
       "      <td>011</td>\n",
       "      <td>45888</td>\n",
       "      <td>8</td>\n",
       "      <td>2023</td>\n",
       "      <td>None</td>\n",
       "    </tr>\n",
       "  </tbody>\n",
       "</table>\n",
       "</div>"
      ],
      "text/plain": [
       "                                  key   source_record_id                 name  \\\n",
       "618  dc9448ee3e4039db4fa5a482b7f69aef  recbzZQUIdMmFvm1r  Sacramento Schedule   \n",
       "\n",
       "    route_id shape_id  month  year geometry  \n",
       "618      011    45888      8  2023     None  "
      ]
     },
     "execution_count": 34,
     "metadata": {},
     "output_type": "execute_result"
    }
   ],
   "source": [
    "sac.sample()"
   ]
  },
  {
   "cell_type": "code",
   "execution_count": 76,
   "id": "e77ec508-839c-428a-b396-cd9e2e214477",
   "metadata": {},
   "outputs": [
    {
     "data": {
      "text/plain": [
       "(393, 8)"
      ]
     },
     "execution_count": 76,
     "metadata": {},
     "output_type": "execute_result"
    }
   ],
   "source": [
    "sac.shape"
   ]
  },
  {
   "cell_type": "code",
   "execution_count": 35,
   "id": "3bf2f67b-f91e-4290-8510-48229bafaf1a",
   "metadata": {},
   "outputs": [
    {
     "data": {
      "text/plain": [
       "recbzZQUIdMmFvm1r    393\n",
       "Name: source_record_id, dtype: int64"
      ]
     },
     "execution_count": 35,
     "metadata": {},
     "output_type": "execute_result"
    }
   ],
   "source": [
    "sac.source_record_id.value_counts()"
   ]
  },
  {
   "cell_type": "markdown",
   "id": "64345b2c-d25c-4230-9fc1-11e8b395b157",
   "metadata": {},
   "source": [
    "* https://dbt-docs.calitp.org/#!/model/model.calitp_warehouse.dim_organizations"
   ]
  },
  {
   "cell_type": "code",
   "execution_count": 77,
   "id": "43f69c90-e08d-48fb-ae63-107cd73ab6df",
   "metadata": {},
   "outputs": [],
   "source": [
    "dim_provider_gtfs_data = (tbls.mart_transit_database.dim_provider_gtfs_data()\n",
    "              >> select( _.organization_source_record_id,\n",
    "                        _.schedule_gtfs_dataset_key,\n",
    "                        _.service_name,\n",
    "                        _._is_current)\n",
    "              >> filter(_._is_current == True)\n",
    "              >> collect()\n",
    "             )"
   ]
  },
  {
   "cell_type": "code",
   "execution_count": 58,
   "id": "23645925-6497-45db-88e7-061d3115b295",
   "metadata": {},
   "outputs": [
    {
     "data": {
      "text/plain": [
       "(1269, 3)"
      ]
     },
     "execution_count": 58,
     "metadata": {},
     "output_type": "execute_result"
    }
   ],
   "source": [
    "dim_provider_gtfs_data.shape"
   ]
  },
  {
   "cell_type": "code",
   "execution_count": 80,
   "id": "66838c7c-3588-415d-ad03-c90cd56016fe",
   "metadata": {},
   "outputs": [],
   "source": [
    "dim_provider_gtfs_data2 = dim_provider_gtfs_data.dropna(subset = ['schedule_gtfs_dataset_key','service_name'])"
   ]
  },
  {
   "cell_type": "code",
   "execution_count": 81,
   "id": "17ec60d2-6221-4241-a7ff-c81971dade24",
   "metadata": {},
   "outputs": [
    {
     "data": {
      "text/plain": [
       "(307, 4)"
      ]
     },
     "execution_count": 81,
     "metadata": {},
     "output_type": "execute_result"
    }
   ],
   "source": [
    "dim_provider_gtfs_data2.shape"
   ]
  },
  {
   "cell_type": "code",
   "execution_count": 84,
   "id": "f4234777-0c1f-421e-83bf-89f8914504b9",
   "metadata": {},
   "outputs": [],
   "source": [
    "# dim_provider_gtfs_data2.service_name.unique()"
   ]
  },
  {
   "cell_type": "code",
   "execution_count": 85,
   "id": "c5aed05a-4110-41b4-a00e-74e59b51b8dc",
   "metadata": {},
   "outputs": [
    {
     "data": {
      "text/plain": [
       "237"
      ]
     },
     "execution_count": 85,
     "metadata": {},
     "output_type": "execute_result"
    }
   ],
   "source": [
    "dim_provider_gtfs_data2.schedule_gtfs_dataset_key.nunique()"
   ]
  },
  {
   "cell_type": "code",
   "execution_count": 88,
   "id": "1e8bbbb4-d73d-4db3-967f-28227f7dbe30",
   "metadata": {},
   "outputs": [
    {
     "data": {
      "text/plain": [
       "(326, 8)"
      ]
     },
     "execution_count": 88,
     "metadata": {},
     "output_type": "execute_result"
    }
   ],
   "source": [
    "all_trips.shape"
   ]
  },
  {
   "cell_type": "code",
   "execution_count": 86,
   "id": "de45298f-297b-4272-828b-0c9444b0e3fb",
   "metadata": {},
   "outputs": [
    {
     "data": {
      "text/plain": [
       "_merge    \n",
       "right_only    304\n",
       "left_only     260\n",
       "both          198\n",
       "dtype: int64"
      ]
     },
     "execution_count": 86,
     "metadata": {},
     "output_type": "execute_result"
    }
   ],
   "source": [
    "pd.merge(all_trips, dim_provider_gtfs_data2, on = \"schedule_gtfs_dataset_key\", how = \"outer\", indicator = True)[['_merge']].value_counts()"
   ]
  },
  {
   "cell_type": "code",
   "execution_count": 91,
   "id": "cb412e23-735f-4c1e-a115-b819256e9f9d",
   "metadata": {},
   "outputs": [],
   "source": [
    "all_trips2 = pd.merge(all_trips, dim_provider_gtfs_data, on = \"schedule_gtfs_dataset_key\", how = \"inner\")"
   ]
  },
  {
   "cell_type": "code",
   "execution_count": 90,
   "id": "a8edd840-e3c4-41b4-ac8e-b56633c7995a",
   "metadata": {},
   "outputs": [
    {
     "data": {
      "text/html": [
       "<div>\n",
       "<style scoped>\n",
       "    .dataframe tbody tr th:only-of-type {\n",
       "        vertical-align: middle;\n",
       "    }\n",
       "\n",
       "    .dataframe tbody tr th {\n",
       "        vertical-align: top;\n",
       "    }\n",
       "\n",
       "    .dataframe thead th {\n",
       "        text-align: right;\n",
       "    }\n",
       "</style>\n",
       "<table border=\"1\" class=\"dataframe\">\n",
       "  <thead>\n",
       "    <tr style=\"text-align: right;\">\n",
       "      <th></th>\n",
       "      <th>feed_key</th>\n",
       "      <th>name</th>\n",
       "      <th>schedule_gtfs_dataset_key</th>\n",
       "      <th>route_id</th>\n",
       "      <th>route_short_name</th>\n",
       "      <th>route_long_name</th>\n",
       "      <th>route_desc</th>\n",
       "      <th>month</th>\n",
       "      <th>organization_source_record_id</th>\n",
       "      <th>service_name</th>\n",
       "      <th>_is_current</th>\n",
       "    </tr>\n",
       "  </thead>\n",
       "  <tbody>\n",
       "    <tr>\n",
       "      <th>0</th>\n",
       "      <td>294252b3b4b42fbb31a31ce184fcb3f5</td>\n",
       "      <td>Sacramento Schedule</td>\n",
       "      <td>cb3074eb8b423dfc5acfeeb0de95eb82</td>\n",
       "      <td>001</td>\n",
       "      <td>1</td>\n",
       "      <td>GREENBACK</td>\n",
       "      <td>None</td>\n",
       "      <td>sep</td>\n",
       "      <td>rec43oyrfhtPDdRHj</td>\n",
       "      <td>Rancho CordoVan</td>\n",
       "      <td>True</td>\n",
       "    </tr>\n",
       "    <tr>\n",
       "      <th>1</th>\n",
       "      <td>294252b3b4b42fbb31a31ce184fcb3f5</td>\n",
       "      <td>Sacramento Schedule</td>\n",
       "      <td>cb3074eb8b423dfc5acfeeb0de95eb82</td>\n",
       "      <td>001</td>\n",
       "      <td>1</td>\n",
       "      <td>GREENBACK</td>\n",
       "      <td>None</td>\n",
       "      <td>sep</td>\n",
       "      <td>recX9lccSE1jmjsmG</td>\n",
       "      <td>SacRT Light Rail</td>\n",
       "      <td>True</td>\n",
       "    </tr>\n",
       "    <tr>\n",
       "      <th>2</th>\n",
       "      <td>294252b3b4b42fbb31a31ce184fcb3f5</td>\n",
       "      <td>Sacramento Schedule</td>\n",
       "      <td>cb3074eb8b423dfc5acfeeb0de95eb82</td>\n",
       "      <td>001</td>\n",
       "      <td>1</td>\n",
       "      <td>GREENBACK</td>\n",
       "      <td>None</td>\n",
       "      <td>sep</td>\n",
       "      <td>recX9lccSE1jmjsmG</td>\n",
       "      <td>Sacramento Regional Transit District Bus</td>\n",
       "      <td>True</td>\n",
       "    </tr>\n",
       "    <tr>\n",
       "      <th>3</th>\n",
       "      <td>294252b3b4b42fbb31a31ce184fcb3f5</td>\n",
       "      <td>Sacramento Schedule</td>\n",
       "      <td>cb3074eb8b423dfc5acfeeb0de95eb82</td>\n",
       "      <td>011</td>\n",
       "      <td>11</td>\n",
       "      <td>NATOMAS/LAND PARK</td>\n",
       "      <td>None</td>\n",
       "      <td>sep</td>\n",
       "      <td>rec43oyrfhtPDdRHj</td>\n",
       "      <td>Rancho CordoVan</td>\n",
       "      <td>True</td>\n",
       "    </tr>\n",
       "    <tr>\n",
       "      <th>4</th>\n",
       "      <td>294252b3b4b42fbb31a31ce184fcb3f5</td>\n",
       "      <td>Sacramento Schedule</td>\n",
       "      <td>cb3074eb8b423dfc5acfeeb0de95eb82</td>\n",
       "      <td>011</td>\n",
       "      <td>11</td>\n",
       "      <td>NATOMAS/LAND PARK</td>\n",
       "      <td>None</td>\n",
       "      <td>sep</td>\n",
       "      <td>recX9lccSE1jmjsmG</td>\n",
       "      <td>SacRT Light Rail</td>\n",
       "      <td>True</td>\n",
       "    </tr>\n",
       "  </tbody>\n",
       "</table>\n",
       "</div>"
      ],
      "text/plain": [
       "                           feed_key                 name  \\\n",
       "0  294252b3b4b42fbb31a31ce184fcb3f5  Sacramento Schedule   \n",
       "1  294252b3b4b42fbb31a31ce184fcb3f5  Sacramento Schedule   \n",
       "2  294252b3b4b42fbb31a31ce184fcb3f5  Sacramento Schedule   \n",
       "3  294252b3b4b42fbb31a31ce184fcb3f5  Sacramento Schedule   \n",
       "4  294252b3b4b42fbb31a31ce184fcb3f5  Sacramento Schedule   \n",
       "\n",
       "          schedule_gtfs_dataset_key route_id route_short_name  \\\n",
       "0  cb3074eb8b423dfc5acfeeb0de95eb82      001                1   \n",
       "1  cb3074eb8b423dfc5acfeeb0de95eb82      001                1   \n",
       "2  cb3074eb8b423dfc5acfeeb0de95eb82      001                1   \n",
       "3  cb3074eb8b423dfc5acfeeb0de95eb82      011               11   \n",
       "4  cb3074eb8b423dfc5acfeeb0de95eb82      011               11   \n",
       "\n",
       "     route_long_name route_desc month organization_source_record_id  \\\n",
       "0          GREENBACK       None   sep             rec43oyrfhtPDdRHj   \n",
       "1          GREENBACK       None   sep             recX9lccSE1jmjsmG   \n",
       "2          GREENBACK       None   sep             recX9lccSE1jmjsmG   \n",
       "3  NATOMAS/LAND PARK       None   sep             rec43oyrfhtPDdRHj   \n",
       "4  NATOMAS/LAND PARK       None   sep             recX9lccSE1jmjsmG   \n",
       "\n",
       "                               service_name  _is_current  \n",
       "0                           Rancho CordoVan         True  \n",
       "1                          SacRT Light Rail         True  \n",
       "2  Sacramento Regional Transit District Bus         True  \n",
       "3                           Rancho CordoVan         True  \n",
       "4                          SacRT Light Rail         True  "
      ]
     },
     "execution_count": 90,
     "metadata": {},
     "output_type": "execute_result"
    }
   ],
   "source": [
    "all_trips2.head()"
   ]
  },
  {
   "cell_type": "code",
   "execution_count": 69,
   "id": "f2ef0a6e-5149-48f6-81a6-7e35ae6a6363",
   "metadata": {},
   "outputs": [
    {
     "data": {
      "text/plain": [
       "Index(['key', 'source_record_id', 'name', 'route_id', 'shape_id', 'month',\n",
       "       'year', 'geometry'],\n",
       "      dtype='object')"
      ]
     },
     "execution_count": 69,
     "metadata": {},
     "output_type": "execute_result"
    }
   ],
   "source": [
    "sac.columns"
   ]
  },
  {
   "cell_type": "code",
   "execution_count": 92,
   "id": "450e9f56-2ac1-40ae-a48e-f6715e8425ea",
   "metadata": {},
   "outputs": [
    {
     "data": {
      "text/plain": [
       "_merge    \n",
       "right_only    393\n",
       "left_only     198\n",
       "both            0\n",
       "dtype: int64"
      ]
     },
     "execution_count": 92,
     "metadata": {},
     "output_type": "execute_result"
    }
   ],
   "source": [
    "pd.merge(all_trips2, sac, left_on = \"organization_source_record_id\", right_on = \"source_record_id\", how = \"outer\", indicator = True)[['_merge']].value_counts()"
   ]
  },
  {
   "cell_type": "code",
   "execution_count": 93,
   "id": "39dee3bb-bf89-43ff-8e98-e885b8e216dd",
   "metadata": {},
   "outputs": [
    {
     "data": {
      "text/plain": [
       "_merge    \n",
       "both          77814\n",
       "left_only         0\n",
       "right_only        0\n",
       "dtype: int64"
      ]
     },
     "execution_count": 93,
     "metadata": {},
     "output_type": "execute_result"
    }
   ],
   "source": [
    "pd.merge(all_trips2, sac, on = \"name\", how = \"outer\", indicator = True)[['_merge']].value_counts()"
   ]
  },
  {
   "cell_type": "code",
   "execution_count": 94,
   "id": "6b04248a-c74e-4a36-a946-b6184c230b5b",
   "metadata": {},
   "outputs": [
    {
     "data": {
      "text/plain": [
       "_merge    \n",
       "both          1164\n",
       "right_only       5\n",
       "left_only        0\n",
       "dtype: int64"
      ]
     },
     "execution_count": 94,
     "metadata": {},
     "output_type": "execute_result"
    }
   ],
   "source": [
    "pd.merge(all_trips2, sac, on = \"route_id\", how = \"outer\", indicator = True)[['_merge']].value_counts()"
   ]
  },
  {
   "cell_type": "code",
   "execution_count": 96,
   "id": "0c33be6e-e7d9-466a-a118-9dba165d4171",
   "metadata": {},
   "outputs": [
    {
     "data": {
      "text/plain": [
       "Index(['key', 'source_record_id', 'name', 'route_id', 'shape_id', 'month',\n",
       "       'year', 'geometry'],\n",
       "      dtype='object')"
      ]
     },
     "execution_count": 96,
     "metadata": {},
     "output_type": "execute_result"
    }
   ],
   "source": [
    "sac.columns"
   ]
  },
  {
   "cell_type": "code",
   "execution_count": 73,
   "id": "c0fe7f29-2730-47f0-839b-fdf41a40bcdd",
   "metadata": {},
   "outputs": [],
   "source": [
    "m1 = pd.merge(all_trips2, sac, left_on = \"schedule_gtfs_dataset_key\", right_on = \", how = \"inner\", indicator = True)"
   ]
  }
 ],
 "metadata": {
  "kernelspec": {
   "display_name": "Python 3 (ipykernel)",
   "language": "python",
   "name": "python3"
  },
  "language_info": {
   "codemirror_mode": {
    "name": "ipython",
    "version": 3
   },
   "file_extension": ".py",
   "mimetype": "text/x-python",
   "name": "python",
   "nbconvert_exporter": "python",
   "pygments_lexer": "ipython3",
   "version": "3.9.13"
  }
 },
 "nbformat": 4,
 "nbformat_minor": 5
}
