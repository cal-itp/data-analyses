{
 "cells": [
  {
   "cell_type": "markdown",
   "id": "8b7804a6-16e9-4991-abfd-9574544e0d60",
   "metadata": {},
   "source": [
    "# Route Identification Over Time, Approach 2\n",
    "See `05_route_identification_over_time.ipynb` for previous work.\n",
    "<br>Determined that more data is needed than what is given from `fct_monthly_routes`. exploring data from `helpers.import_scheduled_trips` to get feed_key, route short/long name/id/desc and other. \n",
    "<br>Cannot rely on feed_key as it is unstable over time. Next best is gtfs_schedule key, but absolute best is source_record_id.\n",
    "<br>Start with running `make install_env` to install everything needed. `helpers`,`rt_dates`,`sched_gcs`\n",
    "<br>Query data from warehouse, then use this snippet from `make_routes_gdf` from `_shared_utils/shared_utils/geography_utils.py`.\n",
    "* ddf[\"geometry\"] = ddf.pt_array.apply(make_linestring)\n",
    "    \n",
    "<br> then save out as geo parquet to the `gtfs_schedule` folder in GCS (so versioning and history stays) using \n",
    "* utils.geoparquet_gcs_export(\n",
    "                vp_gdf,\n",
    "                SEGMENT_GCS,\n",
    "                f\"vp_{analysis_date}\"\n",
    "            )\n",
    "\n",
    "<br>also add `route_long_name` to query. then see if we are able to see any changes in routes via:\n",
    "* feed key\n",
    "* name\n",
    "* route id\n",
    "* route short name\n",
    "* route long name\n",
    "* route desc\n",
    "    "
   ]
  },
  {
   "cell_type": "code",
   "execution_count": null,
   "id": "19f7db52-cba6-4c37-8b84-c23ee26d3ed0",
   "metadata": {},
   "outputs": [],
   "source": [
    "import pandas as pd\n",
    "#rt_segment_speeds/segment_speed_utils\n",
    "from segment_speed_utils import helpers\n",
    "\n",
    "#rt_segment_speeds/segment_speed_utils/project_vars.py\n",
    "from segment_speed_utils.project_vars import SCHED_GCS, COMPILED_CACHED_VIEWS\n",
    "\n",
    "#_shared_utils/shared_utils/rt_dates.py\n",
    "from shared_utils import rt_dates\n",
    "\n",
    "import geopandas as gpd\n"
   ]
  },
  {
   "cell_type": "code",
   "execution_count": null,
   "id": "e58b7202-e43e-443e-ab1a-c3cd16b65d33",
   "metadata": {},
   "outputs": [],
   "source": [
    "sep_date = rt_dates.DATES[\"sep2023\"]\n",
    "aug_date = rt_dates.DATES[\"aug2023\"]\n",
    "\n",
    "# grabbing additional dates\n",
    "april_date = rt_dates.DATES[\"apr2023\"]\n",
    "may_date = rt_dates.DATES[\"may2023\"]\n",
    "june_date = rt_dates.DATES[\"jun2023\"]\n",
    "july_date = rt_dates.DATES[\"jul2023\"]"
   ]
  },
  {
   "cell_type": "code",
   "execution_count": null,
   "id": "4936c7bd-9acf-4b22-84a2-3f32b85e6d6d",
   "metadata": {},
   "outputs": [],
   "source": [
    "may_date"
   ]
  },
  {
   "cell_type": "code",
   "execution_count": null,
   "id": "b1d9e303-fa2f-4039-9eb8-4e3a0037db21",
   "metadata": {},
   "outputs": [],
   "source": [
    "# list of all the months\n",
    "months_list = [sep_date, aug_date, april_date, may_date, june_date, july_date]"
   ]
  },
  {
   "cell_type": "code",
   "execution_count": null,
   "id": "369fee0c-b29c-4512-bab3-1b5f8d3239cb",
   "metadata": {},
   "outputs": [],
   "source": [
    "months_list"
   ]
  },
  {
   "cell_type": "code",
   "execution_count": null,
   "id": "ead3240f-e98d-4916-90ea-1c16b9d3a644",
   "metadata": {},
   "outputs": [],
   "source": [
    "# test loop of import_scheduled_trips, iterated through months_list\n",
    "\n",
    "# empty list\n",
    "month_trips = {}\n",
    "\n",
    "for months in months_list:\n",
    "    df = helpers.import_scheduled_trips(\n",
    "        months,\n",
    "        columns=[\n",
    "            \"feed_key\",\n",
    "            \"name\",\n",
    "            \"gtfs_dataset_key\",\n",
    "            \"route_id\",\n",
    "            \"route_short_name\",\n",
    "            \"route_long_name\",\n",
    "            \"route_desc\",\n",
    "        ],\n",
    "        filters=[[(\"name\", \"==\", \"Sacramento Schedule\")]],\n",
    "        get_pandas=True,\n",
    "    )\n",
    "    month_trips[months] = df"
   ]
  },
  {
   "cell_type": "code",
   "execution_count": null,
   "id": "9da54863-2f61-4b81-a9be-8a68eda1e76e",
   "metadata": {},
   "outputs": [],
   "source": [
    "COMPILED_CACHED_VIEWS"
   ]
  },
  {
   "cell_type": "code",
   "execution_count": null,
   "id": "9ec0a057-683e-4a65-a4a5-f362af005a84",
   "metadata": {},
   "outputs": [],
   "source": []
  },
  {
   "cell_type": "code",
   "execution_count": null,
   "id": "83b99792-9654-47b3-8760-03f4b99f06df",
   "metadata": {},
   "outputs": [],
   "source": []
  },
  {
   "cell_type": "code",
   "execution_count": null,
   "id": "5199f11b-172a-4cac-8a2b-3010c7332dcb",
   "metadata": {},
   "outputs": [],
   "source": []
  },
  {
   "cell_type": "code",
   "execution_count": null,
   "id": "52e07e41-41ee-4bdd-9fc7-bb4244f55e0d",
   "metadata": {},
   "outputs": [],
   "source": [
    "month_trips.keys()"
   ]
  },
  {
   "cell_type": "code",
   "execution_count": null,
   "id": "b85dade9-90c2-470f-a737-88772dabeaf9",
   "metadata": {},
   "outputs": [],
   "source": [
    "april = month_trips['2023-04-12'].assign(month='april')\n",
    "may = month_trips['2023-05-17'].assign(month='may')\n",
    "june = month_trips['2023-06-14'].assign(month='june')\n",
    "july = month_trips['2023-07-12'].assign(month='july')\n",
    "aug = month_trips['2023-08-15'].assign(month='aug')\n",
    "sep = month_trips['2023-09-13'].assign(month='sep')"
   ]
  },
  {
   "cell_type": "code",
   "execution_count": null,
   "id": "73cf738d-fe22-4126-9f79-c145d64a1097",
   "metadata": {},
   "outputs": [],
   "source": []
  },
  {
   "cell_type": "code",
   "execution_count": null,
   "id": "80cc82e3-f0d0-475a-96a9-d6a87d30a6cd",
   "metadata": {},
   "outputs": [],
   "source": [
    "# use this pseudo code to concat all the different months data\n",
    "# pd.concat can stack DFs on top of others.\n",
    "# pd.concat([df1, df2], axis=0)"
   ]
  },
  {
   "cell_type": "code",
   "execution_count": null,
   "id": "9c7ea7ad-8069-4c06-b44b-935617dfba4e",
   "metadata": {},
   "outputs": [],
   "source": [
    "#test to see if i can use a dictionary in concat\n",
    "all_trips = pd.concat([april,may,june,july,aug,sep],axis=0)"
   ]
  },
  {
   "cell_type": "code",
   "execution_count": null,
   "id": "12c9888a-b2ee-4dd7-9b15-a871365eb3ad",
   "metadata": {},
   "outputs": [],
   "source": [
    "all_trips.shape"
   ]
  },
  {
   "cell_type": "code",
   "execution_count": null,
   "id": "71be2e14-7a49-4703-8462-b5807d795661",
   "metadata": {},
   "outputs": [],
   "source": [
    "all_trips.head()"
   ]
  },
  {
   "cell_type": "code",
   "execution_count": null,
   "id": "b1029f70-fba9-4896-83ca-19f4397a444a",
   "metadata": {},
   "outputs": [],
   "source": [
    "# 3 unique feed keys\n",
    "all_trips.feed_key.value_counts()"
   ]
  },
  {
   "cell_type": "code",
   "execution_count": null,
   "id": "24bc34e5-1676-4972-a9a9-414b93d9e127",
   "metadata": {},
   "outputs": [],
   "source": [
    "# 2 unique gtfs dataset keys, as opposed to 3 unique feed keys\n",
    "all_trips.schedule_gtfs_dataset_key.value_counts()"
   ]
  },
  {
   "cell_type": "code",
   "execution_count": null,
   "id": "12ce9d07-cd34-499e-b365-3ffeeb27e018",
   "metadata": {},
   "outputs": [],
   "source": [
    "#expect to see 5 instances of each route id (1 for each month, except june). but some routes only happen 1 time? route 10 and 137\n",
    "all_trips.route_id.value_counts()"
   ]
  },
  {
   "cell_type": "code",
   "execution_count": null,
   "id": "3825ac8a-919e-4eea-b95e-967463b18a18",
   "metadata": {},
   "outputs": [],
   "source": [
    "#similar results with route short name\n",
    "all_trips.route_short_name.value_counts()"
   ]
  },
  {
   "cell_type": "code",
   "execution_count": null,
   "id": "ec9c81a9-9740-4fe9-af66-bb6641ba268d",
   "metadata": {},
   "outputs": [],
   "source": [
    "#further investigation of route 10 and 137, see what their rows say\n",
    "#only 1 row for each of these routes, both occuring in september\n",
    "display(all_trips[all_trips['route_id']=='10'])\n",
    "display(all_trips[all_trips['route_id']=='137'])"
   ]
  },
  {
   "cell_type": "code",
   "execution_count": null,
   "id": "4dd4889a-2914-42e5-a455-afed68bd4edf",
   "metadata": {},
   "outputs": [],
   "source": [
    "#other routes return multiple rows as expected. \n",
    "all_trips[all_trips['route_id']=='F10']"
   ]
  },
  {
   "cell_type": "code",
   "execution_count": null,
   "id": "088278a4-7ee2-45fb-8e3e-4dd924c11c6b",
   "metadata": {},
   "outputs": [],
   "source": [
    "#would like shape Id and pt array from previous approach, but need a join to make this work\n",
    "#seek out preliminary joins via metabase\n"
   ]
  },
  {
   "cell_type": "markdown",
   "id": "c1ae87a6-82d4-4896-904c-128106299eef",
   "metadata": {},
   "source": [
    "## Amanda's Stuff"
   ]
  },
  {
   "cell_type": "code",
   "execution_count": null,
   "id": "d0a2eb7c-0b45-4172-9cbc-b1856f35e728",
   "metadata": {},
   "outputs": [],
   "source": [
    "from calitp_data_analysis.tables import tbls\n",
    "from calitp_data_analysis import utils\n",
    "from siuba import *"
   ]
  },
  {
   "cell_type": "code",
   "execution_count": null,
   "id": "7bc41c6c-b3bb-4b38-8677-796d2d0ba835",
   "metadata": {},
   "outputs": [],
   "source": [
    "all_trips.columns"
   ]
  },
  {
   "cell_type": "code",
   "execution_count": null,
   "id": "35e024c0-32e9-434b-bb99-c0d3cb402628",
   "metadata": {},
   "outputs": [],
   "source": [
    "aprl_sept_2023_routes = gpd.read_parquet(\"gs://calitp-analytics-data/data-analyses/gtfs_schedule/route_identification_2023_m04_m09.parquet\")"
   ]
  },
  {
   "cell_type": "code",
   "execution_count": null,
   "id": "0364fe20-5698-4b88-9d39-2cef4bdf80e1",
   "metadata": {},
   "outputs": [],
   "source": [
    "sac = aprl_sept_2023_routes[aprl_sept_2023_routes['name'] == 'Sacramento Schedule']"
   ]
  },
  {
   "cell_type": "code",
   "execution_count": null,
   "id": "2b45dd6b-720b-4073-a84f-e4482d1a339a",
   "metadata": {},
   "outputs": [],
   "source": [
    "sac.sample()"
   ]
  },
  {
   "cell_type": "code",
   "execution_count": null,
   "id": "e77ec508-839c-428a-b396-cd9e2e214477",
   "metadata": {},
   "outputs": [],
   "source": [
    "sac.shape"
   ]
  },
  {
   "cell_type": "code",
   "execution_count": null,
   "id": "3bf2f67b-f91e-4290-8510-48229bafaf1a",
   "metadata": {},
   "outputs": [],
   "source": [
    "sac.source_record_id.value_counts()"
   ]
  },
  {
   "cell_type": "markdown",
   "id": "64345b2c-d25c-4230-9fc1-11e8b395b157",
   "metadata": {},
   "source": [
    "* https://dbt-docs.calitp.org/#!/model/model.calitp_warehouse.dim_organizations"
   ]
  },
  {
   "cell_type": "code",
   "execution_count": null,
   "id": "43f69c90-e08d-48fb-ae63-107cd73ab6df",
   "metadata": {},
   "outputs": [],
   "source": [
    "dim_gtfs_service_data = (tbls.mart_transit_database.dim_gtfs_service_data()\n",
    "              >> select( _.source_record_id,\n",
    "                        _.gtfs_dataset_key,\n",
    "                        _.name,\n",
    "                        _._is_current)\n",
    "              >> filter(_._is_current == True)\n",
    "              >> collect()\n",
    "             )"
   ]
  },
  {
   "cell_type": "code",
   "execution_count": null,
   "id": "28620617-5b23-45ed-9ab3-630177096cfd",
   "metadata": {},
   "outputs": [],
   "source": [
    "dim_gtfs_service_data.loc[dim_gtfs_service_data.name.str.contains('Sacramento')]"
   ]
  },
  {
   "cell_type": "code",
   "execution_count": null,
   "id": "edb49d00-a51b-4c54-9595-73bddfb40001",
   "metadata": {},
   "outputs": [],
   "source": [
    "sac.sample()"
   ]
  },
  {
   "cell_type": "code",
   "execution_count": null,
   "id": "0dfe7f4d-ed41-4f42-9615-df361f5da999",
   "metadata": {},
   "outputs": [],
   "source": [
    "dim_provider_gtfs_data = (tbls.mart_transit_database.dim_gtfs_service_data()\n",
    "              >> select( _.organization_source_record_id,\n",
    "                        _.schedule_gtfs_dataset_key,\n",
    "                        _.service_name,\n",
    "                        _._is_current)\n",
    "              >> filter(_._is_current == True)\n",
    "              >> collect()\n",
    "             )"
   ]
  },
  {
   "cell_type": "code",
   "execution_count": null,
   "id": "23645925-6497-45db-88e7-061d3115b295",
   "metadata": {},
   "outputs": [],
   "source": [
    "dim_provider_gtfs_data.shape"
   ]
  },
  {
   "cell_type": "code",
   "execution_count": null,
   "id": "66838c7c-3588-415d-ad03-c90cd56016fe",
   "metadata": {},
   "outputs": [],
   "source": [
    "dim_provider_gtfs_data2 = dim_provider_gtfs_data.dropna(subset = ['schedule_gtfs_dataset_key','service_name'])"
   ]
  },
  {
   "cell_type": "code",
   "execution_count": null,
   "id": "17ec60d2-6221-4241-a7ff-c81971dade24",
   "metadata": {},
   "outputs": [],
   "source": [
    "dim_provider_gtfs_data2.shape"
   ]
  },
  {
   "cell_type": "code",
   "execution_count": null,
   "id": "f4234777-0c1f-421e-83bf-89f8914504b9",
   "metadata": {},
   "outputs": [],
   "source": [
    "# dim_provider_gtfs_data2.service_name.unique()"
   ]
  },
  {
   "cell_type": "code",
   "execution_count": null,
   "id": "c5aed05a-4110-41b4-a00e-74e59b51b8dc",
   "metadata": {},
   "outputs": [],
   "source": [
    "dim_provider_gtfs_data2.schedule_gtfs_dataset_key.nunique()"
   ]
  },
  {
   "cell_type": "code",
   "execution_count": null,
   "id": "f7adcede-4169-4b94-85c8-865cd1fda913",
   "metadata": {},
   "outputs": [],
   "source": [
    "dim_provider_gtfs_data2.schedule_gtfs_dataset_key.value_counts().head()"
   ]
  },
  {
   "cell_type": "markdown",
   "id": "90bd619b-3542-4e07-8d53-704ee9f519e4",
   "metadata": {},
   "source": [
    "* Why are there multiple GTFS keys for one service name??"
   ]
  },
  {
   "cell_type": "code",
   "execution_count": null,
   "id": "d069f4b6-62ee-4951-9729-eef55e5560ed",
   "metadata": {},
   "outputs": [],
   "source": [
    "dim_provider_gtfs_data2.service_name.value_counts().head()"
   ]
  },
  {
   "cell_type": "code",
   "execution_count": null,
   "id": "fff37bc1-5213-48b4-8931-da465aaaf902",
   "metadata": {},
   "outputs": [],
   "source": [
    "dim_provider_gtfs_data2.service_name.value_counts().describe()"
   ]
  },
  {
   "cell_type": "code",
   "execution_count": null,
   "id": "320d01e4-7181-469d-a34b-227aae01f717",
   "metadata": {},
   "outputs": [],
   "source": [
    "dim_provider_gtfs_data2.loc[dim_provider_gtfs_data2.service_name == \"Union City Transit\"]"
   ]
  },
  {
   "cell_type": "code",
   "execution_count": null,
   "id": "3677c5d0-182f-49ef-9a4d-0cb6c892504f",
   "metadata": {},
   "outputs": [],
   "source": [
    "dim_provider_gtfs_data2.loc[dim_provider_gtfs_data2.service_name.str.contains('Sac')]"
   ]
  },
  {
   "cell_type": "code",
   "execution_count": null,
   "id": "1e8bbbb4-d73d-4db3-967f-28227f7dbe30",
   "metadata": {},
   "outputs": [],
   "source": [
    "all_trips.shape"
   ]
  },
  {
   "cell_type": "code",
   "execution_count": null,
   "id": "de45298f-297b-4272-828b-0c9444b0e3fb",
   "metadata": {},
   "outputs": [],
   "source": [
    "pd.merge(all_trips, dim_provider_gtfs_data2, on = \"schedule_gtfs_dataset_key\", how = \"outer\", indicator = True)[['_merge']].value_counts()"
   ]
  },
  {
   "cell_type": "code",
   "execution_count": null,
   "id": "cb412e23-735f-4c1e-a115-b819256e9f9d",
   "metadata": {},
   "outputs": [],
   "source": [
    "all_trips2 = pd.merge(all_trips, dim_provider_gtfs_data2, on = \"schedule_gtfs_dataset_key\", how = \"inner\")"
   ]
  },
  {
   "cell_type": "code",
   "execution_count": null,
   "id": "af620844-6a7b-42d9-a878-0f423d79d738",
   "metadata": {},
   "outputs": [],
   "source": [
    "all_trips2.name.unique()"
   ]
  },
  {
   "cell_type": "code",
   "execution_count": null,
   "id": "f6988072-e69d-4210-bccc-40a27080e2dd",
   "metadata": {},
   "outputs": [],
   "source": [
    "all_trips2.organization_source_record_id.unique()"
   ]
  },
  {
   "cell_type": "code",
   "execution_count": null,
   "id": "a8edd840-e3c4-41b4-ac8e-b56633c7995a",
   "metadata": {},
   "outputs": [],
   "source": [
    "all_trips2.head()"
   ]
  },
  {
   "cell_type": "code",
   "execution_count": null,
   "id": "ddb335b7-e125-4ed9-bef2-57c7f77a3316",
   "metadata": {},
   "outputs": [],
   "source": [
    "dim_provider_gtfs_data.loc[dim_provider_gtfs_data.organization_source_record_id == \"recbzZQUIdMmFvm1r\"]"
   ]
  },
  {
   "cell_type": "code",
   "execution_count": null,
   "id": "f2ef0a6e-5149-48f6-81a6-7e35ae6a6363",
   "metadata": {},
   "outputs": [],
   "source": [
    "sac.source_record_id.unique()"
   ]
  },
  {
   "cell_type": "code",
   "execution_count": null,
   "id": "450e9f56-2ac1-40ae-a48e-f6715e8425ea",
   "metadata": {},
   "outputs": [],
   "source": [
    "pd.merge(all_trips2, sac, left_on = \"organization_source_record_id\", right_on = \"source_record_id\", how = \"outer\", indicator = True)[['_merge']].value_counts()"
   ]
  },
  {
   "cell_type": "code",
   "execution_count": null,
   "id": "39dee3bb-bf89-43ff-8e98-e885b8e216dd",
   "metadata": {},
   "outputs": [],
   "source": [
    "pd.merge(all_trips2, sac, on = \"name\", how = \"outer\", indicator = True)[['_merge']].value_counts()"
   ]
  },
  {
   "cell_type": "code",
   "execution_count": null,
   "id": "6b04248a-c74e-4a36-a946-b6184c230b5b",
   "metadata": {},
   "outputs": [],
   "source": [
    "pd.merge(all_trips2, sac, on = \"route_id\", how = \"outer\", indicator = True)[['_merge']].value_counts()"
   ]
  },
  {
   "cell_type": "code",
   "execution_count": null,
   "id": "0c33be6e-e7d9-466a-a118-9dba165d4171",
   "metadata": {},
   "outputs": [],
   "source": [
    "sac.columns"
   ]
  },
  {
   "cell_type": "code",
   "execution_count": null,
   "id": "c0fe7f29-2730-47f0-839b-fdf41a40bcdd",
   "metadata": {},
   "outputs": [],
   "source": [
    "m1 = pd.merge(all_trips2, sac, left_on = \"schedule_gtfs_dataset_key\", right_on = \", how = \"inner\", indicator = True)"
   ]
  }
 ],
 "metadata": {
  "kernelspec": {
   "display_name": "Python 3 (ipykernel)",
   "language": "python",
   "name": "python3"
  },
  "language_info": {
   "codemirror_mode": {
    "name": "ipython",
    "version": 3
   },
   "file_extension": ".py",
   "mimetype": "text/x-python",
   "name": "python",
   "nbconvert_exporter": "python",
   "pygments_lexer": "ipython3",
   "version": "3.9.13"
  }
 },
 "nbformat": 4,
 "nbformat_minor": 5
}
