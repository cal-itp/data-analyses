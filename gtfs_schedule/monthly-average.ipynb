{
 "cells": [
  {
   "cell_type": "markdown",
   "id": "45d8c68d-608e-4781-ab8c-f81cdd9c95ac",
   "metadata": {},
   "source": [
    "# Holidays merged with fake calendar data\n",
    "\n",
    "Double check that observed dates are indeed correct, and need an extra adjustment of weekday to be weekend if it's a holiday on a weekday (Labor Day, Memorial Day)."
   ]
  },
  {
   "cell_type": "code",
   "execution_count": 1,
   "id": "878de449-71f7-4d7d-b9db-26409bb8a3a4",
   "metadata": {},
   "outputs": [],
   "source": [
    "import pandas as pd"
   ]
  },
  {
   "cell_type": "code",
   "execution_count": 2,
   "id": "e54f1400-2eb2-4943-87bd-481371f068e5",
   "metadata": {},
   "outputs": [],
   "source": [
    "def get_calendar(start_date: str, end_date: str) -> pd.DataFrame:\n",
    "\n",
    "    df = pd.DataFrame(\n",
    "        {'service_date': pd.date_range(start = start_date,\n",
    "                                      end = end_date)})\n",
    "    \n",
    "    df = df.assign(\n",
    "        service_date = pd.to_datetime(df.service_date)\n",
    "    )\n",
    "    df = df.assign(\n",
    "        day_name = df.service_date.dt.day_name(),\n",
    "        day_of_week = df.service_date.dt.dayofweek,\n",
    "        month = df.service_date.dt.month, \n",
    "        year = df.service_date.dt.year,\n",
    "        quarter = df.service_date.dt.quarter,\n",
    "    )\n",
    "    \n",
    "    df = df.assign(\n",
    "        weekday = df.apply(lambda x: 1 if x.day_of_week <= 4 else 0, axis=1)\n",
    "    )\n",
    "    \n",
    "    return df"
   ]
  },
  {
   "cell_type": "code",
   "execution_count": 3,
   "id": "a89a6f18-0eb6-4f1a-b704-2e1a1a0c275f",
   "metadata": {},
   "outputs": [],
   "source": [
    "START = \"2021-01-01\" \n",
    "END = \"2022-12-31\"\n",
    "df = get_calendar(START, END)"
   ]
  },
  {
   "cell_type": "code",
   "execution_count": 4,
   "id": "e794273f-eda1-4956-a17f-fd345f663fa8",
   "metadata": {},
   "outputs": [],
   "source": [
    "holidays = pd.read_parquet(\"./holidays.parquet\")"
   ]
  },
  {
   "cell_type": "code",
   "execution_count": 5,
   "id": "68b8648d-7e32-40ee-909f-d56a7f728a71",
   "metadata": {},
   "outputs": [],
   "source": [
    "df2 = pd.merge(\n",
    "    df, \n",
    "    holidays.rename(columns = {\"observed_date\": \"service_date\"})[[\"service_date\", \"holiday\"]],\n",
    "    on = [\"service_date\"],\n",
    "    how = \"left\",\n",
    ")\n",
    "\n",
    "# If it's a holiday, even if it's a weekday, it should be flagged as not a weekday\n",
    "# Labor Day, Memorial Day....all fall on weekdays but should be counted as weekends\n",
    "df2 = df2.assign(\n",
    "    weekday = df2.apply(lambda x: 0 if x.holiday==1 else x.weekday, axis=1),\n",
    "    holiday = df2.holiday.fillna(0).astype(int)\n",
    ").drop_duplicates()"
   ]
  },
  {
   "cell_type": "code",
   "execution_count": 6,
   "id": "49ba6841-aef9-4165-b31e-3eaa9105cbf8",
   "metadata": {},
   "outputs": [
    {
     "data": {
      "text/html": [
       "<div>\n",
       "<style scoped>\n",
       "    .dataframe tbody tr th:only-of-type {\n",
       "        vertical-align: middle;\n",
       "    }\n",
       "\n",
       "    .dataframe tbody tr th {\n",
       "        vertical-align: top;\n",
       "    }\n",
       "\n",
       "    .dataframe thead th {\n",
       "        text-align: right;\n",
       "    }\n",
       "</style>\n",
       "<table border=\"1\" class=\"dataframe\">\n",
       "  <thead>\n",
       "    <tr style=\"text-align: right;\">\n",
       "      <th></th>\n",
       "      <th>service_date</th>\n",
       "      <th>day_name</th>\n",
       "      <th>day_of_week</th>\n",
       "      <th>month</th>\n",
       "      <th>year</th>\n",
       "      <th>quarter</th>\n",
       "      <th>weekday</th>\n",
       "      <th>holiday</th>\n",
       "    </tr>\n",
       "  </thead>\n",
       "  <tbody>\n",
       "    <tr>\n",
       "      <th>365</th>\n",
       "      <td>2021-12-30</td>\n",
       "      <td>Thursday</td>\n",
       "      <td>3</td>\n",
       "      <td>12</td>\n",
       "      <td>2021</td>\n",
       "      <td>4</td>\n",
       "      <td>1</td>\n",
       "      <td>0</td>\n",
       "    </tr>\n",
       "    <tr>\n",
       "      <th>366</th>\n",
       "      <td>2021-12-31</td>\n",
       "      <td>Friday</td>\n",
       "      <td>4</td>\n",
       "      <td>12</td>\n",
       "      <td>2021</td>\n",
       "      <td>4</td>\n",
       "      <td>0</td>\n",
       "      <td>1</td>\n",
       "    </tr>\n",
       "    <tr>\n",
       "      <th>369</th>\n",
       "      <td>2022-01-01</td>\n",
       "      <td>Saturday</td>\n",
       "      <td>5</td>\n",
       "      <td>1</td>\n",
       "      <td>2022</td>\n",
       "      <td>1</td>\n",
       "      <td>0</td>\n",
       "      <td>0</td>\n",
       "    </tr>\n",
       "    <tr>\n",
       "      <th>370</th>\n",
       "      <td>2022-01-02</td>\n",
       "      <td>Sunday</td>\n",
       "      <td>6</td>\n",
       "      <td>1</td>\n",
       "      <td>2022</td>\n",
       "      <td>1</td>\n",
       "      <td>0</td>\n",
       "      <td>0</td>\n",
       "    </tr>\n",
       "  </tbody>\n",
       "</table>\n",
       "</div>"
      ],
      "text/plain": [
       "    service_date  day_name  day_of_week  month  year  quarter  weekday  \\\n",
       "365   2021-12-30  Thursday            3     12  2021        4        1   \n",
       "366   2021-12-31    Friday            4     12  2021        4        0   \n",
       "369   2022-01-01  Saturday            5      1  2022        1        0   \n",
       "370   2022-01-02    Sunday            6      1  2022        1        0   \n",
       "\n",
       "     holiday  \n",
       "365        0  \n",
       "366        1  \n",
       "369        0  \n",
       "370        0  "
      ]
     },
     "execution_count": 6,
     "metadata": {},
     "output_type": "execute_result"
    }
   ],
   "source": [
    "# Pick New Year's\n",
    "df2[(df2.service_date >= \"2021-12-30\") & \n",
    "    (df2.service_date <= \"2022-01-02\")]"
   ]
  },
  {
   "cell_type": "code",
   "execution_count": 7,
   "id": "2e1e7f94-2da6-4bbd-9f32-0c638faaac19",
   "metadata": {},
   "outputs": [],
   "source": [
    "# https://stackoverflow.com/questions/13145368/how-to-find-the-maximum-value-in-a-list-of-tuples\n",
    "#from operator import itemgetter\n",
    "\n",
    "#max_date = max(CA_HOLIDAYS,key=itemgetter(0))[0]   #faster solution\n",
    "#itemgetter(0)"
   ]
  },
  {
   "cell_type": "code",
   "execution_count": null,
   "id": "396e262c-9e84-4bec-a0af-4108eaa7d987",
   "metadata": {},
   "outputs": [],
   "source": []
  }
 ],
 "metadata": {
  "kernelspec": {
   "display_name": "Python 3 (ipykernel)",
   "language": "python",
   "name": "python3"
  },
  "language_info": {
   "codemirror_mode": {
    "name": "ipython",
    "version": 3
   },
   "file_extension": ".py",
   "mimetype": "text/x-python",
   "name": "python",
   "nbconvert_exporter": "python",
   "pygments_lexer": "ipython3",
   "version": "3.10.6"
  }
 },
 "nbformat": 4,
 "nbformat_minor": 5
}
