{
 "cells": [
  {
   "cell_type": "markdown",
   "id": "9f2b17f8-faef-489a-9f55-e3defc8b33ea",
   "metadata": {},
   "source": [
    "# Route Identification Over Time\n",
    "\n",
    "Recent observations shows small chages in routes over time. Specifically in the following fields:\n",
    "* route ID\n",
    "* route short name\n",
    "* route long name\n",
    "* route desc\n",
    "\n",
    "Need to observe these route changes in order to account for these changes in future analyses.\n",
    "\n",
    "## Objective\n",
    "1. Query data from `fct_monthly_routes` to help identify variences in Routes. Query for 2023, a couple of months. \n",
    "2. Save data to GCS `gtfs_schedule` bucket\n",
    "3. Filter down data to `Sacramento Regional Transit`, identify and observe routes for any variences\n"
   ]
  },
  {
   "cell_type": "markdown",
   "id": "2c288bcf-6ed4-4ccd-900a-d361ab4dc1bc",
   "metadata": {},
   "source": [
    "## function from `open_data/download_vehicle_position.py`\n",
    "    \n",
    "    import datetime\n",
    "    import gcsfs\n",
    "    import geopandas as gpd\n",
    "    import pandas as pd\n",
    "    import shapely\n",
    "    import sys\n",
    "\n",
    "    from calitp_data_analysis.tables import tbls\n",
    "    from calitp_data_analysis import utils\n",
    "    from loguru import logger\n",
    "    from siuba import *\n",
    "\n",
    "    from shared_utils import schedule_rt_utils\n",
    "    \n",
    "    def download_vehicle_positions(\n",
    "        date: str,\n",
    "        operator_names: list\n",
    "    ) -> pd.DataFrame:    \n",
    "    \n",
    "        df = (tbls.mart_gtfs.fct_vehicle_locations()\n",
    "              >> filter(_.service_date == date)\n",
    "              >> filter(_.gtfs_dataset_name.isin(operator_names))\n",
    "              >> select(_.gtfs_dataset_key, _.gtfs_dataset_name,\n",
    "                        _.schedule_gtfs_dataset_key,\n",
    "                        _.trip_id, _.trip_instance_key,\n",
    "                        _.location_timestamp,\n",
    "                        _.location)\n",
    "                  >> collect()\n",
    "             )"
   ]
  },
  {
   "cell_type": "code",
   "execution_count": 1,
   "id": "78a70c5e-a8fc-4644-b8d0-5bf4e2481cf7",
   "metadata": {},
   "outputs": [
    {
     "name": "stderr",
     "output_type": "stream",
     "text": [
      "/opt/conda/lib/python3.9/site-packages/google/auth/_default.py:78: UserWarning: Your application has authenticated using end user credentials from Google Cloud SDK without a quota project. You might receive a \"quota exceeded\" or \"API not enabled\" error. See the following page for troubleshooting: https://cloud.google.com/docs/authentication/adc-troubleshooting/user-creds. \n",
      "  warnings.warn(_CLOUD_SDK_CREDENTIALS_WARNING)\n",
      "/opt/conda/lib/python3.9/site-packages/google/auth/_default.py:78: UserWarning: Your application has authenticated using end user credentials from Google Cloud SDK without a quota project. You might receive a \"quota exceeded\" or \"API not enabled\" error. See the following page for troubleshooting: https://cloud.google.com/docs/authentication/adc-troubleshooting/user-creds. \n",
      "  warnings.warn(_CLOUD_SDK_CREDENTIALS_WARNING)\n",
      "/opt/conda/lib/python3.9/site-packages/google/auth/_default.py:78: UserWarning: Your application has authenticated using end user credentials from Google Cloud SDK without a quota project. You might receive a \"quota exceeded\" or \"API not enabled\" error. See the following page for troubleshooting: https://cloud.google.com/docs/authentication/adc-troubleshooting/user-creds. \n",
      "  warnings.warn(_CLOUD_SDK_CREDENTIALS_WARNING)\n"
     ]
    }
   ],
   "source": [
    "#imports copied from download_vehicle_position.py script\n",
    "\n",
    "import datetime\n",
    "import gcsfs\n",
    "import geopandas as gpd\n",
    "import pandas as pd\n",
    "import shapely\n",
    "import sys\n",
    "\n",
    "from calitp_data_analysis.tables import tbls\n",
    "from calitp_data_analysis import utils\n",
    "from loguru import logger\n",
    "from siuba import *\n",
    "\n",
    "from shared_utils import schedule_rt_utils\n",
    "from shared_utils import geography_utils"
   ]
  },
  {
   "cell_type": "code",
   "execution_count": 2,
   "id": "500bfadf-a3f9-48a1-b53b-662ca1f8a20f",
   "metadata": {},
   "outputs": [],
   "source": [
    "# test to query fct_monthly_routes\n",
    "def get_monthly_routes(\n",
    "        year: str,\n",
    "        months: list\n",
    "    ) -> pd.DataFrame:    \n",
    "    \n",
    "        df = (tbls.mart_gtfs.fct_monthly_routes()\n",
    "              >> filter(_.year == year)\n",
    "              >> filter(_.month.isin(months))\n",
    "              >> select(_.key, _.source_record_id,\n",
    "                        _.name,\n",
    "                        _.route_id, _.shape_id,\n",
    "                        _.month,\n",
    "                        _.year,\n",
    "                       _.pt_array)\n",
    "                  >> collect()\n",
    "             )\n",
    "        return df"
   ]
  },
  {
   "cell_type": "code",
   "execution_count": 4,
   "id": "64984523-58a9-4f63-8b5d-df38648cd3c6",
   "metadata": {},
   "outputs": [],
   "source": [
    "df = get_monthly_routes(2023, [4, 5, 6, 7, 8, 9])"
   ]
  },
  {
   "cell_type": "code",
   "execution_count": 9,
   "id": "92007a9e-dec7-4852-bc34-f73d62c5ed9d",
   "metadata": {},
   "outputs": [
    {
     "data": {
      "text/plain": [
       "(24325, 8)"
      ]
     },
     "execution_count": 9,
     "metadata": {},
     "output_type": "execute_result"
    }
   ],
   "source": [
    "df.shape"
   ]
  },
  {
   "cell_type": "code",
   "execution_count": 6,
   "id": "7055693e-837a-4c27-b01f-7861749650ab",
   "metadata": {},
   "outputs": [
    {
     "data": {
      "text/plain": [
       "8    4254\n",
       "6    4235\n",
       "5    4180\n",
       "9    4172\n",
       "4    3848\n",
       "7    3636\n",
       "Name: month, dtype: int64"
      ]
     },
     "execution_count": 6,
     "metadata": {},
     "output_type": "execute_result"
    }
   ],
   "source": [
    "df.month.value_counts()"
   ]
  },
  {
   "cell_type": "code",
   "execution_count": null,
   "id": "1513ce16-3f4c-4b78-9910-357e8d940d0c",
   "metadata": {},
   "outputs": [],
   "source": [
    "#testing export to GCS > csuyat_folder\n",
    "\n",
    "# 'gs://calitp-analytics-data/data-analyses/csuyat_folder/##FILENAME##.parquet'\n",
    "# df.to_parquet()\n",
    "\n",
    "#sucsessfully written to GCS, to csuyat_folder. need to export to gtfs_schedule folder \n",
    "\n",
    "#df.to_parquet('gs://calitp-analytics-data/data-analyses/csuyat_folder/route_identification_2023_m03_m05.parquet')"
   ]
  },
  {
   "cell_type": "markdown",
   "id": "90503063-e37d-4952-9a2b-685facefcd87",
   "metadata": {},
   "source": [
    " make df to GPD \n",
    "<br>Query data from warehouse, then use this snippet from `make_routes_gdf` from `_shared_utils/shared_utils/geography_utils.py`.\n",
    "* ddf[\"geometry\"] = ddf.pt_array.apply(make_linestring)\n",
    "    \n",
    "<br> then save out as geo parquet to the `gtfs_schedule` folder in GCS (so versioning and history stays) using \n",
    "* utils.geoparquet_gcs_export(\n",
    "                vp_gdf,\n",
    "                SEGMENT_GCS,\n",
    "                f\"vp_{analysis_date}\"\n",
    "            )"
   ]
  },
  {
   "cell_type": "code",
   "execution_count": 8,
   "id": "11fb6f6b-ff9f-4a1f-b962-3b4de22b4982",
   "metadata": {},
   "outputs": [],
   "source": [
    "#test of make_routes_gdf\n",
    "\n",
    "aprl_sept_2023_routes = geography_utils.make_routes_gdf(df, \"EPSG:4326\")"
   ]
  },
  {
   "cell_type": "code",
   "execution_count": 24,
   "id": "36a9a610-071c-410e-9850-b4dc2f5fc032",
   "metadata": {},
   "outputs": [
    {
     "data": {
      "text/plain": [
       "geopandas.geodataframe.GeoDataFrame"
      ]
     },
     "metadata": {},
     "output_type": "display_data"
    },
    {
     "data": {
      "text/plain": [
       "Index(['key', 'source_record_id', 'name', 'route_id', 'shape_id', 'month',\n",
       "       'year', 'geometry'],\n",
       "      dtype='object')"
      ]
     },
     "metadata": {},
     "output_type": "display_data"
    },
    {
     "data": {
      "text/plain": [
       "'geometry'"
      ]
     },
     "metadata": {},
     "output_type": "display_data"
    }
   ],
   "source": [
    "display(type(aprl_sept_2023_routes))\n",
    "display(aprl_sept_2023_routes.columns)\n",
    "display(aprl_sept_2023_routes.geometry.name)"
   ]
  },
  {
   "cell_type": "code",
   "execution_count": 16,
   "id": "bfffeca6-9a07-49bf-92fc-2d31104d9a13",
   "metadata": {},
   "outputs": [],
   "source": [
    "#writing to gcs bucket\n",
    "aprl_sept_2023_routes.to_parquet('gs://calitp-analytics-data/data-analyses/gtfs_schedule/route_identification_2023_m04_m09.parquet')"
   ]
  },
  {
   "cell_type": "code",
   "execution_count": null,
   "id": "b162029c-c56a-4f65-8cc8-b5e27fbb2639",
   "metadata": {},
   "outputs": [],
   "source": [
    "#test to writing line string"
   ]
  },
  {
   "cell_type": "markdown",
   "id": "6013738e-0f38-4405-8653-d0e8d0ced0ce",
   "metadata": {},
   "source": [
    "---"
   ]
  },
  {
   "cell_type": "code",
   "execution_count": null,
   "id": "7a57e90e-b515-4b71-94e4-dbf1c79789c2",
   "metadata": {},
   "outputs": [],
   "source": [
    "#peaking into df to make sure everything looks good\n",
    "\n",
    "#shape shows 11,927 rows and 8 columns\n",
    "display(df.shape)\n",
    "\n",
    "#type shows data is in df\n",
    "display(type(df))\n",
    "\n",
    "#columns return all the columns we listed in the function\n",
    "display(list(df.columns))\n",
    "\n",
    "#value_counts confirm df only has rows from 2023 March to May\n",
    "display(df.value_counts(subset=['year','month']))"
   ]
  },
  {
   "cell_type": "code",
   "execution_count": 17,
   "id": "bfd73f43-1e22-4759-bf1a-ef6a1cf90aa9",
   "metadata": {
    "tags": []
   },
   "outputs": [],
   "source": [
    "#creating sub-df for 'Sacramento Schedule'\n",
    "#195 rows, 8 columns\n",
    "sac = aprl_sept_2023_routes[aprl_sept_2023_routes['name'] == 'Sacramento Schedule']"
   ]
  },
  {
   "cell_type": "code",
   "execution_count": 23,
   "id": "216d3c77-2fd4-4647-80be-3b1f53513358",
   "metadata": {},
   "outputs": [],
   "source": [
    "#writing sac filtered gdf to gcs\n",
    "sac.to_parquet('gs://calitp-analytics-data/data-analyses/gtfs_schedule/sac_route_identification_2023_m04_m09.parquet')"
   ]
  },
  {
   "cell_type": "code",
   "execution_count": 29,
   "id": "d4f72af9-14cf-43b6-b453-975b3f47c3e1",
   "metadata": {},
   "outputs": [
    {
     "data": {
      "image/svg+xml": [
       "<svg xmlns=\"http://www.w3.org/2000/svg\" xmlns:xlink=\"http://www.w3.org/1999/xlink\" width=\"100.0\" height=\"100.0\" viewBox=\"-121.46858080000001 38.6018392 0.09010160000001122 0.11936159999999774\" preserveAspectRatio=\"xMinYMin meet\"><g transform=\"matrix(1,0,0,-1,0,77.32303999999999)\"><polyline fill=\"none\" stroke=\"#66cc99\" stroke-width=\"0.002387231999999955\" points=\"-121.392211,38.715018 -121.3922,38.715178 -121.39222,38.71569 -121.39223,38.71603 -121.39224,38.7166 -121.39157,38.71661 -121.39107,38.71662 -121.39084,38.71666 -121.39043,38.71678 -121.38999,38.71599 -121.38989,38.71586 -121.38954,38.71547 -121.38988,38.71528 -121.3903,38.71506 -121.39055,38.71495 -121.39069,38.71489 -121.39087,38.71482 -121.39098,38.71477 -121.39128,38.71467 -121.39152,38.7146 -121.39164,38.71457 -121.39194,38.7145 -121.3922,38.71445 -121.3924,38.71437 -121.3924,38.71403 -121.39238,38.71384 -121.39233,38.71362 -121.39226,38.71332 -121.39218,38.71309 -121.39214,38.71297 -121.39205,38.71273 -121.392,38.71261 -121.39196,38.71253 -121.39186,38.71234 -121.39176,38.71217 -121.39167,38.71202 -121.39156,38.71186 -121.39155,38.71184 -121.39142,38.71167 -121.39131,38.71154 -121.39111,38.71133 -121.39099,38.71121 -121.39083,38.71107 -121.39068,38.71095 -121.39062,38.71091 -121.3905,38.71082 -121.39022,38.71063 -121.38992,38.71046 -121.38963,38.71032 -121.38941,38.71023 -121.38919,38.71014 -121.3889,38.71005 -121.38863,38.70997 -121.38851,38.70993 -121.3878,38.70973 -121.38759,38.70967 -121.38742,38.70963 -121.38704,38.70952 -121.38644,38.70935 -121.38624,38.70929 -121.38605,38.70923 -121.38582,38.70915 -121.38555,38.70904 -121.3853,38.70892 -121.38501,38.70876 -121.38478,38.70862 -121.38458,38.70848 -121.38437,38.70832 -121.38413,38.70811 -121.38395,38.70794 -121.38388,38.70786 -121.38375,38.7077 -121.38368,38.70762 -121.38348,38.70734 -121.38335,38.70713 -121.38327,38.70698 -121.38316,38.70674 -121.38309,38.70656 -121.38303,38.70638 -121.38299,38.70622 -121.38296,38.70607 -121.38293,38.70588 -121.38291,38.7056 -121.3829,38.70519 -121.3829,38.70491 -121.3829,38.70474 -121.3829,38.70458 -121.38291,38.70416 -121.38294,38.70386 -121.38294,38.70362 -121.38295,38.70332 -121.38296,38.70308 -121.38295,38.70273 -121.38294,38.7023 -121.38294,38.70203 -121.38294,38.70184 -121.38294,38.70159 -121.38293,38.70142 -121.38294,38.70115 -121.38294,38.70101 -121.38293,38.70025 -121.38293,38.69997 -121.38293,38.69863 -121.38293,38.69845 -121.38293,38.69839 -121.38294,38.69792 -121.38292,38.69658 -121.38292,38.69624 -121.38292,38.69595 -121.38292,38.69564 -121.38292,38.69552 -121.38292,38.69541 -121.38292,38.69523 -121.38292,38.69435 -121.38292,38.69423 -121.38293,38.69352 -121.38293,38.69329 -121.38293,38.693 -121.38294,38.69259 -121.38295,38.69222 -121.38295,38.69213 -121.38296,38.69196 -121.38297,38.69171 -121.38297,38.69165 -121.38297,38.69161 -121.38298,38.69135 -121.38298,38.69122 -121.38298,38.69108 -121.38298,38.6908 -121.38298,38.69039 -121.38349,38.69039 -121.38382,38.69039 -121.38411,38.69039 -121.38442,38.69039 -121.38456,38.69039 -121.38491,38.6904 -121.38524,38.6904 -121.38588,38.6904 -121.38621,38.69041 -121.38651,38.69041 -121.38677,38.69041 -121.38746,38.69042 -121.3877,38.69042 -121.38794,38.69041 -121.3884,38.6904 -121.38861,38.6904 -121.38888,38.69039 -121.389,38.69039 -121.38924,38.69038 -121.38946,38.69038 -121.39022,38.69036 -121.39029,38.69036 -121.39084,38.69035 -121.39115,38.69034 -121.3921,38.69032 -121.39237,38.69032 -121.39242,38.69032 -121.39299,38.69033 -121.3936,38.69034 -121.39379,38.69034 -121.39387,38.69034 -121.39435,38.69035 -121.39449,38.69035 -121.39469,38.69035 -121.3953,38.69035 -121.39565,38.69036 -121.3958,38.69037 -121.39602,38.69038 -121.39637,38.69041 -121.3967,38.69045 -121.39693,38.69047 -121.39707,38.69049 -121.3974,38.69051 -121.39785,38.69052 -121.39845,38.69053 -121.39957,38.69054 -121.40052,38.69055 -121.40134,38.69056 -121.40167,38.69058 -121.40183,38.69058 -121.40199,38.69058 -121.40232,38.69059 -121.40262,38.69059 -121.40283,38.69059 -121.4031,38.69059 -121.40341,38.69059 -121.40395,38.69059 -121.40405,38.69059 -121.40429,38.69058 -121.4047,38.69056 -121.40494,38.69055 -121.40505,38.69055 -121.40517,38.69055 -121.40597,38.69056 -121.40668,38.69057 -121.40738,38.69057 -121.40794,38.69059 -121.40851,38.69062 -121.40898,38.69064 -121.40961,38.69064 -121.40976,38.69064 -121.4106,38.69065 -121.41183,38.69067 -121.41267,38.69068 -121.41416,38.6907 -121.41428,38.6907 -121.41438,38.6907 -121.41522,38.69071 -121.41644,38.69072 -121.41779,38.69073 -121.41782,38.69073 -121.4182,38.69072 -121.41856,38.69072 -121.41891,38.69072 -121.41902,38.69072 -121.41986,38.69071 -121.42088,38.6907 -121.42171,38.69069 -121.42305,38.69068 -121.42348,38.69067 -121.42365,38.69067 -121.42383,38.69067 -121.42421,38.69064 -121.42448,38.6906 -121.42478,38.69055 -121.42514,38.69048 -121.42548,38.6904 -121.42575,38.69033 -121.42607,38.69023 -121.42633,38.69014 -121.42638,38.69012 -121.4267,38.68999 -121.42703,38.68984 -121.42712,38.68979 -121.42729,38.6897 -121.42755,38.68955 -121.42778,38.68942 -121.42804,38.68925 -121.4282,38.68914 -121.42843,38.68899 -121.42873,38.68879 -121.42938,38.68835 -121.42973,38.68811 -121.43017,38.68781 -121.43048,38.6876 -121.43099,38.68724 -121.43175,38.68673 -121.43235,38.68633 -121.433,38.68588 -121.43319,38.68575 -121.43373,38.68539 -121.43422,38.68507 -121.43442,38.68495 -121.43454,38.68488 -121.43507,38.68463 -121.43511,38.68461 -121.43557,38.68442 -121.43599,38.68428 -121.43653,38.68414 -121.43665,38.68411 -121.43711,38.68402 -121.43735,38.68399 -121.43748,38.68397 -121.43782,38.68394 -121.4381,38.68392 -121.4384,38.68392 -121.43839,38.68449 -121.43837,38.68501 -121.43837,38.68518 -121.43837,38.68535 -121.43836,38.68624 -121.43836,38.68697 -121.43835,38.68919 -121.43835,38.68982 -121.43977,38.68983 -121.44051,38.68983 -121.44072,38.68985 -121.44098,38.68992 -121.44115,38.69001 -121.44214,38.69092 -121.44243,38.69117 -121.4427,38.69142 -121.44276,38.69147 -121.44284,38.69153 -121.44341,38.69205 -121.44354,38.69216 -121.44372,38.69232 -121.44412,38.69206 -121.44479,38.6916 -121.44521,38.69131 -121.44529,38.69125 -121.44555,38.69108 -121.44564,38.69105 -121.44586,38.69104 -121.44621,38.69105 -121.44647,38.69106 -121.44677,38.69106 -121.44697,38.69106 -121.44714,38.69106 -121.44742,38.69106 -121.44761,38.69106 -121.44784,38.69106 -121.44798,38.69106 -121.44817,38.69107 -121.44828,38.69107 -121.44855,38.69107 -121.44876,38.69107 -121.44913,38.69107 -121.44967,38.69108 -121.44984,38.69108 -121.44994,38.69108 -121.45035,38.69108 -121.45079,38.69109 -121.45109,38.69109 -121.45224,38.69111 -121.4534,38.69113 -121.45457,38.69115 -121.45512,38.69116 -121.45571,38.69117 -121.45613,38.69117 -121.45638,38.69117 -121.45687,38.69117 -121.45962,38.6912 -121.46148,38.69121 -121.46152,38.69061 -121.46153,38.69048 -121.46153,38.68824 -121.46151,38.68796 -121.46151,38.68762 -121.4615,38.68706 -121.4615,38.68633 -121.46151,38.68562 -121.46151,38.68493 -121.46149,38.68448 -121.4615,38.68398 -121.4615,38.68387 -121.46058,38.68389 -121.45957,38.6839 -121.45953,38.6839 -121.45871,38.68389 -121.45808,38.68388 -121.45793,38.68388 -121.4576,38.68387 -121.45747,38.68386 -121.45688,38.68383 -121.45688,38.68342 -121.45688,38.68316 -121.45688,38.68291 -121.45688,38.68229 -121.45688,38.68205 -121.45688,38.68027 -121.45688,38.67973 -121.45686,38.67709 -121.45686,38.67666 -121.45686,38.67626 -121.45686,38.67592 -121.45686,38.67586 -121.45686,38.67537 -121.45686,38.67527 -121.45686,38.67495 -121.45684,38.67479 -121.45681,38.67465 -121.45677,38.67452 -121.45672,38.6744 -121.45666,38.67429 -121.45638,38.67385 -121.45623,38.67362 -121.45614,38.67348 -121.45602,38.6733 -121.45584,38.67302 -121.45581,38.67297 -121.4556,38.67264 -121.45552,38.67251 -121.45544,38.67237 -121.45509,38.67182 -121.45459,38.67105 -121.45425,38.6706 -121.45383,38.67009 -121.45317,38.66931 -121.45295,38.66905 -121.45188,38.66777 -121.4517,38.66756 -121.45096,38.66668 -121.45035,38.66596 -121.44885,38.66416 -121.4485,38.66374 -121.44818,38.66336 -121.44804,38.66318 -121.44793,38.66304 -121.44787,38.66295 -121.4478,38.66282 -121.44775,38.66271 -121.44772,38.66259 -121.4477,38.66248 -121.4477,38.66235 -121.4477,38.66208 -121.4477,38.66175 -121.44771,38.6612 -121.44773,38.66067 -121.44773,38.66027 -121.44773,38.65982 -121.44773,38.65952 -121.44773,38.65934 -121.44773,38.65845 -121.44773,38.65772 -121.44773,38.65615 -121.44774,38.65556 -121.44774,38.65537 -121.44774,38.65482 -121.44774,38.6545 -121.44774,38.65429 -121.44774,38.65401 -121.44774,38.65389 -121.44774,38.65375 -121.44775,38.65305 -121.44775,38.6527 -121.44775,38.65152 -121.44775,38.65147 -121.44775,38.65097 -121.44775,38.64937 -121.44775,38.64855 -121.44775,38.64818 -121.44775,38.64797 -121.44775,38.64757 -121.44828,38.64758 -121.44925,38.64759 -121.44961,38.64759 -121.45003,38.6476 -121.4507,38.6476 -121.4515,38.64761 -121.45196,38.64762 -121.45225,38.64762 -121.45229,38.64762 -121.4524,38.64762 -121.45317,38.64763 -121.45349,38.64763 -121.45391,38.64764 -121.45411,38.64764 -121.4544,38.64764 -121.45495,38.64765 -121.45533,38.64765 -121.45575,38.64766 -121.4561,38.64766 -121.45661,38.64767 -121.45692,38.64767 -121.45692,38.64726 -121.45692,38.64695 -121.45692,38.64673 -121.45692,38.64658 -121.45691,38.64579 -121.45691,38.64558 -121.45691,38.64553 -121.45691,38.64543 -121.4569,38.64484 -121.4569,38.64475 -121.4569,38.64457 -121.4569,38.64453 -121.4569,38.64405 -121.45691,38.64364 -121.45691,38.64343 -121.45691,38.64325 -121.45691,38.64274 -121.45691,38.64247 -121.45691,38.64206 -121.45691,38.6415 -121.45691,38.64138 -121.45691,38.64128 -121.45689,38.64073 -121.4569,38.64015 -121.4569,38.63996 -121.4569,38.63988 -121.4569,38.63965 -121.45691,38.63927 -121.45691,38.63916 -121.45692,38.63864 -121.45692,38.6382 -121.45692,38.63805 -121.45692,38.63771 -121.45691,38.63725 -121.45691,38.63679 -121.45691,38.63638 -121.45691,38.63581 -121.45692,38.63509 -121.45692,38.63483 -121.45692,38.63468 -121.45692,38.63464 -121.45692,38.63447 -121.45692,38.63428 -121.45692,38.63383 -121.45692,38.63349 -121.45692,38.63316 -121.45692,38.63286 -121.45692,38.63268 -121.45692,38.63165 -121.45692,38.6315 -121.45692,38.63131 -121.45692,38.6311 -121.45692,38.63105 -121.45692,38.63089 -121.45692,38.6307 -121.45692,38.6305 -121.45691,38.63016 -121.45691,38.62973 -121.45691,38.62928 -121.45692,38.62858 -121.45692,38.62846 -121.45692,38.6282 -121.45692,38.62791 -121.45692,38.62764 -121.45692,38.62713 -121.45692,38.62693 -121.45692,38.62683 -121.45692,38.62663 -121.45692,38.62645 -121.45692,38.62627 -121.45691,38.62609 -121.45691,38.62592 -121.45693,38.62556 -121.45696,38.62517 -121.45697,38.62501 -121.45699,38.62475 -121.45702,38.62421 -121.45704,38.6239 -121.45704,38.62369 -121.45704,38.62352 -121.45702,38.62327 -121.45701,38.62318 -121.45693,38.62259 -121.45692,38.62242 -121.45691,38.62193 -121.45692,38.62151 -121.45692,38.62119 -121.45693,38.62056 -121.45693,38.62008 -121.45693,38.61971 -121.45693,38.61951 -121.45693,38.61918 -121.45693,38.61913 -121.45693,38.61906 -121.45693,38.61871 -121.45693,38.61834 -121.45693,38.61803 -121.45693,38.61774 -121.45693,38.61721 -121.45693,38.61684 -121.45693,38.61649 -121.45693,38.61534 -121.45693,38.615 -121.45693,38.61473 -121.45693,38.6146 -121.45694,38.61455 -121.45695,38.6145 -121.45696,38.61446 -121.45701,38.61435 -121.45713,38.61419 -121.45728,38.61407 -121.45771,38.61385 -121.45794,38.61374 -121.4584,38.61351 -121.45883,38.61331 -121.45895,38.61324 -121.4592,38.61309 -121.45931,38.61293 -121.45935,38.61281 -121.45937,38.61276 -121.45937,38.61255 -121.45937,38.61247 -121.45936,38.61215 -121.45935,38.61165 -121.45935,38.61156 -121.45935,38.6115 -121.45935,38.61111 -121.45936,38.61078 -121.45936,38.6107 -121.45937,38.61049 -121.45937,38.61042 -121.45937,38.61029 -121.45937,38.61026 -121.45936,38.61015 -121.45936,38.61001 -121.45943,38.61001 -121.45952,38.60999 -121.45961,38.60994 -121.46059,38.60942 -121.46082,38.6093 -121.46101,38.6092 -121.46117,38.60911 -121.46164,38.60886 -121.46177,38.60879 -121.46235,38.60848 -121.46302,38.60811 -121.46352,38.60785 -121.46356,38.60783 -121.46361,38.6078 -121.46388,38.60765 -121.46404,38.60755 -121.46416,38.60748 -121.46415,38.60694 -121.46415,38.6065 -121.46415,38.60642 -121.46414,38.60629 -121.46371,38.60628 -121.46344,38.60628 -121.46291,38.60627 -121.4624,38.60627 -121.46233,38.60627 -121.46225,38.60627 -121.46189,38.60626 -121.46175,38.60626 -121.46078,38.60627 -121.4606,38.60627 -121.46041,38.60627 -121.46025,38.60627 -121.45997,38.60628 -121.45972,38.60628 -121.45933,38.6063 -121.45892,38.60632 -121.45878,38.60633 -121.45867,38.60633 -121.45857,38.60637 -121.45795,38.60641 -121.45775,38.60642 -121.45747,38.60642 -121.456865,38.606408 -121.456703,38.606399 -121.45652,38.60641\" opacity=\"0.8\" /></g></svg>"
      ],
      "text/plain": [
       "<LINESTRING (-121.392 38.715, -121.392 38.715, -121.392 38.716, -121.392 38....>"
      ]
     },
     "execution_count": 29,
     "metadata": {},
     "output_type": "execute_result"
    }
   ],
   "source": [
    "#test plot \n",
    "sac.geometry.iloc[2]\n"
   ]
  },
  {
   "cell_type": "code",
   "execution_count": 18,
   "id": "425e7286-1880-4148-8789-dfa2c561f1ea",
   "metadata": {},
   "outputs": [
    {
     "data": {
      "text/plain": [
       "(393, 8)"
      ]
     },
     "metadata": {},
     "output_type": "display_data"
    },
    {
     "data": {
      "text/html": [
       "<div>\n",
       "<style scoped>\n",
       "    .dataframe tbody tr th:only-of-type {\n",
       "        vertical-align: middle;\n",
       "    }\n",
       "\n",
       "    .dataframe tbody tr th {\n",
       "        vertical-align: top;\n",
       "    }\n",
       "\n",
       "    .dataframe thead th {\n",
       "        text-align: right;\n",
       "    }\n",
       "</style>\n",
       "<table border=\"1\" class=\"dataframe\">\n",
       "  <thead>\n",
       "    <tr style=\"text-align: right;\">\n",
       "      <th></th>\n",
       "      <th>key</th>\n",
       "      <th>source_record_id</th>\n",
       "      <th>name</th>\n",
       "      <th>route_id</th>\n",
       "      <th>shape_id</th>\n",
       "      <th>month</th>\n",
       "      <th>year</th>\n",
       "      <th>geometry</th>\n",
       "    </tr>\n",
       "  </thead>\n",
       "  <tbody>\n",
       "    <tr>\n",
       "      <th>74</th>\n",
       "      <td>92ee64d95ea83c42a7922ae020226a66</td>\n",
       "      <td>recbzZQUIdMmFvm1r</td>\n",
       "      <td>Sacramento Schedule</td>\n",
       "      <td>213</td>\n",
       "      <td>45439</td>\n",
       "      <td>4</td>\n",
       "      <td>2023</td>\n",
       "      <td>LINESTRING (-121.43869 38.52790, -121.43870 38...</td>\n",
       "    </tr>\n",
       "    <tr>\n",
       "      <th>122</th>\n",
       "      <td>efb3865f306856498fc37d50203b2590</td>\n",
       "      <td>recbzZQUIdMmFvm1r</td>\n",
       "      <td>Sacramento Schedule</td>\n",
       "      <td>102</td>\n",
       "      <td>45972</td>\n",
       "      <td>8</td>\n",
       "      <td>2023</td>\n",
       "      <td>None</td>\n",
       "    </tr>\n",
       "    <tr>\n",
       "      <th>142</th>\n",
       "      <td>4def6187dada1c5406da712ebc6ffd53</td>\n",
       "      <td>recbzZQUIdMmFvm1r</td>\n",
       "      <td>Sacramento Schedule</td>\n",
       "      <td>019</td>\n",
       "      <td>45281</td>\n",
       "      <td>4</td>\n",
       "      <td>2023</td>\n",
       "      <td>LINESTRING (-121.39221 38.71502, -121.39220 38...</td>\n",
       "    </tr>\n",
       "  </tbody>\n",
       "</table>\n",
       "</div>"
      ],
      "text/plain": [
       "                                  key   source_record_id                 name  \\\n",
       "74   92ee64d95ea83c42a7922ae020226a66  recbzZQUIdMmFvm1r  Sacramento Schedule   \n",
       "122  efb3865f306856498fc37d50203b2590  recbzZQUIdMmFvm1r  Sacramento Schedule   \n",
       "142  4def6187dada1c5406da712ebc6ffd53  recbzZQUIdMmFvm1r  Sacramento Schedule   \n",
       "\n",
       "    route_id shape_id  month  year  \\\n",
       "74       213    45439      4  2023   \n",
       "122      102    45972      8  2023   \n",
       "142      019    45281      4  2023   \n",
       "\n",
       "                                              geometry  \n",
       "74   LINESTRING (-121.43869 38.52790, -121.43870 38...  \n",
       "122                                               None  \n",
       "142  LINESTRING (-121.39221 38.71502, -121.39220 38...  "
      ]
     },
     "metadata": {},
     "output_type": "display_data"
    }
   ],
   "source": [
    "display(sac.shape)\n",
    "display(sac.head(3))"
   ]
  },
  {
   "cell_type": "code",
   "execution_count": null,
   "id": "81d867e5-d3d1-4338-af9c-77747145fe3c",
   "metadata": {},
   "outputs": [],
   "source": [
    "sac_routes = sac['route_id'].unique()\n"
   ]
  },
  {
   "cell_type": "code",
   "execution_count": null,
   "id": "84b74a42-e642-4f9f-b3a4-11a048006ee3",
   "metadata": {},
   "outputs": [],
   "source": [
    "len(sac_routes)"
   ]
  },
  {
   "cell_type": "markdown",
   "id": "1d4a03f9-7457-4c3c-82f6-8ba548407685",
   "metadata": {},
   "source": [
    "## Next Steps\n",
    "\n",
    "for every `name` and `route_id` in routes, need to see if each row is the same or not. Need to identify any variation in the routes. \n",
    "\n"
   ]
  },
  {
   "cell_type": "markdown",
   "id": "3b5d0e05-7aa8-4930-bcd9-bc632d745cf9",
   "metadata": {},
   "source": [
    "---\n",
    "\n",
    "Trying to use a loop that will create a df for every route_id in sac_routes. but would need to do this for every `name` in the `fct_monthly_routes` df eventually?\n"
   ]
  },
  {
   "cell_type": "code",
   "execution_count": null,
   "id": "c7d3fc70-3b21-42f2-bd6a-057333349cc6",
   "metadata": {},
   "outputs": [],
   "source": [
    "#empty dictionary\n",
    "sac_sub_route_ids = {}\n",
    "\n",
    "#each element in sac_routes will be called route.\n",
    "#for each route in sac_routes, query each row related to that route.(where ever you use the variable route, go 1-by-1 the differnet\n",
    "#then, create a dataframe for each route and place it into the dictionary sub_dataframes\n",
    "for route in sac_routes:\n",
    "    sub_df = sac[sac['route_id'] == route]\n",
    "    sac_sub_route_ids[route] = sub_df"
   ]
  },
  {
   "cell_type": "code",
   "execution_count": null,
   "id": "3272b64b-ffb7-41c2-962d-eff528a03ddc",
   "metadata": {},
   "outputs": [],
   "source": [
    "len(sac_sub_route_ids)"
   ]
  },
  {
   "cell_type": "code",
   "execution_count": null,
   "id": "c1cbf71a-1572-432a-bbf6-5e0f0a3ef47f",
   "metadata": {},
   "outputs": [],
   "source": [
    "#testing dictionary with route 23 and 88\n",
    "sac_sub_route_ids['023']"
   ]
  },
  {
   "cell_type": "markdown",
   "id": "5b684be3-62b3-42eb-86b9-08b05d02253a",
   "metadata": {},
   "source": [
    "---"
   ]
  },
  {
   "cell_type": "code",
   "execution_count": null,
   "id": "30abf0e8-dd05-4805-8801-92f78ffa7a75",
   "metadata": {},
   "outputs": [],
   "source": [
    "#list of unique route names from initial df\n",
    "route_names = df['name'].unique()\n"
   ]
  },
  {
   "cell_type": "code",
   "execution_count": null,
   "id": "b69ace75-b5d9-4433-8adf-b65d92472d26",
   "metadata": {},
   "outputs": [],
   "source": [
    "#new loop that creates a dictionary of each unique schedule name with all its routes.\n",
    "sub_route_name = {}\n",
    "\n",
    "for name in route_names:\n",
    "    sub_df2 = df[df['name'] == name]\n",
    "    sub_route_name[name] = sub_df2\n",
    "    "
   ]
  },
  {
   "cell_type": "code",
   "execution_count": null,
   "id": "82abf8d4-b157-453b-aa45-a91d4905f8bc",
   "metadata": {},
   "outputs": [],
   "source": [
    "#test to see if new dictionary works\n",
    "sub_route_name['Auburn Schedule']"
   ]
  },
  {
   "cell_type": "markdown",
   "id": "4b055e09-1396-4af9-8b0f-49faab6207bc",
   "metadata": {},
   "source": [
    "## Now I have `sac_sub_route_ids` and `sub_route_name` dictionaries\n",
    "\n",
    "Examples of some noteable routes with slight variations over time."
   ]
  },
  {
   "cell_type": "code",
   "execution_count": null,
   "id": "6f225d6b-11de-48c8-9b4d-8e7ed16861d8",
   "metadata": {},
   "outputs": [],
   "source": [
    "#General observations for Sacramento Schedule: \n",
    "#shape_id changes every month. \n",
    "#pt_array changes every month, however, did get a warning upon initial query of data so may need to review query to account for geodata\n",
    "#Month 4 has the point geom data\n",
    "\n",
    "display(sac_sub_route_ids['088'])\n",
    "display(sac_sub_route_ids['023'])\n",
    "display(sac_sub_route_ids['105'])\n",
    "display(sac_sub_route_ids['F20'])\n",
    "display(sac_sub_route_ids['215'])"
   ]
  },
  {
   "cell_type": "code",
   "execution_count": null,
   "id": "f784a5fa-276d-4d48-b512-b25daa5def1d",
   "metadata": {},
   "outputs": [],
   "source": [
    "#test to see other route names\n",
    "#other route names have more point geometry than Sacramento.\n",
    "display(sub_route_name['Santa Cruz Schedule'])\n",
    "display(sub_route_name['Merced Schedule'])\n",
    "display(sub_route_name['San Diego Schedule'])\n",
    "display(sub_route_name['Roseville Schedule'])"
   ]
  },
  {
   "cell_type": "code",
   "execution_count": null,
   "id": "16d75337-2544-4371-afa8-52b88fe06eb6",
   "metadata": {},
   "outputs": [],
   "source": [
    "import importlib\n",
    "\n",
    "importlib.reload(segment_speed_utils)\n",
    "from segment_speed_utils.project_vars import SCHED_GCS, analysis_date"
   ]
  },
  {
   "cell_type": "code",
   "execution_count": null,
   "id": "c8ec3566-e221-4165-8f52-d42146d3c64e",
   "metadata": {},
   "outputs": [],
   "source": []
  }
 ],
 "metadata": {
  "kernelspec": {
   "display_name": "Python 3 (ipykernel)",
   "language": "python",
   "name": "python3"
  },
  "language_info": {
   "codemirror_mode": {
    "name": "ipython",
    "version": 3
   },
   "file_extension": ".py",
   "mimetype": "text/x-python",
   "name": "python",
   "nbconvert_exporter": "python",
   "pygments_lexer": "ipython3",
   "version": "3.9.13"
  }
 },
 "nbformat": 4,
 "nbformat_minor": 5
}
