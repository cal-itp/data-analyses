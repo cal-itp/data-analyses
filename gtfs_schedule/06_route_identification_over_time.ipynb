{
 "cells": [
  {
   "cell_type": "markdown",
   "id": "9f2b17f8-faef-489a-9f55-e3defc8b33ea",
   "metadata": {},
   "source": [
    "# Route Identification Over Time, Approach 1\n",
    "\n",
    "Recent observations shows small chages in routes over time. Specifically in the following fields:\n",
    "* route ID\n",
    "* route short name\n",
    "* route long name\n",
    "* route desc\n",
    "\n",
    "Need to observe these route changes in order to account for these changes in future analyses.\n",
    "\n",
    "## Objective\n",
    "1. Query data from `fct_monthly_routes` to help identify variences in Routes. Query for 2023, a couple of months. \n",
    "2. Save data to GCS `gtfs_schedule` bucket\n",
    "3. Filter down data to `Sacramento Regional Transit`, identify and observe routes for any variences\n"
   ]
  },
  {
   "cell_type": "code",
   "execution_count": 40,
   "id": "78a70c5e-a8fc-4644-b8d0-5bf4e2481cf7",
   "metadata": {},
   "outputs": [],
   "source": [
    "#imports copied from download_vehicle_position.py script\n",
    "\n",
    "import datetime\n",
    "import gcsfs\n",
    "import geopandas as gpd\n",
    "import pandas as pd\n",
    "import shapely\n",
    "import sys\n",
    "\n",
    "from calitp_data_analysis.tables import tbls\n",
    "from calitp_data_analysis import utils\n",
    "from loguru import logger\n",
    "from siuba import *\n",
    "\n",
    "from shared_utils import schedule_rt_utils\n",
    "from shared_utils import geography_utils\n",
    "\n"
   ]
  },
  {
   "cell_type": "code",
   "execution_count": 55,
   "id": "52b83a92-82bf-43b0-8cc6-4e709c693ee6",
   "metadata": {},
   "outputs": [],
   "source": [
    "#from metabase, joined fct_monthly_routes with dim_providers_gtfs_data.saved results to gcs\n",
    "#test reading in data for  sacramento schedule m4 to m9,\n",
    "\n",
    "df = pd.read_csv('gs://calitp-analytics-data/data-analyses/gtfs_schedule/sacrament_schedule_route_id_2023_m4_m9.csv')"
   ]
  },
  {
   "cell_type": "code",
   "execution_count": 56,
   "id": "b6e89a1e-3be5-4aa2-a1dc-9e019050f33a",
   "metadata": {},
   "outputs": [
    {
     "data": {
      "text/plain": [
       "(1179, 18)"
      ]
     },
     "execution_count": 56,
     "metadata": {},
     "output_type": "execute_result"
    }
   ],
   "source": [
    "df.shape"
   ]
  },
  {
   "cell_type": "markdown",
   "id": "f1b9a24b-73e3-4dc8-a3cd-6b813af92c09",
   "metadata": {},
   "source": [
    "## cleaning metabase data of fct_monthly_routes and dim_providers_gtfs_data"
   ]
  },
  {
   "cell_type": "code",
   "execution_count": 57,
   "id": "dd410b7f-e7e9-4708-92cc-278c1ad65487",
   "metadata": {},
   "outputs": [
    {
     "data": {
      "text/plain": [
       "Index(['Key', 'Dim Provider Gtfs Data → Schedule Gtfs Dataset Key', 'Name',\n",
       "       'Month', 'Year', 'Month Last Day',\n",
       "       'Dim Provider Gtfs Data → Valid From',\n",
       "       'Dim Provider Gtfs Data → Valid To', 'Source Record ID', 'Route ID',\n",
       "       'Shape ID', 'Dim Provider Gtfs Data → Organization Name',\n",
       "       'Dim Provider Gtfs Data → Service Name',\n",
       "       'Dim Provider Gtfs Data → Schedule Gtfs Dataset Name',\n",
       "       'Dim Provider Gtfs Data → Organization Source Record ID',\n",
       "       'Dim Provider Gtfs Data → Service Source Record ID',\n",
       "       'Dim Provider Gtfs Data → Schedule Source Record ID',\n",
       "       'Distinct values of Key'],\n",
       "      dtype='object')"
      ]
     },
     "execution_count": 57,
     "metadata": {},
     "output_type": "execute_result"
    }
   ],
   "source": [
    "#looking at columns name\n",
    "df.columns"
   ]
  },
  {
   "cell_type": "code",
   "execution_count": 58,
   "id": "158d562d-aa39-49e5-8729-1295464fecf5",
   "metadata": {},
   "outputs": [],
   "source": [
    "#function that replaces spaces with _ and make lower case\n",
    "#effectively making snakecase\n",
    "def cleaner(df):\n",
    "    df.columns = df.columns.str.replace(' ','_')\n",
    "    df.columns = df.columns.str.lower()\n",
    "    return df"
   ]
  },
  {
   "cell_type": "code",
   "execution_count": 59,
   "id": "022c7306-20ed-499f-8ea0-9b79c72d60bb",
   "metadata": {},
   "outputs": [
    {
     "data": {
      "text/html": [
       "<div>\n",
       "<style scoped>\n",
       "    .dataframe tbody tr th:only-of-type {\n",
       "        vertical-align: middle;\n",
       "    }\n",
       "\n",
       "    .dataframe tbody tr th {\n",
       "        vertical-align: top;\n",
       "    }\n",
       "\n",
       "    .dataframe thead th {\n",
       "        text-align: right;\n",
       "    }\n",
       "</style>\n",
       "<table border=\"1\" class=\"dataframe\">\n",
       "  <thead>\n",
       "    <tr style=\"text-align: right;\">\n",
       "      <th></th>\n",
       "      <th>key</th>\n",
       "      <th>dim_provider_gtfs_data_→_schedule_gtfs_dataset_key</th>\n",
       "      <th>name</th>\n",
       "      <th>month</th>\n",
       "      <th>year</th>\n",
       "      <th>month_last_day</th>\n",
       "      <th>dim_provider_gtfs_data_→_valid_from</th>\n",
       "      <th>dim_provider_gtfs_data_→_valid_to</th>\n",
       "      <th>source_record_id</th>\n",
       "      <th>route_id</th>\n",
       "      <th>shape_id</th>\n",
       "      <th>dim_provider_gtfs_data_→_organization_name</th>\n",
       "      <th>dim_provider_gtfs_data_→_service_name</th>\n",
       "      <th>dim_provider_gtfs_data_→_schedule_gtfs_dataset_name</th>\n",
       "      <th>dim_provider_gtfs_data_→_organization_source_record_id</th>\n",
       "      <th>dim_provider_gtfs_data_→_service_source_record_id</th>\n",
       "      <th>dim_provider_gtfs_data_→_schedule_source_record_id</th>\n",
       "      <th>distinct_values_of_key</th>\n",
       "    </tr>\n",
       "  </thead>\n",
       "  <tbody>\n",
       "    <tr>\n",
       "      <th>0</th>\n",
       "      <td>c5f18e65ac0287bb0fd02f379ca29ea6</td>\n",
       "      <td>cb3074eb8b423dfc5acfeeb0de95eb82</td>\n",
       "      <td>Sacramento Schedule</td>\n",
       "      <td>4</td>\n",
       "      <td>2023</td>\n",
       "      <td>2023-04-30</td>\n",
       "      <td>2023-10-25T00:00:00-07:00</td>\n",
       "      <td>2098-12-31T00:00:00-08:00</td>\n",
       "      <td>recbzZQUIdMmFvm1r</td>\n",
       "      <td>001</td>\n",
       "      <td>45267</td>\n",
       "      <td>Sacramento Regional Transit District</td>\n",
       "      <td>SacRT Light Rail</td>\n",
       "      <td>Sacramento Schedule</td>\n",
       "      <td>recX9lccSE1jmjsmG</td>\n",
       "      <td>rec4ngaW4prJCvuQv</td>\n",
       "      <td>recbzZQUIdMmFvm1r</td>\n",
       "      <td>1</td>\n",
       "    </tr>\n",
       "    <tr>\n",
       "      <th>1</th>\n",
       "      <td>c5f18e65ac0287bb0fd02f379ca29ea6</td>\n",
       "      <td>cb3074eb8b423dfc5acfeeb0de95eb82</td>\n",
       "      <td>Sacramento Schedule</td>\n",
       "      <td>4</td>\n",
       "      <td>2023</td>\n",
       "      <td>2023-04-30</td>\n",
       "      <td>2023-10-25T00:00:00-07:00</td>\n",
       "      <td>2098-12-31T00:00:00-08:00</td>\n",
       "      <td>recbzZQUIdMmFvm1r</td>\n",
       "      <td>001</td>\n",
       "      <td>45267</td>\n",
       "      <td>Sacramento Regional Transit District</td>\n",
       "      <td>Sacramento Regional Transit District Bus</td>\n",
       "      <td>Sacramento Schedule</td>\n",
       "      <td>recX9lccSE1jmjsmG</td>\n",
       "      <td>recucpbla6cP2ZdsV</td>\n",
       "      <td>recbzZQUIdMmFvm1r</td>\n",
       "      <td>1</td>\n",
       "    </tr>\n",
       "    <tr>\n",
       "      <th>2</th>\n",
       "      <td>3b0ac6b0456475b1a12156a6ca203abf</td>\n",
       "      <td>cb3074eb8b423dfc5acfeeb0de95eb82</td>\n",
       "      <td>Sacramento Schedule</td>\n",
       "      <td>4</td>\n",
       "      <td>2023</td>\n",
       "      <td>2023-04-30</td>\n",
       "      <td>2023-10-25T00:00:00-07:00</td>\n",
       "      <td>2098-12-31T00:00:00-08:00</td>\n",
       "      <td>recbzZQUIdMmFvm1r</td>\n",
       "      <td>011</td>\n",
       "      <td>45273</td>\n",
       "      <td>Sacramento Regional Transit District</td>\n",
       "      <td>SacRT Light Rail</td>\n",
       "      <td>Sacramento Schedule</td>\n",
       "      <td>recX9lccSE1jmjsmG</td>\n",
       "      <td>rec4ngaW4prJCvuQv</td>\n",
       "      <td>recbzZQUIdMmFvm1r</td>\n",
       "      <td>1</td>\n",
       "    </tr>\n",
       "    <tr>\n",
       "      <th>3</th>\n",
       "      <td>3b0ac6b0456475b1a12156a6ca203abf</td>\n",
       "      <td>cb3074eb8b423dfc5acfeeb0de95eb82</td>\n",
       "      <td>Sacramento Schedule</td>\n",
       "      <td>4</td>\n",
       "      <td>2023</td>\n",
       "      <td>2023-04-30</td>\n",
       "      <td>2023-10-25T00:00:00-07:00</td>\n",
       "      <td>2098-12-31T00:00:00-08:00</td>\n",
       "      <td>recbzZQUIdMmFvm1r</td>\n",
       "      <td>011</td>\n",
       "      <td>45273</td>\n",
       "      <td>Sacramento Regional Transit District</td>\n",
       "      <td>Sacramento Regional Transit District Bus</td>\n",
       "      <td>Sacramento Schedule</td>\n",
       "      <td>recX9lccSE1jmjsmG</td>\n",
       "      <td>recucpbla6cP2ZdsV</td>\n",
       "      <td>recbzZQUIdMmFvm1r</td>\n",
       "      <td>1</td>\n",
       "    </tr>\n",
       "    <tr>\n",
       "      <th>4</th>\n",
       "      <td>5ee089aa97106d962f283dd7d77fa8eb</td>\n",
       "      <td>cb3074eb8b423dfc5acfeeb0de95eb82</td>\n",
       "      <td>Sacramento Schedule</td>\n",
       "      <td>4</td>\n",
       "      <td>2023</td>\n",
       "      <td>2023-04-30</td>\n",
       "      <td>2023-10-25T00:00:00-07:00</td>\n",
       "      <td>2098-12-31T00:00:00-08:00</td>\n",
       "      <td>recbzZQUIdMmFvm1r</td>\n",
       "      <td>013</td>\n",
       "      <td>45278</td>\n",
       "      <td>Sacramento Regional Transit District</td>\n",
       "      <td>SacRT Light Rail</td>\n",
       "      <td>Sacramento Schedule</td>\n",
       "      <td>recX9lccSE1jmjsmG</td>\n",
       "      <td>rec4ngaW4prJCvuQv</td>\n",
       "      <td>recbzZQUIdMmFvm1r</td>\n",
       "      <td>1</td>\n",
       "    </tr>\n",
       "    <tr>\n",
       "      <th>...</th>\n",
       "      <td>...</td>\n",
       "      <td>...</td>\n",
       "      <td>...</td>\n",
       "      <td>...</td>\n",
       "      <td>...</td>\n",
       "      <td>...</td>\n",
       "      <td>...</td>\n",
       "      <td>...</td>\n",
       "      <td>...</td>\n",
       "      <td>...</td>\n",
       "      <td>...</td>\n",
       "      <td>...</td>\n",
       "      <td>...</td>\n",
       "      <td>...</td>\n",
       "      <td>...</td>\n",
       "      <td>...</td>\n",
       "      <td>...</td>\n",
       "      <td>...</td>\n",
       "    </tr>\n",
       "    <tr>\n",
       "      <th>1174</th>\n",
       "      <td>c73f2bc9cbcb7a70a52bde70c2bfb13a</td>\n",
       "      <td>cb3074eb8b423dfc5acfeeb0de95eb82</td>\n",
       "      <td>Sacramento Schedule</td>\n",
       "      <td>9</td>\n",
       "      <td>2023</td>\n",
       "      <td>2023-09-30</td>\n",
       "      <td>2023-10-30T00:00:00-07:00</td>\n",
       "      <td>2098-12-31T00:00:00-08:00</td>\n",
       "      <td>recbzZQUIdMmFvm1r</td>\n",
       "      <td>30</td>\n",
       "      <td>46359</td>\n",
       "      <td>City of Rancho Cordova</td>\n",
       "      <td>Rancho CordoVan</td>\n",
       "      <td>Sacramento Schedule</td>\n",
       "      <td>rec43oyrfhtPDdRHj</td>\n",
       "      <td>recthtqJiccuHePry</td>\n",
       "      <td>recbzZQUIdMmFvm1r</td>\n",
       "      <td>1</td>\n",
       "    </tr>\n",
       "    <tr>\n",
       "      <th>1175</th>\n",
       "      <td>02a1264dffaae6283fc60f2bb8c1f113</td>\n",
       "      <td>cb3074eb8b423dfc5acfeeb0de95eb82</td>\n",
       "      <td>Sacramento Schedule</td>\n",
       "      <td>9</td>\n",
       "      <td>2023</td>\n",
       "      <td>2023-09-30</td>\n",
       "      <td>2023-10-30T00:00:00-07:00</td>\n",
       "      <td>2098-12-31T00:00:00-08:00</td>\n",
       "      <td>recbzZQUIdMmFvm1r</td>\n",
       "      <td>507</td>\n",
       "      <td>46386</td>\n",
       "      <td>City of Rancho Cordova</td>\n",
       "      <td>Rancho CordoVan</td>\n",
       "      <td>Sacramento Schedule</td>\n",
       "      <td>rec43oyrfhtPDdRHj</td>\n",
       "      <td>recthtqJiccuHePry</td>\n",
       "      <td>recbzZQUIdMmFvm1r</td>\n",
       "      <td>1</td>\n",
       "    </tr>\n",
       "    <tr>\n",
       "      <th>1176</th>\n",
       "      <td>5593e57e23f52c6ec7d5c8e5c26e2dc9</td>\n",
       "      <td>cb3074eb8b423dfc5acfeeb0de95eb82</td>\n",
       "      <td>Sacramento Schedule</td>\n",
       "      <td>9</td>\n",
       "      <td>2023</td>\n",
       "      <td>2023-09-30</td>\n",
       "      <td>2023-10-30T00:00:00-07:00</td>\n",
       "      <td>2098-12-31T00:00:00-08:00</td>\n",
       "      <td>recbzZQUIdMmFvm1r</td>\n",
       "      <td>519</td>\n",
       "      <td>46394</td>\n",
       "      <td>City of Rancho Cordova</td>\n",
       "      <td>Rancho CordoVan</td>\n",
       "      <td>Sacramento Schedule</td>\n",
       "      <td>rec43oyrfhtPDdRHj</td>\n",
       "      <td>recthtqJiccuHePry</td>\n",
       "      <td>recbzZQUIdMmFvm1r</td>\n",
       "      <td>1</td>\n",
       "    </tr>\n",
       "    <tr>\n",
       "      <th>1177</th>\n",
       "      <td>dd4a32b39c9973e1703fbb365db3815f</td>\n",
       "      <td>cb3074eb8b423dfc5acfeeb0de95eb82</td>\n",
       "      <td>Sacramento Schedule</td>\n",
       "      <td>9</td>\n",
       "      <td>2023</td>\n",
       "      <td>2023-09-30</td>\n",
       "      <td>2023-10-30T00:00:00-07:00</td>\n",
       "      <td>2098-12-31T00:00:00-08:00</td>\n",
       "      <td>recbzZQUIdMmFvm1r</td>\n",
       "      <td>533</td>\n",
       "      <td>46399</td>\n",
       "      <td>City of Rancho Cordova</td>\n",
       "      <td>Rancho CordoVan</td>\n",
       "      <td>Sacramento Schedule</td>\n",
       "      <td>rec43oyrfhtPDdRHj</td>\n",
       "      <td>recthtqJiccuHePry</td>\n",
       "      <td>recbzZQUIdMmFvm1r</td>\n",
       "      <td>1</td>\n",
       "    </tr>\n",
       "    <tr>\n",
       "      <th>1178</th>\n",
       "      <td>4f4985564ae952024f79f44eed85362e</td>\n",
       "      <td>cb3074eb8b423dfc5acfeeb0de95eb82</td>\n",
       "      <td>Sacramento Schedule</td>\n",
       "      <td>9</td>\n",
       "      <td>2023</td>\n",
       "      <td>2023-09-30</td>\n",
       "      <td>2023-10-30T00:00:00-07:00</td>\n",
       "      <td>2098-12-31T00:00:00-08:00</td>\n",
       "      <td>recbzZQUIdMmFvm1r</td>\n",
       "      <td>F20</td>\n",
       "      <td>46446</td>\n",
       "      <td>City of Rancho Cordova</td>\n",
       "      <td>Rancho CordoVan</td>\n",
       "      <td>Sacramento Schedule</td>\n",
       "      <td>rec43oyrfhtPDdRHj</td>\n",
       "      <td>recthtqJiccuHePry</td>\n",
       "      <td>recbzZQUIdMmFvm1r</td>\n",
       "      <td>1</td>\n",
       "    </tr>\n",
       "  </tbody>\n",
       "</table>\n",
       "<p>1179 rows × 18 columns</p>\n",
       "</div>"
      ],
      "text/plain": [
       "                                   key  \\\n",
       "0     c5f18e65ac0287bb0fd02f379ca29ea6   \n",
       "1     c5f18e65ac0287bb0fd02f379ca29ea6   \n",
       "2     3b0ac6b0456475b1a12156a6ca203abf   \n",
       "3     3b0ac6b0456475b1a12156a6ca203abf   \n",
       "4     5ee089aa97106d962f283dd7d77fa8eb   \n",
       "...                                ...   \n",
       "1174  c73f2bc9cbcb7a70a52bde70c2bfb13a   \n",
       "1175  02a1264dffaae6283fc60f2bb8c1f113   \n",
       "1176  5593e57e23f52c6ec7d5c8e5c26e2dc9   \n",
       "1177  dd4a32b39c9973e1703fbb365db3815f   \n",
       "1178  4f4985564ae952024f79f44eed85362e   \n",
       "\n",
       "     dim_provider_gtfs_data_→_schedule_gtfs_dataset_key                 name  \\\n",
       "0                      cb3074eb8b423dfc5acfeeb0de95eb82  Sacramento Schedule   \n",
       "1                      cb3074eb8b423dfc5acfeeb0de95eb82  Sacramento Schedule   \n",
       "2                      cb3074eb8b423dfc5acfeeb0de95eb82  Sacramento Schedule   \n",
       "3                      cb3074eb8b423dfc5acfeeb0de95eb82  Sacramento Schedule   \n",
       "4                      cb3074eb8b423dfc5acfeeb0de95eb82  Sacramento Schedule   \n",
       "...                                                 ...                  ...   \n",
       "1174                   cb3074eb8b423dfc5acfeeb0de95eb82  Sacramento Schedule   \n",
       "1175                   cb3074eb8b423dfc5acfeeb0de95eb82  Sacramento Schedule   \n",
       "1176                   cb3074eb8b423dfc5acfeeb0de95eb82  Sacramento Schedule   \n",
       "1177                   cb3074eb8b423dfc5acfeeb0de95eb82  Sacramento Schedule   \n",
       "1178                   cb3074eb8b423dfc5acfeeb0de95eb82  Sacramento Schedule   \n",
       "\n",
       "      month  year month_last_day dim_provider_gtfs_data_→_valid_from  \\\n",
       "0         4  2023     2023-04-30           2023-10-25T00:00:00-07:00   \n",
       "1         4  2023     2023-04-30           2023-10-25T00:00:00-07:00   \n",
       "2         4  2023     2023-04-30           2023-10-25T00:00:00-07:00   \n",
       "3         4  2023     2023-04-30           2023-10-25T00:00:00-07:00   \n",
       "4         4  2023     2023-04-30           2023-10-25T00:00:00-07:00   \n",
       "...     ...   ...            ...                                 ...   \n",
       "1174      9  2023     2023-09-30           2023-10-30T00:00:00-07:00   \n",
       "1175      9  2023     2023-09-30           2023-10-30T00:00:00-07:00   \n",
       "1176      9  2023     2023-09-30           2023-10-30T00:00:00-07:00   \n",
       "1177      9  2023     2023-09-30           2023-10-30T00:00:00-07:00   \n",
       "1178      9  2023     2023-09-30           2023-10-30T00:00:00-07:00   \n",
       "\n",
       "     dim_provider_gtfs_data_→_valid_to   source_record_id route_id  shape_id  \\\n",
       "0            2098-12-31T00:00:00-08:00  recbzZQUIdMmFvm1r      001     45267   \n",
       "1            2098-12-31T00:00:00-08:00  recbzZQUIdMmFvm1r      001     45267   \n",
       "2            2098-12-31T00:00:00-08:00  recbzZQUIdMmFvm1r      011     45273   \n",
       "3            2098-12-31T00:00:00-08:00  recbzZQUIdMmFvm1r      011     45273   \n",
       "4            2098-12-31T00:00:00-08:00  recbzZQUIdMmFvm1r      013     45278   \n",
       "...                                ...                ...      ...       ...   \n",
       "1174         2098-12-31T00:00:00-08:00  recbzZQUIdMmFvm1r       30     46359   \n",
       "1175         2098-12-31T00:00:00-08:00  recbzZQUIdMmFvm1r      507     46386   \n",
       "1176         2098-12-31T00:00:00-08:00  recbzZQUIdMmFvm1r      519     46394   \n",
       "1177         2098-12-31T00:00:00-08:00  recbzZQUIdMmFvm1r      533     46399   \n",
       "1178         2098-12-31T00:00:00-08:00  recbzZQUIdMmFvm1r      F20     46446   \n",
       "\n",
       "     dim_provider_gtfs_data_→_organization_name  \\\n",
       "0          Sacramento Regional Transit District   \n",
       "1          Sacramento Regional Transit District   \n",
       "2          Sacramento Regional Transit District   \n",
       "3          Sacramento Regional Transit District   \n",
       "4          Sacramento Regional Transit District   \n",
       "...                                         ...   \n",
       "1174                     City of Rancho Cordova   \n",
       "1175                     City of Rancho Cordova   \n",
       "1176                     City of Rancho Cordova   \n",
       "1177                     City of Rancho Cordova   \n",
       "1178                     City of Rancho Cordova   \n",
       "\n",
       "         dim_provider_gtfs_data_→_service_name  \\\n",
       "0                             SacRT Light Rail   \n",
       "1     Sacramento Regional Transit District Bus   \n",
       "2                             SacRT Light Rail   \n",
       "3     Sacramento Regional Transit District Bus   \n",
       "4                             SacRT Light Rail   \n",
       "...                                        ...   \n",
       "1174                           Rancho CordoVan   \n",
       "1175                           Rancho CordoVan   \n",
       "1176                           Rancho CordoVan   \n",
       "1177                           Rancho CordoVan   \n",
       "1178                           Rancho CordoVan   \n",
       "\n",
       "     dim_provider_gtfs_data_→_schedule_gtfs_dataset_name  \\\n",
       "0                                   Sacramento Schedule    \n",
       "1                                   Sacramento Schedule    \n",
       "2                                   Sacramento Schedule    \n",
       "3                                   Sacramento Schedule    \n",
       "4                                   Sacramento Schedule    \n",
       "...                                                 ...    \n",
       "1174                                Sacramento Schedule    \n",
       "1175                                Sacramento Schedule    \n",
       "1176                                Sacramento Schedule    \n",
       "1177                                Sacramento Schedule    \n",
       "1178                                Sacramento Schedule    \n",
       "\n",
       "     dim_provider_gtfs_data_→_organization_source_record_id  \\\n",
       "0                                     recX9lccSE1jmjsmG       \n",
       "1                                     recX9lccSE1jmjsmG       \n",
       "2                                     recX9lccSE1jmjsmG       \n",
       "3                                     recX9lccSE1jmjsmG       \n",
       "4                                     recX9lccSE1jmjsmG       \n",
       "...                                                 ...       \n",
       "1174                                  rec43oyrfhtPDdRHj       \n",
       "1175                                  rec43oyrfhtPDdRHj       \n",
       "1176                                  rec43oyrfhtPDdRHj       \n",
       "1177                                  rec43oyrfhtPDdRHj       \n",
       "1178                                  rec43oyrfhtPDdRHj       \n",
       "\n",
       "     dim_provider_gtfs_data_→_service_source_record_id  \\\n",
       "0                                    rec4ngaW4prJCvuQv   \n",
       "1                                    recucpbla6cP2ZdsV   \n",
       "2                                    rec4ngaW4prJCvuQv   \n",
       "3                                    recucpbla6cP2ZdsV   \n",
       "4                                    rec4ngaW4prJCvuQv   \n",
       "...                                                ...   \n",
       "1174                                 recthtqJiccuHePry   \n",
       "1175                                 recthtqJiccuHePry   \n",
       "1176                                 recthtqJiccuHePry   \n",
       "1177                                 recthtqJiccuHePry   \n",
       "1178                                 recthtqJiccuHePry   \n",
       "\n",
       "     dim_provider_gtfs_data_→_schedule_source_record_id  \\\n",
       "0                                     recbzZQUIdMmFvm1r   \n",
       "1                                     recbzZQUIdMmFvm1r   \n",
       "2                                     recbzZQUIdMmFvm1r   \n",
       "3                                     recbzZQUIdMmFvm1r   \n",
       "4                                     recbzZQUIdMmFvm1r   \n",
       "...                                                 ...   \n",
       "1174                                  recbzZQUIdMmFvm1r   \n",
       "1175                                  recbzZQUIdMmFvm1r   \n",
       "1176                                  recbzZQUIdMmFvm1r   \n",
       "1177                                  recbzZQUIdMmFvm1r   \n",
       "1178                                  recbzZQUIdMmFvm1r   \n",
       "\n",
       "      distinct_values_of_key  \n",
       "0                          1  \n",
       "1                          1  \n",
       "2                          1  \n",
       "3                          1  \n",
       "4                          1  \n",
       "...                      ...  \n",
       "1174                       1  \n",
       "1175                       1  \n",
       "1176                       1  \n",
       "1177                       1  \n",
       "1178                       1  \n",
       "\n",
       "[1179 rows x 18 columns]"
      ]
     },
     "execution_count": 59,
     "metadata": {},
     "output_type": "execute_result"
    }
   ],
   "source": [
    "cleaner(df)"
   ]
  },
  {
   "cell_type": "code",
   "execution_count": 62,
   "id": "c1f5e964-deb9-4ce2-9806-e9aa0b31bab5",
   "metadata": {},
   "outputs": [],
   "source": [
    "#removing dim providers string\n",
    "df.columns = df.columns.str.replace('dim_provider_gtfs_data_→_','')\n"
   ]
  },
  {
   "cell_type": "code",
   "execution_count": 63,
   "id": "56cf319f-e882-47fa-ab75-0f9d064682ac",
   "metadata": {},
   "outputs": [
    {
     "data": {
      "text/plain": [
       "Index(['key', 'schedule_gtfs_dataset_key', 'name', 'month', 'year',\n",
       "       'month_last_day', 'valid_from', 'valid_to', 'source_record_id',\n",
       "       'route_id', 'shape_id', 'organization_name', 'service_name',\n",
       "       'schedule_gtfs_dataset_name', 'organization_source_record_id',\n",
       "       'service_source_record_id', 'schedule_source_record_id',\n",
       "       'distinct_values_of_key'],\n",
       "      dtype='object')"
      ]
     },
     "execution_count": 63,
     "metadata": {},
     "output_type": "execute_result"
    }
   ],
   "source": [
    "df.columns"
   ]
  },
  {
   "cell_type": "code",
   "execution_count": 64,
   "id": "edc66c26-b650-4f3c-af26-635bd696b118",
   "metadata": {},
   "outputs": [
    {
     "ename": "ValueError",
     "evalue": "You are trying to merge on int64 and object columns. If you wish to proceed you should use pd.concat",
     "output_type": "error",
     "traceback": [
      "\u001b[0;31m---------------------------------------------------------------------------\u001b[0m",
      "\u001b[0;31mValueError\u001b[0m                                Traceback (most recent call last)",
      "Cell \u001b[0;32mIn[64], line 4\u001b[0m\n\u001b[1;32m      1\u001b[0m \u001b[38;5;66;03m#need a way to get point array back\u001b[39;00m\n\u001b[1;32m      2\u001b[0m \u001b[38;5;66;03m#merge df with regular fct_monthly_routes on key\u001b[39;00m\n\u001b[0;32m----> 4\u001b[0m merge \u001b[38;5;241m=\u001b[39m \u001b[43mpd\u001b[49m\u001b[38;5;241;43m.\u001b[39;49m\u001b[43mmerge\u001b[49m\u001b[43m(\u001b[49m\u001b[43mdf\u001b[49m\u001b[43m,\u001b[49m\u001b[43mdf_pt\u001b[49m\u001b[43m,\u001b[49m\u001b[43mon\u001b[49m\u001b[38;5;241;43m=\u001b[39;49m\u001b[43m[\u001b[49m\u001b[38;5;124;43m'\u001b[39;49m\u001b[38;5;124;43mkey\u001b[39;49m\u001b[38;5;124;43m'\u001b[39;49m\u001b[43m,\u001b[49m\n\u001b[1;32m      5\u001b[0m \u001b[43m                              \u001b[49m\u001b[38;5;124;43m'\u001b[39;49m\u001b[38;5;124;43msource_record_id\u001b[39;49m\u001b[38;5;124;43m'\u001b[39;49m\u001b[43m,\u001b[49m\n\u001b[1;32m      6\u001b[0m \u001b[43m                              \u001b[49m\u001b[38;5;124;43m'\u001b[39;49m\u001b[38;5;124;43mname\u001b[39;49m\u001b[38;5;124;43m'\u001b[39;49m\u001b[43m,\u001b[49m\n\u001b[1;32m      7\u001b[0m \u001b[43m                              \u001b[49m\u001b[38;5;124;43m'\u001b[39;49m\u001b[38;5;124;43mmonth\u001b[39;49m\u001b[38;5;124;43m'\u001b[39;49m\u001b[43m,\u001b[49m\n\u001b[1;32m      8\u001b[0m \u001b[43m                              \u001b[49m\u001b[38;5;124;43m'\u001b[39;49m\u001b[38;5;124;43myear\u001b[39;49m\u001b[38;5;124;43m'\u001b[39;49m\u001b[43m,\u001b[49m\n\u001b[1;32m      9\u001b[0m \u001b[43m                              \u001b[49m\u001b[38;5;124;43m'\u001b[39;49m\u001b[38;5;124;43mroute_id\u001b[39;49m\u001b[38;5;124;43m'\u001b[39;49m\u001b[43m,\u001b[49m\n\u001b[1;32m     10\u001b[0m \u001b[43m                              \u001b[49m\u001b[38;5;124;43m'\u001b[39;49m\u001b[38;5;124;43mshape_id\u001b[39;49m\u001b[38;5;124;43m'\u001b[39;49m\u001b[43m,\u001b[49m\u001b[43m]\u001b[49m\u001b[43m)\u001b[49m\n",
      "File \u001b[0;32m/opt/conda/lib/python3.9/site-packages/pandas/core/reshape/merge.py:110\u001b[0m, in \u001b[0;36mmerge\u001b[0;34m(left, right, how, on, left_on, right_on, left_index, right_index, sort, suffixes, copy, indicator, validate)\u001b[0m\n\u001b[1;32m     93\u001b[0m \u001b[38;5;129m@Substitution\u001b[39m(\u001b[38;5;124m\"\u001b[39m\u001b[38;5;130;01m\\n\u001b[39;00m\u001b[38;5;124mleft : DataFrame or named Series\u001b[39m\u001b[38;5;124m\"\u001b[39m)\n\u001b[1;32m     94\u001b[0m \u001b[38;5;129m@Appender\u001b[39m(_merge_doc, indents\u001b[38;5;241m=\u001b[39m\u001b[38;5;241m0\u001b[39m)\n\u001b[1;32m     95\u001b[0m \u001b[38;5;28;01mdef\u001b[39;00m \u001b[38;5;21mmerge\u001b[39m(\n\u001b[0;32m   (...)\u001b[0m\n\u001b[1;32m    108\u001b[0m     validate: \u001b[38;5;28mstr\u001b[39m \u001b[38;5;241m|\u001b[39m \u001b[38;5;28;01mNone\u001b[39;00m \u001b[38;5;241m=\u001b[39m \u001b[38;5;28;01mNone\u001b[39;00m,\n\u001b[1;32m    109\u001b[0m ) \u001b[38;5;241m-\u001b[39m\u001b[38;5;241m>\u001b[39m DataFrame:\n\u001b[0;32m--> 110\u001b[0m     op \u001b[38;5;241m=\u001b[39m \u001b[43m_MergeOperation\u001b[49m\u001b[43m(\u001b[49m\n\u001b[1;32m    111\u001b[0m \u001b[43m        \u001b[49m\u001b[43mleft\u001b[49m\u001b[43m,\u001b[49m\n\u001b[1;32m    112\u001b[0m \u001b[43m        \u001b[49m\u001b[43mright\u001b[49m\u001b[43m,\u001b[49m\n\u001b[1;32m    113\u001b[0m \u001b[43m        \u001b[49m\u001b[43mhow\u001b[49m\u001b[38;5;241;43m=\u001b[39;49m\u001b[43mhow\u001b[49m\u001b[43m,\u001b[49m\n\u001b[1;32m    114\u001b[0m \u001b[43m        \u001b[49m\u001b[43mon\u001b[49m\u001b[38;5;241;43m=\u001b[39;49m\u001b[43mon\u001b[49m\u001b[43m,\u001b[49m\n\u001b[1;32m    115\u001b[0m \u001b[43m        \u001b[49m\u001b[43mleft_on\u001b[49m\u001b[38;5;241;43m=\u001b[39;49m\u001b[43mleft_on\u001b[49m\u001b[43m,\u001b[49m\n\u001b[1;32m    116\u001b[0m \u001b[43m        \u001b[49m\u001b[43mright_on\u001b[49m\u001b[38;5;241;43m=\u001b[39;49m\u001b[43mright_on\u001b[49m\u001b[43m,\u001b[49m\n\u001b[1;32m    117\u001b[0m \u001b[43m        \u001b[49m\u001b[43mleft_index\u001b[49m\u001b[38;5;241;43m=\u001b[39;49m\u001b[43mleft_index\u001b[49m\u001b[43m,\u001b[49m\n\u001b[1;32m    118\u001b[0m \u001b[43m        \u001b[49m\u001b[43mright_index\u001b[49m\u001b[38;5;241;43m=\u001b[39;49m\u001b[43mright_index\u001b[49m\u001b[43m,\u001b[49m\n\u001b[1;32m    119\u001b[0m \u001b[43m        \u001b[49m\u001b[43msort\u001b[49m\u001b[38;5;241;43m=\u001b[39;49m\u001b[43msort\u001b[49m\u001b[43m,\u001b[49m\n\u001b[1;32m    120\u001b[0m \u001b[43m        \u001b[49m\u001b[43msuffixes\u001b[49m\u001b[38;5;241;43m=\u001b[39;49m\u001b[43msuffixes\u001b[49m\u001b[43m,\u001b[49m\n\u001b[1;32m    121\u001b[0m \u001b[43m        \u001b[49m\u001b[43mindicator\u001b[49m\u001b[38;5;241;43m=\u001b[39;49m\u001b[43mindicator\u001b[49m\u001b[43m,\u001b[49m\n\u001b[1;32m    122\u001b[0m \u001b[43m        \u001b[49m\u001b[43mvalidate\u001b[49m\u001b[38;5;241;43m=\u001b[39;49m\u001b[43mvalidate\u001b[49m\u001b[43m,\u001b[49m\n\u001b[1;32m    123\u001b[0m \u001b[43m    \u001b[49m\u001b[43m)\u001b[49m\n\u001b[1;32m    124\u001b[0m     \u001b[38;5;28;01mreturn\u001b[39;00m op\u001b[38;5;241m.\u001b[39mget_result(copy\u001b[38;5;241m=\u001b[39mcopy)\n",
      "File \u001b[0;32m/opt/conda/lib/python3.9/site-packages/pandas/core/reshape/merge.py:707\u001b[0m, in \u001b[0;36m_MergeOperation.__init__\u001b[0;34m(self, left, right, how, on, left_on, right_on, axis, left_index, right_index, sort, suffixes, indicator, validate)\u001b[0m\n\u001b[1;32m    699\u001b[0m (\n\u001b[1;32m    700\u001b[0m     \u001b[38;5;28mself\u001b[39m\u001b[38;5;241m.\u001b[39mleft_join_keys,\n\u001b[1;32m    701\u001b[0m     \u001b[38;5;28mself\u001b[39m\u001b[38;5;241m.\u001b[39mright_join_keys,\n\u001b[1;32m    702\u001b[0m     \u001b[38;5;28mself\u001b[39m\u001b[38;5;241m.\u001b[39mjoin_names,\n\u001b[1;32m    703\u001b[0m ) \u001b[38;5;241m=\u001b[39m \u001b[38;5;28mself\u001b[39m\u001b[38;5;241m.\u001b[39m_get_merge_keys()\n\u001b[1;32m    705\u001b[0m \u001b[38;5;66;03m# validate the merge keys dtypes. We may need to coerce\u001b[39;00m\n\u001b[1;32m    706\u001b[0m \u001b[38;5;66;03m# to avoid incompatible dtypes\u001b[39;00m\n\u001b[0;32m--> 707\u001b[0m \u001b[38;5;28;43mself\u001b[39;49m\u001b[38;5;241;43m.\u001b[39;49m\u001b[43m_maybe_coerce_merge_keys\u001b[49m\u001b[43m(\u001b[49m\u001b[43m)\u001b[49m\n\u001b[1;32m    709\u001b[0m \u001b[38;5;66;03m# If argument passed to validate,\u001b[39;00m\n\u001b[1;32m    710\u001b[0m \u001b[38;5;66;03m# check if columns specified as unique\u001b[39;00m\n\u001b[1;32m    711\u001b[0m \u001b[38;5;66;03m# are in fact unique.\u001b[39;00m\n\u001b[1;32m    712\u001b[0m \u001b[38;5;28;01mif\u001b[39;00m validate \u001b[38;5;129;01mis\u001b[39;00m \u001b[38;5;129;01mnot\u001b[39;00m \u001b[38;5;28;01mNone\u001b[39;00m:\n",
      "File \u001b[0;32m/opt/conda/lib/python3.9/site-packages/pandas/core/reshape/merge.py:1340\u001b[0m, in \u001b[0;36m_MergeOperation._maybe_coerce_merge_keys\u001b[0;34m(self)\u001b[0m\n\u001b[1;32m   1334\u001b[0m     \u001b[38;5;66;03m# unless we are merging non-string-like with string-like\u001b[39;00m\n\u001b[1;32m   1335\u001b[0m     \u001b[38;5;28;01melif\u001b[39;00m (\n\u001b[1;32m   1336\u001b[0m         inferred_left \u001b[38;5;129;01min\u001b[39;00m string_types \u001b[38;5;129;01mand\u001b[39;00m inferred_right \u001b[38;5;129;01mnot\u001b[39;00m \u001b[38;5;129;01min\u001b[39;00m string_types\n\u001b[1;32m   1337\u001b[0m     ) \u001b[38;5;129;01mor\u001b[39;00m (\n\u001b[1;32m   1338\u001b[0m         inferred_right \u001b[38;5;129;01min\u001b[39;00m string_types \u001b[38;5;129;01mand\u001b[39;00m inferred_left \u001b[38;5;129;01mnot\u001b[39;00m \u001b[38;5;129;01min\u001b[39;00m string_types\n\u001b[1;32m   1339\u001b[0m     ):\n\u001b[0;32m-> 1340\u001b[0m         \u001b[38;5;28;01mraise\u001b[39;00m \u001b[38;5;167;01mValueError\u001b[39;00m(msg)\n\u001b[1;32m   1342\u001b[0m \u001b[38;5;66;03m# datetimelikes must match exactly\u001b[39;00m\n\u001b[1;32m   1343\u001b[0m \u001b[38;5;28;01melif\u001b[39;00m needs_i8_conversion(lk\u001b[38;5;241m.\u001b[39mdtype) \u001b[38;5;129;01mand\u001b[39;00m \u001b[38;5;129;01mnot\u001b[39;00m needs_i8_conversion(rk\u001b[38;5;241m.\u001b[39mdtype):\n",
      "\u001b[0;31mValueError\u001b[0m: You are trying to merge on int64 and object columns. If you wish to proceed you should use pd.concat"
     ]
    }
   ],
   "source": [
    "#need a way to get point array back\n",
    "#merge df with regular fct_monthly_routes on key\n",
    "\n",
    "merge = pd.merge(df,df_pt,on=['key',\n",
    "                              'source_record_id',\n",
    "                              'name',\n",
    "                              'month',\n",
    "                              'year',\n",
    "                              'route_id',\n",
    "                              'shape_id',])"
   ]
  },
  {
   "cell_type": "markdown",
   "id": "7a26e176-13e1-4383-9287-8faa55cd1bcd",
   "metadata": {},
   "source": [
    "---\n"
   ]
  },
  {
   "cell_type": "code",
   "execution_count": 52,
   "id": "57ff55e9-55dc-4db5-9f86-e3cd65b4b544",
   "metadata": {},
   "outputs": [],
   "source": [
    "# test to query fct_monthly_routes. DO NOT RUN\n",
    "\n",
    "def get_monthly_routes(\n",
    "        year: str,\n",
    "        months: list\n",
    "    ) -> pd.DataFrame:    \n",
    "    \n",
    "        df = (tbls.mart_gtfs.fct_monthly_routes()\n",
    "              >> filter(_.year == year)\n",
    "              >> filter(_.month.isin(months))\n",
    "              >> select(_.key, _.source_record_id,\n",
    "                        _.name,\n",
    "                        _.route_id, _.shape_id,\n",
    "                        _.month,\n",
    "                        _.year,\n",
    "                       _.pt_array)\n",
    "                  >> collect()\n",
    "             )\n",
    "        return df"
   ]
  },
  {
   "cell_type": "code",
   "execution_count": 53,
   "id": "64984523-58a9-4f63-8b5d-df38648cd3c6",
   "metadata": {},
   "outputs": [
    {
     "name": "stderr",
     "output_type": "stream",
     "text": [
      "/opt/conda/lib/python3.9/site-packages/sqlalchemy_bigquery/_types.py:101: SAWarning: Did not recognize type 'GEOGRAPHY' of column 'pt_array'\n",
      "  sqlalchemy.util.warn(\n"
     ]
    }
   ],
   "source": [
    " df_pt = get_monthly_routes(2023, [4, 5, 6, 7, 8, 9])"
   ]
  },
  {
   "cell_type": "code",
   "execution_count": null,
   "id": "7a57e90e-b515-4b71-94e4-dbf1c79789c2",
   "metadata": {},
   "outputs": [],
   "source": [
    "#peaking into df to make sure everything looks good\n",
    "\n",
    "#shape shows 11,927 rows and 8 columns\n",
    "#display(df.shape)\n",
    "\n",
    "#type shows data is in df\n",
    "#display(type(df))\n",
    "\n",
    "#columns return all the columns we listed in the function\n",
    "#display(list(df.columns))\n",
    "\n",
    "#value_counts confirm df only has rows from 2023 March to May\n",
    "#display(df.value_counts(subset=['year','month']))"
   ]
  },
  {
   "cell_type": "markdown",
   "id": "90503063-e37d-4952-9a2b-685facefcd87",
   "metadata": {},
   "source": [
    "### via Tiffany, make df to GPD\n",
    "* <b>COMPLETE</b> Query data from warehouse\n",
    "* then use this snippet from `make_routes_gdf` from `_shared_utils/shared_utils/geography_utils.py`.\n",
    "    * `ddf[\"geometry\"] = ddf.pt_array.apply(make_linestring)`\n",
    "<br>  \n",
    "* <b>COMPLETE</b> then save out as geo parquet to the `gtfs_schedule` folder in GCS (so versioning and history stays) using \n",
    "    * `utils.geoparquet_gcs_export(vp_gdf, SEGMENT_GCS, f\"vp_{analysis_date}\")`"
   ]
  },
  {
   "cell_type": "code",
   "execution_count": 5,
   "id": "11fb6f6b-ff9f-4a1f-b962-3b4de22b4982",
   "metadata": {},
   "outputs": [],
   "source": [
    "#test of make_routes_gdf. DO NOT RUN\n",
    "\n",
    "# aprl_sept_2023_routes = geography_utils.make_routes_gdf(df, \"EPSG:4326\")"
   ]
  },
  {
   "cell_type": "code",
   "execution_count": null,
   "id": "36a9a610-071c-410e-9850-b4dc2f5fc032",
   "metadata": {},
   "outputs": [],
   "source": [
    "#display(type(aprl_sept_2023_routes))\n",
    "#list(aprl_sept_2023_routes.columns)\n",
    "#display(aprl_sept_2023_routes.geometry.name)"
   ]
  },
  {
   "cell_type": "raw",
   "id": "4eb6b299-f009-4a2d-bd4d-eb618cb730a7",
   "metadata": {},
   "source": [
    "#writing to gcs bucket. DO NOT RUN AGAIN\n",
    "\n",
    "#aprl_sept_2023_routes.to_parquet('gs://calitp-analytics-data/data-analyses/gtfs_schedule/route_identification_2023_m04_m09.parquet')\n"
   ]
  },
  {
   "cell_type": "markdown",
   "id": "6013738e-0f38-4405-8653-d0e8d0ced0ce",
   "metadata": {},
   "source": [
    "---"
   ]
  },
  {
   "cell_type": "code",
   "execution_count": 6,
   "id": "bfd73f43-1e22-4759-bf1a-ef6a1cf90aa9",
   "metadata": {
    "tags": []
   },
   "outputs": [],
   "source": [
    "#creating sub-df for 'Sacramento Schedule'. DO NOT RUN\n",
    "\n",
    "# sac = aprl_sept_2023_routes[aprl_sept_2023_routes['name'] == 'Sacramento Schedule']"
   ]
  },
  {
   "cell_type": "code",
   "execution_count": 12,
   "id": "2b9b4792-64ef-453a-80f4-f26ac64fa40e",
   "metadata": {},
   "outputs": [
    {
     "data": {
      "text/plain": [
       "geopandas.geodataframe.GeoDataFrame"
      ]
     },
     "execution_count": 12,
     "metadata": {},
     "output_type": "execute_result"
    }
   ],
   "source": [
    "# type(sac)"
   ]
  },
  {
   "cell_type": "code",
   "execution_count": 13,
   "id": "216d3c77-2fd4-4647-80be-3b1f53513358",
   "metadata": {},
   "outputs": [],
   "source": [
    "#writing sac filtered gdf to gcs as geoparquet. DO NOT RUN AGAIN\n",
    "\n",
    "# utils.geoparquet_gcs_export(sac, \"gs://calitp-analytics-data/data-analyses/gtfs_schedule/\", \"sac_route_identification_2023_m04_m09_geo\")"
   ]
  },
  {
   "cell_type": "code",
   "execution_count": 16,
   "id": "a5319651-2fa7-43ed-8d93-67ffd4b22284",
   "metadata": {},
   "outputs": [],
   "source": [
    "#Now we can read in the parquet file from gcs without having to remake everything again.\n",
    "\n",
    "sac_gdf = gpd.read_parquet('gs://calitp-analytics-data/data-analyses/gtfs_schedule/sac_route_identification_2023_m04_m09_geo.parquet')"
   ]
  },
  {
   "cell_type": "code",
   "execution_count": 17,
   "id": "60f4ad75-1a5f-45bb-b19d-1460a2660d06",
   "metadata": {},
   "outputs": [
    {
     "data": {
      "text/plain": [
       "geopandas.geodataframe.GeoDataFrame"
      ]
     },
     "execution_count": 17,
     "metadata": {},
     "output_type": "execute_result"
    }
   ],
   "source": [
    "type(sac_gdf)"
   ]
  },
  {
   "cell_type": "code",
   "execution_count": 21,
   "id": "425e7286-1880-4148-8789-dfa2c561f1ea",
   "metadata": {},
   "outputs": [
    {
     "data": {
      "text/plain": [
       "(393, 8)"
      ]
     },
     "metadata": {},
     "output_type": "display_data"
    },
    {
     "data": {
      "text/html": [
       "<div>\n",
       "<style scoped>\n",
       "    .dataframe tbody tr th:only-of-type {\n",
       "        vertical-align: middle;\n",
       "    }\n",
       "\n",
       "    .dataframe tbody tr th {\n",
       "        vertical-align: top;\n",
       "    }\n",
       "\n",
       "    .dataframe thead th {\n",
       "        text-align: right;\n",
       "    }\n",
       "</style>\n",
       "<table border=\"1\" class=\"dataframe\">\n",
       "  <thead>\n",
       "    <tr style=\"text-align: right;\">\n",
       "      <th></th>\n",
       "      <th>key</th>\n",
       "      <th>source_record_id</th>\n",
       "      <th>name</th>\n",
       "      <th>route_id</th>\n",
       "      <th>shape_id</th>\n",
       "      <th>month</th>\n",
       "      <th>year</th>\n",
       "      <th>geometry</th>\n",
       "    </tr>\n",
       "  </thead>\n",
       "  <tbody>\n",
       "    <tr>\n",
       "      <th>5</th>\n",
       "      <td>167599ffa2148995fe05ca3c6ab6f533</td>\n",
       "      <td>recbzZQUIdMmFvm1r</td>\n",
       "      <td>Sacramento Schedule</td>\n",
       "      <td>227</td>\n",
       "      <td>46061</td>\n",
       "      <td>8</td>\n",
       "      <td>2023</td>\n",
       "      <td>None</td>\n",
       "    </tr>\n",
       "    <tr>\n",
       "      <th>31</th>\n",
       "      <td>c15fc92307cee69b6c388a08d6cdbe5b</td>\n",
       "      <td>recbzZQUIdMmFvm1r</td>\n",
       "      <td>Sacramento Schedule</td>\n",
       "      <td>F10</td>\n",
       "      <td>46159</td>\n",
       "      <td>6</td>\n",
       "      <td>2023</td>\n",
       "      <td>LINESTRING (-121.17992 38.67578, -121.18067 38...</td>\n",
       "    </tr>\n",
       "    <tr>\n",
       "      <th>35</th>\n",
       "      <td>844f3b14e654ec1ffdbb1af2d486d29c</td>\n",
       "      <td>recbzZQUIdMmFvm1r</td>\n",
       "      <td>Sacramento Schedule</td>\n",
       "      <td>019</td>\n",
       "      <td>45281</td>\n",
       "      <td>5</td>\n",
       "      <td>2023</td>\n",
       "      <td>None</td>\n",
       "    </tr>\n",
       "    <tr>\n",
       "      <th>72</th>\n",
       "      <td>a0aa8f4292bed01247389a96f95d1176</td>\n",
       "      <td>recbzZQUIdMmFvm1r</td>\n",
       "      <td>Sacramento Schedule</td>\n",
       "      <td>068</td>\n",
       "      <td>46220</td>\n",
       "      <td>9</td>\n",
       "      <td>2023</td>\n",
       "      <td>LINESTRING (-121.42656 38.59969, -121.42615 38...</td>\n",
       "    </tr>\n",
       "    <tr>\n",
       "      <th>88</th>\n",
       "      <td>5ee089aa97106d962f283dd7d77fa8eb</td>\n",
       "      <td>recbzZQUIdMmFvm1r</td>\n",
       "      <td>Sacramento Schedule</td>\n",
       "      <td>013</td>\n",
       "      <td>45278</td>\n",
       "      <td>4</td>\n",
       "      <td>2023</td>\n",
       "      <td>LINESTRING (-121.38163 38.60670, -121.38188 38...</td>\n",
       "    </tr>\n",
       "  </tbody>\n",
       "</table>\n",
       "</div>"
      ],
      "text/plain": [
       "                                 key   source_record_id                 name  \\\n",
       "5   167599ffa2148995fe05ca3c6ab6f533  recbzZQUIdMmFvm1r  Sacramento Schedule   \n",
       "31  c15fc92307cee69b6c388a08d6cdbe5b  recbzZQUIdMmFvm1r  Sacramento Schedule   \n",
       "35  844f3b14e654ec1ffdbb1af2d486d29c  recbzZQUIdMmFvm1r  Sacramento Schedule   \n",
       "72  a0aa8f4292bed01247389a96f95d1176  recbzZQUIdMmFvm1r  Sacramento Schedule   \n",
       "88  5ee089aa97106d962f283dd7d77fa8eb  recbzZQUIdMmFvm1r  Sacramento Schedule   \n",
       "\n",
       "   route_id shape_id  month  year  \\\n",
       "5       227    46061      8  2023   \n",
       "31      F10    46159      6  2023   \n",
       "35      019    45281      5  2023   \n",
       "72      068    46220      9  2023   \n",
       "88      013    45278      4  2023   \n",
       "\n",
       "                                             geometry  \n",
       "5                                                None  \n",
       "31  LINESTRING (-121.17992 38.67578, -121.18067 38...  \n",
       "35                                               None  \n",
       "72  LINESTRING (-121.42656 38.59969, -121.42615 38...  \n",
       "88  LINESTRING (-121.38163 38.60670, -121.38188 38...  "
      ]
     },
     "metadata": {},
     "output_type": "display_data"
    }
   ],
   "source": [
    "display(sac.shape)\n",
    "display(sac.head())"
   ]
  },
  {
   "cell_type": "code",
   "execution_count": 23,
   "id": "fbdfd7f8-a97a-41e8-9569-cf29d69971b3",
   "metadata": {},
   "outputs": [
    {
     "data": {
      "text/plain": [
       "<AxesSubplot:>"
      ]
     },
     "execution_count": 23,
     "metadata": {},
     "output_type": "execute_result"
    },
    {
     "data": {
      "image/png": "[encoded data removed]",
      "text/plain": [
       "<Figure size 640x480 with 1 Axes>"
      ]
     },
     "metadata": {},
     "output_type": "display_data"
    }
   ],
   "source": [
    "sac_gdf.plot()"
   ]
  },
  {
   "cell_type": "code",
   "execution_count": null,
   "id": "9ceaddbe-188d-4605-898a-9b38e9df552d",
   "metadata": {},
   "outputs": [],
   "source": [
    "Attempt at creating sub df of each routes to plot"
   ]
  },
  {
   "cell_type": "code",
   "execution_count": 24,
   "id": "81d867e5-d3d1-4338-af9c-77747145fe3c",
   "metadata": {},
   "outputs": [],
   "source": [
    "sac_routes = sac_gdf['route_id'].unique()\n"
   ]
  },
  {
   "cell_type": "code",
   "execution_count": 25,
   "id": "c7d3fc70-3b21-42f2-bd6a-057333349cc6",
   "metadata": {
    "tags": []
   },
   "outputs": [],
   "source": [
    "#empty dictionary\n",
    "sac_sub_route_ids = {}\n",
    "\n",
    "#each element in sac_routes will be called route.\n",
    "#for each route in sac_routes, query each row related to that route.(where ever you use the variable route, go 1-by-1 the differnet\n",
    "#then, create a dataframe for each route and place it into the dictionary sub_dataframes\n",
    "for route in sac_routes:\n",
    "    sub_df = sac[sac['route_id'] == route]\n",
    "    sac_sub_route_ids[route] = sub_df"
   ]
  },
  {
   "cell_type": "code",
   "execution_count": 26,
   "id": "3272b64b-ffb7-41c2-962d-eff528a03ddc",
   "metadata": {},
   "outputs": [
    {
     "data": {
      "text/plain": [
       "67"
      ]
     },
     "execution_count": 26,
     "metadata": {},
     "output_type": "execute_result"
    }
   ],
   "source": [
    "len(sac_sub_route_ids)"
   ]
  },
  {
   "cell_type": "code",
   "execution_count": 27,
   "id": "c1cbf71a-1572-432a-bbf6-5e0f0a3ef47f",
   "metadata": {},
   "outputs": [
    {
     "data": {
      "text/html": [
       "<div>\n",
       "<style scoped>\n",
       "    .dataframe tbody tr th:only-of-type {\n",
       "        vertical-align: middle;\n",
       "    }\n",
       "\n",
       "    .dataframe tbody tr th {\n",
       "        vertical-align: top;\n",
       "    }\n",
       "\n",
       "    .dataframe thead th {\n",
       "        text-align: right;\n",
       "    }\n",
       "</style>\n",
       "<table border=\"1\" class=\"dataframe\">\n",
       "  <thead>\n",
       "    <tr style=\"text-align: right;\">\n",
       "      <th></th>\n",
       "      <th>key</th>\n",
       "      <th>source_record_id</th>\n",
       "      <th>name</th>\n",
       "      <th>route_id</th>\n",
       "      <th>shape_id</th>\n",
       "      <th>month</th>\n",
       "      <th>year</th>\n",
       "      <th>geometry</th>\n",
       "    </tr>\n",
       "  </thead>\n",
       "  <tbody>\n",
       "    <tr>\n",
       "      <th>3217</th>\n",
       "      <td>f90f1ad42b05640b35bf145497eedaee</td>\n",
       "      <td>recbzZQUIdMmFvm1r</td>\n",
       "      <td>Sacramento Schedule</td>\n",
       "      <td>023</td>\n",
       "      <td>46184</td>\n",
       "      <td>9</td>\n",
       "      <td>2023</td>\n",
       "      <td>LINESTRING (-121.26715 38.67912, -121.26712 38...</td>\n",
       "    </tr>\n",
       "    <tr>\n",
       "      <th>11558</th>\n",
       "      <td>aaecd8ed8b3b2d9a02ca274610d5ea4c</td>\n",
       "      <td>recbzZQUIdMmFvm1r</td>\n",
       "      <td>Sacramento Schedule</td>\n",
       "      <td>023</td>\n",
       "      <td>45904</td>\n",
       "      <td>7</td>\n",
       "      <td>2023</td>\n",
       "      <td>LINESTRING (-121.26715 38.67912, -121.26712 38...</td>\n",
       "    </tr>\n",
       "    <tr>\n",
       "      <th>16772</th>\n",
       "      <td>d04bc10c78b62fe6421c6eb28d509b78</td>\n",
       "      <td>recbzZQUIdMmFvm1r</td>\n",
       "      <td>Sacramento Schedule</td>\n",
       "      <td>023</td>\n",
       "      <td>45904</td>\n",
       "      <td>8</td>\n",
       "      <td>2023</td>\n",
       "      <td>None</td>\n",
       "    </tr>\n",
       "    <tr>\n",
       "      <th>17098</th>\n",
       "      <td>d80d73174d1d318341a7af73a6fdc452</td>\n",
       "      <td>recbzZQUIdMmFvm1r</td>\n",
       "      <td>Sacramento Schedule</td>\n",
       "      <td>023</td>\n",
       "      <td>45286</td>\n",
       "      <td>5</td>\n",
       "      <td>2023</td>\n",
       "      <td>None</td>\n",
       "    </tr>\n",
       "    <tr>\n",
       "      <th>20392</th>\n",
       "      <td>7f6cb56be4ebd83a3ec2e93e6a927d24</td>\n",
       "      <td>recbzZQUIdMmFvm1r</td>\n",
       "      <td>Sacramento Schedule</td>\n",
       "      <td>023</td>\n",
       "      <td>45904</td>\n",
       "      <td>6</td>\n",
       "      <td>2023</td>\n",
       "      <td>LINESTRING (-121.26715 38.67912, -121.26712 38...</td>\n",
       "    </tr>\n",
       "    <tr>\n",
       "      <th>22640</th>\n",
       "      <td>1127c9acaecd57fd9543132998a72e3e</td>\n",
       "      <td>recbzZQUIdMmFvm1r</td>\n",
       "      <td>Sacramento Schedule</td>\n",
       "      <td>023</td>\n",
       "      <td>45286</td>\n",
       "      <td>4</td>\n",
       "      <td>2023</td>\n",
       "      <td>LINESTRING (-121.26715 38.67912, -121.26712 38...</td>\n",
       "    </tr>\n",
       "  </tbody>\n",
       "</table>\n",
       "</div>"
      ],
      "text/plain": [
       "                                    key   source_record_id  \\\n",
       "3217   f90f1ad42b05640b35bf145497eedaee  recbzZQUIdMmFvm1r   \n",
       "11558  aaecd8ed8b3b2d9a02ca274610d5ea4c  recbzZQUIdMmFvm1r   \n",
       "16772  d04bc10c78b62fe6421c6eb28d509b78  recbzZQUIdMmFvm1r   \n",
       "17098  d80d73174d1d318341a7af73a6fdc452  recbzZQUIdMmFvm1r   \n",
       "20392  7f6cb56be4ebd83a3ec2e93e6a927d24  recbzZQUIdMmFvm1r   \n",
       "22640  1127c9acaecd57fd9543132998a72e3e  recbzZQUIdMmFvm1r   \n",
       "\n",
       "                      name route_id shape_id  month  year  \\\n",
       "3217   Sacramento Schedule      023    46184      9  2023   \n",
       "11558  Sacramento Schedule      023    45904      7  2023   \n",
       "16772  Sacramento Schedule      023    45904      8  2023   \n",
       "17098  Sacramento Schedule      023    45286      5  2023   \n",
       "20392  Sacramento Schedule      023    45904      6  2023   \n",
       "22640  Sacramento Schedule      023    45286      4  2023   \n",
       "\n",
       "                                                geometry  \n",
       "3217   LINESTRING (-121.26715 38.67912, -121.26712 38...  \n",
       "11558  LINESTRING (-121.26715 38.67912, -121.26712 38...  \n",
       "16772                                               None  \n",
       "17098                                               None  \n",
       "20392  LINESTRING (-121.26715 38.67912, -121.26712 38...  \n",
       "22640  LINESTRING (-121.26715 38.67912, -121.26712 38...  "
      ]
     },
     "execution_count": 27,
     "metadata": {},
     "output_type": "execute_result"
    }
   ],
   "source": [
    "#testing dictionary with route 23 and 88\n",
    "sac_sub_route_ids['023']"
   ]
  },
  {
   "cell_type": "code",
   "execution_count": null,
   "id": "9ff85050-b2b3-4534-899b-10fa6400b9e5",
   "metadata": {},
   "outputs": [],
   "source": [
    "#function to plot routes and to check for any variation in route geometry\n",
    "def route_checker(route_id):\n",
    "    display(sac_sub_route_ids[route_id].plot())\n",
    "    display(f'geometry checker...{sac_sub_route_ids[route_id].geometry.value_counts()}')\n",
    "    "
   ]
  },
  {
   "cell_type": "code",
   "execution_count": 38,
   "id": "c0a59f5e-1347-47d8-b21a-298c32424703",
   "metadata": {},
   "outputs": [
    {
     "data": {
      "text/plain": [
       "<AxesSubplot:>"
      ]
     },
     "metadata": {},
     "output_type": "display_data"
    },
    {
     "data": {
      "text/plain": [
       "'geometry checker...LINESTRING (-121.49172 38.57987, -121.49158 38...    4\\nName: geometry, dtype: int64'"
      ]
     },
     "metadata": {},
     "output_type": "display_data"
    },
    {
     "data": {
      "image/png": "[encoded data removed]",
      "text/plain": [
       "<Figure size 640x480 with 1 Axes>"
      ]
     },
     "metadata": {},
     "output_type": "display_data"
    }
   ],
   "source": [
    "route_checker('088')"
   ]
  },
  {
   "cell_type": "markdown",
   "id": "31885351-4bdd-4df7-91dd-69ec22eba4c3",
   "metadata": {},
   "source": [
    "At this point determined we need more data that what `fct_monthly_routes` has. See approach 2"
   ]
  },
  {
   "cell_type": "markdown",
   "id": "db0af213-6077-46f7-8b37-d69f4128a137",
   "metadata": {},
   "source": [
    "# HALL OF SHAME\n",
    "\n",
    "---\n"
   ]
  },
  {
   "cell_type": "markdown",
   "id": "1d4a03f9-7457-4c3c-82f6-8ba548407685",
   "metadata": {},
   "source": [
    "## Next Steps\n",
    "\n",
    "for every `name` and `route_id` in routes, need to see if each row is the same or not. Need to identify any variation in the routes. \n",
    "\n"
   ]
  },
  {
   "cell_type": "markdown",
   "id": "3b5d0e05-7aa8-4930-bcd9-bc632d745cf9",
   "metadata": {},
   "source": [
    "---\n",
    "\n",
    "Trying to use a loop that will create a df for every route_id in sac_routes. but would need to do this for every `name` in the `fct_monthly_routes` df eventually?\n"
   ]
  },
  {
   "cell_type": "markdown",
   "id": "5b684be3-62b3-42eb-86b9-08b05d02253a",
   "metadata": {},
   "source": [
    "---"
   ]
  },
  {
   "cell_type": "code",
   "execution_count": null,
   "id": "30abf0e8-dd05-4805-8801-92f78ffa7a75",
   "metadata": {},
   "outputs": [],
   "source": [
    "#list of unique route names from initial df\n",
    "route_names = df['name'].unique()\n"
   ]
  },
  {
   "cell_type": "code",
   "execution_count": null,
   "id": "b69ace75-b5d9-4433-8adf-b65d92472d26",
   "metadata": {},
   "outputs": [],
   "source": [
    "#new loop that creates a dictionary of each unique schedule name with all its routes.\n",
    "sub_route_name = {}\n",
    "\n",
    "for name in route_names:\n",
    "    sub_df2 = df[df['name'] == name]\n",
    "    sub_route_name[name] = sub_df2\n",
    "    "
   ]
  },
  {
   "cell_type": "code",
   "execution_count": null,
   "id": "82abf8d4-b157-453b-aa45-a91d4905f8bc",
   "metadata": {},
   "outputs": [],
   "source": [
    "#test to see if new dictionary works\n",
    "sub_route_name['Auburn Schedule']"
   ]
  },
  {
   "cell_type": "markdown",
   "id": "4b055e09-1396-4af9-8b0f-49faab6207bc",
   "metadata": {},
   "source": [
    "## Now I have `sac_sub_route_ids` and `sub_route_name` dictionaries\n",
    "\n",
    "Examples of some noteable routes with slight variations over time."
   ]
  },
  {
   "cell_type": "code",
   "execution_count": null,
   "id": "6f225d6b-11de-48c8-9b4d-8e7ed16861d8",
   "metadata": {},
   "outputs": [],
   "source": [
    "#General observations for Sacramento Schedule: \n",
    "#shape_id changes every month. \n",
    "#pt_array changes every month, however, did get a warning upon initial query of data so may need to review query to account for geodata\n",
    "#Month 4 has the point geom data\n",
    "\n",
    "display(sac_sub_route_ids['088'])\n",
    "display(sac_sub_route_ids['023'])\n",
    "display(sac_sub_route_ids['105'])\n",
    "display(sac_sub_route_ids['F20'])\n",
    "display(sac_sub_route_ids['215'])"
   ]
  },
  {
   "cell_type": "code",
   "execution_count": null,
   "id": "f784a5fa-276d-4d48-b512-b25daa5def1d",
   "metadata": {},
   "outputs": [],
   "source": [
    "#test to see other route names\n",
    "#other route names have more point geometry than Sacramento.\n",
    "display(sub_route_name['Santa Cruz Schedule'])\n",
    "display(sub_route_name['Merced Schedule'])\n",
    "display(sub_route_name['San Diego Schedule'])\n",
    "display(sub_route_name['Roseville Schedule'])"
   ]
  },
  {
   "cell_type": "code",
   "execution_count": null,
   "id": "16d75337-2544-4371-afa8-52b88fe06eb6",
   "metadata": {},
   "outputs": [],
   "source": [
    "import importlib\n",
    "\n",
    "importlib.reload(segment_speed_utils)\n",
    "from segment_speed_utils.project_vars import SCHED_GCS, analysis_date"
   ]
  },
  {
   "cell_type": "code",
   "execution_count": null,
   "id": "c8ec3566-e221-4165-8f52-d42146d3c64e",
   "metadata": {},
   "outputs": [],
   "source": []
  }
 ],
 "metadata": {
  "kernelspec": {
   "display_name": "Python 3 (ipykernel)",
   "language": "python",
   "name": "python3"
  },
  "language_info": {
   "codemirror_mode": {
    "name": "ipython",
    "version": 3
   },
   "file_extension": ".py",
   "mimetype": "text/x-python",
   "name": "python",
   "nbconvert_exporter": "python",
   "pygments_lexer": "ipython3",
   "version": "3.9.13"
  }
 },
 "nbformat": 4,
 "nbformat_minor": 5
}
