{
 "cells": [
  {
   "cell_type": "markdown",
   "id": "9f2b17f8-faef-489a-9f55-e3defc8b33ea",
   "metadata": {},
   "source": [
    "# Route Identification Over Time\n",
    "\n",
    "Recent observations shows small chages in routes over time. Specifically in the following fields:\n",
    "* route ID\n",
    "* route short name\n",
    "* route long name\n",
    "* route desc\n",
    "\n",
    "Need to observe these route changes in order to account for these changes in future analyses.\n",
    "\n",
    "## Objective\n",
    "1. Query data from `fct_monthly_routes` to help identify variences in Routes. Query for 2023, a couple of months. \n",
    "2. Save data to GCS `gtfs_schedule` bucket\n",
    "3. Filter down data to `Sacramento Regional Transit`, identify and observe routes for any variences\n"
   ]
  },
  {
   "cell_type": "markdown",
   "id": "2c288bcf-6ed4-4ccd-900a-d361ab4dc1bc",
   "metadata": {},
   "source": [
    "### function from `open_data/download_vehicle_position.py`\n",
    "    \n",
    "    import datetime\n",
    "    import gcsfs\n",
    "    import geopandas as gpd\n",
    "    import pandas as pd\n",
    "    import shapely\n",
    "    import sys\n",
    "\n",
    "    from calitp_data_analysis.tables import tbls\n",
    "    from calitp_data_analysis import utils\n",
    "    from loguru import logger\n",
    "    from siuba import *\n",
    "\n",
    "    from shared_utils import schedule_rt_utils\n",
    "    \n",
    "    def download_vehicle_positions(\n",
    "        date: str,\n",
    "        operator_names: list\n",
    "    ) -> pd.DataFrame:    \n",
    "    \n",
    "        df = (tbls.mart_gtfs.fct_vehicle_locations()\n",
    "              >> filter(_.service_date == date)\n",
    "              >> filter(_.gtfs_dataset_name.isin(operator_names))\n",
    "              >> select(_.gtfs_dataset_key, _.gtfs_dataset_name,\n",
    "                        _.schedule_gtfs_dataset_key,\n",
    "                        _.trip_id, _.trip_instance_key,\n",
    "                        _.location_timestamp,\n",
    "                        _.location)\n",
    "                  >> collect()\n",
    "             )"
   ]
  },
  {
   "cell_type": "code",
   "execution_count": 1,
   "id": "78a70c5e-a8fc-4644-b8d0-5bf4e2481cf7",
   "metadata": {},
   "outputs": [
    {
     "name": "stderr",
     "output_type": "stream",
     "text": [
      "/opt/conda/lib/python3.9/site-packages/google/auth/_default.py:78: UserWarning: Your application has authenticated using end user credentials from Google Cloud SDK without a quota project. You might receive a \"quota exceeded\" or \"API not enabled\" error. See the following page for troubleshooting: https://cloud.google.com/docs/authentication/adc-troubleshooting/user-creds. \n",
      "  warnings.warn(_CLOUD_SDK_CREDENTIALS_WARNING)\n",
      "/opt/conda/lib/python3.9/site-packages/google/auth/_default.py:78: UserWarning: Your application has authenticated using end user credentials from Google Cloud SDK without a quota project. You might receive a \"quota exceeded\" or \"API not enabled\" error. See the following page for troubleshooting: https://cloud.google.com/docs/authentication/adc-troubleshooting/user-creds. \n",
      "  warnings.warn(_CLOUD_SDK_CREDENTIALS_WARNING)\n",
      "/opt/conda/lib/python3.9/site-packages/google/auth/_default.py:78: UserWarning: Your application has authenticated using end user credentials from Google Cloud SDK without a quota project. You might receive a \"quota exceeded\" or \"API not enabled\" error. See the following page for troubleshooting: https://cloud.google.com/docs/authentication/adc-troubleshooting/user-creds. \n",
      "  warnings.warn(_CLOUD_SDK_CREDENTIALS_WARNING)\n"
     ]
    }
   ],
   "source": [
    "#imports copied from download_vehicle_position.py script\n",
    "\n",
    "import datetime\n",
    "import gcsfs\n",
    "import geopandas as gpd\n",
    "import pandas as pd\n",
    "import shapely\n",
    "import sys\n",
    "\n",
    "from calitp_data_analysis.tables import tbls\n",
    "from calitp_data_analysis import utils\n",
    "from loguru import logger\n",
    "from siuba import *\n",
    "\n",
    "from shared_utils import schedule_rt_utils\n",
    "from shared_utils import geography_utils"
   ]
  },
  {
   "cell_type": "code",
   "execution_count": 2,
   "id": "500bfadf-a3f9-48a1-b53b-662ca1f8a20f",
   "metadata": {},
   "outputs": [],
   "source": [
    "# test to query fct_monthly_routes\n",
    "def get_monthly_routes(\n",
    "        year: str,\n",
    "        months: list\n",
    "    ) -> pd.DataFrame:    \n",
    "    \n",
    "        df = (tbls.mart_gtfs.fct_monthly_routes()\n",
    "              >> filter(_.year == year)\n",
    "              >> filter(_.month.isin(months))\n",
    "              >> select(_.key, _.source_record_id,\n",
    "                        _.name,\n",
    "                        _.route_id, _.shape_id,\n",
    "                        _.month,\n",
    "                        _.year,\n",
    "                       _.pt_array)\n",
    "                  >> collect()\n",
    "             )\n",
    "        return df"
   ]
  },
  {
   "cell_type": "code",
   "execution_count": 3,
   "id": "64984523-58a9-4f63-8b5d-df38648cd3c6",
   "metadata": {},
   "outputs": [
    {
     "name": "stderr",
     "output_type": "stream",
     "text": [
      "/opt/conda/lib/python3.9/site-packages/sqlalchemy_bigquery/_types.py:101: SAWarning: Did not recognize type 'GEOGRAPHY' of column 'pt_array'\n",
      "  sqlalchemy.util.warn(\n"
     ]
    }
   ],
   "source": [
    "df = get_monthly_routes(2023, [4, 5, 6, 7, 8, 9])"
   ]
  },
  {
   "cell_type": "code",
   "execution_count": 6,
   "id": "7a57e90e-b515-4b71-94e4-dbf1c79789c2",
   "metadata": {},
   "outputs": [
    {
     "data": {
      "text/plain": [
       "(24325, 8)"
      ]
     },
     "metadata": {},
     "output_type": "display_data"
    },
    {
     "data": {
      "text/plain": [
       "pandas.core.frame.DataFrame"
      ]
     },
     "metadata": {},
     "output_type": "display_data"
    },
    {
     "data": {
      "text/plain": [
       "['key',\n",
       " 'source_record_id',\n",
       " 'name',\n",
       " 'route_id',\n",
       " 'shape_id',\n",
       " 'month',\n",
       " 'year',\n",
       " 'pt_array']"
      ]
     },
     "metadata": {},
     "output_type": "display_data"
    },
    {
     "data": {
      "text/plain": [
       "year  month\n",
       "2023  8        4254\n",
       "      6        4235\n",
       "      5        4180\n",
       "      9        4172\n",
       "      4        3848\n",
       "      7        3636\n",
       "dtype: int64"
      ]
     },
     "metadata": {},
     "output_type": "display_data"
    }
   ],
   "source": [
    "#peaking into df to make sure everything looks good\n",
    "\n",
    "#shape shows 11,927 rows and 8 columns\n",
    "display(df.shape)\n",
    "\n",
    "#type shows data is in df\n",
    "display(type(df))\n",
    "\n",
    "#columns return all the columns we listed in the function\n",
    "display(list(df.columns))\n",
    "\n",
    "#value_counts confirm df only has rows from 2023 March to May\n",
    "display(df.value_counts(subset=['year','month']))"
   ]
  },
  {
   "cell_type": "code",
   "execution_count": null,
   "id": "1513ce16-3f4c-4b78-9910-357e8d940d0c",
   "metadata": {},
   "outputs": [],
   "source": [
    "#testing export to GCS > csuyat_folder\n",
    "\n",
    "# 'gs://calitp-analytics-data/data-analyses/csuyat_folder/##FILENAME##.parquet'\n",
    "# df.to_parquet()\n",
    "\n",
    "#sucsessfully written to GCS, to csuyat_folder. need to export to gtfs_schedule folder \n",
    "\n",
    "#df.to_parquet('gs://calitp-analytics-data/data-analyses/csuyat_folder/route_identification_2023_m03_m05.parquet')"
   ]
  },
  {
   "cell_type": "markdown",
   "id": "90503063-e37d-4952-9a2b-685facefcd87",
   "metadata": {},
   "source": [
    "### via Tiffany, make df to GPD\n",
    "* <b>COMPLETE</b> Query data from warehouse\n",
    "* then use this snippet from `make_routes_gdf` from `_shared_utils/shared_utils/geography_utils.py`.\n",
    "    * `ddf[\"geometry\"] = ddf.pt_array.apply(make_linestring)`\n",
    "<br>  \n",
    "* <b>COMPLETE</b> then save out as geo parquet to the `gtfs_schedule` folder in GCS (so versioning and history stays) using \n",
    "    * `utils.geoparquet_gcs_export(vp_gdf, SEGMENT_GCS, f\"vp_{analysis_date}\")`"
   ]
  },
  {
   "cell_type": "code",
   "execution_count": 8,
   "id": "11fb6f6b-ff9f-4a1f-b962-3b4de22b4982",
   "metadata": {},
   "outputs": [],
   "source": [
    "#test of make_routes_gdf\n",
    "\n",
    "aprl_sept_2023_routes = geography_utils.make_routes_gdf(df, \"EPSG:4326\")"
   ]
  },
  {
   "cell_type": "code",
   "execution_count": 9,
   "id": "36a9a610-071c-410e-9850-b4dc2f5fc032",
   "metadata": {},
   "outputs": [
    {
     "data": {
      "text/plain": [
       "geopandas.geodataframe.GeoDataFrame"
      ]
     },
     "metadata": {},
     "output_type": "display_data"
    },
    {
     "data": {
      "text/plain": [
       "'geometry'"
      ]
     },
     "metadata": {},
     "output_type": "display_data"
    }
   ],
   "source": [
    "display(type(aprl_sept_2023_routes))\n",
    "list(aprl_sept_2023_routes.columns)\n",
    "display(aprl_sept_2023_routes.geometry.name)"
   ]
  },
  {
   "cell_type": "code",
   "execution_count": null,
   "id": "bfffeca6-9a07-49bf-92fc-2d31104d9a13",
   "metadata": {},
   "outputs": [],
   "source": [
    "#writing to gcs bucket. DO NOT RUN AGAIN\n",
    "\n",
    "#aprl_sept_2023_routes.to_parquet('gs://calitp-analytics-data/data-analyses/gtfs_schedule/route_identification_2023_m04_m09.parquet')\n",
    "\n"
   ]
  },
  {
   "cell_type": "markdown",
   "id": "6013738e-0f38-4405-8653-d0e8d0ced0ce",
   "metadata": {},
   "source": [
    "---"
   ]
  },
  {
   "cell_type": "code",
   "execution_count": 10,
   "id": "bfd73f43-1e22-4759-bf1a-ef6a1cf90aa9",
   "metadata": {
    "tags": []
   },
   "outputs": [],
   "source": [
    "#creating sub-df for 'Sacramento Schedule'\n",
    "#195 rows, 8 columns\n",
    "sac = aprl_sept_2023_routes[aprl_sept_2023_routes['name'] == 'Sacramento Schedule']"
   ]
  },
  {
   "cell_type": "code",
   "execution_count": null,
   "id": "216d3c77-2fd4-4647-80be-3b1f53513358",
   "metadata": {},
   "outputs": [],
   "source": [
    "#writing sac filtered gdf to gcs. DO NOT RUN AGAIN\n",
    "\n",
    "#sac.to_parquet('gs://calitp-analytics-data/data-analyses/gtfs_schedule/sac_route_identification_2023_m04_m09.parquet')"
   ]
  },
  {
   "cell_type": "code",
   "execution_count": 11,
   "id": "d4f72af9-14cf-43b6-b453-975b3f47c3e1",
   "metadata": {},
   "outputs": [],
   "source": [
    "#test plot \n",
    "sac.geometry.iloc[2]\n"
   ]
  },
  {
   "cell_type": "code",
   "execution_count": 15,
   "id": "425e7286-1880-4148-8789-dfa2c561f1ea",
   "metadata": {},
   "outputs": [
    {
     "data": {
      "text/plain": [
       "(393, 8)"
      ]
     },
     "metadata": {},
     "output_type": "display_data"
    },
    {
     "data": {
      "text/html": [
       "<div>\n",
       "<style scoped>\n",
       "    .dataframe tbody tr th:only-of-type {\n",
       "        vertical-align: middle;\n",
       "    }\n",
       "\n",
       "    .dataframe tbody tr th {\n",
       "        vertical-align: top;\n",
       "    }\n",
       "\n",
       "    .dataframe thead th {\n",
       "        text-align: right;\n",
       "    }\n",
       "</style>\n",
       "<table border=\"1\" class=\"dataframe\">\n",
       "  <thead>\n",
       "    <tr style=\"text-align: right;\">\n",
       "      <th></th>\n",
       "      <th>key</th>\n",
       "      <th>source_record_id</th>\n",
       "      <th>name</th>\n",
       "      <th>route_id</th>\n",
       "      <th>shape_id</th>\n",
       "      <th>month</th>\n",
       "      <th>year</th>\n",
       "      <th>geometry</th>\n",
       "    </tr>\n",
       "  </thead>\n",
       "  <tbody>\n",
       "    <tr>\n",
       "      <th>5</th>\n",
       "      <td>167599ffa2148995fe05ca3c6ab6f533</td>\n",
       "      <td>recbzZQUIdMmFvm1r</td>\n",
       "      <td>Sacramento Schedule</td>\n",
       "      <td>227</td>\n",
       "      <td>46061</td>\n",
       "      <td>8</td>\n",
       "      <td>2023</td>\n",
       "      <td>None</td>\n",
       "    </tr>\n",
       "    <tr>\n",
       "      <th>31</th>\n",
       "      <td>c15fc92307cee69b6c388a08d6cdbe5b</td>\n",
       "      <td>recbzZQUIdMmFvm1r</td>\n",
       "      <td>Sacramento Schedule</td>\n",
       "      <td>F10</td>\n",
       "      <td>46159</td>\n",
       "      <td>6</td>\n",
       "      <td>2023</td>\n",
       "      <td>LINESTRING (-121.17992 38.67578, -121.18067 38...</td>\n",
       "    </tr>\n",
       "    <tr>\n",
       "      <th>35</th>\n",
       "      <td>844f3b14e654ec1ffdbb1af2d486d29c</td>\n",
       "      <td>recbzZQUIdMmFvm1r</td>\n",
       "      <td>Sacramento Schedule</td>\n",
       "      <td>019</td>\n",
       "      <td>45281</td>\n",
       "      <td>5</td>\n",
       "      <td>2023</td>\n",
       "      <td>None</td>\n",
       "    </tr>\n",
       "    <tr>\n",
       "      <th>72</th>\n",
       "      <td>a0aa8f4292bed01247389a96f95d1176</td>\n",
       "      <td>recbzZQUIdMmFvm1r</td>\n",
       "      <td>Sacramento Schedule</td>\n",
       "      <td>068</td>\n",
       "      <td>46220</td>\n",
       "      <td>9</td>\n",
       "      <td>2023</td>\n",
       "      <td>LINESTRING (-121.42656 38.59969, -121.42615 38...</td>\n",
       "    </tr>\n",
       "    <tr>\n",
       "      <th>88</th>\n",
       "      <td>5ee089aa97106d962f283dd7d77fa8eb</td>\n",
       "      <td>recbzZQUIdMmFvm1r</td>\n",
       "      <td>Sacramento Schedule</td>\n",
       "      <td>013</td>\n",
       "      <td>45278</td>\n",
       "      <td>4</td>\n",
       "      <td>2023</td>\n",
       "      <td>LINESTRING (-121.38163 38.60670, -121.38188 38...</td>\n",
       "    </tr>\n",
       "  </tbody>\n",
       "</table>\n",
       "</div>"
      ],
      "text/plain": [
       "                                 key   source_record_id                 name  \\\n",
       "5   167599ffa2148995fe05ca3c6ab6f533  recbzZQUIdMmFvm1r  Sacramento Schedule   \n",
       "31  c15fc92307cee69b6c388a08d6cdbe5b  recbzZQUIdMmFvm1r  Sacramento Schedule   \n",
       "35  844f3b14e654ec1ffdbb1af2d486d29c  recbzZQUIdMmFvm1r  Sacramento Schedule   \n",
       "72  a0aa8f4292bed01247389a96f95d1176  recbzZQUIdMmFvm1r  Sacramento Schedule   \n",
       "88  5ee089aa97106d962f283dd7d77fa8eb  recbzZQUIdMmFvm1r  Sacramento Schedule   \n",
       "\n",
       "   route_id shape_id  month  year  \\\n",
       "5       227    46061      8  2023   \n",
       "31      F10    46159      6  2023   \n",
       "35      019    45281      5  2023   \n",
       "72      068    46220      9  2023   \n",
       "88      013    45278      4  2023   \n",
       "\n",
       "                                             geometry  \n",
       "5                                                None  \n",
       "31  LINESTRING (-121.17992 38.67578, -121.18067 38...  \n",
       "35                                               None  \n",
       "72  LINESTRING (-121.42656 38.59969, -121.42615 38...  \n",
       "88  LINESTRING (-121.38163 38.60670, -121.38188 38...  "
      ]
     },
     "metadata": {},
     "output_type": "display_data"
    }
   ],
   "source": [
    "display(sac.shape)\n",
    "display(sac.head())"
   ]
  },
  {
   "cell_type": "code",
   "execution_count": 13,
   "id": "81d867e5-d3d1-4338-af9c-77747145fe3c",
   "metadata": {},
   "outputs": [],
   "source": [
    "sac_routes = sac['route_id'].unique()\n"
   ]
  },
  {
   "cell_type": "code",
   "execution_count": 14,
   "id": "84b74a42-e642-4f9f-b3a4-11a048006ee3",
   "metadata": {},
   "outputs": [
    {
     "data": {
      "text/plain": [
       "67"
      ]
     },
     "execution_count": 14,
     "metadata": {},
     "output_type": "execute_result"
    }
   ],
   "source": [
    "len(sac_routes)"
   ]
  },
  {
   "cell_type": "markdown",
   "id": "1d4a03f9-7457-4c3c-82f6-8ba548407685",
   "metadata": {},
   "source": [
    "## Next Steps\n",
    "\n",
    "for every `name` and `route_id` in routes, need to see if each row is the same or not. Need to identify any variation in the routes. \n",
    "\n"
   ]
  },
  {
   "cell_type": "markdown",
   "id": "3b5d0e05-7aa8-4930-bcd9-bc632d745cf9",
   "metadata": {},
   "source": [
    "---\n",
    "\n",
    "Trying to use a loop that will create a df for every route_id in sac_routes. but would need to do this for every `name` in the `fct_monthly_routes` df eventually?\n"
   ]
  },
  {
   "cell_type": "code",
   "execution_count": null,
   "id": "c7d3fc70-3b21-42f2-bd6a-057333349cc6",
   "metadata": {},
   "outputs": [],
   "source": [
    "#empty dictionary\n",
    "sac_sub_route_ids = {}\n",
    "\n",
    "#each element in sac_routes will be called route.\n",
    "#for each route in sac_routes, query each row related to that route.(where ever you use the variable route, go 1-by-1 the differnet\n",
    "#then, create a dataframe for each route and place it into the dictionary sub_dataframes\n",
    "for route in sac_routes:\n",
    "    sub_df = sac[sac['route_id'] == route]\n",
    "    sac_sub_route_ids[route] = sub_df"
   ]
  },
  {
   "cell_type": "code",
   "execution_count": null,
   "id": "3272b64b-ffb7-41c2-962d-eff528a03ddc",
   "metadata": {},
   "outputs": [],
   "source": [
    "len(sac_sub_route_ids)"
   ]
  },
  {
   "cell_type": "code",
   "execution_count": null,
   "id": "c1cbf71a-1572-432a-bbf6-5e0f0a3ef47f",
   "metadata": {},
   "outputs": [],
   "source": [
    "#testing dictionary with route 23 and 88\n",
    "sac_sub_route_ids['023']"
   ]
  },
  {
   "cell_type": "markdown",
   "id": "5b684be3-62b3-42eb-86b9-08b05d02253a",
   "metadata": {},
   "source": [
    "---"
   ]
  },
  {
   "cell_type": "code",
   "execution_count": null,
   "id": "30abf0e8-dd05-4805-8801-92f78ffa7a75",
   "metadata": {},
   "outputs": [],
   "source": [
    "#list of unique route names from initial df\n",
    "route_names = df['name'].unique()\n"
   ]
  },
  {
   "cell_type": "code",
   "execution_count": null,
   "id": "b69ace75-b5d9-4433-8adf-b65d92472d26",
   "metadata": {},
   "outputs": [],
   "source": [
    "#new loop that creates a dictionary of each unique schedule name with all its routes.\n",
    "sub_route_name = {}\n",
    "\n",
    "for name in route_names:\n",
    "    sub_df2 = df[df['name'] == name]\n",
    "    sub_route_name[name] = sub_df2\n",
    "    "
   ]
  },
  {
   "cell_type": "code",
   "execution_count": null,
   "id": "82abf8d4-b157-453b-aa45-a91d4905f8bc",
   "metadata": {},
   "outputs": [],
   "source": [
    "#test to see if new dictionary works\n",
    "sub_route_name['Auburn Schedule']"
   ]
  },
  {
   "cell_type": "markdown",
   "id": "4b055e09-1396-4af9-8b0f-49faab6207bc",
   "metadata": {},
   "source": [
    "## Now I have `sac_sub_route_ids` and `sub_route_name` dictionaries\n",
    "\n",
    "Examples of some noteable routes with slight variations over time."
   ]
  },
  {
   "cell_type": "code",
   "execution_count": null,
   "id": "6f225d6b-11de-48c8-9b4d-8e7ed16861d8",
   "metadata": {},
   "outputs": [],
   "source": [
    "#General observations for Sacramento Schedule: \n",
    "#shape_id changes every month. \n",
    "#pt_array changes every month, however, did get a warning upon initial query of data so may need to review query to account for geodata\n",
    "#Month 4 has the point geom data\n",
    "\n",
    "display(sac_sub_route_ids['088'])\n",
    "display(sac_sub_route_ids['023'])\n",
    "display(sac_sub_route_ids['105'])\n",
    "display(sac_sub_route_ids['F20'])\n",
    "display(sac_sub_route_ids['215'])"
   ]
  },
  {
   "cell_type": "code",
   "execution_count": null,
   "id": "f784a5fa-276d-4d48-b512-b25daa5def1d",
   "metadata": {},
   "outputs": [],
   "source": [
    "#test to see other route names\n",
    "#other route names have more point geometry than Sacramento.\n",
    "display(sub_route_name['Santa Cruz Schedule'])\n",
    "display(sub_route_name['Merced Schedule'])\n",
    "display(sub_route_name['San Diego Schedule'])\n",
    "display(sub_route_name['Roseville Schedule'])"
   ]
  },
  {
   "cell_type": "code",
   "execution_count": null,
   "id": "16d75337-2544-4371-afa8-52b88fe06eb6",
   "metadata": {},
   "outputs": [],
   "source": [
    "import importlib\n",
    "\n",
    "importlib.reload(segment_speed_utils)\n",
    "from segment_speed_utils.project_vars import SCHED_GCS, analysis_date"
   ]
  },
  {
   "cell_type": "code",
   "execution_count": null,
   "id": "c8ec3566-e221-4165-8f52-d42146d3c64e",
   "metadata": {},
   "outputs": [],
   "source": []
  }
 ],
 "metadata": {
  "kernelspec": {
   "display_name": "Python 3 (ipykernel)",
   "language": "python",
   "name": "python3"
  },
  "language_info": {
   "codemirror_mode": {
    "name": "ipython",
    "version": 3
   },
   "file_extension": ".py",
   "mimetype": "text/x-python",
   "name": "python",
   "nbconvert_exporter": "python",
   "pygments_lexer": "ipython3",
   "version": "3.9.13"
  }
 },
 "nbformat": 4,
 "nbformat_minor": 5
}
