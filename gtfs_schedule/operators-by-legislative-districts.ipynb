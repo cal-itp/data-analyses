{
 "cells": [
  {
   "cell_type": "markdown",
   "id": "1912623d-420d-489f-844c-7df679844718",
   "metadata": {},
   "source": [
    "# Transit agencies by Legislative Districts\n",
    "\n",
    "* Get list of agencies associated with each senate district and assembly district. Use this [legislative district file.](https://gis.data.ca.gov/maps/cabaddc34c854421b38b8a9239315d9b/about)\n",
    "* Combine districts with current members with dictionary and get list for Gillian."
   ]
  },
  {
   "cell_type": "code",
   "execution_count": 1,
   "id": "4fd345fb-2dbc-4d19-9e9a-35abd6e07e74",
   "metadata": {},
   "outputs": [],
   "source": [
    "import os\n",
    "os.environ['USE_PYGEOS'] = '0'\n",
    "\n",
    "import geopandas as gpd\n",
    "import pandas as pd\n",
    "\n",
    "from segment_speed_utils import helpers\n",
    "from shared_utils import rt_dates"
   ]
  },
  {
   "cell_type": "code",
   "execution_count": 2,
   "id": "db7270dc-ee24-4eb8-979d-39345a125cd8",
   "metadata": {},
   "outputs": [],
   "source": [
    "BASE_URL = (\"https://services3.arcgis.com/fdvHcZVgB2QSRNkL/\"\n",
    "            \"arcgis/rest/services/Legislative/FeatureServer/\"\n",
    "           )\n",
    "ASSEMBLY_DISTRICTS = f\"{BASE_URL}0/query?outFields=*&where=1%3D1&f=geojson\"\n",
    "SENATE_DISTRICTS = f\"{BASE_URL}1/query?outFields=*&where=1%3D1&f=geojson\""
   ]
  },
  {
   "cell_type": "code",
   "execution_count": 3,
   "id": "33930aa2-3139-4e35-a91c-bd35197acb29",
   "metadata": {},
   "outputs": [],
   "source": [
    "# Import assembly districts and senate districts\n",
    "assembly_districts = gpd.read_file(ASSEMBLY_DISTRICTS)[\n",
    "    [\"AssemblyDistrictLabel\", \"geometry\"]]\n",
    "\n",
    "senate_districts = gpd.read_file(SENATE_DISTRICTS)[\n",
    "    [\"SenateDistrictLabel\", \"geometry\"]]"
   ]
  },
  {
   "cell_type": "code",
   "execution_count": 4,
   "id": "61707807-5bf0-4d61-a4fb-5997325b8977",
   "metadata": {},
   "outputs": [],
   "source": [
    "# Grab July's shapes and merge in operator name\n",
    "analysis_date = rt_dates.DATES[\"jul2023\"]\n",
    "\n",
    "trips = helpers.import_scheduled_trips(\n",
    "    analysis_date,\n",
    "    columns = [\"name\", \"shape_array_key\"],\n",
    "    get_pandas = True\n",
    ")\n",
    "\n",
    "trips = trips.assign(\n",
    "    name = trips.name.str.replace(\" Schedule\", \"\")\n",
    ")\n",
    "\n",
    "shapes = helpers.import_scheduled_shapes(\n",
    "    analysis_date,\n",
    "    columns = [\"shape_array_key\", \"geometry\"],\n",
    "    get_pandas = True,\n",
    "    crs = \"EPSG:4326\"\n",
    ").merge(\n",
    "    trips,\n",
    "    on = \"shape_array_key\",\n",
    "    how = \"inner\"\n",
    ")"
   ]
  },
  {
   "cell_type": "code",
   "execution_count": 5,
   "id": "dc2337b2-ff84-46e6-9681-ec5d026b5d62",
   "metadata": {},
   "outputs": [],
   "source": [
    "def sjoin_shapes_to_legislative_geography(\n",
    "    shapes: gpd.GeoDataFrame, \n",
    "    legislative_geog: gpd.GeoDataFrame\n",
    ") -> pd.DataFrame:\n",
    "    \"\"\"\n",
    "    Spatially join shapes to a legislative boundary.\n",
    "    If at least one shape falls intersects with a district, include it.\n",
    "    Create a df that's wide, so we can pull any assembly or senate district\n",
    "    and grab a list of associated agencies.\n",
    "    \"\"\"\n",
    "    district_col = [c for c in legislative_geog.columns \n",
    "                    if \"DistrictLabel\" in c][0]\n",
    "    \n",
    "    operators_by_district = (\n",
    "        gpd.sjoin(\n",
    "            shapes,\n",
    "            legislative_geog,\n",
    "            how = \"inner\",\n",
    "            predicate = \"intersects\"\n",
    "        )[[\"name\", district_col]]\n",
    "        .drop_duplicates()\n",
    "        .sort_values([district_col, \"name\"])\n",
    "        .reset_index(drop=True)\n",
    "    )\n",
    "    \n",
    "    # Make wide, and have the operator names come out alphabetically\n",
    "    wide_df = operators_by_district.groupby(\n",
    "        district_col).name.agg(\n",
    "        lambda x: ', '.join(x)\n",
    "    ).reset_index().rename(columns = {district_col: \"district\"})\n",
    "    \n",
    "    return wide_df"
   ]
  },
  {
   "cell_type": "code",
   "execution_count": 6,
   "id": "3c766798-0a21-464b-855e-57dd427b92c8",
   "metadata": {},
   "outputs": [],
   "source": [
    "senate_agencies = sjoin_shapes_to_legislative_geography(\n",
    "    shapes, senate_districts\n",
    ")\n",
    "\n",
    "assembly_agencies = sjoin_shapes_to_legislative_geography(\n",
    "    shapes, assembly_districts\n",
    ")           \n",
    "\n",
    "legislative_agencies = pd.concat(\n",
    "    [senate_agencies, assembly_agencies], \n",
    "    sort = False\n",
    ").reset_index(drop=True)"
   ]
  },
  {
   "cell_type": "code",
   "execution_count": 7,
   "id": "dd09a9d6-f34e-4dfe-9d78-8dd6cce56211",
   "metadata": {},
   "outputs": [],
   "source": [
    "# These are the legislative members and their associated districts\n",
    "SENATORS = {\n",
    "    \"David Min\": \"SD 37\",\n",
    "    \"Monique Limon\": \"SD 19\",\n",
    "    \"Bob Archuleta\": \"SD 30\",\n",
    "    \"Anna Caballero\": \"SD 14\",\n",
    "    \"Susan Talamantes Eggman\": \"SD 05\",\n",
    "    \"Lena Gonzalez\": \"SD 33\",\n",
    "    \"Catherine Blakespear\": \"SD 38\",\n",
    "    \"Melissa Hurtado\": \"SD 16\",\n",
    "    \"Scott Wiener\": \"SD 11\",\n",
    "    \"Josh Newman\": \"SD 29\",\n",
    "    \"Ben Allen\": \"SD 24\", \n",
    "    \"Steven Bradford\": \"SD 35\",\n",
    "}\n",
    "\n",
    "ASM = {\n",
    "    \"Phillip Chen\": \"AD 59\",\n",
    "    \"Juan Alanis\": \"AD 22\",\n",
    "    \"Vince Fong\": \"AD 32\",\n",
    "    \"Mike Fong\": \"AD 49\", \n",
    "    \"Laura Friedman\": \"AD 44\",\n",
    "    \"Jim Patterson\": \"AD 05\", \n",
    "    \"Kate Sanchez\": \"AD 71\",\n",
    "    \"Jesse Gabriel\": \"AD 46\",\n",
    "    \"Carlos Villapudua\": \"AD 13\",\n",
    "}\n",
    "\n",
    "# Combine into 1 dict\n",
    "MEMBERS = {**SENATORS, **ASM}"
   ]
  },
  {
   "cell_type": "code",
   "execution_count": 8,
   "id": "32e06289-6550-4870-b3a4-4725e3616c45",
   "metadata": {},
   "outputs": [],
   "source": [
    "# Put this into a spreadsheet format \n",
    "# Just grab the members Gillian asked for and attach name to district\n",
    "df = legislative_agencies[\n",
    "    legislative_agencies.district.isin(MEMBERS.values())\n",
    "].reset_index(drop=True)\n",
    "\n",
    "df = df.assign(\n",
    "    member = df.district.map({v:k for k,v in MEMBERS.items()})\n",
    ").rename(columns = {\"name\": \"transit_agencies\"}).reindex(\n",
    "    columns = [\"member\", \"district\", \"transit_agencies\"])"
   ]
  },
  {
   "cell_type": "code",
   "execution_count": 9,
   "id": "3c285794-3109-4fae-b1cf-d11071819133",
   "metadata": {},
   "outputs": [],
   "source": [
    "df.to_csv('transit_agencies_for_legislative_members.csv', index=False)"
   ]
  },
  {
   "cell_type": "code",
   "execution_count": null,
   "id": "476a1670-5e2b-41f4-83e6-6d467f615b7c",
   "metadata": {},
   "outputs": [],
   "source": []
  }
 ],
 "metadata": {
  "kernelspec": {
   "display_name": "Python 3 (ipykernel)",
   "language": "python",
   "name": "python3"
  },
  "language_info": {
   "codemirror_mode": {
    "name": "ipython",
    "version": 3
   },
   "file_extension": ".py",
   "mimetype": "text/x-python",
   "name": "python",
   "nbconvert_exporter": "python",
   "pygments_lexer": "ipython3",
   "version": "3.9.13"
  }
 },
 "nbformat": 4,
 "nbformat_minor": 5
}
