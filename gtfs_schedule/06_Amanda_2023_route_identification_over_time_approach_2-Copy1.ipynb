{
 "cells": [
  {
   "cell_type": "markdown",
   "id": "8b7804a6-16e9-4991-abfd-9574544e0d60",
   "metadata": {},
   "source": [
    "# Route Identification Over Time, Approach 2\n",
    "See `06_route_identification_over_time.ipynb` for previous work.\n",
    "<br>Determined that more data is needed than what is given from `fct_monthly_routes`. exploring data from `helpers.import_scheduled_trips` to get feed_key, route short/long name/id/desc and other. \n",
    "<br>Cannot rely on feed_key as it is unstable over time. Next best is gtfs_schedule key, but absolute best is source_record_id.\n",
    "<br>Start with running `make install_env` to install everything needed. `helpers`,`rt_dates`,`sched_gcs`\n",
    "<br>Query data from warehouse, then use this snippet from `make_routes_gdf` from `_shared_utils/shared_utils/geography_utils.py`.\n",
    "* ddf[\"geometry\"] = ddf.pt_array.apply(make_linestring)\n",
    "    \n",
    "<br> then save out as geo parquet to the `gtfs_schedule` folder in GCS (so versioning and history stays) using \n",
    "* utils.geoparquet_gcs_export(\n",
    "                vp_gdf,\n",
    "                SEGMENT_GCS,\n",
    "                f\"vp_{analysis_date}\"\n",
    "            )\n",
    "\n",
    "<br>also add `route_long_name` to query. then see if we are able to see any changes in routes via:\n",
    "* feed key\n",
    "* name\n",
    "* route id\n",
    "* route short name\n",
    "* route long name\n",
    "* route desc\n",
    "    "
   ]
  },
  {
   "cell_type": "code",
   "execution_count": 1,
   "id": "19f7db52-cba6-4c37-8b84-c23ee26d3ed0",
   "metadata": {},
   "outputs": [],
   "source": [
    "import pandas as pd\n",
    "#rt_segment_speeds/segment_speed_utils\n",
    "from segment_speed_utils import helpers\n",
    "\n",
    "#rt_segment_speeds/segment_speed_utils/project_vars.py\n",
    "from segment_speed_utils.project_vars import SCHED_GCS\n",
    "\n",
    "#_shared_utils/shared_utils/rt_dates.py\n",
    "from shared_utils import rt_dates\n",
    "\n"
   ]
  },
  {
   "cell_type": "markdown",
   "id": "9f21449d-5629-4c53-9c43-c05b9f3a9093",
   "metadata": {},
   "source": [
    "## 11/15/2023\n",
    "\n",
    "Latest update. Attempting to join `fct_monthly_routes` & `dim_providers_gtfs_data`. then will joing in data from this approach"
   ]
  },
  {
   "cell_type": "code",
   "execution_count": null,
   "id": "e58b7202-e43e-443e-ab1a-c3cd16b65d33",
   "metadata": {},
   "outputs": [],
   "source": [
    "#DO NOT RUN\n",
    "\n",
    "\n",
    "\n",
    "# grabbing additional dates\n",
    "# april_date = rt_dates.DATES[\"apr2023\"]\n",
    "# may_date = rt_dates.DATES[\"may2023\"]\n",
    "# june_date = rt_dates.DATES[\"jun2023\"]\n",
    "# july_date = rt_dates.DATES[\"jul2023\"]\n",
    "# aug_date = rt_dates.DATES[\"aug2023\"]\n",
    "# sep_date = rt_dates.DATES[\"sep2023\"]"
   ]
  },
  {
   "cell_type": "code",
   "execution_count": null,
   "id": "b1d9e303-fa2f-4039-9eb8-4e3a0037db21",
   "metadata": {},
   "outputs": [],
   "source": [
    "#DO NOT RUN\n",
    "# list of all the months\n",
    "# months_list = [sep_date, aug_date, april_date, may_date, june_date, july_date]"
   ]
  },
  {
   "cell_type": "code",
   "execution_count": null,
   "id": "ead3240f-e98d-4916-90ea-1c16b9d3a644",
   "metadata": {},
   "outputs": [],
   "source": [
    "#DO NOT RUN\n",
    "# test loop of import_scheduled_trips, iterated through months_list\n",
    "\n",
    "# empty list\n",
    "# month_trips = {}\n",
    "\n",
    "# for months in months_list:\n",
    "#     df = helpers.import_scheduled_trips(\n",
    "#         months,\n",
    "#         columns=[\n",
    "#             \"feed_key\",\n",
    "#             \"name\",\n",
    "#             \"gtfs_dataset_key\",\n",
    "#             \"route_id\",\n",
    "#             \"route_short_name\",\n",
    "#             \"route_long_name\",\n",
    "#             \"route_desc\",\n",
    "#         ],\n",
    "#         filters=[[(\"name\", \"==\", \"Sacramento Schedule\")]],\n",
    "#         get_pandas=True,\n",
    "#     )\n",
    "#     month_trips[months] = df"
   ]
  },
  {
   "cell_type": "code",
   "execution_count": null,
   "id": "52e07e41-41ee-4bdd-9fc7-bb4244f55e0d",
   "metadata": {},
   "outputs": [],
   "source": [
    "#  month_trips.keys()"
   ]
  },
  {
   "cell_type": "code",
   "execution_count": null,
   "id": "b85dade9-90c2-470f-a737-88772dabeaf9",
   "metadata": {},
   "outputs": [],
   "source": [
    "# april = month_trips['2023-04-12'].assign(month='april')\n",
    "# may = month_trips['2023-05-17'].assign(month='may')\n",
    "# june = month_trips['2023-06-14'].assign(month='june')\n",
    "# july = month_trips['2023-07-12'].assign(month='july')\n",
    "# aug = month_trips['2023-08-15'].assign(month='aug')\n",
    "# sep = month_trips['2023-09-13'].assign(month='sep')"
   ]
  },
  {
   "cell_type": "code",
   "execution_count": null,
   "id": "80cc82e3-f0d0-475a-96a9-d6a87d30a6cd",
   "metadata": {},
   "outputs": [],
   "source": [
    "# use this pseudo code to concat all the different months data\n",
    "# pd.concat can stack DFs on top of others.\n",
    "# pd.concat([df1, df2], axis=0)"
   ]
  },
  {
   "cell_type": "code",
   "execution_count": null,
   "id": "9c7ea7ad-8069-4c06-b44b-935617dfba4e",
   "metadata": {},
   "outputs": [],
   "source": [
    "#DO NOT RUN\n",
    "#test to see if i can use a dictionary in concat\n",
    "# all_trips = pd.concat([april,may,june,july,aug,sep],axis=0)"
   ]
  },
  {
   "cell_type": "code",
   "execution_count": null,
   "id": "7a3156fe-18f8-4909-8fa7-59445e20733d",
   "metadata": {},
   "outputs": [],
   "source": [
    "#DO NOT RUN\n",
    "#saving dataframe to gcs\n",
    "#TEST CODE aprl_sept_2023_routes.to_parquet('gs://calitp-analytics-data/data-analyses/gtfs_schedule/route_identification_2023_m04_m09.parquet')\n",
    "\n",
    "# all_trips.to_parquet('gs://calitp-analytics-data/data-analyses/gtfs_schedule/sac_trips_route_identification_2023_m04_m09.parquet')"
   ]
  },
  {
   "cell_type": "code",
   "execution_count": 2,
   "id": "7bbf6dec-6354-4df8-adb2-4b9acfa266b6",
   "metadata": {},
   "outputs": [],
   "source": [
    "#from now on, READ IN DATA FROM GCS\n",
    "\n",
    "sac_trips = pd.read_parquet('gs://calitp-analytics-data/data-analyses/gtfs_schedule/sac_trips_route_identification_2023_m04_m09.parquet')"
   ]
  },
  {
   "cell_type": "code",
   "execution_count": 3,
   "id": "12c9888a-b2ee-4dd7-9b15-a871365eb3ad",
   "metadata": {},
   "outputs": [
    {
     "data": {
      "text/plain": [
       "(326, 8)"
      ]
     },
     "metadata": {},
     "output_type": "display_data"
    },
    {
     "data": {
      "text/plain": [
       "pandas.core.frame.DataFrame"
      ]
     },
     "metadata": {},
     "output_type": "display_data"
    },
    {
     "data": {
      "text/html": [
       "<div>\n",
       "<style scoped>\n",
       "    .dataframe tbody tr th:only-of-type {\n",
       "        vertical-align: middle;\n",
       "    }\n",
       "\n",
       "    .dataframe tbody tr th {\n",
       "        vertical-align: top;\n",
       "    }\n",
       "\n",
       "    .dataframe thead th {\n",
       "        text-align: right;\n",
       "    }\n",
       "</style>\n",
       "<table border=\"1\" class=\"dataframe\">\n",
       "  <thead>\n",
       "    <tr style=\"text-align: right;\">\n",
       "      <th></th>\n",
       "      <th>feed_key</th>\n",
       "      <th>name</th>\n",
       "      <th>schedule_gtfs_dataset_key</th>\n",
       "      <th>route_id</th>\n",
       "      <th>route_short_name</th>\n",
       "      <th>route_long_name</th>\n",
       "      <th>route_desc</th>\n",
       "      <th>month</th>\n",
       "    </tr>\n",
       "  </thead>\n",
       "  <tbody>\n",
       "    <tr>\n",
       "      <th>0</th>\n",
       "      <td>55c36112e9a6a849c0ddc65eb54de7f1</td>\n",
       "      <td>Sacramento Schedule</td>\n",
       "      <td>43a1e46d592a1ee647bce8422c68460c</td>\n",
       "      <td>001</td>\n",
       "      <td>1</td>\n",
       "      <td>GREENBACK</td>\n",
       "      <td>None</td>\n",
       "      <td>april</td>\n",
       "    </tr>\n",
       "    <tr>\n",
       "      <th>1</th>\n",
       "      <td>55c36112e9a6a849c0ddc65eb54de7f1</td>\n",
       "      <td>Sacramento Schedule</td>\n",
       "      <td>43a1e46d592a1ee647bce8422c68460c</td>\n",
       "      <td>011</td>\n",
       "      <td>11</td>\n",
       "      <td>NATOMAS/LAND PARK</td>\n",
       "      <td>None</td>\n",
       "      <td>april</td>\n",
       "    </tr>\n",
       "    <tr>\n",
       "      <th>2</th>\n",
       "      <td>55c36112e9a6a849c0ddc65eb54de7f1</td>\n",
       "      <td>Sacramento Schedule</td>\n",
       "      <td>43a1e46d592a1ee647bce8422c68460c</td>\n",
       "      <td>013</td>\n",
       "      <td>13</td>\n",
       "      <td>NATOMAS/ARDEN</td>\n",
       "      <td>None</td>\n",
       "      <td>april</td>\n",
       "    </tr>\n",
       "    <tr>\n",
       "      <th>3</th>\n",
       "      <td>55c36112e9a6a849c0ddc65eb54de7f1</td>\n",
       "      <td>Sacramento Schedule</td>\n",
       "      <td>43a1e46d592a1ee647bce8422c68460c</td>\n",
       "      <td>015</td>\n",
       "      <td>15</td>\n",
       "      <td>DEL PASO HEIGHTS</td>\n",
       "      <td>None</td>\n",
       "      <td>april</td>\n",
       "    </tr>\n",
       "    <tr>\n",
       "      <th>4</th>\n",
       "      <td>55c36112e9a6a849c0ddc65eb54de7f1</td>\n",
       "      <td>Sacramento Schedule</td>\n",
       "      <td>43a1e46d592a1ee647bce8422c68460c</td>\n",
       "      <td>019</td>\n",
       "      <td>19</td>\n",
       "      <td>RIO LINDA</td>\n",
       "      <td>None</td>\n",
       "      <td>april</td>\n",
       "    </tr>\n",
       "  </tbody>\n",
       "</table>\n",
       "</div>"
      ],
      "text/plain": [
       "                           feed_key                 name  \\\n",
       "0  55c36112e9a6a849c0ddc65eb54de7f1  Sacramento Schedule   \n",
       "1  55c36112e9a6a849c0ddc65eb54de7f1  Sacramento Schedule   \n",
       "2  55c36112e9a6a849c0ddc65eb54de7f1  Sacramento Schedule   \n",
       "3  55c36112e9a6a849c0ddc65eb54de7f1  Sacramento Schedule   \n",
       "4  55c36112e9a6a849c0ddc65eb54de7f1  Sacramento Schedule   \n",
       "\n",
       "          schedule_gtfs_dataset_key route_id route_short_name  \\\n",
       "0  43a1e46d592a1ee647bce8422c68460c      001                1   \n",
       "1  43a1e46d592a1ee647bce8422c68460c      011               11   \n",
       "2  43a1e46d592a1ee647bce8422c68460c      013               13   \n",
       "3  43a1e46d592a1ee647bce8422c68460c      015               15   \n",
       "4  43a1e46d592a1ee647bce8422c68460c      019               19   \n",
       "\n",
       "     route_long_name route_desc  month  \n",
       "0          GREENBACK       None  april  \n",
       "1  NATOMAS/LAND PARK       None  april  \n",
       "2      NATOMAS/ARDEN       None  april  \n",
       "3   DEL PASO HEIGHTS       None  april  \n",
       "4          RIO LINDA       None  april  "
      ]
     },
     "metadata": {},
     "output_type": "display_data"
    }
   ],
   "source": [
    "display(sac_trips.shape)\n",
    "display(type(sac_trips))\n",
    "display(sac_trips.head())"
   ]
  },
  {
   "cell_type": "code",
   "execution_count": 5,
   "id": "b1029f70-fba9-4896-83ca-19f4397a444a",
   "metadata": {},
   "outputs": [
    {
     "data": {
      "text/plain": [
       "sep      66\n",
       "april    65\n",
       "may      65\n",
       "july     65\n",
       "aug      65\n",
       "Name: month, dtype: int64"
      ]
     },
     "execution_count": 5,
     "metadata": {},
     "output_type": "execute_result"
    }
   ],
   "source": [
    "#No data for June 2023\n",
    "sac_trips.month.value_counts()"
   ]
  },
  {
   "cell_type": "code",
   "execution_count": 6,
   "id": "24bc34e5-1676-4972-a9a9-414b93d9e127",
   "metadata": {},
   "outputs": [
    {
     "data": {
      "text/plain": [
       "43a1e46d592a1ee647bce8422c68460c    260\n",
       "cb3074eb8b423dfc5acfeeb0de95eb82     66\n",
       "Name: schedule_gtfs_dataset_key, dtype: int64"
      ]
     },
     "execution_count": 6,
     "metadata": {},
     "output_type": "execute_result"
    }
   ],
   "source": [
    "# 2 unique gtfs dataset keys, as opposed to 3 unique feed keys\n",
    "sac_trips.schedule_gtfs_dataset_key.value_counts()"
   ]
  },
  {
   "cell_type": "code",
   "execution_count": 21,
   "id": "198bede7-72a6-4208-82f8-fe7a6e7d183b",
   "metadata": {},
   "outputs": [
    {
     "data": {
      "text/html": [
       "<div>\n",
       "<style scoped>\n",
       "    .dataframe tbody tr th:only-of-type {\n",
       "        vertical-align: middle;\n",
       "    }\n",
       "\n",
       "    .dataframe tbody tr th {\n",
       "        vertical-align: top;\n",
       "    }\n",
       "\n",
       "    .dataframe thead th {\n",
       "        text-align: right;\n",
       "    }\n",
       "</style>\n",
       "<table border=\"1\" class=\"dataframe\">\n",
       "  <thead>\n",
       "    <tr style=\"text-align: right;\">\n",
       "      <th></th>\n",
       "      <th>schedule_gtfs_dataset_key</th>\n",
       "      <th>month</th>\n",
       "      <th>feed_key</th>\n",
       "    </tr>\n",
       "  </thead>\n",
       "  <tbody>\n",
       "    <tr>\n",
       "      <th>0</th>\n",
       "      <td>43a1e46d592a1ee647bce8422c68460c</td>\n",
       "      <td>april</td>\n",
       "      <td>65</td>\n",
       "    </tr>\n",
       "    <tr>\n",
       "      <th>1</th>\n",
       "      <td>43a1e46d592a1ee647bce8422c68460c</td>\n",
       "      <td>aug</td>\n",
       "      <td>65</td>\n",
       "    </tr>\n",
       "    <tr>\n",
       "      <th>2</th>\n",
       "      <td>43a1e46d592a1ee647bce8422c68460c</td>\n",
       "      <td>july</td>\n",
       "      <td>65</td>\n",
       "    </tr>\n",
       "    <tr>\n",
       "      <th>3</th>\n",
       "      <td>43a1e46d592a1ee647bce8422c68460c</td>\n",
       "      <td>may</td>\n",
       "      <td>65</td>\n",
       "    </tr>\n",
       "    <tr>\n",
       "      <th>4</th>\n",
       "      <td>cb3074eb8b423dfc5acfeeb0de95eb82</td>\n",
       "      <td>sep</td>\n",
       "      <td>66</td>\n",
       "    </tr>\n",
       "  </tbody>\n",
       "</table>\n",
       "</div>"
      ],
      "text/plain": [
       "          schedule_gtfs_dataset_key  month  feed_key\n",
       "0  43a1e46d592a1ee647bce8422c68460c  april        65\n",
       "1  43a1e46d592a1ee647bce8422c68460c    aug        65\n",
       "2  43a1e46d592a1ee647bce8422c68460c   july        65\n",
       "3  43a1e46d592a1ee647bce8422c68460c    may        65\n",
       "4  cb3074eb8b423dfc5acfeeb0de95eb82    sep        66"
      ]
     },
     "execution_count": 21,
     "metadata": {},
     "output_type": "execute_result"
    }
   ],
   "source": [
    "#which months had which schedule dataset key?\n",
    "sac_trips.pivot_table(index = ['schedule_gtfs_dataset_key','month'],\n",
    "                      values = ['feed_key'],\n",
    "                     aggfunc='count'\n",
    "                             ).reset_index()"
   ]
  },
  {
   "cell_type": "code",
   "execution_count": null,
   "id": "12ce9d07-cd34-499e-b365-3ffeeb27e018",
   "metadata": {},
   "outputs": [],
   "source": [
    "#expect to see 5 instances of each route id (1 for each month, except june). but some routes only happen 1 time? route 10 and 137\n",
    "sac_trips.route_id.value_counts()"
   ]
  },
  {
   "cell_type": "code",
   "execution_count": null,
   "id": "3825ac8a-919e-4eea-b95e-967463b18a18",
   "metadata": {},
   "outputs": [],
   "source": [
    "#similar results with route short name\n",
    "sac_trips.route_short_name.value_counts()"
   ]
  },
  {
   "cell_type": "code",
   "execution_count": null,
   "id": "ec9c81a9-9740-4fe9-af66-bb6641ba268d",
   "metadata": {},
   "outputs": [],
   "source": [
    "#further investigation of route 10 and 137, see what their rows say\n",
    "#only 1 row for each of these routes, both occuring in september\n",
    "display(sac_trips[sac_trips['route_id']=='10'])\n",
    "display(sac_trips[sac_trips['route_id']=='137'])"
   ]
  },
  {
   "cell_type": "code",
   "execution_count": null,
   "id": "4dd4889a-2914-42e5-a455-afed68bd4edf",
   "metadata": {},
   "outputs": [],
   "source": [
    "#other routes return multiple rows as expected. \n",
    "sac_trips[sac_trips['route_id']=='F10']"
   ]
  },
  {
   "cell_type": "code",
   "execution_count": null,
   "id": "91feab3c-39d9-456d-ace4-4efa888619bc",
   "metadata": {},
   "outputs": [],
   "source": [
    "sac_trips.sort_values(by=['route_id', 'month'])"
   ]
  },
  {
   "cell_type": "code",
   "execution_count": null,
   "id": "088278a4-7ee2-45fb-8e3e-4dd924c11c6b",
   "metadata": {},
   "outputs": [],
   "source": [
    "#would like shape Id and pt array from previous approach, but need a join to make this work\n",
    "#seek out preliminary joins via metabase\n"
   ]
  },
  {
   "cell_type": "code",
   "execution_count": null,
   "id": "c55369e7-95e6-4843-8cb3-d538eb4df0b6",
   "metadata": {},
   "outputs": [],
   "source": []
  }
 ],
 "metadata": {
  "kernelspec": {
   "display_name": "Python 3 (ipykernel)",
   "language": "python",
   "name": "python3"
  },
  "language_info": {
   "codemirror_mode": {
    "name": "ipython",
    "version": 3
   },
   "file_extension": ".py",
   "mimetype": "text/x-python",
   "name": "python",
   "nbconvert_exporter": "python",
   "pygments_lexer": "ipython3",
   "version": "3.9.13"
  }
 },
 "nbformat": 4,
 "nbformat_minor": 5
}
