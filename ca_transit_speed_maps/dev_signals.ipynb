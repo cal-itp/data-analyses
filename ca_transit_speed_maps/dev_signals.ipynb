{
 "cells": [
  {
   "cell_type": "code",
   "execution_count": 1,
   "id": "46898b5c-b5cc-4096-ab68-8c3e42fab870",
   "metadata": {},
   "outputs": [],
   "source": [
    "%%capture\n",
    "import warnings\n",
    "warnings.filterwarnings('ignore')\n",
    "\n",
    "import os\n",
    "os.environ[\"CALITP_BQ_MAX_BYTES\"] = str(800_000_000_000)\n",
    "import shared_utils\n",
    "\n",
    "from calitp_data_analysis.tables import tbls\n",
    "import calitp_data_analysis.magics\n",
    "\n",
    "from siuba import *\n",
    "import pandas as pd\n",
    "import geopandas as gpd\n",
    "\n",
    "import datetime as dt\n",
    "\n",
    "import importlib\n",
    "from rt_analysis import rt_filter_map_plot\n",
    "import build_speedmaps_index\n",
    "\n",
    "from IPython.display import display, Markdown, Latex, HTML, IFrame\n",
    "import json\n",
    "import base64"
   ]
  },
  {
   "cell_type": "markdown",
   "id": "378ca4e6-c50a-4495-8296-67a70d4ab3d4",
   "metadata": {},
   "source": [
    "# Using module"
   ]
  },
  {
   "cell_type": "code",
   "execution_count": 2,
   "id": "5bbe0caf-40de-439a-bddf-24e7621611e2",
   "metadata": {},
   "outputs": [],
   "source": [
    "import numpy as np"
   ]
  },
  {
   "cell_type": "code",
   "execution_count": 11,
   "id": "134d2d78-ea87-4841-be25-f954fb1328a8",
   "metadata": {},
   "outputs": [],
   "source": [
    "from rt_analysis import signal_tools\n",
    "from shared_utils import rt_utils"
   ]
  },
  {
   "cell_type": "code",
   "execution_count": 30,
   "id": "b0ee8ff3-ec76-48df-87ea-495f6edd3a96",
   "metadata": {},
   "outputs": [],
   "source": [
    "from calitp_data_analysis import get_fs"
   ]
  },
  {
   "cell_type": "code",
   "execution_count": 31,
   "id": "1d7c3561-01a4-4c85-9a6f-3f0ffcd241f3",
   "metadata": {},
   "outputs": [],
   "source": [
    "import glob"
   ]
  },
  {
   "cell_type": "code",
   "execution_count": 12,
   "id": "abaff7ef-3974-4349-8086-9c07abc29ffd",
   "metadata": {},
   "outputs": [
    {
     "data": {
      "text/plain": [
       "<module 'rt_analysis.signal_tools' from '/home/jovyan/data-analyses/rt_delay/rt_analysis/signal_tools.py'>"
      ]
     },
     "execution_count": 12,
     "metadata": {},
     "output_type": "execute_result"
    }
   ],
   "source": [
    "import importlib\n",
    "importlib.reload(signal_tools)"
   ]
  },
  {
   "cell_type": "code",
   "execution_count": 13,
   "id": "9273e17d-b127-4e35-a462-79f458ee0928",
   "metadata": {},
   "outputs": [],
   "source": [
    "path = './signals_2023-06-12.xlsx'\n",
    "signal_gdf = signal_tools.read_signal_excel(path)"
   ]
  },
  {
   "cell_type": "markdown",
   "id": "cd0bb894-0642-4d93-a18f-5fcbf816d47d",
   "metadata": {},
   "source": [
    "# Spatial Arrays"
   ]
  },
  {
   "cell_type": "markdown",
   "id": "ffff3ace-38ce-4634-b1ec-94b57ba57f2d",
   "metadata": {},
   "source": [
    "## Read statewide segments (both lines and arrowized)"
   ]
  },
  {
   "cell_type": "code",
   "execution_count": 19,
   "id": "9833c499-ed4d-446e-8a81-f8f8a16ec3fd",
   "metadata": {},
   "outputs": [],
   "source": [
    "progress_df = pd.read_parquet('./_rt_progress_2023-07-12.parquet') >> filter(_.status == 'map_confirmed')"
   ]
  },
  {
   "cell_type": "code",
   "execution_count": 20,
   "id": "f31d0ce5-6a51-465d-9e1d-2fc28c0b5d3b",
   "metadata": {},
   "outputs": [],
   "source": [
    "analysis_date = progress_df.analysis_date.iloc[0]"
   ]
  },
  {
   "cell_type": "code",
   "execution_count": 21,
   "id": "e51e2dec-6928-42d4-a003-e1d4a6999f86",
   "metadata": {},
   "outputs": [
    {
     "data": {
      "application/vnd.jupyter.widget-view+json": {
       "model_id": "14dc919521b04b26b37709729aa79c28",
       "version_major": 2,
       "version_minor": 0
      },
      "text/plain": [
       "0it [00:00, ?it/s]"
      ]
     },
     "metadata": {},
     "output_type": "display_data"
    }
   ],
   "source": [
    "from tqdm.notebook import tqdm\n",
    "pbar = tqdm()"
   ]
  },
  {
   "cell_type": "code",
   "execution_count": 54,
   "id": "c616f1f9-0994-4145-bcc1-ca6069ef9a9b",
   "metadata": {},
   "outputs": [],
   "source": [
    "def all_day_speedmap_segments(progress_df: pd.DataFrame = None,\n",
    "                             itp_id_list: list = None,\n",
    "                             analysis_date: dt.datetime = None,\n",
    "                            # pbar: tqdm.notebook.tqdm = None):\n",
    "                            pbar: tqdm = None):\n",
    "    \n",
    "    df_present = isinstance(progress_df, pd.DataFrame)\n",
    "    assert df_present or itp_id_list and analysis_date, 'must provide either a speedmap progress df or itp_ids and analysis date'\n",
    "    assert (not (df_present and itp_id_list))\n",
    "                and (not (df_present and analysis_date)), 'must provide either a speedmap progress df or itp_ids and analysis date'\n",
    "    itp_id_list = itp_id_list or progress_df.organization_itp_id.to_list()\n",
    "    analysis_date = analysis_date or progress_df.analysis_date.iloc[0]\n",
    "    all_segment_gdfs = []\n",
    "    for itp_id in itp_id_list:\n",
    "        print(itp_id)\n",
    "        try:\n",
    "            # all-day speeds (no filter)\n",
    "            rt_day = rt_filter_map_plot.from_gcs(itp_id, analysis_date, pbar)\n",
    "            _m = rt_day.segment_speed_map(how='low_speeds', no_title=True, shn=True,\n",
    "                                 no_render=True\n",
    "                                )\n",
    "\n",
    "            dmv_proj = rt_day.detailed_map_view.to_crs(shared_utils.geography_utils.CA_NAD83Albers)\n",
    "            # re-add some identifiers since we won't have the instance handy\n",
    "            dmv_proj['feed_key'] = rt_day.rt_trips.feed_key.iloc[0]\n",
    "            dmv_proj['gtfs_dataset_key'] = rt_day.rt_trips.gtfs_dataset_key.iloc[0]\n",
    "            dmv_proj['system_p50_median'] = dmv_proj.p50_mph.quantile(.5)\n",
    "\n",
    "            all_segment_gdfs += [dmv_proj]\n",
    "        except Exception as e:\n",
    "            print(f'{itp_id}, {e}')\n",
    "    \n",
    "    all_segment_gdfs = pd.concat(all_segment_gdfs)\n",
    "    return all_segment_gdfs"
   ]
  },
  {
   "cell_type": "code",
   "execution_count": 55,
   "id": "0d4b4241-1578-4184-817c-715b45eb44a6",
   "metadata": {
    "tags": []
   },
   "outputs": [],
   "source": [
    "# all_segment_gdf = all_day_speedmap_segments(progress_df=progress_df, pbar=pbar)progress_df"
   ]
  },
  {
   "cell_type": "code",
   "execution_count": 36,
   "id": "65e9aed7-420e-4665-ae10-44546e1b9860",
   "metadata": {},
   "outputs": [],
   "source": [
    "# all_segment_gdf.to_parquet(f'segments_all_{analysis_date}.parquet')"
   ]
  },
  {
   "cell_type": "code",
   "execution_count": 46,
   "id": "83be2389-ec6e-4303-b92a-3857a367bce7",
   "metadata": {},
   "outputs": [],
   "source": [
    "# directly copy stop segment speed views\n",
    "def copy_segment_speeds(progress_df: pd.DataFrame = None,\n",
    "                        itp_id_list: list = None,\n",
    "                        analysis_date: dt.datetime = None):\n",
    "    \n",
    "    df_present = isinstance(progress_df, pd.DataFrame)\n",
    "    assert df_present or itp_id_list and analysis_date, 'must provide either a speedmap progress df or itp_ids and analysis date'\n",
    "    assert (not (df_present and itp_id_list))\n",
    "                and (not (df_present and analysis_date)), 'must provide either a speedmap progress df or itp_ids and analysis date'\n",
    "    itp_id_list = itp_id_list or progress_df.organization_itp_id.to_list()\n",
    "    analysis_date = analysis_date or progress_df.analysis_date.iloc[0]\n",
    "    fs = get_fs()\n",
    "    base = 'gs://calitp-analytics-data/data-analyses/rt_delay/v2_segment_speed_views/'\n",
    "    pattern = f'_{analysis_date}_All_Day.parquet'\n",
    "    patterns = [str(itp_id) + pattern for itp_id in itp_id_list]\n",
    "    remote_paths = [base + pattern for pattern in patterns]\n",
    "    local_path = f'./segment_lines_all_{analysis_date}'\n",
    "    os.system(f'mkdir {local_path}')\n",
    "    fs.get(remote_paths, f'{local_path}/')\n",
    "    \n",
    "    # https://gis.stackexchange.com/questions/394391/reading-all-shapefiles-in-folder-using-geopandas-and-then-clipping-them-all-iter\n",
    "    files = glob.iglob(f'{local_path}/*')\n",
    "    gdfs = (gpd.read_parquet(file) for file in files) # generator\n",
    "    segment_lines_all = pd.concat(gdfs)\n",
    "    \n",
    "    os.system(f'rm -rf {local_path}')\n",
    "    \n",
    "    return segment_lines_all"
   ]
  },
  {
   "cell_type": "code",
   "execution_count": 47,
   "id": "09a9a8d5-eeb1-495c-90a0-fa12104215bf",
   "metadata": {},
   "outputs": [
    {
     "name": "stderr",
     "output_type": "stream",
     "text": [
      "mkdir: cannot create directory ‘./segment_lines_all_2023-07-12’: File exists\n"
     ]
    }
   ],
   "source": [
    "segment_lines_all = copy_segment_speeds(progress_df)"
   ]
  },
  {
   "cell_type": "code",
   "execution_count": 65,
   "id": "f84fc9a0-7f16-452a-a7d8-60d1939262c9",
   "metadata": {},
   "outputs": [],
   "source": [
    "segment_lines_all.to_parquet(f'./segment_lines_all_{analysis_date}.parquet')"
   ]
  },
  {
   "cell_type": "code",
   "execution_count": 51,
   "id": "48c3d301-0355-4b95-b8c3-419c9c345da3",
   "metadata": {},
   "outputs": [],
   "source": [
    "segments_all = gpd.read_parquet(f'segments_all_{analysis_date}.parquet')"
   ]
  },
  {
   "cell_type": "code",
   "execution_count": 64,
   "id": "5d48f027-f37a-4bda-8fe8-fd98a9a44391",
   "metadata": {},
   "outputs": [],
   "source": [
    "segment_lines_all = gpd.read_parquet(f'./segment_lines_all_{analysis_date}.parquet')"
   ]
  },
  {
   "cell_type": "markdown",
   "id": "2a112b80-0fe8-40f2-9d72-817c52950a14",
   "metadata": {},
   "source": [
    "## Prep statewide signals, joins"
   ]
  },
  {
   "cell_type": "code",
   "execution_count": null,
   "id": "eae30a90-dad4-48a6-9fdd-149876295def",
   "metadata": {},
   "outputs": [],
   "source": [
    "def sjoin_signals(signal_gdf, segments_gdf, segments_lines_gdf):\n",
    "    \n",
    "    # read in, seperate points geo, spatial join to statewide segments\n",
    "\n",
    "    signals = (signal_gdf\n",
    "                   >> filter(_.tms_unit_type != 'Freeway Ramp Meters')\n",
    "                   >> select(_.imms_id, _.location, _.geometry)\n",
    "               ).copy()\n",
    "    signals_points = signals.to_crs(shared_utils.geography_utils.CA_NAD83Albers)\n",
    "    signals_buffered = signals_points.copy()\n",
    "    signals_buffered.geometry = signals_buffered.buffer(150)\n",
    "\n",
    "    joined = gpd.sjoin(segments_all, signals_buffered) >> select(-_.index_right)\n",
    "\n",
    "    points_for_join = signals_points >> select(_.imms_id, _.signal_pt_geom == _.geometry)\n",
    "    joined_signal_points = joined >> inner_join(_, points_for_join, on ='imms_id')\n",
    "\n",
    "    # add line geometries from stop_segment_speed_view\n",
    "    seg_lines = (segment_lines_all\n",
    "                >> select(_.line_geom == _.geometry, _.shape_id, _.stop_sequence, _.stop_id)\n",
    "                >> distinct(_.line_geom, _.shape_id, _.stop_sequence, _.stop_id)\n",
    "            )\n",
    "    # ideally a more robust join in the future\n",
    "    joined_seg_lines = joined_signal_points >> inner_join(_, seg_lines, on = ['shape_id', 'stop_sequence', 'stop_id'])"
   ]
  },
  {
   "cell_type": "code",
   "execution_count": 53,
   "id": "3cb70324-0a5e-46de-be1d-16cfde2c6b8e",
   "metadata": {},
   "outputs": [],
   "source": [
    "# # read in, seperate points geo, spatial join to statewide segments\n",
    "\n",
    "# signals = (signal_gdf\n",
    "#                >> filter(_.tms_unit_type != 'Freeway Ramp Meters')\n",
    "#                >> select(_.imms_id, _.location, _.geometry)\n",
    "#            ).copy()\n",
    "# signals_points = signals.to_crs(shared_utils.geography_utils.CA_NAD83Albers)\n",
    "# signals_buffered = signals_points.copy()\n",
    "# signals_buffered.geometry = signals_buffered.buffer(150)\n",
    "\n",
    "# joined = gpd.sjoin(segments_all, signals_buffered) >> select(-_.index_right)\n",
    "\n",
    "# points_for_join = signals_points >> select(_.imms_id, _.signal_pt_geom == _.geometry)\n",
    "# joined_signal_points = joined >> inner_join(_, points_for_join, on ='imms_id')"
   ]
  },
  {
   "cell_type": "code",
   "execution_count": 68,
   "id": "0ee7096d-ad0d-43c3-a90e-d628cf693f0c",
   "metadata": {},
   "outputs": [],
   "source": [
    "# # add line geometries from stop_segment_speed_view\n",
    "# seg_lines = (segment_lines_all\n",
    "#             >> select(_.line_geom == _.geometry, _.shape_id, _.stop_sequence, _.stop_id)\n",
    "#             >> distinct(_.line_geom, _.shape_id, _.stop_sequence, _.stop_id)\n",
    "#         )\n",
    "# # ideally a more robust join in the future\n",
    "# joined_seg_lines = joined_signal_points >> inner_join(_, seg_lines, on = ['shape_id', 'stop_sequence', 'stop_id'])"
   ]
  },
  {
   "cell_type": "code",
   "execution_count": 69,
   "id": "896cfe8f-490b-4779-b1cc-81accbd783d2",
   "metadata": {},
   "outputs": [],
   "source": [
    "import shapely"
   ]
  },
  {
   "cell_type": "code",
   "execution_count": 70,
   "id": "b251dfb0-2ff2-4467-94f2-0f3b8d31f885",
   "metadata": {},
   "outputs": [],
   "source": [
    "@np.vectorize\n",
    "def vector_start(linestring):\n",
    "    return shapely.ops.substring(linestring, 0, 0)\n",
    "\n",
    "@np.vectorize\n",
    "def vector_end(linestring):\n",
    "    return shapely.ops.substring(linestring, linestring.length, linestring.length)\n",
    "\n",
    "start_array = vector_start(joined_seg_lines.line_geom)\n",
    "end_array = vector_end(joined_seg_lines.line_geom)\n",
    "\n",
    "@np.vectorize\n",
    "def vector_distance(point1, point2):\n",
    "    return point1.distance(point2)"
   ]
  },
  {
   "cell_type": "code",
   "execution_count": 71,
   "id": "f1c662dd-e8dc-4627-abaf-c6073b7f0475",
   "metadata": {},
   "outputs": [],
   "source": [
    "start_distances = vector_distance(start_array, joined_seg_lines.signal_pt_geom)\n",
    "end_distances = vector_distance(end_array, joined_seg_lines.signal_pt_geom)\n",
    "\n",
    "approaching = start_distances > end_distances\n",
    "# approaching"
   ]
  },
  {
   "cell_type": "code",
   "execution_count": 72,
   "id": "0d686b54-4276-49ec-9323-fd768b573762",
   "metadata": {},
   "outputs": [],
   "source": [
    "assert len(approaching) == len(joined_seg_lines)"
   ]
  },
  {
   "cell_type": "code",
   "execution_count": 73,
   "id": "a0d40cde-7b68-440a-a9ac-82a518f0068f",
   "metadata": {},
   "outputs": [],
   "source": [
    "joined_seg_lines['approaching'] = approaching"
   ]
  },
  {
   "cell_type": "code",
   "execution_count": 74,
   "id": "6ad62bd4-84ab-4852-8305-1a2074b435b8",
   "metadata": {},
   "outputs": [
    {
     "data": {
      "text/plain": [
       "66240"
      ]
     },
     "execution_count": 74,
     "metadata": {},
     "output_type": "execute_result"
    }
   ],
   "source": [
    "len(approaching)"
   ]
  },
  {
   "cell_type": "markdown",
   "id": "3a3dd183-a659-4a56-8fe9-cf1bd88784e5",
   "metadata": {},
   "source": [
    "## Calculate metrics"
   ]
  },
  {
   "cell_type": "code",
   "execution_count": 75,
   "id": "c466022b-e17f-4f56-ae6e-84c04e79af2b",
   "metadata": {},
   "outputs": [],
   "source": [
    "to_calculate = (joined_seg_lines\n",
    "          >> filter(_.p50_mph < 20) # filter out fast segments\n",
    "          >> filter(_.approaching)\n",
    "          >> select(-_.signal_pt_geom, -_.line_geom)\n",
    "      )"
   ]
  },
  {
   "cell_type": "code",
   "execution_count": 76,
   "id": "ad64952e-ce94-4f2c-9550-b631a573ddcb",
   "metadata": {},
   "outputs": [
    {
     "data": {
      "text/plain": [
       "Index(['stop_id', 'stop_name', 'geometry', 'shape_id', 'stop_sequence',\n",
       "       'route_id', 'route_short_name', 'direction_id', 'p50_mph', 'p20_mph',\n",
       "       'p80_mph', 'fast_slow_ratio', 'trips_per_hour', 'miles_from_last',\n",
       "       'time_formatted', 'feed_key', 'gtfs_dataset_key', 'system_p50_median',\n",
       "       'imms_id', 'location', 'approaching'],\n",
       "      dtype='object')"
      ]
     },
     "execution_count": 76,
     "metadata": {},
     "output_type": "execute_result"
    }
   ],
   "source": [
    "to_calculate.columns"
   ]
  },
  {
   "cell_type": "code",
   "execution_count": 77,
   "id": "e73e8b56-fbb5-4d3c-abb4-f1bde19d12fc",
   "metadata": {},
   "outputs": [],
   "source": [
    "def calculate_speed_score(df):\n",
    "    twenty_mph = 20\n",
    "    decile_raw = ((df.p50_mph - df.system_p50_median) / df.system_p50_median) * 10\n",
    "    decile_raw_20 = ((df.p50_mph - twenty_mph) / twenty_mph) * 10\n",
    "    decile_min = np.minimum(decile_raw, decile_raw_20)\n",
    "    decile_rounded = np.round(decile_min, 0).astype('int64')\n",
    "    # positive values are comparatively higher speeds, mask to 0 to indicate low priority\n",
    "    decile_masked = decile_rounded.mask(decile_rounded > 0, 0)\n",
    "    decile_score = np.absolute(decile_masked)\n",
    "    df['speed_score'] = decile_score\n",
    "    return df"
   ]
  },
  {
   "cell_type": "code",
   "execution_count": 78,
   "id": "ec4a5ff4-696e-43b7-93f1-9376ad71e06e",
   "metadata": {},
   "outputs": [],
   "source": [
    "def calculate_variability_score(df):\n",
    "    variability = df.fast_slow_ratio\n",
    "    variability_low_mask = variability.mask(variability <= 1, 0)\n",
    "    variability_scaled = np.round(variability * 3, 0)\n",
    "    variability_high_mask = variability_scaled.mask(variability_scaled > 10, 10)\n",
    "    variability_score = variability_high_mask.astype('int64')\n",
    "    df['variability_score'] = variability_score\n",
    "    return df"
   ]
  },
  {
   "cell_type": "code",
   "execution_count": 79,
   "id": "57501724-df2b-4709-a640-3a7f2b43aa39",
   "metadata": {},
   "outputs": [],
   "source": [
    "def calculate_frequency_score(df):\n",
    "    frequency = df.trips_per_hour\n",
    "    frequency_scaled = np.round(frequency * 2, 0)\n",
    "    frequency_score = frequency_scaled.mask(frequency_scaled > 10, 10).astype('int64')\n",
    "    df['frequency_score'] = frequency_score\n",
    "    return df"
   ]
  },
  {
   "cell_type": "code",
   "execution_count": 80,
   "id": "6a8e314d-4c7d-4784-98b1-a4b1dec902d1",
   "metadata": {},
   "outputs": [],
   "source": [
    "to_calculate = calculate_speed_score(to_calculate)\n",
    "to_calculate = calculate_variability_score(to_calculate)\n",
    "to_calculate = calculate_frequency_score(to_calculate)\n",
    "to_calculate['transit_score'] = to_calculate.speed_score + to_calculate.variability_score + to_calculate.frequency_score"
   ]
  },
  {
   "cell_type": "code",
   "execution_count": 93,
   "id": "2600a2b8-9584-42a6-a5c6-c25d7d767ae6",
   "metadata": {},
   "outputs": [],
   "source": [
    "median_by_signal = to_calculate >> group_by(_.imms_id, _.location) >> summarize(speed_score = _.speed_score.median(),\n",
    "                                            variability_score = _.variability_score.median(),\n",
    "                                            frequency_score = _.frequency_score.median(),\n",
    "                                            overall_transit_score = _.transit_score.median(),\n",
    "                                           )"
   ]
  },
  {
   "cell_type": "code",
   "execution_count": 94,
   "id": "da74d527-1501-4906-a4fb-d84ae7dcae5b",
   "metadata": {},
   "outputs": [
    {
     "data": {
      "text/html": [
       "<div>\n",
       "<style scoped>\n",
       "    .dataframe tbody tr th:only-of-type {\n",
       "        vertical-align: middle;\n",
       "    }\n",
       "\n",
       "    .dataframe tbody tr th {\n",
       "        vertical-align: top;\n",
       "    }\n",
       "\n",
       "    .dataframe thead th {\n",
       "        text-align: right;\n",
       "    }\n",
       "</style>\n",
       "<table border=\"1\" class=\"dataframe\">\n",
       "  <thead>\n",
       "    <tr style=\"text-align: right;\">\n",
       "      <th></th>\n",
       "      <th>imms_id</th>\n",
       "      <th>location</th>\n",
       "      <th>speed_score</th>\n",
       "      <th>variability_score</th>\n",
       "      <th>frequency_score</th>\n",
       "      <th>overall_transit_score</th>\n",
       "    </tr>\n",
       "  </thead>\n",
       "  <tbody>\n",
       "    <tr>\n",
       "      <th>955</th>\n",
       "      <td>04SM082 -E35I6</td>\n",
       "      <td>BALDWIN AVE/BAYWOOD AVE and EL CAMINO REAL (RT...</td>\n",
       "      <td>7.0</td>\n",
       "      <td>8.0</td>\n",
       "      <td>10.0</td>\n",
       "      <td>25.0</td>\n",
       "    </tr>\n",
       "    <tr>\n",
       "      <th>200</th>\n",
       "      <td>04ALA013 - EZ132</td>\n",
       "      <td>COLLEGE AVE and ASHBY AVE (RTE 13)</td>\n",
       "      <td>6.0</td>\n",
       "      <td>8.5</td>\n",
       "      <td>10.0</td>\n",
       "      <td>24.5</td>\n",
       "    </tr>\n",
       "    <tr>\n",
       "      <th>569</th>\n",
       "      <td>04NAP029 -E21C5</td>\n",
       "      <td>WASHINGTON ST and LINCOLN AVE (RTE 29)</td>\n",
       "      <td>7.5</td>\n",
       "      <td>7.0</td>\n",
       "      <td>10.0</td>\n",
       "      <td>24.5</td>\n",
       "    </tr>\n",
       "    <tr>\n",
       "      <th>201</th>\n",
       "      <td>04ALA013 - EZ133</td>\n",
       "      <td>COLBY ST and ASHBY AVE (RTE 13)</td>\n",
       "      <td>4.0</td>\n",
       "      <td>10.0</td>\n",
       "      <td>10.0</td>\n",
       "      <td>24.0</td>\n",
       "    </tr>\n",
       "    <tr>\n",
       "      <th>568</th>\n",
       "      <td>04NAP029 -E21B9</td>\n",
       "      <td>ADAMS ST and MAIN ST (RTE 29/128)</td>\n",
       "      <td>6.5</td>\n",
       "      <td>7.5</td>\n",
       "      <td>10.0</td>\n",
       "      <td>24.0</td>\n",
       "    </tr>\n",
       "    <tr>\n",
       "      <th>...</th>\n",
       "      <td>...</td>\n",
       "      <td>...</td>\n",
       "      <td>...</td>\n",
       "      <td>...</td>\n",
       "      <td>...</td>\n",
       "      <td>...</td>\n",
       "    </tr>\n",
       "    <tr>\n",
       "      <th>1515</th>\n",
       "      <td>07LA001 -ED160</td>\n",
       "      <td>BLUFF CREEK</td>\n",
       "      <td>1.0</td>\n",
       "      <td>3.0</td>\n",
       "      <td>0.0</td>\n",
       "      <td>4.0</td>\n",
       "    </tr>\n",
       "    <tr>\n",
       "      <th>2040</th>\n",
       "      <td>07LA405 -ED537</td>\n",
       "      <td>SB HOWARD HUGHES PKWY</td>\n",
       "      <td>1.0</td>\n",
       "      <td>3.0</td>\n",
       "      <td>0.0</td>\n",
       "      <td>4.0</td>\n",
       "    </tr>\n",
       "    <tr>\n",
       "      <th>2535</th>\n",
       "      <td>11SD094 -E8005</td>\n",
       "      <td>DAISY DR</td>\n",
       "      <td>0.0</td>\n",
       "      <td>4.0</td>\n",
       "      <td>0.0</td>\n",
       "      <td>4.0</td>\n",
       "    </tr>\n",
       "    <tr>\n",
       "      <th>1732</th>\n",
       "      <td>07LA101 -E0400</td>\n",
       "      <td>101 FWY SB MISSION -ALISO</td>\n",
       "      <td>0.0</td>\n",
       "      <td>3.0</td>\n",
       "      <td>0.0</td>\n",
       "      <td>3.0</td>\n",
       "    </tr>\n",
       "    <tr>\n",
       "      <th>2079</th>\n",
       "      <td>07LA405R-E0004</td>\n",
       "      <td>SB LA CIENEGA BLVD-S. IMPERIAL HWY</td>\n",
       "      <td>0.0</td>\n",
       "      <td>3.0</td>\n",
       "      <td>0.0</td>\n",
       "      <td>3.0</td>\n",
       "    </tr>\n",
       "  </tbody>\n",
       "</table>\n",
       "<p>2556 rows × 6 columns</p>\n",
       "</div>"
      ],
      "text/plain": [
       "               imms_id                                           location  \\\n",
       "955     04SM082 -E35I6  BALDWIN AVE/BAYWOOD AVE and EL CAMINO REAL (RT...   \n",
       "200   04ALA013 - EZ132                 COLLEGE AVE and ASHBY AVE (RTE 13)   \n",
       "569    04NAP029 -E21C5             WASHINGTON ST and LINCOLN AVE (RTE 29)   \n",
       "201   04ALA013 - EZ133                    COLBY ST and ASHBY AVE (RTE 13)   \n",
       "568    04NAP029 -E21B9                  ADAMS ST and MAIN ST (RTE 29/128)   \n",
       "...                ...                                                ...   \n",
       "1515    07LA001 -ED160                                        BLUFF CREEK   \n",
       "2040    07LA405 -ED537                              SB HOWARD HUGHES PKWY   \n",
       "2535    11SD094 -E8005                                           DAISY DR   \n",
       "1732    07LA101 -E0400                          101 FWY SB MISSION -ALISO   \n",
       "2079    07LA405R-E0004                 SB LA CIENEGA BLVD-S. IMPERIAL HWY   \n",
       "\n",
       "      speed_score  variability_score  frequency_score  overall_transit_score  \n",
       "955           7.0                8.0             10.0                   25.0  \n",
       "200           6.0                8.5             10.0                   24.5  \n",
       "569           7.5                7.0             10.0                   24.5  \n",
       "201           4.0               10.0             10.0                   24.0  \n",
       "568           6.5                7.5             10.0                   24.0  \n",
       "...           ...                ...              ...                    ...  \n",
       "1515          1.0                3.0              0.0                    4.0  \n",
       "2040          1.0                3.0              0.0                    4.0  \n",
       "2535          0.0                4.0              0.0                    4.0  \n",
       "1732          0.0                3.0              0.0                    3.0  \n",
       "2079          0.0                3.0              0.0                    3.0  \n",
       "\n",
       "[2556 rows x 6 columns]"
      ]
     },
     "execution_count": 94,
     "metadata": {},
     "output_type": "execute_result"
    }
   ],
   "source": [
    "median_by_signal >> arrange(-_.overall_transit_score)"
   ]
  },
  {
   "cell_type": "markdown",
   "id": "02d6b5f2-a8e6-4c27-8d9d-79ef17d06762",
   "metadata": {},
   "source": [
    "## Reference Histograms for subscores"
   ]
  },
  {
   "cell_type": "code",
   "execution_count": 95,
   "id": "35acb576-b985-4f91-8e82-b5f753ce456d",
   "metadata": {},
   "outputs": [
    {
     "data": {
      "text/plain": [
       "<AxesSubplot:>"
      ]
     },
     "execution_count": 95,
     "metadata": {},
     "output_type": "execute_result"
    },
    {
     "data": {
      "image/png": "[encoded data removed]",
      "text/plain": [
       "<Figure size 640x480 with 1 Axes>"
      ]
     },
     "metadata": {},
     "output_type": "display_data"
    }
   ],
   "source": [
    "median_by_signal.speed_score.hist()"
   ]
  },
  {
   "cell_type": "code",
   "execution_count": 96,
   "id": "e70a93b5-0a7d-4a2b-ac3b-d52fa3e98498",
   "metadata": {},
   "outputs": [
    {
     "data": {
      "text/plain": [
       "<AxesSubplot:>"
      ]
     },
     "execution_count": 96,
     "metadata": {},
     "output_type": "execute_result"
    },
    {
     "data": {
      "image/png": "[encoded data removed]",
      "text/plain": [
       "<Figure size 640x480 with 1 Axes>"
      ]
     },
     "metadata": {},
     "output_type": "display_data"
    }
   ],
   "source": [
    "median_by_signal.variability_score.hist()"
   ]
  },
  {
   "cell_type": "code",
   "execution_count": 97,
   "id": "98ef3198-eaeb-4d1f-8314-bcdad01d8a3e",
   "metadata": {},
   "outputs": [
    {
     "data": {
      "text/plain": [
       "<AxesSubplot:>"
      ]
     },
     "execution_count": 97,
     "metadata": {},
     "output_type": "execute_result"
    },
    {
     "data": {
      "image/png": "[encoded data removed]",
      "text/plain": [
       "<Figure size 640x480 with 1 Axes>"
      ]
     },
     "metadata": {},
     "output_type": "display_data"
    }
   ],
   "source": [
    "median_by_signal.frequency_score.hist()"
   ]
  },
  {
   "cell_type": "code",
   "execution_count": 98,
   "id": "c11c8177-afc9-4eba-8676-124d246ea839",
   "metadata": {},
   "outputs": [
    {
     "data": {
      "text/plain": [
       "<AxesSubplot:>"
      ]
     },
     "execution_count": 98,
     "metadata": {},
     "output_type": "execute_result"
    },
    {
     "data": {
      "image/png": "[encoded data removed]",
      "text/plain": [
       "<Figure size 640x480 with 1 Axes>"
      ]
     },
     "metadata": {},
     "output_type": "display_data"
    }
   ],
   "source": [
    "median_by_signal.overall_transit_score.hist()"
   ]
  },
  {
   "cell_type": "code",
   "execution_count": 213,
   "id": "fee5bf32-4b2d-4102-81c2-3641888632fe",
   "metadata": {},
   "outputs": [],
   "source": [
    "test = df >> arrange(-_.combined_score) >> head(15)"
   ]
  },
  {
   "cell_type": "code",
   "execution_count": 214,
   "id": "097e4f04-7fd1-47cc-8bd0-17bf40d1bf77",
   "metadata": {},
   "outputs": [
    {
     "name": "stdout",
     "output_type": "stream",
     "text": [
      "writing to calitp-map-tiles/testing/signal_join_test1.geojson.gz\n"
     ]
    },
    {
     "data": {
      "text/plain": [
       "{'state_dict': {'name': 'null',\n",
       "  'layers': [{'name': 'Map',\n",
       "    'url': 'https://storage.googleapis.com/calitp-map-tiles/testing/signal_join_test1.geojson.gz',\n",
       "    'properties': {'stroked': False, 'highlight_saturation_multiplier': 0.5}}],\n",
       "  'lat_lon': (34.02889742320673, -118.44357591292896),\n",
       "  'zoom': 13,\n",
       "  'legend_url': 'https://storage.googleapis.com/calitp-map-tiles/speeds_legend.svg'},\n",
       " 'spa_link': 'https://embeddable-maps.calitp.org/?state=eyJuYW1lIjogIm51bGwiLCAibGF5ZXJzIjogW3sibmFtZSI6ICJNYXAiLCAidXJsIjogImh0dHBzOi8vc3RvcmFnZS5nb29nbGVhcGlzLmNvbS9jYWxpdHAtbWFwLXRpbGVzL3Rlc3Rpbmcvc2lnbmFsX2pvaW5fdGVzdDEuZ2VvanNvbi5neiIsICJwcm9wZXJ0aWVzIjogeyJzdHJva2VkIjogZmFsc2UsICJoaWdobGlnaHRfc2F0dXJhdGlvbl9tdWx0aXBsaWVyIjogMC41fX1dLCAibGF0X2xvbiI6IFszNC4wMjg4OTc0MjMyMDY3MywgLTExOC40NDM1NzU5MTI5Mjg5Nl0sICJ6b29tIjogMTMsICJsZWdlbmRfdXJsIjogImh0dHBzOi8vc3RvcmFnZS5nb29nbGVhcGlzLmNvbS9jYWxpdHAtbWFwLXRpbGVzL3NwZWVkc19sZWdlbmQuc3ZnIn0='}"
      ]
     },
     "execution_count": 214,
     "metadata": {},
     "output_type": "execute_result"
    }
   ],
   "source": [
    "rt_utils.set_state_export(test,\n",
    "                          filename='signal_join_test1', cache_seconds=0,\n",
    "                          cmap=rt_utils.ZERO_THIRTY_COLORSCALE, color_col='p20_mph',\n",
    "                          legend_url=rt_utils.SPEEDMAP_LEGEND_URL\n",
    "                    )"
   ]
  },
  {
   "cell_type": "markdown",
   "id": "d172b0d0-938a-44ac-848b-ffacd8620ad9",
   "metadata": {},
   "source": [
    "# Score everything!"
   ]
  },
  {
   "cell_type": "code",
   "execution_count": 223,
   "id": "1e1531d7-50b3-4450-9787-e000b1db2ecb",
   "metadata": {},
   "outputs": [
    {
     "data": {
      "text/html": [
       "<div>\n",
       "<style scoped>\n",
       "    .dataframe tbody tr th:only-of-type {\n",
       "        vertical-align: middle;\n",
       "    }\n",
       "\n",
       "    .dataframe tbody tr th {\n",
       "        vertical-align: top;\n",
       "    }\n",
       "\n",
       "    .dataframe thead th {\n",
       "        text-align: right;\n",
       "    }\n",
       "</style>\n",
       "<table border=\"1\" class=\"dataframe\">\n",
       "  <thead>\n",
       "    <tr style=\"text-align: right;\">\n",
       "      <th></th>\n",
       "      <th>organization_name</th>\n",
       "      <th>organization_itp_id</th>\n",
       "      <th>organization_source_record_id</th>\n",
       "      <th>caltrans_district</th>\n",
       "      <th>_is_current</th>\n",
       "      <th>analysis_date</th>\n",
       "      <th>status</th>\n",
       "    </tr>\n",
       "  </thead>\n",
       "  <tbody>\n",
       "    <tr>\n",
       "      <th>0</th>\n",
       "      <td>Cloverdale Transit</td>\n",
       "      <td>70</td>\n",
       "      <td>recRM3c9Zfaft4V2B</td>\n",
       "      <td>04 - Oakland</td>\n",
       "      <td>False</td>\n",
       "      <td>2023-07-12</td>\n",
       "      <td>map_confirmed</td>\n",
       "    </tr>\n",
       "    <tr>\n",
       "      <th>1</th>\n",
       "      <td>Sonoma County</td>\n",
       "      <td>314</td>\n",
       "      <td>recDupUxInMUgxeiz</td>\n",
       "      <td>04 - Oakland</td>\n",
       "      <td>False</td>\n",
       "      <td>2023-07-12</td>\n",
       "      <td>map_confirmed</td>\n",
       "    </tr>\n",
       "    <tr>\n",
       "      <th>2</th>\n",
       "      <td>Nevada County</td>\n",
       "      <td>221</td>\n",
       "      <td>reczUcQgqgtMpkpKC</td>\n",
       "      <td>03 - Marysville</td>\n",
       "      <td>True</td>\n",
       "      <td>2023-07-12</td>\n",
       "      <td>map_confirmed</td>\n",
       "    </tr>\n",
       "  </tbody>\n",
       "</table>\n",
       "</div>"
      ],
      "text/plain": [
       "    organization_name  organization_itp_id organization_source_record_id  \\\n",
       "0  Cloverdale Transit                   70             recRM3c9Zfaft4V2B   \n",
       "1       Sonoma County                  314             recDupUxInMUgxeiz   \n",
       "2       Nevada County                  221             reczUcQgqgtMpkpKC   \n",
       "\n",
       "  caltrans_district  _is_current analysis_date         status  \n",
       "0      04 - Oakland        False    2023-07-12  map_confirmed  \n",
       "1      04 - Oakland        False    2023-07-12  map_confirmed  \n",
       "2   03 - Marysville         True    2023-07-12  map_confirmed  "
      ]
     },
     "execution_count": 223,
     "metadata": {},
     "output_type": "execute_result"
    }
   ],
   "source": [
    "progress_df >> head(3)"
   ]
  },
  {
   "cell_type": "code",
   "execution_count": 233,
   "id": "aa381327-8d86-4483-be51-12958173a530",
   "metadata": {
    "collapsed": true,
    "jupyter": {
     "outputs_hidden": true
    },
    "tags": []
   },
   "outputs": [
    {
     "name": "stdout",
     "output_type": "stream",
     "text": [
      "70\n",
      "found shapes parquet at gs://calitp-analytics-data/data-analyses/rt_delay/v2_cached_views/shapes_70_2023-07-12.parquet\n",
      ".signals attribute added\n",
      ".signals_metrics attribute added\n",
      "314\n",
      "found shapes parquet at gs://calitp-analytics-data/data-analyses/rt_delay/v2_cached_views/shapes_314_2023-07-12.parquet\n",
      ".signals attribute added\n",
      ".signals_metrics attribute added\n",
      "221\n",
      "found shapes parquet at gs://calitp-analytics-data/data-analyses/rt_delay/v2_cached_views/shapes_221_2023-07-12.parquet\n",
      "stop_speeds shape: (0, 17), shape_id: p_857973\n",
      "stop speeds gdf is empty!\n",
      "stop_speeds shape: (0, 17), shape_id: p_1277435\n",
      "stop speeds gdf is empty!\n",
      ".signals attribute added\n",
      ".signals_metrics attribute added\n",
      "350\n",
      "found shapes parquet at gs://calitp-analytics-data/data-analyses/rt_delay/v2_cached_views/shapes_350_2023-07-12.parquet\n",
      ".signals attribute added\n",
      ".signals_metrics attribute added\n",
      "105\n",
      "found shapes parquet at gs://calitp-analytics-data/data-analyses/rt_delay/v2_cached_views/shapes_105_2023-07-12.parquet\n",
      ".signals attribute added\n",
      ".signals_metrics attribute added\n",
      "106\n",
      "found shapes parquet at gs://calitp-analytics-data/data-analyses/rt_delay/v2_cached_views/shapes_106_2023-07-12.parquet\n",
      ".signals attribute added\n",
      ".signals_metrics attribute added\n",
      "45\n",
      "found shapes parquet at gs://calitp-analytics-data/data-analyses/rt_delay/v2_cached_views/shapes_45_2023-07-12.parquet\n",
      ".signals attribute added\n",
      ".signals_metrics attribute added\n",
      "315\n",
      "found shapes parquet at gs://calitp-analytics-data/data-analyses/rt_delay/v2_cached_views/shapes_315_2023-07-12.parquet\n",
      ".signals attribute added\n",
      ".signals_metrics attribute added\n",
      "61\n",
      "found shapes parquet at gs://calitp-analytics-data/data-analyses/rt_delay/v2_cached_views/shapes_61_2023-07-12.parquet\n",
      "stop_speeds shape: (0, 17), shape_id: shp-27-01\n",
      "stop speeds gdf is empty!\n",
      ".signals attribute added\n",
      ".signals_metrics attribute added\n",
      "33\n",
      "found shapes parquet at gs://calitp-analytics-data/data-analyses/rt_delay/v2_cached_views/shapes_33_2023-07-12.parquet\n",
      ".signals attribute added\n",
      "33, 'GeoDataFrame' object has no attribute 'approaching'\n",
      "310\n",
      "found shapes parquet at gs://calitp-analytics-data/data-analyses/rt_delay/v2_cached_views/shapes_310_2023-07-12.parquet\n",
      ".signals attribute added\n",
      ".signals_metrics attribute added\n",
      "381\n",
      "found shapes parquet at gs://calitp-analytics-data/data-analyses/rt_delay/v2_cached_views/shapes_381_2023-07-12.parquet\n",
      ".signals attribute added\n",
      ".signals_metrics attribute added\n",
      "30\n",
      "found shapes parquet at gs://calitp-analytics-data/data-analyses/rt_delay/v2_cached_views/shapes_30_2023-07-12.parquet\n",
      ".signals attribute added\n",
      ".signals_metrics attribute added\n",
      "208\n",
      "found shapes parquet at gs://calitp-analytics-data/data-analyses/rt_delay/v2_cached_views/shapes_208_2023-07-12.parquet\n",
      ".signals attribute added\n",
      ".signals_metrics attribute added\n",
      "312\n",
      "found shapes parquet at gs://calitp-analytics-data/data-analyses/rt_delay/v2_cached_views/shapes_312_2023-07-12.parquet\n",
      ".signals attribute added\n",
      ".signals_metrics attribute added\n",
      "351\n",
      "found shapes parquet at gs://calitp-analytics-data/data-analyses/rt_delay/v2_cached_views/shapes_351_2023-07-12.parquet\n",
      "stop_speeds shape: (0, 18), shape_id: M_outbound\n",
      "Must pass array with one dimension only.\n",
      "stop_speeds shape: (0, 18), shape_id: C_outbound\n",
      "Must pass array with one dimension only.\n",
      "stop_speeds shape: (0, 18), shape_id: C_inbound\n",
      "Must pass array with one dimension only.\n",
      "stop_speeds shape: (0, 18), shape_id: B_outbound\n",
      "Must pass array with one dimension only.\n",
      "stop_speeds shape: (0, 18), shape_id: V_outbound\n",
      "Must pass array with one dimension only.\n",
      "351, over 2.5% of geometries invalid after buffer+simplify (76 / 78)\n",
      "360\n",
      "found shapes parquet at gs://calitp-analytics-data/data-analyses/rt_delay/v2_cached_views/shapes_360_2023-07-12.parquet\n",
      ".signals attribute added\n",
      ".signals_metrics attribute added\n",
      "290\n",
      "found shapes parquet at gs://calitp-analytics-data/data-analyses/rt_delay/v2_cached_views/shapes_290_2023-07-12.parquet\n",
      "stop_speeds shape: (0, 18), shape_id: 1380003\n",
      "Must pass array with one dimension only.\n",
      "stop_speeds shape: (0, 18), shape_id: 1380005\n",
      "Must pass array with one dimension only.\n",
      ".signals attribute added\n",
      ".signals_metrics attribute added\n",
      "148\n",
      "found shapes parquet at gs://calitp-analytics-data/data-analyses/rt_delay/v2_cached_views/shapes_148_2023-07-12.parquet\n",
      "stop_speeds shape: (0, 17), shape_id: 16\n",
      "stop speeds gdf is empty!\n",
      ".signals attribute added\n",
      ".signals_metrics attribute added\n",
      "293\n",
      "found shapes parquet at gs://calitp-analytics-data/data-analyses/rt_delay/v2_cached_views/shapes_293_2023-07-12.parquet\n",
      ".signals attribute added\n",
      ".signals_metrics attribute added\n",
      "246\n",
      "found shapes parquet at gs://calitp-analytics-data/data-analyses/rt_delay/v2_cached_views/shapes_246_2023-07-12.parquet\n",
      ".signals attribute added\n",
      ".signals_metrics attribute added\n",
      "34\n",
      "found shapes parquet at gs://calitp-analytics-data/data-analyses/rt_delay/v2_cached_views/shapes_34_2023-07-12.parquet\n",
      ".signals attribute added\n",
      ".signals_metrics attribute added\n",
      "298\n",
      "found shapes parquet at gs://calitp-analytics-data/data-analyses/rt_delay/v2_cached_views/shapes_298_2023-07-12.parquet\n",
      ".signals attribute added\n",
      ".signals_metrics attribute added\n",
      "301\n",
      "found shapes parquet at gs://calitp-analytics-data/data-analyses/rt_delay/v2_cached_views/shapes_301_2023-07-12.parquet\n",
      ".signals attribute added\n",
      ".signals_metrics attribute added\n",
      "486\n",
      "found shapes parquet at gs://calitp-analytics-data/data-analyses/rt_delay/v2_cached_views/shapes_486_2023-07-12.parquet\n",
      "stop_speeds shape: (0, 18), shape_id: f4246871-3d42-4100-92fc-18af2656eb67\n",
      "Must pass array with one dimension only.\n",
      ".signals attribute added\n",
      "486, 'GeoDataFrame' object has no attribute 'approaching'\n",
      "269\n",
      "found shapes parquet at gs://calitp-analytics-data/data-analyses/rt_delay/v2_cached_views/shapes_269_2023-07-12.parquet\n",
      ".signals attribute added\n",
      ".signals_metrics attribute added\n",
      "75\n",
      "found shapes parquet at gs://calitp-analytics-data/data-analyses/rt_delay/v2_cached_views/shapes_75_2023-07-12.parquet\n",
      ".signals attribute added\n",
      ".signals_metrics attribute added\n",
      "368\n",
      "found shapes parquet at gs://calitp-analytics-data/data-analyses/rt_delay/v2_cached_views/shapes_368_2023-07-12.parquet\n",
      ".signals attribute added\n",
      ".signals_metrics attribute added\n",
      "183\n",
      "found shapes parquet at gs://calitp-analytics-data/data-analyses/rt_delay/v2_cached_views/shapes_183_2023-07-12.parquet\n",
      ".signals attribute added\n",
      ".signals_metrics attribute added\n",
      "243\n",
      "found shapes parquet at gs://calitp-analytics-data/data-analyses/rt_delay/v2_cached_views/shapes_243_2023-07-12.parquet\n",
      ".signals attribute added\n",
      ".signals_metrics attribute added\n",
      "339\n",
      "found shapes parquet at gs://calitp-analytics-data/data-analyses/rt_delay/v2_cached_views/shapes_339_2023-07-12.parquet\n",
      ".signals attribute added\n",
      ".signals_metrics attribute added\n",
      "296\n",
      "found shapes parquet at gs://calitp-analytics-data/data-analyses/rt_delay/v2_cached_views/shapes_296_2023-07-12.parquet\n",
      ".signals attribute added\n",
      ".signals_metrics attribute added\n",
      "167\n",
      "found shapes parquet at gs://calitp-analytics-data/data-analyses/rt_delay/v2_cached_views/shapes_167_2023-07-12.parquet\n",
      "stop_speeds shape: (0, 18), shape_id: 42017\n",
      "Must pass array with one dimension only.\n",
      ".signals attribute added\n",
      ".signals_metrics attribute added\n",
      "260\n",
      "found shapes parquet at gs://calitp-analytics-data/data-analyses/rt_delay/v2_cached_views/shapes_260_2023-07-12.parquet\n",
      ".signals attribute added\n",
      ".signals_metrics attribute added\n",
      "295\n",
      "found shapes parquet at gs://calitp-analytics-data/data-analyses/rt_delay/v2_cached_views/shapes_295_2023-07-12.parquet\n",
      ".signals attribute added\n",
      ".signals_metrics attribute added\n",
      "110\n",
      "found shapes parquet at gs://calitp-analytics-data/data-analyses/rt_delay/v2_cached_views/shapes_110_2023-07-12.parquet\n",
      "stop_speeds shape: (0, 18), shape_id: p_1432448\n",
      "Must pass array with one dimension only.\n",
      "stop_speeds shape: (0, 18), shape_id: p_1432449\n",
      "Must pass array with one dimension only.\n",
      ".signals attribute added\n",
      ".signals_metrics attribute added\n",
      "182\n",
      "found shapes parquet at gs://calitp-analytics-data/data-analyses/rt_delay/v2_cached_views/shapes_182_2023-07-12.parquet\n",
      "stop_speeds shape: (0, 18), shape_id: 7201294_JUNE23\n",
      "Must pass array with one dimension only.\n",
      ".signals attribute added\n",
      "235, 'GeoDataFrame' object has no attribute 'approaching'\n",
      "372\n",
      "found shapes parquet at gs://calitp-analytics-data/data-analyses/rt_delay/v2_cached_views/shapes_372_2023-07-12.parquet\n",
      ".signals attribute added\n",
      ".signals_metrics attribute added\n",
      "87\n",
      "found shapes parquet at gs://calitp-analytics-data/data-analyses/rt_delay/v2_cached_views/shapes_87_2023-07-12.parquet\n",
      ".signals attribute added\n",
      ".signals_metrics attribute added\n",
      "226\n",
      "found shapes parquet at gs://calitp-analytics-data/data-analyses/rt_delay/v2_cached_views/shapes_226_2023-07-12.parquet\n",
      "stop_speeds shape: (0, 17), shape_id: 3590013\n",
      "stop speeds gdf is empty!\n",
      "stop_speeds shape: (0, 17), shape_id: 3550013\n",
      "stop speeds gdf is empty!\n",
      "stop_speeds shape: (0, 17), shape_id: 3520041\n",
      "stop speeds gdf is empty!\n",
      "stop_speeds shape: (0, 17), shape_id: 3510048\n",
      "stop speeds gdf is empty!\n",
      ".signals attribute added\n",
      ".signals_metrics attribute added\n",
      "228\n",
      "found shapes parquet at gs://calitp-analytics-data/data-analyses/rt_delay/v2_cached_views/shapes_228_2023-07-12.parquet\n",
      ".signals attribute added\n",
      ".signals_metrics attribute added\n",
      "247\n",
      "found shapes parquet at gs://calitp-analytics-data/data-analyses/rt_delay/v2_cached_views/shapes_247_2023-07-12.parquet\n",
      ".signals attribute added\n",
      ".signals_metrics attribute added\n",
      "259\n",
      "found shapes parquet at gs://calitp-analytics-data/data-analyses/rt_delay/v2_cached_views/shapes_259_2023-07-12.parquet\n",
      ".signals attribute added\n",
      ".signals_metrics attribute added\n",
      "282\n",
      "found shapes parquet at gs://calitp-analytics-data/data-analyses/rt_delay/v2_cached_views/shapes_282_2023-07-12.parquet\n",
      ".signals attribute added\n",
      ".signals_metrics attribute added\n",
      "4\n",
      "found shapes parquet at gs://calitp-analytics-data/data-analyses/rt_delay/v2_cached_views/shapes_4_2023-07-12.parquet\n",
      ".signals attribute added\n",
      ".signals_metrics attribute added\n",
      "198\n",
      "found shapes parquet at gs://calitp-analytics-data/data-analyses/rt_delay/v2_cached_views/shapes_198_2023-07-12.parquet\n",
      ".signals attribute added\n",
      ".signals_metrics attribute added\n",
      "188\n",
      "found shapes parquet at gs://calitp-analytics-data/data-analyses/rt_delay/v2_cached_views/shapes_188_2023-07-12.parquet\n",
      ".signals attribute added\n",
      ".signals_metrics attribute added\n",
      "331\n",
      "found shapes parquet at gs://calitp-analytics-data/data-analyses/rt_delay/v2_cached_views/shapes_331_2023-07-12.parquet\n",
      ".signals attribute added\n",
      ".signals_metrics attribute added\n",
      "489\n",
      "found shapes parquet at gs://calitp-analytics-data/data-analyses/rt_delay/v2_cached_views/shapes_489_2023-07-12.parquet\n",
      ".signals attribute added\n",
      ".signals_metrics attribute added\n",
      "273\n",
      "found shapes parquet at gs://calitp-analytics-data/data-analyses/rt_delay/v2_cached_views/shapes_273_2023-07-12.parquet\n",
      ".signals attribute added\n",
      ".signals_metrics attribute added\n",
      "280\n",
      "found shapes parquet at gs://calitp-analytics-data/data-analyses/rt_delay/v2_cached_views/shapes_280_2023-07-12.parquet\n",
      "stop_speeds shape: (0, 18), shape_id: p_530962\n",
      "Must pass array with one dimension only.\n",
      "stop_speeds shape: (0, 18), shape_id: p_298493\n",
      "Must pass array with one dimension only.\n",
      ".signals attribute added\n",
      "280, 'GeoDataFrame' object has no attribute 'approaching'\n",
      "16\n",
      "found shapes parquet at gs://calitp-analytics-data/data-analyses/rt_delay/v2_cached_views/shapes_16_2023-07-12.parquet\n",
      ".signals attribute added\n",
      ".signals_metrics attribute added\n",
      "194\n",
      "found shapes parquet at gs://calitp-analytics-data/data-analyses/rt_delay/v2_cached_views/shapes_194_2023-07-12.parquet\n",
      ".signals attribute added\n",
      ".signals_metrics attribute added\n",
      "42\n",
      "found shapes parquet at gs://calitp-analytics-data/data-analyses/rt_delay/v2_cached_views/shapes_42_2023-07-12.parquet\n",
      "stop_speeds shape: (0, 18), shape_id: p_1277369\n",
      "Must pass array with one dimension only.\n",
      ".signals attribute added\n",
      ".signals_metrics attribute added\n",
      "108\n",
      "found shapes parquet at gs://calitp-analytics-data/data-analyses/rt_delay/v2_cached_views/shapes_108_2023-07-12.parquet\n",
      "stop_speeds shape: (0, 18), shape_id: p_1277369\n",
      "Must pass array with one dimension only.\n",
      ".signals attribute added\n",
      ".signals_metrics attribute added\n",
      "135\n",
      "found shapes parquet at gs://calitp-analytics-data/data-analyses/rt_delay/v2_cached_views/shapes_135_2023-07-12.parquet\n",
      "stop_speeds shape: (0, 18), shape_id: p_1277369\n",
      "Must pass array with one dimension only.\n",
      ".signals attribute added\n",
      ".signals_metrics attribute added\n",
      "18\n",
      "found shapes parquet at gs://calitp-analytics-data/data-analyses/rt_delay/v2_cached_views/shapes_18_2023-07-12.parquet\n",
      "stop_speeds shape: (0, 18), shape_id: p_1277369\n",
      "Must pass array with one dimension only.\n",
      ".signals attribute added\n",
      ".signals_metrics attribute added\n"
     ]
    }
   ],
   "source": [
    "path = './signals_2023-06-12.xlsx'\n",
    "signal_gdf = signal_tools.read_signal_excel(path)\n",
    "\n",
    "all_metric_gdfs = []\n",
    "for itp_id in progress_df.organization_itp_id:\n",
    "# for itp_id in [350, 4]:\n",
    "    print(itp_id)\n",
    "    try:\n",
    "        # all-day speeds (no filter)\n",
    "        rt_day = rt_filter_map_plot.from_gcs(itp_id, progress_df.analysis_date.iloc[0])\n",
    "        signal_tools.generate_speedmap_buffer_signals(rt_day, signal_gdf)\n",
    "        signal_tools.calculate_signal_metric(rt_day)\n",
    "        \n",
    "        all_metric_gdfs += [rt_day.signals_metrics]\n",
    "    except Exception as e:\n",
    "        print(f'{itp_id}, {e}')"
   ]
  },
  {
   "cell_type": "code",
   "execution_count": 238,
   "id": "a1f7848a-cd4e-4612-90b2-e01ff1fb9ed5",
   "metadata": {},
   "outputs": [],
   "source": [
    "gdf_all = pd.concat(all_metric_gdfs)\n",
    "gdf_all.to_parquet('./_signal_metrics_gdf.parquet')"
   ]
  },
  {
   "cell_type": "code",
   "execution_count": 239,
   "id": "ce1c5f83-2685-4e19-9c28-b3012ef744a4",
   "metadata": {},
   "outputs": [],
   "source": [
    "df_all = gdf_all >> group_by(_.imms_id) >> summarize(speed_score = _.speed_score.median(),\n",
    "                                            variability_score = _.variability_score.median(),\n",
    "                                            frequency_score = _.frequency_score.median(),\n",
    "                                            overall_transit_score = _.combined_score.median(),\n",
    "                                           )\n",
    "df_all.to_parquet('./_signal_metrics_df.parquet')"
   ]
  },
  {
   "cell_type": "code",
   "execution_count": 242,
   "id": "f0206612-7f4a-43c1-af09-870a215b249a",
   "metadata": {},
   "outputs": [],
   "source": [
    "df_all = df_all.rename(columns={'imms_id': \"IMMS ID\"})"
   ]
  },
  {
   "cell_type": "code",
   "execution_count": 244,
   "id": "d5772287-bb34-4f39-bf33-729b171347a4",
   "metadata": {},
   "outputs": [],
   "source": [
    "original_format = pd.read_excel('./signals_2023-06-12.xlsx') >> inner_join(_, df_all, on = ['IMMS ID'])"
   ]
  },
  {
   "cell_type": "code",
   "execution_count": 245,
   "id": "9ecc94a6-3327-4c65-ab5c-d69a95630769",
   "metadata": {},
   "outputs": [],
   "source": [
    "original_format.to_excel('transit_score_signals_2023-06-12.xlsx')"
   ]
  }
 ],
 "metadata": {
  "kernelspec": {
   "display_name": "Python 3 (ipykernel)",
   "language": "python",
   "name": "python3"
  },
  "language_info": {
   "codemirror_mode": {
    "name": "ipython",
    "version": 3
   },
   "file_extension": ".py",
   "mimetype": "text/x-python",
   "name": "python",
   "nbconvert_exporter": "python",
   "pygments_lexer": "ipython3",
   "version": "3.9.13"
  },
  "widgets": {
   "application/vnd.jupyter.widget-state+json": {
    "state": {
     "0ccda7a272224672962c181d3262d46f": {
      "model_module": "@jupyter-widgets/controls",
      "model_module_version": "1.5.0",
      "model_name": "HTMLModel",
      "state": {
       "layout": "IPY_MODEL_293df693e5004f89be5b5434c956c1ed",
       "style": "IPY_MODEL_0ef2fa3a75784e8ebdfa8f5476fe80c1"
      }
     },
     "0ef2fa3a75784e8ebdfa8f5476fe80c1": {
      "model_module": "@jupyter-widgets/controls",
      "model_module_version": "1.5.0",
      "model_name": "DescriptionStyleModel",
      "state": {
       "description_width": ""
      }
     },
     "104b590a80df4e37a20d5ad16c303125": {
      "model_module": "@jupyter-widgets/controls",
      "model_module_version": "1.5.0",
      "model_name": "FloatProgressModel",
      "state": {
       "bar_style": "info",
       "layout": "IPY_MODEL_fcd181a6781745b2925b239085855658",
       "max": 1,
       "style": "IPY_MODEL_3e9d5f04d06649078fab1df7ae785bab"
      }
     },
     "14dc919521b04b26b37709729aa79c28": {
      "model_module": "@jupyter-widgets/controls",
      "model_module_version": "1.5.0",
      "model_name": "HBoxModel",
      "state": {
       "children": [
        "IPY_MODEL_0ccda7a272224672962c181d3262d46f",
        "IPY_MODEL_104b590a80df4e37a20d5ad16c303125",
        "IPY_MODEL_27a95845bde0491bafe0881687d87377"
       ],
       "layout": "IPY_MODEL_9d892e026abf4d6693124a3fac7d5cf6"
      }
     },
     "27a95845bde0491bafe0881687d87377": {
      "model_module": "@jupyter-widgets/controls",
      "model_module_version": "1.5.0",
      "model_name": "HTMLModel",
      "state": {
       "layout": "IPY_MODEL_d42f2c1512f24e2e8456215e69c98764",
       "style": "IPY_MODEL_cfc671ea85814be5bb787294a5a66635",
       "value": " 0/? [00:00&lt;?, ?it/s]"
      }
     },
     "293df693e5004f89be5b5434c956c1ed": {
      "model_module": "@jupyter-widgets/base",
      "model_module_version": "1.2.0",
      "model_name": "LayoutModel",
      "state": {}
     },
     "2b1a0e2b777d43bfb186ef5e7dc8624e": {
      "model_module": "@jupyter-widgets/controls",
      "model_module_version": "1.5.0",
      "model_name": "ProgressStyleModel",
      "state": {
       "description_width": ""
      }
     },
     "3e9d5f04d06649078fab1df7ae785bab": {
      "model_module": "@jupyter-widgets/controls",
      "model_module_version": "1.5.0",
      "model_name": "ProgressStyleModel",
      "state": {
       "description_width": ""
      }
     },
     "4c1661052501436f8cd56b11bbc25e69": {
      "model_module": "@jupyter-widgets/controls",
      "model_module_version": "1.5.0",
      "model_name": "HBoxModel",
      "state": {
       "children": [
        "IPY_MODEL_d3b4edde2df24939929d4a0e2bd53c8d",
        "IPY_MODEL_dd8e960716f240dfaa448990d5ee9c27",
        "IPY_MODEL_a0be850dc9ee4afcbc6e2f1625aca25b"
       ],
       "layout": "IPY_MODEL_6fb7d5c9bbaf43c1a0f1517b86808c23"
      }
     },
     "6260fc8046ba468db77f82ab11eab04d": {
      "model_module": "@jupyter-widgets/base",
      "model_module_version": "1.2.0",
      "model_name": "LayoutModel",
      "state": {}
     },
     "6fb7d5c9bbaf43c1a0f1517b86808c23": {
      "model_module": "@jupyter-widgets/base",
      "model_module_version": "1.2.0",
      "model_name": "LayoutModel",
      "state": {}
     },
     "8af122a62ce8433fa6fff87ef5e03112": {
      "model_module": "@jupyter-widgets/base",
      "model_module_version": "1.2.0",
      "model_name": "LayoutModel",
      "state": {}
     },
     "9d892e026abf4d6693124a3fac7d5cf6": {
      "model_module": "@jupyter-widgets/base",
      "model_module_version": "1.2.0",
      "model_name": "LayoutModel",
      "state": {}
     },
     "a0be850dc9ee4afcbc6e2f1625aca25b": {
      "model_module": "@jupyter-widgets/controls",
      "model_module_version": "1.5.0",
      "model_name": "HTMLModel",
      "state": {
       "layout": "IPY_MODEL_6260fc8046ba468db77f82ab11eab04d",
       "style": "IPY_MODEL_bc5c237ea88f487b894a746927b90623",
       "value": " 0/? [01:38&lt;?, ?it/s]"
      }
     },
     "bc5c237ea88f487b894a746927b90623": {
      "model_module": "@jupyter-widgets/controls",
      "model_module_version": "1.5.0",
      "model_name": "DescriptionStyleModel",
      "state": {
       "description_width": ""
      }
     },
     "cfc671ea85814be5bb787294a5a66635": {
      "model_module": "@jupyter-widgets/controls",
      "model_module_version": "1.5.0",
      "model_name": "DescriptionStyleModel",
      "state": {
       "description_width": ""
      }
     },
     "d3b4edde2df24939929d4a0e2bd53c8d": {
      "model_module": "@jupyter-widgets/controls",
      "model_module_version": "1.5.0",
      "model_name": "HTMLModel",
      "state": {
       "layout": "IPY_MODEL_8af122a62ce8433fa6fff87ef5e03112",
       "style": "IPY_MODEL_f9d2be4d94774c58a2384666681c72c1"
      }
     },
     "d42f2c1512f24e2e8456215e69c98764": {
      "model_module": "@jupyter-widgets/base",
      "model_module_version": "1.2.0",
      "model_name": "LayoutModel",
      "state": {}
     },
     "dd8e960716f240dfaa448990d5ee9c27": {
      "model_module": "@jupyter-widgets/controls",
      "model_module_version": "1.5.0",
      "model_name": "FloatProgressModel",
      "state": {
       "bar_style": "success",
       "layout": "IPY_MODEL_ebd7216bb2ad4dddbc2e70d18a861854",
       "max": 1,
       "style": "IPY_MODEL_2b1a0e2b777d43bfb186ef5e7dc8624e"
      }
     },
     "ebd7216bb2ad4dddbc2e70d18a861854": {
      "model_module": "@jupyter-widgets/base",
      "model_module_version": "1.2.0",
      "model_name": "LayoutModel",
      "state": {
       "width": "20px"
      }
     },
     "f9d2be4d94774c58a2384666681c72c1": {
      "model_module": "@jupyter-widgets/controls",
      "model_module_version": "1.5.0",
      "model_name": "DescriptionStyleModel",
      "state": {
       "description_width": ""
      }
     },
     "fcd181a6781745b2925b239085855658": {
      "model_module": "@jupyter-widgets/base",
      "model_module_version": "1.2.0",
      "model_name": "LayoutModel",
      "state": {
       "width": "20px"
      }
     }
    },
    "version_major": 2,
    "version_minor": 0
   }
  }
 },
 "nbformat": 4,
 "nbformat_minor": 5
}
