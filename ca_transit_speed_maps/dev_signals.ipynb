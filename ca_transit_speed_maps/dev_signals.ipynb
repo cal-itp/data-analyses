{
 "cells": [
  {
   "cell_type": "code",
   "execution_count": 1,
   "id": "46898b5c-b5cc-4096-ab68-8c3e42fab870",
   "metadata": {},
   "outputs": [],
   "source": [
    "%%capture\n",
    "import warnings\n",
    "warnings.filterwarnings('ignore')\n",
    "\n",
    "import os\n",
    "os.environ[\"CALITP_BQ_MAX_BYTES\"] = str(800_000_000_000)\n",
    "import shared_utils\n",
    "\n",
    "from calitp_data_analysis.tables import tbls\n",
    "import calitp_data_analysis.magics\n",
    "\n",
    "from siuba import *\n",
    "import pandas as pd\n",
    "import geopandas as gpd\n",
    "\n",
    "import datetime as dt\n",
    "\n",
    "import importlib\n",
    "from rt_analysis import rt_filter_map_plot\n",
    "import build_speedmaps_index\n",
    "\n",
    "from IPython.display import display, Markdown, Latex, HTML, IFrame\n",
    "import json\n",
    "import base64"
   ]
  },
  {
   "cell_type": "markdown",
   "id": "378ca4e6-c50a-4495-8296-67a70d4ab3d4",
   "metadata": {},
   "source": [
    "# Using module"
   ]
  },
  {
   "cell_type": "code",
   "execution_count": 2,
   "id": "134d2d78-ea87-4841-be25-f954fb1328a8",
   "metadata": {},
   "outputs": [],
   "source": [
    "from rt_analysis import signal_tools\n",
    "from shared_utils import rt_utils"
   ]
  },
  {
   "cell_type": "code",
   "execution_count": 3,
   "id": "abaff7ef-3974-4349-8086-9c07abc29ffd",
   "metadata": {},
   "outputs": [
    {
     "data": {
      "text/plain": [
       "<module 'rt_analysis.signal_tools' from '/home/jovyan/data-analyses/rt_delay/rt_analysis/signal_tools.py'>"
      ]
     },
     "execution_count": 3,
     "metadata": {},
     "output_type": "execute_result"
    }
   ],
   "source": [
    "import importlib\n",
    "importlib.reload(signal_tools)"
   ]
  },
  {
   "cell_type": "code",
   "execution_count": 4,
   "id": "9273e17d-b127-4e35-a462-79f458ee0928",
   "metadata": {},
   "outputs": [],
   "source": [
    "path = './signals_2023-06-12.xlsx'\n",
    "signal_gdf = signal_tools.read_signal_excel(path)"
   ]
  },
  {
   "cell_type": "code",
   "execution_count": 5,
   "id": "ae1d6487-ef52-4453-857a-8ad46861fb07",
   "metadata": {},
   "outputs": [
    {
     "name": "stdout",
     "output_type": "stream",
     "text": [
      "found shapes parquet at gs://calitp-analytics-data/data-analyses/rt_delay/v2_cached_views/shapes_300_2023-07-12.parquet\n"
     ]
    }
   ],
   "source": [
    "rt_day = rt_filter_map_plot.from_gcs(300, build_speedmaps_index.ANALYSIS_DATE)"
   ]
  },
  {
   "cell_type": "code",
   "execution_count": 6,
   "id": "fa3fbb58-3df7-40f3-8889-ea0742f18541",
   "metadata": {},
   "outputs": [],
   "source": [
    "rt_day.set_filter(start_time='06:00', end_time='09:00')"
   ]
  },
  {
   "cell_type": "code",
   "execution_count": 7,
   "id": "0cb55584-3f77-417a-90b6-43bb44df1b3e",
   "metadata": {},
   "outputs": [
    {
     "data": {
      "text/plain": [
       "\u001b[0;31mSignature:\u001b[0m \u001b[0msignal_tools\u001b[0m\u001b[0;34m.\u001b[0m\u001b[0mgenerate_speedmap_buffer_signals\u001b[0m\u001b[0;34m(\u001b[0m\u001b[0mrt_day\u001b[0m\u001b[0;34m,\u001b[0m \u001b[0msignal_gdf\u001b[0m\u001b[0;34m)\u001b[0m\u001b[0;34m\u001b[0m\u001b[0;34m\u001b[0m\u001b[0m\n",
       "\u001b[0;31mDocstring:\u001b[0m attach district-filtered signals to RtFilterMapper\n",
       "\u001b[0;31mFile:\u001b[0m      ~/data-analyses/rt_delay/rt_analysis/signal_tools.py\n",
       "\u001b[0;31mType:\u001b[0m      function"
      ]
     },
     "metadata": {},
     "output_type": "display_data"
    }
   ],
   "source": [
    "signal_tools.generate_speedmap_buffer_signals?"
   ]
  },
  {
   "cell_type": "code",
   "execution_count": 8,
   "id": "84705225-3c95-4abf-b596-9a6292e1cba1",
   "metadata": {},
   "outputs": [
    {
     "name": "stdout",
     "output_type": "stream",
     "text": [
      ".signals attribute added\n",
      ".signals_metrics attribute added\n"
     ]
    }
   ],
   "source": [
    "signal_tools.generate_speedmap_buffer_signals(rt_day, signal_gdf)\n",
    "signal_tools.calculate_signal_metric(rt_day)"
   ]
  },
  {
   "cell_type": "markdown",
   "id": "58d8bf88-67ea-4834-bb93-22f6830ee343",
   "metadata": {},
   "source": [
    "# Optimizing?"
   ]
  },
  {
   "cell_type": "code",
   "execution_count": 9,
   "id": "5bbe0caf-40de-439a-bddf-24e7621611e2",
   "metadata": {},
   "outputs": [],
   "source": [
    "import numpy as np"
   ]
  },
  {
   "cell_type": "code",
   "execution_count": null,
   "id": "db0c23c1-eac5-45c5-b93a-762c604262ee",
   "metadata": {},
   "outputs": [],
   "source": [
    "df = rt_day.signals_metrics"
   ]
  },
  {
   "cell_type": "code",
   "execution_count": 39,
   "id": "98d2d53a-1f50-404f-a7f7-81a00c4ade3a",
   "metadata": {},
   "outputs": [],
   "source": [
    "test_df = df >> select(_.p50_mph, _.fast_slow_ratio, _.trips_per_hour)"
   ]
  },
  {
   "cell_type": "code",
   "execution_count": 40,
   "id": "d35af672-c5f1-438b-9617-0ba7628e731c",
   "metadata": {},
   "outputs": [],
   "source": [
    "system_p50 = rt_day.detailed_map_view.p50_mph.quantile(.5)\n",
    "twenty_mph = 20"
   ]
  },
  {
   "cell_type": "code",
   "execution_count": 41,
   "id": "3530c4af-b3ce-4300-81ce-20847ee50b60",
   "metadata": {},
   "outputs": [
    {
     "data": {
      "text/plain": [
       "14.4"
      ]
     },
     "execution_count": 41,
     "metadata": {},
     "output_type": "execute_result"
    }
   ],
   "source": [
    "system_p50"
   ]
  },
  {
   "cell_type": "code",
   "execution_count": 42,
   "id": "171585f7-cea9-4ebf-80ab-d7264120d8e4",
   "metadata": {},
   "outputs": [
    {
     "data": {
      "text/html": [
       "<div>\n",
       "<style scoped>\n",
       "    .dataframe tbody tr th:only-of-type {\n",
       "        vertical-align: middle;\n",
       "    }\n",
       "\n",
       "    .dataframe tbody tr th {\n",
       "        vertical-align: top;\n",
       "    }\n",
       "\n",
       "    .dataframe thead th {\n",
       "        text-align: right;\n",
       "    }\n",
       "</style>\n",
       "<table border=\"1\" class=\"dataframe\">\n",
       "  <thead>\n",
       "    <tr style=\"text-align: right;\">\n",
       "      <th></th>\n",
       "      <th>p50_mph</th>\n",
       "      <th>fast_slow_ratio</th>\n",
       "      <th>trips_per_hour</th>\n",
       "    </tr>\n",
       "  </thead>\n",
       "  <tbody>\n",
       "    <tr>\n",
       "      <th>2</th>\n",
       "      <td>14.1</td>\n",
       "      <td>2.3</td>\n",
       "      <td>2.3</td>\n",
       "    </tr>\n",
       "    <tr>\n",
       "      <th>5</th>\n",
       "      <td>14.7</td>\n",
       "      <td>3.4</td>\n",
       "      <td>3.3</td>\n",
       "    </tr>\n",
       "    <tr>\n",
       "      <th>6</th>\n",
       "      <td>17.3</td>\n",
       "      <td>5.3</td>\n",
       "      <td>3.3</td>\n",
       "    </tr>\n",
       "  </tbody>\n",
       "</table>\n",
       "</div>"
      ],
      "text/plain": [
       "   p50_mph  fast_slow_ratio  trips_per_hour\n",
       "2     14.1              2.3             2.3\n",
       "5     14.7              3.4             3.3\n",
       "6     17.3              5.3             3.3"
      ]
     },
     "execution_count": 42,
     "metadata": {},
     "output_type": "execute_result"
    }
   ],
   "source": [
    "test_df >> head(3)"
   ]
  },
  {
   "cell_type": "code",
   "execution_count": 50,
   "id": "aeb2c8af-f3a0-4897-b52b-28f8438095df",
   "metadata": {},
   "outputs": [],
   "source": [
    "decile_raw = ((test_df.p50_mph - system_p50) / system_p50) * 10\n",
    "decile_rounded = np.round(decile_raw, 0).astype('int64')\n",
    "# positive values are comparatively higher speeds, mask to 0 to indicate low priority\n",
    "decile_masked = decile_rounded.mask(decile_rounded > 0, 0)\n",
    "decile_score = np.absolute(decile_masked)"
   ]
  },
  {
   "cell_type": "code",
   "execution_count": 52,
   "id": "83642666-80de-4f95-b53f-2b0afb16c8af",
   "metadata": {},
   "outputs": [
    {
     "data": {
      "text/plain": [
       "2      0\n",
       "5      0\n",
       "6      0\n",
       "9      0\n",
       "11     3\n",
       "      ..\n",
       "450    1\n",
       "451    1\n",
       "452    1\n",
       "453    1\n",
       "476    2\n",
       "Name: p50_mph, Length: 162, dtype: int64"
      ]
     },
     "execution_count": 52,
     "metadata": {},
     "output_type": "execute_result"
    }
   ],
   "source": [
    "decile_score"
   ]
  },
  {
   "cell_type": "code",
   "execution_count": 46,
   "id": "ec4a5ff4-696e-43b7-93f1-9376ad71e06e",
   "metadata": {},
   "outputs": [],
   "source": [
    "variability = test_df.fast_slow_ratio\n",
    "variability_low_mask = variability.mask(variability <= 1, 0)\n",
    "variability_scaled = np.round(variability * 3, 0)\n",
    "variability_high_mask = variability_scaled.mask(variability_scaled > 10, 10)\n",
    "variability_score = variability_high_mask.astype('int64')"
   ]
  },
  {
   "cell_type": "code",
   "execution_count": 47,
   "id": "d2dce0bd-cc4e-4968-afdf-fa6561a59359",
   "metadata": {},
   "outputs": [
    {
     "data": {
      "text/plain": [
       "2       7\n",
       "5      10\n",
       "6      10\n",
       "9       5\n",
       "11      3\n",
       "       ..\n",
       "450     4\n",
       "451     4\n",
       "452     4\n",
       "453     4\n",
       "476     6\n",
       "Name: fast_slow_ratio, Length: 162, dtype: int64"
      ]
     },
     "execution_count": 47,
     "metadata": {},
     "output_type": "execute_result"
    }
   ],
   "source": [
    "variability_score"
   ]
  },
  {
   "cell_type": "code",
   "execution_count": 48,
   "id": "57501724-df2b-4709-a640-3a7f2b43aa39",
   "metadata": {},
   "outputs": [],
   "source": [
    "frequency = test_df.trips_per_hour\n",
    "frequency_scaled = np.round(frequency * 2, 0)\n",
    "frequency_score = frequency_scaled.mask(frequency_scaled > 10, 10).astype('int64')"
   ]
  },
  {
   "cell_type": "code",
   "execution_count": 49,
   "id": "6a8e314d-4c7d-4784-98b1-a4b1dec902d1",
   "metadata": {},
   "outputs": [
    {
     "data": {
      "text/plain": [
       "2      5\n",
       "5      7\n",
       "6      7\n",
       "9      8\n",
       "11     8\n",
       "      ..\n",
       "450    5\n",
       "451    5\n",
       "452    5\n",
       "453    5\n",
       "476    9\n",
       "Name: trips_per_hour, Length: 162, dtype: int64"
      ]
     },
     "execution_count": 49,
     "metadata": {},
     "output_type": "execute_result"
    }
   ],
   "source": [
    "frequency_score"
   ]
  },
  {
   "cell_type": "markdown",
   "id": "cd0bb894-0642-4d93-a18f-5fcbf816d47d",
   "metadata": {},
   "source": [
    "# Spatial Arrays"
   ]
  },
  {
   "cell_type": "code",
   "execution_count": 56,
   "id": "9833c499-ed4d-446e-8a81-f8f8a16ec3fd",
   "metadata": {},
   "outputs": [],
   "source": [
    "progress_df = pd.read_parquet('./_rt_progress_2023-07-12.parquet') >> filter(_.status == 'map_confirmed')"
   ]
  },
  {
   "cell_type": "code",
   "execution_count": 57,
   "id": "e51e2dec-6928-42d4-a003-e1d4a6999f86",
   "metadata": {},
   "outputs": [
    {
     "data": {
      "application/vnd.jupyter.widget-view+json": {
       "model_id": "30b89d53bec348578135e53a0b75ec4c",
       "version_major": 2,
       "version_minor": 0
      },
      "text/plain": [
       "0it [00:00, ?it/s]"
      ]
     },
     "metadata": {},
     "output_type": "display_data"
    }
   ],
   "source": [
    "from tqdm.notebook import tqdm\n",
    "pbar = tqdm()"
   ]
  },
  {
   "cell_type": "code",
   "execution_count": 61,
   "id": "192dbad5-b511-4dc4-b299-1d1ba7ee794c",
   "metadata": {
    "tags": []
   },
   "outputs": [
    {
     "name": "stdout",
     "output_type": "stream",
     "text": [
      "70\n",
      "found shapes parquet at gs://calitp-analytics-data/data-analyses/rt_delay/v2_cached_views/shapes_70_2023-07-12.parquet\n",
      "314\n",
      "found shapes parquet at gs://calitp-analytics-data/data-analyses/rt_delay/v2_cached_views/shapes_314_2023-07-12.parquet\n",
      "221\n",
      "found shapes parquet at gs://calitp-analytics-data/data-analyses/rt_delay/v2_cached_views/shapes_221_2023-07-12.parquet\n",
      "350\n",
      "found shapes parquet at gs://calitp-analytics-data/data-analyses/rt_delay/v2_cached_views/shapes_350_2023-07-12.parquet\n",
      "105\n",
      "found shapes parquet at gs://calitp-analytics-data/data-analyses/rt_delay/v2_cached_views/shapes_105_2023-07-12.parquet\n",
      "106\n",
      "found shapes parquet at gs://calitp-analytics-data/data-analyses/rt_delay/v2_cached_views/shapes_106_2023-07-12.parquet\n",
      "45\n",
      "found shapes parquet at gs://calitp-analytics-data/data-analyses/rt_delay/v2_cached_views/shapes_45_2023-07-12.parquet\n",
      "315\n",
      "found shapes parquet at gs://calitp-analytics-data/data-analyses/rt_delay/v2_cached_views/shapes_315_2023-07-12.parquet\n",
      "61\n",
      "found shapes parquet at gs://calitp-analytics-data/data-analyses/rt_delay/v2_cached_views/shapes_61_2023-07-12.parquet\n",
      "33\n",
      "found shapes parquet at gs://calitp-analytics-data/data-analyses/rt_delay/v2_cached_views/shapes_33_2023-07-12.parquet\n",
      "310\n",
      "found shapes parquet at gs://calitp-analytics-data/data-analyses/rt_delay/v2_cached_views/shapes_310_2023-07-12.parquet\n",
      "381\n",
      "found shapes parquet at gs://calitp-analytics-data/data-analyses/rt_delay/v2_cached_views/shapes_381_2023-07-12.parquet\n",
      "30\n",
      "found shapes parquet at gs://calitp-analytics-data/data-analyses/rt_delay/v2_cached_views/shapes_30_2023-07-12.parquet\n",
      "208\n",
      "found shapes parquet at gs://calitp-analytics-data/data-analyses/rt_delay/v2_cached_views/shapes_208_2023-07-12.parquet\n",
      "312\n",
      "found shapes parquet at gs://calitp-analytics-data/data-analyses/rt_delay/v2_cached_views/shapes_312_2023-07-12.parquet\n",
      "351\n",
      "found shapes parquet at gs://calitp-analytics-data/data-analyses/rt_delay/v2_cached_views/shapes_351_2023-07-12.parquet\n",
      "351, over 2.5% of geometries invalid after buffer+simplify (76 / 78)\n",
      "360\n",
      "found shapes parquet at gs://calitp-analytics-data/data-analyses/rt_delay/v2_cached_views/shapes_360_2023-07-12.parquet\n",
      "290\n",
      "found shapes parquet at gs://calitp-analytics-data/data-analyses/rt_delay/v2_cached_views/shapes_290_2023-07-12.parquet\n",
      "148\n",
      "found shapes parquet at gs://calitp-analytics-data/data-analyses/rt_delay/v2_cached_views/shapes_148_2023-07-12.parquet\n",
      "293\n",
      "found shapes parquet at gs://calitp-analytics-data/data-analyses/rt_delay/v2_cached_views/shapes_293_2023-07-12.parquet\n",
      "246\n",
      "found shapes parquet at gs://calitp-analytics-data/data-analyses/rt_delay/v2_cached_views/shapes_246_2023-07-12.parquet\n",
      "34\n",
      "found shapes parquet at gs://calitp-analytics-data/data-analyses/rt_delay/v2_cached_views/shapes_34_2023-07-12.parquet\n",
      "298\n",
      "found shapes parquet at gs://calitp-analytics-data/data-analyses/rt_delay/v2_cached_views/shapes_298_2023-07-12.parquet\n",
      "301\n",
      "found shapes parquet at gs://calitp-analytics-data/data-analyses/rt_delay/v2_cached_views/shapes_301_2023-07-12.parquet\n",
      "486\n",
      "found shapes parquet at gs://calitp-analytics-data/data-analyses/rt_delay/v2_cached_views/shapes_486_2023-07-12.parquet\n",
      "269\n",
      "found shapes parquet at gs://calitp-analytics-data/data-analyses/rt_delay/v2_cached_views/shapes_269_2023-07-12.parquet\n",
      "75\n",
      "found shapes parquet at gs://calitp-analytics-data/data-analyses/rt_delay/v2_cached_views/shapes_75_2023-07-12.parquet\n",
      "368\n",
      "found shapes parquet at gs://calitp-analytics-data/data-analyses/rt_delay/v2_cached_views/shapes_368_2023-07-12.parquet\n",
      "183\n",
      "found shapes parquet at gs://calitp-analytics-data/data-analyses/rt_delay/v2_cached_views/shapes_183_2023-07-12.parquet\n",
      "243\n",
      "found shapes parquet at gs://calitp-analytics-data/data-analyses/rt_delay/v2_cached_views/shapes_243_2023-07-12.parquet\n",
      "339\n",
      "found shapes parquet at gs://calitp-analytics-data/data-analyses/rt_delay/v2_cached_views/shapes_339_2023-07-12.parquet\n",
      "296\n",
      "found shapes parquet at gs://calitp-analytics-data/data-analyses/rt_delay/v2_cached_views/shapes_296_2023-07-12.parquet\n",
      "167\n",
      "found shapes parquet at gs://calitp-analytics-data/data-analyses/rt_delay/v2_cached_views/shapes_167_2023-07-12.parquet\n",
      "260\n",
      "found shapes parquet at gs://calitp-analytics-data/data-analyses/rt_delay/v2_cached_views/shapes_260_2023-07-12.parquet\n",
      "295\n",
      "found shapes parquet at gs://calitp-analytics-data/data-analyses/rt_delay/v2_cached_views/shapes_295_2023-07-12.parquet\n",
      "110\n",
      "found shapes parquet at gs://calitp-analytics-data/data-analyses/rt_delay/v2_cached_views/shapes_110_2023-07-12.parquet\n",
      "182\n",
      "found shapes parquet at gs://calitp-analytics-data/data-analyses/rt_delay/v2_cached_views/shapes_182_2023-07-12.parquet\n",
      "261\n",
      "found shapes parquet at gs://calitp-analytics-data/data-analyses/rt_delay/v2_cached_views/shapes_261_2023-07-12.parquet\n",
      "300\n",
      "found shapes parquet at gs://calitp-analytics-data/data-analyses/rt_delay/v2_cached_views/shapes_300_2023-07-12.parquet\n",
      "336\n",
      "found shapes parquet at gs://calitp-analytics-data/data-analyses/rt_delay/v2_cached_views/shapes_336_2023-07-12.parquet\n",
      "127\n",
      "found shapes parquet at gs://calitp-analytics-data/data-analyses/rt_delay/v2_cached_views/shapes_127_2023-07-12.parquet\n",
      "99\n",
      "found shapes parquet at gs://calitp-analytics-data/data-analyses/rt_delay/v2_cached_views/shapes_99_2023-07-12.parquet\n",
      "349\n",
      "found shapes parquet at gs://calitp-analytics-data/data-analyses/rt_delay/v2_cached_views/shapes_349_2023-07-12.parquet\n",
      "231\n",
      "found shapes parquet at gs://calitp-analytics-data/data-analyses/rt_delay/v2_cached_views/shapes_231_2023-07-12.parquet\n",
      "380\n",
      "found shapes parquet at gs://calitp-analytics-data/data-analyses/rt_delay/v2_cached_views/shapes_380_2023-07-12.parquet\n",
      "123\n",
      "found shapes parquet at gs://calitp-analytics-data/data-analyses/rt_delay/v2_cached_views/shapes_123_2023-07-12.parquet\n",
      "308\n",
      "found shapes parquet at gs://calitp-analytics-data/data-analyses/rt_delay/v2_cached_views/shapes_308_2023-07-12.parquet\n",
      "210\n",
      "found shapes parquet at gs://calitp-analytics-data/data-analyses/rt_delay/v2_cached_views/shapes_210_2023-07-12.parquet\n",
      "337\n",
      "found shapes parquet at gs://calitp-analytics-data/data-analyses/rt_delay/v2_cached_views/shapes_337_2023-07-12.parquet\n",
      "54\n",
      "found shapes parquet at gs://calitp-analytics-data/data-analyses/rt_delay/v2_cached_views/shapes_54_2023-07-12.parquet\n",
      "126\n",
      "found shapes parquet at gs://calitp-analytics-data/data-analyses/rt_delay/v2_cached_views/shapes_126_2023-07-12.parquet\n",
      "24\n",
      "found shapes parquet at gs://calitp-analytics-data/data-analyses/rt_delay/v2_cached_views/shapes_24_2023-07-12.parquet\n",
      "159\n",
      "found shapes parquet at gs://calitp-analytics-data/data-analyses/rt_delay/v2_cached_views/shapes_159_2023-07-12.parquet\n",
      "116\n",
      "found shapes parquet at gs://calitp-analytics-data/data-analyses/rt_delay/v2_cached_views/shapes_116_2023-07-12.parquet\n",
      "218\n",
      "found shapes parquet at gs://calitp-analytics-data/data-analyses/rt_delay/v2_cached_views/shapes_218_2023-07-12.parquet\n",
      "294\n",
      "found shapes parquet at gs://calitp-analytics-data/data-analyses/rt_delay/v2_cached_views/shapes_294_2023-07-12.parquet\n",
      "278\n",
      "found shapes parquet at gs://calitp-analytics-data/data-analyses/rt_delay/v2_cached_views/shapes_278_2023-07-12.parquet\n",
      "277\n",
      "found shapes parquet at gs://calitp-analytics-data/data-analyses/rt_delay/v2_cached_views/shapes_277_2023-07-12.parquet\n",
      "235\n",
      "found shapes parquet at gs://calitp-analytics-data/data-analyses/rt_delay/v2_cached_views/shapes_235_2023-07-12.parquet\n",
      "372\n",
      "found shapes parquet at gs://calitp-analytics-data/data-analyses/rt_delay/v2_cached_views/shapes_372_2023-07-12.parquet\n",
      "87\n",
      "found shapes parquet at gs://calitp-analytics-data/data-analyses/rt_delay/v2_cached_views/shapes_87_2023-07-12.parquet\n",
      "226\n",
      "found shapes parquet at gs://calitp-analytics-data/data-analyses/rt_delay/v2_cached_views/shapes_226_2023-07-12.parquet\n",
      "228\n",
      "found shapes parquet at gs://calitp-analytics-data/data-analyses/rt_delay/v2_cached_views/shapes_228_2023-07-12.parquet\n",
      "247\n",
      "found shapes parquet at gs://calitp-analytics-data/data-analyses/rt_delay/v2_cached_views/shapes_247_2023-07-12.parquet\n",
      "259\n",
      "found shapes parquet at gs://calitp-analytics-data/data-analyses/rt_delay/v2_cached_views/shapes_259_2023-07-12.parquet\n",
      "282\n",
      "found shapes parquet at gs://calitp-analytics-data/data-analyses/rt_delay/v2_cached_views/shapes_282_2023-07-12.parquet\n",
      "4\n",
      "found shapes parquet at gs://calitp-analytics-data/data-analyses/rt_delay/v2_cached_views/shapes_4_2023-07-12.parquet\n",
      "198\n",
      "found shapes parquet at gs://calitp-analytics-data/data-analyses/rt_delay/v2_cached_views/shapes_198_2023-07-12.parquet\n",
      "188\n",
      "found shapes parquet at gs://calitp-analytics-data/data-analyses/rt_delay/v2_cached_views/shapes_188_2023-07-12.parquet\n",
      "331\n",
      "found shapes parquet at gs://calitp-analytics-data/data-analyses/rt_delay/v2_cached_views/shapes_331_2023-07-12.parquet\n",
      "489\n",
      "found shapes parquet at gs://calitp-analytics-data/data-analyses/rt_delay/v2_cached_views/shapes_489_2023-07-12.parquet\n",
      "273\n",
      "found shapes parquet at gs://calitp-analytics-data/data-analyses/rt_delay/v2_cached_views/shapes_273_2023-07-12.parquet\n",
      "280\n",
      "found shapes parquet at gs://calitp-analytics-data/data-analyses/rt_delay/v2_cached_views/shapes_280_2023-07-12.parquet\n",
      "16\n",
      "found shapes parquet at gs://calitp-analytics-data/data-analyses/rt_delay/v2_cached_views/shapes_16_2023-07-12.parquet\n",
      "194\n",
      "found shapes parquet at gs://calitp-analytics-data/data-analyses/rt_delay/v2_cached_views/shapes_194_2023-07-12.parquet\n",
      "42\n",
      "found shapes parquet at gs://calitp-analytics-data/data-analyses/rt_delay/v2_cached_views/shapes_42_2023-07-12.parquet\n",
      "108\n",
      "found shapes parquet at gs://calitp-analytics-data/data-analyses/rt_delay/v2_cached_views/shapes_108_2023-07-12.parquet\n",
      "135\n",
      "found shapes parquet at gs://calitp-analytics-data/data-analyses/rt_delay/v2_cached_views/shapes_135_2023-07-12.parquet\n",
      "18\n",
      "found shapes parquet at gs://calitp-analytics-data/data-analyses/rt_delay/v2_cached_views/shapes_18_2023-07-12.parquet\n"
     ]
    }
   ],
   "source": [
    "all_segment_gdfs = []\n",
    "analysis_date = progress_df.analysis_date.iloc[0]\n",
    "for itp_id in progress_df.organization_itp_id:\n",
    "# for itp_id in [350, 4]:\n",
    "    print(itp_id)\n",
    "    try:\n",
    "        # all-day speeds (no filter)\n",
    "        rt_day = rt_filter_map_plot.from_gcs(itp_id, analysis_date)\n",
    "        _m = rt_day.segment_speed_map(how='low_speeds', no_title=True, shn=True,\n",
    "                             no_render=True\n",
    "                            )\n",
    "    \n",
    "        dmv_proj = rt_day.detailed_map_view.to_crs(shared_utils.geography_utils.CA_NAD83Albers)\n",
    "        \n",
    "        all_segment_gdfs += [dmv_proj]\n",
    "    except Exception as e:\n",
    "        print(f'{itp_id}, {e}')"
   ]
  },
  {
   "cell_type": "code",
   "execution_count": 62,
   "id": "f8f94651-1c40-4ba1-8157-6bd286fc64ea",
   "metadata": {},
   "outputs": [],
   "source": [
    "pd.concat(all_segment_gdfs).to_parquet(f'segments_all_{analysis_date}.parquet')"
   ]
  },
  {
   "cell_type": "markdown",
   "id": "02d6b5f2-a8e6-4c27-8d9d-79ef17d06762",
   "metadata": {},
   "source": [
    "## Reference Histograms for subscores"
   ]
  },
  {
   "cell_type": "code",
   "execution_count": 212,
   "id": "35acb576-b985-4f91-8e82-b5f753ce456d",
   "metadata": {},
   "outputs": [
    {
     "data": {
      "text/plain": [
       "Index(['stop_id', 'stop_name', 'geometry', 'shape_id', 'stop_sequence',\n",
       "       'route_id', 'route_short_name', 'direction_id', 'p50_mph', 'p20_mph',\n",
       "       'p80_mph', 'fast_slow_ratio', 'trips_per_hour', 'miles_from_last',\n",
       "       'time_formatted', 'imms_id', 'location', 'start_distance',\n",
       "       'end_distance', 'approaching', 'decile_from_system_p50',\n",
       "       'decile_from_20mph', 'speed_score', 'variability_score',\n",
       "       'frequency_score', 'combined_score'],\n",
       "      dtype='object')"
      ]
     },
     "execution_count": 212,
     "metadata": {},
     "output_type": "execute_result"
    }
   ],
   "source": [
    "df.columns"
   ]
  },
  {
   "cell_type": "code",
   "execution_count": 213,
   "id": "fee5bf32-4b2d-4102-81c2-3641888632fe",
   "metadata": {},
   "outputs": [],
   "source": [
    "test = df >> arrange(-_.combined_score) >> head(15)"
   ]
  },
  {
   "cell_type": "code",
   "execution_count": 214,
   "id": "097e4f04-7fd1-47cc-8bd0-17bf40d1bf77",
   "metadata": {},
   "outputs": [
    {
     "name": "stdout",
     "output_type": "stream",
     "text": [
      "writing to calitp-map-tiles/testing/signal_join_test1.geojson.gz\n"
     ]
    },
    {
     "data": {
      "text/plain": [
       "{'state_dict': {'name': 'null',\n",
       "  'layers': [{'name': 'Map',\n",
       "    'url': 'https://storage.googleapis.com/calitp-map-tiles/testing/signal_join_test1.geojson.gz',\n",
       "    'properties': {'stroked': False, 'highlight_saturation_multiplier': 0.5}}],\n",
       "  'lat_lon': (34.02889742320673, -118.44357591292896),\n",
       "  'zoom': 13,\n",
       "  'legend_url': 'https://storage.googleapis.com/calitp-map-tiles/speeds_legend.svg'},\n",
       " 'spa_link': 'https://embeddable-maps.calitp.org/?state=eyJuYW1lIjogIm51bGwiLCAibGF5ZXJzIjogW3sibmFtZSI6ICJNYXAiLCAidXJsIjogImh0dHBzOi8vc3RvcmFnZS5nb29nbGVhcGlzLmNvbS9jYWxpdHAtbWFwLXRpbGVzL3Rlc3Rpbmcvc2lnbmFsX2pvaW5fdGVzdDEuZ2VvanNvbi5neiIsICJwcm9wZXJ0aWVzIjogeyJzdHJva2VkIjogZmFsc2UsICJoaWdobGlnaHRfc2F0dXJhdGlvbl9tdWx0aXBsaWVyIjogMC41fX1dLCAibGF0X2xvbiI6IFszNC4wMjg4OTc0MjMyMDY3MywgLTExOC40NDM1NzU5MTI5Mjg5Nl0sICJ6b29tIjogMTMsICJsZWdlbmRfdXJsIjogImh0dHBzOi8vc3RvcmFnZS5nb29nbGVhcGlzLmNvbS9jYWxpdHAtbWFwLXRpbGVzL3NwZWVkc19sZWdlbmQuc3ZnIn0='}"
      ]
     },
     "execution_count": 214,
     "metadata": {},
     "output_type": "execute_result"
    }
   ],
   "source": [
    "rt_utils.set_state_export(test,\n",
    "                          filename='signal_join_test1', cache_seconds=0,\n",
    "                          cmap=rt_utils.ZERO_THIRTY_COLORSCALE, color_col='p20_mph',\n",
    "                          legend_url=rt_utils.SPEEDMAP_LEGEND_URL\n",
    "                    )"
   ]
  },
  {
   "cell_type": "markdown",
   "id": "d172b0d0-938a-44ac-848b-ffacd8620ad9",
   "metadata": {},
   "source": [
    "# Score everything!"
   ]
  },
  {
   "cell_type": "code",
   "execution_count": 223,
   "id": "1e1531d7-50b3-4450-9787-e000b1db2ecb",
   "metadata": {},
   "outputs": [
    {
     "data": {
      "text/html": [
       "<div>\n",
       "<style scoped>\n",
       "    .dataframe tbody tr th:only-of-type {\n",
       "        vertical-align: middle;\n",
       "    }\n",
       "\n",
       "    .dataframe tbody tr th {\n",
       "        vertical-align: top;\n",
       "    }\n",
       "\n",
       "    .dataframe thead th {\n",
       "        text-align: right;\n",
       "    }\n",
       "</style>\n",
       "<table border=\"1\" class=\"dataframe\">\n",
       "  <thead>\n",
       "    <tr style=\"text-align: right;\">\n",
       "      <th></th>\n",
       "      <th>organization_name</th>\n",
       "      <th>organization_itp_id</th>\n",
       "      <th>organization_source_record_id</th>\n",
       "      <th>caltrans_district</th>\n",
       "      <th>_is_current</th>\n",
       "      <th>analysis_date</th>\n",
       "      <th>status</th>\n",
       "    </tr>\n",
       "  </thead>\n",
       "  <tbody>\n",
       "    <tr>\n",
       "      <th>0</th>\n",
       "      <td>Cloverdale Transit</td>\n",
       "      <td>70</td>\n",
       "      <td>recRM3c9Zfaft4V2B</td>\n",
       "      <td>04 - Oakland</td>\n",
       "      <td>False</td>\n",
       "      <td>2023-07-12</td>\n",
       "      <td>map_confirmed</td>\n",
       "    </tr>\n",
       "    <tr>\n",
       "      <th>1</th>\n",
       "      <td>Sonoma County</td>\n",
       "      <td>314</td>\n",
       "      <td>recDupUxInMUgxeiz</td>\n",
       "      <td>04 - Oakland</td>\n",
       "      <td>False</td>\n",
       "      <td>2023-07-12</td>\n",
       "      <td>map_confirmed</td>\n",
       "    </tr>\n",
       "    <tr>\n",
       "      <th>2</th>\n",
       "      <td>Nevada County</td>\n",
       "      <td>221</td>\n",
       "      <td>reczUcQgqgtMpkpKC</td>\n",
       "      <td>03 - Marysville</td>\n",
       "      <td>True</td>\n",
       "      <td>2023-07-12</td>\n",
       "      <td>map_confirmed</td>\n",
       "    </tr>\n",
       "  </tbody>\n",
       "</table>\n",
       "</div>"
      ],
      "text/plain": [
       "    organization_name  organization_itp_id organization_source_record_id  \\\n",
       "0  Cloverdale Transit                   70             recRM3c9Zfaft4V2B   \n",
       "1       Sonoma County                  314             recDupUxInMUgxeiz   \n",
       "2       Nevada County                  221             reczUcQgqgtMpkpKC   \n",
       "\n",
       "  caltrans_district  _is_current analysis_date         status  \n",
       "0      04 - Oakland        False    2023-07-12  map_confirmed  \n",
       "1      04 - Oakland        False    2023-07-12  map_confirmed  \n",
       "2   03 - Marysville         True    2023-07-12  map_confirmed  "
      ]
     },
     "execution_count": 223,
     "metadata": {},
     "output_type": "execute_result"
    }
   ],
   "source": [
    "progress_df >> head(3)"
   ]
  },
  {
   "cell_type": "code",
   "execution_count": 233,
   "id": "aa381327-8d86-4483-be51-12958173a530",
   "metadata": {
    "collapsed": true,
    "jupyter": {
     "outputs_hidden": true
    },
    "tags": []
   },
   "outputs": [
    {
     "name": "stdout",
     "output_type": "stream",
     "text": [
      "70\n",
      "found shapes parquet at gs://calitp-analytics-data/data-analyses/rt_delay/v2_cached_views/shapes_70_2023-07-12.parquet\n",
      ".signals attribute added\n",
      ".signals_metrics attribute added\n",
      "314\n",
      "found shapes parquet at gs://calitp-analytics-data/data-analyses/rt_delay/v2_cached_views/shapes_314_2023-07-12.parquet\n",
      ".signals attribute added\n",
      ".signals_metrics attribute added\n",
      "221\n",
      "found shapes parquet at gs://calitp-analytics-data/data-analyses/rt_delay/v2_cached_views/shapes_221_2023-07-12.parquet\n",
      "stop_speeds shape: (0, 17), shape_id: p_857973\n",
      "stop speeds gdf is empty!\n",
      "stop_speeds shape: (0, 17), shape_id: p_1277435\n",
      "stop speeds gdf is empty!\n",
      ".signals attribute added\n",
      ".signals_metrics attribute added\n",
      "350\n",
      "found shapes parquet at gs://calitp-analytics-data/data-analyses/rt_delay/v2_cached_views/shapes_350_2023-07-12.parquet\n",
      ".signals attribute added\n",
      ".signals_metrics attribute added\n",
      "105\n",
      "found shapes parquet at gs://calitp-analytics-data/data-analyses/rt_delay/v2_cached_views/shapes_105_2023-07-12.parquet\n",
      ".signals attribute added\n",
      ".signals_metrics attribute added\n",
      "106\n",
      "found shapes parquet at gs://calitp-analytics-data/data-analyses/rt_delay/v2_cached_views/shapes_106_2023-07-12.parquet\n",
      ".signals attribute added\n",
      ".signals_metrics attribute added\n",
      "45\n",
      "found shapes parquet at gs://calitp-analytics-data/data-analyses/rt_delay/v2_cached_views/shapes_45_2023-07-12.parquet\n",
      ".signals attribute added\n",
      ".signals_metrics attribute added\n",
      "315\n",
      "found shapes parquet at gs://calitp-analytics-data/data-analyses/rt_delay/v2_cached_views/shapes_315_2023-07-12.parquet\n",
      ".signals attribute added\n",
      ".signals_metrics attribute added\n",
      "61\n",
      "found shapes parquet at gs://calitp-analytics-data/data-analyses/rt_delay/v2_cached_views/shapes_61_2023-07-12.parquet\n",
      "stop_speeds shape: (0, 17), shape_id: shp-27-01\n",
      "stop speeds gdf is empty!\n",
      ".signals attribute added\n",
      ".signals_metrics attribute added\n",
      "33\n",
      "found shapes parquet at gs://calitp-analytics-data/data-analyses/rt_delay/v2_cached_views/shapes_33_2023-07-12.parquet\n",
      ".signals attribute added\n",
      "33, 'GeoDataFrame' object has no attribute 'approaching'\n",
      "310\n",
      "found shapes parquet at gs://calitp-analytics-data/data-analyses/rt_delay/v2_cached_views/shapes_310_2023-07-12.parquet\n",
      ".signals attribute added\n",
      ".signals_metrics attribute added\n",
      "381\n",
      "found shapes parquet at gs://calitp-analytics-data/data-analyses/rt_delay/v2_cached_views/shapes_381_2023-07-12.parquet\n",
      ".signals attribute added\n",
      ".signals_metrics attribute added\n",
      "30\n",
      "found shapes parquet at gs://calitp-analytics-data/data-analyses/rt_delay/v2_cached_views/shapes_30_2023-07-12.parquet\n",
      ".signals attribute added\n",
      ".signals_metrics attribute added\n",
      "208\n",
      "found shapes parquet at gs://calitp-analytics-data/data-analyses/rt_delay/v2_cached_views/shapes_208_2023-07-12.parquet\n",
      ".signals attribute added\n",
      ".signals_metrics attribute added\n",
      "312\n",
      "found shapes parquet at gs://calitp-analytics-data/data-analyses/rt_delay/v2_cached_views/shapes_312_2023-07-12.parquet\n",
      ".signals attribute added\n",
      ".signals_metrics attribute added\n",
      "351\n",
      "found shapes parquet at gs://calitp-analytics-data/data-analyses/rt_delay/v2_cached_views/shapes_351_2023-07-12.parquet\n",
      "stop_speeds shape: (0, 18), shape_id: M_outbound\n",
      "Must pass array with one dimension only.\n",
      "stop_speeds shape: (0, 18), shape_id: C_outbound\n",
      "Must pass array with one dimension only.\n",
      "stop_speeds shape: (0, 18), shape_id: C_inbound\n",
      "Must pass array with one dimension only.\n",
      "stop_speeds shape: (0, 18), shape_id: B_outbound\n",
      "Must pass array with one dimension only.\n",
      "stop_speeds shape: (0, 18), shape_id: V_outbound\n",
      "Must pass array with one dimension only.\n",
      "351, over 2.5% of geometries invalid after buffer+simplify (76 / 78)\n",
      "360\n",
      "found shapes parquet at gs://calitp-analytics-data/data-analyses/rt_delay/v2_cached_views/shapes_360_2023-07-12.parquet\n",
      ".signals attribute added\n",
      ".signals_metrics attribute added\n",
      "290\n",
      "found shapes parquet at gs://calitp-analytics-data/data-analyses/rt_delay/v2_cached_views/shapes_290_2023-07-12.parquet\n",
      "stop_speeds shape: (0, 18), shape_id: 1380003\n",
      "Must pass array with one dimension only.\n",
      "stop_speeds shape: (0, 18), shape_id: 1380005\n",
      "Must pass array with one dimension only.\n",
      ".signals attribute added\n",
      ".signals_metrics attribute added\n",
      "148\n",
      "found shapes parquet at gs://calitp-analytics-data/data-analyses/rt_delay/v2_cached_views/shapes_148_2023-07-12.parquet\n",
      "stop_speeds shape: (0, 17), shape_id: 16\n",
      "stop speeds gdf is empty!\n",
      ".signals attribute added\n",
      ".signals_metrics attribute added\n",
      "293\n",
      "found shapes parquet at gs://calitp-analytics-data/data-analyses/rt_delay/v2_cached_views/shapes_293_2023-07-12.parquet\n",
      ".signals attribute added\n",
      ".signals_metrics attribute added\n",
      "246\n",
      "found shapes parquet at gs://calitp-analytics-data/data-analyses/rt_delay/v2_cached_views/shapes_246_2023-07-12.parquet\n",
      ".signals attribute added\n",
      ".signals_metrics attribute added\n",
      "34\n",
      "found shapes parquet at gs://calitp-analytics-data/data-analyses/rt_delay/v2_cached_views/shapes_34_2023-07-12.parquet\n",
      ".signals attribute added\n",
      ".signals_metrics attribute added\n",
      "298\n",
      "found shapes parquet at gs://calitp-analytics-data/data-analyses/rt_delay/v2_cached_views/shapes_298_2023-07-12.parquet\n",
      ".signals attribute added\n",
      ".signals_metrics attribute added\n",
      "301\n",
      "found shapes parquet at gs://calitp-analytics-data/data-analyses/rt_delay/v2_cached_views/shapes_301_2023-07-12.parquet\n",
      ".signals attribute added\n",
      ".signals_metrics attribute added\n",
      "486\n",
      "found shapes parquet at gs://calitp-analytics-data/data-analyses/rt_delay/v2_cached_views/shapes_486_2023-07-12.parquet\n",
      "stop_speeds shape: (0, 18), shape_id: f4246871-3d42-4100-92fc-18af2656eb67\n",
      "Must pass array with one dimension only.\n",
      ".signals attribute added\n",
      "486, 'GeoDataFrame' object has no attribute 'approaching'\n",
      "269\n",
      "found shapes parquet at gs://calitp-analytics-data/data-analyses/rt_delay/v2_cached_views/shapes_269_2023-07-12.parquet\n",
      ".signals attribute added\n",
      ".signals_metrics attribute added\n",
      "75\n",
      "found shapes parquet at gs://calitp-analytics-data/data-analyses/rt_delay/v2_cached_views/shapes_75_2023-07-12.parquet\n",
      ".signals attribute added\n",
      ".signals_metrics attribute added\n",
      "368\n",
      "found shapes parquet at gs://calitp-analytics-data/data-analyses/rt_delay/v2_cached_views/shapes_368_2023-07-12.parquet\n",
      ".signals attribute added\n",
      ".signals_metrics attribute added\n",
      "183\n",
      "found shapes parquet at gs://calitp-analytics-data/data-analyses/rt_delay/v2_cached_views/shapes_183_2023-07-12.parquet\n",
      ".signals attribute added\n",
      ".signals_metrics attribute added\n",
      "243\n",
      "found shapes parquet at gs://calitp-analytics-data/data-analyses/rt_delay/v2_cached_views/shapes_243_2023-07-12.parquet\n",
      ".signals attribute added\n",
      ".signals_metrics attribute added\n",
      "339\n",
      "found shapes parquet at gs://calitp-analytics-data/data-analyses/rt_delay/v2_cached_views/shapes_339_2023-07-12.parquet\n",
      ".signals attribute added\n",
      ".signals_metrics attribute added\n",
      "296\n",
      "found shapes parquet at gs://calitp-analytics-data/data-analyses/rt_delay/v2_cached_views/shapes_296_2023-07-12.parquet\n",
      ".signals attribute added\n",
      ".signals_metrics attribute added\n",
      "167\n",
      "found shapes parquet at gs://calitp-analytics-data/data-analyses/rt_delay/v2_cached_views/shapes_167_2023-07-12.parquet\n",
      "stop_speeds shape: (0, 18), shape_id: 42017\n",
      "Must pass array with one dimension only.\n",
      ".signals attribute added\n",
      ".signals_metrics attribute added\n",
      "260\n",
      "found shapes parquet at gs://calitp-analytics-data/data-analyses/rt_delay/v2_cached_views/shapes_260_2023-07-12.parquet\n",
      ".signals attribute added\n",
      ".signals_metrics attribute added\n",
      "295\n",
      "found shapes parquet at gs://calitp-analytics-data/data-analyses/rt_delay/v2_cached_views/shapes_295_2023-07-12.parquet\n",
      ".signals attribute added\n",
      ".signals_metrics attribute added\n",
      "110\n",
      "found shapes parquet at gs://calitp-analytics-data/data-analyses/rt_delay/v2_cached_views/shapes_110_2023-07-12.parquet\n",
      "stop_speeds shape: (0, 18), shape_id: p_1432448\n",
      "Must pass array with one dimension only.\n",
      "stop_speeds shape: (0, 18), shape_id: p_1432449\n",
      "Must pass array with one dimension only.\n",
      ".signals attribute added\n",
      ".signals_metrics attribute added\n",
      "182\n",
      "found shapes parquet at gs://calitp-analytics-data/data-analyses/rt_delay/v2_cached_views/shapes_182_2023-07-12.parquet\n",
      "stop_speeds shape: (0, 18), shape_id: 7201294_JUNE23\n",
      "Must pass array with one dimension only.\n",
      ".signals attribute added\n",
      "235, 'GeoDataFrame' object has no attribute 'approaching'\n",
      "372\n",
      "found shapes parquet at gs://calitp-analytics-data/data-analyses/rt_delay/v2_cached_views/shapes_372_2023-07-12.parquet\n",
      ".signals attribute added\n",
      ".signals_metrics attribute added\n",
      "87\n",
      "found shapes parquet at gs://calitp-analytics-data/data-analyses/rt_delay/v2_cached_views/shapes_87_2023-07-12.parquet\n",
      ".signals attribute added\n",
      ".signals_metrics attribute added\n",
      "226\n",
      "found shapes parquet at gs://calitp-analytics-data/data-analyses/rt_delay/v2_cached_views/shapes_226_2023-07-12.parquet\n",
      "stop_speeds shape: (0, 17), shape_id: 3590013\n",
      "stop speeds gdf is empty!\n",
      "stop_speeds shape: (0, 17), shape_id: 3550013\n",
      "stop speeds gdf is empty!\n",
      "stop_speeds shape: (0, 17), shape_id: 3520041\n",
      "stop speeds gdf is empty!\n",
      "stop_speeds shape: (0, 17), shape_id: 3510048\n",
      "stop speeds gdf is empty!\n",
      ".signals attribute added\n",
      ".signals_metrics attribute added\n",
      "228\n",
      "found shapes parquet at gs://calitp-analytics-data/data-analyses/rt_delay/v2_cached_views/shapes_228_2023-07-12.parquet\n",
      ".signals attribute added\n",
      ".signals_metrics attribute added\n",
      "247\n",
      "found shapes parquet at gs://calitp-analytics-data/data-analyses/rt_delay/v2_cached_views/shapes_247_2023-07-12.parquet\n",
      ".signals attribute added\n",
      ".signals_metrics attribute added\n",
      "259\n",
      "found shapes parquet at gs://calitp-analytics-data/data-analyses/rt_delay/v2_cached_views/shapes_259_2023-07-12.parquet\n",
      ".signals attribute added\n",
      ".signals_metrics attribute added\n",
      "282\n",
      "found shapes parquet at gs://calitp-analytics-data/data-analyses/rt_delay/v2_cached_views/shapes_282_2023-07-12.parquet\n",
      ".signals attribute added\n",
      ".signals_metrics attribute added\n",
      "4\n",
      "found shapes parquet at gs://calitp-analytics-data/data-analyses/rt_delay/v2_cached_views/shapes_4_2023-07-12.parquet\n",
      ".signals attribute added\n",
      ".signals_metrics attribute added\n",
      "198\n",
      "found shapes parquet at gs://calitp-analytics-data/data-analyses/rt_delay/v2_cached_views/shapes_198_2023-07-12.parquet\n",
      ".signals attribute added\n",
      ".signals_metrics attribute added\n",
      "188\n",
      "found shapes parquet at gs://calitp-analytics-data/data-analyses/rt_delay/v2_cached_views/shapes_188_2023-07-12.parquet\n",
      ".signals attribute added\n",
      ".signals_metrics attribute added\n",
      "331\n",
      "found shapes parquet at gs://calitp-analytics-data/data-analyses/rt_delay/v2_cached_views/shapes_331_2023-07-12.parquet\n",
      ".signals attribute added\n",
      ".signals_metrics attribute added\n",
      "489\n",
      "found shapes parquet at gs://calitp-analytics-data/data-analyses/rt_delay/v2_cached_views/shapes_489_2023-07-12.parquet\n",
      ".signals attribute added\n",
      ".signals_metrics attribute added\n",
      "273\n",
      "found shapes parquet at gs://calitp-analytics-data/data-analyses/rt_delay/v2_cached_views/shapes_273_2023-07-12.parquet\n",
      ".signals attribute added\n",
      ".signals_metrics attribute added\n",
      "280\n",
      "found shapes parquet at gs://calitp-analytics-data/data-analyses/rt_delay/v2_cached_views/shapes_280_2023-07-12.parquet\n",
      "stop_speeds shape: (0, 18), shape_id: p_530962\n",
      "Must pass array with one dimension only.\n",
      "stop_speeds shape: (0, 18), shape_id: p_298493\n",
      "Must pass array with one dimension only.\n",
      ".signals attribute added\n",
      "280, 'GeoDataFrame' object has no attribute 'approaching'\n",
      "16\n",
      "found shapes parquet at gs://calitp-analytics-data/data-analyses/rt_delay/v2_cached_views/shapes_16_2023-07-12.parquet\n",
      ".signals attribute added\n",
      ".signals_metrics attribute added\n",
      "194\n",
      "found shapes parquet at gs://calitp-analytics-data/data-analyses/rt_delay/v2_cached_views/shapes_194_2023-07-12.parquet\n",
      ".signals attribute added\n",
      ".signals_metrics attribute added\n",
      "42\n",
      "found shapes parquet at gs://calitp-analytics-data/data-analyses/rt_delay/v2_cached_views/shapes_42_2023-07-12.parquet\n",
      "stop_speeds shape: (0, 18), shape_id: p_1277369\n",
      "Must pass array with one dimension only.\n",
      ".signals attribute added\n",
      ".signals_metrics attribute added\n",
      "108\n",
      "found shapes parquet at gs://calitp-analytics-data/data-analyses/rt_delay/v2_cached_views/shapes_108_2023-07-12.parquet\n",
      "stop_speeds shape: (0, 18), shape_id: p_1277369\n",
      "Must pass array with one dimension only.\n",
      ".signals attribute added\n",
      ".signals_metrics attribute added\n",
      "135\n",
      "found shapes parquet at gs://calitp-analytics-data/data-analyses/rt_delay/v2_cached_views/shapes_135_2023-07-12.parquet\n",
      "stop_speeds shape: (0, 18), shape_id: p_1277369\n",
      "Must pass array with one dimension only.\n",
      ".signals attribute added\n",
      ".signals_metrics attribute added\n",
      "18\n",
      "found shapes parquet at gs://calitp-analytics-data/data-analyses/rt_delay/v2_cached_views/shapes_18_2023-07-12.parquet\n",
      "stop_speeds shape: (0, 18), shape_id: p_1277369\n",
      "Must pass array with one dimension only.\n",
      ".signals attribute added\n",
      ".signals_metrics attribute added\n"
     ]
    }
   ],
   "source": [
    "path = './signals_2023-06-12.xlsx'\n",
    "signal_gdf = signal_tools.read_signal_excel(path)\n",
    "\n",
    "all_metric_gdfs = []\n",
    "for itp_id in progress_df.organization_itp_id:\n",
    "# for itp_id in [350, 4]:\n",
    "    print(itp_id)\n",
    "    try:\n",
    "        # all-day speeds (no filter)\n",
    "        rt_day = rt_filter_map_plot.from_gcs(itp_id, progress_df.analysis_date.iloc[0])\n",
    "        signal_tools.generate_speedmap_buffer_signals(rt_day, signal_gdf)\n",
    "        signal_tools.calculate_signal_metric(rt_day)\n",
    "        \n",
    "        all_metric_gdfs += [rt_day.signals_metrics]\n",
    "    except Exception as e:\n",
    "        print(f'{itp_id}, {e}')"
   ]
  },
  {
   "cell_type": "code",
   "execution_count": 238,
   "id": "a1f7848a-cd4e-4612-90b2-e01ff1fb9ed5",
   "metadata": {},
   "outputs": [],
   "source": [
    "gdf_all = pd.concat(all_metric_gdfs)\n",
    "gdf_all.to_parquet('./_signal_metrics_gdf.parquet')"
   ]
  },
  {
   "cell_type": "code",
   "execution_count": 239,
   "id": "ce1c5f83-2685-4e19-9c28-b3012ef744a4",
   "metadata": {},
   "outputs": [],
   "source": [
    "df_all = gdf_all >> group_by(_.imms_id) >> summarize(speed_score = _.speed_score.median(),\n",
    "                                            variability_score = _.variability_score.median(),\n",
    "                                            frequency_score = _.frequency_score.median(),\n",
    "                                            overall_transit_score = _.combined_score.median(),\n",
    "                                           )\n",
    "df_all.to_parquet('./_signal_metrics_df.parquet')"
   ]
  },
  {
   "cell_type": "code",
   "execution_count": 242,
   "id": "f0206612-7f4a-43c1-af09-870a215b249a",
   "metadata": {},
   "outputs": [],
   "source": [
    "df_all = df_all.rename(columns={'imms_id': \"IMMS ID\"})"
   ]
  },
  {
   "cell_type": "code",
   "execution_count": 244,
   "id": "d5772287-bb34-4f39-bf33-729b171347a4",
   "metadata": {},
   "outputs": [],
   "source": [
    "original_format = pd.read_excel('./signals_2023-06-12.xlsx') >> inner_join(_, df_all, on = ['IMMS ID'])"
   ]
  },
  {
   "cell_type": "code",
   "execution_count": 245,
   "id": "9ecc94a6-3327-4c65-ab5c-d69a95630769",
   "metadata": {},
   "outputs": [],
   "source": [
    "original_format.to_excel('transit_score_signals_2023-06-12.xlsx')"
   ]
  }
 ],
 "metadata": {
  "kernelspec": {
   "display_name": "Python 3 (ipykernel)",
   "language": "python",
   "name": "python3"
  },
  "language_info": {
   "codemirror_mode": {
    "name": "ipython",
    "version": 3
   },
   "file_extension": ".py",
   "mimetype": "text/x-python",
   "name": "python",
   "nbconvert_exporter": "python",
   "pygments_lexer": "ipython3",
   "version": "3.9.13"
  },
  "widgets": {
   "application/vnd.jupyter.widget-state+json": {
    "state": {
     "2949772bc3eb4f66b40f735ebf941d04": {
      "model_module": "@jupyter-widgets/controls",
      "model_module_version": "1.5.0",
      "model_name": "HTMLModel",
      "state": {
       "layout": "IPY_MODEL_a60078ec77c0457f99b184fdb48169aa",
       "style": "IPY_MODEL_572ff51125264b668095439ba10cf223",
       "value": " 0/? [00:00&lt;?, ?it/s]"
      }
     },
     "30b89d53bec348578135e53a0b75ec4c": {
      "model_module": "@jupyter-widgets/controls",
      "model_module_version": "1.5.0",
      "model_name": "HBoxModel",
      "state": {
       "children": [
        "IPY_MODEL_c8720082ae974c308e7abf5274468841",
        "IPY_MODEL_ceb75600a94a493b82c59b459709a46f",
        "IPY_MODEL_2949772bc3eb4f66b40f735ebf941d04"
       ],
       "layout": "IPY_MODEL_3b999b746dc146ab9c53d82d1355ba89"
      }
     },
     "321b8dabbedc49d4a708fa4a7cf3f3dd": {
      "model_module": "@jupyter-widgets/controls",
      "model_module_version": "1.5.0",
      "model_name": "HTMLModel",
      "state": {
       "layout": "IPY_MODEL_93fb183bb0de48dc81a26a0383cf0457",
       "style": "IPY_MODEL_607d3ca29cf34c13973ddd4b438fec52"
      }
     },
     "325130a1304c4106b947f79a7eb1ac0b": {
      "model_module": "@jupyter-widgets/controls",
      "model_module_version": "1.5.0",
      "model_name": "FloatProgressModel",
      "state": {
       "bar_style": "success",
       "layout": "IPY_MODEL_dfde7d628bae4eaeb259efc77ced9417",
       "max": 1,
       "style": "IPY_MODEL_8e2976c9cdf34b229e3b377b5e141f01"
      }
     },
     "3b999b746dc146ab9c53d82d1355ba89": {
      "model_module": "@jupyter-widgets/base",
      "model_module_version": "1.2.0",
      "model_name": "LayoutModel",
      "state": {}
     },
     "4f54ee1c5a6445ef8133aa596e2ae365": {
      "model_module": "@jupyter-widgets/base",
      "model_module_version": "1.2.0",
      "model_name": "LayoutModel",
      "state": {
       "width": "20px"
      }
     },
     "572ff51125264b668095439ba10cf223": {
      "model_module": "@jupyter-widgets/controls",
      "model_module_version": "1.5.0",
      "model_name": "DescriptionStyleModel",
      "state": {
       "description_width": ""
      }
     },
     "607d3ca29cf34c13973ddd4b438fec52": {
      "model_module": "@jupyter-widgets/controls",
      "model_module_version": "1.5.0",
      "model_name": "DescriptionStyleModel",
      "state": {
       "description_width": ""
      }
     },
     "78a1a8d581b647e2b418ef877d9a013e": {
      "model_module": "@jupyter-widgets/controls",
      "model_module_version": "1.5.0",
      "model_name": "ProgressStyleModel",
      "state": {
       "description_width": ""
      }
     },
     "8e2976c9cdf34b229e3b377b5e141f01": {
      "model_module": "@jupyter-widgets/controls",
      "model_module_version": "1.5.0",
      "model_name": "ProgressStyleModel",
      "state": {
       "description_width": ""
      }
     },
     "93fb183bb0de48dc81a26a0383cf0457": {
      "model_module": "@jupyter-widgets/base",
      "model_module_version": "1.2.0",
      "model_name": "LayoutModel",
      "state": {}
     },
     "a60078ec77c0457f99b184fdb48169aa": {
      "model_module": "@jupyter-widgets/base",
      "model_module_version": "1.2.0",
      "model_name": "LayoutModel",
      "state": {}
     },
     "b8d7021df6f24a769b48778a14803e95": {
      "model_module": "@jupyter-widgets/base",
      "model_module_version": "1.2.0",
      "model_name": "LayoutModel",
      "state": {}
     },
     "c8720082ae974c308e7abf5274468841": {
      "model_module": "@jupyter-widgets/controls",
      "model_module_version": "1.5.0",
      "model_name": "HTMLModel",
      "state": {
       "layout": "IPY_MODEL_d5bd16dd3f204275b1aa0c8efe33a5c6",
       "style": "IPY_MODEL_f3cd328576594299bde1886a12155466"
      }
     },
     "ceb75600a94a493b82c59b459709a46f": {
      "model_module": "@jupyter-widgets/controls",
      "model_module_version": "1.5.0",
      "model_name": "FloatProgressModel",
      "state": {
       "bar_style": "info",
       "layout": "IPY_MODEL_4f54ee1c5a6445ef8133aa596e2ae365",
       "max": 1,
       "style": "IPY_MODEL_78a1a8d581b647e2b418ef877d9a013e"
      }
     },
     "d5bd16dd3f204275b1aa0c8efe33a5c6": {
      "model_module": "@jupyter-widgets/base",
      "model_module_version": "1.2.0",
      "model_name": "LayoutModel",
      "state": {}
     },
     "d92c441f235a4af583a3629d1f40d3b8": {
      "model_module": "@jupyter-widgets/controls",
      "model_module_version": "1.5.0",
      "model_name": "DescriptionStyleModel",
      "state": {
       "description_width": ""
      }
     },
     "d9a925ec28e7440099bcbdcf805f832d": {
      "model_module": "@jupyter-widgets/base",
      "model_module_version": "1.2.0",
      "model_name": "LayoutModel",
      "state": {}
     },
     "dfde7d628bae4eaeb259efc77ced9417": {
      "model_module": "@jupyter-widgets/base",
      "model_module_version": "1.2.0",
      "model_name": "LayoutModel",
      "state": {
       "width": "20px"
      }
     },
     "f3cd328576594299bde1886a12155466": {
      "model_module": "@jupyter-widgets/controls",
      "model_module_version": "1.5.0",
      "model_name": "DescriptionStyleModel",
      "state": {
       "description_width": ""
      }
     },
     "f850c8b404d64e6a88855c9b47b80faa": {
      "model_module": "@jupyter-widgets/controls",
      "model_module_version": "1.5.0",
      "model_name": "HTMLModel",
      "state": {
       "layout": "IPY_MODEL_d9a925ec28e7440099bcbdcf805f832d",
       "style": "IPY_MODEL_d92c441f235a4af583a3629d1f40d3b8",
       "value": " 0/? [00:53&lt;?, ?it/s]"
      }
     },
     "f8867f26d1a54183969b36805dcdf49d": {
      "model_module": "@jupyter-widgets/controls",
      "model_module_version": "1.5.0",
      "model_name": "HBoxModel",
      "state": {
       "children": [
        "IPY_MODEL_321b8dabbedc49d4a708fa4a7cf3f3dd",
        "IPY_MODEL_325130a1304c4106b947f79a7eb1ac0b",
        "IPY_MODEL_f850c8b404d64e6a88855c9b47b80faa"
       ],
       "layout": "IPY_MODEL_b8d7021df6f24a769b48778a14803e95"
      }
     }
    },
    "version_major": 2,
    "version_minor": 0
   }
  }
 },
 "nbformat": 4,
 "nbformat_minor": 5
}
