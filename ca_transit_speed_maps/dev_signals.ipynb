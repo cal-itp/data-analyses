{
 "cells": [
  {
   "cell_type": "code",
   "execution_count": 1,
   "id": "46898b5c-b5cc-4096-ab68-8c3e42fab870",
   "metadata": {},
   "outputs": [],
   "source": [
    "%%capture\n",
    "import warnings\n",
    "warnings.filterwarnings('ignore')\n",
    "\n",
    "import os\n",
    "os.environ[\"CALITP_BQ_MAX_BYTES\"] = str(800_000_000_000)\n",
    "\n",
    "from calitp_data_analysis.tables import tbls\n",
    "\n",
    "from siuba import *\n",
    "import pandas as pd\n",
    "import geopandas as gpd\n",
    "\n",
    "import datetime as dt\n",
    "from rt_analysis import signal_tools, rt_filter_map_plot"
   ]
  },
  {
   "cell_type": "code",
   "execution_count": 2,
   "id": "8ea1749a-8c90-42f2-be2c-fdc793b2cc2e",
   "metadata": {},
   "outputs": [],
   "source": [
    "# from calitp_data_analysis import get_fs\n",
    "# fs = get_fs()"
   ]
  },
  {
   "cell_type": "markdown",
   "id": "07f3e240-429a-4f02-bef4-70882070f89e",
   "metadata": {},
   "source": [
    "# Signal Transit Scoring\n",
    "\n",
    "We used three scoring components for each signal: a speed component, speed variability component, and transit frequency component. Each component is scored 0-10, and the overall transit score is a sum of all three. Higher numbers indicate more delay, more unreliability, and more frequent transit, so based on our analysis the signals with the highest combined scores would be the place to start.\n",
    "\n",
    "Subscores are calculated seperately for all transit routes approaching a signal. To get the overall signal score, we sum the medians of all three subscores for that signal.\n",
    "\n",
    "## Speed Score\n",
    "\n",
    "Locates where transit speeds are relatively slow. Compares median speed of segment approaching signal to both the median speed for the entire transit system and a fixed value of 20mph.\n",
    "\n",
    "Basic formula: ((segment_median - reference_value) / reference_value) * 10\n",
    "\n",
    "Keep the lower of the two results from the two reference values (if transit system median speeds are above 20mph use that, otherwise use 20mph). Mask any positive scores to zero (speeds above reference), final score is the absolute value of the remaining negative scores.\n",
    "\n",
    "### Example\n",
    "\n",
    "* Median segment speed is 10mph and median system speed is 12mph. Since 12mph is below 20mph, use fixed 20mph for comparison formula: ((10mph - 20mph) / 20mph) * 10 = -5.0. Absolute value of -5 is 5 (final score).\n",
    "\n",
    "## Variability Score\n",
    "\n",
    "Ratio of 80%ile to 20%ile transit speeds * 3, with a max score of 10. Score 0 if 80%ile and 20%ile speeds the same.\n",
    "\n",
    "### Example\n",
    "\n",
    "* 80%ile transit speed 16mph and 20%ile speed 8mph, ratio is 2. Score is ratio * 3, 6.\n",
    "\n",
    "## Frequency Score\n",
    "\n",
    "Transit frequency (trips per hour) * 2, with a max score of 10.\n",
    "\n",
    "### Examples\n",
    "\n",
    "* 1 trip per hour = 2\n",
    "* 3 trips per hour = 6\n",
    "* 10 trips per hour = 10 (reached max score)"
   ]
  },
  {
   "cell_type": "code",
   "execution_count": 3,
   "id": "9273e17d-b127-4e35-a462-79f458ee0928",
   "metadata": {},
   "outputs": [],
   "source": [
    "# path = './signals_2024-01-16.xlsx'\n",
    "path = 'gs://calitp-analytics-data/data-analyses/rt_delay/signals/signals_2024-01-16.xlsx'\n",
    "signal_gdf = signal_tools.read_signal_excel(path)"
   ]
  },
  {
   "cell_type": "code",
   "execution_count": 4,
   "id": "0295b750-a7ae-4d1d-aa99-d87d451af7ed",
   "metadata": {},
   "outputs": [
    {
     "data": {
      "text/html": [
       "<div>\n",
       "<style scoped>\n",
       "    .dataframe tbody tr th:only-of-type {\n",
       "        vertical-align: middle;\n",
       "    }\n",
       "\n",
       "    .dataframe tbody tr th {\n",
       "        vertical-align: top;\n",
       "    }\n",
       "\n",
       "    .dataframe thead th {\n",
       "        text-align: right;\n",
       "    }\n",
       "</style>\n",
       "<table border=\"1\" class=\"dataframe\">\n",
       "  <thead>\n",
       "    <tr style=\"text-align: right;\">\n",
       "      <th></th>\n",
       "      <th>legacy_district_tms_id</th>\n",
       "      <th>detection_technology</th>\n",
       "      <th>funded</th>\n",
       "      <th>funded.1</th>\n",
       "      <th>user_program_type</th>\n",
       "      <th>am_tool_tms_worksheet::program_type</th>\n",
       "      <th>user_program_type.1</th>\n",
       "      <th>user_rtl</th>\n",
       "      <th>user_rtl.1</th>\n",
       "      <th>am_tool_tms_worksheet::rtl_plan_year</th>\n",
       "      <th>...</th>\n",
       "      <th>crosswalks_lpi_implemented</th>\n",
       "      <th>crosswalks_lpi_implemented_date</th>\n",
       "      <th>crosswalks_lpi_implemented_exception_comments</th>\n",
       "      <th>tms_unit_tech_projected_age</th>\n",
       "      <th>tms_id</th>\n",
       "      <th>am_tool_tms_worksheet::comments</th>\n",
       "      <th>owned_by</th>\n",
       "      <th>operated_by</th>\n",
       "      <th>maintained_by</th>\n",
       "      <th>geometry</th>\n",
       "    </tr>\n",
       "  </thead>\n",
       "  <tbody>\n",
       "    <tr>\n",
       "      <th>0</th>\n",
       "      <td>01DN101-E2590</td>\n",
       "      <td>NaN</td>\n",
       "      <td>Yes</td>\n",
       "      <td>Yes</td>\n",
       "      <td>HM</td>\n",
       "      <td>HM</td>\n",
       "      <td>HM</td>\n",
       "      <td>2024.0</td>\n",
       "      <td>2024.0</td>\n",
       "      <td>2025.0</td>\n",
       "      <td>...</td>\n",
       "      <td>None</td>\n",
       "      <td>NaT</td>\n",
       "      <td>NaN</td>\n",
       "      <td>-1</td>\n",
       "      <td>0110102584PA</td>\n",
       "      <td>chronic http://sv03tmctrac/projects/tms_suppor...</td>\n",
       "      <td>Caltrans(District)</td>\n",
       "      <td>Caltrans(District)</td>\n",
       "      <td>Caltrans(District)</td>\n",
       "      <td>POINT (-124.18538 41.75222)</td>\n",
       "    </tr>\n",
       "    <tr>\n",
       "      <th>1</th>\n",
       "      <td>01DN101-E2627</td>\n",
       "      <td>NaN</td>\n",
       "      <td>Yes</td>\n",
       "      <td>Yes</td>\n",
       "      <td>SHOPP</td>\n",
       "      <td>SHOPP</td>\n",
       "      <td>SHOPP</td>\n",
       "      <td>2031.0</td>\n",
       "      <td>2031.0</td>\n",
       "      <td>2031.0</td>\n",
       "      <td>...</td>\n",
       "      <td>None</td>\n",
       "      <td>NaT</td>\n",
       "      <td>NaN</td>\n",
       "      <td>-1</td>\n",
       "      <td>0110102627PS</td>\n",
       "      <td>NaN</td>\n",
       "      <td>Caltrans(District)</td>\n",
       "      <td>Caltrans(District)</td>\n",
       "      <td>Caltrans(District)</td>\n",
       "      <td>POINT (-124.19306 41.75281)</td>\n",
       "    </tr>\n",
       "    <tr>\n",
       "      <th>2</th>\n",
       "      <td>01DN101-E2640</td>\n",
       "      <td>NaN</td>\n",
       "      <td>Yes</td>\n",
       "      <td>Yes</td>\n",
       "      <td>SHOPP</td>\n",
       "      <td>SHOPP</td>\n",
       "      <td>SHOPP</td>\n",
       "      <td>2031.0</td>\n",
       "      <td>2031.0</td>\n",
       "      <td>2031.0</td>\n",
       "      <td>...</td>\n",
       "      <td>None</td>\n",
       "      <td>NaT</td>\n",
       "      <td>NaN</td>\n",
       "      <td>-1</td>\n",
       "      <td>0110102642PN</td>\n",
       "      <td>NaN</td>\n",
       "      <td>Caltrans(District)</td>\n",
       "      <td>Caltrans(District)</td>\n",
       "      <td>Caltrans(District)</td>\n",
       "      <td>POINT (-124.19447 41.75575)</td>\n",
       "    </tr>\n",
       "  </tbody>\n",
       "</table>\n",
       "<p>3 rows × 82 columns</p>\n",
       "</div>"
      ],
      "text/plain": [
       "  legacy_district_tms_id  detection_technology funded funded.1  \\\n",
       "0          01DN101-E2590                   NaN    Yes      Yes   \n",
       "1          01DN101-E2627                   NaN    Yes      Yes   \n",
       "2          01DN101-E2640                   NaN    Yes      Yes   \n",
       "\n",
       "  user_program_type am_tool_tms_worksheet::program_type user_program_type.1  \\\n",
       "0                HM                                  HM                  HM   \n",
       "1             SHOPP                               SHOPP               SHOPP   \n",
       "2             SHOPP                               SHOPP               SHOPP   \n",
       "\n",
       "   user_rtl  user_rtl.1  am_tool_tms_worksheet::rtl_plan_year  ...  \\\n",
       "0    2024.0      2024.0                                2025.0  ...   \n",
       "1    2031.0      2031.0                                2031.0  ...   \n",
       "2    2031.0      2031.0                                2031.0  ...   \n",
       "\n",
       "  crosswalks_lpi_implemented crosswalks_lpi_implemented_date  \\\n",
       "0                       None                             NaT   \n",
       "1                       None                             NaT   \n",
       "2                       None                             NaT   \n",
       "\n",
       "  crosswalks_lpi_implemented_exception_comments  tms_unit_tech_projected_age  \\\n",
       "0                                           NaN                           -1   \n",
       "1                                           NaN                           -1   \n",
       "2                                           NaN                           -1   \n",
       "\n",
       "         tms_id                    am_tool_tms_worksheet::comments  \\\n",
       "0  0110102584PA  chronic http://sv03tmctrac/projects/tms_suppor...   \n",
       "1  0110102627PS                                                NaN   \n",
       "2  0110102642PN                                                NaN   \n",
       "\n",
       "             owned_by         operated_by       maintained_by  \\\n",
       "0  Caltrans(District)  Caltrans(District)  Caltrans(District)   \n",
       "1  Caltrans(District)  Caltrans(District)  Caltrans(District)   \n",
       "2  Caltrans(District)  Caltrans(District)  Caltrans(District)   \n",
       "\n",
       "                      geometry  \n",
       "0  POINT (-124.18538 41.75222)  \n",
       "1  POINT (-124.19306 41.75281)  \n",
       "2  POINT (-124.19447 41.75575)  \n",
       "\n",
       "[3 rows x 82 columns]"
      ]
     },
     "execution_count": 4,
     "metadata": {},
     "output_type": "execute_result"
    }
   ],
   "source": [
    "signal_gdf >> head(3)"
   ]
  },
  {
   "cell_type": "markdown",
   "id": "cd0bb894-0642-4d93-a18f-5fcbf816d47d",
   "metadata": {},
   "source": [
    "# Rebuild analysis with latest speedmap data\n",
    "\n",
    "* switch to new speed data pending\n",
    "* sbmtd not available due to a feed upload gap, use last date"
   ]
  },
  {
   "cell_type": "code",
   "execution_count": 5,
   "id": "9833c499-ed4d-446e-8a81-f8f8a16ec3fd",
   "metadata": {},
   "outputs": [],
   "source": [
    "progress_df = pd.read_parquet('./_rt_progress_2023-11-15.parquet') >> filter(_.status == 'map_confirmed')"
   ]
  },
  {
   "cell_type": "code",
   "execution_count": 6,
   "id": "683d02c4-dd8e-49cc-9b40-eb5191c75787",
   "metadata": {},
   "outputs": [],
   "source": [
    "analysis_date = progress_df.analysis_date.iloc[0]"
   ]
  },
  {
   "cell_type": "code",
   "execution_count": 7,
   "id": "16fd160f-9737-4ba7-bd77-b53fc370e622",
   "metadata": {},
   "outputs": [
    {
     "data": {
      "application/vnd.jupyter.widget-view+json": {
       "model_id": "538b7695b7834f7fbd10d4fb66d0b56a",
       "version_major": 2,
       "version_minor": 0
      },
      "text/plain": [
       "0it [00:00, ?it/s]"
      ]
     },
     "metadata": {},
     "output_type": "display_data"
    }
   ],
   "source": [
    "from tqdm.notebook import tqdm\n",
    "pbar = tqdm()"
   ]
  },
  {
   "cell_type": "code",
   "execution_count": 8,
   "id": "20501148-48f4-4ec3-88b3-c7f369ee6248",
   "metadata": {
    "tags": []
   },
   "outputs": [],
   "source": [
    "# all_segment_gdf = signal_tools.concatenate_speedmap_segments(progress_df=progress_df, pbar=pbar)"
   ]
  },
  {
   "cell_type": "code",
   "execution_count": 9,
   "id": "94eba466-d0a9-4757-8c39-ea8d80ed5a18",
   "metadata": {},
   "outputs": [
    {
     "data": {
      "text/html": [
       "<div>\n",
       "<style scoped>\n",
       "    .dataframe tbody tr th:only-of-type {\n",
       "        vertical-align: middle;\n",
       "    }\n",
       "\n",
       "    .dataframe tbody tr th {\n",
       "        vertical-align: top;\n",
       "    }\n",
       "\n",
       "    .dataframe thead th {\n",
       "        text-align: right;\n",
       "    }\n",
       "</style>\n",
       "<table border=\"1\" class=\"dataframe\">\n",
       "  <thead>\n",
       "    <tr style=\"text-align: right;\">\n",
       "      <th></th>\n",
       "      <th>organization_name</th>\n",
       "      <th>organization_itp_id</th>\n",
       "      <th>organization_source_record_id</th>\n",
       "      <th>caltrans_district</th>\n",
       "      <th>_is_current</th>\n",
       "      <th>analysis_date</th>\n",
       "      <th>status</th>\n",
       "    </tr>\n",
       "  </thead>\n",
       "  <tbody>\n",
       "    <tr>\n",
       "      <th>19</th>\n",
       "      <td>Santa Barbara Metropolitan Transit District</td>\n",
       "      <td>293</td>\n",
       "      <td>recswCrw6a6htmXJ4</td>\n",
       "      <td>05 - San Luis Obispo</td>\n",
       "      <td>True</td>\n",
       "      <td>2023-11-15</td>\n",
       "      <td>map_confirmed</td>\n",
       "    </tr>\n",
       "  </tbody>\n",
       "</table>\n",
       "</div>"
      ],
      "text/plain": [
       "                              organization_name  organization_itp_id  \\\n",
       "19  Santa Barbara Metropolitan Transit District                  293   \n",
       "\n",
       "   organization_source_record_id     caltrans_district  _is_current  \\\n",
       "19             recswCrw6a6htmXJ4  05 - San Luis Obispo         True   \n",
       "\n",
       "   analysis_date         status  \n",
       "19    2023-11-15  map_confirmed  "
      ]
     },
     "execution_count": 9,
     "metadata": {},
     "output_type": "execute_result"
    }
   ],
   "source": [
    "progress_df >> filter(_.organization_itp_id == 293)"
   ]
  },
  {
   "cell_type": "code",
   "execution_count": 10,
   "id": "3e5a7a8b-4004-4be1-befc-18060e54c8cb",
   "metadata": {},
   "outputs": [],
   "source": [
    "import shared_utils"
   ]
  },
  {
   "cell_type": "code",
   "execution_count": 11,
   "id": "9d3750c4-e190-4586-984b-d460cfa8c769",
   "metadata": {},
   "outputs": [],
   "source": [
    "# ## use September run for SBMTD (data gap)\n",
    "\n",
    "# rt_day = rt_filter_map_plot.from_gcs(293, dt.date(2023, 9, 13), pbar)\n",
    "\n",
    "# _m = rt_day.segment_speed_map(how='low_speeds', no_title=True, shn=True,\n",
    "#                      no_render=True\n",
    "#                     )\n",
    "\n",
    "# dmv_proj = rt_day.detailed_map_view.to_crs(shared_utils.geography_utils.CA_NAD83Albers)\n",
    "# # re-add some identifiers since we won't have the instance handy\n",
    "# # dmv_proj['feed_key'] = rt_day.rt_trips.feed_key.iloc[0]\n",
    "# dmv_proj['gtfs_dataset_key'] = rt_day.rt_trips.gtfs_dataset_key.iloc[0]\n",
    "# dmv_proj['organization_name'] = rt_day.organization_name\n",
    "# dmv_proj['system_p50_median'] = dmv_proj.p50_mph.quantile(.5)"
   ]
  },
  {
   "cell_type": "code",
   "execution_count": 12,
   "id": "5ae2b65c-6038-441c-a654-115adfc46c34",
   "metadata": {},
   "outputs": [],
   "source": [
    "# all_segment_gdf = pd.concat([all_segment_gdf, dmv_proj])"
   ]
  },
  {
   "cell_type": "code",
   "execution_count": 13,
   "id": "b304edb0-480c-4024-93e5-ec166372d6b2",
   "metadata": {},
   "outputs": [],
   "source": [
    "# all_segment_gdf.to_parquet(f'segments_all_{analysis_date}.parquet')"
   ]
  },
  {
   "cell_type": "code",
   "execution_count": 14,
   "id": "8339e63c-1c73-4214-b189-d91fa7637e87",
   "metadata": {},
   "outputs": [],
   "source": [
    "# segment_lines_all = signal_tools.copy_segment_speeds(progress_df, date_exceptions = {293: dt.date(2023, 9, 13)})"
   ]
  },
  {
   "cell_type": "code",
   "execution_count": 15,
   "id": "f84fc9a0-7f16-452a-a7d8-60d1939262c9",
   "metadata": {},
   "outputs": [],
   "source": [
    "# segment_lines_all.to_parquet(f'./segment_lines_all_{analysis_date}.parquet')"
   ]
  },
  {
   "cell_type": "code",
   "execution_count": 16,
   "id": "48c3d301-0355-4b95-b8c3-419c9c345da3",
   "metadata": {},
   "outputs": [],
   "source": [
    "segments_all = gpd.read_parquet(f'segments_all_{analysis_date}.parquet')"
   ]
  },
  {
   "cell_type": "code",
   "execution_count": 17,
   "id": "5d48f027-f37a-4bda-8fe8-fd98a9a44391",
   "metadata": {},
   "outputs": [],
   "source": [
    "segment_lines_all = gpd.read_parquet(f'./segment_lines_all_{analysis_date}.parquet')"
   ]
  },
  {
   "cell_type": "code",
   "execution_count": 18,
   "id": "4df01400-1dd6-4d4e-a002-10f4dcb86756",
   "metadata": {},
   "outputs": [],
   "source": [
    "joined_seg_lines = signal_tools.sjoin_signals(signal_gdf = signal_gdf, segments_gdf = segments_all,\n",
    "                                              segments_lines_gdf = segment_lines_all)"
   ]
  },
  {
   "cell_type": "code",
   "execution_count": 19,
   "id": "bff01c77-d992-4f8a-98cb-4fc86d95e776",
   "metadata": {},
   "outputs": [],
   "source": [
    "joined_seg_lines = signal_tools.determine_approaching(joined_seg_lines)"
   ]
  },
  {
   "cell_type": "code",
   "execution_count": 20,
   "id": "ee781b1f-a9dc-4f69-b437-20cfc8bd94fa",
   "metadata": {},
   "outputs": [],
   "source": [
    "median_by_signal = signal_tools.calculate_scores(joined_seg_lines)"
   ]
  },
  {
   "cell_type": "code",
   "execution_count": 21,
   "id": "da74d527-1501-4906-a4fb-d84ae7dcae5b",
   "metadata": {},
   "outputs": [
    {
     "data": {
      "text/html": [
       "<div>\n",
       "<style scoped>\n",
       "    .dataframe tbody tr th:only-of-type {\n",
       "        vertical-align: middle;\n",
       "    }\n",
       "\n",
       "    .dataframe tbody tr th {\n",
       "        vertical-align: top;\n",
       "    }\n",
       "\n",
       "    .dataframe thead th {\n",
       "        text-align: right;\n",
       "    }\n",
       "</style>\n",
       "<table border=\"1\" class=\"dataframe\">\n",
       "  <thead>\n",
       "    <tr style=\"text-align: right;\">\n",
       "      <th></th>\n",
       "      <th>imms_id</th>\n",
       "      <th>location</th>\n",
       "      <th>speed_score</th>\n",
       "      <th>variability_score</th>\n",
       "      <th>frequency_score</th>\n",
       "      <th>overall_transit_score</th>\n",
       "    </tr>\n",
       "  </thead>\n",
       "  <tbody>\n",
       "    <tr>\n",
       "      <th>958</th>\n",
       "      <td>04SF101 -EZ465</td>\n",
       "      <td>13TH/S. VAN NESS and RTE 101 S/B ON-RAMP</td>\n",
       "      <td>7.0</td>\n",
       "      <td>7.0</td>\n",
       "      <td>10.0</td>\n",
       "      <td>24.0</td>\n",
       "    </tr>\n",
       "    <tr>\n",
       "      <th>959</th>\n",
       "      <td>04SF101 -EZ466</td>\n",
       "      <td>FRANKLIN/GOLDEN GATE and RTE 101 N/B OFF-RAMP</td>\n",
       "      <td>7.0</td>\n",
       "      <td>6.0</td>\n",
       "      <td>10.0</td>\n",
       "      <td>23.0</td>\n",
       "    </tr>\n",
       "    <tr>\n",
       "      <th>1592</th>\n",
       "      <td>06TUL063 -E4614</td>\n",
       "      <td>SR 63 (Mooney) at Tulare</td>\n",
       "      <td>6.0</td>\n",
       "      <td>10.0</td>\n",
       "      <td>7.0</td>\n",
       "      <td>23.0</td>\n",
       "    </tr>\n",
       "    <tr>\n",
       "      <th>931</th>\n",
       "      <td>04SF001 -EZ447</td>\n",
       "      <td>LAKE ST and PARK PRESIDIO BLVD (RTE 1)</td>\n",
       "      <td>6.0</td>\n",
       "      <td>6.0</td>\n",
       "      <td>10.0</td>\n",
       "      <td>22.0</td>\n",
       "    </tr>\n",
       "    <tr>\n",
       "      <th>1781</th>\n",
       "      <td>07LA002 -ED198</td>\n",
       "      <td>ST ANDREWS PL</td>\n",
       "      <td>7.0</td>\n",
       "      <td>5.0</td>\n",
       "      <td>10.0</td>\n",
       "      <td>22.0</td>\n",
       "    </tr>\n",
       "    <tr>\n",
       "      <th>...</th>\n",
       "      <td>...</td>\n",
       "      <td>...</td>\n",
       "      <td>...</td>\n",
       "      <td>...</td>\n",
       "      <td>...</td>\n",
       "      <td>...</td>\n",
       "    </tr>\n",
       "    <tr>\n",
       "      <th>3082</th>\n",
       "      <td>11SD094 -E8005</td>\n",
       "      <td>DAISY DR</td>\n",
       "      <td>1.0</td>\n",
       "      <td>3.0</td>\n",
       "      <td>0.0</td>\n",
       "      <td>4.0</td>\n",
       "    </tr>\n",
       "    <tr>\n",
       "      <th>1001</th>\n",
       "      <td>04SM001 -E35BJ</td>\n",
       "      <td>MIRAMONTES POINT RD and CABRILLO HWY (RTE 1)</td>\n",
       "      <td>0.0</td>\n",
       "      <td>3.0</td>\n",
       "      <td>0.0</td>\n",
       "      <td>3.0</td>\n",
       "    </tr>\n",
       "    <tr>\n",
       "      <th>1002</th>\n",
       "      <td>04SM001 -E35CC</td>\n",
       "      <td>FAIRWAY DR and CABRILLO HWY (RTE 1)</td>\n",
       "      <td>0.0</td>\n",
       "      <td>3.0</td>\n",
       "      <td>0.0</td>\n",
       "      <td>3.0</td>\n",
       "    </tr>\n",
       "    <tr>\n",
       "      <th>3086</th>\n",
       "      <td>11SD094 -E8305</td>\n",
       "      <td>COUGAR CANYON DR /STEELE CANYON HS</td>\n",
       "      <td>0.0</td>\n",
       "      <td>3.0</td>\n",
       "      <td>0.0</td>\n",
       "      <td>3.0</td>\n",
       "    </tr>\n",
       "    <tr>\n",
       "      <th>3093</th>\n",
       "      <td>11SD094 -E8772</td>\n",
       "      <td>VIA MERCADO</td>\n",
       "      <td>0.0</td>\n",
       "      <td>3.0</td>\n",
       "      <td>0.0</td>\n",
       "      <td>3.0</td>\n",
       "    </tr>\n",
       "  </tbody>\n",
       "</table>\n",
       "<p>3421 rows × 6 columns</p>\n",
       "</div>"
      ],
      "text/plain": [
       "              imms_id                                       location  \\\n",
       "958    04SF101 -EZ465       13TH/S. VAN NESS and RTE 101 S/B ON-RAMP   \n",
       "959    04SF101 -EZ466  FRANKLIN/GOLDEN GATE and RTE 101 N/B OFF-RAMP   \n",
       "1592  06TUL063 -E4614                       SR 63 (Mooney) at Tulare   \n",
       "931    04SF001 -EZ447         LAKE ST and PARK PRESIDIO BLVD (RTE 1)   \n",
       "1781   07LA002 -ED198                                  ST ANDREWS PL   \n",
       "...               ...                                            ...   \n",
       "3082   11SD094 -E8005                                       DAISY DR   \n",
       "1001   04SM001 -E35BJ   MIRAMONTES POINT RD and CABRILLO HWY (RTE 1)   \n",
       "1002   04SM001 -E35CC            FAIRWAY DR and CABRILLO HWY (RTE 1)   \n",
       "3086   11SD094 -E8305             COUGAR CANYON DR /STEELE CANYON HS   \n",
       "3093   11SD094 -E8772                                    VIA MERCADO   \n",
       "\n",
       "      speed_score  variability_score  frequency_score  overall_transit_score  \n",
       "958           7.0                7.0             10.0                   24.0  \n",
       "959           7.0                6.0             10.0                   23.0  \n",
       "1592          6.0               10.0              7.0                   23.0  \n",
       "931           6.0                6.0             10.0                   22.0  \n",
       "1781          7.0                5.0             10.0                   22.0  \n",
       "...           ...                ...              ...                    ...  \n",
       "3082          1.0                3.0              0.0                    4.0  \n",
       "1001          0.0                3.0              0.0                    3.0  \n",
       "1002          0.0                3.0              0.0                    3.0  \n",
       "3086          0.0                3.0              0.0                    3.0  \n",
       "3093          0.0                3.0              0.0                    3.0  \n",
       "\n",
       "[3421 rows x 6 columns]"
      ]
     },
     "execution_count": 21,
     "metadata": {},
     "output_type": "execute_result"
    }
   ],
   "source": [
    "median_by_signal >> arrange(-_.overall_transit_score)"
   ]
  },
  {
   "cell_type": "markdown",
   "id": "02d6b5f2-a8e6-4c27-8d9d-79ef17d06762",
   "metadata": {},
   "source": [
    "## Reference Histograms for subscores"
   ]
  },
  {
   "cell_type": "code",
   "execution_count": 21,
   "id": "35acb576-b985-4f91-8e82-b5f753ce456d",
   "metadata": {},
   "outputs": [
    {
     "data": {
      "text/plain": [
       "<AxesSubplot:>"
      ]
     },
     "execution_count": 21,
     "metadata": {},
     "output_type": "execute_result"
    },
    {
     "data": {
      "image/png": "[encoded data removed]",
      "text/plain": [
       "<Figure size 640x480 with 1 Axes>"
      ]
     },
     "metadata": {},
     "output_type": "display_data"
    }
   ],
   "source": [
    "median_by_signal.speed_score.hist()"
   ]
  },
  {
   "cell_type": "code",
   "execution_count": 22,
   "id": "e70a93b5-0a7d-4a2b-ac3b-d52fa3e98498",
   "metadata": {},
   "outputs": [
    {
     "data": {
      "text/plain": [
       "<AxesSubplot:>"
      ]
     },
     "execution_count": 22,
     "metadata": {},
     "output_type": "execute_result"
    },
    {
     "data": {
      "image/png": "[encoded data removed]",
      "text/plain": [
       "<Figure size 640x480 with 1 Axes>"
      ]
     },
     "metadata": {},
     "output_type": "display_data"
    }
   ],
   "source": [
    "median_by_signal.variability_score.hist()"
   ]
  },
  {
   "cell_type": "code",
   "execution_count": 23,
   "id": "98ef3198-eaeb-4d1f-8314-bcdad01d8a3e",
   "metadata": {},
   "outputs": [
    {
     "data": {
      "text/plain": [
       "<AxesSubplot:>"
      ]
     },
     "execution_count": 23,
     "metadata": {},
     "output_type": "execute_result"
    },
    {
     "data": {
      "image/png": "[encoded data removed]",
      "text/plain": [
       "<Figure size 640x480 with 1 Axes>"
      ]
     },
     "metadata": {},
     "output_type": "display_data"
    }
   ],
   "source": [
    "median_by_signal.frequency_score.hist()"
   ]
  },
  {
   "cell_type": "code",
   "execution_count": 24,
   "id": "c11c8177-afc9-4eba-8676-124d246ea839",
   "metadata": {},
   "outputs": [
    {
     "data": {
      "text/plain": [
       "<AxesSubplot:>"
      ]
     },
     "execution_count": 24,
     "metadata": {},
     "output_type": "execute_result"
    },
    {
     "data": {
      "image/png": "[encoded data removed]",
      "text/plain": [
       "<Figure size 640x480 with 1 Axes>"
      ]
     },
     "metadata": {},
     "output_type": "display_data"
    }
   ],
   "source": [
    "median_by_signal.overall_transit_score.hist()"
   ]
  },
  {
   "cell_type": "code",
   "execution_count": 25,
   "id": "8947676a-1243-48b9-99e2-653e170bf120",
   "metadata": {},
   "outputs": [
    {
     "data": {
      "text/plain": [
       "958      04SF101 -EZ465\n",
       "959      04SF101 -EZ466\n",
       "1592    06TUL063 -E4614\n",
       "931      04SF001 -EZ447\n",
       "1781     07LA002 -ED198\n",
       "             ...       \n",
       "3082     11SD094 -E8005\n",
       "1001     04SM001 -E35BJ\n",
       "1002     04SM001 -E35CC\n",
       "3086     11SD094 -E8305\n",
       "3093     11SD094 -E8772\n",
       "Name: imms_id, Length: 3421, dtype: object"
      ]
     },
     "execution_count": 25,
     "metadata": {},
     "output_type": "execute_result"
    }
   ],
   "source": [
    "median_by_signal.imms_id"
   ]
  },
  {
   "cell_type": "code",
   "execution_count": 26,
   "id": "e0e976b3-bea4-4bd2-96e1-da1316e106d3",
   "metadata": {},
   "outputs": [],
   "source": [
    "median_by_signal['dist'] = median_by_signal.imms_id.map(lambda x: x[:2] if not pd.isna(x) else x)"
   ]
  },
  {
   "cell_type": "code",
   "execution_count": 27,
   "id": "81dbc7c1-d8ef-4879-b4a0-73ad345daab8",
   "metadata": {},
   "outputs": [
    {
     "data": {
      "text/html": [
       "<div>\n",
       "<style scoped>\n",
       "    .dataframe tbody tr th:only-of-type {\n",
       "        vertical-align: middle;\n",
       "    }\n",
       "\n",
       "    .dataframe tbody tr th {\n",
       "        vertical-align: top;\n",
       "    }\n",
       "\n",
       "    .dataframe thead th {\n",
       "        text-align: right;\n",
       "    }\n",
       "</style>\n",
       "<table border=\"1\" class=\"dataframe\">\n",
       "  <thead>\n",
       "    <tr style=\"text-align: right;\">\n",
       "      <th></th>\n",
       "      <th>dist</th>\n",
       "      <th>n</th>\n",
       "    </tr>\n",
       "  </thead>\n",
       "  <tbody>\n",
       "    <tr>\n",
       "      <th>0</th>\n",
       "      <td>01</td>\n",
       "      <td>48</td>\n",
       "    </tr>\n",
       "    <tr>\n",
       "      <th>1</th>\n",
       "      <td>02</td>\n",
       "      <td>45</td>\n",
       "    </tr>\n",
       "    <tr>\n",
       "      <th>2</th>\n",
       "      <td>03</td>\n",
       "      <td>172</td>\n",
       "    </tr>\n",
       "    <tr>\n",
       "      <th>3</th>\n",
       "      <td>04</td>\n",
       "      <td>1046</td>\n",
       "    </tr>\n",
       "    <tr>\n",
       "      <th>4</th>\n",
       "      <td>05</td>\n",
       "      <td>181</td>\n",
       "    </tr>\n",
       "    <tr>\n",
       "      <th>5</th>\n",
       "      <td>06</td>\n",
       "      <td>136</td>\n",
       "    </tr>\n",
       "    <tr>\n",
       "      <th>6</th>\n",
       "      <td>07</td>\n",
       "      <td>910</td>\n",
       "    </tr>\n",
       "    <tr>\n",
       "      <th>7</th>\n",
       "      <td>08</td>\n",
       "      <td>279</td>\n",
       "    </tr>\n",
       "    <tr>\n",
       "      <th>8</th>\n",
       "      <td>09</td>\n",
       "      <td>3</td>\n",
       "    </tr>\n",
       "    <tr>\n",
       "      <th>9</th>\n",
       "      <td>10</td>\n",
       "      <td>109</td>\n",
       "    </tr>\n",
       "    <tr>\n",
       "      <th>10</th>\n",
       "      <td>11</td>\n",
       "      <td>239</td>\n",
       "    </tr>\n",
       "    <tr>\n",
       "      <th>11</th>\n",
       "      <td>12</td>\n",
       "      <td>248</td>\n",
       "    </tr>\n",
       "    <tr>\n",
       "      <th>12</th>\n",
       "      <td>NaN</td>\n",
       "      <td>5</td>\n",
       "    </tr>\n",
       "  </tbody>\n",
       "</table>\n",
       "</div>"
      ],
      "text/plain": [
       "   dist     n\n",
       "0    01    48\n",
       "1    02    45\n",
       "2    03   172\n",
       "3    04  1046\n",
       "4    05   181\n",
       "5    06   136\n",
       "6    07   910\n",
       "7    08   279\n",
       "8    09     3\n",
       "9    10   109\n",
       "10   11   239\n",
       "11   12   248\n",
       "12  NaN     5"
      ]
     },
     "execution_count": 27,
     "metadata": {},
     "output_type": "execute_result"
    }
   ],
   "source": [
    "median_by_signal >> count(_.dist)"
   ]
  },
  {
   "cell_type": "code",
   "execution_count": 28,
   "id": "c26e4f66-fb84-4dfc-b027-350728cba8ae",
   "metadata": {
    "tags": []
   },
   "outputs": [],
   "source": [
    "median_by_signal.to_excel('signals_transit_score_jan_16_2023.xlsx')"
   ]
  },
  {
   "cell_type": "code",
   "execution_count": 29,
   "id": "85e38a5e-8867-4408-880b-39f32befe4e6",
   "metadata": {},
   "outputs": [],
   "source": [
    "gdf = (signal_gdf >> select(_.imms_id, _.geometry)) >> inner_join(_, median_by_signal, on = 'imms_id')"
   ]
  },
  {
   "cell_type": "code",
   "execution_count": 30,
   "id": "e0867b32-4a94-41db-88df-f8be2bfc118c",
   "metadata": {},
   "outputs": [],
   "source": [
    "# (signal_gdf >> filter(_.imms_id.str.contains('04SF101')) >> select(_.imms_id, _.location, _.geometry)).explore()"
   ]
  },
  {
   "cell_type": "code",
   "execution_count": 31,
   "id": "197c36ea-82bd-4bd5-bebd-30cdcb547691",
   "metadata": {},
   "outputs": [],
   "source": [
    "# gdf.explore(column = 'overall_transit_score', tiles = 'CartoDB positron', cmap='Blues')"
   ]
  },
  {
   "cell_type": "code",
   "execution_count": 32,
   "id": "05fe539e-b54c-471b-842a-56e95963106e",
   "metadata": {},
   "outputs": [],
   "source": [
    "import branca"
   ]
  },
  {
   "cell_type": "code",
   "execution_count": 33,
   "id": "2b129200-ada9-4c03-a9b8-2acd23367302",
   "metadata": {},
   "outputs": [],
   "source": [
    "signal_colorscale = branca.colormap.step.Purples_05.scale(vmin=0, vmax=gdf.overall_transit_score.max())"
   ]
  },
  {
   "cell_type": "code",
   "execution_count": 34,
   "id": "c118634d-5a11-4df0-aa75-9b094a6e70b9",
   "metadata": {},
   "outputs": [],
   "source": [
    "from shared_utils import rt_utils"
   ]
  },
  {
   "cell_type": "code",
   "execution_count": 35,
   "id": "118929d4-af46-47e1-b6ac-e7c0c4deb695",
   "metadata": {},
   "outputs": [],
   "source": [
    "gdf = gdf.to_crs(shared_utils.geography_utils.CA_NAD83Albers)\n",
    "gdf.geometry = gdf.buffer(70)"
   ]
  },
  {
   "cell_type": "markdown",
   "id": "c625a716-473f-420e-8cb0-4f16a5448fb0",
   "metadata": {},
   "source": [
    "A full state speedmap sort of works, but I suspect loading it and another layer at once hits some sort of GTFS limit..."
   ]
  },
  {
   "cell_type": "code",
   "execution_count": 36,
   "id": "45e64317-f828-4cfb-b1e6-0605187b9e71",
   "metadata": {},
   "outputs": [],
   "source": [
    "sig_speeds = joined_seg_lines >> filter(_.approaching)"
   ]
  },
  {
   "cell_type": "code",
   "execution_count": 37,
   "id": "96924e4b-b798-429e-8af1-10a481ca8654",
   "metadata": {},
   "outputs": [
    {
     "data": {
      "text/plain": [
       "(251676, 18)"
      ]
     },
     "execution_count": 37,
     "metadata": {},
     "output_type": "execute_result"
    }
   ],
   "source": [
    "segments_all.shape"
   ]
  },
  {
   "cell_type": "code",
   "execution_count": 38,
   "id": "0babb3af-c395-40b2-a842-cd25cec73da8",
   "metadata": {},
   "outputs": [
    {
     "data": {
      "text/plain": [
       "(40657, 23)"
      ]
     },
     "execution_count": 38,
     "metadata": {},
     "output_type": "execute_result"
    }
   ],
   "source": [
    "sig_speeds.shape"
   ]
  },
  {
   "cell_type": "code",
   "execution_count": 39,
   "id": "79da5390-2e3e-40f8-825b-8e8f112b98ab",
   "metadata": {},
   "outputs": [
    {
     "data": {
      "text/plain": [
       "Index(['stop_id', 'stop_name', 'geometry', 'shape_id', 'stop_sequence',\n",
       "       'route_id', 'route_short_name', 'direction_id', 'p50_mph', 'p20_mph',\n",
       "       'p80_mph', 'fast_slow_ratio', 'trips_per_hour', 'miles_from_last',\n",
       "       'time_formatted', 'gtfs_dataset_key', 'organization_name',\n",
       "       'system_p50_median', 'imms_id', 'location', 'signal_pt_geom',\n",
       "       'line_geom', 'approaching'],\n",
       "      dtype='object')"
      ]
     },
     "execution_count": 39,
     "metadata": {},
     "output_type": "execute_result"
    }
   ],
   "source": [
    "sig_speeds.columns"
   ]
  },
  {
   "cell_type": "code",
   "execution_count": 40,
   "id": "04ec8a03-3b09-4fa9-a370-546f04a75f48",
   "metadata": {},
   "outputs": [],
   "source": [
    "sig_speeds = sig_speeds >> select(-_.signal_pt_geom, -_.imms_id, -_.location, -_.line_geom, -_.approaching,\n",
    "                                 -_.time_formatted, -_.gtfs_dataset_key, -_.organization_name)"
   ]
  },
  {
   "cell_type": "code",
   "execution_count": 41,
   "id": "afb08204-2f0b-4c5f-b844-a82809e2f3f8",
   "metadata": {},
   "outputs": [
    {
     "name": "stdout",
     "output_type": "stream",
     "text": [
      "writing to calitp-map-tiles/signals/speeds.geojson.gz\n"
     ]
    }
   ],
   "source": [
    "speedmap = rt_utils.set_state_export(sig_speeds, subfolder='signals/', filename='speeds', cmap=rt_utils.ZERO_THIRTY_COLORSCALE,\n",
    "                          color_col='p20_mph', cache_seconds=1, map_type='speedmap',\n",
    "                         legend_url = rt_utils.SPEEDMAP_LEGEND_URL, map_title='Speeds')"
   ]
  },
  {
   "cell_type": "code",
   "execution_count": 42,
   "id": "dd59d592-4051-46cb-a125-2be478854da4",
   "metadata": {},
   "outputs": [],
   "source": [
    "SIGNAL_LEGEND_URL = 'https://storage.googleapis.com/calitp-map-tiles/signal_legend.svg'"
   ]
  },
  {
   "cell_type": "code",
   "execution_count": 53,
   "id": "e0259a62-947f-4517-92b2-a1b007331296",
   "metadata": {},
   "outputs": [
    {
     "name": "stdout",
     "output_type": "stream",
     "text": [
      "writing to calitp-map-tiles/signals/test2.geojson.gz\n"
     ]
    },
    {
     "data": {
      "text/plain": [
       "{'state_dict': {'name': 'null',\n",
       "  'layers': [{'name': 'Speeds',\n",
       "    'url': 'https://storage.googleapis.com/calitp-map-tiles/signals/speeds.geojson.gz',\n",
       "    'properties': {'stroked': False,\n",
       "     'highlight_saturation_multiplier': 0.5,\n",
       "     'tooltip_speed_key': 'p20_mph'},\n",
       "    'type': 'speedmap'},\n",
       "   {'name': 'Signals with Approach Speeds',\n",
       "    'url': 'https://storage.googleapis.com/calitp-map-tiles/signals/test2.geojson.gz',\n",
       "    'properties': {'stroked': False, 'highlight_saturation_multiplier': 0.5}},\n",
       "   {'name': 'Signals with Approach Speeds',\n",
       "    'url': 'https://storage.googleapis.com/calitp-map-tiles/signals/test2.geojson.gz',\n",
       "    'properties': {'stroked': False, 'highlight_saturation_multiplier': 0.5}}],\n",
       "  'lat_lon': [33.699342, -117.987465],\n",
       "  'zoom': 13,\n",
       "  'legend_url': 'https://storage.googleapis.com/calitp-map-tiles/signal_legend.svg'},\n",
       " 'spa_link': 'https://embeddable-maps.calitp.org/?state=eyJuYW1lIjogIm51bGwiLCAibGF5ZXJzIjogW3sibmFtZSI6ICJTcGVlZHMiLCAidXJsIjogImh0dHBzOi8vc3RvcmFnZS5nb29nbGVhcGlzLmNvbS9jYWxpdHAtbWFwLXRpbGVzL3NpZ25hbHMvc3BlZWRzLmdlb2pzb24uZ3oiLCAicHJvcGVydGllcyI6IHsic3Ryb2tlZCI6IGZhbHNlLCAiaGlnaGxpZ2h0X3NhdHVyYXRpb25fbXVsdGlwbGllciI6IDAuNSwgInRvb2x0aXBfc3BlZWRfa2V5IjogInAyMF9tcGgifSwgInR5cGUiOiAic3BlZWRtYXAifSwgeyJuYW1lIjogIlNpZ25hbHMgd2l0aCBBcHByb2FjaCBTcGVlZHMiLCAidXJsIjogImh0dHBzOi8vc3RvcmFnZS5nb29nbGVhcGlzLmNvbS9jYWxpdHAtbWFwLXRpbGVzL3NpZ25hbHMvdGVzdDIuZ2VvanNvbi5neiIsICJwcm9wZXJ0aWVzIjogeyJzdHJva2VkIjogZmFsc2UsICJoaWdobGlnaHRfc2F0dXJhdGlvbl9tdWx0aXBsaWVyIjogMC41fX0sIHsibmFtZSI6ICJTaWduYWxzIHdpdGggQXBwcm9hY2ggU3BlZWRzIiwgInVybCI6ICJodHRwczovL3N0b3JhZ2UuZ29vZ2xlYXBpcy5jb20vY2FsaXRwLW1hcC10aWxlcy9zaWduYWxzL3Rlc3QyLmdlb2pzb24uZ3oiLCAicHJvcGVydGllcyI6IHsic3Ryb2tlZCI6IGZhbHNlLCAiaGlnaGxpZ2h0X3NhdHVyYXRpb25fbXVsdGlwbGllciI6IDAuNX19XSwgImxhdF9sb24iOiBbMzMuNjk5MzQyLCAtMTE3Ljk4NzQ2NV0sICJ6b29tIjogMTMsICJsZWdlbmRfdXJsIjogImh0dHBzOi8vc3RvcmFnZS5nb29nbGVhcGlzLmNvbS9jYWxpdHAtbWFwLXRpbGVzL3NpZ25hbF9sZWdlbmQuc3ZnIn0='}"
      ]
     },
     "execution_count": 53,
     "metadata": {},
     "output_type": "execute_result"
    }
   ],
   "source": [
    "rt_utils.set_state_export(gdf, subfolder='signals/', cmap=signal_colorscale,\n",
    "                          color_col='overall_transit_score', existing_state=speedmap['state_dict'],\n",
    "                         map_title='Signals with Approach Speeds', legend_url=SIGNAL_LEGEND_URL,\n",
    "                         manual_centroid = [33.699342, -117.987465])"
   ]
  },
  {
   "cell_type": "code",
   "execution_count": 44,
   "id": "6548528c-14c6-4b43-9903-e52a5f7ceeeb",
   "metadata": {},
   "outputs": [
    {
     "name": "stdout",
     "output_type": "stream",
     "text": [
      "writing to calitp-map-tiles/signals/variation.geojson.gz\n"
     ]
    }
   ],
   "source": [
    "variation = rt_utils.set_state_export(sig_speeds, subfolder='signals/', filename='variation', cmap=rt_utils.VARIANCE_FIXED_COLORSCALE,\n",
    "                          color_col='fast_slow_ratio', cache_seconds=1, map_type='speed_variation',\n",
    "                         legend_url = 'https://storage.googleapis.com/calitp-map-tiles/variance_legend.svg', map_title='Variation')"
   ]
  },
  {
   "cell_type": "code",
   "execution_count": 45,
   "id": "913d381d-d7fe-4e7b-98d7-407a2ed0bf4f",
   "metadata": {},
   "outputs": [],
   "source": [
    "SIGNAL_LEGEND_URL = 'https://storage.googleapis.com/calitp-map-tiles/signal_legend.svg'"
   ]
  },
  {
   "cell_type": "code",
   "execution_count": 46,
   "id": "02530ea2-a566-413a-acbf-b6d13b82d302",
   "metadata": {},
   "outputs": [
    {
     "name": "stdout",
     "output_type": "stream",
     "text": [
      "writing to calitp-map-tiles/signals/test2.geojson.gz\n"
     ]
    },
    {
     "data": {
      "text/plain": [
       "{'state_dict': {'name': 'null',\n",
       "  'layers': [{'name': 'Variation',\n",
       "    'url': 'https://storage.googleapis.com/calitp-map-tiles/signals/variation.geojson.gz',\n",
       "    'properties': {'stroked': False, 'highlight_saturation_multiplier': 0.5},\n",
       "    'type': 'speed_variation'},\n",
       "   {'name': 'Signals with Approach Speed Variation',\n",
       "    'url': 'https://storage.googleapis.com/calitp-map-tiles/signals/test2.geojson.gz',\n",
       "    'properties': {'stroked': False, 'highlight_saturation_multiplier': 0.5}}],\n",
       "  'lat_lon': [33.699342, -117.987465],\n",
       "  'zoom': 13,\n",
       "  'legend_url': 'https://storage.googleapis.com/calitp-map-tiles/signal_legend.svg'},\n",
       " 'spa_link': 'https://embeddable-maps.calitp.org/?state=eyJuYW1lIjogIm51bGwiLCAibGF5ZXJzIjogW3sibmFtZSI6ICJWYXJpYXRpb24iLCAidXJsIjogImh0dHBzOi8vc3RvcmFnZS5nb29nbGVhcGlzLmNvbS9jYWxpdHAtbWFwLXRpbGVzL3NpZ25hbHMvdmFyaWF0aW9uLmdlb2pzb24uZ3oiLCAicHJvcGVydGllcyI6IHsic3Ryb2tlZCI6IGZhbHNlLCAiaGlnaGxpZ2h0X3NhdHVyYXRpb25fbXVsdGlwbGllciI6IDAuNX0sICJ0eXBlIjogInNwZWVkX3ZhcmlhdGlvbiJ9LCB7Im5hbWUiOiAiU2lnbmFscyB3aXRoIEFwcHJvYWNoIFNwZWVkIFZhcmlhdGlvbiIsICJ1cmwiOiAiaHR0cHM6Ly9zdG9yYWdlLmdvb2dsZWFwaXMuY29tL2NhbGl0cC1tYXAtdGlsZXMvc2lnbmFscy90ZXN0Mi5nZW9qc29uLmd6IiwgInByb3BlcnRpZXMiOiB7InN0cm9rZWQiOiBmYWxzZSwgImhpZ2hsaWdodF9zYXR1cmF0aW9uX211bHRpcGxpZXIiOiAwLjV9fV0sICJsYXRfbG9uIjogWzMzLjY5OTM0MiwgLTExNy45ODc0NjVdLCAiem9vbSI6IDEzLCAibGVnZW5kX3VybCI6ICJodHRwczovL3N0b3JhZ2UuZ29vZ2xlYXBpcy5jb20vY2FsaXRwLW1hcC10aWxlcy9zaWduYWxfbGVnZW5kLnN2ZyJ9'}"
      ]
     },
     "execution_count": 46,
     "metadata": {},
     "output_type": "execute_result"
    }
   ],
   "source": [
    "rt_utils.set_state_export(gdf, subfolder='signals/', cmap=signal_colorscale,\n",
    "                          color_col='overall_transit_score', existing_state=variation['state_dict'],\n",
    "                         map_title='Signals with Approach Speed Variation', legend_url=SIGNAL_LEGEND_URL,\n",
    "                         manual_centroid = [33.699342, -117.987465])"
   ]
  },
  {
   "cell_type": "markdown",
   "id": "bd60c312-afa7-4f81-ba04-7b6598194789",
   "metadata": {},
   "source": [
    "TODO put on a scale and ship it!\n",
    "\n",
    "* improve export legends script!"
   ]
  },
  {
   "cell_type": "code",
   "execution_count": 47,
   "id": "31d6e622-cb3e-4b38-81bf-9fe787c63e31",
   "metadata": {
    "tags": []
   },
   "outputs": [
    {
     "data": {
      "text/plain": [
       "[5.0, 10.0, 14.0, 19.0]"
      ]
     },
     "execution_count": 47,
     "metadata": {},
     "output_type": "execute_result"
    }
   ],
   "source": [
    "[round(x, 0) for x in signal_colorscale.index[1:-1]]"
   ]
  },
  {
   "cell_type": "code",
   "execution_count": 48,
   "id": "a4614222-cf1d-401c-abf2-8a922178d85f",
   "metadata": {},
   "outputs": [
    {
     "name": "stdout",
     "output_type": "stream",
     "text": [
      "speed legend written to calitp-map-tiles/speeds_legend.svg\n",
      "variance legend written to calitp-map-tiles/variance_legend.svg\n"
     ]
    }
   ],
   "source": [
    "import export_legends"
   ]
  },
  {
   "cell_type": "code",
   "execution_count": 49,
   "id": "48c47d1f-cfb8-40d1-ae47-4ec569026022",
   "metadata": {},
   "outputs": [],
   "source": [
    "import numpy as np"
   ]
  },
  {
   "cell_type": "code",
   "execution_count": 50,
   "id": "0c777981-fb88-4b75-98f1-10f2c7bcd4c7",
   "metadata": {},
   "outputs": [],
   "source": [
    "signal_colorscale.caption = 'Signal Transit Score'"
   ]
  },
  {
   "cell_type": "code",
   "execution_count": 52,
   "id": "e9200523-f1d0-451b-b0a2-e317c98e2970",
   "metadata": {},
   "outputs": [
    {
     "name": "stdout",
     "output_type": "stream",
     "text": [
      "signal legend written to calitp-map-tiles/signal_legend.svg\n"
     ]
    }
   ],
   "source": [
    "# export signal_legend\n",
    "signal_legend = export_legends.add_lines_header(signal_colorscale._repr_html_())\n",
    "signal_legend = export_legends.add_inner_labels_caption(signal_legend,\n",
    "                                        [round(x, 0) for x in signal_colorscale.index[1:-1]],\n",
    "                                         100, signal_colorscale.caption)\n",
    "\n",
    "path =  f'calitp-map-tiles/signal_legend.svg'\n",
    "with fs.open(path, 'w') as writer:  # write out to public-facing GCS?\n",
    "    writer.write(signal_legend)\n",
    "print(f'signal legend written to {path}')"
   ]
  },
  {
   "cell_type": "markdown",
   "id": "ae25dbc9-081d-405f-aa45-b472f4a9fe21",
   "metadata": {
    "jp-MarkdownHeadingCollapsed": true,
    "tags": []
   },
   "source": [
    "## Provide All SHS Segments"
   ]
  },
  {
   "cell_type": "code",
   "execution_count": 45,
   "id": "4d5d4363-b384-4bdc-b1f4-b311f23e97e6",
   "metadata": {},
   "outputs": [],
   "source": [
    "from shared_utils.rt_utils import SHN_PATH\n",
    "from shared_utils.geography_utils import CA_NAD83Albers\n",
    "import dask_geopandas as dg"
   ]
  },
  {
   "cell_type": "code",
   "execution_count": 46,
   "id": "cdb93045-19b4-4136-8939-8b850d82f5fa",
   "metadata": {},
   "outputs": [
    {
     "data": {
      "text/html": [
       "<div>\n",
       "<style scoped>\n",
       "    .dataframe tbody tr th:only-of-type {\n",
       "        vertical-align: middle;\n",
       "    }\n",
       "\n",
       "    .dataframe tbody tr th {\n",
       "        vertical-align: top;\n",
       "    }\n",
       "\n",
       "    .dataframe thead th {\n",
       "        text-align: right;\n",
       "    }\n",
       "</style>\n",
       "<table border=\"1\" class=\"dataframe\">\n",
       "  <thead>\n",
       "    <tr style=\"text-align: right;\">\n",
       "      <th></th>\n",
       "      <th>shape_meters</th>\n",
       "      <th>stop_id</th>\n",
       "      <th>stop_name</th>\n",
       "      <th>geometry</th>\n",
       "      <th>shape_id</th>\n",
       "      <th>trip_id</th>\n",
       "      <th>stop_sequence</th>\n",
       "      <th>route_id</th>\n",
       "      <th>route_short_name</th>\n",
       "      <th>direction_id</th>\n",
       "      <th>...</th>\n",
       "      <th>meters_from_last</th>\n",
       "      <th>speed_from_last</th>\n",
       "      <th>delay_chg_sec</th>\n",
       "      <th>speed_mph</th>\n",
       "      <th>n_trips_shp</th>\n",
       "      <th>p50_mph</th>\n",
       "      <th>p20_mph</th>\n",
       "      <th>p80_mph</th>\n",
       "      <th>fast_slow_ratio</th>\n",
       "      <th>trips_per_hour</th>\n",
       "    </tr>\n",
       "  </thead>\n",
       "  <tbody>\n",
       "    <tr>\n",
       "      <th>0</th>\n",
       "      <td>4000.000000</td>\n",
       "      <td>None</td>\n",
       "      <td>None</td>\n",
       "      <td>LINESTRING (99184.376 -423695.438, 99181.943 -...</td>\n",
       "      <td>12894</td>\n",
       "      <td>143-17157330MTH</td>\n",
       "      <td>2.50</td>\n",
       "      <td>4131</td>\n",
       "      <td>73</td>\n",
       "      <td>0.0</td>\n",
       "      <td>...</td>\n",
       "      <td>1836.262692</td>\n",
       "      <td>2.333244</td>\n",
       "      <td>NaN</td>\n",
       "      <td>5.219466</td>\n",
       "      <td>1</td>\n",
       "      <td>5.219466</td>\n",
       "      <td>5.219466</td>\n",
       "      <td>5.219466</td>\n",
       "      <td>1.0</td>\n",
       "      <td>0.056518</td>\n",
       "    </tr>\n",
       "    <tr>\n",
       "      <th>1</th>\n",
       "      <td>4278.914082</td>\n",
       "      <td>4456052</td>\n",
       "      <td>Amgen Entrance (EB)</td>\n",
       "      <td>LINESTRING (99456.828 -424811.605, 99542.400 -...</td>\n",
       "      <td>12894</td>\n",
       "      <td>143-17157330MTH</td>\n",
       "      <td>3.00</td>\n",
       "      <td>4131</td>\n",
       "      <td>73</td>\n",
       "      <td>0.0</td>\n",
       "      <td>...</td>\n",
       "      <td>278.914082</td>\n",
       "      <td>8.716065</td>\n",
       "      <td>NaN</td>\n",
       "      <td>19.497838</td>\n",
       "      <td>1</td>\n",
       "      <td>19.497838</td>\n",
       "      <td>19.497838</td>\n",
       "      <td>19.497838</td>\n",
       "      <td>1.0</td>\n",
       "      <td>0.056518</td>\n",
       "    </tr>\n",
       "    <tr>\n",
       "      <th>2</th>\n",
       "      <td>6000.000000</td>\n",
       "      <td>None</td>\n",
       "      <td>None</td>\n",
       "      <td>LINESTRING (99687.257 -424750.645, 99718.481 -...</td>\n",
       "      <td>12894</td>\n",
       "      <td>143-17157330MTH</td>\n",
       "      <td>3.25</td>\n",
       "      <td>4131</td>\n",
       "      <td>73</td>\n",
       "      <td>0.0</td>\n",
       "      <td>...</td>\n",
       "      <td>1721.085918</td>\n",
       "      <td>6.569030</td>\n",
       "      <td>NaN</td>\n",
       "      <td>14.694921</td>\n",
       "      <td>1</td>\n",
       "      <td>14.694921</td>\n",
       "      <td>14.694921</td>\n",
       "      <td>14.694921</td>\n",
       "      <td>1.0</td>\n",
       "      <td>0.056518</td>\n",
       "    </tr>\n",
       "  </tbody>\n",
       "</table>\n",
       "<p>3 rows × 23 columns</p>\n",
       "</div>"
      ],
      "text/plain": [
       "   shape_meters  stop_id            stop_name  \\\n",
       "0   4000.000000     None                 None   \n",
       "1   4278.914082  4456052  Amgen Entrance (EB)   \n",
       "2   6000.000000     None                 None   \n",
       "\n",
       "                                            geometry shape_id  \\\n",
       "0  LINESTRING (99184.376 -423695.438, 99181.943 -...    12894   \n",
       "1  LINESTRING (99456.828 -424811.605, 99542.400 -...    12894   \n",
       "2  LINESTRING (99687.257 -424750.645, 99718.481 -...    12894   \n",
       "\n",
       "           trip_id  stop_sequence route_id route_short_name  direction_id  \\\n",
       "0  143-17157330MTH           2.50     4131               73           0.0   \n",
       "1  143-17157330MTH           3.00     4131               73           0.0   \n",
       "2  143-17157330MTH           3.25     4131               73           0.0   \n",
       "\n",
       "   ...  meters_from_last  speed_from_last  delay_chg_sec  speed_mph  \\\n",
       "0  ...       1836.262692         2.333244            NaN   5.219466   \n",
       "1  ...        278.914082         8.716065            NaN  19.497838   \n",
       "2  ...       1721.085918         6.569030            NaN  14.694921   \n",
       "\n",
       "   n_trips_shp    p50_mph    p20_mph    p80_mph  fast_slow_ratio  \\\n",
       "0            1   5.219466   5.219466   5.219466              1.0   \n",
       "1            1  19.497838  19.497838  19.497838              1.0   \n",
       "2            1  14.694921  14.694921  14.694921              1.0   \n",
       "\n",
       "   trips_per_hour  \n",
       "0        0.056518  \n",
       "1        0.056518  \n",
       "2        0.056518  \n",
       "\n",
       "[3 rows x 23 columns]"
      ]
     },
     "execution_count": 46,
     "metadata": {},
     "output_type": "execute_result"
    }
   ],
   "source": [
    "segment_lines_all >> head(3)"
   ]
  },
  {
   "cell_type": "code",
   "execution_count": 47,
   "id": "de717366-872c-471f-8e1e-8a98a8ae0c0f",
   "metadata": {},
   "outputs": [],
   "source": [
    "# add line geometries from stop_segment_speed_view\n",
    "seg_lines = (segment_lines_all\n",
    "            >> select(_.line_geom == _.geometry, _.shape_id, _.stop_sequence, _.stop_id)\n",
    "            >> distinct(_.line_geom, _.shape_id, _.stop_sequence, _.stop_id)\n",
    "        )\n",
    "# ideally a more robust join in the future\n",
    "joined_seg_lines = segments_all >> inner_join(_, seg_lines, on = ['shape_id', 'stop_sequence', 'stop_id'])"
   ]
  },
  {
   "cell_type": "code",
   "execution_count": 48,
   "id": "c62a7f72-0472-4214-957b-c17180c34ccd",
   "metadata": {},
   "outputs": [],
   "source": [
    "joined_seg_lines = joined_seg_lines.set_geometry('line_geom', drop = True)"
   ]
  },
  {
   "cell_type": "code",
   "execution_count": 49,
   "id": "484df060-4123-47f8-a15f-35bcb39d6279",
   "metadata": {},
   "outputs": [
    {
     "data": {
      "text/html": [
       "<div>\n",
       "<style scoped>\n",
       "    .dataframe tbody tr th:only-of-type {\n",
       "        vertical-align: middle;\n",
       "    }\n",
       "\n",
       "    .dataframe tbody tr th {\n",
       "        vertical-align: top;\n",
       "    }\n",
       "\n",
       "    .dataframe thead th {\n",
       "        text-align: right;\n",
       "    }\n",
       "</style>\n",
       "<table border=\"1\" class=\"dataframe\">\n",
       "  <thead>\n",
       "    <tr style=\"text-align: right;\">\n",
       "      <th></th>\n",
       "      <th>stop_id</th>\n",
       "      <th>stop_name</th>\n",
       "      <th>geometry</th>\n",
       "      <th>shape_id</th>\n",
       "      <th>stop_sequence</th>\n",
       "      <th>route_id</th>\n",
       "      <th>route_short_name</th>\n",
       "      <th>direction_id</th>\n",
       "      <th>p50_mph</th>\n",
       "      <th>p20_mph</th>\n",
       "      <th>p80_mph</th>\n",
       "      <th>fast_slow_ratio</th>\n",
       "      <th>trips_per_hour</th>\n",
       "      <th>miles_from_last</th>\n",
       "      <th>time_formatted</th>\n",
       "      <th>gtfs_dataset_key</th>\n",
       "      <th>organization_name</th>\n",
       "      <th>system_p50_median</th>\n",
       "    </tr>\n",
       "  </thead>\n",
       "  <tbody>\n",
       "    <tr>\n",
       "      <th>0</th>\n",
       "      <td>None</td>\n",
       "      <td>None</td>\n",
       "      <td>LINESTRING (-90046.062 150710.584, -90046.132 ...</td>\n",
       "      <td>p_900655</td>\n",
       "      <td>2.500000</td>\n",
       "      <td>16672</td>\n",
       "      <td>7</td>\n",
       "      <td>1.0</td>\n",
       "      <td>43.6</td>\n",
       "      <td>43.6</td>\n",
       "      <td>43.6</td>\n",
       "      <td>1.0</td>\n",
       "      <td>0.1</td>\n",
       "      <td>1.1</td>\n",
       "      <td>1:30</td>\n",
       "      <td>ac2951bfaa7ecf6b80ba9e50aef1ae86</td>\n",
       "      <td>Nevada County</td>\n",
       "      <td>26.7</td>\n",
       "    </tr>\n",
       "    <tr>\n",
       "      <th>1</th>\n",
       "      <td>2617946</td>\n",
       "      <td>Oak Tree Rd at Tyler Foote Rd</td>\n",
       "      <td>LINESTRING (-91197.532 149485.318, -91321.168 ...</td>\n",
       "      <td>p_900655</td>\n",
       "      <td>3.000000</td>\n",
       "      <td>16672</td>\n",
       "      <td>7</td>\n",
       "      <td>1.0</td>\n",
       "      <td>44.6</td>\n",
       "      <td>44.6</td>\n",
       "      <td>44.6</td>\n",
       "      <td>1.0</td>\n",
       "      <td>0.1</td>\n",
       "      <td>0.3</td>\n",
       "      <td>0:24</td>\n",
       "      <td>ac2951bfaa7ecf6b80ba9e50aef1ae86</td>\n",
       "      <td>Nevada County</td>\n",
       "      <td>26.7</td>\n",
       "    </tr>\n",
       "    <tr>\n",
       "      <th>2</th>\n",
       "      <td>None</td>\n",
       "      <td>None</td>\n",
       "      <td>LINESTRING (-91567.382 149264.704, -91569.278 ...</td>\n",
       "      <td>p_900655</td>\n",
       "      <td>3.333333</td>\n",
       "      <td>16672</td>\n",
       "      <td>7</td>\n",
       "      <td>1.0</td>\n",
       "      <td>35.3</td>\n",
       "      <td>35.3</td>\n",
       "      <td>35.3</td>\n",
       "      <td>1.0</td>\n",
       "      <td>0.1</td>\n",
       "      <td>1.0</td>\n",
       "      <td>1:41</td>\n",
       "      <td>ac2951bfaa7ecf6b80ba9e50aef1ae86</td>\n",
       "      <td>Nevada County</td>\n",
       "      <td>26.7</td>\n",
       "    </tr>\n",
       "  </tbody>\n",
       "</table>\n",
       "</div>"
      ],
      "text/plain": [
       "   stop_id                      stop_name  \\\n",
       "0     None                           None   \n",
       "1  2617946  Oak Tree Rd at Tyler Foote Rd   \n",
       "2     None                           None   \n",
       "\n",
       "                                            geometry  shape_id  stop_sequence  \\\n",
       "0  LINESTRING (-90046.062 150710.584, -90046.132 ...  p_900655       2.500000   \n",
       "1  LINESTRING (-91197.532 149485.318, -91321.168 ...  p_900655       3.000000   \n",
       "2  LINESTRING (-91567.382 149264.704, -91569.278 ...  p_900655       3.333333   \n",
       "\n",
       "  route_id route_short_name  direction_id  p50_mph  p20_mph  p80_mph  \\\n",
       "0    16672                7           1.0     43.6     43.6     43.6   \n",
       "1    16672                7           1.0     44.6     44.6     44.6   \n",
       "2    16672                7           1.0     35.3     35.3     35.3   \n",
       "\n",
       "   fast_slow_ratio  trips_per_hour  miles_from_last time_formatted  \\\n",
       "0              1.0             0.1              1.1           1:30   \n",
       "1              1.0             0.1              0.3           0:24   \n",
       "2              1.0             0.1              1.0           1:41   \n",
       "\n",
       "                   gtfs_dataset_key organization_name  system_p50_median  \n",
       "0  ac2951bfaa7ecf6b80ba9e50aef1ae86     Nevada County               26.7  \n",
       "1  ac2951bfaa7ecf6b80ba9e50aef1ae86     Nevada County               26.7  \n",
       "2  ac2951bfaa7ecf6b80ba9e50aef1ae86     Nevada County               26.7  "
      ]
     },
     "execution_count": 49,
     "metadata": {},
     "output_type": "execute_result"
    }
   ],
   "source": [
    "joined_seg_lines >> head(3)"
   ]
  },
  {
   "cell_type": "code",
   "execution_count": 50,
   "id": "16f90285-a1b4-495f-805f-cac56b992d88",
   "metadata": {},
   "outputs": [
    {
     "data": {
      "text/html": [
       "<div>\n",
       "<style scoped>\n",
       "    .dataframe tbody tr th:only-of-type {\n",
       "        vertical-align: middle;\n",
       "    }\n",
       "\n",
       "    .dataframe tbody tr th {\n",
       "        vertical-align: top;\n",
       "    }\n",
       "\n",
       "    .dataframe thead th {\n",
       "        text-align: right;\n",
       "    }\n",
       "</style>\n",
       "<table border=\"1\" class=\"dataframe\">\n",
       "  <thead>\n",
       "    <tr style=\"text-align: right;\">\n",
       "      <th></th>\n",
       "      <th>stop_id</th>\n",
       "      <th>stop_name</th>\n",
       "      <th>geometry</th>\n",
       "      <th>shape_id</th>\n",
       "      <th>stop_sequence</th>\n",
       "      <th>route_id</th>\n",
       "      <th>route_short_name</th>\n",
       "      <th>direction_id</th>\n",
       "      <th>p50_mph</th>\n",
       "      <th>p20_mph</th>\n",
       "      <th>p80_mph</th>\n",
       "      <th>fast_slow_ratio</th>\n",
       "      <th>trips_per_hour</th>\n",
       "      <th>miles_from_last</th>\n",
       "      <th>time_formatted</th>\n",
       "      <th>gtfs_dataset_key</th>\n",
       "      <th>organization_name</th>\n",
       "      <th>system_p50_median</th>\n",
       "    </tr>\n",
       "  </thead>\n",
       "  <tbody>\n",
       "    <tr>\n",
       "      <th>156</th>\n",
       "      <td>None</td>\n",
       "      <td>None</td>\n",
       "      <td>POLYGON ((-90138.298 150418.409, -90177.775 15...</td>\n",
       "      <td>p_900655</td>\n",
       "      <td>2.500000</td>\n",
       "      <td>16672</td>\n",
       "      <td>7</td>\n",
       "      <td>1.0</td>\n",
       "      <td>43.6</td>\n",
       "      <td>43.6</td>\n",
       "      <td>43.6</td>\n",
       "      <td>1.0</td>\n",
       "      <td>0.1</td>\n",
       "      <td>1.1</td>\n",
       "      <td>1:30</td>\n",
       "      <td>ac2951bfaa7ecf6b80ba9e50aef1ae86</td>\n",
       "      <td>Nevada County</td>\n",
       "      <td>26.7</td>\n",
       "    </tr>\n",
       "    <tr>\n",
       "      <th>157</th>\n",
       "      <td>2617946</td>\n",
       "      <td>Oak Tree Rd at Tyler Foote Rd</td>\n",
       "      <td>POLYGON ((-91328.902 149378.389, -91559.372 14...</td>\n",
       "      <td>p_900655</td>\n",
       "      <td>3.000000</td>\n",
       "      <td>16672</td>\n",
       "      <td>7</td>\n",
       "      <td>1.0</td>\n",
       "      <td>44.6</td>\n",
       "      <td>44.6</td>\n",
       "      <td>44.6</td>\n",
       "      <td>1.0</td>\n",
       "      <td>0.1</td>\n",
       "      <td>0.3</td>\n",
       "      <td>0:24</td>\n",
       "      <td>ac2951bfaa7ecf6b80ba9e50aef1ae86</td>\n",
       "      <td>Nevada County</td>\n",
       "      <td>26.7</td>\n",
       "    </tr>\n",
       "    <tr>\n",
       "      <th>158</th>\n",
       "      <td>None</td>\n",
       "      <td>None</td>\n",
       "      <td>POLYGON ((-91593.493 149262.646, -91608.656 14...</td>\n",
       "      <td>p_900655</td>\n",
       "      <td>3.333333</td>\n",
       "      <td>16672</td>\n",
       "      <td>7</td>\n",
       "      <td>1.0</td>\n",
       "      <td>35.3</td>\n",
       "      <td>35.3</td>\n",
       "      <td>35.3</td>\n",
       "      <td>1.0</td>\n",
       "      <td>0.1</td>\n",
       "      <td>1.0</td>\n",
       "      <td>1:41</td>\n",
       "      <td>ac2951bfaa7ecf6b80ba9e50aef1ae86</td>\n",
       "      <td>Nevada County</td>\n",
       "      <td>26.7</td>\n",
       "    </tr>\n",
       "  </tbody>\n",
       "</table>\n",
       "</div>"
      ],
      "text/plain": [
       "     stop_id                      stop_name  \\\n",
       "156     None                           None   \n",
       "157  2617946  Oak Tree Rd at Tyler Foote Rd   \n",
       "158     None                           None   \n",
       "\n",
       "                                              geometry  shape_id  \\\n",
       "156  POLYGON ((-90138.298 150418.409, -90177.775 15...  p_900655   \n",
       "157  POLYGON ((-91328.902 149378.389, -91559.372 14...  p_900655   \n",
       "158  POLYGON ((-91593.493 149262.646, -91608.656 14...  p_900655   \n",
       "\n",
       "     stop_sequence route_id route_short_name  direction_id  p50_mph  p20_mph  \\\n",
       "156       2.500000    16672                7           1.0     43.6     43.6   \n",
       "157       3.000000    16672                7           1.0     44.6     44.6   \n",
       "158       3.333333    16672                7           1.0     35.3     35.3   \n",
       "\n",
       "     p80_mph  fast_slow_ratio  trips_per_hour  miles_from_last time_formatted  \\\n",
       "156     43.6              1.0             0.1              1.1           1:30   \n",
       "157     44.6              1.0             0.1              0.3           0:24   \n",
       "158     35.3              1.0             0.1              1.0           1:41   \n",
       "\n",
       "                     gtfs_dataset_key organization_name  system_p50_median  \n",
       "156  ac2951bfaa7ecf6b80ba9e50aef1ae86     Nevada County               26.7  \n",
       "157  ac2951bfaa7ecf6b80ba9e50aef1ae86     Nevada County               26.7  \n",
       "158  ac2951bfaa7ecf6b80ba9e50aef1ae86     Nevada County               26.7  "
      ]
     },
     "execution_count": 50,
     "metadata": {},
     "output_type": "execute_result"
    }
   ],
   "source": [
    "segments_all >> head(3)"
   ]
  },
  {
   "cell_type": "code",
   "execution_count": 51,
   "id": "758b1a0e-e4f2-4e68-aaa3-75535bc1c3ae",
   "metadata": {},
   "outputs": [],
   "source": [
    "shs = gpd.read_parquet(SHN_PATH).to_crs(CA_NAD83Albers)"
   ]
  },
  {
   "cell_type": "code",
   "execution_count": 52,
   "id": "cc9f9881-0a29-4e71-9858-ace147c63f4e",
   "metadata": {},
   "outputs": [
    {
     "data": {
      "text/html": [
       "<div>\n",
       "<style scoped>\n",
       "    .dataframe tbody tr th:only-of-type {\n",
       "        vertical-align: middle;\n",
       "    }\n",
       "\n",
       "    .dataframe tbody tr th {\n",
       "        vertical-align: top;\n",
       "    }\n",
       "\n",
       "    .dataframe thead th {\n",
       "        text-align: right;\n",
       "    }\n",
       "</style>\n",
       "<table border=\"1\" class=\"dataframe\">\n",
       "  <thead>\n",
       "    <tr style=\"text-align: right;\">\n",
       "      <th></th>\n",
       "      <th>Route</th>\n",
       "      <th>County</th>\n",
       "      <th>District</th>\n",
       "      <th>RouteType</th>\n",
       "      <th>NB</th>\n",
       "      <th>SB</th>\n",
       "      <th>EB</th>\n",
       "      <th>WB</th>\n",
       "      <th>geometry</th>\n",
       "      <th>highway_length</th>\n",
       "    </tr>\n",
       "  </thead>\n",
       "  <tbody>\n",
       "    <tr>\n",
       "      <th>0</th>\n",
       "      <td>1</td>\n",
       "      <td>LA</td>\n",
       "      <td>7</td>\n",
       "      <td>State</td>\n",
       "      <td>1</td>\n",
       "      <td>1</td>\n",
       "      <td>0</td>\n",
       "      <td>0</td>\n",
       "      <td>MULTIPOLYGON (((144885.273 -447613.479, 144886...</td>\n",
       "      <td>325266.344392</td>\n",
       "    </tr>\n",
       "    <tr>\n",
       "      <th>1</th>\n",
       "      <td>1</td>\n",
       "      <td>MEN</td>\n",
       "      <td>1</td>\n",
       "      <td>State</td>\n",
       "      <td>1</td>\n",
       "      <td>1</td>\n",
       "      <td>0</td>\n",
       "      <td>0</td>\n",
       "      <td>POLYGON ((-328501.511 157787.309, -328497.074 ...</td>\n",
       "      <td>544903.330331</td>\n",
       "    </tr>\n",
       "    <tr>\n",
       "      <th>2</th>\n",
       "      <td>1</td>\n",
       "      <td>MON</td>\n",
       "      <td>5</td>\n",
       "      <td>State</td>\n",
       "      <td>1</td>\n",
       "      <td>1</td>\n",
       "      <td>0</td>\n",
       "      <td>0</td>\n",
       "      <td>POLYGON ((-173401.509 -166434.139, -173403.742...</td>\n",
       "      <td>531935.433460</td>\n",
       "    </tr>\n",
       "  </tbody>\n",
       "</table>\n",
       "</div>"
      ],
      "text/plain": [
       "   Route County  District RouteType  NB  SB  EB  WB  \\\n",
       "0      1     LA         7     State   1   1   0   0   \n",
       "1      1    MEN         1     State   1   1   0   0   \n",
       "2      1    MON         5     State   1   1   0   0   \n",
       "\n",
       "                                            geometry  highway_length  \n",
       "0  MULTIPOLYGON (((144885.273 -447613.479, 144886...   325266.344392  \n",
       "1  POLYGON ((-328501.511 157787.309, -328497.074 ...   544903.330331  \n",
       "2  POLYGON ((-173401.509 -166434.139, -173403.742...   531935.433460  "
      ]
     },
     "execution_count": 52,
     "metadata": {},
     "output_type": "execute_result"
    }
   ],
   "source": [
    "shs >> head(3)"
   ]
  },
  {
   "cell_type": "code",
   "execution_count": 53,
   "id": "75d5f6b0-0009-4a3c-97ba-eb39a499284d",
   "metadata": {},
   "outputs": [],
   "source": [
    "shs_dask = dg.from_geopandas(shs, npartitions=10)"
   ]
  },
  {
   "cell_type": "code",
   "execution_count": 54,
   "id": "c417f5b2-9a28-4b2d-86f8-adf414bc0024",
   "metadata": {},
   "outputs": [],
   "source": [
    "segs_dask = dg.from_geopandas(segments_all, npartitions=10)"
   ]
  },
  {
   "cell_type": "code",
   "execution_count": 55,
   "id": "fc55b05b-704e-4853-b2af-3b000ad5c313",
   "metadata": {},
   "outputs": [],
   "source": [
    "lines_dask = dg.from_geopandas(joined_seg_lines, npartitions=10)"
   ]
  },
  {
   "cell_type": "code",
   "execution_count": 56,
   "id": "60e2d5e8-b596-4962-9083-7ac634cde494",
   "metadata": {},
   "outputs": [],
   "source": [
    "shs_segs_joined = segs_dask.sjoin(shs_dask)"
   ]
  },
  {
   "cell_type": "code",
   "execution_count": 57,
   "id": "d21adcef-c47c-4471-91b0-443c41186f32",
   "metadata": {},
   "outputs": [
    {
     "name": "stderr",
     "output_type": "stream",
     "text": [
      "\n",
      "KeyboardInterrupt\n",
      "\n"
     ]
    }
   ],
   "source": [
    "shs_segs_joined_computed = shs_segs_joined.compute()"
   ]
  },
  {
   "cell_type": "code",
   "execution_count": null,
   "id": "50cb2aac-75c9-4ddd-849f-3ef0e2ad2be4",
   "metadata": {},
   "outputs": [],
   "source": [
    "shs_segs_joined_computed >> head(3)"
   ]
  },
  {
   "cell_type": "code",
   "execution_count": null,
   "id": "820905d2-a100-4379-83cb-0492a29a912d",
   "metadata": {},
   "outputs": [],
   "source": [
    "shs_lines_joined = lines_dask.sjoin(shs_dask)"
   ]
  },
  {
   "cell_type": "code",
   "execution_count": null,
   "id": "82fdcb15-03a3-4567-9392-33ec5c773a12",
   "metadata": {},
   "outputs": [],
   "source": [
    "shs_lines_joined_computed = shs_lines_joined.compute()"
   ]
  },
  {
   "cell_type": "code",
   "execution_count": null,
   "id": "3dc447e2-f0c0-4114-af97-eb7f1d3bb6e4",
   "metadata": {},
   "outputs": [],
   "source": [
    "shs_lines_joined_computed >> head(3)"
   ]
  },
  {
   "cell_type": "code",
   "execution_count": null,
   "id": "454033d3-9e07-42f3-9e89-d836059f5493",
   "metadata": {},
   "outputs": [],
   "source": [
    "shs_lines_joined_computed.columns"
   ]
  },
  {
   "cell_type": "code",
   "execution_count": null,
   "id": "18f3b673-074c-4ca0-aae7-87be48a7b625",
   "metadata": {},
   "outputs": [],
   "source": [
    "shs_lines_joined_computed = shs_lines_joined_computed >> select(-_.time_from_last, -_.index_right, -_.highway_length,\n",
    "                                                            -_.EB, -_.WB, -_.NB, -_.SB)"
   ]
  },
  {
   "cell_type": "code",
   "execution_count": null,
   "id": "ad580526-45f9-4f2a-9e2a-81e4c884d730",
   "metadata": {},
   "outputs": [],
   "source": [
    "shs_lines_joined_computed.to_file('transit_lines_shs_joined.geojson')"
   ]
  },
  {
   "cell_type": "code",
   "execution_count": null,
   "id": "3603788f-11bf-45b0-9ee5-0e668c25b070",
   "metadata": {},
   "outputs": [],
   "source": [
    "shs_segs_joined_computed.to_file('transit_polygons_shs_joined.geojson')"
   ]
  }
 ],
 "metadata": {
  "kernelspec": {
   "display_name": "Python 3 (ipykernel)",
   "language": "python",
   "name": "python3"
  },
  "language_info": {
   "codemirror_mode": {
    "name": "ipython",
    "version": 3
   },
   "file_extension": ".py",
   "mimetype": "text/x-python",
   "name": "python",
   "nbconvert_exporter": "python",
   "pygments_lexer": "ipython3",
   "version": "3.9.13"
  },
  "widgets": {
   "application/vnd.jupyter.widget-state+json": {
    "state": {
     "12565a42856f41a0924cae53c39d14f4": {
      "model_module": "@jupyter-widgets/base",
      "model_module_version": "1.2.0",
      "model_name": "LayoutModel",
      "state": {
       "width": "20px"
      }
     },
     "158ea454131c4d918168707643eafe42": {
      "model_module": "@jupyter-widgets/controls",
      "model_module_version": "1.5.0",
      "model_name": "FloatProgressModel",
      "state": {
       "bar_style": "info",
       "layout": "IPY_MODEL_12565a42856f41a0924cae53c39d14f4",
       "max": 1,
       "style": "IPY_MODEL_f0108c4b644e477d9343c8a7bae333c6"
      }
     },
     "3e8ddf15c695482ba38de1ddc3656869": {
      "model_module": "@jupyter-widgets/base",
      "model_module_version": "1.2.0",
      "model_name": "LayoutModel",
      "state": {}
     },
     "538b7695b7834f7fbd10d4fb66d0b56a": {
      "model_module": "@jupyter-widgets/controls",
      "model_module_version": "1.5.0",
      "model_name": "HBoxModel",
      "state": {
       "children": [
        "IPY_MODEL_9b92604d092d47b98fc65f097b37bafa",
        "IPY_MODEL_158ea454131c4d918168707643eafe42",
        "IPY_MODEL_9a6cf231623740848f46677fbddd6143"
       ],
       "layout": "IPY_MODEL_f5905e678d5d4e72a8d7ebf010c8b150"
      }
     },
     "6b3bbca201084d029ab990a64cb75fa0": {
      "model_module": "@jupyter-widgets/controls",
      "model_module_version": "1.5.0",
      "model_name": "DescriptionStyleModel",
      "state": {
       "description_width": ""
      }
     },
     "9a6cf231623740848f46677fbddd6143": {
      "model_module": "@jupyter-widgets/controls",
      "model_module_version": "1.5.0",
      "model_name": "HTMLModel",
      "state": {
       "layout": "IPY_MODEL_d487667920354bcda9dc4112667b62c8",
       "style": "IPY_MODEL_e3edeadd65c9426b8b061194b3b74191",
       "value": " 0/? [00:00&lt;?, ?it/s]"
      }
     },
     "9b92604d092d47b98fc65f097b37bafa": {
      "model_module": "@jupyter-widgets/controls",
      "model_module_version": "1.5.0",
      "model_name": "HTMLModel",
      "state": {
       "layout": "IPY_MODEL_3e8ddf15c695482ba38de1ddc3656869",
       "style": "IPY_MODEL_6b3bbca201084d029ab990a64cb75fa0"
      }
     },
     "d487667920354bcda9dc4112667b62c8": {
      "model_module": "@jupyter-widgets/base",
      "model_module_version": "1.2.0",
      "model_name": "LayoutModel",
      "state": {}
     },
     "e3edeadd65c9426b8b061194b3b74191": {
      "model_module": "@jupyter-widgets/controls",
      "model_module_version": "1.5.0",
      "model_name": "DescriptionStyleModel",
      "state": {
       "description_width": ""
      }
     },
     "f0108c4b644e477d9343c8a7bae333c6": {
      "model_module": "@jupyter-widgets/controls",
      "model_module_version": "1.5.0",
      "model_name": "ProgressStyleModel",
      "state": {
       "description_width": ""
      }
     },
     "f5905e678d5d4e72a8d7ebf010c8b150": {
      "model_module": "@jupyter-widgets/base",
      "model_module_version": "1.2.0",
      "model_name": "LayoutModel",
      "state": {}
     }
    },
    "version_major": 2,
    "version_minor": 0
   }
  }
 },
 "nbformat": 4,
 "nbformat_minor": 5
}
