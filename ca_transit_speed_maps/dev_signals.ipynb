{
 "cells": [
  {
   "cell_type": "code",
   "execution_count": 1,
   "id": "46898b5c-b5cc-4096-ab68-8c3e42fab870",
   "metadata": {},
   "outputs": [],
   "source": [
    "%%capture\n",
    "import warnings\n",
    "warnings.filterwarnings('ignore')\n",
    "\n",
    "import os\n",
    "os.environ[\"CALITP_BQ_MAX_BYTES\"] = str(800_000_000_000)\n",
    "\n",
    "from calitp_data_analysis.tables import tbls\n",
    "\n",
    "from siuba import *\n",
    "import pandas as pd\n",
    "import geopandas as gpd\n",
    "\n",
    "import datetime as dt\n",
    "from rt_analysis import signal_tools, rt_filter_map_plot"
   ]
  },
  {
   "cell_type": "markdown",
   "id": "07f3e240-429a-4f02-bef4-70882070f89e",
   "metadata": {},
   "source": [
    "# Signal Transit Scoring\n",
    "\n",
    "We used three scoring components for each signal: a speed component, speed variability component, and transit frequency component. Each component is scored 0-10, and the overall transit score is a sum of all three. Higher numbers indicate more delay, more unreliability, and more frequent transit, so based on our analysis the signals with the highest combined scores would be the place to start.\n",
    "\n",
    "Subscores are calculated seperately for all transit routes approaching a signal. To get the overall signal score, we sum the medians of all three subscores for that signal."
   ]
  },
  {
   "cell_type": "code",
   "execution_count": 2,
   "id": "9273e17d-b127-4e35-a462-79f458ee0928",
   "metadata": {},
   "outputs": [],
   "source": [
    "path = './signals_2024-01-16.xlsx'\n",
    "signal_gdf = signal_tools.read_signal_excel(path)"
   ]
  },
  {
   "cell_type": "code",
   "execution_count": 3,
   "id": "0295b750-a7ae-4d1d-aa99-d87d451af7ed",
   "metadata": {},
   "outputs": [
    {
     "data": {
      "text/html": [
       "<div>\n",
       "<style scoped>\n",
       "    .dataframe tbody tr th:only-of-type {\n",
       "        vertical-align: middle;\n",
       "    }\n",
       "\n",
       "    .dataframe tbody tr th {\n",
       "        vertical-align: top;\n",
       "    }\n",
       "\n",
       "    .dataframe thead th {\n",
       "        text-align: right;\n",
       "    }\n",
       "</style>\n",
       "<table border=\"1\" class=\"dataframe\">\n",
       "  <thead>\n",
       "    <tr style=\"text-align: right;\">\n",
       "      <th></th>\n",
       "      <th>legacy_district_tms_id</th>\n",
       "      <th>detection_technology</th>\n",
       "      <th>funded</th>\n",
       "      <th>funded.1</th>\n",
       "      <th>user_program_type</th>\n",
       "      <th>am_tool_tms_worksheet::program_type</th>\n",
       "      <th>user_program_type.1</th>\n",
       "      <th>user_rtl</th>\n",
       "      <th>user_rtl.1</th>\n",
       "      <th>am_tool_tms_worksheet::rtl_plan_year</th>\n",
       "      <th>...</th>\n",
       "      <th>crosswalks_lpi_implemented</th>\n",
       "      <th>crosswalks_lpi_implemented_date</th>\n",
       "      <th>crosswalks_lpi_implemented_exception_comments</th>\n",
       "      <th>tms_unit_tech_projected_age</th>\n",
       "      <th>tms_id</th>\n",
       "      <th>am_tool_tms_worksheet::comments</th>\n",
       "      <th>owned_by</th>\n",
       "      <th>operated_by</th>\n",
       "      <th>maintained_by</th>\n",
       "      <th>geometry</th>\n",
       "    </tr>\n",
       "  </thead>\n",
       "  <tbody>\n",
       "    <tr>\n",
       "      <th>0</th>\n",
       "      <td>01DN101-E2590</td>\n",
       "      <td>NaN</td>\n",
       "      <td>Yes</td>\n",
       "      <td>Yes</td>\n",
       "      <td>HM</td>\n",
       "      <td>HM</td>\n",
       "      <td>HM</td>\n",
       "      <td>2024.0</td>\n",
       "      <td>2024.0</td>\n",
       "      <td>2025.0</td>\n",
       "      <td>...</td>\n",
       "      <td>None</td>\n",
       "      <td>NaT</td>\n",
       "      <td>NaN</td>\n",
       "      <td>-1</td>\n",
       "      <td>0110102584PA</td>\n",
       "      <td>chronic http://sv03tmctrac/projects/tms_suppor...</td>\n",
       "      <td>Caltrans(District)</td>\n",
       "      <td>Caltrans(District)</td>\n",
       "      <td>Caltrans(District)</td>\n",
       "      <td>POINT (-124.18538 41.75222)</td>\n",
       "    </tr>\n",
       "    <tr>\n",
       "      <th>1</th>\n",
       "      <td>01DN101-E2627</td>\n",
       "      <td>NaN</td>\n",
       "      <td>Yes</td>\n",
       "      <td>Yes</td>\n",
       "      <td>SHOPP</td>\n",
       "      <td>SHOPP</td>\n",
       "      <td>SHOPP</td>\n",
       "      <td>2031.0</td>\n",
       "      <td>2031.0</td>\n",
       "      <td>2031.0</td>\n",
       "      <td>...</td>\n",
       "      <td>None</td>\n",
       "      <td>NaT</td>\n",
       "      <td>NaN</td>\n",
       "      <td>-1</td>\n",
       "      <td>0110102627PS</td>\n",
       "      <td>NaN</td>\n",
       "      <td>Caltrans(District)</td>\n",
       "      <td>Caltrans(District)</td>\n",
       "      <td>Caltrans(District)</td>\n",
       "      <td>POINT (-124.19306 41.75281)</td>\n",
       "    </tr>\n",
       "    <tr>\n",
       "      <th>2</th>\n",
       "      <td>01DN101-E2640</td>\n",
       "      <td>NaN</td>\n",
       "      <td>Yes</td>\n",
       "      <td>Yes</td>\n",
       "      <td>SHOPP</td>\n",
       "      <td>SHOPP</td>\n",
       "      <td>SHOPP</td>\n",
       "      <td>2031.0</td>\n",
       "      <td>2031.0</td>\n",
       "      <td>2031.0</td>\n",
       "      <td>...</td>\n",
       "      <td>None</td>\n",
       "      <td>NaT</td>\n",
       "      <td>NaN</td>\n",
       "      <td>-1</td>\n",
       "      <td>0110102642PN</td>\n",
       "      <td>NaN</td>\n",
       "      <td>Caltrans(District)</td>\n",
       "      <td>Caltrans(District)</td>\n",
       "      <td>Caltrans(District)</td>\n",
       "      <td>POINT (-124.19447 41.75575)</td>\n",
       "    </tr>\n",
       "  </tbody>\n",
       "</table>\n",
       "<p>3 rows × 82 columns</p>\n",
       "</div>"
      ],
      "text/plain": [
       "  legacy_district_tms_id  detection_technology funded funded.1  \\\n",
       "0          01DN101-E2590                   NaN    Yes      Yes   \n",
       "1          01DN101-E2627                   NaN    Yes      Yes   \n",
       "2          01DN101-E2640                   NaN    Yes      Yes   \n",
       "\n",
       "  user_program_type am_tool_tms_worksheet::program_type user_program_type.1  \\\n",
       "0                HM                                  HM                  HM   \n",
       "1             SHOPP                               SHOPP               SHOPP   \n",
       "2             SHOPP                               SHOPP               SHOPP   \n",
       "\n",
       "   user_rtl  user_rtl.1  am_tool_tms_worksheet::rtl_plan_year  ...  \\\n",
       "0    2024.0      2024.0                                2025.0  ...   \n",
       "1    2031.0      2031.0                                2031.0  ...   \n",
       "2    2031.0      2031.0                                2031.0  ...   \n",
       "\n",
       "  crosswalks_lpi_implemented crosswalks_lpi_implemented_date  \\\n",
       "0                       None                             NaT   \n",
       "1                       None                             NaT   \n",
       "2                       None                             NaT   \n",
       "\n",
       "  crosswalks_lpi_implemented_exception_comments  tms_unit_tech_projected_age  \\\n",
       "0                                           NaN                           -1   \n",
       "1                                           NaN                           -1   \n",
       "2                                           NaN                           -1   \n",
       "\n",
       "         tms_id                    am_tool_tms_worksheet::comments  \\\n",
       "0  0110102584PA  chronic http://sv03tmctrac/projects/tms_suppor...   \n",
       "1  0110102627PS                                                NaN   \n",
       "2  0110102642PN                                                NaN   \n",
       "\n",
       "             owned_by         operated_by       maintained_by  \\\n",
       "0  Caltrans(District)  Caltrans(District)  Caltrans(District)   \n",
       "1  Caltrans(District)  Caltrans(District)  Caltrans(District)   \n",
       "2  Caltrans(District)  Caltrans(District)  Caltrans(District)   \n",
       "\n",
       "                      geometry  \n",
       "0  POINT (-124.18538 41.75222)  \n",
       "1  POINT (-124.19306 41.75281)  \n",
       "2  POINT (-124.19447 41.75575)  \n",
       "\n",
       "[3 rows x 82 columns]"
      ]
     },
     "execution_count": 3,
     "metadata": {},
     "output_type": "execute_result"
    }
   ],
   "source": [
    "signal_gdf >> head(3)"
   ]
  },
  {
   "cell_type": "markdown",
   "id": "cd0bb894-0642-4d93-a18f-5fcbf816d47d",
   "metadata": {},
   "source": [
    "# Rebuild analysis with latest speedmap data\n",
    "\n",
    "* switch to new speed data pending\n",
    "* sbmtd not available due to a feed upload gap, use last date"
   ]
  },
  {
   "cell_type": "code",
   "execution_count": 4,
   "id": "9833c499-ed4d-446e-8a81-f8f8a16ec3fd",
   "metadata": {},
   "outputs": [],
   "source": [
    "progress_df = pd.read_parquet('./_rt_progress_2023-11-15.parquet') >> filter(_.status == 'map_confirmed')"
   ]
  },
  {
   "cell_type": "code",
   "execution_count": 5,
   "id": "683d02c4-dd8e-49cc-9b40-eb5191c75787",
   "metadata": {},
   "outputs": [],
   "source": [
    "analysis_date = progress_df.analysis_date.iloc[0]"
   ]
  },
  {
   "cell_type": "code",
   "execution_count": 6,
   "id": "20501148-48f4-4ec3-88b3-c7f369ee6248",
   "metadata": {
    "tags": []
   },
   "outputs": [],
   "source": [
    "# all_segment_gdf = signal_tools.concatenate_speedmap_segments(progress_df=progress_df)"
   ]
  },
  {
   "cell_type": "code",
   "execution_count": 7,
   "id": "94eba466-d0a9-4757-8c39-ea8d80ed5a18",
   "metadata": {},
   "outputs": [
    {
     "data": {
      "text/html": [
       "<div>\n",
       "<style scoped>\n",
       "    .dataframe tbody tr th:only-of-type {\n",
       "        vertical-align: middle;\n",
       "    }\n",
       "\n",
       "    .dataframe tbody tr th {\n",
       "        vertical-align: top;\n",
       "    }\n",
       "\n",
       "    .dataframe thead th {\n",
       "        text-align: right;\n",
       "    }\n",
       "</style>\n",
       "<table border=\"1\" class=\"dataframe\">\n",
       "  <thead>\n",
       "    <tr style=\"text-align: right;\">\n",
       "      <th></th>\n",
       "      <th>organization_name</th>\n",
       "      <th>organization_itp_id</th>\n",
       "      <th>organization_source_record_id</th>\n",
       "      <th>caltrans_district</th>\n",
       "      <th>_is_current</th>\n",
       "      <th>analysis_date</th>\n",
       "      <th>status</th>\n",
       "    </tr>\n",
       "  </thead>\n",
       "  <tbody>\n",
       "    <tr>\n",
       "      <th>19</th>\n",
       "      <td>Santa Barbara Metropolitan Transit District</td>\n",
       "      <td>293</td>\n",
       "      <td>recswCrw6a6htmXJ4</td>\n",
       "      <td>05 - San Luis Obispo</td>\n",
       "      <td>True</td>\n",
       "      <td>2023-11-15</td>\n",
       "      <td>map_confirmed</td>\n",
       "    </tr>\n",
       "  </tbody>\n",
       "</table>\n",
       "</div>"
      ],
      "text/plain": [
       "                              organization_name  organization_itp_id  \\\n",
       "19  Santa Barbara Metropolitan Transit District                  293   \n",
       "\n",
       "   organization_source_record_id     caltrans_district  _is_current  \\\n",
       "19             recswCrw6a6htmXJ4  05 - San Luis Obispo         True   \n",
       "\n",
       "   analysis_date         status  \n",
       "19    2023-11-15  map_confirmed  "
      ]
     },
     "execution_count": 7,
     "metadata": {},
     "output_type": "execute_result"
    }
   ],
   "source": [
    "progress_df >> filter(_.organization_itp_id == 293)"
   ]
  },
  {
   "cell_type": "code",
   "execution_count": 8,
   "id": "3e5a7a8b-4004-4be1-befc-18060e54c8cb",
   "metadata": {},
   "outputs": [],
   "source": [
    "import shared_utils"
   ]
  },
  {
   "cell_type": "code",
   "execution_count": 9,
   "id": "9d3750c4-e190-4586-984b-d460cfa8c769",
   "metadata": {},
   "outputs": [],
   "source": [
    "# ## use September run for SBMTD (data gap)\n",
    "\n",
    "# rt_day = rt_filter_map_plot.from_gcs(293, dt.date(2023, 9, 13), pbar)\n",
    "\n",
    "# _m = rt_day.segment_speed_map(how='low_speeds', no_title=True, shn=True,\n",
    "#                      no_render=True\n",
    "#                     )\n",
    "\n",
    "# dmv_proj = rt_day.detailed_map_view.to_crs(shared_utils.geography_utils.CA_NAD83Albers)\n",
    "# # re-add some identifiers since we won't have the instance handy\n",
    "# # dmv_proj['feed_key'] = rt_day.rt_trips.feed_key.iloc[0]\n",
    "# dmv_proj['gtfs_dataset_key'] = rt_day.rt_trips.gtfs_dataset_key.iloc[0]\n",
    "# dmv_proj['organization_name'] = rt_day.organization_name\n",
    "# dmv_proj['system_p50_median'] = dmv_proj.p50_mph.quantile(.5)"
   ]
  },
  {
   "cell_type": "code",
   "execution_count": 10,
   "id": "5ae2b65c-6038-441c-a654-115adfc46c34",
   "metadata": {},
   "outputs": [],
   "source": [
    "# all_segment_gdf = pd.concat([all_segment_gdf, dmv_proj])"
   ]
  },
  {
   "cell_type": "code",
   "execution_count": 11,
   "id": "b304edb0-480c-4024-93e5-ec166372d6b2",
   "metadata": {},
   "outputs": [],
   "source": [
    "# all_segment_gdf.to_parquet(f'segments_all_{analysis_date}.parquet')"
   ]
  },
  {
   "cell_type": "code",
   "execution_count": 12,
   "id": "8339e63c-1c73-4214-b189-d91fa7637e87",
   "metadata": {},
   "outputs": [],
   "source": [
    "# segment_lines_all = signal_tools.copy_segment_speeds(progress_df, date_exceptions = {293: dt.date(2023, 9, 13)})"
   ]
  },
  {
   "cell_type": "code",
   "execution_count": 13,
   "id": "f84fc9a0-7f16-452a-a7d8-60d1939262c9",
   "metadata": {},
   "outputs": [],
   "source": [
    "# segment_lines_all.to_parquet(f'./segment_lines_all_{analysis_date}.parquet')"
   ]
  },
  {
   "cell_type": "code",
   "execution_count": 14,
   "id": "48c3d301-0355-4b95-b8c3-419c9c345da3",
   "metadata": {},
   "outputs": [],
   "source": [
    "segments_all = gpd.read_parquet(f'segments_all_{analysis_date}.parquet')"
   ]
  },
  {
   "cell_type": "code",
   "execution_count": 50,
   "id": "6a6e6298-5afc-45e1-b667-26a3635b071e",
   "metadata": {},
   "outputs": [
    {
     "data": {
      "text/plain": [
       "<AxesSubplot:>"
      ]
     },
     "execution_count": 50,
     "metadata": {},
     "output_type": "execute_result"
    },
    {
     "data": {
      "image/png": "[encoded data removed]",
      "text/plain": [
       "<Figure size 640x480 with 1 Axes>"
      ]
     },
     "metadata": {},
     "output_type": "display_data"
    }
   ],
   "source": [
    "segments_all"
   ]
  },
  {
   "cell_type": "code",
   "execution_count": 15,
   "id": "5d48f027-f37a-4bda-8fe8-fd98a9a44391",
   "metadata": {},
   "outputs": [],
   "source": [
    "segment_lines_all = gpd.read_parquet(f'./segment_lines_all_{analysis_date}.parquet')"
   ]
  },
  {
   "cell_type": "code",
   "execution_count": 16,
   "id": "4df01400-1dd6-4d4e-a002-10f4dcb86756",
   "metadata": {},
   "outputs": [],
   "source": [
    "joined_seg_lines = signal_tools.sjoin_signals(signal_gdf = signal_gdf, segments_gdf = segments_all,\n",
    "                                              segments_lines_gdf = segment_lines_all)"
   ]
  },
  {
   "cell_type": "code",
   "execution_count": 17,
   "id": "bff01c77-d992-4f8a-98cb-4fc86d95e776",
   "metadata": {},
   "outputs": [],
   "source": [
    "joined_seg_lines = signal_tools.determine_approaching(joined_seg_lines)"
   ]
  },
  {
   "cell_type": "code",
   "execution_count": 18,
   "id": "ee781b1f-a9dc-4f69-b437-20cfc8bd94fa",
   "metadata": {},
   "outputs": [],
   "source": [
    "median_by_signal = signal_tools.calculate_scores(joined_seg_lines)"
   ]
  },
  {
   "cell_type": "code",
   "execution_count": 19,
   "id": "da74d527-1501-4906-a4fb-d84ae7dcae5b",
   "metadata": {},
   "outputs": [
    {
     "data": {
      "text/html": [
       "<div>\n",
       "<style scoped>\n",
       "    .dataframe tbody tr th:only-of-type {\n",
       "        vertical-align: middle;\n",
       "    }\n",
       "\n",
       "    .dataframe tbody tr th {\n",
       "        vertical-align: top;\n",
       "    }\n",
       "\n",
       "    .dataframe thead th {\n",
       "        text-align: right;\n",
       "    }\n",
       "</style>\n",
       "<table border=\"1\" class=\"dataframe\">\n",
       "  <thead>\n",
       "    <tr style=\"text-align: right;\">\n",
       "      <th></th>\n",
       "      <th>imms_id</th>\n",
       "      <th>location</th>\n",
       "      <th>speed_score</th>\n",
       "      <th>variability_score</th>\n",
       "      <th>frequency_score</th>\n",
       "      <th>overall_transit_score</th>\n",
       "    </tr>\n",
       "  </thead>\n",
       "  <tbody>\n",
       "    <tr>\n",
       "      <th>2184</th>\n",
       "      <td>07LA110 -ED436</td>\n",
       "      <td>OFF 2ND STREET -BEAUDRY AVENUE</td>\n",
       "      <td>8.0</td>\n",
       "      <td>10.0</td>\n",
       "      <td>10.0</td>\n",
       "      <td>28.0</td>\n",
       "    </tr>\n",
       "    <tr>\n",
       "      <th>1142</th>\n",
       "      <td>04SM084 -E35C0</td>\n",
       "      <td>BROADWAY/S/B 101 OFF-RAMP and WOODSIDE RD (RTE...</td>\n",
       "      <td>6.0</td>\n",
       "      <td>10.0</td>\n",
       "      <td>10.0</td>\n",
       "      <td>26.0</td>\n",
       "    </tr>\n",
       "    <tr>\n",
       "      <th>1148</th>\n",
       "      <td>04SM084 -E35D1</td>\n",
       "      <td>VETERANS/S/B 101 ON-RAMP and WOODSIDE RD (RTE 84)</td>\n",
       "      <td>6.0</td>\n",
       "      <td>10.0</td>\n",
       "      <td>10.0</td>\n",
       "      <td>26.0</td>\n",
       "    </tr>\n",
       "    <tr>\n",
       "      <th>3343</th>\n",
       "      <td>12ORA055 -E0176</td>\n",
       "      <td>55 at Santiago Blvd / Lincoln Ave</td>\n",
       "      <td>6.0</td>\n",
       "      <td>10.0</td>\n",
       "      <td>10.0</td>\n",
       "      <td>26.0</td>\n",
       "    </tr>\n",
       "    <tr>\n",
       "      <th>868</th>\n",
       "      <td>04SCL237 -EZ374</td>\n",
       "      <td>MATHILDA AVE and RTE 237 E/B RAMPS</td>\n",
       "      <td>5.0</td>\n",
       "      <td>10.0</td>\n",
       "      <td>10.0</td>\n",
       "      <td>25.0</td>\n",
       "    </tr>\n",
       "    <tr>\n",
       "      <th>...</th>\n",
       "      <td>...</td>\n",
       "      <td>...</td>\n",
       "      <td>...</td>\n",
       "      <td>...</td>\n",
       "      <td>...</td>\n",
       "      <td>...</td>\n",
       "    </tr>\n",
       "    <tr>\n",
       "      <th>2867</th>\n",
       "      <td>10STA099R-EC069</td>\n",
       "      <td>Fulkerth Road</td>\n",
       "      <td>0.0</td>\n",
       "      <td>3.0</td>\n",
       "      <td>1.0</td>\n",
       "      <td>4.0</td>\n",
       "    </tr>\n",
       "    <tr>\n",
       "      <th>2868</th>\n",
       "      <td>10STA099R-EC082</td>\n",
       "      <td>W. Main Street</td>\n",
       "      <td>0.0</td>\n",
       "      <td>3.0</td>\n",
       "      <td>1.0</td>\n",
       "      <td>4.0</td>\n",
       "    </tr>\n",
       "    <tr>\n",
       "      <th>3090</th>\n",
       "      <td>11SD094 -E8005</td>\n",
       "      <td>DAISY DR</td>\n",
       "      <td>1.0</td>\n",
       "      <td>3.0</td>\n",
       "      <td>0.0</td>\n",
       "      <td>4.0</td>\n",
       "    </tr>\n",
       "    <tr>\n",
       "      <th>3094</th>\n",
       "      <td>11SD094 -E8305</td>\n",
       "      <td>COUGAR CANYON DR /STEELE CANYON HS</td>\n",
       "      <td>0.0</td>\n",
       "      <td>3.0</td>\n",
       "      <td>0.0</td>\n",
       "      <td>3.0</td>\n",
       "    </tr>\n",
       "    <tr>\n",
       "      <th>3101</th>\n",
       "      <td>11SD094 -E8772</td>\n",
       "      <td>VIA MERCADO</td>\n",
       "      <td>0.0</td>\n",
       "      <td>3.0</td>\n",
       "      <td>0.0</td>\n",
       "      <td>3.0</td>\n",
       "    </tr>\n",
       "  </tbody>\n",
       "</table>\n",
       "<p>3430 rows × 6 columns</p>\n",
       "</div>"
      ],
      "text/plain": [
       "              imms_id                                           location  \\\n",
       "2184   07LA110 -ED436                     OFF 2ND STREET -BEAUDRY AVENUE   \n",
       "1142   04SM084 -E35C0  BROADWAY/S/B 101 OFF-RAMP and WOODSIDE RD (RTE...   \n",
       "1148   04SM084 -E35D1  VETERANS/S/B 101 ON-RAMP and WOODSIDE RD (RTE 84)   \n",
       "3343  12ORA055 -E0176                  55 at Santiago Blvd / Lincoln Ave   \n",
       "868   04SCL237 -EZ374                 MATHILDA AVE and RTE 237 E/B RAMPS   \n",
       "...               ...                                                ...   \n",
       "2867  10STA099R-EC069                                     Fulkerth Road    \n",
       "2868  10STA099R-EC082                                     W. Main Street   \n",
       "3090   11SD094 -E8005                                           DAISY DR   \n",
       "3094   11SD094 -E8305                 COUGAR CANYON DR /STEELE CANYON HS   \n",
       "3101   11SD094 -E8772                                        VIA MERCADO   \n",
       "\n",
       "      speed_score  variability_score  frequency_score  overall_transit_score  \n",
       "2184          8.0               10.0             10.0                   28.0  \n",
       "1142          6.0               10.0             10.0                   26.0  \n",
       "1148          6.0               10.0             10.0                   26.0  \n",
       "3343          6.0               10.0             10.0                   26.0  \n",
       "868           5.0               10.0             10.0                   25.0  \n",
       "...           ...                ...              ...                    ...  \n",
       "2867          0.0                3.0              1.0                    4.0  \n",
       "2868          0.0                3.0              1.0                    4.0  \n",
       "3090          1.0                3.0              0.0                    4.0  \n",
       "3094          0.0                3.0              0.0                    3.0  \n",
       "3101          0.0                3.0              0.0                    3.0  \n",
       "\n",
       "[3430 rows x 6 columns]"
      ]
     },
     "execution_count": 19,
     "metadata": {},
     "output_type": "execute_result"
    }
   ],
   "source": [
    "median_by_signal >> arrange(-_.overall_transit_score)"
   ]
  },
  {
   "cell_type": "markdown",
   "id": "02d6b5f2-a8e6-4c27-8d9d-79ef17d06762",
   "metadata": {},
   "source": [
    "## Reference Histograms for subscores"
   ]
  },
  {
   "cell_type": "code",
   "execution_count": 20,
   "id": "35acb576-b985-4f91-8e82-b5f753ce456d",
   "metadata": {},
   "outputs": [
    {
     "data": {
      "text/plain": [
       "<AxesSubplot:>"
      ]
     },
     "execution_count": 20,
     "metadata": {},
     "output_type": "execute_result"
    },
    {
     "data": {
      "image/png": "[encoded data removed]",
      "text/plain": [
       "<Figure size 640x480 with 1 Axes>"
      ]
     },
     "metadata": {},
     "output_type": "display_data"
    }
   ],
   "source": [
    "median_by_signal.speed_score.hist()"
   ]
  },
  {
   "cell_type": "code",
   "execution_count": 21,
   "id": "e70a93b5-0a7d-4a2b-ac3b-d52fa3e98498",
   "metadata": {},
   "outputs": [
    {
     "data": {
      "text/plain": [
       "<AxesSubplot:>"
      ]
     },
     "execution_count": 21,
     "metadata": {},
     "output_type": "execute_result"
    },
    {
     "data": {
      "image/png": "[encoded data removed]",
      "text/plain": [
       "<Figure size 640x480 with 1 Axes>"
      ]
     },
     "metadata": {},
     "output_type": "display_data"
    }
   ],
   "source": [
    "median_by_signal.variability_score.hist()"
   ]
  },
  {
   "cell_type": "code",
   "execution_count": 22,
   "id": "98ef3198-eaeb-4d1f-8314-bcdad01d8a3e",
   "metadata": {},
   "outputs": [
    {
     "data": {
      "text/plain": [
       "<AxesSubplot:>"
      ]
     },
     "execution_count": 22,
     "metadata": {},
     "output_type": "execute_result"
    },
    {
     "data": {
      "image/png": "[encoded data removed]",
      "text/plain": [
       "<Figure size 640x480 with 1 Axes>"
      ]
     },
     "metadata": {},
     "output_type": "display_data"
    }
   ],
   "source": [
    "median_by_signal.frequency_score.hist()"
   ]
  },
  {
   "cell_type": "code",
   "execution_count": 23,
   "id": "c11c8177-afc9-4eba-8676-124d246ea839",
   "metadata": {},
   "outputs": [
    {
     "data": {
      "text/plain": [
       "<AxesSubplot:>"
      ]
     },
     "execution_count": 23,
     "metadata": {},
     "output_type": "execute_result"
    },
    {
     "data": {
      "image/png": "[encoded data removed]",
      "text/plain": [
       "<Figure size 640x480 with 1 Axes>"
      ]
     },
     "metadata": {},
     "output_type": "display_data"
    }
   ],
   "source": [
    "median_by_signal.overall_transit_score.hist()"
   ]
  },
  {
   "cell_type": "code",
   "execution_count": 24,
   "id": "8947676a-1243-48b9-99e2-653e170bf120",
   "metadata": {},
   "outputs": [
    {
     "data": {
      "text/plain": [
       "2184     07LA110 -ED436\n",
       "1142     04SM084 -E35C0\n",
       "1148     04SM084 -E35D1\n",
       "3343    12ORA055 -E0176\n",
       "868     04SCL237 -EZ374\n",
       "             ...       \n",
       "2867    10STA099R-EC069\n",
       "2868    10STA099R-EC082\n",
       "3090     11SD094 -E8005\n",
       "3094     11SD094 -E8305\n",
       "3101     11SD094 -E8772\n",
       "Name: imms_id, Length: 3430, dtype: object"
      ]
     },
     "execution_count": 24,
     "metadata": {},
     "output_type": "execute_result"
    }
   ],
   "source": [
    "median_by_signal.imms_id"
   ]
  },
  {
   "cell_type": "code",
   "execution_count": 25,
   "id": "e0e976b3-bea4-4bd2-96e1-da1316e106d3",
   "metadata": {},
   "outputs": [],
   "source": [
    "median_by_signal['dist'] = median_by_signal.imms_id.map(lambda x: x[:2] if not pd.isna(x) else x)"
   ]
  },
  {
   "cell_type": "code",
   "execution_count": 26,
   "id": "81dbc7c1-d8ef-4879-b4a0-73ad345daab8",
   "metadata": {},
   "outputs": [
    {
     "data": {
      "text/html": [
       "<div>\n",
       "<style scoped>\n",
       "    .dataframe tbody tr th:only-of-type {\n",
       "        vertical-align: middle;\n",
       "    }\n",
       "\n",
       "    .dataframe tbody tr th {\n",
       "        vertical-align: top;\n",
       "    }\n",
       "\n",
       "    .dataframe thead th {\n",
       "        text-align: right;\n",
       "    }\n",
       "</style>\n",
       "<table border=\"1\" class=\"dataframe\">\n",
       "  <thead>\n",
       "    <tr style=\"text-align: right;\">\n",
       "      <th></th>\n",
       "      <th>dist</th>\n",
       "      <th>n</th>\n",
       "    </tr>\n",
       "  </thead>\n",
       "  <tbody>\n",
       "    <tr>\n",
       "      <th>0</th>\n",
       "      <td>01</td>\n",
       "      <td>48</td>\n",
       "    </tr>\n",
       "    <tr>\n",
       "      <th>1</th>\n",
       "      <td>02</td>\n",
       "      <td>45</td>\n",
       "    </tr>\n",
       "    <tr>\n",
       "      <th>2</th>\n",
       "      <td>03</td>\n",
       "      <td>172</td>\n",
       "    </tr>\n",
       "    <tr>\n",
       "      <th>3</th>\n",
       "      <td>04</td>\n",
       "      <td>1050</td>\n",
       "    </tr>\n",
       "    <tr>\n",
       "      <th>4</th>\n",
       "      <td>05</td>\n",
       "      <td>181</td>\n",
       "    </tr>\n",
       "    <tr>\n",
       "      <th>5</th>\n",
       "      <td>06</td>\n",
       "      <td>136</td>\n",
       "    </tr>\n",
       "    <tr>\n",
       "      <th>6</th>\n",
       "      <td>07</td>\n",
       "      <td>914</td>\n",
       "    </tr>\n",
       "    <tr>\n",
       "      <th>7</th>\n",
       "      <td>08</td>\n",
       "      <td>279</td>\n",
       "    </tr>\n",
       "    <tr>\n",
       "      <th>8</th>\n",
       "      <td>09</td>\n",
       "      <td>3</td>\n",
       "    </tr>\n",
       "    <tr>\n",
       "      <th>9</th>\n",
       "      <td>10</td>\n",
       "      <td>109</td>\n",
       "    </tr>\n",
       "    <tr>\n",
       "      <th>10</th>\n",
       "      <td>11</td>\n",
       "      <td>239</td>\n",
       "    </tr>\n",
       "    <tr>\n",
       "      <th>11</th>\n",
       "      <td>12</td>\n",
       "      <td>249</td>\n",
       "    </tr>\n",
       "    <tr>\n",
       "      <th>12</th>\n",
       "      <td>NaN</td>\n",
       "      <td>5</td>\n",
       "    </tr>\n",
       "  </tbody>\n",
       "</table>\n",
       "</div>"
      ],
      "text/plain": [
       "   dist     n\n",
       "0    01    48\n",
       "1    02    45\n",
       "2    03   172\n",
       "3    04  1050\n",
       "4    05   181\n",
       "5    06   136\n",
       "6    07   914\n",
       "7    08   279\n",
       "8    09     3\n",
       "9    10   109\n",
       "10   11   239\n",
       "11   12   249\n",
       "12  NaN     5"
      ]
     },
     "execution_count": 26,
     "metadata": {},
     "output_type": "execute_result"
    }
   ],
   "source": [
    "median_by_signal >> count(_.dist)"
   ]
  },
  {
   "cell_type": "code",
   "execution_count": 27,
   "id": "c26e4f66-fb84-4dfc-b027-350728cba8ae",
   "metadata": {
    "tags": []
   },
   "outputs": [],
   "source": [
    "median_by_signal.to_excel('signals_transit_score_jan_16_2023.xlsx')"
   ]
  },
  {
   "cell_type": "code",
   "execution_count": 28,
   "id": "85e38a5e-8867-4408-880b-39f32befe4e6",
   "metadata": {},
   "outputs": [],
   "source": [
    "gdf = (signal_gdf >> select(_.imms_id, _.geometry)) >> inner_join(_, median_by_signal, on = 'imms_id')"
   ]
  },
  {
   "cell_type": "code",
   "execution_count": 29,
   "id": "e0867b32-4a94-41db-88df-f8be2bfc118c",
   "metadata": {},
   "outputs": [],
   "source": [
    "# (signal_gdf >> filter(_.imms_id.str.contains('04SF101')) >> select(_.imms_id, _.location, _.geometry)).explore()"
   ]
  },
  {
   "cell_type": "code",
   "execution_count": 30,
   "id": "197c36ea-82bd-4bd5-bebd-30cdcb547691",
   "metadata": {},
   "outputs": [],
   "source": [
    "# gdf.explore(column = 'overall_transit_score', tiles = 'CartoDB positron', cmap='Blues')"
   ]
  },
  {
   "cell_type": "code",
   "execution_count": 31,
   "id": "05fe539e-b54c-471b-842a-56e95963106e",
   "metadata": {},
   "outputs": [],
   "source": [
    "import branca"
   ]
  },
  {
   "cell_type": "code",
   "execution_count": 32,
   "id": "2b129200-ada9-4c03-a9b8-2acd23367302",
   "metadata": {},
   "outputs": [],
   "source": [
    "signal_colorscale = branca.colormap.step.Purples_05.scale(vmin=0, vmax=gdf.overall_transit_score.max())"
   ]
  },
  {
   "cell_type": "code",
   "execution_count": 33,
   "id": "c118634d-5a11-4df0-aa75-9b094a6e70b9",
   "metadata": {},
   "outputs": [],
   "source": [
    "from shared_utils import rt_utils"
   ]
  },
  {
   "cell_type": "code",
   "execution_count": 34,
   "id": "118929d4-af46-47e1-b6ac-e7c0c4deb695",
   "metadata": {},
   "outputs": [],
   "source": [
    "gdf = gdf.to_crs(shared_utils.geography_utils.CA_NAD83Albers)\n",
    "gdf.geometry = gdf.buffer(100)"
   ]
  },
  {
   "cell_type": "markdown",
   "id": "c625a716-473f-420e-8cb0-4f16a5448fb0",
   "metadata": {},
   "source": [
    "A full state speedmap sort of works, but I suspect loading it and another layer at once hits some sort of GTFS limit..."
   ]
  },
  {
   "cell_type": "code",
   "execution_count": 37,
   "id": "45e64317-f828-4cfb-b1e6-0605187b9e71",
   "metadata": {},
   "outputs": [],
   "source": [
    "sig_speeds = joined_seg_lines >> filter(_.approaching)"
   ]
  },
  {
   "cell_type": "code",
   "execution_count": 38,
   "id": "96924e4b-b798-429e-8af1-10a481ca8654",
   "metadata": {},
   "outputs": [
    {
     "data": {
      "text/plain": [
       "(251676, 18)"
      ]
     },
     "execution_count": 38,
     "metadata": {},
     "output_type": "execute_result"
    }
   ],
   "source": [
    "segments_all.shape"
   ]
  },
  {
   "cell_type": "code",
   "execution_count": 39,
   "id": "0babb3af-c395-40b2-a842-cd25cec73da8",
   "metadata": {},
   "outputs": [
    {
     "data": {
      "text/plain": [
       "(40835, 23)"
      ]
     },
     "execution_count": 39,
     "metadata": {},
     "output_type": "execute_result"
    }
   ],
   "source": [
    "sig_speeds.shape"
   ]
  },
  {
   "cell_type": "code",
   "execution_count": 41,
   "id": "79da5390-2e3e-40f8-825b-8e8f112b98ab",
   "metadata": {},
   "outputs": [
    {
     "data": {
      "text/plain": [
       "Index(['stop_id', 'stop_name', 'geometry', 'shape_id', 'stop_sequence',\n",
       "       'route_id', 'route_short_name', 'direction_id', 'p50_mph', 'p20_mph',\n",
       "       'p80_mph', 'fast_slow_ratio', 'trips_per_hour', 'miles_from_last',\n",
       "       'time_formatted', 'gtfs_dataset_key', 'organization_name',\n",
       "       'system_p50_median', 'imms_id', 'location', 'signal_pt_geom',\n",
       "       'line_geom', 'approaching'],\n",
       "      dtype='object')"
      ]
     },
     "execution_count": 41,
     "metadata": {},
     "output_type": "execute_result"
    }
   ],
   "source": [
    "sig_speeds.columns"
   ]
  },
  {
   "cell_type": "code",
   "execution_count": 42,
   "id": "04ec8a03-3b09-4fa9-a370-546f04a75f48",
   "metadata": {},
   "outputs": [],
   "source": [
    "sig_speeds = sig_speeds >> select(-_.signal_pt_geom, -_.imms_id, -_.location, -_.line_geom, -_.approaching,\n",
    "                                 -_.time_formatted, -_.gtfs_dataset_key, -_.organization_name)"
   ]
  },
  {
   "cell_type": "code",
   "execution_count": 45,
   "id": "afb08204-2f0b-4c5f-b844-a82809e2f3f8",
   "metadata": {},
   "outputs": [
    {
     "name": "stdout",
     "output_type": "stream",
     "text": [
      "writing to calitp-map-tiles/signals/speeds.geojson.gz\n"
     ]
    }
   ],
   "source": [
    "speedmap = rt_utils.set_state_export(sig_speeds, subfolder='signals/', filename='speeds', cmap=rt_utils.ZERO_THIRTY_COLORSCALE,\n",
    "                          color_col='p20_mph', cache_seconds=1, map_type='speedmap',\n",
    "                         legend_url = rt_utils.SPEEDMAP_LEGEND_URL, map_title='Speeds')"
   ]
  },
  {
   "cell_type": "code",
   "execution_count": 46,
   "id": "264f44de-85b2-4384-abae-f4e9662e6716",
   "metadata": {},
   "outputs": [],
   "source": [
    "##TODO map title clash??"
   ]
  },
  {
   "cell_type": "code",
   "execution_count": 47,
   "id": "e0259a62-947f-4517-92b2-a1b007331296",
   "metadata": {},
   "outputs": [
    {
     "name": "stdout",
     "output_type": "stream",
     "text": [
      "writing to calitp-map-tiles/signals/test2.geojson.gz\n"
     ]
    },
    {
     "data": {
      "text/plain": [
       "{'state_dict': {'name': 'null',\n",
       "  'layers': [{'name': 'Speeds',\n",
       "    'url': 'https://storage.googleapis.com/calitp-map-tiles/signals/speeds.geojson.gz',\n",
       "    'properties': {'stroked': False,\n",
       "     'highlight_saturation_multiplier': 0.5,\n",
       "     'tooltip_speed_key': 'p20_mph'},\n",
       "    'type': 'speedmap'},\n",
       "   {'name': 'Signals',\n",
       "    'url': 'https://storage.googleapis.com/calitp-map-tiles/signals/test2.geojson.gz',\n",
       "    'properties': {'stroked': False, 'highlight_saturation_multiplier': 0.5}}],\n",
       "  'lat_lon': (35.73358630515601, -119.83248785655391),\n",
       "  'zoom': 13,\n",
       "  'legend_url': 'https://storage.googleapis.com/calitp-map-tiles/speeds_legend.svg'},\n",
       " 'spa_link': 'https://embeddable-maps.calitp.org/?state=eyJuYW1lIjogIm51bGwiLCAibGF5ZXJzIjogW3sibmFtZSI6ICJTcGVlZHMiLCAidXJsIjogImh0dHBzOi8vc3RvcmFnZS5nb29nbGVhcGlzLmNvbS9jYWxpdHAtbWFwLXRpbGVzL3NpZ25hbHMvc3BlZWRzLmdlb2pzb24uZ3oiLCAicHJvcGVydGllcyI6IHsic3Ryb2tlZCI6IGZhbHNlLCAiaGlnaGxpZ2h0X3NhdHVyYXRpb25fbXVsdGlwbGllciI6IDAuNSwgInRvb2x0aXBfc3BlZWRfa2V5IjogInAyMF9tcGgifSwgInR5cGUiOiAic3BlZWRtYXAifSwgeyJuYW1lIjogIlNpZ25hbHMiLCAidXJsIjogImh0dHBzOi8vc3RvcmFnZS5nb29nbGVhcGlzLmNvbS9jYWxpdHAtbWFwLXRpbGVzL3NpZ25hbHMvdGVzdDIuZ2VvanNvbi5neiIsICJwcm9wZXJ0aWVzIjogeyJzdHJva2VkIjogZmFsc2UsICJoaWdobGlnaHRfc2F0dXJhdGlvbl9tdWx0aXBsaWVyIjogMC41fX1dLCAibGF0X2xvbiI6IFszNS43MzM1ODYzMDUxNTYwMSwgLTExOS44MzI0ODc4NTY1NTM5MV0sICJ6b29tIjogMTMsICJsZWdlbmRfdXJsIjogImh0dHBzOi8vc3RvcmFnZS5nb29nbGVhcGlzLmNvbS9jYWxpdHAtbWFwLXRpbGVzL3NwZWVkc19sZWdlbmQuc3ZnIn0='}"
      ]
     },
     "execution_count": 47,
     "metadata": {},
     "output_type": "execute_result"
    }
   ],
   "source": [
    "rt_utils.set_state_export(gdf, subfolder='signals/', cmap=signal_colorscale,\n",
    "                          color_col='overall_transit_score', existing_state=speedmap['state_dict'],\n",
    "                         map_title='Signals')"
   ]
  },
  {
   "cell_type": "markdown",
   "id": "bd60c312-afa7-4f81-ba04-7b6598194789",
   "metadata": {},
   "source": [
    "TODO put on a scale and ship it!\n",
    "\n",
    "* improve export legends script!"
   ]
  },
  {
   "cell_type": "code",
   "execution_count": 1,
   "id": "31d6e622-cb3e-4b38-81bf-9fe787c63e31",
   "metadata": {
    "tags": []
   },
   "outputs": [],
   "source": [
    "# signal_colorscale._repr_html_()"
   ]
  },
  {
   "cell_type": "markdown",
   "id": "0ae5fe6c-532c-4a35-918d-d6d0ce6cb38f",
   "metadata": {},
   "source": [
    "## Debug trips per hour"
   ]
  },
  {
   "cell_type": "code",
   "execution_count": 51,
   "id": "5b55863c-66b0-4b8c-8cc2-859d808a55fe",
   "metadata": {},
   "outputs": [
    {
     "data": {
      "application/vnd.jupyter.widget-view+json": {
       "model_id": "7f63de0f420646c4b69ca4b99aef1052",
       "version_major": 2,
       "version_minor": 0
      },
      "text/plain": [
       "0it [00:00, ?it/s]"
      ]
     },
     "metadata": {},
     "output_type": "display_data"
    }
   ],
   "source": [
    "from rt_analysis import rt_filter_map_plot\n",
    "from tqdm.notebook import tqdm\n",
    "pbar = tqdm()"
   ]
  },
  {
   "cell_type": "code",
   "execution_count": 52,
   "id": "64cc0fdd-41d2-44c8-9559-7a0445b9d547",
   "metadata": {},
   "outputs": [
    {
     "data": {
      "text/plain": [
       "\u001b[0;31mSignature:\u001b[0m \u001b[0mrt_filter_map_plot\u001b[0m\u001b[0;34m.\u001b[0m\u001b[0mfrom_gcs\u001b[0m\u001b[0;34m(\u001b[0m\u001b[0mitp_id\u001b[0m\u001b[0;34m,\u001b[0m \u001b[0manalysis_date\u001b[0m\u001b[0;34m,\u001b[0m \u001b[0mpbar\u001b[0m\u001b[0;34m=\u001b[0m\u001b[0;32mNone\u001b[0m\u001b[0;34m)\u001b[0m\u001b[0;34m\u001b[0m\u001b[0;34m\u001b[0m\u001b[0m\n",
       "\u001b[0;31mDocstring:\u001b[0m\n",
       "Generates RtFilterMapper from cached artifacts in GCS. Generate using rt_parser.OperatorDayAnalysis.export_views_gcs()\n",
       "    \n",
       "\u001b[0;31mFile:\u001b[0m      ~/data-analyses/rt_delay/rt_analysis/rt_filter_map_plot.py\n",
       "\u001b[0;31mType:\u001b[0m      function"
      ]
     },
     "metadata": {},
     "output_type": "display_data"
    }
   ],
   "source": [
    "rt_filter_map_plot.from_gcs?"
   ]
  },
  {
   "cell_type": "code",
   "execution_count": 53,
   "id": "6867ac64-586d-483e-b77c-229570c30c18",
   "metadata": {},
   "outputs": [
    {
     "name": "stdout",
     "output_type": "stream",
     "text": [
      "found shapes parquet at gs://calitp-analytics-data/data-analyses/rt_delay/v2_cached_views/shapes_4_2023-11-15.parquet\n"
     ]
    }
   ],
   "source": [
    "rt_day = rt_filter_map_plot.from_gcs(4, dt.date(2023, 11, 15), pbar)"
   ]
  },
  {
   "cell_type": "code",
   "execution_count": 54,
   "id": "820a24bc-ab3b-4da4-a21f-d2a3212d537d",
   "metadata": {},
   "outputs": [
    {
     "data": {
      "text/plain": [
       "0.9786111111111111"
      ]
     },
     "execution_count": 54,
     "metadata": {},
     "output_type": "execute_result"
    }
   ],
   "source": [
    "rt_day.hr_duration_in_filter"
   ]
  },
  {
   "cell_type": "code",
   "execution_count": 57,
   "id": "a319f598-435d-4c94-8c7a-4461d6a7eeed",
   "metadata": {},
   "outputs": [
    {
     "data": {
      "text/plain": [
       "Timestamp('2023-11-16 00:59:09.858363')"
      ]
     },
     "execution_count": 57,
     "metadata": {},
     "output_type": "execute_result"
    }
   ],
   "source": [
    "time_max = rt_day.stop_delay_view.actual_time.max()\n",
    "time_max"
   ]
  },
  {
   "cell_type": "code",
   "execution_count": 58,
   "id": "5b58b05a-7afe-4433-964c-0436fbd3f3ce",
   "metadata": {},
   "outputs": [
    {
     "data": {
      "text/plain": [
       "Timestamp('2023-11-15 00:00:26.271553')"
      ]
     },
     "execution_count": 58,
     "metadata": {},
     "output_type": "execute_result"
    }
   ],
   "source": [
    "time_min = rt_day.stop_delay_view.actual_time.min()\n",
    "time_min"
   ]
  },
  {
   "cell_type": "code",
   "execution_count": 65,
   "id": "e36dffcb-e570-47ec-800a-d6342c54f2d2",
   "metadata": {},
   "outputs": [
    {
     "data": {
      "text/plain": [
       "Timedelta('1 days 00:58:43.586810')"
      ]
     },
     "execution_count": 65,
     "metadata": {},
     "output_type": "execute_result"
    }
   ],
   "source": [
    "time_difference = (time_max - time_min)\n",
    "time_difference"
   ]
  },
  {
   "cell_type": "code",
   "execution_count": 66,
   "id": "479783a4-f509-4579-934f-807738e58f53",
   "metadata": {},
   "outputs": [
    {
     "data": {
      "text/plain": [
       "3523"
      ]
     },
     "execution_count": 66,
     "metadata": {},
     "output_type": "execute_result"
    }
   ],
   "source": [
    "time_difference.seconds"
   ]
  },
  {
   "cell_type": "code",
   "execution_count": 67,
   "id": "b47ac5bd-dca2-4e52-b1a8-41affda5c465",
   "metadata": {},
   "outputs": [
    {
     "data": {
      "text/plain": [
       "89923.58681"
      ]
     },
     "execution_count": 67,
     "metadata": {},
     "output_type": "execute_result"
    }
   ],
   "source": [
    "time_difference.total_seconds()"
   ]
  },
  {
   "cell_type": "code",
   "execution_count": null,
   "id": "a6d13da1-f816-4253-a7a8-791ac8011bb3",
   "metadata": {},
   "outputs": [],
   "source": [
    "## there's your problem -- handle days"
   ]
  },
  {
   "cell_type": "code",
   "execution_count": null,
   "id": "1a5c16b6-c8d4-4956-ab11-887d24bb219d",
   "metadata": {},
   "outputs": [],
   "source": [
    "self.stop_delay_view.actual_time.max() - \n",
    "                                         self.stop_delay_view.actual_time.min()).seconds / 60**2"
   ]
  },
  {
   "cell_type": "markdown",
   "id": "ae25dbc9-081d-405f-aa45-b472f4a9fe21",
   "metadata": {
    "jp-MarkdownHeadingCollapsed": true,
    "tags": []
   },
   "source": [
    "## Provide All SHS Segments"
   ]
  },
  {
   "cell_type": "code",
   "execution_count": null,
   "id": "4d5d4363-b384-4bdc-b1f4-b311f23e97e6",
   "metadata": {},
   "outputs": [],
   "source": [
    "from shared_utils.rt_utils import SHN_PATH\n",
    "from shared_utils.geography_utils import CA_NAD83Albers\n",
    "import dask_geopandas as dg"
   ]
  },
  {
   "cell_type": "code",
   "execution_count": null,
   "id": "cdb93045-19b4-4136-8939-8b850d82f5fa",
   "metadata": {},
   "outputs": [],
   "source": [
    "segment_lines_all >> head(3)"
   ]
  },
  {
   "cell_type": "code",
   "execution_count": null,
   "id": "de717366-872c-471f-8e1e-8a98a8ae0c0f",
   "metadata": {},
   "outputs": [],
   "source": [
    "# add line geometries from stop_segment_speed_view\n",
    "seg_lines = (segment_lines_all\n",
    "            >> select(_.line_geom == _.geometry, _.shape_id, _.stop_sequence, _.stop_id)\n",
    "            >> distinct(_.line_geom, _.shape_id, _.stop_sequence, _.stop_id)\n",
    "        )\n",
    "# ideally a more robust join in the future\n",
    "joined_seg_lines = segments_all >> inner_join(_, seg_lines, on = ['shape_id', 'stop_sequence', 'stop_id'])"
   ]
  },
  {
   "cell_type": "code",
   "execution_count": null,
   "id": "c62a7f72-0472-4214-957b-c17180c34ccd",
   "metadata": {},
   "outputs": [],
   "source": [
    "joined_seg_lines = joined_seg_lines.set_geometry('line_geom', drop = True)"
   ]
  },
  {
   "cell_type": "code",
   "execution_count": null,
   "id": "484df060-4123-47f8-a15f-35bcb39d6279",
   "metadata": {},
   "outputs": [],
   "source": [
    "joined_seg_lines >> head(3)"
   ]
  },
  {
   "cell_type": "code",
   "execution_count": null,
   "id": "16f90285-a1b4-495f-805f-cac56b992d88",
   "metadata": {},
   "outputs": [],
   "source": [
    "segments_all >> head(3)"
   ]
  },
  {
   "cell_type": "code",
   "execution_count": null,
   "id": "758b1a0e-e4f2-4e68-aaa3-75535bc1c3ae",
   "metadata": {},
   "outputs": [],
   "source": [
    "shs = gpd.read_parquet(SHN_PATH).to_crs(CA_NAD83Albers)"
   ]
  },
  {
   "cell_type": "code",
   "execution_count": null,
   "id": "cc9f9881-0a29-4e71-9858-ace147c63f4e",
   "metadata": {},
   "outputs": [],
   "source": [
    "shs >> head(3)"
   ]
  },
  {
   "cell_type": "code",
   "execution_count": null,
   "id": "75d5f6b0-0009-4a3c-97ba-eb39a499284d",
   "metadata": {},
   "outputs": [],
   "source": [
    "shs_dask = dg.from_geopandas(shs, npartitions=10)"
   ]
  },
  {
   "cell_type": "code",
   "execution_count": null,
   "id": "c417f5b2-9a28-4b2d-86f8-adf414bc0024",
   "metadata": {},
   "outputs": [],
   "source": [
    "segs_dask = dg.from_geopandas(segments_all, npartitions=10)"
   ]
  },
  {
   "cell_type": "code",
   "execution_count": null,
   "id": "fc55b05b-704e-4853-b2af-3b000ad5c313",
   "metadata": {},
   "outputs": [],
   "source": [
    "lines_dask = dg.from_geopandas(joined_seg_lines, npartitions=10)"
   ]
  },
  {
   "cell_type": "code",
   "execution_count": null,
   "id": "60e2d5e8-b596-4962-9083-7ac634cde494",
   "metadata": {},
   "outputs": [],
   "source": [
    "shs_segs_joined = segs_dask.sjoin(shs_dask)"
   ]
  },
  {
   "cell_type": "code",
   "execution_count": null,
   "id": "d21adcef-c47c-4471-91b0-443c41186f32",
   "metadata": {},
   "outputs": [],
   "source": [
    "shs_segs_joined_computed = shs_segs_joined.compute()"
   ]
  },
  {
   "cell_type": "code",
   "execution_count": null,
   "id": "50cb2aac-75c9-4ddd-849f-3ef0e2ad2be4",
   "metadata": {},
   "outputs": [],
   "source": [
    "shs_segs_joined_computed >> head(3)"
   ]
  },
  {
   "cell_type": "code",
   "execution_count": null,
   "id": "820905d2-a100-4379-83cb-0492a29a912d",
   "metadata": {},
   "outputs": [],
   "source": [
    "shs_lines_joined = lines_dask.sjoin(shs_dask)"
   ]
  },
  {
   "cell_type": "code",
   "execution_count": null,
   "id": "82fdcb15-03a3-4567-9392-33ec5c773a12",
   "metadata": {},
   "outputs": [],
   "source": [
    "shs_lines_joined_computed = shs_lines_joined.compute()"
   ]
  },
  {
   "cell_type": "code",
   "execution_count": null,
   "id": "3dc447e2-f0c0-4114-af97-eb7f1d3bb6e4",
   "metadata": {},
   "outputs": [],
   "source": [
    "shs_lines_joined_computed >> head(3)"
   ]
  },
  {
   "cell_type": "code",
   "execution_count": null,
   "id": "454033d3-9e07-42f3-9e89-d836059f5493",
   "metadata": {},
   "outputs": [],
   "source": [
    "shs_lines_joined_computed.columns"
   ]
  },
  {
   "cell_type": "code",
   "execution_count": null,
   "id": "18f3b673-074c-4ca0-aae7-87be48a7b625",
   "metadata": {},
   "outputs": [],
   "source": [
    "shs_lines_joined_computed = shs_lines_joined_computed >> select(-_.time_from_last, -_.index_right, -_.highway_length,\n",
    "                                                            -_.EB, -_.WB, -_.NB, -_.SB)"
   ]
  },
  {
   "cell_type": "code",
   "execution_count": null,
   "id": "ad580526-45f9-4f2a-9e2a-81e4c884d730",
   "metadata": {},
   "outputs": [],
   "source": [
    "shs_lines_joined_computed.to_file('transit_lines_shs_joined.geojson')"
   ]
  },
  {
   "cell_type": "code",
   "execution_count": null,
   "id": "3603788f-11bf-45b0-9ee5-0e668c25b070",
   "metadata": {},
   "outputs": [],
   "source": [
    "shs_segs_joined_computed.to_file('transit_polygons_shs_joined.geojson')"
   ]
  }
 ],
 "metadata": {
  "kernelspec": {
   "display_name": "Python 3 (ipykernel)",
   "language": "python",
   "name": "python3"
  },
  "language_info": {
   "codemirror_mode": {
    "name": "ipython",
    "version": 3
   },
   "file_extension": ".py",
   "mimetype": "text/x-python",
   "name": "python",
   "nbconvert_exporter": "python",
   "pygments_lexer": "ipython3",
   "version": "3.9.13"
  },
  "widgets": {
   "application/vnd.jupyter.widget-state+json": {
    "state": {
     "2eace6216f13416390ed41269a034a8e": {
      "model_module": "@jupyter-widgets/base",
      "model_module_version": "1.2.0",
      "model_name": "LayoutModel",
      "state": {}
     },
     "3762400e08c344989487f3714740253b": {
      "model_module": "@jupyter-widgets/controls",
      "model_module_version": "1.5.0",
      "model_name": "DescriptionStyleModel",
      "state": {
       "description_width": ""
      }
     },
     "37c852c939724223909a4a7f8488afe8": {
      "model_module": "@jupyter-widgets/base",
      "model_module_version": "1.2.0",
      "model_name": "LayoutModel",
      "state": {
       "width": "20px"
      }
     },
     "6ed3913512df40f1805499e83b5fb67f": {
      "model_module": "@jupyter-widgets/controls",
      "model_module_version": "1.5.0",
      "model_name": "ProgressStyleModel",
      "state": {
       "description_width": ""
      }
     },
     "715fc11ed3b74b698e9bb77dc769b0ff": {
      "model_module": "@jupyter-widgets/controls",
      "model_module_version": "1.5.0",
      "model_name": "FloatProgressModel",
      "state": {
       "bar_style": "info",
       "layout": "IPY_MODEL_37c852c939724223909a4a7f8488afe8",
       "max": 1,
       "style": "IPY_MODEL_6ed3913512df40f1805499e83b5fb67f"
      }
     },
     "7f63de0f420646c4b69ca4b99aef1052": {
      "model_module": "@jupyter-widgets/controls",
      "model_module_version": "1.5.0",
      "model_name": "HBoxModel",
      "state": {
       "children": [
        "IPY_MODEL_a187035249644cbcb730ef9ede56a9b5",
        "IPY_MODEL_715fc11ed3b74b698e9bb77dc769b0ff",
        "IPY_MODEL_f91d20f38c3e4661b518e3dcb098e664"
       ],
       "layout": "IPY_MODEL_b10938f5d1cb4a549eae4407bc4ef298"
      }
     },
     "83415f12704548d283730b3f68cc3d6e": {
      "model_module": "@jupyter-widgets/base",
      "model_module_version": "1.2.0",
      "model_name": "LayoutModel",
      "state": {}
     },
     "970c465b887d4f55811a989897894c5d": {
      "model_module": "@jupyter-widgets/controls",
      "model_module_version": "1.5.0",
      "model_name": "DescriptionStyleModel",
      "state": {
       "description_width": ""
      }
     },
     "a187035249644cbcb730ef9ede56a9b5": {
      "model_module": "@jupyter-widgets/controls",
      "model_module_version": "1.5.0",
      "model_name": "HTMLModel",
      "state": {
       "layout": "IPY_MODEL_2eace6216f13416390ed41269a034a8e",
       "style": "IPY_MODEL_970c465b887d4f55811a989897894c5d"
      }
     },
     "b10938f5d1cb4a549eae4407bc4ef298": {
      "model_module": "@jupyter-widgets/base",
      "model_module_version": "1.2.0",
      "model_name": "LayoutModel",
      "state": {}
     },
     "f91d20f38c3e4661b518e3dcb098e664": {
      "model_module": "@jupyter-widgets/controls",
      "model_module_version": "1.5.0",
      "model_name": "HTMLModel",
      "state": {
       "layout": "IPY_MODEL_83415f12704548d283730b3f68cc3d6e",
       "style": "IPY_MODEL_3762400e08c344989487f3714740253b",
       "value": " 0/? [00:00&lt;?, ?it/s]"
      }
     }
    },
    "version_major": 2,
    "version_minor": 0
   }
  }
 },
 "nbformat": 4,
 "nbformat_minor": 5
}
