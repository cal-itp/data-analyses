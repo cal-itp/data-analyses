{
 "cells": [
  {
   "cell_type": "code",
   "execution_count": 1,
   "id": "46898b5c-b5cc-4096-ab68-8c3e42fab870",
   "metadata": {},
   "outputs": [],
   "source": [
    "%%capture\n",
    "import warnings\n",
    "warnings.filterwarnings('ignore')\n",
    "\n",
    "import os\n",
    "os.environ[\"CALITP_BQ_MAX_BYTES\"] = str(800_000_000_000)\n",
    "\n",
    "from calitp_data_analysis.tables import tbls\n",
    "\n",
    "from siuba import *\n",
    "import pandas as pd\n",
    "import geopandas as gpd\n",
    "\n",
    "import datetime as dt\n",
    "from rt_analysis import signal_tools"
   ]
  },
  {
   "cell_type": "code",
   "execution_count": 3,
   "id": "9273e17d-b127-4e35-a462-79f458ee0928",
   "metadata": {},
   "outputs": [],
   "source": [
    "path = './signals_2023-06-12.xlsx'\n",
    "signal_gdf = signal_tools.read_signal_excel(path)"
   ]
  },
  {
   "cell_type": "markdown",
   "id": "cd0bb894-0642-4d93-a18f-5fcbf816d47d",
   "metadata": {},
   "source": [
    "# Test Scripts"
   ]
  },
  {
   "cell_type": "code",
   "execution_count": 5,
   "id": "9833c499-ed4d-446e-8a81-f8f8a16ec3fd",
   "metadata": {},
   "outputs": [],
   "source": [
    "progress_df = pd.read_parquet('./_rt_progress_2023-07-12.parquet') >> filter(_.status == 'map_confirmed')"
   ]
  },
  {
   "cell_type": "code",
   "execution_count": 6,
   "id": "683d02c4-dd8e-49cc-9b40-eb5191c75787",
   "metadata": {},
   "outputs": [],
   "source": [
    "analysis_date = progress_df.analysis_date.iloc[0]"
   ]
  },
  {
   "cell_type": "code",
   "execution_count": 7,
   "id": "20501148-48f4-4ec3-88b3-c7f369ee6248",
   "metadata": {
    "tags": []
   },
   "outputs": [],
   "source": [
    "# all_segment_gdf = signal_tools.all_day_speedmap_segments(progress_df=progress_df)"
   ]
  },
  {
   "cell_type": "code",
   "execution_count": 8,
   "id": "8339e63c-1c73-4214-b189-d91fa7637e87",
   "metadata": {},
   "outputs": [],
   "source": [
    "# segment_lines_all = signal_tools.copy_segment_speeds(progress_df)"
   ]
  },
  {
   "cell_type": "code",
   "execution_count": 9,
   "id": "b304edb0-480c-4024-93e5-ec166372d6b2",
   "metadata": {},
   "outputs": [],
   "source": [
    "# all_segment_gdf.to_parquet(f'segments_all_{analysis_date}.parquet')"
   ]
  },
  {
   "cell_type": "code",
   "execution_count": 10,
   "id": "f84fc9a0-7f16-452a-a7d8-60d1939262c9",
   "metadata": {},
   "outputs": [],
   "source": [
    "# segment_lines_all.to_parquet(f'./segment_lines_all_{analysis_date}.parquet')"
   ]
  },
  {
   "cell_type": "code",
   "execution_count": 11,
   "id": "48c3d301-0355-4b95-b8c3-419c9c345da3",
   "metadata": {},
   "outputs": [],
   "source": [
    "segments_all = gpd.read_parquet(f'segments_all_{analysis_date}.parquet')"
   ]
  },
  {
   "cell_type": "code",
   "execution_count": 10,
   "id": "5d48f027-f37a-4bda-8fe8-fd98a9a44391",
   "metadata": {},
   "outputs": [],
   "source": [
    "segment_lines_all = gpd.read_parquet(f'./segment_lines_all_{analysis_date}.parquet')"
   ]
  },
  {
   "cell_type": "code",
   "execution_count": 20,
   "id": "4df01400-1dd6-4d4e-a002-10f4dcb86756",
   "metadata": {},
   "outputs": [],
   "source": [
    "joined_seg_lines = signal_tools.sjoin_signals(signal_gdf = signal_gdf, segments_gdf = segments_all,\n",
    "                                              segments_lines_gdf = segment_lines_all)"
   ]
  },
  {
   "cell_type": "code",
   "execution_count": 23,
   "id": "bff01c77-d992-4f8a-98cb-4fc86d95e776",
   "metadata": {},
   "outputs": [],
   "source": [
    "joined_seg_lines = signal_tools.determine_approaching(joined_seg_lines)"
   ]
  },
  {
   "cell_type": "code",
   "execution_count": 24,
   "id": "ee781b1f-a9dc-4f69-b437-20cfc8bd94fa",
   "metadata": {},
   "outputs": [],
   "source": [
    "median_by_signal = signal_tools.calculate_scores(joined_seg_lines)"
   ]
  },
  {
   "cell_type": "code",
   "execution_count": 25,
   "id": "da74d527-1501-4906-a4fb-d84ae7dcae5b",
   "metadata": {},
   "outputs": [
    {
     "data": {
      "text/html": [
       "<div>\n",
       "<style scoped>\n",
       "    .dataframe tbody tr th:only-of-type {\n",
       "        vertical-align: middle;\n",
       "    }\n",
       "\n",
       "    .dataframe tbody tr th {\n",
       "        vertical-align: top;\n",
       "    }\n",
       "\n",
       "    .dataframe thead th {\n",
       "        text-align: right;\n",
       "    }\n",
       "</style>\n",
       "<table border=\"1\" class=\"dataframe\">\n",
       "  <thead>\n",
       "    <tr style=\"text-align: right;\">\n",
       "      <th></th>\n",
       "      <th>imms_id</th>\n",
       "      <th>location</th>\n",
       "      <th>speed_score</th>\n",
       "      <th>variability_score</th>\n",
       "      <th>frequency_score</th>\n",
       "      <th>overall_transit_score</th>\n",
       "    </tr>\n",
       "  </thead>\n",
       "  <tbody>\n",
       "    <tr>\n",
       "      <th>948</th>\n",
       "      <td>04SM082 -E35I6</td>\n",
       "      <td>BALDWIN AVE/BAYWOOD AVE and EL CAMINO REAL (RT...</td>\n",
       "      <td>7.0</td>\n",
       "      <td>8.0</td>\n",
       "      <td>10.0</td>\n",
       "      <td>25.0</td>\n",
       "    </tr>\n",
       "    <tr>\n",
       "      <th>200</th>\n",
       "      <td>04ALA013 - EZ132</td>\n",
       "      <td>COLLEGE AVE and ASHBY AVE (RTE 13)</td>\n",
       "      <td>6.0</td>\n",
       "      <td>8.5</td>\n",
       "      <td>10.0</td>\n",
       "      <td>24.5</td>\n",
       "    </tr>\n",
       "    <tr>\n",
       "      <th>563</th>\n",
       "      <td>04NAP029 -E21C5</td>\n",
       "      <td>WASHINGTON ST and LINCOLN AVE (RTE 29)</td>\n",
       "      <td>7.5</td>\n",
       "      <td>7.0</td>\n",
       "      <td>10.0</td>\n",
       "      <td>24.5</td>\n",
       "    </tr>\n",
       "    <tr>\n",
       "      <th>201</th>\n",
       "      <td>04ALA013 - EZ133</td>\n",
       "      <td>COLBY ST and ASHBY AVE (RTE 13)</td>\n",
       "      <td>4.0</td>\n",
       "      <td>10.0</td>\n",
       "      <td>10.0</td>\n",
       "      <td>24.0</td>\n",
       "    </tr>\n",
       "    <tr>\n",
       "      <th>562</th>\n",
       "      <td>04NAP029 -E21B9</td>\n",
       "      <td>ADAMS ST and MAIN ST (RTE 29/128)</td>\n",
       "      <td>6.5</td>\n",
       "      <td>7.5</td>\n",
       "      <td>10.0</td>\n",
       "      <td>24.0</td>\n",
       "    </tr>\n",
       "    <tr>\n",
       "      <th>...</th>\n",
       "      <td>...</td>\n",
       "      <td>...</td>\n",
       "      <td>...</td>\n",
       "      <td>...</td>\n",
       "      <td>...</td>\n",
       "      <td>...</td>\n",
       "    </tr>\n",
       "    <tr>\n",
       "      <th>1502</th>\n",
       "      <td>07LA001 -ED160</td>\n",
       "      <td>BLUFF CREEK</td>\n",
       "      <td>1.0</td>\n",
       "      <td>3.0</td>\n",
       "      <td>0.0</td>\n",
       "      <td>4.0</td>\n",
       "    </tr>\n",
       "    <tr>\n",
       "      <th>2024</th>\n",
       "      <td>07LA405 -ED537</td>\n",
       "      <td>SB HOWARD HUGHES PKWY</td>\n",
       "      <td>1.0</td>\n",
       "      <td>3.0</td>\n",
       "      <td>0.0</td>\n",
       "      <td>4.0</td>\n",
       "    </tr>\n",
       "    <tr>\n",
       "      <th>2516</th>\n",
       "      <td>11SD094 -E8005</td>\n",
       "      <td>DAISY DR</td>\n",
       "      <td>0.0</td>\n",
       "      <td>4.0</td>\n",
       "      <td>0.0</td>\n",
       "      <td>4.0</td>\n",
       "    </tr>\n",
       "    <tr>\n",
       "      <th>1717</th>\n",
       "      <td>07LA101 -E0400</td>\n",
       "      <td>101 FWY SB MISSION -ALISO</td>\n",
       "      <td>0.0</td>\n",
       "      <td>3.0</td>\n",
       "      <td>0.0</td>\n",
       "      <td>3.0</td>\n",
       "    </tr>\n",
       "    <tr>\n",
       "      <th>2063</th>\n",
       "      <td>07LA405R-E0004</td>\n",
       "      <td>SB LA CIENEGA BLVD-S. IMPERIAL HWY</td>\n",
       "      <td>0.0</td>\n",
       "      <td>3.0</td>\n",
       "      <td>0.0</td>\n",
       "      <td>3.0</td>\n",
       "    </tr>\n",
       "  </tbody>\n",
       "</table>\n",
       "<p>2537 rows × 6 columns</p>\n",
       "</div>"
      ],
      "text/plain": [
       "               imms_id                                           location  \\\n",
       "948     04SM082 -E35I6  BALDWIN AVE/BAYWOOD AVE and EL CAMINO REAL (RT...   \n",
       "200   04ALA013 - EZ132                 COLLEGE AVE and ASHBY AVE (RTE 13)   \n",
       "563    04NAP029 -E21C5             WASHINGTON ST and LINCOLN AVE (RTE 29)   \n",
       "201   04ALA013 - EZ133                    COLBY ST and ASHBY AVE (RTE 13)   \n",
       "562    04NAP029 -E21B9                  ADAMS ST and MAIN ST (RTE 29/128)   \n",
       "...                ...                                                ...   \n",
       "1502    07LA001 -ED160                                        BLUFF CREEK   \n",
       "2024    07LA405 -ED537                              SB HOWARD HUGHES PKWY   \n",
       "2516    11SD094 -E8005                                           DAISY DR   \n",
       "1717    07LA101 -E0400                          101 FWY SB MISSION -ALISO   \n",
       "2063    07LA405R-E0004                 SB LA CIENEGA BLVD-S. IMPERIAL HWY   \n",
       "\n",
       "      speed_score  variability_score  frequency_score  overall_transit_score  \n",
       "948           7.0                8.0             10.0                   25.0  \n",
       "200           6.0                8.5             10.0                   24.5  \n",
       "563           7.5                7.0             10.0                   24.5  \n",
       "201           4.0               10.0             10.0                   24.0  \n",
       "562           6.5                7.5             10.0                   24.0  \n",
       "...           ...                ...              ...                    ...  \n",
       "1502          1.0                3.0              0.0                    4.0  \n",
       "2024          1.0                3.0              0.0                    4.0  \n",
       "2516          0.0                4.0              0.0                    4.0  \n",
       "1717          0.0                3.0              0.0                    3.0  \n",
       "2063          0.0                3.0              0.0                    3.0  \n",
       "\n",
       "[2537 rows x 6 columns]"
      ]
     },
     "execution_count": 25,
     "metadata": {},
     "output_type": "execute_result"
    }
   ],
   "source": [
    "median_by_signal >> arrange(-_.overall_transit_score)"
   ]
  },
  {
   "cell_type": "markdown",
   "id": "02d6b5f2-a8e6-4c27-8d9d-79ef17d06762",
   "metadata": {},
   "source": [
    "## Reference Histograms for subscores"
   ]
  },
  {
   "cell_type": "code",
   "execution_count": 26,
   "id": "35acb576-b985-4f91-8e82-b5f753ce456d",
   "metadata": {},
   "outputs": [
    {
     "data": {
      "text/plain": [
       "<AxesSubplot:>"
      ]
     },
     "execution_count": 26,
     "metadata": {},
     "output_type": "execute_result"
    },
    {
     "data": {
      "image/png": "[encoded data removed]",
      "text/plain": [
       "<Figure size 640x480 with 1 Axes>"
      ]
     },
     "metadata": {},
     "output_type": "display_data"
    }
   ],
   "source": [
    "median_by_signal.speed_score.hist()"
   ]
  },
  {
   "cell_type": "code",
   "execution_count": 27,
   "id": "e70a93b5-0a7d-4a2b-ac3b-d52fa3e98498",
   "metadata": {},
   "outputs": [
    {
     "data": {
      "text/plain": [
       "<AxesSubplot:>"
      ]
     },
     "execution_count": 27,
     "metadata": {},
     "output_type": "execute_result"
    },
    {
     "data": {
      "image/png": "[encoded data removed]",
      "text/plain": [
       "<Figure size 640x480 with 1 Axes>"
      ]
     },
     "metadata": {},
     "output_type": "display_data"
    }
   ],
   "source": [
    "median_by_signal.variability_score.hist()"
   ]
  },
  {
   "cell_type": "code",
   "execution_count": 28,
   "id": "98ef3198-eaeb-4d1f-8314-bcdad01d8a3e",
   "metadata": {},
   "outputs": [
    {
     "data": {
      "text/plain": [
       "<AxesSubplot:>"
      ]
     },
     "execution_count": 28,
     "metadata": {},
     "output_type": "execute_result"
    },
    {
     "data": {
      "image/png": "[encoded data removed]",
      "text/plain": [
       "<Figure size 640x480 with 1 Axes>"
      ]
     },
     "metadata": {},
     "output_type": "display_data"
    }
   ],
   "source": [
    "median_by_signal.frequency_score.hist()"
   ]
  },
  {
   "cell_type": "code",
   "execution_count": 29,
   "id": "c11c8177-afc9-4eba-8676-124d246ea839",
   "metadata": {},
   "outputs": [
    {
     "data": {
      "text/plain": [
       "<AxesSubplot:>"
      ]
     },
     "execution_count": 29,
     "metadata": {},
     "output_type": "execute_result"
    },
    {
     "data": {
      "image/png": "[encoded data removed]",
      "text/plain": [
       "<Figure size 640x480 with 1 Axes>"
      ]
     },
     "metadata": {},
     "output_type": "display_data"
    }
   ],
   "source": [
    "median_by_signal.overall_transit_score.hist()"
   ]
  },
  {
   "cell_type": "markdown",
   "id": "ae25dbc9-081d-405f-aa45-b472f4a9fe21",
   "metadata": {},
   "source": [
    "## Provide All SHS Segments"
   ]
  },
  {
   "cell_type": "code",
   "execution_count": 16,
   "id": "4d5d4363-b384-4bdc-b1f4-b311f23e97e6",
   "metadata": {},
   "outputs": [],
   "source": [
    "from shared_utils.rt_utils import SHN_PATH\n",
    "from shared_utils.geography_utils import CA_NAD83Albers\n",
    "import dask_geopandas as dg"
   ]
  },
  {
   "cell_type": "code",
   "execution_count": 11,
   "id": "cdb93045-19b4-4136-8939-8b850d82f5fa",
   "metadata": {},
   "outputs": [
    {
     "data": {
      "text/html": [
       "<div>\n",
       "<style scoped>\n",
       "    .dataframe tbody tr th:only-of-type {\n",
       "        vertical-align: middle;\n",
       "    }\n",
       "\n",
       "    .dataframe tbody tr th {\n",
       "        vertical-align: top;\n",
       "    }\n",
       "\n",
       "    .dataframe thead th {\n",
       "        text-align: right;\n",
       "    }\n",
       "</style>\n",
       "<table border=\"1\" class=\"dataframe\">\n",
       "  <thead>\n",
       "    <tr style=\"text-align: right;\">\n",
       "      <th></th>\n",
       "      <th>stop_id</th>\n",
       "      <th>stop_name</th>\n",
       "      <th>geometry</th>\n",
       "      <th>shape_id</th>\n",
       "      <th>shape_meters</th>\n",
       "      <th>trip_id</th>\n",
       "      <th>stop_sequence</th>\n",
       "      <th>route_id</th>\n",
       "      <th>route_short_name</th>\n",
       "      <th>direction_id</th>\n",
       "      <th>...</th>\n",
       "      <th>meters_from_last</th>\n",
       "      <th>speed_from_last</th>\n",
       "      <th>delay_chg_sec</th>\n",
       "      <th>speed_mph</th>\n",
       "      <th>n_trips_shp</th>\n",
       "      <th>p50_mph</th>\n",
       "      <th>p20_mph</th>\n",
       "      <th>p80_mph</th>\n",
       "      <th>fast_slow_ratio</th>\n",
       "      <th>trips_per_hour</th>\n",
       "    </tr>\n",
       "  </thead>\n",
       "  <tbody>\n",
       "    <tr>\n",
       "      <th>0</th>\n",
       "      <td>evanhall</td>\n",
       "      <td>Evans Hall: Hearst Mining Circle</td>\n",
       "      <td>LINESTRING (-198171.124 -13291.509, -198135.81...</td>\n",
       "      <td>ntsafens_loop_1</td>\n",
       "      <td>2301.375928</td>\n",
       "      <td>21</td>\n",
       "      <td>9.0</td>\n",
       "      <td>ntsafens</td>\n",
       "      <td>Night Safety North</td>\n",
       "      <td>0.0</td>\n",
       "      <td>...</td>\n",
       "      <td>853.489613</td>\n",
       "      <td>2.570752</td>\n",
       "      <td>152.0</td>\n",
       "      <td>5.750772</td>\n",
       "      <td>11</td>\n",
       "      <td>6.917595</td>\n",
       "      <td>5.750772</td>\n",
       "      <td>8.639169</td>\n",
       "      <td>1.502262</td>\n",
       "      <td>87.272727</td>\n",
       "    </tr>\n",
       "    <tr>\n",
       "      <th>1</th>\n",
       "      <td>evanhall</td>\n",
       "      <td>Evans Hall: Hearst Mining Circle</td>\n",
       "      <td>LINESTRING (-198171.124 -13291.509, -198135.81...</td>\n",
       "      <td>ntsafens_loop_1</td>\n",
       "      <td>2301.375928</td>\n",
       "      <td>26</td>\n",
       "      <td>9.0</td>\n",
       "      <td>ntsafens</td>\n",
       "      <td>Night Safety North</td>\n",
       "      <td>0.0</td>\n",
       "      <td>...</td>\n",
       "      <td>853.489613</td>\n",
       "      <td>2.634227</td>\n",
       "      <td>144.0</td>\n",
       "      <td>5.892766</td>\n",
       "      <td>11</td>\n",
       "      <td>6.917595</td>\n",
       "      <td>5.750772</td>\n",
       "      <td>8.639169</td>\n",
       "      <td>1.502262</td>\n",
       "      <td>87.272727</td>\n",
       "    </tr>\n",
       "    <tr>\n",
       "      <th>2</th>\n",
       "      <td>evanhall</td>\n",
       "      <td>Evans Hall: Hearst Mining Circle</td>\n",
       "      <td>LINESTRING (-198171.124 -13291.509, -198135.81...</td>\n",
       "      <td>ntsafens_loop_1</td>\n",
       "      <td>2301.375928</td>\n",
       "      <td>22</td>\n",
       "      <td>9.0</td>\n",
       "      <td>ntsafens</td>\n",
       "      <td>Night Safety North</td>\n",
       "      <td>0.0</td>\n",
       "      <td>...</td>\n",
       "      <td>853.489613</td>\n",
       "      <td>4.849373</td>\n",
       "      <td>-3.0</td>\n",
       "      <td>10.848047</td>\n",
       "      <td>11</td>\n",
       "      <td>6.917595</td>\n",
       "      <td>5.750772</td>\n",
       "      <td>8.639169</td>\n",
       "      <td>1.502262</td>\n",
       "      <td>87.272727</td>\n",
       "    </tr>\n",
       "  </tbody>\n",
       "</table>\n",
       "<p>3 rows × 23 columns</p>\n",
       "</div>"
      ],
      "text/plain": [
       "    stop_id                         stop_name  \\\n",
       "0  evanhall  Evans Hall: Hearst Mining Circle   \n",
       "1  evanhall  Evans Hall: Hearst Mining Circle   \n",
       "2  evanhall  Evans Hall: Hearst Mining Circle   \n",
       "\n",
       "                                            geometry         shape_id  \\\n",
       "0  LINESTRING (-198171.124 -13291.509, -198135.81...  ntsafens_loop_1   \n",
       "1  LINESTRING (-198171.124 -13291.509, -198135.81...  ntsafens_loop_1   \n",
       "2  LINESTRING (-198171.124 -13291.509, -198135.81...  ntsafens_loop_1   \n",
       "\n",
       "   shape_meters trip_id  stop_sequence  route_id    route_short_name  \\\n",
       "0   2301.375928      21            9.0  ntsafens  Night Safety North   \n",
       "1   2301.375928      26            9.0  ntsafens  Night Safety North   \n",
       "2   2301.375928      22            9.0  ntsafens  Night Safety North   \n",
       "\n",
       "   direction_id  ...  meters_from_last  speed_from_last  delay_chg_sec  \\\n",
       "0           0.0  ...        853.489613         2.570752          152.0   \n",
       "1           0.0  ...        853.489613         2.634227          144.0   \n",
       "2           0.0  ...        853.489613         4.849373           -3.0   \n",
       "\n",
       "   speed_mph  n_trips_shp   p50_mph   p20_mph   p80_mph  fast_slow_ratio  \\\n",
       "0   5.750772           11  6.917595  5.750772  8.639169         1.502262   \n",
       "1   5.892766           11  6.917595  5.750772  8.639169         1.502262   \n",
       "2  10.848047           11  6.917595  5.750772  8.639169         1.502262   \n",
       "\n",
       "   trips_per_hour  \n",
       "0       87.272727  \n",
       "1       87.272727  \n",
       "2       87.272727  \n",
       "\n",
       "[3 rows x 23 columns]"
      ]
     },
     "execution_count": 11,
     "metadata": {},
     "output_type": "execute_result"
    }
   ],
   "source": [
    "segment_lines_all >> head(3)"
   ]
  },
  {
   "cell_type": "code",
   "execution_count": 12,
   "id": "de717366-872c-471f-8e1e-8a98a8ae0c0f",
   "metadata": {},
   "outputs": [],
   "source": [
    "# add line geometries from stop_segment_speed_view\n",
    "seg_lines = (segment_lines_all\n",
    "            >> select(_.line_geom == _.geometry, _.shape_id, _.stop_sequence, _.stop_id)\n",
    "            >> distinct(_.line_geom, _.shape_id, _.stop_sequence, _.stop_id)\n",
    "        )\n",
    "# ideally a more robust join in the future\n",
    "joined_seg_lines = segments_all >> inner_join(_, seg_lines, on = ['shape_id', 'stop_sequence', 'stop_id'])"
   ]
  },
  {
   "cell_type": "code",
   "execution_count": 13,
   "id": "c62a7f72-0472-4214-957b-c17180c34ccd",
   "metadata": {},
   "outputs": [],
   "source": [
    "joined_seg_lines = joined_seg_lines.set_geometry('line_geom', drop = True)"
   ]
  },
  {
   "cell_type": "code",
   "execution_count": 31,
   "id": "484df060-4123-47f8-a15f-35bcb39d6279",
   "metadata": {},
   "outputs": [
    {
     "data": {
      "text/html": [
       "<div>\n",
       "<style scoped>\n",
       "    .dataframe tbody tr th:only-of-type {\n",
       "        vertical-align: middle;\n",
       "    }\n",
       "\n",
       "    .dataframe tbody tr th {\n",
       "        vertical-align: top;\n",
       "    }\n",
       "\n",
       "    .dataframe thead th {\n",
       "        text-align: right;\n",
       "    }\n",
       "</style>\n",
       "<table border=\"1\" class=\"dataframe\">\n",
       "  <thead>\n",
       "    <tr style=\"text-align: right;\">\n",
       "      <th></th>\n",
       "      <th>stop_id</th>\n",
       "      <th>stop_name</th>\n",
       "      <th>geometry</th>\n",
       "      <th>shape_id</th>\n",
       "      <th>stop_sequence</th>\n",
       "      <th>route_id</th>\n",
       "      <th>route_short_name</th>\n",
       "      <th>direction_id</th>\n",
       "      <th>p50_mph</th>\n",
       "      <th>p20_mph</th>\n",
       "      <th>p80_mph</th>\n",
       "      <th>fast_slow_ratio</th>\n",
       "      <th>trips_per_hour</th>\n",
       "      <th>miles_from_last</th>\n",
       "      <th>time_formatted</th>\n",
       "      <th>feed_key</th>\n",
       "      <th>gtfs_dataset_key</th>\n",
       "      <th>system_p50_median</th>\n",
       "    </tr>\n",
       "  </thead>\n",
       "  <tbody>\n",
       "    <tr>\n",
       "      <th>0</th>\n",
       "      <td>7730800</td>\n",
       "      <td>W MacArthur &amp; Broadway (Ac Sonoma Vly HS)</td>\n",
       "      <td>LINESTRING (-214719.926 33181.166, -214799.960...</td>\n",
       "      <td>p_2780</td>\n",
       "      <td>3.0</td>\n",
       "      <td>30X</td>\n",
       "      <td>30X</td>\n",
       "      <td>1.0</td>\n",
       "      <td>30.4</td>\n",
       "      <td>30.4</td>\n",
       "      <td>30.4</td>\n",
       "      <td>1.0</td>\n",
       "      <td>0.1</td>\n",
       "      <td>0.4</td>\n",
       "      <td>0:47</td>\n",
       "      <td>402c0571c894b9244eb105489451f5e4</td>\n",
       "      <td>09e16227fc42c4fe90204a9d11581034</td>\n",
       "      <td>23.2</td>\n",
       "    </tr>\n",
       "    <tr>\n",
       "      <th>1</th>\n",
       "      <td>7730800</td>\n",
       "      <td>W MacArthur &amp; Broadway (Ac Sonoma Vly HS)</td>\n",
       "      <td>LINESTRING (-214719.926 33181.166, -214799.960...</td>\n",
       "      <td>p_2780</td>\n",
       "      <td>3.0</td>\n",
       "      <td>30X</td>\n",
       "      <td>30X</td>\n",
       "      <td>1.0</td>\n",
       "      <td>30.4</td>\n",
       "      <td>30.4</td>\n",
       "      <td>30.4</td>\n",
       "      <td>1.0</td>\n",
       "      <td>0.1</td>\n",
       "      <td>0.4</td>\n",
       "      <td>0:47</td>\n",
       "      <td>402c0571c894b9244eb105489451f5e4</td>\n",
       "      <td>09e16227fc42c4fe90204a9d11581034</td>\n",
       "      <td>23.2</td>\n",
       "    </tr>\n",
       "    <tr>\n",
       "      <th>2</th>\n",
       "      <td>7730900</td>\n",
       "      <td>West MacArthur St &amp; 4th St West</td>\n",
       "      <td>LINESTRING (-214887.669 32634.974, -215518.384...</td>\n",
       "      <td>p_2780</td>\n",
       "      <td>4.0</td>\n",
       "      <td>30X</td>\n",
       "      <td>30X</td>\n",
       "      <td>1.0</td>\n",
       "      <td>30.4</td>\n",
       "      <td>30.4</td>\n",
       "      <td>30.4</td>\n",
       "      <td>1.0</td>\n",
       "      <td>0.1</td>\n",
       "      <td>0.4</td>\n",
       "      <td>0:47</td>\n",
       "      <td>402c0571c894b9244eb105489451f5e4</td>\n",
       "      <td>09e16227fc42c4fe90204a9d11581034</td>\n",
       "      <td>23.2</td>\n",
       "    </tr>\n",
       "  </tbody>\n",
       "</table>\n",
       "</div>"
      ],
      "text/plain": [
       "   stop_id                                  stop_name  \\\n",
       "0  7730800  W MacArthur & Broadway (Ac Sonoma Vly HS)   \n",
       "1  7730800  W MacArthur & Broadway (Ac Sonoma Vly HS)   \n",
       "2  7730900            West MacArthur St & 4th St West   \n",
       "\n",
       "                                            geometry shape_id  stop_sequence  \\\n",
       "0  LINESTRING (-214719.926 33181.166, -214799.960...   p_2780            3.0   \n",
       "1  LINESTRING (-214719.926 33181.166, -214799.960...   p_2780            3.0   \n",
       "2  LINESTRING (-214887.669 32634.974, -215518.384...   p_2780            4.0   \n",
       "\n",
       "  route_id route_short_name  direction_id  p50_mph  p20_mph  p80_mph  \\\n",
       "0      30X              30X           1.0     30.4     30.4     30.4   \n",
       "1      30X              30X           1.0     30.4     30.4     30.4   \n",
       "2      30X              30X           1.0     30.4     30.4     30.4   \n",
       "\n",
       "   fast_slow_ratio  trips_per_hour  miles_from_last time_formatted  \\\n",
       "0              1.0             0.1              0.4           0:47   \n",
       "1              1.0             0.1              0.4           0:47   \n",
       "2              1.0             0.1              0.4           0:47   \n",
       "\n",
       "                           feed_key                  gtfs_dataset_key  \\\n",
       "0  402c0571c894b9244eb105489451f5e4  09e16227fc42c4fe90204a9d11581034   \n",
       "1  402c0571c894b9244eb105489451f5e4  09e16227fc42c4fe90204a9d11581034   \n",
       "2  402c0571c894b9244eb105489451f5e4  09e16227fc42c4fe90204a9d11581034   \n",
       "\n",
       "   system_p50_median  \n",
       "0               23.2  \n",
       "1               23.2  \n",
       "2               23.2  "
      ]
     },
     "execution_count": 31,
     "metadata": {},
     "output_type": "execute_result"
    }
   ],
   "source": [
    "joined_seg_lines >> head(3)"
   ]
  },
  {
   "cell_type": "code",
   "execution_count": 14,
   "id": "16f90285-a1b4-495f-805f-cac56b992d88",
   "metadata": {},
   "outputs": [
    {
     "data": {
      "text/html": [
       "<div>\n",
       "<style scoped>\n",
       "    .dataframe tbody tr th:only-of-type {\n",
       "        vertical-align: middle;\n",
       "    }\n",
       "\n",
       "    .dataframe tbody tr th {\n",
       "        vertical-align: top;\n",
       "    }\n",
       "\n",
       "    .dataframe thead th {\n",
       "        text-align: right;\n",
       "    }\n",
       "</style>\n",
       "<table border=\"1\" class=\"dataframe\">\n",
       "  <thead>\n",
       "    <tr style=\"text-align: right;\">\n",
       "      <th></th>\n",
       "      <th>stop_id</th>\n",
       "      <th>stop_name</th>\n",
       "      <th>geometry</th>\n",
       "      <th>shape_id</th>\n",
       "      <th>stop_sequence</th>\n",
       "      <th>route_id</th>\n",
       "      <th>route_short_name</th>\n",
       "      <th>direction_id</th>\n",
       "      <th>p50_mph</th>\n",
       "      <th>p20_mph</th>\n",
       "      <th>p80_mph</th>\n",
       "      <th>fast_slow_ratio</th>\n",
       "      <th>trips_per_hour</th>\n",
       "      <th>miles_from_last</th>\n",
       "      <th>time_formatted</th>\n",
       "      <th>feed_key</th>\n",
       "      <th>gtfs_dataset_key</th>\n",
       "      <th>system_p50_median</th>\n",
       "    </tr>\n",
       "  </thead>\n",
       "  <tbody>\n",
       "    <tr>\n",
       "      <th>476</th>\n",
       "      <td>7730800</td>\n",
       "      <td>W MacArthur &amp; Broadway (Ac Sonoma Vly HS)</td>\n",
       "      <td>POLYGON ((-214810.835 32652.824, -214824.505 3...</td>\n",
       "      <td>p_2780</td>\n",
       "      <td>3.0</td>\n",
       "      <td>30X</td>\n",
       "      <td>30X</td>\n",
       "      <td>1.0</td>\n",
       "      <td>30.4</td>\n",
       "      <td>30.4</td>\n",
       "      <td>30.4</td>\n",
       "      <td>1.0</td>\n",
       "      <td>0.1</td>\n",
       "      <td>0.4</td>\n",
       "      <td>0:47</td>\n",
       "      <td>402c0571c894b9244eb105489451f5e4</td>\n",
       "      <td>09e16227fc42c4fe90204a9d11581034</td>\n",
       "      <td>23.2</td>\n",
       "    </tr>\n",
       "    <tr>\n",
       "      <th>477</th>\n",
       "      <td>7730900</td>\n",
       "      <td>West MacArthur St &amp; 4th St West</td>\n",
       "      <td>POLYGON ((-214881.979 32679.627, -214900.928 3...</td>\n",
       "      <td>p_2780</td>\n",
       "      <td>4.0</td>\n",
       "      <td>30X</td>\n",
       "      <td>30X</td>\n",
       "      <td>1.0</td>\n",
       "      <td>30.4</td>\n",
       "      <td>30.4</td>\n",
       "      <td>30.4</td>\n",
       "      <td>1.0</td>\n",
       "      <td>0.1</td>\n",
       "      <td>0.4</td>\n",
       "      <td>0:47</td>\n",
       "      <td>402c0571c894b9244eb105489451f5e4</td>\n",
       "      <td>09e16227fc42c4fe90204a9d11581034</td>\n",
       "      <td>23.2</td>\n",
       "    </tr>\n",
       "    <tr>\n",
       "      <th>478</th>\n",
       "      <td>7731000</td>\n",
       "      <td>Pueblo Serena MHP</td>\n",
       "      <td>POLYGON ((-215670.095 32775.462, -215669.204 3...</td>\n",
       "      <td>p_2780</td>\n",
       "      <td>5.0</td>\n",
       "      <td>30X</td>\n",
       "      <td>30X</td>\n",
       "      <td>1.0</td>\n",
       "      <td>30.7</td>\n",
       "      <td>30.7</td>\n",
       "      <td>30.7</td>\n",
       "      <td>1.0</td>\n",
       "      <td>0.1</td>\n",
       "      <td>0.1</td>\n",
       "      <td>0:11</td>\n",
       "      <td>402c0571c894b9244eb105489451f5e4</td>\n",
       "      <td>09e16227fc42c4fe90204a9d11581034</td>\n",
       "      <td>23.2</td>\n",
       "    </tr>\n",
       "  </tbody>\n",
       "</table>\n",
       "</div>"
      ],
      "text/plain": [
       "     stop_id                                  stop_name  \\\n",
       "476  7730800  W MacArthur & Broadway (Ac Sonoma Vly HS)   \n",
       "477  7730900            West MacArthur St & 4th St West   \n",
       "478  7731000                          Pueblo Serena MHP   \n",
       "\n",
       "                                              geometry shape_id  \\\n",
       "476  POLYGON ((-214810.835 32652.824, -214824.505 3...   p_2780   \n",
       "477  POLYGON ((-214881.979 32679.627, -214900.928 3...   p_2780   \n",
       "478  POLYGON ((-215670.095 32775.462, -215669.204 3...   p_2780   \n",
       "\n",
       "     stop_sequence route_id route_short_name  direction_id  p50_mph  p20_mph  \\\n",
       "476            3.0      30X              30X           1.0     30.4     30.4   \n",
       "477            4.0      30X              30X           1.0     30.4     30.4   \n",
       "478            5.0      30X              30X           1.0     30.7     30.7   \n",
       "\n",
       "     p80_mph  fast_slow_ratio  trips_per_hour  miles_from_last time_formatted  \\\n",
       "476     30.4              1.0             0.1              0.4           0:47   \n",
       "477     30.4              1.0             0.1              0.4           0:47   \n",
       "478     30.7              1.0             0.1              0.1           0:11   \n",
       "\n",
       "                             feed_key                  gtfs_dataset_key  \\\n",
       "476  402c0571c894b9244eb105489451f5e4  09e16227fc42c4fe90204a9d11581034   \n",
       "477  402c0571c894b9244eb105489451f5e4  09e16227fc42c4fe90204a9d11581034   \n",
       "478  402c0571c894b9244eb105489451f5e4  09e16227fc42c4fe90204a9d11581034   \n",
       "\n",
       "     system_p50_median  \n",
       "476               23.2  \n",
       "477               23.2  \n",
       "478               23.2  "
      ]
     },
     "execution_count": 14,
     "metadata": {},
     "output_type": "execute_result"
    }
   ],
   "source": [
    "segments_all >> head(3)"
   ]
  },
  {
   "cell_type": "code",
   "execution_count": 17,
   "id": "758b1a0e-e4f2-4e68-aaa3-75535bc1c3ae",
   "metadata": {},
   "outputs": [],
   "source": [
    "shs = gpd.read_parquet(SHN_PATH).to_crs(CA_NAD83Albers)"
   ]
  },
  {
   "cell_type": "code",
   "execution_count": 18,
   "id": "cc9f9881-0a29-4e71-9858-ace147c63f4e",
   "metadata": {},
   "outputs": [
    {
     "data": {
      "text/html": [
       "<div>\n",
       "<style scoped>\n",
       "    .dataframe tbody tr th:only-of-type {\n",
       "        vertical-align: middle;\n",
       "    }\n",
       "\n",
       "    .dataframe tbody tr th {\n",
       "        vertical-align: top;\n",
       "    }\n",
       "\n",
       "    .dataframe thead th {\n",
       "        text-align: right;\n",
       "    }\n",
       "</style>\n",
       "<table border=\"1\" class=\"dataframe\">\n",
       "  <thead>\n",
       "    <tr style=\"text-align: right;\">\n",
       "      <th></th>\n",
       "      <th>Route</th>\n",
       "      <th>County</th>\n",
       "      <th>District</th>\n",
       "      <th>RouteType</th>\n",
       "      <th>NB</th>\n",
       "      <th>SB</th>\n",
       "      <th>EB</th>\n",
       "      <th>WB</th>\n",
       "      <th>geometry</th>\n",
       "      <th>highway_length</th>\n",
       "    </tr>\n",
       "  </thead>\n",
       "  <tbody>\n",
       "    <tr>\n",
       "      <th>0</th>\n",
       "      <td>1</td>\n",
       "      <td>LA</td>\n",
       "      <td>7</td>\n",
       "      <td>State</td>\n",
       "      <td>1</td>\n",
       "      <td>1</td>\n",
       "      <td>0</td>\n",
       "      <td>0</td>\n",
       "      <td>MULTIPOLYGON (((144885.273 -447613.479, 144886...</td>\n",
       "      <td>325266.344392</td>\n",
       "    </tr>\n",
       "    <tr>\n",
       "      <th>1</th>\n",
       "      <td>1</td>\n",
       "      <td>MEN</td>\n",
       "      <td>1</td>\n",
       "      <td>State</td>\n",
       "      <td>1</td>\n",
       "      <td>1</td>\n",
       "      <td>0</td>\n",
       "      <td>0</td>\n",
       "      <td>POLYGON ((-328501.511 157787.309, -328497.074 ...</td>\n",
       "      <td>544903.330331</td>\n",
       "    </tr>\n",
       "    <tr>\n",
       "      <th>2</th>\n",
       "      <td>1</td>\n",
       "      <td>MON</td>\n",
       "      <td>5</td>\n",
       "      <td>State</td>\n",
       "      <td>1</td>\n",
       "      <td>1</td>\n",
       "      <td>0</td>\n",
       "      <td>0</td>\n",
       "      <td>POLYGON ((-173401.509 -166434.139, -173403.742...</td>\n",
       "      <td>531935.433460</td>\n",
       "    </tr>\n",
       "  </tbody>\n",
       "</table>\n",
       "</div>"
      ],
      "text/plain": [
       "   Route County  District RouteType  NB  SB  EB  WB  \\\n",
       "0      1     LA         7     State   1   1   0   0   \n",
       "1      1    MEN         1     State   1   1   0   0   \n",
       "2      1    MON         5     State   1   1   0   0   \n",
       "\n",
       "                                            geometry  highway_length  \n",
       "0  MULTIPOLYGON (((144885.273 -447613.479, 144886...   325266.344392  \n",
       "1  POLYGON ((-328501.511 157787.309, -328497.074 ...   544903.330331  \n",
       "2  POLYGON ((-173401.509 -166434.139, -173403.742...   531935.433460  "
      ]
     },
     "execution_count": 18,
     "metadata": {},
     "output_type": "execute_result"
    }
   ],
   "source": [
    "shs >> head(3)"
   ]
  },
  {
   "cell_type": "code",
   "execution_count": 21,
   "id": "75d5f6b0-0009-4a3c-97ba-eb39a499284d",
   "metadata": {},
   "outputs": [],
   "source": [
    "shs_dask = dg.from_geopandas(shs, npartitions=10)"
   ]
  },
  {
   "cell_type": "code",
   "execution_count": 34,
   "id": "c417f5b2-9a28-4b2d-86f8-adf414bc0024",
   "metadata": {},
   "outputs": [],
   "source": [
    "segs_dask = dg.from_geopandas(segments_all, npartitions=10)"
   ]
  },
  {
   "cell_type": "code",
   "execution_count": 35,
   "id": "fc55b05b-704e-4853-b2af-3b000ad5c313",
   "metadata": {},
   "outputs": [],
   "source": [
    "lines_dask = dg.from_geopandas(joined_seg_lines, npartitions=10)"
   ]
  },
  {
   "cell_type": "code",
   "execution_count": 36,
   "id": "60e2d5e8-b596-4962-9083-7ac634cde494",
   "metadata": {},
   "outputs": [],
   "source": [
    "shs_segs_joined = segs_dask.sjoin(shs_dask)"
   ]
  },
  {
   "cell_type": "code",
   "execution_count": 37,
   "id": "d21adcef-c47c-4471-91b0-443c41186f32",
   "metadata": {},
   "outputs": [],
   "source": [
    "shs_segs_joined_computed = shs_segs_joined.compute()"
   ]
  },
  {
   "cell_type": "code",
   "execution_count": 38,
   "id": "50cb2aac-75c9-4ddd-849f-3ef0e2ad2be4",
   "metadata": {},
   "outputs": [
    {
     "data": {
      "text/html": [
       "<div>\n",
       "<style scoped>\n",
       "    .dataframe tbody tr th:only-of-type {\n",
       "        vertical-align: middle;\n",
       "    }\n",
       "\n",
       "    .dataframe tbody tr th {\n",
       "        vertical-align: top;\n",
       "    }\n",
       "\n",
       "    .dataframe thead th {\n",
       "        text-align: right;\n",
       "    }\n",
       "</style>\n",
       "<table border=\"1\" class=\"dataframe\">\n",
       "  <thead>\n",
       "    <tr style=\"text-align: right;\">\n",
       "      <th></th>\n",
       "      <th>stop_id</th>\n",
       "      <th>stop_name</th>\n",
       "      <th>geometry</th>\n",
       "      <th>shape_id</th>\n",
       "      <th>stop_sequence</th>\n",
       "      <th>route_id</th>\n",
       "      <th>route_short_name</th>\n",
       "      <th>direction_id</th>\n",
       "      <th>p50_mph</th>\n",
       "      <th>p20_mph</th>\n",
       "      <th>...</th>\n",
       "      <th>index_right</th>\n",
       "      <th>Route</th>\n",
       "      <th>County</th>\n",
       "      <th>District</th>\n",
       "      <th>RouteType</th>\n",
       "      <th>NB</th>\n",
       "      <th>SB</th>\n",
       "      <th>EB</th>\n",
       "      <th>WB</th>\n",
       "      <th>highway_length</th>\n",
       "    </tr>\n",
       "  </thead>\n",
       "  <tbody>\n",
       "    <tr>\n",
       "      <th>0</th>\n",
       "      <td>814259</td>\n",
       "      <td>Bailey Rd &amp; Maylard St</td>\n",
       "      <td>POLYGON ((-170586.435 1941.541, -170665.646 19...</td>\n",
       "      <td>39</td>\n",
       "      <td>2.0</td>\n",
       "      <td>201X</td>\n",
       "      <td>201X</td>\n",
       "      <td>1.0</td>\n",
       "      <td>7.6</td>\n",
       "      <td>4.0</td>\n",
       "      <td>...</td>\n",
       "      <td>18</td>\n",
       "      <td>4</td>\n",
       "      <td>CC</td>\n",
       "      <td>4</td>\n",
       "      <td>State</td>\n",
       "      <td>0</td>\n",
       "      <td>0</td>\n",
       "      <td>1</td>\n",
       "      <td>1</td>\n",
       "      <td>243992.823131</td>\n",
       "    </tr>\n",
       "    <tr>\n",
       "      <th>1</th>\n",
       "      <td>812431</td>\n",
       "      <td>Bailey Rd &amp; Canal Rd</td>\n",
       "      <td>POLYGON ((-170208.220 1842.324, -170222.646 18...</td>\n",
       "      <td>39</td>\n",
       "      <td>3.0</td>\n",
       "      <td>201X</td>\n",
       "      <td>201X</td>\n",
       "      <td>1.0</td>\n",
       "      <td>16.3</td>\n",
       "      <td>11.1</td>\n",
       "      <td>...</td>\n",
       "      <td>18</td>\n",
       "      <td>4</td>\n",
       "      <td>CC</td>\n",
       "      <td>4</td>\n",
       "      <td>State</td>\n",
       "      <td>0</td>\n",
       "      <td>0</td>\n",
       "      <td>1</td>\n",
       "      <td>1</td>\n",
       "      <td>243992.823131</td>\n",
       "    </tr>\n",
       "    <tr>\n",
       "      <th>2</th>\n",
       "      <td>None</td>\n",
       "      <td>None</td>\n",
       "      <td>POLYGON ((-200867.261 1213.771, -200707.753 13...</td>\n",
       "      <td>p_5192</td>\n",
       "      <td>22.5</td>\n",
       "      <td>J</td>\n",
       "      <td>J</td>\n",
       "      <td>0.0</td>\n",
       "      <td>20.6</td>\n",
       "      <td>20.6</td>\n",
       "      <td>...</td>\n",
       "      <td>18</td>\n",
       "      <td>4</td>\n",
       "      <td>CC</td>\n",
       "      <td>4</td>\n",
       "      <td>State</td>\n",
       "      <td>0</td>\n",
       "      <td>0</td>\n",
       "      <td>1</td>\n",
       "      <td>1</td>\n",
       "      <td>243992.823131</td>\n",
       "    </tr>\n",
       "  </tbody>\n",
       "</table>\n",
       "<p>3 rows × 28 columns</p>\n",
       "</div>"
      ],
      "text/plain": [
       "  stop_id               stop_name  \\\n",
       "0  814259  Bailey Rd & Maylard St   \n",
       "1  812431    Bailey Rd & Canal Rd   \n",
       "2    None                    None   \n",
       "\n",
       "                                            geometry shape_id  stop_sequence  \\\n",
       "0  POLYGON ((-170586.435 1941.541, -170665.646 19...       39            2.0   \n",
       "1  POLYGON ((-170208.220 1842.324, -170222.646 18...       39            3.0   \n",
       "2  POLYGON ((-200867.261 1213.771, -200707.753 13...   p_5192           22.5   \n",
       "\n",
       "  route_id route_short_name  direction_id  p50_mph  p20_mph  ...  index_right  \\\n",
       "0     201X             201X           1.0      7.6      4.0  ...           18   \n",
       "1     201X             201X           1.0     16.3     11.1  ...           18   \n",
       "2        J                J           0.0     20.6     20.6  ...           18   \n",
       "\n",
       "   Route  County  District RouteType NB SB  EB  WB  highway_length  \n",
       "0      4      CC         4     State  0  0   1   1   243992.823131  \n",
       "1      4      CC         4     State  0  0   1   1   243992.823131  \n",
       "2      4      CC         4     State  0  0   1   1   243992.823131  \n",
       "\n",
       "[3 rows x 28 columns]"
      ]
     },
     "execution_count": 38,
     "metadata": {},
     "output_type": "execute_result"
    }
   ],
   "source": [
    "shs_segs_joined_computed >> head(3)"
   ]
  },
  {
   "cell_type": "code",
   "execution_count": 39,
   "id": "820905d2-a100-4379-83cb-0492a29a912d",
   "metadata": {},
   "outputs": [],
   "source": [
    "shs_lines_joined = lines_dask.sjoin(shs_dask)"
   ]
  },
  {
   "cell_type": "code",
   "execution_count": 40,
   "id": "82fdcb15-03a3-4567-9392-33ec5c773a12",
   "metadata": {},
   "outputs": [],
   "source": [
    "shs_lines_joined_computed = shs_lines_joined.compute()"
   ]
  },
  {
   "cell_type": "code",
   "execution_count": 41,
   "id": "3dc447e2-f0c0-4114-af97-eb7f1d3bb6e4",
   "metadata": {},
   "outputs": [
    {
     "data": {
      "text/html": [
       "<div>\n",
       "<style scoped>\n",
       "    .dataframe tbody tr th:only-of-type {\n",
       "        vertical-align: middle;\n",
       "    }\n",
       "\n",
       "    .dataframe tbody tr th {\n",
       "        vertical-align: top;\n",
       "    }\n",
       "\n",
       "    .dataframe thead th {\n",
       "        text-align: right;\n",
       "    }\n",
       "</style>\n",
       "<table border=\"1\" class=\"dataframe\">\n",
       "  <thead>\n",
       "    <tr style=\"text-align: right;\">\n",
       "      <th></th>\n",
       "      <th>stop_id</th>\n",
       "      <th>stop_name</th>\n",
       "      <th>geometry</th>\n",
       "      <th>shape_id</th>\n",
       "      <th>stop_sequence</th>\n",
       "      <th>route_id</th>\n",
       "      <th>route_short_name</th>\n",
       "      <th>direction_id</th>\n",
       "      <th>p50_mph</th>\n",
       "      <th>p20_mph</th>\n",
       "      <th>...</th>\n",
       "      <th>index_right</th>\n",
       "      <th>Route</th>\n",
       "      <th>County</th>\n",
       "      <th>District</th>\n",
       "      <th>RouteType</th>\n",
       "      <th>NB</th>\n",
       "      <th>SB</th>\n",
       "      <th>EB</th>\n",
       "      <th>WB</th>\n",
       "      <th>highway_length</th>\n",
       "    </tr>\n",
       "  </thead>\n",
       "  <tbody>\n",
       "    <tr>\n",
       "      <th>3797</th>\n",
       "      <td>None</td>\n",
       "      <td>None</td>\n",
       "      <td>LINESTRING (-129165.506 46744.082, -129188.572...</td>\n",
       "      <td>13414</td>\n",
       "      <td>15.055556</td>\n",
       "      <td>3432</td>\n",
       "      <td>14</td>\n",
       "      <td>1.0</td>\n",
       "      <td>46.9</td>\n",
       "      <td>43.6</td>\n",
       "      <td>...</td>\n",
       "      <td>29</td>\n",
       "      <td>5</td>\n",
       "      <td>SAC</td>\n",
       "      <td>3</td>\n",
       "      <td>Interstate</td>\n",
       "      <td>1</td>\n",
       "      <td>1</td>\n",
       "      <td>0</td>\n",
       "      <td>0</td>\n",
       "      <td>183399.283501</td>\n",
       "    </tr>\n",
       "    <tr>\n",
       "      <th>3798</th>\n",
       "      <td>None</td>\n",
       "      <td>None</td>\n",
       "      <td>LINESTRING (-129881.817 47984.143, -129921.109...</td>\n",
       "      <td>13414</td>\n",
       "      <td>15.111111</td>\n",
       "      <td>3432</td>\n",
       "      <td>14</td>\n",
       "      <td>1.0</td>\n",
       "      <td>65.8</td>\n",
       "      <td>65.8</td>\n",
       "      <td>...</td>\n",
       "      <td>29</td>\n",
       "      <td>5</td>\n",
       "      <td>SAC</td>\n",
       "      <td>3</td>\n",
       "      <td>Interstate</td>\n",
       "      <td>1</td>\n",
       "      <td>1</td>\n",
       "      <td>0</td>\n",
       "      <td>0</td>\n",
       "      <td>183399.283501</td>\n",
       "    </tr>\n",
       "    <tr>\n",
       "      <th>3799</th>\n",
       "      <td>None</td>\n",
       "      <td>None</td>\n",
       "      <td>LINESTRING (-130026.009 48973.692, -130031.702...</td>\n",
       "      <td>13414</td>\n",
       "      <td>15.166667</td>\n",
       "      <td>3432</td>\n",
       "      <td>14</td>\n",
       "      <td>1.0</td>\n",
       "      <td>65.8</td>\n",
       "      <td>65.8</td>\n",
       "      <td>...</td>\n",
       "      <td>29</td>\n",
       "      <td>5</td>\n",
       "      <td>SAC</td>\n",
       "      <td>3</td>\n",
       "      <td>Interstate</td>\n",
       "      <td>1</td>\n",
       "      <td>1</td>\n",
       "      <td>0</td>\n",
       "      <td>0</td>\n",
       "      <td>183399.283501</td>\n",
       "    </tr>\n",
       "  </tbody>\n",
       "</table>\n",
       "<p>3 rows × 28 columns</p>\n",
       "</div>"
      ],
      "text/plain": [
       "     stop_id stop_name                                           geometry  \\\n",
       "3797    None      None  LINESTRING (-129165.506 46744.082, -129188.572...   \n",
       "3798    None      None  LINESTRING (-129881.817 47984.143, -129921.109...   \n",
       "3799    None      None  LINESTRING (-130026.009 48973.692, -130031.702...   \n",
       "\n",
       "     shape_id  stop_sequence route_id route_short_name  direction_id  p50_mph  \\\n",
       "3797    13414      15.055556     3432               14           1.0     46.9   \n",
       "3798    13414      15.111111     3432               14           1.0     65.8   \n",
       "3799    13414      15.166667     3432               14           1.0     65.8   \n",
       "\n",
       "      p20_mph  ...  index_right  Route  County  District   RouteType NB SB  \\\n",
       "3797     43.6  ...           29      5     SAC         3  Interstate  1  1   \n",
       "3798     65.8  ...           29      5     SAC         3  Interstate  1  1   \n",
       "3799     65.8  ...           29      5     SAC         3  Interstate  1  1   \n",
       "\n",
       "      EB  WB  highway_length  \n",
       "3797   0   0   183399.283501  \n",
       "3798   0   0   183399.283501  \n",
       "3799   0   0   183399.283501  \n",
       "\n",
       "[3 rows x 28 columns]"
      ]
     },
     "execution_count": 41,
     "metadata": {},
     "output_type": "execute_result"
    }
   ],
   "source": [
    "shs_lines_joined_computed >> head(3)"
   ]
  },
  {
   "cell_type": "code",
   "execution_count": 44,
   "id": "454033d3-9e07-42f3-9e89-d836059f5493",
   "metadata": {},
   "outputs": [
    {
     "data": {
      "text/plain": [
       "Index(['stop_id', 'stop_name', 'geometry', 'shape_id', 'stop_sequence',\n",
       "       'route_id', 'route_short_name', 'direction_id', 'p50_mph', 'p20_mph',\n",
       "       'p80_mph', 'fast_slow_ratio', 'trips_per_hour', 'miles_from_last',\n",
       "       'time_formatted', 'feed_key', 'gtfs_dataset_key', 'system_p50_median',\n",
       "       'index_right', 'Route', 'County', 'District', 'RouteType', 'NB', 'SB',\n",
       "       'EB', 'WB', 'highway_length'],\n",
       "      dtype='object')"
      ]
     },
     "execution_count": 44,
     "metadata": {},
     "output_type": "execute_result"
    }
   ],
   "source": [
    "shs_lines_joined_computed.columns"
   ]
  },
  {
   "cell_type": "code",
   "execution_count": 47,
   "id": "18f3b673-074c-4ca0-aae7-87be48a7b625",
   "metadata": {},
   "outputs": [],
   "source": [
    "shs_lines_joined_computed = shs_lines_joined_computed >> select(-_.time_from_last, -_.index_right, -_.highway_length,\n",
    "                                                            -_.EB, -_.WB, -_.NB, -_.SB)"
   ]
  },
  {
   "cell_type": "code",
   "execution_count": 48,
   "id": "9485755b-ac71-461b-a523-0f5e306bdcab",
   "metadata": {},
   "outputs": [],
   "source": [
    "shs_segs_joined_computed = shs_segs_joined_computed >> select(-_.time_from_last, -_.index_right, -_.highway_length,\n",
    "                                                            -_.EB, -_.WB, -_.NB, -_.SB)"
   ]
  },
  {
   "cell_type": "code",
   "execution_count": 49,
   "id": "ad580526-45f9-4f2a-9e2a-81e4c884d730",
   "metadata": {},
   "outputs": [],
   "source": [
    "shs_lines_joined_computed.to_file('transit_lines_shs_joined.geojson')"
   ]
  },
  {
   "cell_type": "code",
   "execution_count": 50,
   "id": "3603788f-11bf-45b0-9ee5-0e668c25b070",
   "metadata": {},
   "outputs": [],
   "source": [
    "shs_segs_joined_computed.to_file('transit_polygons_shs_joined.geojson')"
   ]
  }
 ],
 "metadata": {
  "kernelspec": {
   "display_name": "Python 3 (ipykernel)",
   "language": "python",
   "name": "python3"
  },
  "language_info": {
   "codemirror_mode": {
    "name": "ipython",
    "version": 3
   },
   "file_extension": ".py",
   "mimetype": "text/x-python",
   "name": "python",
   "nbconvert_exporter": "python",
   "pygments_lexer": "ipython3",
   "version": "3.9.13"
  },
  "widgets": {
   "application/vnd.jupyter.widget-state+json": {
    "state": {},
    "version_major": 2,
    "version_minor": 0
   }
  }
 },
 "nbformat": 4,
 "nbformat_minor": 5
}
