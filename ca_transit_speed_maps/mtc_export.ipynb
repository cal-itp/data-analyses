{
 "cells": [
  {
   "cell_type": "code",
   "execution_count": null,
   "id": "8896c96f-fb8a-4035-8d2f-14aaf3348a86",
   "metadata": {},
   "outputs": [],
   "source": [
    "import pandas as pd\n",
    "import geopandas as gpd\n",
    "from siuba import *\n",
    "\n",
    "import datetime as dt\n",
    "import os"
   ]
  },
  {
   "cell_type": "markdown",
   "id": "7ee0bbcf-9109-43f7-9ac7-15bf8ce93b90",
   "metadata": {},
   "source": [
    "# Example 4-day aggregation using speedmap data\n",
    "\n",
    "* Export 4 days in April to support MTC Plan Bay Area 2050\n",
    "* First, run speedmap pipeline for any days not already ran (can filter to subset of operators/districts if desired by using additional scripts and editing Makefile, see d4 example)"
   ]
  },
  {
   "cell_type": "code",
   "execution_count": null,
   "id": "495c9d75-59d6-490f-be73-f0607a827bcb",
   "metadata": {},
   "outputs": [],
   "source": [
    "dates = [f'2023-04-{day}' for day in range(10, 14)]"
   ]
  },
  {
   "cell_type": "code",
   "execution_count": null,
   "id": "3e97e760-84e8-4b3e-81ea-1a8b38c12187",
   "metadata": {},
   "outputs": [],
   "source": [
    "dates"
   ]
  },
  {
   "cell_type": "code",
   "execution_count": null,
   "id": "63775d37-a450-46cc-9bd3-b1e8557a9ea6",
   "metadata": {},
   "outputs": [],
   "source": [
    "progress_all_dates = []\n",
    "for date in dates:\n",
    "    df = pd.read_parquet(f'./_rt_progress_{date}.parquet')\n",
    "    df = df >> filter(_.caltrans_district == '04 - Oakland')\n",
    "    progress_all_dates += [df]\n",
    "four_days = pd.concat(progress_all_dates)"
   ]
  },
  {
   "cell_type": "markdown",
   "id": "ddbaeceb-a50a-4697-9f5e-c1529dab8380",
   "metadata": {},
   "source": [
    "Basic checks on organizations ran"
   ]
  },
  {
   "cell_type": "code",
   "execution_count": null,
   "id": "392070de-84f2-4a9a-821c-dd48cfb10142",
   "metadata": {},
   "outputs": [],
   "source": [
    "# four_days >> count(_.organization_name, _.status, _.organization_itp_id)"
   ]
  },
  {
   "cell_type": "code",
   "execution_count": null,
   "id": "76dabc07-e4aa-472a-b46a-e9b0394cb2de",
   "metadata": {},
   "outputs": [],
   "source": [
    "# four_days >> filter(_.status == 'already_ran')"
   ]
  },
  {
   "cell_type": "code",
   "execution_count": null,
   "id": "4ebc8648-d9a7-473f-a3b8-d10eab75055a",
   "metadata": {},
   "outputs": [],
   "source": [
    "am_filter = {'period': 'am', 'filter_args': {'start_time': '06:00', 'end_time': '09:00'}}\n",
    "mid_filter = {'period': 'mid', 'filter_args': {'start_time': '10:00', 'end_time': '14:00'}}\n",
    "pm_filter = {'period': 'pm', 'filter_args': {'start_time': '15:00', 'end_time': '19:00'}}\n",
    "all_filters = [am_filter, mid_filter, pm_filter]"
   ]
  },
  {
   "cell_type": "code",
   "execution_count": null,
   "id": "1a4c3ccf-2b5c-4a5e-9e65-19952d550375",
   "metadata": {},
   "outputs": [],
   "source": [
    "from tqdm.notebook import tqdm"
   ]
  },
  {
   "cell_type": "code",
   "execution_count": null,
   "id": "86c9b940-71f4-4a7e-955d-620cc3a69cef",
   "metadata": {},
   "outputs": [],
   "source": [
    "from rt_analysis import signal_tools"
   ]
  },
  {
   "cell_type": "code",
   "execution_count": null,
   "id": "e29b8e01-832a-43c8-8791-ee81579e88f4",
   "metadata": {},
   "outputs": [],
   "source": [
    "signal_tools.concatenate_speedmap_segments?"
   ]
  },
  {
   "cell_type": "code",
   "execution_count": null,
   "id": "b82cdc34-41a8-483a-8656-6ee2cffe4a08",
   "metadata": {},
   "outputs": [],
   "source": [
    "pbar = tqdm()"
   ]
  },
  {
   "cell_type": "markdown",
   "id": "f6ce3c4d-b4c2-4bb8-840b-87849ebd0ea3",
   "metadata": {},
   "source": [
    "## loop over dates, using `signal_tools` to aggregate all operators in each time period"
   ]
  },
  {
   "cell_type": "code",
   "execution_count": null,
   "id": "e5a6ace6-aab5-41f1-9fb5-0133923baf89",
   "metadata": {},
   "outputs": [],
   "source": [
    "# for date in dates:\n",
    "#     progress_df = pd.read_parquet(f'./_rt_progress_{date}.parquet')\n",
    "#     progress_df = progress_df >> filter(_.caltrans_district == '04 - Oakland') >> filter(_.status == 'map_confirmed')\n",
    "#     gdfs = {}\n",
    "#     for time_filter in all_filters:\n",
    "#         gdfs[time_filter['period']] = signal_tools.conacatenate_speedmap_segments(progress_df = progress_df, pbar=pbar, filter_args=time_filter['filter_args'])\n",
    "#     for period in gdfs.keys():\n",
    "#         gdfs[period].to_parquet(f'_{date}_{period}.parquet')"
   ]
  },
  {
   "cell_type": "markdown",
   "id": "745d9ae2-2f3a-4cce-8a93-ca90b9e18e31",
   "metadata": {},
   "source": [
    "## concatenate/aggregate 4 day period\n",
    "\n",
    "* start by aggregating metrics for each time of day period across all dates/operators\n",
    "* then prefix am/mid/pm observations and concat"
   ]
  },
  {
   "cell_type": "code",
   "execution_count": null,
   "id": "cb0f38f4-6794-41cb-915a-c863405fee96",
   "metadata": {},
   "outputs": [],
   "source": [
    "def read_all_dates(period):\n",
    "    gdfs = []\n",
    "    for date in dates:\n",
    "        gdfs += [gpd.read_parquet(f'_{date}_{period}.parquet')]\n",
    "    return pd.concat(gdfs)"
   ]
  },
  {
   "cell_type": "code",
   "execution_count": null,
   "id": "ae22f092-0e82-47ed-8784-320ff68bce47",
   "metadata": {},
   "outputs": [],
   "source": [
    "all_am = read_all_dates('am')"
   ]
  },
  {
   "cell_type": "code",
   "execution_count": null,
   "id": "17989d2d-aba1-4226-9c1d-ccde34dda261",
   "metadata": {},
   "outputs": [],
   "source": [
    "all_pm = read_all_dates('pm')"
   ]
  },
  {
   "cell_type": "code",
   "execution_count": null,
   "id": "6adecc56-7b15-4e67-a0fc-c8fb225a7bc1",
   "metadata": {},
   "outputs": [],
   "source": [
    "all_mid = read_all_dates('mid')"
   ]
  },
  {
   "cell_type": "code",
   "execution_count": null,
   "id": "9457b50e-0314-4a33-a322-07520d44fb1f",
   "metadata": {},
   "outputs": [],
   "source": [
    "group_cols = ['geometry', 'shape_id', 'stop_sequence',\n",
    "       'route_id', 'route_short_name', 'direction_id', 'gtfs_dataset_key', 'organization_name',\n",
    "             'miles_from_last']"
   ]
  },
  {
   "cell_type": "code",
   "execution_count": null,
   "id": "8f44434b-81e1-4b37-a835-c79a26d195de",
   "metadata": {},
   "outputs": [],
   "source": [
    "prefix_cols = ['p50_mph', 'p20_mph',\n",
    "       'p80_mph', 'fast_slow_ratio', 'trips_per_hour',\n",
    "       'time_formatted', 'system_p50_median', 'n_weekdays']"
   ]
  },
  {
   "cell_type": "code",
   "execution_count": null,
   "id": "c9da37d2-e818-4810-ba92-e18dc0b59b40",
   "metadata": {},
   "outputs": [],
   "source": [
    "def aggregate_prefix(period_concat_df, period):\n",
    "\n",
    "    counts = (period_concat_df >> count(_.shape_id, _.stop_sequence, _.gtfs_dataset_key, _.organization_name)\n",
    "          >> select(_.shape_id, _.stop_sequence, _.gtfs_dataset_key, _.organization_name, _.n_weekdays == _.n))\n",
    "    all_period_agged = period_concat_df.groupby(group_cols).median().reset_index()\n",
    "    all_period_agged = all_period_agged >> inner_join(_, counts, on = ['shape_id', 'stop_sequence', 'gtfs_dataset_key', 'organization_name'])\n",
    "    prefix = period + '_'\n",
    "    prefixed = [prefix + col for col in prefix_cols]\n",
    "    rename_dict = dict(zip(prefix_cols, prefixed))\n",
    "    all_period_agged = all_period_agged.rename(columns=rename_dict)\n",
    "    \n",
    "    return all_period_agged"
   ]
  },
  {
   "cell_type": "code",
   "execution_count": null,
   "id": "af8f4369-2dbc-44d4-aa86-3228c0990a57",
   "metadata": {},
   "outputs": [],
   "source": [
    "am_prefixed = aggregate_prefix(all_am, 'am')"
   ]
  },
  {
   "cell_type": "code",
   "execution_count": null,
   "id": "13f77cfe-0a9b-4677-b703-593bb8a88393",
   "metadata": {},
   "outputs": [],
   "source": [
    "pm_prefixed = aggregate_prefix(all_pm, 'pm')"
   ]
  },
  {
   "cell_type": "code",
   "execution_count": null,
   "id": "44538a80-d906-4428-8da3-bdaf04797903",
   "metadata": {},
   "outputs": [],
   "source": [
    "mid_prefixed = aggregate_prefix(all_mid, 'mid')"
   ]
  },
  {
   "cell_type": "code",
   "execution_count": null,
   "id": "07a5f129-82d0-43bb-9a75-dfbfe5e24e12",
   "metadata": {},
   "outputs": [],
   "source": [
    "joined = (am_prefixed >> full_join(_, mid_prefixed, on=group_cols)\n",
    "          >> full_join(_, pm_prefixed, on=group_cols)\n",
    "         \n",
    "         )"
   ]
  },
  {
   "cell_type": "code",
   "execution_count": null,
   "id": "11b060c0-d986-4725-9bd3-f196014b69f4",
   "metadata": {},
   "outputs": [],
   "source": [
    "joined.columns"
   ]
  },
  {
   "cell_type": "markdown",
   "id": "88646d32-27b9-4fc9-b9fa-0ec289ff67f6",
   "metadata": {},
   "source": [
    "## re-add stop id and stop name\n",
    "\n",
    "* can't group on these since not present for virtual segments!"
   ]
  },
  {
   "cell_type": "code",
   "execution_count": null,
   "id": "d99c6350-69cc-48f5-bde5-5db87f71c4b8",
   "metadata": {},
   "outputs": [],
   "source": [
    "df = pd.concat([all_am, all_mid, all_pm]) >> distinct(_.shape_id, _.stop_sequence, _.gtfs_dataset_key,\n",
    "                                                     _.stop_id, _.stop_name)"
   ]
  },
  {
   "cell_type": "code",
   "execution_count": null,
   "id": "42b08558-a103-4d2e-bf6f-a48581a93bad",
   "metadata": {},
   "outputs": [],
   "source": [
    "joined = joined >> left_join(_, df, on=['shape_id', 'stop_sequence', 'gtfs_dataset_key'])"
   ]
  },
  {
   "cell_type": "code",
   "execution_count": null,
   "id": "7f16f329-6a98-43bb-a521-e36b7d37ed1b",
   "metadata": {},
   "outputs": [],
   "source": [
    "joined >> count(_.stop_id, _.stop_name) >> arrange(-_.n)"
   ]
  },
  {
   "cell_type": "code",
   "execution_count": null,
   "id": "813f9691-e687-44cc-9401-6df47e03cfaf",
   "metadata": {},
   "outputs": [],
   "source": [
    "joined = gpd.GeoDataFrame(joined)"
   ]
  },
  {
   "cell_type": "code",
   "execution_count": null,
   "id": "4478b836-09f5-4b65-a9ff-a6deb46d0258",
   "metadata": {},
   "outputs": [],
   "source": [
    "joined.crs"
   ]
  },
  {
   "cell_type": "code",
   "execution_count": null,
   "id": "a297d9be-1d67-4b15-ad1f-e0b6c55dad20",
   "metadata": {},
   "outputs": [],
   "source": [
    "# (joined >> filter(_.stop_id.isna())).explore()"
   ]
  },
  {
   "cell_type": "code",
   "execution_count": null,
   "id": "f8fdffb9-af48-459b-bf3a-bcad324f12f9",
   "metadata": {},
   "outputs": [],
   "source": [
    "joined.to_parquet('d4_apr10_apr13_express_fixed2.parquet')"
   ]
  },
  {
   "cell_type": "code",
   "execution_count": null,
   "id": "2f76bbe4-9768-42c1-bf51-48da0d811eac",
   "metadata": {},
   "outputs": [],
   "source": [
    "gdf = gpd.read_parquet('./d4_apr10_apr13_express_fixed.parquet')"
   ]
  },
  {
   "cell_type": "code",
   "execution_count": null,
   "id": "f2d332e3-d8df-4c37-aa48-83bd6cae62ee",
   "metadata": {},
   "outputs": [],
   "source": [
    "(gdf >> filter(_.route_short_name.isin(['Lynx']))).explore()"
   ]
  },
  {
   "cell_type": "code",
   "execution_count": null,
   "id": "b2d5d3dd-4e0e-4a7d-bce4-241defcb0146",
   "metadata": {},
   "outputs": [],
   "source": [
    "(gdf >> filter(_.route_short_name.isin(['FCX']))).explore()"
   ]
  },
  {
   "cell_type": "code",
   "execution_count": null,
   "id": "47e28128-38ba-4bfe-b41a-5687d12dcc61",
   "metadata": {},
   "outputs": [],
   "source": [
    "(gdf >> filter(_.route_short_name.isin(['F', 'E', 'NL']))).explore()"
   ]
  },
  {
   "cell_type": "code",
   "execution_count": null,
   "id": "4b6a254b-9446-4861-b5f6-20eb2c6ac8df",
   "metadata": {},
   "outputs": [],
   "source": [
    "(gdf >> filter(_.organization_name.str.contains('Golden'))).route_short_name.unique()"
   ]
  },
  {
   "cell_type": "code",
   "execution_count": null,
   "id": "cfadec25-dd3b-4f33-b841-90123abd20c0",
   "metadata": {},
   "outputs": [],
   "source": [
    "joined.columns"
   ]
  },
  {
   "cell_type": "code",
   "execution_count": null,
   "id": "914580fd-e4ab-4571-b99a-61f00924fe38",
   "metadata": {},
   "outputs": [],
   "source": []
  }
 ],
 "metadata": {
  "kernelspec": {
   "display_name": "Python 3 (ipykernel)",
   "language": "python",
   "name": "python3"
  },
  "language_info": {
   "codemirror_mode": {
    "name": "ipython",
    "version": 3
   },
   "file_extension": ".py",
   "mimetype": "text/x-python",
   "name": "python",
   "nbconvert_exporter": "python",
   "pygments_lexer": "ipython3",
   "version": "3.9.13"
  },
  "widgets": {
   "application/vnd.jupyter.widget-state+json": {
    "state": {},
    "version_major": 2,
    "version_minor": 0
   }
  }
 },
 "nbformat": 4,
 "nbformat_minor": 5
}
