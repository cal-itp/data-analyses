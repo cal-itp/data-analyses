{
 "cells": [
  {
   "cell_type": "code",
   "execution_count": 56,
   "id": "8896c96f-fb8a-4035-8d2f-14aaf3348a86",
   "metadata": {},
   "outputs": [],
   "source": [
    "import pandas as pd\n",
    "import geopandas as gpd\n",
    "from siuba import *\n",
    "\n",
    "import datetime as dt\n",
    "import os"
   ]
  },
  {
   "cell_type": "markdown",
   "id": "7ee0bbcf-9109-43f7-9ac7-15bf8ce93b90",
   "metadata": {},
   "source": [
    "# Example 4-day aggregation using speedmap data\n",
    "\n",
    "* Export 4 days in April to support MTC Plan Bay Area 2050\n",
    "* First, run speedmap pipeline for any days not already ran (can filter to subset of operators/districts if desired by using additional scripts and editing Makefile, see d4 example)"
   ]
  },
  {
   "cell_type": "code",
   "execution_count": 3,
   "id": "495c9d75-59d6-490f-be73-f0607a827bcb",
   "metadata": {},
   "outputs": [],
   "source": [
    "dates = [f'2023-04-{day}' for day in range(10, 14)]"
   ]
  },
  {
   "cell_type": "code",
   "execution_count": 30,
   "id": "3e97e760-84e8-4b3e-81ea-1a8b38c12187",
   "metadata": {},
   "outputs": [
    {
     "data": {
      "text/plain": [
       "['2023-04-10', '2023-04-11', '2023-04-12', '2023-04-13']"
      ]
     },
     "execution_count": 30,
     "metadata": {},
     "output_type": "execute_result"
    }
   ],
   "source": [
    "dates"
   ]
  },
  {
   "cell_type": "code",
   "execution_count": 8,
   "id": "63775d37-a450-46cc-9bd3-b1e8557a9ea6",
   "metadata": {},
   "outputs": [],
   "source": [
    "progress_all_dates = []\n",
    "for date in dates:\n",
    "    df = pd.read_parquet(f'./_rt_progress_{date}.parquet')\n",
    "    df = df >> filter(_.caltrans_district == '04 - Oakland')\n",
    "    progress_all_dates += [df]\n",
    "four_days = pd.concat(progress_all_dates)"
   ]
  },
  {
   "cell_type": "markdown",
   "id": "ddbaeceb-a50a-4697-9f5e-c1529dab8380",
   "metadata": {},
   "source": [
    "Basic checks on organizations ran"
   ]
  },
  {
   "cell_type": "code",
   "execution_count": null,
   "id": "392070de-84f2-4a9a-821c-dd48cfb10142",
   "metadata": {},
   "outputs": [],
   "source": [
    "# four_days >> count(_.organization_name, _.status, _.organization_itp_id)"
   ]
  },
  {
   "cell_type": "code",
   "execution_count": 10,
   "id": "76dabc07-e4aa-472a-b46a-e9b0394cb2de",
   "metadata": {},
   "outputs": [
    {
     "data": {
      "text/html": [
       "<div>\n",
       "<style scoped>\n",
       "    .dataframe tbody tr th:only-of-type {\n",
       "        vertical-align: middle;\n",
       "    }\n",
       "\n",
       "    .dataframe tbody tr th {\n",
       "        vertical-align: top;\n",
       "    }\n",
       "\n",
       "    .dataframe thead th {\n",
       "        text-align: right;\n",
       "    }\n",
       "</style>\n",
       "<table border=\"1\" class=\"dataframe\">\n",
       "  <thead>\n",
       "    <tr style=\"text-align: right;\">\n",
       "      <th></th>\n",
       "      <th>organization_name</th>\n",
       "      <th>organization_itp_id</th>\n",
       "      <th>organization_source_record_id</th>\n",
       "      <th>caltrans_district</th>\n",
       "      <th>_is_current</th>\n",
       "      <th>analysis_date</th>\n",
       "      <th>status</th>\n",
       "    </tr>\n",
       "  </thead>\n",
       "  <tbody>\n",
       "  </tbody>\n",
       "</table>\n",
       "</div>"
      ],
      "text/plain": [
       "Empty DataFrame\n",
       "Columns: [organization_name, organization_itp_id, organization_source_record_id, caltrans_district, _is_current, analysis_date, status]\n",
       "Index: []"
      ]
     },
     "execution_count": 10,
     "metadata": {},
     "output_type": "execute_result"
    }
   ],
   "source": [
    "# four_days >> filter(_.status == 'already_ran')"
   ]
  },
  {
   "cell_type": "code",
   "execution_count": 14,
   "id": "4ebc8648-d9a7-473f-a3b8-d10eab75055a",
   "metadata": {},
   "outputs": [],
   "source": [
    "am_filter = {'period': 'am', 'filter_args': {'start_time': '06:00', 'end_time': '09:00'}}\n",
    "mid_filter = {'period': 'mid', 'filter_args': {'start_time': '10:00', 'end_time': '14:00'}}\n",
    "pm_filter = {'period': 'pm', 'filter_args': {'start_time': '15:00', 'end_time': '19:00'}}\n",
    "all_filters = [am_filter, mid_filter, pm_filter]"
   ]
  },
  {
   "cell_type": "code",
   "execution_count": 41,
   "id": "1a4c3ccf-2b5c-4a5e-9e65-19952d550375",
   "metadata": {},
   "outputs": [],
   "source": [
    "from tqdm.notebook import tqdm"
   ]
  },
  {
   "cell_type": "code",
   "execution_count": 42,
   "id": "86c9b940-71f4-4a7e-955d-620cc3a69cef",
   "metadata": {},
   "outputs": [],
   "source": [
    "from rt_analysis import signal_tools"
   ]
  },
  {
   "cell_type": "code",
   "execution_count": 43,
   "id": "e29b8e01-832a-43c8-8791-ee81579e88f4",
   "metadata": {},
   "outputs": [
    {
     "data": {
      "text/plain": [
       "\u001b[0;31mSignature:\u001b[0m\n",
       "\u001b[0msignal_tools\u001b[0m\u001b[0;34m.\u001b[0m\u001b[0mconcatenate_speedmap_segments\u001b[0m\u001b[0;34m(\u001b[0m\u001b[0;34m\u001b[0m\n",
       "\u001b[0;34m\u001b[0m    \u001b[0mprogress_df\u001b[0m\u001b[0;34m:\u001b[0m \u001b[0mpandas\u001b[0m\u001b[0;34m.\u001b[0m\u001b[0mcore\u001b[0m\u001b[0;34m.\u001b[0m\u001b[0mframe\u001b[0m\u001b[0;34m.\u001b[0m\u001b[0mDataFrame\u001b[0m \u001b[0;34m=\u001b[0m \u001b[0;32mNone\u001b[0m\u001b[0;34m,\u001b[0m\u001b[0;34m\u001b[0m\n",
       "\u001b[0;34m\u001b[0m    \u001b[0mitp_id_list\u001b[0m\u001b[0;34m:\u001b[0m \u001b[0mlist\u001b[0m \u001b[0;34m=\u001b[0m \u001b[0;32mNone\u001b[0m\u001b[0;34m,\u001b[0m\u001b[0;34m\u001b[0m\n",
       "\u001b[0;34m\u001b[0m    \u001b[0manalysis_date\u001b[0m\u001b[0;34m:\u001b[0m \u001b[0mdatetime\u001b[0m\u001b[0;34m.\u001b[0m\u001b[0mdatetime\u001b[0m \u001b[0;34m=\u001b[0m \u001b[0;32mNone\u001b[0m\u001b[0;34m,\u001b[0m\u001b[0;34m\u001b[0m\n",
       "\u001b[0;34m\u001b[0m    \u001b[0mpbar\u001b[0m\u001b[0;34m:\u001b[0m \u001b[0mtqdm\u001b[0m\u001b[0;34m.\u001b[0m\u001b[0mnotebook\u001b[0m\u001b[0;34m.\u001b[0m\u001b[0mtqdm_notebook\u001b[0m \u001b[0;34m=\u001b[0m \u001b[0;32mNone\u001b[0m\u001b[0;34m,\u001b[0m\u001b[0;34m\u001b[0m\n",
       "\u001b[0;34m\u001b[0m    \u001b[0mfilter_args\u001b[0m\u001b[0;34m:\u001b[0m \u001b[0mdict\u001b[0m \u001b[0;34m=\u001b[0m \u001b[0;32mNone\u001b[0m\u001b[0;34m,\u001b[0m\u001b[0;34m\u001b[0m\n",
       "\u001b[0;34m\u001b[0m\u001b[0;34m)\u001b[0m\u001b[0;34m\u001b[0m\u001b[0;34m\u001b[0m\u001b[0m\n",
       "\u001b[0;31mDocstring:\u001b[0m\n",
       "get polygon segments from legacy speedmap workflow, with relevant ids attached\n",
       "relatively fast if already ran for date, slow otherwise\n",
       "\n",
       "progress_df: see data_analyses/ca_transit_speed_maps\n",
       "filter_dict: dict of args to RtFilterMapper.set_filter\n",
       "\u001b[0;31mFile:\u001b[0m      ~/data-analyses/rt_delay/rt_analysis/signal_tools.py\n",
       "\u001b[0;31mType:\u001b[0m      function"
      ]
     },
     "metadata": {},
     "output_type": "display_data"
    }
   ],
   "source": [
    "signal_tools.concatenate_speedmap_segments?"
   ]
  },
  {
   "cell_type": "code",
   "execution_count": 44,
   "id": "b82cdc34-41a8-483a-8656-6ee2cffe4a08",
   "metadata": {},
   "outputs": [
    {
     "data": {
      "application/vnd.jupyter.widget-view+json": {
       "model_id": "77e8368361134d3287d8a1e830c66def",
       "version_major": 2,
       "version_minor": 0
      },
      "text/plain": [
       "0it [00:00, ?it/s]"
      ]
     },
     "metadata": {},
     "output_type": "display_data"
    }
   ],
   "source": [
    "pbar = tqdm()"
   ]
  },
  {
   "cell_type": "markdown",
   "id": "f6ce3c4d-b4c2-4bb8-840b-87849ebd0ea3",
   "metadata": {},
   "source": [
    "## loop over dates, using `signal_tools` to aggregate all operators in each time period"
   ]
  },
  {
   "cell_type": "code",
   "execution_count": null,
   "id": "e5a6ace6-aab5-41f1-9fb5-0133923baf89",
   "metadata": {},
   "outputs": [],
   "source": [
    "for date in dates:\n",
    "    progress_df = pd.read_parquet(f'./_rt_progress_{date}.parquet')\n",
    "    progress_df = progress_df >> filter(_.caltrans_district == '04 - Oakland') >> filter(_.status == 'map_confirmed')\n",
    "    gdfs = {}\n",
    "    for time_filter in all_filters:\n",
    "        gdfs[time_filter['period']] = signal_tools.conacatenate_speedmap_segments(progress_df = progress_df, pbar=pbar, filter_args=time_filter['filter_args'])\n",
    "    for period in gdfs.keys():\n",
    "        gdfs[period].to_parquet(f'_{date}_{period}.parquet')"
   ]
  },
  {
   "cell_type": "markdown",
   "id": "745d9ae2-2f3a-4cce-8a93-ca90b9e18e31",
   "metadata": {},
   "source": [
    "## concatenate/aggregate 4 day period\n",
    "\n",
    "* start by aggregating metrics for each time of day period across all dates/operators\n",
    "* then prefix am/mid/pm observations and concat"
   ]
  },
  {
   "cell_type": "code",
   "execution_count": 54,
   "id": "cb0f38f4-6794-41cb-915a-c863405fee96",
   "metadata": {},
   "outputs": [],
   "source": [
    "def read_all_dates(period):\n",
    "    gdfs = []\n",
    "    for date in dates:\n",
    "        gdfs += [gpd.read_parquet(f'_{date}_{period}.parquet')]\n",
    "    return pd.concat(gdfs)"
   ]
  },
  {
   "cell_type": "code",
   "execution_count": 57,
   "id": "ae22f092-0e82-47ed-8784-320ff68bce47",
   "metadata": {},
   "outputs": [],
   "source": [
    "all_am = read_all_dates('am')"
   ]
  },
  {
   "cell_type": "code",
   "execution_count": 120,
   "id": "8c09afa5-8a71-498f-80ea-0d87643e0bf9",
   "metadata": {},
   "outputs": [
    {
     "data": {
      "text/plain": [
       "Index(['stop_id', 'stop_name', 'geometry', 'shape_id', 'stop_sequence',\n",
       "       'route_id', 'route_short_name', 'direction_id', 'p50_mph', 'p20_mph',\n",
       "       'p80_mph', 'fast_slow_ratio', 'trips_per_hour', 'miles_from_last',\n",
       "       'time_formatted', 'gtfs_dataset_key', 'organization_name',\n",
       "       'system_p50_median'],\n",
       "      dtype='object')"
      ]
     },
     "execution_count": 120,
     "metadata": {},
     "output_type": "execute_result"
    }
   ],
   "source": [
    "all_am.columns"
   ]
  },
  {
   "cell_type": "code",
   "execution_count": 94,
   "id": "17989d2d-aba1-4226-9c1d-ccde34dda261",
   "metadata": {},
   "outputs": [],
   "source": [
    "all_pm = read_all_dates('pm')"
   ]
  },
  {
   "cell_type": "code",
   "execution_count": 95,
   "id": "6adecc56-7b15-4e67-a0fc-c8fb225a7bc1",
   "metadata": {},
   "outputs": [],
   "source": [
    "all_mid = read_all_dates('mid')"
   ]
  },
  {
   "cell_type": "code",
   "execution_count": 122,
   "id": "9457b50e-0314-4a33-a322-07520d44fb1f",
   "metadata": {},
   "outputs": [],
   "source": [
    "group_cols = ['stop_id', 'stop_name', 'geometry', 'shape_id', 'stop_sequence',\n",
    "       'route_id', 'route_short_name', 'direction_id', 'gtfs_dataset_key', 'organization_name',\n",
    "             'miles_from_last']"
   ]
  },
  {
   "cell_type": "code",
   "execution_count": 123,
   "id": "8f44434b-81e1-4b37-a835-c79a26d195de",
   "metadata": {},
   "outputs": [],
   "source": [
    "prefix_cols = ['p50_mph', 'p20_mph',\n",
    "       'p80_mph', 'fast_slow_ratio', 'trips_per_hour',\n",
    "       'time_formatted', 'system_p50_median', 'n_weekdays']"
   ]
  },
  {
   "cell_type": "code",
   "execution_count": 124,
   "id": "c9da37d2-e818-4810-ba92-e18dc0b59b40",
   "metadata": {},
   "outputs": [],
   "source": [
    "def aggregate_prefix(period_concat_df, period):\n",
    "\n",
    "    counts = (period_concat_df >> count(_.shape_id, _.stop_sequence, _.gtfs_dataset_key, _.organization_name)\n",
    "          >> select(_.shape_id, _.stop_sequence, _.gtfs_dataset_key, _.organization_name, _.n_weekdays == _.n))\n",
    "    all_period_agged = period_concat_df.groupby(group_cols).median().reset_index()\n",
    "    all_period_agged = all_period_agged >> inner_join(_, counts, on = ['shape_id', 'stop_sequence', 'gtfs_dataset_key', 'organization_name'])\n",
    "    prefix = period + '_'\n",
    "    prefixed = [prefix + col for col in prefix_cols]\n",
    "    rename_dict = dict(zip(prefix_cols, prefixed))\n",
    "    all_period_agged = all_period_agged.rename(columns=rename_dict)\n",
    "    \n",
    "    return all_period_agged"
   ]
  },
  {
   "cell_type": "code",
   "execution_count": 125,
   "id": "af8f4369-2dbc-44d4-aa86-3228c0990a57",
   "metadata": {},
   "outputs": [
    {
     "name": "stderr",
     "output_type": "stream",
     "text": [
      "/tmp/ipykernel_2482/3872286970.py:5: FutureWarning: The default value of numeric_only in DataFrameGroupBy.median is deprecated. In a future version, numeric_only will default to False. Either specify numeric_only or select only columns which should be valid for the function.\n",
      "  all_period_agged = period_concat_df.groupby(group_cols).median().reset_index()\n"
     ]
    }
   ],
   "source": [
    "am_prefixed = aggregate_prefix(all_am, 'am')"
   ]
  },
  {
   "cell_type": "code",
   "execution_count": 126,
   "id": "13f77cfe-0a9b-4677-b703-593bb8a88393",
   "metadata": {},
   "outputs": [
    {
     "name": "stderr",
     "output_type": "stream",
     "text": [
      "/tmp/ipykernel_2482/3872286970.py:5: FutureWarning: The default value of numeric_only in DataFrameGroupBy.median is deprecated. In a future version, numeric_only will default to False. Either specify numeric_only or select only columns which should be valid for the function.\n",
      "  all_period_agged = period_concat_df.groupby(group_cols).median().reset_index()\n"
     ]
    }
   ],
   "source": [
    "pm_prefixed = aggregate_prefix(all_pm, 'pm')"
   ]
  },
  {
   "cell_type": "code",
   "execution_count": 127,
   "id": "44538a80-d906-4428-8da3-bdaf04797903",
   "metadata": {},
   "outputs": [
    {
     "name": "stderr",
     "output_type": "stream",
     "text": [
      "/tmp/ipykernel_2482/3872286970.py:5: FutureWarning: The default value of numeric_only in DataFrameGroupBy.median is deprecated. In a future version, numeric_only will default to False. Either specify numeric_only or select only columns which should be valid for the function.\n",
      "  all_period_agged = period_concat_df.groupby(group_cols).median().reset_index()\n"
     ]
    }
   ],
   "source": [
    "mid_prefixed = aggregate_prefix(all_mid, 'mid')"
   ]
  },
  {
   "cell_type": "code",
   "execution_count": 128,
   "id": "07a5f129-82d0-43bb-9a75-dfbfe5e24e12",
   "metadata": {},
   "outputs": [],
   "source": [
    "joined = (am_prefixed >> inner_join(_, mid_prefixed, on=group_cols)\n",
    "          >> inner_join(_, pm_prefixed, on=group_cols)\n",
    "         \n",
    "         )"
   ]
  },
  {
   "cell_type": "code",
   "execution_count": 129,
   "id": "11b060c0-d986-4725-9bd3-f196014b69f4",
   "metadata": {},
   "outputs": [
    {
     "data": {
      "text/plain": [
       "Index(['stop_id', 'stop_name', 'geometry', 'shape_id', 'stop_sequence',\n",
       "       'route_id', 'route_short_name', 'direction_id', 'gtfs_dataset_key',\n",
       "       'organization_name', 'miles_from_last', 'am_p50_mph', 'am_p20_mph',\n",
       "       'am_p80_mph', 'am_fast_slow_ratio', 'am_trips_per_hour',\n",
       "       'am_system_p50_median', 'am_n_weekdays', 'mid_p50_mph', 'mid_p20_mph',\n",
       "       'mid_p80_mph', 'mid_fast_slow_ratio', 'mid_trips_per_hour',\n",
       "       'mid_system_p50_median', 'mid_n_weekdays', 'pm_p50_mph', 'pm_p20_mph',\n",
       "       'pm_p80_mph', 'pm_fast_slow_ratio', 'pm_trips_per_hour',\n",
       "       'pm_system_p50_median', 'pm_n_weekdays'],\n",
       "      dtype='object')"
      ]
     },
     "execution_count": 129,
     "metadata": {},
     "output_type": "execute_result"
    }
   ],
   "source": [
    "joined.columns"
   ]
  },
  {
   "cell_type": "code",
   "execution_count": 130,
   "id": "813f9691-e687-44cc-9401-6df47e03cfaf",
   "metadata": {},
   "outputs": [],
   "source": [
    "joined = gpd.GeoDataFrame(joined)"
   ]
  },
  {
   "cell_type": "code",
   "execution_count": 131,
   "id": "4478b836-09f5-4b65-a9ff-a6deb46d0258",
   "metadata": {},
   "outputs": [
    {
     "data": {
      "text/plain": [
       "<Projected CRS: EPSG:3310>\n",
       "Name: NAD83 / California Albers\n",
       "Axis Info [cartesian]:\n",
       "- X[east]: Easting (metre)\n",
       "- Y[north]: Northing (metre)\n",
       "Area of Use:\n",
       "- name: United States (USA) - California.\n",
       "- bounds: (-124.45, 32.53, -114.12, 42.01)\n",
       "Coordinate Operation:\n",
       "- name: California Albers\n",
       "- method: Albers Equal Area\n",
       "Datum: North American Datum 1983\n",
       "- Ellipsoid: GRS 1980\n",
       "- Prime Meridian: Greenwich"
      ]
     },
     "execution_count": 131,
     "metadata": {},
     "output_type": "execute_result"
    }
   ],
   "source": [
    "joined.crs"
   ]
  },
  {
   "cell_type": "code",
   "execution_count": 135,
   "id": "f8fdffb9-af48-459b-bf3a-bcad324f12f9",
   "metadata": {},
   "outputs": [],
   "source": [
    "joined.to_parquet('d4_apr10_apr13.parquet')"
   ]
  },
  {
   "cell_type": "code",
   "execution_count": 140,
   "id": "2f76bbe4-9768-42c1-bf51-48da0d811eac",
   "metadata": {},
   "outputs": [
    {
     "data": {
      "text/plain": [
       "Index(['stop_id', 'stop_name', 'geometry', 'shape_id', 'stop_sequence',\n",
       "       'route_id', 'route_short_name', 'direction_id', 'gtfs_dataset_key',\n",
       "       'organization_name', 'miles_from_last', 'am_p50_mph', 'am_p20_mph',\n",
       "       'am_p80_mph', 'am_fast_slow_ratio', 'am_trips_per_hour',\n",
       "       'am_system_p50_median', 'am_n_weekdays', 'mid_p50_mph', 'mid_p20_mph',\n",
       "       'mid_p80_mph', 'mid_fast_slow_ratio', 'mid_trips_per_hour',\n",
       "       'mid_system_p50_median', 'mid_n_weekdays', 'pm_p50_mph', 'pm_p20_mph',\n",
       "       'pm_p80_mph', 'pm_fast_slow_ratio', 'pm_trips_per_hour',\n",
       "       'pm_system_p50_median', 'pm_n_weekdays'],\n",
       "      dtype='object')"
      ]
     },
     "execution_count": 140,
     "metadata": {},
     "output_type": "execute_result"
    }
   ],
   "source": [
    "pd.read_parquet('./d4_apr10_apr13.parquet').columns"
   ]
  },
  {
   "cell_type": "code",
   "execution_count": 134,
   "id": "cfadec25-dd3b-4f33-b841-90123abd20c0",
   "metadata": {},
   "outputs": [
    {
     "data": {
      "text/plain": [
       "Index(['stop_id', 'stop_name', 'geometry', 'shape_id', 'stop_sequence',\n",
       "       'route_id', 'route_short_name', 'direction_id', 'gtfs_dataset_key',\n",
       "       'organization_name', 'miles_from_last', 'am_p50_mph', 'am_p20_mph',\n",
       "       'am_p80_mph', 'am_fast_slow_ratio', 'am_trips_per_hour',\n",
       "       'am_system_p50_median', 'am_n_weekdays', 'mid_p50_mph', 'mid_p20_mph',\n",
       "       'mid_p80_mph', 'mid_fast_slow_ratio', 'mid_trips_per_hour',\n",
       "       'mid_system_p50_median', 'mid_n_weekdays', 'pm_p50_mph', 'pm_p20_mph',\n",
       "       'pm_p80_mph', 'pm_fast_slow_ratio', 'pm_trips_per_hour',\n",
       "       'pm_system_p50_median', 'pm_n_weekdays'],\n",
       "      dtype='object')"
      ]
     },
     "execution_count": 134,
     "metadata": {},
     "output_type": "execute_result"
    }
   ],
   "source": [
    "joined.columns"
   ]
  }
 ],
 "metadata": {
  "kernelspec": {
   "display_name": "Python 3 (ipykernel)",
   "language": "python",
   "name": "python3"
  },
  "language_info": {
   "codemirror_mode": {
    "name": "ipython",
    "version": 3
   },
   "file_extension": ".py",
   "mimetype": "text/x-python",
   "name": "python",
   "nbconvert_exporter": "python",
   "pygments_lexer": "ipython3",
   "version": "3.9.13"
  },
  "widgets": {
   "application/vnd.jupyter.widget-state+json": {
    "state": {},
    "version_major": 2,
    "version_minor": 0
   }
  }
 },
 "nbformat": 4,
 "nbformat_minor": 5
}
