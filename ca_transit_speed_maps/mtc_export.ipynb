{
 "cells": [
  {
   "cell_type": "code",
   "execution_count": 1,
   "id": "8896c96f-fb8a-4035-8d2f-14aaf3348a86",
   "metadata": {},
   "outputs": [],
   "source": [
    "import os\n",
    "os.environ['USE_PYGEOS'] = '0'\n",
    "\n",
    "import pandas as pd\n",
    "import geopandas as gpd\n",
    "from siuba import *\n",
    "\n",
    "import datetime as dt\n",
    "import os"
   ]
  },
  {
   "cell_type": "markdown",
   "id": "7ee0bbcf-9109-43f7-9ac7-15bf8ce93b90",
   "metadata": {},
   "source": [
    "# Example 4-day aggregation using speedmap data\n",
    "\n",
    "* Export 4 days in April to support MTC Plan Bay Area 2050\n",
    "* First, run speedmap pipeline for any days not already ran (can filter to subset of operators/districts if desired by using additional scripts and editing Makefile, see d4 example)\n",
    "* Export 4 Days in October 2022 to support D4 Transit Plan\n",
    "    * filter out mislabeled NCTD (itp_id 226)..."
   ]
  },
  {
   "cell_type": "code",
   "execution_count": 2,
   "id": "495c9d75-59d6-490f-be73-f0607a827bcb",
   "metadata": {},
   "outputs": [],
   "source": [
    "# dates = [f'2023-04-{day}' for day in range(10, 14)]\n",
    "dates = [f'2022-10-0{day}' for day in range(3, 7)]"
   ]
  },
  {
   "cell_type": "code",
   "execution_count": 3,
   "id": "3e97e760-84e8-4b3e-81ea-1a8b38c12187",
   "metadata": {},
   "outputs": [
    {
     "data": {
      "text/plain": [
       "['2022-10-03', '2022-10-04', '2022-10-05', '2022-10-06']"
      ]
     },
     "execution_count": 3,
     "metadata": {},
     "output_type": "execute_result"
    }
   ],
   "source": [
    "dates"
   ]
  },
  {
   "cell_type": "code",
   "execution_count": 4,
   "id": "63775d37-a450-46cc-9bd3-b1e8557a9ea6",
   "metadata": {},
   "outputs": [],
   "source": [
    "progress_all_dates = []\n",
    "for date in dates:\n",
    "    df = pd.read_parquet(f'./_rt_progress_{date}.parquet')\n",
    "    df = df >> filter(_.caltrans_district == '04 - Oakland')\n",
    "    progress_all_dates += [df]\n",
    "four_days = pd.concat(progress_all_dates)"
   ]
  },
  {
   "cell_type": "markdown",
   "id": "ddbaeceb-a50a-4697-9f5e-c1529dab8380",
   "metadata": {},
   "source": [
    "Basic checks on organizations ran"
   ]
  },
  {
   "cell_type": "code",
   "execution_count": 6,
   "id": "392070de-84f2-4a9a-821c-dd48cfb10142",
   "metadata": {},
   "outputs": [],
   "source": [
    "# four_days >> count(_.organization_name, _.status, _.organization_itp_id)"
   ]
  },
  {
   "cell_type": "code",
   "execution_count": 7,
   "id": "76dabc07-e4aa-472a-b46a-e9b0394cb2de",
   "metadata": {},
   "outputs": [],
   "source": [
    "# four_days >> filter(_.status == 'already_ran')"
   ]
  },
  {
   "cell_type": "code",
   "execution_count": 8,
   "id": "4ebc8648-d9a7-473f-a3b8-d10eab75055a",
   "metadata": {},
   "outputs": [],
   "source": [
    "am_filter = {'period': 'am', 'filter_args': {'start_time': '06:00', 'end_time': '09:00'}}\n",
    "mid_filter = {'period': 'mid', 'filter_args': {'start_time': '10:00', 'end_time': '14:00'}}\n",
    "pm_filter = {'period': 'pm', 'filter_args': {'start_time': '15:00', 'end_time': '19:00'}}\n",
    "all_filters = [am_filter, mid_filter, pm_filter]"
   ]
  },
  {
   "cell_type": "code",
   "execution_count": 9,
   "id": "1a4c3ccf-2b5c-4a5e-9e65-19952d550375",
   "metadata": {},
   "outputs": [],
   "source": [
    "from tqdm.notebook import tqdm"
   ]
  },
  {
   "cell_type": "code",
   "execution_count": 10,
   "id": "86c9b940-71f4-4a7e-955d-620cc3a69cef",
   "metadata": {},
   "outputs": [],
   "source": [
    "from rt_analysis import signal_tools"
   ]
  },
  {
   "cell_type": "code",
   "execution_count": 11,
   "id": "e29b8e01-832a-43c8-8791-ee81579e88f4",
   "metadata": {},
   "outputs": [
    {
     "data": {
      "text/plain": [
       "\u001b[0;31mSignature:\u001b[0m\n",
       "\u001b[0msignal_tools\u001b[0m\u001b[0;34m.\u001b[0m\u001b[0mconcatenate_speedmap_segments\u001b[0m\u001b[0;34m(\u001b[0m\u001b[0;34m\u001b[0m\n",
       "\u001b[0;34m\u001b[0m    \u001b[0mprogress_df\u001b[0m\u001b[0;34m:\u001b[0m \u001b[0mpandas\u001b[0m\u001b[0;34m.\u001b[0m\u001b[0mcore\u001b[0m\u001b[0;34m.\u001b[0m\u001b[0mframe\u001b[0m\u001b[0;34m.\u001b[0m\u001b[0mDataFrame\u001b[0m \u001b[0;34m=\u001b[0m \u001b[0;32mNone\u001b[0m\u001b[0;34m,\u001b[0m\u001b[0;34m\u001b[0m\n",
       "\u001b[0;34m\u001b[0m    \u001b[0mitp_id_list\u001b[0m\u001b[0;34m:\u001b[0m \u001b[0mlist\u001b[0m \u001b[0;34m=\u001b[0m \u001b[0;32mNone\u001b[0m\u001b[0;34m,\u001b[0m\u001b[0;34m\u001b[0m\n",
       "\u001b[0;34m\u001b[0m    \u001b[0manalysis_date\u001b[0m\u001b[0;34m:\u001b[0m \u001b[0mdatetime\u001b[0m\u001b[0;34m.\u001b[0m\u001b[0mdatetime\u001b[0m \u001b[0;34m=\u001b[0m \u001b[0;32mNone\u001b[0m\u001b[0;34m,\u001b[0m\u001b[0;34m\u001b[0m\n",
       "\u001b[0;34m\u001b[0m    \u001b[0mpbar\u001b[0m\u001b[0;34m:\u001b[0m \u001b[0mtqdm\u001b[0m\u001b[0;34m.\u001b[0m\u001b[0mnotebook\u001b[0m\u001b[0;34m.\u001b[0m\u001b[0mtqdm_notebook\u001b[0m \u001b[0;34m=\u001b[0m \u001b[0;32mNone\u001b[0m\u001b[0;34m,\u001b[0m\u001b[0;34m\u001b[0m\n",
       "\u001b[0;34m\u001b[0m    \u001b[0mfilter_args\u001b[0m\u001b[0;34m:\u001b[0m \u001b[0mdict\u001b[0m \u001b[0;34m=\u001b[0m \u001b[0;32mNone\u001b[0m\u001b[0;34m,\u001b[0m\u001b[0;34m\u001b[0m\n",
       "\u001b[0;34m\u001b[0m\u001b[0;34m)\u001b[0m\u001b[0;34m\u001b[0m\u001b[0;34m\u001b[0m\u001b[0m\n",
       "\u001b[0;31mDocstring:\u001b[0m\n",
       "get polygon segments from legacy speedmap workflow, with relevant ids attached\n",
       "relatively fast if already ran for date, slow otherwise\n",
       "\n",
       "progress_df: see data_analyses/ca_transit_speed_maps\n",
       "filter_dict: dict of args to RtFilterMapper.set_filter\n",
       "\u001b[0;31mFile:\u001b[0m      ~/data-analyses/rt_delay/rt_analysis/signal_tools.py\n",
       "\u001b[0;31mType:\u001b[0m      function"
      ]
     },
     "metadata": {},
     "output_type": "display_data"
    }
   ],
   "source": [
    "signal_tools.concatenate_speedmap_segments?"
   ]
  },
  {
   "cell_type": "code",
   "execution_count": 12,
   "id": "b82cdc34-41a8-483a-8656-6ee2cffe4a08",
   "metadata": {},
   "outputs": [
    {
     "data": {
      "application/vnd.jupyter.widget-view+json": {
       "model_id": "9c20ae003f8947ddacd3ea6013f6a19a",
       "version_major": 2,
       "version_minor": 0
      },
      "text/plain": [
       "0it [00:00, ?it/s]"
      ]
     },
     "metadata": {},
     "output_type": "display_data"
    }
   ],
   "source": [
    "pbar = tqdm()"
   ]
  },
  {
   "cell_type": "markdown",
   "id": "f6ce3c4d-b4c2-4bb8-840b-87849ebd0ea3",
   "metadata": {},
   "source": [
    "## loop over dates, using `signal_tools` to aggregate all operators in each time period"
   ]
  },
  {
   "cell_type": "code",
   "execution_count": 14,
   "id": "e5a6ace6-aab5-41f1-9fb5-0133923baf89",
   "metadata": {
    "collapsed": true,
    "jupyter": {
     "outputs_hidden": true
    },
    "tags": []
   },
   "outputs": [
    {
     "name": "stdout",
     "output_type": "stream",
     "text": [
      "218\n",
      "found shapes parquet at gs://calitp-analytics-data/data-analyses/rt_delay/v2_cached_views/shapes_218_2022-10-03.parquet\n",
      "290\n",
      "found shapes parquet at gs://calitp-analytics-data/data-analyses/rt_delay/v2_cached_views/shapes_290_2022-10-03.parquet\n",
      "4\n",
      "found shapes parquet at gs://calitp-analytics-data/data-analyses/rt_delay/v2_cached_views/shapes_4_2022-10-03.parquet\n",
      "315\n",
      "found shapes parquet at gs://calitp-analytics-data/data-analyses/rt_delay/v2_cached_views/shapes_315_2022-10-03.parquet\n",
      "282\n",
      "found shapes parquet at gs://calitp-analytics-data/data-analyses/rt_delay/v2_cached_views/shapes_282_2022-10-03.parquet\n",
      "247\n",
      "found shapes parquet at gs://calitp-analytics-data/data-analyses/rt_delay/v2_cached_views/shapes_247_2022-10-03.parquet\n",
      "246\n",
      "found shapes parquet at gs://calitp-analytics-data/data-analyses/rt_delay/v2_cached_views/shapes_246_2022-10-03.parquet\n",
      "310\n",
      "found shapes parquet at gs://calitp-analytics-data/data-analyses/rt_delay/v2_cached_views/shapes_310_2022-10-03.parquet\n",
      "167\n",
      "found shapes parquet at gs://calitp-analytics-data/data-analyses/rt_delay/v2_cached_views/shapes_167_2022-10-03.parquet\n",
      "194\n",
      "found shapes parquet at gs://calitp-analytics-data/data-analyses/rt_delay/v2_cached_views/shapes_194_2022-10-03.parquet\n",
      "61\n",
      "found shapes parquet at gs://calitp-analytics-data/data-analyses/rt_delay/v2_cached_views/shapes_61_2022-10-03.parquet\n",
      "336\n",
      "found shapes parquet at gs://calitp-analytics-data/data-analyses/rt_delay/v2_cached_views/shapes_336_2022-10-03.parquet\n",
      "110\n",
      "found shapes parquet at gs://calitp-analytics-data/data-analyses/rt_delay/v2_cached_views/shapes_110_2022-10-03.parquet\n",
      "106\n",
      "found shapes parquet at gs://calitp-analytics-data/data-analyses/rt_delay/v2_cached_views/shapes_106_2022-10-03.parquet\n",
      "280\n",
      "found shapes parquet at gs://calitp-analytics-data/data-analyses/rt_delay/v2_cached_views/shapes_280_2022-10-03.parquet\n",
      "350\n",
      "found shapes parquet at gs://calitp-analytics-data/data-analyses/rt_delay/v2_cached_views/shapes_350_2022-10-03.parquet\n",
      "314\n",
      "found shapes parquet at gs://calitp-analytics-data/data-analyses/rt_delay/v2_cached_views/shapes_314_2022-10-03.parquet\n",
      "218\n",
      "found shapes parquet at gs://calitp-analytics-data/data-analyses/rt_delay/v2_cached_views/shapes_218_2022-10-03.parquet\n",
      "290\n",
      "found shapes parquet at gs://calitp-analytics-data/data-analyses/rt_delay/v2_cached_views/shapes_290_2022-10-03.parquet\n",
      "4\n",
      "found shapes parquet at gs://calitp-analytics-data/data-analyses/rt_delay/v2_cached_views/shapes_4_2022-10-03.parquet\n",
      "315\n",
      "found shapes parquet at gs://calitp-analytics-data/data-analyses/rt_delay/v2_cached_views/shapes_315_2022-10-03.parquet\n",
      "282\n",
      "found shapes parquet at gs://calitp-analytics-data/data-analyses/rt_delay/v2_cached_views/shapes_282_2022-10-03.parquet\n",
      "247\n",
      "found shapes parquet at gs://calitp-analytics-data/data-analyses/rt_delay/v2_cached_views/shapes_247_2022-10-03.parquet\n",
      "246\n",
      "found shapes parquet at gs://calitp-analytics-data/data-analyses/rt_delay/v2_cached_views/shapes_246_2022-10-03.parquet\n",
      "310\n",
      "found shapes parquet at gs://calitp-analytics-data/data-analyses/rt_delay/v2_cached_views/shapes_310_2022-10-03.parquet\n",
      "stop_speeds shape: (0, 17), shape_id: 10\n",
      "stop speeds gdf is empty!\n",
      "167\n",
      "found shapes parquet at gs://calitp-analytics-data/data-analyses/rt_delay/v2_cached_views/shapes_167_2022-10-03.parquet\n",
      "194\n",
      "found shapes parquet at gs://calitp-analytics-data/data-analyses/rt_delay/v2_cached_views/shapes_194_2022-10-03.parquet\n",
      "61\n",
      "found shapes parquet at gs://calitp-analytics-data/data-analyses/rt_delay/v2_cached_views/shapes_61_2022-10-03.parquet\n",
      "336\n",
      "found shapes parquet at gs://calitp-analytics-data/data-analyses/rt_delay/v2_cached_views/shapes_336_2022-10-03.parquet\n",
      "stop_speeds shape: (0, 17), shape_id: 79\n",
      "stop speeds gdf is empty!\n",
      "110\n",
      "found shapes parquet at gs://calitp-analytics-data/data-analyses/rt_delay/v2_cached_views/shapes_110_2022-10-03.parquet\n",
      "stop_speeds shape: (0, 18), shape_id: p_1306149\n",
      "Must pass array with one dimension only.\n",
      "106\n",
      "found shapes parquet at gs://calitp-analytics-data/data-analyses/rt_delay/v2_cached_views/shapes_106_2022-10-03.parquet\n",
      "280\n",
      "found shapes parquet at gs://calitp-analytics-data/data-analyses/rt_delay/v2_cached_views/shapes_280_2022-10-03.parquet\n",
      "stop_speeds shape: (0, 18), shape_id: p_530962\n",
      "Must pass array with one dimension only.\n",
      "stop_speeds shape: (0, 18), shape_id: p_298493\n",
      "Must pass array with one dimension only.\n",
      "350\n",
      "found shapes parquet at gs://calitp-analytics-data/data-analyses/rt_delay/v2_cached_views/shapes_350_2022-10-03.parquet\n",
      "314\n",
      "found shapes parquet at gs://calitp-analytics-data/data-analyses/rt_delay/v2_cached_views/shapes_314_2022-10-03.parquet\n",
      "218\n",
      "found shapes parquet at gs://calitp-analytics-data/data-analyses/rt_delay/v2_cached_views/shapes_218_2022-10-03.parquet\n",
      "290\n",
      "found shapes parquet at gs://calitp-analytics-data/data-analyses/rt_delay/v2_cached_views/shapes_290_2022-10-03.parquet\n",
      "stop_speeds shape: (0, 18), shape_id: 1380003\n",
      "Must pass array with one dimension only.\n",
      "4\n",
      "found shapes parquet at gs://calitp-analytics-data/data-analyses/rt_delay/v2_cached_views/shapes_4_2022-10-03.parquet\n",
      "315\n",
      "found shapes parquet at gs://calitp-analytics-data/data-analyses/rt_delay/v2_cached_views/shapes_315_2022-10-03.parquet\n",
      "282\n",
      "found shapes parquet at gs://calitp-analytics-data/data-analyses/rt_delay/v2_cached_views/shapes_282_2022-10-03.parquet\n",
      "247\n",
      "found shapes parquet at gs://calitp-analytics-data/data-analyses/rt_delay/v2_cached_views/shapes_247_2022-10-03.parquet\n",
      "246\n",
      "found shapes parquet at gs://calitp-analytics-data/data-analyses/rt_delay/v2_cached_views/shapes_246_2022-10-03.parquet\n",
      "310\n",
      "found shapes parquet at gs://calitp-analytics-data/data-analyses/rt_delay/v2_cached_views/shapes_310_2022-10-03.parquet\n",
      "167\n",
      "found shapes parquet at gs://calitp-analytics-data/data-analyses/rt_delay/v2_cached_views/shapes_167_2022-10-03.parquet\n",
      "194\n",
      "found shapes parquet at gs://calitp-analytics-data/data-analyses/rt_delay/v2_cached_views/shapes_194_2022-10-03.parquet\n",
      "61\n",
      "found shapes parquet at gs://calitp-analytics-data/data-analyses/rt_delay/v2_cached_views/shapes_61_2022-10-03.parquet\n",
      "336\n",
      "found shapes parquet at gs://calitp-analytics-data/data-analyses/rt_delay/v2_cached_views/shapes_336_2022-10-03.parquet\n",
      "110\n",
      "found shapes parquet at gs://calitp-analytics-data/data-analyses/rt_delay/v2_cached_views/shapes_110_2022-10-03.parquet\n",
      "stop_speeds shape: (0, 18), shape_id: p_1306150\n",
      "Must pass array with one dimension only.\n",
      "stop_speeds shape: (0, 18), shape_id: p_1306149\n",
      "Must pass array with one dimension only.\n",
      "106\n",
      "found shapes parquet at gs://calitp-analytics-data/data-analyses/rt_delay/v2_cached_views/shapes_106_2022-10-03.parquet\n",
      "280\n",
      "found shapes parquet at gs://calitp-analytics-data/data-analyses/rt_delay/v2_cached_views/shapes_280_2022-10-03.parquet\n",
      "stop_speeds shape: (0, 18), shape_id: p_530962\n",
      "Must pass array with one dimension only.\n",
      "stop_speeds shape: (0, 18), shape_id: p_298493\n",
      "Must pass array with one dimension only.\n",
      "350\n",
      "found shapes parquet at gs://calitp-analytics-data/data-analyses/rt_delay/v2_cached_views/shapes_350_2022-10-03.parquet\n",
      "314\n",
      "found shapes parquet at gs://calitp-analytics-data/data-analyses/rt_delay/v2_cached_views/shapes_314_2022-10-03.parquet\n",
      "stop_speeds shape: (0, 17), shape_id: p_2829\n",
      "stop speeds gdf is empty!\n",
      "218\n",
      "found shapes parquet at gs://calitp-analytics-data/data-analyses/rt_delay/v2_cached_views/shapes_218_2022-10-04.parquet\n",
      "290\n",
      "found shapes parquet at gs://calitp-analytics-data/data-analyses/rt_delay/v2_cached_views/shapes_290_2022-10-04.parquet\n",
      "4\n",
      "found shapes parquet at gs://calitp-analytics-data/data-analyses/rt_delay/v2_cached_views/shapes_4_2022-10-04.parquet\n",
      "315\n",
      "found shapes parquet at gs://calitp-analytics-data/data-analyses/rt_delay/v2_cached_views/shapes_315_2022-10-04.parquet\n",
      "282\n",
      "found shapes parquet at gs://calitp-analytics-data/data-analyses/rt_delay/v2_cached_views/shapes_282_2022-10-04.parquet\n",
      "247\n",
      "found shapes parquet at gs://calitp-analytics-data/data-analyses/rt_delay/v2_cached_views/shapes_247_2022-10-04.parquet\n",
      "246\n",
      "found shapes parquet at gs://calitp-analytics-data/data-analyses/rt_delay/v2_cached_views/shapes_246_2022-10-04.parquet\n",
      "310\n",
      "found shapes parquet at gs://calitp-analytics-data/data-analyses/rt_delay/v2_cached_views/shapes_310_2022-10-04.parquet\n",
      "167\n",
      "found shapes parquet at gs://calitp-analytics-data/data-analyses/rt_delay/v2_cached_views/shapes_167_2022-10-04.parquet\n",
      "194\n",
      "found shapes parquet at gs://calitp-analytics-data/data-analyses/rt_delay/v2_cached_views/shapes_194_2022-10-04.parquet\n",
      "61\n",
      "found shapes parquet at gs://calitp-analytics-data/data-analyses/rt_delay/v2_cached_views/shapes_61_2022-10-04.parquet\n",
      "336\n",
      "found shapes parquet at gs://calitp-analytics-data/data-analyses/rt_delay/v2_cached_views/shapes_336_2022-10-04.parquet\n",
      "110\n",
      "found shapes parquet at gs://calitp-analytics-data/data-analyses/rt_delay/v2_cached_views/shapes_110_2022-10-04.parquet\n",
      "106\n",
      "found shapes parquet at gs://calitp-analytics-data/data-analyses/rt_delay/v2_cached_views/shapes_106_2022-10-04.parquet\n",
      "280\n",
      "found shapes parquet at gs://calitp-analytics-data/data-analyses/rt_delay/v2_cached_views/shapes_280_2022-10-04.parquet\n",
      "350\n",
      "found shapes parquet at gs://calitp-analytics-data/data-analyses/rt_delay/v2_cached_views/shapes_350_2022-10-04.parquet\n",
      "314\n",
      "found shapes parquet at gs://calitp-analytics-data/data-analyses/rt_delay/v2_cached_views/shapes_314_2022-10-04.parquet\n",
      "218\n",
      "found shapes parquet at gs://calitp-analytics-data/data-analyses/rt_delay/v2_cached_views/shapes_218_2022-10-04.parquet\n",
      "290\n",
      "found shapes parquet at gs://calitp-analytics-data/data-analyses/rt_delay/v2_cached_views/shapes_290_2022-10-04.parquet\n",
      "4\n",
      "found shapes parquet at gs://calitp-analytics-data/data-analyses/rt_delay/v2_cached_views/shapes_4_2022-10-04.parquet\n",
      "315\n",
      "found shapes parquet at gs://calitp-analytics-data/data-analyses/rt_delay/v2_cached_views/shapes_315_2022-10-04.parquet\n",
      "282\n",
      "found shapes parquet at gs://calitp-analytics-data/data-analyses/rt_delay/v2_cached_views/shapes_282_2022-10-04.parquet\n",
      "247\n",
      "found shapes parquet at gs://calitp-analytics-data/data-analyses/rt_delay/v2_cached_views/shapes_247_2022-10-04.parquet\n",
      "246\n",
      "found shapes parquet at gs://calitp-analytics-data/data-analyses/rt_delay/v2_cached_views/shapes_246_2022-10-04.parquet\n",
      "310\n",
      "found shapes parquet at gs://calitp-analytics-data/data-analyses/rt_delay/v2_cached_views/shapes_310_2022-10-04.parquet\n",
      "167\n",
      "found shapes parquet at gs://calitp-analytics-data/data-analyses/rt_delay/v2_cached_views/shapes_167_2022-10-04.parquet\n",
      "194\n",
      "found shapes parquet at gs://calitp-analytics-data/data-analyses/rt_delay/v2_cached_views/shapes_194_2022-10-04.parquet\n",
      "61\n",
      "found shapes parquet at gs://calitp-analytics-data/data-analyses/rt_delay/v2_cached_views/shapes_61_2022-10-04.parquet\n",
      "336\n",
      "found shapes parquet at gs://calitp-analytics-data/data-analyses/rt_delay/v2_cached_views/shapes_336_2022-10-04.parquet\n",
      "stop_speeds shape: (0, 17), shape_id: 30\n",
      "stop speeds gdf is empty!\n",
      "110\n",
      "found shapes parquet at gs://calitp-analytics-data/data-analyses/rt_delay/v2_cached_views/shapes_110_2022-10-04.parquet\n",
      "stop_speeds shape: (0, 18), shape_id: p_1306149\n",
      "Must pass array with one dimension only.\n",
      "106\n",
      "found shapes parquet at gs://calitp-analytics-data/data-analyses/rt_delay/v2_cached_views/shapes_106_2022-10-04.parquet\n",
      "280\n",
      "found shapes parquet at gs://calitp-analytics-data/data-analyses/rt_delay/v2_cached_views/shapes_280_2022-10-04.parquet\n",
      "stop_speeds shape: (0, 18), shape_id: p_530962\n",
      "Must pass array with one dimension only.\n",
      "stop_speeds shape: (0, 18), shape_id: p_298493\n",
      "Must pass array with one dimension only.\n",
      "350\n",
      "found shapes parquet at gs://calitp-analytics-data/data-analyses/rt_delay/v2_cached_views/shapes_350_2022-10-04.parquet\n",
      "314\n",
      "found shapes parquet at gs://calitp-analytics-data/data-analyses/rt_delay/v2_cached_views/shapes_314_2022-10-04.parquet\n",
      "218\n",
      "found shapes parquet at gs://calitp-analytics-data/data-analyses/rt_delay/v2_cached_views/shapes_218_2022-10-04.parquet\n",
      "290\n",
      "found shapes parquet at gs://calitp-analytics-data/data-analyses/rt_delay/v2_cached_views/shapes_290_2022-10-04.parquet\n",
      "stop_speeds shape: (0, 18), shape_id: 1380003\n",
      "Must pass array with one dimension only.\n",
      "4\n",
      "found shapes parquet at gs://calitp-analytics-data/data-analyses/rt_delay/v2_cached_views/shapes_4_2022-10-04.parquet\n",
      "315\n",
      "found shapes parquet at gs://calitp-analytics-data/data-analyses/rt_delay/v2_cached_views/shapes_315_2022-10-04.parquet\n",
      "282\n",
      "found shapes parquet at gs://calitp-analytics-data/data-analyses/rt_delay/v2_cached_views/shapes_282_2022-10-04.parquet\n",
      "247\n",
      "found shapes parquet at gs://calitp-analytics-data/data-analyses/rt_delay/v2_cached_views/shapes_247_2022-10-04.parquet\n",
      "stop_speeds shape: (0, 17), shape_id: 347_shp\n",
      "stop speeds gdf is empty!\n",
      "246\n",
      "found shapes parquet at gs://calitp-analytics-data/data-analyses/rt_delay/v2_cached_views/shapes_246_2022-10-04.parquet\n",
      "310\n",
      "found shapes parquet at gs://calitp-analytics-data/data-analyses/rt_delay/v2_cached_views/shapes_310_2022-10-04.parquet\n",
      "167\n",
      "found shapes parquet at gs://calitp-analytics-data/data-analyses/rt_delay/v2_cached_views/shapes_167_2022-10-04.parquet\n",
      "194\n",
      "found shapes parquet at gs://calitp-analytics-data/data-analyses/rt_delay/v2_cached_views/shapes_194_2022-10-04.parquet\n",
      "61\n",
      "found shapes parquet at gs://calitp-analytics-data/data-analyses/rt_delay/v2_cached_views/shapes_61_2022-10-04.parquet\n",
      "336\n",
      "found shapes parquet at gs://calitp-analytics-data/data-analyses/rt_delay/v2_cached_views/shapes_336_2022-10-04.parquet\n",
      "110\n",
      "found shapes parquet at gs://calitp-analytics-data/data-analyses/rt_delay/v2_cached_views/shapes_110_2022-10-04.parquet\n",
      "stop_speeds shape: (0, 18), shape_id: p_1306149\n",
      "Must pass array with one dimension only.\n",
      "106\n",
      "found shapes parquet at gs://calitp-analytics-data/data-analyses/rt_delay/v2_cached_views/shapes_106_2022-10-04.parquet\n",
      "280\n",
      "found shapes parquet at gs://calitp-analytics-data/data-analyses/rt_delay/v2_cached_views/shapes_280_2022-10-04.parquet\n",
      "stop_speeds shape: (0, 18), shape_id: p_530962\n",
      "Must pass array with one dimension only.\n",
      "stop_speeds shape: (0, 18), shape_id: p_298493\n",
      "Must pass array with one dimension only.\n",
      "350\n",
      "found shapes parquet at gs://calitp-analytics-data/data-analyses/rt_delay/v2_cached_views/shapes_350_2022-10-04.parquet\n",
      "314\n",
      "found shapes parquet at gs://calitp-analytics-data/data-analyses/rt_delay/v2_cached_views/shapes_314_2022-10-04.parquet\n",
      "218\n",
      "found shapes parquet at gs://calitp-analytics-data/data-analyses/rt_delay/v2_cached_views/shapes_218_2022-10-05.parquet\n",
      "290\n",
      "found shapes parquet at gs://calitp-analytics-data/data-analyses/rt_delay/v2_cached_views/shapes_290_2022-10-05.parquet\n",
      "4\n",
      "found shapes parquet at gs://calitp-analytics-data/data-analyses/rt_delay/v2_cached_views/shapes_4_2022-10-05.parquet\n",
      "315\n",
      "found shapes parquet at gs://calitp-analytics-data/data-analyses/rt_delay/v2_cached_views/shapes_315_2022-10-05.parquet\n",
      "282\n",
      "found shapes parquet at gs://calitp-analytics-data/data-analyses/rt_delay/v2_cached_views/shapes_282_2022-10-05.parquet\n",
      "247\n",
      "found shapes parquet at gs://calitp-analytics-data/data-analyses/rt_delay/v2_cached_views/shapes_247_2022-10-05.parquet\n",
      "246\n",
      "found shapes parquet at gs://calitp-analytics-data/data-analyses/rt_delay/v2_cached_views/shapes_246_2022-10-05.parquet\n",
      "310\n",
      "found shapes parquet at gs://calitp-analytics-data/data-analyses/rt_delay/v2_cached_views/shapes_310_2022-10-05.parquet\n",
      "167\n",
      "found shapes parquet at gs://calitp-analytics-data/data-analyses/rt_delay/v2_cached_views/shapes_167_2022-10-05.parquet\n",
      "194\n",
      "found shapes parquet at gs://calitp-analytics-data/data-analyses/rt_delay/v2_cached_views/shapes_194_2022-10-05.parquet\n",
      "61\n",
      "found shapes parquet at gs://calitp-analytics-data/data-analyses/rt_delay/v2_cached_views/shapes_61_2022-10-05.parquet\n",
      "336\n",
      "found shapes parquet at gs://calitp-analytics-data/data-analyses/rt_delay/v2_cached_views/shapes_336_2022-10-05.parquet\n",
      "110\n",
      "found shapes parquet at gs://calitp-analytics-data/data-analyses/rt_delay/v2_cached_views/shapes_110_2022-10-05.parquet\n",
      "106\n",
      "found shapes parquet at gs://calitp-analytics-data/data-analyses/rt_delay/v2_cached_views/shapes_106_2022-10-05.parquet\n",
      "280\n",
      "found shapes parquet at gs://calitp-analytics-data/data-analyses/rt_delay/v2_cached_views/shapes_280_2022-10-05.parquet\n",
      "350\n",
      "found shapes parquet at gs://calitp-analytics-data/data-analyses/rt_delay/v2_cached_views/shapes_350_2022-10-05.parquet\n",
      "314\n",
      "found shapes parquet at gs://calitp-analytics-data/data-analyses/rt_delay/v2_cached_views/shapes_314_2022-10-05.parquet\n",
      "218\n",
      "found shapes parquet at gs://calitp-analytics-data/data-analyses/rt_delay/v2_cached_views/shapes_218_2022-10-05.parquet\n",
      "stop_speeds shape: (0, 17), shape_id: p_1275150\n",
      "stop speeds gdf is empty!\n",
      "290\n",
      "found shapes parquet at gs://calitp-analytics-data/data-analyses/rt_delay/v2_cached_views/shapes_290_2022-10-05.parquet\n",
      "4\n",
      "found shapes parquet at gs://calitp-analytics-data/data-analyses/rt_delay/v2_cached_views/shapes_4_2022-10-05.parquet\n",
      "315\n",
      "found shapes parquet at gs://calitp-analytics-data/data-analyses/rt_delay/v2_cached_views/shapes_315_2022-10-05.parquet\n",
      "282\n",
      "found shapes parquet at gs://calitp-analytics-data/data-analyses/rt_delay/v2_cached_views/shapes_282_2022-10-05.parquet\n",
      "247\n",
      "found shapes parquet at gs://calitp-analytics-data/data-analyses/rt_delay/v2_cached_views/shapes_247_2022-10-05.parquet\n",
      "246\n",
      "found shapes parquet at gs://calitp-analytics-data/data-analyses/rt_delay/v2_cached_views/shapes_246_2022-10-05.parquet\n",
      "310\n",
      "found shapes parquet at gs://calitp-analytics-data/data-analyses/rt_delay/v2_cached_views/shapes_310_2022-10-05.parquet\n",
      "167\n",
      "found shapes parquet at gs://calitp-analytics-data/data-analyses/rt_delay/v2_cached_views/shapes_167_2022-10-05.parquet\n",
      "194\n",
      "found shapes parquet at gs://calitp-analytics-data/data-analyses/rt_delay/v2_cached_views/shapes_194_2022-10-05.parquet\n",
      "61\n",
      "found shapes parquet at gs://calitp-analytics-data/data-analyses/rt_delay/v2_cached_views/shapes_61_2022-10-05.parquet\n",
      "336\n",
      "found shapes parquet at gs://calitp-analytics-data/data-analyses/rt_delay/v2_cached_views/shapes_336_2022-10-05.parquet\n",
      "110\n",
      "found shapes parquet at gs://calitp-analytics-data/data-analyses/rt_delay/v2_cached_views/shapes_110_2022-10-05.parquet\n",
      "stop_speeds shape: (0, 18), shape_id: p_1306149\n",
      "Must pass array with one dimension only.\n",
      "106\n",
      "found shapes parquet at gs://calitp-analytics-data/data-analyses/rt_delay/v2_cached_views/shapes_106_2022-10-05.parquet\n",
      "280\n",
      "found shapes parquet at gs://calitp-analytics-data/data-analyses/rt_delay/v2_cached_views/shapes_280_2022-10-05.parquet\n",
      "stop_speeds shape: (0, 18), shape_id: p_530962\n",
      "Must pass array with one dimension only.\n",
      "stop_speeds shape: (0, 18), shape_id: p_298493\n",
      "Must pass array with one dimension only.\n",
      "350\n",
      "found shapes parquet at gs://calitp-analytics-data/data-analyses/rt_delay/v2_cached_views/shapes_350_2022-10-05.parquet\n",
      "314\n",
      "found shapes parquet at gs://calitp-analytics-data/data-analyses/rt_delay/v2_cached_views/shapes_314_2022-10-05.parquet\n",
      "218\n",
      "found shapes parquet at gs://calitp-analytics-data/data-analyses/rt_delay/v2_cached_views/shapes_218_2022-10-05.parquet\n",
      "290\n",
      "found shapes parquet at gs://calitp-analytics-data/data-analyses/rt_delay/v2_cached_views/shapes_290_2022-10-05.parquet\n",
      "stop_speeds shape: (0, 18), shape_id: 1380003\n",
      "Must pass array with one dimension only.\n",
      "4\n",
      "found shapes parquet at gs://calitp-analytics-data/data-analyses/rt_delay/v2_cached_views/shapes_4_2022-10-05.parquet\n",
      "315\n",
      "found shapes parquet at gs://calitp-analytics-data/data-analyses/rt_delay/v2_cached_views/shapes_315_2022-10-05.parquet\n",
      "282\n",
      "found shapes parquet at gs://calitp-analytics-data/data-analyses/rt_delay/v2_cached_views/shapes_282_2022-10-05.parquet\n",
      "247\n",
      "found shapes parquet at gs://calitp-analytics-data/data-analyses/rt_delay/v2_cached_views/shapes_247_2022-10-05.parquet\n",
      "246\n",
      "found shapes parquet at gs://calitp-analytics-data/data-analyses/rt_delay/v2_cached_views/shapes_246_2022-10-05.parquet\n",
      "310\n",
      "found shapes parquet at gs://calitp-analytics-data/data-analyses/rt_delay/v2_cached_views/shapes_310_2022-10-05.parquet\n",
      "167\n",
      "found shapes parquet at gs://calitp-analytics-data/data-analyses/rt_delay/v2_cached_views/shapes_167_2022-10-05.parquet\n",
      "194\n",
      "found shapes parquet at gs://calitp-analytics-data/data-analyses/rt_delay/v2_cached_views/shapes_194_2022-10-05.parquet\n",
      "stop_speeds shape: (0, 17), shape_id: 59\n",
      "stop speeds gdf is empty!\n",
      "61\n",
      "found shapes parquet at gs://calitp-analytics-data/data-analyses/rt_delay/v2_cached_views/shapes_61_2022-10-05.parquet\n",
      "336\n",
      "found shapes parquet at gs://calitp-analytics-data/data-analyses/rt_delay/v2_cached_views/shapes_336_2022-10-05.parquet\n",
      "110\n",
      "found shapes parquet at gs://calitp-analytics-data/data-analyses/rt_delay/v2_cached_views/shapes_110_2022-10-05.parquet\n",
      "stop_speeds shape: (0, 18), shape_id: p_1306149\n",
      "Must pass array with one dimension only.\n",
      "106\n",
      "found shapes parquet at gs://calitp-analytics-data/data-analyses/rt_delay/v2_cached_views/shapes_106_2022-10-05.parquet\n",
      "280\n",
      "found shapes parquet at gs://calitp-analytics-data/data-analyses/rt_delay/v2_cached_views/shapes_280_2022-10-05.parquet\n",
      "stop_speeds shape: (0, 18), shape_id: p_530962\n",
      "Must pass array with one dimension only.\n",
      "stop_speeds shape: (0, 18), shape_id: p_298493\n",
      "Must pass array with one dimension only.\n",
      "350\n",
      "found shapes parquet at gs://calitp-analytics-data/data-analyses/rt_delay/v2_cached_views/shapes_350_2022-10-05.parquet\n",
      "314\n",
      "found shapes parquet at gs://calitp-analytics-data/data-analyses/rt_delay/v2_cached_views/shapes_314_2022-10-05.parquet\n",
      "218\n",
      "found shapes parquet at gs://calitp-analytics-data/data-analyses/rt_delay/v2_cached_views/shapes_218_2022-10-06.parquet\n",
      "290\n",
      "found shapes parquet at gs://calitp-analytics-data/data-analyses/rt_delay/v2_cached_views/shapes_290_2022-10-06.parquet\n",
      "4\n",
      "found shapes parquet at gs://calitp-analytics-data/data-analyses/rt_delay/v2_cached_views/shapes_4_2022-10-06.parquet\n",
      "315\n",
      "found shapes parquet at gs://calitp-analytics-data/data-analyses/rt_delay/v2_cached_views/shapes_315_2022-10-06.parquet\n",
      "282\n",
      "found shapes parquet at gs://calitp-analytics-data/data-analyses/rt_delay/v2_cached_views/shapes_282_2022-10-06.parquet\n",
      "247\n",
      "found shapes parquet at gs://calitp-analytics-data/data-analyses/rt_delay/v2_cached_views/shapes_247_2022-10-06.parquet\n",
      "246\n",
      "found shapes parquet at gs://calitp-analytics-data/data-analyses/rt_delay/v2_cached_views/shapes_246_2022-10-06.parquet\n",
      "310\n",
      "found shapes parquet at gs://calitp-analytics-data/data-analyses/rt_delay/v2_cached_views/shapes_310_2022-10-06.parquet\n",
      "167\n",
      "found shapes parquet at gs://calitp-analytics-data/data-analyses/rt_delay/v2_cached_views/shapes_167_2022-10-06.parquet\n",
      "194\n",
      "found shapes parquet at gs://calitp-analytics-data/data-analyses/rt_delay/v2_cached_views/shapes_194_2022-10-06.parquet\n",
      "61\n",
      "found shapes parquet at gs://calitp-analytics-data/data-analyses/rt_delay/v2_cached_views/shapes_61_2022-10-06.parquet\n",
      "336\n",
      "found shapes parquet at gs://calitp-analytics-data/data-analyses/rt_delay/v2_cached_views/shapes_336_2022-10-06.parquet\n",
      "110\n",
      "found shapes parquet at gs://calitp-analytics-data/data-analyses/rt_delay/v2_cached_views/shapes_110_2022-10-06.parquet\n",
      "216\n",
      "found shapes parquet at gs://calitp-analytics-data/data-analyses/rt_delay/v2_cached_views/shapes_216_2022-10-06.parquet\n",
      "106\n",
      "found shapes parquet at gs://calitp-analytics-data/data-analyses/rt_delay/v2_cached_views/shapes_106_2022-10-06.parquet\n",
      "280\n",
      "found shapes parquet at gs://calitp-analytics-data/data-analyses/rt_delay/v2_cached_views/shapes_280_2022-10-06.parquet\n",
      "350\n",
      "found shapes parquet at gs://calitp-analytics-data/data-analyses/rt_delay/v2_cached_views/shapes_350_2022-10-06.parquet\n",
      "314\n",
      "found shapes parquet at gs://calitp-analytics-data/data-analyses/rt_delay/v2_cached_views/shapes_314_2022-10-06.parquet\n",
      "218\n",
      "found shapes parquet at gs://calitp-analytics-data/data-analyses/rt_delay/v2_cached_views/shapes_218_2022-10-06.parquet\n",
      "stop_speeds shape: (0, 17), shape_id: p_751361\n",
      "stop speeds gdf is empty!\n",
      "290\n",
      "found shapes parquet at gs://calitp-analytics-data/data-analyses/rt_delay/v2_cached_views/shapes_290_2022-10-06.parquet\n",
      "4\n",
      "found shapes parquet at gs://calitp-analytics-data/data-analyses/rt_delay/v2_cached_views/shapes_4_2022-10-06.parquet\n",
      "315\n",
      "found shapes parquet at gs://calitp-analytics-data/data-analyses/rt_delay/v2_cached_views/shapes_315_2022-10-06.parquet\n",
      "282\n",
      "found shapes parquet at gs://calitp-analytics-data/data-analyses/rt_delay/v2_cached_views/shapes_282_2022-10-06.parquet\n",
      "247\n",
      "found shapes parquet at gs://calitp-analytics-data/data-analyses/rt_delay/v2_cached_views/shapes_247_2022-10-06.parquet\n",
      "246\n",
      "found shapes parquet at gs://calitp-analytics-data/data-analyses/rt_delay/v2_cached_views/shapes_246_2022-10-06.parquet\n",
      "310\n",
      "found shapes parquet at gs://calitp-analytics-data/data-analyses/rt_delay/v2_cached_views/shapes_310_2022-10-06.parquet\n",
      "167\n",
      "found shapes parquet at gs://calitp-analytics-data/data-analyses/rt_delay/v2_cached_views/shapes_167_2022-10-06.parquet\n",
      "194\n",
      "found shapes parquet at gs://calitp-analytics-data/data-analyses/rt_delay/v2_cached_views/shapes_194_2022-10-06.parquet\n",
      "61\n",
      "found shapes parquet at gs://calitp-analytics-data/data-analyses/rt_delay/v2_cached_views/shapes_61_2022-10-06.parquet\n",
      "336\n",
      "found shapes parquet at gs://calitp-analytics-data/data-analyses/rt_delay/v2_cached_views/shapes_336_2022-10-06.parquet\n",
      "110\n",
      "found shapes parquet at gs://calitp-analytics-data/data-analyses/rt_delay/v2_cached_views/shapes_110_2022-10-06.parquet\n",
      "stop_speeds shape: (0, 18), shape_id: p_1306149\n",
      "Must pass array with one dimension only.\n",
      "216\n",
      "found shapes parquet at gs://calitp-analytics-data/data-analyses/rt_delay/v2_cached_views/shapes_216_2022-10-06.parquet\n",
      "106\n",
      "found shapes parquet at gs://calitp-analytics-data/data-analyses/rt_delay/v2_cached_views/shapes_106_2022-10-06.parquet\n",
      "106, over 2.5% of geometries invalid after buffer+simplify (35 / 36)\n",
      "280\n",
      "found shapes parquet at gs://calitp-analytics-data/data-analyses/rt_delay/v2_cached_views/shapes_280_2022-10-06.parquet\n",
      "stop_speeds shape: (0, 18), shape_id: p_530962\n",
      "Must pass array with one dimension only.\n",
      "stop_speeds shape: (0, 18), shape_id: p_298493\n",
      "Must pass array with one dimension only.\n",
      "350\n",
      "found shapes parquet at gs://calitp-analytics-data/data-analyses/rt_delay/v2_cached_views/shapes_350_2022-10-06.parquet\n",
      "314\n",
      "found shapes parquet at gs://calitp-analytics-data/data-analyses/rt_delay/v2_cached_views/shapes_314_2022-10-06.parquet\n",
      "218\n",
      "found shapes parquet at gs://calitp-analytics-data/data-analyses/rt_delay/v2_cached_views/shapes_218_2022-10-06.parquet\n",
      "290\n",
      "found shapes parquet at gs://calitp-analytics-data/data-analyses/rt_delay/v2_cached_views/shapes_290_2022-10-06.parquet\n",
      "stop_speeds shape: (0, 18), shape_id: 1380003\n",
      "Must pass array with one dimension only.\n",
      "4\n",
      "found shapes parquet at gs://calitp-analytics-data/data-analyses/rt_delay/v2_cached_views/shapes_4_2022-10-06.parquet\n",
      "315\n",
      "found shapes parquet at gs://calitp-analytics-data/data-analyses/rt_delay/v2_cached_views/shapes_315_2022-10-06.parquet\n",
      "282\n",
      "found shapes parquet at gs://calitp-analytics-data/data-analyses/rt_delay/v2_cached_views/shapes_282_2022-10-06.parquet\n",
      "247\n",
      "found shapes parquet at gs://calitp-analytics-data/data-analyses/rt_delay/v2_cached_views/shapes_247_2022-10-06.parquet\n",
      "246\n",
      "found shapes parquet at gs://calitp-analytics-data/data-analyses/rt_delay/v2_cached_views/shapes_246_2022-10-06.parquet\n",
      "310\n",
      "found shapes parquet at gs://calitp-analytics-data/data-analyses/rt_delay/v2_cached_views/shapes_310_2022-10-06.parquet\n",
      "167\n",
      "found shapes parquet at gs://calitp-analytics-data/data-analyses/rt_delay/v2_cached_views/shapes_167_2022-10-06.parquet\n",
      "194\n",
      "found shapes parquet at gs://calitp-analytics-data/data-analyses/rt_delay/v2_cached_views/shapes_194_2022-10-06.parquet\n",
      "61\n",
      "found shapes parquet at gs://calitp-analytics-data/data-analyses/rt_delay/v2_cached_views/shapes_61_2022-10-06.parquet\n",
      "336\n",
      "found shapes parquet at gs://calitp-analytics-data/data-analyses/rt_delay/v2_cached_views/shapes_336_2022-10-06.parquet\n",
      "stop_speeds shape: (0, 17), shape_id: 79\n",
      "stop speeds gdf is empty!\n",
      "110\n",
      "found shapes parquet at gs://calitp-analytics-data/data-analyses/rt_delay/v2_cached_views/shapes_110_2022-10-06.parquet\n",
      "stop_speeds shape: (0, 18), shape_id: p_1306150\n",
      "Must pass array with one dimension only.\n",
      "stop_speeds shape: (0, 18), shape_id: p_1306149\n",
      "Must pass array with one dimension only.\n",
      "216\n",
      "found shapes parquet at gs://calitp-analytics-data/data-analyses/rt_delay/v2_cached_views/shapes_216_2022-10-06.parquet\n",
      "106\n",
      "found shapes parquet at gs://calitp-analytics-data/data-analyses/rt_delay/v2_cached_views/shapes_106_2022-10-06.parquet\n",
      "280\n",
      "found shapes parquet at gs://calitp-analytics-data/data-analyses/rt_delay/v2_cached_views/shapes_280_2022-10-06.parquet\n",
      "stop_speeds shape: (0, 18), shape_id: p_530962\n",
      "Must pass array with one dimension only.\n",
      "350\n",
      "found shapes parquet at gs://calitp-analytics-data/data-analyses/rt_delay/v2_cached_views/shapes_350_2022-10-06.parquet\n",
      "314\n",
      "found shapes parquet at gs://calitp-analytics-data/data-analyses/rt_delay/v2_cached_views/shapes_314_2022-10-06.parquet\n"
     ]
    }
   ],
   "source": [
    "for date in dates:\n",
    "    progress_df = pd.read_parquet(f'./_rt_progress_{date}.parquet')\n",
    "    progress_df = progress_df >> filter(_.caltrans_district == '04 - Oakland') >> filter(_.status == 'map_confirmed')\n",
    "    gdfs = {}\n",
    "    for time_filter in all_filters:\n",
    "        gdfs[time_filter['period']] = signal_tools.concatenate_speedmap_segments(progress_df = progress_df, pbar=pbar, filter_args=time_filter['filter_args'])\n",
    "    for period in gdfs.keys():\n",
    "        gdfs[period].to_parquet(f'_{date}_{period}.parquet')"
   ]
  },
  {
   "cell_type": "markdown",
   "id": "745d9ae2-2f3a-4cce-8a93-ca90b9e18e31",
   "metadata": {},
   "source": [
    "## concatenate/aggregate 4 day period\n",
    "\n",
    "* start by aggregating metrics for each time of day period across all dates/operators\n",
    "* then prefix am/mid/pm observations and concat"
   ]
  },
  {
   "cell_type": "code",
   "execution_count": 15,
   "id": "cb0f38f4-6794-41cb-915a-c863405fee96",
   "metadata": {},
   "outputs": [],
   "source": [
    "def read_all_dates(period):\n",
    "    gdfs = []\n",
    "    for date in dates:\n",
    "        gdfs += [gpd.read_parquet(f'_{date}_{period}.parquet')]\n",
    "    return pd.concat(gdfs)"
   ]
  },
  {
   "cell_type": "code",
   "execution_count": 16,
   "id": "ae22f092-0e82-47ed-8784-320ff68bce47",
   "metadata": {},
   "outputs": [],
   "source": [
    "all_am = read_all_dates('am')"
   ]
  },
  {
   "cell_type": "code",
   "execution_count": 17,
   "id": "17989d2d-aba1-4226-9c1d-ccde34dda261",
   "metadata": {},
   "outputs": [],
   "source": [
    "all_pm = read_all_dates('pm')"
   ]
  },
  {
   "cell_type": "code",
   "execution_count": 18,
   "id": "6adecc56-7b15-4e67-a0fc-c8fb225a7bc1",
   "metadata": {},
   "outputs": [],
   "source": [
    "all_mid = read_all_dates('mid')"
   ]
  },
  {
   "cell_type": "code",
   "execution_count": 19,
   "id": "9457b50e-0314-4a33-a322-07520d44fb1f",
   "metadata": {},
   "outputs": [],
   "source": [
    "group_cols = ['geometry', 'shape_id', 'stop_sequence',\n",
    "       'route_id', 'route_short_name', 'direction_id', 'gtfs_dataset_key', 'organization_name',\n",
    "             'miles_from_last']"
   ]
  },
  {
   "cell_type": "code",
   "execution_count": 20,
   "id": "8f44434b-81e1-4b37-a835-c79a26d195de",
   "metadata": {},
   "outputs": [],
   "source": [
    "prefix_cols = ['p50_mph', 'p20_mph',\n",
    "       'p80_mph', 'fast_slow_ratio', 'trips_per_hour',\n",
    "       'time_formatted', 'system_p50_median', 'n_weekdays']"
   ]
  },
  {
   "cell_type": "code",
   "execution_count": 21,
   "id": "c9da37d2-e818-4810-ba92-e18dc0b59b40",
   "metadata": {},
   "outputs": [],
   "source": [
    "def aggregate_prefix(period_concat_df, period):\n",
    "\n",
    "    counts = (period_concat_df >> count(_.shape_id, _.stop_sequence, _.gtfs_dataset_key, _.organization_name)\n",
    "          >> select(_.shape_id, _.stop_sequence, _.gtfs_dataset_key, _.organization_name, _.n_weekdays == _.n))\n",
    "    all_period_agged = period_concat_df.groupby(group_cols).median().reset_index()\n",
    "    all_period_agged = all_period_agged >> inner_join(_, counts, on = ['shape_id', 'stop_sequence', 'gtfs_dataset_key', 'organization_name'])\n",
    "    prefix = period + '_'\n",
    "    prefixed = [prefix + col for col in prefix_cols]\n",
    "    rename_dict = dict(zip(prefix_cols, prefixed))\n",
    "    all_period_agged = all_period_agged.rename(columns=rename_dict)\n",
    "    \n",
    "    return all_period_agged"
   ]
  },
  {
   "cell_type": "code",
   "execution_count": 22,
   "id": "af8f4369-2dbc-44d4-aa86-3228c0990a57",
   "metadata": {},
   "outputs": [
    {
     "name": "stderr",
     "output_type": "stream",
     "text": [
      "/tmp/ipykernel_3067/3872286970.py:5: FutureWarning: The default value of numeric_only in DataFrameGroupBy.median is deprecated. In a future version, numeric_only will default to False. Either specify numeric_only or select only columns which should be valid for the function.\n",
      "  all_period_agged = period_concat_df.groupby(group_cols).median().reset_index()\n"
     ]
    }
   ],
   "source": [
    "am_prefixed = aggregate_prefix(all_am, 'am')"
   ]
  },
  {
   "cell_type": "code",
   "execution_count": 23,
   "id": "13f77cfe-0a9b-4677-b703-593bb8a88393",
   "metadata": {},
   "outputs": [
    {
     "name": "stderr",
     "output_type": "stream",
     "text": [
      "/tmp/ipykernel_3067/3872286970.py:5: FutureWarning: The default value of numeric_only in DataFrameGroupBy.median is deprecated. In a future version, numeric_only will default to False. Either specify numeric_only or select only columns which should be valid for the function.\n",
      "  all_period_agged = period_concat_df.groupby(group_cols).median().reset_index()\n"
     ]
    }
   ],
   "source": [
    "pm_prefixed = aggregate_prefix(all_pm, 'pm')"
   ]
  },
  {
   "cell_type": "code",
   "execution_count": 24,
   "id": "44538a80-d906-4428-8da3-bdaf04797903",
   "metadata": {},
   "outputs": [
    {
     "name": "stderr",
     "output_type": "stream",
     "text": [
      "/tmp/ipykernel_3067/3872286970.py:5: FutureWarning: The default value of numeric_only in DataFrameGroupBy.median is deprecated. In a future version, numeric_only will default to False. Either specify numeric_only or select only columns which should be valid for the function.\n",
      "  all_period_agged = period_concat_df.groupby(group_cols).median().reset_index()\n"
     ]
    }
   ],
   "source": [
    "mid_prefixed = aggregate_prefix(all_mid, 'mid')"
   ]
  },
  {
   "cell_type": "code",
   "execution_count": 25,
   "id": "07a5f129-82d0-43bb-9a75-dfbfe5e24e12",
   "metadata": {},
   "outputs": [],
   "source": [
    "joined = (am_prefixed >> full_join(_, mid_prefixed, on=group_cols)\n",
    "          >> full_join(_, pm_prefixed, on=group_cols)\n",
    "         \n",
    "         )"
   ]
  },
  {
   "cell_type": "code",
   "execution_count": 26,
   "id": "11b060c0-d986-4725-9bd3-f196014b69f4",
   "metadata": {},
   "outputs": [
    {
     "data": {
      "text/plain": [
       "Index(['geometry', 'shape_id', 'stop_sequence', 'route_id', 'route_short_name',\n",
       "       'direction_id', 'gtfs_dataset_key', 'organization_name',\n",
       "       'miles_from_last', 'am_p50_mph', 'am_p20_mph', 'am_p80_mph',\n",
       "       'am_fast_slow_ratio', 'am_trips_per_hour', 'am_system_p50_median',\n",
       "       'am_n_weekdays', 'mid_p50_mph', 'mid_p20_mph', 'mid_p80_mph',\n",
       "       'mid_fast_slow_ratio', 'mid_trips_per_hour', 'mid_system_p50_median',\n",
       "       'mid_n_weekdays', 'pm_p50_mph', 'pm_p20_mph', 'pm_p80_mph',\n",
       "       'pm_fast_slow_ratio', 'pm_trips_per_hour', 'pm_system_p50_median',\n",
       "       'pm_n_weekdays'],\n",
       "      dtype='object')"
      ]
     },
     "execution_count": 26,
     "metadata": {},
     "output_type": "execute_result"
    }
   ],
   "source": [
    "joined.columns"
   ]
  },
  {
   "cell_type": "markdown",
   "id": "88646d32-27b9-4fc9-b9fa-0ec289ff67f6",
   "metadata": {},
   "source": [
    "## re-add stop id and stop name\n",
    "\n",
    "* can't group on these since not present for virtual segments!"
   ]
  },
  {
   "cell_type": "code",
   "execution_count": 27,
   "id": "d99c6350-69cc-48f5-bde5-5db87f71c4b8",
   "metadata": {},
   "outputs": [],
   "source": [
    "df = pd.concat([all_am, all_mid, all_pm]) >> distinct(_.shape_id, _.stop_sequence, _.gtfs_dataset_key,\n",
    "                                                     _.stop_id, _.stop_name)"
   ]
  },
  {
   "cell_type": "code",
   "execution_count": 28,
   "id": "42b08558-a103-4d2e-bf6f-a48581a93bad",
   "metadata": {},
   "outputs": [],
   "source": [
    "joined = joined >> left_join(_, df, on=['shape_id', 'stop_sequence', 'gtfs_dataset_key'])"
   ]
  },
  {
   "cell_type": "code",
   "execution_count": 29,
   "id": "7f16f329-6a98-43bb-a521-e36b7d37ed1b",
   "metadata": {},
   "outputs": [
    {
     "data": {
      "text/html": [
       "<div>\n",
       "<style scoped>\n",
       "    .dataframe tbody tr th:only-of-type {\n",
       "        vertical-align: middle;\n",
       "    }\n",
       "\n",
       "    .dataframe tbody tr th {\n",
       "        vertical-align: top;\n",
       "    }\n",
       "\n",
       "    .dataframe thead th {\n",
       "        text-align: right;\n",
       "    }\n",
       "</style>\n",
       "<table border=\"1\" class=\"dataframe\">\n",
       "  <thead>\n",
       "    <tr style=\"text-align: right;\">\n",
       "      <th></th>\n",
       "      <th>stop_id</th>\n",
       "      <th>stop_name</th>\n",
       "      <th>n</th>\n",
       "    </tr>\n",
       "  </thead>\n",
       "  <tbody>\n",
       "    <tr>\n",
       "      <th>13930</th>\n",
       "      <td>NaN</td>\n",
       "      <td>NaN</td>\n",
       "      <td>5178</td>\n",
       "    </tr>\n",
       "    <tr>\n",
       "      <th>7687</th>\n",
       "      <td>55120</td>\n",
       "      <td>Decoto Rd &amp; Brookmill Dr</td>\n",
       "      <td>20</td>\n",
       "    </tr>\n",
       "    <tr>\n",
       "      <th>8217</th>\n",
       "      <td>55877</td>\n",
       "      <td>Decoto Rd &amp; Alvarado-Niles Rd</td>\n",
       "      <td>20</td>\n",
       "    </tr>\n",
       "    <tr>\n",
       "      <th>9180</th>\n",
       "      <td>58033</td>\n",
       "      <td>Mission Bell Dr &amp; College Ln</td>\n",
       "      <td>20</td>\n",
       "    </tr>\n",
       "    <tr>\n",
       "      <th>11659</th>\n",
       "      <td>821017</td>\n",
       "      <td>Curtola Park &amp; Ride</td>\n",
       "      <td>19</td>\n",
       "    </tr>\n",
       "    <tr>\n",
       "      <th>...</th>\n",
       "      <td>...</td>\n",
       "      <td>...</td>\n",
       "      <td>...</td>\n",
       "    </tr>\n",
       "    <tr>\n",
       "      <th>13914</th>\n",
       "      <td>893219</td>\n",
       "      <td>Old Sonoma Rd at Underhill Dr NE</td>\n",
       "      <td>1</td>\n",
       "    </tr>\n",
       "    <tr>\n",
       "      <th>13915</th>\n",
       "      <td>893220</td>\n",
       "      <td>Old Sonoma Rd at S Seymour St</td>\n",
       "      <td>1</td>\n",
       "    </tr>\n",
       "    <tr>\n",
       "      <th>13922</th>\n",
       "      <td>89328</td>\n",
       "      <td>Foothill Blvd at Elm St</td>\n",
       "      <td>1</td>\n",
       "    </tr>\n",
       "    <tr>\n",
       "      <th>13923</th>\n",
       "      <td>89329</td>\n",
       "      <td>Laurel St at Jade Ct</td>\n",
       "      <td>1</td>\n",
       "    </tr>\n",
       "    <tr>\n",
       "      <th>13928</th>\n",
       "      <td>89342</td>\n",
       "      <td>Soscol Ave At Clinton St</td>\n",
       "      <td>1</td>\n",
       "    </tr>\n",
       "  </tbody>\n",
       "</table>\n",
       "<p>13931 rows × 3 columns</p>\n",
       "</div>"
      ],
      "text/plain": [
       "      stop_id                         stop_name     n\n",
       "13930     NaN                               NaN  5178\n",
       "7687    55120          Decoto Rd & Brookmill Dr    20\n",
       "8217    55877     Decoto Rd & Alvarado-Niles Rd    20\n",
       "9180    58033      Mission Bell Dr & College Ln    20\n",
       "11659  821017               Curtola Park & Ride    19\n",
       "...       ...                               ...   ...\n",
       "13914  893219  Old Sonoma Rd at Underhill Dr NE     1\n",
       "13915  893220     Old Sonoma Rd at S Seymour St     1\n",
       "13922   89328           Foothill Blvd at Elm St     1\n",
       "13923   89329              Laurel St at Jade Ct     1\n",
       "13928   89342          Soscol Ave At Clinton St     1\n",
       "\n",
       "[13931 rows x 3 columns]"
      ]
     },
     "execution_count": 29,
     "metadata": {},
     "output_type": "execute_result"
    }
   ],
   "source": [
    "joined >> count(_.stop_id, _.stop_name) >> arrange(-_.n)"
   ]
  },
  {
   "cell_type": "code",
   "execution_count": 30,
   "id": "813f9691-e687-44cc-9401-6df47e03cfaf",
   "metadata": {},
   "outputs": [],
   "source": [
    "joined = gpd.GeoDataFrame(joined)"
   ]
  },
  {
   "cell_type": "code",
   "execution_count": 31,
   "id": "4478b836-09f5-4b65-a9ff-a6deb46d0258",
   "metadata": {},
   "outputs": [
    {
     "data": {
      "text/plain": [
       "<Projected CRS: EPSG:3310>\n",
       "Name: NAD83 / California Albers\n",
       "Axis Info [cartesian]:\n",
       "- X[east]: Easting (metre)\n",
       "- Y[north]: Northing (metre)\n",
       "Area of Use:\n",
       "- name: United States (USA) - California.\n",
       "- bounds: (-124.45, 32.53, -114.12, 42.01)\n",
       "Coordinate Operation:\n",
       "- name: California Albers\n",
       "- method: Albers Equal Area\n",
       "Datum: North American Datum 1983\n",
       "- Ellipsoid: GRS 1980\n",
       "- Prime Meridian: Greenwich"
      ]
     },
     "execution_count": 31,
     "metadata": {},
     "output_type": "execute_result"
    }
   ],
   "source": [
    "joined.crs"
   ]
  },
  {
   "cell_type": "code",
   "execution_count": 32,
   "id": "a297d9be-1d67-4b15-ad1f-e0b6c55dad20",
   "metadata": {},
   "outputs": [],
   "source": [
    "# (joined >> filter(_.stop_id.isna())).explore()"
   ]
  },
  {
   "cell_type": "code",
   "execution_count": 33,
   "id": "f8fdffb9-af48-459b-bf3a-bcad324f12f9",
   "metadata": {},
   "outputs": [],
   "source": [
    "joined.to_parquet('d4_oct3_oct7.parquet')"
   ]
  },
  {
   "cell_type": "code",
   "execution_count": null,
   "id": "23f5d9ca-2706-4194-87ed-8c60df237bfd",
   "metadata": {},
   "outputs": [],
   "source": []
  }
 ],
 "metadata": {
  "kernelspec": {
   "display_name": "Python 3 (ipykernel)",
   "language": "python",
   "name": "python3"
  },
  "language_info": {
   "codemirror_mode": {
    "name": "ipython",
    "version": 3
   },
   "file_extension": ".py",
   "mimetype": "text/x-python",
   "name": "python",
   "nbconvert_exporter": "python",
   "pygments_lexer": "ipython3",
   "version": "3.9.13"
  },
  "widgets": {
   "application/vnd.jupyter.widget-state+json": {
    "state": {
     "03ed7fe3492f418984eff4ec2a2cc613": {
      "model_module": "@jupyter-widgets/controls",
      "model_module_version": "1.5.0",
      "model_name": "DescriptionStyleModel",
      "state": {
       "description_width": ""
      }
     },
     "54cb58f4630d4dd48e0d325327cf6bed": {
      "model_module": "@jupyter-widgets/base",
      "model_module_version": "1.2.0",
      "model_name": "LayoutModel",
      "state": {}
     },
     "5b973f4a056f4f688c0d929428baf3f9": {
      "model_module": "@jupyter-widgets/controls",
      "model_module_version": "1.5.0",
      "model_name": "ProgressStyleModel",
      "state": {
       "description_width": ""
      }
     },
     "5bf959d8fd814b9fa5e8b6d6744b3394": {
      "model_module": "@jupyter-widgets/base",
      "model_module_version": "1.2.0",
      "model_name": "LayoutModel",
      "state": {}
     },
     "5d2e9328a1954f2c882bc12cea46d956": {
      "model_module": "@jupyter-widgets/controls",
      "model_module_version": "1.5.0",
      "model_name": "DescriptionStyleModel",
      "state": {
       "description_width": ""
      }
     },
     "9c20ae003f8947ddacd3ea6013f6a19a": {
      "model_module": "@jupyter-widgets/controls",
      "model_module_version": "1.5.0",
      "model_name": "HBoxModel",
      "state": {
       "children": [
        "IPY_MODEL_bd406ba0e286430eb70523b1bcaf7a9d",
        "IPY_MODEL_ea2e953c645442a9b5bb85934441006a",
        "IPY_MODEL_f59d80ad57364d26819718f227ec47b2"
       ],
       "layout": "IPY_MODEL_54cb58f4630d4dd48e0d325327cf6bed"
      }
     },
     "b83410838c244867a39f5f6bd14f7676": {
      "model_module": "@jupyter-widgets/base",
      "model_module_version": "1.2.0",
      "model_name": "LayoutModel",
      "state": {}
     },
     "bd406ba0e286430eb70523b1bcaf7a9d": {
      "model_module": "@jupyter-widgets/controls",
      "model_module_version": "1.5.0",
      "model_name": "HTMLModel",
      "state": {
       "layout": "IPY_MODEL_5bf959d8fd814b9fa5e8b6d6744b3394",
       "style": "IPY_MODEL_5d2e9328a1954f2c882bc12cea46d956",
       "value": "Generating segment speeds itp_id: 314 org: Sonoma County: 100%"
      }
     },
     "c4ca29efe806490c91585b3b289dd8bc": {
      "model_module": "@jupyter-widgets/base",
      "model_module_version": "1.2.0",
      "model_name": "LayoutModel",
      "state": {}
     },
     "ea2e953c645442a9b5bb85934441006a": {
      "model_module": "@jupyter-widgets/controls",
      "model_module_version": "1.5.0",
      "model_name": "FloatProgressModel",
      "state": {
       "layout": "IPY_MODEL_c4ca29efe806490c91585b3b289dd8bc",
       "max": 23,
       "style": "IPY_MODEL_5b973f4a056f4f688c0d929428baf3f9",
       "value": 23
      }
     },
     "f59d80ad57364d26819718f227ec47b2": {
      "model_module": "@jupyter-widgets/controls",
      "model_module_version": "1.5.0",
      "model_name": "HTMLModel",
      "state": {
       "layout": "IPY_MODEL_b83410838c244867a39f5f6bd14f7676",
       "style": "IPY_MODEL_03ed7fe3492f418984eff4ec2a2cc613",
       "value": " 23/23 [00:14&lt;00:00,  1.92it/s]"
      }
     }
    },
    "version_major": 2,
    "version_minor": 0
   }
  }
 },
 "nbformat": 4,
 "nbformat_minor": 5
}
