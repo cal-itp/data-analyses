{
 "cells": [
  {
   "cell_type": "code",
   "execution_count": 1,
   "id": "8896c96f-fb8a-4035-8d2f-14aaf3348a86",
   "metadata": {},
   "outputs": [
    {
     "name": "stderr",
     "output_type": "stream",
     "text": [
      "/opt/conda/lib/python3.9/site-packages/geopandas/_compat.py:124: UserWarning: The Shapely GEOS version (3.11.1-CAPI-1.17.1) is incompatible with the GEOS version PyGEOS was compiled with (3.10.1-CAPI-1.16.0). Conversions between both will be slow.\n",
      "  warnings.warn(\n",
      "/tmp/ipykernel_390/1118495462.py:2: DeprecationWarning: Shapely 2.0 is installed, but because PyGEOS is also installed, GeoPandas still uses PyGEOS by default. However, starting with version 0.14, the default will switch to Shapely. To force to use Shapely 2.0 now, you can either uninstall PyGEOS or set the environment variable USE_PYGEOS=0. You can do this before starting the Python process, or in your code before importing geopandas:\n",
      "\n",
      "import os\n",
      "os.environ['USE_PYGEOS'] = '0'\n",
      "import geopandas\n",
      "\n",
      "In the next release, GeoPandas will switch to using Shapely by default, even if PyGEOS is installed. If you only have PyGEOS installed to get speed-ups, this switch should be smooth. However, if you are using PyGEOS directly (calling PyGEOS functions on geometries from GeoPandas), this will then stop working and you are encouraged to migrate from PyGEOS to Shapely 2.0 (https://shapely.readthedocs.io/en/latest/migration_pygeos.html).\n",
      "  import geopandas as gpd\n"
     ]
    }
   ],
   "source": [
    "import pandas as pd\n",
    "import geopandas as gpd\n",
    "from siuba import *\n",
    "\n",
    "import datetime as dt\n",
    "import os"
   ]
  },
  {
   "cell_type": "markdown",
   "id": "7ee0bbcf-9109-43f7-9ac7-15bf8ce93b90",
   "metadata": {},
   "source": [
    "# Example 4-day aggregation using speedmap data\n",
    "\n",
    "* Export 4 days in April to support MTC Plan Bay Area 2050\n",
    "* First, run speedmap pipeline for any days not already ran (can filter to subset of operators/districts if desired by using additional scripts and editing Makefile, see d4 example)"
   ]
  },
  {
   "cell_type": "code",
   "execution_count": 2,
   "id": "495c9d75-59d6-490f-be73-f0607a827bcb",
   "metadata": {},
   "outputs": [],
   "source": [
    "dates = [f'2023-04-{day}' for day in range(10, 14)]"
   ]
  },
  {
   "cell_type": "code",
   "execution_count": 3,
   "id": "3e97e760-84e8-4b3e-81ea-1a8b38c12187",
   "metadata": {},
   "outputs": [
    {
     "data": {
      "text/plain": [
       "['2023-04-10', '2023-04-11', '2023-04-12', '2023-04-13']"
      ]
     },
     "execution_count": 3,
     "metadata": {},
     "output_type": "execute_result"
    }
   ],
   "source": [
    "dates"
   ]
  },
  {
   "cell_type": "code",
   "execution_count": 4,
   "id": "63775d37-a450-46cc-9bd3-b1e8557a9ea6",
   "metadata": {},
   "outputs": [],
   "source": [
    "progress_all_dates = []\n",
    "for date in dates:\n",
    "    df = pd.read_parquet(f'./_rt_progress_{date}.parquet')\n",
    "    df = df >> filter(_.caltrans_district == '04 - Oakland')\n",
    "    progress_all_dates += [df]\n",
    "four_days = pd.concat(progress_all_dates)"
   ]
  },
  {
   "cell_type": "markdown",
   "id": "ddbaeceb-a50a-4697-9f5e-c1529dab8380",
   "metadata": {},
   "source": [
    "Basic checks on organizations ran"
   ]
  },
  {
   "cell_type": "code",
   "execution_count": 5,
   "id": "392070de-84f2-4a9a-821c-dd48cfb10142",
   "metadata": {},
   "outputs": [],
   "source": [
    "# four_days >> count(_.organization_name, _.status, _.organization_itp_id)"
   ]
  },
  {
   "cell_type": "code",
   "execution_count": 6,
   "id": "76dabc07-e4aa-472a-b46a-e9b0394cb2de",
   "metadata": {},
   "outputs": [],
   "source": [
    "# four_days >> filter(_.status == 'already_ran')"
   ]
  },
  {
   "cell_type": "code",
   "execution_count": 7,
   "id": "4ebc8648-d9a7-473f-a3b8-d10eab75055a",
   "metadata": {},
   "outputs": [],
   "source": [
    "am_filter = {'period': 'am', 'filter_args': {'start_time': '06:00', 'end_time': '09:00'}}\n",
    "mid_filter = {'period': 'mid', 'filter_args': {'start_time': '10:00', 'end_time': '14:00'}}\n",
    "pm_filter = {'period': 'pm', 'filter_args': {'start_time': '15:00', 'end_time': '19:00'}}\n",
    "all_filters = [am_filter, mid_filter, pm_filter]"
   ]
  },
  {
   "cell_type": "code",
   "execution_count": 8,
   "id": "1a4c3ccf-2b5c-4a5e-9e65-19952d550375",
   "metadata": {},
   "outputs": [],
   "source": [
    "from tqdm.notebook import tqdm"
   ]
  },
  {
   "cell_type": "code",
   "execution_count": 9,
   "id": "86c9b940-71f4-4a7e-955d-620cc3a69cef",
   "metadata": {},
   "outputs": [],
   "source": [
    "from rt_analysis import signal_tools"
   ]
  },
  {
   "cell_type": "code",
   "execution_count": 10,
   "id": "e29b8e01-832a-43c8-8791-ee81579e88f4",
   "metadata": {},
   "outputs": [
    {
     "data": {
      "text/plain": [
       "\u001b[0;31mSignature:\u001b[0m\n",
       "\u001b[0msignal_tools\u001b[0m\u001b[0;34m.\u001b[0m\u001b[0mconcatenate_speedmap_segments\u001b[0m\u001b[0;34m(\u001b[0m\u001b[0;34m\u001b[0m\n",
       "\u001b[0;34m\u001b[0m    \u001b[0mprogress_df\u001b[0m\u001b[0;34m:\u001b[0m \u001b[0mpandas\u001b[0m\u001b[0;34m.\u001b[0m\u001b[0mcore\u001b[0m\u001b[0;34m.\u001b[0m\u001b[0mframe\u001b[0m\u001b[0;34m.\u001b[0m\u001b[0mDataFrame\u001b[0m \u001b[0;34m=\u001b[0m \u001b[0;32mNone\u001b[0m\u001b[0;34m,\u001b[0m\u001b[0;34m\u001b[0m\n",
       "\u001b[0;34m\u001b[0m    \u001b[0mitp_id_list\u001b[0m\u001b[0;34m:\u001b[0m \u001b[0mlist\u001b[0m \u001b[0;34m=\u001b[0m \u001b[0;32mNone\u001b[0m\u001b[0;34m,\u001b[0m\u001b[0;34m\u001b[0m\n",
       "\u001b[0;34m\u001b[0m    \u001b[0manalysis_date\u001b[0m\u001b[0;34m:\u001b[0m \u001b[0mdatetime\u001b[0m\u001b[0;34m.\u001b[0m\u001b[0mdatetime\u001b[0m \u001b[0;34m=\u001b[0m \u001b[0;32mNone\u001b[0m\u001b[0;34m,\u001b[0m\u001b[0;34m\u001b[0m\n",
       "\u001b[0;34m\u001b[0m    \u001b[0mpbar\u001b[0m\u001b[0;34m:\u001b[0m \u001b[0mtqdm\u001b[0m\u001b[0;34m.\u001b[0m\u001b[0mnotebook\u001b[0m\u001b[0;34m.\u001b[0m\u001b[0mtqdm_notebook\u001b[0m \u001b[0;34m=\u001b[0m \u001b[0;32mNone\u001b[0m\u001b[0;34m,\u001b[0m\u001b[0;34m\u001b[0m\n",
       "\u001b[0;34m\u001b[0m    \u001b[0mfilter_args\u001b[0m\u001b[0;34m:\u001b[0m \u001b[0mdict\u001b[0m \u001b[0;34m=\u001b[0m \u001b[0;32mNone\u001b[0m\u001b[0;34m,\u001b[0m\u001b[0;34m\u001b[0m\n",
       "\u001b[0;34m\u001b[0m\u001b[0;34m)\u001b[0m\u001b[0;34m\u001b[0m\u001b[0;34m\u001b[0m\u001b[0m\n",
       "\u001b[0;31mDocstring:\u001b[0m\n",
       "get polygon segments from legacy speedmap workflow, with relevant ids attached\n",
       "relatively fast if already ran for date, slow otherwise\n",
       "\n",
       "progress_df: see data_analyses/ca_transit_speed_maps\n",
       "filter_dict: dict of args to RtFilterMapper.set_filter\n",
       "\u001b[0;31mFile:\u001b[0m      ~/data-analyses/rt_delay/rt_analysis/signal_tools.py\n",
       "\u001b[0;31mType:\u001b[0m      function"
      ]
     },
     "metadata": {},
     "output_type": "display_data"
    }
   ],
   "source": [
    "signal_tools.concatenate_speedmap_segments?"
   ]
  },
  {
   "cell_type": "code",
   "execution_count": 11,
   "id": "b82cdc34-41a8-483a-8656-6ee2cffe4a08",
   "metadata": {},
   "outputs": [
    {
     "data": {
      "application/vnd.jupyter.widget-view+json": {
       "model_id": "7e82240203e94fc0a3ee2173a33d4e7b",
       "version_major": 2,
       "version_minor": 0
      },
      "text/plain": [
       "0it [00:00, ?it/s]"
      ]
     },
     "metadata": {},
     "output_type": "display_data"
    }
   ],
   "source": [
    "pbar = tqdm()"
   ]
  },
  {
   "cell_type": "markdown",
   "id": "f6ce3c4d-b4c2-4bb8-840b-87849ebd0ea3",
   "metadata": {},
   "source": [
    "## loop over dates, using `signal_tools` to aggregate all operators in each time period"
   ]
  },
  {
   "cell_type": "code",
   "execution_count": 12,
   "id": "e5a6ace6-aab5-41f1-9fb5-0133923baf89",
   "metadata": {},
   "outputs": [],
   "source": [
    "# for date in dates:\n",
    "#     progress_df = pd.read_parquet(f'./_rt_progress_{date}.parquet')\n",
    "#     progress_df = progress_df >> filter(_.caltrans_district == '04 - Oakland') >> filter(_.status == 'map_confirmed')\n",
    "#     gdfs = {}\n",
    "#     for time_filter in all_filters:\n",
    "#         gdfs[time_filter['period']] = signal_tools.conacatenate_speedmap_segments(progress_df = progress_df, pbar=pbar, filter_args=time_filter['filter_args'])\n",
    "#     for period in gdfs.keys():\n",
    "#         gdfs[period].to_parquet(f'_{date}_{period}.parquet')"
   ]
  },
  {
   "cell_type": "markdown",
   "id": "745d9ae2-2f3a-4cce-8a93-ca90b9e18e31",
   "metadata": {},
   "source": [
    "## concatenate/aggregate 4 day period\n",
    "\n",
    "* start by aggregating metrics for each time of day period across all dates/operators\n",
    "* then prefix am/mid/pm observations and concat"
   ]
  },
  {
   "cell_type": "code",
   "execution_count": 13,
   "id": "cb0f38f4-6794-41cb-915a-c863405fee96",
   "metadata": {},
   "outputs": [],
   "source": [
    "def read_all_dates(period):\n",
    "    gdfs = []\n",
    "    for date in dates:\n",
    "        gdfs += [gpd.read_parquet(f'_{date}_{period}.parquet')]\n",
    "    return pd.concat(gdfs)"
   ]
  },
  {
   "cell_type": "code",
   "execution_count": 14,
   "id": "ae22f092-0e82-47ed-8784-320ff68bce47",
   "metadata": {},
   "outputs": [],
   "source": [
    "all_am = read_all_dates('am')"
   ]
  },
  {
   "cell_type": "code",
   "execution_count": 16,
   "id": "8c09afa5-8a71-498f-80ea-0d87643e0bf9",
   "metadata": {},
   "outputs": [
    {
     "data": {
      "text/plain": [
       "Index(['stop_id', 'stop_name', 'geometry', 'shape_id', 'stop_sequence',\n",
       "       'route_id', 'route_short_name', 'direction_id', 'p50_mph', 'p20_mph',\n",
       "       'p80_mph', 'fast_slow_ratio', 'trips_per_hour', 'miles_from_last',\n",
       "       'time_formatted', 'gtfs_dataset_key', 'organization_name',\n",
       "       'system_p50_median'],\n",
       "      dtype='object')"
      ]
     },
     "execution_count": 16,
     "metadata": {},
     "output_type": "execute_result"
    }
   ],
   "source": [
    "all_am.columns"
   ]
  },
  {
   "cell_type": "code",
   "execution_count": 17,
   "id": "17989d2d-aba1-4226-9c1d-ccde34dda261",
   "metadata": {},
   "outputs": [],
   "source": [
    "all_pm = read_all_dates('pm')"
   ]
  },
  {
   "cell_type": "code",
   "execution_count": 18,
   "id": "6adecc56-7b15-4e67-a0fc-c8fb225a7bc1",
   "metadata": {},
   "outputs": [],
   "source": [
    "all_mid = read_all_dates('mid')"
   ]
  },
  {
   "cell_type": "code",
   "execution_count": 19,
   "id": "9457b50e-0314-4a33-a322-07520d44fb1f",
   "metadata": {},
   "outputs": [],
   "source": [
    "group_cols = ['geometry', 'shape_id', 'stop_sequence',\n",
    "       'route_id', 'route_short_name', 'direction_id', 'gtfs_dataset_key', 'organization_name',\n",
    "             'miles_from_last']"
   ]
  },
  {
   "cell_type": "code",
   "execution_count": 20,
   "id": "8f44434b-81e1-4b37-a835-c79a26d195de",
   "metadata": {},
   "outputs": [],
   "source": [
    "prefix_cols = ['p50_mph', 'p20_mph',\n",
    "       'p80_mph', 'fast_slow_ratio', 'trips_per_hour',\n",
    "       'time_formatted', 'system_p50_median', 'n_weekdays']"
   ]
  },
  {
   "cell_type": "code",
   "execution_count": 21,
   "id": "c9da37d2-e818-4810-ba92-e18dc0b59b40",
   "metadata": {},
   "outputs": [],
   "source": [
    "def aggregate_prefix(period_concat_df, period):\n",
    "\n",
    "    counts = (period_concat_df >> count(_.shape_id, _.stop_sequence, _.gtfs_dataset_key, _.organization_name)\n",
    "          >> select(_.shape_id, _.stop_sequence, _.gtfs_dataset_key, _.organization_name, _.n_weekdays == _.n))\n",
    "    all_period_agged = period_concat_df.groupby(group_cols).median().reset_index()\n",
    "    all_period_agged = all_period_agged >> inner_join(_, counts, on = ['shape_id', 'stop_sequence', 'gtfs_dataset_key', 'organization_name'])\n",
    "    prefix = period + '_'\n",
    "    prefixed = [prefix + col for col in prefix_cols]\n",
    "    rename_dict = dict(zip(prefix_cols, prefixed))\n",
    "    all_period_agged = all_period_agged.rename(columns=rename_dict)\n",
    "    \n",
    "    return all_period_agged"
   ]
  },
  {
   "cell_type": "code",
   "execution_count": 22,
   "id": "af8f4369-2dbc-44d4-aa86-3228c0990a57",
   "metadata": {},
   "outputs": [
    {
     "name": "stderr",
     "output_type": "stream",
     "text": [
      "/tmp/ipykernel_390/3872286970.py:5: FutureWarning: The default value of numeric_only in DataFrameGroupBy.median is deprecated. In a future version, numeric_only will default to False. Either specify numeric_only or select only columns which should be valid for the function.\n",
      "  all_period_agged = period_concat_df.groupby(group_cols).median().reset_index()\n"
     ]
    }
   ],
   "source": [
    "am_prefixed = aggregate_prefix(all_am, 'am')"
   ]
  },
  {
   "cell_type": "code",
   "execution_count": 23,
   "id": "13f77cfe-0a9b-4677-b703-593bb8a88393",
   "metadata": {},
   "outputs": [
    {
     "name": "stderr",
     "output_type": "stream",
     "text": [
      "/tmp/ipykernel_390/3872286970.py:5: FutureWarning: The default value of numeric_only in DataFrameGroupBy.median is deprecated. In a future version, numeric_only will default to False. Either specify numeric_only or select only columns which should be valid for the function.\n",
      "  all_period_agged = period_concat_df.groupby(group_cols).median().reset_index()\n"
     ]
    }
   ],
   "source": [
    "pm_prefixed = aggregate_prefix(all_pm, 'pm')"
   ]
  },
  {
   "cell_type": "code",
   "execution_count": 24,
   "id": "44538a80-d906-4428-8da3-bdaf04797903",
   "metadata": {},
   "outputs": [
    {
     "name": "stderr",
     "output_type": "stream",
     "text": [
      "/tmp/ipykernel_390/3872286970.py:5: FutureWarning: The default value of numeric_only in DataFrameGroupBy.median is deprecated. In a future version, numeric_only will default to False. Either specify numeric_only or select only columns which should be valid for the function.\n",
      "  all_period_agged = period_concat_df.groupby(group_cols).median().reset_index()\n"
     ]
    }
   ],
   "source": [
    "mid_prefixed = aggregate_prefix(all_mid, 'mid')"
   ]
  },
  {
   "cell_type": "code",
   "execution_count": 25,
   "id": "07a5f129-82d0-43bb-9a75-dfbfe5e24e12",
   "metadata": {},
   "outputs": [],
   "source": [
    "joined = (am_prefixed >> inner_join(_, mid_prefixed, on=group_cols)\n",
    "          >> inner_join(_, pm_prefixed, on=group_cols)\n",
    "         \n",
    "         )"
   ]
  },
  {
   "cell_type": "code",
   "execution_count": 26,
   "id": "11b060c0-d986-4725-9bd3-f196014b69f4",
   "metadata": {},
   "outputs": [
    {
     "data": {
      "text/plain": [
       "Index(['geometry', 'shape_id', 'stop_sequence', 'route_id', 'route_short_name',\n",
       "       'direction_id', 'gtfs_dataset_key', 'organization_name',\n",
       "       'miles_from_last', 'am_p50_mph', 'am_p20_mph', 'am_p80_mph',\n",
       "       'am_fast_slow_ratio', 'am_trips_per_hour', 'am_system_p50_median',\n",
       "       'am_n_weekdays', 'mid_p50_mph', 'mid_p20_mph', 'mid_p80_mph',\n",
       "       'mid_fast_slow_ratio', 'mid_trips_per_hour', 'mid_system_p50_median',\n",
       "       'mid_n_weekdays', 'pm_p50_mph', 'pm_p20_mph', 'pm_p80_mph',\n",
       "       'pm_fast_slow_ratio', 'pm_trips_per_hour', 'pm_system_p50_median',\n",
       "       'pm_n_weekdays'],\n",
       "      dtype='object')"
      ]
     },
     "execution_count": 26,
     "metadata": {},
     "output_type": "execute_result"
    }
   ],
   "source": [
    "joined.columns"
   ]
  },
  {
   "cell_type": "markdown",
   "id": "88646d32-27b9-4fc9-b9fa-0ec289ff67f6",
   "metadata": {},
   "source": [
    "## re-add stop id and stop name\n",
    "\n",
    "* can't group on these since not present for virtual segments!"
   ]
  },
  {
   "cell_type": "code",
   "execution_count": 29,
   "id": "d99c6350-69cc-48f5-bde5-5db87f71c4b8",
   "metadata": {},
   "outputs": [],
   "source": [
    "df = pd.concat([all_am, all_mid, all_pm]) >> distinct(_.shape_id, _.stop_sequence, _.gtfs_dataset_key,\n",
    "                                                     _.stop_id, _.stop_name)"
   ]
  },
  {
   "cell_type": "code",
   "execution_count": 33,
   "id": "42b08558-a103-4d2e-bf6f-a48581a93bad",
   "metadata": {},
   "outputs": [],
   "source": [
    "joined = joined >> left_join(_, df, on=['shape_id', 'stop_sequence', 'gtfs_dataset_key'])"
   ]
  },
  {
   "cell_type": "code",
   "execution_count": 34,
   "id": "7f16f329-6a98-43bb-a521-e36b7d37ed1b",
   "metadata": {},
   "outputs": [
    {
     "data": {
      "text/html": [
       "<div>\n",
       "<style scoped>\n",
       "    .dataframe tbody tr th:only-of-type {\n",
       "        vertical-align: middle;\n",
       "    }\n",
       "\n",
       "    .dataframe tbody tr th {\n",
       "        vertical-align: top;\n",
       "    }\n",
       "\n",
       "    .dataframe thead th {\n",
       "        text-align: right;\n",
       "    }\n",
       "</style>\n",
       "<table border=\"1\" class=\"dataframe\">\n",
       "  <thead>\n",
       "    <tr style=\"text-align: right;\">\n",
       "      <th></th>\n",
       "      <th>stop_id</th>\n",
       "      <th>stop_name</th>\n",
       "      <th>n</th>\n",
       "    </tr>\n",
       "  </thead>\n",
       "  <tbody>\n",
       "    <tr>\n",
       "      <th>12011</th>\n",
       "      <td>NaN</td>\n",
       "      <td>NaN</td>\n",
       "      <td>1481</td>\n",
       "    </tr>\n",
       "    <tr>\n",
       "      <th>9566</th>\n",
       "      <td>7700100</td>\n",
       "      <td>Santa Rosa Transit Mall</td>\n",
       "      <td>14</td>\n",
       "    </tr>\n",
       "    <tr>\n",
       "      <th>9568</th>\n",
       "      <td>7700300</td>\n",
       "      <td>Mendocino Ave &amp; Cherry St</td>\n",
       "      <td>14</td>\n",
       "    </tr>\n",
       "    <tr>\n",
       "      <th>9570</th>\n",
       "      <td>7700600</td>\n",
       "      <td>Mendocino Ave &amp; Ridgeway</td>\n",
       "      <td>14</td>\n",
       "    </tr>\n",
       "    <tr>\n",
       "      <th>9567</th>\n",
       "      <td>7700200</td>\n",
       "      <td>B St &amp; Ross St</td>\n",
       "      <td>12</td>\n",
       "    </tr>\n",
       "    <tr>\n",
       "      <th>...</th>\n",
       "      <td>...</td>\n",
       "      <td>...</td>\n",
       "      <td>...</td>\n",
       "    </tr>\n",
       "    <tr>\n",
       "      <th>12001</th>\n",
       "      <td>893222</td>\n",
       "      <td>Jefferson St at Pueblo Ave</td>\n",
       "      <td>1</td>\n",
       "    </tr>\n",
       "    <tr>\n",
       "      <th>12003</th>\n",
       "      <td>893224</td>\n",
       "      <td>American Canyon Senior Center (SB)</td>\n",
       "      <td>1</td>\n",
       "    </tr>\n",
       "    <tr>\n",
       "      <th>12004</th>\n",
       "      <td>893228</td>\n",
       "      <td>Rio del Mar at Hwy 29 (7-11)</td>\n",
       "      <td>1</td>\n",
       "    </tr>\n",
       "    <tr>\n",
       "      <th>12008</th>\n",
       "      <td>89337</td>\n",
       "      <td>Foster Rd at Indiana St North</td>\n",
       "      <td>1</td>\n",
       "    </tr>\n",
       "    <tr>\n",
       "      <th>12010</th>\n",
       "      <td>89343</td>\n",
       "      <td>Vallejo Ferry Terminal South</td>\n",
       "      <td>1</td>\n",
       "    </tr>\n",
       "  </tbody>\n",
       "</table>\n",
       "<p>12012 rows × 3 columns</p>\n",
       "</div>"
      ],
      "text/plain": [
       "       stop_id                           stop_name     n\n",
       "12011      NaN                                 NaN  1481\n",
       "9566   7700100             Santa Rosa Transit Mall    14\n",
       "9568   7700300           Mendocino Ave & Cherry St    14\n",
       "9570   7700600            Mendocino Ave & Ridgeway    14\n",
       "9567   7700200                      B St & Ross St    12\n",
       "...        ...                                 ...   ...\n",
       "12001   893222          Jefferson St at Pueblo Ave     1\n",
       "12003   893224  American Canyon Senior Center (SB)     1\n",
       "12004   893228        Rio del Mar at Hwy 29 (7-11)     1\n",
       "12008    89337       Foster Rd at Indiana St North     1\n",
       "12010    89343        Vallejo Ferry Terminal South     1\n",
       "\n",
       "[12012 rows x 3 columns]"
      ]
     },
     "execution_count": 34,
     "metadata": {},
     "output_type": "execute_result"
    }
   ],
   "source": [
    "joined >> count(_.stop_id, _.stop_name) >> arrange(-_.n)"
   ]
  },
  {
   "cell_type": "code",
   "execution_count": 35,
   "id": "813f9691-e687-44cc-9401-6df47e03cfaf",
   "metadata": {},
   "outputs": [],
   "source": [
    "joined = gpd.GeoDataFrame(joined)"
   ]
  },
  {
   "cell_type": "code",
   "execution_count": 36,
   "id": "4478b836-09f5-4b65-a9ff-a6deb46d0258",
   "metadata": {},
   "outputs": [
    {
     "data": {
      "text/plain": [
       "<Projected CRS: EPSG:3310>\n",
       "Name: NAD83 / California Albers\n",
       "Axis Info [cartesian]:\n",
       "- X[east]: Easting (metre)\n",
       "- Y[north]: Northing (metre)\n",
       "Area of Use:\n",
       "- name: United States (USA) - California.\n",
       "- bounds: (-124.45, 32.53, -114.12, 42.01)\n",
       "Coordinate Operation:\n",
       "- name: California Albers\n",
       "- method: Albers Equal Area\n",
       "Datum: North American Datum 1983\n",
       "- Ellipsoid: GRS 1980\n",
       "- Prime Meridian: Greenwich"
      ]
     },
     "execution_count": 36,
     "metadata": {},
     "output_type": "execute_result"
    }
   ],
   "source": [
    "joined.crs"
   ]
  },
  {
   "cell_type": "code",
   "execution_count": 38,
   "id": "a297d9be-1d67-4b15-ad1f-e0b6c55dad20",
   "metadata": {},
   "outputs": [],
   "source": [
    "# (joined >> filter(_.stop_id.isna())).explore()"
   ]
  },
  {
   "cell_type": "code",
   "execution_count": 39,
   "id": "f8fdffb9-af48-459b-bf3a-bcad324f12f9",
   "metadata": {},
   "outputs": [],
   "source": [
    "joined.to_parquet('d4_apr10_apr13_express_fixed.parquet')"
   ]
  },
  {
   "cell_type": "code",
   "execution_count": 40,
   "id": "2f76bbe4-9768-42c1-bf51-48da0d811eac",
   "metadata": {},
   "outputs": [
    {
     "data": {
      "text/plain": [
       "Index(['geometry', 'shape_id', 'stop_sequence', 'route_id', 'route_short_name',\n",
       "       'direction_id', 'gtfs_dataset_key', 'organization_name',\n",
       "       'miles_from_last', 'am_p50_mph', 'am_p20_mph', 'am_p80_mph',\n",
       "       'am_fast_slow_ratio', 'am_trips_per_hour', 'am_system_p50_median',\n",
       "       'am_n_weekdays', 'mid_p50_mph', 'mid_p20_mph', 'mid_p80_mph',\n",
       "       'mid_fast_slow_ratio', 'mid_trips_per_hour', 'mid_system_p50_median',\n",
       "       'mid_n_weekdays', 'pm_p50_mph', 'pm_p20_mph', 'pm_p80_mph',\n",
       "       'pm_fast_slow_ratio', 'pm_trips_per_hour', 'pm_system_p50_median',\n",
       "       'pm_n_weekdays', 'stop_id', 'stop_name'],\n",
       "      dtype='object')"
      ]
     },
     "execution_count": 40,
     "metadata": {},
     "output_type": "execute_result"
    }
   ],
   "source": [
    "pd.read_parquet('./d4_apr10_apr13_express_fixed.parquet').columns"
   ]
  },
  {
   "cell_type": "code",
   "execution_count": 41,
   "id": "cfadec25-dd3b-4f33-b841-90123abd20c0",
   "metadata": {},
   "outputs": [
    {
     "data": {
      "text/plain": [
       "Index(['geometry', 'shape_id', 'stop_sequence', 'route_id', 'route_short_name',\n",
       "       'direction_id', 'gtfs_dataset_key', 'organization_name',\n",
       "       'miles_from_last', 'am_p50_mph', 'am_p20_mph', 'am_p80_mph',\n",
       "       'am_fast_slow_ratio', 'am_trips_per_hour', 'am_system_p50_median',\n",
       "       'am_n_weekdays', 'mid_p50_mph', 'mid_p20_mph', 'mid_p80_mph',\n",
       "       'mid_fast_slow_ratio', 'mid_trips_per_hour', 'mid_system_p50_median',\n",
       "       'mid_n_weekdays', 'pm_p50_mph', 'pm_p20_mph', 'pm_p80_mph',\n",
       "       'pm_fast_slow_ratio', 'pm_trips_per_hour', 'pm_system_p50_median',\n",
       "       'pm_n_weekdays', 'stop_id', 'stop_name'],\n",
       "      dtype='object')"
      ]
     },
     "execution_count": 41,
     "metadata": {},
     "output_type": "execute_result"
    }
   ],
   "source": [
    "joined.columns"
   ]
  },
  {
   "cell_type": "code",
   "execution_count": null,
   "id": "914580fd-e4ab-4571-b99a-61f00924fe38",
   "metadata": {},
   "outputs": [],
   "source": []
  }
 ],
 "metadata": {
  "kernelspec": {
   "display_name": "Python 3 (ipykernel)",
   "language": "python",
   "name": "python3"
  },
  "language_info": {
   "codemirror_mode": {
    "name": "ipython",
    "version": 3
   },
   "file_extension": ".py",
   "mimetype": "text/x-python",
   "name": "python",
   "nbconvert_exporter": "python",
   "pygments_lexer": "ipython3",
   "version": "3.9.13"
  },
  "widgets": {
   "application/vnd.jupyter.widget-state+json": {
    "state": {
     "1c07730e489c4ed68629190bfd432b96": {
      "model_module": "@jupyter-widgets/controls",
      "model_module_version": "1.5.0",
      "model_name": "FloatProgressModel",
      "state": {
       "bar_style": "info",
       "layout": "IPY_MODEL_d93fbdcfbafe46b39e2b41cd9c05c7d0",
       "max": 1,
       "style": "IPY_MODEL_826e5b130be74c03b0973e88b4c923f8"
      }
     },
     "7e82240203e94fc0a3ee2173a33d4e7b": {
      "model_module": "@jupyter-widgets/controls",
      "model_module_version": "1.5.0",
      "model_name": "HBoxModel",
      "state": {
       "children": [
        "IPY_MODEL_e029cf87c7f24b0dad806e8ad56e93b3",
        "IPY_MODEL_1c07730e489c4ed68629190bfd432b96",
        "IPY_MODEL_d8f149e1d51e43949a60c03a2ac79fe6"
       ],
       "layout": "IPY_MODEL_9936f4a6aef1440aa1e070c098876242"
      }
     },
     "826e5b130be74c03b0973e88b4c923f8": {
      "model_module": "@jupyter-widgets/controls",
      "model_module_version": "1.5.0",
      "model_name": "ProgressStyleModel",
      "state": {
       "description_width": ""
      }
     },
     "9936f4a6aef1440aa1e070c098876242": {
      "model_module": "@jupyter-widgets/base",
      "model_module_version": "1.2.0",
      "model_name": "LayoutModel",
      "state": {}
     },
     "a1a16075edaa413984333d1923c68510": {
      "model_module": "@jupyter-widgets/base",
      "model_module_version": "1.2.0",
      "model_name": "LayoutModel",
      "state": {}
     },
     "b858b11b87674ce2962704765a25b5d3": {
      "model_module": "@jupyter-widgets/controls",
      "model_module_version": "1.5.0",
      "model_name": "DescriptionStyleModel",
      "state": {
       "description_width": ""
      }
     },
     "d8f149e1d51e43949a60c03a2ac79fe6": {
      "model_module": "@jupyter-widgets/controls",
      "model_module_version": "1.5.0",
      "model_name": "HTMLModel",
      "state": {
       "layout": "IPY_MODEL_a1a16075edaa413984333d1923c68510",
       "style": "IPY_MODEL_b858b11b87674ce2962704765a25b5d3",
       "value": " 0/? [00:00&lt;?, ?it/s]"
      }
     },
     "d93fbdcfbafe46b39e2b41cd9c05c7d0": {
      "model_module": "@jupyter-widgets/base",
      "model_module_version": "1.2.0",
      "model_name": "LayoutModel",
      "state": {
       "width": "20px"
      }
     },
     "e029cf87c7f24b0dad806e8ad56e93b3": {
      "model_module": "@jupyter-widgets/controls",
      "model_module_version": "1.5.0",
      "model_name": "HTMLModel",
      "state": {
       "layout": "IPY_MODEL_e698ddf45d41433780cc9851518e8901",
       "style": "IPY_MODEL_f5cb7c9630f04449b24b221292f99209"
      }
     },
     "e698ddf45d41433780cc9851518e8901": {
      "model_module": "@jupyter-widgets/base",
      "model_module_version": "1.2.0",
      "model_name": "LayoutModel",
      "state": {}
     },
     "f5cb7c9630f04449b24b221292f99209": {
      "model_module": "@jupyter-widgets/controls",
      "model_module_version": "1.5.0",
      "model_name": "DescriptionStyleModel",
      "state": {
       "description_width": ""
      }
     }
    },
    "version_major": 2,
    "version_minor": 0
   }
  }
 },
 "nbformat": 4,
 "nbformat_minor": 5
}
