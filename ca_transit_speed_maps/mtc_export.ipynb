{
 "cells": [
  {
   "cell_type": "code",
   "execution_count": 1,
   "id": "8896c96f-fb8a-4035-8d2f-14aaf3348a86",
   "metadata": {},
   "outputs": [],
   "source": [
    "import os\n",
    "os.environ['USE_PYGEOS'] = '0'\n",
    "\n",
    "import pandas as pd\n",
    "import geopandas as gpd\n",
    "from siuba import *\n",
    "\n",
    "import datetime as dt\n",
    "import os"
   ]
  },
  {
   "cell_type": "code",
   "execution_count": 44,
   "id": "e576f9f0-8a3c-44df-8241-2821f76ceef2",
   "metadata": {},
   "outputs": [],
   "source": [
    "from rt_analysis import rt_parser"
   ]
  },
  {
   "cell_type": "code",
   "execution_count": 8,
   "id": "1a4c3ccf-2b5c-4a5e-9e65-19952d550375",
   "metadata": {},
   "outputs": [],
   "source": [
    "from tqdm.notebook import tqdm"
   ]
  },
  {
   "cell_type": "code",
   "execution_count": 9,
   "id": "86c9b940-71f4-4a7e-955d-620cc3a69cef",
   "metadata": {},
   "outputs": [],
   "source": [
    "from rt_analysis import signal_tools"
   ]
  },
  {
   "cell_type": "code",
   "execution_count": 45,
   "id": "66b5f30c-460f-458c-9a16-e2330f022a35",
   "metadata": {},
   "outputs": [
    {
     "data": {
      "application/vnd.jupyter.widget-view+json": {
       "model_id": "623f13506abe412783fe0c01e9174eca",
       "version_major": 2,
       "version_minor": 0
      },
      "text/plain": [
       "0it [00:00, ?it/s]"
      ]
     },
     "metadata": {},
     "output_type": "display_data"
    }
   ],
   "source": [
    "pbar = tqdm()"
   ]
  },
  {
   "cell_type": "code",
   "execution_count": 66,
   "id": "3c31a28a-11bc-4b1f-8c24-7432a395399a",
   "metadata": {},
   "outputs": [],
   "source": [
    "analysis_date = dt.date.fromisoformat(rt_dates.DATES['oct2022'])"
   ]
  },
  {
   "cell_type": "code",
   "execution_count": 67,
   "id": "6e363dc3-2308-4fe9-9483-000ee1ba7474",
   "metadata": {},
   "outputs": [],
   "source": [
    "from shared_utils import rt_utils, rt_dates"
   ]
  },
  {
   "cell_type": "code",
   "execution_count": 82,
   "id": "dcc376ea-7d85-4a97-a91f-09123db1cc83",
   "metadata": {},
   "outputs": [],
   "source": [
    "analysis_date = dt.date(2022, 10, 24)"
   ]
  },
  {
   "cell_type": "code",
   "execution_count": 84,
   "id": "698d0013-5ca8-400b-8cd1-b456b34c7641",
   "metadata": {},
   "outputs": [
    {
     "data": {
      "text/html": [
       "<div>\n",
       "<style scoped>\n",
       "    .dataframe tbody tr th:only-of-type {\n",
       "        vertical-align: middle;\n",
       "    }\n",
       "\n",
       "    .dataframe tbody tr th {\n",
       "        vertical-align: top;\n",
       "    }\n",
       "\n",
       "    .dataframe thead th {\n",
       "        text-align: right;\n",
       "    }\n",
       "</style>\n",
       "<table border=\"1\" class=\"dataframe\">\n",
       "  <thead>\n",
       "    <tr style=\"text-align: right;\">\n",
       "      <th></th>\n",
       "      <th>feed_key</th>\n",
       "      <th>schedule_gtfs_dataset_key</th>\n",
       "      <th>vehicle_positions_gtfs_dataset_key</th>\n",
       "      <th>organization_itp_id</th>\n",
       "      <th>caltrans_district</th>\n",
       "      <th>organization_name</th>\n",
       "      <th>service_date</th>\n",
       "    </tr>\n",
       "  </thead>\n",
       "  <tbody>\n",
       "    <tr>\n",
       "      <th>0</th>\n",
       "      <td>eb167d80cc77725b974875bee5e977c5</td>\n",
       "      <td>e9837db971ae9c6a5992ad1957099963</td>\n",
       "      <td>2fbaa62d287b69261ca05f48bcf3960a</td>\n",
       "      <td>294</td>\n",
       "      <td>04 - Oakland</td>\n",
       "      <td>Santa Clara Valley Transportation Authority</td>\n",
       "      <td>2022-10-24</td>\n",
       "    </tr>\n",
       "    <tr>\n",
       "      <th>1</th>\n",
       "      <td>eb167d80cc77725b974875bee5e977c5</td>\n",
       "      <td>e9837db971ae9c6a5992ad1957099963</td>\n",
       "      <td>2fbaa62d287b69261ca05f48bcf3960a</td>\n",
       "      <td>294</td>\n",
       "      <td>04 - Oakland</td>\n",
       "      <td>Santa Clara Valley Transportation Authority</td>\n",
       "      <td>2022-10-24</td>\n",
       "    </tr>\n",
       "    <tr>\n",
       "      <th>2</th>\n",
       "      <td>eb167d80cc77725b974875bee5e977c5</td>\n",
       "      <td>e9837db971ae9c6a5992ad1957099963</td>\n",
       "      <td>2fbaa62d287b69261ca05f48bcf3960a</td>\n",
       "      <td>294</td>\n",
       "      <td>04 - Oakland</td>\n",
       "      <td>Santa Clara Valley Transportation Authority</td>\n",
       "      <td>2022-10-24</td>\n",
       "    </tr>\n",
       "    <tr>\n",
       "      <th>3</th>\n",
       "      <td>eb167d80cc77725b974875bee5e977c5</td>\n",
       "      <td>e9837db971ae9c6a5992ad1957099963</td>\n",
       "      <td>2fbaa62d287b69261ca05f48bcf3960a</td>\n",
       "      <td>294</td>\n",
       "      <td>04 - Oakland</td>\n",
       "      <td>Santa Clara Valley Transportation Authority</td>\n",
       "      <td>2022-10-24</td>\n",
       "    </tr>\n",
       "  </tbody>\n",
       "</table>\n",
       "</div>"
      ],
      "text/plain": [
       "                           feed_key         schedule_gtfs_dataset_key  \\\n",
       "0  eb167d80cc77725b974875bee5e977c5  e9837db971ae9c6a5992ad1957099963   \n",
       "1  eb167d80cc77725b974875bee5e977c5  e9837db971ae9c6a5992ad1957099963   \n",
       "2  eb167d80cc77725b974875bee5e977c5  e9837db971ae9c6a5992ad1957099963   \n",
       "3  eb167d80cc77725b974875bee5e977c5  e9837db971ae9c6a5992ad1957099963   \n",
       "\n",
       "  vehicle_positions_gtfs_dataset_key  organization_itp_id caltrans_district  \\\n",
       "0   2fbaa62d287b69261ca05f48bcf3960a                  294      04 - Oakland   \n",
       "1   2fbaa62d287b69261ca05f48bcf3960a                  294      04 - Oakland   \n",
       "2   2fbaa62d287b69261ca05f48bcf3960a                  294      04 - Oakland   \n",
       "3   2fbaa62d287b69261ca05f48bcf3960a                  294      04 - Oakland   \n",
       "\n",
       "                             organization_name service_date  \n",
       "0  Santa Clara Valley Transportation Authority   2022-10-24  \n",
       "1  Santa Clara Valley Transportation Authority   2022-10-24  \n",
       "2  Santa Clara Valley Transportation Authority   2022-10-24  \n",
       "3  Santa Clara Valley Transportation Authority   2022-10-24  "
      ]
     },
     "execution_count": 84,
     "metadata": {},
     "output_type": "execute_result"
    }
   ],
   "source": [
    "rt_utils.get_speedmaps_ix_df(analysis_date = analysis_date, itp_id = 294)"
   ]
  },
  {
   "cell_type": "code",
   "execution_count": 47,
   "id": "b4e7ca3f-943a-4ffc-aa6d-4813bb397d4f",
   "metadata": {},
   "outputs": [
    {
     "ename": "IndexError",
     "evalue": "single positional indexer is out-of-bounds",
     "output_type": "error",
     "traceback": [
      "\u001b[0;31m---------------------------------------------------------------------------\u001b[0m",
      "\u001b[0;31mIndexError\u001b[0m                                Traceback (most recent call last)",
      "Cell \u001b[0;32mIn[47], line 1\u001b[0m\n\u001b[0;32m----> 1\u001b[0m rt_day \u001b[38;5;241m=\u001b[39m \u001b[43mrt_parser\u001b[49m\u001b[38;5;241;43m.\u001b[39;49m\u001b[43mOperatorDayAnalysis\u001b[49m\u001b[43m(\u001b[49m\u001b[38;5;241;43m294\u001b[39;49m\u001b[43m,\u001b[49m\n\u001b[1;32m      2\u001b[0m \u001b[43m                                       \u001b[49m\u001b[43manalysis_date\u001b[49m\u001b[43m,\u001b[49m\u001b[43m \u001b[49m\u001b[43mpbar\u001b[49m\u001b[43m)\u001b[49m\n",
      "File \u001b[0;32m~/data-analyses/rt_delay/rt_analysis/rt_parser.py:221\u001b[0m, in \u001b[0;36mOperatorDayAnalysis.__init__\u001b[0;34m(self, itp_id, analysis_date, pbar)\u001b[0m\n\u001b[1;32m    218\u001b[0m \u001b[38;5;66;03m## Move to v2!\u001b[39;00m\n\u001b[1;32m    219\u001b[0m \u001b[38;5;66;03m# call this org_feed_index instead?\u001b[39;00m\n\u001b[1;32m    220\u001b[0m \u001b[38;5;28mself\u001b[39m\u001b[38;5;241m.\u001b[39mindex_df \u001b[38;5;241m=\u001b[39m rt_utils\u001b[38;5;241m.\u001b[39mget_speedmaps_ix_df(analysis_date \u001b[38;5;241m=\u001b[39m analysis_date, itp_id \u001b[38;5;241m=\u001b[39m itp_id)\n\u001b[0;32m--> 221\u001b[0m \u001b[38;5;28mself\u001b[39m\u001b[38;5;241m.\u001b[39morganization_name \u001b[38;5;241m=\u001b[39m \u001b[38;5;28;43mself\u001b[39;49m\u001b[38;5;241;43m.\u001b[39;49m\u001b[43mindex_df\u001b[49m\u001b[38;5;241;43m.\u001b[39;49m\u001b[43morganization_name\u001b[49m\u001b[38;5;241;43m.\u001b[39;49m\u001b[43miloc\u001b[49m\u001b[43m[\u001b[49m\u001b[38;5;241;43m0\u001b[39;49m\u001b[43m]\u001b[49m\n\u001b[1;32m    222\u001b[0m \u001b[38;5;28mself\u001b[39m\u001b[38;5;241m.\u001b[39mpbar_desc \u001b[38;5;241m=\u001b[39m \u001b[38;5;124mf\u001b[39m\u001b[38;5;124m'\u001b[39m\u001b[38;5;124mitp_id: \u001b[39m\u001b[38;5;132;01m{\u001b[39;00m\u001b[38;5;28mself\u001b[39m\u001b[38;5;241m.\u001b[39mcalitp_itp_id\u001b[38;5;132;01m}\u001b[39;00m\u001b[38;5;124m org: \u001b[39m\u001b[38;5;132;01m{\u001b[39;00m\u001b[38;5;28mself\u001b[39m\u001b[38;5;241m.\u001b[39morganization_name[:\u001b[38;5;241m15\u001b[39m]\u001b[38;5;132;01m}\u001b[39;00m\u001b[38;5;124m'\u001b[39m\n\u001b[1;32m    223\u001b[0m \u001b[38;5;28mself\u001b[39m\u001b[38;5;241m.\u001b[39mvehicle_positions \u001b[38;5;241m=\u001b[39m rt_utils\u001b[38;5;241m.\u001b[39mget_vehicle_positions(\u001b[38;5;28mself\u001b[39m\u001b[38;5;241m.\u001b[39mindex_df)\n",
      "File \u001b[0;32m/opt/conda/lib/python3.9/site-packages/pandas/core/indexing.py:1073\u001b[0m, in \u001b[0;36m_LocationIndexer.__getitem__\u001b[0;34m(self, key)\u001b[0m\n\u001b[1;32m   1070\u001b[0m axis \u001b[38;5;241m=\u001b[39m \u001b[38;5;28mself\u001b[39m\u001b[38;5;241m.\u001b[39maxis \u001b[38;5;129;01mor\u001b[39;00m \u001b[38;5;241m0\u001b[39m\n\u001b[1;32m   1072\u001b[0m maybe_callable \u001b[38;5;241m=\u001b[39m com\u001b[38;5;241m.\u001b[39mapply_if_callable(key, \u001b[38;5;28mself\u001b[39m\u001b[38;5;241m.\u001b[39mobj)\n\u001b[0;32m-> 1073\u001b[0m \u001b[38;5;28;01mreturn\u001b[39;00m \u001b[38;5;28;43mself\u001b[39;49m\u001b[38;5;241;43m.\u001b[39;49m\u001b[43m_getitem_axis\u001b[49m\u001b[43m(\u001b[49m\u001b[43mmaybe_callable\u001b[49m\u001b[43m,\u001b[49m\u001b[43m \u001b[49m\u001b[43maxis\u001b[49m\u001b[38;5;241;43m=\u001b[39;49m\u001b[43maxis\u001b[49m\u001b[43m)\u001b[49m\n",
      "File \u001b[0;32m/opt/conda/lib/python3.9/site-packages/pandas/core/indexing.py:1625\u001b[0m, in \u001b[0;36m_iLocIndexer._getitem_axis\u001b[0;34m(self, key, axis)\u001b[0m\n\u001b[1;32m   1622\u001b[0m     \u001b[38;5;28;01mraise\u001b[39;00m \u001b[38;5;167;01mTypeError\u001b[39;00m(\u001b[38;5;124m\"\u001b[39m\u001b[38;5;124mCannot index by location index with a non-integer key\u001b[39m\u001b[38;5;124m\"\u001b[39m)\n\u001b[1;32m   1624\u001b[0m \u001b[38;5;66;03m# validate the location\u001b[39;00m\n\u001b[0;32m-> 1625\u001b[0m \u001b[38;5;28;43mself\u001b[39;49m\u001b[38;5;241;43m.\u001b[39;49m\u001b[43m_validate_integer\u001b[49m\u001b[43m(\u001b[49m\u001b[43mkey\u001b[49m\u001b[43m,\u001b[49m\u001b[43m \u001b[49m\u001b[43maxis\u001b[49m\u001b[43m)\u001b[49m\n\u001b[1;32m   1627\u001b[0m \u001b[38;5;28;01mreturn\u001b[39;00m \u001b[38;5;28mself\u001b[39m\u001b[38;5;241m.\u001b[39mobj\u001b[38;5;241m.\u001b[39m_ixs(key, axis\u001b[38;5;241m=\u001b[39maxis)\n",
      "File \u001b[0;32m/opt/conda/lib/python3.9/site-packages/pandas/core/indexing.py:1557\u001b[0m, in \u001b[0;36m_iLocIndexer._validate_integer\u001b[0;34m(self, key, axis)\u001b[0m\n\u001b[1;32m   1555\u001b[0m len_axis \u001b[38;5;241m=\u001b[39m \u001b[38;5;28mlen\u001b[39m(\u001b[38;5;28mself\u001b[39m\u001b[38;5;241m.\u001b[39mobj\u001b[38;5;241m.\u001b[39m_get_axis(axis))\n\u001b[1;32m   1556\u001b[0m \u001b[38;5;28;01mif\u001b[39;00m key \u001b[38;5;241m>\u001b[39m\u001b[38;5;241m=\u001b[39m len_axis \u001b[38;5;129;01mor\u001b[39;00m key \u001b[38;5;241m<\u001b[39m \u001b[38;5;241m-\u001b[39mlen_axis:\n\u001b[0;32m-> 1557\u001b[0m     \u001b[38;5;28;01mraise\u001b[39;00m \u001b[38;5;167;01mIndexError\u001b[39;00m(\u001b[38;5;124m\"\u001b[39m\u001b[38;5;124msingle positional indexer is out-of-bounds\u001b[39m\u001b[38;5;124m\"\u001b[39m)\n",
      "\u001b[0;31mIndexError\u001b[0m: single positional indexer is out-of-bounds"
     ]
    }
   ],
   "source": [
    "rt_day = rt_parser.OperatorDayAnalysis(294,\n",
    "                                       analysis_date, pbar)"
   ]
  },
  {
   "cell_type": "markdown",
   "id": "7ee0bbcf-9109-43f7-9ac7-15bf8ce93b90",
   "metadata": {},
   "source": [
    "# Example 4-day aggregation using speedmap data\n",
    "\n",
    "* Export 4 days in April to support MTC Plan Bay Area 2050\n",
    "* First, run speedmap pipeline for any days not already ran (can filter to subset of operators/districts if desired by using additional scripts and editing Makefile, see d4 example)\n",
    "* Export 4 Days in October 2022 to support D4 Transit Plan\n",
    "    * filter out mislabeled NCTD (itp_id 226)..."
   ]
  },
  {
   "cell_type": "code",
   "execution_count": 2,
   "id": "495c9d75-59d6-490f-be73-f0607a827bcb",
   "metadata": {},
   "outputs": [],
   "source": [
    "# dates = [f'2023-04-{day}' for day in range(10, 14)]\n",
    "dates = [f'2022-10-0{day}' for day in range(3, 7)]"
   ]
  },
  {
   "cell_type": "code",
   "execution_count": 3,
   "id": "3e97e760-84e8-4b3e-81ea-1a8b38c12187",
   "metadata": {},
   "outputs": [
    {
     "data": {
      "text/plain": [
       "['2022-10-03', '2022-10-04', '2022-10-05', '2022-10-06']"
      ]
     },
     "execution_count": 3,
     "metadata": {},
     "output_type": "execute_result"
    }
   ],
   "source": [
    "dates"
   ]
  },
  {
   "cell_type": "code",
   "execution_count": 4,
   "id": "63775d37-a450-46cc-9bd3-b1e8557a9ea6",
   "metadata": {},
   "outputs": [],
   "source": [
    "progress_all_dates = []\n",
    "for date in dates:\n",
    "    df = pd.read_parquet(f'./_rt_progress_{date}.parquet')\n",
    "    df = df >> filter(_.caltrans_district == '04 - Oakland')\n",
    "    progress_all_dates += [df]\n",
    "four_days = pd.concat(progress_all_dates)"
   ]
  },
  {
   "cell_type": "markdown",
   "id": "ddbaeceb-a50a-4697-9f5e-c1529dab8380",
   "metadata": {},
   "source": [
    "Basic checks on organizations ran"
   ]
  },
  {
   "cell_type": "code",
   "execution_count": 42,
   "id": "b7dc6e43-9f2a-44df-bec4-edf362048ca6",
   "metadata": {},
   "outputs": [
    {
     "data": {
      "text/html": [
       "<div>\n",
       "<style scoped>\n",
       "    .dataframe tbody tr th:only-of-type {\n",
       "        vertical-align: middle;\n",
       "    }\n",
       "\n",
       "    .dataframe tbody tr th {\n",
       "        vertical-align: top;\n",
       "    }\n",
       "\n",
       "    .dataframe thead th {\n",
       "        text-align: right;\n",
       "    }\n",
       "</style>\n",
       "<table border=\"1\" class=\"dataframe\">\n",
       "  <thead>\n",
       "    <tr style=\"text-align: right;\">\n",
       "      <th></th>\n",
       "      <th>organization_name</th>\n",
       "      <th>organization_itp_id</th>\n",
       "      <th>organization_source_record_id</th>\n",
       "      <th>caltrans_district</th>\n",
       "      <th>_is_current</th>\n",
       "      <th>analysis_date</th>\n",
       "      <th>status</th>\n",
       "    </tr>\n",
       "  </thead>\n",
       "  <tbody>\n",
       "    <tr>\n",
       "      <th>0</th>\n",
       "      <td>Napa Valley Transportation Authority</td>\n",
       "      <td>218</td>\n",
       "      <td>rec9RGrya9SjWYp2p</td>\n",
       "      <td>04 - Oakland</td>\n",
       "      <td>False</td>\n",
       "      <td>2022-10-03</td>\n",
       "      <td>map_confirmed</td>\n",
       "    </tr>\n",
       "    <tr>\n",
       "      <th>17</th>\n",
       "      <td>Livermore / Amador\\n  Valley Transit Authority</td>\n",
       "      <td>167</td>\n",
       "      <td>recANs4M9yDhvDyob</td>\n",
       "      <td>04 - Oakland</td>\n",
       "      <td>False</td>\n",
       "      <td>2022-10-03</td>\n",
       "      <td>map_confirmed</td>\n",
       "    </tr>\n",
       "    <tr>\n",
       "      <th>0</th>\n",
       "      <td>Napa Valley Transportation Authority</td>\n",
       "      <td>218</td>\n",
       "      <td>rec9RGrya9SjWYp2p</td>\n",
       "      <td>04 - Oakland</td>\n",
       "      <td>False</td>\n",
       "      <td>2022-10-04</td>\n",
       "      <td>map_confirmed</td>\n",
       "    </tr>\n",
       "    <tr>\n",
       "      <th>17</th>\n",
       "      <td>Livermore / Amador\\n  Valley Transit Authority</td>\n",
       "      <td>167</td>\n",
       "      <td>recANs4M9yDhvDyob</td>\n",
       "      <td>04 - Oakland</td>\n",
       "      <td>False</td>\n",
       "      <td>2022-10-04</td>\n",
       "      <td>map_confirmed</td>\n",
       "    </tr>\n",
       "    <tr>\n",
       "      <th>0</th>\n",
       "      <td>Napa Valley Transportation Authority</td>\n",
       "      <td>218</td>\n",
       "      <td>rec9RGrya9SjWYp2p</td>\n",
       "      <td>04 - Oakland</td>\n",
       "      <td>False</td>\n",
       "      <td>2022-10-05</td>\n",
       "      <td>map_confirmed</td>\n",
       "    </tr>\n",
       "    <tr>\n",
       "      <th>17</th>\n",
       "      <td>Livermore / Amador\\n  Valley Transit Authority</td>\n",
       "      <td>167</td>\n",
       "      <td>recANs4M9yDhvDyob</td>\n",
       "      <td>04 - Oakland</td>\n",
       "      <td>False</td>\n",
       "      <td>2022-10-05</td>\n",
       "      <td>map_confirmed</td>\n",
       "    </tr>\n",
       "    <tr>\n",
       "      <th>0</th>\n",
       "      <td>Napa Valley Transportation Authority</td>\n",
       "      <td>218</td>\n",
       "      <td>rec9RGrya9SjWYp2p</td>\n",
       "      <td>04 - Oakland</td>\n",
       "      <td>False</td>\n",
       "      <td>2022-10-06</td>\n",
       "      <td>map_confirmed</td>\n",
       "    </tr>\n",
       "    <tr>\n",
       "      <th>17</th>\n",
       "      <td>Livermore / Amador\\n  Valley Transit Authority</td>\n",
       "      <td>167</td>\n",
       "      <td>recANs4M9yDhvDyob</td>\n",
       "      <td>04 - Oakland</td>\n",
       "      <td>False</td>\n",
       "      <td>2022-10-06</td>\n",
       "      <td>map_confirmed</td>\n",
       "    </tr>\n",
       "  </tbody>\n",
       "</table>\n",
       "</div>"
      ],
      "text/plain": [
       "                                 organization_name  organization_itp_id  \\\n",
       "0             Napa Valley Transportation Authority                  218   \n",
       "17  Livermore / Amador\\n  Valley Transit Authority                  167   \n",
       "0             Napa Valley Transportation Authority                  218   \n",
       "17  Livermore / Amador\\n  Valley Transit Authority                  167   \n",
       "0             Napa Valley Transportation Authority                  218   \n",
       "17  Livermore / Amador\\n  Valley Transit Authority                  167   \n",
       "0             Napa Valley Transportation Authority                  218   \n",
       "17  Livermore / Amador\\n  Valley Transit Authority                  167   \n",
       "\n",
       "   organization_source_record_id caltrans_district  _is_current analysis_date  \\\n",
       "0              rec9RGrya9SjWYp2p      04 - Oakland        False    2022-10-03   \n",
       "17             recANs4M9yDhvDyob      04 - Oakland        False    2022-10-03   \n",
       "0              rec9RGrya9SjWYp2p      04 - Oakland        False    2022-10-04   \n",
       "17             recANs4M9yDhvDyob      04 - Oakland        False    2022-10-04   \n",
       "0              rec9RGrya9SjWYp2p      04 - Oakland        False    2022-10-05   \n",
       "17             recANs4M9yDhvDyob      04 - Oakland        False    2022-10-05   \n",
       "0              rec9RGrya9SjWYp2p      04 - Oakland        False    2022-10-06   \n",
       "17             recANs4M9yDhvDyob      04 - Oakland        False    2022-10-06   \n",
       "\n",
       "           status  \n",
       "0   map_confirmed  \n",
       "17  map_confirmed  \n",
       "0   map_confirmed  \n",
       "17  map_confirmed  \n",
       "0   map_confirmed  \n",
       "17  map_confirmed  \n",
       "0   map_confirmed  \n",
       "17  map_confirmed  "
      ]
     },
     "execution_count": 42,
     "metadata": {},
     "output_type": "execute_result"
    }
   ],
   "source": [
    "four_days >> filter(_.organization_name.str.contains('Valley'))"
   ]
  },
  {
   "cell_type": "code",
   "execution_count": 5,
   "id": "392070de-84f2-4a9a-821c-dd48cfb10142",
   "metadata": {},
   "outputs": [],
   "source": [
    "# four_days >> count(_.organization_name, _.status, _.organization_itp_id)"
   ]
  },
  {
   "cell_type": "code",
   "execution_count": 6,
   "id": "76dabc07-e4aa-472a-b46a-e9b0394cb2de",
   "metadata": {},
   "outputs": [],
   "source": [
    "# four_days >> filter(_.status == 'already_ran')"
   ]
  },
  {
   "cell_type": "code",
   "execution_count": 7,
   "id": "4ebc8648-d9a7-473f-a3b8-d10eab75055a",
   "metadata": {},
   "outputs": [],
   "source": [
    "am_filter = {'period': 'am', 'filter_args': {'start_time': '06:00', 'end_time': '09:00'}}\n",
    "mid_filter = {'period': 'mid', 'filter_args': {'start_time': '10:00', 'end_time': '14:00'}}\n",
    "pm_filter = {'period': 'pm', 'filter_args': {'start_time': '15:00', 'end_time': '19:00'}}\n",
    "all_filters = [am_filter, mid_filter, pm_filter]"
   ]
  },
  {
   "cell_type": "code",
   "execution_count": 10,
   "id": "e29b8e01-832a-43c8-8791-ee81579e88f4",
   "metadata": {},
   "outputs": [
    {
     "data": {
      "text/plain": [
       "\u001b[0;31mSignature:\u001b[0m\n",
       "\u001b[0msignal_tools\u001b[0m\u001b[0;34m.\u001b[0m\u001b[0mconcatenate_speedmap_segments\u001b[0m\u001b[0;34m(\u001b[0m\u001b[0;34m\u001b[0m\n",
       "\u001b[0;34m\u001b[0m    \u001b[0mprogress_df\u001b[0m\u001b[0;34m:\u001b[0m \u001b[0mpandas\u001b[0m\u001b[0;34m.\u001b[0m\u001b[0mcore\u001b[0m\u001b[0;34m.\u001b[0m\u001b[0mframe\u001b[0m\u001b[0;34m.\u001b[0m\u001b[0mDataFrame\u001b[0m \u001b[0;34m=\u001b[0m \u001b[0;32mNone\u001b[0m\u001b[0;34m,\u001b[0m\u001b[0;34m\u001b[0m\n",
       "\u001b[0;34m\u001b[0m    \u001b[0mitp_id_list\u001b[0m\u001b[0;34m:\u001b[0m \u001b[0mlist\u001b[0m \u001b[0;34m=\u001b[0m \u001b[0;32mNone\u001b[0m\u001b[0;34m,\u001b[0m\u001b[0;34m\u001b[0m\n",
       "\u001b[0;34m\u001b[0m    \u001b[0manalysis_date\u001b[0m\u001b[0;34m:\u001b[0m \u001b[0mdatetime\u001b[0m\u001b[0;34m.\u001b[0m\u001b[0mdatetime\u001b[0m \u001b[0;34m=\u001b[0m \u001b[0;32mNone\u001b[0m\u001b[0;34m,\u001b[0m\u001b[0;34m\u001b[0m\n",
       "\u001b[0;34m\u001b[0m    \u001b[0mpbar\u001b[0m\u001b[0;34m:\u001b[0m \u001b[0mtqdm\u001b[0m\u001b[0;34m.\u001b[0m\u001b[0mnotebook\u001b[0m\u001b[0;34m.\u001b[0m\u001b[0mtqdm_notebook\u001b[0m \u001b[0;34m=\u001b[0m \u001b[0;32mNone\u001b[0m\u001b[0;34m,\u001b[0m\u001b[0;34m\u001b[0m\n",
       "\u001b[0;34m\u001b[0m    \u001b[0mfilter_args\u001b[0m\u001b[0;34m:\u001b[0m \u001b[0mdict\u001b[0m \u001b[0;34m=\u001b[0m \u001b[0;32mNone\u001b[0m\u001b[0;34m,\u001b[0m\u001b[0;34m\u001b[0m\n",
       "\u001b[0;34m\u001b[0m\u001b[0;34m)\u001b[0m\u001b[0;34m\u001b[0m\u001b[0;34m\u001b[0m\u001b[0m\n",
       "\u001b[0;31mDocstring:\u001b[0m\n",
       "get polygon segments from legacy speedmap workflow, with relevant ids attached\n",
       "relatively fast if already ran for date, slow otherwise\n",
       "\n",
       "progress_df: see data_analyses/ca_transit_speed_maps\n",
       "filter_dict: dict of args to RtFilterMapper.set_filter\n",
       "\u001b[0;31mFile:\u001b[0m      ~/data-analyses/rt_delay/rt_analysis/signal_tools.py\n",
       "\u001b[0;31mType:\u001b[0m      function"
      ]
     },
     "metadata": {},
     "output_type": "display_data"
    }
   ],
   "source": [
    "signal_tools.concatenate_speedmap_segments?"
   ]
  },
  {
   "cell_type": "code",
   "execution_count": 11,
   "id": "b82cdc34-41a8-483a-8656-6ee2cffe4a08",
   "metadata": {},
   "outputs": [
    {
     "data": {
      "application/vnd.jupyter.widget-view+json": {
       "model_id": "7e68ac7be5214470a803fd283018bcaf",
       "version_major": 2,
       "version_minor": 0
      },
      "text/plain": [
       "0it [00:00, ?it/s]"
      ]
     },
     "metadata": {},
     "output_type": "display_data"
    }
   ],
   "source": [
    "pbar = tqdm()"
   ]
  },
  {
   "cell_type": "markdown",
   "id": "f6ce3c4d-b4c2-4bb8-840b-87849ebd0ea3",
   "metadata": {},
   "source": [
    "## loop over dates, using `signal_tools` to aggregate all operators in each time period"
   ]
  },
  {
   "cell_type": "code",
   "execution_count": 12,
   "id": "e5a6ace6-aab5-41f1-9fb5-0133923baf89",
   "metadata": {
    "tags": []
   },
   "outputs": [],
   "source": [
    "# for date in dates:\n",
    "#     progress_df = pd.read_parquet(f'./_rt_progress_{date}.parquet')\n",
    "#     progress_df = progress_df >> filter(_.caltrans_district == '04 - Oakland') >> filter(_.status == 'map_confirmed')\n",
    "#     gdfs = {}\n",
    "#     for time_filter in all_filters:\n",
    "#         gdfs[time_filter['period']] = signal_tools.concatenate_speedmap_segments(progress_df = progress_df, pbar=pbar, filter_args=time_filter['filter_args'])\n",
    "#     for period in gdfs.keys():\n",
    "#         gdfs[period].to_parquet(f'_{date}_{period}.parquet')"
   ]
  },
  {
   "cell_type": "markdown",
   "id": "745d9ae2-2f3a-4cce-8a93-ca90b9e18e31",
   "metadata": {},
   "source": [
    "## concatenate/aggregate 4 day period\n",
    "\n",
    "* start by aggregating metrics for each time of day period across all dates/operators\n",
    "* then prefix am/mid/pm observations and concat"
   ]
  },
  {
   "cell_type": "code",
   "execution_count": 13,
   "id": "cb0f38f4-6794-41cb-915a-c863405fee96",
   "metadata": {},
   "outputs": [],
   "source": [
    "def read_all_dates(period):\n",
    "    gdfs = []\n",
    "    for date in dates:\n",
    "        gdfs += [gpd.read_parquet(f'_{date}_{period}.parquet')]\n",
    "    return pd.concat(gdfs)"
   ]
  },
  {
   "cell_type": "code",
   "execution_count": 14,
   "id": "ae22f092-0e82-47ed-8784-320ff68bce47",
   "metadata": {},
   "outputs": [],
   "source": [
    "all_am = read_all_dates('am')"
   ]
  },
  {
   "cell_type": "code",
   "execution_count": 15,
   "id": "17989d2d-aba1-4226-9c1d-ccde34dda261",
   "metadata": {},
   "outputs": [],
   "source": [
    "all_pm = read_all_dates('pm')"
   ]
  },
  {
   "cell_type": "code",
   "execution_count": 16,
   "id": "6adecc56-7b15-4e67-a0fc-c8fb225a7bc1",
   "metadata": {},
   "outputs": [],
   "source": [
    "all_mid = read_all_dates('mid')"
   ]
  },
  {
   "cell_type": "code",
   "execution_count": 17,
   "id": "9457b50e-0314-4a33-a322-07520d44fb1f",
   "metadata": {},
   "outputs": [],
   "source": [
    "group_cols = ['geometry', 'shape_id', 'stop_sequence',\n",
    "       'route_id', 'route_short_name', 'direction_id', 'gtfs_dataset_key', 'organization_name',\n",
    "             'miles_from_last']"
   ]
  },
  {
   "cell_type": "code",
   "execution_count": 18,
   "id": "8f44434b-81e1-4b37-a835-c79a26d195de",
   "metadata": {},
   "outputs": [],
   "source": [
    "prefix_cols = ['p50_mph', 'p20_mph',\n",
    "       'p80_mph', 'fast_slow_ratio', 'trips_per_hour',\n",
    "       'time_formatted', 'system_p50_median', 'n_weekdays']"
   ]
  },
  {
   "cell_type": "code",
   "execution_count": 19,
   "id": "c9da37d2-e818-4810-ba92-e18dc0b59b40",
   "metadata": {},
   "outputs": [],
   "source": [
    "def aggregate_prefix(period_concat_df, period):\n",
    "\n",
    "    counts = (period_concat_df >> count(_.shape_id, _.stop_sequence, _.gtfs_dataset_key, _.organization_name)\n",
    "          >> select(_.shape_id, _.stop_sequence, _.gtfs_dataset_key, _.organization_name, _.n_weekdays == _.n))\n",
    "    all_period_agged = period_concat_df.groupby(group_cols).median().reset_index()\n",
    "    all_period_agged = all_period_agged >> inner_join(_, counts, on = ['shape_id', 'stop_sequence', 'gtfs_dataset_key', 'organization_name'])\n",
    "    prefix = period + '_'\n",
    "    prefixed = [prefix + col for col in prefix_cols]\n",
    "    rename_dict = dict(zip(prefix_cols, prefixed))\n",
    "    all_period_agged = all_period_agged.rename(columns=rename_dict)\n",
    "    \n",
    "    return all_period_agged"
   ]
  },
  {
   "cell_type": "code",
   "execution_count": 20,
   "id": "af8f4369-2dbc-44d4-aa86-3228c0990a57",
   "metadata": {},
   "outputs": [
    {
     "name": "stderr",
     "output_type": "stream",
     "text": [
      "/tmp/ipykernel_300/3872286970.py:5: FutureWarning: The default value of numeric_only in DataFrameGroupBy.median is deprecated. In a future version, numeric_only will default to False. Either specify numeric_only or select only columns which should be valid for the function.\n",
      "  all_period_agged = period_concat_df.groupby(group_cols).median().reset_index()\n"
     ]
    }
   ],
   "source": [
    "am_prefixed = aggregate_prefix(all_am, 'am')"
   ]
  },
  {
   "cell_type": "code",
   "execution_count": 21,
   "id": "13f77cfe-0a9b-4677-b703-593bb8a88393",
   "metadata": {},
   "outputs": [
    {
     "name": "stderr",
     "output_type": "stream",
     "text": [
      "/tmp/ipykernel_300/3872286970.py:5: FutureWarning: The default value of numeric_only in DataFrameGroupBy.median is deprecated. In a future version, numeric_only will default to False. Either specify numeric_only or select only columns which should be valid for the function.\n",
      "  all_period_agged = period_concat_df.groupby(group_cols).median().reset_index()\n"
     ]
    }
   ],
   "source": [
    "pm_prefixed = aggregate_prefix(all_pm, 'pm')"
   ]
  },
  {
   "cell_type": "code",
   "execution_count": 22,
   "id": "44538a80-d906-4428-8da3-bdaf04797903",
   "metadata": {},
   "outputs": [
    {
     "name": "stderr",
     "output_type": "stream",
     "text": [
      "/tmp/ipykernel_300/3872286970.py:5: FutureWarning: The default value of numeric_only in DataFrameGroupBy.median is deprecated. In a future version, numeric_only will default to False. Either specify numeric_only or select only columns which should be valid for the function.\n",
      "  all_period_agged = period_concat_df.groupby(group_cols).median().reset_index()\n"
     ]
    }
   ],
   "source": [
    "mid_prefixed = aggregate_prefix(all_mid, 'mid')"
   ]
  },
  {
   "cell_type": "code",
   "execution_count": 23,
   "id": "07a5f129-82d0-43bb-9a75-dfbfe5e24e12",
   "metadata": {},
   "outputs": [],
   "source": [
    "joined = (am_prefixed >> full_join(_, mid_prefixed, on=group_cols)\n",
    "          >> full_join(_, pm_prefixed, on=group_cols)\n",
    "         \n",
    "         )"
   ]
  },
  {
   "cell_type": "code",
   "execution_count": 24,
   "id": "11b060c0-d986-4725-9bd3-f196014b69f4",
   "metadata": {},
   "outputs": [
    {
     "data": {
      "text/plain": [
       "Index(['geometry', 'shape_id', 'stop_sequence', 'route_id', 'route_short_name',\n",
       "       'direction_id', 'gtfs_dataset_key', 'organization_name',\n",
       "       'miles_from_last', 'am_p50_mph', 'am_p20_mph', 'am_p80_mph',\n",
       "       'am_fast_slow_ratio', 'am_trips_per_hour', 'am_system_p50_median',\n",
       "       'am_n_weekdays', 'mid_p50_mph', 'mid_p20_mph', 'mid_p80_mph',\n",
       "       'mid_fast_slow_ratio', 'mid_trips_per_hour', 'mid_system_p50_median',\n",
       "       'mid_n_weekdays', 'pm_p50_mph', 'pm_p20_mph', 'pm_p80_mph',\n",
       "       'pm_fast_slow_ratio', 'pm_trips_per_hour', 'pm_system_p50_median',\n",
       "       'pm_n_weekdays'],\n",
       "      dtype='object')"
      ]
     },
     "execution_count": 24,
     "metadata": {},
     "output_type": "execute_result"
    }
   ],
   "source": [
    "joined.columns"
   ]
  },
  {
   "cell_type": "markdown",
   "id": "88646d32-27b9-4fc9-b9fa-0ec289ff67f6",
   "metadata": {},
   "source": [
    "## re-add stop id and stop name\n",
    "\n",
    "* can't group on these since not present for virtual segments!"
   ]
  },
  {
   "cell_type": "code",
   "execution_count": 25,
   "id": "d99c6350-69cc-48f5-bde5-5db87f71c4b8",
   "metadata": {},
   "outputs": [],
   "source": [
    "df = pd.concat([all_am, all_mid, all_pm]) >> distinct(_.shape_id, _.stop_sequence, _.gtfs_dataset_key,\n",
    "                                                     _.stop_id, _.stop_name)"
   ]
  },
  {
   "cell_type": "code",
   "execution_count": 26,
   "id": "42b08558-a103-4d2e-bf6f-a48581a93bad",
   "metadata": {},
   "outputs": [],
   "source": [
    "joined = joined >> left_join(_, df, on=['shape_id', 'stop_sequence', 'gtfs_dataset_key'])"
   ]
  },
  {
   "cell_type": "code",
   "execution_count": 27,
   "id": "7f16f329-6a98-43bb-a521-e36b7d37ed1b",
   "metadata": {},
   "outputs": [
    {
     "data": {
      "text/html": [
       "<div>\n",
       "<style scoped>\n",
       "    .dataframe tbody tr th:only-of-type {\n",
       "        vertical-align: middle;\n",
       "    }\n",
       "\n",
       "    .dataframe tbody tr th {\n",
       "        vertical-align: top;\n",
       "    }\n",
       "\n",
       "    .dataframe thead th {\n",
       "        text-align: right;\n",
       "    }\n",
       "</style>\n",
       "<table border=\"1\" class=\"dataframe\">\n",
       "  <thead>\n",
       "    <tr style=\"text-align: right;\">\n",
       "      <th></th>\n",
       "      <th>stop_id</th>\n",
       "      <th>stop_name</th>\n",
       "      <th>n</th>\n",
       "    </tr>\n",
       "  </thead>\n",
       "  <tbody>\n",
       "    <tr>\n",
       "      <th>13930</th>\n",
       "      <td>NaN</td>\n",
       "      <td>NaN</td>\n",
       "      <td>5178</td>\n",
       "    </tr>\n",
       "    <tr>\n",
       "      <th>7687</th>\n",
       "      <td>55120</td>\n",
       "      <td>Decoto Rd &amp; Brookmill Dr</td>\n",
       "      <td>20</td>\n",
       "    </tr>\n",
       "    <tr>\n",
       "      <th>8217</th>\n",
       "      <td>55877</td>\n",
       "      <td>Decoto Rd &amp; Alvarado-Niles Rd</td>\n",
       "      <td>20</td>\n",
       "    </tr>\n",
       "    <tr>\n",
       "      <th>9180</th>\n",
       "      <td>58033</td>\n",
       "      <td>Mission Bell Dr &amp; College Ln</td>\n",
       "      <td>20</td>\n",
       "    </tr>\n",
       "    <tr>\n",
       "      <th>11659</th>\n",
       "      <td>821017</td>\n",
       "      <td>Curtola Park &amp; Ride</td>\n",
       "      <td>19</td>\n",
       "    </tr>\n",
       "    <tr>\n",
       "      <th>...</th>\n",
       "      <td>...</td>\n",
       "      <td>...</td>\n",
       "      <td>...</td>\n",
       "    </tr>\n",
       "    <tr>\n",
       "      <th>13914</th>\n",
       "      <td>893219</td>\n",
       "      <td>Old Sonoma Rd at Underhill Dr NE</td>\n",
       "      <td>1</td>\n",
       "    </tr>\n",
       "    <tr>\n",
       "      <th>13915</th>\n",
       "      <td>893220</td>\n",
       "      <td>Old Sonoma Rd at S Seymour St</td>\n",
       "      <td>1</td>\n",
       "    </tr>\n",
       "    <tr>\n",
       "      <th>13922</th>\n",
       "      <td>89328</td>\n",
       "      <td>Foothill Blvd at Elm St</td>\n",
       "      <td>1</td>\n",
       "    </tr>\n",
       "    <tr>\n",
       "      <th>13923</th>\n",
       "      <td>89329</td>\n",
       "      <td>Laurel St at Jade Ct</td>\n",
       "      <td>1</td>\n",
       "    </tr>\n",
       "    <tr>\n",
       "      <th>13928</th>\n",
       "      <td>89342</td>\n",
       "      <td>Soscol Ave At Clinton St</td>\n",
       "      <td>1</td>\n",
       "    </tr>\n",
       "  </tbody>\n",
       "</table>\n",
       "<p>13931 rows × 3 columns</p>\n",
       "</div>"
      ],
      "text/plain": [
       "      stop_id                         stop_name     n\n",
       "13930     NaN                               NaN  5178\n",
       "7687    55120          Decoto Rd & Brookmill Dr    20\n",
       "8217    55877     Decoto Rd & Alvarado-Niles Rd    20\n",
       "9180    58033      Mission Bell Dr & College Ln    20\n",
       "11659  821017               Curtola Park & Ride    19\n",
       "...       ...                               ...   ...\n",
       "13914  893219  Old Sonoma Rd at Underhill Dr NE     1\n",
       "13915  893220     Old Sonoma Rd at S Seymour St     1\n",
       "13922   89328           Foothill Blvd at Elm St     1\n",
       "13923   89329              Laurel St at Jade Ct     1\n",
       "13928   89342          Soscol Ave At Clinton St     1\n",
       "\n",
       "[13931 rows x 3 columns]"
      ]
     },
     "execution_count": 27,
     "metadata": {},
     "output_type": "execute_result"
    }
   ],
   "source": [
    "joined >> count(_.stop_id, _.stop_name) >> arrange(-_.n)"
   ]
  },
  {
   "cell_type": "code",
   "execution_count": 28,
   "id": "813f9691-e687-44cc-9401-6df47e03cfaf",
   "metadata": {},
   "outputs": [],
   "source": [
    "joined = gpd.GeoDataFrame(joined)"
   ]
  },
  {
   "cell_type": "code",
   "execution_count": 29,
   "id": "4478b836-09f5-4b65-a9ff-a6deb46d0258",
   "metadata": {},
   "outputs": [
    {
     "data": {
      "text/plain": [
       "<Projected CRS: EPSG:3310>\n",
       "Name: NAD83 / California Albers\n",
       "Axis Info [cartesian]:\n",
       "- X[east]: Easting (metre)\n",
       "- Y[north]: Northing (metre)\n",
       "Area of Use:\n",
       "- name: United States (USA) - California.\n",
       "- bounds: (-124.45, 32.53, -114.12, 42.01)\n",
       "Coordinate Operation:\n",
       "- name: California Albers\n",
       "- method: Albers Equal Area\n",
       "Datum: North American Datum 1983\n",
       "- Ellipsoid: GRS 1980\n",
       "- Prime Meridian: Greenwich"
      ]
     },
     "execution_count": 29,
     "metadata": {},
     "output_type": "execute_result"
    }
   ],
   "source": [
    "joined.crs"
   ]
  },
  {
   "cell_type": "code",
   "execution_count": 30,
   "id": "a297d9be-1d67-4b15-ad1f-e0b6c55dad20",
   "metadata": {},
   "outputs": [],
   "source": [
    "# (joined >> filter(_.stop_id.isna())).explore()"
   ]
  },
  {
   "cell_type": "code",
   "execution_count": 31,
   "id": "f8fdffb9-af48-459b-bf3a-bcad324f12f9",
   "metadata": {},
   "outputs": [],
   "source": [
    "joined.to_parquet('d4_oct3_oct7.parquet')"
   ]
  },
  {
   "cell_type": "code",
   "execution_count": 33,
   "id": "82213996-65b8-4526-a400-0def3ecb8997",
   "metadata": {},
   "outputs": [],
   "source": [
    "mtc = gpd.read_parquet('./d4_apr10_apr13_express_fixed2.parquet')"
   ]
  },
  {
   "cell_type": "code",
   "execution_count": 35,
   "id": "2b056a2d-3257-41ab-be4a-eaa72aad6827",
   "metadata": {},
   "outputs": [
    {
     "data": {
      "text/html": [
       "<div>\n",
       "<style scoped>\n",
       "    .dataframe tbody tr th:only-of-type {\n",
       "        vertical-align: middle;\n",
       "    }\n",
       "\n",
       "    .dataframe tbody tr th {\n",
       "        vertical-align: top;\n",
       "    }\n",
       "\n",
       "    .dataframe thead th {\n",
       "        text-align: right;\n",
       "    }\n",
       "</style>\n",
       "<table border=\"1\" class=\"dataframe\">\n",
       "  <thead>\n",
       "    <tr style=\"text-align: right;\">\n",
       "      <th></th>\n",
       "      <th>organization_name</th>\n",
       "    </tr>\n",
       "  </thead>\n",
       "  <tbody>\n",
       "    <tr>\n",
       "      <th>9</th>\n",
       "      <td>City of Petaluma</td>\n",
       "    </tr>\n",
       "    <tr>\n",
       "      <th>13</th>\n",
       "      <td>Contra Costa County Transportation Authority</td>\n",
       "    </tr>\n",
       "    <tr>\n",
       "      <th>15</th>\n",
       "      <td>Livermore / Amador\\n  Valley Transit Authority</td>\n",
       "    </tr>\n",
       "  </tbody>\n",
       "</table>\n",
       "</div>"
      ],
      "text/plain": [
       "                                 organization_name\n",
       "9                                 City of Petaluma\n",
       "13    Contra Costa County Transportation Authority\n",
       "15  Livermore / Amador\\n  Valley Transit Authority"
      ]
     },
     "execution_count": 35,
     "metadata": {},
     "output_type": "execute_result"
    }
   ],
   "source": [
    "joined >> distinct(_.organization_name) >> filter(-_.organization_name.isin(mtc.organization_name))"
   ]
  },
  {
   "cell_type": "code",
   "execution_count": 36,
   "id": "c4a2244d-49ea-4020-80e8-fc62022c0528",
   "metadata": {},
   "outputs": [
    {
     "data": {
      "text/html": [
       "<div>\n",
       "<style scoped>\n",
       "    .dataframe tbody tr th:only-of-type {\n",
       "        vertical-align: middle;\n",
       "    }\n",
       "\n",
       "    .dataframe tbody tr th {\n",
       "        vertical-align: top;\n",
       "    }\n",
       "\n",
       "    .dataframe thead th {\n",
       "        text-align: right;\n",
       "    }\n",
       "</style>\n",
       "<table border=\"1\" class=\"dataframe\">\n",
       "  <thead>\n",
       "    <tr style=\"text-align: right;\">\n",
       "      <th></th>\n",
       "      <th>organization_name</th>\n",
       "    </tr>\n",
       "  </thead>\n",
       "  <tbody>\n",
       "    <tr>\n",
       "      <th>4</th>\n",
       "      <td>Golden Gate Bridge, Highway and Transportation...</td>\n",
       "    </tr>\n",
       "    <tr>\n",
       "      <th>7</th>\n",
       "      <td>University of California, Berkeley</td>\n",
       "    </tr>\n",
       "    <tr>\n",
       "      <th>10</th>\n",
       "      <td>Cloverdale Transit</td>\n",
       "    </tr>\n",
       "    <tr>\n",
       "      <th>12</th>\n",
       "      <td>City of Santa Rosa</td>\n",
       "    </tr>\n",
       "    <tr>\n",
       "      <th>15</th>\n",
       "      <td>Solano Transportation Authority</td>\n",
       "    </tr>\n",
       "    <tr>\n",
       "      <th>16</th>\n",
       "      <td>Western Contra Costa Transit Authority</td>\n",
       "    </tr>\n",
       "    <tr>\n",
       "      <th>17</th>\n",
       "      <td>Central Contra Costa Transit Authority</td>\n",
       "    </tr>\n",
       "    <tr>\n",
       "      <th>19</th>\n",
       "      <td>Livermore / Amador Valley Transit Authority</td>\n",
       "    </tr>\n",
       "    <tr>\n",
       "      <th>22</th>\n",
       "      <td>Santa Clara Valley Transportation Authority</td>\n",
       "    </tr>\n",
       "  </tbody>\n",
       "</table>\n",
       "</div>"
      ],
      "text/plain": [
       "                                    organization_name\n",
       "4   Golden Gate Bridge, Highway and Transportation...\n",
       "7                  University of California, Berkeley\n",
       "10                                 Cloverdale Transit\n",
       "12                                 City of Santa Rosa\n",
       "15                    Solano Transportation Authority\n",
       "16             Western Contra Costa Transit Authority\n",
       "17             Central Contra Costa Transit Authority\n",
       "19        Livermore / Amador Valley Transit Authority\n",
       "22        Santa Clara Valley Transportation Authority"
      ]
     },
     "execution_count": 36,
     "metadata": {},
     "output_type": "execute_result"
    }
   ],
   "source": [
    "mtc >> distinct(_.organization_name) >> filter(-_.organization_name.isin(joined.organization_name))"
   ]
  },
  {
   "cell_type": "code",
   "execution_count": 38,
   "id": "187259df-d41c-4abb-bc07-911766104eb3",
   "metadata": {},
   "outputs": [
    {
     "data": {
      "text/plain": [
       "(66602, 32)"
      ]
     },
     "execution_count": 38,
     "metadata": {},
     "output_type": "execute_result"
    }
   ],
   "source": [
    "mtc.shape"
   ]
  },
  {
   "cell_type": "code",
   "execution_count": 39,
   "id": "c7de1947-9f2e-4702-8e17-9860db82b13b",
   "metadata": {},
   "outputs": [
    {
     "data": {
      "text/plain": [
       "(42911, 32)"
      ]
     },
     "execution_count": 39,
     "metadata": {},
     "output_type": "execute_result"
    }
   ],
   "source": [
    "joined.shape"
   ]
  },
  {
   "cell_type": "code",
   "execution_count": 40,
   "id": "7733215f-bdd7-4f43-b6f1-bf615102685d",
   "metadata": {},
   "outputs": [],
   "source": [
    "joined.to_file('d4_oct3_oct6_2022.geojson')"
   ]
  },
  {
   "cell_type": "code",
   "execution_count": null,
   "id": "301a38fd-eab9-4774-9676-a56d0bb2d419",
   "metadata": {},
   "outputs": [],
   "source": []
  }
 ],
 "metadata": {
  "kernelspec": {
   "display_name": "Python 3 (ipykernel)",
   "language": "python",
   "name": "python3"
  },
  "language_info": {
   "codemirror_mode": {
    "name": "ipython",
    "version": 3
   },
   "file_extension": ".py",
   "mimetype": "text/x-python",
   "name": "python",
   "nbconvert_exporter": "python",
   "pygments_lexer": "ipython3",
   "version": "3.9.13"
  },
  "widgets": {
   "application/vnd.jupyter.widget-state+json": {
    "state": {
     "1738cc9d339f495c8c5d7216284036a9": {
      "model_module": "@jupyter-widgets/base",
      "model_module_version": "1.2.0",
      "model_name": "LayoutModel",
      "state": {
       "width": "20px"
      }
     },
     "23b2ab8a75fa4169b87add11235e3de6": {
      "model_module": "@jupyter-widgets/controls",
      "model_module_version": "1.5.0",
      "model_name": "HTMLModel",
      "state": {
       "layout": "IPY_MODEL_d6b5f3eec5304e12bfeeeece62e7cafe",
       "style": "IPY_MODEL_44cd5ab41c2e46b0bda1dc9103eeb9df",
       "value": " 0/? [00:00&lt;?, ?it/s]"
      }
     },
     "4278996cd4184750866412d7499410a8": {
      "model_module": "@jupyter-widgets/base",
      "model_module_version": "1.2.0",
      "model_name": "LayoutModel",
      "state": {}
     },
     "44cd5ab41c2e46b0bda1dc9103eeb9df": {
      "model_module": "@jupyter-widgets/controls",
      "model_module_version": "1.5.0",
      "model_name": "DescriptionStyleModel",
      "state": {
       "description_width": ""
      }
     },
     "5b533119f88944779a9fea980dc08861": {
      "model_module": "@jupyter-widgets/controls",
      "model_module_version": "1.5.0",
      "model_name": "DescriptionStyleModel",
      "state": {
       "description_width": ""
      }
     },
     "623f13506abe412783fe0c01e9174eca": {
      "model_module": "@jupyter-widgets/controls",
      "model_module_version": "1.5.0",
      "model_name": "HBoxModel",
      "state": {
       "children": [
        "IPY_MODEL_812b2b8806fc4751bfcbc5e402853aa1",
        "IPY_MODEL_a3c07c49c69649f3be3e655798ec3e74",
        "IPY_MODEL_23b2ab8a75fa4169b87add11235e3de6"
       ],
       "layout": "IPY_MODEL_4278996cd4184750866412d7499410a8"
      }
     },
     "68ca3a41b48440faa1e4830a13f40446": {
      "model_module": "@jupyter-widgets/controls",
      "model_module_version": "1.5.0",
      "model_name": "HTMLModel",
      "state": {
       "layout": "IPY_MODEL_c5d55fc94a40432e98e4df198368913b",
       "style": "IPY_MODEL_9228534e69b1491fa9aa7d78ec9639e9"
      }
     },
     "7e68ac7be5214470a803fd283018bcaf": {
      "model_module": "@jupyter-widgets/controls",
      "model_module_version": "1.5.0",
      "model_name": "HBoxModel",
      "state": {
       "children": [
        "IPY_MODEL_68ca3a41b48440faa1e4830a13f40446",
        "IPY_MODEL_806223b7e5a247d0a8dc861ad5261ac8",
        "IPY_MODEL_d96c0daf05414834af1ad784779349ec"
       ],
       "layout": "IPY_MODEL_fad36e996f524a61b534b729719e2cfe"
      }
     },
     "806223b7e5a247d0a8dc861ad5261ac8": {
      "model_module": "@jupyter-widgets/controls",
      "model_module_version": "1.5.0",
      "model_name": "FloatProgressModel",
      "state": {
       "bar_style": "success",
       "layout": "IPY_MODEL_d90437c6b4844b5aa8abe40cf895dd84",
       "max": 1,
       "style": "IPY_MODEL_f4ea25fed8744c5d8bb6314053d5b7ae"
      }
     },
     "812b2b8806fc4751bfcbc5e402853aa1": {
      "model_module": "@jupyter-widgets/controls",
      "model_module_version": "1.5.0",
      "model_name": "HTMLModel",
      "state": {
       "layout": "IPY_MODEL_ae13a40266c64834a8316b419375f265",
       "style": "IPY_MODEL_cc72ca807bee4aed89dad0c051190de5"
      }
     },
     "8225fdba51ec4a88b77a8874cc99dce3": {
      "model_module": "@jupyter-widgets/controls",
      "model_module_version": "1.5.0",
      "model_name": "ProgressStyleModel",
      "state": {
       "description_width": ""
      }
     },
     "9228534e69b1491fa9aa7d78ec9639e9": {
      "model_module": "@jupyter-widgets/controls",
      "model_module_version": "1.5.0",
      "model_name": "DescriptionStyleModel",
      "state": {
       "description_width": ""
      }
     },
     "a3c07c49c69649f3be3e655798ec3e74": {
      "model_module": "@jupyter-widgets/controls",
      "model_module_version": "1.5.0",
      "model_name": "FloatProgressModel",
      "state": {
       "bar_style": "info",
       "layout": "IPY_MODEL_1738cc9d339f495c8c5d7216284036a9",
       "max": 1,
       "style": "IPY_MODEL_8225fdba51ec4a88b77a8874cc99dce3"
      }
     },
     "ae13a40266c64834a8316b419375f265": {
      "model_module": "@jupyter-widgets/base",
      "model_module_version": "1.2.0",
      "model_name": "LayoutModel",
      "state": {}
     },
     "c5d55fc94a40432e98e4df198368913b": {
      "model_module": "@jupyter-widgets/base",
      "model_module_version": "1.2.0",
      "model_name": "LayoutModel",
      "state": {}
     },
     "cc72ca807bee4aed89dad0c051190de5": {
      "model_module": "@jupyter-widgets/controls",
      "model_module_version": "1.5.0",
      "model_name": "DescriptionStyleModel",
      "state": {
       "description_width": ""
      }
     },
     "d6b5f3eec5304e12bfeeeece62e7cafe": {
      "model_module": "@jupyter-widgets/base",
      "model_module_version": "1.2.0",
      "model_name": "LayoutModel",
      "state": {}
     },
     "d90437c6b4844b5aa8abe40cf895dd84": {
      "model_module": "@jupyter-widgets/base",
      "model_module_version": "1.2.0",
      "model_name": "LayoutModel",
      "state": {
       "width": "20px"
      }
     },
     "d96c0daf05414834af1ad784779349ec": {
      "model_module": "@jupyter-widgets/controls",
      "model_module_version": "1.5.0",
      "model_name": "HTMLModel",
      "state": {
       "layout": "IPY_MODEL_da511445058c4e1cb64fdf2d1f068932",
       "style": "IPY_MODEL_5b533119f88944779a9fea980dc08861",
       "value": " 0/? [07:09&lt;?, ?it/s]"
      }
     },
     "da511445058c4e1cb64fdf2d1f068932": {
      "model_module": "@jupyter-widgets/base",
      "model_module_version": "1.2.0",
      "model_name": "LayoutModel",
      "state": {}
     },
     "f4ea25fed8744c5d8bb6314053d5b7ae": {
      "model_module": "@jupyter-widgets/controls",
      "model_module_version": "1.5.0",
      "model_name": "ProgressStyleModel",
      "state": {
       "description_width": ""
      }
     },
     "fad36e996f524a61b534b729719e2cfe": {
      "model_module": "@jupyter-widgets/base",
      "model_module_version": "1.2.0",
      "model_name": "LayoutModel",
      "state": {}
     }
    },
    "version_major": 2,
    "version_minor": 0
   }
  }
 },
 "nbformat": 4,
 "nbformat_minor": 5
}
