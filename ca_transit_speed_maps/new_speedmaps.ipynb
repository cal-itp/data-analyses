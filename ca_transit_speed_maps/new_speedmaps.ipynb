{
 "cells": [
  {
   "cell_type": "code",
   "execution_count": 15,
   "id": "46898b5c-b5cc-4096-ab68-8c3e42fab870",
   "metadata": {},
   "outputs": [],
   "source": [
    "%%capture\n",
    "import warnings\n",
    "warnings.filterwarnings('ignore')\n",
    "\n",
    "import calitp_data_analysis.magics\n",
    "\n",
    "from rt_analysis import rt_filter_map_plot\n",
    "import build_speedmaps_index\n",
    "\n",
    "from IPython.display import display, Markdown\n",
    "import pandas as pd\n",
    "import geopandas as gpd\n",
    "from siuba import *\n",
    "\n",
    "from segment_speed_utils.project_vars import (\n",
    "    COMPILED_CACHED_VIEWS,\n",
    "    PROJECT_CRS,\n",
    "    SEGMENT_GCS,\n",
    ")"
   ]
  },
  {
   "cell_type": "code",
   "execution_count": 2,
   "id": "2e268961-6125-4fe6-a654-0592a6e949c0",
   "metadata": {},
   "outputs": [],
   "source": [
    "from IPython.core.magic import register_cell_magic"
   ]
  },
  {
   "cell_type": "code",
   "execution_count": 25,
   "id": "9f15ed6a-5ab7-4f57-9695-3f762781b74c",
   "metadata": {
    "tags": [
     "parameters"
    ]
   },
   "outputs": [],
   "source": [
    "## parameters cell\n",
    "itp_id = 300"
   ]
  },
  {
   "cell_type": "code",
   "execution_count": 26,
   "id": "a639fd84-29ca-4678-b568-2b1022701e14",
   "metadata": {},
   "outputs": [],
   "source": [
    "analysis_date = build_speedmaps_index.ANALYSIS_DATE\n",
    "import datetime as dt\n",
    "# if itp_id == 293:\n",
    "#     analysis_date = dt.date(2023, 9, 13)"
   ]
  },
  {
   "cell_type": "code",
   "execution_count": 27,
   "id": "eea40f4b-c378-4b70-a80b-bbe79f8441bf",
   "metadata": {},
   "outputs": [],
   "source": [
    "speedmap_index = pd.read_parquet(f'_rt_progress_{analysis_date}.parquet') >> filter(_.organization_itp_id == itp_id)"
   ]
  },
  {
   "cell_type": "code",
   "execution_count": 28,
   "id": "c54b78fd-de92-45d9-b54d-49c5b88945c7",
   "metadata": {},
   "outputs": [
    {
     "data": {
      "text/html": [
       "<div>\n",
       "<style scoped>\n",
       "    .dataframe tbody tr th:only-of-type {\n",
       "        vertical-align: middle;\n",
       "    }\n",
       "\n",
       "    .dataframe tbody tr th {\n",
       "        vertical-align: top;\n",
       "    }\n",
       "\n",
       "    .dataframe thead th {\n",
       "        text-align: right;\n",
       "    }\n",
       "</style>\n",
       "<table border=\"1\" class=\"dataframe\">\n",
       "  <thead>\n",
       "    <tr style=\"text-align: right;\">\n",
       "      <th></th>\n",
       "      <th>organization_name</th>\n",
       "      <th>organization_itp_id</th>\n",
       "      <th>organization_source_record_id</th>\n",
       "      <th>caltrans_district</th>\n",
       "      <th>_is_current</th>\n",
       "      <th>analysis_date</th>\n",
       "      <th>schedule_gtfs_dataset_key</th>\n",
       "      <th>status</th>\n",
       "    </tr>\n",
       "  </thead>\n",
       "  <tbody>\n",
       "    <tr>\n",
       "      <th>53</th>\n",
       "      <td>City of Santa Monica</td>\n",
       "      <td>300</td>\n",
       "      <td>recJHFDLpGRMIFgnL</td>\n",
       "      <td>07 - Los Angeles</td>\n",
       "      <td>True</td>\n",
       "      <td>2024-04-17</td>\n",
       "      <td>efbbd5293be71f7a5de0cf82b59febe1</td>\n",
       "      <td>not_yet_run</td>\n",
       "    </tr>\n",
       "  </tbody>\n",
       "</table>\n",
       "</div>"
      ],
      "text/plain": [
       "       organization_name  organization_itp_id organization_source_record_id  \\\n",
       "53  City of Santa Monica                  300             recJHFDLpGRMIFgnL   \n",
       "\n",
       "   caltrans_district  _is_current analysis_date  \\\n",
       "53  07 - Los Angeles         True    2024-04-17   \n",
       "\n",
       "           schedule_gtfs_dataset_key       status  \n",
       "53  efbbd5293be71f7a5de0cf82b59febe1  not_yet_run  "
      ]
     },
     "execution_count": 28,
     "metadata": {},
     "output_type": "execute_result"
    }
   ],
   "source": [
    "speedmap_index"
   ]
  },
  {
   "cell_type": "code",
   "execution_count": 29,
   "id": "76edaa5c-039e-419a-ade6-15ebdc018b3c",
   "metadata": {},
   "outputs": [
    {
     "data": {
      "text/plain": [
       "'gs://calitp-analytics-data/data-analyses/rt_segment_speeds/'"
      ]
     },
     "execution_count": 29,
     "metadata": {},
     "output_type": "execute_result"
    }
   ],
   "source": [
    "SEGMENT_GCS"
   ]
  },
  {
   "cell_type": "code",
   "execution_count": 30,
   "id": "28317d9e-9f9e-493c-889e-78b8099004e5",
   "metadata": {},
   "outputs": [],
   "source": [
    "speedmap_segs = gpd.read_parquet(f'{SEGMENT_GCS}segment_options/speedmap_segments_{analysis_date}.parquet')"
   ]
  },
  {
   "cell_type": "code",
   "execution_count": 31,
   "id": "19dbeff0-faf6-43e3-9edf-6e68dfeceeac",
   "metadata": {},
   "outputs": [
    {
     "data": {
      "text/plain": [
       "Index(['trip_instance_key', 'shape_array_key', 'stop_id1', 'stop_sequence',\n",
       "       'geometry', 'stop_id2', 'segment_id', 'stop_pair',\n",
       "       'schedule_gtfs_dataset_key', 'route_id', 'direction_id',\n",
       "       'stop_sequence1'],\n",
       "      dtype='object')"
      ]
     },
     "execution_count": 31,
     "metadata": {},
     "output_type": "execute_result"
    }
   ],
   "source": [
    "speedmap_segs.columns"
   ]
  },
  {
   "cell_type": "code",
   "execution_count": 32,
   "id": "9f3c4c93-a5f5-40d7-9315-63e4fecbd738",
   "metadata": {},
   "outputs": [],
   "source": [
    "speedmap_segs = speedmap_segs >> filter(_.schedule_gtfs_dataset_key == speedmap_index.schedule_gtfs_dataset_key.iloc[0])"
   ]
  },
  {
   "cell_type": "code",
   "execution_count": 33,
   "id": "33038798-16a0-46b5-a50e-2609c5729534",
   "metadata": {},
   "outputs": [
    {
     "data": {
      "text/html": [
       "<div>\n",
       "<style scoped>\n",
       "    .dataframe tbody tr th:only-of-type {\n",
       "        vertical-align: middle;\n",
       "    }\n",
       "\n",
       "    .dataframe tbody tr th {\n",
       "        vertical-align: top;\n",
       "    }\n",
       "\n",
       "    .dataframe thead th {\n",
       "        text-align: right;\n",
       "    }\n",
       "</style>\n",
       "<table border=\"1\" class=\"dataframe\">\n",
       "  <thead>\n",
       "    <tr style=\"text-align: right;\">\n",
       "      <th></th>\n",
       "      <th>trip_instance_key</th>\n",
       "      <th>shape_array_key</th>\n",
       "      <th>stop_id1</th>\n",
       "      <th>stop_sequence</th>\n",
       "      <th>geometry</th>\n",
       "      <th>stop_id2</th>\n",
       "      <th>segment_id</th>\n",
       "      <th>stop_pair</th>\n",
       "      <th>schedule_gtfs_dataset_key</th>\n",
       "      <th>route_id</th>\n",
       "      <th>direction_id</th>\n",
       "      <th>stop_sequence1</th>\n",
       "    </tr>\n",
       "  </thead>\n",
       "  <tbody>\n",
       "    <tr>\n",
       "      <th>3068106</th>\n",
       "      <td>007322300a62f1a96739fe59dd3b4934</td>\n",
       "      <td>7952ac84db347ba2c6e65e60e5988275</td>\n",
       "      <td>1638</td>\n",
       "      <td>1</td>\n",
       "      <td>LINESTRING (150324.433 -449323.340, 150319.188...</td>\n",
       "      <td>1640</td>\n",
       "      <td>1638-1640-1</td>\n",
       "      <td>1638__1640</td>\n",
       "      <td>efbbd5293be71f7a5de0cf82b59febe1</td>\n",
       "      <td>3716</td>\n",
       "      <td>0.0</td>\n",
       "      <td>1.00</td>\n",
       "    </tr>\n",
       "    <tr>\n",
       "      <th>3068107</th>\n",
       "      <td>007322300a62f1a96739fe59dd3b4934</td>\n",
       "      <td>7952ac84db347ba2c6e65e60e5988275</td>\n",
       "      <td>1640</td>\n",
       "      <td>2</td>\n",
       "      <td>LINESTRING (150525.427 -448969.227, 150596.921...</td>\n",
       "      <td>1709</td>\n",
       "      <td>1640-1709-1</td>\n",
       "      <td>1640__1709</td>\n",
       "      <td>efbbd5293be71f7a5de0cf82b59febe1</td>\n",
       "      <td>3716</td>\n",
       "      <td>0.0</td>\n",
       "      <td>2.00</td>\n",
       "    </tr>\n",
       "    <tr>\n",
       "      <th>3068108</th>\n",
       "      <td>007322300a62f1a96739fe59dd3b4934</td>\n",
       "      <td>7952ac84db347ba2c6e65e60e5988275</td>\n",
       "      <td>1640</td>\n",
       "      <td>2</td>\n",
       "      <td>LINESTRING (150644.004 -448777.588, 150633.433...</td>\n",
       "      <td>1709</td>\n",
       "      <td>1640-1709-2</td>\n",
       "      <td>1640__1709</td>\n",
       "      <td>efbbd5293be71f7a5de0cf82b59febe1</td>\n",
       "      <td>3716</td>\n",
       "      <td>0.0</td>\n",
       "      <td>2.19</td>\n",
       "    </tr>\n",
       "    <tr>\n",
       "      <th>3068109</th>\n",
       "      <td>007322300a62f1a96739fe59dd3b4934</td>\n",
       "      <td>7952ac84db347ba2c6e65e60e5988275</td>\n",
       "      <td>1640</td>\n",
       "      <td>2</td>\n",
       "      <td>LINESTRING (150008.823 -448064.580, 149903.488...</td>\n",
       "      <td>1709</td>\n",
       "      <td>1640-1709-3</td>\n",
       "      <td>1640__1709</td>\n",
       "      <td>efbbd5293be71f7a5de0cf82b59febe1</td>\n",
       "      <td>3716</td>\n",
       "      <td>0.0</td>\n",
       "      <td>2.39</td>\n",
       "    </tr>\n",
       "    <tr>\n",
       "      <th>3068110</th>\n",
       "      <td>007322300a62f1a96739fe59dd3b4934</td>\n",
       "      <td>7952ac84db347ba2c6e65e60e5988275</td>\n",
       "      <td>1640</td>\n",
       "      <td>2</td>\n",
       "      <td>LINESTRING (149152.625 -447549.208, 148882.052...</td>\n",
       "      <td>1709</td>\n",
       "      <td>1640-1709-4</td>\n",
       "      <td>1640__1709</td>\n",
       "      <td>efbbd5293be71f7a5de0cf82b59febe1</td>\n",
       "      <td>3716</td>\n",
       "      <td>0.0</td>\n",
       "      <td>2.58</td>\n",
       "    </tr>\n",
       "    <tr>\n",
       "      <th>...</th>\n",
       "      <td>...</td>\n",
       "      <td>...</td>\n",
       "      <td>...</td>\n",
       "      <td>...</td>\n",
       "      <td>...</td>\n",
       "      <td>...</td>\n",
       "      <td>...</td>\n",
       "      <td>...</td>\n",
       "      <td>...</td>\n",
       "      <td>...</td>\n",
       "      <td>...</td>\n",
       "      <td>...</td>\n",
       "    </tr>\n",
       "    <tr>\n",
       "      <th>3103766</th>\n",
       "      <td>ffbe6c80eef96d2850b1fadd32398e5e</td>\n",
       "      <td>4313efabc4eb7466a3fb7c9c478ec235</td>\n",
       "      <td>402</td>\n",
       "      <td>40</td>\n",
       "      <td>LINESTRING (143508.534 -438049.661, 143509.360...</td>\n",
       "      <td>170</td>\n",
       "      <td>402-170-1</td>\n",
       "      <td>402__170</td>\n",
       "      <td>efbbd5293be71f7a5de0cf82b59febe1</td>\n",
       "      <td>3705</td>\n",
       "      <td>0.0</td>\n",
       "      <td>40.00</td>\n",
       "    </tr>\n",
       "    <tr>\n",
       "      <th>3103767</th>\n",
       "      <td>ffbe6c80eef96d2850b1fadd32398e5e</td>\n",
       "      <td>4313efabc4eb7466a3fb7c9c478ec235</td>\n",
       "      <td>170</td>\n",
       "      <td>41</td>\n",
       "      <td>LINESTRING (143509.360 -437925.500, 143553.663...</td>\n",
       "      <td>403</td>\n",
       "      <td>170-403-1</td>\n",
       "      <td>170__403</td>\n",
       "      <td>efbbd5293be71f7a5de0cf82b59febe1</td>\n",
       "      <td>3705</td>\n",
       "      <td>0.0</td>\n",
       "      <td>41.00</td>\n",
       "    </tr>\n",
       "    <tr>\n",
       "      <th>3103768</th>\n",
       "      <td>ffbe6c80eef96d2850b1fadd32398e5e</td>\n",
       "      <td>4313efabc4eb7466a3fb7c9c478ec235</td>\n",
       "      <td>403</td>\n",
       "      <td>42</td>\n",
       "      <td>LINESTRING (143771.355 -437918.869, 143811.769...</td>\n",
       "      <td>405</td>\n",
       "      <td>403-405-1</td>\n",
       "      <td>403__405</td>\n",
       "      <td>efbbd5293be71f7a5de0cf82b59febe1</td>\n",
       "      <td>3705</td>\n",
       "      <td>0.0</td>\n",
       "      <td>42.00</td>\n",
       "    </tr>\n",
       "    <tr>\n",
       "      <th>3103769</th>\n",
       "      <td>ffbe6c80eef96d2850b1fadd32398e5e</td>\n",
       "      <td>4313efabc4eb7466a3fb7c9c478ec235</td>\n",
       "      <td>405</td>\n",
       "      <td>43</td>\n",
       "      <td>LINESTRING (144029.221 -437599.655, 144033.782...</td>\n",
       "      <td>406</td>\n",
       "      <td>405-406-1</td>\n",
       "      <td>405__406</td>\n",
       "      <td>efbbd5293be71f7a5de0cf82b59febe1</td>\n",
       "      <td>3705</td>\n",
       "      <td>0.0</td>\n",
       "      <td>43.00</td>\n",
       "    </tr>\n",
       "    <tr>\n",
       "      <th>3103770</th>\n",
       "      <td>ffbe6c80eef96d2850b1fadd32398e5e</td>\n",
       "      <td>4313efabc4eb7466a3fb7c9c478ec235</td>\n",
       "      <td>406</td>\n",
       "      <td>44</td>\n",
       "      <td>LINESTRING (144077.244 -437320.391, 144079.018...</td>\n",
       "      <td>8</td>\n",
       "      <td>406-8-1</td>\n",
       "      <td>406__8</td>\n",
       "      <td>efbbd5293be71f7a5de0cf82b59febe1</td>\n",
       "      <td>3705</td>\n",
       "      <td>0.0</td>\n",
       "      <td>44.00</td>\n",
       "    </tr>\n",
       "  </tbody>\n",
       "</table>\n",
       "<p>35665 rows × 12 columns</p>\n",
       "</div>"
      ],
      "text/plain": [
       "                        trip_instance_key                   shape_array_key  \\\n",
       "3068106  007322300a62f1a96739fe59dd3b4934  7952ac84db347ba2c6e65e60e5988275   \n",
       "3068107  007322300a62f1a96739fe59dd3b4934  7952ac84db347ba2c6e65e60e5988275   \n",
       "3068108  007322300a62f1a96739fe59dd3b4934  7952ac84db347ba2c6e65e60e5988275   \n",
       "3068109  007322300a62f1a96739fe59dd3b4934  7952ac84db347ba2c6e65e60e5988275   \n",
       "3068110  007322300a62f1a96739fe59dd3b4934  7952ac84db347ba2c6e65e60e5988275   \n",
       "...                                   ...                               ...   \n",
       "3103766  ffbe6c80eef96d2850b1fadd32398e5e  4313efabc4eb7466a3fb7c9c478ec235   \n",
       "3103767  ffbe6c80eef96d2850b1fadd32398e5e  4313efabc4eb7466a3fb7c9c478ec235   \n",
       "3103768  ffbe6c80eef96d2850b1fadd32398e5e  4313efabc4eb7466a3fb7c9c478ec235   \n",
       "3103769  ffbe6c80eef96d2850b1fadd32398e5e  4313efabc4eb7466a3fb7c9c478ec235   \n",
       "3103770  ffbe6c80eef96d2850b1fadd32398e5e  4313efabc4eb7466a3fb7c9c478ec235   \n",
       "\n",
       "        stop_id1  stop_sequence  \\\n",
       "3068106     1638              1   \n",
       "3068107     1640              2   \n",
       "3068108     1640              2   \n",
       "3068109     1640              2   \n",
       "3068110     1640              2   \n",
       "...          ...            ...   \n",
       "3103766      402             40   \n",
       "3103767      170             41   \n",
       "3103768      403             42   \n",
       "3103769      405             43   \n",
       "3103770      406             44   \n",
       "\n",
       "                                                  geometry stop_id2  \\\n",
       "3068106  LINESTRING (150324.433 -449323.340, 150319.188...     1640   \n",
       "3068107  LINESTRING (150525.427 -448969.227, 150596.921...     1709   \n",
       "3068108  LINESTRING (150644.004 -448777.588, 150633.433...     1709   \n",
       "3068109  LINESTRING (150008.823 -448064.580, 149903.488...     1709   \n",
       "3068110  LINESTRING (149152.625 -447549.208, 148882.052...     1709   \n",
       "...                                                    ...      ...   \n",
       "3103766  LINESTRING (143508.534 -438049.661, 143509.360...      170   \n",
       "3103767  LINESTRING (143509.360 -437925.500, 143553.663...      403   \n",
       "3103768  LINESTRING (143771.355 -437918.869, 143811.769...      405   \n",
       "3103769  LINESTRING (144029.221 -437599.655, 144033.782...      406   \n",
       "3103770  LINESTRING (144077.244 -437320.391, 144079.018...        8   \n",
       "\n",
       "          segment_id   stop_pair         schedule_gtfs_dataset_key route_id  \\\n",
       "3068106  1638-1640-1  1638__1640  efbbd5293be71f7a5de0cf82b59febe1     3716   \n",
       "3068107  1640-1709-1  1640__1709  efbbd5293be71f7a5de0cf82b59febe1     3716   \n",
       "3068108  1640-1709-2  1640__1709  efbbd5293be71f7a5de0cf82b59febe1     3716   \n",
       "3068109  1640-1709-3  1640__1709  efbbd5293be71f7a5de0cf82b59febe1     3716   \n",
       "3068110  1640-1709-4  1640__1709  efbbd5293be71f7a5de0cf82b59febe1     3716   \n",
       "...              ...         ...                               ...      ...   \n",
       "3103766    402-170-1    402__170  efbbd5293be71f7a5de0cf82b59febe1     3705   \n",
       "3103767    170-403-1    170__403  efbbd5293be71f7a5de0cf82b59febe1     3705   \n",
       "3103768    403-405-1    403__405  efbbd5293be71f7a5de0cf82b59febe1     3705   \n",
       "3103769    405-406-1    405__406  efbbd5293be71f7a5de0cf82b59febe1     3705   \n",
       "3103770      406-8-1      406__8  efbbd5293be71f7a5de0cf82b59febe1     3705   \n",
       "\n",
       "         direction_id  stop_sequence1  \n",
       "3068106           0.0            1.00  \n",
       "3068107           0.0            2.00  \n",
       "3068108           0.0            2.19  \n",
       "3068109           0.0            2.39  \n",
       "3068110           0.0            2.58  \n",
       "...               ...             ...  \n",
       "3103766           0.0           40.00  \n",
       "3103767           0.0           41.00  \n",
       "3103768           0.0           42.00  \n",
       "3103769           0.0           43.00  \n",
       "3103770           0.0           44.00  \n",
       "\n",
       "[35665 rows x 12 columns]"
      ]
     },
     "execution_count": 33,
     "metadata": {},
     "output_type": "execute_result"
    }
   ],
   "source": [
    "speedmap_segs"
   ]
  },
  {
   "cell_type": "markdown",
   "id": "2e9ae65e-0ed4-4f00-ac8e-27ac85790804",
   "metadata": {},
   "source": [
    "## TODO replace status with a scan of speedmap segs column?"
   ]
  },
  {
   "cell_type": "code",
   "execution_count": 29,
   "id": "47c79d99-c82f-4e1e-b11e-2b1e83c13a1b",
   "metadata": {},
   "outputs": [
    {
     "name": "stdout",
     "output_type": "stream",
     "text": [
      "{\"human_date\": \"September 13 2023 (Wednesday)\"}\n"
     ]
    }
   ],
   "source": [
    "%%capture_paracolumnsers\n",
    "human_date = analysis_date.strftime('%B %d %Y (%A)')\n",
    "human_date"
   ]
  },
  {
   "cell_type": "code",
   "execution_count": 30,
   "id": "e4cbefc6-9bbb-4989-85b7-1f31da17fcb8",
   "metadata": {},
   "outputs": [],
   "source": [
    "%%capture\n",
    "rt_day = rt_filter_map_plot.from_gcs(itp_id, analysis_date)"
   ]
  },
  {
   "cell_type": "code",
   "execution_count": 31,
   "id": "6c335d40-7a7b-4641-8a3d-c970b2823cdf",
   "metadata": {},
   "outputs": [
    {
     "name": "stdout",
     "output_type": "stream",
     "text": [
      "{\"organization_name\": \"Santa Barbara Metropolitan Transit District\"}\n"
     ]
    }
   ],
   "source": [
    "%%capture_parameters\n",
    "organization_name = rt_day.organization_name\n",
    "organization_name"
   ]
  },
  {
   "cell_type": "markdown",
   "id": "52110155-d104-4043-8376-3f83e82a959a",
   "metadata": {},
   "source": [
    "# {organization_name}"
   ]
  },
  {
   "cell_type": "markdown",
   "id": "7d5572cd-dd67-4e26-b100-a0e7472a4a17",
   "metadata": {
    "tags": []
   },
   "source": [
    "## About These Maps:\n",
    "\n",
    "* Each map shows bus (and rail, if applicable) speeds for {organization_name}, with a map each for the morning peak, midday, and afternoon peak periods on {human_date}.\n",
    "* On the map, routes are split into segments corresponding to the distance between two stops, allowing you to focus on specific portions of the route experiencing a slowdown.\n",
    "* Route segments are arrow-shaped to indicate direction of travel. Thicker segments indicate more frequent transit routes.\n",
    "* State Highway Network routes are outlined in gray.\n",
    "* Hover over, a segment with your mouse to see the exact speed, route name, and transit service frequency in that segment. \n",
    "    * Higher-frequency routes (3+ trips per hour) are especially important, since those slowdowns correspond to more vehicles, and riders, delayed in traffic."
   ]
  },
  {
   "cell_type": "markdown",
   "id": "74fce4a9-514f-405d-9ce0-1cb1998a696b",
   "metadata": {
    "tags": []
   },
   "source": [
    "## Morning Peak"
   ]
  },
  {
   "cell_type": "code",
   "execution_count": null,
   "id": "533a64f4-f374-4f2c-94d3-5146ebe7c036",
   "metadata": {},
   "outputs": [],
   "source": [
    "%%capture\n",
    "rt_day.set_filter(start_time='06:00', end_time='09:00')"
   ]
  },
  {
   "cell_type": "markdown",
   "id": "78fc911f-a64a-40c0-b13d-15dd186203f2",
   "metadata": {},
   "source": [
    "### 20th Percentile Speeds by Segment"
   ]
  },
  {
   "cell_type": "code",
   "execution_count": null,
   "id": "2f317120-99ee-435b-96cd-1236b8ee2e0b",
   "metadata": {
    "tags": []
   },
   "outputs": [],
   "source": [
    "%%capture\n",
    "_m = rt_day.segment_speed_map(how='low_speeds', no_title=True, shn=True,\n",
    "                             no_render=True\n",
    "                            )"
   ]
  },
  {
   "cell_type": "code",
   "execution_count": null,
   "id": "1b8ea029-c5e3-4b97-8bef-30df3934d877",
   "metadata": {
    "tags": []
   },
   "outputs": [],
   "source": [
    "%%capture\n",
    "rt_day.map_gz_export()"
   ]
  },
  {
   "cell_type": "code",
   "execution_count": null,
   "id": "faa5e04f-d1f7-47c5-b2d3-60590eb73bdc",
   "metadata": {},
   "outputs": [],
   "source": [
    "rt_day.render_spa_link()"
   ]
  },
  {
   "cell_type": "code",
   "execution_count": null,
   "id": "5948822e-8902-4e0f-96a8-ff12af99b89b",
   "metadata": {
    "tags": []
   },
   "outputs": [],
   "source": [
    "rt_day.display_spa_map()"
   ]
  },
  {
   "cell_type": "markdown",
   "id": "ccf9e4a3-0dd7-47f6-9ee4-3cf301379ffd",
   "metadata": {},
   "source": [
    "### Variation in Speeds by Segment\n",
    "\n",
    "* This visualization shows variation as the ratio between the 80th percentile and 20th percentile speeds in each segment\n",
    "* Segments with high variation in speeds make it difficult for transit operators to set accurate schedules, and can cause inconsistent service for riders"
   ]
  },
  {
   "cell_type": "code",
   "execution_count": null,
   "id": "b0d402fb-024b-4a8b-a11b-521b8a310ce7",
   "metadata": {},
   "outputs": [],
   "source": [
    "rt_day.map_variance(no_render=True)"
   ]
  },
  {
   "cell_type": "code",
   "execution_count": null,
   "id": "521f5dc5-3e23-4e61-90f2-4ee35120866b",
   "metadata": {},
   "outputs": [],
   "source": [
    "%%capture\n",
    "rt_day.map_gz_export(map_type = 'variance')"
   ]
  },
  {
   "cell_type": "code",
   "execution_count": null,
   "id": "d70aa1f1-451e-4bfc-9873-466e3304976f",
   "metadata": {},
   "outputs": [],
   "source": [
    "rt_day.render_spa_link()"
   ]
  },
  {
   "cell_type": "code",
   "execution_count": null,
   "id": "ada4b469-0612-473a-a0fb-d8a5644383b1",
   "metadata": {},
   "outputs": [],
   "source": [
    "rt_day.display_spa_map()"
   ]
  },
  {
   "cell_type": "markdown",
   "id": "3d263ba2-49ae-4e02-9d06-3181b03f51ba",
   "metadata": {
    "tags": []
   },
   "source": [
    "## Midday"
   ]
  },
  {
   "cell_type": "code",
   "execution_count": null,
   "id": "f5344e63-89d2-43d6-9783-55a3061c99d2",
   "metadata": {},
   "outputs": [],
   "source": [
    "%%capture\n",
    "rt_day.set_filter(start_time='10:00', end_time='14:00')"
   ]
  },
  {
   "cell_type": "markdown",
   "id": "12c8c58f-162b-4e72-bfa5-e12f974c53e4",
   "metadata": {},
   "source": [
    "### 20th Percentile Speeds by Segment"
   ]
  },
  {
   "cell_type": "code",
   "execution_count": null,
   "id": "835ae4f1-0364-4fbf-a428-41d5233e6424",
   "metadata": {
    "tags": []
   },
   "outputs": [],
   "source": [
    "%%capture\n",
    "_m = rt_day.segment_speed_map(how='low_speeds', no_title=True, shn=True,\n",
    "                             no_render=True\n",
    "                            )"
   ]
  },
  {
   "cell_type": "code",
   "execution_count": null,
   "id": "72419146-46bc-42c6-8478-ccd6cebea18d",
   "metadata": {
    "tags": []
   },
   "outputs": [],
   "source": [
    "%%capture\n",
    "rt_day.map_gz_export()"
   ]
  },
  {
   "cell_type": "code",
   "execution_count": null,
   "id": "0e18681c-794d-418e-b2b5-8aa7bbcbade1",
   "metadata": {},
   "outputs": [],
   "source": [
    "rt_day.render_spa_link()"
   ]
  },
  {
   "cell_type": "code",
   "execution_count": null,
   "id": "4a3530dd-7432-459e-a22b-3c211f29cff2",
   "metadata": {
    "tags": []
   },
   "outputs": [],
   "source": [
    "rt_day.display_spa_map()"
   ]
  },
  {
   "cell_type": "markdown",
   "id": "b1abe807-9ba5-40bf-bffd-6747446ea516",
   "metadata": {},
   "source": [
    "### Variation in Speeds by Segment\n",
    "\n",
    "* This visualization shows variation as the ratio between the 80th percentile and 20th percentile speeds in each segment\n",
    "* Segments with high variation in speeds make it difficult for transit operators to set accurate schedules, and can cause inconsistent service for riders"
   ]
  },
  {
   "cell_type": "code",
   "execution_count": null,
   "id": "ed6db1a8-9774-4a5b-8297-06f0a5067a02",
   "metadata": {},
   "outputs": [],
   "source": [
    "rt_day.map_variance(no_render=True)"
   ]
  },
  {
   "cell_type": "code",
   "execution_count": null,
   "id": "f75d40a5-7d9c-49c2-a320-c245d0dfd29b",
   "metadata": {},
   "outputs": [],
   "source": [
    "%%capture\n",
    "rt_day.map_gz_export(map_type = 'variance')"
   ]
  },
  {
   "cell_type": "code",
   "execution_count": null,
   "id": "551d9840-580c-4c30-bf83-8f8a971c61fe",
   "metadata": {},
   "outputs": [],
   "source": [
    "rt_day.render_spa_link()"
   ]
  },
  {
   "cell_type": "code",
   "execution_count": null,
   "id": "029e2e16-50c5-4271-9a46-fdf63fed6090",
   "metadata": {},
   "outputs": [],
   "source": [
    "rt_day.display_spa_map()"
   ]
  },
  {
   "cell_type": "markdown",
   "id": "704f0788-b4a8-497d-b2aa-c7ac6df939f4",
   "metadata": {
    "tags": []
   },
   "source": [
    "## Afternoon Peak"
   ]
  },
  {
   "cell_type": "code",
   "execution_count": null,
   "id": "923f1462-b34a-42d2-a632-c5eb3ac16ac6",
   "metadata": {},
   "outputs": [],
   "source": [
    "%%capture\n",
    "rt_day.set_filter(start_time='15:00', end_time='19:00')"
   ]
  },
  {
   "cell_type": "markdown",
   "id": "344950fc-18d1-4eb3-a18b-01d0f218498d",
   "metadata": {},
   "source": [
    "### 20th Percentile Speeds by Segment"
   ]
  },
  {
   "cell_type": "code",
   "execution_count": null,
   "id": "3ce10fdb-65fd-4b4b-b041-37d453099d9e",
   "metadata": {
    "tags": []
   },
   "outputs": [],
   "source": [
    "%%capture\n",
    "_m = rt_day.segment_speed_map(how='low_speeds', no_title=True, shn=True,\n",
    "                             no_render=True\n",
    "                            )"
   ]
  },
  {
   "cell_type": "code",
   "execution_count": null,
   "id": "af6d23ea-4f20-4d0f-9855-40c43052c8e5",
   "metadata": {
    "tags": []
   },
   "outputs": [],
   "source": [
    "%%capture\n",
    "rt_day.map_gz_export()"
   ]
  },
  {
   "cell_type": "code",
   "execution_count": null,
   "id": "9c6966a9-289c-4284-8db3-7aea3b36d16b",
   "metadata": {},
   "outputs": [],
   "source": [
    "rt_day.render_spa_link()"
   ]
  },
  {
   "cell_type": "code",
   "execution_count": null,
   "id": "c2dd6519-3db1-4881-9efa-98337cb6d298",
   "metadata": {
    "tags": []
   },
   "outputs": [],
   "source": [
    "rt_day.display_spa_map()"
   ]
  },
  {
   "cell_type": "markdown",
   "id": "56c8f305-535e-4b7e-b5d5-959167c21e42",
   "metadata": {},
   "source": [
    "### Variation in Speeds by Segment\n",
    "\n",
    "* This visualization shows variation as the ratio between the 80th percentile and 20th percentile speeds in each segment\n",
    "* Segments with high variation in speeds make it difficult for transit operators to set accurate schedules, and can cause inconsistent service for riders"
   ]
  },
  {
   "cell_type": "code",
   "execution_count": null,
   "id": "b8469e6d-aa94-4481-a47b-ff8d29c49a21",
   "metadata": {},
   "outputs": [],
   "source": [
    "rt_day.map_variance(no_render=True)"
   ]
  },
  {
   "cell_type": "code",
   "execution_count": null,
   "id": "ffa01fd1-0d7c-4def-ae35-a43c160849dc",
   "metadata": {},
   "outputs": [],
   "source": [
    "%%capture\n",
    "rt_day.map_gz_export(map_type = 'variance')"
   ]
  },
  {
   "cell_type": "code",
   "execution_count": null,
   "id": "75202cf8-cd2a-4451-becc-9cdf94db6eff",
   "metadata": {},
   "outputs": [],
   "source": [
    "rt_day.render_spa_link()"
   ]
  },
  {
   "cell_type": "code",
   "execution_count": null,
   "id": "a948a37d-e62d-40ce-810d-79b151aa3008",
   "metadata": {},
   "outputs": [],
   "source": [
    "rt_day.display_spa_map()"
   ]
  },
  {
   "cell_type": "markdown",
   "id": "8594cbd6-f705-4fe4-91f9-9d9722bdad53",
   "metadata": {
    "tags": []
   },
   "source": [
    "## Daily Speed Patterns\n",
    "\n",
    "* This chart shows the distribution of median trip speeds throughout the day. It can help find times of day where transit riders experience the slowest overall speeds."
   ]
  },
  {
   "cell_type": "code",
   "execution_count": null,
   "id": "745e9e8f-47c2-4875-afd2-2c55de086aad",
   "metadata": {},
   "outputs": [],
   "source": [
    "try:\n",
    "    rt_day.set_filter(start_time='06:00', end_time='22:00')\n",
    "    display(Markdown(f'Median Trip Speed by Hour of Day{rt_day.filter_formatted}'))\n",
    "\n",
    "    rt_day.chart_speeds(no_title=True);\n",
    "except:\n",
    "    display(Markdown(f'Chart not available for this agency'))\n",
    "    pass"
   ]
  }
 ],
 "metadata": {
  "kernelspec": {
   "display_name": "Python 3 (ipykernel)",
   "language": "python",
   "name": "python3"
  },
  "language_info": {
   "codemirror_mode": {
    "name": "ipython",
    "version": 3
   },
   "file_extension": ".py",
   "mimetype": "text/x-python",
   "name": "python",
   "nbconvert_exporter": "python",
   "pygments_lexer": "ipython3",
   "version": "3.9.13"
  },
  "widgets": {
   "application/vnd.jupyter.widget-state+json": {
    "state": {},
    "version_major": 2,
    "version_minor": 0
   }
  }
 },
 "nbformat": 4,
 "nbformat_minor": 5
}
