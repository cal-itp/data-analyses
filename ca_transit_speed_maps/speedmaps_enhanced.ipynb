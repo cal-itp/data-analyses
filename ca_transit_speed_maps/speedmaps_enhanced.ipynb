{
 "cells": [
  {
   "cell_type": "code",
   "execution_count": null,
   "id": "46898b5c-b5cc-4096-ab68-8c3e42fab870",
   "metadata": {},
   "outputs": [],
   "source": [
    "%%capture\n",
    "import warnings\n",
    "warnings.filterwarnings('ignore')\n",
    "\n",
    "import os\n",
    "os.environ[\"CALITP_BQ_MAX_BYTES\"] = str(800_000_000_000)\n",
    "import shared_utils\n",
    "\n",
    "from calitp_data_analysis.tables import tbls\n",
    "import calitp_data_analysis.magics\n",
    "\n",
    "from siuba import *\n",
    "import pandas as pd\n",
    "import geopandas as gpd\n",
    "\n",
    "import datetime as dt\n",
    "\n",
    "import importlib\n",
    "from rt_analysis import rt_filter_map_plot\n",
    "import build_speedmaps_index\n",
    "\n",
    "from IPython.display import display, Markdown, Latex, HTML, IFrame\n",
    "import json\n",
    "import base64"
   ]
  },
  {
   "cell_type": "code",
   "execution_count": null,
   "id": "9f15ed6a-5ab7-4f57-9695-3f762781b74c",
   "metadata": {
    "tags": [
     "parameters"
    ]
   },
   "outputs": [],
   "source": [
    "## parameters cell\n",
    "itp_id = 300"
   ]
  },
  {
   "cell_type": "code",
   "execution_count": null,
   "id": "a639fd84-29ca-4678-b568-2b1022701e14",
   "metadata": {},
   "outputs": [],
   "source": [
    "analysis_date = build_speedmaps_index.ANALYSIS_DATE"
   ]
  },
  {
   "cell_type": "code",
   "execution_count": null,
   "id": "47c79d99-c82f-4e1e-b11e-2b1e83c13a1b",
   "metadata": {},
   "outputs": [],
   "source": [
    "%%capture_parameters\n",
    "human_date = analysis_date.strftime('%B %d %Y (%A)')\n",
    "human_date"
   ]
  },
  {
   "cell_type": "code",
   "execution_count": null,
   "id": "e4cbefc6-9bbb-4989-85b7-1f31da17fcb8",
   "metadata": {},
   "outputs": [],
   "source": [
    "%%capture\n",
    "rt_day = rt_filter_map_plot.from_gcs(itp_id, analysis_date)"
   ]
  },
  {
   "cell_type": "code",
   "execution_count": null,
   "id": "6c335d40-7a7b-4641-8a3d-c970b2823cdf",
   "metadata": {},
   "outputs": [],
   "source": [
    "%%capture_parameters\n",
    "organization_name = rt_day.organization_name\n",
    "organization_name"
   ]
  },
  {
   "cell_type": "markdown",
   "id": "52110155-d104-4043-8376-3f83e82a959a",
   "metadata": {},
   "source": [
    "# {organization_name}"
   ]
  },
  {
   "cell_type": "markdown",
   "id": "7d5572cd-dd67-4e26-b100-a0e7472a4a17",
   "metadata": {
    "tags": []
   },
   "source": [
    "## About These Maps:\n",
    "\n",
    "* Each map shows bus (and rail, if applicable) speeds for {organization_name}, with a map each for the morning peak, midday, and afternoon peak periods on {human_date}.\n",
    "* On the map, routes are split into segments corresponding to the distance between two stops, allowing you to focus on specific portions of the route experiencing a slowdown.\n",
    "* Route segments are arrow-shaped to indicate direction of travel. Thicker segments indicate more frequent transit routes.\n",
    "* State Highway Network routes are outlined in gray.\n",
    "* Hover over, or click, a segment with your mouse to see the exact speed, route name, and transit service frequency in that segment. \n",
    "    * Higher-frequency routes (3+ trips per hour) are especially important, since those slowdowns correspond to more vehicles, and riders, delayed in traffic."
   ]
  },
  {
   "cell_type": "markdown",
   "id": "74fce4a9-514f-405d-9ce0-1cb1998a696b",
   "metadata": {
    "tags": []
   },
   "source": [
    "## Morning Peak"
   ]
  },
  {
   "cell_type": "code",
   "execution_count": null,
   "id": "533a64f4-f374-4f2c-94d3-5146ebe7c036",
   "metadata": {},
   "outputs": [],
   "source": [
    "%%capture\n",
    "rt_day.set_filter(start_time='06:00', end_time='09:00')"
   ]
  },
  {
   "cell_type": "code",
   "execution_count": null,
   "id": "8e940d3d-c76e-42ba-be8b-739852771ca6",
   "metadata": {},
   "outputs": [],
   "source": [
    "# ## avoid papermill errors when map fails to render\n",
    "# m = None"
   ]
  },
  {
   "cell_type": "code",
   "execution_count": null,
   "id": "2f317120-99ee-435b-96cd-1236b8ee2e0b",
   "metadata": {
    "tags": []
   },
   "outputs": [],
   "source": [
    "%%capture\n",
    "_m = rt_day.segment_speed_map(how='low_speeds', no_title=True, shn=True,\n",
    "                             no_render=True\n",
    "                            )"
   ]
  },
  {
   "cell_type": "code",
   "execution_count": null,
   "id": "275087be-b46d-4acb-95fe-2dc98c2089a2",
   "metadata": {
    "tags": []
   },
   "outputs": [],
   "source": [
    "# m"
   ]
  },
  {
   "cell_type": "code",
   "execution_count": null,
   "id": "1b8ea029-c5e3-4b97-8bef-30df3934d877",
   "metadata": {
    "tags": []
   },
   "outputs": [],
   "source": [
    "rt_day.test_gz_export()"
   ]
  },
  {
   "cell_type": "code",
   "execution_count": null,
   "id": "69d5b91c-0c39-491e-84e8-c49961b9e571",
   "metadata": {},
   "outputs": [],
   "source": [
    "rt_day.spa_map_state['layers'][1]['properties'] = {'stroked': False}"
   ]
  },
  {
   "cell_type": "code",
   "execution_count": null,
   "id": "51b3a22d-347e-4599-86e7-1c77580c7f10",
   "metadata": {},
   "outputs": [],
   "source": [
    "rt_day.spa_map_state['legend_url'] = 'https://storage.googleapis.com/calitp-map-tiles/legend_test.svg'"
   ]
  },
  {
   "cell_type": "code",
   "execution_count": null,
   "id": "c1db0bbc-c74e-481f-83e0-f559f6e09465",
   "metadata": {},
   "outputs": [],
   "source": [
    "rt_day.spa_map_state"
   ]
  },
  {
   "cell_type": "code",
   "execution_count": null,
   "id": "441e6b57-9a4c-4515-9111-020f0aca12df",
   "metadata": {},
   "outputs": [],
   "source": [
    "cbar = rt_day.speed_map_params[1]"
   ]
  },
  {
   "cell_type": "code",
   "execution_count": null,
   "id": "cd0a905b-eec4-4fd6-9c7c-0c4cb51ee26e",
   "metadata": {},
   "outputs": [],
   "source": [
    "type(cbar)"
   ]
  },
  {
   "cell_type": "code",
   "execution_count": null,
   "id": "37340425-9629-4d96-921c-9566e7819e87",
   "metadata": {},
   "outputs": [],
   "source": [
    "cbar"
   ]
  },
  {
   "cell_type": "code",
   "execution_count": null,
   "id": "673ea40b-c89d-459e-9f49-87c2d301720c",
   "metadata": {
    "tags": []
   },
   "outputs": [],
   "source": [
    "# cbar._repr_html_()"
   ]
  },
  {
   "cell_type": "code",
   "execution_count": null,
   "id": "814500f9-e474-42e0-b8ec-9afda33b8de2",
   "metadata": {},
   "outputs": [],
   "source": [
    "with open('./troublesome.svg', 'w') as f:\n",
    "    f.write(cbar._repr_html_())"
   ]
  },
  {
   "cell_type": "code",
   "execution_count": null,
   "id": "18e588a7-bdae-4256-bfd2-b077aff024e3",
   "metadata": {
    "tags": []
   },
   "outputs": [],
   "source": [
    "# add newlines\n",
    "svg = cbar._repr_html_().replace('<', '\\n<')"
   ]
  },
  {
   "cell_type": "code",
   "execution_count": null,
   "id": "f9480b13-1d82-4cc7-92c8-4bf71ce822a6",
   "metadata": {},
   "outputs": [],
   "source": [
    "# svg from _repr_html_ missing this apperently essential header\n",
    "svg_header = \\\n",
    "'''<?xml version=\"1.0\" standalone=\"no\"?>\n",
    "<!DOCTYPE svg PUBLIC \"-//W3C//DTD SVG 20010904//EN\"\n",
    " \"http://www.w3.org/TR/2001/REC-SVG-20010904/DTD/svg10.dtd\">\n",
    " <svg version=\"1.0\" xmlns=\"http://www.w3.org/2000/svg\" height=\"50\" width=\"500\"\n",
    " viewBox=\"0 0 500 50\">\n",
    "'''"
   ]
  },
  {
   "cell_type": "code",
   "execution_count": null,
   "id": "d8f7cc62-0df6-4791-8587-b2b89dc10ff5",
   "metadata": {},
   "outputs": [],
   "source": [
    "# strip first svg tag from original string (already in header)\n",
    "svg_strip_tag = svg.split('width=\"500\">\\n')[1]"
   ]
  },
  {
   "cell_type": "code",
   "execution_count": null,
   "id": "f0238b28-649b-4d5a-807f-b4be5da999c5",
   "metadata": {},
   "outputs": [],
   "source": [
    "export_svg = svg_header + svg_strip_tag"
   ]
  },
  {
   "cell_type": "code",
   "execution_count": null,
   "id": "631f1bb7-3054-4e97-a58f-df9ba3a2f987",
   "metadata": {},
   "outputs": [],
   "source": [
    "with open('./legend_test.svg', 'w') as f:\n",
    "    f.write(export_svg)"
   ]
  },
  {
   "cell_type": "code",
   "execution_count": null,
   "id": "5948822e-8902-4e0f-96a8-ff12af99b89b",
   "metadata": {},
   "outputs": [],
   "source": [
    "rt_day.display_spa_map()"
   ]
  },
  {
   "cell_type": "markdown",
   "id": "ccf9e4a3-0dd7-47f6-9ee4-3cf301379ffd",
   "metadata": {},
   "source": [
    "## Variance"
   ]
  },
  {
   "cell_type": "code",
   "execution_count": null,
   "id": "feed1b07-a504-442b-83b8-80bae48e4c84",
   "metadata": {},
   "outputs": [],
   "source": [
    "rt_day.map_variance(no_render = True)"
   ]
  },
  {
   "cell_type": "code",
   "execution_count": null,
   "id": "521f5dc5-3e23-4e61-90f2-4ee35120866b",
   "metadata": {},
   "outputs": [],
   "source": [
    "rt_day.test_gz_export(map_type = 'variance')"
   ]
  },
  {
   "cell_type": "code",
   "execution_count": null,
   "id": "335979f6-78aa-4cf2-bd24-8aba3f8e026d",
   "metadata": {},
   "outputs": [],
   "source": [
    "rt_day.spa_map_state"
   ]
  },
  {
   "cell_type": "code",
   "execution_count": null,
   "id": "ada4b469-0612-473a-a0fb-d8a5644383b1",
   "metadata": {},
   "outputs": [],
   "source": [
    "rt_day.display_spa_map()"
   ]
  },
  {
   "cell_type": "code",
   "execution_count": null,
   "id": "206d9aa8-9f20-4cb0-a467-eecb4fc8466e",
   "metadata": {
    "tags": []
   },
   "outputs": [],
   "source": [
    "rt_day.describe_slow_routes()"
   ]
  },
  {
   "cell_type": "markdown",
   "id": "3d263ba2-49ae-4e02-9d06-3181b03f51ba",
   "metadata": {
    "tags": []
   },
   "source": [
    "## Midday"
   ]
  },
  {
   "cell_type": "code",
   "execution_count": null,
   "id": "f5344e63-89d2-43d6-9783-55a3061c99d2",
   "metadata": {},
   "outputs": [],
   "source": [
    "%%capture\n",
    "rt_day.set_filter(start_time='10:00', end_time='14:00')"
   ]
  },
  {
   "cell_type": "code",
   "execution_count": null,
   "id": "ba0d03e4-b68b-434d-8c15-2c646ca517b7",
   "metadata": {},
   "outputs": [],
   "source": [
    "## avoid papermill errors when map fails to render\n",
    "m = None"
   ]
  },
  {
   "cell_type": "code",
   "execution_count": null,
   "id": "9fe66519-92bc-4ed0-adb6-3bc6288880bd",
   "metadata": {
    "tags": []
   },
   "outputs": [],
   "source": [
    "%%capture\n",
    "_m = rt_day.segment_speed_map(how='low_speeds', no_title=True, shn=True,\n",
    "                            no_render=True)"
   ]
  },
  {
   "cell_type": "code",
   "execution_count": null,
   "id": "1242b1df-db16-4ef7-9b12-d504556967eb",
   "metadata": {
    "tags": []
   },
   "outputs": [],
   "source": [
    "# m"
   ]
  },
  {
   "cell_type": "code",
   "execution_count": null,
   "id": "973c8a27-084a-4fc6-a044-0069fd4974ee",
   "metadata": {
    "tags": []
   },
   "outputs": [],
   "source": [
    "rt_day.test_gz_export()"
   ]
  },
  {
   "cell_type": "code",
   "execution_count": null,
   "id": "22cde669-629c-4ac8-b2e5-6717a71a3ce1",
   "metadata": {},
   "outputs": [],
   "source": [
    "rt_day.spa_map_state"
   ]
  },
  {
   "cell_type": "code",
   "execution_count": null,
   "id": "6f327a7a-2020-4c13-9db2-47a4c262958a",
   "metadata": {},
   "outputs": [],
   "source": [
    "rt_day.display_spa_map()"
   ]
  },
  {
   "cell_type": "code",
   "execution_count": null,
   "id": "41198fd0-f8a8-4903-b242-27a581387707",
   "metadata": {},
   "outputs": [],
   "source": [
    "rt_day.describe_slow_routes()"
   ]
  },
  {
   "cell_type": "markdown",
   "id": "704f0788-b4a8-497d-b2aa-c7ac6df939f4",
   "metadata": {
    "tags": []
   },
   "source": [
    "## Afternoon Peak"
   ]
  },
  {
   "cell_type": "code",
   "execution_count": null,
   "id": "923f1462-b34a-42d2-a632-c5eb3ac16ac6",
   "metadata": {},
   "outputs": [],
   "source": [
    "%%capture\n",
    "rt_day.set_filter(start_time='15:00', end_time='19:00')"
   ]
  },
  {
   "cell_type": "code",
   "execution_count": null,
   "id": "bf3e3142-0ef8-4b92-ad29-fa000cf294d0",
   "metadata": {},
   "outputs": [],
   "source": [
    "## avoid papermill errors when map fails to render\n",
    "m = None"
   ]
  },
  {
   "cell_type": "code",
   "execution_count": null,
   "id": "1219e7e8-218c-4afa-872c-5589e4eea0f4",
   "metadata": {
    "tags": []
   },
   "outputs": [],
   "source": [
    "%%capture\n",
    "_m = rt_day.segment_speed_map(how='low_speeds', no_title=True, shn=True,\n",
    "                            no_render=True)"
   ]
  },
  {
   "cell_type": "code",
   "execution_count": null,
   "id": "f696cd7b-ec3e-4da7-b769-8b70c3ab1fc6",
   "metadata": {
    "tags": []
   },
   "outputs": [],
   "source": [
    "# m"
   ]
  },
  {
   "cell_type": "code",
   "execution_count": null,
   "id": "12971696-80d1-411b-a9fd-6188e08cfc38",
   "metadata": {
    "tags": []
   },
   "outputs": [],
   "source": [
    "rt_day.test_gz_export()"
   ]
  },
  {
   "cell_type": "code",
   "execution_count": null,
   "id": "dd03f6a9-aaf8-47e7-8bdb-2bc4afc030c3",
   "metadata": {},
   "outputs": [],
   "source": [
    "rt_day.spa_map_state"
   ]
  },
  {
   "cell_type": "code",
   "execution_count": null,
   "id": "3296169a-8673-492b-b3a4-f3b41abf1a0f",
   "metadata": {},
   "outputs": [],
   "source": [
    "base64state = base64.urlsafe_b64encode(json.dumps(rt_day.spa_map_state).encode()).decode()\n",
    "base64state"
   ]
  },
  {
   "cell_type": "code",
   "execution_count": null,
   "id": "aa073378-07e8-4dcf-be36-03109b64fb43",
   "metadata": {},
   "outputs": [],
   "source": [
    "f'https://leaflet-speedmaps--cal-itp-data-analyses.netlify.app/?state={base64state}'"
   ]
  },
  {
   "cell_type": "code",
   "execution_count": null,
   "id": "d3e997d3-916d-4f17-9274-075092c6fd66",
   "metadata": {},
   "outputs": [],
   "source": [
    "rt_day.display_spa_map()"
   ]
  },
  {
   "cell_type": "code",
   "execution_count": null,
   "id": "c59cf5e3-ea49-4250-867b-d8f651a94fb8",
   "metadata": {},
   "outputs": [],
   "source": [
    "rt_day.describe_slow_routes()"
   ]
  },
  {
   "cell_type": "code",
   "execution_count": null,
   "id": "91874f76-635b-4fde-8d61-abc795aca6c6",
   "metadata": {
    "tags": []
   },
   "outputs": [],
   "source": [
    "try:\n",
    "    metrics_df = (rt_day.rt_trips\n",
    "         >> group_by(_.route_short_name, _.direction_id)\n",
    "         >> summarize(speed_variance = _.mean_speed_mph.var(),\n",
    "                     mean_speed_mph = _.mean_speed_mph.mean(),\n",
    "                     min_hour = _.median_time.min().hour,\n",
    "                     max_hour = _.median_time.max().hour,\n",
    "                     n = _.route_short_name.size)\n",
    "         >> filter(_.min_hour <= 7, _.max_hour >= 15,\n",
    "                   _.mean_speed_mph < _.mean_speed_mph.quantile(.6),\n",
    "                   _.speed_variance, _.n > _.n.quantile(.4))\n",
    "         >> arrange(-_.speed_variance)\n",
    "         >> head(20)\n",
    "        )\n",
    "except Exception as e:\n",
    "    pass\n",
    "    # print(e)\n",
    "## check that route has all-day span..."
   ]
  },
  {
   "cell_type": "code",
   "execution_count": null,
   "id": "758b0bae-32d0-40dd-a1d1-1d107b0e7e8b",
   "metadata": {
    "tags": []
   },
   "outputs": [],
   "source": [
    "def map_from_metrics(rt_day, metrics_df, which_map = 'speeds'):\n",
    "    def show_title_and_map(which_map):\n",
    "        try:\n",
    "            am_map = rt_day.segment_speed_map(how='low_speeds', no_title = True)\n",
    "            if which_map == 'speeds':\n",
    "                display(Markdown(f'20th Percentile Vehicle Speeds Between Stops{rt_day.filter_formatted}'))\n",
    "                display(am_map)\n",
    "            elif which_map == 'variance':\n",
    "                display(Markdown(f'Speed Variance Between Stops{rt_day.filter_formatted}'))\n",
    "                display(rt_day.map_variance(no_title = True))\n",
    "        except Exception as e:\n",
    "            display(Markdown(f'Map not available for this time/route'))\n",
    "            pass\n",
    "        return\n",
    "    try:\n",
    "        route_name = metrics_df.iloc[1,0]\n",
    "    except Exception as e:\n",
    "        # print(e)\n",
    "        return\n",
    "    rt_day.set_filter(start_time='06:00', end_time='09:00',\n",
    "                      route_names=[route_name])\n",
    "    show_title_and_map(which_map)\n",
    "    \n",
    "    rt_day.set_filter(start_time='10:00', end_time='14:00',\n",
    "                      route_names=[route_name])\n",
    "    show_title_and_map(which_map)\n",
    "\n",
    "    rt_day.set_filter(start_time='15:00', end_time='19:00',\n",
    "                      route_names=[route_name])\n",
    "    show_title_and_map(which_map)\n",
    "\n",
    "    return"
   ]
  },
  {
   "cell_type": "markdown",
   "id": "8594cbd6-f705-4fe4-91f9-9d9722bdad53",
   "metadata": {
    "tags": []
   },
   "source": [
    "## Daily Speed Patterns\n",
    "\n",
    "* This chart shows the distribution of median trip speeds throughout the day. It can help find times of day where transit riders experience the slowest overall speeds."
   ]
  },
  {
   "cell_type": "code",
   "execution_count": null,
   "id": "745e9e8f-47c2-4875-afd2-2c55de086aad",
   "metadata": {},
   "outputs": [],
   "source": [
    "try:\n",
    "    rt_day.set_filter(start_time='06:00', end_time='22:00')\n",
    "    display(Markdown(f'Median Trip Speed by Hour of Day{rt_day.filter_formatted}'))\n",
    "\n",
    "    rt_day.chart_speeds(no_title=True);\n",
    "except:\n",
    "    display(Markdown(f'Chart not available for this agency'))\n",
    "    pass"
   ]
  },
  {
   "cell_type": "markdown",
   "id": "6ce187c8-c7bf-44f4-970e-b3abd69ddc38",
   "metadata": {
    "tags": []
   },
   "source": [
    "## Single-Route Detail Example (Speeds)\n",
    "\n",
    "* These maps highlight a single route which runs throughout the day, with a low average trip speed and a high amount of variation in speeds between different trips."
   ]
  },
  {
   "cell_type": "code",
   "execution_count": null,
   "id": "c7b4b043-6d15-4d9c-8aac-f0f6649e9552",
   "metadata": {},
   "outputs": [],
   "source": [
    "try:\n",
    "    map_from_metrics(rt_day, metrics_df)\n",
    "except Exception as e:\n",
    "    # print(e)\n",
    "    display(Markdown(f'Example not available for this agency'))\n",
    "    pass"
   ]
  },
  {
   "cell_type": "markdown",
   "id": "a34aa393-a970-422f-99b0-43d4f2f29171",
   "metadata": {
    "tags": []
   },
   "source": [
    "## Single-Route Detail Example (Variance)\n",
    "\n",
    "* These maps highlight the same route as above, but showing _variance_ in speeds for each segment instead of 20th percentile speeds.\n",
    "* Darker segments have higher variance, these are the segments where speeds are most inconsistent between individual trips.\n",
    "* Segments with high variance (some fast trips and some slow trips) might be better-suited to a different set of projects than segments that experience consistently slow speeds."
   ]
  },
  {
   "cell_type": "code",
   "execution_count": null,
   "id": "63304124-a7fc-4908-81e8-0ccd93675f1c",
   "metadata": {},
   "outputs": [],
   "source": [
    "try:\n",
    "    map_from_metrics(rt_day, metrics_df, which_map = 'variance')\n",
    "except Exception as e:\n",
    "    # print(e)\n",
    "    display(Markdown(f'Example not available for this agency'))\n",
    "    pass"
   ]
  },
  {
   "cell_type": "markdown",
   "id": "c2bbacc6-9111-44c8-8a3e-2514cfc2f68a",
   "metadata": {},
   "source": [
    "# Enhanced Exports Sandbox"
   ]
  },
  {
   "cell_type": "code",
   "execution_count": null,
   "id": "6ffdb6a1-0f23-407c-870d-07b4665ae776",
   "metadata": {},
   "outputs": [],
   "source": [
    "from calitp_data.storage import get_fs"
   ]
  },
  {
   "cell_type": "code",
   "execution_count": null,
   "id": "e994683f-5333-4451-9943-784fbad485be",
   "metadata": {},
   "outputs": [],
   "source": [
    "fs = get_fs()"
   ]
  },
  {
   "cell_type": "code",
   "execution_count": null,
   "id": "ec5c56cb-044f-41a2-a8f0-1ed0adb51b25",
   "metadata": {},
   "outputs": [],
   "source": [
    "test_path = \"gs://calitp-map-tiles/metro_mid_TEST.geojson.gz\""
   ]
  },
  {
   "cell_type": "code",
   "execution_count": null,
   "id": "bc8bf008-8011-40a4-a3e0-9c366103ad64",
   "metadata": {},
   "outputs": [],
   "source": [
    "gdf = rt_day.detailed_map_view.copy()"
   ]
  },
  {
   "cell_type": "code",
   "execution_count": null,
   "id": "b2ae9ddd-f441-4947-94f0-aee54bd45669",
   "metadata": {},
   "outputs": [],
   "source": [
    "gdf.columns"
   ]
  },
  {
   "cell_type": "code",
   "execution_count": null,
   "id": "601deecf-9285-4bbc-b25f-d142e9537066",
   "metadata": {},
   "outputs": [],
   "source": [
    "shn_gdf = rt_day.shn.copy().to_crs(shared_utils.geography_utils.WGS84)"
   ]
  },
  {
   "cell_type": "code",
   "execution_count": null,
   "id": "a086b36c-2352-4eab-9a17-7555cf7c7dc2",
   "metadata": {},
   "outputs": [],
   "source": [
    "gdf = shn_gdf ## temp for shn export --> Andrew"
   ]
  },
  {
   "cell_type": "code",
   "execution_count": null,
   "id": "4b70572f-7c25-40b5-be2f-5b45f88d0b5f",
   "metadata": {},
   "outputs": [],
   "source": [
    "gdf = pd.concat([gdf, shn_gdf])"
   ]
  },
  {
   "cell_type": "code",
   "execution_count": null,
   "id": "751f8105-830a-43c0-acec-18237d8fb965",
   "metadata": {
    "tags": []
   },
   "outputs": [],
   "source": [
    "gdf.explore()"
   ]
  },
  {
   "cell_type": "code",
   "execution_count": null,
   "id": "7a6a5f11-85ae-4209-ba79-19fe428dff58",
   "metadata": {},
   "outputs": [],
   "source": [
    "geojson_str = gdf.to_json()\n",
    "geojson_bytes = geojson_str.encode('utf-8')"
   ]
  },
  {
   "cell_type": "code",
   "execution_count": null,
   "id": "df1a0543-d97c-40f0-91d9-4bbcbb69469a",
   "metadata": {},
   "outputs": [],
   "source": [
    "import gzip"
   ]
  },
  {
   "cell_type": "code",
   "execution_count": null,
   "id": "a98d913a-8176-4089-92c8-2b80fa6b3cfa",
   "metadata": {},
   "outputs": [],
   "source": [
    "with open('./d7_shn.geojson.gz', 'wb') as writer:\n",
    "    with gzip.GzipFile(fileobj=writer, mode=\"w\") as gz:\n",
    "        gz.write(geojson_bytes)"
   ]
  },
  {
   "cell_type": "code",
   "execution_count": null,
   "id": "08413271-d4f3-4727-b184-98df6abd5f8d",
   "metadata": {},
   "outputs": [],
   "source": [
    "# file = fs.open(test_path, 'wb')\n",
    "# gz = gzip.GzipFile(fileobj=file, mode=\"wb\")  # use \"wb\" if bytes\n",
    "# gz.write(geojson_bytes)\n",
    "# gz.close()\n",
    "# file.close()"
   ]
  },
  {
   "cell_type": "code",
   "execution_count": null,
   "id": "fec82698-5d90-44ca-858b-e7ab33d98f39",
   "metadata": {
    "tags": []
   },
   "outputs": [],
   "source": [
    "with fs.open(test_path, 'wb') as writer:\n",
    "    with gzip.GzipFile(fileobj=writer, mode=\"w\") as gz:\n",
    "        gz.write(geojson_bytes)"
   ]
  },
  {
   "cell_type": "code",
   "execution_count": null,
   "id": "6f2184a3-b3da-4762-8c97-5620a5a41f7f",
   "metadata": {},
   "outputs": [],
   "source": [
    "import base64\n",
    "import json\n",
    "state = {\"name\": \"LA Metro Bus Speed Maps Midday\",\n",
    "         \"url\": \"https://storage.googleapis.com/calitp-map-tiles/metro_mid_TEST.geojson.gz\"}\n",
    "base64state = base64.urlsafe_b64encode(json.dumps(state).encode()).decode()\n",
    "base64state"
   ]
  },
  {
   "cell_type": "code",
   "execution_count": null,
   "id": "0db9ce8a-2daa-4935-a960-b4aca4951c8f",
   "metadata": {},
   "outputs": [],
   "source": [
    "rt_day.speed_map_params[1]"
   ]
  },
  {
   "cell_type": "code",
   "execution_count": null,
   "id": "a9e0e017-1776-4254-a9a5-90d6a3a58b8a",
   "metadata": {},
   "outputs": [],
   "source": [
    "cmap = rt_day.speed_map_params[1]"
   ]
  },
  {
   "cell_type": "code",
   "execution_count": null,
   "id": "ea24acef-5478-47dc-8a1a-d37d57d1e199",
   "metadata": {},
   "outputs": [],
   "source": [
    "cmap.rgb_bytes_tuple(15)  # 15mph example..."
   ]
  },
  {
   "cell_type": "code",
   "execution_count": null,
   "id": "42005537-bf2f-4810-a0d2-a5633da4d8c4",
   "metadata": {},
   "outputs": [],
   "source": [
    "# base64state = base64.urlsafe_b64encode(json.dumps(rt_day.spa_map_state).encode()).decode()\n",
    "# IFrame(f'https://leaflet-speedmaps--cal-itp-data-analyses.netlify.app/?state={base64state}',width=1200,height=600)"
   ]
  },
  {
   "cell_type": "code",
   "execution_count": null,
   "id": "f1f7b3d9-c8f9-4eef-9d0a-ba9b728e390e",
   "metadata": {},
   "outputs": [],
   "source": []
  }
 ],
 "metadata": {
  "kernelspec": {
   "display_name": "Python 3 (ipykernel)",
   "language": "python",
   "name": "python3"
  },
  "language_info": {
   "codemirror_mode": {
    "name": "ipython",
    "version": 3
   },
   "file_extension": ".py",
   "mimetype": "text/x-python",
   "name": "python",
   "nbconvert_exporter": "python",
   "pygments_lexer": "ipython3",
   "version": "3.9.13"
  },
  "widgets": {
   "application/vnd.jupyter.widget-state+json": {
    "state": {},
    "version_major": 2,
    "version_minor": 0
   }
  }
 },
 "nbformat": 4,
 "nbformat_minor": 5
}
