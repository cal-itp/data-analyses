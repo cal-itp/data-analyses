{
 "cells": [
  {
   "cell_type": "code",
   "execution_count": 1,
   "id": "46898b5c-b5cc-4096-ab68-8c3e42fab870",
   "metadata": {},
   "outputs": [],
   "source": [
    "%%capture\n",
    "import warnings\n",
    "warnings.filterwarnings('ignore')\n",
    "\n",
    "import os\n",
    "os.environ[\"CALITP_BQ_MAX_BYTES\"] = str(800_000_000_000)\n",
    "import shared_utils\n",
    "\n",
    "from calitp_data_analysis.tables import tbls\n",
    "import calitp_data_analysis.magics\n",
    "\n",
    "from siuba import *\n",
    "import pandas as pd\n",
    "import geopandas as gpd\n",
    "\n",
    "import datetime as dt\n",
    "\n",
    "import importlib\n",
    "from rt_analysis import rt_filter_map_plot\n",
    "import build_speedmaps_index\n",
    "\n",
    "from IPython.display import display, Markdown, Latex, HTML, IFrame\n",
    "import json\n",
    "import base64"
   ]
  },
  {
   "cell_type": "code",
   "execution_count": 2,
   "id": "9f15ed6a-5ab7-4f57-9695-3f762781b74c",
   "metadata": {
    "tags": [
     "parameters"
    ]
   },
   "outputs": [],
   "source": [
    "## parameters cell\n",
    "itp_id = 300"
   ]
  },
  {
   "cell_type": "code",
   "execution_count": 3,
   "id": "a639fd84-29ca-4678-b568-2b1022701e14",
   "metadata": {},
   "outputs": [],
   "source": [
    "analysis_date = build_speedmaps_index.ANALYSIS_DATE"
   ]
  },
  {
   "cell_type": "code",
   "execution_count": 4,
   "id": "47c79d99-c82f-4e1e-b11e-2b1e83c13a1b",
   "metadata": {},
   "outputs": [
    {
     "name": "stdout",
     "output_type": "stream",
     "text": [
      "{\"human_date\": \"May 17 2023 (Wednesday)\"}\n"
     ]
    }
   ],
   "source": [
    "%%capture_parameters\n",
    "human_date = analysis_date.strftime('%B %d %Y (%A)')\n",
    "human_date"
   ]
  },
  {
   "cell_type": "code",
   "execution_count": 5,
   "id": "e4cbefc6-9bbb-4989-85b7-1f31da17fcb8",
   "metadata": {},
   "outputs": [],
   "source": [
    "%%capture\n",
    "rt_day = rt_filter_map_plot.from_gcs(itp_id, analysis_date)"
   ]
  },
  {
   "cell_type": "code",
   "execution_count": 6,
   "id": "6c335d40-7a7b-4641-8a3d-c970b2823cdf",
   "metadata": {},
   "outputs": [
    {
     "name": "stdout",
     "output_type": "stream",
     "text": [
      "{\"organization_name\": \"City of Santa Monica\"}\n"
     ]
    }
   ],
   "source": [
    "%%capture_parameters\n",
    "organization_name = rt_day.organization_name\n",
    "organization_name"
   ]
  },
  {
   "cell_type": "markdown",
   "id": "52110155-d104-4043-8376-3f83e82a959a",
   "metadata": {},
   "source": [
    "# {organization_name}"
   ]
  },
  {
   "cell_type": "markdown",
   "id": "7d5572cd-dd67-4e26-b100-a0e7472a4a17",
   "metadata": {
    "tags": []
   },
   "source": [
    "## About These Maps:\n",
    "\n",
    "* Each map shows bus (and rail, if applicable) speeds for {organization_name}, with a map each for the morning peak, midday, and afternoon peak periods on {human_date}.\n",
    "* On the map, routes are split into segments corresponding to the distance between two stops, allowing you to focus on specific portions of the route experiencing a slowdown.\n",
    "* Route segments are arrow-shaped to indicate direction of travel. Thicker segments indicate more frequent transit routes.\n",
    "* State Highway Network routes are outlined in gray.\n",
    "* Hover over, a segment with your mouse to see the exact speed, route name, and transit service frequency in that segment. \n",
    "    * Higher-frequency routes (3+ trips per hour) are especially important, since those slowdowns correspond to more vehicles, and riders, delayed in traffic."
   ]
  },
  {
   "cell_type": "markdown",
   "id": "74fce4a9-514f-405d-9ce0-1cb1998a696b",
   "metadata": {
    "tags": []
   },
   "source": [
    "## Morning Peak"
   ]
  },
  {
   "cell_type": "code",
   "execution_count": 7,
   "id": "533a64f4-f374-4f2c-94d3-5146ebe7c036",
   "metadata": {},
   "outputs": [],
   "source": [
    "%%capture\n",
    "rt_day.set_filter(start_time='06:00', end_time='09:00')"
   ]
  },
  {
   "cell_type": "markdown",
   "id": "78fc911f-a64a-40c0-b13d-15dd186203f2",
   "metadata": {},
   "source": [
    "### 20th Percentile Speeds by Segment"
   ]
  },
  {
   "cell_type": "code",
   "execution_count": 8,
   "id": "2f317120-99ee-435b-96cd-1236b8ee2e0b",
   "metadata": {
    "tags": []
   },
   "outputs": [],
   "source": [
    "%%capture\n",
    "_m = rt_day.segment_speed_map(how='low_speeds', no_title=True, shn=True,\n",
    "                             no_render=True\n",
    "                            )"
   ]
  },
  {
   "cell_type": "code",
   "execution_count": 9,
   "id": "1b8ea029-c5e3-4b97-8bef-30df3934d877",
   "metadata": {
    "tags": []
   },
   "outputs": [],
   "source": [
    "%%capture\n",
    "rt_day.map_gz_export()"
   ]
  },
  {
   "cell_type": "code",
   "execution_count": 10,
   "id": "faa5e04f-d1f7-47c5-b2d3-60590eb73bdc",
   "metadata": {},
   "outputs": [
    {
     "data": {
      "text/markdown": [
       "<a href=\"https://leaflet-speedmaps--cal-itp-data-analyses.netlify.app/?state=eyJuYW1lIjogIm51bGwiLCAibGF5ZXJzIjogW3sibmFtZSI6ICJEMDcgU3RhdGUgSGlnaHdheSBOZXR3b3JrIiwgInVybCI6ICJodHRwczovL3N0b3JhZ2UuZ29vZ2xlYXBpcy5jb20vY2FsaXRwLW1hcC10aWxlcy9zcGVlZHNfMjAyMy0wNS0xNy8wN19TSE4uZ2VvanNvbi5neiIsICJ0eXBlIjogInN0YXRlX2hpZ2h3YXlfbmV0d29yayJ9LCB7Im5hbWUiOiAiQ2l0eSBvZiBTYW50YSBNb25pY2EgVmVoaWNsZSBTcGVlZHMgTWF5IDE3LCAyMDIzIChXZWQpIiwgInVybCI6ICJodHRwczovL3N0b3JhZ2UuZ29vZ2xlYXBpcy5jb20vY2FsaXRwLW1hcC10aWxlcy9zcGVlZHNfMjAyMy0wNS0xNy8zMDBfQU1fUGVha19zcGVlZHMuZ2VvanNvbi5neiIsICJ0eXBlIjogInNwZWVkbWFwIiwgInByb3BlcnRpZXMiOiB7InN0cm9rZWQiOiBmYWxzZSwgImhpZ2hsaWdodF9zYXR1cmF0aW9uX211bHRpcGxpZXIiOiAwLjUsICJ0b29sdGlwX3NwZWVkX2tleSI6ICJwMjBfbXBoIn19XSwgImxhdF9sb24iOiBbMzQuMDI3MDgzNTc3MDE5MzQsIC0xMTguNDUwMTM5NjA0MDU3MV0sICJ6b29tIjogMTMsICJsZWdlbmRfdXJsIjogImh0dHBzOi8vc3RvcmFnZS5nb29nbGVhcGlzLmNvbS9jYWxpdHAtbWFwLXRpbGVzL3NwZWVkc19sZWdlbmQuc3ZnIn0=\" target=\"_blank\">Open Full Map in New Tab</a>"
      ],
      "text/plain": [
       "<IPython.core.display.Markdown object>"
      ]
     },
     "metadata": {},
     "output_type": "display_data"
    }
   ],
   "source": [
    "rt_day.render_spa_link()"
   ]
  },
  {
   "cell_type": "code",
   "execution_count": 11,
   "id": "5948822e-8902-4e0f-96a8-ff12af99b89b",
   "metadata": {
    "tags": []
   },
   "outputs": [
    {
     "data": {
      "text/html": [
       "\n",
       "        <iframe\n",
       "            width=\"1000\"\n",
       "            height=\"650\"\n",
       "            src=\"https://leaflet-speedmaps--cal-itp-data-analyses.netlify.app/?state=eyJuYW1lIjogIm51bGwiLCAibGF5ZXJzIjogW3sibmFtZSI6ICJEMDcgU3RhdGUgSGlnaHdheSBOZXR3b3JrIiwgInVybCI6ICJodHRwczovL3N0b3JhZ2UuZ29vZ2xlYXBpcy5jb20vY2FsaXRwLW1hcC10aWxlcy9zcGVlZHNfMjAyMy0wNS0xNy8wN19TSE4uZ2VvanNvbi5neiIsICJ0eXBlIjogInN0YXRlX2hpZ2h3YXlfbmV0d29yayJ9LCB7Im5hbWUiOiAiQ2l0eSBvZiBTYW50YSBNb25pY2EgVmVoaWNsZSBTcGVlZHMgTWF5IDE3LCAyMDIzIChXZWQpIiwgInVybCI6ICJodHRwczovL3N0b3JhZ2UuZ29vZ2xlYXBpcy5jb20vY2FsaXRwLW1hcC10aWxlcy9zcGVlZHNfMjAyMy0wNS0xNy8zMDBfQU1fUGVha19zcGVlZHMuZ2VvanNvbi5neiIsICJ0eXBlIjogInNwZWVkbWFwIiwgInByb3BlcnRpZXMiOiB7InN0cm9rZWQiOiBmYWxzZSwgImhpZ2hsaWdodF9zYXR1cmF0aW9uX211bHRpcGxpZXIiOiAwLjUsICJ0b29sdGlwX3NwZWVkX2tleSI6ICJwMjBfbXBoIn19XSwgImxhdF9sb24iOiBbMzQuMDI3MDgzNTc3MDE5MzQsIC0xMTguNDUwMTM5NjA0MDU3MV0sICJ6b29tIjogMTMsICJsZWdlbmRfdXJsIjogImh0dHBzOi8vc3RvcmFnZS5nb29nbGVhcGlzLmNvbS9jYWxpdHAtbWFwLXRpbGVzL3NwZWVkc19sZWdlbmQuc3ZnIn0=\"\n",
       "            frameborder=\"0\"\n",
       "            allowfullscreen\n",
       "            \n",
       "        ></iframe>\n",
       "        "
      ],
      "text/plain": [
       "<IPython.lib.display.IFrame at 0x7f18dce06dc0>"
      ]
     },
     "metadata": {},
     "output_type": "display_data"
    }
   ],
   "source": [
    "rt_day.display_spa_map()"
   ]
  },
  {
   "cell_type": "markdown",
   "id": "ccf9e4a3-0dd7-47f6-9ee4-3cf301379ffd",
   "metadata": {},
   "source": [
    "### Variation in Speeds by Segment\n",
    "\n",
    "* This visualization shows variation as the ratio between the 80th percentile and 20th percentile speeds in each segment\n",
    "* Segments with high variation in speeds make it difficult for transit operators to set accurate schedules, and can cause inconsistent service for riders"
   ]
  },
  {
   "cell_type": "code",
   "execution_count": 12,
   "id": "b0d402fb-024b-4a8b-a11b-521b8a310ce7",
   "metadata": {},
   "outputs": [],
   "source": [
    "rt_day.map_variance(no_render=True)"
   ]
  },
  {
   "cell_type": "code",
   "execution_count": 13,
   "id": "521f5dc5-3e23-4e61-90f2-4ee35120866b",
   "metadata": {},
   "outputs": [],
   "source": [
    "%%capture\n",
    "rt_day.map_gz_export(map_type = 'variance')"
   ]
  },
  {
   "cell_type": "code",
   "execution_count": 14,
   "id": "d70aa1f1-451e-4bfc-9873-466e3304976f",
   "metadata": {},
   "outputs": [
    {
     "data": {
      "text/markdown": [
       "<a href=\"https://leaflet-speedmaps--cal-itp-data-analyses.netlify.app/?state=eyJuYW1lIjogIm51bGwiLCAibGF5ZXJzIjogW3sibmFtZSI6ICJEMDcgU3RhdGUgSGlnaHdheSBOZXR3b3JrIiwgInVybCI6ICJodHRwczovL3N0b3JhZ2UuZ29vZ2xlYXBpcy5jb20vY2FsaXRwLW1hcC10aWxlcy9zcGVlZHNfMjAyMy0wNS0xNy8wN19TSE4uZ2VvanNvbi5neiIsICJ0eXBlIjogInN0YXRlX2hpZ2h3YXlfbmV0d29yayJ9LCB7Im5hbWUiOiAiQ2l0eSBvZiBTYW50YSBNb25pY2EgVmFyaWF0aW9uIGluIFNwZWVkcyBNYXkgMTcsIDIwMjMgKFdlZCkiLCAidXJsIjogImh0dHBzOi8vc3RvcmFnZS5nb29nbGVhcGlzLmNvbS9jYWxpdHAtbWFwLXRpbGVzL3NwZWVkc18yMDIzLTA1LTE3LzMwMF9BTV9QZWFrX3ZhcmlhbmNlLmdlb2pzb24uZ3oiLCAidHlwZSI6ICJzcGVlZF92YXJpYXRpb24iLCAicHJvcGVydGllcyI6IHsic3Ryb2tlZCI6IGZhbHNlLCAiaGlnaGxpZ2h0X3NhdHVyYXRpb25fbXVsdGlwbGllciI6IDAuNX19XSwgImxhdF9sb24iOiBbMzQuMDI3MDgzNTc3MDE5MzQsIC0xMTguNDUwMTM5NjA0MDU3MV0sICJ6b29tIjogMTMsICJsZWdlbmRfdXJsIjogImh0dHBzOi8vc3RvcmFnZS5nb29nbGVhcGlzLmNvbS9jYWxpdHAtbWFwLXRpbGVzL3ZhcmlhbmNlX2xlZ2VuZC5zdmcifQ==\" target=\"_blank\">Open Full Map in New Tab</a>"
      ],
      "text/plain": [
       "<IPython.core.display.Markdown object>"
      ]
     },
     "metadata": {},
     "output_type": "display_data"
    }
   ],
   "source": [
    "rt_day.render_spa_link()"
   ]
  },
  {
   "cell_type": "code",
   "execution_count": 15,
   "id": "ada4b469-0612-473a-a0fb-d8a5644383b1",
   "metadata": {},
   "outputs": [
    {
     "data": {
      "text/html": [
       "\n",
       "        <iframe\n",
       "            width=\"1000\"\n",
       "            height=\"650\"\n",
       "            src=\"https://leaflet-speedmaps--cal-itp-data-analyses.netlify.app/?state=eyJuYW1lIjogIm51bGwiLCAibGF5ZXJzIjogW3sibmFtZSI6ICJEMDcgU3RhdGUgSGlnaHdheSBOZXR3b3JrIiwgInVybCI6ICJodHRwczovL3N0b3JhZ2UuZ29vZ2xlYXBpcy5jb20vY2FsaXRwLW1hcC10aWxlcy9zcGVlZHNfMjAyMy0wNS0xNy8wN19TSE4uZ2VvanNvbi5neiIsICJ0eXBlIjogInN0YXRlX2hpZ2h3YXlfbmV0d29yayJ9LCB7Im5hbWUiOiAiQ2l0eSBvZiBTYW50YSBNb25pY2EgVmFyaWF0aW9uIGluIFNwZWVkcyBNYXkgMTcsIDIwMjMgKFdlZCkiLCAidXJsIjogImh0dHBzOi8vc3RvcmFnZS5nb29nbGVhcGlzLmNvbS9jYWxpdHAtbWFwLXRpbGVzL3NwZWVkc18yMDIzLTA1LTE3LzMwMF9BTV9QZWFrX3ZhcmlhbmNlLmdlb2pzb24uZ3oiLCAidHlwZSI6ICJzcGVlZF92YXJpYXRpb24iLCAicHJvcGVydGllcyI6IHsic3Ryb2tlZCI6IGZhbHNlLCAiaGlnaGxpZ2h0X3NhdHVyYXRpb25fbXVsdGlwbGllciI6IDAuNX19XSwgImxhdF9sb24iOiBbMzQuMDI3MDgzNTc3MDE5MzQsIC0xMTguNDUwMTM5NjA0MDU3MV0sICJ6b29tIjogMTMsICJsZWdlbmRfdXJsIjogImh0dHBzOi8vc3RvcmFnZS5nb29nbGVhcGlzLmNvbS9jYWxpdHAtbWFwLXRpbGVzL3ZhcmlhbmNlX2xlZ2VuZC5zdmcifQ==\"\n",
       "            frameborder=\"0\"\n",
       "            allowfullscreen\n",
       "            \n",
       "        ></iframe>\n",
       "        "
      ],
      "text/plain": [
       "<IPython.lib.display.IFrame at 0x7f194cecb700>"
      ]
     },
     "metadata": {},
     "output_type": "display_data"
    }
   ],
   "source": [
    "rt_day.display_spa_map()"
   ]
  },
  {
   "cell_type": "markdown",
   "id": "3d263ba2-49ae-4e02-9d06-3181b03f51ba",
   "metadata": {
    "tags": []
   },
   "source": [
    "## Midday"
   ]
  },
  {
   "cell_type": "code",
   "execution_count": 16,
   "id": "f5344e63-89d2-43d6-9783-55a3061c99d2",
   "metadata": {},
   "outputs": [],
   "source": [
    "%%capture\n",
    "rt_day.set_filter(start_time='10:00', end_time='14:00')"
   ]
  },
  {
   "cell_type": "markdown",
   "id": "12c8c58f-162b-4e72-bfa5-e12f974c53e4",
   "metadata": {},
   "source": [
    "### 20th Percentile Speeds by Segment"
   ]
  },
  {
   "cell_type": "code",
   "execution_count": 17,
   "id": "835ae4f1-0364-4fbf-a428-41d5233e6424",
   "metadata": {
    "tags": []
   },
   "outputs": [],
   "source": [
    "%%capture\n",
    "_m = rt_day.segment_speed_map(how='low_speeds', no_title=True, shn=True,\n",
    "                             no_render=True\n",
    "                            )"
   ]
  },
  {
   "cell_type": "code",
   "execution_count": 18,
   "id": "72419146-46bc-42c6-8478-ccd6cebea18d",
   "metadata": {
    "tags": []
   },
   "outputs": [],
   "source": [
    "%%capture\n",
    "rt_day.map_gz_export()"
   ]
  },
  {
   "cell_type": "code",
   "execution_count": 19,
   "id": "0e18681c-794d-418e-b2b5-8aa7bbcbade1",
   "metadata": {},
   "outputs": [
    {
     "data": {
      "text/markdown": [
       "<a href=\"https://leaflet-speedmaps--cal-itp-data-analyses.netlify.app/?state=eyJuYW1lIjogIm51bGwiLCAibGF5ZXJzIjogW3sibmFtZSI6ICJEMDcgU3RhdGUgSGlnaHdheSBOZXR3b3JrIiwgInVybCI6ICJodHRwczovL3N0b3JhZ2UuZ29vZ2xlYXBpcy5jb20vY2FsaXRwLW1hcC10aWxlcy9zcGVlZHNfMjAyMy0wNS0xNy8wN19TSE4uZ2VvanNvbi5neiIsICJ0eXBlIjogInN0YXRlX2hpZ2h3YXlfbmV0d29yayJ9LCB7Im5hbWUiOiAiQ2l0eSBvZiBTYW50YSBNb25pY2EgVmVoaWNsZSBTcGVlZHMgTWF5IDE3LCAyMDIzIChXZWQpIiwgInVybCI6ICJodHRwczovL3N0b3JhZ2UuZ29vZ2xlYXBpcy5jb20vY2FsaXRwLW1hcC10aWxlcy9zcGVlZHNfMjAyMy0wNS0xNy8zMDBfTWlkZGF5X3NwZWVkcy5nZW9qc29uLmd6IiwgInR5cGUiOiAic3BlZWRtYXAiLCAicHJvcGVydGllcyI6IHsic3Ryb2tlZCI6IGZhbHNlLCAiaGlnaGxpZ2h0X3NhdHVyYXRpb25fbXVsdGlwbGllciI6IDAuNSwgInRvb2x0aXBfc3BlZWRfa2V5IjogInAyMF9tcGgifX1dLCAibGF0X2xvbiI6IFszNC4wMjY3NjIwMDc3MTE3MSwgLTExOC40NTA2NDQ4MjQ2NzU3XSwgInpvb20iOiAxMywgImxlZ2VuZF91cmwiOiAiaHR0cHM6Ly9zdG9yYWdlLmdvb2dsZWFwaXMuY29tL2NhbGl0cC1tYXAtdGlsZXMvc3BlZWRzX2xlZ2VuZC5zdmcifQ==\" target=\"_blank\">Open Full Map in New Tab</a>"
      ],
      "text/plain": [
       "<IPython.core.display.Markdown object>"
      ]
     },
     "metadata": {},
     "output_type": "display_data"
    }
   ],
   "source": [
    "rt_day.render_spa_link()"
   ]
  },
  {
   "cell_type": "code",
   "execution_count": 20,
   "id": "4a3530dd-7432-459e-a22b-3c211f29cff2",
   "metadata": {
    "tags": []
   },
   "outputs": [
    {
     "data": {
      "text/html": [
       "\n",
       "        <iframe\n",
       "            width=\"1000\"\n",
       "            height=\"650\"\n",
       "            src=\"https://leaflet-speedmaps--cal-itp-data-analyses.netlify.app/?state=eyJuYW1lIjogIm51bGwiLCAibGF5ZXJzIjogW3sibmFtZSI6ICJEMDcgU3RhdGUgSGlnaHdheSBOZXR3b3JrIiwgInVybCI6ICJodHRwczovL3N0b3JhZ2UuZ29vZ2xlYXBpcy5jb20vY2FsaXRwLW1hcC10aWxlcy9zcGVlZHNfMjAyMy0wNS0xNy8wN19TSE4uZ2VvanNvbi5neiIsICJ0eXBlIjogInN0YXRlX2hpZ2h3YXlfbmV0d29yayJ9LCB7Im5hbWUiOiAiQ2l0eSBvZiBTYW50YSBNb25pY2EgVmVoaWNsZSBTcGVlZHMgTWF5IDE3LCAyMDIzIChXZWQpIiwgInVybCI6ICJodHRwczovL3N0b3JhZ2UuZ29vZ2xlYXBpcy5jb20vY2FsaXRwLW1hcC10aWxlcy9zcGVlZHNfMjAyMy0wNS0xNy8zMDBfTWlkZGF5X3NwZWVkcy5nZW9qc29uLmd6IiwgInR5cGUiOiAic3BlZWRtYXAiLCAicHJvcGVydGllcyI6IHsic3Ryb2tlZCI6IGZhbHNlLCAiaGlnaGxpZ2h0X3NhdHVyYXRpb25fbXVsdGlwbGllciI6IDAuNSwgInRvb2x0aXBfc3BlZWRfa2V5IjogInAyMF9tcGgifX1dLCAibGF0X2xvbiI6IFszNC4wMjY3NjIwMDc3MTE3MSwgLTExOC40NTA2NDQ4MjQ2NzU3XSwgInpvb20iOiAxMywgImxlZ2VuZF91cmwiOiAiaHR0cHM6Ly9zdG9yYWdlLmdvb2dsZWFwaXMuY29tL2NhbGl0cC1tYXAtdGlsZXMvc3BlZWRzX2xlZ2VuZC5zdmcifQ==\"\n",
       "            frameborder=\"0\"\n",
       "            allowfullscreen\n",
       "            \n",
       "        ></iframe>\n",
       "        "
      ],
      "text/plain": [
       "<IPython.lib.display.IFrame at 0x7f18ca528460>"
      ]
     },
     "metadata": {},
     "output_type": "display_data"
    }
   ],
   "source": [
    "rt_day.display_spa_map()"
   ]
  },
  {
   "cell_type": "markdown",
   "id": "b1abe807-9ba5-40bf-bffd-6747446ea516",
   "metadata": {},
   "source": [
    "### Variation in Speeds by Segment\n",
    "\n",
    "* This visualization shows variation as the ratio between the 80th percentile and 20th percentile speeds in each segment\n",
    "* Segments with high variation in speeds make it difficult for transit operators to set accurate schedules, and can cause inconsistent service for riders"
   ]
  },
  {
   "cell_type": "code",
   "execution_count": 21,
   "id": "ed6db1a8-9774-4a5b-8297-06f0a5067a02",
   "metadata": {},
   "outputs": [],
   "source": [
    "rt_day.map_variance(no_render=True)"
   ]
  },
  {
   "cell_type": "code",
   "execution_count": 22,
   "id": "f75d40a5-7d9c-49c2-a320-c245d0dfd29b",
   "metadata": {},
   "outputs": [],
   "source": [
    "%%capture\n",
    "rt_day.map_gz_export(map_type = 'variance')"
   ]
  },
  {
   "cell_type": "code",
   "execution_count": 23,
   "id": "551d9840-580c-4c30-bf83-8f8a971c61fe",
   "metadata": {},
   "outputs": [
    {
     "data": {
      "text/markdown": [
       "<a href=\"https://leaflet-speedmaps--cal-itp-data-analyses.netlify.app/?state=eyJuYW1lIjogIm51bGwiLCAibGF5ZXJzIjogW3sibmFtZSI6ICJEMDcgU3RhdGUgSGlnaHdheSBOZXR3b3JrIiwgInVybCI6ICJodHRwczovL3N0b3JhZ2UuZ29vZ2xlYXBpcy5jb20vY2FsaXRwLW1hcC10aWxlcy9zcGVlZHNfMjAyMy0wNS0xNy8wN19TSE4uZ2VvanNvbi5neiIsICJ0eXBlIjogInN0YXRlX2hpZ2h3YXlfbmV0d29yayJ9LCB7Im5hbWUiOiAiQ2l0eSBvZiBTYW50YSBNb25pY2EgVmFyaWF0aW9uIGluIFNwZWVkcyBNYXkgMTcsIDIwMjMgKFdlZCkiLCAidXJsIjogImh0dHBzOi8vc3RvcmFnZS5nb29nbGVhcGlzLmNvbS9jYWxpdHAtbWFwLXRpbGVzL3NwZWVkc18yMDIzLTA1LTE3LzMwMF9NaWRkYXlfdmFyaWFuY2UuZ2VvanNvbi5neiIsICJ0eXBlIjogInNwZWVkX3ZhcmlhdGlvbiIsICJwcm9wZXJ0aWVzIjogeyJzdHJva2VkIjogZmFsc2UsICJoaWdobGlnaHRfc2F0dXJhdGlvbl9tdWx0aXBsaWVyIjogMC41fX1dLCAibGF0X2xvbiI6IFszNC4wMjY3NjIwMDc3MTE3MSwgLTExOC40NTA2NDQ4MjQ2NzU3XSwgInpvb20iOiAxMywgImxlZ2VuZF91cmwiOiAiaHR0cHM6Ly9zdG9yYWdlLmdvb2dsZWFwaXMuY29tL2NhbGl0cC1tYXAtdGlsZXMvdmFyaWFuY2VfbGVnZW5kLnN2ZyJ9\" target=\"_blank\">Open Full Map in New Tab</a>"
      ],
      "text/plain": [
       "<IPython.core.display.Markdown object>"
      ]
     },
     "metadata": {},
     "output_type": "display_data"
    }
   ],
   "source": [
    "rt_day.render_spa_link()"
   ]
  },
  {
   "cell_type": "code",
   "execution_count": 24,
   "id": "029e2e16-50c5-4271-9a46-fdf63fed6090",
   "metadata": {},
   "outputs": [
    {
     "data": {
      "text/html": [
       "\n",
       "        <iframe\n",
       "            width=\"1000\"\n",
       "            height=\"650\"\n",
       "            src=\"https://leaflet-speedmaps--cal-itp-data-analyses.netlify.app/?state=eyJuYW1lIjogIm51bGwiLCAibGF5ZXJzIjogW3sibmFtZSI6ICJEMDcgU3RhdGUgSGlnaHdheSBOZXR3b3JrIiwgInVybCI6ICJodHRwczovL3N0b3JhZ2UuZ29vZ2xlYXBpcy5jb20vY2FsaXRwLW1hcC10aWxlcy9zcGVlZHNfMjAyMy0wNS0xNy8wN19TSE4uZ2VvanNvbi5neiIsICJ0eXBlIjogInN0YXRlX2hpZ2h3YXlfbmV0d29yayJ9LCB7Im5hbWUiOiAiQ2l0eSBvZiBTYW50YSBNb25pY2EgVmFyaWF0aW9uIGluIFNwZWVkcyBNYXkgMTcsIDIwMjMgKFdlZCkiLCAidXJsIjogImh0dHBzOi8vc3RvcmFnZS5nb29nbGVhcGlzLmNvbS9jYWxpdHAtbWFwLXRpbGVzL3NwZWVkc18yMDIzLTA1LTE3LzMwMF9NaWRkYXlfdmFyaWFuY2UuZ2VvanNvbi5neiIsICJ0eXBlIjogInNwZWVkX3ZhcmlhdGlvbiIsICJwcm9wZXJ0aWVzIjogeyJzdHJva2VkIjogZmFsc2UsICJoaWdobGlnaHRfc2F0dXJhdGlvbl9tdWx0aXBsaWVyIjogMC41fX1dLCAibGF0X2xvbiI6IFszNC4wMjY3NjIwMDc3MTE3MSwgLTExOC40NTA2NDQ4MjQ2NzU3XSwgInpvb20iOiAxMywgImxlZ2VuZF91cmwiOiAiaHR0cHM6Ly9zdG9yYWdlLmdvb2dsZWFwaXMuY29tL2NhbGl0cC1tYXAtdGlsZXMvdmFyaWFuY2VfbGVnZW5kLnN2ZyJ9\"\n",
       "            frameborder=\"0\"\n",
       "            allowfullscreen\n",
       "            \n",
       "        ></iframe>\n",
       "        "
      ],
      "text/plain": [
       "<IPython.lib.display.IFrame at 0x7f18ca528e80>"
      ]
     },
     "metadata": {},
     "output_type": "display_data"
    }
   ],
   "source": [
    "rt_day.display_spa_map()"
   ]
  },
  {
   "cell_type": "markdown",
   "id": "704f0788-b4a8-497d-b2aa-c7ac6df939f4",
   "metadata": {
    "tags": []
   },
   "source": [
    "## Afternoon Peak"
   ]
  },
  {
   "cell_type": "code",
   "execution_count": 25,
   "id": "923f1462-b34a-42d2-a632-c5eb3ac16ac6",
   "metadata": {},
   "outputs": [],
   "source": [
    "%%capture\n",
    "rt_day.set_filter(start_time='15:00', end_time='19:00')"
   ]
  },
  {
   "cell_type": "markdown",
   "id": "344950fc-18d1-4eb3-a18b-01d0f218498d",
   "metadata": {},
   "source": [
    "### 20th Percentile Speeds by Segment"
   ]
  },
  {
   "cell_type": "code",
   "execution_count": 26,
   "id": "3ce10fdb-65fd-4b4b-b041-37d453099d9e",
   "metadata": {
    "tags": []
   },
   "outputs": [],
   "source": [
    "%%capture\n",
    "_m = rt_day.segment_speed_map(how='low_speeds', no_title=True, shn=True,\n",
    "                             no_render=True\n",
    "                            )"
   ]
  },
  {
   "cell_type": "code",
   "execution_count": 27,
   "id": "af6d23ea-4f20-4d0f-9855-40c43052c8e5",
   "metadata": {
    "tags": []
   },
   "outputs": [],
   "source": [
    "%%capture\n",
    "rt_day.map_gz_export()"
   ]
  },
  {
   "cell_type": "code",
   "execution_count": 28,
   "id": "9c6966a9-289c-4284-8db3-7aea3b36d16b",
   "metadata": {},
   "outputs": [
    {
     "data": {
      "text/markdown": [
       "<a href=\"https://leaflet-speedmaps--cal-itp-data-analyses.netlify.app/?state=eyJuYW1lIjogIm51bGwiLCAibGF5ZXJzIjogW3sibmFtZSI6ICJEMDcgU3RhdGUgSGlnaHdheSBOZXR3b3JrIiwgInVybCI6ICJodHRwczovL3N0b3JhZ2UuZ29vZ2xlYXBpcy5jb20vY2FsaXRwLW1hcC10aWxlcy9zcGVlZHNfMjAyMy0wNS0xNy8wN19TSE4uZ2VvanNvbi5neiIsICJ0eXBlIjogInN0YXRlX2hpZ2h3YXlfbmV0d29yayJ9LCB7Im5hbWUiOiAiQ2l0eSBvZiBTYW50YSBNb25pY2EgVmVoaWNsZSBTcGVlZHMgTWF5IDE3LCAyMDIzIChXZWQpIiwgInVybCI6ICJodHRwczovL3N0b3JhZ2UuZ29vZ2xlYXBpcy5jb20vY2FsaXRwLW1hcC10aWxlcy9zcGVlZHNfMjAyMy0wNS0xNy8zMDBfUE1fUGVha19zcGVlZHMuZ2VvanNvbi5neiIsICJ0eXBlIjogInNwZWVkbWFwIiwgInByb3BlcnRpZXMiOiB7InN0cm9rZWQiOiBmYWxzZSwgImhpZ2hsaWdodF9zYXR1cmF0aW9uX211bHRpcGxpZXIiOiAwLjUsICJ0b29sdGlwX3NwZWVkX2tleSI6ICJwMjBfbXBoIn19XSwgImxhdF9sb24iOiBbMzQuMDI1NTM0Njc2NTk3NzUsIC0xMTguNDQ2MzAyNzQ3MjQ3NjRdLCAiem9vbSI6IDEzLCAibGVnZW5kX3VybCI6ICJodHRwczovL3N0b3JhZ2UuZ29vZ2xlYXBpcy5jb20vY2FsaXRwLW1hcC10aWxlcy9zcGVlZHNfbGVnZW5kLnN2ZyJ9\" target=\"_blank\">Open Full Map in New Tab</a>"
      ],
      "text/plain": [
       "<IPython.core.display.Markdown object>"
      ]
     },
     "metadata": {},
     "output_type": "display_data"
    }
   ],
   "source": [
    "rt_day.render_spa_link()"
   ]
  },
  {
   "cell_type": "code",
   "execution_count": 29,
   "id": "c2dd6519-3db1-4881-9efa-98337cb6d298",
   "metadata": {
    "tags": []
   },
   "outputs": [
    {
     "data": {
      "text/html": [
       "\n",
       "        <iframe\n",
       "            width=\"1000\"\n",
       "            height=\"650\"\n",
       "            src=\"https://leaflet-speedmaps--cal-itp-data-analyses.netlify.app/?state=eyJuYW1lIjogIm51bGwiLCAibGF5ZXJzIjogW3sibmFtZSI6ICJEMDcgU3RhdGUgSGlnaHdheSBOZXR3b3JrIiwgInVybCI6ICJodHRwczovL3N0b3JhZ2UuZ29vZ2xlYXBpcy5jb20vY2FsaXRwLW1hcC10aWxlcy9zcGVlZHNfMjAyMy0wNS0xNy8wN19TSE4uZ2VvanNvbi5neiIsICJ0eXBlIjogInN0YXRlX2hpZ2h3YXlfbmV0d29yayJ9LCB7Im5hbWUiOiAiQ2l0eSBvZiBTYW50YSBNb25pY2EgVmVoaWNsZSBTcGVlZHMgTWF5IDE3LCAyMDIzIChXZWQpIiwgInVybCI6ICJodHRwczovL3N0b3JhZ2UuZ29vZ2xlYXBpcy5jb20vY2FsaXRwLW1hcC10aWxlcy9zcGVlZHNfMjAyMy0wNS0xNy8zMDBfUE1fUGVha19zcGVlZHMuZ2VvanNvbi5neiIsICJ0eXBlIjogInNwZWVkbWFwIiwgInByb3BlcnRpZXMiOiB7InN0cm9rZWQiOiBmYWxzZSwgImhpZ2hsaWdodF9zYXR1cmF0aW9uX211bHRpcGxpZXIiOiAwLjUsICJ0b29sdGlwX3NwZWVkX2tleSI6ICJwMjBfbXBoIn19XSwgImxhdF9sb24iOiBbMzQuMDI1NTM0Njc2NTk3NzUsIC0xMTguNDQ2MzAyNzQ3MjQ3NjRdLCAiem9vbSI6IDEzLCAibGVnZW5kX3VybCI6ICJodHRwczovL3N0b3JhZ2UuZ29vZ2xlYXBpcy5jb20vY2FsaXRwLW1hcC10aWxlcy9zcGVlZHNfbGVnZW5kLnN2ZyJ9\"\n",
       "            frameborder=\"0\"\n",
       "            allowfullscreen\n",
       "            \n",
       "        ></iframe>\n",
       "        "
      ],
      "text/plain": [
       "<IPython.lib.display.IFrame at 0x7f18da592a90>"
      ]
     },
     "metadata": {},
     "output_type": "display_data"
    }
   ],
   "source": [
    "rt_day.display_spa_map()"
   ]
  },
  {
   "cell_type": "markdown",
   "id": "56c8f305-535e-4b7e-b5d5-959167c21e42",
   "metadata": {},
   "source": [
    "### Variation in Speeds by Segment\n",
    "\n",
    "* This visualization shows variation as the ratio between the 80th percentile and 20th percentile speeds in each segment\n",
    "* Segments with high variation in speeds make it difficult for transit operators to set accurate schedules, and can cause inconsistent service for riders"
   ]
  },
  {
   "cell_type": "code",
   "execution_count": 30,
   "id": "b8469e6d-aa94-4481-a47b-ff8d29c49a21",
   "metadata": {},
   "outputs": [],
   "source": [
    "rt_day.map_variance(no_render=True)"
   ]
  },
  {
   "cell_type": "code",
   "execution_count": 31,
   "id": "ffa01fd1-0d7c-4def-ae35-a43c160849dc",
   "metadata": {},
   "outputs": [],
   "source": [
    "%%capture\n",
    "rt_day.map_gz_export(map_type = 'variance')"
   ]
  },
  {
   "cell_type": "code",
   "execution_count": 32,
   "id": "75202cf8-cd2a-4451-becc-9cdf94db6eff",
   "metadata": {},
   "outputs": [
    {
     "data": {
      "text/markdown": [
       "<a href=\"https://leaflet-speedmaps--cal-itp-data-analyses.netlify.app/?state=eyJuYW1lIjogIm51bGwiLCAibGF5ZXJzIjogW3sibmFtZSI6ICJEMDcgU3RhdGUgSGlnaHdheSBOZXR3b3JrIiwgInVybCI6ICJodHRwczovL3N0b3JhZ2UuZ29vZ2xlYXBpcy5jb20vY2FsaXRwLW1hcC10aWxlcy9zcGVlZHNfMjAyMy0wNS0xNy8wN19TSE4uZ2VvanNvbi5neiIsICJ0eXBlIjogInN0YXRlX2hpZ2h3YXlfbmV0d29yayJ9LCB7Im5hbWUiOiAiQ2l0eSBvZiBTYW50YSBNb25pY2EgVmFyaWF0aW9uIGluIFNwZWVkcyBNYXkgMTcsIDIwMjMgKFdlZCkiLCAidXJsIjogImh0dHBzOi8vc3RvcmFnZS5nb29nbGVhcGlzLmNvbS9jYWxpdHAtbWFwLXRpbGVzL3NwZWVkc18yMDIzLTA1LTE3LzMwMF9QTV9QZWFrX3ZhcmlhbmNlLmdlb2pzb24uZ3oiLCAidHlwZSI6ICJzcGVlZF92YXJpYXRpb24iLCAicHJvcGVydGllcyI6IHsic3Ryb2tlZCI6IGZhbHNlLCAiaGlnaGxpZ2h0X3NhdHVyYXRpb25fbXVsdGlwbGllciI6IDAuNX19XSwgImxhdF9sb24iOiBbMzQuMDI1NTM0Njc2NTk3NzUsIC0xMTguNDQ2MzAyNzQ3MjQ3NjRdLCAiem9vbSI6IDEzLCAibGVnZW5kX3VybCI6ICJodHRwczovL3N0b3JhZ2UuZ29vZ2xlYXBpcy5jb20vY2FsaXRwLW1hcC10aWxlcy92YXJpYW5jZV9sZWdlbmQuc3ZnIn0=\" target=\"_blank\">Open Full Map in New Tab</a>"
      ],
      "text/plain": [
       "<IPython.core.display.Markdown object>"
      ]
     },
     "metadata": {},
     "output_type": "display_data"
    }
   ],
   "source": [
    "rt_day.render_spa_link()"
   ]
  },
  {
   "cell_type": "code",
   "execution_count": 33,
   "id": "a948a37d-e62d-40ce-810d-79b151aa3008",
   "metadata": {},
   "outputs": [
    {
     "data": {
      "text/html": [
       "\n",
       "        <iframe\n",
       "            width=\"1000\"\n",
       "            height=\"650\"\n",
       "            src=\"https://leaflet-speedmaps--cal-itp-data-analyses.netlify.app/?state=eyJuYW1lIjogIm51bGwiLCAibGF5ZXJzIjogW3sibmFtZSI6ICJEMDcgU3RhdGUgSGlnaHdheSBOZXR3b3JrIiwgInVybCI6ICJodHRwczovL3N0b3JhZ2UuZ29vZ2xlYXBpcy5jb20vY2FsaXRwLW1hcC10aWxlcy9zcGVlZHNfMjAyMy0wNS0xNy8wN19TSE4uZ2VvanNvbi5neiIsICJ0eXBlIjogInN0YXRlX2hpZ2h3YXlfbmV0d29yayJ9LCB7Im5hbWUiOiAiQ2l0eSBvZiBTYW50YSBNb25pY2EgVmFyaWF0aW9uIGluIFNwZWVkcyBNYXkgMTcsIDIwMjMgKFdlZCkiLCAidXJsIjogImh0dHBzOi8vc3RvcmFnZS5nb29nbGVhcGlzLmNvbS9jYWxpdHAtbWFwLXRpbGVzL3NwZWVkc18yMDIzLTA1LTE3LzMwMF9QTV9QZWFrX3ZhcmlhbmNlLmdlb2pzb24uZ3oiLCAidHlwZSI6ICJzcGVlZF92YXJpYXRpb24iLCAicHJvcGVydGllcyI6IHsic3Ryb2tlZCI6IGZhbHNlLCAiaGlnaGxpZ2h0X3NhdHVyYXRpb25fbXVsdGlwbGllciI6IDAuNX19XSwgImxhdF9sb24iOiBbMzQuMDI1NTM0Njc2NTk3NzUsIC0xMTguNDQ2MzAyNzQ3MjQ3NjRdLCAiem9vbSI6IDEzLCAibGVnZW5kX3VybCI6ICJodHRwczovL3N0b3JhZ2UuZ29vZ2xlYXBpcy5jb20vY2FsaXRwLW1hcC10aWxlcy92YXJpYW5jZV9sZWdlbmQuc3ZnIn0=\"\n",
       "            frameborder=\"0\"\n",
       "            allowfullscreen\n",
       "            \n",
       "        ></iframe>\n",
       "        "
      ],
      "text/plain": [
       "<IPython.lib.display.IFrame at 0x7f18ca3c0310>"
      ]
     },
     "metadata": {},
     "output_type": "display_data"
    }
   ],
   "source": [
    "rt_day.display_spa_map()"
   ]
  },
  {
   "cell_type": "markdown",
   "id": "8594cbd6-f705-4fe4-91f9-9d9722bdad53",
   "metadata": {
    "tags": []
   },
   "source": [
    "## Daily Speed Patterns\n",
    "\n",
    "* This chart shows the distribution of median trip speeds throughout the day. It can help find times of day where transit riders experience the slowest overall speeds."
   ]
  },
  {
   "cell_type": "code",
   "execution_count": 34,
   "id": "745e9e8f-47c2-4875-afd2-2c55de086aad",
   "metadata": {},
   "outputs": [
    {
     "data": {
      "text/markdown": [
       "Median Trip Speed by Hour of Day, All Route Types, All Routes, 06:00–22:00, May 17, 2023 (Wed)"
      ],
      "text/plain": [
       "<IPython.core.display.Markdown object>"
      ]
     },
     "metadata": {},
     "output_type": "display_data"
    },
    {
     "data": {
      "image/png": "[encoded data removed]",
      "text/plain": [
       "<Figure size 640x480 with 1 Axes>"
      ]
     },
     "metadata": {},
     "output_type": "display_data"
    }
   ],
   "source": [
    "try:\n",
    "    rt_day.set_filter(start_time='06:00', end_time='22:00')\n",
    "    display(Markdown(f'Median Trip Speed by Hour of Day{rt_day.filter_formatted}'))\n",
    "\n",
    "    rt_day.chart_speeds(no_title=True);\n",
    "except:\n",
    "    display(Markdown(f'Chart not available for this agency'))\n",
    "    pass"
   ]
  }
 ],
 "metadata": {
  "kernelspec": {
   "display_name": "Python 3 (ipykernel)",
   "language": "python",
   "name": "python3"
  },
  "language_info": {
   "codemirror_mode": {
    "name": "ipython",
    "version": 3
   },
   "file_extension": ".py",
   "mimetype": "text/x-python",
   "name": "python",
   "nbconvert_exporter": "python",
   "pygments_lexer": "ipython3",
   "version": "3.9.13"
  },
  "widgets": {
   "application/vnd.jupyter.widget-state+json": {
    "state": {},
    "version_major": 2,
    "version_minor": 0
   }
  }
 },
 "nbformat": 4,
 "nbformat_minor": 5
}
