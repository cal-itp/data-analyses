{
 "cells": [
  {
   "cell_type": "code",
   "execution_count": 37,
   "id": "b2f73daf-c437-402c-98df-4f45067a8860",
   "metadata": {},
   "outputs": [],
   "source": [
    "import pandas as pd\n",
    "import geopandas as gpd\n",
    "from siuba import *\n",
    "\n",
    "# from segment_speed_utils import gtfs_schedule_wrangling, helpers, segment_calcs,sched_rt_utils\n",
    "from segment_speed_utils.project_vars import (\n",
    "    COMPILED_CACHED_VIEWS,\n",
    "    PROJECT_CRS,\n",
    "    SEGMENT_GCS,\n",
    ")\n",
    "import datetime as dt"
   ]
  },
  {
   "cell_type": "code",
   "execution_count": 2,
   "id": "f15dae8c-b5fa-44b8-9bfa-08a4fd394b80",
   "metadata": {},
   "outputs": [],
   "source": [
    "import shared_utils"
   ]
  },
  {
   "cell_type": "code",
   "execution_count": 3,
   "id": "6cc9fd1e-4f77-4565-b6cd-6c3c236896a8",
   "metadata": {},
   "outputs": [],
   "source": [
    "from shared_utils.rt_utils import MPH_PER_MPS"
   ]
  },
  {
   "cell_type": "code",
   "execution_count": 4,
   "id": "1ddca7fa-e285-4b33-9fbd-931103bf611d",
   "metadata": {},
   "outputs": [],
   "source": [
    "target_mph = 16\n",
    "target_mps = target_mph / MPH_PER_MPS"
   ]
  },
  {
   "cell_type": "code",
   "execution_count": 5,
   "id": "f37e55ad-e78b-4b16-92ce-69e4cee78cdc",
   "metadata": {},
   "outputs": [
    {
     "data": {
      "text/plain": [
       "'gs://calitp-analytics-data/data-analyses/rt_segment_speeds/'"
      ]
     },
     "execution_count": 5,
     "metadata": {},
     "output_type": "execute_result"
    }
   ],
   "source": [
    "SEGMENT_GCS"
   ]
  },
  {
   "cell_type": "code",
   "execution_count": 6,
   "id": "eda1f9c2-5423-4cb1-83d3-5c0c28906b4b",
   "metadata": {},
   "outputs": [],
   "source": [
    "# analysis_date = shared_utils.rt_dates.DATES['mar2023']\n",
    "analysis_date = shared_utils.rt_dates.DATES['sep2022a']"
   ]
  },
  {
   "cell_type": "code",
   "execution_count": 7,
   "id": "e3c1b211-811d-4eb5-be54-e1e15142dd77",
   "metadata": {},
   "outputs": [],
   "source": [
    "#  from Oct 12 22 RtFilterMapper run, handy to use as a clip geom too\n",
    "corr = gpd.read_parquet('../rt_delay/lincoln_oct12_old.parquet')"
   ]
  },
  {
   "cell_type": "code",
   "execution_count": 8,
   "id": "4b7131ae-456a-4540-b39c-91a62068729b",
   "metadata": {},
   "outputs": [],
   "source": [
    "def get_bbb_feed(analysis_date):\n",
    "\n",
    "    feeds = shared_utils.gtfs_utils_v2.schedule_daily_feed_to_gtfs_dataset_name(analysis_date)\n",
    "    bbb_feed = feeds >> filter(_.gtfs_dataset_name.str.contains('Big Blue'))\n",
    "    return bbb_feed\n",
    "\n",
    "# bbb_dataset_key = bbb_feed.gtfs_dataset_key.iloc[0]\n",
    "# bbb_feed_key = bbb_feed.feed_key.iloc[0]"
   ]
  },
  {
   "cell_type": "code",
   "execution_count": 9,
   "id": "64b0b78e-83a7-4b82-b3f6-dda738660ceb",
   "metadata": {},
   "outputs": [],
   "source": [
    "# mar23 = pd.read_parquet(f'{SEGMENT_GCS}speeds_stop_segments_{analysis_date}.parquet')"
   ]
  },
  {
   "cell_type": "code",
   "execution_count": 10,
   "id": "a45d9ab9-c32b-409a-9b80-544f821131a0",
   "metadata": {},
   "outputs": [],
   "source": [
    "# mar23_shape = pd.read_parquet(f'{SEGMENT_GCS}segment_options/shape_stop_segments_{analysis_date}.parquet')"
   ]
  },
  {
   "cell_type": "code",
   "execution_count": 11,
   "id": "22d59ab3-0ae2-41a1-b256-66763aff4f8e",
   "metadata": {},
   "outputs": [],
   "source": [
    "def get_shapes(analysis_date, bbb_feed):\n",
    "    shapes = pd.read_parquet(f'{SEGMENT_GCS}segment_options/shape_stop_segments_{analysis_date}.parquet')\n",
    "    bbb_shapes = shapes >> filter(_.schedule_gtfs_dataset_key == bbb_feed.gtfs_dataset_key.iloc[0])\n",
    "    bbb_shapes.geometry = gpd.GeoSeries.from_wkb(bbb_shapes.geometry)\n",
    "    bbb_shapes = gpd.GeoDataFrame(bbb_shapes, geometry=bbb_shapes.geometry, crs=PROJECT_CRS)\n",
    "    return bbb_shapes"
   ]
  },
  {
   "cell_type": "code",
   "execution_count": 12,
   "id": "6ad19c7d-c18a-45c3-99ef-52ef9e2c02f3",
   "metadata": {},
   "outputs": [],
   "source": [
    "def get_speeds(analysis_date, bbb_feed):\n",
    "    speeds = pd.read_parquet(f'{SEGMENT_GCS}speeds_stop_segments_{analysis_date}.parquet')\n",
    "    bbb_speeds = (speeds >> filter(_.schedule_gtfs_dataset_key == bbb_feed.gtfs_dataset_key.iloc[0])\n",
    "                     >> select(_.speed_mph, _.meters_elapsed, _.sec_elapsed, _.trip_instance_key, _.stop_sequence)\n",
    "                 )\n",
    "    return bbb_speeds"
   ]
  },
  {
   "cell_type": "code",
   "execution_count": 13,
   "id": "fb62a8f4-c5fc-421e-88c1-b3b4d7df597e",
   "metadata": {},
   "outputs": [
    {
     "name": "stderr",
     "output_type": "stream",
     "text": [
      "/tmp/ipykernel_174898/1351526470.py:4: SettingWithCopyWarning: \n",
      "A value is trying to be set on a copy of a slice from a DataFrame.\n",
      "Try using .loc[row_indexer,col_indexer] = value instead\n",
      "\n",
      "See the caveats in the documentation: https://pandas.pydata.org/pandas-docs/stable/user_guide/indexing.html#returning-a-view-versus-a-copy\n",
      "  bbb_shapes.geometry = gpd.GeoSeries.from_wkb(bbb_shapes.geometry)\n"
     ]
    }
   ],
   "source": [
    "bbb_feed = get_bbb_feed(analysis_date)\n",
    "\n",
    "bbb_speeds = get_speeds(analysis_date, bbb_feed)\n",
    "\n",
    "bbb_shapes = get_shapes(analysis_date, bbb_feed)"
   ]
  },
  {
   "cell_type": "code",
   "execution_count": 14,
   "id": "38eae292-e3e6-4de9-9abd-23a374e36297",
   "metadata": {},
   "outputs": [],
   "source": [
    "lincoln_trips = shared_utils.gtfs_utils_v2.get_trips(selected_date=analysis_date,\n",
    "                                                 operator_feeds=[bbb_feed.feed_key.iloc[0]],\n",
    "                                                custom_filtering = {'route_short_name': ['3', 'R3']})\n",
    "lincoln_trips = lincoln_trips >> select(_.trip_instance_key, _.route_short_name, _.trip_first_departure_ts)\n",
    "\n",
    "lincoln_shapes = bbb_shapes >> inner_join(_, lincoln_trips, on = ['trip_instance_key'])\n",
    "\n",
    "lincoln_shapes = lincoln_shapes >> inner_join(_, bbb_speeds, on=['trip_instance_key', 'stop_sequence'])"
   ]
  },
  {
   "cell_type": "code",
   "execution_count": 15,
   "id": "34e1783a-ffea-4f07-8297-3ab77c860f13",
   "metadata": {},
   "outputs": [
    {
     "data": {
      "text/html": [
       "<div>\n",
       "<style scoped>\n",
       "    .dataframe tbody tr th:only-of-type {\n",
       "        vertical-align: middle;\n",
       "    }\n",
       "\n",
       "    .dataframe tbody tr th {\n",
       "        vertical-align: top;\n",
       "    }\n",
       "\n",
       "    .dataframe thead th {\n",
       "        text-align: right;\n",
       "    }\n",
       "</style>\n",
       "<table border=\"1\" class=\"dataframe\">\n",
       "  <thead>\n",
       "    <tr style=\"text-align: right;\">\n",
       "      <th></th>\n",
       "      <th>trip_instance_key</th>\n",
       "      <th>n</th>\n",
       "    </tr>\n",
       "  </thead>\n",
       "  <tbody>\n",
       "    <tr>\n",
       "      <th>0</th>\n",
       "      <td>00cb2b6a9bb2cc1c34fd971c07938524</td>\n",
       "      <td>15</td>\n",
       "    </tr>\n",
       "    <tr>\n",
       "      <th>1</th>\n",
       "      <td>03dae18652b59eab34279c4b045fcf0a</td>\n",
       "      <td>16</td>\n",
       "    </tr>\n",
       "    <tr>\n",
       "      <th>2</th>\n",
       "      <td>04cf84b10b7b261d3e78365770224208</td>\n",
       "      <td>36</td>\n",
       "    </tr>\n",
       "    <tr>\n",
       "      <th>3</th>\n",
       "      <td>057a9fd5ca744a324a9e53e91cb89410</td>\n",
       "      <td>35</td>\n",
       "    </tr>\n",
       "    <tr>\n",
       "      <th>4</th>\n",
       "      <td>05bf3463796e8717f8101f6bc357f553</td>\n",
       "      <td>36</td>\n",
       "    </tr>\n",
       "    <tr>\n",
       "      <th>...</th>\n",
       "      <td>...</td>\n",
       "      <td>...</td>\n",
       "    </tr>\n",
       "    <tr>\n",
       "      <th>177</th>\n",
       "      <td>fbea7e14d2bcf757eb9affdb036d80f2</td>\n",
       "      <td>36</td>\n",
       "    </tr>\n",
       "    <tr>\n",
       "      <th>178</th>\n",
       "      <td>fc8c9b9d82411b4a7c7b0eca245115d1</td>\n",
       "      <td>35</td>\n",
       "    </tr>\n",
       "    <tr>\n",
       "      <th>179</th>\n",
       "      <td>fd10910bc6f254fca030507f440969b0</td>\n",
       "      <td>35</td>\n",
       "    </tr>\n",
       "    <tr>\n",
       "      <th>180</th>\n",
       "      <td>fd1351cb7af965ee68969e90ecc38a6f</td>\n",
       "      <td>35</td>\n",
       "    </tr>\n",
       "    <tr>\n",
       "      <th>181</th>\n",
       "      <td>fe0e8c736153d9fa09fd55b19ba32e04</td>\n",
       "      <td>36</td>\n",
       "    </tr>\n",
       "  </tbody>\n",
       "</table>\n",
       "<p>182 rows × 2 columns</p>\n",
       "</div>"
      ],
      "text/plain": [
       "                    trip_instance_key   n\n",
       "0    00cb2b6a9bb2cc1c34fd971c07938524  15\n",
       "1    03dae18652b59eab34279c4b045fcf0a  16\n",
       "2    04cf84b10b7b261d3e78365770224208  36\n",
       "3    057a9fd5ca744a324a9e53e91cb89410  35\n",
       "4    05bf3463796e8717f8101f6bc357f553  36\n",
       "..                                ...  ..\n",
       "177  fbea7e14d2bcf757eb9affdb036d80f2  36\n",
       "178  fc8c9b9d82411b4a7c7b0eca245115d1  35\n",
       "179  fd10910bc6f254fca030507f440969b0  35\n",
       "180  fd1351cb7af965ee68969e90ecc38a6f  35\n",
       "181  fe0e8c736153d9fa09fd55b19ba32e04  36\n",
       "\n",
       "[182 rows x 2 columns]"
      ]
     },
     "execution_count": 15,
     "metadata": {},
     "output_type": "execute_result"
    }
   ],
   "source": [
    "lincoln_shapes >> count(_.trip_instance_key)"
   ]
  },
  {
   "cell_type": "code",
   "execution_count": 16,
   "id": "2ab53829-a39a-4d6f-8c56-8bd09b26b411",
   "metadata": {},
   "outputs": [],
   "source": [
    "lincoln_shapes['target_sec_elapsed'] = lincoln_shapes.meters_elapsed / target_mps\n",
    "\n",
    "assert lincoln_shapes.crs == corr.crs\n",
    "\n",
    "lincoln_clipped = gpd.clip(lincoln_shapes, corr)\n",
    "\n",
    "lincoln_clipped['speed_delay'] = (lincoln_clipped.sec_elapsed - lincoln_clipped.target_sec_elapsed).clip(lower=0)"
   ]
  },
  {
   "cell_type": "code",
   "execution_count": 17,
   "id": "2710ddc9-4a01-4c2f-b8d4-7cfa6e5026b0",
   "metadata": {},
   "outputs": [],
   "source": [
    "# (lincoln_clipped >> select(-_.trip_first_departure_ts)\n",
    "#     >> filter(_.trip_instance_key == '08c415d5ca6ef9453381b97dcc2c1b58')\n",
    "# ).explore()"
   ]
  },
  {
   "cell_type": "code",
   "execution_count": 18,
   "id": "d0c561dd-1b4f-4c39-92e1-06630dd1a003",
   "metadata": {},
   "outputs": [
    {
     "data": {
      "text/plain": [
       "1414.6234172088684"
      ]
     },
     "execution_count": 18,
     "metadata": {},
     "output_type": "execute_result"
    }
   ],
   "source": [
    "lincoln_clipped.speed_delay.sum() / 60"
   ]
  },
  {
   "cell_type": "code",
   "execution_count": 83,
   "id": "5eba5115-02d0-40aa-ab74-22fccd51cfa4",
   "metadata": {},
   "outputs": [],
   "source": [
    "def lincoln_corridor_delay(analysis_date):\n",
    "    \n",
    "    # print(analysis_date)\n",
    "    bbb_feed = get_bbb_feed(analysis_date)\n",
    "    bbb_speeds = get_speeds(analysis_date, bbb_feed)\n",
    "    bbb_shapes = get_shapes(analysis_date, bbb_feed)\n",
    "    \n",
    "    lincoln_trips = shared_utils.gtfs_utils_v2.get_trips(selected_date=analysis_date,\n",
    "                                                 operator_feeds=[bbb_feed.feed_key.iloc[0]],\n",
    "                                                custom_filtering = {'route_short_name': ['3', 'R3']})\n",
    "    lincoln_trips = lincoln_trips >> select(_.trip_instance_key, _.route_short_name, _.trip_first_departure_ts)\n",
    "    sched_trip_count = lincoln_trips.shape[0]\n",
    "\n",
    "    lincoln_shapes = bbb_shapes >> inner_join(_, lincoln_trips, on = ['trip_instance_key'])\n",
    "\n",
    "    lincoln_shapes = lincoln_shapes >> inner_join(_, bbb_speeds, on=['trip_instance_key', 'stop_sequence'])\n",
    "    print((lincoln_shapes >> count(_.trip_instance_key)).shape)\n",
    "    assert not lincoln_shapes.empty\n",
    "    rt_trip_count = (lincoln_shapes >> count(_.trip_instance_key)).shape[0]\n",
    "    \n",
    "    lincoln_shapes['target_sec_elapsed'] = lincoln_shapes.meters_elapsed / target_mps\n",
    "    assert lincoln_shapes.crs == corr.crs\n",
    "    lincoln_clipped = gpd.clip(lincoln_shapes, corr)\n",
    "    lincoln_clipped['speed_delay'] = (lincoln_clipped.sec_elapsed - lincoln_clipped.target_sec_elapsed).clip(lower=0)\n",
    "    delay_minutes = lincoln_clipped.speed_delay.sum() / 60\n",
    "    \n",
    "    return (analysis_date, delay_minutes, rt_trip_count, rt_trip_count / sched_trip_count)"
   ]
  },
  {
   "cell_type": "code",
   "execution_count": 84,
   "id": "ffd6a06a-cc4e-4f56-b787-58d39a2314c5",
   "metadata": {},
   "outputs": [
    {
     "name": "stderr",
     "output_type": "stream",
     "text": [
      "/tmp/ipykernel_174898/1351526470.py:4: SettingWithCopyWarning: \n",
      "A value is trying to be set on a copy of a slice from a DataFrame.\n",
      "Try using .loc[row_indexer,col_indexer] = value instead\n",
      "\n",
      "See the caveats in the documentation: https://pandas.pydata.org/pandas-docs/stable/user_guide/indexing.html#returning-a-view-versus-a-copy\n",
      "  bbb_shapes.geometry = gpd.GeoSeries.from_wkb(bbb_shapes.geometry)\n"
     ]
    },
    {
     "name": "stdout",
     "output_type": "stream",
     "text": [
      "(107, 2)\n"
     ]
    },
    {
     "data": {
      "text/plain": [
       "('2024-04-21', 759.0243040335821, 107, 0.8294573643410853)"
      ]
     },
     "execution_count": 84,
     "metadata": {},
     "output_type": "execute_result"
    }
   ],
   "source": [
    "lincoln_corridor_delay(analysis_date)"
   ]
  },
  {
   "cell_type": "code",
   "execution_count": 85,
   "id": "b6bbb182-8c41-42b7-a7b0-3d8e3132dd85",
   "metadata": {},
   "outputs": [],
   "source": [
    "test = list(shared_utils.rt_dates.DATES.keys())[15:20]"
   ]
  },
  {
   "cell_type": "code",
   "execution_count": 89,
   "id": "d8a2f2ef-bb10-4f49-9467-f02c5373f601",
   "metadata": {
    "tags": []
   },
   "outputs": [],
   "source": [
    "def compile_lincoln_delays():\n",
    "    lincoln_delays = []\n",
    "    for date in shared_utils.rt_dates.DATES.keys():\n",
    "    # for date in test:\n",
    "        analysis_date = shared_utils.rt_dates.DATES[date]\n",
    "        print(analysis_date)\n",
    "        try:\n",
    "            lincoln_delays += [lincoln_corridor_delay(analysis_date)]\n",
    "        except:\n",
    "            print(f'failed for {analysis_date}')\n",
    "    # return lincoln_delays\n",
    "    lincoln_delay_df = pd.DataFrame(lincoln_delays,\n",
    "                                    columns=['date_str', 'delay_minutes', 'vp_trip_count',\n",
    "                                             'vp_pct_sched'])\n",
    "    lincoln_delay_df['date'] = lincoln_delay_df.date_str.apply(lambda x: dt.datetime.fromisoformat(x).date())\n",
    "    lincoln_delay_df['weekday'] = lincoln_delay_df.date.apply(lambda x: x.strftime('%a'))\n",
    "    # df = df >> filter(-_.weekday.isin(['Sat', 'Sun', 'Mon', 'Fri']))\n",
    "    return lincoln_delay_df"
   ]
  },
  {
   "cell_type": "code",
   "execution_count": 90,
   "id": "ab22b1f8-0f25-431b-a413-9bc8edfb603f",
   "metadata": {},
   "outputs": [
    {
     "name": "stdout",
     "output_type": "stream",
     "text": [
      "2022-02-08\n",
      "failed for 2022-02-08\n",
      "2022-03-30\n",
      "failed for 2022-03-30\n",
      "2022-05-04\n",
      "failed for 2022-05-04\n",
      "2022-06-15\n",
      "failed for 2022-06-15\n",
      "2022-07-13\n",
      "failed for 2022-07-13\n",
      "2022-08-17\n",
      "failed for 2022-08-17\n",
      "2022-09-14\n",
      "failed for 2022-09-14\n",
      "2022-09-21\n"
     ]
    },
    {
     "name": "stderr",
     "output_type": "stream",
     "text": [
      "/tmp/ipykernel_174898/1351526470.py:4: SettingWithCopyWarning: \n",
      "A value is trying to be set on a copy of a slice from a DataFrame.\n",
      "Try using .loc[row_indexer,col_indexer] = value instead\n",
      "\n",
      "See the caveats in the documentation: https://pandas.pydata.org/pandas-docs/stable/user_guide/indexing.html#returning-a-view-versus-a-copy\n",
      "  bbb_shapes.geometry = gpd.GeoSeries.from_wkb(bbb_shapes.geometry)\n"
     ]
    },
    {
     "name": "stdout",
     "output_type": "stream",
     "text": [
      "(182, 2)\n",
      "2022-10-12\n",
      "failed for 2022-10-12\n",
      "2022-11-07\n",
      "failed for 2022-11-07\n",
      "2022-11-08\n",
      "failed for 2022-11-08\n",
      "2022-11-09\n",
      "failed for 2022-11-09\n",
      "2022-11-10\n",
      "failed for 2022-11-10\n",
      "2022-11-16\n",
      "failed for 2022-11-16\n",
      "2022-12-14\n",
      "failed for 2022-12-14\n",
      "2023-01-18\n",
      "failed for 2023-01-18\n",
      "2023-02-15\n",
      "failed for 2023-02-15\n",
      "2023-03-15\n"
     ]
    },
    {
     "name": "stderr",
     "output_type": "stream",
     "text": [
      "/tmp/ipykernel_174898/1351526470.py:4: SettingWithCopyWarning: \n",
      "A value is trying to be set on a copy of a slice from a DataFrame.\n",
      "Try using .loc[row_indexer,col_indexer] = value instead\n",
      "\n",
      "See the caveats in the documentation: https://pandas.pydata.org/pandas-docs/stable/user_guide/indexing.html#returning-a-view-versus-a-copy\n",
      "  bbb_shapes.geometry = gpd.GeoSeries.from_wkb(bbb_shapes.geometry)\n"
     ]
    },
    {
     "name": "stdout",
     "output_type": "stream",
     "text": [
      "(156, 2)\n",
      "2023-04-10\n"
     ]
    },
    {
     "name": "stderr",
     "output_type": "stream",
     "text": [
      "/tmp/ipykernel_174898/1351526470.py:4: SettingWithCopyWarning: \n",
      "A value is trying to be set on a copy of a slice from a DataFrame.\n",
      "Try using .loc[row_indexer,col_indexer] = value instead\n",
      "\n",
      "See the caveats in the documentation: https://pandas.pydata.org/pandas-docs/stable/user_guide/indexing.html#returning-a-view-versus-a-copy\n",
      "  bbb_shapes.geometry = gpd.GeoSeries.from_wkb(bbb_shapes.geometry)\n"
     ]
    },
    {
     "name": "stdout",
     "output_type": "stream",
     "text": [
      "(153, 2)\n",
      "2023-04-11\n"
     ]
    },
    {
     "name": "stderr",
     "output_type": "stream",
     "text": [
      "/tmp/ipykernel_174898/1351526470.py:4: SettingWithCopyWarning: \n",
      "A value is trying to be set on a copy of a slice from a DataFrame.\n",
      "Try using .loc[row_indexer,col_indexer] = value instead\n",
      "\n",
      "See the caveats in the documentation: https://pandas.pydata.org/pandas-docs/stable/user_guide/indexing.html#returning-a-view-versus-a-copy\n",
      "  bbb_shapes.geometry = gpd.GeoSeries.from_wkb(bbb_shapes.geometry)\n"
     ]
    },
    {
     "name": "stdout",
     "output_type": "stream",
     "text": [
      "(145, 2)\n",
      "2023-04-12\n"
     ]
    },
    {
     "name": "stderr",
     "output_type": "stream",
     "text": [
      "/tmp/ipykernel_174898/1351526470.py:4: SettingWithCopyWarning: \n",
      "A value is trying to be set on a copy of a slice from a DataFrame.\n",
      "Try using .loc[row_indexer,col_indexer] = value instead\n",
      "\n",
      "See the caveats in the documentation: https://pandas.pydata.org/pandas-docs/stable/user_guide/indexing.html#returning-a-view-versus-a-copy\n",
      "  bbb_shapes.geometry = gpd.GeoSeries.from_wkb(bbb_shapes.geometry)\n"
     ]
    },
    {
     "name": "stdout",
     "output_type": "stream",
     "text": [
      "(160, 2)\n",
      "2023-04-13\n"
     ]
    },
    {
     "name": "stderr",
     "output_type": "stream",
     "text": [
      "/tmp/ipykernel_174898/1351526470.py:4: SettingWithCopyWarning: \n",
      "A value is trying to be set on a copy of a slice from a DataFrame.\n",
      "Try using .loc[row_indexer,col_indexer] = value instead\n",
      "\n",
      "See the caveats in the documentation: https://pandas.pydata.org/pandas-docs/stable/user_guide/indexing.html#returning-a-view-versus-a-copy\n",
      "  bbb_shapes.geometry = gpd.GeoSeries.from_wkb(bbb_shapes.geometry)\n"
     ]
    },
    {
     "name": "stdout",
     "output_type": "stream",
     "text": [
      "(146, 2)\n",
      "2023-04-14\n"
     ]
    },
    {
     "name": "stderr",
     "output_type": "stream",
     "text": [
      "/tmp/ipykernel_174898/1351526470.py:4: SettingWithCopyWarning: \n",
      "A value is trying to be set on a copy of a slice from a DataFrame.\n",
      "Try using .loc[row_indexer,col_indexer] = value instead\n",
      "\n",
      "See the caveats in the documentation: https://pandas.pydata.org/pandas-docs/stable/user_guide/indexing.html#returning-a-view-versus-a-copy\n",
      "  bbb_shapes.geometry = gpd.GeoSeries.from_wkb(bbb_shapes.geometry)\n"
     ]
    },
    {
     "name": "stdout",
     "output_type": "stream",
     "text": [
      "(155, 2)\n",
      "2023-04-15\n"
     ]
    },
    {
     "name": "stderr",
     "output_type": "stream",
     "text": [
      "/tmp/ipykernel_174898/1351526470.py:4: SettingWithCopyWarning: \n",
      "A value is trying to be set on a copy of a slice from a DataFrame.\n",
      "Try using .loc[row_indexer,col_indexer] = value instead\n",
      "\n",
      "See the caveats in the documentation: https://pandas.pydata.org/pandas-docs/stable/user_guide/indexing.html#returning-a-view-versus-a-copy\n",
      "  bbb_shapes.geometry = gpd.GeoSeries.from_wkb(bbb_shapes.geometry)\n"
     ]
    },
    {
     "name": "stdout",
     "output_type": "stream",
     "text": [
      "(125, 2)\n",
      "2023-04-16\n"
     ]
    },
    {
     "name": "stderr",
     "output_type": "stream",
     "text": [
      "/tmp/ipykernel_174898/1351526470.py:4: SettingWithCopyWarning: \n",
      "A value is trying to be set on a copy of a slice from a DataFrame.\n",
      "Try using .loc[row_indexer,col_indexer] = value instead\n",
      "\n",
      "See the caveats in the documentation: https://pandas.pydata.org/pandas-docs/stable/user_guide/indexing.html#returning-a-view-versus-a-copy\n",
      "  bbb_shapes.geometry = gpd.GeoSeries.from_wkb(bbb_shapes.geometry)\n"
     ]
    },
    {
     "name": "stdout",
     "output_type": "stream",
     "text": [
      "(129, 2)\n",
      "2023-05-17\n"
     ]
    },
    {
     "name": "stderr",
     "output_type": "stream",
     "text": [
      "/tmp/ipykernel_174898/1351526470.py:4: SettingWithCopyWarning: \n",
      "A value is trying to be set on a copy of a slice from a DataFrame.\n",
      "Try using .loc[row_indexer,col_indexer] = value instead\n",
      "\n",
      "See the caveats in the documentation: https://pandas.pydata.org/pandas-docs/stable/user_guide/indexing.html#returning-a-view-versus-a-copy\n",
      "  bbb_shapes.geometry = gpd.GeoSeries.from_wkb(bbb_shapes.geometry)\n"
     ]
    },
    {
     "name": "stdout",
     "output_type": "stream",
     "text": [
      "(144, 2)\n",
      "2023-06-14\n"
     ]
    },
    {
     "name": "stderr",
     "output_type": "stream",
     "text": [
      "/tmp/ipykernel_174898/1351526470.py:4: SettingWithCopyWarning: \n",
      "A value is trying to be set on a copy of a slice from a DataFrame.\n",
      "Try using .loc[row_indexer,col_indexer] = value instead\n",
      "\n",
      "See the caveats in the documentation: https://pandas.pydata.org/pandas-docs/stable/user_guide/indexing.html#returning-a-view-versus-a-copy\n",
      "  bbb_shapes.geometry = gpd.GeoSeries.from_wkb(bbb_shapes.geometry)\n"
     ]
    },
    {
     "name": "stdout",
     "output_type": "stream",
     "text": [
      "(144, 2)\n",
      "2023-07-12\n"
     ]
    },
    {
     "name": "stderr",
     "output_type": "stream",
     "text": [
      "/tmp/ipykernel_174898/1351526470.py:4: SettingWithCopyWarning: \n",
      "A value is trying to be set on a copy of a slice from a DataFrame.\n",
      "Try using .loc[row_indexer,col_indexer] = value instead\n",
      "\n",
      "See the caveats in the documentation: https://pandas.pydata.org/pandas-docs/stable/user_guide/indexing.html#returning-a-view-versus-a-copy\n",
      "  bbb_shapes.geometry = gpd.GeoSeries.from_wkb(bbb_shapes.geometry)\n"
     ]
    },
    {
     "name": "stdout",
     "output_type": "stream",
     "text": [
      "(162, 2)\n",
      "2023-08-15\n"
     ]
    },
    {
     "name": "stderr",
     "output_type": "stream",
     "text": [
      "/tmp/ipykernel_174898/1351526470.py:4: SettingWithCopyWarning: \n",
      "A value is trying to be set on a copy of a slice from a DataFrame.\n",
      "Try using .loc[row_indexer,col_indexer] = value instead\n",
      "\n",
      "See the caveats in the documentation: https://pandas.pydata.org/pandas-docs/stable/user_guide/indexing.html#returning-a-view-versus-a-copy\n",
      "  bbb_shapes.geometry = gpd.GeoSeries.from_wkb(bbb_shapes.geometry)\n"
     ]
    },
    {
     "name": "stdout",
     "output_type": "stream",
     "text": [
      "(160, 2)\n",
      "2023-08-23\n",
      "failed for 2023-08-23\n",
      "2023-09-13\n"
     ]
    },
    {
     "name": "stderr",
     "output_type": "stream",
     "text": [
      "/tmp/ipykernel_174898/1351526470.py:4: SettingWithCopyWarning: \n",
      "A value is trying to be set on a copy of a slice from a DataFrame.\n",
      "Try using .loc[row_indexer,col_indexer] = value instead\n",
      "\n",
      "See the caveats in the documentation: https://pandas.pydata.org/pandas-docs/stable/user_guide/indexing.html#returning-a-view-versus-a-copy\n",
      "  bbb_shapes.geometry = gpd.GeoSeries.from_wkb(bbb_shapes.geometry)\n"
     ]
    },
    {
     "name": "stdout",
     "output_type": "stream",
     "text": [
      "(147, 2)\n",
      "2023-10-09\n"
     ]
    },
    {
     "name": "stderr",
     "output_type": "stream",
     "text": [
      "/tmp/ipykernel_174898/1351526470.py:4: SettingWithCopyWarning: \n",
      "A value is trying to be set on a copy of a slice from a DataFrame.\n",
      "Try using .loc[row_indexer,col_indexer] = value instead\n",
      "\n",
      "See the caveats in the documentation: https://pandas.pydata.org/pandas-docs/stable/user_guide/indexing.html#returning-a-view-versus-a-copy\n",
      "  bbb_shapes.geometry = gpd.GeoSeries.from_wkb(bbb_shapes.geometry)\n"
     ]
    },
    {
     "name": "stdout",
     "output_type": "stream",
     "text": [
      "(148, 2)\n",
      "2023-10-10\n"
     ]
    },
    {
     "name": "stderr",
     "output_type": "stream",
     "text": [
      "/tmp/ipykernel_174898/1351526470.py:4: SettingWithCopyWarning: \n",
      "A value is trying to be set on a copy of a slice from a DataFrame.\n",
      "Try using .loc[row_indexer,col_indexer] = value instead\n",
      "\n",
      "See the caveats in the documentation: https://pandas.pydata.org/pandas-docs/stable/user_guide/indexing.html#returning-a-view-versus-a-copy\n",
      "  bbb_shapes.geometry = gpd.GeoSeries.from_wkb(bbb_shapes.geometry)\n"
     ]
    },
    {
     "name": "stdout",
     "output_type": "stream",
     "text": [
      "(153, 2)\n",
      "2023-10-11\n"
     ]
    },
    {
     "name": "stderr",
     "output_type": "stream",
     "text": [
      "/tmp/ipykernel_174898/1351526470.py:4: SettingWithCopyWarning: \n",
      "A value is trying to be set on a copy of a slice from a DataFrame.\n",
      "Try using .loc[row_indexer,col_indexer] = value instead\n",
      "\n",
      "See the caveats in the documentation: https://pandas.pydata.org/pandas-docs/stable/user_guide/indexing.html#returning-a-view-versus-a-copy\n",
      "  bbb_shapes.geometry = gpd.GeoSeries.from_wkb(bbb_shapes.geometry)\n"
     ]
    },
    {
     "name": "stdout",
     "output_type": "stream",
     "text": [
      "(157, 2)\n",
      "2023-10-12\n"
     ]
    },
    {
     "name": "stderr",
     "output_type": "stream",
     "text": [
      "/tmp/ipykernel_174898/1351526470.py:4: SettingWithCopyWarning: \n",
      "A value is trying to be set on a copy of a slice from a DataFrame.\n",
      "Try using .loc[row_indexer,col_indexer] = value instead\n",
      "\n",
      "See the caveats in the documentation: https://pandas.pydata.org/pandas-docs/stable/user_guide/indexing.html#returning-a-view-versus-a-copy\n",
      "  bbb_shapes.geometry = gpd.GeoSeries.from_wkb(bbb_shapes.geometry)\n"
     ]
    },
    {
     "name": "stdout",
     "output_type": "stream",
     "text": [
      "(152, 2)\n",
      "2023-10-13\n"
     ]
    },
    {
     "name": "stderr",
     "output_type": "stream",
     "text": [
      "/tmp/ipykernel_174898/1351526470.py:4: SettingWithCopyWarning: \n",
      "A value is trying to be set on a copy of a slice from a DataFrame.\n",
      "Try using .loc[row_indexer,col_indexer] = value instead\n",
      "\n",
      "See the caveats in the documentation: https://pandas.pydata.org/pandas-docs/stable/user_guide/indexing.html#returning-a-view-versus-a-copy\n",
      "  bbb_shapes.geometry = gpd.GeoSeries.from_wkb(bbb_shapes.geometry)\n"
     ]
    },
    {
     "name": "stdout",
     "output_type": "stream",
     "text": [
      "(150, 2)\n",
      "2023-10-14\n"
     ]
    },
    {
     "name": "stderr",
     "output_type": "stream",
     "text": [
      "/tmp/ipykernel_174898/1351526470.py:4: SettingWithCopyWarning: \n",
      "A value is trying to be set on a copy of a slice from a DataFrame.\n",
      "Try using .loc[row_indexer,col_indexer] = value instead\n",
      "\n",
      "See the caveats in the documentation: https://pandas.pydata.org/pandas-docs/stable/user_guide/indexing.html#returning-a-view-versus-a-copy\n",
      "  bbb_shapes.geometry = gpd.GeoSeries.from_wkb(bbb_shapes.geometry)\n"
     ]
    },
    {
     "name": "stdout",
     "output_type": "stream",
     "text": [
      "(129, 2)\n",
      "2023-10-15\n"
     ]
    },
    {
     "name": "stderr",
     "output_type": "stream",
     "text": [
      "/tmp/ipykernel_174898/1351526470.py:4: SettingWithCopyWarning: \n",
      "A value is trying to be set on a copy of a slice from a DataFrame.\n",
      "Try using .loc[row_indexer,col_indexer] = value instead\n",
      "\n",
      "See the caveats in the documentation: https://pandas.pydata.org/pandas-docs/stable/user_guide/indexing.html#returning-a-view-versus-a-copy\n",
      "  bbb_shapes.geometry = gpd.GeoSeries.from_wkb(bbb_shapes.geometry)\n"
     ]
    },
    {
     "name": "stdout",
     "output_type": "stream",
     "text": [
      "(129, 2)\n",
      "2023-11-15\n"
     ]
    },
    {
     "name": "stderr",
     "output_type": "stream",
     "text": [
      "/tmp/ipykernel_174898/1351526470.py:4: SettingWithCopyWarning: \n",
      "A value is trying to be set on a copy of a slice from a DataFrame.\n",
      "Try using .loc[row_indexer,col_indexer] = value instead\n",
      "\n",
      "See the caveats in the documentation: https://pandas.pydata.org/pandas-docs/stable/user_guide/indexing.html#returning-a-view-versus-a-copy\n",
      "  bbb_shapes.geometry = gpd.GeoSeries.from_wkb(bbb_shapes.geometry)\n"
     ]
    },
    {
     "name": "stdout",
     "output_type": "stream",
     "text": [
      "(151, 2)\n",
      "2023-12-13\n"
     ]
    },
    {
     "name": "stderr",
     "output_type": "stream",
     "text": [
      "/tmp/ipykernel_174898/1351526470.py:4: SettingWithCopyWarning: \n",
      "A value is trying to be set on a copy of a slice from a DataFrame.\n",
      "Try using .loc[row_indexer,col_indexer] = value instead\n",
      "\n",
      "See the caveats in the documentation: https://pandas.pydata.org/pandas-docs/stable/user_guide/indexing.html#returning-a-view-versus-a-copy\n",
      "  bbb_shapes.geometry = gpd.GeoSeries.from_wkb(bbb_shapes.geometry)\n"
     ]
    },
    {
     "name": "stdout",
     "output_type": "stream",
     "text": [
      "(155, 2)\n",
      "2024-01-17\n"
     ]
    },
    {
     "name": "stderr",
     "output_type": "stream",
     "text": [
      "/tmp/ipykernel_174898/1351526470.py:4: SettingWithCopyWarning: \n",
      "A value is trying to be set on a copy of a slice from a DataFrame.\n",
      "Try using .loc[row_indexer,col_indexer] = value instead\n",
      "\n",
      "See the caveats in the documentation: https://pandas.pydata.org/pandas-docs/stable/user_guide/indexing.html#returning-a-view-versus-a-copy\n",
      "  bbb_shapes.geometry = gpd.GeoSeries.from_wkb(bbb_shapes.geometry)\n"
     ]
    },
    {
     "name": "stdout",
     "output_type": "stream",
     "text": [
      "(144, 2)\n",
      "2024-02-14\n"
     ]
    },
    {
     "name": "stderr",
     "output_type": "stream",
     "text": [
      "/tmp/ipykernel_174898/1351526470.py:4: SettingWithCopyWarning: \n",
      "A value is trying to be set on a copy of a slice from a DataFrame.\n",
      "Try using .loc[row_indexer,col_indexer] = value instead\n",
      "\n",
      "See the caveats in the documentation: https://pandas.pydata.org/pandas-docs/stable/user_guide/indexing.html#returning-a-view-versus-a-copy\n",
      "  bbb_shapes.geometry = gpd.GeoSeries.from_wkb(bbb_shapes.geometry)\n"
     ]
    },
    {
     "name": "stdout",
     "output_type": "stream",
     "text": [
      "(152, 2)\n",
      "2024-03-13\n"
     ]
    },
    {
     "name": "stderr",
     "output_type": "stream",
     "text": [
      "/tmp/ipykernel_174898/1351526470.py:4: SettingWithCopyWarning: \n",
      "A value is trying to be set on a copy of a slice from a DataFrame.\n",
      "Try using .loc[row_indexer,col_indexer] = value instead\n",
      "\n",
      "See the caveats in the documentation: https://pandas.pydata.org/pandas-docs/stable/user_guide/indexing.html#returning-a-view-versus-a-copy\n",
      "  bbb_shapes.geometry = gpd.GeoSeries.from_wkb(bbb_shapes.geometry)\n"
     ]
    },
    {
     "name": "stdout",
     "output_type": "stream",
     "text": [
      "(153, 2)\n",
      "2024-04-15\n"
     ]
    },
    {
     "name": "stderr",
     "output_type": "stream",
     "text": [
      "/tmp/ipykernel_174898/1351526470.py:4: SettingWithCopyWarning: \n",
      "A value is trying to be set on a copy of a slice from a DataFrame.\n",
      "Try using .loc[row_indexer,col_indexer] = value instead\n",
      "\n",
      "See the caveats in the documentation: https://pandas.pydata.org/pandas-docs/stable/user_guide/indexing.html#returning-a-view-versus-a-copy\n",
      "  bbb_shapes.geometry = gpd.GeoSeries.from_wkb(bbb_shapes.geometry)\n"
     ]
    },
    {
     "name": "stdout",
     "output_type": "stream",
     "text": [
      "(158, 2)\n",
      "2024-04-16\n"
     ]
    },
    {
     "name": "stderr",
     "output_type": "stream",
     "text": [
      "/tmp/ipykernel_174898/1351526470.py:4: SettingWithCopyWarning: \n",
      "A value is trying to be set on a copy of a slice from a DataFrame.\n",
      "Try using .loc[row_indexer,col_indexer] = value instead\n",
      "\n",
      "See the caveats in the documentation: https://pandas.pydata.org/pandas-docs/stable/user_guide/indexing.html#returning-a-view-versus-a-copy\n",
      "  bbb_shapes.geometry = gpd.GeoSeries.from_wkb(bbb_shapes.geometry)\n"
     ]
    },
    {
     "name": "stdout",
     "output_type": "stream",
     "text": [
      "(137, 2)\n",
      "2024-04-17\n"
     ]
    },
    {
     "name": "stderr",
     "output_type": "stream",
     "text": [
      "/tmp/ipykernel_174898/1351526470.py:4: SettingWithCopyWarning: \n",
      "A value is trying to be set on a copy of a slice from a DataFrame.\n",
      "Try using .loc[row_indexer,col_indexer] = value instead\n",
      "\n",
      "See the caveats in the documentation: https://pandas.pydata.org/pandas-docs/stable/user_guide/indexing.html#returning-a-view-versus-a-copy\n",
      "  bbb_shapes.geometry = gpd.GeoSeries.from_wkb(bbb_shapes.geometry)\n"
     ]
    },
    {
     "name": "stdout",
     "output_type": "stream",
     "text": [
      "(134, 2)\n",
      "2024-04-18\n"
     ]
    },
    {
     "name": "stderr",
     "output_type": "stream",
     "text": [
      "/tmp/ipykernel_174898/1351526470.py:4: SettingWithCopyWarning: \n",
      "A value is trying to be set on a copy of a slice from a DataFrame.\n",
      "Try using .loc[row_indexer,col_indexer] = value instead\n",
      "\n",
      "See the caveats in the documentation: https://pandas.pydata.org/pandas-docs/stable/user_guide/indexing.html#returning-a-view-versus-a-copy\n",
      "  bbb_shapes.geometry = gpd.GeoSeries.from_wkb(bbb_shapes.geometry)\n"
     ]
    },
    {
     "name": "stdout",
     "output_type": "stream",
     "text": [
      "(74, 2)\n",
      "2024-04-19\n"
     ]
    },
    {
     "name": "stderr",
     "output_type": "stream",
     "text": [
      "/tmp/ipykernel_174898/1351526470.py:4: SettingWithCopyWarning: \n",
      "A value is trying to be set on a copy of a slice from a DataFrame.\n",
      "Try using .loc[row_indexer,col_indexer] = value instead\n",
      "\n",
      "See the caveats in the documentation: https://pandas.pydata.org/pandas-docs/stable/user_guide/indexing.html#returning-a-view-versus-a-copy\n",
      "  bbb_shapes.geometry = gpd.GeoSeries.from_wkb(bbb_shapes.geometry)\n"
     ]
    },
    {
     "name": "stdout",
     "output_type": "stream",
     "text": [
      "(123, 2)\n",
      "2024-04-20\n"
     ]
    },
    {
     "name": "stderr",
     "output_type": "stream",
     "text": [
      "/tmp/ipykernel_174898/1351526470.py:4: SettingWithCopyWarning: \n",
      "A value is trying to be set on a copy of a slice from a DataFrame.\n",
      "Try using .loc[row_indexer,col_indexer] = value instead\n",
      "\n",
      "See the caveats in the documentation: https://pandas.pydata.org/pandas-docs/stable/user_guide/indexing.html#returning-a-view-versus-a-copy\n",
      "  bbb_shapes.geometry = gpd.GeoSeries.from_wkb(bbb_shapes.geometry)\n"
     ]
    },
    {
     "name": "stdout",
     "output_type": "stream",
     "text": [
      "(120, 2)\n",
      "2024-04-21\n"
     ]
    },
    {
     "name": "stderr",
     "output_type": "stream",
     "text": [
      "/tmp/ipykernel_174898/1351526470.py:4: SettingWithCopyWarning: \n",
      "A value is trying to be set on a copy of a slice from a DataFrame.\n",
      "Try using .loc[row_indexer,col_indexer] = value instead\n",
      "\n",
      "See the caveats in the documentation: https://pandas.pydata.org/pandas-docs/stable/user_guide/indexing.html#returning-a-view-versus-a-copy\n",
      "  bbb_shapes.geometry = gpd.GeoSeries.from_wkb(bbb_shapes.geometry)\n"
     ]
    },
    {
     "name": "stdout",
     "output_type": "stream",
     "text": [
      "(107, 2)\n"
     ]
    }
   ],
   "source": [
    "lincoln_delay_df = compile_lincoln_delays()"
   ]
  },
  {
   "cell_type": "code",
   "execution_count": 96,
   "id": "67672eb2-c32a-4fb6-bcf8-f5a22e033694",
   "metadata": {},
   "outputs": [],
   "source": [
    "lincoln_delay_df = lincoln_delay_df >> filter(_.vp_pct_sched > .8)"
   ]
  },
  {
   "cell_type": "code",
   "execution_count": 97,
   "id": "d287b3e2-5a74-4af8-bfe0-7bbad52c873f",
   "metadata": {},
   "outputs": [
    {
     "name": "stderr",
     "output_type": "stream",
     "text": [
      "/tmp/ipykernel_174898/1409579010.py:1: SettingWithCopyWarning: \n",
      "A value is trying to be set on a copy of a slice from a DataFrame.\n",
      "Try using .loc[row_indexer,col_indexer] = value instead\n",
      "\n",
      "See the caveats in the documentation: https://pandas.pydata.org/pandas-docs/stable/user_guide/indexing.html#returning-a-view-versus-a-copy\n",
      "  lincoln_delay_df['delay_per_trip'] = lincoln_delay_df.delay_minutes / lincoln_delay_df.vp_trip_count\n"
     ]
    }
   ],
   "source": [
    "lincoln_delay_df['delay_per_trip'] = lincoln_delay_df.delay_minutes / lincoln_delay_df.vp_trip_count"
   ]
  },
  {
   "cell_type": "code",
   "execution_count": 98,
   "id": "6ce14cf9-f3a9-42c8-bd71-3588273c9004",
   "metadata": {},
   "outputs": [],
   "source": [
    "lincoln_delay_df = lincoln_delay_df >> filter(-_.weekday.isin(['Sat', 'Sun', 'Mon', 'Fri']))"
   ]
  },
  {
   "cell_type": "code",
   "execution_count": 99,
   "id": "cd0e54f8-c2e2-43b9-a259-a50b1d3c393b",
   "metadata": {},
   "outputs": [
    {
     "data": {
      "text/plain": [
       "<AxesSubplot:xlabel='date', ylabel='delay_per_trip'>"
      ]
     },
     "execution_count": 99,
     "metadata": {},
     "output_type": "execute_result"
    },
    {
     "data": {
      "image/png": "[encoded data removed]",
      "text/plain": [
       "<Figure size 640x480 with 1 Axes>"
      ]
     },
     "metadata": {},
     "output_type": "display_data"
    }
   ],
   "source": [
    "lincoln_delay_df.plot.scatter('date', 'delay_per_trip')"
   ]
  },
  {
   "cell_type": "code",
   "execution_count": 100,
   "id": "a97ebb64-510e-464b-97bc-4e9d769d5fbe",
   "metadata": {},
   "outputs": [
    {
     "data": {
      "text/html": [
       "<div>\n",
       "<style scoped>\n",
       "    .dataframe tbody tr th:only-of-type {\n",
       "        vertical-align: middle;\n",
       "    }\n",
       "\n",
       "    .dataframe tbody tr th {\n",
       "        vertical-align: top;\n",
       "    }\n",
       "\n",
       "    .dataframe thead th {\n",
       "        text-align: right;\n",
       "    }\n",
       "</style>\n",
       "<table border=\"1\" class=\"dataframe\">\n",
       "  <thead>\n",
       "    <tr style=\"text-align: right;\">\n",
       "      <th></th>\n",
       "      <th>date_str</th>\n",
       "      <th>delay_minutes</th>\n",
       "      <th>vp_trip_count</th>\n",
       "      <th>vp_pct_sched</th>\n",
       "      <th>date</th>\n",
       "      <th>weekday</th>\n",
       "      <th>delay_per_trip</th>\n",
       "    </tr>\n",
       "  </thead>\n",
       "  <tbody>\n",
       "    <tr>\n",
       "      <th>0</th>\n",
       "      <td>2022-09-21</td>\n",
       "      <td>1414.623417</td>\n",
       "      <td>182</td>\n",
       "      <td>0.928571</td>\n",
       "      <td>2022-09-21</td>\n",
       "      <td>Wed</td>\n",
       "      <td>7.772656</td>\n",
       "    </tr>\n",
       "    <tr>\n",
       "      <th>1</th>\n",
       "      <td>2023-03-15</td>\n",
       "      <td>1237.075534</td>\n",
       "      <td>156</td>\n",
       "      <td>0.962963</td>\n",
       "      <td>2023-03-15</td>\n",
       "      <td>Wed</td>\n",
       "      <td>7.929971</td>\n",
       "    </tr>\n",
       "    <tr>\n",
       "      <th>3</th>\n",
       "      <td>2023-04-11</td>\n",
       "      <td>1254.466843</td>\n",
       "      <td>145</td>\n",
       "      <td>0.895062</td>\n",
       "      <td>2023-04-11</td>\n",
       "      <td>Tue</td>\n",
       "      <td>8.651495</td>\n",
       "    </tr>\n",
       "    <tr>\n",
       "      <th>4</th>\n",
       "      <td>2023-04-12</td>\n",
       "      <td>1234.140576</td>\n",
       "      <td>160</td>\n",
       "      <td>0.987654</td>\n",
       "      <td>2023-04-12</td>\n",
       "      <td>Wed</td>\n",
       "      <td>7.713379</td>\n",
       "    </tr>\n",
       "    <tr>\n",
       "      <th>5</th>\n",
       "      <td>2023-04-13</td>\n",
       "      <td>1090.717845</td>\n",
       "      <td>146</td>\n",
       "      <td>0.901235</td>\n",
       "      <td>2023-04-13</td>\n",
       "      <td>Thu</td>\n",
       "      <td>7.470670</td>\n",
       "    </tr>\n",
       "    <tr>\n",
       "      <th>9</th>\n",
       "      <td>2023-05-17</td>\n",
       "      <td>1276.081033</td>\n",
       "      <td>144</td>\n",
       "      <td>0.888889</td>\n",
       "      <td>2023-05-17</td>\n",
       "      <td>Wed</td>\n",
       "      <td>8.861674</td>\n",
       "    </tr>\n",
       "    <tr>\n",
       "      <th>10</th>\n",
       "      <td>2023-06-14</td>\n",
       "      <td>1206.520870</td>\n",
       "      <td>144</td>\n",
       "      <td>0.888889</td>\n",
       "      <td>2023-06-14</td>\n",
       "      <td>Wed</td>\n",
       "      <td>8.378617</td>\n",
       "    </tr>\n",
       "    <tr>\n",
       "      <th>11</th>\n",
       "      <td>2023-07-12</td>\n",
       "      <td>1302.071853</td>\n",
       "      <td>162</td>\n",
       "      <td>1.000000</td>\n",
       "      <td>2023-07-12</td>\n",
       "      <td>Wed</td>\n",
       "      <td>8.037481</td>\n",
       "    </tr>\n",
       "    <tr>\n",
       "      <th>12</th>\n",
       "      <td>2023-08-15</td>\n",
       "      <td>1508.928380</td>\n",
       "      <td>160</td>\n",
       "      <td>0.987654</td>\n",
       "      <td>2023-08-15</td>\n",
       "      <td>Tue</td>\n",
       "      <td>9.430802</td>\n",
       "    </tr>\n",
       "    <tr>\n",
       "      <th>13</th>\n",
       "      <td>2023-09-13</td>\n",
       "      <td>1297.524248</td>\n",
       "      <td>147</td>\n",
       "      <td>0.907407</td>\n",
       "      <td>2023-09-13</td>\n",
       "      <td>Wed</td>\n",
       "      <td>8.826696</td>\n",
       "    </tr>\n",
       "    <tr>\n",
       "      <th>15</th>\n",
       "      <td>2023-10-10</td>\n",
       "      <td>1359.071956</td>\n",
       "      <td>153</td>\n",
       "      <td>0.944444</td>\n",
       "      <td>2023-10-10</td>\n",
       "      <td>Tue</td>\n",
       "      <td>8.882823</td>\n",
       "    </tr>\n",
       "    <tr>\n",
       "      <th>16</th>\n",
       "      <td>2023-10-11</td>\n",
       "      <td>1464.614726</td>\n",
       "      <td>157</td>\n",
       "      <td>0.969136</td>\n",
       "      <td>2023-10-11</td>\n",
       "      <td>Wed</td>\n",
       "      <td>9.328756</td>\n",
       "    </tr>\n",
       "    <tr>\n",
       "      <th>17</th>\n",
       "      <td>2023-10-12</td>\n",
       "      <td>1611.452983</td>\n",
       "      <td>152</td>\n",
       "      <td>0.938272</td>\n",
       "      <td>2023-10-12</td>\n",
       "      <td>Thu</td>\n",
       "      <td>10.601664</td>\n",
       "    </tr>\n",
       "    <tr>\n",
       "      <th>21</th>\n",
       "      <td>2023-11-15</td>\n",
       "      <td>1301.165227</td>\n",
       "      <td>151</td>\n",
       "      <td>0.932099</td>\n",
       "      <td>2023-11-15</td>\n",
       "      <td>Wed</td>\n",
       "      <td>8.616988</td>\n",
       "    </tr>\n",
       "    <tr>\n",
       "      <th>22</th>\n",
       "      <td>2023-12-13</td>\n",
       "      <td>1470.997299</td>\n",
       "      <td>155</td>\n",
       "      <td>0.956790</td>\n",
       "      <td>2023-12-13</td>\n",
       "      <td>Wed</td>\n",
       "      <td>9.490305</td>\n",
       "    </tr>\n",
       "    <tr>\n",
       "      <th>23</th>\n",
       "      <td>2024-01-17</td>\n",
       "      <td>1283.328812</td>\n",
       "      <td>144</td>\n",
       "      <td>0.888889</td>\n",
       "      <td>2024-01-17</td>\n",
       "      <td>Wed</td>\n",
       "      <td>8.912006</td>\n",
       "    </tr>\n",
       "    <tr>\n",
       "      <th>24</th>\n",
       "      <td>2024-02-14</td>\n",
       "      <td>2099.086901</td>\n",
       "      <td>152</td>\n",
       "      <td>0.938272</td>\n",
       "      <td>2024-02-14</td>\n",
       "      <td>Wed</td>\n",
       "      <td>13.809782</td>\n",
       "    </tr>\n",
       "    <tr>\n",
       "      <th>25</th>\n",
       "      <td>2024-03-13</td>\n",
       "      <td>1629.335092</td>\n",
       "      <td>153</td>\n",
       "      <td>0.944444</td>\n",
       "      <td>2024-03-13</td>\n",
       "      <td>Wed</td>\n",
       "      <td>10.649249</td>\n",
       "    </tr>\n",
       "    <tr>\n",
       "      <th>27</th>\n",
       "      <td>2024-04-16</td>\n",
       "      <td>1586.754687</td>\n",
       "      <td>137</td>\n",
       "      <td>0.845679</td>\n",
       "      <td>2024-04-16</td>\n",
       "      <td>Tue</td>\n",
       "      <td>11.582151</td>\n",
       "    </tr>\n",
       "    <tr>\n",
       "      <th>28</th>\n",
       "      <td>2024-04-17</td>\n",
       "      <td>1252.278926</td>\n",
       "      <td>134</td>\n",
       "      <td>0.827160</td>\n",
       "      <td>2024-04-17</td>\n",
       "      <td>Wed</td>\n",
       "      <td>9.345365</td>\n",
       "    </tr>\n",
       "  </tbody>\n",
       "</table>\n",
       "</div>"
      ],
      "text/plain": [
       "      date_str  delay_minutes  vp_trip_count  vp_pct_sched        date  \\\n",
       "0   2022-09-21    1414.623417            182      0.928571  2022-09-21   \n",
       "1   2023-03-15    1237.075534            156      0.962963  2023-03-15   \n",
       "3   2023-04-11    1254.466843            145      0.895062  2023-04-11   \n",
       "4   2023-04-12    1234.140576            160      0.987654  2023-04-12   \n",
       "5   2023-04-13    1090.717845            146      0.901235  2023-04-13   \n",
       "9   2023-05-17    1276.081033            144      0.888889  2023-05-17   \n",
       "10  2023-06-14    1206.520870            144      0.888889  2023-06-14   \n",
       "11  2023-07-12    1302.071853            162      1.000000  2023-07-12   \n",
       "12  2023-08-15    1508.928380            160      0.987654  2023-08-15   \n",
       "13  2023-09-13    1297.524248            147      0.907407  2023-09-13   \n",
       "15  2023-10-10    1359.071956            153      0.944444  2023-10-10   \n",
       "16  2023-10-11    1464.614726            157      0.969136  2023-10-11   \n",
       "17  2023-10-12    1611.452983            152      0.938272  2023-10-12   \n",
       "21  2023-11-15    1301.165227            151      0.932099  2023-11-15   \n",
       "22  2023-12-13    1470.997299            155      0.956790  2023-12-13   \n",
       "23  2024-01-17    1283.328812            144      0.888889  2024-01-17   \n",
       "24  2024-02-14    2099.086901            152      0.938272  2024-02-14   \n",
       "25  2024-03-13    1629.335092            153      0.944444  2024-03-13   \n",
       "27  2024-04-16    1586.754687            137      0.845679  2024-04-16   \n",
       "28  2024-04-17    1252.278926            134      0.827160  2024-04-17   \n",
       "\n",
       "   weekday  delay_per_trip  \n",
       "0      Wed        7.772656  \n",
       "1      Wed        7.929971  \n",
       "3      Tue        8.651495  \n",
       "4      Wed        7.713379  \n",
       "5      Thu        7.470670  \n",
       "9      Wed        8.861674  \n",
       "10     Wed        8.378617  \n",
       "11     Wed        8.037481  \n",
       "12     Tue        9.430802  \n",
       "13     Wed        8.826696  \n",
       "15     Tue        8.882823  \n",
       "16     Wed        9.328756  \n",
       "17     Thu       10.601664  \n",
       "21     Wed        8.616988  \n",
       "22     Wed        9.490305  \n",
       "23     Wed        8.912006  \n",
       "24     Wed       13.809782  \n",
       "25     Wed       10.649249  \n",
       "27     Tue       11.582151  \n",
       "28     Wed        9.345365  "
      ]
     },
     "execution_count": 100,
     "metadata": {},
     "output_type": "execute_result"
    }
   ],
   "source": [
    "lincoln_delay_df"
   ]
  },
  {
   "cell_type": "code",
   "execution_count": 102,
   "id": "b1e0e029-0248-4d54-b5a8-b99f66e92b86",
   "metadata": {},
   "outputs": [],
   "source": [
    "import altair as alt"
   ]
  },
  {
   "cell_type": "code",
   "execution_count": 110,
   "id": "f98c047d-046d-4bca-81a5-adbe54d7a6fa",
   "metadata": {},
   "outputs": [],
   "source": [
    "lincoln_delay_df.date = lincoln_delay_df.date.apply(lambda x: pd.Timestamp(x))"
   ]
  },
  {
   "cell_type": "code",
   "execution_count": 119,
   "id": "72b43f24-0eb6-4a7a-8291-afce2b64d7e1",
   "metadata": {},
   "outputs": [
    {
     "data": {
      "text/html": [
       "\n",
       "<style>\n",
       "  #altair-viz-a2a27301c7534ef3a29317464f7370bb.vega-embed {\n",
       "    width: 100%;\n",
       "    display: flex;\n",
       "  }\n",
       "\n",
       "  #altair-viz-a2a27301c7534ef3a29317464f7370bb.vega-embed details,\n",
       "  #altair-viz-a2a27301c7534ef3a29317464f7370bb.vega-embed details summary {\n",
       "    position: relative;\n",
       "  }\n",
       "</style>\n",
       "<div id=\"altair-viz-a2a27301c7534ef3a29317464f7370bb\"></div>\n",
       "<script type=\"text/javascript\">\n",
       "  var VEGA_DEBUG = (typeof VEGA_DEBUG == \"undefined\") ? {} : VEGA_DEBUG;\n",
       "  (function(spec, embedOpt){\n",
       "    let outputDiv = document.currentScript.previousElementSibling;\n",
       "    if (outputDiv.id !== \"altair-viz-a2a27301c7534ef3a29317464f7370bb\") {\n",
       "      outputDiv = document.getElementById(\"altair-viz-a2a27301c7534ef3a29317464f7370bb\");\n",
       "    }\n",
       "    const paths = {\n",
       "      \"vega\": \"https://cdn.jsdelivr.net/npm/vega@5?noext\",\n",
       "      \"vega-lib\": \"https://cdn.jsdelivr.net/npm/vega-lib?noext\",\n",
       "      \"vega-lite\": \"https://cdn.jsdelivr.net/npm/vega-lite@5.14.1?noext\",\n",
       "      \"vega-embed\": \"https://cdn.jsdelivr.net/npm/vega-embed@6?noext\",\n",
       "    };\n",
       "\n",
       "    function maybeLoadScript(lib, version) {\n",
       "      var key = `${lib.replace(\"-\", \"\")}_version`;\n",
       "      return (VEGA_DEBUG[key] == version) ?\n",
       "        Promise.resolve(paths[lib]) :\n",
       "        new Promise(function(resolve, reject) {\n",
       "          var s = document.createElement('script');\n",
       "          document.getElementsByTagName(\"head\")[0].appendChild(s);\n",
       "          s.async = true;\n",
       "          s.onload = () => {\n",
       "            VEGA_DEBUG[key] = version;\n",
       "            return resolve(paths[lib]);\n",
       "          };\n",
       "          s.onerror = () => reject(`Error loading script: ${paths[lib]}`);\n",
       "          s.src = paths[lib];\n",
       "        });\n",
       "    }\n",
       "\n",
       "    function showError(err) {\n",
       "      outputDiv.innerHTML = `<div class=\"error\" style=\"color:red;\">${err}</div>`;\n",
       "      throw err;\n",
       "    }\n",
       "\n",
       "    function displayChart(vegaEmbed) {\n",
       "      vegaEmbed(outputDiv, spec, embedOpt)\n",
       "        .catch(err => showError(`Javascript Error: ${err.message}<br>This usually means there's a typo in your chart specification. See the javascript console for the full traceback.`));\n",
       "    }\n",
       "\n",
       "    if(typeof define === \"function\" && define.amd) {\n",
       "      requirejs.config({paths});\n",
       "      require([\"vega-embed\"], displayChart, err => showError(`Error loading script: ${err.message}`));\n",
       "    } else {\n",
       "      maybeLoadScript(\"vega\", \"5\")\n",
       "        .then(() => maybeLoadScript(\"vega-lite\", \"5.14.1\"))\n",
       "        .then(() => maybeLoadScript(\"vega-embed\", \"6\"))\n",
       "        .catch(showError)\n",
       "        .then(() => displayChart(vegaEmbed));\n",
       "    }\n",
       "  })({\"config\": {\"view\": {\"continuousWidth\": 300, \"continuousHeight\": 300}}, \"layer\": [{\"mark\": {\"type\": \"point\"}, \"encoding\": {\"x\": {\"field\": \"date\", \"type\": \"temporal\"}, \"y\": {\"field\": \"delay_per_trip\", \"type\": \"quantitative\"}}}, {\"mark\": {\"type\": \"line\"}, \"encoding\": {\"x\": {\"field\": \"date\", \"type\": \"temporal\"}, \"y\": {\"field\": \"delay_per_trip\", \"type\": \"quantitative\"}}, \"transform\": [{\"on\": \"date\", \"regression\": \"delay_per_trip\"}]}], \"data\": {\"name\": \"data-2c5db0ab9250ea3676f566617fe88af6\"}, \"height\": 400, \"width\": 500, \"$schema\": \"https://vega.github.io/schema/vega-lite/v5.14.1.json\", \"datasets\": {\"data-2c5db0ab9250ea3676f566617fe88af6\": [{\"date_str\": \"2022-09-21\", \"delay_minutes\": 1414.6234172088684, \"vp_trip_count\": 182, \"vp_pct_sched\": 0.9285714285714286, \"date\": \"2022-09-21T00:00:00\", \"weekday\": \"Wed\", \"delay_per_trip\": 7.772656138510266}, {\"date_str\": \"2023-03-15\", \"delay_minutes\": 1237.075533576741, \"vp_trip_count\": 156, \"vp_pct_sched\": 0.9629629629629629, \"date\": \"2023-03-15T00:00:00\", \"weekday\": \"Wed\", \"delay_per_trip\": 7.929971369081673}, {\"date_str\": \"2023-04-11\", \"delay_minutes\": 1254.4668427657068, \"vp_trip_count\": 145, \"vp_pct_sched\": 0.8950617283950617, \"date\": \"2023-04-11T00:00:00\", \"weekday\": \"Tue\", \"delay_per_trip\": 8.651495467349703}, {\"date_str\": \"2023-04-12\", \"delay_minutes\": 1234.1405764543704, \"vp_trip_count\": 160, \"vp_pct_sched\": 0.9876543209876543, \"date\": \"2023-04-12T00:00:00\", \"weekday\": \"Wed\", \"delay_per_trip\": 7.713378602839815}, {\"date_str\": \"2023-04-13\", \"delay_minutes\": 1090.7178453913607, \"vp_trip_count\": 146, \"vp_pct_sched\": 0.9012345679012346, \"date\": \"2023-04-13T00:00:00\", \"weekday\": \"Thu\", \"delay_per_trip\": 7.47067017391343}, {\"date_str\": \"2023-05-17\", \"delay_minutes\": 1276.0810330301188, \"vp_trip_count\": 144, \"vp_pct_sched\": 0.8888888888888888, \"date\": \"2023-05-17T00:00:00\", \"weekday\": \"Wed\", \"delay_per_trip\": 8.861673840486937}, {\"date_str\": \"2023-06-14\", \"delay_minutes\": 1206.5208697742814, \"vp_trip_count\": 144, \"vp_pct_sched\": 0.8888888888888888, \"date\": \"2023-06-14T00:00:00\", \"weekday\": \"Wed\", \"delay_per_trip\": 8.378617151210287}, {\"date_str\": \"2023-07-12\", \"delay_minutes\": 1302.071852752319, \"vp_trip_count\": 162, \"vp_pct_sched\": 1.0, \"date\": \"2023-07-12T00:00:00\", \"weekday\": \"Wed\", \"delay_per_trip\": 8.03748057254518}, {\"date_str\": \"2023-08-15\", \"delay_minutes\": 1508.9283798337501, \"vp_trip_count\": 160, \"vp_pct_sched\": 0.9876543209876543, \"date\": \"2023-08-15T00:00:00\", \"weekday\": \"Tue\", \"delay_per_trip\": 9.430802373960939}, {\"date_str\": \"2023-09-13\", \"delay_minutes\": 1297.524247534606, \"vp_trip_count\": 147, \"vp_pct_sched\": 0.9074074074074074, \"date\": \"2023-09-13T00:00:00\", \"weekday\": \"Wed\", \"delay_per_trip\": 8.826695561459905}, {\"date_str\": \"2023-10-10\", \"delay_minutes\": 1359.0719561363799, \"vp_trip_count\": 153, \"vp_pct_sched\": 0.9444444444444444, \"date\": \"2023-10-10T00:00:00\", \"weekday\": \"Tue\", \"delay_per_trip\": 8.882823242721438}, {\"date_str\": \"2023-10-11\", \"delay_minutes\": 1464.6147261642452, \"vp_trip_count\": 157, \"vp_pct_sched\": 0.9691358024691358, \"date\": \"2023-10-11T00:00:00\", \"weekday\": \"Wed\", \"delay_per_trip\": 9.328756217606657}, {\"date_str\": \"2023-10-12\", \"delay_minutes\": 1611.4529833488036, \"vp_trip_count\": 152, \"vp_pct_sched\": 0.9382716049382716, \"date\": \"2023-10-12T00:00:00\", \"weekday\": \"Thu\", \"delay_per_trip\": 10.601664364136866}, {\"date_str\": \"2023-11-15\", \"delay_minutes\": 1301.1652274965018, \"vp_trip_count\": 151, \"vp_pct_sched\": 0.9320987654320988, \"date\": \"2023-11-15T00:00:00\", \"weekday\": \"Wed\", \"delay_per_trip\": 8.616988261566236}, {\"date_str\": \"2023-12-13\", \"delay_minutes\": 1470.9972994533223, \"vp_trip_count\": 155, \"vp_pct_sched\": 0.9567901234567902, \"date\": \"2023-12-13T00:00:00\", \"weekday\": \"Wed\", \"delay_per_trip\": 9.49030515776337}, {\"date_str\": \"2024-01-17\", \"delay_minutes\": 1283.3288121859118, \"vp_trip_count\": 144, \"vp_pct_sched\": 0.8888888888888888, \"date\": \"2024-01-17T00:00:00\", \"weekday\": \"Wed\", \"delay_per_trip\": 8.912005640179943}, {\"date_str\": \"2024-02-14\", \"delay_minutes\": 2099.086901341062, \"vp_trip_count\": 152, \"vp_pct_sched\": 0.9382716049382716, \"date\": \"2024-02-14T00:00:00\", \"weekday\": \"Wed\", \"delay_per_trip\": 13.809782245664882}, {\"date_str\": \"2024-03-13\", \"delay_minutes\": 1629.3350916921393, \"vp_trip_count\": 153, \"vp_pct_sched\": 0.9444444444444444, \"date\": \"2024-03-13T00:00:00\", \"weekday\": \"Wed\", \"delay_per_trip\": 10.6492489653081}, {\"date_str\": \"2024-04-16\", \"delay_minutes\": 1586.754687236507, \"vp_trip_count\": 137, \"vp_pct_sched\": 0.845679012345679, \"date\": \"2024-04-16T00:00:00\", \"weekday\": \"Tue\", \"delay_per_trip\": 11.582151001726327}, {\"date_str\": \"2024-04-17\", \"delay_minutes\": 1252.2789260160898, \"vp_trip_count\": 134, \"vp_pct_sched\": 0.8271604938271605, \"date\": \"2024-04-17T00:00:00\", \"weekday\": \"Wed\", \"delay_per_trip\": 9.34536511952306}]}}, {\"mode\": \"vega-lite\"});\n",
       "</script>"
      ],
      "text/plain": [
       "alt.LayerChart(...)"
      ]
     },
     "execution_count": 119,
     "metadata": {},
     "output_type": "execute_result"
    }
   ],
   "source": [
    "chart = alt.Chart(lincoln_delay_df).mark_point().encode(\n",
    "    x='date:T',\n",
    "    y='delay_per_trip'\n",
    ").properties(width=500, height=400)\n",
    "\n",
    "chart + chart.transform_regression('date', 'delay_per_trip').mark_line()"
   ]
  },
  {
   "cell_type": "code",
   "execution_count": 116,
   "id": "e84ffd00-4e09-4bcf-854a-344e05e185aa",
   "metadata": {},
   "outputs": [],
   "source": [
    "lincoln_delay_df.to_csv('lincoln_delays_preliminary.csv')"
   ]
  },
  {
   "cell_type": "code",
   "execution_count": null,
   "id": "7be25c26-a72d-4161-a4b9-a4594687d0e8",
   "metadata": {},
   "outputs": [],
   "source": []
  }
 ],
 "metadata": {
  "kernelspec": {
   "display_name": "Python 3 (ipykernel)",
   "language": "python",
   "name": "python3"
  },
  "language_info": {
   "codemirror_mode": {
    "name": "ipython",
    "version": 3
   },
   "file_extension": ".py",
   "mimetype": "text/x-python",
   "name": "python",
   "nbconvert_exporter": "python",
   "pygments_lexer": "ipython3",
   "version": "3.9.13"
  },
  "widgets": {
   "application/vnd.jupyter.widget-state+json": {
    "state": {},
    "version_major": 2,
    "version_minor": 0
   }
  }
 },
 "nbformat": 4,
 "nbformat_minor": 5
}
