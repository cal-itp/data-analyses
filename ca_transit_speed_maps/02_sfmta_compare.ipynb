{
 "cells": [
  {
   "cell_type": "markdown",
   "id": "e8cc9678-0508-461e-9f2d-8c0e169fc617",
   "metadata": {},
   "source": [
    "# SFMTA segment speeds data has fewer segments and some incredible speeds compared to legacy\n",
    "\n",
    "## Why? segment speeds is generally as good or better elsewhere..."
   ]
  },
  {
   "cell_type": "markdown",
   "id": "fdf37ad7-7ce7-49a5-9bec-c087c2306a45",
   "metadata": {},
   "source": [
    "# Legacy Speedmaps"
   ]
  },
  {
   "cell_type": "code",
   "execution_count": 9,
   "id": "1e596d62-24d4-4d92-8644-f06f07a08af6",
   "metadata": {},
   "outputs": [],
   "source": [
    "%%capture\n",
    "import warnings\n",
    "warnings.filterwarnings('ignore')\n",
    "\n",
    "import calitp_data_analysis.magics\n",
    "\n",
    "from rt_analysis import rt_filter_map_plot\n",
    "import update_vars_index\n",
    "\n",
    "from IPython.display import display, Markdown\n",
    "import shared_utils"
   ]
  },
  {
   "cell_type": "code",
   "execution_count": 5,
   "id": "b9ee8c82-c6eb-4d49-9e42-aa07d0e3ab1d",
   "metadata": {
    "tags": [
     "parameters"
    ]
   },
   "outputs": [],
   "source": [
    "## parameters cell\n",
    "itp_id = 282"
   ]
  },
  {
   "cell_type": "code",
   "execution_count": 13,
   "id": "5d181a59-a2a9-41d6-acf4-17e89169a2fe",
   "metadata": {},
   "outputs": [],
   "source": [
    "analysis_date = shared_utils.rt_dates.DATES['aug2024']\n",
    "import datetime as dt\n",
    "if itp_id == 293:\n",
    "    analysis_date = shared_utils.rt_dates.DATES['jul2024']\n",
    "elif itp_id == 170:\n",
    "    analysis_date = shared_utils.rt_dates.DATES['may2024']\n",
    "elif itp_id == 48:\n",
    "    analysis_date = shared_utils.rt_dates.DATES['mar2024']\n",
    "\n",
    "if type(analysis_date) == str: analysis_date = dt.date.fromisoformat(analysis_date)"
   ]
  },
  {
   "cell_type": "code",
   "execution_count": 14,
   "id": "efb71183-5fa0-4f46-87f8-8d82b486ebd3",
   "metadata": {},
   "outputs": [
    {
     "name": "stdout",
     "output_type": "stream",
     "text": [
      "{\"human_date\": \"August 14 2024 (Wednesday)\"}\n"
     ]
    }
   ],
   "source": [
    "%%capture_parameters\n",
    "human_date = analysis_date.strftime('%B %d %Y (%A)')\n",
    "human_date"
   ]
  },
  {
   "cell_type": "code",
   "execution_count": 15,
   "id": "58ad1b18-ee87-4a00-9d0b-8537ec2fe11c",
   "metadata": {},
   "outputs": [],
   "source": [
    "%%capture\n",
    "rt_day = rt_filter_map_plot.from_gcs(itp_id, analysis_date)"
   ]
  },
  {
   "cell_type": "code",
   "execution_count": 16,
   "id": "5938088e-e363-4605-b29c-a00d163ea546",
   "metadata": {},
   "outputs": [
    {
     "name": "stdout",
     "output_type": "stream",
     "text": [
      "{\"organization_name\": \"City and County of San Francisco\"}\n"
     ]
    }
   ],
   "source": [
    "%%capture_parameters\n",
    "organization_name = rt_day.organization_name\n",
    "organization_name"
   ]
  },
  {
   "cell_type": "markdown",
   "id": "e2317d91-607e-4a5d-80e3-77734fc8a27f",
   "metadata": {
    "tags": []
   },
   "source": [
    "## Morning Peak"
   ]
  },
  {
   "cell_type": "code",
   "execution_count": 17,
   "id": "122904ea-3a35-42f5-b82f-d83355ed32ed",
   "metadata": {},
   "outputs": [],
   "source": [
    "%%capture\n",
    "rt_day.set_filter(start_time='06:00', end_time='09:00')"
   ]
  },
  {
   "cell_type": "markdown",
   "id": "2f641e37-a206-4c44-b780-5b2a3dacd6e8",
   "metadata": {},
   "source": [
    "### 20th Percentile Speeds by Segment"
   ]
  },
  {
   "cell_type": "code",
   "execution_count": 18,
   "id": "20f58f8e-75d7-477b-b61d-48ba95323820",
   "metadata": {
    "tags": []
   },
   "outputs": [],
   "source": [
    "%%capture\n",
    "_m = rt_day.segment_speed_map(how='low_speeds', no_title=True, shn=True,\n",
    "                             no_render=True\n",
    "                            )"
   ]
  },
  {
   "cell_type": "code",
   "execution_count": 19,
   "id": "42f27c08-59b9-4c48-92fe-c3de3932faee",
   "metadata": {
    "tags": []
   },
   "outputs": [],
   "source": [
    "%%capture\n",
    "rt_day.map_gz_export(access_cmap=True)"
   ]
  },
  {
   "cell_type": "code",
   "execution_count": 20,
   "id": "853aa08f-48f7-4e0c-bf0c-7600472fe634",
   "metadata": {},
   "outputs": [
    {
     "data": {
      "text/markdown": [
       "<a href=\"https://embeddable-maps.calitp.org/?state=eyJuYW1lIjogIm51bGwiLCAibGF5ZXJzIjogW3sibmFtZSI6ICJEMDQgU3RhdGUgSGlnaHdheSBOZXR3b3JrIiwgInVybCI6ICJodHRwczovL3N0b3JhZ2UuZ29vZ2xlYXBpcy5jb20vY2FsaXRwLW1hcC10aWxlcy9zcGVlZHNfMjAyNC0wOC0xNC8wNF9TSE4uZ2VvanNvbi5neiIsICJwcm9wZXJ0aWVzIjogeyJzdHJva2VkIjogZmFsc2UsICJoaWdobGlnaHRfc2F0dXJhdGlvbl9tdWx0aXBsaWVyIjogMC41fSwgInR5cGUiOiAic3RhdGVfaGlnaHdheV9uZXR3b3JrIn0sIHsibmFtZSI6ICJDaXR5IGFuZCBDb3VudHkgb2YgU2FuIEZyYW5jaXNjbyBBdWcgMTQsIDIwMjQgKFdlZCkgQU0gUGVhayIsICJ1cmwiOiAiaHR0cHM6Ly9zdG9yYWdlLmdvb2dsZWFwaXMuY29tL2NhbGl0cC1tYXAtdGlsZXMvc3BlZWRzXzIwMjQtMDgtMTQvMjgyX0FNX1BlYWtfc3BlZWRzX2NvbG9yX2FjY2Vzcy5nZW9qc29uLmd6IiwgInByb3BlcnRpZXMiOiB7InN0cm9rZWQiOiBmYWxzZSwgImhpZ2hsaWdodF9zYXR1cmF0aW9uX211bHRpcGxpZXIiOiAwLjUsICJ0b29sdGlwX3NwZWVkX2tleSI6ICJwMjBfbXBoIn0sICJ0eXBlIjogInNwZWVkbWFwIn1dLCAibGF0X2xvbiI6IFszNy43NTk5Mjc1ODU4NDY4OSwgLTEyMi40MzQzMDUxNDY4MTE3XSwgInpvb20iOiAxMywgImxlZ2VuZF91cmwiOiAiaHR0cHM6Ly9zdG9yYWdlLmdvb2dsZWFwaXMuY29tL2NhbGl0cC1tYXAtdGlsZXMvc3BlZWRzX2xlZ2VuZF9jb2xvcl9hY2Nlc3Muc3ZnIn0=\" target=\"_blank\">Open Full Map in New Tab</a>"
      ],
      "text/plain": [
       "<IPython.core.display.Markdown object>"
      ]
     },
     "metadata": {},
     "output_type": "display_data"
    }
   ],
   "source": [
    "rt_day.render_spa_link()"
   ]
  },
  {
   "cell_type": "code",
   "execution_count": 4,
   "id": "bb5ff203-71be-484b-9821-ce753d36e9d1",
   "metadata": {
    "tags": []
   },
   "outputs": [],
   "source": [
    "# rt_day.display_spa_map()"
   ]
  },
  {
   "cell_type": "markdown",
   "id": "94cddd80-8b9c-4da6-ac4e-c7b6d7e7ae3b",
   "metadata": {},
   "source": [
    "# Segment Speeds (speedmaps detail segments)"
   ]
  },
  {
   "cell_type": "code",
   "execution_count": 2,
   "id": "e5b0f888-71a2-4f9b-ad15-63d8410fa77f",
   "metadata": {},
   "outputs": [],
   "source": [
    "import speedmap_utils"
   ]
  },
  {
   "cell_type": "code",
   "execution_count": 3,
   "id": "8b298e2b-d32b-4a6c-b605-88a7038efbe5",
   "metadata": {
    "tags": [
     "parameters"
    ]
   },
   "outputs": [],
   "source": [
    "## parameters cell\n",
    "organization_source_record_id = 'rechaapWbeffO33OX'"
   ]
  },
  {
   "cell_type": "code",
   "execution_count": 4,
   "id": "f946ceed-466a-4f9c-bbac-6c0a56bb41c8",
   "metadata": {},
   "outputs": [],
   "source": [
    "%%capture\n",
    "speedmap_segs, this_shn = speedmap_utils.read_segments_shn(organization_source_record_id=organization_source_record_id)"
   ]
  },
  {
   "cell_type": "code",
   "execution_count": 11,
   "id": "6638fa7c-f37e-493e-b179-d225662a2766",
   "metadata": {},
   "outputs": [
    {
     "name": "stdout",
     "output_type": "stream",
     "text": [
      "{\"human_date\": \"November 13 2024 (Wednesday)\"}\n"
     ]
    }
   ],
   "source": [
    "%%capture_parameters\n",
    "human_date = update_vars_index.ANALYSIS_DATE.strftime('%B %d %Y (%A)')\n",
    "human_date"
   ]
  },
  {
   "cell_type": "code",
   "execution_count": 12,
   "id": "f272c628-b2a3-4c8d-9505-92312fcbe627",
   "metadata": {},
   "outputs": [
    {
     "name": "stdout",
     "output_type": "stream",
     "text": [
      "{\"organization_name\": \"City and County of San Francisco\"}\n"
     ]
    }
   ],
   "source": [
    "%%capture_parameters\n",
    "organization_name = speedmap_segs.organization_name.iloc[0]\n",
    "organization_name"
   ]
  },
  {
   "cell_type": "markdown",
   "id": "ef9c53a2-3924-4b4a-b9c8-2b603580e363",
   "metadata": {
    "tags": []
   },
   "source": [
    "## AM Peak (07:00-10:00)"
   ]
  },
  {
   "cell_type": "markdown",
   "id": "9e9bdf56-be99-4693-bfda-349abdd1f279",
   "metadata": {},
   "source": [
    "### 20th Percentile Speeds by Segment"
   ]
  },
  {
   "cell_type": "code",
   "execution_count": 15,
   "id": "1b5cdb1b-2526-459a-8a8d-40bafa460c2e",
   "metadata": {},
   "outputs": [],
   "source": [
    "%%capture\n",
    "link = speedmap_utils.map_time_period(district_gdf=this_shn, speedmap_segs=speedmap_segs, analysis_date=update_vars_index.ANALYSIS_DATE,\n",
    "                              time_of_day='AM Peak', map_type='new_speedmap')"
   ]
  },
  {
   "cell_type": "code",
   "execution_count": 16,
   "id": "d997a853-ef24-4146-afab-cdc4238e6417",
   "metadata": {},
   "outputs": [
    {
     "data": {
      "text/markdown": [
       "<a href=\"https://embeddable-maps.calitp.org/?state=eyJuYW1lIjogIm51bGwiLCAibGF5ZXJzIjogW3sibmFtZSI6ICJENCBTdGF0ZSBIaWdod2F5IE5ldHdvcmsiLCAidXJsIjogImh0dHBzOi8vc3RvcmFnZS5nb29nbGVhcGlzLmNvbS9jYWxpdHAtbWFwLXRpbGVzL3NlZ21lbnRfc3BlZWRzXzIwMjQtMTEtMTMvNF9TSE4uZ2VvanNvbi5neiIsICJwcm9wZXJ0aWVzIjogeyJzdHJva2VkIjogZmFsc2UsICJoaWdobGlnaHRfc2F0dXJhdGlvbl9tdWx0aXBsaWVyIjogMC41fSwgInR5cGUiOiAic3RhdGVfaGlnaHdheV9uZXR3b3JrIn0sIHsibmFtZSI6ICJDaXR5IGFuZCBDb3VudHkgb2YgU2FuIEZyYW5jaXNjbyBOb3ZlbWJlciAxMyAyMDI0IChXZWRuZXNkYXkpIEFNIFBlYWsiLCAidXJsIjogImh0dHBzOi8vc3RvcmFnZS5nb29nbGVhcGlzLmNvbS9jYWxpdHAtbWFwLXRpbGVzL3NlZ21lbnRfc3BlZWRzXzIwMjQtMTEtMTMvMjAyNC0xMS0xM19yZWNoYWFwV2JlZmZPMzNPWF9uZXdfc3BlZWRtYXAuZ2VvanNvbi5neiIsICJwcm9wZXJ0aWVzIjogeyJzdHJva2VkIjogZmFsc2UsICJoaWdobGlnaHRfc2F0dXJhdGlvbl9tdWx0aXBsaWVyIjogMC41LCAidG9vbHRpcF9zcGVlZF9rZXkiOiAicDIwX21waCJ9LCAidHlwZSI6ICJuZXdfc3BlZWRtYXAifV0sICJsYXRfbG9uIjogWzM3Ljc2MDAyMzMxNjk2ODUxLCAtMTIyLjQzMzE5NjgwOTY5ODc0XSwgInpvb20iOiAxMywgImxlZ2VuZF91cmwiOiAiaHR0cHM6Ly9zdG9yYWdlLmdvb2dsZWFwaXMuY29tL2NhbGl0cC1tYXAtdGlsZXMvc3BlZWRzX2xlZ2VuZF9jb2xvcl9hY2Nlc3Muc3ZnIn0=\" target=\"_blank\">Open Full Map in New Tab</a>"
      ],
      "text/plain": [
       "<IPython.core.display.Markdown object>"
      ]
     },
     "metadata": {},
     "output_type": "display_data"
    }
   ],
   "source": [
    "if link: speedmap_utils.render_spa_link(link)"
   ]
  },
  {
   "cell_type": "code",
   "execution_count": 5,
   "id": "3c7544a4-a3d6-49c6-b0d7-9d73122b174d",
   "metadata": {},
   "outputs": [],
   "source": [
    "# if link: speedmap_utils.display_spa_map(link)"
   ]
  },
  {
   "cell_type": "markdown",
   "id": "5b63a9ef-a4bb-47a9-a3f4-67cc420dc20d",
   "metadata": {},
   "source": [
    "# Segment Speeds (stop to stop segments)"
   ]
  },
  {
   "cell_type": "code",
   "execution_count": null,
   "id": "523de5f9-c1b9-4b42-831d-61c21ee6c8a3",
   "metadata": {},
   "outputs": [],
   "source": [
    "from shared_utils import catalog_utils, rt_utils\n",
    "from calitp_data_analysis import geography_utils"
   ]
  },
  {
   "cell_type": "code",
   "execution_count": 2,
   "id": "d260a030-f52a-44bf-b5e9-1655ed8de361",
   "metadata": {},
   "outputs": [],
   "source": [
    "import geopandas as gpd\n",
    "import pandas as pd\n",
    "from siuba import *\n",
    "import numpy as np"
   ]
  },
  {
   "cell_type": "code",
   "execution_count": 3,
   "id": "265797da-5bc4-4340-8530-4543d75e9d4a",
   "metadata": {},
   "outputs": [
    {
     "ename": "NameError",
     "evalue": "name 'catalog_utils' is not defined",
     "output_type": "error",
     "traceback": [
      "\u001b[0;31m---------------------------------------------------------------------------\u001b[0m",
      "\u001b[0;31mNameError\u001b[0m                                 Traceback (most recent call last)",
      "Cell \u001b[0;32mIn[3], line 1\u001b[0m\n\u001b[0;32m----> 1\u001b[0m catalog \u001b[38;5;241m=\u001b[39m \u001b[43mcatalog_utils\u001b[49m\u001b[38;5;241m.\u001b[39mget_catalog(\u001b[38;5;124m'\u001b[39m\u001b[38;5;124mgtfs_analytics_data\u001b[39m\u001b[38;5;124m'\u001b[39m)\n",
      "\u001b[0;31mNameError\u001b[0m: name 'catalog_utils' is not defined"
     ]
    }
   ],
   "source": [
    "catalog = catalog_utils.get_catalog('gtfs_analytics_data')"
   ]
  },
  {
   "cell_type": "code",
   "execution_count": 25,
   "id": "bb11c9ef-a678-4114-8fbc-bd3a81e29410",
   "metadata": {},
   "outputs": [],
   "source": [
    "path = f'{catalog.stop_segments.dir}{catalog.stop_segments.route_dir_single_segment}_{update_vars_index.ANALYSIS_DATE}.parquet'"
   ]
  },
  {
   "cell_type": "code",
   "execution_count": 26,
   "id": "f8e24fbe-3c77-4305-bde2-e5ab8a7b1815",
   "metadata": {},
   "outputs": [],
   "source": [
    "stop_segs = gpd.read_parquet(path, filters=[['organization_source_record_id', '==', organization_source_record_id]])"
   ]
  },
  {
   "cell_type": "code",
   "execution_count": 30,
   "id": "8001d8c6-3a98-49ef-b1a5-a04da26f33e8",
   "metadata": {},
   "outputs": [],
   "source": [
    "stop_segs = stop_segs >> filter(_.time_period == 'peak')"
   ]
  },
  {
   "cell_type": "code",
   "execution_count": 32,
   "id": "74361dd3-1211-456d-8d59-2385aea2b5bb",
   "metadata": {},
   "outputs": [],
   "source": [
    "stop_segs.n_trips = stop_segs.n_trips / 7"
   ]
  },
  {
   "cell_type": "code",
   "execution_count": 43,
   "id": "12768b30-6beb-47d8-b045-bf4c53683399",
   "metadata": {},
   "outputs": [],
   "source": [
    "def prepare_segment_gdf(gdf: gpd.GeoDataFrame) -> gpd.GeoDataFrame:\n",
    "    '''\n",
    "    Project segment speeds gdf and add column for rich speedmap display\n",
    "    '''\n",
    "    gdf = gdf.to_crs(geography_utils.CA_NAD83Albers)\n",
    "    #  TODO move upstream and investigate\n",
    "    gdf['fast_slow_ratio'] = gdf.p80_mph / gdf.p20_mph\n",
    "    gdf.fast_slow_ratio = gdf.fast_slow_ratio.replace(np.inf, 3)\n",
    "    gdf = gdf.round(1)\n",
    "\n",
    "    ## shift to right side of road to display direction\n",
    "    gdf.geometry = gdf.geometry.apply(rt_utils.try_parallel)\n",
    "    gdf = gdf.apply(rt_utils.arrowize_by_frequency, axis=1, frequency_col='n_trips')\n",
    "\n",
    "    gdf = gdf >> arrange(_.n_trips)\n",
    "\n",
    "    return gdf"
   ]
  },
  {
   "cell_type": "code",
   "execution_count": 44,
   "id": "0bfc78b2-1108-45b5-98c3-b732d4b413d3",
   "metadata": {},
   "outputs": [],
   "source": [
    "stop_segs = prepare_segment_gdf(stop_segs)"
   ]
  },
  {
   "cell_type": "code",
   "execution_count": 45,
   "id": "9b683366-f6b0-4fbe-9e1a-baaf3fb83390",
   "metadata": {},
   "outputs": [],
   "source": [
    "cmap = rt_utils.ACCESS_ZERO_THIRTY_COLORSCALE\n",
    "legend_url = rt_utils.ACCESS_SPEEDMAP_LEGEND_URL"
   ]
  },
  {
   "cell_type": "code",
   "execution_count": 48,
   "id": "77f85ca4-06b0-44df-9b57-6bed789a73a6",
   "metadata": {},
   "outputs": [],
   "source": [
    "export_result = rt_utils.set_state_export(\n",
    "    stop_segs, subfolder = 'test', filename='sfmta_stop_segs_test',\n",
    "    map_type='speedmap',\n",
    "    color_col='p20_mph', cmap=cmap, legend_url=legend_url,\n",
    "    map_title=f'SFMTA with stop to stop segments test {update_vars_index.ANALYSIS_DATE}',\n",
    "    )"
   ]
  },
  {
   "cell_type": "code",
   "execution_count": 51,
   "id": "df1bcfda-9d71-4574-b298-221038a4be80",
   "metadata": {},
   "outputs": [],
   "source": [
    "link = export_result['spa_link']"
   ]
  },
  {
   "cell_type": "code",
   "execution_count": 53,
   "id": "2f71d04f-33de-4895-ae09-036059a99cbc",
   "metadata": {},
   "outputs": [
    {
     "data": {
      "text/markdown": [
       "<a href=\"https://embeddable-maps.calitp.org/?state=eyJuYW1lIjogIm51bGwiLCAibGF5ZXJzIjogW3sibmFtZSI6ICJTRk1UQSB3aXRoIHN0b3AgdG8gc3RvcCBzZWdtZW50cyB0ZXN0IDIwMjQtMTEtMTMiLCAidXJsIjogImh0dHBzOi8vc3RvcmFnZS5nb29nbGVhcGlzLmNvbS9jYWxpdHAtbWFwLXRpbGVzL3Rlc3RzZm10YV9zdG9wX3NlZ3NfdGVzdC5nZW9qc29uLmd6IiwgInByb3BlcnRpZXMiOiB7InN0cm9rZWQiOiBmYWxzZSwgImhpZ2hsaWdodF9zYXR1cmF0aW9uX211bHRpcGxpZXIiOiAwLjUsICJ0b29sdGlwX3NwZWVkX2tleSI6ICJwMjBfbXBoIn0sICJ0eXBlIjogInNwZWVkbWFwIn1dLCAibGF0X2xvbiI6IFszNy43NTg2NzAyMTc3MzcxNSwgLTEyMi40MzI0MDg4NjY4MTE3Nl0sICJ6b29tIjogMTMsICJsZWdlbmRfdXJsIjogImh0dHBzOi8vc3RvcmFnZS5nb29nbGVhcGlzLmNvbS9jYWxpdHAtbWFwLXRpbGVzL3NwZWVkc19sZWdlbmRfY29sb3JfYWNjZXNzLnN2ZyJ9\" target=\"_blank\">Open Full Map in New Tab</a>"
      ],
      "text/plain": [
       "<IPython.core.display.Markdown object>"
      ]
     },
     "metadata": {},
     "output_type": "display_data"
    }
   ],
   "source": [
    "if link: speedmap_utils.render_spa_link(link)"
   ]
  },
  {
   "cell_type": "code",
   "execution_count": 6,
   "id": "e5eaf2fa-b012-4337-9382-66e32b487fff",
   "metadata": {},
   "outputs": [],
   "source": [
    "# if link: speedmap_utils.display_spa_map(link)"
   ]
  }
 ],
 "metadata": {
  "kernelspec": {
   "display_name": "Python 3 (ipykernel)",
   "language": "python",
   "name": "python3"
  },
  "language_info": {
   "codemirror_mode": {
    "name": "ipython",
    "version": 3
   },
   "file_extension": ".py",
   "mimetype": "text/x-python",
   "name": "python",
   "nbconvert_exporter": "python",
   "pygments_lexer": "ipython3",
   "version": "3.9.13"
  },
  "widgets": {
   "application/vnd.jupyter.widget-state+json": {
    "state": {},
    "version_major": 2,
    "version_minor": 0
   }
  }
 },
 "nbformat": 4,
 "nbformat_minor": 5
}
