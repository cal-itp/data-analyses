{
 "cells": [
  {
   "cell_type": "markdown",
   "id": "b4a62d57-fa1f-45b8-8961-a19913af6e25",
   "metadata": {},
   "source": [
    "# looking back"
   ]
  },
  {
   "cell_type": "code",
   "execution_count": 11,
   "id": "dc37dc85-c105-4e9c-ac05-ccd38186ef08",
   "metadata": {
    "tags": []
   },
   "outputs": [],
   "source": [
    "analysis_date = '2025-03-12'"
   ]
  },
  {
   "cell_type": "code",
   "execution_count": 63,
   "id": "7455aac2-9cc4-4657-9d16-056eddb4594a",
   "metadata": {
    "tags": []
   },
   "outputs": [],
   "source": [
    "import pandas as pd\n",
    "import datetime as dt\n",
    "import geopandas as gpd"
   ]
  },
  {
   "cell_type": "code",
   "execution_count": 10,
   "id": "32a9e8e6-e8df-4d82-b124-d1832700d06f",
   "metadata": {
    "tags": []
   },
   "outputs": [],
   "source": [
    "from shared_utils import rt_dates, catalog_utils, schedule_rt_utils"
   ]
  },
  {
   "cell_type": "code",
   "execution_count": 2,
   "id": "4187e756-162f-42cb-a0ea-17ae188a5c15",
   "metadata": {
    "tags": []
   },
   "outputs": [],
   "source": [
    "this = pd.read_parquet('./_rt_progress_2025-03-12.parquet')"
   ]
  },
  {
   "cell_type": "code",
   "execution_count": 3,
   "id": "955b90bb-3bd3-44dc-bf1a-bd57a9e852b8",
   "metadata": {
    "tags": []
   },
   "outputs": [],
   "source": [
    "last = pd.read_parquet('./_rt_progress_2025-02-12.parquet')"
   ]
  },
  {
   "cell_type": "code",
   "execution_count": 9,
   "id": "5a53eb1e-d372-4126-a297-064d8b4dd617",
   "metadata": {
    "tags": []
   },
   "outputs": [
    {
     "data": {
      "text/html": [
       "<div>\n",
       "<style scoped>\n",
       "    .dataframe tbody tr th:only-of-type {\n",
       "        vertical-align: middle;\n",
       "    }\n",
       "\n",
       "    .dataframe tbody tr th {\n",
       "        vertical-align: top;\n",
       "    }\n",
       "\n",
       "    .dataframe thead th {\n",
       "        text-align: right;\n",
       "    }\n",
       "</style>\n",
       "<table border=\"1\" class=\"dataframe\">\n",
       "  <thead>\n",
       "    <tr style=\"text-align: right;\">\n",
       "      <th></th>\n",
       "      <th>organization_name</th>\n",
       "      <th>organization_source_record_id</th>\n",
       "      <th>name</th>\n",
       "      <th>base64_url</th>\n",
       "      <th>caltrans_district</th>\n",
       "      <th>status</th>\n",
       "      <th>analysis_date</th>\n",
       "      <th>_merge</th>\n",
       "    </tr>\n",
       "  </thead>\n",
       "  <tbody>\n",
       "    <tr>\n",
       "      <th>45</th>\n",
       "      <td>Madera County</td>\n",
       "      <td>recWLwvtjXhiVWjKt</td>\n",
       "      <td>Madera County Connection Schedule</td>\n",
       "      <td>aHR0cHM6Ly9kYXRhLnRyaWxsaXVtdHJhbnNpdC5jb20vZ3...</td>\n",
       "      <td>06 - Fresno</td>\n",
       "      <td>speedmap_segs_available</td>\n",
       "      <td>2025-02-12</td>\n",
       "      <td>left_only</td>\n",
       "    </tr>\n",
       "    <tr>\n",
       "      <th>59</th>\n",
       "      <td>Susanville Indian Rancheria</td>\n",
       "      <td>recKN0Q28cOQdsy5L</td>\n",
       "      <td>Tehama Schedule</td>\n",
       "      <td>aHR0cHM6Ly9kYXRhLnRyaWxsaXVtdHJhbnNpdC5jb20vZ3...</td>\n",
       "      <td>02 - Redding</td>\n",
       "      <td>speedmap_segs_available</td>\n",
       "      <td>2025-02-12</td>\n",
       "      <td>left_only</td>\n",
       "    </tr>\n",
       "    <tr>\n",
       "      <th>65</th>\n",
       "      <td>City and County of San Francisco</td>\n",
       "      <td>rechaapWbeffO33OX</td>\n",
       "      <td>Bay Area 511 Muni Schedule</td>\n",
       "      <td>aHR0cHM6Ly9hcGkuNTExLm9yZy90cmFuc2l0L2RhdGFmZW...</td>\n",
       "      <td>04 - Oakland</td>\n",
       "      <td>speedmap_segs_available</td>\n",
       "      <td>2025-02-12</td>\n",
       "      <td>left_only</td>\n",
       "    </tr>\n",
       "    <tr>\n",
       "      <th>75</th>\n",
       "      <td>Shasta County</td>\n",
       "      <td>recx4ZG2lvZb7kGAL</td>\n",
       "      <td>Redding Schedule</td>\n",
       "      <td>aHR0cHM6Ly9ob3N0ZWQtZ3Rmcy1mZWVkcy5zMy5hbWF6b2...</td>\n",
       "      <td>02 - Redding</td>\n",
       "      <td>speedmap_segs_available</td>\n",
       "      <td>2025-02-12</td>\n",
       "      <td>left_only</td>\n",
       "    </tr>\n",
       "    <tr>\n",
       "      <th>112</th>\n",
       "      <td>City of San Luis Obispo</td>\n",
       "      <td>recMM99msxjmc6PPv</td>\n",
       "      <td>SLO Peak Transit Schedule</td>\n",
       "      <td>aHR0cDovL2RhdGEucGVha3RyYW5zaXQuY29tL3N0YXRpY2...</td>\n",
       "      <td>05 - San Luis Obispo</td>\n",
       "      <td>speedmap_segs_available</td>\n",
       "      <td>2025-02-12</td>\n",
       "      <td>left_only</td>\n",
       "    </tr>\n",
       "    <tr>\n",
       "      <th>114</th>\n",
       "      <td>City of Duarte</td>\n",
       "      <td>recZm8PD8WIdcDL0M</td>\n",
       "      <td>Foothill Schedule</td>\n",
       "      <td>aHR0cHM6Ly9mb290aGlsbHRyYW5zaXQucmlkZXJhbGVydH...</td>\n",
       "      <td>07 - Los Angeles / Ventura</td>\n",
       "      <td>speedmap_segs_available</td>\n",
       "      <td>2025-02-12</td>\n",
       "      <td>left_only</td>\n",
       "    </tr>\n",
       "    <tr>\n",
       "      <th>115</th>\n",
       "      <td>Foothill Transit</td>\n",
       "      <td>recSqgaa8QiQ8CRjl</td>\n",
       "      <td>Foothill Schedule</td>\n",
       "      <td>aHR0cHM6Ly9mb290aGlsbHRyYW5zaXQucmlkZXJhbGVydH...</td>\n",
       "      <td>07 - Los Angeles / Ventura</td>\n",
       "      <td>speedmap_segs_available</td>\n",
       "      <td>2025-02-12</td>\n",
       "      <td>left_only</td>\n",
       "    </tr>\n",
       "    <tr>\n",
       "      <th>119</th>\n",
       "      <td>City of Solvang</td>\n",
       "      <td>reckp33bhAuZlmO1M</td>\n",
       "      <td>Santa Ynez Mecatran Schedule</td>\n",
       "      <td>aHR0cDovL2FwcC5tZWNhdHJhbi5jb20vdXJiL3dzL2ZlZW...</td>\n",
       "      <td>05 - San Luis Obispo</td>\n",
       "      <td>speedmap_segs_available</td>\n",
       "      <td>2025-02-12</td>\n",
       "      <td>left_only</td>\n",
       "    </tr>\n",
       "  </tbody>\n",
       "</table>\n",
       "</div>"
      ],
      "text/plain": [
       "                    organization_name organization_source_record_id  \\\n",
       "45                      Madera County             recWLwvtjXhiVWjKt   \n",
       "59        Susanville Indian Rancheria             recKN0Q28cOQdsy5L   \n",
       "65   City and County of San Francisco             rechaapWbeffO33OX   \n",
       "75                      Shasta County             recx4ZG2lvZb7kGAL   \n",
       "112           City of San Luis Obispo             recMM99msxjmc6PPv   \n",
       "114                    City of Duarte             recZm8PD8WIdcDL0M   \n",
       "115                  Foothill Transit             recSqgaa8QiQ8CRjl   \n",
       "119                   City of Solvang             reckp33bhAuZlmO1M   \n",
       "\n",
       "                                  name  \\\n",
       "45   Madera County Connection Schedule   \n",
       "59                     Tehama Schedule   \n",
       "65          Bay Area 511 Muni Schedule   \n",
       "75                    Redding Schedule   \n",
       "112          SLO Peak Transit Schedule   \n",
       "114                  Foothill Schedule   \n",
       "115                  Foothill Schedule   \n",
       "119       Santa Ynez Mecatran Schedule   \n",
       "\n",
       "                                            base64_url  \\\n",
       "45   aHR0cHM6Ly9kYXRhLnRyaWxsaXVtdHJhbnNpdC5jb20vZ3...   \n",
       "59   aHR0cHM6Ly9kYXRhLnRyaWxsaXVtdHJhbnNpdC5jb20vZ3...   \n",
       "65   aHR0cHM6Ly9hcGkuNTExLm9yZy90cmFuc2l0L2RhdGFmZW...   \n",
       "75   aHR0cHM6Ly9ob3N0ZWQtZ3Rmcy1mZWVkcy5zMy5hbWF6b2...   \n",
       "112  aHR0cDovL2RhdGEucGVha3RyYW5zaXQuY29tL3N0YXRpY2...   \n",
       "114  aHR0cHM6Ly9mb290aGlsbHRyYW5zaXQucmlkZXJhbGVydH...   \n",
       "115  aHR0cHM6Ly9mb290aGlsbHRyYW5zaXQucmlkZXJhbGVydH...   \n",
       "119  aHR0cDovL2FwcC5tZWNhdHJhbi5jb20vdXJiL3dzL2ZlZW...   \n",
       "\n",
       "              caltrans_district                   status analysis_date  \\\n",
       "45                  06 - Fresno  speedmap_segs_available    2025-02-12   \n",
       "59                 02 - Redding  speedmap_segs_available    2025-02-12   \n",
       "65                 04 - Oakland  speedmap_segs_available    2025-02-12   \n",
       "75                 02 - Redding  speedmap_segs_available    2025-02-12   \n",
       "112        05 - San Luis Obispo  speedmap_segs_available    2025-02-12   \n",
       "114  07 - Los Angeles / Ventura  speedmap_segs_available    2025-02-12   \n",
       "115  07 - Los Angeles / Ventura  speedmap_segs_available    2025-02-12   \n",
       "119        05 - San Luis Obispo  speedmap_segs_available    2025-02-12   \n",
       "\n",
       "        _merge  \n",
       "45   left_only  \n",
       "59   left_only  \n",
       "65   left_only  \n",
       "75   left_only  \n",
       "112  left_only  \n",
       "114  left_only  \n",
       "115  left_only  \n",
       "119  left_only  "
      ]
     },
     "execution_count": 9,
     "metadata": {},
     "output_type": "execute_result"
    }
   ],
   "source": [
    "last.merge(this[['organization_source_record_id']],\n",
    "           how='left', on='organization_source_record_id',\n",
    "          indicator=True).query('_merge == \"left_only\"')"
   ]
  },
  {
   "cell_type": "code",
   "execution_count": 1,
   "id": "b61925d9-9e2f-46d5-9abf-554eb5f346c7",
   "metadata": {},
   "outputs": [],
   "source": [
    "import yaml"
   ]
  },
  {
   "cell_type": "code",
   "execution_count": 8,
   "id": "b1112c35-e2ff-468a-962e-68bc297ad84e",
   "metadata": {
    "tags": []
   },
   "outputs": [],
   "source": [
    "with open ('../gtfs_funnel/published_operators.yml', 'r') as f:\n",
    "    operators = yaml.safe_load(f)\n",
    "    operators = {key.isoformat(): operators[key] for key in operators.keys()}"
   ]
  },
  {
   "cell_type": "code",
   "execution_count": 17,
   "id": "01c07794-f777-42f7-bb00-516d6c1c7bbe",
   "metadata": {
    "tags": []
   },
   "outputs": [
    {
     "data": {
      "text/plain": [
       "['Bay Area 511 Muni Schedule',\n",
       " 'Foothill Schedule',\n",
       " 'Madera County Connection Schedule']"
      ]
     },
     "execution_count": 17,
     "metadata": {},
     "output_type": "execute_result"
    }
   ],
   "source": [
    "operators[rt_dates.DATES['feb2025']]"
   ]
  },
  {
   "cell_type": "code",
   "execution_count": 55,
   "id": "22b7c0ec-9d64-46ba-9c74-2e827b76ed8d",
   "metadata": {
    "tags": []
   },
   "outputs": [
    {
     "data": {
      "text/plain": [
       "['Auburn Schedule', 'Golden Gate Park Shuttle Schedule']"
      ]
     },
     "execution_count": 55,
     "metadata": {},
     "output_type": "execute_result"
    }
   ],
   "source": [
    "operators[rt_dates.DATES['jan2025']]"
   ]
  },
  {
   "cell_type": "code",
   "execution_count": 20,
   "id": "a3454935-7a0e-4d6d-8d81-d1f7a2d1cceb",
   "metadata": {
    "tags": []
   },
   "outputs": [
    {
     "data": {
      "text/plain": [
       "datetime.datetime(2025, 3, 27, 15, 48, 55, 513581)"
      ]
     },
     "execution_count": 20,
     "metadata": {},
     "output_type": "execute_result"
    }
   ],
   "source": [
    "dt.datetime.now()"
   ]
  },
  {
   "cell_type": "code",
   "execution_count": 23,
   "id": "d8ff8136-0808-4aff-8702-28e8c8c36ecf",
   "metadata": {
    "tags": []
   },
   "outputs": [
    {
     "data": {
      "text/plain": [
       "'mar2025'"
      ]
     },
     "execution_count": 23,
     "metadata": {},
     "output_type": "execute_result"
    }
   ],
   "source": [
    "dt.datetime.now().strftime('%b%Y').lower()"
   ]
  },
  {
   "cell_type": "code",
   "execution_count": 24,
   "id": "327a190c-0231-4363-8a88-6f9495821569",
   "metadata": {
    "tags": []
   },
   "outputs": [],
   "source": [
    "now = dt.datetime.now()"
   ]
  },
  {
   "cell_type": "code",
   "execution_count": 26,
   "id": "b98fbd96-3211-41c3-aa9c-04c126e1f206",
   "metadata": {
    "tags": []
   },
   "outputs": [
    {
     "data": {
      "text/plain": [
       "datetime.datetime(2025, 2, 25, 15, 50, 26, 343288)"
      ]
     },
     "execution_count": 26,
     "metadata": {},
     "output_type": "execute_result"
    }
   ],
   "source": [
    "now-dt.timedelta(days = 30)"
   ]
  },
  {
   "cell_type": "code",
   "execution_count": 61,
   "id": "8510c113-ffc4-4c2f-bd1c-7971ffa1658e",
   "metadata": {
    "tags": []
   },
   "outputs": [],
   "source": [
    "catalog = catalog_utils.get_catalog('gtfs_analytics_data')"
   ]
  },
  {
   "cell_type": "code",
   "execution_count": 98,
   "id": "ee6e2129-af44-42fd-a037-84d2192b3a79",
   "metadata": {
    "tags": []
   },
   "outputs": [],
   "source": [
    "def datetime_to_rt_date_key(datetime: dt.datetime, day_offset: int = 0) -> str:\n",
    "    '''\n",
    "    using a datetime object and optional day offset,\n",
    "    compose string key to rt_dates.DATES\n",
    "    '''\n",
    "    datetime = datetime + dt.timedelta(days = day_offset)\n",
    "    return datetime.strftime('%b%Y').lower()"
   ]
  },
  {
   "cell_type": "code",
   "execution_count": 53,
   "id": "dc24923b-58cb-4d85-81e7-d07d8915da3b",
   "metadata": {
    "tags": []
   },
   "outputs": [
    {
     "data": {
      "text/plain": [
       "['mar2025', 'feb2025', 'jan2025']"
      ]
     },
     "execution_count": 53,
     "metadata": {},
     "output_type": "execute_result"
    }
   ],
   "source": [
    "[datetime_to_rt_date_key(now, x) for x in range(0, -61, -30)]"
   ]
  },
  {
   "cell_type": "code",
   "execution_count": 92,
   "id": "929e1d1c-9544-468c-b868-f7b3496eebe3",
   "metadata": {
    "tags": []
   },
   "outputs": [],
   "source": [
    "def append_previous(speedmap_segs: pd.DataFrame, date_key: str, operators: dict) -> pd.DataFrame():\n",
    "    '''\n",
    "    operators: dict of the most recent rt_date an operator's feed was seen,\n",
    "    currently via '../gtfs_funnel/published_operators.yml'\n",
    "    date_key: key to rt_dates.DATES, such as \"feb2025\"\n",
    "    '''\n",
    "    previous_date = rt_dates.DATES[date_key]\n",
    "    previous_segs = read_segs(previous_date).query('name.isin(@operators[@previous_date])')\n",
    "    previous_segs['analysis_date'] = previous_date\n",
    "    speedmap_segs = pd.concat([speedmap_segs, previous_segs])\n",
    "    return speedmap_segs"
   ]
  },
  {
   "cell_type": "code",
   "execution_count": 93,
   "id": "fdafd4ed-c28e-42fe-afe9-7e0e5a4de00f",
   "metadata": {
    "tags": []
   },
   "outputs": [],
   "source": [
    "df = append_previous(pd.DataFrame(), 'feb2025', operators)"
   ]
  },
  {
   "cell_type": "code",
   "execution_count": 94,
   "id": "005bffdc-cd0d-43fb-a942-edd63e12d5b3",
   "metadata": {
    "tags": []
   },
   "outputs": [],
   "source": [
    "def read_segs(analysis_date: str) -> gpd.GeoDataFrame:\n",
    "    '''\n",
    "    read speedmap segments from gcs and keep one row per organization x feed\n",
    "    '''\n",
    "    path = f'{catalog.speedmap_segments.dir}{catalog.speedmap_segments.segment_timeofday}_{analysis_date}.parquet'\n",
    "    org_cols = ['organization_name', 'organization_source_record_id', 'name', 'base64_url']\n",
    "    speedmap_segs = gpd.read_parquet(path)[org_cols].drop_duplicates().reset_index(drop=True)\n",
    "    return speedmap_segs"
   ]
  },
  {
   "cell_type": "code",
   "execution_count": 95,
   "id": "82a04b85-3afa-4e52-8e14-18fcf720fa94",
   "metadata": {
    "tags": []
   },
   "outputs": [],
   "source": [
    "ANALYSIS_DATE_LIST = [datetime_to_rt_date_key(dt.datetime.now(), x) for x in range(0, -61, -30)]\n",
    "PROGRESS_PATH = f'./_rt_progress_{ANALYSIS_DATE}.parquet'\n",
    "GEOJSON_SUBFOLDER = f'segment_speeds_{ANALYSIS_DATE}/'\n",
    "\n",
    "def build_speedmaps_index(analysis_date_list: dt.date, operators: dict) -> pd.DataFrame:\n",
    "    '''\n",
    "    An index table for tracking down a given org's schedule/rt feeds.\n",
    "    Note that in limited cases, multiple orgs may share the same datasets\n",
    "    (VCTC combined feeds, SD Airport and SDMTS...)\n",
    "    '''\n",
    "    speedmap_segs = pd.DataFrame()\n",
    "    for i in range(len(analysis_date_list)):\n",
    "        speedmap_segs = append_previous(speedmap_segs, analysis_date_list[i], operators)\n",
    "    districts = schedule_rt_utils.filter_dim_county_geography(analysis_date)\n",
    "    new_ix = speedmap_segs.merge(districts, on = 'organization_name')\n",
    "    new_ix['status'] = 'speedmap_segs_available'\n",
    "    return new_ix"
   ]
  },
  {
   "cell_type": "code",
   "execution_count": 96,
   "id": "aa004924-827d-4671-b6e3-84dab5648732",
   "metadata": {
    "tags": []
   },
   "outputs": [
    {
     "name": "stdout",
     "output_type": "stream",
     "text": [
      "mar2025\n",
      "feb2025\n",
      "jan2025\n"
     ]
    }
   ],
   "source": [
    "df = build_speedmaps_index(ANALYSIS_DATE_LIST, operators)"
   ]
  },
  {
   "cell_type": "code",
   "execution_count": 99,
   "id": "39a09a63-d58b-4eeb-a07a-8fb7173327d8",
   "metadata": {
    "tags": []
   },
   "outputs": [
    {
     "data": {
      "text/plain": [
       "2025-03-12    109\n",
       "2025-02-12      4\n",
       "Name: analysis_date, dtype: int64"
      ]
     },
     "execution_count": 99,
     "metadata": {},
     "output_type": "execute_result"
    }
   ],
   "source": [
    "df.analysis_date.value_counts()"
   ]
  },
  {
   "cell_type": "code",
   "execution_count": 101,
   "id": "7046b336-89a4-4fd3-b489-3a02c1778e90",
   "metadata": {
    "tags": []
   },
   "outputs": [
    {
     "data": {
      "text/plain": [
       "2025-03-12    109\n",
       "2025-02-12      4\n",
       "Name: analysis_date, dtype: int64"
      ]
     },
     "execution_count": 101,
     "metadata": {},
     "output_type": "execute_result"
    }
   ],
   "source": [
    "pd.read_parquet('./_rt_progress_2025-03-12.parquet').analysis_date.value_counts()"
   ]
  },
  {
   "cell_type": "code",
   "execution_count": 102,
   "id": "0de6a052-d4a6-4319-a484-44c8adfe7dca",
   "metadata": {
    "tags": []
   },
   "outputs": [
    {
     "data": {
      "text/html": [
       "<div>\n",
       "<style scoped>\n",
       "    .dataframe tbody tr th:only-of-type {\n",
       "        vertical-align: middle;\n",
       "    }\n",
       "\n",
       "    .dataframe tbody tr th {\n",
       "        vertical-align: top;\n",
       "    }\n",
       "\n",
       "    .dataframe thead th {\n",
       "        text-align: right;\n",
       "    }\n",
       "</style>\n",
       "<table border=\"1\" class=\"dataframe\">\n",
       "  <thead>\n",
       "    <tr style=\"text-align: right;\">\n",
       "      <th></th>\n",
       "      <th>organization_name</th>\n",
       "      <th>organization_source_record_id</th>\n",
       "      <th>name</th>\n",
       "      <th>base64_url</th>\n",
       "      <th>analysis_date</th>\n",
       "      <th>caltrans_district</th>\n",
       "      <th>status</th>\n",
       "    </tr>\n",
       "  </thead>\n",
       "  <tbody>\n",
       "    <tr>\n",
       "      <th>0</th>\n",
       "      <td>Tulare County Regional Transit Agency</td>\n",
       "      <td>rec4YWVqVwJ9XqDbq</td>\n",
       "      <td>TCRTA TripShot Schedule</td>\n",
       "      <td>aHR0cHM6Ly90Y3J0YS50cmlwc2hvdC5jb20vdjEvZ3Rmcy...</td>\n",
       "      <td>2025-03-12</td>\n",
       "      <td>06 - Fresno / Bakersfield</td>\n",
       "      <td>speedmap_segs_available</td>\n",
       "    </tr>\n",
       "    <tr>\n",
       "      <th>1</th>\n",
       "      <td>Marin County Transit District</td>\n",
       "      <td>recNOb7pqBRlQVG5e</td>\n",
       "      <td>Bay Area 511 Marin Schedule</td>\n",
       "      <td>aHR0cHM6Ly9hcGkuNTExLm9yZy90cmFuc2l0L2RhdGFmZW...</td>\n",
       "      <td>2025-03-12</td>\n",
       "      <td>04 - Bay Area / Oakland</td>\n",
       "      <td>speedmap_segs_available</td>\n",
       "    </tr>\n",
       "    <tr>\n",
       "      <th>2</th>\n",
       "      <td>Santa Barbara Metropolitan Transit District</td>\n",
       "      <td>recswCrw6a6htmXJ4</td>\n",
       "      <td>SBMTD Schedule</td>\n",
       "      <td>aHR0cHM6Ly9zYm10ZC5nb3YvZ29vZ2xlX3RyYW5zaXQvZm...</td>\n",
       "      <td>2025-03-12</td>\n",
       "      <td>05 - San Luis Obispo / Santa Barbara</td>\n",
       "      <td>speedmap_segs_available</td>\n",
       "    </tr>\n",
       "    <tr>\n",
       "      <th>3</th>\n",
       "      <td>Los Angeles County Metropolitan Transportation...</td>\n",
       "      <td>recPnGkwdpnr8jmHB</td>\n",
       "      <td>LA Metro Bus Schedule</td>\n",
       "      <td>aHR0cHM6Ly9naXRsYWIuY29tL0xBQ01UQS9ndGZzX2J1cy...</td>\n",
       "      <td>2025-03-12</td>\n",
       "      <td>07 - Los Angeles / Ventura</td>\n",
       "      <td>speedmap_segs_available</td>\n",
       "    </tr>\n",
       "    <tr>\n",
       "      <th>4</th>\n",
       "      <td>Los Angeles County Metropolitan Transportation...</td>\n",
       "      <td>recPnGkwdpnr8jmHB</td>\n",
       "      <td>LA Metro Rail Schedule</td>\n",
       "      <td>aHR0cHM6Ly9naXRsYWIuY29tL0xBQ01UQS9ndGZzX3JhaW...</td>\n",
       "      <td>2025-03-12</td>\n",
       "      <td>07 - Los Angeles / Ventura</td>\n",
       "      <td>speedmap_segs_available</td>\n",
       "    </tr>\n",
       "    <tr>\n",
       "      <th>...</th>\n",
       "      <td>...</td>\n",
       "      <td>...</td>\n",
       "      <td>...</td>\n",
       "      <td>...</td>\n",
       "      <td>...</td>\n",
       "      <td>...</td>\n",
       "      <td>...</td>\n",
       "    </tr>\n",
       "    <tr>\n",
       "      <th>108</th>\n",
       "      <td>City of Monterey Park</td>\n",
       "      <td>reccAVEcMntkbh6aY</td>\n",
       "      <td>Spirit Bus Passio Schedule</td>\n",
       "      <td>aHR0cHM6Ly9wYXNzaW8zLmNvbS9tb250ZXJleXAvcGFzc2...</td>\n",
       "      <td>2025-03-12</td>\n",
       "      <td>07 - Los Angeles / Ventura</td>\n",
       "      <td>speedmap_segs_available</td>\n",
       "    </tr>\n",
       "    <tr>\n",
       "      <th>109</th>\n",
       "      <td>Madera County</td>\n",
       "      <td>recWLwvtjXhiVWjKt</td>\n",
       "      <td>Madera County Connection Schedule</td>\n",
       "      <td>aHR0cHM6Ly9kYXRhLnRyaWxsaXVtdHJhbnNpdC5jb20vZ3...</td>\n",
       "      <td>2025-02-12</td>\n",
       "      <td>06 - Fresno / Bakersfield</td>\n",
       "      <td>speedmap_segs_available</td>\n",
       "    </tr>\n",
       "    <tr>\n",
       "      <th>110</th>\n",
       "      <td>City and County of San Francisco</td>\n",
       "      <td>rechaapWbeffO33OX</td>\n",
       "      <td>Bay Area 511 Muni Schedule</td>\n",
       "      <td>aHR0cHM6Ly9hcGkuNTExLm9yZy90cmFuc2l0L2RhdGFmZW...</td>\n",
       "      <td>2025-02-12</td>\n",
       "      <td>04 - Bay Area / Oakland</td>\n",
       "      <td>speedmap_segs_available</td>\n",
       "    </tr>\n",
       "    <tr>\n",
       "      <th>111</th>\n",
       "      <td>City of Duarte</td>\n",
       "      <td>recZm8PD8WIdcDL0M</td>\n",
       "      <td>Foothill Schedule</td>\n",
       "      <td>aHR0cHM6Ly9mb290aGlsbHRyYW5zaXQucmlkZXJhbGVydH...</td>\n",
       "      <td>2025-02-12</td>\n",
       "      <td>07 - Los Angeles / Ventura</td>\n",
       "      <td>speedmap_segs_available</td>\n",
       "    </tr>\n",
       "    <tr>\n",
       "      <th>112</th>\n",
       "      <td>Foothill Transit</td>\n",
       "      <td>recSqgaa8QiQ8CRjl</td>\n",
       "      <td>Foothill Schedule</td>\n",
       "      <td>aHR0cHM6Ly9mb290aGlsbHRyYW5zaXQucmlkZXJhbGVydH...</td>\n",
       "      <td>2025-02-12</td>\n",
       "      <td>07 - Los Angeles / Ventura</td>\n",
       "      <td>speedmap_segs_available</td>\n",
       "    </tr>\n",
       "  </tbody>\n",
       "</table>\n",
       "<p>113 rows × 7 columns</p>\n",
       "</div>"
      ],
      "text/plain": [
       "                                     organization_name  \\\n",
       "0                Tulare County Regional Transit Agency   \n",
       "1                        Marin County Transit District   \n",
       "2          Santa Barbara Metropolitan Transit District   \n",
       "3    Los Angeles County Metropolitan Transportation...   \n",
       "4    Los Angeles County Metropolitan Transportation...   \n",
       "..                                                 ...   \n",
       "108                              City of Monterey Park   \n",
       "109                                      Madera County   \n",
       "110                   City and County of San Francisco   \n",
       "111                                     City of Duarte   \n",
       "112                                   Foothill Transit   \n",
       "\n",
       "    organization_source_record_id                               name  \\\n",
       "0               rec4YWVqVwJ9XqDbq            TCRTA TripShot Schedule   \n",
       "1               recNOb7pqBRlQVG5e        Bay Area 511 Marin Schedule   \n",
       "2               recswCrw6a6htmXJ4                     SBMTD Schedule   \n",
       "3               recPnGkwdpnr8jmHB              LA Metro Bus Schedule   \n",
       "4               recPnGkwdpnr8jmHB             LA Metro Rail Schedule   \n",
       "..                            ...                                ...   \n",
       "108             reccAVEcMntkbh6aY         Spirit Bus Passio Schedule   \n",
       "109             recWLwvtjXhiVWjKt  Madera County Connection Schedule   \n",
       "110             rechaapWbeffO33OX         Bay Area 511 Muni Schedule   \n",
       "111             recZm8PD8WIdcDL0M                  Foothill Schedule   \n",
       "112             recSqgaa8QiQ8CRjl                  Foothill Schedule   \n",
       "\n",
       "                                            base64_url analysis_date  \\\n",
       "0    aHR0cHM6Ly90Y3J0YS50cmlwc2hvdC5jb20vdjEvZ3Rmcy...    2025-03-12   \n",
       "1    aHR0cHM6Ly9hcGkuNTExLm9yZy90cmFuc2l0L2RhdGFmZW...    2025-03-12   \n",
       "2    aHR0cHM6Ly9zYm10ZC5nb3YvZ29vZ2xlX3RyYW5zaXQvZm...    2025-03-12   \n",
       "3    aHR0cHM6Ly9naXRsYWIuY29tL0xBQ01UQS9ndGZzX2J1cy...    2025-03-12   \n",
       "4    aHR0cHM6Ly9naXRsYWIuY29tL0xBQ01UQS9ndGZzX3JhaW...    2025-03-12   \n",
       "..                                                 ...           ...   \n",
       "108  aHR0cHM6Ly9wYXNzaW8zLmNvbS9tb250ZXJleXAvcGFzc2...    2025-03-12   \n",
       "109  aHR0cHM6Ly9kYXRhLnRyaWxsaXVtdHJhbnNpdC5jb20vZ3...    2025-02-12   \n",
       "110  aHR0cHM6Ly9hcGkuNTExLm9yZy90cmFuc2l0L2RhdGFmZW...    2025-02-12   \n",
       "111  aHR0cHM6Ly9mb290aGlsbHRyYW5zaXQucmlkZXJhbGVydH...    2025-02-12   \n",
       "112  aHR0cHM6Ly9mb290aGlsbHRyYW5zaXQucmlkZXJhbGVydH...    2025-02-12   \n",
       "\n",
       "                        caltrans_district                   status  \n",
       "0               06 - Fresno / Bakersfield  speedmap_segs_available  \n",
       "1                 04 - Bay Area / Oakland  speedmap_segs_available  \n",
       "2    05 - San Luis Obispo / Santa Barbara  speedmap_segs_available  \n",
       "3              07 - Los Angeles / Ventura  speedmap_segs_available  \n",
       "4              07 - Los Angeles / Ventura  speedmap_segs_available  \n",
       "..                                    ...                      ...  \n",
       "108            07 - Los Angeles / Ventura  speedmap_segs_available  \n",
       "109             06 - Fresno / Bakersfield  speedmap_segs_available  \n",
       "110               04 - Bay Area / Oakland  speedmap_segs_available  \n",
       "111            07 - Los Angeles / Ventura  speedmap_segs_available  \n",
       "112            07 - Los Angeles / Ventura  speedmap_segs_available  \n",
       "\n",
       "[113 rows x 7 columns]"
      ]
     },
     "execution_count": 102,
     "metadata": {},
     "output_type": "execute_result"
    }
   ],
   "source": [
    "df"
   ]
  },
  {
   "cell_type": "code",
   "execution_count": null,
   "id": "5a5b877f-d29c-4649-b305-276ff7f5e6c2",
   "metadata": {},
   "outputs": [],
   "source": []
  }
 ],
 "metadata": {
  "kernelspec": {
   "display_name": "Python 3 (ipykernel)",
   "language": "python",
   "name": "python3"
  },
  "language_info": {
   "codemirror_mode": {
    "name": "ipython",
    "version": 3
   },
   "file_extension": ".py",
   "mimetype": "text/x-python",
   "name": "python",
   "nbconvert_exporter": "python",
   "pygments_lexer": "ipython3",
   "version": "3.11.10"
  },
  "widgets": {
   "application/vnd.jupyter.widget-state+json": {
    "state": {},
    "version_major": 2,
    "version_minor": 0
   }
  }
 },
 "nbformat": 4,
 "nbformat_minor": 5
}
