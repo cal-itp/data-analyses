{
 "cells": [
  {
   "cell_type": "code",
   "execution_count": 1,
   "id": "46898b5c-b5cc-4096-ab68-8c3e42fab870",
   "metadata": {},
   "outputs": [],
   "source": [
    "%%capture\n",
    "import warnings\n",
    "warnings.filterwarnings('ignore')\n",
    "\n",
    "import calitp_data_analysis.magics\n",
    "\n",
    "from rt_analysis import rt_filter_map_plot\n",
    "import build_speedmaps_index\n",
    "\n",
    "from IPython.display import display, Markdown\n",
    "import pandas as pd\n",
    "import geopandas as gpd\n",
    "from siuba import *\n",
    "\n",
    "from segment_speed_utils.project_vars import (\n",
    "    COMPILED_CACHED_VIEWS,\n",
    "    PROJECT_CRS,\n",
    "    SEGMENT_GCS,\n",
    ")\n",
    "\n",
    "import shared_utils"
   ]
  },
  {
   "cell_type": "code",
   "execution_count": 2,
   "id": "9f15ed6a-5ab7-4f57-9695-3f762781b74c",
   "metadata": {
    "tags": [
     "parameters"
    ]
   },
   "outputs": [],
   "source": [
    "## parameters cell\n",
    "itp_id = 300"
   ]
  },
  {
   "cell_type": "code",
   "execution_count": 3,
   "id": "a639fd84-29ca-4678-b568-2b1022701e14",
   "metadata": {},
   "outputs": [],
   "source": [
    "analysis_date = build_speedmaps_index.ANALYSIS_DATE\n",
    "import datetime as dt\n",
    "# if itp_id == 293:\n",
    "#     analysis_date = dt.date(2023, 9, 13)"
   ]
  },
  {
   "cell_type": "code",
   "execution_count": 12,
   "id": "d0cdaf1a-2c6d-452a-a5cc-210aa2fac2cb",
   "metadata": {},
   "outputs": [],
   "source": [
    "analysis_date = shared_utils.rt_dates.DATES['aug2024']"
   ]
  },
  {
   "cell_type": "code",
   "execution_count": 13,
   "id": "eea40f4b-c378-4b70-a80b-bbe79f8441bf",
   "metadata": {
    "collapsed": true,
    "jupyter": {
     "outputs_hidden": true
    },
    "tags": []
   },
   "outputs": [
    {
     "ename": "FileNotFoundError",
     "evalue": "[Errno 2] No such file or directory: '_rt_progress_2024-08-14.parquet'",
     "output_type": "error",
     "traceback": [
      "\u001b[0;31m---------------------------------------------------------------------------\u001b[0m",
      "\u001b[0;31mFileNotFoundError\u001b[0m                         Traceback (most recent call last)",
      "Cell \u001b[0;32mIn[13], line 1\u001b[0m\n\u001b[0;32m----> 1\u001b[0m speedmap_index \u001b[38;5;241m=\u001b[39m \u001b[43mpd\u001b[49m\u001b[38;5;241;43m.\u001b[39;49m\u001b[43mread_parquet\u001b[49m\u001b[43m(\u001b[49m\u001b[38;5;124;43mf\u001b[39;49m\u001b[38;5;124;43m'\u001b[39;49m\u001b[38;5;124;43m_rt_progress_\u001b[39;49m\u001b[38;5;132;43;01m{\u001b[39;49;00m\u001b[43manalysis_date\u001b[49m\u001b[38;5;132;43;01m}\u001b[39;49;00m\u001b[38;5;124;43m.parquet\u001b[39;49m\u001b[38;5;124;43m'\u001b[39;49m\u001b[43m)\u001b[49m \u001b[38;5;241m>>\u001b[39m \u001b[38;5;28mfilter\u001b[39m(_\u001b[38;5;241m.\u001b[39morganization_itp_id \u001b[38;5;241m==\u001b[39m itp_id)\n",
      "File \u001b[0;32m/opt/conda/lib/python3.9/site-packages/pandas/io/parquet.py:503\u001b[0m, in \u001b[0;36mread_parquet\u001b[0;34m(path, engine, columns, storage_options, use_nullable_dtypes, **kwargs)\u001b[0m\n\u001b[1;32m    456\u001b[0m \u001b[38;5;250m\u001b[39m\u001b[38;5;124;03m\"\"\"\u001b[39;00m\n\u001b[1;32m    457\u001b[0m \u001b[38;5;124;03mLoad a parquet object from the file path, returning a DataFrame.\u001b[39;00m\n\u001b[1;32m    458\u001b[0m \n\u001b[0;32m   (...)\u001b[0m\n\u001b[1;32m    499\u001b[0m \u001b[38;5;124;03mDataFrame\u001b[39;00m\n\u001b[1;32m    500\u001b[0m \u001b[38;5;124;03m\"\"\"\u001b[39;00m\n\u001b[1;32m    501\u001b[0m impl \u001b[38;5;241m=\u001b[39m get_engine(engine)\n\u001b[0;32m--> 503\u001b[0m \u001b[38;5;28;01mreturn\u001b[39;00m \u001b[43mimpl\u001b[49m\u001b[38;5;241;43m.\u001b[39;49m\u001b[43mread\u001b[49m\u001b[43m(\u001b[49m\n\u001b[1;32m    504\u001b[0m \u001b[43m    \u001b[49m\u001b[43mpath\u001b[49m\u001b[43m,\u001b[49m\n\u001b[1;32m    505\u001b[0m \u001b[43m    \u001b[49m\u001b[43mcolumns\u001b[49m\u001b[38;5;241;43m=\u001b[39;49m\u001b[43mcolumns\u001b[49m\u001b[43m,\u001b[49m\n\u001b[1;32m    506\u001b[0m \u001b[43m    \u001b[49m\u001b[43mstorage_options\u001b[49m\u001b[38;5;241;43m=\u001b[39;49m\u001b[43mstorage_options\u001b[49m\u001b[43m,\u001b[49m\n\u001b[1;32m    507\u001b[0m \u001b[43m    \u001b[49m\u001b[43muse_nullable_dtypes\u001b[49m\u001b[38;5;241;43m=\u001b[39;49m\u001b[43muse_nullable_dtypes\u001b[49m\u001b[43m,\u001b[49m\n\u001b[1;32m    508\u001b[0m \u001b[43m    \u001b[49m\u001b[38;5;241;43m*\u001b[39;49m\u001b[38;5;241;43m*\u001b[39;49m\u001b[43mkwargs\u001b[49m\u001b[43m,\u001b[49m\n\u001b[1;32m    509\u001b[0m \u001b[43m\u001b[49m\u001b[43m)\u001b[49m\n",
      "File \u001b[0;32m/opt/conda/lib/python3.9/site-packages/pandas/io/parquet.py:244\u001b[0m, in \u001b[0;36mPyArrowImpl.read\u001b[0;34m(self, path, columns, use_nullable_dtypes, storage_options, **kwargs)\u001b[0m\n\u001b[1;32m    241\u001b[0m \u001b[38;5;28;01mif\u001b[39;00m manager \u001b[38;5;241m==\u001b[39m \u001b[38;5;124m\"\u001b[39m\u001b[38;5;124marray\u001b[39m\u001b[38;5;124m\"\u001b[39m:\n\u001b[1;32m    242\u001b[0m     to_pandas_kwargs[\u001b[38;5;124m\"\u001b[39m\u001b[38;5;124msplit_blocks\u001b[39m\u001b[38;5;124m\"\u001b[39m] \u001b[38;5;241m=\u001b[39m \u001b[38;5;28;01mTrue\u001b[39;00m  \u001b[38;5;66;03m# type: ignore[assignment]\u001b[39;00m\n\u001b[0;32m--> 244\u001b[0m path_or_handle, handles, kwargs[\u001b[38;5;124m\"\u001b[39m\u001b[38;5;124mfilesystem\u001b[39m\u001b[38;5;124m\"\u001b[39m] \u001b[38;5;241m=\u001b[39m \u001b[43m_get_path_or_handle\u001b[49m\u001b[43m(\u001b[49m\n\u001b[1;32m    245\u001b[0m \u001b[43m    \u001b[49m\u001b[43mpath\u001b[49m\u001b[43m,\u001b[49m\n\u001b[1;32m    246\u001b[0m \u001b[43m    \u001b[49m\u001b[43mkwargs\u001b[49m\u001b[38;5;241;43m.\u001b[39;49m\u001b[43mpop\u001b[49m\u001b[43m(\u001b[49m\u001b[38;5;124;43m\"\u001b[39;49m\u001b[38;5;124;43mfilesystem\u001b[39;49m\u001b[38;5;124;43m\"\u001b[39;49m\u001b[43m,\u001b[49m\u001b[43m \u001b[49m\u001b[38;5;28;43;01mNone\u001b[39;49;00m\u001b[43m)\u001b[49m\u001b[43m,\u001b[49m\n\u001b[1;32m    247\u001b[0m \u001b[43m    \u001b[49m\u001b[43mstorage_options\u001b[49m\u001b[38;5;241;43m=\u001b[39;49m\u001b[43mstorage_options\u001b[49m\u001b[43m,\u001b[49m\n\u001b[1;32m    248\u001b[0m \u001b[43m    \u001b[49m\u001b[43mmode\u001b[49m\u001b[38;5;241;43m=\u001b[39;49m\u001b[38;5;124;43m\"\u001b[39;49m\u001b[38;5;124;43mrb\u001b[39;49m\u001b[38;5;124;43m\"\u001b[39;49m\u001b[43m,\u001b[49m\n\u001b[1;32m    249\u001b[0m \u001b[43m\u001b[49m\u001b[43m)\u001b[49m\n\u001b[1;32m    250\u001b[0m \u001b[38;5;28;01mtry\u001b[39;00m:\n\u001b[1;32m    251\u001b[0m     result \u001b[38;5;241m=\u001b[39m \u001b[38;5;28mself\u001b[39m\u001b[38;5;241m.\u001b[39mapi\u001b[38;5;241m.\u001b[39mparquet\u001b[38;5;241m.\u001b[39mread_table(\n\u001b[1;32m    252\u001b[0m         path_or_handle, columns\u001b[38;5;241m=\u001b[39mcolumns, \u001b[38;5;241m*\u001b[39m\u001b[38;5;241m*\u001b[39mkwargs\n\u001b[1;32m    253\u001b[0m     )\u001b[38;5;241m.\u001b[39mto_pandas(\u001b[38;5;241m*\u001b[39m\u001b[38;5;241m*\u001b[39mto_pandas_kwargs)\n",
      "File \u001b[0;32m/opt/conda/lib/python3.9/site-packages/pandas/io/parquet.py:102\u001b[0m, in \u001b[0;36m_get_path_or_handle\u001b[0;34m(path, fs, storage_options, mode, is_dir)\u001b[0m\n\u001b[1;32m     92\u001b[0m handles \u001b[38;5;241m=\u001b[39m \u001b[38;5;28;01mNone\u001b[39;00m\n\u001b[1;32m     93\u001b[0m \u001b[38;5;28;01mif\u001b[39;00m (\n\u001b[1;32m     94\u001b[0m     \u001b[38;5;129;01mnot\u001b[39;00m fs\n\u001b[1;32m     95\u001b[0m     \u001b[38;5;129;01mand\u001b[39;00m \u001b[38;5;129;01mnot\u001b[39;00m is_dir\n\u001b[0;32m   (...)\u001b[0m\n\u001b[1;32m    100\u001b[0m     \u001b[38;5;66;03m# fsspec resources can also point to directories\u001b[39;00m\n\u001b[1;32m    101\u001b[0m     \u001b[38;5;66;03m# this branch is used for example when reading from non-fsspec URLs\u001b[39;00m\n\u001b[0;32m--> 102\u001b[0m     handles \u001b[38;5;241m=\u001b[39m \u001b[43mget_handle\u001b[49m\u001b[43m(\u001b[49m\n\u001b[1;32m    103\u001b[0m \u001b[43m        \u001b[49m\u001b[43mpath_or_handle\u001b[49m\u001b[43m,\u001b[49m\u001b[43m \u001b[49m\u001b[43mmode\u001b[49m\u001b[43m,\u001b[49m\u001b[43m \u001b[49m\u001b[43mis_text\u001b[49m\u001b[38;5;241;43m=\u001b[39;49m\u001b[38;5;28;43;01mFalse\u001b[39;49;00m\u001b[43m,\u001b[49m\u001b[43m \u001b[49m\u001b[43mstorage_options\u001b[49m\u001b[38;5;241;43m=\u001b[39;49m\u001b[43mstorage_options\u001b[49m\n\u001b[1;32m    104\u001b[0m \u001b[43m    \u001b[49m\u001b[43m)\u001b[49m\n\u001b[1;32m    105\u001b[0m     fs \u001b[38;5;241m=\u001b[39m \u001b[38;5;28;01mNone\u001b[39;00m\n\u001b[1;32m    106\u001b[0m     path_or_handle \u001b[38;5;241m=\u001b[39m handles\u001b[38;5;241m.\u001b[39mhandle\n",
      "File \u001b[0;32m/opt/conda/lib/python3.9/site-packages/pandas/io/common.py:865\u001b[0m, in \u001b[0;36mget_handle\u001b[0;34m(path_or_buf, mode, encoding, compression, memory_map, is_text, errors, storage_options)\u001b[0m\n\u001b[1;32m    856\u001b[0m         handle \u001b[38;5;241m=\u001b[39m \u001b[38;5;28mopen\u001b[39m(\n\u001b[1;32m    857\u001b[0m             handle,\n\u001b[1;32m    858\u001b[0m             ioargs\u001b[38;5;241m.\u001b[39mmode,\n\u001b[0;32m   (...)\u001b[0m\n\u001b[1;32m    861\u001b[0m             newline\u001b[38;5;241m=\u001b[39m\u001b[38;5;124m\"\u001b[39m\u001b[38;5;124m\"\u001b[39m,\n\u001b[1;32m    862\u001b[0m         )\n\u001b[1;32m    863\u001b[0m     \u001b[38;5;28;01melse\u001b[39;00m:\n\u001b[1;32m    864\u001b[0m         \u001b[38;5;66;03m# Binary mode\u001b[39;00m\n\u001b[0;32m--> 865\u001b[0m         handle \u001b[38;5;241m=\u001b[39m \u001b[38;5;28;43mopen\u001b[39;49m\u001b[43m(\u001b[49m\u001b[43mhandle\u001b[49m\u001b[43m,\u001b[49m\u001b[43m \u001b[49m\u001b[43mioargs\u001b[49m\u001b[38;5;241;43m.\u001b[39;49m\u001b[43mmode\u001b[49m\u001b[43m)\u001b[49m\n\u001b[1;32m    866\u001b[0m     handles\u001b[38;5;241m.\u001b[39mappend(handle)\n\u001b[1;32m    868\u001b[0m \u001b[38;5;66;03m# Convert BytesIO or file objects passed with an encoding\u001b[39;00m\n",
      "\u001b[0;31mFileNotFoundError\u001b[0m: [Errno 2] No such file or directory: '_rt_progress_2024-08-14.parquet'"
     ]
    }
   ],
   "source": [
    "speedmap_index = pd.read_parquet(f'_rt_progress_{analysis_date}.parquet') >> filter(_.organization_itp_id == itp_id)"
   ]
  },
  {
   "cell_type": "code",
   "execution_count": 5,
   "id": "c54b78fd-de92-45d9-b54d-49c5b88945c7",
   "metadata": {},
   "outputs": [
    {
     "data": {
      "text/html": [
       "<div>\n",
       "<style scoped>\n",
       "    .dataframe tbody tr th:only-of-type {\n",
       "        vertical-align: middle;\n",
       "    }\n",
       "\n",
       "    .dataframe tbody tr th {\n",
       "        vertical-align: top;\n",
       "    }\n",
       "\n",
       "    .dataframe thead th {\n",
       "        text-align: right;\n",
       "    }\n",
       "</style>\n",
       "<table border=\"1\" class=\"dataframe\">\n",
       "  <thead>\n",
       "    <tr style=\"text-align: right;\">\n",
       "      <th></th>\n",
       "      <th>organization_name</th>\n",
       "      <th>organization_itp_id</th>\n",
       "      <th>organization_source_record_id</th>\n",
       "      <th>caltrans_district</th>\n",
       "      <th>_is_current</th>\n",
       "      <th>analysis_date</th>\n",
       "      <th>schedule_gtfs_dataset_key</th>\n",
       "      <th>status</th>\n",
       "    </tr>\n",
       "  </thead>\n",
       "  <tbody>\n",
       "    <tr>\n",
       "      <th>53</th>\n",
       "      <td>City of Santa Monica</td>\n",
       "      <td>300</td>\n",
       "      <td>recJHFDLpGRMIFgnL</td>\n",
       "      <td>07 - Los Angeles</td>\n",
       "      <td>True</td>\n",
       "      <td>2024-04-17</td>\n",
       "      <td>efbbd5293be71f7a5de0cf82b59febe1</td>\n",
       "      <td>map_confirmed</td>\n",
       "    </tr>\n",
       "  </tbody>\n",
       "</table>\n",
       "</div>"
      ],
      "text/plain": [
       "       organization_name  organization_itp_id organization_source_record_id  \\\n",
       "53  City of Santa Monica                  300             recJHFDLpGRMIFgnL   \n",
       "\n",
       "   caltrans_district  _is_current analysis_date  \\\n",
       "53  07 - Los Angeles         True    2024-04-17   \n",
       "\n",
       "           schedule_gtfs_dataset_key         status  \n",
       "53  efbbd5293be71f7a5de0cf82b59febe1  map_confirmed  "
      ]
     },
     "execution_count": 5,
     "metadata": {},
     "output_type": "execute_result"
    }
   ],
   "source": [
    "speedmap_index"
   ]
  },
  {
   "cell_type": "code",
   "execution_count": 6,
   "id": "76edaa5c-039e-419a-ade6-15ebdc018b3c",
   "metadata": {},
   "outputs": [
    {
     "data": {
      "text/plain": [
       "'gs://calitp-analytics-data/data-analyses/rt_segment_speeds/'"
      ]
     },
     "execution_count": 6,
     "metadata": {},
     "output_type": "execute_result"
    }
   ],
   "source": [
    "SEGMENT_GCS"
   ]
  },
  {
   "cell_type": "code",
   "execution_count": 7,
   "id": "28317d9e-9f9e-493c-889e-78b8099004e5",
   "metadata": {},
   "outputs": [],
   "source": [
    "# speedmap_segs = gpd.read_parquet(f'{SEGMENT_GCS}segment_options/speedmap_segments_{analysis_date}.parquet')` #  non-aggregated"
   ]
  },
  {
   "cell_type": "code",
   "execution_count": 14,
   "id": "9302c0ad-1201-4c5a-8267-ec52719cf777",
   "metadata": {},
   "outputs": [],
   "source": [
    "speedmap_segs = gpd.read_parquet(f'{SEGMENT_GCS}rollup_singleday/speeds_shape_speedmap_segments_{analysis_date}.parquet') #  aggregated"
   ]
  },
  {
   "cell_type": "code",
   "execution_count": 15,
   "id": "19dbeff0-faf6-43e3-9edf-6e68dfeceeac",
   "metadata": {},
   "outputs": [
    {
     "data": {
      "text/plain": [
       "Index(['schedule_gtfs_dataset_key', 'shape_array_key', 'shape_id', 'stop_pair',\n",
       "       'stop_pair_name', 'segment_id', 'time_period', 'p50_mph', 'n_trips',\n",
       "       'p20_mph', 'p80_mph', 'name', 'caltrans_district',\n",
       "       'organization_source_record_id', 'organization_name', 'base64_url',\n",
       "       'geometry'],\n",
       "      dtype='object')"
      ]
     },
     "execution_count": 15,
     "metadata": {},
     "output_type": "execute_result"
    }
   ],
   "source": [
    "speedmap_segs.columns"
   ]
  },
  {
   "cell_type": "code",
   "execution_count": 16,
   "id": "9f3c4c93-a5f5-40d7-9315-63e4fecbd738",
   "metadata": {},
   "outputs": [],
   "source": [
    "# speedmap_segs = speedmap_segs >> filter(_.schedule_gtfs_dataset_key == speedmap_index.schedule_gtfs_dataset_key.iloc[0])"
   ]
  },
  {
   "cell_type": "code",
   "execution_count": 17,
   "id": "776a2f4b-ff98-486f-8431-d7c3de336657",
   "metadata": {},
   "outputs": [],
   "source": [
    "speedmap_segs = speedmap_segs >> filter(_.name.str.contains('Torrance'))"
   ]
  },
  {
   "cell_type": "code",
   "execution_count": 18,
   "id": "33038798-16a0-46b5-a50e-2609c5729534",
   "metadata": {},
   "outputs": [
    {
     "data": {
      "text/html": [
       "<div>\n",
       "<style scoped>\n",
       "    .dataframe tbody tr th:only-of-type {\n",
       "        vertical-align: middle;\n",
       "    }\n",
       "\n",
       "    .dataframe tbody tr th {\n",
       "        vertical-align: top;\n",
       "    }\n",
       "\n",
       "    .dataframe thead th {\n",
       "        text-align: right;\n",
       "    }\n",
       "</style>\n",
       "<table border=\"1\" class=\"dataframe\">\n",
       "  <thead>\n",
       "    <tr style=\"text-align: right;\">\n",
       "      <th></th>\n",
       "      <th>schedule_gtfs_dataset_key</th>\n",
       "      <th>shape_array_key</th>\n",
       "      <th>shape_id</th>\n",
       "      <th>stop_pair</th>\n",
       "      <th>stop_pair_name</th>\n",
       "      <th>segment_id</th>\n",
       "      <th>time_period</th>\n",
       "      <th>p50_mph</th>\n",
       "      <th>n_trips</th>\n",
       "      <th>p20_mph</th>\n",
       "      <th>p80_mph</th>\n",
       "      <th>name</th>\n",
       "      <th>caltrans_district</th>\n",
       "      <th>organization_source_record_id</th>\n",
       "      <th>organization_name</th>\n",
       "      <th>base64_url</th>\n",
       "      <th>geometry</th>\n",
       "    </tr>\n",
       "  </thead>\n",
       "  <tbody>\n",
       "    <tr>\n",
       "      <th>214101</th>\n",
       "      <td>7cb3592df114dab1288176f1410563a1</td>\n",
       "      <td>8d78b7a45c70a6166d8a28940465c713</td>\n",
       "      <td>shp-3-01</td>\n",
       "      <td>870__242</td>\n",
       "      <td>Torrance Bl at Broadway__TORRANCE BL + PACIFIC...</td>\n",
       "      <td>870-242-1</td>\n",
       "      <td>offpeak</td>\n",
       "      <td>3.69</td>\n",
       "      <td>10</td>\n",
       "      <td>1.87</td>\n",
       "      <td>5.91</td>\n",
       "      <td>Torrance Schedule</td>\n",
       "      <td>07 - Los Angeles</td>\n",
       "      <td>recvzE9NXgGMmqcTH</td>\n",
       "      <td>City of Torrance</td>\n",
       "      <td>aHR0cHM6Ly90cmFuc2l0LnRvcnJhbmNlY2EuZ292L2hvbW...</td>\n",
       "      <td>LINESTRING (-118.38611 33.83816, -118.38611 33...</td>\n",
       "    </tr>\n",
       "    <tr>\n",
       "      <th>214102</th>\n",
       "      <td>7cb3592df114dab1288176f1410563a1</td>\n",
       "      <td>8d78b7a45c70a6166d8a28940465c713</td>\n",
       "      <td>shp-3-01</td>\n",
       "      <td>870__242</td>\n",
       "      <td>Torrance Bl at Broadway__TORRANCE BL + PACIFIC...</td>\n",
       "      <td>870-242-1</td>\n",
       "      <td>peak</td>\n",
       "      <td>4.33</td>\n",
       "      <td>14</td>\n",
       "      <td>3.26</td>\n",
       "      <td>7.16</td>\n",
       "      <td>Torrance Schedule</td>\n",
       "      <td>07 - Los Angeles</td>\n",
       "      <td>recvzE9NXgGMmqcTH</td>\n",
       "      <td>City of Torrance</td>\n",
       "      <td>aHR0cHM6Ly90cmFuc2l0LnRvcnJhbmNlY2EuZ292L2hvbW...</td>\n",
       "      <td>LINESTRING (-118.38611 33.83816, -118.38611 33...</td>\n",
       "    </tr>\n",
       "    <tr>\n",
       "      <th>214103</th>\n",
       "      <td>7cb3592df114dab1288176f1410563a1</td>\n",
       "      <td>8d78b7a45c70a6166d8a28940465c713</td>\n",
       "      <td>shp-3-01</td>\n",
       "      <td>870__242</td>\n",
       "      <td>Torrance Bl at Broadway__TORRANCE BL + PACIFIC...</td>\n",
       "      <td>870-242-1</td>\n",
       "      <td>all_day</td>\n",
       "      <td>4.22</td>\n",
       "      <td>24</td>\n",
       "      <td>2.91</td>\n",
       "      <td>7.16</td>\n",
       "      <td>Torrance Schedule</td>\n",
       "      <td>07 - Los Angeles</td>\n",
       "      <td>recvzE9NXgGMmqcTH</td>\n",
       "      <td>City of Torrance</td>\n",
       "      <td>aHR0cHM6Ly90cmFuc2l0LnRvcnJhbmNlY2EuZ292L2hvbW...</td>\n",
       "      <td>LINESTRING (-118.38611 33.83816, -118.38611 33...</td>\n",
       "    </tr>\n",
       "  </tbody>\n",
       "</table>\n",
       "</div>"
      ],
      "text/plain": [
       "               schedule_gtfs_dataset_key                   shape_array_key  \\\n",
       "214101  7cb3592df114dab1288176f1410563a1  8d78b7a45c70a6166d8a28940465c713   \n",
       "214102  7cb3592df114dab1288176f1410563a1  8d78b7a45c70a6166d8a28940465c713   \n",
       "214103  7cb3592df114dab1288176f1410563a1  8d78b7a45c70a6166d8a28940465c713   \n",
       "\n",
       "        shape_id stop_pair                                     stop_pair_name  \\\n",
       "214101  shp-3-01  870__242  Torrance Bl at Broadway__TORRANCE BL + PACIFIC...   \n",
       "214102  shp-3-01  870__242  Torrance Bl at Broadway__TORRANCE BL + PACIFIC...   \n",
       "214103  shp-3-01  870__242  Torrance Bl at Broadway__TORRANCE BL + PACIFIC...   \n",
       "\n",
       "       segment_id time_period  p50_mph  n_trips  p20_mph  p80_mph  \\\n",
       "214101  870-242-1     offpeak     3.69       10     1.87     5.91   \n",
       "214102  870-242-1        peak     4.33       14     3.26     7.16   \n",
       "214103  870-242-1     all_day     4.22       24     2.91     7.16   \n",
       "\n",
       "                     name caltrans_district organization_source_record_id  \\\n",
       "214101  Torrance Schedule  07 - Los Angeles             recvzE9NXgGMmqcTH   \n",
       "214102  Torrance Schedule  07 - Los Angeles             recvzE9NXgGMmqcTH   \n",
       "214103  Torrance Schedule  07 - Los Angeles             recvzE9NXgGMmqcTH   \n",
       "\n",
       "       organization_name                                         base64_url  \\\n",
       "214101  City of Torrance  aHR0cHM6Ly90cmFuc2l0LnRvcnJhbmNlY2EuZ292L2hvbW...   \n",
       "214102  City of Torrance  aHR0cHM6Ly90cmFuc2l0LnRvcnJhbmNlY2EuZ292L2hvbW...   \n",
       "214103  City of Torrance  aHR0cHM6Ly90cmFuc2l0LnRvcnJhbmNlY2EuZ292L2hvbW...   \n",
       "\n",
       "                                                 geometry  \n",
       "214101  LINESTRING (-118.38611 33.83816, -118.38611 33...  \n",
       "214102  LINESTRING (-118.38611 33.83816, -118.38611 33...  \n",
       "214103  LINESTRING (-118.38611 33.83816, -118.38611 33...  "
      ]
     },
     "execution_count": 18,
     "metadata": {},
     "output_type": "execute_result"
    }
   ],
   "source": [
    "speedmap_segs >> head(3)"
   ]
  },
  {
   "cell_type": "code",
   "execution_count": 19,
   "id": "8e89173e-a0ea-4823-bbce-0aa6cdb3f075",
   "metadata": {},
   "outputs": [
    {
     "data": {
      "text/plain": [
       "array(['offpeak', 'peak', 'all_day'], dtype=object)"
      ]
     },
     "execution_count": 19,
     "metadata": {},
     "output_type": "execute_result"
    }
   ],
   "source": [
    "speedmap_segs.time_period.unique()"
   ]
  },
  {
   "cell_type": "code",
   "execution_count": 20,
   "id": "f87584fb-f37d-4869-ba5d-af70a5a0e0e3",
   "metadata": {},
   "outputs": [],
   "source": [
    "peak_test = speedmap_segs >> filter(_.time_period == 'peak')"
   ]
  },
  {
   "cell_type": "code",
   "execution_count": 21,
   "id": "c0080473-a119-45b2-8ebc-9f9913b97ecd",
   "metadata": {},
   "outputs": [],
   "source": [
    "time_periods = [(x, shared_utils.rt_utils.categorize_time_of_day(x)) for x in range(1, 25)]"
   ]
  },
  {
   "cell_type": "code",
   "execution_count": 22,
   "id": "1df01b6f-c29e-4ccc-9b1f-03cda0241bd9",
   "metadata": {},
   "outputs": [
    {
     "data": {
      "text/plain": [
       "[(1, 'Owl'),\n",
       " (2, 'Owl'),\n",
       " (3, 'Owl'),\n",
       " (4, 'Early AM'),\n",
       " (5, 'Early AM'),\n",
       " (6, 'Early AM'),\n",
       " (7, 'AM Peak'),\n",
       " (8, 'AM Peak'),\n",
       " (9, 'AM Peak'),\n",
       " (10, 'Midday'),\n",
       " (11, 'Midday'),\n",
       " (12, 'Midday'),\n",
       " (13, 'Midday'),\n",
       " (14, 'Midday'),\n",
       " (15, 'PM Peak'),\n",
       " (16, 'PM Peak'),\n",
       " (17, 'PM Peak'),\n",
       " (18, 'PM Peak'),\n",
       " (19, 'PM Peak'),\n",
       " (20, 'Evening'),\n",
       " (21, 'Evening'),\n",
       " (22, 'Evening'),\n",
       " (23, 'Evening'),\n",
       " (24, 'Evening')]"
      ]
     },
     "execution_count": 22,
     "metadata": {},
     "output_type": "execute_result"
    }
   ],
   "source": [
    "time_periods"
   ]
  },
  {
   "cell_type": "code",
   "execution_count": 23,
   "id": "590d0196-ab95-47e8-8ce0-e0b93b4da5d4",
   "metadata": {},
   "outputs": [],
   "source": [
    "total_peak = len([x[1] for x in time_periods if 'Peak' in x[1]])"
   ]
  },
  {
   "cell_type": "code",
   "execution_count": 24,
   "id": "c5c469eb-df45-4925-8888-2cc2bfc04cc6",
   "metadata": {},
   "outputs": [
    {
     "data": {
      "text/plain": [
       "8"
      ]
     },
     "execution_count": 24,
     "metadata": {},
     "output_type": "execute_result"
    }
   ],
   "source": [
    "total_peak"
   ]
  },
  {
   "cell_type": "code",
   "execution_count": 25,
   "id": "edc84eda-ce2b-481f-ac78-6b7209cb25f4",
   "metadata": {},
   "outputs": [],
   "source": [
    "def prep_gdf(gdf):\n",
    "    \n",
    "    gdf = gdf.to_crs(calitp_data_analysis.geography_utils.CA_NAD83Albers)\n",
    "    gdf['trips_per_hour'] = gdf.n_trips / total_peak\n",
    "\n",
    "    ## shift to right side of road to display direction\n",
    "    gdf.geometry = gdf.geometry.apply(shared_utils.rt_utils.try_parallel)\n",
    "    gdf = gdf.apply(shared_utils.rt_utils.arrowize_by_frequency, axis=1)\n",
    "\n",
    "    gdf = gdf >> arrange(_.trips_per_hour)\n",
    "\n",
    "    return gdf"
   ]
  },
  {
   "cell_type": "code",
   "execution_count": 26,
   "id": "6af2c7fd-b769-4fbf-bbcf-75080972cc67",
   "metadata": {},
   "outputs": [],
   "source": [
    "peak_test = prep_gdf(peak_test)"
   ]
  },
  {
   "cell_type": "code",
   "execution_count": 27,
   "id": "cedc030e-8d19-4a0b-b3a5-5a3d6c0dce23",
   "metadata": {},
   "outputs": [],
   "source": [
    "cmap = shared_utils.rt_utils.ZERO_THIRTY_COLORSCALE\n",
    "url = shared_utils.rt_utils.SPEEDMAP_LEGEND_URL"
   ]
  },
  {
   "cell_type": "code",
   "execution_count": 28,
   "id": "10a3ff1d-04f8-40b8-ab91-5ef96fde9b6a",
   "metadata": {},
   "outputs": [
    {
     "name": "stdout",
     "output_type": "stream",
     "text": [
      "writing to calitp-map-tiles/testing/testnew5.geojson.gz\n"
     ]
    }
   ],
   "source": [
    "speedmap_state = shared_utils.rt_utils.set_state_export(peak_test, filename='testnew5', map_type='speedmap',\n",
    "                                      color_col='p20_mph', cmap=cmap, legend_url=url,\n",
    "                                              cache_seconds=0, map_title=f'Speedmap Segs {analysis_date}')"
   ]
  },
  {
   "cell_type": "code",
   "execution_count": 29,
   "id": "75f2695e-4b80-4d91-8dce-1fa8e347729b",
   "metadata": {},
   "outputs": [
    {
     "data": {
      "text/plain": [
       "{'state_dict': {'name': 'null',\n",
       "  'layers': [{'name': 'Speedmap Segs 2024-08-14',\n",
       "    'url': 'https://storage.googleapis.com/calitp-map-tiles/testing/testnew5.geojson.gz',\n",
       "    'properties': {'stroked': False,\n",
       "     'highlight_saturation_multiplier': 0.5,\n",
       "     'tooltip_speed_key': 'p20_mph'},\n",
       "    'type': 'speedmap'}],\n",
       "  'lat_lon': (33.85596962015502, -118.31386191576537),\n",
       "  'zoom': 13,\n",
       "  'legend_url': 'https://storage.googleapis.com/calitp-map-tiles/speeds_legend.svg'},\n",
       " 'spa_link': 'https://embeddable-maps.calitp.org/?state=eyJuYW1lIjogIm51bGwiLCAibGF5ZXJzIjogW3sibmFtZSI6ICJTcGVlZG1hcCBTZWdzIDIwMjQtMDgtMTQiLCAidXJsIjogImh0dHBzOi8vc3RvcmFnZS5nb29nbGVhcGlzLmNvbS9jYWxpdHAtbWFwLXRpbGVzL3Rlc3RpbmcvdGVzdG5ldzUuZ2VvanNvbi5neiIsICJwcm9wZXJ0aWVzIjogeyJzdHJva2VkIjogZmFsc2UsICJoaWdobGlnaHRfc2F0dXJhdGlvbl9tdWx0aXBsaWVyIjogMC41LCAidG9vbHRpcF9zcGVlZF9rZXkiOiAicDIwX21waCJ9LCAidHlwZSI6ICJzcGVlZG1hcCJ9XSwgImxhdF9sb24iOiBbMzMuODU1OTY5NjIwMTU1MDIsIC0xMTguMzEzODYxOTE1NzY1MzddLCAiem9vbSI6IDEzLCAibGVnZW5kX3VybCI6ICJodHRwczovL3N0b3JhZ2UuZ29vZ2xlYXBpcy5jb20vY2FsaXRwLW1hcC10aWxlcy9zcGVlZHNfbGVnZW5kLnN2ZyJ9'}"
      ]
     },
     "execution_count": 29,
     "metadata": {},
     "output_type": "execute_result"
    }
   ],
   "source": [
    "speedmap_state"
   ]
  },
  {
   "cell_type": "markdown",
   "id": "2e9ae65e-0ed4-4f00-ac8e-27ac85790804",
   "metadata": {},
   "source": [
    "## TODO replace status with a scan of speedmap segs column?"
   ]
  },
  {
   "cell_type": "code",
   "execution_count": null,
   "id": "88a1bea0-a3ee-4397-b34f-98782b5d0078",
   "metadata": {},
   "outputs": [],
   "source": []
  }
 ],
 "metadata": {
  "kernelspec": {
   "display_name": "Python 3 (ipykernel)",
   "language": "python",
   "name": "python3"
  },
  "language_info": {
   "codemirror_mode": {
    "name": "ipython",
    "version": 3
   },
   "file_extension": ".py",
   "mimetype": "text/x-python",
   "name": "python",
   "nbconvert_exporter": "python",
   "pygments_lexer": "ipython3",
   "version": "3.9.13"
  },
  "widgets": {
   "application/vnd.jupyter.widget-state+json": {
    "state": {},
    "version_major": 2,
    "version_minor": 0
   }
  }
 },
 "nbformat": 4,
 "nbformat_minor": 5
}
