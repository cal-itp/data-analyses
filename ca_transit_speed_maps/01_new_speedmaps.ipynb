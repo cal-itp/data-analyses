{
 "cells": [
  {
   "cell_type": "code",
   "execution_count": 70,
   "id": "46898b5c-b5cc-4096-ab68-8c3e42fab870",
   "metadata": {},
   "outputs": [],
   "source": [
    "%%capture\n",
    "import warnings\n",
    "warnings.filterwarnings('ignore')\n",
    "\n",
    "import calitp_data_analysis.magics\n",
    "\n",
    "from rt_analysis import rt_filter_map_plot\n",
    "import build_speedmaps_index\n",
    "\n",
    "from IPython.display import display, Markdown\n",
    "import pandas as pd\n",
    "import geopandas as gpd\n",
    "from siuba import *\n",
    "\n",
    "import shared_utils\n",
    "import segment_speed_utils"
   ]
  },
  {
   "cell_type": "code",
   "execution_count": 71,
   "id": "cf3d8814-6f22-4a22-8b03-429ebb63a397",
   "metadata": {},
   "outputs": [],
   "source": [
    "catalog = shared_utils.catalog_utils.get_catalog('gtfs_analytics_data')"
   ]
  },
  {
   "cell_type": "code",
   "execution_count": 72,
   "id": "9f15ed6a-5ab7-4f57-9695-3f762781b74c",
   "metadata": {
    "tags": [
     "parameters"
    ]
   },
   "outputs": [],
   "source": [
    "## parameters cell\n",
    "itp_id = 182"
   ]
  },
  {
   "cell_type": "code",
   "execution_count": 73,
   "id": "a639fd84-29ca-4678-b568-2b1022701e14",
   "metadata": {},
   "outputs": [],
   "source": [
    "analysis_date = build_speedmaps_index.ANALYSIS_DATE\n",
    "import datetime as dt\n",
    "# if itp_id == 293:\n",
    "#     analysis_date = dt.date(2023, 9, 13)"
   ]
  },
  {
   "cell_type": "code",
   "execution_count": 74,
   "id": "eea40f4b-c378-4b70-a80b-bbe79f8441bf",
   "metadata": {
    "tags": []
   },
   "outputs": [],
   "source": [
    "speedmap_index = pd.read_parquet(f'_rt_progress_{analysis_date}.parquet') >> filter(_.organization_itp_id == itp_id)\n",
    "# speedmap_index = pd.read_parquet(f'_rt_progress_{analysis_date}.parquet') >> filter(_.organization_name.str.contains('Torr'))"
   ]
  },
  {
   "cell_type": "code",
   "execution_count": 75,
   "id": "c54b78fd-de92-45d9-b54d-49c5b88945c7",
   "metadata": {},
   "outputs": [
    {
     "data": {
      "text/html": [
       "<div>\n",
       "<style scoped>\n",
       "    .dataframe tbody tr th:only-of-type {\n",
       "        vertical-align: middle;\n",
       "    }\n",
       "\n",
       "    .dataframe tbody tr th {\n",
       "        vertical-align: top;\n",
       "    }\n",
       "\n",
       "    .dataframe thead th {\n",
       "        text-align: right;\n",
       "    }\n",
       "</style>\n",
       "<table border=\"1\" class=\"dataframe\">\n",
       "  <thead>\n",
       "    <tr style=\"text-align: right;\">\n",
       "      <th></th>\n",
       "      <th>organization_name</th>\n",
       "      <th>organization_itp_id</th>\n",
       "      <th>organization_source_record_id</th>\n",
       "      <th>caltrans_district</th>\n",
       "      <th>_is_current</th>\n",
       "      <th>analysis_date</th>\n",
       "      <th>schedule_gtfs_dataset_key</th>\n",
       "      <th>status</th>\n",
       "    </tr>\n",
       "  </thead>\n",
       "  <tbody>\n",
       "    <tr>\n",
       "      <th>42</th>\n",
       "      <td>Los Angeles County Metropolitan Transportation...</td>\n",
       "      <td>182</td>\n",
       "      <td>recPnGkwdpnr8jmHB</td>\n",
       "      <td>07 - Los Angeles</td>\n",
       "      <td>True</td>\n",
       "      <td>2024-10-16</td>\n",
       "      <td>0666caf3ec1ecc96b74f4477ee4bc939</td>\n",
       "      <td>speedmap_segs_available</td>\n",
       "    </tr>\n",
       "  </tbody>\n",
       "</table>\n",
       "</div>"
      ],
      "text/plain": [
       "                                    organization_name  organization_itp_id  \\\n",
       "42  Los Angeles County Metropolitan Transportation...                  182   \n",
       "\n",
       "   organization_source_record_id caltrans_district  _is_current analysis_date  \\\n",
       "42             recPnGkwdpnr8jmHB  07 - Los Angeles         True    2024-10-16   \n",
       "\n",
       "           schedule_gtfs_dataset_key                   status  \n",
       "42  0666caf3ec1ecc96b74f4477ee4bc939  speedmap_segs_available  "
      ]
     },
     "execution_count": 75,
     "metadata": {},
     "output_type": "execute_result"
    }
   ],
   "source": [
    "speedmap_index"
   ]
  },
  {
   "cell_type": "code",
   "execution_count": 76,
   "id": "1b9762c8-0235-4d8f-b7a4-20a3213eb45e",
   "metadata": {},
   "outputs": [],
   "source": [
    "path = f'{catalog.speedmap_segments.dir}{catalog.speedmap_segments.shape_stop_single_segment_detail}_{analysis_date}.parquet'"
   ]
  },
  {
   "cell_type": "code",
   "execution_count": 77,
   "id": "9302c0ad-1201-4c5a-8267-ec52719cf777",
   "metadata": {},
   "outputs": [],
   "source": [
    "speedmap_segs = gpd.read_parquet(path) #  aggregated"
   ]
  },
  {
   "cell_type": "code",
   "execution_count": 78,
   "id": "19dbeff0-faf6-43e3-9edf-6e68dfeceeac",
   "metadata": {},
   "outputs": [],
   "source": [
    "# speedmap_segs.columns"
   ]
  },
  {
   "cell_type": "code",
   "execution_count": 79,
   "id": "9f3c4c93-a5f5-40d7-9315-63e4fecbd738",
   "metadata": {},
   "outputs": [],
   "source": [
    "speedmap_segs = speedmap_segs >> filter(_.schedule_gtfs_dataset_key == speedmap_index.schedule_gtfs_dataset_key.iloc[0])"
   ]
  },
  {
   "cell_type": "code",
   "execution_count": 80,
   "id": "e35e835e-9041-4735-917b-2517532e6166",
   "metadata": {},
   "outputs": [
    {
     "data": {
      "text/html": [
       "<div>\n",
       "<style scoped>\n",
       "    .dataframe tbody tr th:only-of-type {\n",
       "        vertical-align: middle;\n",
       "    }\n",
       "\n",
       "    .dataframe tbody tr th {\n",
       "        vertical-align: top;\n",
       "    }\n",
       "\n",
       "    .dataframe thead th {\n",
       "        text-align: right;\n",
       "    }\n",
       "</style>\n",
       "<table border=\"1\" class=\"dataframe\">\n",
       "  <thead>\n",
       "    <tr style=\"text-align: right;\">\n",
       "      <th></th>\n",
       "      <th>schedule_gtfs_dataset_key</th>\n",
       "      <th>shape_array_key</th>\n",
       "      <th>shape_id</th>\n",
       "      <th>route_id</th>\n",
       "      <th>direction_id</th>\n",
       "      <th>stop_pair</th>\n",
       "      <th>stop_pair_name</th>\n",
       "      <th>segment_id</th>\n",
       "      <th>time_of_day</th>\n",
       "      <th>p50_mph</th>\n",
       "      <th>...</th>\n",
       "      <th>p80_mph</th>\n",
       "      <th>name</th>\n",
       "      <th>caltrans_district</th>\n",
       "      <th>organization_source_record_id</th>\n",
       "      <th>organization_name</th>\n",
       "      <th>base64_url</th>\n",
       "      <th>geometry</th>\n",
       "      <th>n_trips_sch</th>\n",
       "      <th>trips_hr_sch</th>\n",
       "      <th>route_short_name</th>\n",
       "    </tr>\n",
       "  </thead>\n",
       "  <tbody>\n",
       "    <tr>\n",
       "      <th>5265</th>\n",
       "      <td>0666caf3ec1ecc96b74f4477ee4bc939</td>\n",
       "      <td>1d801329ec1c7b1da3460ede3c0fe8bc</td>\n",
       "      <td>1200106_JUNE24</td>\n",
       "      <td>120-13183</td>\n",
       "      <td>1.0</td>\n",
       "      <td>16644__14345</td>\n",
       "      <td>Whittwood Center__Santa Gertrudes / Starbuck</td>\n",
       "      <td>16644-14345-1</td>\n",
       "      <td>AM Peak</td>\n",
       "      <td>14.49</td>\n",
       "      <td>...</td>\n",
       "      <td>16.38</td>\n",
       "      <td>LA Metro Bus Schedule</td>\n",
       "      <td>07 - Los Angeles</td>\n",
       "      <td>recPnGkwdpnr8jmHB</td>\n",
       "      <td>Los Angeles County Metropolitan Transportation...</td>\n",
       "      <td>aHR0cHM6Ly9naXRsYWIuY29tL0xBQ01UQS9ndGZzX2J1cy...</td>\n",
       "      <td>LINESTRING (-117.99579 33.94440, -117.99579 33...</td>\n",
       "      <td>4</td>\n",
       "      <td>1.333333</td>\n",
       "      <td>120</td>\n",
       "    </tr>\n",
       "    <tr>\n",
       "      <th>5266</th>\n",
       "      <td>0666caf3ec1ecc96b74f4477ee4bc939</td>\n",
       "      <td>1d801329ec1c7b1da3460ede3c0fe8bc</td>\n",
       "      <td>1200106_JUNE24</td>\n",
       "      <td>120-13183</td>\n",
       "      <td>1.0</td>\n",
       "      <td>14345__14346</td>\n",
       "      <td>Santa Gertrudes / Starbuck__Santa Gertrudes / ...</td>\n",
       "      <td>14345-14346-1</td>\n",
       "      <td>AM Peak</td>\n",
       "      <td>26.67</td>\n",
       "      <td>...</td>\n",
       "      <td>28.96</td>\n",
       "      <td>LA Metro Bus Schedule</td>\n",
       "      <td>07 - Los Angeles</td>\n",
       "      <td>recPnGkwdpnr8jmHB</td>\n",
       "      <td>Los Angeles County Metropolitan Transportation...</td>\n",
       "      <td>aHR0cHM6Ly9naXRsYWIuY29tL0xBQ01UQS9ndGZzX2J1cy...</td>\n",
       "      <td>LINESTRING (-117.99307 33.93974, -117.99307 33...</td>\n",
       "      <td>4</td>\n",
       "      <td>1.333333</td>\n",
       "      <td>120</td>\n",
       "    </tr>\n",
       "    <tr>\n",
       "      <th>5267</th>\n",
       "      <td>0666caf3ec1ecc96b74f4477ee4bc939</td>\n",
       "      <td>1d801329ec1c7b1da3460ede3c0fe8bc</td>\n",
       "      <td>1200106_JUNE24</td>\n",
       "      <td>120-13183</td>\n",
       "      <td>1.0</td>\n",
       "      <td>14346__14344</td>\n",
       "      <td>Santa Gertrudes / Yermo__Santa Gertrudes / Lef...</td>\n",
       "      <td>14346-14344-1</td>\n",
       "      <td>AM Peak</td>\n",
       "      <td>11.10</td>\n",
       "      <td>...</td>\n",
       "      <td>16.04</td>\n",
       "      <td>LA Metro Bus Schedule</td>\n",
       "      <td>07 - Los Angeles</td>\n",
       "      <td>recPnGkwdpnr8jmHB</td>\n",
       "      <td>Los Angeles County Metropolitan Transportation...</td>\n",
       "      <td>aHR0cHM6Ly9naXRsYWIuY29tL0xBQ01UQS9ndGZzX2J1cy...</td>\n",
       "      <td>LINESTRING (-117.99308 33.93630, -117.99308 33...</td>\n",
       "      <td>4</td>\n",
       "      <td>1.333333</td>\n",
       "      <td>120</td>\n",
       "    </tr>\n",
       "  </tbody>\n",
       "</table>\n",
       "<p>3 rows × 22 columns</p>\n",
       "</div>"
      ],
      "text/plain": [
       "             schedule_gtfs_dataset_key                   shape_array_key  \\\n",
       "5265  0666caf3ec1ecc96b74f4477ee4bc939  1d801329ec1c7b1da3460ede3c0fe8bc   \n",
       "5266  0666caf3ec1ecc96b74f4477ee4bc939  1d801329ec1c7b1da3460ede3c0fe8bc   \n",
       "5267  0666caf3ec1ecc96b74f4477ee4bc939  1d801329ec1c7b1da3460ede3c0fe8bc   \n",
       "\n",
       "            shape_id   route_id  direction_id     stop_pair  \\\n",
       "5265  1200106_JUNE24  120-13183           1.0  16644__14345   \n",
       "5266  1200106_JUNE24  120-13183           1.0  14345__14346   \n",
       "5267  1200106_JUNE24  120-13183           1.0  14346__14344   \n",
       "\n",
       "                                         stop_pair_name     segment_id  \\\n",
       "5265       Whittwood Center__Santa Gertrudes / Starbuck  16644-14345-1   \n",
       "5266  Santa Gertrudes / Starbuck__Santa Gertrudes / ...  14345-14346-1   \n",
       "5267  Santa Gertrudes / Yermo__Santa Gertrudes / Lef...  14346-14344-1   \n",
       "\n",
       "     time_of_day  p50_mph  ...  p80_mph                   name  \\\n",
       "5265     AM Peak    14.49  ...    16.38  LA Metro Bus Schedule   \n",
       "5266     AM Peak    26.67  ...    28.96  LA Metro Bus Schedule   \n",
       "5267     AM Peak    11.10  ...    16.04  LA Metro Bus Schedule   \n",
       "\n",
       "      caltrans_district organization_source_record_id  \\\n",
       "5265   07 - Los Angeles             recPnGkwdpnr8jmHB   \n",
       "5266   07 - Los Angeles             recPnGkwdpnr8jmHB   \n",
       "5267   07 - Los Angeles             recPnGkwdpnr8jmHB   \n",
       "\n",
       "                                      organization_name  \\\n",
       "5265  Los Angeles County Metropolitan Transportation...   \n",
       "5266  Los Angeles County Metropolitan Transportation...   \n",
       "5267  Los Angeles County Metropolitan Transportation...   \n",
       "\n",
       "                                             base64_url  \\\n",
       "5265  aHR0cHM6Ly9naXRsYWIuY29tL0xBQ01UQS9ndGZzX2J1cy...   \n",
       "5266  aHR0cHM6Ly9naXRsYWIuY29tL0xBQ01UQS9ndGZzX2J1cy...   \n",
       "5267  aHR0cHM6Ly9naXRsYWIuY29tL0xBQ01UQS9ndGZzX2J1cy...   \n",
       "\n",
       "                                               geometry n_trips_sch  \\\n",
       "5265  LINESTRING (-117.99579 33.94440, -117.99579 33...           4   \n",
       "5266  LINESTRING (-117.99307 33.93974, -117.99307 33...           4   \n",
       "5267  LINESTRING (-117.99308 33.93630, -117.99308 33...           4   \n",
       "\n",
       "     trips_hr_sch  route_short_name  \n",
       "5265     1.333333               120  \n",
       "5266     1.333333               120  \n",
       "5267     1.333333               120  \n",
       "\n",
       "[3 rows x 22 columns]"
      ]
     },
     "execution_count": 80,
     "metadata": {},
     "output_type": "execute_result"
    }
   ],
   "source": [
    "speedmap_segs >> head(3)"
   ]
  },
  {
   "cell_type": "code",
   "execution_count": 81,
   "id": "f87584fb-f37d-4869-ba5d-af70a5a0e0e3",
   "metadata": {},
   "outputs": [],
   "source": [
    "peak_test = speedmap_segs >> filter(_.time_of_day == 'AM Peak')"
   ]
  },
  {
   "cell_type": "code",
   "execution_count": 82,
   "id": "edc84eda-ce2b-481f-ac78-6b7209cb25f4",
   "metadata": {},
   "outputs": [],
   "source": [
    "def prep_gdf(gdf):\n",
    "    \n",
    "    gdf = gdf.to_crs(calitp_data_analysis.geography_utils.CA_NAD83Albers)\n",
    "\n",
    "    ## shift to right side of road to display direction\n",
    "    gdf.geometry = gdf.geometry.apply(shared_utils.rt_utils.try_parallel)\n",
    "    gdf = gdf.apply(shared_utils.rt_utils.arrowize_by_frequency, axis=1, frequency_col='trips_hr_sch')\n",
    "\n",
    "    gdf = gdf >> arrange(_.trips_hr_sch)\n",
    "\n",
    "    return gdf"
   ]
  },
  {
   "cell_type": "code",
   "execution_count": null,
   "id": "6af2c7fd-b769-4fbf-bbcf-75080972cc67",
   "metadata": {},
   "outputs": [],
   "source": [
    "peak_test = prep_gdf(peak_test)"
   ]
  },
  {
   "cell_type": "code",
   "execution_count": null,
   "id": "cedc030e-8d19-4a0b-b3a5-5a3d6c0dce23",
   "metadata": {},
   "outputs": [],
   "source": [
    "cmap = shared_utils.rt_utils.ACCESS_ZERO_THIRTY_COLORSCALE\n",
    "url = shared_utils.rt_utils.ACCESS_SPEEDMAP_LEGEND_URL"
   ]
  },
  {
   "cell_type": "code",
   "execution_count": null,
   "id": "87c7db4f-3da9-4ba4-915b-88432a841b39",
   "metadata": {},
   "outputs": [],
   "source": [
    "peak_test >> head(2)"
   ]
  },
  {
   "cell_type": "code",
   "execution_count": null,
   "id": "e7c32718-4eb2-4c2b-aba0-cca397aaabf3",
   "metadata": {},
   "outputs": [],
   "source": [
    "peak_test.columns"
   ]
  },
  {
   "cell_type": "markdown",
   "id": "4e4c26e4-afca-48e1-b9fc-53393858a414",
   "metadata": {},
   "source": [
    "## export map"
   ]
  },
  {
   "cell_type": "code",
   "execution_count": null,
   "id": "10a3ff1d-04f8-40b8-ab91-5ef96fde9b6a",
   "metadata": {},
   "outputs": [],
   "source": [
    "speedmap_state = shared_utils.rt_utils.set_state_export(\n",
    "                                    peak_test, filename=f'{itp_id}_new', map_type='speedmap',\n",
    "                                    color_col='p20_mph', cmap=cmap, legend_url=url,\n",
    "                                    cache_seconds=0, map_title=f'Speedmap Segs {time_of_day} {analysis_date}')"
   ]
  },
  {
   "cell_type": "code",
   "execution_count": null,
   "id": "75f2695e-4b80-4d91-8dce-1fa8e347729b",
   "metadata": {},
   "outputs": [],
   "source": [
    "speedmap_state"
   ]
  },
  {
   "cell_type": "markdown",
   "id": "6ff8e431-c4e5-4048-8c72-9ac5a5edeb79",
   "metadata": {},
   "source": [
    "## other test"
   ]
  },
  {
   "cell_type": "code",
   "execution_count": 60,
   "id": "02ffc2b6-9b8f-456b-ae33-85e7eea79df5",
   "metadata": {},
   "outputs": [],
   "source": [
    "time_of_day = 'PM Peak'"
   ]
  },
  {
   "cell_type": "code",
   "execution_count": 61,
   "id": "2f44c03e-c7cc-4e49-8da4-be653d4c3546",
   "metadata": {},
   "outputs": [],
   "source": [
    "period_speeds = speedmap_segs >> filter(_.time_of_day == time_of_day)"
   ]
  },
  {
   "cell_type": "code",
   "execution_count": 62,
   "id": "53a9f9cc-38d8-44d3-b7a6-a33fca62d32b",
   "metadata": {},
   "outputs": [],
   "source": [
    "period_test = prep_gdf(period_speeds)"
   ]
  },
  {
   "cell_type": "code",
   "execution_count": 63,
   "id": "d483e182-b36c-487e-a194-7a9e48d5b32f",
   "metadata": {},
   "outputs": [],
   "source": [
    "time_of_day_lower = time_of_day.lower().replace(' ', '_')"
   ]
  },
  {
   "cell_type": "code",
   "execution_count": 65,
   "id": "51e108ee-19f5-4266-8848-fb5ac57f5108",
   "metadata": {},
   "outputs": [
    {
     "name": "stdout",
     "output_type": "stream",
     "text": [
      "writing to calitp-map-tiles/testing/182_pm_peak_new.geojson.gz\n"
     ]
    }
   ],
   "source": [
    "speedmap_state = shared_utils.rt_utils.set_state_export(\n",
    "                                    period_test, filename=f'{itp_id}_{time_of_day_lower}_new', map_type='speedmap',\n",
    "                                    color_col='p20_mph', cmap=cmap, legend_url=url,\n",
    "                                    cache_seconds=0, map_title=f'Speedmap Segs {time_of_day} {analysis_date}')"
   ]
  },
  {
   "cell_type": "code",
   "execution_count": 66,
   "id": "360aee2f-9076-4c7d-9843-0f7959489f5c",
   "metadata": {},
   "outputs": [
    {
     "data": {
      "text/plain": [
       "{'state_dict': {'name': 'null',\n",
       "  'layers': [{'name': 'Speedmap Segs PM Peak 2024-10-16',\n",
       "    'url': 'https://storage.googleapis.com/calitp-map-tiles/testing/182_pm_peak_new.geojson.gz',\n",
       "    'properties': {'stroked': False,\n",
       "     'highlight_saturation_multiplier': 0.5,\n",
       "     'tooltip_speed_key': 'p20_mph'},\n",
       "    'type': 'speedmap'}],\n",
       "  'lat_lon': (34.04804074656423, -118.29635317134563),\n",
       "  'zoom': 13,\n",
       "  'legend_url': 'https://storage.googleapis.com/calitp-map-tiles/speeds_legend_color_access.svg'},\n",
       " 'spa_link': 'https://embeddable-maps.calitp.org/?state=eyJuYW1lIjogIm51bGwiLCAibGF5ZXJzIjogW3sibmFtZSI6ICJTcGVlZG1hcCBTZWdzIFBNIFBlYWsgMjAyNC0xMC0xNiIsICJ1cmwiOiAiaHR0cHM6Ly9zdG9yYWdlLmdvb2dsZWFwaXMuY29tL2NhbGl0cC1tYXAtdGlsZXMvdGVzdGluZy8xODJfcG1fcGVha19uZXcuZ2VvanNvbi5neiIsICJwcm9wZXJ0aWVzIjogeyJzdHJva2VkIjogZmFsc2UsICJoaWdobGlnaHRfc2F0dXJhdGlvbl9tdWx0aXBsaWVyIjogMC41LCAidG9vbHRpcF9zcGVlZF9rZXkiOiAicDIwX21waCJ9LCAidHlwZSI6ICJzcGVlZG1hcCJ9XSwgImxhdF9sb24iOiBbMzQuMDQ4MDQwNzQ2NTY0MjMsIC0xMTguMjk2MzUzMTcxMzQ1NjNdLCAiem9vbSI6IDEzLCAibGVnZW5kX3VybCI6ICJodHRwczovL3N0b3JhZ2UuZ29vZ2xlYXBpcy5jb20vY2FsaXRwLW1hcC10aWxlcy9zcGVlZHNfbGVnZW5kX2NvbG9yX2FjY2Vzcy5zdmcifQ=='}"
      ]
     },
     "execution_count": 66,
     "metadata": {},
     "output_type": "execute_result"
    }
   ],
   "source": [
    "speedmap_state"
   ]
  }
 ],
 "metadata": {
  "kernelspec": {
   "display_name": "Python 3 (ipykernel)",
   "language": "python",
   "name": "python3"
  },
  "language_info": {
   "codemirror_mode": {
    "name": "ipython",
    "version": 3
   },
   "file_extension": ".py",
   "mimetype": "text/x-python",
   "name": "python",
   "nbconvert_exporter": "python",
   "pygments_lexer": "ipython3",
   "version": "3.9.13"
  },
  "widgets": {
   "application/vnd.jupyter.widget-state+json": {
    "state": {},
    "version_major": 2,
    "version_minor": 0
   }
  }
 },
 "nbformat": 4,
 "nbformat_minor": 5
}
