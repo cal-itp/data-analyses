{
 "cells": [
  {
   "cell_type": "code",
   "execution_count": 1,
   "id": "46898b5c-b5cc-4096-ab68-8c3e42fab870",
   "metadata": {},
   "outputs": [],
   "source": [
    "%%capture\n",
    "import warnings\n",
    "warnings.filterwarnings('ignore')\n",
    "\n",
    "import calitp_data_analysis.magics\n",
    "\n",
    "from rt_analysis import rt_filter_map_plot\n",
    "import build_speedmaps_index\n",
    "\n",
    "from IPython.display import display, Markdown\n",
    "import pandas as pd\n",
    "import geopandas as gpd\n",
    "from siuba import *\n",
    "\n",
    "import shared_utils\n",
    "import segment_speed_utils"
   ]
  },
  {
   "cell_type": "code",
   "execution_count": 2,
   "id": "cf3d8814-6f22-4a22-8b03-429ebb63a397",
   "metadata": {},
   "outputs": [],
   "source": [
    "catalog = shared_utils.catalog_utils.get_catalog('gtfs_analytics_data')"
   ]
  },
  {
   "cell_type": "code",
   "execution_count": 3,
   "id": "9f15ed6a-5ab7-4f57-9695-3f762781b74c",
   "metadata": {
    "tags": [
     "parameters"
    ]
   },
   "outputs": [],
   "source": [
    "## parameters cell\n",
    "itp_id = 182"
   ]
  },
  {
   "cell_type": "code",
   "execution_count": 4,
   "id": "a639fd84-29ca-4678-b568-2b1022701e14",
   "metadata": {},
   "outputs": [],
   "source": [
    "analysis_date = build_speedmaps_index.ANALYSIS_DATE\n",
    "import datetime as dt"
   ]
  },
  {
   "cell_type": "code",
   "execution_count": 5,
   "id": "eea40f4b-c378-4b70-a80b-bbe79f8441bf",
   "metadata": {
    "tags": []
   },
   "outputs": [],
   "source": [
    "speedmap_index = pd.read_parquet(f'_rt_progress_{analysis_date}.parquet') >> filter(_.organization_itp_id == itp_id)"
   ]
  },
  {
   "cell_type": "code",
   "execution_count": 6,
   "id": "1b9762c8-0235-4d8f-b7a4-20a3213eb45e",
   "metadata": {},
   "outputs": [],
   "source": [
    "path = f'{catalog.speedmap_segments.dir}{catalog.speedmap_segments.shape_stop_single_segment_detail}_{analysis_date}.parquet'"
   ]
  },
  {
   "cell_type": "code",
   "execution_count": 7,
   "id": "9302c0ad-1201-4c5a-8267-ec52719cf777",
   "metadata": {},
   "outputs": [],
   "source": [
    "speedmap_segs = gpd.read_parquet(path) #  aggregated"
   ]
  },
  {
   "cell_type": "code",
   "execution_count": 8,
   "id": "9f3c4c93-a5f5-40d7-9315-63e4fecbd738",
   "metadata": {},
   "outputs": [],
   "source": [
    "speedmap_segs = speedmap_segs >> filter(_.schedule_gtfs_dataset_key == speedmap_index.schedule_gtfs_dataset_key.iloc[0])"
   ]
  },
  {
   "cell_type": "code",
   "execution_count": 9,
   "id": "edc84eda-ce2b-481f-ac78-6b7209cb25f4",
   "metadata": {},
   "outputs": [],
   "source": [
    "#  TODO to utils\n",
    "def time_period_and_arrowize(gdf, time_period):\n",
    "    \n",
    "    gdf = gdf >> filter(_.time_of_day == time_period)\n",
    "    gdf = gdf.to_crs(calitp_data_analysis.geography_utils.CA_NAD83Albers)\n",
    "\n",
    "    ## shift to right side of road to display direction\n",
    "    gdf.geometry = gdf.geometry.apply(shared_utils.rt_utils.try_parallel)\n",
    "    gdf = gdf.apply(shared_utils.rt_utils.arrowize_by_frequency, axis=1, frequency_col='trips_hr_sch')\n",
    "\n",
    "    gdf = gdf >> arrange(_.trips_hr_sch)\n",
    "\n",
    "    return gdf"
   ]
  },
  {
   "cell_type": "code",
   "execution_count": 10,
   "id": "6af2c7fd-b769-4fbf-bbcf-75080972cc67",
   "metadata": {},
   "outputs": [],
   "source": [
    "peak_test = time_period_and_arrowize(speedmap_segs, 'AM Peak')"
   ]
  },
  {
   "cell_type": "code",
   "execution_count": 11,
   "id": "cedc030e-8d19-4a0b-b3a5-5a3d6c0dce23",
   "metadata": {},
   "outputs": [],
   "source": [
    "cmap = shared_utils.rt_utils.ACCESS_ZERO_THIRTY_COLORSCALE\n",
    "url = shared_utils.rt_utils.ACCESS_SPEEDMAP_LEGEND_URL"
   ]
  },
  {
   "cell_type": "code",
   "execution_count": 12,
   "id": "87c7db4f-3da9-4ba4-915b-88432a841b39",
   "metadata": {},
   "outputs": [
    {
     "data": {
      "text/html": [
       "<div>\n",
       "<style scoped>\n",
       "    .dataframe tbody tr th:only-of-type {\n",
       "        vertical-align: middle;\n",
       "    }\n",
       "\n",
       "    .dataframe tbody tr th {\n",
       "        vertical-align: top;\n",
       "    }\n",
       "\n",
       "    .dataframe thead th {\n",
       "        text-align: right;\n",
       "    }\n",
       "</style>\n",
       "<table border=\"1\" class=\"dataframe\">\n",
       "  <thead>\n",
       "    <tr style=\"text-align: right;\">\n",
       "      <th></th>\n",
       "      <th>schedule_gtfs_dataset_key</th>\n",
       "      <th>shape_array_key</th>\n",
       "      <th>shape_id</th>\n",
       "      <th>route_id</th>\n",
       "      <th>direction_id</th>\n",
       "      <th>stop_pair</th>\n",
       "      <th>stop_pair_name</th>\n",
       "      <th>segment_id</th>\n",
       "      <th>time_of_day</th>\n",
       "      <th>p50_mph</th>\n",
       "      <th>...</th>\n",
       "      <th>p80_mph</th>\n",
       "      <th>name</th>\n",
       "      <th>caltrans_district</th>\n",
       "      <th>organization_source_record_id</th>\n",
       "      <th>organization_name</th>\n",
       "      <th>base64_url</th>\n",
       "      <th>geometry</th>\n",
       "      <th>n_trips_sch</th>\n",
       "      <th>trips_hr_sch</th>\n",
       "      <th>route_short_name</th>\n",
       "    </tr>\n",
       "  </thead>\n",
       "  <tbody>\n",
       "    <tr>\n",
       "      <th>10501</th>\n",
       "      <td>0666caf3ec1ecc96b74f4477ee4bc939</td>\n",
       "      <td>fedc605c108af558e4e545806741ea0f</td>\n",
       "      <td>510358_JUNE24</td>\n",
       "      <td>51-13183</td>\n",
       "      <td>0.0</td>\n",
       "      <td>283__8824</td>\n",
       "      <td>Avalon / Imperial__Avalon / 111th</td>\n",
       "      <td>283-8824-1</td>\n",
       "      <td>AM Peak</td>\n",
       "      <td>12.34</td>\n",
       "      <td>...</td>\n",
       "      <td>12.34</td>\n",
       "      <td>LA Metro Bus Schedule</td>\n",
       "      <td>07 - Los Angeles</td>\n",
       "      <td>recPnGkwdpnr8jmHB</td>\n",
       "      <td>Los Angeles County Metropolitan Transportation...</td>\n",
       "      <td>aHR0cHM6Ly9naXRsYWIuY29tL0xBQ01UQS9ndGZzX2J1cy...</td>\n",
       "      <td>POLYGON ((160449.331 -452365.708, 160434.047 -...</td>\n",
       "      <td>1</td>\n",
       "      <td>0.333333</td>\n",
       "      <td>51</td>\n",
       "    </tr>\n",
       "    <tr>\n",
       "      <th>10502</th>\n",
       "      <td>0666caf3ec1ecc96b74f4477ee4bc939</td>\n",
       "      <td>fedc605c108af558e4e545806741ea0f</td>\n",
       "      <td>510358_JUNE24</td>\n",
       "      <td>51-13183</td>\n",
       "      <td>0.0</td>\n",
       "      <td>8824__8823</td>\n",
       "      <td>Avalon / 111th__Avalon / 110th</td>\n",
       "      <td>8824-8823-1</td>\n",
       "      <td>AM Peak</td>\n",
       "      <td>14.66</td>\n",
       "      <td>...</td>\n",
       "      <td>14.66</td>\n",
       "      <td>LA Metro Bus Schedule</td>\n",
       "      <td>07 - Los Angeles</td>\n",
       "      <td>recPnGkwdpnr8jmHB</td>\n",
       "      <td>Los Angeles County Metropolitan Transportation...</td>\n",
       "      <td>aHR0cHM6Ly9naXRsYWIuY29tL0xBQ01UQS9ndGZzX2J1cy...</td>\n",
       "      <td>POLYGON ((160443.819 -452040.084, 160428.472 -...</td>\n",
       "      <td>1</td>\n",
       "      <td>0.333333</td>\n",
       "      <td>51</td>\n",
       "    </tr>\n",
       "  </tbody>\n",
       "</table>\n",
       "<p>2 rows × 22 columns</p>\n",
       "</div>"
      ],
      "text/plain": [
       "              schedule_gtfs_dataset_key                   shape_array_key  \\\n",
       "10501  0666caf3ec1ecc96b74f4477ee4bc939  fedc605c108af558e4e545806741ea0f   \n",
       "10502  0666caf3ec1ecc96b74f4477ee4bc939  fedc605c108af558e4e545806741ea0f   \n",
       "\n",
       "            shape_id  route_id  direction_id   stop_pair  \\\n",
       "10501  510358_JUNE24  51-13183           0.0   283__8824   \n",
       "10502  510358_JUNE24  51-13183           0.0  8824__8823   \n",
       "\n",
       "                          stop_pair_name   segment_id time_of_day  p50_mph  \\\n",
       "10501  Avalon / Imperial__Avalon / 111th   283-8824-1     AM Peak    12.34   \n",
       "10502     Avalon / 111th__Avalon / 110th  8824-8823-1     AM Peak    14.66   \n",
       "\n",
       "       ...  p80_mph                   name  caltrans_district  \\\n",
       "10501  ...    12.34  LA Metro Bus Schedule   07 - Los Angeles   \n",
       "10502  ...    14.66  LA Metro Bus Schedule   07 - Los Angeles   \n",
       "\n",
       "      organization_source_record_id  \\\n",
       "10501             recPnGkwdpnr8jmHB   \n",
       "10502             recPnGkwdpnr8jmHB   \n",
       "\n",
       "                                       organization_name  \\\n",
       "10501  Los Angeles County Metropolitan Transportation...   \n",
       "10502  Los Angeles County Metropolitan Transportation...   \n",
       "\n",
       "                                              base64_url  \\\n",
       "10501  aHR0cHM6Ly9naXRsYWIuY29tL0xBQ01UQS9ndGZzX2J1cy...   \n",
       "10502  aHR0cHM6Ly9naXRsYWIuY29tL0xBQ01UQS9ndGZzX2J1cy...   \n",
       "\n",
       "                                                geometry n_trips_sch  \\\n",
       "10501  POLYGON ((160449.331 -452365.708, 160434.047 -...           1   \n",
       "10502  POLYGON ((160443.819 -452040.084, 160428.472 -...           1   \n",
       "\n",
       "      trips_hr_sch  route_short_name  \n",
       "10501     0.333333                51  \n",
       "10502     0.333333                51  \n",
       "\n",
       "[2 rows x 22 columns]"
      ]
     },
     "execution_count": 12,
     "metadata": {},
     "output_type": "execute_result"
    }
   ],
   "source": [
    "peak_test >> head(2)"
   ]
  },
  {
   "cell_type": "markdown",
   "id": "4e4c26e4-afca-48e1-b9fc-53393858a414",
   "metadata": {},
   "source": [
    "## export map"
   ]
  },
  {
   "cell_type": "code",
   "execution_count": 63,
   "id": "d483e182-b36c-487e-a194-7a9e48d5b32f",
   "metadata": {},
   "outputs": [],
   "source": [
    "time_of_day_lower = time_of_day.lower().replace(' ', '_')"
   ]
  },
  {
   "cell_type": "code",
   "execution_count": 65,
   "id": "51e108ee-19f5-4266-8848-fb5ac57f5108",
   "metadata": {},
   "outputs": [
    {
     "name": "stdout",
     "output_type": "stream",
     "text": [
      "writing to calitp-map-tiles/testing/182_pm_peak_new.geojson.gz\n"
     ]
    }
   ],
   "source": [
    "#  TODO clone render method from RtFilterMapper, to utils\n",
    "speedmap_state = shared_utils.rt_utils.set_state_export(\n",
    "                                    period_test, filename=f'{itp_id}_{time_of_day_lower}_new', map_type='speedmap',\n",
    "                                    color_col='p20_mph', cmap=cmap, legend_url=url,\n",
    "                                    cache_seconds=0, map_title=f'Speedmap Segs {time_of_day} {analysis_date}')"
   ]
  },
  {
   "cell_type": "code",
   "execution_count": 88,
   "id": "75f2695e-4b80-4d91-8dce-1fa8e347729b",
   "metadata": {},
   "outputs": [
    {
     "data": {
      "text/plain": [
       "{'state_dict': {'name': 'null',\n",
       "  'layers': [{'name': 'Speedmap Segs PM Peak 2024-10-16',\n",
       "    'url': 'https://storage.googleapis.com/calitp-map-tiles/testing/182_new.geojson.gz',\n",
       "    'properties': {'stroked': False,\n",
       "     'highlight_saturation_multiplier': 0.5,\n",
       "     'tooltip_speed_key': 'p20_mph'},\n",
       "    'type': 'speedmap'}],\n",
       "  'lat_lon': (34.0539357609537, -118.29997523003668),\n",
       "  'zoom': 13,\n",
       "  'legend_url': 'https://storage.googleapis.com/calitp-map-tiles/speeds_legend_color_access.svg'},\n",
       " 'spa_link': 'https://embeddable-maps.calitp.org/?state=eyJuYW1lIjogIm51bGwiLCAibGF5ZXJzIjogW3sibmFtZSI6ICJTcGVlZG1hcCBTZWdzIFBNIFBlYWsgMjAyNC0xMC0xNiIsICJ1cmwiOiAiaHR0cHM6Ly9zdG9yYWdlLmdvb2dsZWFwaXMuY29tL2NhbGl0cC1tYXAtdGlsZXMvdGVzdGluZy8xODJfbmV3Lmdlb2pzb24uZ3oiLCAicHJvcGVydGllcyI6IHsic3Ryb2tlZCI6IGZhbHNlLCAiaGlnaGxpZ2h0X3NhdHVyYXRpb25fbXVsdGlwbGllciI6IDAuNSwgInRvb2x0aXBfc3BlZWRfa2V5IjogInAyMF9tcGgifSwgInR5cGUiOiAic3BlZWRtYXAifV0sICJsYXRfbG9uIjogWzM0LjA1MzkzNTc2MDk1MzcsIC0xMTguMjk5OTc1MjMwMDM2NjhdLCAiem9vbSI6IDEzLCAibGVnZW5kX3VybCI6ICJodHRwczovL3N0b3JhZ2UuZ29vZ2xlYXBpcy5jb20vY2FsaXRwLW1hcC10aWxlcy9zcGVlZHNfbGVnZW5kX2NvbG9yX2FjY2Vzcy5zdmcifQ=='}"
      ]
     },
     "execution_count": 88,
     "metadata": {},
     "output_type": "execute_result"
    }
   ],
   "source": [
    "speedmap_state"
   ]
  },
  {
   "cell_type": "code",
   "execution_count": null,
   "id": "737ad30b-cf8b-403a-ba37-4a77e00cfff1",
   "metadata": {},
   "outputs": [],
   "source": [
    "## TODO get a better chart -- p20 - 50 - 80 seg speed?\n",
    "# try:\n",
    "#     rt_day.set_filter(start_time='06:00', end_time='22:00')\n",
    "#     display(Markdown(f'Median Trip Speed by Hour of Day{rt_day.filter_formatted}'))\n",
    "\n",
    "#     rt_day.chart_speeds(no_title=True);\n",
    "# except:\n",
    "#     display(Markdown(f'Chart not available for this agency'))\n",
    "#     pass"
   ]
  }
 ],
 "metadata": {
  "kernelspec": {
   "display_name": "Python 3 (ipykernel)",
   "language": "python",
   "name": "python3"
  },
  "language_info": {
   "codemirror_mode": {
    "name": "ipython",
    "version": 3
   },
   "file_extension": ".py",
   "mimetype": "text/x-python",
   "name": "python",
   "nbconvert_exporter": "python",
   "pygments_lexer": "ipython3",
   "version": "3.9.13"
  },
  "widgets": {
   "application/vnd.jupyter.widget-state+json": {
    "state": {},
    "version_major": 2,
    "version_minor": 0
   }
  }
 },
 "nbformat": 4,
 "nbformat_minor": 5
}
