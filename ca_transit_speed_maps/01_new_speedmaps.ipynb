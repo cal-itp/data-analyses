{
 "cells": [
  {
   "cell_type": "code",
   "execution_count": 20,
   "id": "46898b5c-b5cc-4096-ab68-8c3e42fab870",
   "metadata": {},
   "outputs": [],
   "source": [
    "%%capture\n",
    "import warnings\n",
    "warnings.filterwarnings('ignore')\n",
    "\n",
    "import calitp_data_analysis.magics\n",
    "\n",
    "from rt_analysis import rt_filter_map_plot\n",
    "import build_speedmaps_index\n",
    "\n",
    "from IPython.display import display, Markdown\n",
    "import pandas as pd\n",
    "import geopandas as gpd\n",
    "from siuba import *\n",
    "\n",
    "import shared_utils"
   ]
  },
  {
   "cell_type": "code",
   "execution_count": 2,
   "id": "cf3d8814-6f22-4a22-8b03-429ebb63a397",
   "metadata": {},
   "outputs": [],
   "source": [
    "catalog = shared_utils.catalog_utils.get_catalog('gtfs_analytics_data')"
   ]
  },
  {
   "cell_type": "code",
   "execution_count": 3,
   "id": "9f15ed6a-5ab7-4f57-9695-3f762781b74c",
   "metadata": {
    "tags": [
     "parameters"
    ]
   },
   "outputs": [],
   "source": [
    "## parameters cell\n",
    "itp_id = 4"
   ]
  },
  {
   "cell_type": "code",
   "execution_count": 11,
   "id": "a639fd84-29ca-4678-b568-2b1022701e14",
   "metadata": {},
   "outputs": [],
   "source": [
    "analysis_date = build_speedmaps_index.ANALYSIS_DATE\n",
    "import datetime as dt\n",
    "# if itp_id == 293:\n",
    "#     analysis_date = dt.date(2023, 9, 13)"
   ]
  },
  {
   "cell_type": "code",
   "execution_count": 12,
   "id": "eea40f4b-c378-4b70-a80b-bbe79f8441bf",
   "metadata": {
    "tags": []
   },
   "outputs": [],
   "source": [
    "speedmap_index = pd.read_parquet(f'_rt_progress_{analysis_date}.parquet') >> filter(_.organization_itp_id == itp_id)\n",
    "# speedmap_index = pd.read_parquet(f'_rt_progress_{analysis_date}.parquet') >> filter(_.organization_name.str.contains('Torr'))"
   ]
  },
  {
   "cell_type": "code",
   "execution_count": 17,
   "id": "c54b78fd-de92-45d9-b54d-49c5b88945c7",
   "metadata": {},
   "outputs": [
    {
     "data": {
      "text/html": [
       "<div>\n",
       "<style scoped>\n",
       "    .dataframe tbody tr th:only-of-type {\n",
       "        vertical-align: middle;\n",
       "    }\n",
       "\n",
       "    .dataframe tbody tr th {\n",
       "        vertical-align: top;\n",
       "    }\n",
       "\n",
       "    .dataframe thead th {\n",
       "        text-align: right;\n",
       "    }\n",
       "</style>\n",
       "<table border=\"1\" class=\"dataframe\">\n",
       "  <thead>\n",
       "    <tr style=\"text-align: right;\">\n",
       "      <th></th>\n",
       "      <th>organization_name</th>\n",
       "      <th>organization_itp_id</th>\n",
       "      <th>organization_source_record_id</th>\n",
       "      <th>caltrans_district</th>\n",
       "      <th>_is_current</th>\n",
       "      <th>analysis_date</th>\n",
       "      <th>schedule_gtfs_dataset_key</th>\n",
       "      <th>status</th>\n",
       "    </tr>\n",
       "  </thead>\n",
       "  <tbody>\n",
       "    <tr>\n",
       "      <th>96</th>\n",
       "      <td>Alameda-Contra Costa Transit District</td>\n",
       "      <td>4</td>\n",
       "      <td>recOZgevYf7Jimm9L</td>\n",
       "      <td>04 - Oakland</td>\n",
       "      <td>True</td>\n",
       "      <td>2024-10-16</td>\n",
       "      <td>c499f905e33929a641f083dad55c521e</td>\n",
       "      <td>speedmap_segs_available</td>\n",
       "    </tr>\n",
       "  </tbody>\n",
       "</table>\n",
       "</div>"
      ],
      "text/plain": [
       "                        organization_name  organization_itp_id  \\\n",
       "96  Alameda-Contra Costa Transit District                    4   \n",
       "\n",
       "   organization_source_record_id caltrans_district  _is_current analysis_date  \\\n",
       "96             recOZgevYf7Jimm9L      04 - Oakland         True    2024-10-16   \n",
       "\n",
       "           schedule_gtfs_dataset_key                   status  \n",
       "96  c499f905e33929a641f083dad55c521e  speedmap_segs_available  "
      ]
     },
     "execution_count": 17,
     "metadata": {},
     "output_type": "execute_result"
    }
   ],
   "source": [
    "speedmap_index"
   ]
  },
  {
   "cell_type": "code",
   "execution_count": 19,
   "id": "1b9762c8-0235-4d8f-b7a4-20a3213eb45e",
   "metadata": {},
   "outputs": [],
   "source": [
    "path = f'{catalog.speedmap_segments.dir}{catalog.speedmap_segments.shape_stop_single_segment_detail}_{analysis_date}.parquet'"
   ]
  },
  {
   "cell_type": "code",
   "execution_count": 21,
   "id": "9302c0ad-1201-4c5a-8267-ec52719cf777",
   "metadata": {},
   "outputs": [],
   "source": [
    "speedmap_segs = gpd.read_parquet(path) #  aggregated"
   ]
  },
  {
   "cell_type": "code",
   "execution_count": 22,
   "id": "19dbeff0-faf6-43e3-9edf-6e68dfeceeac",
   "metadata": {},
   "outputs": [
    {
     "data": {
      "text/plain": [
       "Index(['schedule_gtfs_dataset_key', 'shape_array_key', 'shape_id', 'route_id',\n",
       "       'route_short_name', 'stop_pair', 'stop_pair_name', 'segment_id',\n",
       "       'time_of_day', 'p50_mph', 'n_trips', 'p20_mph', 'p80_mph', 'name',\n",
       "       'caltrans_district', 'organization_source_record_id',\n",
       "       'organization_name', 'base64_url', 'geometry'],\n",
       "      dtype='object')"
      ]
     },
     "execution_count": 22,
     "metadata": {},
     "output_type": "execute_result"
    }
   ],
   "source": [
    "speedmap_segs.columns"
   ]
  },
  {
   "cell_type": "code",
   "execution_count": 23,
   "id": "9f3c4c93-a5f5-40d7-9315-63e4fecbd738",
   "metadata": {},
   "outputs": [],
   "source": [
    "speedmap_segs = speedmap_segs >> filter(_.schedule_gtfs_dataset_key == speedmap_index.schedule_gtfs_dataset_key.iloc[0])"
   ]
  },
  {
   "cell_type": "code",
   "execution_count": 24,
   "id": "33038798-16a0-46b5-a50e-2609c5729534",
   "metadata": {},
   "outputs": [
    {
     "data": {
      "text/html": [
       "<div>\n",
       "<style scoped>\n",
       "    .dataframe tbody tr th:only-of-type {\n",
       "        vertical-align: middle;\n",
       "    }\n",
       "\n",
       "    .dataframe tbody tr th {\n",
       "        vertical-align: top;\n",
       "    }\n",
       "\n",
       "    .dataframe thead th {\n",
       "        text-align: right;\n",
       "    }\n",
       "</style>\n",
       "<table border=\"1\" class=\"dataframe\">\n",
       "  <thead>\n",
       "    <tr style=\"text-align: right;\">\n",
       "      <th></th>\n",
       "      <th>schedule_gtfs_dataset_key</th>\n",
       "      <th>shape_array_key</th>\n",
       "      <th>shape_id</th>\n",
       "      <th>route_id</th>\n",
       "      <th>route_short_name</th>\n",
       "      <th>stop_pair</th>\n",
       "      <th>stop_pair_name</th>\n",
       "      <th>segment_id</th>\n",
       "      <th>time_of_day</th>\n",
       "      <th>p50_mph</th>\n",
       "      <th>n_trips</th>\n",
       "      <th>p20_mph</th>\n",
       "      <th>p80_mph</th>\n",
       "      <th>name</th>\n",
       "      <th>caltrans_district</th>\n",
       "      <th>organization_source_record_id</th>\n",
       "      <th>organization_name</th>\n",
       "      <th>base64_url</th>\n",
       "      <th>geometry</th>\n",
       "    </tr>\n",
       "  </thead>\n",
       "  <tbody>\n",
       "    <tr>\n",
       "      <th>526507</th>\n",
       "      <td>c499f905e33929a641f083dad55c521e</td>\n",
       "      <td>f59dce41f6c4e6cf0b9dbfc1a29095f1</td>\n",
       "      <td>shp-7-53</td>\n",
       "      <td>7</td>\n",
       "      <td>7</td>\n",
       "      <td>53019__53372</td>\n",
       "      <td>San Pablo Av &amp; Wall Av__San Pablo Av &amp; Conlon Av</td>\n",
       "      <td>53019-53372-1</td>\n",
       "      <td>AM Peak</td>\n",
       "      <td>5.80</td>\n",
       "      <td>1</td>\n",
       "      <td>5.80</td>\n",
       "      <td>5.80</td>\n",
       "      <td>Bay Area 511 AC Transit Schedule</td>\n",
       "      <td>04 - Oakland</td>\n",
       "      <td>recOZgevYf7Jimm9L</td>\n",
       "      <td>Alameda-Contra Costa Transit District</td>\n",
       "      <td>aHR0cHM6Ly9hcGkuNTExLm9yZy90cmFuc2l0L2RhdGFmZW...</td>\n",
       "      <td>LINESTRING (-122.32022 37.92809, -122.32036 37...</td>\n",
       "    </tr>\n",
       "    <tr>\n",
       "      <th>526508</th>\n",
       "      <td>c499f905e33929a641f083dad55c521e</td>\n",
       "      <td>f59dce41f6c4e6cf0b9dbfc1a29095f1</td>\n",
       "      <td>shp-7-53</td>\n",
       "      <td>7</td>\n",
       "      <td>7</td>\n",
       "      <td>53019__53372</td>\n",
       "      <td>San Pablo Av &amp; Wall Av__San Pablo Av &amp; Conlon Av</td>\n",
       "      <td>53019-53372-1</td>\n",
       "      <td>Early AM</td>\n",
       "      <td>22.14</td>\n",
       "      <td>1</td>\n",
       "      <td>22.14</td>\n",
       "      <td>22.14</td>\n",
       "      <td>Bay Area 511 AC Transit Schedule</td>\n",
       "      <td>04 - Oakland</td>\n",
       "      <td>recOZgevYf7Jimm9L</td>\n",
       "      <td>Alameda-Contra Costa Transit District</td>\n",
       "      <td>aHR0cHM6Ly9hcGkuNTExLm9yZy90cmFuc2l0L2RhdGFmZW...</td>\n",
       "      <td>LINESTRING (-122.32022 37.92809, -122.32036 37...</td>\n",
       "    </tr>\n",
       "    <tr>\n",
       "      <th>526509</th>\n",
       "      <td>c499f905e33929a641f083dad55c521e</td>\n",
       "      <td>f59dce41f6c4e6cf0b9dbfc1a29095f1</td>\n",
       "      <td>shp-7-53</td>\n",
       "      <td>7</td>\n",
       "      <td>7</td>\n",
       "      <td>53019__53372</td>\n",
       "      <td>San Pablo Av &amp; Wall Av__San Pablo Av &amp; Conlon Av</td>\n",
       "      <td>53019-53372-1</td>\n",
       "      <td>Evening</td>\n",
       "      <td>22.18</td>\n",
       "      <td>4</td>\n",
       "      <td>16.06</td>\n",
       "      <td>23.19</td>\n",
       "      <td>Bay Area 511 AC Transit Schedule</td>\n",
       "      <td>04 - Oakland</td>\n",
       "      <td>recOZgevYf7Jimm9L</td>\n",
       "      <td>Alameda-Contra Costa Transit District</td>\n",
       "      <td>aHR0cHM6Ly9hcGkuNTExLm9yZy90cmFuc2l0L2RhdGFmZW...</td>\n",
       "      <td>LINESTRING (-122.32022 37.92809, -122.32036 37...</td>\n",
       "    </tr>\n",
       "  </tbody>\n",
       "</table>\n",
       "</div>"
      ],
      "text/plain": [
       "               schedule_gtfs_dataset_key                   shape_array_key  \\\n",
       "526507  c499f905e33929a641f083dad55c521e  f59dce41f6c4e6cf0b9dbfc1a29095f1   \n",
       "526508  c499f905e33929a641f083dad55c521e  f59dce41f6c4e6cf0b9dbfc1a29095f1   \n",
       "526509  c499f905e33929a641f083dad55c521e  f59dce41f6c4e6cf0b9dbfc1a29095f1   \n",
       "\n",
       "        shape_id route_id route_short_name     stop_pair  \\\n",
       "526507  shp-7-53        7                7  53019__53372   \n",
       "526508  shp-7-53        7                7  53019__53372   \n",
       "526509  shp-7-53        7                7  53019__53372   \n",
       "\n",
       "                                          stop_pair_name     segment_id  \\\n",
       "526507  San Pablo Av & Wall Av__San Pablo Av & Conlon Av  53019-53372-1   \n",
       "526508  San Pablo Av & Wall Av__San Pablo Av & Conlon Av  53019-53372-1   \n",
       "526509  San Pablo Av & Wall Av__San Pablo Av & Conlon Av  53019-53372-1   \n",
       "\n",
       "       time_of_day  p50_mph  n_trips  p20_mph  p80_mph  \\\n",
       "526507     AM Peak     5.80        1     5.80     5.80   \n",
       "526508    Early AM    22.14        1    22.14    22.14   \n",
       "526509     Evening    22.18        4    16.06    23.19   \n",
       "\n",
       "                                    name caltrans_district  \\\n",
       "526507  Bay Area 511 AC Transit Schedule      04 - Oakland   \n",
       "526508  Bay Area 511 AC Transit Schedule      04 - Oakland   \n",
       "526509  Bay Area 511 AC Transit Schedule      04 - Oakland   \n",
       "\n",
       "       organization_source_record_id                      organization_name  \\\n",
       "526507             recOZgevYf7Jimm9L  Alameda-Contra Costa Transit District   \n",
       "526508             recOZgevYf7Jimm9L  Alameda-Contra Costa Transit District   \n",
       "526509             recOZgevYf7Jimm9L  Alameda-Contra Costa Transit District   \n",
       "\n",
       "                                               base64_url  \\\n",
       "526507  aHR0cHM6Ly9hcGkuNTExLm9yZy90cmFuc2l0L2RhdGFmZW...   \n",
       "526508  aHR0cHM6Ly9hcGkuNTExLm9yZy90cmFuc2l0L2RhdGFmZW...   \n",
       "526509  aHR0cHM6Ly9hcGkuNTExLm9yZy90cmFuc2l0L2RhdGFmZW...   \n",
       "\n",
       "                                                 geometry  \n",
       "526507  LINESTRING (-122.32022 37.92809, -122.32036 37...  \n",
       "526508  LINESTRING (-122.32022 37.92809, -122.32036 37...  \n",
       "526509  LINESTRING (-122.32022 37.92809, -122.32036 37...  "
      ]
     },
     "execution_count": 24,
     "metadata": {},
     "output_type": "execute_result"
    }
   ],
   "source": [
    "speedmap_segs >> head(3)"
   ]
  },
  {
   "cell_type": "code",
   "execution_count": 25,
   "id": "8e89173e-a0ea-4823-bbce-0aa6cdb3f075",
   "metadata": {},
   "outputs": [
    {
     "data": {
      "text/plain": [
       "array(['AM Peak', 'Early AM', 'Evening', 'Midday', 'PM Peak', 'Owl'],\n",
       "      dtype=object)"
      ]
     },
     "execution_count": 25,
     "metadata": {},
     "output_type": "execute_result"
    }
   ],
   "source": [
    "speedmap_segs.time_of_day.unique()"
   ]
  },
  {
   "cell_type": "code",
   "execution_count": 26,
   "id": "f87584fb-f37d-4869-ba5d-af70a5a0e0e3",
   "metadata": {},
   "outputs": [],
   "source": [
    "peak_test = speedmap_segs >> filter(_.time_of_day == 'AM Peak')"
   ]
  },
  {
   "cell_type": "code",
   "execution_count": 27,
   "id": "c0080473-a119-45b2-8ebc-9f9913b97ecd",
   "metadata": {},
   "outputs": [],
   "source": [
    "time_periods = [(x, shared_utils.rt_utils.categorize_time_of_day(x)) for x in range(1, 25)]"
   ]
  },
  {
   "cell_type": "code",
   "execution_count": 28,
   "id": "1df01b6f-c29e-4ccc-9b1f-03cda0241bd9",
   "metadata": {},
   "outputs": [
    {
     "data": {
      "text/plain": [
       "[(1, 'Owl'),\n",
       " (2, 'Owl'),\n",
       " (3, 'Owl'),\n",
       " (4, 'Early AM'),\n",
       " (5, 'Early AM'),\n",
       " (6, 'Early AM'),\n",
       " (7, 'AM Peak'),\n",
       " (8, 'AM Peak'),\n",
       " (9, 'AM Peak'),\n",
       " (10, 'Midday'),\n",
       " (11, 'Midday'),\n",
       " (12, 'Midday'),\n",
       " (13, 'Midday'),\n",
       " (14, 'Midday'),\n",
       " (15, 'PM Peak'),\n",
       " (16, 'PM Peak'),\n",
       " (17, 'PM Peak'),\n",
       " (18, 'PM Peak'),\n",
       " (19, 'PM Peak'),\n",
       " (20, 'Evening'),\n",
       " (21, 'Evening'),\n",
       " (22, 'Evening'),\n",
       " (23, 'Evening'),\n",
       " (24, 'Evening')]"
      ]
     },
     "execution_count": 28,
     "metadata": {},
     "output_type": "execute_result"
    }
   ],
   "source": [
    "time_periods"
   ]
  },
  {
   "cell_type": "code",
   "execution_count": 31,
   "id": "590d0196-ab95-47e8-8ce0-e0b93b4da5d4",
   "metadata": {},
   "outputs": [],
   "source": [
    "am_peak_hrs = len([x[1] for x in time_periods if 'AM Peak' in x[1]])"
   ]
  },
  {
   "cell_type": "code",
   "execution_count": 32,
   "id": "c5c469eb-df45-4925-8888-2cc2bfc04cc6",
   "metadata": {},
   "outputs": [
    {
     "data": {
      "text/plain": [
       "3"
      ]
     },
     "execution_count": 32,
     "metadata": {},
     "output_type": "execute_result"
    }
   ],
   "source": [
    "am_peak_hrs"
   ]
  },
  {
   "cell_type": "code",
   "execution_count": 33,
   "id": "edc84eda-ce2b-481f-ac78-6b7209cb25f4",
   "metadata": {},
   "outputs": [],
   "source": [
    "def prep_gdf(gdf, hrs):\n",
    "    \n",
    "    gdf = gdf.to_crs(calitp_data_analysis.geography_utils.CA_NAD83Albers)\n",
    "    gdf['trips_per_hour'] = gdf.n_trips / hrs\n",
    "\n",
    "    ## shift to right side of road to display direction\n",
    "    gdf.geometry = gdf.geometry.apply(shared_utils.rt_utils.try_parallel)\n",
    "    gdf = gdf.apply(shared_utils.rt_utils.arrowize_by_frequency, axis=1)\n",
    "\n",
    "    gdf = gdf >> arrange(_.trips_per_hour)\n",
    "\n",
    "    return gdf"
   ]
  },
  {
   "cell_type": "code",
   "execution_count": 34,
   "id": "6af2c7fd-b769-4fbf-bbcf-75080972cc67",
   "metadata": {},
   "outputs": [],
   "source": [
    "peak_test = prep_gdf(peak_test, am_peak_hrs)"
   ]
  },
  {
   "cell_type": "code",
   "execution_count": 60,
   "id": "cedc030e-8d19-4a0b-b3a5-5a3d6c0dce23",
   "metadata": {},
   "outputs": [],
   "source": [
    "cmap = shared_utils.rt_utils.ACCESS_ZERO_THIRTY_COLORSCALE\n",
    "url = shared_utils.rt_utils.ACCESS_SPEEDMAP_LEGEND_URL"
   ]
  },
  {
   "cell_type": "markdown",
   "id": "2e9ae65e-0ed4-4f00-ac8e-27ac85790804",
   "metadata": {},
   "source": [
    "##  adding identifiers for map display"
   ]
  },
  {
   "cell_type": "code",
   "execution_count": 36,
   "id": "87c7db4f-3da9-4ba4-915b-88432a841b39",
   "metadata": {},
   "outputs": [
    {
     "data": {
      "text/html": [
       "<div>\n",
       "<style scoped>\n",
       "    .dataframe tbody tr th:only-of-type {\n",
       "        vertical-align: middle;\n",
       "    }\n",
       "\n",
       "    .dataframe tbody tr th {\n",
       "        vertical-align: top;\n",
       "    }\n",
       "\n",
       "    .dataframe thead th {\n",
       "        text-align: right;\n",
       "    }\n",
       "</style>\n",
       "<table border=\"1\" class=\"dataframe\">\n",
       "  <thead>\n",
       "    <tr style=\"text-align: right;\">\n",
       "      <th></th>\n",
       "      <th>schedule_gtfs_dataset_key</th>\n",
       "      <th>shape_array_key</th>\n",
       "      <th>shape_id</th>\n",
       "      <th>route_id</th>\n",
       "      <th>route_short_name</th>\n",
       "      <th>stop_pair</th>\n",
       "      <th>stop_pair_name</th>\n",
       "      <th>segment_id</th>\n",
       "      <th>time_of_day</th>\n",
       "      <th>p50_mph</th>\n",
       "      <th>n_trips</th>\n",
       "      <th>p20_mph</th>\n",
       "      <th>p80_mph</th>\n",
       "      <th>name</th>\n",
       "      <th>caltrans_district</th>\n",
       "      <th>organization_source_record_id</th>\n",
       "      <th>organization_name</th>\n",
       "      <th>base64_url</th>\n",
       "      <th>geometry</th>\n",
       "      <th>trips_per_hour</th>\n",
       "    </tr>\n",
       "  </thead>\n",
       "  <tbody>\n",
       "    <tr>\n",
       "      <th>526507</th>\n",
       "      <td>c499f905e33929a641f083dad55c521e</td>\n",
       "      <td>f59dce41f6c4e6cf0b9dbfc1a29095f1</td>\n",
       "      <td>shp-7-53</td>\n",
       "      <td>7</td>\n",
       "      <td>7</td>\n",
       "      <td>53019__53372</td>\n",
       "      <td>San Pablo Av &amp; Wall Av__San Pablo Av &amp; Conlon Av</td>\n",
       "      <td>53019-53372-1</td>\n",
       "      <td>AM Peak</td>\n",
       "      <td>5.80</td>\n",
       "      <td>1</td>\n",
       "      <td>5.80</td>\n",
       "      <td>5.80</td>\n",
       "      <td>Bay Area 511 AC Transit Schedule</td>\n",
       "      <td>04 - Oakland</td>\n",
       "      <td>recOZgevYf7Jimm9L</td>\n",
       "      <td>Alameda-Contra Costa Transit District</td>\n",
       "      <td>aHR0cHM6Ly9hcGkuNTExLm9yZy90cmFuc2l0L2RhdGFmZW...</td>\n",
       "      <td>POLYGON ((-203712.125 -7192.575, -203734.516 -...</td>\n",
       "      <td>0.333333</td>\n",
       "    </tr>\n",
       "    <tr>\n",
       "      <th>527527</th>\n",
       "      <td>c499f905e33929a641f083dad55c521e</td>\n",
       "      <td>261a73dd824eab6a8fb3616a320d00e0</td>\n",
       "      <td>shp-62-01</td>\n",
       "      <td>62</td>\n",
       "      <td>62</td>\n",
       "      <td>50553__57505</td>\n",
       "      <td>23rd Av &amp; Foothill Blvd (Garfield School)__23r...</td>\n",
       "      <td>50553-57505-1</td>\n",
       "      <td>AM Peak</td>\n",
       "      <td>13.48</td>\n",
       "      <td>1</td>\n",
       "      <td>13.48</td>\n",
       "      <td>13.48</td>\n",
       "      <td>Bay Area 511 AC Transit Schedule</td>\n",
       "      <td>04 - Oakland</td>\n",
       "      <td>recOZgevYf7Jimm9L</td>\n",
       "      <td>Alameda-Contra Costa Transit District</td>\n",
       "      <td>aHR0cHM6Ly9hcGkuNTExLm9yZy90cmFuc2l0L2RhdGFmZW...</td>\n",
       "      <td>POLYGON ((-196613.695 -23524.639, -196614.785 ...</td>\n",
       "      <td>0.333333</td>\n",
       "    </tr>\n",
       "  </tbody>\n",
       "</table>\n",
       "</div>"
      ],
      "text/plain": [
       "               schedule_gtfs_dataset_key                   shape_array_key  \\\n",
       "526507  c499f905e33929a641f083dad55c521e  f59dce41f6c4e6cf0b9dbfc1a29095f1   \n",
       "527527  c499f905e33929a641f083dad55c521e  261a73dd824eab6a8fb3616a320d00e0   \n",
       "\n",
       "         shape_id route_id route_short_name     stop_pair  \\\n",
       "526507   shp-7-53        7                7  53019__53372   \n",
       "527527  shp-62-01       62               62  50553__57505   \n",
       "\n",
       "                                           stop_pair_name     segment_id  \\\n",
       "526507   San Pablo Av & Wall Av__San Pablo Av & Conlon Av  53019-53372-1   \n",
       "527527  23rd Av & Foothill Blvd (Garfield School)__23r...  50553-57505-1   \n",
       "\n",
       "       time_of_day  p50_mph  n_trips  p20_mph  p80_mph  \\\n",
       "526507     AM Peak     5.80        1     5.80     5.80   \n",
       "527527     AM Peak    13.48        1    13.48    13.48   \n",
       "\n",
       "                                    name caltrans_district  \\\n",
       "526507  Bay Area 511 AC Transit Schedule      04 - Oakland   \n",
       "527527  Bay Area 511 AC Transit Schedule      04 - Oakland   \n",
       "\n",
       "       organization_source_record_id                      organization_name  \\\n",
       "526507             recOZgevYf7Jimm9L  Alameda-Contra Costa Transit District   \n",
       "527527             recOZgevYf7Jimm9L  Alameda-Contra Costa Transit District   \n",
       "\n",
       "                                               base64_url  \\\n",
       "526507  aHR0cHM6Ly9hcGkuNTExLm9yZy90cmFuc2l0L2RhdGFmZW...   \n",
       "527527  aHR0cHM6Ly9hcGkuNTExLm9yZy90cmFuc2l0L2RhdGFmZW...   \n",
       "\n",
       "                                                 geometry  trips_per_hour  \n",
       "526507  POLYGON ((-203712.125 -7192.575, -203734.516 -...        0.333333  \n",
       "527527  POLYGON ((-196613.695 -23524.639, -196614.785 ...        0.333333  "
      ]
     },
     "execution_count": 36,
     "metadata": {},
     "output_type": "execute_result"
    }
   ],
   "source": [
    "peak_test >> head(2)"
   ]
  },
  {
   "cell_type": "markdown",
   "id": "21725c98-e8cf-47bb-a880-09e67d25f0fe",
   "metadata": {},
   "source": [
    "##  to-do\n",
    "\n",
    "* where does new n_trips come from? should be schedule-based for speedmaps applications...\n",
    "* split am/pm peak\n",
    "* https://github.com/cal-itp/data-analyses/issues/1218 upstream add route identifiers"
   ]
  },
  {
   "cell_type": "code",
   "execution_count": 37,
   "id": "e7c32718-4eb2-4c2b-aba0-cca397aaabf3",
   "metadata": {},
   "outputs": [
    {
     "data": {
      "text/plain": [
       "Index(['schedule_gtfs_dataset_key', 'shape_array_key', 'shape_id', 'route_id',\n",
       "       'route_short_name', 'stop_pair', 'stop_pair_name', 'segment_id',\n",
       "       'time_of_day', 'p50_mph', 'n_trips', 'p20_mph', 'p80_mph', 'name',\n",
       "       'caltrans_district', 'organization_source_record_id',\n",
       "       'organization_name', 'base64_url', 'geometry', 'trips_per_hour'],\n",
       "      dtype='object')"
      ]
     },
     "execution_count": 37,
     "metadata": {},
     "output_type": "execute_result"
    }
   ],
   "source": [
    "peak_test.columns"
   ]
  },
  {
   "cell_type": "markdown",
   "id": "4e4c26e4-afca-48e1-b9fc-53393858a414",
   "metadata": {},
   "source": [
    "## export map"
   ]
  },
  {
   "cell_type": "code",
   "execution_count": 38,
   "id": "10a3ff1d-04f8-40b8-ab91-5ef96fde9b6a",
   "metadata": {},
   "outputs": [
    {
     "name": "stdout",
     "output_type": "stream",
     "text": [
      "writing to calitp-map-tiles/testing/4_new.geojson.gz\n"
     ]
    }
   ],
   "source": [
    "speedmap_state = shared_utils.rt_utils.set_state_export(\n",
    "                                    peak_test, filename=f'{itp_id}_new', map_type='speedmap',\n",
    "                                    color_col='p20_mph', cmap=cmap, legend_url=url,\n",
    "                                    cache_seconds=0, map_title=f'Speedmap Segs {analysis_date}')"
   ]
  },
  {
   "cell_type": "code",
   "execution_count": 39,
   "id": "75f2695e-4b80-4d91-8dce-1fa8e347729b",
   "metadata": {},
   "outputs": [
    {
     "data": {
      "text/plain": [
       "{'state_dict': {'name': 'null',\n",
       "  'layers': [{'name': 'Speedmap Segs 2024-10-16',\n",
       "    'url': 'https://storage.googleapis.com/calitp-map-tiles/testing/4_new.geojson.gz',\n",
       "    'properties': {'stroked': False,\n",
       "     'highlight_saturation_multiplier': 0.5,\n",
       "     'tooltip_speed_key': 'p20_mph'},\n",
       "    'type': 'speedmap'}],\n",
       "  'lat_lon': (37.777276879932664, -122.20458759054884),\n",
       "  'zoom': 13,\n",
       "  'legend_url': 'https://storage.googleapis.com/calitp-map-tiles/speeds_legend.svg'},\n",
       " 'spa_link': 'https://embeddable-maps.calitp.org/?state=eyJuYW1lIjogIm51bGwiLCAibGF5ZXJzIjogW3sibmFtZSI6ICJTcGVlZG1hcCBTZWdzIDIwMjQtMTAtMTYiLCAidXJsIjogImh0dHBzOi8vc3RvcmFnZS5nb29nbGVhcGlzLmNvbS9jYWxpdHAtbWFwLXRpbGVzL3Rlc3RpbmcvNF9uZXcuZ2VvanNvbi5neiIsICJwcm9wZXJ0aWVzIjogeyJzdHJva2VkIjogZmFsc2UsICJoaWdobGlnaHRfc2F0dXJhdGlvbl9tdWx0aXBsaWVyIjogMC41LCAidG9vbHRpcF9zcGVlZF9rZXkiOiAicDIwX21waCJ9LCAidHlwZSI6ICJzcGVlZG1hcCJ9XSwgImxhdF9sb24iOiBbMzcuNzc3Mjc2ODc5OTMyNjY0LCAtMTIyLjIwNDU4NzU5MDU0ODg0XSwgInpvb20iOiAxMywgImxlZ2VuZF91cmwiOiAiaHR0cHM6Ly9zdG9yYWdlLmdvb2dsZWFwaXMuY29tL2NhbGl0cC1tYXAtdGlsZXMvc3BlZWRzX2xlZ2VuZC5zdmcifQ=='}"
      ]
     },
     "execution_count": 39,
     "metadata": {},
     "output_type": "execute_result"
    }
   ],
   "source": [
    "speedmap_state"
   ]
  },
  {
   "cell_type": "markdown",
   "id": "6ff8e431-c4e5-4048-8c72-9ac5a5edeb79",
   "metadata": {},
   "source": [
    "## other test"
   ]
  },
  {
   "cell_type": "code",
   "execution_count": 46,
   "id": "02ffc2b6-9b8f-456b-ae33-85e7eea79df5",
   "metadata": {},
   "outputs": [],
   "source": [
    "time_of_day = 'PM Peak'"
   ]
  },
  {
   "cell_type": "code",
   "execution_count": 47,
   "id": "2f44c03e-c7cc-4e49-8da4-be653d4c3546",
   "metadata": {},
   "outputs": [],
   "source": [
    "period_speeds = speedmap_segs >> filter(_.time_of_day == time_of_day)"
   ]
  },
  {
   "cell_type": "code",
   "execution_count": 48,
   "id": "2cbffab5-c927-4a0f-a28f-eb07cf12800f",
   "metadata": {},
   "outputs": [],
   "source": [
    "hrs = len([x[1] for x in time_periods if x[1] == time_of_day])"
   ]
  },
  {
   "cell_type": "code",
   "execution_count": 49,
   "id": "7c0bb82e-3173-4a4f-a6e4-4bfa66a79044",
   "metadata": {},
   "outputs": [
    {
     "data": {
      "text/plain": [
       "5"
      ]
     },
     "execution_count": 49,
     "metadata": {},
     "output_type": "execute_result"
    }
   ],
   "source": [
    "hrs"
   ]
  },
  {
   "cell_type": "code",
   "execution_count": 50,
   "id": "53a9f9cc-38d8-44d3-b7a6-a33fca62d32b",
   "metadata": {},
   "outputs": [],
   "source": [
    "period_test = prep_gdf(period_speeds, hrs)"
   ]
  },
  {
   "cell_type": "code",
   "execution_count": 57,
   "id": "d483e182-b36c-487e-a194-7a9e48d5b32f",
   "metadata": {},
   "outputs": [],
   "source": [
    "time_of_day_lower = time_of_day.lower().replace(' ', '_')"
   ]
  },
  {
   "cell_type": "code",
   "execution_count": 61,
   "id": "51e108ee-19f5-4266-8848-fb5ac57f5108",
   "metadata": {},
   "outputs": [
    {
     "name": "stdout",
     "output_type": "stream",
     "text": [
      "writing to calitp-map-tiles/testing/4_pm_peak_new.geojson.gz\n"
     ]
    }
   ],
   "source": [
    "speedmap_state = shared_utils.rt_utils.set_state_export(\n",
    "                                    period_test, filename=f'{itp_id}_{time_of_day_lower}_new', map_type='speedmap',\n",
    "                                    color_col='p20_mph', cmap=cmap, legend_url=url,\n",
    "                                    cache_seconds=0, map_title=f'Speedmap Segs {time_of_day} {analysis_date}')"
   ]
  },
  {
   "cell_type": "code",
   "execution_count": 62,
   "id": "360aee2f-9076-4c7d-9843-0f7959489f5c",
   "metadata": {},
   "outputs": [
    {
     "data": {
      "text/plain": [
       "{'state_dict': {'name': 'null',\n",
       "  'layers': [{'name': 'Speedmap Segs PM Peak 2024-10-16',\n",
       "    'url': 'https://storage.googleapis.com/calitp-map-tiles/testing/4_pm_peak_new.geojson.gz',\n",
       "    'properties': {'stroked': False,\n",
       "     'highlight_saturation_multiplier': 0.5,\n",
       "     'tooltip_speed_key': 'p20_mph'},\n",
       "    'type': 'speedmap'}],\n",
       "  'lat_lon': (37.771147425687175, -122.19794783624761),\n",
       "  'zoom': 13,\n",
       "  'legend_url': 'https://storage.googleapis.com/calitp-map-tiles/speeds_legend_color_access.svg'},\n",
       " 'spa_link': 'https://embeddable-maps.calitp.org/?state=eyJuYW1lIjogIm51bGwiLCAibGF5ZXJzIjogW3sibmFtZSI6ICJTcGVlZG1hcCBTZWdzIFBNIFBlYWsgMjAyNC0xMC0xNiIsICJ1cmwiOiAiaHR0cHM6Ly9zdG9yYWdlLmdvb2dsZWFwaXMuY29tL2NhbGl0cC1tYXAtdGlsZXMvdGVzdGluZy80X3BtX3BlYWtfbmV3Lmdlb2pzb24uZ3oiLCAicHJvcGVydGllcyI6IHsic3Ryb2tlZCI6IGZhbHNlLCAiaGlnaGxpZ2h0X3NhdHVyYXRpb25fbXVsdGlwbGllciI6IDAuNSwgInRvb2x0aXBfc3BlZWRfa2V5IjogInAyMF9tcGgifSwgInR5cGUiOiAic3BlZWRtYXAifV0sICJsYXRfbG9uIjogWzM3Ljc3MTE0NzQyNTY4NzE3NSwgLTEyMi4xOTc5NDc4MzYyNDc2MV0sICJ6b29tIjogMTMsICJsZWdlbmRfdXJsIjogImh0dHBzOi8vc3RvcmFnZS5nb29nbGVhcGlzLmNvbS9jYWxpdHAtbWFwLXRpbGVzL3NwZWVkc19sZWdlbmRfY29sb3JfYWNjZXNzLnN2ZyJ9'}"
      ]
     },
     "execution_count": 62,
     "metadata": {},
     "output_type": "execute_result"
    }
   ],
   "source": [
    "speedmap_state"
   ]
  },
  {
   "cell_type": "markdown",
   "id": "f29d95b7-3637-4ace-9315-0b1b09478a99",
   "metadata": {},
   "source": [
    "## other test"
   ]
  },
  {
   "cell_type": "code",
   "execution_count": 63,
   "id": "692413b4-6e8c-44c4-b9e2-11c37d5abfe9",
   "metadata": {},
   "outputs": [],
   "source": [
    "time_of_day = 'Evening'"
   ]
  },
  {
   "cell_type": "code",
   "execution_count": 64,
   "id": "45dcb7c0-e527-4741-81df-a110be42dae4",
   "metadata": {},
   "outputs": [],
   "source": [
    "period_speeds = speedmap_segs >> filter(_.time_of_day == time_of_day)"
   ]
  },
  {
   "cell_type": "code",
   "execution_count": 65,
   "id": "08a61b27-8974-4c80-9fe4-a6664e280118",
   "metadata": {},
   "outputs": [],
   "source": [
    "hrs = len([x[1] for x in time_periods if x[1] == time_of_day])"
   ]
  },
  {
   "cell_type": "code",
   "execution_count": 66,
   "id": "3d6e9695-1f1c-40f8-9fd7-6bf35e41d3d2",
   "metadata": {},
   "outputs": [
    {
     "data": {
      "text/plain": [
       "5"
      ]
     },
     "execution_count": 66,
     "metadata": {},
     "output_type": "execute_result"
    }
   ],
   "source": [
    "hrs"
   ]
  },
  {
   "cell_type": "code",
   "execution_count": 67,
   "id": "a13b1253-f9ac-45d1-ba66-525822cafcc5",
   "metadata": {},
   "outputs": [],
   "source": [
    "period_test = prep_gdf(period_speeds, hrs)"
   ]
  },
  {
   "cell_type": "code",
   "execution_count": 68,
   "id": "fa109ab2-3d3c-43a6-8c24-1d0397736128",
   "metadata": {},
   "outputs": [],
   "source": [
    "time_of_day_lower = time_of_day.lower().replace(' ', '_')"
   ]
  },
  {
   "cell_type": "code",
   "execution_count": 69,
   "id": "0908e5fb-cd6a-499e-9052-74238259d941",
   "metadata": {},
   "outputs": [
    {
     "name": "stdout",
     "output_type": "stream",
     "text": [
      "writing to calitp-map-tiles/testing/4_evening_new.geojson.gz\n"
     ]
    }
   ],
   "source": [
    "speedmap_state = shared_utils.rt_utils.set_state_export(\n",
    "                                    period_test, filename=f'{itp_id}_{time_of_day_lower}_new', map_type='speedmap',\n",
    "                                    color_col='p20_mph', cmap=cmap, legend_url=url,\n",
    "                                    cache_seconds=0, map_title=f'Speedmap Segs {time_of_day} {analysis_date}')"
   ]
  },
  {
   "cell_type": "code",
   "execution_count": 70,
   "id": "af6436d5-91ce-4ef9-a7e3-724799151816",
   "metadata": {},
   "outputs": [
    {
     "data": {
      "text/plain": [
       "{'state_dict': {'name': 'null',\n",
       "  'layers': [{'name': 'Speedmap Segs Evening 2024-10-16',\n",
       "    'url': 'https://storage.googleapis.com/calitp-map-tiles/testing/4_evening_new.geojson.gz',\n",
       "    'properties': {'stroked': False,\n",
       "     'highlight_saturation_multiplier': 0.5,\n",
       "     'tooltip_speed_key': 'p20_mph'},\n",
       "    'type': 'speedmap'}],\n",
       "  'lat_lon': (37.771823438071266, -122.20351640174141),\n",
       "  'zoom': 13,\n",
       "  'legend_url': 'https://storage.googleapis.com/calitp-map-tiles/speeds_legend_color_access.svg'},\n",
       " 'spa_link': 'https://embeddable-maps.calitp.org/?state=eyJuYW1lIjogIm51bGwiLCAibGF5ZXJzIjogW3sibmFtZSI6ICJTcGVlZG1hcCBTZWdzIEV2ZW5pbmcgMjAyNC0xMC0xNiIsICJ1cmwiOiAiaHR0cHM6Ly9zdG9yYWdlLmdvb2dsZWFwaXMuY29tL2NhbGl0cC1tYXAtdGlsZXMvdGVzdGluZy80X2V2ZW5pbmdfbmV3Lmdlb2pzb24uZ3oiLCAicHJvcGVydGllcyI6IHsic3Ryb2tlZCI6IGZhbHNlLCAiaGlnaGxpZ2h0X3NhdHVyYXRpb25fbXVsdGlwbGllciI6IDAuNSwgInRvb2x0aXBfc3BlZWRfa2V5IjogInAyMF9tcGgifSwgInR5cGUiOiAic3BlZWRtYXAifV0sICJsYXRfbG9uIjogWzM3Ljc3MTgyMzQzODA3MTI2NiwgLTEyMi4yMDM1MTY0MDE3NDE0MV0sICJ6b29tIjogMTMsICJsZWdlbmRfdXJsIjogImh0dHBzOi8vc3RvcmFnZS5nb29nbGVhcGlzLmNvbS9jYWxpdHAtbWFwLXRpbGVzL3NwZWVkc19sZWdlbmRfY29sb3JfYWNjZXNzLnN2ZyJ9'}"
      ]
     },
     "execution_count": 70,
     "metadata": {},
     "output_type": "execute_result"
    }
   ],
   "source": [
    "speedmap_state"
   ]
  },
  {
   "cell_type": "markdown",
   "id": "efbb48f8-699d-40a8-ae2c-592cf4b1b282",
   "metadata": {},
   "source": [
    "## other test"
   ]
  },
  {
   "cell_type": "code",
   "execution_count": 71,
   "id": "3141fcdf-3b66-4136-b67d-62b5813f37dc",
   "metadata": {},
   "outputs": [],
   "source": [
    "time_of_day = 'Owl'"
   ]
  },
  {
   "cell_type": "code",
   "execution_count": 72,
   "id": "d31e588d-06f2-4d70-bfd1-4be43c3460da",
   "metadata": {},
   "outputs": [],
   "source": [
    "period_speeds = speedmap_segs >> filter(_.time_of_day == time_of_day)"
   ]
  },
  {
   "cell_type": "code",
   "execution_count": 73,
   "id": "07c6e289-89c9-401e-b820-a9badbb36051",
   "metadata": {},
   "outputs": [],
   "source": [
    "hrs = len([x[1] for x in time_periods if x[1] == time_of_day])"
   ]
  },
  {
   "cell_type": "code",
   "execution_count": 74,
   "id": "e3055d92-61f0-47d5-b1ee-4ba7396ae46c",
   "metadata": {},
   "outputs": [
    {
     "data": {
      "text/plain": [
       "3"
      ]
     },
     "execution_count": 74,
     "metadata": {},
     "output_type": "execute_result"
    }
   ],
   "source": [
    "hrs"
   ]
  },
  {
   "cell_type": "code",
   "execution_count": 75,
   "id": "d01b7893-1d7c-4e9a-bbff-f4714cdedcaa",
   "metadata": {},
   "outputs": [],
   "source": [
    "period_test = prep_gdf(period_speeds, hrs)"
   ]
  },
  {
   "cell_type": "code",
   "execution_count": 76,
   "id": "e44263d0-0d2c-49d9-ba4a-bdccb4db1d10",
   "metadata": {},
   "outputs": [],
   "source": [
    "time_of_day_lower = time_of_day.lower().replace(' ', '_')"
   ]
  },
  {
   "cell_type": "code",
   "execution_count": 77,
   "id": "e6512cbd-85e4-4c18-af49-bc2210c98b39",
   "metadata": {},
   "outputs": [
    {
     "name": "stdout",
     "output_type": "stream",
     "text": [
      "writing to calitp-map-tiles/testing/4_owl_new.geojson.gz\n"
     ]
    }
   ],
   "source": [
    "speedmap_state = shared_utils.rt_utils.set_state_export(\n",
    "                                    period_test, filename=f'{itp_id}_{time_of_day_lower}_new', map_type='speedmap',\n",
    "                                    color_col='p20_mph', cmap=cmap, legend_url=url,\n",
    "                                    cache_seconds=0, map_title=f'Speedmap Segs {time_of_day} {analysis_date}')"
   ]
  },
  {
   "cell_type": "code",
   "execution_count": 78,
   "id": "6c0d1405-4db8-4d6e-afdb-aded31b21392",
   "metadata": {},
   "outputs": [
    {
     "data": {
      "text/plain": [
       "{'state_dict': {'name': 'null',\n",
       "  'layers': [{'name': 'Speedmap Segs Owl 2024-10-16',\n",
       "    'url': 'https://storage.googleapis.com/calitp-map-tiles/testing/4_owl_new.geojson.gz',\n",
       "    'properties': {'stroked': False,\n",
       "     'highlight_saturation_multiplier': 0.5,\n",
       "     'tooltip_speed_key': 'p20_mph'},\n",
       "    'type': 'speedmap'}],\n",
       "  'lat_lon': (37.7948400139263, -122.23030873967325),\n",
       "  'zoom': 13,\n",
       "  'legend_url': 'https://storage.googleapis.com/calitp-map-tiles/speeds_legend_color_access.svg'},\n",
       " 'spa_link': 'https://embeddable-maps.calitp.org/?state=eyJuYW1lIjogIm51bGwiLCAibGF5ZXJzIjogW3sibmFtZSI6ICJTcGVlZG1hcCBTZWdzIE93bCAyMDI0LTEwLTE2IiwgInVybCI6ICJodHRwczovL3N0b3JhZ2UuZ29vZ2xlYXBpcy5jb20vY2FsaXRwLW1hcC10aWxlcy90ZXN0aW5nLzRfb3dsX25ldy5nZW9qc29uLmd6IiwgInByb3BlcnRpZXMiOiB7InN0cm9rZWQiOiBmYWxzZSwgImhpZ2hsaWdodF9zYXR1cmF0aW9uX211bHRpcGxpZXIiOiAwLjUsICJ0b29sdGlwX3NwZWVkX2tleSI6ICJwMjBfbXBoIn0sICJ0eXBlIjogInNwZWVkbWFwIn1dLCAibGF0X2xvbiI6IFszNy43OTQ4NDAwMTM5MjYzLCAtMTIyLjIzMDMwODczOTY3MzI1XSwgInpvb20iOiAxMywgImxlZ2VuZF91cmwiOiAiaHR0cHM6Ly9zdG9yYWdlLmdvb2dsZWFwaXMuY29tL2NhbGl0cC1tYXAtdGlsZXMvc3BlZWRzX2xlZ2VuZF9jb2xvcl9hY2Nlc3Muc3ZnIn0='}"
      ]
     },
     "execution_count": 78,
     "metadata": {},
     "output_type": "execute_result"
    }
   ],
   "source": [
    "speedmap_state"
   ]
  }
 ],
 "metadata": {
  "kernelspec": {
   "display_name": "Python 3 (ipykernel)",
   "language": "python",
   "name": "python3"
  },
  "language_info": {
   "codemirror_mode": {
    "name": "ipython",
    "version": 3
   },
   "file_extension": ".py",
   "mimetype": "text/x-python",
   "name": "python",
   "nbconvert_exporter": "python",
   "pygments_lexer": "ipython3",
   "version": "3.9.13"
  },
  "widgets": {
   "application/vnd.jupyter.widget-state+json": {
    "state": {},
    "version_major": 2,
    "version_minor": 0
   }
  }
 },
 "nbformat": 4,
 "nbformat_minor": 5
}
