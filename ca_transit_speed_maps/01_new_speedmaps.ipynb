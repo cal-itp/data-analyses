{
 "cells": [
  {
   "cell_type": "code",
   "execution_count": 1,
   "id": "46898b5c-b5cc-4096-ab68-8c3e42fab870",
   "metadata": {},
   "outputs": [],
   "source": [
    "%%capture\n",
    "import warnings\n",
    "warnings.filterwarnings('ignore')\n",
    "import calitp_data_analysis.magics\n",
    "\n",
    "import speedmap_utils\n",
    "import pandas as pd\n",
    "import datetime as dt"
   ]
  },
  {
   "cell_type": "code",
   "execution_count": 2,
   "id": "29f20397-f017-4977-94c6-a90f289a7192",
   "metadata": {
    "tags": []
   },
   "outputs": [],
   "source": [
    "from shared_utils import rt_dates"
   ]
  },
  {
   "cell_type": "code",
   "execution_count": 3,
   "id": "da5315a9-4b64-4fad-94b5-b478b920a759",
   "metadata": {
    "tags": []
   },
   "outputs": [
    {
     "data": {
      "text/html": [
       "<div>\n",
       "<style scoped>\n",
       "    .dataframe tbody tr th:only-of-type {\n",
       "        vertical-align: middle;\n",
       "    }\n",
       "\n",
       "    .dataframe tbody tr th {\n",
       "        vertical-align: top;\n",
       "    }\n",
       "\n",
       "    .dataframe thead th {\n",
       "        text-align: right;\n",
       "    }\n",
       "</style>\n",
       "<table border=\"1\" class=\"dataframe\">\n",
       "  <thead>\n",
       "    <tr style=\"text-align: right;\">\n",
       "      <th></th>\n",
       "      <th>organization_name</th>\n",
       "      <th>organization_source_record_id</th>\n",
       "      <th>name</th>\n",
       "      <th>base64_url</th>\n",
       "      <th>analysis_date</th>\n",
       "      <th>caltrans_district</th>\n",
       "      <th>status</th>\n",
       "    </tr>\n",
       "  </thead>\n",
       "  <tbody>\n",
       "    <tr>\n",
       "      <th>3</th>\n",
       "      <td>Los Angeles County Metropolitan Transportation...</td>\n",
       "      <td>recPnGkwdpnr8jmHB</td>\n",
       "      <td>LA Metro Bus Schedule</td>\n",
       "      <td>aHR0cHM6Ly9naXRsYWIuY29tL0xBQ01UQS9ndGZzX2J1cy...</td>\n",
       "      <td>2025-03-12</td>\n",
       "      <td>07 - Los Angeles / Ventura</td>\n",
       "      <td>speedmap_segs_available</td>\n",
       "    </tr>\n",
       "    <tr>\n",
       "      <th>4</th>\n",
       "      <td>Los Angeles County Metropolitan Transportation...</td>\n",
       "      <td>recPnGkwdpnr8jmHB</td>\n",
       "      <td>LA Metro Rail Schedule</td>\n",
       "      <td>aHR0cHM6Ly9naXRsYWIuY29tL0xBQ01UQS9ndGZzX3JhaW...</td>\n",
       "      <td>2025-03-12</td>\n",
       "      <td>07 - Los Angeles / Ventura</td>\n",
       "      <td>speedmap_segs_available</td>\n",
       "    </tr>\n",
       "    <tr>\n",
       "      <th>26</th>\n",
       "      <td>University of California, Los Angeles</td>\n",
       "      <td>recBW9vkDYWIKPIu4</td>\n",
       "      <td>BruinBus Schedule</td>\n",
       "      <td>aHR0cHM6Ly91Y2xhYnJ1aW5idXMudHJpcHNob3QuY29tL3...</td>\n",
       "      <td>2025-03-12</td>\n",
       "      <td>07 - Los Angeles / Ventura</td>\n",
       "      <td>speedmap_segs_available</td>\n",
       "    </tr>\n",
       "    <tr>\n",
       "      <th>91</th>\n",
       "      <td>City of Los Angeles</td>\n",
       "      <td>rec4pgjrmdhCh4z01</td>\n",
       "      <td>LA DOT Schedule</td>\n",
       "      <td>aHR0cHM6Ly9sYWRvdGJ1cy5jb20vZ3Rmcw==</td>\n",
       "      <td>2025-03-12</td>\n",
       "      <td>07 - Los Angeles / Ventura</td>\n",
       "      <td>speedmap_segs_available</td>\n",
       "    </tr>\n",
       "  </tbody>\n",
       "</table>\n",
       "</div>"
      ],
      "text/plain": [
       "                                    organization_name  \\\n",
       "3   Los Angeles County Metropolitan Transportation...   \n",
       "4   Los Angeles County Metropolitan Transportation...   \n",
       "26              University of California, Los Angeles   \n",
       "91                                City of Los Angeles   \n",
       "\n",
       "   organization_source_record_id                    name  \\\n",
       "3              recPnGkwdpnr8jmHB   LA Metro Bus Schedule   \n",
       "4              recPnGkwdpnr8jmHB  LA Metro Rail Schedule   \n",
       "26             recBW9vkDYWIKPIu4       BruinBus Schedule   \n",
       "91             rec4pgjrmdhCh4z01         LA DOT Schedule   \n",
       "\n",
       "                                           base64_url analysis_date  \\\n",
       "3   aHR0cHM6Ly9naXRsYWIuY29tL0xBQ01UQS9ndGZzX2J1cy...    2025-03-12   \n",
       "4   aHR0cHM6Ly9naXRsYWIuY29tL0xBQ01UQS9ndGZzX3JhaW...    2025-03-12   \n",
       "26  aHR0cHM6Ly91Y2xhYnJ1aW5idXMudHJpcHNob3QuY29tL3...    2025-03-12   \n",
       "91               aHR0cHM6Ly9sYWRvdGJ1cy5jb20vZ3Rmcw==    2025-03-12   \n",
       "\n",
       "             caltrans_district                   status  \n",
       "3   07 - Los Angeles / Ventura  speedmap_segs_available  \n",
       "4   07 - Los Angeles / Ventura  speedmap_segs_available  \n",
       "26  07 - Los Angeles / Ventura  speedmap_segs_available  \n",
       "91  07 - Los Angeles / Ventura  speedmap_segs_available  "
      ]
     },
     "execution_count": 3,
     "metadata": {},
     "output_type": "execute_result"
    }
   ],
   "source": [
    "pd.read_parquet('_rt_progress_2025-03-12.parquet').query('organization_name.str.contains(\"Los Angeles\")')"
   ]
  },
  {
   "cell_type": "code",
   "execution_count": 4,
   "id": "9f15ed6a-5ab7-4f57-9695-3f762781b74c",
   "metadata": {
    "tags": [
     "parameters"
    ]
   },
   "outputs": [],
   "source": [
    "\n",
    "#  parameters cell\n",
    "\n",
    "organization_name = 'Los Angeles County Metropolitan Transportation Authority'"
   ]
  },
  {
   "cell_type": "code",
   "execution_count": null,
   "id": "82d7b8ac-3897-4604-9be4-37bd480577e7",
   "metadata": {},
   "outputs": [],
   "source": [
    "%%capture\n",
    "\n",
    "speedmap_segs, this_shn = speedmap_utils.read_segments_shn(organization_name=organization_name, force_analysis_date = rt_dates.DATES['dec2024'])\n",
    "org_shapes = speedmap_utils.read_shapes(speedmap_segs)\n",
    "analysis_date = speedmap_segs.analysis_date.iloc[0]\n",
    "# analysis_date = rt_dates.DATES['dec2024']"
   ]
  },
  {
   "cell_type": "code",
   "execution_count": null,
   "id": "11303bd3-01bf-4af4-b0fa-63dbc375bd48",
   "metadata": {
    "tags": []
   },
   "outputs": [],
   "source": [
    "%%capture_parameters\n",
    "human_date = dt.date.fromisoformat(analysis_date).strftime('%B %d %Y (%A)')\n",
    "human_date"
   ]
  },
  {
   "cell_type": "markdown",
   "id": "d0b9c978-e6a6-4646-a2c0-e3a603f1dfc3",
   "metadata": {
    "tags": []
   },
   "source": [
    "# {organization_name}"
   ]
  },
  {
   "cell_type": "markdown",
   "id": "9470c739-9b57-4a80-86fe-ca62844a9331",
   "metadata": {
    "jp-MarkdownHeadingCollapsed": true,
    "tags": []
   },
   "source": [
    "## About These Maps:\n",
    "\n",
    "* Each map shows bus (and rail, if applicable) speeds for {organization_name}, with a map each for the AM Peak, Midday, and PM Peak periods on {human_date}.\n",
    "* On the map, routes are split into segments corresponding to the distance between two stops, allowing you to focus on specific portions of the route experiencing a slowdown.\n",
    "* Route segments are arrow-shaped to indicate direction of travel. Thicker segments indicate more frequent transit routes.\n",
    "* State Highway Network routes are outlined in gray.\n",
    "* Hover over, a segment with your mouse to see the exact speed, route name, and transit service frequency in that segment. \n",
    "    * Higher-frequency routes (3+ trips per hour) are especially important, since those slowdowns correspond to more vehicles, and riders, delayed in traffic.\n",
    "* Route segments with no data are now shown as thin, dark gray or black segments. These may be due to the route not running at that time of day, or a data availability or processing issue."
   ]
  },
  {
   "cell_type": "markdown",
   "id": "db37b33a-6e9f-4a31-9b83-4a2a5a078241",
   "metadata": {
    "tags": []
   },
   "source": [
    "## AM Peak (07:00-10:00)"
   ]
  },
  {
   "cell_type": "markdown",
   "id": "8b335f1d-5d61-4356-8258-68eb0b069989",
   "metadata": {},
   "source": [
    "### 20th Percentile Speeds by Segment"
   ]
  },
  {
   "cell_type": "code",
   "execution_count": null,
   "id": "0003df13-f7d7-4d70-bd8a-91f0cc4e95c3",
   "metadata": {},
   "outputs": [],
   "source": [
    "%%capture\n",
    "link = speedmap_utils.map_time_period(district_gdf=this_shn, speedmap_segs=speedmap_segs, org_shapes=org_shapes,\n",
    "                                      analysis_date=analysis_date, time_of_day='AM Peak', map_type='new_speedmap')"
   ]
  },
  {
   "cell_type": "code",
   "execution_count": null,
   "id": "364e6af4-da42-44d6-a252-9b4039e3f590",
   "metadata": {},
   "outputs": [],
   "source": [
    "if link: speedmap_utils.render_spa_link(link)"
   ]
  },
  {
   "cell_type": "code",
   "execution_count": null,
   "id": "4b7d4db9-6c2c-4151-93d7-c92c512a221d",
   "metadata": {},
   "outputs": [],
   "source": [
    "if link: speedmap_utils.display_spa_map(link)"
   ]
  },
  {
   "cell_type": "markdown",
   "id": "9dbefb68-c2fa-47b9-84ab-9c5e86315f56",
   "metadata": {},
   "source": [
    "### Variation in Speeds by Segment\n",
    "\n",
    "* This visualization shows variation as the ratio between the 80th percentile and 20th percentile speeds in each segment\n",
    "* Segments with high variation in speeds make it difficult for transit operators to set accurate schedules, and can cause inconsistent service for riders"
   ]
  },
  {
   "cell_type": "code",
   "execution_count": null,
   "id": "f942bbf6-16f4-402b-a7e4-cec9b95e5243",
   "metadata": {},
   "outputs": [],
   "source": [
    "%%capture\n",
    "link = speedmap_utils.map_time_period(district_gdf=this_shn, speedmap_segs=speedmap_segs, org_shapes=org_shapes,\n",
    "                                      analysis_date=analysis_date, time_of_day='AM Peak', map_type='new_speed_variation')"
   ]
  },
  {
   "cell_type": "code",
   "execution_count": null,
   "id": "4c80b3db-3800-41f0-b0f4-c589ffb2e08e",
   "metadata": {},
   "outputs": [],
   "source": [
    "if link: speedmap_utils.render_spa_link(link)"
   ]
  },
  {
   "cell_type": "code",
   "execution_count": null,
   "id": "187d8255-1332-4b6e-ac75-ed5710830a7b",
   "metadata": {},
   "outputs": [],
   "source": [
    "if link: speedmap_utils.display_spa_map(link)"
   ]
  },
  {
   "cell_type": "markdown",
   "id": "68ed263d-326c-4f3f-bfb4-ffb963f8f02b",
   "metadata": {
    "tags": []
   },
   "source": [
    "## Midday (10:00-15:00)"
   ]
  },
  {
   "cell_type": "markdown",
   "id": "f221d306-9438-4c1f-a59b-ae0b99b5aed5",
   "metadata": {},
   "source": [
    "### 20th Percentile Speeds by Segment"
   ]
  },
  {
   "cell_type": "code",
   "execution_count": null,
   "id": "12082834-75ee-4715-8e7d-9150d2c8b129",
   "metadata": {},
   "outputs": [],
   "source": [
    "%%capture\n",
    "link = speedmap_utils.map_time_period(district_gdf=this_shn, speedmap_segs=speedmap_segs, org_shapes=org_shapes,\n",
    "                                      analysis_date=analysis_date, time_of_day='Midday', map_type='new_speedmap')"
   ]
  },
  {
   "cell_type": "code",
   "execution_count": null,
   "id": "cb777a85-5704-4d66-badb-08756e9a317c",
   "metadata": {},
   "outputs": [],
   "source": [
    "if link: speedmap_utils.render_spa_link(link)"
   ]
  },
  {
   "cell_type": "code",
   "execution_count": null,
   "id": "5171f750-6013-4ca8-bc2f-2bd7678e554f",
   "metadata": {},
   "outputs": [],
   "source": [
    "if link: speedmap_utils.display_spa_map(link)"
   ]
  },
  {
   "cell_type": "markdown",
   "id": "816af03a-c7c5-405c-bfbb-1314943d6121",
   "metadata": {},
   "source": [
    "### Variation in Speeds by Segment\n",
    "\n",
    "* This visualization shows variation as the ratio between the 80th percentile and 20th percentile speeds in each segment\n",
    "* Segments with high variation in speeds make it difficult for transit operators to set accurate schedules, and can cause inconsistent service for riders"
   ]
  },
  {
   "cell_type": "code",
   "execution_count": null,
   "id": "300161cd-a92a-4260-8ccf-84c5797e6ec6",
   "metadata": {},
   "outputs": [],
   "source": [
    "%%capture\n",
    "link = speedmap_utils.map_time_period(district_gdf=this_shn, speedmap_segs=speedmap_segs, org_shapes=org_shapes,\n",
    "                                      analysis_date=analysis_date, time_of_day='Midday', map_type='new_speed_variation')"
   ]
  },
  {
   "cell_type": "code",
   "execution_count": null,
   "id": "71145071-573a-4c97-9d5d-ac19e43b5a97",
   "metadata": {},
   "outputs": [],
   "source": [
    "if link: speedmap_utils.render_spa_link(link)"
   ]
  },
  {
   "cell_type": "code",
   "execution_count": null,
   "id": "bd852a1e-0cc8-4e6d-acf0-e38b35609deb",
   "metadata": {},
   "outputs": [],
   "source": [
    "if link: speedmap_utils.display_spa_map(link)"
   ]
  },
  {
   "cell_type": "markdown",
   "id": "ac317854-05fe-4a96-84b3-664ebffe083d",
   "metadata": {
    "tags": []
   },
   "source": [
    "## PM Peak (15:00-20:00)"
   ]
  },
  {
   "cell_type": "markdown",
   "id": "bd10bcf2-e91f-475f-a7bb-ea29ed1b8eb6",
   "metadata": {},
   "source": [
    "### 20th Percentile Speeds by Segment"
   ]
  },
  {
   "cell_type": "code",
   "execution_count": null,
   "id": "11cf5818-f909-4d56-b358-b48f29ed256f",
   "metadata": {},
   "outputs": [],
   "source": [
    "%%capture\n",
    "link = speedmap_utils.map_time_period(district_gdf=this_shn, speedmap_segs=speedmap_segs, org_shapes=org_shapes,\n",
    "                                      analysis_date=analysis_date, time_of_day='PM Peak', map_type='new_speedmap')"
   ]
  },
  {
   "cell_type": "code",
   "execution_count": null,
   "id": "c86ef14d-0528-4cb4-a347-55607f547159",
   "metadata": {},
   "outputs": [],
   "source": [
    "if link: speedmap_utils.render_spa_link(link)"
   ]
  },
  {
   "cell_type": "code",
   "execution_count": null,
   "id": "db6634b3-a794-47a4-a4e2-6a875aea1a0c",
   "metadata": {},
   "outputs": [],
   "source": [
    "if link: speedmap_utils.display_spa_map(link)"
   ]
  },
  {
   "cell_type": "markdown",
   "id": "4ebb8a11-b214-4a0e-bd24-f29863d7832b",
   "metadata": {},
   "source": [
    "### Variation in Speeds by Segment\n",
    "\n",
    "* This visualization shows variation as the ratio between the 80th percentile and 20th percentile speeds in each segment\n",
    "* Segments with high variation in speeds make it difficult for transit operators to set accurate schedules, and can cause inconsistent service for riders"
   ]
  },
  {
   "cell_type": "code",
   "execution_count": null,
   "id": "6e6f502e-7a81-4582-8a70-7c20c0f04bdf",
   "metadata": {},
   "outputs": [],
   "source": [
    "%%capture\n",
    "link = speedmap_utils.map_time_period(district_gdf=this_shn, speedmap_segs=speedmap_segs, org_shapes=org_shapes,\n",
    "                                      analysis_date=analysis_date, time_of_day='PM Peak', map_type='new_speed_variation')"
   ]
  },
  {
   "cell_type": "code",
   "execution_count": null,
   "id": "7ebde3a1-a6ab-4c23-9105-9b163c47fb0f",
   "metadata": {},
   "outputs": [],
   "source": [
    "if link: speedmap_utils.render_spa_link(link)"
   ]
  },
  {
   "cell_type": "code",
   "execution_count": null,
   "id": "7ed2bb7c-dd0e-4aeb-8ebe-2ff9835f6fbb",
   "metadata": {},
   "outputs": [],
   "source": [
    "if link: speedmap_utils.display_spa_map(link)"
   ]
  },
  {
   "cell_type": "markdown",
   "id": "749a63f1-35d5-4f5e-bc44-871943868e71",
   "metadata": {
    "tags": []
   },
   "source": [
    "## Daily Speed Patterns\n",
    "\n",
    "* This chart shows the distribution of segment speeds in each time of day. It can help find times of day where transit riders experience the slowest overall speeds, or highest variation in speeds."
   ]
  },
  {
   "cell_type": "code",
   "execution_count": null,
   "id": "52ef19f8-4078-4cbd-8049-a01963eb4d06",
   "metadata": {},
   "outputs": [],
   "source": [
    "speedmap_utils.chart_speeds_by_time_period(speedmap_segs)"
   ]
  },
  {
   "cell_type": "markdown",
   "id": "70846ffd-28d6-4042-80bc-a79d3959a26e",
   "metadata": {},
   "source": [
    "## Additional Time Periods\n",
    "\n",
    "These links provide speed and speed variation maps outside the AM Peak, Midday, and PM Peak periods, if available.\n",
    "\n",
    "* Evening is 20:00-24:00\n",
    "* Owl is 00:00-04:00\n",
    "* Early AM is 04:00-07:00"
   ]
  },
  {
   "cell_type": "code",
   "execution_count": null,
   "id": "6bea466f-f2fb-44b4-a26f-44bcf20abe7a",
   "metadata": {},
   "outputs": [],
   "source": [
    "for time_period in [period for period in speedmap_segs.time_of_day.unique() if period not in ['AM Peak', 'Midday', 'PM Peak']]:\n",
    "    link = speedmap_utils.map_time_period(district_gdf=this_shn, speedmap_segs=speedmap_segs, org_shapes=org_shapes,\n",
    "                                          analysis_date=analysis_date, time_of_day=time_period, map_type='new_speedmap')\n",
    "    speedmap_utils.render_spa_link(link, text=f\"{time_period} Speeds\")\n",
    "    link = speedmap_utils.map_time_period(district_gdf=this_shn, speedmap_segs=speedmap_segs, org_shapes=org_shapes,\n",
    "                                          analysis_date=analysis_date, time_of_day=time_period, map_type='new_speed_variation')\n",
    "    speedmap_utils.render_spa_link(link, text=f\"{time_period} Speed Variation\")"
   ]
  }
 ],
 "metadata": {
  "kernelspec": {
   "display_name": "Python 3 (ipykernel)",
   "language": "python",
   "name": "python3"
  },
  "language_info": {
   "codemirror_mode": {
    "name": "ipython",
    "version": 3
   },
   "file_extension": ".py",
   "mimetype": "text/x-python",
   "name": "python",
   "nbconvert_exporter": "python",
   "pygments_lexer": "ipython3",
   "version": "3.11.10"
  },
  "widgets": {
   "application/vnd.jupyter.widget-state+json": {
    "state": {},
    "version_major": 2,
    "version_minor": 0
   }
  }
 },
 "nbformat": 4,
 "nbformat_minor": 5
}
