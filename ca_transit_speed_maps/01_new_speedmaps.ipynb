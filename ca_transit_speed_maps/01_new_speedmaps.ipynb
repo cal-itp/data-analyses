{
 "cells": [
  {
   "cell_type": "code",
   "execution_count": 19,
   "id": "46898b5c-b5cc-4096-ab68-8c3e42fab870",
   "metadata": {},
   "outputs": [],
   "source": [
    "%%capture\n",
    "import warnings\n",
    "warnings.filterwarnings('ignore')\n",
    "\n",
    "import calitp_data_analysis.magics\n",
    "from calitp_data_analysis import calitp_color_palette\n",
    "\n",
    "# from rt_analysis import rt_filter_map_plot\n",
    "import update_vars_index\n",
    "\n",
    "from IPython.display import display, Markdown\n",
    "import pandas as pd\n",
    "import numpy as np\n",
    "import geopandas as gpd\n",
    "from siuba import *\n",
    "\n",
    "import shared_utils\n",
    "import segment_speed_utils\n",
    "\n",
    "import altair as alt\n",
    "from calitp_data_analysis.tables import tbls"
   ]
  },
  {
   "cell_type": "code",
   "execution_count": 20,
   "id": "cf3d8814-6f22-4a22-8b03-429ebb63a397",
   "metadata": {},
   "outputs": [],
   "source": [
    "catalog = shared_utils.catalog_utils.get_catalog('gtfs_analytics_data')"
   ]
  },
  {
   "cell_type": "code",
   "execution_count": 21,
   "id": "9f15ed6a-5ab7-4f57-9695-3f762781b74c",
   "metadata": {
    "tags": [
     "parameters"
    ]
   },
   "outputs": [],
   "source": [
    "## parameters cell\n",
    "itp_id = 182"
   ]
  },
  {
   "cell_type": "code",
   "execution_count": 22,
   "id": "a639fd84-29ca-4678-b568-2b1022701e14",
   "metadata": {},
   "outputs": [],
   "source": [
    "analysis_date = update_vars_index.ANALYSIS_DATE\n",
    "import datetime as dt"
   ]
  },
  {
   "cell_type": "code",
   "execution_count": 23,
   "id": "b4e52208-fedd-41e7-9888-b62212ff69e5",
   "metadata": {},
   "outputs": [],
   "source": [
    "# speedmap_index = pd.read_parquet(f'_rt_progress_{analysis_date}.parquet')"
   ]
  },
  {
   "cell_type": "code",
   "execution_count": 24,
   "id": "d4ccbe96-0c6a-4d04-a94b-1a7c151ad5cf",
   "metadata": {},
   "outputs": [],
   "source": [
    "speedmap_index = pd.read_parquet(f'_rt_progress_{analysis_date}.parquet')"
   ]
  },
  {
   "cell_type": "code",
   "execution_count": 27,
   "id": "3afe1a90-a360-4d7e-aed1-0e1ae93ee2f1",
   "metadata": {},
   "outputs": [
    {
     "data": {
      "text/html": [
       "<div>\n",
       "<style scoped>\n",
       "    .dataframe tbody tr th:only-of-type {\n",
       "        vertical-align: middle;\n",
       "    }\n",
       "\n",
       "    .dataframe tbody tr th {\n",
       "        vertical-align: top;\n",
       "    }\n",
       "\n",
       "    .dataframe thead th {\n",
       "        text-align: right;\n",
       "    }\n",
       "</style>\n",
       "<table border=\"1\" class=\"dataframe\">\n",
       "  <thead>\n",
       "    <tr style=\"text-align: right;\">\n",
       "      <th></th>\n",
       "      <th>organization_name</th>\n",
       "      <th>name</th>\n",
       "      <th>base64_url</th>\n",
       "      <th>caltrans_district</th>\n",
       "      <th>status</th>\n",
       "      <th>analysis_date</th>\n",
       "    </tr>\n",
       "  </thead>\n",
       "  <tbody>\n",
       "    <tr>\n",
       "      <th>1</th>\n",
       "      <td>Los Angeles County Metropolitan Transportation...</td>\n",
       "      <td>LA Metro Bus Schedule</td>\n",
       "      <td>aHR0cHM6Ly9naXRsYWIuY29tL0xBQ01UQS9ndGZzX2J1cy...</td>\n",
       "      <td>07 - Los Angeles</td>\n",
       "      <td>speedmap_segs_available</td>\n",
       "      <td>2024-10-16</td>\n",
       "    </tr>\n",
       "    <tr>\n",
       "      <th>2</th>\n",
       "      <td>Los Angeles County Metropolitan Transportation...</td>\n",
       "      <td>LA Metro Rail Schedule</td>\n",
       "      <td>aHR0cHM6Ly9naXRsYWIuY29tL0xBQ01UQS9ndGZzX3JhaW...</td>\n",
       "      <td>07 - Los Angeles</td>\n",
       "      <td>speedmap_segs_available</td>\n",
       "      <td>2024-10-16</td>\n",
       "    </tr>\n",
       "  </tbody>\n",
       "</table>\n",
       "</div>"
      ],
      "text/plain": [
       "                                   organization_name                    name  \\\n",
       "1  Los Angeles County Metropolitan Transportation...   LA Metro Bus Schedule   \n",
       "2  Los Angeles County Metropolitan Transportation...  LA Metro Rail Schedule   \n",
       "\n",
       "                                          base64_url caltrans_district  \\\n",
       "1  aHR0cHM6Ly9naXRsYWIuY29tL0xBQ01UQS9ndGZzX2J1cy...  07 - Los Angeles   \n",
       "2  aHR0cHM6Ly9naXRsYWIuY29tL0xBQ01UQS9ndGZzX3JhaW...  07 - Los Angeles   \n",
       "\n",
       "                    status analysis_date  \n",
       "1  speedmap_segs_available    2024-10-16  \n",
       "2  speedmap_segs_available    2024-10-16  "
      ]
     },
     "execution_count": 27,
     "metadata": {},
     "output_type": "execute_result"
    }
   ],
   "source": [
    "speedmap_index >> filter(_.name.str.contains('LA Metro'))"
   ]
  },
  {
   "cell_type": "code",
   "execution_count": 11,
   "id": "3c990768-aa38-4231-bdfc-710ed7ac61fa",
   "metadata": {},
   "outputs": [],
   "source": [
    "speedmap_index = pd.read_parquet(f'_rt_progress_{analysis_date}.parquet') >> filter(_.organization_itp_id == itp_id)"
   ]
  },
  {
   "cell_type": "code",
   "execution_count": 12,
   "id": "a226dd3e-b1ac-4b78-95a6-0ac92c473cdd",
   "metadata": {},
   "outputs": [
    {
     "data": {
      "text/html": [
       "<div>\n",
       "<style scoped>\n",
       "    .dataframe tbody tr th:only-of-type {\n",
       "        vertical-align: middle;\n",
       "    }\n",
       "\n",
       "    .dataframe tbody tr th {\n",
       "        vertical-align: top;\n",
       "    }\n",
       "\n",
       "    .dataframe thead th {\n",
       "        text-align: right;\n",
       "    }\n",
       "</style>\n",
       "<table border=\"1\" class=\"dataframe\">\n",
       "  <thead>\n",
       "    <tr style=\"text-align: right;\">\n",
       "      <th></th>\n",
       "      <th>organization_name</th>\n",
       "      <th>organization_itp_id</th>\n",
       "      <th>organization_source_record_id</th>\n",
       "      <th>caltrans_district</th>\n",
       "      <th>_is_current</th>\n",
       "      <th>analysis_date</th>\n",
       "      <th>schedule_gtfs_dataset_key</th>\n",
       "      <th>status</th>\n",
       "    </tr>\n",
       "  </thead>\n",
       "  <tbody>\n",
       "    <tr>\n",
       "      <th>42</th>\n",
       "      <td>Los Angeles County Metropolitan Transportation...</td>\n",
       "      <td>182</td>\n",
       "      <td>recPnGkwdpnr8jmHB</td>\n",
       "      <td>07 - Los Angeles</td>\n",
       "      <td>True</td>\n",
       "      <td>2024-10-16</td>\n",
       "      <td>0666caf3ec1ecc96b74f4477ee4bc939</td>\n",
       "      <td>speedmap_segs_available</td>\n",
       "    </tr>\n",
       "  </tbody>\n",
       "</table>\n",
       "</div>"
      ],
      "text/plain": [
       "                                    organization_name  organization_itp_id  \\\n",
       "42  Los Angeles County Metropolitan Transportation...                  182   \n",
       "\n",
       "   organization_source_record_id caltrans_district  _is_current analysis_date  \\\n",
       "42             recPnGkwdpnr8jmHB  07 - Los Angeles         True    2024-10-16   \n",
       "\n",
       "           schedule_gtfs_dataset_key                   status  \n",
       "42  0666caf3ec1ecc96b74f4477ee4bc939  speedmap_segs_available  "
      ]
     },
     "execution_count": 12,
     "metadata": {},
     "output_type": "execute_result"
    }
   ],
   "source": [
    "speedmap_index"
   ]
  },
  {
   "cell_type": "code",
   "execution_count": 13,
   "id": "516c71f4-f1a7-4477-91c0-cf9b15247ce6",
   "metadata": {
    "tags": []
   },
   "outputs": [],
   "source": [
    "speedmap_index = pd.read_parquet(f'_rt_progress_{analysis_date}.parquet') >> filter(_.organization_itp_id == itp_id)\n",
    "path = f'{catalog.speedmap_segments.dir}{catalog.speedmap_segments.shape_stop_single_segment_detail}_{analysis_date}.parquet'\n",
    "speedmap_segs = gpd.read_parquet(path) #  aggregated\n",
    "# speedmap_segs = speedmap_segs >> filter(_.schedule_gtfs_dataset_key == speedmap_index.schedule_gtfs_dataset_key.iloc[0])"
   ]
  },
  {
   "cell_type": "code",
   "execution_count": 17,
   "id": "56ec8386-37ec-43f4-b209-4f77e55e5ddc",
   "metadata": {},
   "outputs": [
    {
     "data": {
      "text/html": [
       "<div>\n",
       "<style scoped>\n",
       "    .dataframe tbody tr th:only-of-type {\n",
       "        vertical-align: middle;\n",
       "    }\n",
       "\n",
       "    .dataframe tbody tr th {\n",
       "        vertical-align: top;\n",
       "    }\n",
       "\n",
       "    .dataframe thead th {\n",
       "        text-align: right;\n",
       "    }\n",
       "</style>\n",
       "<table border=\"1\" class=\"dataframe\">\n",
       "  <thead>\n",
       "    <tr style=\"text-align: right;\">\n",
       "      <th></th>\n",
       "      <th>organization_name</th>\n",
       "      <th>caltrans_district</th>\n",
       "    </tr>\n",
       "  </thead>\n",
       "  <tbody>\n",
       "    <tr>\n",
       "      <th>0</th>\n",
       "      <td>Inyo County</td>\n",
       "      <td>09 - Bishop</td>\n",
       "    </tr>\n",
       "    <tr>\n",
       "      <th>1</th>\n",
       "      <td>City of Bishop</td>\n",
       "      <td>09 - Bishop</td>\n",
       "    </tr>\n",
       "    <tr>\n",
       "      <th>2</th>\n",
       "      <td>Bishop Paiute Tribe</td>\n",
       "      <td>09 - Bishop</td>\n",
       "    </tr>\n",
       "    <tr>\n",
       "      <th>3</th>\n",
       "      <td>Timbisha Shoshone Tribe</td>\n",
       "      <td>09 - Bishop</td>\n",
       "    </tr>\n",
       "    <tr>\n",
       "      <th>4</th>\n",
       "      <td>Lone Pine Paiute-Shoshone Tribe</td>\n",
       "      <td>09 - Bishop</td>\n",
       "    </tr>\n",
       "    <tr>\n",
       "      <th>...</th>\n",
       "      <td>...</td>\n",
       "      <td>...</td>\n",
       "    </tr>\n",
       "    <tr>\n",
       "      <th>1284</th>\n",
       "      <td>Cambria Community Council</td>\n",
       "      <td>05 - San Luis Obispo</td>\n",
       "    </tr>\n",
       "    <tr>\n",
       "      <th>1285</th>\n",
       "      <td>San Luis Obispo Council of Governments</td>\n",
       "      <td>05 - San Luis Obispo</td>\n",
       "    </tr>\n",
       "    <tr>\n",
       "      <th>1286</th>\n",
       "      <td>San Luis Obispo Regional Transit Authority</td>\n",
       "      <td>05 - San Luis Obispo</td>\n",
       "    </tr>\n",
       "    <tr>\n",
       "      <th>1287</th>\n",
       "      <td>United Cerebral Palsy of San Luis Obispo County</td>\n",
       "      <td>05 - San Luis Obispo</td>\n",
       "    </tr>\n",
       "    <tr>\n",
       "      <th>1288</th>\n",
       "      <td>San Luis Obispo County Community College District</td>\n",
       "      <td>05 - San Luis Obispo</td>\n",
       "    </tr>\n",
       "  </tbody>\n",
       "</table>\n",
       "<p>1289 rows × 2 columns</p>\n",
       "</div>"
      ],
      "text/plain": [
       "                                      organization_name     caltrans_district\n",
       "0                                           Inyo County           09 - Bishop\n",
       "1                                        City of Bishop           09 - Bishop\n",
       "2                                   Bishop Paiute Tribe           09 - Bishop\n",
       "3                               Timbisha Shoshone Tribe           09 - Bishop\n",
       "4                       Lone Pine Paiute-Shoshone Tribe           09 - Bishop\n",
       "...                                                 ...                   ...\n",
       "1284                          Cambria Community Council  05 - San Luis Obispo\n",
       "1285             San Luis Obispo Council of Governments  05 - San Luis Obispo\n",
       "1286         San Luis Obispo Regional Transit Authority  05 - San Luis Obispo\n",
       "1287    United Cerebral Palsy of San Luis Obispo County  05 - San Luis Obispo\n",
       "1288  San Luis Obispo County Community College District  05 - San Luis Obispo\n",
       "\n",
       "[1289 rows x 2 columns]"
      ]
     },
     "execution_count": 17,
     "metadata": {},
     "output_type": "execute_result"
    }
   ],
   "source": [
    "shared_utils.schedule_rt_utils.filter_dim_county_geography(analysis_date)"
   ]
  },
  {
   "cell_type": "code",
   "execution_count": 18,
   "id": "e768174b-aea5-455a-ba26-72182309a2c0",
   "metadata": {},
   "outputs": [
    {
     "data": {
      "text/plain": [
       "Index(['schedule_gtfs_dataset_key', 'shape_array_key', 'shape_id', 'route_id',\n",
       "       'direction_id', 'stop_pair', 'stop_pair_name', 'segment_id',\n",
       "       'time_of_day', 'p50_mph', 'n_trips', 'p20_mph', 'p80_mph', 'name',\n",
       "       'caltrans_district', 'organization_source_record_id',\n",
       "       'organization_name', 'base64_url', 'geometry', 'n_trips_sch',\n",
       "       'trips_hr_sch', 'route_short_name'],\n",
       "      dtype='object')"
      ]
     },
     "execution_count": 18,
     "metadata": {},
     "output_type": "execute_result"
    }
   ],
   "source": [
    "speedmap_segs.columns"
   ]
  },
  {
   "cell_type": "code",
   "execution_count": 18,
   "id": "edc84eda-ce2b-481f-ac78-6b7209cb25f4",
   "metadata": {},
   "outputs": [],
   "source": [
    "#  TODO to utils\n",
    "def time_period_and_arrowize(gdf, time_period):\n",
    "    \n",
    "    gdf = gdf >> filter(_.time_of_day == time_period)\n",
    "    gdf = gdf.to_crs(calitp_data_analysis.geography_utils.CA_NAD83Albers)\n",
    "\n",
    "    ## shift to right side of road to display direction\n",
    "    gdf.geometry = gdf.geometry.apply(shared_utils.rt_utils.try_parallel)\n",
    "    gdf = gdf.apply(shared_utils.rt_utils.arrowize_by_frequency, axis=1, frequency_col='trips_hr_sch')\n",
    "\n",
    "    gdf = gdf >> arrange(_.trips_hr_sch)\n",
    "\n",
    "    return gdf"
   ]
  },
  {
   "cell_type": "code",
   "execution_count": 19,
   "id": "3a9fa4ff-51a4-4e8d-b1c1-a8568025746a",
   "metadata": {},
   "outputs": [],
   "source": [
    "time_of_day = 'AM Peak'"
   ]
  },
  {
   "cell_type": "code",
   "execution_count": 50,
   "id": "6af2c7fd-b769-4fbf-bbcf-75080972cc67",
   "metadata": {},
   "outputs": [],
   "source": [
    "period_test = time_period_and_arrowize(speedmap_segs, time_of_day)"
   ]
  },
  {
   "cell_type": "code",
   "execution_count": 51,
   "id": "cedc030e-8d19-4a0b-b3a5-5a3d6c0dce23",
   "metadata": {},
   "outputs": [],
   "source": [
    "cmap = shared_utils.rt_utils.ACCESS_ZERO_THIRTY_COLORSCALE\n",
    "url = shared_utils.rt_utils.ACCESS_SPEEDMAP_LEGEND_URL"
   ]
  },
  {
   "cell_type": "code",
   "execution_count": 52,
   "id": "b6bb6f3c-c360-4974-8e72-34d13ef267a2",
   "metadata": {},
   "outputs": [],
   "source": [
    "period_test['fast_slow_ratio'] = period_test.p80_mph / period_test.p20_mph"
   ]
  },
  {
   "cell_type": "code",
   "execution_count": 68,
   "id": "1c35a23b-8254-438a-8864-2e440598a5bd",
   "metadata": {},
   "outputs": [],
   "source": [
    "period_test.fast_slow_ratio = period_test.fast_slow_ratio.replace(np.inf, 3)"
   ]
  },
  {
   "cell_type": "code",
   "execution_count": 69,
   "id": "6a846d59-2d6b-4f22-81c7-d6acf7140232",
   "metadata": {},
   "outputs": [],
   "source": [
    "period_test = period_test.round(1)"
   ]
  },
  {
   "cell_type": "code",
   "execution_count": 70,
   "id": "87c7db4f-3da9-4ba4-915b-88432a841b39",
   "metadata": {},
   "outputs": [
    {
     "data": {
      "text/html": [
       "<div>\n",
       "<style scoped>\n",
       "    .dataframe tbody tr th:only-of-type {\n",
       "        vertical-align: middle;\n",
       "    }\n",
       "\n",
       "    .dataframe tbody tr th {\n",
       "        vertical-align: top;\n",
       "    }\n",
       "\n",
       "    .dataframe thead th {\n",
       "        text-align: right;\n",
       "    }\n",
       "</style>\n",
       "<table border=\"1\" class=\"dataframe\">\n",
       "  <thead>\n",
       "    <tr style=\"text-align: right;\">\n",
       "      <th></th>\n",
       "      <th>schedule_gtfs_dataset_key</th>\n",
       "      <th>shape_array_key</th>\n",
       "      <th>shape_id</th>\n",
       "      <th>route_id</th>\n",
       "      <th>direction_id</th>\n",
       "      <th>stop_pair</th>\n",
       "      <th>stop_pair_name</th>\n",
       "      <th>segment_id</th>\n",
       "      <th>time_of_day</th>\n",
       "      <th>p50_mph</th>\n",
       "      <th>...</th>\n",
       "      <th>name</th>\n",
       "      <th>caltrans_district</th>\n",
       "      <th>organization_source_record_id</th>\n",
       "      <th>organization_name</th>\n",
       "      <th>base64_url</th>\n",
       "      <th>geometry</th>\n",
       "      <th>n_trips_sch</th>\n",
       "      <th>trips_hr_sch</th>\n",
       "      <th>route_short_name</th>\n",
       "      <th>fast_slow_ratio</th>\n",
       "    </tr>\n",
       "  </thead>\n",
       "  <tbody>\n",
       "    <tr>\n",
       "      <th>1080</th>\n",
       "      <td>015d67d5b75b5cf2b710bbadadfb75f5</td>\n",
       "      <td>9ce7f6d9232b32ee1401935c947a1e11</td>\n",
       "      <td>3</td>\n",
       "      <td>17</td>\n",
       "      <td>0.0</td>\n",
       "      <td>40097__40095</td>\n",
       "      <td>Bridgeway &amp; Napa St__Bridgeway &amp; Easterby St</td>\n",
       "      <td>40097-40095-1</td>\n",
       "      <td>AM Peak</td>\n",
       "      <td>13.1</td>\n",
       "      <td>...</td>\n",
       "      <td>Bay Area 511 Marin Schedule</td>\n",
       "      <td>04 - Oakland</td>\n",
       "      <td>recNOb7pqBRlQVG5e</td>\n",
       "      <td>Marin County Transit District</td>\n",
       "      <td>aHR0cHM6Ly9hcGkuNTExLm9yZy90cmFuc2l0L2RhdGFmZW...</td>\n",
       "      <td>POLYGON ((-218717.778 -14345.020, -218718.216 ...</td>\n",
       "      <td>1</td>\n",
       "      <td>0.3</td>\n",
       "      <td>17</td>\n",
       "      <td>1.0</td>\n",
       "    </tr>\n",
       "    <tr>\n",
       "      <th>1081</th>\n",
       "      <td>015d67d5b75b5cf2b710bbadadfb75f5</td>\n",
       "      <td>9ce7f6d9232b32ee1401935c947a1e11</td>\n",
       "      <td>3</td>\n",
       "      <td>17</td>\n",
       "      <td>0.0</td>\n",
       "      <td>40095__40092</td>\n",
       "      <td>Bridgeway &amp; Easterby St__Bridgeway &amp; Nevada St</td>\n",
       "      <td>40095-40092-1</td>\n",
       "      <td>AM Peak</td>\n",
       "      <td>22.8</td>\n",
       "      <td>...</td>\n",
       "      <td>Bay Area 511 Marin Schedule</td>\n",
       "      <td>04 - Oakland</td>\n",
       "      <td>recNOb7pqBRlQVG5e</td>\n",
       "      <td>Marin County Transit District</td>\n",
       "      <td>aHR0cHM6Ly9hcGkuNTExLm9yZy90cmFuc2l0L2RhdGFmZW...</td>\n",
       "      <td>POLYGON ((-219100.744 -14266.315, -219102.537 ...</td>\n",
       "      <td>1</td>\n",
       "      <td>0.3</td>\n",
       "      <td>17</td>\n",
       "      <td>1.0</td>\n",
       "    </tr>\n",
       "  </tbody>\n",
       "</table>\n",
       "<p>2 rows × 23 columns</p>\n",
       "</div>"
      ],
      "text/plain": [
       "             schedule_gtfs_dataset_key                   shape_array_key  \\\n",
       "1080  015d67d5b75b5cf2b710bbadadfb75f5  9ce7f6d9232b32ee1401935c947a1e11   \n",
       "1081  015d67d5b75b5cf2b710bbadadfb75f5  9ce7f6d9232b32ee1401935c947a1e11   \n",
       "\n",
       "     shape_id route_id  direction_id     stop_pair  \\\n",
       "1080        3       17           0.0  40097__40095   \n",
       "1081        3       17           0.0  40095__40092   \n",
       "\n",
       "                                      stop_pair_name     segment_id  \\\n",
       "1080    Bridgeway & Napa St__Bridgeway & Easterby St  40097-40095-1   \n",
       "1081  Bridgeway & Easterby St__Bridgeway & Nevada St  40095-40092-1   \n",
       "\n",
       "     time_of_day  p50_mph  ...                         name  \\\n",
       "1080     AM Peak     13.1  ...  Bay Area 511 Marin Schedule   \n",
       "1081     AM Peak     22.8  ...  Bay Area 511 Marin Schedule   \n",
       "\n",
       "      caltrans_district  organization_source_record_id  \\\n",
       "1080       04 - Oakland              recNOb7pqBRlQVG5e   \n",
       "1081       04 - Oakland              recNOb7pqBRlQVG5e   \n",
       "\n",
       "                  organization_name  \\\n",
       "1080  Marin County Transit District   \n",
       "1081  Marin County Transit District   \n",
       "\n",
       "                                             base64_url  \\\n",
       "1080  aHR0cHM6Ly9hcGkuNTExLm9yZy90cmFuc2l0L2RhdGFmZW...   \n",
       "1081  aHR0cHM6Ly9hcGkuNTExLm9yZy90cmFuc2l0L2RhdGFmZW...   \n",
       "\n",
       "                                               geometry n_trips_sch  \\\n",
       "1080  POLYGON ((-218717.778 -14345.020, -218718.216 ...           1   \n",
       "1081  POLYGON ((-219100.744 -14266.315, -219102.537 ...           1   \n",
       "\n",
       "     trips_hr_sch route_short_name  fast_slow_ratio  \n",
       "1080          0.3               17              1.0  \n",
       "1081          0.3               17              1.0  \n",
       "\n",
       "[2 rows x 23 columns]"
      ]
     },
     "execution_count": 70,
     "metadata": {},
     "output_type": "execute_result"
    }
   ],
   "source": [
    "period_test >> head(2)"
   ]
  },
  {
   "cell_type": "markdown",
   "id": "4e4c26e4-afca-48e1-b9fc-53393858a414",
   "metadata": {},
   "source": [
    "## export map"
   ]
  },
  {
   "cell_type": "code",
   "execution_count": 71,
   "id": "d483e182-b36c-487e-a194-7a9e48d5b32f",
   "metadata": {},
   "outputs": [],
   "source": [
    "time_of_day_lower = time_of_day.lower().replace(' ', '_')"
   ]
  },
  {
   "cell_type": "code",
   "execution_count": 72,
   "id": "51e108ee-19f5-4266-8848-fb5ac57f5108",
   "metadata": {},
   "outputs": [
    {
     "name": "stdout",
     "output_type": "stream",
     "text": [
      "writing to calitp-map-tiles/testing/194_am_peak_new.geojson.gz\n"
     ]
    }
   ],
   "source": [
    "#  TODO clone render method from RtFilterMapper, to utils\n",
    "speedmap_state = shared_utils.rt_utils.set_state_export(\n",
    "                                    period_test, filename=f'{itp_id}_{time_of_day_lower}_new', map_type='speedmap',\n",
    "                                    color_col='p20_mph', cmap=cmap, legend_url=url,\n",
    "                                    cache_seconds=0, map_title=f'Speedmap Segs {time_of_day} {analysis_date}')"
   ]
  },
  {
   "cell_type": "code",
   "execution_count": 73,
   "id": "281c341b-c3cc-48b3-b8d1-e1a698f3d7f4",
   "metadata": {},
   "outputs": [
    {
     "data": {
      "text/plain": [
       "{'state_dict': {'name': 'null',\n",
       "  'layers': [{'name': 'Speedmap Segs AM Peak 2024-10-16',\n",
       "    'url': 'https://storage.googleapis.com/calitp-map-tiles/testing/194_am_peak_new.geojson.gz',\n",
       "    'properties': {'stroked': False,\n",
       "     'highlight_saturation_multiplier': 0.5,\n",
       "     'tooltip_speed_key': 'p20_mph'},\n",
       "    'type': 'speedmap'}],\n",
       "  'lat_lon': (37.98273520932856, -122.54536343118872),\n",
       "  'zoom': 13,\n",
       "  'legend_url': 'https://storage.googleapis.com/calitp-map-tiles/speeds_legend_color_access.svg'},\n",
       " 'spa_link': 'https://embeddable-maps.calitp.org/?state=eyJuYW1lIjogIm51bGwiLCAibGF5ZXJzIjogW3sibmFtZSI6ICJTcGVlZG1hcCBTZWdzIEFNIFBlYWsgMjAyNC0xMC0xNiIsICJ1cmwiOiAiaHR0cHM6Ly9zdG9yYWdlLmdvb2dsZWFwaXMuY29tL2NhbGl0cC1tYXAtdGlsZXMvdGVzdGluZy8xOTRfYW1fcGVha19uZXcuZ2VvanNvbi5neiIsICJwcm9wZXJ0aWVzIjogeyJzdHJva2VkIjogZmFsc2UsICJoaWdobGlnaHRfc2F0dXJhdGlvbl9tdWx0aXBsaWVyIjogMC41LCAidG9vbHRpcF9zcGVlZF9rZXkiOiAicDIwX21waCJ9LCAidHlwZSI6ICJzcGVlZG1hcCJ9XSwgImxhdF9sb24iOiBbMzcuOTgyNzM1MjA5MzI4NTYsIC0xMjIuNTQ1MzYzNDMxMTg4NzJdLCAiem9vbSI6IDEzLCAibGVnZW5kX3VybCI6ICJodHRwczovL3N0b3JhZ2UuZ29vZ2xlYXBpcy5jb20vY2FsaXRwLW1hcC10aWxlcy9zcGVlZHNfbGVnZW5kX2NvbG9yX2FjY2Vzcy5zdmcifQ=='}"
      ]
     },
     "execution_count": 73,
     "metadata": {},
     "output_type": "execute_result"
    }
   ],
   "source": [
    "speedmap_state"
   ]
  },
  {
   "cell_type": "code",
   "execution_count": 79,
   "id": "126c190b-ea97-4971-8c62-5ee2f2a36f61",
   "metadata": {},
   "outputs": [
    {
     "name": "stdout",
     "output_type": "stream",
     "text": [
      "writing to calitp-map-tiles/testing/194_am_peak_new.geojson.gz\n"
     ]
    }
   ],
   "source": [
    "#  TODO clone render method from RtFilterMapper, to utils\n",
    "new_speedmap_state = shared_utils.rt_utils.set_state_export(\n",
    "                                    period_test, filename=f'{itp_id}_{time_of_day_lower}_new', map_type='new_speedmap',\n",
    "                                    color_col='p20_mph', cmap=cmap, legend_url=url,\n",
    "                                    cache_seconds=0, map_title=f'Speedmap Segs {time_of_day} {analysis_date}')"
   ]
  },
  {
   "cell_type": "code",
   "execution_count": 75,
   "id": "cff6c1d2-0a15-41b7-a76e-e5e219340545",
   "metadata": {},
   "outputs": [
    {
     "data": {
      "text/plain": [
       "{'state_dict': {'name': 'null',\n",
       "  'layers': [{'name': 'Speedmap Segs AM Peak 2024-10-16',\n",
       "    'url': 'https://storage.googleapis.com/calitp-map-tiles/testing/194_am_peak_new.geojson.gz',\n",
       "    'properties': {'stroked': False,\n",
       "     'highlight_saturation_multiplier': 0.5,\n",
       "     'tooltip_speed_key': 'p20_mph'},\n",
       "    'type': 'new_speedmap'}],\n",
       "  'lat_lon': (37.98273520932856, -122.54536343118872),\n",
       "  'zoom': 13,\n",
       "  'legend_url': 'https://storage.googleapis.com/calitp-map-tiles/speeds_legend_color_access.svg'},\n",
       " 'spa_link': 'https://embeddable-maps.calitp.org/?state=eyJuYW1lIjogIm51bGwiLCAibGF5ZXJzIjogW3sibmFtZSI6ICJTcGVlZG1hcCBTZWdzIEFNIFBlYWsgMjAyNC0xMC0xNiIsICJ1cmwiOiAiaHR0cHM6Ly9zdG9yYWdlLmdvb2dsZWFwaXMuY29tL2NhbGl0cC1tYXAtdGlsZXMvdGVzdGluZy8xOTRfYW1fcGVha19uZXcuZ2VvanNvbi5neiIsICJwcm9wZXJ0aWVzIjogeyJzdHJva2VkIjogZmFsc2UsICJoaWdobGlnaHRfc2F0dXJhdGlvbl9tdWx0aXBsaWVyIjogMC41LCAidG9vbHRpcF9zcGVlZF9rZXkiOiAicDIwX21waCJ9LCAidHlwZSI6ICJuZXdfc3BlZWRtYXAifV0sICJsYXRfbG9uIjogWzM3Ljk4MjczNTIwOTMyODU2LCAtMTIyLjU0NTM2MzQzMTE4ODcyXSwgInpvb20iOiAxMywgImxlZ2VuZF91cmwiOiAiaHR0cHM6Ly9zdG9yYWdlLmdvb2dsZWFwaXMuY29tL2NhbGl0cC1tYXAtdGlsZXMvc3BlZWRzX2xlZ2VuZF9jb2xvcl9hY2Nlc3Muc3ZnIn0='}"
      ]
     },
     "execution_count": 75,
     "metadata": {},
     "output_type": "execute_result"
    }
   ],
   "source": [
    "new_speedmap_state"
   ]
  },
  {
   "cell_type": "code",
   "execution_count": 80,
   "id": "6cf0c367-c44f-482e-a94d-c4cecc91c43a",
   "metadata": {},
   "outputs": [
    {
     "name": "stdout",
     "output_type": "stream",
     "text": [
      "writing to calitp-map-tiles/testing/194_am_peak_new_var.geojson.gz\n"
     ]
    }
   ],
   "source": [
    "#  TODO clone render method from RtFilterMapper, to utils\n",
    "new_speedmap_state_var = shared_utils.rt_utils.set_state_export(\n",
    "                                    period_test, filename=f'{itp_id}_{time_of_day_lower}_new_var', map_type='new_speed_variation',\n",
    "                                    color_col='fast_slow_ratio', cmap=shared_utils.rt_utils.VARIANCE_FIXED_COLORSCALE,\n",
    "                                    legend_url=shared_utils.rt_utils.VARIANCE_LEGEND_URL,\n",
    "                                    cache_seconds=0, map_title=f'Speedmap Segs {time_of_day} {analysis_date}')"
   ]
  },
  {
   "cell_type": "code",
   "execution_count": 81,
   "id": "aa2c5179-3a8b-4e93-a316-b3ded6381eb8",
   "metadata": {},
   "outputs": [
    {
     "data": {
      "text/plain": [
       "{'state_dict': {'name': 'null',\n",
       "  'layers': [{'name': 'Speedmap Segs AM Peak 2024-10-16',\n",
       "    'url': 'https://storage.googleapis.com/calitp-map-tiles/testing/194_am_peak_new_var.geojson.gz',\n",
       "    'properties': {'stroked': False, 'highlight_saturation_multiplier': 0.5},\n",
       "    'type': 'new_speed_variation'}],\n",
       "  'lat_lon': (37.98273520932856, -122.54536343118872),\n",
       "  'zoom': 13,\n",
       "  'legend_url': 'https://storage.googleapis.com/calitp-map-tiles/variance_legend.svg'},\n",
       " 'spa_link': 'https://embeddable-maps.calitp.org/?state=eyJuYW1lIjogIm51bGwiLCAibGF5ZXJzIjogW3sibmFtZSI6ICJTcGVlZG1hcCBTZWdzIEFNIFBlYWsgMjAyNC0xMC0xNiIsICJ1cmwiOiAiaHR0cHM6Ly9zdG9yYWdlLmdvb2dsZWFwaXMuY29tL2NhbGl0cC1tYXAtdGlsZXMvdGVzdGluZy8xOTRfYW1fcGVha19uZXdfdmFyLmdlb2pzb24uZ3oiLCAicHJvcGVydGllcyI6IHsic3Ryb2tlZCI6IGZhbHNlLCAiaGlnaGxpZ2h0X3NhdHVyYXRpb25fbXVsdGlwbGllciI6IDAuNX0sICJ0eXBlIjogIm5ld19zcGVlZF92YXJpYXRpb24ifV0sICJsYXRfbG9uIjogWzM3Ljk4MjczNTIwOTMyODU2LCAtMTIyLjU0NTM2MzQzMTE4ODcyXSwgInpvb20iOiAxMywgImxlZ2VuZF91cmwiOiAiaHR0cHM6Ly9zdG9yYWdlLmdvb2dsZWFwaXMuY29tL2NhbGl0cC1tYXAtdGlsZXMvdmFyaWFuY2VfbGVnZW5kLnN2ZyJ9'}"
      ]
     },
     "execution_count": 81,
     "metadata": {},
     "output_type": "execute_result"
    }
   ],
   "source": [
    "new_speedmap_state_var"
   ]
  },
  {
   "cell_type": "code",
   "execution_count": 78,
   "id": "b234655e-1739-4d4a-aaca-747c5e8c3d88",
   "metadata": {},
   "outputs": [
    {
     "data": {
      "text/plain": [
       "Index(['schedule_gtfs_dataset_key', 'shape_array_key', 'shape_id', 'route_id',\n",
       "       'direction_id', 'stop_pair', 'stop_pair_name', 'segment_id',\n",
       "       'time_of_day', 'p50_mph', 'n_trips', 'p20_mph', 'p80_mph', 'name',\n",
       "       'caltrans_district', 'organization_source_record_id',\n",
       "       'organization_name', 'base64_url', 'geometry', 'n_trips_sch',\n",
       "       'trips_hr_sch', 'route_short_name', 'fast_slow_ratio'],\n",
       "      dtype='object')"
      ]
     },
     "execution_count": 78,
     "metadata": {},
     "output_type": "execute_result"
    }
   ],
   "source": [
    "period_test.columns"
   ]
  },
  {
   "cell_type": "markdown",
   "id": "04c8da94-c9e6-4261-b6e6-3cd44a4eaa5d",
   "metadata": {},
   "source": [
    "## docs!"
   ]
  },
  {
   "cell_type": "code",
   "execution_count": 28,
   "id": "464bfe77-8c1a-4a40-bd53-940b7630bf13",
   "metadata": {},
   "outputs": [],
   "source": [
    "domain = cmap.index"
   ]
  },
  {
   "cell_type": "code",
   "execution_count": 29,
   "id": "16cbe969-8d8f-44a9-b48c-8febaa336620",
   "metadata": {},
   "outputs": [],
   "source": [
    "range_ = [cmap.rgb_hex_str(i) for i in cmap.index]"
   ]
  },
  {
   "cell_type": "code",
   "execution_count": 30,
   "id": "69ab8ef9-40d7-431a-bb0b-fff8467165b7",
   "metadata": {},
   "outputs": [],
   "source": [
    "df = speedmap_segs[['time_of_day', 'p50_mph', 'p20_mph', 'p80_mph']]\n",
    "df = df >> group_by(_.time_of_day) >> summarize(p50_mph = _.p50_mph.quantile(.5),\n",
    "                                               p20_mph = _.p20_mph.quantile(.5),\n",
    "                                               p80_mph = _.p80_mph.quantile(.5),)\n",
    "df['p50 - p20'] = -(df['p50_mph'] - df['p20_mph'])\n",
    "df['p80 - p50'] = df['p80_mph'] - df['p50_mph']"
   ]
  },
  {
   "cell_type": "code",
   "execution_count": 31,
   "id": "8f0b7f7a-0150-40c1-8d3c-458955e4ba70",
   "metadata": {},
   "outputs": [],
   "source": [
    "error_bars = alt.Chart(df).mark_errorbar(thickness=5, color='gray', opacity=.6).encode(\n",
    "    y = alt.Y(\"p50_mph:Q\", title='Segment Speed (mph): 20, 50, 80%ile'),\n",
    "    yError=(\"p50 - p20:Q\"),\n",
    "    yError2=(\"p80 - p50:Q\"),\n",
    "    x = alt.X(\"time_of_day:N\", sort=['Early AM', 'AM Peak', 'Midday', 'PM Peak', 'Evening', 'Owl']),\n",
    "    tooltip=[alt.Tooltip('p20_mph:Q', title=\"p20 mph\"), alt.Tooltip('p50_mph:Q', title=\"p50 mph\"),\n",
    "            alt.Tooltip('p80_mph:Q', title=\"p80 mph\")]\n",
    ").properties(width=400)\n",
    "\n",
    "points = alt.Chart(df).mark_point(filled=True, size = 300, opacity = 1).encode(\n",
    "    alt.Y(\"p50_mph:Q\"),\n",
    "    alt.X(\"time_of_day:N\", sort=['Early AM', 'AM Peak', 'Midday', 'PM Peak', 'Evening', 'Owl'],\n",
    "         title='Time of Day'),\n",
    "    color=alt.Color('p50_mph', title='Median Segment Speed (mph)').scale(domain=domain, range = range_),\n",
    "    tooltip=[alt.Tooltip('p50_mph:Q', title=\"p50 mph\")],\n",
    ")\n",
    "\n",
    "chart = error_bars + points\n",
    "chart = chart.configure(axis = alt.AxisConfig(labelFontSize=14, titleFontSize=18),\n",
    "                       legend = alt.LegendConfig(titleFontSize=14, labelFontSize=14, titleLimit=250,\n",
    "                                                 titleOrient='left', labelOffset=100))"
   ]
  },
  {
   "cell_type": "code",
   "execution_count": 32,
   "id": "be49a590-13d0-47d9-a28c-de21729c373e",
   "metadata": {},
   "outputs": [
    {
     "data": {
      "text/html": [
       "\n",
       "<style>\n",
       "  #altair-viz-ff8b9f467bd3437295cf00c310b70947.vega-embed {\n",
       "    width: 100%;\n",
       "    display: flex;\n",
       "  }\n",
       "\n",
       "  #altair-viz-ff8b9f467bd3437295cf00c310b70947.vega-embed details,\n",
       "  #altair-viz-ff8b9f467bd3437295cf00c310b70947.vega-embed details summary {\n",
       "    position: relative;\n",
       "  }\n",
       "</style>\n",
       "<div id=\"altair-viz-ff8b9f467bd3437295cf00c310b70947\"></div>\n",
       "<script type=\"text/javascript\">\n",
       "  var VEGA_DEBUG = (typeof VEGA_DEBUG == \"undefined\") ? {} : VEGA_DEBUG;\n",
       "  (function(spec, embedOpt){\n",
       "    let outputDiv = document.currentScript.previousElementSibling;\n",
       "    if (outputDiv.id !== \"altair-viz-ff8b9f467bd3437295cf00c310b70947\") {\n",
       "      outputDiv = document.getElementById(\"altair-viz-ff8b9f467bd3437295cf00c310b70947\");\n",
       "    }\n",
       "    const paths = {\n",
       "      \"vega\": \"https://cdn.jsdelivr.net/npm/vega@5?noext\",\n",
       "      \"vega-lib\": \"https://cdn.jsdelivr.net/npm/vega-lib?noext\",\n",
       "      \"vega-lite\": \"https://cdn.jsdelivr.net/npm/vega-lite@5.17.0?noext\",\n",
       "      \"vega-embed\": \"https://cdn.jsdelivr.net/npm/vega-embed@6?noext\",\n",
       "    };\n",
       "\n",
       "    function maybeLoadScript(lib, version) {\n",
       "      var key = `${lib.replace(\"-\", \"\")}_version`;\n",
       "      return (VEGA_DEBUG[key] == version) ?\n",
       "        Promise.resolve(paths[lib]) :\n",
       "        new Promise(function(resolve, reject) {\n",
       "          var s = document.createElement('script');\n",
       "          document.getElementsByTagName(\"head\")[0].appendChild(s);\n",
       "          s.async = true;\n",
       "          s.onload = () => {\n",
       "            VEGA_DEBUG[key] = version;\n",
       "            return resolve(paths[lib]);\n",
       "          };\n",
       "          s.onerror = () => reject(`Error loading script: ${paths[lib]}`);\n",
       "          s.src = paths[lib];\n",
       "        });\n",
       "    }\n",
       "\n",
       "    function showError(err) {\n",
       "      outputDiv.innerHTML = `<div class=\"error\" style=\"color:red;\">${err}</div>`;\n",
       "      throw err;\n",
       "    }\n",
       "\n",
       "    function displayChart(vegaEmbed) {\n",
       "      vegaEmbed(outputDiv, spec, embedOpt)\n",
       "        .catch(err => showError(`Javascript Error: ${err.message}<br>This usually means there's a typo in your chart specification. See the javascript console for the full traceback.`));\n",
       "    }\n",
       "\n",
       "    if(typeof define === \"function\" && define.amd) {\n",
       "      requirejs.config({paths});\n",
       "      require([\"vega-embed\"], displayChart, err => showError(`Error loading script: ${err.message}`));\n",
       "    } else {\n",
       "      maybeLoadScript(\"vega\", \"5\")\n",
       "        .then(() => maybeLoadScript(\"vega-lite\", \"5.17.0\"))\n",
       "        .then(() => maybeLoadScript(\"vega-embed\", \"6\"))\n",
       "        .catch(showError)\n",
       "        .then(() => displayChart(vegaEmbed));\n",
       "    }\n",
       "  })({\"config\": {\"view\": {\"continuousWidth\": 300, \"continuousHeight\": 300}, \"axis\": {\"labelFontSize\": 14, \"titleFontSize\": 18}, \"legend\": {\"labelFontSize\": 14, \"labelOffset\": 100, \"titleFontSize\": 14, \"titleLimit\": 250, \"titleOrient\": \"left\"}}, \"layer\": [{\"mark\": {\"type\": \"errorbar\", \"color\": \"gray\", \"opacity\": 0.6, \"thickness\": 5}, \"encoding\": {\"tooltip\": [{\"field\": \"p20_mph\", \"title\": \"p20 mph\", \"type\": \"quantitative\"}, {\"field\": \"p50_mph\", \"title\": \"p50 mph\", \"type\": \"quantitative\"}, {\"field\": \"p80_mph\", \"title\": \"p80 mph\", \"type\": \"quantitative\"}], \"x\": {\"field\": \"time_of_day\", \"sort\": [\"Early AM\", \"AM Peak\", \"Midday\", \"PM Peak\", \"Evening\", \"Owl\"], \"type\": \"nominal\"}, \"y\": {\"field\": \"p50_mph\", \"title\": \"Segment Speed (mph): 20, 50, 80%ile\", \"type\": \"quantitative\"}, \"yError\": {\"field\": \"p50 - p20\"}, \"yError2\": {\"field\": \"p80 - p50\"}}}, {\"mark\": {\"type\": \"point\", \"filled\": true, \"opacity\": 1, \"size\": 300}, \"encoding\": {\"color\": {\"field\": \"p50_mph\", \"scale\": {\"domain\": [0.0, 3.0, 6.0, 9.0, 12.0, 15.0, 18.0, 21.0, 24.0, 27.0, 30.0], \"range\": [\"#67001f\", \"#67001f\", \"#b2182b\", \"#d6604d\", \"#f4a582\", \"#fddbc7\", \"#d1e5f0\", \"#92c5de\", \"#4393c3\", \"#2166ac\", \"#053061\"]}, \"title\": \"Median Segment Speed (mph)\", \"type\": \"quantitative\"}, \"tooltip\": [{\"field\": \"p50_mph\", \"title\": \"p50 mph\", \"type\": \"quantitative\"}], \"x\": {\"field\": \"time_of_day\", \"sort\": [\"Early AM\", \"AM Peak\", \"Midday\", \"PM Peak\", \"Evening\", \"Owl\"], \"title\": \"Time of Day\", \"type\": \"nominal\"}, \"y\": {\"field\": \"p50_mph\", \"type\": \"quantitative\"}}}], \"data\": {\"name\": \"data-9375c9e42e8d9895bedbc7535cbb6af2\"}, \"width\": 400, \"$schema\": \"https://vega.github.io/schema/vega-lite/v5.17.0.json\", \"datasets\": {\"data-9375c9e42e8d9895bedbc7535cbb6af2\": [{\"time_of_day\": \"AM Peak\", \"p50_mph\": 17.59, \"p20_mph\": 15.16, \"p80_mph\": 19.75, \"p50 - p20\": -2.4299999999999997, \"p80 - p50\": 2.16}, {\"time_of_day\": \"Early AM\", \"p50_mph\": 21.325, \"p20_mph\": 20.585, \"p80_mph\": 21.725, \"p50 - p20\": -0.7399999999999984, \"p80 - p50\": 0.40000000000000213}, {\"time_of_day\": \"Evening\", \"p50_mph\": 20.495, \"p20_mph\": 19.835, \"p80_mph\": 21.07, \"p50 - p20\": -0.6600000000000001, \"p80 - p50\": 0.5749999999999993}, {\"time_of_day\": \"Midday\", \"p50_mph\": 18.53, \"p20_mph\": 15.95, \"p80_mph\": 21.3, \"p50 - p20\": -2.580000000000002, \"p80 - p50\": 2.7699999999999996}, {\"time_of_day\": \"Owl\", \"p50_mph\": 39.21, \"p20_mph\": 38.57, \"p80_mph\": 40.22, \"p50 - p20\": -0.6400000000000006, \"p80 - p50\": 1.009999999999998}, {\"time_of_day\": \"PM Peak\", \"p50_mph\": 17.85, \"p20_mph\": 15.38, \"p80_mph\": 20.645, \"p50 - p20\": -2.4700000000000006, \"p80 - p50\": 2.794999999999998}]}}, {\"mode\": \"vega-lite\"});\n",
       "</script>"
      ],
      "text/plain": [
       "alt.LayerChart(...)"
      ]
     },
     "execution_count": 32,
     "metadata": {},
     "output_type": "execute_result"
    }
   ],
   "source": [
    "chart"
   ]
  }
 ],
 "metadata": {
  "kernelspec": {
   "display_name": "Python 3 (ipykernel)",
   "language": "python",
   "name": "python3"
  },
  "language_info": {
   "codemirror_mode": {
    "name": "ipython",
    "version": 3
   },
   "file_extension": ".py",
   "mimetype": "text/x-python",
   "name": "python",
   "nbconvert_exporter": "python",
   "pygments_lexer": "ipython3",
   "version": "3.9.13"
  },
  "widgets": {
   "application/vnd.jupyter.widget-state+json": {
    "state": {},
    "version_major": 2,
    "version_minor": 0
   }
  }
 },
 "nbformat": 4,
 "nbformat_minor": 5
}
