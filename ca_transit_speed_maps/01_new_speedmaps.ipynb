{
 "cells": [
  {
   "cell_type": "code",
   "execution_count": 26,
   "id": "46898b5c-b5cc-4096-ab68-8c3e42fab870",
   "metadata": {},
   "outputs": [],
   "source": [
    "%%capture\n",
    "import warnings\n",
    "warnings.filterwarnings('ignore')\n",
    "\n",
    "import calitp_data_analysis.magics\n",
    "from calitp_data_analysis import calitp_color_palette\n",
    "\n",
    "# from rt_analysis import rt_filter_map_plot\n",
    "import build_speedmaps_index\n",
    "\n",
    "from IPython.display import display, Markdown\n",
    "import pandas as pd\n",
    "import geopandas as gpd\n",
    "from siuba import *\n",
    "\n",
    "import shared_utils\n",
    "import segment_speed_utils\n",
    "\n",
    "import altair as alt"
   ]
  },
  {
   "cell_type": "code",
   "execution_count": 2,
   "id": "cf3d8814-6f22-4a22-8b03-429ebb63a397",
   "metadata": {},
   "outputs": [],
   "source": [
    "catalog = shared_utils.catalog_utils.get_catalog('gtfs_analytics_data')"
   ]
  },
  {
   "cell_type": "code",
   "execution_count": 13,
   "id": "9f15ed6a-5ab7-4f57-9695-3f762781b74c",
   "metadata": {
    "tags": [
     "parameters"
    ]
   },
   "outputs": [],
   "source": [
    "## parameters cell\n",
    "itp_id = 87"
   ]
  },
  {
   "cell_type": "code",
   "execution_count": 14,
   "id": "a639fd84-29ca-4678-b568-2b1022701e14",
   "metadata": {},
   "outputs": [],
   "source": [
    "analysis_date = build_speedmaps_index.ANALYSIS_DATE\n",
    "import datetime as dt"
   ]
  },
  {
   "cell_type": "code",
   "execution_count": 15,
   "id": "b4e52208-fedd-41e7-9888-b62212ff69e5",
   "metadata": {},
   "outputs": [],
   "source": [
    "# speedmap_index = pd.read_parquet(f'_rt_progress_{analysis_date}.parquet')"
   ]
  },
  {
   "cell_type": "code",
   "execution_count": 16,
   "id": "eea40f4b-c378-4b70-a80b-bbe79f8441bf",
   "metadata": {
    "tags": []
   },
   "outputs": [],
   "source": [
    "speedmap_index = pd.read_parquet(f'_rt_progress_{analysis_date}.parquet') >> filter(_.organization_itp_id == itp_id)"
   ]
  },
  {
   "cell_type": "code",
   "execution_count": 17,
   "id": "1b9762c8-0235-4d8f-b7a4-20a3213eb45e",
   "metadata": {},
   "outputs": [],
   "source": [
    "path = f'{catalog.speedmap_segments.dir}{catalog.speedmap_segments.shape_stop_single_segment_detail}_{analysis_date}.parquet'"
   ]
  },
  {
   "cell_type": "code",
   "execution_count": 18,
   "id": "9302c0ad-1201-4c5a-8267-ec52719cf777",
   "metadata": {},
   "outputs": [],
   "source": [
    "speedmap_segs = gpd.read_parquet(path) #  aggregated"
   ]
  },
  {
   "cell_type": "code",
   "execution_count": 19,
   "id": "9f3c4c93-a5f5-40d7-9315-63e4fecbd738",
   "metadata": {},
   "outputs": [],
   "source": [
    "speedmap_segs = speedmap_segs >> filter(_.schedule_gtfs_dataset_key == speedmap_index.schedule_gtfs_dataset_key.iloc[0])"
   ]
  },
  {
   "cell_type": "code",
   "execution_count": 20,
   "id": "edc84eda-ce2b-481f-ac78-6b7209cb25f4",
   "metadata": {},
   "outputs": [],
   "source": [
    "#  TODO to utils\n",
    "def time_period_and_arrowize(gdf, time_period):\n",
    "    \n",
    "    gdf = gdf >> filter(_.time_of_day == time_period)\n",
    "    gdf = gdf.to_crs(calitp_data_analysis.geography_utils.CA_NAD83Albers)\n",
    "\n",
    "    ## shift to right side of road to display direction\n",
    "    gdf.geometry = gdf.geometry.apply(shared_utils.rt_utils.try_parallel)\n",
    "    gdf = gdf.apply(shared_utils.rt_utils.arrowize_by_frequency, axis=1, frequency_col='trips_hr_sch')\n",
    "\n",
    "    gdf = gdf >> arrange(_.trips_hr_sch)\n",
    "\n",
    "    return gdf"
   ]
  },
  {
   "cell_type": "code",
   "execution_count": 21,
   "id": "6af2c7fd-b769-4fbf-bbcf-75080972cc67",
   "metadata": {},
   "outputs": [],
   "source": [
    "peak_test = time_period_and_arrowize(speedmap_segs, 'AM Peak')"
   ]
  },
  {
   "cell_type": "code",
   "execution_count": 22,
   "id": "cedc030e-8d19-4a0b-b3a5-5a3d6c0dce23",
   "metadata": {},
   "outputs": [],
   "source": [
    "cmap = shared_utils.rt_utils.ACCESS_ZERO_THIRTY_COLORSCALE\n",
    "url = shared_utils.rt_utils.ACCESS_SPEEDMAP_LEGEND_URL"
   ]
  },
  {
   "cell_type": "code",
   "execution_count": 23,
   "id": "87c7db4f-3da9-4ba4-915b-88432a841b39",
   "metadata": {},
   "outputs": [
    {
     "data": {
      "text/html": [
       "<div>\n",
       "<style scoped>\n",
       "    .dataframe tbody tr th:only-of-type {\n",
       "        vertical-align: middle;\n",
       "    }\n",
       "\n",
       "    .dataframe tbody tr th {\n",
       "        vertical-align: top;\n",
       "    }\n",
       "\n",
       "    .dataframe thead th {\n",
       "        text-align: right;\n",
       "    }\n",
       "</style>\n",
       "<table border=\"1\" class=\"dataframe\">\n",
       "  <thead>\n",
       "    <tr style=\"text-align: right;\">\n",
       "      <th></th>\n",
       "      <th>schedule_gtfs_dataset_key</th>\n",
       "      <th>shape_array_key</th>\n",
       "      <th>shape_id</th>\n",
       "      <th>route_id</th>\n",
       "      <th>direction_id</th>\n",
       "      <th>stop_pair</th>\n",
       "      <th>stop_pair_name</th>\n",
       "      <th>segment_id</th>\n",
       "      <th>time_of_day</th>\n",
       "      <th>p50_mph</th>\n",
       "      <th>...</th>\n",
       "      <th>p80_mph</th>\n",
       "      <th>name</th>\n",
       "      <th>caltrans_district</th>\n",
       "      <th>organization_source_record_id</th>\n",
       "      <th>organization_name</th>\n",
       "      <th>base64_url</th>\n",
       "      <th>geometry</th>\n",
       "      <th>n_trips_sch</th>\n",
       "      <th>trips_hr_sch</th>\n",
       "      <th>route_short_name</th>\n",
       "    </tr>\n",
       "  </thead>\n",
       "  <tbody>\n",
       "    <tr>\n",
       "      <th>570445</th>\n",
       "      <td>cf0f7df88da36cd9ca4248eb1d6a0f39</td>\n",
       "      <td>e1bff90163e0598466fb41083a3088c6</td>\n",
       "      <td>shp-6-14</td>\n",
       "      <td>6</td>\n",
       "      <td>1.0</td>\n",
       "      <td>598__599</td>\n",
       "      <td>Sepulveda Blvd/Washington Pl__Sepulveda Blvd/V...</td>\n",
       "      <td>598-599-1</td>\n",
       "      <td>AM Peak</td>\n",
       "      <td>6.66</td>\n",
       "      <td>...</td>\n",
       "      <td>6.66</td>\n",
       "      <td>Culver City Schedule</td>\n",
       "      <td>07 - Los Angeles</td>\n",
       "      <td>rec5ome04BbA9uf4y</td>\n",
       "      <td>City of Culver City</td>\n",
       "      <td>aHR0cHM6Ly93d3cuY3VsdmVyY2l0eS5vcmcvZmlsZXMvYX...</td>\n",
       "      <td>POLYGON ((146274.764 -443604.993, 146274.090 -...</td>\n",
       "      <td>1</td>\n",
       "      <td>0.333333</td>\n",
       "      <td>CC 6</td>\n",
       "    </tr>\n",
       "    <tr>\n",
       "      <th>570446</th>\n",
       "      <td>cf0f7df88da36cd9ca4248eb1d6a0f39</td>\n",
       "      <td>e1bff90163e0598466fb41083a3088c6</td>\n",
       "      <td>shp-6-14</td>\n",
       "      <td>6</td>\n",
       "      <td>1.0</td>\n",
       "      <td>599__600</td>\n",
       "      <td>Sepulveda Blvd/Venice Blvd__Sepulveda Blvd/Cha...</td>\n",
       "      <td>599-600-1</td>\n",
       "      <td>AM Peak</td>\n",
       "      <td>11.64</td>\n",
       "      <td>...</td>\n",
       "      <td>11.64</td>\n",
       "      <td>Culver City Schedule</td>\n",
       "      <td>07 - Los Angeles</td>\n",
       "      <td>rec5ome04BbA9uf4y</td>\n",
       "      <td>City of Culver City</td>\n",
       "      <td>aHR0cHM6Ly93d3cuY3VsdmVyY2l0eS5vcmcvZmlsZXMvYX...</td>\n",
       "      <td>POLYGON ((146229.212 -443533.121, 146228.278 -...</td>\n",
       "      <td>1</td>\n",
       "      <td>0.333333</td>\n",
       "      <td>CC 6</td>\n",
       "    </tr>\n",
       "  </tbody>\n",
       "</table>\n",
       "<p>2 rows × 22 columns</p>\n",
       "</div>"
      ],
      "text/plain": [
       "               schedule_gtfs_dataset_key                   shape_array_key  \\\n",
       "570445  cf0f7df88da36cd9ca4248eb1d6a0f39  e1bff90163e0598466fb41083a3088c6   \n",
       "570446  cf0f7df88da36cd9ca4248eb1d6a0f39  e1bff90163e0598466fb41083a3088c6   \n",
       "\n",
       "        shape_id route_id  direction_id stop_pair  \\\n",
       "570445  shp-6-14        6           1.0  598__599   \n",
       "570446  shp-6-14        6           1.0  599__600   \n",
       "\n",
       "                                           stop_pair_name segment_id  \\\n",
       "570445  Sepulveda Blvd/Washington Pl__Sepulveda Blvd/V...  598-599-1   \n",
       "570446  Sepulveda Blvd/Venice Blvd__Sepulveda Blvd/Cha...  599-600-1   \n",
       "\n",
       "       time_of_day  p50_mph  ...  p80_mph                  name  \\\n",
       "570445     AM Peak     6.66  ...     6.66  Culver City Schedule   \n",
       "570446     AM Peak    11.64  ...    11.64  Culver City Schedule   \n",
       "\n",
       "        caltrans_district organization_source_record_id    organization_name  \\\n",
       "570445   07 - Los Angeles             rec5ome04BbA9uf4y  City of Culver City   \n",
       "570446   07 - Los Angeles             rec5ome04BbA9uf4y  City of Culver City   \n",
       "\n",
       "                                               base64_url  \\\n",
       "570445  aHR0cHM6Ly93d3cuY3VsdmVyY2l0eS5vcmcvZmlsZXMvYX...   \n",
       "570446  aHR0cHM6Ly93d3cuY3VsdmVyY2l0eS5vcmcvZmlsZXMvYX...   \n",
       "\n",
       "                                                 geometry n_trips_sch  \\\n",
       "570445  POLYGON ((146274.764 -443604.993, 146274.090 -...           1   \n",
       "570446  POLYGON ((146229.212 -443533.121, 146228.278 -...           1   \n",
       "\n",
       "       trips_hr_sch  route_short_name  \n",
       "570445     0.333333              CC 6  \n",
       "570446     0.333333              CC 6  \n",
       "\n",
       "[2 rows x 22 columns]"
      ]
     },
     "execution_count": 23,
     "metadata": {},
     "output_type": "execute_result"
    }
   ],
   "source": [
    "peak_test >> head(2)"
   ]
  },
  {
   "cell_type": "markdown",
   "id": "4e4c26e4-afca-48e1-b9fc-53393858a414",
   "metadata": {},
   "source": [
    "## export map"
   ]
  },
  {
   "cell_type": "code",
   "execution_count": 24,
   "id": "d483e182-b36c-487e-a194-7a9e48d5b32f",
   "metadata": {},
   "outputs": [
    {
     "ename": "NameError",
     "evalue": "name 'time_of_day' is not defined",
     "output_type": "error",
     "traceback": [
      "\u001b[0;31m---------------------------------------------------------------------------\u001b[0m",
      "\u001b[0;31mNameError\u001b[0m                                 Traceback (most recent call last)",
      "Cell \u001b[0;32mIn[24], line 1\u001b[0m\n\u001b[0;32m----> 1\u001b[0m time_of_day_lower \u001b[38;5;241m=\u001b[39m \u001b[43mtime_of_day\u001b[49m\u001b[38;5;241m.\u001b[39mlower()\u001b[38;5;241m.\u001b[39mreplace(\u001b[38;5;124m'\u001b[39m\u001b[38;5;124m \u001b[39m\u001b[38;5;124m'\u001b[39m, \u001b[38;5;124m'\u001b[39m\u001b[38;5;124m_\u001b[39m\u001b[38;5;124m'\u001b[39m)\n",
      "\u001b[0;31mNameError\u001b[0m: name 'time_of_day' is not defined"
     ]
    }
   ],
   "source": [
    "time_of_day_lower = time_of_day.lower().replace(' ', '_')"
   ]
  },
  {
   "cell_type": "code",
   "execution_count": null,
   "id": "51e108ee-19f5-4266-8848-fb5ac57f5108",
   "metadata": {},
   "outputs": [],
   "source": [
    "#  TODO clone render method from RtFilterMapper, to utils\n",
    "speedmap_state = shared_utils.rt_utils.set_state_export(\n",
    "                                    period_test, filename=f'{itp_id}_{time_of_day_lower}_new', map_type='speedmap',\n",
    "                                    color_col='p20_mph', cmap=cmap, legend_url=url,\n",
    "                                    cache_seconds=0, map_title=f'Speedmap Segs {time_of_day} {analysis_date}')"
   ]
  },
  {
   "cell_type": "markdown",
   "id": "04c8da94-c9e6-4261-b6e6-3cd44a4eaa5d",
   "metadata": {},
   "source": [
    "## docs!"
   ]
  },
  {
   "cell_type": "code",
   "execution_count": 48,
   "id": "464bfe77-8c1a-4a40-bd53-940b7630bf13",
   "metadata": {},
   "outputs": [],
   "source": [
    "domain = cmap.index"
   ]
  },
  {
   "cell_type": "code",
   "execution_count": 54,
   "id": "16cbe969-8d8f-44a9-b48c-8febaa336620",
   "metadata": {},
   "outputs": [],
   "source": [
    "range_ = [cmap.rgb_hex_str(i) for i in cmap.index]"
   ]
  },
  {
   "cell_type": "code",
   "execution_count": 49,
   "id": "9b0c195e-9425-4194-ab8a-235ab3ea1f30",
   "metadata": {},
   "outputs": [],
   "source": [
    "range_ = cmap.colors"
   ]
  },
  {
   "cell_type": "code",
   "execution_count": 137,
   "id": "69ab8ef9-40d7-431a-bb0b-fff8467165b7",
   "metadata": {},
   "outputs": [],
   "source": [
    "df = speedmap_segs[['time_of_day', 'p50_mph', 'p20_mph', 'p80_mph']]\n",
    "df = df >> group_by(_.time_of_day) >> summarize(p50_mph = _.p50_mph.quantile(.5),\n",
    "                                               p20_mph = _.p20_mph.quantile(.5),\n",
    "                                               p80_mph = _.p80_mph.quantile(.5),)\n",
    "df['p50 - p20'] = -(df['p50_mph'] - df['p20_mph'])\n",
    "df['p80 - p50'] = df['p80_mph'] - df['p50_mph']"
   ]
  },
  {
   "cell_type": "code",
   "execution_count": 138,
   "id": "6d2ccae7-a8b6-4e44-9095-17e4e416ea29",
   "metadata": {},
   "outputs": [
    {
     "data": {
      "text/html": [
       "\n",
       "<style>\n",
       "  #altair-viz-ea528b2db51f436aac609d4e6cf62c65.vega-embed {\n",
       "    width: 100%;\n",
       "    display: flex;\n",
       "  }\n",
       "\n",
       "  #altair-viz-ea528b2db51f436aac609d4e6cf62c65.vega-embed details,\n",
       "  #altair-viz-ea528b2db51f436aac609d4e6cf62c65.vega-embed details summary {\n",
       "    position: relative;\n",
       "  }\n",
       "</style>\n",
       "<div id=\"altair-viz-ea528b2db51f436aac609d4e6cf62c65\"></div>\n",
       "<script type=\"text/javascript\">\n",
       "  var VEGA_DEBUG = (typeof VEGA_DEBUG == \"undefined\") ? {} : VEGA_DEBUG;\n",
       "  (function(spec, embedOpt){\n",
       "    let outputDiv = document.currentScript.previousElementSibling;\n",
       "    if (outputDiv.id !== \"altair-viz-ea528b2db51f436aac609d4e6cf62c65\") {\n",
       "      outputDiv = document.getElementById(\"altair-viz-ea528b2db51f436aac609d4e6cf62c65\");\n",
       "    }\n",
       "    const paths = {\n",
       "      \"vega\": \"https://cdn.jsdelivr.net/npm/vega@5?noext\",\n",
       "      \"vega-lib\": \"https://cdn.jsdelivr.net/npm/vega-lib?noext\",\n",
       "      \"vega-lite\": \"https://cdn.jsdelivr.net/npm/vega-lite@5.17.0?noext\",\n",
       "      \"vega-embed\": \"https://cdn.jsdelivr.net/npm/vega-embed@6?noext\",\n",
       "    };\n",
       "\n",
       "    function maybeLoadScript(lib, version) {\n",
       "      var key = `${lib.replace(\"-\", \"\")}_version`;\n",
       "      return (VEGA_DEBUG[key] == version) ?\n",
       "        Promise.resolve(paths[lib]) :\n",
       "        new Promise(function(resolve, reject) {\n",
       "          var s = document.createElement('script');\n",
       "          document.getElementsByTagName(\"head\")[0].appendChild(s);\n",
       "          s.async = true;\n",
       "          s.onload = () => {\n",
       "            VEGA_DEBUG[key] = version;\n",
       "            return resolve(paths[lib]);\n",
       "          };\n",
       "          s.onerror = () => reject(`Error loading script: ${paths[lib]}`);\n",
       "          s.src = paths[lib];\n",
       "        });\n",
       "    }\n",
       "\n",
       "    function showError(err) {\n",
       "      outputDiv.innerHTML = `<div class=\"error\" style=\"color:red;\">${err}</div>`;\n",
       "      throw err;\n",
       "    }\n",
       "\n",
       "    function displayChart(vegaEmbed) {\n",
       "      vegaEmbed(outputDiv, spec, embedOpt)\n",
       "        .catch(err => showError(`Javascript Error: ${err.message}<br>This usually means there's a typo in your chart specification. See the javascript console for the full traceback.`));\n",
       "    }\n",
       "\n",
       "    if(typeof define === \"function\" && define.amd) {\n",
       "      requirejs.config({paths});\n",
       "      require([\"vega-embed\"], displayChart, err => showError(`Error loading script: ${err.message}`));\n",
       "    } else {\n",
       "      maybeLoadScript(\"vega\", \"5\")\n",
       "        .then(() => maybeLoadScript(\"vega-lite\", \"5.17.0\"))\n",
       "        .then(() => maybeLoadScript(\"vega-embed\", \"6\"))\n",
       "        .catch(showError)\n",
       "        .then(() => displayChart(vegaEmbed));\n",
       "    }\n",
       "  })({\"config\": {\"view\": {\"continuousWidth\": 300, \"continuousHeight\": 300}, \"axis\": {\"labelFontSize\": 14, \"titleFontSize\": 18}, \"legend\": {\"labelFontSize\": 14, \"labelOffset\": 100, \"titleFontSize\": 14, \"titleLimit\": 250, \"titleOrient\": \"left\"}}, \"layer\": [{\"mark\": {\"type\": \"errorbar\", \"color\": \"gray\", \"opacity\": 0.6, \"thickness\": 5}, \"encoding\": {\"tooltip\": [{\"field\": \"p20_mph\", \"title\": \"p20 mph\", \"type\": \"quantitative\"}, {\"field\": \"p50_mph\", \"title\": \"p50 mph\", \"type\": \"quantitative\"}, {\"field\": \"p80_mph\", \"title\": \"p80 mph\", \"type\": \"quantitative\"}], \"x\": {\"field\": \"time_of_day\", \"sort\": [\"Early AM\", \"AM Peak\", \"Midday\", \"PM Peak\", \"Evening\", \"Owl\"], \"type\": \"nominal\"}, \"y\": {\"field\": \"p50_mph\", \"scale\": {\"zero\": false}, \"title\": \"Segment Speed: 20, 50, 80%ile\", \"type\": \"quantitative\"}, \"yError\": {\"field\": \"p50 - p20\"}, \"yError2\": {\"field\": \"p80 - p50\"}}}, {\"mark\": {\"type\": \"point\", \"filled\": true, \"opacity\": 1, \"size\": 150}, \"encoding\": {\"color\": {\"field\": \"p50_mph\", \"scale\": {\"domain\": [0.0, 3.0, 6.0, 9.0, 12.0, 15.0, 18.0, 21.0, 24.0, 27.0, 30.0], \"range\": [\"#67001f\", \"#67001f\", \"#b2182b\", \"#d6604d\", \"#f4a582\", \"#fddbc7\", \"#d1e5f0\", \"#92c5de\", \"#4393c3\", \"#2166ac\", \"#053061\"]}, \"title\": \"Median Segment Speed (mph)\", \"type\": \"quantitative\"}, \"tooltip\": [{\"field\": \"p50_mph\", \"title\": \"p50 mph\", \"type\": \"quantitative\"}], \"x\": {\"field\": \"time_of_day\", \"sort\": [\"Early AM\", \"AM Peak\", \"Midday\", \"PM Peak\", \"Evening\", \"Owl\"], \"title\": \"Time of Day\", \"type\": \"nominal\"}, \"y\": {\"field\": \"p50_mph\", \"type\": \"quantitative\"}}}], \"data\": {\"name\": \"data-7c56249ddbdedf40c46356c7cc111df2\"}, \"width\": 400, \"$schema\": \"https://vega.github.io/schema/vega-lite/v5.17.0.json\", \"datasets\": {\"data-7c56249ddbdedf40c46356c7cc111df2\": [{\"time_of_day\": \"AM Peak\", \"p50_mph\": 13.205, \"p20_mph\": 11.08, \"p80_mph\": 16.61, \"p50 - p20\": -2.125, \"p80 - p50\": 3.4049999999999994}, {\"time_of_day\": \"Early AM\", \"p50_mph\": 17.115, \"p20_mph\": 15.51, \"p80_mph\": 18.835, \"p50 - p20\": -1.6049999999999986, \"p80 - p50\": 1.7200000000000024}, {\"time_of_day\": \"Evening\", \"p50_mph\": 16.84, \"p20_mph\": 14.64, \"p80_mph\": 19.9, \"p50 - p20\": -2.1999999999999993, \"p80 - p50\": 3.0599999999999987}, {\"time_of_day\": \"Midday\", \"p50_mph\": 13.79, \"p20_mph\": 11.26, \"p80_mph\": 17.23, \"p50 - p20\": -2.5299999999999994, \"p80 - p50\": 3.4400000000000013}, {\"time_of_day\": \"PM Peak\", \"p50_mph\": 12.535, \"p20_mph\": 10.65, \"p80_mph\": 15.84, \"p50 - p20\": -1.8849999999999998, \"p80 - p50\": 3.3049999999999997}]}}, {\"mode\": \"vega-lite\"});\n",
       "</script>"
      ],
      "text/plain": [
       "alt.LayerChart(...)"
      ]
     },
     "execution_count": 138,
     "metadata": {},
     "output_type": "execute_result"
    }
   ],
   "source": [
    "error_bars = alt.Chart(df).mark_errorbar(thickness=5, color='gray', opacity=.6).encode(\n",
    "    y = alt.Y(\"p50_mph:Q\", title='Segment Speed: 20, 50, 80%ile').scale(zero=False),\n",
    "    yError=(\"p50 - p20:Q\"),\n",
    "    yError2=(\"p80 - p50:Q\"),\n",
    "    x = alt.X(\"time_of_day:N\", sort=['Early AM', 'AM Peak', 'Midday', 'PM Peak', 'Evening', 'Owl']),\n",
    "    tooltip=[alt.Tooltip('p20_mph:Q', title=\"p20 mph\"), alt.Tooltip('p50_mph:Q', title=\"p50 mph\"),\n",
    "            alt.Tooltip('p80_mph:Q', title=\"p80 mph\")]\n",
    ").properties(width=400)\n",
    "\n",
    "points = alt.Chart(df).mark_point(filled=True, size = 150, opacity = 1).encode(\n",
    "    alt.Y(\"p50_mph:Q\"),\n",
    "    alt.X(\"time_of_day:N\", sort=['Early AM', 'AM Peak', 'Midday', 'PM Peak', 'Evening', 'Owl'],\n",
    "         title='Time of Day'),\n",
    "    color=alt.Color('p50_mph', title='Median Segment Speed (mph)').scale(domain=domain, range = range_),\n",
    "    tooltip=[alt.Tooltip('p50_mph:Q', title=\"p50 mph\")],\n",
    ")\n",
    "\n",
    "chart = error_bars + points\n",
    "chart = chart.configure(axis = alt.AxisConfig(labelFontSize=14, titleFontSize=18),\n",
    "                       legend = alt.LegendConfig(titleFontSize=14, labelFontSize=14, titleLimit=250,\n",
    "                                                 titleOrient='left', labelOffset=100))\n",
    "chart"
   ]
  },
  {
   "cell_type": "code",
   "execution_count": 122,
   "id": "210b0d9c-c3ad-479f-8c94-71c9c06378d9",
   "metadata": {},
   "outputs": [
    {
     "data": {
      "text/plain": [
       "Undefined"
      ]
     },
     "execution_count": 122,
     "metadata": {},
     "output_type": "execute_result"
    }
   ],
   "source": [
    "error_bars"
   ]
  },
  {
   "cell_type": "code",
   "execution_count": 120,
   "id": "ac1214aa-1691-499b-ba52-0d576a2ac30b",
   "metadata": {},
   "outputs": [
    {
     "data": {
      "text/plain": [
       "['__add__',\n",
       " '__and__',\n",
       " '__annotations__',\n",
       " '__class__',\n",
       " '__delattr__',\n",
       " '__dict__',\n",
       " '__dir__',\n",
       " '__doc__',\n",
       " '__eq__',\n",
       " '__format__',\n",
       " '__ge__',\n",
       " '__getattr__',\n",
       " '__getattribute__',\n",
       " '__getitem__',\n",
       " '__gt__',\n",
       " '__hash__',\n",
       " '__init__',\n",
       " '__init_subclass__',\n",
       " '__le__',\n",
       " '__lt__',\n",
       " '__module__',\n",
       " '__ne__',\n",
       " '__new__',\n",
       " '__or__',\n",
       " '__reduce__',\n",
       " '__reduce_ex__',\n",
       " '__repr__',\n",
       " '__setattr__',\n",
       " '__setitem__',\n",
       " '__sizeof__',\n",
       " '__str__',\n",
       " '__subclasshook__',\n",
       " '__weakref__',\n",
       " '_add_transform',\n",
       " '_args',\n",
       " '_class_is_valid_at_instantiation',\n",
       " '_counter',\n",
       " '_default_wrapper_classes',\n",
       " '_get',\n",
       " '_get_name',\n",
       " '_kwds',\n",
       " '_repr_mimebundle_',\n",
       " '_rootschema',\n",
       " '_schema',\n",
       " '_set_resolve',\n",
       " 'add_params',\n",
       " 'add_selection',\n",
       " 'align',\n",
       " 'autosize',\n",
       " 'background',\n",
       " 'bounds',\n",
       " 'center',\n",
       " 'config',\n",
       " 'configure',\n",
       " 'configure_arc',\n",
       " 'configure_area',\n",
       " 'configure_axis',\n",
       " 'configure_axisBand',\n",
       " 'configure_axisBottom',\n",
       " 'configure_axisDiscrete',\n",
       " 'configure_axisLeft',\n",
       " 'configure_axisPoint',\n",
       " 'configure_axisQuantitative',\n",
       " 'configure_axisRight',\n",
       " 'configure_axisTemporal',\n",
       " 'configure_axisTop',\n",
       " 'configure_axisX',\n",
       " 'configure_axisXBand',\n",
       " 'configure_axisXDiscrete',\n",
       " 'configure_axisXPoint',\n",
       " 'configure_axisXQuantitative',\n",
       " 'configure_axisXTemporal',\n",
       " 'configure_axisY',\n",
       " 'configure_axisYBand',\n",
       " 'configure_axisYDiscrete',\n",
       " 'configure_axisYPoint',\n",
       " 'configure_axisYQuantitative',\n",
       " 'configure_axisYTemporal',\n",
       " 'configure_bar',\n",
       " 'configure_boxplot',\n",
       " 'configure_circle',\n",
       " 'configure_concat',\n",
       " 'configure_errorband',\n",
       " 'configure_errorbar',\n",
       " 'configure_facet',\n",
       " 'configure_geoshape',\n",
       " 'configure_header',\n",
       " 'configure_headerColumn',\n",
       " 'configure_headerFacet',\n",
       " 'configure_headerRow',\n",
       " 'configure_image',\n",
       " 'configure_legend',\n",
       " 'configure_line',\n",
       " 'configure_mark',\n",
       " 'configure_point',\n",
       " 'configure_projection',\n",
       " 'configure_range',\n",
       " 'configure_rect',\n",
       " 'configure_rule',\n",
       " 'configure_scale',\n",
       " 'configure_selection',\n",
       " 'configure_square',\n",
       " 'configure_text',\n",
       " 'configure_tick',\n",
       " 'configure_title',\n",
       " 'configure_tooltipFormat',\n",
       " 'configure_trail',\n",
       " 'configure_view',\n",
       " 'copy',\n",
       " 'data',\n",
       " 'datasets',\n",
       " 'description',\n",
       " 'display',\n",
       " 'encode',\n",
       " 'encoding',\n",
       " 'facet',\n",
       " 'from_dict',\n",
       " 'from_json',\n",
       " 'height',\n",
       " 'interactive',\n",
       " 'mark',\n",
       " 'mark_arc',\n",
       " 'mark_area',\n",
       " 'mark_bar',\n",
       " 'mark_boxplot',\n",
       " 'mark_circle',\n",
       " 'mark_errorband',\n",
       " 'mark_errorbar',\n",
       " 'mark_geoshape',\n",
       " 'mark_image',\n",
       " 'mark_line',\n",
       " 'mark_point',\n",
       " 'mark_rect',\n",
       " 'mark_rule',\n",
       " 'mark_square',\n",
       " 'mark_text',\n",
       " 'mark_tick',\n",
       " 'mark_trail',\n",
       " 'name',\n",
       " 'open_editor',\n",
       " 'padding',\n",
       " 'params',\n",
       " 'project',\n",
       " 'projection',\n",
       " 'properties',\n",
       " 'repeat',\n",
       " 'resolve',\n",
       " 'resolve_axis',\n",
       " 'resolve_legend',\n",
       " 'resolve_references',\n",
       " 'resolve_scale',\n",
       " 'save',\n",
       " 'serve',\n",
       " 'show',\n",
       " 'spacing',\n",
       " 'title',\n",
       " 'to_dict',\n",
       " 'to_html',\n",
       " 'to_json',\n",
       " 'to_url',\n",
       " 'transform',\n",
       " 'transform_aggregate',\n",
       " 'transform_bin',\n",
       " 'transform_calculate',\n",
       " 'transform_density',\n",
       " 'transform_extent',\n",
       " 'transform_filter',\n",
       " 'transform_flatten',\n",
       " 'transform_fold',\n",
       " 'transform_impute',\n",
       " 'transform_joinaggregate',\n",
       " 'transform_loess',\n",
       " 'transform_lookup',\n",
       " 'transform_pivot',\n",
       " 'transform_quantile',\n",
       " 'transform_regression',\n",
       " 'transform_sample',\n",
       " 'transform_stack',\n",
       " 'transform_timeunit',\n",
       " 'transform_window',\n",
       " 'transformed_data',\n",
       " 'usermeta',\n",
       " 'validate',\n",
       " 'validate_property',\n",
       " 'view',\n",
       " 'width']"
      ]
     },
     "execution_count": 120,
     "metadata": {},
     "output_type": "execute_result"
    }
   ],
   "source": [
    "dir(error_bars.properties())"
   ]
  },
  {
   "cell_type": "code",
   "execution_count": null,
   "id": "a5cdc94a-df50-44fc-97d0-8d85ad281f65",
   "metadata": {},
   "outputs": [],
   "source": []
  }
 ],
 "metadata": {
  "kernelspec": {
   "display_name": "Python 3 (ipykernel)",
   "language": "python",
   "name": "python3"
  },
  "language_info": {
   "codemirror_mode": {
    "name": "ipython",
    "version": 3
   },
   "file_extension": ".py",
   "mimetype": "text/x-python",
   "name": "python",
   "nbconvert_exporter": "python",
   "pygments_lexer": "ipython3",
   "version": "3.9.13"
  },
  "widgets": {
   "application/vnd.jupyter.widget-state+json": {
    "state": {},
    "version_major": 2,
    "version_minor": 0
   }
  }
 },
 "nbformat": 4,
 "nbformat_minor": 5
}
