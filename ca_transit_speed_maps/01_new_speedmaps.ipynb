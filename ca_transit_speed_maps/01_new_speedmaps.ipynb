{
 "cells": [
  {
   "cell_type": "code",
   "execution_count": 1,
   "id": "46898b5c-b5cc-4096-ab68-8c3e42fab870",
   "metadata": {},
   "outputs": [],
   "source": [
    "%%capture\n",
    "import warnings\n",
    "warnings.filterwarnings('ignore')\n",
    "\n",
    "import calitp_data_analysis.magics\n",
    "\n",
    "from rt_analysis import rt_filter_map_plot\n",
    "import build_speedmaps_index\n",
    "\n",
    "from IPython.display import display, Markdown\n",
    "import pandas as pd\n",
    "import geopandas as gpd\n",
    "from siuba import *\n",
    "\n",
    "from segment_speed_utils.project_vars import (\n",
    "    COMPILED_CACHED_VIEWS,\n",
    "    PROJECT_CRS,\n",
    "    SEGMENT_GCS,\n",
    ")\n",
    "\n",
    "import shared_utils"
   ]
  },
  {
   "cell_type": "code",
   "execution_count": 15,
   "id": "9f15ed6a-5ab7-4f57-9695-3f762781b74c",
   "metadata": {
    "tags": [
     "parameters"
    ]
   },
   "outputs": [],
   "source": [
    "## parameters cell\n",
    "itp_id = 300"
   ]
  },
  {
   "cell_type": "code",
   "execution_count": 16,
   "id": "a639fd84-29ca-4678-b568-2b1022701e14",
   "metadata": {},
   "outputs": [],
   "source": [
    "analysis_date = build_speedmaps_index.ANALYSIS_DATE\n",
    "import datetime as dt\n",
    "# if itp_id == 293:\n",
    "#     analysis_date = dt.date(2023, 9, 13)"
   ]
  },
  {
   "cell_type": "code",
   "execution_count": 17,
   "id": "eea40f4b-c378-4b70-a80b-bbe79f8441bf",
   "metadata": {},
   "outputs": [],
   "source": [
    "speedmap_index = pd.read_parquet(f'_rt_progress_{analysis_date}.parquet') >> filter(_.organization_itp_id == itp_id)"
   ]
  },
  {
   "cell_type": "code",
   "execution_count": 18,
   "id": "c54b78fd-de92-45d9-b54d-49c5b88945c7",
   "metadata": {},
   "outputs": [
    {
     "data": {
      "text/html": [
       "<div>\n",
       "<style scoped>\n",
       "    .dataframe tbody tr th:only-of-type {\n",
       "        vertical-align: middle;\n",
       "    }\n",
       "\n",
       "    .dataframe tbody tr th {\n",
       "        vertical-align: top;\n",
       "    }\n",
       "\n",
       "    .dataframe thead th {\n",
       "        text-align: right;\n",
       "    }\n",
       "</style>\n",
       "<table border=\"1\" class=\"dataframe\">\n",
       "  <thead>\n",
       "    <tr style=\"text-align: right;\">\n",
       "      <th></th>\n",
       "      <th>organization_name</th>\n",
       "      <th>organization_itp_id</th>\n",
       "      <th>organization_source_record_id</th>\n",
       "      <th>caltrans_district</th>\n",
       "      <th>_is_current</th>\n",
       "      <th>analysis_date</th>\n",
       "      <th>schedule_gtfs_dataset_key</th>\n",
       "      <th>status</th>\n",
       "    </tr>\n",
       "  </thead>\n",
       "  <tbody>\n",
       "    <tr>\n",
       "      <th>53</th>\n",
       "      <td>City of Santa Monica</td>\n",
       "      <td>300</td>\n",
       "      <td>recJHFDLpGRMIFgnL</td>\n",
       "      <td>07 - Los Angeles</td>\n",
       "      <td>True</td>\n",
       "      <td>2024-04-17</td>\n",
       "      <td>efbbd5293be71f7a5de0cf82b59febe1</td>\n",
       "      <td>map_confirmed</td>\n",
       "    </tr>\n",
       "  </tbody>\n",
       "</table>\n",
       "</div>"
      ],
      "text/plain": [
       "       organization_name  organization_itp_id organization_source_record_id  \\\n",
       "53  City of Santa Monica                  300             recJHFDLpGRMIFgnL   \n",
       "\n",
       "   caltrans_district  _is_current analysis_date  \\\n",
       "53  07 - Los Angeles         True    2024-04-17   \n",
       "\n",
       "           schedule_gtfs_dataset_key         status  \n",
       "53  efbbd5293be71f7a5de0cf82b59febe1  map_confirmed  "
      ]
     },
     "execution_count": 18,
     "metadata": {},
     "output_type": "execute_result"
    }
   ],
   "source": [
    "speedmap_index"
   ]
  },
  {
   "cell_type": "code",
   "execution_count": 19,
   "id": "76edaa5c-039e-419a-ade6-15ebdc018b3c",
   "metadata": {},
   "outputs": [
    {
     "data": {
      "text/plain": [
       "'gs://calitp-analytics-data/data-analyses/rt_segment_speeds/'"
      ]
     },
     "execution_count": 19,
     "metadata": {},
     "output_type": "execute_result"
    }
   ],
   "source": [
    "SEGMENT_GCS"
   ]
  },
  {
   "cell_type": "code",
   "execution_count": 20,
   "id": "28317d9e-9f9e-493c-889e-78b8099004e5",
   "metadata": {},
   "outputs": [],
   "source": [
    "# speedmap_segs = gpd.read_parquet(f'{SEGMENT_GCS}segment_options/speedmap_segments_{analysis_date}.parquet')` #  non-aggregated"
   ]
  },
  {
   "cell_type": "code",
   "execution_count": 21,
   "id": "9302c0ad-1201-4c5a-8267-ec52719cf777",
   "metadata": {},
   "outputs": [],
   "source": [
    "speedmap_segs = gpd.read_parquet(f'{SEGMENT_GCS}rollup_singleday/speeds_shape_speedmap_segments_{analysis_date}.parquet') #  aggregated"
   ]
  },
  {
   "cell_type": "code",
   "execution_count": 22,
   "id": "19dbeff0-faf6-43e3-9edf-6e68dfeceeac",
   "metadata": {},
   "outputs": [
    {
     "data": {
      "text/plain": [
       "Index(['schedule_gtfs_dataset_key', 'shape_array_key', 'shape_id', 'stop_pair',\n",
       "       'stop_pair_name', 'segment_id', 'time_period', 'p50_mph', 'n_trips',\n",
       "       'p20_mph', 'p80_mph', 'name', 'caltrans_district',\n",
       "       'organization_source_record_id', 'organization_name', 'base64_url',\n",
       "       'geometry'],\n",
       "      dtype='object')"
      ]
     },
     "execution_count": 22,
     "metadata": {},
     "output_type": "execute_result"
    }
   ],
   "source": [
    "speedmap_segs.columns"
   ]
  },
  {
   "cell_type": "code",
   "execution_count": 23,
   "id": "9f3c4c93-a5f5-40d7-9315-63e4fecbd738",
   "metadata": {},
   "outputs": [],
   "source": [
    "speedmap_segs = speedmap_segs >> filter(_.schedule_gtfs_dataset_key == speedmap_index.schedule_gtfs_dataset_key.iloc[0])"
   ]
  },
  {
   "cell_type": "code",
   "execution_count": 24,
   "id": "33038798-16a0-46b5-a50e-2609c5729534",
   "metadata": {},
   "outputs": [
    {
     "data": {
      "text/html": [
       "<div>\n",
       "<style scoped>\n",
       "    .dataframe tbody tr th:only-of-type {\n",
       "        vertical-align: middle;\n",
       "    }\n",
       "\n",
       "    .dataframe tbody tr th {\n",
       "        vertical-align: top;\n",
       "    }\n",
       "\n",
       "    .dataframe thead th {\n",
       "        text-align: right;\n",
       "    }\n",
       "</style>\n",
       "<table border=\"1\" class=\"dataframe\">\n",
       "  <thead>\n",
       "    <tr style=\"text-align: right;\">\n",
       "      <th></th>\n",
       "      <th>schedule_gtfs_dataset_key</th>\n",
       "      <th>shape_array_key</th>\n",
       "      <th>shape_id</th>\n",
       "      <th>stop_pair</th>\n",
       "      <th>stop_pair_name</th>\n",
       "      <th>segment_id</th>\n",
       "      <th>time_period</th>\n",
       "      <th>p50_mph</th>\n",
       "      <th>n_trips</th>\n",
       "      <th>p20_mph</th>\n",
       "      <th>p80_mph</th>\n",
       "      <th>name</th>\n",
       "      <th>caltrans_district</th>\n",
       "      <th>organization_source_record_id</th>\n",
       "      <th>organization_name</th>\n",
       "      <th>base64_url</th>\n",
       "      <th>geometry</th>\n",
       "    </tr>\n",
       "  </thead>\n",
       "  <tbody>\n",
       "    <tr>\n",
       "      <th>450953</th>\n",
       "      <td>efbbd5293be71f7a5de0cf82b59febe1</td>\n",
       "      <td>7952ac84db347ba2c6e65e60e5988275</td>\n",
       "      <td>26757</td>\n",
       "      <td>1640__1709</td>\n",
       "      <td>FLORENCE EB &amp; LA CIENEGA NS__MESMER SB &amp; JEFFE...</td>\n",
       "      <td>1640-1709-1</td>\n",
       "      <td>offpeak</td>\n",
       "      <td>15.54</td>\n",
       "      <td>16</td>\n",
       "      <td>12.64</td>\n",
       "      <td>17.86</td>\n",
       "      <td>Big Blue Bus Schedule</td>\n",
       "      <td>07 - Los Angeles</td>\n",
       "      <td>recJHFDLpGRMIFgnL</td>\n",
       "      <td>City of Santa Monica</td>\n",
       "      <td>aHR0cDovL2d0ZnMuYmlnYmx1ZWJ1cy5jb20vY3VycmVudC...</td>\n",
       "      <td>LINESTRING (-118.37135 33.96308, -118.37057 33...</td>\n",
       "    </tr>\n",
       "    <tr>\n",
       "      <th>450954</th>\n",
       "      <td>efbbd5293be71f7a5de0cf82b59febe1</td>\n",
       "      <td>7952ac84db347ba2c6e65e60e5988275</td>\n",
       "      <td>26757</td>\n",
       "      <td>1640__1709</td>\n",
       "      <td>FLORENCE EB &amp; LA CIENEGA NS__MESMER SB &amp; JEFFE...</td>\n",
       "      <td>1640-1709-1</td>\n",
       "      <td>peak</td>\n",
       "      <td>12.75</td>\n",
       "      <td>14</td>\n",
       "      <td>9.04</td>\n",
       "      <td>18.41</td>\n",
       "      <td>Big Blue Bus Schedule</td>\n",
       "      <td>07 - Los Angeles</td>\n",
       "      <td>recJHFDLpGRMIFgnL</td>\n",
       "      <td>City of Santa Monica</td>\n",
       "      <td>aHR0cDovL2d0ZnMuYmlnYmx1ZWJ1cy5jb20vY3VycmVudC...</td>\n",
       "      <td>LINESTRING (-118.37135 33.96308, -118.37057 33...</td>\n",
       "    </tr>\n",
       "    <tr>\n",
       "      <th>450955</th>\n",
       "      <td>efbbd5293be71f7a5de0cf82b59febe1</td>\n",
       "      <td>7952ac84db347ba2c6e65e60e5988275</td>\n",
       "      <td>26757</td>\n",
       "      <td>1640__1709</td>\n",
       "      <td>FLORENCE EB &amp; LA CIENEGA NS__MESMER SB &amp; JEFFE...</td>\n",
       "      <td>1640-1709-1</td>\n",
       "      <td>all_day</td>\n",
       "      <td>15.12</td>\n",
       "      <td>30</td>\n",
       "      <td>10.15</td>\n",
       "      <td>18.14</td>\n",
       "      <td>Big Blue Bus Schedule</td>\n",
       "      <td>07 - Los Angeles</td>\n",
       "      <td>recJHFDLpGRMIFgnL</td>\n",
       "      <td>City of Santa Monica</td>\n",
       "      <td>aHR0cDovL2d0ZnMuYmlnYmx1ZWJ1cy5jb20vY3VycmVudC...</td>\n",
       "      <td>LINESTRING (-118.37135 33.96308, -118.37057 33...</td>\n",
       "    </tr>\n",
       "  </tbody>\n",
       "</table>\n",
       "</div>"
      ],
      "text/plain": [
       "               schedule_gtfs_dataset_key                   shape_array_key  \\\n",
       "450953  efbbd5293be71f7a5de0cf82b59febe1  7952ac84db347ba2c6e65e60e5988275   \n",
       "450954  efbbd5293be71f7a5de0cf82b59febe1  7952ac84db347ba2c6e65e60e5988275   \n",
       "450955  efbbd5293be71f7a5de0cf82b59febe1  7952ac84db347ba2c6e65e60e5988275   \n",
       "\n",
       "       shape_id   stop_pair  \\\n",
       "450953    26757  1640__1709   \n",
       "450954    26757  1640__1709   \n",
       "450955    26757  1640__1709   \n",
       "\n",
       "                                           stop_pair_name   segment_id  \\\n",
       "450953  FLORENCE EB & LA CIENEGA NS__MESMER SB & JEFFE...  1640-1709-1   \n",
       "450954  FLORENCE EB & LA CIENEGA NS__MESMER SB & JEFFE...  1640-1709-1   \n",
       "450955  FLORENCE EB & LA CIENEGA NS__MESMER SB & JEFFE...  1640-1709-1   \n",
       "\n",
       "       time_period  p50_mph  n_trips  p20_mph  p80_mph                   name  \\\n",
       "450953     offpeak    15.54       16    12.64    17.86  Big Blue Bus Schedule   \n",
       "450954        peak    12.75       14     9.04    18.41  Big Blue Bus Schedule   \n",
       "450955     all_day    15.12       30    10.15    18.14  Big Blue Bus Schedule   \n",
       "\n",
       "       caltrans_district organization_source_record_id     organization_name  \\\n",
       "450953  07 - Los Angeles             recJHFDLpGRMIFgnL  City of Santa Monica   \n",
       "450954  07 - Los Angeles             recJHFDLpGRMIFgnL  City of Santa Monica   \n",
       "450955  07 - Los Angeles             recJHFDLpGRMIFgnL  City of Santa Monica   \n",
       "\n",
       "                                               base64_url  \\\n",
       "450953  aHR0cDovL2d0ZnMuYmlnYmx1ZWJ1cy5jb20vY3VycmVudC...   \n",
       "450954  aHR0cDovL2d0ZnMuYmlnYmx1ZWJ1cy5jb20vY3VycmVudC...   \n",
       "450955  aHR0cDovL2d0ZnMuYmlnYmx1ZWJ1cy5jb20vY3VycmVudC...   \n",
       "\n",
       "                                                 geometry  \n",
       "450953  LINESTRING (-118.37135 33.96308, -118.37057 33...  \n",
       "450954  LINESTRING (-118.37135 33.96308, -118.37057 33...  \n",
       "450955  LINESTRING (-118.37135 33.96308, -118.37057 33...  "
      ]
     },
     "execution_count": 24,
     "metadata": {},
     "output_type": "execute_result"
    }
   ],
   "source": [
    "speedmap_segs >> head(3)"
   ]
  },
  {
   "cell_type": "code",
   "execution_count": 25,
   "id": "8e89173e-a0ea-4823-bbce-0aa6cdb3f075",
   "metadata": {},
   "outputs": [
    {
     "data": {
      "text/plain": [
       "array(['offpeak', 'peak', 'all_day'], dtype=object)"
      ]
     },
     "execution_count": 25,
     "metadata": {},
     "output_type": "execute_result"
    }
   ],
   "source": [
    "speedmap_segs.time_period.unique()"
   ]
  },
  {
   "cell_type": "code",
   "execution_count": 26,
   "id": "f87584fb-f37d-4869-ba5d-af70a5a0e0e3",
   "metadata": {},
   "outputs": [],
   "source": [
    "peak_test = speedmap_segs >> filter(_.time_period == 'peak')"
   ]
  },
  {
   "cell_type": "code",
   "execution_count": 27,
   "id": "c0080473-a119-45b2-8ebc-9f9913b97ecd",
   "metadata": {},
   "outputs": [],
   "source": [
    "time_periods = [(x, shared_utils.rt_utils.categorize_time_of_day(x)) for x in range(1, 25)]"
   ]
  },
  {
   "cell_type": "code",
   "execution_count": 47,
   "id": "1df01b6f-c29e-4ccc-9b1f-03cda0241bd9",
   "metadata": {},
   "outputs": [
    {
     "data": {
      "text/plain": [
       "[(1, 'Owl'),\n",
       " (2, 'Owl'),\n",
       " (3, 'Owl'),\n",
       " (4, 'Early AM'),\n",
       " (5, 'Early AM'),\n",
       " (6, 'Early AM'),\n",
       " (7, 'AM Peak'),\n",
       " (8, 'AM Peak'),\n",
       " (9, 'AM Peak'),\n",
       " (10, 'Midday'),\n",
       " (11, 'Midday'),\n",
       " (12, 'Midday'),\n",
       " (13, 'Midday'),\n",
       " (14, 'Midday'),\n",
       " (15, 'PM Peak'),\n",
       " (16, 'PM Peak'),\n",
       " (17, 'PM Peak'),\n",
       " (18, 'PM Peak'),\n",
       " (19, 'PM Peak'),\n",
       " (20, 'Evening'),\n",
       " (21, 'Evening'),\n",
       " (22, 'Evening'),\n",
       " (23, 'Evening'),\n",
       " (24, 'Evening')]"
      ]
     },
     "execution_count": 47,
     "metadata": {},
     "output_type": "execute_result"
    }
   ],
   "source": [
    "time_periods"
   ]
  },
  {
   "cell_type": "code",
   "execution_count": 28,
   "id": "590d0196-ab95-47e8-8ce0-e0b93b4da5d4",
   "metadata": {},
   "outputs": [],
   "source": [
    "total_peak = len([x[1] for x in time_periods if 'Peak' in x[1]])"
   ]
  },
  {
   "cell_type": "code",
   "execution_count": 29,
   "id": "c5c469eb-df45-4925-8888-2cc2bfc04cc6",
   "metadata": {},
   "outputs": [
    {
     "data": {
      "text/plain": [
       "8"
      ]
     },
     "execution_count": 29,
     "metadata": {},
     "output_type": "execute_result"
    }
   ],
   "source": [
    "total_peak"
   ]
  },
  {
   "cell_type": "code",
   "execution_count": 30,
   "id": "edc84eda-ce2b-481f-ac78-6b7209cb25f4",
   "metadata": {},
   "outputs": [],
   "source": [
    "def prep_gdf(gdf):\n",
    "    \n",
    "    gdf = gdf.to_crs(calitp_data_analysis.geography_utils.CA_NAD83Albers)\n",
    "    gdf['trips_per_hour'] = gdf.n_trips / total_peak\n",
    "\n",
    "    ## shift to right side of road to display direction\n",
    "    gdf.geometry = gdf.geometry.apply(shared_utils.rt_utils.try_parallel)\n",
    "    gdf = gdf.apply(shared_utils.rt_utils.arrowize_by_frequency, axis=1)\n",
    "\n",
    "    gdf = gdf >> arrange(_.trips_per_hour)\n",
    "\n",
    "    return gdf"
   ]
  },
  {
   "cell_type": "code",
   "execution_count": 41,
   "id": "6af2c7fd-b769-4fbf-bbcf-75080972cc67",
   "metadata": {},
   "outputs": [],
   "source": [
    "peak_test = prep_gdf(peak_test)"
   ]
  },
  {
   "cell_type": "code",
   "execution_count": 42,
   "id": "cedc030e-8d19-4a0b-b3a5-5a3d6c0dce23",
   "metadata": {},
   "outputs": [],
   "source": [
    "cmap = shared_utils.rt_utils.ZERO_THIRTY_COLORSCALE\n",
    "url = shared_utils.rt_utils.SPEEDMAP_LEGEND_URL"
   ]
  },
  {
   "cell_type": "code",
   "execution_count": 45,
   "id": "10a3ff1d-04f8-40b8-ab91-5ef96fde9b6a",
   "metadata": {},
   "outputs": [
    {
     "name": "stdout",
     "output_type": "stream",
     "text": [
      "writing to calitp-map-tiles/testing/testnew5.geojson.gz\n"
     ]
    }
   ],
   "source": [
    "speedmap_state = shared_utils.rt_utils.set_state_export(peak_test, filename='testnew5', map_type='speedmap',\n",
    "                                      color_col='p20_mph', cmap=cmap, legend_url=url,\n",
    "                                              cache_seconds=0, map_title=f'Speedmap Segs {analysis_date}')"
   ]
  },
  {
   "cell_type": "code",
   "execution_count": 46,
   "id": "75f2695e-4b80-4d91-8dce-1fa8e347729b",
   "metadata": {},
   "outputs": [
    {
     "data": {
      "text/plain": [
       "{'state_dict': {'name': 'null',\n",
       "  'layers': [{'name': 'Speedmap Segs 2024-04-17',\n",
       "    'url': 'https://storage.googleapis.com/calitp-map-tiles/testing/testnew5.geojson.gz',\n",
       "    'properties': {'stroked': False,\n",
       "     'highlight_saturation_multiplier': 0.5,\n",
       "     'tooltip_speed_key': 'p20_mph'},\n",
       "    'type': 'speedmap'}],\n",
       "  'lat_lon': (34.026346806862165, -118.44342716777291),\n",
       "  'zoom': 13,\n",
       "  'legend_url': 'https://storage.googleapis.com/calitp-map-tiles/speeds_legend.svg'},\n",
       " 'spa_link': 'https://embeddable-maps.calitp.org/?state=eyJuYW1lIjogIm51bGwiLCAibGF5ZXJzIjogW3sibmFtZSI6ICJTcGVlZG1hcCBTZWdzIDIwMjQtMDQtMTciLCAidXJsIjogImh0dHBzOi8vc3RvcmFnZS5nb29nbGVhcGlzLmNvbS9jYWxpdHAtbWFwLXRpbGVzL3Rlc3RpbmcvdGVzdG5ldzUuZ2VvanNvbi5neiIsICJwcm9wZXJ0aWVzIjogeyJzdHJva2VkIjogZmFsc2UsICJoaWdobGlnaHRfc2F0dXJhdGlvbl9tdWx0aXBsaWVyIjogMC41LCAidG9vbHRpcF9zcGVlZF9rZXkiOiAicDIwX21waCJ9LCAidHlwZSI6ICJzcGVlZG1hcCJ9XSwgImxhdF9sb24iOiBbMzQuMDI2MzQ2ODA2ODYyMTY1LCAtMTE4LjQ0MzQyNzE2Nzc3MjkxXSwgInpvb20iOiAxMywgImxlZ2VuZF91cmwiOiAiaHR0cHM6Ly9zdG9yYWdlLmdvb2dsZWFwaXMuY29tL2NhbGl0cC1tYXAtdGlsZXMvc3BlZWRzX2xlZ2VuZC5zdmcifQ=='}"
      ]
     },
     "execution_count": 46,
     "metadata": {},
     "output_type": "execute_result"
    }
   ],
   "source": [
    "speedmap_state"
   ]
  },
  {
   "cell_type": "markdown",
   "id": "2e9ae65e-0ed4-4f00-ac8e-27ac85790804",
   "metadata": {},
   "source": [
    "## TODO replace status with a scan of speedmap segs column?"
   ]
  }
 ],
 "metadata": {
  "kernelspec": {
   "display_name": "Python 3 (ipykernel)",
   "language": "python",
   "name": "python3"
  },
  "language_info": {
   "codemirror_mode": {
    "name": "ipython",
    "version": 3
   },
   "file_extension": ".py",
   "mimetype": "text/x-python",
   "name": "python",
   "nbconvert_exporter": "python",
   "pygments_lexer": "ipython3",
   "version": "3.9.13"
  },
  "widgets": {
   "application/vnd.jupyter.widget-state+json": {
    "state": {},
    "version_major": 2,
    "version_minor": 0
   }
  }
 },
 "nbformat": 4,
 "nbformat_minor": 5
}
