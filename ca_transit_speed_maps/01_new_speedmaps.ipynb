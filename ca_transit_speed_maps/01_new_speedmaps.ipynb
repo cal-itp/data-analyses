{
 "cells": [
  {
   "cell_type": "code",
   "execution_count": 47,
   "id": "46898b5c-b5cc-4096-ab68-8c3e42fab870",
   "metadata": {},
   "outputs": [],
   "source": [
    "%%capture\n",
    "import warnings\n",
    "warnings.filterwarnings('ignore')\n",
    "\n",
    "import calitp_data_analysis.magics\n",
    "from calitp_data_analysis import calitp_color_palette\n",
    "\n",
    "# from rt_analysis import rt_filter_map_plot\n",
    "import update_vars_index\n",
    "\n",
    "from IPython.display import display, Markdown\n",
    "import pandas as pd\n",
    "import numpy as np\n",
    "import geopandas as gpd\n",
    "from siuba import *\n",
    "\n",
    "import shared_utils\n",
    "import segment_speed_utils\n",
    "import speedmap_utils\n",
    "\n",
    "import altair as alt\n",
    "from calitp_data_analysis.tables import tbls"
   ]
  },
  {
   "cell_type": "code",
   "execution_count": 20,
   "id": "cf3d8814-6f22-4a22-8b03-429ebb63a397",
   "metadata": {},
   "outputs": [],
   "source": [
    "catalog = shared_utils.catalog_utils.get_catalog('gtfs_analytics_data')"
   ]
  },
  {
   "cell_type": "code",
   "execution_count": 32,
   "id": "9f15ed6a-5ab7-4f57-9695-3f762781b74c",
   "metadata": {
    "tags": [
     "parameters"
    ]
   },
   "outputs": [],
   "source": [
    "## parameters cell\n",
    "organization_source_record_id = 'rec5ome04BbA9uf4y'"
   ]
  },
  {
   "cell_type": "code",
   "execution_count": 33,
   "id": "a639fd84-29ca-4678-b568-2b1022701e14",
   "metadata": {},
   "outputs": [],
   "source": [
    "analysis_date = update_vars_index.ANALYSIS_DATE\n",
    "import datetime as dt"
   ]
  },
  {
   "cell_type": "code",
   "execution_count": 41,
   "id": "516c71f4-f1a7-4477-91c0-cf9b15247ce6",
   "metadata": {
    "tags": []
   },
   "outputs": [],
   "source": [
    "%%capture\n",
    "path = f'{catalog.speedmap_segments.dir}{catalog.speedmap_segments.shape_stop_single_segment_detail}_{analysis_date}.parquet'\n",
    "speedmap_segs = gpd.read_parquet(path, filters=[['organization_source_record_id', '==', organization_source_record_id]]) #  aggregated"
   ]
  },
  {
   "cell_type": "code",
   "execution_count": 43,
   "id": "11303bd3-01bf-4af4-b0fa-63dbc375bd48",
   "metadata": {},
   "outputs": [
    {
     "name": "stdout",
     "output_type": "stream",
     "text": [
      "{\"human_date\": \"October 16 2024 (Wednesday)\"}\n"
     ]
    }
   ],
   "source": [
    "%%capture_parameters\n",
    "human_date = analysis_date.strftime('%B %d %Y (%A)')\n",
    "human_date"
   ]
  },
  {
   "cell_type": "code",
   "execution_count": 45,
   "id": "649d7a14-8b01-4a84-afee-092bd3febbb8",
   "metadata": {},
   "outputs": [
    {
     "name": "stdout",
     "output_type": "stream",
     "text": [
      "{\"organization_name\": \"City of Culver City\"}\n"
     ]
    }
   ],
   "source": [
    "%%capture_parameters\n",
    "organization_name = speedmap_segs.organization_name.iloc[0]\n",
    "organization_name"
   ]
  },
  {
   "cell_type": "code",
   "execution_count": 66,
   "id": "aebbea5a-8064-4845-9181-ac2a18f12d20",
   "metadata": {},
   "outputs": [
    {
     "data": {
      "text/plain": [
       "<module 'speedmap_utils' from '/home/jovyan/data-analyses/ca_transit_speed_maps/speedmap_utils.py'>"
      ]
     },
     "execution_count": 66,
     "metadata": {},
     "output_type": "execute_result"
    }
   ],
   "source": [
    "import importlib\n",
    "importlib.reload(speedmap_utils)"
   ]
  },
  {
   "cell_type": "code",
   "execution_count": 57,
   "id": "22e9db57-91b0-43a4-b7df-797058d14e7f",
   "metadata": {},
   "outputs": [],
   "source": [
    "speedmap_segs = speedmap_utils.prepare_segment_gdf(speedmap_segs)"
   ]
  },
  {
   "cell_type": "code",
   "execution_count": 63,
   "id": "f4eb76cb-ce2f-496b-a6aa-f6081bacc89f",
   "metadata": {},
   "outputs": [],
   "source": [
    "shn = gpd.read_parquet(shared_utils.rt_utils.SHN_PATH)\n",
    "this_shn = shn >> filter(_.District.isin([int(x[:2]) for x in speedmap_segs.caltrans_district.unique()]))"
   ]
  },
  {
   "cell_type": "code",
   "execution_count": 46,
   "id": "edc84eda-ce2b-481f-ac78-6b7209cb25f4",
   "metadata": {},
   "outputs": [],
   "source": [
    "# #  TODO to utils\n",
    "# def prepare_segment_gdf(gdf: gpd.GeoDataFrame) -> gpd.GeoDataFrame:\n",
    "#     '''\n",
    "#     Project segment speeds gdf and add column for rich speedmap display\n",
    "#     '''\n",
    "#     gdf = gdf.to_crs(calitp_data_analysis.geography_utils.CA_NAD83Albers)\n",
    "#     #  TODO move upstream and investigate\n",
    "#     gdf['fast_slow_ratio'] = gdf.p80_mph / gdf.p20_mph\n",
    "#     gdf.fast_slow_ratio = gdf.fast_slow_ratio.replace(np.inf, 3)\n",
    "#     gdf = gdf.round(1)\n",
    "\n",
    "#     ## shift to right side of road to display direction\n",
    "#     gdf.geometry = gdf.geometry.apply(shared_utils.rt_utils.try_parallel)\n",
    "#     gdf = gdf.apply(shared_utils.rt_utils.arrowize_by_frequency, axis=1, frequency_col='trips_hr_sch')\n",
    "\n",
    "#     gdf = gdf >> arrange(_.trips_hr_sch)\n",
    "\n",
    "#     return gdf"
   ]
  },
  {
   "cell_type": "code",
   "execution_count": 19,
   "id": "3a9fa4ff-51a4-4e8d-b1c1-a8568025746a",
   "metadata": {},
   "outputs": [],
   "source": [
    "time_of_day = 'AM Peak'"
   ]
  },
  {
   "cell_type": "code",
   "execution_count": 50,
   "id": "6af2c7fd-b769-4fbf-bbcf-75080972cc67",
   "metadata": {},
   "outputs": [],
   "source": [
    "period_test = time_period_and_arrowize(speedmap_segs, time_of_day)"
   ]
  },
  {
   "cell_type": "markdown",
   "id": "4e4c26e4-afca-48e1-b9fc-53393858a414",
   "metadata": {},
   "source": [
    "## export map"
   ]
  },
  {
   "cell_type": "code",
   "execution_count": 72,
   "id": "402ffc16-eb23-42e1-ac38-b1468a65f438",
   "metadata": {},
   "outputs": [],
   "source": [
    "time_of_day_lower = time_of_day.lower().replace(' ', '_')\n",
    "\n",
    "gdf = gdf >> filter(_.time_of_day == time_period)\n",
    "\n",
    "#  TODO clone render method from RtFilterMapper, to utils\n",
    "speedmap_state = shared_utils.rt_utils.set_state_export(\n",
    "                                    period_test, filename=f'{itp_id}_{time_of_day_lower}_new', map_type='speedmap',\n",
    "                                    color_col='p20_mph', cmap=cmap, legend_url=url,\n",
    "                                    cache_seconds=0, map_title=f'Speedmap Segs {time_of_day} {analysis_date}')"
   ]
  },
  {
   "cell_type": "code",
   "execution_count": 73,
   "id": "281c341b-c3cc-48b3-b8d1-e1a698f3d7f4",
   "metadata": {},
   "outputs": [
    {
     "data": {
      "text/plain": [
       "{'state_dict': {'name': 'null',\n",
       "  'layers': [{'name': 'Speedmap Segs AM Peak 2024-10-16',\n",
       "    'url': 'https://storage.googleapis.com/calitp-map-tiles/testing/194_am_peak_new.geojson.gz',\n",
       "    'properties': {'stroked': False,\n",
       "     'highlight_saturation_multiplier': 0.5,\n",
       "     'tooltip_speed_key': 'p20_mph'},\n",
       "    'type': 'speedmap'}],\n",
       "  'lat_lon': (37.98273520932856, -122.54536343118872),\n",
       "  'zoom': 13,\n",
       "  'legend_url': 'https://storage.googleapis.com/calitp-map-tiles/speeds_legend_color_access.svg'},\n",
       " 'spa_link': 'https://embeddable-maps.calitp.org/?state=eyJuYW1lIjogIm51bGwiLCAibGF5ZXJzIjogW3sibmFtZSI6ICJTcGVlZG1hcCBTZWdzIEFNIFBlYWsgMjAyNC0xMC0xNiIsICJ1cmwiOiAiaHR0cHM6Ly9zdG9yYWdlLmdvb2dsZWFwaXMuY29tL2NhbGl0cC1tYXAtdGlsZXMvdGVzdGluZy8xOTRfYW1fcGVha19uZXcuZ2VvanNvbi5neiIsICJwcm9wZXJ0aWVzIjogeyJzdHJva2VkIjogZmFsc2UsICJoaWdobGlnaHRfc2F0dXJhdGlvbl9tdWx0aXBsaWVyIjogMC41LCAidG9vbHRpcF9zcGVlZF9rZXkiOiAicDIwX21waCJ9LCAidHlwZSI6ICJzcGVlZG1hcCJ9XSwgImxhdF9sb24iOiBbMzcuOTgyNzM1MjA5MzI4NTYsIC0xMjIuNTQ1MzYzNDMxMTg4NzJdLCAiem9vbSI6IDEzLCAibGVnZW5kX3VybCI6ICJodHRwczovL3N0b3JhZ2UuZ29vZ2xlYXBpcy5jb20vY2FsaXRwLW1hcC10aWxlcy9zcGVlZHNfbGVnZW5kX2NvbG9yX2FjY2Vzcy5zdmcifQ=='}"
      ]
     },
     "execution_count": 73,
     "metadata": {},
     "output_type": "execute_result"
    }
   ],
   "source": [
    "speedmap_state"
   ]
  },
  {
   "cell_type": "code",
   "execution_count": 79,
   "id": "126c190b-ea97-4971-8c62-5ee2f2a36f61",
   "metadata": {},
   "outputs": [
    {
     "name": "stdout",
     "output_type": "stream",
     "text": [
      "writing to calitp-map-tiles/testing/194_am_peak_new.geojson.gz\n"
     ]
    }
   ],
   "source": [
    "#  TODO clone render method from RtFilterMapper, to utils\n",
    "new_speedmap_state = shared_utils.rt_utils.set_state_export(\n",
    "                                    period_test, filename=f'{itp_id}_{time_of_day_lower}_new', map_type='new_speedmap',\n",
    "                                    color_col='p20_mph', cmap=cmap, legend_url=url,\n",
    "                                    cache_seconds=0, map_title=f'Speedmap Segs {time_of_day} {analysis_date}')"
   ]
  },
  {
   "cell_type": "code",
   "execution_count": 75,
   "id": "cff6c1d2-0a15-41b7-a76e-e5e219340545",
   "metadata": {},
   "outputs": [
    {
     "data": {
      "text/plain": [
       "{'state_dict': {'name': 'null',\n",
       "  'layers': [{'name': 'Speedmap Segs AM Peak 2024-10-16',\n",
       "    'url': 'https://storage.googleapis.com/calitp-map-tiles/testing/194_am_peak_new.geojson.gz',\n",
       "    'properties': {'stroked': False,\n",
       "     'highlight_saturation_multiplier': 0.5,\n",
       "     'tooltip_speed_key': 'p20_mph'},\n",
       "    'type': 'new_speedmap'}],\n",
       "  'lat_lon': (37.98273520932856, -122.54536343118872),\n",
       "  'zoom': 13,\n",
       "  'legend_url': 'https://storage.googleapis.com/calitp-map-tiles/speeds_legend_color_access.svg'},\n",
       " 'spa_link': 'https://embeddable-maps.calitp.org/?state=eyJuYW1lIjogIm51bGwiLCAibGF5ZXJzIjogW3sibmFtZSI6ICJTcGVlZG1hcCBTZWdzIEFNIFBlYWsgMjAyNC0xMC0xNiIsICJ1cmwiOiAiaHR0cHM6Ly9zdG9yYWdlLmdvb2dsZWFwaXMuY29tL2NhbGl0cC1tYXAtdGlsZXMvdGVzdGluZy8xOTRfYW1fcGVha19uZXcuZ2VvanNvbi5neiIsICJwcm9wZXJ0aWVzIjogeyJzdHJva2VkIjogZmFsc2UsICJoaWdobGlnaHRfc2F0dXJhdGlvbl9tdWx0aXBsaWVyIjogMC41LCAidG9vbHRpcF9zcGVlZF9rZXkiOiAicDIwX21waCJ9LCAidHlwZSI6ICJuZXdfc3BlZWRtYXAifV0sICJsYXRfbG9uIjogWzM3Ljk4MjczNTIwOTMyODU2LCAtMTIyLjU0NTM2MzQzMTE4ODcyXSwgInpvb20iOiAxMywgImxlZ2VuZF91cmwiOiAiaHR0cHM6Ly9zdG9yYWdlLmdvb2dsZWFwaXMuY29tL2NhbGl0cC1tYXAtdGlsZXMvc3BlZWRzX2xlZ2VuZF9jb2xvcl9hY2Nlc3Muc3ZnIn0='}"
      ]
     },
     "execution_count": 75,
     "metadata": {},
     "output_type": "execute_result"
    }
   ],
   "source": [
    "new_speedmap_state"
   ]
  },
  {
   "cell_type": "code",
   "execution_count": 80,
   "id": "6cf0c367-c44f-482e-a94d-c4cecc91c43a",
   "metadata": {},
   "outputs": [
    {
     "name": "stdout",
     "output_type": "stream",
     "text": [
      "writing to calitp-map-tiles/testing/194_am_peak_new_var.geojson.gz\n"
     ]
    }
   ],
   "source": [
    "#  TODO clone render method from RtFilterMapper, to utils\n",
    "new_speedmap_state_var = shared_utils.rt_utils.set_state_export(\n",
    "                                    period_test, filename=f'{itp_id}_{time_of_day_lower}_new_var', map_type='new_speed_variation',\n",
    "                                    color_col='fast_slow_ratio', cmap=shared_utils.rt_utils.VARIANCE_FIXED_COLORSCALE,\n",
    "                                    legend_url=shared_utils.rt_utils.VARIANCE_LEGEND_URL,\n",
    "                                    cache_seconds=0, map_title=f'Speedmap Segs {time_of_day} {analysis_date}')"
   ]
  },
  {
   "cell_type": "code",
   "execution_count": 81,
   "id": "aa2c5179-3a8b-4e93-a316-b3ded6381eb8",
   "metadata": {},
   "outputs": [
    {
     "data": {
      "text/plain": [
       "{'state_dict': {'name': 'null',\n",
       "  'layers': [{'name': 'Speedmap Segs AM Peak 2024-10-16',\n",
       "    'url': 'https://storage.googleapis.com/calitp-map-tiles/testing/194_am_peak_new_var.geojson.gz',\n",
       "    'properties': {'stroked': False, 'highlight_saturation_multiplier': 0.5},\n",
       "    'type': 'new_speed_variation'}],\n",
       "  'lat_lon': (37.98273520932856, -122.54536343118872),\n",
       "  'zoom': 13,\n",
       "  'legend_url': 'https://storage.googleapis.com/calitp-map-tiles/variance_legend.svg'},\n",
       " 'spa_link': 'https://embeddable-maps.calitp.org/?state=eyJuYW1lIjogIm51bGwiLCAibGF5ZXJzIjogW3sibmFtZSI6ICJTcGVlZG1hcCBTZWdzIEFNIFBlYWsgMjAyNC0xMC0xNiIsICJ1cmwiOiAiaHR0cHM6Ly9zdG9yYWdlLmdvb2dsZWFwaXMuY29tL2NhbGl0cC1tYXAtdGlsZXMvdGVzdGluZy8xOTRfYW1fcGVha19uZXdfdmFyLmdlb2pzb24uZ3oiLCAicHJvcGVydGllcyI6IHsic3Ryb2tlZCI6IGZhbHNlLCAiaGlnaGxpZ2h0X3NhdHVyYXRpb25fbXVsdGlwbGllciI6IDAuNX0sICJ0eXBlIjogIm5ld19zcGVlZF92YXJpYXRpb24ifV0sICJsYXRfbG9uIjogWzM3Ljk4MjczNTIwOTMyODU2LCAtMTIyLjU0NTM2MzQzMTE4ODcyXSwgInpvb20iOiAxMywgImxlZ2VuZF91cmwiOiAiaHR0cHM6Ly9zdG9yYWdlLmdvb2dsZWFwaXMuY29tL2NhbGl0cC1tYXAtdGlsZXMvdmFyaWFuY2VfbGVnZW5kLnN2ZyJ9'}"
      ]
     },
     "execution_count": 81,
     "metadata": {},
     "output_type": "execute_result"
    }
   ],
   "source": [
    "new_speedmap_state_var"
   ]
  },
  {
   "cell_type": "code",
   "execution_count": 78,
   "id": "b234655e-1739-4d4a-aaca-747c5e8c3d88",
   "metadata": {},
   "outputs": [
    {
     "data": {
      "text/plain": [
       "Index(['schedule_gtfs_dataset_key', 'shape_array_key', 'shape_id', 'route_id',\n",
       "       'direction_id', 'stop_pair', 'stop_pair_name', 'segment_id',\n",
       "       'time_of_day', 'p50_mph', 'n_trips', 'p20_mph', 'p80_mph', 'name',\n",
       "       'caltrans_district', 'organization_source_record_id',\n",
       "       'organization_name', 'base64_url', 'geometry', 'n_trips_sch',\n",
       "       'trips_hr_sch', 'route_short_name', 'fast_slow_ratio'],\n",
       "      dtype='object')"
      ]
     },
     "execution_count": 78,
     "metadata": {},
     "output_type": "execute_result"
    }
   ],
   "source": [
    "period_test.columns"
   ]
  },
  {
   "cell_type": "markdown",
   "id": "04c8da94-c9e6-4261-b6e6-3cd44a4eaa5d",
   "metadata": {},
   "source": [
    "## docs!"
   ]
  },
  {
   "cell_type": "code",
   "execution_count": 31,
   "id": "0565942e-a76c-4c8d-afe7-7d0f9c61d5f0",
   "metadata": {},
   "outputs": [],
   "source": [
    "domain = cmap.index\n",
    "\n",
    "range_ = [cmap.rgb_hex_str(i) for i in cmap.index]\n",
    "\n",
    "df = speedmap_segs[['time_of_day', 'p50_mph', 'p20_mph', 'p80_mph']]\n",
    "df = df >> group_by(_.time_of_day) >> summarize(p50_mph = _.p50_mph.quantile(.5),\n",
    "                                               p20_mph = _.p20_mph.quantile(.5),\n",
    "                                               p80_mph = _.p80_mph.quantile(.5),)\n",
    "df['p50 - p20'] = -(df['p50_mph'] - df['p20_mph'])\n",
    "df['p80 - p50'] = df['p80_mph'] - df['p50_mph']\n",
    "\n",
    "error_bars = alt.Chart(df).mark_errorbar(thickness=5, color='gray', opacity=.6).encode(\n",
    "    y = alt.Y(\"p50_mph:Q\", title='Segment Speed (mph): 20, 50, 80%ile'),\n",
    "    yError=(\"p50 - p20:Q\"),\n",
    "    yError2=(\"p80 - p50:Q\"),\n",
    "    x = alt.X(\"time_of_day:N\", sort=['Early AM', 'AM Peak', 'Midday', 'PM Peak', 'Evening', 'Owl']),\n",
    "    tooltip=[alt.Tooltip('p20_mph:Q', title=\"p20 mph\"), alt.Tooltip('p50_mph:Q', title=\"p50 mph\"),\n",
    "            alt.Tooltip('p80_mph:Q', title=\"p80 mph\")]\n",
    ").properties(width=400)\n",
    "\n",
    "points = alt.Chart(df).mark_point(filled=True, size = 300, opacity = 1).encode(\n",
    "    alt.Y(\"p50_mph:Q\"),\n",
    "    alt.X(\"time_of_day:N\", sort=['Early AM', 'AM Peak', 'Midday', 'PM Peak', 'Evening', 'Owl'],\n",
    "         title='Time of Day'),\n",
    "    color=alt.Color('p50_mph', title='Median Segment Speed (mph)').scale(domain=domain, range = range_),\n",
    "    tooltip=[alt.Tooltip('p50_mph:Q', title=\"p50 mph\")],\n",
    ")\n",
    "\n",
    "chart = error_bars + points\n",
    "chart = chart.configure(axis = alt.AxisConfig(labelFontSize=14, titleFontSize=18),\n",
    "                       legend = alt.LegendConfig(titleFontSize=14, labelFontSize=14, titleLimit=250,\n",
    "                                                 titleOrient='left', labelOffset=100))"
   ]
  },
  {
   "cell_type": "code",
   "execution_count": 32,
   "id": "be49a590-13d0-47d9-a28c-de21729c373e",
   "metadata": {},
   "outputs": [
    {
     "data": {
      "text/html": [
       "\n",
       "<style>\n",
       "  #altair-viz-ff8b9f467bd3437295cf00c310b70947.vega-embed {\n",
       "    width: 100%;\n",
       "    display: flex;\n",
       "  }\n",
       "\n",
       "  #altair-viz-ff8b9f467bd3437295cf00c310b70947.vega-embed details,\n",
       "  #altair-viz-ff8b9f467bd3437295cf00c310b70947.vega-embed details summary {\n",
       "    position: relative;\n",
       "  }\n",
       "</style>\n",
       "<div id=\"altair-viz-ff8b9f467bd3437295cf00c310b70947\"></div>\n",
       "<script type=\"text/javascript\">\n",
       "  var VEGA_DEBUG = (typeof VEGA_DEBUG == \"undefined\") ? {} : VEGA_DEBUG;\n",
       "  (function(spec, embedOpt){\n",
       "    let outputDiv = document.currentScript.previousElementSibling;\n",
       "    if (outputDiv.id !== \"altair-viz-ff8b9f467bd3437295cf00c310b70947\") {\n",
       "      outputDiv = document.getElementById(\"altair-viz-ff8b9f467bd3437295cf00c310b70947\");\n",
       "    }\n",
       "    const paths = {\n",
       "      \"vega\": \"https://cdn.jsdelivr.net/npm/vega@5?noext\",\n",
       "      \"vega-lib\": \"https://cdn.jsdelivr.net/npm/vega-lib?noext\",\n",
       "      \"vega-lite\": \"https://cdn.jsdelivr.net/npm/vega-lite@5.17.0?noext\",\n",
       "      \"vega-embed\": \"https://cdn.jsdelivr.net/npm/vega-embed@6?noext\",\n",
       "    };\n",
       "\n",
       "    function maybeLoadScript(lib, version) {\n",
       "      var key = `${lib.replace(\"-\", \"\")}_version`;\n",
       "      return (VEGA_DEBUG[key] == version) ?\n",
       "        Promise.resolve(paths[lib]) :\n",
       "        new Promise(function(resolve, reject) {\n",
       "          var s = document.createElement('script');\n",
       "          document.getElementsByTagName(\"head\")[0].appendChild(s);\n",
       "          s.async = true;\n",
       "          s.onload = () => {\n",
       "            VEGA_DEBUG[key] = version;\n",
       "            return resolve(paths[lib]);\n",
       "          };\n",
       "          s.onerror = () => reject(`Error loading script: ${paths[lib]}`);\n",
       "          s.src = paths[lib];\n",
       "        });\n",
       "    }\n",
       "\n",
       "    function showError(err) {\n",
       "      outputDiv.innerHTML = `<div class=\"error\" style=\"color:red;\">${err}</div>`;\n",
       "      throw err;\n",
       "    }\n",
       "\n",
       "    function displayChart(vegaEmbed) {\n",
       "      vegaEmbed(outputDiv, spec, embedOpt)\n",
       "        .catch(err => showError(`Javascript Error: ${err.message}<br>This usually means there's a typo in your chart specification. See the javascript console for the full traceback.`));\n",
       "    }\n",
       "\n",
       "    if(typeof define === \"function\" && define.amd) {\n",
       "      requirejs.config({paths});\n",
       "      require([\"vega-embed\"], displayChart, err => showError(`Error loading script: ${err.message}`));\n",
       "    } else {\n",
       "      maybeLoadScript(\"vega\", \"5\")\n",
       "        .then(() => maybeLoadScript(\"vega-lite\", \"5.17.0\"))\n",
       "        .then(() => maybeLoadScript(\"vega-embed\", \"6\"))\n",
       "        .catch(showError)\n",
       "        .then(() => displayChart(vegaEmbed));\n",
       "    }\n",
       "  })({\"config\": {\"view\": {\"continuousWidth\": 300, \"continuousHeight\": 300}, \"axis\": {\"labelFontSize\": 14, \"titleFontSize\": 18}, \"legend\": {\"labelFontSize\": 14, \"labelOffset\": 100, \"titleFontSize\": 14, \"titleLimit\": 250, \"titleOrient\": \"left\"}}, \"layer\": [{\"mark\": {\"type\": \"errorbar\", \"color\": \"gray\", \"opacity\": 0.6, \"thickness\": 5}, \"encoding\": {\"tooltip\": [{\"field\": \"p20_mph\", \"title\": \"p20 mph\", \"type\": \"quantitative\"}, {\"field\": \"p50_mph\", \"title\": \"p50 mph\", \"type\": \"quantitative\"}, {\"field\": \"p80_mph\", \"title\": \"p80 mph\", \"type\": \"quantitative\"}], \"x\": {\"field\": \"time_of_day\", \"sort\": [\"Early AM\", \"AM Peak\", \"Midday\", \"PM Peak\", \"Evening\", \"Owl\"], \"type\": \"nominal\"}, \"y\": {\"field\": \"p50_mph\", \"title\": \"Segment Speed (mph): 20, 50, 80%ile\", \"type\": \"quantitative\"}, \"yError\": {\"field\": \"p50 - p20\"}, \"yError2\": {\"field\": \"p80 - p50\"}}}, {\"mark\": {\"type\": \"point\", \"filled\": true, \"opacity\": 1, \"size\": 300}, \"encoding\": {\"color\": {\"field\": \"p50_mph\", \"scale\": {\"domain\": [0.0, 3.0, 6.0, 9.0, 12.0, 15.0, 18.0, 21.0, 24.0, 27.0, 30.0], \"range\": [\"#67001f\", \"#67001f\", \"#b2182b\", \"#d6604d\", \"#f4a582\", \"#fddbc7\", \"#d1e5f0\", \"#92c5de\", \"#4393c3\", \"#2166ac\", \"#053061\"]}, \"title\": \"Median Segment Speed (mph)\", \"type\": \"quantitative\"}, \"tooltip\": [{\"field\": \"p50_mph\", \"title\": \"p50 mph\", \"type\": \"quantitative\"}], \"x\": {\"field\": \"time_of_day\", \"sort\": [\"Early AM\", \"AM Peak\", \"Midday\", \"PM Peak\", \"Evening\", \"Owl\"], \"title\": \"Time of Day\", \"type\": \"nominal\"}, \"y\": {\"field\": \"p50_mph\", \"type\": \"quantitative\"}}}], \"data\": {\"name\": \"data-9375c9e42e8d9895bedbc7535cbb6af2\"}, \"width\": 400, \"$schema\": \"https://vega.github.io/schema/vega-lite/v5.17.0.json\", \"datasets\": {\"data-9375c9e42e8d9895bedbc7535cbb6af2\": [{\"time_of_day\": \"AM Peak\", \"p50_mph\": 17.59, \"p20_mph\": 15.16, \"p80_mph\": 19.75, \"p50 - p20\": -2.4299999999999997, \"p80 - p50\": 2.16}, {\"time_of_day\": \"Early AM\", \"p50_mph\": 21.325, \"p20_mph\": 20.585, \"p80_mph\": 21.725, \"p50 - p20\": -0.7399999999999984, \"p80 - p50\": 0.40000000000000213}, {\"time_of_day\": \"Evening\", \"p50_mph\": 20.495, \"p20_mph\": 19.835, \"p80_mph\": 21.07, \"p50 - p20\": -0.6600000000000001, \"p80 - p50\": 0.5749999999999993}, {\"time_of_day\": \"Midday\", \"p50_mph\": 18.53, \"p20_mph\": 15.95, \"p80_mph\": 21.3, \"p50 - p20\": -2.580000000000002, \"p80 - p50\": 2.7699999999999996}, {\"time_of_day\": \"Owl\", \"p50_mph\": 39.21, \"p20_mph\": 38.57, \"p80_mph\": 40.22, \"p50 - p20\": -0.6400000000000006, \"p80 - p50\": 1.009999999999998}, {\"time_of_day\": \"PM Peak\", \"p50_mph\": 17.85, \"p20_mph\": 15.38, \"p80_mph\": 20.645, \"p50 - p20\": -2.4700000000000006, \"p80 - p50\": 2.794999999999998}]}}, {\"mode\": \"vega-lite\"});\n",
       "</script>"
      ],
      "text/plain": [
       "alt.LayerChart(...)"
      ]
     },
     "execution_count": 32,
     "metadata": {},
     "output_type": "execute_result"
    }
   ],
   "source": [
    "chart"
   ]
  },
  {
   "cell_type": "code",
   "execution_count": 67,
   "id": "40979f68-b80b-4879-8892-3271a74efc8b",
   "metadata": {},
   "outputs": [
    {
     "data": {
      "text/html": [
       "\n",
       "<style>\n",
       "  #altair-viz-c7b0d6a85a794318a9c5f9aa0793888e.vega-embed {\n",
       "    width: 100%;\n",
       "    display: flex;\n",
       "  }\n",
       "\n",
       "  #altair-viz-c7b0d6a85a794318a9c5f9aa0793888e.vega-embed details,\n",
       "  #altair-viz-c7b0d6a85a794318a9c5f9aa0793888e.vega-embed details summary {\n",
       "    position: relative;\n",
       "  }\n",
       "</style>\n",
       "<div id=\"altair-viz-c7b0d6a85a794318a9c5f9aa0793888e\"></div>\n",
       "<script type=\"text/javascript\">\n",
       "  var VEGA_DEBUG = (typeof VEGA_DEBUG == \"undefined\") ? {} : VEGA_DEBUG;\n",
       "  (function(spec, embedOpt){\n",
       "    let outputDiv = document.currentScript.previousElementSibling;\n",
       "    if (outputDiv.id !== \"altair-viz-c7b0d6a85a794318a9c5f9aa0793888e\") {\n",
       "      outputDiv = document.getElementById(\"altair-viz-c7b0d6a85a794318a9c5f9aa0793888e\");\n",
       "    }\n",
       "    const paths = {\n",
       "      \"vega\": \"https://cdn.jsdelivr.net/npm/vega@5?noext\",\n",
       "      \"vega-lib\": \"https://cdn.jsdelivr.net/npm/vega-lib?noext\",\n",
       "      \"vega-lite\": \"https://cdn.jsdelivr.net/npm/vega-lite@5.17.0?noext\",\n",
       "      \"vega-embed\": \"https://cdn.jsdelivr.net/npm/vega-embed@6?noext\",\n",
       "    };\n",
       "\n",
       "    function maybeLoadScript(lib, version) {\n",
       "      var key = `${lib.replace(\"-\", \"\")}_version`;\n",
       "      return (VEGA_DEBUG[key] == version) ?\n",
       "        Promise.resolve(paths[lib]) :\n",
       "        new Promise(function(resolve, reject) {\n",
       "          var s = document.createElement('script');\n",
       "          document.getElementsByTagName(\"head\")[0].appendChild(s);\n",
       "          s.async = true;\n",
       "          s.onload = () => {\n",
       "            VEGA_DEBUG[key] = version;\n",
       "            return resolve(paths[lib]);\n",
       "          };\n",
       "          s.onerror = () => reject(`Error loading script: ${paths[lib]}`);\n",
       "          s.src = paths[lib];\n",
       "        });\n",
       "    }\n",
       "\n",
       "    function showError(err) {\n",
       "      outputDiv.innerHTML = `<div class=\"error\" style=\"color:red;\">${err}</div>`;\n",
       "      throw err;\n",
       "    }\n",
       "\n",
       "    function displayChart(vegaEmbed) {\n",
       "      vegaEmbed(outputDiv, spec, embedOpt)\n",
       "        .catch(err => showError(`Javascript Error: ${err.message}<br>This usually means there's a typo in your chart specification. See the javascript console for the full traceback.`));\n",
       "    }\n",
       "\n",
       "    if(typeof define === \"function\" && define.amd) {\n",
       "      requirejs.config({paths});\n",
       "      require([\"vega-embed\"], displayChart, err => showError(`Error loading script: ${err.message}`));\n",
       "    } else {\n",
       "      maybeLoadScript(\"vega\", \"5\")\n",
       "        .then(() => maybeLoadScript(\"vega-lite\", \"5.17.0\"))\n",
       "        .then(() => maybeLoadScript(\"vega-embed\", \"6\"))\n",
       "        .catch(showError)\n",
       "        .then(() => displayChart(vegaEmbed));\n",
       "    }\n",
       "  })({\"config\": {\"view\": {\"continuousWidth\": 300, \"continuousHeight\": 300}, \"axis\": {\"labelFontSize\": 14, \"titleFontSize\": 18}, \"legend\": {\"labelFontSize\": 14, \"labelOffset\": 100, \"titleFontSize\": 14, \"titleLimit\": 250, \"titleOrient\": \"left\"}}, \"layer\": [{\"mark\": {\"type\": \"errorbar\", \"color\": \"gray\", \"opacity\": 0.6, \"thickness\": 5}, \"encoding\": {\"tooltip\": [{\"field\": \"p20_mph\", \"title\": \"p20 mph\", \"type\": \"quantitative\"}, {\"field\": \"p50_mph\", \"title\": \"p50 mph\", \"type\": \"quantitative\"}, {\"field\": \"p80_mph\", \"title\": \"p80 mph\", \"type\": \"quantitative\"}], \"x\": {\"field\": \"time_of_day\", \"sort\": [\"Early AM\", \"AM Peak\", \"Midday\", \"PM Peak\", \"Evening\", \"Owl\"], \"type\": \"nominal\"}, \"y\": {\"field\": \"p50_mph\", \"title\": \"Segment Speed (mph): 20, 50, 80%ile\", \"type\": \"quantitative\"}, \"yError\": {\"field\": \"p50 - p20\"}, \"yError2\": {\"field\": \"p80 - p50\"}}}, {\"mark\": {\"type\": \"point\", \"filled\": true, \"opacity\": 1, \"size\": 300}, \"encoding\": {\"color\": {\"field\": \"p50_mph\", \"scale\": {\"domain\": [1.0, 1.3, 1.6, 1.9000000000000001, 2.2, 2.5], \"range\": [\"#c6dbef\", \"#c6dbef\", \"#9ecae1\", \"#6baed6\", \"#3182bd\", \"#08519c\"]}, \"title\": \"Median Segment Speed (mph)\", \"type\": \"quantitative\"}, \"tooltip\": [{\"field\": \"p50_mph\", \"title\": \"p50 mph\", \"type\": \"quantitative\"}], \"x\": {\"field\": \"time_of_day\", \"sort\": [\"Early AM\", \"AM Peak\", \"Midday\", \"PM Peak\", \"Evening\", \"Owl\"], \"title\": \"Time of Day\", \"type\": \"nominal\"}, \"y\": {\"field\": \"p50_mph\", \"type\": \"quantitative\"}}}], \"data\": {\"name\": \"data-f9f7e198f598dcfa55ff14eb053f9818\"}, \"width\": 400, \"$schema\": \"https://vega.github.io/schema/vega-lite/v5.17.0.json\", \"datasets\": {\"data-f9f7e198f598dcfa55ff14eb053f9818\": [{\"time_of_day\": \"AM Peak\", \"p50_mph\": 13.2, \"p20_mph\": 11.1, \"p80_mph\": 16.6, \"p50 - p20\": -2.0999999999999996, \"p80 - p50\": 3.400000000000002}, {\"time_of_day\": \"Early AM\", \"p50_mph\": 17.15, \"p20_mph\": 15.5, \"p80_mph\": 18.8, \"p50 - p20\": -1.6499999999999986, \"p80 - p50\": 1.6500000000000021}, {\"time_of_day\": \"Evening\", \"p50_mph\": 16.8, \"p20_mph\": 14.6, \"p80_mph\": 19.9, \"p50 - p20\": -2.200000000000001, \"p80 - p50\": 3.099999999999998}, {\"time_of_day\": \"Midday\", \"p50_mph\": 13.8, \"p20_mph\": 11.3, \"p80_mph\": 17.2, \"p50 - p20\": -2.5, \"p80 - p50\": 3.3999999999999986}, {\"time_of_day\": \"PM Peak\", \"p50_mph\": 12.55, \"p20_mph\": 10.6, \"p80_mph\": 15.850000000000001, \"p50 - p20\": -1.950000000000001, \"p80 - p50\": 3.3000000000000007}]}}, {\"mode\": \"vega-lite\"});\n",
       "</script>"
      ],
      "text/plain": [
       "alt.LayerChart(...)"
      ]
     },
     "metadata": {},
     "output_type": "display_data"
    }
   ],
   "source": [
    "speedmap_utils.chart_speeds_by_time_period(speedmap_segs)"
   ]
  },
  {
   "cell_type": "code",
   "execution_count": null,
   "id": "cb6d466d-6d8e-4144-b1b8-69526553f347",
   "metadata": {},
   "outputs": [],
   "source": []
  }
 ],
 "metadata": {
  "kernelspec": {
   "display_name": "Python 3 (ipykernel)",
   "language": "python",
   "name": "python3"
  },
  "language_info": {
   "codemirror_mode": {
    "name": "ipython",
    "version": 3
   },
   "file_extension": ".py",
   "mimetype": "text/x-python",
   "name": "python",
   "nbconvert_exporter": "python",
   "pygments_lexer": "ipython3",
   "version": "3.9.13"
  },
  "widgets": {
   "application/vnd.jupyter.widget-state+json": {
    "state": {},
    "version_major": 2,
    "version_minor": 0
   }
  }
 },
 "nbformat": 4,
 "nbformat_minor": 5
}
