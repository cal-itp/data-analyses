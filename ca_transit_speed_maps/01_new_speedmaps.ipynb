{
 "cells": [
  {
   "cell_type": "code",
   "execution_count": null,
   "id": "46898b5c-b5cc-4096-ab68-8c3e42fab870",
   "metadata": {},
   "outputs": [],
   "source": [
    "%%capture\n",
    "import warnings\n",
    "warnings.filterwarnings('ignore')\n",
    "import calitp_data_analysis.magics\n",
    "import update_vars_index\n",
    "import pandas as pd\n",
    "import geopandas as gpd\n",
    "from siuba import *\n",
    "from shared_utils import catalog_utils, rt_utils\n",
    "import speedmap_utils\n",
    "\n",
    "analysis_date = update_vars_index.ANALYSIS_DATE\n",
    "catalog = catalog_utils.get_catalog('gtfs_analytics_data')"
   ]
  },
  {
   "cell_type": "code",
   "execution_count": null,
   "id": "9f15ed6a-5ab7-4f57-9695-3f762781b74c",
   "metadata": {
    "tags": [
     "parameters"
    ]
   },
   "outputs": [],
   "source": [
    "## parameters cell\n",
    "organization_source_record_id = 'rec5ome04BbA9uf4y'"
   ]
  },
  {
   "cell_type": "code",
   "execution_count": null,
   "id": "23f682c8-187e-4586-a0b2-00dd7569e0c4",
   "metadata": {},
   "outputs": [],
   "source": [
    "%%capture\n",
    "speedmap_segs, this_shn = speedmap_utils.read_segments_shn(organization_source_record_id=organization_source_record_id)"
   ]
  },
  {
   "cell_type": "code",
   "execution_count": null,
   "id": "11303bd3-01bf-4af4-b0fa-63dbc375bd48",
   "metadata": {},
   "outputs": [],
   "source": [
    "%%capture_parameters\n",
    "human_date = analysis_date.strftime('%B %d %Y (%A)')\n",
    "human_date"
   ]
  },
  {
   "cell_type": "code",
   "execution_count": null,
   "id": "649d7a14-8b01-4a84-afee-092bd3febbb8",
   "metadata": {},
   "outputs": [],
   "source": [
    "%%capture_parameters\n",
    "organization_name = speedmap_segs.organization_name.iloc[0]\n",
    "organization_name"
   ]
  },
  {
   "cell_type": "code",
   "execution_count": null,
   "id": "aebbea5a-8064-4845-9181-ac2a18f12d20",
   "metadata": {},
   "outputs": [],
   "source": [
    "import importlib\n",
    "importlib.reload(speedmap_utils)\n",
    "importlib.reload(update_vars_index)"
   ]
  },
  {
   "cell_type": "markdown",
   "id": "d0b9c978-e6a6-4646-a2c0-e3a603f1dfc3",
   "metadata": {},
   "source": [
    "# {organization_name}"
   ]
  },
  {
   "cell_type": "markdown",
   "id": "9470c739-9b57-4a80-86fe-ca62844a9331",
   "metadata": {
    "tags": []
   },
   "source": [
    "## About These Maps:\n",
    "\n",
    "* Each map shows bus (and rail, if applicable) speeds for {organization_name}, with a map each for the morning peak, midday, and afternoon peak periods on {human_date}.\n",
    "* On the map, routes are split into segments corresponding to the distance between two stops, allowing you to focus on specific portions of the route experiencing a slowdown.\n",
    "* Route segments are arrow-shaped to indicate direction of travel. Thicker segments indicate more frequent transit routes.\n",
    "* State Highway Network routes are outlined in gray.\n",
    "* Hover over, a segment with your mouse to see the exact speed, route name, and transit service frequency in that segment. \n",
    "    * Higher-frequency routes (3+ trips per hour) are especially important, since those slowdowns correspond to more vehicles, and riders, delayed in traffic."
   ]
  },
  {
   "cell_type": "markdown",
   "id": "db37b33a-6e9f-4a31-9b83-4a2a5a078241",
   "metadata": {
    "tags": []
   },
   "source": [
    "## AM Peak"
   ]
  },
  {
   "cell_type": "code",
   "execution_count": null,
   "id": "0a6d0609-3517-46be-a08f-0d04129a62ff",
   "metadata": {},
   "outputs": [],
   "source": [
    "%%capture\n",
    "link = speedmap_utils.map_time_period(district_gdf=this_shn, speedmap_segs=speedmap_segs, analysis_date=analysis_date,\n",
    "                              time_of_day='AM Peak', map_type='new_speedmap')"
   ]
  },
  {
   "cell_type": "code",
   "execution_count": null,
   "id": "22dea4bc-91c3-43b9-a540-d9b52237f51f",
   "metadata": {},
   "outputs": [],
   "source": [
    "speedmap_utils.render_spa_link(link)"
   ]
  },
  {
   "cell_type": "code",
   "execution_count": null,
   "id": "7019c47a-0620-458a-a45a-005f288ee805",
   "metadata": {},
   "outputs": [],
   "source": [
    "speedmap_utils.display_spa_map(link)"
   ]
  },
  {
   "cell_type": "code",
   "execution_count": null,
   "id": "82a148cd-1561-4c88-bccf-f552307c2a3d",
   "metadata": {},
   "outputs": [],
   "source": [
    "%%capture\n",
    "link = speedmap_utils.map_time_period(district_gdf=this_shn, speedmap_segs=speedmap_segs, analysis_date=analysis_date,\n",
    "                              time_of_day='AM Peak', map_type='new_speed_variation')"
   ]
  },
  {
   "cell_type": "code",
   "execution_count": null,
   "id": "adf4b569-0029-4295-bc14-70017df6f28e",
   "metadata": {},
   "outputs": [],
   "source": [
    "speedmap_utils.render_spa_link(link)"
   ]
  },
  {
   "cell_type": "code",
   "execution_count": null,
   "id": "d497e0bc-a756-4f05-94d7-174fa45a458c",
   "metadata": {},
   "outputs": [],
   "source": [
    "speedmap_utils.display_spa_map(link)"
   ]
  },
  {
   "cell_type": "code",
   "execution_count": null,
   "id": "40979f68-b80b-4879-8892-3271a74efc8b",
   "metadata": {},
   "outputs": [],
   "source": [
    "speedmap_utils.chart_speeds_by_time_period(speedmap_segs)"
   ]
  }
 ],
 "metadata": {
  "kernelspec": {
   "display_name": "Python 3 (ipykernel)",
   "language": "python",
   "name": "python3"
  },
  "language_info": {
   "codemirror_mode": {
    "name": "ipython",
    "version": 3
   },
   "file_extension": ".py",
   "mimetype": "text/x-python",
   "name": "python",
   "nbconvert_exporter": "python",
   "pygments_lexer": "ipython3",
   "version": "3.9.13"
  },
  "widgets": {
   "application/vnd.jupyter.widget-state+json": {
    "state": {},
    "version_major": 2,
    "version_minor": 0
   }
  }
 },
 "nbformat": 4,
 "nbformat_minor": 5
}
