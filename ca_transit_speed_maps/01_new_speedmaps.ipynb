{
 "cells": [
  {
   "cell_type": "code",
   "execution_count": 1,
   "id": "46898b5c-b5cc-4096-ab68-8c3e42fab870",
   "metadata": {},
   "outputs": [],
   "source": [
    "%%capture\n",
    "import warnings\n",
    "warnings.filterwarnings('ignore')\n",
    "\n",
    "import calitp_data_analysis.magics\n",
    "\n",
    "from rt_analysis import rt_filter_map_plot\n",
    "import build_speedmaps_index\n",
    "\n",
    "from IPython.display import display, Markdown\n",
    "import pandas as pd\n",
    "import geopandas as gpd\n",
    "from siuba import *\n",
    "\n",
    "import shared_utils"
   ]
  },
  {
   "cell_type": "code",
   "execution_count": 2,
   "id": "cf3d8814-6f22-4a22-8b03-429ebb63a397",
   "metadata": {},
   "outputs": [],
   "source": [
    "catalog = shared_utils.catalog_utils.get_catalog('gtfs_analytics_data')"
   ]
  },
  {
   "cell_type": "code",
   "execution_count": 3,
   "id": "9f15ed6a-5ab7-4f57-9695-3f762781b74c",
   "metadata": {
    "tags": [
     "parameters"
    ]
   },
   "outputs": [],
   "source": [
    "## parameters cell\n",
    "itp_id = 167"
   ]
  },
  {
   "cell_type": "code",
   "execution_count": 4,
   "id": "a639fd84-29ca-4678-b568-2b1022701e14",
   "metadata": {},
   "outputs": [],
   "source": [
    "analysis_date = build_speedmaps_index.ANALYSIS_DATE\n",
    "import datetime as dt\n",
    "# if itp_id == 293:\n",
    "#     analysis_date = dt.date(2023, 9, 13)"
   ]
  },
  {
   "cell_type": "code",
   "execution_count": 5,
   "id": "1f9f9a1e-7435-45e3-8555-dc1d29a6af00",
   "metadata": {},
   "outputs": [],
   "source": [
    "speedmap_index = pd.read_parquet(f'_rt_progress_{analysis_date}.parquet') >> filter(_.caltrans_district == '04 - Oakland')"
   ]
  },
  {
   "cell_type": "code",
   "execution_count": 6,
   "id": "a2975449-8fc0-4970-95d8-3429e15b11af",
   "metadata": {},
   "outputs": [
    {
     "data": {
      "text/html": [
       "<div>\n",
       "<style scoped>\n",
       "    .dataframe tbody tr th:only-of-type {\n",
       "        vertical-align: middle;\n",
       "    }\n",
       "\n",
       "    .dataframe tbody tr th {\n",
       "        vertical-align: top;\n",
       "    }\n",
       "\n",
       "    .dataframe thead th {\n",
       "        text-align: right;\n",
       "    }\n",
       "</style>\n",
       "<table border=\"1\" class=\"dataframe\">\n",
       "  <thead>\n",
       "    <tr style=\"text-align: right;\">\n",
       "      <th></th>\n",
       "      <th>organization_name</th>\n",
       "      <th>organization_itp_id</th>\n",
       "      <th>organization_source_record_id</th>\n",
       "      <th>caltrans_district</th>\n",
       "      <th>_is_current</th>\n",
       "      <th>analysis_date</th>\n",
       "      <th>schedule_gtfs_dataset_key</th>\n",
       "      <th>status</th>\n",
       "    </tr>\n",
       "  </thead>\n",
       "  <tbody>\n",
       "    <tr>\n",
       "      <th>2</th>\n",
       "      <td>City of Union City</td>\n",
       "      <td>350</td>\n",
       "      <td>recmB4uxrVLRXYF3L</td>\n",
       "      <td>04 - Oakland</td>\n",
       "      <td>True</td>\n",
       "      <td>2024-10-16</td>\n",
       "      <td>b82a23bef8a501e980c086ef269ffec7</td>\n",
       "      <td>speedmap_segs_available</td>\n",
       "    </tr>\n",
       "    <tr>\n",
       "      <th>4</th>\n",
       "      <td>Capitol Corridor Joint Powers Authority</td>\n",
       "      <td>56</td>\n",
       "      <td>recvEBkSBc7UxlarC</td>\n",
       "      <td>04 - Oakland</td>\n",
       "      <td>True</td>\n",
       "      <td>2024-10-16</td>\n",
       "      <td>f5a749dd65924e025b1293c58f95f8d6</td>\n",
       "      <td>speedmap_segs_available</td>\n",
       "    </tr>\n",
       "    <tr>\n",
       "      <th>5</th>\n",
       "      <td>Golden Gate Bridge, Highway and Transportation...</td>\n",
       "      <td>127</td>\n",
       "      <td>recoX7qMhlPrgfuz3</td>\n",
       "      <td>04 - Oakland</td>\n",
       "      <td>True</td>\n",
       "      <td>2024-10-16</td>\n",
       "      <td>aea4108997c66a74fbdae27b34b69fde</td>\n",
       "      <td>speedmap_segs_available</td>\n",
       "    </tr>\n",
       "    <tr>\n",
       "      <th>6</th>\n",
       "      <td>Sonoma-Marin Area Rail Transit District</td>\n",
       "      <td>315</td>\n",
       "      <td>recUmm4gcNXaqrwpn</td>\n",
       "      <td>04 - Oakland</td>\n",
       "      <td>True</td>\n",
       "      <td>2024-10-16</td>\n",
       "      <td>0881af3822466784992a49f1cc57d38f</td>\n",
       "      <td>speedmap_segs_available</td>\n",
       "    </tr>\n",
       "    <tr>\n",
       "      <th>7</th>\n",
       "      <td>Central Contra Costa Transit Authority</td>\n",
       "      <td>61</td>\n",
       "      <td>recjnaKVDEgulsko3</td>\n",
       "      <td>04 - Oakland</td>\n",
       "      <td>True</td>\n",
       "      <td>2024-10-16</td>\n",
       "      <td>587e730fac4db21d54037e0f12b0dd5d</td>\n",
       "      <td>speedmap_segs_available</td>\n",
       "    </tr>\n",
       "    <tr>\n",
       "      <th>8</th>\n",
       "      <td>University of California, Berkeley</td>\n",
       "      <td>33</td>\n",
       "      <td>recD9x7GHPrN46v6m</td>\n",
       "      <td>04 - Oakland</td>\n",
       "      <td>True</td>\n",
       "      <td>2024-10-16</td>\n",
       "      <td>a8d5f90bfd689badb7e1deb041408e96</td>\n",
       "      <td>speedmap_segs_available</td>\n",
       "    </tr>\n",
       "    <tr>\n",
       "      <th>9</th>\n",
       "      <td>Solano County Transit</td>\n",
       "      <td>310</td>\n",
       "      <td>reclLbvvKE1V4zsZg</td>\n",
       "      <td>04 - Oakland</td>\n",
       "      <td>True</td>\n",
       "      <td>2024-10-16</td>\n",
       "      <td>1ebafaca8716652559b2017b6eedc4ef</td>\n",
       "      <td>speedmap_segs_available</td>\n",
       "    </tr>\n",
       "    <tr>\n",
       "      <th>10</th>\n",
       "      <td>Solano Transportation Authority</td>\n",
       "      <td>381</td>\n",
       "      <td>rec7ShjfgRPLU0yjY</td>\n",
       "      <td>04 - Oakland</td>\n",
       "      <td>True</td>\n",
       "      <td>2024-10-16</td>\n",
       "      <td>1ebafaca8716652559b2017b6eedc4ef</td>\n",
       "      <td>speedmap_segs_available</td>\n",
       "    </tr>\n",
       "    <tr>\n",
       "      <th>17</th>\n",
       "      <td>San Mateo County Transit District</td>\n",
       "      <td>290</td>\n",
       "      <td>recw3mRsmKDTNnVlT</td>\n",
       "      <td>04 - Oakland</td>\n",
       "      <td>True</td>\n",
       "      <td>2024-10-16</td>\n",
       "      <td>5456c80d420043e15c8eb7368a8a4d89</td>\n",
       "      <td>speedmap_segs_available</td>\n",
       "    </tr>\n",
       "    <tr>\n",
       "      <th>22</th>\n",
       "      <td>Peninsula Corridor Joint Powers Board</td>\n",
       "      <td>246</td>\n",
       "      <td>rec2ErIfztLMJ4rgG</td>\n",
       "      <td>04 - Oakland</td>\n",
       "      <td>True</td>\n",
       "      <td>2024-10-16</td>\n",
       "      <td>9b4c9cf681dfcc10dffe9523b43598bf</td>\n",
       "      <td>speedmap_segs_available</td>\n",
       "    </tr>\n",
       "    <tr>\n",
       "      <th>27</th>\n",
       "      <td>City of Santa Rosa</td>\n",
       "      <td>301</td>\n",
       "      <td>recsNvWvLQwGsoxlE</td>\n",
       "      <td>04 - Oakland</td>\n",
       "      <td>True</td>\n",
       "      <td>2024-10-16</td>\n",
       "      <td>8fa3380c9291d3694494c34b014642d0</td>\n",
       "      <td>speedmap_segs_available</td>\n",
       "    </tr>\n",
       "    <tr>\n",
       "      <th>32</th>\n",
       "      <td>Western Contra Costa Transit Authority</td>\n",
       "      <td>368</td>\n",
       "      <td>recIKnsnTdKQ0vsiv</td>\n",
       "      <td>04 - Oakland</td>\n",
       "      <td>True</td>\n",
       "      <td>2024-10-16</td>\n",
       "      <td>78b44303c1714f6c6a4801637c2a5c9d</td>\n",
       "      <td>speedmap_segs_available</td>\n",
       "    </tr>\n",
       "    <tr>\n",
       "      <th>39</th>\n",
       "      <td>Livermore-Amador Valley Transit Authority</td>\n",
       "      <td>167</td>\n",
       "      <td>recANs4M9yDhvDyob</td>\n",
       "      <td>04 - Oakland</td>\n",
       "      <td>False</td>\n",
       "      <td>2024-10-16</td>\n",
       "      <td>dcb6fb26f2d08393f9b0b1c14dc8775c</td>\n",
       "      <td>speedmap_segs_available</td>\n",
       "    </tr>\n",
       "    <tr>\n",
       "      <th>41</th>\n",
       "      <td>City of Fairfield</td>\n",
       "      <td>110</td>\n",
       "      <td>recot6qBamlOoLcrM</td>\n",
       "      <td>04 - Oakland</td>\n",
       "      <td>True</td>\n",
       "      <td>2024-10-16</td>\n",
       "      <td>0f5e1b251db53223200c5bfc365d33f2</td>\n",
       "      <td>speedmap_segs_available</td>\n",
       "    </tr>\n",
       "    <tr>\n",
       "      <th>46</th>\n",
       "      <td>Eastern Contra Costa Transit Authority</td>\n",
       "      <td>336</td>\n",
       "      <td>recEEJVeGrHGoTwgj</td>\n",
       "      <td>04 - Oakland</td>\n",
       "      <td>True</td>\n",
       "      <td>2024-10-16</td>\n",
       "      <td>55a01ef72af21906934ae8ffb4786e86</td>\n",
       "      <td>speedmap_segs_available</td>\n",
       "    </tr>\n",
       "    <tr>\n",
       "      <th>50</th>\n",
       "      <td>Cloverdale Transit</td>\n",
       "      <td>70</td>\n",
       "      <td>recRM3c9Zfaft4V2B</td>\n",
       "      <td>04 - Oakland</td>\n",
       "      <td>True</td>\n",
       "      <td>2024-10-16</td>\n",
       "      <td>09e16227fc42c4fe90204a9d11581034</td>\n",
       "      <td>speedmap_segs_available</td>\n",
       "    </tr>\n",
       "    <tr>\n",
       "      <th>51</th>\n",
       "      <td>Sonoma County</td>\n",
       "      <td>314</td>\n",
       "      <td>recDupUxInMUgxeiz</td>\n",
       "      <td>04 - Oakland</td>\n",
       "      <td>True</td>\n",
       "      <td>2024-10-16</td>\n",
       "      <td>09e16227fc42c4fe90204a9d11581034</td>\n",
       "      <td>speedmap_segs_available</td>\n",
       "    </tr>\n",
       "    <tr>\n",
       "      <th>73</th>\n",
       "      <td>Napa Valley Transportation Authority</td>\n",
       "      <td>218</td>\n",
       "      <td>rec9RGrya9SjWYp2p</td>\n",
       "      <td>04 - Oakland</td>\n",
       "      <td>True</td>\n",
       "      <td>2024-10-16</td>\n",
       "      <td>1dc8ca4d6e9e915c60172b9ff57baefc</td>\n",
       "      <td>speedmap_segs_available</td>\n",
       "    </tr>\n",
       "    <tr>\n",
       "      <th>75</th>\n",
       "      <td>Santa Clara Valley Transportation Authority</td>\n",
       "      <td>294</td>\n",
       "      <td>recC5CT95EufmQCXr</td>\n",
       "      <td>04 - Oakland</td>\n",
       "      <td>True</td>\n",
       "      <td>2024-10-16</td>\n",
       "      <td>fb467982dcc77a7f9199bebe709bb700</td>\n",
       "      <td>speedmap_segs_available</td>\n",
       "    </tr>\n",
       "    <tr>\n",
       "      <th>85</th>\n",
       "      <td>City of Petaluma</td>\n",
       "      <td>247</td>\n",
       "      <td>recUbGDXhPdx3494b</td>\n",
       "      <td>04 - Oakland</td>\n",
       "      <td>True</td>\n",
       "      <td>2024-10-16</td>\n",
       "      <td>5ecac12d61709ec34b5f30a34fdbab64</td>\n",
       "      <td>speedmap_segs_available</td>\n",
       "    </tr>\n",
       "    <tr>\n",
       "      <th>89</th>\n",
       "      <td>City and County of San Francisco</td>\n",
       "      <td>282</td>\n",
       "      <td>rechaapWbeffO33OX</td>\n",
       "      <td>04 - Oakland</td>\n",
       "      <td>True</td>\n",
       "      <td>2024-10-16</td>\n",
       "      <td>7cc0cb1871dfd558f11a2885c145d144</td>\n",
       "      <td>speedmap_segs_available</td>\n",
       "    </tr>\n",
       "    <tr>\n",
       "      <th>96</th>\n",
       "      <td>Alameda-Contra Costa Transit District</td>\n",
       "      <td>4</td>\n",
       "      <td>recOZgevYf7Jimm9L</td>\n",
       "      <td>04 - Oakland</td>\n",
       "      <td>True</td>\n",
       "      <td>2024-10-16</td>\n",
       "      <td>c499f905e33929a641f083dad55c521e</td>\n",
       "      <td>speedmap_segs_available</td>\n",
       "    </tr>\n",
       "    <tr>\n",
       "      <th>106</th>\n",
       "      <td>San Francisco Bay Area Water Emergency Transit...</td>\n",
       "      <td>280</td>\n",
       "      <td>recmatCuQAUrNcs8j</td>\n",
       "      <td>04 - Oakland</td>\n",
       "      <td>True</td>\n",
       "      <td>2024-10-16</td>\n",
       "      <td>de10a800dfec0f380e0abc7204c7dc91</td>\n",
       "      <td>speedmap_segs_available</td>\n",
       "    </tr>\n",
       "    <tr>\n",
       "      <th>114</th>\n",
       "      <td>Marin County Transit District</td>\n",
       "      <td>194</td>\n",
       "      <td>recNOb7pqBRlQVG5e</td>\n",
       "      <td>04 - Oakland</td>\n",
       "      <td>True</td>\n",
       "      <td>2024-10-16</td>\n",
       "      <td>015d67d5b75b5cf2b710bbadadfb75f5</td>\n",
       "      <td>speedmap_segs_available</td>\n",
       "    </tr>\n",
       "    <tr>\n",
       "      <th>117</th>\n",
       "      <td>Presidio Trust</td>\n",
       "      <td>257</td>\n",
       "      <td>recsBfXgev9ICDCY1</td>\n",
       "      <td>04 - Oakland</td>\n",
       "      <td>False</td>\n",
       "      <td>2024-10-16</td>\n",
       "      <td>4be4d02062a1a82dae5c039092ee8541</td>\n",
       "      <td>speedmap_segs_available</td>\n",
       "    </tr>\n",
       "  </tbody>\n",
       "</table>\n",
       "</div>"
      ],
      "text/plain": [
       "                                     organization_name  organization_itp_id  \\\n",
       "2                                   City of Union City                  350   \n",
       "4              Capitol Corridor Joint Powers Authority                   56   \n",
       "5    Golden Gate Bridge, Highway and Transportation...                  127   \n",
       "6              Sonoma-Marin Area Rail Transit District                  315   \n",
       "7               Central Contra Costa Transit Authority                   61   \n",
       "8                   University of California, Berkeley                   33   \n",
       "9                                Solano County Transit                  310   \n",
       "10                     Solano Transportation Authority                  381   \n",
       "17                   San Mateo County Transit District                  290   \n",
       "22               Peninsula Corridor Joint Powers Board                  246   \n",
       "27                                  City of Santa Rosa                  301   \n",
       "32              Western Contra Costa Transit Authority                  368   \n",
       "39           Livermore-Amador Valley Transit Authority                  167   \n",
       "41                                   City of Fairfield                  110   \n",
       "46              Eastern Contra Costa Transit Authority                  336   \n",
       "50                                  Cloverdale Transit                   70   \n",
       "51                                       Sonoma County                  314   \n",
       "73                Napa Valley Transportation Authority                  218   \n",
       "75         Santa Clara Valley Transportation Authority                  294   \n",
       "85                                    City of Petaluma                  247   \n",
       "89                    City and County of San Francisco                  282   \n",
       "96               Alameda-Contra Costa Transit District                    4   \n",
       "106  San Francisco Bay Area Water Emergency Transit...                  280   \n",
       "114                      Marin County Transit District                  194   \n",
       "117                                     Presidio Trust                  257   \n",
       "\n",
       "    organization_source_record_id caltrans_district  _is_current  \\\n",
       "2               recmB4uxrVLRXYF3L      04 - Oakland         True   \n",
       "4               recvEBkSBc7UxlarC      04 - Oakland         True   \n",
       "5               recoX7qMhlPrgfuz3      04 - Oakland         True   \n",
       "6               recUmm4gcNXaqrwpn      04 - Oakland         True   \n",
       "7               recjnaKVDEgulsko3      04 - Oakland         True   \n",
       "8               recD9x7GHPrN46v6m      04 - Oakland         True   \n",
       "9               reclLbvvKE1V4zsZg      04 - Oakland         True   \n",
       "10              rec7ShjfgRPLU0yjY      04 - Oakland         True   \n",
       "17              recw3mRsmKDTNnVlT      04 - Oakland         True   \n",
       "22              rec2ErIfztLMJ4rgG      04 - Oakland         True   \n",
       "27              recsNvWvLQwGsoxlE      04 - Oakland         True   \n",
       "32              recIKnsnTdKQ0vsiv      04 - Oakland         True   \n",
       "39              recANs4M9yDhvDyob      04 - Oakland        False   \n",
       "41              recot6qBamlOoLcrM      04 - Oakland         True   \n",
       "46              recEEJVeGrHGoTwgj      04 - Oakland         True   \n",
       "50              recRM3c9Zfaft4V2B      04 - Oakland         True   \n",
       "51              recDupUxInMUgxeiz      04 - Oakland         True   \n",
       "73              rec9RGrya9SjWYp2p      04 - Oakland         True   \n",
       "75              recC5CT95EufmQCXr      04 - Oakland         True   \n",
       "85              recUbGDXhPdx3494b      04 - Oakland         True   \n",
       "89              rechaapWbeffO33OX      04 - Oakland         True   \n",
       "96              recOZgevYf7Jimm9L      04 - Oakland         True   \n",
       "106             recmatCuQAUrNcs8j      04 - Oakland         True   \n",
       "114             recNOb7pqBRlQVG5e      04 - Oakland         True   \n",
       "117             recsBfXgev9ICDCY1      04 - Oakland        False   \n",
       "\n",
       "    analysis_date         schedule_gtfs_dataset_key                   status  \n",
       "2      2024-10-16  b82a23bef8a501e980c086ef269ffec7  speedmap_segs_available  \n",
       "4      2024-10-16  f5a749dd65924e025b1293c58f95f8d6  speedmap_segs_available  \n",
       "5      2024-10-16  aea4108997c66a74fbdae27b34b69fde  speedmap_segs_available  \n",
       "6      2024-10-16  0881af3822466784992a49f1cc57d38f  speedmap_segs_available  \n",
       "7      2024-10-16  587e730fac4db21d54037e0f12b0dd5d  speedmap_segs_available  \n",
       "8      2024-10-16  a8d5f90bfd689badb7e1deb041408e96  speedmap_segs_available  \n",
       "9      2024-10-16  1ebafaca8716652559b2017b6eedc4ef  speedmap_segs_available  \n",
       "10     2024-10-16  1ebafaca8716652559b2017b6eedc4ef  speedmap_segs_available  \n",
       "17     2024-10-16  5456c80d420043e15c8eb7368a8a4d89  speedmap_segs_available  \n",
       "22     2024-10-16  9b4c9cf681dfcc10dffe9523b43598bf  speedmap_segs_available  \n",
       "27     2024-10-16  8fa3380c9291d3694494c34b014642d0  speedmap_segs_available  \n",
       "32     2024-10-16  78b44303c1714f6c6a4801637c2a5c9d  speedmap_segs_available  \n",
       "39     2024-10-16  dcb6fb26f2d08393f9b0b1c14dc8775c  speedmap_segs_available  \n",
       "41     2024-10-16  0f5e1b251db53223200c5bfc365d33f2  speedmap_segs_available  \n",
       "46     2024-10-16  55a01ef72af21906934ae8ffb4786e86  speedmap_segs_available  \n",
       "50     2024-10-16  09e16227fc42c4fe90204a9d11581034  speedmap_segs_available  \n",
       "51     2024-10-16  09e16227fc42c4fe90204a9d11581034  speedmap_segs_available  \n",
       "73     2024-10-16  1dc8ca4d6e9e915c60172b9ff57baefc  speedmap_segs_available  \n",
       "75     2024-10-16  fb467982dcc77a7f9199bebe709bb700  speedmap_segs_available  \n",
       "85     2024-10-16  5ecac12d61709ec34b5f30a34fdbab64  speedmap_segs_available  \n",
       "89     2024-10-16  7cc0cb1871dfd558f11a2885c145d144  speedmap_segs_available  \n",
       "96     2024-10-16  c499f905e33929a641f083dad55c521e  speedmap_segs_available  \n",
       "106    2024-10-16  de10a800dfec0f380e0abc7204c7dc91  speedmap_segs_available  \n",
       "114    2024-10-16  015d67d5b75b5cf2b710bbadadfb75f5  speedmap_segs_available  \n",
       "117    2024-10-16  4be4d02062a1a82dae5c039092ee8541  speedmap_segs_available  "
      ]
     },
     "execution_count": 6,
     "metadata": {},
     "output_type": "execute_result"
    }
   ],
   "source": [
    "speedmap_index"
   ]
  },
  {
   "cell_type": "code",
   "execution_count": 7,
   "id": "eea40f4b-c378-4b70-a80b-bbe79f8441bf",
   "metadata": {
    "tags": []
   },
   "outputs": [],
   "source": [
    "speedmap_index = pd.read_parquet(f'_rt_progress_{analysis_date}.parquet') >> filter(_.organization_itp_id == itp_id)\n",
    "# speedmap_index = pd.read_parquet(f'_rt_progress_{analysis_date}.parquet') >> filter(_.organization_name.str.contains('Torr'))"
   ]
  },
  {
   "cell_type": "code",
   "execution_count": 8,
   "id": "c54b78fd-de92-45d9-b54d-49c5b88945c7",
   "metadata": {},
   "outputs": [
    {
     "data": {
      "text/html": [
       "<div>\n",
       "<style scoped>\n",
       "    .dataframe tbody tr th:only-of-type {\n",
       "        vertical-align: middle;\n",
       "    }\n",
       "\n",
       "    .dataframe tbody tr th {\n",
       "        vertical-align: top;\n",
       "    }\n",
       "\n",
       "    .dataframe thead th {\n",
       "        text-align: right;\n",
       "    }\n",
       "</style>\n",
       "<table border=\"1\" class=\"dataframe\">\n",
       "  <thead>\n",
       "    <tr style=\"text-align: right;\">\n",
       "      <th></th>\n",
       "      <th>organization_name</th>\n",
       "      <th>organization_itp_id</th>\n",
       "      <th>organization_source_record_id</th>\n",
       "      <th>caltrans_district</th>\n",
       "      <th>_is_current</th>\n",
       "      <th>analysis_date</th>\n",
       "      <th>schedule_gtfs_dataset_key</th>\n",
       "      <th>status</th>\n",
       "    </tr>\n",
       "  </thead>\n",
       "  <tbody>\n",
       "    <tr>\n",
       "      <th>39</th>\n",
       "      <td>Livermore-Amador Valley Transit Authority</td>\n",
       "      <td>167</td>\n",
       "      <td>recANs4M9yDhvDyob</td>\n",
       "      <td>04 - Oakland</td>\n",
       "      <td>False</td>\n",
       "      <td>2024-10-16</td>\n",
       "      <td>dcb6fb26f2d08393f9b0b1c14dc8775c</td>\n",
       "      <td>speedmap_segs_available</td>\n",
       "    </tr>\n",
       "  </tbody>\n",
       "</table>\n",
       "</div>"
      ],
      "text/plain": [
       "                            organization_name  organization_itp_id  \\\n",
       "39  Livermore-Amador Valley Transit Authority                  167   \n",
       "\n",
       "   organization_source_record_id caltrans_district  _is_current analysis_date  \\\n",
       "39             recANs4M9yDhvDyob      04 - Oakland        False    2024-10-16   \n",
       "\n",
       "           schedule_gtfs_dataset_key                   status  \n",
       "39  dcb6fb26f2d08393f9b0b1c14dc8775c  speedmap_segs_available  "
      ]
     },
     "execution_count": 8,
     "metadata": {},
     "output_type": "execute_result"
    }
   ],
   "source": [
    "speedmap_index"
   ]
  },
  {
   "cell_type": "code",
   "execution_count": 9,
   "id": "1b9762c8-0235-4d8f-b7a4-20a3213eb45e",
   "metadata": {},
   "outputs": [],
   "source": [
    "path = f'{catalog.speedmap_segments.dir}{catalog.speedmap_segments.shape_stop_single_segment_detail}_{analysis_date}.parquet'"
   ]
  },
  {
   "cell_type": "code",
   "execution_count": 10,
   "id": "9302c0ad-1201-4c5a-8267-ec52719cf777",
   "metadata": {},
   "outputs": [],
   "source": [
    "speedmap_segs = gpd.read_parquet(path) #  aggregated"
   ]
  },
  {
   "cell_type": "code",
   "execution_count": 11,
   "id": "19dbeff0-faf6-43e3-9edf-6e68dfeceeac",
   "metadata": {},
   "outputs": [
    {
     "data": {
      "text/plain": [
       "Index(['schedule_gtfs_dataset_key', 'shape_array_key', 'shape_id', 'route_id',\n",
       "       'route_short_name', 'stop_pair', 'stop_pair_name', 'segment_id',\n",
       "       'time_of_day', 'p50_mph', 'n_trips', 'p20_mph', 'p80_mph', 'name',\n",
       "       'caltrans_district', 'organization_source_record_id',\n",
       "       'organization_name', 'base64_url', 'geometry'],\n",
       "      dtype='object')"
      ]
     },
     "execution_count": 11,
     "metadata": {},
     "output_type": "execute_result"
    }
   ],
   "source": [
    "speedmap_segs.columns"
   ]
  },
  {
   "cell_type": "code",
   "execution_count": 12,
   "id": "9f3c4c93-a5f5-40d7-9315-63e4fecbd738",
   "metadata": {},
   "outputs": [],
   "source": [
    "speedmap_segs = speedmap_segs >> filter(_.schedule_gtfs_dataset_key == speedmap_index.schedule_gtfs_dataset_key.iloc[0])"
   ]
  },
  {
   "cell_type": "code",
   "execution_count": 13,
   "id": "33038798-16a0-46b5-a50e-2609c5729534",
   "metadata": {},
   "outputs": [
    {
     "data": {
      "text/html": [
       "<div>\n",
       "<style scoped>\n",
       "    .dataframe tbody tr th:only-of-type {\n",
       "        vertical-align: middle;\n",
       "    }\n",
       "\n",
       "    .dataframe tbody tr th {\n",
       "        vertical-align: top;\n",
       "    }\n",
       "\n",
       "    .dataframe thead th {\n",
       "        text-align: right;\n",
       "    }\n",
       "</style>\n",
       "<table border=\"1\" class=\"dataframe\">\n",
       "  <thead>\n",
       "    <tr style=\"text-align: right;\">\n",
       "      <th></th>\n",
       "      <th>schedule_gtfs_dataset_key</th>\n",
       "      <th>shape_array_key</th>\n",
       "      <th>shape_id</th>\n",
       "      <th>route_id</th>\n",
       "      <th>route_short_name</th>\n",
       "      <th>stop_pair</th>\n",
       "      <th>stop_pair_name</th>\n",
       "      <th>segment_id</th>\n",
       "      <th>time_of_day</th>\n",
       "      <th>p50_mph</th>\n",
       "      <th>n_trips</th>\n",
       "      <th>p20_mph</th>\n",
       "      <th>p80_mph</th>\n",
       "      <th>name</th>\n",
       "      <th>caltrans_district</th>\n",
       "      <th>organization_source_record_id</th>\n",
       "      <th>organization_name</th>\n",
       "      <th>base64_url</th>\n",
       "      <th>geometry</th>\n",
       "    </tr>\n",
       "  </thead>\n",
       "  <tbody>\n",
       "    <tr>\n",
       "      <th>599754</th>\n",
       "      <td>dcb6fb26f2d08393f9b0b1c14dc8775c</td>\n",
       "      <td>71cf8d5071087c7a5ac5a4192f73a881</td>\n",
       "      <td>44232</td>\n",
       "      <td>603</td>\n",
       "      <td>603</td>\n",
       "      <td>881869__881870</td>\n",
       "      <td>Las Positas Blvd &amp; Willow Rd__Las Positas Blvd...</td>\n",
       "      <td>881869-881870-1</td>\n",
       "      <td>PM Peak</td>\n",
       "      <td>22.71</td>\n",
       "      <td>2</td>\n",
       "      <td>13.62</td>\n",
       "      <td>31.79</td>\n",
       "      <td>Bay Area 511 Tri-Valley Wheels Schedule</td>\n",
       "      <td>04 - Oakland</td>\n",
       "      <td>recANs4M9yDhvDyob</td>\n",
       "      <td>Livermore-Amador Valley Transit Authority</td>\n",
       "      <td>aHR0cHM6Ly9hcGkuNTExLm9yZy90cmFuc2l0L2RhdGFmZW...</td>\n",
       "      <td>LINESTRING (-121.89922 37.68350, -121.89953 37...</td>\n",
       "    </tr>\n",
       "    <tr>\n",
       "      <th>599755</th>\n",
       "      <td>dcb6fb26f2d08393f9b0b1c14dc8775c</td>\n",
       "      <td>71cf8d5071087c7a5ac5a4192f73a881</td>\n",
       "      <td>44232</td>\n",
       "      <td>603</td>\n",
       "      <td>603</td>\n",
       "      <td>881870__882311</td>\n",
       "      <td>Las Positas Blvd &amp; Hopyard Rd__Las Positas Blv...</td>\n",
       "      <td>881870-882311-1</td>\n",
       "      <td>PM Peak</td>\n",
       "      <td>9.12</td>\n",
       "      <td>2</td>\n",
       "      <td>7.97</td>\n",
       "      <td>10.26</td>\n",
       "      <td>Bay Area 511 Tri-Valley Wheels Schedule</td>\n",
       "      <td>04 - Oakland</td>\n",
       "      <td>recANs4M9yDhvDyob</td>\n",
       "      <td>Livermore-Amador Valley Transit Authority</td>\n",
       "      <td>aHR0cHM6Ly9hcGkuNTExLm9yZy90cmFuc2l0L2RhdGFmZW...</td>\n",
       "      <td>LINESTRING (-121.90267 37.68194, -121.90291 37...</td>\n",
       "    </tr>\n",
       "    <tr>\n",
       "      <th>599756</th>\n",
       "      <td>dcb6fb26f2d08393f9b0b1c14dc8775c</td>\n",
       "      <td>71cf8d5071087c7a5ac5a4192f73a881</td>\n",
       "      <td>44232</td>\n",
       "      <td>603</td>\n",
       "      <td>603</td>\n",
       "      <td>882311__882707</td>\n",
       "      <td>Las Positas Blvd &amp; Dorman Rd__Muirwood Dr &amp; La...</td>\n",
       "      <td>882311-882707-1</td>\n",
       "      <td>PM Peak</td>\n",
       "      <td>18.23</td>\n",
       "      <td>4</td>\n",
       "      <td>17.26</td>\n",
       "      <td>19.30</td>\n",
       "      <td>Bay Area 511 Tri-Valley Wheels Schedule</td>\n",
       "      <td>04 - Oakland</td>\n",
       "      <td>recANs4M9yDhvDyob</td>\n",
       "      <td>Livermore-Amador Valley Transit Authority</td>\n",
       "      <td>aHR0cHM6Ly9hcGkuNTExLm9yZy90cmFuc2l0L2RhdGFmZW...</td>\n",
       "      <td>LINESTRING (-121.90600 37.68078, -121.90618 37...</td>\n",
       "    </tr>\n",
       "  </tbody>\n",
       "</table>\n",
       "</div>"
      ],
      "text/plain": [
       "               schedule_gtfs_dataset_key                   shape_array_key  \\\n",
       "599754  dcb6fb26f2d08393f9b0b1c14dc8775c  71cf8d5071087c7a5ac5a4192f73a881   \n",
       "599755  dcb6fb26f2d08393f9b0b1c14dc8775c  71cf8d5071087c7a5ac5a4192f73a881   \n",
       "599756  dcb6fb26f2d08393f9b0b1c14dc8775c  71cf8d5071087c7a5ac5a4192f73a881   \n",
       "\n",
       "       shape_id route_id route_short_name       stop_pair  \\\n",
       "599754    44232      603              603  881869__881870   \n",
       "599755    44232      603              603  881870__882311   \n",
       "599756    44232      603              603  882311__882707   \n",
       "\n",
       "                                           stop_pair_name       segment_id  \\\n",
       "599754  Las Positas Blvd & Willow Rd__Las Positas Blvd...  881869-881870-1   \n",
       "599755  Las Positas Blvd & Hopyard Rd__Las Positas Blv...  881870-882311-1   \n",
       "599756  Las Positas Blvd & Dorman Rd__Muirwood Dr & La...  882311-882707-1   \n",
       "\n",
       "       time_of_day  p50_mph  n_trips  p20_mph  p80_mph  \\\n",
       "599754     PM Peak    22.71        2    13.62    31.79   \n",
       "599755     PM Peak     9.12        2     7.97    10.26   \n",
       "599756     PM Peak    18.23        4    17.26    19.30   \n",
       "\n",
       "                                           name caltrans_district  \\\n",
       "599754  Bay Area 511 Tri-Valley Wheels Schedule      04 - Oakland   \n",
       "599755  Bay Area 511 Tri-Valley Wheels Schedule      04 - Oakland   \n",
       "599756  Bay Area 511 Tri-Valley Wheels Schedule      04 - Oakland   \n",
       "\n",
       "       organization_source_record_id  \\\n",
       "599754             recANs4M9yDhvDyob   \n",
       "599755             recANs4M9yDhvDyob   \n",
       "599756             recANs4M9yDhvDyob   \n",
       "\n",
       "                                organization_name  \\\n",
       "599754  Livermore-Amador Valley Transit Authority   \n",
       "599755  Livermore-Amador Valley Transit Authority   \n",
       "599756  Livermore-Amador Valley Transit Authority   \n",
       "\n",
       "                                               base64_url  \\\n",
       "599754  aHR0cHM6Ly9hcGkuNTExLm9yZy90cmFuc2l0L2RhdGFmZW...   \n",
       "599755  aHR0cHM6Ly9hcGkuNTExLm9yZy90cmFuc2l0L2RhdGFmZW...   \n",
       "599756  aHR0cHM6Ly9hcGkuNTExLm9yZy90cmFuc2l0L2RhdGFmZW...   \n",
       "\n",
       "                                                 geometry  \n",
       "599754  LINESTRING (-121.89922 37.68350, -121.89953 37...  \n",
       "599755  LINESTRING (-121.90267 37.68194, -121.90291 37...  \n",
       "599756  LINESTRING (-121.90600 37.68078, -121.90618 37...  "
      ]
     },
     "execution_count": 13,
     "metadata": {},
     "output_type": "execute_result"
    }
   ],
   "source": [
    "speedmap_segs >> head(3)"
   ]
  },
  {
   "cell_type": "code",
   "execution_count": 14,
   "id": "8e89173e-a0ea-4823-bbce-0aa6cdb3f075",
   "metadata": {},
   "outputs": [
    {
     "data": {
      "text/plain": [
       "array(['PM Peak', 'AM Peak', 'Early AM', 'Midday', 'Evening'],\n",
       "      dtype=object)"
      ]
     },
     "execution_count": 14,
     "metadata": {},
     "output_type": "execute_result"
    }
   ],
   "source": [
    "speedmap_segs.time_of_day.unique()"
   ]
  },
  {
   "cell_type": "code",
   "execution_count": 15,
   "id": "f87584fb-f37d-4869-ba5d-af70a5a0e0e3",
   "metadata": {},
   "outputs": [],
   "source": [
    "peak_test = speedmap_segs >> filter(_.time_of_day == 'AM Peak')"
   ]
  },
  {
   "cell_type": "code",
   "execution_count": 16,
   "id": "c0080473-a119-45b2-8ebc-9f9913b97ecd",
   "metadata": {},
   "outputs": [],
   "source": [
    "time_periods = [(x, shared_utils.rt_utils.categorize_time_of_day(x)) for x in range(25)]"
   ]
  },
  {
   "cell_type": "code",
   "execution_count": 20,
   "id": "7b72ddbb-4b1b-4169-bfcd-f64eb499ac85",
   "metadata": {},
   "outputs": [
    {
     "data": {
      "text/plain": [
       "Midday      5\n",
       "PM Peak     5\n",
       "Evening     5\n",
       "Owl         4\n",
       "Early AM    3\n",
       "AM Peak     3\n",
       "dtype: int64"
      ]
     },
     "execution_count": 20,
     "metadata": {},
     "output_type": "execute_result"
    }
   ],
   "source": [
    "pd.Series([shared_utils.rt_utils.categorize_time_of_day(x) for x in range(25)]).value_counts()"
   ]
  },
  {
   "cell_type": "code",
   "execution_count": 17,
   "id": "1df01b6f-c29e-4ccc-9b1f-03cda0241bd9",
   "metadata": {},
   "outputs": [
    {
     "data": {
      "text/plain": [
       "[(0, 'Owl'),\n",
       " (1, 'Owl'),\n",
       " (2, 'Owl'),\n",
       " (3, 'Owl'),\n",
       " (4, 'Early AM'),\n",
       " (5, 'Early AM'),\n",
       " (6, 'Early AM'),\n",
       " (7, 'AM Peak'),\n",
       " (8, 'AM Peak'),\n",
       " (9, 'AM Peak'),\n",
       " (10, 'Midday'),\n",
       " (11, 'Midday'),\n",
       " (12, 'Midday'),\n",
       " (13, 'Midday'),\n",
       " (14, 'Midday'),\n",
       " (15, 'PM Peak'),\n",
       " (16, 'PM Peak'),\n",
       " (17, 'PM Peak'),\n",
       " (18, 'PM Peak'),\n",
       " (19, 'PM Peak'),\n",
       " (20, 'Evening'),\n",
       " (21, 'Evening'),\n",
       " (22, 'Evening'),\n",
       " (23, 'Evening'),\n",
       " (24, 'Evening')]"
      ]
     },
     "execution_count": 17,
     "metadata": {},
     "output_type": "execute_result"
    }
   ],
   "source": [
    "time_periods"
   ]
  },
  {
   "cell_type": "code",
   "execution_count": 18,
   "id": "590d0196-ab95-47e8-8ce0-e0b93b4da5d4",
   "metadata": {},
   "outputs": [],
   "source": [
    "am_peak_hrs = len([x[1] for x in time_periods if 'AM Peak' in x[1]])"
   ]
  },
  {
   "cell_type": "code",
   "execution_count": 32,
   "id": "c5c469eb-df45-4925-8888-2cc2bfc04cc6",
   "metadata": {},
   "outputs": [
    {
     "data": {
      "text/plain": [
       "3"
      ]
     },
     "execution_count": 32,
     "metadata": {},
     "output_type": "execute_result"
    }
   ],
   "source": [
    "am_peak_hrs"
   ]
  },
  {
   "cell_type": "code",
   "execution_count": 33,
   "id": "edc84eda-ce2b-481f-ac78-6b7209cb25f4",
   "metadata": {},
   "outputs": [],
   "source": [
    "def prep_gdf(gdf, hrs):\n",
    "    \n",
    "    gdf = gdf.to_crs(calitp_data_analysis.geography_utils.CA_NAD83Albers)\n",
    "    gdf['trips_per_hour'] = gdf.n_trips / hrs\n",
    "\n",
    "    ## shift to right side of road to display direction\n",
    "    gdf.geometry = gdf.geometry.apply(shared_utils.rt_utils.try_parallel)\n",
    "    gdf = gdf.apply(shared_utils.rt_utils.arrowize_by_frequency, axis=1)\n",
    "\n",
    "    gdf = gdf >> arrange(_.trips_per_hour)\n",
    "\n",
    "    return gdf"
   ]
  },
  {
   "cell_type": "code",
   "execution_count": 34,
   "id": "6af2c7fd-b769-4fbf-bbcf-75080972cc67",
   "metadata": {},
   "outputs": [],
   "source": [
    "peak_test = prep_gdf(peak_test, am_peak_hrs)"
   ]
  },
  {
   "cell_type": "code",
   "execution_count": 60,
   "id": "cedc030e-8d19-4a0b-b3a5-5a3d6c0dce23",
   "metadata": {},
   "outputs": [],
   "source": [
    "cmap = shared_utils.rt_utils.ACCESS_ZERO_THIRTY_COLORSCALE\n",
    "url = shared_utils.rt_utils.ACCESS_SPEEDMAP_LEGEND_URL"
   ]
  },
  {
   "cell_type": "markdown",
   "id": "2e9ae65e-0ed4-4f00-ac8e-27ac85790804",
   "metadata": {},
   "source": [
    "##  adding identifiers for map display"
   ]
  },
  {
   "cell_type": "code",
   "execution_count": 36,
   "id": "87c7db4f-3da9-4ba4-915b-88432a841b39",
   "metadata": {},
   "outputs": [
    {
     "data": {
      "text/html": [
       "<div>\n",
       "<style scoped>\n",
       "    .dataframe tbody tr th:only-of-type {\n",
       "        vertical-align: middle;\n",
       "    }\n",
       "\n",
       "    .dataframe tbody tr th {\n",
       "        vertical-align: top;\n",
       "    }\n",
       "\n",
       "    .dataframe thead th {\n",
       "        text-align: right;\n",
       "    }\n",
       "</style>\n",
       "<table border=\"1\" class=\"dataframe\">\n",
       "  <thead>\n",
       "    <tr style=\"text-align: right;\">\n",
       "      <th></th>\n",
       "      <th>schedule_gtfs_dataset_key</th>\n",
       "      <th>shape_array_key</th>\n",
       "      <th>shape_id</th>\n",
       "      <th>route_id</th>\n",
       "      <th>route_short_name</th>\n",
       "      <th>stop_pair</th>\n",
       "      <th>stop_pair_name</th>\n",
       "      <th>segment_id</th>\n",
       "      <th>time_of_day</th>\n",
       "      <th>p50_mph</th>\n",
       "      <th>n_trips</th>\n",
       "      <th>p20_mph</th>\n",
       "      <th>p80_mph</th>\n",
       "      <th>name</th>\n",
       "      <th>caltrans_district</th>\n",
       "      <th>organization_source_record_id</th>\n",
       "      <th>organization_name</th>\n",
       "      <th>base64_url</th>\n",
       "      <th>geometry</th>\n",
       "      <th>trips_per_hour</th>\n",
       "    </tr>\n",
       "  </thead>\n",
       "  <tbody>\n",
       "    <tr>\n",
       "      <th>526507</th>\n",
       "      <td>c499f905e33929a641f083dad55c521e</td>\n",
       "      <td>f59dce41f6c4e6cf0b9dbfc1a29095f1</td>\n",
       "      <td>shp-7-53</td>\n",
       "      <td>7</td>\n",
       "      <td>7</td>\n",
       "      <td>53019__53372</td>\n",
       "      <td>San Pablo Av &amp; Wall Av__San Pablo Av &amp; Conlon Av</td>\n",
       "      <td>53019-53372-1</td>\n",
       "      <td>AM Peak</td>\n",
       "      <td>5.80</td>\n",
       "      <td>1</td>\n",
       "      <td>5.80</td>\n",
       "      <td>5.80</td>\n",
       "      <td>Bay Area 511 AC Transit Schedule</td>\n",
       "      <td>04 - Oakland</td>\n",
       "      <td>recOZgevYf7Jimm9L</td>\n",
       "      <td>Alameda-Contra Costa Transit District</td>\n",
       "      <td>aHR0cHM6Ly9hcGkuNTExLm9yZy90cmFuc2l0L2RhdGFmZW...</td>\n",
       "      <td>POLYGON ((-203712.125 -7192.575, -203734.516 -...</td>\n",
       "      <td>0.333333</td>\n",
       "    </tr>\n",
       "    <tr>\n",
       "      <th>527527</th>\n",
       "      <td>c499f905e33929a641f083dad55c521e</td>\n",
       "      <td>261a73dd824eab6a8fb3616a320d00e0</td>\n",
       "      <td>shp-62-01</td>\n",
       "      <td>62</td>\n",
       "      <td>62</td>\n",
       "      <td>50553__57505</td>\n",
       "      <td>23rd Av &amp; Foothill Blvd (Garfield School)__23r...</td>\n",
       "      <td>50553-57505-1</td>\n",
       "      <td>AM Peak</td>\n",
       "      <td>13.48</td>\n",
       "      <td>1</td>\n",
       "      <td>13.48</td>\n",
       "      <td>13.48</td>\n",
       "      <td>Bay Area 511 AC Transit Schedule</td>\n",
       "      <td>04 - Oakland</td>\n",
       "      <td>recOZgevYf7Jimm9L</td>\n",
       "      <td>Alameda-Contra Costa Transit District</td>\n",
       "      <td>aHR0cHM6Ly9hcGkuNTExLm9yZy90cmFuc2l0L2RhdGFmZW...</td>\n",
       "      <td>POLYGON ((-196613.695 -23524.639, -196614.785 ...</td>\n",
       "      <td>0.333333</td>\n",
       "    </tr>\n",
       "  </tbody>\n",
       "</table>\n",
       "</div>"
      ],
      "text/plain": [
       "               schedule_gtfs_dataset_key                   shape_array_key  \\\n",
       "526507  c499f905e33929a641f083dad55c521e  f59dce41f6c4e6cf0b9dbfc1a29095f1   \n",
       "527527  c499f905e33929a641f083dad55c521e  261a73dd824eab6a8fb3616a320d00e0   \n",
       "\n",
       "         shape_id route_id route_short_name     stop_pair  \\\n",
       "526507   shp-7-53        7                7  53019__53372   \n",
       "527527  shp-62-01       62               62  50553__57505   \n",
       "\n",
       "                                           stop_pair_name     segment_id  \\\n",
       "526507   San Pablo Av & Wall Av__San Pablo Av & Conlon Av  53019-53372-1   \n",
       "527527  23rd Av & Foothill Blvd (Garfield School)__23r...  50553-57505-1   \n",
       "\n",
       "       time_of_day  p50_mph  n_trips  p20_mph  p80_mph  \\\n",
       "526507     AM Peak     5.80        1     5.80     5.80   \n",
       "527527     AM Peak    13.48        1    13.48    13.48   \n",
       "\n",
       "                                    name caltrans_district  \\\n",
       "526507  Bay Area 511 AC Transit Schedule      04 - Oakland   \n",
       "527527  Bay Area 511 AC Transit Schedule      04 - Oakland   \n",
       "\n",
       "       organization_source_record_id                      organization_name  \\\n",
       "526507             recOZgevYf7Jimm9L  Alameda-Contra Costa Transit District   \n",
       "527527             recOZgevYf7Jimm9L  Alameda-Contra Costa Transit District   \n",
       "\n",
       "                                               base64_url  \\\n",
       "526507  aHR0cHM6Ly9hcGkuNTExLm9yZy90cmFuc2l0L2RhdGFmZW...   \n",
       "527527  aHR0cHM6Ly9hcGkuNTExLm9yZy90cmFuc2l0L2RhdGFmZW...   \n",
       "\n",
       "                                                 geometry  trips_per_hour  \n",
       "526507  POLYGON ((-203712.125 -7192.575, -203734.516 -...        0.333333  \n",
       "527527  POLYGON ((-196613.695 -23524.639, -196614.785 ...        0.333333  "
      ]
     },
     "execution_count": 36,
     "metadata": {},
     "output_type": "execute_result"
    }
   ],
   "source": [
    "peak_test >> head(2)"
   ]
  },
  {
   "cell_type": "markdown",
   "id": "21725c98-e8cf-47bb-a880-09e67d25f0fe",
   "metadata": {},
   "source": [
    "##  to-do\n",
    "\n",
    "* where does new n_trips come from? should be schedule-based for speedmaps applications...\n",
    "* split am/pm peak\n",
    "* https://github.com/cal-itp/data-analyses/issues/1218 upstream add route identifiers"
   ]
  },
  {
   "cell_type": "code",
   "execution_count": 37,
   "id": "e7c32718-4eb2-4c2b-aba0-cca397aaabf3",
   "metadata": {},
   "outputs": [
    {
     "data": {
      "text/plain": [
       "Index(['schedule_gtfs_dataset_key', 'shape_array_key', 'shape_id', 'route_id',\n",
       "       'route_short_name', 'stop_pair', 'stop_pair_name', 'segment_id',\n",
       "       'time_of_day', 'p50_mph', 'n_trips', 'p20_mph', 'p80_mph', 'name',\n",
       "       'caltrans_district', 'organization_source_record_id',\n",
       "       'organization_name', 'base64_url', 'geometry', 'trips_per_hour'],\n",
       "      dtype='object')"
      ]
     },
     "execution_count": 37,
     "metadata": {},
     "output_type": "execute_result"
    }
   ],
   "source": [
    "peak_test.columns"
   ]
  },
  {
   "cell_type": "markdown",
   "id": "4e4c26e4-afca-48e1-b9fc-53393858a414",
   "metadata": {},
   "source": [
    "## export map"
   ]
  },
  {
   "cell_type": "code",
   "execution_count": 38,
   "id": "10a3ff1d-04f8-40b8-ab91-5ef96fde9b6a",
   "metadata": {},
   "outputs": [
    {
     "name": "stdout",
     "output_type": "stream",
     "text": [
      "writing to calitp-map-tiles/testing/4_new.geojson.gz\n"
     ]
    }
   ],
   "source": [
    "speedmap_state = shared_utils.rt_utils.set_state_export(\n",
    "                                    peak_test, filename=f'{itp_id}_new', map_type='speedmap',\n",
    "                                    color_col='p20_mph', cmap=cmap, legend_url=url,\n",
    "                                    cache_seconds=0, map_title=f'Speedmap Segs {analysis_date}')"
   ]
  },
  {
   "cell_type": "code",
   "execution_count": 39,
   "id": "75f2695e-4b80-4d91-8dce-1fa8e347729b",
   "metadata": {},
   "outputs": [
    {
     "data": {
      "text/plain": [
       "{'state_dict': {'name': 'null',\n",
       "  'layers': [{'name': 'Speedmap Segs 2024-10-16',\n",
       "    'url': 'https://storage.googleapis.com/calitp-map-tiles/testing/4_new.geojson.gz',\n",
       "    'properties': {'stroked': False,\n",
       "     'highlight_saturation_multiplier': 0.5,\n",
       "     'tooltip_speed_key': 'p20_mph'},\n",
       "    'type': 'speedmap'}],\n",
       "  'lat_lon': (37.777276879932664, -122.20458759054884),\n",
       "  'zoom': 13,\n",
       "  'legend_url': 'https://storage.googleapis.com/calitp-map-tiles/speeds_legend.svg'},\n",
       " 'spa_link': 'https://embeddable-maps.calitp.org/?state=eyJuYW1lIjogIm51bGwiLCAibGF5ZXJzIjogW3sibmFtZSI6ICJTcGVlZG1hcCBTZWdzIDIwMjQtMTAtMTYiLCAidXJsIjogImh0dHBzOi8vc3RvcmFnZS5nb29nbGVhcGlzLmNvbS9jYWxpdHAtbWFwLXRpbGVzL3Rlc3RpbmcvNF9uZXcuZ2VvanNvbi5neiIsICJwcm9wZXJ0aWVzIjogeyJzdHJva2VkIjogZmFsc2UsICJoaWdobGlnaHRfc2F0dXJhdGlvbl9tdWx0aXBsaWVyIjogMC41LCAidG9vbHRpcF9zcGVlZF9rZXkiOiAicDIwX21waCJ9LCAidHlwZSI6ICJzcGVlZG1hcCJ9XSwgImxhdF9sb24iOiBbMzcuNzc3Mjc2ODc5OTMyNjY0LCAtMTIyLjIwNDU4NzU5MDU0ODg0XSwgInpvb20iOiAxMywgImxlZ2VuZF91cmwiOiAiaHR0cHM6Ly9zdG9yYWdlLmdvb2dsZWFwaXMuY29tL2NhbGl0cC1tYXAtdGlsZXMvc3BlZWRzX2xlZ2VuZC5zdmcifQ=='}"
      ]
     },
     "execution_count": 39,
     "metadata": {},
     "output_type": "execute_result"
    }
   ],
   "source": [
    "speedmap_state"
   ]
  },
  {
   "cell_type": "markdown",
   "id": "6ff8e431-c4e5-4048-8c72-9ac5a5edeb79",
   "metadata": {},
   "source": [
    "## other test"
   ]
  },
  {
   "cell_type": "code",
   "execution_count": 95,
   "id": "02ffc2b6-9b8f-456b-ae33-85e7eea79df5",
   "metadata": {},
   "outputs": [],
   "source": [
    "time_of_day = 'Early AM'"
   ]
  },
  {
   "cell_type": "code",
   "execution_count": 96,
   "id": "2f44c03e-c7cc-4e49-8da4-be653d4c3546",
   "metadata": {},
   "outputs": [],
   "source": [
    "period_speeds = speedmap_segs >> filter(_.time_of_day == time_of_day)"
   ]
  },
  {
   "cell_type": "code",
   "execution_count": 97,
   "id": "2cbffab5-c927-4a0f-a28f-eb07cf12800f",
   "metadata": {},
   "outputs": [],
   "source": [
    "hrs = len([x[1] for x in time_periods if x[1] == time_of_day])"
   ]
  },
  {
   "cell_type": "code",
   "execution_count": 98,
   "id": "7c0bb82e-3173-4a4f-a6e4-4bfa66a79044",
   "metadata": {},
   "outputs": [
    {
     "data": {
      "text/plain": [
       "3"
      ]
     },
     "execution_count": 98,
     "metadata": {},
     "output_type": "execute_result"
    }
   ],
   "source": [
    "hrs"
   ]
  },
  {
   "cell_type": "code",
   "execution_count": 99,
   "id": "53a9f9cc-38d8-44d3-b7a6-a33fca62d32b",
   "metadata": {},
   "outputs": [],
   "source": [
    "period_test = prep_gdf(period_speeds, hrs)"
   ]
  },
  {
   "cell_type": "code",
   "execution_count": 100,
   "id": "d483e182-b36c-487e-a194-7a9e48d5b32f",
   "metadata": {},
   "outputs": [],
   "source": [
    "time_of_day_lower = time_of_day.lower().replace(' ', '_')"
   ]
  },
  {
   "cell_type": "code",
   "execution_count": 101,
   "id": "51e108ee-19f5-4266-8848-fb5ac57f5108",
   "metadata": {},
   "outputs": [
    {
     "name": "stdout",
     "output_type": "stream",
     "text": [
      "writing to calitp-map-tiles/testing/4_early_am_new.geojson.gz\n"
     ]
    }
   ],
   "source": [
    "speedmap_state = shared_utils.rt_utils.set_state_export(\n",
    "                                    period_test, filename=f'{itp_id}_{time_of_day_lower}_new', map_type='speedmap',\n",
    "                                    color_col='p20_mph', cmap=cmap, legend_url=url,\n",
    "                                    cache_seconds=0, map_title=f'Speedmap Segs {time_of_day} {analysis_date}')"
   ]
  },
  {
   "cell_type": "code",
   "execution_count": 102,
   "id": "360aee2f-9076-4c7d-9843-0f7959489f5c",
   "metadata": {},
   "outputs": [
    {
     "data": {
      "text/plain": [
       "{'state_dict': {'name': 'null',\n",
       "  'layers': [{'name': 'Speedmap Segs Early AM 2024-10-16',\n",
       "    'url': 'https://storage.googleapis.com/calitp-map-tiles/testing/4_early_am_new.geojson.gz',\n",
       "    'properties': {'stroked': False,\n",
       "     'highlight_saturation_multiplier': 0.5,\n",
       "     'tooltip_speed_key': 'p20_mph'},\n",
       "    'type': 'speedmap'}],\n",
       "  'lat_lon': (37.77940573965417, -122.21209975403526),\n",
       "  'zoom': 13,\n",
       "  'legend_url': 'https://storage.googleapis.com/calitp-map-tiles/speeds_legend_color_access.svg'},\n",
       " 'spa_link': 'https://embeddable-maps.calitp.org/?state=eyJuYW1lIjogIm51bGwiLCAibGF5ZXJzIjogW3sibmFtZSI6ICJTcGVlZG1hcCBTZWdzIEVhcmx5IEFNIDIwMjQtMTAtMTYiLCAidXJsIjogImh0dHBzOi8vc3RvcmFnZS5nb29nbGVhcGlzLmNvbS9jYWxpdHAtbWFwLXRpbGVzL3Rlc3RpbmcvNF9lYXJseV9hbV9uZXcuZ2VvanNvbi5neiIsICJwcm9wZXJ0aWVzIjogeyJzdHJva2VkIjogZmFsc2UsICJoaWdobGlnaHRfc2F0dXJhdGlvbl9tdWx0aXBsaWVyIjogMC41LCAidG9vbHRpcF9zcGVlZF9rZXkiOiAicDIwX21waCJ9LCAidHlwZSI6ICJzcGVlZG1hcCJ9XSwgImxhdF9sb24iOiBbMzcuNzc5NDA1NzM5NjU0MTcsIC0xMjIuMjEyMDk5NzU0MDM1MjZdLCAiem9vbSI6IDEzLCAibGVnZW5kX3VybCI6ICJodHRwczovL3N0b3JhZ2UuZ29vZ2xlYXBpcy5jb20vY2FsaXRwLW1hcC10aWxlcy9zcGVlZHNfbGVnZW5kX2NvbG9yX2FjY2Vzcy5zdmcifQ=='}"
      ]
     },
     "execution_count": 102,
     "metadata": {},
     "output_type": "execute_result"
    }
   ],
   "source": [
    "speedmap_state"
   ]
  }
 ],
 "metadata": {
  "kernelspec": {
   "display_name": "Python 3 (ipykernel)",
   "language": "python",
   "name": "python3"
  },
  "language_info": {
   "codemirror_mode": {
    "name": "ipython",
    "version": 3
   },
   "file_extension": ".py",
   "mimetype": "text/x-python",
   "name": "python",
   "nbconvert_exporter": "python",
   "pygments_lexer": "ipython3",
   "version": "3.9.13"
  },
  "widgets": {
   "application/vnd.jupyter.widget-state+json": {
    "state": {},
    "version_major": 2,
    "version_minor": 0
   }
  }
 },
 "nbformat": 4,
 "nbformat_minor": 5
}
