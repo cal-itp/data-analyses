{
 "cells": [
  {
   "cell_type": "code",
   "execution_count": 1,
   "id": "46898b5c-b5cc-4096-ab68-8c3e42fab870",
   "metadata": {},
   "outputs": [],
   "source": [
    "%%capture\n",
    "import warnings\n",
    "warnings.filterwarnings('ignore')\n",
    "import calitp_data_analysis.magics\n",
    "\n",
    "import speedmap_utils\n",
    "from shared_utils import webmap_utils\n",
    "import pandas as pd\n",
    "import datetime as dt"
   ]
  },
  {
   "cell_type": "code",
   "execution_count": 2,
   "id": "9f15ed6a-5ab7-4f57-9695-3f762781b74c",
   "metadata": {
    "tags": [
     "parameters"
    ]
   },
   "outputs": [],
   "source": [
    "\n",
    "#  parameters cell\n",
    "\n",
    "organization_name = 'Foothill Transit'"
   ]
  },
  {
   "cell_type": "code",
   "execution_count": 3,
   "id": "82d7b8ac-3897-4604-9be4-37bd480577e7",
   "metadata": {},
   "outputs": [
    {
     "ename": "FileNotFoundError",
     "evalue": "[Errno 2] No such file or directory: './_rt_progress_2025-07-16.parquet'",
     "output_type": "error",
     "traceback": [
      "\u001b[0;31m---------------------------------------------------------------------------\u001b[0m",
      "\u001b[0;31mFileNotFoundError\u001b[0m                         Traceback (most recent call last)",
      "Cell \u001b[0;32mIn[3], line 1\u001b[0m\n\u001b[0;32m----> 1\u001b[0m speedmap_segs, this_shn \u001b[38;5;241m=\u001b[39m \u001b[43mspeedmap_utils\u001b[49m\u001b[38;5;241;43m.\u001b[39;49m\u001b[43mread_segments_shn\u001b[49m\u001b[43m(\u001b[49m\u001b[43morganization_name\u001b[49m\u001b[38;5;241;43m=\u001b[39;49m\u001b[43morganization_name\u001b[49m\u001b[43m)\u001b[49m\n\u001b[1;32m      2\u001b[0m org_shapes \u001b[38;5;241m=\u001b[39m speedmap_utils\u001b[38;5;241m.\u001b[39mread_shapes(speedmap_segs)\n\u001b[1;32m      3\u001b[0m analysis_date \u001b[38;5;241m=\u001b[39m speedmap_segs\u001b[38;5;241m.\u001b[39manalysis_date\u001b[38;5;241m.\u001b[39miloc[\u001b[38;5;241m0\u001b[39m]\n",
      "File \u001b[0;32m~/data-analyses/ca_transit_speed_maps/speedmap_utils.py:24\u001b[0m, in \u001b[0;36mread_segments_shn\u001b[0;34m(organization_name, force_analysis_date)\u001b[0m\n\u001b[1;32m     22\u001b[0m     analysis_date \u001b[38;5;241m=\u001b[39m force_analysis_date\n\u001b[1;32m     23\u001b[0m \u001b[38;5;28;01melse\u001b[39;00m:\n\u001b[0;32m---> 24\u001b[0m     ix_df \u001b[38;5;241m=\u001b[39m \u001b[43mpd\u001b[49m\u001b[38;5;241;43m.\u001b[39;49m\u001b[43mread_parquet\u001b[49m\u001b[43m(\u001b[49m\u001b[38;5;124;43mf\u001b[39;49m\u001b[38;5;124;43m'\u001b[39;49m\u001b[38;5;124;43m./_rt_progress_\u001b[39;49m\u001b[38;5;132;43;01m{\u001b[39;49;00m\u001b[43mANALYSIS_DATE_LIST\u001b[49m\u001b[43m[\u001b[49m\u001b[38;5;241;43m0\u001b[39;49m\u001b[43m]\u001b[49m\u001b[38;5;132;43;01m}\u001b[39;49;00m\u001b[38;5;124;43m.parquet\u001b[39;49m\u001b[38;5;124;43m'\u001b[39;49m\u001b[43m)\u001b[49m\n\u001b[1;32m     25\u001b[0m     this_org_ix \u001b[38;5;241m=\u001b[39m ix_df\u001b[38;5;241m.\u001b[39mquery(\u001b[38;5;124m'\u001b[39m\u001b[38;5;124morganization_name == @organization_name\u001b[39m\u001b[38;5;124m'\u001b[39m)\n\u001b[1;32m     26\u001b[0m     analysis_date \u001b[38;5;241m=\u001b[39m this_org_ix\u001b[38;5;241m.\u001b[39manalysis_date\u001b[38;5;241m.\u001b[39miloc[\u001b[38;5;241m0\u001b[39m] \u001b[38;5;66;03m#  with lookback, this may be a previous date\u001b[39;00m\n",
      "File \u001b[0;32m/opt/conda/lib/python3.11/site-packages/pandas/io/parquet.py:503\u001b[0m, in \u001b[0;36mread_parquet\u001b[0;34m(path, engine, columns, storage_options, use_nullable_dtypes, **kwargs)\u001b[0m\n\u001b[1;32m    456\u001b[0m \u001b[38;5;250m\u001b[39m\u001b[38;5;124;03m\"\"\"\u001b[39;00m\n\u001b[1;32m    457\u001b[0m \u001b[38;5;124;03mLoad a parquet object from the file path, returning a DataFrame.\u001b[39;00m\n\u001b[1;32m    458\u001b[0m \n\u001b[0;32m   (...)\u001b[0m\n\u001b[1;32m    499\u001b[0m \u001b[38;5;124;03mDataFrame\u001b[39;00m\n\u001b[1;32m    500\u001b[0m \u001b[38;5;124;03m\"\"\"\u001b[39;00m\n\u001b[1;32m    501\u001b[0m impl \u001b[38;5;241m=\u001b[39m get_engine(engine)\n\u001b[0;32m--> 503\u001b[0m \u001b[38;5;28;01mreturn\u001b[39;00m \u001b[43mimpl\u001b[49m\u001b[38;5;241;43m.\u001b[39;49m\u001b[43mread\u001b[49m\u001b[43m(\u001b[49m\n\u001b[1;32m    504\u001b[0m \u001b[43m    \u001b[49m\u001b[43mpath\u001b[49m\u001b[43m,\u001b[49m\n\u001b[1;32m    505\u001b[0m \u001b[43m    \u001b[49m\u001b[43mcolumns\u001b[49m\u001b[38;5;241;43m=\u001b[39;49m\u001b[43mcolumns\u001b[49m\u001b[43m,\u001b[49m\n\u001b[1;32m    506\u001b[0m \u001b[43m    \u001b[49m\u001b[43mstorage_options\u001b[49m\u001b[38;5;241;43m=\u001b[39;49m\u001b[43mstorage_options\u001b[49m\u001b[43m,\u001b[49m\n\u001b[1;32m    507\u001b[0m \u001b[43m    \u001b[49m\u001b[43muse_nullable_dtypes\u001b[49m\u001b[38;5;241;43m=\u001b[39;49m\u001b[43muse_nullable_dtypes\u001b[49m\u001b[43m,\u001b[49m\n\u001b[1;32m    508\u001b[0m \u001b[43m    \u001b[49m\u001b[38;5;241;43m*\u001b[39;49m\u001b[38;5;241;43m*\u001b[39;49m\u001b[43mkwargs\u001b[49m\u001b[43m,\u001b[49m\n\u001b[1;32m    509\u001b[0m \u001b[43m\u001b[49m\u001b[43m)\u001b[49m\n",
      "File \u001b[0;32m/opt/conda/lib/python3.11/site-packages/pandas/io/parquet.py:244\u001b[0m, in \u001b[0;36mPyArrowImpl.read\u001b[0;34m(self, path, columns, use_nullable_dtypes, storage_options, **kwargs)\u001b[0m\n\u001b[1;32m    241\u001b[0m \u001b[38;5;28;01mif\u001b[39;00m manager \u001b[38;5;241m==\u001b[39m \u001b[38;5;124m\"\u001b[39m\u001b[38;5;124marray\u001b[39m\u001b[38;5;124m\"\u001b[39m:\n\u001b[1;32m    242\u001b[0m     to_pandas_kwargs[\u001b[38;5;124m\"\u001b[39m\u001b[38;5;124msplit_blocks\u001b[39m\u001b[38;5;124m\"\u001b[39m] \u001b[38;5;241m=\u001b[39m \u001b[38;5;28;01mTrue\u001b[39;00m  \u001b[38;5;66;03m# type: ignore[assignment]\u001b[39;00m\n\u001b[0;32m--> 244\u001b[0m path_or_handle, handles, kwargs[\u001b[38;5;124m\"\u001b[39m\u001b[38;5;124mfilesystem\u001b[39m\u001b[38;5;124m\"\u001b[39m] \u001b[38;5;241m=\u001b[39m \u001b[43m_get_path_or_handle\u001b[49m\u001b[43m(\u001b[49m\n\u001b[1;32m    245\u001b[0m \u001b[43m    \u001b[49m\u001b[43mpath\u001b[49m\u001b[43m,\u001b[49m\n\u001b[1;32m    246\u001b[0m \u001b[43m    \u001b[49m\u001b[43mkwargs\u001b[49m\u001b[38;5;241;43m.\u001b[39;49m\u001b[43mpop\u001b[49m\u001b[43m(\u001b[49m\u001b[38;5;124;43m\"\u001b[39;49m\u001b[38;5;124;43mfilesystem\u001b[39;49m\u001b[38;5;124;43m\"\u001b[39;49m\u001b[43m,\u001b[49m\u001b[43m \u001b[49m\u001b[38;5;28;43;01mNone\u001b[39;49;00m\u001b[43m)\u001b[49m\u001b[43m,\u001b[49m\n\u001b[1;32m    247\u001b[0m \u001b[43m    \u001b[49m\u001b[43mstorage_options\u001b[49m\u001b[38;5;241;43m=\u001b[39;49m\u001b[43mstorage_options\u001b[49m\u001b[43m,\u001b[49m\n\u001b[1;32m    248\u001b[0m \u001b[43m    \u001b[49m\u001b[43mmode\u001b[49m\u001b[38;5;241;43m=\u001b[39;49m\u001b[38;5;124;43m\"\u001b[39;49m\u001b[38;5;124;43mrb\u001b[39;49m\u001b[38;5;124;43m\"\u001b[39;49m\u001b[43m,\u001b[49m\n\u001b[1;32m    249\u001b[0m \u001b[43m\u001b[49m\u001b[43m)\u001b[49m\n\u001b[1;32m    250\u001b[0m \u001b[38;5;28;01mtry\u001b[39;00m:\n\u001b[1;32m    251\u001b[0m     result \u001b[38;5;241m=\u001b[39m \u001b[38;5;28mself\u001b[39m\u001b[38;5;241m.\u001b[39mapi\u001b[38;5;241m.\u001b[39mparquet\u001b[38;5;241m.\u001b[39mread_table(\n\u001b[1;32m    252\u001b[0m         path_or_handle, columns\u001b[38;5;241m=\u001b[39mcolumns, \u001b[38;5;241m*\u001b[39m\u001b[38;5;241m*\u001b[39mkwargs\n\u001b[1;32m    253\u001b[0m     )\u001b[38;5;241m.\u001b[39mto_pandas(\u001b[38;5;241m*\u001b[39m\u001b[38;5;241m*\u001b[39mto_pandas_kwargs)\n",
      "File \u001b[0;32m/opt/conda/lib/python3.11/site-packages/pandas/io/parquet.py:102\u001b[0m, in \u001b[0;36m_get_path_or_handle\u001b[0;34m(path, fs, storage_options, mode, is_dir)\u001b[0m\n\u001b[1;32m     92\u001b[0m handles \u001b[38;5;241m=\u001b[39m \u001b[38;5;28;01mNone\u001b[39;00m\n\u001b[1;32m     93\u001b[0m \u001b[38;5;28;01mif\u001b[39;00m (\n\u001b[1;32m     94\u001b[0m     \u001b[38;5;129;01mnot\u001b[39;00m fs\n\u001b[1;32m     95\u001b[0m     \u001b[38;5;129;01mand\u001b[39;00m \u001b[38;5;129;01mnot\u001b[39;00m is_dir\n\u001b[0;32m   (...)\u001b[0m\n\u001b[1;32m    100\u001b[0m     \u001b[38;5;66;03m# fsspec resources can also point to directories\u001b[39;00m\n\u001b[1;32m    101\u001b[0m     \u001b[38;5;66;03m# this branch is used for example when reading from non-fsspec URLs\u001b[39;00m\n\u001b[0;32m--> 102\u001b[0m     handles \u001b[38;5;241m=\u001b[39m \u001b[43mget_handle\u001b[49m\u001b[43m(\u001b[49m\n\u001b[1;32m    103\u001b[0m \u001b[43m        \u001b[49m\u001b[43mpath_or_handle\u001b[49m\u001b[43m,\u001b[49m\u001b[43m \u001b[49m\u001b[43mmode\u001b[49m\u001b[43m,\u001b[49m\u001b[43m \u001b[49m\u001b[43mis_text\u001b[49m\u001b[38;5;241;43m=\u001b[39;49m\u001b[38;5;28;43;01mFalse\u001b[39;49;00m\u001b[43m,\u001b[49m\u001b[43m \u001b[49m\u001b[43mstorage_options\u001b[49m\u001b[38;5;241;43m=\u001b[39;49m\u001b[43mstorage_options\u001b[49m\n\u001b[1;32m    104\u001b[0m \u001b[43m    \u001b[49m\u001b[43m)\u001b[49m\n\u001b[1;32m    105\u001b[0m     fs \u001b[38;5;241m=\u001b[39m \u001b[38;5;28;01mNone\u001b[39;00m\n\u001b[1;32m    106\u001b[0m     path_or_handle \u001b[38;5;241m=\u001b[39m handles\u001b[38;5;241m.\u001b[39mhandle\n",
      "File \u001b[0;32m/opt/conda/lib/python3.11/site-packages/pandas/io/common.py:865\u001b[0m, in \u001b[0;36mget_handle\u001b[0;34m(path_or_buf, mode, encoding, compression, memory_map, is_text, errors, storage_options)\u001b[0m\n\u001b[1;32m    856\u001b[0m         handle \u001b[38;5;241m=\u001b[39m \u001b[38;5;28mopen\u001b[39m(\n\u001b[1;32m    857\u001b[0m             handle,\n\u001b[1;32m    858\u001b[0m             ioargs\u001b[38;5;241m.\u001b[39mmode,\n\u001b[0;32m   (...)\u001b[0m\n\u001b[1;32m    861\u001b[0m             newline\u001b[38;5;241m=\u001b[39m\u001b[38;5;124m\"\u001b[39m\u001b[38;5;124m\"\u001b[39m,\n\u001b[1;32m    862\u001b[0m         )\n\u001b[1;32m    863\u001b[0m     \u001b[38;5;28;01melse\u001b[39;00m:\n\u001b[1;32m    864\u001b[0m         \u001b[38;5;66;03m# Binary mode\u001b[39;00m\n\u001b[0;32m--> 865\u001b[0m         handle \u001b[38;5;241m=\u001b[39m \u001b[38;5;28;43mopen\u001b[39;49m\u001b[43m(\u001b[49m\u001b[43mhandle\u001b[49m\u001b[43m,\u001b[49m\u001b[43m \u001b[49m\u001b[43mioargs\u001b[49m\u001b[38;5;241;43m.\u001b[39;49m\u001b[43mmode\u001b[49m\u001b[43m)\u001b[49m\n\u001b[1;32m    866\u001b[0m     handles\u001b[38;5;241m.\u001b[39mappend(handle)\n\u001b[1;32m    868\u001b[0m \u001b[38;5;66;03m# Convert BytesIO or file objects passed with an encoding\u001b[39;00m\n",
      "\u001b[0;31mFileNotFoundError\u001b[0m: [Errno 2] No such file or directory: './_rt_progress_2025-07-16.parquet'"
     ]
    }
   ],
   "source": [
    "%%capture\n",
    "\n",
    "speedmap_segs, this_shn = speedmap_utils.read_segments_shn(organization_name=organization_name)\n",
    "org_shapes = speedmap_utils.read_shapes(speedmap_segs)\n",
    "analysis_date = speedmap_segs.analysis_date.iloc[0]"
   ]
  },
  {
   "cell_type": "code",
   "execution_count": 4,
   "id": "11303bd3-01bf-4af4-b0fa-63dbc375bd48",
   "metadata": {
    "tags": []
   },
   "outputs": [
    {
     "ename": "NameError",
     "evalue": "name 'analysis_date' is not defined",
     "output_type": "error",
     "traceback": [
      "\u001b[0;31m---------------------------------------------------------------------------\u001b[0m",
      "\u001b[0;31mNameError\u001b[0m                                 Traceback (most recent call last)",
      "Cell \u001b[0;32mIn[4], line 1\u001b[0m\n\u001b[0;32m----> 1\u001b[0m human_date \u001b[38;5;241m=\u001b[39m dt\u001b[38;5;241m.\u001b[39mdate\u001b[38;5;241m.\u001b[39mfromisoformat(\u001b[43manalysis_date\u001b[49m)\u001b[38;5;241m.\u001b[39mstrftime(\u001b[38;5;124m'\u001b[39m\u001b[38;5;124m%\u001b[39m\u001b[38;5;124mB \u001b[39m\u001b[38;5;132;01m%d\u001b[39;00m\u001b[38;5;124m \u001b[39m\u001b[38;5;124m%\u001b[39m\u001b[38;5;124mY (\u001b[39m\u001b[38;5;124m%\u001b[39m\u001b[38;5;124mA)\u001b[39m\u001b[38;5;124m'\u001b[39m)\n\u001b[1;32m      2\u001b[0m human_date\n",
      "\u001b[0;31mNameError\u001b[0m: name 'analysis_date' is not defined"
     ]
    },
    {
     "ename": "KeyError",
     "evalue": "'human_date'",
     "output_type": "error",
     "traceback": [
      "\u001b[0;31m---------------------------------------------------------------------------\u001b[0m",
      "\u001b[0;31mKeyError\u001b[0m                                  Traceback (most recent call last)",
      "Cell \u001b[0;32mIn[4], line 1\u001b[0m\n\u001b[0;32m----> 1\u001b[0m \u001b[43mget_ipython\u001b[49m\u001b[43m(\u001b[49m\u001b[43m)\u001b[49m\u001b[38;5;241;43m.\u001b[39;49m\u001b[43mrun_cell_magic\u001b[49m\u001b[43m(\u001b[49m\u001b[38;5;124;43m'\u001b[39;49m\u001b[38;5;124;43mcapture_parameters\u001b[39;49m\u001b[38;5;124;43m'\u001b[39;49m\u001b[43m,\u001b[49m\u001b[43m \u001b[49m\u001b[38;5;124;43m'\u001b[39;49m\u001b[38;5;124;43m'\u001b[39;49m\u001b[43m,\u001b[49m\u001b[43m \u001b[49m\u001b[38;5;124;43m\"\u001b[39;49m\u001b[38;5;124;43mhuman_date = dt.date.fromisoformat(analysis_date).strftime(\u001b[39;49m\u001b[38;5;124;43m'\u001b[39;49m\u001b[38;5;124;43m%\u001b[39;49m\u001b[38;5;124;43mB \u001b[39;49m\u001b[38;5;132;43;01m%d\u001b[39;49;00m\u001b[38;5;124;43m \u001b[39;49m\u001b[38;5;124;43m%\u001b[39;49m\u001b[38;5;124;43mY (\u001b[39;49m\u001b[38;5;124;43m%\u001b[39;49m\u001b[38;5;124;43mA)\u001b[39;49m\u001b[38;5;124;43m'\u001b[39;49m\u001b[38;5;124;43m)\u001b[39;49m\u001b[38;5;130;43;01m\\n\u001b[39;49;00m\u001b[38;5;124;43mhuman_date\u001b[39;49m\u001b[38;5;130;43;01m\\n\u001b[39;49;00m\u001b[38;5;124;43m\"\u001b[39;49m\u001b[43m)\u001b[49m\n",
      "File \u001b[0;32m/opt/conda/lib/python3.11/site-packages/IPython/core/interactiveshell.py:2541\u001b[0m, in \u001b[0;36mInteractiveShell.run_cell_magic\u001b[0;34m(self, magic_name, line, cell)\u001b[0m\n\u001b[1;32m   2539\u001b[0m \u001b[38;5;28;01mwith\u001b[39;00m \u001b[38;5;28mself\u001b[39m\u001b[38;5;241m.\u001b[39mbuiltin_trap:\n\u001b[1;32m   2540\u001b[0m     args \u001b[38;5;241m=\u001b[39m (magic_arg_s, cell)\n\u001b[0;32m-> 2541\u001b[0m     result \u001b[38;5;241m=\u001b[39m \u001b[43mfn\u001b[49m\u001b[43m(\u001b[49m\u001b[38;5;241;43m*\u001b[39;49m\u001b[43margs\u001b[49m\u001b[43m,\u001b[49m\u001b[43m \u001b[49m\u001b[38;5;241;43m*\u001b[39;49m\u001b[38;5;241;43m*\u001b[39;49m\u001b[43mkwargs\u001b[49m\u001b[43m)\u001b[49m\n\u001b[1;32m   2543\u001b[0m \u001b[38;5;66;03m# The code below prevents the output from being displayed\u001b[39;00m\n\u001b[1;32m   2544\u001b[0m \u001b[38;5;66;03m# when using magics with decorator @output_can_be_silenced\u001b[39;00m\n\u001b[1;32m   2545\u001b[0m \u001b[38;5;66;03m# when the last Python token in the expression is a ';'.\u001b[39;00m\n\u001b[1;32m   2546\u001b[0m \u001b[38;5;28;01mif\u001b[39;00m \u001b[38;5;28mgetattr\u001b[39m(fn, magic\u001b[38;5;241m.\u001b[39mMAGIC_OUTPUT_CAN_BE_SILENCED, \u001b[38;5;28;01mFalse\u001b[39;00m):\n",
      "File \u001b[0;32m/opt/conda/lib/python3.11/site-packages/calitp_data_analysis/magics.py:52\u001b[0m, in \u001b[0;36mcapture_parameters\u001b[0;34m(line, cell)\u001b[0m\n\u001b[1;32m     47\u001b[0m \u001b[38;5;66;03m# We assume the last line is a tuple\u001b[39;00m\n\u001b[1;32m     48\u001b[0m tup \u001b[38;5;241m=\u001b[39m [s\u001b[38;5;241m.\u001b[39mstrip() \u001b[38;5;28;01mfor\u001b[39;00m s \u001b[38;5;129;01min\u001b[39;00m cell\u001b[38;5;241m.\u001b[39mstrip()\u001b[38;5;241m.\u001b[39msplit(\u001b[38;5;124m\"\u001b[39m\u001b[38;5;130;01m\\n\u001b[39;00m\u001b[38;5;124m\"\u001b[39m)[\u001b[38;5;241m-\u001b[39m\u001b[38;5;241m1\u001b[39m]\u001b[38;5;241m.\u001b[39msplit(\u001b[38;5;124m\"\u001b[39m\u001b[38;5;124m,\u001b[39m\u001b[38;5;124m\"\u001b[39m)]\n\u001b[1;32m     50\u001b[0m \u001b[38;5;28mprint\u001b[39m(\n\u001b[1;32m     51\u001b[0m     json\u001b[38;5;241m.\u001b[39mdumps(\n\u001b[0;32m---> 52\u001b[0m         \u001b[43m{\u001b[49m\u001b[43midentifier\u001b[49m\u001b[43m:\u001b[49m\u001b[43m \u001b[49m\u001b[43mshell\u001b[49m\u001b[38;5;241;43m.\u001b[39;49m\u001b[43muser_ns\u001b[49m\u001b[43m[\u001b[49m\u001b[43midentifier\u001b[49m\u001b[43m]\u001b[49m\u001b[43m \u001b[49m\u001b[38;5;28;43;01mfor\u001b[39;49;00m\u001b[43m \u001b[49m\u001b[43midentifier\u001b[49m\u001b[43m \u001b[49m\u001b[38;5;129;43;01min\u001b[39;49;00m\u001b[43m \u001b[49m\u001b[43mtup\u001b[49m\u001b[43m \u001b[49m\u001b[38;5;28;43;01mif\u001b[39;49;00m\u001b[43m \u001b[49m\u001b[43midentifier\u001b[49m\u001b[43m}\u001b[49m\n\u001b[1;32m     53\u001b[0m     )\n\u001b[1;32m     54\u001b[0m )\n",
      "File \u001b[0;32m/opt/conda/lib/python3.11/site-packages/calitp_data_analysis/magics.py:52\u001b[0m, in \u001b[0;36m<dictcomp>\u001b[0;34m(.0)\u001b[0m\n\u001b[1;32m     47\u001b[0m \u001b[38;5;66;03m# We assume the last line is a tuple\u001b[39;00m\n\u001b[1;32m     48\u001b[0m tup \u001b[38;5;241m=\u001b[39m [s\u001b[38;5;241m.\u001b[39mstrip() \u001b[38;5;28;01mfor\u001b[39;00m s \u001b[38;5;129;01min\u001b[39;00m cell\u001b[38;5;241m.\u001b[39mstrip()\u001b[38;5;241m.\u001b[39msplit(\u001b[38;5;124m\"\u001b[39m\u001b[38;5;130;01m\\n\u001b[39;00m\u001b[38;5;124m\"\u001b[39m)[\u001b[38;5;241m-\u001b[39m\u001b[38;5;241m1\u001b[39m]\u001b[38;5;241m.\u001b[39msplit(\u001b[38;5;124m\"\u001b[39m\u001b[38;5;124m,\u001b[39m\u001b[38;5;124m\"\u001b[39m)]\n\u001b[1;32m     50\u001b[0m \u001b[38;5;28mprint\u001b[39m(\n\u001b[1;32m     51\u001b[0m     json\u001b[38;5;241m.\u001b[39mdumps(\n\u001b[0;32m---> 52\u001b[0m         {identifier: \u001b[43mshell\u001b[49m\u001b[38;5;241;43m.\u001b[39;49m\u001b[43muser_ns\u001b[49m\u001b[43m[\u001b[49m\u001b[43midentifier\u001b[49m\u001b[43m]\u001b[49m \u001b[38;5;28;01mfor\u001b[39;00m identifier \u001b[38;5;129;01min\u001b[39;00m tup \u001b[38;5;28;01mif\u001b[39;00m identifier}\n\u001b[1;32m     53\u001b[0m     )\n\u001b[1;32m     54\u001b[0m )\n",
      "\u001b[0;31mKeyError\u001b[0m: 'human_date'"
     ]
    }
   ],
   "source": [
    "%%capture_parameters\n",
    "human_date = dt.date.fromisoformat(analysis_date).strftime('%B %d %Y (%A)')\n",
    "human_date"
   ]
  },
  {
   "cell_type": "markdown",
   "id": "d0b9c978-e6a6-4646-a2c0-e3a603f1dfc3",
   "metadata": {
    "tags": []
   },
   "source": [
    "# {organization_name}"
   ]
  },
  {
   "cell_type": "markdown",
   "id": "9470c739-9b57-4a80-86fe-ca62844a9331",
   "metadata": {
    "tags": []
   },
   "source": [
    "## About These Maps:\n",
    "\n",
    "* Each map shows bus (and rail, if applicable) speeds for {organization_name}, with a map each for the AM Peak, Midday, and PM Peak periods on {human_date}.\n",
    "* On the map, routes are split into segments corresponding to the distance between two stops, allowing you to focus on specific portions of the route experiencing a slowdown.\n",
    "* Route segments are arrow-shaped to indicate direction of travel. Thicker segments indicate more frequent transit routes.\n",
    "* State Highway Network routes are outlined in gray.\n",
    "* Hover over, a segment with your mouse to see the exact speed, route name, and transit service frequency in that segment. \n",
    "    * Higher-frequency routes (3+ trips per hour) are especially important, since those slowdowns correspond to more vehicles, and riders, delayed in traffic.\n",
    "* Route segments with no data are now shown as thin, dark gray or black segments. These may be due to the route not running at that time of day, or a data availability or processing issue."
   ]
  },
  {
   "cell_type": "markdown",
   "id": "db37b33a-6e9f-4a31-9b83-4a2a5a078241",
   "metadata": {
    "tags": []
   },
   "source": [
    "## AM Peak (07:00-10:00)"
   ]
  },
  {
   "cell_type": "markdown",
   "id": "8b335f1d-5d61-4356-8258-68eb0b069989",
   "metadata": {},
   "source": [
    "### 20th Percentile Speeds by Segment"
   ]
  },
  {
   "cell_type": "code",
   "execution_count": null,
   "id": "0003df13-f7d7-4d70-bd8a-91f0cc4e95c3",
   "metadata": {},
   "outputs": [],
   "source": [
    "%%capture\n",
    "link = speedmap_utils.map_time_period(district_gdf=this_shn, speedmap_segs=speedmap_segs, org_shapes=org_shapes,\n",
    "                                      analysis_date=analysis_date, time_of_day='AM Peak', map_type='new_speedmap')"
   ]
  },
  {
   "cell_type": "code",
   "execution_count": null,
   "id": "364e6af4-da42-44d6-a252-9b4039e3f590",
   "metadata": {},
   "outputs": [],
   "source": [
    "if link: webmap_utils.render_spa_link(link)"
   ]
  },
  {
   "cell_type": "code",
   "execution_count": null,
   "id": "4b7d4db9-6c2c-4151-93d7-c92c512a221d",
   "metadata": {},
   "outputs": [],
   "source": [
    "if link: webmap_utils.display_spa_map(link)"
   ]
  },
  {
   "cell_type": "markdown",
   "id": "9dbefb68-c2fa-47b9-84ab-9c5e86315f56",
   "metadata": {},
   "source": [
    "### Variation in Speeds by Segment\n",
    "\n",
    "* This visualization shows variation as the ratio between the 80th percentile and 20th percentile speeds in each segment\n",
    "* Segments with high variation in speeds make it difficult for transit operators to set accurate schedules, and can cause inconsistent service for riders"
   ]
  },
  {
   "cell_type": "code",
   "execution_count": null,
   "id": "f942bbf6-16f4-402b-a7e4-cec9b95e5243",
   "metadata": {},
   "outputs": [],
   "source": [
    "%%capture\n",
    "link = speedmap_utils.map_time_period(district_gdf=this_shn, speedmap_segs=speedmap_segs, org_shapes=org_shapes,\n",
    "                                      analysis_date=analysis_date, time_of_day='AM Peak', map_type='new_speed_variation')"
   ]
  },
  {
   "cell_type": "code",
   "execution_count": null,
   "id": "4c80b3db-3800-41f0-b0f4-c589ffb2e08e",
   "metadata": {},
   "outputs": [],
   "source": [
    "if link: webmap_utils.render_spa_link(link)"
   ]
  },
  {
   "cell_type": "code",
   "execution_count": null,
   "id": "187d8255-1332-4b6e-ac75-ed5710830a7b",
   "metadata": {},
   "outputs": [],
   "source": [
    "if link: webmap_utils.display_spa_map(link)"
   ]
  },
  {
   "cell_type": "markdown",
   "id": "68ed263d-326c-4f3f-bfb4-ffb963f8f02b",
   "metadata": {
    "tags": []
   },
   "source": [
    "## Midday (10:00-15:00)"
   ]
  },
  {
   "cell_type": "markdown",
   "id": "f221d306-9438-4c1f-a59b-ae0b99b5aed5",
   "metadata": {},
   "source": [
    "### 20th Percentile Speeds by Segment"
   ]
  },
  {
   "cell_type": "code",
   "execution_count": null,
   "id": "12082834-75ee-4715-8e7d-9150d2c8b129",
   "metadata": {},
   "outputs": [],
   "source": [
    "%%capture\n",
    "link = speedmap_utils.map_time_period(district_gdf=this_shn, speedmap_segs=speedmap_segs, org_shapes=org_shapes,\n",
    "                                      analysis_date=analysis_date, time_of_day='Midday', map_type='new_speedmap')"
   ]
  },
  {
   "cell_type": "code",
   "execution_count": null,
   "id": "cb777a85-5704-4d66-badb-08756e9a317c",
   "metadata": {},
   "outputs": [],
   "source": [
    "if link: webmap_utils.render_spa_link(link)"
   ]
  },
  {
   "cell_type": "code",
   "execution_count": null,
   "id": "5171f750-6013-4ca8-bc2f-2bd7678e554f",
   "metadata": {},
   "outputs": [],
   "source": [
    "if link: webmap_utils.display_spa_map(link)"
   ]
  },
  {
   "cell_type": "markdown",
   "id": "816af03a-c7c5-405c-bfbb-1314943d6121",
   "metadata": {},
   "source": [
    "### Variation in Speeds by Segment\n",
    "\n",
    "* This visualization shows variation as the ratio between the 80th percentile and 20th percentile speeds in each segment\n",
    "* Segments with high variation in speeds make it difficult for transit operators to set accurate schedules, and can cause inconsistent service for riders"
   ]
  },
  {
   "cell_type": "code",
   "execution_count": null,
   "id": "300161cd-a92a-4260-8ccf-84c5797e6ec6",
   "metadata": {},
   "outputs": [],
   "source": [
    "%%capture\n",
    "link = speedmap_utils.map_time_period(district_gdf=this_shn, speedmap_segs=speedmap_segs, org_shapes=org_shapes,\n",
    "                                      analysis_date=analysis_date, time_of_day='Midday', map_type='new_speed_variation')"
   ]
  },
  {
   "cell_type": "code",
   "execution_count": null,
   "id": "71145071-573a-4c97-9d5d-ac19e43b5a97",
   "metadata": {},
   "outputs": [],
   "source": [
    "if link: webmap_utils.render_spa_link(link)"
   ]
  },
  {
   "cell_type": "code",
   "execution_count": null,
   "id": "bd852a1e-0cc8-4e6d-acf0-e38b35609deb",
   "metadata": {},
   "outputs": [],
   "source": [
    "if link: webmap_utils.display_spa_map(link)"
   ]
  },
  {
   "cell_type": "markdown",
   "id": "ac317854-05fe-4a96-84b3-664ebffe083d",
   "metadata": {
    "tags": []
   },
   "source": [
    "## PM Peak (15:00-20:00)"
   ]
  },
  {
   "cell_type": "markdown",
   "id": "bd10bcf2-e91f-475f-a7bb-ea29ed1b8eb6",
   "metadata": {},
   "source": [
    "### 20th Percentile Speeds by Segment"
   ]
  },
  {
   "cell_type": "code",
   "execution_count": null,
   "id": "11cf5818-f909-4d56-b358-b48f29ed256f",
   "metadata": {},
   "outputs": [],
   "source": [
    "%%capture\n",
    "link = speedmap_utils.map_time_period(district_gdf=this_shn, speedmap_segs=speedmap_segs, org_shapes=org_shapes,\n",
    "                                      analysis_date=analysis_date, time_of_day='PM Peak', map_type='new_speedmap')"
   ]
  },
  {
   "cell_type": "code",
   "execution_count": null,
   "id": "c86ef14d-0528-4cb4-a347-55607f547159",
   "metadata": {},
   "outputs": [],
   "source": [
    "if link: webmap_utils.render_spa_link(link)"
   ]
  },
  {
   "cell_type": "code",
   "execution_count": null,
   "id": "db6634b3-a794-47a4-a4e2-6a875aea1a0c",
   "metadata": {},
   "outputs": [],
   "source": [
    "if link: webmap_utils.display_spa_map(link)"
   ]
  },
  {
   "cell_type": "markdown",
   "id": "4ebb8a11-b214-4a0e-bd24-f29863d7832b",
   "metadata": {},
   "source": [
    "### Variation in Speeds by Segment\n",
    "\n",
    "* This visualization shows variation as the ratio between the 80th percentile and 20th percentile speeds in each segment\n",
    "* Segments with high variation in speeds make it difficult for transit operators to set accurate schedules, and can cause inconsistent service for riders"
   ]
  },
  {
   "cell_type": "code",
   "execution_count": null,
   "id": "6e6f502e-7a81-4582-8a70-7c20c0f04bdf",
   "metadata": {},
   "outputs": [],
   "source": [
    "%%capture\n",
    "link = speedmap_utils.map_time_period(district_gdf=this_shn, speedmap_segs=speedmap_segs, org_shapes=org_shapes,\n",
    "                                      analysis_date=analysis_date, time_of_day='PM Peak', map_type='new_speed_variation')"
   ]
  },
  {
   "cell_type": "code",
   "execution_count": null,
   "id": "7ebde3a1-a6ab-4c23-9105-9b163c47fb0f",
   "metadata": {},
   "outputs": [],
   "source": [
    "if link: webmap_utils.render_spa_link(link)"
   ]
  },
  {
   "cell_type": "code",
   "execution_count": null,
   "id": "7ed2bb7c-dd0e-4aeb-8ebe-2ff9835f6fbb",
   "metadata": {},
   "outputs": [],
   "source": [
    "if link: webmap_utils.display_spa_map(link)"
   ]
  },
  {
   "cell_type": "markdown",
   "id": "749a63f1-35d5-4f5e-bc44-871943868e71",
   "metadata": {
    "tags": []
   },
   "source": [
    "## Daily Speed Patterns\n",
    "\n",
    "* This chart shows the distribution of segment speeds in each time of day. It can help find times of day where transit riders experience the slowest overall speeds, or highest variation in speeds."
   ]
  },
  {
   "cell_type": "code",
   "execution_count": null,
   "id": "52ef19f8-4078-4cbd-8049-a01963eb4d06",
   "metadata": {},
   "outputs": [],
   "source": [
    "speedmap_utils.chart_speeds_by_time_period(speedmap_segs)"
   ]
  },
  {
   "cell_type": "markdown",
   "id": "70846ffd-28d6-4042-80bc-a79d3959a26e",
   "metadata": {},
   "source": [
    "## Additional Time Periods\n",
    "\n",
    "These links provide speed and speed variation maps outside the AM Peak, Midday, and PM Peak periods, if available.\n",
    "\n",
    "* Evening is 20:00-24:00\n",
    "* Owl is 00:00-04:00\n",
    "* Early AM is 04:00-07:00"
   ]
  },
  {
   "cell_type": "code",
   "execution_count": null,
   "id": "6bea466f-f2fb-44b4-a26f-44bcf20abe7a",
   "metadata": {},
   "outputs": [],
   "source": [
    "for time_period in [period for period in speedmap_segs.time_of_day.unique() if period not in ['AM Peak', 'Midday', 'PM Peak']]:\n",
    "    link = speedmap_utils.map_time_period(district_gdf=this_shn, speedmap_segs=speedmap_segs, org_shapes=org_shapes,\n",
    "                                          analysis_date=analysis_date, time_of_day=time_period, map_type='new_speedmap')\n",
    "    webmap_utils.render_spa_link(link, text=f\"{time_period} Speeds\")\n",
    "    link = speedmap_utils.map_time_period(district_gdf=this_shn, speedmap_segs=speedmap_segs, org_shapes=org_shapes,\n",
    "                                          analysis_date=analysis_date, time_of_day=time_period, map_type='new_speed_variation')\n",
    "    webmap_utils.render_spa_link(link, text=f\"{time_period} Speed Variation\")"
   ]
  }
 ],
 "metadata": {
  "kernelspec": {
   "display_name": "Python 3 (ipykernel)",
   "language": "python",
   "name": "python3"
  },
  "language_info": {
   "codemirror_mode": {
    "name": "ipython",
    "version": 3
   },
   "file_extension": ".py",
   "mimetype": "text/x-python",
   "name": "python",
   "nbconvert_exporter": "python",
   "pygments_lexer": "ipython3",
   "version": "3.11.10"
  },
  "widgets": {
   "application/vnd.jupyter.widget-state+json": {
    "state": {},
    "version_major": 2,
    "version_minor": 0
   }
  }
 },
 "nbformat": 4,
 "nbformat_minor": 5
}
