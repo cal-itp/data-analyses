{
 "cells": [
  {
   "cell_type": "code",
   "execution_count": null,
   "id": "46898b5c-b5cc-4096-ab68-8c3e42fab870",
   "metadata": {},
   "outputs": [],
   "source": [
    "%%capture\n",
    "import warnings\n",
    "warnings.filterwarnings('ignore')\n",
    "import calitp_data_analysis.magics\n",
    "from update_vars_index import ANALYSIS_DATE\n",
    "\n",
    "import speedmap_utils"
   ]
  },
  {
   "cell_type": "code",
   "execution_count": null,
   "id": "9f15ed6a-5ab7-4f57-9695-3f762781b74c",
   "metadata": {
    "tags": [
     "parameters"
    ]
   },
   "outputs": [],
   "source": [
    "## parameters cell\n",
    "\n",
    "organization_source_record_id = ''"
   ]
  },
  {
   "cell_type": "code",
   "execution_count": 3,
   "id": "82d7b8ac-3897-4604-9be4-37bd480577e7",
   "metadata": {},
   "outputs": [],
   "source": [
    "%%capture\n",
    "speedmap_segs, this_shn = speedmap_utils.read_segments_shn(organization_source_record_id=organization_source_record_id)\n",
    "org_shapes = speedmap_utils.read_shapes(speedmap_segs)"
   ]
  },
  {
   "cell_type": "code",
   "execution_count": null,
   "id": "11303bd3-01bf-4af4-b0fa-63dbc375bd48",
   "metadata": {},
   "outputs": [],
   "source": [
    "%%capture_parameters\n",
    "human_date = ANALYSIS_DATE.strftime('%B %d %Y (%A)')\n",
    "human_date"
   ]
  },
  {
   "cell_type": "code",
   "execution_count": null,
   "id": "649d7a14-8b01-4a84-afee-092bd3febbb8",
   "metadata": {},
   "outputs": [],
   "source": [
    "%%capture_parameters\n",
    "organization_name = speedmap_segs.organization_name.iloc[0]\n",
    "organization_name"
   ]
  },
  {
   "cell_type": "markdown",
   "id": "d0b9c978-e6a6-4646-a2c0-e3a603f1dfc3",
   "metadata": {
    "tags": []
   },
   "source": [
    "# {organization_name}"
   ]
  },
  {
   "cell_type": "markdown",
   "id": "9470c739-9b57-4a80-86fe-ca62844a9331",
   "metadata": {
    "tags": []
   },
   "source": [
    "## About These Maps:\n",
    "\n",
    "* Each map shows bus (and rail, if applicable) speeds for {organization_name}, with a map each for the AM Peak, Midday, and PM Peak periods on {human_date}.\n",
    "* On the map, routes are split into segments corresponding to the distance between two stops, allowing you to focus on specific portions of the route experiencing a slowdown.\n",
    "* Route segments are arrow-shaped to indicate direction of travel. Thicker segments indicate more frequent transit routes.\n",
    "* State Highway Network routes are outlined in gray.\n",
    "* Hover over, a segment with your mouse to see the exact speed, route name, and transit service frequency in that segment. \n",
    "    * Higher-frequency routes (3+ trips per hour) are especially important, since those slowdowns correspond to more vehicles, and riders, delayed in traffic."
   ]
  },
  {
   "cell_type": "markdown",
   "id": "db37b33a-6e9f-4a31-9b83-4a2a5a078241",
   "metadata": {
    "tags": []
   },
   "source": [
    "## AM Peak (07:00-10:00)"
   ]
  },
  {
   "cell_type": "markdown",
   "id": "8b335f1d-5d61-4356-8258-68eb0b069989",
   "metadata": {},
   "source": [
    "### 20th Percentile Speeds by Segment"
   ]
  },
  {
   "cell_type": "code",
   "execution_count": null,
   "id": "0003df13-f7d7-4d70-bd8a-91f0cc4e95c3",
   "metadata": {},
   "outputs": [],
   "source": [
    "%%capture\n",
    "link = speedmap_utils.map_time_period(district_gdf=this_shn, speedmap_segs=speedmap_segs, org_shapes=org_shapes,\n",
    "                                      analysis_date=ANALYSIS_DATE, time_of_day='AM Peak', map_type='new_speedmap')"
   ]
  },
  {
   "cell_type": "code",
   "execution_count": null,
   "id": "364e6af4-da42-44d6-a252-9b4039e3f590",
   "metadata": {},
   "outputs": [],
   "source": [
    "if link: speedmap_utils.render_spa_link(link)"
   ]
  },
  {
   "cell_type": "code",
   "execution_count": null,
   "id": "4b7d4db9-6c2c-4151-93d7-c92c512a221d",
   "metadata": {},
   "outputs": [],
   "source": [
    "if link: speedmap_utils.display_spa_map(link)"
   ]
  },
  {
   "cell_type": "markdown",
   "id": "9dbefb68-c2fa-47b9-84ab-9c5e86315f56",
   "metadata": {},
   "source": [
    "### Variation in Speeds by Segment\n",
    "\n",
    "* This visualization shows variation as the ratio between the 80th percentile and 20th percentile speeds in each segment\n",
    "* Segments with high variation in speeds make it difficult for transit operators to set accurate schedules, and can cause inconsistent service for riders"
   ]
  },
  {
   "cell_type": "code",
   "execution_count": null,
   "id": "f942bbf6-16f4-402b-a7e4-cec9b95e5243",
   "metadata": {},
   "outputs": [],
   "source": [
    "%%capture\n",
    "link = speedmap_utils.map_time_period(district_gdf=this_shn, speedmap_segs=speedmap_segs, org_shapes=org_shapes,\n",
    "                                      analysis_date=ANALYSIS_DATE, time_of_day='AM Peak', map_type='new_speed_variation')"
   ]
  },
  {
   "cell_type": "code",
   "execution_count": null,
   "id": "4c80b3db-3800-41f0-b0f4-c589ffb2e08e",
   "metadata": {},
   "outputs": [],
   "source": [
    "if link: speedmap_utils.render_spa_link(link)"
   ]
  },
  {
   "cell_type": "code",
   "execution_count": null,
   "id": "187d8255-1332-4b6e-ac75-ed5710830a7b",
   "metadata": {},
   "outputs": [],
   "source": [
    "if link: speedmap_utils.display_spa_map(link)"
   ]
  },
  {
   "cell_type": "markdown",
   "id": "68ed263d-326c-4f3f-bfb4-ffb963f8f02b",
   "metadata": {
    "tags": []
   },
   "source": [
    "## Midday (10:00-15:00)"
   ]
  },
  {
   "cell_type": "markdown",
   "id": "f221d306-9438-4c1f-a59b-ae0b99b5aed5",
   "metadata": {},
   "source": [
    "### 20th Percentile Speeds by Segment"
   ]
  },
  {
   "cell_type": "code",
   "execution_count": null,
   "id": "12082834-75ee-4715-8e7d-9150d2c8b129",
   "metadata": {},
   "outputs": [],
   "source": [
    "%%capture\n",
    "link = speedmap_utils.map_time_period(district_gdf=this_shn, speedmap_segs=speedmap_segs, org_shapes=org_shapes,\n",
    "                                      analysis_date=ANALYSIS_DATE, time_of_day='Midday', map_type='new_speedmap')"
   ]
  },
  {
   "cell_type": "code",
   "execution_count": null,
   "id": "cb777a85-5704-4d66-badb-08756e9a317c",
   "metadata": {},
   "outputs": [],
   "source": [
    "if link: speedmap_utils.render_spa_link(link)"
   ]
  },
  {
   "cell_type": "code",
   "execution_count": null,
   "id": "5171f750-6013-4ca8-bc2f-2bd7678e554f",
   "metadata": {},
   "outputs": [],
   "source": [
    "if link: speedmap_utils.display_spa_map(link)"
   ]
  },
  {
   "cell_type": "markdown",
   "id": "816af03a-c7c5-405c-bfbb-1314943d6121",
   "metadata": {},
   "source": [
    "### Variation in Speeds by Segment\n",
    "\n",
    "* This visualization shows variation as the ratio between the 80th percentile and 20th percentile speeds in each segment\n",
    "* Segments with high variation in speeds make it difficult for transit operators to set accurate schedules, and can cause inconsistent service for riders"
   ]
  },
  {
   "cell_type": "code",
   "execution_count": null,
   "id": "300161cd-a92a-4260-8ccf-84c5797e6ec6",
   "metadata": {},
   "outputs": [],
   "source": [
    "%%capture\n",
    "link = speedmap_utils.map_time_period(district_gdf=this_shn, speedmap_segs=speedmap_segs, org_shapes=org_shapes,\n",
    "                                      analysis_date=ANALYSIS_DATE, time_of_day='Midday', map_type='new_speed_variation')"
   ]
  },
  {
   "cell_type": "code",
   "execution_count": null,
   "id": "71145071-573a-4c97-9d5d-ac19e43b5a97",
   "metadata": {},
   "outputs": [],
   "source": [
    "if link: speedmap_utils.render_spa_link(link)"
   ]
  },
  {
   "cell_type": "code",
   "execution_count": null,
   "id": "bd852a1e-0cc8-4e6d-acf0-e38b35609deb",
   "metadata": {},
   "outputs": [],
   "source": [
    "if link: speedmap_utils.display_spa_map(link)"
   ]
  },
  {
   "cell_type": "markdown",
   "id": "ac317854-05fe-4a96-84b3-664ebffe083d",
   "metadata": {
    "tags": []
   },
   "source": [
    "## PM Peak (15:00-20:00)"
   ]
  },
  {
   "cell_type": "markdown",
   "id": "bd10bcf2-e91f-475f-a7bb-ea29ed1b8eb6",
   "metadata": {},
   "source": [
    "### 20th Percentile Speeds by Segment"
   ]
  },
  {
   "cell_type": "code",
   "execution_count": null,
   "id": "11cf5818-f909-4d56-b358-b48f29ed256f",
   "metadata": {},
   "outputs": [],
   "source": [
    "%%capture\n",
    "link = speedmap_utils.map_time_period(district_gdf=this_shn, speedmap_segs=speedmap_segs, org_shapes=org_shapes,\n",
    "                                      analysis_date=ANALYSIS_DATE, time_of_day='PM Peak', map_type='new_speedmap')"
   ]
  },
  {
   "cell_type": "code",
   "execution_count": null,
   "id": "c86ef14d-0528-4cb4-a347-55607f547159",
   "metadata": {},
   "outputs": [],
   "source": [
    "if link: speedmap_utils.render_spa_link(link)"
   ]
  },
  {
   "cell_type": "code",
   "execution_count": null,
   "id": "db6634b3-a794-47a4-a4e2-6a875aea1a0c",
   "metadata": {},
   "outputs": [],
   "source": [
    "if link: speedmap_utils.display_spa_map(link)"
   ]
  },
  {
   "cell_type": "markdown",
   "id": "4ebb8a11-b214-4a0e-bd24-f29863d7832b",
   "metadata": {},
   "source": [
    "### Variation in Speeds by Segment\n",
    "\n",
    "* This visualization shows variation as the ratio between the 80th percentile and 20th percentile speeds in each segment\n",
    "* Segments with high variation in speeds make it difficult for transit operators to set accurate schedules, and can cause inconsistent service for riders"
   ]
  },
  {
   "cell_type": "code",
   "execution_count": null,
   "id": "6e6f502e-7a81-4582-8a70-7c20c0f04bdf",
   "metadata": {},
   "outputs": [],
   "source": [
    "%%capture\n",
    "link = speedmap_utils.map_time_period(district_gdf=this_shn, speedmap_segs=speedmap_segs, org_shapes=org_shapes,\n",
    "                                      analysis_date=ANALYSIS_DATE, time_of_day='PM Peak', map_type='new_speed_variation')"
   ]
  },
  {
   "cell_type": "code",
   "execution_count": null,
   "id": "7ebde3a1-a6ab-4c23-9105-9b163c47fb0f",
   "metadata": {},
   "outputs": [],
   "source": [
    "if link: speedmap_utils.render_spa_link(link)"
   ]
  },
  {
   "cell_type": "code",
   "execution_count": null,
   "id": "7ed2bb7c-dd0e-4aeb-8ebe-2ff9835f6fbb",
   "metadata": {},
   "outputs": [],
   "source": [
    "if link: speedmap_utils.display_spa_map(link)"
   ]
  },
  {
   "cell_type": "markdown",
   "id": "749a63f1-35d5-4f5e-bc44-871943868e71",
   "metadata": {
    "tags": []
   },
   "source": [
    "## Daily Speed Patterns\n",
    "\n",
    "* This chart shows the distribution of segment speeds in each time of day. It can help find times of day where transit riders experience the slowest overall speeds, or highest variation in speeds."
   ]
  },
  {
   "cell_type": "code",
   "execution_count": null,
   "id": "52ef19f8-4078-4cbd-8049-a01963eb4d06",
   "metadata": {},
   "outputs": [],
   "source": [
    "speedmap_utils.chart_speeds_by_time_period(speedmap_segs)"
   ]
  },
  {
   "cell_type": "markdown",
   "id": "70846ffd-28d6-4042-80bc-a79d3959a26e",
   "metadata": {},
   "source": [
    "## Additional Time Periods\n",
    "\n",
    "These links provide speed and speed variation maps outside the AM Peak, Midday, and PM Peak periods, if available.\n",
    "\n",
    "* Evening is 20:00-24:00\n",
    "* Owl is 00:00-04:00\n",
    "* Early AM is 04:00-07:00"
   ]
  },
  {
   "cell_type": "code",
   "execution_count": null,
   "id": "6bea466f-f2fb-44b4-a26f-44bcf20abe7a",
   "metadata": {},
   "outputs": [],
   "source": [
    "for time_period in [period for period in speedmap_segs.time_of_day.unique() if period not in ['AM Peak', 'Midday', 'PM Peak']]:\n",
    "    link = speedmap_utils.map_time_period(district_gdf=this_shn, speedmap_segs=speedmap_segs, org_shapes=org_shapes,\n",
    "                                          analysis_date=ANALYSIS_DATE, time_of_day=time_period, map_type='new_speedmap')\n",
    "    speedmap_utils.render_spa_link(link, text=f\"{time_period} Speeds\")\n",
    "    link = speedmap_utils.map_time_period(district_gdf=this_shn, speedmap_segs=speedmap_segs, org_shapes=org_shapes,\n",
    "                                          analysis_date=ANALYSIS_DATE, time_of_day=time_period, map_type='new_speed_variation')\n",
    "    speedmap_utils.render_spa_link(link, text=f\"{time_period} Speed Variation\")"
   ]
  }
 ],
 "metadata": {
  "kernelspec": {
   "display_name": "Python 3 (ipykernel)",
   "language": "python",
   "name": "python3"
  },
  "language_info": {
   "codemirror_mode": {
    "name": "ipython",
    "version": 3
   },
   "file_extension": ".py",
   "mimetype": "text/x-python",
   "name": "python",
   "nbconvert_exporter": "python",
   "pygments_lexer": "ipython3",
   "version": "3.9.13"
  },
  "widgets": {
   "application/vnd.jupyter.widget-state+json": {
    "state": {},
    "version_major": 2,
    "version_minor": 0
   }
  }
 },
 "nbformat": 4,
 "nbformat_minor": 5
}
