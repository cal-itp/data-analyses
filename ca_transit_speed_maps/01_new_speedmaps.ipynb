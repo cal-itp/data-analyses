{
 "cells": [
  {
   "cell_type": "code",
   "execution_count": 1,
   "id": "46898b5c-b5cc-4096-ab68-8c3e42fab870",
   "metadata": {},
   "outputs": [],
   "source": [
    "%%capture\n",
    "import warnings\n",
    "warnings.filterwarnings('ignore')\n",
    "\n",
    "import calitp_data_analysis.magics\n",
    "\n",
    "from rt_analysis import rt_filter_map_plot\n",
    "import build_speedmaps_index\n",
    "\n",
    "from IPython.display import display, Markdown\n",
    "import pandas as pd\n",
    "import geopandas as gpd\n",
    "from siuba import *\n",
    "\n",
    "from segment_speed_utils.project_vars import (\n",
    "    COMPILED_CACHED_VIEWS,\n",
    "    PROJECT_CRS,\n",
    "    SEGMENT_GCS,\n",
    ")\n",
    "\n",
    "import shared_utils"
   ]
  },
  {
   "cell_type": "code",
   "execution_count": 2,
   "id": "9f15ed6a-5ab7-4f57-9695-3f762781b74c",
   "metadata": {
    "tags": [
     "parameters"
    ]
   },
   "outputs": [],
   "source": [
    "## parameters cell\n",
    "itp_id = 300"
   ]
  },
  {
   "cell_type": "code",
   "execution_count": 3,
   "id": "a639fd84-29ca-4678-b568-2b1022701e14",
   "metadata": {},
   "outputs": [],
   "source": [
    "analysis_date = build_speedmaps_index.ANALYSIS_DATE\n",
    "import datetime as dt\n",
    "# if itp_id == 293:\n",
    "#     analysis_date = dt.date(2023, 9, 13)"
   ]
  },
  {
   "cell_type": "code",
   "execution_count": 4,
   "id": "d0cdaf1a-2c6d-452a-a5cc-210aa2fac2cb",
   "metadata": {},
   "outputs": [],
   "source": [
    "analysis_date = shared_utils.rt_dates.DATES['aug2024']"
   ]
  },
  {
   "cell_type": "code",
   "execution_count": 5,
   "id": "eea40f4b-c378-4b70-a80b-bbe79f8441bf",
   "metadata": {
    "tags": []
   },
   "outputs": [],
   "source": [
    "# speedmap_index = pd.read_parquet(f'_rt_progress_{analysis_date}.parquet') >> filter(_.organization_itp_id == itp_id)\n",
    "speedmap_index = pd.read_parquet(f'_rt_progress_{analysis_date}.parquet') >> filter(_.organization_name.str.contains('Torr'))"
   ]
  },
  {
   "cell_type": "code",
   "execution_count": 6,
   "id": "c54b78fd-de92-45d9-b54d-49c5b88945c7",
   "metadata": {},
   "outputs": [
    {
     "data": {
      "text/html": [
       "<div>\n",
       "<style scoped>\n",
       "    .dataframe tbody tr th:only-of-type {\n",
       "        vertical-align: middle;\n",
       "    }\n",
       "\n",
       "    .dataframe tbody tr th {\n",
       "        vertical-align: top;\n",
       "    }\n",
       "\n",
       "    .dataframe thead th {\n",
       "        text-align: right;\n",
       "    }\n",
       "</style>\n",
       "<table border=\"1\" class=\"dataframe\">\n",
       "  <thead>\n",
       "    <tr style=\"text-align: right;\">\n",
       "      <th></th>\n",
       "      <th>organization_name</th>\n",
       "      <th>organization_itp_id</th>\n",
       "      <th>organization_source_record_id</th>\n",
       "      <th>caltrans_district</th>\n",
       "      <th>_is_current</th>\n",
       "      <th>analysis_date</th>\n",
       "      <th>schedule_gtfs_dataset_key</th>\n",
       "      <th>status</th>\n",
       "    </tr>\n",
       "  </thead>\n",
       "  <tbody>\n",
       "    <tr>\n",
       "      <th>38</th>\n",
       "      <td>City of Torrance</td>\n",
       "      <td>339</td>\n",
       "      <td>recvzE9NXgGMmqcTH</td>\n",
       "      <td>07 - Los Angeles</td>\n",
       "      <td>True</td>\n",
       "      <td>2024-08-14</td>\n",
       "      <td>7cb3592df114dab1288176f1410563a1</td>\n",
       "      <td>speedmap_segs_available</td>\n",
       "    </tr>\n",
       "  </tbody>\n",
       "</table>\n",
       "</div>"
      ],
      "text/plain": [
       "   organization_name  organization_itp_id organization_source_record_id  \\\n",
       "38  City of Torrance                  339             recvzE9NXgGMmqcTH   \n",
       "\n",
       "   caltrans_district  _is_current analysis_date  \\\n",
       "38  07 - Los Angeles         True    2024-08-14   \n",
       "\n",
       "           schedule_gtfs_dataset_key                   status  \n",
       "38  7cb3592df114dab1288176f1410563a1  speedmap_segs_available  "
      ]
     },
     "execution_count": 6,
     "metadata": {},
     "output_type": "execute_result"
    }
   ],
   "source": [
    "speedmap_index"
   ]
  },
  {
   "cell_type": "code",
   "execution_count": 7,
   "id": "76edaa5c-039e-419a-ade6-15ebdc018b3c",
   "metadata": {},
   "outputs": [
    {
     "data": {
      "text/plain": [
       "'gs://calitp-analytics-data/data-analyses/rt_segment_speeds/'"
      ]
     },
     "execution_count": 7,
     "metadata": {},
     "output_type": "execute_result"
    }
   ],
   "source": [
    "SEGMENT_GCS"
   ]
  },
  {
   "cell_type": "code",
   "execution_count": 8,
   "id": "28317d9e-9f9e-493c-889e-78b8099004e5",
   "metadata": {},
   "outputs": [],
   "source": [
    "# speedmap_segs = gpd.read_parquet(f'{SEGMENT_GCS}segment_options/speedmap_segments_{analysis_date}.parquet')` #  non-aggregated"
   ]
  },
  {
   "cell_type": "code",
   "execution_count": 9,
   "id": "9302c0ad-1201-4c5a-8267-ec52719cf777",
   "metadata": {},
   "outputs": [],
   "source": [
    "speedmap_segs = gpd.read_parquet(f'{SEGMENT_GCS}rollup_singleday/speeds_shape_speedmap_segments_{analysis_date}.parquet') #  aggregated"
   ]
  },
  {
   "cell_type": "code",
   "execution_count": 10,
   "id": "19dbeff0-faf6-43e3-9edf-6e68dfeceeac",
   "metadata": {},
   "outputs": [
    {
     "data": {
      "text/plain": [
       "Index(['schedule_gtfs_dataset_key', 'shape_array_key', 'shape_id', 'stop_pair',\n",
       "       'stop_pair_name', 'segment_id', 'time_period', 'p50_mph', 'n_trips',\n",
       "       'p20_mph', 'p80_mph', 'name', 'caltrans_district',\n",
       "       'organization_source_record_id', 'organization_name', 'base64_url',\n",
       "       'geometry'],\n",
       "      dtype='object')"
      ]
     },
     "execution_count": 10,
     "metadata": {},
     "output_type": "execute_result"
    }
   ],
   "source": [
    "speedmap_segs.columns"
   ]
  },
  {
   "cell_type": "code",
   "execution_count": 11,
   "id": "9f3c4c93-a5f5-40d7-9315-63e4fecbd738",
   "metadata": {},
   "outputs": [],
   "source": [
    "speedmap_segs = speedmap_segs >> filter(_.schedule_gtfs_dataset_key == speedmap_index.schedule_gtfs_dataset_key.iloc[0])"
   ]
  },
  {
   "cell_type": "code",
   "execution_count": 12,
   "id": "33038798-16a0-46b5-a50e-2609c5729534",
   "metadata": {},
   "outputs": [
    {
     "data": {
      "text/html": [
       "<div>\n",
       "<style scoped>\n",
       "    .dataframe tbody tr th:only-of-type {\n",
       "        vertical-align: middle;\n",
       "    }\n",
       "\n",
       "    .dataframe tbody tr th {\n",
       "        vertical-align: top;\n",
       "    }\n",
       "\n",
       "    .dataframe thead th {\n",
       "        text-align: right;\n",
       "    }\n",
       "</style>\n",
       "<table border=\"1\" class=\"dataframe\">\n",
       "  <thead>\n",
       "    <tr style=\"text-align: right;\">\n",
       "      <th></th>\n",
       "      <th>schedule_gtfs_dataset_key</th>\n",
       "      <th>shape_array_key</th>\n",
       "      <th>shape_id</th>\n",
       "      <th>stop_pair</th>\n",
       "      <th>stop_pair_name</th>\n",
       "      <th>segment_id</th>\n",
       "      <th>time_period</th>\n",
       "      <th>p50_mph</th>\n",
       "      <th>n_trips</th>\n",
       "      <th>p20_mph</th>\n",
       "      <th>p80_mph</th>\n",
       "      <th>name</th>\n",
       "      <th>caltrans_district</th>\n",
       "      <th>organization_source_record_id</th>\n",
       "      <th>organization_name</th>\n",
       "      <th>base64_url</th>\n",
       "      <th>geometry</th>\n",
       "    </tr>\n",
       "  </thead>\n",
       "  <tbody>\n",
       "    <tr>\n",
       "      <th>214101</th>\n",
       "      <td>7cb3592df114dab1288176f1410563a1</td>\n",
       "      <td>8d78b7a45c70a6166d8a28940465c713</td>\n",
       "      <td>shp-3-01</td>\n",
       "      <td>870__242</td>\n",
       "      <td>Torrance Bl at Broadway__TORRANCE BL + PACIFIC...</td>\n",
       "      <td>870-242-1</td>\n",
       "      <td>offpeak</td>\n",
       "      <td>3.69</td>\n",
       "      <td>10</td>\n",
       "      <td>1.87</td>\n",
       "      <td>5.91</td>\n",
       "      <td>Torrance Schedule</td>\n",
       "      <td>07 - Los Angeles</td>\n",
       "      <td>recvzE9NXgGMmqcTH</td>\n",
       "      <td>City of Torrance</td>\n",
       "      <td>aHR0cHM6Ly90cmFuc2l0LnRvcnJhbmNlY2EuZ292L2hvbW...</td>\n",
       "      <td>LINESTRING (-118.38611 33.83816, -118.38611 33...</td>\n",
       "    </tr>\n",
       "    <tr>\n",
       "      <th>214102</th>\n",
       "      <td>7cb3592df114dab1288176f1410563a1</td>\n",
       "      <td>8d78b7a45c70a6166d8a28940465c713</td>\n",
       "      <td>shp-3-01</td>\n",
       "      <td>870__242</td>\n",
       "      <td>Torrance Bl at Broadway__TORRANCE BL + PACIFIC...</td>\n",
       "      <td>870-242-1</td>\n",
       "      <td>peak</td>\n",
       "      <td>4.33</td>\n",
       "      <td>14</td>\n",
       "      <td>3.26</td>\n",
       "      <td>7.16</td>\n",
       "      <td>Torrance Schedule</td>\n",
       "      <td>07 - Los Angeles</td>\n",
       "      <td>recvzE9NXgGMmqcTH</td>\n",
       "      <td>City of Torrance</td>\n",
       "      <td>aHR0cHM6Ly90cmFuc2l0LnRvcnJhbmNlY2EuZ292L2hvbW...</td>\n",
       "      <td>LINESTRING (-118.38611 33.83816, -118.38611 33...</td>\n",
       "    </tr>\n",
       "    <tr>\n",
       "      <th>214103</th>\n",
       "      <td>7cb3592df114dab1288176f1410563a1</td>\n",
       "      <td>8d78b7a45c70a6166d8a28940465c713</td>\n",
       "      <td>shp-3-01</td>\n",
       "      <td>870__242</td>\n",
       "      <td>Torrance Bl at Broadway__TORRANCE BL + PACIFIC...</td>\n",
       "      <td>870-242-1</td>\n",
       "      <td>all_day</td>\n",
       "      <td>4.22</td>\n",
       "      <td>24</td>\n",
       "      <td>2.91</td>\n",
       "      <td>7.16</td>\n",
       "      <td>Torrance Schedule</td>\n",
       "      <td>07 - Los Angeles</td>\n",
       "      <td>recvzE9NXgGMmqcTH</td>\n",
       "      <td>City of Torrance</td>\n",
       "      <td>aHR0cHM6Ly90cmFuc2l0LnRvcnJhbmNlY2EuZ292L2hvbW...</td>\n",
       "      <td>LINESTRING (-118.38611 33.83816, -118.38611 33...</td>\n",
       "    </tr>\n",
       "  </tbody>\n",
       "</table>\n",
       "</div>"
      ],
      "text/plain": [
       "               schedule_gtfs_dataset_key                   shape_array_key  \\\n",
       "214101  7cb3592df114dab1288176f1410563a1  8d78b7a45c70a6166d8a28940465c713   \n",
       "214102  7cb3592df114dab1288176f1410563a1  8d78b7a45c70a6166d8a28940465c713   \n",
       "214103  7cb3592df114dab1288176f1410563a1  8d78b7a45c70a6166d8a28940465c713   \n",
       "\n",
       "        shape_id stop_pair                                     stop_pair_name  \\\n",
       "214101  shp-3-01  870__242  Torrance Bl at Broadway__TORRANCE BL + PACIFIC...   \n",
       "214102  shp-3-01  870__242  Torrance Bl at Broadway__TORRANCE BL + PACIFIC...   \n",
       "214103  shp-3-01  870__242  Torrance Bl at Broadway__TORRANCE BL + PACIFIC...   \n",
       "\n",
       "       segment_id time_period  p50_mph  n_trips  p20_mph  p80_mph  \\\n",
       "214101  870-242-1     offpeak     3.69       10     1.87     5.91   \n",
       "214102  870-242-1        peak     4.33       14     3.26     7.16   \n",
       "214103  870-242-1     all_day     4.22       24     2.91     7.16   \n",
       "\n",
       "                     name caltrans_district organization_source_record_id  \\\n",
       "214101  Torrance Schedule  07 - Los Angeles             recvzE9NXgGMmqcTH   \n",
       "214102  Torrance Schedule  07 - Los Angeles             recvzE9NXgGMmqcTH   \n",
       "214103  Torrance Schedule  07 - Los Angeles             recvzE9NXgGMmqcTH   \n",
       "\n",
       "       organization_name                                         base64_url  \\\n",
       "214101  City of Torrance  aHR0cHM6Ly90cmFuc2l0LnRvcnJhbmNlY2EuZ292L2hvbW...   \n",
       "214102  City of Torrance  aHR0cHM6Ly90cmFuc2l0LnRvcnJhbmNlY2EuZ292L2hvbW...   \n",
       "214103  City of Torrance  aHR0cHM6Ly90cmFuc2l0LnRvcnJhbmNlY2EuZ292L2hvbW...   \n",
       "\n",
       "                                                 geometry  \n",
       "214101  LINESTRING (-118.38611 33.83816, -118.38611 33...  \n",
       "214102  LINESTRING (-118.38611 33.83816, -118.38611 33...  \n",
       "214103  LINESTRING (-118.38611 33.83816, -118.38611 33...  "
      ]
     },
     "execution_count": 12,
     "metadata": {},
     "output_type": "execute_result"
    }
   ],
   "source": [
    "speedmap_segs >> head(3)"
   ]
  },
  {
   "cell_type": "code",
   "execution_count": 13,
   "id": "8e89173e-a0ea-4823-bbce-0aa6cdb3f075",
   "metadata": {},
   "outputs": [
    {
     "data": {
      "text/plain": [
       "array(['offpeak', 'peak', 'all_day'], dtype=object)"
      ]
     },
     "execution_count": 13,
     "metadata": {},
     "output_type": "execute_result"
    }
   ],
   "source": [
    "speedmap_segs.time_period.unique()"
   ]
  },
  {
   "cell_type": "code",
   "execution_count": 14,
   "id": "f87584fb-f37d-4869-ba5d-af70a5a0e0e3",
   "metadata": {},
   "outputs": [],
   "source": [
    "peak_test = speedmap_segs >> filter(_.time_period == 'peak')"
   ]
  },
  {
   "cell_type": "code",
   "execution_count": 15,
   "id": "c0080473-a119-45b2-8ebc-9f9913b97ecd",
   "metadata": {},
   "outputs": [],
   "source": [
    "time_periods = [(x, shared_utils.rt_utils.categorize_time_of_day(x)) for x in range(1, 25)]"
   ]
  },
  {
   "cell_type": "code",
   "execution_count": 16,
   "id": "1df01b6f-c29e-4ccc-9b1f-03cda0241bd9",
   "metadata": {},
   "outputs": [
    {
     "data": {
      "text/plain": [
       "[(1, 'Owl'),\n",
       " (2, 'Owl'),\n",
       " (3, 'Owl'),\n",
       " (4, 'Early AM'),\n",
       " (5, 'Early AM'),\n",
       " (6, 'Early AM'),\n",
       " (7, 'AM Peak'),\n",
       " (8, 'AM Peak'),\n",
       " (9, 'AM Peak'),\n",
       " (10, 'Midday'),\n",
       " (11, 'Midday'),\n",
       " (12, 'Midday'),\n",
       " (13, 'Midday'),\n",
       " (14, 'Midday'),\n",
       " (15, 'PM Peak'),\n",
       " (16, 'PM Peak'),\n",
       " (17, 'PM Peak'),\n",
       " (18, 'PM Peak'),\n",
       " (19, 'PM Peak'),\n",
       " (20, 'Evening'),\n",
       " (21, 'Evening'),\n",
       " (22, 'Evening'),\n",
       " (23, 'Evening'),\n",
       " (24, 'Evening')]"
      ]
     },
     "execution_count": 16,
     "metadata": {},
     "output_type": "execute_result"
    }
   ],
   "source": [
    "time_periods"
   ]
  },
  {
   "cell_type": "code",
   "execution_count": 17,
   "id": "590d0196-ab95-47e8-8ce0-e0b93b4da5d4",
   "metadata": {},
   "outputs": [],
   "source": [
    "total_peak = len([x[1] for x in time_periods if 'Peak' in x[1]])"
   ]
  },
  {
   "cell_type": "code",
   "execution_count": 18,
   "id": "c5c469eb-df45-4925-8888-2cc2bfc04cc6",
   "metadata": {},
   "outputs": [
    {
     "data": {
      "text/plain": [
       "8"
      ]
     },
     "execution_count": 18,
     "metadata": {},
     "output_type": "execute_result"
    }
   ],
   "source": [
    "total_peak"
   ]
  },
  {
   "cell_type": "code",
   "execution_count": 19,
   "id": "edc84eda-ce2b-481f-ac78-6b7209cb25f4",
   "metadata": {},
   "outputs": [],
   "source": [
    "def prep_gdf(gdf):\n",
    "    \n",
    "    gdf = gdf.to_crs(calitp_data_analysis.geography_utils.CA_NAD83Albers)\n",
    "    gdf['trips_per_hour'] = gdf.n_trips / total_peak\n",
    "\n",
    "    ## shift to right side of road to display direction\n",
    "    gdf.geometry = gdf.geometry.apply(shared_utils.rt_utils.try_parallel)\n",
    "    gdf = gdf.apply(shared_utils.rt_utils.arrowize_by_frequency, axis=1)\n",
    "\n",
    "    gdf = gdf >> arrange(_.trips_per_hour)\n",
    "\n",
    "    return gdf"
   ]
  },
  {
   "cell_type": "code",
   "execution_count": 20,
   "id": "6af2c7fd-b769-4fbf-bbcf-75080972cc67",
   "metadata": {},
   "outputs": [],
   "source": [
    "peak_test = prep_gdf(peak_test)"
   ]
  },
  {
   "cell_type": "code",
   "execution_count": 21,
   "id": "cedc030e-8d19-4a0b-b3a5-5a3d6c0dce23",
   "metadata": {},
   "outputs": [],
   "source": [
    "cmap = shared_utils.rt_utils.ZERO_THIRTY_COLORSCALE\n",
    "url = shared_utils.rt_utils.SPEEDMAP_LEGEND_URL"
   ]
  },
  {
   "cell_type": "markdown",
   "id": "2e9ae65e-0ed4-4f00-ac8e-27ac85790804",
   "metadata": {},
   "source": [
    "##  adding identifiers for map display"
   ]
  },
  {
   "cell_type": "code",
   "execution_count": 24,
   "id": "87c7db4f-3da9-4ba4-915b-88432a841b39",
   "metadata": {},
   "outputs": [
    {
     "data": {
      "text/html": [
       "<div>\n",
       "<style scoped>\n",
       "    .dataframe tbody tr th:only-of-type {\n",
       "        vertical-align: middle;\n",
       "    }\n",
       "\n",
       "    .dataframe tbody tr th {\n",
       "        vertical-align: top;\n",
       "    }\n",
       "\n",
       "    .dataframe thead th {\n",
       "        text-align: right;\n",
       "    }\n",
       "</style>\n",
       "<table border=\"1\" class=\"dataframe\">\n",
       "  <thead>\n",
       "    <tr style=\"text-align: right;\">\n",
       "      <th></th>\n",
       "      <th>schedule_gtfs_dataset_key</th>\n",
       "      <th>shape_array_key</th>\n",
       "      <th>shape_id</th>\n",
       "      <th>stop_pair</th>\n",
       "      <th>stop_pair_name</th>\n",
       "      <th>segment_id</th>\n",
       "      <th>time_period</th>\n",
       "      <th>p50_mph</th>\n",
       "      <th>n_trips</th>\n",
       "      <th>p20_mph</th>\n",
       "      <th>p80_mph</th>\n",
       "      <th>name</th>\n",
       "      <th>caltrans_district</th>\n",
       "      <th>organization_source_record_id</th>\n",
       "      <th>organization_name</th>\n",
       "      <th>base64_url</th>\n",
       "      <th>geometry</th>\n",
       "      <th>trips_per_hour</th>\n",
       "    </tr>\n",
       "  </thead>\n",
       "  <tbody>\n",
       "    <tr>\n",
       "      <th>214296</th>\n",
       "      <td>7cb3592df114dab1288176f1410563a1</td>\n",
       "      <td>8d78b7a45c70a6166d8a28940465c713</td>\n",
       "      <td>shp-3-01</td>\n",
       "      <td>297__298</td>\n",
       "      <td>Pacific Av at 10th St__PACIFIC AV + 7TH ST</td>\n",
       "      <td>297-298-1</td>\n",
       "      <td>peak</td>\n",
       "      <td>12.67</td>\n",
       "      <td>1</td>\n",
       "      <td>12.67</td>\n",
       "      <td>12.67</td>\n",
       "      <td>Torrance Schedule</td>\n",
       "      <td>07 - Los Angeles</td>\n",
       "      <td>recvzE9NXgGMmqcTH</td>\n",
       "      <td>City of Torrance</td>\n",
       "      <td>aHR0cHM6Ly90cmFuc2l0LnRvcnJhbmNlY2EuZ292L2hvbW...</td>\n",
       "      <td>POLYGON ((167314.431 -469149.031, 167315.398 -...</td>\n",
       "      <td>0.125</td>\n",
       "    </tr>\n",
       "    <tr>\n",
       "      <th>214298</th>\n",
       "      <td>7cb3592df114dab1288176f1410563a1</td>\n",
       "      <td>8d78b7a45c70a6166d8a28940465c713</td>\n",
       "      <td>shp-3-01</td>\n",
       "      <td>298__299</td>\n",
       "      <td>PACIFIC AV + 7TH ST__Long Beach Bl at 6th St</td>\n",
       "      <td>298-299-1</td>\n",
       "      <td>peak</td>\n",
       "      <td>12.56</td>\n",
       "      <td>1</td>\n",
       "      <td>12.56</td>\n",
       "      <td>12.56</td>\n",
       "      <td>Torrance Schedule</td>\n",
       "      <td>07 - Los Angeles</td>\n",
       "      <td>recvzE9NXgGMmqcTH</td>\n",
       "      <td>City of Torrance</td>\n",
       "      <td>aHR0cHM6Ly90cmFuc2l0LnRvcnJhbmNlY2EuZ292L2hvbW...</td>\n",
       "      <td>POLYGON ((167316.041 -469554.175, 167317.093 -...</td>\n",
       "      <td>0.125</td>\n",
       "    </tr>\n",
       "  </tbody>\n",
       "</table>\n",
       "</div>"
      ],
      "text/plain": [
       "               schedule_gtfs_dataset_key                   shape_array_key  \\\n",
       "214296  7cb3592df114dab1288176f1410563a1  8d78b7a45c70a6166d8a28940465c713   \n",
       "214298  7cb3592df114dab1288176f1410563a1  8d78b7a45c70a6166d8a28940465c713   \n",
       "\n",
       "        shape_id stop_pair                                stop_pair_name  \\\n",
       "214296  shp-3-01  297__298    Pacific Av at 10th St__PACIFIC AV + 7TH ST   \n",
       "214298  shp-3-01  298__299  PACIFIC AV + 7TH ST__Long Beach Bl at 6th St   \n",
       "\n",
       "       segment_id time_period  p50_mph  n_trips  p20_mph  p80_mph  \\\n",
       "214296  297-298-1        peak    12.67        1    12.67    12.67   \n",
       "214298  298-299-1        peak    12.56        1    12.56    12.56   \n",
       "\n",
       "                     name caltrans_district organization_source_record_id  \\\n",
       "214296  Torrance Schedule  07 - Los Angeles             recvzE9NXgGMmqcTH   \n",
       "214298  Torrance Schedule  07 - Los Angeles             recvzE9NXgGMmqcTH   \n",
       "\n",
       "       organization_name                                         base64_url  \\\n",
       "214296  City of Torrance  aHR0cHM6Ly90cmFuc2l0LnRvcnJhbmNlY2EuZ292L2hvbW...   \n",
       "214298  City of Torrance  aHR0cHM6Ly90cmFuc2l0LnRvcnJhbmNlY2EuZ292L2hvbW...   \n",
       "\n",
       "                                                 geometry  trips_per_hour  \n",
       "214296  POLYGON ((167314.431 -469149.031, 167315.398 -...           0.125  \n",
       "214298  POLYGON ((167316.041 -469554.175, 167317.093 -...           0.125  "
      ]
     },
     "execution_count": 24,
     "metadata": {},
     "output_type": "execute_result"
    }
   ],
   "source": [
    "peak_test >> head(2)"
   ]
  },
  {
   "cell_type": "code",
   "execution_count": 25,
   "id": "88a1bea0-a3ee-4397-b34f-98782b5d0078",
   "metadata": {},
   "outputs": [
    {
     "data": {
      "text/html": [
       "<div>\n",
       "<style scoped>\n",
       "    .dataframe tbody tr th:only-of-type {\n",
       "        vertical-align: middle;\n",
       "    }\n",
       "\n",
       "    .dataframe tbody tr th {\n",
       "        vertical-align: top;\n",
       "    }\n",
       "\n",
       "    .dataframe thead th {\n",
       "        text-align: right;\n",
       "    }\n",
       "</style>\n",
       "<table border=\"1\" class=\"dataframe\">\n",
       "  <thead>\n",
       "    <tr style=\"text-align: right;\">\n",
       "      <th></th>\n",
       "      <th>id</th>\n",
       "      <th>stop_id</th>\n",
       "      <th>stop_name</th>\n",
       "      <th>shape_id</th>\n",
       "      <th>stop_sequence</th>\n",
       "      <th>route_id</th>\n",
       "      <th>route_short_name</th>\n",
       "      <th>direction_id</th>\n",
       "      <th>p50_mph</th>\n",
       "      <th>p20_mph</th>\n",
       "      <th>p80_mph</th>\n",
       "      <th>fast_slow_ratio</th>\n",
       "      <th>trips_per_hour</th>\n",
       "      <th>miles_from_last</th>\n",
       "      <th>time_formatted</th>\n",
       "      <th>organization_name</th>\n",
       "      <th>geometry</th>\n",
       "    </tr>\n",
       "  </thead>\n",
       "  <tbody>\n",
       "    <tr>\n",
       "      <th>0</th>\n",
       "      <td>306</td>\n",
       "      <td>1129</td>\n",
       "      <td>MAIN NB &amp; OLYMPIC FS</td>\n",
       "      <td>26731</td>\n",
       "      <td>2.0</td>\n",
       "      <td>3709</td>\n",
       "      <td>5</td>\n",
       "      <td>0.0</td>\n",
       "      <td>3.4</td>\n",
       "      <td>3.4</td>\n",
       "      <td>3.4</td>\n",
       "      <td>1.0</td>\n",
       "      <td>0.3</td>\n",
       "      <td>0.1</td>\n",
       "      <td>1:45</td>\n",
       "      <td>City of Santa Monica</td>\n",
       "      <td>POLYGON ((-118.49075 34.01082, -118.49099 34.0...</td>\n",
       "    </tr>\n",
       "    <tr>\n",
       "      <th>1</th>\n",
       "      <td>307</td>\n",
       "      <td>292</td>\n",
       "      <td>2ND NB &amp; BROADWAY NS</td>\n",
       "      <td>26731</td>\n",
       "      <td>3.0</td>\n",
       "      <td>3709</td>\n",
       "      <td>5</td>\n",
       "      <td>0.0</td>\n",
       "      <td>9.2</td>\n",
       "      <td>9.2</td>\n",
       "      <td>9.2</td>\n",
       "      <td>1.0</td>\n",
       "      <td>0.3</td>\n",
       "      <td>0.3</td>\n",
       "      <td>1:57</td>\n",
       "      <td>City of Santa Monica</td>\n",
       "      <td>POLYGON ((-118.49316 34.01241, -118.49383 34.0...</td>\n",
       "    </tr>\n",
       "    <tr>\n",
       "      <th>2</th>\n",
       "      <td>308</td>\n",
       "      <td>104</td>\n",
       "      <td>SANTA MONICA EB &amp; 3RD FS</td>\n",
       "      <td>26731</td>\n",
       "      <td>4.0</td>\n",
       "      <td>3709</td>\n",
       "      <td>5</td>\n",
       "      <td>0.0</td>\n",
       "      <td>13.0</td>\n",
       "      <td>13.0</td>\n",
       "      <td>13.0</td>\n",
       "      <td>1.0</td>\n",
       "      <td>0.3</td>\n",
       "      <td>0.2</td>\n",
       "      <td>0:55</td>\n",
       "      <td>City of Santa Monica</td>\n",
       "      <td>POLYGON ((-118.49673 34.01480, -118.49673 34.0...</td>\n",
       "    </tr>\n",
       "  </tbody>\n",
       "</table>\n",
       "</div>"
      ],
      "text/plain": [
       "    id stop_id                 stop_name shape_id  stop_sequence route_id  \\\n",
       "0  306    1129      MAIN NB & OLYMPIC FS    26731            2.0     3709   \n",
       "1  307     292      2ND NB & BROADWAY NS    26731            3.0     3709   \n",
       "2  308     104  SANTA MONICA EB & 3RD FS    26731            4.0     3709   \n",
       "\n",
       "  route_short_name  direction_id  p50_mph  p20_mph  p80_mph  fast_slow_ratio  \\\n",
       "0                5           0.0      3.4      3.4      3.4              1.0   \n",
       "1                5           0.0      9.2      9.2      9.2              1.0   \n",
       "2                5           0.0     13.0     13.0     13.0              1.0   \n",
       "\n",
       "   trips_per_hour  miles_from_last time_formatted     organization_name  \\\n",
       "0             0.3              0.1           1:45  City of Santa Monica   \n",
       "1             0.3              0.3           1:57  City of Santa Monica   \n",
       "2             0.3              0.2           0:55  City of Santa Monica   \n",
       "\n",
       "                                            geometry  \n",
       "0  POLYGON ((-118.49075 34.01082, -118.49099 34.0...  \n",
       "1  POLYGON ((-118.49316 34.01241, -118.49383 34.0...  \n",
       "2  POLYGON ((-118.49673 34.01480, -118.49673 34.0...  "
      ]
     },
     "execution_count": 25,
     "metadata": {},
     "output_type": "execute_result"
    }
   ],
   "source": [
    "gpd.read_file('300_AM_Peak_speeds.geojson') >> head(3)"
   ]
  },
  {
   "cell_type": "markdown",
   "id": "21725c98-e8cf-47bb-a880-09e67d25f0fe",
   "metadata": {},
   "source": [
    "##  to-do\n",
    "\n",
    "* where does new n_trips come from? should be schedule-based for speedmaps applications...\n",
    "* split am/pm peak\n",
    "* get route names from here? https://github.com/cal-itp/data-analyses/blob/main/gtfs_funnel/clean_route_naming.py"
   ]
  },
  {
   "cell_type": "code",
   "execution_count": 26,
   "id": "b77022c6-e0fa-4dbd-84c5-7bdfae28223b",
   "metadata": {},
   "outputs": [],
   "source": [
    "import sys"
   ]
  },
  {
   "cell_type": "code",
   "execution_count": 27,
   "id": "ffd5d151-4ff8-4ef4-9d67-0b557369d7ab",
   "metadata": {},
   "outputs": [],
   "source": [
    "sys.path.append('../gtfs_funnel/')"
   ]
  },
  {
   "cell_type": "code",
   "execution_count": 28,
   "id": "86117e97-7ba5-42ab-80a8-654688ecf6f6",
   "metadata": {},
   "outputs": [],
   "source": [
    "from update_vars import GTFS_DATA_DICT, SCHED_GCS, all_dates"
   ]
  },
  {
   "cell_type": "code",
   "execution_count": 30,
   "id": "1ccc35b3-9f27-488e-a0bd-992a90650bd1",
   "metadata": {},
   "outputs": [],
   "source": [
    "CLEANED_ROUTE_NAMING = GTFS_DATA_DICT.schedule_tables.route_identification"
   ]
  },
  {
   "cell_type": "code",
   "execution_count": 39,
   "id": "d64048c5-950d-455d-8831-748898fc8f6a",
   "metadata": {},
   "outputs": [],
   "source": [
    "analysis_dt = dt.datetime.fromisoformat(analysis_date)"
   ]
  },
  {
   "cell_type": "code",
   "execution_count": 42,
   "id": "d57b1de5-8c02-486d-b3fd-bad5fcf0cd56",
   "metadata": {},
   "outputs": [],
   "source": [
    "route_df = pd.read_parquet(f\"{SCHED_GCS}{CLEANED_ROUTE_NAMING}.parquet\",\n",
    "                           filters=[('service_date', '==', analysis_dt)],\n",
    "                           columns=['schedule_gtfs_dataset_key', 'route_id', 'route_short_name', 'service_date'])"
   ]
  },
  {
   "cell_type": "code",
   "execution_count": 43,
   "id": "f0e192cb-8b6c-48f5-a5f6-1ed33adce280",
   "metadata": {},
   "outputs": [
    {
     "data": {
      "text/html": [
       "<div>\n",
       "<style scoped>\n",
       "    .dataframe tbody tr th:only-of-type {\n",
       "        vertical-align: middle;\n",
       "    }\n",
       "\n",
       "    .dataframe tbody tr th {\n",
       "        vertical-align: top;\n",
       "    }\n",
       "\n",
       "    .dataframe thead th {\n",
       "        text-align: right;\n",
       "    }\n",
       "</style>\n",
       "<table border=\"1\" class=\"dataframe\">\n",
       "  <thead>\n",
       "    <tr style=\"text-align: right;\">\n",
       "      <th></th>\n",
       "      <th>schedule_gtfs_dataset_key</th>\n",
       "      <th>route_id</th>\n",
       "      <th>route_short_name</th>\n",
       "      <th>service_date</th>\n",
       "    </tr>\n",
       "  </thead>\n",
       "  <tbody>\n",
       "    <tr>\n",
       "      <th>17001</th>\n",
       "      <td>1770249a5a2e770ca90628434d4934b1</td>\n",
       "      <td>3407</td>\n",
       "      <td>Route 18</td>\n",
       "      <td>2024-08-14</td>\n",
       "    </tr>\n",
       "    <tr>\n",
       "      <th>17002</th>\n",
       "      <td>1770249a5a2e770ca90628434d4934b1</td>\n",
       "      <td>3408</td>\n",
       "      <td>Route 21</td>\n",
       "      <td>2024-08-14</td>\n",
       "    </tr>\n",
       "    <tr>\n",
       "      <th>17003</th>\n",
       "      <td>1770249a5a2e770ca90628434d4934b1</td>\n",
       "      <td>3398</td>\n",
       "      <td>Route 7</td>\n",
       "      <td>2024-08-14</td>\n",
       "    </tr>\n",
       "  </tbody>\n",
       "</table>\n",
       "</div>"
      ],
      "text/plain": [
       "              schedule_gtfs_dataset_key route_id route_short_name service_date\n",
       "17001  1770249a5a2e770ca90628434d4934b1     3407         Route 18   2024-08-14\n",
       "17002  1770249a5a2e770ca90628434d4934b1     3408         Route 21   2024-08-14\n",
       "17003  1770249a5a2e770ca90628434d4934b1     3398          Route 7   2024-08-14"
      ]
     },
     "execution_count": 43,
     "metadata": {},
     "output_type": "execute_result"
    }
   ],
   "source": [
    "route_df >> head(3)"
   ]
  },
  {
   "cell_type": "code",
   "execution_count": 36,
   "id": "5d47ffa9-0944-434b-9f86-a1665c3dfdce",
   "metadata": {},
   "outputs": [],
   "source": [
    "# route_df >> distinct(_.service_date) >> arrange(-_.service_date)"
   ]
  },
  {
   "cell_type": "markdown",
   "id": "4e4c26e4-afca-48e1-b9fc-53393858a414",
   "metadata": {},
   "source": [
    "## export map"
   ]
  },
  {
   "cell_type": "code",
   "execution_count": 22,
   "id": "10a3ff1d-04f8-40b8-ab91-5ef96fde9b6a",
   "metadata": {},
   "outputs": [
    {
     "name": "stdout",
     "output_type": "stream",
     "text": [
      "writing to calitp-map-tiles/testing/testnew6.geojson.gz\n"
     ]
    }
   ],
   "source": [
    "speedmap_state = shared_utils.rt_utils.set_state_export(peak_test, filename='testnew6', map_type='speedmap',\n",
    "                                      color_col='p20_mph', cmap=cmap, legend_url=url,\n",
    "                                              cache_seconds=0, map_title=f'Speedmap Segs {analysis_date}')"
   ]
  },
  {
   "cell_type": "code",
   "execution_count": 23,
   "id": "75f2695e-4b80-4d91-8dce-1fa8e347729b",
   "metadata": {},
   "outputs": [
    {
     "data": {
      "text/plain": [
       "{'state_dict': {'name': 'null',\n",
       "  'layers': [{'name': 'Speedmap Segs 2024-08-14',\n",
       "    'url': 'https://storage.googleapis.com/calitp-map-tiles/testing/testnew6.geojson.gz',\n",
       "    'properties': {'stroked': False,\n",
       "     'highlight_saturation_multiplier': 0.5,\n",
       "     'tooltip_speed_key': 'p20_mph'},\n",
       "    'type': 'speedmap'}],\n",
       "  'lat_lon': (33.85596962015502, -118.31386191576537),\n",
       "  'zoom': 13,\n",
       "  'legend_url': 'https://storage.googleapis.com/calitp-map-tiles/speeds_legend.svg'},\n",
       " 'spa_link': 'https://embeddable-maps.calitp.org/?state=eyJuYW1lIjogIm51bGwiLCAibGF5ZXJzIjogW3sibmFtZSI6ICJTcGVlZG1hcCBTZWdzIDIwMjQtMDgtMTQiLCAidXJsIjogImh0dHBzOi8vc3RvcmFnZS5nb29nbGVhcGlzLmNvbS9jYWxpdHAtbWFwLXRpbGVzL3Rlc3RpbmcvdGVzdG5ldzYuZ2VvanNvbi5neiIsICJwcm9wZXJ0aWVzIjogeyJzdHJva2VkIjogZmFsc2UsICJoaWdobGlnaHRfc2F0dXJhdGlvbl9tdWx0aXBsaWVyIjogMC41LCAidG9vbHRpcF9zcGVlZF9rZXkiOiAicDIwX21waCJ9LCAidHlwZSI6ICJzcGVlZG1hcCJ9XSwgImxhdF9sb24iOiBbMzMuODU1OTY5NjIwMTU1MDIsIC0xMTguMzEzODYxOTE1NzY1MzddLCAiem9vbSI6IDEzLCAibGVnZW5kX3VybCI6ICJodHRwczovL3N0b3JhZ2UuZ29vZ2xlYXBpcy5jb20vY2FsaXRwLW1hcC10aWxlcy9zcGVlZHNfbGVnZW5kLnN2ZyJ9'}"
      ]
     },
     "execution_count": 23,
     "metadata": {},
     "output_type": "execute_result"
    }
   ],
   "source": [
    "speedmap_state"
   ]
  }
 ],
 "metadata": {
  "kernelspec": {
   "display_name": "Python 3 (ipykernel)",
   "language": "python",
   "name": "python3"
  },
  "language_info": {
   "codemirror_mode": {
    "name": "ipython",
    "version": 3
   },
   "file_extension": ".py",
   "mimetype": "text/x-python",
   "name": "python",
   "nbconvert_exporter": "python",
   "pygments_lexer": "ipython3",
   "version": "3.9.13"
  },
  "widgets": {
   "application/vnd.jupyter.widget-state+json": {
    "state": {},
    "version_major": 2,
    "version_minor": 0
   }
  }
 },
 "nbformat": 4,
 "nbformat_minor": 5
}
