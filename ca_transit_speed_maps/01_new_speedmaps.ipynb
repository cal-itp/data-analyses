{
 "cells": [
  {
   "cell_type": "code",
   "execution_count": null,
   "id": "46898b5c-b5cc-4096-ab68-8c3e42fab870",
   "metadata": {},
   "outputs": [],
   "source": [
    "%%capture\n",
    "import warnings\n",
    "warnings.filterwarnings('ignore')\n",
    "import calitp_data_analysis.magics\n",
    "from update_vars_index import ANALYSIS_DATE\n",
    "\n",
    "import speedmap_utils"
   ]
  },
  {
   "cell_type": "code",
   "execution_count": null,
   "id": "9f15ed6a-5ab7-4f57-9695-3f762781b74c",
   "metadata": {
    "tags": [
     "parameters"
    ]
   },
   "outputs": [],
   "source": [
    "## parameters cell\n",
    "organization_source_record_id = 'recvEBkSBc7UxlarC'"
   ]
  },
  {
   "cell_type": "code",
   "execution_count": null,
   "id": "23f682c8-187e-4586-a0b2-00dd7569e0c4",
   "metadata": {},
   "outputs": [],
   "source": [
    "%%capture\n",
    "speedmap_segs, this_shn = speedmap_utils.read_segments_shn(organization_source_record_id=organization_source_record_id)"
   ]
  },
  {
   "cell_type": "code",
   "execution_count": null,
   "id": "11303bd3-01bf-4af4-b0fa-63dbc375bd48",
   "metadata": {},
   "outputs": [],
   "source": [
    "%%capture_parameters\n",
    "human_date = ANALYSIS_DATE.strftime('%B %d %Y (%A)')\n",
    "human_date"
   ]
  },
  {
   "cell_type": "code",
   "execution_count": null,
   "id": "649d7a14-8b01-4a84-afee-092bd3febbb8",
   "metadata": {},
   "outputs": [],
   "source": [
    "%%capture_parameters\n",
    "organization_name = speedmap_segs.organization_name.iloc[0]\n",
    "organization_name"
   ]
  },
  {
   "cell_type": "markdown",
   "id": "d0b9c978-e6a6-4646-a2c0-e3a603f1dfc3",
   "metadata": {},
   "source": [
    "# {organization_name}"
   ]
  },
  {
   "cell_type": "markdown",
   "id": "9470c739-9b57-4a80-86fe-ca62844a9331",
   "metadata": {
    "tags": []
   },
   "source": [
    "## About These Maps:\n",
    "\n",
    "* Each map shows bus (and rail, if applicable) speeds for {organization_name}, with a map each for the AM Peak, Midday, and PM Peak periods on {human_date}.\n",
    "* On the map, routes are split into segments corresponding to the distance between two stops, allowing you to focus on specific portions of the route experiencing a slowdown.\n",
    "* Route segments are arrow-shaped to indicate direction of travel. Thicker segments indicate more frequent transit routes.\n",
    "* State Highway Network routes are outlined in gray.\n",
    "* Hover over, a segment with your mouse to see the exact speed, route name, and transit service frequency in that segment. \n",
    "    * Higher-frequency routes (3+ trips per hour) are especially important, since those slowdowns correspond to more vehicles, and riders, delayed in traffic."
   ]
  },
  {
   "cell_type": "markdown",
   "id": "db37b33a-6e9f-4a31-9b83-4a2a5a078241",
   "metadata": {
    "tags": []
   },
   "source": [
    "## AM Peak (07:00-10:00)"
   ]
  },
  {
   "cell_type": "markdown",
   "id": "6e2aa3d4-acef-4e64-9fa6-07a95ae5112b",
   "metadata": {},
   "source": [
    "### 20th Percentile Speeds by Segment"
   ]
  },
  {
   "cell_type": "code",
   "execution_count": null,
   "id": "0a6d0609-3517-46be-a08f-0d04129a62ff",
   "metadata": {},
   "outputs": [],
   "source": [
    "%%capture\n",
    "link = speedmap_utils.map_time_period(district_gdf=this_shn, speedmap_segs=speedmap_segs, analysis_date=ANALYSIS_DATE,\n",
    "                              time_of_day='AM Peak', map_type='new_speedmap')"
   ]
  },
  {
   "cell_type": "code",
   "execution_count": null,
   "id": "22dea4bc-91c3-43b9-a540-d9b52237f51f",
   "metadata": {},
   "outputs": [],
   "source": [
    "if link: speedmap_utils.render_spa_link(link)"
   ]
  },
  {
   "cell_type": "code",
   "execution_count": null,
   "id": "7019c47a-0620-458a-a45a-005f288ee805",
   "metadata": {},
   "outputs": [],
   "source": [
    "if link: speedmap_utils.display_spa_map(link)"
   ]
  },
  {
   "cell_type": "markdown",
   "id": "02bafcad-7e1a-43f7-86ba-9b3c56135a62",
   "metadata": {},
   "source": [
    "### Variation in Speeds by Segment\n",
    "\n",
    "* This visualization shows variation as the ratio between the 80th percentile and 20th percentile speeds in each segment\n",
    "* Segments with high variation in speeds make it difficult for transit operators to set accurate schedules, and can cause inconsistent service for riders"
   ]
  },
  {
   "cell_type": "code",
   "execution_count": null,
   "id": "82a148cd-1561-4c88-bccf-f552307c2a3d",
   "metadata": {},
   "outputs": [],
   "source": [
    "%%capture\n",
    "link = speedmap_utils.map_time_period(district_gdf=this_shn, speedmap_segs=speedmap_segs, analysis_date=ANALYSIS_DATE,\n",
    "                              time_of_day='AM Peak', map_type='new_speed_variation')"
   ]
  },
  {
   "cell_type": "code",
   "execution_count": null,
   "id": "adf4b569-0029-4295-bc14-70017df6f28e",
   "metadata": {},
   "outputs": [],
   "source": [
    "if link: speedmap_utils.render_spa_link(link)"
   ]
  },
  {
   "cell_type": "code",
   "execution_count": null,
   "id": "d497e0bc-a756-4f05-94d7-174fa45a458c",
   "metadata": {},
   "outputs": [],
   "source": [
    "if link: speedmap_utils.display_spa_map(link)"
   ]
  },
  {
   "cell_type": "markdown",
   "id": "4f60fd2b-66e0-4257-a21c-bdeeece6e8c6",
   "metadata": {
    "tags": []
   },
   "source": [
    "## Midday (10:00-15:00)"
   ]
  },
  {
   "cell_type": "markdown",
   "id": "9fdee73b-a79a-461b-9298-053e4523c41d",
   "metadata": {},
   "source": [
    "### 20th Percentile Speeds by Segment"
   ]
  },
  {
   "cell_type": "code",
   "execution_count": null,
   "id": "876ffe14-cc3f-4257-be00-b06ef8363a16",
   "metadata": {},
   "outputs": [],
   "source": [
    "%%capture\n",
    "link = speedmap_utils.map_time_period(district_gdf=this_shn, speedmap_segs=speedmap_segs, analysis_date=ANALYSIS_DATE,\n",
    "                              time_of_day='Midday', map_type='new_speedmap')"
   ]
  },
  {
   "cell_type": "code",
   "execution_count": null,
   "id": "d6858d75-4d44-4ab2-8c44-7f5f91149083",
   "metadata": {},
   "outputs": [],
   "source": [
    "if link: speedmap_utils.render_spa_link(link)"
   ]
  },
  {
   "cell_type": "code",
   "execution_count": null,
   "id": "a1e92ff3-cbe6-45ca-b063-97807caf21c5",
   "metadata": {},
   "outputs": [],
   "source": [
    "if link: speedmap_utils.display_spa_map(link)"
   ]
  },
  {
   "cell_type": "markdown",
   "id": "296f23f8-026d-4a98-9ce1-43ec2c048b2e",
   "metadata": {},
   "source": [
    "### Variation in Speeds by Segment\n",
    "\n",
    "* This visualization shows variation as the ratio between the 80th percentile and 20th percentile speeds in each segment\n",
    "* Segments with high variation in speeds make it difficult for transit operators to set accurate schedules, and can cause inconsistent service for riders"
   ]
  },
  {
   "cell_type": "code",
   "execution_count": null,
   "id": "31d820ac-0242-47f0-9968-07f4b7122313",
   "metadata": {},
   "outputs": [],
   "source": [
    "%%capture\n",
    "link = speedmap_utils.map_time_period(district_gdf=this_shn, speedmap_segs=speedmap_segs, analysis_date=ANALYSIS_DATE,\n",
    "                              time_of_day='Midday', map_type='new_speed_variation')"
   ]
  },
  {
   "cell_type": "code",
   "execution_count": null,
   "id": "ba8f1e35-3503-41d7-a5ad-60606267cdab",
   "metadata": {},
   "outputs": [],
   "source": [
    "if link: speedmap_utils.render_spa_link(link)"
   ]
  },
  {
   "cell_type": "code",
   "execution_count": null,
   "id": "2633b5c9-3510-4690-8b7b-9abbff45b8e0",
   "metadata": {},
   "outputs": [],
   "source": [
    "if link: speedmap_utils.display_spa_map(link)"
   ]
  },
  {
   "cell_type": "markdown",
   "id": "7f5c3087-8fe4-47fc-bccd-d1eb2f8e092e",
   "metadata": {
    "tags": []
   },
   "source": [
    "## PM Peak (15:00-20:00)"
   ]
  },
  {
   "cell_type": "markdown",
   "id": "15ced50f-7135-4807-a01f-b9768256b27b",
   "metadata": {},
   "source": [
    "### 20th Percentile Speeds by Segment"
   ]
  },
  {
   "cell_type": "code",
   "execution_count": null,
   "id": "b341b050-4fa9-4f25-a276-886b3c62a586",
   "metadata": {},
   "outputs": [],
   "source": [
    "%%capture\n",
    "link = speedmap_utils.map_time_period(district_gdf=this_shn, speedmap_segs=speedmap_segs, analysis_date=ANALYSIS_DATE,\n",
    "                              time_of_day='PM Peak', map_type='new_speedmap')"
   ]
  },
  {
   "cell_type": "code",
   "execution_count": null,
   "id": "d4cf9996-0239-4cb4-92c5-ed04d57a7b4c",
   "metadata": {},
   "outputs": [],
   "source": [
    "if link: speedmap_utils.render_spa_link(link)"
   ]
  },
  {
   "cell_type": "code",
   "execution_count": null,
   "id": "c6ea5f19-d416-4bf5-ab9b-3199af92ed90",
   "metadata": {},
   "outputs": [],
   "source": [
    "if link: speedmap_utils.display_spa_map(link)"
   ]
  },
  {
   "cell_type": "markdown",
   "id": "19324dd0-38e2-44b6-9552-2c67f44ffa4a",
   "metadata": {},
   "source": [
    "### Variation in Speeds by Segment\n",
    "\n",
    "* This visualization shows variation as the ratio between the 80th percentile and 20th percentile speeds in each segment\n",
    "* Segments with high variation in speeds make it difficult for transit operators to set accurate schedules, and can cause inconsistent service for riders"
   ]
  },
  {
   "cell_type": "code",
   "execution_count": null,
   "id": "eb50554c-cb63-464d-9d0f-ed722d24f422",
   "metadata": {},
   "outputs": [],
   "source": [
    "%%capture\n",
    "link = speedmap_utils.map_time_period(district_gdf=this_shn, speedmap_segs=speedmap_segs, analysis_date=ANALYSIS_DATE,\n",
    "                              time_of_day='PM Peak', map_type='new_speed_variation')"
   ]
  },
  {
   "cell_type": "code",
   "execution_count": null,
   "id": "b11b79c6-d87d-4563-9cd9-83a5a7294db6",
   "metadata": {},
   "outputs": [],
   "source": [
    "if link: speedmap_utils.render_spa_link(link)"
   ]
  },
  {
   "cell_type": "code",
   "execution_count": null,
   "id": "37190c5b-5943-4172-9a91-892bf36c7a2b",
   "metadata": {},
   "outputs": [],
   "source": [
    "if link: speedmap_utils.display_spa_map(link)"
   ]
  },
  {
   "cell_type": "markdown",
   "id": "73f4bc99-f78f-4f37-b050-5f12cbe4ca7a",
   "metadata": {
    "tags": []
   },
   "source": [
    "## Daily Speed Patterns\n",
    "\n",
    "* This chart shows the distribution of segment speeds in each time of day. It can help find times of day where transit riders experience the slowest overall speeds, or highest variation in speeds."
   ]
  },
  {
   "cell_type": "code",
   "execution_count": null,
   "id": "40979f68-b80b-4879-8892-3271a74efc8b",
   "metadata": {},
   "outputs": [],
   "source": [
    "speedmap_utils.chart_speeds_by_time_period(speedmap_segs)"
   ]
  },
  {
   "cell_type": "markdown",
   "id": "5dadca19-df7a-4fc8-8955-210b51f4b1c4",
   "metadata": {},
   "source": [
    "## Additional Time Periods\n",
    "\n",
    "These links provide speed and speed variation maps outside the AM Peak, Midday, and PM Peak periods, if available.\n",
    "\n",
    "* Evening is 20:00-24:00\n",
    "* Owl is 00:00-04:00\n",
    "* Early AM is 04:00-07:00"
   ]
  },
  {
   "cell_type": "code",
   "execution_count": null,
   "id": "05570269-2c18-4d49-b879-b3466e735838",
   "metadata": {},
   "outputs": [],
   "source": [
    "for time_period in [period for period in speedmap_segs.time_of_day.unique() if period not in ['AM Peak', 'Midday', 'PM Peak']]:\n",
    "    link = speedmap_utils.map_time_period(district_gdf=this_shn, speedmap_segs=speedmap_segs, analysis_date=ANALYSIS_DATE,\n",
    "                              time_of_day=time_period, map_type='new_speedmap')\n",
    "    speedmap_utils.render_spa_link(link, text=f\"{time_period} Speeds\")\n",
    "    link = speedmap_utils.map_time_period(district_gdf=this_shn, speedmap_segs=speedmap_segs, analysis_date=ANALYSIS_DATE,\n",
    "                              time_of_day=time_period, map_type='new_speed_variation')\n",
    "    speedmap_utils.render_spa_link(link, text=f\"{time_period} Speed Variation\")"
   ]
  }
 ],
 "metadata": {
  "kernelspec": {
   "display_name": "Python 3 (ipykernel)",
   "language": "python",
   "name": "python3"
  },
  "language_info": {
   "codemirror_mode": {
    "name": "ipython",
    "version": 3
   },
   "file_extension": ".py",
   "mimetype": "text/x-python",
   "name": "python",
   "nbconvert_exporter": "python",
   "pygments_lexer": "ipython3",
   "version": "3.9.13"
  },
  "widgets": {
   "application/vnd.jupyter.widget-state+json": {
    "state": {},
    "version_major": 2,
    "version_minor": 0
   }
  }
 },
 "nbformat": 4,
 "nbformat_minor": 5
}
