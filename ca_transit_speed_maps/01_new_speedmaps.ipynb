{
 "cells": [
  {
   "cell_type": "code",
   "execution_count": 1,
   "id": "46898b5c-b5cc-4096-ab68-8c3e42fab870",
   "metadata": {},
   "outputs": [],
   "source": [
    "%%capture\n",
    "import warnings\n",
    "warnings.filterwarnings('ignore')\n",
    "\n",
    "import calitp_data_analysis.magics\n",
    "\n",
    "from rt_analysis import rt_filter_map_plot\n",
    "import build_speedmaps_index\n",
    "\n",
    "from IPython.display import display, Markdown\n",
    "import pandas as pd\n",
    "import geopandas as gpd\n",
    "from siuba import *\n",
    "\n",
    "from segment_speed_utils.project_vars import (\n",
    "    COMPILED_CACHED_VIEWS,\n",
    "    PROJECT_CRS,\n",
    "    SEGMENT_GCS,\n",
    ")\n",
    "\n",
    "import shared_utils"
   ]
  },
  {
   "cell_type": "code",
   "execution_count": 2,
   "id": "9f15ed6a-5ab7-4f57-9695-3f762781b74c",
   "metadata": {
    "tags": [
     "parameters"
    ]
   },
   "outputs": [],
   "source": [
    "## parameters cell\n",
    "itp_id = 300"
   ]
  },
  {
   "cell_type": "code",
   "execution_count": 3,
   "id": "a639fd84-29ca-4678-b568-2b1022701e14",
   "metadata": {},
   "outputs": [],
   "source": [
    "analysis_date = build_speedmaps_index.ANALYSIS_DATE\n",
    "import datetime as dt\n",
    "# if itp_id == 293:\n",
    "#     analysis_date = dt.date(2023, 9, 13)"
   ]
  },
  {
   "cell_type": "code",
   "execution_count": 4,
   "id": "d0cdaf1a-2c6d-452a-a5cc-210aa2fac2cb",
   "metadata": {},
   "outputs": [],
   "source": [
    "analysis_date = shared_utils.rt_dates.DATES['aug2024']"
   ]
  },
  {
   "cell_type": "code",
   "execution_count": 5,
   "id": "eea40f4b-c378-4b70-a80b-bbe79f8441bf",
   "metadata": {
    "tags": []
   },
   "outputs": [],
   "source": [
    "speedmap_index = pd.read_parquet(f'_rt_progress_{analysis_date}.parquet') >> filter(_.organization_itp_id == itp_id)\n",
    "# speedmap_index = pd.read_parquet(f'_rt_progress_{analysis_date}.parquet') >> filter(_.organization_name.str.contains('Torr'))"
   ]
  },
  {
   "cell_type": "code",
   "execution_count": 6,
   "id": "c54b78fd-de92-45d9-b54d-49c5b88945c7",
   "metadata": {},
   "outputs": [
    {
     "data": {
      "text/html": [
       "<div>\n",
       "<style scoped>\n",
       "    .dataframe tbody tr th:only-of-type {\n",
       "        vertical-align: middle;\n",
       "    }\n",
       "\n",
       "    .dataframe tbody tr th {\n",
       "        vertical-align: top;\n",
       "    }\n",
       "\n",
       "    .dataframe thead th {\n",
       "        text-align: right;\n",
       "    }\n",
       "</style>\n",
       "<table border=\"1\" class=\"dataframe\">\n",
       "  <thead>\n",
       "    <tr style=\"text-align: right;\">\n",
       "      <th></th>\n",
       "      <th>organization_name</th>\n",
       "      <th>organization_itp_id</th>\n",
       "      <th>organization_source_record_id</th>\n",
       "      <th>caltrans_district</th>\n",
       "      <th>_is_current</th>\n",
       "      <th>analysis_date</th>\n",
       "      <th>schedule_gtfs_dataset_key</th>\n",
       "      <th>status</th>\n",
       "    </tr>\n",
       "  </thead>\n",
       "  <tbody>\n",
       "    <tr>\n",
       "      <th>30</th>\n",
       "      <td>City of Santa Monica</td>\n",
       "      <td>300</td>\n",
       "      <td>recJHFDLpGRMIFgnL</td>\n",
       "      <td>07 - Los Angeles</td>\n",
       "      <td>True</td>\n",
       "      <td>2024-08-14</td>\n",
       "      <td>efbbd5293be71f7a5de0cf82b59febe1</td>\n",
       "      <td>speedmap_segs_available</td>\n",
       "    </tr>\n",
       "  </tbody>\n",
       "</table>\n",
       "</div>"
      ],
      "text/plain": [
       "       organization_name  organization_itp_id organization_source_record_id  \\\n",
       "30  City of Santa Monica                  300             recJHFDLpGRMIFgnL   \n",
       "\n",
       "   caltrans_district  _is_current analysis_date  \\\n",
       "30  07 - Los Angeles         True    2024-08-14   \n",
       "\n",
       "           schedule_gtfs_dataset_key                   status  \n",
       "30  efbbd5293be71f7a5de0cf82b59febe1  speedmap_segs_available  "
      ]
     },
     "execution_count": 6,
     "metadata": {},
     "output_type": "execute_result"
    }
   ],
   "source": [
    "speedmap_index"
   ]
  },
  {
   "cell_type": "code",
   "execution_count": 7,
   "id": "76edaa5c-039e-419a-ade6-15ebdc018b3c",
   "metadata": {},
   "outputs": [
    {
     "data": {
      "text/plain": [
       "'gs://calitp-analytics-data/data-analyses/rt_segment_speeds/'"
      ]
     },
     "execution_count": 7,
     "metadata": {},
     "output_type": "execute_result"
    }
   ],
   "source": [
    "SEGMENT_GCS"
   ]
  },
  {
   "cell_type": "code",
   "execution_count": 8,
   "id": "28317d9e-9f9e-493c-889e-78b8099004e5",
   "metadata": {},
   "outputs": [],
   "source": [
    "# speedmap_segs = gpd.read_parquet(f'{SEGMENT_GCS}segment_options/speedmap_segments_{analysis_date}.parquet')` #  non-aggregated"
   ]
  },
  {
   "cell_type": "code",
   "execution_count": 9,
   "id": "9302c0ad-1201-4c5a-8267-ec52719cf777",
   "metadata": {},
   "outputs": [],
   "source": [
    "speedmap_segs = gpd.read_parquet(f'{SEGMENT_GCS}rollup_singleday/speeds_shape_speedmap_segments_{analysis_date}.parquet') #  aggregated"
   ]
  },
  {
   "cell_type": "code",
   "execution_count": 10,
   "id": "19dbeff0-faf6-43e3-9edf-6e68dfeceeac",
   "metadata": {},
   "outputs": [
    {
     "data": {
      "text/plain": [
       "Index(['schedule_gtfs_dataset_key', 'shape_array_key', 'shape_id', 'stop_pair',\n",
       "       'stop_pair_name', 'segment_id', 'time_period', 'p50_mph', 'n_trips',\n",
       "       'p20_mph', 'p80_mph', 'name', 'caltrans_district',\n",
       "       'organization_source_record_id', 'organization_name', 'base64_url',\n",
       "       'geometry'],\n",
       "      dtype='object')"
      ]
     },
     "execution_count": 10,
     "metadata": {},
     "output_type": "execute_result"
    }
   ],
   "source": [
    "speedmap_segs.columns"
   ]
  },
  {
   "cell_type": "code",
   "execution_count": 11,
   "id": "9f3c4c93-a5f5-40d7-9315-63e4fecbd738",
   "metadata": {},
   "outputs": [],
   "source": [
    "speedmap_segs = speedmap_segs >> filter(_.schedule_gtfs_dataset_key == speedmap_index.schedule_gtfs_dataset_key.iloc[0])"
   ]
  },
  {
   "cell_type": "code",
   "execution_count": 12,
   "id": "33038798-16a0-46b5-a50e-2609c5729534",
   "metadata": {},
   "outputs": [
    {
     "data": {
      "text/html": [
       "<div>\n",
       "<style scoped>\n",
       "    .dataframe tbody tr th:only-of-type {\n",
       "        vertical-align: middle;\n",
       "    }\n",
       "\n",
       "    .dataframe tbody tr th {\n",
       "        vertical-align: top;\n",
       "    }\n",
       "\n",
       "    .dataframe thead th {\n",
       "        text-align: right;\n",
       "    }\n",
       "</style>\n",
       "<table border=\"1\" class=\"dataframe\">\n",
       "  <thead>\n",
       "    <tr style=\"text-align: right;\">\n",
       "      <th></th>\n",
       "      <th>schedule_gtfs_dataset_key</th>\n",
       "      <th>shape_array_key</th>\n",
       "      <th>shape_id</th>\n",
       "      <th>stop_pair</th>\n",
       "      <th>stop_pair_name</th>\n",
       "      <th>segment_id</th>\n",
       "      <th>time_period</th>\n",
       "      <th>p50_mph</th>\n",
       "      <th>n_trips</th>\n",
       "      <th>p20_mph</th>\n",
       "      <th>p80_mph</th>\n",
       "      <th>name</th>\n",
       "      <th>caltrans_district</th>\n",
       "      <th>organization_source_record_id</th>\n",
       "      <th>organization_name</th>\n",
       "      <th>base64_url</th>\n",
       "      <th>geometry</th>\n",
       "    </tr>\n",
       "  </thead>\n",
       "  <tbody>\n",
       "    <tr>\n",
       "      <th>415656</th>\n",
       "      <td>efbbd5293be71f7a5de0cf82b59febe1</td>\n",
       "      <td>dd518afc867853fe8a713c0d27a5b69d</td>\n",
       "      <td>26973</td>\n",
       "      <td>1421__1422</td>\n",
       "      <td>VIA MARINA SB &amp; PANAY FS__VIA MARINA SB &amp; MARQ...</td>\n",
       "      <td>1421-1422-1</td>\n",
       "      <td>offpeak</td>\n",
       "      <td>27.99</td>\n",
       "      <td>2</td>\n",
       "      <td>25.26</td>\n",
       "      <td>30.73</td>\n",
       "      <td>Big Blue Bus Schedule</td>\n",
       "      <td>07 - Los Angeles</td>\n",
       "      <td>recJHFDLpGRMIFgnL</td>\n",
       "      <td>City of Santa Monica</td>\n",
       "      <td>aHR0cDovL2d0ZnMuYmlnYmx1ZWJ1cy5jb20vY3VycmVudC...</td>\n",
       "      <td>LINESTRING (-118.45918 33.97903, -118.45918 33...</td>\n",
       "    </tr>\n",
       "    <tr>\n",
       "      <th>415657</th>\n",
       "      <td>efbbd5293be71f7a5de0cf82b59febe1</td>\n",
       "      <td>dd518afc867853fe8a713c0d27a5b69d</td>\n",
       "      <td>26973</td>\n",
       "      <td>1421__1422</td>\n",
       "      <td>VIA MARINA SB &amp; PANAY FS__VIA MARINA SB &amp; MARQ...</td>\n",
       "      <td>1421-1422-1</td>\n",
       "      <td>peak</td>\n",
       "      <td>19.87</td>\n",
       "      <td>2</td>\n",
       "      <td>19.66</td>\n",
       "      <td>20.07</td>\n",
       "      <td>Big Blue Bus Schedule</td>\n",
       "      <td>07 - Los Angeles</td>\n",
       "      <td>recJHFDLpGRMIFgnL</td>\n",
       "      <td>City of Santa Monica</td>\n",
       "      <td>aHR0cDovL2d0ZnMuYmlnYmx1ZWJ1cy5jb20vY3VycmVudC...</td>\n",
       "      <td>LINESTRING (-118.45918 33.97903, -118.45918 33...</td>\n",
       "    </tr>\n",
       "    <tr>\n",
       "      <th>415658</th>\n",
       "      <td>efbbd5293be71f7a5de0cf82b59febe1</td>\n",
       "      <td>dd518afc867853fe8a713c0d27a5b69d</td>\n",
       "      <td>26973</td>\n",
       "      <td>1421__1422</td>\n",
       "      <td>VIA MARINA SB &amp; PANAY FS__VIA MARINA SB &amp; MARQ...</td>\n",
       "      <td>1421-1422-1</td>\n",
       "      <td>all_day</td>\n",
       "      <td>21.82</td>\n",
       "      <td>4</td>\n",
       "      <td>19.93</td>\n",
       "      <td>27.08</td>\n",
       "      <td>Big Blue Bus Schedule</td>\n",
       "      <td>07 - Los Angeles</td>\n",
       "      <td>recJHFDLpGRMIFgnL</td>\n",
       "      <td>City of Santa Monica</td>\n",
       "      <td>aHR0cDovL2d0ZnMuYmlnYmx1ZWJ1cy5jb20vY3VycmVudC...</td>\n",
       "      <td>LINESTRING (-118.45918 33.97903, -118.45918 33...</td>\n",
       "    </tr>\n",
       "  </tbody>\n",
       "</table>\n",
       "</div>"
      ],
      "text/plain": [
       "               schedule_gtfs_dataset_key                   shape_array_key  \\\n",
       "415656  efbbd5293be71f7a5de0cf82b59febe1  dd518afc867853fe8a713c0d27a5b69d   \n",
       "415657  efbbd5293be71f7a5de0cf82b59febe1  dd518afc867853fe8a713c0d27a5b69d   \n",
       "415658  efbbd5293be71f7a5de0cf82b59febe1  dd518afc867853fe8a713c0d27a5b69d   \n",
       "\n",
       "       shape_id   stop_pair  \\\n",
       "415656    26973  1421__1422   \n",
       "415657    26973  1421__1422   \n",
       "415658    26973  1421__1422   \n",
       "\n",
       "                                           stop_pair_name   segment_id  \\\n",
       "415656  VIA MARINA SB & PANAY FS__VIA MARINA SB & MARQ...  1421-1422-1   \n",
       "415657  VIA MARINA SB & PANAY FS__VIA MARINA SB & MARQ...  1421-1422-1   \n",
       "415658  VIA MARINA SB & PANAY FS__VIA MARINA SB & MARQ...  1421-1422-1   \n",
       "\n",
       "       time_period  p50_mph  n_trips  p20_mph  p80_mph                   name  \\\n",
       "415656     offpeak    27.99        2    25.26    30.73  Big Blue Bus Schedule   \n",
       "415657        peak    19.87        2    19.66    20.07  Big Blue Bus Schedule   \n",
       "415658     all_day    21.82        4    19.93    27.08  Big Blue Bus Schedule   \n",
       "\n",
       "       caltrans_district organization_source_record_id     organization_name  \\\n",
       "415656  07 - Los Angeles             recJHFDLpGRMIFgnL  City of Santa Monica   \n",
       "415657  07 - Los Angeles             recJHFDLpGRMIFgnL  City of Santa Monica   \n",
       "415658  07 - Los Angeles             recJHFDLpGRMIFgnL  City of Santa Monica   \n",
       "\n",
       "                                               base64_url  \\\n",
       "415656  aHR0cDovL2d0ZnMuYmlnYmx1ZWJ1cy5jb20vY3VycmVudC...   \n",
       "415657  aHR0cDovL2d0ZnMuYmlnYmx1ZWJ1cy5jb20vY3VycmVudC...   \n",
       "415658  aHR0cDovL2d0ZnMuYmlnYmx1ZWJ1cy5jb20vY3VycmVudC...   \n",
       "\n",
       "                                                 geometry  \n",
       "415656  LINESTRING (-118.45918 33.97903, -118.45918 33...  \n",
       "415657  LINESTRING (-118.45918 33.97903, -118.45918 33...  \n",
       "415658  LINESTRING (-118.45918 33.97903, -118.45918 33...  "
      ]
     },
     "execution_count": 12,
     "metadata": {},
     "output_type": "execute_result"
    }
   ],
   "source": [
    "speedmap_segs >> head(3)"
   ]
  },
  {
   "cell_type": "code",
   "execution_count": 13,
   "id": "8e89173e-a0ea-4823-bbce-0aa6cdb3f075",
   "metadata": {},
   "outputs": [
    {
     "data": {
      "text/plain": [
       "array(['offpeak', 'peak', 'all_day'], dtype=object)"
      ]
     },
     "execution_count": 13,
     "metadata": {},
     "output_type": "execute_result"
    }
   ],
   "source": [
    "speedmap_segs.time_period.unique()"
   ]
  },
  {
   "cell_type": "code",
   "execution_count": 14,
   "id": "f87584fb-f37d-4869-ba5d-af70a5a0e0e3",
   "metadata": {},
   "outputs": [],
   "source": [
    "peak_test = speedmap_segs >> filter(_.time_period == 'peak')"
   ]
  },
  {
   "cell_type": "code",
   "execution_count": 15,
   "id": "c0080473-a119-45b2-8ebc-9f9913b97ecd",
   "metadata": {},
   "outputs": [],
   "source": [
    "time_periods = [(x, shared_utils.rt_utils.categorize_time_of_day(x)) for x in range(1, 25)]"
   ]
  },
  {
   "cell_type": "code",
   "execution_count": 16,
   "id": "1df01b6f-c29e-4ccc-9b1f-03cda0241bd9",
   "metadata": {},
   "outputs": [
    {
     "data": {
      "text/plain": [
       "[(1, 'Owl'),\n",
       " (2, 'Owl'),\n",
       " (3, 'Owl'),\n",
       " (4, 'Early AM'),\n",
       " (5, 'Early AM'),\n",
       " (6, 'Early AM'),\n",
       " (7, 'AM Peak'),\n",
       " (8, 'AM Peak'),\n",
       " (9, 'AM Peak'),\n",
       " (10, 'Midday'),\n",
       " (11, 'Midday'),\n",
       " (12, 'Midday'),\n",
       " (13, 'Midday'),\n",
       " (14, 'Midday'),\n",
       " (15, 'PM Peak'),\n",
       " (16, 'PM Peak'),\n",
       " (17, 'PM Peak'),\n",
       " (18, 'PM Peak'),\n",
       " (19, 'PM Peak'),\n",
       " (20, 'Evening'),\n",
       " (21, 'Evening'),\n",
       " (22, 'Evening'),\n",
       " (23, 'Evening'),\n",
       " (24, 'Evening')]"
      ]
     },
     "execution_count": 16,
     "metadata": {},
     "output_type": "execute_result"
    }
   ],
   "source": [
    "time_periods"
   ]
  },
  {
   "cell_type": "code",
   "execution_count": 17,
   "id": "590d0196-ab95-47e8-8ce0-e0b93b4da5d4",
   "metadata": {},
   "outputs": [],
   "source": [
    "total_peak = len([x[1] for x in time_periods if 'Peak' in x[1]])"
   ]
  },
  {
   "cell_type": "code",
   "execution_count": 18,
   "id": "c5c469eb-df45-4925-8888-2cc2bfc04cc6",
   "metadata": {},
   "outputs": [
    {
     "data": {
      "text/plain": [
       "8"
      ]
     },
     "execution_count": 18,
     "metadata": {},
     "output_type": "execute_result"
    }
   ],
   "source": [
    "total_peak"
   ]
  },
  {
   "cell_type": "code",
   "execution_count": 19,
   "id": "edc84eda-ce2b-481f-ac78-6b7209cb25f4",
   "metadata": {},
   "outputs": [],
   "source": [
    "def prep_gdf(gdf):\n",
    "    \n",
    "    gdf = gdf.to_crs(calitp_data_analysis.geography_utils.CA_NAD83Albers)\n",
    "    gdf['trips_per_hour'] = gdf.n_trips / total_peak\n",
    "\n",
    "    ## shift to right side of road to display direction\n",
    "    gdf.geometry = gdf.geometry.apply(shared_utils.rt_utils.try_parallel)\n",
    "    gdf = gdf.apply(shared_utils.rt_utils.arrowize_by_frequency, axis=1)\n",
    "\n",
    "    gdf = gdf >> arrange(_.trips_per_hour)\n",
    "\n",
    "    return gdf"
   ]
  },
  {
   "cell_type": "code",
   "execution_count": 20,
   "id": "6af2c7fd-b769-4fbf-bbcf-75080972cc67",
   "metadata": {},
   "outputs": [],
   "source": [
    "peak_test = prep_gdf(peak_test)"
   ]
  },
  {
   "cell_type": "code",
   "execution_count": 21,
   "id": "cedc030e-8d19-4a0b-b3a5-5a3d6c0dce23",
   "metadata": {},
   "outputs": [],
   "source": [
    "cmap = shared_utils.rt_utils.ZERO_THIRTY_COLORSCALE\n",
    "url = shared_utils.rt_utils.SPEEDMAP_LEGEND_URL"
   ]
  },
  {
   "cell_type": "markdown",
   "id": "2e9ae65e-0ed4-4f00-ac8e-27ac85790804",
   "metadata": {},
   "source": [
    "##  adding identifiers for map display"
   ]
  },
  {
   "cell_type": "code",
   "execution_count": 22,
   "id": "87c7db4f-3da9-4ba4-915b-88432a841b39",
   "metadata": {},
   "outputs": [
    {
     "data": {
      "text/html": [
       "<div>\n",
       "<style scoped>\n",
       "    .dataframe tbody tr th:only-of-type {\n",
       "        vertical-align: middle;\n",
       "    }\n",
       "\n",
       "    .dataframe tbody tr th {\n",
       "        vertical-align: top;\n",
       "    }\n",
       "\n",
       "    .dataframe thead th {\n",
       "        text-align: right;\n",
       "    }\n",
       "</style>\n",
       "<table border=\"1\" class=\"dataframe\">\n",
       "  <thead>\n",
       "    <tr style=\"text-align: right;\">\n",
       "      <th></th>\n",
       "      <th>schedule_gtfs_dataset_key</th>\n",
       "      <th>shape_array_key</th>\n",
       "      <th>shape_id</th>\n",
       "      <th>stop_pair</th>\n",
       "      <th>stop_pair_name</th>\n",
       "      <th>segment_id</th>\n",
       "      <th>time_period</th>\n",
       "      <th>p50_mph</th>\n",
       "      <th>n_trips</th>\n",
       "      <th>p20_mph</th>\n",
       "      <th>p80_mph</th>\n",
       "      <th>name</th>\n",
       "      <th>caltrans_district</th>\n",
       "      <th>organization_source_record_id</th>\n",
       "      <th>organization_name</th>\n",
       "      <th>base64_url</th>\n",
       "      <th>geometry</th>\n",
       "      <th>trips_per_hour</th>\n",
       "    </tr>\n",
       "  </thead>\n",
       "  <tbody>\n",
       "    <tr>\n",
       "      <th>415663</th>\n",
       "      <td>efbbd5293be71f7a5de0cf82b59febe1</td>\n",
       "      <td>dd518afc867853fe8a713c0d27a5b69d</td>\n",
       "      <td>26973</td>\n",
       "      <td>1423__1568</td>\n",
       "      <td>VIA DOLCE NB &amp; DELL ALLEY FS__WASHINGTON EB &amp; ...</td>\n",
       "      <td>1423-1568-1</td>\n",
       "      <td>peak</td>\n",
       "      <td>8.36</td>\n",
       "      <td>1</td>\n",
       "      <td>8.36</td>\n",
       "      <td>8.36</td>\n",
       "      <td>Big Blue Bus Schedule</td>\n",
       "      <td>07 - Los Angeles</td>\n",
       "      <td>recJHFDLpGRMIFgnL</td>\n",
       "      <td>City of Santa Monica</td>\n",
       "      <td>aHR0cDovL2d0ZnMuYmlnYmx1ZWJ1cy5jb20vY3VycmVudC...</td>\n",
       "      <td>POLYGON ((142005.205 -447132.952, 142004.394 -...</td>\n",
       "      <td>0.125</td>\n",
       "    </tr>\n",
       "    <tr>\n",
       "      <th>415762</th>\n",
       "      <td>efbbd5293be71f7a5de0cf82b59febe1</td>\n",
       "      <td>dd518afc867853fe8a713c0d27a5b69d</td>\n",
       "      <td>26973</td>\n",
       "      <td>568__161</td>\n",
       "      <td>MONTANA EB &amp; 24TH FS__MONTANA EB &amp; 26TH FS</td>\n",
       "      <td>568-161-1</td>\n",
       "      <td>peak</td>\n",
       "      <td>18.64</td>\n",
       "      <td>1</td>\n",
       "      <td>18.64</td>\n",
       "      <td>18.64</td>\n",
       "      <td>Big Blue Bus Schedule</td>\n",
       "      <td>07 - Los Angeles</td>\n",
       "      <td>recJHFDLpGRMIFgnL</td>\n",
       "      <td>City of Santa Monica</td>\n",
       "      <td>aHR0cDovL2d0ZnMuYmlnYmx1ZWJ1cy5jb20vY3VycmVudC...</td>\n",
       "      <td>POLYGON ((139872.655 -440637.194, 139874.076 -...</td>\n",
       "      <td>0.125</td>\n",
       "    </tr>\n",
       "  </tbody>\n",
       "</table>\n",
       "</div>"
      ],
      "text/plain": [
       "               schedule_gtfs_dataset_key                   shape_array_key  \\\n",
       "415663  efbbd5293be71f7a5de0cf82b59febe1  dd518afc867853fe8a713c0d27a5b69d   \n",
       "415762  efbbd5293be71f7a5de0cf82b59febe1  dd518afc867853fe8a713c0d27a5b69d   \n",
       "\n",
       "       shape_id   stop_pair  \\\n",
       "415663    26973  1423__1568   \n",
       "415762    26973    568__161   \n",
       "\n",
       "                                           stop_pair_name   segment_id  \\\n",
       "415663  VIA DOLCE NB & DELL ALLEY FS__WASHINGTON EB & ...  1423-1568-1   \n",
       "415762         MONTANA EB & 24TH FS__MONTANA EB & 26TH FS    568-161-1   \n",
       "\n",
       "       time_period  p50_mph  n_trips  p20_mph  p80_mph                   name  \\\n",
       "415663        peak     8.36        1     8.36     8.36  Big Blue Bus Schedule   \n",
       "415762        peak    18.64        1    18.64    18.64  Big Blue Bus Schedule   \n",
       "\n",
       "       caltrans_district organization_source_record_id     organization_name  \\\n",
       "415663  07 - Los Angeles             recJHFDLpGRMIFgnL  City of Santa Monica   \n",
       "415762  07 - Los Angeles             recJHFDLpGRMIFgnL  City of Santa Monica   \n",
       "\n",
       "                                               base64_url  \\\n",
       "415663  aHR0cDovL2d0ZnMuYmlnYmx1ZWJ1cy5jb20vY3VycmVudC...   \n",
       "415762  aHR0cDovL2d0ZnMuYmlnYmx1ZWJ1cy5jb20vY3VycmVudC...   \n",
       "\n",
       "                                                 geometry  trips_per_hour  \n",
       "415663  POLYGON ((142005.205 -447132.952, 142004.394 -...           0.125  \n",
       "415762  POLYGON ((139872.655 -440637.194, 139874.076 -...           0.125  "
      ]
     },
     "execution_count": 22,
     "metadata": {},
     "output_type": "execute_result"
    }
   ],
   "source": [
    "peak_test >> head(2)"
   ]
  },
  {
   "cell_type": "code",
   "execution_count": 23,
   "id": "88a1bea0-a3ee-4397-b34f-98782b5d0078",
   "metadata": {},
   "outputs": [
    {
     "data": {
      "text/html": [
       "<div>\n",
       "<style scoped>\n",
       "    .dataframe tbody tr th:only-of-type {\n",
       "        vertical-align: middle;\n",
       "    }\n",
       "\n",
       "    .dataframe tbody tr th {\n",
       "        vertical-align: top;\n",
       "    }\n",
       "\n",
       "    .dataframe thead th {\n",
       "        text-align: right;\n",
       "    }\n",
       "</style>\n",
       "<table border=\"1\" class=\"dataframe\">\n",
       "  <thead>\n",
       "    <tr style=\"text-align: right;\">\n",
       "      <th></th>\n",
       "      <th>id</th>\n",
       "      <th>stop_id</th>\n",
       "      <th>stop_name</th>\n",
       "      <th>shape_id</th>\n",
       "      <th>stop_sequence</th>\n",
       "      <th>route_id</th>\n",
       "      <th>route_short_name</th>\n",
       "      <th>direction_id</th>\n",
       "      <th>p50_mph</th>\n",
       "      <th>p20_mph</th>\n",
       "      <th>p80_mph</th>\n",
       "      <th>fast_slow_ratio</th>\n",
       "      <th>trips_per_hour</th>\n",
       "      <th>miles_from_last</th>\n",
       "      <th>time_formatted</th>\n",
       "      <th>organization_name</th>\n",
       "      <th>geometry</th>\n",
       "    </tr>\n",
       "  </thead>\n",
       "  <tbody>\n",
       "    <tr>\n",
       "      <th>0</th>\n",
       "      <td>306</td>\n",
       "      <td>1129</td>\n",
       "      <td>MAIN NB &amp; OLYMPIC FS</td>\n",
       "      <td>26731</td>\n",
       "      <td>2.0</td>\n",
       "      <td>3709</td>\n",
       "      <td>5</td>\n",
       "      <td>0.0</td>\n",
       "      <td>3.4</td>\n",
       "      <td>3.4</td>\n",
       "      <td>3.4</td>\n",
       "      <td>1.0</td>\n",
       "      <td>0.3</td>\n",
       "      <td>0.1</td>\n",
       "      <td>1:45</td>\n",
       "      <td>City of Santa Monica</td>\n",
       "      <td>POLYGON ((-118.49075 34.01082, -118.49099 34.0...</td>\n",
       "    </tr>\n",
       "    <tr>\n",
       "      <th>1</th>\n",
       "      <td>307</td>\n",
       "      <td>292</td>\n",
       "      <td>2ND NB &amp; BROADWAY NS</td>\n",
       "      <td>26731</td>\n",
       "      <td>3.0</td>\n",
       "      <td>3709</td>\n",
       "      <td>5</td>\n",
       "      <td>0.0</td>\n",
       "      <td>9.2</td>\n",
       "      <td>9.2</td>\n",
       "      <td>9.2</td>\n",
       "      <td>1.0</td>\n",
       "      <td>0.3</td>\n",
       "      <td>0.3</td>\n",
       "      <td>1:57</td>\n",
       "      <td>City of Santa Monica</td>\n",
       "      <td>POLYGON ((-118.49316 34.01241, -118.49383 34.0...</td>\n",
       "    </tr>\n",
       "    <tr>\n",
       "      <th>2</th>\n",
       "      <td>308</td>\n",
       "      <td>104</td>\n",
       "      <td>SANTA MONICA EB &amp; 3RD FS</td>\n",
       "      <td>26731</td>\n",
       "      <td>4.0</td>\n",
       "      <td>3709</td>\n",
       "      <td>5</td>\n",
       "      <td>0.0</td>\n",
       "      <td>13.0</td>\n",
       "      <td>13.0</td>\n",
       "      <td>13.0</td>\n",
       "      <td>1.0</td>\n",
       "      <td>0.3</td>\n",
       "      <td>0.2</td>\n",
       "      <td>0:55</td>\n",
       "      <td>City of Santa Monica</td>\n",
       "      <td>POLYGON ((-118.49673 34.01480, -118.49673 34.0...</td>\n",
       "    </tr>\n",
       "  </tbody>\n",
       "</table>\n",
       "</div>"
      ],
      "text/plain": [
       "    id stop_id                 stop_name shape_id  stop_sequence route_id  \\\n",
       "0  306    1129      MAIN NB & OLYMPIC FS    26731            2.0     3709   \n",
       "1  307     292      2ND NB & BROADWAY NS    26731            3.0     3709   \n",
       "2  308     104  SANTA MONICA EB & 3RD FS    26731            4.0     3709   \n",
       "\n",
       "  route_short_name  direction_id  p50_mph  p20_mph  p80_mph  fast_slow_ratio  \\\n",
       "0                5           0.0      3.4      3.4      3.4              1.0   \n",
       "1                5           0.0      9.2      9.2      9.2              1.0   \n",
       "2                5           0.0     13.0     13.0     13.0              1.0   \n",
       "\n",
       "   trips_per_hour  miles_from_last time_formatted     organization_name  \\\n",
       "0             0.3              0.1           1:45  City of Santa Monica   \n",
       "1             0.3              0.3           1:57  City of Santa Monica   \n",
       "2             0.3              0.2           0:55  City of Santa Monica   \n",
       "\n",
       "                                            geometry  \n",
       "0  POLYGON ((-118.49075 34.01082, -118.49099 34.0...  \n",
       "1  POLYGON ((-118.49316 34.01241, -118.49383 34.0...  \n",
       "2  POLYGON ((-118.49673 34.01480, -118.49673 34.0...  "
      ]
     },
     "execution_count": 23,
     "metadata": {},
     "output_type": "execute_result"
    }
   ],
   "source": [
    "gpd.read_file('300_AM_Peak_speeds.geojson') >> head(3)"
   ]
  },
  {
   "cell_type": "markdown",
   "id": "21725c98-e8cf-47bb-a880-09e67d25f0fe",
   "metadata": {},
   "source": [
    "##  to-do\n",
    "\n",
    "* where does new n_trips come from? should be schedule-based for speedmaps applications...\n",
    "* split am/pm peak\n",
    "* https://github.com/cal-itp/data-analyses/issues/1218 upstream add route identifiers"
   ]
  },
  {
   "cell_type": "code",
   "execution_count": 24,
   "id": "e7c32718-4eb2-4c2b-aba0-cca397aaabf3",
   "metadata": {},
   "outputs": [
    {
     "data": {
      "text/plain": [
       "Index(['schedule_gtfs_dataset_key', 'shape_array_key', 'shape_id', 'stop_pair',\n",
       "       'stop_pair_name', 'segment_id', 'time_period', 'p50_mph', 'n_trips',\n",
       "       'p20_mph', 'p80_mph', 'name', 'caltrans_district',\n",
       "       'organization_source_record_id', 'organization_name', 'base64_url',\n",
       "       'geometry', 'trips_per_hour'],\n",
       "      dtype='object')"
      ]
     },
     "execution_count": 24,
     "metadata": {},
     "output_type": "execute_result"
    }
   ],
   "source": [
    "peak_test.columns"
   ]
  },
  {
   "cell_type": "markdown",
   "id": "4e4c26e4-afca-48e1-b9fc-53393858a414",
   "metadata": {},
   "source": [
    "## export map"
   ]
  },
  {
   "cell_type": "code",
   "execution_count": 25,
   "id": "10a3ff1d-04f8-40b8-ab91-5ef96fde9b6a",
   "metadata": {},
   "outputs": [
    {
     "name": "stdout",
     "output_type": "stream",
     "text": [
      "writing to calitp-map-tiles/testing/testnew6.geojson.gz\n"
     ]
    }
   ],
   "source": [
    "speedmap_state = shared_utils.rt_utils.set_state_export(peak_test, filename='testnew6', map_type='speedmap',\n",
    "                                      color_col='p20_mph', cmap=cmap, legend_url=url,\n",
    "                                              cache_seconds=0, map_title=f'Speedmap Segs {analysis_date}')"
   ]
  },
  {
   "cell_type": "code",
   "execution_count": 26,
   "id": "75f2695e-4b80-4d91-8dce-1fa8e347729b",
   "metadata": {},
   "outputs": [
    {
     "data": {
      "text/plain": [
       "{'state_dict': {'name': 'null',\n",
       "  'layers': [{'name': 'Speedmap Segs 2024-08-14',\n",
       "    'url': 'https://storage.googleapis.com/calitp-map-tiles/testing/testnew6.geojson.gz',\n",
       "    'properties': {'stroked': False,\n",
       "     'highlight_saturation_multiplier': 0.5,\n",
       "     'tooltip_speed_key': 'p20_mph'},\n",
       "    'type': 'speedmap'}],\n",
       "  'lat_lon': (34.01668600960056, -118.46977869668166),\n",
       "  'zoom': 13,\n",
       "  'legend_url': 'https://storage.googleapis.com/calitp-map-tiles/speeds_legend.svg'},\n",
       " 'spa_link': 'https://embeddable-maps.calitp.org/?state=eyJuYW1lIjogIm51bGwiLCAibGF5ZXJzIjogW3sibmFtZSI6ICJTcGVlZG1hcCBTZWdzIDIwMjQtMDgtMTQiLCAidXJsIjogImh0dHBzOi8vc3RvcmFnZS5nb29nbGVhcGlzLmNvbS9jYWxpdHAtbWFwLXRpbGVzL3Rlc3RpbmcvdGVzdG5ldzYuZ2VvanNvbi5neiIsICJwcm9wZXJ0aWVzIjogeyJzdHJva2VkIjogZmFsc2UsICJoaWdobGlnaHRfc2F0dXJhdGlvbl9tdWx0aXBsaWVyIjogMC41LCAidG9vbHRpcF9zcGVlZF9rZXkiOiAicDIwX21waCJ9LCAidHlwZSI6ICJzcGVlZG1hcCJ9XSwgImxhdF9sb24iOiBbMzQuMDE2Njg2MDA5NjAwNTYsIC0xMTguNDY5Nzc4Njk2NjgxNjZdLCAiem9vbSI6IDEzLCAibGVnZW5kX3VybCI6ICJodHRwczovL3N0b3JhZ2UuZ29vZ2xlYXBpcy5jb20vY2FsaXRwLW1hcC10aWxlcy9zcGVlZHNfbGVnZW5kLnN2ZyJ9'}"
      ]
     },
     "execution_count": 26,
     "metadata": {},
     "output_type": "execute_result"
    }
   ],
   "source": [
    "speedmap_state"
   ]
  }
 ],
 "metadata": {
  "kernelspec": {
   "display_name": "Python 3 (ipykernel)",
   "language": "python",
   "name": "python3"
  },
  "language_info": {
   "codemirror_mode": {
    "name": "ipython",
    "version": 3
   },
   "file_extension": ".py",
   "mimetype": "text/x-python",
   "name": "python",
   "nbconvert_exporter": "python",
   "pygments_lexer": "ipython3",
   "version": "3.9.13"
  },
  "widgets": {
   "application/vnd.jupyter.widget-state+json": {
    "state": {},
    "version_major": 2,
    "version_minor": 0
   }
  }
 },
 "nbformat": 4,
 "nbformat_minor": 5
}
