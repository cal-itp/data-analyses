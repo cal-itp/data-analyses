{
 "cells": [
  {
   "cell_type": "code",
   "execution_count": 62,
   "id": "46898b5c-b5cc-4096-ab68-8c3e42fab870",
   "metadata": {},
   "outputs": [],
   "source": [
    "%%capture\n",
    "import warnings\n",
    "warnings.filterwarnings('ignore')\n",
    "\n",
    "import calitp_data_analysis.magics\n",
    "from calitp_data_analysis import calitp_color_palette\n",
    "\n",
    "# from rt_analysis import rt_filter_map_plot\n",
    "import build_speedmaps_index\n",
    "\n",
    "from IPython.display import display, Markdown\n",
    "import pandas as pd\n",
    "import geopandas as gpd\n",
    "from siuba import *\n",
    "\n",
    "import shared_utils\n",
    "import segment_speed_utils"
   ]
  },
  {
   "cell_type": "code",
   "execution_count": 2,
   "id": "cf3d8814-6f22-4a22-8b03-429ebb63a397",
   "metadata": {},
   "outputs": [],
   "source": [
    "catalog = shared_utils.catalog_utils.get_catalog('gtfs_analytics_data')"
   ]
  },
  {
   "cell_type": "code",
   "execution_count": 3,
   "id": "9f15ed6a-5ab7-4f57-9695-3f762781b74c",
   "metadata": {
    "tags": [
     "parameters"
    ]
   },
   "outputs": [],
   "source": [
    "## parameters cell\n",
    "itp_id = 300"
   ]
  },
  {
   "cell_type": "code",
   "execution_count": 4,
   "id": "a639fd84-29ca-4678-b568-2b1022701e14",
   "metadata": {},
   "outputs": [],
   "source": [
    "analysis_date = build_speedmaps_index.ANALYSIS_DATE\n",
    "import datetime as dt"
   ]
  },
  {
   "cell_type": "code",
   "execution_count": 5,
   "id": "eea40f4b-c378-4b70-a80b-bbe79f8441bf",
   "metadata": {
    "tags": []
   },
   "outputs": [],
   "source": [
    "speedmap_index = pd.read_parquet(f'_rt_progress_{analysis_date}.parquet') >> filter(_.organization_itp_id == itp_id)"
   ]
  },
  {
   "cell_type": "code",
   "execution_count": 6,
   "id": "1b9762c8-0235-4d8f-b7a4-20a3213eb45e",
   "metadata": {},
   "outputs": [],
   "source": [
    "path = f'{catalog.speedmap_segments.dir}{catalog.speedmap_segments.shape_stop_single_segment_detail}_{analysis_date}.parquet'"
   ]
  },
  {
   "cell_type": "code",
   "execution_count": 7,
   "id": "9302c0ad-1201-4c5a-8267-ec52719cf777",
   "metadata": {},
   "outputs": [],
   "source": [
    "speedmap_segs = gpd.read_parquet(path) #  aggregated"
   ]
  },
  {
   "cell_type": "code",
   "execution_count": 8,
   "id": "9f3c4c93-a5f5-40d7-9315-63e4fecbd738",
   "metadata": {},
   "outputs": [],
   "source": [
    "speedmap_segs = speedmap_segs >> filter(_.schedule_gtfs_dataset_key == speedmap_index.schedule_gtfs_dataset_key.iloc[0])"
   ]
  },
  {
   "cell_type": "code",
   "execution_count": 9,
   "id": "edc84eda-ce2b-481f-ac78-6b7209cb25f4",
   "metadata": {},
   "outputs": [],
   "source": [
    "#  TODO to utils\n",
    "def time_period_and_arrowize(gdf, time_period):\n",
    "    \n",
    "    gdf = gdf >> filter(_.time_of_day == time_period)\n",
    "    gdf = gdf.to_crs(calitp_data_analysis.geography_utils.CA_NAD83Albers)\n",
    "\n",
    "    ## shift to right side of road to display direction\n",
    "    gdf.geometry = gdf.geometry.apply(shared_utils.rt_utils.try_parallel)\n",
    "    gdf = gdf.apply(shared_utils.rt_utils.arrowize_by_frequency, axis=1, frequency_col='trips_hr_sch')\n",
    "\n",
    "    gdf = gdf >> arrange(_.trips_hr_sch)\n",
    "\n",
    "    return gdf"
   ]
  },
  {
   "cell_type": "code",
   "execution_count": 10,
   "id": "6af2c7fd-b769-4fbf-bbcf-75080972cc67",
   "metadata": {},
   "outputs": [],
   "source": [
    "peak_test = time_period_and_arrowize(speedmap_segs, 'AM Peak')"
   ]
  },
  {
   "cell_type": "code",
   "execution_count": 11,
   "id": "cedc030e-8d19-4a0b-b3a5-5a3d6c0dce23",
   "metadata": {},
   "outputs": [],
   "source": [
    "cmap = shared_utils.rt_utils.ACCESS_ZERO_THIRTY_COLORSCALE\n",
    "url = shared_utils.rt_utils.ACCESS_SPEEDMAP_LEGEND_URL"
   ]
  },
  {
   "cell_type": "code",
   "execution_count": 12,
   "id": "87c7db4f-3da9-4ba4-915b-88432a841b39",
   "metadata": {},
   "outputs": [
    {
     "data": {
      "text/html": [
       "<div>\n",
       "<style scoped>\n",
       "    .dataframe tbody tr th:only-of-type {\n",
       "        vertical-align: middle;\n",
       "    }\n",
       "\n",
       "    .dataframe tbody tr th {\n",
       "        vertical-align: top;\n",
       "    }\n",
       "\n",
       "    .dataframe thead th {\n",
       "        text-align: right;\n",
       "    }\n",
       "</style>\n",
       "<table border=\"1\" class=\"dataframe\">\n",
       "  <thead>\n",
       "    <tr style=\"text-align: right;\">\n",
       "      <th></th>\n",
       "      <th>schedule_gtfs_dataset_key</th>\n",
       "      <th>shape_array_key</th>\n",
       "      <th>shape_id</th>\n",
       "      <th>route_id</th>\n",
       "      <th>direction_id</th>\n",
       "      <th>stop_pair</th>\n",
       "      <th>stop_pair_name</th>\n",
       "      <th>segment_id</th>\n",
       "      <th>time_of_day</th>\n",
       "      <th>p50_mph</th>\n",
       "      <th>...</th>\n",
       "      <th>p80_mph</th>\n",
       "      <th>name</th>\n",
       "      <th>caltrans_district</th>\n",
       "      <th>organization_source_record_id</th>\n",
       "      <th>organization_name</th>\n",
       "      <th>base64_url</th>\n",
       "      <th>geometry</th>\n",
       "      <th>n_trips_sch</th>\n",
       "      <th>trips_hr_sch</th>\n",
       "      <th>route_short_name</th>\n",
       "    </tr>\n",
       "  </thead>\n",
       "  <tbody>\n",
       "    <tr>\n",
       "      <th>10501</th>\n",
       "      <td>0666caf3ec1ecc96b74f4477ee4bc939</td>\n",
       "      <td>fedc605c108af558e4e545806741ea0f</td>\n",
       "      <td>510358_JUNE24</td>\n",
       "      <td>51-13183</td>\n",
       "      <td>0.0</td>\n",
       "      <td>283__8824</td>\n",
       "      <td>Avalon / Imperial__Avalon / 111th</td>\n",
       "      <td>283-8824-1</td>\n",
       "      <td>AM Peak</td>\n",
       "      <td>12.34</td>\n",
       "      <td>...</td>\n",
       "      <td>12.34</td>\n",
       "      <td>LA Metro Bus Schedule</td>\n",
       "      <td>07 - Los Angeles</td>\n",
       "      <td>recPnGkwdpnr8jmHB</td>\n",
       "      <td>Los Angeles County Metropolitan Transportation...</td>\n",
       "      <td>aHR0cHM6Ly9naXRsYWIuY29tL0xBQ01UQS9ndGZzX2J1cy...</td>\n",
       "      <td>POLYGON ((160449.331 -452365.708, 160434.047 -...</td>\n",
       "      <td>1</td>\n",
       "      <td>0.333333</td>\n",
       "      <td>51</td>\n",
       "    </tr>\n",
       "    <tr>\n",
       "      <th>10502</th>\n",
       "      <td>0666caf3ec1ecc96b74f4477ee4bc939</td>\n",
       "      <td>fedc605c108af558e4e545806741ea0f</td>\n",
       "      <td>510358_JUNE24</td>\n",
       "      <td>51-13183</td>\n",
       "      <td>0.0</td>\n",
       "      <td>8824__8823</td>\n",
       "      <td>Avalon / 111th__Avalon / 110th</td>\n",
       "      <td>8824-8823-1</td>\n",
       "      <td>AM Peak</td>\n",
       "      <td>14.66</td>\n",
       "      <td>...</td>\n",
       "      <td>14.66</td>\n",
       "      <td>LA Metro Bus Schedule</td>\n",
       "      <td>07 - Los Angeles</td>\n",
       "      <td>recPnGkwdpnr8jmHB</td>\n",
       "      <td>Los Angeles County Metropolitan Transportation...</td>\n",
       "      <td>aHR0cHM6Ly9naXRsYWIuY29tL0xBQ01UQS9ndGZzX2J1cy...</td>\n",
       "      <td>POLYGON ((160443.819 -452040.084, 160428.472 -...</td>\n",
       "      <td>1</td>\n",
       "      <td>0.333333</td>\n",
       "      <td>51</td>\n",
       "    </tr>\n",
       "  </tbody>\n",
       "</table>\n",
       "<p>2 rows × 22 columns</p>\n",
       "</div>"
      ],
      "text/plain": [
       "              schedule_gtfs_dataset_key                   shape_array_key  \\\n",
       "10501  0666caf3ec1ecc96b74f4477ee4bc939  fedc605c108af558e4e545806741ea0f   \n",
       "10502  0666caf3ec1ecc96b74f4477ee4bc939  fedc605c108af558e4e545806741ea0f   \n",
       "\n",
       "            shape_id  route_id  direction_id   stop_pair  \\\n",
       "10501  510358_JUNE24  51-13183           0.0   283__8824   \n",
       "10502  510358_JUNE24  51-13183           0.0  8824__8823   \n",
       "\n",
       "                          stop_pair_name   segment_id time_of_day  p50_mph  \\\n",
       "10501  Avalon / Imperial__Avalon / 111th   283-8824-1     AM Peak    12.34   \n",
       "10502     Avalon / 111th__Avalon / 110th  8824-8823-1     AM Peak    14.66   \n",
       "\n",
       "       ...  p80_mph                   name  caltrans_district  \\\n",
       "10501  ...    12.34  LA Metro Bus Schedule   07 - Los Angeles   \n",
       "10502  ...    14.66  LA Metro Bus Schedule   07 - Los Angeles   \n",
       "\n",
       "      organization_source_record_id  \\\n",
       "10501             recPnGkwdpnr8jmHB   \n",
       "10502             recPnGkwdpnr8jmHB   \n",
       "\n",
       "                                       organization_name  \\\n",
       "10501  Los Angeles County Metropolitan Transportation...   \n",
       "10502  Los Angeles County Metropolitan Transportation...   \n",
       "\n",
       "                                              base64_url  \\\n",
       "10501  aHR0cHM6Ly9naXRsYWIuY29tL0xBQ01UQS9ndGZzX2J1cy...   \n",
       "10502  aHR0cHM6Ly9naXRsYWIuY29tL0xBQ01UQS9ndGZzX2J1cy...   \n",
       "\n",
       "                                                geometry n_trips_sch  \\\n",
       "10501  POLYGON ((160449.331 -452365.708, 160434.047 -...           1   \n",
       "10502  POLYGON ((160443.819 -452040.084, 160428.472 -...           1   \n",
       "\n",
       "      trips_hr_sch  route_short_name  \n",
       "10501     0.333333                51  \n",
       "10502     0.333333                51  \n",
       "\n",
       "[2 rows x 22 columns]"
      ]
     },
     "execution_count": 12,
     "metadata": {},
     "output_type": "execute_result"
    }
   ],
   "source": [
    "peak_test >> head(2)"
   ]
  },
  {
   "cell_type": "markdown",
   "id": "4e4c26e4-afca-48e1-b9fc-53393858a414",
   "metadata": {},
   "source": [
    "## export map"
   ]
  },
  {
   "cell_type": "code",
   "execution_count": 13,
   "id": "d483e182-b36c-487e-a194-7a9e48d5b32f",
   "metadata": {},
   "outputs": [
    {
     "ename": "NameError",
     "evalue": "name 'time_of_day' is not defined",
     "output_type": "error",
     "traceback": [
      "\u001b[0;31m---------------------------------------------------------------------------\u001b[0m",
      "\u001b[0;31mNameError\u001b[0m                                 Traceback (most recent call last)",
      "Cell \u001b[0;32mIn[13], line 1\u001b[0m\n\u001b[0;32m----> 1\u001b[0m time_of_day_lower \u001b[38;5;241m=\u001b[39m \u001b[43mtime_of_day\u001b[49m\u001b[38;5;241m.\u001b[39mlower()\u001b[38;5;241m.\u001b[39mreplace(\u001b[38;5;124m'\u001b[39m\u001b[38;5;124m \u001b[39m\u001b[38;5;124m'\u001b[39m, \u001b[38;5;124m'\u001b[39m\u001b[38;5;124m_\u001b[39m\u001b[38;5;124m'\u001b[39m)\n",
      "\u001b[0;31mNameError\u001b[0m: name 'time_of_day' is not defined"
     ]
    }
   ],
   "source": [
    "time_of_day_lower = time_of_day.lower().replace(' ', '_')"
   ]
  },
  {
   "cell_type": "code",
   "execution_count": null,
   "id": "51e108ee-19f5-4266-8848-fb5ac57f5108",
   "metadata": {},
   "outputs": [],
   "source": [
    "#  TODO clone render method from RtFilterMapper, to utils\n",
    "speedmap_state = shared_utils.rt_utils.set_state_export(\n",
    "                                    period_test, filename=f'{itp_id}_{time_of_day_lower}_new', map_type='speedmap',\n",
    "                                    color_col='p20_mph', cmap=cmap, legend_url=url,\n",
    "                                    cache_seconds=0, map_title=f'Speedmap Segs {time_of_day} {analysis_date}')"
   ]
  },
  {
   "cell_type": "code",
   "execution_count": null,
   "id": "75f2695e-4b80-4d91-8dce-1fa8e347729b",
   "metadata": {},
   "outputs": [],
   "source": [
    "speedmap_state"
   ]
  },
  {
   "cell_type": "code",
   "execution_count": 17,
   "id": "5af14034-e54b-4d00-bf78-5882ae3a7b24",
   "metadata": {},
   "outputs": [
    {
     "data": {
      "text/plain": [
       "Index(['schedule_gtfs_dataset_key', 'shape_array_key', 'shape_id', 'route_id',\n",
       "       'direction_id', 'stop_pair', 'stop_pair_name', 'segment_id',\n",
       "       'time_of_day', 'p50_mph', 'n_trips', 'p20_mph', 'p80_mph', 'name',\n",
       "       'caltrans_district', 'organization_source_record_id',\n",
       "       'organization_name', 'base64_url', 'geometry', 'n_trips_sch',\n",
       "       'trips_hr_sch', 'route_short_name'],\n",
       "      dtype='object')"
      ]
     },
     "execution_count": 17,
     "metadata": {},
     "output_type": "execute_result"
    }
   ],
   "source": [
    "speedmap_segs.columns"
   ]
  },
  {
   "cell_type": "code",
   "execution_count": null,
   "id": "fdf9c56a-0ad8-44b8-8bed-a677c9d36037",
   "metadata": {},
   "outputs": [],
   "source": [
    "speedmap_segs"
   ]
  },
  {
   "cell_type": "code",
   "execution_count": 15,
   "id": "df0b34b1-f3fd-4081-8598-eed78541da71",
   "metadata": {},
   "outputs": [
    {
     "ename": "ModuleNotFoundError",
     "evalue": "No module named 'vega_datasets'",
     "output_type": "error",
     "traceback": [
      "\u001b[0;31m---------------------------------------------------------------------------\u001b[0m",
      "\u001b[0;31mModuleNotFoundError\u001b[0m                       Traceback (most recent call last)",
      "Cell \u001b[0;32mIn[15], line 2\u001b[0m\n\u001b[1;32m      1\u001b[0m \u001b[38;5;28;01mimport\u001b[39;00m \u001b[38;5;21;01maltair\u001b[39;00m \u001b[38;5;28;01mas\u001b[39;00m \u001b[38;5;21;01malt\u001b[39;00m\n\u001b[0;32m----> 2\u001b[0m \u001b[38;5;28;01mfrom\u001b[39;00m \u001b[38;5;21;01mvega_datasets\u001b[39;00m \u001b[38;5;28;01mimport\u001b[39;00m data\n\u001b[1;32m      4\u001b[0m source \u001b[38;5;241m=\u001b[39m data\u001b[38;5;241m.\u001b[39mbarley()\n\u001b[1;32m      6\u001b[0m error_bars \u001b[38;5;241m=\u001b[39m alt\u001b[38;5;241m.\u001b[39mChart(source)\u001b[38;5;241m.\u001b[39mmark_errorbar(extent\u001b[38;5;241m=\u001b[39m\u001b[38;5;124m\"\u001b[39m\u001b[38;5;124mstdev\u001b[39m\u001b[38;5;124m\"\u001b[39m)\u001b[38;5;241m.\u001b[39mencode(\n\u001b[1;32m      7\u001b[0m     alt\u001b[38;5;241m.\u001b[39mY(\u001b[38;5;124m\"\u001b[39m\u001b[38;5;124myield:Q\u001b[39m\u001b[38;5;124m\"\u001b[39m)\u001b[38;5;241m.\u001b[39mscale(zero\u001b[38;5;241m=\u001b[39m\u001b[38;5;28;01mFalse\u001b[39;00m),\n\u001b[1;32m      8\u001b[0m     alt\u001b[38;5;241m.\u001b[39mX(\u001b[38;5;124m\"\u001b[39m\u001b[38;5;124mvariety:N\u001b[39m\u001b[38;5;124m\"\u001b[39m),\n\u001b[1;32m      9\u001b[0m )\n",
      "\u001b[0;31mModuleNotFoundError\u001b[0m: No module named 'vega_datasets'"
     ]
    }
   ],
   "source": [
    "import altair as alt\n",
    "from vega_datasets import data\n",
    "\n",
    "source = data.barley()\n",
    "\n",
    "error_bars = alt.Chart(source).mark_errorbar(extent=\"stdev\").encode(\n",
    "    alt.Y(\"yield:Q\").scale(zero=False),\n",
    "    alt.X(\"variety:N\"),\n",
    ")\n",
    "\n",
    "points = alt.Chart(source).mark_point(\n",
    "    filled=True,\n",
    "    color=\"black\",\n",
    ").encode(\n",
    "    alt.Y(\"mean(yield)\"),\n",
    "    alt.X(\"variety:N\"),\n",
    ")\n",
    "\n",
    "error_bars + points"
   ]
  },
  {
   "cell_type": "code",
   "execution_count": 34,
   "id": "ded22024-1209-419c-bfce-22499d58718a",
   "metadata": {},
   "outputs": [
    {
     "data": {
      "text/html": [
       "<div>\n",
       "<style scoped>\n",
       "    .dataframe tbody tr th:only-of-type {\n",
       "        vertical-align: middle;\n",
       "    }\n",
       "\n",
       "    .dataframe tbody tr th {\n",
       "        vertical-align: top;\n",
       "    }\n",
       "\n",
       "    .dataframe thead th {\n",
       "        text-align: right;\n",
       "    }\n",
       "</style>\n",
       "<table border=\"1\" class=\"dataframe\">\n",
       "  <thead>\n",
       "    <tr style=\"text-align: right;\">\n",
       "      <th></th>\n",
       "      <th>time_of_day</th>\n",
       "      <th>p50_mph</th>\n",
       "      <th>p20_mph</th>\n",
       "      <th>p80_mph</th>\n",
       "      <th>y_err</th>\n",
       "      <th>y_err2</th>\n",
       "    </tr>\n",
       "  </thead>\n",
       "  <tbody>\n",
       "    <tr>\n",
       "      <th>5265</th>\n",
       "      <td>AM Peak</td>\n",
       "      <td>13.00</td>\n",
       "      <td>13.00</td>\n",
       "      <td>13.00</td>\n",
       "      <td>13.00</td>\n",
       "      <td>13.00</td>\n",
       "    </tr>\n",
       "    <tr>\n",
       "      <th>5266</th>\n",
       "      <td>AM Peak</td>\n",
       "      <td>22.58</td>\n",
       "      <td>22.58</td>\n",
       "      <td>22.58</td>\n",
       "      <td>22.58</td>\n",
       "      <td>22.58</td>\n",
       "    </tr>\n",
       "    <tr>\n",
       "      <th>5267</th>\n",
       "      <td>AM Peak</td>\n",
       "      <td>7.31</td>\n",
       "      <td>7.31</td>\n",
       "      <td>7.31</td>\n",
       "      <td>7.31</td>\n",
       "      <td>7.31</td>\n",
       "    </tr>\n",
       "    <tr>\n",
       "      <th>5268</th>\n",
       "      <td>AM Peak</td>\n",
       "      <td>15.72</td>\n",
       "      <td>15.72</td>\n",
       "      <td>15.72</td>\n",
       "      <td>15.72</td>\n",
       "      <td>15.72</td>\n",
       "    </tr>\n",
       "    <tr>\n",
       "      <th>5269</th>\n",
       "      <td>AM Peak</td>\n",
       "      <td>18.62</td>\n",
       "      <td>18.62</td>\n",
       "      <td>18.62</td>\n",
       "      <td>18.62</td>\n",
       "      <td>18.62</td>\n",
       "    </tr>\n",
       "    <tr>\n",
       "      <th>...</th>\n",
       "      <td>...</td>\n",
       "      <td>...</td>\n",
       "      <td>...</td>\n",
       "      <td>...</td>\n",
       "      <td>...</td>\n",
       "      <td>...</td>\n",
       "    </tr>\n",
       "    <tr>\n",
       "      <th>126376</th>\n",
       "      <td>Early AM</td>\n",
       "      <td>55.45</td>\n",
       "      <td>55.45</td>\n",
       "      <td>55.45</td>\n",
       "      <td>55.45</td>\n",
       "      <td>55.45</td>\n",
       "    </tr>\n",
       "    <tr>\n",
       "      <th>126377</th>\n",
       "      <td>Early AM</td>\n",
       "      <td>54.62</td>\n",
       "      <td>54.62</td>\n",
       "      <td>54.62</td>\n",
       "      <td>54.62</td>\n",
       "      <td>54.62</td>\n",
       "    </tr>\n",
       "    <tr>\n",
       "      <th>126378</th>\n",
       "      <td>Early AM</td>\n",
       "      <td>8.22</td>\n",
       "      <td>8.22</td>\n",
       "      <td>8.22</td>\n",
       "      <td>8.22</td>\n",
       "      <td>8.22</td>\n",
       "    </tr>\n",
       "    <tr>\n",
       "      <th>126379</th>\n",
       "      <td>Early AM</td>\n",
       "      <td>17.60</td>\n",
       "      <td>17.60</td>\n",
       "      <td>17.60</td>\n",
       "      <td>17.60</td>\n",
       "      <td>17.60</td>\n",
       "    </tr>\n",
       "    <tr>\n",
       "      <th>126380</th>\n",
       "      <td>Early AM</td>\n",
       "      <td>16.02</td>\n",
       "      <td>16.02</td>\n",
       "      <td>16.02</td>\n",
       "      <td>16.02</td>\n",
       "      <td>16.02</td>\n",
       "    </tr>\n",
       "  </tbody>\n",
       "</table>\n",
       "<p>121116 rows × 6 columns</p>\n",
       "</div>"
      ],
      "text/plain": [
       "       time_of_day  p50_mph  p20_mph  p80_mph  y_err  y_err2\n",
       "5265       AM Peak    13.00    13.00    13.00  13.00   13.00\n",
       "5266       AM Peak    22.58    22.58    22.58  22.58   22.58\n",
       "5267       AM Peak     7.31     7.31     7.31   7.31    7.31\n",
       "5268       AM Peak    15.72    15.72    15.72  15.72   15.72\n",
       "5269       AM Peak    18.62    18.62    18.62  18.62   18.62\n",
       "...            ...      ...      ...      ...    ...     ...\n",
       "126376    Early AM    55.45    55.45    55.45  55.45   55.45\n",
       "126377    Early AM    54.62    54.62    54.62  54.62   54.62\n",
       "126378    Early AM     8.22     8.22     8.22   8.22    8.22\n",
       "126379    Early AM    17.60    17.60    17.60  17.60   17.60\n",
       "126380    Early AM    16.02    16.02    16.02  16.02   16.02\n",
       "\n",
       "[121116 rows x 6 columns]"
      ]
     },
     "execution_count": 34,
     "metadata": {},
     "output_type": "execute_result"
    }
   ],
   "source": [
    "df >> group_by"
   ]
  },
  {
   "cell_type": "code",
   "execution_count": 48,
   "id": "23e5a153-f608-4aad-b9ca-8cabc7f90017",
   "metadata": {},
   "outputs": [
    {
     "data": {
      "text/html": [
       "\n",
       "<style>\n",
       "  #altair-viz-46bc3a73075d402884ed97fef90c946a.vega-embed {\n",
       "    width: 100%;\n",
       "    display: flex;\n",
       "  }\n",
       "\n",
       "  #altair-viz-46bc3a73075d402884ed97fef90c946a.vega-embed details,\n",
       "  #altair-viz-46bc3a73075d402884ed97fef90c946a.vega-embed details summary {\n",
       "    position: relative;\n",
       "  }\n",
       "</style>\n",
       "<div id=\"altair-viz-46bc3a73075d402884ed97fef90c946a\"></div>\n",
       "<script type=\"text/javascript\">\n",
       "  var VEGA_DEBUG = (typeof VEGA_DEBUG == \"undefined\") ? {} : VEGA_DEBUG;\n",
       "  (function(spec, embedOpt){\n",
       "    let outputDiv = document.currentScript.previousElementSibling;\n",
       "    if (outputDiv.id !== \"altair-viz-46bc3a73075d402884ed97fef90c946a\") {\n",
       "      outputDiv = document.getElementById(\"altair-viz-46bc3a73075d402884ed97fef90c946a\");\n",
       "    }\n",
       "    const paths = {\n",
       "      \"vega\": \"https://cdn.jsdelivr.net/npm/vega@5?noext\",\n",
       "      \"vega-lib\": \"https://cdn.jsdelivr.net/npm/vega-lib?noext\",\n",
       "      \"vega-lite\": \"https://cdn.jsdelivr.net/npm/vega-lite@5.17.0?noext\",\n",
       "      \"vega-embed\": \"https://cdn.jsdelivr.net/npm/vega-embed@6?noext\",\n",
       "    };\n",
       "\n",
       "    function maybeLoadScript(lib, version) {\n",
       "      var key = `${lib.replace(\"-\", \"\")}_version`;\n",
       "      return (VEGA_DEBUG[key] == version) ?\n",
       "        Promise.resolve(paths[lib]) :\n",
       "        new Promise(function(resolve, reject) {\n",
       "          var s = document.createElement('script');\n",
       "          document.getElementsByTagName(\"head\")[0].appendChild(s);\n",
       "          s.async = true;\n",
       "          s.onload = () => {\n",
       "            VEGA_DEBUG[key] = version;\n",
       "            return resolve(paths[lib]);\n",
       "          };\n",
       "          s.onerror = () => reject(`Error loading script: ${paths[lib]}`);\n",
       "          s.src = paths[lib];\n",
       "        });\n",
       "    }\n",
       "\n",
       "    function showError(err) {\n",
       "      outputDiv.innerHTML = `<div class=\"error\" style=\"color:red;\">${err}</div>`;\n",
       "      throw err;\n",
       "    }\n",
       "\n",
       "    function displayChart(vegaEmbed) {\n",
       "      vegaEmbed(outputDiv, spec, embedOpt)\n",
       "        .catch(err => showError(`Javascript Error: ${err.message}<br>This usually means there's a typo in your chart specification. See the javascript console for the full traceback.`));\n",
       "    }\n",
       "\n",
       "    if(typeof define === \"function\" && define.amd) {\n",
       "      requirejs.config({paths});\n",
       "      require([\"vega-embed\"], displayChart, err => showError(`Error loading script: ${err.message}`));\n",
       "    } else {\n",
       "      maybeLoadScript(\"vega\", \"5\")\n",
       "        .then(() => maybeLoadScript(\"vega-lite\", \"5.17.0\"))\n",
       "        .then(() => maybeLoadScript(\"vega-embed\", \"6\"))\n",
       "        .catch(showError)\n",
       "        .then(() => displayChart(vegaEmbed));\n",
       "    }\n",
       "  })({\"$schema\": \"https://vega.github.io/schema/vega/v5.json\", \"data\": [{\"name\": \"source_0\"}, {\"name\": \"data_0\", \"values\": [{\"lower_p50_mph\": 21.48, \"p50_mph\": 10.74, \"time_of_day\": \"AM Peak\", \"upper_p50_mph\": 21.48}, {\"lower_p50_mph\": 25.7, \"p50_mph\": 12.85, \"time_of_day\": \"Early AM\", \"upper_p50_mph\": 25.7}, {\"lower_p50_mph\": 30.02, \"p50_mph\": 15.01, \"time_of_day\": \"Evening\", \"upper_p50_mph\": 30.02}, {\"lower_p50_mph\": 19.92, \"p50_mph\": 9.96, \"time_of_day\": \"Midday\", \"upper_p50_mph\": 19.92}, {\"lower_p50_mph\": 34.26, \"p50_mph\": 17.13, \"time_of_day\": \"Owl\", \"upper_p50_mph\": 34.26}, {\"lower_p50_mph\": 20.3, \"p50_mph\": 10.15, \"time_of_day\": \"PM Peak\", \"upper_p50_mph\": 20.3}]}, {\"name\": \"source_0_x_domain_time_of_day\", \"values\": [{\"sort_field\": 1.0, \"time_of_day\": \"AM Peak\"}, {\"sort_field\": 0.0, \"time_of_day\": \"Early AM\"}, {\"sort_field\": 4.0, \"time_of_day\": \"Evening\"}, {\"sort_field\": 2.0, \"time_of_day\": \"Midday\"}, {\"sort_field\": 5.0, \"time_of_day\": \"Owl\"}, {\"sort_field\": 3.0, \"time_of_day\": \"PM Peak\"}]}], \"signals\": [{\"name\": \"x_step\", \"value\": 20}, {\"name\": \"width\", \"update\": \"bandspace(domain('x').length, 0, 0) * x_step\"}], \"marks\": [{\"type\": \"rule\", \"name\": \"marks\", \"from\": {\"data\": \"data_0\"}, \"encode\": {\"update\": {\"x\": {\"field\": \"time_of_day\", \"scale\": \"x\", \"band\": 0.5}, \"y2\": {\"field\": \"upper_p50_mph\", \"scale\": \"y\"}, \"stroke\": {\"value\": \"black\"}, \"tooltip\": {\"signal\": \"{\\\"p50_mph\\\": format(datum[\\\"p50_mph\\\"], \\\"\\\"), \\\"p50_mph + y_err\\\": format(datum[\\\"upper_p50_mph\\\"], \\\"\\\"), \\\"p50_mph + y_err2\\\": format(datum[\\\"lower_p50_mph\\\"], \\\"\\\"), \\\"time_of_day\\\": isValid(datum[\\\"time_of_day\\\"]) ? datum[\\\"time_of_day\\\"] : \\\"\\\"+datum[\\\"time_of_day\\\"]}\"}, \"y\": {\"field\": \"lower_p50_mph\", \"scale\": \"y\"}}}, \"style\": [\"rule\", \"errorbar-rule\"]}], \"scales\": [{\"name\": \"x\", \"type\": \"band\", \"domain\": {\"data\": \"source_0_x_domain_time_of_day\", \"field\": \"time_of_day\", \"sort\": {\"op\": \"max\", \"field\": \"sort_field\"}}, \"range\": {\"step\": {\"signal\": \"x_step\"}}, \"paddingInner\": 0, \"paddingOuter\": 0}, {\"name\": \"y\", \"type\": \"linear\", \"domain\": {\"data\": \"data_0\", \"fields\": [\"lower_p50_mph\", \"upper_p50_mph\"]}, \"range\": [{\"signal\": \"height\"}, 0], \"nice\": true, \"zero\": true}], \"axes\": [{\"scale\": \"y\", \"gridScale\": \"x\", \"labels\": false, \"aria\": false, \"maxExtent\": 0, \"orient\": \"left\", \"ticks\": false, \"grid\": true, \"minExtent\": 0, \"tickCount\": {\"signal\": \"ceil(height/40)\"}, \"domain\": false, \"zindex\": 0}, {\"scale\": \"x\", \"grid\": false, \"orient\": \"bottom\", \"labelAlign\": \"right\", \"title\": \"time_of_day\", \"labelAngle\": 270, \"labelBaseline\": \"middle\", \"zindex\": 0}, {\"scale\": \"y\", \"orient\": \"left\", \"title\": \"p50_mph\", \"grid\": false, \"labelOverlap\": true, \"zindex\": 0, \"tickCount\": {\"signal\": \"ceil(height/40)\"}}], \"height\": 300, \"background\": \"white\", \"style\": \"cell\", \"padding\": 5}, {\"mode\": \"vega\"});\n",
       "</script>"
      ],
      "text/plain": [
       "alt.Chart(...)"
      ]
     },
     "execution_count": 48,
     "metadata": {},
     "output_type": "execute_result"
    }
   ],
   "source": [
    "alt.Chart(df).mark_errorbar().encode(\n",
    "    # y = alt.Y(\"p50_mph:Q\").scale(zero=False),\n",
    "    y = alt.Y(\"p50_mph:Q\"),\n",
    "    yError=(\"y_err:Q\"),\n",
    "    yError2=(\"y_err2:Q\"),\n",
    "    x = alt.X(\"time_of_day:N\", sort=['Early AM', 'AM Peak', 'Midday', 'PM Peak', 'Evening', 'Owl']),\n",
    ")"
   ]
  },
  {
   "cell_type": "code",
   "execution_count": 51,
   "id": "3feb8dbd-afea-4e30-8fd9-544875699e70",
   "metadata": {},
   "outputs": [
    {
     "data": {
      "text/html": [
       "<div>\n",
       "<style scoped>\n",
       "    .dataframe tbody tr th:only-of-type {\n",
       "        vertical-align: middle;\n",
       "    }\n",
       "\n",
       "    .dataframe tbody tr th {\n",
       "        vertical-align: top;\n",
       "    }\n",
       "\n",
       "    .dataframe thead th {\n",
       "        text-align: right;\n",
       "    }\n",
       "</style>\n",
       "<table border=\"1\" class=\"dataframe\">\n",
       "  <thead>\n",
       "    <tr style=\"text-align: right;\">\n",
       "      <th></th>\n",
       "      <th>time_of_day</th>\n",
       "      <th>p50_mph</th>\n",
       "      <th>p20_mph</th>\n",
       "      <th>p80_mph</th>\n",
       "      <th>y_err</th>\n",
       "      <th>y_err2</th>\n",
       "    </tr>\n",
       "  </thead>\n",
       "  <tbody>\n",
       "    <tr>\n",
       "      <th>0</th>\n",
       "      <td>AM Peak</td>\n",
       "      <td>13.35</td>\n",
       "      <td>10.74</td>\n",
       "      <td>16.61</td>\n",
       "      <td>2.61</td>\n",
       "      <td>3.26</td>\n",
       "    </tr>\n",
       "    <tr>\n",
       "      <th>1</th>\n",
       "      <td>Early AM</td>\n",
       "      <td>15.37</td>\n",
       "      <td>12.85</td>\n",
       "      <td>18.33</td>\n",
       "      <td>2.52</td>\n",
       "      <td>2.96</td>\n",
       "    </tr>\n",
       "    <tr>\n",
       "      <th>2</th>\n",
       "      <td>Evening</td>\n",
       "      <td>17.17</td>\n",
       "      <td>15.01</td>\n",
       "      <td>19.62</td>\n",
       "      <td>2.16</td>\n",
       "      <td>2.45</td>\n",
       "    </tr>\n",
       "    <tr>\n",
       "      <th>3</th>\n",
       "      <td>Midday</td>\n",
       "      <td>12.78</td>\n",
       "      <td>9.96</td>\n",
       "      <td>16.41</td>\n",
       "      <td>2.82</td>\n",
       "      <td>3.63</td>\n",
       "    </tr>\n",
       "    <tr>\n",
       "      <th>4</th>\n",
       "      <td>Owl</td>\n",
       "      <td>19.25</td>\n",
       "      <td>17.13</td>\n",
       "      <td>21.24</td>\n",
       "      <td>2.12</td>\n",
       "      <td>1.99</td>\n",
       "    </tr>\n",
       "    <tr>\n",
       "      <th>5</th>\n",
       "      <td>PM Peak</td>\n",
       "      <td>12.78</td>\n",
       "      <td>10.15</td>\n",
       "      <td>16.37</td>\n",
       "      <td>2.63</td>\n",
       "      <td>3.59</td>\n",
       "    </tr>\n",
       "  </tbody>\n",
       "</table>\n",
       "</div>"
      ],
      "text/plain": [
       "  time_of_day  p50_mph  p20_mph  p80_mph  y_err  y_err2\n",
       "0     AM Peak    13.35    10.74    16.61   2.61    3.26\n",
       "1    Early AM    15.37    12.85    18.33   2.52    2.96\n",
       "2     Evening    17.17    15.01    19.62   2.16    2.45\n",
       "3      Midday    12.78     9.96    16.41   2.82    3.63\n",
       "4         Owl    19.25    17.13    21.24   2.12    1.99\n",
       "5     PM Peak    12.78    10.15    16.37   2.63    3.59"
      ]
     },
     "execution_count": 51,
     "metadata": {},
     "output_type": "execute_result"
    }
   ],
   "source": [
    "df"
   ]
  },
  {
   "cell_type": "code",
   "execution_count": 52,
   "id": "52e9a61d-d9bc-474d-a6ed-2120099d0592",
   "metadata": {},
   "outputs": [
    {
     "data": {
      "text/plain": [
       "0   -2.61\n",
       "1   -2.52\n",
       "2   -2.16\n",
       "3   -2.82\n",
       "4   -2.12\n",
       "5   -2.63\n",
       "dtype: float64"
      ]
     },
     "execution_count": 52,
     "metadata": {},
     "output_type": "execute_result"
    }
   ],
   "source": [
    "-(df['p50_mph'] - df['p20_mph'])"
   ]
  },
  {
   "cell_type": "code",
   "execution_count": 68,
   "id": "bba0a5ba-a95a-4923-b04f-800b74e63a98",
   "metadata": {},
   "outputs": [
    {
     "data": {
      "text/plain": [
       "branca.colormap.StepColormap"
      ]
     },
     "execution_count": 68,
     "metadata": {},
     "output_type": "execute_result"
    }
   ],
   "source": [
    "type(cmap)"
   ]
  },
  {
   "cell_type": "code",
   "execution_count": 70,
   "id": "64083c0e-4283-4554-ae8a-3e4e8a34ce21",
   "metadata": {},
   "outputs": [
    {
     "data": {
      "text/plain": [
       "['__call__',\n",
       " '__class__',\n",
       " '__delattr__',\n",
       " '__dict__',\n",
       " '__dir__',\n",
       " '__doc__',\n",
       " '__eq__',\n",
       " '__format__',\n",
       " '__ge__',\n",
       " '__getattribute__',\n",
       " '__gt__',\n",
       " '__hash__',\n",
       " '__init__',\n",
       " '__init_subclass__',\n",
       " '__le__',\n",
       " '__lt__',\n",
       " '__module__',\n",
       " '__ne__',\n",
       " '__new__',\n",
       " '__reduce__',\n",
       " '__reduce_ex__',\n",
       " '__repr__',\n",
       " '__setattr__',\n",
       " '__sizeof__',\n",
       " '__str__',\n",
       " '__subclasshook__',\n",
       " '__weakref__',\n",
       " '_children',\n",
       " '_env',\n",
       " '_get_self_bounds',\n",
       " '_id',\n",
       " '_name',\n",
       " '_parent',\n",
       " '_repr_html_',\n",
       " '_template',\n",
       " 'add_child',\n",
       " 'add_children',\n",
       " 'add_to',\n",
       " 'caption',\n",
       " 'colors',\n",
       " 'get_bounds',\n",
       " 'get_name',\n",
       " 'get_root',\n",
       " 'index',\n",
       " 'render',\n",
       " 'rgb_bytes_tuple',\n",
       " 'rgb_hex_str',\n",
       " 'rgba_bytes_tuple',\n",
       " 'rgba_floats_tuple',\n",
       " 'rgba_hex_str',\n",
       " 'save',\n",
       " 'scale',\n",
       " 'to_dict',\n",
       " 'to_json',\n",
       " 'to_linear',\n",
       " 'vmax',\n",
       " 'vmin']"
      ]
     },
     "execution_count": 70,
     "metadata": {},
     "output_type": "execute_result"
    }
   ],
   "source": [
    "dir(cmap)"
   ]
  },
  {
   "cell_type": "code",
   "execution_count": 71,
   "id": "df62d501-9ef1-4203-a881-4e381651590e",
   "metadata": {},
   "outputs": [
    {
     "data": {
      "text/plain": [
       "[[None, None], [None, None]]"
      ]
     },
     "execution_count": 71,
     "metadata": {},
     "output_type": "execute_result"
    }
   ],
   "source": [
    "cmap.get_bounds()"
   ]
  },
  {
   "cell_type": "code",
   "execution_count": 75,
   "id": "7c9501e3-24e7-4677-beaf-fa138d6a0837",
   "metadata": {},
   "outputs": [
    {
     "data": {
      "text/plain": [
       "['__call__',\n",
       " '__class__',\n",
       " '__delattr__',\n",
       " '__dict__',\n",
       " '__dir__',\n",
       " '__doc__',\n",
       " '__eq__',\n",
       " '__format__',\n",
       " '__ge__',\n",
       " '__getattribute__',\n",
       " '__gt__',\n",
       " '__hash__',\n",
       " '__init__',\n",
       " '__init_subclass__',\n",
       " '__le__',\n",
       " '__lt__',\n",
       " '__module__',\n",
       " '__ne__',\n",
       " '__new__',\n",
       " '__reduce__',\n",
       " '__reduce_ex__',\n",
       " '__repr__',\n",
       " '__setattr__',\n",
       " '__sizeof__',\n",
       " '__str__',\n",
       " '__subclasshook__',\n",
       " '__weakref__',\n",
       " '_children',\n",
       " '_env',\n",
       " '_get_self_bounds',\n",
       " '_id',\n",
       " '_name',\n",
       " '_parent',\n",
       " '_repr_html_',\n",
       " '_template',\n",
       " 'add_child',\n",
       " 'add_children',\n",
       " 'add_to',\n",
       " 'caption',\n",
       " 'colors',\n",
       " 'get_bounds',\n",
       " 'get_name',\n",
       " 'get_root',\n",
       " 'index',\n",
       " 'render',\n",
       " 'rgb_bytes_tuple',\n",
       " 'rgb_hex_str',\n",
       " 'rgba_bytes_tuple',\n",
       " 'rgba_floats_tuple',\n",
       " 'rgba_hex_str',\n",
       " 'save',\n",
       " 'scale',\n",
       " 'to_dict',\n",
       " 'to_json',\n",
       " 'to_linear',\n",
       " 'vmax',\n",
       " 'vmin']"
      ]
     },
     "execution_count": 75,
     "metadata": {},
     "output_type": "execute_result"
    }
   ],
   "source": [
    "dir(cmap.scale())"
   ]
  },
  {
   "cell_type": "code",
   "execution_count": 69,
   "id": "6d2ccae7-a8b6-4e44-9095-17e4e416ea29",
   "metadata": {},
   "outputs": [
    {
     "ename": "SchemaValidationError",
     "evalue": "`Scale` has no parameter named 'children'\n\nExisting parameter names are:\nalign      domain      exponent       paddingOuter   round    \nbase       domainMax   interpolate    range          scheme   \nbins       domainMid   nice           rangeMax       type     \nclamp      domainMin   padding        rangeMin       zero     \nconstant   domainRaw   paddingInner   reverse                 \n\nSee the help for `Scale` to read the full description of these parameters",
     "output_type": "error",
     "traceback": [
      "\u001b[0;31m---------------------------------------------------------------------------\u001b[0m",
      "\u001b[0;31mSchemaValidationError\u001b[0m                     Traceback (most recent call last)",
      "File \u001b[0;32m/opt/conda/lib/python3.9/site-packages/altair/vegalite/v5/api.py:961\u001b[0m, in \u001b[0;36mTopLevelMixin.to_dict\u001b[0;34m(self, validate, format, ignore, context)\u001b[0m\n\u001b[1;32m    956\u001b[0m context[\u001b[38;5;124m\"\u001b[39m\u001b[38;5;124mtop_level\u001b[39m\u001b[38;5;124m\"\u001b[39m] \u001b[38;5;241m=\u001b[39m \u001b[38;5;28;01mFalse\u001b[39;00m\n\u001b[1;32m    958\u001b[0m \u001b[38;5;66;03m# TopLevelMixin instance does not necessarily have to_dict defined\u001b[39;00m\n\u001b[1;32m    959\u001b[0m \u001b[38;5;66;03m# but due to how Altair is set up this should hold.\u001b[39;00m\n\u001b[1;32m    960\u001b[0m \u001b[38;5;66;03m# Too complex to type hint right now\u001b[39;00m\n\u001b[0;32m--> 961\u001b[0m vegalite_spec \u001b[38;5;241m=\u001b[39m \u001b[38;5;28;43msuper\u001b[39;49m\u001b[43m(\u001b[49m\u001b[43mTopLevelMixin\u001b[49m\u001b[43m,\u001b[49m\u001b[43m \u001b[49m\u001b[43mcopy\u001b[49m\u001b[43m)\u001b[49m\u001b[38;5;241;43m.\u001b[39;49m\u001b[43mto_dict\u001b[49m\u001b[43m(\u001b[49m\u001b[43m  \u001b[49m\u001b[38;5;66;43;03m# type: ignore[misc]\u001b[39;49;00m\n\u001b[1;32m    962\u001b[0m \u001b[43m    \u001b[49m\u001b[43mvalidate\u001b[49m\u001b[38;5;241;43m=\u001b[39;49m\u001b[43mvalidate\u001b[49m\u001b[43m,\u001b[49m\u001b[43m \u001b[49m\u001b[43mignore\u001b[49m\u001b[38;5;241;43m=\u001b[39;49m\u001b[43mignore\u001b[49m\u001b[43m,\u001b[49m\u001b[43m \u001b[49m\u001b[43mcontext\u001b[49m\u001b[38;5;241;43m=\u001b[39;49m\u001b[38;5;28;43mdict\u001b[39;49m\u001b[43m(\u001b[49m\u001b[43mcontext\u001b[49m\u001b[43m,\u001b[49m\u001b[43m \u001b[49m\u001b[43mpre_transform\u001b[49m\u001b[38;5;241;43m=\u001b[39;49m\u001b[38;5;28;43;01mFalse\u001b[39;49;00m\u001b[43m)\u001b[49m\n\u001b[1;32m    963\u001b[0m \u001b[43m\u001b[49m\u001b[43m)\u001b[49m\n\u001b[1;32m    965\u001b[0m \u001b[38;5;66;03m# TODO: following entries are added after validation. Should they be validated?\u001b[39;00m\n\u001b[1;32m    966\u001b[0m \u001b[38;5;28;01mif\u001b[39;00m is_top_level:\n\u001b[1;32m    967\u001b[0m     \u001b[38;5;66;03m# since this is top-level we add $schema if it's missing\u001b[39;00m\n",
      "File \u001b[0;32m/opt/conda/lib/python3.9/site-packages/altair/utils/schemapi.py:978\u001b[0m, in \u001b[0;36mSchemaBase.to_dict\u001b[0;34m(self, validate, ignore, context)\u001b[0m\n\u001b[1;32m    971\u001b[0m         \u001b[38;5;28mself\u001b[39m\u001b[38;5;241m.\u001b[39mvalidate(result)\n\u001b[1;32m    972\u001b[0m     \u001b[38;5;28;01mexcept\u001b[39;00m jsonschema\u001b[38;5;241m.\u001b[39mValidationError \u001b[38;5;28;01mas\u001b[39;00m err:\n\u001b[1;32m    973\u001b[0m         \u001b[38;5;66;03m# We do not raise `from err` as else the resulting\u001b[39;00m\n\u001b[1;32m    974\u001b[0m         \u001b[38;5;66;03m# traceback is very long as it contains part\u001b[39;00m\n\u001b[1;32m    975\u001b[0m         \u001b[38;5;66;03m# of the Vega-Lite schema. It would also first\u001b[39;00m\n\u001b[1;32m    976\u001b[0m         \u001b[38;5;66;03m# show the less helpful ValidationError instead of\u001b[39;00m\n\u001b[1;32m    977\u001b[0m         \u001b[38;5;66;03m# the more user friendly SchemaValidationError\u001b[39;00m\n\u001b[0;32m--> 978\u001b[0m         \u001b[38;5;28;01mraise\u001b[39;00m SchemaValidationError(\u001b[38;5;28mself\u001b[39m, err) \u001b[38;5;28;01mfrom\u001b[39;00m \u001b[38;5;28;01mNone\u001b[39;00m\n\u001b[1;32m    979\u001b[0m \u001b[38;5;28;01mreturn\u001b[39;00m result\n",
      "\u001b[0;31mSchemaValidationError\u001b[0m: `Scale` has no parameter named 'children'\n\nExisting parameter names are:\nalign      domain      exponent       paddingOuter   round    \nbase       domainMax   interpolate    range          scheme   \nbins       domainMid   nice           rangeMax       type     \nclamp      domainMin   padding        rangeMin       zero     \nconstant   domainRaw   paddingInner   reverse                 \n\nSee the help for `Scale` to read the full description of these parameters"
     ]
    },
    {
     "data": {
      "text/plain": [
       "alt.LayerChart(...)"
      ]
     },
     "execution_count": 69,
     "metadata": {},
     "output_type": "execute_result"
    }
   ],
   "source": [
    "df = speedmap_segs[['time_of_day', 'p50_mph', 'p20_mph', 'p80_mph']]\n",
    "df = df >> group_by(_.time_of_day) >> summarize(p50_mph = _.p50_mph.quantile(.5),\n",
    "                                               p20_mph = _.p20_mph.quantile(.5),\n",
    "                                               p80_mph = _.p80_mph.quantile(.5),)\n",
    "df['y_err'] = -(df['p50_mph'] - df['p20_mph'])\n",
    "df['y_err2'] = df['p80_mph'] - df['p50_mph']\n",
    "\n",
    "error_bars = alt.Chart(df).mark_errorbar(thickness=5,\n",
    "                                         color='gray',\n",
    "                                        opacity=.8).encode(\n",
    "    # y = alt.Y(\"p50_mph:Q\").scale(zero=False),\n",
    "    y = alt.Y(\"p50_mph:Q\").scale(zero=False),\n",
    "    yError=(\"y_err:Q\"),\n",
    "    yError2=(\"y_err2:Q\"),\n",
    "    x = alt.X(\"time_of_day:N\", sort=['Early AM', 'AM Peak', 'Midday', 'PM Peak', 'Evening', 'Owl']),\n",
    ")\n",
    "\n",
    "points = alt.Chart(df).mark_point(\n",
    "    filled=True,\n",
    "    # color=\"black\",\n",
    ").encode(\n",
    "    alt.Y(\"p50_mph:Q\"),\n",
    "    alt.X(\"time_of_day:N\", sort=['Early AM', 'AM Peak', 'Midday', 'PM Peak', 'Evening', 'Owl']),\n",
    "    color=alt.Color('p50_mph', scale=cmap)\n",
    ")\n",
    "\n",
    "error_bars + points\n",
    "# error_bars"
   ]
  },
  {
   "cell_type": "code",
   "execution_count": 22,
   "id": "551c030e-6f02-49d8-92f2-1d283fd3bc94",
   "metadata": {},
   "outputs": [],
   "source": [
    "source = pd.DataFrame({\n",
    "    \"yield_error\": [7.5522, 6.9775, 3.9167, 11.9732],\n",
    "    \"yield_center\": [32.4, 30.96667, 33.966665, 30.45],\n",
    "    \"variety\": [\"Glabron\", \"Manchuria\", \"No. 457\", \"No. 462\"],\n",
    "})\n",
    "\n",
    "bar = alt.Chart(source).mark_errorbar().encode(\n",
    "    x=alt.X(\"yield_center:Q\").scale(zero=False).title(\"yield\"),\n",
    "    xError=(\"yield_error:Q\"),\n",
    "    y=alt.Y(\"variety:N\"),\n",
    ")"
   ]
  },
  {
   "cell_type": "code",
   "execution_count": 23,
   "id": "8dd67db3-eeb8-4b0b-ae2e-d5e3a96f1de6",
   "metadata": {},
   "outputs": [
    {
     "data": {
      "text/html": [
       "\n",
       "<style>\n",
       "  #altair-viz-e6b9c902841c49dea21a1fc89112e2aa.vega-embed {\n",
       "    width: 100%;\n",
       "    display: flex;\n",
       "  }\n",
       "\n",
       "  #altair-viz-e6b9c902841c49dea21a1fc89112e2aa.vega-embed details,\n",
       "  #altair-viz-e6b9c902841c49dea21a1fc89112e2aa.vega-embed details summary {\n",
       "    position: relative;\n",
       "  }\n",
       "</style>\n",
       "<div id=\"altair-viz-e6b9c902841c49dea21a1fc89112e2aa\"></div>\n",
       "<script type=\"text/javascript\">\n",
       "  var VEGA_DEBUG = (typeof VEGA_DEBUG == \"undefined\") ? {} : VEGA_DEBUG;\n",
       "  (function(spec, embedOpt){\n",
       "    let outputDiv = document.currentScript.previousElementSibling;\n",
       "    if (outputDiv.id !== \"altair-viz-e6b9c902841c49dea21a1fc89112e2aa\") {\n",
       "      outputDiv = document.getElementById(\"altair-viz-e6b9c902841c49dea21a1fc89112e2aa\");\n",
       "    }\n",
       "    const paths = {\n",
       "      \"vega\": \"https://cdn.jsdelivr.net/npm/vega@5?noext\",\n",
       "      \"vega-lib\": \"https://cdn.jsdelivr.net/npm/vega-lib?noext\",\n",
       "      \"vega-lite\": \"https://cdn.jsdelivr.net/npm/vega-lite@5.17.0?noext\",\n",
       "      \"vega-embed\": \"https://cdn.jsdelivr.net/npm/vega-embed@6?noext\",\n",
       "    };\n",
       "\n",
       "    function maybeLoadScript(lib, version) {\n",
       "      var key = `${lib.replace(\"-\", \"\")}_version`;\n",
       "      return (VEGA_DEBUG[key] == version) ?\n",
       "        Promise.resolve(paths[lib]) :\n",
       "        new Promise(function(resolve, reject) {\n",
       "          var s = document.createElement('script');\n",
       "          document.getElementsByTagName(\"head\")[0].appendChild(s);\n",
       "          s.async = true;\n",
       "          s.onload = () => {\n",
       "            VEGA_DEBUG[key] = version;\n",
       "            return resolve(paths[lib]);\n",
       "          };\n",
       "          s.onerror = () => reject(`Error loading script: ${paths[lib]}`);\n",
       "          s.src = paths[lib];\n",
       "        });\n",
       "    }\n",
       "\n",
       "    function showError(err) {\n",
       "      outputDiv.innerHTML = `<div class=\"error\" style=\"color:red;\">${err}</div>`;\n",
       "      throw err;\n",
       "    }\n",
       "\n",
       "    function displayChart(vegaEmbed) {\n",
       "      vegaEmbed(outputDiv, spec, embedOpt)\n",
       "        .catch(err => showError(`Javascript Error: ${err.message}<br>This usually means there's a typo in your chart specification. See the javascript console for the full traceback.`));\n",
       "    }\n",
       "\n",
       "    if(typeof define === \"function\" && define.amd) {\n",
       "      requirejs.config({paths});\n",
       "      require([\"vega-embed\"], displayChart, err => showError(`Error loading script: ${err.message}`));\n",
       "    } else {\n",
       "      maybeLoadScript(\"vega\", \"5\")\n",
       "        .then(() => maybeLoadScript(\"vega-lite\", \"5.17.0\"))\n",
       "        .then(() => maybeLoadScript(\"vega-embed\", \"6\"))\n",
       "        .catch(showError)\n",
       "        .then(() => displayChart(vegaEmbed));\n",
       "    }\n",
       "  })({\"config\": {\"view\": {\"continuousWidth\": 300, \"continuousHeight\": 300}}, \"data\": {\"name\": \"data-a00e5f1dfea67e155330979f374f594c\"}, \"mark\": {\"type\": \"errorbar\"}, \"encoding\": {\"x\": {\"field\": \"yield_center\", \"scale\": {\"zero\": false}, \"title\": \"yield\", \"type\": \"quantitative\"}, \"xError\": {\"field\": \"yield_error\"}, \"y\": {\"field\": \"variety\", \"type\": \"nominal\"}}, \"$schema\": \"https://vega.github.io/schema/vega-lite/v5.17.0.json\", \"datasets\": {\"data-a00e5f1dfea67e155330979f374f594c\": [{\"yield_error\": 7.5522, \"yield_center\": 32.4, \"variety\": \"Glabron\"}, {\"yield_error\": 6.9775, \"yield_center\": 30.96667, \"variety\": \"Manchuria\"}, {\"yield_error\": 3.9167, \"yield_center\": 33.966665, \"variety\": \"No. 457\"}, {\"yield_error\": 11.9732, \"yield_center\": 30.45, \"variety\": \"No. 462\"}]}}, {\"mode\": \"vega-lite\"});\n",
       "</script>"
      ],
      "text/plain": [
       "alt.Chart(...)"
      ]
     },
     "execution_count": 23,
     "metadata": {},
     "output_type": "execute_result"
    }
   ],
   "source": [
    "bar"
   ]
  },
  {
   "cell_type": "code",
   "execution_count": null,
   "id": "737ad30b-cf8b-403a-ba37-4a77e00cfff1",
   "metadata": {},
   "outputs": [],
   "source": [
    "## TODO get a better chart -- p20 - 50 - 80 seg speed?\n",
    "# try:\n",
    "#     rt_day.set_filter(start_time='06:00', end_time='22:00')\n",
    "#     display(Markdown(f'Median Trip Speed by Hour of Day{rt_day.filter_formatted}'))\n",
    "\n",
    "#     rt_day.chart_speeds(no_title=True);\n",
    "# except:\n",
    "#     display(Markdown(f'Chart not available for this agency'))\n",
    "#     pass"
   ]
  }
 ],
 "metadata": {
  "kernelspec": {
   "display_name": "Python 3 (ipykernel)",
   "language": "python",
   "name": "python3"
  },
  "language_info": {
   "codemirror_mode": {
    "name": "ipython",
    "version": 3
   },
   "file_extension": ".py",
   "mimetype": "text/x-python",
   "name": "python",
   "nbconvert_exporter": "python",
   "pygments_lexer": "ipython3",
   "version": "3.9.13"
  },
  "widgets": {
   "application/vnd.jupyter.widget-state+json": {
    "state": {},
    "version_major": 2,
    "version_minor": 0
   }
  }
 },
 "nbformat": 4,
 "nbformat_minor": 5
}
