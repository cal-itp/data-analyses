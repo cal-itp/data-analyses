{
 "cells": [
  {
   "cell_type": "code",
   "execution_count": 1,
   "id": "46898b5c-b5cc-4096-ab68-8c3e42fab870",
   "metadata": {},
   "outputs": [],
   "source": [
    "%%capture\n",
    "import warnings\n",
    "warnings.filterwarnings('ignore')\n",
    "\n",
    "import calitp_data_analysis.magics\n",
    "\n",
    "from rt_analysis import rt_filter_map_plot\n",
    "import build_speedmaps_index\n",
    "\n",
    "from IPython.display import display, Markdown\n",
    "import pandas as pd\n",
    "import geopandas as gpd\n",
    "from siuba import *\n",
    "\n",
    "from segment_speed_utils.project_vars import (\n",
    "    COMPILED_CACHED_VIEWS,\n",
    "    PROJECT_CRS,\n",
    "    SEGMENT_GCS,\n",
    ")\n",
    "\n",
    "import shared_utils"
   ]
  },
  {
   "cell_type": "code",
   "execution_count": 29,
   "id": "9f15ed6a-5ab7-4f57-9695-3f762781b74c",
   "metadata": {
    "tags": [
     "parameters"
    ]
   },
   "outputs": [],
   "source": [
    "## parameters cell\n",
    "itp_id = 4"
   ]
  },
  {
   "cell_type": "code",
   "execution_count": 30,
   "id": "a639fd84-29ca-4678-b568-2b1022701e14",
   "metadata": {},
   "outputs": [],
   "source": [
    "analysis_date = build_speedmaps_index.ANALYSIS_DATE\n",
    "import datetime as dt\n",
    "# if itp_id == 293:\n",
    "#     analysis_date = dt.date(2023, 9, 13)"
   ]
  },
  {
   "cell_type": "code",
   "execution_count": 31,
   "id": "d0cdaf1a-2c6d-452a-a5cc-210aa2fac2cb",
   "metadata": {},
   "outputs": [],
   "source": [
    "analysis_date = shared_utils.rt_dates.DATES['aug2024']"
   ]
  },
  {
   "cell_type": "code",
   "execution_count": 32,
   "id": "eea40f4b-c378-4b70-a80b-bbe79f8441bf",
   "metadata": {
    "tags": []
   },
   "outputs": [],
   "source": [
    "speedmap_index = pd.read_parquet(f'_rt_progress_{analysis_date}.parquet') >> filter(_.organization_itp_id == itp_id)\n",
    "# speedmap_index = pd.read_parquet(f'_rt_progress_{analysis_date}.parquet') >> filter(_.organization_name.str.contains('Torr'))"
   ]
  },
  {
   "cell_type": "code",
   "execution_count": 33,
   "id": "c54b78fd-de92-45d9-b54d-49c5b88945c7",
   "metadata": {},
   "outputs": [
    {
     "data": {
      "text/html": [
       "<div>\n",
       "<style scoped>\n",
       "    .dataframe tbody tr th:only-of-type {\n",
       "        vertical-align: middle;\n",
       "    }\n",
       "\n",
       "    .dataframe tbody tr th {\n",
       "        vertical-align: top;\n",
       "    }\n",
       "\n",
       "    .dataframe thead th {\n",
       "        text-align: right;\n",
       "    }\n",
       "</style>\n",
       "<table border=\"1\" class=\"dataframe\">\n",
       "  <thead>\n",
       "    <tr style=\"text-align: right;\">\n",
       "      <th></th>\n",
       "      <th>organization_name</th>\n",
       "      <th>organization_itp_id</th>\n",
       "      <th>organization_source_record_id</th>\n",
       "      <th>caltrans_district</th>\n",
       "      <th>_is_current</th>\n",
       "      <th>analysis_date</th>\n",
       "      <th>schedule_gtfs_dataset_key</th>\n",
       "      <th>status</th>\n",
       "    </tr>\n",
       "  </thead>\n",
       "  <tbody>\n",
       "    <tr>\n",
       "      <th>89</th>\n",
       "      <td>Alameda-Contra Costa Transit District</td>\n",
       "      <td>4</td>\n",
       "      <td>recOZgevYf7Jimm9L</td>\n",
       "      <td>04 - Oakland</td>\n",
       "      <td>True</td>\n",
       "      <td>2024-08-14</td>\n",
       "      <td>c499f905e33929a641f083dad55c521e</td>\n",
       "      <td>speedmap_segs_available</td>\n",
       "    </tr>\n",
       "  </tbody>\n",
       "</table>\n",
       "</div>"
      ],
      "text/plain": [
       "                        organization_name  organization_itp_id  \\\n",
       "89  Alameda-Contra Costa Transit District                    4   \n",
       "\n",
       "   organization_source_record_id caltrans_district  _is_current analysis_date  \\\n",
       "89             recOZgevYf7Jimm9L      04 - Oakland         True    2024-08-14   \n",
       "\n",
       "           schedule_gtfs_dataset_key                   status  \n",
       "89  c499f905e33929a641f083dad55c521e  speedmap_segs_available  "
      ]
     },
     "execution_count": 33,
     "metadata": {},
     "output_type": "execute_result"
    }
   ],
   "source": [
    "speedmap_index"
   ]
  },
  {
   "cell_type": "code",
   "execution_count": 34,
   "id": "76edaa5c-039e-419a-ade6-15ebdc018b3c",
   "metadata": {},
   "outputs": [
    {
     "data": {
      "text/plain": [
       "'gs://calitp-analytics-data/data-analyses/rt_segment_speeds/'"
      ]
     },
     "execution_count": 34,
     "metadata": {},
     "output_type": "execute_result"
    }
   ],
   "source": [
    "SEGMENT_GCS"
   ]
  },
  {
   "cell_type": "code",
   "execution_count": 35,
   "id": "28317d9e-9f9e-493c-889e-78b8099004e5",
   "metadata": {},
   "outputs": [],
   "source": [
    "# speedmap_segs = gpd.read_parquet(f'{SEGMENT_GCS}segment_options/speedmap_segments_{analysis_date}.parquet')` #  non-aggregated"
   ]
  },
  {
   "cell_type": "code",
   "execution_count": 36,
   "id": "9302c0ad-1201-4c5a-8267-ec52719cf777",
   "metadata": {},
   "outputs": [],
   "source": [
    "speedmap_segs = gpd.read_parquet(f'{SEGMENT_GCS}rollup_singleday/speeds_shape_speedmap_segments_{analysis_date}.parquet') #  aggregated"
   ]
  },
  {
   "cell_type": "code",
   "execution_count": 37,
   "id": "19dbeff0-faf6-43e3-9edf-6e68dfeceeac",
   "metadata": {},
   "outputs": [
    {
     "data": {
      "text/plain": [
       "Index(['schedule_gtfs_dataset_key', 'shape_array_key', 'shape_id', 'stop_pair',\n",
       "       'stop_pair_name', 'segment_id', 'time_period', 'p50_mph', 'n_trips',\n",
       "       'p20_mph', 'p80_mph', 'name', 'caltrans_district',\n",
       "       'organization_source_record_id', 'organization_name', 'base64_url',\n",
       "       'geometry'],\n",
       "      dtype='object')"
      ]
     },
     "execution_count": 37,
     "metadata": {},
     "output_type": "execute_result"
    }
   ],
   "source": [
    "speedmap_segs.columns"
   ]
  },
  {
   "cell_type": "code",
   "execution_count": 38,
   "id": "9f3c4c93-a5f5-40d7-9315-63e4fecbd738",
   "metadata": {},
   "outputs": [],
   "source": [
    "speedmap_segs = speedmap_segs >> filter(_.schedule_gtfs_dataset_key == speedmap_index.schedule_gtfs_dataset_key.iloc[0])"
   ]
  },
  {
   "cell_type": "code",
   "execution_count": 39,
   "id": "33038798-16a0-46b5-a50e-2609c5729534",
   "metadata": {},
   "outputs": [
    {
     "data": {
      "text/html": [
       "<div>\n",
       "<style scoped>\n",
       "    .dataframe tbody tr th:only-of-type {\n",
       "        vertical-align: middle;\n",
       "    }\n",
       "\n",
       "    .dataframe tbody tr th {\n",
       "        vertical-align: top;\n",
       "    }\n",
       "\n",
       "    .dataframe thead th {\n",
       "        text-align: right;\n",
       "    }\n",
       "</style>\n",
       "<table border=\"1\" class=\"dataframe\">\n",
       "  <thead>\n",
       "    <tr style=\"text-align: right;\">\n",
       "      <th></th>\n",
       "      <th>schedule_gtfs_dataset_key</th>\n",
       "      <th>shape_array_key</th>\n",
       "      <th>shape_id</th>\n",
       "      <th>stop_pair</th>\n",
       "      <th>stop_pair_name</th>\n",
       "      <th>segment_id</th>\n",
       "      <th>time_period</th>\n",
       "      <th>p50_mph</th>\n",
       "      <th>n_trips</th>\n",
       "      <th>p20_mph</th>\n",
       "      <th>p80_mph</th>\n",
       "      <th>name</th>\n",
       "      <th>caltrans_district</th>\n",
       "      <th>organization_source_record_id</th>\n",
       "      <th>organization_name</th>\n",
       "      <th>base64_url</th>\n",
       "      <th>geometry</th>\n",
       "    </tr>\n",
       "  </thead>\n",
       "  <tbody>\n",
       "    <tr>\n",
       "      <th>319937</th>\n",
       "      <td>c499f905e33929a641f083dad55c521e</td>\n",
       "      <td>c2251ab196e84946d73773d8a60437cb</td>\n",
       "      <td>shp-217-53</td>\n",
       "      <td>57211__53699</td>\n",
       "      <td>Walnut Av &amp; Guardino Dr__Walnut Av &amp; Gallaudet Dr</td>\n",
       "      <td>57211-53699-1</td>\n",
       "      <td>offpeak</td>\n",
       "      <td>21.17</td>\n",
       "      <td>13</td>\n",
       "      <td>17.13</td>\n",
       "      <td>27.51</td>\n",
       "      <td>Bay Area 511 AC Transit Schedule</td>\n",
       "      <td>04 - Oakland</td>\n",
       "      <td>recOZgevYf7Jimm9L</td>\n",
       "      <td>Alameda-Contra Costa Transit District</td>\n",
       "      <td>aHR0cHM6Ly9hcGkuNTExLm9yZy90cmFuc2l0L2RhdGFmZW...</td>\n",
       "      <td>LINESTRING (-121.97141 37.55901, -121.97125 37...</td>\n",
       "    </tr>\n",
       "    <tr>\n",
       "      <th>319938</th>\n",
       "      <td>c499f905e33929a641f083dad55c521e</td>\n",
       "      <td>c2251ab196e84946d73773d8a60437cb</td>\n",
       "      <td>shp-217-53</td>\n",
       "      <td>57211__53699</td>\n",
       "      <td>Walnut Av &amp; Guardino Dr__Walnut Av &amp; Gallaudet Dr</td>\n",
       "      <td>57211-53699-1</td>\n",
       "      <td>peak</td>\n",
       "      <td>20.13</td>\n",
       "      <td>12</td>\n",
       "      <td>15.24</td>\n",
       "      <td>25.49</td>\n",
       "      <td>Bay Area 511 AC Transit Schedule</td>\n",
       "      <td>04 - Oakland</td>\n",
       "      <td>recOZgevYf7Jimm9L</td>\n",
       "      <td>Alameda-Contra Costa Transit District</td>\n",
       "      <td>aHR0cHM6Ly9hcGkuNTExLm9yZy90cmFuc2l0L2RhdGFmZW...</td>\n",
       "      <td>LINESTRING (-121.97141 37.55901, -121.97125 37...</td>\n",
       "    </tr>\n",
       "    <tr>\n",
       "      <th>319939</th>\n",
       "      <td>c499f905e33929a641f083dad55c521e</td>\n",
       "      <td>c2251ab196e84946d73773d8a60437cb</td>\n",
       "      <td>shp-217-53</td>\n",
       "      <td>57211__53699</td>\n",
       "      <td>Walnut Av &amp; Guardino Dr__Walnut Av &amp; Gallaudet Dr</td>\n",
       "      <td>57211-53699-1</td>\n",
       "      <td>all_day</td>\n",
       "      <td>20.13</td>\n",
       "      <td>25</td>\n",
       "      <td>16.44</td>\n",
       "      <td>27.51</td>\n",
       "      <td>Bay Area 511 AC Transit Schedule</td>\n",
       "      <td>04 - Oakland</td>\n",
       "      <td>recOZgevYf7Jimm9L</td>\n",
       "      <td>Alameda-Contra Costa Transit District</td>\n",
       "      <td>aHR0cHM6Ly9hcGkuNTExLm9yZy90cmFuc2l0L2RhdGFmZW...</td>\n",
       "      <td>LINESTRING (-121.97141 37.55901, -121.97125 37...</td>\n",
       "    </tr>\n",
       "  </tbody>\n",
       "</table>\n",
       "</div>"
      ],
      "text/plain": [
       "               schedule_gtfs_dataset_key                   shape_array_key  \\\n",
       "319937  c499f905e33929a641f083dad55c521e  c2251ab196e84946d73773d8a60437cb   \n",
       "319938  c499f905e33929a641f083dad55c521e  c2251ab196e84946d73773d8a60437cb   \n",
       "319939  c499f905e33929a641f083dad55c521e  c2251ab196e84946d73773d8a60437cb   \n",
       "\n",
       "          shape_id     stop_pair  \\\n",
       "319937  shp-217-53  57211__53699   \n",
       "319938  shp-217-53  57211__53699   \n",
       "319939  shp-217-53  57211__53699   \n",
       "\n",
       "                                           stop_pair_name     segment_id  \\\n",
       "319937  Walnut Av & Guardino Dr__Walnut Av & Gallaudet Dr  57211-53699-1   \n",
       "319938  Walnut Av & Guardino Dr__Walnut Av & Gallaudet Dr  57211-53699-1   \n",
       "319939  Walnut Av & Guardino Dr__Walnut Av & Gallaudet Dr  57211-53699-1   \n",
       "\n",
       "       time_period  p50_mph  n_trips  p20_mph  p80_mph  \\\n",
       "319937     offpeak    21.17       13    17.13    27.51   \n",
       "319938        peak    20.13       12    15.24    25.49   \n",
       "319939     all_day    20.13       25    16.44    27.51   \n",
       "\n",
       "                                    name caltrans_district  \\\n",
       "319937  Bay Area 511 AC Transit Schedule      04 - Oakland   \n",
       "319938  Bay Area 511 AC Transit Schedule      04 - Oakland   \n",
       "319939  Bay Area 511 AC Transit Schedule      04 - Oakland   \n",
       "\n",
       "       organization_source_record_id                      organization_name  \\\n",
       "319937             recOZgevYf7Jimm9L  Alameda-Contra Costa Transit District   \n",
       "319938             recOZgevYf7Jimm9L  Alameda-Contra Costa Transit District   \n",
       "319939             recOZgevYf7Jimm9L  Alameda-Contra Costa Transit District   \n",
       "\n",
       "                                               base64_url  \\\n",
       "319937  aHR0cHM6Ly9hcGkuNTExLm9yZy90cmFuc2l0L2RhdGFmZW...   \n",
       "319938  aHR0cHM6Ly9hcGkuNTExLm9yZy90cmFuc2l0L2RhdGFmZW...   \n",
       "319939  aHR0cHM6Ly9hcGkuNTExLm9yZy90cmFuc2l0L2RhdGFmZW...   \n",
       "\n",
       "                                                 geometry  \n",
       "319937  LINESTRING (-121.97141 37.55901, -121.97125 37...  \n",
       "319938  LINESTRING (-121.97141 37.55901, -121.97125 37...  \n",
       "319939  LINESTRING (-121.97141 37.55901, -121.97125 37...  "
      ]
     },
     "execution_count": 39,
     "metadata": {},
     "output_type": "execute_result"
    }
   ],
   "source": [
    "speedmap_segs >> head(3)"
   ]
  },
  {
   "cell_type": "code",
   "execution_count": 40,
   "id": "8e89173e-a0ea-4823-bbce-0aa6cdb3f075",
   "metadata": {},
   "outputs": [
    {
     "data": {
      "text/plain": [
       "array(['offpeak', 'peak', 'all_day'], dtype=object)"
      ]
     },
     "execution_count": 40,
     "metadata": {},
     "output_type": "execute_result"
    }
   ],
   "source": [
    "speedmap_segs.time_period.unique()"
   ]
  },
  {
   "cell_type": "code",
   "execution_count": 41,
   "id": "f87584fb-f37d-4869-ba5d-af70a5a0e0e3",
   "metadata": {},
   "outputs": [],
   "source": [
    "peak_test = speedmap_segs >> filter(_.time_period == 'peak')"
   ]
  },
  {
   "cell_type": "code",
   "execution_count": 42,
   "id": "c0080473-a119-45b2-8ebc-9f9913b97ecd",
   "metadata": {},
   "outputs": [],
   "source": [
    "time_periods = [(x, shared_utils.rt_utils.categorize_time_of_day(x)) for x in range(1, 25)]"
   ]
  },
  {
   "cell_type": "code",
   "execution_count": 43,
   "id": "1df01b6f-c29e-4ccc-9b1f-03cda0241bd9",
   "metadata": {},
   "outputs": [
    {
     "data": {
      "text/plain": [
       "[(1, 'Owl'),\n",
       " (2, 'Owl'),\n",
       " (3, 'Owl'),\n",
       " (4, 'Early AM'),\n",
       " (5, 'Early AM'),\n",
       " (6, 'Early AM'),\n",
       " (7, 'AM Peak'),\n",
       " (8, 'AM Peak'),\n",
       " (9, 'AM Peak'),\n",
       " (10, 'Midday'),\n",
       " (11, 'Midday'),\n",
       " (12, 'Midday'),\n",
       " (13, 'Midday'),\n",
       " (14, 'Midday'),\n",
       " (15, 'PM Peak'),\n",
       " (16, 'PM Peak'),\n",
       " (17, 'PM Peak'),\n",
       " (18, 'PM Peak'),\n",
       " (19, 'PM Peak'),\n",
       " (20, 'Evening'),\n",
       " (21, 'Evening'),\n",
       " (22, 'Evening'),\n",
       " (23, 'Evening'),\n",
       " (24, 'Evening')]"
      ]
     },
     "execution_count": 43,
     "metadata": {},
     "output_type": "execute_result"
    }
   ],
   "source": [
    "time_periods"
   ]
  },
  {
   "cell_type": "code",
   "execution_count": 44,
   "id": "590d0196-ab95-47e8-8ce0-e0b93b4da5d4",
   "metadata": {},
   "outputs": [],
   "source": [
    "total_peak = len([x[1] for x in time_periods if 'Peak' in x[1]])"
   ]
  },
  {
   "cell_type": "code",
   "execution_count": 45,
   "id": "c5c469eb-df45-4925-8888-2cc2bfc04cc6",
   "metadata": {},
   "outputs": [
    {
     "data": {
      "text/plain": [
       "8"
      ]
     },
     "execution_count": 45,
     "metadata": {},
     "output_type": "execute_result"
    }
   ],
   "source": [
    "total_peak"
   ]
  },
  {
   "cell_type": "code",
   "execution_count": 46,
   "id": "edc84eda-ce2b-481f-ac78-6b7209cb25f4",
   "metadata": {},
   "outputs": [],
   "source": [
    "def prep_gdf(gdf):\n",
    "    \n",
    "    gdf = gdf.to_crs(calitp_data_analysis.geography_utils.CA_NAD83Albers)\n",
    "    gdf['trips_per_hour'] = gdf.n_trips / total_peak\n",
    "\n",
    "    ## shift to right side of road to display direction\n",
    "    gdf.geometry = gdf.geometry.apply(shared_utils.rt_utils.try_parallel)\n",
    "    gdf = gdf.apply(shared_utils.rt_utils.arrowize_by_frequency, axis=1)\n",
    "\n",
    "    gdf = gdf >> arrange(_.trips_per_hour)\n",
    "\n",
    "    return gdf"
   ]
  },
  {
   "cell_type": "code",
   "execution_count": 47,
   "id": "6af2c7fd-b769-4fbf-bbcf-75080972cc67",
   "metadata": {},
   "outputs": [],
   "source": [
    "peak_test = prep_gdf(peak_test)"
   ]
  },
  {
   "cell_type": "code",
   "execution_count": 48,
   "id": "cedc030e-8d19-4a0b-b3a5-5a3d6c0dce23",
   "metadata": {},
   "outputs": [],
   "source": [
    "cmap = shared_utils.rt_utils.ZERO_THIRTY_COLORSCALE\n",
    "url = shared_utils.rt_utils.SPEEDMAP_LEGEND_URL"
   ]
  },
  {
   "cell_type": "markdown",
   "id": "2e9ae65e-0ed4-4f00-ac8e-27ac85790804",
   "metadata": {},
   "source": [
    "##  adding identifiers for map display"
   ]
  },
  {
   "cell_type": "code",
   "execution_count": 49,
   "id": "87c7db4f-3da9-4ba4-915b-88432a841b39",
   "metadata": {},
   "outputs": [
    {
     "data": {
      "text/html": [
       "<div>\n",
       "<style scoped>\n",
       "    .dataframe tbody tr th:only-of-type {\n",
       "        vertical-align: middle;\n",
       "    }\n",
       "\n",
       "    .dataframe tbody tr th {\n",
       "        vertical-align: top;\n",
       "    }\n",
       "\n",
       "    .dataframe thead th {\n",
       "        text-align: right;\n",
       "    }\n",
       "</style>\n",
       "<table border=\"1\" class=\"dataframe\">\n",
       "  <thead>\n",
       "    <tr style=\"text-align: right;\">\n",
       "      <th></th>\n",
       "      <th>schedule_gtfs_dataset_key</th>\n",
       "      <th>shape_array_key</th>\n",
       "      <th>shape_id</th>\n",
       "      <th>stop_pair</th>\n",
       "      <th>stop_pair_name</th>\n",
       "      <th>segment_id</th>\n",
       "      <th>time_period</th>\n",
       "      <th>p50_mph</th>\n",
       "      <th>n_trips</th>\n",
       "      <th>p20_mph</th>\n",
       "      <th>p80_mph</th>\n",
       "      <th>name</th>\n",
       "      <th>caltrans_district</th>\n",
       "      <th>organization_source_record_id</th>\n",
       "      <th>organization_name</th>\n",
       "      <th>base64_url</th>\n",
       "      <th>geometry</th>\n",
       "      <th>trips_per_hour</th>\n",
       "    </tr>\n",
       "  </thead>\n",
       "  <tbody>\n",
       "    <tr>\n",
       "      <th>320288</th>\n",
       "      <td>c499f905e33929a641f083dad55c521e</td>\n",
       "      <td>27122984e995e1e7423bc2c2997df760</td>\n",
       "      <td>shp-88-10</td>\n",
       "      <td>58888__52643</td>\n",
       "      <td>11th St &amp; Harrison St__11th St &amp; Jackson St</td>\n",
       "      <td>58888-52643-1</td>\n",
       "      <td>peak</td>\n",
       "      <td>9.08</td>\n",
       "      <td>1</td>\n",
       "      <td>9.08</td>\n",
       "      <td>9.08</td>\n",
       "      <td>Bay Area 511 AC Transit Schedule</td>\n",
       "      <td>04 - Oakland</td>\n",
       "      <td>recOZgevYf7Jimm9L</td>\n",
       "      <td>Alameda-Contra Costa Transit District</td>\n",
       "      <td>aHR0cHM6Ly9hcGkuNTExLm9yZy90cmFuc2l0L2RhdGFmZW...</td>\n",
       "      <td>POLYGON ((-199459.554 -21648.451, -199437.653 ...</td>\n",
       "      <td>0.125</td>\n",
       "    </tr>\n",
       "    <tr>\n",
       "      <th>320579</th>\n",
       "      <td>c499f905e33929a641f083dad55c521e</td>\n",
       "      <td>1d260fbbf422c3bbecc4e4a3c30c8445</td>\n",
       "      <td>shp-12-01</td>\n",
       "      <td>50414__56926</td>\n",
       "      <td>2nd St &amp; Oakland Amtrak__Jackson St &amp; 3rd St</td>\n",
       "      <td>50414-56926-1</td>\n",
       "      <td>peak</td>\n",
       "      <td>9.28</td>\n",
       "      <td>1</td>\n",
       "      <td>9.28</td>\n",
       "      <td>9.28</td>\n",
       "      <td>Bay Area 511 AC Transit Schedule</td>\n",
       "      <td>04 - Oakland</td>\n",
       "      <td>recOZgevYf7Jimm9L</td>\n",
       "      <td>Alameda-Contra Costa Transit District</td>\n",
       "      <td>aHR0cHM6Ly9hcGkuNTExLm9yZy90cmFuc2l0L2RhdGFmZW...</td>\n",
       "      <td>POLYGON ((-199632.224 -22363.173, -199606.688 ...</td>\n",
       "      <td>0.125</td>\n",
       "    </tr>\n",
       "  </tbody>\n",
       "</table>\n",
       "</div>"
      ],
      "text/plain": [
       "               schedule_gtfs_dataset_key                   shape_array_key  \\\n",
       "320288  c499f905e33929a641f083dad55c521e  27122984e995e1e7423bc2c2997df760   \n",
       "320579  c499f905e33929a641f083dad55c521e  1d260fbbf422c3bbecc4e4a3c30c8445   \n",
       "\n",
       "         shape_id     stop_pair                                stop_pair_name  \\\n",
       "320288  shp-88-10  58888__52643   11th St & Harrison St__11th St & Jackson St   \n",
       "320579  shp-12-01  50414__56926  2nd St & Oakland Amtrak__Jackson St & 3rd St   \n",
       "\n",
       "           segment_id time_period  p50_mph  n_trips  p20_mph  p80_mph  \\\n",
       "320288  58888-52643-1        peak     9.08        1     9.08     9.08   \n",
       "320579  50414-56926-1        peak     9.28        1     9.28     9.28   \n",
       "\n",
       "                                    name caltrans_district  \\\n",
       "320288  Bay Area 511 AC Transit Schedule      04 - Oakland   \n",
       "320579  Bay Area 511 AC Transit Schedule      04 - Oakland   \n",
       "\n",
       "       organization_source_record_id                      organization_name  \\\n",
       "320288             recOZgevYf7Jimm9L  Alameda-Contra Costa Transit District   \n",
       "320579             recOZgevYf7Jimm9L  Alameda-Contra Costa Transit District   \n",
       "\n",
       "                                               base64_url  \\\n",
       "320288  aHR0cHM6Ly9hcGkuNTExLm9yZy90cmFuc2l0L2RhdGFmZW...   \n",
       "320579  aHR0cHM6Ly9hcGkuNTExLm9yZy90cmFuc2l0L2RhdGFmZW...   \n",
       "\n",
       "                                                 geometry  trips_per_hour  \n",
       "320288  POLYGON ((-199459.554 -21648.451, -199437.653 ...           0.125  \n",
       "320579  POLYGON ((-199632.224 -22363.173, -199606.688 ...           0.125  "
      ]
     },
     "execution_count": 49,
     "metadata": {},
     "output_type": "execute_result"
    }
   ],
   "source": [
    "peak_test >> head(2)"
   ]
  },
  {
   "cell_type": "code",
   "execution_count": 50,
   "id": "88a1bea0-a3ee-4397-b34f-98782b5d0078",
   "metadata": {},
   "outputs": [],
   "source": [
    "# gpd.read_file('300_AM_Peak_speeds.geojson') >> head(3)"
   ]
  },
  {
   "cell_type": "markdown",
   "id": "21725c98-e8cf-47bb-a880-09e67d25f0fe",
   "metadata": {},
   "source": [
    "##  to-do\n",
    "\n",
    "* where does new n_trips come from? should be schedule-based for speedmaps applications...\n",
    "* split am/pm peak\n",
    "* https://github.com/cal-itp/data-analyses/issues/1218 upstream add route identifiers"
   ]
  },
  {
   "cell_type": "code",
   "execution_count": 51,
   "id": "e7c32718-4eb2-4c2b-aba0-cca397aaabf3",
   "metadata": {},
   "outputs": [
    {
     "data": {
      "text/plain": [
       "Index(['schedule_gtfs_dataset_key', 'shape_array_key', 'shape_id', 'stop_pair',\n",
       "       'stop_pair_name', 'segment_id', 'time_period', 'p50_mph', 'n_trips',\n",
       "       'p20_mph', 'p80_mph', 'name', 'caltrans_district',\n",
       "       'organization_source_record_id', 'organization_name', 'base64_url',\n",
       "       'geometry', 'trips_per_hour'],\n",
       "      dtype='object')"
      ]
     },
     "execution_count": 51,
     "metadata": {},
     "output_type": "execute_result"
    }
   ],
   "source": [
    "peak_test.columns"
   ]
  },
  {
   "cell_type": "markdown",
   "id": "4e4c26e4-afca-48e1-b9fc-53393858a414",
   "metadata": {},
   "source": [
    "## export map"
   ]
  },
  {
   "cell_type": "code",
   "execution_count": 52,
   "id": "10a3ff1d-04f8-40b8-ab91-5ef96fde9b6a",
   "metadata": {},
   "outputs": [
    {
     "name": "stdout",
     "output_type": "stream",
     "text": [
      "writing to calitp-map-tiles/testing/4_new.geojson.gz\n"
     ]
    }
   ],
   "source": [
    "speedmap_state = shared_utils.rt_utils.set_state_export(\n",
    "                                    peak_test, filename=f'{itp_id}_new', map_type='speedmap',\n",
    "                                    color_col='p20_mph', cmap=cmap, legend_url=url,\n",
    "                                    cache_seconds=0, map_title=f'Speedmap Segs {analysis_date}')"
   ]
  },
  {
   "cell_type": "code",
   "execution_count": 53,
   "id": "75f2695e-4b80-4d91-8dce-1fa8e347729b",
   "metadata": {},
   "outputs": [
    {
     "data": {
      "text/plain": [
       "{'state_dict': {'name': 'null',\n",
       "  'layers': [{'name': 'Speedmap Segs 2024-08-14',\n",
       "    'url': 'https://storage.googleapis.com/calitp-map-tiles/testing/4_new.geojson.gz',\n",
       "    'properties': {'stroked': False,\n",
       "     'highlight_saturation_multiplier': 0.5,\n",
       "     'tooltip_speed_key': 'p20_mph'},\n",
       "    'type': 'speedmap'}],\n",
       "  'lat_lon': (37.770058496990686, -122.19994575258353),\n",
       "  'zoom': 13,\n",
       "  'legend_url': 'https://storage.googleapis.com/calitp-map-tiles/speeds_legend.svg'},\n",
       " 'spa_link': 'https://embeddable-maps.calitp.org/?state=eyJuYW1lIjogIm51bGwiLCAibGF5ZXJzIjogW3sibmFtZSI6ICJTcGVlZG1hcCBTZWdzIDIwMjQtMDgtMTQiLCAidXJsIjogImh0dHBzOi8vc3RvcmFnZS5nb29nbGVhcGlzLmNvbS9jYWxpdHAtbWFwLXRpbGVzL3Rlc3RpbmcvNF9uZXcuZ2VvanNvbi5neiIsICJwcm9wZXJ0aWVzIjogeyJzdHJva2VkIjogZmFsc2UsICJoaWdobGlnaHRfc2F0dXJhdGlvbl9tdWx0aXBsaWVyIjogMC41LCAidG9vbHRpcF9zcGVlZF9rZXkiOiAicDIwX21waCJ9LCAidHlwZSI6ICJzcGVlZG1hcCJ9XSwgImxhdF9sb24iOiBbMzcuNzcwMDU4NDk2OTkwNjg2LCAtMTIyLjE5OTk0NTc1MjU4MzUzXSwgInpvb20iOiAxMywgImxlZ2VuZF91cmwiOiAiaHR0cHM6Ly9zdG9yYWdlLmdvb2dsZWFwaXMuY29tL2NhbGl0cC1tYXAtdGlsZXMvc3BlZWRzX2xlZ2VuZC5zdmcifQ=='}"
      ]
     },
     "execution_count": 53,
     "metadata": {},
     "output_type": "execute_result"
    }
   ],
   "source": [
    "speedmap_state"
   ]
  },
  {
   "cell_type": "code",
   "execution_count": null,
   "id": "c09e4278-36de-434e-8ba4-5d9ba089ce80",
   "metadata": {},
   "outputs": [],
   "source": []
  }
 ],
 "metadata": {
  "kernelspec": {
   "display_name": "Python 3 (ipykernel)",
   "language": "python",
   "name": "python3"
  },
  "language_info": {
   "codemirror_mode": {
    "name": "ipython",
    "version": 3
   },
   "file_extension": ".py",
   "mimetype": "text/x-python",
   "name": "python",
   "nbconvert_exporter": "python",
   "pygments_lexer": "ipython3",
   "version": "3.9.13"
  },
  "widgets": {
   "application/vnd.jupyter.widget-state+json": {
    "state": {},
    "version_major": 2,
    "version_minor": 0
   }
  }
 },
 "nbformat": 4,
 "nbformat_minor": 5
}
