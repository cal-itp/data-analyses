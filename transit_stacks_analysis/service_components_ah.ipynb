{
 "cells": [
  {
   "cell_type": "markdown",
   "id": "36a3de49-d099-4753-bc30-b6c0f9e41c37",
   "metadata": {},
   "source": [
    "# Service Components\n",
    "\n",
    "***"
   ]
  },
  {
   "cell_type": "code",
   "execution_count": 1,
   "id": "6f1a60ce-e68d-4eac-b20b-a7365152f680",
   "metadata": {},
   "outputs": [
    {
     "name": "stderr",
     "output_type": "stream",
     "text": [
      "/opt/conda/lib/python3.9/site-packages/geopandas/_compat.py:111: UserWarning: The Shapely GEOS version (3.10.2-CAPI-1.16.0) is incompatible with the GEOS version PyGEOS was compiled with (3.10.1-CAPI-1.16.0). Conversions between both will be slow.\n"
     ]
    }
   ],
   "source": [
    "import numpy as np\n",
    "import pandas as pd\n",
    "\n",
    "pd.options.display.max_columns = 50\n",
    "pd.options.display.max_rows = 250\n",
    "pd.set_option(\"display.max_colwidth\", None)\n",
    "pd.options.display.float_format = \"{:.2f}\".format\n",
    "\n",
    "from collections import OrderedDict\n",
    "from itertools import chain\n",
    "from os import path\n",
    "\n",
    "import altair as alt\n",
    "import utils\n",
    "import matplotlib.pyplot as plt\n",
    "import numpy as np\n",
    "import pandas as pd\n",
    "from calitp import *\n",
    "from PIL import Image\n",
    "from shared_utils import altair_utils\n",
    "from siuba import *\n",
    "\n",
    "GCS_FILE_PATH = \"gs://calitp-analytics-data/data-analyses/transit_stacks/\""
   ]
  },
  {
   "cell_type": "code",
   "execution_count": 2,
   "id": "12046775-ba0c-431f-ab0c-fd6bb76783f8",
   "metadata": {},
   "outputs": [],
   "source": [
    "service_components = to_snakecase(\n",
    "    pd.read_csv(f\"{GCS_FILE_PATH}service-components-Market Analysis.csv\")\n",
    ")"
   ]
  },
  {
   "cell_type": "code",
   "execution_count": 3,
   "id": "301893f5-578d-4058-9660-21bb2ff07a4f",
   "metadata": {},
   "outputs": [
    {
     "data": {
      "text/plain": [
       "1032"
      ]
     },
     "execution_count": 3,
     "metadata": {},
     "output_type": "execute_result"
    }
   ],
   "source": [
    "len(service_components)"
   ]
  },
  {
   "cell_type": "code",
   "execution_count": 4,
   "id": "c8548c15-6221-4b13-9dba-11c69ffbb02f",
   "metadata": {},
   "outputs": [
    {
     "data": {
      "text/plain": [
       "name                                                object\n",
       "services                                            object\n",
       "component                                           object\n",
       "vendor__from_product_                               object\n",
       "parent_organization__from_vendor___from_product_    object\n",
       "provider__from_services_                            object\n",
       "product                                             object\n",
       "product_components                                  object\n",
       "dtype: object"
      ]
     },
     "execution_count": 4,
     "metadata": {},
     "output_type": "execute_result"
    }
   ],
   "source": [
    "service_components.dtypes"
   ]
  },
  {
   "cell_type": "code",
   "execution_count": 5,
   "id": "c233054d-7868-4564-92f4-54c0a3b2e5a9",
   "metadata": {},
   "outputs": [
    {
     "data": {
      "text/plain": [
       "name                                                  0\n",
       "services                                              5\n",
       "component                                             2\n",
       "vendor__from_product_                                82\n",
       "parent_organization__from_vendor___from_product_    785\n",
       "provider__from_services_                              5\n",
       "product                                               2\n",
       "product_components                                   59\n",
       "dtype: int64"
      ]
     },
     "execution_count": 5,
     "metadata": {},
     "output_type": "execute_result"
    }
   ],
   "source": [
    "#Checking N/As \n",
    "service_components.isna().sum()"
   ]
  },
  {
   "cell_type": "code",
   "execution_count": 6,
   "id": "b5d2d96e-fc3e-4864-9dc8-c1d75d77d9d5",
   "metadata": {},
   "outputs": [],
   "source": [
    "# Fill in N/A and rename cols to be a little clearer.\n",
    "service_components = service_components.fillna(\"N/A\").rename(\n",
    "    columns={\n",
    "        \"component\": \"components_orgs_actually_use\",\n",
    "        \"product_components\": \"all_components_in_product\",\n",
    "    }\n",
    ")"
   ]
  },
  {
   "cell_type": "code",
   "execution_count": 7,
   "id": "9f393564-392c-4040-be7c-37a9d63ad5e8",
   "metadata": {},
   "outputs": [
    {
     "data": {
      "text/html": [
       "<div>\n",
       "<style scoped>\n",
       "    .dataframe tbody tr th:only-of-type {\n",
       "        vertical-align: middle;\n",
       "    }\n",
       "\n",
       "    .dataframe tbody tr th {\n",
       "        vertical-align: top;\n",
       "    }\n",
       "\n",
       "    .dataframe thead th {\n",
       "        text-align: right;\n",
       "    }\n",
       "</style>\n",
       "<table border=\"1\" class=\"dataframe\">\n",
       "  <thead>\n",
       "    <tr style=\"text-align: right;\">\n",
       "      <th></th>\n",
       "      <th>name</th>\n",
       "      <th>services</th>\n",
       "      <th>components_orgs_actually_use</th>\n",
       "      <th>vendor__from_product_</th>\n",
       "      <th>parent_organization__from_vendor___from_product_</th>\n",
       "      <th>provider__from_services_</th>\n",
       "      <th>product</th>\n",
       "      <th>all_components_in_product</th>\n",
       "    </tr>\n",
       "  </thead>\n",
       "  <tbody>\n",
       "    <tr>\n",
       "      <th>0</th>\n",
       "      <td>GET Bus, GET Bus On Demand-Genfare Farebox (Unspecified)-Cash Farebox</td>\n",
       "      <td>GET Bus,GET Bus On Demand</td>\n",
       "      <td>Cash Farebox</td>\n",
       "      <td>Genfare</td>\n",
       "      <td>N/A</td>\n",
       "      <td>Golden Empire Transit District, Golden Empire Transit District</td>\n",
       "      <td>Genfare Farebox (Unspecified)</td>\n",
       "      <td>Cash Farebox</td>\n",
       "    </tr>\n",
       "    <tr>\n",
       "      <th>1</th>\n",
       "      <td>GET Bus, GET Bus On Demand-Token Transit Mobile Ticketing-Mobile ticketing</td>\n",
       "      <td>GET Bus,GET Bus On Demand</td>\n",
       "      <td>Mobile ticketing</td>\n",
       "      <td>Token Transit</td>\n",
       "      <td>N/A</td>\n",
       "      <td>Golden Empire Transit District, Golden Empire Transit District</td>\n",
       "      <td>Token Transit Mobile Ticketing</td>\n",
       "      <td>Mobile ticketing</td>\n",
       "    </tr>\n",
       "  </tbody>\n",
       "</table>\n",
       "</div>"
      ],
      "text/plain": [
       "                                                                         name  \\\n",
       "0       GET Bus, GET Bus On Demand-Genfare Farebox (Unspecified)-Cash Farebox   \n",
       "1  GET Bus, GET Bus On Demand-Token Transit Mobile Ticketing-Mobile ticketing   \n",
       "\n",
       "                    services components_orgs_actually_use  \\\n",
       "0  GET Bus,GET Bus On Demand                 Cash Farebox   \n",
       "1  GET Bus,GET Bus On Demand             Mobile ticketing   \n",
       "\n",
       "  vendor__from_product_ parent_organization__from_vendor___from_product_  \\\n",
       "0               Genfare                                              N/A   \n",
       "1         Token Transit                                              N/A   \n",
       "\n",
       "                                         provider__from_services_  \\\n",
       "0  Golden Empire Transit District, Golden Empire Transit District   \n",
       "1  Golden Empire Transit District, Golden Empire Transit District   \n",
       "\n",
       "                          product all_components_in_product  \n",
       "0   Genfare Farebox (Unspecified)              Cash Farebox  \n",
       "1  Token Transit Mobile Ticketing          Mobile ticketing  "
      ]
     },
     "execution_count": 7,
     "metadata": {},
     "output_type": "execute_result"
    }
   ],
   "source": [
    "service_components.head(2)"
   ]
  },
  {
   "cell_type": "code",
   "execution_count": 8,
   "id": "9d66990e-79fe-46fb-ba34-6cc93029260a",
   "metadata": {},
   "outputs": [],
   "source": [
    "#Drop Duplicates\n",
    "service_components = service_components.drop_duplicates()"
   ]
  },
  {
   "cell_type": "code",
   "execution_count": 9,
   "id": "f3b6747d-4edd-4c51-9a1e-fa6e90337e7e",
   "metadata": {},
   "outputs": [
    {
     "data": {
      "text/plain": [
       "1023"
      ]
     },
     "execution_count": 9,
     "metadata": {},
     "output_type": "execute_result"
    }
   ],
   "source": [
    "#Lenght went down from 1032 to 1023...\n",
    "len(service_components)"
   ]
  },
  {
   "cell_type": "markdown",
   "id": "f4a2c807-c50b-4f82-b1a3-b10407747b5a",
   "metadata": {
    "tags": []
   },
   "source": [
    "## Are there vendors that offer GTFS & Real Time that nobody is using?\n",
    "***"
   ]
  },
  {
   "cell_type": "code",
   "execution_count": 10,
   "id": "2019926f-19a7-44e4-af0e-1b9db6e157b3",
   "metadata": {},
   "outputs": [],
   "source": [
    "#Filter out products that have GTFS and Scheduling in service components dataset \n",
    "gtfs_rt = service_components[\n",
    "    service_components[\"all_components_in_product\"].str.contains(\"GTFS\", case = False)\n",
    "    & service_components[\"all_components_in_product\"].str.contains(\"real-time\", case = False)\n",
    "]"
   ]
  },
  {
   "cell_type": "code",
   "execution_count": 11,
   "id": "13b210da-42ad-4f05-9aae-59121c2cd422",
   "metadata": {},
   "outputs": [],
   "source": [
    "#Read in products data set \n",
    "FILE_NAME = \"transit_stacks.xlsx\"\n",
    "products = pd.read_excel(f\"{GCS_FILE_PATH}{FILE_NAME}\", sheet_name=\"products_clean\")"
   ]
  },
  {
   "cell_type": "code",
   "execution_count": 12,
   "id": "d2df233a-80c9-4d8b-8e6d-295c3e0b5971",
   "metadata": {},
   "outputs": [],
   "source": [
    "#Filter out products that have GTFS and Scheduling in products dataset \n",
    "products_gtfs_rt = products[\n",
    "    products[\"components\"].str.contains(\"GTFS\", case = False)\n",
    "    & products[\"components\"].str.contains(\"real-time\", case = False)\n",
    "]"
   ]
  },
  {
   "cell_type": "code",
   "execution_count": 13,
   "id": "dbadf93f-5510-4181-8d8c-d4ca56c24e8d",
   "metadata": {},
   "outputs": [
    {
     "data": {
      "text/plain": [
       "{'GMV Syncromatics Inc', 'Swiftly Inc.', 'TripShot Inc.', 'Uber Inc.'}"
      ]
     },
     "execution_count": 13,
     "metadata": {},
     "output_type": "execute_result"
    }
   ],
   "source": [
    "#Grab unique vendors and chane it to a set\n",
    "products_vendors = set(products_gtfs_rt.vendor.unique().tolist())\n",
    "products_vendors"
   ]
  },
  {
   "cell_type": "code",
   "execution_count": 14,
   "id": "c29cedcd-35a5-4a10-a062-473bdbb73feb",
   "metadata": {},
   "outputs": [
    {
     "data": {
      "text/plain": [
       "{'DoubleMap Inc.,Nixle',\n",
       " 'GMV Syncromatics Inc',\n",
       " 'Optibus,GMV Syncromatics Inc',\n",
       " 'Swiftly Inc.',\n",
       " 'Token Transit,Uber Inc.',\n",
       " 'TripShot Inc.',\n",
       " 'Uber Inc.',\n",
       " 'Uber Inc.,Uber Inc.'}"
      ]
     },
     "execution_count": 14,
     "metadata": {},
     "output_type": "execute_result"
    }
   ],
   "source": [
    "#Grab unique vendors and chane it to a set\n",
    "service_comps_vendors = set(gtfs_rt.vendor__from_product_.unique().tolist())\n",
    "service_comps_vendors"
   ]
  },
  {
   "cell_type": "code",
   "execution_count": 15,
   "id": "8c21bd74-3d01-4ffd-a129-3f920f70cdb6",
   "metadata": {},
   "outputs": [
    {
     "data": {
      "text/plain": [
       "set()"
      ]
     },
     "execution_count": 15,
     "metadata": {},
     "output_type": "execute_result"
    }
   ],
   "source": [
    "products_vendors - service_comps_vendors"
   ]
  },
  {
   "cell_type": "markdown",
   "id": "b149dce5-aac3-4afd-bf39-bd4303ba544a",
   "metadata": {},
   "source": [
    "## Summarizing the DataFrame\n",
    "***\n",
    "* It looks like some \"organization\" uses the same product from the same vendor for 1 + components. \n",
    "    * Example: Tuolumne County Transit uses Doublemap RealTime product for both real-time and arrival predictions. However, 'real-time' and 'arrival predictions' are split on 2 different lines, even though they reference the same product, vendor, and customer.\n",
    "* Group/summarize so the same service-vendor-product combination are all on the same line and we can perhaps avoid duplicative counting."
   ]
  },
  {
   "cell_type": "code",
   "execution_count": 16,
   "id": "c45ab028-49c8-4f95-a3cf-fe490e582bec",
   "metadata": {},
   "outputs": [],
   "source": [
    "service_components2 = service_components.copy()"
   ]
  },
  {
   "cell_type": "code",
   "execution_count": 17,
   "id": "3278c480-eedd-44f3-b3a3-aa1004d239ef",
   "metadata": {},
   "outputs": [],
   "source": [
    "service_components2[\"components_usage\"] = service_components2.groupby([\"services\", \"vendor__from_product_\", \"product\"])[\"components_orgs_actually_use\"].transform(\n",
    "    lambda x: \",\".join(x)\n",
    ")"
   ]
  },
  {
   "cell_type": "code",
   "execution_count": 18,
   "id": "26facd82-6e16-4e94-88e2-2f4b45eca66b",
   "metadata": {},
   "outputs": [],
   "source": [
    "service_components3 = service_components2.drop_duplicates(subset = ['services', 'product','vendor__from_product_','components_usage'])"
   ]
  },
  {
   "cell_type": "code",
   "execution_count": 19,
   "id": "20b43cae-a3d8-4214-9d87-16ed3d593cad",
   "metadata": {},
   "outputs": [],
   "source": [
    "service_components3 = service_components3[['services','vendor__from_product_',\n",
    "                                           'provider__from_services_','parent_organization__from_vendor___from_product_','product', 'all_components_in_product', 'components_usage']]"
   ]
  },
  {
   "cell_type": "code",
   "execution_count": 20,
   "id": "191f0042-f8f1-48ff-9998-b187ca40531c",
   "metadata": {
    "tags": []
   },
   "outputs": [
    {
     "data": {
      "text/html": [
       "<div>\n",
       "<style scoped>\n",
       "    .dataframe tbody tr th:only-of-type {\n",
       "        vertical-align: middle;\n",
       "    }\n",
       "\n",
       "    .dataframe tbody tr th {\n",
       "        vertical-align: top;\n",
       "    }\n",
       "\n",
       "    .dataframe thead th {\n",
       "        text-align: right;\n",
       "    }\n",
       "</style>\n",
       "<table border=\"1\" class=\"dataframe\">\n",
       "  <thead>\n",
       "    <tr style=\"text-align: right;\">\n",
       "      <th></th>\n",
       "      <th>services</th>\n",
       "      <th>vendor__from_product_</th>\n",
       "      <th>provider__from_services_</th>\n",
       "      <th>parent_organization__from_vendor___from_product_</th>\n",
       "      <th>product</th>\n",
       "      <th>all_components_in_product</th>\n",
       "      <th>components_usage</th>\n",
       "    </tr>\n",
       "  </thead>\n",
       "  <tbody>\n",
       "    <tr>\n",
       "      <th>324</th>\n",
       "      <td>Porterville Transit</td>\n",
       "      <td>Uber Inc.</td>\n",
       "      <td>Tulare County Regional Transit Agency</td>\n",
       "      <td>N/A</td>\n",
       "      <td>RouteMatch - In-Vehicle Technology</td>\n",
       "      <td>Fare card system,Mobile ticketing</td>\n",
       "      <td>Arrival predictions,AVL Software,Mobile data terminal software,Annunciator,Interior signage,APC Software</td>\n",
       "    </tr>\n",
       "  </tbody>\n",
       "</table>\n",
       "</div>"
      ],
      "text/plain": [
       "                services vendor__from_product_  \\\n",
       "324  Porterville Transit             Uber Inc.   \n",
       "\n",
       "                  provider__from_services_  \\\n",
       "324  Tulare County Regional Transit Agency   \n",
       "\n",
       "    parent_organization__from_vendor___from_product_  \\\n",
       "324                                              N/A   \n",
       "\n",
       "                                product          all_components_in_product  \\\n",
       "324  RouteMatch - In-Vehicle Technology  Fare card system,Mobile ticketing   \n",
       "\n",
       "                                                                                             components_usage  \n",
       "324  Arrival predictions,AVL Software,Mobile data terminal software,Annunciator,Interior signage,APC Software  "
      ]
     },
     "execution_count": 20,
     "metadata": {},
     "output_type": "execute_result"
    }
   ],
   "source": [
    "service_components3.sample()"
   ]
  },
  {
   "cell_type": "code",
   "execution_count": 21,
   "id": "4adf19f5-80bd-41d4-8b36-8204511bb1c9",
   "metadata": {},
   "outputs": [
    {
     "data": {
      "text/plain": [
       "737"
      ]
     },
     "execution_count": 21,
     "metadata": {},
     "output_type": "execute_result"
    }
   ],
   "source": [
    "len(service_components3)"
   ]
  },
  {
   "cell_type": "markdown",
   "id": "c930747c-5cc1-4bac-9dc1-2004ff10b907",
   "metadata": {},
   "source": [
    "## Components\n",
    "***\n",
    "\n",
    "* To do: column that the components usage actually matches the components a product offers."
   ]
  },
  {
   "cell_type": "markdown",
   "id": "d9b6a9b9-3340-42ea-a5e6-c061893ad7d9",
   "metadata": {},
   "source": [
    "### How many components are orgs using versus how many components a product actually offers.  \n",
    "***"
   ]
  },
  {
   "cell_type": "code",
   "execution_count": 22,
   "id": "ddc50916-e6fc-4354-8939-fa1eb5f6d6d1",
   "metadata": {},
   "outputs": [],
   "source": [
    "#Number of components an organization uses that product for (clean this up with assign later)\n",
    "#https://stackoverflow.com/questions/30202011/how-can-i-count-comma-separated-values-in-one-column-of-my-panda-table\n",
    "service_components3['number_of_components_used'] = service_components3['components_usage'].apply(lambda x: len(x.split(','))).astype('int64')\n",
    "#Number of components available in the product\n",
    "service_components3['number_of_components_avail'] = service_components3['all_components_in_product'].apply(lambda x: len(x.split(','))).astype('int64')\n",
    "\n",
    "#Dividing based\n",
    "service_components3['percent_of_components_used'] = service_components3['number_of_components_used']/service_components3['number_of_components_avail']"
   ]
  },
  {
   "cell_type": "code",
   "execution_count": 23,
   "id": "daaa787e-3167-473b-a790-5f48c326f37c",
   "metadata": {},
   "outputs": [],
   "source": [
    "#Lots of duplicates in  provider__from_services_ column\n",
    "#https://stackoverflow.com/questions/47316783/python-dataframe-remove-duplicate-words-in-the-same-cell-within-a-column-in-pyt\n",
    "service_components3['provider__from_services_'] = (service_components3['provider__from_services_'].str.split()\n",
    "                              .apply(lambda x: OrderedDict.fromkeys(x).keys())\n",
    "                              .str.join(' '))\n"
   ]
  },
  {
   "cell_type": "code",
   "execution_count": 24,
   "id": "c0624351-035b-4be2-9225-2b03facf72e5",
   "metadata": {},
   "outputs": [
    {
     "data": {
      "text/html": [
       "<div>\n",
       "<style scoped>\n",
       "    .dataframe tbody tr th:only-of-type {\n",
       "        vertical-align: middle;\n",
       "    }\n",
       "\n",
       "    .dataframe tbody tr th {\n",
       "        vertical-align: top;\n",
       "    }\n",
       "\n",
       "    .dataframe thead th {\n",
       "        text-align: right;\n",
       "    }\n",
       "</style>\n",
       "<table border=\"1\" class=\"dataframe\">\n",
       "  <thead>\n",
       "    <tr style=\"text-align: right;\">\n",
       "      <th></th>\n",
       "      <th>services</th>\n",
       "      <th>vendor__from_product_</th>\n",
       "      <th>provider__from_services_</th>\n",
       "      <th>parent_organization__from_vendor___from_product_</th>\n",
       "      <th>product</th>\n",
       "      <th>all_components_in_product</th>\n",
       "      <th>components_usage</th>\n",
       "      <th>number_of_components_used</th>\n",
       "      <th>number_of_components_avail</th>\n",
       "      <th>percent_of_components_used</th>\n",
       "    </tr>\n",
       "  </thead>\n",
       "  <tbody>\n",
       "    <tr>\n",
       "      <th>197</th>\n",
       "      <td>Arcadia Transit</td>\n",
       "      <td>Microsoft</td>\n",
       "      <td>City of Arcadia</td>\n",
       "      <td>N/A</td>\n",
       "      <td>Excel</td>\n",
       "      <td>General Purpose Software</td>\n",
       "      <td>Scheduling (Fixed-route)</td>\n",
       "      <td>1</td>\n",
       "      <td>1</td>\n",
       "      <td>1.00</td>\n",
       "    </tr>\n",
       "    <tr>\n",
       "      <th>304</th>\n",
       "      <td>VTA Bus,VTA ACE Shuttles,VTA Light Rail,VTA Rapid Bus,VTA Express Bus,VTA School Tripper</td>\n",
       "      <td>Swiftly Inc.</td>\n",
       "      <td>Santa Clara Valley Transportation Authority, Authority</td>\n",
       "      <td>N/A</td>\n",
       "      <td>Swiftly Transitime</td>\n",
       "      <td>Real-time info,Arrival predictions,Alerts Content Management System,Social Alerts,Alerts Subscription Service,GTFS Alerts Publication</td>\n",
       "      <td>Arrival predictions</td>\n",
       "      <td>1</td>\n",
       "      <td>6</td>\n",
       "      <td>0.17</td>\n",
       "    </tr>\n",
       "    <tr>\n",
       "      <th>989</th>\n",
       "      <td>Herky Streetcar</td>\n",
       "      <td>DoubleMap Inc.</td>\n",
       "      <td>Sacramento State University</td>\n",
       "      <td>TransLoc</td>\n",
       "      <td>DoubleMap RealTime</td>\n",
       "      <td>Real-time info,Mobile trip planning app</td>\n",
       "      <td>Real-time info</td>\n",
       "      <td>1</td>\n",
       "      <td>2</td>\n",
       "      <td>0.50</td>\n",
       "    </tr>\n",
       "  </tbody>\n",
       "</table>\n",
       "</div>"
      ],
      "text/plain": [
       "                                                                                     services  \\\n",
       "197                                                                           Arcadia Transit   \n",
       "304  VTA Bus,VTA ACE Shuttles,VTA Light Rail,VTA Rapid Bus,VTA Express Bus,VTA School Tripper   \n",
       "989                                                                           Herky Streetcar   \n",
       "\n",
       "    vendor__from_product_  \\\n",
       "197             Microsoft   \n",
       "304          Swiftly Inc.   \n",
       "989        DoubleMap Inc.   \n",
       "\n",
       "                                   provider__from_services_  \\\n",
       "197                                         City of Arcadia   \n",
       "304  Santa Clara Valley Transportation Authority, Authority   \n",
       "989                             Sacramento State University   \n",
       "\n",
       "    parent_organization__from_vendor___from_product_             product  \\\n",
       "197                                              N/A               Excel   \n",
       "304                                              N/A  Swiftly Transitime   \n",
       "989                                         TransLoc  DoubleMap RealTime   \n",
       "\n",
       "                                                                                                                 all_components_in_product  \\\n",
       "197                                                                                                               General Purpose Software   \n",
       "304  Real-time info,Arrival predictions,Alerts Content Management System,Social Alerts,Alerts Subscription Service,GTFS Alerts Publication   \n",
       "989                                                                                                Real-time info,Mobile trip planning app   \n",
       "\n",
       "             components_usage  number_of_components_used  \\\n",
       "197  Scheduling (Fixed-route)                          1   \n",
       "304       Arrival predictions                          1   \n",
       "989            Real-time info                          1   \n",
       "\n",
       "     number_of_components_avail  percent_of_components_used  \n",
       "197                           1                        1.00  \n",
       "304                           6                        0.17  \n",
       "989                           2                        0.50  "
      ]
     },
     "execution_count": 24,
     "metadata": {},
     "output_type": "execute_result"
    }
   ],
   "source": [
    "service_components3.sample(3)"
   ]
  },
  {
   "cell_type": "markdown",
   "id": "16ab8e5e-187e-472c-9268-d021a78878dd",
   "metadata": {},
   "source": [
    "## Frequency Analysis\n",
    "***"
   ]
  },
  {
   "cell_type": "code",
   "execution_count": 35,
   "id": "7fc2b8a9-c35d-4a7f-8277-e16e5303a12c",
   "metadata": {
    "tags": []
   },
   "outputs": [
    {
     "data": {
      "text/html": [
       "<div>\n",
       "<style scoped>\n",
       "    .dataframe tbody tr th:only-of-type {\n",
       "        vertical-align: middle;\n",
       "    }\n",
       "\n",
       "    .dataframe tbody tr th {\n",
       "        vertical-align: top;\n",
       "    }\n",
       "\n",
       "    .dataframe thead th {\n",
       "        text-align: right;\n",
       "    }\n",
       "</style>\n",
       "<table border=\"1\" class=\"dataframe\">\n",
       "  <thead>\n",
       "    <tr style=\"text-align: right;\">\n",
       "      <th></th>\n",
       "      <th>services</th>\n",
       "    </tr>\n",
       "    <tr>\n",
       "      <th>product</th>\n",
       "      <th></th>\n",
       "    </tr>\n",
       "  </thead>\n",
       "  <tbody>\n",
       "    <tr>\n",
       "      <th>Genfare Farebox (Unspecified)</th>\n",
       "      <td>51</td>\n",
       "    </tr>\n",
       "    <tr>\n",
       "      <th>Trillium GTFS Manager</th>\n",
       "      <td>40</td>\n",
       "    </tr>\n",
       "    <tr>\n",
       "      <th>Excel</th>\n",
       "      <td>37</td>\n",
       "    </tr>\n",
       "    <tr>\n",
       "      <th>Cubic NextBus Suite</th>\n",
       "      <td>21</td>\n",
       "    </tr>\n",
       "    <tr>\n",
       "      <th>Swiftly Transitime</th>\n",
       "      <td>21</td>\n",
       "    </tr>\n",
       "    <tr>\n",
       "      <th>DoubleMap RealTime</th>\n",
       "      <td>18</td>\n",
       "    </tr>\n",
       "    <tr>\n",
       "      <th>GMV/Syncromatics Sync</th>\n",
       "      <td>18</td>\n",
       "    </tr>\n",
       "    <tr>\n",
       "      <th>GMV/Syncromatics Dispatch</th>\n",
       "      <td>17</td>\n",
       "    </tr>\n",
       "    <tr>\n",
       "      <th>Cashbox</th>\n",
       "      <td>17</td>\n",
       "    </tr>\n",
       "    <tr>\n",
       "      <th>Token Transit Mobile Ticketing</th>\n",
       "      <td>15</td>\n",
       "    </tr>\n",
       "  </tbody>\n",
       "</table>\n",
       "</div>"
      ],
      "text/plain": [
       "                                services\n",
       "product                                 \n",
       "Genfare Farebox (Unspecified)         51\n",
       "Trillium GTFS Manager                 40\n",
       "Excel                                 37\n",
       "Cubic NextBus Suite                   21\n",
       "Swiftly Transitime                    21\n",
       "DoubleMap RealTime                    18\n",
       "GMV/Syncromatics Sync                 18\n",
       "GMV/Syncromatics Dispatch             17\n",
       "Cashbox                               17\n",
       "Token Transit Mobile Ticketing        15"
      ]
     },
     "execution_count": 35,
     "metadata": {},
     "output_type": "execute_result"
    }
   ],
   "source": [
    "service_components3.groupby(['product']).agg({'services':'count'}).sort_values('services', ascending = False).head(10)"
   ]
  },
  {
   "cell_type": "code",
   "execution_count": null,
   "id": "4412fc79-5407-44ef-95b9-d1dfb6e615c6",
   "metadata": {},
   "outputs": [],
   "source": []
  }
 ],
 "metadata": {
  "kernelspec": {
   "display_name": "Python 3 (ipykernel)",
   "language": "python",
   "name": "python3"
  },
  "language_info": {
   "codemirror_mode": {
    "name": "ipython",
    "version": 3
   },
   "file_extension": ".py",
   "mimetype": "text/x-python",
   "name": "python",
   "nbconvert_exporter": "python",
   "pygments_lexer": "ipython3",
   "version": "3.9.12"
  }
 },
 "nbformat": 4,
 "nbformat_minor": 5
}
