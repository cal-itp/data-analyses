{
 "cells": [
  {
   "cell_type": "markdown",
   "id": "4b995212-343f-4eb0-b1b3-252a1009961d",
   "metadata": {},
   "source": [
    "# Taking a first look and cleaning the data.\n",
    "* [Data Source](https://airtable.com/appeVUdmRBi3K9hTS/tblLywLvMA2OTesQP/viwRRKOaZvvkSNfmU?blocks=hide)\n",
    "* [Term Explanations](https://docs.calitp.org/data-infra/datasets_and_tables/transitdatabase.html)\n",
    "* Customers want real time info and ease of payment on their phones/etc. Look at all the technology gathered in Transit Stacks to see what products/vendors/etc are out there. It's not too efficient for agencies to use so many different vendors/products, how can Caltrans help create some consistency?"
   ]
  },
  {
   "cell_type": "code",
   "execution_count": 1,
   "id": "3af4662e-f7e3-4c00-bd3d-0f756f7adc5d",
   "metadata": {},
   "outputs": [],
   "source": [
    "import numpy as np\n",
    "import pandas as pd\n",
    "\n",
    "pd.options.display.max_columns = 50\n",
    "pd.options.display.max_rows = 250\n",
    "pd.set_option(\"display.max_colwidth\", None)\n",
    "pd.options.display.float_format = \"{:.2f}\".format\n",
    "\n",
    "from itertools import chain\n",
    "\n",
    "import altair as alt\n",
    "from calitp import *\n",
    "from siuba import *\n",
    "\n",
    "GCS_FILE_PATH = \"gs://calitp-analytics-data/data-analyses/transit_stacks/\""
   ]
  },
  {
   "cell_type": "markdown",
   "id": "76424a9d-ac73-4b72-9d27-fb5ab6f1d988",
   "metadata": {
    "tags": []
   },
   "source": [
    "## Products Data"
   ]
  },
  {
   "cell_type": "code",
   "execution_count": 2,
   "id": "3855fedb-1c76-4964-b7ea-ae12808eabf7",
   "metadata": {},
   "outputs": [],
   "source": [
    "# drop columns with tons of NAs\n",
    "products = (\n",
    "    to_snakecase(pd.read_csv(f\"{GCS_FILE_PATH}products-Grid view (1).csv\"))\n",
    "    .drop(\n",
    "        columns=[\n",
    "            \"business_model_features\",\n",
    "            \"attachments\",\n",
    "            \"status\",\n",
    "            \"certifications\",\n",
    "            \"connectivity\",\n",
    "            \"accepted_input_components\",\n",
    "            \"output_components\",\n",
    "            \"input\",\n",
    "            \"output\",\n",
    "        ]\n",
    "    )\n",
    "    .rename(columns={\"name\": \"product_name\"})\n",
    ")"
   ]
  },
  {
   "cell_type": "code",
   "execution_count": 3,
   "id": "42aadca7-bd6d-4a8d-8612-a7c2e47eca51",
   "metadata": {},
   "outputs": [
    {
     "data": {
      "text/plain": [
       "Index(['product_name', 'components', 'vendor', 'url', 'requirements',\n",
       "       'product_features', 'notes', 'organization_stack_components'],\n",
       "      dtype='object')"
      ]
     },
     "execution_count": 3,
     "metadata": {},
     "output_type": "execute_result"
    }
   ],
   "source": [
    "products.columns"
   ]
  },
  {
   "cell_type": "code",
   "execution_count": 5,
   "id": "b4c89afb-81b3-41de-a7c9-a48c7361587b",
   "metadata": {},
   "outputs": [],
   "source": [
    "### Count number of strings in organization_stack_components column to see how many orgs are using this vendor.\n",
    "# https://stackoverflow.com/questions/51502263/pandas-dataframe-object-has-no-attribute-str\n",
    "products[\"count_of_orgs_using_product\"] = (\n",
    "    products[\"organization_stack_components\"]\n",
    "    .str.split(\",+\")\n",
    "    .str.len()\n",
    "    .groupby(products.product_name)\n",
    "    .transform(\"sum\")\n",
    ")"
   ]
  },
  {
   "cell_type": "code",
   "execution_count": 14,
   "id": "d41bc287-569c-4873-90cb-30308786b52d",
   "metadata": {},
   "outputs": [],
   "source": [
    "products = products.fillna(\"N/A\")"
   ]
  },
  {
   "cell_type": "markdown",
   "id": "96ec9c38-c889-4068-be49-9857f3fa40cd",
   "metadata": {
    "tags": []
   },
   "source": [
    "### What % of vendors with scheduling software also provide GTFS data out of the box?\n",
    "* Go back and tag companies for GTFS."
   ]
  },
  {
   "cell_type": "code",
   "execution_count": 9,
   "id": "013541e9-4dd6-4aa4-a50f-6f00745f110e",
   "metadata": {},
   "outputs": [],
   "source": [
    "# https://stackoverflow.com/questions/26577516/how-to-test-if-a-string-contains-one-of-the-substrings-in-a-list-in-pandas\n",
    "searchfor = [\"GTFS\", \"schedule\", \"Scheduling\", \"Schedule\", \"scheduling\"]"
   ]
  },
  {
   "cell_type": "code",
   "execution_count": 17,
   "id": "038d4122-8597-41f0-bf37-29631cd561d8",
   "metadata": {},
   "outputs": [
    {
     "data": {
      "text/html": [
       "<div>\n",
       "<style scoped>\n",
       "    .dataframe tbody tr th:only-of-type {\n",
       "        vertical-align: middle;\n",
       "    }\n",
       "\n",
       "    .dataframe tbody tr th {\n",
       "        vertical-align: top;\n",
       "    }\n",
       "\n",
       "    .dataframe thead th {\n",
       "        text-align: right;\n",
       "    }\n",
       "</style>\n",
       "<table border=\"1\" class=\"dataframe\">\n",
       "  <thead>\n",
       "    <tr style=\"text-align: right;\">\n",
       "      <th></th>\n",
       "      <th>product_name</th>\n",
       "      <th>components</th>\n",
       "      <th>vendor</th>\n",
       "      <th>url</th>\n",
       "      <th>requirements</th>\n",
       "      <th>product_features</th>\n",
       "      <th>notes</th>\n",
       "      <th>organization_stack_components</th>\n",
       "      <th>count_of_orgs_using_product</th>\n",
       "    </tr>\n",
       "  </thead>\n",
       "  <tbody>\n",
       "  </tbody>\n",
       "</table>\n",
       "</div>"
      ],
      "text/plain": [
       "Empty DataFrame\n",
       "Columns: [product_name, components, vendor, url, requirements, product_features, notes, organization_stack_components, count_of_orgs_using_product]\n",
       "Index: []"
      ]
     },
     "execution_count": 17,
     "metadata": {},
     "output_type": "execute_result"
    }
   ],
   "source": [
    "gtfs_schedule_overlap = products[\n",
    "    products[\"components\"].str.contains(\n",
    "        \"&\".join(searchfor),\n",
    "        case=False,\n",
    "    )\n",
    "]\n",
    "gtfs_schedule_overlap"
   ]
  },
  {
   "cell_type": "markdown",
   "id": "26f33c65-ff6a-464a-91f7-5b39cb711d85",
   "metadata": {},
   "source": [
    "### Vendor with the most products\n",
    "* Uber has 26 separate rows for all the different products it offers. "
   ]
  },
  {
   "cell_type": "code",
   "execution_count": 61,
   "id": "6ef10e40-b06f-4c01-bbcc-247c8529298b",
   "metadata": {},
   "outputs": [],
   "source": [
    "no_vendor_nulls = products.loc[products[\"vendor\"] != \"N/A\"]"
   ]
  },
  {
   "cell_type": "code",
   "execution_count": 62,
   "id": "ad2c2f48-7218-4c9c-ac4f-4428f79c4195",
   "metadata": {},
   "outputs": [
    {
     "data": {
      "text/plain": [
       "Uber Inc.                     26\n",
       "Luminator Technology Group    24\n",
       "Genfare                       13\n",
       "GMV Syncromatics Inc          10\n",
       "Connexionz Inc.                9\n",
       "Trapeze Group                  6\n",
       "Conduent Inc                   6\n",
       "UTA                            6\n",
       "Avail Technologies Inc.        4\n",
       "Cubic                          4\n",
       "Name: vendor, dtype: int64"
      ]
     },
     "execution_count": 62,
     "metadata": {},
     "output_type": "execute_result"
    }
   ],
   "source": [
    "no_vendor_nulls.vendor.value_counts().head(10)"
   ]
  },
  {
   "cell_type": "markdown",
   "id": "a86c46e5-dcd1-47ed-9dc1-c5efaaf67564",
   "metadata": {},
   "source": [
    "### Most popular products in general\n",
    "* Metric: count_of_orgs_using_product counts the number of strings after each comma in the organization stacks component col for each product.\n",
    "* Assume that each value is a separate organization.\n",
    "* Genfare FareBox has 94 values, making it the most popular product"
   ]
  },
  {
   "cell_type": "code",
   "execution_count": 64,
   "id": "c7c68d67-6567-46b6-96bc-3afc924c5b1d",
   "metadata": {
    "tags": []
   },
   "outputs": [
    {
     "data": {
      "text/html": [
       "<div>\n",
       "<style scoped>\n",
       "    .dataframe tbody tr th:only-of-type {\n",
       "        vertical-align: middle;\n",
       "    }\n",
       "\n",
       "    .dataframe tbody tr th {\n",
       "        vertical-align: top;\n",
       "    }\n",
       "\n",
       "    .dataframe thead th {\n",
       "        text-align: right;\n",
       "    }\n",
       "</style>\n",
       "<table border=\"1\" class=\"dataframe\">\n",
       "  <thead>\n",
       "    <tr style=\"text-align: right;\">\n",
       "      <th></th>\n",
       "      <th>product_name</th>\n",
       "      <th>vendor</th>\n",
       "      <th>components</th>\n",
       "      <th>count_of_orgs_using_product</th>\n",
       "      <th>notes</th>\n",
       "    </tr>\n",
       "  </thead>\n",
       "  <tbody>\n",
       "    <tr>\n",
       "      <th>60</th>\n",
       "      <td>Genfare Farebox (Unspecified)</td>\n",
       "      <td>Genfare</td>\n",
       "      <td>Cash Farebox</td>\n",
       "      <td>94.00</td>\n",
       "      <td>N/A</td>\n",
       "    </tr>\n",
       "    <tr>\n",
       "      <th>212</th>\n",
       "      <td>Cubic NextBus Suite</td>\n",
       "      <td>Cubic</td>\n",
       "      <td>Real-time info</td>\n",
       "      <td>92.00</td>\n",
       "      <td>Link now leads to Umo Mobility Platform.\\n</td>\n",
       "    </tr>\n",
       "    <tr>\n",
       "      <th>231</th>\n",
       "      <td>Trapeze Fixed Route Scheduling</td>\n",
       "      <td>Trapeze Group</td>\n",
       "      <td>Run cutting,Driver Sign-up</td>\n",
       "      <td>74.00</td>\n",
       "      <td>N/A</td>\n",
       "    </tr>\n",
       "    <tr>\n",
       "      <th>0</th>\n",
       "      <td>Avail - Unspecified</td>\n",
       "      <td>Avail Technologies Inc.</td>\n",
       "      <td>N/A</td>\n",
       "      <td>64.00</td>\n",
       "      <td>myAvail–the Enterprise Transit Management Software (ETMS) that empowers agencies to drastically improve efficiency, tracking, and compliance.</td>\n",
       "    </tr>\n",
       "    <tr>\n",
       "      <th>228</th>\n",
       "      <td>GMV/Syncromatics Sync</td>\n",
       "      <td>GMV Syncromatics Inc</td>\n",
       "      <td>Real-time info,Mobile trip planning app</td>\n",
       "      <td>60.00</td>\n",
       "      <td>N/A</td>\n",
       "    </tr>\n",
       "    <tr>\n",
       "      <th>111</th>\n",
       "      <td>Trillium GTFS Manager</td>\n",
       "      <td>Trillium Inc.</td>\n",
       "      <td>GTFS generation,GTFS Schedule Publishing</td>\n",
       "      <td>58.00</td>\n",
       "      <td>N/A</td>\n",
       "    </tr>\n",
       "    <tr>\n",
       "      <th>98</th>\n",
       "      <td>Excel</td>\n",
       "      <td>Microsoft</td>\n",
       "      <td>General Purpose Software</td>\n",
       "      <td>50.00</td>\n",
       "      <td>N/A</td>\n",
       "    </tr>\n",
       "    <tr>\n",
       "      <th>52</th>\n",
       "      <td>Clever Devices - Unspecified</td>\n",
       "      <td>Clever Devices Ltd.</td>\n",
       "      <td>AVL Software</td>\n",
       "      <td>50.00</td>\n",
       "      <td>N/A</td>\n",
       "    </tr>\n",
       "    <tr>\n",
       "      <th>6</th>\n",
       "      <td>In house activity</td>\n",
       "      <td>N/A</td>\n",
       "      <td>N/A</td>\n",
       "      <td>48.00</td>\n",
       "      <td>N/A</td>\n",
       "    </tr>\n",
       "    <tr>\n",
       "      <th>223</th>\n",
       "      <td>Swiftly Transitime</td>\n",
       "      <td>Swiftly Inc.</td>\n",
       "      <td>Real-time info,Arrival predictions,Alerts Content Management System,Social Alerts,Alerts Subscription Service,GTFS Alerts Publication</td>\n",
       "      <td>44.00</td>\n",
       "      <td>Swiftly Transitime gives riders the very best in vehicle arrival predictions, and our APIs make it easy to connect them with whichever apps, websites, signage, or ADA-supportive media your riders use.</td>\n",
       "    </tr>\n",
       "  </tbody>\n",
       "</table>\n",
       "</div>"
      ],
      "text/plain": [
       "                       product_name                   vendor  \\\n",
       "60    Genfare Farebox (Unspecified)                  Genfare   \n",
       "212            Cubic NextBus Suite                     Cubic   \n",
       "231  Trapeze Fixed Route Scheduling            Trapeze Group   \n",
       "0               Avail - Unspecified  Avail Technologies Inc.   \n",
       "228          GMV/Syncromatics Sync      GMV Syncromatics Inc   \n",
       "111           Trillium GTFS Manager            Trillium Inc.   \n",
       "98                            Excel                Microsoft   \n",
       "52     Clever Devices - Unspecified      Clever Devices Ltd.   \n",
       "6                 In house activity                      N/A   \n",
       "223              Swiftly Transitime             Swiftly Inc.   \n",
       "\n",
       "                                                                                                                                components  \\\n",
       "60                                                                                                                            Cash Farebox   \n",
       "212                                                                                                                         Real-time info   \n",
       "231                                                                                                             Run cutting,Driver Sign-up   \n",
       "0                                                                                                                                      N/A   \n",
       "228                                                                                                Real-time info,Mobile trip planning app   \n",
       "111                                                                                               GTFS generation,GTFS Schedule Publishing   \n",
       "98                                                                                                                General Purpose Software   \n",
       "52                                                                                                                            AVL Software   \n",
       "6                                                                                                                                      N/A   \n",
       "223  Real-time info,Arrival predictions,Alerts Content Management System,Social Alerts,Alerts Subscription Service,GTFS Alerts Publication   \n",
       "\n",
       "     count_of_orgs_using_product  \\\n",
       "60                         94.00   \n",
       "212                        92.00   \n",
       "231                        74.00   \n",
       "0                          64.00   \n",
       "228                        60.00   \n",
       "111                        58.00   \n",
       "98                         50.00   \n",
       "52                         50.00   \n",
       "6                          48.00   \n",
       "223                        44.00   \n",
       "\n",
       "                                                                                                                                                                                                         notes  \n",
       "60                                                                                                                                                                                                         N/A  \n",
       "212                                                                                                                                                                 Link now leads to Umo Mobility Platform.\\n  \n",
       "231                                                                                                                                                                                                        N/A  \n",
       "0                                                                myAvail–the Enterprise Transit Management Software (ETMS) that empowers agencies to drastically improve efficiency, tracking, and compliance.  \n",
       "228                                                                                                                                                                                                        N/A  \n",
       "111                                                                                                                                                                                                        N/A  \n",
       "98                                                                                                                                                                                                         N/A  \n",
       "52                                                                                                                                                                                                         N/A  \n",
       "6                                                                                                                                                                                                          N/A  \n",
       "223  Swiftly Transitime gives riders the very best in vehicle arrival predictions, and our APIs make it easy to connect them with whichever apps, websites, signage, or ADA-supportive media your riders use.   "
      ]
     },
     "execution_count": 64,
     "metadata": {},
     "output_type": "execute_result"
    }
   ],
   "source": [
    "products[\n",
    "    [\"product_name\", \"vendor\", \"components\", \"count_of_orgs_using_product\", \"notes\"]\n",
    "].sort_values(\"count_of_orgs_using_product\", ascending=False).head(10)"
   ]
  },
  {
   "cell_type": "markdown",
   "id": "b982ebe2-7845-43f8-8cfd-c4aa18bb2e24",
   "metadata": {},
   "source": [
    "### Most popular products by component type and # of organizations "
   ]
  },
  {
   "cell_type": "code",
   "execution_count": 107,
   "id": "639f61f2-bdcb-4e32-9ccd-8dc4922ba82e",
   "metadata": {
    "scrolled": true,
    "tags": []
   },
   "outputs": [],
   "source": [
    "popular_products = popular_products.loc[\n",
    "    popular_products.groupby(\"components\")[\"count_of_orgs_using_product\"].idxmax()\n",
    "]"
   ]
  },
  {
   "cell_type": "code",
   "execution_count": 110,
   "id": "21e300a8-57d5-4765-a201-87fde22a26fa",
   "metadata": {},
   "outputs": [],
   "source": [
    "popular_products = popular_products.astype(\n",
    "    {\n",
    "        \"components\": \"string\",\n",
    "        \"product_name\": \"string\",\n",
    "        \"count_of_orgs_using_product\": \"int64\",\n",
    "    }\n",
    ").dtypes"
   ]
  },
  {
   "cell_type": "code",
   "execution_count": null,
   "id": "716e9ea0-1c25-4621-bbaf-522d93598b0e",
   "metadata": {},
   "outputs": [],
   "source": []
  },
  {
   "cell_type": "markdown",
   "id": "36bd32bc-3186-4a62-9b93-884b7cd12473",
   "metadata": {
    "tags": []
   },
   "source": [
    "## Components"
   ]
  },
  {
   "cell_type": "code",
   "execution_count": 18,
   "id": "e70a4f20-a291-4012-8cd7-03ce497a82e6",
   "metadata": {},
   "outputs": [],
   "source": [
    "components = to_snakecase(pd.read_csv(f\"{GCS_FILE_PATH}components-Grid view.csv\"))"
   ]
  },
  {
   "cell_type": "code",
   "execution_count": 19,
   "id": "be6e4d03-f72d-412e-acf6-858d97b5b37f",
   "metadata": {},
   "outputs": [
    {
     "data": {
      "text/plain": [
       "name                               0\n",
       "aliases                           95\n",
       "system                            73\n",
       "location                           1\n",
       "function_group                     3\n",
       "description                       88\n",
       "products                          37\n",
       "organization_stack_components     82\n",
       "example_stacks                    94\n",
       "example_stacks_copy              107\n",
       "properties_+_features             96\n",
       "dtype: int64"
      ]
     },
     "execution_count": 19,
     "metadata": {},
     "output_type": "execute_result"
    }
   ],
   "source": [
    "components.isna().sum()"
   ]
  },
  {
   "cell_type": "code",
   "execution_count": 20,
   "id": "bccb5c22-0889-4c42-930f-ff8fd61c6ba6",
   "metadata": {},
   "outputs": [
    {
     "data": {
      "text/plain": [
       "(107, 11)"
      ]
     },
     "execution_count": 20,
     "metadata": {},
     "output_type": "execute_result"
    }
   ],
   "source": [
    "components.shape"
   ]
  },
  {
   "cell_type": "markdown",
   "id": "8c4259ab-20e9-49f6-9a3f-575313dd7044",
   "metadata": {},
   "source": [
    "### Count number of products in each category "
   ]
  },
  {
   "cell_type": "code",
   "execution_count": 21,
   "id": "0b243b34-d762-448f-ba13-69b3581bf7db",
   "metadata": {},
   "outputs": [],
   "source": [
    "# https://stackoverflow.com/questions/51502263/pandas-dataframe-object-has-no-attribute-str\n",
    "components[\"count_of_products_in_categories\"] = (\n",
    "    components[\"products\"]\n",
    "    .str.split(\",+\")\n",
    "    .str.len()\n",
    "    .groupby(components.name)\n",
    "    .transform(\"sum\")\n",
    ")"
   ]
  },
  {
   "cell_type": "code",
   "execution_count": 22,
   "id": "03147f62-9f52-41b6-be5d-3888c2e3de78",
   "metadata": {},
   "outputs": [
    {
     "data": {
      "text/plain": [
       "107"
      ]
     },
     "execution_count": 22,
     "metadata": {},
     "output_type": "execute_result"
    }
   ],
   "source": [
    "components.name.nunique()"
   ]
  },
  {
   "cell_type": "code",
   "execution_count": 66,
   "id": "13b44e07-f687-4fa4-a20f-b55ed4c360c8",
   "metadata": {},
   "outputs": [
    {
     "data": {
      "text/html": [
       "<div>\n",
       "<style scoped>\n",
       "    .dataframe tbody tr th:only-of-type {\n",
       "        vertical-align: middle;\n",
       "    }\n",
       "\n",
       "    .dataframe tbody tr th {\n",
       "        vertical-align: top;\n",
       "    }\n",
       "\n",
       "    .dataframe thead th {\n",
       "        text-align: right;\n",
       "    }\n",
       "</style>\n",
       "<table border=\"1\" class=\"dataframe\">\n",
       "  <thead>\n",
       "    <tr style=\"text-align: right;\">\n",
       "      <th></th>\n",
       "      <th>name</th>\n",
       "      <th>aliases</th>\n",
       "      <th>system</th>\n",
       "      <th>location</th>\n",
       "      <th>function_group</th>\n",
       "      <th>description</th>\n",
       "      <th>products</th>\n",
       "      <th>organization_stack_components</th>\n",
       "      <th>example_stacks</th>\n",
       "      <th>example_stacks_copy</th>\n",
       "      <th>properties_+_features</th>\n",
       "      <th>count_of_products_in_categories</th>\n",
       "    </tr>\n",
       "  </thead>\n",
       "  <tbody>\n",
       "    <tr>\n",
       "      <th>73</th>\n",
       "      <td>Scheduling (Demand-Responsive)</td>\n",
       "      <td>NaN</td>\n",
       "      <td>Demand-Responsive Scheduling</td>\n",
       "      <td>Backoffice</td>\n",
       "      <td>Scheduling</td>\n",
       "      <td>NaN</td>\n",
       "      <td>Ecolane (Unspecified Model),TripShot - Unspecified</td>\n",
       "      <td>NaN</td>\n",
       "      <td>NaN</td>\n",
       "      <td>NaN</td>\n",
       "      <td>NaN</td>\n",
       "      <td>2.00</td>\n",
       "    </tr>\n",
       "  </tbody>\n",
       "</table>\n",
       "</div>"
      ],
      "text/plain": [
       "                              name aliases                        system  \\\n",
       "73  Scheduling (Demand-Responsive)     NaN  Demand-Responsive Scheduling   \n",
       "\n",
       "      location function_group description  \\\n",
       "73  Backoffice     Scheduling         NaN   \n",
       "\n",
       "                                              products  \\\n",
       "73  Ecolane (Unspecified Model),TripShot - Unspecified   \n",
       "\n",
       "   organization_stack_components example_stacks  example_stacks_copy  \\\n",
       "73                           NaN            NaN                  NaN   \n",
       "\n",
       "   properties_+_features  count_of_products_in_categories  \n",
       "73                   NaN                             2.00  "
      ]
     },
     "execution_count": 66,
     "metadata": {},
     "output_type": "execute_result"
    }
   ],
   "source": [
    "components.loc[components[\"name\"] == \"Scheduling (Demand-Responsive)\"]"
   ]
  },
  {
   "cell_type": "markdown",
   "id": "bcf4a30e-8a4d-4eda-b8ab-10b81c74d641",
   "metadata": {
    "tags": []
   },
   "source": [
    "### 70 unique categories & top 10 \"crowded\" product categories\n",
    "* Count number of strings in the \"products\" column and group by \"name\" column.\n",
    "* Real-time info is the most \"crowded\" category with 32 different products.\n",
    "* Most categories only have one product.\n",
    "* About 4 unique products in each category, when filtering out any categories with 0 products recorded."
   ]
  },
  {
   "cell_type": "code",
   "execution_count": 27,
   "id": "231e9f42-68aa-4426-9b6e-26330ef1a9ce",
   "metadata": {},
   "outputs": [
    {
     "data": {
      "text/plain": [
       "'70 unique categories'"
      ]
     },
     "execution_count": 27,
     "metadata": {},
     "output_type": "execute_result"
    }
   ],
   "source": [
    "f\"{product_categories.name.nunique()} unique categories\""
   ]
  },
  {
   "cell_type": "code",
   "execution_count": 29,
   "id": "775f445a-8b9f-415d-86c2-6bb6836fd81d",
   "metadata": {
    "tags": []
   },
   "outputs": [
    {
     "data": {
      "text/plain": [
       "'Median number of different products in a category is 4.0'"
      ]
     },
     "execution_count": 29,
     "metadata": {},
     "output_type": "execute_result"
    }
   ],
   "source": [
    "f\"Median number of different products in a category is {product_categories.count_of_products_in_categories.median()}\""
   ]
  },
  {
   "cell_type": "code",
   "execution_count": 24,
   "id": "5b1ca6ef-c13e-4641-828d-cfa7572065b3",
   "metadata": {},
   "outputs": [],
   "source": [
    "def bar_chart(df, x_col, y_col):\n",
    "    chart = (\n",
    "        alt.Chart(df)\n",
    "        .mark_bar()\n",
    "        .encode(\n",
    "            x=x_col,\n",
    "            y=y_col,\n",
    "            color=alt.Color(x_col, scale=alt.Scale(scheme=\"tealblues\")),\n",
    "        )\n",
    "    )\n",
    "    return chart"
   ]
  },
  {
   "cell_type": "code",
   "execution_count": 25,
   "id": "c17d5d9d-9628-4ff6-b334-b316b8bfe23c",
   "metadata": {
    "tags": []
   },
   "outputs": [],
   "source": [
    "product_categories = (\n",
    "    components[[\"name\", \"count_of_products_in_categories\"]]\n",
    "    .sort_values(\"count_of_products_in_categories\", ascending=False)\n",
    "    .rename(columns={\"name\": \"category\"})\n",
    ")"
   ]
  },
  {
   "cell_type": "code",
   "execution_count": 26,
   "id": "47fc9d4a-f4c0-4725-abf8-d10c88a148ed",
   "metadata": {},
   "outputs": [],
   "source": [
    "# filter out any categories with 0 products\n",
    "product_categories = product_categories[\n",
    "    product_categories[\"count_of_products_in_categories\"] > 0\n",
    "]"
   ]
  },
  {
   "cell_type": "code",
   "execution_count": 69,
   "id": "ef09d20f-dbba-47dc-a8f9-ee7152b732ae",
   "metadata": {},
   "outputs": [],
   "source": [
    "most_saturated_category = product_categories.head(10)"
   ]
  },
  {
   "cell_type": "code",
   "execution_count": 31,
   "id": "53367770-710c-4f09-b9fc-b01f9c4435cf",
   "metadata": {},
   "outputs": [
    {
     "data": {
      "text/html": [
       "\n",
       "<div id=\"altair-viz-f70b03a4d8c94569bae7ad9f3ac3b0d1\"></div>\n",
       "<script type=\"text/javascript\">\n",
       "  var VEGA_DEBUG = (typeof VEGA_DEBUG == \"undefined\") ? {} : VEGA_DEBUG;\n",
       "  (function(spec, embedOpt){\n",
       "    let outputDiv = document.currentScript.previousElementSibling;\n",
       "    if (outputDiv.id !== \"altair-viz-f70b03a4d8c94569bae7ad9f3ac3b0d1\") {\n",
       "      outputDiv = document.getElementById(\"altair-viz-f70b03a4d8c94569bae7ad9f3ac3b0d1\");\n",
       "    }\n",
       "    const paths = {\n",
       "      \"vega\": \"https://cdn.jsdelivr.net/npm//vega@5?noext\",\n",
       "      \"vega-lib\": \"https://cdn.jsdelivr.net/npm//vega-lib?noext\",\n",
       "      \"vega-lite\": \"https://cdn.jsdelivr.net/npm//vega-lite@4.17.0?noext\",\n",
       "      \"vega-embed\": \"https://cdn.jsdelivr.net/npm//vega-embed@6?noext\",\n",
       "    };\n",
       "\n",
       "    function maybeLoadScript(lib, version) {\n",
       "      var key = `${lib.replace(\"-\", \"\")}_version`;\n",
       "      return (VEGA_DEBUG[key] == version) ?\n",
       "        Promise.resolve(paths[lib]) :\n",
       "        new Promise(function(resolve, reject) {\n",
       "          var s = document.createElement('script');\n",
       "          document.getElementsByTagName(\"head\")[0].appendChild(s);\n",
       "          s.async = true;\n",
       "          s.onload = () => {\n",
       "            VEGA_DEBUG[key] = version;\n",
       "            return resolve(paths[lib]);\n",
       "          };\n",
       "          s.onerror = () => reject(`Error loading script: ${paths[lib]}`);\n",
       "          s.src = paths[lib];\n",
       "        });\n",
       "    }\n",
       "\n",
       "    function showError(err) {\n",
       "      outputDiv.innerHTML = `<div class=\"error\" style=\"color:red;\">${err}</div>`;\n",
       "      throw err;\n",
       "    }\n",
       "\n",
       "    function displayChart(vegaEmbed) {\n",
       "      vegaEmbed(outputDiv, spec, embedOpt)\n",
       "        .catch(err => showError(`Javascript Error: ${err.message}<br>This usually means there's a typo in your chart specification. See the javascript console for the full traceback.`));\n",
       "    }\n",
       "\n",
       "    if(typeof define === \"function\" && define.amd) {\n",
       "      requirejs.config({paths});\n",
       "      require([\"vega-embed\"], displayChart, err => showError(`Error loading script: ${err.message}`));\n",
       "    } else {\n",
       "      maybeLoadScript(\"vega\", \"5\")\n",
       "        .then(() => maybeLoadScript(\"vega-lite\", \"4.17.0\"))\n",
       "        .then(() => maybeLoadScript(\"vega-embed\", \"6\"))\n",
       "        .catch(showError)\n",
       "        .then(() => displayChart(vegaEmbed));\n",
       "    }\n",
       "  })({\"config\": {\"view\": {\"continuousWidth\": 400, \"continuousHeight\": 300}}, \"data\": {\"name\": \"data-ee0cfcb5dc2f053bdf9ce5424d3dab8e\"}, \"mark\": \"bar\", \"encoding\": {\"color\": {\"field\": \"count_of_products_in_categories\", \"scale\": {\"scheme\": \"tealblues\"}, \"type\": \"quantitative\"}, \"x\": {\"field\": \"count_of_products_in_categories\", \"type\": \"quantitative\"}, \"y\": {\"field\": \"name\", \"type\": \"nominal\"}}, \"$schema\": \"https://vega.github.io/schema/vega-lite/v4.17.0.json\", \"datasets\": {\"data-ee0cfcb5dc2f053bdf9ce5424d3dab8e\": [{\"name\": \"Real-time info\", \"count_of_products_in_categories\": 32.0}, {\"name\": \"Mobile trip planning app\", \"count_of_products_in_categories\": 19.0}, {\"name\": \"AVL On-board Computer\", \"count_of_products_in_categories\": 19.0}, {\"name\": \"Cash Farebox\", \"count_of_products_in_categories\": 17.0}, {\"name\": \"Offboard signage\", \"count_of_products_in_categories\": 16.0}, {\"name\": \"APC Sensors\", \"count_of_products_in_categories\": 14.0}, {\"name\": \"Payment processor\", \"count_of_products_in_categories\": 14.0}, {\"name\": \"Mobile ticketing\", \"count_of_products_in_categories\": 13.0}, {\"name\": \"KPI Reporting\", \"count_of_products_in_categories\": 12.0}, {\"name\": \"Web-based trip planner\", \"count_of_products_in_categories\": 12.0}]}}, {\"mode\": \"vega-lite\"});\n",
       "</script>"
      ],
      "text/plain": [
       "alt.Chart(...)"
      ]
     },
     "execution_count": 31,
     "metadata": {},
     "output_type": "execute_result"
    }
   ],
   "source": [
    "bar_chart(most_saturated_category, \"count_of_products_in_categories\", \"name\")"
   ]
  },
  {
   "cell_type": "markdown",
   "id": "ad737c48-945b-4d1a-9c45-9af3b10cfb5c",
   "metadata": {},
   "source": [
    "### Function Groups\n",
    "* Most of the products are under the \"operations\" group."
   ]
  },
  {
   "cell_type": "code",
   "execution_count": 32,
   "id": "7d6c46c8-50bb-48a3-9f08-bf616cc9a3e3",
   "metadata": {},
   "outputs": [
    {
     "data": {
      "text/plain": [
       "Operations         46\n",
       "Rider info         20\n",
       "Fare collection    10\n",
       "Scheduling          7\n",
       "Backoffice          6\n",
       "Maintenance         6\n",
       "IT                  4\n",
       "Traffic             3\n",
       "Reporting           1\n",
       "Rider Info          1\n",
       "Name: function_group, dtype: int64"
      ]
     },
     "execution_count": 32,
     "metadata": {},
     "output_type": "execute_result"
    }
   ],
   "source": [
    "components.function_group.value_counts()"
   ]
  },
  {
   "cell_type": "markdown",
   "id": "a38b6002-87c8-4e5d-af59-33905d0c12f4",
   "metadata": {
    "tags": []
   },
   "source": [
    "## Contracts"
   ]
  },
  {
   "cell_type": "code",
   "execution_count": 33,
   "id": "e0c6b2cc-c997-40dc-a47e-88d0b7cb7428",
   "metadata": {},
   "outputs": [],
   "source": [
    "contracts = (\n",
    "    to_snakecase(pd.read_csv(f\"{GCS_FILE_PATH}contracts-Grid view.csv\"))\n",
    "    .drop(columns=[\"attachments\", \"organization_stack_components\", \"name\"])\n",
    "    .rename(\n",
    "        columns={\n",
    "            \"type_of_contract:_functional_category\": \"functional_category\",\n",
    "            \"type_of_contract:_functions\": \"contract_type\",\n",
    "        }\n",
    "    )\n",
    ")"
   ]
  },
  {
   "cell_type": "code",
   "execution_count": 71,
   "id": "93437150-0a63-45df-8089-acca23fb7bca",
   "metadata": {},
   "outputs": [
    {
     "data": {
      "text/plain": [
       "(128, 11)"
      ]
     },
     "execution_count": 71,
     "metadata": {},
     "output_type": "execute_result"
    }
   ],
   "source": [
    "contracts.shape"
   ]
  },
  {
   "cell_type": "code",
   "execution_count": 70,
   "id": "754f2767-3793-4ad8-b179-0259b1760d63",
   "metadata": {},
   "outputs": [
    {
     "data": {
      "text/plain": [
       "contract_holder                0\n",
       "contract_vendor                0\n",
       "contract_name                 19\n",
       "functional_category            0\n",
       "contract_type                  0\n",
       "start_date                     5\n",
       "end_date                      90\n",
       "renewal_option                 0\n",
       "value                        119\n",
       "notes                        110\n",
       "duration_of_contract_year     90\n",
       "dtype: int64"
      ]
     },
     "execution_count": 70,
     "metadata": {},
     "output_type": "execute_result"
    }
   ],
   "source": [
    "contracts.isna().sum()"
   ]
  },
  {
   "cell_type": "code",
   "execution_count": 34,
   "id": "5d3857c4-d45c-490c-84a6-7de3f3a7f660",
   "metadata": {},
   "outputs": [
    {
     "data": {
      "text/html": [
       "<div>\n",
       "<style scoped>\n",
       "    .dataframe tbody tr th:only-of-type {\n",
       "        vertical-align: middle;\n",
       "    }\n",
       "\n",
       "    .dataframe tbody tr th {\n",
       "        vertical-align: top;\n",
       "    }\n",
       "\n",
       "    .dataframe thead th {\n",
       "        text-align: right;\n",
       "    }\n",
       "</style>\n",
       "<table border=\"1\" class=\"dataframe\">\n",
       "  <thead>\n",
       "    <tr style=\"text-align: right;\">\n",
       "      <th></th>\n",
       "      <th>contract_holder</th>\n",
       "      <th>contract_vendor</th>\n",
       "      <th>contract_name</th>\n",
       "      <th>functional_category</th>\n",
       "      <th>contract_type</th>\n",
       "      <th>start_date</th>\n",
       "      <th>end_date</th>\n",
       "      <th>renewal_option</th>\n",
       "      <th>value</th>\n",
       "      <th>notes</th>\n",
       "    </tr>\n",
       "  </thead>\n",
       "  <tbody>\n",
       "    <tr>\n",
       "      <th>39</th>\n",
       "      <td>City of Turlock</td>\n",
       "      <td>Token Transit</td>\n",
       "      <td>Label used for the procurement.</td>\n",
       "      <td>Onboard fares,Offboard fares</td>\n",
       "      <td>Alt fare validator,Mobile ticketing</td>\n",
       "      <td>2019-03-12</td>\n",
       "      <td>2020-03-11</td>\n",
       "      <td>None</td>\n",
       "      <td>NaN</td>\n",
       "      <td>NaN</td>\n",
       "    </tr>\n",
       "    <tr>\n",
       "      <th>88</th>\n",
       "      <td>San Joaquin Regional Transit District</td>\n",
       "      <td>VenTek</td>\n",
       "      <td>Label used for the procurement.</td>\n",
       "      <td>Offboard fares</td>\n",
       "      <td>Ticket vending machines</td>\n",
       "      <td>2013-06-17</td>\n",
       "      <td>NaN</td>\n",
       "      <td>None</td>\n",
       "      <td>NaN</td>\n",
       "      <td>NaN</td>\n",
       "    </tr>\n",
       "  </tbody>\n",
       "</table>\n",
       "</div>"
      ],
      "text/plain": [
       "                          contract_holder contract_vendor  \\\n",
       "39                        City of Turlock   Token Transit   \n",
       "88  San Joaquin Regional Transit District          VenTek   \n",
       "\n",
       "                      contract_name           functional_category  \\\n",
       "39  Label used for the procurement.  Onboard fares,Offboard fares   \n",
       "88  Label used for the procurement.                Offboard fares   \n",
       "\n",
       "                          contract_type  start_date    end_date  \\\n",
       "39  Alt fare validator,Mobile ticketing  2019-03-12  2020-03-11   \n",
       "88              Ticket vending machines  2013-06-17         NaN   \n",
       "\n",
       "   renewal_option  value notes  \n",
       "39           None    NaN   NaN  \n",
       "88           None    NaN   NaN  "
      ]
     },
     "execution_count": 34,
     "metadata": {},
     "output_type": "execute_result"
    }
   ],
   "source": [
    "contracts.sample(2)"
   ]
  },
  {
   "cell_type": "code",
   "execution_count": 35,
   "id": "0dd5cb5e-b67f-4ebf-88e8-f1493e3716b4",
   "metadata": {},
   "outputs": [
    {
     "data": {
      "text/plain": [
       "'51 organizations in contracts data set'"
      ]
     },
     "execution_count": 35,
     "metadata": {},
     "output_type": "execute_result"
    }
   ],
   "source": [
    "f\"{ contracts.contract_holder.nunique()} organizations in contracts data set\""
   ]
  },
  {
   "cell_type": "code",
   "execution_count": 36,
   "id": "378d0c64-112f-4b11-bf08-48b8c3a15d5a",
   "metadata": {},
   "outputs": [
    {
     "data": {
      "text/plain": [
       "'37 vendors in contracts data set'"
      ]
     },
     "execution_count": 36,
     "metadata": {},
     "output_type": "execute_result"
    }
   ],
   "source": [
    "f\"{ contracts.contract_vendor.nunique()} vendors in contracts data set\""
   ]
  },
  {
   "cell_type": "markdown",
   "id": "6fca2993-9299-48c2-af1a-3d30ae894d85",
   "metadata": {},
   "source": [
    "### 125 contracts have none/no record for renewal options, 3 autorenews"
   ]
  },
  {
   "cell_type": "code",
   "execution_count": 38,
   "id": "43fea934-b604-4d52-82c3-0b65a51ad444",
   "metadata": {},
   "outputs": [
    {
     "data": {
      "text/plain": [
       "None           125\n",
       "Auto-renews      3\n",
       "Name: renewal_option, dtype: int64"
      ]
     },
     "execution_count": 38,
     "metadata": {},
     "output_type": "execute_result"
    }
   ],
   "source": [
    "contracts.renewal_option.value_counts()"
   ]
  },
  {
   "cell_type": "markdown",
   "id": "6f7ff816-83f2-4a42-9472-bb0e6275b997",
   "metadata": {
    "tags": []
   },
   "source": [
    "### For contracts with an end date, average duration is 3 years.\n",
    "* Only 30 rows have end date values populated."
   ]
  },
  {
   "cell_type": "code",
   "execution_count": 39,
   "id": "042eb69c-916f-40f2-89fc-6f04e42f0575",
   "metadata": {},
   "outputs": [],
   "source": [
    "# Editing date time cols to the right data type\n",
    "contracts = contracts.assign(\n",
    "    start_date=pd.to_datetime(contracts.start_date, errors=\"coerce\"),\n",
    "    end_date=pd.to_datetime(contracts.end_date, errors=\"coerce\"),\n",
    ")"
   ]
  },
  {
   "cell_type": "code",
   "execution_count": 40,
   "id": "5e1cc8c7-f0e4-4e7f-aa5d-b96cf7e16eff",
   "metadata": {},
   "outputs": [],
   "source": [
    "# new column for duration of contract year.\n",
    "contracts[\"duration_of_contract_year\"] = (\n",
    "    (contracts[\"end_date\"] - contracts[\"start_date\"]).dt.days\n",
    ") / 365"
   ]
  },
  {
   "cell_type": "code",
   "execution_count": 41,
   "id": "1f6aa054-5113-4402-a5f7-e63e394d464f",
   "metadata": {},
   "outputs": [
    {
     "data": {
      "text/plain": [
       "3.0027397260273974"
      ]
     },
     "execution_count": 41,
     "metadata": {},
     "output_type": "execute_result"
    }
   ],
   "source": [
    "# Average contract length in years\n",
    "filtered_for_end_date = contracts[contracts[\"end_date\"].notnull()]\n",
    "filtered_for_end_date[\"duration_of_contract_year\"].median()"
   ]
  },
  {
   "cell_type": "markdown",
   "id": "214cb95e-2fad-485c-9e27-cdc1c4cebeae",
   "metadata": {},
   "source": [
    "### Separate contract type.\n",
    "* There are 67 different types, separating them out by commas might make it easier to to analyze?"
   ]
  },
  {
   "cell_type": "code",
   "execution_count": 37,
   "id": "7460ea66-d7aa-4641-b2e6-5aaec200f735",
   "metadata": {},
   "outputs": [
    {
     "data": {
      "text/plain": [
       "'67 unique contract types...various combos of stuff like GTFS, mobile ticketing, etc'"
      ]
     },
     "execution_count": 37,
     "metadata": {},
     "output_type": "execute_result"
    }
   ],
   "source": [
    "f\"{ contracts.contract_type.nunique()} unique contract types...various combos of stuff like GTFS, mobile ticketing, etc\""
   ]
  },
  {
   "cell_type": "code",
   "execution_count": 42,
   "id": "0ed3c405-49a6-4113-a62e-210ccbf6fe45",
   "metadata": {},
   "outputs": [],
   "source": [
    "# https://stackoverflow.com/questions/52575290/how-to-separate-string-into-multiple-rows-in-pandas\n",
    "contract_type = contracts[\"contract_type\"].str.split(\",\")\n",
    "cols = contracts.columns.difference([\"contract_type\"])"
   ]
  },
  {
   "cell_type": "code",
   "execution_count": 43,
   "id": "74631af9-f4c8-4ac3-a44a-c740aaaba3e2",
   "metadata": {},
   "outputs": [],
   "source": [
    "contracts_delinated = contracts.loc[\n",
    "    contracts.index.repeat(contract_type.str.len()), cols\n",
    "].assign(contract_type_use=list(chain.from_iterable(contract_type.tolist())))"
   ]
  },
  {
   "cell_type": "code",
   "execution_count": 73,
   "id": "6fd0bbcc-3bb7-4c00-82e3-a61ac6d437f3",
   "metadata": {
    "scrolled": true,
    "tags": []
   },
   "outputs": [
    {
     "data": {
      "text/html": [
       "<div>\n",
       "<style scoped>\n",
       "    .dataframe tbody tr th:only-of-type {\n",
       "        vertical-align: middle;\n",
       "    }\n",
       "\n",
       "    .dataframe tbody tr th {\n",
       "        vertical-align: top;\n",
       "    }\n",
       "\n",
       "    .dataframe thead th {\n",
       "        text-align: right;\n",
       "    }\n",
       "</style>\n",
       "<table border=\"1\" class=\"dataframe\">\n",
       "  <thead>\n",
       "    <tr style=\"text-align: right;\">\n",
       "      <th></th>\n",
       "      <th>contract_holder</th>\n",
       "      <th>contract_name</th>\n",
       "      <th>contract_vendor</th>\n",
       "      <th>duration_of_contract_year</th>\n",
       "      <th>end_date</th>\n",
       "      <th>functional_category</th>\n",
       "      <th>notes</th>\n",
       "      <th>renewal_option</th>\n",
       "      <th>start_date</th>\n",
       "      <th>value</th>\n",
       "      <th>contract_type_use</th>\n",
       "    </tr>\n",
       "  </thead>\n",
       "  <tbody>\n",
       "    <tr>\n",
       "      <th>44</th>\n",
       "      <td>Eastern Contra Costa Transit Authority</td>\n",
       "      <td>**Tri Delta Transit</td>\n",
       "      <td>AmericanEagle</td>\n",
       "      <td>NaN</td>\n",
       "      <td>NaT</td>\n",
       "      <td>Offboard fares</td>\n",
       "      <td>NaN</td>\n",
       "      <td>None</td>\n",
       "      <td>2017-11-01</td>\n",
       "      <td>NaN</td>\n",
       "      <td>Mobile ticketing</td>\n",
       "    </tr>\n",
       "    <tr>\n",
       "      <th>45</th>\n",
       "      <td>Eastern Contra Costa Transit Authority</td>\n",
       "      <td>**Tri Delta Transit</td>\n",
       "      <td>Connexionz Inc.</td>\n",
       "      <td>NaN</td>\n",
       "      <td>NaT</td>\n",
       "      <td>Onboard rider information,CAD/AVL,Scheduling</td>\n",
       "      <td>NaN</td>\n",
       "      <td>None</td>\n",
       "      <td>2009-05-29</td>\n",
       "      <td>NaN</td>\n",
       "      <td>GTFS Generation</td>\n",
       "    </tr>\n",
       "    <tr>\n",
       "      <th>45</th>\n",
       "      <td>Eastern Contra Costa Transit Authority</td>\n",
       "      <td>**Tri Delta Transit</td>\n",
       "      <td>Connexionz Inc.</td>\n",
       "      <td>NaN</td>\n",
       "      <td>NaT</td>\n",
       "      <td>Onboard rider information,CAD/AVL,Scheduling</td>\n",
       "      <td>NaN</td>\n",
       "      <td>None</td>\n",
       "      <td>2009-05-29</td>\n",
       "      <td>NaN</td>\n",
       "      <td>Vehicle Locations</td>\n",
       "    </tr>\n",
       "    <tr>\n",
       "      <th>45</th>\n",
       "      <td>Eastern Contra Costa Transit Authority</td>\n",
       "      <td>**Tri Delta Transit</td>\n",
       "      <td>Connexionz Inc.</td>\n",
       "      <td>NaN</td>\n",
       "      <td>NaT</td>\n",
       "      <td>Onboard rider information,CAD/AVL,Scheduling</td>\n",
       "      <td>NaN</td>\n",
       "      <td>None</td>\n",
       "      <td>2009-05-29</td>\n",
       "      <td>NaN</td>\n",
       "      <td>Arrival predictions</td>\n",
       "    </tr>\n",
       "    <tr>\n",
       "      <th>45</th>\n",
       "      <td>Eastern Contra Costa Transit Authority</td>\n",
       "      <td>**Tri Delta Transit</td>\n",
       "      <td>Connexionz Inc.</td>\n",
       "      <td>NaN</td>\n",
       "      <td>NaT</td>\n",
       "      <td>Onboard rider information,CAD/AVL,Scheduling</td>\n",
       "      <td>NaN</td>\n",
       "      <td>None</td>\n",
       "      <td>2009-05-29</td>\n",
       "      <td>NaN</td>\n",
       "      <td>Annunciator</td>\n",
       "    </tr>\n",
       "    <tr>\n",
       "      <th>45</th>\n",
       "      <td>Eastern Contra Costa Transit Authority</td>\n",
       "      <td>**Tri Delta Transit</td>\n",
       "      <td>Connexionz Inc.</td>\n",
       "      <td>NaN</td>\n",
       "      <td>NaT</td>\n",
       "      <td>Onboard rider information,CAD/AVL,Scheduling</td>\n",
       "      <td>NaN</td>\n",
       "      <td>None</td>\n",
       "      <td>2009-05-29</td>\n",
       "      <td>NaN</td>\n",
       "      <td>Interior signage</td>\n",
       "    </tr>\n",
       "    <tr>\n",
       "      <th>46</th>\n",
       "      <td>Eastern Contra Costa Transit Authority</td>\n",
       "      <td>**Tri Delta Transit</td>\n",
       "      <td>TransTrack Solutions Group</td>\n",
       "      <td>NaN</td>\n",
       "      <td>NaT</td>\n",
       "      <td>Reporting</td>\n",
       "      <td>NaN</td>\n",
       "      <td>None</td>\n",
       "      <td>2019-03-04</td>\n",
       "      <td>NaN</td>\n",
       "      <td>Reporting software</td>\n",
       "    </tr>\n",
       "    <tr>\n",
       "      <th>47</th>\n",
       "      <td>Eastern Contra Costa Transit Authority</td>\n",
       "      <td>**Tri Delta Transit/Remix</td>\n",
       "      <td>Via Inc.</td>\n",
       "      <td>NaN</td>\n",
       "      <td>NaT</td>\n",
       "      <td>Scheduling</td>\n",
       "      <td>NaN</td>\n",
       "      <td>None</td>\n",
       "      <td>2016-06-09</td>\n",
       "      <td>NaN</td>\n",
       "      <td>Scheduling Software</td>\n",
       "    </tr>\n",
       "  </tbody>\n",
       "</table>\n",
       "</div>"
      ],
      "text/plain": [
       "                           contract_holder              contract_name  \\\n",
       "44  Eastern Contra Costa Transit Authority        **Tri Delta Transit   \n",
       "45  Eastern Contra Costa Transit Authority        **Tri Delta Transit   \n",
       "45  Eastern Contra Costa Transit Authority        **Tri Delta Transit   \n",
       "45  Eastern Contra Costa Transit Authority        **Tri Delta Transit   \n",
       "45  Eastern Contra Costa Transit Authority        **Tri Delta Transit   \n",
       "45  Eastern Contra Costa Transit Authority        **Tri Delta Transit   \n",
       "46  Eastern Contra Costa Transit Authority        **Tri Delta Transit   \n",
       "47  Eastern Contra Costa Transit Authority  **Tri Delta Transit/Remix   \n",
       "\n",
       "               contract_vendor  duration_of_contract_year end_date  \\\n",
       "44               AmericanEagle                        NaN      NaT   \n",
       "45             Connexionz Inc.                        NaN      NaT   \n",
       "45             Connexionz Inc.                        NaN      NaT   \n",
       "45             Connexionz Inc.                        NaN      NaT   \n",
       "45             Connexionz Inc.                        NaN      NaT   \n",
       "45             Connexionz Inc.                        NaN      NaT   \n",
       "46  TransTrack Solutions Group                        NaN      NaT   \n",
       "47                    Via Inc.                        NaN      NaT   \n",
       "\n",
       "                             functional_category notes renewal_option  \\\n",
       "44                                Offboard fares   NaN           None   \n",
       "45  Onboard rider information,CAD/AVL,Scheduling   NaN           None   \n",
       "45  Onboard rider information,CAD/AVL,Scheduling   NaN           None   \n",
       "45  Onboard rider information,CAD/AVL,Scheduling   NaN           None   \n",
       "45  Onboard rider information,CAD/AVL,Scheduling   NaN           None   \n",
       "45  Onboard rider information,CAD/AVL,Scheduling   NaN           None   \n",
       "46                                     Reporting   NaN           None   \n",
       "47                                    Scheduling   NaN           None   \n",
       "\n",
       "   start_date  value    contract_type_use  \n",
       "44 2017-11-01    NaN     Mobile ticketing  \n",
       "45 2009-05-29    NaN      GTFS Generation  \n",
       "45 2009-05-29    NaN    Vehicle Locations  \n",
       "45 2009-05-29    NaN  Arrival predictions  \n",
       "45 2009-05-29    NaN          Annunciator  \n",
       "45 2009-05-29    NaN     Interior signage  \n",
       "46 2019-03-04    NaN   Reporting software  \n",
       "47 2016-06-09    NaN  Scheduling Software  "
      ]
     },
     "execution_count": 73,
     "metadata": {},
     "output_type": "execute_result"
    }
   ],
   "source": [
    "contracts_delinated.loc[\n",
    "    contracts_delinated[\"contract_holder\"] == \"Eastern Contra Costa Transit Authority\"\n",
    "]"
   ]
  },
  {
   "cell_type": "markdown",
   "id": "0d0512e7-e176-40b0-8887-dc25c60d6b9a",
   "metadata": {},
   "source": [
    "\n",
    "### Most common contract element\n",
    "* Most contracts have an element of GTFS Generation, followed by Vehicle Locations, and Arrival Predictions."
   ]
  },
  {
   "cell_type": "code",
   "execution_count": null,
   "id": "90743c2d-0e12-4400-82e8-06df1ae202e5",
   "metadata": {},
   "outputs": [],
   "source": [
    "most_common_contract_product = (\n",
    "    contracts_delinated.contract_type_use.value_counts()\n",
    "    .to_frame()\n",
    "    .reset_index()\n",
    "    .rename(\n",
    "        columns={\"index\": \"product_type\", \"contract_type_use\": \"number_of_contracts\"}\n",
    "    )\n",
    "    .head(10)\n",
    ")"
   ]
  },
  {
   "cell_type": "code",
   "execution_count": 46,
   "id": "1a1ed944-a1ba-443c-aaaa-8671bbd51624",
   "metadata": {},
   "outputs": [
    {
     "data": {
      "text/html": [
       "\n",
       "<div id=\"altair-viz-c39ed5479dac479d9aa6511aa9a8d2d3\"></div>\n",
       "<script type=\"text/javascript\">\n",
       "  var VEGA_DEBUG = (typeof VEGA_DEBUG == \"undefined\") ? {} : VEGA_DEBUG;\n",
       "  (function(spec, embedOpt){\n",
       "    let outputDiv = document.currentScript.previousElementSibling;\n",
       "    if (outputDiv.id !== \"altair-viz-c39ed5479dac479d9aa6511aa9a8d2d3\") {\n",
       "      outputDiv = document.getElementById(\"altair-viz-c39ed5479dac479d9aa6511aa9a8d2d3\");\n",
       "    }\n",
       "    const paths = {\n",
       "      \"vega\": \"https://cdn.jsdelivr.net/npm//vega@5?noext\",\n",
       "      \"vega-lib\": \"https://cdn.jsdelivr.net/npm//vega-lib?noext\",\n",
       "      \"vega-lite\": \"https://cdn.jsdelivr.net/npm//vega-lite@4.17.0?noext\",\n",
       "      \"vega-embed\": \"https://cdn.jsdelivr.net/npm//vega-embed@6?noext\",\n",
       "    };\n",
       "\n",
       "    function maybeLoadScript(lib, version) {\n",
       "      var key = `${lib.replace(\"-\", \"\")}_version`;\n",
       "      return (VEGA_DEBUG[key] == version) ?\n",
       "        Promise.resolve(paths[lib]) :\n",
       "        new Promise(function(resolve, reject) {\n",
       "          var s = document.createElement('script');\n",
       "          document.getElementsByTagName(\"head\")[0].appendChild(s);\n",
       "          s.async = true;\n",
       "          s.onload = () => {\n",
       "            VEGA_DEBUG[key] = version;\n",
       "            return resolve(paths[lib]);\n",
       "          };\n",
       "          s.onerror = () => reject(`Error loading script: ${paths[lib]}`);\n",
       "          s.src = paths[lib];\n",
       "        });\n",
       "    }\n",
       "\n",
       "    function showError(err) {\n",
       "      outputDiv.innerHTML = `<div class=\"error\" style=\"color:red;\">${err}</div>`;\n",
       "      throw err;\n",
       "    }\n",
       "\n",
       "    function displayChart(vegaEmbed) {\n",
       "      vegaEmbed(outputDiv, spec, embedOpt)\n",
       "        .catch(err => showError(`Javascript Error: ${err.message}<br>This usually means there's a typo in your chart specification. See the javascript console for the full traceback.`));\n",
       "    }\n",
       "\n",
       "    if(typeof define === \"function\" && define.amd) {\n",
       "      requirejs.config({paths});\n",
       "      require([\"vega-embed\"], displayChart, err => showError(`Error loading script: ${err.message}`));\n",
       "    } else {\n",
       "      maybeLoadScript(\"vega\", \"5\")\n",
       "        .then(() => maybeLoadScript(\"vega-lite\", \"4.17.0\"))\n",
       "        .then(() => maybeLoadScript(\"vega-embed\", \"6\"))\n",
       "        .catch(showError)\n",
       "        .then(() => displayChart(vegaEmbed));\n",
       "    }\n",
       "  })({\"config\": {\"view\": {\"continuousWidth\": 400, \"continuousHeight\": 300}}, \"data\": {\"name\": \"data-cb8257354940b61baf631803d43a179d\"}, \"mark\": \"bar\", \"encoding\": {\"color\": {\"field\": \"number_of_contracts\", \"scale\": {\"scheme\": \"tealblues\"}, \"type\": \"quantitative\"}, \"x\": {\"field\": \"number_of_contracts\", \"type\": \"quantitative\"}, \"y\": {\"field\": \"product_type\", \"type\": \"nominal\"}}, \"$schema\": \"https://vega.github.io/schema/vega-lite/v4.17.0.json\", \"datasets\": {\"data-cb8257354940b61baf631803d43a179d\": [{\"product_type\": \"GTFS Generation\", \"number_of_contracts\": 34}, {\"product_type\": \"Vehicle Locations\", \"number_of_contracts\": 32}, {\"product_type\": \"Arrival predictions\", \"number_of_contracts\": 31}, {\"product_type\": \"MDT\", \"number_of_contracts\": 22}, {\"product_type\": \"Real-time service alerts\", \"number_of_contracts\": 19}, {\"product_type\": \"Mobile ticketing\", \"number_of_contracts\": 16}, {\"product_type\": \"Interior signage\", \"number_of_contracts\": 16}, {\"product_type\": \"Annunciator\", \"number_of_contracts\": 16}, {\"product_type\": \"Realtime info\", \"number_of_contracts\": 15}, {\"product_type\": \"Headsigns\", \"number_of_contracts\": 13}]}}, {\"mode\": \"vega-lite\"});\n",
       "</script>"
      ],
      "text/plain": [
       "alt.Chart(...)"
      ]
     },
     "execution_count": 46,
     "metadata": {},
     "output_type": "execute_result"
    }
   ],
   "source": [
    "bar_chart(most_common_contract_product, \"number_of_contracts\", \"product_type\")"
   ]
  },
  {
   "cell_type": "markdown",
   "id": "782820c0-e56c-4a13-b409-9d5f80732eab",
   "metadata": {},
   "source": [
    "### Most popular vendors by contract awarded"
   ]
  },
  {
   "cell_type": "code",
   "execution_count": 47,
   "id": "7452c8ad-959a-4c60-ba8c-9a0e88a28363",
   "metadata": {},
   "outputs": [],
   "source": [
    "vendors2 = (\n",
    "    contracts.contract_vendor.value_counts()\n",
    "    .to_frame()\n",
    "    .reset_index()\n",
    "    .head(10)\n",
    "    .rename(columns={\"index\": \"vendor\", \"contract_vendor\": \"number_of_contracts\"})\n",
    ")"
   ]
  },
  {
   "cell_type": "code",
   "execution_count": 48,
   "id": "bc63dd15-8061-4ae8-9b2e-2ec492a44811",
   "metadata": {},
   "outputs": [
    {
     "data": {
      "text/html": [
       "\n",
       "<div id=\"altair-viz-920d7a766b774334a136a47f20f80331\"></div>\n",
       "<script type=\"text/javascript\">\n",
       "  var VEGA_DEBUG = (typeof VEGA_DEBUG == \"undefined\") ? {} : VEGA_DEBUG;\n",
       "  (function(spec, embedOpt){\n",
       "    let outputDiv = document.currentScript.previousElementSibling;\n",
       "    if (outputDiv.id !== \"altair-viz-920d7a766b774334a136a47f20f80331\") {\n",
       "      outputDiv = document.getElementById(\"altair-viz-920d7a766b774334a136a47f20f80331\");\n",
       "    }\n",
       "    const paths = {\n",
       "      \"vega\": \"https://cdn.jsdelivr.net/npm//vega@5?noext\",\n",
       "      \"vega-lib\": \"https://cdn.jsdelivr.net/npm//vega-lib?noext\",\n",
       "      \"vega-lite\": \"https://cdn.jsdelivr.net/npm//vega-lite@4.17.0?noext\",\n",
       "      \"vega-embed\": \"https://cdn.jsdelivr.net/npm//vega-embed@6?noext\",\n",
       "    };\n",
       "\n",
       "    function maybeLoadScript(lib, version) {\n",
       "      var key = `${lib.replace(\"-\", \"\")}_version`;\n",
       "      return (VEGA_DEBUG[key] == version) ?\n",
       "        Promise.resolve(paths[lib]) :\n",
       "        new Promise(function(resolve, reject) {\n",
       "          var s = document.createElement('script');\n",
       "          document.getElementsByTagName(\"head\")[0].appendChild(s);\n",
       "          s.async = true;\n",
       "          s.onload = () => {\n",
       "            VEGA_DEBUG[key] = version;\n",
       "            return resolve(paths[lib]);\n",
       "          };\n",
       "          s.onerror = () => reject(`Error loading script: ${paths[lib]}`);\n",
       "          s.src = paths[lib];\n",
       "        });\n",
       "    }\n",
       "\n",
       "    function showError(err) {\n",
       "      outputDiv.innerHTML = `<div class=\"error\" style=\"color:red;\">${err}</div>`;\n",
       "      throw err;\n",
       "    }\n",
       "\n",
       "    function displayChart(vegaEmbed) {\n",
       "      vegaEmbed(outputDiv, spec, embedOpt)\n",
       "        .catch(err => showError(`Javascript Error: ${err.message}<br>This usually means there's a typo in your chart specification. See the javascript console for the full traceback.`));\n",
       "    }\n",
       "\n",
       "    if(typeof define === \"function\" && define.amd) {\n",
       "      requirejs.config({paths});\n",
       "      require([\"vega-embed\"], displayChart, err => showError(`Error loading script: ${err.message}`));\n",
       "    } else {\n",
       "      maybeLoadScript(\"vega\", \"5\")\n",
       "        .then(() => maybeLoadScript(\"vega-lite\", \"4.17.0\"))\n",
       "        .then(() => maybeLoadScript(\"vega-embed\", \"6\"))\n",
       "        .catch(showError)\n",
       "        .then(() => displayChart(vegaEmbed));\n",
       "    }\n",
       "  })({\"config\": {\"view\": {\"continuousWidth\": 400, \"continuousHeight\": 300}}, \"data\": {\"name\": \"data-d770d01f011ebbd933fb25f21ced3bfc\"}, \"mark\": \"bar\", \"encoding\": {\"color\": {\"field\": \"number_of_contracts\", \"scale\": {\"scheme\": \"tealblues\"}, \"type\": \"quantitative\"}, \"x\": {\"field\": \"number_of_contracts\", \"type\": \"quantitative\"}, \"y\": {\"field\": \"vendor\", \"type\": \"nominal\"}}, \"$schema\": \"https://vega.github.io/schema/vega-lite/v4.17.0.json\", \"datasets\": {\"data-d770d01f011ebbd933fb25f21ced3bfc\": [{\"vendor\": \"Trillium Inc.\", \"number_of_contracts\": 22}, {\"vendor\": \"Genfare\", \"number_of_contracts\": 8}, {\"vendor\": \"GMV Syncromatics Inc\", \"number_of_contracts\": 8}, {\"vendor\": \"Token Transit\", \"number_of_contracts\": 8}, {\"vendor\": \"Trapeze Group\", \"number_of_contracts\": 7}, {\"vendor\": \"Via Inc.\", \"number_of_contracts\": 6}, {\"vendor\": \"DoubleMap Inc.\", \"number_of_contracts\": 5}, {\"vendor\": \"Clever Devices Ltd.\", \"number_of_contracts\": 5}, {\"vendor\": \"Swiftly Inc.\", \"number_of_contracts\": 5}, {\"vendor\": \"UTA\", \"number_of_contracts\": 4}]}}, {\"mode\": \"vega-lite\"});\n",
       "</script>"
      ],
      "text/plain": [
       "alt.Chart(...)"
      ]
     },
     "execution_count": 48,
     "metadata": {},
     "output_type": "execute_result"
    }
   ],
   "source": [
    "bar_chart(vendors2, \"number_of_contracts\", \"vendor\")"
   ]
  },
  {
   "cell_type": "code",
   "execution_count": null,
   "id": "9e19d55f-bb00-4bf7-a29b-e720f14c28a4",
   "metadata": {},
   "outputs": [],
   "source": [
    "### Organizations with the most contracts"
   ]
  },
  {
   "cell_type": "code",
   "execution_count": 49,
   "id": "968e84a0-bdf0-4cb9-b7e5-d5c6e0c27554",
   "metadata": {},
   "outputs": [],
   "source": [
    "contract_holders = (\n",
    "    contracts.contract_holder.value_counts()\n",
    "    .to_frame()\n",
    "    .reset_index()\n",
    "    .rename(columns={\"index\": \"holders\", \"contract_holder\": \"# contracts\"})\n",
    "    .head(10)\n",
    ")"
   ]
  },
  {
   "cell_type": "code",
   "execution_count": 50,
   "id": "d992db85-8145-490e-ab20-85fdcc0a83b3",
   "metadata": {},
   "outputs": [
    {
     "data": {
      "text/html": [
       "\n",
       "<div id=\"altair-viz-493993f80e4d43ebacf27f47bb18b329\"></div>\n",
       "<script type=\"text/javascript\">\n",
       "  var VEGA_DEBUG = (typeof VEGA_DEBUG == \"undefined\") ? {} : VEGA_DEBUG;\n",
       "  (function(spec, embedOpt){\n",
       "    let outputDiv = document.currentScript.previousElementSibling;\n",
       "    if (outputDiv.id !== \"altair-viz-493993f80e4d43ebacf27f47bb18b329\") {\n",
       "      outputDiv = document.getElementById(\"altair-viz-493993f80e4d43ebacf27f47bb18b329\");\n",
       "    }\n",
       "    const paths = {\n",
       "      \"vega\": \"https://cdn.jsdelivr.net/npm//vega@5?noext\",\n",
       "      \"vega-lib\": \"https://cdn.jsdelivr.net/npm//vega-lib?noext\",\n",
       "      \"vega-lite\": \"https://cdn.jsdelivr.net/npm//vega-lite@4.17.0?noext\",\n",
       "      \"vega-embed\": \"https://cdn.jsdelivr.net/npm//vega-embed@6?noext\",\n",
       "    };\n",
       "\n",
       "    function maybeLoadScript(lib, version) {\n",
       "      var key = `${lib.replace(\"-\", \"\")}_version`;\n",
       "      return (VEGA_DEBUG[key] == version) ?\n",
       "        Promise.resolve(paths[lib]) :\n",
       "        new Promise(function(resolve, reject) {\n",
       "          var s = document.createElement('script');\n",
       "          document.getElementsByTagName(\"head\")[0].appendChild(s);\n",
       "          s.async = true;\n",
       "          s.onload = () => {\n",
       "            VEGA_DEBUG[key] = version;\n",
       "            return resolve(paths[lib]);\n",
       "          };\n",
       "          s.onerror = () => reject(`Error loading script: ${paths[lib]}`);\n",
       "          s.src = paths[lib];\n",
       "        });\n",
       "    }\n",
       "\n",
       "    function showError(err) {\n",
       "      outputDiv.innerHTML = `<div class=\"error\" style=\"color:red;\">${err}</div>`;\n",
       "      throw err;\n",
       "    }\n",
       "\n",
       "    function displayChart(vegaEmbed) {\n",
       "      vegaEmbed(outputDiv, spec, embedOpt)\n",
       "        .catch(err => showError(`Javascript Error: ${err.message}<br>This usually means there's a typo in your chart specification. See the javascript console for the full traceback.`));\n",
       "    }\n",
       "\n",
       "    if(typeof define === \"function\" && define.amd) {\n",
       "      requirejs.config({paths});\n",
       "      require([\"vega-embed\"], displayChart, err => showError(`Error loading script: ${err.message}`));\n",
       "    } else {\n",
       "      maybeLoadScript(\"vega\", \"5\")\n",
       "        .then(() => maybeLoadScript(\"vega-lite\", \"4.17.0\"))\n",
       "        .then(() => maybeLoadScript(\"vega-embed\", \"6\"))\n",
       "        .catch(showError)\n",
       "        .then(() => displayChart(vegaEmbed));\n",
       "    }\n",
       "  })({\"config\": {\"view\": {\"continuousWidth\": 400, \"continuousHeight\": 300}}, \"data\": {\"name\": \"data-c9487d25a6a9a9a4e9eb83213164d46d\"}, \"mark\": \"bar\", \"encoding\": {\"color\": {\"field\": \"# contracts\", \"scale\": {\"scheme\": \"tealblues\"}, \"type\": \"quantitative\"}, \"x\": {\"field\": \"# contracts\", \"type\": \"quantitative\"}, \"y\": {\"field\": \"holders\", \"type\": \"nominal\"}}, \"$schema\": \"https://vega.github.io/schema/vega-lite/v4.17.0.json\", \"datasets\": {\"data-c9487d25a6a9a9a4e9eb83213164d46d\": [{\"holders\": \"Anaheim Transportation Network\", \"# contracts\": 9}, {\"holders\": \"Santa Clara Valley Transportation Authority\", \"# contracts\": 6}, {\"holders\": \"San Joaquin Regional Transit District\", \"# contracts\": 5}, {\"holders\": \"Sonoma-Marin Area Rail Transit District\", \"# contracts\": 5}, {\"holders\": \"\\\"Golden Gate Bridge, Highway and Transportation District\\\"\", \"# contracts\": 4}, {\"holders\": \"Tahoe Transportation District\", \"# contracts\": 4}, {\"holders\": \"San Mateo County Transit District\", \"# contracts\": 4}, {\"holders\": \"Riverside Transit Agency\", \"# contracts\": 4}, {\"holders\": \"Peninsula Corridor Joint Powers Board\", \"# contracts\": 4}, {\"holders\": \"Eastern Contra Costa Transit Authority\", \"# contracts\": 4}]}}, {\"mode\": \"vega-lite\"});\n",
       "</script>"
      ],
      "text/plain": [
       "alt.Chart(...)"
      ]
     },
     "execution_count": 50,
     "metadata": {},
     "output_type": "execute_result"
    }
   ],
   "source": [
    "bar_chart(contract_holders, \"# contracts\", \"holders\")"
   ]
  }
 ],
 "metadata": {
  "kernelspec": {
   "display_name": "Python 3 (ipykernel)",
   "language": "python",
   "name": "python3"
  },
  "language_info": {
   "codemirror_mode": {
    "name": "ipython",
    "version": 3
   },
   "file_extension": ".py",
   "mimetype": "text/x-python",
   "name": "python",
   "nbconvert_exporter": "python",
   "pygments_lexer": "ipython3",
   "version": "3.9.10"
  }
 },
 "nbformat": 4,
 "nbformat_minor": 5
}
