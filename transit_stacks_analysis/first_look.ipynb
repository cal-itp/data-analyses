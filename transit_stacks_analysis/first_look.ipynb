{
 "cells": [
  {
   "cell_type": "markdown",
   "id": "4b995212-343f-4eb0-b1b3-252a1009961d",
   "metadata": {},
   "source": [
    "# Taking a first look and cleaning the data.\n",
    "* [Data Source](https://airtable.com/appeVUdmRBi3K9hTS/tblLywLvMA2OTesQP/viwRRKOaZvvkSNfmU?blocks=hide)\n",
    "* [Term Explanations](https://docs.calitp.org/data-infra/datasets_and_tables/transitdatabase.html)"
   ]
  },
  {
   "cell_type": "code",
   "execution_count": 1,
   "id": "3af4662e-f7e3-4c00-bd3d-0f756f7adc5d",
   "metadata": {},
   "outputs": [
    {
     "name": "stderr",
     "output_type": "stream",
     "text": [
      "/opt/conda/lib/python3.9/site-packages/geopandas/_compat.py:111: UserWarning: The Shapely GEOS version (3.10.2-CAPI-1.16.0) is incompatible with the GEOS version PyGEOS was compiled with (3.10.1-CAPI-1.16.0). Conversions between both will be slow.\n"
     ]
    }
   ],
   "source": [
    "import numpy as np\n",
    "import pandas as pd\n",
    "\n",
    "pd.options.display.max_columns = 50\n",
    "pd.options.display.max_rows = 250\n",
    "pd.set_option(\"display.max_colwidth\", None)\n",
    "pd.options.display.float_format = \"{:.2f}\".format\n",
    "\n",
    "from itertools import chain\n",
    "from os import path\n",
    "\n",
    "import altair as alt\n",
    "import charts\n",
    "import matplotlib.pyplot as plt\n",
    "import numpy as np\n",
    "import pandas as pd\n",
    "from calitp import *\n",
    "from PIL import Image\n",
    "from shared_utils import altair_utils\n",
    "from siuba import *\n",
    "from wordcloud import STOPWORDS, ImageColorGenerator, WordCloud\n",
    "\n",
    "GCS_FILE_PATH = \"gs://calitp-analytics-data/data-analyses/transit_stacks/\""
   ]
  },
  {
   "cell_type": "markdown",
   "id": "76424a9d-ac73-4b72-9d27-fb5ab6f1d988",
   "metadata": {
    "tags": []
   },
   "source": [
    "## Products Data"
   ]
  },
  {
   "cell_type": "code",
   "execution_count": 2,
   "id": "3855fedb-1c76-4964-b7ea-ae12808eabf7",
   "metadata": {},
   "outputs": [],
   "source": [
    "# drop columns with tons of NAs\n",
    "products = (\n",
    "    to_snakecase(pd.read_csv(f\"{GCS_FILE_PATH}products_May_3.csv\"))\n",
    "    .drop(\n",
    "        columns=[\n",
    "            \"business_model_features\",\n",
    "            \"attachments\",\n",
    "            \"status\",\n",
    "            \"certifications\",\n",
    "            \"connectivity\",\n",
    "            \"accepted_input_components\",\n",
    "            \"output_components\",\n",
    "            \"input\",\n",
    "            \"output\",\n",
    "        ]\n",
    "    )\n",
    "    .rename(columns={\"name\": \"product_name\"})\n",
    ")"
   ]
  },
  {
   "cell_type": "code",
   "execution_count": 3,
   "id": "42aadca7-bd6d-4a8d-8612-a7c2e47eca51",
   "metadata": {},
   "outputs": [
    {
     "data": {
      "text/plain": [
       "Index(['product_name', 'components', 'vendor', 'url', 'requirements',\n",
       "       'product_features', 'notes', 'organization_stack_components'],\n",
       "      dtype='object')"
      ]
     },
     "execution_count": 3,
     "metadata": {},
     "output_type": "execute_result"
    }
   ],
   "source": [
    "products.columns"
   ]
  },
  {
   "cell_type": "code",
   "execution_count": 4,
   "id": "5d4e91c7-be03-4cc5-a78e-07328e142a58",
   "metadata": {},
   "outputs": [
    {
     "data": {
      "text/plain": [
       "product_name                       0\n",
       "components                         9\n",
       "vendor                            40\n",
       "url                               70\n",
       "requirements                     233\n",
       "product_features                 180\n",
       "notes                            173\n",
       "organization_stack_components    103\n",
       "dtype: int64"
      ]
     },
     "execution_count": 4,
     "metadata": {},
     "output_type": "execute_result"
    }
   ],
   "source": [
    "products.isna().sum()"
   ]
  },
  {
   "cell_type": "code",
   "execution_count": 5,
   "id": "b4c89afb-81b3-41de-a7c9-a48c7361587b",
   "metadata": {},
   "outputs": [],
   "source": [
    "### Count number of strings by column in organization_stack_components column to see how many orgs are using this vendor.\n",
    "# https://stackoverflow.com/questions/51502263/pandas-dataframe-object-has-no-attribute-str\n",
    "products[\"count_of_orgs_using_product\"] = (\n",
    "    products[\"organization_stack_components\"]\n",
    "    .str.split(\",+\")\n",
    "    .str.len()\n",
    "    .groupby(products.product_name)\n",
    "    .transform(\"sum\")\n",
    ")"
   ]
  },
  {
   "cell_type": "code",
   "execution_count": 6,
   "id": "6e7c3a18-b61f-4b8f-8e5c-cf601f2b5c67",
   "metadata": {},
   "outputs": [
    {
     "data": {
      "text/plain": [
       "'83 unique vendors'"
      ]
     },
     "execution_count": 6,
     "metadata": {},
     "output_type": "execute_result"
    }
   ],
   "source": [
    "unique_vendors = products.vendor.nunique()\n",
    "f\"{unique_vendors} unique vendors\""
   ]
  },
  {
   "cell_type": "code",
   "execution_count": 7,
   "id": "9585c978-734b-40aa-88e6-2792bd28db8b",
   "metadata": {},
   "outputs": [
    {
     "data": {
      "text/plain": [
       "'259 unique products'"
      ]
     },
     "execution_count": 7,
     "metadata": {},
     "output_type": "execute_result"
    }
   ],
   "source": [
    "f\"{products.product_name.nunique()} unique products\""
   ]
  },
  {
   "cell_type": "code",
   "execution_count": 8,
   "id": "8d443957-1163-4ea0-82b5-9dbb2a7509d7",
   "metadata": {},
   "outputs": [
    {
     "data": {
      "text/html": [
       "<div>\n",
       "<style scoped>\n",
       "    .dataframe tbody tr th:only-of-type {\n",
       "        vertical-align: middle;\n",
       "    }\n",
       "\n",
       "    .dataframe tbody tr th {\n",
       "        vertical-align: top;\n",
       "    }\n",
       "\n",
       "    .dataframe thead th {\n",
       "        text-align: right;\n",
       "    }\n",
       "</style>\n",
       "<table border=\"1\" class=\"dataframe\">\n",
       "  <thead>\n",
       "    <tr style=\"text-align: right;\">\n",
       "      <th></th>\n",
       "      <th>product_name</th>\n",
       "      <th>components</th>\n",
       "      <th>vendor</th>\n",
       "      <th>url</th>\n",
       "      <th>requirements</th>\n",
       "      <th>product_features</th>\n",
       "      <th>notes</th>\n",
       "      <th>organization_stack_components</th>\n",
       "      <th>count_of_orgs_using_product</th>\n",
       "    </tr>\n",
       "  </thead>\n",
       "  <tbody>\n",
       "    <tr>\n",
       "      <th>219</th>\n",
       "      <td>IPS Sentry</td>\n",
       "      <td>Real-time info</td>\n",
       "      <td>IPS Systems</td>\n",
       "      <td>https://ips-systems.com/Home/Sentry</td>\n",
       "      <td>NaN</td>\n",
       "      <td>NaN</td>\n",
       "      <td>NaN</td>\n",
       "      <td>Free South City Shuttle-IPS Sentry-Real-time info</td>\n",
       "      <td>1.00</td>\n",
       "    </tr>\n",
       "  </tbody>\n",
       "</table>\n",
       "</div>"
      ],
      "text/plain": [
       "    product_name      components       vendor  \\\n",
       "219   IPS Sentry  Real-time info  IPS Systems   \n",
       "\n",
       "                                     url requirements product_features notes  \\\n",
       "219  https://ips-systems.com/Home/Sentry          NaN              NaN   NaN   \n",
       "\n",
       "                         organization_stack_components  \\\n",
       "219  Free South City Shuttle-IPS Sentry-Real-time info   \n",
       "\n",
       "     count_of_orgs_using_product  \n",
       "219                         1.00  "
      ]
     },
     "execution_count": 8,
     "metadata": {},
     "output_type": "execute_result"
    }
   ],
   "source": [
    "products.sample(1)"
   ]
  },
  {
   "cell_type": "code",
   "execution_count": 9,
   "id": "90a724c3-c77c-4cf8-934e-a7ccc7e21c22",
   "metadata": {},
   "outputs": [],
   "source": [
    "products = products.fillna(\"N/A\")"
   ]
  },
  {
   "cell_type": "markdown",
   "id": "96ec9c38-c889-4068-be49-9857f3fa40cd",
   "metadata": {
    "tags": []
   },
   "source": [
    "### What % of vendors with scheduling software also provide GTFS data out of the box? "
   ]
  },
  {
   "cell_type": "code",
   "execution_count": 10,
   "id": "40eece7a-3d3e-4ae0-b1dc-062d4e2d22cb",
   "metadata": {},
   "outputs": [
    {
     "data": {
      "text/html": [
       "<div>\n",
       "<style scoped>\n",
       "    .dataframe tbody tr th:only-of-type {\n",
       "        vertical-align: middle;\n",
       "    }\n",
       "\n",
       "    .dataframe tbody tr th {\n",
       "        vertical-align: top;\n",
       "    }\n",
       "\n",
       "    .dataframe thead th {\n",
       "        text-align: right;\n",
       "    }\n",
       "</style>\n",
       "<table border=\"1\" class=\"dataframe\">\n",
       "  <thead>\n",
       "    <tr style=\"text-align: right;\">\n",
       "      <th></th>\n",
       "      <th>product_name</th>\n",
       "      <th>components</th>\n",
       "      <th>vendor</th>\n",
       "      <th>count_of_orgs_using_product</th>\n",
       "      <th>notes</th>\n",
       "    </tr>\n",
       "  </thead>\n",
       "  <tbody>\n",
       "    <tr>\n",
       "      <th>128</th>\n",
       "      <td>TripShot - Unspecified</td>\n",
       "      <td>KPI Reporting,Scheduling (Fixed-route),Scheduling (Demand-Responsive),Mobile trip planning app,Real-time info,GTFS generation</td>\n",
       "      <td>TripShot Inc.</td>\n",
       "      <td>1.00</td>\n",
       "      <td>N/A</td>\n",
       "    </tr>\n",
       "    <tr>\n",
       "      <th>234</th>\n",
       "      <td>Giro HASTUS</td>\n",
       "      <td>Scheduling (Fixed-route),GTFS generation</td>\n",
       "      <td>Giro Inc.</td>\n",
       "      <td>35.00</td>\n",
       "      <td>N/A</td>\n",
       "    </tr>\n",
       "    <tr>\n",
       "      <th>235</th>\n",
       "      <td>The Master Scheduler</td>\n",
       "      <td>Scheduling (Fixed-route),GTFS generation</td>\n",
       "      <td>The Master Scheduler</td>\n",
       "      <td>5.00</td>\n",
       "      <td>http://themasterscheduler.com/whitepapers/TMS2GT.pdf</td>\n",
       "    </tr>\n",
       "    <tr>\n",
       "      <th>236</th>\n",
       "      <td>Trapeze - Unspecified</td>\n",
       "      <td>Scheduling (Fixed-route),GTFS generation</td>\n",
       "      <td>Trapeze Group</td>\n",
       "      <td>23.00</td>\n",
       "      <td>N/A</td>\n",
       "    </tr>\n",
       "    <tr>\n",
       "      <th>237</th>\n",
       "      <td>Optibus</td>\n",
       "      <td>Scheduling (Fixed-route),GTFS Schedule Publishing,GTFS generation</td>\n",
       "      <td>Optibus</td>\n",
       "      <td>10.00</td>\n",
       "      <td>N/A</td>\n",
       "    </tr>\n",
       "  </tbody>\n",
       "</table>\n",
       "</div>"
      ],
      "text/plain": [
       "               product_name  \\\n",
       "128  TripShot - Unspecified   \n",
       "234             Giro HASTUS   \n",
       "235    The Master Scheduler   \n",
       "236   Trapeze - Unspecified   \n",
       "237                 Optibus   \n",
       "\n",
       "                                                                                                                        components  \\\n",
       "128  KPI Reporting,Scheduling (Fixed-route),Scheduling (Demand-Responsive),Mobile trip planning app,Real-time info,GTFS generation   \n",
       "234                                                                                       Scheduling (Fixed-route),GTFS generation   \n",
       "235                                                                                       Scheduling (Fixed-route),GTFS generation   \n",
       "236                                                                                       Scheduling (Fixed-route),GTFS generation   \n",
       "237                                                              Scheduling (Fixed-route),GTFS Schedule Publishing,GTFS generation   \n",
       "\n",
       "                   vendor  count_of_orgs_using_product  \\\n",
       "128         TripShot Inc.                         1.00   \n",
       "234             Giro Inc.                        35.00   \n",
       "235  The Master Scheduler                         5.00   \n",
       "236         Trapeze Group                        23.00   \n",
       "237               Optibus                        10.00   \n",
       "\n",
       "                                                     notes  \n",
       "128                                                    N/A  \n",
       "234                                                    N/A  \n",
       "235  http://themasterscheduler.com/whitepapers/TMS2GT.pdf   \n",
       "236                                                    N/A  \n",
       "237                                                    N/A  "
      ]
     },
     "execution_count": 10,
     "metadata": {},
     "output_type": "execute_result"
    }
   ],
   "source": [
    "# https://stackoverflow.com/questions/47125076/how-to-filter-rows-containing-specific-string-values-with-an-and-operator\n",
    "gtfs_scheduling = products[\n",
    "    products[\"components\"].str.contains(\"GTFS\")\n",
    "    & products[\"components\"].str.contains(\"Scheduling\")\n",
    "]\n",
    "gtfs_scheduling[\n",
    "    [\"product_name\", \"components\", \"vendor\", \"count_of_orgs_using_product\", \"notes\"]\n",
    "]"
   ]
  },
  {
   "cell_type": "code",
   "execution_count": 11,
   "id": "7853a36e-936c-4a6c-8107-741712a14817",
   "metadata": {},
   "outputs": [
    {
     "data": {
      "text/plain": [
       "5"
      ]
     },
     "execution_count": 11,
     "metadata": {},
     "output_type": "execute_result"
    }
   ],
   "source": [
    "vendors_gtfs_scheduling = gtfs_scheduling.vendor.nunique()\n",
    "vendors_gtfs_scheduling"
   ]
  },
  {
   "cell_type": "code",
   "execution_count": 12,
   "id": "57679e6d-23f4-4160-bb4b-6f508ec92a74",
   "metadata": {},
   "outputs": [
    {
     "data": {
      "text/plain": [
       "'About 0.060240963855421686 of vendors offer both GTFS generation and scheduling software'"
      ]
     },
     "execution_count": 12,
     "metadata": {},
     "output_type": "execute_result"
    }
   ],
   "source": [
    "f\"About {(vendors_gtfs_scheduling/unique_vendors)} of vendors offer both GTFS generation and scheduling software\""
   ]
  },
  {
   "cell_type": "markdown",
   "id": "26f33c65-ff6a-464a-91f7-5b39cb711d85",
   "metadata": {},
   "source": [
    "### Vendor with the most products\n"
   ]
  },
  {
   "cell_type": "code",
   "execution_count": 13,
   "id": "6ef10e40-b06f-4c01-bbcc-247c8529298b",
   "metadata": {},
   "outputs": [],
   "source": [
    "# filter out for any products w/o vendor info\n",
    "no_vendor_nulls = products.loc[products[\"vendor\"] != \"N/A\"]"
   ]
  },
  {
   "cell_type": "code",
   "execution_count": 14,
   "id": "ad2c2f48-7218-4c9c-ac4f-4428f79c4195",
   "metadata": {},
   "outputs": [
    {
     "data": {
      "text/plain": [
       "Uber Inc.                     25\n",
       "Luminator Technology Group    24\n",
       "Genfare                       13\n",
       "GMV Syncromatics Inc          10\n",
       "Connexionz Inc.                9\n",
       "Name: vendor, dtype: int64"
      ]
     },
     "execution_count": 14,
     "metadata": {},
     "output_type": "execute_result"
    }
   ],
   "source": [
    "no_vendor_nulls.vendor.value_counts().head(5)"
   ]
  },
  {
   "cell_type": "markdown",
   "id": "a86c46e5-dcd1-47ed-9dc1-c5efaaf67564",
   "metadata": {},
   "source": [
    "### Most popular products in general\n",
    "* Metric: count_of_orgs_using_product column is the count of strings delinated by comma in the organization stacks component column for each product.\n",
    "    * Assume that each value is a separate organization.\n",
    "* Genfare FareBox has 94 values, making it the most popular product\n",
    "* Many organizations rely on \"in house activity.\" "
   ]
  },
  {
   "cell_type": "code",
   "execution_count": 15,
   "id": "c7c68d67-6567-46b6-96bc-3afc924c5b1d",
   "metadata": {
    "tags": []
   },
   "outputs": [],
   "source": [
    "most_popular = (\n",
    "    products[\n",
    "        [\"product_name\", \"vendor\", \"components\", \"count_of_orgs_using_product\", \"notes\"]\n",
    "    ]\n",
    "    .sort_values(\"count_of_orgs_using_product\", ascending=False)\n",
    "    .head(10)\n",
    "    .rename(\n",
    "        columns={\n",
    "            \"count_of_orgs_using_product\": \"number_of_organizations_using_the_product\"\n",
    "        }\n",
    "    )\n",
    ")"
   ]
  },
  {
   "cell_type": "code",
   "execution_count": 16,
   "id": "d255f7c6-056a-4246-904c-6e7ff03705fc",
   "metadata": {},
   "outputs": [
    {
     "data": {
      "text/html": [
       "\n",
       "<div id=\"altair-viz-5f212428cef941308410c92499565762\"></div>\n",
       "<script type=\"text/javascript\">\n",
       "  var VEGA_DEBUG = (typeof VEGA_DEBUG == \"undefined\") ? {} : VEGA_DEBUG;\n",
       "  (function(spec, embedOpt){\n",
       "    let outputDiv = document.currentScript.previousElementSibling;\n",
       "    if (outputDiv.id !== \"altair-viz-5f212428cef941308410c92499565762\") {\n",
       "      outputDiv = document.getElementById(\"altair-viz-5f212428cef941308410c92499565762\");\n",
       "    }\n",
       "    const paths = {\n",
       "      \"vega\": \"https://cdn.jsdelivr.net/npm//vega@5?noext\",\n",
       "      \"vega-lib\": \"https://cdn.jsdelivr.net/npm//vega-lib?noext\",\n",
       "      \"vega-lite\": \"https://cdn.jsdelivr.net/npm//vega-lite@4.17.0?noext\",\n",
       "      \"vega-embed\": \"https://cdn.jsdelivr.net/npm//vega-embed@6?noext\",\n",
       "    };\n",
       "\n",
       "    function maybeLoadScript(lib, version) {\n",
       "      var key = `${lib.replace(\"-\", \"\")}_version`;\n",
       "      return (VEGA_DEBUG[key] == version) ?\n",
       "        Promise.resolve(paths[lib]) :\n",
       "        new Promise(function(resolve, reject) {\n",
       "          var s = document.createElement('script');\n",
       "          document.getElementsByTagName(\"head\")[0].appendChild(s);\n",
       "          s.async = true;\n",
       "          s.onload = () => {\n",
       "            VEGA_DEBUG[key] = version;\n",
       "            return resolve(paths[lib]);\n",
       "          };\n",
       "          s.onerror = () => reject(`Error loading script: ${paths[lib]}`);\n",
       "          s.src = paths[lib];\n",
       "        });\n",
       "    }\n",
       "\n",
       "    function showError(err) {\n",
       "      outputDiv.innerHTML = `<div class=\"error\" style=\"color:red;\">${err}</div>`;\n",
       "      throw err;\n",
       "    }\n",
       "\n",
       "    function displayChart(vegaEmbed) {\n",
       "      vegaEmbed(outputDiv, spec, embedOpt)\n",
       "        .catch(err => showError(`Javascript Error: ${err.message}<br>This usually means there's a typo in your chart specification. See the javascript console for the full traceback.`));\n",
       "    }\n",
       "\n",
       "    if(typeof define === \"function\" && define.amd) {\n",
       "      requirejs.config({paths});\n",
       "      require([\"vega-embed\"], displayChart, err => showError(`Error loading script: ${err.message}`));\n",
       "    } else {\n",
       "      maybeLoadScript(\"vega\", \"5\")\n",
       "        .then(() => maybeLoadScript(\"vega-lite\", \"4.17.0\"))\n",
       "        .then(() => maybeLoadScript(\"vega-embed\", \"6\"))\n",
       "        .catch(showError)\n",
       "        .then(() => displayChart(vegaEmbed));\n",
       "    }\n",
       "  })({\"config\": {\"view\": {\"continuousWidth\": 400, \"continuousHeight\": 300}, \"axis\": {\"domainColor\": \"#cbcbcb\", \"grid\": true, \"gridColor\": \"#cbcbcb\", \"gridWidth\": 1, \"labelColor\": \"#474747\", \"labelFont\": \"Nunito Sans\", \"labelFontSize\": 10, \"labelPadding\": 4, \"tickColor\": \"#cbcbcb\", \"tickSize\": 10, \"titleColor\": \"#333\", \"titleFont\": \"Raleway\", \"titleFontSize\": 12, \"titlePadding\": 10}, \"axisBand\": {\"grid\": false}, \"background\": \"white\", \"font\": \"Raleway\", \"header\": {\"labelFont\": \"Nunito Sans\", \"titleFont\": \"Raleway\"}, \"legend\": {\"labelColor\": \"#333\", \"labelFont\": \"Nunito Sans\", \"labelFontSize\": 11, \"labelLimit\": 0, \"padding\": 1, \"symbolSize\": 30, \"symbolType\": \"square\", \"titleColor\": \"#333\", \"titleFont\": \"Raleway\", \"titleFontSize\": 14, \"titlePadding\": 10}, \"title\": {\"anchor\": \"middle\", \"font\": \"Raleway\", \"fontSize\": 18, \"fontWeight\": 300, \"offset\": 20}}, \"data\": {\"name\": \"data-cb20120b970da62ecdd014ff56e55622\"}, \"mark\": \"bar\", \"encoding\": {\"color\": {\"field\": \"product_name\", \"legend\": {\"title\": \"Product Name\"}, \"scale\": {\"range\": [\"#2EA8CE\", \"#EB9F3C\", \"#F4D837\", \"#51BF9D\", \"#8CBCCB\", \"#9487C0\"]}, \"type\": \"nominal\"}, \"x\": {\"field\": \"number_of_organizations_using_the_product\", \"title\": \"Number Of Organizations Using The Product\", \"type\": \"quantitative\"}, \"y\": {\"field\": \"product_name\", \"sort\": \"-x\", \"title\": \"Product Name\", \"type\": \"nominal\"}}, \"height\": 250, \"title\": \"Most Popular Products\", \"width\": 400, \"$schema\": \"https://vega.github.io/schema/vega-lite/v4.17.0.json\", \"datasets\": {\"data-cb20120b970da62ecdd014ff56e55622\": [{\"product_name\": \"Genfare Farebox (Unspecified)\", \"vendor\": \"Genfare\", \"components\": \"Cash Farebox\", \"number_of_organizations_using_the_product\": 94.0, \"notes\": \"N/A\"}, {\"product_name\": \"Cubic NextBus Suite \", \"vendor\": \"Cubic\", \"components\": \"Real-time info\", \"number_of_organizations_using_the_product\": 92.0, \"notes\": \"Link now leads to Umo Mobility Platform.\\n\"}, {\"product_name\": \"Trapeze Fixed Route Scheduling\", \"vendor\": \"Trapeze Group\", \"components\": \"Run cutting,Driver Sign-up\", \"number_of_organizations_using_the_product\": 74.0, \"notes\": \"N/A\"}, {\"product_name\": \"Avail - Unspecified\", \"vendor\": \"Avail Technologies Inc.\", \"components\": \"N/A\", \"number_of_organizations_using_the_product\": 64.0, \"notes\": \"myAvail\\u2013the Enterprise Transit Management Software (ETMS) that empowers agencies to drastically improve efficiency, tracking, and compliance.\"}, {\"product_name\": \"GMV/Syncromatics Sync \", \"vendor\": \"GMV Syncromatics Inc\", \"components\": \"Real-time info,Mobile trip planning app\", \"number_of_organizations_using_the_product\": 60.0, \"notes\": \"N/A\"}, {\"product_name\": \"Trillium GTFS Manager\", \"vendor\": \"Trillium Inc.\", \"components\": \"GTFS generation,GTFS Schedule Publishing\", \"number_of_organizations_using_the_product\": 58.0, \"notes\": \"N/A\"}, {\"product_name\": \"Excel\", \"vendor\": \"Microsoft\", \"components\": \"General Purpose Software\", \"number_of_organizations_using_the_product\": 50.0, \"notes\": \"N/A\"}, {\"product_name\": \"Clever Devices - Unspecified\", \"vendor\": \"Clever Devices Ltd.\", \"components\": \"AVL Software\", \"number_of_organizations_using_the_product\": 50.0, \"notes\": \"N/A\"}, {\"product_name\": \"In house activity\", \"vendor\": \"N/A\", \"components\": \"N/A\", \"number_of_organizations_using_the_product\": 48.0, \"notes\": \"N/A\"}, {\"product_name\": \"Swiftly Transitime\", \"vendor\": \"Swiftly Inc.\", \"components\": \"Real-time info,Arrival predictions,Alerts Content Management System,Social Alerts,Alerts Subscription Service,GTFS Alerts Publication\", \"number_of_organizations_using_the_product\": 44.0, \"notes\": \"Swiftly Transitime gives riders the very best in vehicle arrival predictions, and our APIs make it easy to connect them with whichever apps, websites, signage, or ADA-supportive media your riders use. \"}]}}, {\"mode\": \"vega-lite\"});\n",
       "</script>"
      ],
      "text/plain": [
       "alt.Chart(...)"
      ]
     },
     "execution_count": 16,
     "metadata": {},
     "output_type": "execute_result"
    }
   ],
   "source": [
    "charts.basic_bar_chart(\n",
    "    most_popular,\n",
    "    \"number_of_organizations_using_the_product\",\n",
    "    \"product_name\",\n",
    "    \"product_name\",\n",
    "    \"Most Popular Products\",\n",
    ")"
   ]
  },
  {
   "cell_type": "markdown",
   "id": "b982ebe2-7845-43f8-8cfd-c4aa18bb2e24",
   "metadata": {},
   "source": [
    "### Most popular products by component type and # of organizations \n",
    "* Break out components by comma.\n",
    "* Most popular determined by count of organizations using a particularly product.\n",
    "* Only keep that product."
   ]
  },
  {
   "cell_type": "code",
   "execution_count": 17,
   "id": "94144e96-730f-4184-bc02-6d079615f9ed",
   "metadata": {},
   "outputs": [],
   "source": [
    "products2 = products.copy()"
   ]
  },
  {
   "cell_type": "code",
   "execution_count": 18,
   "id": "63d4d18b-4b88-4241-8811-9732a2f20dcc",
   "metadata": {},
   "outputs": [],
   "source": [
    "# Separate out components.\n",
    "components = products2[\"components\"].str.split(\",\")\n",
    "cols = products2.columns.difference([\"components\"])\n",
    "\n",
    "products2 = products2.loc[products.index.repeat(components.str.len()), cols].assign(\n",
    "    components=list(chain.from_iterable(components.tolist()))\n",
    ")"
   ]
  },
  {
   "cell_type": "code",
   "execution_count": 19,
   "id": "54c70854-3311-49af-ba55-47fc3863fd9b",
   "metadata": {},
   "outputs": [],
   "source": [
    "# Strip extra quotes that appear around Security System, replace it with a neater value\n",
    "products2 = products2.replace('\"', \"\", regex=True)"
   ]
  },
  {
   "cell_type": "code",
   "execution_count": 20,
   "id": "7d58c6f8-c485-4d43-be3e-4f7e468cf50c",
   "metadata": {},
   "outputs": [],
   "source": [
    "products2[\"components\"] = products2[\"components\"].replace(\n",
    "    {\n",
    "        \"Security System\\n\": \"Security System\",\n",
    "    }\n",
    ")"
   ]
  },
  {
   "cell_type": "code",
   "execution_count": 21,
   "id": "43334e5b-e6bc-4d57-b1f6-be5d8dfadd5f",
   "metadata": {},
   "outputs": [],
   "source": [
    "#filter out any products with 0 organizations in org stacks\n",
    "popular_products = products2.loc[products2[\"count_of_orgs_using_product\"] > 0 ]"
   ]
  },
  {
   "cell_type": "code",
   "execution_count": 22,
   "id": "a9ea61c9-0d0a-4cca-93f6-a58415a6722d",
   "metadata": {},
   "outputs": [],
   "source": [
    "# Only keep relevant columns, sort dataframe by A-Z using components\n",
    "popular_products = products2[\n",
    "    [\"components\", \"vendor\", \"product_name\", \"count_of_orgs_using_product\"]\n",
    "].sort_values(\"components\", ascending=True)"
   ]
  },
  {
   "cell_type": "code",
   "execution_count": 23,
   "id": "e02389da-185b-41cf-9e19-67d6b2909144",
   "metadata": {
    "scrolled": true,
    "tags": []
   },
   "outputs": [],
   "source": [
    "# Keep only the product within a component category with the highest # of organizations using this product.\n",
    "# https://stackoverflow.com/questions/53842287/select-rows-with-highest-value-from-groupby\n",
    "popular_products = (\n",
    "    popular_products.drop_duplicates()\n",
    "    .sort_values([\"components\", \"count_of_orgs_using_product\"], ascending=False)\n",
    "    .groupby([\"components\"])\n",
    "    .first()\n",
    "    .reset_index()\n",
    "    .rename(columns={\"components\": \"component\", \"product_name\": \"most_popular_product\"})\n",
    ")"
   ]
  },
  {
   "cell_type": "code",
   "execution_count": 24,
   "id": "732cdf11-bb00-47f4-b2c4-9f18dab843dc",
   "metadata": {
    "scrolled": true,
    "tags": []
   },
   "outputs": [
    {
     "data": {
      "text/html": [
       "<div>\n",
       "<style scoped>\n",
       "    .dataframe tbody tr th:only-of-type {\n",
       "        vertical-align: middle;\n",
       "    }\n",
       "\n",
       "    .dataframe tbody tr th {\n",
       "        vertical-align: top;\n",
       "    }\n",
       "\n",
       "    .dataframe thead th {\n",
       "        text-align: right;\n",
       "    }\n",
       "</style>\n",
       "<table border=\"1\" class=\"dataframe\">\n",
       "  <thead>\n",
       "    <tr style=\"text-align: right;\">\n",
       "      <th></th>\n",
       "      <th>component</th>\n",
       "      <th>count_of_orgs_using_product</th>\n",
       "    </tr>\n",
       "    <tr>\n",
       "      <th>vendor</th>\n",
       "      <th></th>\n",
       "      <th></th>\n",
       "    </tr>\n",
       "  </thead>\n",
       "  <tbody>\n",
       "    <tr>\n",
       "      <th>N/A</th>\n",
       "      <td>8</td>\n",
       "      <td>33.00</td>\n",
       "    </tr>\n",
       "    <tr>\n",
       "      <th>Swiftly Inc.</th>\n",
       "      <td>7</td>\n",
       "      <td>258.00</td>\n",
       "    </tr>\n",
       "    <tr>\n",
       "      <th>GMV Syncromatics Inc</th>\n",
       "      <td>7</td>\n",
       "      <td>212.00</td>\n",
       "    </tr>\n",
       "    <tr>\n",
       "      <th>Luminator Technology Group</th>\n",
       "      <td>5</td>\n",
       "      <td>27.00</td>\n",
       "    </tr>\n",
       "    <tr>\n",
       "      <th>Uber Inc.</th>\n",
       "      <td>5</td>\n",
       "      <td>51.00</td>\n",
       "    </tr>\n",
       "    <tr>\n",
       "      <th>Trapeze Group</th>\n",
       "      <td>3</td>\n",
       "      <td>170.00</td>\n",
       "    </tr>\n",
       "    <tr>\n",
       "      <th>Clever Devices Ltd.</th>\n",
       "      <td>3</td>\n",
       "      <td>121.00</td>\n",
       "    </tr>\n",
       "    <tr>\n",
       "      <th>Genfare</th>\n",
       "      <td>3</td>\n",
       "      <td>109.00</td>\n",
       "    </tr>\n",
       "    <tr>\n",
       "      <th>INIT SE</th>\n",
       "      <td>3</td>\n",
       "      <td>114.00</td>\n",
       "    </tr>\n",
       "    <tr>\n",
       "      <th>Hanover Displays Ltd</th>\n",
       "      <td>2</td>\n",
       "      <td>36.00</td>\n",
       "    </tr>\n",
       "    <tr>\n",
       "      <th>Trillium Inc.</th>\n",
       "      <td>2</td>\n",
       "      <td>116.00</td>\n",
       "    </tr>\n",
       "    <tr>\n",
       "      <th>TransTrack Solutions Group</th>\n",
       "      <td>2</td>\n",
       "      <td>26.00</td>\n",
       "    </tr>\n",
       "    <tr>\n",
       "      <th>Avail Technologies Inc.</th>\n",
       "      <td>2</td>\n",
       "      <td>66.00</td>\n",
       "    </tr>\n",
       "    <tr>\n",
       "      <th>Connexionz Inc.</th>\n",
       "      <td>2</td>\n",
       "      <td>39.00</td>\n",
       "    </tr>\n",
       "    <tr>\n",
       "      <th>IBI</th>\n",
       "      <td>1</td>\n",
       "      <td>1.00</td>\n",
       "    </tr>\n",
       "    <tr>\n",
       "      <th>Elavon</th>\n",
       "      <td>1</td>\n",
       "      <td>9.00</td>\n",
       "    </tr>\n",
       "    <tr>\n",
       "      <th>Via Inc.</th>\n",
       "      <td>1</td>\n",
       "      <td>11.00</td>\n",
       "    </tr>\n",
       "    <tr>\n",
       "      <th>UTA</th>\n",
       "      <td>1</td>\n",
       "      <td>26.00</td>\n",
       "    </tr>\n",
       "    <tr>\n",
       "      <th>Cubic</th>\n",
       "      <td>1</td>\n",
       "      <td>92.00</td>\n",
       "    </tr>\n",
       "    <tr>\n",
       "      <th>Dilax Inc.</th>\n",
       "      <td>1</td>\n",
       "      <td>9.00</td>\n",
       "    </tr>\n",
       "    <tr>\n",
       "      <th>Ecolane</th>\n",
       "      <td>1</td>\n",
       "      <td>4.00</td>\n",
       "    </tr>\n",
       "    <tr>\n",
       "      <th>TransLoc</th>\n",
       "      <td>1</td>\n",
       "      <td>2.00</td>\n",
       "    </tr>\n",
       "    <tr>\n",
       "      <th>SunriseSESA</th>\n",
       "      <td>1</td>\n",
       "      <td>16.00</td>\n",
       "    </tr>\n",
       "    <tr>\n",
       "      <th>GeoSpatial Technologies</th>\n",
       "      <td>1</td>\n",
       "      <td>1.00</td>\n",
       "    </tr>\n",
       "    <tr>\n",
       "      <th>SMA and Partners Ltd.</th>\n",
       "      <td>1</td>\n",
       "      <td>1.00</td>\n",
       "    </tr>\n",
       "    <tr>\n",
       "      <th>Open Transit Software Foundation</th>\n",
       "      <td>1</td>\n",
       "      <td>0.00</td>\n",
       "    </tr>\n",
       "    <tr>\n",
       "      <th>Empressa</th>\n",
       "      <td>1</td>\n",
       "      <td>10.00</td>\n",
       "    </tr>\n",
       "    <tr>\n",
       "      <th>MobilityData</th>\n",
       "      <td>1</td>\n",
       "      <td>0.00</td>\n",
       "    </tr>\n",
       "    <tr>\n",
       "      <th>Microsoft</th>\n",
       "      <td>1</td>\n",
       "      <td>50.00</td>\n",
       "    </tr>\n",
       "    <tr>\n",
       "      <th>Fiserv</th>\n",
       "      <td>1</td>\n",
       "      <td>2.00</td>\n",
       "    </tr>\n",
       "    <tr>\n",
       "      <th>Icomera AG</th>\n",
       "      <td>1</td>\n",
       "      <td>4.00</td>\n",
       "    </tr>\n",
       "    <tr>\n",
       "      <th>Wabtec</th>\n",
       "      <td>1</td>\n",
       "      <td>1.00</td>\n",
       "    </tr>\n",
       "  </tbody>\n",
       "</table>\n",
       "</div>"
      ],
      "text/plain": [
       "                                  component  count_of_orgs_using_product\n",
       "vendor                                                                  \n",
       "N/A                                       8                        33.00\n",
       "Swiftly Inc.                              7                       258.00\n",
       "GMV Syncromatics Inc                      7                       212.00\n",
       "Luminator Technology Group                5                        27.00\n",
       "Uber Inc.                                 5                        51.00\n",
       "Trapeze Group                             3                       170.00\n",
       "Clever Devices Ltd.                       3                       121.00\n",
       "Genfare                                   3                       109.00\n",
       "INIT SE                                   3                       114.00\n",
       "Hanover Displays Ltd                      2                        36.00\n",
       "Trillium Inc.                             2                       116.00\n",
       "TransTrack Solutions Group                2                        26.00\n",
       "Avail Technologies Inc.                   2                        66.00\n",
       "Connexionz Inc.                           2                        39.00\n",
       "IBI                                       1                         1.00\n",
       "Elavon                                    1                         9.00\n",
       "Via Inc.                                  1                        11.00\n",
       "UTA                                       1                        26.00\n",
       "Cubic                                     1                        92.00\n",
       "Dilax Inc.                                1                         9.00\n",
       "Ecolane                                   1                         4.00\n",
       "TransLoc                                  1                         2.00\n",
       "SunriseSESA                               1                        16.00\n",
       "GeoSpatial Technologies                   1                         1.00\n",
       "SMA and Partners Ltd.                     1                         1.00\n",
       "Open Transit Software Foundation          1                         0.00\n",
       "Empressa                                  1                        10.00\n",
       "MobilityData                              1                         0.00\n",
       "Microsoft                                 1                        50.00\n",
       "Fiserv                                    1                         2.00\n",
       "Icomera AG                                1                         4.00\n",
       "Wabtec                                    1                         1.00"
      ]
     },
     "execution_count": 24,
     "metadata": {},
     "output_type": "execute_result"
    }
   ],
   "source": [
    "#sorting vendors by how many times they appear having the most customers in a component category.\n",
    "popular_products.groupby(\"vendor\").agg(\n",
    "    {\"component\": \"count\", \"count_of_orgs_using_product\": \"sum\"}\n",
    ").sort_values(\"component\", ascending=False)"
   ]
  },
  {
   "cell_type": "markdown",
   "id": "36bd32bc-3186-4a62-9b93-884b7cd12473",
   "metadata": {
    "tags": []
   },
   "source": [
    "## Components Data"
   ]
  },
  {
   "cell_type": "code",
   "execution_count": 25,
   "id": "e70a4f20-a291-4012-8cd7-03ce497a82e6",
   "metadata": {},
   "outputs": [],
   "source": [
    "components = to_snakecase(pd.read_csv(f\"{GCS_FILE_PATH}components_May_3.csv\"))"
   ]
  },
  {
   "cell_type": "code",
   "execution_count": 26,
   "id": "bccb5c22-0889-4c42-930f-ff8fd61c6ba6",
   "metadata": {},
   "outputs": [
    {
     "data": {
      "text/plain": [
       "(107, 11)"
      ]
     },
     "execution_count": 26,
     "metadata": {},
     "output_type": "execute_result"
    }
   ],
   "source": [
    "components.shape"
   ]
  },
  {
   "cell_type": "code",
   "execution_count": 27,
   "id": "7c430144-33cc-4fa1-b87d-19c0defa639a",
   "metadata": {},
   "outputs": [
    {
     "data": {
      "text/plain": [
       "name                               0\n",
       "aliases                           95\n",
       "system                            73\n",
       "location                           1\n",
       "function_group                     3\n",
       "description                       88\n",
       "products                          36\n",
       "organization_stack_components     82\n",
       "example_stacks                    94\n",
       "example_stacks_copy              107\n",
       "properties_+_features             96\n",
       "dtype: int64"
      ]
     },
     "execution_count": 27,
     "metadata": {},
     "output_type": "execute_result"
    }
   ],
   "source": [
    "components.isna().sum()"
   ]
  },
  {
   "cell_type": "code",
   "execution_count": 28,
   "id": "0b243b34-d762-448f-ba13-69b3581bf7db",
   "metadata": {},
   "outputs": [],
   "source": [
    "# Count number of products within each component category.\n",
    "# https://stackoverflow.com/questions/51502263/pandas-dataframe-object-has-no-attribute-str\n",
    "components[\"count_of_products_in_categories\"] = (\n",
    "    components[\"products\"]\n",
    "    .str.split(\",+\")\n",
    "    .str.len()\n",
    "    .groupby(components.name)\n",
    "    .transform(\"sum\")\n",
    ")"
   ]
  },
  {
   "cell_type": "code",
   "execution_count": 29,
   "id": "13b44e07-f687-4fa4-a20f-b55ed4c360c8",
   "metadata": {},
   "outputs": [
    {
     "data": {
      "text/html": [
       "<div>\n",
       "<style scoped>\n",
       "    .dataframe tbody tr th:only-of-type {\n",
       "        vertical-align: middle;\n",
       "    }\n",
       "\n",
       "    .dataframe tbody tr th {\n",
       "        vertical-align: top;\n",
       "    }\n",
       "\n",
       "    .dataframe thead th {\n",
       "        text-align: right;\n",
       "    }\n",
       "</style>\n",
       "<table border=\"1\" class=\"dataframe\">\n",
       "  <thead>\n",
       "    <tr style=\"text-align: right;\">\n",
       "      <th></th>\n",
       "      <th>name</th>\n",
       "      <th>aliases</th>\n",
       "      <th>system</th>\n",
       "      <th>location</th>\n",
       "      <th>function_group</th>\n",
       "      <th>description</th>\n",
       "      <th>products</th>\n",
       "      <th>organization_stack_components</th>\n",
       "      <th>example_stacks</th>\n",
       "      <th>example_stacks_copy</th>\n",
       "      <th>properties_+_features</th>\n",
       "      <th>count_of_products_in_categories</th>\n",
       "    </tr>\n",
       "  </thead>\n",
       "  <tbody>\n",
       "    <tr>\n",
       "      <th>5</th>\n",
       "      <td>APC Sensors</td>\n",
       "      <td>Automatic Passenger Counters</td>\n",
       "      <td>APC</td>\n",
       "      <td>Vehicle</td>\n",
       "      <td>Operations</td>\n",
       "      <td>NaN</td>\n",
       "      <td>RouteMatch - APC,Bishop Peak BPT Ecosystem,Centum Adetel APC ,UTA APC Sensors (Unspecified),UTA Horizontal APC Sensors,UTA Overhead APC Sensors,Connexionz APC,Iris Irma Matrix,UTA Model 30 CPU,Hella APS-B,Hella APS-R-Poe,Dilax PRT-400,Dilax IRS-320R,Dilax (Unspecified Model)</td>\n",
       "      <td>\"SacRT Light Rail, e-van, SacRT GO, Elk Grove Transit Services, Folsom Stage Line, Causeway Connection, Sacramento Airport Express, SacRT Bus, SacRT Neighborhood Ride-UTA APC Sensors (Unspecified)-APC Sensors\"</td>\n",
       "      <td>NaN</td>\n",
       "      <td>NaN</td>\n",
       "      <td>NaN</td>\n",
       "      <td>14.00</td>\n",
       "    </tr>\n",
       "  </tbody>\n",
       "</table>\n",
       "</div>"
      ],
      "text/plain": [
       "          name                       aliases system location function_group  \\\n",
       "5  APC Sensors  Automatic Passenger Counters    APC  Vehicle     Operations   \n",
       "\n",
       "  description  \\\n",
       "5         NaN   \n",
       "\n",
       "                                                                                                                                                                                                                                                                              products  \\\n",
       "5  RouteMatch - APC,Bishop Peak BPT Ecosystem,Centum Adetel APC ,UTA APC Sensors (Unspecified),UTA Horizontal APC Sensors,UTA Overhead APC Sensors,Connexionz APC,Iris Irma Matrix,UTA Model 30 CPU,Hella APS-B,Hella APS-R-Poe,Dilax PRT-400,Dilax IRS-320R,Dilax (Unspecified Model)   \n",
       "\n",
       "                                                                                                                                                                                       organization_stack_components  \\\n",
       "5  \"SacRT Light Rail, e-van, SacRT GO, Elk Grove Transit Services, Folsom Stage Line, Causeway Connection, Sacramento Airport Express, SacRT Bus, SacRT Neighborhood Ride-UTA APC Sensors (Unspecified)-APC Sensors\"   \n",
       "\n",
       "  example_stacks  example_stacks_copy properties_+_features  \\\n",
       "5            NaN                  NaN                   NaN   \n",
       "\n",
       "   count_of_products_in_categories  \n",
       "5                            14.00  "
      ]
     },
     "execution_count": 29,
     "metadata": {},
     "output_type": "execute_result"
    }
   ],
   "source": [
    "# Double Checking\n",
    "components.loc[components[\"name\"] == \"APC Sensors\"]"
   ]
  },
  {
   "cell_type": "markdown",
   "id": "bcf4a30e-8a4d-4eda-b8ab-10b81c74d641",
   "metadata": {
    "tags": []
   },
   "source": [
    "### Top 10 \"crowded\" product categories\n",
    "* Count number of strings in the \"products\" column and group by \"name\" column to get total number of products in each sector.\n",
    "* Real-time info is the most \"crowded\" category with 32 different products.\n",
    "* Most categories only have one product.\n",
    "* About 4 unique products in each category, when filtering out any categories with 0 products recorded."
   ]
  },
  {
   "cell_type": "code",
   "execution_count": 30,
   "id": "231e9f42-68aa-4426-9b6e-26330ef1a9ce",
   "metadata": {},
   "outputs": [
    {
     "data": {
      "text/plain": [
       "'107 unique categories'"
      ]
     },
     "execution_count": 30,
     "metadata": {},
     "output_type": "execute_result"
    }
   ],
   "source": [
    "f\"{components.name.nunique()} unique categories\""
   ]
  },
  {
   "cell_type": "code",
   "execution_count": 31,
   "id": "c17d5d9d-9628-4ff6-b334-b316b8bfe23c",
   "metadata": {
    "tags": []
   },
   "outputs": [],
   "source": [
    "product_categories = (\n",
    "    components[[\"name\", \"count_of_products_in_categories\"]]\n",
    "    .sort_values(\"count_of_products_in_categories\", ascending=False)\n",
    "    .rename(columns={\"name\": \"category\"})\n",
    ")"
   ]
  },
  {
   "cell_type": "code",
   "execution_count": 32,
   "id": "47fc9d4a-f4c0-4725-abf8-d10c88a148ed",
   "metadata": {},
   "outputs": [],
   "source": [
    "# filter out any categories with 0 products - 36 values are empty\n",
    "product_categories = product_categories[\n",
    "    product_categories[\"count_of_products_in_categories\"] > 0\n",
    "]"
   ]
  },
  {
   "cell_type": "code",
   "execution_count": 33,
   "id": "be286754-3695-4e23-a193-ca777f2c663e",
   "metadata": {},
   "outputs": [
    {
     "data": {
      "text/plain": [
       "'4.0 average products per category'"
      ]
     },
     "execution_count": 33,
     "metadata": {},
     "output_type": "execute_result"
    }
   ],
   "source": [
    "f\"{product_categories.count_of_products_in_categories.median()} average products per category\""
   ]
  },
  {
   "cell_type": "code",
   "execution_count": 34,
   "id": "ef09d20f-dbba-47dc-a8f9-ee7152b732ae",
   "metadata": {},
   "outputs": [],
   "source": [
    "most_saturated_category = product_categories.head(10).rename(\n",
    "    columns={\"count_of_products_in_categories\": \"number of unique products\"}\n",
    ")"
   ]
  },
  {
   "cell_type": "code",
   "execution_count": 35,
   "id": "53367770-710c-4f09-b9fc-b01f9c4435cf",
   "metadata": {},
   "outputs": [
    {
     "data": {
      "text/html": [
       "\n",
       "<div id=\"altair-viz-94cf5cc4ab8e4ca6ac83a2cbb57fea6b\"></div>\n",
       "<script type=\"text/javascript\">\n",
       "  var VEGA_DEBUG = (typeof VEGA_DEBUG == \"undefined\") ? {} : VEGA_DEBUG;\n",
       "  (function(spec, embedOpt){\n",
       "    let outputDiv = document.currentScript.previousElementSibling;\n",
       "    if (outputDiv.id !== \"altair-viz-94cf5cc4ab8e4ca6ac83a2cbb57fea6b\") {\n",
       "      outputDiv = document.getElementById(\"altair-viz-94cf5cc4ab8e4ca6ac83a2cbb57fea6b\");\n",
       "    }\n",
       "    const paths = {\n",
       "      \"vega\": \"https://cdn.jsdelivr.net/npm//vega@5?noext\",\n",
       "      \"vega-lib\": \"https://cdn.jsdelivr.net/npm//vega-lib?noext\",\n",
       "      \"vega-lite\": \"https://cdn.jsdelivr.net/npm//vega-lite@4.17.0?noext\",\n",
       "      \"vega-embed\": \"https://cdn.jsdelivr.net/npm//vega-embed@6?noext\",\n",
       "    };\n",
       "\n",
       "    function maybeLoadScript(lib, version) {\n",
       "      var key = `${lib.replace(\"-\", \"\")}_version`;\n",
       "      return (VEGA_DEBUG[key] == version) ?\n",
       "        Promise.resolve(paths[lib]) :\n",
       "        new Promise(function(resolve, reject) {\n",
       "          var s = document.createElement('script');\n",
       "          document.getElementsByTagName(\"head\")[0].appendChild(s);\n",
       "          s.async = true;\n",
       "          s.onload = () => {\n",
       "            VEGA_DEBUG[key] = version;\n",
       "            return resolve(paths[lib]);\n",
       "          };\n",
       "          s.onerror = () => reject(`Error loading script: ${paths[lib]}`);\n",
       "          s.src = paths[lib];\n",
       "        });\n",
       "    }\n",
       "\n",
       "    function showError(err) {\n",
       "      outputDiv.innerHTML = `<div class=\"error\" style=\"color:red;\">${err}</div>`;\n",
       "      throw err;\n",
       "    }\n",
       "\n",
       "    function displayChart(vegaEmbed) {\n",
       "      vegaEmbed(outputDiv, spec, embedOpt)\n",
       "        .catch(err => showError(`Javascript Error: ${err.message}<br>This usually means there's a typo in your chart specification. See the javascript console for the full traceback.`));\n",
       "    }\n",
       "\n",
       "    if(typeof define === \"function\" && define.amd) {\n",
       "      requirejs.config({paths});\n",
       "      require([\"vega-embed\"], displayChart, err => showError(`Error loading script: ${err.message}`));\n",
       "    } else {\n",
       "      maybeLoadScript(\"vega\", \"5\")\n",
       "        .then(() => maybeLoadScript(\"vega-lite\", \"4.17.0\"))\n",
       "        .then(() => maybeLoadScript(\"vega-embed\", \"6\"))\n",
       "        .catch(showError)\n",
       "        .then(() => displayChart(vegaEmbed));\n",
       "    }\n",
       "  })({\"config\": {\"view\": {\"continuousWidth\": 400, \"continuousHeight\": 300}, \"axis\": {\"domainColor\": \"#cbcbcb\", \"grid\": true, \"gridColor\": \"#cbcbcb\", \"gridWidth\": 1, \"labelColor\": \"#474747\", \"labelFont\": \"Nunito Sans\", \"labelFontSize\": 10, \"labelPadding\": 4, \"tickColor\": \"#cbcbcb\", \"tickSize\": 10, \"titleColor\": \"#333\", \"titleFont\": \"Raleway\", \"titleFontSize\": 12, \"titlePadding\": 10}, \"axisBand\": {\"grid\": false}, \"background\": \"white\", \"font\": \"Raleway\", \"header\": {\"labelFont\": \"Nunito Sans\", \"titleFont\": \"Raleway\"}, \"legend\": {\"labelColor\": \"#333\", \"labelFont\": \"Nunito Sans\", \"labelFontSize\": 11, \"labelLimit\": 0, \"padding\": 1, \"symbolSize\": 30, \"symbolType\": \"square\", \"titleColor\": \"#333\", \"titleFont\": \"Raleway\", \"titleFontSize\": 14, \"titlePadding\": 10}, \"title\": {\"anchor\": \"middle\", \"font\": \"Raleway\", \"fontSize\": 18, \"fontWeight\": 300, \"offset\": 20}}, \"data\": {\"name\": \"data-04784cd730b6b827b48c8b1c0fd80aa8\"}, \"mark\": \"bar\", \"encoding\": {\"color\": {\"field\": \"category\", \"legend\": {\"title\": \"Category\"}, \"scale\": {\"range\": [\"#2EA8CE\", \"#EB9F3C\", \"#F4D837\", \"#51BF9D\", \"#8CBCCB\", \"#9487C0\"]}, \"type\": \"nominal\"}, \"x\": {\"field\": \"number of unique products\", \"title\": \"Number Of Unique Products\", \"type\": \"quantitative\"}, \"y\": {\"field\": \"category\", \"sort\": \"-x\", \"title\": \"Category\", \"type\": \"nominal\"}}, \"height\": 250, \"title\": \"Most Saturated Categories\", \"width\": 400, \"$schema\": \"https://vega.github.io/schema/vega-lite/v4.17.0.json\", \"datasets\": {\"data-04784cd730b6b827b48c8b1c0fd80aa8\": [{\"category\": \"Real-time info\", \"number of unique products\": 32.0}, {\"category\": \"AVL On-board Computer\", \"number of unique products\": 20.0}, {\"category\": \"Mobile trip planning app\", \"number of unique products\": 19.0}, {\"category\": \"Offboard signage\", \"number of unique products\": 16.0}, {\"category\": \"APC Sensors\", \"number of unique products\": 14.0}, {\"category\": \"Payment processor\", \"number of unique products\": 14.0}, {\"category\": \"Mobile ticketing\", \"number of unique products\": 13.0}, {\"category\": \"KPI Reporting\", \"number of unique products\": 13.0}, {\"category\": \"AVL Software\", \"number of unique products\": 12.0}, {\"category\": \"Web-based trip planner\", \"number of unique products\": 12.0}]}}, {\"mode\": \"vega-lite\"});\n",
       "</script>"
      ],
      "text/plain": [
       "alt.Chart(...)"
      ]
     },
     "execution_count": 35,
     "metadata": {},
     "output_type": "execute_result"
    }
   ],
   "source": [
    "charts.basic_bar_chart(\n",
    "    most_saturated_category,\n",
    "    \"number of unique products\",\n",
    "    \"category\",\n",
    "    \"category\",\n",
    "    \"Most Saturated Categories\",\n",
    ")"
   ]
  },
  {
   "cell_type": "markdown",
   "id": "ad737c48-945b-4d1a-9c45-9af3b10cfb5c",
   "metadata": {},
   "source": [
    "### Function Groups\n",
    "* Most of the products are under the \"operations\" group."
   ]
  },
  {
   "cell_type": "code",
   "execution_count": 36,
   "id": "7d6c46c8-50bb-48a3-9f08-bf616cc9a3e3",
   "metadata": {},
   "outputs": [
    {
     "data": {
      "text/plain": [
       "Operations         46\n",
       "Rider info         20\n",
       "Fare collection    10\n",
       "Scheduling          7\n",
       "Backoffice          6\n",
       "Maintenance         6\n",
       "IT                  4\n",
       "Traffic             3\n",
       "Reporting           1\n",
       "Rider Info          1\n",
       "Name: function_group, dtype: int64"
      ]
     },
     "execution_count": 36,
     "metadata": {},
     "output_type": "execute_result"
    }
   ],
   "source": [
    "components.function_group.value_counts()"
   ]
  },
  {
   "cell_type": "markdown",
   "id": "a38b6002-87c8-4e5d-af59-33905d0c12f4",
   "metadata": {
    "tags": []
   },
   "source": [
    "## Contracts Data"
   ]
  },
  {
   "cell_type": "code",
   "execution_count": 37,
   "id": "e0c6b2cc-c997-40dc-a47e-88d0b7cb7428",
   "metadata": {},
   "outputs": [],
   "source": [
    "contracts = (\n",
    "    to_snakecase(pd.read_csv(f\"{GCS_FILE_PATH}Contracts_May_11.csv\"))\n",
    "    .drop(columns=[\"attachments\", \"organization_stack_components\", \"name\"])\n",
    "    .rename(\n",
    "        columns={\n",
    "            \"type_of_contract:_functional_category\": \"functional_category\",\n",
    "            \"type_of_contract:_functions\": \"contract_type\",\n",
    "        }\n",
    "    )\n",
    ")"
   ]
  },
  {
   "cell_type": "code",
   "execution_count": 38,
   "id": "93437150-0a63-45df-8089-acca23fb7bca",
   "metadata": {},
   "outputs": [
    {
     "data": {
      "text/plain": [
       "(159, 10)"
      ]
     },
     "execution_count": 38,
     "metadata": {},
     "output_type": "execute_result"
    }
   ],
   "source": [
    "contracts.shape"
   ]
  },
  {
   "cell_type": "code",
   "execution_count": 39,
   "id": "754f2767-3793-4ad8-b179-0259b1760d63",
   "metadata": {},
   "outputs": [
    {
     "data": {
      "text/plain": [
       "contract_holder          1\n",
       "contract_vendor          1\n",
       "contract_name           48\n",
       "functional_category     16\n",
       "contract_type           14\n",
       "start_date              36\n",
       "end_date               119\n",
       "renewal_option          30\n",
       "value                  150\n",
       "notes                  111\n",
       "dtype: int64"
      ]
     },
     "execution_count": 39,
     "metadata": {},
     "output_type": "execute_result"
    }
   ],
   "source": [
    "contracts.isna().sum()"
   ]
  },
  {
   "cell_type": "code",
   "execution_count": 40,
   "id": "af14dd1d-9c3d-4e19-93ee-a5ec7a25f21f",
   "metadata": {},
   "outputs": [],
   "source": [
    "# First row of data is just N/A, so dropping it here.\n",
    "contracts = contracts.dropna(subset=[\"contract_holder\"])"
   ]
  },
  {
   "cell_type": "code",
   "execution_count": 41,
   "id": "0dd5cb5e-b67f-4ebf-88e8-f1493e3716b4",
   "metadata": {},
   "outputs": [
    {
     "data": {
      "text/plain": [
       "'56 organizations in contracts data set'"
      ]
     },
     "execution_count": 41,
     "metadata": {},
     "output_type": "execute_result"
    }
   ],
   "source": [
    "f\"{ contracts.contract_holder.nunique()} organizations in contracts data set\""
   ]
  },
  {
   "cell_type": "code",
   "execution_count": 42,
   "id": "378d0c64-112f-4b11-bf08-48b8c3a15d5a",
   "metadata": {},
   "outputs": [
    {
     "data": {
      "text/plain": [
       "'44 vendors in contracts data set'"
      ]
     },
     "execution_count": 42,
     "metadata": {},
     "output_type": "execute_result"
    }
   ],
   "source": [
    "f\"{ contracts.contract_vendor.nunique()} vendors in contracts data set\""
   ]
  },
  {
   "cell_type": "markdown",
   "id": "6fca2993-9299-48c2-af1a-3d30ae894d85",
   "metadata": {},
   "source": [
    "### 125 contracts have none/no record for renewal options, 4 auto-renews"
   ]
  },
  {
   "cell_type": "code",
   "execution_count": 43,
   "id": "43fea934-b604-4d52-82c3-0b65a51ad444",
   "metadata": {},
   "outputs": [
    {
     "data": {
      "text/plain": [
       "None           125\n",
       "Auto-renews      4\n",
       "Name: renewal_option, dtype: int64"
      ]
     },
     "execution_count": 43,
     "metadata": {},
     "output_type": "execute_result"
    }
   ],
   "source": [
    "contracts.renewal_option.value_counts()"
   ]
  },
  {
   "cell_type": "markdown",
   "id": "6f7ff816-83f2-4a42-9472-bb0e6275b997",
   "metadata": {
    "tags": []
   },
   "source": [
    "### Looking at contract duration:\n",
    "* Contracts with an end date value populated, average duration is 3 years."
   ]
  },
  {
   "cell_type": "code",
   "execution_count": 44,
   "id": "042eb69c-916f-40f2-89fc-6f04e42f0575",
   "metadata": {},
   "outputs": [],
   "source": [
    "# Editing date time cols to the right data type\n",
    "contracts = contracts.assign(\n",
    "    start_date=pd.to_datetime(contracts.start_date, errors=\"coerce\"),\n",
    "    end_date=pd.to_datetime(contracts.end_date, errors=\"coerce\"),\n",
    ")"
   ]
  },
  {
   "cell_type": "code",
   "execution_count": 45,
   "id": "5e1cc8c7-f0e4-4e7f-aa5d-b96cf7e16eff",
   "metadata": {},
   "outputs": [],
   "source": [
    "# new column for duration of contract year.\n",
    "contracts[\"duration_of_contract_year\"] = (\n",
    "    (contracts[\"end_date\"] - contracts[\"start_date\"]).dt.days\n",
    ") / 365"
   ]
  },
  {
   "cell_type": "code",
   "execution_count": 46,
   "id": "048327bb-eee8-49a6-a175-744766f3e0cb",
   "metadata": {},
   "outputs": [],
   "source": [
    "# fill in NAs with 0 and round to 0\n",
    "contracts[\"duration_of_contract_year\"] = (\n",
    "    contracts[\"duration_of_contract_year\"].fillna(0).round(0)\n",
    ")"
   ]
  },
  {
   "cell_type": "code",
   "execution_count": 47,
   "id": "51c4e4d6-34a8-4687-b999-e70bac539577",
   "metadata": {},
   "outputs": [],
   "source": [
    "# new df for rows with end dates\n",
    "filtered_for_end_date = contracts[contracts[\"end_date\"].notnull()]"
   ]
  },
  {
   "cell_type": "code",
   "execution_count": 48,
   "id": "989244e4-9cdb-4400-8ca0-710b2a566f7d",
   "metadata": {},
   "outputs": [],
   "source": [
    "duration = (\n",
    "    filtered_for_end_date.groupby(\"duration_of_contract_year\")\n",
    "    .agg({\"contract_holder\": \"count\"})\n",
    "    .reset_index()\n",
    "    .rename(\n",
    "        columns={\n",
    "            \"duration_of_contract_year\": \"contract length\",\n",
    "            \"contract_holder\": \"number_of_contracts\",\n",
    "        }\n",
    "    )\n",
    ")"
   ]
  },
  {
   "cell_type": "code",
   "execution_count": 49,
   "id": "48ef901a-6aa1-48ae-9a70-bb87133e6c17",
   "metadata": {},
   "outputs": [
    {
     "data": {
      "text/plain": [
       "3.0"
      ]
     },
     "execution_count": 49,
     "metadata": {},
     "output_type": "execute_result"
    }
   ],
   "source": [
    "filtered_for_end_date[\"duration_of_contract_year\"].median()"
   ]
  },
  {
   "cell_type": "code",
   "execution_count": 50,
   "id": "50d1cea8-7894-4701-ba7e-3446a7d62d9f",
   "metadata": {},
   "outputs": [
    {
     "data": {
      "text/plain": [
       "39"
      ]
     },
     "execution_count": 50,
     "metadata": {},
     "output_type": "execute_result"
    }
   ],
   "source": [
    "len(filtered_for_end_date)"
   ]
  },
  {
   "cell_type": "code",
   "execution_count": 51,
   "id": "273916aa-ebaf-4aba-ad4a-dcf840f924f8",
   "metadata": {},
   "outputs": [],
   "source": [
    "end_dates_by_quarters = (\n",
    "    filtered_for_end_date.groupby(\n",
    "        pd.to_datetime(filtered_for_end_date[\"end_date\"], format=\"%b-%Y\").dt.to_period(\n",
    "            \"Q\"\n",
    "        )\n",
    "    )[\"contract_holder\"]\n",
    "    .count()\n",
    "    .to_frame()\n",
    "    .reset_index()\n",
    "    .rename(\n",
    "        columns={\n",
    "            \"contract_holder\": \"number_of_contracts\",\n",
    "            \"end_date\": \"quarter of expiration\",\n",
    "        }\n",
    "    )\n",
    ")"
   ]
  },
  {
   "cell_type": "code",
   "execution_count": 52,
   "id": "0b6a45db-730e-4c55-b6ff-2035c6379273",
   "metadata": {},
   "outputs": [],
   "source": [
    "end_dates_by_quarters[\"quarter of expiration\"] = end_dates_by_quarters[\n",
    "    \"quarter of expiration\"\n",
    "].astype(\"str\")"
   ]
  },
  {
   "cell_type": "code",
   "execution_count": 53,
   "id": "4d3038b1-078b-4759-a5a1-2f8dc014017d",
   "metadata": {},
   "outputs": [
    {
     "data": {
      "text/html": [
       "\n",
       "<div id=\"altair-viz-09134b6825174d53af867b8d5b983195\"></div>\n",
       "<script type=\"text/javascript\">\n",
       "  var VEGA_DEBUG = (typeof VEGA_DEBUG == \"undefined\") ? {} : VEGA_DEBUG;\n",
       "  (function(spec, embedOpt){\n",
       "    let outputDiv = document.currentScript.previousElementSibling;\n",
       "    if (outputDiv.id !== \"altair-viz-09134b6825174d53af867b8d5b983195\") {\n",
       "      outputDiv = document.getElementById(\"altair-viz-09134b6825174d53af867b8d5b983195\");\n",
       "    }\n",
       "    const paths = {\n",
       "      \"vega\": \"https://cdn.jsdelivr.net/npm//vega@5?noext\",\n",
       "      \"vega-lib\": \"https://cdn.jsdelivr.net/npm//vega-lib?noext\",\n",
       "      \"vega-lite\": \"https://cdn.jsdelivr.net/npm//vega-lite@4.17.0?noext\",\n",
       "      \"vega-embed\": \"https://cdn.jsdelivr.net/npm//vega-embed@6?noext\",\n",
       "    };\n",
       "\n",
       "    function maybeLoadScript(lib, version) {\n",
       "      var key = `${lib.replace(\"-\", \"\")}_version`;\n",
       "      return (VEGA_DEBUG[key] == version) ?\n",
       "        Promise.resolve(paths[lib]) :\n",
       "        new Promise(function(resolve, reject) {\n",
       "          var s = document.createElement('script');\n",
       "          document.getElementsByTagName(\"head\")[0].appendChild(s);\n",
       "          s.async = true;\n",
       "          s.onload = () => {\n",
       "            VEGA_DEBUG[key] = version;\n",
       "            return resolve(paths[lib]);\n",
       "          };\n",
       "          s.onerror = () => reject(`Error loading script: ${paths[lib]}`);\n",
       "          s.src = paths[lib];\n",
       "        });\n",
       "    }\n",
       "\n",
       "    function showError(err) {\n",
       "      outputDiv.innerHTML = `<div class=\"error\" style=\"color:red;\">${err}</div>`;\n",
       "      throw err;\n",
       "    }\n",
       "\n",
       "    function displayChart(vegaEmbed) {\n",
       "      vegaEmbed(outputDiv, spec, embedOpt)\n",
       "        .catch(err => showError(`Javascript Error: ${err.message}<br>This usually means there's a typo in your chart specification. See the javascript console for the full traceback.`));\n",
       "    }\n",
       "\n",
       "    if(typeof define === \"function\" && define.amd) {\n",
       "      requirejs.config({paths});\n",
       "      require([\"vega-embed\"], displayChart, err => showError(`Error loading script: ${err.message}`));\n",
       "    } else {\n",
       "      maybeLoadScript(\"vega\", \"5\")\n",
       "        .then(() => maybeLoadScript(\"vega-lite\", \"4.17.0\"))\n",
       "        .then(() => maybeLoadScript(\"vega-embed\", \"6\"))\n",
       "        .catch(showError)\n",
       "        .then(() => displayChart(vegaEmbed));\n",
       "    }\n",
       "  })({\"config\": {\"view\": {\"continuousWidth\": 400, \"continuousHeight\": 300}, \"axis\": {\"domainColor\": \"#cbcbcb\", \"grid\": true, \"gridColor\": \"#cbcbcb\", \"gridWidth\": 1, \"labelColor\": \"#474747\", \"labelFont\": \"Nunito Sans\", \"labelFontSize\": 10, \"labelPadding\": 4, \"tickColor\": \"#cbcbcb\", \"tickSize\": 10, \"titleColor\": \"#333\", \"titleFont\": \"Raleway\", \"titleFontSize\": 12, \"titlePadding\": 10}, \"axisBand\": {\"grid\": false}, \"background\": \"white\", \"font\": \"Raleway\", \"header\": {\"labelFont\": \"Nunito Sans\", \"titleFont\": \"Raleway\"}, \"legend\": {\"labelColor\": \"#333\", \"labelFont\": \"Nunito Sans\", \"labelFontSize\": 11, \"labelLimit\": 0, \"padding\": 1, \"symbolSize\": 30, \"symbolType\": \"square\", \"titleColor\": \"#333\", \"titleFont\": \"Raleway\", \"titleFontSize\": 14, \"titlePadding\": 10}, \"title\": {\"anchor\": \"middle\", \"font\": \"Raleway\", \"fontSize\": 18, \"fontWeight\": 300, \"offset\": 20}}, \"data\": {\"name\": \"data-69eccbb911776a1d40863e2e2b7acd92\"}, \"mark\": \"bar\", \"encoding\": {\"color\": {\"field\": \"number_of_contracts\", \"legend\": {\"title\": \"Number Of Contracts\"}, \"scale\": {\"range\": [\"#2EA8CE\", \"#EB9F3C\", \"#F4D837\", \"#51BF9D\", \"#8CBCCB\", \"#9487C0\"]}, \"type\": \"quantitative\"}, \"x\": {\"field\": \"quarter of expiration\", \"title\": \"Quarter Of Expiration\", \"type\": \"nominal\"}, \"y\": {\"field\": \"number_of_contracts\", \"sort\": \"-x\", \"title\": \"Number Of Contracts\", \"type\": \"quantitative\"}}, \"height\": 250, \"title\": \"Contract Expiration Dates\", \"width\": 400, \"$schema\": \"https://vega.github.io/schema/vega-lite/v4.17.0.json\", \"datasets\": {\"data-69eccbb911776a1d40863e2e2b7acd92\": [{\"quarter of expiration\": \"2010Q3\", \"number_of_contracts\": 1}, {\"quarter of expiration\": \"2014Q4\", \"number_of_contracts\": 1}, {\"quarter of expiration\": \"2016Q1\", \"number_of_contracts\": 1}, {\"quarter of expiration\": \"2017Q1\", \"number_of_contracts\": 1}, {\"quarter of expiration\": \"2019Q2\", \"number_of_contracts\": 2}, {\"quarter of expiration\": \"2019Q4\", \"number_of_contracts\": 2}, {\"quarter of expiration\": \"2020Q1\", \"number_of_contracts\": 1}, {\"quarter of expiration\": \"2020Q2\", \"number_of_contracts\": 6}, {\"quarter of expiration\": \"2020Q3\", \"number_of_contracts\": 3}, {\"quarter of expiration\": \"2021Q1\", \"number_of_contracts\": 3}, {\"quarter of expiration\": \"2021Q2\", \"number_of_contracts\": 1}, {\"quarter of expiration\": \"2021Q3\", \"number_of_contracts\": 3}, {\"quarter of expiration\": \"2021Q4\", \"number_of_contracts\": 2}, {\"quarter of expiration\": \"2022Q1\", \"number_of_contracts\": 2}, {\"quarter of expiration\": \"2022Q2\", \"number_of_contracts\": 3}, {\"quarter of expiration\": \"2022Q3\", \"number_of_contracts\": 1}, {\"quarter of expiration\": \"2023Q2\", \"number_of_contracts\": 1}, {\"quarter of expiration\": \"2023Q4\", \"number_of_contracts\": 3}, {\"quarter of expiration\": \"2024Q2\", \"number_of_contracts\": 2}]}}, {\"mode\": \"vega-lite\"});\n",
       "</script>"
      ],
      "text/plain": [
       "alt.Chart(...)"
      ]
     },
     "execution_count": 53,
     "metadata": {},
     "output_type": "execute_result"
    }
   ],
   "source": [
    "charts.basic_bar_chart(\n",
    "    end_dates_by_quarters,\n",
    "    \"quarter of expiration\",\n",
    "    \"number_of_contracts\",\n",
    "    \"number_of_contracts\",\n",
    "    \"Contract Expiration Dates\",\n",
    ")"
   ]
  },
  {
   "cell_type": "markdown",
   "id": "214cb95e-2fad-485c-9e27-cdc1c4cebeae",
   "metadata": {},
   "source": [
    "### Separate contract type to look at elements within each contract.\n",
    "* Functional category is less descriptive, looking at contract type instead.\n",
    "* There are 71 different types because of all various combinations of GTFS, mobile ticketing, etc elements a contract can have. \n",
    "* Separating them out by commas might make it easier to to analyze.\n",
    "* After splitting the combinations, only 32 cateogries."
   ]
  },
  {
   "cell_type": "code",
   "execution_count": 54,
   "id": "7460ea66-d7aa-4641-b2e6-5aaec200f735",
   "metadata": {},
   "outputs": [
    {
     "data": {
      "text/plain": [
       "'71 unique contract types'"
      ]
     },
     "execution_count": 54,
     "metadata": {},
     "output_type": "execute_result"
    }
   ],
   "source": [
    "f\"{ contracts.contract_type.nunique()} unique contract types\""
   ]
  },
  {
   "cell_type": "code",
   "execution_count": 55,
   "id": "8cc827ce-766d-4bed-8923-4da4f3794eec",
   "metadata": {},
   "outputs": [],
   "source": [
    "contracts = contracts.fillna(\"N/A\")"
   ]
  },
  {
   "cell_type": "code",
   "execution_count": 56,
   "id": "07f455ab-c689-4480-b186-0111720fa0b5",
   "metadata": {},
   "outputs": [],
   "source": [
    "contracts[\"contract_type\"] = contracts[\"contract_type\"].replace(\n",
    "    {\n",
    "        \"Payment processor/Merchant services,Mobile ticketing\": \"Payment Processor or Merchant Services or Mobile Ticketing\",\n",
    "        \"Payment processor/Merchant services\": \"Payment Processor or Merchant Services\",\n",
    "    }\n",
    ")"
   ]
  },
  {
   "cell_type": "code",
   "execution_count": 57,
   "id": "0ed3c405-49a6-4113-a62e-210ccbf6fe45",
   "metadata": {},
   "outputs": [],
   "source": [
    "# https://stackoverflow.com/questions/52575290/how-to-separate-string-into-multiple-rows-in-pandas\n",
    "contract_type = contracts[\"contract_type\"].str.split(\",\")\n",
    "cols = contracts.columns.difference([\"contract_type\"])"
   ]
  },
  {
   "cell_type": "code",
   "execution_count": 58,
   "id": "74631af9-f4c8-4ac3-a44a-c740aaaba3e2",
   "metadata": {},
   "outputs": [],
   "source": [
    "contracts2 = contracts.loc[\n",
    "    contracts.index.repeat(contract_type.str.len()), cols\n",
    "].assign(contract_type_use=list(chain.from_iterable(contract_type.tolist())))"
   ]
  },
  {
   "cell_type": "code",
   "execution_count": 59,
   "id": "ff2e265a-b4d9-4447-9604-f3bb7c822811",
   "metadata": {},
   "outputs": [
    {
     "data": {
      "text/plain": [
       "32"
      ]
     },
     "execution_count": 59,
     "metadata": {},
     "output_type": "execute_result"
    }
   ],
   "source": [
    "contracts2.contract_type_use.nunique()"
   ]
  },
  {
   "cell_type": "code",
   "execution_count": 60,
   "id": "6fd0bbcc-3bb7-4c00-82e3-a61ac6d437f3",
   "metadata": {
    "tags": []
   },
   "outputs": [
    {
     "data": {
      "text/plain": [
       "(341, 11)"
      ]
     },
     "execution_count": 60,
     "metadata": {},
     "output_type": "execute_result"
    }
   ],
   "source": [
    "contracts2.shape"
   ]
  },
  {
   "cell_type": "code",
   "execution_count": 61,
   "id": "f5b9cd2f-ee80-4fe1-a2f6-64fd44164899",
   "metadata": {},
   "outputs": [
    {
     "data": {
      "text/html": [
       "<div>\n",
       "<style scoped>\n",
       "    .dataframe tbody tr th:only-of-type {\n",
       "        vertical-align: middle;\n",
       "    }\n",
       "\n",
       "    .dataframe tbody tr th {\n",
       "        vertical-align: top;\n",
       "    }\n",
       "\n",
       "    .dataframe thead th {\n",
       "        text-align: right;\n",
       "    }\n",
       "</style>\n",
       "<table border=\"1\" class=\"dataframe\">\n",
       "  <thead>\n",
       "    <tr style=\"text-align: right;\">\n",
       "      <th></th>\n",
       "      <th>contract_holder</th>\n",
       "      <th>contract_name</th>\n",
       "      <th>contract_vendor</th>\n",
       "      <th>duration_of_contract_year</th>\n",
       "      <th>end_date</th>\n",
       "      <th>functional_category</th>\n",
       "      <th>notes</th>\n",
       "      <th>renewal_option</th>\n",
       "      <th>start_date</th>\n",
       "      <th>value</th>\n",
       "      <th>contract_type_use</th>\n",
       "    </tr>\n",
       "  </thead>\n",
       "  <tbody>\n",
       "    <tr>\n",
       "      <th>19</th>\n",
       "      <td>City of Roseville</td>\n",
       "      <td>N/A</td>\n",
       "      <td>Elavon</td>\n",
       "      <td>0.00</td>\n",
       "      <td>N/A</td>\n",
       "      <td>N/A</td>\n",
       "      <td>Aware of vendors, but do not have a record of the actual contract\\n</td>\n",
       "      <td>N/A</td>\n",
       "      <td>N/A</td>\n",
       "      <td>N/A</td>\n",
       "      <td>Payment Processor or Merchant Services</td>\n",
       "    </tr>\n",
       "    <tr>\n",
       "      <th>38</th>\n",
       "      <td>Eastern Sierra Transit Authority</td>\n",
       "      <td>N/A</td>\n",
       "      <td>Elavon</td>\n",
       "      <td>0.00</td>\n",
       "      <td>N/A</td>\n",
       "      <td>Fare Payments</td>\n",
       "      <td>N/A</td>\n",
       "      <td>None</td>\n",
       "      <td>2018-02-01 00:00:00</td>\n",
       "      <td>N/A</td>\n",
       "      <td>Payment Processor or Merchant Services</td>\n",
       "    </tr>\n",
       "    <tr>\n",
       "      <th>79</th>\n",
       "      <td>San Joaquin Regional Transit District</td>\n",
       "      <td>N/A</td>\n",
       "      <td>FIS</td>\n",
       "      <td>0.00</td>\n",
       "      <td>N/A</td>\n",
       "      <td>Fare Payments</td>\n",
       "      <td>N/A</td>\n",
       "      <td>None</td>\n",
       "      <td>2015-07-01 00:00:00</td>\n",
       "      <td>N/A</td>\n",
       "      <td>Payment Processor or Merchant Services</td>\n",
       "    </tr>\n",
       "    <tr>\n",
       "      <th>95</th>\n",
       "      <td>Santa Cruz Metropolitan Transit District</td>\n",
       "      <td>N/A</td>\n",
       "      <td>FIS</td>\n",
       "      <td>0.00</td>\n",
       "      <td>N/A</td>\n",
       "      <td>Fare Payments</td>\n",
       "      <td>N/A</td>\n",
       "      <td>None</td>\n",
       "      <td>2017-10-13 00:00:00</td>\n",
       "      <td>N/A</td>\n",
       "      <td>Payment Processor or Merchant Services</td>\n",
       "    </tr>\n",
       "    <tr>\n",
       "      <th>107</th>\n",
       "      <td>Tahoe Transportation District</td>\n",
       "      <td>N/A</td>\n",
       "      <td>Square Inc.</td>\n",
       "      <td>0.00</td>\n",
       "      <td>N/A</td>\n",
       "      <td>Offboard fares</td>\n",
       "      <td>Aware of vendors, but do not have a record of the actual contract\\n</td>\n",
       "      <td>N/A</td>\n",
       "      <td>N/A</td>\n",
       "      <td>N/A</td>\n",
       "      <td>Payment Processor or Merchant Services</td>\n",
       "    </tr>\n",
       "    <tr>\n",
       "      <th>114</th>\n",
       "      <td>\"University of California, Davis\"</td>\n",
       "      <td>N/A</td>\n",
       "      <td>TouchNet</td>\n",
       "      <td>0.00</td>\n",
       "      <td>N/A</td>\n",
       "      <td>N/A</td>\n",
       "      <td>Aware of vendors, but do not have a record of the actual contract\\n</td>\n",
       "      <td>N/A</td>\n",
       "      <td>N/A</td>\n",
       "      <td>N/A</td>\n",
       "      <td>Payment Processor or Merchant Services</td>\n",
       "    </tr>\n",
       "    <tr>\n",
       "      <th>117</th>\n",
       "      <td>Yuba-Sutter Transit Authority</td>\n",
       "      <td>N/A</td>\n",
       "      <td>Elavon</td>\n",
       "      <td>0.00</td>\n",
       "      <td>N/A</td>\n",
       "      <td>Fare Payments</td>\n",
       "      <td>Aware of vendors, but do not have a record of the actual contract\\n</td>\n",
       "      <td>N/A</td>\n",
       "      <td>N/A</td>\n",
       "      <td>N/A</td>\n",
       "      <td>Payment Processor or Merchant Services</td>\n",
       "    </tr>\n",
       "  </tbody>\n",
       "</table>\n",
       "</div>"
      ],
      "text/plain": [
       "                              contract_holder contract_name contract_vendor  \\\n",
       "19                          City of Roseville           N/A          Elavon   \n",
       "38           Eastern Sierra Transit Authority           N/A          Elavon   \n",
       "79      San Joaquin Regional Transit District           N/A             FIS   \n",
       "95   Santa Cruz Metropolitan Transit District           N/A             FIS   \n",
       "107             Tahoe Transportation District           N/A     Square Inc.   \n",
       "114         \"University of California, Davis\"           N/A        TouchNet   \n",
       "117             Yuba-Sutter Transit Authority           N/A          Elavon   \n",
       "\n",
       "     duration_of_contract_year end_date functional_category  \\\n",
       "19                        0.00      N/A                 N/A   \n",
       "38                        0.00      N/A       Fare Payments   \n",
       "79                        0.00      N/A       Fare Payments   \n",
       "95                        0.00      N/A       Fare Payments   \n",
       "107                       0.00      N/A      Offboard fares   \n",
       "114                       0.00      N/A                 N/A   \n",
       "117                       0.00      N/A       Fare Payments   \n",
       "\n",
       "                                                                   notes  \\\n",
       "19   Aware of vendors, but do not have a record of the actual contract\\n   \n",
       "38                                                                   N/A   \n",
       "79                                                                   N/A   \n",
       "95                                                                   N/A   \n",
       "107  Aware of vendors, but do not have a record of the actual contract\\n   \n",
       "114  Aware of vendors, but do not have a record of the actual contract\\n   \n",
       "117  Aware of vendors, but do not have a record of the actual contract\\n   \n",
       "\n",
       "    renewal_option           start_date value  \\\n",
       "19             N/A                  N/A   N/A   \n",
       "38            None  2018-02-01 00:00:00   N/A   \n",
       "79            None  2015-07-01 00:00:00   N/A   \n",
       "95            None  2017-10-13 00:00:00   N/A   \n",
       "107            N/A                  N/A   N/A   \n",
       "114            N/A                  N/A   N/A   \n",
       "117            N/A                  N/A   N/A   \n",
       "\n",
       "                          contract_type_use  \n",
       "19   Payment Processor or Merchant Services  \n",
       "38   Payment Processor or Merchant Services  \n",
       "79   Payment Processor or Merchant Services  \n",
       "95   Payment Processor or Merchant Services  \n",
       "107  Payment Processor or Merchant Services  \n",
       "114  Payment Processor or Merchant Services  \n",
       "117  Payment Processor or Merchant Services  "
      ]
     },
     "execution_count": 61,
     "metadata": {},
     "output_type": "execute_result"
    }
   ],
   "source": [
    "# just checking that everything is correct\n",
    "contracts2.loc[\n",
    "    contracts2[\"contract_type_use\"] == \"Payment Processor or Merchant Services\"\n",
    "]"
   ]
  },
  {
   "cell_type": "markdown",
   "id": "0d0512e7-e176-40b0-8887-dc25c60d6b9a",
   "metadata": {},
   "source": [
    "\n",
    "### Most common contract element\n",
    "* Most contracts have an element of GTFS Generation, followed by Vehicle Locations, and Arrival Predictions."
   ]
  },
  {
   "cell_type": "code",
   "execution_count": 62,
   "id": "90743c2d-0e12-4400-82e8-06df1ae202e5",
   "metadata": {},
   "outputs": [],
   "source": [
    "most_common_contract_product = (\n",
    "    contracts2.contract_type_use.value_counts()\n",
    "    .to_frame()\n",
    "    .reset_index()\n",
    "    .rename(\n",
    "        columns={\n",
    "            \"index\": \"element\",\n",
    "            \"contract_type_use\": \"number_of_contracts with this element\",\n",
    "        }\n",
    "    )\n",
    "    .head(10)\n",
    ")"
   ]
  },
  {
   "cell_type": "code",
   "execution_count": 63,
   "id": "1a1ed944-a1ba-443c-aaaa-8671bbd51624",
   "metadata": {
    "tags": []
   },
   "outputs": [
    {
     "data": {
      "text/html": [
       "\n",
       "<div id=\"altair-viz-a80a666c77284d5e94c50cec091960d4\"></div>\n",
       "<script type=\"text/javascript\">\n",
       "  var VEGA_DEBUG = (typeof VEGA_DEBUG == \"undefined\") ? {} : VEGA_DEBUG;\n",
       "  (function(spec, embedOpt){\n",
       "    let outputDiv = document.currentScript.previousElementSibling;\n",
       "    if (outputDiv.id !== \"altair-viz-a80a666c77284d5e94c50cec091960d4\") {\n",
       "      outputDiv = document.getElementById(\"altair-viz-a80a666c77284d5e94c50cec091960d4\");\n",
       "    }\n",
       "    const paths = {\n",
       "      \"vega\": \"https://cdn.jsdelivr.net/npm//vega@5?noext\",\n",
       "      \"vega-lib\": \"https://cdn.jsdelivr.net/npm//vega-lib?noext\",\n",
       "      \"vega-lite\": \"https://cdn.jsdelivr.net/npm//vega-lite@4.17.0?noext\",\n",
       "      \"vega-embed\": \"https://cdn.jsdelivr.net/npm//vega-embed@6?noext\",\n",
       "    };\n",
       "\n",
       "    function maybeLoadScript(lib, version) {\n",
       "      var key = `${lib.replace(\"-\", \"\")}_version`;\n",
       "      return (VEGA_DEBUG[key] == version) ?\n",
       "        Promise.resolve(paths[lib]) :\n",
       "        new Promise(function(resolve, reject) {\n",
       "          var s = document.createElement('script');\n",
       "          document.getElementsByTagName(\"head\")[0].appendChild(s);\n",
       "          s.async = true;\n",
       "          s.onload = () => {\n",
       "            VEGA_DEBUG[key] = version;\n",
       "            return resolve(paths[lib]);\n",
       "          };\n",
       "          s.onerror = () => reject(`Error loading script: ${paths[lib]}`);\n",
       "          s.src = paths[lib];\n",
       "        });\n",
       "    }\n",
       "\n",
       "    function showError(err) {\n",
       "      outputDiv.innerHTML = `<div class=\"error\" style=\"color:red;\">${err}</div>`;\n",
       "      throw err;\n",
       "    }\n",
       "\n",
       "    function displayChart(vegaEmbed) {\n",
       "      vegaEmbed(outputDiv, spec, embedOpt)\n",
       "        .catch(err => showError(`Javascript Error: ${err.message}<br>This usually means there's a typo in your chart specification. See the javascript console for the full traceback.`));\n",
       "    }\n",
       "\n",
       "    if(typeof define === \"function\" && define.amd) {\n",
       "      requirejs.config({paths});\n",
       "      require([\"vega-embed\"], displayChart, err => showError(`Error loading script: ${err.message}`));\n",
       "    } else {\n",
       "      maybeLoadScript(\"vega\", \"5\")\n",
       "        .then(() => maybeLoadScript(\"vega-lite\", \"4.17.0\"))\n",
       "        .then(() => maybeLoadScript(\"vega-embed\", \"6\"))\n",
       "        .catch(showError)\n",
       "        .then(() => displayChart(vegaEmbed));\n",
       "    }\n",
       "  })({\"config\": {\"view\": {\"continuousWidth\": 400, \"continuousHeight\": 300}, \"axis\": {\"domainColor\": \"#cbcbcb\", \"grid\": true, \"gridColor\": \"#cbcbcb\", \"gridWidth\": 1, \"labelColor\": \"#474747\", \"labelFont\": \"Nunito Sans\", \"labelFontSize\": 10, \"labelPadding\": 4, \"tickColor\": \"#cbcbcb\", \"tickSize\": 10, \"titleColor\": \"#333\", \"titleFont\": \"Raleway\", \"titleFontSize\": 12, \"titlePadding\": 10}, \"axisBand\": {\"grid\": false}, \"background\": \"white\", \"font\": \"Raleway\", \"header\": {\"labelFont\": \"Nunito Sans\", \"titleFont\": \"Raleway\"}, \"legend\": {\"labelColor\": \"#333\", \"labelFont\": \"Nunito Sans\", \"labelFontSize\": 11, \"labelLimit\": 0, \"padding\": 1, \"symbolSize\": 30, \"symbolType\": \"square\", \"titleColor\": \"#333\", \"titleFont\": \"Raleway\", \"titleFontSize\": 14, \"titlePadding\": 10}, \"title\": {\"anchor\": \"middle\", \"font\": \"Raleway\", \"fontSize\": 18, \"fontWeight\": 300, \"offset\": 20}}, \"data\": {\"name\": \"data-ef22f8e943b47112bc3fe0467fc47b7b\"}, \"mark\": \"bar\", \"encoding\": {\"color\": {\"field\": \"element\", \"legend\": {\"title\": \"Element\"}, \"scale\": {\"range\": [\"#2EA8CE\", \"#EB9F3C\", \"#F4D837\", \"#51BF9D\", \"#8CBCCB\", \"#9487C0\"]}, \"type\": \"nominal\"}, \"x\": {\"field\": \"number_of_contracts with this element\", \"title\": \"Number Of Contracts With This Element\", \"type\": \"quantitative\"}, \"y\": {\"field\": \"element\", \"sort\": \"-x\", \"title\": \"Element\", \"type\": \"nominal\"}}, \"height\": 250, \"title\": \"Most Common Element in Contracts\", \"width\": 400, \"$schema\": \"https://vega.github.io/schema/vega-lite/v4.17.0.json\", \"datasets\": {\"data-ef22f8e943b47112bc3fe0467fc47b7b\": [{\"element\": \"GTFS Generation\", \"number_of_contracts with this element\": 35}, {\"element\": \"Vehicle Locations\", \"number_of_contracts with this element\": 34}, {\"element\": \"Arrival predictions\", \"number_of_contracts with this element\": 33}, {\"element\": \"MDT\", \"number_of_contracts with this element\": 23}, {\"element\": \"Real-time service alerts\", \"number_of_contracts with this element\": 19}, {\"element\": \"Annunciator\", \"number_of_contracts with this element\": 18}, {\"element\": \"Interior signage\", \"number_of_contracts with this element\": 18}, {\"element\": \"Headsigns\", \"number_of_contracts with this element\": 16}, {\"element\": \"Mobile ticketing\", \"number_of_contracts with this element\": 15}, {\"element\": \"Realtime info\", \"number_of_contracts with this element\": 15}]}}, {\"mode\": \"vega-lite\"});\n",
       "</script>"
      ],
      "text/plain": [
       "alt.Chart(...)"
      ]
     },
     "execution_count": 63,
     "metadata": {},
     "output_type": "execute_result"
    }
   ],
   "source": [
    "charts.basic_bar_chart(\n",
    "    most_common_contract_product,\n",
    "    \"number_of_contracts with this element\",\n",
    "    \"element\",\n",
    "    \"element\",\n",
    "    \"Most Common Element in Contracts\",\n",
    ")"
   ]
  },
  {
   "cell_type": "code",
   "execution_count": 64,
   "id": "bc1ec3ab-5c0d-40a1-aa67-ae18e4445e73",
   "metadata": {},
   "outputs": [],
   "source": [
    "elements_only = contracts2[\"contract_type_use\"]"
   ]
  },
  {
   "cell_type": "code",
   "execution_count": 65,
   "id": "f7e865a7-cb01-43b7-a78a-9ed74d264f09",
   "metadata": {},
   "outputs": [],
   "source": [
    "# Word cloud from Natalie's notebook\n",
    "def word_cloud_gen(df):\n",
    "    test = \" \".join(df).lower()\n",
    "    wordcloud2 = WordCloud(\n",
    "        width=800,\n",
    "        height=400,\n",
    "        stopwords=STOPWORDS,\n",
    "        collocations=True,\n",
    "        background_color=\"white\",\n",
    "    ).generate(test)\n",
    "\n",
    "    plt.figure(figsize=(12, 6))\n",
    "    plt.imshow(wordcloud2, interpolation=\"bilInear\")\n",
    "    plt.axis(\"off\")\n",
    "    plt.show()"
   ]
  },
  {
   "cell_type": "code",
   "execution_count": 66,
   "id": "84c54534-8c1a-4044-9c87-2be1f20c9ab0",
   "metadata": {},
   "outputs": [
    {
     "data": {
      "image/png": "[encoded data removed]",
      "text/plain": [
       "<Figure size 864x432 with 1 Axes>"
      ]
     },
     "metadata": {
      "needs_background": "light"
     },
     "output_type": "display_data"
    }
   ],
   "source": [
    "word_cloud_gen(elements_only)"
   ]
  },
  {
   "cell_type": "markdown",
   "id": "782820c0-e56c-4a13-b409-9d5f80732eab",
   "metadata": {},
   "source": [
    "### Most popular vendors by contract awarded"
   ]
  },
  {
   "cell_type": "code",
   "execution_count": 67,
   "id": "7452c8ad-959a-4c60-ba8c-9a0e88a28363",
   "metadata": {},
   "outputs": [],
   "source": [
    "vendors2 = (\n",
    "    contracts.contract_vendor.value_counts()\n",
    "    .to_frame()\n",
    "    .reset_index()\n",
    "    .head(10)\n",
    "    .rename(columns={\"index\": \"vendor\", \"contract_vendor\": \"number_of_contracts\"})\n",
    ")"
   ]
  },
  {
   "cell_type": "code",
   "execution_count": 68,
   "id": "bc63dd15-8061-4ae8-9b2e-2ec492a44811",
   "metadata": {},
   "outputs": [
    {
     "data": {
      "text/html": [
       "\n",
       "<div id=\"altair-viz-9d107ef9ee8b4a4aa54b97f9137e6399\"></div>\n",
       "<script type=\"text/javascript\">\n",
       "  var VEGA_DEBUG = (typeof VEGA_DEBUG == \"undefined\") ? {} : VEGA_DEBUG;\n",
       "  (function(spec, embedOpt){\n",
       "    let outputDiv = document.currentScript.previousElementSibling;\n",
       "    if (outputDiv.id !== \"altair-viz-9d107ef9ee8b4a4aa54b97f9137e6399\") {\n",
       "      outputDiv = document.getElementById(\"altair-viz-9d107ef9ee8b4a4aa54b97f9137e6399\");\n",
       "    }\n",
       "    const paths = {\n",
       "      \"vega\": \"https://cdn.jsdelivr.net/npm//vega@5?noext\",\n",
       "      \"vega-lib\": \"https://cdn.jsdelivr.net/npm//vega-lib?noext\",\n",
       "      \"vega-lite\": \"https://cdn.jsdelivr.net/npm//vega-lite@4.17.0?noext\",\n",
       "      \"vega-embed\": \"https://cdn.jsdelivr.net/npm//vega-embed@6?noext\",\n",
       "    };\n",
       "\n",
       "    function maybeLoadScript(lib, version) {\n",
       "      var key = `${lib.replace(\"-\", \"\")}_version`;\n",
       "      return (VEGA_DEBUG[key] == version) ?\n",
       "        Promise.resolve(paths[lib]) :\n",
       "        new Promise(function(resolve, reject) {\n",
       "          var s = document.createElement('script');\n",
       "          document.getElementsByTagName(\"head\")[0].appendChild(s);\n",
       "          s.async = true;\n",
       "          s.onload = () => {\n",
       "            VEGA_DEBUG[key] = version;\n",
       "            return resolve(paths[lib]);\n",
       "          };\n",
       "          s.onerror = () => reject(`Error loading script: ${paths[lib]}`);\n",
       "          s.src = paths[lib];\n",
       "        });\n",
       "    }\n",
       "\n",
       "    function showError(err) {\n",
       "      outputDiv.innerHTML = `<div class=\"error\" style=\"color:red;\">${err}</div>`;\n",
       "      throw err;\n",
       "    }\n",
       "\n",
       "    function displayChart(vegaEmbed) {\n",
       "      vegaEmbed(outputDiv, spec, embedOpt)\n",
       "        .catch(err => showError(`Javascript Error: ${err.message}<br>This usually means there's a typo in your chart specification. See the javascript console for the full traceback.`));\n",
       "    }\n",
       "\n",
       "    if(typeof define === \"function\" && define.amd) {\n",
       "      requirejs.config({paths});\n",
       "      require([\"vega-embed\"], displayChart, err => showError(`Error loading script: ${err.message}`));\n",
       "    } else {\n",
       "      maybeLoadScript(\"vega\", \"5\")\n",
       "        .then(() => maybeLoadScript(\"vega-lite\", \"4.17.0\"))\n",
       "        .then(() => maybeLoadScript(\"vega-embed\", \"6\"))\n",
       "        .catch(showError)\n",
       "        .then(() => displayChart(vegaEmbed));\n",
       "    }\n",
       "  })({\"config\": {\"view\": {\"continuousWidth\": 400, \"continuousHeight\": 300}, \"axis\": {\"domainColor\": \"#cbcbcb\", \"grid\": true, \"gridColor\": \"#cbcbcb\", \"gridWidth\": 1, \"labelColor\": \"#474747\", \"labelFont\": \"Nunito Sans\", \"labelFontSize\": 10, \"labelPadding\": 4, \"tickColor\": \"#cbcbcb\", \"tickSize\": 10, \"titleColor\": \"#333\", \"titleFont\": \"Raleway\", \"titleFontSize\": 12, \"titlePadding\": 10}, \"axisBand\": {\"grid\": false}, \"background\": \"white\", \"font\": \"Raleway\", \"header\": {\"labelFont\": \"Nunito Sans\", \"titleFont\": \"Raleway\"}, \"legend\": {\"labelColor\": \"#333\", \"labelFont\": \"Nunito Sans\", \"labelFontSize\": 11, \"labelLimit\": 0, \"padding\": 1, \"symbolSize\": 30, \"symbolType\": \"square\", \"titleColor\": \"#333\", \"titleFont\": \"Raleway\", \"titleFontSize\": 14, \"titlePadding\": 10}, \"title\": {\"anchor\": \"middle\", \"font\": \"Raleway\", \"fontSize\": 18, \"fontWeight\": 300, \"offset\": 20}}, \"data\": {\"name\": \"data-8afc3955ebe0b3b4e4d6a9618d04f1e6\"}, \"mark\": \"bar\", \"encoding\": {\"color\": {\"field\": \"vendor\", \"legend\": {\"title\": \"Vendor\"}, \"scale\": {\"range\": [\"#2EA8CE\", \"#EB9F3C\", \"#F4D837\", \"#51BF9D\", \"#8CBCCB\", \"#9487C0\"]}, \"type\": \"nominal\"}, \"x\": {\"field\": \"number_of_contracts\", \"title\": \"Number Of Contracts\", \"type\": \"quantitative\"}, \"y\": {\"field\": \"vendor\", \"sort\": \"-x\", \"title\": \"Vendor\", \"type\": \"nominal\"}}, \"height\": 250, \"title\": \"Vendor with the Most Awarded Contracts\", \"width\": 400, \"$schema\": \"https://vega.github.io/schema/vega-lite/v4.17.0.json\", \"datasets\": {\"data-8afc3955ebe0b3b4e4d6a9618d04f1e6\": [{\"vendor\": \"Trillium Inc.\", \"number_of_contracts\": 23}, {\"vendor\": \"Genfare\", \"number_of_contracts\": 12}, {\"vendor\": \"GMV Syncromatics Inc\", \"number_of_contracts\": 9}, {\"vendor\": \"Token Transit\", \"number_of_contracts\": 9}, {\"vendor\": \"Trapeze Group\", \"number_of_contracts\": 8}, {\"vendor\": \"Via Inc.\", \"number_of_contracts\": 6}, {\"vendor\": \"Clever Devices Ltd.\", \"number_of_contracts\": 6}, {\"vendor\": \"Swiftly Inc.\", \"number_of_contracts\": 6}, {\"vendor\": \"UTA\", \"number_of_contracts\": 6}, {\"vendor\": \"TransTrack Solutions Group\", \"number_of_contracts\": 5}]}}, {\"mode\": \"vega-lite\"});\n",
       "</script>"
      ],
      "text/plain": [
       "alt.Chart(...)"
      ]
     },
     "execution_count": 68,
     "metadata": {},
     "output_type": "execute_result"
    }
   ],
   "source": [
    "charts.basic_bar_chart(\n",
    "    vendors2,\n",
    "    \"number_of_contracts\",\n",
    "    \"vendor\",\n",
    "    \"vendor\",\n",
    "    \"Vendor with the Most Awarded Contracts\",\n",
    ")"
   ]
  },
  {
   "cell_type": "markdown",
   "id": "6dfc0e32-027c-4f4e-a2f6-595216b6bcc7",
   "metadata": {},
   "source": [
    "### Organizations that hold the most contracts"
   ]
  },
  {
   "cell_type": "code",
   "execution_count": 69,
   "id": "968e84a0-bdf0-4cb9-b7e5-d5c6e0c27554",
   "metadata": {},
   "outputs": [],
   "source": [
    "contract_holders = (\n",
    "    contracts.contract_holder.value_counts()\n",
    "    .to_frame()\n",
    "    .reset_index()\n",
    "    .rename(columns={\"index\": \"holders\", \"contract_holder\": \"# contracts\"})\n",
    "    .head(10)\n",
    ")"
   ]
  },
  {
   "cell_type": "code",
   "execution_count": 70,
   "id": "d992db85-8145-490e-ab20-85fdcc0a83b3",
   "metadata": {},
   "outputs": [
    {
     "data": {
      "text/html": [
       "\n",
       "<div id=\"altair-viz-b03783a4c2c24370ba73b74b9c920f17\"></div>\n",
       "<script type=\"text/javascript\">\n",
       "  var VEGA_DEBUG = (typeof VEGA_DEBUG == \"undefined\") ? {} : VEGA_DEBUG;\n",
       "  (function(spec, embedOpt){\n",
       "    let outputDiv = document.currentScript.previousElementSibling;\n",
       "    if (outputDiv.id !== \"altair-viz-b03783a4c2c24370ba73b74b9c920f17\") {\n",
       "      outputDiv = document.getElementById(\"altair-viz-b03783a4c2c24370ba73b74b9c920f17\");\n",
       "    }\n",
       "    const paths = {\n",
       "      \"vega\": \"https://cdn.jsdelivr.net/npm//vega@5?noext\",\n",
       "      \"vega-lib\": \"https://cdn.jsdelivr.net/npm//vega-lib?noext\",\n",
       "      \"vega-lite\": \"https://cdn.jsdelivr.net/npm//vega-lite@4.17.0?noext\",\n",
       "      \"vega-embed\": \"https://cdn.jsdelivr.net/npm//vega-embed@6?noext\",\n",
       "    };\n",
       "\n",
       "    function maybeLoadScript(lib, version) {\n",
       "      var key = `${lib.replace(\"-\", \"\")}_version`;\n",
       "      return (VEGA_DEBUG[key] == version) ?\n",
       "        Promise.resolve(paths[lib]) :\n",
       "        new Promise(function(resolve, reject) {\n",
       "          var s = document.createElement('script');\n",
       "          document.getElementsByTagName(\"head\")[0].appendChild(s);\n",
       "          s.async = true;\n",
       "          s.onload = () => {\n",
       "            VEGA_DEBUG[key] = version;\n",
       "            return resolve(paths[lib]);\n",
       "          };\n",
       "          s.onerror = () => reject(`Error loading script: ${paths[lib]}`);\n",
       "          s.src = paths[lib];\n",
       "        });\n",
       "    }\n",
       "\n",
       "    function showError(err) {\n",
       "      outputDiv.innerHTML = `<div class=\"error\" style=\"color:red;\">${err}</div>`;\n",
       "      throw err;\n",
       "    }\n",
       "\n",
       "    function displayChart(vegaEmbed) {\n",
       "      vegaEmbed(outputDiv, spec, embedOpt)\n",
       "        .catch(err => showError(`Javascript Error: ${err.message}<br>This usually means there's a typo in your chart specification. See the javascript console for the full traceback.`));\n",
       "    }\n",
       "\n",
       "    if(typeof define === \"function\" && define.amd) {\n",
       "      requirejs.config({paths});\n",
       "      require([\"vega-embed\"], displayChart, err => showError(`Error loading script: ${err.message}`));\n",
       "    } else {\n",
       "      maybeLoadScript(\"vega\", \"5\")\n",
       "        .then(() => maybeLoadScript(\"vega-lite\", \"4.17.0\"))\n",
       "        .then(() => maybeLoadScript(\"vega-embed\", \"6\"))\n",
       "        .catch(showError)\n",
       "        .then(() => displayChart(vegaEmbed));\n",
       "    }\n",
       "  })({\"config\": {\"view\": {\"continuousWidth\": 400, \"continuousHeight\": 300}, \"axis\": {\"domainColor\": \"#cbcbcb\", \"grid\": true, \"gridColor\": \"#cbcbcb\", \"gridWidth\": 1, \"labelColor\": \"#474747\", \"labelFont\": \"Nunito Sans\", \"labelFontSize\": 10, \"labelPadding\": 4, \"tickColor\": \"#cbcbcb\", \"tickSize\": 10, \"titleColor\": \"#333\", \"titleFont\": \"Raleway\", \"titleFontSize\": 12, \"titlePadding\": 10}, \"axisBand\": {\"grid\": false}, \"background\": \"white\", \"font\": \"Raleway\", \"header\": {\"labelFont\": \"Nunito Sans\", \"titleFont\": \"Raleway\"}, \"legend\": {\"labelColor\": \"#333\", \"labelFont\": \"Nunito Sans\", \"labelFontSize\": 11, \"labelLimit\": 0, \"padding\": 1, \"symbolSize\": 30, \"symbolType\": \"square\", \"titleColor\": \"#333\", \"titleFont\": \"Raleway\", \"titleFontSize\": 14, \"titlePadding\": 10}, \"title\": {\"anchor\": \"middle\", \"font\": \"Raleway\", \"fontSize\": 18, \"fontWeight\": 300, \"offset\": 20}}, \"data\": {\"name\": \"data-512603ff5247bf74bcc9e9fe7b3518b6\"}, \"mark\": \"bar\", \"encoding\": {\"color\": {\"field\": \"holders\", \"legend\": {\"title\": \"Holders\"}, \"scale\": {\"range\": [\"#2EA8CE\", \"#EB9F3C\", \"#F4D837\", \"#51BF9D\", \"#8CBCCB\", \"#9487C0\"]}, \"type\": \"nominal\"}, \"x\": {\"field\": \"# contracts\", \"title\": \"# Contracts\", \"type\": \"quantitative\"}, \"y\": {\"field\": \"holders\", \"sort\": \"-x\", \"title\": \"Holders\", \"type\": \"nominal\"}}, \"height\": 250, \"title\": \"Organizations with the Most Contracts\", \"width\": 400, \"$schema\": \"https://vega.github.io/schema/vega-lite/v4.17.0.json\", \"datasets\": {\"data-512603ff5247bf74bcc9e9fe7b3518b6\": [{\"holders\": \"Anaheim Transportation Network\", \"# contracts\": 9}, {\"holders\": \"Tahoe Transportation District\", \"# contracts\": 9}, {\"holders\": \"Golden Empire Transit District\", \"# contracts\": 8}, {\"holders\": \"Santa Clara Valley Transportation Authority\", \"# contracts\": 6}, {\"holders\": \"Sonoma-Marin Area Rail Transit District\", \"# contracts\": 5}, {\"holders\": \"San Joaquin Regional Transit District\", \"# contracts\": 5}, {\"holders\": \"Nevada County\", \"# contracts\": 5}, {\"holders\": \"Eastern Contra Costa Transit Authority\", \"# contracts\": 4}, {\"holders\": \"San Mateo County Transit District\", \"# contracts\": 4}, {\"holders\": \"Sacramento Regional Transit District\", \"# contracts\": 4}]}}, {\"mode\": \"vega-lite\"});\n",
       "</script>"
      ],
      "text/plain": [
       "alt.Chart(...)"
      ]
     },
     "execution_count": 70,
     "metadata": {},
     "output_type": "execute_result"
    }
   ],
   "source": [
    "charts.basic_bar_chart(\n",
    "    contract_holders,\n",
    "    \"# contracts\",\n",
    "    \"holders\",\n",
    "    \"holders\",\n",
    "    \"Organizations with the Most Contracts\",\n",
    ")"
   ]
  },
  {
   "cell_type": "markdown",
   "id": "c09bdf7b-00cc-44b8-8191-a370097a80ad",
   "metadata": {},
   "source": [
    "### Looking at contracts and their elements with end dates from May 2022 to 2024.\n",
    "* Of the contracts ending, most have an element of vehicle locations and arrival predictions."
   ]
  },
  {
   "cell_type": "code",
   "execution_count": 71,
   "id": "2026b70a-5810-4118-a537-d41ec1665acf",
   "metadata": {},
   "outputs": [
    {
     "name": "stderr",
     "output_type": "stream",
     "text": [
      "/tmp/ipykernel_4072/2493574420.py:1: FutureWarning: Treating datetime data as categorical rather than numeric in `.describe` is deprecated and will be removed in a future version of pandas. Specify `datetime_is_numeric=True` to silence this warning and adopt the future behavior now.\n"
     ]
    },
    {
     "data": {
      "text/plain": [
       "count                      39\n",
       "unique                     33\n",
       "top       2020-06-30 00:00:00\n",
       "freq                        4\n",
       "first     2010-09-21 00:00:00\n",
       "last      2024-06-30 00:00:00\n",
       "Name: end_date, dtype: object"
      ]
     },
     "execution_count": 71,
     "metadata": {},
     "output_type": "execute_result"
    }
   ],
   "source": [
    "filtered_for_end_date.end_date.describe()"
   ]
  },
  {
   "cell_type": "code",
   "execution_count": 72,
   "id": "df3920af-16c6-48ca-b679-f219b6e87e84",
   "metadata": {},
   "outputs": [],
   "source": [
    "# Keep only end dates from now until 2024.\n",
    "end_dates = filtered_for_end_date.loc[\n",
    "    (filtered_for_end_date[\"end_date\"] >= \"2022-05-03\")\n",
    "]"
   ]
  },
  {
   "cell_type": "code",
   "execution_count": 73,
   "id": "7d95b952-33ad-40b3-9958-b2e10e5712e8",
   "metadata": {},
   "outputs": [
    {
     "data": {
      "text/plain": [
       "9"
      ]
     },
     "execution_count": 73,
     "metadata": {},
     "output_type": "execute_result"
    }
   ],
   "source": [
    "len(end_dates)"
   ]
  },
  {
   "cell_type": "code",
   "execution_count": 74,
   "id": "f4ebb637-bb5e-4f85-8db3-a89b3bda3b2d",
   "metadata": {},
   "outputs": [
    {
     "data": {
      "text/html": [
       "<div>\n",
       "<style scoped>\n",
       "    .dataframe tbody tr th:only-of-type {\n",
       "        vertical-align: middle;\n",
       "    }\n",
       "\n",
       "    .dataframe tbody tr th {\n",
       "        vertical-align: top;\n",
       "    }\n",
       "\n",
       "    .dataframe thead th {\n",
       "        text-align: right;\n",
       "    }\n",
       "</style>\n",
       "<table border=\"1\" class=\"dataframe\">\n",
       "  <thead>\n",
       "    <tr style=\"text-align: right;\">\n",
       "      <th></th>\n",
       "      <th>contract_holder</th>\n",
       "      <th>functional_category</th>\n",
       "      <th>contract_type</th>\n",
       "      <th>start_date</th>\n",
       "      <th>end_date</th>\n",
       "      <th>duration_of_contract_year</th>\n",
       "    </tr>\n",
       "  </thead>\n",
       "  <tbody>\n",
       "    <tr>\n",
       "      <th>149</th>\n",
       "      <td>Redwood Coast Transit Authority</td>\n",
       "      <td>CAD/AVL</td>\n",
       "      <td>Vehicle Locations,Real-time service alerts,Arrival predictions,Realtime info</td>\n",
       "      <td>2019-05-03</td>\n",
       "      <td>2022-05-03</td>\n",
       "      <td>3.00</td>\n",
       "    </tr>\n",
       "    <tr>\n",
       "      <th>151</th>\n",
       "      <td>Anaheim Transportation Network</td>\n",
       "      <td>Offboard rider information</td>\n",
       "      <td>Realtime info</td>\n",
       "      <td>2017-05-17</td>\n",
       "      <td>2022-05-17</td>\n",
       "      <td>5.00</td>\n",
       "    </tr>\n",
       "    <tr>\n",
       "      <th>152</th>\n",
       "      <td>Trinity County</td>\n",
       "      <td>Offboard rider information,Scheduling</td>\n",
       "      <td>GTFS Generation,Web trip planner</td>\n",
       "      <td>2019-08-01</td>\n",
       "      <td>2022-07-31</td>\n",
       "      <td>3.00</td>\n",
       "    </tr>\n",
       "    <tr>\n",
       "      <th>153</th>\n",
       "      <td>Tuolumne County Transit Agency</td>\n",
       "      <td>CAD/AVL,Offboard rider information</td>\n",
       "      <td>MDT,Real-time service alerts,Vehicle Locations,Arrival predictions,Web trip planner ,Realtime info</td>\n",
       "      <td>2019-05-08</td>\n",
       "      <td>2023-05-07</td>\n",
       "      <td>4.00</td>\n",
       "    </tr>\n",
       "    <tr>\n",
       "      <th>154</th>\n",
       "      <td>Ventura County Transportation Commission</td>\n",
       "      <td>Offboard rider information,CAD/AVL,Onboard rider information</td>\n",
       "      <td>Headsigns,Interior signage,Annunciator,MDT,Arrival predictions,Vehicle Locations,Mobile trip planner</td>\n",
       "      <td>2017-11-03</td>\n",
       "      <td>2023-11-02</td>\n",
       "      <td>6.00</td>\n",
       "    </tr>\n",
       "    <tr>\n",
       "      <th>155</th>\n",
       "      <td>Yuba-Sutter Transit Authority</td>\n",
       "      <td>CAD/AVL,Onboard rider information</td>\n",
       "      <td>Vehicle Locations,Arrival predictions,Headsigns,Interior signage</td>\n",
       "      <td>2018-11-07</td>\n",
       "      <td>2023-11-06</td>\n",
       "      <td>5.00</td>\n",
       "    </tr>\n",
       "    <tr>\n",
       "      <th>156</th>\n",
       "      <td>Santa Cruz Metropolitan Transit District</td>\n",
       "      <td>Onboard rider information,Offboard rider information,CAD/AVL</td>\n",
       "      <td>Realtime info,Annunciator,Headsigns,Interior signage,MDT,Vehicle Locations,Arrival predictions,Real-time service alerts</td>\n",
       "      <td>2018-11-29</td>\n",
       "      <td>2023-11-28</td>\n",
       "      <td>5.00</td>\n",
       "    </tr>\n",
       "    <tr>\n",
       "      <th>157</th>\n",
       "      <td>Marin County Transit District</td>\n",
       "      <td>Scheduling</td>\n",
       "      <td>Scheduling</td>\n",
       "      <td>2019-07-01</td>\n",
       "      <td>2024-06-30</td>\n",
       "      <td>5.00</td>\n",
       "    </tr>\n",
       "    <tr>\n",
       "      <th>158</th>\n",
       "      <td>Monterey-Salinas Transit</td>\n",
       "      <td>CAD/AVL,Onboard rider information,Offboard rider information</td>\n",
       "      <td>Annunciator,Interior signage,MDT,Real-time service alerts,Vehicle Locations,Arrival predictions,Offboard signage</td>\n",
       "      <td>2019-05-01</td>\n",
       "      <td>2024-06-30</td>\n",
       "      <td>5.00</td>\n",
       "    </tr>\n",
       "  </tbody>\n",
       "</table>\n",
       "</div>"
      ],
      "text/plain": [
       "                              contract_holder  \\\n",
       "149           Redwood Coast Transit Authority   \n",
       "151            Anaheim Transportation Network   \n",
       "152                            Trinity County   \n",
       "153            Tuolumne County Transit Agency   \n",
       "154  Ventura County Transportation Commission   \n",
       "155             Yuba-Sutter Transit Authority   \n",
       "156  Santa Cruz Metropolitan Transit District   \n",
       "157             Marin County Transit District   \n",
       "158                  Monterey-Salinas Transit   \n",
       "\n",
       "                                              functional_category  \\\n",
       "149                                                       CAD/AVL   \n",
       "151                                    Offboard rider information   \n",
       "152                         Offboard rider information,Scheduling   \n",
       "153                            CAD/AVL,Offboard rider information   \n",
       "154  Offboard rider information,CAD/AVL,Onboard rider information   \n",
       "155                             CAD/AVL,Onboard rider information   \n",
       "156  Onboard rider information,Offboard rider information,CAD/AVL   \n",
       "157                                                    Scheduling   \n",
       "158  CAD/AVL,Onboard rider information,Offboard rider information   \n",
       "\n",
       "                                                                                                               contract_type  \\\n",
       "149                                             Vehicle Locations,Real-time service alerts,Arrival predictions,Realtime info   \n",
       "151                                                                                                            Realtime info   \n",
       "152                                                                                        GTFS Generation,Web trip planner    \n",
       "153                       MDT,Real-time service alerts,Vehicle Locations,Arrival predictions,Web trip planner ,Realtime info   \n",
       "154                    Headsigns,Interior signage,Annunciator,MDT,Arrival predictions,Vehicle Locations,Mobile trip planner    \n",
       "155                                                         Vehicle Locations,Arrival predictions,Headsigns,Interior signage   \n",
       "156  Realtime info,Annunciator,Headsigns,Interior signage,MDT,Vehicle Locations,Arrival predictions,Real-time service alerts   \n",
       "157                                                                                                               Scheduling   \n",
       "158         Annunciator,Interior signage,MDT,Real-time service alerts,Vehicle Locations,Arrival predictions,Offboard signage   \n",
       "\n",
       "    start_date   end_date  duration_of_contract_year  \n",
       "149 2019-05-03 2022-05-03                       3.00  \n",
       "151 2017-05-17 2022-05-17                       5.00  \n",
       "152 2019-08-01 2022-07-31                       3.00  \n",
       "153 2019-05-08 2023-05-07                       4.00  \n",
       "154 2017-11-03 2023-11-02                       6.00  \n",
       "155 2018-11-07 2023-11-06                       5.00  \n",
       "156 2018-11-29 2023-11-28                       5.00  \n",
       "157 2019-07-01 2024-06-30                       5.00  \n",
       "158 2019-05-01 2024-06-30                       5.00  "
      ]
     },
     "execution_count": 74,
     "metadata": {},
     "output_type": "execute_result"
    }
   ],
   "source": [
    "end_dates[\n",
    "    [\n",
    "        \"contract_holder\",\n",
    "        \"functional_category\",\n",
    "        \"contract_type\",\n",
    "        \"start_date\",\n",
    "        \"end_date\",\n",
    "        \"duration_of_contract_year\",\n",
    "    ]\n",
    "].sort_values(\"end_date\")"
   ]
  },
  {
   "cell_type": "markdown",
   "id": "e072f344-46a3-4a78-83f6-1ffd434a904e",
   "metadata": {},
   "source": [
    "## Export"
   ]
  },
  {
   "cell_type": "markdown",
   "id": "a89cda63-332a-4712-87df-b96c576da053",
   "metadata": {},
   "source": [
    "with pd.ExcelWriter(f\"{GCS_FILE_PATH}transit_stacks.xlsx\") as writer:\n",
    "    products.to_excel(writer, sheet_name=\"products_clean\", index=False)\n",
    "    popular_products.to_excel(writer, sheet_name=\"popular_products\", index=False)\n",
    "    components.to_excel(writer, sheet_name=\"components_clean\", index=False)\n",
    "    contracts.to_excel(writer, sheet_name=\"contracts_clean\", index=False)\n",
    "    contracts2.to_excel(writer, sheet_name=\"contracts_delineated\", index=False)"
   ]
  }
 ],
 "metadata": {
  "kernelspec": {
   "display_name": "Python 3 (ipykernel)",
   "language": "python",
   "name": "python3"
  },
  "language_info": {
   "codemirror_mode": {
    "name": "ipython",
    "version": 3
   },
   "file_extension": ".py",
   "mimetype": "text/x-python",
   "name": "python",
   "nbconvert_exporter": "python",
   "pygments_lexer": "ipython3",
   "version": "3.9.12"
  }
 },
 "nbformat": 4,
 "nbformat_minor": 5
}
