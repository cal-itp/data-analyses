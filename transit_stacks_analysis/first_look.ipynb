{
 "cells": [
  {
   "cell_type": "markdown",
   "id": "4b995212-343f-4eb0-b1b3-252a1009961d",
   "metadata": {},
   "source": [
    "# Cleaning\n",
    "* Taking a first look and cleaning the data.\n",
    "* [Data Source](https://airtable.com/appeVUdmRBi3K9hTS/tblLywLvMA2OTesQP/viwRRKOaZvvkSNfmU?blocks=hide)"
   ]
  },
  {
   "cell_type": "code",
   "execution_count": 1,
   "id": "3af4662e-f7e3-4c00-bd3d-0f756f7adc5d",
   "metadata": {},
   "outputs": [],
   "source": [
    "import numpy as np\n",
    "import pandas as pd\n",
    "\n",
    "pd.options.display.max_columns = 50\n",
    "pd.options.display.max_rows = 250\n",
    "pd.set_option(\"display.max_colwidth\", None)\n",
    "pd.options.display.float_format = \"{:.2f}\".format\n",
    "\n",
    "from itertools import chain\n",
    "\n",
    "import altair as alt\n",
    "from calitp import *\n",
    "from siuba import *\n",
    "\n",
    "GCS_FILE_PATH = \"gs://calitp-analytics-data/data-analyses/transit_stacks/\""
   ]
  },
  {
   "cell_type": "markdown",
   "id": "76424a9d-ac73-4b72-9d27-fb5ab6f1d988",
   "metadata": {},
   "source": [
    "## Products"
   ]
  },
  {
   "cell_type": "code",
   "execution_count": 2,
   "id": "3855fedb-1c76-4964-b7ea-ae12808eabf7",
   "metadata": {},
   "outputs": [],
   "source": [
    "# drop columns with tons of NAs\n",
    "products = (\n",
    "    to_snakecase(pd.read_csv(f\"{GCS_FILE_PATH}products-Grid view (1).csv\"))\n",
    "    .drop(\n",
    "        columns=[\n",
    "            \"business_model_features\",\n",
    "            \"attachments\",\n",
    "            \"status\",\n",
    "            \"certifications\",\n",
    "            \"connectivity\",\n",
    "            \"accepted_input_components\",\n",
    "            \"output_components\",\n",
    "            \"input\",\n",
    "            \"output\",\n",
    "        ]\n",
    "    )\n",
    "    .astype(str)\n",
    "    .rename(columns={\"name\": \"product_name\"})\n",
    ")"
   ]
  },
  {
   "cell_type": "code",
   "execution_count": 3,
   "id": "f0960c80-4be5-418b-aca7-6faee2cd3753",
   "metadata": {},
   "outputs": [
    {
     "data": {
      "text/plain": [
       "(259, 8)"
      ]
     },
     "execution_count": 3,
     "metadata": {},
     "output_type": "execute_result"
    }
   ],
   "source": [
    "products.shape"
   ]
  },
  {
   "cell_type": "code",
   "execution_count": 4,
   "id": "794d90da-dd4a-44dd-bed1-bce895c44c32",
   "metadata": {},
   "outputs": [
    {
     "data": {
      "text/plain": [
       "product_name                     0\n",
       "components                       0\n",
       "vendor                           0\n",
       "url                              0\n",
       "requirements                     0\n",
       "product_features                 0\n",
       "notes                            0\n",
       "organization_stack_components    0\n",
       "dtype: int64"
      ]
     },
     "execution_count": 4,
     "metadata": {},
     "output_type": "execute_result"
    }
   ],
   "source": [
    "products.isna().sum()"
   ]
  },
  {
   "cell_type": "markdown",
   "id": "71dd6d38-31fa-4840-8dcd-5728c803dc9c",
   "metadata": {},
   "source": [
    "### Count number of strings in organization_stack_components column to see how many orgs are using this vendor."
   ]
  },
  {
   "cell_type": "code",
   "execution_count": 5,
   "id": "1307a0c5-1259-43f4-ad7c-f432c43f2cf8",
   "metadata": {},
   "outputs": [],
   "source": [
    "# https://stackoverflow.com/questions/51502263/pandas-dataframe-object-has-no-attribute-str\n",
    "products[\"count_of_orgs_using_product\"] = (\n",
    "    products[\"organization_stack_components\"]\n",
    "    .str.split(\",+\")\n",
    "    .str.len()\n",
    "    .groupby(products.product_name)\n",
    "    .transform(\"sum\")\n",
    ")"
   ]
  },
  {
   "cell_type": "markdown",
   "id": "c2f27ad8-2b61-41a6-9ce6-115eb5764a54",
   "metadata": {},
   "source": [
    "### Each company can sell multiple components, split each component by comma "
   ]
  },
  {
   "cell_type": "code",
   "execution_count": 6,
   "id": "e1c6c629-76a7-4fa3-97c7-ffe922ca8ca5",
   "metadata": {},
   "outputs": [],
   "source": [
    "# https://stackoverflow.com/questions/52575290/how-to-separate-string-into-multiple-rows-in-pandas\n",
    "components = products[\"components\"].str.split(\",\")\n",
    "cols = products.columns.difference([\"components\"])\n",
    "products2 = products.loc[products.index.repeat(components.str.len()), cols].assign(\n",
    "    components=list(chain.from_iterable(components.tolist()))\n",
    ")"
   ]
  },
  {
   "cell_type": "code",
   "execution_count": 7,
   "id": "083f3900-8ccd-43e9-a2b7-e9919f6d96b5",
   "metadata": {},
   "outputs": [
    {
     "data": {
      "text/plain": [
       "Index(['count_of_orgs_using_product', 'notes', 'organization_stack_components',\n",
       "       'product_features', 'product_name', 'requirements', 'url', 'vendor',\n",
       "       'components'],\n",
       "      dtype='object')"
      ]
     },
     "execution_count": 7,
     "metadata": {},
     "output_type": "execute_result"
    }
   ],
   "source": [
    "products2.columns"
   ]
  },
  {
   "cell_type": "markdown",
   "id": "5f44f586-43bb-43e1-b64d-11fdadc18cfc",
   "metadata": {},
   "source": [
    "### Make the dataframe a little cleaner/smaller"
   ]
  },
  {
   "cell_type": "code",
   "execution_count": 8,
   "id": "acf3b0b3-f778-4a51-a4b5-ee97b0af28f5",
   "metadata": {},
   "outputs": [],
   "source": [
    "products3 = products2[\n",
    "    [\n",
    "        \"product_name\",\n",
    "        \"vendor\",\n",
    "        \"components\",\n",
    "        \"count_of_orgs_using_product\",\n",
    "        \"product_features\",\n",
    "        \"requirements\",\n",
    "        \"notes\",\n",
    "    ]\n",
    "]"
   ]
  },
  {
   "cell_type": "code",
   "execution_count": 49,
   "id": "ef55c431-c7ba-47dd-8bda-c318120ca525",
   "metadata": {
    "tags": []
   },
   "outputs": [
    {
     "data": {
      "text/html": [
       "<div>\n",
       "<style scoped>\n",
       "    .dataframe tbody tr th:only-of-type {\n",
       "        vertical-align: middle;\n",
       "    }\n",
       "\n",
       "    .dataframe tbody tr th {\n",
       "        vertical-align: top;\n",
       "    }\n",
       "\n",
       "    .dataframe thead th {\n",
       "        text-align: right;\n",
       "    }\n",
       "</style>\n",
       "<table border=\"1\" class=\"dataframe\">\n",
       "  <thead>\n",
       "    <tr style=\"text-align: right;\">\n",
       "      <th></th>\n",
       "      <th>product_name</th>\n",
       "      <th>vendor</th>\n",
       "      <th>components</th>\n",
       "      <th>count_of_orgs_using_product</th>\n",
       "      <th>product_features</th>\n",
       "      <th>requirements</th>\n",
       "      <th>notes</th>\n",
       "    </tr>\n",
       "  </thead>\n",
       "  <tbody>\n",
       "    <tr>\n",
       "      <th>249</th>\n",
       "      <td>Fleetwatch - System</td>\n",
       "      <td>S&amp;A Systems Inc.</td>\n",
       "      <td>Vehicle Health Monitoring</td>\n",
       "      <td>1</td>\n",
       "      <td>nan</td>\n",
       "      <td>nan</td>\n",
       "      <td>nan</td>\n",
       "    </tr>\n",
       "    <tr>\n",
       "      <th>231</th>\n",
       "      <td>Trapeze Fixed Route Scheduling</td>\n",
       "      <td>Trapeze Group</td>\n",
       "      <td>Driver Sign-up</td>\n",
       "      <td>74</td>\n",
       "      <td>nan</td>\n",
       "      <td>nan</td>\n",
       "      <td>nan</td>\n",
       "    </tr>\n",
       "  </tbody>\n",
       "</table>\n",
       "</div>"
      ],
      "text/plain": [
       "                       product_name            vendor  \\\n",
       "249             Fleetwatch - System  S&A Systems Inc.   \n",
       "231  Trapeze Fixed Route Scheduling     Trapeze Group   \n",
       "\n",
       "                    components  count_of_orgs_using_product product_features  \\\n",
       "249  Vehicle Health Monitoring                            1              nan   \n",
       "231             Driver Sign-up                           74              nan   \n",
       "\n",
       "    requirements notes  \n",
       "249          nan   nan  \n",
       "231          nan   nan  "
      ]
     },
     "execution_count": 49,
     "metadata": {},
     "output_type": "execute_result"
    }
   ],
   "source": [
    "products3.sample(2)"
   ]
  },
  {
   "cell_type": "code",
   "execution_count": 10,
   "id": "f651192a-0623-4476-99f3-c3a973815b13",
   "metadata": {},
   "outputs": [
    {
     "data": {
      "text/plain": [
       "(417, 7)"
      ]
     },
     "execution_count": 10,
     "metadata": {},
     "output_type": "execute_result"
    }
   ],
   "source": [
    "products3.shape"
   ]
  },
  {
   "cell_type": "markdown",
   "id": "36bd32bc-3186-4a62-9b93-884b7cd12473",
   "metadata": {
    "tags": []
   },
   "source": [
    "## Components"
   ]
  },
  {
   "cell_type": "code",
   "execution_count": 11,
   "id": "e70a4f20-a291-4012-8cd7-03ce497a82e6",
   "metadata": {},
   "outputs": [],
   "source": [
    "components = to_snakecase(pd.read_csv(f\"{GCS_FILE_PATH}components-Grid view.csv\"))"
   ]
  },
  {
   "cell_type": "code",
   "execution_count": 12,
   "id": "be6e4d03-f72d-412e-acf6-858d97b5b37f",
   "metadata": {},
   "outputs": [
    {
     "data": {
      "text/plain": [
       "name                               0\n",
       "aliases                           95\n",
       "system                            73\n",
       "location                           1\n",
       "function_group                     3\n",
       "description                       88\n",
       "products                          37\n",
       "organization_stack_components     82\n",
       "example_stacks                    94\n",
       "example_stacks_copy              107\n",
       "properties_+_features             96\n",
       "dtype: int64"
      ]
     },
     "execution_count": 12,
     "metadata": {},
     "output_type": "execute_result"
    }
   ],
   "source": [
    "components.isna().sum()"
   ]
  },
  {
   "cell_type": "code",
   "execution_count": 13,
   "id": "bccb5c22-0889-4c42-930f-ff8fd61c6ba6",
   "metadata": {},
   "outputs": [
    {
     "data": {
      "text/plain": [
       "(107, 11)"
      ]
     },
     "execution_count": 13,
     "metadata": {},
     "output_type": "execute_result"
    }
   ],
   "source": [
    "components.shape"
   ]
  },
  {
   "cell_type": "markdown",
   "id": "8c4259ab-20e9-49f6-9a3f-575313dd7044",
   "metadata": {},
   "source": [
    "### Count number of products in each category "
   ]
  },
  {
   "cell_type": "code",
   "execution_count": 14,
   "id": "0b243b34-d762-448f-ba13-69b3581bf7db",
   "metadata": {},
   "outputs": [],
   "source": [
    "# https://stackoverflow.com/questions/51502263/pandas-dataframe-object-has-no-attribute-str\n",
    "components[\"count_of_products_in_categories\"] = (\n",
    "    components[\"products\"]\n",
    "    .str.split(\",+\")\n",
    "    .str.len()\n",
    "    .groupby(components.name)\n",
    "    .transform(\"sum\")\n",
    ")"
   ]
  },
  {
   "cell_type": "code",
   "execution_count": 50,
   "id": "13b44e07-f687-4fa4-a20f-b55ed4c360c8",
   "metadata": {},
   "outputs": [
    {
     "data": {
      "text/html": [
       "<div>\n",
       "<style scoped>\n",
       "    .dataframe tbody tr th:only-of-type {\n",
       "        vertical-align: middle;\n",
       "    }\n",
       "\n",
       "    .dataframe tbody tr th {\n",
       "        vertical-align: top;\n",
       "    }\n",
       "\n",
       "    .dataframe thead th {\n",
       "        text-align: right;\n",
       "    }\n",
       "</style>\n",
       "<table border=\"1\" class=\"dataframe\">\n",
       "  <thead>\n",
       "    <tr style=\"text-align: right;\">\n",
       "      <th></th>\n",
       "      <th>name</th>\n",
       "      <th>aliases</th>\n",
       "      <th>system</th>\n",
       "      <th>location</th>\n",
       "      <th>function_group</th>\n",
       "      <th>description</th>\n",
       "      <th>products</th>\n",
       "      <th>organization_stack_components</th>\n",
       "      <th>example_stacks</th>\n",
       "      <th>example_stacks_copy</th>\n",
       "      <th>properties_+_features</th>\n",
       "      <th>count_of_products_in_categories</th>\n",
       "    </tr>\n",
       "  </thead>\n",
       "  <tbody>\n",
       "    <tr>\n",
       "      <th>20</th>\n",
       "      <td>Driver Microphone</td>\n",
       "      <td>NaN</td>\n",
       "      <td>NaN</td>\n",
       "      <td>Vehicle</td>\n",
       "      <td>Operations</td>\n",
       "      <td>NaN</td>\n",
       "      <td>NaN</td>\n",
       "      <td>NaN</td>\n",
       "      <td>Extra Small-Driver Microphone</td>\n",
       "      <td>NaN</td>\n",
       "      <td>NaN</td>\n",
       "      <td>0.00</td>\n",
       "    </tr>\n",
       "  </tbody>\n",
       "</table>\n",
       "</div>"
      ],
      "text/plain": [
       "                 name aliases system location function_group description  \\\n",
       "20  Driver Microphone     NaN    NaN  Vehicle     Operations         NaN   \n",
       "\n",
       "   products organization_stack_components                 example_stacks  \\\n",
       "20      NaN                           NaN  Extra Small-Driver Microphone   \n",
       "\n",
       "    example_stacks_copy properties_+_features  count_of_products_in_categories  \n",
       "20                  NaN                   NaN                             0.00  "
      ]
     },
     "execution_count": 50,
     "metadata": {},
     "output_type": "execute_result"
    }
   ],
   "source": [
    "components.sample(1)"
   ]
  },
  {
   "cell_type": "markdown",
   "id": "58f1aaaa-3dcb-4a31-b418-a3f0b944dcb2",
   "metadata": {},
   "source": [
    "## Merge components with products"
   ]
  },
  {
   "cell_type": "code",
   "execution_count": 16,
   "id": "6854328f-525c-4fe8-b89a-b0a30c7b9b9f",
   "metadata": {},
   "outputs": [],
   "source": [
    "# Join\n",
    "merge1 = pd.merge(\n",
    "    products3,\n",
    "    components,\n",
    "    how=\"outer\",\n",
    "    left_on=[\"components\"],\n",
    "    right_on=[\"name\"],\n",
    "    indicator=True,\n",
    ")"
   ]
  },
  {
   "cell_type": "code",
   "execution_count": 17,
   "id": "7577b0c3-2027-4bf0-b3a3-643f50281e5b",
   "metadata": {},
   "outputs": [
    {
     "data": {
      "text/plain": [
       "both          405\n",
       "right_only     38\n",
       "left_only      12\n",
       "Name: _merge, dtype: int64"
      ]
     },
     "execution_count": 17,
     "metadata": {},
     "output_type": "execute_result"
    }
   ],
   "source": [
    "merge1._merge.value_counts()"
   ]
  },
  {
   "cell_type": "code",
   "execution_count": 18,
   "id": "c3c5b7ab-8c70-40d4-83bb-459cc9ea2770",
   "metadata": {},
   "outputs": [],
   "source": [
    "merge2 = merge1.loc[merge1[\"_merge\"] == \"both\"]"
   ]
  },
  {
   "cell_type": "code",
   "execution_count": 19,
   "id": "f5d17e2c-bac8-488e-a4ae-095d00be554f",
   "metadata": {},
   "outputs": [],
   "source": [
    "merge2 = merge1[\n",
    "    [\n",
    "        \"product_name\",\n",
    "        \"vendor\",\n",
    "        \"components\",\n",
    "        \"system\",\n",
    "        \"location\",\n",
    "        \"function_group\",\n",
    "        \"description\",\n",
    "        \"requirements\",\n",
    "        \"product_features\",\n",
    "        \"notes\",\n",
    "        \"properties_+_features\",\n",
    "        \"count_of_orgs_using_product\",\n",
    "    ]\n",
    "]"
   ]
  },
  {
   "cell_type": "code",
   "execution_count": 20,
   "id": "4bd870e8-f5f1-4811-bc25-5cc36319b3f6",
   "metadata": {},
   "outputs": [
    {
     "data": {
      "text/plain": [
       "(455, 12)"
      ]
     },
     "execution_count": 20,
     "metadata": {},
     "output_type": "execute_result"
    }
   ],
   "source": [
    "merge2.shape"
   ]
  },
  {
   "cell_type": "code",
   "execution_count": 21,
   "id": "6f95e16c-651c-4f4a-a9db-9c6ccac8b693",
   "metadata": {
    "tags": []
   },
   "outputs": [
    {
     "data": {
      "text/html": [
       "<div>\n",
       "<style scoped>\n",
       "    .dataframe tbody tr th:only-of-type {\n",
       "        vertical-align: middle;\n",
       "    }\n",
       "\n",
       "    .dataframe tbody tr th {\n",
       "        vertical-align: top;\n",
       "    }\n",
       "\n",
       "    .dataframe thead th {\n",
       "        text-align: right;\n",
       "    }\n",
       "</style>\n",
       "<table border=\"1\" class=\"dataframe\">\n",
       "  <thead>\n",
       "    <tr style=\"text-align: right;\">\n",
       "      <th></th>\n",
       "      <th>product_name</th>\n",
       "      <th>vendor</th>\n",
       "      <th>components</th>\n",
       "      <th>system</th>\n",
       "      <th>location</th>\n",
       "      <th>function_group</th>\n",
       "      <th>description</th>\n",
       "      <th>requirements</th>\n",
       "      <th>product_features</th>\n",
       "      <th>notes</th>\n",
       "      <th>properties_+_features</th>\n",
       "      <th>count_of_orgs_using_product</th>\n",
       "    </tr>\n",
       "  </thead>\n",
       "  <tbody>\n",
       "    <tr>\n",
       "      <th>170</th>\n",
       "      <td>Clever Devices - Unspecified</td>\n",
       "      <td>Clever Devices Ltd.</td>\n",
       "      <td>AVL Software</td>\n",
       "      <td>CAD/AVL</td>\n",
       "      <td>Backoffice</td>\n",
       "      <td>Operations</td>\n",
       "      <td>Automatic Vehicle Location (AVL) records and tracks the locations of your vehicles</td>\n",
       "      <td>nan</td>\n",
       "      <td>nan</td>\n",
       "      <td>nan</td>\n",
       "      <td>Latency</td>\n",
       "      <td>50.00</td>\n",
       "    </tr>\n",
       "    <tr>\n",
       "      <th>147</th>\n",
       "      <td>Swiftly Metronome</td>\n",
       "      <td>Swiftly Inc.</td>\n",
       "      <td>APC Software</td>\n",
       "      <td>APC</td>\n",
       "      <td>Backoffice</td>\n",
       "      <td>Reporting</td>\n",
       "      <td>NaN</td>\n",
       "      <td>nan</td>\n",
       "      <td>Cloud-based</td>\n",
       "      <td>Swiftly Metronome ensures your operations staff have visibility over your entire fixed-route fleet and can manage operations in real time, regardless of the hardware on board today or in the future.\\n\\nLive Operations - Get an up-to-the-second picture of early, late, and bunched vehicles in your system\\n\\nOnboard App - An intuitive onboard display that runs on commodity Android and iOS tablets\\n\\nService Adjustments - Dynamically manage scheduled service changes and unforeseen disruptions\\n\\nAPC Connector - Connect your APC units directly to the internet for real-time crowding and easy-to-access historical data\\n\\nAVAS Connector- Bring real-time information to your passengers through onboard audio and visual announcements in partnership with Way Sine</td>\n",
       "      <td>NaN</td>\n",
       "      <td>19.00</td>\n",
       "    </tr>\n",
       "    <tr>\n",
       "      <th>169</th>\n",
       "      <td>Cubic - Unspecified</td>\n",
       "      <td>nan</td>\n",
       "      <td>AVL Software</td>\n",
       "      <td>CAD/AVL</td>\n",
       "      <td>Backoffice</td>\n",
       "      <td>Operations</td>\n",
       "      <td>Automatic Vehicle Location (AVL) records and tracks the locations of your vehicles</td>\n",
       "      <td>nan</td>\n",
       "      <td>nan</td>\n",
       "      <td>nan</td>\n",
       "      <td>Latency</td>\n",
       "      <td>13.00</td>\n",
       "    </tr>\n",
       "  </tbody>\n",
       "</table>\n",
       "</div>"
      ],
      "text/plain": [
       "                     product_name               vendor    components   system  \\\n",
       "170  Clever Devices - Unspecified  Clever Devices Ltd.  AVL Software  CAD/AVL   \n",
       "147             Swiftly Metronome         Swiftly Inc.  APC Software      APC   \n",
       "169           Cubic - Unspecified                  nan  AVL Software  CAD/AVL   \n",
       "\n",
       "       location function_group  \\\n",
       "170  Backoffice     Operations   \n",
       "147  Backoffice      Reporting   \n",
       "169  Backoffice     Operations   \n",
       "\n",
       "                                                                            description  \\\n",
       "170  Automatic Vehicle Location (AVL) records and tracks the locations of your vehicles   \n",
       "147                                                                                 NaN   \n",
       "169  Automatic Vehicle Location (AVL) records and tracks the locations of your vehicles   \n",
       "\n",
       "    requirements product_features  \\\n",
       "170          nan              nan   \n",
       "147          nan      Cloud-based   \n",
       "169          nan              nan   \n",
       "\n",
       "                                                                                                                                                                                                                                                                                                                                                                                                                                                                                                                                                                                                                                                                                                                                                                                        notes  \\\n",
       "170                                                                                                                                                                                                                                                                                                                                                                                                                                                                                                                                                                                                                                                                                                                                                                                       nan   \n",
       "147  Swiftly Metronome ensures your operations staff have visibility over your entire fixed-route fleet and can manage operations in real time, regardless of the hardware on board today or in the future.\\n\\nLive Operations - Get an up-to-the-second picture of early, late, and bunched vehicles in your system\\n\\nOnboard App - An intuitive onboard display that runs on commodity Android and iOS tablets\\n\\nService Adjustments - Dynamically manage scheduled service changes and unforeseen disruptions\\n\\nAPC Connector - Connect your APC units directly to the internet for real-time crowding and easy-to-access historical data\\n\\nAVAS Connector- Bring real-time information to your passengers through onboard audio and visual announcements in partnership with Way Sine   \n",
       "169                                                                                                                                                                                                                                                                                                                                                                                                                                                                                                                                                                                                                                                                                                                                                                                       nan   \n",
       "\n",
       "    properties_+_features  count_of_orgs_using_product  \n",
       "170               Latency                        50.00  \n",
       "147                   NaN                        19.00  \n",
       "169               Latency                        13.00  "
      ]
     },
     "execution_count": 21,
     "metadata": {},
     "output_type": "execute_result"
    }
   ],
   "source": [
    "merge2.sample(3)"
   ]
  },
  {
   "cell_type": "markdown",
   "id": "a38b6002-87c8-4e5d-af59-33905d0c12f4",
   "metadata": {
    "tags": []
   },
   "source": [
    "## Contracts"
   ]
  },
  {
   "cell_type": "code",
   "execution_count": 22,
   "id": "e0c6b2cc-c997-40dc-a47e-88d0b7cb7428",
   "metadata": {},
   "outputs": [],
   "source": [
    "contracts = (\n",
    "    to_snakecase(pd.read_csv(f\"{GCS_FILE_PATH}contracts-Grid view.csv\"))\n",
    "    .drop(columns=[\"attachments\", \"organization_stack_components\", \"name\"])\n",
    "    .rename(\n",
    "        columns={\n",
    "            \"type_of_contract:_functional_category\": \"functional_category\",\n",
    "            \"type_of_contract:_functions\": \"contract_type\",\n",
    "        }\n",
    "    )\n",
    ")"
   ]
  },
  {
   "cell_type": "code",
   "execution_count": 23,
   "id": "0dd5cb5e-b67f-4ebf-88e8-f1493e3716b4",
   "metadata": {},
   "outputs": [
    {
     "data": {
      "text/plain": [
       "'51 organizations in contracts data set'"
      ]
     },
     "execution_count": 23,
     "metadata": {},
     "output_type": "execute_result"
    }
   ],
   "source": [
    "f\"{ contracts.contract_holder.nunique()} organizations in contracts data set\""
   ]
  },
  {
   "cell_type": "code",
   "execution_count": 24,
   "id": "378d0c64-112f-4b11-bf08-48b8c3a15d5a",
   "metadata": {},
   "outputs": [
    {
     "data": {
      "text/plain": [
       "'37 vendors in contracts data set'"
      ]
     },
     "execution_count": 24,
     "metadata": {},
     "output_type": "execute_result"
    }
   ],
   "source": [
    "f\"{ contracts.contract_vendor.nunique()} vendors in contracts data set\""
   ]
  },
  {
   "cell_type": "code",
   "execution_count": 25,
   "id": "43fea934-b604-4d52-82c3-0b65a51ad444",
   "metadata": {},
   "outputs": [
    {
     "data": {
      "text/plain": [
       "None           125\n",
       "Auto-renews      3\n",
       "Name: renewal_option, dtype: int64"
      ]
     },
     "execution_count": 25,
     "metadata": {},
     "output_type": "execute_result"
    }
   ],
   "source": [
    "contracts.renewal_option.value_counts()"
   ]
  },
  {
   "cell_type": "code",
   "execution_count": 26,
   "id": "042eb69c-916f-40f2-89fc-6f04e42f0575",
   "metadata": {},
   "outputs": [],
   "source": [
    "contracts = contracts.assign(\n",
    "    start_date=pd.to_datetime(contracts.start_date, errors=\"coerce\"),\n",
    "    end_date=pd.to_datetime(contracts.end_date, errors=\"coerce\"),\n",
    ")"
   ]
  },
  {
   "cell_type": "code",
   "execution_count": 27,
   "id": "5e1cc8c7-f0e4-4e7f-aa5d-b96cf7e16eff",
   "metadata": {},
   "outputs": [],
   "source": [
    "contracts[\"duration_of_contract_year\"] = (\n",
    "    (contracts[\"end_date\"] - contracts[\"start_date\"]).dt.days\n",
    ") / 365"
   ]
  },
  {
   "cell_type": "code",
   "execution_count": 28,
   "id": "1f6aa054-5113-4402-a5f7-e63e394d464f",
   "metadata": {},
   "outputs": [
    {
     "data": {
      "text/plain": [
       "3.0027397260273974"
      ]
     },
     "execution_count": 28,
     "metadata": {},
     "output_type": "execute_result"
    }
   ],
   "source": [
    "# Average contract length in years\n",
    "filtered_for_end_date = contracts[contracts[\"end_date\"].notnull()]\n",
    "filtered_for_end_date[\"duration_of_contract_year\"].median()"
   ]
  },
  {
   "cell_type": "code",
   "execution_count": 29,
   "id": "0ed3c405-49a6-4113-a62e-210ccbf6fe45",
   "metadata": {},
   "outputs": [],
   "source": [
    "# https://stackoverflow.com/questions/52575290/how-to-separate-string-into-multiple-rows-in-pandas\n",
    "contract_type = contracts[\"contract_type\"].str.split(\",\")\n",
    "cols = contracts.columns.difference([\"contract_type\"])"
   ]
  },
  {
   "cell_type": "code",
   "execution_count": 30,
   "id": "74631af9-f4c8-4ac3-a44a-c740aaaba3e2",
   "metadata": {},
   "outputs": [],
   "source": [
    "contracts_delinated = contracts.loc[\n",
    "    contracts.index.repeat(contract_type.str.len()), cols\n",
    "].assign(contract_type_use=list(chain.from_iterable(contract_type.tolist())))"
   ]
  },
  {
   "cell_type": "code",
   "execution_count": 31,
   "id": "6fd0bbcc-3bb7-4c00-82e3-a61ac6d437f3",
   "metadata": {},
   "outputs": [
    {
     "data": {
      "text/html": [
       "<div>\n",
       "<style scoped>\n",
       "    .dataframe tbody tr th:only-of-type {\n",
       "        vertical-align: middle;\n",
       "    }\n",
       "\n",
       "    .dataframe tbody tr th {\n",
       "        vertical-align: top;\n",
       "    }\n",
       "\n",
       "    .dataframe thead th {\n",
       "        text-align: right;\n",
       "    }\n",
       "</style>\n",
       "<table border=\"1\" class=\"dataframe\">\n",
       "  <thead>\n",
       "    <tr style=\"text-align: right;\">\n",
       "      <th></th>\n",
       "      <th>contract_holder</th>\n",
       "      <th>contract_name</th>\n",
       "      <th>contract_vendor</th>\n",
       "      <th>duration_of_contract_year</th>\n",
       "      <th>end_date</th>\n",
       "      <th>functional_category</th>\n",
       "      <th>notes</th>\n",
       "      <th>renewal_option</th>\n",
       "      <th>start_date</th>\n",
       "      <th>value</th>\n",
       "      <th>contract_type_use</th>\n",
       "    </tr>\n",
       "  </thead>\n",
       "  <tbody>\n",
       "    <tr>\n",
       "      <th>42</th>\n",
       "      <td>City of Visalia</td>\n",
       "      <td>Label used for the procurement.</td>\n",
       "      <td>GMV Syncromatics Inc</td>\n",
       "      <td>NaN</td>\n",
       "      <td>NaT</td>\n",
       "      <td>CAD/AVL,Passenger counting,Onboard rider information,Offboard rider information</td>\n",
       "      <td>NaN</td>\n",
       "      <td>None</td>\n",
       "      <td>2016-06-09</td>\n",
       "      <td>NaN</td>\n",
       "      <td>MDT</td>\n",
       "    </tr>\n",
       "    <tr>\n",
       "      <th>94</th>\n",
       "      <td>Santa Barbara Metropolitan Transit District</td>\n",
       "      <td>Label used for the procurement.</td>\n",
       "      <td>Genfare</td>\n",
       "      <td>NaN</td>\n",
       "      <td>NaT</td>\n",
       "      <td>Offboard fares,Onboard fares</td>\n",
       "      <td>NaN</td>\n",
       "      <td>None</td>\n",
       "      <td>2016-12-27</td>\n",
       "      <td>NaN</td>\n",
       "      <td>Farebox</td>\n",
       "    </tr>\n",
       "    <tr>\n",
       "      <th>64</th>\n",
       "      <td>Monterey-Salinas Transit</td>\n",
       "      <td>Label used for the procurement.</td>\n",
       "      <td>Trapeze Group</td>\n",
       "      <td>5.17</td>\n",
       "      <td>2024-06-30</td>\n",
       "      <td>CAD/AVL,Onboard rider information,Offboard rider information</td>\n",
       "      <td>NaN</td>\n",
       "      <td>None</td>\n",
       "      <td>2019-05-01</td>\n",
       "      <td>NaN</td>\n",
       "      <td>Real-time service alerts</td>\n",
       "    </tr>\n",
       "  </tbody>\n",
       "</table>\n",
       "</div>"
      ],
      "text/plain": [
       "                                contract_holder  \\\n",
       "42                              City of Visalia   \n",
       "94  Santa Barbara Metropolitan Transit District   \n",
       "64                     Monterey-Salinas Transit   \n",
       "\n",
       "                      contract_name       contract_vendor  \\\n",
       "42  Label used for the procurement.  GMV Syncromatics Inc   \n",
       "94  Label used for the procurement.               Genfare   \n",
       "64  Label used for the procurement.         Trapeze Group   \n",
       "\n",
       "    duration_of_contract_year   end_date  \\\n",
       "42                        NaN        NaT   \n",
       "94                        NaN        NaT   \n",
       "64                       5.17 2024-06-30   \n",
       "\n",
       "                                                                functional_category  \\\n",
       "42  CAD/AVL,Passenger counting,Onboard rider information,Offboard rider information   \n",
       "94                                                     Offboard fares,Onboard fares   \n",
       "64                     CAD/AVL,Onboard rider information,Offboard rider information   \n",
       "\n",
       "   notes renewal_option start_date  value         contract_type_use  \n",
       "42   NaN           None 2016-06-09    NaN                       MDT  \n",
       "94   NaN           None 2016-12-27    NaN                  Farebox   \n",
       "64   NaN           None 2019-05-01    NaN  Real-time service alerts  "
      ]
     },
     "execution_count": 31,
     "metadata": {},
     "output_type": "execute_result"
    }
   ],
   "source": [
    "contracts_delinated.sample(3)"
   ]
  },
  {
   "cell_type": "markdown",
   "id": "7f8df35a-267f-462a-aae7-453d2acf1b1e",
   "metadata": {},
   "source": [
    "# Answering some questions"
   ]
  },
  {
   "cell_type": "markdown",
   "id": "96ec9c38-c889-4068-be49-9857f3fa40cd",
   "metadata": {},
   "source": [
    "## Products\n",
    "### What % of vendors with scheduling software also provide GTFS data out of the box?\n",
    "* Doesn't seem like any vendors/products contain both GTFS and schedule in the components section."
   ]
  },
  {
   "cell_type": "code",
   "execution_count": 32,
   "id": "4001a39a-3137-4c23-9095-db9f19b27832",
   "metadata": {},
   "outputs": [],
   "source": [
    "# https://stackoverflow.com/questions/26577516/how-to-test-if-a-string-contains-one-of-the-substrings-in-a-list-in-pandas\n",
    "searchfor = [\"GTFS\", \"schedule\", \"Scheduling\", \"Schedule\", \"scheduling\"]"
   ]
  },
  {
   "cell_type": "code",
   "execution_count": 33,
   "id": "038d4122-8597-41f0-bf37-29631cd561d8",
   "metadata": {},
   "outputs": [],
   "source": [
    "gtfs_schedule_overlap = products[\n",
    "    products[\"components\"].str.contains(\n",
    "        \"&\".join(searchfor),\n",
    "        case=False,\n",
    "    )\n",
    "]"
   ]
  },
  {
   "cell_type": "code",
   "execution_count": 34,
   "id": "f0a9f7df-c693-4f51-8ec9-acf0517ae501",
   "metadata": {},
   "outputs": [
    {
     "data": {
      "text/html": [
       "<div>\n",
       "<style scoped>\n",
       "    .dataframe tbody tr th:only-of-type {\n",
       "        vertical-align: middle;\n",
       "    }\n",
       "\n",
       "    .dataframe tbody tr th {\n",
       "        vertical-align: top;\n",
       "    }\n",
       "\n",
       "    .dataframe thead th {\n",
       "        text-align: right;\n",
       "    }\n",
       "</style>\n",
       "<table border=\"1\" class=\"dataframe\">\n",
       "  <thead>\n",
       "    <tr style=\"text-align: right;\">\n",
       "      <th></th>\n",
       "      <th>product_name</th>\n",
       "      <th>components</th>\n",
       "      <th>vendor</th>\n",
       "      <th>url</th>\n",
       "      <th>requirements</th>\n",
       "      <th>product_features</th>\n",
       "      <th>notes</th>\n",
       "      <th>organization_stack_components</th>\n",
       "      <th>count_of_orgs_using_product</th>\n",
       "    </tr>\n",
       "  </thead>\n",
       "  <tbody>\n",
       "  </tbody>\n",
       "</table>\n",
       "</div>"
      ],
      "text/plain": [
       "Empty DataFrame\n",
       "Columns: [product_name, components, vendor, url, requirements, product_features, notes, organization_stack_components, count_of_orgs_using_product]\n",
       "Index: []"
      ]
     },
     "execution_count": 34,
     "metadata": {},
     "output_type": "execute_result"
    }
   ],
   "source": [
    "gtfs_schedule_overlap"
   ]
  },
  {
   "cell_type": "markdown",
   "id": "5c80e287-6506-469b-8278-469e18f7ce3e",
   "metadata": {},
   "source": [
    "### "
   ]
  },
  {
   "cell_type": "markdown",
   "id": "bcf4a30e-8a4d-4eda-b8ab-10b81c74d641",
   "metadata": {},
   "source": [
    "## Components\n",
    "### Top & bottom 10 product categories\n",
    "* Real-time info is the most \"crowded\" category with 32 different products.\n",
    "* Most categories only have one product."
   ]
  },
  {
   "cell_type": "code",
   "execution_count": 35,
   "id": "5b1ca6ef-c13e-4641-828d-cfa7572065b3",
   "metadata": {},
   "outputs": [],
   "source": [
    "def bar_chart(df, x_col, y_col):\n",
    "    chart = (\n",
    "        alt.Chart(df)\n",
    "        .mark_bar()\n",
    "        .encode(\n",
    "            x=x_col,\n",
    "            y=y_col,\n",
    "            color=alt.Color(\n",
    "                x_col, scale=alt.Scale(scheme=\"tealblues\")\n",
    "            ),\n",
    "        )\n",
    "    )\n",
    "    return chart"
   ]
  },
  {
   "cell_type": "code",
   "execution_count": 36,
   "id": "c17d5d9d-9628-4ff6-b334-b316b8bfe23c",
   "metadata": {
    "tags": []
   },
   "outputs": [],
   "source": [
    "product_categories = components[\n",
    "    [\"name\", \"count_of_products_in_categories\"]\n",
    "].sort_values(\"count_of_products_in_categories\", ascending=False)"
   ]
  },
  {
   "cell_type": "code",
   "execution_count": 37,
   "id": "47fc9d4a-f4c0-4725-abf8-d10c88a148ed",
   "metadata": {},
   "outputs": [],
   "source": [
    "# filter out any categories with 0 products\n",
    "product_categories = product_categories[\n",
    "    product_categories[\"count_of_products_in_categories\"] > 0\n",
    "]"
   ]
  },
  {
   "cell_type": "code",
   "execution_count": 38,
   "id": "231e9f42-68aa-4426-9b6e-26330ef1a9ce",
   "metadata": {},
   "outputs": [
    {
     "data": {
      "text/plain": [
       "'70 unique categories'"
      ]
     },
     "execution_count": 38,
     "metadata": {},
     "output_type": "execute_result"
    }
   ],
   "source": [
    "f\"{product_categories.name.nunique()} unique categories\""
   ]
  },
  {
   "cell_type": "code",
   "execution_count": 39,
   "id": "71e88031-858b-44cb-b560-e770ada44fe9",
   "metadata": {},
   "outputs": [
    {
     "data": {
      "text/html": [
       "<div>\n",
       "<style scoped>\n",
       "    .dataframe tbody tr th:only-of-type {\n",
       "        vertical-align: middle;\n",
       "    }\n",
       "\n",
       "    .dataframe tbody tr th {\n",
       "        vertical-align: top;\n",
       "    }\n",
       "\n",
       "    .dataframe thead th {\n",
       "        text-align: right;\n",
       "    }\n",
       "</style>\n",
       "<table border=\"1\" class=\"dataframe\">\n",
       "  <thead>\n",
       "    <tr style=\"text-align: right;\">\n",
       "      <th></th>\n",
       "      <th>name</th>\n",
       "      <th>count_of_products_in_categories</th>\n",
       "    </tr>\n",
       "  </thead>\n",
       "  <tbody>\n",
       "    <tr>\n",
       "      <th>70</th>\n",
       "      <td>Real-time info</td>\n",
       "      <td>32.00</td>\n",
       "    </tr>\n",
       "    <tr>\n",
       "      <th>53</th>\n",
       "      <td>Mobile trip planning app</td>\n",
       "      <td>19.00</td>\n",
       "    </tr>\n",
       "    <tr>\n",
       "      <th>9</th>\n",
       "      <td>AVL On-board Computer</td>\n",
       "      <td>19.00</td>\n",
       "    </tr>\n",
       "    <tr>\n",
       "      <th>14</th>\n",
       "      <td>Cash Farebox</td>\n",
       "      <td>17.00</td>\n",
       "    </tr>\n",
       "    <tr>\n",
       "      <th>56</th>\n",
       "      <td>Offboard signage</td>\n",
       "      <td>16.00</td>\n",
       "    </tr>\n",
       "  </tbody>\n",
       "</table>\n",
       "</div>"
      ],
      "text/plain": [
       "                        name  count_of_products_in_categories\n",
       "70            Real-time info                            32.00\n",
       "53  Mobile trip planning app                            19.00\n",
       "9      AVL On-board Computer                            19.00\n",
       "14              Cash Farebox                            17.00\n",
       "56          Offboard signage                            16.00"
      ]
     },
     "execution_count": 39,
     "metadata": {},
     "output_type": "execute_result"
    }
   ],
   "source": [
    "product_categories.head()"
   ]
  },
  {
   "cell_type": "code",
   "execution_count": 40,
   "id": "775f445a-8b9f-415d-86c2-6bb6836fd81d",
   "metadata": {
    "tags": []
   },
   "outputs": [
    {
     "data": {
      "text/plain": [
       "'Median number of different products in a category is 4.0'"
      ]
     },
     "execution_count": 40,
     "metadata": {},
     "output_type": "execute_result"
    }
   ],
   "source": [
    "f\"Median number of different products in a category is {product_categories.count_of_products_in_categories.median()}\""
   ]
  },
  {
   "cell_type": "code",
   "execution_count": 41,
   "id": "ef09d20f-dbba-47dc-a8f9-ee7152b732ae",
   "metadata": {},
   "outputs": [],
   "source": [
    "most_saturated_category = product_categories.head(10).rename(\n",
    "    columns={\"name\": \"category\"}\n",
    ")"
   ]
  },
  {
   "cell_type": "code",
   "execution_count": 42,
   "id": "53367770-710c-4f09-b9fc-b01f9c4435cf",
   "metadata": {},
   "outputs": [
    {
     "data": {
      "text/html": [
       "\n",
       "<div id=\"altair-viz-22359b9549ef45a39ee4b6719f5998ff\"></div>\n",
       "<script type=\"text/javascript\">\n",
       "  var VEGA_DEBUG = (typeof VEGA_DEBUG == \"undefined\") ? {} : VEGA_DEBUG;\n",
       "  (function(spec, embedOpt){\n",
       "    let outputDiv = document.currentScript.previousElementSibling;\n",
       "    if (outputDiv.id !== \"altair-viz-22359b9549ef45a39ee4b6719f5998ff\") {\n",
       "      outputDiv = document.getElementById(\"altair-viz-22359b9549ef45a39ee4b6719f5998ff\");\n",
       "    }\n",
       "    const paths = {\n",
       "      \"vega\": \"https://cdn.jsdelivr.net/npm//vega@5?noext\",\n",
       "      \"vega-lib\": \"https://cdn.jsdelivr.net/npm//vega-lib?noext\",\n",
       "      \"vega-lite\": \"https://cdn.jsdelivr.net/npm//vega-lite@4.17.0?noext\",\n",
       "      \"vega-embed\": \"https://cdn.jsdelivr.net/npm//vega-embed@6?noext\",\n",
       "    };\n",
       "\n",
       "    function maybeLoadScript(lib, version) {\n",
       "      var key = `${lib.replace(\"-\", \"\")}_version`;\n",
       "      return (VEGA_DEBUG[key] == version) ?\n",
       "        Promise.resolve(paths[lib]) :\n",
       "        new Promise(function(resolve, reject) {\n",
       "          var s = document.createElement('script');\n",
       "          document.getElementsByTagName(\"head\")[0].appendChild(s);\n",
       "          s.async = true;\n",
       "          s.onload = () => {\n",
       "            VEGA_DEBUG[key] = version;\n",
       "            return resolve(paths[lib]);\n",
       "          };\n",
       "          s.onerror = () => reject(`Error loading script: ${paths[lib]}`);\n",
       "          s.src = paths[lib];\n",
       "        });\n",
       "    }\n",
       "\n",
       "    function showError(err) {\n",
       "      outputDiv.innerHTML = `<div class=\"error\" style=\"color:red;\">${err}</div>`;\n",
       "      throw err;\n",
       "    }\n",
       "\n",
       "    function displayChart(vegaEmbed) {\n",
       "      vegaEmbed(outputDiv, spec, embedOpt)\n",
       "        .catch(err => showError(`Javascript Error: ${err.message}<br>This usually means there's a typo in your chart specification. See the javascript console for the full traceback.`));\n",
       "    }\n",
       "\n",
       "    if(typeof define === \"function\" && define.amd) {\n",
       "      requirejs.config({paths});\n",
       "      require([\"vega-embed\"], displayChart, err => showError(`Error loading script: ${err.message}`));\n",
       "    } else {\n",
       "      maybeLoadScript(\"vega\", \"5\")\n",
       "        .then(() => maybeLoadScript(\"vega-lite\", \"4.17.0\"))\n",
       "        .then(() => maybeLoadScript(\"vega-embed\", \"6\"))\n",
       "        .catch(showError)\n",
       "        .then(() => displayChart(vegaEmbed));\n",
       "    }\n",
       "  })({\"config\": {\"view\": {\"continuousWidth\": 400, \"continuousHeight\": 300}}, \"data\": {\"name\": \"data-169c0dc1ad83e952580f8364b3d56419\"}, \"mark\": \"bar\", \"encoding\": {\"color\": {\"field\": \"count_of_products_in_categories\", \"scale\": {\"scheme\": \"tealblues\"}, \"type\": \"quantitative\"}, \"x\": {\"field\": \"count_of_products_in_categories\", \"type\": \"quantitative\"}, \"y\": {\"field\": \"category\", \"type\": \"nominal\"}}, \"$schema\": \"https://vega.github.io/schema/vega-lite/v4.17.0.json\", \"datasets\": {\"data-169c0dc1ad83e952580f8364b3d56419\": [{\"category\": \"Real-time info\", \"count_of_products_in_categories\": 32.0}, {\"category\": \"Mobile trip planning app\", \"count_of_products_in_categories\": 19.0}, {\"category\": \"AVL On-board Computer\", \"count_of_products_in_categories\": 19.0}, {\"category\": \"Cash Farebox\", \"count_of_products_in_categories\": 17.0}, {\"category\": \"Offboard signage\", \"count_of_products_in_categories\": 16.0}, {\"category\": \"APC Sensors\", \"count_of_products_in_categories\": 14.0}, {\"category\": \"Payment processor\", \"count_of_products_in_categories\": 14.0}, {\"category\": \"Mobile ticketing\", \"count_of_products_in_categories\": 13.0}, {\"category\": \"KPI Reporting\", \"count_of_products_in_categories\": 12.0}, {\"category\": \"Web-based trip planner\", \"count_of_products_in_categories\": 12.0}]}}, {\"mode\": \"vega-lite\"});\n",
       "</script>"
      ],
      "text/plain": [
       "alt.Chart(...)"
      ]
     },
     "execution_count": 42,
     "metadata": {},
     "output_type": "execute_result"
    }
   ],
   "source": [
    "bar_chart(most_saturated_category, 'count_of_products_in_categories', 'category')"
   ]
  },
  {
   "cell_type": "markdown",
   "id": "0d0512e7-e176-40b0-8887-dc25c60d6b9a",
   "metadata": {},
   "source": [
    "## Looking at contracts\n",
    "### Most common products bought\n",
    "* Most contracts have an element of GTFS Generation, followed by Vehicle Locations, and Arrival Predictions."
   ]
  },
  {
   "cell_type": "code",
   "execution_count": 43,
   "id": "90743c2d-0e12-4400-82e8-06df1ae202e5",
   "metadata": {},
   "outputs": [],
   "source": [
    "most_common_contract_product = (\n",
    "    contracts_delinated.contract_type_use.value_counts()\n",
    "    .to_frame()\n",
    "    .reset_index()\n",
    "    .rename(\n",
    "        columns={\"index\": \"product_type\", \"contract_type_use\": \"number_of_contracts\"}\n",
    "    )\n",
    "    .head(10)\n",
    ")"
   ]
  },
  {
   "cell_type": "code",
   "execution_count": 44,
   "id": "1a1ed944-a1ba-443c-aaaa-8671bbd51624",
   "metadata": {},
   "outputs": [
    {
     "data": {
      "text/html": [
       "\n",
       "<div id=\"altair-viz-32ccc52e380f4a84a14b15b4a5d132a7\"></div>\n",
       "<script type=\"text/javascript\">\n",
       "  var VEGA_DEBUG = (typeof VEGA_DEBUG == \"undefined\") ? {} : VEGA_DEBUG;\n",
       "  (function(spec, embedOpt){\n",
       "    let outputDiv = document.currentScript.previousElementSibling;\n",
       "    if (outputDiv.id !== \"altair-viz-32ccc52e380f4a84a14b15b4a5d132a7\") {\n",
       "      outputDiv = document.getElementById(\"altair-viz-32ccc52e380f4a84a14b15b4a5d132a7\");\n",
       "    }\n",
       "    const paths = {\n",
       "      \"vega\": \"https://cdn.jsdelivr.net/npm//vega@5?noext\",\n",
       "      \"vega-lib\": \"https://cdn.jsdelivr.net/npm//vega-lib?noext\",\n",
       "      \"vega-lite\": \"https://cdn.jsdelivr.net/npm//vega-lite@4.17.0?noext\",\n",
       "      \"vega-embed\": \"https://cdn.jsdelivr.net/npm//vega-embed@6?noext\",\n",
       "    };\n",
       "\n",
       "    function maybeLoadScript(lib, version) {\n",
       "      var key = `${lib.replace(\"-\", \"\")}_version`;\n",
       "      return (VEGA_DEBUG[key] == version) ?\n",
       "        Promise.resolve(paths[lib]) :\n",
       "        new Promise(function(resolve, reject) {\n",
       "          var s = document.createElement('script');\n",
       "          document.getElementsByTagName(\"head\")[0].appendChild(s);\n",
       "          s.async = true;\n",
       "          s.onload = () => {\n",
       "            VEGA_DEBUG[key] = version;\n",
       "            return resolve(paths[lib]);\n",
       "          };\n",
       "          s.onerror = () => reject(`Error loading script: ${paths[lib]}`);\n",
       "          s.src = paths[lib];\n",
       "        });\n",
       "    }\n",
       "\n",
       "    function showError(err) {\n",
       "      outputDiv.innerHTML = `<div class=\"error\" style=\"color:red;\">${err}</div>`;\n",
       "      throw err;\n",
       "    }\n",
       "\n",
       "    function displayChart(vegaEmbed) {\n",
       "      vegaEmbed(outputDiv, spec, embedOpt)\n",
       "        .catch(err => showError(`Javascript Error: ${err.message}<br>This usually means there's a typo in your chart specification. See the javascript console for the full traceback.`));\n",
       "    }\n",
       "\n",
       "    if(typeof define === \"function\" && define.amd) {\n",
       "      requirejs.config({paths});\n",
       "      require([\"vega-embed\"], displayChart, err => showError(`Error loading script: ${err.message}`));\n",
       "    } else {\n",
       "      maybeLoadScript(\"vega\", \"5\")\n",
       "        .then(() => maybeLoadScript(\"vega-lite\", \"4.17.0\"))\n",
       "        .then(() => maybeLoadScript(\"vega-embed\", \"6\"))\n",
       "        .catch(showError)\n",
       "        .then(() => displayChart(vegaEmbed));\n",
       "    }\n",
       "  })({\"config\": {\"view\": {\"continuousWidth\": 400, \"continuousHeight\": 300}}, \"data\": {\"name\": \"data-cb8257354940b61baf631803d43a179d\"}, \"mark\": \"bar\", \"encoding\": {\"color\": {\"field\": \"number_of_contracts\", \"scale\": {\"scheme\": \"tealblues\"}, \"type\": \"quantitative\"}, \"x\": {\"field\": \"number_of_contracts\", \"type\": \"quantitative\"}, \"y\": {\"field\": \"product_type\", \"type\": \"nominal\"}}, \"$schema\": \"https://vega.github.io/schema/vega-lite/v4.17.0.json\", \"datasets\": {\"data-cb8257354940b61baf631803d43a179d\": [{\"product_type\": \"GTFS Generation\", \"number_of_contracts\": 34}, {\"product_type\": \"Vehicle Locations\", \"number_of_contracts\": 32}, {\"product_type\": \"Arrival predictions\", \"number_of_contracts\": 31}, {\"product_type\": \"MDT\", \"number_of_contracts\": 22}, {\"product_type\": \"Real-time service alerts\", \"number_of_contracts\": 19}, {\"product_type\": \"Mobile ticketing\", \"number_of_contracts\": 16}, {\"product_type\": \"Interior signage\", \"number_of_contracts\": 16}, {\"product_type\": \"Annunciator\", \"number_of_contracts\": 16}, {\"product_type\": \"Realtime info\", \"number_of_contracts\": 15}, {\"product_type\": \"Headsigns\", \"number_of_contracts\": 13}]}}, {\"mode\": \"vega-lite\"});\n",
       "</script>"
      ],
      "text/plain": [
       "alt.Chart(...)"
      ]
     },
     "execution_count": 44,
     "metadata": {},
     "output_type": "execute_result"
    }
   ],
   "source": [
    "bar_chart(most_common_contract_product, 'number_of_contracts', 'product_type')"
   ]
  },
  {
   "cell_type": "markdown",
   "id": "782820c0-e56c-4a13-b409-9d5f80732eab",
   "metadata": {},
   "source": [
    "### Most popular vendors"
   ]
  },
  {
   "cell_type": "code",
   "execution_count": 45,
   "id": "7452c8ad-959a-4c60-ba8c-9a0e88a28363",
   "metadata": {},
   "outputs": [],
   "source": [
    "vendors = (\n",
    "    contracts.contract_vendor.value_counts()\n",
    "    .to_frame()\n",
    "    .reset_index()\n",
    "    .head(10)\n",
    "    .rename(columns={\"index\": \"vendor\", \"contract_vendor\": \"number_of_contracts\"})\n",
    ")"
   ]
  },
  {
   "cell_type": "code",
   "execution_count": 46,
   "id": "bc63dd15-8061-4ae8-9b2e-2ec492a44811",
   "metadata": {},
   "outputs": [
    {
     "data": {
      "text/html": [
       "\n",
       "<div id=\"altair-viz-ae3bf0316fdf4dc3ade3f7017084fef1\"></div>\n",
       "<script type=\"text/javascript\">\n",
       "  var VEGA_DEBUG = (typeof VEGA_DEBUG == \"undefined\") ? {} : VEGA_DEBUG;\n",
       "  (function(spec, embedOpt){\n",
       "    let outputDiv = document.currentScript.previousElementSibling;\n",
       "    if (outputDiv.id !== \"altair-viz-ae3bf0316fdf4dc3ade3f7017084fef1\") {\n",
       "      outputDiv = document.getElementById(\"altair-viz-ae3bf0316fdf4dc3ade3f7017084fef1\");\n",
       "    }\n",
       "    const paths = {\n",
       "      \"vega\": \"https://cdn.jsdelivr.net/npm//vega@5?noext\",\n",
       "      \"vega-lib\": \"https://cdn.jsdelivr.net/npm//vega-lib?noext\",\n",
       "      \"vega-lite\": \"https://cdn.jsdelivr.net/npm//vega-lite@4.17.0?noext\",\n",
       "      \"vega-embed\": \"https://cdn.jsdelivr.net/npm//vega-embed@6?noext\",\n",
       "    };\n",
       "\n",
       "    function maybeLoadScript(lib, version) {\n",
       "      var key = `${lib.replace(\"-\", \"\")}_version`;\n",
       "      return (VEGA_DEBUG[key] == version) ?\n",
       "        Promise.resolve(paths[lib]) :\n",
       "        new Promise(function(resolve, reject) {\n",
       "          var s = document.createElement('script');\n",
       "          document.getElementsByTagName(\"head\")[0].appendChild(s);\n",
       "          s.async = true;\n",
       "          s.onload = () => {\n",
       "            VEGA_DEBUG[key] = version;\n",
       "            return resolve(paths[lib]);\n",
       "          };\n",
       "          s.onerror = () => reject(`Error loading script: ${paths[lib]}`);\n",
       "          s.src = paths[lib];\n",
       "        });\n",
       "    }\n",
       "\n",
       "    function showError(err) {\n",
       "      outputDiv.innerHTML = `<div class=\"error\" style=\"color:red;\">${err}</div>`;\n",
       "      throw err;\n",
       "    }\n",
       "\n",
       "    function displayChart(vegaEmbed) {\n",
       "      vegaEmbed(outputDiv, spec, embedOpt)\n",
       "        .catch(err => showError(`Javascript Error: ${err.message}<br>This usually means there's a typo in your chart specification. See the javascript console for the full traceback.`));\n",
       "    }\n",
       "\n",
       "    if(typeof define === \"function\" && define.amd) {\n",
       "      requirejs.config({paths});\n",
       "      require([\"vega-embed\"], displayChart, err => showError(`Error loading script: ${err.message}`));\n",
       "    } else {\n",
       "      maybeLoadScript(\"vega\", \"5\")\n",
       "        .then(() => maybeLoadScript(\"vega-lite\", \"4.17.0\"))\n",
       "        .then(() => maybeLoadScript(\"vega-embed\", \"6\"))\n",
       "        .catch(showError)\n",
       "        .then(() => displayChart(vegaEmbed));\n",
       "    }\n",
       "  })({\"config\": {\"view\": {\"continuousWidth\": 400, \"continuousHeight\": 300}}, \"data\": {\"name\": \"data-d770d01f011ebbd933fb25f21ced3bfc\"}, \"mark\": \"bar\", \"encoding\": {\"color\": {\"field\": \"number_of_contracts\", \"scale\": {\"scheme\": \"tealblues\"}, \"type\": \"quantitative\"}, \"x\": {\"field\": \"number_of_contracts\", \"type\": \"quantitative\"}, \"y\": {\"field\": \"vendor\", \"type\": \"nominal\"}}, \"$schema\": \"https://vega.github.io/schema/vega-lite/v4.17.0.json\", \"datasets\": {\"data-d770d01f011ebbd933fb25f21ced3bfc\": [{\"vendor\": \"Trillium Inc.\", \"number_of_contracts\": 22}, {\"vendor\": \"Genfare\", \"number_of_contracts\": 8}, {\"vendor\": \"GMV Syncromatics Inc\", \"number_of_contracts\": 8}, {\"vendor\": \"Token Transit\", \"number_of_contracts\": 8}, {\"vendor\": \"Trapeze Group\", \"number_of_contracts\": 7}, {\"vendor\": \"Via Inc.\", \"number_of_contracts\": 6}, {\"vendor\": \"DoubleMap Inc.\", \"number_of_contracts\": 5}, {\"vendor\": \"Clever Devices Ltd.\", \"number_of_contracts\": 5}, {\"vendor\": \"Swiftly Inc.\", \"number_of_contracts\": 5}, {\"vendor\": \"UTA\", \"number_of_contracts\": 4}]}}, {\"mode\": \"vega-lite\"});\n",
       "</script>"
      ],
      "text/plain": [
       "alt.Chart(...)"
      ]
     },
     "execution_count": 46,
     "metadata": {},
     "output_type": "execute_result"
    }
   ],
   "source": [
    "\n",
    "bar_chart(vendors, 'number_of_contracts', 'vendor')"
   ]
  }
 ],
 "metadata": {
  "kernelspec": {
   "display_name": "Python 3 (ipykernel)",
   "language": "python",
   "name": "python3"
  },
  "language_info": {
   "codemirror_mode": {
    "name": "ipython",
    "version": 3
   },
   "file_extension": ".py",
   "mimetype": "text/x-python",
   "name": "python",
   "nbconvert_exporter": "python",
   "pygments_lexer": "ipython3",
   "version": "3.9.10"
  }
 },
 "nbformat": 4,
 "nbformat_minor": 5
}
