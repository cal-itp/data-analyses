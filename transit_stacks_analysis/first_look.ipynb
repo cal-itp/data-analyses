{
 "cells": [
  {
   "cell_type": "markdown",
   "id": "4b995212-343f-4eb0-b1b3-252a1009961d",
   "metadata": {},
   "source": [
    "# Taking a first look and cleaning the data.\n",
    "* [Data Source](https://airtable.com/appeVUdmRBi3K9hTS/tblLywLvMA2OTesQP/viwRRKOaZvvkSNfmU?blocks=hide)\n",
    "* [Term Explanations](https://docs.calitp.org/data-infra/datasets_and_tables/transitdatabase.html)"
   ]
  },
  {
   "cell_type": "code",
   "execution_count": 1,
   "id": "3af4662e-f7e3-4c00-bd3d-0f756f7adc5d",
   "metadata": {},
   "outputs": [
    {
     "name": "stderr",
     "output_type": "stream",
     "text": [
      "/opt/conda/lib/python3.9/site-packages/geopandas/_compat.py:111: UserWarning: The Shapely GEOS version (3.10.2-CAPI-1.16.0) is incompatible with the GEOS version PyGEOS was compiled with (3.10.1-CAPI-1.16.0). Conversions between both will be slow.\n"
     ]
    }
   ],
   "source": [
    "import numpy as np\n",
    "import pandas as pd\n",
    "\n",
    "pd.options.display.max_columns = 50\n",
    "pd.options.display.max_rows = 250\n",
    "pd.set_option(\"display.max_colwidth\", None)\n",
    "pd.options.display.float_format = \"{:.2f}\".format\n",
    "\n",
    "from itertools import chain\n",
    "from os import path\n",
    "\n",
    "import altair as alt\n",
    "import charts\n",
    "import matplotlib.pyplot as plt\n",
    "import numpy as np\n",
    "import pandas as pd\n",
    "from calitp import *\n",
    "from PIL import Image\n",
    "from shared_utils import altair_utils\n",
    "from siuba import *\n",
    "from wordcloud import STOPWORDS, ImageColorGenerator, WordCloud\n",
    "\n",
    "GCS_FILE_PATH = \"gs://calitp-analytics-data/data-analyses/transit_stacks/\""
   ]
  },
  {
   "cell_type": "markdown",
   "id": "76424a9d-ac73-4b72-9d27-fb5ab6f1d988",
   "metadata": {
    "tags": []
   },
   "source": [
    "## Products Data"
   ]
  },
  {
   "cell_type": "code",
   "execution_count": 2,
   "id": "3855fedb-1c76-4964-b7ea-ae12808eabf7",
   "metadata": {},
   "outputs": [],
   "source": [
    "# drop columns with tons of NAs\n",
    "products = (\n",
    "    to_snakecase(pd.read_csv(f\"{GCS_FILE_PATH}products_May_3.csv\"))\n",
    "    .drop(\n",
    "        columns=[\n",
    "            \"business_model_features\",\n",
    "            \"attachments\",\n",
    "            \"status\",\n",
    "            \"certifications\",\n",
    "            \"connectivity\",\n",
    "            \"accepted_input_components\",\n",
    "            \"output_components\",\n",
    "            \"input\",\n",
    "            \"output\",\n",
    "        ]\n",
    "    )\n",
    "    .rename(columns={\"name\": \"product_name\"})\n",
    ")"
   ]
  },
  {
   "cell_type": "code",
   "execution_count": 3,
   "id": "42aadca7-bd6d-4a8d-8612-a7c2e47eca51",
   "metadata": {},
   "outputs": [
    {
     "data": {
      "text/plain": [
       "Index(['product_name', 'components', 'vendor', 'url', 'requirements',\n",
       "       'product_features', 'notes', 'organization_stack_components'],\n",
       "      dtype='object')"
      ]
     },
     "execution_count": 3,
     "metadata": {},
     "output_type": "execute_result"
    }
   ],
   "source": [
    "products.columns"
   ]
  },
  {
   "cell_type": "code",
   "execution_count": 4,
   "id": "5d4e91c7-be03-4cc5-a78e-07328e142a58",
   "metadata": {},
   "outputs": [
    {
     "data": {
      "text/plain": [
       "product_name                       0\n",
       "components                         9\n",
       "vendor                            40\n",
       "url                               70\n",
       "requirements                     233\n",
       "product_features                 180\n",
       "notes                            173\n",
       "organization_stack_components    103\n",
       "dtype: int64"
      ]
     },
     "execution_count": 4,
     "metadata": {},
     "output_type": "execute_result"
    }
   ],
   "source": [
    "products.isna().sum()"
   ]
  },
  {
   "cell_type": "code",
   "execution_count": 5,
   "id": "b4c89afb-81b3-41de-a7c9-a48c7361587b",
   "metadata": {},
   "outputs": [],
   "source": [
    "### Count number of strings by column in organization_stack_components column to see how many orgs are using this vendor.\n",
    "# https://stackoverflow.com/questions/51502263/pandas-dataframe-object-has-no-attribute-str\n",
    "products[\"count_of_orgs_using_product\"] = (\n",
    "    products[\"organization_stack_components\"]\n",
    "    .str.split(\",+\")\n",
    "    .str.len()\n",
    "    .groupby(products.product_name)\n",
    "    .transform(\"sum\")\n",
    ")"
   ]
  },
  {
   "cell_type": "code",
   "execution_count": 6,
   "id": "6e7c3a18-b61f-4b8f-8e5c-cf601f2b5c67",
   "metadata": {},
   "outputs": [
    {
     "data": {
      "text/plain": [
       "'83 unique vendors'"
      ]
     },
     "execution_count": 6,
     "metadata": {},
     "output_type": "execute_result"
    }
   ],
   "source": [
    "unique_vendors = products.vendor.nunique()\n",
    "f\"{unique_vendors} unique vendors\""
   ]
  },
  {
   "cell_type": "code",
   "execution_count": 7,
   "id": "9585c978-734b-40aa-88e6-2792bd28db8b",
   "metadata": {},
   "outputs": [
    {
     "data": {
      "text/plain": [
       "'259 unique products'"
      ]
     },
     "execution_count": 7,
     "metadata": {},
     "output_type": "execute_result"
    }
   ],
   "source": [
    "f\"{products.product_name.nunique()} unique products\""
   ]
  },
  {
   "cell_type": "code",
   "execution_count": 8,
   "id": "8d443957-1163-4ea0-82b5-9dbb2a7509d7",
   "metadata": {},
   "outputs": [
    {
     "data": {
      "text/html": [
       "<div>\n",
       "<style scoped>\n",
       "    .dataframe tbody tr th:only-of-type {\n",
       "        vertical-align: middle;\n",
       "    }\n",
       "\n",
       "    .dataframe tbody tr th {\n",
       "        vertical-align: top;\n",
       "    }\n",
       "\n",
       "    .dataframe thead th {\n",
       "        text-align: right;\n",
       "    }\n",
       "</style>\n",
       "<table border=\"1\" class=\"dataframe\">\n",
       "  <thead>\n",
       "    <tr style=\"text-align: right;\">\n",
       "      <th></th>\n",
       "      <th>product_name</th>\n",
       "      <th>components</th>\n",
       "      <th>vendor</th>\n",
       "      <th>url</th>\n",
       "      <th>requirements</th>\n",
       "      <th>product_features</th>\n",
       "      <th>notes</th>\n",
       "      <th>organization_stack_components</th>\n",
       "      <th>count_of_orgs_using_product</th>\n",
       "    </tr>\n",
       "  </thead>\n",
       "  <tbody>\n",
       "    <tr>\n",
       "      <th>14</th>\n",
       "      <td>RouteMatch - Demand: Notifications Module</td>\n",
       "      <td>Alerts Content Management System,Social Alerts,Alerts Subscription Service,GTFS Alerts Publication</td>\n",
       "      <td>Uber Inc.</td>\n",
       "      <td>https://www.routematch.com/wp-content/uploads/2017/09/Brochure-Demand-Response-2017.pdf</td>\n",
       "      <td>RouteMatch - Demand Base</td>\n",
       "      <td>Cloud-based</td>\n",
       "      <td>Provide automated call outs, phone calls, emails, and text messages to alert riders of trips and general service\\nupdates, helping to decrease no shows, call volume and customer complaints</td>\n",
       "      <td>NaN</td>\n",
       "      <td>0.00</td>\n",
       "    </tr>\n",
       "  </tbody>\n",
       "</table>\n",
       "</div>"
      ],
      "text/plain": [
       "                                 product_name  \\\n",
       "14  RouteMatch - Demand: Notifications Module   \n",
       "\n",
       "                                                                                            components  \\\n",
       "14  Alerts Content Management System,Social Alerts,Alerts Subscription Service,GTFS Alerts Publication   \n",
       "\n",
       "       vendor  \\\n",
       "14  Uber Inc.   \n",
       "\n",
       "                                                                                        url  \\\n",
       "14  https://www.routematch.com/wp-content/uploads/2017/09/Brochure-Demand-Response-2017.pdf   \n",
       "\n",
       "                requirements product_features  \\\n",
       "14  RouteMatch - Demand Base      Cloud-based   \n",
       "\n",
       "                                                                                                                                                                                           notes  \\\n",
       "14  Provide automated call outs, phone calls, emails, and text messages to alert riders of trips and general service\\nupdates, helping to decrease no shows, call volume and customer complaints   \n",
       "\n",
       "   organization_stack_components  count_of_orgs_using_product  \n",
       "14                           NaN                         0.00  "
      ]
     },
     "execution_count": 8,
     "metadata": {},
     "output_type": "execute_result"
    }
   ],
   "source": [
    "products.sample(1)"
   ]
  },
  {
   "cell_type": "code",
   "execution_count": 9,
   "id": "90a724c3-c77c-4cf8-934e-a7ccc7e21c22",
   "metadata": {},
   "outputs": [],
   "source": [
    "products = products.fillna(\"N/A\")"
   ]
  },
  {
   "cell_type": "markdown",
   "id": "96ec9c38-c889-4068-be49-9857f3fa40cd",
   "metadata": {
    "tags": []
   },
   "source": [
    "### What % of vendors with scheduling software also provide GTFS data out of the box? "
   ]
  },
  {
   "cell_type": "code",
   "execution_count": 10,
   "id": "40eece7a-3d3e-4ae0-b1dc-062d4e2d22cb",
   "metadata": {},
   "outputs": [
    {
     "data": {
      "text/html": [
       "<div>\n",
       "<style scoped>\n",
       "    .dataframe tbody tr th:only-of-type {\n",
       "        vertical-align: middle;\n",
       "    }\n",
       "\n",
       "    .dataframe tbody tr th {\n",
       "        vertical-align: top;\n",
       "    }\n",
       "\n",
       "    .dataframe thead th {\n",
       "        text-align: right;\n",
       "    }\n",
       "</style>\n",
       "<table border=\"1\" class=\"dataframe\">\n",
       "  <thead>\n",
       "    <tr style=\"text-align: right;\">\n",
       "      <th></th>\n",
       "      <th>product_name</th>\n",
       "      <th>components</th>\n",
       "      <th>vendor</th>\n",
       "      <th>count_of_orgs_using_product</th>\n",
       "      <th>notes</th>\n",
       "    </tr>\n",
       "  </thead>\n",
       "  <tbody>\n",
       "    <tr>\n",
       "      <th>128</th>\n",
       "      <td>TripShot - Unspecified</td>\n",
       "      <td>KPI Reporting,Scheduling (Fixed-route),Scheduling (Demand-Responsive),Mobile trip planning app,Real-time info,GTFS generation</td>\n",
       "      <td>TripShot Inc.</td>\n",
       "      <td>1.00</td>\n",
       "      <td>N/A</td>\n",
       "    </tr>\n",
       "    <tr>\n",
       "      <th>234</th>\n",
       "      <td>Giro HASTUS</td>\n",
       "      <td>Scheduling (Fixed-route),GTFS generation</td>\n",
       "      <td>Giro Inc.</td>\n",
       "      <td>35.00</td>\n",
       "      <td>N/A</td>\n",
       "    </tr>\n",
       "    <tr>\n",
       "      <th>235</th>\n",
       "      <td>The Master Scheduler</td>\n",
       "      <td>Scheduling (Fixed-route),GTFS generation</td>\n",
       "      <td>The Master Scheduler</td>\n",
       "      <td>5.00</td>\n",
       "      <td>http://themasterscheduler.com/whitepapers/TMS2GT.pdf</td>\n",
       "    </tr>\n",
       "    <tr>\n",
       "      <th>236</th>\n",
       "      <td>Trapeze - Unspecified</td>\n",
       "      <td>Scheduling (Fixed-route),GTFS generation</td>\n",
       "      <td>Trapeze Group</td>\n",
       "      <td>23.00</td>\n",
       "      <td>N/A</td>\n",
       "    </tr>\n",
       "    <tr>\n",
       "      <th>237</th>\n",
       "      <td>Optibus</td>\n",
       "      <td>Scheduling (Fixed-route),GTFS Schedule Publishing,GTFS generation</td>\n",
       "      <td>Optibus</td>\n",
       "      <td>10.00</td>\n",
       "      <td>N/A</td>\n",
       "    </tr>\n",
       "  </tbody>\n",
       "</table>\n",
       "</div>"
      ],
      "text/plain": [
       "               product_name  \\\n",
       "128  TripShot - Unspecified   \n",
       "234             Giro HASTUS   \n",
       "235    The Master Scheduler   \n",
       "236   Trapeze - Unspecified   \n",
       "237                 Optibus   \n",
       "\n",
       "                                                                                                                        components  \\\n",
       "128  KPI Reporting,Scheduling (Fixed-route),Scheduling (Demand-Responsive),Mobile trip planning app,Real-time info,GTFS generation   \n",
       "234                                                                                       Scheduling (Fixed-route),GTFS generation   \n",
       "235                                                                                       Scheduling (Fixed-route),GTFS generation   \n",
       "236                                                                                       Scheduling (Fixed-route),GTFS generation   \n",
       "237                                                              Scheduling (Fixed-route),GTFS Schedule Publishing,GTFS generation   \n",
       "\n",
       "                   vendor  count_of_orgs_using_product  \\\n",
       "128         TripShot Inc.                         1.00   \n",
       "234             Giro Inc.                        35.00   \n",
       "235  The Master Scheduler                         5.00   \n",
       "236         Trapeze Group                        23.00   \n",
       "237               Optibus                        10.00   \n",
       "\n",
       "                                                     notes  \n",
       "128                                                    N/A  \n",
       "234                                                    N/A  \n",
       "235  http://themasterscheduler.com/whitepapers/TMS2GT.pdf   \n",
       "236                                                    N/A  \n",
       "237                                                    N/A  "
      ]
     },
     "execution_count": 10,
     "metadata": {},
     "output_type": "execute_result"
    }
   ],
   "source": [
    "# https://stackoverflow.com/questions/47125076/how-to-filter-rows-containing-specific-string-values-with-an-and-operator\n",
    "gtfs_scheduling = products[\n",
    "    products[\"components\"].str.contains(\"GTFS\")\n",
    "    & products[\"components\"].str.contains(\"Scheduling\")\n",
    "]\n",
    "gtfs_scheduling[\n",
    "    [\"product_name\", \"components\", \"vendor\", \"count_of_orgs_using_product\", \"notes\"]\n",
    "]"
   ]
  },
  {
   "cell_type": "code",
   "execution_count": 11,
   "id": "7853a36e-936c-4a6c-8107-741712a14817",
   "metadata": {},
   "outputs": [
    {
     "data": {
      "text/plain": [
       "5"
      ]
     },
     "execution_count": 11,
     "metadata": {},
     "output_type": "execute_result"
    }
   ],
   "source": [
    "vendors_gtfs_scheduling = gtfs_scheduling.vendor.nunique()\n",
    "vendors_gtfs_scheduling"
   ]
  },
  {
   "cell_type": "code",
   "execution_count": 12,
   "id": "57679e6d-23f4-4160-bb4b-6f508ec92a74",
   "metadata": {},
   "outputs": [
    {
     "data": {
      "text/plain": [
       "'About 0.060240963855421686 of vendors offer both GTFS generation and scheduling software'"
      ]
     },
     "execution_count": 12,
     "metadata": {},
     "output_type": "execute_result"
    }
   ],
   "source": [
    "f\"About {(vendors_gtfs_scheduling/unique_vendors)} of vendors offer both GTFS generation and scheduling software\""
   ]
  },
  {
   "cell_type": "markdown",
   "id": "26f33c65-ff6a-464a-91f7-5b39cb711d85",
   "metadata": {},
   "source": [
    "### Vendor with the most products\n"
   ]
  },
  {
   "cell_type": "code",
   "execution_count": 13,
   "id": "6ef10e40-b06f-4c01-bbcc-247c8529298b",
   "metadata": {},
   "outputs": [],
   "source": [
    "# filter out for any products w/o vendor info\n",
    "no_vendor_nulls = products.loc[products[\"vendor\"] != \"N/A\"]"
   ]
  },
  {
   "cell_type": "code",
   "execution_count": 14,
   "id": "ad2c2f48-7218-4c9c-ac4f-4428f79c4195",
   "metadata": {},
   "outputs": [
    {
     "data": {
      "text/plain": [
       "Uber Inc.                     25\n",
       "Luminator Technology Group    24\n",
       "Genfare                       13\n",
       "GMV Syncromatics Inc          10\n",
       "Connexionz Inc.                9\n",
       "Name: vendor, dtype: int64"
      ]
     },
     "execution_count": 14,
     "metadata": {},
     "output_type": "execute_result"
    }
   ],
   "source": [
    "no_vendor_nulls.vendor.value_counts().head(5)"
   ]
  },
  {
   "cell_type": "markdown",
   "id": "a86c46e5-dcd1-47ed-9dc1-c5efaaf67564",
   "metadata": {},
   "source": [
    "### Most popular products in general\n",
    "* Metric: count_of_orgs_using_product column is the count of strings delinated by comma in the organization stacks component column for each product.\n",
    "    * Assume that each value is a separate organization.\n",
    "* Genfare FareBox has 94 values, making it the most popular product\n",
    "* Many organizations rely on \"in house activity.\" "
   ]
  },
  {
   "cell_type": "code",
   "execution_count": 15,
   "id": "c7c68d67-6567-46b6-96bc-3afc924c5b1d",
   "metadata": {
    "tags": []
   },
   "outputs": [],
   "source": [
    "most_popular = (\n",
    "    products[\n",
    "        [\"product_name\", \"vendor\", \"components\", \"count_of_orgs_using_product\", \"notes\"]\n",
    "    ]\n",
    "    .sort_values(\"count_of_orgs_using_product\", ascending=False)\n",
    "    .head(10)\n",
    ")"
   ]
  },
  {
   "cell_type": "code",
   "execution_count": 16,
   "id": "d255f7c6-056a-4246-904c-6e7ff03705fc",
   "metadata": {},
   "outputs": [
    {
     "data": {
      "text/html": [
       "\n",
       "<div id=\"altair-viz-9cc64248bcc940eeb65f732b812a9904\"></div>\n",
       "<script type=\"text/javascript\">\n",
       "  var VEGA_DEBUG = (typeof VEGA_DEBUG == \"undefined\") ? {} : VEGA_DEBUG;\n",
       "  (function(spec, embedOpt){\n",
       "    let outputDiv = document.currentScript.previousElementSibling;\n",
       "    if (outputDiv.id !== \"altair-viz-9cc64248bcc940eeb65f732b812a9904\") {\n",
       "      outputDiv = document.getElementById(\"altair-viz-9cc64248bcc940eeb65f732b812a9904\");\n",
       "    }\n",
       "    const paths = {\n",
       "      \"vega\": \"https://cdn.jsdelivr.net/npm//vega@5?noext\",\n",
       "      \"vega-lib\": \"https://cdn.jsdelivr.net/npm//vega-lib?noext\",\n",
       "      \"vega-lite\": \"https://cdn.jsdelivr.net/npm//vega-lite@4.17.0?noext\",\n",
       "      \"vega-embed\": \"https://cdn.jsdelivr.net/npm//vega-embed@6?noext\",\n",
       "    };\n",
       "\n",
       "    function maybeLoadScript(lib, version) {\n",
       "      var key = `${lib.replace(\"-\", \"\")}_version`;\n",
       "      return (VEGA_DEBUG[key] == version) ?\n",
       "        Promise.resolve(paths[lib]) :\n",
       "        new Promise(function(resolve, reject) {\n",
       "          var s = document.createElement('script');\n",
       "          document.getElementsByTagName(\"head\")[0].appendChild(s);\n",
       "          s.async = true;\n",
       "          s.onload = () => {\n",
       "            VEGA_DEBUG[key] = version;\n",
       "            return resolve(paths[lib]);\n",
       "          };\n",
       "          s.onerror = () => reject(`Error loading script: ${paths[lib]}`);\n",
       "          s.src = paths[lib];\n",
       "        });\n",
       "    }\n",
       "\n",
       "    function showError(err) {\n",
       "      outputDiv.innerHTML = `<div class=\"error\" style=\"color:red;\">${err}</div>`;\n",
       "      throw err;\n",
       "    }\n",
       "\n",
       "    function displayChart(vegaEmbed) {\n",
       "      vegaEmbed(outputDiv, spec, embedOpt)\n",
       "        .catch(err => showError(`Javascript Error: ${err.message}<br>This usually means there's a typo in your chart specification. See the javascript console for the full traceback.`));\n",
       "    }\n",
       "\n",
       "    if(typeof define === \"function\" && define.amd) {\n",
       "      requirejs.config({paths});\n",
       "      require([\"vega-embed\"], displayChart, err => showError(`Error loading script: ${err.message}`));\n",
       "    } else {\n",
       "      maybeLoadScript(\"vega\", \"5\")\n",
       "        .then(() => maybeLoadScript(\"vega-lite\", \"4.17.0\"))\n",
       "        .then(() => maybeLoadScript(\"vega-embed\", \"6\"))\n",
       "        .catch(showError)\n",
       "        .then(() => displayChart(vegaEmbed));\n",
       "    }\n",
       "  })({\"config\": {\"view\": {\"continuousWidth\": 400, \"continuousHeight\": 300}, \"axis\": {\"domainColor\": \"#cbcbcb\", \"grid\": true, \"gridColor\": \"#cbcbcb\", \"gridWidth\": 1, \"labelColor\": \"#474747\", \"labelFont\": \"Nunito Sans\", \"labelFontSize\": 10, \"labelPadding\": 4, \"tickColor\": \"#cbcbcb\", \"tickSize\": 10, \"titleColor\": \"#333\", \"titleFont\": \"Raleway\", \"titleFontSize\": 12, \"titlePadding\": 10}, \"axisBand\": {\"grid\": false}, \"background\": \"white\", \"font\": \"Raleway\", \"header\": {\"labelFont\": \"Nunito Sans\", \"titleFont\": \"Raleway\"}, \"legend\": {\"labelColor\": \"#333\", \"labelFont\": \"Nunito Sans\", \"labelFontSize\": 11, \"labelLimit\": 0, \"padding\": 1, \"symbolSize\": 30, \"symbolType\": \"square\", \"titleColor\": \"#333\", \"titleFont\": \"Raleway\", \"titleFontSize\": 14, \"titlePadding\": 10}, \"title\": {\"anchor\": \"middle\", \"font\": \"Raleway\", \"fontSize\": 18, \"fontWeight\": 300, \"offset\": 20}}, \"data\": {\"name\": \"data-20ef24e6f25438d31446ecfbfa8cb501\"}, \"mark\": \"bar\", \"encoding\": {\"color\": {\"field\": \"product_name\", \"legend\": {\"title\": \"Product Name\"}, \"scale\": {\"range\": [\"#2EA8CE\", \"#EB9F3C\", \"#F4D837\", \"#51BF9D\", \"#8CBCCB\", \"#9487C0\"]}, \"type\": \"nominal\"}, \"x\": {\"field\": \"count_of_orgs_using_product\", \"title\": \"Count Of Orgs Using Product\", \"type\": \"quantitative\"}, \"y\": {\"field\": \"product_name\", \"sort\": \"-x\", \"title\": \"Product Name\", \"type\": \"nominal\"}}, \"height\": 250, \"title\": \"Most Popular Products\", \"width\": 400, \"$schema\": \"https://vega.github.io/schema/vega-lite/v4.17.0.json\", \"datasets\": {\"data-20ef24e6f25438d31446ecfbfa8cb501\": [{\"product_name\": \"Genfare Farebox (Unspecified)\", \"vendor\": \"Genfare\", \"components\": \"Cash Farebox\", \"count_of_orgs_using_product\": 94.0, \"notes\": \"N/A\"}, {\"product_name\": \"Cubic NextBus Suite \", \"vendor\": \"Cubic\", \"components\": \"Real-time info\", \"count_of_orgs_using_product\": 92.0, \"notes\": \"Link now leads to Umo Mobility Platform.\\n\"}, {\"product_name\": \"Trapeze Fixed Route Scheduling\", \"vendor\": \"Trapeze Group\", \"components\": \"Run cutting,Driver Sign-up\", \"count_of_orgs_using_product\": 74.0, \"notes\": \"N/A\"}, {\"product_name\": \"Avail - Unspecified\", \"vendor\": \"Avail Technologies Inc.\", \"components\": \"N/A\", \"count_of_orgs_using_product\": 64.0, \"notes\": \"myAvail\\u2013the Enterprise Transit Management Software (ETMS) that empowers agencies to drastically improve efficiency, tracking, and compliance.\"}, {\"product_name\": \"GMV/Syncromatics Sync \", \"vendor\": \"GMV Syncromatics Inc\", \"components\": \"Real-time info,Mobile trip planning app\", \"count_of_orgs_using_product\": 60.0, \"notes\": \"N/A\"}, {\"product_name\": \"Trillium GTFS Manager\", \"vendor\": \"Trillium Inc.\", \"components\": \"GTFS generation,GTFS Schedule Publishing\", \"count_of_orgs_using_product\": 58.0, \"notes\": \"N/A\"}, {\"product_name\": \"Excel\", \"vendor\": \"Microsoft\", \"components\": \"General Purpose Software\", \"count_of_orgs_using_product\": 50.0, \"notes\": \"N/A\"}, {\"product_name\": \"Clever Devices - Unspecified\", \"vendor\": \"Clever Devices Ltd.\", \"components\": \"AVL Software\", \"count_of_orgs_using_product\": 50.0, \"notes\": \"N/A\"}, {\"product_name\": \"In house activity\", \"vendor\": \"N/A\", \"components\": \"N/A\", \"count_of_orgs_using_product\": 48.0, \"notes\": \"N/A\"}, {\"product_name\": \"Swiftly Transitime\", \"vendor\": \"Swiftly Inc.\", \"components\": \"Real-time info,Arrival predictions,Alerts Content Management System,Social Alerts,Alerts Subscription Service,GTFS Alerts Publication\", \"count_of_orgs_using_product\": 44.0, \"notes\": \"Swiftly Transitime gives riders the very best in vehicle arrival predictions, and our APIs make it easy to connect them with whichever apps, websites, signage, or ADA-supportive media your riders use. \"}]}}, {\"mode\": \"vega-lite\"});\n",
       "</script>"
      ],
      "text/plain": [
       "alt.Chart(...)"
      ]
     },
     "execution_count": 16,
     "metadata": {},
     "output_type": "execute_result"
    }
   ],
   "source": [
    "charts.basic_bar_chart(\n",
    "    most_popular,\n",
    "    \"count_of_orgs_using_product\",\n",
    "    \"product_name\",\n",
    "    \"product_name\",\n",
    "    \"Most Popular Products\" \n",
    ")"
   ]
  },
  {
   "cell_type": "markdown",
   "id": "b982ebe2-7845-43f8-8cfd-c4aa18bb2e24",
   "metadata": {},
   "source": [
    "### Most popular products by component type and # of organizations \n",
    "* Break out components by comma.\n",
    "* Most popular determined by count of organizations using a particularly product.\n",
    "* Only keep that product."
   ]
  },
  {
   "cell_type": "code",
   "execution_count": 17,
   "id": "94144e96-730f-4184-bc02-6d079615f9ed",
   "metadata": {},
   "outputs": [],
   "source": [
    "products2 = products.copy()"
   ]
  },
  {
   "cell_type": "code",
   "execution_count": 18,
   "id": "63d4d18b-4b88-4241-8811-9732a2f20dcc",
   "metadata": {},
   "outputs": [],
   "source": [
    "# Separate out components.\n",
    "components = products2[\"components\"].str.split(\",\")\n",
    "cols = products2.columns.difference([\"components\"])\n",
    "\n",
    "products2 = products2.loc[products.index.repeat(components.str.len()), cols].assign(\n",
    "    components=list(chain.from_iterable(components.tolist()))\n",
    ")"
   ]
  },
  {
   "cell_type": "code",
   "execution_count": 19,
   "id": "54c70854-3311-49af-ba55-47fc3863fd9b",
   "metadata": {},
   "outputs": [],
   "source": [
    "# Strip extra quotes that appear around Security System, replace it with a neater value\n",
    "products2 = products2.replace('\"', \"\", regex=True)"
   ]
  },
  {
   "cell_type": "code",
   "execution_count": 20,
   "id": "7d58c6f8-c485-4d43-be3e-4f7e468cf50c",
   "metadata": {},
   "outputs": [],
   "source": [
    "products2[\"components\"] = products2[\"components\"].replace(\n",
    "    {\n",
    "        \"Security System\\n\": \"Security System\",\n",
    "    }\n",
    ")"
   ]
  },
  {
   "cell_type": "code",
   "execution_count": 21,
   "id": "a9ea61c9-0d0a-4cca-93f6-a58415a6722d",
   "metadata": {},
   "outputs": [],
   "source": [
    "# Only keep relevant columns, sort dataframe by A-Z using components\n",
    "popular_products = products2[\n",
    "    [\"components\", \"vendor\", \"product_name\", \"count_of_orgs_using_product\"]\n",
    "].sort_values(\"components\", ascending=True)"
   ]
  },
  {
   "cell_type": "code",
   "execution_count": 22,
   "id": "e02389da-185b-41cf-9e19-67d6b2909144",
   "metadata": {
    "scrolled": true,
    "tags": []
   },
   "outputs": [],
   "source": [
    "# Keep only the product within a component category with the highest # of organizations using this product.\n",
    "# https://stackoverflow.com/questions/53842287/select-rows-with-highest-value-from-groupby\n",
    "popular_products = (\n",
    "    popular_products.drop_duplicates()\n",
    "    .sort_values([\"components\", \"count_of_orgs_using_product\"], ascending=False)\n",
    "    .groupby([\"components\"])\n",
    "    .first()\n",
    "    .reset_index()\n",
    "    .rename(columns={\"components\": \"component\", \"product_name\": \"most_popular_product\"})\n",
    ")"
   ]
  },
  {
   "cell_type": "code",
   "execution_count": 23,
   "id": "732cdf11-bb00-47f4-b2c4-9f18dab843dc",
   "metadata": {
    "scrolled": true,
    "tags": []
   },
   "outputs": [
    {
     "data": {
      "text/html": [
       "<div>\n",
       "<style scoped>\n",
       "    .dataframe tbody tr th:only-of-type {\n",
       "        vertical-align: middle;\n",
       "    }\n",
       "\n",
       "    .dataframe tbody tr th {\n",
       "        vertical-align: top;\n",
       "    }\n",
       "\n",
       "    .dataframe thead th {\n",
       "        text-align: right;\n",
       "    }\n",
       "</style>\n",
       "<table border=\"1\" class=\"dataframe\">\n",
       "  <thead>\n",
       "    <tr style=\"text-align: right;\">\n",
       "      <th></th>\n",
       "      <th>component</th>\n",
       "      <th>vendor</th>\n",
       "      <th>most_popular_product</th>\n",
       "      <th>count_of_orgs_using_product</th>\n",
       "    </tr>\n",
       "  </thead>\n",
       "  <tbody>\n",
       "    <tr>\n",
       "      <th>0</th>\n",
       "      <td>APC On-Board Computer</td>\n",
       "      <td>Dilax Inc.</td>\n",
       "      <td>Dilax (Unspecified Model)</td>\n",
       "      <td>9.00</td>\n",
       "    </tr>\n",
       "    <tr>\n",
       "      <th>1</th>\n",
       "      <td>APC Sensors</td>\n",
       "      <td>UTA</td>\n",
       "      <td>UTA APC Sensors (Unspecified)</td>\n",
       "      <td>26.00</td>\n",
       "    </tr>\n",
       "    <tr>\n",
       "      <th>2</th>\n",
       "      <td>APC Software</td>\n",
       "      <td>GMV Syncromatics Inc</td>\n",
       "      <td>GMV/Syncromatics Dispatch</td>\n",
       "      <td>39.00</td>\n",
       "    </tr>\n",
       "    <tr>\n",
       "      <th>3</th>\n",
       "      <td>AVL On-board Computer</td>\n",
       "      <td>GMV Syncromatics Inc</td>\n",
       "      <td>GMV/Syncromatics Dispatch</td>\n",
       "      <td>39.00</td>\n",
       "    </tr>\n",
       "    <tr>\n",
       "      <th>4</th>\n",
       "      <td>AVL Software</td>\n",
       "      <td>Clever Devices Ltd.</td>\n",
       "      <td>Clever Devices - Unspecified</td>\n",
       "      <td>50.00</td>\n",
       "    </tr>\n",
       "    <tr>\n",
       "      <th>5</th>\n",
       "      <td>Advertising Agency</td>\n",
       "      <td>N/A</td>\n",
       "      <td>Intersection</td>\n",
       "      <td>2.00</td>\n",
       "    </tr>\n",
       "    <tr>\n",
       "      <th>6</th>\n",
       "      <td>Alerts Content Management System</td>\n",
       "      <td>Swiftly Inc.</td>\n",
       "      <td>Swiftly Transitime</td>\n",
       "      <td>44.00</td>\n",
       "    </tr>\n",
       "    <tr>\n",
       "      <th>7</th>\n",
       "      <td>Alerts Subscription Service</td>\n",
       "      <td>Swiftly Inc.</td>\n",
       "      <td>Swiftly Transitime</td>\n",
       "      <td>44.00</td>\n",
       "    </tr>\n",
       "    <tr>\n",
       "      <th>8</th>\n",
       "      <td>Annunciator</td>\n",
       "      <td>Swiftly Inc.</td>\n",
       "      <td>Swiftly Metronome</td>\n",
       "      <td>19.00</td>\n",
       "    </tr>\n",
       "    <tr>\n",
       "      <th>9</th>\n",
       "      <td>Archival Operations Data</td>\n",
       "      <td>GeoSpatial Technologies</td>\n",
       "      <td>GeoSpatial Technologies GST Tracker Suite</td>\n",
       "      <td>1.00</td>\n",
       "    </tr>\n",
       "    <tr>\n",
       "      <th>10</th>\n",
       "      <td>Arrival predictions</td>\n",
       "      <td>Swiftly Inc.</td>\n",
       "      <td>Swiftly Transitime</td>\n",
       "      <td>44.00</td>\n",
       "    </tr>\n",
       "    <tr>\n",
       "      <th>11</th>\n",
       "      <td>Benefits Management</td>\n",
       "      <td>Fiserv</td>\n",
       "      <td>Fiserv - Unspecified</td>\n",
       "      <td>2.00</td>\n",
       "    </tr>\n",
       "    <tr>\n",
       "      <th>12</th>\n",
       "      <td>Booking software</td>\n",
       "      <td>N/A</td>\n",
       "      <td>Perfect Mind</td>\n",
       "      <td>2.00</td>\n",
       "    </tr>\n",
       "    <tr>\n",
       "      <th>13</th>\n",
       "      <td>Cash Farebox</td>\n",
       "      <td>Genfare</td>\n",
       "      <td>Genfare Farebox (Unspecified)</td>\n",
       "      <td>94.00</td>\n",
       "    </tr>\n",
       "    <tr>\n",
       "      <th>14</th>\n",
       "      <td>Computer Automated Dispatch (Fixed)</td>\n",
       "      <td>Clever Devices Ltd.</td>\n",
       "      <td>Clever Devices CleverCAD</td>\n",
       "      <td>40.00</td>\n",
       "    </tr>\n",
       "    <tr>\n",
       "      <th>15</th>\n",
       "      <td>Computer Automated Dispatch (Responsive)</td>\n",
       "      <td>Connexionz Inc.</td>\n",
       "      <td>Connextionz CAD/AVL</td>\n",
       "      <td>32.00</td>\n",
       "    </tr>\n",
       "    <tr>\n",
       "      <th>16</th>\n",
       "      <td>Contactless Payment Validators</td>\n",
       "      <td>N/A</td>\n",
       "      <td>Cubic - Unspecified</td>\n",
       "      <td>13.00</td>\n",
       "    </tr>\n",
       "    <tr>\n",
       "      <th>17</th>\n",
       "      <td>Data Analysis/GIS/Modelling Software</td>\n",
       "      <td>TransTrack Solutions Group</td>\n",
       "      <td>TransTrack Manager</td>\n",
       "      <td>26.00</td>\n",
       "    </tr>\n",
       "    <tr>\n",
       "      <th>18</th>\n",
       "      <td>Driver Sign-up</td>\n",
       "      <td>Trapeze Group</td>\n",
       "      <td>Trapeze Fixed Route Scheduling</td>\n",
       "      <td>74.00</td>\n",
       "    </tr>\n",
       "    <tr>\n",
       "      <th>19</th>\n",
       "      <td>Driver Voice Communications</td>\n",
       "      <td>GMV Syncromatics Inc</td>\n",
       "      <td>GMV/Syncromatics Voice Commumications</td>\n",
       "      <td>0.00</td>\n",
       "    </tr>\n",
       "    <tr>\n",
       "      <th>20</th>\n",
       "      <td>Fare Management Software</td>\n",
       "      <td>N/A</td>\n",
       "      <td>Productive Solutions</td>\n",
       "      <td>1.00</td>\n",
       "    </tr>\n",
       "    <tr>\n",
       "      <th>21</th>\n",
       "      <td>Fare Media Point of Sale</td>\n",
       "      <td>Genfare</td>\n",
       "      <td>Genfare Apos</td>\n",
       "      <td>0.00</td>\n",
       "    </tr>\n",
       "    <tr>\n",
       "      <th>22</th>\n",
       "      <td>Fare card system</td>\n",
       "      <td>Uber Inc.</td>\n",
       "      <td>RouteMatch - In-Vehicle Technology</td>\n",
       "      <td>36.00</td>\n",
       "    </tr>\n",
       "    <tr>\n",
       "      <th>23</th>\n",
       "      <td>Fleet Maintenance Software</td>\n",
       "      <td>Luminator Technology Group</td>\n",
       "      <td>Luminator mSET - Asset Management Module</td>\n",
       "      <td>0.00</td>\n",
       "    </tr>\n",
       "    <tr>\n",
       "      <th>24</th>\n",
       "      <td>GTFS Alerts Publication</td>\n",
       "      <td>Swiftly Inc.</td>\n",
       "      <td>Swiftly Transitime</td>\n",
       "      <td>44.00</td>\n",
       "    </tr>\n",
       "    <tr>\n",
       "      <th>25</th>\n",
       "      <td>GTFS Schedule Publishing</td>\n",
       "      <td>Trillium Inc.</td>\n",
       "      <td>Trillium GTFS Manager</td>\n",
       "      <td>58.00</td>\n",
       "    </tr>\n",
       "    <tr>\n",
       "      <th>26</th>\n",
       "      <td>GTFS Schedule Validation</td>\n",
       "      <td>IBI</td>\n",
       "      <td>IBI TRANSIT-data-tools</td>\n",
       "      <td>1.00</td>\n",
       "    </tr>\n",
       "    <tr>\n",
       "      <th>27</th>\n",
       "      <td>GTFS generation</td>\n",
       "      <td>Trillium Inc.</td>\n",
       "      <td>Trillium GTFS Manager</td>\n",
       "      <td>58.00</td>\n",
       "    </tr>\n",
       "    <tr>\n",
       "      <th>28</th>\n",
       "      <td>General Purpose Software</td>\n",
       "      <td>Microsoft</td>\n",
       "      <td>Excel</td>\n",
       "      <td>50.00</td>\n",
       "    </tr>\n",
       "    <tr>\n",
       "      <th>29</th>\n",
       "      <td>General Signage</td>\n",
       "      <td>Trapeze Group</td>\n",
       "      <td>Trapeze Signage</td>\n",
       "      <td>22.00</td>\n",
       "    </tr>\n",
       "    <tr>\n",
       "      <th>30</th>\n",
       "      <td>Headsigns</td>\n",
       "      <td>Hanover Displays Ltd</td>\n",
       "      <td>Hanover Headsigns</td>\n",
       "      <td>28.00</td>\n",
       "    </tr>\n",
       "    <tr>\n",
       "      <th>31</th>\n",
       "      <td>Human Resources</td>\n",
       "      <td>Avail Technologies Inc.</td>\n",
       "      <td>Avail myAvail Enterprise Transit Management Software</td>\n",
       "      <td>2.00</td>\n",
       "    </tr>\n",
       "    <tr>\n",
       "      <th>32</th>\n",
       "      <td>Incident Management</td>\n",
       "      <td>Swiftly Inc.</td>\n",
       "      <td>Swiftly Metronome</td>\n",
       "      <td>19.00</td>\n",
       "    </tr>\n",
       "    <tr>\n",
       "      <th>33</th>\n",
       "      <td>Infotainment</td>\n",
       "      <td>Empressa</td>\n",
       "      <td>Daktronics (Unspecified Model)</td>\n",
       "      <td>10.00</td>\n",
       "    </tr>\n",
       "    <tr>\n",
       "      <th>34</th>\n",
       "      <td>Interior signage</td>\n",
       "      <td>Clever Devices Ltd.</td>\n",
       "      <td>Clever Devices CleverVision</td>\n",
       "      <td>31.00</td>\n",
       "    </tr>\n",
       "    <tr>\n",
       "      <th>35</th>\n",
       "      <td>KPI Reporting</td>\n",
       "      <td>INIT SE</td>\n",
       "      <td>INIT (Unspecified Model)</td>\n",
       "      <td>38.00</td>\n",
       "    </tr>\n",
       "    <tr>\n",
       "      <th>36</th>\n",
       "      <td>Location Sensors</td>\n",
       "      <td>GMV Syncromatics Inc</td>\n",
       "      <td>GMV/Syncromatics Dispatch</td>\n",
       "      <td>39.00</td>\n",
       "    </tr>\n",
       "    <tr>\n",
       "      <th>37</th>\n",
       "      <td>Merchant services</td>\n",
       "      <td>Elavon</td>\n",
       "      <td>Elavon Merchant Services</td>\n",
       "      <td>9.00</td>\n",
       "    </tr>\n",
       "    <tr>\n",
       "      <th>38</th>\n",
       "      <td>Mobile Data Terminal Hardware</td>\n",
       "      <td>Hanover Displays Ltd</td>\n",
       "      <td>Hanover On-Board Computer</td>\n",
       "      <td>8.00</td>\n",
       "    </tr>\n",
       "    <tr>\n",
       "      <th>39</th>\n",
       "      <td>Mobile Device Management</td>\n",
       "      <td>Uber Inc.</td>\n",
       "      <td>RouteMatch - Mobile Device Management</td>\n",
       "      <td>0.00</td>\n",
       "    </tr>\n",
       "    <tr>\n",
       "      <th>40</th>\n",
       "      <td>Mobile data terminal software</td>\n",
       "      <td>TransLoc</td>\n",
       "      <td>TransLOC (unspecified)</td>\n",
       "      <td>2.00</td>\n",
       "    </tr>\n",
       "    <tr>\n",
       "      <th>41</th>\n",
       "      <td>Mobile ticketing</td>\n",
       "      <td>INIT SE</td>\n",
       "      <td>INIT (Unspecified Model)</td>\n",
       "      <td>38.00</td>\n",
       "    </tr>\n",
       "    <tr>\n",
       "      <th>42</th>\n",
       "      <td>Mobile trip planning app</td>\n",
       "      <td>GMV Syncromatics Inc</td>\n",
       "      <td>GMV/Syncromatics Sync</td>\n",
       "      <td>60.00</td>\n",
       "    </tr>\n",
       "    <tr>\n",
       "      <th>43</th>\n",
       "      <td>N/A</td>\n",
       "      <td>Avail Technologies Inc.</td>\n",
       "      <td>Avail - Unspecified</td>\n",
       "      <td>64.00</td>\n",
       "    </tr>\n",
       "    <tr>\n",
       "      <th>44</th>\n",
       "      <td>Network Planning</td>\n",
       "      <td>Via Inc.</td>\n",
       "      <td>Remix Transit</td>\n",
       "      <td>11.00</td>\n",
       "    </tr>\n",
       "    <tr>\n",
       "      <th>45</th>\n",
       "      <td>Offboard signage</td>\n",
       "      <td>GMV Syncromatics Inc</td>\n",
       "      <td>GMV/Syncromatics Digital Signs</td>\n",
       "      <td>35.00</td>\n",
       "    </tr>\n",
       "    <tr>\n",
       "      <th>46</th>\n",
       "      <td>On-Demand Dispatch</td>\n",
       "      <td>Uber Inc.</td>\n",
       "      <td>RouteMatch - Demand: Incidents Module</td>\n",
       "      <td>0.00</td>\n",
       "    </tr>\n",
       "    <tr>\n",
       "      <th>47</th>\n",
       "      <td>Onboard Camera</td>\n",
       "      <td>Luminator Technology Group</td>\n",
       "      <td>Luminator - Unspecified</td>\n",
       "      <td>9.00</td>\n",
       "    </tr>\n",
       "    <tr>\n",
       "      <th>48</th>\n",
       "      <td>Onboard Computer</td>\n",
       "      <td>N/A</td>\n",
       "      <td>EvendPC</td>\n",
       "      <td>1.00</td>\n",
       "    </tr>\n",
       "    <tr>\n",
       "      <th>49</th>\n",
       "      <td>Onboard Network</td>\n",
       "      <td>GMV Syncromatics Inc</td>\n",
       "      <td>GMV/Syncromatics Onboard WiFi</td>\n",
       "      <td>0.00</td>\n",
       "    </tr>\n",
       "    <tr>\n",
       "      <th>50</th>\n",
       "      <td>Onboard Router</td>\n",
       "      <td>Icomera AG</td>\n",
       "      <td>Icomera (Unspecified Model)</td>\n",
       "      <td>4.00</td>\n",
       "    </tr>\n",
       "    <tr>\n",
       "      <th>51</th>\n",
       "      <td>Over-air communications</td>\n",
       "      <td>Connexionz Inc.</td>\n",
       "      <td>Connexionz AVA</td>\n",
       "      <td>7.00</td>\n",
       "    </tr>\n",
       "    <tr>\n",
       "      <th>52</th>\n",
       "      <td>Parts Inventory</td>\n",
       "      <td>TransTrack Solutions Group</td>\n",
       "      <td>TransiTrack EAM</td>\n",
       "      <td>0.00</td>\n",
       "    </tr>\n",
       "    <tr>\n",
       "      <th>53</th>\n",
       "      <td>Payment processor</td>\n",
       "      <td>N/A</td>\n",
       "      <td>Elevon</td>\n",
       "      <td>13.00</td>\n",
       "    </tr>\n",
       "    <tr>\n",
       "      <th>54</th>\n",
       "      <td>Playback</td>\n",
       "      <td>N/A</td>\n",
       "      <td>Korbato</td>\n",
       "      <td>0.00</td>\n",
       "    </tr>\n",
       "    <tr>\n",
       "      <th>55</th>\n",
       "      <td>Real-time API Monitoring</td>\n",
       "      <td>Open Transit Software Foundation</td>\n",
       "      <td>One Bus Away Watchdog</td>\n",
       "      <td>0.00</td>\n",
       "    </tr>\n",
       "    <tr>\n",
       "      <th>56</th>\n",
       "      <td>Real-time info</td>\n",
       "      <td>Cubic</td>\n",
       "      <td>Cubic NextBus Suite</td>\n",
       "      <td>92.00</td>\n",
       "    </tr>\n",
       "    <tr>\n",
       "      <th>57</th>\n",
       "      <td>Run cutting</td>\n",
       "      <td>Trapeze Group</td>\n",
       "      <td>Trapeze Fixed Route Scheduling</td>\n",
       "      <td>74.00</td>\n",
       "    </tr>\n",
       "    <tr>\n",
       "      <th>58</th>\n",
       "      <td>Scheduling (Demand-Responsive)</td>\n",
       "      <td>Ecolane</td>\n",
       "      <td>Ecolane (Unspecified Model)</td>\n",
       "      <td>4.00</td>\n",
       "    </tr>\n",
       "    <tr>\n",
       "      <th>59</th>\n",
       "      <td>Scheduling (Fixed-route)</td>\n",
       "      <td>INIT SE</td>\n",
       "      <td>INIT (Unspecified Model)</td>\n",
       "      <td>38.00</td>\n",
       "    </tr>\n",
       "    <tr>\n",
       "      <th>60</th>\n",
       "      <td>Security System</td>\n",
       "      <td>Luminator Technology Group</td>\n",
       "      <td>Luminator - Unspecified</td>\n",
       "      <td>9.00</td>\n",
       "    </tr>\n",
       "    <tr>\n",
       "      <th>61</th>\n",
       "      <td>Side signs</td>\n",
       "      <td>SunriseSESA</td>\n",
       "      <td>Sunrise CDP</td>\n",
       "      <td>16.00</td>\n",
       "    </tr>\n",
       "    <tr>\n",
       "      <th>62</th>\n",
       "      <td>Signage Content Management System</td>\n",
       "      <td>Luminator Technology Group</td>\n",
       "      <td>Luminator iCenter Software - Media Module</td>\n",
       "      <td>0.00</td>\n",
       "    </tr>\n",
       "    <tr>\n",
       "      <th>63</th>\n",
       "      <td>Social Alerts</td>\n",
       "      <td>Swiftly Inc.</td>\n",
       "      <td>Swiftly Transitime</td>\n",
       "      <td>44.00</td>\n",
       "    </tr>\n",
       "    <tr>\n",
       "      <th>64</th>\n",
       "      <td>Supervisory control and data acquisition</td>\n",
       "      <td>Wabtec</td>\n",
       "      <td>Wabtec PTC</td>\n",
       "      <td>1.00</td>\n",
       "    </tr>\n",
       "    <tr>\n",
       "      <th>65</th>\n",
       "      <td>Ticket Printer</td>\n",
       "      <td>N/A</td>\n",
       "      <td>EvendPC</td>\n",
       "      <td>1.00</td>\n",
       "    </tr>\n",
       "    <tr>\n",
       "      <th>66</th>\n",
       "      <td>Ticket Vending Machines</td>\n",
       "      <td>Genfare</td>\n",
       "      <td>GenFare TVM (Unspecified)</td>\n",
       "      <td>15.00</td>\n",
       "    </tr>\n",
       "    <tr>\n",
       "      <th>67</th>\n",
       "      <td>Timetable Generation</td>\n",
       "      <td>SMA and Partners Ltd.</td>\n",
       "      <td>Viriato</td>\n",
       "      <td>1.00</td>\n",
       "    </tr>\n",
       "    <tr>\n",
       "      <th>68</th>\n",
       "      <td>Transit Atlas</td>\n",
       "      <td>MobilityData</td>\n",
       "      <td>OpenMobilityData</td>\n",
       "      <td>0.00</td>\n",
       "    </tr>\n",
       "    <tr>\n",
       "      <th>69</th>\n",
       "      <td>Vehicle Health Monitoring</td>\n",
       "      <td>Luminator Technology Group</td>\n",
       "      <td>Luminator - Unspecified</td>\n",
       "      <td>9.00</td>\n",
       "    </tr>\n",
       "    <tr>\n",
       "      <th>70</th>\n",
       "      <td>Vehicle Logic Unit</td>\n",
       "      <td>Uber Inc.</td>\n",
       "      <td>RouteMatch - RMVelocity Vehicle Logic Unit</td>\n",
       "      <td>0.00</td>\n",
       "    </tr>\n",
       "    <tr>\n",
       "      <th>71</th>\n",
       "      <td>Web-based trip planner</td>\n",
       "      <td>Uber Inc.</td>\n",
       "      <td>RouteShout</td>\n",
       "      <td>15.00</td>\n",
       "    </tr>\n",
       "  </tbody>\n",
       "</table>\n",
       "</div>"
      ],
      "text/plain": [
       "                                   component  \\\n",
       "0                      APC On-Board Computer   \n",
       "1                                APC Sensors   \n",
       "2                               APC Software   \n",
       "3                      AVL On-board Computer   \n",
       "4                               AVL Software   \n",
       "5                        Advertising Agency    \n",
       "6           Alerts Content Management System   \n",
       "7                Alerts Subscription Service   \n",
       "8                                Annunciator   \n",
       "9                   Archival Operations Data   \n",
       "10                       Arrival predictions   \n",
       "11                       Benefits Management   \n",
       "12                          Booking software   \n",
       "13                              Cash Farebox   \n",
       "14       Computer Automated Dispatch (Fixed)   \n",
       "15  Computer Automated Dispatch (Responsive)   \n",
       "16            Contactless Payment Validators   \n",
       "17      Data Analysis/GIS/Modelling Software   \n",
       "18                            Driver Sign-up   \n",
       "19               Driver Voice Communications   \n",
       "20                  Fare Management Software   \n",
       "21                  Fare Media Point of Sale   \n",
       "22                          Fare card system   \n",
       "23                Fleet Maintenance Software   \n",
       "24                   GTFS Alerts Publication   \n",
       "25                  GTFS Schedule Publishing   \n",
       "26                  GTFS Schedule Validation   \n",
       "27                           GTFS generation   \n",
       "28                  General Purpose Software   \n",
       "29                          General Signage    \n",
       "30                                 Headsigns   \n",
       "31                           Human Resources   \n",
       "32                       Incident Management   \n",
       "33                              Infotainment   \n",
       "34                          Interior signage   \n",
       "35                             KPI Reporting   \n",
       "36                          Location Sensors   \n",
       "37                         Merchant services   \n",
       "38             Mobile Data Terminal Hardware   \n",
       "39                  Mobile Device Management   \n",
       "40             Mobile data terminal software   \n",
       "41                          Mobile ticketing   \n",
       "42                  Mobile trip planning app   \n",
       "43                                       N/A   \n",
       "44                          Network Planning   \n",
       "45                          Offboard signage   \n",
       "46                        On-Demand Dispatch   \n",
       "47                            Onboard Camera   \n",
       "48                          Onboard Computer   \n",
       "49                           Onboard Network   \n",
       "50                            Onboard Router   \n",
       "51                   Over-air communications   \n",
       "52                           Parts Inventory   \n",
       "53                         Payment processor   \n",
       "54                                  Playback   \n",
       "55                  Real-time API Monitoring   \n",
       "56                            Real-time info   \n",
       "57                               Run cutting   \n",
       "58            Scheduling (Demand-Responsive)   \n",
       "59                  Scheduling (Fixed-route)   \n",
       "60                           Security System   \n",
       "61                                Side signs   \n",
       "62         Signage Content Management System   \n",
       "63                             Social Alerts   \n",
       "64  Supervisory control and data acquisition   \n",
       "65                            Ticket Printer   \n",
       "66                   Ticket Vending Machines   \n",
       "67                      Timetable Generation   \n",
       "68                             Transit Atlas   \n",
       "69                 Vehicle Health Monitoring   \n",
       "70                        Vehicle Logic Unit   \n",
       "71                    Web-based trip planner   \n",
       "\n",
       "                              vendor  \\\n",
       "0                         Dilax Inc.   \n",
       "1                                UTA   \n",
       "2               GMV Syncromatics Inc   \n",
       "3               GMV Syncromatics Inc   \n",
       "4                Clever Devices Ltd.   \n",
       "5                                N/A   \n",
       "6                       Swiftly Inc.   \n",
       "7                       Swiftly Inc.   \n",
       "8                       Swiftly Inc.   \n",
       "9            GeoSpatial Technologies   \n",
       "10                      Swiftly Inc.   \n",
       "11                            Fiserv   \n",
       "12                               N/A   \n",
       "13                           Genfare   \n",
       "14               Clever Devices Ltd.   \n",
       "15                   Connexionz Inc.   \n",
       "16                               N/A   \n",
       "17        TransTrack Solutions Group   \n",
       "18                     Trapeze Group   \n",
       "19              GMV Syncromatics Inc   \n",
       "20                               N/A   \n",
       "21                           Genfare   \n",
       "22                         Uber Inc.   \n",
       "23        Luminator Technology Group   \n",
       "24                      Swiftly Inc.   \n",
       "25                     Trillium Inc.   \n",
       "26                               IBI   \n",
       "27                     Trillium Inc.   \n",
       "28                         Microsoft   \n",
       "29                     Trapeze Group   \n",
       "30              Hanover Displays Ltd   \n",
       "31           Avail Technologies Inc.   \n",
       "32                      Swiftly Inc.   \n",
       "33                          Empressa   \n",
       "34               Clever Devices Ltd.   \n",
       "35                           INIT SE   \n",
       "36              GMV Syncromatics Inc   \n",
       "37                            Elavon   \n",
       "38              Hanover Displays Ltd   \n",
       "39                         Uber Inc.   \n",
       "40                          TransLoc   \n",
       "41                           INIT SE   \n",
       "42              GMV Syncromatics Inc   \n",
       "43           Avail Technologies Inc.   \n",
       "44                          Via Inc.   \n",
       "45              GMV Syncromatics Inc   \n",
       "46                         Uber Inc.   \n",
       "47        Luminator Technology Group   \n",
       "48                               N/A   \n",
       "49              GMV Syncromatics Inc   \n",
       "50                        Icomera AG   \n",
       "51                   Connexionz Inc.   \n",
       "52        TransTrack Solutions Group   \n",
       "53                               N/A   \n",
       "54                               N/A   \n",
       "55  Open Transit Software Foundation   \n",
       "56                             Cubic   \n",
       "57                     Trapeze Group   \n",
       "58                           Ecolane   \n",
       "59                           INIT SE   \n",
       "60        Luminator Technology Group   \n",
       "61                       SunriseSESA   \n",
       "62        Luminator Technology Group   \n",
       "63                      Swiftly Inc.   \n",
       "64                            Wabtec   \n",
       "65                               N/A   \n",
       "66                           Genfare   \n",
       "67             SMA and Partners Ltd.   \n",
       "68                      MobilityData   \n",
       "69        Luminator Technology Group   \n",
       "70                         Uber Inc.   \n",
       "71                         Uber Inc.   \n",
       "\n",
       "                                    most_popular_product  \\\n",
       "0                              Dilax (Unspecified Model)   \n",
       "1                          UTA APC Sensors (Unspecified)   \n",
       "2                              GMV/Syncromatics Dispatch   \n",
       "3                              GMV/Syncromatics Dispatch   \n",
       "4                           Clever Devices - Unspecified   \n",
       "5                                           Intersection   \n",
       "6                                     Swiftly Transitime   \n",
       "7                                     Swiftly Transitime   \n",
       "8                                      Swiftly Metronome   \n",
       "9              GeoSpatial Technologies GST Tracker Suite   \n",
       "10                                    Swiftly Transitime   \n",
       "11                                  Fiserv - Unspecified   \n",
       "12                                          Perfect Mind   \n",
       "13                         Genfare Farebox (Unspecified)   \n",
       "14                              Clever Devices CleverCAD   \n",
       "15                                   Connextionz CAD/AVL   \n",
       "16                                   Cubic - Unspecified   \n",
       "17                                    TransTrack Manager   \n",
       "18                        Trapeze Fixed Route Scheduling   \n",
       "19                 GMV/Syncromatics Voice Commumications   \n",
       "20                                  Productive Solutions   \n",
       "21                                          Genfare Apos   \n",
       "22                    RouteMatch - In-Vehicle Technology   \n",
       "23              Luminator mSET - Asset Management Module   \n",
       "24                                    Swiftly Transitime   \n",
       "25                                 Trillium GTFS Manager   \n",
       "26                                IBI TRANSIT-data-tools   \n",
       "27                                 Trillium GTFS Manager   \n",
       "28                                                 Excel   \n",
       "29                                       Trapeze Signage   \n",
       "30                                     Hanover Headsigns   \n",
       "31  Avail myAvail Enterprise Transit Management Software   \n",
       "32                                     Swiftly Metronome   \n",
       "33                        Daktronics (Unspecified Model)   \n",
       "34                           Clever Devices CleverVision   \n",
       "35                              INIT (Unspecified Model)   \n",
       "36                             GMV/Syncromatics Dispatch   \n",
       "37                             Elavon Merchant Services    \n",
       "38                             Hanover On-Board Computer   \n",
       "39                 RouteMatch - Mobile Device Management   \n",
       "40                                TransLOC (unspecified)   \n",
       "41                              INIT (Unspecified Model)   \n",
       "42                                GMV/Syncromatics Sync    \n",
       "43                                   Avail - Unspecified   \n",
       "44                                         Remix Transit   \n",
       "45                        GMV/Syncromatics Digital Signs   \n",
       "46                 RouteMatch - Demand: Incidents Module   \n",
       "47                               Luminator - Unspecified   \n",
       "48                                               EvendPC   \n",
       "49                         GMV/Syncromatics Onboard WiFi   \n",
       "50                           Icomera (Unspecified Model)   \n",
       "51                                        Connexionz AVA   \n",
       "52                                       TransiTrack EAM   \n",
       "53                                                Elevon   \n",
       "54                                               Korbato   \n",
       "55                                 One Bus Away Watchdog   \n",
       "56                                  Cubic NextBus Suite    \n",
       "57                        Trapeze Fixed Route Scheduling   \n",
       "58                           Ecolane (Unspecified Model)   \n",
       "59                              INIT (Unspecified Model)   \n",
       "60                               Luminator - Unspecified   \n",
       "61                                           Sunrise CDP   \n",
       "62             Luminator iCenter Software - Media Module   \n",
       "63                                    Swiftly Transitime   \n",
       "64                                            Wabtec PTC   \n",
       "65                                               EvendPC   \n",
       "66                             GenFare TVM (Unspecified)   \n",
       "67                                               Viriato   \n",
       "68                                      OpenMobilityData   \n",
       "69                               Luminator - Unspecified   \n",
       "70            RouteMatch - RMVelocity Vehicle Logic Unit   \n",
       "71                                            RouteShout   \n",
       "\n",
       "    count_of_orgs_using_product  \n",
       "0                          9.00  \n",
       "1                         26.00  \n",
       "2                         39.00  \n",
       "3                         39.00  \n",
       "4                         50.00  \n",
       "5                          2.00  \n",
       "6                         44.00  \n",
       "7                         44.00  \n",
       "8                         19.00  \n",
       "9                          1.00  \n",
       "10                        44.00  \n",
       "11                         2.00  \n",
       "12                         2.00  \n",
       "13                        94.00  \n",
       "14                        40.00  \n",
       "15                        32.00  \n",
       "16                        13.00  \n",
       "17                        26.00  \n",
       "18                        74.00  \n",
       "19                         0.00  \n",
       "20                         1.00  \n",
       "21                         0.00  \n",
       "22                        36.00  \n",
       "23                         0.00  \n",
       "24                        44.00  \n",
       "25                        58.00  \n",
       "26                         1.00  \n",
       "27                        58.00  \n",
       "28                        50.00  \n",
       "29                        22.00  \n",
       "30                        28.00  \n",
       "31                         2.00  \n",
       "32                        19.00  \n",
       "33                        10.00  \n",
       "34                        31.00  \n",
       "35                        38.00  \n",
       "36                        39.00  \n",
       "37                         9.00  \n",
       "38                         8.00  \n",
       "39                         0.00  \n",
       "40                         2.00  \n",
       "41                        38.00  \n",
       "42                        60.00  \n",
       "43                        64.00  \n",
       "44                        11.00  \n",
       "45                        35.00  \n",
       "46                         0.00  \n",
       "47                         9.00  \n",
       "48                         1.00  \n",
       "49                         0.00  \n",
       "50                         4.00  \n",
       "51                         7.00  \n",
       "52                         0.00  \n",
       "53                        13.00  \n",
       "54                         0.00  \n",
       "55                         0.00  \n",
       "56                        92.00  \n",
       "57                        74.00  \n",
       "58                         4.00  \n",
       "59                        38.00  \n",
       "60                         9.00  \n",
       "61                        16.00  \n",
       "62                         0.00  \n",
       "63                        44.00  \n",
       "64                         1.00  \n",
       "65                         1.00  \n",
       "66                        15.00  \n",
       "67                         1.00  \n",
       "68                         0.00  \n",
       "69                         9.00  \n",
       "70                         0.00  \n",
       "71                        15.00  "
      ]
     },
     "execution_count": 23,
     "metadata": {},
     "output_type": "execute_result"
    }
   ],
   "source": [
    "popular_products"
   ]
  },
  {
   "cell_type": "markdown",
   "id": "36bd32bc-3186-4a62-9b93-884b7cd12473",
   "metadata": {
    "tags": []
   },
   "source": [
    "## Components Data"
   ]
  },
  {
   "cell_type": "code",
   "execution_count": 24,
   "id": "e70a4f20-a291-4012-8cd7-03ce497a82e6",
   "metadata": {},
   "outputs": [],
   "source": [
    "components = to_snakecase(pd.read_csv(f\"{GCS_FILE_PATH}components_May_3.csv\"))"
   ]
  },
  {
   "cell_type": "code",
   "execution_count": 25,
   "id": "bccb5c22-0889-4c42-930f-ff8fd61c6ba6",
   "metadata": {},
   "outputs": [
    {
     "data": {
      "text/plain": [
       "(107, 11)"
      ]
     },
     "execution_count": 25,
     "metadata": {},
     "output_type": "execute_result"
    }
   ],
   "source": [
    "components.shape"
   ]
  },
  {
   "cell_type": "code",
   "execution_count": 26,
   "id": "7c430144-33cc-4fa1-b87d-19c0defa639a",
   "metadata": {},
   "outputs": [
    {
     "data": {
      "text/plain": [
       "name                               0\n",
       "aliases                           95\n",
       "system                            73\n",
       "location                           1\n",
       "function_group                     3\n",
       "description                       88\n",
       "products                          36\n",
       "organization_stack_components     82\n",
       "example_stacks                    94\n",
       "example_stacks_copy              107\n",
       "properties_+_features             96\n",
       "dtype: int64"
      ]
     },
     "execution_count": 26,
     "metadata": {},
     "output_type": "execute_result"
    }
   ],
   "source": [
    "components.isna().sum()"
   ]
  },
  {
   "cell_type": "code",
   "execution_count": 27,
   "id": "0b243b34-d762-448f-ba13-69b3581bf7db",
   "metadata": {},
   "outputs": [],
   "source": [
    "# Count number of products within each component category.\n",
    "# https://stackoverflow.com/questions/51502263/pandas-dataframe-object-has-no-attribute-str\n",
    "components[\"count_of_products_in_categories\"] = (\n",
    "    components[\"products\"]\n",
    "    .str.split(\",+\")\n",
    "    .str.len()\n",
    "    .groupby(components.name)\n",
    "    .transform(\"sum\")\n",
    ")"
   ]
  },
  {
   "cell_type": "code",
   "execution_count": 28,
   "id": "13b44e07-f687-4fa4-a20f-b55ed4c360c8",
   "metadata": {},
   "outputs": [
    {
     "data": {
      "text/html": [
       "<div>\n",
       "<style scoped>\n",
       "    .dataframe tbody tr th:only-of-type {\n",
       "        vertical-align: middle;\n",
       "    }\n",
       "\n",
       "    .dataframe tbody tr th {\n",
       "        vertical-align: top;\n",
       "    }\n",
       "\n",
       "    .dataframe thead th {\n",
       "        text-align: right;\n",
       "    }\n",
       "</style>\n",
       "<table border=\"1\" class=\"dataframe\">\n",
       "  <thead>\n",
       "    <tr style=\"text-align: right;\">\n",
       "      <th></th>\n",
       "      <th>name</th>\n",
       "      <th>aliases</th>\n",
       "      <th>system</th>\n",
       "      <th>location</th>\n",
       "      <th>function_group</th>\n",
       "      <th>description</th>\n",
       "      <th>products</th>\n",
       "      <th>organization_stack_components</th>\n",
       "      <th>example_stacks</th>\n",
       "      <th>example_stacks_copy</th>\n",
       "      <th>properties_+_features</th>\n",
       "      <th>count_of_products_in_categories</th>\n",
       "    </tr>\n",
       "  </thead>\n",
       "  <tbody>\n",
       "    <tr>\n",
       "      <th>5</th>\n",
       "      <td>APC Sensors</td>\n",
       "      <td>Automatic Passenger Counters</td>\n",
       "      <td>APC</td>\n",
       "      <td>Vehicle</td>\n",
       "      <td>Operations</td>\n",
       "      <td>NaN</td>\n",
       "      <td>RouteMatch - APC,Bishop Peak BPT Ecosystem,Centum Adetel APC ,UTA APC Sensors (Unspecified),UTA Horizontal APC Sensors,UTA Overhead APC Sensors,Connexionz APC,Iris Irma Matrix,UTA Model 30 CPU,Hella APS-B,Hella APS-R-Poe,Dilax PRT-400,Dilax IRS-320R,Dilax (Unspecified Model)</td>\n",
       "      <td>\"SacRT Light Rail, e-van, SacRT GO, Elk Grove Transit Services, Folsom Stage Line, Causeway Connection, Sacramento Airport Express, SacRT Bus, SacRT Neighborhood Ride-UTA APC Sensors (Unspecified)-APC Sensors\"</td>\n",
       "      <td>NaN</td>\n",
       "      <td>NaN</td>\n",
       "      <td>NaN</td>\n",
       "      <td>14.00</td>\n",
       "    </tr>\n",
       "  </tbody>\n",
       "</table>\n",
       "</div>"
      ],
      "text/plain": [
       "          name                       aliases system location function_group  \\\n",
       "5  APC Sensors  Automatic Passenger Counters    APC  Vehicle     Operations   \n",
       "\n",
       "  description  \\\n",
       "5         NaN   \n",
       "\n",
       "                                                                                                                                                                                                                                                                              products  \\\n",
       "5  RouteMatch - APC,Bishop Peak BPT Ecosystem,Centum Adetel APC ,UTA APC Sensors (Unspecified),UTA Horizontal APC Sensors,UTA Overhead APC Sensors,Connexionz APC,Iris Irma Matrix,UTA Model 30 CPU,Hella APS-B,Hella APS-R-Poe,Dilax PRT-400,Dilax IRS-320R,Dilax (Unspecified Model)   \n",
       "\n",
       "                                                                                                                                                                                       organization_stack_components  \\\n",
       "5  \"SacRT Light Rail, e-van, SacRT GO, Elk Grove Transit Services, Folsom Stage Line, Causeway Connection, Sacramento Airport Express, SacRT Bus, SacRT Neighborhood Ride-UTA APC Sensors (Unspecified)-APC Sensors\"   \n",
       "\n",
       "  example_stacks  example_stacks_copy properties_+_features  \\\n",
       "5            NaN                  NaN                   NaN   \n",
       "\n",
       "   count_of_products_in_categories  \n",
       "5                            14.00  "
      ]
     },
     "execution_count": 28,
     "metadata": {},
     "output_type": "execute_result"
    }
   ],
   "source": [
    "components.loc[components[\"name\"] == \"APC Sensors\"]"
   ]
  },
  {
   "cell_type": "markdown",
   "id": "bcf4a30e-8a4d-4eda-b8ab-10b81c74d641",
   "metadata": {
    "tags": []
   },
   "source": [
    "### Top 10 \"crowded\" product categories\n",
    "* Count number of strings in the \"products\" column and group by \"name\" column to get total number of products in each sector.\n",
    "* Real-time info is the most \"crowded\" category with 32 different products.\n",
    "* Most categories only have one product.\n",
    "* About 4 unique products in each category, when filtering out any categories with 0 products recorded."
   ]
  },
  {
   "cell_type": "code",
   "execution_count": 29,
   "id": "231e9f42-68aa-4426-9b6e-26330ef1a9ce",
   "metadata": {},
   "outputs": [
    {
     "data": {
      "text/plain": [
       "'107 unique categories'"
      ]
     },
     "execution_count": 29,
     "metadata": {},
     "output_type": "execute_result"
    }
   ],
   "source": [
    "f\"{components.name.nunique()} unique categories\""
   ]
  },
  {
   "cell_type": "code",
   "execution_count": 30,
   "id": "c17d5d9d-9628-4ff6-b334-b316b8bfe23c",
   "metadata": {
    "tags": []
   },
   "outputs": [],
   "source": [
    "product_categories = (\n",
    "    components[[\"name\", \"count_of_products_in_categories\"]]\n",
    "    .sort_values(\"count_of_products_in_categories\", ascending=False)\n",
    "    .rename(columns={\"name\": \"category\"})\n",
    ")"
   ]
  },
  {
   "cell_type": "code",
   "execution_count": 31,
   "id": "47fc9d4a-f4c0-4725-abf8-d10c88a148ed",
   "metadata": {},
   "outputs": [],
   "source": [
    "# filter out any categories with 0 products - 36 values are empty\n",
    "product_categories = product_categories[\n",
    "    product_categories[\"count_of_products_in_categories\"] > 0\n",
    "]"
   ]
  },
  {
   "cell_type": "code",
   "execution_count": 32,
   "id": "be286754-3695-4e23-a193-ca777f2c663e",
   "metadata": {},
   "outputs": [
    {
     "data": {
      "text/plain": [
       "'4.0 average products per category'"
      ]
     },
     "execution_count": 32,
     "metadata": {},
     "output_type": "execute_result"
    }
   ],
   "source": [
    "f\"{product_categories.count_of_products_in_categories.median()} average products per category\""
   ]
  },
  {
   "cell_type": "code",
   "execution_count": 33,
   "id": "ef09d20f-dbba-47dc-a8f9-ee7152b732ae",
   "metadata": {},
   "outputs": [],
   "source": [
    "most_saturated_category = product_categories.head(10).rename(columns = {\"count_of_products_in_categories\":\"number of products\"})"
   ]
  },
  {
   "cell_type": "code",
   "execution_count": 34,
   "id": "53367770-710c-4f09-b9fc-b01f9c4435cf",
   "metadata": {},
   "outputs": [
    {
     "data": {
      "text/html": [
       "\n",
       "<div id=\"altair-viz-bfea11f390b24e69a7186f4ecf6cad3b\"></div>\n",
       "<script type=\"text/javascript\">\n",
       "  var VEGA_DEBUG = (typeof VEGA_DEBUG == \"undefined\") ? {} : VEGA_DEBUG;\n",
       "  (function(spec, embedOpt){\n",
       "    let outputDiv = document.currentScript.previousElementSibling;\n",
       "    if (outputDiv.id !== \"altair-viz-bfea11f390b24e69a7186f4ecf6cad3b\") {\n",
       "      outputDiv = document.getElementById(\"altair-viz-bfea11f390b24e69a7186f4ecf6cad3b\");\n",
       "    }\n",
       "    const paths = {\n",
       "      \"vega\": \"https://cdn.jsdelivr.net/npm//vega@5?noext\",\n",
       "      \"vega-lib\": \"https://cdn.jsdelivr.net/npm//vega-lib?noext\",\n",
       "      \"vega-lite\": \"https://cdn.jsdelivr.net/npm//vega-lite@4.17.0?noext\",\n",
       "      \"vega-embed\": \"https://cdn.jsdelivr.net/npm//vega-embed@6?noext\",\n",
       "    };\n",
       "\n",
       "    function maybeLoadScript(lib, version) {\n",
       "      var key = `${lib.replace(\"-\", \"\")}_version`;\n",
       "      return (VEGA_DEBUG[key] == version) ?\n",
       "        Promise.resolve(paths[lib]) :\n",
       "        new Promise(function(resolve, reject) {\n",
       "          var s = document.createElement('script');\n",
       "          document.getElementsByTagName(\"head\")[0].appendChild(s);\n",
       "          s.async = true;\n",
       "          s.onload = () => {\n",
       "            VEGA_DEBUG[key] = version;\n",
       "            return resolve(paths[lib]);\n",
       "          };\n",
       "          s.onerror = () => reject(`Error loading script: ${paths[lib]}`);\n",
       "          s.src = paths[lib];\n",
       "        });\n",
       "    }\n",
       "\n",
       "    function showError(err) {\n",
       "      outputDiv.innerHTML = `<div class=\"error\" style=\"color:red;\">${err}</div>`;\n",
       "      throw err;\n",
       "    }\n",
       "\n",
       "    function displayChart(vegaEmbed) {\n",
       "      vegaEmbed(outputDiv, spec, embedOpt)\n",
       "        .catch(err => showError(`Javascript Error: ${err.message}<br>This usually means there's a typo in your chart specification. See the javascript console for the full traceback.`));\n",
       "    }\n",
       "\n",
       "    if(typeof define === \"function\" && define.amd) {\n",
       "      requirejs.config({paths});\n",
       "      require([\"vega-embed\"], displayChart, err => showError(`Error loading script: ${err.message}`));\n",
       "    } else {\n",
       "      maybeLoadScript(\"vega\", \"5\")\n",
       "        .then(() => maybeLoadScript(\"vega-lite\", \"4.17.0\"))\n",
       "        .then(() => maybeLoadScript(\"vega-embed\", \"6\"))\n",
       "        .catch(showError)\n",
       "        .then(() => displayChart(vegaEmbed));\n",
       "    }\n",
       "  })({\"config\": {\"view\": {\"continuousWidth\": 400, \"continuousHeight\": 300}, \"axis\": {\"domainColor\": \"#cbcbcb\", \"grid\": true, \"gridColor\": \"#cbcbcb\", \"gridWidth\": 1, \"labelColor\": \"#474747\", \"labelFont\": \"Nunito Sans\", \"labelFontSize\": 10, \"labelPadding\": 4, \"tickColor\": \"#cbcbcb\", \"tickSize\": 10, \"titleColor\": \"#333\", \"titleFont\": \"Raleway\", \"titleFontSize\": 12, \"titlePadding\": 10}, \"axisBand\": {\"grid\": false}, \"background\": \"white\", \"font\": \"Raleway\", \"header\": {\"labelFont\": \"Nunito Sans\", \"titleFont\": \"Raleway\"}, \"legend\": {\"labelColor\": \"#333\", \"labelFont\": \"Nunito Sans\", \"labelFontSize\": 11, \"labelLimit\": 0, \"padding\": 1, \"symbolSize\": 30, \"symbolType\": \"square\", \"titleColor\": \"#333\", \"titleFont\": \"Raleway\", \"titleFontSize\": 14, \"titlePadding\": 10}, \"title\": {\"anchor\": \"middle\", \"font\": \"Raleway\", \"fontSize\": 18, \"fontWeight\": 300, \"offset\": 20}}, \"data\": {\"name\": \"data-d2e733e798a019392110405048753485\"}, \"mark\": \"bar\", \"encoding\": {\"color\": {\"field\": \"category\", \"legend\": {\"title\": \"Category\"}, \"scale\": {\"range\": [\"#2EA8CE\", \"#EB9F3C\", \"#F4D837\", \"#51BF9D\", \"#8CBCCB\", \"#9487C0\"]}, \"type\": \"nominal\"}, \"x\": {\"field\": \"number of products\", \"title\": \"Number Of Products\", \"type\": \"quantitative\"}, \"y\": {\"field\": \"category\", \"sort\": \"-x\", \"title\": \"Category\", \"type\": \"nominal\"}}, \"height\": 250, \"title\": \"Most Saturated Categories\", \"width\": 400, \"$schema\": \"https://vega.github.io/schema/vega-lite/v4.17.0.json\", \"datasets\": {\"data-d2e733e798a019392110405048753485\": [{\"category\": \"Real-time info\", \"number of products\": 32.0}, {\"category\": \"AVL On-board Computer\", \"number of products\": 20.0}, {\"category\": \"Mobile trip planning app\", \"number of products\": 19.0}, {\"category\": \"Offboard signage\", \"number of products\": 16.0}, {\"category\": \"APC Sensors\", \"number of products\": 14.0}, {\"category\": \"Payment processor\", \"number of products\": 14.0}, {\"category\": \"Mobile ticketing\", \"number of products\": 13.0}, {\"category\": \"KPI Reporting\", \"number of products\": 13.0}, {\"category\": \"AVL Software\", \"number of products\": 12.0}, {\"category\": \"Web-based trip planner\", \"number of products\": 12.0}]}}, {\"mode\": \"vega-lite\"});\n",
       "</script>"
      ],
      "text/plain": [
       "alt.Chart(...)"
      ]
     },
     "execution_count": 34,
     "metadata": {},
     "output_type": "execute_result"
    }
   ],
   "source": [
    "charts.basic_bar_chart(\n",
    "    most_saturated_category,\n",
    "    \"number of products\",\n",
    "    \"category\",\n",
    "    \"category\",\n",
    "    \"Most Saturated Categories\",\n",
    ")"
   ]
  },
  {
   "cell_type": "markdown",
   "id": "ad737c48-945b-4d1a-9c45-9af3b10cfb5c",
   "metadata": {},
   "source": [
    "### Function Groups\n",
    "* Most of the products are under the \"operations\" group."
   ]
  },
  {
   "cell_type": "code",
   "execution_count": 35,
   "id": "7d6c46c8-50bb-48a3-9f08-bf616cc9a3e3",
   "metadata": {},
   "outputs": [
    {
     "data": {
      "text/plain": [
       "Operations         46\n",
       "Rider info         20\n",
       "Fare collection    10\n",
       "Scheduling          7\n",
       "Backoffice          6\n",
       "Maintenance         6\n",
       "IT                  4\n",
       "Traffic             3\n",
       "Reporting           1\n",
       "Rider Info          1\n",
       "Name: function_group, dtype: int64"
      ]
     },
     "execution_count": 35,
     "metadata": {},
     "output_type": "execute_result"
    }
   ],
   "source": [
    "components.function_group.value_counts()"
   ]
  },
  {
   "cell_type": "markdown",
   "id": "a38b6002-87c8-4e5d-af59-33905d0c12f4",
   "metadata": {
    "tags": []
   },
   "source": [
    "## Contracts Data"
   ]
  },
  {
   "cell_type": "code",
   "execution_count": 36,
   "id": "e0c6b2cc-c997-40dc-a47e-88d0b7cb7428",
   "metadata": {},
   "outputs": [],
   "source": [
    "contracts = (\n",
    "    to_snakecase(pd.read_csv(f\"{GCS_FILE_PATH}Contracts_May_3.csv\"))\n",
    "    .drop(columns=[\"attachments\", \"organization_stack_components\", \"name\"])\n",
    "    .rename(\n",
    "        columns={\n",
    "            \"type_of_contract:_functional_category\": \"functional_category\",\n",
    "            \"type_of_contract:_functions\": \"contract_type\",\n",
    "        }\n",
    "    )\n",
    ")"
   ]
  },
  {
   "cell_type": "code",
   "execution_count": 37,
   "id": "93437150-0a63-45df-8089-acca23fb7bca",
   "metadata": {},
   "outputs": [
    {
     "data": {
      "text/plain": [
       "(159, 10)"
      ]
     },
     "execution_count": 37,
     "metadata": {},
     "output_type": "execute_result"
    }
   ],
   "source": [
    "contracts.shape"
   ]
  },
  {
   "cell_type": "code",
   "execution_count": 38,
   "id": "754f2767-3793-4ad8-b179-0259b1760d63",
   "metadata": {},
   "outputs": [
    {
     "data": {
      "text/plain": [
       "contract_holder          1\n",
       "contract_vendor          1\n",
       "contract_name           48\n",
       "functional_category     16\n",
       "contract_type           14\n",
       "start_date              36\n",
       "end_date               119\n",
       "renewal_option          30\n",
       "value                  150\n",
       "notes                  111\n",
       "dtype: int64"
      ]
     },
     "execution_count": 38,
     "metadata": {},
     "output_type": "execute_result"
    }
   ],
   "source": [
    "contracts.isna().sum()"
   ]
  },
  {
   "cell_type": "code",
   "execution_count": 39,
   "id": "af14dd1d-9c3d-4e19-93ee-a5ec7a25f21f",
   "metadata": {},
   "outputs": [],
   "source": [
    "contracts = contracts.dropna(subset=[\"contract_holder\"])"
   ]
  },
  {
   "cell_type": "code",
   "execution_count": 40,
   "id": "0dd5cb5e-b67f-4ebf-88e8-f1493e3716b4",
   "metadata": {},
   "outputs": [
    {
     "data": {
      "text/plain": [
       "'56 organizations in contracts data set'"
      ]
     },
     "execution_count": 40,
     "metadata": {},
     "output_type": "execute_result"
    }
   ],
   "source": [
    "f\"{ contracts.contract_holder.nunique()} organizations in contracts data set\""
   ]
  },
  {
   "cell_type": "code",
   "execution_count": 41,
   "id": "378d0c64-112f-4b11-bf08-48b8c3a15d5a",
   "metadata": {},
   "outputs": [
    {
     "data": {
      "text/plain": [
       "'44 vendors in contracts data set'"
      ]
     },
     "execution_count": 41,
     "metadata": {},
     "output_type": "execute_result"
    }
   ],
   "source": [
    "f\"{ contracts.contract_vendor.nunique()} vendors in contracts data set\""
   ]
  },
  {
   "cell_type": "markdown",
   "id": "6fca2993-9299-48c2-af1a-3d30ae894d85",
   "metadata": {},
   "source": [
    "### 125 contracts have none/no record for renewal options, 4 auto-renews"
   ]
  },
  {
   "cell_type": "code",
   "execution_count": 42,
   "id": "43fea934-b604-4d52-82c3-0b65a51ad444",
   "metadata": {},
   "outputs": [
    {
     "data": {
      "text/plain": [
       "None           125\n",
       "Auto-renews      4\n",
       "Name: renewal_option, dtype: int64"
      ]
     },
     "execution_count": 42,
     "metadata": {},
     "output_type": "execute_result"
    }
   ],
   "source": [
    "contracts.renewal_option.value_counts()"
   ]
  },
  {
   "cell_type": "markdown",
   "id": "6f7ff816-83f2-4a42-9472-bb0e6275b997",
   "metadata": {
    "tags": []
   },
   "source": [
    "### For contracts with an end date value populated, average duration is 3 years."
   ]
  },
  {
   "cell_type": "code",
   "execution_count": 43,
   "id": "042eb69c-916f-40f2-89fc-6f04e42f0575",
   "metadata": {},
   "outputs": [],
   "source": [
    "# Editing date time cols to the right data type\n",
    "contracts = contracts.assign(\n",
    "    start_date=pd.to_datetime(contracts.start_date, errors=\"coerce\"),\n",
    "    end_date=pd.to_datetime(contracts.end_date, errors=\"coerce\"),\n",
    ")"
   ]
  },
  {
   "cell_type": "code",
   "execution_count": 44,
   "id": "5e1cc8c7-f0e4-4e7f-aa5d-b96cf7e16eff",
   "metadata": {},
   "outputs": [],
   "source": [
    "# new column for duration of contract year.\n",
    "contracts[\"duration_of_contract_year\"] = (\n",
    "    (contracts[\"end_date\"] - contracts[\"start_date\"]).dt.days\n",
    ") / 365"
   ]
  },
  {
   "cell_type": "code",
   "execution_count": 45,
   "id": "1f6aa054-5113-4402-a5f7-e63e394d464f",
   "metadata": {},
   "outputs": [
    {
     "data": {
      "text/plain": [
       "3.0027397260273974"
      ]
     },
     "execution_count": 45,
     "metadata": {},
     "output_type": "execute_result"
    }
   ],
   "source": [
    "# Average contract length in years\n",
    "filtered_for_end_date = contracts[contracts[\"end_date\"].notnull()]\n",
    "filtered_for_end_date[\"duration_of_contract_year\"].median()"
   ]
  },
  {
   "cell_type": "markdown",
   "id": "214cb95e-2fad-485c-9e27-cdc1c4cebeae",
   "metadata": {},
   "source": [
    "### Separate contract type to look at elements within each contract.\n",
    "* Functional category is less descriptive, looking at contract type instead.\n",
    "* There are 71 different types because of all various combinations of GTFS, mobile ticketing, etc elements a contract can have. \n",
    "* Separating them out by commas might make it easier to to analyze.\n",
    "* After splitting the combinations, only 32 cateogries."
   ]
  },
  {
   "cell_type": "code",
   "execution_count": 46,
   "id": "7460ea66-d7aa-4641-b2e6-5aaec200f735",
   "metadata": {},
   "outputs": [
    {
     "data": {
      "text/plain": [
       "'71 unique contract types'"
      ]
     },
     "execution_count": 46,
     "metadata": {},
     "output_type": "execute_result"
    }
   ],
   "source": [
    "f\"{ contracts.contract_type.nunique()} unique contract types\""
   ]
  },
  {
   "cell_type": "code",
   "execution_count": 47,
   "id": "8cc827ce-766d-4bed-8923-4da4f3794eec",
   "metadata": {},
   "outputs": [],
   "source": [
    "contracts = contracts.fillna(\"N/A\")"
   ]
  },
  {
   "cell_type": "code",
   "execution_count": 48,
   "id": "07f455ab-c689-4480-b186-0111720fa0b5",
   "metadata": {},
   "outputs": [],
   "source": [
    "contracts[\"contract_type\"] = contracts[\"contract_type\"].replace(\n",
    "    {\n",
    "        \"Payment processor/Merchant services,Mobile ticketing\": \"Payment Processor or Merchant Services or Mobile Ticketing\",\n",
    "        \"Payment processor/Merchant services\": \"Payment Processor or Merchant Services\",\n",
    "    }\n",
    ")"
   ]
  },
  {
   "cell_type": "code",
   "execution_count": 49,
   "id": "0ed3c405-49a6-4113-a62e-210ccbf6fe45",
   "metadata": {},
   "outputs": [],
   "source": [
    "# https://stackoverflow.com/questions/52575290/how-to-separate-string-into-multiple-rows-in-pandas\n",
    "contract_type = contracts[\"contract_type\"].str.split(\",\")\n",
    "cols = contracts.columns.difference([\"contract_type\"])"
   ]
  },
  {
   "cell_type": "code",
   "execution_count": 50,
   "id": "74631af9-f4c8-4ac3-a44a-c740aaaba3e2",
   "metadata": {},
   "outputs": [],
   "source": [
    "contracts2 = contracts.loc[\n",
    "    contracts.index.repeat(contract_type.str.len()), cols\n",
    "].assign(contract_type_use=list(chain.from_iterable(contract_type.tolist())))"
   ]
  },
  {
   "cell_type": "code",
   "execution_count": 51,
   "id": "ff2e265a-b4d9-4447-9604-f3bb7c822811",
   "metadata": {},
   "outputs": [
    {
     "data": {
      "text/plain": [
       "32"
      ]
     },
     "execution_count": 51,
     "metadata": {},
     "output_type": "execute_result"
    }
   ],
   "source": [
    "contracts2.contract_type_use.nunique()"
   ]
  },
  {
   "cell_type": "code",
   "execution_count": 52,
   "id": "6fd0bbcc-3bb7-4c00-82e3-a61ac6d437f3",
   "metadata": {
    "tags": []
   },
   "outputs": [
    {
     "data": {
      "text/plain": [
       "(341, 11)"
      ]
     },
     "execution_count": 52,
     "metadata": {},
     "output_type": "execute_result"
    }
   ],
   "source": [
    "contracts2.shape"
   ]
  },
  {
   "cell_type": "code",
   "execution_count": 53,
   "id": "f5b9cd2f-ee80-4fe1-a2f6-64fd44164899",
   "metadata": {},
   "outputs": [
    {
     "data": {
      "text/html": [
       "<div>\n",
       "<style scoped>\n",
       "    .dataframe tbody tr th:only-of-type {\n",
       "        vertical-align: middle;\n",
       "    }\n",
       "\n",
       "    .dataframe tbody tr th {\n",
       "        vertical-align: top;\n",
       "    }\n",
       "\n",
       "    .dataframe thead th {\n",
       "        text-align: right;\n",
       "    }\n",
       "</style>\n",
       "<table border=\"1\" class=\"dataframe\">\n",
       "  <thead>\n",
       "    <tr style=\"text-align: right;\">\n",
       "      <th></th>\n",
       "      <th>contract_holder</th>\n",
       "      <th>contract_name</th>\n",
       "      <th>contract_vendor</th>\n",
       "      <th>duration_of_contract_year</th>\n",
       "      <th>end_date</th>\n",
       "      <th>functional_category</th>\n",
       "      <th>notes</th>\n",
       "      <th>renewal_option</th>\n",
       "      <th>start_date</th>\n",
       "      <th>value</th>\n",
       "      <th>contract_type_use</th>\n",
       "    </tr>\n",
       "  </thead>\n",
       "  <tbody>\n",
       "    <tr>\n",
       "      <th>26</th>\n",
       "      <td>City of Roseville</td>\n",
       "      <td>N/A</td>\n",
       "      <td>Elavon</td>\n",
       "      <td>N/A</td>\n",
       "      <td>N/A</td>\n",
       "      <td>N/A</td>\n",
       "      <td>Aware of vendors, but do not have a record of the actual contract\\n</td>\n",
       "      <td>N/A</td>\n",
       "      <td>N/A</td>\n",
       "      <td>N/A</td>\n",
       "      <td>Payment Processor or Merchant Services</td>\n",
       "    </tr>\n",
       "    <tr>\n",
       "      <th>49</th>\n",
       "      <td>Eastern Sierra Transit Authority</td>\n",
       "      <td>N/A</td>\n",
       "      <td>Elavon</td>\n",
       "      <td>N/A</td>\n",
       "      <td>N/A</td>\n",
       "      <td>Fare Payments</td>\n",
       "      <td>N/A</td>\n",
       "      <td>None</td>\n",
       "      <td>2018-02-01 00:00:00</td>\n",
       "      <td>N/A</td>\n",
       "      <td>Payment Processor or Merchant Services</td>\n",
       "    </tr>\n",
       "    <tr>\n",
       "      <th>107</th>\n",
       "      <td>San Joaquin Regional Transit District</td>\n",
       "      <td>N/A</td>\n",
       "      <td>FIS</td>\n",
       "      <td>N/A</td>\n",
       "      <td>N/A</td>\n",
       "      <td>Fare Payments</td>\n",
       "      <td>N/A</td>\n",
       "      <td>None</td>\n",
       "      <td>2015-07-01 00:00:00</td>\n",
       "      <td>N/A</td>\n",
       "      <td>Payment Processor or Merchant Services</td>\n",
       "    </tr>\n",
       "    <tr>\n",
       "      <th>124</th>\n",
       "      <td>Santa Cruz Metropolitan Transit District</td>\n",
       "      <td>N/A</td>\n",
       "      <td>FIS</td>\n",
       "      <td>N/A</td>\n",
       "      <td>N/A</td>\n",
       "      <td>Fare Payments</td>\n",
       "      <td>N/A</td>\n",
       "      <td>None</td>\n",
       "      <td>2017-10-13 00:00:00</td>\n",
       "      <td>N/A</td>\n",
       "      <td>Payment Processor or Merchant Services</td>\n",
       "    </tr>\n",
       "    <tr>\n",
       "      <th>138</th>\n",
       "      <td>Tahoe Transportation District</td>\n",
       "      <td>N/A</td>\n",
       "      <td>Square Inc.</td>\n",
       "      <td>N/A</td>\n",
       "      <td>N/A</td>\n",
       "      <td>Offboard fares</td>\n",
       "      <td>Aware of vendors, but do not have a record of the actual contract\\n</td>\n",
       "      <td>N/A</td>\n",
       "      <td>N/A</td>\n",
       "      <td>N/A</td>\n",
       "      <td>Payment Processor or Merchant Services</td>\n",
       "    </tr>\n",
       "    <tr>\n",
       "      <th>151</th>\n",
       "      <td>\"University of California, Davis\"</td>\n",
       "      <td>N/A</td>\n",
       "      <td>TouchNet</td>\n",
       "      <td>N/A</td>\n",
       "      <td>N/A</td>\n",
       "      <td>N/A</td>\n",
       "      <td>Aware of vendors, but do not have a record of the actual contract\\n</td>\n",
       "      <td>N/A</td>\n",
       "      <td>N/A</td>\n",
       "      <td>N/A</td>\n",
       "      <td>Payment Processor or Merchant Services</td>\n",
       "    </tr>\n",
       "    <tr>\n",
       "      <th>157</th>\n",
       "      <td>Yuba-Sutter Transit Authority</td>\n",
       "      <td>N/A</td>\n",
       "      <td>Elavon</td>\n",
       "      <td>N/A</td>\n",
       "      <td>N/A</td>\n",
       "      <td>Fare Payments</td>\n",
       "      <td>Aware of vendors, but do not have a record of the actual contract\\n</td>\n",
       "      <td>N/A</td>\n",
       "      <td>N/A</td>\n",
       "      <td>N/A</td>\n",
       "      <td>Payment Processor or Merchant Services</td>\n",
       "    </tr>\n",
       "  </tbody>\n",
       "</table>\n",
       "</div>"
      ],
      "text/plain": [
       "                              contract_holder contract_name contract_vendor  \\\n",
       "26                          City of Roseville           N/A          Elavon   \n",
       "49           Eastern Sierra Transit Authority           N/A          Elavon   \n",
       "107     San Joaquin Regional Transit District           N/A             FIS   \n",
       "124  Santa Cruz Metropolitan Transit District           N/A             FIS   \n",
       "138             Tahoe Transportation District           N/A     Square Inc.   \n",
       "151         \"University of California, Davis\"           N/A        TouchNet   \n",
       "157             Yuba-Sutter Transit Authority           N/A          Elavon   \n",
       "\n",
       "    duration_of_contract_year end_date functional_category  \\\n",
       "26                        N/A      N/A                 N/A   \n",
       "49                        N/A      N/A       Fare Payments   \n",
       "107                       N/A      N/A       Fare Payments   \n",
       "124                       N/A      N/A       Fare Payments   \n",
       "138                       N/A      N/A      Offboard fares   \n",
       "151                       N/A      N/A                 N/A   \n",
       "157                       N/A      N/A       Fare Payments   \n",
       "\n",
       "                                                                   notes  \\\n",
       "26   Aware of vendors, but do not have a record of the actual contract\\n   \n",
       "49                                                                   N/A   \n",
       "107                                                                  N/A   \n",
       "124                                                                  N/A   \n",
       "138  Aware of vendors, but do not have a record of the actual contract\\n   \n",
       "151  Aware of vendors, but do not have a record of the actual contract\\n   \n",
       "157  Aware of vendors, but do not have a record of the actual contract\\n   \n",
       "\n",
       "    renewal_option           start_date value  \\\n",
       "26             N/A                  N/A   N/A   \n",
       "49            None  2018-02-01 00:00:00   N/A   \n",
       "107           None  2015-07-01 00:00:00   N/A   \n",
       "124           None  2017-10-13 00:00:00   N/A   \n",
       "138            N/A                  N/A   N/A   \n",
       "151            N/A                  N/A   N/A   \n",
       "157            N/A                  N/A   N/A   \n",
       "\n",
       "                          contract_type_use  \n",
       "26   Payment Processor or Merchant Services  \n",
       "49   Payment Processor or Merchant Services  \n",
       "107  Payment Processor or Merchant Services  \n",
       "124  Payment Processor or Merchant Services  \n",
       "138  Payment Processor or Merchant Services  \n",
       "151  Payment Processor or Merchant Services  \n",
       "157  Payment Processor or Merchant Services  "
      ]
     },
     "execution_count": 53,
     "metadata": {},
     "output_type": "execute_result"
    }
   ],
   "source": [
    "#just checking that everything is correct\n",
    "contracts2.loc[\n",
    "    contracts2[\"contract_type_use\"] == \"Payment Processor or Merchant Services\"\n",
    "]"
   ]
  },
  {
   "cell_type": "markdown",
   "id": "0d0512e7-e176-40b0-8887-dc25c60d6b9a",
   "metadata": {},
   "source": [
    "\n",
    "### Most common contract element\n",
    "* Most contracts have an element of GTFS Generation, followed by Vehicle Locations, and Arrival Predictions."
   ]
  },
  {
   "cell_type": "code",
   "execution_count": 54,
   "id": "90743c2d-0e12-4400-82e8-06df1ae202e5",
   "metadata": {},
   "outputs": [],
   "source": [
    "most_common_contract_product = (\n",
    "    contracts2.contract_type_use.value_counts()\n",
    "    .to_frame()\n",
    "    .reset_index()\n",
    "    .rename(\n",
    "        columns={\"index\": \"product_type\", \"contract_type_use\": \"number_of_contracts with this element\"}\n",
    "    )\n",
    "    .head(10)\n",
    ")"
   ]
  },
  {
   "cell_type": "code",
   "execution_count": 55,
   "id": "1a1ed944-a1ba-443c-aaaa-8671bbd51624",
   "metadata": {},
   "outputs": [
    {
     "data": {
      "text/html": [
       "\n",
       "<div id=\"altair-viz-f34c60f307eb43558f9a8076395b0e91\"></div>\n",
       "<script type=\"text/javascript\">\n",
       "  var VEGA_DEBUG = (typeof VEGA_DEBUG == \"undefined\") ? {} : VEGA_DEBUG;\n",
       "  (function(spec, embedOpt){\n",
       "    let outputDiv = document.currentScript.previousElementSibling;\n",
       "    if (outputDiv.id !== \"altair-viz-f34c60f307eb43558f9a8076395b0e91\") {\n",
       "      outputDiv = document.getElementById(\"altair-viz-f34c60f307eb43558f9a8076395b0e91\");\n",
       "    }\n",
       "    const paths = {\n",
       "      \"vega\": \"https://cdn.jsdelivr.net/npm//vega@5?noext\",\n",
       "      \"vega-lib\": \"https://cdn.jsdelivr.net/npm//vega-lib?noext\",\n",
       "      \"vega-lite\": \"https://cdn.jsdelivr.net/npm//vega-lite@4.17.0?noext\",\n",
       "      \"vega-embed\": \"https://cdn.jsdelivr.net/npm//vega-embed@6?noext\",\n",
       "    };\n",
       "\n",
       "    function maybeLoadScript(lib, version) {\n",
       "      var key = `${lib.replace(\"-\", \"\")}_version`;\n",
       "      return (VEGA_DEBUG[key] == version) ?\n",
       "        Promise.resolve(paths[lib]) :\n",
       "        new Promise(function(resolve, reject) {\n",
       "          var s = document.createElement('script');\n",
       "          document.getElementsByTagName(\"head\")[0].appendChild(s);\n",
       "          s.async = true;\n",
       "          s.onload = () => {\n",
       "            VEGA_DEBUG[key] = version;\n",
       "            return resolve(paths[lib]);\n",
       "          };\n",
       "          s.onerror = () => reject(`Error loading script: ${paths[lib]}`);\n",
       "          s.src = paths[lib];\n",
       "        });\n",
       "    }\n",
       "\n",
       "    function showError(err) {\n",
       "      outputDiv.innerHTML = `<div class=\"error\" style=\"color:red;\">${err}</div>`;\n",
       "      throw err;\n",
       "    }\n",
       "\n",
       "    function displayChart(vegaEmbed) {\n",
       "      vegaEmbed(outputDiv, spec, embedOpt)\n",
       "        .catch(err => showError(`Javascript Error: ${err.message}<br>This usually means there's a typo in your chart specification. See the javascript console for the full traceback.`));\n",
       "    }\n",
       "\n",
       "    if(typeof define === \"function\" && define.amd) {\n",
       "      requirejs.config({paths});\n",
       "      require([\"vega-embed\"], displayChart, err => showError(`Error loading script: ${err.message}`));\n",
       "    } else {\n",
       "      maybeLoadScript(\"vega\", \"5\")\n",
       "        .then(() => maybeLoadScript(\"vega-lite\", \"4.17.0\"))\n",
       "        .then(() => maybeLoadScript(\"vega-embed\", \"6\"))\n",
       "        .catch(showError)\n",
       "        .then(() => displayChart(vegaEmbed));\n",
       "    }\n",
       "  })({\"config\": {\"view\": {\"continuousWidth\": 400, \"continuousHeight\": 300}, \"axis\": {\"domainColor\": \"#cbcbcb\", \"grid\": true, \"gridColor\": \"#cbcbcb\", \"gridWidth\": 1, \"labelColor\": \"#474747\", \"labelFont\": \"Nunito Sans\", \"labelFontSize\": 10, \"labelPadding\": 4, \"tickColor\": \"#cbcbcb\", \"tickSize\": 10, \"titleColor\": \"#333\", \"titleFont\": \"Raleway\", \"titleFontSize\": 12, \"titlePadding\": 10}, \"axisBand\": {\"grid\": false}, \"background\": \"white\", \"font\": \"Raleway\", \"header\": {\"labelFont\": \"Nunito Sans\", \"titleFont\": \"Raleway\"}, \"legend\": {\"labelColor\": \"#333\", \"labelFont\": \"Nunito Sans\", \"labelFontSize\": 11, \"labelLimit\": 0, \"padding\": 1, \"symbolSize\": 30, \"symbolType\": \"square\", \"titleColor\": \"#333\", \"titleFont\": \"Raleway\", \"titleFontSize\": 14, \"titlePadding\": 10}, \"title\": {\"anchor\": \"middle\", \"font\": \"Raleway\", \"fontSize\": 18, \"fontWeight\": 300, \"offset\": 20}}, \"data\": {\"name\": \"data-65d32567bf7a227a0301f726bec8a707\"}, \"mark\": \"bar\", \"encoding\": {\"color\": {\"field\": \"product_type\", \"legend\": {\"title\": \"Product Type\"}, \"scale\": {\"range\": [\"#2EA8CE\", \"#EB9F3C\", \"#F4D837\", \"#51BF9D\", \"#8CBCCB\", \"#9487C0\"]}, \"type\": \"nominal\"}, \"x\": {\"field\": \"number_of_contracts with this element\", \"title\": \"Number Of Contracts With This Element\", \"type\": \"quantitative\"}, \"y\": {\"field\": \"product_type\", \"sort\": \"-x\", \"title\": \"Product Type\", \"type\": \"nominal\"}}, \"height\": 250, \"title\": \"Most Common Element in Contracts\", \"width\": 400, \"$schema\": \"https://vega.github.io/schema/vega-lite/v4.17.0.json\", \"datasets\": {\"data-65d32567bf7a227a0301f726bec8a707\": [{\"product_type\": \"GTFS Generation\", \"number_of_contracts with this element\": 35}, {\"product_type\": \"Vehicle Locations\", \"number_of_contracts with this element\": 34}, {\"product_type\": \"Arrival predictions\", \"number_of_contracts with this element\": 33}, {\"product_type\": \"MDT\", \"number_of_contracts with this element\": 23}, {\"product_type\": \"Real-time service alerts\", \"number_of_contracts with this element\": 19}, {\"product_type\": \"Interior signage\", \"number_of_contracts with this element\": 18}, {\"product_type\": \"Annunciator\", \"number_of_contracts with this element\": 18}, {\"product_type\": \"Headsigns\", \"number_of_contracts with this element\": 16}, {\"product_type\": \"Realtime info\", \"number_of_contracts with this element\": 15}, {\"product_type\": \"Mobile ticketing\", \"number_of_contracts with this element\": 15}]}}, {\"mode\": \"vega-lite\"});\n",
       "</script>"
      ],
      "text/plain": [
       "alt.Chart(...)"
      ]
     },
     "execution_count": 55,
     "metadata": {},
     "output_type": "execute_result"
    }
   ],
   "source": [
    "charts.basic_bar_chart(\n",
    "    most_common_contract_product, \"number_of_contracts with this element\", \"product_type\", \"product_type\", \"Most Common Element in Contracts\"\n",
    ")"
   ]
  },
  {
   "cell_type": "code",
   "execution_count": 56,
   "id": "bc1ec3ab-5c0d-40a1-aa67-ae18e4445e73",
   "metadata": {},
   "outputs": [],
   "source": [
    "elements_only = contracts2[\"contract_type_use\"]"
   ]
  },
  {
   "cell_type": "code",
   "execution_count": 57,
   "id": "f7e865a7-cb01-43b7-a78a-9ed74d264f09",
   "metadata": {},
   "outputs": [],
   "source": [
    "# Word cloud from Natalie's notebook\n",
    "def word_cloud_gen(df):\n",
    "    test = \" \".join(df).lower()\n",
    "    wordcloud2 = WordCloud(\n",
    "        width=800,\n",
    "        height=400,\n",
    "        stopwords=STOPWORDS,\n",
    "        collocations=True,\n",
    "        background_color=\"white\",\n",
    "    ).generate(test)\n",
    "\n",
    "    plt.figure(figsize=(12, 6))\n",
    "    plt.imshow(wordcloud2, interpolation=\"bilInear\")\n",
    "    plt.axis(\"off\")\n",
    "    plt.show()"
   ]
  },
  {
   "cell_type": "code",
   "execution_count": 58,
   "id": "84c54534-8c1a-4044-9c87-2be1f20c9ab0",
   "metadata": {},
   "outputs": [
    {
     "data": {
      "image/png": "[encoded data removed]",
      "text/plain": [
       "<Figure size 864x432 with 1 Axes>"
      ]
     },
     "metadata": {
      "needs_background": "light"
     },
     "output_type": "display_data"
    }
   ],
   "source": [
    "word_cloud_gen(elements_only)"
   ]
  },
  {
   "cell_type": "markdown",
   "id": "782820c0-e56c-4a13-b409-9d5f80732eab",
   "metadata": {},
   "source": [
    "### Most popular vendors by contract awarded"
   ]
  },
  {
   "cell_type": "code",
   "execution_count": 59,
   "id": "7452c8ad-959a-4c60-ba8c-9a0e88a28363",
   "metadata": {},
   "outputs": [],
   "source": [
    "vendors2 = (\n",
    "    contracts.contract_vendor.value_counts()\n",
    "    .to_frame()\n",
    "    .reset_index()\n",
    "    .head(10)\n",
    "    .rename(columns={\"index\": \"vendor\", \"contract_vendor\": \"number_of_contracts\"})\n",
    ")"
   ]
  },
  {
   "cell_type": "code",
   "execution_count": 60,
   "id": "bc63dd15-8061-4ae8-9b2e-2ec492a44811",
   "metadata": {},
   "outputs": [
    {
     "data": {
      "text/html": [
       "\n",
       "<div id=\"altair-viz-c77bffb9bf364ac0bc72626bf10bc600\"></div>\n",
       "<script type=\"text/javascript\">\n",
       "  var VEGA_DEBUG = (typeof VEGA_DEBUG == \"undefined\") ? {} : VEGA_DEBUG;\n",
       "  (function(spec, embedOpt){\n",
       "    let outputDiv = document.currentScript.previousElementSibling;\n",
       "    if (outputDiv.id !== \"altair-viz-c77bffb9bf364ac0bc72626bf10bc600\") {\n",
       "      outputDiv = document.getElementById(\"altair-viz-c77bffb9bf364ac0bc72626bf10bc600\");\n",
       "    }\n",
       "    const paths = {\n",
       "      \"vega\": \"https://cdn.jsdelivr.net/npm//vega@5?noext\",\n",
       "      \"vega-lib\": \"https://cdn.jsdelivr.net/npm//vega-lib?noext\",\n",
       "      \"vega-lite\": \"https://cdn.jsdelivr.net/npm//vega-lite@4.17.0?noext\",\n",
       "      \"vega-embed\": \"https://cdn.jsdelivr.net/npm//vega-embed@6?noext\",\n",
       "    };\n",
       "\n",
       "    function maybeLoadScript(lib, version) {\n",
       "      var key = `${lib.replace(\"-\", \"\")}_version`;\n",
       "      return (VEGA_DEBUG[key] == version) ?\n",
       "        Promise.resolve(paths[lib]) :\n",
       "        new Promise(function(resolve, reject) {\n",
       "          var s = document.createElement('script');\n",
       "          document.getElementsByTagName(\"head\")[0].appendChild(s);\n",
       "          s.async = true;\n",
       "          s.onload = () => {\n",
       "            VEGA_DEBUG[key] = version;\n",
       "            return resolve(paths[lib]);\n",
       "          };\n",
       "          s.onerror = () => reject(`Error loading script: ${paths[lib]}`);\n",
       "          s.src = paths[lib];\n",
       "        });\n",
       "    }\n",
       "\n",
       "    function showError(err) {\n",
       "      outputDiv.innerHTML = `<div class=\"error\" style=\"color:red;\">${err}</div>`;\n",
       "      throw err;\n",
       "    }\n",
       "\n",
       "    function displayChart(vegaEmbed) {\n",
       "      vegaEmbed(outputDiv, spec, embedOpt)\n",
       "        .catch(err => showError(`Javascript Error: ${err.message}<br>This usually means there's a typo in your chart specification. See the javascript console for the full traceback.`));\n",
       "    }\n",
       "\n",
       "    if(typeof define === \"function\" && define.amd) {\n",
       "      requirejs.config({paths});\n",
       "      require([\"vega-embed\"], displayChart, err => showError(`Error loading script: ${err.message}`));\n",
       "    } else {\n",
       "      maybeLoadScript(\"vega\", \"5\")\n",
       "        .then(() => maybeLoadScript(\"vega-lite\", \"4.17.0\"))\n",
       "        .then(() => maybeLoadScript(\"vega-embed\", \"6\"))\n",
       "        .catch(showError)\n",
       "        .then(() => displayChart(vegaEmbed));\n",
       "    }\n",
       "  })({\"config\": {\"view\": {\"continuousWidth\": 400, \"continuousHeight\": 300}, \"axis\": {\"domainColor\": \"#cbcbcb\", \"grid\": true, \"gridColor\": \"#cbcbcb\", \"gridWidth\": 1, \"labelColor\": \"#474747\", \"labelFont\": \"Nunito Sans\", \"labelFontSize\": 10, \"labelPadding\": 4, \"tickColor\": \"#cbcbcb\", \"tickSize\": 10, \"titleColor\": \"#333\", \"titleFont\": \"Raleway\", \"titleFontSize\": 12, \"titlePadding\": 10}, \"axisBand\": {\"grid\": false}, \"background\": \"white\", \"font\": \"Raleway\", \"header\": {\"labelFont\": \"Nunito Sans\", \"titleFont\": \"Raleway\"}, \"legend\": {\"labelColor\": \"#333\", \"labelFont\": \"Nunito Sans\", \"labelFontSize\": 11, \"labelLimit\": 0, \"padding\": 1, \"symbolSize\": 30, \"symbolType\": \"square\", \"titleColor\": \"#333\", \"titleFont\": \"Raleway\", \"titleFontSize\": 14, \"titlePadding\": 10}, \"title\": {\"anchor\": \"middle\", \"font\": \"Raleway\", \"fontSize\": 18, \"fontWeight\": 300, \"offset\": 20}}, \"data\": {\"name\": \"data-1db3bf0a28e117c2e2fd5d61ad4aa3c5\"}, \"mark\": \"bar\", \"encoding\": {\"color\": {\"field\": \"vendor\", \"legend\": {\"title\": \"Vendor\"}, \"scale\": {\"range\": [\"#2EA8CE\", \"#EB9F3C\", \"#F4D837\", \"#51BF9D\", \"#8CBCCB\", \"#9487C0\"]}, \"type\": \"nominal\"}, \"x\": {\"field\": \"number_of_contracts\", \"title\": \"Number Of Contracts\", \"type\": \"quantitative\"}, \"y\": {\"field\": \"vendor\", \"sort\": \"-x\", \"title\": \"Vendor\", \"type\": \"nominal\"}}, \"height\": 250, \"title\": \"Vendor with the Most Awarded Contracts\", \"width\": 400, \"$schema\": \"https://vega.github.io/schema/vega-lite/v4.17.0.json\", \"datasets\": {\"data-1db3bf0a28e117c2e2fd5d61ad4aa3c5\": [{\"vendor\": \"Trillium Inc.\", \"number_of_contracts\": 23}, {\"vendor\": \"Genfare\", \"number_of_contracts\": 12}, {\"vendor\": \"GMV Syncromatics Inc\", \"number_of_contracts\": 9}, {\"vendor\": \"Token Transit\", \"number_of_contracts\": 9}, {\"vendor\": \"Trapeze Group\", \"number_of_contracts\": 8}, {\"vendor\": \"Swiftly Inc.\", \"number_of_contracts\": 6}, {\"vendor\": \"UTA\", \"number_of_contracts\": 6}, {\"vendor\": \"Via Inc.\", \"number_of_contracts\": 6}, {\"vendor\": \"Clever Devices Ltd.\", \"number_of_contracts\": 6}, {\"vendor\": \"Transit App Inc.\", \"number_of_contracts\": 5}]}}, {\"mode\": \"vega-lite\"});\n",
       "</script>"
      ],
      "text/plain": [
       "alt.Chart(...)"
      ]
     },
     "execution_count": 60,
     "metadata": {},
     "output_type": "execute_result"
    }
   ],
   "source": [
    "charts.basic_bar_chart(vendors2, \"number_of_contracts\", \"vendor\", \"vendor\", \"Vendor with the Most Awarded Contracts\")"
   ]
  },
  {
   "cell_type": "markdown",
   "id": "6dfc0e32-027c-4f4e-a2f6-595216b6bcc7",
   "metadata": {},
   "source": [
    "### Organizations that hold the most contracts"
   ]
  },
  {
   "cell_type": "code",
   "execution_count": 61,
   "id": "968e84a0-bdf0-4cb9-b7e5-d5c6e0c27554",
   "metadata": {},
   "outputs": [],
   "source": [
    "contract_holders = (\n",
    "    contracts.contract_holder.value_counts()\n",
    "    .to_frame()\n",
    "    .reset_index()\n",
    "    .rename(columns={\"index\": \"holders\", \"contract_holder\": \"# contracts\"})\n",
    "    .head(10)\n",
    ")"
   ]
  },
  {
   "cell_type": "code",
   "execution_count": 62,
   "id": "d992db85-8145-490e-ab20-85fdcc0a83b3",
   "metadata": {},
   "outputs": [
    {
     "data": {
      "text/html": [
       "\n",
       "<div id=\"altair-viz-b1ace0155b1745a1b5003deca2b09aff\"></div>\n",
       "<script type=\"text/javascript\">\n",
       "  var VEGA_DEBUG = (typeof VEGA_DEBUG == \"undefined\") ? {} : VEGA_DEBUG;\n",
       "  (function(spec, embedOpt){\n",
       "    let outputDiv = document.currentScript.previousElementSibling;\n",
       "    if (outputDiv.id !== \"altair-viz-b1ace0155b1745a1b5003deca2b09aff\") {\n",
       "      outputDiv = document.getElementById(\"altair-viz-b1ace0155b1745a1b5003deca2b09aff\");\n",
       "    }\n",
       "    const paths = {\n",
       "      \"vega\": \"https://cdn.jsdelivr.net/npm//vega@5?noext\",\n",
       "      \"vega-lib\": \"https://cdn.jsdelivr.net/npm//vega-lib?noext\",\n",
       "      \"vega-lite\": \"https://cdn.jsdelivr.net/npm//vega-lite@4.17.0?noext\",\n",
       "      \"vega-embed\": \"https://cdn.jsdelivr.net/npm//vega-embed@6?noext\",\n",
       "    };\n",
       "\n",
       "    function maybeLoadScript(lib, version) {\n",
       "      var key = `${lib.replace(\"-\", \"\")}_version`;\n",
       "      return (VEGA_DEBUG[key] == version) ?\n",
       "        Promise.resolve(paths[lib]) :\n",
       "        new Promise(function(resolve, reject) {\n",
       "          var s = document.createElement('script');\n",
       "          document.getElementsByTagName(\"head\")[0].appendChild(s);\n",
       "          s.async = true;\n",
       "          s.onload = () => {\n",
       "            VEGA_DEBUG[key] = version;\n",
       "            return resolve(paths[lib]);\n",
       "          };\n",
       "          s.onerror = () => reject(`Error loading script: ${paths[lib]}`);\n",
       "          s.src = paths[lib];\n",
       "        });\n",
       "    }\n",
       "\n",
       "    function showError(err) {\n",
       "      outputDiv.innerHTML = `<div class=\"error\" style=\"color:red;\">${err}</div>`;\n",
       "      throw err;\n",
       "    }\n",
       "\n",
       "    function displayChart(vegaEmbed) {\n",
       "      vegaEmbed(outputDiv, spec, embedOpt)\n",
       "        .catch(err => showError(`Javascript Error: ${err.message}<br>This usually means there's a typo in your chart specification. See the javascript console for the full traceback.`));\n",
       "    }\n",
       "\n",
       "    if(typeof define === \"function\" && define.amd) {\n",
       "      requirejs.config({paths});\n",
       "      require([\"vega-embed\"], displayChart, err => showError(`Error loading script: ${err.message}`));\n",
       "    } else {\n",
       "      maybeLoadScript(\"vega\", \"5\")\n",
       "        .then(() => maybeLoadScript(\"vega-lite\", \"4.17.0\"))\n",
       "        .then(() => maybeLoadScript(\"vega-embed\", \"6\"))\n",
       "        .catch(showError)\n",
       "        .then(() => displayChart(vegaEmbed));\n",
       "    }\n",
       "  })({\"config\": {\"view\": {\"continuousWidth\": 400, \"continuousHeight\": 300}, \"axis\": {\"domainColor\": \"#cbcbcb\", \"grid\": true, \"gridColor\": \"#cbcbcb\", \"gridWidth\": 1, \"labelColor\": \"#474747\", \"labelFont\": \"Nunito Sans\", \"labelFontSize\": 10, \"labelPadding\": 4, \"tickColor\": \"#cbcbcb\", \"tickSize\": 10, \"titleColor\": \"#333\", \"titleFont\": \"Raleway\", \"titleFontSize\": 12, \"titlePadding\": 10}, \"axisBand\": {\"grid\": false}, \"background\": \"white\", \"font\": \"Raleway\", \"header\": {\"labelFont\": \"Nunito Sans\", \"titleFont\": \"Raleway\"}, \"legend\": {\"labelColor\": \"#333\", \"labelFont\": \"Nunito Sans\", \"labelFontSize\": 11, \"labelLimit\": 0, \"padding\": 1, \"symbolSize\": 30, \"symbolType\": \"square\", \"titleColor\": \"#333\", \"titleFont\": \"Raleway\", \"titleFontSize\": 14, \"titlePadding\": 10}, \"title\": {\"anchor\": \"middle\", \"font\": \"Raleway\", \"fontSize\": 18, \"fontWeight\": 300, \"offset\": 20}}, \"data\": {\"name\": \"data-6fe0e90a8c62be0e92c2f8dbb9d83d05\"}, \"mark\": \"bar\", \"encoding\": {\"color\": {\"field\": \"holders\", \"legend\": {\"title\": \"Holders\"}, \"scale\": {\"range\": [\"#2EA8CE\", \"#EB9F3C\", \"#F4D837\", \"#51BF9D\", \"#8CBCCB\", \"#9487C0\"]}, \"type\": \"nominal\"}, \"x\": {\"field\": \"# contracts\", \"title\": \"# Contracts\", \"type\": \"quantitative\"}, \"y\": {\"field\": \"holders\", \"sort\": \"-x\", \"title\": \"Holders\", \"type\": \"nominal\"}}, \"height\": 250, \"title\": \"Organizations with the Most Contracts\", \"width\": 400, \"$schema\": \"https://vega.github.io/schema/vega-lite/v4.17.0.json\", \"datasets\": {\"data-6fe0e90a8c62be0e92c2f8dbb9d83d05\": [{\"holders\": \"Anaheim Transportation Network\", \"# contracts\": 9}, {\"holders\": \"Tahoe Transportation District\", \"# contracts\": 9}, {\"holders\": \"Golden Empire Transit District\", \"# contracts\": 8}, {\"holders\": \"Santa Clara Valley Transportation Authority\", \"# contracts\": 6}, {\"holders\": \"Sonoma-Marin Area Rail Transit District\", \"# contracts\": 5}, {\"holders\": \"Nevada County\", \"# contracts\": 5}, {\"holders\": \"San Joaquin Regional Transit District\", \"# contracts\": 5}, {\"holders\": \"Sacramento Regional Transit District\", \"# contracts\": 4}, {\"holders\": \"Eastern Contra Costa Transit Authority\", \"# contracts\": 4}, {\"holders\": \"Peninsula Corridor Joint Powers Board\", \"# contracts\": 4}]}}, {\"mode\": \"vega-lite\"});\n",
       "</script>"
      ],
      "text/plain": [
       "alt.Chart(...)"
      ]
     },
     "execution_count": 62,
     "metadata": {},
     "output_type": "execute_result"
    }
   ],
   "source": [
    "charts.basic_bar_chart(contract_holders, \"# contracts\", \"holders\", \"holders\", \"Organizations with the Most Contracts\")"
   ]
  },
  {
   "cell_type": "markdown",
   "id": "c09bdf7b-00cc-44b8-8191-a370097a80ad",
   "metadata": {},
   "source": [
    "### Looking at contracts and their elements with end dates from May 2022 to 2024.\n",
    "* Of the contracts ending, most have an element of vehicle locations and arrival predictions."
   ]
  },
  {
   "cell_type": "code",
   "execution_count": 63,
   "id": "1bc54954-3437-4d47-a2c7-f735e0233cd4",
   "metadata": {},
   "outputs": [],
   "source": [
    "# Drop values without an end date\n",
    "end_dates = contracts.dropna(subset=[\"end_date\"])"
   ]
  },
  {
   "cell_type": "code",
   "execution_count": 64,
   "id": "8c88f355-d390-464c-af1a-5b67ce8dcc1a",
   "metadata": {},
   "outputs": [],
   "source": [
    "end_dates = end_dates.assign(\n",
    "    start_date=pd.to_datetime(contracts.start_date, errors=\"coerce\"),\n",
    "    end_date=pd.to_datetime(contracts.end_date, errors=\"coerce\"),\n",
    ")"
   ]
  },
  {
   "cell_type": "code",
   "execution_count": 65,
   "id": "6e86b615-fb05-4a20-9a43-8c8c686fc0b2",
   "metadata": {},
   "outputs": [
    {
     "data": {
      "text/plain": [
       "(158, 11)"
      ]
     },
     "execution_count": 65,
     "metadata": {},
     "output_type": "execute_result"
    }
   ],
   "source": [
    "end_dates.shape"
   ]
  },
  {
   "cell_type": "code",
   "execution_count": 66,
   "id": "2026b70a-5810-4118-a537-d41ec1665acf",
   "metadata": {},
   "outputs": [
    {
     "name": "stderr",
     "output_type": "stream",
     "text": [
      "/tmp/ipykernel_2698/3580204313.py:1: FutureWarning: Treating datetime data as categorical rather than numeric in `.describe` is deprecated and will be removed in a future version of pandas. Specify `datetime_is_numeric=True` to silence this warning and adopt the future behavior now.\n"
     ]
    },
    {
     "data": {
      "text/plain": [
       "count                      38\n",
       "unique                     32\n",
       "top       2020-06-30 00:00:00\n",
       "freq                        4\n",
       "first     2010-09-21 00:00:00\n",
       "last      2024-06-30 00:00:00\n",
       "Name: end_date, dtype: object"
      ]
     },
     "execution_count": 66,
     "metadata": {},
     "output_type": "execute_result"
    }
   ],
   "source": [
    "end_dates.end_date.describe()"
   ]
  },
  {
   "cell_type": "code",
   "execution_count": 67,
   "id": "df3920af-16c6-48ca-b679-f219b6e87e84",
   "metadata": {},
   "outputs": [],
   "source": [
    "# Keep only end dates from now until 2024.\n",
    "end_dates = end_dates.loc[\n",
    "    (end_dates[\"end_date\"] >= \"2022-05-03\") & (end_dates[\"end_date\"] < \"2024-12-31\")\n",
    "]"
   ]
  },
  {
   "cell_type": "code",
   "execution_count": 68,
   "id": "f4ebb637-bb5e-4f85-8db3-a89b3bda3b2d",
   "metadata": {},
   "outputs": [
    {
     "data": {
      "text/html": [
       "<div>\n",
       "<style scoped>\n",
       "    .dataframe tbody tr th:only-of-type {\n",
       "        vertical-align: middle;\n",
       "    }\n",
       "\n",
       "    .dataframe tbody tr th {\n",
       "        vertical-align: top;\n",
       "    }\n",
       "\n",
       "    .dataframe thead th {\n",
       "        text-align: right;\n",
       "    }\n",
       "</style>\n",
       "<table border=\"1\" class=\"dataframe\">\n",
       "  <thead>\n",
       "    <tr style=\"text-align: right;\">\n",
       "      <th></th>\n",
       "      <th>contract_holder</th>\n",
       "      <th>functional_category</th>\n",
       "      <th>contract_type</th>\n",
       "      <th>start_date</th>\n",
       "      <th>end_date</th>\n",
       "      <th>duration_of_contract_year</th>\n",
       "    </tr>\n",
       "  </thead>\n",
       "  <tbody>\n",
       "    <tr>\n",
       "      <th>1</th>\n",
       "      <td>Anaheim Transportation Network</td>\n",
       "      <td>Offboard rider information</td>\n",
       "      <td>Realtime info</td>\n",
       "      <td>2017-05-17</td>\n",
       "      <td>2022-05-17</td>\n",
       "      <td>5.00</td>\n",
       "    </tr>\n",
       "    <tr>\n",
       "      <th>73</th>\n",
       "      <td>Marin County Transit District</td>\n",
       "      <td>Scheduling</td>\n",
       "      <td>Scheduling</td>\n",
       "      <td>2019-07-01</td>\n",
       "      <td>2024-06-30</td>\n",
       "      <td>5.00</td>\n",
       "    </tr>\n",
       "    <tr>\n",
       "      <th>77</th>\n",
       "      <td>Monterey-Salinas Transit</td>\n",
       "      <td>CAD/AVL,Onboard rider information,Offboard rider information</td>\n",
       "      <td>Annunciator,Interior signage,MDT,Real-time service alerts,Vehicle Locations,Arrival predictions,Offboard signage</td>\n",
       "      <td>2019-05-01</td>\n",
       "      <td>2024-06-30</td>\n",
       "      <td>5.17</td>\n",
       "    </tr>\n",
       "    <tr>\n",
       "      <th>90</th>\n",
       "      <td>Redwood Coast Transit Authority</td>\n",
       "      <td>CAD/AVL</td>\n",
       "      <td>Vehicle Locations,Real-time service alerts,Arrival predictions,Realtime info</td>\n",
       "      <td>2019-05-03</td>\n",
       "      <td>2022-05-03</td>\n",
       "      <td>3.00</td>\n",
       "    </tr>\n",
       "    <tr>\n",
       "      <th>125</th>\n",
       "      <td>Santa Cruz Metropolitan Transit District</td>\n",
       "      <td>Onboard rider information,Offboard rider information,CAD/AVL</td>\n",
       "      <td>Realtime info,Annunciator,Headsigns,Interior signage,MDT,Vehicle Locations,Arrival predictions,Real-time service alerts</td>\n",
       "      <td>2018-11-29</td>\n",
       "      <td>2023-11-28</td>\n",
       "      <td>5.00</td>\n",
       "    </tr>\n",
       "    <tr>\n",
       "      <th>146</th>\n",
       "      <td>Trinity County</td>\n",
       "      <td>Offboard rider information,Scheduling</td>\n",
       "      <td>GTFS Generation,Web trip planner</td>\n",
       "      <td>2019-08-01</td>\n",
       "      <td>2022-07-31</td>\n",
       "      <td>3.00</td>\n",
       "    </tr>\n",
       "    <tr>\n",
       "      <th>149</th>\n",
       "      <td>Tuolumne County Transit Agency</td>\n",
       "      <td>CAD/AVL,Offboard rider information</td>\n",
       "      <td>MDT,Real-time service alerts,Vehicle Locations,Arrival predictions,Web trip planner ,Realtime info</td>\n",
       "      <td>2019-05-08</td>\n",
       "      <td>2023-05-07</td>\n",
       "      <td>4.00</td>\n",
       "    </tr>\n",
       "    <tr>\n",
       "      <th>156</th>\n",
       "      <td>Yuba-Sutter Transit Authority</td>\n",
       "      <td>CAD/AVL,Onboard rider information</td>\n",
       "      <td>Vehicle Locations,Arrival predictions,Headsigns,Interior signage</td>\n",
       "      <td>2018-11-07</td>\n",
       "      <td>2023-11-06</td>\n",
       "      <td>5.00</td>\n",
       "    </tr>\n",
       "  </tbody>\n",
       "</table>\n",
       "</div>"
      ],
      "text/plain": [
       "                              contract_holder  \\\n",
       "1              Anaheim Transportation Network   \n",
       "73              Marin County Transit District   \n",
       "77                   Monterey-Salinas Transit   \n",
       "90            Redwood Coast Transit Authority   \n",
       "125  Santa Cruz Metropolitan Transit District   \n",
       "146                            Trinity County   \n",
       "149            Tuolumne County Transit Agency   \n",
       "156             Yuba-Sutter Transit Authority   \n",
       "\n",
       "                                              functional_category  \\\n",
       "1                                      Offboard rider information   \n",
       "73                                                     Scheduling   \n",
       "77   CAD/AVL,Onboard rider information,Offboard rider information   \n",
       "90                                                        CAD/AVL   \n",
       "125  Onboard rider information,Offboard rider information,CAD/AVL   \n",
       "146                         Offboard rider information,Scheduling   \n",
       "149                            CAD/AVL,Offboard rider information   \n",
       "156                             CAD/AVL,Onboard rider information   \n",
       "\n",
       "                                                                                                               contract_type  \\\n",
       "1                                                                                                              Realtime info   \n",
       "73                                                                                                                Scheduling   \n",
       "77          Annunciator,Interior signage,MDT,Real-time service alerts,Vehicle Locations,Arrival predictions,Offboard signage   \n",
       "90                                              Vehicle Locations,Real-time service alerts,Arrival predictions,Realtime info   \n",
       "125  Realtime info,Annunciator,Headsigns,Interior signage,MDT,Vehicle Locations,Arrival predictions,Real-time service alerts   \n",
       "146                                                                                        GTFS Generation,Web trip planner    \n",
       "149                       MDT,Real-time service alerts,Vehicle Locations,Arrival predictions,Web trip planner ,Realtime info   \n",
       "156                                                         Vehicle Locations,Arrival predictions,Headsigns,Interior signage   \n",
       "\n",
       "    start_date   end_date duration_of_contract_year  \n",
       "1   2017-05-17 2022-05-17                      5.00  \n",
       "73  2019-07-01 2024-06-30                      5.00  \n",
       "77  2019-05-01 2024-06-30                      5.17  \n",
       "90  2019-05-03 2022-05-03                      3.00  \n",
       "125 2018-11-29 2023-11-28                      5.00  \n",
       "146 2019-08-01 2022-07-31                      3.00  \n",
       "149 2019-05-08 2023-05-07                      4.00  \n",
       "156 2018-11-07 2023-11-06                      5.00  "
      ]
     },
     "execution_count": 68,
     "metadata": {},
     "output_type": "execute_result"
    }
   ],
   "source": [
    "end_dates[['contract_holder','functional_category','contract_type','start_date','end_date','duration_of_contract_year']]"
   ]
  },
  {
   "cell_type": "markdown",
   "id": "e072f344-46a3-4a78-83f6-1ffd434a904e",
   "metadata": {},
   "source": [
    "## Export"
   ]
  },
  {
   "cell_type": "code",
   "execution_count": 69,
   "id": "28f4da6c-c006-4de4-ac80-9b3eec4129f6",
   "metadata": {},
   "outputs": [
    {
     "data": {
      "text/plain": [
       "'\\nwith pd.ExcelWriter(f\"{GCS_FILE_PATH}transit_stacks.xlsx\") as writer:\\n    products.to_excel(writer, sheet_name=\"products_clean\", index=False)\\n    popular_products.to_excel(writer, sheet_name=\"popular_products\", index=False)\\n    components.to_excel(writer, sheet_name=\"components_clean\", index=False)\\n    contracts.to_excel(writer, sheet_name=\"contracts_clean\", index=False)\\n    contracts2.to_excel(writer, sheet_name=\"contracts_delineated\", index=False)\\n    '"
      ]
     },
     "execution_count": 69,
     "metadata": {},
     "output_type": "execute_result"
    }
   ],
   "source": [
    "\"\"\"\n",
    "with pd.ExcelWriter(f\"{GCS_FILE_PATH}transit_stacks.xlsx\") as writer:\n",
    "    products.to_excel(writer, sheet_name=\"products_clean\", index=False)\n",
    "    popular_products.to_excel(writer, sheet_name=\"popular_products\", index=False)\n",
    "    components.to_excel(writer, sheet_name=\"components_clean\", index=False)\n",
    "    contracts.to_excel(writer, sheet_name=\"contracts_clean\", index=False)\n",
    "    contracts2.to_excel(writer, sheet_name=\"contracts_delineated\", index=False)\n",
    "    \"\"\""
   ]
  }
 ],
 "metadata": {
  "kernelspec": {
   "display_name": "Python 3 (ipykernel)",
   "language": "python",
   "name": "python3"
  },
  "language_info": {
   "codemirror_mode": {
    "name": "ipython",
    "version": 3
   },
   "file_extension": ".py",
   "mimetype": "text/x-python",
   "name": "python",
   "nbconvert_exporter": "python",
   "pygments_lexer": "ipython3",
   "version": "3.9.12"
  }
 },
 "nbformat": 4,
 "nbformat_minor": 5
}
