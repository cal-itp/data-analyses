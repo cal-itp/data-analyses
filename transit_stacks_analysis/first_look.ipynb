{
 "cells": [
  {
   "cell_type": "markdown",
   "id": "4b995212-343f-4eb0-b1b3-252a1009961d",
   "metadata": {},
   "source": [
    "# Taking a first look and cleaning the data.\n",
    "* [Data Source](https://airtable.com/appeVUdmRBi3K9hTS/tblLywLvMA2OTesQP/viwRRKOaZvvkSNfmU?blocks=hide)\n",
    "* [Term Explanations](https://docs.calitp.org/data-infra/datasets_and_tables/transitdatabase.html)\n",
    "* Look at all the data gathered in Transit Stacks to see what products/vendors/etc are out there. It's not too efficient for agencies to use so many different vendors/products, how can Caltrans help create some consistency?"
   ]
  },
  {
   "cell_type": "code",
   "execution_count": 1,
   "id": "3af4662e-f7e3-4c00-bd3d-0f756f7adc5d",
   "metadata": {},
   "outputs": [],
   "source": [
    "import numpy as np\n",
    "import pandas as pd\n",
    "\n",
    "pd.options.display.max_columns = 50\n",
    "pd.options.display.max_rows = 250\n",
    "pd.set_option(\"display.max_colwidth\", None)\n",
    "pd.options.display.float_format = \"{:.2f}\".format\n",
    "\n",
    "from itertools import chain\n",
    "from os import path\n",
    "\n",
    "import altair as alt\n",
    "import matplotlib.pyplot as plt\n",
    "import numpy as np\n",
    "import pandas as pd\n",
    "from calitp import *\n",
    "from PIL import Image\n",
    "from siuba import *\n",
    "from wordcloud import STOPWORDS, ImageColorGenerator, WordCloud\n",
    "\n",
    "GCS_FILE_PATH = \"gs://calitp-analytics-data/data-analyses/transit_stacks/\""
   ]
  },
  {
   "cell_type": "markdown",
   "id": "76424a9d-ac73-4b72-9d27-fb5ab6f1d988",
   "metadata": {
    "tags": []
   },
   "source": [
    "## Products Data"
   ]
  },
  {
   "cell_type": "code",
   "execution_count": 2,
   "id": "3855fedb-1c76-4964-b7ea-ae12808eabf7",
   "metadata": {},
   "outputs": [],
   "source": [
    "# drop columns with tons of NAs\n",
    "products = (\n",
    "    to_snakecase(pd.read_csv(f\"{GCS_FILE_PATH}products-Grid view (1).csv\"))\n",
    "    .drop(\n",
    "        columns=[\n",
    "            \"business_model_features\",\n",
    "            \"attachments\",\n",
    "            \"status\",\n",
    "            \"certifications\",\n",
    "            \"connectivity\",\n",
    "            \"accepted_input_components\",\n",
    "            \"output_components\",\n",
    "            \"input\",\n",
    "            \"output\",\n",
    "        ]\n",
    "    )\n",
    "    .rename(columns={\"name\": \"product_name\"})\n",
    ")"
   ]
  },
  {
   "cell_type": "code",
   "execution_count": 3,
   "id": "42aadca7-bd6d-4a8d-8612-a7c2e47eca51",
   "metadata": {},
   "outputs": [
    {
     "data": {
      "text/plain": [
       "Index(['product_name', 'components', 'vendor', 'url', 'requirements',\n",
       "       'product_features', 'notes', 'organization_stack_components'],\n",
       "      dtype='object')"
      ]
     },
     "execution_count": 3,
     "metadata": {},
     "output_type": "execute_result"
    }
   ],
   "source": [
    "products.columns"
   ]
  },
  {
   "cell_type": "code",
   "execution_count": 4,
   "id": "5d4e91c7-be03-4cc5-a78e-07328e142a58",
   "metadata": {},
   "outputs": [
    {
     "data": {
      "text/plain": [
       "product_name                       0\n",
       "components                        10\n",
       "vendor                            39\n",
       "url                               70\n",
       "requirements                     233\n",
       "product_features                 180\n",
       "notes                            174\n",
       "organization_stack_components    103\n",
       "dtype: int64"
      ]
     },
     "execution_count": 4,
     "metadata": {},
     "output_type": "execute_result"
    }
   ],
   "source": [
    "products.isna().sum()"
   ]
  },
  {
   "cell_type": "code",
   "execution_count": 5,
   "id": "88a5b673-f437-48b2-aa3f-252d1c1c1ce5",
   "metadata": {},
   "outputs": [],
   "source": [
    "products = products.fillna(\"N/A\")"
   ]
  },
  {
   "cell_type": "code",
   "execution_count": 6,
   "id": "b4c89afb-81b3-41de-a7c9-a48c7361587b",
   "metadata": {},
   "outputs": [],
   "source": [
    "### Count number of strings in organization_stack_components column to see how many orgs are using this vendor.\n",
    "# https://stackoverflow.com/questions/51502263/pandas-dataframe-object-has-no-attribute-str\n",
    "products[\"count_of_orgs_using_product\"] = (\n",
    "    products[\"organization_stack_components\"]\n",
    "    .str.split(\",+\")\n",
    "    .str.len()\n",
    "    .groupby(products.product_name)\n",
    "    .transform(\"sum\")\n",
    ")"
   ]
  },
  {
   "cell_type": "code",
   "execution_count": 7,
   "id": "6e7c3a18-b61f-4b8f-8e5c-cf601f2b5c67",
   "metadata": {},
   "outputs": [
    {
     "data": {
      "text/plain": [
       "'84 unique vendors'"
      ]
     },
     "execution_count": 7,
     "metadata": {},
     "output_type": "execute_result"
    }
   ],
   "source": [
    "unique_vendors = products.vendor.nunique()\n",
    "f\"{unique_vendors} unique vendors\""
   ]
  },
  {
   "cell_type": "code",
   "execution_count": 8,
   "id": "9585c978-734b-40aa-88e6-2792bd28db8b",
   "metadata": {},
   "outputs": [
    {
     "data": {
      "text/plain": [
       "'259 unique products'"
      ]
     },
     "execution_count": 8,
     "metadata": {},
     "output_type": "execute_result"
    }
   ],
   "source": [
    "f\"{products.product_name.nunique()} unique products\""
   ]
  },
  {
   "cell_type": "markdown",
   "id": "96ec9c38-c889-4068-be49-9857f3fa40cd",
   "metadata": {
    "tags": []
   },
   "source": [
    "### What % of vendors with scheduling software also provide GTFS data out of the box? DRAFT\n",
    "* Go back and tag companies for GTFS."
   ]
  },
  {
   "cell_type": "code",
   "execution_count": 9,
   "id": "40eece7a-3d3e-4ae0-b1dc-062d4e2d22cb",
   "metadata": {},
   "outputs": [
    {
     "data": {
      "text/html": [
       "<div>\n",
       "<style scoped>\n",
       "    .dataframe tbody tr th:only-of-type {\n",
       "        vertical-align: middle;\n",
       "    }\n",
       "\n",
       "    .dataframe tbody tr th {\n",
       "        vertical-align: top;\n",
       "    }\n",
       "\n",
       "    .dataframe thead th {\n",
       "        text-align: right;\n",
       "    }\n",
       "</style>\n",
       "<table border=\"1\" class=\"dataframe\">\n",
       "  <thead>\n",
       "    <tr style=\"text-align: right;\">\n",
       "      <th></th>\n",
       "      <th>product_name</th>\n",
       "      <th>components</th>\n",
       "      <th>vendor</th>\n",
       "      <th>count_of_orgs_using_product</th>\n",
       "      <th>notes</th>\n",
       "    </tr>\n",
       "  </thead>\n",
       "  <tbody>\n",
       "    <tr>\n",
       "      <th>239</th>\n",
       "      <td>Optibus</td>\n",
       "      <td>Scheduling (Fixed-route),GTFS Schedule Publishing,GTFS generation</td>\n",
       "      <td>Optibus</td>\n",
       "      <td>10</td>\n",
       "      <td>N/A</td>\n",
       "    </tr>\n",
       "  </tbody>\n",
       "</table>\n",
       "</div>"
      ],
      "text/plain": [
       "    product_name  \\\n",
       "239      Optibus   \n",
       "\n",
       "                                                            components  \\\n",
       "239  Scheduling (Fixed-route),GTFS Schedule Publishing,GTFS generation   \n",
       "\n",
       "      vendor  count_of_orgs_using_product notes  \n",
       "239  Optibus                           10   N/A  "
      ]
     },
     "execution_count": 9,
     "metadata": {},
     "output_type": "execute_result"
    }
   ],
   "source": [
    "# https://stackoverflow.com/questions/47125076/how-to-filter-rows-containing-specific-string-values-with-an-and-operator\n",
    "gtfs_scheduling = products[\n",
    "    products[\"components\"].str.contains(\"GTFS\")\n",
    "    & products[\"components\"].str.contains(\"Scheduling\")\n",
    "]\n",
    "gtfs_scheduling[\n",
    "    [\"product_name\", \"components\", \"vendor\", \"count_of_orgs_using_product\", \"notes\"]\n",
    "]"
   ]
  },
  {
   "cell_type": "code",
   "execution_count": 10,
   "id": "7853a36e-936c-4a6c-8107-741712a14817",
   "metadata": {},
   "outputs": [
    {
     "data": {
      "text/plain": [
       "1"
      ]
     },
     "execution_count": 10,
     "metadata": {},
     "output_type": "execute_result"
    }
   ],
   "source": [
    "vendors_gtfs_scheduling = gtfs_scheduling.vendor.nunique()\n",
    "vendors_gtfs_scheduling"
   ]
  },
  {
   "cell_type": "code",
   "execution_count": 11,
   "id": "57679e6d-23f4-4160-bb4b-6f508ec92a74",
   "metadata": {},
   "outputs": [
    {
     "data": {
      "text/plain": [
       "'About 0.011904761904761904 of vendors offer both GTFS generation and scheduling software'"
      ]
     },
     "execution_count": 11,
     "metadata": {},
     "output_type": "execute_result"
    }
   ],
   "source": [
    "f\"About {(vendors_gtfs_scheduling/unique_vendors)} of vendors offer both GTFS generation and scheduling software\""
   ]
  },
  {
   "cell_type": "markdown",
   "id": "26f33c65-ff6a-464a-91f7-5b39cb711d85",
   "metadata": {},
   "source": [
    "### Vendor with the most products\n",
    "* Uber has 26 separate rows for all the different products it offers. "
   ]
  },
  {
   "cell_type": "code",
   "execution_count": 12,
   "id": "6ef10e40-b06f-4c01-bbcc-247c8529298b",
   "metadata": {},
   "outputs": [],
   "source": [
    "# filter out for any products w/o vendor info\n",
    "no_vendor_nulls = products.loc[products[\"vendor\"] != \"N/A\"]"
   ]
  },
  {
   "cell_type": "code",
   "execution_count": 13,
   "id": "ad2c2f48-7218-4c9c-ac4f-4428f79c4195",
   "metadata": {},
   "outputs": [
    {
     "data": {
      "text/plain": [
       "Uber Inc.                     26\n",
       "Luminator Technology Group    24\n",
       "Genfare                       13\n",
       "GMV Syncromatics Inc          10\n",
       "Connexionz Inc.                9\n",
       "Name: vendor, dtype: int64"
      ]
     },
     "execution_count": 13,
     "metadata": {},
     "output_type": "execute_result"
    }
   ],
   "source": [
    "no_vendor_nulls.vendor.value_counts().head(5)"
   ]
  },
  {
   "cell_type": "markdown",
   "id": "a86c46e5-dcd1-47ed-9dc1-c5efaaf67564",
   "metadata": {},
   "source": [
    "### Most popular products in general\n",
    "* Metric: count_of_orgs_using_product column is the count of strings delinated by comma in the organization stacks component column for each product.\n",
    "    * Assume that each value is a separate organization.\n",
    "* Genfare FareBox has 94 values, making it the most popular product\n",
    "* Many organizations rely on \"in house activity.\" "
   ]
  },
  {
   "cell_type": "code",
   "execution_count": 14,
   "id": "c7c68d67-6567-46b6-96bc-3afc924c5b1d",
   "metadata": {
    "tags": []
   },
   "outputs": [
    {
     "data": {
      "text/html": [
       "<div>\n",
       "<style scoped>\n",
       "    .dataframe tbody tr th:only-of-type {\n",
       "        vertical-align: middle;\n",
       "    }\n",
       "\n",
       "    .dataframe tbody tr th {\n",
       "        vertical-align: top;\n",
       "    }\n",
       "\n",
       "    .dataframe thead th {\n",
       "        text-align: right;\n",
       "    }\n",
       "</style>\n",
       "<table border=\"1\" class=\"dataframe\">\n",
       "  <thead>\n",
       "    <tr style=\"text-align: right;\">\n",
       "      <th></th>\n",
       "      <th>product_name</th>\n",
       "      <th>vendor</th>\n",
       "      <th>components</th>\n",
       "      <th>count_of_orgs_using_product</th>\n",
       "      <th>notes</th>\n",
       "    </tr>\n",
       "  </thead>\n",
       "  <tbody>\n",
       "    <tr>\n",
       "      <th>60</th>\n",
       "      <td>Genfare Farebox (Unspecified)</td>\n",
       "      <td>Genfare</td>\n",
       "      <td>Cash Farebox</td>\n",
       "      <td>94</td>\n",
       "      <td>N/A</td>\n",
       "    </tr>\n",
       "    <tr>\n",
       "      <th>212</th>\n",
       "      <td>Cubic NextBus Suite</td>\n",
       "      <td>Cubic</td>\n",
       "      <td>Real-time info</td>\n",
       "      <td>92</td>\n",
       "      <td>Link now leads to Umo Mobility Platform.\\n</td>\n",
       "    </tr>\n",
       "    <tr>\n",
       "      <th>231</th>\n",
       "      <td>Trapeze Fixed Route Scheduling</td>\n",
       "      <td>Trapeze Group</td>\n",
       "      <td>Run cutting,Driver Sign-up</td>\n",
       "      <td>74</td>\n",
       "      <td>N/A</td>\n",
       "    </tr>\n",
       "    <tr>\n",
       "      <th>0</th>\n",
       "      <td>Avail - Unspecified</td>\n",
       "      <td>Avail Technologies Inc.</td>\n",
       "      <td>N/A</td>\n",
       "      <td>64</td>\n",
       "      <td>myAvail–the Enterprise Transit Management Software (ETMS) that empowers agencies to drastically improve efficiency, tracking, and compliance.</td>\n",
       "    </tr>\n",
       "    <tr>\n",
       "      <th>228</th>\n",
       "      <td>GMV/Syncromatics Sync</td>\n",
       "      <td>GMV Syncromatics Inc</td>\n",
       "      <td>Real-time info,Mobile trip planning app</td>\n",
       "      <td>60</td>\n",
       "      <td>N/A</td>\n",
       "    </tr>\n",
       "    <tr>\n",
       "      <th>111</th>\n",
       "      <td>Trillium GTFS Manager</td>\n",
       "      <td>Trillium Inc.</td>\n",
       "      <td>GTFS generation,GTFS Schedule Publishing</td>\n",
       "      <td>58</td>\n",
       "      <td>N/A</td>\n",
       "    </tr>\n",
       "    <tr>\n",
       "      <th>52</th>\n",
       "      <td>Clever Devices - Unspecified</td>\n",
       "      <td>Clever Devices Ltd.</td>\n",
       "      <td>AVL Software</td>\n",
       "      <td>50</td>\n",
       "      <td>N/A</td>\n",
       "    </tr>\n",
       "    <tr>\n",
       "      <th>98</th>\n",
       "      <td>Excel</td>\n",
       "      <td>Microsoft</td>\n",
       "      <td>General Purpose Software</td>\n",
       "      <td>50</td>\n",
       "      <td>N/A</td>\n",
       "    </tr>\n",
       "    <tr>\n",
       "      <th>6</th>\n",
       "      <td>In house activity</td>\n",
       "      <td>N/A</td>\n",
       "      <td>N/A</td>\n",
       "      <td>48</td>\n",
       "      <td>N/A</td>\n",
       "    </tr>\n",
       "    <tr>\n",
       "      <th>223</th>\n",
       "      <td>Swiftly Transitime</td>\n",
       "      <td>Swiftly Inc.</td>\n",
       "      <td>Real-time info,Arrival predictions,Alerts Content Management System,Social Alerts,Alerts Subscription Service,GTFS Alerts Publication</td>\n",
       "      <td>44</td>\n",
       "      <td>Swiftly Transitime gives riders the very best in vehicle arrival predictions, and our APIs make it easy to connect them with whichever apps, websites, signage, or ADA-supportive media your riders use.</td>\n",
       "    </tr>\n",
       "  </tbody>\n",
       "</table>\n",
       "</div>"
      ],
      "text/plain": [
       "                       product_name                   vendor  \\\n",
       "60    Genfare Farebox (Unspecified)                  Genfare   \n",
       "212            Cubic NextBus Suite                     Cubic   \n",
       "231  Trapeze Fixed Route Scheduling            Trapeze Group   \n",
       "0               Avail - Unspecified  Avail Technologies Inc.   \n",
       "228          GMV/Syncromatics Sync      GMV Syncromatics Inc   \n",
       "111           Trillium GTFS Manager            Trillium Inc.   \n",
       "52     Clever Devices - Unspecified      Clever Devices Ltd.   \n",
       "98                            Excel                Microsoft   \n",
       "6                 In house activity                      N/A   \n",
       "223              Swiftly Transitime             Swiftly Inc.   \n",
       "\n",
       "                                                                                                                                components  \\\n",
       "60                                                                                                                            Cash Farebox   \n",
       "212                                                                                                                         Real-time info   \n",
       "231                                                                                                             Run cutting,Driver Sign-up   \n",
       "0                                                                                                                                      N/A   \n",
       "228                                                                                                Real-time info,Mobile trip planning app   \n",
       "111                                                                                               GTFS generation,GTFS Schedule Publishing   \n",
       "52                                                                                                                            AVL Software   \n",
       "98                                                                                                                General Purpose Software   \n",
       "6                                                                                                                                      N/A   \n",
       "223  Real-time info,Arrival predictions,Alerts Content Management System,Social Alerts,Alerts Subscription Service,GTFS Alerts Publication   \n",
       "\n",
       "     count_of_orgs_using_product  \\\n",
       "60                            94   \n",
       "212                           92   \n",
       "231                           74   \n",
       "0                             64   \n",
       "228                           60   \n",
       "111                           58   \n",
       "52                            50   \n",
       "98                            50   \n",
       "6                             48   \n",
       "223                           44   \n",
       "\n",
       "                                                                                                                                                                                                         notes  \n",
       "60                                                                                                                                                                                                         N/A  \n",
       "212                                                                                                                                                                 Link now leads to Umo Mobility Platform.\\n  \n",
       "231                                                                                                                                                                                                        N/A  \n",
       "0                                                                myAvail–the Enterprise Transit Management Software (ETMS) that empowers agencies to drastically improve efficiency, tracking, and compliance.  \n",
       "228                                                                                                                                                                                                        N/A  \n",
       "111                                                                                                                                                                                                        N/A  \n",
       "52                                                                                                                                                                                                         N/A  \n",
       "98                                                                                                                                                                                                         N/A  \n",
       "6                                                                                                                                                                                                          N/A  \n",
       "223  Swiftly Transitime gives riders the very best in vehicle arrival predictions, and our APIs make it easy to connect them with whichever apps, websites, signage, or ADA-supportive media your riders use.   "
      ]
     },
     "execution_count": 14,
     "metadata": {},
     "output_type": "execute_result"
    }
   ],
   "source": [
    "products[\n",
    "    [\"product_name\", \"vendor\", \"components\", \"count_of_orgs_using_product\", \"notes\"]\n",
    "].sort_values(\"count_of_orgs_using_product\", ascending=False).head(10)"
   ]
  },
  {
   "cell_type": "markdown",
   "id": "b982ebe2-7845-43f8-8cfd-c4aa18bb2e24",
   "metadata": {},
   "source": [
    "### Most popular products by component type and # of organizations \n",
    "* Break out components by comma.\n",
    "* Most popular determined by count of organizations using a particularly product.\n",
    "* Only keep that product."
   ]
  },
  {
   "cell_type": "code",
   "execution_count": 15,
   "id": "94144e96-730f-4184-bc02-6d079615f9ed",
   "metadata": {},
   "outputs": [],
   "source": [
    "products2 = products.copy()"
   ]
  },
  {
   "cell_type": "code",
   "execution_count": 16,
   "id": "63d4d18b-4b88-4241-8811-9732a2f20dcc",
   "metadata": {},
   "outputs": [],
   "source": [
    "components = products2[\"components\"].str.split(\",\")\n",
    "cols = products2.columns.difference([\"components\"])\n",
    "\n",
    "products2 = products2.loc[products.index.repeat(components.str.len()), cols].assign(\n",
    "    components=list(chain.from_iterable(components.tolist()))\n",
    ")"
   ]
  },
  {
   "cell_type": "code",
   "execution_count": 17,
   "id": "a9ea61c9-0d0a-4cca-93f6-a58415a6722d",
   "metadata": {},
   "outputs": [],
   "source": [
    "popular_products = products2[\n",
    "    [\"components\", \"vendor\", \"product_name\", \"count_of_orgs_using_product\"]\n",
    "].sort_values(\"components\", ascending=True)"
   ]
  },
  {
   "cell_type": "code",
   "execution_count": 18,
   "id": "e02389da-185b-41cf-9e19-67d6b2909144",
   "metadata": {
    "scrolled": true,
    "tags": []
   },
   "outputs": [],
   "source": [
    "# https://stackoverflow.com/questions/53842287/select-rows-with-highest-value-from-groupby\n",
    "popular_products = (\n",
    "    popular_products.drop_duplicates()\n",
    "    .sort_values([\"components\", \"count_of_orgs_using_product\"], ascending=False)\n",
    "    .groupby([\"components\"])\n",
    "    .first()\n",
    "    .reset_index()\n",
    "    .rename(columns={\"components\": \"component\", \"product_name\": \"most_popular_product\"})\n",
    ")"
   ]
  },
  {
   "cell_type": "code",
   "execution_count": 19,
   "id": "732cdf11-bb00-47f4-b2c4-9f18dab843dc",
   "metadata": {
    "scrolled": true,
    "tags": []
   },
   "outputs": [
    {
     "data": {
      "text/html": [
       "<div>\n",
       "<style scoped>\n",
       "    .dataframe tbody tr th:only-of-type {\n",
       "        vertical-align: middle;\n",
       "    }\n",
       "\n",
       "    .dataframe tbody tr th {\n",
       "        vertical-align: top;\n",
       "    }\n",
       "\n",
       "    .dataframe thead th {\n",
       "        text-align: right;\n",
       "    }\n",
       "</style>\n",
       "<table border=\"1\" class=\"dataframe\">\n",
       "  <thead>\n",
       "    <tr style=\"text-align: right;\">\n",
       "      <th></th>\n",
       "      <th>component</th>\n",
       "      <th>vendor</th>\n",
       "      <th>most_popular_product</th>\n",
       "      <th>count_of_orgs_using_product</th>\n",
       "    </tr>\n",
       "  </thead>\n",
       "  <tbody>\n",
       "    <tr>\n",
       "      <th>0</th>\n",
       "      <td>\"Security System\\n\"</td>\n",
       "      <td>Luminator Technology Group</td>\n",
       "      <td>Luminator - Unspecified</td>\n",
       "      <td>9</td>\n",
       "    </tr>\n",
       "    <tr>\n",
       "      <th>1</th>\n",
       "      <td>APC On-Board Computer</td>\n",
       "      <td>Dilax Inc.</td>\n",
       "      <td>Dilax (Unspecified Model)</td>\n",
       "      <td>9</td>\n",
       "    </tr>\n",
       "    <tr>\n",
       "      <th>2</th>\n",
       "      <td>APC Sensors</td>\n",
       "      <td>UTA</td>\n",
       "      <td>UTA APC Sensors (Unspecified)</td>\n",
       "      <td>26</td>\n",
       "    </tr>\n",
       "    <tr>\n",
       "      <th>3</th>\n",
       "      <td>APC Software</td>\n",
       "      <td>GMV Syncromatics Inc</td>\n",
       "      <td>GMV/Syncromatics Dispatch</td>\n",
       "      <td>39</td>\n",
       "    </tr>\n",
       "    <tr>\n",
       "      <th>4</th>\n",
       "      <td>AVL On-board Computer</td>\n",
       "      <td>GMV Syncromatics Inc</td>\n",
       "      <td>GMV/Syncromatics Dispatch</td>\n",
       "      <td>39</td>\n",
       "    </tr>\n",
       "    <tr>\n",
       "      <th>5</th>\n",
       "      <td>AVL Software</td>\n",
       "      <td>Clever Devices Ltd.</td>\n",
       "      <td>Clever Devices - Unspecified</td>\n",
       "      <td>50</td>\n",
       "    </tr>\n",
       "    <tr>\n",
       "      <th>6</th>\n",
       "      <td>Advertising Agency</td>\n",
       "      <td>N/A</td>\n",
       "      <td>Intersection</td>\n",
       "      <td>2</td>\n",
       "    </tr>\n",
       "    <tr>\n",
       "      <th>7</th>\n",
       "      <td>Alerts Content Management System</td>\n",
       "      <td>Swiftly Inc.</td>\n",
       "      <td>Swiftly Transitime</td>\n",
       "      <td>44</td>\n",
       "    </tr>\n",
       "    <tr>\n",
       "      <th>8</th>\n",
       "      <td>Alerts Subscription Service</td>\n",
       "      <td>Swiftly Inc.</td>\n",
       "      <td>Swiftly Transitime</td>\n",
       "      <td>44</td>\n",
       "    </tr>\n",
       "    <tr>\n",
       "      <th>9</th>\n",
       "      <td>Annunciator</td>\n",
       "      <td>Swiftly Inc.</td>\n",
       "      <td>Swiftly Metronome</td>\n",
       "      <td>19</td>\n",
       "    </tr>\n",
       "    <tr>\n",
       "      <th>10</th>\n",
       "      <td>Archival Operations Data</td>\n",
       "      <td>GeoSpatial Technologies</td>\n",
       "      <td>GeoSpatial Technologies GST Tracker Suite</td>\n",
       "      <td>1</td>\n",
       "    </tr>\n",
       "    <tr>\n",
       "      <th>11</th>\n",
       "      <td>Arrival predictions</td>\n",
       "      <td>Swiftly Inc.</td>\n",
       "      <td>Swiftly Transitime</td>\n",
       "      <td>44</td>\n",
       "    </tr>\n",
       "    <tr>\n",
       "      <th>12</th>\n",
       "      <td>Benefits Management</td>\n",
       "      <td>Fiserv</td>\n",
       "      <td>Fiserv - Unspecified</td>\n",
       "      <td>2</td>\n",
       "    </tr>\n",
       "    <tr>\n",
       "      <th>13</th>\n",
       "      <td>Booking software</td>\n",
       "      <td>N/A</td>\n",
       "      <td>Perfect Mind</td>\n",
       "      <td>2</td>\n",
       "    </tr>\n",
       "    <tr>\n",
       "      <th>14</th>\n",
       "      <td>Cash Farebox</td>\n",
       "      <td>Genfare</td>\n",
       "      <td>Genfare Farebox (Unspecified)</td>\n",
       "      <td>94</td>\n",
       "    </tr>\n",
       "    <tr>\n",
       "      <th>15</th>\n",
       "      <td>Computer Automated Dispatch (Fixed)</td>\n",
       "      <td>Clever Devices Ltd.</td>\n",
       "      <td>Clever Devices CleverCAD</td>\n",
       "      <td>40</td>\n",
       "    </tr>\n",
       "    <tr>\n",
       "      <th>16</th>\n",
       "      <td>Computer Automated Dispatch (Responsive)</td>\n",
       "      <td>Connexionz Inc.</td>\n",
       "      <td>Connextionz CAD/AVL</td>\n",
       "      <td>32</td>\n",
       "    </tr>\n",
       "    <tr>\n",
       "      <th>17</th>\n",
       "      <td>Contactless Payment Validators</td>\n",
       "      <td>N/A</td>\n",
       "      <td>Cubic - Unspecified</td>\n",
       "      <td>13</td>\n",
       "    </tr>\n",
       "    <tr>\n",
       "      <th>18</th>\n",
       "      <td>Data Analysis/GIS/Modelling Software</td>\n",
       "      <td>TransTrack Solutions Group</td>\n",
       "      <td>TransTrack Manager</td>\n",
       "      <td>26</td>\n",
       "    </tr>\n",
       "    <tr>\n",
       "      <th>19</th>\n",
       "      <td>Driver Sign-up</td>\n",
       "      <td>Trapeze Group</td>\n",
       "      <td>Trapeze Fixed Route Scheduling</td>\n",
       "      <td>74</td>\n",
       "    </tr>\n",
       "    <tr>\n",
       "      <th>20</th>\n",
       "      <td>Driver Voice Communications</td>\n",
       "      <td>Luminator Technology Group</td>\n",
       "      <td>Luminator Audio Coach Controller</td>\n",
       "      <td>1</td>\n",
       "    </tr>\n",
       "    <tr>\n",
       "      <th>21</th>\n",
       "      <td>Fare Management Software</td>\n",
       "      <td>N/A</td>\n",
       "      <td>Productive Solutions</td>\n",
       "      <td>1</td>\n",
       "    </tr>\n",
       "    <tr>\n",
       "      <th>22</th>\n",
       "      <td>Fare Media Point of Sale</td>\n",
       "      <td>Genfare</td>\n",
       "      <td>Genfare Apos</td>\n",
       "      <td>1</td>\n",
       "    </tr>\n",
       "    <tr>\n",
       "      <th>23</th>\n",
       "      <td>Fare card system</td>\n",
       "      <td>Uber Inc.</td>\n",
       "      <td>RouteMatch - In-Vehicle Technology</td>\n",
       "      <td>36</td>\n",
       "    </tr>\n",
       "    <tr>\n",
       "      <th>24</th>\n",
       "      <td>Fleet Maintenance Software</td>\n",
       "      <td>TransTrack Solutions Group</td>\n",
       "      <td>TransiTrack EAM</td>\n",
       "      <td>1</td>\n",
       "    </tr>\n",
       "    <tr>\n",
       "      <th>25</th>\n",
       "      <td>GTFS Alerts Publication</td>\n",
       "      <td>Swiftly Inc.</td>\n",
       "      <td>Swiftly Transitime</td>\n",
       "      <td>44</td>\n",
       "    </tr>\n",
       "    <tr>\n",
       "      <th>26</th>\n",
       "      <td>GTFS Schedule Publishing</td>\n",
       "      <td>Trillium Inc.</td>\n",
       "      <td>Trillium GTFS Manager</td>\n",
       "      <td>58</td>\n",
       "    </tr>\n",
       "    <tr>\n",
       "      <th>27</th>\n",
       "      <td>GTFS Schedule Validation</td>\n",
       "      <td>IBI</td>\n",
       "      <td>IBI TRANSIT-data-tools</td>\n",
       "      <td>1</td>\n",
       "    </tr>\n",
       "    <tr>\n",
       "      <th>28</th>\n",
       "      <td>GTFS generation</td>\n",
       "      <td>Trillium Inc.</td>\n",
       "      <td>Trillium GTFS Manager</td>\n",
       "      <td>58</td>\n",
       "    </tr>\n",
       "    <tr>\n",
       "      <th>29</th>\n",
       "      <td>General Purpose Software</td>\n",
       "      <td>Microsoft</td>\n",
       "      <td>Excel</td>\n",
       "      <td>50</td>\n",
       "    </tr>\n",
       "    <tr>\n",
       "      <th>30</th>\n",
       "      <td>General Signage</td>\n",
       "      <td>Trapeze Group</td>\n",
       "      <td>Trapeze Signage</td>\n",
       "      <td>22</td>\n",
       "    </tr>\n",
       "    <tr>\n",
       "      <th>31</th>\n",
       "      <td>Headsigns</td>\n",
       "      <td>Hanover Displays Ltd</td>\n",
       "      <td>Hanover Headsigns</td>\n",
       "      <td>28</td>\n",
       "    </tr>\n",
       "    <tr>\n",
       "      <th>32</th>\n",
       "      <td>Human Resources</td>\n",
       "      <td>Avail Technologies Inc.</td>\n",
       "      <td>Avail myAvail Enterprise Transit Management Software</td>\n",
       "      <td>2</td>\n",
       "    </tr>\n",
       "    <tr>\n",
       "      <th>33</th>\n",
       "      <td>Incident Management</td>\n",
       "      <td>Swiftly Inc.</td>\n",
       "      <td>Swiftly Metronome</td>\n",
       "      <td>19</td>\n",
       "    </tr>\n",
       "    <tr>\n",
       "      <th>34</th>\n",
       "      <td>Infotainment</td>\n",
       "      <td>Empressa</td>\n",
       "      <td>Daktronics (Unspecified Model)</td>\n",
       "      <td>10</td>\n",
       "    </tr>\n",
       "    <tr>\n",
       "      <th>35</th>\n",
       "      <td>Interior signage</td>\n",
       "      <td>Clever Devices Ltd.</td>\n",
       "      <td>Clever Devices CleverVision</td>\n",
       "      <td>31</td>\n",
       "    </tr>\n",
       "    <tr>\n",
       "      <th>36</th>\n",
       "      <td>KPI Reporting</td>\n",
       "      <td>INIT SE</td>\n",
       "      <td>INIT (Unspecified Model)</td>\n",
       "      <td>38</td>\n",
       "    </tr>\n",
       "    <tr>\n",
       "      <th>37</th>\n",
       "      <td>Location Sensors</td>\n",
       "      <td>GMV Syncromatics Inc</td>\n",
       "      <td>GMV/Syncromatics Dispatch</td>\n",
       "      <td>39</td>\n",
       "    </tr>\n",
       "    <tr>\n",
       "      <th>38</th>\n",
       "      <td>Merchant services</td>\n",
       "      <td>Elavon</td>\n",
       "      <td>Elavon Merchant Services</td>\n",
       "      <td>9</td>\n",
       "    </tr>\n",
       "    <tr>\n",
       "      <th>39</th>\n",
       "      <td>Mobile Data Terminal Hardware</td>\n",
       "      <td>Hanover Displays Ltd</td>\n",
       "      <td>Hanover On-Board Computer</td>\n",
       "      <td>8</td>\n",
       "    </tr>\n",
       "    <tr>\n",
       "      <th>40</th>\n",
       "      <td>Mobile Device Management</td>\n",
       "      <td>Uber Inc.</td>\n",
       "      <td>RouteMatch - Mobile Device Management</td>\n",
       "      <td>1</td>\n",
       "    </tr>\n",
       "    <tr>\n",
       "      <th>41</th>\n",
       "      <td>Mobile data terminal software</td>\n",
       "      <td>TransLoc</td>\n",
       "      <td>TransLOC (unspecified)</td>\n",
       "      <td>2</td>\n",
       "    </tr>\n",
       "    <tr>\n",
       "      <th>42</th>\n",
       "      <td>Mobile ticketing</td>\n",
       "      <td>INIT SE</td>\n",
       "      <td>INIT (Unspecified Model)</td>\n",
       "      <td>38</td>\n",
       "    </tr>\n",
       "    <tr>\n",
       "      <th>43</th>\n",
       "      <td>Mobile trip planning app</td>\n",
       "      <td>GMV Syncromatics Inc</td>\n",
       "      <td>GMV/Syncromatics Sync</td>\n",
       "      <td>60</td>\n",
       "    </tr>\n",
       "    <tr>\n",
       "      <th>44</th>\n",
       "      <td>N/A</td>\n",
       "      <td>Avail Technologies Inc.</td>\n",
       "      <td>Avail - Unspecified</td>\n",
       "      <td>64</td>\n",
       "    </tr>\n",
       "    <tr>\n",
       "      <th>45</th>\n",
       "      <td>Network Planning</td>\n",
       "      <td>Via Inc.</td>\n",
       "      <td>Remix Transit</td>\n",
       "      <td>11</td>\n",
       "    </tr>\n",
       "    <tr>\n",
       "      <th>46</th>\n",
       "      <td>Offboard signage</td>\n",
       "      <td>GMV Syncromatics Inc</td>\n",
       "      <td>GMV/Syncromatics Digital Signs</td>\n",
       "      <td>35</td>\n",
       "    </tr>\n",
       "    <tr>\n",
       "      <th>47</th>\n",
       "      <td>On-Demand Dispatch</td>\n",
       "      <td>GMV Syncromatics Inc</td>\n",
       "      <td>GMV/Syncromatics Easy Rides</td>\n",
       "      <td>1</td>\n",
       "    </tr>\n",
       "    <tr>\n",
       "      <th>48</th>\n",
       "      <td>Onboard Camera</td>\n",
       "      <td>Luminator Technology Group</td>\n",
       "      <td>Luminator - Unspecified</td>\n",
       "      <td>9</td>\n",
       "    </tr>\n",
       "    <tr>\n",
       "      <th>49</th>\n",
       "      <td>Onboard Computer</td>\n",
       "      <td>Luminator Technology Group</td>\n",
       "      <td>Luminator On Board Video Recorder</td>\n",
       "      <td>1</td>\n",
       "    </tr>\n",
       "    <tr>\n",
       "      <th>50</th>\n",
       "      <td>Onboard Network</td>\n",
       "      <td>GMV Syncromatics Inc</td>\n",
       "      <td>GMV/Syncromatics Onboard WiFi</td>\n",
       "      <td>1</td>\n",
       "    </tr>\n",
       "    <tr>\n",
       "      <th>51</th>\n",
       "      <td>Onboard Router</td>\n",
       "      <td>Icomera AG</td>\n",
       "      <td>Icomera (Unspecified Model)</td>\n",
       "      <td>4</td>\n",
       "    </tr>\n",
       "    <tr>\n",
       "      <th>52</th>\n",
       "      <td>Over-air communications</td>\n",
       "      <td>Connexionz Inc.</td>\n",
       "      <td>Connexionz AVA</td>\n",
       "      <td>7</td>\n",
       "    </tr>\n",
       "    <tr>\n",
       "      <th>53</th>\n",
       "      <td>Parts Inventory</td>\n",
       "      <td>TransTrack Solutions Group</td>\n",
       "      <td>TransiTrack EAM</td>\n",
       "      <td>1</td>\n",
       "    </tr>\n",
       "    <tr>\n",
       "      <th>54</th>\n",
       "      <td>Payment processor</td>\n",
       "      <td>N/A</td>\n",
       "      <td>Elevon</td>\n",
       "      <td>13</td>\n",
       "    </tr>\n",
       "    <tr>\n",
       "      <th>55</th>\n",
       "      <td>Playback</td>\n",
       "      <td>N/A</td>\n",
       "      <td>Korbato</td>\n",
       "      <td>1</td>\n",
       "    </tr>\n",
       "    <tr>\n",
       "      <th>56</th>\n",
       "      <td>Real-time API Monitoring</td>\n",
       "      <td>Open Transit Software Foundation</td>\n",
       "      <td>One Bus Away Watchdog</td>\n",
       "      <td>1</td>\n",
       "    </tr>\n",
       "    <tr>\n",
       "      <th>57</th>\n",
       "      <td>Real-time info</td>\n",
       "      <td>Cubic</td>\n",
       "      <td>Cubic NextBus Suite</td>\n",
       "      <td>92</td>\n",
       "    </tr>\n",
       "    <tr>\n",
       "      <th>58</th>\n",
       "      <td>Run cutting</td>\n",
       "      <td>Trapeze Group</td>\n",
       "      <td>Trapeze Fixed Route Scheduling</td>\n",
       "      <td>74</td>\n",
       "    </tr>\n",
       "    <tr>\n",
       "      <th>59</th>\n",
       "      <td>Scheduling (Demand-Responsive)</td>\n",
       "      <td>Ecolane</td>\n",
       "      <td>Ecolane (Unspecified Model)</td>\n",
       "      <td>4</td>\n",
       "    </tr>\n",
       "    <tr>\n",
       "      <th>60</th>\n",
       "      <td>Scheduling (Fixed-route)</td>\n",
       "      <td>INIT SE</td>\n",
       "      <td>INIT (Unspecified Model)</td>\n",
       "      <td>38</td>\n",
       "    </tr>\n",
       "    <tr>\n",
       "      <th>61</th>\n",
       "      <td>Side signs</td>\n",
       "      <td>SunriseSESA</td>\n",
       "      <td>Sunrise CDP</td>\n",
       "      <td>16</td>\n",
       "    </tr>\n",
       "    <tr>\n",
       "      <th>62</th>\n",
       "      <td>Signage Content Management System</td>\n",
       "      <td>Luminator Technology Group</td>\n",
       "      <td>Luminator iCenter Software - Diag Module</td>\n",
       "      <td>1</td>\n",
       "    </tr>\n",
       "    <tr>\n",
       "      <th>63</th>\n",
       "      <td>Social Alerts</td>\n",
       "      <td>Swiftly Inc.</td>\n",
       "      <td>Swiftly Transitime</td>\n",
       "      <td>44</td>\n",
       "    </tr>\n",
       "    <tr>\n",
       "      <th>64</th>\n",
       "      <td>Supervisory control and data acquisition</td>\n",
       "      <td>Wabtec</td>\n",
       "      <td>Wabtec PTC</td>\n",
       "      <td>1</td>\n",
       "    </tr>\n",
       "    <tr>\n",
       "      <th>65</th>\n",
       "      <td>Ticket Printer</td>\n",
       "      <td>N/A</td>\n",
       "      <td>EvendPC</td>\n",
       "      <td>1</td>\n",
       "    </tr>\n",
       "    <tr>\n",
       "      <th>66</th>\n",
       "      <td>Ticket Vending Machines</td>\n",
       "      <td>VenTek</td>\n",
       "      <td>VenTek venSTATION</td>\n",
       "      <td>15</td>\n",
       "    </tr>\n",
       "    <tr>\n",
       "      <th>67</th>\n",
       "      <td>Transit Atlas</td>\n",
       "      <td>MobilityData</td>\n",
       "      <td>OpenMobilityData</td>\n",
       "      <td>1</td>\n",
       "    </tr>\n",
       "    <tr>\n",
       "      <th>68</th>\n",
       "      <td>Vehicle Health Monitoring</td>\n",
       "      <td>Luminator Technology Group</td>\n",
       "      <td>Luminator - Unspecified</td>\n",
       "      <td>9</td>\n",
       "    </tr>\n",
       "    <tr>\n",
       "      <th>69</th>\n",
       "      <td>Vehicle Logic Unit</td>\n",
       "      <td>Uber Inc.</td>\n",
       "      <td>RouteMatch - RMVelocity Vehicle Logic Unit</td>\n",
       "      <td>1</td>\n",
       "    </tr>\n",
       "    <tr>\n",
       "      <th>70</th>\n",
       "      <td>Web-based trip planner</td>\n",
       "      <td>Uber Inc.</td>\n",
       "      <td>RouteShout</td>\n",
       "      <td>15</td>\n",
       "    </tr>\n",
       "  </tbody>\n",
       "</table>\n",
       "</div>"
      ],
      "text/plain": [
       "                                   component  \\\n",
       "0                        \"Security System\\n\"   \n",
       "1                      APC On-Board Computer   \n",
       "2                                APC Sensors   \n",
       "3                               APC Software   \n",
       "4                      AVL On-board Computer   \n",
       "5                               AVL Software   \n",
       "6                        Advertising Agency    \n",
       "7           Alerts Content Management System   \n",
       "8                Alerts Subscription Service   \n",
       "9                                Annunciator   \n",
       "10                  Archival Operations Data   \n",
       "11                       Arrival predictions   \n",
       "12                       Benefits Management   \n",
       "13                          Booking software   \n",
       "14                              Cash Farebox   \n",
       "15       Computer Automated Dispatch (Fixed)   \n",
       "16  Computer Automated Dispatch (Responsive)   \n",
       "17            Contactless Payment Validators   \n",
       "18      Data Analysis/GIS/Modelling Software   \n",
       "19                            Driver Sign-up   \n",
       "20               Driver Voice Communications   \n",
       "21                  Fare Management Software   \n",
       "22                  Fare Media Point of Sale   \n",
       "23                          Fare card system   \n",
       "24                Fleet Maintenance Software   \n",
       "25                   GTFS Alerts Publication   \n",
       "26                  GTFS Schedule Publishing   \n",
       "27                  GTFS Schedule Validation   \n",
       "28                           GTFS generation   \n",
       "29                  General Purpose Software   \n",
       "30                          General Signage    \n",
       "31                                 Headsigns   \n",
       "32                           Human Resources   \n",
       "33                       Incident Management   \n",
       "34                              Infotainment   \n",
       "35                          Interior signage   \n",
       "36                             KPI Reporting   \n",
       "37                          Location Sensors   \n",
       "38                         Merchant services   \n",
       "39             Mobile Data Terminal Hardware   \n",
       "40                  Mobile Device Management   \n",
       "41             Mobile data terminal software   \n",
       "42                          Mobile ticketing   \n",
       "43                  Mobile trip planning app   \n",
       "44                                       N/A   \n",
       "45                          Network Planning   \n",
       "46                          Offboard signage   \n",
       "47                        On-Demand Dispatch   \n",
       "48                            Onboard Camera   \n",
       "49                          Onboard Computer   \n",
       "50                           Onboard Network   \n",
       "51                            Onboard Router   \n",
       "52                   Over-air communications   \n",
       "53                           Parts Inventory   \n",
       "54                         Payment processor   \n",
       "55                                  Playback   \n",
       "56                  Real-time API Monitoring   \n",
       "57                            Real-time info   \n",
       "58                               Run cutting   \n",
       "59            Scheduling (Demand-Responsive)   \n",
       "60                  Scheduling (Fixed-route)   \n",
       "61                                Side signs   \n",
       "62         Signage Content Management System   \n",
       "63                             Social Alerts   \n",
       "64  Supervisory control and data acquisition   \n",
       "65                            Ticket Printer   \n",
       "66                   Ticket Vending Machines   \n",
       "67                             Transit Atlas   \n",
       "68                 Vehicle Health Monitoring   \n",
       "69                        Vehicle Logic Unit   \n",
       "70                    Web-based trip planner   \n",
       "\n",
       "                              vendor  \\\n",
       "0         Luminator Technology Group   \n",
       "1                         Dilax Inc.   \n",
       "2                                UTA   \n",
       "3               GMV Syncromatics Inc   \n",
       "4               GMV Syncromatics Inc   \n",
       "5                Clever Devices Ltd.   \n",
       "6                                N/A   \n",
       "7                       Swiftly Inc.   \n",
       "8                       Swiftly Inc.   \n",
       "9                       Swiftly Inc.   \n",
       "10           GeoSpatial Technologies   \n",
       "11                      Swiftly Inc.   \n",
       "12                            Fiserv   \n",
       "13                               N/A   \n",
       "14                           Genfare   \n",
       "15               Clever Devices Ltd.   \n",
       "16                   Connexionz Inc.   \n",
       "17                               N/A   \n",
       "18        TransTrack Solutions Group   \n",
       "19                     Trapeze Group   \n",
       "20        Luminator Technology Group   \n",
       "21                               N/A   \n",
       "22                           Genfare   \n",
       "23                         Uber Inc.   \n",
       "24        TransTrack Solutions Group   \n",
       "25                      Swiftly Inc.   \n",
       "26                     Trillium Inc.   \n",
       "27                               IBI   \n",
       "28                     Trillium Inc.   \n",
       "29                         Microsoft   \n",
       "30                     Trapeze Group   \n",
       "31              Hanover Displays Ltd   \n",
       "32           Avail Technologies Inc.   \n",
       "33                      Swiftly Inc.   \n",
       "34                          Empressa   \n",
       "35               Clever Devices Ltd.   \n",
       "36                           INIT SE   \n",
       "37              GMV Syncromatics Inc   \n",
       "38                            Elavon   \n",
       "39              Hanover Displays Ltd   \n",
       "40                         Uber Inc.   \n",
       "41                          TransLoc   \n",
       "42                           INIT SE   \n",
       "43              GMV Syncromatics Inc   \n",
       "44           Avail Technologies Inc.   \n",
       "45                          Via Inc.   \n",
       "46              GMV Syncromatics Inc   \n",
       "47              GMV Syncromatics Inc   \n",
       "48        Luminator Technology Group   \n",
       "49        Luminator Technology Group   \n",
       "50              GMV Syncromatics Inc   \n",
       "51                        Icomera AG   \n",
       "52                   Connexionz Inc.   \n",
       "53        TransTrack Solutions Group   \n",
       "54                               N/A   \n",
       "55                               N/A   \n",
       "56  Open Transit Software Foundation   \n",
       "57                             Cubic   \n",
       "58                     Trapeze Group   \n",
       "59                           Ecolane   \n",
       "60                           INIT SE   \n",
       "61                       SunriseSESA   \n",
       "62        Luminator Technology Group   \n",
       "63                      Swiftly Inc.   \n",
       "64                            Wabtec   \n",
       "65                               N/A   \n",
       "66                            VenTek   \n",
       "67                      MobilityData   \n",
       "68        Luminator Technology Group   \n",
       "69                         Uber Inc.   \n",
       "70                         Uber Inc.   \n",
       "\n",
       "                                    most_popular_product  \\\n",
       "0                                Luminator - Unspecified   \n",
       "1                              Dilax (Unspecified Model)   \n",
       "2                          UTA APC Sensors (Unspecified)   \n",
       "3                              GMV/Syncromatics Dispatch   \n",
       "4                              GMV/Syncromatics Dispatch   \n",
       "5                           Clever Devices - Unspecified   \n",
       "6                                           Intersection   \n",
       "7                                     Swiftly Transitime   \n",
       "8                                     Swiftly Transitime   \n",
       "9                                      Swiftly Metronome   \n",
       "10             GeoSpatial Technologies GST Tracker Suite   \n",
       "11                                    Swiftly Transitime   \n",
       "12                                  Fiserv - Unspecified   \n",
       "13                                          Perfect Mind   \n",
       "14                         Genfare Farebox (Unspecified)   \n",
       "15                              Clever Devices CleverCAD   \n",
       "16                                   Connextionz CAD/AVL   \n",
       "17                                   Cubic - Unspecified   \n",
       "18                                    TransTrack Manager   \n",
       "19                        Trapeze Fixed Route Scheduling   \n",
       "20                      Luminator Audio Coach Controller   \n",
       "21                                  Productive Solutions   \n",
       "22                                          Genfare Apos   \n",
       "23                    RouteMatch - In-Vehicle Technology   \n",
       "24                                       TransiTrack EAM   \n",
       "25                                    Swiftly Transitime   \n",
       "26                                 Trillium GTFS Manager   \n",
       "27                                IBI TRANSIT-data-tools   \n",
       "28                                 Trillium GTFS Manager   \n",
       "29                                                 Excel   \n",
       "30                                       Trapeze Signage   \n",
       "31                                     Hanover Headsigns   \n",
       "32  Avail myAvail Enterprise Transit Management Software   \n",
       "33                                     Swiftly Metronome   \n",
       "34                        Daktronics (Unspecified Model)   \n",
       "35                           Clever Devices CleverVision   \n",
       "36                              INIT (Unspecified Model)   \n",
       "37                             GMV/Syncromatics Dispatch   \n",
       "38                             Elavon Merchant Services    \n",
       "39                             Hanover On-Board Computer   \n",
       "40                 RouteMatch - Mobile Device Management   \n",
       "41                                TransLOC (unspecified)   \n",
       "42                              INIT (Unspecified Model)   \n",
       "43                                GMV/Syncromatics Sync    \n",
       "44                                   Avail - Unspecified   \n",
       "45                                         Remix Transit   \n",
       "46                        GMV/Syncromatics Digital Signs   \n",
       "47                           GMV/Syncromatics Easy Rides   \n",
       "48                               Luminator - Unspecified   \n",
       "49                     Luminator On Board Video Recorder   \n",
       "50                         GMV/Syncromatics Onboard WiFi   \n",
       "51                           Icomera (Unspecified Model)   \n",
       "52                                        Connexionz AVA   \n",
       "53                                       TransiTrack EAM   \n",
       "54                                                Elevon   \n",
       "55                                               Korbato   \n",
       "56                                 One Bus Away Watchdog   \n",
       "57                                  Cubic NextBus Suite    \n",
       "58                        Trapeze Fixed Route Scheduling   \n",
       "59                           Ecolane (Unspecified Model)   \n",
       "60                              INIT (Unspecified Model)   \n",
       "61                                           Sunrise CDP   \n",
       "62              Luminator iCenter Software - Diag Module   \n",
       "63                                    Swiftly Transitime   \n",
       "64                                            Wabtec PTC   \n",
       "65                                               EvendPC   \n",
       "66                                     VenTek venSTATION   \n",
       "67                                      OpenMobilityData   \n",
       "68                               Luminator - Unspecified   \n",
       "69            RouteMatch - RMVelocity Vehicle Logic Unit   \n",
       "70                                            RouteShout   \n",
       "\n",
       "    count_of_orgs_using_product  \n",
       "0                             9  \n",
       "1                             9  \n",
       "2                            26  \n",
       "3                            39  \n",
       "4                            39  \n",
       "5                            50  \n",
       "6                             2  \n",
       "7                            44  \n",
       "8                            44  \n",
       "9                            19  \n",
       "10                            1  \n",
       "11                           44  \n",
       "12                            2  \n",
       "13                            2  \n",
       "14                           94  \n",
       "15                           40  \n",
       "16                           32  \n",
       "17                           13  \n",
       "18                           26  \n",
       "19                           74  \n",
       "20                            1  \n",
       "21                            1  \n",
       "22                            1  \n",
       "23                           36  \n",
       "24                            1  \n",
       "25                           44  \n",
       "26                           58  \n",
       "27                            1  \n",
       "28                           58  \n",
       "29                           50  \n",
       "30                           22  \n",
       "31                           28  \n",
       "32                            2  \n",
       "33                           19  \n",
       "34                           10  \n",
       "35                           31  \n",
       "36                           38  \n",
       "37                           39  \n",
       "38                            9  \n",
       "39                            8  \n",
       "40                            1  \n",
       "41                            2  \n",
       "42                           38  \n",
       "43                           60  \n",
       "44                           64  \n",
       "45                           11  \n",
       "46                           35  \n",
       "47                            1  \n",
       "48                            9  \n",
       "49                            1  \n",
       "50                            1  \n",
       "51                            4  \n",
       "52                            7  \n",
       "53                            1  \n",
       "54                           13  \n",
       "55                            1  \n",
       "56                            1  \n",
       "57                           92  \n",
       "58                           74  \n",
       "59                            4  \n",
       "60                           38  \n",
       "61                           16  \n",
       "62                            1  \n",
       "63                           44  \n",
       "64                            1  \n",
       "65                            1  \n",
       "66                           15  \n",
       "67                            1  \n",
       "68                            9  \n",
       "69                            1  \n",
       "70                           15  "
      ]
     },
     "execution_count": 19,
     "metadata": {},
     "output_type": "execute_result"
    }
   ],
   "source": [
    "popular_products"
   ]
  },
  {
   "cell_type": "markdown",
   "id": "36bd32bc-3186-4a62-9b93-884b7cd12473",
   "metadata": {
    "tags": []
   },
   "source": [
    "## Components Data"
   ]
  },
  {
   "cell_type": "code",
   "execution_count": 20,
   "id": "e70a4f20-a291-4012-8cd7-03ce497a82e6",
   "metadata": {},
   "outputs": [],
   "source": [
    "components = to_snakecase(pd.read_csv(f\"{GCS_FILE_PATH}components-Grid view.csv\"))"
   ]
  },
  {
   "cell_type": "code",
   "execution_count": 21,
   "id": "be6e4d03-f72d-412e-acf6-858d97b5b37f",
   "metadata": {},
   "outputs": [
    {
     "data": {
      "text/plain": [
       "name                               0\n",
       "aliases                           95\n",
       "system                            73\n",
       "location                           1\n",
       "function_group                     3\n",
       "description                       88\n",
       "products                          37\n",
       "organization_stack_components     82\n",
       "example_stacks                    94\n",
       "example_stacks_copy              107\n",
       "properties_+_features             96\n",
       "dtype: int64"
      ]
     },
     "execution_count": 21,
     "metadata": {},
     "output_type": "execute_result"
    }
   ],
   "source": [
    "components.isna().sum()"
   ]
  },
  {
   "cell_type": "code",
   "execution_count": 22,
   "id": "bccb5c22-0889-4c42-930f-ff8fd61c6ba6",
   "metadata": {},
   "outputs": [
    {
     "data": {
      "text/plain": [
       "(107, 11)"
      ]
     },
     "execution_count": 22,
     "metadata": {},
     "output_type": "execute_result"
    }
   ],
   "source": [
    "components.shape"
   ]
  },
  {
   "cell_type": "code",
   "execution_count": 23,
   "id": "7c430144-33cc-4fa1-b87d-19c0defa639a",
   "metadata": {},
   "outputs": [
    {
     "data": {
      "text/plain": [
       "name                               0\n",
       "aliases                           95\n",
       "system                            73\n",
       "location                           1\n",
       "function_group                     3\n",
       "description                       88\n",
       "products                          37\n",
       "organization_stack_components     82\n",
       "example_stacks                    94\n",
       "example_stacks_copy              107\n",
       "properties_+_features             96\n",
       "dtype: int64"
      ]
     },
     "execution_count": 23,
     "metadata": {},
     "output_type": "execute_result"
    }
   ],
   "source": [
    "components.isna().sum()"
   ]
  },
  {
   "cell_type": "code",
   "execution_count": 24,
   "id": "0b243b34-d762-448f-ba13-69b3581bf7db",
   "metadata": {},
   "outputs": [],
   "source": [
    "# https://stackoverflow.com/questions/51502263/pandas-dataframe-object-has-no-attribute-str\n",
    "components[\"count_of_products_in_categories\"] = (\n",
    "    components[\"products\"]\n",
    "    .str.split(\",+\")\n",
    "    .str.len()\n",
    "    .groupby(components.name)\n",
    "    .transform(\"sum\")\n",
    ")"
   ]
  },
  {
   "cell_type": "code",
   "execution_count": 25,
   "id": "13b44e07-f687-4fa4-a20f-b55ed4c360c8",
   "metadata": {},
   "outputs": [
    {
     "data": {
      "text/html": [
       "<div>\n",
       "<style scoped>\n",
       "    .dataframe tbody tr th:only-of-type {\n",
       "        vertical-align: middle;\n",
       "    }\n",
       "\n",
       "    .dataframe tbody tr th {\n",
       "        vertical-align: top;\n",
       "    }\n",
       "\n",
       "    .dataframe thead th {\n",
       "        text-align: right;\n",
       "    }\n",
       "</style>\n",
       "<table border=\"1\" class=\"dataframe\">\n",
       "  <thead>\n",
       "    <tr style=\"text-align: right;\">\n",
       "      <th></th>\n",
       "      <th>name</th>\n",
       "      <th>aliases</th>\n",
       "      <th>system</th>\n",
       "      <th>location</th>\n",
       "      <th>function_group</th>\n",
       "      <th>description</th>\n",
       "      <th>products</th>\n",
       "      <th>organization_stack_components</th>\n",
       "      <th>example_stacks</th>\n",
       "      <th>example_stacks_copy</th>\n",
       "      <th>properties_+_features</th>\n",
       "      <th>count_of_products_in_categories</th>\n",
       "    </tr>\n",
       "  </thead>\n",
       "  <tbody>\n",
       "    <tr>\n",
       "      <th>73</th>\n",
       "      <td>Scheduling (Demand-Responsive)</td>\n",
       "      <td>NaN</td>\n",
       "      <td>Demand-Responsive Scheduling</td>\n",
       "      <td>Backoffice</td>\n",
       "      <td>Scheduling</td>\n",
       "      <td>NaN</td>\n",
       "      <td>Ecolane (Unspecified Model),TripShot - Unspecified</td>\n",
       "      <td>NaN</td>\n",
       "      <td>NaN</td>\n",
       "      <td>NaN</td>\n",
       "      <td>NaN</td>\n",
       "      <td>2.00</td>\n",
       "    </tr>\n",
       "  </tbody>\n",
       "</table>\n",
       "</div>"
      ],
      "text/plain": [
       "                              name aliases                        system  \\\n",
       "73  Scheduling (Demand-Responsive)     NaN  Demand-Responsive Scheduling   \n",
       "\n",
       "      location function_group description  \\\n",
       "73  Backoffice     Scheduling         NaN   \n",
       "\n",
       "                                              products  \\\n",
       "73  Ecolane (Unspecified Model),TripShot - Unspecified   \n",
       "\n",
       "   organization_stack_components example_stacks  example_stacks_copy  \\\n",
       "73                           NaN            NaN                  NaN   \n",
       "\n",
       "   properties_+_features  count_of_products_in_categories  \n",
       "73                   NaN                             2.00  "
      ]
     },
     "execution_count": 25,
     "metadata": {},
     "output_type": "execute_result"
    }
   ],
   "source": [
    "components.loc[components[\"name\"] == \"Scheduling (Demand-Responsive)\"]"
   ]
  },
  {
   "cell_type": "markdown",
   "id": "bcf4a30e-8a4d-4eda-b8ab-10b81c74d641",
   "metadata": {
    "tags": []
   },
   "source": [
    "### Top 10 \"crowded\" product categories\n",
    "* Count number of strings in the \"products\" column and group by \"name\" column to get total number of products in each sector.\n",
    "* Real-time info is the most \"crowded\" category with 32 different products.\n",
    "* Most categories only have one product.\n",
    "* About 4 unique products in each category, when filtering out any categories with 0 products recorded."
   ]
  },
  {
   "cell_type": "code",
   "execution_count": 26,
   "id": "231e9f42-68aa-4426-9b6e-26330ef1a9ce",
   "metadata": {},
   "outputs": [
    {
     "data": {
      "text/plain": [
       "'107 unique categories'"
      ]
     },
     "execution_count": 26,
     "metadata": {},
     "output_type": "execute_result"
    }
   ],
   "source": [
    "f\"{components.name.nunique()} unique categories\""
   ]
  },
  {
   "cell_type": "code",
   "execution_count": 27,
   "id": "5b1ca6ef-c13e-4641-828d-cfa7572065b3",
   "metadata": {},
   "outputs": [],
   "source": [
    "def bar_chart(df, x_col, y_col):\n",
    "    chart = (\n",
    "        alt.Chart(df)\n",
    "        .mark_bar()\n",
    "        .encode(\n",
    "            x=x_col,\n",
    "            y=y_col,\n",
    "            color=alt.Color(x_col, scale=alt.Scale(scheme=\"tealblues\")),\n",
    "        )\n",
    "    )\n",
    "    return chart"
   ]
  },
  {
   "cell_type": "code",
   "execution_count": 28,
   "id": "c17d5d9d-9628-4ff6-b334-b316b8bfe23c",
   "metadata": {
    "tags": []
   },
   "outputs": [],
   "source": [
    "product_categories = (\n",
    "    components[[\"name\", \"count_of_products_in_categories\"]]\n",
    "    .sort_values(\"count_of_products_in_categories\", ascending=False)\n",
    "    .rename(columns={\"name\": \"category\"})\n",
    ")"
   ]
  },
  {
   "cell_type": "code",
   "execution_count": 29,
   "id": "47fc9d4a-f4c0-4725-abf8-d10c88a148ed",
   "metadata": {},
   "outputs": [],
   "source": [
    "# filter out any categories with 0 products - 37 values are empty\n",
    "product_categories = product_categories[\n",
    "    product_categories[\"count_of_products_in_categories\"] > 0\n",
    "]"
   ]
  },
  {
   "cell_type": "code",
   "execution_count": 30,
   "id": "be286754-3695-4e23-a193-ca777f2c663e",
   "metadata": {},
   "outputs": [
    {
     "data": {
      "text/plain": [
       "'4.0 average products per category'"
      ]
     },
     "execution_count": 30,
     "metadata": {},
     "output_type": "execute_result"
    }
   ],
   "source": [
    "f\"{product_categories.count_of_products_in_categories.median()} average products per category\""
   ]
  },
  {
   "cell_type": "code",
   "execution_count": 31,
   "id": "ef09d20f-dbba-47dc-a8f9-ee7152b732ae",
   "metadata": {},
   "outputs": [],
   "source": [
    "most_saturated_category = product_categories.head(10)"
   ]
  },
  {
   "cell_type": "code",
   "execution_count": 32,
   "id": "53367770-710c-4f09-b9fc-b01f9c4435cf",
   "metadata": {},
   "outputs": [
    {
     "data": {
      "text/html": [
       "\n",
       "<div id=\"altair-viz-777d83ba5670426db5651d90e7049cf5\"></div>\n",
       "<script type=\"text/javascript\">\n",
       "  var VEGA_DEBUG = (typeof VEGA_DEBUG == \"undefined\") ? {} : VEGA_DEBUG;\n",
       "  (function(spec, embedOpt){\n",
       "    let outputDiv = document.currentScript.previousElementSibling;\n",
       "    if (outputDiv.id !== \"altair-viz-777d83ba5670426db5651d90e7049cf5\") {\n",
       "      outputDiv = document.getElementById(\"altair-viz-777d83ba5670426db5651d90e7049cf5\");\n",
       "    }\n",
       "    const paths = {\n",
       "      \"vega\": \"https://cdn.jsdelivr.net/npm//vega@5?noext\",\n",
       "      \"vega-lib\": \"https://cdn.jsdelivr.net/npm//vega-lib?noext\",\n",
       "      \"vega-lite\": \"https://cdn.jsdelivr.net/npm//vega-lite@4.17.0?noext\",\n",
       "      \"vega-embed\": \"https://cdn.jsdelivr.net/npm//vega-embed@6?noext\",\n",
       "    };\n",
       "\n",
       "    function maybeLoadScript(lib, version) {\n",
       "      var key = `${lib.replace(\"-\", \"\")}_version`;\n",
       "      return (VEGA_DEBUG[key] == version) ?\n",
       "        Promise.resolve(paths[lib]) :\n",
       "        new Promise(function(resolve, reject) {\n",
       "          var s = document.createElement('script');\n",
       "          document.getElementsByTagName(\"head\")[0].appendChild(s);\n",
       "          s.async = true;\n",
       "          s.onload = () => {\n",
       "            VEGA_DEBUG[key] = version;\n",
       "            return resolve(paths[lib]);\n",
       "          };\n",
       "          s.onerror = () => reject(`Error loading script: ${paths[lib]}`);\n",
       "          s.src = paths[lib];\n",
       "        });\n",
       "    }\n",
       "\n",
       "    function showError(err) {\n",
       "      outputDiv.innerHTML = `<div class=\"error\" style=\"color:red;\">${err}</div>`;\n",
       "      throw err;\n",
       "    }\n",
       "\n",
       "    function displayChart(vegaEmbed) {\n",
       "      vegaEmbed(outputDiv, spec, embedOpt)\n",
       "        .catch(err => showError(`Javascript Error: ${err.message}<br>This usually means there's a typo in your chart specification. See the javascript console for the full traceback.`));\n",
       "    }\n",
       "\n",
       "    if(typeof define === \"function\" && define.amd) {\n",
       "      requirejs.config({paths});\n",
       "      require([\"vega-embed\"], displayChart, err => showError(`Error loading script: ${err.message}`));\n",
       "    } else {\n",
       "      maybeLoadScript(\"vega\", \"5\")\n",
       "        .then(() => maybeLoadScript(\"vega-lite\", \"4.17.0\"))\n",
       "        .then(() => maybeLoadScript(\"vega-embed\", \"6\"))\n",
       "        .catch(showError)\n",
       "        .then(() => displayChart(vegaEmbed));\n",
       "    }\n",
       "  })({\"config\": {\"view\": {\"continuousWidth\": 400, \"continuousHeight\": 300}}, \"data\": {\"name\": \"data-169c0dc1ad83e952580f8364b3d56419\"}, \"mark\": \"bar\", \"encoding\": {\"color\": {\"field\": \"count_of_products_in_categories\", \"scale\": {\"scheme\": \"tealblues\"}, \"type\": \"quantitative\"}, \"x\": {\"field\": \"count_of_products_in_categories\", \"type\": \"quantitative\"}, \"y\": {\"field\": \"category\", \"type\": \"nominal\"}}, \"$schema\": \"https://vega.github.io/schema/vega-lite/v4.17.0.json\", \"datasets\": {\"data-169c0dc1ad83e952580f8364b3d56419\": [{\"category\": \"Real-time info\", \"count_of_products_in_categories\": 32.0}, {\"category\": \"Mobile trip planning app\", \"count_of_products_in_categories\": 19.0}, {\"category\": \"AVL On-board Computer\", \"count_of_products_in_categories\": 19.0}, {\"category\": \"Cash Farebox\", \"count_of_products_in_categories\": 17.0}, {\"category\": \"Offboard signage\", \"count_of_products_in_categories\": 16.0}, {\"category\": \"APC Sensors\", \"count_of_products_in_categories\": 14.0}, {\"category\": \"Payment processor\", \"count_of_products_in_categories\": 14.0}, {\"category\": \"Mobile ticketing\", \"count_of_products_in_categories\": 13.0}, {\"category\": \"KPI Reporting\", \"count_of_products_in_categories\": 12.0}, {\"category\": \"Web-based trip planner\", \"count_of_products_in_categories\": 12.0}]}}, {\"mode\": \"vega-lite\"});\n",
       "</script>"
      ],
      "text/plain": [
       "alt.Chart(...)"
      ]
     },
     "execution_count": 32,
     "metadata": {},
     "output_type": "execute_result"
    }
   ],
   "source": [
    "bar_chart(most_saturated_category, \"count_of_products_in_categories\", \"category\")"
   ]
  },
  {
   "cell_type": "markdown",
   "id": "ad737c48-945b-4d1a-9c45-9af3b10cfb5c",
   "metadata": {},
   "source": [
    "### Function Groups\n",
    "* Most of the products are under the \"operations\" group."
   ]
  },
  {
   "cell_type": "code",
   "execution_count": 33,
   "id": "7d6c46c8-50bb-48a3-9f08-bf616cc9a3e3",
   "metadata": {},
   "outputs": [
    {
     "data": {
      "text/plain": [
       "Operations         46\n",
       "Rider info         20\n",
       "Fare collection    10\n",
       "Scheduling          7\n",
       "Backoffice          6\n",
       "Maintenance         6\n",
       "IT                  4\n",
       "Traffic             3\n",
       "Reporting           1\n",
       "Rider Info          1\n",
       "Name: function_group, dtype: int64"
      ]
     },
     "execution_count": 33,
     "metadata": {},
     "output_type": "execute_result"
    }
   ],
   "source": [
    "components.function_group.value_counts()"
   ]
  },
  {
   "cell_type": "markdown",
   "id": "a38b6002-87c8-4e5d-af59-33905d0c12f4",
   "metadata": {
    "tags": []
   },
   "source": [
    "## Contracts Data"
   ]
  },
  {
   "cell_type": "code",
   "execution_count": 34,
   "id": "e0c6b2cc-c997-40dc-a47e-88d0b7cb7428",
   "metadata": {},
   "outputs": [],
   "source": [
    "contracts = (\n",
    "    to_snakecase(pd.read_csv(f\"{GCS_FILE_PATH}contracts-Grid view.csv\"))\n",
    "    .drop(columns=[\"attachments\", \"organization_stack_components\", \"name\"])\n",
    "    .rename(\n",
    "        columns={\n",
    "            \"type_of_contract:_functional_category\": \"functional_category\",\n",
    "            \"type_of_contract:_functions\": \"contract_type\",\n",
    "        }\n",
    "    )\n",
    ")"
   ]
  },
  {
   "cell_type": "code",
   "execution_count": 35,
   "id": "93437150-0a63-45df-8089-acca23fb7bca",
   "metadata": {},
   "outputs": [
    {
     "data": {
      "text/plain": [
       "(128, 10)"
      ]
     },
     "execution_count": 35,
     "metadata": {},
     "output_type": "execute_result"
    }
   ],
   "source": [
    "contracts.shape"
   ]
  },
  {
   "cell_type": "code",
   "execution_count": 36,
   "id": "754f2767-3793-4ad8-b179-0259b1760d63",
   "metadata": {},
   "outputs": [
    {
     "data": {
      "text/plain": [
       "contract_holder          0\n",
       "contract_vendor          0\n",
       "contract_name           19\n",
       "functional_category      0\n",
       "contract_type            0\n",
       "start_date               5\n",
       "end_date                89\n",
       "renewal_option           0\n",
       "value                  119\n",
       "notes                  110\n",
       "dtype: int64"
      ]
     },
     "execution_count": 36,
     "metadata": {},
     "output_type": "execute_result"
    }
   ],
   "source": [
    "contracts.isna().sum()"
   ]
  },
  {
   "cell_type": "code",
   "execution_count": 37,
   "id": "5d3857c4-d45c-490c-84a6-7de3f3a7f660",
   "metadata": {},
   "outputs": [
    {
     "data": {
      "text/html": [
       "<div>\n",
       "<style scoped>\n",
       "    .dataframe tbody tr th:only-of-type {\n",
       "        vertical-align: middle;\n",
       "    }\n",
       "\n",
       "    .dataframe tbody tr th {\n",
       "        vertical-align: top;\n",
       "    }\n",
       "\n",
       "    .dataframe thead th {\n",
       "        text-align: right;\n",
       "    }\n",
       "</style>\n",
       "<table border=\"1\" class=\"dataframe\">\n",
       "  <thead>\n",
       "    <tr style=\"text-align: right;\">\n",
       "      <th></th>\n",
       "      <th>contract_holder</th>\n",
       "      <th>contract_vendor</th>\n",
       "      <th>contract_name</th>\n",
       "      <th>functional_category</th>\n",
       "      <th>contract_type</th>\n",
       "      <th>start_date</th>\n",
       "      <th>end_date</th>\n",
       "      <th>renewal_option</th>\n",
       "      <th>value</th>\n",
       "      <th>notes</th>\n",
       "    </tr>\n",
       "  </thead>\n",
       "  <tbody>\n",
       "    <tr>\n",
       "      <th>46</th>\n",
       "      <td>Eastern Contra Costa Transit Authority</td>\n",
       "      <td>TransTrack Solutions Group</td>\n",
       "      <td>**Tri Delta Transit</td>\n",
       "      <td>Reporting</td>\n",
       "      <td>Reporting software</td>\n",
       "      <td>2019-03-04</td>\n",
       "      <td>NaN</td>\n",
       "      <td>None</td>\n",
       "      <td>NaN</td>\n",
       "      <td>NaN</td>\n",
       "    </tr>\n",
       "    <tr>\n",
       "      <th>82</th>\n",
       "      <td>San Joaquin Regional Rail Commission</td>\n",
       "      <td>Hobnob</td>\n",
       "      <td>NaN</td>\n",
       "      <td>Onboard rider information</td>\n",
       "      <td>Passenger Wifi</td>\n",
       "      <td>2015-07-01</td>\n",
       "      <td>2019-06-01</td>\n",
       "      <td>None</td>\n",
       "      <td>3762.98</td>\n",
       "      <td>NaN</td>\n",
       "    </tr>\n",
       "  </tbody>\n",
       "</table>\n",
       "</div>"
      ],
      "text/plain": [
       "                           contract_holder             contract_vendor  \\\n",
       "46  Eastern Contra Costa Transit Authority  TransTrack Solutions Group   \n",
       "82    San Joaquin Regional Rail Commission                      Hobnob   \n",
       "\n",
       "          contract_name        functional_category       contract_type  \\\n",
       "46  **Tri Delta Transit                  Reporting  Reporting software   \n",
       "82                  NaN  Onboard rider information      Passenger Wifi   \n",
       "\n",
       "    start_date    end_date renewal_option   value notes  \n",
       "46  2019-03-04         NaN           None     NaN   NaN  \n",
       "82  2015-07-01  2019-06-01           None 3762.98   NaN  "
      ]
     },
     "execution_count": 37,
     "metadata": {},
     "output_type": "execute_result"
    }
   ],
   "source": [
    "contracts.sample(2)"
   ]
  },
  {
   "cell_type": "code",
   "execution_count": 38,
   "id": "0dd5cb5e-b67f-4ebf-88e8-f1493e3716b4",
   "metadata": {},
   "outputs": [
    {
     "data": {
      "text/plain": [
       "'51 organizations in contracts data set'"
      ]
     },
     "execution_count": 38,
     "metadata": {},
     "output_type": "execute_result"
    }
   ],
   "source": [
    "f\"{ contracts.contract_holder.nunique()} organizations in contracts data set\""
   ]
  },
  {
   "cell_type": "code",
   "execution_count": 39,
   "id": "378d0c64-112f-4b11-bf08-48b8c3a15d5a",
   "metadata": {},
   "outputs": [
    {
     "data": {
      "text/plain": [
       "'37 vendors in contracts data set'"
      ]
     },
     "execution_count": 39,
     "metadata": {},
     "output_type": "execute_result"
    }
   ],
   "source": [
    "f\"{ contracts.contract_vendor.nunique()} vendors in contracts data set\""
   ]
  },
  {
   "cell_type": "markdown",
   "id": "6fca2993-9299-48c2-af1a-3d30ae894d85",
   "metadata": {},
   "source": [
    "### 125 contracts have none/no record for renewal options, 3 autorenews"
   ]
  },
  {
   "cell_type": "code",
   "execution_count": 40,
   "id": "43fea934-b604-4d52-82c3-0b65a51ad444",
   "metadata": {},
   "outputs": [
    {
     "data": {
      "text/plain": [
       "None           125\n",
       "Auto-renews      3\n",
       "Name: renewal_option, dtype: int64"
      ]
     },
     "execution_count": 40,
     "metadata": {},
     "output_type": "execute_result"
    }
   ],
   "source": [
    "contracts.renewal_option.value_counts()"
   ]
  },
  {
   "cell_type": "markdown",
   "id": "6f7ff816-83f2-4a42-9472-bb0e6275b997",
   "metadata": {
    "tags": []
   },
   "source": [
    "### For contracts with an end date, average duration is 3 years.\n",
    "* Only 30 rows have end date values populated."
   ]
  },
  {
   "cell_type": "code",
   "execution_count": 41,
   "id": "042eb69c-916f-40f2-89fc-6f04e42f0575",
   "metadata": {},
   "outputs": [],
   "source": [
    "# Editing date time cols to the right data type\n",
    "contracts = contracts.assign(\n",
    "    start_date=pd.to_datetime(contracts.start_date, errors=\"coerce\"),\n",
    "    end_date=pd.to_datetime(contracts.end_date, errors=\"coerce\"),\n",
    ")"
   ]
  },
  {
   "cell_type": "code",
   "execution_count": 42,
   "id": "5e1cc8c7-f0e4-4e7f-aa5d-b96cf7e16eff",
   "metadata": {},
   "outputs": [],
   "source": [
    "# new column for duration of contract year.\n",
    "contracts[\"duration_of_contract_year\"] = (\n",
    "    (contracts[\"end_date\"] - contracts[\"start_date\"]).dt.days\n",
    ") / 365"
   ]
  },
  {
   "cell_type": "code",
   "execution_count": 43,
   "id": "1f6aa054-5113-4402-a5f7-e63e394d464f",
   "metadata": {},
   "outputs": [
    {
     "data": {
      "text/plain": [
       "3.0027397260273974"
      ]
     },
     "execution_count": 43,
     "metadata": {},
     "output_type": "execute_result"
    }
   ],
   "source": [
    "# Average contract length in years\n",
    "filtered_for_end_date = contracts[contracts[\"end_date\"].notnull()]\n",
    "filtered_for_end_date[\"duration_of_contract_year\"].median()"
   ]
  },
  {
   "cell_type": "markdown",
   "id": "214cb95e-2fad-485c-9e27-cdc1c4cebeae",
   "metadata": {},
   "source": [
    "### Separate contract type.\n",
    "* There are 67 different types because of all the combinations of GTFS, mobile ticketing, etc, separating them out by commas might make it easier to to analyze?"
   ]
  },
  {
   "cell_type": "code",
   "execution_count": 44,
   "id": "7460ea66-d7aa-4641-b2e6-5aaec200f735",
   "metadata": {},
   "outputs": [
    {
     "data": {
      "text/plain": [
       "'67 unique contract types'"
      ]
     },
     "execution_count": 44,
     "metadata": {},
     "output_type": "execute_result"
    }
   ],
   "source": [
    "f\"{ contracts.contract_type.nunique()} unique contract types\""
   ]
  },
  {
   "cell_type": "code",
   "execution_count": 61,
   "id": "07f455ab-c689-4480-b186-0111720fa0b5",
   "metadata": {},
   "outputs": [],
   "source": [
    "contracts.contract_type = contracts.contract_type.replace({\"Payment processor/Merchant services\": \"Payment Processor or Merchant Services\"})"
   ]
  },
  {
   "cell_type": "code",
   "execution_count": 62,
   "id": "0ed3c405-49a6-4113-a62e-210ccbf6fe45",
   "metadata": {},
   "outputs": [],
   "source": [
    "# https://stackoverflow.com/questions/52575290/how-to-separate-string-into-multiple-rows-in-pandas\n",
    "contract_type = contracts[\"contract_type\"].str.split(\",\")\n",
    "cols = contracts.columns.difference([\"contract_type\"])"
   ]
  },
  {
   "cell_type": "code",
   "execution_count": 63,
   "id": "74631af9-f4c8-4ac3-a44a-c740aaaba3e2",
   "metadata": {},
   "outputs": [],
   "source": [
    "contracts_delinated = contracts.loc[\n",
    "    contracts.index.repeat(contract_type.str.len()), cols\n",
    "].assign(contract_type_use=list(chain.from_iterable(contract_type.tolist())))"
   ]
  },
  {
   "cell_type": "code",
   "execution_count": 64,
   "id": "af5a684b-20bf-4933-a9f5-a3dd7c895331",
   "metadata": {
    "tags": []
   },
   "outputs": [
    {
     "data": {
      "text/plain": [
       "array(['GTFS Generation', 'Arrival predictions', 'Vehicle Locations',\n",
       "       'MDT', 'Interior signage', 'Annunciator', 'Headsigns',\n",
       "       'GTFS-rt vehicles/trips', 'Realtime info', 'Farebox ',\n",
       "       'Offboard signage', 'Mobile trip planner ', 'Cellular Data',\n",
       "       'Mobile ticketing', 'Reporting software', 'Network Planning',\n",
       "       'Real-time service alerts', 'APC', 'Scheduling',\n",
       "       'Alt fare validator', 'Fare card system', 'Web trip planner ',\n",
       "       'Timetable generation', 'GTFS-rt service alerts', 'Alert system',\n",
       "       'Scheduling Software', 'Payment Processor plus Merchant Services',\n",
       "       'Passenger Wifi', 'Ticket vending machines',\n",
       "       'Payment processor/Merchant services', 'Mobile Alerts'],\n",
       "      dtype=object)"
      ]
     },
     "execution_count": 64,
     "metadata": {},
     "output_type": "execute_result"
    }
   ],
   "source": [
    "contracts_delinated.contract_type_use.unique()"
   ]
  },
  {
   "cell_type": "code",
   "execution_count": 49,
   "id": "6fd0bbcc-3bb7-4c00-82e3-a61ac6d437f3",
   "metadata": {
    "scrolled": true,
    "tags": []
   },
   "outputs": [
    {
     "data": {
      "text/html": [
       "<div>\n",
       "<style scoped>\n",
       "    .dataframe tbody tr th:only-of-type {\n",
       "        vertical-align: middle;\n",
       "    }\n",
       "\n",
       "    .dataframe tbody tr th {\n",
       "        vertical-align: top;\n",
       "    }\n",
       "\n",
       "    .dataframe thead th {\n",
       "        text-align: right;\n",
       "    }\n",
       "</style>\n",
       "<table border=\"1\" class=\"dataframe\">\n",
       "  <thead>\n",
       "    <tr style=\"text-align: right;\">\n",
       "      <th></th>\n",
       "      <th>contract_holder</th>\n",
       "      <th>contract_name</th>\n",
       "      <th>contract_vendor</th>\n",
       "      <th>duration_of_contract_year</th>\n",
       "      <th>end_date</th>\n",
       "      <th>functional_category</th>\n",
       "      <th>notes</th>\n",
       "      <th>renewal_option</th>\n",
       "      <th>start_date</th>\n",
       "      <th>value</th>\n",
       "      <th>contract_type_use</th>\n",
       "    </tr>\n",
       "  </thead>\n",
       "  <tbody>\n",
       "    <tr>\n",
       "      <th>127</th>\n",
       "      <td>Yuba-Sutter Transit Authority</td>\n",
       "      <td>Label used for the procurement.</td>\n",
       "      <td>DoubleMap Inc.</td>\n",
       "      <td>5.00</td>\n",
       "      <td>2023-11-06</td>\n",
       "      <td>CAD/AVL,Onboard rider information</td>\n",
       "      <td>NaN</td>\n",
       "      <td>None</td>\n",
       "      <td>2018-11-07</td>\n",
       "      <td>NaN</td>\n",
       "      <td>Vehicle Locations</td>\n",
       "    </tr>\n",
       "    <tr>\n",
       "      <th>127</th>\n",
       "      <td>Yuba-Sutter Transit Authority</td>\n",
       "      <td>Label used for the procurement.</td>\n",
       "      <td>DoubleMap Inc.</td>\n",
       "      <td>5.00</td>\n",
       "      <td>2023-11-06</td>\n",
       "      <td>CAD/AVL,Onboard rider information</td>\n",
       "      <td>NaN</td>\n",
       "      <td>None</td>\n",
       "      <td>2018-11-07</td>\n",
       "      <td>NaN</td>\n",
       "      <td>Arrival predictions</td>\n",
       "    </tr>\n",
       "    <tr>\n",
       "      <th>127</th>\n",
       "      <td>Yuba-Sutter Transit Authority</td>\n",
       "      <td>Label used for the procurement.</td>\n",
       "      <td>DoubleMap Inc.</td>\n",
       "      <td>5.00</td>\n",
       "      <td>2023-11-06</td>\n",
       "      <td>CAD/AVL,Onboard rider information</td>\n",
       "      <td>NaN</td>\n",
       "      <td>None</td>\n",
       "      <td>2018-11-07</td>\n",
       "      <td>NaN</td>\n",
       "      <td>Headsigns</td>\n",
       "    </tr>\n",
       "    <tr>\n",
       "      <th>127</th>\n",
       "      <td>Yuba-Sutter Transit Authority</td>\n",
       "      <td>Label used for the procurement.</td>\n",
       "      <td>DoubleMap Inc.</td>\n",
       "      <td>5.00</td>\n",
       "      <td>2023-11-06</td>\n",
       "      <td>CAD/AVL,Onboard rider information</td>\n",
       "      <td>NaN</td>\n",
       "      <td>None</td>\n",
       "      <td>2018-11-07</td>\n",
       "      <td>NaN</td>\n",
       "      <td>Interior signage</td>\n",
       "    </tr>\n",
       "  </tbody>\n",
       "</table>\n",
       "</div>"
      ],
      "text/plain": [
       "                   contract_holder                    contract_name  \\\n",
       "127  Yuba-Sutter Transit Authority  Label used for the procurement.   \n",
       "127  Yuba-Sutter Transit Authority  Label used for the procurement.   \n",
       "127  Yuba-Sutter Transit Authority  Label used for the procurement.   \n",
       "127  Yuba-Sutter Transit Authority  Label used for the procurement.   \n",
       "\n",
       "    contract_vendor  duration_of_contract_year   end_date  \\\n",
       "127  DoubleMap Inc.                       5.00 2023-11-06   \n",
       "127  DoubleMap Inc.                       5.00 2023-11-06   \n",
       "127  DoubleMap Inc.                       5.00 2023-11-06   \n",
       "127  DoubleMap Inc.                       5.00 2023-11-06   \n",
       "\n",
       "                   functional_category notes renewal_option start_date  value  \\\n",
       "127  CAD/AVL,Onboard rider information   NaN           None 2018-11-07    NaN   \n",
       "127  CAD/AVL,Onboard rider information   NaN           None 2018-11-07    NaN   \n",
       "127  CAD/AVL,Onboard rider information   NaN           None 2018-11-07    NaN   \n",
       "127  CAD/AVL,Onboard rider information   NaN           None 2018-11-07    NaN   \n",
       "\n",
       "       contract_type_use  \n",
       "127    Vehicle Locations  \n",
       "127  Arrival predictions  \n",
       "127            Headsigns  \n",
       "127     Interior signage  "
      ]
     },
     "execution_count": 49,
     "metadata": {},
     "output_type": "execute_result"
    }
   ],
   "source": [
    "contracts_delinated.loc[\n",
    "    contracts_delinated[\"contract_holder\"] == \"Yuba-Sutter Transit Authority\"\n",
    "]"
   ]
  },
  {
   "cell_type": "markdown",
   "id": "0d0512e7-e176-40b0-8887-dc25c60d6b9a",
   "metadata": {},
   "source": [
    "\n",
    "### Most common contract element\n",
    "* Most contracts have an element of GTFS Generation, followed by Vehicle Locations, and Arrival Predictions."
   ]
  },
  {
   "cell_type": "code",
   "execution_count": 50,
   "id": "90743c2d-0e12-4400-82e8-06df1ae202e5",
   "metadata": {},
   "outputs": [],
   "source": [
    "most_common_contract_product = (\n",
    "    contracts_delinated.contract_type_use.value_counts()\n",
    "    .to_frame()\n",
    "    .reset_index()\n",
    "    .rename(\n",
    "        columns={\"index\": \"product_type\", \"contract_type_use\": \"number_of_contracts\"}\n",
    "    )\n",
    "    .head(10)\n",
    ")"
   ]
  },
  {
   "cell_type": "code",
   "execution_count": 51,
   "id": "1a1ed944-a1ba-443c-aaaa-8671bbd51624",
   "metadata": {},
   "outputs": [
    {
     "data": {
      "text/html": [
       "\n",
       "<div id=\"altair-viz-d548e76e4c5847dc8d6d4526138e0feb\"></div>\n",
       "<script type=\"text/javascript\">\n",
       "  var VEGA_DEBUG = (typeof VEGA_DEBUG == \"undefined\") ? {} : VEGA_DEBUG;\n",
       "  (function(spec, embedOpt){\n",
       "    let outputDiv = document.currentScript.previousElementSibling;\n",
       "    if (outputDiv.id !== \"altair-viz-d548e76e4c5847dc8d6d4526138e0feb\") {\n",
       "      outputDiv = document.getElementById(\"altair-viz-d548e76e4c5847dc8d6d4526138e0feb\");\n",
       "    }\n",
       "    const paths = {\n",
       "      \"vega\": \"https://cdn.jsdelivr.net/npm//vega@5?noext\",\n",
       "      \"vega-lib\": \"https://cdn.jsdelivr.net/npm//vega-lib?noext\",\n",
       "      \"vega-lite\": \"https://cdn.jsdelivr.net/npm//vega-lite@4.17.0?noext\",\n",
       "      \"vega-embed\": \"https://cdn.jsdelivr.net/npm//vega-embed@6?noext\",\n",
       "    };\n",
       "\n",
       "    function maybeLoadScript(lib, version) {\n",
       "      var key = `${lib.replace(\"-\", \"\")}_version`;\n",
       "      return (VEGA_DEBUG[key] == version) ?\n",
       "        Promise.resolve(paths[lib]) :\n",
       "        new Promise(function(resolve, reject) {\n",
       "          var s = document.createElement('script');\n",
       "          document.getElementsByTagName(\"head\")[0].appendChild(s);\n",
       "          s.async = true;\n",
       "          s.onload = () => {\n",
       "            VEGA_DEBUG[key] = version;\n",
       "            return resolve(paths[lib]);\n",
       "          };\n",
       "          s.onerror = () => reject(`Error loading script: ${paths[lib]}`);\n",
       "          s.src = paths[lib];\n",
       "        });\n",
       "    }\n",
       "\n",
       "    function showError(err) {\n",
       "      outputDiv.innerHTML = `<div class=\"error\" style=\"color:red;\">${err}</div>`;\n",
       "      throw err;\n",
       "    }\n",
       "\n",
       "    function displayChart(vegaEmbed) {\n",
       "      vegaEmbed(outputDiv, spec, embedOpt)\n",
       "        .catch(err => showError(`Javascript Error: ${err.message}<br>This usually means there's a typo in your chart specification. See the javascript console for the full traceback.`));\n",
       "    }\n",
       "\n",
       "    if(typeof define === \"function\" && define.amd) {\n",
       "      requirejs.config({paths});\n",
       "      require([\"vega-embed\"], displayChart, err => showError(`Error loading script: ${err.message}`));\n",
       "    } else {\n",
       "      maybeLoadScript(\"vega\", \"5\")\n",
       "        .then(() => maybeLoadScript(\"vega-lite\", \"4.17.0\"))\n",
       "        .then(() => maybeLoadScript(\"vega-embed\", \"6\"))\n",
       "        .catch(showError)\n",
       "        .then(() => displayChart(vegaEmbed));\n",
       "    }\n",
       "  })({\"config\": {\"view\": {\"continuousWidth\": 400, \"continuousHeight\": 300}}, \"data\": {\"name\": \"data-cb8257354940b61baf631803d43a179d\"}, \"mark\": \"bar\", \"encoding\": {\"color\": {\"field\": \"number_of_contracts\", \"scale\": {\"scheme\": \"tealblues\"}, \"type\": \"quantitative\"}, \"x\": {\"field\": \"number_of_contracts\", \"type\": \"quantitative\"}, \"y\": {\"field\": \"product_type\", \"type\": \"nominal\"}}, \"$schema\": \"https://vega.github.io/schema/vega-lite/v4.17.0.json\", \"datasets\": {\"data-cb8257354940b61baf631803d43a179d\": [{\"product_type\": \"GTFS Generation\", \"number_of_contracts\": 34}, {\"product_type\": \"Vehicle Locations\", \"number_of_contracts\": 32}, {\"product_type\": \"Arrival predictions\", \"number_of_contracts\": 31}, {\"product_type\": \"MDT\", \"number_of_contracts\": 22}, {\"product_type\": \"Real-time service alerts\", \"number_of_contracts\": 19}, {\"product_type\": \"Mobile ticketing\", \"number_of_contracts\": 16}, {\"product_type\": \"Interior signage\", \"number_of_contracts\": 16}, {\"product_type\": \"Annunciator\", \"number_of_contracts\": 16}, {\"product_type\": \"Realtime info\", \"number_of_contracts\": 15}, {\"product_type\": \"Headsigns\", \"number_of_contracts\": 13}]}}, {\"mode\": \"vega-lite\"});\n",
       "</script>"
      ],
      "text/plain": [
       "alt.Chart(...)"
      ]
     },
     "execution_count": 51,
     "metadata": {},
     "output_type": "execute_result"
    }
   ],
   "source": [
    "bar_chart(most_common_contract_product, \"number_of_contracts\", \"product_type\")"
   ]
  },
  {
   "cell_type": "code",
   "execution_count": 52,
   "id": "bc1ec3ab-5c0d-40a1-aa67-ae18e4445e73",
   "metadata": {},
   "outputs": [],
   "source": [
    "elements_only = contracts_delinated[\"contract_type_use\"]"
   ]
  },
  {
   "cell_type": "code",
   "execution_count": 53,
   "id": "69f5730c-a0ff-4a31-a10b-d03d1178d8cd",
   "metadata": {},
   "outputs": [],
   "source": [
    "# Word cloud from Natalie's notebook"
   ]
  },
  {
   "cell_type": "code",
   "execution_count": 54,
   "id": "f7e865a7-cb01-43b7-a78a-9ed74d264f09",
   "metadata": {},
   "outputs": [],
   "source": [
    "def word_cloud_gen(df):\n",
    "    test = \" \".join(df).lower()\n",
    "    wordcloud2 = WordCloud(\n",
    "        width=800,\n",
    "        height=400,\n",
    "        stopwords=STOPWORDS,\n",
    "        collocations=True,\n",
    "        background_color=\"white\",\n",
    "    ).generate(test)\n",
    "\n",
    "    plt.figure(figsize=(12, 6))\n",
    "    plt.imshow(wordcloud2, interpolation=\"bilInear\")\n",
    "    plt.axis(\"off\")\n",
    "    plt.show()"
   ]
  },
  {
   "cell_type": "code",
   "execution_count": 55,
   "id": "84c54534-8c1a-4044-9c87-2be1f20c9ab0",
   "metadata": {},
   "outputs": [
    {
     "data": {
      "image/png": "[encoded data removed]",
      "text/plain": [
       "<Figure size 864x432 with 1 Axes>"
      ]
     },
     "metadata": {
      "needs_background": "light"
     },
     "output_type": "display_data"
    }
   ],
   "source": [
    "word_cloud_gen(elements_only)"
   ]
  },
  {
   "cell_type": "markdown",
   "id": "782820c0-e56c-4a13-b409-9d5f80732eab",
   "metadata": {},
   "source": [
    "### Most popular vendors by contract awarded"
   ]
  },
  {
   "cell_type": "code",
   "execution_count": 56,
   "id": "7452c8ad-959a-4c60-ba8c-9a0e88a28363",
   "metadata": {},
   "outputs": [],
   "source": [
    "vendors2 = (\n",
    "    contracts.contract_vendor.value_counts()\n",
    "    .to_frame()\n",
    "    .reset_index()\n",
    "    .head(10)\n",
    "    .rename(columns={\"index\": \"vendor\", \"contract_vendor\": \"number_of_contracts\"})\n",
    ")"
   ]
  },
  {
   "cell_type": "code",
   "execution_count": 57,
   "id": "bc63dd15-8061-4ae8-9b2e-2ec492a44811",
   "metadata": {},
   "outputs": [
    {
     "data": {
      "text/html": [
       "\n",
       "<div id=\"altair-viz-7026a0b0c79a4fdfaaee35ce94e9bec2\"></div>\n",
       "<script type=\"text/javascript\">\n",
       "  var VEGA_DEBUG = (typeof VEGA_DEBUG == \"undefined\") ? {} : VEGA_DEBUG;\n",
       "  (function(spec, embedOpt){\n",
       "    let outputDiv = document.currentScript.previousElementSibling;\n",
       "    if (outputDiv.id !== \"altair-viz-7026a0b0c79a4fdfaaee35ce94e9bec2\") {\n",
       "      outputDiv = document.getElementById(\"altair-viz-7026a0b0c79a4fdfaaee35ce94e9bec2\");\n",
       "    }\n",
       "    const paths = {\n",
       "      \"vega\": \"https://cdn.jsdelivr.net/npm//vega@5?noext\",\n",
       "      \"vega-lib\": \"https://cdn.jsdelivr.net/npm//vega-lib?noext\",\n",
       "      \"vega-lite\": \"https://cdn.jsdelivr.net/npm//vega-lite@4.17.0?noext\",\n",
       "      \"vega-embed\": \"https://cdn.jsdelivr.net/npm//vega-embed@6?noext\",\n",
       "    };\n",
       "\n",
       "    function maybeLoadScript(lib, version) {\n",
       "      var key = `${lib.replace(\"-\", \"\")}_version`;\n",
       "      return (VEGA_DEBUG[key] == version) ?\n",
       "        Promise.resolve(paths[lib]) :\n",
       "        new Promise(function(resolve, reject) {\n",
       "          var s = document.createElement('script');\n",
       "          document.getElementsByTagName(\"head\")[0].appendChild(s);\n",
       "          s.async = true;\n",
       "          s.onload = () => {\n",
       "            VEGA_DEBUG[key] = version;\n",
       "            return resolve(paths[lib]);\n",
       "          };\n",
       "          s.onerror = () => reject(`Error loading script: ${paths[lib]}`);\n",
       "          s.src = paths[lib];\n",
       "        });\n",
       "    }\n",
       "\n",
       "    function showError(err) {\n",
       "      outputDiv.innerHTML = `<div class=\"error\" style=\"color:red;\">${err}</div>`;\n",
       "      throw err;\n",
       "    }\n",
       "\n",
       "    function displayChart(vegaEmbed) {\n",
       "      vegaEmbed(outputDiv, spec, embedOpt)\n",
       "        .catch(err => showError(`Javascript Error: ${err.message}<br>This usually means there's a typo in your chart specification. See the javascript console for the full traceback.`));\n",
       "    }\n",
       "\n",
       "    if(typeof define === \"function\" && define.amd) {\n",
       "      requirejs.config({paths});\n",
       "      require([\"vega-embed\"], displayChart, err => showError(`Error loading script: ${err.message}`));\n",
       "    } else {\n",
       "      maybeLoadScript(\"vega\", \"5\")\n",
       "        .then(() => maybeLoadScript(\"vega-lite\", \"4.17.0\"))\n",
       "        .then(() => maybeLoadScript(\"vega-embed\", \"6\"))\n",
       "        .catch(showError)\n",
       "        .then(() => displayChart(vegaEmbed));\n",
       "    }\n",
       "  })({\"config\": {\"view\": {\"continuousWidth\": 400, \"continuousHeight\": 300}}, \"data\": {\"name\": \"data-d770d01f011ebbd933fb25f21ced3bfc\"}, \"mark\": \"bar\", \"encoding\": {\"color\": {\"field\": \"number_of_contracts\", \"scale\": {\"scheme\": \"tealblues\"}, \"type\": \"quantitative\"}, \"x\": {\"field\": \"number_of_contracts\", \"type\": \"quantitative\"}, \"y\": {\"field\": \"vendor\", \"type\": \"nominal\"}}, \"$schema\": \"https://vega.github.io/schema/vega-lite/v4.17.0.json\", \"datasets\": {\"data-d770d01f011ebbd933fb25f21ced3bfc\": [{\"vendor\": \"Trillium Inc.\", \"number_of_contracts\": 22}, {\"vendor\": \"Genfare\", \"number_of_contracts\": 8}, {\"vendor\": \"GMV Syncromatics Inc\", \"number_of_contracts\": 8}, {\"vendor\": \"Token Transit\", \"number_of_contracts\": 8}, {\"vendor\": \"Trapeze Group\", \"number_of_contracts\": 7}, {\"vendor\": \"Via Inc.\", \"number_of_contracts\": 6}, {\"vendor\": \"DoubleMap Inc.\", \"number_of_contracts\": 5}, {\"vendor\": \"Clever Devices Ltd.\", \"number_of_contracts\": 5}, {\"vendor\": \"Swiftly Inc.\", \"number_of_contracts\": 5}, {\"vendor\": \"UTA\", \"number_of_contracts\": 4}]}}, {\"mode\": \"vega-lite\"});\n",
       "</script>"
      ],
      "text/plain": [
       "alt.Chart(...)"
      ]
     },
     "execution_count": 57,
     "metadata": {},
     "output_type": "execute_result"
    }
   ],
   "source": [
    "bar_chart(vendors2, \"number_of_contracts\", \"vendor\")"
   ]
  },
  {
   "cell_type": "markdown",
   "id": "6dfc0e32-027c-4f4e-a2f6-595216b6bcc7",
   "metadata": {},
   "source": [
    "### Organizations that hold the most contracts"
   ]
  },
  {
   "cell_type": "code",
   "execution_count": 58,
   "id": "968e84a0-bdf0-4cb9-b7e5-d5c6e0c27554",
   "metadata": {},
   "outputs": [],
   "source": [
    "contract_holders = (\n",
    "    contracts.contract_holder.value_counts()\n",
    "    .to_frame()\n",
    "    .reset_index()\n",
    "    .rename(columns={\"index\": \"holders\", \"contract_holder\": \"# contracts\"})\n",
    "    .head(10)\n",
    ")"
   ]
  },
  {
   "cell_type": "code",
   "execution_count": 59,
   "id": "d992db85-8145-490e-ab20-85fdcc0a83b3",
   "metadata": {},
   "outputs": [
    {
     "data": {
      "text/html": [
       "\n",
       "<div id=\"altair-viz-47fafd5981be409c9d13a9679592da9c\"></div>\n",
       "<script type=\"text/javascript\">\n",
       "  var VEGA_DEBUG = (typeof VEGA_DEBUG == \"undefined\") ? {} : VEGA_DEBUG;\n",
       "  (function(spec, embedOpt){\n",
       "    let outputDiv = document.currentScript.previousElementSibling;\n",
       "    if (outputDiv.id !== \"altair-viz-47fafd5981be409c9d13a9679592da9c\") {\n",
       "      outputDiv = document.getElementById(\"altair-viz-47fafd5981be409c9d13a9679592da9c\");\n",
       "    }\n",
       "    const paths = {\n",
       "      \"vega\": \"https://cdn.jsdelivr.net/npm//vega@5?noext\",\n",
       "      \"vega-lib\": \"https://cdn.jsdelivr.net/npm//vega-lib?noext\",\n",
       "      \"vega-lite\": \"https://cdn.jsdelivr.net/npm//vega-lite@4.17.0?noext\",\n",
       "      \"vega-embed\": \"https://cdn.jsdelivr.net/npm//vega-embed@6?noext\",\n",
       "    };\n",
       "\n",
       "    function maybeLoadScript(lib, version) {\n",
       "      var key = `${lib.replace(\"-\", \"\")}_version`;\n",
       "      return (VEGA_DEBUG[key] == version) ?\n",
       "        Promise.resolve(paths[lib]) :\n",
       "        new Promise(function(resolve, reject) {\n",
       "          var s = document.createElement('script');\n",
       "          document.getElementsByTagName(\"head\")[0].appendChild(s);\n",
       "          s.async = true;\n",
       "          s.onload = () => {\n",
       "            VEGA_DEBUG[key] = version;\n",
       "            return resolve(paths[lib]);\n",
       "          };\n",
       "          s.onerror = () => reject(`Error loading script: ${paths[lib]}`);\n",
       "          s.src = paths[lib];\n",
       "        });\n",
       "    }\n",
       "\n",
       "    function showError(err) {\n",
       "      outputDiv.innerHTML = `<div class=\"error\" style=\"color:red;\">${err}</div>`;\n",
       "      throw err;\n",
       "    }\n",
       "\n",
       "    function displayChart(vegaEmbed) {\n",
       "      vegaEmbed(outputDiv, spec, embedOpt)\n",
       "        .catch(err => showError(`Javascript Error: ${err.message}<br>This usually means there's a typo in your chart specification. See the javascript console for the full traceback.`));\n",
       "    }\n",
       "\n",
       "    if(typeof define === \"function\" && define.amd) {\n",
       "      requirejs.config({paths});\n",
       "      require([\"vega-embed\"], displayChart, err => showError(`Error loading script: ${err.message}`));\n",
       "    } else {\n",
       "      maybeLoadScript(\"vega\", \"5\")\n",
       "        .then(() => maybeLoadScript(\"vega-lite\", \"4.17.0\"))\n",
       "        .then(() => maybeLoadScript(\"vega-embed\", \"6\"))\n",
       "        .catch(showError)\n",
       "        .then(() => displayChart(vegaEmbed));\n",
       "    }\n",
       "  })({\"config\": {\"view\": {\"continuousWidth\": 400, \"continuousHeight\": 300}}, \"data\": {\"name\": \"data-c9487d25a6a9a9a4e9eb83213164d46d\"}, \"mark\": \"bar\", \"encoding\": {\"color\": {\"field\": \"# contracts\", \"scale\": {\"scheme\": \"tealblues\"}, \"type\": \"quantitative\"}, \"x\": {\"field\": \"# contracts\", \"type\": \"quantitative\"}, \"y\": {\"field\": \"holders\", \"type\": \"nominal\"}}, \"$schema\": \"https://vega.github.io/schema/vega-lite/v4.17.0.json\", \"datasets\": {\"data-c9487d25a6a9a9a4e9eb83213164d46d\": [{\"holders\": \"Anaheim Transportation Network\", \"# contracts\": 9}, {\"holders\": \"Santa Clara Valley Transportation Authority\", \"# contracts\": 6}, {\"holders\": \"San Joaquin Regional Transit District\", \"# contracts\": 5}, {\"holders\": \"Sonoma-Marin Area Rail Transit District\", \"# contracts\": 5}, {\"holders\": \"\\\"Golden Gate Bridge, Highway and Transportation District\\\"\", \"# contracts\": 4}, {\"holders\": \"Tahoe Transportation District\", \"# contracts\": 4}, {\"holders\": \"San Mateo County Transit District\", \"# contracts\": 4}, {\"holders\": \"Riverside Transit Agency\", \"# contracts\": 4}, {\"holders\": \"Peninsula Corridor Joint Powers Board\", \"# contracts\": 4}, {\"holders\": \"Eastern Contra Costa Transit Authority\", \"# contracts\": 4}]}}, {\"mode\": \"vega-lite\"});\n",
       "</script>"
      ],
      "text/plain": [
       "alt.Chart(...)"
      ]
     },
     "execution_count": 59,
     "metadata": {},
     "output_type": "execute_result"
    }
   ],
   "source": [
    "bar_chart(contract_holders, \"# contracts\", \"holders\")"
   ]
  }
 ],
 "metadata": {
  "kernelspec": {
   "display_name": "Python 3 (ipykernel)",
   "language": "python",
   "name": "python3"
  },
  "language_info": {
   "codemirror_mode": {
    "name": "ipython",
    "version": 3
   },
   "file_extension": ".py",
   "mimetype": "text/x-python",
   "name": "python",
   "nbconvert_exporter": "python",
   "pygments_lexer": "ipython3",
   "version": "3.9.10"
  }
 },
 "nbformat": 4,
 "nbformat_minor": 5
}
