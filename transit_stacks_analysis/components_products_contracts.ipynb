{
 "cells": [
  {
   "cell_type": "markdown",
   "id": "4b995212-343f-4eb0-b1b3-252a1009961d",
   "metadata": {},
   "source": [
    "# Analyzing Products, Components, and Contracts Data from Air Table\n",
    "* [Data Source](https://airtable.com/appeVUdmRBi3K9hTS/tblLywLvMA2OTesQP/viwRRKOaZvvkSNfmU?blocks=hide)\n",
    "* [Term Explanations](https://docs.calitp.org/data-infra/datasets_and_tables/transitdatabase.html)"
   ]
  },
  {
   "cell_type": "code",
   "execution_count": 1,
   "id": "3af4662e-f7e3-4c00-bd3d-0f756f7adc5d",
   "metadata": {},
   "outputs": [
    {
     "name": "stderr",
     "output_type": "stream",
     "text": [
      "/opt/conda/lib/python3.10/site-packages/geopandas/_compat.py:111: UserWarning: The Shapely GEOS version (3.10.2-CAPI-1.16.0) is incompatible with the GEOS version PyGEOS was compiled with (3.10.1-CAPI-1.16.0). Conversions between both will be slow.\n"
     ]
    }
   ],
   "source": [
    "import numpy as np\n",
    "import pandas as pd\n",
    "\n",
    "pd.options.display.max_columns = 50\n",
    "pd.options.display.max_rows = 250\n",
    "pd.set_option(\"display.max_colwidth\", None)\n",
    "pd.options.display.float_format = \"{:.2f}\".format\n",
    "\n",
    "from itertools import chain\n",
    "from os import path\n",
    "\n",
    "import altair as alt\n",
    "import utils\n",
    "import matplotlib.pyplot as plt\n",
    "import numpy as np\n",
    "import pandas as pd\n",
    "from calitp import *\n",
    "from PIL import Image\n",
    "from shared_utils import altair_utils\n",
    "from siuba import *\n",
    "from collections import OrderedDict\n",
    "\n",
    "\n",
    "GCS_FILE_PATH = \"gs://calitp-analytics-data/data-analyses/transit_stacks/\""
   ]
  },
  {
   "cell_type": "markdown",
   "id": "76424a9d-ac73-4b72-9d27-fb5ab6f1d988",
   "metadata": {
    "tags": []
   },
   "source": [
    "## Products Data"
   ]
  },
  {
   "cell_type": "code",
   "execution_count": 2,
   "id": "3855fedb-1c76-4964-b7ea-ae12808eabf7",
   "metadata": {},
   "outputs": [],
   "source": [
    "# drop columns with tons of NAs\n",
    "products = (\n",
    "    to_snakecase(pd.read_csv(f\"{GCS_FILE_PATH}products_May_3.csv\"))\n",
    "    .drop(\n",
    "        columns=[\n",
    "            \"business_model_features\",\n",
    "            \"attachments\",\n",
    "            \"status\",\n",
    "            \"certifications\",\n",
    "            \"connectivity\",\n",
    "            \"accepted_input_components\",\n",
    "            \"output_components\",\n",
    "            \"input\",\n",
    "            \"output\",\n",
    "        ]\n",
    "    )\n",
    "    .rename(columns={\"name\": \"product_name\"})\n",
    ")"
   ]
  },
  {
   "cell_type": "code",
   "execution_count": 3,
   "id": "42aadca7-bd6d-4a8d-8612-a7c2e47eca51",
   "metadata": {},
   "outputs": [
    {
     "data": {
      "text/plain": [
       "Index(['product_name', 'components', 'vendor', 'url', 'requirements',\n",
       "       'product_features', 'notes', 'organization_stack_components'],\n",
       "      dtype='object')"
      ]
     },
     "execution_count": 3,
     "metadata": {},
     "output_type": "execute_result"
    }
   ],
   "source": [
    "products.columns"
   ]
  },
  {
   "cell_type": "code",
   "execution_count": 4,
   "id": "5d4e91c7-be03-4cc5-a78e-07328e142a58",
   "metadata": {},
   "outputs": [
    {
     "data": {
      "text/plain": [
       "product_name                       0\n",
       "components                         9\n",
       "vendor                            40\n",
       "url                               70\n",
       "requirements                     233\n",
       "product_features                 180\n",
       "notes                            173\n",
       "organization_stack_components    103\n",
       "dtype: int64"
      ]
     },
     "execution_count": 4,
     "metadata": {},
     "output_type": "execute_result"
    }
   ],
   "source": [
    "products.isna().sum()"
   ]
  },
  {
   "cell_type": "code",
   "execution_count": 5,
   "id": "e56b2e58-4f4f-45c5-8f64-776c3eaf78a6",
   "metadata": {},
   "outputs": [
    {
     "data": {
      "text/plain": [
       "product_name                     object\n",
       "components                       object\n",
       "vendor                           object\n",
       "url                              object\n",
       "requirements                     object\n",
       "product_features                 object\n",
       "notes                            object\n",
       "organization_stack_components    object\n",
       "dtype: object"
      ]
     },
     "execution_count": 5,
     "metadata": {},
     "output_type": "execute_result"
    }
   ],
   "source": [
    "products.dtypes"
   ]
  },
  {
   "cell_type": "code",
   "execution_count": 6,
   "id": "4b709fe1-8828-49e0-bb59-75a50f92991d",
   "metadata": {},
   "outputs": [],
   "source": [
    "#remove quotes and replace NAN values with N/A\n",
    "products = products.replace('\"', '', regex=True).fillna(\"N/A\")"
   ]
  },
  {
   "cell_type": "code",
   "execution_count": 7,
   "id": "d5ca58c1-10af-429a-875c-2c6f28147c61",
   "metadata": {},
   "outputs": [],
   "source": [
    "#products['TESTING_org_stacks'] =products['organization_stack_components'] "
   ]
  },
  {
   "cell_type": "markdown",
   "id": "bea1c7fd-b388-4825-9b74-194fb1d1a4d5",
   "metadata": {},
   "source": [
    "#remove potential duplicates on organization stack components. \n",
    "#https://stackoverflow.com/questions/47316783/python-dataframe-remove-duplicate-words-in-the-same-cell-within-a-column-in-pyt\n",
    "products['organization_stack_components'] = (products['organization_stack_components'].str.split()\n",
    "                              .apply(lambda x: OrderedDict.fromkeys(x).keys())\n",
    "                              .str.join(' '))\n"
   ]
  },
  {
   "cell_type": "code",
   "execution_count": 8,
   "id": "aead0a81-1afc-49c9-b6e6-a938534185b1",
   "metadata": {},
   "outputs": [],
   "source": [
    "products['organization_stack_components'] = (\n",
    "    products['organization_stack_components']\n",
    "    .apply(lambda x: \", \".join(set([y.strip() for y in x.split(\",\")])))\n",
    "    .str.strip()\n",
    "    .replace({'\"': \"\"}, regex=True)\n",
    ")"
   ]
  },
  {
   "cell_type": "code",
   "execution_count": 9,
   "id": "b4c89afb-81b3-41de-a7c9-a48c7361587b",
   "metadata": {},
   "outputs": [],
   "source": [
    "### Count number of strings by column in organization_stack_components column to see how many orgs are using this vendor.\n",
    "# https://stackoverflow.com/questions/51502263/pandas-dataframe-object-has-no-attribute-str\n",
    "products[\"count_of_orgs_using_product\"] = (\n",
    "    products[\"organization_stack_components\"]\n",
    "    .str.split(\",+\")\n",
    "    .str.len()\n",
    "    .groupby(products.product_name)\n",
    "    .transform(\"sum\")\n",
    ")"
   ]
  },
  {
   "cell_type": "code",
   "execution_count": 10,
   "id": "09f41029-0f77-4491-b6e7-93ac991166ae",
   "metadata": {},
   "outputs": [],
   "source": [
    "#For organization stack components with N/A, replace count_of_orgs_using_product with 0\n",
    "products.loc[(products[\"organization_stack_components\"] == \"N/A\"), \"count_of_orgs_using_product\"] = 0"
   ]
  },
  {
   "cell_type": "code",
   "execution_count": 11,
   "id": "6e7c3a18-b61f-4b8f-8e5c-cf601f2b5c67",
   "metadata": {},
   "outputs": [
    {
     "data": {
      "text/plain": [
       "'84 unique vendors'"
      ]
     },
     "execution_count": 11,
     "metadata": {},
     "output_type": "execute_result"
    }
   ],
   "source": [
    "unique_vendors = products.vendor.nunique()\n",
    "f\"{unique_vendors} unique vendors\""
   ]
  },
  {
   "cell_type": "code",
   "execution_count": 12,
   "id": "9585c978-734b-40aa-88e6-2792bd28db8b",
   "metadata": {},
   "outputs": [
    {
     "data": {
      "text/plain": [
       "'259 unique products'"
      ]
     },
     "execution_count": 12,
     "metadata": {},
     "output_type": "execute_result"
    }
   ],
   "source": [
    "f\"{products.product_name.nunique()} unique products\""
   ]
  },
  {
   "cell_type": "code",
   "execution_count": 13,
   "id": "54c70854-3311-49af-ba55-47fc3863fd9b",
   "metadata": {},
   "outputs": [],
   "source": [
    "# Strip extra quotes that appear around Security System, replace it with a neater value\n",
    "products = products.replace('\"', \"\", regex=True)"
   ]
  },
  {
   "cell_type": "code",
   "execution_count": 14,
   "id": "7d58c6f8-c485-4d43-be3e-4f7e468cf50c",
   "metadata": {},
   "outputs": [],
   "source": [
    "products[\"components\"] = products[\"components\"].replace(\n",
    "    {\n",
    "        \"Security System\\n\": \"Security System\",\n",
    "    }\n",
    ")"
   ]
  },
  {
   "cell_type": "code",
   "execution_count": 15,
   "id": "8e9d27f3-b345-4a5c-8357-c23e18cbb770",
   "metadata": {},
   "outputs": [],
   "source": [
    "# Separate out components.\n",
    "products2 = products.copy()"
   ]
  },
  {
   "cell_type": "code",
   "execution_count": 16,
   "id": "6c80ad4e-f06b-4a86-ac02-f79c681c1204",
   "metadata": {},
   "outputs": [],
   "source": [
    "components = products2[\"components\"].str.split(\",\")\n",
    "cols = products2.columns.difference([\"components\"])\n",
    "\n",
    "products2 = products2.loc[products.index.repeat(components.str.len()), cols].assign(\n",
    "    components=list(chain.from_iterable(components.tolist()))\n",
    ")"
   ]
  },
  {
   "cell_type": "code",
   "execution_count": 17,
   "id": "e7dcb3eb-fd6d-430c-a36a-d1537d2b16fb",
   "metadata": {
    "tags": []
   },
   "outputs": [
    {
     "data": {
      "text/html": [
       "<div>\n",
       "<style scoped>\n",
       "    .dataframe tbody tr th:only-of-type {\n",
       "        vertical-align: middle;\n",
       "    }\n",
       "\n",
       "    .dataframe tbody tr th {\n",
       "        vertical-align: top;\n",
       "    }\n",
       "\n",
       "    .dataframe thead th {\n",
       "        text-align: right;\n",
       "    }\n",
       "</style>\n",
       "<table border=\"1\" class=\"dataframe\">\n",
       "  <thead>\n",
       "    <tr style=\"text-align: right;\">\n",
       "      <th></th>\n",
       "      <th>product_name</th>\n",
       "      <th>components</th>\n",
       "      <th>vendor</th>\n",
       "      <th>url</th>\n",
       "      <th>requirements</th>\n",
       "      <th>product_features</th>\n",
       "      <th>notes</th>\n",
       "      <th>organization_stack_components</th>\n",
       "      <th>count_of_orgs_using_product</th>\n",
       "    </tr>\n",
       "  </thead>\n",
       "  <tbody>\n",
       "    <tr>\n",
       "      <th>215</th>\n",
       "      <td>Cubic NextBus Suite</td>\n",
       "      <td>Real-time info</td>\n",
       "      <td>Cubic</td>\n",
       "      <td>https://www.cubic.com/solutions/transportation/nextbus</td>\n",
       "      <td>N/A</td>\n",
       "      <td>N/A</td>\n",
       "      <td>Link now leads to Umo Mobility Platform.\\n</td>\n",
       "      <td>City Coach-Cubic NextBus Suite -APC Software, Market Street Historic Railway-Cubic NextBus Suite -Arrival predictions, UC Davis Health MedTrans-Cubic NextBus Suite -Offboard signage, NCTD Sprinter-Cubic NextBus Suite -Mobile data terminal software, Unitrans-Cubic NextBus Suite -Arrival predictions, Sonoma County Transit-Cubic NextBus Suite -Real-time info, The Loop-Cubic NextBus Suite -Real-time info, Placer County Transit-Cubic NextBus Suite -Mobile data terminal software, OmniTrans sbX-Daktronics (Unspecified Model), Unitrans-Cubic NextBus Suite -Mobile data terminal software, Placer County Transit-Cubic NextBus Suite -Real-time info, Sonoma County Transit-Cubic NextBus Suite -APC Software, UC Davis Health MedTrans-Cubic NextBus Suite -AVL Software, Foothill Transit-Cubic NextBus Suite -Arrival predictions, City Coach-Cubic NextBus Suite -AVL Software, Dumbarton Express-Cubic NextBus Suite -Real-time info, Gold Coast Transit-Cubic NextBus Suite -Real-time info, Cityline-Cubic NextBus Suite -Real-time info, Avail myStop-Real-time info, Glendale Beeline-Cubic NextBus Suite -Real-time info, Fairfield and Suisun Transit-Cubic NextBus Suite -Real-time info, OmniTrans, NCTD BREEZE, Market Street Historic Railway-Cubic NextBus Suite -Offboard signage, San Francisco Cable Cars, Glendale Beeline-Cubic NextBus Suite -AVL Software, Bear Transit-Cubic NextBus Suite -Real-time info, Bear Transit, Sonoma County Transit-Cubic NextBus Suite -Mobile data terminal software, Fairfield and Suisun Transit-Cubic NextBus Suite -Arrival predictions, Unitrans-Cubic NextBus Suite -Offboard signage, City Coach-Cubic NextBus Suite -Arrival predictions, UC Davis Health MedTrans-Cubic NextBus Suite -Alerts Content Management System, Unitrans, GTrans-Cubic NextBus Suite, Palos Verdes Peninsula Transit Authority-Cubic NextBus Suite -Real-time info, Sonoma County Transit-Cubic NextBus Suite -Interior signage, Fairfield and Suisun Transit-Cubic NextBus Suite -APC Software, Foothill Transit-Cubic NextBus Suite, Cubic NextBus Suite -Offboard signage, Sonoma County Transit-Cubic NextBus Suite -Arrival predictions, Unitrans-Cubic NextBus Suite -AVL Software, Connectpoint LCD Signage-Offboard signage, Unitrans-Cubic NextBus Suite -Alerts Content Management System, Sonoma County Transit-Cubic NextBus Suite -Annunciator, NCTD Coaster, UC Davis Health MedTrans-Cubic NextBus Suite -Arrival predictions, Placer County Transit-Cubic NextBus Suite -Headsigns, Placer County Transit-Cubic NextBus Suite -Interior signage, Placer County Transit-Cubic NextBus Suite -Arrival predictions, BruinBus-Cubic NextBus Suite -Real-time info, Muni Metro, Placer County Transit-Cubic NextBus Suite -Annunciator, Palos Verdes Peninsula Transit Authority-Cubic NextBus Suite -Arrival predictions, Manteca Transit-Cubic NextBus Suite -Real-time info, Placer County Transit-Cubic NextBus Suite -Offboard signage, Solano Express-Cubic NextBus Suite -Real-time info, Placer County Transit-Cubic NextBus Suite -AVL Software, Fairfield and Suisun Transit-Cubic NextBus Suite -Mobile data terminal software, UC Davis Health MedTrans-Cubic NextBus Suite -Mobile data terminal software, OmniTrans sbX-Cubic NextBus Suite -Arrival predictions, Clever Devices CleverCAD-Mobile data terminal software, Market Street Historic Railway-Cubic NextBus Suite -Real-time info, Fairfield and Suisun Transit-Cubic NextBus Suite -AVL Software, UC Davis Health MedTrans-Cubic NextBus Suite -APC Software, City Coach-Cubic NextBus Suite -Real-time info, Tahoe Truckee Area Regional Transportation-Cubic NextBus Suite -Real-time info, Muni Bus, Sonoma County Transit-Cubic NextBus Suite -AVL Software, OmniTrans sbX-Cubic NextBus Suite -Alerts Content Management System, Sonoma County Transit-Cubic NextBus Suite, City Coach-Cubic NextBus Suite -Mobile data terminal software, Unitrans-Cubic NextBus Suite -APC Software, OmniTrans sbX-Cubic NextBus Suite -Real-time info, Palos Verdes Peninsula Transit Authority-Cubic NextBus Suite -AVL Software, UC Davis Health MedTrans-Cubic NextBus Suite -Real-time info</td>\n",
       "      <td>76</td>\n",
       "    </tr>\n",
       "  </tbody>\n",
       "</table>\n",
       "</div>"
      ],
      "text/plain": [
       "             product_name      components vendor  \\\n",
       "215  Cubic NextBus Suite   Real-time info  Cubic   \n",
       "\n",
       "                                                        url requirements  \\\n",
       "215  https://www.cubic.com/solutions/transportation/nextbus          N/A   \n",
       "\n",
       "    product_features                                       notes  \\\n",
       "215              N/A  Link now leads to Umo Mobility Platform.\\n   \n",
       "\n",
       "                                                                                                                                                                                                                                                                                                                                                                                                                                                                                                                                                                                                                                                                                                                                                                                                                                                                                                                                                                                                                                                                                                                                                                                                                                                                                                                                                                                                                                                                                                                                                                                                                                                                                                                                                                                                                                                                                                                                                                                                                                                                                                                                                                                                                                                                                                                                                                                                                                                                                                                                                                                                                                                                                                                                                                                                                                                                                                                                                                                                                                                                                                                                                                                                                                                                                                                                                                                                                                                                                                                                                                                                                                                                                                                                                                                                                                                                                                                                                                                                                                                                                                                                                                                                           organization_stack_components  \\\n",
       "215  City Coach-Cubic NextBus Suite -APC Software, Market Street Historic Railway-Cubic NextBus Suite -Arrival predictions, UC Davis Health MedTrans-Cubic NextBus Suite -Offboard signage, NCTD Sprinter-Cubic NextBus Suite -Mobile data terminal software, Unitrans-Cubic NextBus Suite -Arrival predictions, Sonoma County Transit-Cubic NextBus Suite -Real-time info, The Loop-Cubic NextBus Suite -Real-time info, Placer County Transit-Cubic NextBus Suite -Mobile data terminal software, OmniTrans sbX-Daktronics (Unspecified Model), Unitrans-Cubic NextBus Suite -Mobile data terminal software, Placer County Transit-Cubic NextBus Suite -Real-time info, Sonoma County Transit-Cubic NextBus Suite -APC Software, UC Davis Health MedTrans-Cubic NextBus Suite -AVL Software, Foothill Transit-Cubic NextBus Suite -Arrival predictions, City Coach-Cubic NextBus Suite -AVL Software, Dumbarton Express-Cubic NextBus Suite -Real-time info, Gold Coast Transit-Cubic NextBus Suite -Real-time info, Cityline-Cubic NextBus Suite -Real-time info, Avail myStop-Real-time info, Glendale Beeline-Cubic NextBus Suite -Real-time info, Fairfield and Suisun Transit-Cubic NextBus Suite -Real-time info, OmniTrans, NCTD BREEZE, Market Street Historic Railway-Cubic NextBus Suite -Offboard signage, San Francisco Cable Cars, Glendale Beeline-Cubic NextBus Suite -AVL Software, Bear Transit-Cubic NextBus Suite -Real-time info, Bear Transit, Sonoma County Transit-Cubic NextBus Suite -Mobile data terminal software, Fairfield and Suisun Transit-Cubic NextBus Suite -Arrival predictions, Unitrans-Cubic NextBus Suite -Offboard signage, City Coach-Cubic NextBus Suite -Arrival predictions, UC Davis Health MedTrans-Cubic NextBus Suite -Alerts Content Management System, Unitrans, GTrans-Cubic NextBus Suite, Palos Verdes Peninsula Transit Authority-Cubic NextBus Suite -Real-time info, Sonoma County Transit-Cubic NextBus Suite -Interior signage, Fairfield and Suisun Transit-Cubic NextBus Suite -APC Software, Foothill Transit-Cubic NextBus Suite, Cubic NextBus Suite -Offboard signage, Sonoma County Transit-Cubic NextBus Suite -Arrival predictions, Unitrans-Cubic NextBus Suite -AVL Software, Connectpoint LCD Signage-Offboard signage, Unitrans-Cubic NextBus Suite -Alerts Content Management System, Sonoma County Transit-Cubic NextBus Suite -Annunciator, NCTD Coaster, UC Davis Health MedTrans-Cubic NextBus Suite -Arrival predictions, Placer County Transit-Cubic NextBus Suite -Headsigns, Placer County Transit-Cubic NextBus Suite -Interior signage, Placer County Transit-Cubic NextBus Suite -Arrival predictions, BruinBus-Cubic NextBus Suite -Real-time info, Muni Metro, Placer County Transit-Cubic NextBus Suite -Annunciator, Palos Verdes Peninsula Transit Authority-Cubic NextBus Suite -Arrival predictions, Manteca Transit-Cubic NextBus Suite -Real-time info, Placer County Transit-Cubic NextBus Suite -Offboard signage, Solano Express-Cubic NextBus Suite -Real-time info, Placer County Transit-Cubic NextBus Suite -AVL Software, Fairfield and Suisun Transit-Cubic NextBus Suite -Mobile data terminal software, UC Davis Health MedTrans-Cubic NextBus Suite -Mobile data terminal software, OmniTrans sbX-Cubic NextBus Suite -Arrival predictions, Clever Devices CleverCAD-Mobile data terminal software, Market Street Historic Railway-Cubic NextBus Suite -Real-time info, Fairfield and Suisun Transit-Cubic NextBus Suite -AVL Software, UC Davis Health MedTrans-Cubic NextBus Suite -APC Software, City Coach-Cubic NextBus Suite -Real-time info, Tahoe Truckee Area Regional Transportation-Cubic NextBus Suite -Real-time info, Muni Bus, Sonoma County Transit-Cubic NextBus Suite -AVL Software, OmniTrans sbX-Cubic NextBus Suite -Alerts Content Management System, Sonoma County Transit-Cubic NextBus Suite, City Coach-Cubic NextBus Suite -Mobile data terminal software, Unitrans-Cubic NextBus Suite -APC Software, OmniTrans sbX-Cubic NextBus Suite -Real-time info, Palos Verdes Peninsula Transit Authority-Cubic NextBus Suite -AVL Software, UC Davis Health MedTrans-Cubic NextBus Suite -Real-time info   \n",
       "\n",
       "     count_of_orgs_using_product  \n",
       "215                           76  "
      ]
     },
     "execution_count": 17,
     "metadata": {},
     "output_type": "execute_result"
    }
   ],
   "source": [
    "products[(products.product_name.str.contains(\"Cubic NextBus Suite\", case=False))]"
   ]
  },
  {
   "cell_type": "markdown",
   "id": "96ec9c38-c889-4068-be49-9857f3fa40cd",
   "metadata": {
    "tags": []
   },
   "source": [
    "### What % of vendors with scheduling software also provide GTFS data out of the box? "
   ]
  },
  {
   "cell_type": "code",
   "execution_count": 18,
   "id": "40eece7a-3d3e-4ae0-b1dc-062d4e2d22cb",
   "metadata": {},
   "outputs": [
    {
     "data": {
      "text/html": [
       "<div>\n",
       "<style scoped>\n",
       "    .dataframe tbody tr th:only-of-type {\n",
       "        vertical-align: middle;\n",
       "    }\n",
       "\n",
       "    .dataframe tbody tr th {\n",
       "        vertical-align: top;\n",
       "    }\n",
       "\n",
       "    .dataframe thead th {\n",
       "        text-align: right;\n",
       "    }\n",
       "</style>\n",
       "<table border=\"1\" class=\"dataframe\">\n",
       "  <thead>\n",
       "    <tr style=\"text-align: right;\">\n",
       "      <th></th>\n",
       "      <th>product_name</th>\n",
       "      <th>components</th>\n",
       "      <th>vendor</th>\n",
       "      <th>count_of_orgs_using_product</th>\n",
       "      <th>notes</th>\n",
       "    </tr>\n",
       "  </thead>\n",
       "  <tbody>\n",
       "    <tr>\n",
       "      <th>128</th>\n",
       "      <td>TripShot - Unspecified</td>\n",
       "      <td>KPI Reporting,Scheduling (Fixed-route),Scheduling (Demand-Responsive),Mobile trip planning app,Real-time info,GTFS generation</td>\n",
       "      <td>TripShot Inc.</td>\n",
       "      <td>1</td>\n",
       "      <td>N/A</td>\n",
       "    </tr>\n",
       "    <tr>\n",
       "      <th>234</th>\n",
       "      <td>Giro HASTUS</td>\n",
       "      <td>Scheduling (Fixed-route),GTFS generation</td>\n",
       "      <td>Giro Inc.</td>\n",
       "      <td>28</td>\n",
       "      <td>N/A</td>\n",
       "    </tr>\n",
       "    <tr>\n",
       "      <th>235</th>\n",
       "      <td>The Master Scheduler</td>\n",
       "      <td>Scheduling (Fixed-route),GTFS generation</td>\n",
       "      <td>The Master Scheduler</td>\n",
       "      <td>5</td>\n",
       "      <td>http://themasterscheduler.com/whitepapers/TMS2GT.pdf</td>\n",
       "    </tr>\n",
       "    <tr>\n",
       "      <th>236</th>\n",
       "      <td>Trapeze - Unspecified</td>\n",
       "      <td>Scheduling (Fixed-route),GTFS generation</td>\n",
       "      <td>Trapeze Group</td>\n",
       "      <td>22</td>\n",
       "      <td>N/A</td>\n",
       "    </tr>\n",
       "    <tr>\n",
       "      <th>237</th>\n",
       "      <td>Optibus</td>\n",
       "      <td>Scheduling (Fixed-route),GTFS Schedule Publishing,GTFS generation</td>\n",
       "      <td>Optibus</td>\n",
       "      <td>9</td>\n",
       "      <td>N/A</td>\n",
       "    </tr>\n",
       "  </tbody>\n",
       "</table>\n",
       "</div>"
      ],
      "text/plain": [
       "               product_name  \\\n",
       "128  TripShot - Unspecified   \n",
       "234             Giro HASTUS   \n",
       "235    The Master Scheduler   \n",
       "236   Trapeze - Unspecified   \n",
       "237                 Optibus   \n",
       "\n",
       "                                                                                                                        components  \\\n",
       "128  KPI Reporting,Scheduling (Fixed-route),Scheduling (Demand-Responsive),Mobile trip planning app,Real-time info,GTFS generation   \n",
       "234                                                                                       Scheduling (Fixed-route),GTFS generation   \n",
       "235                                                                                       Scheduling (Fixed-route),GTFS generation   \n",
       "236                                                                                       Scheduling (Fixed-route),GTFS generation   \n",
       "237                                                              Scheduling (Fixed-route),GTFS Schedule Publishing,GTFS generation   \n",
       "\n",
       "                   vendor  count_of_orgs_using_product  \\\n",
       "128         TripShot Inc.                            1   \n",
       "234             Giro Inc.                           28   \n",
       "235  The Master Scheduler                            5   \n",
       "236         Trapeze Group                           22   \n",
       "237               Optibus                            9   \n",
       "\n",
       "                                                     notes  \n",
       "128                                                    N/A  \n",
       "234                                                    N/A  \n",
       "235  http://themasterscheduler.com/whitepapers/TMS2GT.pdf   \n",
       "236                                                    N/A  \n",
       "237                                                    N/A  "
      ]
     },
     "execution_count": 18,
     "metadata": {},
     "output_type": "execute_result"
    }
   ],
   "source": [
    "# https://stackoverflow.com/questions/47125076/how-to-filter-rows-containing-specific-string-values-with-an-and-operator\n",
    "gtfs_scheduling = products[\n",
    "    products[\"components\"].str.contains(\"GTFS\")\n",
    "    & products[\"components\"].str.contains(\"Scheduling\")\n",
    "]\n",
    "gtfs_scheduling[\n",
    "    [\"product_name\", \"components\", \"vendor\", \"count_of_orgs_using_product\", \"notes\"]\n",
    "]"
   ]
  },
  {
   "cell_type": "code",
   "execution_count": 19,
   "id": "7853a36e-936c-4a6c-8107-741712a14817",
   "metadata": {},
   "outputs": [
    {
     "data": {
      "text/plain": [
       "5"
      ]
     },
     "execution_count": 19,
     "metadata": {},
     "output_type": "execute_result"
    }
   ],
   "source": [
    "vendors_gtfs_scheduling = gtfs_scheduling.vendor.nunique()\n",
    "vendors_gtfs_scheduling"
   ]
  },
  {
   "cell_type": "code",
   "execution_count": 20,
   "id": "57679e6d-23f4-4160-bb4b-6f508ec92a74",
   "metadata": {},
   "outputs": [
    {
     "data": {
      "text/plain": [
       "'About 0.05952380952380952 of vendors offer both GTFS generation and scheduling software'"
      ]
     },
     "execution_count": 20,
     "metadata": {},
     "output_type": "execute_result"
    }
   ],
   "source": [
    "f\"About {(vendors_gtfs_scheduling/unique_vendors)} of vendors offer both GTFS generation and scheduling software\""
   ]
  },
  {
   "cell_type": "markdown",
   "id": "5e01755d-32b7-4fe7-8467-dbc2301c59fb",
   "metadata": {},
   "source": [
    "### Vendors with the most customers"
   ]
  },
  {
   "cell_type": "code",
   "execution_count": 21,
   "id": "6ef10e40-b06f-4c01-bbcc-247c8529298b",
   "metadata": {},
   "outputs": [],
   "source": [
    "# filter out for any products w/o vendor info\n",
    "no_vendor_nulls = products.loc[products[\"vendor\"] != \"N/A\"]"
   ]
  },
  {
   "cell_type": "code",
   "execution_count": 22,
   "id": "333310de-9f7e-492a-912e-8fb986fd6d62",
   "metadata": {},
   "outputs": [],
   "source": [
    "vendors_with_most_customers = (\n",
    "    no_vendor_nulls.groupby(\"vendor\")\n",
    "    .agg({\"count_of_orgs_using_product\": \"sum\"})\n",
    "    .sort_values(\"count_of_orgs_using_product\", ascending=False)\n",
    "    .reset_index()\n",
    "    .head(5)\n",
    "    .rename(columns={\"count_of_orgs_using_product\": \"total customers\"})\n",
    ")"
   ]
  },
  {
   "cell_type": "markdown",
   "id": "a71c0cd8-da2e-4d4f-8745-55f8d9d0707e",
   "metadata": {},
   "source": [
    "utils.basic_bar_chart(\n",
    "    vendors_with_most_customers,\n",
    "    \"total customers\",\n",
    "    \"vendor\",\n",
    "    \"vendor\",\n",
    "    \"Vendors with the Most Customers\",\n",
    ")"
   ]
  },
  {
   "cell_type": "markdown",
   "id": "26f33c65-ff6a-464a-91f7-5b39cb711d85",
   "metadata": {},
   "source": [
    "### Vendor with the most products\n"
   ]
  },
  {
   "cell_type": "code",
   "execution_count": 23,
   "id": "ad2c2f48-7218-4c9c-ac4f-4428f79c4195",
   "metadata": {},
   "outputs": [],
   "source": [
    "vendors_with_most_products = (\n",
    "    no_vendor_nulls.vendor.value_counts()\n",
    "    .to_frame()\n",
    "    .head(5)\n",
    "    .reset_index()\n",
    "    .rename(columns={\"vendor\": \"total products\", \"index\": \"vendor\"})\n",
    ")"
   ]
  },
  {
   "cell_type": "markdown",
   "id": "87cb84e4-a407-4912-a851-e7f40f83df54",
   "metadata": {},
   "source": [
    "utils.basic_bar_chart(\n",
    "    vendors_with_most_products,\n",
    "    \"vendor\",\n",
    "    \"total products\",\n",
    "    \"vendor\",\n",
    "    \"Vendors with the most Products\",\n",
    ")"
   ]
  },
  {
   "cell_type": "markdown",
   "id": "a86c46e5-dcd1-47ed-9dc1-c5efaaf67564",
   "metadata": {},
   "source": [
    "### Most popular products in general\n",
    "* Metric: count_of_orgs_using_product column is the count of strings delinated by comma in the organization stacks component column for each product.\n",
    "    * Assume that each value is a separate organization.\n",
    "* Many organizations rely on \"in house activity.\" "
   ]
  },
  {
   "cell_type": "code",
   "execution_count": 24,
   "id": "c7c68d67-6567-46b6-96bc-3afc924c5b1d",
   "metadata": {
    "tags": []
   },
   "outputs": [],
   "source": [
    "most_popular = (\n",
    "    products[\n",
    "        [\"product_name\", \"vendor\", \"components\", \"count_of_orgs_using_product\", \"notes\"]\n",
    "    ]\n",
    "    .sort_values(\"count_of_orgs_using_product\", ascending=False)\n",
    "    .head(10)\n",
    "    .rename(\n",
    "        columns={\n",
    "            \"count_of_orgs_using_product\": \"number_of_organizations_using_the_product\"\n",
    "        }\n",
    "    )\n",
    ")"
   ]
  },
  {
   "cell_type": "markdown",
   "id": "febc56b1-d909-4b79-88e3-4f07cfeb95c9",
   "metadata": {
    "tags": []
   },
   "source": [
    "### Look at 5 categories more in depth.\n",
    "* We chose scheduling, AVL, GTFS generation, mobile ticketing, and real time components. "
   ]
  },
  {
   "cell_type": "code",
   "execution_count": 25,
   "id": "fa9aad10-f115-4538-8031-1d8fe5c49cee",
   "metadata": {},
   "outputs": [],
   "source": [
    "# List of components we are interested in.\n",
    "subset_list = [\n",
    "    \"GTFS generation\",\n",
    "    \"AVL On-board Computer\",\n",
    "    \"AVL Software\",\n",
    "    \"Mobile ticketing\",\n",
    "    \"Real-time info\",\n",
    "    \"Scheduling (Fixed-route)\",\n",
    "]"
   ]
  },
  {
   "cell_type": "code",
   "execution_count": 26,
   "id": "69f9ca2d-e64c-42b8-9789-b4999e0d1032",
   "metadata": {},
   "outputs": [],
   "source": [
    "# new dataframe with only the components in our list\n",
    "subset_df = products2[products2.components.isin(subset_list)]"
   ]
  },
  {
   "cell_type": "code",
   "execution_count": 27,
   "id": "81e0b5f0-449a-4a4d-9d0d-2f04e5e803f8",
   "metadata": {},
   "outputs": [
    {
     "data": {
      "text/plain": [
       "array(['Real-time info', 'AVL On-board Computer', 'AVL Software',\n",
       "       'Mobile ticketing', 'GTFS generation', 'Scheduling (Fixed-route)'],\n",
       "      dtype=object)"
      ]
     },
     "execution_count": 27,
     "metadata": {},
     "output_type": "execute_result"
    }
   ],
   "source": [
    "# double check that it's correct.\n",
    "subset_df.components.unique()"
   ]
  },
  {
   "cell_type": "code",
   "execution_count": 28,
   "id": "4bbf374a-5135-408c-946f-7163293e0996",
   "metadata": {},
   "outputs": [
    {
     "data": {
      "text/plain": [
       "97"
      ]
     },
     "execution_count": 28,
     "metadata": {},
     "output_type": "execute_result"
    }
   ],
   "source": [
    "# keep only certain columns and re order them.\n",
    "subset_df = subset_df[\n",
    "    [\n",
    "        \"components\",\n",
    "        \"vendor\",\n",
    "        \"product_name\",\n",
    "        \"organization_stack_components\",\n",
    "        \"count_of_orgs_using_product\",\n",
    "    ]\n",
    "]\n",
    "len(subset_df)"
   ]
  },
  {
   "cell_type": "code",
   "execution_count": 29,
   "id": "c7998bd8-81d5-401c-85cc-78ba377e35d8",
   "metadata": {},
   "outputs": [],
   "source": [
    "subset_df = subset_df.rename(\n",
    "    columns={\n",
    "        \"vendor\": \"Vendor\",\n",
    "        \"count_of_orgs_using_product\": \"Total Organizations\",\n",
    "    }\n",
    ")"
   ]
  },
  {
   "cell_type": "code",
   "execution_count": 30,
   "id": "bd8dd5cd-5c0f-4326-9ee0-711c70c08e3b",
   "metadata": {
    "scrolled": true,
    "tags": []
   },
   "outputs": [],
   "source": [
    "#subset_df.loc[subset_df[\"components\"] == \"Real-time info\"]"
   ]
  },
  {
   "cell_type": "code",
   "execution_count": 31,
   "id": "5fd0b1f8-f5b8-437b-8b8c-f7e55b4b7b33",
   "metadata": {},
   "outputs": [
    {
     "data": {
      "text/html": [
       "\n",
       "<div id=\"altair-viz-7d9caccead594f1ca580eb20a949314d\"></div>\n",
       "<script type=\"text/javascript\">\n",
       "  var VEGA_DEBUG = (typeof VEGA_DEBUG == \"undefined\") ? {} : VEGA_DEBUG;\n",
       "  (function(spec, embedOpt){\n",
       "    let outputDiv = document.currentScript.previousElementSibling;\n",
       "    if (outputDiv.id !== \"altair-viz-7d9caccead594f1ca580eb20a949314d\") {\n",
       "      outputDiv = document.getElementById(\"altair-viz-7d9caccead594f1ca580eb20a949314d\");\n",
       "    }\n",
       "    const paths = {\n",
       "      \"vega\": \"https://cdn.jsdelivr.net/npm//vega@5?noext\",\n",
       "      \"vega-lib\": \"https://cdn.jsdelivr.net/npm//vega-lib?noext\",\n",
       "      \"vega-lite\": \"https://cdn.jsdelivr.net/npm//vega-lite@4.17.0?noext\",\n",
       "      \"vega-embed\": \"https://cdn.jsdelivr.net/npm//vega-embed@6?noext\",\n",
       "    };\n",
       "\n",
       "    function maybeLoadScript(lib, version) {\n",
       "      var key = `${lib.replace(\"-\", \"\")}_version`;\n",
       "      return (VEGA_DEBUG[key] == version) ?\n",
       "        Promise.resolve(paths[lib]) :\n",
       "        new Promise(function(resolve, reject) {\n",
       "          var s = document.createElement('script');\n",
       "          document.getElementsByTagName(\"head\")[0].appendChild(s);\n",
       "          s.async = true;\n",
       "          s.onload = () => {\n",
       "            VEGA_DEBUG[key] = version;\n",
       "            return resolve(paths[lib]);\n",
       "          };\n",
       "          s.onerror = () => reject(`Error loading script: ${paths[lib]}`);\n",
       "          s.src = paths[lib];\n",
       "        });\n",
       "    }\n",
       "\n",
       "    function showError(err) {\n",
       "      outputDiv.innerHTML = `<div class=\"error\" style=\"color:red;\">${err}</div>`;\n",
       "      throw err;\n",
       "    }\n",
       "\n",
       "    function displayChart(vegaEmbed) {\n",
       "      vegaEmbed(outputDiv, spec, embedOpt)\n",
       "        .catch(err => showError(`Javascript Error: ${err.message}<br>This usually means there's a typo in your chart specification. See the javascript console for the full traceback.`));\n",
       "    }\n",
       "\n",
       "    if(typeof define === \"function\" && define.amd) {\n",
       "      requirejs.config({paths});\n",
       "      require([\"vega-embed\"], displayChart, err => showError(`Error loading script: ${err.message}`));\n",
       "    } else {\n",
       "      maybeLoadScript(\"vega\", \"5\")\n",
       "        .then(() => maybeLoadScript(\"vega-lite\", \"4.17.0\"))\n",
       "        .then(() => maybeLoadScript(\"vega-embed\", \"6\"))\n",
       "        .catch(showError)\n",
       "        .then(() => displayChart(vegaEmbed));\n",
       "    }\n",
       "  })({\"config\": {\"view\": {\"continuousWidth\": 400, \"continuousHeight\": 300}, \"axis\": {\"grid\": false}, \"axisBand\": {\"grid\": false}, \"background\": \"white\", \"font\": \"Raleway\", \"header\": {\"labelFont\": \"Nunito Sans\", \"titleFont\": \"Raleway\"}, \"legend\": {\"labelColor\": \"#333\", \"labelFont\": \"Nunito Sans\", \"labelFontSize\": 11, \"labelLimit\": 0, \"padding\": 1, \"symbolSize\": 30, \"symbolType\": \"square\", \"titleColor\": \"#333\", \"titleFont\": \"Raleway\", \"titleFontSize\": 14, \"titlePadding\": 10}, \"title\": {\"anchor\": \"middle\", \"font\": \"Raleway\", \"fontSize\": 18, \"fontWeight\": 300, \"offset\": 20}}, \"layer\": [{\"mark\": \"bar\", \"encoding\": {\"color\": {\"field\": \"Vendor\", \"scale\": {\"range\": [\"#2EA8CE\", \"#EB9F3C\", \"#F4D837\", \"#51BF9D\", \"#8CBCCB\", \"#9487C0\"]}, \"type\": \"nominal\"}, \"x\": {\"field\": \"Total Organizations\", \"title\": \"Total Organizations\", \"type\": \"quantitative\"}, \"y\": {\"field\": \"Vendor\", \"sort\": \"-x\", \"title\": \"Vendor\", \"type\": \"nominal\"}}}, {\"mark\": {\"type\": \"text\", \"align\": \"left\", \"baseline\": \"middle\", \"color\": \"black\", \"dy\": 3}, \"encoding\": {\"color\": {\"value\": \"black\"}, \"text\": {\"field\": \"Total Organizations\", \"type\": \"quantitative\"}, \"x\": {\"field\": \"Total Organizations\", \"title\": \"Total Organizations\", \"type\": \"quantitative\"}, \"y\": {\"field\": \"Vendor\", \"sort\": \"-x\", \"title\": \"Vendor\", \"type\": \"nominal\"}}}], \"data\": {\"name\": \"data-db2109ce8e96f614a0b4dc9688cc198a\"}, \"height\": 250, \"title\": \"Top 5 Vendors in GTFS generation\", \"width\": 400, \"$schema\": \"https://vega.github.io/schema/vega-lite/v4.17.0.json\", \"datasets\": {\"data-db2109ce8e96f614a0b4dc9688cc198a\": [{\"components\": \"GTFS generation\", \"Vendor\": \"Trillium Inc.\", \"product_name\": \"Trillium GTFS Manager\", \"organization_stack_components\": \"Caltrain, El Dorado Paratransit-Trillium GTFS Manager-GTFS generation, Thousand Oaks Transit-Trillium GTFS Manager-GTFS generation, Anaheim Resort Transportation-Trillium GTFS Manager-GTFS generation, South County Transit Link, Norwalk Transit System-Trillium GTFS Manager-GTFS generation, Tulare County Area Transit-Trillium GTFS Manager-GTFS generation, Siskiyou Transit and General Express-Trillium GTFS Manager-GTFS generation, City Coach-Trillium GTFS Manager-GTFS generation, Simi Valley Transit-Trillium GTFS Manager-GTFS generation, Eastern Sierra Transit Authority Community Routes-Trillium GTFS Manager-GTFS generation, VCTC Intercity-Trillium GTFS Manager-GTFS generation, Petaluma Transit-Trillium GTFS Manager-GTFS generation, Tahoe Truckee Area Regional Transportation, Amador Transit-Trillium GTFS Manager-GTFS generation, KART-Trillium GTFS Manager-GTFS generation, Placer County Transit-Trillium GTFS Manager-Scheduling (Fixed-route), Corona Cruiser-Trillium GTFS Manager-GTFS generation, Trinity Transit-Trillium GTFS Manager-GTFS generation, Vine Transit-Trillium GTFS Manager-Real-time info, Tahoe Truckee Area Regional Transportation-Trillium GTFS Manager-GTFS generation, ESTA 395 Routes, Fairfield and Suisun Transit-Trillium GTFS Manager-GTFS generation, Caltrain Shuttles-Trillium GTFS Manager-GTFS generation, South County Transit Dial-A-Ride-Trillium GTFS Manager-GTFS generation, Kern Transit-Trillium GTFS Manager-Scheduling (Fixed-route), Kern Transit-Trillium GTFS Manager-GTFS generation, Nevada County Connects-Trillium GTFS Manager-GTFS generation, El Dorado Transit-Trillium GTFS Manager-GTFS generation, WestCAT Express Bus to BART, Sonoma County Transit-Trillium GTFS Manager-GTFS generation, Vine Transit-Trillium GTFS Manager-GTFS generation, Tahoe Transportation Paratransit-Trillium GTFS Manager-GTFS generation, Yuba-Sutter Transit, El Dorado Transit, Clovis Transit Stageline-Trillium GTFS Manager-GTFS generation, SolTrans-Trillium GTFS Manager-GTFS generation, WestCAT Lynx Express-Trillium GTFS Manager-GTFS generation, Yosemite Area Regional Transportation System-Trillium GTFS Manager-GTFS generation, El Monte Transit-Trillium GTFS Manager-GTFS generation, Nevada County Now-Trillium GTFS Manager-GTFS generation, County Express-Trillium GTFS Manager-GTFS generation, Nevada County Connects, Turlock Transit-Trillium GTFS Manager-GTFS generation, Desert Roadrunner-Trillium GTFS Manager-GTFS generation, Placer County Transit-Trillium GTFS Manager-GTFS generation, WestCAT Local, Palos Verdes Peninsula Transit Authority-Trillium GTFS Manager-Scheduling (Fixed-route), El Dorado Dial-A-Ride, GTrans-Trillium GTFS Manager-GTFS generation, Clovis Transit Roundup, Sacramento/South Lake Tahoe Connector Bus, SAC-MED, Palos Verdes Peninsula Transit Authority-Trillium GTFS Manager-GTFS generation, El Monte Commuter Shuttles, Redwood Coast Transit-Trillium GTFS Manager-GTFS generation, Commerce Municipal Bus Lines-Trillium GTFS Manager-GTFS generation, Yuba-Sutter Rural Transit-Trillium GTFS Manager-GTFS generation\", \"Total Organizations\": 58}, {\"components\": \"GTFS generation\", \"Vendor\": \"Giro Inc.\", \"product_name\": \"Giro HASTUS\", \"organization_stack_components\": \"LA Metro Rail-In house activity, LA Metro Bus, SamTrans Shuttles-Giro HASTUS-Scheduling (Fixed-route), Golden Gate Oracle Park Ferry, Santa Cruz METRO-Giro HASTUS-GTFS generation, NCTD Sprinter-Giro HASTUS-Scheduling (Fixed-route), Foothill Transit-Giro HASTUS-GTFS generation, Bay Area Rapid Transit-Giro HASTUS-GTFS generation, NCTD BREEZE, Golden Gate Transit-Giro HASTUS-GTFS generation, Riverside Transit-Giro HASTUS-Scheduling (Fixed-route), Golden Gate Ferry, SamTrans, Monterey-Salinas Transit, MST Monterey Trolley-Giro HASTUS-GTFS generation, Foothill Transit-Giro HASTUS-Scheduling (Fixed-route), Bay Area Rapid Transit-Giro HASTUS-Scheduling (Fixed-route), NCTD Coaster, Long Beach Transit-Giro HASTUS-GTFS generation, Riverside Transit-Giro HASTUS-GTFS generation, NCTD Sprinter-Giro HASTUS-GTFS generation, SamTrans Shuttles-Giro HASTUS-GTFS generation, Long Beach Transit-Giro HASTUS-Scheduling (Fixed-route), Golden Gate Transit-Giro HASTUS-Scheduling (Fixed-route), LA Metro Rail-Giro HASTUS-Scheduling (Fixed-route), MST Monterey Trolley-Giro HASTUS-Scheduling (Fixed-route), Santa Cruz METRO-Giro HASTUS-Scheduling (Fixed-route), Giro HASTUS-GTFS generation\", \"Total Organizations\": 28}, {\"components\": \"GTFS generation\", \"Vendor\": \"Trapeze Group\", \"product_name\": \"Trapeze - Unspecified\", \"organization_stack_components\": \"VTA School Tripper-Clever Devices - Unspecified, Long Beach Transit-Trapeze - Unspecified-Mobile data terminal software, Long Beach Transit-Trapeze - Unspecified, OmniTrans, MST Monterey Trolley-Trapeze - Unspecified-Mobile data terminal software, VTA Light Rail, SJRTD Commuter, VTA Rapid Bus, Trapeze - Unspecified-KPI Reporting, Monterey-Salinas Transit, Tri-Valley Wheels-Trapeze - Unspecified-Mobile data terminal software, B-Line-Trapeze - Unspecified-Mobile data terminal software, VTA Bus, Tri-Valley Wheels-Trapeze - Unspecified-Real-time info, OmniTrans sbX-Trapeze - Unspecified-Mobile data terminal software, SJRTD Local-Trapeze - Unspecified-Mobile data terminal software, Big Blue Bus-Trapeze - Unspecified-Mobile data terminal software, VTA Express Bus, OmniTrans sbX-Trapeze - Unspecified-APC Software, In house activity-KPI Reporting, VTA ACE Shuttles, SJRTD BRT Express\", \"Total Organizations\": 22}, {\"components\": \"GTFS generation\", \"Vendor\": \"Optibus\", \"product_name\": \"Optibus\", \"organization_stack_components\": \"GET Bus, Marin Transit-Optibus-Scheduling (Fixed-route), Marin Transit-Optibus-GTFS generation, GMV/Syncromatics Sync -GTFS generation, Commuter Express-Optibus-Scheduling (Fixed-route), In house activity, GET Bus On Demand-Optibus-Scheduling (Fixed-route), Commuter Express-Optibus, DASH\", \"Total Organizations\": 9}, {\"components\": \"GTFS generation\", \"Vendor\": \"The Master Scheduler\", \"product_name\": \"The Master Scheduler\", \"organization_stack_components\": \"Santa Rosa CityBus-The Master Scheduler-Scheduling (Fixed-route), Santa Clarita Transit, Santa Maria Area Transit-The Master Scheduler-Scheduling (Fixed-route), Santa Clarita Summer Trolly-The Master Scheduler-Scheduling (Fixed-route), SolTrans-The Master Scheduler-Scheduling (Fixed-route)\", \"Total Organizations\": 5}]}}, {\"mode\": \"vega-lite\"});\n",
       "</script>"
      ],
      "text/plain": [
       "alt.LayerChart(...)"
      ]
     },
     "metadata": {},
     "output_type": "display_data"
    },
    {
     "data": {
      "text/html": [
       "\n",
       "<div id=\"altair-viz-04c9f342231647e5b65f92966a038469\"></div>\n",
       "<script type=\"text/javascript\">\n",
       "  var VEGA_DEBUG = (typeof VEGA_DEBUG == \"undefined\") ? {} : VEGA_DEBUG;\n",
       "  (function(spec, embedOpt){\n",
       "    let outputDiv = document.currentScript.previousElementSibling;\n",
       "    if (outputDiv.id !== \"altair-viz-04c9f342231647e5b65f92966a038469\") {\n",
       "      outputDiv = document.getElementById(\"altair-viz-04c9f342231647e5b65f92966a038469\");\n",
       "    }\n",
       "    const paths = {\n",
       "      \"vega\": \"https://cdn.jsdelivr.net/npm//vega@5?noext\",\n",
       "      \"vega-lib\": \"https://cdn.jsdelivr.net/npm//vega-lib?noext\",\n",
       "      \"vega-lite\": \"https://cdn.jsdelivr.net/npm//vega-lite@4.17.0?noext\",\n",
       "      \"vega-embed\": \"https://cdn.jsdelivr.net/npm//vega-embed@6?noext\",\n",
       "    };\n",
       "\n",
       "    function maybeLoadScript(lib, version) {\n",
       "      var key = `${lib.replace(\"-\", \"\")}_version`;\n",
       "      return (VEGA_DEBUG[key] == version) ?\n",
       "        Promise.resolve(paths[lib]) :\n",
       "        new Promise(function(resolve, reject) {\n",
       "          var s = document.createElement('script');\n",
       "          document.getElementsByTagName(\"head\")[0].appendChild(s);\n",
       "          s.async = true;\n",
       "          s.onload = () => {\n",
       "            VEGA_DEBUG[key] = version;\n",
       "            return resolve(paths[lib]);\n",
       "          };\n",
       "          s.onerror = () => reject(`Error loading script: ${paths[lib]}`);\n",
       "          s.src = paths[lib];\n",
       "        });\n",
       "    }\n",
       "\n",
       "    function showError(err) {\n",
       "      outputDiv.innerHTML = `<div class=\"error\" style=\"color:red;\">${err}</div>`;\n",
       "      throw err;\n",
       "    }\n",
       "\n",
       "    function displayChart(vegaEmbed) {\n",
       "      vegaEmbed(outputDiv, spec, embedOpt)\n",
       "        .catch(err => showError(`Javascript Error: ${err.message}<br>This usually means there's a typo in your chart specification. See the javascript console for the full traceback.`));\n",
       "    }\n",
       "\n",
       "    if(typeof define === \"function\" && define.amd) {\n",
       "      requirejs.config({paths});\n",
       "      require([\"vega-embed\"], displayChart, err => showError(`Error loading script: ${err.message}`));\n",
       "    } else {\n",
       "      maybeLoadScript(\"vega\", \"5\")\n",
       "        .then(() => maybeLoadScript(\"vega-lite\", \"4.17.0\"))\n",
       "        .then(() => maybeLoadScript(\"vega-embed\", \"6\"))\n",
       "        .catch(showError)\n",
       "        .then(() => displayChart(vegaEmbed));\n",
       "    }\n",
       "  })({\"config\": {\"view\": {\"continuousWidth\": 400, \"continuousHeight\": 300}, \"axis\": {\"grid\": false}, \"axisBand\": {\"grid\": false}, \"background\": \"white\", \"font\": \"Raleway\", \"header\": {\"labelFont\": \"Nunito Sans\", \"titleFont\": \"Raleway\"}, \"legend\": {\"labelColor\": \"#333\", \"labelFont\": \"Nunito Sans\", \"labelFontSize\": 11, \"labelLimit\": 0, \"padding\": 1, \"symbolSize\": 30, \"symbolType\": \"square\", \"titleColor\": \"#333\", \"titleFont\": \"Raleway\", \"titleFontSize\": 14, \"titlePadding\": 10}, \"title\": {\"anchor\": \"middle\", \"font\": \"Raleway\", \"fontSize\": 18, \"fontWeight\": 300, \"offset\": 20}}, \"layer\": [{\"mark\": \"bar\", \"encoding\": {\"color\": {\"field\": \"Vendor\", \"scale\": {\"range\": [\"#2EA8CE\", \"#EB9F3C\", \"#F4D837\", \"#51BF9D\", \"#8CBCCB\", \"#9487C0\"]}, \"type\": \"nominal\"}, \"x\": {\"field\": \"Total Organizations\", \"title\": \"Total Organizations\", \"type\": \"quantitative\"}, \"y\": {\"field\": \"Vendor\", \"sort\": \"-x\", \"title\": \"Vendor\", \"type\": \"nominal\"}}}, {\"mark\": {\"type\": \"text\", \"align\": \"left\", \"baseline\": \"middle\", \"color\": \"black\", \"dy\": 3}, \"encoding\": {\"color\": {\"value\": \"black\"}, \"text\": {\"field\": \"Total Organizations\", \"type\": \"quantitative\"}, \"x\": {\"field\": \"Total Organizations\", \"title\": \"Total Organizations\", \"type\": \"quantitative\"}, \"y\": {\"field\": \"Vendor\", \"sort\": \"-x\", \"title\": \"Vendor\", \"type\": \"nominal\"}}}], \"data\": {\"name\": \"data-f559678a07072ee2ec642ce881461d7e\"}, \"height\": 250, \"title\": \"Top 5 Vendors in AVL On-board Computer\", \"width\": 400, \"$schema\": \"https://vega.github.io/schema/vega-lite/v4.17.0.json\", \"datasets\": {\"data-f559678a07072ee2ec642ce881461d7e\": [{\"components\": \"AVL On-board Computer\", \"Vendor\": \"GMV Syncromatics Inc\", \"product_name\": \"GMV/Syncromatics Dispatch\", \"organization_stack_components\": \"Camarillo Trolly, Marin Transit-GMV/Syncromatics Dispatch-Mobile data terminal software, Commuter Express-GMV/Syncromatics Dispatch-Mobile data terminal software, Beach Cities Transit-GMV/Syncromatics Dispatch-AVL Software, Fresno County Rural Transit-GMV/Syncromatics Dispatch-AVL Software, DASH, Gold Coast Transit-GMV/Syncromatics Dispatch-Mobile data terminal software, Anaheim Resort Transportation-GMV/Syncromatics Dispatch-Mobile data terminal software, Commerce Municipal Bus Lines-GMV/Syncromatics Dispatch-Mobile data terminal software, Burbank Bus-GMV/Syncromatics Dispatch-AVL Software, Santa Cruz METRO-GMV/Syncromatics Dispatch-AVL Software, Ojai Trolley-GMV/Syncromatics Dispatch-Mobile data terminal software, Visalia Transit-GMV/Syncromatics Dispatch, Ojai Trolley-GMV/Syncromatics Dispatch-AVL Software, Commerce Municipal Bus Lines-GMV/Syncromatics Dispatch-AVL Software, Roseville Dial-A-Ride-GMV/Syncromatics Dispatch-AVL Software, Commuter Express-GMV/Syncromatics Dispatch-AVL Software, Bishop Peak BPT Ecosystem-Mobile data terminal software, Gold Coast Transit-GMV/Syncromatics Dispatch-AVL Software, Beach Cities Transit-GMV/Syncromatics Dispatch-Mobile data terminal software, Roseville Transit-GMV/Syncromatics Dispatch-AVL Software, Camarillo Area Transit-GMV/Syncromatics Dispatch-AVL Software, Bishop Peak BPT Ecosystem-AVL Software, VCTC Intercity-GMV/Syncromatics Dispatch-AVL Software, VCTC Intercity-GMV/Syncromatics Dispatch-Mobile data terminal software, Burbank Bus-GMV/Syncromatics Dispatch-Mobile data terminal software, Simi Valley Transit-GMV/Syncromatics Dispatch-Mobile data terminal software, Anaheim Resort Transportation-GMV/Syncromatics Dispatch-AVL Software, Thousand Oaks Transit-GMV/Syncromatics Dispatch-AVL Software, Union City Transit-GMV/Syncromatics Dispatch-AVL Software, Fresno County Rural Transit-GMV/Syncromatics Dispatch-Mobile data terminal software, Marin Transit-GMV/Syncromatics Dispatch-AVL Software, Thousand Oaks Transit-GMV/Syncromatics Dispatch-Mobile data terminal software, Simi Valley Transit-GMV/Syncromatics Dispatch-AVL Software, Roseville Transit, Santa Cruz METRO-GMV/Syncromatics Dispatch-Mobile data terminal software, Union City Transit-GMV/Syncromatics Dispatch-Mobile data terminal software\", \"Total Organizations\": 37}, {\"components\": \"AVL On-board Computer\", \"Vendor\": \"Conduent Inc\", \"product_name\": \"Conduent (Unspecified Model)\", \"organization_stack_components\": \"NCTD BREEZE, Market Street Historic Railway-Conduent (Unspecified Model)-AVL Software, SamTrans Shuttles-Conduent (Unspecified Model)-Annunciator, San Francisco Cable Cars, SamTrans Shuttles-Conduent (Unspecified Model)-Headsigns, INIT (Unspecified Model)-Ticket Vending Machines, NCTD Sprinter-Conduent (Unspecified Model)-AVL Software, NCTD Coaster, SamTrans Shuttles-Conduent (Unspecified Model)-AVL Software, Muni Bus, Muni Metro, Metrolink-Conduent (Unspecified Model), SamTrans, SamTrans Shuttles-Conduent (Unspecified Model)-APC Software\", \"Total Organizations\": 14}, {\"components\": \"AVL On-board Computer\", \"Vendor\": \"N/A\", \"product_name\": \"Cubic - Unspecified\", \"organization_stack_components\": \"Muni Metro-Cubic - Unspecified-Ticket Vending Machines, NCTD Sprinter, Long Beach Transit-Cubic - Unspecified-Payment processor, NCTD BREEZE, Caltrain-VenTek venSTATION, Cubic - Unspecified-Ticket Vending Machines, NCTD Coaster-Cubic - Unspecified-Ticket Vending Machines, Golden Gate Oracle Park Ferry, Golden Gate Transit-Cubic - Unspecified-Payment processor, Long Beach Transit-Cubic - Unspecified-Ticket Vending Machines, Golden Gate Ferry, Big Blue Bus-Cubic - Unspecified-Ticket Vending Machines, Bay Area Rapid Transit-Cubic - Unspecified-Ticket Vending Machines\", \"Total Organizations\": 13}, {\"components\": \"AVL On-board Computer\", \"Vendor\": \"Luminator Technology Group\", \"product_name\": \"Luminator - Unspecified\", \"organization_stack_components\": \"Hanover Headsigns-Headsigns, Petaluma Transit-Luminator - Unspecified-Headsigns, Sonoma County Transit-Luminator - Unspecified, Gold Coast Transit-Luminator - Unspecified-Headsigns, Tahoe Truckee Area Regional Transportation-Luminator - Unspecified-Headsigns, Luminator - Unspecified-Headsigns, Glendale Beeline-Twin Vision, Big Blue Bus-Luminator - Unspecified-Headsigns, Riverside Transit-Luminator - Unspecified-Headsigns\", \"Total Organizations\": 9}, {\"components\": \"AVL On-board Computer\", \"Vendor\": \"Avail Technologies Inc.\", \"product_name\": \"ARINC PADS\", \"organization_stack_components\": \"Caltrain Shuttles-ARINC PADS-AVL Software, Caltrain, Caltrain Shuttles-ARINC PADS-Arrival predictions, Caltrain Shuttles-ARINC PADS-Alerts Content Management System\", \"Total Organizations\": 4}]}}, {\"mode\": \"vega-lite\"});\n",
       "</script>"
      ],
      "text/plain": [
       "alt.LayerChart(...)"
      ]
     },
     "metadata": {},
     "output_type": "display_data"
    },
    {
     "data": {
      "text/html": [
       "\n",
       "<div id=\"altair-viz-8044c2448fb74106a84b5bea0bedd743\"></div>\n",
       "<script type=\"text/javascript\">\n",
       "  var VEGA_DEBUG = (typeof VEGA_DEBUG == \"undefined\") ? {} : VEGA_DEBUG;\n",
       "  (function(spec, embedOpt){\n",
       "    let outputDiv = document.currentScript.previousElementSibling;\n",
       "    if (outputDiv.id !== \"altair-viz-8044c2448fb74106a84b5bea0bedd743\") {\n",
       "      outputDiv = document.getElementById(\"altair-viz-8044c2448fb74106a84b5bea0bedd743\");\n",
       "    }\n",
       "    const paths = {\n",
       "      \"vega\": \"https://cdn.jsdelivr.net/npm//vega@5?noext\",\n",
       "      \"vega-lib\": \"https://cdn.jsdelivr.net/npm//vega-lib?noext\",\n",
       "      \"vega-lite\": \"https://cdn.jsdelivr.net/npm//vega-lite@4.17.0?noext\",\n",
       "      \"vega-embed\": \"https://cdn.jsdelivr.net/npm//vega-embed@6?noext\",\n",
       "    };\n",
       "\n",
       "    function maybeLoadScript(lib, version) {\n",
       "      var key = `${lib.replace(\"-\", \"\")}_version`;\n",
       "      return (VEGA_DEBUG[key] == version) ?\n",
       "        Promise.resolve(paths[lib]) :\n",
       "        new Promise(function(resolve, reject) {\n",
       "          var s = document.createElement('script');\n",
       "          document.getElementsByTagName(\"head\")[0].appendChild(s);\n",
       "          s.async = true;\n",
       "          s.onload = () => {\n",
       "            VEGA_DEBUG[key] = version;\n",
       "            return resolve(paths[lib]);\n",
       "          };\n",
       "          s.onerror = () => reject(`Error loading script: ${paths[lib]}`);\n",
       "          s.src = paths[lib];\n",
       "        });\n",
       "    }\n",
       "\n",
       "    function showError(err) {\n",
       "      outputDiv.innerHTML = `<div class=\"error\" style=\"color:red;\">${err}</div>`;\n",
       "      throw err;\n",
       "    }\n",
       "\n",
       "    function displayChart(vegaEmbed) {\n",
       "      vegaEmbed(outputDiv, spec, embedOpt)\n",
       "        .catch(err => showError(`Javascript Error: ${err.message}<br>This usually means there's a typo in your chart specification. See the javascript console for the full traceback.`));\n",
       "    }\n",
       "\n",
       "    if(typeof define === \"function\" && define.amd) {\n",
       "      requirejs.config({paths});\n",
       "      require([\"vega-embed\"], displayChart, err => showError(`Error loading script: ${err.message}`));\n",
       "    } else {\n",
       "      maybeLoadScript(\"vega\", \"5\")\n",
       "        .then(() => maybeLoadScript(\"vega-lite\", \"4.17.0\"))\n",
       "        .then(() => maybeLoadScript(\"vega-embed\", \"6\"))\n",
       "        .catch(showError)\n",
       "        .then(() => displayChart(vegaEmbed));\n",
       "    }\n",
       "  })({\"config\": {\"view\": {\"continuousWidth\": 400, \"continuousHeight\": 300}, \"axis\": {\"grid\": false}, \"axisBand\": {\"grid\": false}, \"background\": \"white\", \"font\": \"Raleway\", \"header\": {\"labelFont\": \"Nunito Sans\", \"titleFont\": \"Raleway\"}, \"legend\": {\"labelColor\": \"#333\", \"labelFont\": \"Nunito Sans\", \"labelFontSize\": 11, \"labelLimit\": 0, \"padding\": 1, \"symbolSize\": 30, \"symbolType\": \"square\", \"titleColor\": \"#333\", \"titleFont\": \"Raleway\", \"titleFontSize\": 14, \"titlePadding\": 10}, \"title\": {\"anchor\": \"middle\", \"font\": \"Raleway\", \"fontSize\": 18, \"fontWeight\": 300, \"offset\": 20}}, \"layer\": [{\"mark\": \"bar\", \"encoding\": {\"color\": {\"field\": \"Vendor\", \"scale\": {\"range\": [\"#2EA8CE\", \"#EB9F3C\", \"#F4D837\", \"#51BF9D\", \"#8CBCCB\", \"#9487C0\"]}, \"type\": \"nominal\"}, \"x\": {\"field\": \"Total Organizations\", \"title\": \"Total Organizations\", \"type\": \"quantitative\"}, \"y\": {\"field\": \"Vendor\", \"sort\": \"-x\", \"title\": \"Vendor\", \"type\": \"nominal\"}}}, {\"mark\": {\"type\": \"text\", \"align\": \"left\", \"baseline\": \"middle\", \"color\": \"black\", \"dy\": 3}, \"encoding\": {\"color\": {\"value\": \"black\"}, \"text\": {\"field\": \"Total Organizations\", \"type\": \"quantitative\"}, \"x\": {\"field\": \"Total Organizations\", \"title\": \"Total Organizations\", \"type\": \"quantitative\"}, \"y\": {\"field\": \"Vendor\", \"sort\": \"-x\", \"title\": \"Vendor\", \"type\": \"nominal\"}}}], \"data\": {\"name\": \"data-86eff934cf15d3014af56b1254ac79ba\"}, \"height\": 250, \"title\": \"Top 5 Vendors in AVL Software\", \"width\": 400, \"$schema\": \"https://vega.github.io/schema/vega-lite/v4.17.0.json\", \"datasets\": {\"data-86eff934cf15d3014af56b1254ac79ba\": [{\"components\": \"AVL Software\", \"Vendor\": \"GMV Syncromatics Inc\", \"product_name\": \"GMV/Syncromatics Dispatch\", \"organization_stack_components\": \"Camarillo Trolly, Marin Transit-GMV/Syncromatics Dispatch-Mobile data terminal software, Commuter Express-GMV/Syncromatics Dispatch-Mobile data terminal software, Beach Cities Transit-GMV/Syncromatics Dispatch-AVL Software, Fresno County Rural Transit-GMV/Syncromatics Dispatch-AVL Software, DASH, Gold Coast Transit-GMV/Syncromatics Dispatch-Mobile data terminal software, Anaheim Resort Transportation-GMV/Syncromatics Dispatch-Mobile data terminal software, Commerce Municipal Bus Lines-GMV/Syncromatics Dispatch-Mobile data terminal software, Burbank Bus-GMV/Syncromatics Dispatch-AVL Software, Santa Cruz METRO-GMV/Syncromatics Dispatch-AVL Software, Ojai Trolley-GMV/Syncromatics Dispatch-Mobile data terminal software, Visalia Transit-GMV/Syncromatics Dispatch, Ojai Trolley-GMV/Syncromatics Dispatch-AVL Software, Commerce Municipal Bus Lines-GMV/Syncromatics Dispatch-AVL Software, Roseville Dial-A-Ride-GMV/Syncromatics Dispatch-AVL Software, Commuter Express-GMV/Syncromatics Dispatch-AVL Software, Bishop Peak BPT Ecosystem-Mobile data terminal software, Gold Coast Transit-GMV/Syncromatics Dispatch-AVL Software, Beach Cities Transit-GMV/Syncromatics Dispatch-Mobile data terminal software, Roseville Transit-GMV/Syncromatics Dispatch-AVL Software, Camarillo Area Transit-GMV/Syncromatics Dispatch-AVL Software, Bishop Peak BPT Ecosystem-AVL Software, VCTC Intercity-GMV/Syncromatics Dispatch-AVL Software, VCTC Intercity-GMV/Syncromatics Dispatch-Mobile data terminal software, Burbank Bus-GMV/Syncromatics Dispatch-Mobile data terminal software, Simi Valley Transit-GMV/Syncromatics Dispatch-Mobile data terminal software, Anaheim Resort Transportation-GMV/Syncromatics Dispatch-AVL Software, Thousand Oaks Transit-GMV/Syncromatics Dispatch-AVL Software, Union City Transit-GMV/Syncromatics Dispatch-AVL Software, Fresno County Rural Transit-GMV/Syncromatics Dispatch-Mobile data terminal software, Marin Transit-GMV/Syncromatics Dispatch-AVL Software, Thousand Oaks Transit-GMV/Syncromatics Dispatch-Mobile data terminal software, Simi Valley Transit-GMV/Syncromatics Dispatch-AVL Software, Roseville Transit, Santa Cruz METRO-GMV/Syncromatics Dispatch-Mobile data terminal software, Union City Transit-GMV/Syncromatics Dispatch-Mobile data terminal software\", \"Total Organizations\": 37}, {\"components\": \"AVL Software\", \"Vendor\": \"Clever Devices Ltd.\", \"product_name\": \"Clever Devices - Unspecified\", \"organization_stack_components\": \"VTA School Tripper-Clever Devices - Unspecified, Riverside Transit-Clever Devices - Unspecified-Annunciator, GTrans-Clever Devices - Unspecified-APC Software, Santa Barbara Metropolitan Transit District-Clever Devices - Unspecified-Interior signage, Clever Devices - Unspecified-Annunciator, County Connection-Clever Devices - Unspecified-APC Software, VTA School Tripper-Clever Devices - Unspecified-Interior signage, SacRT Light Rail-Clever Devices - Unspecified-Headsigns, VTA Light Rail, Riverside Transit-Clever Devices - Unspecified-KPI Reporting, SacRT Light Rail-Clever Devices - Unspecified-Annunciator, Fairfield and Suisun Transit-Hanover - Unspecified, Santa Barbara Metropolitan Transit District-Clever Devices - Unspecified-APC Software, VTA Rapid Bus, Trapeze - Unspecified-KPI Reporting, GTrans-Clever Devices - Unspecified-Interior signage, SacRT Bus, Beach Cities Transit-Clever Devices - Unspecified, Santa Barbara Metropolitan Transit District-Clever Devices - Unspecified-Headsigns, GTrans-Clever Devices - Unspecified-Headsigns, County Connection-Clever Devices - Unspecified-Annunciator, VTA School Tripper-Clever Devices - Unspecified-Headsigns, VTA Bus, Santa Barbara Metropolitan Transit District-Clever Devices - Unspecified-Annunciator, County Connection-Clever Devices - Unspecified-Headsigns, VTA School Tripper-Clever Devices - Unspecified-Annunciator, Riverside Transit-Clever Devices - Unspecified-APC Software, SacRT Light Rail-Clever Devices - Unspecified-Interior signage, City Coach-Clever Devices - Unspecified-Annunciator, VTA Express Bus, GTrans-Clever Devices - Unspecified-Annunciator, VTA ACE Shuttles, Hanover - Unspecified-Annunciator\", \"Total Organizations\": 33}, {\"components\": \"AVL Software\", \"Vendor\": \"Connexionz Inc.\", \"product_name\": \"Connextionz CAD/AVL\", \"organization_stack_components\": \"KART-Connextionz CAD/AVL-Arrival predictions, Pasadena Transit-Connextionz CAD/AVL-Arrival predictions, Pasadena Transit-Connextionz CAD/AVL-GTFS generation, In house activity-Alerts Content Management System, Pasadena Transit-Connextionz CAD/AVL-AVL Software, Tri Delta Transit-Connextionz CAD/AVL-AVL Software, Santa Clarita Summer Trolly-Connextionz CAD/AVL-GTFS generation, Santa Clarita Summer Trolly, GET Bus, GET Bus On Demand-Connextionz CAD/AVL-Location Sensors, Santa Clarita Transit-Connextionz CAD/AVL-Arrival predictions, Santa Clarita Transit-Connextionz CAD/AVL, Santa Clarita Transit, Tri Delta Transit-Connextionz CAD/AVL-Arrival predictions, KART-Connextionz CAD/AVL-AVL Software, Santa Clarita Summer Trolly-Connextionz CAD/AVL-AVL Software, GET Bus On Demand-Connextionz CAD/AVL-AVL On-board Computer, GET Bus On Demand-Connextionz CAD/AVL-AVL Software, GET Bus On Demand-Connextionz CAD/AVL-Arrival predictions, GET Bus On Demand-Connextionz CAD/AVL-Real-time info, GET Bus On Demand-Connextionz CAD/AVL-Mobile data terminal software, Tri Delta Transit-Connextionz CAD/AVL-GTFS generation, GET Bus On Demand-Connextionz CAD/AVL-GTFS generation, Pasadena Transit-Connextionz CAD/AVL-Alerts Content Management System\", \"Total Organizations\": 24}, {\"components\": \"AVL Software\", \"Vendor\": \"Conduent Inc\", \"product_name\": \"Conduent (Unspecified Model)\", \"organization_stack_components\": \"NCTD BREEZE, Market Street Historic Railway-Conduent (Unspecified Model)-AVL Software, SamTrans Shuttles-Conduent (Unspecified Model)-Annunciator, San Francisco Cable Cars, SamTrans Shuttles-Conduent (Unspecified Model)-Headsigns, INIT (Unspecified Model)-Ticket Vending Machines, NCTD Sprinter-Conduent (Unspecified Model)-AVL Software, NCTD Coaster, SamTrans Shuttles-Conduent (Unspecified Model)-AVL Software, Muni Bus, Muni Metro, Metrolink-Conduent (Unspecified Model), SamTrans, SamTrans Shuttles-Conduent (Unspecified Model)-APC Software\", \"Total Organizations\": 14}, {\"components\": \"AVL Software\", \"Vendor\": \"N/A\", \"product_name\": \"Cubic - Unspecified\", \"organization_stack_components\": \"Muni Metro-Cubic - Unspecified-Ticket Vending Machines, NCTD Sprinter, Long Beach Transit-Cubic - Unspecified-Payment processor, NCTD BREEZE, Caltrain-VenTek venSTATION, Cubic - Unspecified-Ticket Vending Machines, NCTD Coaster-Cubic - Unspecified-Ticket Vending Machines, Golden Gate Oracle Park Ferry, Golden Gate Transit-Cubic - Unspecified-Payment processor, Long Beach Transit-Cubic - Unspecified-Ticket Vending Machines, Golden Gate Ferry, Big Blue Bus-Cubic - Unspecified-Ticket Vending Machines, Bay Area Rapid Transit-Cubic - Unspecified-Ticket Vending Machines\", \"Total Organizations\": 13}]}}, {\"mode\": \"vega-lite\"});\n",
       "</script>"
      ],
      "text/plain": [
       "alt.LayerChart(...)"
      ]
     },
     "metadata": {},
     "output_type": "display_data"
    },
    {
     "data": {
      "text/html": [
       "\n",
       "<div id=\"altair-viz-0b17292563d94a418ffd492eeba84610\"></div>\n",
       "<script type=\"text/javascript\">\n",
       "  var VEGA_DEBUG = (typeof VEGA_DEBUG == \"undefined\") ? {} : VEGA_DEBUG;\n",
       "  (function(spec, embedOpt){\n",
       "    let outputDiv = document.currentScript.previousElementSibling;\n",
       "    if (outputDiv.id !== \"altair-viz-0b17292563d94a418ffd492eeba84610\") {\n",
       "      outputDiv = document.getElementById(\"altair-viz-0b17292563d94a418ffd492eeba84610\");\n",
       "    }\n",
       "    const paths = {\n",
       "      \"vega\": \"https://cdn.jsdelivr.net/npm//vega@5?noext\",\n",
       "      \"vega-lib\": \"https://cdn.jsdelivr.net/npm//vega-lib?noext\",\n",
       "      \"vega-lite\": \"https://cdn.jsdelivr.net/npm//vega-lite@4.17.0?noext\",\n",
       "      \"vega-embed\": \"https://cdn.jsdelivr.net/npm//vega-embed@6?noext\",\n",
       "    };\n",
       "\n",
       "    function maybeLoadScript(lib, version) {\n",
       "      var key = `${lib.replace(\"-\", \"\")}_version`;\n",
       "      return (VEGA_DEBUG[key] == version) ?\n",
       "        Promise.resolve(paths[lib]) :\n",
       "        new Promise(function(resolve, reject) {\n",
       "          var s = document.createElement('script');\n",
       "          document.getElementsByTagName(\"head\")[0].appendChild(s);\n",
       "          s.async = true;\n",
       "          s.onload = () => {\n",
       "            VEGA_DEBUG[key] = version;\n",
       "            return resolve(paths[lib]);\n",
       "          };\n",
       "          s.onerror = () => reject(`Error loading script: ${paths[lib]}`);\n",
       "          s.src = paths[lib];\n",
       "        });\n",
       "    }\n",
       "\n",
       "    function showError(err) {\n",
       "      outputDiv.innerHTML = `<div class=\"error\" style=\"color:red;\">${err}</div>`;\n",
       "      throw err;\n",
       "    }\n",
       "\n",
       "    function displayChart(vegaEmbed) {\n",
       "      vegaEmbed(outputDiv, spec, embedOpt)\n",
       "        .catch(err => showError(`Javascript Error: ${err.message}<br>This usually means there's a typo in your chart specification. See the javascript console for the full traceback.`));\n",
       "    }\n",
       "\n",
       "    if(typeof define === \"function\" && define.amd) {\n",
       "      requirejs.config({paths});\n",
       "      require([\"vega-embed\"], displayChart, err => showError(`Error loading script: ${err.message}`));\n",
       "    } else {\n",
       "      maybeLoadScript(\"vega\", \"5\")\n",
       "        .then(() => maybeLoadScript(\"vega-lite\", \"4.17.0\"))\n",
       "        .then(() => maybeLoadScript(\"vega-embed\", \"6\"))\n",
       "        .catch(showError)\n",
       "        .then(() => displayChart(vegaEmbed));\n",
       "    }\n",
       "  })({\"config\": {\"view\": {\"continuousWidth\": 400, \"continuousHeight\": 300}, \"axis\": {\"grid\": false}, \"axisBand\": {\"grid\": false}, \"background\": \"white\", \"font\": \"Raleway\", \"header\": {\"labelFont\": \"Nunito Sans\", \"titleFont\": \"Raleway\"}, \"legend\": {\"labelColor\": \"#333\", \"labelFont\": \"Nunito Sans\", \"labelFontSize\": 11, \"labelLimit\": 0, \"padding\": 1, \"symbolSize\": 30, \"symbolType\": \"square\", \"titleColor\": \"#333\", \"titleFont\": \"Raleway\", \"titleFontSize\": 14, \"titlePadding\": 10}, \"title\": {\"anchor\": \"middle\", \"font\": \"Raleway\", \"fontSize\": 18, \"fontWeight\": 300, \"offset\": 20}}, \"layer\": [{\"mark\": \"bar\", \"encoding\": {\"color\": {\"field\": \"Vendor\", \"scale\": {\"range\": [\"#2EA8CE\", \"#EB9F3C\", \"#F4D837\", \"#51BF9D\", \"#8CBCCB\", \"#9487C0\"]}, \"type\": \"nominal\"}, \"x\": {\"field\": \"Total Organizations\", \"title\": \"Total Organizations\", \"type\": \"quantitative\"}, \"y\": {\"field\": \"Vendor\", \"sort\": \"-x\", \"title\": \"Vendor\", \"type\": \"nominal\"}}}, {\"mark\": {\"type\": \"text\", \"align\": \"left\", \"baseline\": \"middle\", \"color\": \"black\", \"dy\": 3}, \"encoding\": {\"color\": {\"value\": \"black\"}, \"text\": {\"field\": \"Total Organizations\", \"type\": \"quantitative\"}, \"x\": {\"field\": \"Total Organizations\", \"title\": \"Total Organizations\", \"type\": \"quantitative\"}, \"y\": {\"field\": \"Vendor\", \"sort\": \"-x\", \"title\": \"Vendor\", \"type\": \"nominal\"}}}], \"data\": {\"name\": \"data-350e701cd11764d8068f589f945a9bf5\"}, \"height\": 250, \"title\": \"Top 5 Vendors in Mobile ticketing\", \"width\": 400, \"$schema\": \"https://vega.github.io/schema/vega-lite/v4.17.0.json\", \"datasets\": {\"data-350e701cd11764d8068f589f945a9bf5\": [{\"components\": \"Mobile ticketing\", \"Vendor\": \"Token Transit\", \"product_name\": \"Token Transit Mobile Ticketing\", \"organization_stack_components\": \"Riverside Transit-Token Transit Mobile Ticketing-Mobile ticketing, B-Line-Token Transit Mobile Ticketing-Mobile ticketing, OmniTrans sbX-Token Transit Mobile Ticketing-Mobile ticketing, Token Transit Mobile Ticketing-Mobile ticketing, Vine Transit-Token Transit Mobile Ticketing, SunLine Transit, Turlock Transit-Token Transit Mobile Ticketing-Mobile ticketing, Santa Clarita Summer Trolly, GET Bus, OmniTrans, RouteShout-Mobile ticketing, Anaheim Resort Transportation-Token Transit Mobile Ticketing, Gold Coast Transit-Token Transit Mobile Ticketing-Mobile ticketing, Hopthru Mobile Ticketing-Mobile ticketing, SunLine School Tripper-Token Transit Mobile Ticketing-Mobile ticketing, SJRTD Commuter, Santa Clarita Transit-Token Transit Mobile Ticketing-Mobile ticketing, SJRTD Local-AmericanEagle Mobile Ticketing, Santa Ynez Valley Transit-Token Transit Mobile Ticketing-Mobile ticketing, Redwood Coast Transit-Token Transit Mobile Ticketing-Mobile ticketing, Modesto Area Express-Token Transit Mobile Ticketing-Mobile ticketing, SunLine 10 Commuter Link, Clovis Transit Stageline, Big Blue Bus-Token Transit Mobile Ticketing-Mobile ticketing, County Express-Token Transit Mobile Ticketing-Mobile ticketing, Simi Valley Transit-Token Transit Mobile Ticketing-Mobile ticketing, Clovis Transit Roundup-Token Transit Mobile Ticketing-Mobile ticketing, SJRTD BRT Express, GET Bus On Demand-Token Transit Mobile Ticketing-Mobile ticketing\", \"Total Organizations\": 29}, {\"components\": \"Mobile ticketing\", \"Vendor\": \"Uber Inc.\", \"product_name\": \"RouteMatch - In-Vehicle Technology\", \"organization_stack_components\": \"Imperial Valley Transit-RouteMatch - In-Vehicle Technology-Annunciator, Porterville Transit-RouteShout, Imperial Valley Transit-RouteMatch - In-Vehicle Technology-Interior signage, Porterville Transit-RouteMatch - In-Vehicle Technology-Mobile data terminal software, Nevada County Now-RouteMatch - In-Vehicle Technology-Mobile data terminal software, El Dorado Transit-RouteMatch - In-Vehicle Technology-AVL Software, Porterville Transit-RouteMatch - In-Vehicle Technology-Annunciator, Porterville Transit-RouteMatch - In-Vehicle Technology-APC Software, El Dorado Transit-RouteMatch - In-Vehicle Technology-Interior signage, Imperial Valley Transit-RouteMatch - In-Vehicle Technology-AVL Software, El Dorado Paratransit-RouteMatch - In-Vehicle Technology-AVL On-board Computer, Imperial Valley Transit-RouteMatch - In-Vehicle Technology-Mobile data terminal software, El Dorado Transit, Imperial Valley Transit-RouteMatch - In-Vehicle Technology-Arrival predictions, Porterville Transit-RouteMatch - In-Vehicle Technology-AVL Software, RouteMatch - In-Vehicle Technology-Real-time info, Porterville Transit-RouteMatch - In-Vehicle Technology-Interior signage, Nevada County Connects, El Dorado Transit-RouteMatch - In-Vehicle Technology-Arrival predictions, El Dorado Paratransit-RouteMatch - In-Vehicle Technology-Annunciator, El Dorado Dial-A-Ride, Imperial Valley Transit-RouteMatch - In-Vehicle Technology-Headsigns, Porterville Transit-RouteMatch - In-Vehicle Technology-Arrival predictions, SAC-MED, Sacramento/South Lake Tahoe Connector Bus, Corona Cruiser-RouteMatch - In-Vehicle Technology-Mobile data terminal software, El Dorado Paratransit-RouteMatch - In-Vehicle Technology-Interior signage, Corona Cruiser-RouteMatch - In-Vehicle Technology-AVL Software\", \"Total Organizations\": 28}, {\"components\": \"Mobile ticketing\", \"Vendor\": \"INIT SE\", \"product_name\": \"INIT (Unspecified Model)\", \"organization_stack_components\": \"Golden Gate Transit-INIT (Unspecified Model)-Interior signage, Golden Gate Oracle Park Ferry, Metrolink-Conduent (Unspecified Model), Golden Gate Transit-INIT (Unspecified Model)-Headsigns, Golden Gate Transit-INIT (Unspecified Model)-Arrival predictions, NCTD BREEZE, Golden Gate Transit-INIT (Unspecified Model)-APC Software, VTA Light Rail, Golden Gate Ferry, VTA Rapid Bus, Golden Gate Transit-INIT (Unspecified Model)-AVL Software, Gold Coast Transit-INIT (Unspecified Model)-Scheduling (Fixed-route), NCTD Sprinter-Dilax (Unspecified Model), Gold Coast Transit-INIT (Unspecified Model)-GTFS generation, INIT (Unspecified Model)-Ticket Vending Machines, Golden Gate Transit-INIT (Unspecified Model)-Offboard signage, NCTD Coaster, VTA School Tripper-INIT (Unspecified Model)-APC Software, Golden Gate Transit-INIT (Unspecified Model)-Mobile data terminal software, VTA Bus, VTA Express Bus, Golden Gate Transit-INIT (Unspecified Model)-Annunciator, INIT (Unspecified Model)-APC Software, VTA ACE Shuttles\", \"Total Organizations\": 24}, {\"components\": \"Mobile ticketing\", \"Vendor\": \"Moovel\", \"product_name\": \"Moovel Mobile Ticketing\", \"organization_stack_components\": \"Caltrain, Clipper Card-Mobile ticketing, Cubic TAP-Mobile ticketing, DASH, NCTD BREEZE, NCTD Sprinter-Moovel Mobile Ticketing-Mobile ticketing, San Francisco Cable Cars, VTA Light Rail, VTA Rapid Bus, Cubic Clipper-Mobile ticketing, Market Street Historic Railway-Moovel Mobile Ticketing, NCTD Coaster, Caltrain Shuttles-Moovel Mobile Ticketing, Muni Metro, VTA Bus, Muni Bus, VTA Express Bus, VTA ACE Shuttles, Commuter Express-Moovel Mobile Ticketing, VTA School Tripper-Moovel Mobile Ticketing-Mobile ticketing\", \"Total Organizations\": 20}, {\"components\": \"Mobile ticketing\", \"Vendor\": \"N/A\", \"product_name\": \"Cubic - Unspecified\", \"organization_stack_components\": \"Muni Metro-Cubic - Unspecified-Ticket Vending Machines, NCTD Sprinter, Long Beach Transit-Cubic - Unspecified-Payment processor, NCTD BREEZE, Caltrain-VenTek venSTATION, Cubic - Unspecified-Ticket Vending Machines, NCTD Coaster-Cubic - Unspecified-Ticket Vending Machines, Golden Gate Oracle Park Ferry, Golden Gate Transit-Cubic - Unspecified-Payment processor, Long Beach Transit-Cubic - Unspecified-Ticket Vending Machines, Golden Gate Ferry, Big Blue Bus-Cubic - Unspecified-Ticket Vending Machines, Bay Area Rapid Transit-Cubic - Unspecified-Ticket Vending Machines\", \"Total Organizations\": 13}]}}, {\"mode\": \"vega-lite\"});\n",
       "</script>"
      ],
      "text/plain": [
       "alt.LayerChart(...)"
      ]
     },
     "metadata": {},
     "output_type": "display_data"
    },
    {
     "data": {
      "text/html": [
       "\n",
       "<div id=\"altair-viz-7c7895395d694f149857e20f90f02137\"></div>\n",
       "<script type=\"text/javascript\">\n",
       "  var VEGA_DEBUG = (typeof VEGA_DEBUG == \"undefined\") ? {} : VEGA_DEBUG;\n",
       "  (function(spec, embedOpt){\n",
       "    let outputDiv = document.currentScript.previousElementSibling;\n",
       "    if (outputDiv.id !== \"altair-viz-7c7895395d694f149857e20f90f02137\") {\n",
       "      outputDiv = document.getElementById(\"altair-viz-7c7895395d694f149857e20f90f02137\");\n",
       "    }\n",
       "    const paths = {\n",
       "      \"vega\": \"https://cdn.jsdelivr.net/npm//vega@5?noext\",\n",
       "      \"vega-lib\": \"https://cdn.jsdelivr.net/npm//vega-lib?noext\",\n",
       "      \"vega-lite\": \"https://cdn.jsdelivr.net/npm//vega-lite@4.17.0?noext\",\n",
       "      \"vega-embed\": \"https://cdn.jsdelivr.net/npm//vega-embed@6?noext\",\n",
       "    };\n",
       "\n",
       "    function maybeLoadScript(lib, version) {\n",
       "      var key = `${lib.replace(\"-\", \"\")}_version`;\n",
       "      return (VEGA_DEBUG[key] == version) ?\n",
       "        Promise.resolve(paths[lib]) :\n",
       "        new Promise(function(resolve, reject) {\n",
       "          var s = document.createElement('script');\n",
       "          document.getElementsByTagName(\"head\")[0].appendChild(s);\n",
       "          s.async = true;\n",
       "          s.onload = () => {\n",
       "            VEGA_DEBUG[key] = version;\n",
       "            return resolve(paths[lib]);\n",
       "          };\n",
       "          s.onerror = () => reject(`Error loading script: ${paths[lib]}`);\n",
       "          s.src = paths[lib];\n",
       "        });\n",
       "    }\n",
       "\n",
       "    function showError(err) {\n",
       "      outputDiv.innerHTML = `<div class=\"error\" style=\"color:red;\">${err}</div>`;\n",
       "      throw err;\n",
       "    }\n",
       "\n",
       "    function displayChart(vegaEmbed) {\n",
       "      vegaEmbed(outputDiv, spec, embedOpt)\n",
       "        .catch(err => showError(`Javascript Error: ${err.message}<br>This usually means there's a typo in your chart specification. See the javascript console for the full traceback.`));\n",
       "    }\n",
       "\n",
       "    if(typeof define === \"function\" && define.amd) {\n",
       "      requirejs.config({paths});\n",
       "      require([\"vega-embed\"], displayChart, err => showError(`Error loading script: ${err.message}`));\n",
       "    } else {\n",
       "      maybeLoadScript(\"vega\", \"5\")\n",
       "        .then(() => maybeLoadScript(\"vega-lite\", \"4.17.0\"))\n",
       "        .then(() => maybeLoadScript(\"vega-embed\", \"6\"))\n",
       "        .catch(showError)\n",
       "        .then(() => displayChart(vegaEmbed));\n",
       "    }\n",
       "  })({\"config\": {\"view\": {\"continuousWidth\": 400, \"continuousHeight\": 300}, \"axis\": {\"grid\": false}, \"axisBand\": {\"grid\": false}, \"background\": \"white\", \"font\": \"Raleway\", \"header\": {\"labelFont\": \"Nunito Sans\", \"titleFont\": \"Raleway\"}, \"legend\": {\"labelColor\": \"#333\", \"labelFont\": \"Nunito Sans\", \"labelFontSize\": 11, \"labelLimit\": 0, \"padding\": 1, \"symbolSize\": 30, \"symbolType\": \"square\", \"titleColor\": \"#333\", \"titleFont\": \"Raleway\", \"titleFontSize\": 14, \"titlePadding\": 10}, \"title\": {\"anchor\": \"middle\", \"font\": \"Raleway\", \"fontSize\": 18, \"fontWeight\": 300, \"offset\": 20}}, \"layer\": [{\"mark\": \"bar\", \"encoding\": {\"color\": {\"field\": \"Vendor\", \"scale\": {\"range\": [\"#2EA8CE\", \"#EB9F3C\", \"#F4D837\", \"#51BF9D\", \"#8CBCCB\", \"#9487C0\"]}, \"type\": \"nominal\"}, \"x\": {\"field\": \"Total Organizations\", \"title\": \"Total Organizations\", \"type\": \"quantitative\"}, \"y\": {\"field\": \"Vendor\", \"sort\": \"-x\", \"title\": \"Vendor\", \"type\": \"nominal\"}}}, {\"mark\": {\"type\": \"text\", \"align\": \"left\", \"baseline\": \"middle\", \"color\": \"black\", \"dy\": 3}, \"encoding\": {\"color\": {\"value\": \"black\"}, \"text\": {\"field\": \"Total Organizations\", \"type\": \"quantitative\"}, \"x\": {\"field\": \"Total Organizations\", \"title\": \"Total Organizations\", \"type\": \"quantitative\"}, \"y\": {\"field\": \"Vendor\", \"sort\": \"-x\", \"title\": \"Vendor\", \"type\": \"nominal\"}}}], \"data\": {\"name\": \"data-738f983a8edb289c7c32455c3810fe49\"}, \"height\": 250, \"title\": \"Top 5 Vendors in Real-time info\", \"width\": 400, \"$schema\": \"https://vega.github.io/schema/vega-lite/v4.17.0.json\", \"datasets\": {\"data-738f983a8edb289c7c32455c3810fe49\": [{\"components\": \"Real-time info\", \"Vendor\": \"Cubic\", \"product_name\": \"Cubic NextBus Suite \", \"organization_stack_components\": \"City Coach-Cubic NextBus Suite -APC Software, Market Street Historic Railway-Cubic NextBus Suite -Arrival predictions, UC Davis Health MedTrans-Cubic NextBus Suite -Offboard signage, NCTD Sprinter-Cubic NextBus Suite -Mobile data terminal software, Unitrans-Cubic NextBus Suite -Arrival predictions, Sonoma County Transit-Cubic NextBus Suite -Real-time info, The Loop-Cubic NextBus Suite -Real-time info, Placer County Transit-Cubic NextBus Suite -Mobile data terminal software, OmniTrans sbX-Daktronics (Unspecified Model), Unitrans-Cubic NextBus Suite -Mobile data terminal software, Placer County Transit-Cubic NextBus Suite -Real-time info, Sonoma County Transit-Cubic NextBus Suite -APC Software, UC Davis Health MedTrans-Cubic NextBus Suite -AVL Software, Foothill Transit-Cubic NextBus Suite -Arrival predictions, City Coach-Cubic NextBus Suite -AVL Software, Dumbarton Express-Cubic NextBus Suite -Real-time info, Gold Coast Transit-Cubic NextBus Suite -Real-time info, Cityline-Cubic NextBus Suite -Real-time info, Avail myStop-Real-time info, Glendale Beeline-Cubic NextBus Suite -Real-time info, Fairfield and Suisun Transit-Cubic NextBus Suite -Real-time info, OmniTrans, NCTD BREEZE, Market Street Historic Railway-Cubic NextBus Suite -Offboard signage, San Francisco Cable Cars, Glendale Beeline-Cubic NextBus Suite -AVL Software, Bear Transit-Cubic NextBus Suite -Real-time info, Bear Transit, Sonoma County Transit-Cubic NextBus Suite -Mobile data terminal software, Fairfield and Suisun Transit-Cubic NextBus Suite -Arrival predictions, Unitrans-Cubic NextBus Suite -Offboard signage, City Coach-Cubic NextBus Suite -Arrival predictions, UC Davis Health MedTrans-Cubic NextBus Suite -Alerts Content Management System, Unitrans, GTrans-Cubic NextBus Suite, Palos Verdes Peninsula Transit Authority-Cubic NextBus Suite -Real-time info, Sonoma County Transit-Cubic NextBus Suite -Interior signage, Fairfield and Suisun Transit-Cubic NextBus Suite -APC Software, Foothill Transit-Cubic NextBus Suite, Cubic NextBus Suite -Offboard signage, Sonoma County Transit-Cubic NextBus Suite -Arrival predictions, Unitrans-Cubic NextBus Suite -AVL Software, Connectpoint LCD Signage-Offboard signage, Unitrans-Cubic NextBus Suite -Alerts Content Management System, Sonoma County Transit-Cubic NextBus Suite -Annunciator, NCTD Coaster, UC Davis Health MedTrans-Cubic NextBus Suite -Arrival predictions, Placer County Transit-Cubic NextBus Suite -Headsigns, Placer County Transit-Cubic NextBus Suite -Interior signage, Placer County Transit-Cubic NextBus Suite -Arrival predictions, BruinBus-Cubic NextBus Suite -Real-time info, Muni Metro, Placer County Transit-Cubic NextBus Suite -Annunciator, Palos Verdes Peninsula Transit Authority-Cubic NextBus Suite -Arrival predictions, Manteca Transit-Cubic NextBus Suite -Real-time info, Placer County Transit-Cubic NextBus Suite -Offboard signage, Solano Express-Cubic NextBus Suite -Real-time info, Placer County Transit-Cubic NextBus Suite -AVL Software, Fairfield and Suisun Transit-Cubic NextBus Suite -Mobile data terminal software, UC Davis Health MedTrans-Cubic NextBus Suite -Mobile data terminal software, OmniTrans sbX-Cubic NextBus Suite -Arrival predictions, Clever Devices CleverCAD-Mobile data terminal software, Market Street Historic Railway-Cubic NextBus Suite -Real-time info, Fairfield and Suisun Transit-Cubic NextBus Suite -AVL Software, UC Davis Health MedTrans-Cubic NextBus Suite -APC Software, City Coach-Cubic NextBus Suite -Real-time info, Tahoe Truckee Area Regional Transportation-Cubic NextBus Suite -Real-time info, Muni Bus, Sonoma County Transit-Cubic NextBus Suite -AVL Software, OmniTrans sbX-Cubic NextBus Suite -Alerts Content Management System, Sonoma County Transit-Cubic NextBus Suite, City Coach-Cubic NextBus Suite -Mobile data terminal software, Unitrans-Cubic NextBus Suite -APC Software, OmniTrans sbX-Cubic NextBus Suite -Real-time info, Palos Verdes Peninsula Transit Authority-Cubic NextBus Suite -AVL Software, UC Davis Health MedTrans-Cubic NextBus Suite -Real-time info\", \"Total Organizations\": 76}, {\"components\": \"Real-time info\", \"Vendor\": \"GMV Syncromatics Inc\", \"product_name\": \"GMV/Syncromatics Sync \", \"organization_stack_components\": \"Union City Transit-GMV/Syncromatics Sync -Arrival predictions, Ojai Trolley-GMV/Syncromatics Sync -Real-time info, Burbank Bus-GMV/Syncromatics Sync -GTFS generation, Beach Cities Transit-GMV/Syncromatics Sync -Arrival predictions, Marin Transit-GMV/Syncromatics Sync -Arrival predictions, Roseville Transit-GMV/Syncromatics Sync -Arrival predictions, Camarillo Trolly-GMV/Syncromatics Sync -Arrival predictions, DASH, Marin Transit-GMV/Syncromatics Sync -APC Software, Commuter Express-Optibus, Anaheim Resort Transportation-GMV/Syncromatics Sync -Arrival predictions, Simi Valley Transit-GMV/Syncromatics Sync -Arrival predictions, Burbank Bus-GMV/Syncromatics Sync -Alerts Content Management System, Commuter Express-GMV/Syncromatics Sync -Arrival predictions, Commerce Municipal Bus Lines-GMV/Syncromatics Sync -Arrival predictions, Simi Valley Transit-GMV/Syncromatics Sync -APC Software, GMV/Syncromatics Sync -APC Software, Thousand Oaks Transit-GMV/Syncromatics Sync -Arrival predictions, Beach Cities Transit-GMV/Syncromatics Sync -Alerts Content Management System, Burbank Bus-GMV/Syncromatics Sync -Real-time info, Visalia Transit-GMV/Syncromatics Sync -APC Software, Dilax (Unspecified Model)-APC Software, Ojai Trolley-GMV/Syncromatics Sync -Arrival predictions, Commerce Municipal Bus Lines-GMV/Syncromatics Sync -Real-time info, Thousand Oaks Transit-GMV/Syncromatics Sync -Real-time info, Ojai Trolley-GMV/Syncromatics Sync -APC Software, Santa Cruz METRO-GMV/Syncromatics Sync -Alerts Content Management System, Roseville Transit-GMV/Syncromatics Sync -Real-time info, Roseville Dial-A-Ride-GMV/Syncromatics Sync -Arrival predictions, Simi Valley Transit-GMV/Syncromatics Sync -Real-time info, Beach Cities Transit-GMV/Syncromatics Sync -GTFS generation, Union City Transit-GMV/Syncromatics Sync, Commerce Municipal Bus Lines-GMV/Syncromatics Sync -APC Software, Burbank Bus-GMV/Syncromatics Sync -Arrival predictions, Visalia Transit-GMV/Syncromatics Sync, Commuter Express-GMV/Syncromatics Sync -Alerts Content Management System, Bishop Peak BPT Ecosystem-Arrival predictions, Bishop Peak BPT Ecosystem-Real-time info, VCTC Intercity-GMV/Syncromatics Sync -Arrival predictions, VCTC Intercity-UTA APC Sensors (Unspecified), Roseville Dial-A-Ride-GMV/Syncromatics Sync -Real-time info, Ojai Trolley-GMV/Syncromatics Sync -Alerts Content Management System, Gold Coast Transit-GMV/Syncromatics Sync -Arrival predictions, Fresno County Rural Transit-GMV/Syncromatics Sync -Arrival predictions, Santa Cruz METRO-GMV/Syncromatics Sync -Real-time info, Marin Transit-GMV/Syncromatics Sync -Alerts Content Management System, GMV/Syncromatics Sync -GTFS generation, Union City Transit-GMV/Syncromatics Sync -Real-time info, Roseville Transit, Simi Valley Transit-GMV/Syncromatics Sync -Alerts Content Management System, In house activity, Beach Cities Transit-GMV/Syncromatics Sync -Real-time info, Camarillo Area Transit, Camarillo Trolly-GMV/Syncromatics Sync -Real-time info, Santa Cruz METRO-GMV/Syncromatics Sync -Arrival predictions\", \"Total Organizations\": 55}, {\"components\": \"Real-time info\", \"Vendor\": \"Swiftly Inc.\", \"product_name\": \"Swiftly Transitime\", \"organization_stack_components\": \"LA Metro Bus, Vine Transit-Swiftly Transitime-Real-time info, Redding Area Bus Authority-Swiftly Transitime-Real-time info, LA Metro Rail-Swiftly Transitime-Arrival predictions, Eastern Sierra Transit Authority Community Routes, Sonoma-Marin Area Rail Transit-Swiftly Transitime-Arrival predictions, ESTA 395 Routes, Big Blue Bus-Swiftly Transitime-Arrival predictions, Banning Pass Transit-Swiftly Transitime-Real-time info, VTA Light Rail, NCTD BREEZE-Swiftly Transitime-Real-time info, SJRTD Commuter, VTA Rapid Bus, Nevada County Now-Swiftly Transitime-Real-time info, VTA School Tripper-Swiftly Transitime-Arrival predictions, Nevada County Connects-Swiftly Transitime-Real-time info, Big Blue Bus-Swiftly Transitime-Real-time info, SJRTD BRT Express-Swiftly Transitime-Real-time info, Tahoe Truckee Area Regional Transportation-Swiftly Transitime-Arrival predictions, VTA Bus, Sonoma-Marin Area Rail Transit-Swiftly Transitime-Real-time info, Nevada County Connects, SJRTD Local, Turlock Transit-Swiftly Transitime-Arrival predictions, Vine Transit-Swiftly Transitime-Arrival predictions, SJRTD Local-Swiftly Transitime-Arrival predictions, Eastern Sierra Transit Authority Community Routes-Swiftly Transitime-Arrival predictions, OC Bus-Swiftly Transitime-Real-time info, Santa Maria Area Transit-Swiftly Transitime-Real-time info, Nevada County Connects-Swiftly Transitime-Arrival predictions, VTA Express Bus, VTA ACE Shuttles, Turlock Transit-Swiftly Transitime-Real-time info, VTA ACE Shuttles-Swiftly Transitime-Real-time info, SJRTD BRT Express, Madera County Connection-Swiftly Transitime-Real-time info, ESTA 395 Routes-Swiftly Transitime-Real-time info, Avalon Community Transit-Swiftly Transitime-Real-time info\", \"Total Organizations\": 38}, {\"components\": \"Real-time info\", \"Vendor\": \"DoubleMap Inc.\", \"product_name\": \"DoubleMap RealTime\", \"organization_stack_components\": \"B-Line-DoubleMap RealTime-Real-time info, Mission Bay Shuttles-DoubleMap RealTime-Real-time info, Point Loma University Shuttle-DoubleMap RealTime-Real-time info, Northrop Grumman Shuttle-DoubleMap RealTime-Real-time info, Laguna Beach Trolley-DoubleMap RealTime-Real-time info, Redwood Coast Transit-DoubleMap RealTime-Alerts Content Management System, Yuba-Sutter Rural Transit, Yuba-Sutter Dial-A-Ride-DoubleMap RealTime-AVL Software, Herky Streetcar-DoubleMap RealTime-Real-time info, Tuolumne County Transit-DoubleMap RealTime-Arrival predictions, Tuolumne County Transit-DoubleMap RealTime-Real-time info, Laguna Beach Trolley-DoubleMap RealTime-Arrival predictions, Yuba-Sutter Dial-A-Ride-DoubleMap RealTime-Real-time info, East Bay Kaiser Permanente BART Shuttles-DoubleMap RealTime-Real-time info, Yuba-Sutter Transit, Yuba-Sutter Transit-DoubleMap RealTime-Real-time info, Alhambra Community Transit-DoubleMap RealTime-Real-time info, Rosemead Explorer-DoubleMap RealTime-Real-time info, Beaumont Pass Transit-DoubleMap RealTime-Real-time info, Mountain Transit, CPMC Shuttle-DoubleMap RealTime-Real-time info, Yuba-Sutter Dial-A-Ride-DoubleMap RealTime-Arrival predictions, Arcadia Transit-DoubleMap RealTime-Real-time info, Mountain Transit Dial-A-Ride-DoubleMap RealTime-Real-time info, Grapeline-DoubleMap RealTime-Real-time info, Yuba-Sutter Transit-DoubleMap RealTime-Arrival predictions, Redwood Coast Transit-DoubleMap RealTime-Arrival predictions, Alhambra Community Transit-DoubleMap RealTime-Arrival predictions, Redwood Coast Transit-DoubleMap RealTime-Real-time info\", \"Total Organizations\": 29}, {\"components\": \"Real-time info\", \"Vendor\": \"Clever Devices Ltd.\", \"product_name\": \"Clever Devices RTPI\", \"organization_stack_components\": \"SacRT Neighborhood Ride-Clever Devices RTPI-Arrival predictions, Riverside Transit-Clever Devices RTPI-Alerts Content Management System, GTrans-Clever Devices RTPI-Real-time info, County Connection-Clever Devices RTPI-Alerts Content Management System, Folsom Stage Line, Riverside Transit-Clever Devices RTPI-Real-time info, SacRT Light Rail-Clever Devices RTPI-Arrival predictions, GTrans-Clever Devices RTPI-Alerts Content Management System, Riverside Transit-Clever Devices RTPI-Arrival predictions, VTA School Tripper-Clever Devices RTPI-Real-time info, SacRT Light Rail-Clever Devices RTPI-Real-time info, e-van, VTA Light Rail, Causeway Connection, Santa Barbara Metropolitan Transit District-Clever Devices RTPI-Alerts Content Management System, VTA Rapid Bus, SacRT Bus, GTrans-Clever Devices RTPI-Arrival predictions, SacRT Light Rail, SacRT Neighborhood Ride-Clever Devices RTPI-Real-time info, Sacramento Airport Express, VTA Bus, County Connection-Clever Devices RTPI-Real-time info, Santa Barbara Metropolitan Transit District-Clever Devices RTPI-Arrival predictions, VTA Express Bus, Elk Grove Transit Services, VTA ACE Shuttles, SacRT GO, County Connection-Clever Devices RTPI-Arrival predictions\", \"Total Organizations\": 29}]}}, {\"mode\": \"vega-lite\"});\n",
       "</script>"
      ],
      "text/plain": [
       "alt.LayerChart(...)"
      ]
     },
     "metadata": {},
     "output_type": "display_data"
    },
    {
     "data": {
      "text/html": [
       "\n",
       "<div id=\"altair-viz-0af2c26862224d27b166a94d55cabaaa\"></div>\n",
       "<script type=\"text/javascript\">\n",
       "  var VEGA_DEBUG = (typeof VEGA_DEBUG == \"undefined\") ? {} : VEGA_DEBUG;\n",
       "  (function(spec, embedOpt){\n",
       "    let outputDiv = document.currentScript.previousElementSibling;\n",
       "    if (outputDiv.id !== \"altair-viz-0af2c26862224d27b166a94d55cabaaa\") {\n",
       "      outputDiv = document.getElementById(\"altair-viz-0af2c26862224d27b166a94d55cabaaa\");\n",
       "    }\n",
       "    const paths = {\n",
       "      \"vega\": \"https://cdn.jsdelivr.net/npm//vega@5?noext\",\n",
       "      \"vega-lib\": \"https://cdn.jsdelivr.net/npm//vega-lib?noext\",\n",
       "      \"vega-lite\": \"https://cdn.jsdelivr.net/npm//vega-lite@4.17.0?noext\",\n",
       "      \"vega-embed\": \"https://cdn.jsdelivr.net/npm//vega-embed@6?noext\",\n",
       "    };\n",
       "\n",
       "    function maybeLoadScript(lib, version) {\n",
       "      var key = `${lib.replace(\"-\", \"\")}_version`;\n",
       "      return (VEGA_DEBUG[key] == version) ?\n",
       "        Promise.resolve(paths[lib]) :\n",
       "        new Promise(function(resolve, reject) {\n",
       "          var s = document.createElement('script');\n",
       "          document.getElementsByTagName(\"head\")[0].appendChild(s);\n",
       "          s.async = true;\n",
       "          s.onload = () => {\n",
       "            VEGA_DEBUG[key] = version;\n",
       "            return resolve(paths[lib]);\n",
       "          };\n",
       "          s.onerror = () => reject(`Error loading script: ${paths[lib]}`);\n",
       "          s.src = paths[lib];\n",
       "        });\n",
       "    }\n",
       "\n",
       "    function showError(err) {\n",
       "      outputDiv.innerHTML = `<div class=\"error\" style=\"color:red;\">${err}</div>`;\n",
       "      throw err;\n",
       "    }\n",
       "\n",
       "    function displayChart(vegaEmbed) {\n",
       "      vegaEmbed(outputDiv, spec, embedOpt)\n",
       "        .catch(err => showError(`Javascript Error: ${err.message}<br>This usually means there's a typo in your chart specification. See the javascript console for the full traceback.`));\n",
       "    }\n",
       "\n",
       "    if(typeof define === \"function\" && define.amd) {\n",
       "      requirejs.config({paths});\n",
       "      require([\"vega-embed\"], displayChart, err => showError(`Error loading script: ${err.message}`));\n",
       "    } else {\n",
       "      maybeLoadScript(\"vega\", \"5\")\n",
       "        .then(() => maybeLoadScript(\"vega-lite\", \"4.17.0\"))\n",
       "        .then(() => maybeLoadScript(\"vega-embed\", \"6\"))\n",
       "        .catch(showError)\n",
       "        .then(() => displayChart(vegaEmbed));\n",
       "    }\n",
       "  })({\"config\": {\"view\": {\"continuousWidth\": 400, \"continuousHeight\": 300}, \"axis\": {\"grid\": false}, \"axisBand\": {\"grid\": false}, \"background\": \"white\", \"font\": \"Raleway\", \"header\": {\"labelFont\": \"Nunito Sans\", \"titleFont\": \"Raleway\"}, \"legend\": {\"labelColor\": \"#333\", \"labelFont\": \"Nunito Sans\", \"labelFontSize\": 11, \"labelLimit\": 0, \"padding\": 1, \"symbolSize\": 30, \"symbolType\": \"square\", \"titleColor\": \"#333\", \"titleFont\": \"Raleway\", \"titleFontSize\": 14, \"titlePadding\": 10}, \"title\": {\"anchor\": \"middle\", \"font\": \"Raleway\", \"fontSize\": 18, \"fontWeight\": 300, \"offset\": 20}}, \"layer\": [{\"mark\": \"bar\", \"encoding\": {\"color\": {\"field\": \"Vendor\", \"scale\": {\"range\": [\"#2EA8CE\", \"#EB9F3C\", \"#F4D837\", \"#51BF9D\", \"#8CBCCB\", \"#9487C0\"]}, \"type\": \"nominal\"}, \"x\": {\"field\": \"Total Organizations\", \"title\": \"Total Organizations\", \"type\": \"quantitative\"}, \"y\": {\"field\": \"Vendor\", \"sort\": \"-x\", \"title\": \"Vendor\", \"type\": \"nominal\"}}}, {\"mark\": {\"type\": \"text\", \"align\": \"left\", \"baseline\": \"middle\", \"color\": \"black\", \"dy\": 3}, \"encoding\": {\"color\": {\"value\": \"black\"}, \"text\": {\"field\": \"Total Organizations\", \"type\": \"quantitative\"}, \"x\": {\"field\": \"Total Organizations\", \"title\": \"Total Organizations\", \"type\": \"quantitative\"}, \"y\": {\"field\": \"Vendor\", \"sort\": \"-x\", \"title\": \"Vendor\", \"type\": \"nominal\"}}}], \"data\": {\"name\": \"data-6ed1ded4e04f0880f9c8c9d5d2334dd7\"}, \"height\": 250, \"title\": \"Top 5 Vendors in Scheduling (Fixed-route)\", \"width\": 400, \"$schema\": \"https://vega.github.io/schema/vega-lite/v4.17.0.json\", \"datasets\": {\"data-6ed1ded4e04f0880f9c8c9d5d2334dd7\": [{\"components\": \"Scheduling (Fixed-route)\", \"Vendor\": \"Giro Inc.\", \"product_name\": \"Giro HASTUS\", \"organization_stack_components\": \"LA Metro Rail-In house activity, LA Metro Bus, SamTrans Shuttles-Giro HASTUS-Scheduling (Fixed-route), Golden Gate Oracle Park Ferry, Santa Cruz METRO-Giro HASTUS-GTFS generation, NCTD Sprinter-Giro HASTUS-Scheduling (Fixed-route), Foothill Transit-Giro HASTUS-GTFS generation, Bay Area Rapid Transit-Giro HASTUS-GTFS generation, NCTD BREEZE, Golden Gate Transit-Giro HASTUS-GTFS generation, Riverside Transit-Giro HASTUS-Scheduling (Fixed-route), Golden Gate Ferry, SamTrans, Monterey-Salinas Transit, MST Monterey Trolley-Giro HASTUS-GTFS generation, Foothill Transit-Giro HASTUS-Scheduling (Fixed-route), Bay Area Rapid Transit-Giro HASTUS-Scheduling (Fixed-route), NCTD Coaster, Long Beach Transit-Giro HASTUS-GTFS generation, Riverside Transit-Giro HASTUS-GTFS generation, NCTD Sprinter-Giro HASTUS-GTFS generation, SamTrans Shuttles-Giro HASTUS-GTFS generation, Long Beach Transit-Giro HASTUS-Scheduling (Fixed-route), Golden Gate Transit-Giro HASTUS-Scheduling (Fixed-route), LA Metro Rail-Giro HASTUS-Scheduling (Fixed-route), MST Monterey Trolley-Giro HASTUS-Scheduling (Fixed-route), Santa Cruz METRO-Giro HASTUS-Scheduling (Fixed-route), Giro HASTUS-GTFS generation\", \"Total Organizations\": 28}, {\"components\": \"Scheduling (Fixed-route)\", \"Vendor\": \"INIT SE\", \"product_name\": \"INIT (Unspecified Model)\", \"organization_stack_components\": \"Golden Gate Transit-INIT (Unspecified Model)-Interior signage, Golden Gate Oracle Park Ferry, Metrolink-Conduent (Unspecified Model), Golden Gate Transit-INIT (Unspecified Model)-Headsigns, Golden Gate Transit-INIT (Unspecified Model)-Arrival predictions, NCTD BREEZE, Golden Gate Transit-INIT (Unspecified Model)-APC Software, VTA Light Rail, Golden Gate Ferry, VTA Rapid Bus, Golden Gate Transit-INIT (Unspecified Model)-AVL Software, Gold Coast Transit-INIT (Unspecified Model)-Scheduling (Fixed-route), NCTD Sprinter-Dilax (Unspecified Model), Gold Coast Transit-INIT (Unspecified Model)-GTFS generation, INIT (Unspecified Model)-Ticket Vending Machines, Golden Gate Transit-INIT (Unspecified Model)-Offboard signage, NCTD Coaster, VTA School Tripper-INIT (Unspecified Model)-APC Software, Golden Gate Transit-INIT (Unspecified Model)-Mobile data terminal software, VTA Bus, VTA Express Bus, Golden Gate Transit-INIT (Unspecified Model)-Annunciator, INIT (Unspecified Model)-APC Software, VTA ACE Shuttles\", \"Total Organizations\": 24}, {\"components\": \"Scheduling (Fixed-route)\", \"Vendor\": \"Trapeze Group\", \"product_name\": \"Trapeze - Unspecified\", \"organization_stack_components\": \"VTA School Tripper-Clever Devices - Unspecified, Long Beach Transit-Trapeze - Unspecified-Mobile data terminal software, Long Beach Transit-Trapeze - Unspecified, OmniTrans, MST Monterey Trolley-Trapeze - Unspecified-Mobile data terminal software, VTA Light Rail, SJRTD Commuter, VTA Rapid Bus, Trapeze - Unspecified-KPI Reporting, Monterey-Salinas Transit, Tri-Valley Wheels-Trapeze - Unspecified-Mobile data terminal software, B-Line-Trapeze - Unspecified-Mobile data terminal software, VTA Bus, Tri-Valley Wheels-Trapeze - Unspecified-Real-time info, OmniTrans sbX-Trapeze - Unspecified-Mobile data terminal software, SJRTD Local-Trapeze - Unspecified-Mobile data terminal software, Big Blue Bus-Trapeze - Unspecified-Mobile data terminal software, VTA Express Bus, OmniTrans sbX-Trapeze - Unspecified-APC Software, In house activity-KPI Reporting, VTA ACE Shuttles, SJRTD BRT Express\", \"Total Organizations\": 22}, {\"components\": \"Scheduling (Fixed-route)\", \"Vendor\": \"Uber Inc.\", \"product_name\": \"RouteMatch - Fixed: Base\", \"organization_stack_components\": \"El Dorado Paratransit-RouteMatch - Fixed: Base-AVL Software, El Dorado Dial-A-Ride, El Dorado Transit, El Dorado Transit-RouteMatch - Fixed: Base-Scheduling (Fixed-route), El Dorado Paratransit-RouteMatch - Fixed: Base-Scheduling (Fixed-route), SAC-MED, Sacramento/South Lake Tahoe Connector Bus, El Dorado Transit-RouteMatch - Fixed: Base-Annunciator, Fairfield and Suisun Transit-RouteMatch - Fixed: Base-Scheduling (Fixed-route), El Dorado Paratransit-RouteMatch - Fixed: Base-Arrival predictions\", \"Total Organizations\": 10}, {\"components\": \"Scheduling (Fixed-route)\", \"Vendor\": \"Optibus\", \"product_name\": \"Optibus\", \"organization_stack_components\": \"GET Bus, Marin Transit-Optibus-Scheduling (Fixed-route), Marin Transit-Optibus-GTFS generation, GMV/Syncromatics Sync -GTFS generation, Commuter Express-Optibus-Scheduling (Fixed-route), In house activity, GET Bus On Demand-Optibus-Scheduling (Fixed-route), Commuter Express-Optibus, DASH\", \"Total Organizations\": 9}]}}, {\"mode\": \"vega-lite\"});\n",
       "</script>"
      ],
      "text/plain": [
       "alt.LayerChart(...)"
      ]
     },
     "metadata": {},
     "output_type": "display_data"
    }
   ],
   "source": [
    "\n",
    "for i in subset_list:\n",
    "    utils.fancy_bar_chart(\n",
    "        (subset_df[(subset_df.components == i)])\n",
    "        .sort_values(\"Total Organizations\", ascending=False)\n",
    "        .head(5),\n",
    "        \"Total Organizations\",\n",
    "        \"Vendor\",\n",
    "        \"Total Organizations\",\n",
    "        f\"Top 5 Vendors in {i}\",\n",
    "    )"
   ]
  },
  {
   "cell_type": "markdown",
   "id": "36bd32bc-3186-4a62-9b93-884b7cd12473",
   "metadata": {
    "tags": []
   },
   "source": [
    "## Components Data"
   ]
  },
  {
   "cell_type": "code",
   "execution_count": 32,
   "id": "e70a4f20-a291-4012-8cd7-03ce497a82e6",
   "metadata": {},
   "outputs": [],
   "source": [
    "components = to_snakecase(pd.read_csv(f\"{GCS_FILE_PATH}components_May_3.csv\"))"
   ]
  },
  {
   "cell_type": "code",
   "execution_count": 33,
   "id": "bccb5c22-0889-4c42-930f-ff8fd61c6ba6",
   "metadata": {},
   "outputs": [
    {
     "data": {
      "text/plain": [
       "(107, 11)"
      ]
     },
     "execution_count": 33,
     "metadata": {},
     "output_type": "execute_result"
    }
   ],
   "source": [
    "components.shape"
   ]
  },
  {
   "cell_type": "code",
   "execution_count": 34,
   "id": "7c430144-33cc-4fa1-b87d-19c0defa639a",
   "metadata": {},
   "outputs": [
    {
     "data": {
      "text/plain": [
       "name                               0\n",
       "aliases                           95\n",
       "system                            73\n",
       "location                           1\n",
       "function_group                     3\n",
       "description                       88\n",
       "products                          36\n",
       "organization_stack_components     82\n",
       "example_stacks                    94\n",
       "example_stacks_copy              107\n",
       "properties_+_features             96\n",
       "dtype: int64"
      ]
     },
     "execution_count": 34,
     "metadata": {},
     "output_type": "execute_result"
    }
   ],
   "source": [
    "components.isna().sum()"
   ]
  },
  {
   "cell_type": "code",
   "execution_count": 35,
   "id": "0b243b34-d762-448f-ba13-69b3581bf7db",
   "metadata": {},
   "outputs": [],
   "source": [
    "# Count number of products within each component category.\n",
    "# https://stackoverflow.com/questions/51502263/pandas-dataframe-object-has-no-attribute-str\n",
    "components[\"count_of_products_in_categories\"] = (\n",
    "    components[\"products\"]\n",
    "    .str.split(\",+\")\n",
    "    .str.len()\n",
    "    .groupby(components.name)\n",
    "    .transform(\"sum\")\n",
    ")"
   ]
  },
  {
   "cell_type": "code",
   "execution_count": 36,
   "id": "13b44e07-f687-4fa4-a20f-b55ed4c360c8",
   "metadata": {},
   "outputs": [
    {
     "data": {
      "text/html": [
       "<div>\n",
       "<style scoped>\n",
       "    .dataframe tbody tr th:only-of-type {\n",
       "        vertical-align: middle;\n",
       "    }\n",
       "\n",
       "    .dataframe tbody tr th {\n",
       "        vertical-align: top;\n",
       "    }\n",
       "\n",
       "    .dataframe thead th {\n",
       "        text-align: right;\n",
       "    }\n",
       "</style>\n",
       "<table border=\"1\" class=\"dataframe\">\n",
       "  <thead>\n",
       "    <tr style=\"text-align: right;\">\n",
       "      <th></th>\n",
       "      <th>name</th>\n",
       "      <th>aliases</th>\n",
       "      <th>system</th>\n",
       "      <th>location</th>\n",
       "      <th>function_group</th>\n",
       "      <th>description</th>\n",
       "      <th>products</th>\n",
       "      <th>organization_stack_components</th>\n",
       "      <th>example_stacks</th>\n",
       "      <th>example_stacks_copy</th>\n",
       "      <th>properties_+_features</th>\n",
       "      <th>count_of_products_in_categories</th>\n",
       "    </tr>\n",
       "  </thead>\n",
       "  <tbody>\n",
       "    <tr>\n",
       "      <th>5</th>\n",
       "      <td>APC Sensors</td>\n",
       "      <td>Automatic Passenger Counters</td>\n",
       "      <td>APC</td>\n",
       "      <td>Vehicle</td>\n",
       "      <td>Operations</td>\n",
       "      <td>NaN</td>\n",
       "      <td>RouteMatch - APC,Bishop Peak BPT Ecosystem,Centum Adetel APC ,UTA APC Sensors (Unspecified),UTA Horizontal APC Sensors,UTA Overhead APC Sensors,Connexionz APC,Iris Irma Matrix,UTA Model 30 CPU,Hella APS-B,Hella APS-R-Poe,Dilax PRT-400,Dilax IRS-320R,Dilax (Unspecified Model)</td>\n",
       "      <td>\"SacRT Light Rail, e-van, SacRT GO, Elk Grove Transit Services, Folsom Stage Line, Causeway Connection, Sacramento Airport Express, SacRT Bus, SacRT Neighborhood Ride-UTA APC Sensors (Unspecified)-APC Sensors\"</td>\n",
       "      <td>NaN</td>\n",
       "      <td>NaN</td>\n",
       "      <td>NaN</td>\n",
       "      <td>14.00</td>\n",
       "    </tr>\n",
       "  </tbody>\n",
       "</table>\n",
       "</div>"
      ],
      "text/plain": [
       "          name                       aliases system location function_group  \\\n",
       "5  APC Sensors  Automatic Passenger Counters    APC  Vehicle     Operations   \n",
       "\n",
       "  description  \\\n",
       "5         NaN   \n",
       "\n",
       "                                                                                                                                                                                                                                                                              products  \\\n",
       "5  RouteMatch - APC,Bishop Peak BPT Ecosystem,Centum Adetel APC ,UTA APC Sensors (Unspecified),UTA Horizontal APC Sensors,UTA Overhead APC Sensors,Connexionz APC,Iris Irma Matrix,UTA Model 30 CPU,Hella APS-B,Hella APS-R-Poe,Dilax PRT-400,Dilax IRS-320R,Dilax (Unspecified Model)   \n",
       "\n",
       "                                                                                                                                                                                       organization_stack_components  \\\n",
       "5  \"SacRT Light Rail, e-van, SacRT GO, Elk Grove Transit Services, Folsom Stage Line, Causeway Connection, Sacramento Airport Express, SacRT Bus, SacRT Neighborhood Ride-UTA APC Sensors (Unspecified)-APC Sensors\"   \n",
       "\n",
       "  example_stacks  example_stacks_copy properties_+_features  \\\n",
       "5            NaN                  NaN                   NaN   \n",
       "\n",
       "   count_of_products_in_categories  \n",
       "5                            14.00  "
      ]
     },
     "execution_count": 36,
     "metadata": {},
     "output_type": "execute_result"
    }
   ],
   "source": [
    "# Double Checking\n",
    "components.loc[components[\"name\"] == \"APC Sensors\"]"
   ]
  },
  {
   "cell_type": "markdown",
   "id": "bcf4a30e-8a4d-4eda-b8ab-10b81c74d641",
   "metadata": {
    "tags": []
   },
   "source": [
    "### Top 10 \"crowded\" product categories\n",
    "* Count number of strings in the \"products\" column and group by \"name\" column to get total number of products in each sector.\n",
    "* Real-time info is the most \"crowded\" category with 32 different products.\n",
    "* Most categories only have one product.\n",
    "* About 4 unique products in each category, when filtering out any categories with 0 products recorded."
   ]
  },
  {
   "cell_type": "code",
   "execution_count": 37,
   "id": "231e9f42-68aa-4426-9b6e-26330ef1a9ce",
   "metadata": {},
   "outputs": [
    {
     "data": {
      "text/plain": [
       "'107 unique categories'"
      ]
     },
     "execution_count": 37,
     "metadata": {},
     "output_type": "execute_result"
    }
   ],
   "source": [
    "f\"{components.name.nunique()} unique categories\""
   ]
  },
  {
   "cell_type": "code",
   "execution_count": 38,
   "id": "c17d5d9d-9628-4ff6-b334-b316b8bfe23c",
   "metadata": {
    "tags": []
   },
   "outputs": [],
   "source": [
    "product_categories = (\n",
    "    components[[\"name\", \"count_of_products_in_categories\"]]\n",
    "    .sort_values(\"count_of_products_in_categories\", ascending=False)\n",
    "    .rename(columns={\"name\": \"category\"})\n",
    ")"
   ]
  },
  {
   "cell_type": "code",
   "execution_count": 39,
   "id": "089efca1-bbc0-4e69-9b1a-c4d7c49ffa4e",
   "metadata": {},
   "outputs": [
    {
     "data": {
      "text/plain": [
       "0.00     36\n",
       "1.00     19\n",
       "2.00      8\n",
       "7.00      6\n",
       "4.00      6\n",
       "6.00      6\n",
       "3.00      4\n",
       "5.00      4\n",
       "12.00     3\n",
       "10.00     3\n",
       "9.00      2\n",
       "11.00     2\n",
       "13.00     2\n",
       "14.00     2\n",
       "20.00     1\n",
       "16.00     1\n",
       "19.00     1\n",
       "32.00     1\n",
       "Name: count_of_products_in_categories, dtype: int64"
      ]
     },
     "execution_count": 39,
     "metadata": {},
     "output_type": "execute_result"
    }
   ],
   "source": [
    "product_categories.count_of_products_in_categories.value_counts()"
   ]
  },
  {
   "cell_type": "code",
   "execution_count": 40,
   "id": "47fc9d4a-f4c0-4725-abf8-d10c88a148ed",
   "metadata": {},
   "outputs": [],
   "source": [
    "# filter out any categories with 0 products - 36 values are empty\n",
    "product_categories = product_categories[\n",
    "    product_categories[\"count_of_products_in_categories\"] > 0\n",
    "]"
   ]
  },
  {
   "cell_type": "code",
   "execution_count": 41,
   "id": "be286754-3695-4e23-a193-ca777f2c663e",
   "metadata": {},
   "outputs": [
    {
     "data": {
      "text/plain": [
       "'4.0 average products per category'"
      ]
     },
     "execution_count": 41,
     "metadata": {},
     "output_type": "execute_result"
    }
   ],
   "source": [
    "f\"{product_categories.count_of_products_in_categories.median()} average products per category\""
   ]
  },
  {
   "cell_type": "code",
   "execution_count": 42,
   "id": "ef09d20f-dbba-47dc-a8f9-ee7152b732ae",
   "metadata": {},
   "outputs": [],
   "source": [
    "most_saturated_category = product_categories.head(10).rename(\n",
    "    columns={\"count_of_products_in_categories\": \"number of unique products\"}\n",
    ")"
   ]
  },
  {
   "cell_type": "code",
   "execution_count": 43,
   "id": "af62c528-d094-420b-b190-81b1a48467ae",
   "metadata": {},
   "outputs": [
    {
     "data": {
      "text/html": [
       "\n",
       "<div id=\"altair-viz-347c43d13c4346b48e530f4d76955111\"></div>\n",
       "<script type=\"text/javascript\">\n",
       "  var VEGA_DEBUG = (typeof VEGA_DEBUG == \"undefined\") ? {} : VEGA_DEBUG;\n",
       "  (function(spec, embedOpt){\n",
       "    let outputDiv = document.currentScript.previousElementSibling;\n",
       "    if (outputDiv.id !== \"altair-viz-347c43d13c4346b48e530f4d76955111\") {\n",
       "      outputDiv = document.getElementById(\"altair-viz-347c43d13c4346b48e530f4d76955111\");\n",
       "    }\n",
       "    const paths = {\n",
       "      \"vega\": \"https://cdn.jsdelivr.net/npm//vega@5?noext\",\n",
       "      \"vega-lib\": \"https://cdn.jsdelivr.net/npm//vega-lib?noext\",\n",
       "      \"vega-lite\": \"https://cdn.jsdelivr.net/npm//vega-lite@4.17.0?noext\",\n",
       "      \"vega-embed\": \"https://cdn.jsdelivr.net/npm//vega-embed@6?noext\",\n",
       "    };\n",
       "\n",
       "    function maybeLoadScript(lib, version) {\n",
       "      var key = `${lib.replace(\"-\", \"\")}_version`;\n",
       "      return (VEGA_DEBUG[key] == version) ?\n",
       "        Promise.resolve(paths[lib]) :\n",
       "        new Promise(function(resolve, reject) {\n",
       "          var s = document.createElement('script');\n",
       "          document.getElementsByTagName(\"head\")[0].appendChild(s);\n",
       "          s.async = true;\n",
       "          s.onload = () => {\n",
       "            VEGA_DEBUG[key] = version;\n",
       "            return resolve(paths[lib]);\n",
       "          };\n",
       "          s.onerror = () => reject(`Error loading script: ${paths[lib]}`);\n",
       "          s.src = paths[lib];\n",
       "        });\n",
       "    }\n",
       "\n",
       "    function showError(err) {\n",
       "      outputDiv.innerHTML = `<div class=\"error\" style=\"color:red;\">${err}</div>`;\n",
       "      throw err;\n",
       "    }\n",
       "\n",
       "    function displayChart(vegaEmbed) {\n",
       "      vegaEmbed(outputDiv, spec, embedOpt)\n",
       "        .catch(err => showError(`Javascript Error: ${err.message}<br>This usually means there's a typo in your chart specification. See the javascript console for the full traceback.`));\n",
       "    }\n",
       "\n",
       "    if(typeof define === \"function\" && define.amd) {\n",
       "      requirejs.config({paths});\n",
       "      require([\"vega-embed\"], displayChart, err => showError(`Error loading script: ${err.message}`));\n",
       "    } else {\n",
       "      maybeLoadScript(\"vega\", \"5\")\n",
       "        .then(() => maybeLoadScript(\"vega-lite\", \"4.17.0\"))\n",
       "        .then(() => maybeLoadScript(\"vega-embed\", \"6\"))\n",
       "        .catch(showError)\n",
       "        .then(() => displayChart(vegaEmbed));\n",
       "    }\n",
       "  })({\"config\": {\"view\": {\"continuousWidth\": 400, \"continuousHeight\": 300}, \"axis\": {\"domainColor\": \"#cbcbcb\", \"grid\": true, \"gridColor\": \"#cbcbcb\", \"gridWidth\": 1, \"labelColor\": \"#474747\", \"labelFont\": \"Nunito Sans\", \"labelFontSize\": 10, \"labelPadding\": 4, \"tickColor\": \"#cbcbcb\", \"tickSize\": 10, \"titleColor\": \"#333\", \"titleFont\": \"Raleway\", \"titleFontSize\": 12, \"titlePadding\": 10}, \"axisBand\": {\"grid\": false}, \"background\": \"white\", \"font\": \"Raleway\", \"header\": {\"labelFont\": \"Nunito Sans\", \"titleFont\": \"Raleway\"}, \"legend\": {\"labelColor\": \"#333\", \"labelFont\": \"Nunito Sans\", \"labelFontSize\": 11, \"labelLimit\": 0, \"padding\": 1, \"symbolSize\": 30, \"symbolType\": \"square\", \"titleColor\": \"#333\", \"titleFont\": \"Raleway\", \"titleFontSize\": 14, \"titlePadding\": 10}, \"title\": {\"anchor\": \"middle\", \"font\": \"Raleway\", \"fontSize\": 18, \"fontWeight\": 300, \"offset\": 20}}, \"data\": {\"name\": \"data-04784cd730b6b827b48c8b1c0fd80aa8\"}, \"mark\": \"bar\", \"encoding\": {\"color\": {\"field\": \"category\", \"legend\": {\"title\": \"Category\"}, \"scale\": {\"range\": [\"#2EA8CE\", \"#EB9F3C\", \"#F4D837\", \"#51BF9D\", \"#8CBCCB\", \"#9487C0\"]}, \"type\": \"nominal\"}, \"x\": {\"field\": \"number of unique products\", \"title\": \"Number Of Unique Products\", \"type\": \"quantitative\"}, \"y\": {\"field\": \"category\", \"sort\": \"-x\", \"title\": \"Category\", \"type\": \"nominal\"}}, \"height\": 250, \"title\": \"Most Saturated Categories\", \"width\": 400, \"$schema\": \"https://vega.github.io/schema/vega-lite/v4.17.0.json\", \"datasets\": {\"data-04784cd730b6b827b48c8b1c0fd80aa8\": [{\"category\": \"Real-time info\", \"number of unique products\": 32.0}, {\"category\": \"AVL On-board Computer\", \"number of unique products\": 20.0}, {\"category\": \"Mobile trip planning app\", \"number of unique products\": 19.0}, {\"category\": \"Offboard signage\", \"number of unique products\": 16.0}, {\"category\": \"APC Sensors\", \"number of unique products\": 14.0}, {\"category\": \"Payment processor\", \"number of unique products\": 14.0}, {\"category\": \"Mobile ticketing\", \"number of unique products\": 13.0}, {\"category\": \"KPI Reporting\", \"number of unique products\": 13.0}, {\"category\": \"AVL Software\", \"number of unique products\": 12.0}, {\"category\": \"Web-based trip planner\", \"number of unique products\": 12.0}]}}, {\"mode\": \"vega-lite\"});\n",
       "</script>"
      ],
      "text/plain": [
       "alt.Chart(...)"
      ]
     },
     "execution_count": 43,
     "metadata": {},
     "output_type": "execute_result"
    }
   ],
   "source": [
    "utils.basic_bar_chart(\n",
    "    most_saturated_category,\n",
    "    \"number of unique products\",\n",
    "    \"category\",\n",
    "    \"category\",\n",
    "    \"Most Saturated Categories\",\n",
    ")"
   ]
  },
  {
   "cell_type": "markdown",
   "id": "1f334cb7-d6cc-44a1-9741-9ebf717310c6",
   "metadata": {},
   "source": [
    "### Least saturated category with \"the most\" customers.\n",
    "* How many organizations rely on that component?\n",
    "* Then see how many products fall under that category that customers can choose from."
   ]
  },
  {
   "cell_type": "code",
   "execution_count": 44,
   "id": "ef7b353e-d452-48bc-b704-7fe2c7698f84",
   "metadata": {},
   "outputs": [
    {
     "data": {
      "text/html": [
       "<div>\n",
       "<style scoped>\n",
       "    .dataframe tbody tr th:only-of-type {\n",
       "        vertical-align: middle;\n",
       "    }\n",
       "\n",
       "    .dataframe tbody tr th {\n",
       "        vertical-align: top;\n",
       "    }\n",
       "\n",
       "    .dataframe thead th {\n",
       "        text-align: right;\n",
       "    }\n",
       "</style>\n",
       "<table border=\"1\" class=\"dataframe\">\n",
       "  <thead>\n",
       "    <tr style=\"text-align: right;\">\n",
       "      <th></th>\n",
       "      <th>name</th>\n",
       "      <th>aliases</th>\n",
       "      <th>system</th>\n",
       "      <th>location</th>\n",
       "      <th>function_group</th>\n",
       "      <th>description</th>\n",
       "      <th>products</th>\n",
       "      <th>organization_stack_components</th>\n",
       "      <th>example_stacks</th>\n",
       "      <th>example_stacks_copy</th>\n",
       "      <th>properties_+_features</th>\n",
       "      <th>count_of_products_in_categories</th>\n",
       "    </tr>\n",
       "  </thead>\n",
       "  <tbody>\n",
       "    <tr>\n",
       "      <th>106</th>\n",
       "      <td>Yard Management</td>\n",
       "      <td>NaN</td>\n",
       "      <td>NaN</td>\n",
       "      <td>Yard</td>\n",
       "      <td>Maintenance</td>\n",
       "      <td>NaN</td>\n",
       "      <td>NaN</td>\n",
       "      <td>NaN</td>\n",
       "      <td>NaN</td>\n",
       "      <td>NaN</td>\n",
       "      <td>NaN</td>\n",
       "      <td>0.00</td>\n",
       "    </tr>\n",
       "  </tbody>\n",
       "</table>\n",
       "</div>"
      ],
      "text/plain": [
       "                name aliases system location function_group description  \\\n",
       "106  Yard Management     NaN    NaN     Yard    Maintenance         NaN   \n",
       "\n",
       "    products organization_stack_components example_stacks  \\\n",
       "106      NaN                           NaN            NaN   \n",
       "\n",
       "     example_stacks_copy properties_+_features  \\\n",
       "106                  NaN                   NaN   \n",
       "\n",
       "     count_of_products_in_categories  \n",
       "106                             0.00  "
      ]
     },
     "execution_count": 44,
     "metadata": {},
     "output_type": "execute_result"
    }
   ],
   "source": [
    "components.tail(1)"
   ]
  },
  {
   "cell_type": "code",
   "execution_count": 45,
   "id": "cafe4b21-fd84-4c9f-8bc9-bb1dbdb052a0",
   "metadata": {},
   "outputs": [],
   "source": [
    "# see how many orgs use a product with that particular component\n",
    "products_usage = (\n",
    "    products2.groupby(\"components\")\n",
    "    .agg({\"count_of_orgs_using_product\": \"sum\"})\n",
    "    .sort_values(\"count_of_orgs_using_product\", ascending=False)\n",
    "    .reset_index()\n",
    ")"
   ]
  },
  {
   "cell_type": "code",
   "execution_count": 46,
   "id": "d9170dff-d364-40fa-81d4-9f9c9d2fffe8",
   "metadata": {},
   "outputs": [
    {
     "data": {
      "text/plain": [
       "72"
      ]
     },
     "execution_count": 46,
     "metadata": {},
     "output_type": "execute_result"
    }
   ],
   "source": [
    "len(products_usage)"
   ]
  },
  {
   "cell_type": "code",
   "execution_count": 47,
   "id": "16c53083-458b-4fbb-b3ae-731aef299d0d",
   "metadata": {},
   "outputs": [],
   "source": [
    "# I made a dataframe that takes the product with the most customers out of each component category.\n",
    "# Join the aforementioned dataframe with components.\n",
    "merge1 = pd.merge(\n",
    "    components,\n",
    "    products_usage,\n",
    "    how=\"outer\",\n",
    "    left_on=[\"name\"],\n",
    "    right_on=[\"components\"],\n",
    "    indicator=True,\n",
    ")"
   ]
  },
  {
   "cell_type": "code",
   "execution_count": 48,
   "id": "7a9af749-a6e0-4218-ba2c-36f0a5bde943",
   "metadata": {
    "tags": []
   },
   "outputs": [
    {
     "data": {
      "text/plain": [
       "both          71\n",
       "left_only     36\n",
       "right_only     1\n",
       "Name: _merge, dtype: int64"
      ]
     },
     "execution_count": 48,
     "metadata": {},
     "output_type": "execute_result"
    }
   ],
   "source": [
    "merge1._merge.value_counts()"
   ]
  },
  {
   "cell_type": "code",
   "execution_count": 49,
   "id": "bc19ac99-6f6c-4065-a334-01f30f31b7a8",
   "metadata": {},
   "outputs": [],
   "source": [
    "# keep relevant cols\n",
    "merge1 = merge1[\n",
    "    [\n",
    "        \"name\",\n",
    "        \"components\",\n",
    "        \"function_group\",\n",
    "        \"count_of_orgs_using_product\",\n",
    "        \"count_of_products_in_categories\",\n",
    "        \"_merge\",\n",
    "    ]\n",
    "]"
   ]
  },
  {
   "cell_type": "code",
   "execution_count": 50,
   "id": "b12e843a-c490-4d7b-88e8-803898f042de",
   "metadata": {},
   "outputs": [
    {
     "data": {
      "text/plain": [
       "108"
      ]
     },
     "execution_count": 50,
     "metadata": {},
     "output_type": "execute_result"
    }
   ],
   "source": [
    "len(merge1)"
   ]
  },
  {
   "cell_type": "code",
   "execution_count": 51,
   "id": "27b277d5-d689-47d8-9b9b-523146b99575",
   "metadata": {},
   "outputs": [],
   "source": [
    "# filter out any products with 0 users\n",
    "merge1 = merge1[merge1[\"count_of_orgs_using_product\"] > 0]"
   ]
  },
  {
   "cell_type": "code",
   "execution_count": 52,
   "id": "0c057a43-e281-4166-aef9-6d4d153315b3",
   "metadata": {},
   "outputs": [
    {
     "data": {
      "text/plain": [
       "count   59.00\n",
       "mean     6.61\n",
       "std      5.91\n",
       "min      1.00\n",
       "25%      2.00\n",
       "50%      5.00\n",
       "75%     10.00\n",
       "max     32.00\n",
       "Name: count_of_products_in_categories, dtype: float64"
      ]
     },
     "execution_count": 52,
     "metadata": {},
     "output_type": "execute_result"
    }
   ],
   "source": [
    "merge1.count_of_products_in_categories.describe()"
   ]
  },
  {
   "cell_type": "code",
   "execution_count": 53,
   "id": "cde086bf-e05c-45e0-a66a-c14dd5ff6c57",
   "metadata": {
    "tags": []
   },
   "outputs": [
    {
     "data": {
      "text/html": [
       "<div>\n",
       "<style scoped>\n",
       "    .dataframe tbody tr th:only-of-type {\n",
       "        vertical-align: middle;\n",
       "    }\n",
       "\n",
       "    .dataframe tbody tr th {\n",
       "        vertical-align: top;\n",
       "    }\n",
       "\n",
       "    .dataframe thead th {\n",
       "        text-align: right;\n",
       "    }\n",
       "</style>\n",
       "<table border=\"1\" class=\"dataframe\">\n",
       "  <thead>\n",
       "    <tr style=\"text-align: right;\">\n",
       "      <th></th>\n",
       "      <th>name</th>\n",
       "      <th>components</th>\n",
       "      <th>function_group</th>\n",
       "      <th>count_of_orgs_using_product</th>\n",
       "      <th>count_of_products_in_categories</th>\n",
       "      <th>_merge</th>\n",
       "    </tr>\n",
       "  </thead>\n",
       "  <tbody>\n",
       "    <tr>\n",
       "      <th>21</th>\n",
       "      <td>Driver Sign-up</td>\n",
       "      <td>Driver Sign-up</td>\n",
       "      <td>Scheduling</td>\n",
       "      <td>72.00</td>\n",
       "      <td>2.00</td>\n",
       "      <td>both</td>\n",
       "    </tr>\n",
       "    <tr>\n",
       "      <th>8</th>\n",
       "      <td>Arrival predictions</td>\n",
       "      <td>Arrival predictions</td>\n",
       "      <td>Operations</td>\n",
       "      <td>54.00</td>\n",
       "      <td>4.00</td>\n",
       "      <td>both</td>\n",
       "    </tr>\n",
       "    <tr>\n",
       "      <th>40</th>\n",
       "      <td>Headsigns</td>\n",
       "      <td>Headsigns</td>\n",
       "      <td>Rider info</td>\n",
       "      <td>54.00</td>\n",
       "      <td>4.00</td>\n",
       "      <td>both</td>\n",
       "    </tr>\n",
       "    <tr>\n",
       "      <th>47</th>\n",
       "      <td>Location Sensors</td>\n",
       "      <td>Location Sensors</td>\n",
       "      <td>Operations</td>\n",
       "      <td>52.00</td>\n",
       "      <td>3.00</td>\n",
       "      <td>both</td>\n",
       "    </tr>\n",
       "    <tr>\n",
       "      <th>72</th>\n",
       "      <td>Run cutting</td>\n",
       "      <td>Run cutting</td>\n",
       "      <td>Scheduling</td>\n",
       "      <td>48.00</td>\n",
       "      <td>1.00</td>\n",
       "      <td>both</td>\n",
       "    </tr>\n",
       "  </tbody>\n",
       "</table>\n",
       "</div>"
      ],
      "text/plain": [
       "                   name           components function_group  \\\n",
       "21       Driver Sign-up       Driver Sign-up     Scheduling   \n",
       "8   Arrival predictions  Arrival predictions     Operations   \n",
       "40            Headsigns            Headsigns     Rider info   \n",
       "47     Location Sensors     Location Sensors     Operations   \n",
       "72          Run cutting          Run cutting     Scheduling   \n",
       "\n",
       "    count_of_orgs_using_product  count_of_products_in_categories _merge  \n",
       "21                        72.00                             2.00   both  \n",
       "8                         54.00                             4.00   both  \n",
       "40                        54.00                             4.00   both  \n",
       "47                        52.00                             3.00   both  \n",
       "72                        48.00                             1.00   both  "
      ]
     },
     "execution_count": 53,
     "metadata": {},
     "output_type": "execute_result"
    }
   ],
   "source": [
    "# filter out any values in \"count_of_products_in_categories\" col below 50% percentile\n",
    "merge1[merge1[\"count_of_products_in_categories\"] < 5.5].sort_values(\n",
    "    [\"count_of_orgs_using_product\", \"count_of_products_in_categories\"], ascending=False\n",
    ").head()"
   ]
  },
  {
   "cell_type": "markdown",
   "id": "ad737c48-945b-4d1a-9c45-9af3b10cfb5c",
   "metadata": {},
   "source": [
    "### Function Groups\n",
    "* Most of the products are under the \"operations\" group."
   ]
  },
  {
   "cell_type": "code",
   "execution_count": 54,
   "id": "7d6c46c8-50bb-48a3-9f08-bf616cc9a3e3",
   "metadata": {},
   "outputs": [
    {
     "data": {
      "text/plain": [
       "Operations         46\n",
       "Rider info         20\n",
       "Fare collection    10\n",
       "Scheduling          7\n",
       "Backoffice          6\n",
       "Maintenance         6\n",
       "IT                  4\n",
       "Traffic             3\n",
       "Reporting           1\n",
       "Rider Info          1\n",
       "Name: function_group, dtype: int64"
      ]
     },
     "execution_count": 54,
     "metadata": {},
     "output_type": "execute_result"
    }
   ],
   "source": [
    "components.function_group.value_counts()"
   ]
  },
  {
   "cell_type": "markdown",
   "id": "a38b6002-87c8-4e5d-af59-33905d0c12f4",
   "metadata": {
    "tags": []
   },
   "source": [
    "## Contracts Data"
   ]
  },
  {
   "cell_type": "code",
   "execution_count": 55,
   "id": "e0c6b2cc-c997-40dc-a47e-88d0b7cb7428",
   "metadata": {},
   "outputs": [],
   "source": [
    "contracts = (\n",
    "    to_snakecase(pd.read_csv(f\"{GCS_FILE_PATH}Contracts_May_11.csv\"))\n",
    "    .drop(columns=[\"attachments\", \"organization_stack_components\", \"name\"])\n",
    "    .rename(\n",
    "        columns={\n",
    "            \"type_of_contract:_functional_category\": \"functional_category\",\n",
    "            \"type_of_contract:_functions\": \"contract_type\",\n",
    "        }\n",
    "    )\n",
    ")"
   ]
  },
  {
   "cell_type": "code",
   "execution_count": 56,
   "id": "754f2767-3793-4ad8-b179-0259b1760d63",
   "metadata": {},
   "outputs": [
    {
     "data": {
      "text/plain": [
       "contract_holder          1\n",
       "contract_vendor          1\n",
       "contract_name           48\n",
       "functional_category     16\n",
       "contract_type           14\n",
       "start_date              36\n",
       "end_date               119\n",
       "renewal_option          30\n",
       "value                  150\n",
       "notes                  111\n",
       "dtype: int64"
      ]
     },
     "execution_count": 56,
     "metadata": {},
     "output_type": "execute_result"
    }
   ],
   "source": [
    "contracts.isna().sum()"
   ]
  },
  {
   "cell_type": "code",
   "execution_count": 57,
   "id": "af14dd1d-9c3d-4e19-93ee-a5ec7a25f21f",
   "metadata": {},
   "outputs": [],
   "source": [
    "# First row of data is just N/A, so dropping it here.\n",
    "contracts = contracts.dropna(subset=[\"contract_holder\"])"
   ]
  },
  {
   "cell_type": "code",
   "execution_count": 58,
   "id": "d1f5eeaa-bcaf-4ad7-8768-999d15f897ee",
   "metadata": {},
   "outputs": [
    {
     "data": {
      "text/plain": [
       "158"
      ]
     },
     "execution_count": 58,
     "metadata": {},
     "output_type": "execute_result"
    }
   ],
   "source": [
    "len(contracts)"
   ]
  },
  {
   "cell_type": "code",
   "execution_count": 59,
   "id": "0dd5cb5e-b67f-4ebf-88e8-f1493e3716b4",
   "metadata": {},
   "outputs": [
    {
     "data": {
      "text/plain": [
       "'56 organizations in contracts data set'"
      ]
     },
     "execution_count": 59,
     "metadata": {},
     "output_type": "execute_result"
    }
   ],
   "source": [
    "f\"{ contracts.contract_holder.nunique()} organizations in contracts data set\""
   ]
  },
  {
   "cell_type": "code",
   "execution_count": 60,
   "id": "378d0c64-112f-4b11-bf08-48b8c3a15d5a",
   "metadata": {},
   "outputs": [
    {
     "data": {
      "text/plain": [
       "'44 vendors in contracts data set'"
      ]
     },
     "execution_count": 60,
     "metadata": {},
     "output_type": "execute_result"
    }
   ],
   "source": [
    "f\"{ contracts.contract_vendor.nunique()} vendors in contracts data set\""
   ]
  },
  {
   "cell_type": "markdown",
   "id": "6fca2993-9299-48c2-af1a-3d30ae894d85",
   "metadata": {},
   "source": [
    "### 125 contracts have none/no record for renewal options, 4 auto-renews"
   ]
  },
  {
   "cell_type": "code",
   "execution_count": 61,
   "id": "43fea934-b604-4d52-82c3-0b65a51ad444",
   "metadata": {},
   "outputs": [
    {
     "data": {
      "text/plain": [
       "None           125\n",
       "Auto-renews      4\n",
       "Name: renewal_option, dtype: int64"
      ]
     },
     "execution_count": 61,
     "metadata": {},
     "output_type": "execute_result"
    }
   ],
   "source": [
    "contracts.renewal_option.value_counts()"
   ]
  },
  {
   "cell_type": "markdown",
   "id": "6f7ff816-83f2-4a42-9472-bb0e6275b997",
   "metadata": {
    "tags": []
   },
   "source": [
    "### Looking at contract duration:\n",
    "* Contracts with an end date value populated, average duration is 3 years."
   ]
  },
  {
   "cell_type": "code",
   "execution_count": 62,
   "id": "042eb69c-916f-40f2-89fc-6f04e42f0575",
   "metadata": {},
   "outputs": [],
   "source": [
    "# Editing date time cols to the right data type\n",
    "contracts = contracts.assign(\n",
    "    start_date=pd.to_datetime(contracts.start_date, errors=\"coerce\"),\n",
    "    end_date=pd.to_datetime(contracts.end_date, errors=\"coerce\"),\n",
    ")"
   ]
  },
  {
   "cell_type": "code",
   "execution_count": 63,
   "id": "5e1cc8c7-f0e4-4e7f-aa5d-b96cf7e16eff",
   "metadata": {},
   "outputs": [],
   "source": [
    "# new column for duration of contract year.\n",
    "contracts[\"duration_of_contract_year\"] = (\n",
    "    (contracts[\"end_date\"] - contracts[\"start_date\"]).dt.days\n",
    ") / 365"
   ]
  },
  {
   "cell_type": "code",
   "execution_count": 64,
   "id": "048327bb-eee8-49a6-a175-744766f3e0cb",
   "metadata": {},
   "outputs": [],
   "source": [
    "# fill in NAs with 0 and round to 0\n",
    "contracts[\"duration_of_contract_year\"] = (\n",
    "    contracts[\"duration_of_contract_year\"].fillna(0).round(0)\n",
    ")"
   ]
  },
  {
   "cell_type": "code",
   "execution_count": 65,
   "id": "51c4e4d6-34a8-4687-b999-e70bac539577",
   "metadata": {},
   "outputs": [],
   "source": [
    "# new df for rows with end dates\n",
    "filtered_for_end_date = contracts[contracts[\"end_date\"].notnull()]"
   ]
  },
  {
   "cell_type": "code",
   "execution_count": 66,
   "id": "989244e4-9cdb-4400-8ca0-710b2a566f7d",
   "metadata": {},
   "outputs": [],
   "source": [
    "duration = (\n",
    "    filtered_for_end_date.groupby(\"duration_of_contract_year\")\n",
    "    .agg({\"contract_holder\": \"count\"})\n",
    "    .reset_index()\n",
    "    .rename(\n",
    "        columns={\n",
    "            \"duration_of_contract_year\": \"contract length\",\n",
    "            \"contract_holder\": \"number_of_contracts\",\n",
    "        }\n",
    "    )\n",
    ")"
   ]
  },
  {
   "cell_type": "code",
   "execution_count": 67,
   "id": "48ef901a-6aa1-48ae-9a70-bb87133e6c17",
   "metadata": {},
   "outputs": [
    {
     "data": {
      "text/plain": [
       "3.0"
      ]
     },
     "execution_count": 67,
     "metadata": {},
     "output_type": "execute_result"
    }
   ],
   "source": [
    "filtered_for_end_date[\"duration_of_contract_year\"].median()"
   ]
  },
  {
   "cell_type": "code",
   "execution_count": 68,
   "id": "50d1cea8-7894-4701-ba7e-3446a7d62d9f",
   "metadata": {},
   "outputs": [
    {
     "data": {
      "text/plain": [
       "39"
      ]
     },
     "execution_count": 68,
     "metadata": {},
     "output_type": "execute_result"
    }
   ],
   "source": [
    "len(filtered_for_end_date)"
   ]
  },
  {
   "cell_type": "code",
   "execution_count": 69,
   "id": "273916aa-ebaf-4aba-ad4a-dcf840f924f8",
   "metadata": {},
   "outputs": [],
   "source": [
    "end_dates_by_quarters = (\n",
    "    filtered_for_end_date.groupby(\n",
    "        pd.to_datetime(filtered_for_end_date[\"end_date\"], format=\"%b-%Y\").dt.to_period(\n",
    "            \"Q\"\n",
    "        )\n",
    "    )[\"contract_holder\"]\n",
    "    .count()\n",
    "    .to_frame()\n",
    "    .reset_index()\n",
    "    .rename(\n",
    "        columns={\n",
    "            \"contract_holder\": \"number_of_contracts\",\n",
    "            \"end_date\": \"quarter of expiration\",\n",
    "        }\n",
    "    )\n",
    ")"
   ]
  },
  {
   "cell_type": "code",
   "execution_count": 70,
   "id": "0b6a45db-730e-4c55-b6ff-2035c6379273",
   "metadata": {},
   "outputs": [],
   "source": [
    "end_dates_by_quarters[\"quarter of expiration\"] = end_dates_by_quarters[\n",
    "    \"quarter of expiration\"\n",
    "].astype(\"str\")"
   ]
  },
  {
   "cell_type": "markdown",
   "id": "1ba771bd-f62b-4864-9f27-b51b87584bb6",
   "metadata": {},
   "source": [
    "utils.basic_bar_chart(\n",
    "    end_dates_by_quarters,\n",
    "    \"quarter of expiration\",\n",
    "    \"number_of_contracts\",\n",
    "    \"number_of_contracts\",\n",
    "    \"Contract Expiration Dates\",\n",
    ")"
   ]
  },
  {
   "cell_type": "markdown",
   "id": "214cb95e-2fad-485c-9e27-cdc1c4cebeae",
   "metadata": {},
   "source": [
    "### Separate contract type to look at elements within each contract.\n",
    "* Functional category is less descriptive, looking at contract type instead.\n",
    "* There are 71 different types because of all various combinations of GTFS, mobile ticketing, etc elements a contract can have. \n",
    "* Separating them out by commas might make it easier to to analyze.\n",
    "* After splitting the combinations, only 32 cateogries."
   ]
  },
  {
   "cell_type": "code",
   "execution_count": 71,
   "id": "7460ea66-d7aa-4641-b2e6-5aaec200f735",
   "metadata": {},
   "outputs": [
    {
     "data": {
      "text/plain": [
       "'71 unique contract types'"
      ]
     },
     "execution_count": 71,
     "metadata": {},
     "output_type": "execute_result"
    }
   ],
   "source": [
    "f\"{ contracts.contract_type.nunique()} unique contract types\""
   ]
  },
  {
   "cell_type": "code",
   "execution_count": 72,
   "id": "8cc827ce-766d-4bed-8923-4da4f3794eec",
   "metadata": {},
   "outputs": [],
   "source": [
    "contracts = contracts.fillna(\"N/A\")"
   ]
  },
  {
   "cell_type": "code",
   "execution_count": 73,
   "id": "07f455ab-c689-4480-b186-0111720fa0b5",
   "metadata": {},
   "outputs": [],
   "source": [
    "contracts[\"contract_type\"] = contracts[\"contract_type\"].replace(\n",
    "    {\n",
    "        \"Payment processor/Merchant services,Mobile ticketing\": \"Payment Processor or Merchant Services or Mobile Ticketing\",\n",
    "        \"Payment processor/Merchant services\": \"Payment Processor or Merchant Services\",\n",
    "    }\n",
    ")"
   ]
  },
  {
   "cell_type": "code",
   "execution_count": 74,
   "id": "0ed3c405-49a6-4113-a62e-210ccbf6fe45",
   "metadata": {},
   "outputs": [],
   "source": [
    "# https://stackoverflow.com/questions/52575290/how-to-separate-string-into-multiple-rows-in-pandas\n",
    "contract_type = contracts[\"contract_type\"].str.split(\",\")\n",
    "cols = contracts.columns.difference([\"contract_type\"])"
   ]
  },
  {
   "cell_type": "code",
   "execution_count": 75,
   "id": "74631af9-f4c8-4ac3-a44a-c740aaaba3e2",
   "metadata": {},
   "outputs": [],
   "source": [
    "contracts2 = contracts.loc[\n",
    "    contracts.index.repeat(contract_type.str.len()), cols\n",
    "].assign(contract_type_use=list(chain.from_iterable(contract_type.tolist())))"
   ]
  },
  {
   "cell_type": "code",
   "execution_count": 76,
   "id": "ff2e265a-b4d9-4447-9604-f3bb7c822811",
   "metadata": {},
   "outputs": [
    {
     "data": {
      "text/plain": [
       "32"
      ]
     },
     "execution_count": 76,
     "metadata": {},
     "output_type": "execute_result"
    }
   ],
   "source": [
    "contracts2.contract_type_use.nunique()"
   ]
  },
  {
   "cell_type": "code",
   "execution_count": 77,
   "id": "6fd0bbcc-3bb7-4c00-82e3-a61ac6d437f3",
   "metadata": {
    "tags": []
   },
   "outputs": [
    {
     "data": {
      "text/plain": [
       "(341, 11)"
      ]
     },
     "execution_count": 77,
     "metadata": {},
     "output_type": "execute_result"
    }
   ],
   "source": [
    "contracts2.shape"
   ]
  },
  {
   "cell_type": "code",
   "execution_count": 78,
   "id": "f5b9cd2f-ee80-4fe1-a2f6-64fd44164899",
   "metadata": {},
   "outputs": [
    {
     "data": {
      "text/html": [
       "<div>\n",
       "<style scoped>\n",
       "    .dataframe tbody tr th:only-of-type {\n",
       "        vertical-align: middle;\n",
       "    }\n",
       "\n",
       "    .dataframe tbody tr th {\n",
       "        vertical-align: top;\n",
       "    }\n",
       "\n",
       "    .dataframe thead th {\n",
       "        text-align: right;\n",
       "    }\n",
       "</style>\n",
       "<table border=\"1\" class=\"dataframe\">\n",
       "  <thead>\n",
       "    <tr style=\"text-align: right;\">\n",
       "      <th></th>\n",
       "      <th>contract_holder</th>\n",
       "      <th>contract_name</th>\n",
       "      <th>contract_vendor</th>\n",
       "      <th>duration_of_contract_year</th>\n",
       "      <th>end_date</th>\n",
       "      <th>functional_category</th>\n",
       "      <th>notes</th>\n",
       "      <th>renewal_option</th>\n",
       "      <th>start_date</th>\n",
       "      <th>value</th>\n",
       "      <th>contract_type_use</th>\n",
       "    </tr>\n",
       "  </thead>\n",
       "  <tbody>\n",
       "    <tr>\n",
       "      <th>19</th>\n",
       "      <td>City of Roseville</td>\n",
       "      <td>N/A</td>\n",
       "      <td>Elavon</td>\n",
       "      <td>0.00</td>\n",
       "      <td>N/A</td>\n",
       "      <td>N/A</td>\n",
       "      <td>Aware of vendors, but do not have a record of the actual contract\\n</td>\n",
       "      <td>N/A</td>\n",
       "      <td>N/A</td>\n",
       "      <td>N/A</td>\n",
       "      <td>Payment Processor or Merchant Services</td>\n",
       "    </tr>\n",
       "    <tr>\n",
       "      <th>38</th>\n",
       "      <td>Eastern Sierra Transit Authority</td>\n",
       "      <td>N/A</td>\n",
       "      <td>Elavon</td>\n",
       "      <td>0.00</td>\n",
       "      <td>N/A</td>\n",
       "      <td>Fare Payments</td>\n",
       "      <td>N/A</td>\n",
       "      <td>None</td>\n",
       "      <td>2018-02-01 00:00:00</td>\n",
       "      <td>N/A</td>\n",
       "      <td>Payment Processor or Merchant Services</td>\n",
       "    </tr>\n",
       "    <tr>\n",
       "      <th>79</th>\n",
       "      <td>San Joaquin Regional Transit District</td>\n",
       "      <td>N/A</td>\n",
       "      <td>FIS</td>\n",
       "      <td>0.00</td>\n",
       "      <td>N/A</td>\n",
       "      <td>Fare Payments</td>\n",
       "      <td>N/A</td>\n",
       "      <td>None</td>\n",
       "      <td>2015-07-01 00:00:00</td>\n",
       "      <td>N/A</td>\n",
       "      <td>Payment Processor or Merchant Services</td>\n",
       "    </tr>\n",
       "    <tr>\n",
       "      <th>95</th>\n",
       "      <td>Santa Cruz Metropolitan Transit District</td>\n",
       "      <td>N/A</td>\n",
       "      <td>FIS</td>\n",
       "      <td>0.00</td>\n",
       "      <td>N/A</td>\n",
       "      <td>Fare Payments</td>\n",
       "      <td>N/A</td>\n",
       "      <td>None</td>\n",
       "      <td>2017-10-13 00:00:00</td>\n",
       "      <td>N/A</td>\n",
       "      <td>Payment Processor or Merchant Services</td>\n",
       "    </tr>\n",
       "    <tr>\n",
       "      <th>107</th>\n",
       "      <td>Tahoe Transportation District</td>\n",
       "      <td>N/A</td>\n",
       "      <td>Square Inc.</td>\n",
       "      <td>0.00</td>\n",
       "      <td>N/A</td>\n",
       "      <td>Offboard fares</td>\n",
       "      <td>Aware of vendors, but do not have a record of the actual contract\\n</td>\n",
       "      <td>N/A</td>\n",
       "      <td>N/A</td>\n",
       "      <td>N/A</td>\n",
       "      <td>Payment Processor or Merchant Services</td>\n",
       "    </tr>\n",
       "    <tr>\n",
       "      <th>114</th>\n",
       "      <td>\"University of California, Davis\"</td>\n",
       "      <td>N/A</td>\n",
       "      <td>TouchNet</td>\n",
       "      <td>0.00</td>\n",
       "      <td>N/A</td>\n",
       "      <td>N/A</td>\n",
       "      <td>Aware of vendors, but do not have a record of the actual contract\\n</td>\n",
       "      <td>N/A</td>\n",
       "      <td>N/A</td>\n",
       "      <td>N/A</td>\n",
       "      <td>Payment Processor or Merchant Services</td>\n",
       "    </tr>\n",
       "    <tr>\n",
       "      <th>117</th>\n",
       "      <td>Yuba-Sutter Transit Authority</td>\n",
       "      <td>N/A</td>\n",
       "      <td>Elavon</td>\n",
       "      <td>0.00</td>\n",
       "      <td>N/A</td>\n",
       "      <td>Fare Payments</td>\n",
       "      <td>Aware of vendors, but do not have a record of the actual contract\\n</td>\n",
       "      <td>N/A</td>\n",
       "      <td>N/A</td>\n",
       "      <td>N/A</td>\n",
       "      <td>Payment Processor or Merchant Services</td>\n",
       "    </tr>\n",
       "  </tbody>\n",
       "</table>\n",
       "</div>"
      ],
      "text/plain": [
       "                              contract_holder contract_name contract_vendor  \\\n",
       "19                          City of Roseville           N/A          Elavon   \n",
       "38           Eastern Sierra Transit Authority           N/A          Elavon   \n",
       "79      San Joaquin Regional Transit District           N/A             FIS   \n",
       "95   Santa Cruz Metropolitan Transit District           N/A             FIS   \n",
       "107             Tahoe Transportation District           N/A     Square Inc.   \n",
       "114         \"University of California, Davis\"           N/A        TouchNet   \n",
       "117             Yuba-Sutter Transit Authority           N/A          Elavon   \n",
       "\n",
       "     duration_of_contract_year end_date functional_category  \\\n",
       "19                        0.00      N/A                 N/A   \n",
       "38                        0.00      N/A       Fare Payments   \n",
       "79                        0.00      N/A       Fare Payments   \n",
       "95                        0.00      N/A       Fare Payments   \n",
       "107                       0.00      N/A      Offboard fares   \n",
       "114                       0.00      N/A                 N/A   \n",
       "117                       0.00      N/A       Fare Payments   \n",
       "\n",
       "                                                                   notes  \\\n",
       "19   Aware of vendors, but do not have a record of the actual contract\\n   \n",
       "38                                                                   N/A   \n",
       "79                                                                   N/A   \n",
       "95                                                                   N/A   \n",
       "107  Aware of vendors, but do not have a record of the actual contract\\n   \n",
       "114  Aware of vendors, but do not have a record of the actual contract\\n   \n",
       "117  Aware of vendors, but do not have a record of the actual contract\\n   \n",
       "\n",
       "    renewal_option           start_date value  \\\n",
       "19             N/A                  N/A   N/A   \n",
       "38            None  2018-02-01 00:00:00   N/A   \n",
       "79            None  2015-07-01 00:00:00   N/A   \n",
       "95            None  2017-10-13 00:00:00   N/A   \n",
       "107            N/A                  N/A   N/A   \n",
       "114            N/A                  N/A   N/A   \n",
       "117            N/A                  N/A   N/A   \n",
       "\n",
       "                          contract_type_use  \n",
       "19   Payment Processor or Merchant Services  \n",
       "38   Payment Processor or Merchant Services  \n",
       "79   Payment Processor or Merchant Services  \n",
       "95   Payment Processor or Merchant Services  \n",
       "107  Payment Processor or Merchant Services  \n",
       "114  Payment Processor or Merchant Services  \n",
       "117  Payment Processor or Merchant Services  "
      ]
     },
     "execution_count": 78,
     "metadata": {},
     "output_type": "execute_result"
    }
   ],
   "source": [
    "# just checking that everything is correct\n",
    "contracts2.loc[\n",
    "    contracts2[\"contract_type_use\"] == \"Payment Processor or Merchant Services\"\n",
    "]"
   ]
  },
  {
   "cell_type": "markdown",
   "id": "0d0512e7-e176-40b0-8887-dc25c60d6b9a",
   "metadata": {},
   "source": [
    "\n",
    "### Most common contract element\n",
    "* Most contracts have an element of GTFS Generation, followed by Vehicle Locations, and Arrival Predictions."
   ]
  },
  {
   "cell_type": "code",
   "execution_count": 79,
   "id": "90743c2d-0e12-4400-82e8-06df1ae202e5",
   "metadata": {},
   "outputs": [],
   "source": [
    "most_common_contract_product = (\n",
    "    contracts2.contract_type_use.value_counts()\n",
    "    .to_frame()\n",
    "    .reset_index()\n",
    "    .rename(\n",
    "        columns={\n",
    "            \"index\": \"element\",\n",
    "            \"contract_type_use\": \"number_of_contracts with this element\",\n",
    "        }\n",
    "    )\n",
    "    .head(10)\n",
    ")"
   ]
  },
  {
   "cell_type": "code",
   "execution_count": 80,
   "id": "7b669e9c-e8b2-40a4-8026-385f9eec29de",
   "metadata": {},
   "outputs": [
    {
     "data": {
      "text/html": [
       "<div>\n",
       "<style scoped>\n",
       "    .dataframe tbody tr th:only-of-type {\n",
       "        vertical-align: middle;\n",
       "    }\n",
       "\n",
       "    .dataframe tbody tr th {\n",
       "        vertical-align: top;\n",
       "    }\n",
       "\n",
       "    .dataframe thead th {\n",
       "        text-align: right;\n",
       "    }\n",
       "</style>\n",
       "<table border=\"1\" class=\"dataframe\">\n",
       "  <thead>\n",
       "    <tr style=\"text-align: right;\">\n",
       "      <th></th>\n",
       "      <th>element</th>\n",
       "      <th>number_of_contracts with this element</th>\n",
       "    </tr>\n",
       "  </thead>\n",
       "  <tbody>\n",
       "    <tr>\n",
       "      <th>0</th>\n",
       "      <td>GTFS Generation</td>\n",
       "      <td>35</td>\n",
       "    </tr>\n",
       "    <tr>\n",
       "      <th>1</th>\n",
       "      <td>Vehicle Locations</td>\n",
       "      <td>34</td>\n",
       "    </tr>\n",
       "    <tr>\n",
       "      <th>2</th>\n",
       "      <td>Arrival predictions</td>\n",
       "      <td>33</td>\n",
       "    </tr>\n",
       "    <tr>\n",
       "      <th>3</th>\n",
       "      <td>MDT</td>\n",
       "      <td>23</td>\n",
       "    </tr>\n",
       "    <tr>\n",
       "      <th>4</th>\n",
       "      <td>Real-time service alerts</td>\n",
       "      <td>19</td>\n",
       "    </tr>\n",
       "    <tr>\n",
       "      <th>5</th>\n",
       "      <td>Annunciator</td>\n",
       "      <td>18</td>\n",
       "    </tr>\n",
       "    <tr>\n",
       "      <th>6</th>\n",
       "      <td>Interior signage</td>\n",
       "      <td>18</td>\n",
       "    </tr>\n",
       "    <tr>\n",
       "      <th>7</th>\n",
       "      <td>Headsigns</td>\n",
       "      <td>16</td>\n",
       "    </tr>\n",
       "    <tr>\n",
       "      <th>8</th>\n",
       "      <td>Mobile ticketing</td>\n",
       "      <td>15</td>\n",
       "    </tr>\n",
       "    <tr>\n",
       "      <th>9</th>\n",
       "      <td>Realtime info</td>\n",
       "      <td>15</td>\n",
       "    </tr>\n",
       "  </tbody>\n",
       "</table>\n",
       "</div>"
      ],
      "text/plain": [
       "                    element  number_of_contracts with this element\n",
       "0           GTFS Generation                                     35\n",
       "1         Vehicle Locations                                     34\n",
       "2       Arrival predictions                                     33\n",
       "3                       MDT                                     23\n",
       "4  Real-time service alerts                                     19\n",
       "5               Annunciator                                     18\n",
       "6          Interior signage                                     18\n",
       "7                 Headsigns                                     16\n",
       "8          Mobile ticketing                                     15\n",
       "9             Realtime info                                     15"
      ]
     },
     "execution_count": 80,
     "metadata": {},
     "output_type": "execute_result"
    }
   ],
   "source": [
    "most_common_contract_product"
   ]
  },
  {
   "cell_type": "markdown",
   "id": "1bfd5923-10d2-4154-a8b3-39282a606b3d",
   "metadata": {
    "tags": []
   },
   "source": [
    "utils.basic_bar_chart(\n",
    "    most_common_contract_product,\n",
    "    \"number_of_contracts with this element\",\n",
    "    \"element\",\n",
    "    \"element\",\n",
    "    \"Most Common Element in Contracts\",\n",
    ")"
   ]
  },
  {
   "cell_type": "markdown",
   "id": "782820c0-e56c-4a13-b409-9d5f80732eab",
   "metadata": {},
   "source": [
    "### Most popular vendors by contract awarded"
   ]
  },
  {
   "cell_type": "code",
   "execution_count": 81,
   "id": "7452c8ad-959a-4c60-ba8c-9a0e88a28363",
   "metadata": {},
   "outputs": [],
   "source": [
    "vendors2 = (\n",
    "    contracts.contract_vendor.value_counts()\n",
    "    .to_frame()\n",
    "    .reset_index()\n",
    "    .head(5)\n",
    "    .rename(columns={\"index\": \"vendor\", \"contract_vendor\": \"number_of_contracts\"})\n",
    ")"
   ]
  },
  {
   "cell_type": "markdown",
   "id": "3bd9b43c-008c-478e-b133-36dc3e5c9dc0",
   "metadata": {},
   "source": [
    "utils.basic_bar_chart(\n",
    "    vendors2,\n",
    "    \"number_of_contracts\",\n",
    "    \"vendor\",\n",
    "    \"vendor\",\n",
    "    \"Vendors Awarded The Most Contracts\",\n",
    ")"
   ]
  },
  {
   "cell_type": "markdown",
   "id": "6dfc0e32-027c-4f4e-a2f6-595216b6bcc7",
   "metadata": {},
   "source": [
    "### Organizations that hold the most contracts"
   ]
  },
  {
   "cell_type": "code",
   "execution_count": 82,
   "id": "968e84a0-bdf0-4cb9-b7e5-d5c6e0c27554",
   "metadata": {},
   "outputs": [],
   "source": [
    "contract_holders = (\n",
    "    contracts.contract_holder.value_counts()\n",
    "    .to_frame()\n",
    "    .reset_index()\n",
    "    .rename(columns={\"index\": \"holders\", \"contract_holder\": \"# contracts\"})\n",
    "    .head(10)\n",
    ")"
   ]
  },
  {
   "cell_type": "markdown",
   "id": "dd5f3270-62bf-4fac-8ad0-403b40a0d66e",
   "metadata": {},
   "source": [
    "utils.basic_bar_chart(\n",
    "    contract_holders,\n",
    "    \"# contracts\",\n",
    "    \"holders\",\n",
    "    \"holders\",\n",
    "    \"Organizations with the Most Contracts\",\n",
    ")"
   ]
  },
  {
   "cell_type": "markdown",
   "id": "c09bdf7b-00cc-44b8-8191-a370097a80ad",
   "metadata": {},
   "source": [
    "### Looking at contracts and their elements with end dates from May 2022 to 2024.\n",
    "* Of the contracts ending, most have an element of vehicle locations and arrival predictions."
   ]
  },
  {
   "cell_type": "code",
   "execution_count": 83,
   "id": "2026b70a-5810-4118-a537-d41ec1665acf",
   "metadata": {},
   "outputs": [
    {
     "name": "stderr",
     "output_type": "stream",
     "text": [
      "/tmp/ipykernel_2477/2493574420.py:1: FutureWarning: Treating datetime data as categorical rather than numeric in `.describe` is deprecated and will be removed in a future version of pandas. Specify `datetime_is_numeric=True` to silence this warning and adopt the future behavior now.\n"
     ]
    },
    {
     "data": {
      "text/plain": [
       "count                      39\n",
       "unique                     33\n",
       "top       2020-06-30 00:00:00\n",
       "freq                        4\n",
       "first     2010-09-21 00:00:00\n",
       "last      2024-06-30 00:00:00\n",
       "Name: end_date, dtype: object"
      ]
     },
     "execution_count": 83,
     "metadata": {},
     "output_type": "execute_result"
    }
   ],
   "source": [
    "filtered_for_end_date.end_date.describe()"
   ]
  },
  {
   "cell_type": "code",
   "execution_count": 84,
   "id": "df3920af-16c6-48ca-b679-f219b6e87e84",
   "metadata": {},
   "outputs": [],
   "source": [
    "# Keep only end dates from now until 2024.\n",
    "end_dates = filtered_for_end_date.loc[\n",
    "    (filtered_for_end_date[\"end_date\"] >= \"2022-05-01\")]"
   ]
  },
  {
   "cell_type": "code",
   "execution_count": 85,
   "id": "f4ebb637-bb5e-4f85-8db3-a89b3bda3b2d",
   "metadata": {},
   "outputs": [
    {
     "data": {
      "text/html": [
       "<div>\n",
       "<style scoped>\n",
       "    .dataframe tbody tr th:only-of-type {\n",
       "        vertical-align: middle;\n",
       "    }\n",
       "\n",
       "    .dataframe tbody tr th {\n",
       "        vertical-align: top;\n",
       "    }\n",
       "\n",
       "    .dataframe thead th {\n",
       "        text-align: right;\n",
       "    }\n",
       "</style>\n",
       "<table border=\"1\" class=\"dataframe\">\n",
       "  <thead>\n",
       "    <tr style=\"text-align: right;\">\n",
       "      <th></th>\n",
       "      <th>contract_holder</th>\n",
       "      <th>functional_category</th>\n",
       "      <th>start_date</th>\n",
       "      <th>end_date</th>\n",
       "      <th>duration_of_contract_year</th>\n",
       "    </tr>\n",
       "  </thead>\n",
       "  <tbody>\n",
       "    <tr>\n",
       "      <th>148</th>\n",
       "      <td>Monterey-Salinas Transit</td>\n",
       "      <td>Passenger counting</td>\n",
       "      <td>2019-04-09</td>\n",
       "      <td>2022-05-01</td>\n",
       "      <td>3.00</td>\n",
       "    </tr>\n",
       "    <tr>\n",
       "      <th>149</th>\n",
       "      <td>Redwood Coast Transit Authority</td>\n",
       "      <td>CAD/AVL</td>\n",
       "      <td>2019-05-03</td>\n",
       "      <td>2022-05-03</td>\n",
       "      <td>3.00</td>\n",
       "    </tr>\n",
       "    <tr>\n",
       "      <th>151</th>\n",
       "      <td>Anaheim Transportation Network</td>\n",
       "      <td>Offboard rider information</td>\n",
       "      <td>2017-05-17</td>\n",
       "      <td>2022-05-17</td>\n",
       "      <td>5.00</td>\n",
       "    </tr>\n",
       "    <tr>\n",
       "      <th>152</th>\n",
       "      <td>Trinity County</td>\n",
       "      <td>Offboard rider information,Scheduling</td>\n",
       "      <td>2019-08-01</td>\n",
       "      <td>2022-07-31</td>\n",
       "      <td>3.00</td>\n",
       "    </tr>\n",
       "    <tr>\n",
       "      <th>153</th>\n",
       "      <td>Tuolumne County Transit Agency</td>\n",
       "      <td>CAD/AVL,Offboard rider information</td>\n",
       "      <td>2019-05-08</td>\n",
       "      <td>2023-05-07</td>\n",
       "      <td>4.00</td>\n",
       "    </tr>\n",
       "    <tr>\n",
       "      <th>154</th>\n",
       "      <td>Ventura County Transportation Commission</td>\n",
       "      <td>Offboard rider information,CAD/AVL,Onboard rider information</td>\n",
       "      <td>2017-11-03</td>\n",
       "      <td>2023-11-02</td>\n",
       "      <td>6.00</td>\n",
       "    </tr>\n",
       "    <tr>\n",
       "      <th>155</th>\n",
       "      <td>Yuba-Sutter Transit Authority</td>\n",
       "      <td>CAD/AVL,Onboard rider information</td>\n",
       "      <td>2018-11-07</td>\n",
       "      <td>2023-11-06</td>\n",
       "      <td>5.00</td>\n",
       "    </tr>\n",
       "    <tr>\n",
       "      <th>156</th>\n",
       "      <td>Santa Cruz Metropolitan Transit District</td>\n",
       "      <td>Onboard rider information,Offboard rider information,CAD/AVL</td>\n",
       "      <td>2018-11-29</td>\n",
       "      <td>2023-11-28</td>\n",
       "      <td>5.00</td>\n",
       "    </tr>\n",
       "    <tr>\n",
       "      <th>157</th>\n",
       "      <td>Marin County Transit District</td>\n",
       "      <td>Scheduling</td>\n",
       "      <td>2019-07-01</td>\n",
       "      <td>2024-06-30</td>\n",
       "      <td>5.00</td>\n",
       "    </tr>\n",
       "    <tr>\n",
       "      <th>158</th>\n",
       "      <td>Monterey-Salinas Transit</td>\n",
       "      <td>CAD/AVL,Onboard rider information,Offboard rider information</td>\n",
       "      <td>2019-05-01</td>\n",
       "      <td>2024-06-30</td>\n",
       "      <td>5.00</td>\n",
       "    </tr>\n",
       "  </tbody>\n",
       "</table>\n",
       "</div>"
      ],
      "text/plain": [
       "                              contract_holder  \\\n",
       "148                  Monterey-Salinas Transit   \n",
       "149           Redwood Coast Transit Authority   \n",
       "151            Anaheim Transportation Network   \n",
       "152                            Trinity County   \n",
       "153            Tuolumne County Transit Agency   \n",
       "154  Ventura County Transportation Commission   \n",
       "155             Yuba-Sutter Transit Authority   \n",
       "156  Santa Cruz Metropolitan Transit District   \n",
       "157             Marin County Transit District   \n",
       "158                  Monterey-Salinas Transit   \n",
       "\n",
       "                                              functional_category start_date  \\\n",
       "148                                            Passenger counting 2019-04-09   \n",
       "149                                                       CAD/AVL 2019-05-03   \n",
       "151                                    Offboard rider information 2017-05-17   \n",
       "152                         Offboard rider information,Scheduling 2019-08-01   \n",
       "153                            CAD/AVL,Offboard rider information 2019-05-08   \n",
       "154  Offboard rider information,CAD/AVL,Onboard rider information 2017-11-03   \n",
       "155                             CAD/AVL,Onboard rider information 2018-11-07   \n",
       "156  Onboard rider information,Offboard rider information,CAD/AVL 2018-11-29   \n",
       "157                                                    Scheduling 2019-07-01   \n",
       "158  CAD/AVL,Onboard rider information,Offboard rider information 2019-05-01   \n",
       "\n",
       "      end_date  duration_of_contract_year  \n",
       "148 2022-05-01                       3.00  \n",
       "149 2022-05-03                       3.00  \n",
       "151 2022-05-17                       5.00  \n",
       "152 2022-07-31                       3.00  \n",
       "153 2023-05-07                       4.00  \n",
       "154 2023-11-02                       6.00  \n",
       "155 2023-11-06                       5.00  \n",
       "156 2023-11-28                       5.00  \n",
       "157 2024-06-30                       5.00  \n",
       "158 2024-06-30                       5.00  "
      ]
     },
     "execution_count": 85,
     "metadata": {},
     "output_type": "execute_result"
    }
   ],
   "source": [
    "end_dates[\n",
    "    [\n",
    "        \"contract_holder\",\n",
    "        \"functional_category\",\n",
    "        \"start_date\",\n",
    "        \"end_date\",\n",
    "        \"duration_of_contract_year\",\n",
    "    ]\n",
    "].sort_values(\"end_date\")"
   ]
  },
  {
   "cell_type": "markdown",
   "id": "e072f344-46a3-4a78-83f6-1ffd434a904e",
   "metadata": {},
   "source": [
    "## Export"
   ]
  },
  {
   "cell_type": "code",
   "execution_count": 86,
   "id": "46475ebe-1a6b-477d-bdee-308742df4678",
   "metadata": {},
   "outputs": [],
   "source": [
    "with pd.ExcelWriter(f\"{GCS_FILE_PATH}transit_stacks.xlsx\") as writer:\n",
    "    products.to_excel(writer, sheet_name=\"products_clean\", index=False)\n",
    "    components.to_excel(writer, sheet_name=\"components_clean\", index=False)\n",
    "    contracts.to_excel(writer, sheet_name=\"contracts_clean\", index=False)\n",
    "    contracts2.to_excel(writer, sheet_name=\"contracts_delineated\", index=False)"
   ]
  }
 ],
 "metadata": {
  "kernelspec": {
   "display_name": "Python 3 (ipykernel)",
   "language": "python",
   "name": "python3"
  },
  "language_info": {
   "codemirror_mode": {
    "name": "ipython",
    "version": 3
   },
   "file_extension": ".py",
   "mimetype": "text/x-python",
   "name": "python",
   "nbconvert_exporter": "python",
   "pygments_lexer": "ipython3",
   "version": "3.10.4"
  }
 },
 "nbformat": 4,
 "nbformat_minor": 5
}
