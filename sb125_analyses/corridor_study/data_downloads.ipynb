{
 "cells": [
  {
   "cell_type": "markdown",
   "id": "82a53f1d-2622-4cb0-bfdd-36ceec652215",
   "metadata": {},
   "source": [
    "# SB1 Big Data Downloads\n",
    "An analysis into the corridor analysis data downloads from Streetlight and Replica"
   ]
  },
  {
   "cell_type": "code",
   "execution_count": 1,
   "id": "45233485-2055-499a-a89e-fc154fd56e63",
   "metadata": {},
   "outputs": [
    {
     "name": "stderr",
     "output_type": "stream",
     "text": [
      "/tmp/ipykernel_306/4150955979.py:10: DeprecationWarning: Importing display from IPython.core.display is deprecated since IPython 7.14, please import from IPython display\n",
      "  from IPython.core.display import display\n"
     ]
    }
   ],
   "source": [
    "import pandas as pd\n",
    "from siuba import *\n",
    "\n",
    "from calitp_data_analysis.sql import to_snakecase\n",
    "\n",
    "import altair as alt\n",
    "from calitp_data_analysis import calitp_color_palette as cp\n",
    "\n",
    "from IPython.display import Markdown, HTML, display_html, display\n",
    "from IPython.core.display import display\n",
    "\n",
    "import numpy as np"
   ]
  },
  {
   "cell_type": "code",
   "execution_count": 126,
   "id": "b238cf9a-43fa-4ff0-a343-83fa7bf74938",
   "metadata": {},
   "outputs": [],
   "source": [
    "# ! pip install nltk"
   ]
  },
  {
   "cell_type": "code",
   "execution_count": 3,
   "id": "0e3c8ec3-2734-46bf-888f-91bf61ae14b1",
   "metadata": {},
   "outputs": [],
   "source": [
    "import nltk\n",
    "from nltk.corpus import stopwords\n",
    "from nltk.tokenize import word_tokenize, sent_tokenize\n",
    "import re"
   ]
  },
  {
   "cell_type": "code",
   "execution_count": 4,
   "id": "651aae92-5188-4676-8e5f-3c040f77077c",
   "metadata": {},
   "outputs": [],
   "source": [
    "pd.set_option('display.max_columns', 500)\n",
    "pd.set_option('display.max_colwidth', 100)"
   ]
  },
  {
   "cell_type": "code",
   "execution_count": 5,
   "id": "af402da0-0b03-4c71-a1af-19f97f67cef1",
   "metadata": {},
   "outputs": [],
   "source": [
    "GCS_PATH = \"gs://calitp-analytics-data/data-analyses/sb125/corridor_study_data/\""
   ]
  },
  {
   "cell_type": "markdown",
   "id": "71c1deda-8e83-45d8-a0f5-20b36b7051c0",
   "metadata": {},
   "source": [
    "### Read in Replica Data Spring 2023"
   ]
  },
  {
   "cell_type": "code",
   "execution_count": 6,
   "id": "0e5c1b44-c981-4a9a-b6ea-e1cb2a7a279e",
   "metadata": {},
   "outputs": [],
   "source": [
    "replica_trips = \"replica-bay_bridge-03_06_24-trips_dataset.csv\""
   ]
  },
  {
   "cell_type": "code",
   "execution_count": 7,
   "id": "b0bd67f0-6f82-4f2c-8da0-3627a2813571",
   "metadata": {},
   "outputs": [],
   "source": [
    "replica_ppl = \"replica-bay_bridge-03_06_24-people_dataset.csv\""
   ]
  },
  {
   "cell_type": "code",
   "execution_count": null,
   "id": "a9f14685-0953-4b1d-a636-882230fef1d5",
   "metadata": {},
   "outputs": [],
   "source": []
  },
  {
   "cell_type": "code",
   "execution_count": 8,
   "id": "cb3dea26-4e6d-4dc7-acc8-27b899a0a537",
   "metadata": {},
   "outputs": [
    {
     "name": "stderr",
     "output_type": "stream",
     "text": [
      "/tmp/ipykernel_306/2643890524.py:1: DtypeWarning: Columns (2,4,5,9,10,11,18,25,26,29,30,35,36,40,43,48,50) have mixed types. Specify dtype option on import or set low_memory=False.\n",
      "  r_trips = to_snakecase(pd.read_csv(f\"{GCS_PATH}{replica_trips}\"))\n"
     ]
    }
   ],
   "source": [
    "r_trips = to_snakecase(pd.read_csv(f\"{GCS_PATH}{replica_trips}\"))"
   ]
  },
  {
   "cell_type": "code",
   "execution_count": 9,
   "id": "ca697494-b872-4de8-afd9-c538a455364c",
   "metadata": {},
   "outputs": [
    {
     "data": {
      "text/html": [
       "<h4><strong> Sample of data</strong></h4>"
      ],
      "text/plain": [
       "<IPython.core.display.HTML object>"
      ]
     },
     "metadata": {},
     "output_type": "display_data"
    }
   ],
   "source": [
    "display(HTML(\"<h4><strong> Sample of data</strong></h4>\"))\n"
   ]
  },
  {
   "cell_type": "code",
   "execution_count": 10,
   "id": "4713b1a5-ccac-4e1b-8552-850285cad53e",
   "metadata": {},
   "outputs": [
    {
     "data": {
      "text/html": [
       "<div>\n",
       "<style scoped>\n",
       "    .dataframe tbody tr th:only-of-type {\n",
       "        vertical-align: middle;\n",
       "    }\n",
       "\n",
       "    .dataframe tbody tr th {\n",
       "        vertical-align: top;\n",
       "    }\n",
       "\n",
       "    .dataframe thead th {\n",
       "        text-align: right;\n",
       "    }\n",
       "</style>\n",
       "<table border=\"1\" class=\"dataframe\">\n",
       "  <thead>\n",
       "    <tr style=\"text-align: right;\">\n",
       "      <th></th>\n",
       "      <th>origin_building_use</th>\n",
       "      <th>trip_duration_minutes</th>\n",
       "      <th>trip_taker_language</th>\n",
       "      <th>origin_trct_2020</th>\n",
       "      <th>trip_taker_household_id</th>\n",
       "      <th>trip_taker_sex</th>\n",
       "      <th>trip_taker_home_bgrp_2020</th>\n",
       "      <th>origin_st_2020</th>\n",
       "      <th>trip_taker_home_st_2020</th>\n",
       "      <th>trip_taker_race_ethnicity</th>\n",
       "      <th>transit_agency</th>\n",
       "      <th>transit_route</th>\n",
       "      <th>trip_taker_resident_type</th>\n",
       "      <th>vehicle_type</th>\n",
       "      <th>trip_taker_age</th>\n",
       "      <th>activity_id</th>\n",
       "      <th>destination_bgrp_2020</th>\n",
       "      <th>destination_building_use</th>\n",
       "      <th>trip_taker_wfh</th>\n",
       "      <th>destination_st_2020</th>\n",
       "      <th>destination_cty_2020</th>\n",
       "      <th>trip_taker_work_bgrp_2020</th>\n",
       "      <th>destination_trct_2020</th>\n",
       "      <th>trip_taker_household_income</th>\n",
       "      <th>origin_bgrp_2020</th>\n",
       "      <th>trip_taker_commute_mode</th>\n",
       "      <th>trip_taker_available_vehicles</th>\n",
       "      <th>primary_mode</th>\n",
       "      <th>previous_trip_purpose</th>\n",
       "      <th>trip_taker_building_type</th>\n",
       "      <th>transit_submode</th>\n",
       "      <th>trip_taker_work_st_2020</th>\n",
       "      <th>trip_taker_household_size</th>\n",
       "      <th>origin_cty_2020</th>\n",
       "      <th>destination_land_use</th>\n",
       "      <th>trip_taker_industry</th>\n",
       "      <th>trip_taker_tenure</th>\n",
       "      <th>vehicle_fuel_type</th>\n",
       "      <th>trip_taker_home_trct_2020</th>\n",
       "      <th>trip_taker_work_trct_2020</th>\n",
       "      <th>trip_taker_education</th>\n",
       "      <th>trip_start_time</th>\n",
       "      <th>trip_taker_individual_income</th>\n",
       "      <th>trip_taker_employment_status</th>\n",
       "      <th>trip_purpose</th>\n",
       "      <th>origin_land_use</th>\n",
       "      <th>trip_taker_work_cty_2020</th>\n",
       "      <th>trip_distance_miles</th>\n",
       "      <th>trip_taker_school_grade_attending</th>\n",
       "      <th>trip_taker_home_cty_2020</th>\n",
       "      <th>trip_taker_person_id</th>\n",
       "      <th>trip_end_time</th>\n",
       "    </tr>\n",
       "  </thead>\n",
       "  <tbody>\n",
       "    <tr>\n",
       "      <th>344797</th>\n",
       "      <td>retail</td>\n",
       "      <td>139</td>\n",
       "      <td>NaN</td>\n",
       "      <td>206.05 (Placer, CA)</td>\n",
       "      <td></td>\n",
       "      <td>NaN</td>\n",
       "      <td>Visitor (no home location)</td>\n",
       "      <td>California</td>\n",
       "      <td>Visitor (no home location)</td>\n",
       "      <td>NaN</td>\n",
       "      <td>NaN</td>\n",
       "      <td>NaN</td>\n",
       "      <td>visitor</td>\n",
       "      <td>unknown_vehicle_type</td>\n",
       "      <td>NaN</td>\n",
       "      <td>8758582875719778070</td>\n",
       "      <td>1 (Tract 9843, San Mateo, CA)</td>\n",
       "      <td>transportation_utilities</td>\n",
       "      <td>NaN</td>\n",
       "      <td>California</td>\n",
       "      <td>San Mateo</td>\n",
       "      <td>Visitor (no work/school location)</td>\n",
       "      <td>9843 (San Mateo, CA)</td>\n",
       "      <td>NaN</td>\n",
       "      <td>3 (Tract 206.05, Placer, CA)</td>\n",
       "      <td>NaN</td>\n",
       "      <td>NaN</td>\n",
       "      <td>private_auto</td>\n",
       "      <td>eat</td>\n",
       "      <td>NaN</td>\n",
       "      <td>NaN</td>\n",
       "      <td>Visitor (no work/school location)</td>\n",
       "      <td>NaN</td>\n",
       "      <td>Placer</td>\n",
       "      <td>transportation_utilities</td>\n",
       "      <td>NaN</td>\n",
       "      <td>NaN</td>\n",
       "      <td>unknown_fuel_type</td>\n",
       "      <td>Visitor (no home location)</td>\n",
       "      <td>Visitor (no work/school location)</td>\n",
       "      <td>NaN</td>\n",
       "      <td>21:23:00</td>\n",
       "      <td>NaN</td>\n",
       "      <td>NaN</td>\n",
       "      <td>region_departure</td>\n",
       "      <td>retail</td>\n",
       "      <td>Visitor (no work/school location)</td>\n",
       "      <td>117.9</td>\n",
       "      <td>NaN</td>\n",
       "      <td>Visitor (no home location)</td>\n",
       "      <td>6466724364837963852</td>\n",
       "      <td>23:42:15</td>\n",
       "    </tr>\n",
       "    <tr>\n",
       "      <th>404006</th>\n",
       "      <td>retail</td>\n",
       "      <td>39</td>\n",
       "      <td>spanish</td>\n",
       "      <td>9809 (San Francisco, CA)</td>\n",
       "      <td>5717162922661989573</td>\n",
       "      <td>female</td>\n",
       "      <td>2 (Tract 2506.01, Solano, CA)</td>\n",
       "      <td>California</td>\n",
       "      <td>California</td>\n",
       "      <td>hispanic_or_latino_origin</td>\n",
       "      <td>NaN</td>\n",
       "      <td>NaN</td>\n",
       "      <td>core</td>\n",
       "      <td>unknown_vehicle_type</td>\n",
       "      <td>46.0</td>\n",
       "      <td>9780660917558834164</td>\n",
       "      <td>2 (Tract 2506.01, Solano, CA)</td>\n",
       "      <td>single_family</td>\n",
       "      <td>in_person</td>\n",
       "      <td>California</td>\n",
       "      <td>Solano</td>\n",
       "      <td>1 (Tract 9809, San Francisco, CA)</td>\n",
       "      <td>2506.01 (Solano, CA)</td>\n",
       "      <td>26234.0</td>\n",
       "      <td>1 (Tract 9809, San Francisco, CA)</td>\n",
       "      <td>private_auto</td>\n",
       "      <td>two</td>\n",
       "      <td>auto_passenger</td>\n",
       "      <td>work</td>\n",
       "      <td>single_family</td>\n",
       "      <td>NaN</td>\n",
       "      <td>California</td>\n",
       "      <td>1.0</td>\n",
       "      <td>San Francisco</td>\n",
       "      <td>single_family</td>\n",
       "      <td>naics44_45</td>\n",
       "      <td>renter</td>\n",
       "      <td>unknown_fuel_type</td>\n",
       "      <td>2506.01 (Solano, CA)</td>\n",
       "      <td>9809 (San Francisco, CA)</td>\n",
       "      <td>high_school</td>\n",
       "      <td>10:15:00</td>\n",
       "      <td>26234.0</td>\n",
       "      <td>employed</td>\n",
       "      <td>other_activity_type</td>\n",
       "      <td>mixed_use</td>\n",
       "      <td>San Francisco</td>\n",
       "      <td>30.3</td>\n",
       "      <td>not_attending_school</td>\n",
       "      <td>Solano</td>\n",
       "      <td>17623584878492347501</td>\n",
       "      <td>10:54:09</td>\n",
       "    </tr>\n",
       "    <tr>\n",
       "      <th>47514</th>\n",
       "      <td>single_family</td>\n",
       "      <td>40</td>\n",
       "      <td>english</td>\n",
       "      <td>4305 (Alameda, CA)</td>\n",
       "      <td>9450366543874170043</td>\n",
       "      <td>female</td>\n",
       "      <td>2 (Tract 4305, Alameda, CA)</td>\n",
       "      <td>California</td>\n",
       "      <td>California</td>\n",
       "      <td>white_not_hispanic_or_latino</td>\n",
       "      <td>NaN</td>\n",
       "      <td>NaN</td>\n",
       "      <td>core</td>\n",
       "      <td>unknown_vehicle_type</td>\n",
       "      <td>29.0</td>\n",
       "      <td>17995626605244124712</td>\n",
       "      <td>2 (Tract 607.01, San Francisco, CA)</td>\n",
       "      <td>retail</td>\n",
       "      <td>in_person</td>\n",
       "      <td>California</td>\n",
       "      <td>San Francisco</td>\n",
       "      <td>2 (Tract 607.01, San Francisco, CA)</td>\n",
       "      <td>607.01 (San Francisco, CA)</td>\n",
       "      <td>177915.0</td>\n",
       "      <td>2 (Tract 4305, Alameda, CA)</td>\n",
       "      <td>private_auto</td>\n",
       "      <td>two</td>\n",
       "      <td>private_auto</td>\n",
       "      <td>home</td>\n",
       "      <td>single_family</td>\n",
       "      <td>NaN</td>\n",
       "      <td>California</td>\n",
       "      <td>2.0</td>\n",
       "      <td>Alameda</td>\n",
       "      <td>retail</td>\n",
       "      <td>naics712130</td>\n",
       "      <td>owner</td>\n",
       "      <td>other_non_bev</td>\n",
       "      <td>4305 (Alameda, CA)</td>\n",
       "      <td>607.01 (San Francisco, CA)</td>\n",
       "      <td>bachelors_degree</td>\n",
       "      <td>05:52:00</td>\n",
       "      <td>31293.0</td>\n",
       "      <td>employed</td>\n",
       "      <td>work</td>\n",
       "      <td>single_family</td>\n",
       "      <td>San Francisco</td>\n",
       "      <td>25.3</td>\n",
       "      <td>not_attending_school</td>\n",
       "      <td>Alameda</td>\n",
       "      <td>6921358500856400741</td>\n",
       "      <td>06:32:50</td>\n",
       "    </tr>\n",
       "    <tr>\n",
       "      <th>386134</th>\n",
       "      <td>retail</td>\n",
       "      <td>27</td>\n",
       "      <td>asian_pacific</td>\n",
       "      <td>607.01 (San Francisco, CA)</td>\n",
       "      <td>14736001622789934895</td>\n",
       "      <td>female</td>\n",
       "      <td>2 (Tract 4445, Alameda, CA)</td>\n",
       "      <td>California</td>\n",
       "      <td>California</td>\n",
       "      <td>asian_not_hispanic_or_latino</td>\n",
       "      <td>NaN</td>\n",
       "      <td>NaN</td>\n",
       "      <td>core</td>\n",
       "      <td>unknown_vehicle_type</td>\n",
       "      <td>44.0</td>\n",
       "      <td>15348858204039127111</td>\n",
       "      <td>4 (Tract 4003, Alameda, CA)</td>\n",
       "      <td>retail</td>\n",
       "      <td>in_person</td>\n",
       "      <td>California</td>\n",
       "      <td>Alameda</td>\n",
       "      <td>4 (Tract 4003, Alameda, CA)</td>\n",
       "      <td>4003 (Alameda, CA)</td>\n",
       "      <td>162728.0</td>\n",
       "      <td>3 (Tract 607.01, San Francisco, CA)</td>\n",
       "      <td>private_auto</td>\n",
       "      <td>three_plus</td>\n",
       "      <td>auto_passenger</td>\n",
       "      <td>shop</td>\n",
       "      <td>single_family</td>\n",
       "      <td>NaN</td>\n",
       "      <td>California</td>\n",
       "      <td>4.0</td>\n",
       "      <td>San Francisco</td>\n",
       "      <td>retail</td>\n",
       "      <td>naics722511</td>\n",
       "      <td>owner</td>\n",
       "      <td>unknown_fuel_type</td>\n",
       "      <td>4445 (Alameda, CA)</td>\n",
       "      <td>4003 (Alameda, CA)</td>\n",
       "      <td>high_school</td>\n",
       "      <td>10:01:00</td>\n",
       "      <td>61795.0</td>\n",
       "      <td>employed</td>\n",
       "      <td>work</td>\n",
       "      <td>retail</td>\n",
       "      <td>Alameda</td>\n",
       "      <td>12.2</td>\n",
       "      <td>not_attending_school</td>\n",
       "      <td>Alameda</td>\n",
       "      <td>9306277843367464539</td>\n",
       "      <td>10:28:22</td>\n",
       "    </tr>\n",
       "    <tr>\n",
       "      <th>318313</th>\n",
       "      <td>retail</td>\n",
       "      <td>43</td>\n",
       "      <td>english</td>\n",
       "      <td>3451.03 (Contra Costa, CA)</td>\n",
       "      <td>10415214486910735210</td>\n",
       "      <td>male</td>\n",
       "      <td>1 (Tract 176.04, San Francisco, CA)</td>\n",
       "      <td>California</td>\n",
       "      <td>California</td>\n",
       "      <td>white_not_hispanic_or_latino</td>\n",
       "      <td>NaN</td>\n",
       "      <td>NaN</td>\n",
       "      <td>core</td>\n",
       "      <td>unknown_vehicle_type</td>\n",
       "      <td>67.0</td>\n",
       "      <td>1100551162552195990</td>\n",
       "      <td>1 (Tract 176.04, San Francisco, CA)</td>\n",
       "      <td>multi_family</td>\n",
       "      <td>unemployed_under_16_not_in_labor_force</td>\n",
       "      <td>California</td>\n",
       "      <td>San Francisco</td>\n",
       "      <td>Does not have work/school location</td>\n",
       "      <td>176.04 (San Francisco, CA)</td>\n",
       "      <td>40579.0</td>\n",
       "      <td>3 (Tract 3451.03, Contra Costa, CA)</td>\n",
       "      <td>other_travel_mode</td>\n",
       "      <td>one</td>\n",
       "      <td>private_auto</td>\n",
       "      <td>shop</td>\n",
       "      <td>multiple_units</td>\n",
       "      <td>NaN</td>\n",
       "      <td>Does not have work/school location</td>\n",
       "      <td>1.0</td>\n",
       "      <td>Contra Costa</td>\n",
       "      <td>multi_family</td>\n",
       "      <td>naics81</td>\n",
       "      <td>owner</td>\n",
       "      <td>other_non_bev</td>\n",
       "      <td>176.04 (San Francisco, CA)</td>\n",
       "      <td>Does not have work/school location</td>\n",
       "      <td>advanced_degree</td>\n",
       "      <td>19:01:06</td>\n",
       "      <td>40579.0</td>\n",
       "      <td>unemployed</td>\n",
       "      <td>home</td>\n",
       "      <td>retail</td>\n",
       "      <td>Does not have work/school location</td>\n",
       "      <td>36.9</td>\n",
       "      <td>not_attending_school</td>\n",
       "      <td>San Francisco</td>\n",
       "      <td>15574666725470917394</td>\n",
       "      <td>19:44:24</td>\n",
       "    </tr>\n",
       "  </tbody>\n",
       "</table>\n",
       "</div>"
      ],
      "text/plain": [
       "       origin_building_use  trip_duration_minutes trip_taker_language  \\\n",
       "344797              retail                    139                 NaN   \n",
       "404006              retail                     39             spanish   \n",
       "47514        single_family                     40             english   \n",
       "386134              retail                     27       asian_pacific   \n",
       "318313              retail                     43             english   \n",
       "\n",
       "                  origin_trct_2020 trip_taker_household_id trip_taker_sex  \\\n",
       "344797         206.05 (Placer, CA)                                    NaN   \n",
       "404006    9809 (San Francisco, CA)     5717162922661989573         female   \n",
       "47514           4305 (Alameda, CA)     9450366543874170043         female   \n",
       "386134  607.01 (San Francisco, CA)    14736001622789934895         female   \n",
       "318313  3451.03 (Contra Costa, CA)    10415214486910735210           male   \n",
       "\n",
       "                  trip_taker_home_bgrp_2020 origin_st_2020  \\\n",
       "344797           Visitor (no home location)     California   \n",
       "404006        2 (Tract 2506.01, Solano, CA)     California   \n",
       "47514           2 (Tract 4305, Alameda, CA)     California   \n",
       "386134          2 (Tract 4445, Alameda, CA)     California   \n",
       "318313  1 (Tract 176.04, San Francisco, CA)     California   \n",
       "\n",
       "           trip_taker_home_st_2020     trip_taker_race_ethnicity  \\\n",
       "344797  Visitor (no home location)                           NaN   \n",
       "404006                  California     hispanic_or_latino_origin   \n",
       "47514                   California  white_not_hispanic_or_latino   \n",
       "386134                  California  asian_not_hispanic_or_latino   \n",
       "318313                  California  white_not_hispanic_or_latino   \n",
       "\n",
       "       transit_agency transit_route trip_taker_resident_type  \\\n",
       "344797            NaN           NaN                  visitor   \n",
       "404006            NaN           NaN                     core   \n",
       "47514             NaN           NaN                     core   \n",
       "386134            NaN           NaN                     core   \n",
       "318313            NaN           NaN                     core   \n",
       "\n",
       "                vehicle_type  trip_taker_age           activity_id  \\\n",
       "344797  unknown_vehicle_type             NaN   8758582875719778070   \n",
       "404006  unknown_vehicle_type            46.0   9780660917558834164   \n",
       "47514   unknown_vehicle_type            29.0  17995626605244124712   \n",
       "386134  unknown_vehicle_type            44.0  15348858204039127111   \n",
       "318313  unknown_vehicle_type            67.0   1100551162552195990   \n",
       "\n",
       "                      destination_bgrp_2020  destination_building_use  \\\n",
       "344797        1 (Tract 9843, San Mateo, CA)  transportation_utilities   \n",
       "404006        2 (Tract 2506.01, Solano, CA)             single_family   \n",
       "47514   2 (Tract 607.01, San Francisco, CA)                    retail   \n",
       "386134          4 (Tract 4003, Alameda, CA)                    retail   \n",
       "318313  1 (Tract 176.04, San Francisco, CA)              multi_family   \n",
       "\n",
       "                                trip_taker_wfh destination_st_2020  \\\n",
       "344797                                     NaN          California   \n",
       "404006                               in_person          California   \n",
       "47514                                in_person          California   \n",
       "386134                               in_person          California   \n",
       "318313  unemployed_under_16_not_in_labor_force          California   \n",
       "\n",
       "       destination_cty_2020            trip_taker_work_bgrp_2020  \\\n",
       "344797            San Mateo    Visitor (no work/school location)   \n",
       "404006               Solano    1 (Tract 9809, San Francisco, CA)   \n",
       "47514         San Francisco  2 (Tract 607.01, San Francisco, CA)   \n",
       "386134              Alameda          4 (Tract 4003, Alameda, CA)   \n",
       "318313        San Francisco   Does not have work/school location   \n",
       "\n",
       "             destination_trct_2020  trip_taker_household_income  \\\n",
       "344797        9843 (San Mateo, CA)                          NaN   \n",
       "404006        2506.01 (Solano, CA)                      26234.0   \n",
       "47514   607.01 (San Francisco, CA)                     177915.0   \n",
       "386134          4003 (Alameda, CA)                     162728.0   \n",
       "318313  176.04 (San Francisco, CA)                      40579.0   \n",
       "\n",
       "                           origin_bgrp_2020 trip_taker_commute_mode  \\\n",
       "344797         3 (Tract 206.05, Placer, CA)                     NaN   \n",
       "404006    1 (Tract 9809, San Francisco, CA)            private_auto   \n",
       "47514           2 (Tract 4305, Alameda, CA)            private_auto   \n",
       "386134  3 (Tract 607.01, San Francisco, CA)            private_auto   \n",
       "318313  3 (Tract 3451.03, Contra Costa, CA)       other_travel_mode   \n",
       "\n",
       "       trip_taker_available_vehicles    primary_mode previous_trip_purpose  \\\n",
       "344797                           NaN    private_auto                   eat   \n",
       "404006                           two  auto_passenger                  work   \n",
       "47514                            two    private_auto                  home   \n",
       "386134                    three_plus  auto_passenger                  shop   \n",
       "318313                           one    private_auto                  shop   \n",
       "\n",
       "       trip_taker_building_type transit_submode  \\\n",
       "344797                      NaN             NaN   \n",
       "404006            single_family             NaN   \n",
       "47514             single_family             NaN   \n",
       "386134            single_family             NaN   \n",
       "318313           multiple_units             NaN   \n",
       "\n",
       "                   trip_taker_work_st_2020  trip_taker_household_size  \\\n",
       "344797   Visitor (no work/school location)                        NaN   \n",
       "404006                          California                        1.0   \n",
       "47514                           California                        2.0   \n",
       "386134                          California                        4.0   \n",
       "318313  Does not have work/school location                        1.0   \n",
       "\n",
       "       origin_cty_2020      destination_land_use trip_taker_industry  \\\n",
       "344797          Placer  transportation_utilities                 NaN   \n",
       "404006   San Francisco             single_family          naics44_45   \n",
       "47514          Alameda                    retail         naics712130   \n",
       "386134   San Francisco                    retail         naics722511   \n",
       "318313    Contra Costa              multi_family             naics81   \n",
       "\n",
       "       trip_taker_tenure  vehicle_fuel_type   trip_taker_home_trct_2020  \\\n",
       "344797               NaN  unknown_fuel_type  Visitor (no home location)   \n",
       "404006            renter  unknown_fuel_type        2506.01 (Solano, CA)   \n",
       "47514              owner      other_non_bev          4305 (Alameda, CA)   \n",
       "386134             owner  unknown_fuel_type          4445 (Alameda, CA)   \n",
       "318313             owner      other_non_bev  176.04 (San Francisco, CA)   \n",
       "\n",
       "                 trip_taker_work_trct_2020 trip_taker_education  \\\n",
       "344797   Visitor (no work/school location)                  NaN   \n",
       "404006            9809 (San Francisco, CA)          high_school   \n",
       "47514           607.01 (San Francisco, CA)     bachelors_degree   \n",
       "386134                  4003 (Alameda, CA)          high_school   \n",
       "318313  Does not have work/school location      advanced_degree   \n",
       "\n",
       "       trip_start_time  trip_taker_individual_income  \\\n",
       "344797        21:23:00                           NaN   \n",
       "404006        10:15:00                       26234.0   \n",
       "47514         05:52:00                       31293.0   \n",
       "386134        10:01:00                       61795.0   \n",
       "318313        19:01:06                       40579.0   \n",
       "\n",
       "       trip_taker_employment_status         trip_purpose origin_land_use  \\\n",
       "344797                          NaN     region_departure          retail   \n",
       "404006                     employed  other_activity_type       mixed_use   \n",
       "47514                      employed                 work   single_family   \n",
       "386134                     employed                 work          retail   \n",
       "318313                   unemployed                 home          retail   \n",
       "\n",
       "                  trip_taker_work_cty_2020  trip_distance_miles  \\\n",
       "344797   Visitor (no work/school location)                117.9   \n",
       "404006                       San Francisco                 30.3   \n",
       "47514                        San Francisco                 25.3   \n",
       "386134                             Alameda                 12.2   \n",
       "318313  Does not have work/school location                 36.9   \n",
       "\n",
       "       trip_taker_school_grade_attending    trip_taker_home_cty_2020  \\\n",
       "344797                               NaN  Visitor (no home location)   \n",
       "404006              not_attending_school                      Solano   \n",
       "47514               not_attending_school                     Alameda   \n",
       "386134              not_attending_school                     Alameda   \n",
       "318313              not_attending_school               San Francisco   \n",
       "\n",
       "        trip_taker_person_id trip_end_time  \n",
       "344797   6466724364837963852      23:42:15  \n",
       "404006  17623584878492347501      10:54:09  \n",
       "47514    6921358500856400741      06:32:50  \n",
       "386134   9306277843367464539      10:28:22  \n",
       "318313  15574666725470917394      19:44:24  "
      ]
     },
     "execution_count": 10,
     "metadata": {},
     "output_type": "execute_result"
    }
   ],
   "source": [
    "r_trips.sample(5)"
   ]
  },
  {
   "cell_type": "code",
   "execution_count": 11,
   "id": "75945ef2-eab7-469a-baad-ee563d70c309",
   "metadata": {},
   "outputs": [
    {
     "data": {
      "text/html": [
       "<h4><strong> Columns in Replica Trips Data</strong></h4>"
      ],
      "text/plain": [
       "<IPython.core.display.HTML object>"
      ]
     },
     "metadata": {},
     "output_type": "display_data"
    }
   ],
   "source": [
    "display(HTML(\"<h4><strong> Columns in Replica Trips Data</strong></h4>\"))\n"
   ]
  },
  {
   "cell_type": "code",
   "execution_count": 12,
   "id": "1f3e4cbb-d211-40b1-b4bb-2c7cb43b33a9",
   "metadata": {},
   "outputs": [
    {
     "data": {
      "text/plain": [
       "Index(['origin_building_use', 'trip_duration_minutes', 'trip_taker_language',\n",
       "       'origin_trct_2020', 'trip_taker_household_id', 'trip_taker_sex',\n",
       "       'trip_taker_home_bgrp_2020', 'origin_st_2020',\n",
       "       'trip_taker_home_st_2020', 'trip_taker_race_ethnicity',\n",
       "       'transit_agency', 'transit_route', 'trip_taker_resident_type',\n",
       "       'vehicle_type', 'trip_taker_age', 'activity_id',\n",
       "       'destination_bgrp_2020', 'destination_building_use', 'trip_taker_wfh',\n",
       "       'destination_st_2020', 'destination_cty_2020',\n",
       "       'trip_taker_work_bgrp_2020', 'destination_trct_2020',\n",
       "       'trip_taker_household_income', 'origin_bgrp_2020',\n",
       "       'trip_taker_commute_mode', 'trip_taker_available_vehicles',\n",
       "       'primary_mode', 'previous_trip_purpose', 'trip_taker_building_type',\n",
       "       'transit_submode', 'trip_taker_work_st_2020',\n",
       "       'trip_taker_household_size', 'origin_cty_2020', 'destination_land_use',\n",
       "       'trip_taker_industry', 'trip_taker_tenure', 'vehicle_fuel_type',\n",
       "       'trip_taker_home_trct_2020', 'trip_taker_work_trct_2020',\n",
       "       'trip_taker_education', 'trip_start_time',\n",
       "       'trip_taker_individual_income', 'trip_taker_employment_status',\n",
       "       'trip_purpose', 'origin_land_use', 'trip_taker_work_cty_2020',\n",
       "       'trip_distance_miles', 'trip_taker_school_grade_attending',\n",
       "       'trip_taker_home_cty_2020', 'trip_taker_person_id', 'trip_end_time'],\n",
       "      dtype='object')"
      ]
     },
     "execution_count": 12,
     "metadata": {},
     "output_type": "execute_result"
    }
   ],
   "source": [
    "r_trips.columns"
   ]
  },
  {
   "cell_type": "code",
   "execution_count": null,
   "id": "e60fb5c7-a04b-48f3-8282-ca98a54dadd2",
   "metadata": {},
   "outputs": [],
   "source": []
  },
  {
   "cell_type": "markdown",
   "id": "92f9a5f4-08f1-43fc-ae01-c6bd404891d6",
   "metadata": {
    "tags": []
   },
   "source": [
    "#### Data Exploration: Replica Trips\n",
    "* Summarizing the data that we exported from Replica\n",
    "* Existing visualizations in replica: \n",
    "   * Primary Mode\n",
    "   * Trip Purpose\n",
    "   * Starting hour \n",
    "   * Trip Duration/Distance\n",
    "   * Origin Destination\n",
    "   * Vehicle Fuel type\n",
    "   * Transit Routes/Stops/Sub mode/Agency\n",
    "   * Household Income\n",
    "   * Race and Ethnicity\n",
    "   * Private Auto Availability\n",
    "   * Age\n",
    "   * Employment/School Status\n",
    "   \n",
    "   "
   ]
  },
  {
   "cell_type": "code",
   "execution_count": 13,
   "id": "d7f3b44a-cd77-42e9-b0d8-7b9d228b37d5",
   "metadata": {},
   "outputs": [],
   "source": [
    "trips = r_trips>>group_by(_.primary_mode)>>summarize(avg_trip_time = _.trip_duration_minutes.mean(),\n",
    "                                                     number_trips = _.activity_id.nunique())"
   ]
  },
  {
   "cell_type": "code",
   "execution_count": 14,
   "id": "05893215-e993-44dc-9c4b-1aa7d94815cd",
   "metadata": {},
   "outputs": [
    {
     "data": {
      "text/html": [
       "\n",
       "<style>\n",
       "  #altair-viz-11d06fdd385e4ce088f4782252980f13.vega-embed {\n",
       "    width: 100%;\n",
       "    display: flex;\n",
       "  }\n",
       "\n",
       "  #altair-viz-11d06fdd385e4ce088f4782252980f13.vega-embed details,\n",
       "  #altair-viz-11d06fdd385e4ce088f4782252980f13.vega-embed details summary {\n",
       "    position: relative;\n",
       "  }\n",
       "</style>\n",
       "<div id=\"altair-viz-11d06fdd385e4ce088f4782252980f13\"></div>\n",
       "<script type=\"text/javascript\">\n",
       "  var VEGA_DEBUG = (typeof VEGA_DEBUG == \"undefined\") ? {} : VEGA_DEBUG;\n",
       "  (function(spec, embedOpt){\n",
       "    let outputDiv = document.currentScript.previousElementSibling;\n",
       "    if (outputDiv.id !== \"altair-viz-11d06fdd385e4ce088f4782252980f13\") {\n",
       "      outputDiv = document.getElementById(\"altair-viz-11d06fdd385e4ce088f4782252980f13\");\n",
       "    }\n",
       "    const paths = {\n",
       "      \"vega\": \"https://cdn.jsdelivr.net/npm/vega@5?noext\",\n",
       "      \"vega-lib\": \"https://cdn.jsdelivr.net/npm/vega-lib?noext\",\n",
       "      \"vega-lite\": \"https://cdn.jsdelivr.net/npm/vega-lite@5.14.1?noext\",\n",
       "      \"vega-embed\": \"https://cdn.jsdelivr.net/npm/vega-embed@6?noext\",\n",
       "    };\n",
       "\n",
       "    function maybeLoadScript(lib, version) {\n",
       "      var key = `${lib.replace(\"-\", \"\")}_version`;\n",
       "      return (VEGA_DEBUG[key] == version) ?\n",
       "        Promise.resolve(paths[lib]) :\n",
       "        new Promise(function(resolve, reject) {\n",
       "          var s = document.createElement('script');\n",
       "          document.getElementsByTagName(\"head\")[0].appendChild(s);\n",
       "          s.async = true;\n",
       "          s.onload = () => {\n",
       "            VEGA_DEBUG[key] = version;\n",
       "            return resolve(paths[lib]);\n",
       "          };\n",
       "          s.onerror = () => reject(`Error loading script: ${paths[lib]}`);\n",
       "          s.src = paths[lib];\n",
       "        });\n",
       "    }\n",
       "\n",
       "    function showError(err) {\n",
       "      outputDiv.innerHTML = `<div class=\"error\" style=\"color:red;\">${err}</div>`;\n",
       "      throw err;\n",
       "    }\n",
       "\n",
       "    function displayChart(vegaEmbed) {\n",
       "      vegaEmbed(outputDiv, spec, embedOpt)\n",
       "        .catch(err => showError(`Javascript Error: ${err.message}<br>This usually means there's a typo in your chart specification. See the javascript console for the full traceback.`));\n",
       "    }\n",
       "\n",
       "    if(typeof define === \"function\" && define.amd) {\n",
       "      requirejs.config({paths});\n",
       "      require([\"vega-embed\"], displayChart, err => showError(`Error loading script: ${err.message}`));\n",
       "    } else {\n",
       "      maybeLoadScript(\"vega\", \"5\")\n",
       "        .then(() => maybeLoadScript(\"vega-lite\", \"5.14.1\"))\n",
       "        .then(() => maybeLoadScript(\"vega-embed\", \"6\"))\n",
       "        .catch(showError)\n",
       "        .then(() => displayChart(vegaEmbed));\n",
       "    }\n",
       "  })({\"config\": {\"view\": {\"continuousWidth\": 300, \"continuousHeight\": 300}}, \"data\": {\"name\": \"data-5ebbbb8d3f3ea3fc2a2c0aba4ca6c486\"}, \"mark\": {\"type\": \"bar\"}, \"encoding\": {\"color\": {\"field\": \"avg_trip_time\", \"scale\": {\"range\": [\"#E16B26\", \"#EB9F3C\", \"#f6e7e1\", \"#8CBCCB\", \"#2EA8CE\", \"#136C97\"]}, \"type\": \"quantitative\"}, \"tooltip\": [{\"field\": \"primary_mode\", \"type\": \"nominal\"}, {\"field\": \"avg_trip_time\", \"type\": \"quantitative\"}, {\"field\": \"number_trips\", \"type\": \"quantitative\"}], \"x\": {\"field\": \"primary_mode\", \"type\": \"nominal\"}, \"y\": {\"field\": \"avg_trip_time\", \"type\": \"quantitative\"}}, \"height\": 300, \"title\": \"Average Trip Time\", \"width\": 800, \"$schema\": \"https://vega.github.io/schema/vega-lite/v5.14.1.json\", \"datasets\": {\"data-5ebbbb8d3f3ea3fc2a2c0aba4ca6c486\": [{\"primary_mode\": \"auto_passenger\", \"avg_trip_time\": 49.55882961785474, \"number_trips\": 391291}, {\"primary_mode\": \"commercial\", \"avg_trip_time\": 37.51080104227957, \"number_trips\": 11897}, {\"primary_mode\": \"on_demand_auto\", \"avg_trip_time\": 34.715467665937, \"number_trips\": 26953}, {\"primary_mode\": \"private_auto\", \"avg_trip_time\": 59.57683606351334, \"number_trips\": 238690}, {\"primary_mode\": \"public_transit\", \"avg_trip_time\": 52.36283772584121, \"number_trips\": 6033}]}}, {\"mode\": \"vega-lite\"});\n",
       "</script>"
      ],
      "text/plain": [
       "alt.Chart(...)"
      ]
     },
     "execution_count": 14,
     "metadata": {},
     "output_type": "execute_result"
    }
   ],
   "source": [
    "chart = (\n",
    "        alt.Chart(trips)\n",
    "        .mark_bar()\n",
    "        .encode(\n",
    "            x=alt.X(\"primary_mode\"),\n",
    "            y=alt.Y(\"avg_trip_time\"),\n",
    "            color=alt.Color(\"avg_trip_time\", scale=alt.Scale(range = cp.CALITP_DIVERGING_COLORS)\n",
    "            ), tooltip=trips.columns.tolist())\n",
    "      .properties(title = \"Average Trip Time\",\n",
    "    width=800,\n",
    "    height=300)\n",
    "        )\n",
    "chart "
   ]
  },
  {
   "cell_type": "code",
   "execution_count": 15,
   "id": "65681a29-7f1b-42ed-9e0e-371a84a29cbd",
   "metadata": {},
   "outputs": [
    {
     "data": {
      "text/html": [
       "\n",
       "<style>\n",
       "  #altair-viz-1c571070488642e4b2927c41a1ecfb3e.vega-embed {\n",
       "    width: 100%;\n",
       "    display: flex;\n",
       "  }\n",
       "\n",
       "  #altair-viz-1c571070488642e4b2927c41a1ecfb3e.vega-embed details,\n",
       "  #altair-viz-1c571070488642e4b2927c41a1ecfb3e.vega-embed details summary {\n",
       "    position: relative;\n",
       "  }\n",
       "</style>\n",
       "<div id=\"altair-viz-1c571070488642e4b2927c41a1ecfb3e\"></div>\n",
       "<script type=\"text/javascript\">\n",
       "  var VEGA_DEBUG = (typeof VEGA_DEBUG == \"undefined\") ? {} : VEGA_DEBUG;\n",
       "  (function(spec, embedOpt){\n",
       "    let outputDiv = document.currentScript.previousElementSibling;\n",
       "    if (outputDiv.id !== \"altair-viz-1c571070488642e4b2927c41a1ecfb3e\") {\n",
       "      outputDiv = document.getElementById(\"altair-viz-1c571070488642e4b2927c41a1ecfb3e\");\n",
       "    }\n",
       "    const paths = {\n",
       "      \"vega\": \"https://cdn.jsdelivr.net/npm/vega@5?noext\",\n",
       "      \"vega-lib\": \"https://cdn.jsdelivr.net/npm/vega-lib?noext\",\n",
       "      \"vega-lite\": \"https://cdn.jsdelivr.net/npm/vega-lite@5.14.1?noext\",\n",
       "      \"vega-embed\": \"https://cdn.jsdelivr.net/npm/vega-embed@6?noext\",\n",
       "    };\n",
       "\n",
       "    function maybeLoadScript(lib, version) {\n",
       "      var key = `${lib.replace(\"-\", \"\")}_version`;\n",
       "      return (VEGA_DEBUG[key] == version) ?\n",
       "        Promise.resolve(paths[lib]) :\n",
       "        new Promise(function(resolve, reject) {\n",
       "          var s = document.createElement('script');\n",
       "          document.getElementsByTagName(\"head\")[0].appendChild(s);\n",
       "          s.async = true;\n",
       "          s.onload = () => {\n",
       "            VEGA_DEBUG[key] = version;\n",
       "            return resolve(paths[lib]);\n",
       "          };\n",
       "          s.onerror = () => reject(`Error loading script: ${paths[lib]}`);\n",
       "          s.src = paths[lib];\n",
       "        });\n",
       "    }\n",
       "\n",
       "    function showError(err) {\n",
       "      outputDiv.innerHTML = `<div class=\"error\" style=\"color:red;\">${err}</div>`;\n",
       "      throw err;\n",
       "    }\n",
       "\n",
       "    function displayChart(vegaEmbed) {\n",
       "      vegaEmbed(outputDiv, spec, embedOpt)\n",
       "        .catch(err => showError(`Javascript Error: ${err.message}<br>This usually means there's a typo in your chart specification. See the javascript console for the full traceback.`));\n",
       "    }\n",
       "\n",
       "    if(typeof define === \"function\" && define.amd) {\n",
       "      requirejs.config({paths});\n",
       "      require([\"vega-embed\"], displayChart, err => showError(`Error loading script: ${err.message}`));\n",
       "    } else {\n",
       "      maybeLoadScript(\"vega\", \"5\")\n",
       "        .then(() => maybeLoadScript(\"vega-lite\", \"5.14.1\"))\n",
       "        .then(() => maybeLoadScript(\"vega-embed\", \"6\"))\n",
       "        .catch(showError)\n",
       "        .then(() => displayChart(vegaEmbed));\n",
       "    }\n",
       "  })({\"config\": {\"view\": {\"continuousWidth\": 300, \"continuousHeight\": 300}}, \"data\": {\"name\": \"data-5ebbbb8d3f3ea3fc2a2c0aba4ca6c486\"}, \"mark\": {\"type\": \"bar\"}, \"encoding\": {\"color\": {\"field\": \"number_trips\", \"scale\": {\"range\": [\"#E16B26\", \"#EB9F3C\", \"#f6e7e1\", \"#8CBCCB\", \"#2EA8CE\", \"#136C97\"]}, \"type\": \"quantitative\"}, \"tooltip\": [{\"field\": \"primary_mode\", \"type\": \"nominal\"}, {\"field\": \"avg_trip_time\", \"type\": \"quantitative\"}, {\"field\": \"number_trips\", \"type\": \"quantitative\"}], \"x\": {\"field\": \"primary_mode\", \"type\": \"nominal\"}, \"y\": {\"field\": \"number_trips\", \"type\": \"quantitative\"}}, \"height\": 300, \"title\": \"Number of Trips\", \"width\": 800, \"$schema\": \"https://vega.github.io/schema/vega-lite/v5.14.1.json\", \"datasets\": {\"data-5ebbbb8d3f3ea3fc2a2c0aba4ca6c486\": [{\"primary_mode\": \"auto_passenger\", \"avg_trip_time\": 49.55882961785474, \"number_trips\": 391291}, {\"primary_mode\": \"commercial\", \"avg_trip_time\": 37.51080104227957, \"number_trips\": 11897}, {\"primary_mode\": \"on_demand_auto\", \"avg_trip_time\": 34.715467665937, \"number_trips\": 26953}, {\"primary_mode\": \"private_auto\", \"avg_trip_time\": 59.57683606351334, \"number_trips\": 238690}, {\"primary_mode\": \"public_transit\", \"avg_trip_time\": 52.36283772584121, \"number_trips\": 6033}]}}, {\"mode\": \"vega-lite\"});\n",
       "</script>"
      ],
      "text/plain": [
       "alt.Chart(...)"
      ]
     },
     "execution_count": 15,
     "metadata": {},
     "output_type": "execute_result"
    }
   ],
   "source": [
    "chart = (\n",
    "        alt.Chart(trips)\n",
    "        .mark_bar()\n",
    "        .encode(\n",
    "            x=alt.X(\"primary_mode\"),\n",
    "            y=alt.Y(\"number_trips\"),\n",
    "            color=alt.Color(\"number_trips\", scale=alt.Scale(range = cp.CALITP_DIVERGING_COLORS,)\n",
    "            ), tooltip=trips.columns.tolist())\n",
    "      .properties(title=\"Number of Trips\",\n",
    "    width=800,\n",
    "    height=300)\n",
    "        )\n",
    "chart "
   ]
  },
  {
   "cell_type": "code",
   "execution_count": 16,
   "id": "0d60fe54-dc88-4570-8610-125b37b5917d",
   "metadata": {},
   "outputs": [
    {
     "data": {
      "text/html": [
       "<h4><strong>Length of Trips dataframe</strong></h4>"
      ],
      "text/plain": [
       "<IPython.core.display.HTML object>"
      ]
     },
     "metadata": {},
     "output_type": "display_data"
    }
   ],
   "source": [
    "display(HTML(\"<h4><strong>Length of Trips dataframe</strong></h4>\"))"
   ]
  },
  {
   "cell_type": "code",
   "execution_count": 17,
   "id": "4f98abae-ae6b-4b4e-9427-b606a557582f",
   "metadata": {},
   "outputs": [
    {
     "data": {
      "text/plain": [
       "674864"
      ]
     },
     "execution_count": 17,
     "metadata": {},
     "output_type": "execute_result"
    }
   ],
   "source": [
    "len(r_trips)"
   ]
  },
  {
   "cell_type": "code",
   "execution_count": 18,
   "id": "55c6ff06-afed-45dc-b764-93188c2b9958",
   "metadata": {},
   "outputs": [
    {
     "data": {
      "text/html": [
       "<h4><strong>Number of unique activity ids in data</strong></h4>"
      ],
      "text/plain": [
       "<IPython.core.display.HTML object>"
      ]
     },
     "metadata": {},
     "output_type": "display_data"
    }
   ],
   "source": [
    "display(HTML(\"<h4><strong>Number of unique activity ids in data</strong></h4>\"))"
   ]
  },
  {
   "cell_type": "code",
   "execution_count": 19,
   "id": "27c00872-5880-4464-84a5-e91423ce7895",
   "metadata": {},
   "outputs": [
    {
     "data": {
      "text/html": [
       "<div>\n",
       "<style scoped>\n",
       "    .dataframe tbody tr th:only-of-type {\n",
       "        vertical-align: middle;\n",
       "    }\n",
       "\n",
       "    .dataframe tbody tr th {\n",
       "        vertical-align: top;\n",
       "    }\n",
       "\n",
       "    .dataframe thead th {\n",
       "        text-align: right;\n",
       "    }\n",
       "</style>\n",
       "<table border=\"1\" class=\"dataframe\">\n",
       "  <thead>\n",
       "    <tr style=\"text-align: right;\">\n",
       "      <th></th>\n",
       "      <th>number_trips</th>\n",
       "    </tr>\n",
       "  </thead>\n",
       "  <tbody>\n",
       "    <tr>\n",
       "      <th>0</th>\n",
       "      <td>674864</td>\n",
       "    </tr>\n",
       "  </tbody>\n",
       "</table>\n",
       "</div>"
      ],
      "text/plain": [
       "   number_trips\n",
       "0        674864"
      ]
     },
     "execution_count": 19,
     "metadata": {},
     "output_type": "execute_result"
    }
   ],
   "source": [
    "r_trips>>summarize(number_trips = _.activity_id.nunique())"
   ]
  },
  {
   "cell_type": "code",
   "execution_count": 20,
   "id": "a20cbce8-e354-4aa3-99db-666a13576b5e",
   "metadata": {},
   "outputs": [
    {
     "data": {
      "text/html": [
       "<h4><strong>Number of unique trip taker ids</strong></h4>"
      ],
      "text/plain": [
       "<IPython.core.display.HTML object>"
      ]
     },
     "metadata": {},
     "output_type": "display_data"
    }
   ],
   "source": [
    "display(HTML(\"<h4><strong>Number of unique trip taker ids</strong></h4>\")) "
   ]
  },
  {
   "cell_type": "code",
   "execution_count": 21,
   "id": "2def0aaf-9182-4393-8049-2dfb95749585",
   "metadata": {},
   "outputs": [
    {
     "data": {
      "text/html": [
       "<div>\n",
       "<style scoped>\n",
       "    .dataframe tbody tr th:only-of-type {\n",
       "        vertical-align: middle;\n",
       "    }\n",
       "\n",
       "    .dataframe tbody tr th {\n",
       "        vertical-align: top;\n",
       "    }\n",
       "\n",
       "    .dataframe thead th {\n",
       "        text-align: right;\n",
       "    }\n",
       "</style>\n",
       "<table border=\"1\" class=\"dataframe\">\n",
       "  <thead>\n",
       "    <tr style=\"text-align: right;\">\n",
       "      <th></th>\n",
       "      <th>number_trips</th>\n",
       "    </tr>\n",
       "  </thead>\n",
       "  <tbody>\n",
       "    <tr>\n",
       "      <th>0</th>\n",
       "      <td>309596</td>\n",
       "    </tr>\n",
       "  </tbody>\n",
       "</table>\n",
       "</div>"
      ],
      "text/plain": [
       "   number_trips\n",
       "0        309596"
      ]
     },
     "execution_count": 21,
     "metadata": {},
     "output_type": "execute_result"
    }
   ],
   "source": [
    "r_trips>>summarize(number_trips = _.trip_taker_person_id.nunique())"
   ]
  },
  {
   "cell_type": "code",
   "execution_count": 22,
   "id": "47fecd22-8276-48b8-9c74-d3a94906bbae",
   "metadata": {},
   "outputs": [],
   "source": [
    "race_ethnicity_by_mode = r_trips>>group_by(_.primary_mode)>>count(_.trip_taker_race_ethnicity)"
   ]
  },
  {
   "cell_type": "code",
   "execution_count": 23,
   "id": "4cbeb867-916b-48aa-9949-d769fcd5af5a",
   "metadata": {},
   "outputs": [
    {
     "data": {
      "text/html": [
       "<h4><strong>Trip Taker Race and Ethnicity by Mode</strong></h4>"
      ],
      "text/plain": [
       "<IPython.core.display.HTML object>"
      ]
     },
     "metadata": {},
     "output_type": "display_data"
    }
   ],
   "source": [
    "display(HTML(\"<h4><strong>Trip Taker Race and Ethnicity by Mode</strong></h4>\")) "
   ]
  },
  {
   "cell_type": "code",
   "execution_count": 24,
   "id": "5e895499-2142-432d-8402-c035f81326b6",
   "metadata": {},
   "outputs": [
    {
     "data": {
      "text/html": [
       "\n",
       "<style>\n",
       "  #altair-viz-2ea2347c0c0e410691833908322e6c4d.vega-embed {\n",
       "    width: 100%;\n",
       "    display: flex;\n",
       "  }\n",
       "\n",
       "  #altair-viz-2ea2347c0c0e410691833908322e6c4d.vega-embed details,\n",
       "  #altair-viz-2ea2347c0c0e410691833908322e6c4d.vega-embed details summary {\n",
       "    position: relative;\n",
       "  }\n",
       "</style>\n",
       "<div id=\"altair-viz-2ea2347c0c0e410691833908322e6c4d\"></div>\n",
       "<script type=\"text/javascript\">\n",
       "  var VEGA_DEBUG = (typeof VEGA_DEBUG == \"undefined\") ? {} : VEGA_DEBUG;\n",
       "  (function(spec, embedOpt){\n",
       "    let outputDiv = document.currentScript.previousElementSibling;\n",
       "    if (outputDiv.id !== \"altair-viz-2ea2347c0c0e410691833908322e6c4d\") {\n",
       "      outputDiv = document.getElementById(\"altair-viz-2ea2347c0c0e410691833908322e6c4d\");\n",
       "    }\n",
       "    const paths = {\n",
       "      \"vega\": \"https://cdn.jsdelivr.net/npm/vega@5?noext\",\n",
       "      \"vega-lib\": \"https://cdn.jsdelivr.net/npm/vega-lib?noext\",\n",
       "      \"vega-lite\": \"https://cdn.jsdelivr.net/npm/vega-lite@5.14.1?noext\",\n",
       "      \"vega-embed\": \"https://cdn.jsdelivr.net/npm/vega-embed@6?noext\",\n",
       "    };\n",
       "\n",
       "    function maybeLoadScript(lib, version) {\n",
       "      var key = `${lib.replace(\"-\", \"\")}_version`;\n",
       "      return (VEGA_DEBUG[key] == version) ?\n",
       "        Promise.resolve(paths[lib]) :\n",
       "        new Promise(function(resolve, reject) {\n",
       "          var s = document.createElement('script');\n",
       "          document.getElementsByTagName(\"head\")[0].appendChild(s);\n",
       "          s.async = true;\n",
       "          s.onload = () => {\n",
       "            VEGA_DEBUG[key] = version;\n",
       "            return resolve(paths[lib]);\n",
       "          };\n",
       "          s.onerror = () => reject(`Error loading script: ${paths[lib]}`);\n",
       "          s.src = paths[lib];\n",
       "        });\n",
       "    }\n",
       "\n",
       "    function showError(err) {\n",
       "      outputDiv.innerHTML = `<div class=\"error\" style=\"color:red;\">${err}</div>`;\n",
       "      throw err;\n",
       "    }\n",
       "\n",
       "    function displayChart(vegaEmbed) {\n",
       "      vegaEmbed(outputDiv, spec, embedOpt)\n",
       "        .catch(err => showError(`Javascript Error: ${err.message}<br>This usually means there's a typo in your chart specification. See the javascript console for the full traceback.`));\n",
       "    }\n",
       "\n",
       "    if(typeof define === \"function\" && define.amd) {\n",
       "      requirejs.config({paths});\n",
       "      require([\"vega-embed\"], displayChart, err => showError(`Error loading script: ${err.message}`));\n",
       "    } else {\n",
       "      maybeLoadScript(\"vega\", \"5\")\n",
       "        .then(() => maybeLoadScript(\"vega-lite\", \"5.14.1\"))\n",
       "        .then(() => maybeLoadScript(\"vega-embed\", \"6\"))\n",
       "        .catch(showError)\n",
       "        .then(() => displayChart(vegaEmbed));\n",
       "    }\n",
       "  })({\"config\": {\"view\": {\"continuousWidth\": 300, \"continuousHeight\": 300}}, \"data\": {\"name\": \"data-bb29c74c9b2d9c3da4d3616767ebcb08\"}, \"mark\": {\"type\": \"bar\"}, \"encoding\": {\"color\": {\"field\": \"trip_taker_race_ethnicity\", \"scale\": {\"domain\": [\"aian_not_hispanic_or_latino\", \"asian_not_hispanic_or_latino\", \"black_not_hispanic_or_latino\", \"hispanic_or_latino_origin\", \"nhopi_not_hispanic_or_latino\", \"other_not_hispanic_or_latino\", \"two_races_not_hispanic_or_latino\", \"white_not_hispanic_or_latino\", NaN], \"range\": [\"#E16B26\", \"#EB9F3C\", \"#f6e7e1\", \"#8CBCCB\", \"#2EA8CE\", \"#136C97\"]}, \"type\": \"nominal\"}, \"tooltip\": [{\"field\": \"primary_mode\", \"type\": \"nominal\"}, {\"field\": \"trip_taker_race_ethnicity\", \"type\": \"nominal\"}, {\"field\": \"n\", \"type\": \"quantitative\"}], \"x\": {\"field\": \"primary_mode\", \"type\": \"nominal\"}, \"y\": {\"field\": \"n\", \"type\": \"quantitative\"}}, \"height\": 300, \"width\": 800, \"$schema\": \"https://vega.github.io/schema/vega-lite/v5.14.1.json\", \"datasets\": {\"data-bb29c74c9b2d9c3da4d3616767ebcb08\": [{\"primary_mode\": \"auto_passenger\", \"trip_taker_race_ethnicity\": \"aian_not_hispanic_or_latino\", \"n\": 1017}, {\"primary_mode\": \"auto_passenger\", \"trip_taker_race_ethnicity\": \"asian_not_hispanic_or_latino\", \"n\": 98414}, {\"primary_mode\": \"auto_passenger\", \"trip_taker_race_ethnicity\": \"black_not_hispanic_or_latino\", \"n\": 33904}, {\"primary_mode\": \"auto_passenger\", \"trip_taker_race_ethnicity\": \"hispanic_or_latino_origin\", \"n\": 79083}, {\"primary_mode\": \"auto_passenger\", \"trip_taker_race_ethnicity\": \"nhopi_not_hispanic_or_latino\", \"n\": 2116}, {\"primary_mode\": \"auto_passenger\", \"trip_taker_race_ethnicity\": \"other_not_hispanic_or_latino\", \"n\": 2041}, {\"primary_mode\": \"auto_passenger\", \"trip_taker_race_ethnicity\": \"two_races_not_hispanic_or_latino\", \"n\": 15609}, {\"primary_mode\": \"auto_passenger\", \"trip_taker_race_ethnicity\": \"white_not_hispanic_or_latino\", \"n\": 135555}, {\"primary_mode\": \"auto_passenger\", \"trip_taker_race_ethnicity\": null, \"n\": 23552}, {\"primary_mode\": \"commercial\", \"trip_taker_race_ethnicity\": null, \"n\": 11897}, {\"primary_mode\": \"on_demand_auto\", \"trip_taker_race_ethnicity\": \"aian_not_hispanic_or_latino\", \"n\": 100}, {\"primary_mode\": \"on_demand_auto\", \"trip_taker_race_ethnicity\": \"asian_not_hispanic_or_latino\", \"n\": 6731}, {\"primary_mode\": \"on_demand_auto\", \"trip_taker_race_ethnicity\": \"black_not_hispanic_or_latino\", \"n\": 2480}, {\"primary_mode\": \"on_demand_auto\", \"trip_taker_race_ethnicity\": \"hispanic_or_latino_origin\", \"n\": 4489}, {\"primary_mode\": \"on_demand_auto\", \"trip_taker_race_ethnicity\": \"nhopi_not_hispanic_or_latino\", \"n\": 79}, {\"primary_mode\": \"on_demand_auto\", \"trip_taker_race_ethnicity\": \"other_not_hispanic_or_latino\", \"n\": 125}, {\"primary_mode\": \"on_demand_auto\", \"trip_taker_race_ethnicity\": \"two_races_not_hispanic_or_latino\", \"n\": 1260}, {\"primary_mode\": \"on_demand_auto\", \"trip_taker_race_ethnicity\": \"white_not_hispanic_or_latino\", \"n\": 9108}, {\"primary_mode\": \"on_demand_auto\", \"trip_taker_race_ethnicity\": null, \"n\": 2581}, {\"primary_mode\": \"private_auto\", \"trip_taker_race_ethnicity\": \"aian_not_hispanic_or_latino\", \"n\": 630}, {\"primary_mode\": \"private_auto\", \"trip_taker_race_ethnicity\": \"asian_not_hispanic_or_latino\", \"n\": 59112}, {\"primary_mode\": \"private_auto\", \"trip_taker_race_ethnicity\": \"black_not_hispanic_or_latino\", \"n\": 20045}, {\"primary_mode\": \"private_auto\", \"trip_taker_race_ethnicity\": \"hispanic_or_latino_origin\", \"n\": 56404}, {\"primary_mode\": \"private_auto\", \"trip_taker_race_ethnicity\": \"nhopi_not_hispanic_or_latino\", \"n\": 1625}, {\"primary_mode\": \"private_auto\", \"trip_taker_race_ethnicity\": \"other_not_hispanic_or_latino\", \"n\": 1330}, {\"primary_mode\": \"private_auto\", \"trip_taker_race_ethnicity\": \"two_races_not_hispanic_or_latino\", \"n\": 9005}, {\"primary_mode\": \"private_auto\", \"trip_taker_race_ethnicity\": \"white_not_hispanic_or_latino\", \"n\": 84335}, {\"primary_mode\": \"private_auto\", \"trip_taker_race_ethnicity\": null, \"n\": 6204}, {\"primary_mode\": \"public_transit\", \"trip_taker_race_ethnicity\": \"aian_not_hispanic_or_latino\", \"n\": 32}, {\"primary_mode\": \"public_transit\", \"trip_taker_race_ethnicity\": \"asian_not_hispanic_or_latino\", \"n\": 1314}, {\"primary_mode\": \"public_transit\", \"trip_taker_race_ethnicity\": \"black_not_hispanic_or_latino\", \"n\": 693}, {\"primary_mode\": \"public_transit\", \"trip_taker_race_ethnicity\": \"hispanic_or_latino_origin\", \"n\": 1026}, {\"primary_mode\": \"public_transit\", \"trip_taker_race_ethnicity\": \"nhopi_not_hispanic_or_latino\", \"n\": 65}, {\"primary_mode\": \"public_transit\", \"trip_taker_race_ethnicity\": \"other_not_hispanic_or_latino\", \"n\": 33}, {\"primary_mode\": \"public_transit\", \"trip_taker_race_ethnicity\": \"two_races_not_hispanic_or_latino\", \"n\": 309}, {\"primary_mode\": \"public_transit\", \"trip_taker_race_ethnicity\": \"white_not_hispanic_or_latino\", \"n\": 2514}, {\"primary_mode\": \"public_transit\", \"trip_taker_race_ethnicity\": null, \"n\": 47}]}}, {\"mode\": \"vega-lite\"});\n",
       "</script>"
      ],
      "text/plain": [
       "alt.Chart(...)"
      ]
     },
     "execution_count": 24,
     "metadata": {},
     "output_type": "execute_result"
    }
   ],
   "source": [
    "chart = (\n",
    "        alt.Chart(race_ethnicity_by_mode)\n",
    "        .mark_bar()\n",
    "        .encode(\n",
    "            x=alt.X(\"primary_mode\"),\n",
    "            y=alt.Y(\"n\"),\n",
    "            color=alt.Color(\"trip_taker_race_ethnicity\", scale=alt.Scale(range = cp.CALITP_DIVERGING_COLORS,\n",
    "                                                                         domain=race_ethnicity_by_mode[\"trip_taker_race_ethnicity\"].unique().tolist())\n",
    "            ),\n",
    "            tooltip=race_ethnicity_by_mode.columns.tolist())\n",
    "            \n",
    "      .properties(\n",
    "    width=800,\n",
    "    height=300)\n",
    "        )\n",
    "chart "
   ]
  },
  {
   "cell_type": "code",
   "execution_count": null,
   "id": "da3bbe59-9b06-471f-beb1-4762b8939600",
   "metadata": {},
   "outputs": [],
   "source": []
  },
  {
   "cell_type": "code",
   "execution_count": 25,
   "id": "500ad806-51ed-47e9-88a5-fc8a41edd7aa",
   "metadata": {},
   "outputs": [
    {
     "data": {
      "text/html": [
       "<H4><strong>Transit Mode Splits</strong></H4>"
      ],
      "text/plain": [
       "<IPython.core.display.HTML object>"
      ]
     },
     "metadata": {},
     "output_type": "display_data"
    }
   ],
   "source": [
    "display(HTML(\"<H4><strong>Transit Mode Splits</strong></H4>\")) \n"
   ]
  },
  {
   "cell_type": "code",
   "execution_count": 26,
   "id": "d8cd6354-0433-4134-ad6e-9df92122cbd2",
   "metadata": {},
   "outputs": [
    {
     "data": {
      "text/html": [
       "<strong>Looking at transit mode, need to alter the transit_agency col and transit_submode to get a better count.</strong>"
      ],
      "text/plain": [
       "<IPython.core.display.HTML object>"
      ]
     },
     "metadata": {},
     "output_type": "display_data"
    }
   ],
   "source": [
    "display(HTML(\"<strong>Looking at transit mode, need to alter the transit_agency col and transit_submode to get a better count.</strong>\")) \n"
   ]
  },
  {
   "cell_type": "code",
   "execution_count": 27,
   "id": "261d7f48-f7c3-4ea7-a526-6f813ca16ede",
   "metadata": {},
   "outputs": [],
   "source": [
    "ptt_agency_count = (r_trips\n",
    " >>filter(_.primary_mode==\"public_transit\")\n",
    " >>group_by(_.primary_mode, _.transit_submode, _.transit_agency)\n",
    " >>summarize(n =_.activity_id.nunique())\n",
    " >>arrange(-_.n))"
   ]
  },
  {
   "cell_type": "code",
   "execution_count": 129,
   "id": "e4516beb-8277-4fd4-aed1-23af65fc4a28",
   "metadata": {},
   "outputs": [],
   "source": [
    "# ptt_agency_count"
   ]
  },
  {
   "cell_type": "code",
   "execution_count": 29,
   "id": "727511b8-3141-40e4-b654-30aaae8200d9",
   "metadata": {},
   "outputs": [
    {
     "data": {
      "text/html": [
       "<h4><strong>Most common transit mode combinations</strong></h4>"
      ],
      "text/plain": [
       "<IPython.core.display.HTML object>"
      ]
     },
     "metadata": {},
     "output_type": "display_data"
    }
   ],
   "source": [
    "display(HTML(\"<h4><strong>Most common transit mode combinations</strong></h4>\")) \n"
   ]
  },
  {
   "cell_type": "code",
   "execution_count": 30,
   "id": "f3c31371-899f-4474-85b6-86e78e89209b",
   "metadata": {},
   "outputs": [],
   "source": [
    "ptt_modes = (r_trips\n",
    "             >>filter(_.primary_mode ==\"public_transit\")\n",
    "             >>count(_.transit_submode)>>arrange(-_.n))"
   ]
  },
  {
   "cell_type": "code",
   "execution_count": 31,
   "id": "657ff2f3-0d0d-419d-b3d5-512212897fb1",
   "metadata": {},
   "outputs": [
    {
     "data": {
      "text/html": [
       "<div>\n",
       "<style scoped>\n",
       "    .dataframe tbody tr th:only-of-type {\n",
       "        vertical-align: middle;\n",
       "    }\n",
       "\n",
       "    .dataframe tbody tr th {\n",
       "        vertical-align: top;\n",
       "    }\n",
       "\n",
       "    .dataframe thead th {\n",
       "        text-align: right;\n",
       "    }\n",
       "</style>\n",
       "<table border=\"1\" class=\"dataframe\">\n",
       "  <thead>\n",
       "    <tr style=\"text-align: right;\">\n",
       "      <th></th>\n",
       "      <th>transit_submode</th>\n",
       "      <th>n</th>\n",
       "    </tr>\n",
       "  </thead>\n",
       "  <tbody>\n",
       "    <tr>\n",
       "      <th>0</th>\n",
       "      <td>bus</td>\n",
       "      <td>2999</td>\n",
       "    </tr>\n",
       "    <tr>\n",
       "      <th>1</th>\n",
       "      <td>bus, bus</td>\n",
       "      <td>1706</td>\n",
       "    </tr>\n",
       "    <tr>\n",
       "      <th>21</th>\n",
       "      <td>bus, light_rail</td>\n",
       "      <td>316</td>\n",
       "    </tr>\n",
       "    <tr>\n",
       "      <th>2</th>\n",
       "      <td>bus, bus, bus</td>\n",
       "      <td>302</td>\n",
       "    </tr>\n",
       "    <tr>\n",
       "      <th>41</th>\n",
       "      <td>light_rail, bus, bus</td>\n",
       "      <td>127</td>\n",
       "    </tr>\n",
       "    <tr>\n",
       "      <th>40</th>\n",
       "      <td>light_rail, bus</td>\n",
       "      <td>76</td>\n",
       "    </tr>\n",
       "    <tr>\n",
       "      <th>55</th>\n",
       "      <td>subway, bus</td>\n",
       "      <td>66</td>\n",
       "    </tr>\n",
       "    <tr>\n",
       "      <th>32</th>\n",
       "      <td>bus, subway</td>\n",
       "      <td>63</td>\n",
       "    </tr>\n",
       "    <tr>\n",
       "      <th>14</th>\n",
       "      <td>bus, bus, light_rail</td>\n",
       "      <td>49</td>\n",
       "    </tr>\n",
       "    <tr>\n",
       "      <th>33</th>\n",
       "      <td>bus, subway, bus</td>\n",
       "      <td>46</td>\n",
       "    </tr>\n",
       "  </tbody>\n",
       "</table>\n",
       "</div>"
      ],
      "text/plain": [
       "         transit_submode     n\n",
       "0                    bus  2999\n",
       "1               bus, bus  1706\n",
       "21       bus, light_rail   316\n",
       "2          bus, bus, bus   302\n",
       "41  light_rail, bus, bus   127\n",
       "40       light_rail, bus    76\n",
       "55           subway, bus    66\n",
       "32           bus, subway    63\n",
       "14  bus, bus, light_rail    49\n",
       "33      bus, subway, bus    46"
      ]
     },
     "execution_count": 31,
     "metadata": {},
     "output_type": "execute_result"
    }
   ],
   "source": [
    "ptt_modes.head(10)"
   ]
  },
  {
   "cell_type": "code",
   "execution_count": 32,
   "id": "80daf7a1-b947-469c-b3b0-09d0302714b7",
   "metadata": {},
   "outputs": [],
   "source": [
    "##### unnesting the transit submode and agencies to get counts. "
   ]
  },
  {
   "cell_type": "code",
   "execution_count": null,
   "id": "edd81120-9756-4edb-b713-1586a9fd5021",
   "metadata": {},
   "outputs": [],
   "source": []
  },
  {
   "cell_type": "code",
   "execution_count": null,
   "id": "2025391f-537e-432a-a2f4-d2d6ce57af04",
   "metadata": {},
   "outputs": [],
   "source": []
  },
  {
   "cell_type": "code",
   "execution_count": 33,
   "id": "eb27ab6b-6244-406f-b41a-55503a77521a",
   "metadata": {},
   "outputs": [],
   "source": [
    "ptt_agency_count['transit_submode'] = ptt_agency_count['transit_submode'].astype(str)\n",
    "ptt_agency_count['transit_agency'] = ptt_agency_count['transit_agency'].astype(str)"
   ]
  },
  {
   "cell_type": "code",
   "execution_count": 34,
   "id": "92ed5077-3524-4c39-8cf4-bf1b7922da2a",
   "metadata": {},
   "outputs": [],
   "source": [
    "ptt_agency_count['n_modes_taken'] = ptt_agency_count.transit_submode.apply(lambda x: len(x.split()))"
   ]
  },
  {
   "cell_type": "code",
   "execution_count": 35,
   "id": "c42ee93d-54ee-4fa5-97cc-447339565d4a",
   "metadata": {},
   "outputs": [],
   "source": [
    "# ptt_agency_count>>arrange(-_.n_modes_taken)"
   ]
  },
  {
   "cell_type": "code",
   "execution_count": null,
   "id": "3d93bd0e-f30d-4a53-9077-25818eef0cf7",
   "metadata": {},
   "outputs": [],
   "source": []
  },
  {
   "cell_type": "code",
   "execution_count": 36,
   "id": "cb12d509-d786-458c-894a-193c80666bb6",
   "metadata": {},
   "outputs": [],
   "source": [
    "## This line of code gets all agencies listed, even if agency is named twice. \n",
    "## Need code that counts the unique agencies\n",
    "#ptt_agency_count['agency_count'] = ptt_agency_count.transit_agency.apply(lambda x: len(x.split(\", \")))"
   ]
  },
  {
   "cell_type": "code",
   "execution_count": 37,
   "id": "2fb65c2c-5a23-4082-8e4e-f1d4ab231f0a",
   "metadata": {},
   "outputs": [],
   "source": [
    "ptt_agency_count['agency_count'] = [len(set(x.split(\", \"))) for x in\n",
    "                        ptt_agency_count['transit_agency'].str.lower()]"
   ]
  },
  {
   "cell_type": "code",
   "execution_count": null,
   "id": "589d2a23-b528-4de9-b6a0-a10f88a6da5c",
   "metadata": {},
   "outputs": [],
   "source": []
  },
  {
   "cell_type": "code",
   "execution_count": 38,
   "id": "505f47b1-229a-4cd1-90b8-b83b4ccdd6c6",
   "metadata": {},
   "outputs": [],
   "source": [
    "modes_count = ptt_agency_count>>group_by(_.n_modes_taken)>>summarize(n_trips = _.n.sum())"
   ]
  },
  {
   "cell_type": "code",
   "execution_count": 130,
   "id": "97746912-39f0-4c85-80d3-a00ed47922a8",
   "metadata": {},
   "outputs": [],
   "source": [
    "# modes_count"
   ]
  },
  {
   "cell_type": "code",
   "execution_count": 40,
   "id": "5353a2e4-762d-4a27-8f32-267c2c55bb90",
   "metadata": {},
   "outputs": [
    {
     "data": {
      "text/html": [
       "\n",
       "<style>\n",
       "  #altair-viz-0a052727f5cf41d48f96f861c11fb849.vega-embed {\n",
       "    width: 100%;\n",
       "    display: flex;\n",
       "  }\n",
       "\n",
       "  #altair-viz-0a052727f5cf41d48f96f861c11fb849.vega-embed details,\n",
       "  #altair-viz-0a052727f5cf41d48f96f861c11fb849.vega-embed details summary {\n",
       "    position: relative;\n",
       "  }\n",
       "</style>\n",
       "<div id=\"altair-viz-0a052727f5cf41d48f96f861c11fb849\"></div>\n",
       "<script type=\"text/javascript\">\n",
       "  var VEGA_DEBUG = (typeof VEGA_DEBUG == \"undefined\") ? {} : VEGA_DEBUG;\n",
       "  (function(spec, embedOpt){\n",
       "    let outputDiv = document.currentScript.previousElementSibling;\n",
       "    if (outputDiv.id !== \"altair-viz-0a052727f5cf41d48f96f861c11fb849\") {\n",
       "      outputDiv = document.getElementById(\"altair-viz-0a052727f5cf41d48f96f861c11fb849\");\n",
       "    }\n",
       "    const paths = {\n",
       "      \"vega\": \"https://cdn.jsdelivr.net/npm/vega@5?noext\",\n",
       "      \"vega-lib\": \"https://cdn.jsdelivr.net/npm/vega-lib?noext\",\n",
       "      \"vega-lite\": \"https://cdn.jsdelivr.net/npm/vega-lite@5.14.1?noext\",\n",
       "      \"vega-embed\": \"https://cdn.jsdelivr.net/npm/vega-embed@6?noext\",\n",
       "    };\n",
       "\n",
       "    function maybeLoadScript(lib, version) {\n",
       "      var key = `${lib.replace(\"-\", \"\")}_version`;\n",
       "      return (VEGA_DEBUG[key] == version) ?\n",
       "        Promise.resolve(paths[lib]) :\n",
       "        new Promise(function(resolve, reject) {\n",
       "          var s = document.createElement('script');\n",
       "          document.getElementsByTagName(\"head\")[0].appendChild(s);\n",
       "          s.async = true;\n",
       "          s.onload = () => {\n",
       "            VEGA_DEBUG[key] = version;\n",
       "            return resolve(paths[lib]);\n",
       "          };\n",
       "          s.onerror = () => reject(`Error loading script: ${paths[lib]}`);\n",
       "          s.src = paths[lib];\n",
       "        });\n",
       "    }\n",
       "\n",
       "    function showError(err) {\n",
       "      outputDiv.innerHTML = `<div class=\"error\" style=\"color:red;\">${err}</div>`;\n",
       "      throw err;\n",
       "    }\n",
       "\n",
       "    function displayChart(vegaEmbed) {\n",
       "      vegaEmbed(outputDiv, spec, embedOpt)\n",
       "        .catch(err => showError(`Javascript Error: ${err.message}<br>This usually means there's a typo in your chart specification. See the javascript console for the full traceback.`));\n",
       "    }\n",
       "\n",
       "    if(typeof define === \"function\" && define.amd) {\n",
       "      requirejs.config({paths});\n",
       "      require([\"vega-embed\"], displayChart, err => showError(`Error loading script: ${err.message}`));\n",
       "    } else {\n",
       "      maybeLoadScript(\"vega\", \"5\")\n",
       "        .then(() => maybeLoadScript(\"vega-lite\", \"5.14.1\"))\n",
       "        .then(() => maybeLoadScript(\"vega-embed\", \"6\"))\n",
       "        .catch(showError)\n",
       "        .then(() => displayChart(vegaEmbed));\n",
       "    }\n",
       "  })({\"config\": {\"view\": {\"continuousWidth\": 300, \"continuousHeight\": 300}}, \"data\": {\"name\": \"data-90a1080530cd4117ff7d3b9012be686f\"}, \"mark\": {\"type\": \"bar\", \"size\": 60}, \"encoding\": {\"color\": {\"field\": \"n_trips\", \"scale\": {\"range\": [\"#E16B26\", \"#EB9F3C\", \"#f6e7e1\", \"#8CBCCB\", \"#2EA8CE\", \"#136C97\"]}, \"title\": \"Number of Trips\", \"type\": \"quantitative\"}, \"tooltip\": [{\"field\": \"n_modes_taken\", \"type\": \"quantitative\"}, {\"field\": \"n_trips\", \"type\": \"quantitative\"}], \"x\": {\"field\": \"n_modes_taken\", \"title\": \"Number of Modes Taken per Trip\", \"type\": \"quantitative\"}, \"y\": {\"field\": \"n_trips\", \"title\": \"Number of Trips\", \"type\": \"quantitative\"}}, \"height\": 300, \"title\": \"How Many Modes are Taken Per Trip\", \"width\": 800, \"$schema\": \"https://vega.github.io/schema/vega-lite/v5.14.1.json\", \"datasets\": {\"data-90a1080530cd4117ff7d3b9012be686f\": [{\"n_modes_taken\": 1, \"n_trips\": 3063}, {\"n_modes_taken\": 2, \"n_trips\": 2246}, {\"n_modes_taken\": 3, \"n_trips\": 644}, {\"n_modes_taken\": 4, \"n_trips\": 70}, {\"n_modes_taken\": 5, \"n_trips\": 9}, {\"n_modes_taken\": 6, \"n_trips\": 1}]}}, {\"mode\": \"vega-lite\"});\n",
       "</script>"
      ],
      "text/plain": [
       "alt.Chart(...)"
      ]
     },
     "execution_count": 40,
     "metadata": {},
     "output_type": "execute_result"
    }
   ],
   "source": [
    "chart = (\n",
    "        alt.Chart((modes_count))\n",
    "        .mark_bar(size=60)\n",
    "        .encode(\n",
    "            x=alt.X(\"n_modes_taken\", title =\"Number of Modes Taken per Trip\"),\n",
    "            y=alt.Y(\"n_trips\", title = \"Number of Trips\"),\n",
    "            color=alt.Color(\"n_trips\", title = \"Number of Trips\",\n",
    "                            scale=alt.Scale(range = cp.CALITP_DIVERGING_COLORS)),\n",
    "            tooltip=modes_count.columns.tolist())\n",
    "            \n",
    "      .properties(title = \"How Many Modes are Taken Per Trip\",\n",
    "    width=800,\n",
    "    height=300)\n",
    "        )\n",
    "chart "
   ]
  },
  {
   "cell_type": "code",
   "execution_count": 41,
   "id": "fb8565b9-989a-459a-bede-433de30252e7",
   "metadata": {},
   "outputs": [],
   "source": [
    "# ptt_agency_count>>group_by(_.agency_count)>>count(_.n_modes_taken)>>arrange(-_.n)\n",
    "agency_mode_trips = ptt_agency_count>>group_by(_.agency_count, _.n_modes_taken)>>summarize(ntrips=_.n.sum())>>arrange(-_.ntrips)"
   ]
  },
  {
   "cell_type": "code",
   "execution_count": 42,
   "id": "b03dbe0a-a759-4fa9-849b-b31b318f86cd",
   "metadata": {},
   "outputs": [
    {
     "data": {
      "text/html": [
       "\n",
       "<style>\n",
       "  #altair-viz-534a3db65eda406689d4f738ee494a70.vega-embed {\n",
       "    width: 100%;\n",
       "    display: flex;\n",
       "  }\n",
       "\n",
       "  #altair-viz-534a3db65eda406689d4f738ee494a70.vega-embed details,\n",
       "  #altair-viz-534a3db65eda406689d4f738ee494a70.vega-embed details summary {\n",
       "    position: relative;\n",
       "  }\n",
       "</style>\n",
       "<div id=\"altair-viz-534a3db65eda406689d4f738ee494a70\"></div>\n",
       "<script type=\"text/javascript\">\n",
       "  var VEGA_DEBUG = (typeof VEGA_DEBUG == \"undefined\") ? {} : VEGA_DEBUG;\n",
       "  (function(spec, embedOpt){\n",
       "    let outputDiv = document.currentScript.previousElementSibling;\n",
       "    if (outputDiv.id !== \"altair-viz-534a3db65eda406689d4f738ee494a70\") {\n",
       "      outputDiv = document.getElementById(\"altair-viz-534a3db65eda406689d4f738ee494a70\");\n",
       "    }\n",
       "    const paths = {\n",
       "      \"vega\": \"https://cdn.jsdelivr.net/npm/vega@5?noext\",\n",
       "      \"vega-lib\": \"https://cdn.jsdelivr.net/npm/vega-lib?noext\",\n",
       "      \"vega-lite\": \"https://cdn.jsdelivr.net/npm/vega-lite@5.14.1?noext\",\n",
       "      \"vega-embed\": \"https://cdn.jsdelivr.net/npm/vega-embed@6?noext\",\n",
       "    };\n",
       "\n",
       "    function maybeLoadScript(lib, version) {\n",
       "      var key = `${lib.replace(\"-\", \"\")}_version`;\n",
       "      return (VEGA_DEBUG[key] == version) ?\n",
       "        Promise.resolve(paths[lib]) :\n",
       "        new Promise(function(resolve, reject) {\n",
       "          var s = document.createElement('script');\n",
       "          document.getElementsByTagName(\"head\")[0].appendChild(s);\n",
       "          s.async = true;\n",
       "          s.onload = () => {\n",
       "            VEGA_DEBUG[key] = version;\n",
       "            return resolve(paths[lib]);\n",
       "          };\n",
       "          s.onerror = () => reject(`Error loading script: ${paths[lib]}`);\n",
       "          s.src = paths[lib];\n",
       "        });\n",
       "    }\n",
       "\n",
       "    function showError(err) {\n",
       "      outputDiv.innerHTML = `<div class=\"error\" style=\"color:red;\">${err}</div>`;\n",
       "      throw err;\n",
       "    }\n",
       "\n",
       "    function displayChart(vegaEmbed) {\n",
       "      vegaEmbed(outputDiv, spec, embedOpt)\n",
       "        .catch(err => showError(`Javascript Error: ${err.message}<br>This usually means there's a typo in your chart specification. See the javascript console for the full traceback.`));\n",
       "    }\n",
       "\n",
       "    if(typeof define === \"function\" && define.amd) {\n",
       "      requirejs.config({paths});\n",
       "      require([\"vega-embed\"], displayChart, err => showError(`Error loading script: ${err.message}`));\n",
       "    } else {\n",
       "      maybeLoadScript(\"vega\", \"5\")\n",
       "        .then(() => maybeLoadScript(\"vega-lite\", \"5.14.1\"))\n",
       "        .then(() => maybeLoadScript(\"vega-embed\", \"6\"))\n",
       "        .catch(showError)\n",
       "        .then(() => displayChart(vegaEmbed));\n",
       "    }\n",
       "  })({\"config\": {\"view\": {\"continuousWidth\": 300, \"continuousHeight\": 300}}, \"data\": {\"name\": \"data-e2a4538072fc13b1c4ad15dd231c083e\"}, \"mark\": {\"type\": \"circle\", \"size\": 100}, \"encoding\": {\"color\": {\"field\": \"ntrips\", \"scale\": {\"range\": [\"#E16B26\", \"#EB9F3C\", \"#f6e7e1\", \"#8CBCCB\", \"#2EA8CE\", \"#136C97\"]}, \"title\": \"Number of Trips\", \"type\": \"quantitative\"}, \"tooltip\": [{\"field\": \"agency_count\", \"type\": \"quantitative\"}, {\"field\": \"n_modes_taken\", \"type\": \"quantitative\"}, {\"field\": \"ntrips\", \"type\": \"quantitative\"}], \"x\": {\"field\": \"agency_count\", \"title\": \"Number of Agencies\", \"type\": \"quantitative\"}, \"y\": {\"field\": \"n_modes_taken\", \"title\": \"Number of Modes Taken\", \"type\": \"quantitative\"}}, \"height\": 300, \"title\": \"How Many Modes are Taken Per Trip\", \"width\": 800, \"$schema\": \"https://vega.github.io/schema/vega-lite/v5.14.1.json\", \"datasets\": {\"data-e2a4538072fc13b1c4ad15dd231c083e\": [{\"agency_count\": 1, \"n_modes_taken\": 1, \"ntrips\": 3063}, {\"agency_count\": 2, \"n_modes_taken\": 2, \"ntrips\": 1658}, {\"agency_count\": 1, \"n_modes_taken\": 2, \"ntrips\": 588}, {\"agency_count\": 2, \"n_modes_taken\": 3, \"ntrips\": 411}, {\"agency_count\": 1, \"n_modes_taken\": 3, \"ntrips\": 146}, {\"agency_count\": 3, \"n_modes_taken\": 3, \"ntrips\": 87}, {\"agency_count\": 2, \"n_modes_taken\": 4, \"ntrips\": 27}, {\"agency_count\": 3, \"n_modes_taken\": 4, \"ntrips\": 23}, {\"agency_count\": 1, \"n_modes_taken\": 4, \"ntrips\": 16}, {\"agency_count\": 4, \"n_modes_taken\": 4, \"ntrips\": 4}, {\"agency_count\": 4, \"n_modes_taken\": 5, \"ntrips\": 4}, {\"agency_count\": 2, \"n_modes_taken\": 5, \"ntrips\": 2}, {\"agency_count\": 3, \"n_modes_taken\": 5, \"ntrips\": 2}, {\"agency_count\": 3, \"n_modes_taken\": 6, \"ntrips\": 1}, {\"agency_count\": 5, \"n_modes_taken\": 5, \"ntrips\": 1}]}}, {\"mode\": \"vega-lite\"});\n",
       "</script>"
      ],
      "text/plain": [
       "alt.Chart(...)"
      ]
     },
     "execution_count": 42,
     "metadata": {},
     "output_type": "execute_result"
    }
   ],
   "source": [
    "chart = (\n",
    "        alt.Chart((agency_mode_trips))\n",
    "        .mark_circle(size=100)\n",
    "        .encode(\n",
    "            x=alt.X(\"agency_count\", title =\"Number of Agencies\"),\n",
    "            y=alt.Y(\"n_modes_taken\", title = \"Number of Modes Taken\"),\n",
    "            color=alt.Color(\"ntrips\", title = \"Number of Trips\",\n",
    "                            scale=alt.Scale(range = cp.CALITP_DIVERGING_COLORS)),\n",
    "            tooltip=agency_mode_trips.columns.tolist())\n",
    "            \n",
    "      .properties(title = \"How Many Modes are Taken Per Trip\",\n",
    "    width=800,\n",
    "    height=300)\n",
    "        )\n",
    "chart "
   ]
  },
  {
   "cell_type": "code",
   "execution_count": null,
   "id": "91273d26-1fd1-42a1-b829-a77398c606fc",
   "metadata": {},
   "outputs": [],
   "source": []
  },
  {
   "cell_type": "code",
   "execution_count": 43,
   "id": "6bd200d7-c0b9-4649-adf1-e025d216328b",
   "metadata": {},
   "outputs": [],
   "source": [
    "##### Getting columns for each agency and counts "
   ]
  },
  {
   "cell_type": "code",
   "execution_count": 44,
   "id": "e8f5f457-ce9f-4bfb-99f6-82e6eb7d11f0",
   "metadata": {
    "scrolled": true,
    "tags": []
   },
   "outputs": [],
   "source": [
    "# ptt_agency_count['transit_agency'].unique().tolist()"
   ]
  },
  {
   "cell_type": "code",
   "execution_count": 45,
   "id": "4b48b976-e4c7-4b8f-81d0-f3a54ed33a5e",
   "metadata": {},
   "outputs": [],
   "source": [
    "## Get just one columns\n",
    "column = ptt_agency_count[[\"transit_agency\"]]\n",
    "#remove single-dimensional entries from the shape of an array\n",
    "col_text = column.squeeze()\n",
    "# get list of words\n",
    "text_list = col_text.tolist()\n",
    "# #join list of words \n",
    "text_list = ', '.join(text_list).title()"
   ]
  },
  {
   "cell_type": "code",
   "execution_count": null,
   "id": "7dc09e0d-9001-42fa-babc-fb08a590c947",
   "metadata": {},
   "outputs": [],
   "source": []
  },
  {
   "cell_type": "code",
   "execution_count": 46,
   "id": "f430e943-c918-4449-8e62-e0d33ba82aff",
   "metadata": {},
   "outputs": [],
   "source": [
    "text_list = text_list.replace(\", \", \"', '\")"
   ]
  },
  {
   "cell_type": "code",
   "execution_count": 47,
   "id": "740afd55-23fe-403a-bfe5-037aa6802c0c",
   "metadata": {},
   "outputs": [],
   "source": [
    "text_list = \"['\" + text_list + \"']\""
   ]
  },
  {
   "cell_type": "code",
   "execution_count": 48,
   "id": "09ee5ac0-1bf2-40d4-8d29-7397d9b84d9e",
   "metadata": {
    "scrolled": true,
    "tags": []
   },
   "outputs": [],
   "source": [
    "# text_list"
   ]
  },
  {
   "cell_type": "code",
   "execution_count": 49,
   "id": "3c399936-bc62-491c-b71d-89a861e02fc7",
   "metadata": {},
   "outputs": [],
   "source": [
    "import ast\n"
   ]
  },
  {
   "cell_type": "code",
   "execution_count": 50,
   "id": "5ae1e7f0-9e1c-4795-a3cc-d16f98e039d2",
   "metadata": {},
   "outputs": [],
   "source": [
    "agency_list = ast.literal_eval(text_list)"
   ]
  },
  {
   "cell_type": "code",
   "execution_count": 51,
   "id": "cc080910-1ad8-4303-a825-eb4370f78f5c",
   "metadata": {},
   "outputs": [],
   "source": [
    "agency_list = set(agency_list)"
   ]
  },
  {
   "cell_type": "code",
   "execution_count": 52,
   "id": "416d16f0-3128-4857-9136-69f0403ce5cc",
   "metadata": {},
   "outputs": [],
   "source": [
    "# len(agency_list)"
   ]
  },
  {
   "cell_type": "code",
   "execution_count": 53,
   "id": "f303acae-da1b-44a5-98b2-2f8f5b98f56a",
   "metadata": {},
   "outputs": [
    {
     "data": {
      "text/html": [
       "<h4><strong>Agencies Identified in Trips Data</strong></h4>"
      ],
      "text/plain": [
       "<IPython.core.display.HTML object>"
      ]
     },
     "metadata": {},
     "output_type": "display_data"
    },
    {
     "data": {
      "text/plain": [
       "{'Ac Transit',\n",
       " 'Amtrak',\n",
       " 'Bay Area Rapid Transit',\n",
       " 'Caltrain',\n",
       " 'Fairfield And Suisun Transit',\n",
       " 'Marin Transit',\n",
       " 'Nan',\n",
       " 'Sacramento Regional Transit',\n",
       " 'Samtrans',\n",
       " 'San Francisco Bay Ferry',\n",
       " 'San Francisco Municipal Transportation Agency',\n",
       " 'San Joaquin Regional Transit District (Rtd)',\n",
       " 'Santa Cruz Metro',\n",
       " 'Soltrans',\n",
       " 'The S',\n",
       " 'Tri Delta Transit',\n",
       " 'Vta'}"
      ]
     },
     "execution_count": 53,
     "metadata": {},
     "output_type": "execute_result"
    }
   ],
   "source": [
    "display(HTML(\"<h4><strong>Agencies Identified in Trips Data</strong></h4>\")) \n",
    "\n",
    "(agency_list)"
   ]
  },
  {
   "cell_type": "code",
   "execution_count": null,
   "id": "8b121b63-083b-4898-9eb1-cb919698d9ca",
   "metadata": {},
   "outputs": [],
   "source": []
  },
  {
   "cell_type": "code",
   "execution_count": null,
   "id": "d737409e-38b2-4aa9-8cac-4ad3b8e22294",
   "metadata": {},
   "outputs": [],
   "source": []
  },
  {
   "cell_type": "code",
   "execution_count": null,
   "id": "6d5ebb21-1aaf-4743-aa0a-feb58ed44da2",
   "metadata": {},
   "outputs": [],
   "source": []
  },
  {
   "cell_type": "code",
   "execution_count": 54,
   "id": "b4548765-653e-4d07-88e6-6cc7c2d40f7b",
   "metadata": {},
   "outputs": [],
   "source": [
    "#### using this stackoverflow code to count the instances of the transit agencies in the data"
   ]
  },
  {
   "cell_type": "code",
   "execution_count": 55,
   "id": "bd1a6f28-2b26-4919-87c7-b55027aea1b9",
   "metadata": {},
   "outputs": [],
   "source": [
    "## https://stackoverflow.com/questions/46250505/count-the-number-of-times-multiple-substrings-appear-in-dataframe-column"
   ]
  },
  {
   "cell_type": "code",
   "execution_count": 56,
   "id": "9a738907-d239-4067-b813-bc603a3c85de",
   "metadata": {},
   "outputs": [],
   "source": [
    "# ptt_agency_count['transit_agency'] = ptt_agency_count['transit_agency'].str.strip('()').str.split(',')"
   ]
  },
  {
   "cell_type": "code",
   "execution_count": 57,
   "id": "8d5f235d-30c4-4455-b9c8-283007badeeb",
   "metadata": {},
   "outputs": [],
   "source": [
    "# ptt_agency_count.join(ptt_agency_count['transit_agency'].str.join('|').str.get_dummies())"
   ]
  },
  {
   "cell_type": "code",
   "execution_count": null,
   "id": "34eada82-1f1c-4411-8dd4-3bb71b0ddb16",
   "metadata": {},
   "outputs": [],
   "source": []
  },
  {
   "cell_type": "code",
   "execution_count": 58,
   "id": "71af6e25-52b0-45e9-ba2b-a00a670e3010",
   "metadata": {},
   "outputs": [],
   "source": [
    "### making a copy of the ptt_agency_count\n",
    "df = ptt_agency_count.copy()"
   ]
  },
  {
   "cell_type": "code",
   "execution_count": 59,
   "id": "77c19b04-a01a-4631-9db4-a30b54fdff36",
   "metadata": {},
   "outputs": [],
   "source": [
    "# df['transit_agency'] = df['transit_agency'].astype(str)"
   ]
  },
  {
   "cell_type": "code",
   "execution_count": 60,
   "id": "1ed407a8-9c32-41ba-8ad8-15e422d14c0a",
   "metadata": {},
   "outputs": [],
   "source": [
    "# df2 = df['transit_agency'].str.get_dummies(sep=', ')"
   ]
  },
  {
   "cell_type": "code",
   "execution_count": 61,
   "id": "0ffb0504-e0d1-4b41-856b-d686b2408857",
   "metadata": {},
   "outputs": [],
   "source": [
    "# df2"
   ]
  },
  {
   "cell_type": "code",
   "execution_count": null,
   "id": "5bdc0792-219c-4877-880c-cd7d84db2303",
   "metadata": {},
   "outputs": [],
   "source": []
  },
  {
   "cell_type": "code",
   "execution_count": null,
   "id": "2de92f7b-2e28-4388-880f-9e34b8b603ea",
   "metadata": {},
   "outputs": [],
   "source": []
  },
  {
   "cell_type": "markdown",
   "id": "89479d3a-eeb5-491a-a064-49a77194109e",
   "metadata": {},
   "source": [
    "##### Trying ChatGPT approach"
   ]
  },
  {
   "cell_type": "code",
   "execution_count": 62,
   "id": "bd6f46a5-404f-41eb-9fd8-4600451e6d20",
   "metadata": {},
   "outputs": [],
   "source": [
    "agency_indv_count = (r_trips>>filter(_.primary_mode==\"public_transit\")>>select(_.transit_agency))\n",
    "agency_indv_count['transit_agency'] = agency_indv_count['transit_agency'].astype(str)"
   ]
  },
  {
   "cell_type": "code",
   "execution_count": 63,
   "id": "6c664504-dad9-47f8-929a-dbb8810af191",
   "metadata": {},
   "outputs": [],
   "source": [
    "# transit_agencies = set()\n",
    "# for agencies in df['transit_agency'].str.split(', '):\n",
    "#     transit_agencies.update(agencies)"
   ]
  },
  {
   "cell_type": "code",
   "execution_count": 64,
   "id": "f577e93c-5cf9-4a2b-95b7-a6cd8577c4d8",
   "metadata": {},
   "outputs": [],
   "source": [
    "# unique_agencies = []"
   ]
  },
  {
   "cell_type": "code",
   "execution_count": 65,
   "id": "daa329d5-ab43-4d91-9f24-529cc929118c",
   "metadata": {},
   "outputs": [],
   "source": [
    "# for agency in transit_agencies:\n",
    "#     df[agency] = df['transit_agency'].str.count(agency)\n",
    "#     unique_agencies.append(agency)"
   ]
  },
  {
   "cell_type": "code",
   "execution_count": 66,
   "id": "bb062bcd-4322-4970-9115-7ea91ba7041c",
   "metadata": {},
   "outputs": [],
   "source": [
    "# ### adding column for unique agencies list\n",
    "# def get_unique_agencies(agency_list):\n",
    "#     unique_agencies = set()\n",
    "#     for agencies in agency_list:\n",
    "#         unique_agencies.update(agencies.split(', '))\n",
    "#     return ', '.join(sorted(list(unique_agencies)))\n",
    "\n",
    "# # Applying the function to each row of the dataframe to get unique agencies\n",
    "# df['unique_agencies'] = df['transit_agency'].str.split(', ').apply(lambda x: get_unique_agencies(x))"
   ]
  },
  {
   "cell_type": "code",
   "execution_count": null,
   "id": "6a011752-5211-40b4-a108-a8036fdbacce",
   "metadata": {},
   "outputs": [],
   "source": []
  },
  {
   "cell_type": "code",
   "execution_count": 67,
   "id": "045be8fb-d8fd-4019-8282-df53602b122b",
   "metadata": {},
   "outputs": [],
   "source": [
    "def get_dummies_by_agency(df, col):\n",
    "    transit_agencies = set()\n",
    "    for agencies in df[col].str.split(', '):\n",
    "        transit_agencies.update(agencies)\n",
    "    unique_agencies = []\n",
    "    \n",
    "    for agency in transit_agencies:\n",
    "        df[agency] = df[col].str.count(agency)\n",
    "        unique_agencies.append(agency)\n",
    "\n",
    "    ### adding column for unique agencies list\n",
    "    def get_unique_agencies(agency_list):\n",
    "        unique_agencies = set()\n",
    "        for agencies in agency_list:\n",
    "            unique_agencies.update(agencies.split(', '))\n",
    "        return ', '.join(sorted(list(unique_agencies)))\n",
    "\n",
    "    # Applying the function to each row of the dataframe to get unique agencies\n",
    "    df['unique_agencies'] = df[col].str.split(', ').apply(lambda x: get_unique_agencies(x))\n",
    "    \n",
    "    return df"
   ]
  },
  {
   "cell_type": "code",
   "execution_count": 68,
   "id": "efc4eb07-c0f9-4bc2-87bb-cac95f606657",
   "metadata": {},
   "outputs": [],
   "source": [
    "df = get_dummies_by_agency(df, \"transit_agency\")"
   ]
  },
  {
   "cell_type": "code",
   "execution_count": 69,
   "id": "cefbf215-185b-423d-b154-731fb0fa6a39",
   "metadata": {},
   "outputs": [],
   "source": [
    "agency_indv_count = get_dummies_by_agency(agency_indv_count, \"transit_agency\")"
   ]
  },
  {
   "cell_type": "code",
   "execution_count": null,
   "id": "cbc9e090-d0d0-4632-9de7-4f225c61b6a4",
   "metadata": {},
   "outputs": [],
   "source": []
  },
  {
   "cell_type": "code",
   "execution_count": null,
   "id": "941dbff8-a45b-404c-826b-0f696f91c5a0",
   "metadata": {},
   "outputs": [],
   "source": []
  },
  {
   "cell_type": "code",
   "execution_count": 70,
   "id": "97bc34c4-636f-46ca-a257-95e4af242584",
   "metadata": {},
   "outputs": [],
   "source": [
    "##### Identifying trips with one agency"
   ]
  },
  {
   "cell_type": "code",
   "execution_count": 71,
   "id": "46856b31-47ac-408c-903e-19d8b04283f7",
   "metadata": {},
   "outputs": [],
   "source": [
    "cols_to_keep = [\"transit_submode\",\"unique_agencies\", \"n\",\"n_modes_taken\"]"
   ]
  },
  {
   "cell_type": "code",
   "execution_count": 72,
   "id": "2603e7e0-389a-49fb-93e9-5dc1d52c6012",
   "metadata": {},
   "outputs": [],
   "source": [
    "# chart = (alt.Chart(df)\n",
    "#              .mark_circle(size=100)\n",
    "#              .encode(\n",
    "#                  x=alt.X(\"n_modes_taken\", title=\"Number of Modes taken\"),\n",
    "#                  y=alt.Y(\"n\", title=\"Number of Trips\"),\n",
    "#                  color = alt.Color(\"agency_count\", title=\"Number of Unique Agencies\",\n",
    "#                                   scale=alt.Scale(\n",
    "#                                       range=cp.CALITP_DIVERGING_COLORS,\n",
    "#                                       domain=df[\"agency_count\"].unique().tolist())\n",
    "#             ),\n",
    "#             tooltip=cols_to_keep)\n",
    "#         .properties(title = (\"Transit Trips Agency Breakdown\"), width=500,\n",
    "#     height=300)\n",
    "#         )\n",
    "# chart                    "
   ]
  },
  {
   "cell_type": "code",
   "execution_count": 73,
   "id": "149ed63c-436c-45fe-a526-5b1bf9f3d6fb",
   "metadata": {},
   "outputs": [],
   "source": [
    "# (df>>filter(_.agency_count==1)>>arrange(-_.n))"
   ]
  },
  {
   "cell_type": "code",
   "execution_count": 74,
   "id": "7228c540-3033-4023-8145-91f8aee23eeb",
   "metadata": {},
   "outputs": [
    {
     "data": {
      "text/html": [
       "\n",
       "<style>\n",
       "  #altair-viz-b3f1b48523e34611851b7eadd08778d8.vega-embed {\n",
       "    width: 100%;\n",
       "    display: flex;\n",
       "  }\n",
       "\n",
       "  #altair-viz-b3f1b48523e34611851b7eadd08778d8.vega-embed details,\n",
       "  #altair-viz-b3f1b48523e34611851b7eadd08778d8.vega-embed details summary {\n",
       "    position: relative;\n",
       "  }\n",
       "</style>\n",
       "<div id=\"altair-viz-b3f1b48523e34611851b7eadd08778d8\"></div>\n",
       "<script type=\"text/javascript\">\n",
       "  var VEGA_DEBUG = (typeof VEGA_DEBUG == \"undefined\") ? {} : VEGA_DEBUG;\n",
       "  (function(spec, embedOpt){\n",
       "    let outputDiv = document.currentScript.previousElementSibling;\n",
       "    if (outputDiv.id !== \"altair-viz-b3f1b48523e34611851b7eadd08778d8\") {\n",
       "      outputDiv = document.getElementById(\"altair-viz-b3f1b48523e34611851b7eadd08778d8\");\n",
       "    }\n",
       "    const paths = {\n",
       "      \"vega\": \"https://cdn.jsdelivr.net/npm/vega@5?noext\",\n",
       "      \"vega-lib\": \"https://cdn.jsdelivr.net/npm/vega-lib?noext\",\n",
       "      \"vega-lite\": \"https://cdn.jsdelivr.net/npm/vega-lite@5.14.1?noext\",\n",
       "      \"vega-embed\": \"https://cdn.jsdelivr.net/npm/vega-embed@6?noext\",\n",
       "    };\n",
       "\n",
       "    function maybeLoadScript(lib, version) {\n",
       "      var key = `${lib.replace(\"-\", \"\")}_version`;\n",
       "      return (VEGA_DEBUG[key] == version) ?\n",
       "        Promise.resolve(paths[lib]) :\n",
       "        new Promise(function(resolve, reject) {\n",
       "          var s = document.createElement('script');\n",
       "          document.getElementsByTagName(\"head\")[0].appendChild(s);\n",
       "          s.async = true;\n",
       "          s.onload = () => {\n",
       "            VEGA_DEBUG[key] = version;\n",
       "            return resolve(paths[lib]);\n",
       "          };\n",
       "          s.onerror = () => reject(`Error loading script: ${paths[lib]}`);\n",
       "          s.src = paths[lib];\n",
       "        });\n",
       "    }\n",
       "\n",
       "    function showError(err) {\n",
       "      outputDiv.innerHTML = `<div class=\"error\" style=\"color:red;\">${err}</div>`;\n",
       "      throw err;\n",
       "    }\n",
       "\n",
       "    function displayChart(vegaEmbed) {\n",
       "      vegaEmbed(outputDiv, spec, embedOpt)\n",
       "        .catch(err => showError(`Javascript Error: ${err.message}<br>This usually means there's a typo in your chart specification. See the javascript console for the full traceback.`));\n",
       "    }\n",
       "\n",
       "    if(typeof define === \"function\" && define.amd) {\n",
       "      requirejs.config({paths});\n",
       "      require([\"vega-embed\"], displayChart, err => showError(`Error loading script: ${err.message}`));\n",
       "    } else {\n",
       "      maybeLoadScript(\"vega\", \"5\")\n",
       "        .then(() => maybeLoadScript(\"vega-lite\", \"5.14.1\"))\n",
       "        .then(() => maybeLoadScript(\"vega-embed\", \"6\"))\n",
       "        .catch(showError)\n",
       "        .then(() => displayChart(vegaEmbed));\n",
       "    }\n",
       "  })({\"config\": {\"view\": {\"continuousWidth\": 300, \"continuousHeight\": 300}}, \"data\": {\"name\": \"data-299268073d18cd8f04646fd199e0a650\"}, \"mark\": {\"type\": \"bar\"}, \"encoding\": {\"color\": {\"field\": \"n_modes_taken\", \"scale\": {\"range\": [\"#B9D6DF\", \"#8CBCCB\", \"#2EA8CE\", \"#136C97\", \"#0B405B\"]}, \"title\": \"Number of Trips\", \"type\": \"quantitative\"}, \"tooltip\": [{\"field\": \"transit_submode\", \"type\": \"nominal\"}, {\"field\": \"unique_agencies\", \"type\": \"nominal\"}, {\"field\": \"n\", \"type\": \"quantitative\"}, {\"field\": \"n_modes_taken\", \"type\": \"quantitative\"}], \"x\": {\"field\": \"unique_agencies\", \"title\": \"Agency\", \"type\": \"nominal\"}, \"y\": {\"field\": \"n\", \"title\": \"Number of Modes taken\", \"type\": \"quantitative\"}}, \"height\": 500, \"title\": \"Transit Trips With Only One Agency\", \"width\": 800, \"$schema\": \"https://vega.github.io/schema/vega-lite/v5.14.1.json\", \"datasets\": {\"data-299268073d18cd8f04646fd199e0a650\": [{\"primary_mode\": \"public_transit\", \"transit_submode\": \"bus\", \"transit_agency\": \"AC TRANSIT\", \"n\": 2788, \"n_modes_taken\": 1, \"agency_count\": 1, \"AC TRANSIT\": 1, \"Santa Cruz Metro\": 0, \"SamTrans\": 0, \"San Francisco Municipal Transportation Agency\": 0, \"Sacramento Regional Transit\": 0, \"VTA\": 0, \"Amtrak\": 0, \"Caltrain\": 0, \"Fairfield and Suisun Transit\": 0, \"The S\": 0, \"Tri Delta Transit\": 0, \"Bay Area Rapid Transit\": 0, \"San Joaquin Regional Transit District (RTD)\": 0, \"San Francisco Bay Ferry\": 0, \"nan\": 0, \"Marin Transit\": 0, \"SolTrans\": 0, \"unique_agencies\": \"AC TRANSIT\"}, {\"primary_mode\": \"public_transit\", \"transit_submode\": \"bus, bus\", \"transit_agency\": \"AC TRANSIT, AC TRANSIT\", \"n\": 263, \"n_modes_taken\": 2, \"agency_count\": 1, \"AC TRANSIT\": 2, \"Santa Cruz Metro\": 0, \"SamTrans\": 0, \"San Francisco Municipal Transportation Agency\": 0, \"Sacramento Regional Transit\": 0, \"VTA\": 0, \"Amtrak\": 0, \"Caltrain\": 0, \"Fairfield and Suisun Transit\": 0, \"The S\": 0, \"Tri Delta Transit\": 0, \"Bay Area Rapid Transit\": 0, \"San Joaquin Regional Transit District (RTD)\": 0, \"San Francisco Bay Ferry\": 0, \"nan\": 0, \"Marin Transit\": 0, \"SolTrans\": 0, \"unique_agencies\": \"AC TRANSIT\"}, {\"primary_mode\": \"public_transit\", \"transit_submode\": \"bus, bus\", \"transit_agency\": \"San Francisco Municipal Transportation Agency, San Francisco Municipal Transportation Agency\", \"n\": 234, \"n_modes_taken\": 2, \"agency_count\": 1, \"AC TRANSIT\": 0, \"Santa Cruz Metro\": 0, \"SamTrans\": 0, \"San Francisco Municipal Transportation Agency\": 2, \"Sacramento Regional Transit\": 0, \"VTA\": 0, \"Amtrak\": 0, \"Caltrain\": 0, \"Fairfield and Suisun Transit\": 0, \"The S\": 0, \"Tri Delta Transit\": 0, \"Bay Area Rapid Transit\": 0, \"San Joaquin Regional Transit District (RTD)\": 0, \"San Francisco Bay Ferry\": 0, \"nan\": 0, \"Marin Transit\": 0, \"SolTrans\": 0, \"unique_agencies\": \"San Francisco Municipal Transportation Agency\"}, {\"primary_mode\": \"public_transit\", \"transit_submode\": \"bus\", \"transit_agency\": \"San Francisco Municipal Transportation Agency\", \"n\": 197, \"n_modes_taken\": 1, \"agency_count\": 1, \"AC TRANSIT\": 0, \"Santa Cruz Metro\": 0, \"SamTrans\": 0, \"San Francisco Municipal Transportation Agency\": 1, \"Sacramento Regional Transit\": 0, \"VTA\": 0, \"Amtrak\": 0, \"Caltrain\": 0, \"Fairfield and Suisun Transit\": 0, \"The S\": 0, \"Tri Delta Transit\": 0, \"Bay Area Rapid Transit\": 0, \"San Joaquin Regional Transit District (RTD)\": 0, \"San Francisco Bay Ferry\": 0, \"nan\": 0, \"Marin Transit\": 0, \"SolTrans\": 0, \"unique_agencies\": \"San Francisco Municipal Transportation Agency\"}, {\"primary_mode\": \"public_transit\", \"transit_submode\": \"bus, bus, bus\", \"transit_agency\": \"San Francisco Municipal Transportation Agency, San Francisco Municipal Transportation Agency, San Francisco Municipal Transportation Agency\", \"n\": 69, \"n_modes_taken\": 3, \"agency_count\": 1, \"AC TRANSIT\": 0, \"Santa Cruz Metro\": 0, \"SamTrans\": 0, \"San Francisco Municipal Transportation Agency\": 3, \"Sacramento Regional Transit\": 0, \"VTA\": 0, \"Amtrak\": 0, \"Caltrain\": 0, \"Fairfield and Suisun Transit\": 0, \"The S\": 0, \"Tri Delta Transit\": 0, \"Bay Area Rapid Transit\": 0, \"San Joaquin Regional Transit District (RTD)\": 0, \"San Francisco Bay Ferry\": 0, \"nan\": 0, \"Marin Transit\": 0, \"SolTrans\": 0, \"unique_agencies\": \"San Francisco Municipal Transportation Agency\"}, {\"primary_mode\": \"public_transit\", \"transit_submode\": \"bus, light_rail\", \"transit_agency\": \"San Francisco Municipal Transportation Agency, San Francisco Municipal Transportation Agency\", \"n\": 63, \"n_modes_taken\": 2, \"agency_count\": 1, \"AC TRANSIT\": 0, \"Santa Cruz Metro\": 0, \"SamTrans\": 0, \"San Francisco Municipal Transportation Agency\": 2, \"Sacramento Regional Transit\": 0, \"VTA\": 0, \"Amtrak\": 0, \"Caltrain\": 0, \"Fairfield and Suisun Transit\": 0, \"The S\": 0, \"Tri Delta Transit\": 0, \"Bay Area Rapid Transit\": 0, \"San Joaquin Regional Transit District (RTD)\": 0, \"San Francisco Bay Ferry\": 0, \"nan\": 0, \"Marin Transit\": 0, \"SolTrans\": 0, \"unique_agencies\": \"San Francisco Municipal Transportation Agency\"}, {\"primary_mode\": \"public_transit\", \"transit_submode\": \"light_rail, bus, bus\", \"transit_agency\": \"San Francisco Municipal Transportation Agency, San Francisco Municipal Transportation Agency, San Francisco Municipal Transportation Agency\", \"n\": 32, \"n_modes_taken\": 3, \"agency_count\": 1, \"AC TRANSIT\": 0, \"Santa Cruz Metro\": 0, \"SamTrans\": 0, \"San Francisco Municipal Transportation Agency\": 3, \"Sacramento Regional Transit\": 0, \"VTA\": 0, \"Amtrak\": 0, \"Caltrain\": 0, \"Fairfield and Suisun Transit\": 0, \"The S\": 0, \"Tri Delta Transit\": 0, \"Bay Area Rapid Transit\": 0, \"San Joaquin Regional Transit District (RTD)\": 0, \"San Francisco Bay Ferry\": 0, \"nan\": 0, \"Marin Transit\": 0, \"SolTrans\": 0, \"unique_agencies\": \"San Francisco Municipal Transportation Agency\"}, {\"primary_mode\": \"public_transit\", \"transit_submode\": \"bus, bus, light_rail\", \"transit_agency\": \"San Francisco Municipal Transportation Agency, San Francisco Municipal Transportation Agency, San Francisco Municipal Transportation Agency\", \"n\": 27, \"n_modes_taken\": 3, \"agency_count\": 1, \"AC TRANSIT\": 0, \"Santa Cruz Metro\": 0, \"SamTrans\": 0, \"San Francisco Municipal Transportation Agency\": 3, \"Sacramento Regional Transit\": 0, \"VTA\": 0, \"Amtrak\": 0, \"Caltrain\": 0, \"Fairfield and Suisun Transit\": 0, \"The S\": 0, \"Tri Delta Transit\": 0, \"Bay Area Rapid Transit\": 0, \"San Joaquin Regional Transit District (RTD)\": 0, \"San Francisco Bay Ferry\": 0, \"nan\": 0, \"Marin Transit\": 0, \"SolTrans\": 0, \"unique_agencies\": \"San Francisco Municipal Transportation Agency\"}, {\"primary_mode\": \"public_transit\", \"transit_submode\": \"light_rail\", \"transit_agency\": \"San Francisco Municipal Transportation Agency\", \"n\": 27, \"n_modes_taken\": 1, \"agency_count\": 1, \"AC TRANSIT\": 0, \"Santa Cruz Metro\": 0, \"SamTrans\": 0, \"San Francisco Municipal Transportation Agency\": 1, \"Sacramento Regional Transit\": 0, \"VTA\": 0, \"Amtrak\": 0, \"Caltrain\": 0, \"Fairfield and Suisun Transit\": 0, \"The S\": 0, \"Tri Delta Transit\": 0, \"Bay Area Rapid Transit\": 0, \"San Joaquin Regional Transit District (RTD)\": 0, \"San Francisco Bay Ferry\": 0, \"nan\": 0, \"Marin Transit\": 0, \"SolTrans\": 0, \"unique_agencies\": \"San Francisco Municipal Transportation Agency\"}, {\"primary_mode\": \"public_transit\", \"transit_submode\": \"light_rail, bus\", \"transit_agency\": \"San Francisco Municipal Transportation Agency, San Francisco Municipal Transportation Agency\", \"n\": 26, \"n_modes_taken\": 2, \"agency_count\": 1, \"AC TRANSIT\": 0, \"Santa Cruz Metro\": 0, \"SamTrans\": 0, \"San Francisco Municipal Transportation Agency\": 2, \"Sacramento Regional Transit\": 0, \"VTA\": 0, \"Amtrak\": 0, \"Caltrain\": 0, \"Fairfield and Suisun Transit\": 0, \"The S\": 0, \"Tri Delta Transit\": 0, \"Bay Area Rapid Transit\": 0, \"San Joaquin Regional Transit District (RTD)\": 0, \"San Francisco Bay Ferry\": 0, \"nan\": 0, \"Marin Transit\": 0, \"SolTrans\": 0, \"unique_agencies\": \"San Francisco Municipal Transportation Agency\"}, {\"primary_mode\": \"public_transit\", \"transit_submode\": \"nan\", \"transit_agency\": \"nan\", \"n\": 24, \"n_modes_taken\": 1, \"agency_count\": 1, \"AC TRANSIT\": 0, \"Santa Cruz Metro\": 0, \"SamTrans\": 0, \"San Francisco Municipal Transportation Agency\": 0, \"Sacramento Regional Transit\": 0, \"VTA\": 0, \"Amtrak\": 0, \"Caltrain\": 0, \"Fairfield and Suisun Transit\": 0, \"The S\": 0, \"Tri Delta Transit\": 0, \"Bay Area Rapid Transit\": 0, \"San Joaquin Regional Transit District (RTD)\": 0, \"San Francisco Bay Ferry\": 0, \"nan\": 1, \"Marin Transit\": 0, \"SolTrans\": 0, \"unique_agencies\": \"nan\"}, {\"primary_mode\": \"public_transit\", \"transit_submode\": \"bus, bus, bus, bus\", \"transit_agency\": \"San Francisco Municipal Transportation Agency, San Francisco Municipal Transportation Agency, San Francisco Municipal Transportation Agency, San Francisco Municipal Transportation Agency\", \"n\": 9, \"n_modes_taken\": 4, \"agency_count\": 1, \"AC TRANSIT\": 0, \"Santa Cruz Metro\": 0, \"SamTrans\": 0, \"San Francisco Municipal Transportation Agency\": 4, \"Sacramento Regional Transit\": 0, \"VTA\": 0, \"Amtrak\": 0, \"Caltrain\": 0, \"Fairfield and Suisun Transit\": 0, \"The S\": 0, \"Tri Delta Transit\": 0, \"Bay Area Rapid Transit\": 0, \"San Joaquin Regional Transit District (RTD)\": 0, \"San Francisco Bay Ferry\": 0, \"nan\": 0, \"Marin Transit\": 0, \"SolTrans\": 0, \"unique_agencies\": \"San Francisco Municipal Transportation Agency\"}, {\"primary_mode\": \"public_transit\", \"transit_submode\": \"bus, light_rail, bus\", \"transit_agency\": \"San Francisco Municipal Transportation Agency, San Francisco Municipal Transportation Agency, San Francisco Municipal Transportation Agency\", \"n\": 9, \"n_modes_taken\": 3, \"agency_count\": 1, \"AC TRANSIT\": 0, \"Santa Cruz Metro\": 0, \"SamTrans\": 0, \"San Francisco Municipal Transportation Agency\": 3, \"Sacramento Regional Transit\": 0, \"VTA\": 0, \"Amtrak\": 0, \"Caltrain\": 0, \"Fairfield and Suisun Transit\": 0, \"The S\": 0, \"Tri Delta Transit\": 0, \"Bay Area Rapid Transit\": 0, \"San Joaquin Regional Transit District (RTD)\": 0, \"San Francisco Bay Ferry\": 0, \"nan\": 0, \"Marin Transit\": 0, \"SolTrans\": 0, \"unique_agencies\": \"San Francisco Municipal Transportation Agency\"}, {\"primary_mode\": \"public_transit\", \"transit_submode\": \"rail\", \"transit_agency\": \"Caltrain\", \"n\": 8, \"n_modes_taken\": 1, \"agency_count\": 1, \"AC TRANSIT\": 0, \"Santa Cruz Metro\": 0, \"SamTrans\": 0, \"San Francisco Municipal Transportation Agency\": 0, \"Sacramento Regional Transit\": 0, \"VTA\": 0, \"Amtrak\": 0, \"Caltrain\": 1, \"Fairfield and Suisun Transit\": 0, \"The S\": 0, \"Tri Delta Transit\": 0, \"Bay Area Rapid Transit\": 0, \"San Joaquin Regional Transit District (RTD)\": 0, \"San Francisco Bay Ferry\": 0, \"nan\": 0, \"Marin Transit\": 0, \"SolTrans\": 0, \"unique_agencies\": \"Caltrain\"}, {\"primary_mode\": \"public_transit\", \"transit_submode\": \"bus, bus, bus\", \"transit_agency\": \"AC TRANSIT, AC TRANSIT, AC TRANSIT\", \"n\": 7, \"n_modes_taken\": 3, \"agency_count\": 1, \"AC TRANSIT\": 3, \"Santa Cruz Metro\": 0, \"SamTrans\": 0, \"San Francisco Municipal Transportation Agency\": 0, \"Sacramento Regional Transit\": 0, \"VTA\": 0, \"Amtrak\": 0, \"Caltrain\": 0, \"Fairfield and Suisun Transit\": 0, \"The S\": 0, \"Tri Delta Transit\": 0, \"Bay Area Rapid Transit\": 0, \"San Joaquin Regional Transit District (RTD)\": 0, \"San Francisco Bay Ferry\": 0, \"nan\": 0, \"Marin Transit\": 0, \"SolTrans\": 0, \"unique_agencies\": \"AC TRANSIT\"}, {\"primary_mode\": \"public_transit\", \"transit_submode\": \"bus\", \"transit_agency\": \"VTA\", \"n\": 6, \"n_modes_taken\": 1, \"agency_count\": 1, \"AC TRANSIT\": 0, \"Santa Cruz Metro\": 0, \"SamTrans\": 0, \"San Francisco Municipal Transportation Agency\": 0, \"Sacramento Regional Transit\": 0, \"VTA\": 1, \"Amtrak\": 0, \"Caltrain\": 0, \"Fairfield and Suisun Transit\": 0, \"The S\": 0, \"Tri Delta Transit\": 0, \"Bay Area Rapid Transit\": 0, \"San Joaquin Regional Transit District (RTD)\": 0, \"San Francisco Bay Ferry\": 0, \"nan\": 0, \"Marin Transit\": 0, \"SolTrans\": 0, \"unique_agencies\": \"VTA\"}, {\"primary_mode\": \"public_transit\", \"transit_submode\": \"bus\", \"transit_agency\": \"Marin Transit\", \"n\": 4, \"n_modes_taken\": 1, \"agency_count\": 1, \"AC TRANSIT\": 0, \"Santa Cruz Metro\": 0, \"SamTrans\": 0, \"San Francisco Municipal Transportation Agency\": 0, \"Sacramento Regional Transit\": 0, \"VTA\": 0, \"Amtrak\": 0, \"Caltrain\": 0, \"Fairfield and Suisun Transit\": 0, \"The S\": 0, \"Tri Delta Transit\": 0, \"Bay Area Rapid Transit\": 0, \"San Joaquin Regional Transit District (RTD)\": 0, \"San Francisco Bay Ferry\": 0, \"nan\": 0, \"Marin Transit\": 1, \"SolTrans\": 0, \"unique_agencies\": \"Marin Transit\"}, {\"primary_mode\": \"public_transit\", \"transit_submode\": \"subway\", \"transit_agency\": \"Bay Area Rapid Transit\", \"n\": 4, \"n_modes_taken\": 1, \"agency_count\": 1, \"AC TRANSIT\": 0, \"Santa Cruz Metro\": 0, \"SamTrans\": 0, \"San Francisco Municipal Transportation Agency\": 0, \"Sacramento Regional Transit\": 0, \"VTA\": 0, \"Amtrak\": 0, \"Caltrain\": 0, \"Fairfield and Suisun Transit\": 0, \"The S\": 0, \"Tri Delta Transit\": 0, \"Bay Area Rapid Transit\": 1, \"San Joaquin Regional Transit District (RTD)\": 0, \"San Francisco Bay Ferry\": 0, \"nan\": 0, \"Marin Transit\": 0, \"SolTrans\": 0, \"unique_agencies\": \"Bay Area Rapid Transit\"}, {\"primary_mode\": \"public_transit\", \"transit_submode\": \"bus\", \"transit_agency\": \"SolTrans\", \"n\": 3, \"n_modes_taken\": 1, \"agency_count\": 1, \"AC TRANSIT\": 0, \"Santa Cruz Metro\": 0, \"SamTrans\": 0, \"San Francisco Municipal Transportation Agency\": 0, \"Sacramento Regional Transit\": 0, \"VTA\": 0, \"Amtrak\": 0, \"Caltrain\": 0, \"Fairfield and Suisun Transit\": 0, \"The S\": 0, \"Tri Delta Transit\": 0, \"Bay Area Rapid Transit\": 0, \"San Joaquin Regional Transit District (RTD)\": 0, \"San Francisco Bay Ferry\": 0, \"nan\": 0, \"Marin Transit\": 0, \"SolTrans\": 1, \"unique_agencies\": \"SolTrans\"}, {\"primary_mode\": \"public_transit\", \"transit_submode\": \"bus, light_rail, bus, bus\", \"transit_agency\": \"San Francisco Municipal Transportation Agency, San Francisco Municipal Transportation Agency, San Francisco Municipal Transportation Agency, San Francisco Municipal Transportation Agency\", \"n\": 3, \"n_modes_taken\": 4, \"agency_count\": 1, \"AC TRANSIT\": 0, \"Santa Cruz Metro\": 0, \"SamTrans\": 0, \"San Francisco Municipal Transportation Agency\": 4, \"Sacramento Regional Transit\": 0, \"VTA\": 0, \"Amtrak\": 0, \"Caltrain\": 0, \"Fairfield and Suisun Transit\": 0, \"The S\": 0, \"Tri Delta Transit\": 0, \"Bay Area Rapid Transit\": 0, \"San Joaquin Regional Transit District (RTD)\": 0, \"San Francisco Bay Ferry\": 0, \"nan\": 0, \"Marin Transit\": 0, \"SolTrans\": 0, \"unique_agencies\": \"San Francisco Municipal Transportation Agency\"}, {\"primary_mode\": \"public_transit\", \"transit_submode\": \"bus, bus\", \"transit_agency\": \"SolTrans, SolTrans\", \"n\": 2, \"n_modes_taken\": 2, \"agency_count\": 1, \"AC TRANSIT\": 0, \"Santa Cruz Metro\": 0, \"SamTrans\": 0, \"San Francisco Municipal Transportation Agency\": 0, \"Sacramento Regional Transit\": 0, \"VTA\": 0, \"Amtrak\": 0, \"Caltrain\": 0, \"Fairfield and Suisun Transit\": 0, \"The S\": 0, \"Tri Delta Transit\": 0, \"Bay Area Rapid Transit\": 0, \"San Joaquin Regional Transit District (RTD)\": 0, \"San Francisco Bay Ferry\": 0, \"nan\": 0, \"Marin Transit\": 0, \"SolTrans\": 2, \"unique_agencies\": \"SolTrans\"}, {\"primary_mode\": \"public_transit\", \"transit_submode\": \"bus, bus, bus, bus\", \"transit_agency\": \"AC TRANSIT, AC TRANSIT, AC TRANSIT, AC TRANSIT\", \"n\": 2, \"n_modes_taken\": 4, \"agency_count\": 1, \"AC TRANSIT\": 4, \"Santa Cruz Metro\": 0, \"SamTrans\": 0, \"San Francisco Municipal Transportation Agency\": 0, \"Sacramento Regional Transit\": 0, \"VTA\": 0, \"Amtrak\": 0, \"Caltrain\": 0, \"Fairfield and Suisun Transit\": 0, \"The S\": 0, \"Tri Delta Transit\": 0, \"Bay Area Rapid Transit\": 0, \"San Joaquin Regional Transit District (RTD)\": 0, \"San Francisco Bay Ferry\": 0, \"nan\": 0, \"Marin Transit\": 0, \"SolTrans\": 0, \"unique_agencies\": \"AC TRANSIT\"}, {\"primary_mode\": \"public_transit\", \"transit_submode\": \"bus\", \"transit_agency\": \"SamTrans\", \"n\": 1, \"n_modes_taken\": 1, \"agency_count\": 1, \"AC TRANSIT\": 0, \"Santa Cruz Metro\": 0, \"SamTrans\": 1, \"San Francisco Municipal Transportation Agency\": 0, \"Sacramento Regional Transit\": 0, \"VTA\": 0, \"Amtrak\": 0, \"Caltrain\": 0, \"Fairfield and Suisun Transit\": 0, \"The S\": 0, \"Tri Delta Transit\": 0, \"Bay Area Rapid Transit\": 0, \"San Joaquin Regional Transit District (RTD)\": 0, \"San Francisco Bay Ferry\": 0, \"nan\": 0, \"Marin Transit\": 0, \"SolTrans\": 0, \"unique_agencies\": \"SamTrans\"}, {\"primary_mode\": \"public_transit\", \"transit_submode\": \"bus, bus, bus, light_rail\", \"transit_agency\": \"San Francisco Municipal Transportation Agency, San Francisco Municipal Transportation Agency, San Francisco Municipal Transportation Agency, San Francisco Municipal Transportation Agency\", \"n\": 1, \"n_modes_taken\": 4, \"agency_count\": 1, \"AC TRANSIT\": 0, \"Santa Cruz Metro\": 0, \"SamTrans\": 0, \"San Francisco Municipal Transportation Agency\": 4, \"Sacramento Regional Transit\": 0, \"VTA\": 0, \"Amtrak\": 0, \"Caltrain\": 0, \"Fairfield and Suisun Transit\": 0, \"The S\": 0, \"Tri Delta Transit\": 0, \"Bay Area Rapid Transit\": 0, \"San Joaquin Regional Transit District (RTD)\": 0, \"San Francisco Bay Ferry\": 0, \"nan\": 0, \"Marin Transit\": 0, \"SolTrans\": 0, \"unique_agencies\": \"San Francisco Municipal Transportation Agency\"}, {\"primary_mode\": \"public_transit\", \"transit_submode\": \"bus, bus, cable_car\", \"transit_agency\": \"San Francisco Municipal Transportation Agency, San Francisco Municipal Transportation Agency, San Francisco Municipal Transportation Agency\", \"n\": 1, \"n_modes_taken\": 3, \"agency_count\": 1, \"AC TRANSIT\": 0, \"Santa Cruz Metro\": 0, \"SamTrans\": 0, \"San Francisco Municipal Transportation Agency\": 3, \"Sacramento Regional Transit\": 0, \"VTA\": 0, \"Amtrak\": 0, \"Caltrain\": 0, \"Fairfield and Suisun Transit\": 0, \"The S\": 0, \"Tri Delta Transit\": 0, \"Bay Area Rapid Transit\": 0, \"San Joaquin Regional Transit District (RTD)\": 0, \"San Francisco Bay Ferry\": 0, \"nan\": 0, \"Marin Transit\": 0, \"SolTrans\": 0, \"unique_agencies\": \"San Francisco Municipal Transportation Agency\"}, {\"primary_mode\": \"public_transit\", \"transit_submode\": \"bus, bus, light_rail, bus\", \"transit_agency\": \"San Francisco Municipal Transportation Agency, San Francisco Municipal Transportation Agency, San Francisco Municipal Transportation Agency, San Francisco Municipal Transportation Agency\", \"n\": 1, \"n_modes_taken\": 4, \"agency_count\": 1, \"AC TRANSIT\": 0, \"Santa Cruz Metro\": 0, \"SamTrans\": 0, \"San Francisco Municipal Transportation Agency\": 4, \"Sacramento Regional Transit\": 0, \"VTA\": 0, \"Amtrak\": 0, \"Caltrain\": 0, \"Fairfield and Suisun Transit\": 0, \"The S\": 0, \"Tri Delta Transit\": 0, \"Bay Area Rapid Transit\": 0, \"San Joaquin Regional Transit District (RTD)\": 0, \"San Francisco Bay Ferry\": 0, \"nan\": 0, \"Marin Transit\": 0, \"SolTrans\": 0, \"unique_agencies\": \"San Francisco Municipal Transportation Agency\"}, {\"primary_mode\": \"public_transit\", \"transit_submode\": \"light_rail\", \"transit_agency\": \"VTA\", \"n\": 1, \"n_modes_taken\": 1, \"agency_count\": 1, \"AC TRANSIT\": 0, \"Santa Cruz Metro\": 0, \"SamTrans\": 0, \"San Francisco Municipal Transportation Agency\": 0, \"Sacramento Regional Transit\": 0, \"VTA\": 1, \"Amtrak\": 0, \"Caltrain\": 0, \"Fairfield and Suisun Transit\": 0, \"The S\": 0, \"Tri Delta Transit\": 0, \"Bay Area Rapid Transit\": 0, \"San Joaquin Regional Transit District (RTD)\": 0, \"San Francisco Bay Ferry\": 0, \"nan\": 0, \"Marin Transit\": 0, \"SolTrans\": 0, \"unique_agencies\": \"VTA\"}, {\"primary_mode\": \"public_transit\", \"transit_submode\": \"light_rail, light_rail, bus\", \"transit_agency\": \"San Francisco Municipal Transportation Agency, San Francisco Municipal Transportation Agency, San Francisco Municipal Transportation Agency\", \"n\": 1, \"n_modes_taken\": 3, \"agency_count\": 1, \"AC TRANSIT\": 0, \"Santa Cruz Metro\": 0, \"SamTrans\": 0, \"San Francisco Municipal Transportation Agency\": 3, \"Sacramento Regional Transit\": 0, \"VTA\": 0, \"Amtrak\": 0, \"Caltrain\": 0, \"Fairfield and Suisun Transit\": 0, \"The S\": 0, \"Tri Delta Transit\": 0, \"Bay Area Rapid Transit\": 0, \"San Joaquin Regional Transit District (RTD)\": 0, \"San Francisco Bay Ferry\": 0, \"nan\": 0, \"Marin Transit\": 0, \"SolTrans\": 0, \"unique_agencies\": \"San Francisco Municipal Transportation Agency\"}]}}, {\"mode\": \"vega-lite\"});\n",
       "</script>"
      ],
      "text/plain": [
       "alt.Chart(...)"
      ]
     },
     "execution_count": 74,
     "metadata": {},
     "output_type": "execute_result"
    }
   ],
   "source": [
    "chart = (alt.Chart((df>>filter(_.agency_count==1)))\n",
    "             .mark_bar()\n",
    "             .encode(\n",
    "                 x=alt.X(\"unique_agencies\", title=\"Agency\"),\n",
    "                 y=alt.Y(\"n\", title=\"Number of Modes taken\"),\n",
    "                 color = alt.Color(\"n_modes_taken\", title=\"Number of Trips\",\n",
    "                                  scale=alt.Scale(\n",
    "                                      range=cp.CALITP_SEQUENTIAL_COLORS,)),\n",
    "            tooltip=cols_to_keep)\n",
    "        .properties(title = (\"Transit Trips With Only One Agency\"), width=800,\n",
    "    height=500)\n",
    "        )\n",
    "chart           "
   ]
  },
  {
   "cell_type": "code",
   "execution_count": 75,
   "id": "60df338f-801f-49a1-a26f-0be5e03bddf3",
   "metadata": {},
   "outputs": [
    {
     "data": {
      "text/html": [
       "<h4><strong>Most Common Agency Combination</strong></h4>"
      ],
      "text/plain": [
       "<IPython.core.display.HTML object>"
      ]
     },
     "metadata": {},
     "output_type": "display_data"
    },
    {
     "data": {
      "text/html": [
       "<div>\n",
       "<style scoped>\n",
       "    .dataframe tbody tr th:only-of-type {\n",
       "        vertical-align: middle;\n",
       "    }\n",
       "\n",
       "    .dataframe tbody tr th {\n",
       "        vertical-align: top;\n",
       "    }\n",
       "\n",
       "    .dataframe thead th {\n",
       "        text-align: right;\n",
       "    }\n",
       "</style>\n",
       "<table border=\"1\" class=\"dataframe\">\n",
       "  <thead>\n",
       "    <tr style=\"text-align: right;\">\n",
       "      <th></th>\n",
       "      <th>transit_agency</th>\n",
       "    </tr>\n",
       "  </thead>\n",
       "  <tbody>\n",
       "    <tr>\n",
       "      <th>0</th>\n",
       "      <td>AC TRANSIT</td>\n",
       "    </tr>\n",
       "    <tr>\n",
       "      <th>12</th>\n",
       "      <td>San Francisco Municipal Transportation Agency, AC TRANSIT</td>\n",
       "    </tr>\n",
       "    <tr>\n",
       "      <th>8</th>\n",
       "      <td>AC TRANSIT, San Francisco Municipal Transportation Agency</td>\n",
       "    </tr>\n",
       "    <tr>\n",
       "      <th>6</th>\n",
       "      <td>AC TRANSIT, AC TRANSIT</td>\n",
       "    </tr>\n",
       "    <tr>\n",
       "      <th>75</th>\n",
       "      <td>AC TRANSIT, San Francisco Municipal Transportation Agency</td>\n",
       "    </tr>\n",
       "  </tbody>\n",
       "</table>\n",
       "</div>"
      ],
      "text/plain": [
       "                                               transit_agency\n",
       "0                                                  AC TRANSIT\n",
       "12  San Francisco Municipal Transportation Agency, AC TRANSIT\n",
       "8   AC TRANSIT, San Francisco Municipal Transportation Agency\n",
       "6                                      AC TRANSIT, AC TRANSIT\n",
       "75  AC TRANSIT, San Francisco Municipal Transportation Agency"
      ]
     },
     "execution_count": 75,
     "metadata": {},
     "output_type": "execute_result"
    }
   ],
   "source": [
    "display(HTML(\"<h4><strong>Most Common Agency Combination</strong></h4>\")) \n",
    "\n",
    "(df>>arrange(-_.n)>>select(_.transit_agency)).head(5)"
   ]
  },
  {
   "cell_type": "code",
   "execution_count": null,
   "id": "786394ef-be26-4e0d-94e7-35386d6d67c0",
   "metadata": {},
   "outputs": [],
   "source": []
  },
  {
   "cell_type": "code",
   "execution_count": null,
   "id": "fd43ab95-0391-407b-b6b0-185034ba9528",
   "metadata": {},
   "outputs": [],
   "source": []
  },
  {
   "cell_type": "code",
   "execution_count": 76,
   "id": "8af03d60-4537-44d3-b82f-d857625e47c3",
   "metadata": {},
   "outputs": [],
   "source": [
    "columns_to_keep = [\"AC TRANSIT\",\n",
    "                   \"San Francisco Bay Ferry\",\n",
    "                   \"SolTrans\",\n",
    "                   \"Caltrain\",\n",
    "                   \"SamTrans\",\n",
    "                   \"The S\",\n",
    "                   \"Fairfield and Suisun Transit\",\n",
    "                   \"Sacramento Regional Transit\",\n",
    "                   \"Marin Transit\",\n",
    "                   \"Tri Delta Transit\",\n",
    "                   \"San Francisco Municipal Transportation Agency\",\n",
    "                   \"Amtrak\",\n",
    "                   \"San Joaquin Regional Transit District (RTD)\",\n",
    "                   \"Bay Area Rapid Transit\",\n",
    "                   \"Santa Cruz Metro\",\n",
    "                   \"VTA\"\n",
    "                  ]"
   ]
  },
  {
   "cell_type": "code",
   "execution_count": 124,
   "id": "6951b590-cef8-44bd-b27d-0b18893609c5",
   "metadata": {},
   "outputs": [],
   "source": [
    "# agency_indv_count.sample()"
   ]
  },
  {
   "cell_type": "code",
   "execution_count": 78,
   "id": "cca56d58-5e3f-430c-adde-15ca665d46f8",
   "metadata": {},
   "outputs": [],
   "source": [
    "df_agencies = agency_indv_count.loc[:, columns_to_keep]"
   ]
  },
  {
   "cell_type": "code",
   "execution_count": 79,
   "id": "814dde3a-d303-4044-9df1-464e408bf460",
   "metadata": {},
   "outputs": [],
   "source": [
    "df_agencies = pd.DataFrame(df_agencies).transpose().reset_index().rename(columns={'index':'agency'})"
   ]
  },
  {
   "cell_type": "code",
   "execution_count": 123,
   "id": "84174911-2243-430c-ab73-1fecb2552094",
   "metadata": {},
   "outputs": [],
   "source": [
    "# df_agencies"
   ]
  },
  {
   "cell_type": "code",
   "execution_count": 81,
   "id": "202923d2-b869-4a72-8a02-ce229a65d815",
   "metadata": {},
   "outputs": [
    {
     "name": "stderr",
     "output_type": "stream",
     "text": [
      "/tmp/ipykernel_306/2517619377.py:1: FutureWarning: Dropping of nuisance columns in DataFrame reductions (with 'numeric_only=None') is deprecated; in a future version this will raise TypeError.  Select only valid columns before calling the reduction.\n",
      "  df_agencies['n_trips'] = df_agencies[list(df_agencies.columns)].sum(axis=1)\n"
     ]
    }
   ],
   "source": [
    "df_agencies['n_trips'] = df_agencies[list(df_agencies.columns)].sum(axis=1)"
   ]
  },
  {
   "cell_type": "code",
   "execution_count": 82,
   "id": "2b31eb23-e1e6-43c6-8b0e-ccb3802cd09d",
   "metadata": {},
   "outputs": [],
   "source": [
    "df_agencies = df_agencies>>select(_.agency, _.n_trips)"
   ]
  },
  {
   "cell_type": "code",
   "execution_count": 83,
   "id": "f98c76b9-b83f-42c3-aa12-702ade72ac38",
   "metadata": {},
   "outputs": [],
   "source": [
    "tooltip_cols = [\"agency\", \"n_trips\"]"
   ]
  },
  {
   "cell_type": "code",
   "execution_count": 131,
   "id": "f1267faf-e28c-4208-ae79-43b31f67f705",
   "metadata": {},
   "outputs": [],
   "source": [
    "# df_agencies"
   ]
  },
  {
   "cell_type": "code",
   "execution_count": 85,
   "id": "bf160b81-1bc2-4374-9529-6400252d5e4f",
   "metadata": {},
   "outputs": [
    {
     "data": {
      "text/html": [
       "\n",
       "<style>\n",
       "  #altair-viz-3bbd2587922343219dcac007484b82ed.vega-embed {\n",
       "    width: 100%;\n",
       "    display: flex;\n",
       "  }\n",
       "\n",
       "  #altair-viz-3bbd2587922343219dcac007484b82ed.vega-embed details,\n",
       "  #altair-viz-3bbd2587922343219dcac007484b82ed.vega-embed details summary {\n",
       "    position: relative;\n",
       "  }\n",
       "</style>\n",
       "<div id=\"altair-viz-3bbd2587922343219dcac007484b82ed\"></div>\n",
       "<script type=\"text/javascript\">\n",
       "  var VEGA_DEBUG = (typeof VEGA_DEBUG == \"undefined\") ? {} : VEGA_DEBUG;\n",
       "  (function(spec, embedOpt){\n",
       "    let outputDiv = document.currentScript.previousElementSibling;\n",
       "    if (outputDiv.id !== \"altair-viz-3bbd2587922343219dcac007484b82ed\") {\n",
       "      outputDiv = document.getElementById(\"altair-viz-3bbd2587922343219dcac007484b82ed\");\n",
       "    }\n",
       "    const paths = {\n",
       "      \"vega\": \"https://cdn.jsdelivr.net/npm/vega@5?noext\",\n",
       "      \"vega-lib\": \"https://cdn.jsdelivr.net/npm/vega-lib?noext\",\n",
       "      \"vega-lite\": \"https://cdn.jsdelivr.net/npm/vega-lite@5.14.1?noext\",\n",
       "      \"vega-embed\": \"https://cdn.jsdelivr.net/npm/vega-embed@6?noext\",\n",
       "    };\n",
       "\n",
       "    function maybeLoadScript(lib, version) {\n",
       "      var key = `${lib.replace(\"-\", \"\")}_version`;\n",
       "      return (VEGA_DEBUG[key] == version) ?\n",
       "        Promise.resolve(paths[lib]) :\n",
       "        new Promise(function(resolve, reject) {\n",
       "          var s = document.createElement('script');\n",
       "          document.getElementsByTagName(\"head\")[0].appendChild(s);\n",
       "          s.async = true;\n",
       "          s.onload = () => {\n",
       "            VEGA_DEBUG[key] = version;\n",
       "            return resolve(paths[lib]);\n",
       "          };\n",
       "          s.onerror = () => reject(`Error loading script: ${paths[lib]}`);\n",
       "          s.src = paths[lib];\n",
       "        });\n",
       "    }\n",
       "\n",
       "    function showError(err) {\n",
       "      outputDiv.innerHTML = `<div class=\"error\" style=\"color:red;\">${err}</div>`;\n",
       "      throw err;\n",
       "    }\n",
       "\n",
       "    function displayChart(vegaEmbed) {\n",
       "      vegaEmbed(outputDiv, spec, embedOpt)\n",
       "        .catch(err => showError(`Javascript Error: ${err.message}<br>This usually means there's a typo in your chart specification. See the javascript console for the full traceback.`));\n",
       "    }\n",
       "\n",
       "    if(typeof define === \"function\" && define.amd) {\n",
       "      requirejs.config({paths});\n",
       "      require([\"vega-embed\"], displayChart, err => showError(`Error loading script: ${err.message}`));\n",
       "    } else {\n",
       "      maybeLoadScript(\"vega\", \"5\")\n",
       "        .then(() => maybeLoadScript(\"vega-lite\", \"5.14.1\"))\n",
       "        .then(() => maybeLoadScript(\"vega-embed\", \"6\"))\n",
       "        .catch(showError)\n",
       "        .then(() => displayChart(vegaEmbed));\n",
       "    }\n",
       "  })({\"config\": {\"view\": {\"continuousWidth\": 300, \"continuousHeight\": 300}}, \"data\": {\"name\": \"data-c88b2f05f729ffda512307e7f582e7bd\"}, \"mark\": {\"type\": \"bar\"}, \"encoding\": {\"color\": {\"field\": \"n_trips\", \"scale\": {\"range\": [\"#B9D6DF\", \"#8CBCCB\", \"#2EA8CE\", \"#136C97\", \"#0B405B\"]}, \"type\": \"quantitative\"}, \"tooltip\": [{\"field\": \"agency\", \"type\": \"nominal\"}, {\"field\": \"n_trips\", \"type\": \"quantitative\"}], \"x\": {\"field\": \"agency\", \"title\": \"Agency Name\", \"type\": \"nominal\"}, \"y\": {\"field\": \"n_trips\", \"title\": \"Number of boardings reported for trips (One person taking two AC Transit trips will count as 2)\", \"type\": \"quantitative\"}}, \"height\": 500, \"title\": \"Number of Times an Agency was used for Trip taking over Bay Bridge\", \"width\": 800, \"$schema\": \"https://vega.github.io/schema/vega-lite/v5.14.1.json\", \"datasets\": {\"data-c88b2f05f729ffda512307e7f582e7bd\": [{\"agency\": \"AC TRANSIT\", \"n_trips\": 5438}, {\"agency\": \"San Francisco Bay Ferry\", \"n_trips\": 4}, {\"agency\": \"SolTrans\", \"n_trips\": 54}, {\"agency\": \"Caltrain\", \"n_trips\": 50}, {\"agency\": \"SamTrans\", \"n_trips\": 72}, {\"agency\": \"The S\", \"n_trips\": 6}, {\"agency\": \"Fairfield and Suisun Transit\", \"n_trips\": 1}, {\"agency\": \"Sacramento Regional Transit\", \"n_trips\": 9}, {\"agency\": \"Marin Transit\", \"n_trips\": 4}, {\"agency\": \"Tri Delta Transit\", \"n_trips\": 1}, {\"agency\": \"San Francisco Municipal Transportation Agency\", \"n_trips\": 3840}, {\"agency\": \"Amtrak\", \"n_trips\": 17}, {\"agency\": \"San Joaquin Regional Transit District (RTD)\", \"n_trips\": 0}, {\"agency\": \"Bay Area Rapid Transit\", \"n_trips\": 261}, {\"agency\": \"Santa Cruz Metro\", \"n_trips\": 1}, {\"agency\": \"VTA\", \"n_trips\": 33}]}}, {\"mode\": \"vega-lite\"});\n",
       "</script>"
      ],
      "text/plain": [
       "alt.Chart(...)"
      ]
     },
     "execution_count": 85,
     "metadata": {},
     "output_type": "execute_result"
    }
   ],
   "source": [
    "chart = (alt.Chart(df_agencies)\n",
    "        .mark_bar()\n",
    "        .encode(\n",
    "            x=alt.X(\"agency\", title = \"Agency Name\"),\n",
    "            y=alt.Y(\"n_trips\", title= \"Number of boardings reported for trips (One person taking two AC Transit trips will count as 2)\"),\n",
    "            color=alt.Color(\"n_trips\", scale=alt.Scale(range = cp.CALITP_SEQUENTIAL_COLORS)),\n",
    "            tooltip = tooltip_cols)\n",
    "      .properties(title = \"Number of Times an Agency was used for Trip taking over Bay Bridge\",\n",
    "    width=800,\n",
    "    height=500)\n",
    "        )\n",
    "chart "
   ]
  },
  {
   "cell_type": "code",
   "execution_count": null,
   "id": "2b5b0cb2-465f-4e1f-83f4-7ae31396d012",
   "metadata": {},
   "outputs": [],
   "source": []
  },
  {
   "cell_type": "code",
   "execution_count": null,
   "id": "a59f170f-b2e0-41b3-ae7a-1ae4eca12596",
   "metadata": {},
   "outputs": [],
   "source": []
  },
  {
   "cell_type": "code",
   "execution_count": 86,
   "id": "16b45917-adc3-44d0-8d76-15ccd4083d26",
   "metadata": {},
   "outputs": [
    {
     "data": {
      "text/html": [
       "<h4><strong>Trips by Resident Type</strong></h4>"
      ],
      "text/plain": [
       "<IPython.core.display.HTML object>"
      ]
     },
     "metadata": {},
     "output_type": "display_data"
    }
   ],
   "source": [
    "display(HTML(\"<h4><strong>Trips by Resident Type</strong></h4>\")) \n"
   ]
  },
  {
   "cell_type": "code",
   "execution_count": 87,
   "id": "5163926e-82bd-4c25-9486-45229d09a0d1",
   "metadata": {},
   "outputs": [],
   "source": [
    "trip_by_res_type = (r_trips\n",
    " >>group_by(_.primary_mode,_.trip_taker_resident_type)\n",
    " >>summarize(number_trips = _.activity_id.nunique())\n",
    " >>arrange(_.primary_mode))"
   ]
  },
  {
   "cell_type": "code",
   "execution_count": 125,
   "id": "636e7771-0ba7-42e9-af1d-e3e998ff8599",
   "metadata": {},
   "outputs": [
    {
     "data": {
      "text/html": [
       "<div>\n",
       "<style scoped>\n",
       "    .dataframe tbody tr th:only-of-type {\n",
       "        vertical-align: middle;\n",
       "    }\n",
       "\n",
       "    .dataframe tbody tr th {\n",
       "        vertical-align: top;\n",
       "    }\n",
       "\n",
       "    .dataframe thead th {\n",
       "        text-align: right;\n",
       "    }\n",
       "</style>\n",
       "<table border=\"1\" class=\"dataframe\">\n",
       "  <thead>\n",
       "    <tr style=\"text-align: right;\">\n",
       "      <th></th>\n",
       "      <th>primary_mode</th>\n",
       "      <th>trip_taker_resident_type</th>\n",
       "      <th>number_trips</th>\n",
       "    </tr>\n",
       "  </thead>\n",
       "  <tbody>\n",
       "    <tr>\n",
       "      <th>0</th>\n",
       "      <td>auto_passenger</td>\n",
       "      <td>core</td>\n",
       "      <td>367739</td>\n",
       "    </tr>\n",
       "    <tr>\n",
       "      <th>1</th>\n",
       "      <td>auto_passenger</td>\n",
       "      <td>visitor</td>\n",
       "      <td>23552</td>\n",
       "    </tr>\n",
       "    <tr>\n",
       "      <th>2</th>\n",
       "      <td>commercial</td>\n",
       "      <td>NaN</td>\n",
       "      <td>11897</td>\n",
       "    </tr>\n",
       "    <tr>\n",
       "      <th>3</th>\n",
       "      <td>on_demand_auto</td>\n",
       "      <td>core</td>\n",
       "      <td>24372</td>\n",
       "    </tr>\n",
       "    <tr>\n",
       "      <th>4</th>\n",
       "      <td>on_demand_auto</td>\n",
       "      <td>visitor</td>\n",
       "      <td>2581</td>\n",
       "    </tr>\n",
       "    <tr>\n",
       "      <th>5</th>\n",
       "      <td>private_auto</td>\n",
       "      <td>core</td>\n",
       "      <td>232486</td>\n",
       "    </tr>\n",
       "    <tr>\n",
       "      <th>6</th>\n",
       "      <td>private_auto</td>\n",
       "      <td>visitor</td>\n",
       "      <td>6204</td>\n",
       "    </tr>\n",
       "    <tr>\n",
       "      <th>7</th>\n",
       "      <td>public_transit</td>\n",
       "      <td>core</td>\n",
       "      <td>5986</td>\n",
       "    </tr>\n",
       "    <tr>\n",
       "      <th>8</th>\n",
       "      <td>public_transit</td>\n",
       "      <td>visitor</td>\n",
       "      <td>47</td>\n",
       "    </tr>\n",
       "  </tbody>\n",
       "</table>\n",
       "</div>"
      ],
      "text/plain": [
       "     primary_mode trip_taker_resident_type  number_trips\n",
       "0  auto_passenger                     core        367739\n",
       "1  auto_passenger                  visitor         23552\n",
       "2      commercial                      NaN         11897\n",
       "3  on_demand_auto                     core         24372\n",
       "4  on_demand_auto                  visitor          2581\n",
       "5    private_auto                     core        232486\n",
       "6    private_auto                  visitor          6204\n",
       "7  public_transit                     core          5986\n",
       "8  public_transit                  visitor            47"
      ]
     },
     "execution_count": 125,
     "metadata": {},
     "output_type": "execute_result"
    }
   ],
   "source": [
    "trip_by_res_type"
   ]
  },
  {
   "cell_type": "code",
   "execution_count": 159,
   "id": "90c5d683-91c5-4663-accd-4e45027a3e49",
   "metadata": {},
   "outputs": [
    {
     "data": {
      "text/html": [
       "\n",
       "<style>\n",
       "  #altair-viz-ddea781920ca44cf8847da348198bc45.vega-embed {\n",
       "    width: 100%;\n",
       "    display: flex;\n",
       "  }\n",
       "\n",
       "  #altair-viz-ddea781920ca44cf8847da348198bc45.vega-embed details,\n",
       "  #altair-viz-ddea781920ca44cf8847da348198bc45.vega-embed details summary {\n",
       "    position: relative;\n",
       "  }\n",
       "</style>\n",
       "<div id=\"altair-viz-ddea781920ca44cf8847da348198bc45\"></div>\n",
       "<script type=\"text/javascript\">\n",
       "  var VEGA_DEBUG = (typeof VEGA_DEBUG == \"undefined\") ? {} : VEGA_DEBUG;\n",
       "  (function(spec, embedOpt){\n",
       "    let outputDiv = document.currentScript.previousElementSibling;\n",
       "    if (outputDiv.id !== \"altair-viz-ddea781920ca44cf8847da348198bc45\") {\n",
       "      outputDiv = document.getElementById(\"altair-viz-ddea781920ca44cf8847da348198bc45\");\n",
       "    }\n",
       "    const paths = {\n",
       "      \"vega\": \"https://cdn.jsdelivr.net/npm/vega@5?noext\",\n",
       "      \"vega-lib\": \"https://cdn.jsdelivr.net/npm/vega-lib?noext\",\n",
       "      \"vega-lite\": \"https://cdn.jsdelivr.net/npm/vega-lite@5.14.1?noext\",\n",
       "      \"vega-embed\": \"https://cdn.jsdelivr.net/npm/vega-embed@6?noext\",\n",
       "    };\n",
       "\n",
       "    function maybeLoadScript(lib, version) {\n",
       "      var key = `${lib.replace(\"-\", \"\")}_version`;\n",
       "      return (VEGA_DEBUG[key] == version) ?\n",
       "        Promise.resolve(paths[lib]) :\n",
       "        new Promise(function(resolve, reject) {\n",
       "          var s = document.createElement('script');\n",
       "          document.getElementsByTagName(\"head\")[0].appendChild(s);\n",
       "          s.async = true;\n",
       "          s.onload = () => {\n",
       "            VEGA_DEBUG[key] = version;\n",
       "            return resolve(paths[lib]);\n",
       "          };\n",
       "          s.onerror = () => reject(`Error loading script: ${paths[lib]}`);\n",
       "          s.src = paths[lib];\n",
       "        });\n",
       "    }\n",
       "\n",
       "    function showError(err) {\n",
       "      outputDiv.innerHTML = `<div class=\"error\" style=\"color:red;\">${err}</div>`;\n",
       "      throw err;\n",
       "    }\n",
       "\n",
       "    function displayChart(vegaEmbed) {\n",
       "      vegaEmbed(outputDiv, spec, embedOpt)\n",
       "        .catch(err => showError(`Javascript Error: ${err.message}<br>This usually means there's a typo in your chart specification. See the javascript console for the full traceback.`));\n",
       "    }\n",
       "\n",
       "    if(typeof define === \"function\" && define.amd) {\n",
       "      requirejs.config({paths});\n",
       "      require([\"vega-embed\"], displayChart, err => showError(`Error loading script: ${err.message}`));\n",
       "    } else {\n",
       "      maybeLoadScript(\"vega\", \"5\")\n",
       "        .then(() => maybeLoadScript(\"vega-lite\", \"5.14.1\"))\n",
       "        .then(() => maybeLoadScript(\"vega-embed\", \"6\"))\n",
       "        .catch(showError)\n",
       "        .then(() => displayChart(vegaEmbed));\n",
       "    }\n",
       "  })({\"config\": {\"view\": {\"continuousWidth\": 300, \"continuousHeight\": 300}}, \"data\": {\"name\": \"data-528534624f8069c35e0920aefe8f9b51\"}, \"mark\": {\"type\": \"bar\"}, \"encoding\": {\"color\": {\"field\": \"trip_taker_resident_type\", \"scale\": {\"domain\": [\"core\", \"visitor\", NaN], \"range\": [\"#E16B26\", \"#EB9F3C\", \"#f6e7e1\", \"#8CBCCB\", \"#2EA8CE\", \"#136C97\"]}, \"type\": \"nominal\"}, \"tooltip\": [{\"field\": \"primary_mode\", \"type\": \"nominal\"}, {\"field\": \"trip_taker_resident_type\", \"type\": \"nominal\"}, {\"field\": \"number_trips\", \"type\": \"quantitative\"}], \"x\": {\"field\": \"primary_mode\", \"title\": \"Mode\", \"type\": \"nominal\"}, \"y\": {\"field\": \"number_trips\", \"title\": \"Number of Trips\", \"type\": \"quantitative\"}}, \"height\": 500, \"title\": \"Trips by Resident Type\", \"width\": 800, \"$schema\": \"https://vega.github.io/schema/vega-lite/v5.14.1.json\", \"datasets\": {\"data-528534624f8069c35e0920aefe8f9b51\": [{\"primary_mode\": \"auto_passenger\", \"trip_taker_resident_type\": \"core\", \"number_trips\": 367739}, {\"primary_mode\": \"auto_passenger\", \"trip_taker_resident_type\": \"visitor\", \"number_trips\": 23552}, {\"primary_mode\": \"commercial\", \"trip_taker_resident_type\": null, \"number_trips\": 11897}, {\"primary_mode\": \"on_demand_auto\", \"trip_taker_resident_type\": \"core\", \"number_trips\": 24372}, {\"primary_mode\": \"on_demand_auto\", \"trip_taker_resident_type\": \"visitor\", \"number_trips\": 2581}, {\"primary_mode\": \"private_auto\", \"trip_taker_resident_type\": \"core\", \"number_trips\": 232486}, {\"primary_mode\": \"private_auto\", \"trip_taker_resident_type\": \"visitor\", \"number_trips\": 6204}, {\"primary_mode\": \"public_transit\", \"trip_taker_resident_type\": \"core\", \"number_trips\": 5986}, {\"primary_mode\": \"public_transit\", \"trip_taker_resident_type\": \"visitor\", \"number_trips\": 47}]}}, {\"mode\": \"vega-lite\"});\n",
       "</script>"
      ],
      "text/plain": [
       "alt.Chart(...)"
      ]
     },
     "execution_count": 159,
     "metadata": {},
     "output_type": "execute_result"
    }
   ],
   "source": [
    "chart = (\n",
    "        alt.Chart(trip_by_res_type)\n",
    "        .mark_bar()\n",
    "        .encode(\n",
    "            x=alt.X(\"primary_mode\", title = \"Mode\"),\n",
    "            y=alt.Y(\"number_trips\", title = \"Number of Trips\"),\n",
    "            color=alt.Color(\"trip_taker_resident_type\", scale=alt.Scale(range = cp.CALITP_DIVERGING_COLORS,\n",
    "                                                                         domain=trip_by_res_type[\"trip_taker_resident_type\"].unique().tolist())\n",
    "            ),\n",
    "            tooltip=trip_by_res_type.columns.tolist())\n",
    "      .properties(title = \"Trips by Resident Type\",\n",
    "    width=800,\n",
    "    height=500)\n",
    "        )\n",
    "chart "
   ]
  },
  {
   "cell_type": "code",
   "execution_count": null,
   "id": "f7b51fbb-8b87-4863-bcd9-50ed5047d7d6",
   "metadata": {},
   "outputs": [],
   "source": []
  },
  {
   "cell_type": "code",
   "execution_count": 90,
   "id": "878c5c8e-18c3-456a-b641-67ad010f5101",
   "metadata": {},
   "outputs": [
    {
     "data": {
      "text/html": [
       "<h4><strong>Unique Household Ids</strong></h4>"
      ],
      "text/plain": [
       "<IPython.core.display.HTML object>"
      ]
     },
     "metadata": {},
     "output_type": "display_data"
    }
   ],
   "source": [
    "display(HTML(\"<h4><strong>Unique Household Ids</strong></h4>\")) "
   ]
  },
  {
   "cell_type": "code",
   "execution_count": 91,
   "id": "2a31bf27-ccc4-4ce3-8b6a-31dbd14caaf2",
   "metadata": {},
   "outputs": [
    {
     "data": {
      "text/html": [
       "<div>\n",
       "<style scoped>\n",
       "    .dataframe tbody tr th:only-of-type {\n",
       "        vertical-align: middle;\n",
       "    }\n",
       "\n",
       "    .dataframe tbody tr th {\n",
       "        vertical-align: top;\n",
       "    }\n",
       "\n",
       "    .dataframe thead th {\n",
       "        text-align: right;\n",
       "    }\n",
       "</style>\n",
       "<table border=\"1\" class=\"dataframe\">\n",
       "  <thead>\n",
       "    <tr style=\"text-align: right;\">\n",
       "      <th></th>\n",
       "      <th>trip_taker_household_id</th>\n",
       "      <th>n</th>\n",
       "    </tr>\n",
       "  </thead>\n",
       "  <tbody>\n",
       "    <tr>\n",
       "      <th>248686</th>\n",
       "      <td></td>\n",
       "      <td>27897</td>\n",
       "    </tr>\n",
       "    <tr>\n",
       "      <th>262322</th>\n",
       "      <td>NaN</td>\n",
       "      <td>16384</td>\n",
       "    </tr>\n",
       "    <tr>\n",
       "      <th>110604</th>\n",
       "      <td>8194219563640751815</td>\n",
       "      <td>28</td>\n",
       "    </tr>\n",
       "    <tr>\n",
       "      <th>82299</th>\n",
       "      <td>6097771312917788596</td>\n",
       "      <td>27</td>\n",
       "    </tr>\n",
       "    <tr>\n",
       "      <th>74914</th>\n",
       "      <td>5552467881171814730</td>\n",
       "      <td>22</td>\n",
       "    </tr>\n",
       "    <tr>\n",
       "      <th>...</th>\n",
       "      <td>...</td>\n",
       "      <td>...</td>\n",
       "    </tr>\n",
       "    <tr>\n",
       "      <th>262312</th>\n",
       "      <td>9988489366890220188</td>\n",
       "      <td>1</td>\n",
       "    </tr>\n",
       "    <tr>\n",
       "      <th>262316</th>\n",
       "      <td>9991342309439330560</td>\n",
       "      <td>1</td>\n",
       "    </tr>\n",
       "    <tr>\n",
       "      <th>262317</th>\n",
       "      <td>9992490903429866665</td>\n",
       "      <td>1</td>\n",
       "    </tr>\n",
       "    <tr>\n",
       "      <th>262318</th>\n",
       "      <td>9992599661009943006</td>\n",
       "      <td>1</td>\n",
       "    </tr>\n",
       "    <tr>\n",
       "      <th>262319</th>\n",
       "      <td>9993588483694519152</td>\n",
       "      <td>1</td>\n",
       "    </tr>\n",
       "  </tbody>\n",
       "</table>\n",
       "<p>262323 rows × 2 columns</p>\n",
       "</div>"
      ],
      "text/plain": [
       "       trip_taker_household_id      n\n",
       "248686                          27897\n",
       "262322                     NaN  16384\n",
       "110604     8194219563640751815     28\n",
       "82299      6097771312917788596     27\n",
       "74914      5552467881171814730     22\n",
       "...                        ...    ...\n",
       "262312     9988489366890220188      1\n",
       "262316     9991342309439330560      1\n",
       "262317     9992490903429866665      1\n",
       "262318     9992599661009943006      1\n",
       "262319     9993588483694519152      1\n",
       "\n",
       "[262323 rows x 2 columns]"
      ]
     },
     "execution_count": 91,
     "metadata": {},
     "output_type": "execute_result"
    }
   ],
   "source": [
    "r_trips>>count(_.trip_taker_household_id)>>arrange(-_.n)"
   ]
  },
  {
   "cell_type": "code",
   "execution_count": 92,
   "id": "eb9780a3-b996-45af-9cc3-b41629ec0e55",
   "metadata": {},
   "outputs": [
    {
     "data": {
      "text/html": [
       "<h4><strong>Checking one household id</strong></h4>"
      ],
      "text/plain": [
       "<IPython.core.display.HTML object>"
      ]
     },
     "metadata": {},
     "output_type": "display_data"
    }
   ],
   "source": [
    "display(HTML(\"<h4><strong>Checking one household id</strong></h4>\")) \n"
   ]
  },
  {
   "cell_type": "code",
   "execution_count": 93,
   "id": "6fc3be54-b8dc-4cf8-893e-565ffa02934d",
   "metadata": {},
   "outputs": [
    {
     "name": "stdout",
     "output_type": "stream",
     "text": [
      "28\n"
     ]
    },
    {
     "data": {
      "text/html": [
       "<div>\n",
       "<style scoped>\n",
       "    .dataframe tbody tr th:only-of-type {\n",
       "        vertical-align: middle;\n",
       "    }\n",
       "\n",
       "    .dataframe tbody tr th {\n",
       "        vertical-align: top;\n",
       "    }\n",
       "\n",
       "    .dataframe thead th {\n",
       "        text-align: right;\n",
       "    }\n",
       "</style>\n",
       "<table border=\"1\" class=\"dataframe\">\n",
       "  <thead>\n",
       "    <tr style=\"text-align: right;\">\n",
       "      <th></th>\n",
       "      <th>origin_building_use</th>\n",
       "      <th>trip_duration_minutes</th>\n",
       "      <th>trip_taker_language</th>\n",
       "      <th>origin_trct_2020</th>\n",
       "      <th>trip_taker_household_id</th>\n",
       "      <th>trip_taker_sex</th>\n",
       "      <th>trip_taker_home_bgrp_2020</th>\n",
       "      <th>origin_st_2020</th>\n",
       "      <th>trip_taker_home_st_2020</th>\n",
       "      <th>trip_taker_race_ethnicity</th>\n",
       "      <th>transit_agency</th>\n",
       "      <th>transit_route</th>\n",
       "      <th>trip_taker_resident_type</th>\n",
       "      <th>vehicle_type</th>\n",
       "      <th>trip_taker_age</th>\n",
       "      <th>activity_id</th>\n",
       "      <th>destination_bgrp_2020</th>\n",
       "      <th>destination_building_use</th>\n",
       "      <th>trip_taker_wfh</th>\n",
       "      <th>destination_st_2020</th>\n",
       "      <th>destination_cty_2020</th>\n",
       "      <th>trip_taker_work_bgrp_2020</th>\n",
       "      <th>destination_trct_2020</th>\n",
       "      <th>trip_taker_household_income</th>\n",
       "      <th>origin_bgrp_2020</th>\n",
       "      <th>trip_taker_commute_mode</th>\n",
       "      <th>trip_taker_available_vehicles</th>\n",
       "      <th>primary_mode</th>\n",
       "      <th>previous_trip_purpose</th>\n",
       "      <th>trip_taker_building_type</th>\n",
       "      <th>transit_submode</th>\n",
       "      <th>trip_taker_work_st_2020</th>\n",
       "      <th>trip_taker_household_size</th>\n",
       "      <th>origin_cty_2020</th>\n",
       "      <th>destination_land_use</th>\n",
       "      <th>trip_taker_industry</th>\n",
       "      <th>trip_taker_tenure</th>\n",
       "      <th>vehicle_fuel_type</th>\n",
       "      <th>trip_taker_home_trct_2020</th>\n",
       "      <th>trip_taker_work_trct_2020</th>\n",
       "      <th>trip_taker_education</th>\n",
       "      <th>trip_start_time</th>\n",
       "      <th>trip_taker_individual_income</th>\n",
       "      <th>trip_taker_employment_status</th>\n",
       "      <th>trip_purpose</th>\n",
       "      <th>origin_land_use</th>\n",
       "      <th>trip_taker_work_cty_2020</th>\n",
       "      <th>trip_distance_miles</th>\n",
       "      <th>trip_taker_school_grade_attending</th>\n",
       "      <th>trip_taker_home_cty_2020</th>\n",
       "      <th>trip_taker_person_id</th>\n",
       "      <th>trip_end_time</th>\n",
       "    </tr>\n",
       "  </thead>\n",
       "  <tbody>\n",
       "    <tr>\n",
       "      <th>594972</th>\n",
       "      <td>retail</td>\n",
       "      <td>6</td>\n",
       "      <td>indo_european</td>\n",
       "      <td>615.06 (San Francisco, CA)</td>\n",
       "      <td>8194219563640751815</td>\n",
       "      <td>male</td>\n",
       "      <td>1 (Tract 179.03, San Francisco, CA)</td>\n",
       "      <td>California</td>\n",
       "      <td>California</td>\n",
       "      <td>white_not_hispanic_or_latino</td>\n",
       "      <td>NaN</td>\n",
       "      <td>NaN</td>\n",
       "      <td>core</td>\n",
       "      <td>unknown_vehicle_type</td>\n",
       "      <td>27.0</td>\n",
       "      <td>1397390795811450502</td>\n",
       "      <td>1 (Tract 179.03, San Francisco, CA)</td>\n",
       "      <td>single_family</td>\n",
       "      <td>remote</td>\n",
       "      <td>California</td>\n",
       "      <td>San Francisco</td>\n",
       "      <td>1 (Tract 179.03, San Francisco, CA)</td>\n",
       "      <td>179.03 (San Francisco, CA)</td>\n",
       "      <td>1200990.0</td>\n",
       "      <td>3 (Tract 615.06, San Francisco, CA)</td>\n",
       "      <td>worked_from_home</td>\n",
       "      <td>three_plus</td>\n",
       "      <td>auto_passenger</td>\n",
       "      <td>shop</td>\n",
       "      <td>single_family</td>\n",
       "      <td>NaN</td>\n",
       "      <td>California</td>\n",
       "      <td>10.0</td>\n",
       "      <td>San Francisco</td>\n",
       "      <td>single_family</td>\n",
       "      <td>naics54</td>\n",
       "      <td>renter</td>\n",
       "      <td>unknown_fuel_type</td>\n",
       "      <td>179.03 (San Francisco, CA)</td>\n",
       "      <td>179.03 (San Francisco, CA)</td>\n",
       "      <td>bachelors_degree</td>\n",
       "      <td>11:24:00</td>\n",
       "      <td>218735.0</td>\n",
       "      <td>employed</td>\n",
       "      <td>home</td>\n",
       "      <td>mixed_use</td>\n",
       "      <td>San Francisco</td>\n",
       "      <td>3.7</td>\n",
       "      <td>not_attending_school</td>\n",
       "      <td>San Francisco</td>\n",
       "      <td>14409692340574959811</td>\n",
       "      <td>11:30:46</td>\n",
       "    </tr>\n",
       "  </tbody>\n",
       "</table>\n",
       "</div>"
      ],
      "text/plain": [
       "       origin_building_use  trip_duration_minutes trip_taker_language  \\\n",
       "594972              retail                      6       indo_european   \n",
       "\n",
       "                  origin_trct_2020 trip_taker_household_id trip_taker_sex  \\\n",
       "594972  615.06 (San Francisco, CA)     8194219563640751815           male   \n",
       "\n",
       "                  trip_taker_home_bgrp_2020 origin_st_2020  \\\n",
       "594972  1 (Tract 179.03, San Francisco, CA)     California   \n",
       "\n",
       "       trip_taker_home_st_2020     trip_taker_race_ethnicity transit_agency  \\\n",
       "594972              California  white_not_hispanic_or_latino            NaN   \n",
       "\n",
       "       transit_route trip_taker_resident_type          vehicle_type  \\\n",
       "594972           NaN                     core  unknown_vehicle_type   \n",
       "\n",
       "        trip_taker_age          activity_id  \\\n",
       "594972            27.0  1397390795811450502   \n",
       "\n",
       "                      destination_bgrp_2020 destination_building_use  \\\n",
       "594972  1 (Tract 179.03, San Francisco, CA)            single_family   \n",
       "\n",
       "       trip_taker_wfh destination_st_2020 destination_cty_2020  \\\n",
       "594972         remote          California        San Francisco   \n",
       "\n",
       "                  trip_taker_work_bgrp_2020       destination_trct_2020  \\\n",
       "594972  1 (Tract 179.03, San Francisco, CA)  179.03 (San Francisco, CA)   \n",
       "\n",
       "        trip_taker_household_income                     origin_bgrp_2020  \\\n",
       "594972                    1200990.0  3 (Tract 615.06, San Francisco, CA)   \n",
       "\n",
       "       trip_taker_commute_mode trip_taker_available_vehicles    primary_mode  \\\n",
       "594972        worked_from_home                    three_plus  auto_passenger   \n",
       "\n",
       "       previous_trip_purpose trip_taker_building_type transit_submode  \\\n",
       "594972                  shop            single_family             NaN   \n",
       "\n",
       "       trip_taker_work_st_2020  trip_taker_household_size origin_cty_2020  \\\n",
       "594972              California                       10.0   San Francisco   \n",
       "\n",
       "       destination_land_use trip_taker_industry trip_taker_tenure  \\\n",
       "594972        single_family             naics54            renter   \n",
       "\n",
       "        vehicle_fuel_type   trip_taker_home_trct_2020  \\\n",
       "594972  unknown_fuel_type  179.03 (San Francisco, CA)   \n",
       "\n",
       "         trip_taker_work_trct_2020 trip_taker_education trip_start_time  \\\n",
       "594972  179.03 (San Francisco, CA)     bachelors_degree        11:24:00   \n",
       "\n",
       "        trip_taker_individual_income trip_taker_employment_status  \\\n",
       "594972                      218735.0                     employed   \n",
       "\n",
       "       trip_purpose origin_land_use trip_taker_work_cty_2020  \\\n",
       "594972         home       mixed_use            San Francisco   \n",
       "\n",
       "        trip_distance_miles trip_taker_school_grade_attending  \\\n",
       "594972                  3.7              not_attending_school   \n",
       "\n",
       "       trip_taker_home_cty_2020  trip_taker_person_id trip_end_time  \n",
       "594972            San Francisco  14409692340574959811      11:30:46  "
      ]
     },
     "execution_count": 93,
     "metadata": {},
     "output_type": "execute_result"
    }
   ],
   "source": [
    "print(len(r_trips>>filter(_.trip_taker_household_id == 8194219563640751815)))\n",
    "(r_trips>>filter(_.trip_taker_household_id == 8194219563640751815)).sample()"
   ]
  },
  {
   "cell_type": "code",
   "execution_count": 94,
   "id": "4eccfdf8-429e-43df-899e-f7d77e051831",
   "metadata": {},
   "outputs": [
    {
     "data": {
      "text/html": [
       "<div>\n",
       "<style scoped>\n",
       "    .dataframe tbody tr th:only-of-type {\n",
       "        vertical-align: middle;\n",
       "    }\n",
       "\n",
       "    .dataframe tbody tr th {\n",
       "        vertical-align: top;\n",
       "    }\n",
       "\n",
       "    .dataframe thead th {\n",
       "        text-align: right;\n",
       "    }\n",
       "</style>\n",
       "<table border=\"1\" class=\"dataframe\">\n",
       "  <thead>\n",
       "    <tr style=\"text-align: right;\">\n",
       "      <th></th>\n",
       "      <th>trip_taker_person_id</th>\n",
       "      <th>trip_taker_age</th>\n",
       "      <th>trip_taker_sex</th>\n",
       "      <th>trip_taker_household_size</th>\n",
       "      <th>n</th>\n",
       "    </tr>\n",
       "  </thead>\n",
       "  <tbody>\n",
       "    <tr>\n",
       "      <th>0</th>\n",
       "      <td>1325181746552868554</td>\n",
       "      <td>22.0</td>\n",
       "      <td>female</td>\n",
       "      <td>10.0</td>\n",
       "      <td>6</td>\n",
       "    </tr>\n",
       "    <tr>\n",
       "      <th>1</th>\n",
       "      <td>2310331066900902679</td>\n",
       "      <td>30.0</td>\n",
       "      <td>female</td>\n",
       "      <td>10.0</td>\n",
       "      <td>6</td>\n",
       "    </tr>\n",
       "    <tr>\n",
       "      <th>2</th>\n",
       "      <td>4746831412975349070</td>\n",
       "      <td>34.0</td>\n",
       "      <td>female</td>\n",
       "      <td>10.0</td>\n",
       "      <td>2</td>\n",
       "    </tr>\n",
       "    <tr>\n",
       "      <th>3</th>\n",
       "      <td>10066255028734967962</td>\n",
       "      <td>28.0</td>\n",
       "      <td>male</td>\n",
       "      <td>10.0</td>\n",
       "      <td>4</td>\n",
       "    </tr>\n",
       "    <tr>\n",
       "      <th>4</th>\n",
       "      <td>11058477761487230854</td>\n",
       "      <td>32.0</td>\n",
       "      <td>male</td>\n",
       "      <td>10.0</td>\n",
       "      <td>2</td>\n",
       "    </tr>\n",
       "    <tr>\n",
       "      <th>5</th>\n",
       "      <td>12894946300265742193</td>\n",
       "      <td>39.0</td>\n",
       "      <td>male</td>\n",
       "      <td>10.0</td>\n",
       "      <td>2</td>\n",
       "    </tr>\n",
       "    <tr>\n",
       "      <th>6</th>\n",
       "      <td>14409692340574959811</td>\n",
       "      <td>27.0</td>\n",
       "      <td>male</td>\n",
       "      <td>10.0</td>\n",
       "      <td>6</td>\n",
       "    </tr>\n",
       "  </tbody>\n",
       "</table>\n",
       "</div>"
      ],
      "text/plain": [
       "   trip_taker_person_id  trip_taker_age trip_taker_sex  \\\n",
       "0   1325181746552868554            22.0         female   \n",
       "1   2310331066900902679            30.0         female   \n",
       "2   4746831412975349070            34.0         female   \n",
       "3  10066255028734967962            28.0           male   \n",
       "4  11058477761487230854            32.0           male   \n",
       "5  12894946300265742193            39.0           male   \n",
       "6  14409692340574959811            27.0           male   \n",
       "\n",
       "   trip_taker_household_size  n  \n",
       "0                       10.0  6  \n",
       "1                       10.0  6  \n",
       "2                       10.0  2  \n",
       "3                       10.0  4  \n",
       "4                       10.0  2  \n",
       "5                       10.0  2  \n",
       "6                       10.0  6  "
      ]
     },
     "execution_count": 94,
     "metadata": {},
     "output_type": "execute_result"
    }
   ],
   "source": [
    "## checking one household id\n",
    "r_trips>>filter(_.trip_taker_household_id == 8194219563640751815)>>count(_.trip_taker_person_id, _.trip_taker_age,\n",
    "                                                                         _.trip_taker_sex, _.trip_taker_household_size)"
   ]
  },
  {
   "cell_type": "code",
   "execution_count": null,
   "id": "c929c77d-0173-4a7d-be49-762349daf5cb",
   "metadata": {},
   "outputs": [],
   "source": []
  },
  {
   "cell_type": "code",
   "execution_count": null,
   "id": "ab226b47-4366-4fb9-aaae-e0aca760f9b3",
   "metadata": {},
   "outputs": [],
   "source": []
  },
  {
   "cell_type": "markdown",
   "id": "cd041141-2a65-45e8-a6ba-9b41cbffecbd",
   "metadata": {},
   "source": [
    "#### Adding in Replica's People Dataset"
   ]
  },
  {
   "cell_type": "code",
   "execution_count": 95,
   "id": "dea31a60-e986-41e7-b31b-1e5403c9e041",
   "metadata": {},
   "outputs": [
    {
     "name": "stderr",
     "output_type": "stream",
     "text": [
      "/tmp/ipykernel_306/1951040339.py:1: DtypeWarning: Columns (25) have mixed types. Specify dtype option on import or set low_memory=False.\n",
      "  r_ppl = to_snakecase(pd.read_csv(f\"{GCS_PATH}{replica_ppl}\"))\n"
     ]
    }
   ],
   "source": [
    "r_ppl = to_snakecase(pd.read_csv(f\"{GCS_PATH}{replica_ppl}\"))"
   ]
  },
  {
   "cell_type": "markdown",
   "id": "2cf7ed4b-7524-4e9a-858a-857fcf70950c",
   "metadata": {},
   "source": [
    "replica people dataframe sample"
   ]
  },
  {
   "cell_type": "code",
   "execution_count": 134,
   "id": "42bc1220-b404-4aca-8214-43992c55163b",
   "metadata": {},
   "outputs": [
    {
     "data": {
      "text/html": [
       "<div>\n",
       "<style scoped>\n",
       "    .dataframe tbody tr th:only-of-type {\n",
       "        vertical-align: middle;\n",
       "    }\n",
       "\n",
       "    .dataframe tbody tr th {\n",
       "        vertical-align: top;\n",
       "    }\n",
       "\n",
       "    .dataframe thead th {\n",
       "        text-align: right;\n",
       "    }\n",
       "</style>\n",
       "<table border=\"1\" class=\"dataframe\">\n",
       "  <thead>\n",
       "    <tr style=\"text-align: right;\">\n",
       "      <th></th>\n",
       "      <th>person_id</th>\n",
       "      <th>work_st_2020</th>\n",
       "      <th>household_income</th>\n",
       "      <th>resident_type</th>\n",
       "      <th>language</th>\n",
       "      <th>available_vehicles</th>\n",
       "      <th>race_ethnicity</th>\n",
       "      <th>education</th>\n",
       "      <th>work_bgrp_2020</th>\n",
       "      <th>wfh</th>\n",
       "      <th>home_cty_2020</th>\n",
       "      <th>home_trct_2020</th>\n",
       "      <th>tenure</th>\n",
       "      <th>industry</th>\n",
       "      <th>work_trct_2020</th>\n",
       "      <th>school_grade_attending</th>\n",
       "      <th>building_type</th>\n",
       "      <th>commute_mode</th>\n",
       "      <th>employment_status</th>\n",
       "      <th>work_cty_2020</th>\n",
       "      <th>individual_income</th>\n",
       "      <th>home_st_2020</th>\n",
       "      <th>sex</th>\n",
       "      <th>household_size</th>\n",
       "      <th>home_bgrp_2020</th>\n",
       "      <th>household_id</th>\n",
       "      <th>age</th>\n",
       "    </tr>\n",
       "  </thead>\n",
       "  <tbody>\n",
       "    <tr>\n",
       "      <th>183579</th>\n",
       "      <td>14190272423718015740</td>\n",
       "      <td>Does not have work/school location</td>\n",
       "      <td>80134.0</td>\n",
       "      <td>core</td>\n",
       "      <td>english</td>\n",
       "      <td>three_plus</td>\n",
       "      <td>white_not_hispanic_or_latino</td>\n",
       "      <td>high_school</td>\n",
       "      <td>Does not have work/school location</td>\n",
       "      <td>unemployed_under_16_not_in_labor_force</td>\n",
       "      <td>San Joaquin</td>\n",
       "      <td>41.04 (San Joaquin, CA)</td>\n",
       "      <td>owner</td>\n",
       "      <td>not_working</td>\n",
       "      <td>Does not have work/school location</td>\n",
       "      <td>not_attending_school</td>\n",
       "      <td>single_family</td>\n",
       "      <td>other_travel_mode</td>\n",
       "      <td>not_in_labor_force</td>\n",
       "      <td>Does not have work/school location</td>\n",
       "      <td>12629.0</td>\n",
       "      <td>California</td>\n",
       "      <td>female</td>\n",
       "      <td>3.0</td>\n",
       "      <td>2 (Tract 41.04, San Joaquin, CA)</td>\n",
       "      <td>5519997059193984488</td>\n",
       "      <td>58.0</td>\n",
       "    </tr>\n",
       "  </tbody>\n",
       "</table>\n",
       "</div>"
      ],
      "text/plain": [
       "                   person_id                        work_st_2020  \\\n",
       "183579  14190272423718015740  Does not have work/school location   \n",
       "\n",
       "        household_income resident_type language available_vehicles  \\\n",
       "183579           80134.0          core  english         three_plus   \n",
       "\n",
       "                      race_ethnicity    education  \\\n",
       "183579  white_not_hispanic_or_latino  high_school   \n",
       "\n",
       "                            work_bgrp_2020  \\\n",
       "183579  Does not have work/school location   \n",
       "\n",
       "                                           wfh home_cty_2020  \\\n",
       "183579  unemployed_under_16_not_in_labor_force   San Joaquin   \n",
       "\n",
       "                 home_trct_2020 tenure     industry  \\\n",
       "183579  41.04 (San Joaquin, CA)  owner  not_working   \n",
       "\n",
       "                            work_trct_2020 school_grade_attending  \\\n",
       "183579  Does not have work/school location   not_attending_school   \n",
       "\n",
       "        building_type       commute_mode   employment_status  \\\n",
       "183579  single_family  other_travel_mode  not_in_labor_force   \n",
       "\n",
       "                             work_cty_2020  individual_income home_st_2020  \\\n",
       "183579  Does not have work/school location            12629.0   California   \n",
       "\n",
       "           sex  household_size                    home_bgrp_2020  \\\n",
       "183579  female             3.0  2 (Tract 41.04, San Joaquin, CA)   \n",
       "\n",
       "               household_id   age  \n",
       "183579  5519997059193984488  58.0  "
      ]
     },
     "execution_count": 134,
     "metadata": {},
     "output_type": "execute_result"
    }
   ],
   "source": [
    "r_ppl.sample()"
   ]
  },
  {
   "cell_type": "code",
   "execution_count": 145,
   "id": "d2a1647f-ed67-4c33-a089-b72375323a7d",
   "metadata": {},
   "outputs": [
    {
     "data": {
      "text/html": [
       "<h4><strong>Number of Travelers by Resident Type: Replica People Data</strong></h4>"
      ],
      "text/plain": [
       "<IPython.core.display.HTML object>"
      ]
     },
     "metadata": {},
     "output_type": "display_data"
    }
   ],
   "source": [
    "display(HTML(\"<h4><strong>Number of Travelers by Resident Type: Replica People Data</strong></h4>\")) "
   ]
  },
  {
   "cell_type": "code",
   "execution_count": 97,
   "id": "570daf6d-06b8-46e5-9664-a71c5a093073",
   "metadata": {},
   "outputs": [
    {
     "data": {
      "text/html": [
       "<div>\n",
       "<style scoped>\n",
       "    .dataframe tbody tr th:only-of-type {\n",
       "        vertical-align: middle;\n",
       "    }\n",
       "\n",
       "    .dataframe tbody tr th {\n",
       "        vertical-align: top;\n",
       "    }\n",
       "\n",
       "    .dataframe thead th {\n",
       "        text-align: right;\n",
       "    }\n",
       "</style>\n",
       "<table border=\"1\" class=\"dataframe\">\n",
       "  <thead>\n",
       "    <tr style=\"text-align: right;\">\n",
       "      <th></th>\n",
       "      <th>resident_type</th>\n",
       "      <th>_unique_ids</th>\n",
       "    </tr>\n",
       "  </thead>\n",
       "  <tbody>\n",
       "    <tr>\n",
       "      <th>0</th>\n",
       "      <td>core</td>\n",
       "      <td>278158</td>\n",
       "    </tr>\n",
       "    <tr>\n",
       "      <th>1</th>\n",
       "      <td>visitor</td>\n",
       "      <td>23034</td>\n",
       "    </tr>\n",
       "  </tbody>\n",
       "</table>\n",
       "</div>"
      ],
      "text/plain": [
       "  resident_type  _unique_ids\n",
       "0          core       278158\n",
       "1       visitor        23034"
      ]
     },
     "execution_count": 97,
     "metadata": {},
     "output_type": "execute_result"
    }
   ],
   "source": [
    "r_ppl>>group_by(_.resident_type)>>summarize(_unique_ids = _.person_id.nunique())"
   ]
  },
  {
   "cell_type": "code",
   "execution_count": 146,
   "id": "1483249f-602c-4805-bcc4-d55e018022ad",
   "metadata": {},
   "outputs": [
    {
     "data": {
      "text/html": [
       "<h4><strong>Number of Travelers by Resident Type: Replica Trips Data</strong></h4>"
      ],
      "text/plain": [
       "<IPython.core.display.HTML object>"
      ]
     },
     "metadata": {},
     "output_type": "display_data"
    }
   ],
   "source": [
    "display(HTML(\"<h4><strong>Number of Travelers by Resident Type: Replica Trips Data</strong></h4>\")) "
   ]
  },
  {
   "cell_type": "code",
   "execution_count": 147,
   "id": "5c1894f0-bd42-4014-89d4-6e8d43809319",
   "metadata": {},
   "outputs": [
    {
     "data": {
      "text/html": [
       "<div>\n",
       "<style scoped>\n",
       "    .dataframe tbody tr th:only-of-type {\n",
       "        vertical-align: middle;\n",
       "    }\n",
       "\n",
       "    .dataframe tbody tr th {\n",
       "        vertical-align: top;\n",
       "    }\n",
       "\n",
       "    .dataframe thead th {\n",
       "        text-align: right;\n",
       "    }\n",
       "</style>\n",
       "<table border=\"1\" class=\"dataframe\">\n",
       "  <thead>\n",
       "    <tr style=\"text-align: right;\">\n",
       "      <th></th>\n",
       "      <th>trip_taker_resident_type</th>\n",
       "      <th>_unique_ids</th>\n",
       "    </tr>\n",
       "  </thead>\n",
       "  <tbody>\n",
       "    <tr>\n",
       "      <th>0</th>\n",
       "      <td>core</td>\n",
       "      <td>282789</td>\n",
       "    </tr>\n",
       "    <tr>\n",
       "      <th>1</th>\n",
       "      <td>visitor</td>\n",
       "      <td>26806</td>\n",
       "    </tr>\n",
       "    <tr>\n",
       "      <th>2</th>\n",
       "      <td>NaN</td>\n",
       "      <td>1</td>\n",
       "    </tr>\n",
       "  </tbody>\n",
       "</table>\n",
       "</div>"
      ],
      "text/plain": [
       "  trip_taker_resident_type  _unique_ids\n",
       "0                     core       282789\n",
       "1                  visitor        26806\n",
       "2                      NaN            1"
      ]
     },
     "execution_count": 147,
     "metadata": {},
     "output_type": "execute_result"
    }
   ],
   "source": [
    "r_trips>>group_by(_.trip_taker_resident_type)>>summarize(_unique_ids = _.trip_taker_person_id.nunique())"
   ]
  },
  {
   "cell_type": "code",
   "execution_count": 153,
   "id": "2f4b67bf-78ab-4aa8-bbb0-e382a8f78c9a",
   "metadata": {},
   "outputs": [
    {
     "data": {
      "text/html": [
       "<h4><strong>Traveler Demographics: Replica People Data</strong></h4>"
      ],
      "text/plain": [
       "<IPython.core.display.HTML object>"
      ]
     },
     "metadata": {},
     "output_type": "display_data"
    },
    {
     "data": {
      "text/html": [
       "Fitered for Core Residents"
      ],
      "text/plain": [
       "<IPython.core.display.HTML object>"
      ]
     },
     "metadata": {},
     "output_type": "display_data"
    },
    {
     "data": {
      "text/html": [
       "<div>\n",
       "<style scoped>\n",
       "    .dataframe tbody tr th:only-of-type {\n",
       "        vertical-align: middle;\n",
       "    }\n",
       "\n",
       "    .dataframe tbody tr th {\n",
       "        vertical-align: top;\n",
       "    }\n",
       "\n",
       "    .dataframe thead th {\n",
       "        text-align: right;\n",
       "    }\n",
       "</style>\n",
       "<table border=\"1\" class=\"dataframe\">\n",
       "  <thead>\n",
       "    <tr style=\"text-align: right;\">\n",
       "      <th></th>\n",
       "      <th>commute_mode</th>\n",
       "      <th>sex</th>\n",
       "      <th>n_ppl</th>\n",
       "      <th>avg_h_income</th>\n",
       "      <th>avg_p_income</th>\n",
       "      <th>avg_age</th>\n",
       "    </tr>\n",
       "  </thead>\n",
       "  <tbody>\n",
       "    <tr>\n",
       "      <th>0</th>\n",
       "      <td>auto_passenger</td>\n",
       "      <td>female</td>\n",
       "      <td>10908</td>\n",
       "      <td>175717.982765</td>\n",
       "      <td>70255.626054</td>\n",
       "      <td>42.234507</td>\n",
       "    </tr>\n",
       "    <tr>\n",
       "      <th>1</th>\n",
       "      <td>auto_passenger</td>\n",
       "      <td>male</td>\n",
       "      <td>11605</td>\n",
       "      <td>177241.394916</td>\n",
       "      <td>82072.291685</td>\n",
       "      <td>42.185523</td>\n",
       "    </tr>\n",
       "    <tr>\n",
       "      <th>2</th>\n",
       "      <td>biking</td>\n",
       "      <td>female</td>\n",
       "      <td>234</td>\n",
       "      <td>248565.141026</td>\n",
       "      <td>82592.418803</td>\n",
       "      <td>36.085470</td>\n",
       "    </tr>\n",
       "    <tr>\n",
       "      <th>3</th>\n",
       "      <td>biking</td>\n",
       "      <td>male</td>\n",
       "      <td>527</td>\n",
       "      <td>219563.083491</td>\n",
       "      <td>120152.859583</td>\n",
       "      <td>38.426945</td>\n",
       "    </tr>\n",
       "    <tr>\n",
       "      <th>4</th>\n",
       "      <td>other_travel_mode</td>\n",
       "      <td>female</td>\n",
       "      <td>36176</td>\n",
       "      <td>126129.721003</td>\n",
       "      <td>21413.682939</td>\n",
       "      <td>55.161599</td>\n",
       "    </tr>\n",
       "    <tr>\n",
       "      <th>5</th>\n",
       "      <td>other_travel_mode</td>\n",
       "      <td>male</td>\n",
       "      <td>26290</td>\n",
       "      <td>116775.549106</td>\n",
       "      <td>33563.078813</td>\n",
       "      <td>54.328262</td>\n",
       "    </tr>\n",
       "    <tr>\n",
       "      <th>6</th>\n",
       "      <td>private_auto</td>\n",
       "      <td>female</td>\n",
       "      <td>45312</td>\n",
       "      <td>186499.659406</td>\n",
       "      <td>76492.005341</td>\n",
       "      <td>42.626302</td>\n",
       "    </tr>\n",
       "    <tr>\n",
       "      <th>7</th>\n",
       "      <td>private_auto</td>\n",
       "      <td>male</td>\n",
       "      <td>59762</td>\n",
       "      <td>190643.201265</td>\n",
       "      <td>100712.386918</td>\n",
       "      <td>42.872093</td>\n",
       "    </tr>\n",
       "    <tr>\n",
       "      <th>8</th>\n",
       "      <td>public_transit</td>\n",
       "      <td>female</td>\n",
       "      <td>22008</td>\n",
       "      <td>193540.921347</td>\n",
       "      <td>84074.072110</td>\n",
       "      <td>41.921937</td>\n",
       "    </tr>\n",
       "    <tr>\n",
       "      <th>9</th>\n",
       "      <td>public_transit</td>\n",
       "      <td>male</td>\n",
       "      <td>26480</td>\n",
       "      <td>207838.001699</td>\n",
       "      <td>125445.942485</td>\n",
       "      <td>42.259290</td>\n",
       "    </tr>\n",
       "    <tr>\n",
       "      <th>10</th>\n",
       "      <td>walking</td>\n",
       "      <td>female</td>\n",
       "      <td>1332</td>\n",
       "      <td>160144.725976</td>\n",
       "      <td>63737.956456</td>\n",
       "      <td>38.041291</td>\n",
       "    </tr>\n",
       "    <tr>\n",
       "      <th>11</th>\n",
       "      <td>walking</td>\n",
       "      <td>male</td>\n",
       "      <td>1494</td>\n",
       "      <td>177570.705489</td>\n",
       "      <td>100413.455154</td>\n",
       "      <td>37.495315</td>\n",
       "    </tr>\n",
       "    <tr>\n",
       "      <th>12</th>\n",
       "      <td>worked_from_home</td>\n",
       "      <td>female</td>\n",
       "      <td>17409</td>\n",
       "      <td>226232.999655</td>\n",
       "      <td>97016.438853</td>\n",
       "      <td>41.219829</td>\n",
       "    </tr>\n",
       "    <tr>\n",
       "      <th>13</th>\n",
       "      <td>worked_from_home</td>\n",
       "      <td>male</td>\n",
       "      <td>18621</td>\n",
       "      <td>253921.717631</td>\n",
       "      <td>137849.973686</td>\n",
       "      <td>41.092208</td>\n",
       "    </tr>\n",
       "  </tbody>\n",
       "</table>\n",
       "</div>"
      ],
      "text/plain": [
       "         commute_mode     sex  n_ppl   avg_h_income   avg_p_income    avg_age\n",
       "0      auto_passenger  female  10908  175717.982765   70255.626054  42.234507\n",
       "1      auto_passenger    male  11605  177241.394916   82072.291685  42.185523\n",
       "2              biking  female    234  248565.141026   82592.418803  36.085470\n",
       "3              biking    male    527  219563.083491  120152.859583  38.426945\n",
       "4   other_travel_mode  female  36176  126129.721003   21413.682939  55.161599\n",
       "5   other_travel_mode    male  26290  116775.549106   33563.078813  54.328262\n",
       "6        private_auto  female  45312  186499.659406   76492.005341  42.626302\n",
       "7        private_auto    male  59762  190643.201265  100712.386918  42.872093\n",
       "8      public_transit  female  22008  193540.921347   84074.072110  41.921937\n",
       "9      public_transit    male  26480  207838.001699  125445.942485  42.259290\n",
       "10            walking  female   1332  160144.725976   63737.956456  38.041291\n",
       "11            walking    male   1494  177570.705489  100413.455154  37.495315\n",
       "12   worked_from_home  female  17409  226232.999655   97016.438853  41.219829\n",
       "13   worked_from_home    male  18621  253921.717631  137849.973686  41.092208"
      ]
     },
     "execution_count": 153,
     "metadata": {},
     "output_type": "execute_result"
    }
   ],
   "source": [
    "display(HTML(\"<h4><strong>Traveler Demographics: Replica People Data</strong></h4>\")) \n",
    "display(HTML(\"Fitered for Core Residents\")) \n",
    "(r_ppl\n",
    " >>filter(_.home_bgrp_2020!=\"Visitor (no home location)\")\n",
    " >>group_by(_.commute_mode, _.sex)\n",
    " >>summarize(\n",
    "     n_ppl = _.person_id.nunique(),\n",
    "     avg_h_income = _.household_income.mean(),\n",
    "     avg_p_income = _.individual_income.mean(),\n",
    "     avg_age = _.age.mean())\n",
    ")"
   ]
  },
  {
   "cell_type": "code",
   "execution_count": null,
   "id": "b0891b62-c968-4ea0-bd9b-753d299a5054",
   "metadata": {},
   "outputs": [],
   "source": []
  },
  {
   "cell_type": "code",
   "execution_count": 152,
   "id": "2e4bd058-9c4d-4989-a5fc-db6cf6130bf2",
   "metadata": {},
   "outputs": [
    {
     "data": {
      "text/html": [
       "<h4><strong>Traveler Demographics: Replica Trips Data</strong></h4>"
      ],
      "text/plain": [
       "<IPython.core.display.HTML object>"
      ]
     },
     "metadata": {},
     "output_type": "display_data"
    },
    {
     "data": {
      "text/html": [
       "Fitered for Core Residents"
      ],
      "text/plain": [
       "<IPython.core.display.HTML object>"
      ]
     },
     "metadata": {},
     "output_type": "display_data"
    },
    {
     "data": {
      "text/html": [
       "<div>\n",
       "<style scoped>\n",
       "    .dataframe tbody tr th:only-of-type {\n",
       "        vertical-align: middle;\n",
       "    }\n",
       "\n",
       "    .dataframe tbody tr th {\n",
       "        vertical-align: top;\n",
       "    }\n",
       "\n",
       "    .dataframe thead th {\n",
       "        text-align: right;\n",
       "    }\n",
       "</style>\n",
       "<table border=\"1\" class=\"dataframe\">\n",
       "  <thead>\n",
       "    <tr style=\"text-align: right;\">\n",
       "      <th></th>\n",
       "      <th>primary_mode</th>\n",
       "      <th>trip_taker_sex</th>\n",
       "      <th>n_ppl</th>\n",
       "      <th>avg_h_income</th>\n",
       "      <th>avg_p_income</th>\n",
       "      <th>avg_age</th>\n",
       "    </tr>\n",
       "  </thead>\n",
       "  <tbody>\n",
       "    <tr>\n",
       "      <th>0</th>\n",
       "      <td>auto_passenger</td>\n",
       "      <td>female</td>\n",
       "      <td>99350</td>\n",
       "      <td>173666.662228</td>\n",
       "      <td>65104.398490</td>\n",
       "      <td>45.064633</td>\n",
       "    </tr>\n",
       "    <tr>\n",
       "      <th>1</th>\n",
       "      <td>auto_passenger</td>\n",
       "      <td>male</td>\n",
       "      <td>105359</td>\n",
       "      <td>187590.985442</td>\n",
       "      <td>97296.509379</td>\n",
       "      <td>43.991868</td>\n",
       "    </tr>\n",
       "    <tr>\n",
       "      <th>2</th>\n",
       "      <td>commercial</td>\n",
       "      <td>NaN</td>\n",
       "      <td>1</td>\n",
       "      <td>NaN</td>\n",
       "      <td>NaN</td>\n",
       "      <td>NaN</td>\n",
       "    </tr>\n",
       "    <tr>\n",
       "      <th>3</th>\n",
       "      <td>on_demand_auto</td>\n",
       "      <td>female</td>\n",
       "      <td>9051</td>\n",
       "      <td>186226.833189</td>\n",
       "      <td>79990.395102</td>\n",
       "      <td>42.900399</td>\n",
       "    </tr>\n",
       "    <tr>\n",
       "      <th>4</th>\n",
       "      <td>on_demand_auto</td>\n",
       "      <td>male</td>\n",
       "      <td>10159</td>\n",
       "      <td>202467.780725</td>\n",
       "      <td>111915.392968</td>\n",
       "      <td>42.436605</td>\n",
       "    </tr>\n",
       "    <tr>\n",
       "      <th>5</th>\n",
       "      <td>private_auto</td>\n",
       "      <td>female</td>\n",
       "      <td>68268</td>\n",
       "      <td>174867.937251</td>\n",
       "      <td>62299.064752</td>\n",
       "      <td>45.316785</td>\n",
       "    </tr>\n",
       "    <tr>\n",
       "      <th>6</th>\n",
       "      <td>private_auto</td>\n",
       "      <td>male</td>\n",
       "      <td>75223</td>\n",
       "      <td>182301.952228</td>\n",
       "      <td>90322.373466</td>\n",
       "      <td>44.265320</td>\n",
       "    </tr>\n",
       "    <tr>\n",
       "      <th>7</th>\n",
       "      <td>public_transit</td>\n",
       "      <td>female</td>\n",
       "      <td>2256</td>\n",
       "      <td>186720.499643</td>\n",
       "      <td>82496.554922</td>\n",
       "      <td>39.104494</td>\n",
       "    </tr>\n",
       "    <tr>\n",
       "      <th>8</th>\n",
       "      <td>public_transit</td>\n",
       "      <td>male</td>\n",
       "      <td>2535</td>\n",
       "      <td>205334.441232</td>\n",
       "      <td>114041.914833</td>\n",
       "      <td>38.312382</td>\n",
       "    </tr>\n",
       "  </tbody>\n",
       "</table>\n",
       "</div>"
      ],
      "text/plain": [
       "     primary_mode trip_taker_sex   n_ppl   avg_h_income   avg_p_income  \\\n",
       "0  auto_passenger         female   99350  173666.662228   65104.398490   \n",
       "1  auto_passenger           male  105359  187590.985442   97296.509379   \n",
       "2      commercial            NaN       1            NaN            NaN   \n",
       "3  on_demand_auto         female    9051  186226.833189   79990.395102   \n",
       "4  on_demand_auto           male   10159  202467.780725  111915.392968   \n",
       "5    private_auto         female   68268  174867.937251   62299.064752   \n",
       "6    private_auto           male   75223  182301.952228   90322.373466   \n",
       "7  public_transit         female    2256  186720.499643   82496.554922   \n",
       "8  public_transit           male    2535  205334.441232  114041.914833   \n",
       "\n",
       "     avg_age  \n",
       "0  45.064633  \n",
       "1  43.991868  \n",
       "2        NaN  \n",
       "3  42.900399  \n",
       "4  42.436605  \n",
       "5  45.316785  \n",
       "6  44.265320  \n",
       "7  39.104494  \n",
       "8  38.312382  "
      ]
     },
     "execution_count": 152,
     "metadata": {},
     "output_type": "execute_result"
    }
   ],
   "source": [
    "display(HTML(\"<h4><strong>Traveler Demographics: Replica Trips Data</strong></h4>\")) \n",
    "display(HTML(\"Fitered for Core Residents\")) \n",
    "(r_trips\n",
    " >>filter(_.trip_taker_home_bgrp_2020!=\"Visitor (no home location)\")\n",
    " >>group_by(_.primary_mode, _.trip_taker_sex)\n",
    " >>summarize(\n",
    "     n_ppl = _.trip_taker_person_id.nunique(),\n",
    "     avg_h_income = _.trip_taker_household_income.mean(),\n",
    "     avg_p_income = _.trip_taker_individual_income.mean(),\n",
    "     avg_age = _.trip_taker_age.mean())\n",
    ")\n",
    "     "
   ]
  },
  {
   "cell_type": "code",
   "execution_count": 156,
   "id": "7b637cdd-9560-4d31-bfeb-bffa6cbb55d2",
   "metadata": {},
   "outputs": [],
   "source": [
    "replica_people_demographics = (r_ppl\n",
    " >>group_by(_.commute_mode, _.sex)\n",
    " >>summarize(\n",
    "     n_ppl = _.person_id.nunique(),\n",
    "     avg_h_income = _.household_income.mean(),\n",
    "     avg_p_income = _.individual_income.mean(),\n",
    "     avg_age = _.age.mean())\n",
    ")"
   ]
  },
  {
   "cell_type": "code",
   "execution_count": 157,
   "id": "bcaa0855-faf6-4eb0-aa8e-48cb3348baeb",
   "metadata": {},
   "outputs": [
    {
     "data": {
      "text/html": [
       "<div>\n",
       "<style scoped>\n",
       "    .dataframe tbody tr th:only-of-type {\n",
       "        vertical-align: middle;\n",
       "    }\n",
       "\n",
       "    .dataframe tbody tr th {\n",
       "        vertical-align: top;\n",
       "    }\n",
       "\n",
       "    .dataframe thead th {\n",
       "        text-align: right;\n",
       "    }\n",
       "</style>\n",
       "<table border=\"1\" class=\"dataframe\">\n",
       "  <thead>\n",
       "    <tr style=\"text-align: right;\">\n",
       "      <th></th>\n",
       "      <th>commute_mode</th>\n",
       "      <th>sex</th>\n",
       "      <th>n_ppl</th>\n",
       "      <th>avg_h_income</th>\n",
       "      <th>avg_p_income</th>\n",
       "      <th>avg_age</th>\n",
       "    </tr>\n",
       "  </thead>\n",
       "  <tbody>\n",
       "    <tr>\n",
       "      <th>0</th>\n",
       "      <td>auto_passenger</td>\n",
       "      <td>female</td>\n",
       "      <td>10908</td>\n",
       "      <td>175717.982765</td>\n",
       "      <td>70255.626054</td>\n",
       "      <td>42.234507</td>\n",
       "    </tr>\n",
       "    <tr>\n",
       "      <th>1</th>\n",
       "      <td>auto_passenger</td>\n",
       "      <td>male</td>\n",
       "      <td>11605</td>\n",
       "      <td>177241.394916</td>\n",
       "      <td>82072.291685</td>\n",
       "      <td>42.185523</td>\n",
       "    </tr>\n",
       "    <tr>\n",
       "      <th>2</th>\n",
       "      <td>biking</td>\n",
       "      <td>female</td>\n",
       "      <td>234</td>\n",
       "      <td>248565.141026</td>\n",
       "      <td>82592.418803</td>\n",
       "      <td>36.085470</td>\n",
       "    </tr>\n",
       "    <tr>\n",
       "      <th>3</th>\n",
       "      <td>biking</td>\n",
       "      <td>male</td>\n",
       "      <td>527</td>\n",
       "      <td>219563.083491</td>\n",
       "      <td>120152.859583</td>\n",
       "      <td>38.426945</td>\n",
       "    </tr>\n",
       "    <tr>\n",
       "      <th>4</th>\n",
       "      <td>other_travel_mode</td>\n",
       "      <td>female</td>\n",
       "      <td>36176</td>\n",
       "      <td>126129.721003</td>\n",
       "      <td>21413.682939</td>\n",
       "      <td>55.161599</td>\n",
       "    </tr>\n",
       "    <tr>\n",
       "      <th>5</th>\n",
       "      <td>other_travel_mode</td>\n",
       "      <td>male</td>\n",
       "      <td>26290</td>\n",
       "      <td>116775.549106</td>\n",
       "      <td>33563.078813</td>\n",
       "      <td>54.328262</td>\n",
       "    </tr>\n",
       "    <tr>\n",
       "      <th>6</th>\n",
       "      <td>private_auto</td>\n",
       "      <td>female</td>\n",
       "      <td>45312</td>\n",
       "      <td>186499.659406</td>\n",
       "      <td>76492.005341</td>\n",
       "      <td>42.626302</td>\n",
       "    </tr>\n",
       "    <tr>\n",
       "      <th>7</th>\n",
       "      <td>private_auto</td>\n",
       "      <td>male</td>\n",
       "      <td>59762</td>\n",
       "      <td>190643.201265</td>\n",
       "      <td>100712.386918</td>\n",
       "      <td>42.872093</td>\n",
       "    </tr>\n",
       "    <tr>\n",
       "      <th>8</th>\n",
       "      <td>public_transit</td>\n",
       "      <td>female</td>\n",
       "      <td>22008</td>\n",
       "      <td>193540.921347</td>\n",
       "      <td>84074.072110</td>\n",
       "      <td>41.921937</td>\n",
       "    </tr>\n",
       "    <tr>\n",
       "      <th>9</th>\n",
       "      <td>public_transit</td>\n",
       "      <td>male</td>\n",
       "      <td>26480</td>\n",
       "      <td>207838.001699</td>\n",
       "      <td>125445.942485</td>\n",
       "      <td>42.259290</td>\n",
       "    </tr>\n",
       "    <tr>\n",
       "      <th>10</th>\n",
       "      <td>walking</td>\n",
       "      <td>female</td>\n",
       "      <td>1332</td>\n",
       "      <td>160144.725976</td>\n",
       "      <td>63737.956456</td>\n",
       "      <td>38.041291</td>\n",
       "    </tr>\n",
       "    <tr>\n",
       "      <th>11</th>\n",
       "      <td>walking</td>\n",
       "      <td>male</td>\n",
       "      <td>1494</td>\n",
       "      <td>177570.705489</td>\n",
       "      <td>100413.455154</td>\n",
       "      <td>37.495315</td>\n",
       "    </tr>\n",
       "    <tr>\n",
       "      <th>12</th>\n",
       "      <td>worked_from_home</td>\n",
       "      <td>female</td>\n",
       "      <td>17409</td>\n",
       "      <td>226232.999655</td>\n",
       "      <td>97016.438853</td>\n",
       "      <td>41.219829</td>\n",
       "    </tr>\n",
       "    <tr>\n",
       "      <th>13</th>\n",
       "      <td>worked_from_home</td>\n",
       "      <td>male</td>\n",
       "      <td>18621</td>\n",
       "      <td>253921.717631</td>\n",
       "      <td>137849.973686</td>\n",
       "      <td>41.092208</td>\n",
       "    </tr>\n",
       "    <tr>\n",
       "      <th>14</th>\n",
       "      <td>NaN</td>\n",
       "      <td>NaN</td>\n",
       "      <td>23034</td>\n",
       "      <td>NaN</td>\n",
       "      <td>NaN</td>\n",
       "      <td>NaN</td>\n",
       "    </tr>\n",
       "  </tbody>\n",
       "</table>\n",
       "</div>"
      ],
      "text/plain": [
       "         commute_mode     sex  n_ppl   avg_h_income   avg_p_income    avg_age\n",
       "0      auto_passenger  female  10908  175717.982765   70255.626054  42.234507\n",
       "1      auto_passenger    male  11605  177241.394916   82072.291685  42.185523\n",
       "2              biking  female    234  248565.141026   82592.418803  36.085470\n",
       "3              biking    male    527  219563.083491  120152.859583  38.426945\n",
       "4   other_travel_mode  female  36176  126129.721003   21413.682939  55.161599\n",
       "5   other_travel_mode    male  26290  116775.549106   33563.078813  54.328262\n",
       "6        private_auto  female  45312  186499.659406   76492.005341  42.626302\n",
       "7        private_auto    male  59762  190643.201265  100712.386918  42.872093\n",
       "8      public_transit  female  22008  193540.921347   84074.072110  41.921937\n",
       "9      public_transit    male  26480  207838.001699  125445.942485  42.259290\n",
       "10            walking  female   1332  160144.725976   63737.956456  38.041291\n",
       "11            walking    male   1494  177570.705489  100413.455154  37.495315\n",
       "12   worked_from_home  female  17409  226232.999655   97016.438853  41.219829\n",
       "13   worked_from_home    male  18621  253921.717631  137849.973686  41.092208\n",
       "14                NaN     NaN  23034            NaN            NaN        NaN"
      ]
     },
     "execution_count": 157,
     "metadata": {},
     "output_type": "execute_result"
    }
   ],
   "source": [
    "replica_people_demographics"
   ]
  },
  {
   "cell_type": "code",
   "execution_count": 175,
   "id": "7f7c1066-c820-43d3-a68e-0dcdfc1dcdce",
   "metadata": {},
   "outputs": [
    {
     "data": {
      "text/html": [
       "\n",
       "<style>\n",
       "  #altair-viz-cebd89191ea445d5913c0af588f73707.vega-embed {\n",
       "    width: 100%;\n",
       "    display: flex;\n",
       "  }\n",
       "\n",
       "  #altair-viz-cebd89191ea445d5913c0af588f73707.vega-embed details,\n",
       "  #altair-viz-cebd89191ea445d5913c0af588f73707.vega-embed details summary {\n",
       "    position: relative;\n",
       "  }\n",
       "</style>\n",
       "<div id=\"altair-viz-cebd89191ea445d5913c0af588f73707\"></div>\n",
       "<script type=\"text/javascript\">\n",
       "  var VEGA_DEBUG = (typeof VEGA_DEBUG == \"undefined\") ? {} : VEGA_DEBUG;\n",
       "  (function(spec, embedOpt){\n",
       "    let outputDiv = document.currentScript.previousElementSibling;\n",
       "    if (outputDiv.id !== \"altair-viz-cebd89191ea445d5913c0af588f73707\") {\n",
       "      outputDiv = document.getElementById(\"altair-viz-cebd89191ea445d5913c0af588f73707\");\n",
       "    }\n",
       "    const paths = {\n",
       "      \"vega\": \"https://cdn.jsdelivr.net/npm/vega@5?noext\",\n",
       "      \"vega-lib\": \"https://cdn.jsdelivr.net/npm/vega-lib?noext\",\n",
       "      \"vega-lite\": \"https://cdn.jsdelivr.net/npm/vega-lite@5.14.1?noext\",\n",
       "      \"vega-embed\": \"https://cdn.jsdelivr.net/npm/vega-embed@6?noext\",\n",
       "    };\n",
       "\n",
       "    function maybeLoadScript(lib, version) {\n",
       "      var key = `${lib.replace(\"-\", \"\")}_version`;\n",
       "      return (VEGA_DEBUG[key] == version) ?\n",
       "        Promise.resolve(paths[lib]) :\n",
       "        new Promise(function(resolve, reject) {\n",
       "          var s = document.createElement('script');\n",
       "          document.getElementsByTagName(\"head\")[0].appendChild(s);\n",
       "          s.async = true;\n",
       "          s.onload = () => {\n",
       "            VEGA_DEBUG[key] = version;\n",
       "            return resolve(paths[lib]);\n",
       "          };\n",
       "          s.onerror = () => reject(`Error loading script: ${paths[lib]}`);\n",
       "          s.src = paths[lib];\n",
       "        });\n",
       "    }\n",
       "\n",
       "    function showError(err) {\n",
       "      outputDiv.innerHTML = `<div class=\"error\" style=\"color:red;\">${err}</div>`;\n",
       "      throw err;\n",
       "    }\n",
       "\n",
       "    function displayChart(vegaEmbed) {\n",
       "      vegaEmbed(outputDiv, spec, embedOpt)\n",
       "        .catch(err => showError(`Javascript Error: ${err.message}<br>This usually means there's a typo in your chart specification. See the javascript console for the full traceback.`));\n",
       "    }\n",
       "\n",
       "    if(typeof define === \"function\" && define.amd) {\n",
       "      requirejs.config({paths});\n",
       "      require([\"vega-embed\"], displayChart, err => showError(`Error loading script: ${err.message}`));\n",
       "    } else {\n",
       "      maybeLoadScript(\"vega\", \"5\")\n",
       "        .then(() => maybeLoadScript(\"vega-lite\", \"5.14.1\"))\n",
       "        .then(() => maybeLoadScript(\"vega-embed\", \"6\"))\n",
       "        .catch(showError)\n",
       "        .then(() => displayChart(vegaEmbed));\n",
       "    }\n",
       "  })({\"config\": {\"view\": {\"continuousWidth\": 300, \"continuousHeight\": 300}}, \"data\": {\"name\": \"data-560f52f1a3d2154b0ba88a73dfa51e3d\"}, \"mark\": {\"type\": \"bar\"}, \"encoding\": {\"color\": {\"field\": \"commute_mode\", \"scale\": {\"range\": [\"#E16B26\", \"#EB9F3C\", \"#f6e7e1\", \"#8CBCCB\", \"#2EA8CE\", \"#136C97\"]}, \"type\": \"nominal\"}, \"tooltip\": [{\"field\": \"commute_mode\", \"type\": \"nominal\"}, {\"field\": \"sex\", \"type\": \"nominal\"}, {\"field\": \"n_ppl\", \"type\": \"quantitative\"}, {\"field\": \"avg_h_income\", \"type\": \"quantitative\"}, {\"field\": \"avg_p_income\", \"type\": \"quantitative\"}, {\"field\": \"avg_age\", \"type\": \"quantitative\"}], \"x\": {\"field\": \"commute_mode\", \"title\": \"Mode\", \"type\": \"nominal\"}, \"y\": {\"field\": \"n_ppl\", \"title\": \"Number of People\", \"type\": \"quantitative\"}}, \"height\": 500, \"title\": \"Trips by Resident Type\", \"width\": 800, \"$schema\": \"https://vega.github.io/schema/vega-lite/v5.14.1.json\", \"datasets\": {\"data-560f52f1a3d2154b0ba88a73dfa51e3d\": [{\"commute_mode\": \"auto_passenger\", \"sex\": \"female\", \"n_ppl\": 10908, \"avg_h_income\": 175717.98276494315, \"avg_p_income\": 70255.6260542721, \"avg_age\": 42.234506784011735}, {\"commute_mode\": \"auto_passenger\", \"sex\": \"male\", \"n_ppl\": 11605, \"avg_h_income\": 177241.39491598448, \"avg_p_income\": 82072.2916846187, \"avg_age\": 42.18552348125808}, {\"commute_mode\": \"biking\", \"sex\": \"female\", \"n_ppl\": 234, \"avg_h_income\": 248565.14102564103, \"avg_p_income\": 82592.4188034188, \"avg_age\": 36.085470085470085}, {\"commute_mode\": \"biking\", \"sex\": \"male\", \"n_ppl\": 527, \"avg_h_income\": 219563.0834914611, \"avg_p_income\": 120152.85958254269, \"avg_age\": 38.426944971537004}, {\"commute_mode\": \"other_travel_mode\", \"sex\": \"female\", \"n_ppl\": 36176, \"avg_h_income\": 126129.72100287484, \"avg_p_income\": 21413.68293896506, \"avg_age\": 55.16159885006634}, {\"commute_mode\": \"other_travel_mode\", \"sex\": \"male\", \"n_ppl\": 26290, \"avg_h_income\": 116775.549106124, \"avg_p_income\": 33563.07881323697, \"avg_age\": 54.32826169646253}, {\"commute_mode\": \"private_auto\", \"sex\": \"female\", \"n_ppl\": 45312, \"avg_h_income\": 186499.6594058969, \"avg_p_income\": 76492.00534074858, \"avg_age\": 42.626302083333336}, {\"commute_mode\": \"private_auto\", \"sex\": \"male\", \"n_ppl\": 59762, \"avg_h_income\": 190643.2012650179, \"avg_p_income\": 100712.3869181085, \"avg_age\": 42.872092634115326}, {\"commute_mode\": \"public_transit\", \"sex\": \"female\", \"n_ppl\": 22008, \"avg_h_income\": 193540.921346783, \"avg_p_income\": 84074.07211014177, \"avg_age\": 41.92193747728099}, {\"commute_mode\": \"public_transit\", \"sex\": \"male\", \"n_ppl\": 26480, \"avg_h_income\": 207838.00169939577, \"avg_p_income\": 125445.94248489426, \"avg_age\": 42.25929003021148}, {\"commute_mode\": \"walking\", \"sex\": \"female\", \"n_ppl\": 1332, \"avg_h_income\": 160144.72597597598, \"avg_p_income\": 63737.95645645646, \"avg_age\": 38.041291291291294}, {\"commute_mode\": \"walking\", \"sex\": \"male\", \"n_ppl\": 1494, \"avg_h_income\": 177570.70548862114, \"avg_p_income\": 100413.45515394914, \"avg_age\": 37.49531459170014}, {\"commute_mode\": \"worked_from_home\", \"sex\": \"female\", \"n_ppl\": 17409, \"avg_h_income\": 226232.9996553507, \"avg_p_income\": 97016.43885346659, \"avg_age\": 41.21982882417141}, {\"commute_mode\": \"worked_from_home\", \"sex\": \"male\", \"n_ppl\": 18621, \"avg_h_income\": 253921.71763063208, \"avg_p_income\": 137849.97368562376, \"avg_age\": 41.09220772246388}, {\"commute_mode\": null, \"sex\": null, \"n_ppl\": 23034, \"avg_h_income\": null, \"avg_p_income\": null, \"avg_age\": null}]}}, {\"mode\": \"vega-lite\"});\n",
       "</script>"
      ],
      "text/plain": [
       "alt.Chart(...)"
      ]
     },
     "execution_count": 175,
     "metadata": {},
     "output_type": "execute_result"
    }
   ],
   "source": [
    "chart = (\n",
    "        alt.Chart(replica_people_demographics)\n",
    "        .mark_bar()\n",
    "        .encode(\n",
    "            x=alt.X(\"commute_mode\", title = \"Mode\"),\n",
    "            y=alt.Y(\"n_ppl\", title = \"Number of People\"),\n",
    "            color=alt.Color(\"commute_mode\", scale=alt.Scale(range = cp.CALITP_DIVERGING_COLORS)),\n",
    "            tooltip=replica_people_demographics.columns.tolist())\n",
    "      .properties(title = \"Trips by Resident Type\",\n",
    "    width=800,\n",
    "    height=500)\n",
    "        )\n",
    "chart "
   ]
  },
  {
   "cell_type": "code",
   "execution_count": null,
   "id": "a1dba8b5-7356-441f-8e6c-0f98e0f80c4c",
   "metadata": {},
   "outputs": [],
   "source": []
  },
  {
   "cell_type": "markdown",
   "id": "97f56b20-f299-43f5-bad4-2a42362962e2",
   "metadata": {},
   "source": [
    "### Read in Streetlight Data: 2022"
   ]
  },
  {
   "cell_type": "code",
   "execution_count": 100,
   "id": "6f3cf136-7531-4b62-b050-169b7bd1c4ec",
   "metadata": {},
   "outputs": [],
   "source": [
    "streetlight = \"streetlight_bay_bridge_corridor_study_corridor_study.csv\""
   ]
  },
  {
   "cell_type": "code",
   "execution_count": 101,
   "id": "47943ff0-2949-409b-a9ad-ca5efea3b52d",
   "metadata": {},
   "outputs": [],
   "source": [
    "sl_data = to_snakecase(pd.read_csv(f\"{GCS_PATH}{streetlight}\"))"
   ]
  },
  {
   "cell_type": "code",
   "execution_count": 136,
   "id": "28fc95f8-5898-486f-81f3-f0ac7885431c",
   "metadata": {},
   "outputs": [
    {
     "data": {
      "text/html": [
       "<h4><strong>Streetlight Data Sample</strong></h4>"
      ],
      "text/plain": [
       "<IPython.core.display.HTML object>"
      ]
     },
     "metadata": {},
     "output_type": "display_data"
    }
   ],
   "source": [
    "display(HTML(\"<h4><strong>Streetlight Data Sample</strong></h4>\")) \n"
   ]
  },
  {
   "cell_type": "code",
   "execution_count": 137,
   "id": "3398c3fa-856d-49a0-8d2d-7994f3f50df1",
   "metadata": {},
   "outputs": [
    {
     "data": {
      "text/html": [
       "<div>\n",
       "<style scoped>\n",
       "    .dataframe tbody tr th:only-of-type {\n",
       "        vertical-align: middle;\n",
       "    }\n",
       "\n",
       "    .dataframe tbody tr th {\n",
       "        vertical-align: top;\n",
       "    }\n",
       "\n",
       "    .dataframe thead th {\n",
       "        text-align: right;\n",
       "    }\n",
       "</style>\n",
       "<table border=\"1\" class=\"dataframe\">\n",
       "  <thead>\n",
       "    <tr style=\"text-align: right;\">\n",
       "      <th></th>\n",
       "      <th>data_periods</th>\n",
       "      <th>mode_of_travel</th>\n",
       "      <th>zone_id</th>\n",
       "      <th>zone_name</th>\n",
       "      <th>road_classification</th>\n",
       "      <th>line_zone_length__miles_</th>\n",
       "      <th>zone_is_pass_through</th>\n",
       "      <th>zone_direction__degrees_</th>\n",
       "      <th>zone_cardinal_direction</th>\n",
       "      <th>zone_is_bi_direction</th>\n",
       "      <th>day_type</th>\n",
       "      <th>day_part</th>\n",
       "      <th>average_daily_segment_traffic__stl_volume_</th>\n",
       "      <th>avg_segment_speed__mph_</th>\n",
       "      <th>avg_segment_travel_time__sec_</th>\n",
       "      <th>free_flow_speed__mph_</th>\n",
       "      <th>vehicle_miles_of_travel__stl_volume_</th>\n",
       "      <th>travel_time_index</th>\n",
       "      <th>congested_segment</th>\n",
       "      <th>_85th_speed_percentile</th>\n",
       "    </tr>\n",
       "  </thead>\n",
       "  <tbody>\n",
       "    <tr>\n",
       "      <th>876</th>\n",
       "      <td>Jan 01, 2022 - Dec 31, 2022</td>\n",
       "      <td>All Vehicles CVD Plus - StL All Vehicles Volume</td>\n",
       "      <td>1114495634</td>\n",
       "      <td>I 80 / 395419317 / 1</td>\n",
       "      <td>Motorway</td>\n",
       "      <td>0.213</td>\n",
       "      <td>yes</td>\n",
       "      <td>82</td>\n",
       "      <td>EAST</td>\n",
       "      <td>no</td>\n",
       "      <td>2: Weekend Day (Sa-Su)</td>\n",
       "      <td>06: 4am (4am-5am)</td>\n",
       "      <td>864</td>\n",
       "      <td>68</td>\n",
       "      <td>11</td>\n",
       "      <td>69.063</td>\n",
       "      <td>184.44</td>\n",
       "      <td>1.01</td>\n",
       "      <td>False</td>\n",
       "      <td>75</td>\n",
       "    </tr>\n",
       "  </tbody>\n",
       "</table>\n",
       "</div>"
      ],
      "text/plain": [
       "                    data_periods  \\\n",
       "876  Jan 01, 2022 - Dec 31, 2022   \n",
       "\n",
       "                                      mode_of_travel     zone_id  \\\n",
       "876  All Vehicles CVD Plus - StL All Vehicles Volume  1114495634   \n",
       "\n",
       "                zone_name road_classification  line_zone_length__miles_  \\\n",
       "876  I 80 / 395419317 / 1            Motorway                     0.213   \n",
       "\n",
       "    zone_is_pass_through  zone_direction__degrees_ zone_cardinal_direction  \\\n",
       "876                  yes                        82                    EAST   \n",
       "\n",
       "    zone_is_bi_direction                day_type           day_part  \\\n",
       "876                   no  2: Weekend Day (Sa-Su)  06: 4am (4am-5am)   \n",
       "\n",
       "     average_daily_segment_traffic__stl_volume_  avg_segment_speed__mph_  \\\n",
       "876                                         864                       68   \n",
       "\n",
       "     avg_segment_travel_time__sec_  free_flow_speed__mph_  \\\n",
       "876                             11                 69.063   \n",
       "\n",
       "     vehicle_miles_of_travel__stl_volume_  travel_time_index  \\\n",
       "876                                184.44               1.01   \n",
       "\n",
       "     congested_segment  _85th_speed_percentile  \n",
       "876              False                      75  "
      ]
     },
     "execution_count": 137,
     "metadata": {},
     "output_type": "execute_result"
    }
   ],
   "source": [
    "sl_data.sample()"
   ]
  },
  {
   "cell_type": "markdown",
   "id": "3a3d1c17-1d5b-4ddf-aac3-78b8156ceca4",
   "metadata": {},
   "source": [
    "#### Data Explorations: Streetlight"
   ]
  },
  {
   "cell_type": "code",
   "execution_count": 177,
   "id": "da10c3eb-31bd-437e-b546-82472d66f964",
   "metadata": {},
   "outputs": [
    {
     "data": {
      "text/html": [
       "<strong>Length of the Streetlight Data</strong>"
      ],
      "text/plain": [
       "<IPython.core.display.HTML object>"
      ]
     },
     "metadata": {},
     "output_type": "display_data"
    },
    {
     "data": {
      "text/plain": [
       "1710"
      ]
     },
     "execution_count": 177,
     "metadata": {},
     "output_type": "execute_result"
    }
   ],
   "source": [
    "display(HTML(\"<strong>Length of the Streetlight Data</strong>\")) \n",
    "\n",
    "len(sl_data)"
   ]
  },
  {
   "cell_type": "code",
   "execution_count": 174,
   "id": "5e403ce9-33bc-4453-9323-df46fad1f38a",
   "metadata": {},
   "outputs": [],
   "source": [
    "# sl_data>>count(_.zone_id, _.zone_name)"
   ]
  },
  {
   "cell_type": "code",
   "execution_count": 105,
   "id": "cd1ce590-2019-43f0-ba09-786520479ad8",
   "metadata": {},
   "outputs": [
    {
     "data": {
      "text/html": [
       "<div>\n",
       "<style scoped>\n",
       "    .dataframe tbody tr th:only-of-type {\n",
       "        vertical-align: middle;\n",
       "    }\n",
       "\n",
       "    .dataframe tbody tr th {\n",
       "        vertical-align: top;\n",
       "    }\n",
       "\n",
       "    .dataframe thead th {\n",
       "        text-align: right;\n",
       "    }\n",
       "</style>\n",
       "<table border=\"1\" class=\"dataframe\">\n",
       "  <thead>\n",
       "    <tr style=\"text-align: right;\">\n",
       "      <th></th>\n",
       "      <th>day_part</th>\n",
       "      <th>n</th>\n",
       "    </tr>\n",
       "  </thead>\n",
       "  <tbody>\n",
       "    <tr>\n",
       "      <th>0</th>\n",
       "      <td>00: All Day (12am-12am)</td>\n",
       "      <td>3</td>\n",
       "    </tr>\n",
       "    <tr>\n",
       "      <th>1</th>\n",
       "      <td>01: 12am (12am-1am)</td>\n",
       "      <td>3</td>\n",
       "    </tr>\n",
       "    <tr>\n",
       "      <th>2</th>\n",
       "      <td>02: Early AM (12am-6am)</td>\n",
       "      <td>3</td>\n",
       "    </tr>\n",
       "    <tr>\n",
       "      <th>3</th>\n",
       "      <td>03: 1am (1am-2am)</td>\n",
       "      <td>3</td>\n",
       "    </tr>\n",
       "    <tr>\n",
       "      <th>4</th>\n",
       "      <td>04: 2am (2am-3am)</td>\n",
       "      <td>3</td>\n",
       "    </tr>\n",
       "    <tr>\n",
       "      <th>5</th>\n",
       "      <td>05: 3am (3am-4am)</td>\n",
       "      <td>3</td>\n",
       "    </tr>\n",
       "    <tr>\n",
       "      <th>6</th>\n",
       "      <td>06: 4am (4am-5am)</td>\n",
       "      <td>3</td>\n",
       "    </tr>\n",
       "    <tr>\n",
       "      <th>7</th>\n",
       "      <td>07: 5am (5am-6am)</td>\n",
       "      <td>3</td>\n",
       "    </tr>\n",
       "    <tr>\n",
       "      <th>8</th>\n",
       "      <td>08: 6am (6am-7am)</td>\n",
       "      <td>3</td>\n",
       "    </tr>\n",
       "    <tr>\n",
       "      <th>9</th>\n",
       "      <td>09: Peak AM (6am-10am)</td>\n",
       "      <td>3</td>\n",
       "    </tr>\n",
       "    <tr>\n",
       "      <th>10</th>\n",
       "      <td>10: 7am (7am-8am)</td>\n",
       "      <td>3</td>\n",
       "    </tr>\n",
       "    <tr>\n",
       "      <th>11</th>\n",
       "      <td>11: 8am (8am-9am)</td>\n",
       "      <td>3</td>\n",
       "    </tr>\n",
       "    <tr>\n",
       "      <th>12</th>\n",
       "      <td>12: 9am (9am-10am)</td>\n",
       "      <td>3</td>\n",
       "    </tr>\n",
       "    <tr>\n",
       "      <th>13</th>\n",
       "      <td>13: 10am (10am-11am)</td>\n",
       "      <td>3</td>\n",
       "    </tr>\n",
       "    <tr>\n",
       "      <th>14</th>\n",
       "      <td>14: Mid-Day (10am-4pm)</td>\n",
       "      <td>3</td>\n",
       "    </tr>\n",
       "    <tr>\n",
       "      <th>15</th>\n",
       "      <td>15: 11am (11am-12noon)</td>\n",
       "      <td>3</td>\n",
       "    </tr>\n",
       "    <tr>\n",
       "      <th>16</th>\n",
       "      <td>16: 12pm (12noon-1pm)</td>\n",
       "      <td>3</td>\n",
       "    </tr>\n",
       "    <tr>\n",
       "      <th>17</th>\n",
       "      <td>17: 1pm (1pm-2pm)</td>\n",
       "      <td>3</td>\n",
       "    </tr>\n",
       "    <tr>\n",
       "      <th>18</th>\n",
       "      <td>18: 2pm (2pm-3pm)</td>\n",
       "      <td>3</td>\n",
       "    </tr>\n",
       "    <tr>\n",
       "      <th>19</th>\n",
       "      <td>19: 3pm (3pm-4pm)</td>\n",
       "      <td>3</td>\n",
       "    </tr>\n",
       "    <tr>\n",
       "      <th>20</th>\n",
       "      <td>20: 4pm (4pm-5pm)</td>\n",
       "      <td>3</td>\n",
       "    </tr>\n",
       "    <tr>\n",
       "      <th>21</th>\n",
       "      <td>21: Peak PM (4pm-8pm)</td>\n",
       "      <td>3</td>\n",
       "    </tr>\n",
       "    <tr>\n",
       "      <th>22</th>\n",
       "      <td>22: 5pm (5pm-6pm)</td>\n",
       "      <td>3</td>\n",
       "    </tr>\n",
       "    <tr>\n",
       "      <th>23</th>\n",
       "      <td>23: 6pm (6pm-7pm)</td>\n",
       "      <td>3</td>\n",
       "    </tr>\n",
       "    <tr>\n",
       "      <th>24</th>\n",
       "      <td>24: 7pm (7pm-8pm)</td>\n",
       "      <td>3</td>\n",
       "    </tr>\n",
       "    <tr>\n",
       "      <th>25</th>\n",
       "      <td>25: 8pm (8pm-9pm)</td>\n",
       "      <td>3</td>\n",
       "    </tr>\n",
       "    <tr>\n",
       "      <th>26</th>\n",
       "      <td>26: Late PM (8pm-12am)</td>\n",
       "      <td>3</td>\n",
       "    </tr>\n",
       "    <tr>\n",
       "      <th>27</th>\n",
       "      <td>27: 9pm (9pm-10pm)</td>\n",
       "      <td>3</td>\n",
       "    </tr>\n",
       "    <tr>\n",
       "      <th>28</th>\n",
       "      <td>28: 10pm (10pm-11pm)</td>\n",
       "      <td>3</td>\n",
       "    </tr>\n",
       "    <tr>\n",
       "      <th>29</th>\n",
       "      <td>29: 11pm (11pm-12am)</td>\n",
       "      <td>3</td>\n",
       "    </tr>\n",
       "  </tbody>\n",
       "</table>\n",
       "</div>"
      ],
      "text/plain": [
       "                   day_part  n\n",
       "0   00: All Day (12am-12am)  3\n",
       "1       01: 12am (12am-1am)  3\n",
       "2   02: Early AM (12am-6am)  3\n",
       "3         03: 1am (1am-2am)  3\n",
       "4         04: 2am (2am-3am)  3\n",
       "5         05: 3am (3am-4am)  3\n",
       "6         06: 4am (4am-5am)  3\n",
       "7         07: 5am (5am-6am)  3\n",
       "8         08: 6am (6am-7am)  3\n",
       "9    09: Peak AM (6am-10am)  3\n",
       "10        10: 7am (7am-8am)  3\n",
       "11        11: 8am (8am-9am)  3\n",
       "12       12: 9am (9am-10am)  3\n",
       "13     13: 10am (10am-11am)  3\n",
       "14   14: Mid-Day (10am-4pm)  3\n",
       "15   15: 11am (11am-12noon)  3\n",
       "16    16: 12pm (12noon-1pm)  3\n",
       "17        17: 1pm (1pm-2pm)  3\n",
       "18        18: 2pm (2pm-3pm)  3\n",
       "19        19: 3pm (3pm-4pm)  3\n",
       "20        20: 4pm (4pm-5pm)  3\n",
       "21    21: Peak PM (4pm-8pm)  3\n",
       "22        22: 5pm (5pm-6pm)  3\n",
       "23        23: 6pm (6pm-7pm)  3\n",
       "24        24: 7pm (7pm-8pm)  3\n",
       "25        25: 8pm (8pm-9pm)  3\n",
       "26   26: Late PM (8pm-12am)  3\n",
       "27       27: 9pm (9pm-10pm)  3\n",
       "28     28: 10pm (10pm-11pm)  3\n",
       "29     29: 11pm (11pm-12am)  3"
      ]
     },
     "execution_count": 105,
     "metadata": {},
     "output_type": "execute_result"
    }
   ],
   "source": [
    "sl_data>>filter(_.zone_id==1133975975)>>count(_.day_part)"
   ]
  },
  {
   "cell_type": "markdown",
   "id": "5d362f46-cfe6-4d13-b3ea-67f491a66897",
   "metadata": {},
   "source": [
    "* The data here shows that each segment is broken out into hour time slots and then also aggregated to peak time periods. moving forward we will look at the `All Day` for `day_part` and `All Days` for `day_type`"
   ]
  },
  {
   "cell_type": "code",
   "execution_count": 106,
   "id": "57c890a6-c667-4917-a090-b85f1aadcad7",
   "metadata": {},
   "outputs": [],
   "source": [
    "sl_data_single_day = sl_data>>filter(_.day_part == '00: All Day (12am-12am)', _.day_type == '0: All Days (M-Su)')"
   ]
  },
  {
   "cell_type": "code",
   "execution_count": 172,
   "id": "0a059c82-c7c8-43b9-92a6-178b42101828",
   "metadata": {},
   "outputs": [],
   "source": [
    "# len(sl_data_single_day)"
   ]
  },
  {
   "cell_type": "code",
   "execution_count": 173,
   "id": "67213733-9905-42bd-912e-cf943cd66b40",
   "metadata": {},
   "outputs": [],
   "source": [
    "# sl_data_single_day>>count(_.zone_id, _.zone_name)"
   ]
  },
  {
   "cell_type": "code",
   "execution_count": 171,
   "id": "2e497c77-91ef-490f-a288-abe4e2c740dc",
   "metadata": {},
   "outputs": [],
   "source": [
    "# sl_data_single_day>>filter(_.zone_id==1133975975)"
   ]
  },
  {
   "cell_type": "code",
   "execution_count": 110,
   "id": "28292f62-b2ab-46cb-ac08-b728facdfdc0",
   "metadata": {},
   "outputs": [
    {
     "data": {
      "text/html": [
       "<div>\n",
       "<style scoped>\n",
       "    .dataframe tbody tr th:only-of-type {\n",
       "        vertical-align: middle;\n",
       "    }\n",
       "\n",
       "    .dataframe tbody tr th {\n",
       "        vertical-align: top;\n",
       "    }\n",
       "\n",
       "    .dataframe thead th {\n",
       "        text-align: right;\n",
       "    }\n",
       "</style>\n",
       "<table border=\"1\" class=\"dataframe\">\n",
       "  <thead>\n",
       "    <tr style=\"text-align: right;\">\n",
       "      <th></th>\n",
       "      <th>data_periods</th>\n",
       "      <th>mode_of_travel</th>\n",
       "      <th>zone_id</th>\n",
       "      <th>zone_name</th>\n",
       "      <th>road_classification</th>\n",
       "      <th>line_zone_length__miles_</th>\n",
       "      <th>zone_is_pass_through</th>\n",
       "      <th>zone_direction__degrees_</th>\n",
       "      <th>zone_cardinal_direction</th>\n",
       "      <th>zone_is_bi_direction</th>\n",
       "      <th>day_type</th>\n",
       "      <th>day_part</th>\n",
       "      <th>average_daily_segment_traffic__stl_volume_</th>\n",
       "      <th>avg_segment_speed__mph_</th>\n",
       "      <th>avg_segment_travel_time__sec_</th>\n",
       "      <th>free_flow_speed__mph_</th>\n",
       "      <th>vehicle_miles_of_travel__stl_volume_</th>\n",
       "      <th>travel_time_index</th>\n",
       "      <th>congested_segment</th>\n",
       "      <th>_85th_speed_percentile</th>\n",
       "    </tr>\n",
       "  </thead>\n",
       "  <tbody>\n",
       "    <tr>\n",
       "      <th>270</th>\n",
       "      <td>Jan 01, 2022 - Dec 31, 2022</td>\n",
       "      <td>All Vehicles CVD Plus - StL All Vehicles Volume</td>\n",
       "      <td>1032819756</td>\n",
       "      <td>San Francisco – Oakland Bay Bridge / 11415208 / 1</td>\n",
       "      <td>Motorway</td>\n",
       "      <td>0.109</td>\n",
       "      <td>yes</td>\n",
       "      <td>220</td>\n",
       "      <td>WEST</td>\n",
       "      <td>no</td>\n",
       "      <td>0: All Days (M-Su)</td>\n",
       "      <td>00: All Day (12am-12am)</td>\n",
       "      <td>132245</td>\n",
       "      <td>49</td>\n",
       "      <td>10</td>\n",
       "      <td>68.596</td>\n",
       "      <td>14450.00</td>\n",
       "      <td>1.41</td>\n",
       "      <td>True</td>\n",
       "      <td>67</td>\n",
       "    </tr>\n",
       "    <tr>\n",
       "      <th>450</th>\n",
       "      <td>Jan 01, 2022 - Dec 31, 2022</td>\n",
       "      <td>All Vehicles CVD Plus - StL All Vehicles Volume</td>\n",
       "      <td>1050419851</td>\n",
       "      <td>San Francisco – Oakland Bay Bridge / 179235221 / 1</td>\n",
       "      <td>Motorway</td>\n",
       "      <td>0.004</td>\n",
       "      <td>yes</td>\n",
       "      <td>38</td>\n",
       "      <td>EAST</td>\n",
       "      <td>no</td>\n",
       "      <td>0: All Days (M-Su)</td>\n",
       "      <td>00: All Day (12am-12am)</td>\n",
       "      <td>161170</td>\n",
       "      <td>53</td>\n",
       "      <td>2</td>\n",
       "      <td>67.840</td>\n",
       "      <td>695.17</td>\n",
       "      <td>1.29</td>\n",
       "      <td>True</td>\n",
       "      <td>67</td>\n",
       "    </tr>\n",
       "    <tr>\n",
       "      <th>0</th>\n",
       "      <td>Jan 01, 2022 - Dec 31, 2022</td>\n",
       "      <td>All Vehicles CVD Plus - StL All Vehicles Volume</td>\n",
       "      <td>1005898592</td>\n",
       "      <td>San Francisco – Oakland Bay Bridge / 8921938 / 1</td>\n",
       "      <td>Motorway</td>\n",
       "      <td>1.985</td>\n",
       "      <td>yes</td>\n",
       "      <td>220</td>\n",
       "      <td>WEST</td>\n",
       "      <td>no</td>\n",
       "      <td>0: All Days (M-Su)</td>\n",
       "      <td>00: All Day (12am-12am)</td>\n",
       "      <td>108456</td>\n",
       "      <td>44</td>\n",
       "      <td>179</td>\n",
       "      <td>66.336</td>\n",
       "      <td>215328.00</td>\n",
       "      <td>1.50</td>\n",
       "      <td>True</td>\n",
       "      <td>63</td>\n",
       "    </tr>\n",
       "  </tbody>\n",
       "</table>\n",
       "</div>"
      ],
      "text/plain": [
       "                    data_periods  \\\n",
       "270  Jan 01, 2022 - Dec 31, 2022   \n",
       "450  Jan 01, 2022 - Dec 31, 2022   \n",
       "0    Jan 01, 2022 - Dec 31, 2022   \n",
       "\n",
       "                                      mode_of_travel     zone_id  \\\n",
       "270  All Vehicles CVD Plus - StL All Vehicles Volume  1032819756   \n",
       "450  All Vehicles CVD Plus - StL All Vehicles Volume  1050419851   \n",
       "0    All Vehicles CVD Plus - StL All Vehicles Volume  1005898592   \n",
       "\n",
       "                                              zone_name road_classification  \\\n",
       "270   San Francisco – Oakland Bay Bridge / 11415208 / 1            Motorway   \n",
       "450  San Francisco – Oakland Bay Bridge / 179235221 / 1            Motorway   \n",
       "0      San Francisco – Oakland Bay Bridge / 8921938 / 1            Motorway   \n",
       "\n",
       "     line_zone_length__miles_ zone_is_pass_through  zone_direction__degrees_  \\\n",
       "270                     0.109                  yes                       220   \n",
       "450                     0.004                  yes                        38   \n",
       "0                       1.985                  yes                       220   \n",
       "\n",
       "    zone_cardinal_direction zone_is_bi_direction            day_type  \\\n",
       "270                    WEST                   no  0: All Days (M-Su)   \n",
       "450                    EAST                   no  0: All Days (M-Su)   \n",
       "0                      WEST                   no  0: All Days (M-Su)   \n",
       "\n",
       "                    day_part  average_daily_segment_traffic__stl_volume_  \\\n",
       "270  00: All Day (12am-12am)                                      132245   \n",
       "450  00: All Day (12am-12am)                                      161170   \n",
       "0    00: All Day (12am-12am)                                      108456   \n",
       "\n",
       "     avg_segment_speed__mph_  avg_segment_travel_time__sec_  \\\n",
       "270                       49                             10   \n",
       "450                       53                              2   \n",
       "0                         44                            179   \n",
       "\n",
       "     free_flow_speed__mph_  vehicle_miles_of_travel__stl_volume_  \\\n",
       "270                 68.596                              14450.00   \n",
       "450                 67.840                                695.17   \n",
       "0                   66.336                             215328.00   \n",
       "\n",
       "     travel_time_index  congested_segment  _85th_speed_percentile  \n",
       "270               1.41               True                      67  \n",
       "450               1.29               True                      67  \n",
       "0                 1.50               True                      63  "
      ]
     },
     "execution_count": 110,
     "metadata": {},
     "output_type": "execute_result"
    }
   ],
   "source": [
    "sl_data_single_day.sample(3)"
   ]
  },
  {
   "cell_type": "code",
   "execution_count": 170,
   "id": "14211b7a-38f9-4b55-b669-67fdae44aa80",
   "metadata": {},
   "outputs": [],
   "source": [
    "# sl_data_single_day>>group_by(_.zone_cardinal_direction, _.day_type, _.day_part)>>summarize(avg_speed= _.avg_segment_speed__mph_.mean(),\n",
    "#                                                                                           avg_travel_time = _.avg_segment_travel_time__sec_.mean(),\n",
    "#                                                                                           avg_volume = _.average_daily_segment_traffic__stl_volume_.mean(),\n",
    "#                                                                                           sum_volume = _.average_daily_segment_traffic__stl_volume_.sum())"
   ]
  },
  {
   "cell_type": "code",
   "execution_count": 112,
   "id": "778d58f0-25b7-4cf7-b60a-10e773055f48",
   "metadata": {},
   "outputs": [],
   "source": [
    "sl_peaks = (sl_data>>filter(\n",
    "                            _.day_part != \"01: 12am (12am-1am)\",\n",
    "                            _.day_part != \"03: 1am (1am-2am)\",\n",
    "                            _.day_part != \"04: 2am (2am-3am)\",\n",
    "                            _.day_part != \"05: 3am (3am-4am)\",\n",
    "                            _.day_part != \"06: 4am (4am-5am)\",\n",
    "                            _.day_part != \"07: 5am (5am-6am)\",\n",
    "                            _.day_part != \"08: 6am (6am-7am)\",\n",
    "                            _.day_part != \"10: 7am (7am-8am)\",\n",
    "                            _.day_part != \"11: 8am (8am-9am)\",\n",
    "                            _.day_part != \"12: 9am (9am-10am)\",\n",
    "                            _.day_part != \"13: 10am (10am-11am)\",\n",
    "                            _.day_part != \"15: 11am (11am-12noon)\",\n",
    "                            _.day_part != \"16: 12pm (12noon-1pm)\",\n",
    "                            _.day_part != \"17: 1pm (1pm-2pm)\",\n",
    "                            _.day_part != \"18: 2pm (2pm-3pm)\",\n",
    "                            _.day_part != \"19: 3pm (3pm-4pm)\",\n",
    "                            _.day_part != \"20: 4pm (4pm-5pm)\",\n",
    "                            _.day_part != \"22: 5pm (5pm-6pm)\",\n",
    "                            _.day_part != \"23: 6pm (6pm-7pm)\",\n",
    "                            _.day_part != \"24: 7pm (7pm-8pm)\",\n",
    "                            _.day_part != \"25: 8pm (8pm-9pm)\",\n",
    "                            _.day_part != \"27: 9pm (9pm-10pm)\",\n",
    "                            _.day_part != \"28: 10pm (10pm-11pm)\",\n",
    "                            _.day_part !=\"29: 11pm (11pm-12am)\"))"
   ]
  },
  {
   "cell_type": "code",
   "execution_count": null,
   "id": "2f2fa572-8bb8-4b9f-a299-48df2b838c31",
   "metadata": {},
   "outputs": [],
   "source": []
  },
  {
   "cell_type": "code",
   "execution_count": 113,
   "id": "29eab191-4eaa-445c-b444-49048135ef3b",
   "metadata": {},
   "outputs": [],
   "source": [
    "sl_hourly = (sl_data>>filter(_.day_part != \"00: All Day (12am-12am)\",\n",
    "                            _.day_part != \"02: Early AM (12am-6am)\",\n",
    "                            _.day_part != \"09: Peak AM (6am-10am)\",\n",
    "                            _.day_part != \"14: Mid-Day (10am-4pm)\",\n",
    "                            _.day_part != \"21: Peak PM (4pm-8pm)\", _.day_part !=\"26: Late PM (8pm-12am)\"))"
   ]
  },
  {
   "cell_type": "code",
   "execution_count": null,
   "id": "4cd2a638-cce1-4c94-8444-4aa4844bf7f0",
   "metadata": {},
   "outputs": [],
   "source": []
  },
  {
   "cell_type": "code",
   "execution_count": 114,
   "id": "896b63a9-b881-418a-ba40-dbea63f81614",
   "metadata": {},
   "outputs": [],
   "source": [
    "sl_peaks_agg = sl_peaks>>group_by(_.zone_cardinal_direction,\n",
    "    _.day_type, _.day_part)>>summarize(avg_speed= _.avg_segment_speed__mph_.mean(),\n",
    "                                                                                          avg_travel_time = _.avg_segment_travel_time__sec_.mean(),\n",
    "                                                                                          avg_volume = _.average_daily_segment_traffic__stl_volume_.mean(),\n",
    "                                                                                          sum_volume = _.average_daily_segment_traffic__stl_volume_.sum())"
   ]
  },
  {
   "cell_type": "code",
   "execution_count": 169,
   "id": "cac29684-36ac-488b-b2d1-044ab5ef86c0",
   "metadata": {},
   "outputs": [],
   "source": [
    "# sl_peaks_agg.sample()"
   ]
  },
  {
   "cell_type": "code",
   "execution_count": 166,
   "id": "eedc968c-8306-449a-a2e3-774719d8e256",
   "metadata": {},
   "outputs": [
    {
     "data": {
      "text/html": [
       "\n",
       "<style>\n",
       "  #altair-viz-c89d831999ed415485e1756d489092c6.vega-embed {\n",
       "    width: 100%;\n",
       "    display: flex;\n",
       "  }\n",
       "\n",
       "  #altair-viz-c89d831999ed415485e1756d489092c6.vega-embed details,\n",
       "  #altair-viz-c89d831999ed415485e1756d489092c6.vega-embed details summary {\n",
       "    position: relative;\n",
       "  }\n",
       "</style>\n",
       "<div id=\"altair-viz-c89d831999ed415485e1756d489092c6\"></div>\n",
       "<script type=\"text/javascript\">\n",
       "  var VEGA_DEBUG = (typeof VEGA_DEBUG == \"undefined\") ? {} : VEGA_DEBUG;\n",
       "  (function(spec, embedOpt){\n",
       "    let outputDiv = document.currentScript.previousElementSibling;\n",
       "    if (outputDiv.id !== \"altair-viz-c89d831999ed415485e1756d489092c6\") {\n",
       "      outputDiv = document.getElementById(\"altair-viz-c89d831999ed415485e1756d489092c6\");\n",
       "    }\n",
       "    const paths = {\n",
       "      \"vega\": \"https://cdn.jsdelivr.net/npm/vega@5?noext\",\n",
       "      \"vega-lib\": \"https://cdn.jsdelivr.net/npm/vega-lib?noext\",\n",
       "      \"vega-lite\": \"https://cdn.jsdelivr.net/npm/vega-lite@5.14.1?noext\",\n",
       "      \"vega-embed\": \"https://cdn.jsdelivr.net/npm/vega-embed@6?noext\",\n",
       "    };\n",
       "\n",
       "    function maybeLoadScript(lib, version) {\n",
       "      var key = `${lib.replace(\"-\", \"\")}_version`;\n",
       "      return (VEGA_DEBUG[key] == version) ?\n",
       "        Promise.resolve(paths[lib]) :\n",
       "        new Promise(function(resolve, reject) {\n",
       "          var s = document.createElement('script');\n",
       "          document.getElementsByTagName(\"head\")[0].appendChild(s);\n",
       "          s.async = true;\n",
       "          s.onload = () => {\n",
       "            VEGA_DEBUG[key] = version;\n",
       "            return resolve(paths[lib]);\n",
       "          };\n",
       "          s.onerror = () => reject(`Error loading script: ${paths[lib]}`);\n",
       "          s.src = paths[lib];\n",
       "        });\n",
       "    }\n",
       "\n",
       "    function showError(err) {\n",
       "      outputDiv.innerHTML = `<div class=\"error\" style=\"color:red;\">${err}</div>`;\n",
       "      throw err;\n",
       "    }\n",
       "\n",
       "    function displayChart(vegaEmbed) {\n",
       "      vegaEmbed(outputDiv, spec, embedOpt)\n",
       "        .catch(err => showError(`Javascript Error: ${err.message}<br>This usually means there's a typo in your chart specification. See the javascript console for the full traceback.`));\n",
       "    }\n",
       "\n",
       "    if(typeof define === \"function\" && define.amd) {\n",
       "      requirejs.config({paths});\n",
       "      require([\"vega-embed\"], displayChart, err => showError(`Error loading script: ${err.message}`));\n",
       "    } else {\n",
       "      maybeLoadScript(\"vega\", \"5\")\n",
       "        .then(() => maybeLoadScript(\"vega-lite\", \"5.14.1\"))\n",
       "        .then(() => maybeLoadScript(\"vega-embed\", \"6\"))\n",
       "        .catch(showError)\n",
       "        .then(() => displayChart(vegaEmbed));\n",
       "    }\n",
       "  })({\"config\": {\"view\": {\"continuousWidth\": 300, \"continuousHeight\": 300}}, \"data\": {\"name\": \"data-88c9c9c3ca0b506afbfd3c98fc4bbbb7\"}, \"mark\": {\"type\": \"bar\"}, \"encoding\": {\"color\": {\"field\": \"zone_cardinal_direction\", \"scale\": {\"domain\": [\"EAST\", \"WEST\"], \"range\": [\"#E16B26\", \"#EB9F3C\", \"#f6e7e1\", \"#8CBCCB\", \"#2EA8CE\", \"#136C97\"]}, \"type\": \"nominal\"}, \"tooltip\": [{\"field\": \"zone_cardinal_direction\", \"type\": \"nominal\"}, {\"field\": \"day_type\", \"type\": \"nominal\"}, {\"field\": \"day_part\", \"type\": \"nominal\"}, {\"field\": \"avg_speed\", \"type\": \"quantitative\"}, {\"field\": \"avg_travel_time\", \"type\": \"quantitative\"}, {\"field\": \"avg_volume\", \"type\": \"quantitative\"}, {\"field\": \"sum_volume\", \"type\": \"quantitative\"}], \"x\": {\"field\": \"day_part\", \"type\": \"nominal\"}, \"y\": {\"field\": \"avg_speed\", \"type\": \"quantitative\"}}, \"height\": 300, \"title\": \"Average Speed by Direction by Day Part\", \"width\": 800, \"$schema\": \"https://vega.github.io/schema/vega-lite/v5.14.1.json\", \"datasets\": {\"data-88c9c9c3ca0b506afbfd3c98fc4bbbb7\": [{\"zone_cardinal_direction\": \"EAST\", \"day_type\": \"0: All Days (M-Su)\", \"day_part\": \"00: All Day (12am-12am)\", \"avg_speed\": 55.9, \"avg_travel_time\": 32.6, \"avg_volume\": 139682.3, \"sum_volume\": 1396823}, {\"zone_cardinal_direction\": \"EAST\", \"day_type\": \"0: All Days (M-Su)\", \"day_part\": \"02: Early AM (12am-6am)\", \"avg_speed\": 66.2, \"avg_travel_time\": 26.2, \"avg_volume\": 8431.8, \"sum_volume\": 84318}, {\"zone_cardinal_direction\": \"EAST\", \"day_type\": \"0: All Days (M-Su)\", \"day_part\": \"09: Peak AM (6am-10am)\", \"avg_speed\": 62.5, \"avg_travel_time\": 27.9, \"avg_volume\": 19938.0, \"sum_volume\": 199380}, {\"zone_cardinal_direction\": \"EAST\", \"day_type\": \"0: All Days (M-Su)\", \"day_part\": \"14: Mid-Day (10am-4pm)\", \"avg_speed\": 54.5, \"avg_travel_time\": 33.5, \"avg_volume\": 53138.4, \"sum_volume\": 531384}, {\"zone_cardinal_direction\": \"EAST\", \"day_type\": \"0: All Days (M-Su)\", \"day_part\": \"21: Peak PM (4pm-8pm)\", \"avg_speed\": 49.5, \"avg_travel_time\": 37.6, \"avg_volume\": 34933.0, \"sum_volume\": 349330}, {\"zone_cardinal_direction\": \"EAST\", \"day_type\": \"0: All Days (M-Su)\", \"day_part\": \"26: Late PM (8pm-12am)\", \"avg_speed\": 59.6, \"avg_travel_time\": 29.5, \"avg_volume\": 23240.7, \"sum_volume\": 232407}, {\"zone_cardinal_direction\": \"EAST\", \"day_type\": \"1: Weekday (M-F)\", \"day_part\": \"00: All Day (12am-12am)\", \"avg_speed\": 55.5, \"avg_travel_time\": 33.3, \"avg_volume\": 143069.3, \"sum_volume\": 1430693}, {\"zone_cardinal_direction\": \"EAST\", \"day_type\": \"1: Weekday (M-F)\", \"day_part\": \"02: Early AM (12am-6am)\", \"avg_speed\": 66.5, \"avg_travel_time\": 26.0, \"avg_volume\": 7564.6, \"sum_volume\": 75646}, {\"zone_cardinal_direction\": \"EAST\", \"day_type\": \"1: Weekday (M-F)\", \"day_part\": \"09: Peak AM (6am-10am)\", \"avg_speed\": 62.0, \"avg_travel_time\": 28.3, \"avg_volume\": 21303.9, \"sum_volume\": 213039}, {\"zone_cardinal_direction\": \"EAST\", \"day_type\": \"1: Weekday (M-F)\", \"day_part\": \"14: Mid-Day (10am-4pm)\", \"avg_speed\": 53.5, \"avg_travel_time\": 34.6, \"avg_volume\": 55291.5, \"sum_volume\": 552915}, {\"zone_cardinal_direction\": \"EAST\", \"day_type\": \"1: Weekday (M-F)\", \"day_part\": \"21: Peak PM (4pm-8pm)\", \"avg_speed\": 49.1, \"avg_travel_time\": 38.3, \"avg_volume\": 35673.8, \"sum_volume\": 356738}, {\"zone_cardinal_direction\": \"EAST\", \"day_type\": \"1: Weekday (M-F)\", \"day_part\": \"26: Late PM (8pm-12am)\", \"avg_speed\": 60.0, \"avg_travel_time\": 29.2, \"avg_volume\": 23235.8, \"sum_volume\": 232358}, {\"zone_cardinal_direction\": \"EAST\", \"day_type\": \"2: Weekend Day (Sa-Su)\", \"day_part\": \"00: All Day (12am-12am)\", \"avg_speed\": 57.3, \"avg_travel_time\": 30.8, \"avg_volume\": 131294.7, \"sum_volume\": 1312947}, {\"zone_cardinal_direction\": \"EAST\", \"day_type\": \"2: Weekend Day (Sa-Su)\", \"day_part\": \"02: Early AM (12am-6am)\", \"avg_speed\": 65.7, \"avg_travel_time\": 26.4, \"avg_volume\": 10579.4, \"sum_volume\": 105794}, {\"zone_cardinal_direction\": \"EAST\", \"day_type\": \"2: Weekend Day (Sa-Su)\", \"day_part\": \"09: Peak AM (6am-10am)\", \"avg_speed\": 64.4, \"avg_travel_time\": 26.8, \"avg_volume\": 16556.2, \"sum_volume\": 165562}, {\"zone_cardinal_direction\": \"EAST\", \"day_type\": \"2: Weekend Day (Sa-Su)\", \"day_part\": \"14: Mid-Day (10am-4pm)\", \"avg_speed\": 57.2, \"avg_travel_time\": 30.5, \"avg_volume\": 47807.3, \"sum_volume\": 478073}, {\"zone_cardinal_direction\": \"EAST\", \"day_type\": \"2: Weekend Day (Sa-Su)\", \"day_part\": \"21: Peak PM (4pm-8pm)\", \"avg_speed\": 51.0, \"avg_travel_time\": 35.7, \"avg_volume\": 33098.7, \"sum_volume\": 330987}, {\"zone_cardinal_direction\": \"EAST\", \"day_type\": \"2: Weekend Day (Sa-Su)\", \"day_part\": \"26: Late PM (8pm-12am)\", \"avg_speed\": 58.2, \"avg_travel_time\": 30.3, \"avg_volume\": 23252.7, \"sum_volume\": 232527}, {\"zone_cardinal_direction\": \"WEST\", \"day_type\": \"0: All Days (M-Su)\", \"day_part\": \"00: All Day (12am-12am)\", \"avg_speed\": 50.333333333333336, \"avg_travel_time\": 41.77777777777778, \"avg_volume\": 123029.77777777778, \"sum_volume\": 1107268}, {\"zone_cardinal_direction\": \"WEST\", \"day_type\": \"0: All Days (M-Su)\", \"day_part\": \"02: Early AM (12am-6am)\", \"avg_speed\": 62.111111111111114, \"avg_travel_time\": 30.88888888888889, \"avg_volume\": 14892.888888888889, \"sum_volume\": 134036}, {\"zone_cardinal_direction\": \"WEST\", \"day_type\": \"0: All Days (M-Su)\", \"day_part\": \"09: Peak AM (6am-10am)\", \"avg_speed\": 43.888888888888886, \"avg_travel_time\": 46.22222222222222, \"avg_volume\": 30567.666666666668, \"sum_volume\": 275109}, {\"zone_cardinal_direction\": \"WEST\", \"day_type\": \"0: All Days (M-Su)\", \"day_part\": \"14: Mid-Day (10am-4pm)\", \"avg_speed\": 50.0, \"avg_travel_time\": 43.0, \"avg_volume\": 42606.22222222222, \"sum_volume\": 383456}, {\"zone_cardinal_direction\": \"WEST\", \"day_type\": \"0: All Days (M-Su)\", \"day_part\": \"21: Peak PM (4pm-8pm)\", \"avg_speed\": 45.888888888888886, \"avg_travel_time\": 47.666666666666664, \"avg_volume\": 22056.555555555555, \"sum_volume\": 198509}, {\"zone_cardinal_direction\": \"WEST\", \"day_type\": \"0: All Days (M-Su)\", \"day_part\": \"26: Late PM (8pm-12am)\", \"avg_speed\": 62.333333333333336, \"avg_travel_time\": 31.444444444444443, \"avg_volume\": 12906.444444444445, \"sum_volume\": 116158}, {\"zone_cardinal_direction\": \"WEST\", \"day_type\": \"1: Weekday (M-F)\", \"day_part\": \"00: All Day (12am-12am)\", \"avg_speed\": 50.888888888888886, \"avg_travel_time\": 41.22222222222222, \"avg_volume\": 127485.44444444444, \"sum_volume\": 1147369}, {\"zone_cardinal_direction\": \"WEST\", \"day_type\": \"1: Weekday (M-F)\", \"day_part\": \"02: Early AM (12am-6am)\", \"avg_speed\": 61.333333333333336, \"avg_travel_time\": 31.444444444444443, \"avg_volume\": 17773.777777777777, \"sum_volume\": 159964}, {\"zone_cardinal_direction\": \"WEST\", \"day_type\": \"1: Weekday (M-F)\", \"day_part\": \"09: Peak AM (6am-10am)\", \"avg_speed\": 39.55555555555556, \"avg_travel_time\": 50.111111111111114, \"avg_volume\": 35295.444444444445, \"sum_volume\": 317659}, {\"zone_cardinal_direction\": \"WEST\", \"day_type\": \"1: Weekday (M-F)\", \"day_part\": \"14: Mid-Day (10am-4pm)\", \"avg_speed\": 53.44444444444444, \"avg_travel_time\": 39.888888888888886, \"avg_volume\": 41435.11111111111, \"sum_volume\": 372916}, {\"zone_cardinal_direction\": \"WEST\", \"day_type\": \"1: Weekday (M-F)\", \"day_part\": \"21: Peak PM (4pm-8pm)\", \"avg_speed\": 48.55555555555556, \"avg_travel_time\": 44.55555555555556, \"avg_volume\": 21333.88888888889, \"sum_volume\": 192005}, {\"zone_cardinal_direction\": \"WEST\", \"day_type\": \"1: Weekday (M-F)\", \"day_part\": \"26: Late PM (8pm-12am)\", \"avg_speed\": 63.666666666666664, \"avg_travel_time\": 30.22222222222222, \"avg_volume\": 11647.222222222223, \"sum_volume\": 104825}, {\"zone_cardinal_direction\": \"WEST\", \"day_type\": \"2: Weekend Day (Sa-Su)\", \"day_part\": \"00: All Day (12am-12am)\", \"avg_speed\": 49.55555555555556, \"avg_travel_time\": 43.44444444444444, \"avg_volume\": 111996.88888888889, \"sum_volume\": 1007972}, {\"zone_cardinal_direction\": \"WEST\", \"day_type\": \"2: Weekend Day (Sa-Su)\", \"day_part\": \"02: Early AM (12am-6am)\", \"avg_speed\": 67.33333333333333, \"avg_travel_time\": 28.0, \"avg_volume\": 7759.111111111111, \"sum_volume\": 69832}, {\"zone_cardinal_direction\": \"WEST\", \"day_type\": \"2: Weekend Day (Sa-Su)\", \"day_part\": \"09: Peak AM (6am-10am)\", \"avg_speed\": 64.22222222222223, \"avg_travel_time\": 29.77777777777778, \"avg_volume\": 18860.444444444445, \"sum_volume\": 169744}, {\"zone_cardinal_direction\": \"WEST\", \"day_type\": \"2: Weekend Day (Sa-Su)\", \"day_part\": \"14: Mid-Day (10am-4pm)\", \"avg_speed\": 42.333333333333336, \"avg_travel_time\": 50.333333333333336, \"avg_volume\": 45505.88888888889, \"sum_volume\": 409553}, {\"zone_cardinal_direction\": \"WEST\", \"day_type\": \"2: Weekend Day (Sa-Su)\", \"day_part\": \"21: Peak PM (4pm-8pm)\", \"avg_speed\": 40.22222222222222, \"avg_travel_time\": 54.22222222222222, \"avg_volume\": 23846.222222222223, \"sum_volume\": 214616}, {\"zone_cardinal_direction\": \"WEST\", \"day_type\": \"2: Weekend Day (Sa-Su)\", \"day_part\": \"26: Late PM (8pm-12am)\", \"avg_speed\": 59.55555555555556, \"avg_travel_time\": 34.0, \"avg_volume\": 16025.0, \"sum_volume\": 144225}]}}, {\"mode\": \"vega-lite\"});\n",
       "</script>"
      ],
      "text/plain": [
       "alt.Chart(...)"
      ]
     },
     "execution_count": 166,
     "metadata": {},
     "output_type": "execute_result"
    }
   ],
   "source": [
    "chart = (\n",
    "        alt.Chart(sl_peaks_agg)\n",
    "        .mark_bar()\n",
    "        .encode(\n",
    "            x=alt.X(\"day_part\"),\n",
    "            y=alt.Y(\"avg_speed\"),\n",
    "            color=alt.Color(\"zone_cardinal_direction\", scale=alt.Scale(range = cp.CALITP_DIVERGING_COLORS,\n",
    "            domain=sl_peaks_agg[\"zone_cardinal_direction\"].unique().tolist())\n",
    "            ),\n",
    "            tooltip=sl_peaks_agg.columns.tolist(),\n",
    "            )\n",
    "      .properties(title = \"Average Speed by Direction by Day Part\",\n",
    "    width=800,\n",
    "    height=300)\n",
    "        )\n",
    "chart "
   ]
  },
  {
   "cell_type": "code",
   "execution_count": 168,
   "id": "637afffc-560f-4485-985a-d6ee73dd65a7",
   "metadata": {},
   "outputs": [
    {
     "data": {
      "text/html": [
       "\n",
       "<style>\n",
       "  #altair-viz-e1e57496fae44c15a9df7ecfdce90ef3.vega-embed {\n",
       "    width: 100%;\n",
       "    display: flex;\n",
       "  }\n",
       "\n",
       "  #altair-viz-e1e57496fae44c15a9df7ecfdce90ef3.vega-embed details,\n",
       "  #altair-viz-e1e57496fae44c15a9df7ecfdce90ef3.vega-embed details summary {\n",
       "    position: relative;\n",
       "  }\n",
       "</style>\n",
       "<div id=\"altair-viz-e1e57496fae44c15a9df7ecfdce90ef3\"></div>\n",
       "<script type=\"text/javascript\">\n",
       "  var VEGA_DEBUG = (typeof VEGA_DEBUG == \"undefined\") ? {} : VEGA_DEBUG;\n",
       "  (function(spec, embedOpt){\n",
       "    let outputDiv = document.currentScript.previousElementSibling;\n",
       "    if (outputDiv.id !== \"altair-viz-e1e57496fae44c15a9df7ecfdce90ef3\") {\n",
       "      outputDiv = document.getElementById(\"altair-viz-e1e57496fae44c15a9df7ecfdce90ef3\");\n",
       "    }\n",
       "    const paths = {\n",
       "      \"vega\": \"https://cdn.jsdelivr.net/npm/vega@5?noext\",\n",
       "      \"vega-lib\": \"https://cdn.jsdelivr.net/npm/vega-lib?noext\",\n",
       "      \"vega-lite\": \"https://cdn.jsdelivr.net/npm/vega-lite@5.14.1?noext\",\n",
       "      \"vega-embed\": \"https://cdn.jsdelivr.net/npm/vega-embed@6?noext\",\n",
       "    };\n",
       "\n",
       "    function maybeLoadScript(lib, version) {\n",
       "      var key = `${lib.replace(\"-\", \"\")}_version`;\n",
       "      return (VEGA_DEBUG[key] == version) ?\n",
       "        Promise.resolve(paths[lib]) :\n",
       "        new Promise(function(resolve, reject) {\n",
       "          var s = document.createElement('script');\n",
       "          document.getElementsByTagName(\"head\")[0].appendChild(s);\n",
       "          s.async = true;\n",
       "          s.onload = () => {\n",
       "            VEGA_DEBUG[key] = version;\n",
       "            return resolve(paths[lib]);\n",
       "          };\n",
       "          s.onerror = () => reject(`Error loading script: ${paths[lib]}`);\n",
       "          s.src = paths[lib];\n",
       "        });\n",
       "    }\n",
       "\n",
       "    function showError(err) {\n",
       "      outputDiv.innerHTML = `<div class=\"error\" style=\"color:red;\">${err}</div>`;\n",
       "      throw err;\n",
       "    }\n",
       "\n",
       "    function displayChart(vegaEmbed) {\n",
       "      vegaEmbed(outputDiv, spec, embedOpt)\n",
       "        .catch(err => showError(`Javascript Error: ${err.message}<br>This usually means there's a typo in your chart specification. See the javascript console for the full traceback.`));\n",
       "    }\n",
       "\n",
       "    if(typeof define === \"function\" && define.amd) {\n",
       "      requirejs.config({paths});\n",
       "      require([\"vega-embed\"], displayChart, err => showError(`Error loading script: ${err.message}`));\n",
       "    } else {\n",
       "      maybeLoadScript(\"vega\", \"5\")\n",
       "        .then(() => maybeLoadScript(\"vega-lite\", \"5.14.1\"))\n",
       "        .then(() => maybeLoadScript(\"vega-embed\", \"6\"))\n",
       "        .catch(showError)\n",
       "        .then(() => displayChart(vegaEmbed));\n",
       "    }\n",
       "  })({\"config\": {\"view\": {\"continuousWidth\": 300, \"continuousHeight\": 300}}, \"data\": {\"name\": \"data-88c9c9c3ca0b506afbfd3c98fc4bbbb7\"}, \"mark\": {\"type\": \"bar\"}, \"encoding\": {\"color\": {\"field\": \"zone_cardinal_direction\", \"scale\": {\"domain\": [\"EAST\", \"WEST\"], \"range\": [\"#E16B26\", \"#EB9F3C\", \"#f6e7e1\", \"#8CBCCB\", \"#2EA8CE\", \"#136C97\"]}, \"type\": \"nominal\"}, \"tooltip\": [{\"field\": \"zone_cardinal_direction\", \"type\": \"nominal\"}, {\"field\": \"day_type\", \"type\": \"nominal\"}, {\"field\": \"day_part\", \"type\": \"nominal\"}, {\"field\": \"avg_speed\", \"type\": \"quantitative\"}, {\"field\": \"avg_travel_time\", \"type\": \"quantitative\"}, {\"field\": \"avg_volume\", \"type\": \"quantitative\"}, {\"field\": \"sum_volume\", \"type\": \"quantitative\"}], \"x\": {\"field\": \"day_part\", \"type\": \"nominal\"}, \"y\": {\"field\": \"sum_volume\", \"type\": \"quantitative\"}}, \"height\": 300, \"title\": \"Average Volume by Direction by Day Part\", \"width\": 800, \"$schema\": \"https://vega.github.io/schema/vega-lite/v5.14.1.json\", \"datasets\": {\"data-88c9c9c3ca0b506afbfd3c98fc4bbbb7\": [{\"zone_cardinal_direction\": \"EAST\", \"day_type\": \"0: All Days (M-Su)\", \"day_part\": \"00: All Day (12am-12am)\", \"avg_speed\": 55.9, \"avg_travel_time\": 32.6, \"avg_volume\": 139682.3, \"sum_volume\": 1396823}, {\"zone_cardinal_direction\": \"EAST\", \"day_type\": \"0: All Days (M-Su)\", \"day_part\": \"02: Early AM (12am-6am)\", \"avg_speed\": 66.2, \"avg_travel_time\": 26.2, \"avg_volume\": 8431.8, \"sum_volume\": 84318}, {\"zone_cardinal_direction\": \"EAST\", \"day_type\": \"0: All Days (M-Su)\", \"day_part\": \"09: Peak AM (6am-10am)\", \"avg_speed\": 62.5, \"avg_travel_time\": 27.9, \"avg_volume\": 19938.0, \"sum_volume\": 199380}, {\"zone_cardinal_direction\": \"EAST\", \"day_type\": \"0: All Days (M-Su)\", \"day_part\": \"14: Mid-Day (10am-4pm)\", \"avg_speed\": 54.5, \"avg_travel_time\": 33.5, \"avg_volume\": 53138.4, \"sum_volume\": 531384}, {\"zone_cardinal_direction\": \"EAST\", \"day_type\": \"0: All Days (M-Su)\", \"day_part\": \"21: Peak PM (4pm-8pm)\", \"avg_speed\": 49.5, \"avg_travel_time\": 37.6, \"avg_volume\": 34933.0, \"sum_volume\": 349330}, {\"zone_cardinal_direction\": \"EAST\", \"day_type\": \"0: All Days (M-Su)\", \"day_part\": \"26: Late PM (8pm-12am)\", \"avg_speed\": 59.6, \"avg_travel_time\": 29.5, \"avg_volume\": 23240.7, \"sum_volume\": 232407}, {\"zone_cardinal_direction\": \"EAST\", \"day_type\": \"1: Weekday (M-F)\", \"day_part\": \"00: All Day (12am-12am)\", \"avg_speed\": 55.5, \"avg_travel_time\": 33.3, \"avg_volume\": 143069.3, \"sum_volume\": 1430693}, {\"zone_cardinal_direction\": \"EAST\", \"day_type\": \"1: Weekday (M-F)\", \"day_part\": \"02: Early AM (12am-6am)\", \"avg_speed\": 66.5, \"avg_travel_time\": 26.0, \"avg_volume\": 7564.6, \"sum_volume\": 75646}, {\"zone_cardinal_direction\": \"EAST\", \"day_type\": \"1: Weekday (M-F)\", \"day_part\": \"09: Peak AM (6am-10am)\", \"avg_speed\": 62.0, \"avg_travel_time\": 28.3, \"avg_volume\": 21303.9, \"sum_volume\": 213039}, {\"zone_cardinal_direction\": \"EAST\", \"day_type\": \"1: Weekday (M-F)\", \"day_part\": \"14: Mid-Day (10am-4pm)\", \"avg_speed\": 53.5, \"avg_travel_time\": 34.6, \"avg_volume\": 55291.5, \"sum_volume\": 552915}, {\"zone_cardinal_direction\": \"EAST\", \"day_type\": \"1: Weekday (M-F)\", \"day_part\": \"21: Peak PM (4pm-8pm)\", \"avg_speed\": 49.1, \"avg_travel_time\": 38.3, \"avg_volume\": 35673.8, \"sum_volume\": 356738}, {\"zone_cardinal_direction\": \"EAST\", \"day_type\": \"1: Weekday (M-F)\", \"day_part\": \"26: Late PM (8pm-12am)\", \"avg_speed\": 60.0, \"avg_travel_time\": 29.2, \"avg_volume\": 23235.8, \"sum_volume\": 232358}, {\"zone_cardinal_direction\": \"EAST\", \"day_type\": \"2: Weekend Day (Sa-Su)\", \"day_part\": \"00: All Day (12am-12am)\", \"avg_speed\": 57.3, \"avg_travel_time\": 30.8, \"avg_volume\": 131294.7, \"sum_volume\": 1312947}, {\"zone_cardinal_direction\": \"EAST\", \"day_type\": \"2: Weekend Day (Sa-Su)\", \"day_part\": \"02: Early AM (12am-6am)\", \"avg_speed\": 65.7, \"avg_travel_time\": 26.4, \"avg_volume\": 10579.4, \"sum_volume\": 105794}, {\"zone_cardinal_direction\": \"EAST\", \"day_type\": \"2: Weekend Day (Sa-Su)\", \"day_part\": \"09: Peak AM (6am-10am)\", \"avg_speed\": 64.4, \"avg_travel_time\": 26.8, \"avg_volume\": 16556.2, \"sum_volume\": 165562}, {\"zone_cardinal_direction\": \"EAST\", \"day_type\": \"2: Weekend Day (Sa-Su)\", \"day_part\": \"14: Mid-Day (10am-4pm)\", \"avg_speed\": 57.2, \"avg_travel_time\": 30.5, \"avg_volume\": 47807.3, \"sum_volume\": 478073}, {\"zone_cardinal_direction\": \"EAST\", \"day_type\": \"2: Weekend Day (Sa-Su)\", \"day_part\": \"21: Peak PM (4pm-8pm)\", \"avg_speed\": 51.0, \"avg_travel_time\": 35.7, \"avg_volume\": 33098.7, \"sum_volume\": 330987}, {\"zone_cardinal_direction\": \"EAST\", \"day_type\": \"2: Weekend Day (Sa-Su)\", \"day_part\": \"26: Late PM (8pm-12am)\", \"avg_speed\": 58.2, \"avg_travel_time\": 30.3, \"avg_volume\": 23252.7, \"sum_volume\": 232527}, {\"zone_cardinal_direction\": \"WEST\", \"day_type\": \"0: All Days (M-Su)\", \"day_part\": \"00: All Day (12am-12am)\", \"avg_speed\": 50.333333333333336, \"avg_travel_time\": 41.77777777777778, \"avg_volume\": 123029.77777777778, \"sum_volume\": 1107268}, {\"zone_cardinal_direction\": \"WEST\", \"day_type\": \"0: All Days (M-Su)\", \"day_part\": \"02: Early AM (12am-6am)\", \"avg_speed\": 62.111111111111114, \"avg_travel_time\": 30.88888888888889, \"avg_volume\": 14892.888888888889, \"sum_volume\": 134036}, {\"zone_cardinal_direction\": \"WEST\", \"day_type\": \"0: All Days (M-Su)\", \"day_part\": \"09: Peak AM (6am-10am)\", \"avg_speed\": 43.888888888888886, \"avg_travel_time\": 46.22222222222222, \"avg_volume\": 30567.666666666668, \"sum_volume\": 275109}, {\"zone_cardinal_direction\": \"WEST\", \"day_type\": \"0: All Days (M-Su)\", \"day_part\": \"14: Mid-Day (10am-4pm)\", \"avg_speed\": 50.0, \"avg_travel_time\": 43.0, \"avg_volume\": 42606.22222222222, \"sum_volume\": 383456}, {\"zone_cardinal_direction\": \"WEST\", \"day_type\": \"0: All Days (M-Su)\", \"day_part\": \"21: Peak PM (4pm-8pm)\", \"avg_speed\": 45.888888888888886, \"avg_travel_time\": 47.666666666666664, \"avg_volume\": 22056.555555555555, \"sum_volume\": 198509}, {\"zone_cardinal_direction\": \"WEST\", \"day_type\": \"0: All Days (M-Su)\", \"day_part\": \"26: Late PM (8pm-12am)\", \"avg_speed\": 62.333333333333336, \"avg_travel_time\": 31.444444444444443, \"avg_volume\": 12906.444444444445, \"sum_volume\": 116158}, {\"zone_cardinal_direction\": \"WEST\", \"day_type\": \"1: Weekday (M-F)\", \"day_part\": \"00: All Day (12am-12am)\", \"avg_speed\": 50.888888888888886, \"avg_travel_time\": 41.22222222222222, \"avg_volume\": 127485.44444444444, \"sum_volume\": 1147369}, {\"zone_cardinal_direction\": \"WEST\", \"day_type\": \"1: Weekday (M-F)\", \"day_part\": \"02: Early AM (12am-6am)\", \"avg_speed\": 61.333333333333336, \"avg_travel_time\": 31.444444444444443, \"avg_volume\": 17773.777777777777, \"sum_volume\": 159964}, {\"zone_cardinal_direction\": \"WEST\", \"day_type\": \"1: Weekday (M-F)\", \"day_part\": \"09: Peak AM (6am-10am)\", \"avg_speed\": 39.55555555555556, \"avg_travel_time\": 50.111111111111114, \"avg_volume\": 35295.444444444445, \"sum_volume\": 317659}, {\"zone_cardinal_direction\": \"WEST\", \"day_type\": \"1: Weekday (M-F)\", \"day_part\": \"14: Mid-Day (10am-4pm)\", \"avg_speed\": 53.44444444444444, \"avg_travel_time\": 39.888888888888886, \"avg_volume\": 41435.11111111111, \"sum_volume\": 372916}, {\"zone_cardinal_direction\": \"WEST\", \"day_type\": \"1: Weekday (M-F)\", \"day_part\": \"21: Peak PM (4pm-8pm)\", \"avg_speed\": 48.55555555555556, \"avg_travel_time\": 44.55555555555556, \"avg_volume\": 21333.88888888889, \"sum_volume\": 192005}, {\"zone_cardinal_direction\": \"WEST\", \"day_type\": \"1: Weekday (M-F)\", \"day_part\": \"26: Late PM (8pm-12am)\", \"avg_speed\": 63.666666666666664, \"avg_travel_time\": 30.22222222222222, \"avg_volume\": 11647.222222222223, \"sum_volume\": 104825}, {\"zone_cardinal_direction\": \"WEST\", \"day_type\": \"2: Weekend Day (Sa-Su)\", \"day_part\": \"00: All Day (12am-12am)\", \"avg_speed\": 49.55555555555556, \"avg_travel_time\": 43.44444444444444, \"avg_volume\": 111996.88888888889, \"sum_volume\": 1007972}, {\"zone_cardinal_direction\": \"WEST\", \"day_type\": \"2: Weekend Day (Sa-Su)\", \"day_part\": \"02: Early AM (12am-6am)\", \"avg_speed\": 67.33333333333333, \"avg_travel_time\": 28.0, \"avg_volume\": 7759.111111111111, \"sum_volume\": 69832}, {\"zone_cardinal_direction\": \"WEST\", \"day_type\": \"2: Weekend Day (Sa-Su)\", \"day_part\": \"09: Peak AM (6am-10am)\", \"avg_speed\": 64.22222222222223, \"avg_travel_time\": 29.77777777777778, \"avg_volume\": 18860.444444444445, \"sum_volume\": 169744}, {\"zone_cardinal_direction\": \"WEST\", \"day_type\": \"2: Weekend Day (Sa-Su)\", \"day_part\": \"14: Mid-Day (10am-4pm)\", \"avg_speed\": 42.333333333333336, \"avg_travel_time\": 50.333333333333336, \"avg_volume\": 45505.88888888889, \"sum_volume\": 409553}, {\"zone_cardinal_direction\": \"WEST\", \"day_type\": \"2: Weekend Day (Sa-Su)\", \"day_part\": \"21: Peak PM (4pm-8pm)\", \"avg_speed\": 40.22222222222222, \"avg_travel_time\": 54.22222222222222, \"avg_volume\": 23846.222222222223, \"sum_volume\": 214616}, {\"zone_cardinal_direction\": \"WEST\", \"day_type\": \"2: Weekend Day (Sa-Su)\", \"day_part\": \"26: Late PM (8pm-12am)\", \"avg_speed\": 59.55555555555556, \"avg_travel_time\": 34.0, \"avg_volume\": 16025.0, \"sum_volume\": 144225}]}}, {\"mode\": \"vega-lite\"});\n",
       "</script>"
      ],
      "text/plain": [
       "alt.Chart(...)"
      ]
     },
     "execution_count": 168,
     "metadata": {},
     "output_type": "execute_result"
    }
   ],
   "source": [
    "chart = (\n",
    "        alt.Chart(sl_peaks_agg)\n",
    "        .mark_bar()\n",
    "        .encode(\n",
    "            x=alt.X(\"day_part\"),\n",
    "            y=alt.Y(\"sum_volume\"),\n",
    "            color=alt.Color(\"zone_cardinal_direction\", scale=alt.Scale(range = cp.CALITP_DIVERGING_COLORS,\n",
    "            domain=sl_peaks_agg[\"zone_cardinal_direction\"].unique().tolist())\n",
    "            ),\n",
    "            tooltip=sl_peaks_agg.columns.tolist(),\n",
    "            )\n",
    "      .properties(title = \"Average Volume by Direction by Day Part\",\n",
    "    width=800,\n",
    "    height=300)\n",
    "        )\n",
    "chart "
   ]
  },
  {
   "cell_type": "code",
   "execution_count": null,
   "id": "6dade438-083b-446d-b1f7-d1542a3e60e6",
   "metadata": {},
   "outputs": [],
   "source": []
  },
  {
   "cell_type": "code",
   "execution_count": null,
   "id": "7d954475-9f22-418b-bb31-0ab9799a459e",
   "metadata": {},
   "outputs": [],
   "source": []
  },
  {
   "cell_type": "code",
   "execution_count": 118,
   "id": "b2eaa07a-2d05-4ed5-a405-a474500a643e",
   "metadata": {},
   "outputs": [],
   "source": [
    "sl_hourly_agg = sl_hourly>>filter(_.day_type==\"0: All Days (M-Su)\")>>group_by(_.zone_cardinal_direction,\n",
    "    _.day_type, _.day_part)>>summarize(avg_speed= _.avg_segment_speed__mph_.mean(),\n",
    "                                                                                          avg_travel_time = _.avg_segment_travel_time__sec_.mean(),\n",
    "                                                                                          avg_volume = _.average_daily_segment_traffic__stl_volume_.mean(),\n",
    "                                                                                          sum_volume = _.average_daily_segment_traffic__stl_volume_.sum())"
   ]
  },
  {
   "cell_type": "code",
   "execution_count": 161,
   "id": "1ab3835d-5f8e-4721-9c29-7bd107bad334",
   "metadata": {},
   "outputs": [],
   "source": [
    "# sl_hourly_agg.sample()"
   ]
  },
  {
   "cell_type": "code",
   "execution_count": null,
   "id": "10efa809-ec77-4127-aa62-a838dd005c7d",
   "metadata": {},
   "outputs": [],
   "source": []
  },
  {
   "cell_type": "code",
   "execution_count": 164,
   "id": "8cc145e6-b3d9-4b31-9a0d-270431ebf5fb",
   "metadata": {},
   "outputs": [
    {
     "data": {
      "text/html": [
       "\n",
       "<style>\n",
       "  #altair-viz-d799a1c38a9e488eb412742181a0d598.vega-embed {\n",
       "    width: 100%;\n",
       "    display: flex;\n",
       "  }\n",
       "\n",
       "  #altair-viz-d799a1c38a9e488eb412742181a0d598.vega-embed details,\n",
       "  #altair-viz-d799a1c38a9e488eb412742181a0d598.vega-embed details summary {\n",
       "    position: relative;\n",
       "  }\n",
       "</style>\n",
       "<div id=\"altair-viz-d799a1c38a9e488eb412742181a0d598\"></div>\n",
       "<script type=\"text/javascript\">\n",
       "  var VEGA_DEBUG = (typeof VEGA_DEBUG == \"undefined\") ? {} : VEGA_DEBUG;\n",
       "  (function(spec, embedOpt){\n",
       "    let outputDiv = document.currentScript.previousElementSibling;\n",
       "    if (outputDiv.id !== \"altair-viz-d799a1c38a9e488eb412742181a0d598\") {\n",
       "      outputDiv = document.getElementById(\"altair-viz-d799a1c38a9e488eb412742181a0d598\");\n",
       "    }\n",
       "    const paths = {\n",
       "      \"vega\": \"https://cdn.jsdelivr.net/npm/vega@5?noext\",\n",
       "      \"vega-lib\": \"https://cdn.jsdelivr.net/npm/vega-lib?noext\",\n",
       "      \"vega-lite\": \"https://cdn.jsdelivr.net/npm/vega-lite@5.14.1?noext\",\n",
       "      \"vega-embed\": \"https://cdn.jsdelivr.net/npm/vega-embed@6?noext\",\n",
       "    };\n",
       "\n",
       "    function maybeLoadScript(lib, version) {\n",
       "      var key = `${lib.replace(\"-\", \"\")}_version`;\n",
       "      return (VEGA_DEBUG[key] == version) ?\n",
       "        Promise.resolve(paths[lib]) :\n",
       "        new Promise(function(resolve, reject) {\n",
       "          var s = document.createElement('script');\n",
       "          document.getElementsByTagName(\"head\")[0].appendChild(s);\n",
       "          s.async = true;\n",
       "          s.onload = () => {\n",
       "            VEGA_DEBUG[key] = version;\n",
       "            return resolve(paths[lib]);\n",
       "          };\n",
       "          s.onerror = () => reject(`Error loading script: ${paths[lib]}`);\n",
       "          s.src = paths[lib];\n",
       "        });\n",
       "    }\n",
       "\n",
       "    function showError(err) {\n",
       "      outputDiv.innerHTML = `<div class=\"error\" style=\"color:red;\">${err}</div>`;\n",
       "      throw err;\n",
       "    }\n",
       "\n",
       "    function displayChart(vegaEmbed) {\n",
       "      vegaEmbed(outputDiv, spec, embedOpt)\n",
       "        .catch(err => showError(`Javascript Error: ${err.message}<br>This usually means there's a typo in your chart specification. See the javascript console for the full traceback.`));\n",
       "    }\n",
       "\n",
       "    if(typeof define === \"function\" && define.amd) {\n",
       "      requirejs.config({paths});\n",
       "      require([\"vega-embed\"], displayChart, err => showError(`Error loading script: ${err.message}`));\n",
       "    } else {\n",
       "      maybeLoadScript(\"vega\", \"5\")\n",
       "        .then(() => maybeLoadScript(\"vega-lite\", \"5.14.1\"))\n",
       "        .then(() => maybeLoadScript(\"vega-embed\", \"6\"))\n",
       "        .catch(showError)\n",
       "        .then(() => displayChart(vegaEmbed));\n",
       "    }\n",
       "  })({\"config\": {\"view\": {\"continuousWidth\": 300, \"continuousHeight\": 300}}, \"data\": {\"name\": \"data-3fba12efdf354b7883c43d7d9e4ce13e\"}, \"mark\": {\"type\": \"bar\"}, \"encoding\": {\"color\": {\"field\": \"zone_cardinal_direction\", \"scale\": {\"domain\": [\"EAST\", \"WEST\"], \"range\": [\"#E16B26\", \"#EB9F3C\", \"#f6e7e1\", \"#8CBCCB\", \"#2EA8CE\", \"#136C97\"]}, \"type\": \"nominal\"}, \"tooltip\": [{\"field\": \"zone_cardinal_direction\", \"type\": \"nominal\"}, {\"field\": \"day_type\", \"type\": \"nominal\"}, {\"field\": \"day_part\", \"type\": \"nominal\"}, {\"field\": \"avg_speed\", \"type\": \"quantitative\"}, {\"field\": \"avg_travel_time\", \"type\": \"quantitative\"}, {\"field\": \"avg_volume\", \"type\": \"quantitative\"}, {\"field\": \"sum_volume\", \"type\": \"quantitative\"}], \"x\": {\"field\": \"day_part\", \"type\": \"nominal\"}, \"y\": {\"field\": \"avg_speed\", \"type\": \"quantitative\"}}, \"height\": 300, \"title\": \"Average Speed by Hour\", \"width\": 800, \"$schema\": \"https://vega.github.io/schema/vega-lite/v5.14.1.json\", \"datasets\": {\"data-3fba12efdf354b7883c43d7d9e4ce13e\": [{\"zone_cardinal_direction\": \"EAST\", \"day_type\": \"0: All Days (M-Su)\", \"day_part\": \"01: 12am (12am-1am)\", \"avg_speed\": 64.5, \"avg_travel_time\": 27.0, \"avg_volume\": 2452.6, \"sum_volume\": 24526}, {\"zone_cardinal_direction\": \"EAST\", \"day_type\": \"0: All Days (M-Su)\", \"day_part\": \"03: 1am (1am-2am)\", \"avg_speed\": 66.1, \"avg_travel_time\": 26.3, \"avg_volume\": 1498.1, \"sum_volume\": 14981}, {\"zone_cardinal_direction\": \"EAST\", \"day_type\": \"0: All Days (M-Su)\", \"day_part\": \"04: 2am (2am-3am)\", \"avg_speed\": 66.1, \"avg_travel_time\": 26.1, \"avg_volume\": 1143.3, \"sum_volume\": 11433}, {\"zone_cardinal_direction\": \"EAST\", \"day_type\": \"0: All Days (M-Su)\", \"day_part\": \"05: 3am (3am-4am)\", \"avg_speed\": 66.7, \"avg_travel_time\": 25.6, \"avg_volume\": 741.0, \"sum_volume\": 7410}, {\"zone_cardinal_direction\": \"EAST\", \"day_type\": \"0: All Days (M-Su)\", \"day_part\": \"06: 4am (4am-5am)\", \"avg_speed\": 67.8, \"avg_travel_time\": 25.4, \"avg_volume\": 919.5, \"sum_volume\": 9195}, {\"zone_cardinal_direction\": \"EAST\", \"day_type\": \"0: All Days (M-Su)\", \"day_part\": \"07: 5am (5am-6am)\", \"avg_speed\": 68.0, \"avg_travel_time\": 25.2, \"avg_volume\": 1677.1, \"sum_volume\": 16771}, {\"zone_cardinal_direction\": \"EAST\", \"day_type\": \"0: All Days (M-Su)\", \"day_part\": \"08: 6am (6am-7am)\", \"avg_speed\": 66.4, \"avg_travel_time\": 26.1, \"avg_volume\": 3067.0, \"sum_volume\": 30670}, {\"zone_cardinal_direction\": \"EAST\", \"day_type\": \"0: All Days (M-Su)\", \"day_part\": \"10: 7am (7am-8am)\", \"avg_speed\": 63.2, \"avg_travel_time\": 27.7, \"avg_volume\": 4861.4, \"sum_volume\": 48614}, {\"zone_cardinal_direction\": \"EAST\", \"day_type\": \"0: All Days (M-Su)\", \"day_part\": \"11: 8am (8am-9am)\", \"avg_speed\": 61.7, \"avg_travel_time\": 28.2, \"avg_volume\": 5791.7, \"sum_volume\": 57917}, {\"zone_cardinal_direction\": \"EAST\", \"day_type\": \"0: All Days (M-Su)\", \"day_part\": \"12: 9am (9am-10am)\", \"avg_speed\": 60.7, \"avg_travel_time\": 28.8, \"avg_volume\": 6218.1, \"sum_volume\": 62181}, {\"zone_cardinal_direction\": \"EAST\", \"day_type\": \"0: All Days (M-Su)\", \"day_part\": \"13: 10am (10am-11am)\", \"avg_speed\": 59.3, \"avg_travel_time\": 29.5, \"avg_volume\": 7218.6, \"sum_volume\": 72186}, {\"zone_cardinal_direction\": \"EAST\", \"day_type\": \"0: All Days (M-Su)\", \"day_part\": \"15: 11am (11am-12noon)\", \"avg_speed\": 58.2, \"avg_travel_time\": 30.2, \"avg_volume\": 8069.3, \"sum_volume\": 80693}, {\"zone_cardinal_direction\": \"EAST\", \"day_type\": \"0: All Days (M-Su)\", \"day_part\": \"16: 12pm (12noon-1pm)\", \"avg_speed\": 57.5, \"avg_travel_time\": 31.7, \"avg_volume\": 8800.3, \"sum_volume\": 88003}, {\"zone_cardinal_direction\": \"EAST\", \"day_type\": \"0: All Days (M-Su)\", \"day_part\": \"17: 1pm (1pm-2pm)\", \"avg_speed\": 54.8, \"avg_travel_time\": 33.6, \"avg_volume\": 9318.9, \"sum_volume\": 93189}, {\"zone_cardinal_direction\": \"EAST\", \"day_type\": \"0: All Days (M-Su)\", \"day_part\": \"18: 2pm (2pm-3pm)\", \"avg_speed\": 51.1, \"avg_travel_time\": 36.3, \"avg_volume\": 9952.8, \"sum_volume\": 99528}, {\"zone_cardinal_direction\": \"EAST\", \"day_type\": \"0: All Days (M-Su)\", \"day_part\": \"19: 3pm (3pm-4pm)\", \"avg_speed\": 48.5, \"avg_travel_time\": 38.6, \"avg_volume\": 9778.9, \"sum_volume\": 97789}, {\"zone_cardinal_direction\": \"EAST\", \"day_type\": \"0: All Days (M-Su)\", \"day_part\": \"20: 4pm (4pm-5pm)\", \"avg_speed\": 48.0, \"avg_travel_time\": 39.4, \"avg_volume\": 9494.3, \"sum_volume\": 94943}, {\"zone_cardinal_direction\": \"EAST\", \"day_type\": \"0: All Days (M-Su)\", \"day_part\": \"22: 5pm (5pm-6pm)\", \"avg_speed\": 47.4, \"avg_travel_time\": 39.5, \"avg_volume\": 9071.2, \"sum_volume\": 90712}, {\"zone_cardinal_direction\": \"EAST\", \"day_type\": \"0: All Days (M-Su)\", \"day_part\": \"23: 6pm (6pm-7pm)\", \"avg_speed\": 49.0, \"avg_travel_time\": 37.6, \"avg_volume\": 8538.1, \"sum_volume\": 85381}, {\"zone_cardinal_direction\": \"EAST\", \"day_type\": \"0: All Days (M-Su)\", \"day_part\": \"24: 7pm (7pm-8pm)\", \"avg_speed\": 54.2, \"avg_travel_time\": 33.3, \"avg_volume\": 7829.4, \"sum_volume\": 78294}, {\"zone_cardinal_direction\": \"EAST\", \"day_type\": \"0: All Days (M-Su)\", \"day_part\": \"25: 8pm (8pm-9pm)\", \"avg_speed\": 57.7, \"avg_travel_time\": 30.9, \"avg_volume\": 6893.2, \"sum_volume\": 68932}, {\"zone_cardinal_direction\": \"EAST\", \"day_type\": \"0: All Days (M-Su)\", \"day_part\": \"27: 9pm (9pm-10pm)\", \"avg_speed\": 59.3, \"avg_travel_time\": 29.4, \"avg_volume\": 6383.5, \"sum_volume\": 63835}, {\"zone_cardinal_direction\": \"EAST\", \"day_type\": \"0: All Days (M-Su)\", \"day_part\": \"28: 10pm (10pm-11pm)\", \"avg_speed\": 59.9, \"avg_travel_time\": 29.1, \"avg_volume\": 5889.8, \"sum_volume\": 58898}, {\"zone_cardinal_direction\": \"EAST\", \"day_type\": \"0: All Days (M-Su)\", \"day_part\": \"29: 11pm (11pm-12am)\", \"avg_speed\": 61.9, \"avg_travel_time\": 28.2, \"avg_volume\": 4074.1, \"sum_volume\": 40741}, {\"zone_cardinal_direction\": \"WEST\", \"day_type\": \"0: All Days (M-Su)\", \"day_part\": \"01: 12am (12am-1am)\", \"avg_speed\": 66.66666666666667, \"avg_travel_time\": 28.444444444444443, \"avg_volume\": 1057.6666666666667, \"sum_volume\": 9519}, {\"zone_cardinal_direction\": \"WEST\", \"day_type\": \"0: All Days (M-Su)\", \"day_part\": \"03: 1am (1am-2am)\", \"avg_speed\": 66.77777777777777, \"avg_travel_time\": 28.444444444444443, \"avg_volume\": 754.4444444444445, \"sum_volume\": 6790}, {\"zone_cardinal_direction\": \"WEST\", \"day_type\": \"0: All Days (M-Su)\", \"day_part\": \"04: 2am (2am-3am)\", \"avg_speed\": 67.88888888888889, \"avg_travel_time\": 27.555555555555557, \"avg_volume\": 817.5555555555555, \"sum_volume\": 7358}, {\"zone_cardinal_direction\": \"WEST\", \"day_type\": \"0: All Days (M-Su)\", \"day_part\": \"05: 3am (3am-4am)\", \"avg_speed\": 68.11111111111111, \"avg_travel_time\": 27.88888888888889, \"avg_volume\": 1291.4444444444443, \"sum_volume\": 11623}, {\"zone_cardinal_direction\": \"WEST\", \"day_type\": \"0: All Days (M-Su)\", \"day_part\": \"06: 4am (4am-5am)\", \"avg_speed\": 68.55555555555556, \"avg_travel_time\": 27.666666666666668, \"avg_volume\": 3400.1111111111113, \"sum_volume\": 30601}, {\"zone_cardinal_direction\": \"WEST\", \"day_type\": \"0: All Days (M-Su)\", \"day_part\": \"07: 5am (5am-6am)\", \"avg_speed\": 56.888888888888886, \"avg_travel_time\": 34.111111111111114, \"avg_volume\": 7571.666666666667, \"sum_volume\": 68145}, {\"zone_cardinal_direction\": \"WEST\", \"day_type\": \"0: All Days (M-Su)\", \"day_part\": \"08: 6am (6am-7am)\", \"avg_speed\": 45.22222222222222, \"avg_travel_time\": 43.55555555555556, \"avg_volume\": 7902.555555555556, \"sum_volume\": 71123}, {\"zone_cardinal_direction\": \"WEST\", \"day_type\": \"0: All Days (M-Su)\", \"day_part\": \"10: 7am (7am-8am)\", \"avg_speed\": 40.888888888888886, \"avg_travel_time\": 48.55555555555556, \"avg_volume\": 7073.111111111111, \"sum_volume\": 63658}, {\"zone_cardinal_direction\": \"WEST\", \"day_type\": \"0: All Days (M-Su)\", \"day_part\": \"11: 8am (8am-9am)\", \"avg_speed\": 43.22222222222222, \"avg_travel_time\": 47.55555555555556, \"avg_volume\": 7499.333333333333, \"sum_volume\": 67494}, {\"zone_cardinal_direction\": \"WEST\", \"day_type\": \"0: All Days (M-Su)\", \"day_part\": \"12: 9am (9am-10am)\", \"avg_speed\": 45.77777777777778, \"avg_travel_time\": 46.111111111111114, \"avg_volume\": 8092.444444444444, \"sum_volume\": 72832}, {\"zone_cardinal_direction\": \"WEST\", \"day_type\": \"0: All Days (M-Su)\", \"day_part\": \"13: 10am (10am-11am)\", \"avg_speed\": 47.111111111111114, \"avg_travel_time\": 44.666666666666664, \"avg_volume\": 8061.0, \"sum_volume\": 72549}, {\"zone_cardinal_direction\": \"WEST\", \"day_type\": \"0: All Days (M-Su)\", \"day_part\": \"15: 11am (11am-12noon)\", \"avg_speed\": 48.333333333333336, \"avg_travel_time\": 44.888888888888886, \"avg_volume\": 7662.555555555556, \"sum_volume\": 68963}, {\"zone_cardinal_direction\": \"WEST\", \"day_type\": \"0: All Days (M-Su)\", \"day_part\": \"16: 12pm (12noon-1pm)\", \"avg_speed\": 50.55555555555556, \"avg_travel_time\": 42.666666666666664, \"avg_volume\": 7071.222222222223, \"sum_volume\": 63641}, {\"zone_cardinal_direction\": \"WEST\", \"day_type\": \"0: All Days (M-Su)\", \"day_part\": \"17: 1pm (1pm-2pm)\", \"avg_speed\": 52.22222222222222, \"avg_travel_time\": 40.55555555555556, \"avg_volume\": 6757.0, \"sum_volume\": 60813}, {\"zone_cardinal_direction\": \"WEST\", \"day_type\": \"0: All Days (M-Su)\", \"day_part\": \"18: 2pm (2pm-3pm)\", \"avg_speed\": 51.666666666666664, \"avg_travel_time\": 41.44444444444444, \"avg_volume\": 6702.555555555556, \"sum_volume\": 60323}, {\"zone_cardinal_direction\": \"WEST\", \"day_type\": \"0: All Days (M-Su)\", \"day_part\": \"19: 3pm (3pm-4pm)\", \"avg_speed\": 51.0, \"avg_travel_time\": 43.111111111111114, \"avg_volume\": 6351.555555555556, \"sum_volume\": 57164}, {\"zone_cardinal_direction\": \"WEST\", \"day_type\": \"0: All Days (M-Su)\", \"day_part\": \"20: 4pm (4pm-5pm)\", \"avg_speed\": 47.0, \"avg_travel_time\": 47.666666666666664, \"avg_volume\": 6174.555555555556, \"sum_volume\": 55571}, {\"zone_cardinal_direction\": \"WEST\", \"day_type\": \"0: All Days (M-Su)\", \"day_part\": \"22: 5pm (5pm-6pm)\", \"avg_speed\": 39.888888888888886, \"avg_travel_time\": 54.22222222222222, \"avg_volume\": 5875.222222222223, \"sum_volume\": 52877}, {\"zone_cardinal_direction\": \"WEST\", \"day_type\": \"0: All Days (M-Su)\", \"day_part\": \"23: 6pm (6pm-7pm)\", \"avg_speed\": 43.0, \"avg_travel_time\": 51.55555555555556, \"avg_volume\": 5412.222222222223, \"sum_volume\": 48710}, {\"zone_cardinal_direction\": \"WEST\", \"day_type\": \"0: All Days (M-Su)\", \"day_part\": \"24: 7pm (7pm-8pm)\", \"avg_speed\": 56.111111111111114, \"avg_travel_time\": 37.888888888888886, \"avg_volume\": 4594.777777777777, \"sum_volume\": 41353}, {\"zone_cardinal_direction\": \"WEST\", \"day_type\": \"0: All Days (M-Su)\", \"day_part\": \"25: 8pm (8pm-9pm)\", \"avg_speed\": 60.77777777777778, \"avg_travel_time\": 33.111111111111114, \"avg_volume\": 4138.444444444444, \"sum_volume\": 37246}, {\"zone_cardinal_direction\": \"WEST\", \"day_type\": \"0: All Days (M-Su)\", \"day_part\": \"27: 9pm (9pm-10pm)\", \"avg_speed\": 61.55555555555556, \"avg_travel_time\": 31.88888888888889, \"avg_volume\": 3718.777777777778, \"sum_volume\": 33469}, {\"zone_cardinal_direction\": \"WEST\", \"day_type\": \"0: All Days (M-Su)\", \"day_part\": \"28: 10pm (10pm-11pm)\", \"avg_speed\": 63.333333333333336, \"avg_travel_time\": 30.666666666666668, \"avg_volume\": 3115.0, \"sum_volume\": 28035}, {\"zone_cardinal_direction\": \"WEST\", \"day_type\": \"0: All Days (M-Su)\", \"day_part\": \"29: 11pm (11pm-12am)\", \"avg_speed\": 65.33333333333333, \"avg_travel_time\": 29.22222222222222, \"avg_volume\": 1934.4444444444443, \"sum_volume\": 17410}]}}, {\"mode\": \"vega-lite\"});\n",
       "</script>"
      ],
      "text/plain": [
       "alt.Chart(...)"
      ]
     },
     "execution_count": 164,
     "metadata": {},
     "output_type": "execute_result"
    }
   ],
   "source": [
    "chart = (\n",
    "        alt.Chart(sl_hourly_agg)\n",
    "        .mark_bar()\n",
    "        .encode(\n",
    "            x=alt.X(\"day_part\"),\n",
    "            y=alt.Y(\"avg_speed\"),\n",
    "            color=alt.Color(\"zone_cardinal_direction\", scale=alt.Scale(range = cp.CALITP_DIVERGING_COLORS,\n",
    "            domain=sl_hourly_agg[\"zone_cardinal_direction\"].unique().tolist())\n",
    "            ),\n",
    "            tooltip=sl_hourly_agg.columns.tolist(),\n",
    "            )\n",
    "      .properties(title = \"Average Speed by Hour\", \n",
    "    width=800,\n",
    "    height=300)\n",
    "        )\n",
    "chart "
   ]
  },
  {
   "cell_type": "code",
   "execution_count": 167,
   "id": "b54b867c-d073-4280-bfd3-2fa5bd387016",
   "metadata": {},
   "outputs": [
    {
     "data": {
      "text/html": [
       "\n",
       "<style>\n",
       "  #altair-viz-8f1644d4724b46e3b93b0dfb951f99ee.vega-embed {\n",
       "    width: 100%;\n",
       "    display: flex;\n",
       "  }\n",
       "\n",
       "  #altair-viz-8f1644d4724b46e3b93b0dfb951f99ee.vega-embed details,\n",
       "  #altair-viz-8f1644d4724b46e3b93b0dfb951f99ee.vega-embed details summary {\n",
       "    position: relative;\n",
       "  }\n",
       "</style>\n",
       "<div id=\"altair-viz-8f1644d4724b46e3b93b0dfb951f99ee\"></div>\n",
       "<script type=\"text/javascript\">\n",
       "  var VEGA_DEBUG = (typeof VEGA_DEBUG == \"undefined\") ? {} : VEGA_DEBUG;\n",
       "  (function(spec, embedOpt){\n",
       "    let outputDiv = document.currentScript.previousElementSibling;\n",
       "    if (outputDiv.id !== \"altair-viz-8f1644d4724b46e3b93b0dfb951f99ee\") {\n",
       "      outputDiv = document.getElementById(\"altair-viz-8f1644d4724b46e3b93b0dfb951f99ee\");\n",
       "    }\n",
       "    const paths = {\n",
       "      \"vega\": \"https://cdn.jsdelivr.net/npm/vega@5?noext\",\n",
       "      \"vega-lib\": \"https://cdn.jsdelivr.net/npm/vega-lib?noext\",\n",
       "      \"vega-lite\": \"https://cdn.jsdelivr.net/npm/vega-lite@5.14.1?noext\",\n",
       "      \"vega-embed\": \"https://cdn.jsdelivr.net/npm/vega-embed@6?noext\",\n",
       "    };\n",
       "\n",
       "    function maybeLoadScript(lib, version) {\n",
       "      var key = `${lib.replace(\"-\", \"\")}_version`;\n",
       "      return (VEGA_DEBUG[key] == version) ?\n",
       "        Promise.resolve(paths[lib]) :\n",
       "        new Promise(function(resolve, reject) {\n",
       "          var s = document.createElement('script');\n",
       "          document.getElementsByTagName(\"head\")[0].appendChild(s);\n",
       "          s.async = true;\n",
       "          s.onload = () => {\n",
       "            VEGA_DEBUG[key] = version;\n",
       "            return resolve(paths[lib]);\n",
       "          };\n",
       "          s.onerror = () => reject(`Error loading script: ${paths[lib]}`);\n",
       "          s.src = paths[lib];\n",
       "        });\n",
       "    }\n",
       "\n",
       "    function showError(err) {\n",
       "      outputDiv.innerHTML = `<div class=\"error\" style=\"color:red;\">${err}</div>`;\n",
       "      throw err;\n",
       "    }\n",
       "\n",
       "    function displayChart(vegaEmbed) {\n",
       "      vegaEmbed(outputDiv, spec, embedOpt)\n",
       "        .catch(err => showError(`Javascript Error: ${err.message}<br>This usually means there's a typo in your chart specification. See the javascript console for the full traceback.`));\n",
       "    }\n",
       "\n",
       "    if(typeof define === \"function\" && define.amd) {\n",
       "      requirejs.config({paths});\n",
       "      require([\"vega-embed\"], displayChart, err => showError(`Error loading script: ${err.message}`));\n",
       "    } else {\n",
       "      maybeLoadScript(\"vega\", \"5\")\n",
       "        .then(() => maybeLoadScript(\"vega-lite\", \"5.14.1\"))\n",
       "        .then(() => maybeLoadScript(\"vega-embed\", \"6\"))\n",
       "        .catch(showError)\n",
       "        .then(() => displayChart(vegaEmbed));\n",
       "    }\n",
       "  })({\"config\": {\"view\": {\"continuousWidth\": 300, \"continuousHeight\": 300}}, \"data\": {\"name\": \"data-3fba12efdf354b7883c43d7d9e4ce13e\"}, \"mark\": {\"type\": \"bar\"}, \"encoding\": {\"color\": {\"field\": \"zone_cardinal_direction\", \"scale\": {\"domain\": [\"EAST\", \"WEST\"], \"range\": [\"#E16B26\", \"#EB9F3C\", \"#f6e7e1\", \"#8CBCCB\", \"#2EA8CE\", \"#136C97\"]}, \"type\": \"nominal\"}, \"tooltip\": [{\"field\": \"zone_cardinal_direction\", \"type\": \"nominal\"}, {\"field\": \"day_type\", \"type\": \"nominal\"}, {\"field\": \"day_part\", \"type\": \"nominal\"}, {\"field\": \"avg_speed\", \"type\": \"quantitative\"}, {\"field\": \"avg_travel_time\", \"type\": \"quantitative\"}, {\"field\": \"avg_volume\", \"type\": \"quantitative\"}, {\"field\": \"sum_volume\", \"type\": \"quantitative\"}], \"x\": {\"field\": \"day_part\", \"type\": \"nominal\"}, \"y\": {\"field\": \"sum_volume\", \"type\": \"quantitative\"}}, \"height\": 300, \"title\": \"Total Volume by Hour\", \"width\": 800, \"$schema\": \"https://vega.github.io/schema/vega-lite/v5.14.1.json\", \"datasets\": {\"data-3fba12efdf354b7883c43d7d9e4ce13e\": [{\"zone_cardinal_direction\": \"EAST\", \"day_type\": \"0: All Days (M-Su)\", \"day_part\": \"01: 12am (12am-1am)\", \"avg_speed\": 64.5, \"avg_travel_time\": 27.0, \"avg_volume\": 2452.6, \"sum_volume\": 24526}, {\"zone_cardinal_direction\": \"EAST\", \"day_type\": \"0: All Days (M-Su)\", \"day_part\": \"03: 1am (1am-2am)\", \"avg_speed\": 66.1, \"avg_travel_time\": 26.3, \"avg_volume\": 1498.1, \"sum_volume\": 14981}, {\"zone_cardinal_direction\": \"EAST\", \"day_type\": \"0: All Days (M-Su)\", \"day_part\": \"04: 2am (2am-3am)\", \"avg_speed\": 66.1, \"avg_travel_time\": 26.1, \"avg_volume\": 1143.3, \"sum_volume\": 11433}, {\"zone_cardinal_direction\": \"EAST\", \"day_type\": \"0: All Days (M-Su)\", \"day_part\": \"05: 3am (3am-4am)\", \"avg_speed\": 66.7, \"avg_travel_time\": 25.6, \"avg_volume\": 741.0, \"sum_volume\": 7410}, {\"zone_cardinal_direction\": \"EAST\", \"day_type\": \"0: All Days (M-Su)\", \"day_part\": \"06: 4am (4am-5am)\", \"avg_speed\": 67.8, \"avg_travel_time\": 25.4, \"avg_volume\": 919.5, \"sum_volume\": 9195}, {\"zone_cardinal_direction\": \"EAST\", \"day_type\": \"0: All Days (M-Su)\", \"day_part\": \"07: 5am (5am-6am)\", \"avg_speed\": 68.0, \"avg_travel_time\": 25.2, \"avg_volume\": 1677.1, \"sum_volume\": 16771}, {\"zone_cardinal_direction\": \"EAST\", \"day_type\": \"0: All Days (M-Su)\", \"day_part\": \"08: 6am (6am-7am)\", \"avg_speed\": 66.4, \"avg_travel_time\": 26.1, \"avg_volume\": 3067.0, \"sum_volume\": 30670}, {\"zone_cardinal_direction\": \"EAST\", \"day_type\": \"0: All Days (M-Su)\", \"day_part\": \"10: 7am (7am-8am)\", \"avg_speed\": 63.2, \"avg_travel_time\": 27.7, \"avg_volume\": 4861.4, \"sum_volume\": 48614}, {\"zone_cardinal_direction\": \"EAST\", \"day_type\": \"0: All Days (M-Su)\", \"day_part\": \"11: 8am (8am-9am)\", \"avg_speed\": 61.7, \"avg_travel_time\": 28.2, \"avg_volume\": 5791.7, \"sum_volume\": 57917}, {\"zone_cardinal_direction\": \"EAST\", \"day_type\": \"0: All Days (M-Su)\", \"day_part\": \"12: 9am (9am-10am)\", \"avg_speed\": 60.7, \"avg_travel_time\": 28.8, \"avg_volume\": 6218.1, \"sum_volume\": 62181}, {\"zone_cardinal_direction\": \"EAST\", \"day_type\": \"0: All Days (M-Su)\", \"day_part\": \"13: 10am (10am-11am)\", \"avg_speed\": 59.3, \"avg_travel_time\": 29.5, \"avg_volume\": 7218.6, \"sum_volume\": 72186}, {\"zone_cardinal_direction\": \"EAST\", \"day_type\": \"0: All Days (M-Su)\", \"day_part\": \"15: 11am (11am-12noon)\", \"avg_speed\": 58.2, \"avg_travel_time\": 30.2, \"avg_volume\": 8069.3, \"sum_volume\": 80693}, {\"zone_cardinal_direction\": \"EAST\", \"day_type\": \"0: All Days (M-Su)\", \"day_part\": \"16: 12pm (12noon-1pm)\", \"avg_speed\": 57.5, \"avg_travel_time\": 31.7, \"avg_volume\": 8800.3, \"sum_volume\": 88003}, {\"zone_cardinal_direction\": \"EAST\", \"day_type\": \"0: All Days (M-Su)\", \"day_part\": \"17: 1pm (1pm-2pm)\", \"avg_speed\": 54.8, \"avg_travel_time\": 33.6, \"avg_volume\": 9318.9, \"sum_volume\": 93189}, {\"zone_cardinal_direction\": \"EAST\", \"day_type\": \"0: All Days (M-Su)\", \"day_part\": \"18: 2pm (2pm-3pm)\", \"avg_speed\": 51.1, \"avg_travel_time\": 36.3, \"avg_volume\": 9952.8, \"sum_volume\": 99528}, {\"zone_cardinal_direction\": \"EAST\", \"day_type\": \"0: All Days (M-Su)\", \"day_part\": \"19: 3pm (3pm-4pm)\", \"avg_speed\": 48.5, \"avg_travel_time\": 38.6, \"avg_volume\": 9778.9, \"sum_volume\": 97789}, {\"zone_cardinal_direction\": \"EAST\", \"day_type\": \"0: All Days (M-Su)\", \"day_part\": \"20: 4pm (4pm-5pm)\", \"avg_speed\": 48.0, \"avg_travel_time\": 39.4, \"avg_volume\": 9494.3, \"sum_volume\": 94943}, {\"zone_cardinal_direction\": \"EAST\", \"day_type\": \"0: All Days (M-Su)\", \"day_part\": \"22: 5pm (5pm-6pm)\", \"avg_speed\": 47.4, \"avg_travel_time\": 39.5, \"avg_volume\": 9071.2, \"sum_volume\": 90712}, {\"zone_cardinal_direction\": \"EAST\", \"day_type\": \"0: All Days (M-Su)\", \"day_part\": \"23: 6pm (6pm-7pm)\", \"avg_speed\": 49.0, \"avg_travel_time\": 37.6, \"avg_volume\": 8538.1, \"sum_volume\": 85381}, {\"zone_cardinal_direction\": \"EAST\", \"day_type\": \"0: All Days (M-Su)\", \"day_part\": \"24: 7pm (7pm-8pm)\", \"avg_speed\": 54.2, \"avg_travel_time\": 33.3, \"avg_volume\": 7829.4, \"sum_volume\": 78294}, {\"zone_cardinal_direction\": \"EAST\", \"day_type\": \"0: All Days (M-Su)\", \"day_part\": \"25: 8pm (8pm-9pm)\", \"avg_speed\": 57.7, \"avg_travel_time\": 30.9, \"avg_volume\": 6893.2, \"sum_volume\": 68932}, {\"zone_cardinal_direction\": \"EAST\", \"day_type\": \"0: All Days (M-Su)\", \"day_part\": \"27: 9pm (9pm-10pm)\", \"avg_speed\": 59.3, \"avg_travel_time\": 29.4, \"avg_volume\": 6383.5, \"sum_volume\": 63835}, {\"zone_cardinal_direction\": \"EAST\", \"day_type\": \"0: All Days (M-Su)\", \"day_part\": \"28: 10pm (10pm-11pm)\", \"avg_speed\": 59.9, \"avg_travel_time\": 29.1, \"avg_volume\": 5889.8, \"sum_volume\": 58898}, {\"zone_cardinal_direction\": \"EAST\", \"day_type\": \"0: All Days (M-Su)\", \"day_part\": \"29: 11pm (11pm-12am)\", \"avg_speed\": 61.9, \"avg_travel_time\": 28.2, \"avg_volume\": 4074.1, \"sum_volume\": 40741}, {\"zone_cardinal_direction\": \"WEST\", \"day_type\": \"0: All Days (M-Su)\", \"day_part\": \"01: 12am (12am-1am)\", \"avg_speed\": 66.66666666666667, \"avg_travel_time\": 28.444444444444443, \"avg_volume\": 1057.6666666666667, \"sum_volume\": 9519}, {\"zone_cardinal_direction\": \"WEST\", \"day_type\": \"0: All Days (M-Su)\", \"day_part\": \"03: 1am (1am-2am)\", \"avg_speed\": 66.77777777777777, \"avg_travel_time\": 28.444444444444443, \"avg_volume\": 754.4444444444445, \"sum_volume\": 6790}, {\"zone_cardinal_direction\": \"WEST\", \"day_type\": \"0: All Days (M-Su)\", \"day_part\": \"04: 2am (2am-3am)\", \"avg_speed\": 67.88888888888889, \"avg_travel_time\": 27.555555555555557, \"avg_volume\": 817.5555555555555, \"sum_volume\": 7358}, {\"zone_cardinal_direction\": \"WEST\", \"day_type\": \"0: All Days (M-Su)\", \"day_part\": \"05: 3am (3am-4am)\", \"avg_speed\": 68.11111111111111, \"avg_travel_time\": 27.88888888888889, \"avg_volume\": 1291.4444444444443, \"sum_volume\": 11623}, {\"zone_cardinal_direction\": \"WEST\", \"day_type\": \"0: All Days (M-Su)\", \"day_part\": \"06: 4am (4am-5am)\", \"avg_speed\": 68.55555555555556, \"avg_travel_time\": 27.666666666666668, \"avg_volume\": 3400.1111111111113, \"sum_volume\": 30601}, {\"zone_cardinal_direction\": \"WEST\", \"day_type\": \"0: All Days (M-Su)\", \"day_part\": \"07: 5am (5am-6am)\", \"avg_speed\": 56.888888888888886, \"avg_travel_time\": 34.111111111111114, \"avg_volume\": 7571.666666666667, \"sum_volume\": 68145}, {\"zone_cardinal_direction\": \"WEST\", \"day_type\": \"0: All Days (M-Su)\", \"day_part\": \"08: 6am (6am-7am)\", \"avg_speed\": 45.22222222222222, \"avg_travel_time\": 43.55555555555556, \"avg_volume\": 7902.555555555556, \"sum_volume\": 71123}, {\"zone_cardinal_direction\": \"WEST\", \"day_type\": \"0: All Days (M-Su)\", \"day_part\": \"10: 7am (7am-8am)\", \"avg_speed\": 40.888888888888886, \"avg_travel_time\": 48.55555555555556, \"avg_volume\": 7073.111111111111, \"sum_volume\": 63658}, {\"zone_cardinal_direction\": \"WEST\", \"day_type\": \"0: All Days (M-Su)\", \"day_part\": \"11: 8am (8am-9am)\", \"avg_speed\": 43.22222222222222, \"avg_travel_time\": 47.55555555555556, \"avg_volume\": 7499.333333333333, \"sum_volume\": 67494}, {\"zone_cardinal_direction\": \"WEST\", \"day_type\": \"0: All Days (M-Su)\", \"day_part\": \"12: 9am (9am-10am)\", \"avg_speed\": 45.77777777777778, \"avg_travel_time\": 46.111111111111114, \"avg_volume\": 8092.444444444444, \"sum_volume\": 72832}, {\"zone_cardinal_direction\": \"WEST\", \"day_type\": \"0: All Days (M-Su)\", \"day_part\": \"13: 10am (10am-11am)\", \"avg_speed\": 47.111111111111114, \"avg_travel_time\": 44.666666666666664, \"avg_volume\": 8061.0, \"sum_volume\": 72549}, {\"zone_cardinal_direction\": \"WEST\", \"day_type\": \"0: All Days (M-Su)\", \"day_part\": \"15: 11am (11am-12noon)\", \"avg_speed\": 48.333333333333336, \"avg_travel_time\": 44.888888888888886, \"avg_volume\": 7662.555555555556, \"sum_volume\": 68963}, {\"zone_cardinal_direction\": \"WEST\", \"day_type\": \"0: All Days (M-Su)\", \"day_part\": \"16: 12pm (12noon-1pm)\", \"avg_speed\": 50.55555555555556, \"avg_travel_time\": 42.666666666666664, \"avg_volume\": 7071.222222222223, \"sum_volume\": 63641}, {\"zone_cardinal_direction\": \"WEST\", \"day_type\": \"0: All Days (M-Su)\", \"day_part\": \"17: 1pm (1pm-2pm)\", \"avg_speed\": 52.22222222222222, \"avg_travel_time\": 40.55555555555556, \"avg_volume\": 6757.0, \"sum_volume\": 60813}, {\"zone_cardinal_direction\": \"WEST\", \"day_type\": \"0: All Days (M-Su)\", \"day_part\": \"18: 2pm (2pm-3pm)\", \"avg_speed\": 51.666666666666664, \"avg_travel_time\": 41.44444444444444, \"avg_volume\": 6702.555555555556, \"sum_volume\": 60323}, {\"zone_cardinal_direction\": \"WEST\", \"day_type\": \"0: All Days (M-Su)\", \"day_part\": \"19: 3pm (3pm-4pm)\", \"avg_speed\": 51.0, \"avg_travel_time\": 43.111111111111114, \"avg_volume\": 6351.555555555556, \"sum_volume\": 57164}, {\"zone_cardinal_direction\": \"WEST\", \"day_type\": \"0: All Days (M-Su)\", \"day_part\": \"20: 4pm (4pm-5pm)\", \"avg_speed\": 47.0, \"avg_travel_time\": 47.666666666666664, \"avg_volume\": 6174.555555555556, \"sum_volume\": 55571}, {\"zone_cardinal_direction\": \"WEST\", \"day_type\": \"0: All Days (M-Su)\", \"day_part\": \"22: 5pm (5pm-6pm)\", \"avg_speed\": 39.888888888888886, \"avg_travel_time\": 54.22222222222222, \"avg_volume\": 5875.222222222223, \"sum_volume\": 52877}, {\"zone_cardinal_direction\": \"WEST\", \"day_type\": \"0: All Days (M-Su)\", \"day_part\": \"23: 6pm (6pm-7pm)\", \"avg_speed\": 43.0, \"avg_travel_time\": 51.55555555555556, \"avg_volume\": 5412.222222222223, \"sum_volume\": 48710}, {\"zone_cardinal_direction\": \"WEST\", \"day_type\": \"0: All Days (M-Su)\", \"day_part\": \"24: 7pm (7pm-8pm)\", \"avg_speed\": 56.111111111111114, \"avg_travel_time\": 37.888888888888886, \"avg_volume\": 4594.777777777777, \"sum_volume\": 41353}, {\"zone_cardinal_direction\": \"WEST\", \"day_type\": \"0: All Days (M-Su)\", \"day_part\": \"25: 8pm (8pm-9pm)\", \"avg_speed\": 60.77777777777778, \"avg_travel_time\": 33.111111111111114, \"avg_volume\": 4138.444444444444, \"sum_volume\": 37246}, {\"zone_cardinal_direction\": \"WEST\", \"day_type\": \"0: All Days (M-Su)\", \"day_part\": \"27: 9pm (9pm-10pm)\", \"avg_speed\": 61.55555555555556, \"avg_travel_time\": 31.88888888888889, \"avg_volume\": 3718.777777777778, \"sum_volume\": 33469}, {\"zone_cardinal_direction\": \"WEST\", \"day_type\": \"0: All Days (M-Su)\", \"day_part\": \"28: 10pm (10pm-11pm)\", \"avg_speed\": 63.333333333333336, \"avg_travel_time\": 30.666666666666668, \"avg_volume\": 3115.0, \"sum_volume\": 28035}, {\"zone_cardinal_direction\": \"WEST\", \"day_type\": \"0: All Days (M-Su)\", \"day_part\": \"29: 11pm (11pm-12am)\", \"avg_speed\": 65.33333333333333, \"avg_travel_time\": 29.22222222222222, \"avg_volume\": 1934.4444444444443, \"sum_volume\": 17410}]}}, {\"mode\": \"vega-lite\"});\n",
       "</script>"
      ],
      "text/plain": [
       "alt.Chart(...)"
      ]
     },
     "execution_count": 167,
     "metadata": {},
     "output_type": "execute_result"
    }
   ],
   "source": [
    "chart = (\n",
    "        alt.Chart(sl_hourly_agg)\n",
    "        .mark_bar()\n",
    "        .encode(\n",
    "            x=alt.X(\"day_part\"),\n",
    "            y=alt.Y(\"sum_volume\"),\n",
    "            color=alt.Color(\"zone_cardinal_direction\", scale=alt.Scale(range = cp.CALITP_DIVERGING_COLORS,\n",
    "            domain=sl_hourly_agg[\"zone_cardinal_direction\"].unique().tolist())\n",
    "            ),\n",
    "            tooltip=sl_hourly_agg.columns.tolist(),\n",
    "            )\n",
    "      .properties(title = \"Total Volume by Hour\",\n",
    "    width=800,\n",
    "    height=300)\n",
    "        )\n",
    "chart "
   ]
  },
  {
   "cell_type": "code",
   "execution_count": null,
   "id": "cd1987e0-957e-4b30-a940-86f3c9c0fd39",
   "metadata": {},
   "outputs": [],
   "source": []
  },
  {
   "cell_type": "code",
   "execution_count": null,
   "id": "76157cad-aeda-4ba4-9f98-77c677e6b6c6",
   "metadata": {},
   "outputs": [],
   "source": []
  },
  {
   "cell_type": "code",
   "execution_count": null,
   "id": "bfe9e847-b78f-4e81-b735-708df21764a0",
   "metadata": {},
   "outputs": [],
   "source": []
  },
  {
   "cell_type": "code",
   "execution_count": null,
   "id": "006dfcc5-bf3f-4a33-a654-601fbb232b71",
   "metadata": {},
   "outputs": [],
   "source": []
  },
  {
   "cell_type": "code",
   "execution_count": null,
   "id": "ecded8d2-70ae-4a9a-8592-cc5e9b9cd8df",
   "metadata": {},
   "outputs": [],
   "source": []
  },
  {
   "cell_type": "code",
   "execution_count": null,
   "id": "5d007800-e20a-4991-b99d-f6cf74521b05",
   "metadata": {},
   "outputs": [],
   "source": []
  },
  {
   "cell_type": "code",
   "execution_count": null,
   "id": "bbc819b1-0dfc-46be-90bd-b136263dc22c",
   "metadata": {},
   "outputs": [],
   "source": []
  }
 ],
 "metadata": {
  "kernelspec": {
   "display_name": "Python 3 (ipykernel)",
   "language": "python",
   "name": "python3"
  },
  "language_info": {
   "codemirror_mode": {
    "name": "ipython",
    "version": 3
   },
   "file_extension": ".py",
   "mimetype": "text/x-python",
   "name": "python",
   "nbconvert_exporter": "python",
   "pygments_lexer": "ipython3",
   "version": "3.9.13"
  },
  "widgets": {
   "application/vnd.jupyter.widget-state+json": {
    "state": {},
    "version_major": 2,
    "version_minor": 0
   }
  }
 },
 "nbformat": 4,
 "nbformat_minor": 5
}
