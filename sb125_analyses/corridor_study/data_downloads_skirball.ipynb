{
 "cells": [
  {
   "cell_type": "markdown",
   "id": "82a53f1d-2622-4cb0-bfdd-36ceec652215",
   "metadata": {},
   "source": [
    "# SB1 Big Data Downloads: I-405 Skirball\n",
    "An analysis into the corridor analysis data downloads from Streetlight and Replica"
   ]
  },
  {
   "cell_type": "code",
   "execution_count": 1,
   "id": "45233485-2055-499a-a89e-fc154fd56e63",
   "metadata": {},
   "outputs": [
    {
     "name": "stderr",
     "output_type": "stream",
     "text": [
      "/tmp/ipykernel_798/4150955979.py:10: DeprecationWarning: Importing display from IPython.core.display is deprecated since IPython 7.14, please import from IPython display\n",
      "  from IPython.core.display import display\n"
     ]
    }
   ],
   "source": [
    "import pandas as pd\n",
    "from siuba import *\n",
    "\n",
    "from calitp_data_analysis.sql import to_snakecase\n",
    "\n",
    "import altair as alt\n",
    "from calitp_data_analysis import calitp_color_palette as cp\n",
    "\n",
    "from IPython.display import Markdown, HTML, display_html, display\n",
    "from IPython.core.display import display\n",
    "\n",
    "import numpy as np"
   ]
  },
  {
   "cell_type": "code",
   "execution_count": 2,
   "id": "651aae92-5188-4676-8e5f-3c040f77077c",
   "metadata": {},
   "outputs": [],
   "source": [
    "pd.set_option('display.max_columns', 500)\n",
    "pd.set_option('display.max_colwidth', 100)"
   ]
  },
  {
   "cell_type": "code",
   "execution_count": 3,
   "id": "af402da0-0b03-4c71-a1af-19f97f67cef1",
   "metadata": {},
   "outputs": [],
   "source": [
    "GCS_PATH = \"gs://calitp-analytics-data/data-analyses/sb125/corridor_study_data/\""
   ]
  },
  {
   "cell_type": "markdown",
   "id": "71c1deda-8e83-45d8-a0f5-20b36b7051c0",
   "metadata": {},
   "source": [
    "### Read in Replica Data Spring 2023"
   ]
  },
  {
   "cell_type": "code",
   "execution_count": 4,
   "id": "0e5c1b44-c981-4a9a-b6ea-e1cb2a7a279e",
   "metadata": {},
   "outputs": [],
   "source": [
    "replica_trips = \"replica-405_skirball-05_24_24-trips_dataset.csv\""
   ]
  },
  {
   "cell_type": "code",
   "execution_count": null,
   "id": "a9f14685-0953-4b1d-a636-882230fef1d5",
   "metadata": {},
   "outputs": [],
   "source": []
  },
  {
   "cell_type": "code",
   "execution_count": 5,
   "id": "cb3dea26-4e6d-4dc7-acc8-27b899a0a537",
   "metadata": {},
   "outputs": [
    {
     "name": "stderr",
     "output_type": "stream",
     "text": [
      "/tmp/ipykernel_798/2643890524.py:1: DtypeWarning: Columns (18,19,20,25,26,28,29,30,31,33,36,38,39,40,41,42,43) have mixed types. Specify dtype option on import or set low_memory=False.\n",
      "  r_trips = to_snakecase(pd.read_csv(f\"{GCS_PATH}{replica_trips}\"))\n"
     ]
    }
   ],
   "source": [
    "r_trips = to_snakecase(pd.read_csv(f\"{GCS_PATH}{replica_trips}\"))"
   ]
  },
  {
   "cell_type": "code",
   "execution_count": 6,
   "id": "ca697494-b872-4de8-afd9-c538a455364c",
   "metadata": {},
   "outputs": [
    {
     "data": {
      "text/html": [
       "<h4><strong> Sample of data</strong></h4>"
      ],
      "text/plain": [
       "<IPython.core.display.HTML object>"
      ]
     },
     "metadata": {},
     "output_type": "display_data"
    }
   ],
   "source": [
    "display(HTML(\"<h4><strong> Sample of data</strong></h4>\"))\n"
   ]
  },
  {
   "cell_type": "code",
   "execution_count": 7,
   "id": "4713b1a5-ccac-4e1b-8552-850285cad53e",
   "metadata": {},
   "outputs": [
    {
     "data": {
      "text/html": [
       "<div>\n",
       "<style scoped>\n",
       "    .dataframe tbody tr th:only-of-type {\n",
       "        vertical-align: middle;\n",
       "    }\n",
       "\n",
       "    .dataframe tbody tr th {\n",
       "        vertical-align: top;\n",
       "    }\n",
       "\n",
       "    .dataframe thead th {\n",
       "        text-align: right;\n",
       "    }\n",
       "</style>\n",
       "<table border=\"1\" class=\"dataframe\">\n",
       "  <thead>\n",
       "    <tr style=\"text-align: right;\">\n",
       "      <th></th>\n",
       "      <th>activity_id</th>\n",
       "      <th>origin_bgrp_2020</th>\n",
       "      <th>origin_trct_2020</th>\n",
       "      <th>origin_cty_2020</th>\n",
       "      <th>origin_st_2020</th>\n",
       "      <th>destination_bgrp_2020</th>\n",
       "      <th>destination_trct_2020</th>\n",
       "      <th>destination_cty_2020</th>\n",
       "      <th>destination_st_2020</th>\n",
       "      <th>primary_mode</th>\n",
       "      <th>trip_purpose</th>\n",
       "      <th>previous_trip_purpose</th>\n",
       "      <th>trip_start_time</th>\n",
       "      <th>trip_end_time</th>\n",
       "      <th>trip_duration_minutes</th>\n",
       "      <th>trip_distance_miles</th>\n",
       "      <th>vehicle_type</th>\n",
       "      <th>vehicle_fuel_type</th>\n",
       "      <th>transit_submode</th>\n",
       "      <th>transit_agency</th>\n",
       "      <th>transit_route</th>\n",
       "      <th>origin_land_use</th>\n",
       "      <th>origin_building_use</th>\n",
       "      <th>destination_land_use</th>\n",
       "      <th>destination_building_use</th>\n",
       "      <th>trip_taker_person_id</th>\n",
       "      <th>trip_taker_household_id</th>\n",
       "      <th>trip_taker_age</th>\n",
       "      <th>trip_taker_sex</th>\n",
       "      <th>trip_taker_race_ethnicity</th>\n",
       "      <th>trip_taker_employment_status</th>\n",
       "      <th>trip_taker_wfh</th>\n",
       "      <th>trip_taker_individual_income</th>\n",
       "      <th>trip_taker_commute_mode</th>\n",
       "      <th>trip_taker_household_size</th>\n",
       "      <th>trip_taker_household_income</th>\n",
       "      <th>trip_taker_available_vehicles</th>\n",
       "      <th>trip_taker_resident_type</th>\n",
       "      <th>trip_taker_industry</th>\n",
       "      <th>trip_taker_building_type</th>\n",
       "      <th>trip_taker_school_grade_attending</th>\n",
       "      <th>trip_taker_education</th>\n",
       "      <th>trip_taker_tenure</th>\n",
       "      <th>trip_taker_language</th>\n",
       "      <th>trip_taker_home_bgrp_2020</th>\n",
       "      <th>trip_taker_home_trct_2020</th>\n",
       "      <th>trip_taker_home_cty_2020</th>\n",
       "      <th>trip_taker_home_st_2020</th>\n",
       "      <th>trip_taker_work_bgrp_2020</th>\n",
       "      <th>trip_taker_work_trct_2020</th>\n",
       "      <th>trip_taker_work_cty_2020</th>\n",
       "      <th>trip_taker_work_st_2020</th>\n",
       "    </tr>\n",
       "  </thead>\n",
       "  <tbody>\n",
       "    <tr>\n",
       "      <th>177890</th>\n",
       "      <td>15350592806243147042</td>\n",
       "      <td>1 (Tract 438.21, Riverside, CA)</td>\n",
       "      <td>438.21 (Riverside, CA)</td>\n",
       "      <td>Riverside County, CA</td>\n",
       "      <td>California</td>\n",
       "      <td>1 (Tract 1318.01, Los Angeles, CA)</td>\n",
       "      <td>1318.01 (Los Angeles, CA)</td>\n",
       "      <td>Los Angeles County, CA</td>\n",
       "      <td>California</td>\n",
       "      <td>private_auto</td>\n",
       "      <td>work</td>\n",
       "      <td>home</td>\n",
       "      <td>16:50:00</td>\n",
       "      <td>19:36:15</td>\n",
       "      <td>166</td>\n",
       "      <td>108.7</td>\n",
       "      <td>unknown_vehicle_type</td>\n",
       "      <td>other_non_bev</td>\n",
       "      <td>NaN</td>\n",
       "      <td>NaN</td>\n",
       "      <td>NaN</td>\n",
       "      <td>single_family</td>\n",
       "      <td>single_family</td>\n",
       "      <td>mixed_use</td>\n",
       "      <td>office</td>\n",
       "      <td>13837498645562403926</td>\n",
       "      <td>8821470648757336257</td>\n",
       "      <td>30.0</td>\n",
       "      <td>female</td>\n",
       "      <td>aian_not_hispanic_or_latino</td>\n",
       "      <td>employed</td>\n",
       "      <td>in_person</td>\n",
       "      <td>34795.0</td>\n",
       "      <td>private_auto</td>\n",
       "      <td>4.0</td>\n",
       "      <td>55673.0</td>\n",
       "      <td>one</td>\n",
       "      <td>core</td>\n",
       "      <td>naics22</td>\n",
       "      <td>single_family</td>\n",
       "      <td>not_attending_school</td>\n",
       "      <td>some_college</td>\n",
       "      <td>owner</td>\n",
       "      <td>english</td>\n",
       "      <td>1 (Tract 438.21, Riverside, CA)</td>\n",
       "      <td>438.21 (Riverside, CA)</td>\n",
       "      <td>Riverside County, CA</td>\n",
       "      <td>California</td>\n",
       "      <td>1 (Tract 1318.01, Los Angeles, CA)</td>\n",
       "      <td>1318.01 (Los Angeles, CA)</td>\n",
       "      <td>Los Angeles County, CA</td>\n",
       "      <td>California</td>\n",
       "    </tr>\n",
       "    <tr>\n",
       "      <th>328590</th>\n",
       "      <td>14666837256321883364</td>\n",
       "      <td>2 (Tract 998.03, Orange, CA)</td>\n",
       "      <td>998.03 (Orange, CA)</td>\n",
       "      <td>Orange County, CA</td>\n",
       "      <td>California</td>\n",
       "      <td>1 (Tract 19.09, Santa Barbara, CA)</td>\n",
       "      <td>19.09 (Santa Barbara, CA)</td>\n",
       "      <td>Santa Barbara County, CA</td>\n",
       "      <td>California</td>\n",
       "      <td>private_auto</td>\n",
       "      <td>work_from_home</td>\n",
       "      <td>shop</td>\n",
       "      <td>12:24:00</td>\n",
       "      <td>15:32:30</td>\n",
       "      <td>188</td>\n",
       "      <td>160.0</td>\n",
       "      <td>unknown_vehicle_type</td>\n",
       "      <td>other_non_bev</td>\n",
       "      <td>NaN</td>\n",
       "      <td>NaN</td>\n",
       "      <td>NaN</td>\n",
       "      <td>retail</td>\n",
       "      <td>retail</td>\n",
       "      <td>single_family</td>\n",
       "      <td>single_family</td>\n",
       "      <td>5402040356397900220</td>\n",
       "      <td>4942241964108899252</td>\n",
       "      <td>28.0</td>\n",
       "      <td>female</td>\n",
       "      <td>white_not_hispanic_or_latino</td>\n",
       "      <td>employed</td>\n",
       "      <td>remote</td>\n",
       "      <td>35958.0</td>\n",
       "      <td>worked_from_home</td>\n",
       "      <td>5.0</td>\n",
       "      <td>163983.0</td>\n",
       "      <td>three_plus</td>\n",
       "      <td>core</td>\n",
       "      <td>naics71</td>\n",
       "      <td>single_family</td>\n",
       "      <td>not_attending_school</td>\n",
       "      <td>bachelors_degree</td>\n",
       "      <td>owner</td>\n",
       "      <td>english</td>\n",
       "      <td>1 (Tract 19.09, Santa Barbara, CA)</td>\n",
       "      <td>19.09 (Santa Barbara, CA)</td>\n",
       "      <td>Santa Barbara County, CA</td>\n",
       "      <td>California</td>\n",
       "      <td>1 (Tract 19.09, Santa Barbara, CA)</td>\n",
       "      <td>19.09 (Santa Barbara, CA)</td>\n",
       "      <td>Santa Barbara County, CA</td>\n",
       "      <td>California</td>\n",
       "    </tr>\n",
       "    <tr>\n",
       "      <th>290226</th>\n",
       "      <td>6303854229292462293</td>\n",
       "      <td>1 (Tract 106.03, San Luis Obispo, CA)</td>\n",
       "      <td>106.03 (San Luis Obispo, CA)</td>\n",
       "      <td>San Luis Obispo County, CA</td>\n",
       "      <td>California</td>\n",
       "      <td>1 (Tract 6509.03, Los Angeles, CA)</td>\n",
       "      <td>6509.03 (Los Angeles, CA)</td>\n",
       "      <td>Los Angeles County, CA</td>\n",
       "      <td>California</td>\n",
       "      <td>auto_passenger</td>\n",
       "      <td>home</td>\n",
       "      <td>shop</td>\n",
       "      <td>15:24:20</td>\n",
       "      <td>19:41:43</td>\n",
       "      <td>257</td>\n",
       "      <td>224.4</td>\n",
       "      <td>unknown_vehicle_type</td>\n",
       "      <td>unknown_fuel_type</td>\n",
       "      <td>NaN</td>\n",
       "      <td>NaN</td>\n",
       "      <td>NaN</td>\n",
       "      <td>retail</td>\n",
       "      <td>retail</td>\n",
       "      <td>multi_family</td>\n",
       "      <td>multi_family</td>\n",
       "      <td>13705864138876697547</td>\n",
       "      <td>7987282472985111966</td>\n",
       "      <td>64.0</td>\n",
       "      <td>female</td>\n",
       "      <td>two_races_not_hispanic_or_latino</td>\n",
       "      <td>not_in_labor_force</td>\n",
       "      <td>unemployed_under_16_not_in_labor_force</td>\n",
       "      <td>16702.0</td>\n",
       "      <td>other_travel_mode</td>\n",
       "      <td>1.0</td>\n",
       "      <td>16702.0</td>\n",
       "      <td>one</td>\n",
       "      <td>core</td>\n",
       "      <td>not_working</td>\n",
       "      <td>several_units</td>\n",
       "      <td>not_attending_school</td>\n",
       "      <td>high_school</td>\n",
       "      <td>renter</td>\n",
       "      <td>english</td>\n",
       "      <td>1 (Tract 6509.03, Los Angeles, CA)</td>\n",
       "      <td>6509.03 (Los Angeles, CA)</td>\n",
       "      <td>Los Angeles County, CA</td>\n",
       "      <td>California</td>\n",
       "      <td>Does not have work/school location</td>\n",
       "      <td>Does not have work/school location</td>\n",
       "      <td>Does not have work/school location</td>\n",
       "      <td>Does not have work/school location</td>\n",
       "    </tr>\n",
       "    <tr>\n",
       "      <th>413489</th>\n",
       "      <td>12723186925736532275</td>\n",
       "      <td>2 (Tract 1317.01, Los Angeles, CA)</td>\n",
       "      <td>1317.01 (Los Angeles, CA)</td>\n",
       "      <td>Los Angeles County, CA</td>\n",
       "      <td>California</td>\n",
       "      <td>2 (Tract 5703.04, Los Angeles, CA)</td>\n",
       "      <td>5703.04 (Los Angeles, CA)</td>\n",
       "      <td>Los Angeles County, CA</td>\n",
       "      <td>California</td>\n",
       "      <td>private_auto</td>\n",
       "      <td>home</td>\n",
       "      <td>shop</td>\n",
       "      <td>12:12:21</td>\n",
       "      <td>13:13:05</td>\n",
       "      <td>60</td>\n",
       "      <td>40.4</td>\n",
       "      <td>unknown_vehicle_type</td>\n",
       "      <td>other_non_bev</td>\n",
       "      <td>NaN</td>\n",
       "      <td>NaN</td>\n",
       "      <td>NaN</td>\n",
       "      <td>retail</td>\n",
       "      <td>retail</td>\n",
       "      <td>single_family</td>\n",
       "      <td>single_family</td>\n",
       "      <td>17172255951273845098</td>\n",
       "      <td>13489536815411746024</td>\n",
       "      <td>27.0</td>\n",
       "      <td>female</td>\n",
       "      <td>hispanic_or_latino_origin</td>\n",
       "      <td>not_in_labor_force</td>\n",
       "      <td>unemployed_under_16_not_in_labor_force</td>\n",
       "      <td>0.0</td>\n",
       "      <td>other_travel_mode</td>\n",
       "      <td>3.0</td>\n",
       "      <td>41755.0</td>\n",
       "      <td>one</td>\n",
       "      <td>core</td>\n",
       "      <td>not_working</td>\n",
       "      <td>single_family</td>\n",
       "      <td>not_attending_school</td>\n",
       "      <td>high_school</td>\n",
       "      <td>renter</td>\n",
       "      <td>spanish</td>\n",
       "      <td>2 (Tract 5703.04, Los Angeles, CA)</td>\n",
       "      <td>5703.04 (Los Angeles, CA)</td>\n",
       "      <td>Los Angeles County, CA</td>\n",
       "      <td>California</td>\n",
       "      <td>Does not have work/school location</td>\n",
       "      <td>Does not have work/school location</td>\n",
       "      <td>Does not have work/school location</td>\n",
       "      <td>Does not have work/school location</td>\n",
       "    </tr>\n",
       "    <tr>\n",
       "      <th>200732</th>\n",
       "      <td>3756333795244641657</td>\n",
       "      <td>2 (Tract 1897.04, Los Angeles, CA)</td>\n",
       "      <td>1897.04 (Los Angeles, CA)</td>\n",
       "      <td>Los Angeles County, CA</td>\n",
       "      <td>California</td>\n",
       "      <td>2 (Tract 2712, Los Angeles, CA)</td>\n",
       "      <td>2712 (Los Angeles, CA)</td>\n",
       "      <td>Los Angeles County, CA</td>\n",
       "      <td>California</td>\n",
       "      <td>private_auto</td>\n",
       "      <td>home</td>\n",
       "      <td>work</td>\n",
       "      <td>16:23:00</td>\n",
       "      <td>16:58:27</td>\n",
       "      <td>35</td>\n",
       "      <td>19.3</td>\n",
       "      <td>unknown_vehicle_type</td>\n",
       "      <td>other_non_bev</td>\n",
       "      <td>NaN</td>\n",
       "      <td>NaN</td>\n",
       "      <td>NaN</td>\n",
       "      <td>retail</td>\n",
       "      <td>retail</td>\n",
       "      <td>mixed_use</td>\n",
       "      <td>multi_family</td>\n",
       "      <td>17606560948757328745</td>\n",
       "      <td>9302417848933522777</td>\n",
       "      <td>28.0</td>\n",
       "      <td>male</td>\n",
       "      <td>hispanic_or_latino_origin</td>\n",
       "      <td>employed</td>\n",
       "      <td>in_person</td>\n",
       "      <td>34807.0</td>\n",
       "      <td>private_auto</td>\n",
       "      <td>2.0</td>\n",
       "      <td>104979.0</td>\n",
       "      <td>two</td>\n",
       "      <td>core</td>\n",
       "      <td>naics722511</td>\n",
       "      <td>multiple_units</td>\n",
       "      <td>not_attending_school</td>\n",
       "      <td>advanced_degree</td>\n",
       "      <td>renter</td>\n",
       "      <td>english</td>\n",
       "      <td>2 (Tract 2712, Los Angeles, CA)</td>\n",
       "      <td>2712 (Los Angeles, CA)</td>\n",
       "      <td>Los Angeles County, CA</td>\n",
       "      <td>California</td>\n",
       "      <td>2 (Tract 1897.04, Los Angeles, CA)</td>\n",
       "      <td>1897.04 (Los Angeles, CA)</td>\n",
       "      <td>Los Angeles County, CA</td>\n",
       "      <td>California</td>\n",
       "    </tr>\n",
       "  </tbody>\n",
       "</table>\n",
       "</div>"
      ],
      "text/plain": [
       "                 activity_id                       origin_bgrp_2020  \\\n",
       "177890  15350592806243147042        1 (Tract 438.21, Riverside, CA)   \n",
       "328590  14666837256321883364           2 (Tract 998.03, Orange, CA)   \n",
       "290226   6303854229292462293  1 (Tract 106.03, San Luis Obispo, CA)   \n",
       "413489  12723186925736532275     2 (Tract 1317.01, Los Angeles, CA)   \n",
       "200732   3756333795244641657     2 (Tract 1897.04, Los Angeles, CA)   \n",
       "\n",
       "                    origin_trct_2020             origin_cty_2020  \\\n",
       "177890        438.21 (Riverside, CA)        Riverside County, CA   \n",
       "328590           998.03 (Orange, CA)           Orange County, CA   \n",
       "290226  106.03 (San Luis Obispo, CA)  San Luis Obispo County, CA   \n",
       "413489     1317.01 (Los Angeles, CA)      Los Angeles County, CA   \n",
       "200732     1897.04 (Los Angeles, CA)      Los Angeles County, CA   \n",
       "\n",
       "       origin_st_2020               destination_bgrp_2020  \\\n",
       "177890     California  1 (Tract 1318.01, Los Angeles, CA)   \n",
       "328590     California  1 (Tract 19.09, Santa Barbara, CA)   \n",
       "290226     California  1 (Tract 6509.03, Los Angeles, CA)   \n",
       "413489     California  2 (Tract 5703.04, Los Angeles, CA)   \n",
       "200732     California     2 (Tract 2712, Los Angeles, CA)   \n",
       "\n",
       "            destination_trct_2020      destination_cty_2020  \\\n",
       "177890  1318.01 (Los Angeles, CA)    Los Angeles County, CA   \n",
       "328590  19.09 (Santa Barbara, CA)  Santa Barbara County, CA   \n",
       "290226  6509.03 (Los Angeles, CA)    Los Angeles County, CA   \n",
       "413489  5703.04 (Los Angeles, CA)    Los Angeles County, CA   \n",
       "200732     2712 (Los Angeles, CA)    Los Angeles County, CA   \n",
       "\n",
       "       destination_st_2020    primary_mode    trip_purpose  \\\n",
       "177890          California    private_auto            work   \n",
       "328590          California    private_auto  work_from_home   \n",
       "290226          California  auto_passenger            home   \n",
       "413489          California    private_auto            home   \n",
       "200732          California    private_auto            home   \n",
       "\n",
       "       previous_trip_purpose trip_start_time trip_end_time  \\\n",
       "177890                  home        16:50:00      19:36:15   \n",
       "328590                  shop        12:24:00      15:32:30   \n",
       "290226                  shop        15:24:20      19:41:43   \n",
       "413489                  shop        12:12:21      13:13:05   \n",
       "200732                  work        16:23:00      16:58:27   \n",
       "\n",
       "        trip_duration_minutes  trip_distance_miles          vehicle_type  \\\n",
       "177890                    166                108.7  unknown_vehicle_type   \n",
       "328590                    188                160.0  unknown_vehicle_type   \n",
       "290226                    257                224.4  unknown_vehicle_type   \n",
       "413489                     60                 40.4  unknown_vehicle_type   \n",
       "200732                     35                 19.3  unknown_vehicle_type   \n",
       "\n",
       "        vehicle_fuel_type transit_submode transit_agency transit_route  \\\n",
       "177890      other_non_bev             NaN            NaN           NaN   \n",
       "328590      other_non_bev             NaN            NaN           NaN   \n",
       "290226  unknown_fuel_type             NaN            NaN           NaN   \n",
       "413489      other_non_bev             NaN            NaN           NaN   \n",
       "200732      other_non_bev             NaN            NaN           NaN   \n",
       "\n",
       "       origin_land_use origin_building_use destination_land_use  \\\n",
       "177890   single_family       single_family            mixed_use   \n",
       "328590          retail              retail        single_family   \n",
       "290226          retail              retail         multi_family   \n",
       "413489          retail              retail        single_family   \n",
       "200732          retail              retail            mixed_use   \n",
       "\n",
       "       destination_building_use  trip_taker_person_id trip_taker_household_id  \\\n",
       "177890                   office  13837498645562403926     8821470648757336257   \n",
       "328590            single_family   5402040356397900220     4942241964108899252   \n",
       "290226             multi_family  13705864138876697547     7987282472985111966   \n",
       "413489            single_family  17172255951273845098    13489536815411746024   \n",
       "200732             multi_family  17606560948757328745     9302417848933522777   \n",
       "\n",
       "        trip_taker_age trip_taker_sex         trip_taker_race_ethnicity  \\\n",
       "177890            30.0         female       aian_not_hispanic_or_latino   \n",
       "328590            28.0         female      white_not_hispanic_or_latino   \n",
       "290226            64.0         female  two_races_not_hispanic_or_latino   \n",
       "413489            27.0         female         hispanic_or_latino_origin   \n",
       "200732            28.0           male         hispanic_or_latino_origin   \n",
       "\n",
       "       trip_taker_employment_status                          trip_taker_wfh  \\\n",
       "177890                     employed                               in_person   \n",
       "328590                     employed                                  remote   \n",
       "290226           not_in_labor_force  unemployed_under_16_not_in_labor_force   \n",
       "413489           not_in_labor_force  unemployed_under_16_not_in_labor_force   \n",
       "200732                     employed                               in_person   \n",
       "\n",
       "        trip_taker_individual_income trip_taker_commute_mode  \\\n",
       "177890                       34795.0            private_auto   \n",
       "328590                       35958.0        worked_from_home   \n",
       "290226                       16702.0       other_travel_mode   \n",
       "413489                           0.0       other_travel_mode   \n",
       "200732                       34807.0            private_auto   \n",
       "\n",
       "        trip_taker_household_size  trip_taker_household_income  \\\n",
       "177890                        4.0                      55673.0   \n",
       "328590                        5.0                     163983.0   \n",
       "290226                        1.0                      16702.0   \n",
       "413489                        3.0                      41755.0   \n",
       "200732                        2.0                     104979.0   \n",
       "\n",
       "       trip_taker_available_vehicles trip_taker_resident_type  \\\n",
       "177890                           one                     core   \n",
       "328590                    three_plus                     core   \n",
       "290226                           one                     core   \n",
       "413489                           one                     core   \n",
       "200732                           two                     core   \n",
       "\n",
       "       trip_taker_industry trip_taker_building_type  \\\n",
       "177890             naics22            single_family   \n",
       "328590             naics71            single_family   \n",
       "290226         not_working            several_units   \n",
       "413489         not_working            single_family   \n",
       "200732         naics722511           multiple_units   \n",
       "\n",
       "       trip_taker_school_grade_attending trip_taker_education  \\\n",
       "177890              not_attending_school         some_college   \n",
       "328590              not_attending_school     bachelors_degree   \n",
       "290226              not_attending_school          high_school   \n",
       "413489              not_attending_school          high_school   \n",
       "200732              not_attending_school      advanced_degree   \n",
       "\n",
       "       trip_taker_tenure trip_taker_language  \\\n",
       "177890             owner             english   \n",
       "328590             owner             english   \n",
       "290226            renter             english   \n",
       "413489            renter             spanish   \n",
       "200732            renter             english   \n",
       "\n",
       "                 trip_taker_home_bgrp_2020  trip_taker_home_trct_2020  \\\n",
       "177890     1 (Tract 438.21, Riverside, CA)     438.21 (Riverside, CA)   \n",
       "328590  1 (Tract 19.09, Santa Barbara, CA)  19.09 (Santa Barbara, CA)   \n",
       "290226  1 (Tract 6509.03, Los Angeles, CA)  6509.03 (Los Angeles, CA)   \n",
       "413489  2 (Tract 5703.04, Los Angeles, CA)  5703.04 (Los Angeles, CA)   \n",
       "200732     2 (Tract 2712, Los Angeles, CA)     2712 (Los Angeles, CA)   \n",
       "\n",
       "        trip_taker_home_cty_2020 trip_taker_home_st_2020  \\\n",
       "177890      Riverside County, CA              California   \n",
       "328590  Santa Barbara County, CA              California   \n",
       "290226    Los Angeles County, CA              California   \n",
       "413489    Los Angeles County, CA              California   \n",
       "200732    Los Angeles County, CA              California   \n",
       "\n",
       "                 trip_taker_work_bgrp_2020  \\\n",
       "177890  1 (Tract 1318.01, Los Angeles, CA)   \n",
       "328590  1 (Tract 19.09, Santa Barbara, CA)   \n",
       "290226  Does not have work/school location   \n",
       "413489  Does not have work/school location   \n",
       "200732  2 (Tract 1897.04, Los Angeles, CA)   \n",
       "\n",
       "                 trip_taker_work_trct_2020  \\\n",
       "177890           1318.01 (Los Angeles, CA)   \n",
       "328590           19.09 (Santa Barbara, CA)   \n",
       "290226  Does not have work/school location   \n",
       "413489  Does not have work/school location   \n",
       "200732           1897.04 (Los Angeles, CA)   \n",
       "\n",
       "                  trip_taker_work_cty_2020             trip_taker_work_st_2020  \n",
       "177890              Los Angeles County, CA                          California  \n",
       "328590            Santa Barbara County, CA                          California  \n",
       "290226  Does not have work/school location  Does not have work/school location  \n",
       "413489  Does not have work/school location  Does not have work/school location  \n",
       "200732              Los Angeles County, CA                          California  "
      ]
     },
     "execution_count": 7,
     "metadata": {},
     "output_type": "execute_result"
    }
   ],
   "source": [
    "r_trips.sample(5)"
   ]
  },
  {
   "cell_type": "code",
   "execution_count": null,
   "id": "e2199852-9b6e-46ca-86fd-abe71148d13f",
   "metadata": {},
   "outputs": [],
   "source": []
  },
  {
   "cell_type": "code",
   "execution_count": 8,
   "id": "75945ef2-eab7-469a-baad-ee563d70c309",
   "metadata": {},
   "outputs": [
    {
     "data": {
      "text/html": [
       "<h4><strong> Columns in Replica Trips Data</strong></h4>"
      ],
      "text/plain": [
       "<IPython.core.display.HTML object>"
      ]
     },
     "metadata": {},
     "output_type": "display_data"
    }
   ],
   "source": [
    "display(HTML(\"<h4><strong> Columns in Replica Trips Data</strong></h4>\"))\n"
   ]
  },
  {
   "cell_type": "code",
   "execution_count": 9,
   "id": "1f3e4cbb-d211-40b1-b4bb-2c7cb43b33a9",
   "metadata": {},
   "outputs": [
    {
     "data": {
      "text/plain": [
       "Index(['activity_id', 'origin_bgrp_2020', 'origin_trct_2020',\n",
       "       'origin_cty_2020', 'origin_st_2020', 'destination_bgrp_2020',\n",
       "       'destination_trct_2020', 'destination_cty_2020', 'destination_st_2020',\n",
       "       'primary_mode', 'trip_purpose', 'previous_trip_purpose',\n",
       "       'trip_start_time', 'trip_end_time', 'trip_duration_minutes',\n",
       "       'trip_distance_miles', 'vehicle_type', 'vehicle_fuel_type',\n",
       "       'transit_submode', 'transit_agency', 'transit_route', 'origin_land_use',\n",
       "       'origin_building_use', 'destination_land_use',\n",
       "       'destination_building_use', 'trip_taker_person_id',\n",
       "       'trip_taker_household_id', 'trip_taker_age', 'trip_taker_sex',\n",
       "       'trip_taker_race_ethnicity', 'trip_taker_employment_status',\n",
       "       'trip_taker_wfh', 'trip_taker_individual_income',\n",
       "       'trip_taker_commute_mode', 'trip_taker_household_size',\n",
       "       'trip_taker_household_income', 'trip_taker_available_vehicles',\n",
       "       'trip_taker_resident_type', 'trip_taker_industry',\n",
       "       'trip_taker_building_type', 'trip_taker_school_grade_attending',\n",
       "       'trip_taker_education', 'trip_taker_tenure', 'trip_taker_language',\n",
       "       'trip_taker_home_bgrp_2020', 'trip_taker_home_trct_2020',\n",
       "       'trip_taker_home_cty_2020', 'trip_taker_home_st_2020',\n",
       "       'trip_taker_work_bgrp_2020', 'trip_taker_work_trct_2020',\n",
       "       'trip_taker_work_cty_2020', 'trip_taker_work_st_2020'],\n",
       "      dtype='object')"
      ]
     },
     "execution_count": 9,
     "metadata": {},
     "output_type": "execute_result"
    }
   ],
   "source": [
    "r_trips.columns"
   ]
  },
  {
   "cell_type": "code",
   "execution_count": null,
   "id": "e60fb5c7-a04b-48f3-8282-ca98a54dadd2",
   "metadata": {},
   "outputs": [],
   "source": []
  },
  {
   "cell_type": "markdown",
   "id": "92f9a5f4-08f1-43fc-ae01-c6bd404891d6",
   "metadata": {
    "tags": []
   },
   "source": [
    "#### Data Exploration: Replica Trips\n",
    "* Summarizing the data that we exported from Replica\n",
    "* Existing visualizations in replica: \n",
    "   * Primary Mode\n",
    "   * Trip Purpose\n",
    "   * Starting hour \n",
    "   * Trip Duration/Distance\n",
    "   * Origin Destination\n",
    "   * Vehicle Fuel type\n",
    "   * Transit Routes/Stops/Sub mode/Agency\n",
    "   * Household Income\n",
    "   * Race and Ethnicity\n",
    "   * Private Auto Availability\n",
    "   * Age\n",
    "   * Employment/School Status\n",
    "   \n",
    "   "
   ]
  },
  {
   "cell_type": "code",
   "execution_count": 10,
   "id": "d7f3b44a-cd77-42e9-b0d8-7b9d228b37d5",
   "metadata": {},
   "outputs": [],
   "source": [
    "trips = r_trips>>group_by(_.primary_mode)>>summarize(avg_trip_time = _.trip_duration_minutes.mean(),\n",
    "                                                     number_trips = _.activity_id.nunique())"
   ]
  },
  {
   "cell_type": "code",
   "execution_count": 11,
   "id": "05893215-e993-44dc-9c4b-1aa7d94815cd",
   "metadata": {},
   "outputs": [
    {
     "data": {
      "text/html": [
       "\n",
       "<style>\n",
       "  #altair-viz-f255fe61443a4899aa72b2f09f94cac8.vega-embed {\n",
       "    width: 100%;\n",
       "    display: flex;\n",
       "  }\n",
       "\n",
       "  #altair-viz-f255fe61443a4899aa72b2f09f94cac8.vega-embed details,\n",
       "  #altair-viz-f255fe61443a4899aa72b2f09f94cac8.vega-embed details summary {\n",
       "    position: relative;\n",
       "  }\n",
       "</style>\n",
       "<div id=\"altair-viz-f255fe61443a4899aa72b2f09f94cac8\"></div>\n",
       "<script type=\"text/javascript\">\n",
       "  var VEGA_DEBUG = (typeof VEGA_DEBUG == \"undefined\") ? {} : VEGA_DEBUG;\n",
       "  (function(spec, embedOpt){\n",
       "    let outputDiv = document.currentScript.previousElementSibling;\n",
       "    if (outputDiv.id !== \"altair-viz-f255fe61443a4899aa72b2f09f94cac8\") {\n",
       "      outputDiv = document.getElementById(\"altair-viz-f255fe61443a4899aa72b2f09f94cac8\");\n",
       "    }\n",
       "    const paths = {\n",
       "      \"vega\": \"https://cdn.jsdelivr.net/npm/vega@5?noext\",\n",
       "      \"vega-lib\": \"https://cdn.jsdelivr.net/npm/vega-lib?noext\",\n",
       "      \"vega-lite\": \"https://cdn.jsdelivr.net/npm/vega-lite@5.14.1?noext\",\n",
       "      \"vega-embed\": \"https://cdn.jsdelivr.net/npm/vega-embed@6?noext\",\n",
       "    };\n",
       "\n",
       "    function maybeLoadScript(lib, version) {\n",
       "      var key = `${lib.replace(\"-\", \"\")}_version`;\n",
       "      return (VEGA_DEBUG[key] == version) ?\n",
       "        Promise.resolve(paths[lib]) :\n",
       "        new Promise(function(resolve, reject) {\n",
       "          var s = document.createElement('script');\n",
       "          document.getElementsByTagName(\"head\")[0].appendChild(s);\n",
       "          s.async = true;\n",
       "          s.onload = () => {\n",
       "            VEGA_DEBUG[key] = version;\n",
       "            return resolve(paths[lib]);\n",
       "          };\n",
       "          s.onerror = () => reject(`Error loading script: ${paths[lib]}`);\n",
       "          s.src = paths[lib];\n",
       "        });\n",
       "    }\n",
       "\n",
       "    function showError(err) {\n",
       "      outputDiv.innerHTML = `<div class=\"error\" style=\"color:red;\">${err}</div>`;\n",
       "      throw err;\n",
       "    }\n",
       "\n",
       "    function displayChart(vegaEmbed) {\n",
       "      vegaEmbed(outputDiv, spec, embedOpt)\n",
       "        .catch(err => showError(`Javascript Error: ${err.message}<br>This usually means there's a typo in your chart specification. See the javascript console for the full traceback.`));\n",
       "    }\n",
       "\n",
       "    if(typeof define === \"function\" && define.amd) {\n",
       "      requirejs.config({paths});\n",
       "      require([\"vega-embed\"], displayChart, err => showError(`Error loading script: ${err.message}`));\n",
       "    } else {\n",
       "      maybeLoadScript(\"vega\", \"5\")\n",
       "        .then(() => maybeLoadScript(\"vega-lite\", \"5.14.1\"))\n",
       "        .then(() => maybeLoadScript(\"vega-embed\", \"6\"))\n",
       "        .catch(showError)\n",
       "        .then(() => displayChart(vegaEmbed));\n",
       "    }\n",
       "  })({\"config\": {\"view\": {\"continuousWidth\": 300, \"continuousHeight\": 300}}, \"data\": {\"name\": \"data-e02771658aa3b3b9ff937e4bbfcb41ba\"}, \"mark\": {\"type\": \"bar\"}, \"encoding\": {\"color\": {\"field\": \"avg_trip_time\", \"scale\": {\"range\": [\"#E16B26\", \"#EB9F3C\", \"#f6e7e1\", \"#8CBCCB\", \"#2EA8CE\", \"#136C97\"]}, \"type\": \"quantitative\"}, \"tooltip\": [{\"field\": \"primary_mode\", \"type\": \"nominal\"}, {\"field\": \"avg_trip_time\", \"type\": \"quantitative\"}, {\"field\": \"number_trips\", \"type\": \"quantitative\"}], \"x\": {\"field\": \"primary_mode\", \"type\": \"nominal\"}, \"y\": {\"field\": \"avg_trip_time\", \"type\": \"quantitative\"}}, \"height\": 300, \"title\": \"Average Trip Time\", \"width\": 800, \"$schema\": \"https://vega.github.io/schema/vega-lite/v5.14.1.json\", \"datasets\": {\"data-e02771658aa3b3b9ff937e4bbfcb41ba\": [{\"primary_mode\": \"auto_passenger\", \"avg_trip_time\": 112.61406824507749, \"number_trips\": 145505}, {\"primary_mode\": \"commercial\", \"avg_trip_time\": 43.71912546779594, \"number_trips\": 10154}, {\"primary_mode\": \"on_demand_auto\", \"avg_trip_time\": 41.548600105652405, \"number_trips\": 3786}, {\"primary_mode\": \"private_auto\", \"avg_trip_time\": 79.92043592264831, \"number_trips\": 305100}, {\"primary_mode\": \"public_transit\", \"avg_trip_time\": 104.36544549977386, \"number_trips\": 2211}]}}, {\"mode\": \"vega-lite\"});\n",
       "</script>"
      ],
      "text/plain": [
       "alt.Chart(...)"
      ]
     },
     "execution_count": 11,
     "metadata": {},
     "output_type": "execute_result"
    }
   ],
   "source": [
    "chart = (\n",
    "        alt.Chart(trips)\n",
    "        .mark_bar()\n",
    "        .encode(\n",
    "            x=alt.X(\"primary_mode\"),\n",
    "            y=alt.Y(\"avg_trip_time\"),\n",
    "            color=alt.Color(\"avg_trip_time\", scale=alt.Scale(range = cp.CALITP_DIVERGING_COLORS)\n",
    "            ), tooltip=trips.columns.tolist())\n",
    "      .properties(title = \"Average Trip Time\",\n",
    "    width=800,\n",
    "    height=300)\n",
    "        )\n",
    "chart "
   ]
  },
  {
   "cell_type": "code",
   "execution_count": 12,
   "id": "65681a29-7f1b-42ed-9e0e-371a84a29cbd",
   "metadata": {},
   "outputs": [
    {
     "data": {
      "text/html": [
       "\n",
       "<style>\n",
       "  #altair-viz-6a4049823f45453d89296a950f206e55.vega-embed {\n",
       "    width: 100%;\n",
       "    display: flex;\n",
       "  }\n",
       "\n",
       "  #altair-viz-6a4049823f45453d89296a950f206e55.vega-embed details,\n",
       "  #altair-viz-6a4049823f45453d89296a950f206e55.vega-embed details summary {\n",
       "    position: relative;\n",
       "  }\n",
       "</style>\n",
       "<div id=\"altair-viz-6a4049823f45453d89296a950f206e55\"></div>\n",
       "<script type=\"text/javascript\">\n",
       "  var VEGA_DEBUG = (typeof VEGA_DEBUG == \"undefined\") ? {} : VEGA_DEBUG;\n",
       "  (function(spec, embedOpt){\n",
       "    let outputDiv = document.currentScript.previousElementSibling;\n",
       "    if (outputDiv.id !== \"altair-viz-6a4049823f45453d89296a950f206e55\") {\n",
       "      outputDiv = document.getElementById(\"altair-viz-6a4049823f45453d89296a950f206e55\");\n",
       "    }\n",
       "    const paths = {\n",
       "      \"vega\": \"https://cdn.jsdelivr.net/npm/vega@5?noext\",\n",
       "      \"vega-lib\": \"https://cdn.jsdelivr.net/npm/vega-lib?noext\",\n",
       "      \"vega-lite\": \"https://cdn.jsdelivr.net/npm/vega-lite@5.14.1?noext\",\n",
       "      \"vega-embed\": \"https://cdn.jsdelivr.net/npm/vega-embed@6?noext\",\n",
       "    };\n",
       "\n",
       "    function maybeLoadScript(lib, version) {\n",
       "      var key = `${lib.replace(\"-\", \"\")}_version`;\n",
       "      return (VEGA_DEBUG[key] == version) ?\n",
       "        Promise.resolve(paths[lib]) :\n",
       "        new Promise(function(resolve, reject) {\n",
       "          var s = document.createElement('script');\n",
       "          document.getElementsByTagName(\"head\")[0].appendChild(s);\n",
       "          s.async = true;\n",
       "          s.onload = () => {\n",
       "            VEGA_DEBUG[key] = version;\n",
       "            return resolve(paths[lib]);\n",
       "          };\n",
       "          s.onerror = () => reject(`Error loading script: ${paths[lib]}`);\n",
       "          s.src = paths[lib];\n",
       "        });\n",
       "    }\n",
       "\n",
       "    function showError(err) {\n",
       "      outputDiv.innerHTML = `<div class=\"error\" style=\"color:red;\">${err}</div>`;\n",
       "      throw err;\n",
       "    }\n",
       "\n",
       "    function displayChart(vegaEmbed) {\n",
       "      vegaEmbed(outputDiv, spec, embedOpt)\n",
       "        .catch(err => showError(`Javascript Error: ${err.message}<br>This usually means there's a typo in your chart specification. See the javascript console for the full traceback.`));\n",
       "    }\n",
       "\n",
       "    if(typeof define === \"function\" && define.amd) {\n",
       "      requirejs.config({paths});\n",
       "      require([\"vega-embed\"], displayChart, err => showError(`Error loading script: ${err.message}`));\n",
       "    } else {\n",
       "      maybeLoadScript(\"vega\", \"5\")\n",
       "        .then(() => maybeLoadScript(\"vega-lite\", \"5.14.1\"))\n",
       "        .then(() => maybeLoadScript(\"vega-embed\", \"6\"))\n",
       "        .catch(showError)\n",
       "        .then(() => displayChart(vegaEmbed));\n",
       "    }\n",
       "  })({\"config\": {\"view\": {\"continuousWidth\": 300, \"continuousHeight\": 300}}, \"data\": {\"name\": \"data-e02771658aa3b3b9ff937e4bbfcb41ba\"}, \"mark\": {\"type\": \"bar\"}, \"encoding\": {\"color\": {\"field\": \"number_trips\", \"scale\": {\"range\": [\"#E16B26\", \"#EB9F3C\", \"#f6e7e1\", \"#8CBCCB\", \"#2EA8CE\", \"#136C97\"]}, \"type\": \"quantitative\"}, \"tooltip\": [{\"field\": \"primary_mode\", \"type\": \"nominal\"}, {\"field\": \"avg_trip_time\", \"type\": \"quantitative\"}, {\"field\": \"number_trips\", \"type\": \"quantitative\"}], \"x\": {\"field\": \"primary_mode\", \"type\": \"nominal\"}, \"y\": {\"field\": \"number_trips\", \"type\": \"quantitative\"}}, \"height\": 300, \"title\": \"Number of Trips\", \"width\": 800, \"$schema\": \"https://vega.github.io/schema/vega-lite/v5.14.1.json\", \"datasets\": {\"data-e02771658aa3b3b9ff937e4bbfcb41ba\": [{\"primary_mode\": \"auto_passenger\", \"avg_trip_time\": 112.61406824507749, \"number_trips\": 145505}, {\"primary_mode\": \"commercial\", \"avg_trip_time\": 43.71912546779594, \"number_trips\": 10154}, {\"primary_mode\": \"on_demand_auto\", \"avg_trip_time\": 41.548600105652405, \"number_trips\": 3786}, {\"primary_mode\": \"private_auto\", \"avg_trip_time\": 79.92043592264831, \"number_trips\": 305100}, {\"primary_mode\": \"public_transit\", \"avg_trip_time\": 104.36544549977386, \"number_trips\": 2211}]}}, {\"mode\": \"vega-lite\"});\n",
       "</script>"
      ],
      "text/plain": [
       "alt.Chart(...)"
      ]
     },
     "execution_count": 12,
     "metadata": {},
     "output_type": "execute_result"
    }
   ],
   "source": [
    "chart = (\n",
    "        alt.Chart(trips)\n",
    "        .mark_bar()\n",
    "        .encode(\n",
    "            x=alt.X(\"primary_mode\"),\n",
    "            y=alt.Y(\"number_trips\"),\n",
    "            color=alt.Color(\"number_trips\", scale=alt.Scale(range = cp.CALITP_DIVERGING_COLORS,)\n",
    "            ), tooltip=trips.columns.tolist())\n",
    "      .properties(title=\"Number of Trips\",\n",
    "    width=800,\n",
    "    height=300)\n",
    "        )\n",
    "chart "
   ]
  },
  {
   "cell_type": "code",
   "execution_count": 13,
   "id": "0d60fe54-dc88-4570-8610-125b37b5917d",
   "metadata": {},
   "outputs": [
    {
     "data": {
      "text/html": [
       "<h4><strong>Length of Trips dataframe</strong></h4>"
      ],
      "text/plain": [
       "<IPython.core.display.HTML object>"
      ]
     },
     "metadata": {},
     "output_type": "display_data"
    }
   ],
   "source": [
    "display(HTML(\"<h4><strong>Length of Trips dataframe</strong></h4>\"))"
   ]
  },
  {
   "cell_type": "code",
   "execution_count": 14,
   "id": "4f98abae-ae6b-4b4e-9427-b606a557582f",
   "metadata": {},
   "outputs": [
    {
     "data": {
      "text/plain": [
       "466756"
      ]
     },
     "execution_count": 14,
     "metadata": {},
     "output_type": "execute_result"
    }
   ],
   "source": [
    "len(r_trips)"
   ]
  },
  {
   "cell_type": "code",
   "execution_count": 15,
   "id": "55c6ff06-afed-45dc-b764-93188c2b9958",
   "metadata": {},
   "outputs": [
    {
     "data": {
      "text/html": [
       "<h4><strong>Number of unique activity ids in data</strong></h4>"
      ],
      "text/plain": [
       "<IPython.core.display.HTML object>"
      ]
     },
     "metadata": {},
     "output_type": "display_data"
    }
   ],
   "source": [
    "display(HTML(\"<h4><strong>Number of unique activity ids in data</strong></h4>\"))"
   ]
  },
  {
   "cell_type": "code",
   "execution_count": 16,
   "id": "27c00872-5880-4464-84a5-e91423ce7895",
   "metadata": {},
   "outputs": [
    {
     "data": {
      "text/html": [
       "<div>\n",
       "<style scoped>\n",
       "    .dataframe tbody tr th:only-of-type {\n",
       "        vertical-align: middle;\n",
       "    }\n",
       "\n",
       "    .dataframe tbody tr th {\n",
       "        vertical-align: top;\n",
       "    }\n",
       "\n",
       "    .dataframe thead th {\n",
       "        text-align: right;\n",
       "    }\n",
       "</style>\n",
       "<table border=\"1\" class=\"dataframe\">\n",
       "  <thead>\n",
       "    <tr style=\"text-align: right;\">\n",
       "      <th></th>\n",
       "      <th>number_trips</th>\n",
       "    </tr>\n",
       "  </thead>\n",
       "  <tbody>\n",
       "    <tr>\n",
       "      <th>0</th>\n",
       "      <td>466756</td>\n",
       "    </tr>\n",
       "  </tbody>\n",
       "</table>\n",
       "</div>"
      ],
      "text/plain": [
       "   number_trips\n",
       "0        466756"
      ]
     },
     "execution_count": 16,
     "metadata": {},
     "output_type": "execute_result"
    }
   ],
   "source": [
    "r_trips>>summarize(number_trips = _.activity_id.nunique())"
   ]
  },
  {
   "cell_type": "code",
   "execution_count": 17,
   "id": "a20cbce8-e354-4aa3-99db-666a13576b5e",
   "metadata": {},
   "outputs": [
    {
     "data": {
      "text/html": [
       "<h4><strong>Number of unique trip taker ids</strong></h4>"
      ],
      "text/plain": [
       "<IPython.core.display.HTML object>"
      ]
     },
     "metadata": {},
     "output_type": "display_data"
    }
   ],
   "source": [
    "display(HTML(\"<h4><strong>Number of unique trip taker ids</strong></h4>\")) "
   ]
  },
  {
   "cell_type": "code",
   "execution_count": 18,
   "id": "2def0aaf-9182-4393-8049-2dfb95749585",
   "metadata": {},
   "outputs": [
    {
     "data": {
      "text/html": [
       "<div>\n",
       "<style scoped>\n",
       "    .dataframe tbody tr th:only-of-type {\n",
       "        vertical-align: middle;\n",
       "    }\n",
       "\n",
       "    .dataframe tbody tr th {\n",
       "        vertical-align: top;\n",
       "    }\n",
       "\n",
       "    .dataframe thead th {\n",
       "        text-align: right;\n",
       "    }\n",
       "</style>\n",
       "<table border=\"1\" class=\"dataframe\">\n",
       "  <thead>\n",
       "    <tr style=\"text-align: right;\">\n",
       "      <th></th>\n",
       "      <th>number_trips</th>\n",
       "    </tr>\n",
       "  </thead>\n",
       "  <tbody>\n",
       "    <tr>\n",
       "      <th>0</th>\n",
       "      <td>281798</td>\n",
       "    </tr>\n",
       "  </tbody>\n",
       "</table>\n",
       "</div>"
      ],
      "text/plain": [
       "   number_trips\n",
       "0        281798"
      ]
     },
     "execution_count": 18,
     "metadata": {},
     "output_type": "execute_result"
    }
   ],
   "source": [
    "r_trips>>summarize(number_trips = _.trip_taker_person_id.nunique())"
   ]
  },
  {
   "cell_type": "code",
   "execution_count": 19,
   "id": "47fecd22-8276-48b8-9c74-d3a94906bbae",
   "metadata": {},
   "outputs": [],
   "source": [
    "race_ethnicity_by_mode = r_trips>>group_by(_.primary_mode)>>count(_.trip_taker_race_ethnicity)"
   ]
  },
  {
   "cell_type": "code",
   "execution_count": 20,
   "id": "4cbeb867-916b-48aa-9949-d769fcd5af5a",
   "metadata": {},
   "outputs": [
    {
     "data": {
      "text/html": [
       "<h4><strong>Trip Taker Race and Ethnicity by Mode</strong></h4>"
      ],
      "text/plain": [
       "<IPython.core.display.HTML object>"
      ]
     },
     "metadata": {},
     "output_type": "display_data"
    }
   ],
   "source": [
    "display(HTML(\"<h4><strong>Trip Taker Race and Ethnicity by Mode</strong></h4>\")) "
   ]
  },
  {
   "cell_type": "code",
   "execution_count": 21,
   "id": "5e895499-2142-432d-8402-c035f81326b6",
   "metadata": {},
   "outputs": [
    {
     "data": {
      "text/html": [
       "\n",
       "<style>\n",
       "  #altair-viz-6215d778571f434cb097b890d5a62ddf.vega-embed {\n",
       "    width: 100%;\n",
       "    display: flex;\n",
       "  }\n",
       "\n",
       "  #altair-viz-6215d778571f434cb097b890d5a62ddf.vega-embed details,\n",
       "  #altair-viz-6215d778571f434cb097b890d5a62ddf.vega-embed details summary {\n",
       "    position: relative;\n",
       "  }\n",
       "</style>\n",
       "<div id=\"altair-viz-6215d778571f434cb097b890d5a62ddf\"></div>\n",
       "<script type=\"text/javascript\">\n",
       "  var VEGA_DEBUG = (typeof VEGA_DEBUG == \"undefined\") ? {} : VEGA_DEBUG;\n",
       "  (function(spec, embedOpt){\n",
       "    let outputDiv = document.currentScript.previousElementSibling;\n",
       "    if (outputDiv.id !== \"altair-viz-6215d778571f434cb097b890d5a62ddf\") {\n",
       "      outputDiv = document.getElementById(\"altair-viz-6215d778571f434cb097b890d5a62ddf\");\n",
       "    }\n",
       "    const paths = {\n",
       "      \"vega\": \"https://cdn.jsdelivr.net/npm/vega@5?noext\",\n",
       "      \"vega-lib\": \"https://cdn.jsdelivr.net/npm/vega-lib?noext\",\n",
       "      \"vega-lite\": \"https://cdn.jsdelivr.net/npm/vega-lite@5.14.1?noext\",\n",
       "      \"vega-embed\": \"https://cdn.jsdelivr.net/npm/vega-embed@6?noext\",\n",
       "    };\n",
       "\n",
       "    function maybeLoadScript(lib, version) {\n",
       "      var key = `${lib.replace(\"-\", \"\")}_version`;\n",
       "      return (VEGA_DEBUG[key] == version) ?\n",
       "        Promise.resolve(paths[lib]) :\n",
       "        new Promise(function(resolve, reject) {\n",
       "          var s = document.createElement('script');\n",
       "          document.getElementsByTagName(\"head\")[0].appendChild(s);\n",
       "          s.async = true;\n",
       "          s.onload = () => {\n",
       "            VEGA_DEBUG[key] = version;\n",
       "            return resolve(paths[lib]);\n",
       "          };\n",
       "          s.onerror = () => reject(`Error loading script: ${paths[lib]}`);\n",
       "          s.src = paths[lib];\n",
       "        });\n",
       "    }\n",
       "\n",
       "    function showError(err) {\n",
       "      outputDiv.innerHTML = `<div class=\"error\" style=\"color:red;\">${err}</div>`;\n",
       "      throw err;\n",
       "    }\n",
       "\n",
       "    function displayChart(vegaEmbed) {\n",
       "      vegaEmbed(outputDiv, spec, embedOpt)\n",
       "        .catch(err => showError(`Javascript Error: ${err.message}<br>This usually means there's a typo in your chart specification. See the javascript console for the full traceback.`));\n",
       "    }\n",
       "\n",
       "    if(typeof define === \"function\" && define.amd) {\n",
       "      requirejs.config({paths});\n",
       "      require([\"vega-embed\"], displayChart, err => showError(`Error loading script: ${err.message}`));\n",
       "    } else {\n",
       "      maybeLoadScript(\"vega\", \"5\")\n",
       "        .then(() => maybeLoadScript(\"vega-lite\", \"5.14.1\"))\n",
       "        .then(() => maybeLoadScript(\"vega-embed\", \"6\"))\n",
       "        .catch(showError)\n",
       "        .then(() => displayChart(vegaEmbed));\n",
       "    }\n",
       "  })({\"config\": {\"view\": {\"continuousWidth\": 300, \"continuousHeight\": 300}}, \"data\": {\"name\": \"data-a66a70d85b32c8dcb3d5a3f0cef4541c\"}, \"mark\": {\"type\": \"bar\"}, \"encoding\": {\"color\": {\"field\": \"trip_taker_race_ethnicity\", \"scale\": {\"domain\": [\"aian_not_hispanic_or_latino\", \"asian_not_hispanic_or_latino\", \"black_not_hispanic_or_latino\", \"hispanic_or_latino_origin\", \"nhopi_not_hispanic_or_latino\", \"other_not_hispanic_or_latino\", \"two_races_not_hispanic_or_latino\", \"white_not_hispanic_or_latino\", NaN], \"range\": [\"#E16B26\", \"#EB9F3C\", \"#f6e7e1\", \"#8CBCCB\", \"#2EA8CE\", \"#136C97\"]}, \"type\": \"nominal\"}, \"tooltip\": [{\"field\": \"primary_mode\", \"type\": \"nominal\"}, {\"field\": \"trip_taker_race_ethnicity\", \"type\": \"nominal\"}, {\"field\": \"n\", \"type\": \"quantitative\"}], \"x\": {\"field\": \"primary_mode\", \"type\": \"nominal\"}, \"y\": {\"field\": \"n\", \"type\": \"quantitative\"}}, \"height\": 300, \"width\": 800, \"$schema\": \"https://vega.github.io/schema/vega-lite/v5.14.1.json\", \"datasets\": {\"data-a66a70d85b32c8dcb3d5a3f0cef4541c\": [{\"primary_mode\": \"auto_passenger\", \"trip_taker_race_ethnicity\": \"aian_not_hispanic_or_latino\", \"n\": 170}, {\"primary_mode\": \"auto_passenger\", \"trip_taker_race_ethnicity\": \"asian_not_hispanic_or_latino\", \"n\": 14465}, {\"primary_mode\": \"auto_passenger\", \"trip_taker_race_ethnicity\": \"black_not_hispanic_or_latino\", \"n\": 7077}, {\"primary_mode\": \"auto_passenger\", \"trip_taker_race_ethnicity\": \"hispanic_or_latino_origin\", \"n\": 41505}, {\"primary_mode\": \"auto_passenger\", \"trip_taker_race_ethnicity\": \"nhopi_not_hispanic_or_latino\", \"n\": 166}, {\"primary_mode\": \"auto_passenger\", \"trip_taker_race_ethnicity\": \"other_not_hispanic_or_latino\", \"n\": 816}, {\"primary_mode\": \"auto_passenger\", \"trip_taker_race_ethnicity\": \"two_races_not_hispanic_or_latino\", \"n\": 4434}, {\"primary_mode\": \"auto_passenger\", \"trip_taker_race_ethnicity\": \"white_not_hispanic_or_latino\", \"n\": 48054}, {\"primary_mode\": \"auto_passenger\", \"trip_taker_race_ethnicity\": null, \"n\": 28818}, {\"primary_mode\": \"commercial\", \"trip_taker_race_ethnicity\": null, \"n\": 10154}, {\"primary_mode\": \"on_demand_auto\", \"trip_taker_race_ethnicity\": \"aian_not_hispanic_or_latino\", \"n\": 5}, {\"primary_mode\": \"on_demand_auto\", \"trip_taker_race_ethnicity\": \"asian_not_hispanic_or_latino\", \"n\": 369}, {\"primary_mode\": \"on_demand_auto\", \"trip_taker_race_ethnicity\": \"black_not_hispanic_or_latino\", \"n\": 196}, {\"primary_mode\": \"on_demand_auto\", \"trip_taker_race_ethnicity\": \"hispanic_or_latino_origin\", \"n\": 1122}, {\"primary_mode\": \"on_demand_auto\", \"trip_taker_race_ethnicity\": \"nhopi_not_hispanic_or_latino\", \"n\": 5}, {\"primary_mode\": \"on_demand_auto\", \"trip_taker_race_ethnicity\": \"other_not_hispanic_or_latino\", \"n\": 24}, {\"primary_mode\": \"on_demand_auto\", \"trip_taker_race_ethnicity\": \"two_races_not_hispanic_or_latino\", \"n\": 102}, {\"primary_mode\": \"on_demand_auto\", \"trip_taker_race_ethnicity\": \"white_not_hispanic_or_latino\", \"n\": 1368}, {\"primary_mode\": \"on_demand_auto\", \"trip_taker_race_ethnicity\": null, \"n\": 595}, {\"primary_mode\": \"private_auto\", \"trip_taker_race_ethnicity\": \"aian_not_hispanic_or_latino\", \"n\": 401}, {\"primary_mode\": \"private_auto\", \"trip_taker_race_ethnicity\": \"asian_not_hispanic_or_latino\", \"n\": 36971}, {\"primary_mode\": \"private_auto\", \"trip_taker_race_ethnicity\": \"black_not_hispanic_or_latino\", \"n\": 17876}, {\"primary_mode\": \"private_auto\", \"trip_taker_race_ethnicity\": \"hispanic_or_latino_origin\", \"n\": 107307}, {\"primary_mode\": \"private_auto\", \"trip_taker_race_ethnicity\": \"nhopi_not_hispanic_or_latino\", \"n\": 558}, {\"primary_mode\": \"private_auto\", \"trip_taker_race_ethnicity\": \"other_not_hispanic_or_latino\", \"n\": 1752}, {\"primary_mode\": \"private_auto\", \"trip_taker_race_ethnicity\": \"two_races_not_hispanic_or_latino\", \"n\": 9192}, {\"primary_mode\": \"private_auto\", \"trip_taker_race_ethnicity\": \"white_not_hispanic_or_latino\", \"n\": 120648}, {\"primary_mode\": \"private_auto\", \"trip_taker_race_ethnicity\": null, \"n\": 10395}, {\"primary_mode\": \"public_transit\", \"trip_taker_race_ethnicity\": \"asian_not_hispanic_or_latino\", \"n\": 270}, {\"primary_mode\": \"public_transit\", \"trip_taker_race_ethnicity\": \"black_not_hispanic_or_latino\", \"n\": 134}, {\"primary_mode\": \"public_transit\", \"trip_taker_race_ethnicity\": \"hispanic_or_latino_origin\", \"n\": 1186}, {\"primary_mode\": \"public_transit\", \"trip_taker_race_ethnicity\": \"nhopi_not_hispanic_or_latino\", \"n\": 1}, {\"primary_mode\": \"public_transit\", \"trip_taker_race_ethnicity\": \"other_not_hispanic_or_latino\", \"n\": 12}, {\"primary_mode\": \"public_transit\", \"trip_taker_race_ethnicity\": \"two_races_not_hispanic_or_latino\", \"n\": 54}, {\"primary_mode\": \"public_transit\", \"trip_taker_race_ethnicity\": \"white_not_hispanic_or_latino\", \"n\": 498}, {\"primary_mode\": \"public_transit\", \"trip_taker_race_ethnicity\": null, \"n\": 56}]}}, {\"mode\": \"vega-lite\"});\n",
       "</script>"
      ],
      "text/plain": [
       "alt.Chart(...)"
      ]
     },
     "execution_count": 21,
     "metadata": {},
     "output_type": "execute_result"
    }
   ],
   "source": [
    "chart = (\n",
    "        alt.Chart(race_ethnicity_by_mode)\n",
    "        .mark_bar()\n",
    "        .encode(\n",
    "            x=alt.X(\"primary_mode\"),\n",
    "            y=alt.Y(\"n\"),\n",
    "            color=alt.Color(\"trip_taker_race_ethnicity\", scale=alt.Scale(range = cp.CALITP_DIVERGING_COLORS,\n",
    "                                                                         domain=race_ethnicity_by_mode[\"trip_taker_race_ethnicity\"].unique().tolist())\n",
    "            ),\n",
    "            tooltip=race_ethnicity_by_mode.columns.tolist())\n",
    "            \n",
    "      .properties(\n",
    "    width=800,\n",
    "    height=300)\n",
    "        )\n",
    "chart "
   ]
  },
  {
   "cell_type": "code",
   "execution_count": null,
   "id": "da3bbe59-9b06-471f-beb1-4762b8939600",
   "metadata": {},
   "outputs": [],
   "source": []
  },
  {
   "cell_type": "code",
   "execution_count": 22,
   "id": "500ad806-51ed-47e9-88a5-fc8a41edd7aa",
   "metadata": {},
   "outputs": [
    {
     "data": {
      "text/html": [
       "<H4><strong>Transit Mode Splits</strong></H4>"
      ],
      "text/plain": [
       "<IPython.core.display.HTML object>"
      ]
     },
     "metadata": {},
     "output_type": "display_data"
    }
   ],
   "source": [
    "display(HTML(\"<H4><strong>Transit Mode Splits</strong></H4>\")) \n"
   ]
  },
  {
   "cell_type": "code",
   "execution_count": 23,
   "id": "d8cd6354-0433-4134-ad6e-9df92122cbd2",
   "metadata": {},
   "outputs": [
    {
     "data": {
      "text/html": [
       "<strong>Looking at transit mode, need to alter the transit_agency col and transit_submode to get a better count.</strong>"
      ],
      "text/plain": [
       "<IPython.core.display.HTML object>"
      ]
     },
     "metadata": {},
     "output_type": "display_data"
    }
   ],
   "source": [
    "display(HTML(\"<strong>Looking at transit mode, need to alter the transit_agency col and transit_submode to get a better count.</strong>\")) \n"
   ]
  },
  {
   "cell_type": "code",
   "execution_count": 24,
   "id": "261d7f48-f7c3-4ea7-a526-6f813ca16ede",
   "metadata": {},
   "outputs": [],
   "source": [
    "ptt_agency_count = (r_trips\n",
    " >>filter(_.primary_mode==\"public_transit\")\n",
    " >>group_by(_.primary_mode, _.transit_submode, _.transit_agency)\n",
    " >>summarize(n =_.activity_id.nunique())\n",
    " >>arrange(-_.n))"
   ]
  },
  {
   "cell_type": "code",
   "execution_count": 25,
   "id": "e4516beb-8277-4fd4-aed1-23af65fc4a28",
   "metadata": {},
   "outputs": [],
   "source": [
    "# ptt_agency_count"
   ]
  },
  {
   "cell_type": "code",
   "execution_count": 26,
   "id": "727511b8-3141-40e4-b654-30aaae8200d9",
   "metadata": {},
   "outputs": [
    {
     "data": {
      "text/html": [
       "<h4><strong>Most common transit mode combinations</strong></h4>"
      ],
      "text/plain": [
       "<IPython.core.display.HTML object>"
      ]
     },
     "metadata": {},
     "output_type": "display_data"
    }
   ],
   "source": [
    "display(HTML(\"<h4><strong>Most common transit mode combinations</strong></h4>\")) \n"
   ]
  },
  {
   "cell_type": "code",
   "execution_count": 27,
   "id": "f3c31371-899f-4474-85b6-86e78e89209b",
   "metadata": {},
   "outputs": [],
   "source": [
    "ptt_modes = (r_trips\n",
    "             >>filter(_.primary_mode ==\"public_transit\")\n",
    "             >>count(_.transit_submode)>>arrange(-_.n))"
   ]
  },
  {
   "cell_type": "code",
   "execution_count": 28,
   "id": "657ff2f3-0d0d-419d-b3d5-512212897fb1",
   "metadata": {},
   "outputs": [
    {
     "data": {
      "text/html": [
       "<div>\n",
       "<style scoped>\n",
       "    .dataframe tbody tr th:only-of-type {\n",
       "        vertical-align: middle;\n",
       "    }\n",
       "\n",
       "    .dataframe tbody tr th {\n",
       "        vertical-align: top;\n",
       "    }\n",
       "\n",
       "    .dataframe thead th {\n",
       "        text-align: right;\n",
       "    }\n",
       "</style>\n",
       "<table border=\"1\" class=\"dataframe\">\n",
       "  <thead>\n",
       "    <tr style=\"text-align: right;\">\n",
       "      <th></th>\n",
       "      <th>transit_submode</th>\n",
       "      <th>n</th>\n",
       "    </tr>\n",
       "  </thead>\n",
       "  <tbody>\n",
       "    <tr>\n",
       "      <th>2</th>\n",
       "      <td>bus, bus, bus</td>\n",
       "      <td>855</td>\n",
       "    </tr>\n",
       "    <tr>\n",
       "      <th>1</th>\n",
       "      <td>bus, bus</td>\n",
       "      <td>842</td>\n",
       "    </tr>\n",
       "    <tr>\n",
       "      <th>0</th>\n",
       "      <td>bus</td>\n",
       "      <td>163</td>\n",
       "    </tr>\n",
       "    <tr>\n",
       "      <th>8</th>\n",
       "      <td>bus, light_rail, bus</td>\n",
       "      <td>124</td>\n",
       "    </tr>\n",
       "    <tr>\n",
       "      <th>3</th>\n",
       "      <td>bus, bus, bus, bus</td>\n",
       "      <td>85</td>\n",
       "    </tr>\n",
       "    <tr>\n",
       "      <th>12</th>\n",
       "      <td>light_rail, bus</td>\n",
       "      <td>56</td>\n",
       "    </tr>\n",
       "    <tr>\n",
       "      <th>13</th>\n",
       "      <td>light_rail, bus, bus</td>\n",
       "      <td>24</td>\n",
       "    </tr>\n",
       "    <tr>\n",
       "      <th>9</th>\n",
       "      <td>bus, light_rail, bus, bus</td>\n",
       "      <td>18</td>\n",
       "    </tr>\n",
       "    <tr>\n",
       "      <th>15</th>\n",
       "      <td>light_rail, light_rail, bus</td>\n",
       "      <td>12</td>\n",
       "    </tr>\n",
       "    <tr>\n",
       "      <th>6</th>\n",
       "      <td>bus, bus, subway</td>\n",
       "      <td>7</td>\n",
       "    </tr>\n",
       "  </tbody>\n",
       "</table>\n",
       "</div>"
      ],
      "text/plain": [
       "                transit_submode    n\n",
       "2                 bus, bus, bus  855\n",
       "1                      bus, bus  842\n",
       "0                           bus  163\n",
       "8          bus, light_rail, bus  124\n",
       "3            bus, bus, bus, bus   85\n",
       "12              light_rail, bus   56\n",
       "13         light_rail, bus, bus   24\n",
       "9     bus, light_rail, bus, bus   18\n",
       "15  light_rail, light_rail, bus   12\n",
       "6              bus, bus, subway    7"
      ]
     },
     "execution_count": 28,
     "metadata": {},
     "output_type": "execute_result"
    }
   ],
   "source": [
    "ptt_modes.head(10)"
   ]
  },
  {
   "cell_type": "code",
   "execution_count": 29,
   "id": "80daf7a1-b947-469c-b3b0-09d0302714b7",
   "metadata": {},
   "outputs": [],
   "source": [
    "##### unnesting the transit submode and agencies to get counts. "
   ]
  },
  {
   "cell_type": "code",
   "execution_count": null,
   "id": "edd81120-9756-4edb-b713-1586a9fd5021",
   "metadata": {},
   "outputs": [],
   "source": []
  },
  {
   "cell_type": "code",
   "execution_count": null,
   "id": "2025391f-537e-432a-a2f4-d2d6ce57af04",
   "metadata": {},
   "outputs": [],
   "source": []
  },
  {
   "cell_type": "code",
   "execution_count": 30,
   "id": "eb27ab6b-6244-406f-b41a-55503a77521a",
   "metadata": {},
   "outputs": [],
   "source": [
    "ptt_agency_count['transit_submode'] = ptt_agency_count['transit_submode'].astype(str)\n",
    "ptt_agency_count['transit_agency'] = ptt_agency_count['transit_agency'].astype(str)"
   ]
  },
  {
   "cell_type": "code",
   "execution_count": 31,
   "id": "92ed5077-3524-4c39-8cf4-bf1b7922da2a",
   "metadata": {},
   "outputs": [],
   "source": [
    "ptt_agency_count['n_modes_taken'] = ptt_agency_count.transit_submode.apply(lambda x: len(x.split()))"
   ]
  },
  {
   "cell_type": "code",
   "execution_count": 32,
   "id": "c42ee93d-54ee-4fa5-97cc-447339565d4a",
   "metadata": {},
   "outputs": [],
   "source": [
    "# ptt_agency_count>>arrange(-_.n_modes_taken)"
   ]
  },
  {
   "cell_type": "code",
   "execution_count": null,
   "id": "3d93bd0e-f30d-4a53-9077-25818eef0cf7",
   "metadata": {},
   "outputs": [],
   "source": []
  },
  {
   "cell_type": "code",
   "execution_count": 33,
   "id": "cb12d509-d786-458c-894a-193c80666bb6",
   "metadata": {},
   "outputs": [],
   "source": [
    "## This line of code gets all agencies listed, even if agency is named twice. \n",
    "## Need code that counts the unique agencies\n",
    "#ptt_agency_count['agency_count'] = ptt_agency_count.transit_agency.apply(lambda x: len(x.split(\", \")))"
   ]
  },
  {
   "cell_type": "code",
   "execution_count": 34,
   "id": "2fb65c2c-5a23-4082-8e4e-f1d4ab231f0a",
   "metadata": {},
   "outputs": [],
   "source": [
    "ptt_agency_count['agency_count'] = [len(set(x.split(\", \"))) for x in\n",
    "                        ptt_agency_count['transit_agency'].str.lower()]"
   ]
  },
  {
   "cell_type": "code",
   "execution_count": null,
   "id": "589d2a23-b528-4de9-b6a0-a10f88a6da5c",
   "metadata": {},
   "outputs": [],
   "source": []
  },
  {
   "cell_type": "code",
   "execution_count": 35,
   "id": "505f47b1-229a-4cd1-90b8-b83b4ccdd6c6",
   "metadata": {},
   "outputs": [],
   "source": [
    "modes_count = ptt_agency_count>>group_by(_.n_modes_taken)>>summarize(n_trips = _.n.sum())"
   ]
  },
  {
   "cell_type": "code",
   "execution_count": 36,
   "id": "97746912-39f0-4c85-80d3-a00ed47922a8",
   "metadata": {},
   "outputs": [],
   "source": [
    "# modes_count"
   ]
  },
  {
   "cell_type": "code",
   "execution_count": 37,
   "id": "5353a2e4-762d-4a27-8f32-267c2c55bb90",
   "metadata": {},
   "outputs": [
    {
     "data": {
      "text/html": [
       "\n",
       "<style>\n",
       "  #altair-viz-77dd5382a8784c2285874d333a4b15c9.vega-embed {\n",
       "    width: 100%;\n",
       "    display: flex;\n",
       "  }\n",
       "\n",
       "  #altair-viz-77dd5382a8784c2285874d333a4b15c9.vega-embed details,\n",
       "  #altair-viz-77dd5382a8784c2285874d333a4b15c9.vega-embed details summary {\n",
       "    position: relative;\n",
       "  }\n",
       "</style>\n",
       "<div id=\"altair-viz-77dd5382a8784c2285874d333a4b15c9\"></div>\n",
       "<script type=\"text/javascript\">\n",
       "  var VEGA_DEBUG = (typeof VEGA_DEBUG == \"undefined\") ? {} : VEGA_DEBUG;\n",
       "  (function(spec, embedOpt){\n",
       "    let outputDiv = document.currentScript.previousElementSibling;\n",
       "    if (outputDiv.id !== \"altair-viz-77dd5382a8784c2285874d333a4b15c9\") {\n",
       "      outputDiv = document.getElementById(\"altair-viz-77dd5382a8784c2285874d333a4b15c9\");\n",
       "    }\n",
       "    const paths = {\n",
       "      \"vega\": \"https://cdn.jsdelivr.net/npm/vega@5?noext\",\n",
       "      \"vega-lib\": \"https://cdn.jsdelivr.net/npm/vega-lib?noext\",\n",
       "      \"vega-lite\": \"https://cdn.jsdelivr.net/npm/vega-lite@5.14.1?noext\",\n",
       "      \"vega-embed\": \"https://cdn.jsdelivr.net/npm/vega-embed@6?noext\",\n",
       "    };\n",
       "\n",
       "    function maybeLoadScript(lib, version) {\n",
       "      var key = `${lib.replace(\"-\", \"\")}_version`;\n",
       "      return (VEGA_DEBUG[key] == version) ?\n",
       "        Promise.resolve(paths[lib]) :\n",
       "        new Promise(function(resolve, reject) {\n",
       "          var s = document.createElement('script');\n",
       "          document.getElementsByTagName(\"head\")[0].appendChild(s);\n",
       "          s.async = true;\n",
       "          s.onload = () => {\n",
       "            VEGA_DEBUG[key] = version;\n",
       "            return resolve(paths[lib]);\n",
       "          };\n",
       "          s.onerror = () => reject(`Error loading script: ${paths[lib]}`);\n",
       "          s.src = paths[lib];\n",
       "        });\n",
       "    }\n",
       "\n",
       "    function showError(err) {\n",
       "      outputDiv.innerHTML = `<div class=\"error\" style=\"color:red;\">${err}</div>`;\n",
       "      throw err;\n",
       "    }\n",
       "\n",
       "    function displayChart(vegaEmbed) {\n",
       "      vegaEmbed(outputDiv, spec, embedOpt)\n",
       "        .catch(err => showError(`Javascript Error: ${err.message}<br>This usually means there's a typo in your chart specification. See the javascript console for the full traceback.`));\n",
       "    }\n",
       "\n",
       "    if(typeof define === \"function\" && define.amd) {\n",
       "      requirejs.config({paths});\n",
       "      require([\"vega-embed\"], displayChart, err => showError(`Error loading script: ${err.message}`));\n",
       "    } else {\n",
       "      maybeLoadScript(\"vega\", \"5\")\n",
       "        .then(() => maybeLoadScript(\"vega-lite\", \"5.14.1\"))\n",
       "        .then(() => maybeLoadScript(\"vega-embed\", \"6\"))\n",
       "        .catch(showError)\n",
       "        .then(() => displayChart(vegaEmbed));\n",
       "    }\n",
       "  })({\"config\": {\"view\": {\"continuousWidth\": 300, \"continuousHeight\": 300}}, \"data\": {\"name\": \"data-f92214c4a7adf96c9fa24e974acacdca\"}, \"mark\": {\"type\": \"bar\", \"size\": 60}, \"encoding\": {\"color\": {\"field\": \"n_trips\", \"scale\": {\"range\": [\"#E16B26\", \"#EB9F3C\", \"#f6e7e1\", \"#8CBCCB\", \"#2EA8CE\", \"#136C97\"]}, \"title\": \"Number of Trips\", \"type\": \"quantitative\"}, \"tooltip\": [{\"field\": \"n_modes_taken\", \"type\": \"quantitative\"}, {\"field\": \"n_trips\", \"type\": \"quantitative\"}], \"x\": {\"field\": \"n_modes_taken\", \"title\": \"Number of Modes Taken per Trip\", \"type\": \"quantitative\"}, \"y\": {\"field\": \"n_trips\", \"title\": \"Number of Trips\", \"type\": \"quantitative\"}}, \"height\": 300, \"title\": \"How Many Modes are Taken Per Trip\", \"width\": 800, \"$schema\": \"https://vega.github.io/schema/vega-lite/v5.14.1.json\", \"datasets\": {\"data-f92214c4a7adf96c9fa24e974acacdca\": [{\"n_modes_taken\": 1, \"n_trips\": 163}, {\"n_modes_taken\": 2, \"n_trips\": 901}, {\"n_modes_taken\": 3, \"n_trips\": 1030}, {\"n_modes_taken\": 4, \"n_trips\": 117}]}}, {\"mode\": \"vega-lite\"});\n",
       "</script>"
      ],
      "text/plain": [
       "alt.Chart(...)"
      ]
     },
     "execution_count": 37,
     "metadata": {},
     "output_type": "execute_result"
    }
   ],
   "source": [
    "chart = (\n",
    "        alt.Chart((modes_count))\n",
    "        .mark_bar(size=60)\n",
    "        .encode(\n",
    "            x=alt.X(\"n_modes_taken\", title =\"Number of Modes Taken per Trip\"),\n",
    "            y=alt.Y(\"n_trips\", title = \"Number of Trips\"),\n",
    "            color=alt.Color(\"n_trips\", title = \"Number of Trips\",\n",
    "                            scale=alt.Scale(range = cp.CALITP_DIVERGING_COLORS)),\n",
    "            tooltip=modes_count.columns.tolist())\n",
    "            \n",
    "      .properties(title = \"How Many Modes are Taken Per Trip\",\n",
    "    width=800,\n",
    "    height=300)\n",
    "        )\n",
    "chart "
   ]
  },
  {
   "cell_type": "code",
   "execution_count": 38,
   "id": "fb8565b9-989a-459a-bede-433de30252e7",
   "metadata": {},
   "outputs": [],
   "source": [
    "# ptt_agency_count>>group_by(_.agency_count)>>count(_.n_modes_taken)>>arrange(-_.n)\n",
    "agency_mode_trips = ptt_agency_count>>group_by(_.agency_count, _.n_modes_taken)>>summarize(ntrips=_.n.sum())>>arrange(-_.ntrips)"
   ]
  },
  {
   "cell_type": "code",
   "execution_count": 39,
   "id": "b03dbe0a-a759-4fa9-849b-b31b318f86cd",
   "metadata": {},
   "outputs": [
    {
     "data": {
      "text/html": [
       "\n",
       "<style>\n",
       "  #altair-viz-8bc254c7384340e28701da8ca5de0037.vega-embed {\n",
       "    width: 100%;\n",
       "    display: flex;\n",
       "  }\n",
       "\n",
       "  #altair-viz-8bc254c7384340e28701da8ca5de0037.vega-embed details,\n",
       "  #altair-viz-8bc254c7384340e28701da8ca5de0037.vega-embed details summary {\n",
       "    position: relative;\n",
       "  }\n",
       "</style>\n",
       "<div id=\"altair-viz-8bc254c7384340e28701da8ca5de0037\"></div>\n",
       "<script type=\"text/javascript\">\n",
       "  var VEGA_DEBUG = (typeof VEGA_DEBUG == \"undefined\") ? {} : VEGA_DEBUG;\n",
       "  (function(spec, embedOpt){\n",
       "    let outputDiv = document.currentScript.previousElementSibling;\n",
       "    if (outputDiv.id !== \"altair-viz-8bc254c7384340e28701da8ca5de0037\") {\n",
       "      outputDiv = document.getElementById(\"altair-viz-8bc254c7384340e28701da8ca5de0037\");\n",
       "    }\n",
       "    const paths = {\n",
       "      \"vega\": \"https://cdn.jsdelivr.net/npm/vega@5?noext\",\n",
       "      \"vega-lib\": \"https://cdn.jsdelivr.net/npm/vega-lib?noext\",\n",
       "      \"vega-lite\": \"https://cdn.jsdelivr.net/npm/vega-lite@5.14.1?noext\",\n",
       "      \"vega-embed\": \"https://cdn.jsdelivr.net/npm/vega-embed@6?noext\",\n",
       "    };\n",
       "\n",
       "    function maybeLoadScript(lib, version) {\n",
       "      var key = `${lib.replace(\"-\", \"\")}_version`;\n",
       "      return (VEGA_DEBUG[key] == version) ?\n",
       "        Promise.resolve(paths[lib]) :\n",
       "        new Promise(function(resolve, reject) {\n",
       "          var s = document.createElement('script');\n",
       "          document.getElementsByTagName(\"head\")[0].appendChild(s);\n",
       "          s.async = true;\n",
       "          s.onload = () => {\n",
       "            VEGA_DEBUG[key] = version;\n",
       "            return resolve(paths[lib]);\n",
       "          };\n",
       "          s.onerror = () => reject(`Error loading script: ${paths[lib]}`);\n",
       "          s.src = paths[lib];\n",
       "        });\n",
       "    }\n",
       "\n",
       "    function showError(err) {\n",
       "      outputDiv.innerHTML = `<div class=\"error\" style=\"color:red;\">${err}</div>`;\n",
       "      throw err;\n",
       "    }\n",
       "\n",
       "    function displayChart(vegaEmbed) {\n",
       "      vegaEmbed(outputDiv, spec, embedOpt)\n",
       "        .catch(err => showError(`Javascript Error: ${err.message}<br>This usually means there's a typo in your chart specification. See the javascript console for the full traceback.`));\n",
       "    }\n",
       "\n",
       "    if(typeof define === \"function\" && define.amd) {\n",
       "      requirejs.config({paths});\n",
       "      require([\"vega-embed\"], displayChart, err => showError(`Error loading script: ${err.message}`));\n",
       "    } else {\n",
       "      maybeLoadScript(\"vega\", \"5\")\n",
       "        .then(() => maybeLoadScript(\"vega-lite\", \"5.14.1\"))\n",
       "        .then(() => maybeLoadScript(\"vega-embed\", \"6\"))\n",
       "        .catch(showError)\n",
       "        .then(() => displayChart(vegaEmbed));\n",
       "    }\n",
       "  })({\"config\": {\"view\": {\"continuousWidth\": 300, \"continuousHeight\": 300}}, \"data\": {\"name\": \"data-45edf6f3ff5ac7fde669ffec06507a88\"}, \"mark\": {\"type\": \"circle\", \"size\": 100}, \"encoding\": {\"color\": {\"field\": \"ntrips\", \"scale\": {\"range\": [\"#E16B26\", \"#EB9F3C\", \"#f6e7e1\", \"#8CBCCB\", \"#2EA8CE\", \"#136C97\"]}, \"title\": \"Number of Trips\", \"type\": \"quantitative\"}, \"tooltip\": [{\"field\": \"agency_count\", \"type\": \"quantitative\"}, {\"field\": \"n_modes_taken\", \"type\": \"quantitative\"}, {\"field\": \"ntrips\", \"type\": \"quantitative\"}], \"x\": {\"field\": \"agency_count\", \"title\": \"Number of Agencies\", \"type\": \"quantitative\"}, \"y\": {\"field\": \"n_modes_taken\", \"title\": \"Number of Modes Taken\", \"type\": \"quantitative\"}}, \"height\": 300, \"title\": \"How Many Modes are Taken Per Trip\", \"width\": 800, \"$schema\": \"https://vega.github.io/schema/vega-lite/v5.14.1.json\", \"datasets\": {\"data-45edf6f3ff5ac7fde669ffec06507a88\": [{\"agency_count\": 1, \"n_modes_taken\": 2, \"ntrips\": 561}, {\"agency_count\": 1, \"n_modes_taken\": 3, \"ntrips\": 509}, {\"agency_count\": 2, \"n_modes_taken\": 3, \"ntrips\": 438}, {\"agency_count\": 2, \"n_modes_taken\": 2, \"ntrips\": 340}, {\"agency_count\": 1, \"n_modes_taken\": 1, \"ntrips\": 163}, {\"agency_count\": 3, \"n_modes_taken\": 3, \"ntrips\": 83}, {\"agency_count\": 2, \"n_modes_taken\": 4, \"ntrips\": 59}, {\"agency_count\": 1, \"n_modes_taken\": 4, \"ntrips\": 45}, {\"agency_count\": 3, \"n_modes_taken\": 4, \"ntrips\": 13}]}}, {\"mode\": \"vega-lite\"});\n",
       "</script>"
      ],
      "text/plain": [
       "alt.Chart(...)"
      ]
     },
     "execution_count": 39,
     "metadata": {},
     "output_type": "execute_result"
    }
   ],
   "source": [
    "chart = (\n",
    "        alt.Chart((agency_mode_trips))\n",
    "        .mark_circle(size=100)\n",
    "        .encode(\n",
    "            x=alt.X(\"agency_count\", title =\"Number of Agencies\"),\n",
    "            y=alt.Y(\"n_modes_taken\", title = \"Number of Modes Taken\"),\n",
    "            color=alt.Color(\"ntrips\", title = \"Number of Trips\",\n",
    "                            scale=alt.Scale(range = cp.CALITP_DIVERGING_COLORS)),\n",
    "            tooltip=agency_mode_trips.columns.tolist())\n",
    "            \n",
    "      .properties(title = \"How Many Modes are Taken Per Trip\",\n",
    "    width=800,\n",
    "    height=300)\n",
    "        )\n",
    "chart "
   ]
  },
  {
   "cell_type": "code",
   "execution_count": null,
   "id": "91273d26-1fd1-42a1-b829-a77398c606fc",
   "metadata": {},
   "outputs": [],
   "source": []
  },
  {
   "cell_type": "code",
   "execution_count": 40,
   "id": "6bd200d7-c0b9-4649-adf1-e025d216328b",
   "metadata": {},
   "outputs": [],
   "source": [
    "##### Getting columns for each agency and counts "
   ]
  },
  {
   "cell_type": "code",
   "execution_count": 41,
   "id": "e8f5f457-ce9f-4bfb-99f6-82e6eb7d11f0",
   "metadata": {
    "scrolled": true,
    "tags": []
   },
   "outputs": [],
   "source": [
    "# ptt_agency_count['transit_agency'].unique().tolist()"
   ]
  },
  {
   "cell_type": "code",
   "execution_count": 42,
   "id": "4b48b976-e4c7-4b8f-81d0-f3a54ed33a5e",
   "metadata": {},
   "outputs": [],
   "source": [
    "## Get just one columns\n",
    "column = ptt_agency_count[[\"transit_agency\"]]\n",
    "#remove single-dimensional entries from the shape of an array\n",
    "col_text = column.squeeze()\n",
    "# get list of words\n",
    "text_list = col_text.tolist()\n",
    "# #join list of words \n",
    "text_list = ', '.join(text_list).title()"
   ]
  },
  {
   "cell_type": "code",
   "execution_count": null,
   "id": "7dc09e0d-9001-42fa-babc-fb08a590c947",
   "metadata": {},
   "outputs": [],
   "source": []
  },
  {
   "cell_type": "code",
   "execution_count": 43,
   "id": "f430e943-c918-4449-8e62-e0d33ba82aff",
   "metadata": {},
   "outputs": [],
   "source": [
    "text_list = text_list.replace(\", \", \"', '\")"
   ]
  },
  {
   "cell_type": "code",
   "execution_count": 44,
   "id": "740afd55-23fe-403a-bfe5-037aa6802c0c",
   "metadata": {},
   "outputs": [],
   "source": [
    "text_list = \"['\" + text_list + \"']\""
   ]
  },
  {
   "cell_type": "code",
   "execution_count": 45,
   "id": "09ee5ac0-1bf2-40d4-8d29-7397d9b84d9e",
   "metadata": {
    "scrolled": true,
    "tags": []
   },
   "outputs": [],
   "source": [
    "# text_list"
   ]
  },
  {
   "cell_type": "code",
   "execution_count": 46,
   "id": "3c399936-bc62-491c-b71d-89a861e02fc7",
   "metadata": {},
   "outputs": [],
   "source": [
    "import ast\n"
   ]
  },
  {
   "cell_type": "code",
   "execution_count": 47,
   "id": "5ae1e7f0-9e1c-4795-a3cc-d16f98e039d2",
   "metadata": {},
   "outputs": [],
   "source": [
    "agency_list = ast.literal_eval(text_list)"
   ]
  },
  {
   "cell_type": "code",
   "execution_count": 48,
   "id": "cc080910-1ad8-4303-a825-eb4370f78f5c",
   "metadata": {},
   "outputs": [],
   "source": [
    "agency_list = set(agency_list)"
   ]
  },
  {
   "cell_type": "code",
   "execution_count": 49,
   "id": "416d16f0-3128-4857-9136-69f0403ce5cc",
   "metadata": {},
   "outputs": [],
   "source": [
    "# len(agency_list)"
   ]
  },
  {
   "cell_type": "code",
   "execution_count": 50,
   "id": "f303acae-da1b-44a5-98b2-2f8f5b98f56a",
   "metadata": {},
   "outputs": [
    {
     "data": {
      "text/html": [
       "<h4><strong>Agencies Identified in Trips Data</strong></h4>"
      ],
      "text/plain": [
       "<IPython.core.display.HTML object>"
      ]
     },
     "metadata": {},
     "output_type": "display_data"
    },
    {
     "data": {
      "text/plain": [
       "{'Amtrak',\n",
       " 'Avta',\n",
       " 'Beach Cities Transit-City Of Redondo Beach',\n",
       " 'Big Blue Bus',\n",
       " 'Culver Citybus',\n",
       " 'Foothill Transit',\n",
       " 'Gtrans',\n",
       " 'La Go Bus',\n",
       " 'Ladot126',\n",
       " 'Ladotdt',\n",
       " 'Ladotmvn',\n",
       " 'Ladotmvs',\n",
       " 'Long Beach Transit',\n",
       " 'Metro - Los Angeles',\n",
       " 'Metrolink Trains',\n",
       " 'Santa Clarita Transit'}"
      ]
     },
     "execution_count": 50,
     "metadata": {},
     "output_type": "execute_result"
    }
   ],
   "source": [
    "display(HTML(\"<h4><strong>Agencies Identified in Trips Data</strong></h4>\")) \n",
    "\n",
    "(agency_list)"
   ]
  },
  {
   "cell_type": "code",
   "execution_count": null,
   "id": "8b121b63-083b-4898-9eb1-cb919698d9ca",
   "metadata": {},
   "outputs": [],
   "source": []
  },
  {
   "cell_type": "code",
   "execution_count": null,
   "id": "d737409e-38b2-4aa9-8cac-4ad3b8e22294",
   "metadata": {},
   "outputs": [],
   "source": []
  },
  {
   "cell_type": "code",
   "execution_count": null,
   "id": "6d5ebb21-1aaf-4743-aa0a-feb58ed44da2",
   "metadata": {},
   "outputs": [],
   "source": []
  },
  {
   "cell_type": "code",
   "execution_count": 51,
   "id": "b4548765-653e-4d07-88e6-6cc7c2d40f7b",
   "metadata": {},
   "outputs": [],
   "source": [
    "#### using this stackoverflow code to count the instances of the transit agencies in the data"
   ]
  },
  {
   "cell_type": "code",
   "execution_count": 52,
   "id": "bd1a6f28-2b26-4919-87c7-b55027aea1b9",
   "metadata": {},
   "outputs": [],
   "source": [
    "## https://stackoverflow.com/questions/46250505/count-the-number-of-times-multiple-substrings-appear-in-dataframe-column"
   ]
  },
  {
   "cell_type": "code",
   "execution_count": 53,
   "id": "9a738907-d239-4067-b813-bc603a3c85de",
   "metadata": {},
   "outputs": [],
   "source": [
    "# ptt_agency_count['transit_agency'] = ptt_agency_count['transit_agency'].str.strip('()').str.split(',')"
   ]
  },
  {
   "cell_type": "code",
   "execution_count": 54,
   "id": "8d5f235d-30c4-4455-b9c8-283007badeeb",
   "metadata": {},
   "outputs": [],
   "source": [
    "# ptt_agency_count.join(ptt_agency_count['transit_agency'].str.join('|').str.get_dummies())"
   ]
  },
  {
   "cell_type": "code",
   "execution_count": null,
   "id": "34eada82-1f1c-4411-8dd4-3bb71b0ddb16",
   "metadata": {},
   "outputs": [],
   "source": []
  },
  {
   "cell_type": "code",
   "execution_count": 55,
   "id": "71af6e25-52b0-45e9-ba2b-a00a670e3010",
   "metadata": {},
   "outputs": [],
   "source": [
    "### making a copy of the ptt_agency_count\n",
    "df = ptt_agency_count.copy()"
   ]
  },
  {
   "cell_type": "code",
   "execution_count": 56,
   "id": "77c19b04-a01a-4631-9db4-a30b54fdff36",
   "metadata": {},
   "outputs": [],
   "source": [
    "# df['transit_agency'] = df['transit_agency'].astype(str)"
   ]
  },
  {
   "cell_type": "code",
   "execution_count": 57,
   "id": "1ed407a8-9c32-41ba-8ad8-15e422d14c0a",
   "metadata": {},
   "outputs": [],
   "source": [
    "# df2 = df['transit_agency'].str.get_dummies(sep=', ')"
   ]
  },
  {
   "cell_type": "code",
   "execution_count": 58,
   "id": "0ffb0504-e0d1-4b41-856b-d686b2408857",
   "metadata": {},
   "outputs": [],
   "source": [
    "# df2"
   ]
  },
  {
   "cell_type": "code",
   "execution_count": null,
   "id": "5bdc0792-219c-4877-880c-cd7d84db2303",
   "metadata": {},
   "outputs": [],
   "source": []
  },
  {
   "cell_type": "code",
   "execution_count": null,
   "id": "2de92f7b-2e28-4388-880f-9e34b8b603ea",
   "metadata": {},
   "outputs": [],
   "source": []
  },
  {
   "cell_type": "markdown",
   "id": "89479d3a-eeb5-491a-a064-49a77194109e",
   "metadata": {},
   "source": [
    "##### Trying ChatGPT approach"
   ]
  },
  {
   "cell_type": "code",
   "execution_count": 59,
   "id": "bd6f46a5-404f-41eb-9fd8-4600451e6d20",
   "metadata": {},
   "outputs": [],
   "source": [
    "agency_indv_count = (r_trips>>filter(_.primary_mode==\"public_transit\")>>select(_.transit_agency))\n",
    "agency_indv_count['transit_agency'] = agency_indv_count['transit_agency'].astype(str)"
   ]
  },
  {
   "cell_type": "code",
   "execution_count": 60,
   "id": "6c664504-dad9-47f8-929a-dbb8810af191",
   "metadata": {},
   "outputs": [],
   "source": [
    "# transit_agencies = set()\n",
    "# for agencies in df['transit_agency'].str.split(', '):\n",
    "#     transit_agencies.update(agencies)"
   ]
  },
  {
   "cell_type": "code",
   "execution_count": 61,
   "id": "f577e93c-5cf9-4a2b-95b7-a6cd8577c4d8",
   "metadata": {},
   "outputs": [],
   "source": [
    "# unique_agencies = []"
   ]
  },
  {
   "cell_type": "code",
   "execution_count": 62,
   "id": "daa329d5-ab43-4d91-9f24-529cc929118c",
   "metadata": {},
   "outputs": [],
   "source": [
    "# for agency in transit_agencies:\n",
    "#     df[agency] = df['transit_agency'].str.count(agency)\n",
    "#     unique_agencies.append(agency)"
   ]
  },
  {
   "cell_type": "code",
   "execution_count": 63,
   "id": "bb062bcd-4322-4970-9115-7ea91ba7041c",
   "metadata": {},
   "outputs": [],
   "source": [
    "# ### adding column for unique agencies list\n",
    "# def get_unique_agencies(agency_list):\n",
    "#     unique_agencies = set()\n",
    "#     for agencies in agency_list:\n",
    "#         unique_agencies.update(agencies.split(', '))\n",
    "#     return ', '.join(sorted(list(unique_agencies)))\n",
    "\n",
    "# # Applying the function to each row of the dataframe to get unique agencies\n",
    "# df['unique_agencies'] = df['transit_agency'].str.split(', ').apply(lambda x: get_unique_agencies(x))"
   ]
  },
  {
   "cell_type": "code",
   "execution_count": null,
   "id": "6a011752-5211-40b4-a108-a8036fdbacce",
   "metadata": {},
   "outputs": [],
   "source": []
  },
  {
   "cell_type": "code",
   "execution_count": 64,
   "id": "045be8fb-d8fd-4019-8282-df53602b122b",
   "metadata": {},
   "outputs": [],
   "source": [
    "def get_dummies_by_agency(df, col):\n",
    "    transit_agencies = set()\n",
    "    for agencies in df[col].str.split(', '):\n",
    "        transit_agencies.update(agencies)\n",
    "    unique_agencies = []\n",
    "    \n",
    "    for agency in transit_agencies:\n",
    "        df[agency] = df[col].str.count(agency)\n",
    "        unique_agencies.append(agency)\n",
    "\n",
    "    ### adding column for unique agencies list\n",
    "    def get_unique_agencies(agency_list):\n",
    "        unique_agencies = set()\n",
    "        for agencies in agency_list:\n",
    "            unique_agencies.update(agencies.split(', '))\n",
    "        return ', '.join(sorted(list(unique_agencies)))\n",
    "\n",
    "    # Applying the function to each row of the dataframe to get unique agencies\n",
    "    df['unique_agencies'] = df[col].str.split(', ').apply(lambda x: get_unique_agencies(x))\n",
    "    \n",
    "    return df"
   ]
  },
  {
   "cell_type": "code",
   "execution_count": 65,
   "id": "efc4eb07-c0f9-4bc2-87bb-cac95f606657",
   "metadata": {},
   "outputs": [],
   "source": [
    "df = get_dummies_by_agency(df, \"transit_agency\")"
   ]
  },
  {
   "cell_type": "code",
   "execution_count": 66,
   "id": "cefbf215-185b-423d-b154-731fb0fa6a39",
   "metadata": {},
   "outputs": [],
   "source": [
    "agency_indv_count = get_dummies_by_agency(agency_indv_count, \"transit_agency\")"
   ]
  },
  {
   "cell_type": "code",
   "execution_count": null,
   "id": "cbc9e090-d0d0-4632-9de7-4f225c61b6a4",
   "metadata": {},
   "outputs": [],
   "source": []
  },
  {
   "cell_type": "code",
   "execution_count": null,
   "id": "941dbff8-a45b-404c-826b-0f696f91c5a0",
   "metadata": {},
   "outputs": [],
   "source": []
  },
  {
   "cell_type": "code",
   "execution_count": 67,
   "id": "97bc34c4-636f-46ca-a257-95e4af242584",
   "metadata": {},
   "outputs": [],
   "source": [
    "##### Identifying trips with one agency"
   ]
  },
  {
   "cell_type": "code",
   "execution_count": 68,
   "id": "46856b31-47ac-408c-903e-19d8b04283f7",
   "metadata": {},
   "outputs": [],
   "source": [
    "cols_to_keep = [\"transit_submode\",\"unique_agencies\", \"n\",\"n_modes_taken\"]"
   ]
  },
  {
   "cell_type": "code",
   "execution_count": 69,
   "id": "2603e7e0-389a-49fb-93e9-5dc1d52c6012",
   "metadata": {},
   "outputs": [],
   "source": [
    "# chart = (alt.Chart(df)\n",
    "#              .mark_circle(size=100)\n",
    "#              .encode(\n",
    "#                  x=alt.X(\"n_modes_taken\", title=\"Number of Modes taken\"),\n",
    "#                  y=alt.Y(\"n\", title=\"Number of Trips\"),\n",
    "#                  color = alt.Color(\"agency_count\", title=\"Number of Unique Agencies\",\n",
    "#                                   scale=alt.Scale(\n",
    "#                                       range=cp.CALITP_DIVERGING_COLORS,\n",
    "#                                       domain=df[\"agency_count\"].unique().tolist())\n",
    "#             ),\n",
    "#             tooltip=cols_to_keep)\n",
    "#         .properties(title = (\"Transit Trips Agency Breakdown\"), width=500,\n",
    "#     height=300)\n",
    "#         )\n",
    "# chart                    "
   ]
  },
  {
   "cell_type": "code",
   "execution_count": 70,
   "id": "149ed63c-436c-45fe-a526-5b1bf9f3d6fb",
   "metadata": {},
   "outputs": [],
   "source": [
    "# (df>>filter(_.agency_count==1)>>arrange(-_.n))"
   ]
  },
  {
   "cell_type": "code",
   "execution_count": 71,
   "id": "7228c540-3033-4023-8145-91f8aee23eeb",
   "metadata": {},
   "outputs": [
    {
     "data": {
      "text/html": [
       "\n",
       "<style>\n",
       "  #altair-viz-54bd1f7c5f8748cbac14c25a14df80b5.vega-embed {\n",
       "    width: 100%;\n",
       "    display: flex;\n",
       "  }\n",
       "\n",
       "  #altair-viz-54bd1f7c5f8748cbac14c25a14df80b5.vega-embed details,\n",
       "  #altair-viz-54bd1f7c5f8748cbac14c25a14df80b5.vega-embed details summary {\n",
       "    position: relative;\n",
       "  }\n",
       "</style>\n",
       "<div id=\"altair-viz-54bd1f7c5f8748cbac14c25a14df80b5\"></div>\n",
       "<script type=\"text/javascript\">\n",
       "  var VEGA_DEBUG = (typeof VEGA_DEBUG == \"undefined\") ? {} : VEGA_DEBUG;\n",
       "  (function(spec, embedOpt){\n",
       "    let outputDiv = document.currentScript.previousElementSibling;\n",
       "    if (outputDiv.id !== \"altair-viz-54bd1f7c5f8748cbac14c25a14df80b5\") {\n",
       "      outputDiv = document.getElementById(\"altair-viz-54bd1f7c5f8748cbac14c25a14df80b5\");\n",
       "    }\n",
       "    const paths = {\n",
       "      \"vega\": \"https://cdn.jsdelivr.net/npm/vega@5?noext\",\n",
       "      \"vega-lib\": \"https://cdn.jsdelivr.net/npm/vega-lib?noext\",\n",
       "      \"vega-lite\": \"https://cdn.jsdelivr.net/npm/vega-lite@5.14.1?noext\",\n",
       "      \"vega-embed\": \"https://cdn.jsdelivr.net/npm/vega-embed@6?noext\",\n",
       "    };\n",
       "\n",
       "    function maybeLoadScript(lib, version) {\n",
       "      var key = `${lib.replace(\"-\", \"\")}_version`;\n",
       "      return (VEGA_DEBUG[key] == version) ?\n",
       "        Promise.resolve(paths[lib]) :\n",
       "        new Promise(function(resolve, reject) {\n",
       "          var s = document.createElement('script');\n",
       "          document.getElementsByTagName(\"head\")[0].appendChild(s);\n",
       "          s.async = true;\n",
       "          s.onload = () => {\n",
       "            VEGA_DEBUG[key] = version;\n",
       "            return resolve(paths[lib]);\n",
       "          };\n",
       "          s.onerror = () => reject(`Error loading script: ${paths[lib]}`);\n",
       "          s.src = paths[lib];\n",
       "        });\n",
       "    }\n",
       "\n",
       "    function showError(err) {\n",
       "      outputDiv.innerHTML = `<div class=\"error\" style=\"color:red;\">${err}</div>`;\n",
       "      throw err;\n",
       "    }\n",
       "\n",
       "    function displayChart(vegaEmbed) {\n",
       "      vegaEmbed(outputDiv, spec, embedOpt)\n",
       "        .catch(err => showError(`Javascript Error: ${err.message}<br>This usually means there's a typo in your chart specification. See the javascript console for the full traceback.`));\n",
       "    }\n",
       "\n",
       "    if(typeof define === \"function\" && define.amd) {\n",
       "      requirejs.config({paths});\n",
       "      require([\"vega-embed\"], displayChart, err => showError(`Error loading script: ${err.message}`));\n",
       "    } else {\n",
       "      maybeLoadScript(\"vega\", \"5\")\n",
       "        .then(() => maybeLoadScript(\"vega-lite\", \"5.14.1\"))\n",
       "        .then(() => maybeLoadScript(\"vega-embed\", \"6\"))\n",
       "        .catch(showError)\n",
       "        .then(() => displayChart(vegaEmbed));\n",
       "    }\n",
       "  })({\"config\": {\"view\": {\"continuousWidth\": 300, \"continuousHeight\": 300}}, \"data\": {\"name\": \"data-a895a14dba8cc38710f07dfb5ccab89f\"}, \"mark\": {\"type\": \"bar\"}, \"encoding\": {\"color\": {\"field\": \"n_modes_taken\", \"scale\": {\"range\": [\"#B9D6DF\", \"#8CBCCB\", \"#2EA8CE\", \"#136C97\", \"#0B405B\"]}, \"title\": \"Number of Trips\", \"type\": \"quantitative\"}, \"tooltip\": [{\"field\": \"transit_submode\", \"type\": \"nominal\"}, {\"field\": \"unique_agencies\", \"type\": \"nominal\"}, {\"field\": \"n\", \"type\": \"quantitative\"}, {\"field\": \"n_modes_taken\", \"type\": \"quantitative\"}], \"x\": {\"field\": \"unique_agencies\", \"title\": \"Agency\", \"type\": \"nominal\"}, \"y\": {\"field\": \"n\", \"title\": \"Number of Modes taken\", \"type\": \"quantitative\"}}, \"height\": 500, \"title\": \"Transit Trips With Only One Agency\", \"width\": 800, \"$schema\": \"https://vega.github.io/schema/vega-lite/v5.14.1.json\", \"datasets\": {\"data-a895a14dba8cc38710f07dfb5ccab89f\": [{\"primary_mode\": \"public_transit\", \"transit_submode\": \"bus, bus\", \"transit_agency\": \"Metro - Los Angeles, Metro - Los Angeles\", \"n\": 501, \"n_modes_taken\": 2, \"agency_count\": 1, \"AVTA\": 0, \"Beach Cities Transit-City of Redondo Beach\": 0, \"LADOT126\": 0, \"Metro - Los Angeles\": 2, \"LA Go Bus\": 0, \"LADOTDT\": 0, \"LADOTMVS\": 0, \"Big Blue Bus\": 0, \"GTrans\": 0, \"LADOTMVN\": 0, \"Long Beach Transit\": 0, \"Santa Clarita Transit\": 0, \"Foothill Transit\": 0, \"Culver CityBus\": 0, \"Metrolink Trains\": 0, \"Amtrak\": 0, \"unique_agencies\": \"Metro - Los Angeles\"}, {\"primary_mode\": \"public_transit\", \"transit_submode\": \"bus, bus, bus\", \"transit_agency\": \"Metro - Los Angeles, Metro - Los Angeles, Metro - Los Angeles\", \"n\": 375, \"n_modes_taken\": 3, \"agency_count\": 1, \"AVTA\": 0, \"Beach Cities Transit-City of Redondo Beach\": 0, \"LADOT126\": 0, \"Metro - Los Angeles\": 3, \"LA Go Bus\": 0, \"LADOTDT\": 0, \"LADOTMVS\": 0, \"Big Blue Bus\": 0, \"GTrans\": 0, \"LADOTMVN\": 0, \"Long Beach Transit\": 0, \"Santa Clarita Transit\": 0, \"Foothill Transit\": 0, \"Culver CityBus\": 0, \"Metrolink Trains\": 0, \"Amtrak\": 0, \"unique_agencies\": \"Metro - Los Angeles\"}, {\"primary_mode\": \"public_transit\", \"transit_submode\": \"bus\", \"transit_agency\": \"Metro - Los Angeles\", \"n\": 145, \"n_modes_taken\": 1, \"agency_count\": 1, \"AVTA\": 0, \"Beach Cities Transit-City of Redondo Beach\": 0, \"LADOT126\": 0, \"Metro - Los Angeles\": 1, \"LA Go Bus\": 0, \"LADOTDT\": 0, \"LADOTMVS\": 0, \"Big Blue Bus\": 0, \"GTrans\": 0, \"LADOTMVN\": 0, \"Long Beach Transit\": 0, \"Santa Clarita Transit\": 0, \"Foothill Transit\": 0, \"Culver CityBus\": 0, \"Metrolink Trains\": 0, \"Amtrak\": 0, \"unique_agencies\": \"Metro - Los Angeles\"}, {\"primary_mode\": \"public_transit\", \"transit_submode\": \"bus, light_rail, bus\", \"transit_agency\": \"Metro - Los Angeles, Metro - Los Angeles, Metro - Los Angeles\", \"n\": 93, \"n_modes_taken\": 3, \"agency_count\": 1, \"AVTA\": 0, \"Beach Cities Transit-City of Redondo Beach\": 0, \"LADOT126\": 0, \"Metro - Los Angeles\": 3, \"LA Go Bus\": 0, \"LADOTDT\": 0, \"LADOTMVS\": 0, \"Big Blue Bus\": 0, \"GTrans\": 0, \"LADOTMVN\": 0, \"Long Beach Transit\": 0, \"Santa Clarita Transit\": 0, \"Foothill Transit\": 0, \"Culver CityBus\": 0, \"Metrolink Trains\": 0, \"Amtrak\": 0, \"unique_agencies\": \"Metro - Los Angeles\"}, {\"primary_mode\": \"public_transit\", \"transit_submode\": \"light_rail, bus\", \"transit_agency\": \"Metro - Los Angeles, Metro - Los Angeles\", \"n\": 55, \"n_modes_taken\": 2, \"agency_count\": 1, \"AVTA\": 0, \"Beach Cities Transit-City of Redondo Beach\": 0, \"LADOT126\": 0, \"Metro - Los Angeles\": 2, \"LA Go Bus\": 0, \"LADOTDT\": 0, \"LADOTMVS\": 0, \"Big Blue Bus\": 0, \"GTrans\": 0, \"LADOTMVN\": 0, \"Long Beach Transit\": 0, \"Santa Clarita Transit\": 0, \"Foothill Transit\": 0, \"Culver CityBus\": 0, \"Metrolink Trains\": 0, \"Amtrak\": 0, \"unique_agencies\": \"Metro - Los Angeles\"}, {\"primary_mode\": \"public_transit\", \"transit_submode\": \"bus, bus, bus, bus\", \"transit_agency\": \"Metro - Los Angeles, Metro - Los Angeles, Metro - Los Angeles, Metro - Los Angeles\", \"n\": 33, \"n_modes_taken\": 4, \"agency_count\": 1, \"AVTA\": 0, \"Beach Cities Transit-City of Redondo Beach\": 0, \"LADOT126\": 0, \"Metro - Los Angeles\": 4, \"LA Go Bus\": 0, \"LADOTDT\": 0, \"LADOTMVS\": 0, \"Big Blue Bus\": 0, \"GTrans\": 0, \"LADOTMVN\": 0, \"Long Beach Transit\": 0, \"Santa Clarita Transit\": 0, \"Foothill Transit\": 0, \"Culver CityBus\": 0, \"Metrolink Trains\": 0, \"Amtrak\": 0, \"unique_agencies\": \"Metro - Los Angeles\"}, {\"primary_mode\": \"public_transit\", \"transit_submode\": \"light_rail, bus, bus\", \"transit_agency\": \"Metro - Los Angeles, Metro - Los Angeles, Metro - Los Angeles\", \"n\": 19, \"n_modes_taken\": 3, \"agency_count\": 1, \"AVTA\": 0, \"Beach Cities Transit-City of Redondo Beach\": 0, \"LADOT126\": 0, \"Metro - Los Angeles\": 3, \"LA Go Bus\": 0, \"LADOTDT\": 0, \"LADOTMVS\": 0, \"Big Blue Bus\": 0, \"GTrans\": 0, \"LADOTMVN\": 0, \"Long Beach Transit\": 0, \"Santa Clarita Transit\": 0, \"Foothill Transit\": 0, \"Culver CityBus\": 0, \"Metrolink Trains\": 0, \"Amtrak\": 0, \"unique_agencies\": \"Metro - Los Angeles\"}, {\"primary_mode\": \"public_transit\", \"transit_submode\": \"bus\", \"transit_agency\": \"LADOTMVN\", \"n\": 16, \"n_modes_taken\": 1, \"agency_count\": 1, \"AVTA\": 0, \"Beach Cities Transit-City of Redondo Beach\": 0, \"LADOT126\": 0, \"Metro - Los Angeles\": 0, \"LA Go Bus\": 0, \"LADOTDT\": 0, \"LADOTMVS\": 0, \"Big Blue Bus\": 0, \"GTrans\": 0, \"LADOTMVN\": 1, \"Long Beach Transit\": 0, \"Santa Clarita Transit\": 0, \"Foothill Transit\": 0, \"Culver CityBus\": 0, \"Metrolink Trains\": 0, \"Amtrak\": 0, \"unique_agencies\": \"LADOTMVN\"}, {\"primary_mode\": \"public_transit\", \"transit_submode\": \"light_rail, light_rail, bus\", \"transit_agency\": \"Metro - Los Angeles, Metro - Los Angeles, Metro - Los Angeles\", \"n\": 12, \"n_modes_taken\": 3, \"agency_count\": 1, \"AVTA\": 0, \"Beach Cities Transit-City of Redondo Beach\": 0, \"LADOT126\": 0, \"Metro - Los Angeles\": 3, \"LA Go Bus\": 0, \"LADOTDT\": 0, \"LADOTMVS\": 0, \"Big Blue Bus\": 0, \"GTrans\": 0, \"LADOTMVN\": 0, \"Long Beach Transit\": 0, \"Santa Clarita Transit\": 0, \"Foothill Transit\": 0, \"Culver CityBus\": 0, \"Metrolink Trains\": 0, \"Amtrak\": 0, \"unique_agencies\": \"Metro - Los Angeles\"}, {\"primary_mode\": \"public_transit\", \"transit_submode\": \"bus, light_rail, bus, bus\", \"transit_agency\": \"Metro - Los Angeles, Metro - Los Angeles, Metro - Los Angeles, Metro - Los Angeles\", \"n\": 10, \"n_modes_taken\": 4, \"agency_count\": 1, \"AVTA\": 0, \"Beach Cities Transit-City of Redondo Beach\": 0, \"LADOT126\": 0, \"Metro - Los Angeles\": 4, \"LA Go Bus\": 0, \"LADOTDT\": 0, \"LADOTMVS\": 0, \"Big Blue Bus\": 0, \"GTrans\": 0, \"LADOTMVN\": 0, \"Long Beach Transit\": 0, \"Santa Clarita Transit\": 0, \"Foothill Transit\": 0, \"Culver CityBus\": 0, \"Metrolink Trains\": 0, \"Amtrak\": 0, \"unique_agencies\": \"Metro - Los Angeles\"}, {\"primary_mode\": \"public_transit\", \"transit_submode\": \"bus, bus, subway\", \"transit_agency\": \"Metro - Los Angeles, Metro - Los Angeles, Metro - Los Angeles\", \"n\": 6, \"n_modes_taken\": 3, \"agency_count\": 1, \"AVTA\": 0, \"Beach Cities Transit-City of Redondo Beach\": 0, \"LADOT126\": 0, \"Metro - Los Angeles\": 3, \"LA Go Bus\": 0, \"LADOTDT\": 0, \"LADOTMVS\": 0, \"Big Blue Bus\": 0, \"GTrans\": 0, \"LADOTMVN\": 0, \"Long Beach Transit\": 0, \"Santa Clarita Transit\": 0, \"Foothill Transit\": 0, \"Culver CityBus\": 0, \"Metrolink Trains\": 0, \"Amtrak\": 0, \"unique_agencies\": \"Metro - Los Angeles\"}, {\"primary_mode\": \"public_transit\", \"transit_submode\": \"bus, bus\", \"transit_agency\": \"Santa Clarita Transit, Santa Clarita Transit\", \"n\": 3, \"n_modes_taken\": 2, \"agency_count\": 1, \"AVTA\": 0, \"Beach Cities Transit-City of Redondo Beach\": 0, \"LADOT126\": 0, \"Metro - Los Angeles\": 0, \"LA Go Bus\": 0, \"LADOTDT\": 0, \"LADOTMVS\": 0, \"Big Blue Bus\": 0, \"GTrans\": 0, \"LADOTMVN\": 0, \"Long Beach Transit\": 0, \"Santa Clarita Transit\": 2, \"Foothill Transit\": 0, \"Culver CityBus\": 0, \"Metrolink Trains\": 0, \"Amtrak\": 0, \"unique_agencies\": \"Santa Clarita Transit\"}, {\"primary_mode\": \"public_transit\", \"transit_submode\": \"bus\", \"transit_agency\": \"Santa Clarita Transit\", \"n\": 2, \"n_modes_taken\": 1, \"agency_count\": 1, \"AVTA\": 0, \"Beach Cities Transit-City of Redondo Beach\": 0, \"LADOT126\": 0, \"Metro - Los Angeles\": 0, \"LA Go Bus\": 0, \"LADOTDT\": 0, \"LADOTMVS\": 0, \"Big Blue Bus\": 0, \"GTrans\": 0, \"LADOTMVN\": 0, \"Long Beach Transit\": 0, \"Santa Clarita Transit\": 1, \"Foothill Transit\": 0, \"Culver CityBus\": 0, \"Metrolink Trains\": 0, \"Amtrak\": 0, \"unique_agencies\": \"Santa Clarita Transit\"}, {\"primary_mode\": \"public_transit\", \"transit_submode\": \"bus, bus, bus\", \"transit_agency\": \"Santa Clarita Transit, Santa Clarita Transit, Santa Clarita Transit\", \"n\": 2, \"n_modes_taken\": 3, \"agency_count\": 1, \"AVTA\": 0, \"Beach Cities Transit-City of Redondo Beach\": 0, \"LADOT126\": 0, \"Metro - Los Angeles\": 0, \"LA Go Bus\": 0, \"LADOTDT\": 0, \"LADOTMVS\": 0, \"Big Blue Bus\": 0, \"GTrans\": 0, \"LADOTMVN\": 0, \"Long Beach Transit\": 0, \"Santa Clarita Transit\": 3, \"Foothill Transit\": 0, \"Culver CityBus\": 0, \"Metrolink Trains\": 0, \"Amtrak\": 0, \"unique_agencies\": \"Santa Clarita Transit\"}, {\"primary_mode\": \"public_transit\", \"transit_submode\": \"bus, bus\", \"transit_agency\": \"LADOTMVN, LADOTMVN\", \"n\": 1, \"n_modes_taken\": 2, \"agency_count\": 1, \"AVTA\": 0, \"Beach Cities Transit-City of Redondo Beach\": 0, \"LADOT126\": 0, \"Metro - Los Angeles\": 0, \"LA Go Bus\": 0, \"LADOTDT\": 0, \"LADOTMVS\": 0, \"Big Blue Bus\": 0, \"GTrans\": 0, \"LADOTMVN\": 2, \"Long Beach Transit\": 0, \"Santa Clarita Transit\": 0, \"Foothill Transit\": 0, \"Culver CityBus\": 0, \"Metrolink Trains\": 0, \"Amtrak\": 0, \"unique_agencies\": \"LADOTMVN\"}, {\"primary_mode\": \"public_transit\", \"transit_submode\": \"bus, bus, light_rail\", \"transit_agency\": \"Metro - Los Angeles, Metro - Los Angeles, Metro - Los Angeles\", \"n\": 1, \"n_modes_taken\": 3, \"agency_count\": 1, \"AVTA\": 0, \"Beach Cities Transit-City of Redondo Beach\": 0, \"LADOT126\": 0, \"Metro - Los Angeles\": 3, \"LA Go Bus\": 0, \"LADOTDT\": 0, \"LADOTMVS\": 0, \"Big Blue Bus\": 0, \"GTrans\": 0, \"LADOTMVN\": 0, \"Long Beach Transit\": 0, \"Santa Clarita Transit\": 0, \"Foothill Transit\": 0, \"Culver CityBus\": 0, \"Metrolink Trains\": 0, \"Amtrak\": 0, \"unique_agencies\": \"Metro - Los Angeles\"}, {\"primary_mode\": \"public_transit\", \"transit_submode\": \"bus, bus, light_rail, bus\", \"transit_agency\": \"Metro - Los Angeles, Metro - Los Angeles, Metro - Los Angeles, Metro - Los Angeles\", \"n\": 1, \"n_modes_taken\": 4, \"agency_count\": 1, \"AVTA\": 0, \"Beach Cities Transit-City of Redondo Beach\": 0, \"LADOT126\": 0, \"Metro - Los Angeles\": 4, \"LA Go Bus\": 0, \"LADOTDT\": 0, \"LADOTMVS\": 0, \"Big Blue Bus\": 0, \"GTrans\": 0, \"LADOTMVN\": 0, \"Long Beach Transit\": 0, \"Santa Clarita Transit\": 0, \"Foothill Transit\": 0, \"Culver CityBus\": 0, \"Metrolink Trains\": 0, \"Amtrak\": 0, \"unique_agencies\": \"Metro - Los Angeles\"}, {\"primary_mode\": \"public_transit\", \"transit_submode\": \"light_rail, bus, bus, bus\", \"transit_agency\": \"Metro - Los Angeles, Metro - Los Angeles, Metro - Los Angeles, Metro - Los Angeles\", \"n\": 1, \"n_modes_taken\": 4, \"agency_count\": 1, \"AVTA\": 0, \"Beach Cities Transit-City of Redondo Beach\": 0, \"LADOT126\": 0, \"Metro - Los Angeles\": 4, \"LA Go Bus\": 0, \"LADOTDT\": 0, \"LADOTMVS\": 0, \"Big Blue Bus\": 0, \"GTrans\": 0, \"LADOTMVN\": 0, \"Long Beach Transit\": 0, \"Santa Clarita Transit\": 0, \"Foothill Transit\": 0, \"Culver CityBus\": 0, \"Metrolink Trains\": 0, \"Amtrak\": 0, \"unique_agencies\": \"Metro - Los Angeles\"}, {\"primary_mode\": \"public_transit\", \"transit_submode\": \"subway, bus\", \"transit_agency\": \"Metro - Los Angeles, Metro - Los Angeles\", \"n\": 1, \"n_modes_taken\": 2, \"agency_count\": 1, \"AVTA\": 0, \"Beach Cities Transit-City of Redondo Beach\": 0, \"LADOT126\": 0, \"Metro - Los Angeles\": 2, \"LA Go Bus\": 0, \"LADOTDT\": 0, \"LADOTMVS\": 0, \"Big Blue Bus\": 0, \"GTrans\": 0, \"LADOTMVN\": 0, \"Long Beach Transit\": 0, \"Santa Clarita Transit\": 0, \"Foothill Transit\": 0, \"Culver CityBus\": 0, \"Metrolink Trains\": 0, \"Amtrak\": 0, \"unique_agencies\": \"Metro - Los Angeles\"}, {\"primary_mode\": \"public_transit\", \"transit_submode\": \"subway, bus, bus\", \"transit_agency\": \"Metro - Los Angeles, Metro - Los Angeles, Metro - Los Angeles\", \"n\": 1, \"n_modes_taken\": 3, \"agency_count\": 1, \"AVTA\": 0, \"Beach Cities Transit-City of Redondo Beach\": 0, \"LADOT126\": 0, \"Metro - Los Angeles\": 3, \"LA Go Bus\": 0, \"LADOTDT\": 0, \"LADOTMVS\": 0, \"Big Blue Bus\": 0, \"GTrans\": 0, \"LADOTMVN\": 0, \"Long Beach Transit\": 0, \"Santa Clarita Transit\": 0, \"Foothill Transit\": 0, \"Culver CityBus\": 0, \"Metrolink Trains\": 0, \"Amtrak\": 0, \"unique_agencies\": \"Metro - Los Angeles\"}]}}, {\"mode\": \"vega-lite\"});\n",
       "</script>"
      ],
      "text/plain": [
       "alt.Chart(...)"
      ]
     },
     "execution_count": 71,
     "metadata": {},
     "output_type": "execute_result"
    }
   ],
   "source": [
    "chart = (alt.Chart((df>>filter(_.agency_count==1)))\n",
    "             .mark_bar()\n",
    "             .encode(\n",
    "                 x=alt.X(\"unique_agencies\", title=\"Agency\"),\n",
    "                 y=alt.Y(\"n\", title=\"Number of Modes taken\"),\n",
    "                 color = alt.Color(\"n_modes_taken\", title=\"Number of Trips\",\n",
    "                                  scale=alt.Scale(\n",
    "                                      range=cp.CALITP_SEQUENTIAL_COLORS,)),\n",
    "            tooltip=cols_to_keep)\n",
    "        .properties(title = (\"Transit Trips With Only One Agency\"), width=800,\n",
    "    height=500)\n",
    "        )\n",
    "chart           "
   ]
  },
  {
   "cell_type": "code",
   "execution_count": 72,
   "id": "60df338f-801f-49a1-a26f-0be5e03bddf3",
   "metadata": {},
   "outputs": [
    {
     "data": {
      "text/html": [
       "<h4><strong>Most Common Agency Combination</strong></h4>"
      ],
      "text/plain": [
       "<IPython.core.display.HTML object>"
      ]
     },
     "metadata": {},
     "output_type": "display_data"
    },
    {
     "data": {
      "text/html": [
       "<div>\n",
       "<style scoped>\n",
       "    .dataframe tbody tr th:only-of-type {\n",
       "        vertical-align: middle;\n",
       "    }\n",
       "\n",
       "    .dataframe tbody tr th {\n",
       "        vertical-align: top;\n",
       "    }\n",
       "\n",
       "    .dataframe thead th {\n",
       "        text-align: right;\n",
       "    }\n",
       "</style>\n",
       "<table border=\"1\" class=\"dataframe\">\n",
       "  <thead>\n",
       "    <tr style=\"text-align: right;\">\n",
       "      <th></th>\n",
       "      <th>transit_agency</th>\n",
       "    </tr>\n",
       "  </thead>\n",
       "  <tbody>\n",
       "    <tr>\n",
       "      <th>15</th>\n",
       "      <td>Metro - Los Angeles, Metro - Los Angeles</td>\n",
       "    </tr>\n",
       "    <tr>\n",
       "      <th>57</th>\n",
       "      <td>Metro - Los Angeles, Metro - Los Angeles, Metro - Los Angeles</td>\n",
       "    </tr>\n",
       "    <tr>\n",
       "      <th>27</th>\n",
       "      <td>Big Blue Bus, Metro - Los Angeles, Metro - Los Angeles</td>\n",
       "    </tr>\n",
       "    <tr>\n",
       "      <th>5</th>\n",
       "      <td>Big Blue Bus, Metro - Los Angeles</td>\n",
       "    </tr>\n",
       "    <tr>\n",
       "      <th>1</th>\n",
       "      <td>Metro - Los Angeles</td>\n",
       "    </tr>\n",
       "  </tbody>\n",
       "</table>\n",
       "</div>"
      ],
      "text/plain": [
       "                                                   transit_agency\n",
       "15                       Metro - Los Angeles, Metro - Los Angeles\n",
       "57  Metro - Los Angeles, Metro - Los Angeles, Metro - Los Angeles\n",
       "27         Big Blue Bus, Metro - Los Angeles, Metro - Los Angeles\n",
       "5                               Big Blue Bus, Metro - Los Angeles\n",
       "1                                             Metro - Los Angeles"
      ]
     },
     "execution_count": 72,
     "metadata": {},
     "output_type": "execute_result"
    }
   ],
   "source": [
    "display(HTML(\"<h4><strong>Most Common Agency Combination</strong></h4>\")) \n",
    "\n",
    "(df>>arrange(-_.n)>>select(_.transit_agency)).head(5)"
   ]
  },
  {
   "cell_type": "code",
   "execution_count": null,
   "id": "786394ef-be26-4e0d-94e7-35386d6d67c0",
   "metadata": {},
   "outputs": [],
   "source": []
  },
  {
   "cell_type": "code",
   "execution_count": null,
   "id": "fd43ab95-0391-407b-b6b0-185034ba9528",
   "metadata": {},
   "outputs": [],
   "source": []
  },
  {
   "cell_type": "code",
   "execution_count": 102,
   "id": "8af03d60-4537-44d3-b82f-d857625e47c3",
   "metadata": {},
   "outputs": [],
   "source": [
    "columns_to_keep = [\"AVTA\",\n",
    "                   \"Beach Cities Transit-City of Redondo Beach\",\n",
    "                   \"LADOT126\",\n",
    "                   \"Metro - Los Angeles\",\n",
    "                   \"LA Go Bus\",\n",
    "                   \"LADOTDT\",\n",
    "                   \"Amtrak\",\n",
    "                   \"Big Blue Bus\",\n",
    "                   \"GTrans\",\n",
    "                   \"LADOTMVN\",\n",
    "                   \"Long Beach Transit\",\n",
    "                   \"Santa Clarita Transit\",\n",
    "                   \"Foothill Transit\",\n",
    "                   \"Culver CityBus\",\n",
    "                   \"Metrolink Trains\",\n",
    "                   \"LADOTMVS\"\n",
    "                  ]"
   ]
  },
  {
   "cell_type": "code",
   "execution_count": 103,
   "id": "6951b590-cef8-44bd-b27d-0b18893609c5",
   "metadata": {},
   "outputs": [],
   "source": [
    "# agency_indv_count.sample()"
   ]
  },
  {
   "cell_type": "code",
   "execution_count": 104,
   "id": "cca56d58-5e3f-430c-adde-15ca665d46f8",
   "metadata": {},
   "outputs": [],
   "source": [
    "df_agencies = agency_indv_count.loc[:, columns_to_keep]"
   ]
  },
  {
   "cell_type": "code",
   "execution_count": 105,
   "id": "814dde3a-d303-4044-9df1-464e408bf460",
   "metadata": {},
   "outputs": [],
   "source": [
    "df_agencies = pd.DataFrame(df_agencies).transpose().reset_index().rename(columns={'index':'agency'})"
   ]
  },
  {
   "cell_type": "code",
   "execution_count": 106,
   "id": "84174911-2243-430c-ab73-1fecb2552094",
   "metadata": {},
   "outputs": [],
   "source": [
    "# df_agencies"
   ]
  },
  {
   "cell_type": "code",
   "execution_count": 107,
   "id": "202923d2-b869-4a72-8a02-ce229a65d815",
   "metadata": {},
   "outputs": [
    {
     "name": "stderr",
     "output_type": "stream",
     "text": [
      "/tmp/ipykernel_798/2517619377.py:1: FutureWarning: Dropping of nuisance columns in DataFrame reductions (with 'numeric_only=None') is deprecated; in a future version this will raise TypeError.  Select only valid columns before calling the reduction.\n",
      "  df_agencies['n_trips'] = df_agencies[list(df_agencies.columns)].sum(axis=1)\n"
     ]
    }
   ],
   "source": [
    "df_agencies['n_trips'] = df_agencies[list(df_agencies.columns)].sum(axis=1)"
   ]
  },
  {
   "cell_type": "code",
   "execution_count": 108,
   "id": "2b31eb23-e1e6-43c6-8b0e-ccb3802cd09d",
   "metadata": {},
   "outputs": [],
   "source": [
    "df_agencies = df_agencies>>select(_.agency, _.n_trips)"
   ]
  },
  {
   "cell_type": "code",
   "execution_count": 109,
   "id": "f98c76b9-b83f-42c3-aa12-702ade72ac38",
   "metadata": {},
   "outputs": [],
   "source": [
    "tooltip_cols = [\"agency\", \"n_trips\"]"
   ]
  },
  {
   "cell_type": "code",
   "execution_count": 110,
   "id": "f1267faf-e28c-4208-ae79-43b31f67f705",
   "metadata": {},
   "outputs": [],
   "source": [
    "# df_agencies"
   ]
  },
  {
   "cell_type": "code",
   "execution_count": 113,
   "id": "bf160b81-1bc2-4374-9529-6400252d5e4f",
   "metadata": {},
   "outputs": [
    {
     "data": {
      "text/html": [
       "\n",
       "<style>\n",
       "  #altair-viz-869f901a4e354a7b938f7fa0624ac3e4.vega-embed {\n",
       "    width: 100%;\n",
       "    display: flex;\n",
       "  }\n",
       "\n",
       "  #altair-viz-869f901a4e354a7b938f7fa0624ac3e4.vega-embed details,\n",
       "  #altair-viz-869f901a4e354a7b938f7fa0624ac3e4.vega-embed details summary {\n",
       "    position: relative;\n",
       "  }\n",
       "</style>\n",
       "<div id=\"altair-viz-869f901a4e354a7b938f7fa0624ac3e4\"></div>\n",
       "<script type=\"text/javascript\">\n",
       "  var VEGA_DEBUG = (typeof VEGA_DEBUG == \"undefined\") ? {} : VEGA_DEBUG;\n",
       "  (function(spec, embedOpt){\n",
       "    let outputDiv = document.currentScript.previousElementSibling;\n",
       "    if (outputDiv.id !== \"altair-viz-869f901a4e354a7b938f7fa0624ac3e4\") {\n",
       "      outputDiv = document.getElementById(\"altair-viz-869f901a4e354a7b938f7fa0624ac3e4\");\n",
       "    }\n",
       "    const paths = {\n",
       "      \"vega\": \"https://cdn.jsdelivr.net/npm/vega@5?noext\",\n",
       "      \"vega-lib\": \"https://cdn.jsdelivr.net/npm/vega-lib?noext\",\n",
       "      \"vega-lite\": \"https://cdn.jsdelivr.net/npm/vega-lite@5.14.1?noext\",\n",
       "      \"vega-embed\": \"https://cdn.jsdelivr.net/npm/vega-embed@6?noext\",\n",
       "    };\n",
       "\n",
       "    function maybeLoadScript(lib, version) {\n",
       "      var key = `${lib.replace(\"-\", \"\")}_version`;\n",
       "      return (VEGA_DEBUG[key] == version) ?\n",
       "        Promise.resolve(paths[lib]) :\n",
       "        new Promise(function(resolve, reject) {\n",
       "          var s = document.createElement('script');\n",
       "          document.getElementsByTagName(\"head\")[0].appendChild(s);\n",
       "          s.async = true;\n",
       "          s.onload = () => {\n",
       "            VEGA_DEBUG[key] = version;\n",
       "            return resolve(paths[lib]);\n",
       "          };\n",
       "          s.onerror = () => reject(`Error loading script: ${paths[lib]}`);\n",
       "          s.src = paths[lib];\n",
       "        });\n",
       "    }\n",
       "\n",
       "    function showError(err) {\n",
       "      outputDiv.innerHTML = `<div class=\"error\" style=\"color:red;\">${err}</div>`;\n",
       "      throw err;\n",
       "    }\n",
       "\n",
       "    function displayChart(vegaEmbed) {\n",
       "      vegaEmbed(outputDiv, spec, embedOpt)\n",
       "        .catch(err => showError(`Javascript Error: ${err.message}<br>This usually means there's a typo in your chart specification. See the javascript console for the full traceback.`));\n",
       "    }\n",
       "\n",
       "    if(typeof define === \"function\" && define.amd) {\n",
       "      requirejs.config({paths});\n",
       "      require([\"vega-embed\"], displayChart, err => showError(`Error loading script: ${err.message}`));\n",
       "    } else {\n",
       "      maybeLoadScript(\"vega\", \"5\")\n",
       "        .then(() => maybeLoadScript(\"vega-lite\", \"5.14.1\"))\n",
       "        .then(() => maybeLoadScript(\"vega-embed\", \"6\"))\n",
       "        .catch(showError)\n",
       "        .then(() => displayChart(vegaEmbed));\n",
       "    }\n",
       "  })({\"config\": {\"view\": {\"continuousWidth\": 300, \"continuousHeight\": 300}}, \"data\": {\"name\": \"data-7e733dc305568106654c63ab2dcb0c98\"}, \"mark\": {\"type\": \"bar\"}, \"encoding\": {\"color\": {\"field\": \"n_trips\", \"scale\": {\"range\": [\"#B9D6DF\", \"#8CBCCB\", \"#2EA8CE\", \"#136C97\", \"#0B405B\"]}, \"type\": \"quantitative\"}, \"tooltip\": [{\"field\": \"agency\", \"type\": \"nominal\"}, {\"field\": \"n_trips\", \"type\": \"quantitative\"}], \"x\": {\"field\": \"agency\", \"title\": \"Agency Name\", \"type\": \"nominal\"}, \"y\": {\"field\": \"n_trips\", \"title\": \"Number of boardings reported for trips (One person taking two LA Metro trips will count as 2)\", \"type\": \"quantitative\"}}, \"height\": 500, \"title\": \"Number of Times an Agency was used for Trip Taking\", \"width\": 800, \"$schema\": \"https://vega.github.io/schema/vega-lite/v5.14.1.json\", \"datasets\": {\"data-7e733dc305568106654c63ab2dcb0c98\": [{\"agency\": \"AVTA\", \"n_trips\": 4}, {\"agency\": \"Beach Cities Transit-City of Redondo Beach\", \"n_trips\": 2}, {\"agency\": \"LADOT126\", \"n_trips\": 8}, {\"agency\": \"Metro - Los Angeles\", \"n_trips\": 4372}, {\"agency\": \"LA Go Bus\", \"n_trips\": 2}, {\"agency\": \"LADOTDT\", \"n_trips\": 15}, {\"agency\": \"Amtrak\", \"n_trips\": 10}, {\"agency\": \"Big Blue Bus\", \"n_trips\": 587}, {\"agency\": \"GTrans\", \"n_trips\": 1}, {\"agency\": \"LADOTMVN\", \"n_trips\": 370}, {\"agency\": \"Long Beach Transit\", \"n_trips\": 6}, {\"agency\": \"Santa Clarita Transit\", \"n_trips\": 51}, {\"agency\": \"Foothill Transit\", \"n_trips\": 1}, {\"agency\": \"Culver CityBus\", \"n_trips\": 89}, {\"agency\": \"Metrolink Trains\", \"n_trips\": 1}, {\"agency\": \"LADOTMVS\", \"n_trips\": 4}]}}, {\"mode\": \"vega-lite\"});\n",
       "</script>"
      ],
      "text/plain": [
       "alt.Chart(...)"
      ]
     },
     "execution_count": 113,
     "metadata": {},
     "output_type": "execute_result"
    }
   ],
   "source": [
    "chart = (alt.Chart(df_agencies)\n",
    "        .mark_bar()\n",
    "        .encode(\n",
    "            x=alt.X(\"agency\", title = \"Agency Name\"),\n",
    "            y=alt.Y(\"n_trips\", title= \"Number of boardings reported for trips (One person taking two LA Metro trips will count as 2)\"),\n",
    "            color=alt.Color(\"n_trips\", scale=alt.Scale(range = cp.CALITP_SEQUENTIAL_COLORS)),\n",
    "            tooltip = tooltip_cols)\n",
    "      .properties(title = \"Number of Times an Agency was used for Trip Taking\",\n",
    "    width=800,\n",
    "    height=500)\n",
    "        )\n",
    "chart "
   ]
  },
  {
   "cell_type": "code",
   "execution_count": null,
   "id": "a59f170f-b2e0-41b3-ae7a-1ae4eca12596",
   "metadata": {},
   "outputs": [],
   "source": []
  },
  {
   "cell_type": "code",
   "execution_count": null,
   "id": "16b45917-adc3-44d0-8d76-15ccd4083d26",
   "metadata": {},
   "outputs": [
    {
     "data": {
      "text/html": [
       "<h4><strong>Trips by Resident Type</strong></h4>"
      ],
      "text/plain": [
       "<IPython.core.display.HTML object>"
      ]
     },
     "metadata": {},
     "output_type": "display_data"
    }
   ],
   "source": [
    "display(HTML(\"<h4><strong>Trips by Resident Type</strong></h4>\")) \n"
   ]
  },
  {
   "cell_type": "code",
   "execution_count": null,
   "id": "5163926e-82bd-4c25-9486-45229d09a0d1",
   "metadata": {},
   "outputs": [],
   "source": [
    "trip_by_res_type = (r_trips\n",
    " >>group_by(_.primary_mode,_.trip_taker_resident_type)\n",
    " >>summarize(number_trips = _.activity_id.nunique())\n",
    " >>arrange(_.primary_mode))"
   ]
  },
  {
   "cell_type": "code",
   "execution_count": null,
   "id": "636e7771-0ba7-42e9-af1d-e3e998ff8599",
   "metadata": {},
   "outputs": [
    {
     "data": {
      "text/html": [
       "<div>\n",
       "<style scoped>\n",
       "    .dataframe tbody tr th:only-of-type {\n",
       "        vertical-align: middle;\n",
       "    }\n",
       "\n",
       "    .dataframe tbody tr th {\n",
       "        vertical-align: top;\n",
       "    }\n",
       "\n",
       "    .dataframe thead th {\n",
       "        text-align: right;\n",
       "    }\n",
       "</style>\n",
       "<table border=\"1\" class=\"dataframe\">\n",
       "  <thead>\n",
       "    <tr style=\"text-align: right;\">\n",
       "      <th></th>\n",
       "      <th>primary_mode</th>\n",
       "      <th>trip_taker_resident_type</th>\n",
       "      <th>number_trips</th>\n",
       "    </tr>\n",
       "  </thead>\n",
       "  <tbody>\n",
       "    <tr>\n",
       "      <th>0</th>\n",
       "      <td>auto_passenger</td>\n",
       "      <td>core</td>\n",
       "      <td>116685</td>\n",
       "    </tr>\n",
       "    <tr>\n",
       "      <th>1</th>\n",
       "      <td>auto_passenger</td>\n",
       "      <td>donut</td>\n",
       "      <td>2</td>\n",
       "    </tr>\n",
       "    <tr>\n",
       "      <th>2</th>\n",
       "      <td>auto_passenger</td>\n",
       "      <td>visitor</td>\n",
       "      <td>28818</td>\n",
       "    </tr>\n",
       "    <tr>\n",
       "      <th>3</th>\n",
       "      <td>commercial</td>\n",
       "      <td>NaN</td>\n",
       "      <td>10154</td>\n",
       "    </tr>\n",
       "    <tr>\n",
       "      <th>4</th>\n",
       "      <td>on_demand_auto</td>\n",
       "      <td>core</td>\n",
       "      <td>3191</td>\n",
       "    </tr>\n",
       "    <tr>\n",
       "      <th>5</th>\n",
       "      <td>on_demand_auto</td>\n",
       "      <td>visitor</td>\n",
       "      <td>595</td>\n",
       "    </tr>\n",
       "    <tr>\n",
       "      <th>6</th>\n",
       "      <td>private_auto</td>\n",
       "      <td>core</td>\n",
       "      <td>294704</td>\n",
       "    </tr>\n",
       "    <tr>\n",
       "      <th>7</th>\n",
       "      <td>private_auto</td>\n",
       "      <td>donut</td>\n",
       "      <td>1</td>\n",
       "    </tr>\n",
       "    <tr>\n",
       "      <th>8</th>\n",
       "      <td>private_auto</td>\n",
       "      <td>visitor</td>\n",
       "      <td>10394</td>\n",
       "    </tr>\n",
       "    <tr>\n",
       "      <th>9</th>\n",
       "      <td>private_auto</td>\n",
       "      <td>NaN</td>\n",
       "      <td>1</td>\n",
       "    </tr>\n",
       "    <tr>\n",
       "      <th>10</th>\n",
       "      <td>public_transit</td>\n",
       "      <td>core</td>\n",
       "      <td>2155</td>\n",
       "    </tr>\n",
       "    <tr>\n",
       "      <th>11</th>\n",
       "      <td>public_transit</td>\n",
       "      <td>visitor</td>\n",
       "      <td>56</td>\n",
       "    </tr>\n",
       "  </tbody>\n",
       "</table>\n",
       "</div>"
      ],
      "text/plain": [
       "      primary_mode trip_taker_resident_type  number_trips\n",
       "0   auto_passenger                     core        116685\n",
       "1   auto_passenger                    donut             2\n",
       "2   auto_passenger                  visitor         28818\n",
       "3       commercial                      NaN         10154\n",
       "4   on_demand_auto                     core          3191\n",
       "5   on_demand_auto                  visitor           595\n",
       "6     private_auto                     core        294704\n",
       "7     private_auto                    donut             1\n",
       "8     private_auto                  visitor         10394\n",
       "9     private_auto                      NaN             1\n",
       "10  public_transit                     core          2155\n",
       "11  public_transit                  visitor            56"
      ]
     },
     "execution_count": 94,
     "metadata": {},
     "output_type": "execute_result"
    }
   ],
   "source": [
    "trip_by_res_type"
   ]
  },
  {
   "cell_type": "code",
   "execution_count": null,
   "id": "90c5d683-91c5-4663-accd-4e45027a3e49",
   "metadata": {},
   "outputs": [
    {
     "data": {
      "text/html": [
       "\n",
       "<style>\n",
       "  #altair-viz-5159c7bd7e154b12ab3991ccdcb2b9aa.vega-embed {\n",
       "    width: 100%;\n",
       "    display: flex;\n",
       "  }\n",
       "\n",
       "  #altair-viz-5159c7bd7e154b12ab3991ccdcb2b9aa.vega-embed details,\n",
       "  #altair-viz-5159c7bd7e154b12ab3991ccdcb2b9aa.vega-embed details summary {\n",
       "    position: relative;\n",
       "  }\n",
       "</style>\n",
       "<div id=\"altair-viz-5159c7bd7e154b12ab3991ccdcb2b9aa\"></div>\n",
       "<script type=\"text/javascript\">\n",
       "  var VEGA_DEBUG = (typeof VEGA_DEBUG == \"undefined\") ? {} : VEGA_DEBUG;\n",
       "  (function(spec, embedOpt){\n",
       "    let outputDiv = document.currentScript.previousElementSibling;\n",
       "    if (outputDiv.id !== \"altair-viz-5159c7bd7e154b12ab3991ccdcb2b9aa\") {\n",
       "      outputDiv = document.getElementById(\"altair-viz-5159c7bd7e154b12ab3991ccdcb2b9aa\");\n",
       "    }\n",
       "    const paths = {\n",
       "      \"vega\": \"https://cdn.jsdelivr.net/npm/vega@5?noext\",\n",
       "      \"vega-lib\": \"https://cdn.jsdelivr.net/npm/vega-lib?noext\",\n",
       "      \"vega-lite\": \"https://cdn.jsdelivr.net/npm/vega-lite@5.14.1?noext\",\n",
       "      \"vega-embed\": \"https://cdn.jsdelivr.net/npm/vega-embed@6?noext\",\n",
       "    };\n",
       "\n",
       "    function maybeLoadScript(lib, version) {\n",
       "      var key = `${lib.replace(\"-\", \"\")}_version`;\n",
       "      return (VEGA_DEBUG[key] == version) ?\n",
       "        Promise.resolve(paths[lib]) :\n",
       "        new Promise(function(resolve, reject) {\n",
       "          var s = document.createElement('script');\n",
       "          document.getElementsByTagName(\"head\")[0].appendChild(s);\n",
       "          s.async = true;\n",
       "          s.onload = () => {\n",
       "            VEGA_DEBUG[key] = version;\n",
       "            return resolve(paths[lib]);\n",
       "          };\n",
       "          s.onerror = () => reject(`Error loading script: ${paths[lib]}`);\n",
       "          s.src = paths[lib];\n",
       "        });\n",
       "    }\n",
       "\n",
       "    function showError(err) {\n",
       "      outputDiv.innerHTML = `<div class=\"error\" style=\"color:red;\">${err}</div>`;\n",
       "      throw err;\n",
       "    }\n",
       "\n",
       "    function displayChart(vegaEmbed) {\n",
       "      vegaEmbed(outputDiv, spec, embedOpt)\n",
       "        .catch(err => showError(`Javascript Error: ${err.message}<br>This usually means there's a typo in your chart specification. See the javascript console for the full traceback.`));\n",
       "    }\n",
       "\n",
       "    if(typeof define === \"function\" && define.amd) {\n",
       "      requirejs.config({paths});\n",
       "      require([\"vega-embed\"], displayChart, err => showError(`Error loading script: ${err.message}`));\n",
       "    } else {\n",
       "      maybeLoadScript(\"vega\", \"5\")\n",
       "        .then(() => maybeLoadScript(\"vega-lite\", \"5.14.1\"))\n",
       "        .then(() => maybeLoadScript(\"vega-embed\", \"6\"))\n",
       "        .catch(showError)\n",
       "        .then(() => displayChart(vegaEmbed));\n",
       "    }\n",
       "  })({\"config\": {\"view\": {\"continuousWidth\": 300, \"continuousHeight\": 300}}, \"data\": {\"name\": \"data-98adfad59e1a2bdb6885e749a6848056\"}, \"mark\": {\"type\": \"bar\"}, \"encoding\": {\"color\": {\"field\": \"trip_taker_resident_type\", \"scale\": {\"domain\": [\"core\", \"donut\", \"visitor\", NaN], \"range\": [\"#E16B26\", \"#EB9F3C\", \"#f6e7e1\", \"#8CBCCB\", \"#2EA8CE\", \"#136C97\"]}, \"type\": \"nominal\"}, \"tooltip\": [{\"field\": \"primary_mode\", \"type\": \"nominal\"}, {\"field\": \"trip_taker_resident_type\", \"type\": \"nominal\"}, {\"field\": \"number_trips\", \"type\": \"quantitative\"}], \"x\": {\"field\": \"primary_mode\", \"title\": \"Mode\", \"type\": \"nominal\"}, \"y\": {\"field\": \"number_trips\", \"title\": \"Number of Trips\", \"type\": \"quantitative\"}}, \"height\": 500, \"title\": \"Trips by Resident Type\", \"width\": 800, \"$schema\": \"https://vega.github.io/schema/vega-lite/v5.14.1.json\", \"datasets\": {\"data-98adfad59e1a2bdb6885e749a6848056\": [{\"primary_mode\": \"auto_passenger\", \"trip_taker_resident_type\": \"core\", \"number_trips\": 116685}, {\"primary_mode\": \"auto_passenger\", \"trip_taker_resident_type\": \"donut\", \"number_trips\": 2}, {\"primary_mode\": \"auto_passenger\", \"trip_taker_resident_type\": \"visitor\", \"number_trips\": 28818}, {\"primary_mode\": \"commercial\", \"trip_taker_resident_type\": null, \"number_trips\": 10154}, {\"primary_mode\": \"on_demand_auto\", \"trip_taker_resident_type\": \"core\", \"number_trips\": 3191}, {\"primary_mode\": \"on_demand_auto\", \"trip_taker_resident_type\": \"visitor\", \"number_trips\": 595}, {\"primary_mode\": \"private_auto\", \"trip_taker_resident_type\": \"core\", \"number_trips\": 294704}, {\"primary_mode\": \"private_auto\", \"trip_taker_resident_type\": \"donut\", \"number_trips\": 1}, {\"primary_mode\": \"private_auto\", \"trip_taker_resident_type\": \"visitor\", \"number_trips\": 10394}, {\"primary_mode\": \"private_auto\", \"trip_taker_resident_type\": null, \"number_trips\": 1}, {\"primary_mode\": \"public_transit\", \"trip_taker_resident_type\": \"core\", \"number_trips\": 2155}, {\"primary_mode\": \"public_transit\", \"trip_taker_resident_type\": \"visitor\", \"number_trips\": 56}]}}, {\"mode\": \"vega-lite\"});\n",
       "</script>"
      ],
      "text/plain": [
       "alt.Chart(...)"
      ]
     },
     "execution_count": 95,
     "metadata": {},
     "output_type": "execute_result"
    }
   ],
   "source": [
    "chart = (\n",
    "        alt.Chart(trip_by_res_type)\n",
    "        .mark_bar()\n",
    "        .encode(\n",
    "            x=alt.X(\"primary_mode\", title = \"Mode\"),\n",
    "            y=alt.Y(\"number_trips\", title = \"Number of Trips\"),\n",
    "            color=alt.Color(\"trip_taker_resident_type\", scale=alt.Scale(range = cp.CALITP_DIVERGING_COLORS,\n",
    "                                                                         domain=trip_by_res_type[\"trip_taker_resident_type\"].unique().tolist())\n",
    "            ),\n",
    "            tooltip=trip_by_res_type.columns.tolist())\n",
    "      .properties(title = \"Trips by Resident Type\",\n",
    "    width=800,\n",
    "    height=500)\n",
    "        )\n",
    "chart "
   ]
  },
  {
   "cell_type": "code",
   "execution_count": null,
   "id": "f7b51fbb-8b87-4863-bcd9-50ed5047d7d6",
   "metadata": {},
   "outputs": [],
   "source": []
  },
  {
   "cell_type": "code",
   "execution_count": null,
   "id": "878c5c8e-18c3-456a-b641-67ad010f5101",
   "metadata": {},
   "outputs": [
    {
     "data": {
      "text/html": [
       "<h4><strong>Unique Household Ids</strong></h4>"
      ],
      "text/plain": [
       "<IPython.core.display.HTML object>"
      ]
     },
     "metadata": {},
     "output_type": "display_data"
    }
   ],
   "source": [
    "display(HTML(\"<h4><strong>Unique Household Ids</strong></h4>\")) "
   ]
  },
  {
   "cell_type": "code",
   "execution_count": null,
   "id": "2a31bf27-ccc4-4ce3-8b6a-31dbd14caaf2",
   "metadata": {},
   "outputs": [
    {
     "data": {
      "text/html": [
       "<div>\n",
       "<style scoped>\n",
       "    .dataframe tbody tr th:only-of-type {\n",
       "        vertical-align: middle;\n",
       "    }\n",
       "\n",
       "    .dataframe tbody tr th {\n",
       "        vertical-align: top;\n",
       "    }\n",
       "\n",
       "    .dataframe thead th {\n",
       "        text-align: right;\n",
       "    }\n",
       "</style>\n",
       "<table border=\"1\" class=\"dataframe\">\n",
       "  <thead>\n",
       "    <tr style=\"text-align: right;\">\n",
       "      <th></th>\n",
       "      <th>trip_taker_household_id</th>\n",
       "      <th>n</th>\n",
       "    </tr>\n",
       "  </thead>\n",
       "  <tbody>\n",
       "    <tr>\n",
       "      <th>160790</th>\n",
       "      <td></td>\n",
       "      <td>33634</td>\n",
       "    </tr>\n",
       "    <tr>\n",
       "      <th>267303</th>\n",
       "      <td>NaN</td>\n",
       "      <td>16384</td>\n",
       "    </tr>\n",
       "    <tr>\n",
       "      <th>79436</th>\n",
       "      <td>9146817053558612433</td>\n",
       "      <td>16</td>\n",
       "    </tr>\n",
       "    <tr>\n",
       "      <th>23626</th>\n",
       "      <td>2709972826117271852</td>\n",
       "      <td>15</td>\n",
       "    </tr>\n",
       "    <tr>\n",
       "      <th>30303</th>\n",
       "      <td>3488167635549658463</td>\n",
       "      <td>14</td>\n",
       "    </tr>\n",
       "    <tr>\n",
       "      <th>...</th>\n",
       "      <td>...</td>\n",
       "      <td>...</td>\n",
       "    </tr>\n",
       "    <tr>\n",
       "      <th>267296</th>\n",
       "      <td>9999130854496671765</td>\n",
       "      <td>1</td>\n",
       "    </tr>\n",
       "    <tr>\n",
       "      <th>267299</th>\n",
       "      <td>999930961444594419</td>\n",
       "      <td>1</td>\n",
       "    </tr>\n",
       "    <tr>\n",
       "      <th>267300</th>\n",
       "      <td>9999534358623422158</td>\n",
       "      <td>1</td>\n",
       "    </tr>\n",
       "    <tr>\n",
       "      <th>267301</th>\n",
       "      <td>9999886348099258237</td>\n",
       "      <td>1</td>\n",
       "    </tr>\n",
       "    <tr>\n",
       "      <th>267302</th>\n",
       "      <td>9999902755724147714</td>\n",
       "      <td>1</td>\n",
       "    </tr>\n",
       "  </tbody>\n",
       "</table>\n",
       "<p>267304 rows × 2 columns</p>\n",
       "</div>"
      ],
      "text/plain": [
       "       trip_taker_household_id      n\n",
       "160790                          33634\n",
       "267303                     NaN  16384\n",
       "79436      9146817053558612433     16\n",
       "23626      2709972826117271852     15\n",
       "30303      3488167635549658463     14\n",
       "...                        ...    ...\n",
       "267296     9999130854496671765      1\n",
       "267299      999930961444594419      1\n",
       "267300     9999534358623422158      1\n",
       "267301     9999886348099258237      1\n",
       "267302     9999902755724147714      1\n",
       "\n",
       "[267304 rows x 2 columns]"
      ]
     },
     "execution_count": 97,
     "metadata": {},
     "output_type": "execute_result"
    }
   ],
   "source": [
    "r_trips>>count(_.trip_taker_household_id)>>arrange(-_.n)"
   ]
  },
  {
   "cell_type": "code",
   "execution_count": null,
   "id": "eb9780a3-b996-45af-9cc3-b41629ec0e55",
   "metadata": {},
   "outputs": [
    {
     "data": {
      "text/html": [
       "<h4><strong>Checking one household id</strong></h4>"
      ],
      "text/plain": [
       "<IPython.core.display.HTML object>"
      ]
     },
     "metadata": {},
     "output_type": "display_data"
    }
   ],
   "source": [
    "display(HTML(\"<h4><strong>Checking one household id</strong></h4>\")) \n"
   ]
  },
  {
   "cell_type": "code",
   "execution_count": 116,
   "id": "6fc3be54-b8dc-4cf8-893e-565ffa02934d",
   "metadata": {},
   "outputs": [
    {
     "name": "stdout",
     "output_type": "stream",
     "text": [
      "16\n"
     ]
    },
    {
     "data": {
      "text/html": [
       "<div>\n",
       "<style scoped>\n",
       "    .dataframe tbody tr th:only-of-type {\n",
       "        vertical-align: middle;\n",
       "    }\n",
       "\n",
       "    .dataframe tbody tr th {\n",
       "        vertical-align: top;\n",
       "    }\n",
       "\n",
       "    .dataframe thead th {\n",
       "        text-align: right;\n",
       "    }\n",
       "</style>\n",
       "<table border=\"1\" class=\"dataframe\">\n",
       "  <thead>\n",
       "    <tr style=\"text-align: right;\">\n",
       "      <th></th>\n",
       "      <th>activity_id</th>\n",
       "      <th>origin_bgrp_2020</th>\n",
       "      <th>origin_trct_2020</th>\n",
       "      <th>origin_cty_2020</th>\n",
       "      <th>origin_st_2020</th>\n",
       "      <th>destination_bgrp_2020</th>\n",
       "      <th>destination_trct_2020</th>\n",
       "      <th>destination_cty_2020</th>\n",
       "      <th>destination_st_2020</th>\n",
       "      <th>primary_mode</th>\n",
       "      <th>trip_purpose</th>\n",
       "      <th>previous_trip_purpose</th>\n",
       "      <th>trip_start_time</th>\n",
       "      <th>trip_end_time</th>\n",
       "      <th>trip_duration_minutes</th>\n",
       "      <th>trip_distance_miles</th>\n",
       "      <th>vehicle_type</th>\n",
       "      <th>vehicle_fuel_type</th>\n",
       "      <th>transit_submode</th>\n",
       "      <th>transit_agency</th>\n",
       "      <th>transit_route</th>\n",
       "      <th>origin_land_use</th>\n",
       "      <th>origin_building_use</th>\n",
       "      <th>destination_land_use</th>\n",
       "      <th>destination_building_use</th>\n",
       "      <th>trip_taker_person_id</th>\n",
       "      <th>trip_taker_household_id</th>\n",
       "      <th>trip_taker_age</th>\n",
       "      <th>trip_taker_sex</th>\n",
       "      <th>trip_taker_race_ethnicity</th>\n",
       "      <th>trip_taker_employment_status</th>\n",
       "      <th>trip_taker_wfh</th>\n",
       "      <th>trip_taker_individual_income</th>\n",
       "      <th>trip_taker_commute_mode</th>\n",
       "      <th>trip_taker_household_size</th>\n",
       "      <th>trip_taker_household_income</th>\n",
       "      <th>trip_taker_available_vehicles</th>\n",
       "      <th>trip_taker_resident_type</th>\n",
       "      <th>trip_taker_industry</th>\n",
       "      <th>trip_taker_building_type</th>\n",
       "      <th>trip_taker_school_grade_attending</th>\n",
       "      <th>trip_taker_education</th>\n",
       "      <th>trip_taker_tenure</th>\n",
       "      <th>trip_taker_language</th>\n",
       "      <th>trip_taker_home_bgrp_2020</th>\n",
       "      <th>trip_taker_home_trct_2020</th>\n",
       "      <th>trip_taker_home_cty_2020</th>\n",
       "      <th>trip_taker_home_st_2020</th>\n",
       "      <th>trip_taker_work_bgrp_2020</th>\n",
       "      <th>trip_taker_work_trct_2020</th>\n",
       "      <th>trip_taker_work_cty_2020</th>\n",
       "      <th>trip_taker_work_st_2020</th>\n",
       "    </tr>\n",
       "  </thead>\n",
       "  <tbody>\n",
       "    <tr>\n",
       "      <th>295413</th>\n",
       "      <td>7413697944795220613</td>\n",
       "      <td>2 (Tract 1349.05, Los Angeles, CA)</td>\n",
       "      <td>1349.05 (Los Angeles, CA)</td>\n",
       "      <td>Los Angeles County, CA</td>\n",
       "      <td>California</td>\n",
       "      <td>1 (Tract 2623.01, Los Angeles, CA)</td>\n",
       "      <td>2623.01 (Los Angeles, CA)</td>\n",
       "      <td>Los Angeles County, CA</td>\n",
       "      <td>California</td>\n",
       "      <td>private_auto</td>\n",
       "      <td>home</td>\n",
       "      <td>school</td>\n",
       "      <td>11:55:00</td>\n",
       "      <td>12:41:21</td>\n",
       "      <td>46</td>\n",
       "      <td>12.7</td>\n",
       "      <td>unknown_vehicle_type</td>\n",
       "      <td>other_non_bev</td>\n",
       "      <td>NaN</td>\n",
       "      <td>NaN</td>\n",
       "      <td>NaN</td>\n",
       "      <td>education</td>\n",
       "      <td>education</td>\n",
       "      <td>single_family</td>\n",
       "      <td>single_family</td>\n",
       "      <td>4508016952300979367</td>\n",
       "      <td>9146817053558612433</td>\n",
       "      <td>25.0</td>\n",
       "      <td>female</td>\n",
       "      <td>asian_not_hispanic_or_latino</td>\n",
       "      <td>employed</td>\n",
       "      <td>employed_not_working</td>\n",
       "      <td>79807.0</td>\n",
       "      <td>private_auto</td>\n",
       "      <td>11.0</td>\n",
       "      <td>318660.0</td>\n",
       "      <td>three_plus</td>\n",
       "      <td>core</td>\n",
       "      <td>naics62</td>\n",
       "      <td>single_family</td>\n",
       "      <td>not_attending_school</td>\n",
       "      <td>bachelors_degree</td>\n",
       "      <td>owner</td>\n",
       "      <td>asian_pacific</td>\n",
       "      <td>1 (Tract 2623.01, Los Angeles, CA)</td>\n",
       "      <td>2623.01 (Los Angeles, CA)</td>\n",
       "      <td>Los Angeles County, CA</td>\n",
       "      <td>California</td>\n",
       "      <td>1 (Tract 759.01, Orange, CA)</td>\n",
       "      <td>759.01 (Orange, CA)</td>\n",
       "      <td>Orange County, CA</td>\n",
       "      <td>California</td>\n",
       "    </tr>\n",
       "  </tbody>\n",
       "</table>\n",
       "</div>"
      ],
      "text/plain": [
       "                activity_id                    origin_bgrp_2020  \\\n",
       "295413  7413697944795220613  2 (Tract 1349.05, Los Angeles, CA)   \n",
       "\n",
       "                 origin_trct_2020         origin_cty_2020 origin_st_2020  \\\n",
       "295413  1349.05 (Los Angeles, CA)  Los Angeles County, CA     California   \n",
       "\n",
       "                     destination_bgrp_2020      destination_trct_2020  \\\n",
       "295413  1 (Tract 2623.01, Los Angeles, CA)  2623.01 (Los Angeles, CA)   \n",
       "\n",
       "          destination_cty_2020 destination_st_2020  primary_mode trip_purpose  \\\n",
       "295413  Los Angeles County, CA          California  private_auto         home   \n",
       "\n",
       "       previous_trip_purpose trip_start_time trip_end_time  \\\n",
       "295413                school        11:55:00      12:41:21   \n",
       "\n",
       "        trip_duration_minutes  trip_distance_miles          vehicle_type  \\\n",
       "295413                     46                 12.7  unknown_vehicle_type   \n",
       "\n",
       "       vehicle_fuel_type transit_submode transit_agency transit_route  \\\n",
       "295413     other_non_bev             NaN            NaN           NaN   \n",
       "\n",
       "       origin_land_use origin_building_use destination_land_use  \\\n",
       "295413       education           education        single_family   \n",
       "\n",
       "       destination_building_use trip_taker_person_id trip_taker_household_id  \\\n",
       "295413            single_family  4508016952300979367     9146817053558612433   \n",
       "\n",
       "        trip_taker_age trip_taker_sex     trip_taker_race_ethnicity  \\\n",
       "295413            25.0         female  asian_not_hispanic_or_latino   \n",
       "\n",
       "       trip_taker_employment_status        trip_taker_wfh  \\\n",
       "295413                     employed  employed_not_working   \n",
       "\n",
       "        trip_taker_individual_income trip_taker_commute_mode  \\\n",
       "295413                       79807.0            private_auto   \n",
       "\n",
       "        trip_taker_household_size  trip_taker_household_income  \\\n",
       "295413                       11.0                     318660.0   \n",
       "\n",
       "       trip_taker_available_vehicles trip_taker_resident_type  \\\n",
       "295413                    three_plus                     core   \n",
       "\n",
       "       trip_taker_industry trip_taker_building_type  \\\n",
       "295413             naics62            single_family   \n",
       "\n",
       "       trip_taker_school_grade_attending trip_taker_education  \\\n",
       "295413              not_attending_school     bachelors_degree   \n",
       "\n",
       "       trip_taker_tenure trip_taker_language  \\\n",
       "295413             owner       asian_pacific   \n",
       "\n",
       "                 trip_taker_home_bgrp_2020  trip_taker_home_trct_2020  \\\n",
       "295413  1 (Tract 2623.01, Los Angeles, CA)  2623.01 (Los Angeles, CA)   \n",
       "\n",
       "       trip_taker_home_cty_2020 trip_taker_home_st_2020  \\\n",
       "295413   Los Angeles County, CA              California   \n",
       "\n",
       "           trip_taker_work_bgrp_2020 trip_taker_work_trct_2020  \\\n",
       "295413  1 (Tract 759.01, Orange, CA)       759.01 (Orange, CA)   \n",
       "\n",
       "       trip_taker_work_cty_2020 trip_taker_work_st_2020  \n",
       "295413        Orange County, CA              California  "
      ]
     },
     "execution_count": 116,
     "metadata": {},
     "output_type": "execute_result"
    }
   ],
   "source": [
    "print(len(r_trips>>filter(_.trip_taker_household_id == 9146817053558612433)))\n",
    "(r_trips>>filter(_.trip_taker_household_id == 9146817053558612433)).sample()"
   ]
  },
  {
   "cell_type": "code",
   "execution_count": 117,
   "id": "4eccfdf8-429e-43df-899e-f7d77e051831",
   "metadata": {},
   "outputs": [
    {
     "data": {
      "text/html": [
       "<div>\n",
       "<style scoped>\n",
       "    .dataframe tbody tr th:only-of-type {\n",
       "        vertical-align: middle;\n",
       "    }\n",
       "\n",
       "    .dataframe tbody tr th {\n",
       "        vertical-align: top;\n",
       "    }\n",
       "\n",
       "    .dataframe thead th {\n",
       "        text-align: right;\n",
       "    }\n",
       "</style>\n",
       "<table border=\"1\" class=\"dataframe\">\n",
       "  <thead>\n",
       "    <tr style=\"text-align: right;\">\n",
       "      <th></th>\n",
       "      <th>trip_taker_person_id</th>\n",
       "      <th>trip_taker_age</th>\n",
       "      <th>trip_taker_sex</th>\n",
       "      <th>trip_taker_household_size</th>\n",
       "      <th>n</th>\n",
       "    </tr>\n",
       "  </thead>\n",
       "  <tbody>\n",
       "    <tr>\n",
       "      <th>0</th>\n",
       "      <td>4508016952300979367</td>\n",
       "      <td>25.0</td>\n",
       "      <td>female</td>\n",
       "      <td>11.0</td>\n",
       "      <td>5</td>\n",
       "    </tr>\n",
       "    <tr>\n",
       "      <th>1</th>\n",
       "      <td>4736398356956282212</td>\n",
       "      <td>38.0</td>\n",
       "      <td>female</td>\n",
       "      <td>11.0</td>\n",
       "      <td>2</td>\n",
       "    </tr>\n",
       "    <tr>\n",
       "      <th>2</th>\n",
       "      <td>8423484308586815884</td>\n",
       "      <td>32.0</td>\n",
       "      <td>female</td>\n",
       "      <td>11.0</td>\n",
       "      <td>2</td>\n",
       "    </tr>\n",
       "    <tr>\n",
       "      <th>3</th>\n",
       "      <td>12395012647665989305</td>\n",
       "      <td>21.0</td>\n",
       "      <td>female</td>\n",
       "      <td>11.0</td>\n",
       "      <td>1</td>\n",
       "    </tr>\n",
       "    <tr>\n",
       "      <th>4</th>\n",
       "      <td>14673592671547908751</td>\n",
       "      <td>18.0</td>\n",
       "      <td>female</td>\n",
       "      <td>11.0</td>\n",
       "      <td>4</td>\n",
       "    </tr>\n",
       "    <tr>\n",
       "      <th>5</th>\n",
       "      <td>16545634957747565398</td>\n",
       "      <td>49.0</td>\n",
       "      <td>female</td>\n",
       "      <td>11.0</td>\n",
       "      <td>1</td>\n",
       "    </tr>\n",
       "    <tr>\n",
       "      <th>6</th>\n",
       "      <td>16684115452596066816</td>\n",
       "      <td>53.0</td>\n",
       "      <td>male</td>\n",
       "      <td>11.0</td>\n",
       "      <td>1</td>\n",
       "    </tr>\n",
       "  </tbody>\n",
       "</table>\n",
       "</div>"
      ],
      "text/plain": [
       "   trip_taker_person_id  trip_taker_age trip_taker_sex  \\\n",
       "0   4508016952300979367            25.0         female   \n",
       "1   4736398356956282212            38.0         female   \n",
       "2   8423484308586815884            32.0         female   \n",
       "3  12395012647665989305            21.0         female   \n",
       "4  14673592671547908751            18.0         female   \n",
       "5  16545634957747565398            49.0         female   \n",
       "6  16684115452596066816            53.0           male   \n",
       "\n",
       "   trip_taker_household_size  n  \n",
       "0                       11.0  5  \n",
       "1                       11.0  2  \n",
       "2                       11.0  2  \n",
       "3                       11.0  1  \n",
       "4                       11.0  4  \n",
       "5                       11.0  1  \n",
       "6                       11.0  1  "
      ]
     },
     "execution_count": 117,
     "metadata": {},
     "output_type": "execute_result"
    }
   ],
   "source": [
    "## checking one household id\n",
    "r_trips>>filter(_.trip_taker_household_id == 9146817053558612433)>>count(_.trip_taker_person_id, _.trip_taker_age,\n",
    "                                                                         _.trip_taker_sex, _.trip_taker_household_size)"
   ]
  },
  {
   "cell_type": "code",
   "execution_count": null,
   "id": "c929c77d-0173-4a7d-be49-762349daf5cb",
   "metadata": {},
   "outputs": [],
   "source": []
  },
  {
   "cell_type": "code",
   "execution_count": null,
   "id": "ab226b47-4366-4fb9-aaae-e0aca760f9b3",
   "metadata": {},
   "outputs": [],
   "source": []
  },
  {
   "cell_type": "code",
   "execution_count": 118,
   "id": "1483249f-602c-4805-bcc4-d55e018022ad",
   "metadata": {},
   "outputs": [
    {
     "data": {
      "text/html": [
       "<h4><strong>Number of Travelers by Resident Type: Replica Trips Data</strong></h4>"
      ],
      "text/plain": [
       "<IPython.core.display.HTML object>"
      ]
     },
     "metadata": {},
     "output_type": "display_data"
    }
   ],
   "source": [
    "display(HTML(\"<h4><strong>Number of Travelers by Resident Type: Replica Trips Data</strong></h4>\")) "
   ]
  },
  {
   "cell_type": "code",
   "execution_count": 119,
   "id": "5c1894f0-bd42-4014-89d4-6e8d43809319",
   "metadata": {},
   "outputs": [
    {
     "data": {
      "text/html": [
       "<div>\n",
       "<style scoped>\n",
       "    .dataframe tbody tr th:only-of-type {\n",
       "        vertical-align: middle;\n",
       "    }\n",
       "\n",
       "    .dataframe tbody tr th {\n",
       "        vertical-align: top;\n",
       "    }\n",
       "\n",
       "    .dataframe thead th {\n",
       "        text-align: right;\n",
       "    }\n",
       "</style>\n",
       "<table border=\"1\" class=\"dataframe\">\n",
       "  <thead>\n",
       "    <tr style=\"text-align: right;\">\n",
       "      <th></th>\n",
       "      <th>trip_taker_resident_type</th>\n",
       "      <th>_unique_ids</th>\n",
       "    </tr>\n",
       "  </thead>\n",
       "  <tbody>\n",
       "    <tr>\n",
       "      <th>0</th>\n",
       "      <td>core</td>\n",
       "      <td>246597</td>\n",
       "    </tr>\n",
       "    <tr>\n",
       "      <th>1</th>\n",
       "      <td>donut</td>\n",
       "      <td>2</td>\n",
       "    </tr>\n",
       "    <tr>\n",
       "      <th>2</th>\n",
       "      <td>visitor</td>\n",
       "      <td>35198</td>\n",
       "    </tr>\n",
       "    <tr>\n",
       "      <th>3</th>\n",
       "      <td>NaN</td>\n",
       "      <td>1</td>\n",
       "    </tr>\n",
       "  </tbody>\n",
       "</table>\n",
       "</div>"
      ],
      "text/plain": [
       "  trip_taker_resident_type  _unique_ids\n",
       "0                     core       246597\n",
       "1                    donut            2\n",
       "2                  visitor        35198\n",
       "3                      NaN            1"
      ]
     },
     "execution_count": 119,
     "metadata": {},
     "output_type": "execute_result"
    }
   ],
   "source": [
    "r_trips>>group_by(_.trip_taker_resident_type)>>summarize(_unique_ids = _.trip_taker_person_id.nunique())"
   ]
  },
  {
   "cell_type": "code",
   "execution_count": null,
   "id": "b0891b62-c968-4ea0-bd9b-753d299a5054",
   "metadata": {},
   "outputs": [],
   "source": []
  },
  {
   "cell_type": "code",
   "execution_count": 120,
   "id": "2e4bd058-9c4d-4989-a5fc-db6cf6130bf2",
   "metadata": {
    "tags": []
   },
   "outputs": [
    {
     "data": {
      "text/html": [
       "<h4><strong>Traveler Demographics: Replica Trips Data</strong></h4>"
      ],
      "text/plain": [
       "<IPython.core.display.HTML object>"
      ]
     },
     "metadata": {},
     "output_type": "display_data"
    },
    {
     "data": {
      "text/html": [
       "Fitered for Core Residents"
      ],
      "text/plain": [
       "<IPython.core.display.HTML object>"
      ]
     },
     "metadata": {},
     "output_type": "display_data"
    },
    {
     "data": {
      "text/html": [
       "<div>\n",
       "<style scoped>\n",
       "    .dataframe tbody tr th:only-of-type {\n",
       "        vertical-align: middle;\n",
       "    }\n",
       "\n",
       "    .dataframe tbody tr th {\n",
       "        vertical-align: top;\n",
       "    }\n",
       "\n",
       "    .dataframe thead th {\n",
       "        text-align: right;\n",
       "    }\n",
       "</style>\n",
       "<table border=\"1\" class=\"dataframe\">\n",
       "  <thead>\n",
       "    <tr style=\"text-align: right;\">\n",
       "      <th></th>\n",
       "      <th>primary_mode</th>\n",
       "      <th>trip_taker_sex</th>\n",
       "      <th>n_ppl</th>\n",
       "      <th>avg_h_income</th>\n",
       "      <th>avg_p_income</th>\n",
       "      <th>avg_age</th>\n",
       "    </tr>\n",
       "  </thead>\n",
       "  <tbody>\n",
       "    <tr>\n",
       "      <th>0</th>\n",
       "      <td>auto_passenger</td>\n",
       "      <td>female</td>\n",
       "      <td>44266</td>\n",
       "      <td>162899.902386</td>\n",
       "      <td>57807.907035</td>\n",
       "      <td>43.646941</td>\n",
       "    </tr>\n",
       "    <tr>\n",
       "      <th>1</th>\n",
       "      <td>auto_passenger</td>\n",
       "      <td>male</td>\n",
       "      <td>43836</td>\n",
       "      <td>173439.458096</td>\n",
       "      <td>87237.704327</td>\n",
       "      <td>42.863541</td>\n",
       "    </tr>\n",
       "    <tr>\n",
       "      <th>2</th>\n",
       "      <td>commercial</td>\n",
       "      <td>NaN</td>\n",
       "      <td>1</td>\n",
       "      <td>NaN</td>\n",
       "      <td>NaN</td>\n",
       "      <td>NaN</td>\n",
       "    </tr>\n",
       "    <tr>\n",
       "      <th>3</th>\n",
       "      <td>on_demand_auto</td>\n",
       "      <td>female</td>\n",
       "      <td>1560</td>\n",
       "      <td>181325.515908</td>\n",
       "      <td>58599.185901</td>\n",
       "      <td>46.576419</td>\n",
       "    </tr>\n",
       "    <tr>\n",
       "      <th>4</th>\n",
       "      <td>on_demand_auto</td>\n",
       "      <td>male</td>\n",
       "      <td>1532</td>\n",
       "      <td>181278.142947</td>\n",
       "      <td>92035.743703</td>\n",
       "      <td>43.226700</td>\n",
       "    </tr>\n",
       "    <tr>\n",
       "      <th>5</th>\n",
       "      <td>private_auto</td>\n",
       "      <td>female</td>\n",
       "      <td>90634</td>\n",
       "      <td>167383.189351</td>\n",
       "      <td>62989.923621</td>\n",
       "      <td>43.786498</td>\n",
       "    </tr>\n",
       "    <tr>\n",
       "      <th>6</th>\n",
       "      <td>private_auto</td>\n",
       "      <td>male</td>\n",
       "      <td>99967</td>\n",
       "      <td>174477.157845</td>\n",
       "      <td>94470.932013</td>\n",
       "      <td>43.811427</td>\n",
       "    </tr>\n",
       "    <tr>\n",
       "      <th>7</th>\n",
       "      <td>private_auto</td>\n",
       "      <td>NaN</td>\n",
       "      <td>1</td>\n",
       "      <td>NaN</td>\n",
       "      <td>NaN</td>\n",
       "      <td>NaN</td>\n",
       "    </tr>\n",
       "    <tr>\n",
       "      <th>8</th>\n",
       "      <td>public_transit</td>\n",
       "      <td>female</td>\n",
       "      <td>927</td>\n",
       "      <td>81553.446911</td>\n",
       "      <td>39058.572394</td>\n",
       "      <td>42.898649</td>\n",
       "    </tr>\n",
       "    <tr>\n",
       "      <th>9</th>\n",
       "      <td>public_transit</td>\n",
       "      <td>male</td>\n",
       "      <td>979</td>\n",
       "      <td>97733.906166</td>\n",
       "      <td>44295.896336</td>\n",
       "      <td>39.824844</td>\n",
       "    </tr>\n",
       "  </tbody>\n",
       "</table>\n",
       "</div>"
      ],
      "text/plain": [
       "     primary_mode trip_taker_sex  n_ppl   avg_h_income  avg_p_income  \\\n",
       "0  auto_passenger         female  44266  162899.902386  57807.907035   \n",
       "1  auto_passenger           male  43836  173439.458096  87237.704327   \n",
       "2      commercial            NaN      1            NaN           NaN   \n",
       "3  on_demand_auto         female   1560  181325.515908  58599.185901   \n",
       "4  on_demand_auto           male   1532  181278.142947  92035.743703   \n",
       "5    private_auto         female  90634  167383.189351  62989.923621   \n",
       "6    private_auto           male  99967  174477.157845  94470.932013   \n",
       "7    private_auto            NaN      1            NaN           NaN   \n",
       "8  public_transit         female    927   81553.446911  39058.572394   \n",
       "9  public_transit           male    979   97733.906166  44295.896336   \n",
       "\n",
       "     avg_age  \n",
       "0  43.646941  \n",
       "1  42.863541  \n",
       "2        NaN  \n",
       "3  46.576419  \n",
       "4  43.226700  \n",
       "5  43.786498  \n",
       "6  43.811427  \n",
       "7        NaN  \n",
       "8  42.898649  \n",
       "9  39.824844  "
      ]
     },
     "execution_count": 120,
     "metadata": {},
     "output_type": "execute_result"
    }
   ],
   "source": [
    "display(HTML(\"<h4><strong>Traveler Demographics: Replica Trips Data</strong></h4>\")) \n",
    "display(HTML(\"Fitered for Core Residents\")) \n",
    "(r_trips\n",
    " >>filter(_.trip_taker_home_bgrp_2020!=\"Visitor (no home location)\")\n",
    " >>group_by(_.primary_mode, _.trip_taker_sex)\n",
    " >>summarize(\n",
    "     n_ppl = _.trip_taker_person_id.nunique(),\n",
    "     avg_h_income = _.trip_taker_household_income.mean(),\n",
    "     avg_p_income = _.trip_taker_individual_income.mean(),\n",
    "     avg_age = _.trip_taker_age.mean())\n",
    ")\n",
    "     "
   ]
  },
  {
   "cell_type": "code",
   "execution_count": null,
   "id": "a1dba8b5-7356-441f-8e6c-0f98e0f80c4c",
   "metadata": {},
   "outputs": [],
   "source": []
  },
  {
   "cell_type": "code",
   "execution_count": null,
   "id": "aa84cc8c-8b17-41b6-abdf-c8397ef1e706",
   "metadata": {},
   "outputs": [],
   "source": []
  },
  {
   "cell_type": "code",
   "execution_count": null,
   "id": "101bbd51-38b9-4791-8119-f0dc3002b6a6",
   "metadata": {},
   "outputs": [],
   "source": []
  },
  {
   "cell_type": "code",
   "execution_count": null,
   "id": "bbc819b1-0dfc-46be-90bd-b136263dc22c",
   "metadata": {},
   "outputs": [],
   "source": []
  }
 ],
 "metadata": {
  "kernelspec": {
   "display_name": "Python 3 (ipykernel)",
   "language": "python",
   "name": "python3"
  },
  "language_info": {
   "codemirror_mode": {
    "name": "ipython",
    "version": 3
   },
   "file_extension": ".py",
   "mimetype": "text/x-python",
   "name": "python",
   "nbconvert_exporter": "python",
   "pygments_lexer": "ipython3",
   "version": "3.9.13"
  },
  "widgets": {
   "application/vnd.jupyter.widget-state+json": {
    "state": {},
    "version_major": 2,
    "version_minor": 0
   }
  }
 },
 "nbformat": 4,
 "nbformat_minor": 5
}
