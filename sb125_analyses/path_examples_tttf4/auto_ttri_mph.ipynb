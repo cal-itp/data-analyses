{
 "cells": [
  {
   "cell_type": "markdown",
   "id": "39cce970-acda-4c89-9b80-9939e65000fd",
   "metadata": {},
   "source": [
    "# SB 125\n",
    "## Research Request\n",
    "### TTTF Route-level Illustrative Examples\n",
    "#### Issue 1098\n",
    "\n",
    "Created May 6, 2024\n",
    "Analysis and write-up completed by Noah Sanchez, requested by Katrina Kaiser to be included on the Freght Efficiency sheet for Cycle 4"
   ]
  },
  {
   "cell_type": "markdown",
   "id": "27a862d0-bc62-418d-9762-fbceb399436e",
   "metadata": {},
   "source": [
    "## Origin-Destinations\n",
    "- Napa  \n",
    "    - Napa High School to Vallejo Ferry Terminal  \n",
    "- Sacramento  \n",
    "    - P Street/22nd to 5248 Rose Street  \n",
    "- Clovis  \n",
    "    - 9248 N Laureen Ave to Clovis Community Hospital\n",
    "- Los Angeles  \n",
    "    - Slauson/5th to Burbank Town Center Mall\n",
    "- Solano  \n",
    "    - Vallejo Ferry Terminal to Solano Community College Vallejo"
   ]
  },
  {
   "cell_type": "markdown",
   "id": "ccffe0ea-e568-47bf-951a-26aa0c862d61",
   "metadata": {},
   "source": [
    "### Analyst Comments:  \n",
    "Mode of Travel is the same for all records, \"All Vehicles LBS Plus - StL (StreetLight) All Vehicles Volume\""
   ]
  },
  {
   "cell_type": "code",
   "execution_count": 1,
   "id": "7331e0f2-ac96-45a2-99cb-22361152caa2",
   "metadata": {},
   "outputs": [],
   "source": [
    "# import modules\n",
    "import pandas as pd\n",
    "import numpy as np\n",
    "import matplotlib.pyplot as plt\n",
    "\n",
    "from path_example_vars import GCS_PATH"
   ]
  },
  {
   "cell_type": "code",
   "execution_count": 2,
   "id": "7c2e25e6-faae-4d48-86b6-7550e7febb40",
   "metadata": {},
   "outputs": [],
   "source": [
    "path = GCS_PATH"
   ]
  },
  {
   "cell_type": "code",
   "execution_count": 3,
   "id": "4d063aa7-bac3-408b-98f7-4305ff80059a",
   "metadata": {},
   "outputs": [],
   "source": [
    "# Name the datasets\n",
    "df01 = f'{path}01_Napa_attri_v1_sa_all.csv'\n",
    "df02 = f'{path}02_Vallejo_attri_v0_sa_all.csv'\n",
    "df03 = f'{path}03_Sacramento_attri_v1_sa_all.csv'\n",
    "df04 = f'{path}04_Clovis_attri_v0_sa_all.csv'\n",
    "df05 = f'{path}05_Los_Angeles_attri_v0_sa_all.csv'"
   ]
  },
  {
   "cell_type": "code",
   "execution_count": 4,
   "id": "72af5c50-f5a2-49b3-ade3-3e36dfc16650",
   "metadata": {},
   "outputs": [],
   "source": [
    "# create a function to import the data from a csv file\n",
    "def getData(path):\n",
    "    # reads in the data from a .csv file\n",
    "    df = pd.read_csv(path)\n",
    "    return df"
   ]
  },
  {
   "cell_type": "code",
   "execution_count": 5,
   "id": "e994ad34-fa28-4933-8173-dc4d58404dea",
   "metadata": {},
   "outputs": [],
   "source": [
    "# Pull in data\n",
    "df01 = getData(df01)\n",
    "df02 = getData(df02)\n",
    "df03 = getData(df03)\n",
    "df04 = getData(df04)\n",
    "df05 = getData(df05)"
   ]
  },
  {
   "cell_type": "code",
   "execution_count": 6,
   "id": "50637de3-d0cf-480e-9c20-1f9d2a761931",
   "metadata": {},
   "outputs": [],
   "source": [
    "# Create a function to remove spaces and make header characters lowercase\n",
    "def clean_headers(df):\n",
    "    cleaned_columns = []\n",
    "    for column in df.columns:\n",
    "        cleaned_column = column.replace(\" \", \"\").lower()\n",
    "        cleaned_columns.append(cleaned_column)\n",
    "    df.columns = cleaned_columns\n",
    "    return df"
   ]
  },
  {
   "cell_type": "code",
   "execution_count": 7,
   "id": "1cb52a03-4854-455b-8b8e-2783b0580d16",
   "metadata": {},
   "outputs": [],
   "source": [
    "# For the headers, the remove the spaces and make the characters lowercase using the clean_headers function\n",
    "df01 = clean_headers(df01)\n",
    "df02 = clean_headers(df02)\n",
    "df03 = clean_headers(df03)\n",
    "df04 = clean_headers(df04)\n",
    "df05 = clean_headers(df05)"
   ]
  },
  {
   "cell_type": "code",
   "execution_count": 8,
   "id": "4ea22936-c843-46bf-a9f5-94773d683a4d",
   "metadata": {},
   "outputs": [],
   "source": [
    "# adding a column to the datasets called 'city'\n",
    "df01['city'] = 'Napa'\n",
    "df02['city'] = 'Solano'\n",
    "df03['city'] = 'Sacramento'\n",
    "df04['city'] = 'Clovis'\n",
    "df05['city'] = 'Los Angeles'"
   ]
  },
  {
   "cell_type": "code",
   "execution_count": 9,
   "id": "7f796a9a-dc78-481a-bd65-4a75c7b073b5",
   "metadata": {},
   "outputs": [],
   "source": [
    "def mph_result_50_auto(data):\n",
    "    # Calculate the 50th Travel Time Percentile into hours (from seconds)\n",
    "    ttp_50_auto = data['50thtraveltimepercentile'].sum()/3600\n",
    "\n",
    "    \n",
    "    # Filter rows where column ['50thtraveltimepercentile'] is not 'N/A'\n",
    "    filtered_df = data[data['50thtraveltimepercentile'] != 'N/A']\n",
    "    \n",
    "    # Calculate the sum of linezonelenth(miles) column\n",
    "    segment_length_auto = filtered_df['linezonelength(miles)'].sum()\n",
    "\n",
    "    \n",
    "    # Identify the weighted speed\n",
    "    mph_50_auto = segment_length_auto / ttp_50_auto\n",
    "     \n",
    "    return mph_50_auto"
   ]
  },
  {
   "cell_type": "code",
   "execution_count": 10,
   "id": "f74ae127-f220-4de9-ad6f-97e1998bec7f",
   "metadata": {},
   "outputs": [],
   "source": [
    "def mph_result_95_auto(data):\n",
    "    # Calculate the 95th Travel Time Percentile into hours (from seconds)\n",
    "    ttp_95_auto = data['95thtraveltimepercentile'].sum()/3600\n",
    "\n",
    "    \n",
    "    # Filter rows where column ['95thtraveltimepercentile'] is not 'N/A'\n",
    "    filtered_df = data[data['95thtraveltimepercentile'] != 'N/A']\n",
    "    \n",
    "    # Calculate the sum of linezonelenth(miles) column\n",
    "    segment_length_auto = filtered_df['linezonelength(miles)'].sum()\n",
    "\n",
    "    \n",
    "    # Identify the weighted speed\n",
    "    mph_95_auto = segment_length_auto / ttp_95_auto\n",
    "     \n",
    "    return mph_95_auto"
   ]
  },
  {
   "cell_type": "code",
   "execution_count": 11,
   "id": "c5d58aa9-3ab3-4cfd-b685-78f5788c724e",
   "metadata": {},
   "outputs": [],
   "source": [
    "# Create a 50th percentile MPH results\n",
    "data01_50_results = pd.DataFrame([mph_result_50_auto(df01)], columns=['MPH_50th_Percentile_results'])\n",
    "data02_50_results = pd.DataFrame([mph_result_50_auto(df02)], columns=['MPH_50th_Percentile_results'])\n",
    "data03_50_results = pd.DataFrame([mph_result_50_auto(df03)], columns=['MPH_50th_Percentile_results'])\n",
    "data04_50_results = pd.DataFrame([mph_result_50_auto(df04)], columns=['MPH_50th_Percentile_results'])\n",
    "data05_50_results = pd.DataFrame([mph_result_50_auto(df05)], columns=['MPH_50th_Percentile_results'])"
   ]
  },
  {
   "cell_type": "code",
   "execution_count": 12,
   "id": "fd1aadad-b65b-4a3f-a7e3-21fff46d81cb",
   "metadata": {},
   "outputs": [],
   "source": [
    "# Concatenate the results into a DataFrame called 'corridor_50th_mph'\n",
    "corridor_50th_mph = pd.concat([data01_50_results,data02_50_results, data03_50_results, data04_50_results, data05_50_results], axis=0)\n",
    "\n",
    "# Create a list of the cities in the study\n",
    "city = ['Napa', 'Solano', 'Sacramento', 'Clovis', 'Los Angeles']\n",
    "\n",
    "# add a column called 'city' and use a for loop to add the city names as values\n",
    "corridor_50th_mph['city'] = [city[i] for i in range(len(corridor_50th_mph))]\n",
    "\n",
    "# change the order of the columns in the dataframe\n",
    "corridor_50th_mph = corridor_50th_mph[['city', 'MPH_50th_Percentile_results']]"
   ]
  },
  {
   "cell_type": "code",
   "execution_count": 13,
   "id": "89c5adf1-a132-46e0-af2c-cf1f75ff4976",
   "metadata": {},
   "outputs": [],
   "source": [
    "# Create a function to plot the results\n",
    "def plot_df_50(df):\n",
    "    \"\"\"\n",
    "    Plot a DataFrame with two columns on a scatterplot.\n",
    "    \n",
    "    Parameters:\n",
    "    df (pandas.DataFrame): The DataFrame containing the data to be plotted.\n",
    "    \"\"\"\n",
    "    # plot the data\n",
    "    df.plot(kind='bar', x='city', y='MPH_50th_Percentile_results', legend=False)\n",
    "    \n",
    "    # Set plot title and labels\n",
    "    plt.title('MPH 50th Percentile Results')\n",
    "    plt.xlabel('City')\n",
    "    plt.ylabel('MPH')\n",
    "    \n",
    "    # Show the plot\n",
    "    plt.show()"
   ]
  },
  {
   "cell_type": "code",
   "execution_count": 14,
   "id": "4fd33acd-3d3c-4fc0-b94d-ca04df3b39ec",
   "metadata": {},
   "outputs": [],
   "source": [
    "# View a bar chart of the 50th percentile's MPH\n",
    "#bar_50 = plot_df_50(corridor_50th_mph)"
   ]
  },
  {
   "cell_type": "code",
   "execution_count": 15,
   "id": "6999b99f-af71-4f7c-a804-37f07e293e92",
   "metadata": {},
   "outputs": [],
   "source": [
    "# Create a 95th percentile MPH results\n",
    "data01_95_results = pd.DataFrame([mph_result_95_auto(df01)], columns=['MPH_95th_Percentile_results'])\n",
    "data02_95_results = pd.DataFrame([mph_result_95_auto(df02)], columns=['MPH_95th_Percentile_results'])\n",
    "data03_95_results = pd.DataFrame([mph_result_95_auto(df03)], columns=['MPH_95th_Percentile_results'])\n",
    "data04_95_results = pd.DataFrame([mph_result_95_auto(df04)], columns=['MPH_95th_Percentile_results'])\n",
    "data05_95_results = pd.DataFrame([mph_result_95_auto(df05)], columns=['MPH_95th_Percentile_results'])"
   ]
  },
  {
   "cell_type": "code",
   "execution_count": 16,
   "id": "62eeebdf-e4af-4c94-8c74-149157581398",
   "metadata": {},
   "outputs": [],
   "source": [
    "# Concatenate the results into a DataFrame called 'corridor_50th_mph'\n",
    "corridor_95th_mph = pd.concat([data01_95_results,data02_95_results, data03_95_results, data04_95_results, data05_95_results], axis=0)\n",
    "\n",
    "# add a column called 'city' and use a for loop to add the city names as values\n",
    "corridor_95th_mph['city'] = [city[i] for i in range(len(corridor_50th_mph))]\n",
    "\n",
    "# change the order of the columns in the dataframe\n",
    "corridor_95th_mph = corridor_95th_mph[['city', 'MPH_95th_Percentile_results']]"
   ]
  },
  {
   "cell_type": "code",
   "execution_count": 17,
   "id": "d8d51924-5b64-4892-9de5-6066937f569a",
   "metadata": {},
   "outputs": [],
   "source": [
    "# Create a function to plot the results\n",
    "def plot_df_95(df):\n",
    "    \"\"\"\n",
    "    Plot a DataFrame with two columns on a scatterplot.\n",
    "    \n",
    "    Parameters:\n",
    "    df (pandas.DataFrame): The DataFrame containing the data to be plotted.\n",
    "    \"\"\"\n",
    "    # plot the data\n",
    "    df.plot(kind='bar', x='city', y='MPH_95th_Percentile_results', legend=False)\n",
    "    \n",
    "    # Set plot title and labels\n",
    "    plt.title('MPH 95th Percentile Results')\n",
    "    plt.xlabel('City')\n",
    "    plt.ylabel('MPH')\n",
    "    \n",
    "    # Show the plot\n",
    "    plt.show()"
   ]
  },
  {
   "cell_type": "code",
   "execution_count": 18,
   "id": "806fc1fb-4c02-447f-b977-bfb32732adeb",
   "metadata": {},
   "outputs": [],
   "source": [
    "# View a bar chart of the 95th percentile's MPH\n",
    "#bar_95 = plot_df_95(corridor_95th_mph)"
   ]
  },
  {
   "cell_type": "code",
   "execution_count": 19,
   "id": "685f3292-c8aa-4723-af1a-9acf68ed251c",
   "metadata": {},
   "outputs": [],
   "source": [
    "MPH_results = corridor_50th_mph\n",
    "MPH_results['MPH_95th_Percentile_results'] = corridor_95th_mph['MPH_95th_Percentile_results']"
   ]
  },
  {
   "cell_type": "code",
   "execution_count": 20,
   "id": "66acb993-368e-4a16-aca8-817f7cba5bcb",
   "metadata": {},
   "outputs": [],
   "source": [
    "# Create a function to visualize the 50th and 95th percentiles\n",
    "def plot_results_both(df):\n",
    "    \"\"\"\n",
    "    Plot totals for both the 50th and 95th MPH percentiles.\n",
    "    \n",
    "    Parameters:\n",
    "        df (Pandas.DataFrame): The DataFrame containing the data to be plotted.\n",
    "    \"\"\"\n",
    "    \n",
    "    # Set the number of categories\n",
    "    num_categories = 2\n",
    "    \n",
    "    # Set bar width\n",
    "    bar_width = 0.35\n",
    "    \n",
    "    # Set x locations for the groups\n",
    "    index = np.arange(len(df))\n",
    "    \n",
    "    # Plot bars for '50th Percentile'\n",
    "    plt.bar(index, df['MPH_50th_Percentile_results'], bar_width, label='50th Percentile MPH Results')\n",
    "    \n",
    "    # Plot bars for '95th Percentile'\n",
    "    plt.bar(index + bar_width, df['MPH_95th_Percentile_results'], bar_width, label='95th Percentile MPH Results')\n",
    "    \n",
    "    # Set plot title and labels\n",
    "    plt.title('Travel Time Reliability Index MPH Results')\n",
    "    plt.xlabel('City')\n",
    "    plt.ylabel('Miles Per Hour')\n",
    "    plt.xticks(index + bar_width /2, df['city'])\n",
    "    \n",
    "    # Display legend\n",
    "    plt.legend()\n",
    "    \n",
    "    # Show the plot\n",
    "    plt.show()"
   ]
  },
  {
   "cell_type": "code",
   "execution_count": 21,
   "id": "5058459d-f171-488d-8347-2bb7025008ee",
   "metadata": {},
   "outputs": [],
   "source": [
    "# Create subset function\n",
    "df01_ttri = df01[[\n",
    "    'city',\n",
    "    'linezonelength(miles)',\n",
    "    '50thtraveltimepercentile',\n",
    "    '95thtraveltimepercentile',\n",
    "]]\n",
    "\n",
    "df02_ttri = df02[[\n",
    "    'city',\n",
    "    'linezonelength(miles)',\n",
    "    '50thtraveltimepercentile',\n",
    "    '95thtraveltimepercentile',\n",
    "]]\n",
    "\n",
    "df03_ttri = df03[[\n",
    "    'city',\n",
    "    'linezonelength(miles)',\n",
    "    '50thtraveltimepercentile',\n",
    "    '95thtraveltimepercentile',\n",
    "]]\n",
    "\n",
    "df04_ttri = df04[[\n",
    "    'city',\n",
    "    'linezonelength(miles)',\n",
    "    '50thtraveltimepercentile',\n",
    "    '95thtraveltimepercentile',\n",
    "]]\n",
    "\n",
    "df05_ttri = df05[[\n",
    "    'city',\n",
    "    'linezonelength(miles)',\n",
    "    '50thtraveltimepercentile',\n",
    "    '95thtraveltimepercentile',\n",
    "]]"
   ]
  },
  {
   "cell_type": "code",
   "execution_count": 22,
   "id": "4f5f6054-67f6-4aa3-bcfd-9e08b1384bc2",
   "metadata": {},
   "outputs": [],
   "source": [
    "def ttri_calcs(df):\n",
    "    # Suppress warnings\n",
    "    pd.options.mode.chained_assignment = None # default='warn'\n",
    "    \n",
    "    # Multiply the 50th TTP and the 95th TTP\n",
    "    df['LOTTR'] = df['95thtraveltimepercentile']/df['50thtraveltimepercentile']\n",
    "    df['Weighted'] = df['LOTTR'] * df['linezonelength(miles)']\n",
    "    return df"
   ]
  },
  {
   "cell_type": "code",
   "execution_count": 23,
   "id": "895afa15-8384-4c62-b19d-bc2efea36b40",
   "metadata": {},
   "outputs": [],
   "source": [
    "# Create TTRI Columns LOTTR & Weighted\n",
    "# LOTTR multiplies the 50th travel time percentile values and the 95th travel time percentile values\n",
    "# Weighted takes the LOTTR values and multiplies them by the segment length values\n",
    "df01_ttri = ttri_calcs(df01_ttri)\n",
    "df02_ttri = ttri_calcs(df02_ttri)\n",
    "df03_ttri = ttri_calcs(df03_ttri)\n",
    "df04_ttri = ttri_calcs(df04_ttri)\n",
    "df05_ttri = ttri_calcs(df05_ttri)"
   ]
  },
  {
   "cell_type": "code",
   "execution_count": 24,
   "id": "3c4f8e56-0240-4d07-89cf-121e7c0d9b10",
   "metadata": {},
   "outputs": [],
   "source": [
    "def calculate_total(df):\n",
    "    # Calculate the total of linezonelength(miles)\n",
    "    total_length = df['linezonelength(miles)'].sum()\n",
    "    \n",
    "    # Calculate the total of the Weighted column\n",
    "    total_weight = df['Weighted'].sum()\n",
    "    \n",
    "    # Divide the Weighted total by the Line Length total\n",
    "    total = total_weight/total_length\n",
    "    \n",
    "    # Create a DataFrame to store the result\n",
    "    result_df = pd.DataFrame({'ATTRI': [total]})\n",
    "        \n",
    "    return result_df"
   ]
  },
  {
   "cell_type": "code",
   "execution_count": 25,
   "id": "c2f74b7a-697a-453b-a916-fe73a6456050",
   "metadata": {},
   "outputs": [],
   "source": [
    "# Calculate totals\n",
    "df01_ttri_result = calculate_total(df01_ttri)\n",
    "df02_ttri_result = calculate_total(df02_ttri)\n",
    "df03_ttri_result = calculate_total(df03_ttri)\n",
    "df04_ttri_result = calculate_total(df04_ttri)\n",
    "df05_ttri_result = calculate_total(df05_ttri)"
   ]
  },
  {
   "cell_type": "code",
   "execution_count": 26,
   "id": "52da55cf-0d48-493e-8042-d0a5edcdc5d1",
   "metadata": {},
   "outputs": [],
   "source": [
    "# concatenate results\n",
    "attri = pd.concat([df01_ttri_result, df02_ttri_result, df03_ttri_result, df04_ttri_result, df05_ttri_result], axis=0)\n",
    "attri\n",
    "\n",
    "# add a column called 'city' and use a for loop to add the city names as values\n",
    "attri['city'] = [city[i] for i in range(len(attri))]\n",
    "\n",
    "# change the order of the columns in the dataframe\n",
    "attri = attri[['city', 'ATTRI']]"
   ]
  },
  {
   "cell_type": "code",
   "execution_count": 27,
   "id": "ce02b2e1-03b8-46ef-9cbf-e6d447c814d1",
   "metadata": {},
   "outputs": [],
   "source": [
    "# Create a function to plot the results\n",
    "def plot_df_attri(df):\n",
    "    \"\"\"\n",
    "    Plot a DataFrame with two columns\n",
    "    \n",
    "    Parameters:\n",
    "    df (pandas.DataFrame): The DataFrame containing the data to be plotted.\n",
    "    \"\"\"\n",
    "    # plot the data\n",
    "    df.plot(kind='bar', x='city', y='ATTRI', legend=False)\n",
    "    \n",
    "    # Set plot title and labels\n",
    "    plt.title('Auto Travel Time Reliability Index')\n",
    "    plt.xlabel('City')\n",
    "    plt.ylabel('ATTRI')\n",
    "    \n",
    "    # Show the plot\n",
    "    plt.show()"
   ]
  },
  {
   "cell_type": "code",
   "execution_count": 28,
   "id": "019014db-6f22-4c65-a5c3-65fad8e7ab90",
   "metadata": {},
   "outputs": [],
   "source": [
    "# Create a dataframe called 'Results' that begins with the 'MPH_results' dataframe\n",
    "Results = MPH_results\n",
    "\n",
    "# Add a new column to the Results dataframe called 'ATTRI' and fill the values with the values from the ATTRI column in the attri dataframe\n",
    "Results['ATTRI'] = attri['ATTRI']\n",
    "\n",
    "# Reorder the columns\n",
    "Results = Results[['city', 'ATTRI', 'MPH_50th_Percentile_results', 'MPH_95th_Percentile_results']]"
   ]
  },
  {
   "cell_type": "code",
   "execution_count": 29,
   "id": "6fe1514b-0835-4113-8331-58d2d0d883db",
   "metadata": {},
   "outputs": [],
   "source": [
    "# Create a function to total up the ['linezonelength'] column and show the time in minutes for columns ['50thtraveltimepercentile'] and ['95thtraveltimepercentile']\n",
    "def time_and_length(df):\n",
    "    # sum columns ['50thtraveltimepercentile'] and ['95thtraveltimepercentile'] and divide by 60\n",
    "    ttp_time_50 = (df['50thtraveltimepercentile'].sum()/60)\n",
    "    ttp_time_95 = (df['95thtraveltimepercentile'].sum()/60)\n",
    "    \n",
    "    # Total up the linezonelength(miles) column\n",
    "    total_lzl = df['linezonelength(miles)'].sum()\n",
    "    \n",
    "    # Create a new DataFrame with the results\n",
    "    results_df = pd.DataFrame({\n",
    "        '50_ttp_minutes': [ttp_time_50],\n",
    "        '95_ttp_minutes': [ttp_time_95],\n",
    "        'segment_length_(miles)': [total_lzl]\n",
    "    }, index=[0]) # Index 0 indicates one record\n",
    "    \n",
    "    return results_df"
   ]
  },
  {
   "cell_type": "code",
   "execution_count": 30,
   "id": "0003be9d-a783-4881-b910-a17e37272a16",
   "metadata": {},
   "outputs": [],
   "source": [
    "# Create dataframes showing length of the segments and the travel time over the segments\n",
    "df01_timeLength = time_and_length(df01)\n",
    "df02_timeLength = time_and_length(df02)\n",
    "df03_timeLength = time_and_length(df03)\n",
    "df04_timeLength = time_and_length(df04)\n",
    "df05_timeLength = time_and_length(df05)"
   ]
  },
  {
   "cell_type": "code",
   "execution_count": 31,
   "id": "8903d6b0-a104-478b-abbc-c3c13b4c6aba",
   "metadata": {},
   "outputs": [],
   "source": [
    "# Concatenate teh dataframes\n",
    "timeLength = pd.concat([df01_timeLength, df02_timeLength, df03_timeLength, df04_timeLength, df05_timeLength])\n",
    "\n",
    "# Reorder the columns\n",
    "timeLength = timeLength[['segment_length_(miles)', '50_ttp_minutes', '95_ttp_minutes']]"
   ]
  },
  {
   "cell_type": "code",
   "execution_count": 32,
   "id": "67298c50-c421-401a-acbc-e3fac6eb4f28",
   "metadata": {},
   "outputs": [],
   "source": [
    "# Resetting index to make sure it's unique\n",
    "Results.reset_index(drop=True, inplace=True)\n",
    "timeLength.reset_index(drop=True, inplace=True)\n",
    "\n",
    "# Join dataframes\n",
    "results_joined = Results.join(timeLength)\n",
    "\n",
    "# Reorder the columns\n",
    "results_joined = results_joined[['city', 'ATTRI', 'segment_length_(miles)', 'MPH_50th_Percentile_results', '50_ttp_minutes', 'MPH_95th_Percentile_results', '95_ttp_minutes']]"
   ]
  },
  {
   "cell_type": "code",
   "execution_count": 33,
   "id": "ef3adbf8-9a2f-4ab6-923d-22c25540b58b",
   "metadata": {},
   "outputs": [],
   "source": [
    "# Create a function to plot the results\n",
    "def plot_length(df):\n",
    "    \"\"\"\n",
    "    Plot a DataFrame with two columns on a bar chart\n",
    "    \n",
    "    Parameters:\n",
    "    df (pandas.DataFrame): The DataFrame containing the data to be plotted.\n",
    "    \"\"\"\n",
    "    # plot the data\n",
    "    df.plot(kind='bar', x='city', y='segment_length_(miles)', legend=False)\n",
    "    \n",
    "    # Set plot title and labels\n",
    "    plt.title('Segment Length Miles')\n",
    "    plt.xlabel('City')\n",
    "    plt.ylabel('Miles')\n",
    "    \n",
    "    # Show the plot\n",
    "    plt.show()\n",
    "\n",
    "# Create a function to plot the results\n",
    "def plot_time_50(df):\n",
    "    \"\"\"\n",
    "    Plot a DataFrame with two columns on a bar chart\n",
    "    \n",
    "    Parameters:\n",
    "    df (pandas.DataFrame): The DataFrame containing the data to be plotted.\n",
    "    \"\"\"\n",
    "    # plot the data\n",
    "    df.plot(kind='bar', x='city', y='MPH_50th_Percentile_results', legend=False)\n",
    "    \n",
    "    # Set plot title and labels\n",
    "    plt.title('50_ttp_minutes')\n",
    "    plt.xlabel('City')\n",
    "    plt.ylabel('Time (Minutes)')\n",
    "    \n",
    "    # Show the plot\n",
    "    plt.show()    "
   ]
  },
  {
   "cell_type": "code",
   "execution_count": 34,
   "id": "f0b28656-3dec-4697-9789-1fc12cbe42ab",
   "metadata": {},
   "outputs": [
    {
     "data": {
      "image/png": "[encoded data removed]",
      "text/plain": [
       "<Figure size 640x480 with 1 Axes>"
      ]
     },
     "metadata": {},
     "output_type": "display_data"
    }
   ],
   "source": [
    "# Display a bar chart of the ATTRI\n",
    "plot_df_attri(attri)"
   ]
  },
  {
   "cell_type": "code",
   "execution_count": 35,
   "id": "3e05834a-7cbf-422d-adf9-aca4061fedce",
   "metadata": {},
   "outputs": [
    {
     "data": {
      "image/png": "[encoded data removed]",
      "text/plain": [
       "<Figure size 640x480 with 1 Axes>"
      ]
     },
     "metadata": {},
     "output_type": "display_data"
    }
   ],
   "source": [
    "# Display a bar chart showing the length of the corridors\n",
    "plot_length(results_joined)"
   ]
  },
  {
   "cell_type": "code",
   "execution_count": 36,
   "id": "2335919e-fed9-4ea7-8ade-dba9adc00f6f",
   "metadata": {},
   "outputs": [],
   "source": [
    "# Create a function to visualize the 50th and 95th percentiles\n",
    "def plot_results_both_minutes(df):\n",
    "    \"\"\"\n",
    "    Plot totals for both the 50th and 95th MPH percentiles.\n",
    "    \n",
    "    Parameters:\n",
    "        df (Pandas.DataFrame): The DataFrame containing the data to be plotted.\n",
    "    \"\"\"\n",
    "    \n",
    "    # Set the number of categories\n",
    "    num_categories = 2\n",
    "    \n",
    "    # Set bar width\n",
    "    bar_width = 0.35\n",
    "    \n",
    "    # Set x locations for the groups\n",
    "    index = np.arange(len(df))\n",
    "    \n",
    "    # Plot bars for '50th Percentile'\n",
    "    plt.bar(index, df['50_ttp_minutes'], bar_width, label='50th Percentile Time (minutes)')\n",
    "    \n",
    "    # Plot bars for '95th Percentile'\n",
    "    plt.bar(index + bar_width, df['95_ttp_minutes'], bar_width, label='95th Percentile Time (minutes)')\n",
    "    \n",
    "    # Set plot title and labels\n",
    "    plt.title('Travel Time Reliability Index Time Results (Minutes)')\n",
    "    plt.xlabel('City')\n",
    "    plt.ylabel('Minutes')\n",
    "    plt.xticks(index + bar_width /2, df['city'])\n",
    "    \n",
    "    # Display legend\n",
    "    plt.legend()\n",
    "    \n",
    "    # Show the plot\n",
    "    plt.show()"
   ]
  },
  {
   "cell_type": "code",
   "execution_count": 37,
   "id": "784efcd9-cfce-4955-98c4-4d2aafb5537e",
   "metadata": {},
   "outputs": [
    {
     "data": {
      "image/png": "[encoded data removed]",
      "text/plain": [
       "<Figure size 640x480 with 1 Axes>"
      ]
     },
     "metadata": {},
     "output_type": "display_data"
    }
   ],
   "source": [
    "# Show the time for the 50th Percentile in Minutes\n",
    "plot_results_both_minutes(results_joined)"
   ]
  },
  {
   "cell_type": "code",
   "execution_count": 38,
   "id": "1a901cb9-4c04-4847-ad24-38f432ddf18b",
   "metadata": {},
   "outputs": [
    {
     "data": {
      "image/png": "[encoded data removed]",
      "text/plain": [
       "<Figure size 640x480 with 1 Axes>"
      ]
     },
     "metadata": {},
     "output_type": "display_data"
    }
   ],
   "source": [
    "# Show the MPH results in a bar chart\n",
    "plot_results_both(MPH_results)"
   ]
  },
  {
   "cell_type": "code",
   "execution_count": 39,
   "id": "85fbff53-da14-43bf-a1ff-fc0b2dd74594",
   "metadata": {},
   "outputs": [],
   "source": [
    "results_joined.to_parquet(f'{GCS_PATH}streetlight_results.parquet')"
   ]
  },
  {
   "cell_type": "code",
   "execution_count": 40,
   "id": "07cf49a7-33f6-4699-aa1e-094c8a88b12c",
   "metadata": {},
   "outputs": [
    {
     "data": {
      "text/html": [
       "<div>\n",
       "<style scoped>\n",
       "    .dataframe tbody tr th:only-of-type {\n",
       "        vertical-align: middle;\n",
       "    }\n",
       "\n",
       "    .dataframe tbody tr th {\n",
       "        vertical-align: top;\n",
       "    }\n",
       "\n",
       "    .dataframe thead th {\n",
       "        text-align: right;\n",
       "    }\n",
       "</style>\n",
       "<table border=\"1\" class=\"dataframe\">\n",
       "  <thead>\n",
       "    <tr style=\"text-align: right;\">\n",
       "      <th></th>\n",
       "      <th>city</th>\n",
       "      <th>ATTRI</th>\n",
       "      <th>segment_length_(miles)</th>\n",
       "      <th>MPH_50th_Percentile_results</th>\n",
       "      <th>50_ttp_minutes</th>\n",
       "      <th>MPH_95th_Percentile_results</th>\n",
       "      <th>95_ttp_minutes</th>\n",
       "    </tr>\n",
       "  </thead>\n",
       "  <tbody>\n",
       "    <tr>\n",
       "      <th>0</th>\n",
       "      <td>Napa</td>\n",
       "      <td>2.137685</td>\n",
       "      <td>17.765</td>\n",
       "      <td>33.483770</td>\n",
       "      <td>31.833333</td>\n",
       "      <td>12.803604</td>\n",
       "      <td>83.250000</td>\n",
       "    </tr>\n",
       "    <tr>\n",
       "      <th>1</th>\n",
       "      <td>Solano</td>\n",
       "      <td>2.057293</td>\n",
       "      <td>6.746</td>\n",
       "      <td>37.077252</td>\n",
       "      <td>10.916667</td>\n",
       "      <td>17.662255</td>\n",
       "      <td>22.916667</td>\n",
       "    </tr>\n",
       "    <tr>\n",
       "      <th>2</th>\n",
       "      <td>Sacramento</td>\n",
       "      <td>1.678837</td>\n",
       "      <td>11.767</td>\n",
       "      <td>39.405767</td>\n",
       "      <td>17.916667</td>\n",
       "      <td>18.702517</td>\n",
       "      <td>37.750000</td>\n",
       "    </tr>\n",
       "    <tr>\n",
       "      <th>3</th>\n",
       "      <td>Clovis</td>\n",
       "      <td>2.371952</td>\n",
       "      <td>7.551</td>\n",
       "      <td>29.229677</td>\n",
       "      <td>15.500000</td>\n",
       "      <td>10.435163</td>\n",
       "      <td>43.416667</td>\n",
       "    </tr>\n",
       "    <tr>\n",
       "      <th>4</th>\n",
       "      <td>Los Angeles</td>\n",
       "      <td>2.063605</td>\n",
       "      <td>17.181</td>\n",
       "      <td>22.369476</td>\n",
       "      <td>46.083333</td>\n",
       "      <td>10.139607</td>\n",
       "      <td>101.666667</td>\n",
       "    </tr>\n",
       "  </tbody>\n",
       "</table>\n",
       "</div>"
      ],
      "text/plain": [
       "          city     ATTRI  segment_length_(miles)  MPH_50th_Percentile_results  \\\n",
       "0         Napa  2.137685                  17.765                    33.483770   \n",
       "1       Solano  2.057293                   6.746                    37.077252   \n",
       "2   Sacramento  1.678837                  11.767                    39.405767   \n",
       "3       Clovis  2.371952                   7.551                    29.229677   \n",
       "4  Los Angeles  2.063605                  17.181                    22.369476   \n",
       "\n",
       "   50_ttp_minutes  MPH_95th_Percentile_results  95_ttp_minutes  \n",
       "0       31.833333                    12.803604       83.250000  \n",
       "1       10.916667                    17.662255       22.916667  \n",
       "2       17.916667                    18.702517       37.750000  \n",
       "3       15.500000                    10.435163       43.416667  \n",
       "4       46.083333                    10.139607      101.666667  "
      ]
     },
     "execution_count": 40,
     "metadata": {},
     "output_type": "execute_result"
    }
   ],
   "source": [
    "results_joined"
   ]
  }
 ],
 "metadata": {
  "kernelspec": {
   "display_name": "Python 3 (ipykernel)",
   "language": "python",
   "name": "python3"
  },
  "language_info": {
   "codemirror_mode": {
    "name": "ipython",
    "version": 3
   },
   "file_extension": ".py",
   "mimetype": "text/x-python",
   "name": "python",
   "nbconvert_exporter": "python",
   "pygments_lexer": "ipython3",
   "version": "3.9.13"
  },
  "widgets": {
   "application/vnd.jupyter.widget-state+json": {
    "state": {},
    "version_major": 2,
    "version_minor": 0
   }
  }
 },
 "nbformat": 4,
 "nbformat_minor": 5
}
