{
 "cells": [
  {
   "cell_type": "code",
   "execution_count": 29,
   "id": "fc6cadbc-e667-44cf-b5f1-32542d86eed8",
   "metadata": {},
   "outputs": [],
   "source": [
    "import os\n",
    "os.environ[\"CALITP_BQ_MAX_BYTES\"] = str(1_000_000_000_000) ## 1TB?\n",
    "\n",
    "import pandas as pd\n",
    "import geopandas as gpd\n",
    "from siuba import *\n",
    "import json"
   ]
  },
  {
   "cell_type": "markdown",
   "id": "1dbd5682-18f7-4336-82c1-d5f15e9baa7d",
   "metadata": {},
   "source": [
    "# Basic Paths Parse"
   ]
  },
  {
   "cell_type": "code",
   "execution_count": 23,
   "id": "20d9cc48-8ed1-433b-a5a4-b8a2a253ce8e",
   "metadata": {},
   "outputs": [],
   "source": [
    "array_cols = ['routes', 'boardStops', 'alightStops',\n",
    "       'rideTimes', 'waitTimes', 'feedIds']\n",
    "\n",
    "def unpack_conveyal_path_df(df, array_cols = array_cols):\n",
    "    \n",
    "    for col in array_cols:\n",
    "        df.loc[:,col] = df[col].map(lambda x: x.split('|'))\n",
    "    return df"
   ]
  },
  {
   "cell_type": "code",
   "execution_count": 25,
   "id": "c158d6a0-0aa9-4185-bab5-092fa1e5ab7e",
   "metadata": {},
   "outputs": [
    {
     "data": {
      "text/html": [
       "<div>\n",
       "<style scoped>\n",
       "    .dataframe tbody tr th:only-of-type {\n",
       "        vertical-align: middle;\n",
       "    }\n",
       "\n",
       "    .dataframe tbody tr th {\n",
       "        vertical-align: top;\n",
       "    }\n",
       "\n",
       "    .dataframe thead th {\n",
       "        text-align: right;\n",
       "    }\n",
       "</style>\n",
       "<table border=\"1\" class=\"dataframe\">\n",
       "  <thead>\n",
       "    <tr style=\"text-align: right;\">\n",
       "      <th></th>\n",
       "      <th>origin</th>\n",
       "      <th>destination</th>\n",
       "      <th>routes</th>\n",
       "      <th>boardStops</th>\n",
       "      <th>alightStops</th>\n",
       "      <th>feedIds</th>\n",
       "      <th>rideTimes</th>\n",
       "      <th>accessTime</th>\n",
       "      <th>egressTime</th>\n",
       "      <th>transferTime</th>\n",
       "      <th>waitTimes</th>\n",
       "      <th>totalTime</th>\n",
       "      <th>nIterations</th>\n",
       "    </tr>\n",
       "  </thead>\n",
       "  <tbody>\n",
       "    <tr>\n",
       "      <th>11</th>\n",
       "      <td>0</td>\n",
       "      <td>1</td>\n",
       "      <td>[209-13168, 804, 805, 90-13168, 96-13168]</td>\n",
       "      <td>[141078, 80128, 80211, 12102, 3611]</td>\n",
       "      <td>[2489, 80122, 80213, 3611, 1574]</td>\n",
       "      <td>[654404a5dad1a760f30e340d, 654404b9dad1a760f30...</td>\n",
       "      <td>[14.0, 18.0, 2.0, 3.0, 46.0]</td>\n",
       "      <td>8.6</td>\n",
       "      <td>7.2</td>\n",
       "      <td>2.3</td>\n",
       "      <td>[1.4, 4.3, 1.5, 1.9, 2.0]</td>\n",
       "      <td>112.2</td>\n",
       "      <td>2</td>\n",
       "    </tr>\n",
       "    <tr>\n",
       "      <th>12</th>\n",
       "      <td>0</td>\n",
       "      <td>1</td>\n",
       "      <td>[108-13168, 910-13168, 802, 94-13168]</td>\n",
       "      <td>[7962, 2322, 80211, 30001]</td>\n",
       "      <td>[1539, 65300042, 80201, 11812]</td>\n",
       "      <td>[654404a5dad1a760f30e340d, 654404a5dad1a760f30...</td>\n",
       "      <td>[15.0, 12.0, 26.0, 20.0]</td>\n",
       "      <td>1.4</td>\n",
       "      <td>3.8</td>\n",
       "      <td>9.8</td>\n",
       "      <td>[1.6, 5.3, 2.4, 5.4]</td>\n",
       "      <td>102.8</td>\n",
       "      <td>56</td>\n",
       "    </tr>\n",
       "    <tr>\n",
       "      <th>13</th>\n",
       "      <td>0</td>\n",
       "      <td>1</td>\n",
       "      <td>[108-13168, 910-13168, 802, 3163, 164-13168]</td>\n",
       "      <td>[7963, 2322, 80211, 3068903, 16428]</td>\n",
       "      <td>[1539, 65300042, 80201, 3068909, 11812]</td>\n",
       "      <td>[654404a5dad1a760f30e340d, 654404a5dad1a760f30...</td>\n",
       "      <td>[16.0, 12.0, 26.0, 12.0, 8.0]</td>\n",
       "      <td>1.3</td>\n",
       "      <td>3.8</td>\n",
       "      <td>10.5</td>\n",
       "      <td>[1.7, 5.3, 4.4, 4.6, 2.1]</td>\n",
       "      <td>107.8</td>\n",
       "      <td>18</td>\n",
       "    </tr>\n",
       "  </tbody>\n",
       "</table>\n",
       "</div>"
      ],
      "text/plain": [
       "    origin  destination                                        routes  \\\n",
       "11       0            1     [209-13168, 804, 805, 90-13168, 96-13168]   \n",
       "12       0            1         [108-13168, 910-13168, 802, 94-13168]   \n",
       "13       0            1  [108-13168, 910-13168, 802, 3163, 164-13168]   \n",
       "\n",
       "                             boardStops  \\\n",
       "11  [141078, 80128, 80211, 12102, 3611]   \n",
       "12           [7962, 2322, 80211, 30001]   \n",
       "13  [7963, 2322, 80211, 3068903, 16428]   \n",
       "\n",
       "                                alightStops  \\\n",
       "11         [2489, 80122, 80213, 3611, 1574]   \n",
       "12           [1539, 65300042, 80201, 11812]   \n",
       "13  [1539, 65300042, 80201, 3068909, 11812]   \n",
       "\n",
       "                                              feedIds  \\\n",
       "11  [654404a5dad1a760f30e340d, 654404b9dad1a760f30...   \n",
       "12  [654404a5dad1a760f30e340d, 654404a5dad1a760f30...   \n",
       "13  [654404a5dad1a760f30e340d, 654404a5dad1a760f30...   \n",
       "\n",
       "                        rideTimes  accessTime  egressTime  transferTime  \\\n",
       "11   [14.0, 18.0, 2.0, 3.0, 46.0]         8.6         7.2           2.3   \n",
       "12       [15.0, 12.0, 26.0, 20.0]         1.4         3.8           9.8   \n",
       "13  [16.0, 12.0, 26.0, 12.0, 8.0]         1.3         3.8          10.5   \n",
       "\n",
       "                    waitTimes  totalTime  nIterations  \n",
       "11  [1.4, 4.3, 1.5, 1.9, 2.0]      112.2            2  \n",
       "12       [1.6, 5.3, 2.4, 5.4]      102.8           56  \n",
       "13  [1.7, 5.3, 4.4, 4.6, 2.1]      107.8           18  "
      ]
     },
     "execution_count": 25,
     "metadata": {},
     "output_type": "execute_result"
    }
   ],
   "source": [
    "df = pd.read_csv('./la/6643b1ec46ade8368e2cb698_PATHS.csv')\n",
    "# df.index.rename('rider_trip_id', inplace=True)\n",
    "df = (df >> filter(_.origin == 0, _.destination == 1)\n",
    "         >> select(-_.group)\n",
    "     )\n",
    "df = unpack_conveyal_path_df(df)\n",
    "# df = df.dropna() #  remove same o/d\n",
    "df >> head(3)"
   ]
  },
  {
   "cell_type": "markdown",
   "id": "5fe3b537-f981-48b3-b53c-019d8a317926",
   "metadata": {},
   "source": [
    "# Conveyal bundle-feed matching"
   ]
  },
  {
   "cell_type": "code",
   "execution_count": 26,
   "id": "9a0ad386-ccb9-4bb3-a5d9-3cffc53ad9b8",
   "metadata": {},
   "outputs": [],
   "source": [
    "bundle_url = 'https://analysis.conveyal.com/regions/635602532d6ff920d83ff32a/bundles/6544044adad1a760f30e33de'"
   ]
  },
  {
   "cell_type": "code",
   "execution_count": 27,
   "id": "965006fb-e842-4922-9b24-63dd000d3712",
   "metadata": {},
   "outputs": [],
   "source": [
    "bundle_url_uuid = lambda x: x.split('/')[-1]"
   ]
  },
  {
   "cell_type": "code",
   "execution_count": 28,
   "id": "bc3c2cd4-86ec-46f9-af77-991c9a9b4bce",
   "metadata": {},
   "outputs": [
    {
     "data": {
      "text/plain": [
       "'6544044adad1a760f30e33de'"
      ]
     },
     "execution_count": 28,
     "metadata": {},
     "output_type": "execute_result"
    }
   ],
   "source": [
    "bundle_url_uuid(bundle_url)"
   ]
  },
  {
   "cell_type": "code",
   "execution_count": 30,
   "id": "51a8fbfb-9f22-422f-af1c-e2d7edb08a99",
   "metadata": {},
   "outputs": [],
   "source": [
    "with open('bundles.json') as f:\n",
    "    bundle_json = json.loads(f.read())"
   ]
  },
  {
   "cell_type": "code",
   "execution_count": 33,
   "id": "f0198acd-9d5e-4811-a793-604685755290",
   "metadata": {},
   "outputs": [],
   "source": [
    "matched_bundle = [bundle for bundle in bundle_json if bundle['_id'] == bundle_url_uuid(bundle_url)][0]"
   ]
  },
  {
   "cell_type": "code",
   "execution_count": 35,
   "id": "df27507f-19b6-404b-92dc-60f72d41ec61",
   "metadata": {},
   "outputs": [],
   "source": [
    "#  ['feeds'][{'feedId'...}...]\n",
    "# matched_bundle"
   ]
  }
 ],
 "metadata": {
  "kernelspec": {
   "display_name": "Python 3 (ipykernel)",
   "language": "python",
   "name": "python3"
  },
  "language_info": {
   "codemirror_mode": {
    "name": "ipython",
    "version": 3
   },
   "file_extension": ".py",
   "mimetype": "text/x-python",
   "name": "python",
   "nbconvert_exporter": "python",
   "pygments_lexer": "ipython3",
   "version": "3.9.13"
  },
  "widgets": {
   "application/vnd.jupyter.widget-state+json": {
    "state": {},
    "version_major": 2,
    "version_minor": 0
   }
  }
 },
 "nbformat": 4,
 "nbformat_minor": 5
}
