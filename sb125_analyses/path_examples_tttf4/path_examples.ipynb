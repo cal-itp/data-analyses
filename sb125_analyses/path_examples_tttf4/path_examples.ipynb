{
 "cells": [
  {
   "cell_type": "code",
   "execution_count": null,
   "id": "b8eb5db7-eb2d-4846-8a6e-dbd9e9ab0a6a",
   "metadata": {},
   "outputs": [],
   "source": [
    "import os\n",
    "os.environ[\"CALITP_BQ_MAX_BYTES\"] = str(1_000_000_000_000) ## 1TB?\n",
    "\n",
    "import pandas as pd\n",
    "import numpy as np\n",
    "import geopandas as gpd\n",
    "from siuba import *\n",
    "import json\n",
    "\n",
    "import shared_utils\n",
    "import warnings\n",
    "from path_example_vars import GCS_PATH\n",
    "\n",
    "import conveyal_path_utils\n",
    "import branca"
   ]
  },
  {
   "cell_type": "code",
   "execution_count": null,
   "id": "d5252884-df74-4247-a6b9-ec8faffc3cdc",
   "metadata": {},
   "outputs": [],
   "source": [
    "from shapely.ops import split, substring, LineString\n",
    "from calitp_data_analysis import geography_utils\n",
    "from IPython.display import Markdown"
   ]
  },
  {
   "cell_type": "code",
   "execution_count": null,
   "id": "af9c0837-d5c8-44f3-9d1a-7893a0b58070",
   "metadata": {},
   "outputs": [],
   "source": [
    "import importlib"
   ]
  },
  {
   "cell_type": "code",
   "execution_count": null,
   "id": "638f017d-080b-425f-861f-060f918dcc87",
   "metadata": {},
   "outputs": [],
   "source": [
    "importlib.reload(conveyal_path_utils)"
   ]
  },
  {
   "cell_type": "code",
   "execution_count": null,
   "id": "170b90dd-8c9f-49b9-a3e5-4f71fc3ef3d3",
   "metadata": {},
   "outputs": [],
   "source": [
    "ratio_cmap = branca.colormap.step.Spectral_05\n",
    "ratio_cmap.colors.reverse() #  note this modifies inplace\n",
    "ratio_cmap = ratio_cmap.scale(vmin=1, vmax=3)"
   ]
  },
  {
   "cell_type": "code",
   "execution_count": null,
   "id": "5564761d-f2f2-4752-8485-7fac66ae2b38",
   "metadata": {},
   "outputs": [],
   "source": [
    "xfer_cmap = branca.colormap.step.Spectral_04\n",
    "xfer_cmap.colors.reverse() #  note this modifies inplace\n",
    "xfer_cmap = xfer_cmap.scale(vmin=0, vmax=4)"
   ]
  },
  {
   "cell_type": "markdown",
   "id": "9b97c5ba-55c7-41b0-a6c4-a05dc81234bd",
   "metadata": {},
   "source": [
    "# Conveyal Transit Paths\n",
    "\n",
    "* GH Issue: https://github.com/cal-itp/data-analyses/issues/1098\n",
    "\n",
    "## Conveyal SOP\n",
    "\n",
    "* prepare a csv with lat, lon, and od column with 0 for origin and 1 for destination\n",
    "    * allow freeform, use od col as id in upload\n",
    "* run Conveyal Analysis: 8-10am, standard transit parameters, add JSON feed_id param\n",
    "* run Regional Analysis: 120min max time, 5, 50, 95 %ile, get paths and travel times\n",
    "\n",
    "## Metrics\n",
    "\n",
    "* modal trip by n_iterations (most available trip) (how fast is it, how many xfers, fares?)\n",
    "* fastest trip (how available?, fares?, xfer count?)\n",
    "* fewest xfer trip (how fast, how available, fares?)\n",
    "\n",
    "## Visuals??"
   ]
  },
  {
   "cell_type": "code",
   "execution_count": null,
   "id": "0735790d-37b0-44cf-a21a-e1bf62a8454e",
   "metadata": {},
   "outputs": [],
   "source": [
    "#  TODO make parameter cell\n",
    "\n",
    "region = 'napa'\n",
    "region"
   ]
  },
  {
   "cell_type": "code",
   "execution_count": null,
   "id": "11dd9ee9-c116-41f4-9a4f-c89260ab7309",
   "metadata": {},
   "outputs": [],
   "source": [
    "regions = ['la', 'sac', 'clovis', 'napa', 'solano']\n",
    "assert region in regions\n",
    "region_human = ['Los Angeles', 'Sacramento', 'Clovis', 'Napa', 'Solano']\n",
    "region_human = dict(zip(regions, region_human))"
   ]
  },
  {
   "cell_type": "code",
   "execution_count": null,
   "id": "0a0893e3-4c8b-4488-a2db-3190b37d2335",
   "metadata": {},
   "outputs": [],
   "source": [
    "display(Markdown(f'## {region_human[region]}'))"
   ]
  },
  {
   "cell_type": "code",
   "execution_count": null,
   "id": "ebd6b220-0039-4144-a4c0-2b3380fdb938",
   "metadata": {},
   "outputs": [],
   "source": [
    "auto_df = pd.read_parquet(f'{GCS_PATH}streetlight_results.parquet')"
   ]
  },
  {
   "cell_type": "code",
   "execution_count": null,
   "id": "6a9d5e6e-03ba-4bcc-bd33-bd261b50420a",
   "metadata": {},
   "outputs": [],
   "source": [
    "# auto_df.city = auto_df.city.str.replace('Solano', 'Sonoma')\n",
    "auto_df.set_index('city', drop=True, inplace=True)"
   ]
  },
  {
   "cell_type": "code",
   "execution_count": null,
   "id": "f3bcacd4-ca16-43a3-afc4-f28f79ab073f",
   "metadata": {},
   "outputs": [],
   "source": [
    "car_p50_time = auto_df.loc[region_human[region], '50_ttp_minutes']\n",
    "if region == 'clovis':\n",
    "    car_p50_time = car_p50_time * 0.7 #  scale since transit route is shorter than planned"
   ]
  },
  {
   "cell_type": "code",
   "execution_count": null,
   "id": "6ceab131-502d-4818-ab1a-86c0fc44b726",
   "metadata": {},
   "outputs": [],
   "source": [
    "car_p50_time"
   ]
  },
  {
   "cell_type": "code",
   "execution_count": null,
   "id": "5d14e526-e60f-4c81-8dd7-0a04d3e20cf1",
   "metadata": {
    "tags": []
   },
   "outputs": [],
   "source": [
    "df = conveyal_path_utils.read_conveyal_path_df(f'{GCS_PATH}{region}_PATHS.csv')\n",
    "df >> head(3)"
   ]
  },
  {
   "cell_type": "code",
   "execution_count": null,
   "id": "d5015d1f-e653-4833-ad39-77b2dbb36b89",
   "metadata": {},
   "outputs": [],
   "source": [
    "df = conveyal_path_utils.add_warehouse_identifiers(df)"
   ]
  },
  {
   "cell_type": "markdown",
   "id": "b9f43ea4-1833-4cbb-9db5-fc2b559986fb",
   "metadata": {},
   "source": [
    "### Get warehouse data"
   ]
  },
  {
   "cell_type": "code",
   "execution_count": null,
   "id": "7d602732-84db-40a9-9e80-1e98b78244b9",
   "metadata": {},
   "outputs": [],
   "source": [
    "warehouse_data = conveyal_path_utils.get_warehouse_data(df)"
   ]
  },
  {
   "cell_type": "markdown",
   "id": "8c9e4fff-45f1-4849-95c9-fe14c1f29b80",
   "metadata": {},
   "source": [
    "### Map"
   ]
  },
  {
   "cell_type": "code",
   "execution_count": null,
   "id": "67b7969a-3c7a-46a5-a569-4c8a25008b71",
   "metadata": {},
   "outputs": [],
   "source": [
    "importlib.reload(conveyal_path_utils)"
   ]
  },
  {
   "cell_type": "code",
   "execution_count": null,
   "id": "bf581e00-2b1e-4979-8730-b4d426dc90a3",
   "metadata": {},
   "outputs": [],
   "source": [
    "with warnings.catch_warnings():\n",
    "    warnings.simplefilter(\"ignore\")\n",
    "    spatial_routes = conveyal_path_utils.compile_all_spatial_routes(df, warehouse_data, verbose=True)"
   ]
  },
  {
   "cell_type": "code",
   "execution_count": null,
   "id": "643b6d53-b92c-49a5-b961-5ced0abb5b4b",
   "metadata": {},
   "outputs": [],
   "source": [
    "df"
   ]
  },
  {
   "cell_type": "code",
   "execution_count": null,
   "id": "7ad7814b-c446-4f66-a55e-9c29674ee7a7",
   "metadata": {},
   "outputs": [],
   "source": [
    "def map_trip_groups(spatial_routes: pd.DataFrame, which='trip_group_id'):\n",
    "    \n",
    "    col_list = ['trip_group_id', 'xfer_count', 'car_p50_ratio',\n",
    "                     'route_name']\n",
    "    cmaps = ['tab20', xfer_cmap, ratio_cmap, 'Accent'] #  TODO fixed scale for car ratio\n",
    "    cmaps = dict(zip(col_list, cmaps))\n",
    "    # display(cmaps)\n",
    "    assert which in col_list\n",
    "    display_list = ['optimal_pct', 'total_time', 'route_optimal_pct']\n",
    "    human_names = {col: col.replace('_', ' ').title() for col in col_list + display_list}\n",
    "    human_names['name'] = 'GTFS Feed Name'\n",
    "    map_routes = spatial_routes.copy() >> select(-_.trip_id, -_.route_short_name, -_.route_long_name,\n",
    "                                                         -_.stop_id, -_.stop_sequence, -_.stop_geom)\n",
    "    map_routes['car_p50_ratio'] = map_routes.total_time / car_p50_time\n",
    "    if which != 'route_name':\n",
    "        map_routes.segment_geom = map_routes.apply(lambda x: x.segment_geom.buffer(min(x.optimal_pct * 800, 500)), axis=1)\n",
    "        map_routes = map_routes >> arrange(-_.optimal_pct)\n",
    "    else:\n",
    "        route_grouped = (spatial_routes >> group_by(_.route_name, _.segment_geom, _.name)\n",
    "                            >> summarize(route_optimal_pct = _.optimal_pct.sum())\n",
    "                        )\n",
    "        route_grouped.segment_geom = route_grouped.apply(lambda x: x.segment_geom.buffer(min(x.route_optimal_pct * 800, 500)), axis=1)\n",
    "        route_grouped = route_grouped >> arrange(-_.route_optimal_pct)\n",
    "        map_routes = gpd.GeoDataFrame(route_grouped, geometry='segment_geom', crs=geography_utils.CA_NAD83Albers).round(2)\n",
    "\n",
    "    map_routes = map_routes.rename(columns=human_names).round(2).fillna('none') # needed for explore to work?\n",
    "    # return(map_routes)\n",
    "    return map_routes.explore(column = human_names[which], cmap=cmaps[which], tiles=\"CartoDB positron\")"
   ]
  },
  {
   "cell_type": "code",
   "execution_count": null,
   "id": "67e2dedb-e926-4a89-af17-ab5acac50513",
   "metadata": {},
   "outputs": [],
   "source": [
    "map_trip_groups(spatial_routes, 'trip_group_id')"
   ]
  },
  {
   "cell_type": "code",
   "execution_count": null,
   "id": "6d0f9cd0-a561-40ac-a88e-ebc2b2b046e6",
   "metadata": {},
   "outputs": [],
   "source": [
    "map_trip_groups(spatial_routes, 'car_p50_ratio')"
   ]
  },
  {
   "cell_type": "code",
   "execution_count": null,
   "id": "fbf37f19-7934-4d15-9261-2f9fdd984ec1",
   "metadata": {},
   "outputs": [],
   "source": [
    "map_trip_groups(spatial_routes, 'route_name')"
   ]
  },
  {
   "cell_type": "code",
   "execution_count": null,
   "id": "81a43369-36f3-458c-be28-0992deb6e368",
   "metadata": {},
   "outputs": [],
   "source": [
    "map_trip_groups(spatial_routes, 'xfer_count')"
   ]
  },
  {
   "cell_type": "markdown",
   "id": "d7f020c9-682a-4d91-89d5-4cbc44ecf9e1",
   "metadata": {
    "tags": []
   },
   "source": [
    "### LA Storytelling - infrequent regional rail TODO parameterize\n",
    "\n",
    "* only two usable trips for 8-10am departures from origin, at 10:41 (Metrolink) and 11:01 (Amtrak)"
   ]
  },
  {
   "cell_type": "code",
   "execution_count": null,
   "id": "54d76186-9091-4843-949d-9b205fc2eea4",
   "metadata": {},
   "outputs": [],
   "source": [
    "(warehouse_data['trips'] >> filter(_.route_id == 'Antelope Valley Line') >> arrange(_.trip_first_departure_ts))[:3]"
   ]
  },
  {
   "cell_type": "code",
   "execution_count": null,
   "id": "eacd81d8-edfd-4c19-9bcc-bdf581d52a81",
   "metadata": {
    "tags": []
   },
   "outputs": [],
   "source": [
    "(warehouse_data['trips'] >> filter(_.route_id == '78') >> arrange(_.trip_first_departure_ts))[:3]"
   ]
  },
  {
   "cell_type": "markdown",
   "id": "5ecab307-24fc-4087-bda9-3d96fd32020a",
   "metadata": {
    "tags": []
   },
   "source": [
    "### Napa Storytelling - Amtrak Thruway is best trip, but actually only departs once\n",
    "\n",
    "* only one trip from Napa to Vallejo at 9:30!"
   ]
  },
  {
   "cell_type": "code",
   "execution_count": null,
   "id": "07608c17-f975-49f5-981a-890309061810",
   "metadata": {
    "tags": []
   },
   "outputs": [],
   "source": [
    "thruway_ids = warehouse_data['st'] >> filter(_.stop_id.isin(('NAP', 'VAL')))"
   ]
  },
  {
   "cell_type": "code",
   "execution_count": null,
   "id": "7ae94351-dfe6-44f5-a477-4a4ca075969a",
   "metadata": {},
   "outputs": [],
   "source": [
    "thruway_ids >> filter(_.stop_id == 'NAP') >> select(_.trip_id, _.stop_id, _.departure_time)"
   ]
  }
 ],
 "metadata": {
  "kernelspec": {
   "display_name": "Python 3 (ipykernel)",
   "language": "python",
   "name": "python3"
  },
  "language_info": {
   "codemirror_mode": {
    "name": "ipython",
    "version": 3
   },
   "file_extension": ".py",
   "mimetype": "text/x-python",
   "name": "python",
   "nbconvert_exporter": "python",
   "pygments_lexer": "ipython3",
   "version": "3.9.13"
  },
  "widgets": {
   "application/vnd.jupyter.widget-state+json": {
    "state": {},
    "version_major": 2,
    "version_minor": 0
   }
  }
 },
 "nbformat": 4,
 "nbformat_minor": 5
}
