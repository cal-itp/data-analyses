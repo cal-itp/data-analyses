{
 "cells": [
  {
   "cell_type": "code",
   "execution_count": 1,
   "id": "b8eb5db7-eb2d-4846-8a6e-dbd9e9ab0a6a",
   "metadata": {},
   "outputs": [],
   "source": [
    "%%capture\n",
    "\n",
    "import os\n",
    "os.environ[\"CALITP_BQ_MAX_BYTES\"] = str(1_000_000_000_000) ## 1TB?\n",
    "import warnings\n",
    "warnings.filterwarnings('ignore')\n",
    "import calitp_data_analysis.magics\n",
    "\n",
    "import pandas as pd\n",
    "import numpy as np\n",
    "import geopandas as gpd\n",
    "from siuba import *\n",
    "import json\n",
    "\n",
    "import shared_utils\n",
    "import warnings\n",
    "from path_example_vars import GCS_PATH\n",
    "\n",
    "import conveyal_path_utils\n",
    "import branca"
   ]
  },
  {
   "cell_type": "code",
   "execution_count": 2,
   "id": "d5252884-df74-4247-a6b9-ec8faffc3cdc",
   "metadata": {},
   "outputs": [],
   "source": [
    "from shapely.ops import split, substring, LineString\n",
    "from calitp_data_analysis import geography_utils\n",
    "from IPython.display import Markdown"
   ]
  },
  {
   "cell_type": "code",
   "execution_count": 3,
   "id": "170b90dd-8c9f-49b9-a3e5-4f71fc3ef3d3",
   "metadata": {},
   "outputs": [],
   "source": [
    "ratio_cmap = branca.colormap.step.Spectral_05\n",
    "ratio_cmap.colors.reverse() #  note this modifies inplace\n",
    "ratio_cmap = ratio_cmap.scale(vmin=1, vmax=3)\n",
    "ratio_cmap.caption = 'Transit/Auto Travel Time Ratio'"
   ]
  },
  {
   "cell_type": "code",
   "execution_count": 4,
   "id": "5564761d-f2f2-4752-8485-7fac66ae2b38",
   "metadata": {},
   "outputs": [],
   "source": [
    "xfer_cmap = branca.colormap.step.Spectral_04\n",
    "xfer_cmap.colors.reverse() #  note this modifies inplace\n",
    "xfer_cmap = xfer_cmap.scale(vmin=0, vmax=4)\n",
    "xfer_cmap.caption = 'Number of Transfers'"
   ]
  },
  {
   "cell_type": "code",
   "execution_count": 5,
   "id": "0735790d-37b0-44cf-a21a-e1bf62a8454e",
   "metadata": {
    "tags": [
     "parameters"
    ]
   },
   "outputs": [],
   "source": [
    "%%capture_parameters\n",
    "region = 'solano'\n",
    "region"
   ]
  },
  {
   "cell_type": "code",
   "execution_count": 6,
   "id": "11dd9ee9-c116-41f4-9a4f-c89260ab7309",
   "metadata": {},
   "outputs": [],
   "source": [
    "regions = ['la', 'sac', 'clovis', 'napa', 'solano']\n",
    "assert region in regions\n",
    "region_human = ['Los Angeles', 'Sacramento', 'Clovis', 'Napa', 'Solano']\n",
    "region_human = dict(zip(regions, region_human))"
   ]
  },
  {
   "cell_type": "code",
   "execution_count": 9,
   "id": "0a0893e3-4c8b-4488-a2db-3190b37d2335",
   "metadata": {},
   "outputs": [],
   "source": [
    "# display(Markdown(f'# {region_human[region]}'))"
   ]
  },
  {
   "cell_type": "markdown",
   "id": "b6382ba0-5d61-4a16-ad92-1a40d15a17fb",
   "metadata": {},
   "source": [
    "# {region}"
   ]
  },
  {
   "cell_type": "code",
   "execution_count": 8,
   "id": "ebd6b220-0039-4144-a4c0-2b3380fdb938",
   "metadata": {},
   "outputs": [],
   "source": [
    "auto_df = pd.read_parquet(f'{GCS_PATH}streetlight_results.parquet')"
   ]
  },
  {
   "cell_type": "code",
   "execution_count": null,
   "id": "6a9d5e6e-03ba-4bcc-bd33-bd261b50420a",
   "metadata": {},
   "outputs": [],
   "source": [
    "# auto_df.city = auto_df.city.str.replace('Solano', 'Sonoma')\n",
    "auto_df.set_index('city', drop=True, inplace=True)"
   ]
  },
  {
   "cell_type": "code",
   "execution_count": null,
   "id": "f3bcacd4-ca16-43a3-afc4-f28f79ab073f",
   "metadata": {},
   "outputs": [],
   "source": [
    "car_p50_time = auto_df.loc[region_human[region], '50_ttp_minutes']\n",
    "if region == 'clovis':\n",
    "    car_p50_time = car_p50_time * 0.7 #  scale since transit route is shorter than planned"
   ]
  },
  {
   "cell_type": "code",
   "execution_count": null,
   "id": "6ceab131-502d-4818-ab1a-86c0fc44b726",
   "metadata": {},
   "outputs": [],
   "source": [
    "# car_p50_time"
   ]
  },
  {
   "cell_type": "code",
   "execution_count": null,
   "id": "e6554056-b928-43d1-81cc-eae9e758a363",
   "metadata": {},
   "outputs": [],
   "source": [
    "df = conveyal_path_utils.read_conveyal_path_df(f'{GCS_PATH}{region}_PATHS.csv')\n",
    "df = conveyal_path_utils.add_warehouse_identifiers(df)"
   ]
  },
  {
   "cell_type": "code",
   "execution_count": null,
   "id": "d46e566d-fb26-4785-9735-6ecb99fa9c32",
   "metadata": {},
   "outputs": [],
   "source": [
    "points = pd.read_csv(f'{GCS_PATH}{region}_points.csv')\n",
    "points = gpd.GeoDataFrame(points, geometry=gpd.points_from_xy(points.lon, points.lat)\n",
    "                          , crs=geography_utils.WGS84).to_crs(geography_utils.CA_NAD83Albers)\n",
    "points.geometry = points.buffer(100)"
   ]
  },
  {
   "cell_type": "code",
   "execution_count": null,
   "id": "30d3d95d-6781-4293-9c21-e9f8f5b184e7",
   "metadata": {
    "tags": []
   },
   "outputs": [],
   "source": [
    "#  get warehouse data\n",
    "warehouse_data = conveyal_path_utils.get_warehouse_data(df)\n",
    "spatial_routes = conveyal_path_utils.compile_all_spatial_routes(df, warehouse_data, verbose=False)"
   ]
  },
  {
   "cell_type": "code",
   "execution_count": null,
   "id": "7ad7814b-c446-4f66-a55e-9c29674ee7a7",
   "metadata": {},
   "outputs": [],
   "source": [
    "def map_trip_groups(spatial_routes: pd.DataFrame, points: gpd.GeoDataFrame, which='trip_group_id'):\n",
    "    \n",
    "    col_list = ['trip_group_id', 'xfer_count', 'car_p50_ratio',\n",
    "                     'route_name']\n",
    "    cmaps = ['tab20', xfer_cmap, ratio_cmap, 'tab20']\n",
    "    cmaps = dict(zip(col_list, cmaps))\n",
    "    # display(cmaps)\n",
    "    assert which in col_list\n",
    "    display_list = ['optimal_pct', 'total_time', 'route_optimal_pct']\n",
    "    human_names = {col: col.replace('_', ' ').title() for col in col_list + display_list}\n",
    "    human_names['name'] = 'GTFS Feed Name'\n",
    "    map_routes = spatial_routes.copy() >> select(-_.trip_id, -_.route_short_name, -_.route_long_name,\n",
    "                                                         -_.stop_id, -_.stop_sequence, -_.stop_geom)\n",
    "    map_routes['car_p50_ratio'] = map_routes.total_time / car_p50_time\n",
    "    if which != 'route_name':\n",
    "        map_routes.segment_geom = map_routes.apply(lambda x: x.segment_geom.buffer(min(x.optimal_pct * 800, 500)), axis=1)\n",
    "        map_routes = map_routes >> arrange(-_.optimal_pct)\n",
    "    else:\n",
    "        route_grouped = (spatial_routes >> group_by(_.route_name, _.segment_geom, _.name)\n",
    "                            >> summarize(route_optimal_pct = _.optimal_pct.sum())\n",
    "                        )\n",
    "        route_grouped.segment_geom = route_grouped.apply(lambda x: x.segment_geom.buffer(min(x.route_optimal_pct * 800, 500)), axis=1)\n",
    "        route_grouped = route_grouped >> arrange(-_.route_optimal_pct)\n",
    "        map_routes = gpd.GeoDataFrame(route_grouped, geometry='segment_geom', crs=geography_utils.CA_NAD83Albers).round(2)\n",
    "\n",
    "    map_routes = map_routes.rename(columns=human_names).round(2).fillna('none') # needed for explore to work?\n",
    "    # return(map_routes)\n",
    "    m = map_routes.explore(column = human_names[which], cmap=cmaps[which], tiles=\"CartoDB positron\")\n",
    "    points = points.replace({0:'Origin', 1:'Destination'})\n",
    "    points = points >> arrange(_.od)\n",
    "    points.rename(columns={'od':'Origin and Destination'}, inplace=True)\n",
    "    points_style = {'fillOpacity': 1}\n",
    "    return points.explore(column='Origin and Destination', cmap=['#d95f02', '#1b9e77'], m=m, style_kwds=points_style, legend=False)"
   ]
  },
  {
   "cell_type": "markdown",
   "id": "39f405c8-c486-42a2-9534-0ba7b9de7836",
   "metadata": {},
   "source": [
    "## Trip Group Map\n",
    "\n",
    "This map shows each \"trip group\": a routing that was optimal for at least part of the time during the analysis window. Line width is based on the percent of the overall time for which that routing was optimal.\n",
    "\n",
    "In all maps, origins are in green and destinations in orange."
   ]
  },
  {
   "cell_type": "code",
   "execution_count": null,
   "id": "67e2dedb-e926-4a89-af17-ab5acac50513",
   "metadata": {},
   "outputs": [],
   "source": [
    "map_trip_groups(spatial_routes, points, 'trip_group_id')"
   ]
  },
  {
   "cell_type": "markdown",
   "id": "8fda8e96-88d9-481c-9887-7fea241a9403",
   "metadata": {},
   "source": [
    "## Auto Travel Time Comparison Map\n",
    "\n",
    "For each trip group, this map shows the ratio between the best-case transit travel time and the median car travel time (based on Streetlight data including congested conditions)."
   ]
  },
  {
   "cell_type": "code",
   "execution_count": null,
   "id": "6d0f9cd0-a561-40ac-a88e-ebc2b2b046e6",
   "metadata": {},
   "outputs": [],
   "source": [
    "map_trip_groups(spatial_routes, points, 'car_p50_ratio')"
   ]
  },
  {
   "cell_type": "markdown",
   "id": "049ebbb2-b1e7-4508-87fb-599dda5710f7",
   "metadata": {},
   "source": [
    "## Route-aggregated Map\n",
    "\n",
    "This map does not map individual trip groups, but instead aggregates all trip groups using a particular transit route. It shows which routes are most often used across all trip groups."
   ]
  },
  {
   "cell_type": "code",
   "execution_count": null,
   "id": "fbf37f19-7934-4d15-9261-2f9fdd984ec1",
   "metadata": {},
   "outputs": [],
   "source": [
    "map_trip_groups(spatial_routes, points, 'route_name')"
   ]
  },
  {
   "cell_type": "markdown",
   "id": "75e24932-50f7-4191-843c-f9c0736d0356",
   "metadata": {},
   "source": [
    "## Transfer Count Map\n",
    "\n",
    "For each trip group, this map shows the number of transfers."
   ]
  },
  {
   "cell_type": "code",
   "execution_count": null,
   "id": "81a43369-36f3-458c-be28-0992deb6e368",
   "metadata": {},
   "outputs": [],
   "source": [
    "map_trip_groups(spatial_routes, points, 'xfer_count')"
   ]
  },
  {
   "cell_type": "code",
   "execution_count": null,
   "id": "d543ebeb-9be3-4c9a-92e3-845996fca0c2",
   "metadata": {
    "tags": []
   },
   "outputs": [],
   "source": [
    "la_md = '''\n",
    "### LA: Regional Rail provides few transfers and fast trips, but isn't frequent enough to be available\n",
    "\n",
    "* only two usable trips for 8-10am departures from origin, at 10:41 (Metrolink) and 11:01 (Amtrak)\n",
    "'''\n",
    "\n",
    "napa_md = '''\n",
    "### Napa: Amtrak Thruway bus is best trip, but actually only departs once\n",
    "\n",
    "* only one trip from Napa to Vallejo at 9:30!\n",
    "* shows a high availability percent since even waiting 20-30min for the thruway bus is faster than the next-best option\n",
    "'''\n",
    "\n",
    "sac_md = '''\n",
    "### Sacramento: most available routing involves 20min walk, isn't competitive with car\n",
    "'''\n",
    "\n",
    "clovis_md = '''\n",
    "### Clovis: Only one possible routing, which isn't very direct\n",
    "\n",
    "* pending network redesign will improve things\n",
    "'''\n",
    "\n",
    "vallejo_md = '''\n",
    "### Vallejo: One way around the loop is faster once onboard, but wait times mean the optimal trip sometimes goes the long way 'round\n",
    "'''"
   ]
  },
  {
   "cell_type": "code",
   "execution_count": null,
   "id": "6a4cc892-9e32-47ce-81e5-eecd12cdfac8",
   "metadata": {},
   "outputs": [],
   "source": [
    "which_md = {'la': la_md, 'napa': napa_md, 'sac': sac_md, 'clovis': clovis_md, 'solano': vallejo_md}"
   ]
  },
  {
   "cell_type": "code",
   "execution_count": null,
   "id": "f19c63e9-4ecd-4614-81ba-ffb404a01fdf",
   "metadata": {},
   "outputs": [],
   "source": [
    "display(Markdown(which_md[region]))"
   ]
  }
 ],
 "metadata": {
  "kernelspec": {
   "display_name": "Python 3 (ipykernel)",
   "language": "python",
   "name": "python3"
  },
  "language_info": {
   "codemirror_mode": {
    "name": "ipython",
    "version": 3
   },
   "file_extension": ".py",
   "mimetype": "text/x-python",
   "name": "python",
   "nbconvert_exporter": "python",
   "pygments_lexer": "ipython3",
   "version": "3.9.13"
  },
  "widgets": {
   "application/vnd.jupyter.widget-state+json": {
    "state": {},
    "version_major": 2,
    "version_minor": 0
   }
  }
 },
 "nbformat": 4,
 "nbformat_minor": 5
}
