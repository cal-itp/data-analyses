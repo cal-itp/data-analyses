{
 "cells": [
  {
   "cell_type": "code",
   "execution_count": null,
   "id": "ab7b00dc-ad4c-4a56-b9dc-9075c1fa8bba",
   "metadata": {},
   "outputs": [],
   "source": [
    "import pandas as pd\n",
    "import numpy as np\n",
    "import geopandas as gpd\n",
    "from calitp_data_analysis.gcs_geopandas import GCSGeoPandas\n",
    "gcsgp = GCSGeoPandas()\n",
    "\n",
    "HQTA_PATH = 'gs://calitp-analytics-data/data-analyses/high_quality_transit_areas/export/2024-09-18/ca_hq_transit_areas.parquet'"
   ]
  },
  {
   "cell_type": "code",
   "execution_count": null,
   "id": "e2c29312-9548-45f0-bfc8-ff4e96b76402",
   "metadata": {},
   "outputs": [],
   "source": [
    "processed_census_path = 'gs://calitp-analytics-data/data-analyses/sb125/quick_mts_jobs/'"
   ]
  },
  {
   "cell_type": "code",
   "execution_count": null,
   "id": "9af25b42-98a2-4bd1-bfc0-9009a8fc1f47",
   "metadata": {},
   "outputs": [],
   "source": [
    "from calitp_data_analysis.utils import geoparquet_gcs_export"
   ]
  },
  {
   "cell_type": "markdown",
   "id": "91f5ac1e-dc4d-447c-9aa1-4a58fb822ff3",
   "metadata": {},
   "source": [
    "# Quick counts of people and jobs within ~0.5mi of a Major Transit Stop\n",
    "\n",
    "Just wrapped this up, attached are two csvs. One summarizes jobs and population within a half mile of the various types of Major Transit Stop per PRC 21155 and PRC 21064.3, the other additionally separates them out by transit agency.\n",
    "\n",
    "Used 2020 Census LEHD Workplace Area Characteristics to get all primary jobs by Census block, population by block is from the 2020 decennial Census. Spatial join was a simple intersection of each half-mile buffer around a major transit stop with all Census blocks, then jobs and people were summed across all those blocks to get a single figure per major stop.\n"
   ]
  },
  {
   "cell_type": "markdown",
   "id": "cbb60432-979b-4727-b7d6-392d5ef393bb",
   "metadata": {
    "jp-MarkdownHeadingCollapsed": true,
    "tags": []
   },
   "source": [
    "## read clean census (already done, output on GCS)"
   ]
  },
  {
   "cell_type": "code",
   "execution_count": null,
   "id": "2dfaa4c9-fcc4-44e4-b2e8-af087d6b9b4d",
   "metadata": {},
   "outputs": [],
   "source": [
    "import gzip\n",
    "# all workers, all primary jobs\n",
    "with gzip.open('./ca_wac_S000_JT01_2021.csv.gz', 'rb') as f:\n",
    "    df = pd.read_csv(f)"
   ]
  },
  {
   "cell_type": "code",
   "execution_count": null,
   "id": "1a33d692-09ac-4851-bf2a-642f945ea826",
   "metadata": {},
   "outputs": [],
   "source": [
    "df = df.iloc[:, :2]"
   ]
  },
  {
   "cell_type": "code",
   "execution_count": null,
   "id": "617ca48d-35d2-4da9-bd27-905399ed6b14",
   "metadata": {},
   "outputs": [],
   "source": [
    "import zipfile"
   ]
  },
  {
   "cell_type": "code",
   "execution_count": null,
   "id": "f275434d-8a94-4c87-9057-7404a3e2dddc",
   "metadata": {},
   "outputs": [],
   "source": [
    "with zipfile.ZipFile('./DECENNIALPL2020.P1_2024-10-16T105517.zip', 'r') as myzip:\n",
    "    with myzip.open('DECENNIALPL2020.P1-Data.csv') as f:\n",
    "        df2 = pd.read_csv(f)"
   ]
  },
  {
   "cell_type": "code",
   "execution_count": null,
   "id": "5b9e9f90-d997-4ddc-851e-55f9e94efde3",
   "metadata": {},
   "outputs": [],
   "source": [
    "df2 = df2.iloc[1:,:3]"
   ]
  },
  {
   "cell_type": "code",
   "execution_count": null,
   "id": "6e74b3f9-1633-4646-bfda-c535f1074421",
   "metadata": {},
   "outputs": [],
   "source": [
    "df2.GEO_ID = df2.GEO_ID.map(lambda x: x[10:])"
   ]
  },
  {
   "cell_type": "code",
   "execution_count": null,
   "id": "df3bf725-177b-48eb-87d7-7d3cd7313ad7",
   "metadata": {},
   "outputs": [],
   "source": [
    "df2.GEO_ID = df2.GEO_ID.astype(int)"
   ]
  },
  {
   "cell_type": "code",
   "execution_count": null,
   "id": "fb52c09c-f024-4118-85d4-3122485dc0d7",
   "metadata": {},
   "outputs": [],
   "source": [
    "df2.P1_001N = df2.P1_001N.astype(int)"
   ]
  },
  {
   "cell_type": "code",
   "execution_count": null,
   "id": "ff8d931c-8dd2-48ad-ab72-d27a216146c8",
   "metadata": {},
   "outputs": [],
   "source": [
    "df2.head(3)"
   ]
  },
  {
   "cell_type": "code",
   "execution_count": null,
   "id": "354459c3-9be8-47db-bb4e-7878cbae5e15",
   "metadata": {},
   "outputs": [],
   "source": [
    "df2.dtypes"
   ]
  },
  {
   "cell_type": "code",
   "execution_count": null,
   "id": "31d44c92-2be5-4851-91ba-71d37a1017ee",
   "metadata": {},
   "outputs": [],
   "source": [
    "df.head(3)"
   ]
  },
  {
   "cell_type": "code",
   "execution_count": null,
   "id": "c3377ae1-6be9-468d-a765-578cdf688a94",
   "metadata": {
    "tags": []
   },
   "outputs": [],
   "source": [
    "df.dtypes"
   ]
  },
  {
   "cell_type": "code",
   "execution_count": null,
   "id": "cef7a4bd-d13a-4387-9f1a-8f5faecbb547",
   "metadata": {},
   "outputs": [],
   "source": [
    "# this will result in table having both GEO_ID and w_geocode columns with redundant data. Could instead first rename one of the columns.\n",
    "joined = df2.merge(df, left_on='GEO_ID', right_on='w_geocode')"
   ]
  },
  {
   "cell_type": "code",
   "execution_count": null,
   "id": "9e99b938861841da",
   "metadata": {},
   "outputs": [],
   "source": []
  },
  {
   "cell_type": "code",
   "execution_count": null,
   "id": "4c1c0e5a-7f70-43d5-ae05-cd0fe334ae4b",
   "metadata": {},
   "outputs": [],
   "source": [
    "joined"
   ]
  },
  {
   "cell_type": "code",
   "execution_count": null,
   "id": "07d88a37-eabe-4052-a223-7e41f9c68b3f",
   "metadata": {},
   "outputs": [],
   "source": [
    "hqta.head(3)"
   ]
  },
  {
   "cell_type": "code",
   "execution_count": null,
   "id": "12463b53-68e3-4908-86d3-29cc3f3ad6e3",
   "metadata": {},
   "outputs": [],
   "source": [
    "blocks = gpd.read_file('./tl_2020_06_tabblock20.zip')"
   ]
  },
  {
   "cell_type": "code",
   "execution_count": null,
   "id": "9251e399-0c2d-4de3-a35f-da563d95bdb5",
   "metadata": {},
   "outputs": [],
   "source": [
    "blocks = blocks[['GEOID20', 'POP20', 'HOUSING20', 'geometry']]"
   ]
  },
  {
   "cell_type": "code",
   "execution_count": null,
   "id": "68ab1dd0-f08c-4431-9ba9-6abd09af35cf",
   "metadata": {},
   "outputs": [],
   "source": [
    "blocks.GEOID20 = blocks.GEOID20.astype(int)"
   ]
  },
  {
   "cell_type": "code",
   "execution_count": null,
   "id": "8e695d25-5850-4517-911c-70155efd6efc",
   "metadata": {},
   "outputs": [],
   "source": [
    "blocks = blocks.rename(columns={'GEOID20': 'GEO_ID'})"
   ]
  },
  {
   "cell_type": "code",
   "execution_count": null,
   "id": "f807f1ff-7716-4942-b719-1858dd821b52",
   "metadata": {},
   "outputs": [],
   "source": [
    "joined = blocks.merge(joined, on='GEO_ID')"
   ]
  },
  {
   "cell_type": "code",
   "execution_count": null,
   "id": "1647e255-f72a-4fb5-b209-f90850ad00cf",
   "metadata": {},
   "outputs": [],
   "source": [
    "joined"
   ]
  },
  {
   "cell_type": "code",
   "execution_count": null,
   "id": "389cd2e2-9141-4944-842d-472efa097d89",
   "metadata": {},
   "outputs": [],
   "source": [
    "joined.rename(columns={'GEO_ID': 'geoid', 'POP20': 'pop', 'C000': 'jobs', 'HOUSING20': 'housing'})\n",
    "joined = joined[['geoid', 'pop', 'jobs', 'housing', 'geometry']]"
   ]
  },
  {
   "cell_type": "code",
   "execution_count": null,
   "id": "8f5c9d53-17f1-43b0-871d-4f6d3d443915",
   "metadata": {},
   "outputs": [],
   "source": [
    "joined.to_parquet('census_jobs_blocks.parquet')"
   ]
  },
  {
   "cell_type": "code",
   "execution_count": null,
   "id": "ec2f1f5e-797e-41bf-892b-7d0816d651cb",
   "metadata": {},
   "outputs": [],
   "source": [
    "geoparquet_gcs_export(joined, processed_census_path, 'census_jobs_blocks.parquet')"
   ]
  },
  {
   "cell_type": "markdown",
   "id": "8c99bcc6-7ebd-445b-ba6b-3f723f02548a",
   "metadata": {
    "tags": []
   },
   "source": [
    "## Spatial Join (start here)"
   ]
  },
  {
   "cell_type": "code",
   "execution_count": null,
   "id": "83a114dc-7c0c-499a-8dd2-d8fc22598bf7",
   "metadata": {},
   "outputs": [],
   "source": [
    "census = gcsgp.read_parquet(f'{processed_census_path}census_jobs_blocks.parquet').rename(columns={'pop': 'people'})"
   ]
  },
  {
   "cell_type": "code",
   "execution_count": null,
   "id": "4ba99b41-e7c9-4fbb-83fe-95bda573d41d",
   "metadata": {},
   "outputs": [],
   "source": [
    "hqta = gcsgp.read_parquet(HQTA_PATH)"
   ]
  },
  {
   "cell_type": "code",
   "execution_count": null,
   "id": "aaabeb5d-80f2-4c58-ba37-e6e580792013",
   "metadata": {},
   "outputs": [],
   "source": [
    "hqta = hqta[['agency_primary', 'hqta_type', 'geometry']].query('hqta_type != \"hq_corridor_bus\"')"
   ]
  },
  {
   "cell_type": "code",
   "execution_count": null,
   "id": "3618e30f-e55c-452d-b73b-152e85a31261",
   "metadata": {},
   "outputs": [],
   "source": [
    "from calitp_data_analysis import geography_utils"
   ]
  },
  {
   "cell_type": "code",
   "execution_count": null,
   "id": "8cab1c45-9271-468c-a926-4a5641a95c70",
   "metadata": {},
   "outputs": [],
   "source": [
    "hqta = hqta.to_crs(geography_utils.CA_NAD83Albers_m)"
   ]
  },
  {
   "cell_type": "code",
   "execution_count": null,
   "id": "18d6c363-0373-4692-bba4-7a56b078ef49",
   "metadata": {},
   "outputs": [],
   "source": [
    "census = census.to_crs(geography_utils.CA_NAD83Albers_m)"
   ]
  },
  {
   "cell_type": "code",
   "execution_count": null,
   "id": "5fa583a6-550b-494f-b381-981e68faa412",
   "metadata": {},
   "outputs": [],
   "source": [
    "sjoined = census.sjoin(hqta, how=\"inner\", predicate='intersects') # flip direction to calculate area\n",
    "sjoined = sjoined.rename(columns={'index_right': 'hqta_ix'})"
   ]
  },
  {
   "cell_type": "code",
   "execution_count": null,
   "id": "2609cf22-8cc5-49da-a37b-a0356c2238fe",
   "metadata": {},
   "outputs": [],
   "source": [
    "# hqta = hqta.reset_index().rename(columns={'index':'hqta_ix'}) #  might actually have use for an ix\n",
    "# sjoined = hqta.sjoin(census, how=\"inner\", predicate='intersects')"
   ]
  },
  {
   "cell_type": "code",
   "execution_count": null,
   "id": "ed9324a1-fe96-4eaf-994e-1647ffbf297a",
   "metadata": {},
   "outputs": [],
   "source": [
    "from shared_utils.rt_utils import METERS_PER_MILE\n",
    "sq_m_per_sq_mi = METERS_PER_MILE**2"
   ]
  },
  {
   "cell_type": "code",
   "execution_count": null,
   "id": "e0519aa3-7224-4f39-870e-f7b5078aa04f",
   "metadata": {},
   "outputs": [],
   "source": [
    "sq_m_per_sq_mi"
   ]
  },
  {
   "cell_type": "code",
   "execution_count": null,
   "id": "b9e935c9-ad16-46ac-b71e-c6b2306af7d9",
   "metadata": {},
   "outputs": [],
   "source": [
    "sjoined = sjoined.assign(area_sq_mi = sjoined['geometry'].map(lambda x: x.area / sq_m_per_sq_mi))"
   ]
  },
  {
   "cell_type": "code",
   "execution_count": null,
   "id": "fb4eaee0-e6ea-4273-9fb4-1bcc4ae3a40f",
   "metadata": {},
   "outputs": [],
   "source": [
    "sj_geo = sjoined.copy()"
   ]
  },
  {
   "cell_type": "code",
   "execution_count": null,
   "id": "624a8b6d-12e6-4c06-8c5f-e56176002f71",
   "metadata": {},
   "outputs": [],
   "source": [
    "# column 'index_right' does not exist, the previous `>> select` did surface when\n",
    "# columns didn't exist\n",
    "sjoined = sjoined.drop(['geometry'], axis='columns', inplace=False)"
   ]
  },
  {
   "cell_type": "code",
   "execution_count": null,
   "id": "e5ef48a1-006f-43af-8557-96f26e4e4a44",
   "metadata": {},
   "outputs": [],
   "source": [
    "sjoined.head(3)"
   ]
  },
  {
   "cell_type": "code",
   "execution_count": null,
   "id": "693d2d1e-93cc-40f8-a79a-621b4337c2d4",
   "metadata": {},
   "outputs": [],
   "source": [
    "sjoined.drop_duplicates(subset=['geoid', 'people'], inplace=False).filter(items=['geoid', 'people']).sum(numeric_only=True)"
   ]
  },
  {
   "cell_type": "code",
   "execution_count": null,
   "id": "021be2a9-f51d-48ff-81d8-950eccbe722d",
   "metadata": {},
   "outputs": [],
   "source": [
    "# TODO figure out how to incorporate the n column based on shape[0]\n",
    "stop_grouped = sjoined.groupby(\n",
    "                    by=['hqta_ix', 'agency_primary', 'hqta_type'], dropna=False, group_keys=True\n",
    "                ).agg(\n",
    "                    total_jobs=('jobs', 'sum'),\n",
    "                    total_pop=('people', 'sum'),\n",
    "                    total_housing=('housing', 'sum'),\n",
    "                    total_sq_mi=('area_sq_mi', 'sum')\n",
    "                ).reset_index()"
   ]
  },
  {
   "cell_type": "code",
   "execution_count": null,
   "id": "ea9cb61f-5669-41b7-954d-631928ae0df2",
   "metadata": {},
   "outputs": [],
   "source": [
    "sjoined[sjoined['hqta_ix'] == 8241].sum(numeric_only=True)"
   ]
  },
  {
   "cell_type": "code",
   "execution_count": null,
   "id": "6ca5b527-3b9c-46f4-8b3a-ca2d6cff2b2e",
   "metadata": {},
   "outputs": [],
   "source": [
    "stop_grouped.sort_values(by='total_pop', ascending=False, inplace=False)"
   ]
  },
  {
   "cell_type": "code",
   "execution_count": null,
   "id": "7a787aa3-527c-4cec-8adc-3e7498c75d9a",
   "metadata": {},
   "outputs": [],
   "source": [
    "stop_grouped.describe()"
   ]
  },
  {
   "cell_type": "code",
   "execution_count": null,
   "id": "7567ae69-465e-4019-acaf-54c200e8f746",
   "metadata": {},
   "outputs": [],
   "source": [
    "def group_calculate(df, groups, normalize=False):\n",
    "    def percentile(n):\n",
    "        def percentile_(x):\n",
    "            return x.quantile(n)\n",
    "\n",
    "        return percentile_\n",
    "\n",
    "\n",
    "    if normalize:\n",
    "        df.total_pop = df.total_pop / df.total_sq_mi\n",
    "        df.total_jobs = df.total_jobs / df.total_sq_mi\n",
    "        df.total_housing = df.total_housing / df.total_sq_mi\n",
    "\n",
    "    new_df = df.groupby(by=groups, dropna=False, group_keys=True).agg(\n",
    "                            p5_pop = ('total_pop', percentile(.05)),\n",
    "                            p20_pop = ('total_pop', percentile(.2)),\n",
    "                            p50_pop = ('total_pop', percentile(.5)),\n",
    "                            p80_pop = ('total_pop', percentile(.8)),\n",
    "                            p95_pop = ('total_pop', percentile(.95)),\n",
    "                            p5_jobs = ('total_jobs', percentile(.05)),\n",
    "                            p20_jobs = ('total_jobs', percentile(.2)),\n",
    "                            p50_jobs = ('total_jobs', percentile(.5)),\n",
    "                            p80_jobs = ('total_jobs', percentile(.8)),\n",
    "                            p95_jobs = ('total_jobs', percentile(.95)),\n",
    "                            p5_housing = ('total_housing', percentile(.05)),\n",
    "                            p20_housing = ('total_housing', percentile(.2)),\n",
    "                            p50_housing = ('total_housing', percentile(.5)),\n",
    "                            p80_housing = ('total_housing', percentile(.8)),\n",
    "                            p95_housing = ('total_housing', percentile(.95))\n",
    "                        ).reset_index()\n",
    "    if normalize:\n",
    "        new_names = new_df.columns.map(lambda x: x+'_per_sq_mi')\n",
    "        rename_dict = dict(zip(new_df.columns, new_names))\n",
    "        new_df = new_df.rename(columns=rename_dict)\n",
    "    return new_df.round(1)"
   ]
  },
  {
   "cell_type": "code",
   "execution_count": null,
   "id": "6be15d1a-4260-42a0-97f0-5d6f75fb18d7",
   "metadata": {},
   "outputs": [],
   "source": [
    "by_type = group_calculate(stop_grouped, ['hqta_type'], normalize=False)\n",
    "by_type"
   ]
  },
  {
   "cell_type": "code",
   "execution_count": null,
   "id": "db476ab6-6a34-4328-ae77-0e3f159ee3ee",
   "metadata": {},
   "outputs": [],
   "source": [
    "by_type_norm = group_calculate(stop_grouped, ['hqta_type'], normalize=True)\n",
    "by_type_norm"
   ]
  },
  {
   "cell_type": "code",
   "execution_count": null,
   "id": "9a7cecc2-3736-431e-b172-c50ac0ab4f62",
   "metadata": {},
   "outputs": [],
   "source": [
    "by_agency = group_calculate(stop_grouped, ['hqta_type', 'agency_primary'], normalize=False)\n",
    "by_agency"
   ]
  },
  {
   "cell_type": "code",
   "execution_count": null,
   "id": "365dbd2d-d7bb-43b5-9a8f-a06bc8597ff8",
   "metadata": {},
   "outputs": [],
   "source": [
    "by_agency_norm = group_calculate(stop_grouped, ['hqta_type', 'agency_primary'], normalize=True)\n",
    "by_agency_norm"
   ]
  },
  {
   "cell_type": "code",
   "execution_count": null,
   "id": "b37541b1-a5b7-4c5e-8a1b-ed619c1d7241",
   "metadata": {},
   "outputs": [],
   "source": [
    "# by_type.to_csv('pop_jobs_housing_by_major_stop_type.csv')\n",
    "# by_type_norm.to_csv('pop_jobs_housing_by_major_stop_type_sq_mi.csv')\n",
    "# by_agency.to_csv('pop_jobs_housing_by_major_stop_type_and_agency.csv')\n",
    "# by_agency_norm.to_csv('pop_jobs_housing_by_major_stop_type_and_agency_sq_mi.csv')"
   ]
  },
  {
   "cell_type": "markdown",
   "id": "914934ca-70f2-414d-9f3c-16adcadb49e4",
   "metadata": {},
   "source": [
    "## spot-checks"
   ]
  },
  {
   "cell_type": "code",
   "execution_count": null,
   "id": "93b4596d-aeaa-4f16-bd5e-bd4a42580825",
   "metadata": {},
   "outputs": [],
   "source": [
    "sjoined.geoid = sjoined.geoid.astype(str)"
   ]
  },
  {
   "cell_type": "code",
   "execution_count": null,
   "id": "acfe94c0-a642-4810-8a29-c5acc54c7ecf",
   "metadata": {},
   "outputs": [],
   "source": [
    "sjoined"
   ]
  },
  {
   "cell_type": "code",
   "execution_count": null,
   "id": "7c12f558-e13b-42c3-b1b4-5aa484624b66",
   "metadata": {},
   "outputs": [],
   "source": [
    "import numpy as np"
   ]
  },
  {
   "cell_type": "code",
   "execution_count": null,
   "id": "84d055da-ce0c-4a9f-9cdb-5f9ed1cc05fb",
   "metadata": {},
   "outputs": [],
   "source": [
    "test_tract = '6037271801'"
   ]
  },
  {
   "cell_type": "code",
   "execution_count": null,
   "id": "d0099966-d336-4fef-9499-b3e5f656efb9",
   "metadata": {},
   "outputs": [],
   "source": [
    "test = sjoined[sjoined['geoid'].astype(str).str.contains(test_tract)]"
   ]
  },
  {
   "cell_type": "code",
   "execution_count": null,
   "id": "cd773db7-e12c-4b2a-a0cd-a1e81f8dff80",
   "metadata": {},
   "outputs": [],
   "source": [
    "test.drop_duplicates(subset=['geoid'], inplace=False)"
   ]
  },
  {
   "cell_type": "code",
   "execution_count": null,
   "id": "de162ca6-e911-4524-89e5-7397ca6f1261",
   "metadata": {},
   "outputs": [],
   "source": [
    "(test.drop_duplicates(subset=['geoid'], inplace=False)).sum()"
   ]
  },
  {
   "cell_type": "code",
   "execution_count": null,
   "id": "b359e7fb-ccb3-4629-9116-6f64f51a8a34",
   "metadata": {},
   "outputs": [],
   "source": [
    "3666 / 0.17768"
   ]
  },
  {
   "cell_type": "code",
   "execution_count": null,
   "id": "40e4476d-b73b-41c1-8006-08c703555d4e",
   "metadata": {},
   "outputs": [],
   "source": [
    "sj_geo['pop_sq_mi'] = sj_geo.people / sj_geo.area_sq_mi"
   ]
  },
  {
   "cell_type": "code",
   "execution_count": null,
   "id": "60f5e43c-b320-449c-ab28-973e32ac04f9",
   "metadata": {},
   "outputs": [],
   "source": [
    "sj_geo.head(3)"
   ]
  },
  {
   "cell_type": "code",
   "execution_count": null,
   "id": "59bc4b76-da30-43c6-affc-84c0cb7b6b03",
   "metadata": {},
   "outputs": [],
   "source": [
    "sj_geo.sort_values(by='pop_sq_mi', ascending=False, inplace=False)"
   ]
  },
  {
   "cell_type": "code",
   "execution_count": null,
   "id": "391e6258-1d10-4271-b0c6-9ca48a992e87",
   "metadata": {},
   "outputs": [],
   "source": [
    "# (sj_geo >> filter(_.hqta_ix == 38209)).explore()"
   ]
  },
  {
   "cell_type": "code",
   "execution_count": null,
   "id": "586c08ca-a8d0-444b-8fe1-9da73e4bc19e",
   "metadata": {},
   "outputs": [],
   "source": [
    "(sj_geo.query('hqta_ix == 38209')).sum(numeric_only=True)"
   ]
  },
  {
   "cell_type": "code",
   "execution_count": null,
   "id": "815d8b77-e201-422a-9756-d10b529a95cc",
   "metadata": {},
   "outputs": [],
   "source": [
    "23721 / 0.896213"
   ]
  },
  {
   "cell_type": "code",
   "execution_count": null,
   "id": "5f39eb83-7313-4586-bef0-e40247dfc058",
   "metadata": {},
   "outputs": [],
   "source": [
    "stop_dis = sj_geo.dissolve(by='hqta_ix', aggfunc=[np.sum])"
   ]
  },
  {
   "cell_type": "code",
   "execution_count": null,
   "id": "6aef70d9-9360-460e-9b1b-aa719f6fdb14",
   "metadata": {},
   "outputs": [],
   "source": [
    "stop_dis.columns"
   ]
  },
  {
   "cell_type": "code",
   "execution_count": null,
   "id": "b8e7204a-d544-4a4b-bdd7-32915babd0b6",
   "metadata": {},
   "outputs": [],
   "source": [
    "rename_dict = dict(zip(stop_dis.columns, [col[0] for col in stop_dis.columns]))\n",
    "rename_dict['geometry'] = 'geometry'"
   ]
  },
  {
   "cell_type": "code",
   "execution_count": null,
   "id": "4a1102fe-1ef0-464a-84b5-f6603fdb9f6b",
   "metadata": {},
   "outputs": [],
   "source": [
    "stop_dis = stop_dis.rename(columns=rename_dict)"
   ]
  },
  {
   "cell_type": "code",
   "execution_count": null,
   "id": "fe2bcb2c-3b58-4f20-86d9-78fd2b02cc54",
   "metadata": {},
   "outputs": [],
   "source": [
    "stop_dis = stop_dis.drop(['agency_primary', 'hqta_type'], axis='columns', inplace=False)"
   ]
  },
  {
   "cell_type": "code",
   "execution_count": null,
   "id": "2ce6dc0f-ac7f-40a1-af06-1e8eedb4129f",
   "metadata": {},
   "outputs": [],
   "source": [
    "stop_dis.pop_sq_mi = stop_dis.people / stop_dis.area_sq_mi"
   ]
  },
  {
   "cell_type": "code",
   "execution_count": null,
   "id": "616fe57b-9cd5-4370-a54a-7d8d34f530f6",
   "metadata": {},
   "outputs": [],
   "source": [
    "stop_dis.pop_sq_mi.quantile(.8)"
   ]
  },
  {
   "cell_type": "code",
   "execution_count": null,
   "id": "aa3448f2-7f29-4fc8-83f9-ba0f659d3dc1",
   "metadata": {},
   "outputs": [],
   "source": [
    "stop_dis.pop_sq_mi.hist()"
   ]
  },
  {
   "cell_type": "code",
   "execution_count": null,
   "id": "9b884588-6ab4-4ab0-8b28-4cd8ec7c9bc2",
   "metadata": {},
   "outputs": [],
   "source": [
    "# (stop_dis >> filter(_.pop_sq_mi > 50000)).explore()"
   ]
  },
  {
   "cell_type": "code",
   "execution_count": null,
   "id": "017d9193-7f96-435f-a0d5-bc130eb23589",
   "metadata": {},
   "outputs": [],
   "source": [
    "stop_dis.pop_sq_mi.max()"
   ]
  },
  {
   "cell_type": "code",
   "execution_count": null,
   "id": "1149abcb-aba1-4201-bb55-a3ea19e1bb4e",
   "metadata": {},
   "outputs": [],
   "source": [
    "# (stop_dis >> filter(_.pop_sq_mi > 70000)).explore()"
   ]
  },
  {
   "cell_type": "code",
   "execution_count": null,
   "id": "f4f0b154-538c-4837-af9d-35c8bbeba4c5",
   "metadata": {},
   "outputs": [],
   "source": [
    "stop_dis.loc[8241,:]"
   ]
  },
  {
   "cell_type": "code",
   "execution_count": null,
   "id": "277841c4-a4af-4869-8457-da1a7ef40b9e",
   "metadata": {},
   "outputs": [],
   "source": [
    "stop_dis.loc[8732:8733,:].geometry.area / sq_m_per_sq_mi"
   ]
  },
  {
   "cell_type": "code",
   "execution_count": null,
   "id": "a6415184-96ca-4e8b-93e8-ce87758ff8ca",
   "metadata": {},
   "outputs": [],
   "source": [
    "stop_dis.sort_values(by='pop_sq_mi', ascending=False, inplace=False)"
   ]
  },
  {
   "cell_type": "code",
   "execution_count": null,
   "id": "d038e5e5-dc3d-4c0a-9785-f15332ddf8ff",
   "metadata": {},
   "outputs": [],
   "source": [
    "from shared_utils.rt_utils import show_full_df"
   ]
  },
  {
   "cell_type": "code",
   "execution_count": null,
   "id": "20762590-3d6f-4a66-87f1-424a3b0e0c5f",
   "metadata": {},
   "outputs": [],
   "source": [
    "stop_grouped['pop_sq_mi'] = stop_grouped.total_pop / stop_grouped.total_sq_mi"
   ]
  },
  {
   "cell_type": "code",
   "execution_count": null,
   "id": "40dfb7e8-9d5c-4002-aac5-0413ec0e724b",
   "metadata": {},
   "outputs": [],
   "source": [
    "stop_grouped.sort_values(by='pop_sq_mi', ascending=False, inplace=False)"
   ]
  },
  {
   "cell_type": "code",
   "execution_count": null,
   "id": "d77d09f8-863b-4f04-bd04-222016d1927d",
   "metadata": {},
   "outputs": [],
   "source": [
    "# show_full_df(sjoined >> filter(_.hqta_ix == 8732))"
   ]
  }
 ],
 "metadata": {
  "kernelspec": {
   "display_name": "Python 3 (ipykernel)",
   "language": "python",
   "name": "python3"
  },
  "language_info": {
   "codemirror_mode": {
    "name": "ipython",
    "version": 3
   },
   "file_extension": ".py",
   "mimetype": "text/x-python",
   "name": "python",
   "nbconvert_exporter": "python",
   "pygments_lexer": "ipython3",
   "version": "3.11.10"
  },
  "widgets": {
   "application/vnd.jupyter.widget-state+json": {
    "state": {},
    "version_major": 2,
    "version_minor": 0
   }
  }
 },
 "nbformat": 4,
 "nbformat_minor": 5
}
