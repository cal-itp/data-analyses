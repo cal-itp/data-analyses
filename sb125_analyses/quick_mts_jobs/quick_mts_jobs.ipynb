{
 "cells": [
  {
   "cell_type": "code",
   "id": "ab7b00dc-ad4c-4a56-b9dc-9075c1fa8bba",
   "metadata": {
    "ExecuteTime": {
     "end_time": "2025-09-10T00:12:47.652701Z",
     "start_time": "2025-09-10T00:12:46.763338Z"
    }
   },
   "source": [
    "import pandas as pd\n",
    "import numpy as np\n",
    "import geopandas as gpd\n",
    "from calitp_data_analysis.gcs_geopandas import GCSGeoPandas\n",
    "gcsgp = GCSGeoPandas()\n",
    "\n",
    "HQTA_PATH = 'gs://calitp-analytics-data/data-analyses/high_quality_transit_areas/export/2024-09-18/ca_hq_transit_areas.parquet'"
   ],
   "outputs": [],
   "execution_count": 1
  },
  {
   "cell_type": "code",
   "id": "e2c29312-9548-45f0-bfc8-ff4e96b76402",
   "metadata": {
    "ExecuteTime": {
     "end_time": "2025-09-10T00:12:47.660441Z",
     "start_time": "2025-09-10T00:12:47.658659Z"
    }
   },
   "source": [
    "processed_census_path = 'gs://calitp-analytics-data/data-analyses/sb125/quick_mts_jobs/'"
   ],
   "outputs": [],
   "execution_count": 2
  },
  {
   "cell_type": "code",
   "id": "9af25b42-98a2-4bd1-bfc0-9009a8fc1f47",
   "metadata": {
    "ExecuteTime": {
     "end_time": "2025-09-10T00:12:48.009142Z",
     "start_time": "2025-09-10T00:12:47.664478Z"
    }
   },
   "source": [
    "from calitp_data_analysis.utils import geoparquet_gcs_export"
   ],
   "outputs": [],
   "execution_count": 3
  },
  {
   "cell_type": "markdown",
   "id": "91f5ac1e-dc4d-447c-9aa1-4a58fb822ff3",
   "metadata": {},
   "source": [
    "# Quick counts of people and jobs within ~0.5mi of a Major Transit Stop\n",
    "\n",
    "Just wrapped this up, attached are two csvs. One summarizes jobs and population within a half mile of the various types of Major Transit Stop per PRC 21155 and PRC 21064.3, the other additionally separates them out by transit agency.\n",
    "\n",
    "Used 2020 Census LEHD Workplace Area Characteristics to get all primary jobs by Census block, population by block is from the 2020 decennial Census. Spatial join was a simple intersection of each half-mile buffer around a major transit stop with all Census blocks, then jobs and people were summed across all those blocks to get a single figure per major stop.\n"
   ]
  },
  {
   "cell_type": "markdown",
   "id": "cbb60432-979b-4727-b7d6-392d5ef393bb",
   "metadata": {
    "jp-MarkdownHeadingCollapsed": true,
    "tags": []
   },
   "source": [
    "## read clean census (already done, output on GCS)"
   ]
  },
  {
   "cell_type": "code",
   "id": "2dfaa4c9-fcc4-44e4-b2e8-af087d6b9b4d",
   "metadata": {},
   "source": [
    "import gzip\n",
    "# all workers, all primary jobs\n",
    "with gzip.open('./ca_wac_S000_JT01_2021.csv.gz', 'rb') as f:\n",
    "    df = pd.read_csv(f)"
   ],
   "outputs": [],
   "execution_count": null
  },
  {
   "cell_type": "code",
   "id": "1a33d692-09ac-4851-bf2a-642f945ea826",
   "metadata": {},
   "source": [
    "df = df.iloc[:, :2]"
   ],
   "outputs": [],
   "execution_count": null
  },
  {
   "cell_type": "code",
   "id": "617ca48d-35d2-4da9-bd27-905399ed6b14",
   "metadata": {},
   "source": [
    "import zipfile"
   ],
   "outputs": [],
   "execution_count": null
  },
  {
   "cell_type": "code",
   "id": "f275434d-8a94-4c87-9057-7404a3e2dddc",
   "metadata": {},
   "source": [
    "with zipfile.ZipFile('./DECENNIALPL2020.P1_2024-10-16T105517.zip', 'r') as myzip:\n",
    "    with myzip.open('DECENNIALPL2020.P1-Data.csv') as f:\n",
    "        df2 = pd.read_csv(f)"
   ],
   "outputs": [],
   "execution_count": null
  },
  {
   "cell_type": "code",
   "id": "5b9e9f90-d997-4ddc-851e-55f9e94efde3",
   "metadata": {},
   "source": [
    "df2 = df2.iloc[1:,:3]"
   ],
   "outputs": [],
   "execution_count": null
  },
  {
   "cell_type": "code",
   "id": "6e74b3f9-1633-4646-bfda-c535f1074421",
   "metadata": {},
   "source": [
    "df2.GEO_ID = df2.GEO_ID.map(lambda x: x[10:])"
   ],
   "outputs": [],
   "execution_count": null
  },
  {
   "cell_type": "code",
   "id": "df3bf725-177b-48eb-87d7-7d3cd7313ad7",
   "metadata": {},
   "source": [
    "df2.GEO_ID = df2.GEO_ID.astype(int)"
   ],
   "outputs": [],
   "execution_count": null
  },
  {
   "cell_type": "code",
   "id": "fb52c09c-f024-4118-85d4-3122485dc0d7",
   "metadata": {},
   "source": [
    "df2.P1_001N = df2.P1_001N.astype(int)"
   ],
   "outputs": [],
   "execution_count": null
  },
  {
   "cell_type": "code",
   "id": "ff8d931c-8dd2-48ad-ab72-d27a216146c8",
   "metadata": {},
   "source": [
    "df2.head(3)"
   ],
   "outputs": [],
   "execution_count": null
  },
  {
   "cell_type": "code",
   "id": "354459c3-9be8-47db-bb4e-7878cbae5e15",
   "metadata": {},
   "source": [
    "df2.dtypes"
   ],
   "outputs": [],
   "execution_count": null
  },
  {
   "cell_type": "code",
   "id": "31d44c92-2be5-4851-91ba-71d37a1017ee",
   "metadata": {},
   "source": [
    "df.head(3)"
   ],
   "outputs": [],
   "execution_count": null
  },
  {
   "cell_type": "code",
   "id": "c3377ae1-6be9-468d-a765-578cdf688a94",
   "metadata": {
    "tags": []
   },
   "source": [
    "df.dtypes"
   ],
   "outputs": [],
   "execution_count": null
  },
  {
   "cell_type": "code",
   "id": "cef7a4bd-d13a-4387-9f1a-8f5faecbb547",
   "metadata": {},
   "source": [
    "# this will result in table having both GEO_ID and w_geocode columns with redundant data. Could instead first rename one of the columns.\n",
    "joined = df2.merge(df, left_on='GEO_ID', right_on='w_geocode')"
   ],
   "outputs": [],
   "execution_count": null
  },
  {
   "cell_type": "code",
   "id": "9e99b938861841da",
   "metadata": {},
   "source": [],
   "outputs": [],
   "execution_count": null
  },
  {
   "cell_type": "code",
   "id": "4c1c0e5a-7f70-43d5-ae05-cd0fe334ae4b",
   "metadata": {
    "ExecuteTime": {
     "end_time": "2025-09-10T00:25:25.322776Z",
     "start_time": "2025-09-10T00:25:25.146386Z"
    }
   },
   "source": [
    "joined"
   ],
   "outputs": [
    {
     "ename": "NameError",
     "evalue": "name 'joined' is not defined",
     "output_type": "error",
     "traceback": [
      "\u001B[0;31m---------------------------------------------------------------------------\u001B[0m",
      "\u001B[0;31mNameError\u001B[0m                                 Traceback (most recent call last)",
      "Cell \u001B[0;32mIn[89], line 1\u001B[0m\n\u001B[0;32m----> 1\u001B[0m \u001B[43mjoined\u001B[49m\n",
      "\u001B[0;31mNameError\u001B[0m: name 'joined' is not defined"
     ]
    }
   ],
   "execution_count": 89
  },
  {
   "cell_type": "code",
   "id": "07d88a37-eabe-4052-a223-7e41f9c68b3f",
   "metadata": {},
   "source": [
    "hqta.head(3)"
   ],
   "outputs": [],
   "execution_count": null
  },
  {
   "cell_type": "code",
   "id": "12463b53-68e3-4908-86d3-29cc3f3ad6e3",
   "metadata": {},
   "source": [
    "blocks = gpd.read_file('./tl_2020_06_tabblock20.zip')"
   ],
   "outputs": [],
   "execution_count": null
  },
  {
   "cell_type": "code",
   "id": "9251e399-0c2d-4de3-a35f-da563d95bdb5",
   "metadata": {},
   "source": [
    "blocks = blocks[['GEOID20', 'POP20', 'HOUSING20', 'geometry']]"
   ],
   "outputs": [],
   "execution_count": null
  },
  {
   "cell_type": "code",
   "id": "68ab1dd0-f08c-4431-9ba9-6abd09af35cf",
   "metadata": {
    "ExecuteTime": {
     "end_time": "2025-09-09T22:46:21.932710Z",
     "start_time": "2025-09-09T22:46:21.920683Z"
    }
   },
   "source": [
    "blocks.GEOID20 = blocks.GEOID20.astype(int)"
   ],
   "outputs": [
    {
     "ename": "NameError",
     "evalue": "name 'blocks' is not defined",
     "output_type": "error",
     "traceback": [
      "\u001B[0;31m---------------------------------------------------------------------------\u001B[0m",
      "\u001B[0;31mNameError\u001B[0m                                 Traceback (most recent call last)",
      "Cell \u001B[0;32mIn[111], line 1\u001B[0m\n\u001B[0;32m----> 1\u001B[0m blocks\u001B[38;5;241m.\u001B[39mGEOID20 \u001B[38;5;241m=\u001B[39m \u001B[43mblocks\u001B[49m\u001B[38;5;241m.\u001B[39mGEOID20\u001B[38;5;241m.\u001B[39mastype(\u001B[38;5;28mint\u001B[39m)\n",
      "\u001B[0;31mNameError\u001B[0m: name 'blocks' is not defined"
     ]
    }
   ],
   "execution_count": 111
  },
  {
   "cell_type": "code",
   "id": "8e695d25-5850-4517-911c-70155efd6efc",
   "metadata": {},
   "source": [
    "blocks = blocks.rename(columns={'GEOID20': 'GEO_ID'})"
   ],
   "outputs": [],
   "execution_count": null
  },
  {
   "cell_type": "code",
   "id": "f807f1ff-7716-4942-b719-1858dd821b52",
   "metadata": {},
   "source": [
    "joined = blocks.merge(joined, on='GEO_ID')"
   ],
   "outputs": [],
   "execution_count": null
  },
  {
   "cell_type": "code",
   "id": "1647e255-f72a-4fb5-b209-f90850ad00cf",
   "metadata": {},
   "source": [
    "joined"
   ],
   "outputs": [],
   "execution_count": null
  },
  {
   "cell_type": "code",
   "id": "389cd2e2-9141-4944-842d-472efa097d89",
   "metadata": {},
   "source": [
    "joined.rename(columns={'GEO_ID': 'geoid', 'POP20': 'pop', 'C000': 'jobs', 'HOUSING20': 'housing'})\n",
    "joined = joined[['geoid', 'pop', 'jobs', 'housing', 'geometry']]"
   ],
   "outputs": [],
   "execution_count": null
  },
  {
   "cell_type": "code",
   "id": "8f5c9d53-17f1-43b0-871d-4f6d3d443915",
   "metadata": {},
   "source": [
    "joined.to_parquet('census_jobs_blocks.parquet')"
   ],
   "outputs": [],
   "execution_count": null
  },
  {
   "cell_type": "code",
   "id": "ec2f1f5e-797e-41bf-892b-7d0816d651cb",
   "metadata": {},
   "source": [
    "geoparquet_gcs_export(joined, processed_census_path, 'census_jobs_blocks.parquet')"
   ],
   "outputs": [],
   "execution_count": null
  },
  {
   "cell_type": "markdown",
   "id": "8c99bcc6-7ebd-445b-ba6b-3f723f02548a",
   "metadata": {
    "tags": []
   },
   "source": [
    "## Spatial Join (start here)"
   ]
  },
  {
   "cell_type": "code",
   "id": "83a114dc-7c0c-499a-8dd2-d8fc22598bf7",
   "metadata": {
    "ExecuteTime": {
     "end_time": "2025-09-10T00:23:56.615165Z",
     "start_time": "2025-09-10T00:23:38.716369Z"
    }
   },
   "source": [
    "census = gcsgp.read_parquet(f'{processed_census_path}census_jobs_blocks.parquet').rename(columns={'pop': 'people'})"
   ],
   "outputs": [],
   "execution_count": 67
  },
  {
   "cell_type": "code",
   "id": "4ba99b41-e7c9-4fbb-83fe-95bda573d41d",
   "metadata": {
    "ExecuteTime": {
     "end_time": "2025-09-10T00:24:03.458799Z",
     "start_time": "2025-09-10T00:23:56.619807Z"
    }
   },
   "source": [
    "hqta = gcsgp.read_parquet(HQTA_PATH)"
   ],
   "outputs": [],
   "execution_count": 68
  },
  {
   "cell_type": "code",
   "id": "aaabeb5d-80f2-4c58-ba37-e6e580792013",
   "metadata": {
    "ExecuteTime": {
     "end_time": "2025-09-10T00:24:03.475016Z",
     "start_time": "2025-09-10T00:24:03.462342Z"
    }
   },
   "source": [
    "hqta = hqta[['agency_primary', 'hqta_type', 'geometry']].query('hqta_type != \"hq_corridor_bus\"')"
   ],
   "outputs": [],
   "execution_count": 69
  },
  {
   "cell_type": "code",
   "id": "3618e30f-e55c-452d-b73b-152e85a31261",
   "metadata": {
    "ExecuteTime": {
     "end_time": "2025-09-10T00:24:03.480247Z",
     "start_time": "2025-09-10T00:24:03.478840Z"
    }
   },
   "source": [
    "from calitp_data_analysis import geography_utils"
   ],
   "outputs": [],
   "execution_count": 70
  },
  {
   "cell_type": "code",
   "id": "8cab1c45-9271-468c-a926-4a5641a95c70",
   "metadata": {
    "ExecuteTime": {
     "end_time": "2025-09-10T00:24:03.856293Z",
     "start_time": "2025-09-10T00:24:03.483503Z"
    }
   },
   "source": [
    "hqta = hqta.to_crs(geography_utils.CA_NAD83Albers_m)"
   ],
   "outputs": [],
   "execution_count": 71
  },
  {
   "cell_type": "code",
   "id": "18d6c363-0373-4692-bba4-7a56b078ef49",
   "metadata": {
    "ExecuteTime": {
     "end_time": "2025-09-10T00:24:05.189621Z",
     "start_time": "2025-09-10T00:24:03.860283Z"
    }
   },
   "source": [
    "census = census.to_crs(geography_utils.CA_NAD83Albers_m)"
   ],
   "outputs": [],
   "execution_count": 72
  },
  {
   "cell_type": "code",
   "id": "5fa583a6-550b-494f-b381-981e68faa412",
   "metadata": {
    "ExecuteTime": {
     "end_time": "2025-09-10T00:24:12.105548Z",
     "start_time": "2025-09-10T00:24:05.193659Z"
    }
   },
   "source": [
    "sjoined = census.sjoin(hqta, how=\"inner\", predicate='intersects') # flip direction to calculate area\n",
    "sjoined = sjoined.rename(columns={'index_right': 'hqta_ix'})"
   ],
   "outputs": [],
   "execution_count": 73
  },
  {
   "cell_type": "code",
   "id": "2609cf22-8cc5-49da-a37b-a0356c2238fe",
   "metadata": {
    "ExecuteTime": {
     "end_time": "2025-09-10T00:24:12.111314Z",
     "start_time": "2025-09-10T00:24:12.109906Z"
    }
   },
   "source": [
    "# hqta = hqta.reset_index().rename(columns={'index':'hqta_ix'}) #  might actually have use for an ix\n",
    "# sjoined = hqta.sjoin(census, how=\"inner\", predicate='intersects')"
   ],
   "outputs": [],
   "execution_count": 74
  },
  {
   "cell_type": "code",
   "id": "ed9324a1-fe96-4eaf-994e-1647ffbf297a",
   "metadata": {
    "ExecuteTime": {
     "end_time": "2025-09-10T00:24:12.116035Z",
     "start_time": "2025-09-10T00:24:12.114618Z"
    }
   },
   "source": [
    "from shared_utils.rt_utils import METERS_PER_MILE\n",
    "sq_m_per_sq_mi = METERS_PER_MILE**2"
   ],
   "outputs": [],
   "execution_count": 75
  },
  {
   "cell_type": "code",
   "id": "e0519aa3-7224-4f39-870e-f7b5078aa04f",
   "metadata": {
    "ExecuteTime": {
     "end_time": "2025-09-10T00:24:12.122747Z",
     "start_time": "2025-09-10T00:24:12.120752Z"
    }
   },
   "source": [
    "sq_m_per_sq_mi"
   ],
   "outputs": [
    {
     "data": {
      "text/plain": [
       "2589975.2356"
      ]
     },
     "execution_count": 76,
     "metadata": {},
     "output_type": "execute_result"
    }
   ],
   "execution_count": 76
  },
  {
   "cell_type": "code",
   "id": "b9e935c9-ad16-46ac-b71e-c6b2306af7d9",
   "metadata": {
    "ExecuteTime": {
     "end_time": "2025-09-10T00:24:23.425794Z",
     "start_time": "2025-09-10T00:24:12.136846Z"
    }
   },
   "source": [
    "sjoined = sjoined.assign(area_sq_mi = sjoined['geometry'].map(lambda x: x.area / sq_m_per_sq_mi))"
   ],
   "outputs": [],
   "execution_count": 77
  },
  {
   "cell_type": "code",
   "id": "fb4eaee0-e6ea-4273-9fb4-1bcc4ae3a40f",
   "metadata": {
    "ExecuteTime": {
     "end_time": "2025-09-10T00:24:23.651320Z",
     "start_time": "2025-09-10T00:24:23.429852Z"
    }
   },
   "source": [
    "sj_geo = sjoined.copy()"
   ],
   "outputs": [],
   "execution_count": 78
  },
  {
   "cell_type": "code",
   "id": "624a8b6d-12e6-4c06-8c5f-e56176002f71",
   "metadata": {
    "ExecuteTime": {
     "end_time": "2025-09-10T00:24:23.751886Z",
     "start_time": "2025-09-10T00:24:23.655214Z"
    }
   },
   "source": [
    "# column 'index_right' does not exist, the previous `>> select` did surface when\n",
    "# columns didn't exist\n",
    "sjoined = sjoined.drop(['geometry'], axis='columns', inplace=False)"
   ],
   "outputs": [],
   "execution_count": 79
  },
  {
   "cell_type": "code",
   "id": "e5ef48a1-006f-43af-8557-96f26e4e4a44",
   "metadata": {
    "ExecuteTime": {
     "end_time": "2025-09-10T00:24:23.761399Z",
     "start_time": "2025-09-10T00:24:23.757100Z"
    }
   },
   "source": [
    "sjoined.head(3)"
   ],
   "outputs": [
    {
     "data": {
      "text/plain": [
       "               geoid  people  jobs  housing  hqta_ix  \\\n",
       "1     61130101032011       0   503        0    46899   \n",
       "3933  61130102011037       0    24        0    46899   \n",
       "4436  61130102042002      53    12       23    46899   \n",
       "\n",
       "                           agency_primary       hqta_type  area_sq_mi  \n",
       "1     Yolo County Transportation District  major_stop_bus    0.058746  \n",
       "3933  Yolo County Transportation District  major_stop_bus    0.031665  \n",
       "4436  Yolo County Transportation District  major_stop_bus    0.009574  "
      ],
      "text/html": [
       "<div>\n",
       "<style scoped>\n",
       "    .dataframe tbody tr th:only-of-type {\n",
       "        vertical-align: middle;\n",
       "    }\n",
       "\n",
       "    .dataframe tbody tr th {\n",
       "        vertical-align: top;\n",
       "    }\n",
       "\n",
       "    .dataframe thead th {\n",
       "        text-align: right;\n",
       "    }\n",
       "</style>\n",
       "<table border=\"1\" class=\"dataframe\">\n",
       "  <thead>\n",
       "    <tr style=\"text-align: right;\">\n",
       "      <th></th>\n",
       "      <th>geoid</th>\n",
       "      <th>people</th>\n",
       "      <th>jobs</th>\n",
       "      <th>housing</th>\n",
       "      <th>hqta_ix</th>\n",
       "      <th>agency_primary</th>\n",
       "      <th>hqta_type</th>\n",
       "      <th>area_sq_mi</th>\n",
       "    </tr>\n",
       "  </thead>\n",
       "  <tbody>\n",
       "    <tr>\n",
       "      <th>1</th>\n",
       "      <td>61130101032011</td>\n",
       "      <td>0</td>\n",
       "      <td>503</td>\n",
       "      <td>0</td>\n",
       "      <td>46899</td>\n",
       "      <td>Yolo County Transportation District</td>\n",
       "      <td>major_stop_bus</td>\n",
       "      <td>0.058746</td>\n",
       "    </tr>\n",
       "    <tr>\n",
       "      <th>3933</th>\n",
       "      <td>61130102011037</td>\n",
       "      <td>0</td>\n",
       "      <td>24</td>\n",
       "      <td>0</td>\n",
       "      <td>46899</td>\n",
       "      <td>Yolo County Transportation District</td>\n",
       "      <td>major_stop_bus</td>\n",
       "      <td>0.031665</td>\n",
       "    </tr>\n",
       "    <tr>\n",
       "      <th>4436</th>\n",
       "      <td>61130102042002</td>\n",
       "      <td>53</td>\n",
       "      <td>12</td>\n",
       "      <td>23</td>\n",
       "      <td>46899</td>\n",
       "      <td>Yolo County Transportation District</td>\n",
       "      <td>major_stop_bus</td>\n",
       "      <td>0.009574</td>\n",
       "    </tr>\n",
       "  </tbody>\n",
       "</table>\n",
       "</div>"
      ]
     },
     "execution_count": 80,
     "metadata": {},
     "output_type": "execute_result"
    }
   ],
   "execution_count": 80
  },
  {
   "cell_type": "code",
   "id": "693d2d1e-93cc-40f8-a79a-621b4337c2d4",
   "metadata": {
    "ExecuteTime": {
     "end_time": "2025-09-10T00:24:23.853244Z",
     "start_time": "2025-09-10T00:24:23.774067Z"
    }
   },
   "source": "sjoined.drop_duplicates(subset=['geoid', 'people'], inplace=False).filter(items=['geoid', 'people']).sum(numeric_only=True)",
   "outputs": [
    {
     "data": {
      "text/plain": [
       "geoid     6217363199145780985\n",
       "people               15073821\n",
       "dtype: int64"
      ]
     },
     "execution_count": 81,
     "metadata": {},
     "output_type": "execute_result"
    }
   ],
   "execution_count": 81
  },
  {
   "cell_type": "code",
   "id": "021be2a9-f51d-48ff-81d8-950eccbe722d",
   "metadata": {
    "ExecuteTime": {
     "end_time": "2025-09-10T00:24:24.279782Z",
     "start_time": "2025-09-10T00:24:23.857629Z"
    }
   },
   "source": [
    "# TODO figure out how to incorporate the n column based on shape[0]\n",
    "stop_grouped = sjoined.groupby(\n",
    "                    by=['hqta_ix', 'agency_primary', 'hqta_type'], dropna=False, group_keys=True\n",
    "                ).agg(\n",
    "                    total_jobs=('jobs', 'sum'),\n",
    "                    total_pop=('people', 'sum'),\n",
    "                    total_housing=('housing', 'sum'),\n",
    "                    total_sq_mi=('area_sq_mi', 'sum')\n",
    "                ).reset_index()"
   ],
   "outputs": [],
   "execution_count": 82
  },
  {
   "cell_type": "code",
   "id": "ea9cb61f-5669-41b7-954d-631928ae0df2",
   "metadata": {
    "ExecuteTime": {
     "end_time": "2025-09-10T00:24:24.289276Z",
     "start_time": "2025-09-10T00:24:24.284460Z"
    }
   },
   "source": "sjoined[sjoined['hqta_ix'] == 8241].sum(numeric_only=True)",
   "outputs": [
    {
     "data": {
      "text/plain": [
       "geoid         1.221078e+16\n",
       "people        7.122400e+04\n",
       "jobs          2.787700e+04\n",
       "housing       4.523000e+04\n",
       "hqta_ix       1.656441e+06\n",
       "area_sq_mi    9.501708e-01\n",
       "dtype: float64"
      ]
     },
     "execution_count": 83,
     "metadata": {},
     "output_type": "execute_result"
    }
   ],
   "execution_count": 83
  },
  {
   "cell_type": "code",
   "id": "6ca5b527-3b9c-46f4-8b3a-ca2d6cff2b2e",
   "metadata": {
    "ExecuteTime": {
     "end_time": "2025-09-10T00:24:24.308472Z",
     "start_time": "2025-09-10T00:24:24.298797Z"
    }
   },
   "source": [
    "stop_grouped.sort_values(by='total_pop', ascending=False, inplace=False)"
   ],
   "outputs": [
    {
     "data": {
      "text/plain": [
       "       hqta_ix                       agency_primary        hqta_type  \\\n",
       "5672      8241     City and County of San Francisco   major_stop_bus   \n",
       "5907      8476     City and County of San Francisco   major_stop_bus   \n",
       "5673      8242     City and County of San Francisco   major_stop_bus   \n",
       "5929      8498     City and County of San Francisco   major_stop_bus   \n",
       "5927      8496     City and County of San Francisco   major_stop_bus   \n",
       "...        ...                                  ...              ...   \n",
       "46387    48957  San Francisco International Airport  major_stop_rail   \n",
       "30791    33360           Los Angeles World Airports   major_stop_bus   \n",
       "30790    33359           Los Angeles World Airports   major_stop_bus   \n",
       "46388    48958  San Francisco International Airport  major_stop_rail   \n",
       "30802    33371           Los Angeles World Airports   major_stop_bus   \n",
       "\n",
       "       total_jobs  total_pop  total_housing  total_sq_mi  \n",
       "5672        27877      71224          45230     0.950171  \n",
       "5907        28269      70226          45748     0.917606  \n",
       "5673        40235      68901          43811     0.934889  \n",
       "5929        43298      68639          43643     0.938074  \n",
       "5927        49917      68386          43665     0.949875  \n",
       "...           ...        ...            ...          ...  \n",
       "46387        8801          0              0     2.908523  \n",
       "30791       32073          0              0     3.188587  \n",
       "30790       32073          0              0     3.188587  \n",
       "46388        8801          0              0     2.908523  \n",
       "30802       32031          0              0     3.146206  \n",
       "\n",
       "[46660 rows x 7 columns]"
      ],
      "text/html": [
       "<div>\n",
       "<style scoped>\n",
       "    .dataframe tbody tr th:only-of-type {\n",
       "        vertical-align: middle;\n",
       "    }\n",
       "\n",
       "    .dataframe tbody tr th {\n",
       "        vertical-align: top;\n",
       "    }\n",
       "\n",
       "    .dataframe thead th {\n",
       "        text-align: right;\n",
       "    }\n",
       "</style>\n",
       "<table border=\"1\" class=\"dataframe\">\n",
       "  <thead>\n",
       "    <tr style=\"text-align: right;\">\n",
       "      <th></th>\n",
       "      <th>hqta_ix</th>\n",
       "      <th>agency_primary</th>\n",
       "      <th>hqta_type</th>\n",
       "      <th>total_jobs</th>\n",
       "      <th>total_pop</th>\n",
       "      <th>total_housing</th>\n",
       "      <th>total_sq_mi</th>\n",
       "    </tr>\n",
       "  </thead>\n",
       "  <tbody>\n",
       "    <tr>\n",
       "      <th>5672</th>\n",
       "      <td>8241</td>\n",
       "      <td>City and County of San Francisco</td>\n",
       "      <td>major_stop_bus</td>\n",
       "      <td>27877</td>\n",
       "      <td>71224</td>\n",
       "      <td>45230</td>\n",
       "      <td>0.950171</td>\n",
       "    </tr>\n",
       "    <tr>\n",
       "      <th>5907</th>\n",
       "      <td>8476</td>\n",
       "      <td>City and County of San Francisco</td>\n",
       "      <td>major_stop_bus</td>\n",
       "      <td>28269</td>\n",
       "      <td>70226</td>\n",
       "      <td>45748</td>\n",
       "      <td>0.917606</td>\n",
       "    </tr>\n",
       "    <tr>\n",
       "      <th>5673</th>\n",
       "      <td>8242</td>\n",
       "      <td>City and County of San Francisco</td>\n",
       "      <td>major_stop_bus</td>\n",
       "      <td>40235</td>\n",
       "      <td>68901</td>\n",
       "      <td>43811</td>\n",
       "      <td>0.934889</td>\n",
       "    </tr>\n",
       "    <tr>\n",
       "      <th>5929</th>\n",
       "      <td>8498</td>\n",
       "      <td>City and County of San Francisco</td>\n",
       "      <td>major_stop_bus</td>\n",
       "      <td>43298</td>\n",
       "      <td>68639</td>\n",
       "      <td>43643</td>\n",
       "      <td>0.938074</td>\n",
       "    </tr>\n",
       "    <tr>\n",
       "      <th>5927</th>\n",
       "      <td>8496</td>\n",
       "      <td>City and County of San Francisco</td>\n",
       "      <td>major_stop_bus</td>\n",
       "      <td>49917</td>\n",
       "      <td>68386</td>\n",
       "      <td>43665</td>\n",
       "      <td>0.949875</td>\n",
       "    </tr>\n",
       "    <tr>\n",
       "      <th>...</th>\n",
       "      <td>...</td>\n",
       "      <td>...</td>\n",
       "      <td>...</td>\n",
       "      <td>...</td>\n",
       "      <td>...</td>\n",
       "      <td>...</td>\n",
       "      <td>...</td>\n",
       "    </tr>\n",
       "    <tr>\n",
       "      <th>46387</th>\n",
       "      <td>48957</td>\n",
       "      <td>San Francisco International Airport</td>\n",
       "      <td>major_stop_rail</td>\n",
       "      <td>8801</td>\n",
       "      <td>0</td>\n",
       "      <td>0</td>\n",
       "      <td>2.908523</td>\n",
       "    </tr>\n",
       "    <tr>\n",
       "      <th>30791</th>\n",
       "      <td>33360</td>\n",
       "      <td>Los Angeles World Airports</td>\n",
       "      <td>major_stop_bus</td>\n",
       "      <td>32073</td>\n",
       "      <td>0</td>\n",
       "      <td>0</td>\n",
       "      <td>3.188587</td>\n",
       "    </tr>\n",
       "    <tr>\n",
       "      <th>30790</th>\n",
       "      <td>33359</td>\n",
       "      <td>Los Angeles World Airports</td>\n",
       "      <td>major_stop_bus</td>\n",
       "      <td>32073</td>\n",
       "      <td>0</td>\n",
       "      <td>0</td>\n",
       "      <td>3.188587</td>\n",
       "    </tr>\n",
       "    <tr>\n",
       "      <th>46388</th>\n",
       "      <td>48958</td>\n",
       "      <td>San Francisco International Airport</td>\n",
       "      <td>major_stop_rail</td>\n",
       "      <td>8801</td>\n",
       "      <td>0</td>\n",
       "      <td>0</td>\n",
       "      <td>2.908523</td>\n",
       "    </tr>\n",
       "    <tr>\n",
       "      <th>30802</th>\n",
       "      <td>33371</td>\n",
       "      <td>Los Angeles World Airports</td>\n",
       "      <td>major_stop_bus</td>\n",
       "      <td>32031</td>\n",
       "      <td>0</td>\n",
       "      <td>0</td>\n",
       "      <td>3.146206</td>\n",
       "    </tr>\n",
       "  </tbody>\n",
       "</table>\n",
       "<p>46660 rows × 7 columns</p>\n",
       "</div>"
      ]
     },
     "execution_count": 84,
     "metadata": {},
     "output_type": "execute_result"
    }
   ],
   "execution_count": 84
  },
  {
   "cell_type": "code",
   "id": "7a787aa3-527c-4cec-8adc-3e7498c75d9a",
   "metadata": {
    "ExecuteTime": {
     "end_time": "2025-09-10T00:24:24.329921Z",
     "start_time": "2025-09-10T00:24:24.319150Z"
    }
   },
   "source": [
    "stop_grouped.describe()"
   ],
   "outputs": [
    {
     "data": {
      "text/plain": [
       "            hqta_ix     total_jobs     total_pop  total_housing   total_sq_mi\n",
       "count  46660.000000   46660.000000  46660.000000   46660.000000  46660.000000\n",
       "mean   25898.547342   16830.931740  12320.326704    5608.475439      1.207810\n",
       "std    13469.804237   36277.232701   9483.377655    5853.560702      0.952010\n",
       "min     2569.000000       5.000000      0.000000       0.000000      0.155600\n",
       "25%    14233.750000    2483.000000   6258.750000    2326.000000      0.921196\n",
       "50%    25898.500000    5049.000000   9988.000000    3666.000000      1.039169\n",
       "75%    37563.250000   11998.750000  15475.000000    6333.000000      1.293047\n",
       "max    49229.000000  255743.000000  71224.000000   45748.000000    153.077307"
      ],
      "text/html": [
       "<div>\n",
       "<style scoped>\n",
       "    .dataframe tbody tr th:only-of-type {\n",
       "        vertical-align: middle;\n",
       "    }\n",
       "\n",
       "    .dataframe tbody tr th {\n",
       "        vertical-align: top;\n",
       "    }\n",
       "\n",
       "    .dataframe thead th {\n",
       "        text-align: right;\n",
       "    }\n",
       "</style>\n",
       "<table border=\"1\" class=\"dataframe\">\n",
       "  <thead>\n",
       "    <tr style=\"text-align: right;\">\n",
       "      <th></th>\n",
       "      <th>hqta_ix</th>\n",
       "      <th>total_jobs</th>\n",
       "      <th>total_pop</th>\n",
       "      <th>total_housing</th>\n",
       "      <th>total_sq_mi</th>\n",
       "    </tr>\n",
       "  </thead>\n",
       "  <tbody>\n",
       "    <tr>\n",
       "      <th>count</th>\n",
       "      <td>46660.000000</td>\n",
       "      <td>46660.000000</td>\n",
       "      <td>46660.000000</td>\n",
       "      <td>46660.000000</td>\n",
       "      <td>46660.000000</td>\n",
       "    </tr>\n",
       "    <tr>\n",
       "      <th>mean</th>\n",
       "      <td>25898.547342</td>\n",
       "      <td>16830.931740</td>\n",
       "      <td>12320.326704</td>\n",
       "      <td>5608.475439</td>\n",
       "      <td>1.207810</td>\n",
       "    </tr>\n",
       "    <tr>\n",
       "      <th>std</th>\n",
       "      <td>13469.804237</td>\n",
       "      <td>36277.232701</td>\n",
       "      <td>9483.377655</td>\n",
       "      <td>5853.560702</td>\n",
       "      <td>0.952010</td>\n",
       "    </tr>\n",
       "    <tr>\n",
       "      <th>min</th>\n",
       "      <td>2569.000000</td>\n",
       "      <td>5.000000</td>\n",
       "      <td>0.000000</td>\n",
       "      <td>0.000000</td>\n",
       "      <td>0.155600</td>\n",
       "    </tr>\n",
       "    <tr>\n",
       "      <th>25%</th>\n",
       "      <td>14233.750000</td>\n",
       "      <td>2483.000000</td>\n",
       "      <td>6258.750000</td>\n",
       "      <td>2326.000000</td>\n",
       "      <td>0.921196</td>\n",
       "    </tr>\n",
       "    <tr>\n",
       "      <th>50%</th>\n",
       "      <td>25898.500000</td>\n",
       "      <td>5049.000000</td>\n",
       "      <td>9988.000000</td>\n",
       "      <td>3666.000000</td>\n",
       "      <td>1.039169</td>\n",
       "    </tr>\n",
       "    <tr>\n",
       "      <th>75%</th>\n",
       "      <td>37563.250000</td>\n",
       "      <td>11998.750000</td>\n",
       "      <td>15475.000000</td>\n",
       "      <td>6333.000000</td>\n",
       "      <td>1.293047</td>\n",
       "    </tr>\n",
       "    <tr>\n",
       "      <th>max</th>\n",
       "      <td>49229.000000</td>\n",
       "      <td>255743.000000</td>\n",
       "      <td>71224.000000</td>\n",
       "      <td>45748.000000</td>\n",
       "      <td>153.077307</td>\n",
       "    </tr>\n",
       "  </tbody>\n",
       "</table>\n",
       "</div>"
      ]
     },
     "execution_count": 85,
     "metadata": {},
     "output_type": "execute_result"
    }
   ],
   "execution_count": 85
  },
  {
   "cell_type": "code",
   "id": "7567ae69-465e-4019-acaf-54c200e8f746",
   "metadata": {
    "ExecuteTime": {
     "end_time": "2025-09-10T00:53:29.533936Z",
     "start_time": "2025-09-10T00:53:29.529081Z"
    }
   },
   "source": [
    "def group_calculate(df, groups, normalize=False):\n",
    "    def percentile(n):\n",
    "        def percentile_(x):\n",
    "            return x.quantile(n)\n",
    "\n",
    "        return percentile_\n",
    "\n",
    "\n",
    "    if normalize:\n",
    "        df.total_pop = df.total_pop / df.total_sq_mi\n",
    "        df.total_jobs = df.total_jobs / df.total_sq_mi\n",
    "        df.total_housing = df.total_housing / df.total_sq_mi\n",
    "\n",
    "    new_df = df.groupby(by=groups, dropna=False, group_keys=True).agg(\n",
    "                            p5_pop = ('total_pop', percentile(.05)),\n",
    "                            p20_pop = ('total_pop', percentile(.2)),\n",
    "                            p50_pop = ('total_pop', percentile(.5)),\n",
    "                            p80_pop = ('total_pop', percentile(.8)),\n",
    "                            p95_pop = ('total_pop', percentile(.95)),\n",
    "                            p5_jobs = ('total_jobs', percentile(.05)),\n",
    "                            p20_jobs = ('total_jobs', percentile(.2)),\n",
    "                            p50_jobs = ('total_jobs', percentile(.5)),\n",
    "                            p80_jobs = ('total_jobs', percentile(.8)),\n",
    "                            p95_jobs = ('total_jobs', percentile(.95)),\n",
    "                            p5_housing = ('total_housing', percentile(.05)),\n",
    "                            p20_housing = ('total_housing', percentile(.2)),\n",
    "                            p50_housing = ('total_housing', percentile(.5)),\n",
    "                            p80_housing = ('total_housing', percentile(.8)),\n",
    "                            p95_housing = ('total_housing', percentile(.95))\n",
    "                        ).reset_index()\n",
    "    if normalize:\n",
    "        new_names = new_df.columns.map(lambda x: x+'_per_sq_mi')\n",
    "        rename_dict = dict(zip(new_df.columns, new_names))\n",
    "        new_df = new_df.rename(columns=rename_dict)\n",
    "    return new_df.round(1)"
   ],
   "outputs": [],
   "execution_count": 108
  },
  {
   "cell_type": "code",
   "id": "6be15d1a-4260-42a0-97f0-5d6f75fb18d7",
   "metadata": {
    "ExecuteTime": {
     "end_time": "2025-09-10T00:53:33.749099Z",
     "start_time": "2025-09-10T00:53:33.703166Z"
    }
   },
   "source": [
    "by_type = group_calculate(stop_grouped, ['hqta_type'], normalize=False)\n",
    "by_type"
   ],
   "outputs": [
    {
     "data": {
      "text/plain": [
       "          hqta_type  p5_pop  p20_pop  p50_pop  p80_pop  p95_pop  p5_jobs  \\\n",
       "0    major_stop_brt  7201.0  14900.6  23434.5  35540.0  58089.4   1308.4   \n",
       "1    major_stop_bus  2505.0   5479.0   9829.0  16966.0  27301.0   1028.0   \n",
       "2  major_stop_ferry   507.8   3172.0   6880.0  10316.2  11707.0   1033.4   \n",
       "3   major_stop_rail  2227.7   6191.0  11971.0  25451.6  56594.0   1377.7   \n",
       "\n",
       "   p20_jobs  p50_jobs  p80_jobs  p95_jobs  p5_housing  p20_housing  \\\n",
       "0    3961.4   12188.5   80472.4  204147.0      2334.8       4954.4   \n",
       "1    2119.0    4878.0   14676.0   77209.0       953.0       2090.0   \n",
       "2    1679.0   14020.0  123292.6  135427.7       210.4       1704.0   \n",
       "3    3110.8    8994.0   45033.0  217600.0       855.3       2482.0   \n",
       "\n",
       "   p50_housing  p80_housing  p95_housing  \n",
       "0      11311.0      21936.0      36266.9  \n",
       "1       3606.0       7134.0      17160.0  \n",
       "2       4143.0       6906.2       7761.0  \n",
       "3       5220.0      15627.0      32754.0  "
      ],
      "text/html": [
       "<div>\n",
       "<style scoped>\n",
       "    .dataframe tbody tr th:only-of-type {\n",
       "        vertical-align: middle;\n",
       "    }\n",
       "\n",
       "    .dataframe tbody tr th {\n",
       "        vertical-align: top;\n",
       "    }\n",
       "\n",
       "    .dataframe thead th {\n",
       "        text-align: right;\n",
       "    }\n",
       "</style>\n",
       "<table border=\"1\" class=\"dataframe\">\n",
       "  <thead>\n",
       "    <tr style=\"text-align: right;\">\n",
       "      <th></th>\n",
       "      <th>hqta_type</th>\n",
       "      <th>p5_pop</th>\n",
       "      <th>p20_pop</th>\n",
       "      <th>p50_pop</th>\n",
       "      <th>p80_pop</th>\n",
       "      <th>p95_pop</th>\n",
       "      <th>p5_jobs</th>\n",
       "      <th>p20_jobs</th>\n",
       "      <th>p50_jobs</th>\n",
       "      <th>p80_jobs</th>\n",
       "      <th>p95_jobs</th>\n",
       "      <th>p5_housing</th>\n",
       "      <th>p20_housing</th>\n",
       "      <th>p50_housing</th>\n",
       "      <th>p80_housing</th>\n",
       "      <th>p95_housing</th>\n",
       "    </tr>\n",
       "  </thead>\n",
       "  <tbody>\n",
       "    <tr>\n",
       "      <th>0</th>\n",
       "      <td>major_stop_brt</td>\n",
       "      <td>7201.0</td>\n",
       "      <td>14900.6</td>\n",
       "      <td>23434.5</td>\n",
       "      <td>35540.0</td>\n",
       "      <td>58089.4</td>\n",
       "      <td>1308.4</td>\n",
       "      <td>3961.4</td>\n",
       "      <td>12188.5</td>\n",
       "      <td>80472.4</td>\n",
       "      <td>204147.0</td>\n",
       "      <td>2334.8</td>\n",
       "      <td>4954.4</td>\n",
       "      <td>11311.0</td>\n",
       "      <td>21936.0</td>\n",
       "      <td>36266.9</td>\n",
       "    </tr>\n",
       "    <tr>\n",
       "      <th>1</th>\n",
       "      <td>major_stop_bus</td>\n",
       "      <td>2505.0</td>\n",
       "      <td>5479.0</td>\n",
       "      <td>9829.0</td>\n",
       "      <td>16966.0</td>\n",
       "      <td>27301.0</td>\n",
       "      <td>1028.0</td>\n",
       "      <td>2119.0</td>\n",
       "      <td>4878.0</td>\n",
       "      <td>14676.0</td>\n",
       "      <td>77209.0</td>\n",
       "      <td>953.0</td>\n",
       "      <td>2090.0</td>\n",
       "      <td>3606.0</td>\n",
       "      <td>7134.0</td>\n",
       "      <td>17160.0</td>\n",
       "    </tr>\n",
       "    <tr>\n",
       "      <th>2</th>\n",
       "      <td>major_stop_ferry</td>\n",
       "      <td>507.8</td>\n",
       "      <td>3172.0</td>\n",
       "      <td>6880.0</td>\n",
       "      <td>10316.2</td>\n",
       "      <td>11707.0</td>\n",
       "      <td>1033.4</td>\n",
       "      <td>1679.0</td>\n",
       "      <td>14020.0</td>\n",
       "      <td>123292.6</td>\n",
       "      <td>135427.7</td>\n",
       "      <td>210.4</td>\n",
       "      <td>1704.0</td>\n",
       "      <td>4143.0</td>\n",
       "      <td>6906.2</td>\n",
       "      <td>7761.0</td>\n",
       "    </tr>\n",
       "    <tr>\n",
       "      <th>3</th>\n",
       "      <td>major_stop_rail</td>\n",
       "      <td>2227.7</td>\n",
       "      <td>6191.0</td>\n",
       "      <td>11971.0</td>\n",
       "      <td>25451.6</td>\n",
       "      <td>56594.0</td>\n",
       "      <td>1377.7</td>\n",
       "      <td>3110.8</td>\n",
       "      <td>8994.0</td>\n",
       "      <td>45033.0</td>\n",
       "      <td>217600.0</td>\n",
       "      <td>855.3</td>\n",
       "      <td>2482.0</td>\n",
       "      <td>5220.0</td>\n",
       "      <td>15627.0</td>\n",
       "      <td>32754.0</td>\n",
       "    </tr>\n",
       "  </tbody>\n",
       "</table>\n",
       "</div>"
      ]
     },
     "execution_count": 109,
     "metadata": {},
     "output_type": "execute_result"
    }
   ],
   "execution_count": 109
  },
  {
   "cell_type": "code",
   "id": "db476ab6-6a34-4328-ae77-0e3f159ee3ee",
   "metadata": {
    "ExecuteTime": {
     "end_time": "2025-09-10T00:54:28.365902Z",
     "start_time": "2025-09-10T00:54:28.312011Z"
    }
   },
   "source": [
    "by_type_norm = group_calculate(stop_grouped, ['hqta_type'], normalize=True)\n",
    "by_type_norm"
   ],
   "outputs": [
    {
     "data": {
      "text/plain": [
       "  hqta_type_per_sq_mi  p5_pop_per_sq_mi  p20_pop_per_sq_mi  p50_pop_per_sq_mi  \\\n",
       "0      major_stop_brt            6640.1            15436.7            24445.2   \n",
       "1      major_stop_bus            1611.4             4462.0             8929.4   \n",
       "2    major_stop_ferry             421.7             2915.8            14225.9   \n",
       "3     major_stop_rail            1542.4             4661.7            12003.7   \n",
       "\n",
       "   p80_pop_per_sq_mi  p95_pop_per_sq_mi  p5_jobs_per_sq_mi  \\\n",
       "0            37133.6            63053.3             1299.3   \n",
       "1            17290.6            29238.9              825.8   \n",
       "2            22488.0            25607.5              669.3   \n",
       "3            28246.4            60329.3             1160.2   \n",
       "\n",
       "   p20_jobs_per_sq_mi  p50_jobs_per_sq_mi  p80_jobs_per_sq_mi  \\\n",
       "0              4303.8             11998.4             85633.4   \n",
       "1              1826.6              4329.2             13040.5   \n",
       "2              2732.9             22290.7            274160.5   \n",
       "3              2823.7              7614.2             50991.3   \n",
       "\n",
       "   p95_jobs_per_sq_mi  p5_housing_per_sq_mi  p20_housing_per_sq_mi  \\\n",
       "0            218470.9                2413.7                 5149.8   \n",
       "1             84565.7                 654.9                 1696.9   \n",
       "2            287714.1                 194.5                 1521.3   \n",
       "3            258973.0                 524.7                 1888.5   \n",
       "\n",
       "   p50_housing_per_sq_mi  p80_housing_per_sq_mi  p95_housing_per_sq_mi  \n",
       "0                12596.6                22679.6                38742.2  \n",
       "1                 3242.9                 7230.9                18680.4  \n",
       "2                 9045.7                15133.4                16976.2  \n",
       "3                 4844.0                17819.6                34478.3  "
      ],
      "text/html": [
       "<div>\n",
       "<style scoped>\n",
       "    .dataframe tbody tr th:only-of-type {\n",
       "        vertical-align: middle;\n",
       "    }\n",
       "\n",
       "    .dataframe tbody tr th {\n",
       "        vertical-align: top;\n",
       "    }\n",
       "\n",
       "    .dataframe thead th {\n",
       "        text-align: right;\n",
       "    }\n",
       "</style>\n",
       "<table border=\"1\" class=\"dataframe\">\n",
       "  <thead>\n",
       "    <tr style=\"text-align: right;\">\n",
       "      <th></th>\n",
       "      <th>hqta_type_per_sq_mi</th>\n",
       "      <th>p5_pop_per_sq_mi</th>\n",
       "      <th>p20_pop_per_sq_mi</th>\n",
       "      <th>p50_pop_per_sq_mi</th>\n",
       "      <th>p80_pop_per_sq_mi</th>\n",
       "      <th>p95_pop_per_sq_mi</th>\n",
       "      <th>p5_jobs_per_sq_mi</th>\n",
       "      <th>p20_jobs_per_sq_mi</th>\n",
       "      <th>p50_jobs_per_sq_mi</th>\n",
       "      <th>p80_jobs_per_sq_mi</th>\n",
       "      <th>p95_jobs_per_sq_mi</th>\n",
       "      <th>p5_housing_per_sq_mi</th>\n",
       "      <th>p20_housing_per_sq_mi</th>\n",
       "      <th>p50_housing_per_sq_mi</th>\n",
       "      <th>p80_housing_per_sq_mi</th>\n",
       "      <th>p95_housing_per_sq_mi</th>\n",
       "    </tr>\n",
       "  </thead>\n",
       "  <tbody>\n",
       "    <tr>\n",
       "      <th>0</th>\n",
       "      <td>major_stop_brt</td>\n",
       "      <td>6640.1</td>\n",
       "      <td>15436.7</td>\n",
       "      <td>24445.2</td>\n",
       "      <td>37133.6</td>\n",
       "      <td>63053.3</td>\n",
       "      <td>1299.3</td>\n",
       "      <td>4303.8</td>\n",
       "      <td>11998.4</td>\n",
       "      <td>85633.4</td>\n",
       "      <td>218470.9</td>\n",
       "      <td>2413.7</td>\n",
       "      <td>5149.8</td>\n",
       "      <td>12596.6</td>\n",
       "      <td>22679.6</td>\n",
       "      <td>38742.2</td>\n",
       "    </tr>\n",
       "    <tr>\n",
       "      <th>1</th>\n",
       "      <td>major_stop_bus</td>\n",
       "      <td>1611.4</td>\n",
       "      <td>4462.0</td>\n",
       "      <td>8929.4</td>\n",
       "      <td>17290.6</td>\n",
       "      <td>29238.9</td>\n",
       "      <td>825.8</td>\n",
       "      <td>1826.6</td>\n",
       "      <td>4329.2</td>\n",
       "      <td>13040.5</td>\n",
       "      <td>84565.7</td>\n",
       "      <td>654.9</td>\n",
       "      <td>1696.9</td>\n",
       "      <td>3242.9</td>\n",
       "      <td>7230.9</td>\n",
       "      <td>18680.4</td>\n",
       "    </tr>\n",
       "    <tr>\n",
       "      <th>2</th>\n",
       "      <td>major_stop_ferry</td>\n",
       "      <td>421.7</td>\n",
       "      <td>2915.8</td>\n",
       "      <td>14225.9</td>\n",
       "      <td>22488.0</td>\n",
       "      <td>25607.5</td>\n",
       "      <td>669.3</td>\n",
       "      <td>2732.9</td>\n",
       "      <td>22290.7</td>\n",
       "      <td>274160.5</td>\n",
       "      <td>287714.1</td>\n",
       "      <td>194.5</td>\n",
       "      <td>1521.3</td>\n",
       "      <td>9045.7</td>\n",
       "      <td>15133.4</td>\n",
       "      <td>16976.2</td>\n",
       "    </tr>\n",
       "    <tr>\n",
       "      <th>3</th>\n",
       "      <td>major_stop_rail</td>\n",
       "      <td>1542.4</td>\n",
       "      <td>4661.7</td>\n",
       "      <td>12003.7</td>\n",
       "      <td>28246.4</td>\n",
       "      <td>60329.3</td>\n",
       "      <td>1160.2</td>\n",
       "      <td>2823.7</td>\n",
       "      <td>7614.2</td>\n",
       "      <td>50991.3</td>\n",
       "      <td>258973.0</td>\n",
       "      <td>524.7</td>\n",
       "      <td>1888.5</td>\n",
       "      <td>4844.0</td>\n",
       "      <td>17819.6</td>\n",
       "      <td>34478.3</td>\n",
       "    </tr>\n",
       "  </tbody>\n",
       "</table>\n",
       "</div>"
      ]
     },
     "execution_count": 110,
     "metadata": {},
     "output_type": "execute_result"
    }
   ],
   "execution_count": 110
  },
  {
   "cell_type": "code",
   "id": "9a7cecc2-3736-431e-b172-c50ac0ab4f62",
   "metadata": {
    "ExecuteTime": {
     "end_time": "2025-09-10T00:55:33.944291Z",
     "start_time": "2025-09-10T00:55:33.464147Z"
    }
   },
   "source": [
    "by_agency = group_calculate(stop_grouped, ['hqta_type', 'agency_primary'], normalize=False)\n",
    "by_agency"
   ],
   "outputs": [
    {
     "data": {
      "text/plain": [
       "           hqta_type                                     agency_primary  \\\n",
       "0     major_stop_brt              Alameda-Contra Costa Transit District   \n",
       "1     major_stop_brt                   City and County of San Francisco   \n",
       "2     major_stop_brt  Los Angeles County Metropolitan Transportation...   \n",
       "3     major_stop_bus              Alameda-Contra Costa Transit District   \n",
       "4     major_stop_bus                     Amador Regional Transit System   \n",
       "..               ...                                                ...   \n",
       "157  major_stop_rail                San Francisco International Airport   \n",
       "158  major_stop_rail               San Joaquin Regional Rail Commission   \n",
       "159  major_stop_rail        Santa Clara Valley Transportation Authority   \n",
       "160  major_stop_rail            Sonoma-Marin Area Rail Transit District   \n",
       "161  major_stop_rail        Southern California Regional Rail Authority   \n",
       "\n",
       "      p5_pop  p20_pop  p50_pop  p80_pop  p95_pop  p5_jobs  p20_jobs  p50_jobs  \\\n",
       "0    11384.2  13029.7  17101.5  18747.5  22483.9   1064.5    1313.9    4300.4   \n",
       "1    16828.8  24270.7  30182.5  51135.6  68909.1   4340.7    8158.7   18413.6   \n",
       "2     3355.4   6342.8  13073.8  18115.8  23438.5    986.6    2049.0    5015.2   \n",
       "3     3837.3   8035.7  12197.4  17433.2  23554.1    684.3    1377.9    3273.0   \n",
       "4       98.7    133.9    133.9    139.8   8752.9    141.0     142.2     142.2   \n",
       "..       ...      ...      ...      ...      ...      ...       ...       ...   \n",
       "157      0.0      0.0    200.9   1103.0   1540.1   2850.7    2873.6    3025.9   \n",
       "158    626.6   1957.2   4135.1   6603.9  12333.9    758.3    1390.4    4281.7   \n",
       "159    256.1   2416.4   7539.0  11574.3  15072.2   1202.0    3695.0    9838.7   \n",
       "160    764.3   1846.8   3569.5   6167.1   9330.7    463.4    1074.2    2482.0   \n",
       "161     76.6   1873.0   4757.6   8254.5  12003.7    512.2    2020.0    4623.4   \n",
       "\n",
       "     p80_jobs  p95_jobs  p5_housing  p20_housing  p50_housing  p80_housing  \\\n",
       "0      7434.9   72900.3      3414.5       4603.6       5160.4       8453.5   \n",
       "1     98015.6  236992.6      8523.5      11815.6      17318.7      28692.2   \n",
       "2     12672.1  125966.3      1295.5       2278.6       4777.3       6766.8   \n",
       "3      8774.5   60164.1      1517.4       3070.5       4750.7       7521.4   \n",
       "4       146.2   72964.8        64.6         82.3         82.3         86.4   \n",
       "..        ...       ...         ...          ...          ...          ...   \n",
       "157    3954.0    4080.3         0.0          0.0         61.2        358.3   \n",
       "158    9627.7   15993.5       244.3        519.0       1642.1       2644.1   \n",
       "159   24311.4   41230.6        73.0       1189.9       3157.9       5318.4   \n",
       "160    3833.8    5301.5       353.9        727.1       1579.7       2845.7   \n",
       "161    8077.2   41988.3        29.1        709.8       1763.1       2628.6   \n",
       "\n",
       "     p95_housing  \n",
       "0        13862.3  \n",
       "1        41951.5  \n",
       "2        14945.4  \n",
       "3        13572.8  \n",
       "4         4404.5  \n",
       "..           ...  \n",
       "157        506.9  \n",
       "158       5345.9  \n",
       "159       8695.6  \n",
       "160       3614.0  \n",
       "161       3501.8  \n",
       "\n",
       "[162 rows x 17 columns]"
      ],
      "text/html": [
       "<div>\n",
       "<style scoped>\n",
       "    .dataframe tbody tr th:only-of-type {\n",
       "        vertical-align: middle;\n",
       "    }\n",
       "\n",
       "    .dataframe tbody tr th {\n",
       "        vertical-align: top;\n",
       "    }\n",
       "\n",
       "    .dataframe thead th {\n",
       "        text-align: right;\n",
       "    }\n",
       "</style>\n",
       "<table border=\"1\" class=\"dataframe\">\n",
       "  <thead>\n",
       "    <tr style=\"text-align: right;\">\n",
       "      <th></th>\n",
       "      <th>hqta_type</th>\n",
       "      <th>agency_primary</th>\n",
       "      <th>p5_pop</th>\n",
       "      <th>p20_pop</th>\n",
       "      <th>p50_pop</th>\n",
       "      <th>p80_pop</th>\n",
       "      <th>p95_pop</th>\n",
       "      <th>p5_jobs</th>\n",
       "      <th>p20_jobs</th>\n",
       "      <th>p50_jobs</th>\n",
       "      <th>p80_jobs</th>\n",
       "      <th>p95_jobs</th>\n",
       "      <th>p5_housing</th>\n",
       "      <th>p20_housing</th>\n",
       "      <th>p50_housing</th>\n",
       "      <th>p80_housing</th>\n",
       "      <th>p95_housing</th>\n",
       "    </tr>\n",
       "  </thead>\n",
       "  <tbody>\n",
       "    <tr>\n",
       "      <th>0</th>\n",
       "      <td>major_stop_brt</td>\n",
       "      <td>Alameda-Contra Costa Transit District</td>\n",
       "      <td>11384.2</td>\n",
       "      <td>13029.7</td>\n",
       "      <td>17101.5</td>\n",
       "      <td>18747.5</td>\n",
       "      <td>22483.9</td>\n",
       "      <td>1064.5</td>\n",
       "      <td>1313.9</td>\n",
       "      <td>4300.4</td>\n",
       "      <td>7434.9</td>\n",
       "      <td>72900.3</td>\n",
       "      <td>3414.5</td>\n",
       "      <td>4603.6</td>\n",
       "      <td>5160.4</td>\n",
       "      <td>8453.5</td>\n",
       "      <td>13862.3</td>\n",
       "    </tr>\n",
       "    <tr>\n",
       "      <th>1</th>\n",
       "      <td>major_stop_brt</td>\n",
       "      <td>City and County of San Francisco</td>\n",
       "      <td>16828.8</td>\n",
       "      <td>24270.7</td>\n",
       "      <td>30182.5</td>\n",
       "      <td>51135.6</td>\n",
       "      <td>68909.1</td>\n",
       "      <td>4340.7</td>\n",
       "      <td>8158.7</td>\n",
       "      <td>18413.6</td>\n",
       "      <td>98015.6</td>\n",
       "      <td>236992.6</td>\n",
       "      <td>8523.5</td>\n",
       "      <td>11815.6</td>\n",
       "      <td>17318.7</td>\n",
       "      <td>28692.2</td>\n",
       "      <td>41951.5</td>\n",
       "    </tr>\n",
       "    <tr>\n",
       "      <th>2</th>\n",
       "      <td>major_stop_brt</td>\n",
       "      <td>Los Angeles County Metropolitan Transportation...</td>\n",
       "      <td>3355.4</td>\n",
       "      <td>6342.8</td>\n",
       "      <td>13073.8</td>\n",
       "      <td>18115.8</td>\n",
       "      <td>23438.5</td>\n",
       "      <td>986.6</td>\n",
       "      <td>2049.0</td>\n",
       "      <td>5015.2</td>\n",
       "      <td>12672.1</td>\n",
       "      <td>125966.3</td>\n",
       "      <td>1295.5</td>\n",
       "      <td>2278.6</td>\n",
       "      <td>4777.3</td>\n",
       "      <td>6766.8</td>\n",
       "      <td>14945.4</td>\n",
       "    </tr>\n",
       "    <tr>\n",
       "      <th>3</th>\n",
       "      <td>major_stop_bus</td>\n",
       "      <td>Alameda-Contra Costa Transit District</td>\n",
       "      <td>3837.3</td>\n",
       "      <td>8035.7</td>\n",
       "      <td>12197.4</td>\n",
       "      <td>17433.2</td>\n",
       "      <td>23554.1</td>\n",
       "      <td>684.3</td>\n",
       "      <td>1377.9</td>\n",
       "      <td>3273.0</td>\n",
       "      <td>8774.5</td>\n",
       "      <td>60164.1</td>\n",
       "      <td>1517.4</td>\n",
       "      <td>3070.5</td>\n",
       "      <td>4750.7</td>\n",
       "      <td>7521.4</td>\n",
       "      <td>13572.8</td>\n",
       "    </tr>\n",
       "    <tr>\n",
       "      <th>4</th>\n",
       "      <td>major_stop_bus</td>\n",
       "      <td>Amador Regional Transit System</td>\n",
       "      <td>98.7</td>\n",
       "      <td>133.9</td>\n",
       "      <td>133.9</td>\n",
       "      <td>139.8</td>\n",
       "      <td>8752.9</td>\n",
       "      <td>141.0</td>\n",
       "      <td>142.2</td>\n",
       "      <td>142.2</td>\n",
       "      <td>146.2</td>\n",
       "      <td>72964.8</td>\n",
       "      <td>64.6</td>\n",
       "      <td>82.3</td>\n",
       "      <td>82.3</td>\n",
       "      <td>86.4</td>\n",
       "      <td>4404.5</td>\n",
       "    </tr>\n",
       "    <tr>\n",
       "      <th>...</th>\n",
       "      <td>...</td>\n",
       "      <td>...</td>\n",
       "      <td>...</td>\n",
       "      <td>...</td>\n",
       "      <td>...</td>\n",
       "      <td>...</td>\n",
       "      <td>...</td>\n",
       "      <td>...</td>\n",
       "      <td>...</td>\n",
       "      <td>...</td>\n",
       "      <td>...</td>\n",
       "      <td>...</td>\n",
       "      <td>...</td>\n",
       "      <td>...</td>\n",
       "      <td>...</td>\n",
       "      <td>...</td>\n",
       "      <td>...</td>\n",
       "    </tr>\n",
       "    <tr>\n",
       "      <th>157</th>\n",
       "      <td>major_stop_rail</td>\n",
       "      <td>San Francisco International Airport</td>\n",
       "      <td>0.0</td>\n",
       "      <td>0.0</td>\n",
       "      <td>200.9</td>\n",
       "      <td>1103.0</td>\n",
       "      <td>1540.1</td>\n",
       "      <td>2850.7</td>\n",
       "      <td>2873.6</td>\n",
       "      <td>3025.9</td>\n",
       "      <td>3954.0</td>\n",
       "      <td>4080.3</td>\n",
       "      <td>0.0</td>\n",
       "      <td>0.0</td>\n",
       "      <td>61.2</td>\n",
       "      <td>358.3</td>\n",
       "      <td>506.9</td>\n",
       "    </tr>\n",
       "    <tr>\n",
       "      <th>158</th>\n",
       "      <td>major_stop_rail</td>\n",
       "      <td>San Joaquin Regional Rail Commission</td>\n",
       "      <td>626.6</td>\n",
       "      <td>1957.2</td>\n",
       "      <td>4135.1</td>\n",
       "      <td>6603.9</td>\n",
       "      <td>12333.9</td>\n",
       "      <td>758.3</td>\n",
       "      <td>1390.4</td>\n",
       "      <td>4281.7</td>\n",
       "      <td>9627.7</td>\n",
       "      <td>15993.5</td>\n",
       "      <td>244.3</td>\n",
       "      <td>519.0</td>\n",
       "      <td>1642.1</td>\n",
       "      <td>2644.1</td>\n",
       "      <td>5345.9</td>\n",
       "    </tr>\n",
       "    <tr>\n",
       "      <th>159</th>\n",
       "      <td>major_stop_rail</td>\n",
       "      <td>Santa Clara Valley Transportation Authority</td>\n",
       "      <td>256.1</td>\n",
       "      <td>2416.4</td>\n",
       "      <td>7539.0</td>\n",
       "      <td>11574.3</td>\n",
       "      <td>15072.2</td>\n",
       "      <td>1202.0</td>\n",
       "      <td>3695.0</td>\n",
       "      <td>9838.7</td>\n",
       "      <td>24311.4</td>\n",
       "      <td>41230.6</td>\n",
       "      <td>73.0</td>\n",
       "      <td>1189.9</td>\n",
       "      <td>3157.9</td>\n",
       "      <td>5318.4</td>\n",
       "      <td>8695.6</td>\n",
       "    </tr>\n",
       "    <tr>\n",
       "      <th>160</th>\n",
       "      <td>major_stop_rail</td>\n",
       "      <td>Sonoma-Marin Area Rail Transit District</td>\n",
       "      <td>764.3</td>\n",
       "      <td>1846.8</td>\n",
       "      <td>3569.5</td>\n",
       "      <td>6167.1</td>\n",
       "      <td>9330.7</td>\n",
       "      <td>463.4</td>\n",
       "      <td>1074.2</td>\n",
       "      <td>2482.0</td>\n",
       "      <td>3833.8</td>\n",
       "      <td>5301.5</td>\n",
       "      <td>353.9</td>\n",
       "      <td>727.1</td>\n",
       "      <td>1579.7</td>\n",
       "      <td>2845.7</td>\n",
       "      <td>3614.0</td>\n",
       "    </tr>\n",
       "    <tr>\n",
       "      <th>161</th>\n",
       "      <td>major_stop_rail</td>\n",
       "      <td>Southern California Regional Rail Authority</td>\n",
       "      <td>76.6</td>\n",
       "      <td>1873.0</td>\n",
       "      <td>4757.6</td>\n",
       "      <td>8254.5</td>\n",
       "      <td>12003.7</td>\n",
       "      <td>512.2</td>\n",
       "      <td>2020.0</td>\n",
       "      <td>4623.4</td>\n",
       "      <td>8077.2</td>\n",
       "      <td>41988.3</td>\n",
       "      <td>29.1</td>\n",
       "      <td>709.8</td>\n",
       "      <td>1763.1</td>\n",
       "      <td>2628.6</td>\n",
       "      <td>3501.8</td>\n",
       "    </tr>\n",
       "  </tbody>\n",
       "</table>\n",
       "<p>162 rows × 17 columns</p>\n",
       "</div>"
      ]
     },
     "execution_count": 111,
     "metadata": {},
     "output_type": "execute_result"
    }
   ],
   "execution_count": 111
  },
  {
   "cell_type": "code",
   "id": "365dbd2d-d7bb-43b5-9a8f-a06bc8597ff8",
   "metadata": {
    "ExecuteTime": {
     "end_time": "2025-09-10T00:56:49.230334Z",
     "start_time": "2025-09-10T00:56:48.749098Z"
    }
   },
   "source": [
    "by_agency_norm = group_calculate(stop_grouped, ['hqta_type', 'agency_primary'], normalize=True)\n",
    "by_agency_norm"
   ],
   "outputs": [
    {
     "data": {
      "text/plain": [
       "    hqta_type_per_sq_mi                           agency_primary_per_sq_mi  \\\n",
       "0        major_stop_brt              Alameda-Contra Costa Transit District   \n",
       "1        major_stop_brt                   City and County of San Francisco   \n",
       "2        major_stop_brt  Los Angeles County Metropolitan Transportation...   \n",
       "3        major_stop_bus              Alameda-Contra Costa Transit District   \n",
       "4        major_stop_bus                     Amador Regional Transit System   \n",
       "..                  ...                                                ...   \n",
       "157     major_stop_rail                San Francisco International Airport   \n",
       "158     major_stop_rail               San Joaquin Regional Rail Commission   \n",
       "159     major_stop_rail        Santa Clara Valley Transportation Authority   \n",
       "160     major_stop_rail            Sonoma-Marin Area Rail Transit District   \n",
       "161     major_stop_rail        Southern California Regional Rail Authority   \n",
       "\n",
       "     p5_pop_per_sq_mi  p20_pop_per_sq_mi  p50_pop_per_sq_mi  \\\n",
       "0             10542.6            13056.2            17563.1   \n",
       "1             16634.4            26624.2            33003.2   \n",
       "2              3120.4             6085.7            14222.1   \n",
       "3              2395.4             6745.5            12696.7   \n",
       "4                14.1               18.8               18.8   \n",
       "..                ...                ...                ...   \n",
       "157               0.0                0.0               65.0   \n",
       "158             430.4              949.7             2656.3   \n",
       "159             106.4             1463.6             6257.9   \n",
       "160             271.4              562.8             2318.2   \n",
       "161              50.2             1020.8             3780.4   \n",
       "\n",
       "     p80_pop_per_sq_mi  p95_pop_per_sq_mi  p5_jobs_per_sq_mi  \\\n",
       "0              20945.3            28295.8             1125.7   \n",
       "1              53751.4            74513.8             3913.7   \n",
       "2              21294.7            30231.7              999.0   \n",
       "3              19940.5            27670.7              435.5   \n",
       "4                 19.4            10667.0               20.0   \n",
       "..                 ...                ...                ...   \n",
       "157              440.0              786.2              914.9   \n",
       "158             7853.0            13238.8              357.9   \n",
       "159            12088.5            19079.9              883.1   \n",
       "160             4035.3             7803.2              120.7   \n",
       "161             8816.6            14459.5              262.8   \n",
       "\n",
       "     p20_jobs_per_sq_mi  p50_jobs_per_sq_mi  p80_jobs_per_sq_mi  \\\n",
       "0                1372.9              4501.8              8073.8   \n",
       "1                9214.3             19937.6            106585.2   \n",
       "2                2104.1              4754.1             13556.5   \n",
       "3                1257.5              3197.9              9683.5   \n",
       "4                  20.0                20.1                20.3   \n",
       "..                  ...                 ...                 ...   \n",
       "157               930.1              1040.4              1806.9   \n",
       "158              1133.4              2672.6              7719.8   \n",
       "159              2522.2              7111.7             21609.1   \n",
       "160               368.8              1183.0              3221.8   \n",
       "161              1465.1              3567.6              8558.7   \n",
       "\n",
       "     p95_jobs_per_sq_mi  p5_housing_per_sq_mi  p20_housing_per_sq_mi  \\\n",
       "0               91353.2                3002.5                 4809.1   \n",
       "1              254559.6                7743.7                12936.4   \n",
       "2              133587.0                1204.8                 2118.9   \n",
       "3               75937.8                 886.6                 2593.1   \n",
       "4               88949.1                   9.2                   11.6   \n",
       "..                  ...                   ...                    ...   \n",
       "157              2065.3                   0.0                    0.0   \n",
       "158             18920.3                 135.6                  283.5   \n",
       "159             53574.0                  37.2                  753.7   \n",
       "160              3774.3                 116.6                  221.6   \n",
       "161             50578.5                  15.3                  358.1   \n",
       "\n",
       "     p50_housing_per_sq_mi  p80_housing_per_sq_mi  p95_housing_per_sq_mi  \n",
       "0                   5428.3                 9640.5                17202.4  \n",
       "1                  18731.6                31047.9                46269.3  \n",
       "2                   4809.0                 6676.8                17633.7  \n",
       "3                   5076.9                 8692.7                16396.4  \n",
       "4                     11.6                   12.0                 5366.5  \n",
       "..                     ...                    ...                    ...  \n",
       "157                   19.8                  147.2                  258.8  \n",
       "158                 1058.5                 3214.0                 5925.5  \n",
       "159                 2385.7                 5602.9                11049.7  \n",
       "160                 1020.7                 1862.0                 3019.5  \n",
       "161                 1582.4                 2957.3                 3766.8  \n",
       "\n",
       "[162 rows x 17 columns]"
      ],
      "text/html": [
       "<div>\n",
       "<style scoped>\n",
       "    .dataframe tbody tr th:only-of-type {\n",
       "        vertical-align: middle;\n",
       "    }\n",
       "\n",
       "    .dataframe tbody tr th {\n",
       "        vertical-align: top;\n",
       "    }\n",
       "\n",
       "    .dataframe thead th {\n",
       "        text-align: right;\n",
       "    }\n",
       "</style>\n",
       "<table border=\"1\" class=\"dataframe\">\n",
       "  <thead>\n",
       "    <tr style=\"text-align: right;\">\n",
       "      <th></th>\n",
       "      <th>hqta_type_per_sq_mi</th>\n",
       "      <th>agency_primary_per_sq_mi</th>\n",
       "      <th>p5_pop_per_sq_mi</th>\n",
       "      <th>p20_pop_per_sq_mi</th>\n",
       "      <th>p50_pop_per_sq_mi</th>\n",
       "      <th>p80_pop_per_sq_mi</th>\n",
       "      <th>p95_pop_per_sq_mi</th>\n",
       "      <th>p5_jobs_per_sq_mi</th>\n",
       "      <th>p20_jobs_per_sq_mi</th>\n",
       "      <th>p50_jobs_per_sq_mi</th>\n",
       "      <th>p80_jobs_per_sq_mi</th>\n",
       "      <th>p95_jobs_per_sq_mi</th>\n",
       "      <th>p5_housing_per_sq_mi</th>\n",
       "      <th>p20_housing_per_sq_mi</th>\n",
       "      <th>p50_housing_per_sq_mi</th>\n",
       "      <th>p80_housing_per_sq_mi</th>\n",
       "      <th>p95_housing_per_sq_mi</th>\n",
       "    </tr>\n",
       "  </thead>\n",
       "  <tbody>\n",
       "    <tr>\n",
       "      <th>0</th>\n",
       "      <td>major_stop_brt</td>\n",
       "      <td>Alameda-Contra Costa Transit District</td>\n",
       "      <td>10542.6</td>\n",
       "      <td>13056.2</td>\n",
       "      <td>17563.1</td>\n",
       "      <td>20945.3</td>\n",
       "      <td>28295.8</td>\n",
       "      <td>1125.7</td>\n",
       "      <td>1372.9</td>\n",
       "      <td>4501.8</td>\n",
       "      <td>8073.8</td>\n",
       "      <td>91353.2</td>\n",
       "      <td>3002.5</td>\n",
       "      <td>4809.1</td>\n",
       "      <td>5428.3</td>\n",
       "      <td>9640.5</td>\n",
       "      <td>17202.4</td>\n",
       "    </tr>\n",
       "    <tr>\n",
       "      <th>1</th>\n",
       "      <td>major_stop_brt</td>\n",
       "      <td>City and County of San Francisco</td>\n",
       "      <td>16634.4</td>\n",
       "      <td>26624.2</td>\n",
       "      <td>33003.2</td>\n",
       "      <td>53751.4</td>\n",
       "      <td>74513.8</td>\n",
       "      <td>3913.7</td>\n",
       "      <td>9214.3</td>\n",
       "      <td>19937.6</td>\n",
       "      <td>106585.2</td>\n",
       "      <td>254559.6</td>\n",
       "      <td>7743.7</td>\n",
       "      <td>12936.4</td>\n",
       "      <td>18731.6</td>\n",
       "      <td>31047.9</td>\n",
       "      <td>46269.3</td>\n",
       "    </tr>\n",
       "    <tr>\n",
       "      <th>2</th>\n",
       "      <td>major_stop_brt</td>\n",
       "      <td>Los Angeles County Metropolitan Transportation...</td>\n",
       "      <td>3120.4</td>\n",
       "      <td>6085.7</td>\n",
       "      <td>14222.1</td>\n",
       "      <td>21294.7</td>\n",
       "      <td>30231.7</td>\n",
       "      <td>999.0</td>\n",
       "      <td>2104.1</td>\n",
       "      <td>4754.1</td>\n",
       "      <td>13556.5</td>\n",
       "      <td>133587.0</td>\n",
       "      <td>1204.8</td>\n",
       "      <td>2118.9</td>\n",
       "      <td>4809.0</td>\n",
       "      <td>6676.8</td>\n",
       "      <td>17633.7</td>\n",
       "    </tr>\n",
       "    <tr>\n",
       "      <th>3</th>\n",
       "      <td>major_stop_bus</td>\n",
       "      <td>Alameda-Contra Costa Transit District</td>\n",
       "      <td>2395.4</td>\n",
       "      <td>6745.5</td>\n",
       "      <td>12696.7</td>\n",
       "      <td>19940.5</td>\n",
       "      <td>27670.7</td>\n",
       "      <td>435.5</td>\n",
       "      <td>1257.5</td>\n",
       "      <td>3197.9</td>\n",
       "      <td>9683.5</td>\n",
       "      <td>75937.8</td>\n",
       "      <td>886.6</td>\n",
       "      <td>2593.1</td>\n",
       "      <td>5076.9</td>\n",
       "      <td>8692.7</td>\n",
       "      <td>16396.4</td>\n",
       "    </tr>\n",
       "    <tr>\n",
       "      <th>4</th>\n",
       "      <td>major_stop_bus</td>\n",
       "      <td>Amador Regional Transit System</td>\n",
       "      <td>14.1</td>\n",
       "      <td>18.8</td>\n",
       "      <td>18.8</td>\n",
       "      <td>19.4</td>\n",
       "      <td>10667.0</td>\n",
       "      <td>20.0</td>\n",
       "      <td>20.0</td>\n",
       "      <td>20.1</td>\n",
       "      <td>20.3</td>\n",
       "      <td>88949.1</td>\n",
       "      <td>9.2</td>\n",
       "      <td>11.6</td>\n",
       "      <td>11.6</td>\n",
       "      <td>12.0</td>\n",
       "      <td>5366.5</td>\n",
       "    </tr>\n",
       "    <tr>\n",
       "      <th>...</th>\n",
       "      <td>...</td>\n",
       "      <td>...</td>\n",
       "      <td>...</td>\n",
       "      <td>...</td>\n",
       "      <td>...</td>\n",
       "      <td>...</td>\n",
       "      <td>...</td>\n",
       "      <td>...</td>\n",
       "      <td>...</td>\n",
       "      <td>...</td>\n",
       "      <td>...</td>\n",
       "      <td>...</td>\n",
       "      <td>...</td>\n",
       "      <td>...</td>\n",
       "      <td>...</td>\n",
       "      <td>...</td>\n",
       "      <td>...</td>\n",
       "    </tr>\n",
       "    <tr>\n",
       "      <th>157</th>\n",
       "      <td>major_stop_rail</td>\n",
       "      <td>San Francisco International Airport</td>\n",
       "      <td>0.0</td>\n",
       "      <td>0.0</td>\n",
       "      <td>65.0</td>\n",
       "      <td>440.0</td>\n",
       "      <td>786.2</td>\n",
       "      <td>914.9</td>\n",
       "      <td>930.1</td>\n",
       "      <td>1040.4</td>\n",
       "      <td>1806.9</td>\n",
       "      <td>2065.3</td>\n",
       "      <td>0.0</td>\n",
       "      <td>0.0</td>\n",
       "      <td>19.8</td>\n",
       "      <td>147.2</td>\n",
       "      <td>258.8</td>\n",
       "    </tr>\n",
       "    <tr>\n",
       "      <th>158</th>\n",
       "      <td>major_stop_rail</td>\n",
       "      <td>San Joaquin Regional Rail Commission</td>\n",
       "      <td>430.4</td>\n",
       "      <td>949.7</td>\n",
       "      <td>2656.3</td>\n",
       "      <td>7853.0</td>\n",
       "      <td>13238.8</td>\n",
       "      <td>357.9</td>\n",
       "      <td>1133.4</td>\n",
       "      <td>2672.6</td>\n",
       "      <td>7719.8</td>\n",
       "      <td>18920.3</td>\n",
       "      <td>135.6</td>\n",
       "      <td>283.5</td>\n",
       "      <td>1058.5</td>\n",
       "      <td>3214.0</td>\n",
       "      <td>5925.5</td>\n",
       "    </tr>\n",
       "    <tr>\n",
       "      <th>159</th>\n",
       "      <td>major_stop_rail</td>\n",
       "      <td>Santa Clara Valley Transportation Authority</td>\n",
       "      <td>106.4</td>\n",
       "      <td>1463.6</td>\n",
       "      <td>6257.9</td>\n",
       "      <td>12088.5</td>\n",
       "      <td>19079.9</td>\n",
       "      <td>883.1</td>\n",
       "      <td>2522.2</td>\n",
       "      <td>7111.7</td>\n",
       "      <td>21609.1</td>\n",
       "      <td>53574.0</td>\n",
       "      <td>37.2</td>\n",
       "      <td>753.7</td>\n",
       "      <td>2385.7</td>\n",
       "      <td>5602.9</td>\n",
       "      <td>11049.7</td>\n",
       "    </tr>\n",
       "    <tr>\n",
       "      <th>160</th>\n",
       "      <td>major_stop_rail</td>\n",
       "      <td>Sonoma-Marin Area Rail Transit District</td>\n",
       "      <td>271.4</td>\n",
       "      <td>562.8</td>\n",
       "      <td>2318.2</td>\n",
       "      <td>4035.3</td>\n",
       "      <td>7803.2</td>\n",
       "      <td>120.7</td>\n",
       "      <td>368.8</td>\n",
       "      <td>1183.0</td>\n",
       "      <td>3221.8</td>\n",
       "      <td>3774.3</td>\n",
       "      <td>116.6</td>\n",
       "      <td>221.6</td>\n",
       "      <td>1020.7</td>\n",
       "      <td>1862.0</td>\n",
       "      <td>3019.5</td>\n",
       "    </tr>\n",
       "    <tr>\n",
       "      <th>161</th>\n",
       "      <td>major_stop_rail</td>\n",
       "      <td>Southern California Regional Rail Authority</td>\n",
       "      <td>50.2</td>\n",
       "      <td>1020.8</td>\n",
       "      <td>3780.4</td>\n",
       "      <td>8816.6</td>\n",
       "      <td>14459.5</td>\n",
       "      <td>262.8</td>\n",
       "      <td>1465.1</td>\n",
       "      <td>3567.6</td>\n",
       "      <td>8558.7</td>\n",
       "      <td>50578.5</td>\n",
       "      <td>15.3</td>\n",
       "      <td>358.1</td>\n",
       "      <td>1582.4</td>\n",
       "      <td>2957.3</td>\n",
       "      <td>3766.8</td>\n",
       "    </tr>\n",
       "  </tbody>\n",
       "</table>\n",
       "<p>162 rows × 17 columns</p>\n",
       "</div>"
      ]
     },
     "execution_count": 112,
     "metadata": {},
     "output_type": "execute_result"
    }
   ],
   "execution_count": 112
  },
  {
   "cell_type": "code",
   "id": "b37541b1-a5b7-4c5e-8a1b-ed619c1d7241",
   "metadata": {},
   "source": [
    "# by_type.to_csv('pop_jobs_housing_by_major_stop_type.csv')\n",
    "# by_type_norm.to_csv('pop_jobs_housing_by_major_stop_type_sq_mi.csv')\n",
    "# by_agency.to_csv('pop_jobs_housing_by_major_stop_type_and_agency.csv')\n",
    "# by_agency_norm.to_csv('pop_jobs_housing_by_major_stop_type_and_agency_sq_mi.csv')"
   ],
   "outputs": [],
   "execution_count": null
  },
  {
   "cell_type": "markdown",
   "id": "914934ca-70f2-414d-9f3c-16adcadb49e4",
   "metadata": {},
   "source": [
    "## spot-checks"
   ]
  },
  {
   "cell_type": "code",
   "id": "93b4596d-aeaa-4f16-bd5e-bd4a42580825",
   "metadata": {},
   "source": [
    "sjoined.geoid = sjoined.geoid.astype(str)"
   ],
   "outputs": [],
   "execution_count": null
  },
  {
   "cell_type": "code",
   "id": "acfe94c0-a642-4810-8a29-c5acc54c7ecf",
   "metadata": {},
   "source": [
    "sjoined"
   ],
   "outputs": [],
   "execution_count": null
  },
  {
   "cell_type": "code",
   "id": "7c12f558-e13b-42c3-b1b4-5aa484624b66",
   "metadata": {},
   "source": [
    "import numpy as np"
   ],
   "outputs": [],
   "execution_count": null
  },
  {
   "cell_type": "code",
   "id": "84d055da-ce0c-4a9f-9cdb-5f9ed1cc05fb",
   "metadata": {},
   "source": [
    "test_tract = '6037271801'"
   ],
   "outputs": [],
   "execution_count": null
  },
  {
   "cell_type": "code",
   "id": "d0099966-d336-4fef-9499-b3e5f656efb9",
   "metadata": {},
   "source": "test = sjoined[sjoined['geoid'].astype(str).str.contains(test_tract)]",
   "outputs": [],
   "execution_count": null
  },
  {
   "cell_type": "code",
   "id": "cd773db7-e12c-4b2a-a0cd-a1e81f8dff80",
   "metadata": {},
   "source": "test.drop_duplicates(subset=['geoid'], inplace=False)",
   "outputs": [],
   "execution_count": null
  },
  {
   "cell_type": "code",
   "id": "de162ca6-e911-4524-89e5-7397ca6f1261",
   "metadata": {},
   "source": [
    "(test.drop_duplicates(subset=['geoid'], inplace=False)).sum()"
   ],
   "outputs": [],
   "execution_count": null
  },
  {
   "cell_type": "code",
   "id": "b359e7fb-ccb3-4629-9116-6f64f51a8a34",
   "metadata": {},
   "source": [
    "3666 / 0.17768"
   ],
   "outputs": [],
   "execution_count": null
  },
  {
   "cell_type": "code",
   "id": "40e4476d-b73b-41c1-8006-08c703555d4e",
   "metadata": {},
   "source": [
    "sj_geo['pop_sq_mi'] = sj_geo.people / sj_geo.area_sq_mi"
   ],
   "outputs": [],
   "execution_count": null
  },
  {
   "cell_type": "code",
   "id": "60f5e43c-b320-449c-ab28-973e32ac04f9",
   "metadata": {},
   "source": [
    "sj_geo.head(3)"
   ],
   "outputs": [],
   "execution_count": null
  },
  {
   "cell_type": "code",
   "id": "59bc4b76-da30-43c6-affc-84c0cb7b6b03",
   "metadata": {},
   "source": [
    "sj_geo.sort_values(by='pop_sq_mi', ascending=False, inplace=False)"
   ],
   "outputs": [],
   "execution_count": null
  },
  {
   "cell_type": "code",
   "id": "391e6258-1d10-4271-b0c6-9ca48a992e87",
   "metadata": {},
   "source": [
    "# (sj_geo >> filter(_.hqta_ix == 38209)).explore()"
   ],
   "outputs": [],
   "execution_count": null
  },
  {
   "cell_type": "code",
   "id": "586c08ca-a8d0-444b-8fe1-9da73e4bc19e",
   "metadata": {},
   "source": "(sj_geo.query('hqta_ix == 38209')).sum(numeric_only=True)",
   "outputs": [],
   "execution_count": null
  },
  {
   "cell_type": "code",
   "id": "815d8b77-e201-422a-9756-d10b529a95cc",
   "metadata": {},
   "source": [
    "23721 / 0.896213"
   ],
   "outputs": [],
   "execution_count": null
  },
  {
   "cell_type": "code",
   "id": "5f39eb83-7313-4586-bef0-e40247dfc058",
   "metadata": {},
   "source": "stop_dis = sj_geo.dissolve(by='hqta_ix', aggfunc=[np.sum])",
   "outputs": [],
   "execution_count": null
  },
  {
   "cell_type": "code",
   "id": "6aef70d9-9360-460e-9b1b-aa719f6fdb14",
   "metadata": {},
   "source": [
    "stop_dis.columns"
   ],
   "outputs": [],
   "execution_count": null
  },
  {
   "cell_type": "code",
   "id": "b8e7204a-d544-4a4b-bdd7-32915babd0b6",
   "metadata": {},
   "source": [
    "rename_dict = dict(zip(stop_dis.columns, [col[0] for col in stop_dis.columns]))\n",
    "rename_dict['geometry'] = 'geometry'"
   ],
   "outputs": [],
   "execution_count": null
  },
  {
   "cell_type": "code",
   "id": "4a1102fe-1ef0-464a-84b5-f6603fdb9f6b",
   "metadata": {},
   "source": [
    "stop_dis = stop_dis.rename(columns=rename_dict)"
   ],
   "outputs": [],
   "execution_count": null
  },
  {
   "cell_type": "code",
   "id": "fe2bcb2c-3b58-4f20-86d9-78fd2b02cc54",
   "metadata": {},
   "source": "stop_dis = stop_dis.drop(['agency_primary', 'hqta_type'], axis='columns', inplace=False)",
   "outputs": [],
   "execution_count": null
  },
  {
   "cell_type": "code",
   "id": "2ce6dc0f-ac7f-40a1-af06-1e8eedb4129f",
   "metadata": {},
   "source": [
    "stop_dis.pop_sq_mi = stop_dis.people / stop_dis.area_sq_mi"
   ],
   "outputs": [],
   "execution_count": null
  },
  {
   "cell_type": "code",
   "id": "616fe57b-9cd5-4370-a54a-7d8d34f530f6",
   "metadata": {},
   "source": [
    "stop_dis.pop_sq_mi.quantile(.8)"
   ],
   "outputs": [],
   "execution_count": null
  },
  {
   "cell_type": "code",
   "id": "aa3448f2-7f29-4fc8-83f9-ba0f659d3dc1",
   "metadata": {},
   "source": [
    "stop_dis.pop_sq_mi.hist()"
   ],
   "outputs": [],
   "execution_count": null
  },
  {
   "cell_type": "code",
   "id": "9b884588-6ab4-4ab0-8b28-4cd8ec7c9bc2",
   "metadata": {},
   "source": [
    "# (stop_dis >> filter(_.pop_sq_mi > 50000)).explore()"
   ],
   "outputs": [],
   "execution_count": null
  },
  {
   "cell_type": "code",
   "id": "017d9193-7f96-435f-a0d5-bc130eb23589",
   "metadata": {},
   "source": [
    "stop_dis.pop_sq_mi.max()"
   ],
   "outputs": [],
   "execution_count": null
  },
  {
   "cell_type": "code",
   "id": "1149abcb-aba1-4201-bb55-a3ea19e1bb4e",
   "metadata": {},
   "source": [
    "# (stop_dis >> filter(_.pop_sq_mi > 70000)).explore()"
   ],
   "outputs": [],
   "execution_count": null
  },
  {
   "cell_type": "code",
   "id": "f4f0b154-538c-4837-af9d-35c8bbeba4c5",
   "metadata": {},
   "source": [
    "stop_dis.loc[8241,:]"
   ],
   "outputs": [],
   "execution_count": null
  },
  {
   "cell_type": "code",
   "id": "277841c4-a4af-4869-8457-da1a7ef40b9e",
   "metadata": {},
   "source": [
    "stop_dis.loc[8732:8733,:].geometry.area / sq_m_per_sq_mi"
   ],
   "outputs": [],
   "execution_count": null
  },
  {
   "cell_type": "code",
   "id": "a6415184-96ca-4e8b-93e8-ce87758ff8ca",
   "metadata": {},
   "source": "stop_dis.sort_values(by='pop_sq_mi', ascending=False, inplace=False)",
   "outputs": [],
   "execution_count": null
  },
  {
   "cell_type": "code",
   "id": "d038e5e5-dc3d-4c0a-9785-f15332ddf8ff",
   "metadata": {},
   "source": [
    "from shared_utils.rt_utils import show_full_df"
   ],
   "outputs": [],
   "execution_count": null
  },
  {
   "cell_type": "code",
   "id": "20762590-3d6f-4a66-87f1-424a3b0e0c5f",
   "metadata": {},
   "source": [
    "stop_grouped['pop_sq_mi'] = stop_grouped.total_pop / stop_grouped.total_sq_mi"
   ],
   "outputs": [],
   "execution_count": null
  },
  {
   "cell_type": "code",
   "id": "40dfb7e8-9d5c-4002-aac5-0413ec0e724b",
   "metadata": {},
   "source": "stop_grouped.sort_values(by='pop_sq_mi', ascending=False, inplace=False)",
   "outputs": [],
   "execution_count": null
  },
  {
   "cell_type": "code",
   "id": "d77d09f8-863b-4f04-bd04-222016d1927d",
   "metadata": {},
   "source": [
    "# show_full_df(sjoined >> filter(_.hqta_ix == 8732))"
   ],
   "outputs": [],
   "execution_count": null
  }
 ],
 "metadata": {
  "kernelspec": {
   "display_name": "Python 3 (ipykernel)",
   "language": "python",
   "name": "python3"
  },
  "language_info": {
   "codemirror_mode": {
    "name": "ipython",
    "version": 3
   },
   "file_extension": ".py",
   "mimetype": "text/x-python",
   "name": "python",
   "nbconvert_exporter": "python",
   "pygments_lexer": "ipython3",
   "version": "3.11.10"
  },
  "widgets": {
   "application/vnd.jupyter.widget-state+json": {
    "state": {},
    "version_major": 2,
    "version_minor": 0
   }
  }
 },
 "nbformat": 4,
 "nbformat_minor": 5
}
