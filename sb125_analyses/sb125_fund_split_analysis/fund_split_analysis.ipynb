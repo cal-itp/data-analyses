{
 "cells": [
  {
   "cell_type": "markdown",
   "id": "b7df6d2c-ad3e-4630-8690-975e48049278",
   "metadata": {},
   "source": [
    "# SB125 Fund Split Analysis"
   ]
  },
  {
   "cell_type": "markdown",
   "id": "42fdef6f-d9ca-419f-861e-54e94098b951",
   "metadata": {},
   "source": [
    "## Question:\n",
    "- How did RTAs split SB125 funds between operations and capital?"
   ]
  },
  {
   "cell_type": "markdown",
   "id": "56b377e1-5f8e-481b-af19-2a6ba2ff92e0",
   "metadata": {},
   "source": [
    "## Methodology:\n",
    "- upload all avilable `SB125 fund request template` files to gcs\n",
    "- examine all files for consistencies:\n",
    "    - come with cleaning plan for inconsistent examples (files withot capital/operating columns)\n",
    "- concat all rows across all files\n"
   ]
  },
  {
   "cell_type": "markdown",
   "id": "ed15b993-c361-4cd0-b1b6-facf2efbba1f",
   "metadata": {},
   "source": [
    "## Notes:\n",
    "- some RTPAs did not submit a `SB125 fund request template.xlsx` file, but instead included an quivilent file their allocation package"
   ]
  },
  {
   "cell_type": "code",
   "execution_count": 1,
   "id": "18bf8d66-e8cf-45bd-8d51-f316ad5eb588",
   "metadata": {},
   "outputs": [],
   "source": [
    "import altair as alt\n",
    "import pandas as pd\n",
    "\n",
    "pd.set_option(\"display.max_columns\", None)\n",
    "pd.set_option(\"display.max_rows\", None)\n",
    "\n",
    "GCS_PATH = \"gs://calitp-analytics-data/data-analyses/sb125/fund_split/\""
   ]
  },
  {
   "cell_type": "code",
   "execution_count": 2,
   "id": "1919aba4-aa2d-4c33-a5ba-db72b74de71d",
   "metadata": {},
   "outputs": [],
   "source": [
    "file_list = [\n",
    "    \"sierra_fund_request.xlsx\",\n",
    "    \"slocog_fund_request.xlsx\",\n",
    "    \"tehema_fund_request.xlsx\",\n",
    "    \"tuolumne_fund_request.xlsx\",\n",
    "    \"ventura_fund_request.xlsx\",\n",
    "    \"alpine_fund_request.xlsx\",\n",
    "    \"amador_fund_request.xlsx\",\n",
    "    \"butte_fund_request.xlsx\",\n",
    "    \"calaveras_fund_request.xlsx\",\n",
    "    \"del_norte_fund_request.xlsx\",\n",
    "    \"el_dorado_fund_request.xlsx\",\n",
    "    \"humboldt_fund_request.xlsx\",\n",
    "    \"kern_fund_request.xlsx\",\n",
    "    \"kings_fund_request.xlsx\",\n",
    "    \"la_metro_fund_request.xlsx\",\n",
    "    \"lake_fund_request.xlsx\",\n",
    "    \"lassen_fund_request.xlsx\",\n",
    "    \"madera_fund_request.xlsx\",\n",
    "    \"mariposa_fund_request.xlsx\",\n",
    "    \"mendocino_fund_request.xlsx\",\n",
    "    \"merced_fund_request.xlsx\",\n",
    "    \"mtc_fund_request.xlsx\",\n",
    "    \"nevada_fund_request.xlsx\",\n",
    "    \"orange_fund_request.xlsx\",\n",
    "    \"placer_fund_request.xlsx\",\n",
    "    \"plumas_fund_request.xlsx\",\n",
    "    \"riverside_fund_request.xlsx\",\n",
    "    \"san_benito_fund_request.xlsx\",\n",
    "    \"san_diego_mts_fund_request.xlsx\",\n",
    "    \"santa_cruz_fund_request.xlsx\",\n",
    "    \"shasta_fund_request.xlsx\",\n",
    "]\n",
    "\n",
    "file_list.sort()"
   ]
  },
  {
   "cell_type": "code",
   "execution_count": 3,
   "id": "a553a440-29f0-4e86-8dc2-1efd1947d775",
   "metadata": {},
   "outputs": [],
   "source": [
    "def clean_fund_request(file: str) -> pd.DataFrame:\n",
    "    \"\"\"\n",
    "    reads in the file from GCS, maps col_names list to df columns, drops all the blank rows.\n",
    "    returns df.\n",
    "    \"\"\"\n",
    "    col_names = [\n",
    "        \"rtpa\",\n",
    "        \"implementing agenc-y/-ies\",\n",
    "        \"project\",\n",
    "        \"fund source\",\n",
    "        \"capital_FY23-24\",\n",
    "        \"capital_FY24-25\",\n",
    "        \"capital_FY25-26\",\n",
    "        \"capital_FY26-27\",\n",
    "        \"operating_FY23-24\",\n",
    "        \"operating_FY24-25\",\n",
    "        \"operating_FY25-26\",\n",
    "        \"operating_FY26-27\",\n",
    "        \"total\",\n",
    "    ]\n",
    "\n",
    "    df = pd.read_excel(f\"{GCS_PATH}{file}\", header=2, nrows=40, names=col_names).drop(\n",
    "        columns=\"total\"\n",
    "    )\n",
    "    row_drop = df[\"rtpa\"].isin([\"Grand Total\", \"RTPA\"])\n",
    "    df = df.drop(df[row_drop].index)\n",
    "    df = df.dropna(how=\"all\")\n",
    "    df[[\"rtpa\", \"implementing agenc-y/-ies\", \"project\"]] = df[\n",
    "        [\"rtpa\", \"implementing agenc-y/-ies\", \"project\"]\n",
    "    ].ffill()\n",
    "\n",
    "    return df"
   ]
  },
  {
   "cell_type": "markdown",
   "id": "7ae32134-236e-47e7-bd79-73a016c53ad9",
   "metadata": {},
   "source": [
    "first iteration of fund_request_checker func.\n",
    ">def read_in(file:str) -> pd.DataFrame:\n",
    ">    df = pd.read_excel(f\"{GCS_PATH}{file}\", nrows=40)\n",
    ">    df = df.dropna(how= \"all\")\n",
    ">   \n",
    ">    if len(df.columns) == 13:\n",
    ">        print(f\"{file} can use clean_fund_request func.\")\n",
    ">    else: \n",
    ">        print(f\"needs manual check, {file}\")\n",
    "       "
   ]
  },
  {
   "cell_type": "markdown",
   "id": "af0d2867-2378-4098-ab7f-daa2b24dd5bb",
   "metadata": {},
   "source": [
    "old iteration\n",
    ">def fund_request_checker(file_list:list) -> pd.DataFrame:\n",
    ">\n",
    ">    for file in file_list:\n",
    ">    \n",
    ">        df = pd.read_excel(f\"{GCS_PATH}{file}\", nrows=40)\n",
    ">        df = df.dropna(how= \"all\")\n",
    ">    \n",
    ">        if len(df.columns) == 13:\n",
    ">            print(f\"{file} can use clean_fund_request func.\")\n",
    ">        else: \n",
    ">            print(f\"needs manual check, {file}\")\n",
    "       "
   ]
  },
  {
   "cell_type": "code",
   "execution_count": 4,
   "id": "537e168b-b782-4d3c-9ec1-86b9d2a64bc5",
   "metadata": {},
   "outputs": [],
   "source": [
    "# fund_request_checker(file_list)"
   ]
  },
  {
   "cell_type": "markdown",
   "id": "af620f61-c99f-48a6-9566-41fb4e3fc87e",
   "metadata": {},
   "source": [
    "old iteration\n",
    ">def fund_request_checker_v2(file_list:list):\n",
    ">    gtg_files = []\n",
    ">    manual_review = []\n",
    ">    for file in file_list:\n",
    ">    \n",
    ">        df = pd.read_excel(f\"{GCS_PATH}{file}\", nrows=40)\n",
    ">        df = df.dropna(how= \"all\")\n",
    ">    \n",
    ">        if len(df.columns) == 13:\n",
    ">            gtg_files.append(f\"{file}\")\n",
    ">        else: \n",
    ">            manual_review.append(f\"{file}\")\n",
    ">    return display(\n",
    ">        \"good to go files\",\n",
    ">        list(gtg_files), \n",
    ">        \"needs manual check\", \n",
    ">        list(manual_review)\n",
    ">    )"
   ]
  },
  {
   "cell_type": "code",
   "execution_count": 5,
   "id": "b1965f54-be4f-4e3b-827e-3d90c0bd90f1",
   "metadata": {},
   "outputs": [],
   "source": [
    "# fund_request_checker_v2(file_list)"
   ]
  },
  {
   "cell_type": "markdown",
   "id": "03cd7d54-6464-4e57-a268-e704de1f4719",
   "metadata": {},
   "source": [
    "# Cleaning the easy DFs"
   ]
  },
  {
   "cell_type": "code",
   "execution_count": 6,
   "id": "344d5b2f-f08c-45c1-a7b3-5e2b858c0cb6",
   "metadata": {},
   "outputs": [],
   "source": [
    "def fund_request_checker_v3(file_list: list) -> tuple:\n",
    "    \"\"\"takes in list of fund_request excel file name. reads in each file, checks if DF has 13 columns.\n",
    "    if yes, appends do good-to-go list. else, appends to needs-manual-review.\n",
    "    output is a tuple of the 2 list.\n",
    "    assign 2 variables to use this func.\n",
    "    \"\"\"\n",
    "    gtg_files = []\n",
    "    manual_review = []\n",
    "    for file in file_list:\n",
    "\n",
    "        df = pd.read_excel(f\"{GCS_PATH}{file}\", nrows=40)\n",
    "        df = df.dropna(how=\"all\")\n",
    "\n",
    "        if len(df.columns) == 13:\n",
    "            gtg_files.append(f\"{file}\")\n",
    "        else:\n",
    "            manual_review.append(f\"{file}\")\n",
    "    return gtg_files, manual_review"
   ]
  },
  {
   "cell_type": "code",
   "execution_count": 7,
   "id": "431e7ffe-4f25-4942-a5fd-fd20ed5269f7",
   "metadata": {},
   "outputs": [],
   "source": [
    "good_list, review_list = fund_request_checker_v3(file_list)"
   ]
  },
  {
   "cell_type": "code",
   "execution_count": 8,
   "id": "91f570e9-a439-4ff6-a3c9-afad60b004c3",
   "metadata": {},
   "outputs": [
    {
     "data": {
      "text/plain": [
       "24"
      ]
     },
     "metadata": {},
     "output_type": "display_data"
    },
    {
     "data": {
      "text/plain": [
       "7"
      ]
     },
     "metadata": {},
     "output_type": "display_data"
    }
   ],
   "source": [
    "display(len(good_list), len(review_list))"
   ]
  },
  {
   "cell_type": "code",
   "execution_count": 9,
   "id": "6030a8e8-b5e8-4645-852f-1284c37a1191",
   "metadata": {},
   "outputs": [],
   "source": [
    "def cleaner_loop(gtg_list: list) -> dict:\n",
    "    \"\"\"\n",
    "    takes in good-to-go list from fund_request_checker.\n",
    "    applies the clean_fund_request function to each item on the list, then appends to dictionary.\n",
    "    key is name of the file, value is the cleaned dataframe.\n",
    "    output is dictionary.\n",
    "    \"\"\"\n",
    "    cleaned_df = {}\n",
    "\n",
    "    for name in gtg_list:\n",
    "        cleaned_df[name] = clean_fund_request(name)\n",
    "    return cleaned_df"
   ]
  },
  {
   "cell_type": "code",
   "execution_count": 10,
   "id": "8841bb0a-9994-455a-abc8-d8670ed9f8c1",
   "metadata": {},
   "outputs": [],
   "source": [
    "cleaned_fund_request = cleaner_loop(good_list)"
   ]
  },
  {
   "cell_type": "code",
   "execution_count": 11,
   "id": "711f1a32-7cb2-4482-b322-913535a7c822",
   "metadata": {},
   "outputs": [
    {
     "data": {
      "text/plain": [
       "dict"
      ]
     },
     "metadata": {},
     "output_type": "display_data"
    },
    {
     "data": {
      "text/plain": [
       "24"
      ]
     },
     "metadata": {},
     "output_type": "display_data"
    },
    {
     "data": {
      "text/plain": [
       "['alpine_fund_request.xlsx',\n",
       " 'amador_fund_request.xlsx',\n",
       " 'calaveras_fund_request.xlsx',\n",
       " 'del_norte_fund_request.xlsx',\n",
       " 'el_dorado_fund_request.xlsx',\n",
       " 'humboldt_fund_request.xlsx',\n",
       " 'kings_fund_request.xlsx',\n",
       " 'la_metro_fund_request.xlsx',\n",
       " 'lake_fund_request.xlsx',\n",
       " 'madera_fund_request.xlsx',\n",
       " 'mariposa_fund_request.xlsx',\n",
       " 'mendocino_fund_request.xlsx',\n",
       " 'merced_fund_request.xlsx',\n",
       " 'nevada_fund_request.xlsx',\n",
       " 'placer_fund_request.xlsx',\n",
       " 'plumas_fund_request.xlsx',\n",
       " 'riverside_fund_request.xlsx',\n",
       " 'san_benito_fund_request.xlsx',\n",
       " 'san_diego_mts_fund_request.xlsx',\n",
       " 'shasta_fund_request.xlsx',\n",
       " 'sierra_fund_request.xlsx',\n",
       " 'slocog_fund_request.xlsx',\n",
       " 'tehema_fund_request.xlsx',\n",
       " 'tuolumne_fund_request.xlsx']"
      ]
     },
     "metadata": {},
     "output_type": "display_data"
    }
   ],
   "source": [
    "display(\n",
    "    type(cleaned_fund_request),\n",
    "    len(cleaned_fund_request),\n",
    "    list(cleaned_fund_request.keys()),\n",
    ")"
   ]
  },
  {
   "cell_type": "code",
   "execution_count": 12,
   "id": "57bca52a-e8f8-4064-99ab-5d1c950b76c4",
   "metadata": {},
   "outputs": [
    {
     "name": "stdout",
     "output_type": "stream",
     "text": [
      "DataFrame: alpine_fund_request.xlsx\n",
      "DataFrame: amador_fund_request.xlsx\n",
      "DataFrame: calaveras_fund_request.xlsx\n",
      "DataFrame: del_norte_fund_request.xlsx\n",
      "DataFrame: el_dorado_fund_request.xlsx\n",
      "DataFrame: humboldt_fund_request.xlsx\n",
      "DataFrame: kings_fund_request.xlsx\n",
      "DataFrame: la_metro_fund_request.xlsx\n",
      "DataFrame: lake_fund_request.xlsx\n",
      "DataFrame: madera_fund_request.xlsx\n",
      "DataFrame: mariposa_fund_request.xlsx\n",
      "DataFrame: mendocino_fund_request.xlsx\n",
      "DataFrame: merced_fund_request.xlsx\n",
      "DataFrame: nevada_fund_request.xlsx\n",
      "DataFrame: placer_fund_request.xlsx\n",
      "DataFrame: plumas_fund_request.xlsx\n",
      "DataFrame: riverside_fund_request.xlsx\n",
      "DataFrame: san_benito_fund_request.xlsx\n",
      "DataFrame: san_diego_mts_fund_request.xlsx\n",
      "DataFrame: shasta_fund_request.xlsx\n",
      "DataFrame: sierra_fund_request.xlsx\n",
      "DataFrame: slocog_fund_request.xlsx\n",
      "DataFrame: tehema_fund_request.xlsx\n",
      "DataFrame: tuolumne_fund_request.xlsx\n"
     ]
    }
   ],
   "source": [
    "# view all the good-to-go df\n",
    "\n",
    "from IPython.display import display\n",
    "\n",
    "# .items() creates tuples of each element in the dict. key:value maps to key:df\n",
    "\n",
    "for key, df in cleaned_fund_request.items():\n",
    "    print(f\"DataFrame: {key}\")\n",
    "    # display(df)"
   ]
  },
  {
   "cell_type": "markdown",
   "id": "0b9ad819-c321-45e7-9839-50c0fb0fb5c6",
   "metadata": {
    "tags": []
   },
   "source": [
    "# Cleaning individual good DFs"
   ]
  },
  {
   "cell_type": "markdown",
   "id": "cd0da154-f912-4cb4-b037-412e3d1b4a45",
   "metadata": {},
   "source": [
    "## DONE Humboldt "
   ]
  },
  {
   "cell_type": "code",
   "execution_count": 13,
   "id": "71de3eaf-be5b-467b-8795-239439e789b9",
   "metadata": {},
   "outputs": [],
   "source": [
    "def clean_humboldt():\n",
    "    cleaned_fund_request[\"humboldt_fund_request.xlsx\"][\n",
    "    [\"operating_FY24-25\", \"operating_FY25-26\", \"operating_FY26-27\"]\n",
    "] = cleaned_fund_request[\"humboldt_fund_request.xlsx\"][\n",
    "    [\"operating_FY24-25\", \"operating_FY25-26\", \"operating_FY26-27\"]\n",
    "].replace(\n",
    "    \"-\", 0\n",
    ")\n",
    "    return"
   ]
  },
  {
   "cell_type": "code",
   "execution_count": 15,
   "id": "c76bad8f-0a58-4c3a-aacf-9e572394aaec",
   "metadata": {},
   "outputs": [],
   "source": [
    "clean_humboldt()"
   ]
  },
  {
   "cell_type": "markdown",
   "id": "5d708176-469c-4579-9ad5-4e20ffcabba9",
   "metadata": {},
   "source": [
    "## DONE Amador"
   ]
  },
  {
   "cell_type": "code",
   "execution_count": 18,
   "id": "23289d3b-d640-4853-928c-3f0d43c6e3d2",
   "metadata": {},
   "outputs": [],
   "source": [
    "def clean_amador():\n",
    "    cleaned_fund_request[\"amador_fund_request.xlsx\"] = cleaned_fund_request[\n",
    "    \"amador_fund_request.xlsx\"\n",
    "    ][cleaned_fund_request[\"amador_fund_request.xlsx\"][\"fund source\"].notna()\n",
    "     ]\n",
    "    return"
   ]
  },
  {
   "cell_type": "code",
   "execution_count": 19,
   "id": "9900cf51-185f-45ce-abb6-f070cbedffe7",
   "metadata": {},
   "outputs": [],
   "source": [
    "clean_amador()"
   ]
  },
  {
   "cell_type": "markdown",
   "id": "09de511b-222f-4bb6-81aa-e6ed4175751b",
   "metadata": {},
   "source": [
    "## DONE Merced"
   ]
  },
  {
   "cell_type": "code",
   "execution_count": 21,
   "id": "ff1d3d1d-029f-4124-9c1b-e876c8c0a785",
   "metadata": {},
   "outputs": [],
   "source": [
    "def clean_merced():\n",
    "    cleaned_fund_request[\"merced_fund_request.xlsx\"]= cleaned_fund_request[\n",
    "    \"merced_fund_request.xlsx\"][cleaned_fund_request[\"merced_fund_request.xlsx\"][\"project\"].notna()].drop([34, 36, 37])\n",
    "    \n",
    "    # is there another way to update these values that doesnt include using the number index\n",
    "    cleaned_fund_request[\"merced_fund_request.xlsx\"].at[13, \"fund source\"] = \"`5339\"\n",
    "    cleaned_fund_request[\"merced_fund_request.xlsx\"].at[19, \"fund source\"] = \"`5307\"\n",
    "    \n",
    "    return"
   ]
  },
  {
   "cell_type": "code",
   "execution_count": 22,
   "id": "dd7ef0e9-c655-49a5-b5e6-b5a7ae06ad61",
   "metadata": {},
   "outputs": [],
   "source": [
    "clean_merced()"
   ]
  },
  {
   "cell_type": "markdown",
   "id": "391a6e0b-0421-424f-8f91-1b67914fc184",
   "metadata": {},
   "source": [
    "## DONE San Benito"
   ]
  },
  {
   "cell_type": "code",
   "execution_count": 24,
   "id": "57454f22-62d6-4479-b7d0-667ff1fffdf7",
   "metadata": {},
   "outputs": [],
   "source": [
    "def clean_san_benito():\n",
    "    cleaned_fund_request[\"san_benito_fund_request.xlsx\"] = cleaned_fund_request[\"san_benito_fund_request.xlsx\"][\n",
    "    cleaned_fund_request[\"san_benito_fund_request.xlsx\"][\"fund source\"].notna()]\n",
    "    \n",
    "    return"
   ]
  },
  {
   "cell_type": "code",
   "execution_count": 25,
   "id": "dc8295fd-8f60-4bbd-a2f9-606c89f27610",
   "metadata": {},
   "outputs": [],
   "source": [
    "clean_san_benito()"
   ]
  },
  {
   "cell_type": "markdown",
   "id": "158072aa-f51b-430d-8608-48eb96b8826f",
   "metadata": {},
   "source": [
    "## DONE San Diego MTS"
   ]
  },
  {
   "cell_type": "code",
   "execution_count": 27,
   "id": "a4624876-8648-4204-b792-f6e1d79ed0b2",
   "metadata": {},
   "outputs": [],
   "source": [
    "def clean_mts():\n",
    "    cleaned_fund_request[\"san_diego_mts_fund_request.xlsx\"] = cleaned_fund_request[\"san_diego_mts_fund_request.xlsx\"].iloc[7:]\n",
    "    \n",
    "    return"
   ]
  },
  {
   "cell_type": "code",
   "execution_count": 28,
   "id": "c7f21cfa-2bc5-42f9-80f9-5de78064a32b",
   "metadata": {},
   "outputs": [],
   "source": [
    "clean_mts()"
   ]
  },
  {
   "cell_type": "markdown",
   "id": "006c02d9-2fc5-4c45-9566-d5d43947df56",
   "metadata": {},
   "source": [
    "## DONE Sierra"
   ]
  },
  {
   "cell_type": "code",
   "execution_count": 30,
   "id": "25d5d8c7-f100-418a-8b80-e16dae728220",
   "metadata": {},
   "outputs": [],
   "source": [
    "def clean_sierra():\n",
    "    cleaned_fund_request[\"sierra_fund_request.xlsx\"] = cleaned_fund_request[\"sierra_fund_request.xlsx\"].iloc[:-8]\n",
    "    \n",
    "    return"
   ]
  },
  {
   "cell_type": "code",
   "execution_count": 31,
   "id": "28956db4-1d0f-476c-be76-e7b087c6e5dd",
   "metadata": {},
   "outputs": [],
   "source": [
    "clean_sierra()"
   ]
  },
  {
   "cell_type": "markdown",
   "id": "641a3a67-a3df-4ebd-872c-3e67c8894fa2",
   "metadata": {},
   "source": [
    "## DONE Nevada"
   ]
  },
  {
   "cell_type": "code",
   "execution_count": 33,
   "id": "e544353c-3d19-4794-9aff-2a5529b00379",
   "metadata": {},
   "outputs": [],
   "source": [
    "def clean_nevada():\n",
    "    cleaned_fund_request[\"nevada_fund_request.xlsx\"]=cleaned_fund_request[\"nevada_fund_request.xlsx\"][\n",
    "    cleaned_fund_request[\"nevada_fund_request.xlsx\"][\"fund source\"].notna()]\n",
    "    \n",
    "    return"
   ]
  },
  {
   "cell_type": "code",
   "execution_count": 34,
   "id": "497d7c02-6737-43ad-a2bf-cb34ef97f6a3",
   "metadata": {},
   "outputs": [],
   "source": [
    "clean_nevada()"
   ]
  },
  {
   "cell_type": "markdown",
   "id": "41b0d60b-94e4-4e3f-a70c-0a6487fb542c",
   "metadata": {},
   "source": [
    "## DONE Plumas"
   ]
  },
  {
   "cell_type": "code",
   "execution_count": 36,
   "id": "428fc358-b4de-4670-9b86-6733d3165573",
   "metadata": {},
   "outputs": [],
   "source": [
    "def clean_plumas():\n",
    "    cleaned_fund_request[\"plumas_fund_request.xlsx\"]=cleaned_fund_request[\"plumas_fund_request.xlsx\"][cleaned_fund_request[\"plumas_fund_request.xlsx\"][\n",
    "    \"fund source\"].notna()]\n",
    "    \n",
    "    return"
   ]
  },
  {
   "cell_type": "code",
   "execution_count": 37,
   "id": "c635c5b1-f53c-41ae-913d-ad0774d302d0",
   "metadata": {},
   "outputs": [],
   "source": [
    "clean_plumas()"
   ]
  },
  {
   "cell_type": "markdown",
   "id": "564513c3-d29e-4daa-883b-2ed02c5464e7",
   "metadata": {
    "tags": []
   },
   "source": [
    "# Attempt to clean bad DFs"
   ]
  },
  {
   "cell_type": "code",
   "execution_count": null,
   "id": "a0cfb8aa-004e-4df2-b855-408bb100b77f",
   "metadata": {},
   "outputs": [],
   "source": [
    "col_names = [\n",
    "    \"rtpa\",\n",
    "    \"implementing agenc-y/-ies\",\n",
    "    \"project\",\n",
    "    \"fund source\",\n",
    "    \"capital_FY23-24\",\n",
    "    \"capital_FY24-25\",\n",
    "    \"capital_FY25-26\",\n",
    "    \"capital_FY26-27\",\n",
    "    \"operating_FY23-24\",\n",
    "    \"operating_FY24-25\",\n",
    "    \"operating_FY25-26\",\n",
    "    \"operating_FY26-27\",\n",
    "    \"total\",\n",
    "]"
   ]
  },
  {
   "cell_type": "code",
   "execution_count": null,
   "id": "27ebe05f-d903-4234-90f0-ab622d05a60a",
   "metadata": {},
   "outputs": [],
   "source": [
    "# list of bad DFs that didnt match the other layouts\n",
    "review_list"
   ]
  },
  {
   "cell_type": "markdown",
   "id": "008521fc-549c-456f-85b0-606c4a52d8d4",
   "metadata": {},
   "source": [
    "## Lassen"
   ]
  },
  {
   "cell_type": "code",
   "execution_count": null,
   "id": "b99347ee-e599-472f-911e-ca72dcf2889f",
   "metadata": {},
   "outputs": [],
   "source": [
    "# CLEAN COMPLETED\n",
    "\n",
    "lassen = pd.read_excel(\n",
    "    f\"{GCS_PATH}lassen_fund_request.xlsx\",\n",
    "    sheet_name=\"D.2. Detailed Fund Request\",\n",
    "    skiprows=6,\n",
    "    header=0,\n",
    "    skipfooter=12,\n",
    ").drop(columns=[\"Unnamed: 0\", \"Project Type\", \"Operator\"])\n",
    "\n",
    "# can work with this. may be able to remove the top rows then use cleaner loop\n",
    "lassen.columns = col_names\n",
    "lassen_cleaned = lassen.drop(columns=\"total\")\n",
    "#lassen_cleaned"
   ]
  },
  {
   "cell_type": "markdown",
   "id": "5127c489-051a-42ec-bccd-fcdce21d9a53",
   "metadata": {
    "tags": []
   },
   "source": [
    "## Butte"
   ]
  },
  {
   "cell_type": "code",
   "execution_count": null,
   "id": "b0d2c88a-0306-4736-a55a-87398d6f7eee",
   "metadata": {
    "tags": []
   },
   "outputs": [],
   "source": [
    "# CLEANED COMPLETE\n",
    "butte = pd.read_excel(\n",
    "    f\"{GCS_PATH}butte_fund_request.xlsx\",\n",
    "    skiprows=2,\n",
    "    header=0,\n",
    "    skipfooter=17,\n",
    ")\n",
    "\n",
    "butte_cleaned = butte.copy()\n",
    "\n",
    "butte_cleaned[[\"RTPA\", \"Implementing Agenc-y/-ies\", \"Project\"]] = butte_cleaned[\n",
    "    [\"RTPA\", \"Implementing Agenc-y/-ies\", \"Project\"]\n",
    "].ffill()\n",
    "\n",
    "butte_cleaned.insert(6, \"operations FY25-26\", 0)\n",
    "butte_cleaned.insert(7, \"operations FY26-27\", 0)\n",
    "butte_cleaned.columns = [\n",
    "    \"rtpa\",\n",
    "    \"implementing agenc-y/-ies\",\n",
    "    \"project\",\n",
    "    \"fund source\",\n",
    "    \"operating_FY23-24\",\n",
    "    \"operating_FY24-25\",\n",
    "    \"operating_FY25-26\",\n",
    "    \"operating_FY26-27\",\n",
    "    \"capital_FY23-24\",\n",
    "    \"capital_FY24-25\",\n",
    "    \"capital_FY25-26\",\n",
    "    \"capital_FY26-27\",\n",
    "    \"total\",\n",
    "]\n",
    "butte_cleaned = butte_cleaned.drop(columns=\"total\")\n",
    "# missing the operations columns. may not need if we melt just the capital columns\n",
    "display(\n",
    "    butte.shape,\n",
    "    butte_cleaned.shape,\n",
    "    # butte_cleaned,\n",
    ")"
   ]
  },
  {
   "cell_type": "markdown",
   "id": "3795f7c5-a6d1-4ec4-ae42-edc0cf629773",
   "metadata": {},
   "source": [
    "## MTC"
   ]
  },
  {
   "cell_type": "code",
   "execution_count": null,
   "id": "4f1de9b2-9288-4fd1-8249-e437f373cea1",
   "metadata": {},
   "outputs": [],
   "source": [
    "# CLEANED COMPLETE\n",
    "\n",
    "mtc = pd.read_excel(\n",
    "    f\"{GCS_PATH}mtc_fund_request.xlsx\", skiprows=2, header=0, skipfooter=21\n",
    ").drop(columns=[\"Unnamed: 13\", \"Unnamed: 14\", \"Unnamed: 15\"])\n",
    "\n",
    "mtc_cleaned = mtc.copy()\n",
    "\n",
    "mtc_cleaned.columns = col_names\n",
    "mtc_cleaned = mtc_cleaned.drop(columns=\"total\")\n",
    "# can work with this. may be able to remove the top rows then use cleaner loop\n",
    "display(\n",
    "    mtc_cleaned.shape,\n",
    "    mtc_cleaned.columns,\n",
    "    # mtc_cleaned\n",
    ")"
   ]
  },
  {
   "cell_type": "markdown",
   "id": "6a861ff9-eb34-4dd2-bbf6-fd83eb1d835d",
   "metadata": {},
   "source": [
    "## Orange"
   ]
  },
  {
   "cell_type": "code",
   "execution_count": null,
   "id": "0ef6725b-8db5-4398-b861-41a8e256d01d",
   "metadata": {},
   "outputs": [],
   "source": [
    "# CLEANED COMPLETE\n",
    "orange = pd.read_excel(\n",
    "    f\"{GCS_PATH}orange_fund_request.xlsx\", skiprows=3, header=0, skipfooter=1\n",
    ")\n",
    "\n",
    "orange_cleaned = orange.copy()\n",
    "\n",
    "orange_cleaned.rename(columns={\"Unnamed: 0\": \"RTPA\"}, inplace=True)\n",
    "orange_cleaned[\"RTPA\"] = \"OCTA\"\n",
    "orange_cleaned = orange_cleaned.drop(\n",
    "    columns=[\"FY27-28\", \"FY28-29\", \"FY27-28.1\", \"FY28-29.1\"]\n",
    ")\n",
    "\n",
    "orange_cleaned.columns = col_names\n",
    "orange_cleaned = orange_cleaned.drop(columns=\"total\")\n",
    "# FY goes to 28-29. dont think i need those columns, there are no numbers in them anyways\n",
    "# can drop\n",
    "# orange_cleaned"
   ]
  },
  {
   "cell_type": "markdown",
   "id": "ba097039-6724-4540-bf19-402fe5609a91",
   "metadata": {},
   "source": [
    "## Santa Cruz"
   ]
  },
  {
   "cell_type": "code",
   "execution_count": null,
   "id": "ddfd019d-3a2d-4b11-bc51-74f03a87c11f",
   "metadata": {},
   "outputs": [],
   "source": [
    "# CLEANED COMPLETE\n",
    "santa_cruz = pd.read_excel(\n",
    "    f\"{GCS_PATH}santa_cruz_fund_request.xlsx\", skiprows=4, header=0, skipfooter=5\n",
    ").iloc[:, 0:13]\n",
    "\n",
    "santa_cruz_cleaned = santa_cruz.copy()\n",
    "\n",
    "santa_cruz_cleaned.columns = col_names\n",
    "santa_cruz_cleaned.drop(columns=\"total\", inplace=True)\n",
    "# can remove the extra columns past unnamed 12, then remove top and bottom rows, then use cleaner loop\n",
    "display(\n",
    "    santa_cruz_cleaned.shape,\n",
    "    # santa_cruz_cleaned\n",
    ")"
   ]
  },
  {
   "cell_type": "markdown",
   "id": "ee90cda1-8fe7-495c-9033-74bf95bc9759",
   "metadata": {},
   "source": [
    "## Ventura"
   ]
  },
  {
   "cell_type": "code",
   "execution_count": null,
   "id": "a5231372-7930-4d45-8334-cd3a6652e5a2",
   "metadata": {},
   "outputs": [],
   "source": [
    "ventura_tircp_capital = pd.read_excel(\n",
    "    f\"{GCS_PATH}ventura_fund_request.xlsx\",\n",
    "    sheet_name=\"Project Breakdown\",\n",
    "    skiprows=2,\n",
    "    header=0,\n",
    "    skipfooter=40,\n",
    ")\n",
    "\n",
    "# needs a lot of work, may have to do in excel\n",
    "# try breaking up the DF into multiple seperate DFs, then add them all together at the end\n",
    "# will have to add capital or operations columns as needed.\n",
    "ventura_tircp_capital.shape"
   ]
  },
  {
   "cell_type": "code",
   "execution_count": null,
   "id": "e1d47c58-9a7c-4e6d-96f9-9acd83a40c14",
   "metadata": {},
   "outputs": [],
   "source": [
    "ventura_tircp_operating = pd.read_excel(\n",
    "    f\"{GCS_PATH}ventura_fund_request.xlsx\",\n",
    "    sheet_name=\"Project Breakdown\",\n",
    "    skiprows=51,\n",
    "    header=0,\n",
    "    skipfooter=1,\n",
    ")\n",
    "ventura_tircp_operating.shape"
   ]
  },
  {
   "cell_type": "code",
   "execution_count": null,
   "id": "92e36b40-ce87-47c6-864e-fc7cfcc80e89",
   "metadata": {},
   "outputs": [],
   "source": [
    "ventura_merge = ventura_tircp_capital.merge(\n",
    "    ventura_tircp_operating,\n",
    "    how=\"outer\",\n",
    "    on=[\"Implementing Agenc-y/-ies\", \"Project Category\", \"Project\"],\n",
    "    suffixes=[\"_capital\", \"_operating\"],\n",
    ").drop(\n",
    "    columns=[\n",
    "        \"Year Requested\",\n",
    "        \"Unnamed: 8_capital\",\n",
    "        \"Unnamed: 8_operating\",\n",
    "        \"Project Category\",\n",
    "    ]\n",
    ")\n",
    "ventura_merge"
   ]
  },
  {
   "cell_type": "code",
   "execution_count": null,
   "id": "a742c629-3aa2-4509-8d0e-6922f2a70624",
   "metadata": {},
   "outputs": [],
   "source": [
    "ventura_merge[\"rtpa\"] = \"VCTC\"\n",
    "ventura_merge[\"Fund Source\"] = \"TIRCP\"\n",
    "\n",
    "ventura_col_dict = {\n",
    "    \"Implementing Agenc-y/-ies\": \"implementing agenc-y/-ies\",\n",
    "    \"Project\": \"project\",\n",
    "    \"Fund Source\": \"fund source\",\n",
    "    \"FY23-24_capital\": \"capital_FY23-24\",\n",
    "    \"FY24-25_capital\": \"capital_FY24-25\",\n",
    "    \"FY25-26_capital\": \"capital_FY25-26\",\n",
    "    \"FY26-27_capital\": \"capital_FY26-27\",\n",
    "    \"FY23-24_operating\": \"operating_FY23-24\",\n",
    "    \"FY24-25_operating\": \"operating_FY24-25\",\n",
    "    \"FY25-26_operating\": \"operating_FY25-26\",\n",
    "    \"FY26-27_operating\": \"operating_FY26-27\",\n",
    "}\n",
    "\n",
    "col_order = [\n",
    "    \"rtpa\",\n",
    "    \"implementing agenc-y/-ies\",\n",
    "    \"project\",\n",
    "    \"fund source\",\n",
    "    \"capital_FY23-24\",\n",
    "    \"capital_FY24-25\",\n",
    "    \"capital_FY25-26\",\n",
    "    \"capital_FY26-27\",\n",
    "    \"operating_FY23-24\",\n",
    "    \"operating_FY24-25\",\n",
    "    \"operating_FY25-26\",\n",
    "    \"operating_FY26-27\",\n",
    "]\n",
    "\n",
    "ventura_merge.rename(columns=ventura_col_dict, inplace=True)\n",
    "\n",
    "ventura_merge = ventura_merge[col_order]\n",
    "\n",
    "display(ventura_merge.shape, list(ventura_merge.columns))"
   ]
  },
  {
   "cell_type": "code",
   "execution_count": null,
   "id": "a52a6e56-0636-474d-86ca-808acb66eb2e",
   "metadata": {},
   "outputs": [],
   "source": [
    "ventura_zetcp_capital = pd.read_excel(\n",
    "    f\"{GCS_PATH}ventura_fund_request.xlsx\",\n",
    "    sheet_name=\"Project Breakdown\",\n",
    "    skiprows=32,\n",
    "    header=0,\n",
    "    skipfooter=21,\n",
    ").drop(columns=[\"Unnamed: 7\", \"Unnamed: 8\"])\n",
    "fund_dict = {\n",
    "    \"GGRF Y1\": \"ZETCP (GGRF)\",\n",
    "    \"GGRF Y2\": \"ZETCP (GGRF)\",\n",
    "    \"GGRF Y3\": \"ZETCP (GGRF)\",\n",
    "    \"GGRF Y4\": \"ZETCP (GGRF)\",\n",
    "    \"PTA\": \"ZETCP (PTA)\",\n",
    "}\n",
    "\n",
    "ven_col = {\n",
    "    \"Implementing Agenc-y/-ies\": \"implementing agenc-y/-ies\",\n",
    "    \"Project\": \"project\",\n",
    "    \"Fund Source\": \"fund source\",\n",
    "    \"FY23-24\": \"capital_FY23-24\",\n",
    "    \"FY24-25\": \"capital_FY24-25\",\n",
    "    \"FY25-26\": \"capital_FY25-26\",\n",
    "    \"FY26-27\": \"capital_FY26-27\",\n",
    "}\n",
    "\n",
    "ventura_zetcp_capital[\"Fund Source\"] = ventura_zetcp_capital[\"Fund Source\"].replace(\n",
    "    fund_dict\n",
    ")\n",
    "\n",
    "ventura_zetcp_capital[\"rtpa\"] = \"VCTC\"\n",
    "\n",
    "ventura_zetcp_capital.rename(columns=ven_col, inplace=True)\n",
    "\n",
    "ventura_zetcp_capital = ventura_zetcp_capital[col_order[0:8]]\n",
    "\n",
    "display(\n",
    "    ventura_zetcp_capital.shape,\n",
    "    list(ventura_zetcp_capital.columns),\n",
    "    ventura_zetcp_capital,\n",
    ")"
   ]
  },
  {
   "cell_type": "code",
   "execution_count": null,
   "id": "4dab5014-e00f-402d-bfe2-8fd51e937a95",
   "metadata": {},
   "outputs": [],
   "source": [
    "# last merge\n",
    "# CLEANING COMPLETE\n",
    "ventura_big_merge = ventura_merge.merge(\n",
    "    ventura_zetcp_capital,\n",
    "    how=\"outer\",\n",
    "    on=[\n",
    "        \"implementing agenc-y/-ies\",\n",
    "        \"project\",\n",
    "        \"fund source\",\n",
    "        \"capital_FY23-24\",\n",
    "        \"capital_FY24-25\",\n",
    "        \"capital_FY25-26\",\n",
    "        \"capital_FY26-27\",\n",
    "        \"rtpa\",\n",
    "    ],\n",
    "    suffixes=(\"_zetcp_cap\", \"_merged\"),\n",
    ")"
   ]
  },
  {
   "cell_type": "code",
   "execution_count": null,
   "id": "b72cea66-345d-4282-ac20-c5adef39f695",
   "metadata": {},
   "outputs": [],
   "source": [
    "# should see 57 rows total\n",
    "display(\n",
    "    ventura_big_merge.shape,\n",
    "    ventura_big_merge.sort_values(by=\"implementing agenc-y/-ies\"),\n",
    ")"
   ]
  },
  {
   "cell_type": "markdown",
   "id": "8949aed0-891a-4691-bacb-c3935c44ac43",
   "metadata": {},
   "source": [
    "## Kern"
   ]
  },
  {
   "cell_type": "code",
   "execution_count": null,
   "id": "3464e253-94bd-4672-abca-a4907cbfaa51",
   "metadata": {},
   "outputs": [],
   "source": [
    "def get_kern_data(head_count: int, foot_count: int, agency: str, proj_title: str):\n",
    "\n",
    "    kern_cols = {\n",
    "        \"Unnamed: 0\": \"fund source\",\n",
    "        \"Unnamed: 1\": \"capital_FY23-24\",\n",
    "        \"Unnamed: 2\": \"operating_FY23-24\",\n",
    "        \"Unnamed: 3\": \"capital_FY24-25\",\n",
    "        \"Unnamed: 4\": \"operating_FY24-25\",\n",
    "        \"Unnamed: 5\": \"capital_FY25-26\",\n",
    "        \"Unnamed: 6\": \"operating_FY25-26\",\n",
    "        \"Unnamed: 7\": \"capital_FY26-27\",\n",
    "        \"Unnamed: 8\": \"operating_FY26-27\",\n",
    "    }\n",
    "    df = (\n",
    "        pd.read_excel(\n",
    "            f\"{GCS_PATH}kern_fund_request.xlsx\",\n",
    "            header=head_count,\n",
    "            skipfooter=foot_count,\n",
    "        )\n",
    "        .rename(columns=kern_cols)\n",
    "        .assign(implementing_agency=agency, rtpa=\"Kern COG\", project=proj_title)\n",
    "    )\n",
    "    return df"
   ]
  },
  {
   "cell_type": "code",
   "execution_count": null,
   "id": "e25ef8e1-d07c-4443-989c-26dfd792138a",
   "metadata": {},
   "outputs": [],
   "source": [
    "arvin_2 = get_kern_data(\n",
    "    3,\n",
    "    43,\n",
    "    \"arvin_2\",\n",
    "    \"City of Arvin New Transit ZEV Bus Procurement and Expansion of Operation, Bus Services, and Facilities Improvements\",\n",
    ")\n",
    "arvin_2"
   ]
  },
  {
   "cell_type": "code",
   "execution_count": null,
   "id": "7a716897-65fe-4f93-97d7-30c9bae83624",
   "metadata": {},
   "outputs": [],
   "source": [
    "kern = pd.read_excel(f\"{GCS_PATH}kern_fund_request.xlsx\")\n",
    "\n",
    "# this is so bad, may need to do this in excel to make it work.\n",
    "# the agency name and fund soruce are on the same column\n",
    "\n",
    "kern_cols = {\n",
    "    \"Unnamed: 0\": \"fund source\",\n",
    "    \"Unnamed: 1\": \"capital_FY23-24\",\n",
    "    \"Unnamed: 2\": \"operating_FY23-24\",\n",
    "    \"Unnamed: 3\": \"capital_FY24-25\",\n",
    "    \"Unnamed: 4\": \"operating_FY24-25\",\n",
    "    \"Unnamed: 5\": \"capital_FY25-26\",\n",
    "    \"Unnamed: 6\": \"operating_FY25-26\",\n",
    "    \"Unnamed: 7\": \"capital_FY26-27\",\n",
    "    \"Unnamed: 8\": \"operating_FY26-27\",\n",
    "}\n",
    "\n",
    "arvin = get_kern_data(\n",
    "    3,\n",
    "    43,\n",
    "    \"arvin\",\n",
    "    \"Purcahse and install EV mirco-grid Purcahse and install EV mirco-grid\",\n",
    ")\n",
    "\n",
    "california_city = get_kern_data(\n",
    "    7,\n",
    "    39,\n",
    "    \"california city\",\n",
    "    \"Purchase and construct transit building to house EV vans and solar charging stations\",\n",
    ")\n",
    "\n",
    "delano = get_kern_data(11, 35, \"delano\", \"Construct transit Facility\")\n",
    "\n",
    "get = get_kern_data(\n",
    "    15,\n",
    "    31,\n",
    "    \"get\",\n",
    "    \"Golden Empire Transit Free or near free transit fares Back up hydrogent fuel plant\",\n",
    ")\n",
    "\n",
    "kern_transit = get_kern_data(\n",
    "    19,\n",
    "    27,\n",
    "    \"kern transit\",\n",
    "    \"Transition to Zero-Emission Vehicles and supporting infrastructure\",\n",
    ")\n",
    "\n",
    "mcfarland = get_kern_data(\n",
    "    23,\n",
    "    23,\n",
    "    \"mcfarland\",\n",
    "    \"Design and construct a transit station providing a transit office , waitning area, restrooms and EV charging stations\",\n",
    ")\n",
    "\n",
    "ridgecrest = get_kern_data(\n",
    "    27,\n",
    "    19,\n",
    "    \"ridgecrest\",\n",
    "    \"Replacement of Cutaway Buses with Electric Vans and Construction of Bus Stop at North Norma Street and West Felspar Avenue\",\n",
    ")\n",
    "\n",
    "shafter = get_kern_data(\n",
    "    31, 15, \"shafter\", \"bus storage, new transit vehicles, free ridership fare program\"\n",
    ")\n",
    "\n",
    "taft = get_kern_data(\n",
    "    35,\n",
    "    11,\n",
    "    \"taft\",\n",
    "    \"convert the City’s gasoline powered fleet of on-demand transit vehicles to plug-in electric vans compatible with the solar-powered charging infrastructure being completed now.\",\n",
    ")\n",
    "\n",
    "tehahapi = get_kern_data(\n",
    "    39,\n",
    "    9,\n",
    "    \"tehahapi\",\n",
    "    \"Improvements to Downtown Transit Center and Installation of EV Charging Infrastructure\",\n",
    ")\n",
    "\n",
    "wasco = get_kern_data(43, 3, \"wasco\", \"New Transit Operating and Maintenance Facility\")\n",
    "\n",
    "\n",
    "display(\n",
    "    wasco,\n",
    "    tehahapi,\n",
    "    taft,\n",
    "    shafter,\n",
    "    ridgecrest,\n",
    "    mcfarland,\n",
    "    kern_transit,\n",
    "    get,\n",
    "    arvin,\n",
    "    california_city,\n",
    "    delano,\n",
    ")"
   ]
  },
  {
   "cell_type": "code",
   "execution_count": null,
   "id": "a5575418-d35e-43cc-aa11-355cd631aaae",
   "metadata": {},
   "outputs": [],
   "source": [
    "# CLEANING COMPLETE\n",
    "\n",
    "kern_concat = pd.concat(\n",
    "    [\n",
    "        wasco,\n",
    "        tehahapi,\n",
    "        taft,\n",
    "        shafter,\n",
    "        ridgecrest,\n",
    "        mcfarland,\n",
    "        kern_transit,\n",
    "        get,\n",
    "        arvin,\n",
    "        california_city,\n",
    "        delano,\n",
    "    ],\n",
    "    ignore_index=True,\n",
    ")\n",
    "\n",
    "kern_clean = kern_concat[kern_concat[\"fund source\"].isin([\"TIRCP\", \"ZETCP\"])].rename(\n",
    "    columns={\"implementing_agency\": \"implementing agenc-y/-ies\"}\n",
    ")\n",
    "\n",
    "kern_clean = kern_clean[col_order]\n",
    "\n",
    "kern_clean"
   ]
  },
  {
   "cell_type": "markdown",
   "id": "da8e3785-b974-415c-8e48-a1b57e6ba380",
   "metadata": {},
   "source": [
    "# Test of concat all the dictionary dataframe vales"
   ]
  },
  {
   "cell_type": "code",
   "execution_count": null,
   "id": "5284e051-fcad-438b-8a62-b10c286a26ae",
   "metadata": {},
   "outputs": [],
   "source": [
    "fund_request_df = cleaned_fund_request.values()\n",
    "\n",
    "type(fund_request_df)"
   ]
  },
  {
   "cell_type": "code",
   "execution_count": null,
   "id": "2b26e076-3b0b-4181-a3ba-ce7a55dac7bc",
   "metadata": {},
   "outputs": [],
   "source": [
    "all_fund_requests = pd.concat(cleaned_fund_request.values(), ignore_index=True)"
   ]
  },
  {
   "cell_type": "code",
   "execution_count": null,
   "id": "899fa4b8-45b2-414e-9587-27792ce3ab72",
   "metadata": {},
   "outputs": [],
   "source": [
    "all_fund_requests = pd.concat(\n",
    "    [\n",
    "        all_fund_requests,\n",
    "        santa_cruz_cleaned,\n",
    "        orange_cleaned,\n",
    "        butte_cleaned,\n",
    "        lassen_cleaned,\n",
    "        ventura_big_merge,\n",
    "        kern_clean,\n",
    "    ],\n",
    "    ignore_index=True,\n",
    ")"
   ]
  },
  {
   "cell_type": "code",
   "execution_count": null,
   "id": "3c464192-d1f6-46f1-b307-6dc9581081f1",
   "metadata": {},
   "outputs": [],
   "source": [
    "all_fund_requests[\"fund source\"] = all_fund_requests[\"fund source\"].astype(str)"
   ]
  },
  {
   "cell_type": "code",
   "execution_count": null,
   "id": "b2b680d3-2f24-4edf-99e0-b0a83aeffa3a",
   "metadata": {},
   "outputs": [],
   "source": [
    "display(\n",
    "    all_fund_requests.shape,\n",
    "    type(all_fund_requests),\n",
    "    all_fund_requests.dtypes,\n",
    ")"
   ]
  },
  {
   "cell_type": "markdown",
   "id": "bcbf733e-f811-4eca-8643-e4e9ada8f7ac",
   "metadata": {},
   "source": [
    "# Save Concat DF Parquet to GCS"
   ]
  },
  {
   "cell_type": "code",
   "execution_count": null,
   "id": "a3a2c476-013a-4d08-963f-67d07a9860b1",
   "metadata": {},
   "outputs": [],
   "source": [
    "# SAVING TO GCS!\n",
    "all_fund_requests.to_parquet(f\"{GCS_PATH}all_fund_requests_concat.parquet\")"
   ]
  },
  {
   "cell_type": "markdown",
   "id": "0f9d5ebb-d41d-419c-8908-dc795bda7b6e",
   "metadata": {},
   "source": [
    "# TEST of Melting the dataframe"
   ]
  },
  {
   "cell_type": "code",
   "execution_count": null,
   "id": "be7d2552-be4f-491f-b3e7-fb12e78130a7",
   "metadata": {},
   "outputs": [],
   "source": [
    "id_vars = [\n",
    "    \"rtpa\",\n",
    "    \"implementing agenc-y/-ies\",\n",
    "    \"project\",\n",
    "    \"fund source\",\n",
    "]\n",
    "val_vars = [\n",
    "    \"capital_FY23-24\",\n",
    "    \"capital_FY24-25\",\n",
    "    \"capital_FY25-26\",\n",
    "    \"capital_FY26-27\",\n",
    "    \"operating_FY23-24\",\n",
    "    \"operating_FY24-25\",\n",
    "    \"operating_FY25-26\",\n",
    "    \"operating_FY26-27\",\n",
    "]\n",
    "\n",
    "melt = all_fund_requests.melt(\n",
    "    id_vars=id_vars,\n",
    "    value_vars=val_vars,\n",
    "    var_name=\"capital/operation fy\",\n",
    "    value_name=\"fund amount\",\n",
    "    ignore_index=True,\n",
    ")"
   ]
  },
  {
   "cell_type": "code",
   "execution_count": null,
   "id": "29d71849-601d-4d21-a2f0-8ca414406a17",
   "metadata": {},
   "outputs": [],
   "source": [
    "display(type(melt), melt.shape, melt.dtypes, melt.head())"
   ]
  },
  {
   "cell_type": "code",
   "execution_count": null,
   "id": "65ddabcb-96c9-4d5c-a93f-18b7417e7c34",
   "metadata": {},
   "outputs": [],
   "source": [
    "# splitting the cap/operations columns\n",
    "\n",
    "melt[[\"project type\", \"fiscal year\"]] = melt[\"capital/operation fy\"].str.split(\n",
    "    \"_FY\", expand=True\n",
    ")"
   ]
  },
  {
   "cell_type": "code",
   "execution_count": null,
   "id": "a6b36880-f563-4af3-96e7-bdcf41b2947e",
   "metadata": {
    "tags": []
   },
   "outputs": [],
   "source": [
    "# check for NaNs\n",
    "melt[\"fund amount\"].isna().sum()"
   ]
  },
  {
   "cell_type": "code",
   "execution_count": null,
   "id": "55d63390-66dd-4a38-8aab-7e860c5ea528",
   "metadata": {},
   "outputs": [],
   "source": [
    "melt[\"fund amount\"] = melt[\"fund amount\"].fillna(0).astype(\"int64\")\n",
    "melt[\"fund source\"] = melt[\"fund source\"].astype(\"str\")"
   ]
  },
  {
   "cell_type": "code",
   "execution_count": null,
   "id": "dd63bf3d-6c42-4504-b033-c82e174adc67",
   "metadata": {
    "tags": []
   },
   "outputs": [],
   "source": [
    "# ensure no more NaNs\n",
    "melt[\"fund amount\"].isna().sum()"
   ]
  },
  {
   "cell_type": "code",
   "execution_count": null,
   "id": "c5c36f15-d0ad-481c-909e-fcfdb692beb8",
   "metadata": {},
   "outputs": [],
   "source": [
    "display(melt.columns, melt.sample(3))"
   ]
  },
  {
   "cell_type": "code",
   "execution_count": null,
   "id": "22af8755-80c2-4213-8f1f-819ccbc51113",
   "metadata": {},
   "outputs": [],
   "source": [
    "# checking fund amounts for any non-int values\n",
    "melt[\"fund amount\"].unique()"
   ]
  },
  {
   "cell_type": "code",
   "execution_count": null,
   "id": "1be6fe7a-729b-4df3-bd2b-345b951a3ddf",
   "metadata": {},
   "outputs": [],
   "source": [
    "display(melt.dtypes, melt[\"fund source\"].value_counts())"
   ]
  },
  {
   "cell_type": "markdown",
   "id": "1a785436-aa30-44d7-82bf-6b91f387caac",
   "metadata": {},
   "source": [
    "# Save Melt DF Parquet to GCS"
   ]
  },
  {
   "cell_type": "code",
   "execution_count": null,
   "id": "9b747237-1ffe-4910-9cad-7c23e6c9d6bb",
   "metadata": {},
   "outputs": [],
   "source": [
    "melt.to_parquet(f\"{GCS_PATH}all_fund_requests_melt.parquet\")"
   ]
  },
  {
   "cell_type": "markdown",
   "id": "7e6fc118-6ad7-4832-9c03-f32e18ce4cfe",
   "metadata": {},
   "source": [
    "# Draft Aggregations"
   ]
  },
  {
   "cell_type": "code",
   "execution_count": null,
   "id": "28ffc2ba-9d8e-4c5d-8be5-30e718906099",
   "metadata": {},
   "outputs": [],
   "source": [
    "def make_bar(data, x_axis, y_axis):\n",
    "    chart = (\n",
    "        alt.Chart(data)\n",
    "        .mark_bar()\n",
    "        .encode(\n",
    "            x=x_axis,\n",
    "            y=y_axis,\n",
    "        )\n",
    "    )\n",
    "    return chart"
   ]
  },
  {
   "cell_type": "code",
   "execution_count": null,
   "id": "a4f528b2-4de2-4835-8620-14a528e68a9a",
   "metadata": {},
   "outputs": [],
   "source": [
    "by_type = (\n",
    "    melt.groupby([\"project type\"])\n",
    "    .agg(\n",
    "        {\n",
    "            \"fund amount\": \"sum\",\n",
    "        }\n",
    "    )\n",
    "    .reset_index()\n",
    ")\n",
    "\n",
    "display(by_type)\n",
    "make_bar(by_type, y_axis=\"project type\", x_axis=\"fund amount\")"
   ]
  },
  {
   "cell_type": "code",
   "execution_count": null,
   "id": "b7ce8b24-f16e-4045-9f83-347442b16cd1",
   "metadata": {},
   "outputs": [],
   "source": [
    "by_year = (\n",
    "    melt.groupby([\"fiscal year\", \"project type\"])\n",
    "    .agg(\n",
    "        {\n",
    "            \"fund amount\": \"sum\",\n",
    "        }\n",
    "    )\n",
    "    .reset_index()\n",
    ")\n",
    "\n",
    "display(by_year)\n",
    "make_bar(\n",
    "    by_year,\n",
    "    y_axis=\"fiscal year\",\n",
    "    x_axis=\"fund amount\",\n",
    ")"
   ]
  },
  {
   "cell_type": "code",
   "execution_count": null,
   "id": "2fdc75f3-f1bc-4b4b-bd12-4af88ce25128",
   "metadata": {},
   "outputs": [],
   "source": [
    "alt.Chart(by_year).mark_line(point=True).encode(\n",
    "    x=\"fiscal year\", y=\"fund amount\", color=\"project type\"\n",
    ")"
   ]
  },
  {
   "cell_type": "code",
   "execution_count": null,
   "id": "572c255d-0ae5-4588-a0b1-5c9cfbef4870",
   "metadata": {},
   "outputs": [],
   "source": [
    "alt.Chart(by_year).mark_bar(point=True).encode(\n",
    "    x=\"fiscal year\", y=\"fund amount\", color=\"project type\"\n",
    ")"
   ]
  },
  {
   "cell_type": "code",
   "execution_count": null,
   "id": "d6371a85-059d-4c5d-903f-5525ab9dd8df",
   "metadata": {},
   "outputs": [],
   "source": [
    "by_source = (\n",
    "    melt.groupby([\"fund source\"])\n",
    "    .agg({\"fund amount\": \"sum\", \"rtpa\": \"nunique\"})\n",
    "    .reset_index()\n",
    ")\n",
    "\n",
    "make_bar(by_source, y_axis=\"fund source\", x_axis=\"fund amount\")"
   ]
  },
  {
   "cell_type": "code",
   "execution_count": null,
   "id": "7807c175-4728-4614-a4f6-95ffe6460e29",
   "metadata": {},
   "outputs": [],
   "source": [
    "by_rtpa = (\n",
    "    melt.groupby([\"rtpa\"])\n",
    "    .agg({\"fund amount\": \"sum\", \"project\": \"nunique\"})\n",
    "    .reset_index()\n",
    ")\n",
    "\n",
    "make_bar(by_rtpa, \"rtpa\", \"fund amount\")"
   ]
  },
  {
   "cell_type": "code",
   "execution_count": null,
   "id": "04e8f0d3-e85f-4275-8227-2d486c105cc2",
   "metadata": {},
   "outputs": [],
   "source": []
  }
 ],
 "metadata": {
  "kernelspec": {
   "display_name": "Python 3 (ipykernel)",
   "language": "python",
   "name": "python3"
  },
  "language_info": {
   "codemirror_mode": {
    "name": "ipython",
    "version": 3
   },
   "file_extension": ".py",
   "mimetype": "text/x-python",
   "name": "python",
   "nbconvert_exporter": "python",
   "pygments_lexer": "ipython3",
   "version": "3.9.13"
  }
 },
 "nbformat": 4,
 "nbformat_minor": 5
}
