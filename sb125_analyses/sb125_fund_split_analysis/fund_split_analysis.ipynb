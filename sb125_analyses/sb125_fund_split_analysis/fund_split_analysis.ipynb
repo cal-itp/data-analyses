{
 "cells": [
  {
   "cell_type": "code",
   "execution_count": 1,
   "id": "18bf8d66-e8cf-45bd-8d51-f316ad5eb588",
   "metadata": {},
   "outputs": [],
   "source": [
    "import altair as alt\n",
    "import pandas as pd\n",
    "from IPython.display import Markdown, display, HTML\n",
    "\n",
    "pd.set_option(\"display.max_columns\", None)\n",
    "pd.set_option(\"display.max_rows\", None)\n",
    "\n",
    "GCS_PATH = \"gs://calitp-analytics-data/data-analyses/sb125/fund_split/\""
   ]
  },
  {
   "cell_type": "markdown",
   "id": "b7df6d2c-ad3e-4630-8690-975e48049278",
   "metadata": {},
   "source": [
    "# SB125 Fund Split Analysis"
   ]
  },
  {
   "cell_type": "markdown",
   "id": "42fdef6f-d9ca-419f-861e-54e94098b951",
   "metadata": {},
   "source": [
    "## Question:\n",
    "- How did RTAs split SB125 funds between operations and capital?"
   ]
  },
  {
   "cell_type": "markdown",
   "id": "56b377e1-5f8e-481b-af19-2a6ba2ff92e0",
   "metadata": {},
   "source": [
    "## Methodology:\n",
    "- upload all avilable `SB125 fund request template` files to gcs\n",
    "- examine all files for consistencies:\n",
    "    - come with cleaning plan for inconsistent examples (files withot capital/operating columns)\n",
    "- concat all rows across all files\n"
   ]
  },
  {
   "cell_type": "markdown",
   "id": "ed15b993-c361-4cd0-b1b6-facf2efbba1f",
   "metadata": {},
   "source": [
    "## Notes:\n",
    "- Some RTPAs did not submit a `SB125 fund request template.xlsx` file, but instead included an equivilent file their allocation package\n",
    "- There are ~30 files to analyze, most of which need to be uniquely cleaned. All cleaning steps are done in the `fund_split.py` script and saved to GCS"
   ]
  },
  {
   "cell_type": "markdown",
   "id": "081bd92f-5114-4678-87aa-500ea78f85ed",
   "metadata": {},
   "source": [
    "# Read in Melt DF parquet from GCS"
   ]
  },
  {
   "cell_type": "code",
   "execution_count": 2,
   "id": "c041c6eb-cda1-47fd-aecf-7dd04b6f52e7",
   "metadata": {},
   "outputs": [],
   "source": [
    "all_melt = pd.read_parquet(f\"{GCS_PATH}all_fund_requests_melt.parquet\")"
   ]
  },
  {
   "cell_type": "code",
   "execution_count": 24,
   "id": "6460a800-8204-46ed-9cbc-4861f1114791",
   "metadata": {},
   "outputs": [
    {
     "data": {
      "text/plain": [
       "(2296, 8)"
      ]
     },
     "metadata": {},
     "output_type": "display_data"
    },
    {
     "data": {
      "text/plain": [
       "Index(['rtpa', 'implementing agenc-y/-ies', 'project', 'fund source',\n",
       "       'capital/operation fy', 'fund amount', 'project type', 'fiscal year'],\n",
       "      dtype='object')"
      ]
     },
     "metadata": {},
     "output_type": "display_data"
    }
   ],
   "source": [
    "display(all_melt.shape, all_melt.columns)"
   ]
  },
  {
   "cell_type": "code",
   "execution_count": 4,
   "id": "c0ffa614-96db-46a0-9b53-b67c481dcf4e",
   "metadata": {},
   "outputs": [],
   "source": [
    "by_source = all_melt.groupby([\"fund source\"]).agg({\"fund amount\": \"sum\", \"rtpa\": \"nunique\"}).reset_index()\n",
    "by_type = all_melt.groupby([\"project type\"]).agg({\"fund amount\": \"sum\",}).reset_index()\n",
    "by_year = all_melt.groupby([\"fiscal year\", \"project type\"]).agg({\"fund amount\": \"sum\"}).reset_index()\n",
    "by_rtpa = all_melt.groupby([\"rtpa\"]).agg({\"fund amount\": \"sum\", \"project\": \"nunique\"}).reset_index()\n"
   ]
  },
  {
   "cell_type": "code",
   "execution_count": 29,
   "id": "f7701cee-4145-41d5-be7d-0cf0ea39349e",
   "metadata": {},
   "outputs": [
    {
     "data": {
      "text/plain": [
       "Index(['fund source', 'fund amount', 'rtpa'], dtype='object')"
      ]
     },
     "execution_count": 29,
     "metadata": {},
     "output_type": "execute_result"
    }
   ],
   "source": [
    "by_source.columns"
   ]
  },
  {
   "cell_type": "markdown",
   "id": "a7180b38-ce35-456d-9060-7d5cb940a36a",
   "metadata": {},
   "source": [
    "# Charts"
   ]
  },
  {
   "cell_type": "code",
   "execution_count": 32,
   "id": "572c255d-0ae5-4588-a0b1-5c9cfbef4870",
   "metadata": {
    "tags": []
   },
   "outputs": [
    {
     "data": {
      "text/markdown": [
       "## Overall split of SB125 allocations funds by capital/operating expenses"
      ],
      "text/plain": [
       "<IPython.core.display.Markdown object>"
      ]
     },
     "metadata": {},
     "output_type": "display_data"
    },
    {
     "data": {
      "text/html": [
       "\n",
       "<style>\n",
       "  #altair-viz-fefa375f5ea44702968869c68c474aea.vega-embed {\n",
       "    width: 100%;\n",
       "    display: flex;\n",
       "  }\n",
       "\n",
       "  #altair-viz-fefa375f5ea44702968869c68c474aea.vega-embed details,\n",
       "  #altair-viz-fefa375f5ea44702968869c68c474aea.vega-embed details summary {\n",
       "    position: relative;\n",
       "  }\n",
       "</style>\n",
       "<div id=\"altair-viz-fefa375f5ea44702968869c68c474aea\"></div>\n",
       "<script type=\"text/javascript\">\n",
       "  var VEGA_DEBUG = (typeof VEGA_DEBUG == \"undefined\") ? {} : VEGA_DEBUG;\n",
       "  (function(spec, embedOpt){\n",
       "    let outputDiv = document.currentScript.previousElementSibling;\n",
       "    if (outputDiv.id !== \"altair-viz-fefa375f5ea44702968869c68c474aea\") {\n",
       "      outputDiv = document.getElementById(\"altair-viz-fefa375f5ea44702968869c68c474aea\");\n",
       "    }\n",
       "    const paths = {\n",
       "      \"vega\": \"https://cdn.jsdelivr.net/npm/vega@5?noext\",\n",
       "      \"vega-lib\": \"https://cdn.jsdelivr.net/npm/vega-lib?noext\",\n",
       "      \"vega-lite\": \"https://cdn.jsdelivr.net/npm/vega-lite@5.17.0?noext\",\n",
       "      \"vega-embed\": \"https://cdn.jsdelivr.net/npm/vega-embed@6?noext\",\n",
       "    };\n",
       "\n",
       "    function maybeLoadScript(lib, version) {\n",
       "      var key = `${lib.replace(\"-\", \"\")}_version`;\n",
       "      return (VEGA_DEBUG[key] == version) ?\n",
       "        Promise.resolve(paths[lib]) :\n",
       "        new Promise(function(resolve, reject) {\n",
       "          var s = document.createElement('script');\n",
       "          document.getElementsByTagName(\"head\")[0].appendChild(s);\n",
       "          s.async = true;\n",
       "          s.onload = () => {\n",
       "            VEGA_DEBUG[key] = version;\n",
       "            return resolve(paths[lib]);\n",
       "          };\n",
       "          s.onerror = () => reject(`Error loading script: ${paths[lib]}`);\n",
       "          s.src = paths[lib];\n",
       "        });\n",
       "    }\n",
       "\n",
       "    function showError(err) {\n",
       "      outputDiv.innerHTML = `<div class=\"error\" style=\"color:red;\">${err}</div>`;\n",
       "      throw err;\n",
       "    }\n",
       "\n",
       "    function displayChart(vegaEmbed) {\n",
       "      vegaEmbed(outputDiv, spec, embedOpt)\n",
       "        .catch(err => showError(`Javascript Error: ${err.message}<br>This usually means there's a typo in your chart specification. See the javascript console for the full traceback.`));\n",
       "    }\n",
       "\n",
       "    if(typeof define === \"function\" && define.amd) {\n",
       "      requirejs.config({paths});\n",
       "      require([\"vega-embed\"], displayChart, err => showError(`Error loading script: ${err.message}`));\n",
       "    } else {\n",
       "      maybeLoadScript(\"vega\", \"5\")\n",
       "        .then(() => maybeLoadScript(\"vega-lite\", \"5.17.0\"))\n",
       "        .then(() => maybeLoadScript(\"vega-embed\", \"6\"))\n",
       "        .catch(showError)\n",
       "        .then(() => displayChart(vegaEmbed));\n",
       "    }\n",
       "  })({\"config\": {\"view\": {\"continuousWidth\": 300, \"continuousHeight\": 300}}, \"data\": {\"name\": \"data-1b093f4fd754b12a94a60701a45260f5\"}, \"mark\": {\"type\": \"bar\", \"point\": true}, \"encoding\": {\"color\": {\"field\": \"project type\", \"type\": \"nominal\"}, \"tooltip\": [{\"field\": \"project type\", \"type\": \"nominal\"}, {\"field\": \"fund amount\", \"type\": \"quantitative\"}], \"x\": {\"field\": \"project type\", \"type\": \"nominal\"}, \"y\": {\"field\": \"fund amount\", \"type\": \"quantitative\"}}, \"height\": 400, \"width\": 600, \"$schema\": \"https://vega.github.io/schema/vega-lite/v5.17.0.json\", \"datasets\": {\"data-1b093f4fd754b12a94a60701a45260f5\": [{\"project type\": \"capital\", \"fund amount\": 1855348721}, {\"project type\": \"operating\", \"fund amount\": 625654847}]}}, {\"mode\": \"vega-lite\"});\n",
       "</script>"
      ],
      "text/plain": [
       "alt.Chart(...)"
      ]
     },
     "metadata": {},
     "output_type": "display_data"
    },
    {
     "data": {
      "text/html": [
       "<div>\n",
       "<style scoped>\n",
       "    .dataframe tbody tr th:only-of-type {\n",
       "        vertical-align: middle;\n",
       "    }\n",
       "\n",
       "    .dataframe tbody tr th {\n",
       "        vertical-align: top;\n",
       "    }\n",
       "\n",
       "    .dataframe thead th {\n",
       "        text-align: right;\n",
       "    }\n",
       "</style>\n",
       "<table border=\"1\" class=\"dataframe\">\n",
       "  <thead>\n",
       "    <tr style=\"text-align: right;\">\n",
       "      <th></th>\n",
       "      <th>project type</th>\n",
       "      <th>fund amount</th>\n",
       "    </tr>\n",
       "  </thead>\n",
       "  <tbody>\n",
       "    <tr>\n",
       "      <th>0</th>\n",
       "      <td>capital</td>\n",
       "      <td>1855348721</td>\n",
       "    </tr>\n",
       "    <tr>\n",
       "      <th>1</th>\n",
       "      <td>operating</td>\n",
       "      <td>625654847</td>\n",
       "    </tr>\n",
       "  </tbody>\n",
       "</table>\n",
       "</div>"
      ],
      "text/plain": [
       "  project type  fund amount\n",
       "0      capital   1855348721\n",
       "1    operating    625654847"
      ]
     },
     "metadata": {},
     "output_type": "display_data"
    },
    {
     "data": {
      "text/markdown": [
       "## SB125 allocations funds by capital/operating expenses, by fiscal year"
      ],
      "text/plain": [
       "<IPython.core.display.Markdown object>"
      ]
     },
     "metadata": {},
     "output_type": "display_data"
    },
    {
     "data": {
      "text/html": [
       "\n",
       "<style>\n",
       "  #altair-viz-a69a7d3bcc4546568a9f5970e09c1173.vega-embed {\n",
       "    width: 100%;\n",
       "    display: flex;\n",
       "  }\n",
       "\n",
       "  #altair-viz-a69a7d3bcc4546568a9f5970e09c1173.vega-embed details,\n",
       "  #altair-viz-a69a7d3bcc4546568a9f5970e09c1173.vega-embed details summary {\n",
       "    position: relative;\n",
       "  }\n",
       "</style>\n",
       "<div id=\"altair-viz-a69a7d3bcc4546568a9f5970e09c1173\"></div>\n",
       "<script type=\"text/javascript\">\n",
       "  var VEGA_DEBUG = (typeof VEGA_DEBUG == \"undefined\") ? {} : VEGA_DEBUG;\n",
       "  (function(spec, embedOpt){\n",
       "    let outputDiv = document.currentScript.previousElementSibling;\n",
       "    if (outputDiv.id !== \"altair-viz-a69a7d3bcc4546568a9f5970e09c1173\") {\n",
       "      outputDiv = document.getElementById(\"altair-viz-a69a7d3bcc4546568a9f5970e09c1173\");\n",
       "    }\n",
       "    const paths = {\n",
       "      \"vega\": \"https://cdn.jsdelivr.net/npm/vega@5?noext\",\n",
       "      \"vega-lib\": \"https://cdn.jsdelivr.net/npm/vega-lib?noext\",\n",
       "      \"vega-lite\": \"https://cdn.jsdelivr.net/npm/vega-lite@5.17.0?noext\",\n",
       "      \"vega-embed\": \"https://cdn.jsdelivr.net/npm/vega-embed@6?noext\",\n",
       "    };\n",
       "\n",
       "    function maybeLoadScript(lib, version) {\n",
       "      var key = `${lib.replace(\"-\", \"\")}_version`;\n",
       "      return (VEGA_DEBUG[key] == version) ?\n",
       "        Promise.resolve(paths[lib]) :\n",
       "        new Promise(function(resolve, reject) {\n",
       "          var s = document.createElement('script');\n",
       "          document.getElementsByTagName(\"head\")[0].appendChild(s);\n",
       "          s.async = true;\n",
       "          s.onload = () => {\n",
       "            VEGA_DEBUG[key] = version;\n",
       "            return resolve(paths[lib]);\n",
       "          };\n",
       "          s.onerror = () => reject(`Error loading script: ${paths[lib]}`);\n",
       "          s.src = paths[lib];\n",
       "        });\n",
       "    }\n",
       "\n",
       "    function showError(err) {\n",
       "      outputDiv.innerHTML = `<div class=\"error\" style=\"color:red;\">${err}</div>`;\n",
       "      throw err;\n",
       "    }\n",
       "\n",
       "    function displayChart(vegaEmbed) {\n",
       "      vegaEmbed(outputDiv, spec, embedOpt)\n",
       "        .catch(err => showError(`Javascript Error: ${err.message}<br>This usually means there's a typo in your chart specification. See the javascript console for the full traceback.`));\n",
       "    }\n",
       "\n",
       "    if(typeof define === \"function\" && define.amd) {\n",
       "      requirejs.config({paths});\n",
       "      require([\"vega-embed\"], displayChart, err => showError(`Error loading script: ${err.message}`));\n",
       "    } else {\n",
       "      maybeLoadScript(\"vega\", \"5\")\n",
       "        .then(() => maybeLoadScript(\"vega-lite\", \"5.17.0\"))\n",
       "        .then(() => maybeLoadScript(\"vega-embed\", \"6\"))\n",
       "        .catch(showError)\n",
       "        .then(() => displayChart(vegaEmbed));\n",
       "    }\n",
       "  })({\"config\": {\"view\": {\"continuousWidth\": 300, \"continuousHeight\": 300}}, \"data\": {\"name\": \"data-a7e1deb4b2d7757328984cb1370701fb\"}, \"mark\": {\"type\": \"bar\", \"point\": true}, \"encoding\": {\"color\": {\"field\": \"project type\", \"type\": \"nominal\"}, \"tooltip\": [{\"field\": \"project type\", \"type\": \"nominal\"}, {\"field\": \"fund amount\", \"type\": \"quantitative\"}], \"x\": {\"field\": \"fiscal year\", \"type\": \"nominal\"}, \"y\": {\"field\": \"fund amount\", \"type\": \"quantitative\"}}, \"height\": 400, \"width\": 600, \"$schema\": \"https://vega.github.io/schema/vega-lite/v5.17.0.json\", \"datasets\": {\"data-a7e1deb4b2d7757328984cb1370701fb\": [{\"fiscal year\": \"23-24\", \"project type\": \"capital\", \"fund amount\": 945242943}, {\"fiscal year\": \"23-24\", \"project type\": \"operating\", \"fund amount\": 230807266}, {\"fiscal year\": \"24-25\", \"project type\": \"capital\", \"fund amount\": 812480147}, {\"fiscal year\": \"24-25\", \"project type\": \"operating\", \"fund amount\": 169494114}, {\"fiscal year\": \"25-26\", \"project type\": \"capital\", \"fund amount\": 49092309}, {\"fiscal year\": \"25-26\", \"project type\": \"operating\", \"fund amount\": 96177774}, {\"fiscal year\": \"26-27\", \"project type\": \"capital\", \"fund amount\": 48533322}, {\"fiscal year\": \"26-27\", \"project type\": \"operating\", \"fund amount\": 129175693}]}}, {\"mode\": \"vega-lite\"});\n",
       "</script>"
      ],
      "text/plain": [
       "alt.Chart(...)"
      ]
     },
     "metadata": {},
     "output_type": "display_data"
    }
   ],
   "source": [
    "stack_chart = alt.Chart(by_year).mark_bar(point=True).encode(\n",
    "    x=\"fiscal year\", \n",
    "    y=\"fund amount\", \n",
    "    color=\"project type\",\n",
    "    tooltip=[\"project type\", \"fund amount\"],\n",
    ").properties(width=600, height=400)\n",
    "\n",
    "\n",
    "overall_chart = alt.Chart(by_type).mark_bar(point=True).encode(\n",
    "    x=\"project type\", \n",
    "    y=\"fund amount\", \n",
    "    color=\"project type\",\n",
    "    tooltip=[\"project type\", \"fund amount\"],\n",
    ").properties(width=600, height=400)\n",
    "\n",
    "source_chart = alt.Chart(by_type).mark_bar(point=True).encode(\n",
    "    x=\"project type\", \n",
    "    y=\"fund amount\", \n",
    "    color=\"project type\",\n",
    "    tooltip=[\"project type\", \"fund amount\"],\n",
    ").properties(width=600, height=400)\n",
    "\n",
    "\n",
    "display(\n",
    "    Markdown(\"## Overall split of SB125 allocations funds by capital/operating expenses\"),\n",
    "    overall_chart,\n",
    "    by_type,\n",
    "    Markdown(\"## SB125 allocations funds by capital/operating expenses, by fiscal year\"),\n",
    "    stack_chart,\n",
    "    #by_year.sort_values(by=\"project type\")\n",
    ")"
   ]
  },
  {
   "cell_type": "markdown",
   "id": "7e6fc118-6ad7-4832-9c03-f32e18ce4cfe",
   "metadata": {
    "tags": []
   },
   "source": [
    "# Draft Aggregations"
   ]
  },
  {
   "cell_type": "code",
   "execution_count": 28,
   "id": "28ffc2ba-9d8e-4c5d-8be5-30e718906099",
   "metadata": {},
   "outputs": [],
   "source": [
    "def make_bar(data, x_axis, y_axis):\n",
    "    chart = (\n",
    "        alt.Chart(data)\n",
    "        .mark_bar()\n",
    "        .encode(\n",
    "            x=x_axis,\n",
    "            y=y_axis,\n",
    "            #color= color_val,\n",
    "        )\n",
    "        .properties(width=\"container\", height=400)\n",
    "    )\n",
    "    text = chart.mark_text(align=\"left\", baseline=\"middle\", dx=3).encode(\n",
    "            text=\"fund amount\"\n",
    "    )\n",
    "    return chart + text"
   ]
  },
  {
   "cell_type": "code",
   "execution_count": 45,
   "id": "d6371a85-059d-4c5d-903f-5525ab9dd8df",
   "metadata": {},
   "outputs": [
    {
     "data": {
      "text/html": [
       "\n",
       "<style>\n",
       "  #altair-viz-69604f6fd03b46989b104d3b33c51d15.vega-embed {\n",
       "    width: 100%;\n",
       "    display: flex;\n",
       "  }\n",
       "\n",
       "  #altair-viz-69604f6fd03b46989b104d3b33c51d15.vega-embed details,\n",
       "  #altair-viz-69604f6fd03b46989b104d3b33c51d15.vega-embed details summary {\n",
       "    position: relative;\n",
       "  }\n",
       "</style>\n",
       "<div id=\"altair-viz-69604f6fd03b46989b104d3b33c51d15\"></div>\n",
       "<script type=\"text/javascript\">\n",
       "  var VEGA_DEBUG = (typeof VEGA_DEBUG == \"undefined\") ? {} : VEGA_DEBUG;\n",
       "  (function(spec, embedOpt){\n",
       "    let outputDiv = document.currentScript.previousElementSibling;\n",
       "    if (outputDiv.id !== \"altair-viz-69604f6fd03b46989b104d3b33c51d15\") {\n",
       "      outputDiv = document.getElementById(\"altair-viz-69604f6fd03b46989b104d3b33c51d15\");\n",
       "    }\n",
       "    const paths = {\n",
       "      \"vega\": \"https://cdn.jsdelivr.net/npm/vega@5?noext\",\n",
       "      \"vega-lib\": \"https://cdn.jsdelivr.net/npm/vega-lib?noext\",\n",
       "      \"vega-lite\": \"https://cdn.jsdelivr.net/npm/vega-lite@5.17.0?noext\",\n",
       "      \"vega-embed\": \"https://cdn.jsdelivr.net/npm/vega-embed@6?noext\",\n",
       "    };\n",
       "\n",
       "    function maybeLoadScript(lib, version) {\n",
       "      var key = `${lib.replace(\"-\", \"\")}_version`;\n",
       "      return (VEGA_DEBUG[key] == version) ?\n",
       "        Promise.resolve(paths[lib]) :\n",
       "        new Promise(function(resolve, reject) {\n",
       "          var s = document.createElement('script');\n",
       "          document.getElementsByTagName(\"head\")[0].appendChild(s);\n",
       "          s.async = true;\n",
       "          s.onload = () => {\n",
       "            VEGA_DEBUG[key] = version;\n",
       "            return resolve(paths[lib]);\n",
       "          };\n",
       "          s.onerror = () => reject(`Error loading script: ${paths[lib]}`);\n",
       "          s.src = paths[lib];\n",
       "        });\n",
       "    }\n",
       "\n",
       "    function showError(err) {\n",
       "      outputDiv.innerHTML = `<div class=\"error\" style=\"color:red;\">${err}</div>`;\n",
       "      throw err;\n",
       "    }\n",
       "\n",
       "    function displayChart(vegaEmbed) {\n",
       "      vegaEmbed(outputDiv, spec, embedOpt)\n",
       "        .catch(err => showError(`Javascript Error: ${err.message}<br>This usually means there's a typo in your chart specification. See the javascript console for the full traceback.`));\n",
       "    }\n",
       "\n",
       "    if(typeof define === \"function\" && define.amd) {\n",
       "      requirejs.config({paths});\n",
       "      require([\"vega-embed\"], displayChart, err => showError(`Error loading script: ${err.message}`));\n",
       "    } else {\n",
       "      maybeLoadScript(\"vega\", \"5\")\n",
       "        .then(() => maybeLoadScript(\"vega-lite\", \"5.17.0\"))\n",
       "        .then(() => maybeLoadScript(\"vega-embed\", \"6\"))\n",
       "        .catch(showError)\n",
       "        .then(() => displayChart(vegaEmbed));\n",
       "    }\n",
       "  })({\"config\": {\"view\": {\"continuousWidth\": 300, \"continuousHeight\": 300}}, \"layer\": [{\"mark\": {\"type\": \"bar\"}, \"encoding\": {\"x\": {\"field\": \"fund source\", \"type\": \"nominal\"}, \"y\": {\"field\": \"fund amount\", \"type\": \"quantitative\"}}}, {\"mark\": {\"type\": \"text\", \"align\": \"left\", \"baseline\": \"middle\", \"dx\": 3}, \"encoding\": {\"text\": {\"field\": \"fund amount\", \"type\": \"quantitative\"}, \"x\": {\"field\": \"fund source\", \"type\": \"nominal\"}, \"y\": {\"field\": \"fund amount\", \"type\": \"quantitative\"}}}], \"data\": {\"name\": \"data-821c618b6202146cf5a5c4cb24c27031\"}, \"height\": 400, \"width\": \"container\", \"$schema\": \"https://vega.github.io/schema/vega-lite/v5.17.0.json\", \"datasets\": {\"data-821c618b6202146cf5a5c4cb24c27031\": [{\"fund source\": \"TIRCP\", \"fund amount\": 2114010519, \"rtpa\": 30}, {\"fund source\": \"ZETCP\", \"fund amount\": 58874499, \"rtpa\": 3}, {\"fund source\": \"ZETCP (GGRF)\", \"fund amount\": 275714380, \"rtpa\": 26}, {\"fund source\": \"ZETCP (PTA)\", \"fund amount\": 27584170, \"rtpa\": 23}]}}, {\"mode\": \"vega-lite\"});\n",
       "</script>"
      ],
      "text/plain": [
       "alt.LayerChart(...)"
      ]
     },
     "execution_count": 45,
     "metadata": {},
     "output_type": "execute_result"
    }
   ],
   "source": [
    "make_bar(by_source[by_source[\"fund source\"].isin(\n",
    "    [\"TIRCP\", \"ZETCP\", \"ZETCP (GGRF)\", \"ZETCP (PTA)\"]\n",
    ")], y_axis=\"fund amount\", x_axis=\"fund source\")"
   ]
  },
  {
   "cell_type": "code",
   "execution_count": null,
   "id": "df6fc947-a341-417f-98aa-65b400548c66",
   "metadata": {},
   "outputs": [],
   "source": []
  }
 ],
 "metadata": {
  "kernelspec": {
   "display_name": "Python 3 (ipykernel)",
   "language": "python",
   "name": "python3"
  },
  "language_info": {
   "codemirror_mode": {
    "name": "ipython",
    "version": 3
   },
   "file_extension": ".py",
   "mimetype": "text/x-python",
   "name": "python",
   "nbconvert_exporter": "python",
   "pygments_lexer": "ipython3",
   "version": "3.9.13"
  }
 },
 "nbformat": 4,
 "nbformat_minor": 5
}
