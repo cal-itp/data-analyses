{
 "cells": [
  {
   "cell_type": "markdown",
   "id": "b7df6d2c-ad3e-4630-8690-975e48049278",
   "metadata": {},
   "source": [
    "# SB125 Fund Split Analysis"
   ]
  },
  {
   "cell_type": "markdown",
   "id": "42fdef6f-d9ca-419f-861e-54e94098b951",
   "metadata": {},
   "source": [
    "## Question:\n",
    "- How did RTAs split SB125 funds between operations and capital?"
   ]
  },
  {
   "cell_type": "markdown",
   "id": "56b377e1-5f8e-481b-af19-2a6ba2ff92e0",
   "metadata": {},
   "source": [
    "## Methodology:\n",
    "- upload all avilable `SB125 fund request template` files to gcs\n",
    "- examine all files for consistencies:\n",
    "    - come with cleaning plan for inconsistent examples (files withot capital/operating columns)\n",
    "- concat all rows across all files\n"
   ]
  },
  {
   "cell_type": "markdown",
   "id": "ed15b993-c361-4cd0-b1b6-facf2efbba1f",
   "metadata": {},
   "source": [
    "## Notes:\n",
    "- some RTPAs did not submit a `SB125 fund request template.xlsx` file, but instead included an quivilent file their allocation package"
   ]
  },
  {
   "cell_type": "code",
   "execution_count": 1,
   "id": "18bf8d66-e8cf-45bd-8d51-f316ad5eb588",
   "metadata": {},
   "outputs": [],
   "source": [
    "import pandas as pd\n",
    "import os\n",
    "import altair as alt\n",
    "\n",
    "pd.set_option(\"display.max_columns\", None)\n",
    "pd.set_option(\"display.max_rows\", None)\n",
    "\n",
    "GCS_PATH = \"gs://calitp-analytics-data/data-analyses/sb125/fund_split/\""
   ]
  },
  {
   "cell_type": "code",
   "execution_count": 2,
   "id": "1919aba4-aa2d-4c33-a5ba-db72b74de71d",
   "metadata": {},
   "outputs": [],
   "source": [
    "file_list = [\n",
    "    \"sierra_fund_request.xlsx\",\n",
    "    \"slocog_fund_request.xlsx\",\n",
    "    \"tehema_fund_request.xlsx\",\n",
    "    \"tuolumne_fund_request.xlsx\",\n",
    "    \"ventura_fund_request.xlsx\",\n",
    "    \"alpine_fund_request.xlsx\",\n",
    "    \"amador_fund_request.xlsx\",\n",
    "    \"butte_fund_request.xlsx\",\n",
    "    \"calaveras_fund_request.xlsx\",\n",
    "    \"del_norte_fund_request.xlsx\",\n",
    "    \"el_dorado_fund_request.xlsx\",\n",
    "    \"humboldt_fund_request.xlsx\",\n",
    "    \"kern_fund_request.xlsx\",\n",
    "    \"kings_fund_request.xlsx\",\n",
    "    \"la_metro_fund_request.xlsx\",\n",
    "    \"lake_fund_request.xlsx\",\n",
    "    \"lassen_fund_request.xlsx\",\n",
    "    \"madera_fund_request.xlsx\",\n",
    "    \"mariposa_fund_request.xlsx\",\n",
    "    \"mendocino_fund_request.xlsx\",\n",
    "    \"merced_fund_request.xlsx\",\n",
    "    \"mtc_fund_request.xlsx\",\n",
    "    \"nevada_fund_request.xlsx\",\n",
    "    \"orange_fund_request.xlsx\",\n",
    "    \"placer_fund_request.xlsx\",\n",
    "    \"plumas_fund_request.xlsx\",\n",
    "    \"riverside_fund_request.xlsx\",\n",
    "    \"san_benito_fund_request.xlsx\",\n",
    "    \"san_diego_mts_fund_request.xlsx\",\n",
    "    \"santa_cruz_fund_request.xlsx\",\n",
    "    \"shasta_fund_request.xlsx\",\n",
    "]\n",
    "\n",
    "file_list.sort()"
   ]
  },
  {
   "cell_type": "code",
   "execution_count": 3,
   "id": "a553a440-29f0-4e86-8dc2-1efd1947d775",
   "metadata": {},
   "outputs": [],
   "source": [
    "def clean_fund_request(file:str) -> pd.DataFrame:\n",
    "    \"\"\"\n",
    "    reads in the file from GCS, maps col_names list to df columns, drops all the blank rows.\n",
    "    returns df.\n",
    "    \"\"\"\n",
    "    col_names = [\n",
    "    \"rtpa\",\n",
    "    \"implementing agenc-y/-ies\",\n",
    "    \"project\",\n",
    "    \"fund source\",\n",
    "    \"capital_FY23-24\",\n",
    "    \"capital_FY24-25\",\n",
    "    \"capital_FY25-26\",\n",
    "    \"capital_FY26-27\",\n",
    "    \"operating_FY23-24\",\n",
    "    \"operating_FY24-25\",\n",
    "    \"operating_FY25-26\",\n",
    "    \"operating_FY26-27\",\n",
    "    \"total\",\n",
    "]\n",
    "    \n",
    "    df = pd.read_excel(f\"{GCS_PATH}{file}\", header=2, nrows=40, names=col_names).drop(columns=\"total\")\n",
    "    row_drop = df[\"rtpa\"].isin([\"Grand Total\", \"RTPA\"])\n",
    "    df = df.drop(df[row_drop].index)\n",
    "    df = df.dropna(how= \"all\")\n",
    "    df[[\"rtpa\", \"implementing agenc-y/-ies\",\"project\"]] = df[[\"rtpa\", \"implementing agenc-y/-ies\",\"project\"]].ffill()\n",
    "    \n",
    "    return df\n"
   ]
  },
  {
   "cell_type": "markdown",
   "id": "7ae32134-236e-47e7-bd79-73a016c53ad9",
   "metadata": {},
   "source": [
    "first iteration of fund_request_checker func.\n",
    ">def read_in(file:str) -> pd.DataFrame:\n",
    ">    df = pd.read_excel(f\"{GCS_PATH}{file}\", nrows=40)\n",
    ">    df = df.dropna(how= \"all\")\n",
    ">   \n",
    ">    if len(df.columns) == 13:\n",
    ">        print(f\"{file} can use clean_fund_request func.\")\n",
    ">    else: \n",
    ">        print(f\"needs manual check, {file}\")\n",
    "       "
   ]
  },
  {
   "cell_type": "markdown",
   "id": "af0d2867-2378-4098-ab7f-daa2b24dd5bb",
   "metadata": {},
   "source": [
    "old iteration\n",
    ">def fund_request_checker(file_list:list) -> pd.DataFrame:\n",
    ">\n",
    ">    for file in file_list:\n",
    ">    \n",
    ">        df = pd.read_excel(f\"{GCS_PATH}{file}\", nrows=40)\n",
    ">        df = df.dropna(how= \"all\")\n",
    ">    \n",
    ">        if len(df.columns) == 13:\n",
    ">            print(f\"{file} can use clean_fund_request func.\")\n",
    ">        else: \n",
    ">            print(f\"needs manual check, {file}\")\n",
    "       "
   ]
  },
  {
   "cell_type": "code",
   "execution_count": 4,
   "id": "537e168b-b782-4d3c-9ec1-86b9d2a64bc5",
   "metadata": {},
   "outputs": [],
   "source": [
    "#fund_request_checker(file_list)"
   ]
  },
  {
   "cell_type": "markdown",
   "id": "af620f61-c99f-48a6-9566-41fb4e3fc87e",
   "metadata": {},
   "source": [
    "old iteration\n",
    ">def fund_request_checker_v2(file_list:list):\n",
    ">    gtg_files = []\n",
    ">    manual_review = []\n",
    ">    for file in file_list:\n",
    ">    \n",
    ">        df = pd.read_excel(f\"{GCS_PATH}{file}\", nrows=40)\n",
    ">        df = df.dropna(how= \"all\")\n",
    ">    \n",
    ">        if len(df.columns) == 13:\n",
    ">            gtg_files.append(f\"{file}\")\n",
    ">        else: \n",
    ">            manual_review.append(f\"{file}\")\n",
    ">    return display(\n",
    ">        \"good to go files\",\n",
    ">        list(gtg_files), \n",
    ">        \"needs manual check\", \n",
    ">        list(manual_review)\n",
    ">    )"
   ]
  },
  {
   "cell_type": "code",
   "execution_count": 5,
   "id": "b1965f54-be4f-4e3b-827e-3d90c0bd90f1",
   "metadata": {},
   "outputs": [],
   "source": [
    "#fund_request_checker_v2(file_list)"
   ]
  },
  {
   "cell_type": "code",
   "execution_count": 6,
   "id": "344d5b2f-f08c-45c1-a7b3-5e2b858c0cb6",
   "metadata": {},
   "outputs": [],
   "source": [
    "def fund_request_checker_v3(file_list:list) -> tuple:\n",
    "    \"\"\"takes in list of fund_request excel file name. reads in each file, checks if DF has 13 columns.\n",
    "    if yes, appends do good-to-go list. else, appends to needs-manual-review.\n",
    "    output is a tuple of the 2 list.\n",
    "    assign 2 variables to use this func.\n",
    "    \"\"\"\n",
    "    gtg_files = []\n",
    "    manual_review = []\n",
    "    for file in file_list:\n",
    "    \n",
    "        df = pd.read_excel(f\"{GCS_PATH}{file}\", nrows=40)\n",
    "        df = df.dropna(how= \"all\")\n",
    "    \n",
    "        if len(df.columns) == 13:\n",
    "            gtg_files.append(f\"{file}\")\n",
    "        else: \n",
    "            manual_review.append(f\"{file}\")\n",
    "    return gtg_files, manual_review"
   ]
  },
  {
   "cell_type": "code",
   "execution_count": 7,
   "id": "431e7ffe-4f25-4942-a5fd-fd20ed5269f7",
   "metadata": {},
   "outputs": [],
   "source": [
    "good_list, review_list = fund_request_checker_v3(file_list)"
   ]
  },
  {
   "cell_type": "code",
   "execution_count": 8,
   "id": "91f570e9-a439-4ff6-a3c9-afad60b004c3",
   "metadata": {},
   "outputs": [
    {
     "data": {
      "text/plain": [
       "24"
      ]
     },
     "metadata": {},
     "output_type": "display_data"
    },
    {
     "data": {
      "text/plain": [
       "7"
      ]
     },
     "metadata": {},
     "output_type": "display_data"
    }
   ],
   "source": [
    "display(\n",
    "    len(good_list),\n",
    "    len(review_list)\n",
    ")"
   ]
  },
  {
   "cell_type": "code",
   "execution_count": 9,
   "id": "6030a8e8-b5e8-4645-852f-1284c37a1191",
   "metadata": {},
   "outputs": [],
   "source": [
    "def cleaner_loop(gtg_list:list) -> dict: \n",
    "    \"\"\"\n",
    "    takes in good-to-go list from fund_request_checker.\n",
    "    applies the clean_fund_request function to each item on the list, then appends to dictionary.\n",
    "    key is name of the file, value is the cleaned dataframe.\n",
    "    output is dictionary. \n",
    "    \"\"\"\n",
    "    cleaned_df ={}\n",
    "\n",
    "    for name in gtg_list:\n",
    "        cleaned_df[name] = clean_fund_request(name)\n",
    "    return cleaned_df"
   ]
  },
  {
   "cell_type": "code",
   "execution_count": 10,
   "id": "8841bb0a-9994-455a-abc8-d8670ed9f8c1",
   "metadata": {},
   "outputs": [],
   "source": [
    "cleaned_fund_request = cleaner_loop(good_list)"
   ]
  },
  {
   "cell_type": "code",
   "execution_count": 11,
   "id": "711f1a32-7cb2-4482-b322-913535a7c822",
   "metadata": {},
   "outputs": [
    {
     "data": {
      "text/plain": [
       "dict"
      ]
     },
     "metadata": {},
     "output_type": "display_data"
    },
    {
     "data": {
      "text/plain": [
       "24"
      ]
     },
     "metadata": {},
     "output_type": "display_data"
    },
    {
     "data": {
      "text/plain": [
       "['alpine_fund_request.xlsx',\n",
       " 'amador_fund_request.xlsx',\n",
       " 'calaveras_fund_request.xlsx',\n",
       " 'del_norte_fund_request.xlsx',\n",
       " 'el_dorado_fund_request.xlsx',\n",
       " 'humboldt_fund_request.xlsx',\n",
       " 'kings_fund_request.xlsx',\n",
       " 'la_metro_fund_request.xlsx',\n",
       " 'lake_fund_request.xlsx',\n",
       " 'madera_fund_request.xlsx',\n",
       " 'mariposa_fund_request.xlsx',\n",
       " 'mendocino_fund_request.xlsx',\n",
       " 'merced_fund_request.xlsx',\n",
       " 'nevada_fund_request.xlsx',\n",
       " 'placer_fund_request.xlsx',\n",
       " 'plumas_fund_request.xlsx',\n",
       " 'riverside_fund_request.xlsx',\n",
       " 'san_benito_fund_request.xlsx',\n",
       " 'san_diego_mts_fund_request.xlsx',\n",
       " 'shasta_fund_request.xlsx',\n",
       " 'sierra_fund_request.xlsx',\n",
       " 'slocog_fund_request.xlsx',\n",
       " 'tehema_fund_request.xlsx',\n",
       " 'tuolumne_fund_request.xlsx']"
      ]
     },
     "metadata": {},
     "output_type": "display_data"
    }
   ],
   "source": [
    "display(\n",
    "    type(cleaned_fund_request),\n",
    "    len(cleaned_fund_request),\n",
    "    list(cleaned_fund_request.keys()),\n",
    ")"
   ]
  },
  {
   "cell_type": "code",
   "execution_count": 12,
   "id": "57bca52a-e8f8-4064-99ab-5d1c950b76c4",
   "metadata": {},
   "outputs": [
    {
     "name": "stdout",
     "output_type": "stream",
     "text": [
      "DataFrame: alpine_fund_request.xlsx\n",
      "DataFrame: amador_fund_request.xlsx\n",
      "DataFrame: calaveras_fund_request.xlsx\n",
      "DataFrame: del_norte_fund_request.xlsx\n",
      "DataFrame: el_dorado_fund_request.xlsx\n",
      "DataFrame: humboldt_fund_request.xlsx\n",
      "DataFrame: kings_fund_request.xlsx\n",
      "DataFrame: la_metro_fund_request.xlsx\n",
      "DataFrame: lake_fund_request.xlsx\n",
      "DataFrame: madera_fund_request.xlsx\n",
      "DataFrame: mariposa_fund_request.xlsx\n",
      "DataFrame: mendocino_fund_request.xlsx\n",
      "DataFrame: merced_fund_request.xlsx\n",
      "DataFrame: nevada_fund_request.xlsx\n",
      "DataFrame: placer_fund_request.xlsx\n",
      "DataFrame: plumas_fund_request.xlsx\n",
      "DataFrame: riverside_fund_request.xlsx\n",
      "DataFrame: san_benito_fund_request.xlsx\n",
      "DataFrame: san_diego_mts_fund_request.xlsx\n",
      "DataFrame: shasta_fund_request.xlsx\n",
      "DataFrame: sierra_fund_request.xlsx\n",
      "DataFrame: slocog_fund_request.xlsx\n",
      "DataFrame: tehema_fund_request.xlsx\n",
      "DataFrame: tuolumne_fund_request.xlsx\n"
     ]
    }
   ],
   "source": [
    "# view all the good-to-go df\n",
    "\n",
    "from IPython.display import display\n",
    "\n",
    "# .items() creates tuples of each element in the dict. key:value maps to key:df\n",
    "\n",
    "for key, df in cleaned_fund_request.items():\n",
    "    print(f\"DataFrame: {key}\")\n",
    "    #display(df)\n"
   ]
  },
  {
   "cell_type": "markdown",
   "id": "0b9ad819-c321-45e7-9839-50c0fb0fb5c6",
   "metadata": {
    "tags": []
   },
   "source": [
    "# Cleaning individual good DFs"
   ]
  },
  {
   "cell_type": "code",
   "execution_count": 13,
   "id": "144657e7-3384-44af-a32c-72c502328f62",
   "metadata": {},
   "outputs": [],
   "source": [
    "cleaned_fund_request[\"amador_fund_request.xlsx\"] = cleaned_fund_request[\"amador_fund_request.xlsx\"].drop([2])"
   ]
  },
  {
   "cell_type": "code",
   "execution_count": 14,
   "id": "7cb03494-4899-4fec-a0f2-a3bd1835b865",
   "metadata": {},
   "outputs": [],
   "source": [
    "cleaned_fund_request[\"merced_fund_request.xlsx\"] = cleaned_fund_request[\"merced_fund_request.xlsx\"].drop([1,2,34,36,37])"
   ]
  },
  {
   "cell_type": "code",
   "execution_count": 15,
   "id": "cff49900-a3c6-4607-bbf9-d79fa298aca6",
   "metadata": {},
   "outputs": [],
   "source": [
    "cleaned_fund_request[\"san_benito_fund_request.xlsx\"] = cleaned_fund_request[\"san_benito_fund_request.xlsx\"].drop([6,9])"
   ]
  },
  {
   "cell_type": "code",
   "execution_count": 16,
   "id": "a4a65461-cc55-4e0b-a347-08a3f473512e",
   "metadata": {},
   "outputs": [],
   "source": [
    "row_drops = [\n",
    "    1,\n",
    "    2,\n",
    "    3,\n",
    "    4,\n",
    "    9,\n",
    "    10,\n",
    "    11,\n",
    "]\n",
    "cleaned_fund_request[\"san_diego_mts_fund_request.xlsx\"] = cleaned_fund_request[\"san_diego_mts_fund_request.xlsx\"].drop(row_drops)"
   ]
  },
  {
   "cell_type": "code",
   "execution_count": 17,
   "id": "8e573309-ce0e-49cb-845e-95a0ce21d294",
   "metadata": {},
   "outputs": [],
   "source": [
    "cleaned_fund_request[\"sierra_fund_request.xlsx\"] = cleaned_fund_request[\"sierra_fund_request.xlsx\"].drop(list(range(24,32)))"
   ]
  },
  {
   "cell_type": "code",
   "execution_count": 18,
   "id": "5e2d1b26-bfa5-484a-9830-c81de7270c06",
   "metadata": {},
   "outputs": [],
   "source": [
    "cleaned_fund_request[\"nevada_fund_request.xlsx\"] = cleaned_fund_request[\"nevada_fund_request.xlsx\"].drop([8,9])"
   ]
  },
  {
   "cell_type": "code",
   "execution_count": 19,
   "id": "98c80dab-f084-4627-82ad-969b4ade7337",
   "metadata": {},
   "outputs": [],
   "source": [
    "cleaned_fund_request[\"plumas_fund_request.xlsx\"]= cleaned_fund_request[\"plumas_fund_request.xlsx\"].drop(list(range(10,14)))"
   ]
  },
  {
   "cell_type": "markdown",
   "id": "564513c3-d29e-4daa-883b-2ed02c5464e7",
   "metadata": {
    "tags": []
   },
   "source": [
    "# Attempt to clean bad DFs"
   ]
  },
  {
   "cell_type": "code",
   "execution_count": 91,
   "id": "a0cfb8aa-004e-4df2-b855-408bb100b77f",
   "metadata": {},
   "outputs": [],
   "source": [
    "    col_names = [\n",
    "    \"rtpa\",\n",
    "    \"implementing agenc-y/-ies\",\n",
    "    \"project\",\n",
    "    \"fund source\",\n",
    "    \"capital_FY23-24\",\n",
    "    \"capital_FY24-25\",\n",
    "    \"capital_FY25-26\",\n",
    "    \"capital_FY26-27\",\n",
    "    \"operating_FY23-24\",\n",
    "    \"operating_FY24-25\",\n",
    "    \"operating_FY25-26\",\n",
    "    \"operating_FY26-27\",\n",
    "    \"total\",\n",
    "    ]"
   ]
  },
  {
   "cell_type": "code",
   "execution_count": 50,
   "id": "27ebe05f-d903-4234-90f0-ab622d05a60a",
   "metadata": {},
   "outputs": [
    {
     "data": {
      "text/plain": [
       "['butte_fund_request.xlsx',\n",
       " 'kern_fund_request.xlsx',\n",
       " 'lassen_fund_request.xlsx',\n",
       " 'mtc_fund_request.xlsx',\n",
       " 'orange_fund_request.xlsx',\n",
       " 'santa_cruz_fund_request.xlsx',\n",
       " 'ventura_fund_request.xlsx']"
      ]
     },
     "execution_count": 50,
     "metadata": {},
     "output_type": "execute_result"
    }
   ],
   "source": [
    "# list of bad DFs that didnt match the other layouts\n",
    "review_list"
   ]
  },
  {
   "cell_type": "code",
   "execution_count": 105,
   "id": "b99347ee-e599-472f-911e-ca72dcf2889f",
   "metadata": {},
   "outputs": [],
   "source": [
    "#CLEAN COMPLETED\n",
    "\n",
    "lassen = pd.read_excel(f\"{GCS_PATH}lassen_fund_request.xlsx\", \n",
    "                       sheet_name = \"D.2. Detailed Fund Request\",\n",
    "                       skiprows = 6,\n",
    "                       header=0, \n",
    "                       skipfooter=12,\n",
    "                      ).drop(columns=[\"Unnamed: 0\", \"Project Type\", \"Operator\"])\n",
    "\n",
    "# can work with this. may be able to remove the top rows then use cleaner loop\n",
    "lassen.columns=col_names\n",
    "lassen_cleaned = lassen.drop(columns=\"total\")"
   ]
  },
  {
   "cell_type": "code",
   "execution_count": 106,
   "id": "28e56576-fd6c-460e-8793-d58f319a9a91",
   "metadata": {},
   "outputs": [
    {
     "data": {
      "text/html": [
       "<div>\n",
       "<style scoped>\n",
       "    .dataframe tbody tr th:only-of-type {\n",
       "        vertical-align: middle;\n",
       "    }\n",
       "\n",
       "    .dataframe tbody tr th {\n",
       "        vertical-align: top;\n",
       "    }\n",
       "\n",
       "    .dataframe thead th {\n",
       "        text-align: right;\n",
       "    }\n",
       "</style>\n",
       "<table border=\"1\" class=\"dataframe\">\n",
       "  <thead>\n",
       "    <tr style=\"text-align: right;\">\n",
       "      <th></th>\n",
       "      <th>rtpa</th>\n",
       "      <th>implementing agenc-y/-ies</th>\n",
       "      <th>project</th>\n",
       "      <th>fund source</th>\n",
       "      <th>capital_FY23-24</th>\n",
       "      <th>capital_FY24-25</th>\n",
       "      <th>capital_FY25-26</th>\n",
       "      <th>capital_FY26-27</th>\n",
       "      <th>operating_FY23-24</th>\n",
       "      <th>operating_FY24-25</th>\n",
       "      <th>operating_FY25-26</th>\n",
       "      <th>operating_FY26-27</th>\n",
       "    </tr>\n",
       "  </thead>\n",
       "  <tbody>\n",
       "    <tr>\n",
       "      <th>0</th>\n",
       "      <td>LCTC</td>\n",
       "      <td>LCTC / LTSA</td>\n",
       "      <td>LTSA Operating Deficit</td>\n",
       "      <td>TIRCP</td>\n",
       "      <td>NaN</td>\n",
       "      <td>NaN</td>\n",
       "      <td>NaN</td>\n",
       "      <td>NaN</td>\n",
       "      <td>334937.0</td>\n",
       "      <td>665063.0</td>\n",
       "      <td>NaN</td>\n",
       "      <td>NaN</td>\n",
       "    </tr>\n",
       "    <tr>\n",
       "      <th>1</th>\n",
       "      <td>LCTC</td>\n",
       "      <td>LCTC / LTSA</td>\n",
       "      <td>NEMT Service to Reno</td>\n",
       "      <td>TIRCP</td>\n",
       "      <td>200000.00</td>\n",
       "      <td>NaN</td>\n",
       "      <td>NaN</td>\n",
       "      <td>NaN</td>\n",
       "      <td>NaN</td>\n",
       "      <td>NaN</td>\n",
       "      <td>NaN</td>\n",
       "      <td>NaN</td>\n",
       "    </tr>\n",
       "    <tr>\n",
       "      <th>2</th>\n",
       "      <td>LCTC</td>\n",
       "      <td>LCTC / LTSA</td>\n",
       "      <td>Vehicle Replacement (ZEB Plan)</td>\n",
       "      <td>TIRCP</td>\n",
       "      <td>885000.00</td>\n",
       "      <td>958737.0</td>\n",
       "      <td>NaN</td>\n",
       "      <td>NaN</td>\n",
       "      <td>NaN</td>\n",
       "      <td>NaN</td>\n",
       "      <td>NaN</td>\n",
       "      <td>NaN</td>\n",
       "    </tr>\n",
       "    <tr>\n",
       "      <th>3</th>\n",
       "      <td>LCTC</td>\n",
       "      <td>LCTC / LTSA</td>\n",
       "      <td>ZEV Charging Infrastrucutre</td>\n",
       "      <td>TIRCP</td>\n",
       "      <td>400000.00</td>\n",
       "      <td>200000.0</td>\n",
       "      <td>NaN</td>\n",
       "      <td>NaN</td>\n",
       "      <td>NaN</td>\n",
       "      <td>NaN</td>\n",
       "      <td>NaN</td>\n",
       "      <td>NaN</td>\n",
       "    </tr>\n",
       "    <tr>\n",
       "      <th>4</th>\n",
       "      <td>LCTC</td>\n",
       "      <td>LCTC / LTSA</td>\n",
       "      <td>ZEV Charging Infrastrucutre</td>\n",
       "      <td>ZETCP (PTA)</td>\n",
       "      <td>65103.00</td>\n",
       "      <td>NaN</td>\n",
       "      <td>NaN</td>\n",
       "      <td>NaN</td>\n",
       "      <td>NaN</td>\n",
       "      <td>NaN</td>\n",
       "      <td>NaN</td>\n",
       "      <td>NaN</td>\n",
       "    </tr>\n",
       "    <tr>\n",
       "      <th>5</th>\n",
       "      <td>LCTC</td>\n",
       "      <td>LCTC / LTSA</td>\n",
       "      <td>ZEV Charging Infrastrucutre</td>\n",
       "      <td>ZETCP (GGRF)</td>\n",
       "      <td>NaN</td>\n",
       "      <td>81552.0</td>\n",
       "      <td>87619.0</td>\n",
       "      <td>87619.0</td>\n",
       "      <td>NaN</td>\n",
       "      <td>NaN</td>\n",
       "      <td>NaN</td>\n",
       "      <td>NaN</td>\n",
       "    </tr>\n",
       "    <tr>\n",
       "      <th>6</th>\n",
       "      <td>LCTC</td>\n",
       "      <td>LCTC</td>\n",
       "      <td>Countywide ZEV Study</td>\n",
       "      <td>ZETCP (PTA)</td>\n",
       "      <td>11339.69</td>\n",
       "      <td>NaN</td>\n",
       "      <td>NaN</td>\n",
       "      <td>NaN</td>\n",
       "      <td>NaN</td>\n",
       "      <td>NaN</td>\n",
       "      <td>NaN</td>\n",
       "      <td>NaN</td>\n",
       "    </tr>\n",
       "    <tr>\n",
       "      <th>7</th>\n",
       "      <td>LCTC</td>\n",
       "      <td>LCTC</td>\n",
       "      <td>Countywide ZEV Study</td>\n",
       "      <td>ZETCP (GGRF)</td>\n",
       "      <td>88660.31</td>\n",
       "      <td>NaN</td>\n",
       "      <td>NaN</td>\n",
       "      <td>NaN</td>\n",
       "      <td>NaN</td>\n",
       "      <td>NaN</td>\n",
       "      <td>NaN</td>\n",
       "      <td>NaN</td>\n",
       "    </tr>\n",
       "    <tr>\n",
       "      <th>8</th>\n",
       "      <td>LCTC</td>\n",
       "      <td>LCTC</td>\n",
       "      <td>RTPA Administrative Costs</td>\n",
       "      <td>TIRCP</td>\n",
       "      <td>NaN</td>\n",
       "      <td>NaN</td>\n",
       "      <td>NaN</td>\n",
       "      <td>NaN</td>\n",
       "      <td>10000.0</td>\n",
       "      <td>10000.0</td>\n",
       "      <td>NaN</td>\n",
       "      <td>NaN</td>\n",
       "    </tr>\n",
       "    <tr>\n",
       "      <th>9</th>\n",
       "      <td>LCTC</td>\n",
       "      <td>LCTC</td>\n",
       "      <td>RTPA Administrative Costs</td>\n",
       "      <td>ZETCP (GGRF)</td>\n",
       "      <td>NaN</td>\n",
       "      <td>NaN</td>\n",
       "      <td>NaN</td>\n",
       "      <td>NaN</td>\n",
       "      <td>NaN</td>\n",
       "      <td>11067.0</td>\n",
       "      <td>5000.0</td>\n",
       "      <td>5000.0</td>\n",
       "    </tr>\n",
       "  </tbody>\n",
       "</table>\n",
       "</div>"
      ],
      "text/plain": [
       "   rtpa implementing agenc-y/-ies                         project  \\\n",
       "0  LCTC               LCTC / LTSA          LTSA Operating Deficit   \n",
       "1  LCTC               LCTC / LTSA            NEMT Service to Reno   \n",
       "2  LCTC               LCTC / LTSA  Vehicle Replacement (ZEB Plan)   \n",
       "3  LCTC               LCTC / LTSA     ZEV Charging Infrastrucutre   \n",
       "4  LCTC               LCTC / LTSA     ZEV Charging Infrastrucutre   \n",
       "5  LCTC               LCTC / LTSA     ZEV Charging Infrastrucutre   \n",
       "6  LCTC                   LCTC               Countywide ZEV Study   \n",
       "7  LCTC                   LCTC               Countywide ZEV Study   \n",
       "8  LCTC                      LCTC       RTPA Administrative Costs   \n",
       "9  LCTC                      LCTC       RTPA Administrative Costs   \n",
       "\n",
       "    fund source  capital_FY23-24  capital_FY24-25  capital_FY25-26  \\\n",
       "0         TIRCP              NaN              NaN              NaN   \n",
       "1         TIRCP        200000.00              NaN              NaN   \n",
       "2         TIRCP        885000.00         958737.0              NaN   \n",
       "3         TIRCP        400000.00         200000.0              NaN   \n",
       "4   ZETCP (PTA)         65103.00              NaN              NaN   \n",
       "5  ZETCP (GGRF)              NaN          81552.0          87619.0   \n",
       "6   ZETCP (PTA)         11339.69              NaN              NaN   \n",
       "7  ZETCP (GGRF)         88660.31              NaN              NaN   \n",
       "8         TIRCP              NaN              NaN              NaN   \n",
       "9  ZETCP (GGRF)              NaN              NaN              NaN   \n",
       "\n",
       "   capital_FY26-27  operating_FY23-24  operating_FY24-25  operating_FY25-26  \\\n",
       "0              NaN           334937.0           665063.0                NaN   \n",
       "1              NaN                NaN                NaN                NaN   \n",
       "2              NaN                NaN                NaN                NaN   \n",
       "3              NaN                NaN                NaN                NaN   \n",
       "4              NaN                NaN                NaN                NaN   \n",
       "5          87619.0                NaN                NaN                NaN   \n",
       "6              NaN                NaN                NaN                NaN   \n",
       "7              NaN                NaN                NaN                NaN   \n",
       "8              NaN            10000.0            10000.0                NaN   \n",
       "9              NaN                NaN            11067.0             5000.0   \n",
       "\n",
       "   operating_FY26-27  \n",
       "0                NaN  \n",
       "1                NaN  \n",
       "2                NaN  \n",
       "3                NaN  \n",
       "4                NaN  \n",
       "5                NaN  \n",
       "6                NaN  \n",
       "7                NaN  \n",
       "8                NaN  \n",
       "9             5000.0  "
      ]
     },
     "execution_count": 106,
     "metadata": {},
     "output_type": "execute_result"
    }
   ],
   "source": [
    "lassen_cleaned"
   ]
  },
  {
   "cell_type": "code",
   "execution_count": 134,
   "id": "b0d2c88a-0306-4736-a55a-87398d6f7eee",
   "metadata": {
    "tags": []
   },
   "outputs": [],
   "source": [
    "# CLEANED COMPLETE\n",
    "butte = pd.read_excel(f\"{GCS_PATH}butte_fund_request.xlsx\",\n",
    "                      skiprows= 2,\n",
    "                      header= 0,\n",
    "                      skipfooter= 17,\n",
    "                     )\n",
    "\n",
    "butte_cleaned = butte.copy()\n",
    "\n",
    "butte_cleaned[[\"RTPA\",\"Implementing Agenc-y/-ies\", \"Project\"]] = butte_cleaned[[\"RTPA\",\"Implementing Agenc-y/-ies\", \"Project\"]].ffill()\n",
    "\n",
    "butte_cleaned.insert(6, \"operations FY25-26\",0)\n",
    "butte_cleaned.insert(7, \"operations FY26-27\",0)\n",
    "butte_cleaned.columns = [\n",
    "    \"rtpa\",\n",
    "    \"implementing agenc-y/-ies\",\n",
    "    \"project\",\n",
    "    \"fund source\",\n",
    "    \"operating_FY23-24\",\n",
    "    \"operating_FY24-25\",\n",
    "    \"operating_FY25-26\",\n",
    "    \"operating_FY26-27\",\n",
    "    \"capital_FY23-24\",\n",
    "    \"capital_FY24-25\",\n",
    "    \"capital_FY25-26\",\n",
    "    \"capital_FY26-27\",\n",
    "    \"total\",\n",
    "    \n",
    "]\n",
    "# missing the operations columns. may not need if we melt just the capital columns\n",
    "display(\n",
    "    butte.shape,\n",
    "    butte_cleaned.shape,\n",
    "    butte_cleaned,\n",
    ")"
   ]
  },
  {
   "cell_type": "code",
   "execution_count": null,
   "id": "4f1de9b2-9288-4fd1-8249-e437f373cea1",
   "metadata": {},
   "outputs": [],
   "source": [
    "mtc = pd.read_excel(f\"{GCS_PATH}mtc_fund_request.xlsx\")\n",
    "\n",
    "# can work with this. may be able to remove the top rows then use cleaner loop\n",
    "mtc"
   ]
  },
  {
   "cell_type": "code",
   "execution_count": null,
   "id": "0ef6725b-8db5-4398-b861-41a8e256d01d",
   "metadata": {},
   "outputs": [],
   "source": [
    "orange = pd.read_excel(f\"{GCS_PATH}orange_fund_request.xlsx\")\n",
    "\n",
    "# FY goes to 28-29. dont think i need those columns, there are no numbers in them anyways\n",
    "# can drop\n",
    "orange"
   ]
  },
  {
   "cell_type": "code",
   "execution_count": null,
   "id": "ddfd019d-3a2d-4b11-bc51-74f03a87c11f",
   "metadata": {},
   "outputs": [],
   "source": [
    "santa_cruz = pd.read_excel(f\"{GCS_PATH}santa_cruz_fund_request.xlsx\")\n",
    "\n",
    "# can remove the extra columns past unnamed 12, then remove top and bottom rows, then use cleaner loop\n",
    "santa_cruz"
   ]
  },
  {
   "cell_type": "code",
   "execution_count": null,
   "id": "7a716897-65fe-4f93-97d7-30c9bae83624",
   "metadata": {},
   "outputs": [],
   "source": [
    "kern = pd.read_excel(f\"{GCS_PATH}kern_fund_request.xlsx\")\n",
    "\n",
    "# this is so bad, may need to do this in excel to make it work. \n",
    "# the agency name and fund soruce are on the same column\n",
    "kern"
   ]
  },
  {
   "cell_type": "code",
   "execution_count": null,
   "id": "a5231372-7930-4d45-8334-cd3a6652e5a2",
   "metadata": {},
   "outputs": [],
   "source": [
    "ventura = pd.read_excel(f\"{GCS_PATH}ventura_fund_request.xlsx\")\n",
    "\n",
    "# needs a lot of work, may have to do in excel\n",
    "ventura"
   ]
  },
  {
   "cell_type": "markdown",
   "id": "da8e3785-b974-415c-8e48-a1b57e6ba380",
   "metadata": {},
   "source": [
    "# Test of concat all the dictionary dataframe vales"
   ]
  },
  {
   "cell_type": "code",
   "execution_count": 20,
   "id": "2b26e076-3b0b-4181-a3ba-ce7a55dac7bc",
   "metadata": {},
   "outputs": [],
   "source": [
    "all_fund_request = pd.concat(cleaned_fund_request.values(), ignore_index=True)"
   ]
  },
  {
   "cell_type": "code",
   "execution_count": 21,
   "id": "b2b680d3-2f24-4edf-99e0-b0a83aeffa3a",
   "metadata": {},
   "outputs": [
    {
     "data": {
      "text/plain": [
       "(172, 12)"
      ]
     },
     "metadata": {},
     "output_type": "display_data"
    },
    {
     "data": {
      "text/plain": [
       "pandas.core.frame.DataFrame"
      ]
     },
     "metadata": {},
     "output_type": "display_data"
    },
    {
     "data": {
      "text/plain": [
       "Index(['rtpa', 'implementing agenc-y/-ies', 'project', 'fund source',\n",
       "       'capital_FY23-24', 'capital_FY24-25', 'capital_FY25-26',\n",
       "       'capital_FY26-27', 'operating_FY23-24', 'operating_FY24-25',\n",
       "       'operating_FY25-26', 'operating_FY26-27'],\n",
       "      dtype='object')"
      ]
     },
     "metadata": {},
     "output_type": "display_data"
    }
   ],
   "source": [
    "display(\n",
    "    all_fund_request.shape,\n",
    "    type(all_fund_request),\n",
    "    all_fund_request.columns\n",
    ")"
   ]
  },
  {
   "cell_type": "code",
   "execution_count": 22,
   "id": "e490eafb-5a5e-42d4-8b6c-4ba76664b7ac",
   "metadata": {},
   "outputs": [],
   "source": [
    "# sum all the \"capital columns\"\n",
    "#all_fund_request[[\"capital_FY23-24\":\"capital_FY26-27\"]].sum()"
   ]
  },
  {
   "cell_type": "code",
   "execution_count": 23,
   "id": "29b9fcfa-cf67-4c9c-aae1-5454a45acc56",
   "metadata": {},
   "outputs": [],
   "source": [
    "#sum all the \"operations columns\""
   ]
  },
  {
   "cell_type": "code",
   "execution_count": 24,
   "id": "6c5a187f-c014-48b3-9ae9-4956dd798ada",
   "metadata": {},
   "outputs": [
    {
     "data": {
      "text/html": [
       "<div>\n",
       "<style scoped>\n",
       "    .dataframe tbody tr th:only-of-type {\n",
       "        vertical-align: middle;\n",
       "    }\n",
       "\n",
       "    .dataframe tbody tr th {\n",
       "        vertical-align: top;\n",
       "    }\n",
       "\n",
       "    .dataframe thead th {\n",
       "        text-align: right;\n",
       "    }\n",
       "</style>\n",
       "<table border=\"1\" class=\"dataframe\">\n",
       "  <thead>\n",
       "    <tr style=\"text-align: right;\">\n",
       "      <th></th>\n",
       "      <th>capital_FY23-24</th>\n",
       "      <th>operating_FY23-24</th>\n",
       "    </tr>\n",
       "    <tr>\n",
       "      <th>rtpa</th>\n",
       "      <th></th>\n",
       "      <th></th>\n",
       "    </tr>\n",
       "  </thead>\n",
       "  <tbody>\n",
       "    <tr>\n",
       "      <th>Alpine County Transportation Commission</th>\n",
       "      <td>367381.0</td>\n",
       "      <td>0</td>\n",
       "    </tr>\n",
       "    <tr>\n",
       "      <th>Amador County Transportation Commission</th>\n",
       "      <td>100000.0</td>\n",
       "      <td>0</td>\n",
       "    </tr>\n",
       "    <tr>\n",
       "      <th>Calaveras County Council of Goverments</th>\n",
       "      <td>2815143.0</td>\n",
       "      <td>0</td>\n",
       "    </tr>\n",
       "    <tr>\n",
       "      <th>DNLTC</th>\n",
       "      <td>1825253.0</td>\n",
       "      <td>0</td>\n",
       "    </tr>\n",
       "    <tr>\n",
       "      <th>El Dorado County Transportation Commission</th>\n",
       "      <td>9849627.0</td>\n",
       "      <td>208011.0</td>\n",
       "    </tr>\n",
       "    <tr>\n",
       "      <th>Humboldt County Association of Governments</th>\n",
       "      <td>0</td>\n",
       "      <td>1952069.06</td>\n",
       "    </tr>\n",
       "    <tr>\n",
       "      <th>Kings County Association of Governments</th>\n",
       "      <td>8709876.0</td>\n",
       "      <td>100000.0</td>\n",
       "    </tr>\n",
       "    <tr>\n",
       "      <th>Lake County/City Council of Governments</th>\n",
       "      <td>4077103.0</td>\n",
       "      <td>0</td>\n",
       "    </tr>\n",
       "    <tr>\n",
       "      <th>Los Angeles County Metropolitan Transportation Authority</th>\n",
       "      <td>618145878.0</td>\n",
       "      <td>0</td>\n",
       "    </tr>\n",
       "    <tr>\n",
       "      <th>Madera County Transportation Commission</th>\n",
       "      <td>8254231.0</td>\n",
       "      <td>188112.0</td>\n",
       "    </tr>\n",
       "    <tr>\n",
       "      <th>Mariposa County Local Transportation Commission</th>\n",
       "      <td>200000.0</td>\n",
       "      <td>0</td>\n",
       "    </tr>\n",
       "    <tr>\n",
       "      <th>Mendocino Council of Governments</th>\n",
       "      <td>5353525.0</td>\n",
       "      <td>0</td>\n",
       "    </tr>\n",
       "    <tr>\n",
       "      <th>Merced County Association of Governments (MCAG)</th>\n",
       "      <td>14039873.0</td>\n",
       "      <td>3588470</td>\n",
       "    </tr>\n",
       "    <tr>\n",
       "      <th>NCTC</th>\n",
       "      <td>2287907.0</td>\n",
       "      <td>123336.0</td>\n",
       "    </tr>\n",
       "    <tr>\n",
       "      <th>Placer County Transportation Planning Agency (PCTPA)</th>\n",
       "      <td>17878421.0</td>\n",
       "      <td>378520.0</td>\n",
       "    </tr>\n",
       "    <tr>\n",
       "      <th>Plumas County Transportation Commission</th>\n",
       "      <td>1079183</td>\n",
       "      <td>292543</td>\n",
       "    </tr>\n",
       "    <tr>\n",
       "      <th>RCTC</th>\n",
       "      <td>138210990</td>\n",
       "      <td>0</td>\n",
       "    </tr>\n",
       "    <tr>\n",
       "      <th>SLOCOG</th>\n",
       "      <td>15967100.0</td>\n",
       "      <td>0</td>\n",
       "    </tr>\n",
       "    <tr>\n",
       "      <th>San Benito Council of Governments</th>\n",
       "      <td>2676992.0</td>\n",
       "      <td>1280082.0</td>\n",
       "    </tr>\n",
       "    <tr>\n",
       "      <th>San Diego Metropolitan Transit System</th>\n",
       "      <td>43265263</td>\n",
       "      <td>28200000</td>\n",
       "    </tr>\n",
       "    <tr>\n",
       "      <th>Shasta Regional Transportation Agency</th>\n",
       "      <td>2993316.0</td>\n",
       "      <td>895000.0</td>\n",
       "    </tr>\n",
       "    <tr>\n",
       "      <th>Sierra County Transportation Commission</th>\n",
       "      <td>17533.0</td>\n",
       "      <td>463183.0</td>\n",
       "    </tr>\n",
       "    <tr>\n",
       "      <th>Tehama County Transportation Commission</th>\n",
       "      <td>3934821.0</td>\n",
       "      <td>0</td>\n",
       "    </tr>\n",
       "    <tr>\n",
       "      <th>Tuolumne County Transportation Council</th>\n",
       "      <td>418366.0</td>\n",
       "      <td>485202.18</td>\n",
       "    </tr>\n",
       "  </tbody>\n",
       "</table>\n",
       "</div>"
      ],
      "text/plain": [
       "                                                   capital_FY23-24  \\\n",
       "rtpa                                                                 \n",
       "Alpine County Transportation Commission                   367381.0   \n",
       "Amador County Transportation Commission                   100000.0   \n",
       "Calaveras County Council of Goverments                   2815143.0   \n",
       "DNLTC                                                    1825253.0   \n",
       "El Dorado County Transportation Commission               9849627.0   \n",
       "Humboldt County Association of Governments                       0   \n",
       "Kings County Association of Governments                  8709876.0   \n",
       "Lake County/City Council of Governments                  4077103.0   \n",
       "Los Angeles County Metropolitan Transportation ...     618145878.0   \n",
       "Madera County Transportation Commission                  8254231.0   \n",
       "Mariposa County Local Transportation Commission           200000.0   \n",
       "Mendocino Council of Governments                         5353525.0   \n",
       "Merced County Association of Governments (MCAG)         14039873.0   \n",
       "NCTC                                                     2287907.0   \n",
       "Placer County Transportation Planning Agency (P...      17878421.0   \n",
       "Plumas County Transportation Commission                    1079183   \n",
       "RCTC                                                     138210990   \n",
       "SLOCOG                                                  15967100.0   \n",
       "San Benito Council of Governments                        2676992.0   \n",
       "San Diego Metropolitan Transit System                     43265263   \n",
       "Shasta Regional Transportation Agency                    2993316.0   \n",
       "Sierra County Transportation Commission                    17533.0   \n",
       "Tehama County Transportation Commission                  3934821.0   \n",
       "Tuolumne County Transportation Council                    418366.0   \n",
       "\n",
       "                                                   operating_FY23-24  \n",
       "rtpa                                                                  \n",
       "Alpine County Transportation Commission                            0  \n",
       "Amador County Transportation Commission                            0  \n",
       "Calaveras County Council of Goverments                             0  \n",
       "DNLTC                                                              0  \n",
       "El Dorado County Transportation Commission                  208011.0  \n",
       "Humboldt County Association of Governments                1952069.06  \n",
       "Kings County Association of Governments                     100000.0  \n",
       "Lake County/City Council of Governments                            0  \n",
       "Los Angeles County Metropolitan Transportation ...                 0  \n",
       "Madera County Transportation Commission                     188112.0  \n",
       "Mariposa County Local Transportation Commission                    0  \n",
       "Mendocino Council of Governments                                   0  \n",
       "Merced County Association of Governments (MCAG)              3588470  \n",
       "NCTC                                                        123336.0  \n",
       "Placer County Transportation Planning Agency (P...          378520.0  \n",
       "Plumas County Transportation Commission                       292543  \n",
       "RCTC                                                               0  \n",
       "SLOCOG                                                             0  \n",
       "San Benito Council of Governments                          1280082.0  \n",
       "San Diego Metropolitan Transit System                       28200000  \n",
       "Shasta Regional Transportation Agency                       895000.0  \n",
       "Sierra County Transportation Commission                     463183.0  \n",
       "Tehama County Transportation Commission                            0  \n",
       "Tuolumne County Transportation Council                     485202.18  "
      ]
     },
     "execution_count": 24,
     "metadata": {},
     "output_type": "execute_result"
    }
   ],
   "source": [
    "all_fund_request.groupby(\"rtpa\").agg({\n",
    "    \"capital_FY23-24\": \"sum\",\n",
    "    \"operating_FY23-24\": \"sum\"\n",
    "})"
   ]
  },
  {
   "cell_type": "code",
   "execution_count": 25,
   "id": "93da35f4-6cdd-4bff-a098-1f8f185b3b70",
   "metadata": {},
   "outputs": [
    {
     "data": {
      "text/html": [
       "<div>\n",
       "<style scoped>\n",
       "    .dataframe tbody tr th:only-of-type {\n",
       "        vertical-align: middle;\n",
       "    }\n",
       "\n",
       "    .dataframe tbody tr th {\n",
       "        vertical-align: top;\n",
       "    }\n",
       "\n",
       "    .dataframe thead th {\n",
       "        text-align: right;\n",
       "    }\n",
       "</style>\n",
       "<table border=\"1\" class=\"dataframe\">\n",
       "  <thead>\n",
       "    <tr style=\"text-align: right;\">\n",
       "      <th></th>\n",
       "      <th>capital_FY23-24</th>\n",
       "      <th>operating_FY23-24</th>\n",
       "    </tr>\n",
       "    <tr>\n",
       "      <th>rtpa</th>\n",
       "      <th></th>\n",
       "      <th></th>\n",
       "    </tr>\n",
       "  </thead>\n",
       "  <tbody>\n",
       "    <tr>\n",
       "      <th>Alpine County Transportation Commission</th>\n",
       "      <td>367381.0</td>\n",
       "      <td>0.00</td>\n",
       "    </tr>\n",
       "    <tr>\n",
       "      <th>Amador County Transportation Commission</th>\n",
       "      <td>100000.0</td>\n",
       "      <td>0.00</td>\n",
       "    </tr>\n",
       "    <tr>\n",
       "      <th>Calaveras County Council of Goverments</th>\n",
       "      <td>2815143.0</td>\n",
       "      <td>0.00</td>\n",
       "    </tr>\n",
       "    <tr>\n",
       "      <th>DNLTC</th>\n",
       "      <td>1825253.0</td>\n",
       "      <td>0.00</td>\n",
       "    </tr>\n",
       "    <tr>\n",
       "      <th>El Dorado County Transportation Commission</th>\n",
       "      <td>9849627.0</td>\n",
       "      <td>208011.00</td>\n",
       "    </tr>\n",
       "    <tr>\n",
       "      <th>Humboldt County Association of Governments</th>\n",
       "      <td>0.0</td>\n",
       "      <td>1952069.06</td>\n",
       "    </tr>\n",
       "    <tr>\n",
       "      <th>Kings County Association of Governments</th>\n",
       "      <td>8709876.0</td>\n",
       "      <td>100000.00</td>\n",
       "    </tr>\n",
       "    <tr>\n",
       "      <th>Lake County/City Council of Governments</th>\n",
       "      <td>4077103.0</td>\n",
       "      <td>0.00</td>\n",
       "    </tr>\n",
       "    <tr>\n",
       "      <th>Los Angeles County Metropolitan Transportation Authority</th>\n",
       "      <td>618145878.0</td>\n",
       "      <td>0.00</td>\n",
       "    </tr>\n",
       "    <tr>\n",
       "      <th>Madera County Transportation Commission</th>\n",
       "      <td>8254231.0</td>\n",
       "      <td>188112.00</td>\n",
       "    </tr>\n",
       "    <tr>\n",
       "      <th>Mariposa County Local Transportation Commission</th>\n",
       "      <td>200000.0</td>\n",
       "      <td>0.00</td>\n",
       "    </tr>\n",
       "    <tr>\n",
       "      <th>Mendocino Council of Governments</th>\n",
       "      <td>5353525.0</td>\n",
       "      <td>0.00</td>\n",
       "    </tr>\n",
       "    <tr>\n",
       "      <th>Merced County Association of Governments (MCAG)</th>\n",
       "      <td>14039873.0</td>\n",
       "      <td>3588470.00</td>\n",
       "    </tr>\n",
       "    <tr>\n",
       "      <th>NCTC</th>\n",
       "      <td>2287907.0</td>\n",
       "      <td>123336.00</td>\n",
       "    </tr>\n",
       "    <tr>\n",
       "      <th>Placer County Transportation Planning Agency (PCTPA)</th>\n",
       "      <td>17878421.0</td>\n",
       "      <td>378520.00</td>\n",
       "    </tr>\n",
       "    <tr>\n",
       "      <th>Plumas County Transportation Commission</th>\n",
       "      <td>1079183.0</td>\n",
       "      <td>292543.00</td>\n",
       "    </tr>\n",
       "    <tr>\n",
       "      <th>RCTC</th>\n",
       "      <td>138210990.0</td>\n",
       "      <td>0.00</td>\n",
       "    </tr>\n",
       "    <tr>\n",
       "      <th>SLOCOG</th>\n",
       "      <td>15967100.0</td>\n",
       "      <td>0.00</td>\n",
       "    </tr>\n",
       "    <tr>\n",
       "      <th>San Benito Council of Governments</th>\n",
       "      <td>2676992.0</td>\n",
       "      <td>1280082.00</td>\n",
       "    </tr>\n",
       "    <tr>\n",
       "      <th>San Diego Metropolitan Transit System</th>\n",
       "      <td>43265263.0</td>\n",
       "      <td>28200000.00</td>\n",
       "    </tr>\n",
       "    <tr>\n",
       "      <th>Shasta Regional Transportation Agency</th>\n",
       "      <td>2993316.0</td>\n",
       "      <td>895000.00</td>\n",
       "    </tr>\n",
       "    <tr>\n",
       "      <th>Sierra County Transportation Commission</th>\n",
       "      <td>17533.0</td>\n",
       "      <td>463183.00</td>\n",
       "    </tr>\n",
       "    <tr>\n",
       "      <th>Tehama County Transportation Commission</th>\n",
       "      <td>3934821.0</td>\n",
       "      <td>0.00</td>\n",
       "    </tr>\n",
       "    <tr>\n",
       "      <th>Tuolumne County Transportation Council</th>\n",
       "      <td>418366.0</td>\n",
       "      <td>485202.18</td>\n",
       "    </tr>\n",
       "    <tr>\n",
       "      <th>Grand Total</th>\n",
       "      <td>418366.0</td>\n",
       "      <td>45345.16</td>\n",
       "    </tr>\n",
       "  </tbody>\n",
       "</table>\n",
       "</div>"
      ],
      "text/plain": [
       "                                                    capital_FY23-24  \\\n",
       "rtpa                                                                  \n",
       "Alpine County Transportation Commission                    367381.0   \n",
       "Amador County Transportation Commission                    100000.0   \n",
       "Calaveras County Council of Goverments                    2815143.0   \n",
       "DNLTC                                                     1825253.0   \n",
       "El Dorado County Transportation Commission                9849627.0   \n",
       "Humboldt County Association of Governments                      0.0   \n",
       "Kings County Association of Governments                   8709876.0   \n",
       "Lake County/City Council of Governments                   4077103.0   \n",
       "Los Angeles County Metropolitan Transportation ...      618145878.0   \n",
       "Madera County Transportation Commission                   8254231.0   \n",
       "Mariposa County Local Transportation Commission            200000.0   \n",
       "Mendocino Council of Governments                          5353525.0   \n",
       "Merced County Association of Governments (MCAG)          14039873.0   \n",
       "NCTC                                                      2287907.0   \n",
       "Placer County Transportation Planning Agency (P...       17878421.0   \n",
       "Plumas County Transportation Commission                   1079183.0   \n",
       "RCTC                                                    138210990.0   \n",
       "SLOCOG                                                   15967100.0   \n",
       "San Benito Council of Governments                         2676992.0   \n",
       "San Diego Metropolitan Transit System                    43265263.0   \n",
       "Shasta Regional Transportation Agency                     2993316.0   \n",
       "Sierra County Transportation Commission                     17533.0   \n",
       "Tehama County Transportation Commission                   3934821.0   \n",
       "Tuolumne County Transportation Council                     418366.0   \n",
       "Grand Total                                                418366.0   \n",
       "\n",
       "                                                    operating_FY23-24  \n",
       "rtpa                                                                   \n",
       "Alpine County Transportation Commission                          0.00  \n",
       "Amador County Transportation Commission                          0.00  \n",
       "Calaveras County Council of Goverments                           0.00  \n",
       "DNLTC                                                            0.00  \n",
       "El Dorado County Transportation Commission                  208011.00  \n",
       "Humboldt County Association of Governments                 1952069.06  \n",
       "Kings County Association of Governments                     100000.00  \n",
       "Lake County/City Council of Governments                          0.00  \n",
       "Los Angeles County Metropolitan Transportation ...               0.00  \n",
       "Madera County Transportation Commission                     188112.00  \n",
       "Mariposa County Local Transportation Commission                  0.00  \n",
       "Mendocino Council of Governments                                 0.00  \n",
       "Merced County Association of Governments (MCAG)            3588470.00  \n",
       "NCTC                                                        123336.00  \n",
       "Placer County Transportation Planning Agency (P...          378520.00  \n",
       "Plumas County Transportation Commission                     292543.00  \n",
       "RCTC                                                             0.00  \n",
       "SLOCOG                                                           0.00  \n",
       "San Benito Council of Governments                          1280082.00  \n",
       "San Diego Metropolitan Transit System                     28200000.00  \n",
       "Shasta Regional Transportation Agency                       895000.00  \n",
       "Sierra County Transportation Commission                     463183.00  \n",
       "Tehama County Transportation Commission                          0.00  \n",
       "Tuolumne County Transportation Council                      485202.18  \n",
       "Grand Total                                                  45345.16  "
      ]
     },
     "execution_count": 25,
     "metadata": {},
     "output_type": "execute_result"
    }
   ],
   "source": [
    "all_fund_request.pivot_table(\n",
    "    values = [\"capital_FY23-24\", \"operating_FY23-24\"],\n",
    "    #columns= [\"capital_FY23-24\", \"operating_FY23-24\"],\n",
    "    index = \"rtpa\",\n",
    "    aggfunc = \"sum\",\n",
    "    margins = True,\n",
    "    margins_name = \"Grand Total\"\n",
    ")"
   ]
  },
  {
   "cell_type": "markdown",
   "id": "0f9d5ebb-d41d-419c-8908-dc795bda7b6e",
   "metadata": {},
   "source": [
    "# TEST of Melting the dataframe"
   ]
  },
  {
   "cell_type": "code",
   "execution_count": 26,
   "id": "be7d2552-be4f-491f-b3e7-fb12e78130a7",
   "metadata": {},
   "outputs": [],
   "source": [
    "id_vars= [\n",
    "    'rtpa',\n",
    " 'implementing agenc-y/-ies',\n",
    " 'project',\n",
    " 'fund source',\n",
    "]\n",
    "val_vars = [\n",
    "    'capital_FY23-24',\n",
    " 'capital_FY24-25',\n",
    " 'capital_FY25-26',\n",
    " 'capital_FY26-27',\n",
    " 'operating_FY23-24',\n",
    " 'operating_FY24-25',\n",
    " 'operating_FY25-26',\n",
    " 'operating_FY26-27'\n",
    "]\n",
    "\n",
    "melt = all_fund_request.melt(\n",
    "    id_vars = id_vars,\n",
    "    value_vars = val_vars,\n",
    "    var_name = \"capital/operation fy\",\n",
    "    value_name = \"fund amount\",\n",
    "    ignore_index = True)"
   ]
  },
  {
   "cell_type": "code",
   "execution_count": 27,
   "id": "29d71849-601d-4d21-a2f0-8ca414406a17",
   "metadata": {},
   "outputs": [
    {
     "data": {
      "text/plain": [
       "pandas.core.frame.DataFrame"
      ]
     },
     "metadata": {},
     "output_type": "display_data"
    },
    {
     "data": {
      "text/plain": [
       "(1376, 6)"
      ]
     },
     "metadata": {},
     "output_type": "display_data"
    },
    {
     "data": {
      "text/plain": [
       "rtpa                         object\n",
       "implementing agenc-y/-ies    object\n",
       "project                      object\n",
       "fund source                  object\n",
       "capital/operation fy         object\n",
       "fund amount                  object\n",
       "dtype: object"
      ]
     },
     "metadata": {},
     "output_type": "display_data"
    },
    {
     "data": {
      "text/html": [
       "<div>\n",
       "<style scoped>\n",
       "    .dataframe tbody tr th:only-of-type {\n",
       "        vertical-align: middle;\n",
       "    }\n",
       "\n",
       "    .dataframe tbody tr th {\n",
       "        vertical-align: top;\n",
       "    }\n",
       "\n",
       "    .dataframe thead th {\n",
       "        text-align: right;\n",
       "    }\n",
       "</style>\n",
       "<table border=\"1\" class=\"dataframe\">\n",
       "  <thead>\n",
       "    <tr style=\"text-align: right;\">\n",
       "      <th></th>\n",
       "      <th>rtpa</th>\n",
       "      <th>implementing agenc-y/-ies</th>\n",
       "      <th>project</th>\n",
       "      <th>fund source</th>\n",
       "      <th>capital/operation fy</th>\n",
       "      <th>fund amount</th>\n",
       "    </tr>\n",
       "  </thead>\n",
       "  <tbody>\n",
       "    <tr>\n",
       "      <th>0</th>\n",
       "      <td>Alpine County Transportation Commission</td>\n",
       "      <td>Alpine County Transportation Commission</td>\n",
       "      <td>Transit Facility Conversion Project</td>\n",
       "      <td>TIRCP</td>\n",
       "      <td>capital_FY23-24</td>\n",
       "      <td>360641.0</td>\n",
       "    </tr>\n",
       "    <tr>\n",
       "      <th>1</th>\n",
       "      <td>Alpine County Transportation Commission</td>\n",
       "      <td>Alpine County Transportation Commission</td>\n",
       "      <td>Transit Facility Conversion Project</td>\n",
       "      <td>TIRCP</td>\n",
       "      <td>capital_FY23-24</td>\n",
       "      <td>NaN</td>\n",
       "    </tr>\n",
       "    <tr>\n",
       "      <th>2</th>\n",
       "      <td>Alpine County Transportation Commission</td>\n",
       "      <td>Alpine County Transportation Commission</td>\n",
       "      <td>Transit Facility Conversion Project</td>\n",
       "      <td>ZETCP (GGRF)</td>\n",
       "      <td>capital_FY23-24</td>\n",
       "      <td>3616.684</td>\n",
       "    </tr>\n",
       "    <tr>\n",
       "      <th>3</th>\n",
       "      <td>Alpine County Transportation Commission</td>\n",
       "      <td>Alpine County Transportation Commission</td>\n",
       "      <td>Transit Facility Conversion Project</td>\n",
       "      <td>ZETCP (PTA)</td>\n",
       "      <td>capital_FY23-24</td>\n",
       "      <td>3123.316</td>\n",
       "    </tr>\n",
       "    <tr>\n",
       "      <th>4</th>\n",
       "      <td>Amador County Transportation Commission</td>\n",
       "      <td>Amador Transit</td>\n",
       "      <td>NaN</td>\n",
       "      <td>TIRCP</td>\n",
       "      <td>capital_FY23-24</td>\n",
       "      <td>100000.0</td>\n",
       "    </tr>\n",
       "  </tbody>\n",
       "</table>\n",
       "</div>"
      ],
      "text/plain": [
       "                                      rtpa  \\\n",
       "0  Alpine County Transportation Commission   \n",
       "1  Alpine County Transportation Commission   \n",
       "2  Alpine County Transportation Commission   \n",
       "3  Alpine County Transportation Commission   \n",
       "4  Amador County Transportation Commission   \n",
       "\n",
       "                 implementing agenc-y/-ies  \\\n",
       "0  Alpine County Transportation Commission   \n",
       "1  Alpine County Transportation Commission   \n",
       "2  Alpine County Transportation Commission   \n",
       "3  Alpine County Transportation Commission   \n",
       "4                           Amador Transit   \n",
       "\n",
       "                               project   fund source capital/operation fy  \\\n",
       "0  Transit Facility Conversion Project         TIRCP      capital_FY23-24   \n",
       "1  Transit Facility Conversion Project         TIRCP      capital_FY23-24   \n",
       "2  Transit Facility Conversion Project  ZETCP (GGRF)      capital_FY23-24   \n",
       "3  Transit Facility Conversion Project   ZETCP (PTA)      capital_FY23-24   \n",
       "4                                  NaN         TIRCP      capital_FY23-24   \n",
       "\n",
       "  fund amount  \n",
       "0    360641.0  \n",
       "1         NaN  \n",
       "2    3616.684  \n",
       "3    3123.316  \n",
       "4    100000.0  "
      ]
     },
     "metadata": {},
     "output_type": "display_data"
    }
   ],
   "source": [
    "display(\n",
    "    type(melt),\n",
    "    melt.shape,\n",
    "    melt.dtypes,\n",
    "    melt.head()\n",
    ")"
   ]
  },
  {
   "cell_type": "code",
   "execution_count": 28,
   "id": "65ddabcb-96c9-4d5c-a93f-18b7417e7c34",
   "metadata": {},
   "outputs": [],
   "source": [
    "# splitting the cap/operations columns\n",
    "\n",
    "melt[[\"project type\", \"fiscal year\"]] = melt[\"capital/operation fy\"].str.split('_FY', expand = True)"
   ]
  },
  {
   "cell_type": "code",
   "execution_count": 29,
   "id": "b6736905-f09d-4e93-a246-0e4d8ce89d56",
   "metadata": {},
   "outputs": [],
   "source": [
    "# updates the `-` string to zero.\n",
    "melt.loc[(melt[\"rtpa\"] == \"Humboldt County Association of Governments\") & (melt[\"fund amount\"] == \"-\"),\"fund amount\"] = 0"
   ]
  },
  {
   "cell_type": "code",
   "execution_count": 30,
   "id": "a6b36880-f563-4af3-96e7-bdcf41b2947e",
   "metadata": {
    "tags": []
   },
   "outputs": [
    {
     "data": {
      "text/plain": [
       "1021"
      ]
     },
     "execution_count": 30,
     "metadata": {},
     "output_type": "execute_result"
    }
   ],
   "source": [
    "# check for NaNs\n",
    "melt[\"fund amount\"].isna().sum()"
   ]
  },
  {
   "cell_type": "code",
   "execution_count": 31,
   "id": "55d63390-66dd-4a38-8aab-7e860c5ea528",
   "metadata": {},
   "outputs": [],
   "source": [
    "melt[\"fund amount\"] = melt[\"fund amount\"].fillna(0).astype(\"int64\")\n",
    "melt[\"fund source\"] = melt[\"fund source\"].astype(\"str\")"
   ]
  },
  {
   "cell_type": "code",
   "execution_count": 32,
   "id": "dd63bf3d-6c42-4504-b033-c82e174adc67",
   "metadata": {
    "tags": []
   },
   "outputs": [
    {
     "data": {
      "text/plain": [
       "0"
      ]
     },
     "execution_count": 32,
     "metadata": {},
     "output_type": "execute_result"
    }
   ],
   "source": [
    "# ensure no more NaNs\n",
    "melt[\"fund amount\"].isna().sum()"
   ]
  },
  {
   "cell_type": "code",
   "execution_count": 45,
   "id": "c5c36f15-d0ad-481c-909e-fcfdb692beb8",
   "metadata": {},
   "outputs": [
    {
     "data": {
      "text/plain": [
       "Index(['rtpa', 'implementing agenc-y/-ies', 'project', 'fund source',\n",
       "       'capital/operation fy', 'fund amount', 'project type', 'fiscal year'],\n",
       "      dtype='object')"
      ]
     },
     "metadata": {},
     "output_type": "display_data"
    },
    {
     "data": {
      "text/html": [
       "<div>\n",
       "<style scoped>\n",
       "    .dataframe tbody tr th:only-of-type {\n",
       "        vertical-align: middle;\n",
       "    }\n",
       "\n",
       "    .dataframe tbody tr th {\n",
       "        vertical-align: top;\n",
       "    }\n",
       "\n",
       "    .dataframe thead th {\n",
       "        text-align: right;\n",
       "    }\n",
       "</style>\n",
       "<table border=\"1\" class=\"dataframe\">\n",
       "  <thead>\n",
       "    <tr style=\"text-align: right;\">\n",
       "      <th></th>\n",
       "      <th>rtpa</th>\n",
       "      <th>implementing agenc-y/-ies</th>\n",
       "      <th>project</th>\n",
       "      <th>fund source</th>\n",
       "      <th>capital/operation fy</th>\n",
       "      <th>fund amount</th>\n",
       "      <th>project type</th>\n",
       "      <th>fiscal year</th>\n",
       "    </tr>\n",
       "  </thead>\n",
       "  <tbody>\n",
       "    <tr>\n",
       "      <th>966</th>\n",
       "      <td>RCTC</td>\n",
       "      <td>Cities of Banning and Beaumont, County of Rive...</td>\n",
       "      <td>Passenger Rail Project Development</td>\n",
       "      <td>TIRCP</td>\n",
       "      <td>operating_FY24-25</td>\n",
       "      <td>0</td>\n",
       "      <td>operating</td>\n",
       "      <td>24-25</td>\n",
       "    </tr>\n",
       "    <tr>\n",
       "      <th>51</th>\n",
       "      <td>Mariposa County Local Transportation Commission</td>\n",
       "      <td>Yes</td>\n",
       "      <td>Mariposa County Zero Emission Transit Yard</td>\n",
       "      <td>TIRCP</td>\n",
       "      <td>capital_FY23-24</td>\n",
       "      <td>108201</td>\n",
       "      <td>capital</td>\n",
       "      <td>23-24</td>\n",
       "    </tr>\n",
       "    <tr>\n",
       "      <th>567</th>\n",
       "      <td>Mariposa County Local Transportation Commission</td>\n",
       "      <td>Yes</td>\n",
       "      <td>Mariposa County Zero Emission Transit Yard</td>\n",
       "      <td>TIRCP</td>\n",
       "      <td>capital_FY26-27</td>\n",
       "      <td>0</td>\n",
       "      <td>capital</td>\n",
       "      <td>26-27</td>\n",
       "    </tr>\n",
       "  </tbody>\n",
       "</table>\n",
       "</div>"
      ],
      "text/plain": [
       "                                                rtpa  \\\n",
       "966                                             RCTC   \n",
       "51   Mariposa County Local Transportation Commission   \n",
       "567  Mariposa County Local Transportation Commission   \n",
       "\n",
       "                             implementing agenc-y/-ies  \\\n",
       "966  Cities of Banning and Beaumont, County of Rive...   \n",
       "51                                                 Yes   \n",
       "567                                                Yes   \n",
       "\n",
       "                                        project fund source  \\\n",
       "966          Passenger Rail Project Development       TIRCP   \n",
       "51   Mariposa County Zero Emission Transit Yard       TIRCP   \n",
       "567  Mariposa County Zero Emission Transit Yard       TIRCP   \n",
       "\n",
       "    capital/operation fy  fund amount project type fiscal year  \n",
       "966    operating_FY24-25            0    operating       24-25  \n",
       "51       capital_FY23-24       108201      capital       23-24  \n",
       "567      capital_FY26-27            0      capital       26-27  "
      ]
     },
     "metadata": {},
     "output_type": "display_data"
    }
   ],
   "source": [
    "display(\n",
    "    melt.columns,\n",
    "    melt.sample(3)\n",
    ")"
   ]
  },
  {
   "cell_type": "code",
   "execution_count": 34,
   "id": "22af8755-80c2-4213-8f1f-819ccbc51113",
   "metadata": {},
   "outputs": [
    {
     "data": {
      "text/plain": [
       "array([   360641,         0,      3616,      3123,    100000,   2576611,\n",
       "          238532,    500000,   1175501,     69395,     80357,   9085857,\n",
       "          242312,    521458,   6849293,    329561,    295818,   1133408,\n",
       "          101796, 498650905, 119494973,   3706510,     87574,    198860,\n",
       "           84159,   8254231,    108201,     42539,     49259,   4848229,\n",
       "          123518,    271142,    110636,    104561,    696393,    722403,\n",
       "          836515,   1000000,   2080000,   6400000,    200000,    370000,\n",
       "         1486685,    297576,    133646,  10000000,    400000,     92109,\n",
       "          501942,   1019544,   3354086,   2510740,    614200,    250000,\n",
       "          100520,     61421,     53042,  63382700,   4003053,   7956643,\n",
       "         2868594,  60000000,   2328990,    348002,  10126000,   5434000,\n",
       "         1705263,  26000000,    943316,   2050000,      9408,      8124,\n",
       "          124000,    280000,    395000,   1778000,   1400000,   4000000,\n",
       "          387000,    375000,    600000,    422000,   1553000,   1787000,\n",
       "         2000000,    166100,     81151,    300000,   3287498,     79798,\n",
       "          186373,    218366,    360794,      3781,     75000,   2582360,\n",
       "          133811,   1556248,    122726,     84007,    398955,    436080,\n",
       "         5629856,     65070,   1136162, 299349095, 200560082,  55869027,\n",
       "         3745769,   1440000,    895350,    671000,   1023503,     51497,\n",
       "          104562,   1070173,    874515,    800000,   3530970,    120000,\n",
       "         4100000,    311093,    507891,   1610740,  13162598,   1065857,\n",
       "         1116250,     64211,   2337345,    195221,   9685392,    109354,\n",
       "          505726,      9836,    260684,    130000,    750000,   3275000,\n",
       "          877000,    550000,    163000,   1947000,   2611000,   3595798,\n",
       "          194840,    955441,    208000,   1193263,   1500000,   4842696,\n",
       "         1238400,    504181,   1315761,    699239,    139725,    902800,\n",
       "          496423,    843000,    208011,    772834,    342326,    391693,\n",
       "          204188,     51028,    150000,     40000,    188112,   2188470,\n",
       "          123336,    378520,    292543,    239281,     40801,   5000000,\n",
       "         8700000,   6000000,   7000000,    595000,     50000,     63017,\n",
       "          375165,     25000,    439857,     34955,     10389,   1910431,\n",
       "          432746,    413152,     30084,    862060,   2200000,   1200000,\n",
       "         1259680,   3500000,  11000000,  12000000,   2075000,     51500,\n",
       "          202910,    704157,    140378,      2091,   2971955,    291131,\n",
       "        13418000,     53045,    147471,   7415199,    432747,  70712166,\n",
       "           60803,    704224,    155639])"
      ]
     },
     "execution_count": 34,
     "metadata": {},
     "output_type": "execute_result"
    }
   ],
   "source": [
    "# checking fund amounts for any non-int values \n",
    "melt[\"fund amount\"].unique()"
   ]
  },
  {
   "cell_type": "code",
   "execution_count": 35,
   "id": "1be6fe7a-729b-4df3-bd2b-345b951a3ddf",
   "metadata": {},
   "outputs": [
    {
     "data": {
      "text/plain": [
       "rtpa                         object\n",
       "implementing agenc-y/-ies    object\n",
       "project                      object\n",
       "fund source                  object\n",
       "capital/operation fy         object\n",
       "fund amount                   int64\n",
       "project type                 object\n",
       "fiscal year                  object\n",
       "dtype: object"
      ]
     },
     "metadata": {},
     "output_type": "display_data"
    },
    {
     "data": {
      "text/plain": [
       "TIRCP           784\n",
       "ZETCP (GGRF)    248\n",
       "ZETCP (PTA)     248\n",
       "ZETCP            40\n",
       "CMAQ             16\n",
       "Measure V         8\n",
       "5339              8\n",
       "SGR               8\n",
       "Farebox           8\n",
       "5307              8\n",
       "Name: fund source, dtype: int64"
      ]
     },
     "metadata": {},
     "output_type": "display_data"
    }
   ],
   "source": [
    "display(\n",
    "    melt.dtypes,\n",
    "    melt[\"fund source\"].value_counts()\n",
    ")"
   ]
  },
  {
   "cell_type": "markdown",
   "id": "7e6fc118-6ad7-4832-9c03-f32e18ce4cfe",
   "metadata": {},
   "source": [
    "# Draft Aggregations"
   ]
  },
  {
   "cell_type": "code",
   "execution_count": 36,
   "id": "28ffc2ba-9d8e-4c5d-8be5-30e718906099",
   "metadata": {},
   "outputs": [],
   "source": [
    "def make_bar(data, x_axis, y_axis):\n",
    "    chart = alt.Chart(data).mark_bar().encode(\n",
    "        x = x_axis,\n",
    "        y = y_axis,\n",
    "    )\n",
    "    return chart"
   ]
  },
  {
   "cell_type": "code",
   "execution_count": 42,
   "id": "a4f528b2-4de2-4835-8620-14a528e68a9a",
   "metadata": {},
   "outputs": [
    {
     "data": {
      "text/html": [
       "\n",
       "<style>\n",
       "  #altair-viz-31bb69a1cee648a6b4ba44399123e3ed.vega-embed {\n",
       "    width: 100%;\n",
       "    display: flex;\n",
       "  }\n",
       "\n",
       "  #altair-viz-31bb69a1cee648a6b4ba44399123e3ed.vega-embed details,\n",
       "  #altair-viz-31bb69a1cee648a6b4ba44399123e3ed.vega-embed details summary {\n",
       "    position: relative;\n",
       "  }\n",
       "</style>\n",
       "<div id=\"altair-viz-31bb69a1cee648a6b4ba44399123e3ed\"></div>\n",
       "<script type=\"text/javascript\">\n",
       "  var VEGA_DEBUG = (typeof VEGA_DEBUG == \"undefined\") ? {} : VEGA_DEBUG;\n",
       "  (function(spec, embedOpt){\n",
       "    let outputDiv = document.currentScript.previousElementSibling;\n",
       "    if (outputDiv.id !== \"altair-viz-31bb69a1cee648a6b4ba44399123e3ed\") {\n",
       "      outputDiv = document.getElementById(\"altair-viz-31bb69a1cee648a6b4ba44399123e3ed\");\n",
       "    }\n",
       "    const paths = {\n",
       "      \"vega\": \"https://cdn.jsdelivr.net/npm/vega@5?noext\",\n",
       "      \"vega-lib\": \"https://cdn.jsdelivr.net/npm/vega-lib?noext\",\n",
       "      \"vega-lite\": \"https://cdn.jsdelivr.net/npm/vega-lite@5.17.0?noext\",\n",
       "      \"vega-embed\": \"https://cdn.jsdelivr.net/npm/vega-embed@6?noext\",\n",
       "    };\n",
       "\n",
       "    function maybeLoadScript(lib, version) {\n",
       "      var key = `${lib.replace(\"-\", \"\")}_version`;\n",
       "      return (VEGA_DEBUG[key] == version) ?\n",
       "        Promise.resolve(paths[lib]) :\n",
       "        new Promise(function(resolve, reject) {\n",
       "          var s = document.createElement('script');\n",
       "          document.getElementsByTagName(\"head\")[0].appendChild(s);\n",
       "          s.async = true;\n",
       "          s.onload = () => {\n",
       "            VEGA_DEBUG[key] = version;\n",
       "            return resolve(paths[lib]);\n",
       "          };\n",
       "          s.onerror = () => reject(`Error loading script: ${paths[lib]}`);\n",
       "          s.src = paths[lib];\n",
       "        });\n",
       "    }\n",
       "\n",
       "    function showError(err) {\n",
       "      outputDiv.innerHTML = `<div class=\"error\" style=\"color:red;\">${err}</div>`;\n",
       "      throw err;\n",
       "    }\n",
       "\n",
       "    function displayChart(vegaEmbed) {\n",
       "      vegaEmbed(outputDiv, spec, embedOpt)\n",
       "        .catch(err => showError(`Javascript Error: ${err.message}<br>This usually means there's a typo in your chart specification. See the javascript console for the full traceback.`));\n",
       "    }\n",
       "\n",
       "    if(typeof define === \"function\" && define.amd) {\n",
       "      requirejs.config({paths});\n",
       "      require([\"vega-embed\"], displayChart, err => showError(`Error loading script: ${err.message}`));\n",
       "    } else {\n",
       "      maybeLoadScript(\"vega\", \"5\")\n",
       "        .then(() => maybeLoadScript(\"vega-lite\", \"5.17.0\"))\n",
       "        .then(() => maybeLoadScript(\"vega-embed\", \"6\"))\n",
       "        .catch(showError)\n",
       "        .then(() => displayChart(vegaEmbed));\n",
       "    }\n",
       "  })({\"config\": {\"view\": {\"continuousWidth\": 300, \"continuousHeight\": 300}}, \"data\": {\"name\": \"data-d6425e06dad235872a6f6e95ced89263\"}, \"mark\": {\"type\": \"bar\"}, \"encoding\": {\"x\": {\"field\": \"fund amount\", \"type\": \"quantitative\"}, \"y\": {\"field\": \"project type\", \"type\": \"nominal\"}}, \"$schema\": \"https://vega.github.io/schema/vega-lite/v5.17.0.json\", \"datasets\": {\"data-d6425e06dad235872a6f6e95ced89263\": [{\"project type\": \"capital\", \"fund amount\": 1581375207}, {\"project type\": \"operating\", \"fund amount\": 254127295}]}}, {\"mode\": \"vega-lite\"});\n",
       "</script>"
      ],
      "text/plain": [
       "alt.Chart(...)"
      ]
     },
     "execution_count": 42,
     "metadata": {},
     "output_type": "execute_result"
    }
   ],
   "source": [
    "by_type = melt.groupby([\"project type\"]).agg({\n",
    "    \"fund amount\": \"sum\",\n",
    "}).reset_index()\n",
    "\n",
    "make_bar(by_type, y_axis = \"project type\", x_axis = \"fund amount\")"
   ]
  },
  {
   "cell_type": "code",
   "execution_count": 41,
   "id": "b7ce8b24-f16e-4045-9f83-347442b16cd1",
   "metadata": {},
   "outputs": [
    {
     "data": {
      "text/html": [
       "\n",
       "<style>\n",
       "  #altair-viz-6b1f49a00eaf46bfa847664b2f1f8b54.vega-embed {\n",
       "    width: 100%;\n",
       "    display: flex;\n",
       "  }\n",
       "\n",
       "  #altair-viz-6b1f49a00eaf46bfa847664b2f1f8b54.vega-embed details,\n",
       "  #altair-viz-6b1f49a00eaf46bfa847664b2f1f8b54.vega-embed details summary {\n",
       "    position: relative;\n",
       "  }\n",
       "</style>\n",
       "<div id=\"altair-viz-6b1f49a00eaf46bfa847664b2f1f8b54\"></div>\n",
       "<script type=\"text/javascript\">\n",
       "  var VEGA_DEBUG = (typeof VEGA_DEBUG == \"undefined\") ? {} : VEGA_DEBUG;\n",
       "  (function(spec, embedOpt){\n",
       "    let outputDiv = document.currentScript.previousElementSibling;\n",
       "    if (outputDiv.id !== \"altair-viz-6b1f49a00eaf46bfa847664b2f1f8b54\") {\n",
       "      outputDiv = document.getElementById(\"altair-viz-6b1f49a00eaf46bfa847664b2f1f8b54\");\n",
       "    }\n",
       "    const paths = {\n",
       "      \"vega\": \"https://cdn.jsdelivr.net/npm/vega@5?noext\",\n",
       "      \"vega-lib\": \"https://cdn.jsdelivr.net/npm/vega-lib?noext\",\n",
       "      \"vega-lite\": \"https://cdn.jsdelivr.net/npm/vega-lite@5.17.0?noext\",\n",
       "      \"vega-embed\": \"https://cdn.jsdelivr.net/npm/vega-embed@6?noext\",\n",
       "    };\n",
       "\n",
       "    function maybeLoadScript(lib, version) {\n",
       "      var key = `${lib.replace(\"-\", \"\")}_version`;\n",
       "      return (VEGA_DEBUG[key] == version) ?\n",
       "        Promise.resolve(paths[lib]) :\n",
       "        new Promise(function(resolve, reject) {\n",
       "          var s = document.createElement('script');\n",
       "          document.getElementsByTagName(\"head\")[0].appendChild(s);\n",
       "          s.async = true;\n",
       "          s.onload = () => {\n",
       "            VEGA_DEBUG[key] = version;\n",
       "            return resolve(paths[lib]);\n",
       "          };\n",
       "          s.onerror = () => reject(`Error loading script: ${paths[lib]}`);\n",
       "          s.src = paths[lib];\n",
       "        });\n",
       "    }\n",
       "\n",
       "    function showError(err) {\n",
       "      outputDiv.innerHTML = `<div class=\"error\" style=\"color:red;\">${err}</div>`;\n",
       "      throw err;\n",
       "    }\n",
       "\n",
       "    function displayChart(vegaEmbed) {\n",
       "      vegaEmbed(outputDiv, spec, embedOpt)\n",
       "        .catch(err => showError(`Javascript Error: ${err.message}<br>This usually means there's a typo in your chart specification. See the javascript console for the full traceback.`));\n",
       "    }\n",
       "\n",
       "    if(typeof define === \"function\" && define.amd) {\n",
       "      requirejs.config({paths});\n",
       "      require([\"vega-embed\"], displayChart, err => showError(`Error loading script: ${err.message}`));\n",
       "    } else {\n",
       "      maybeLoadScript(\"vega\", \"5\")\n",
       "        .then(() => maybeLoadScript(\"vega-lite\", \"5.17.0\"))\n",
       "        .then(() => maybeLoadScript(\"vega-embed\", \"6\"))\n",
       "        .catch(showError)\n",
       "        .then(() => displayChart(vegaEmbed));\n",
       "    }\n",
       "  })({\"config\": {\"view\": {\"continuousWidth\": 300, \"continuousHeight\": 300}}, \"data\": {\"name\": \"data-abf9898fb8d4a338400be3ace86bf54c\"}, \"mark\": {\"type\": \"bar\"}, \"encoding\": {\"x\": {\"field\": \"fund amount\", \"type\": \"quantitative\"}, \"y\": {\"field\": \"fiscal year\", \"type\": \"nominal\"}}, \"$schema\": \"https://vega.github.io/schema/vega-lite/v5.17.0.json\", \"datasets\": {\"data-abf9898fb8d4a338400be3ace86bf54c\": [{\"fiscal year\": \"23-24\", \"project type\": \"capital\", \"fund amount\": 902467777}, {\"fiscal year\": \"23-24\", \"project type\": \"operating\", \"fund amount\": 38154526}, {\"fiscal year\": \"24-25\", \"project type\": \"capital\", \"fund amount\": 640693770}, {\"fiscal year\": \"24-25\", \"project type\": \"operating\", \"fund amount\": 47629226}, {\"fiscal year\": \"25-26\", \"project type\": \"capital\", \"fund amount\": 19826278}, {\"fiscal year\": \"25-26\", \"project type\": \"operating\", \"fund amount\": 53440635}, {\"fiscal year\": \"26-27\", \"project type\": \"capital\", \"fund amount\": 18387382}, {\"fiscal year\": \"26-27\", \"project type\": \"operating\", \"fund amount\": 114902908}]}}, {\"mode\": \"vega-lite\"});\n",
       "</script>"
      ],
      "text/plain": [
       "alt.Chart(...)"
      ]
     },
     "execution_count": 41,
     "metadata": {},
     "output_type": "execute_result"
    }
   ],
   "source": [
    "by_year = melt.groupby([\"fiscal year\",\"project type\"]).agg({\n",
    "    \"fund amount\": \"sum\",\n",
    "}).reset_index()\n",
    "\n",
    "make_bar(by_year, y_axis = \"fiscal year\", x_axis = \"fund amount\",)"
   ]
  },
  {
   "cell_type": "code",
   "execution_count": 44,
   "id": "d6371a85-059d-4c5d-903f-5525ab9dd8df",
   "metadata": {},
   "outputs": [
    {
     "data": {
      "text/html": [
       "\n",
       "<style>\n",
       "  #altair-viz-da6b1397840046e8afbaf11d9a30bca9.vega-embed {\n",
       "    width: 100%;\n",
       "    display: flex;\n",
       "  }\n",
       "\n",
       "  #altair-viz-da6b1397840046e8afbaf11d9a30bca9.vega-embed details,\n",
       "  #altair-viz-da6b1397840046e8afbaf11d9a30bca9.vega-embed details summary {\n",
       "    position: relative;\n",
       "  }\n",
       "</style>\n",
       "<div id=\"altair-viz-da6b1397840046e8afbaf11d9a30bca9\"></div>\n",
       "<script type=\"text/javascript\">\n",
       "  var VEGA_DEBUG = (typeof VEGA_DEBUG == \"undefined\") ? {} : VEGA_DEBUG;\n",
       "  (function(spec, embedOpt){\n",
       "    let outputDiv = document.currentScript.previousElementSibling;\n",
       "    if (outputDiv.id !== \"altair-viz-da6b1397840046e8afbaf11d9a30bca9\") {\n",
       "      outputDiv = document.getElementById(\"altair-viz-da6b1397840046e8afbaf11d9a30bca9\");\n",
       "    }\n",
       "    const paths = {\n",
       "      \"vega\": \"https://cdn.jsdelivr.net/npm/vega@5?noext\",\n",
       "      \"vega-lib\": \"https://cdn.jsdelivr.net/npm/vega-lib?noext\",\n",
       "      \"vega-lite\": \"https://cdn.jsdelivr.net/npm/vega-lite@5.17.0?noext\",\n",
       "      \"vega-embed\": \"https://cdn.jsdelivr.net/npm/vega-embed@6?noext\",\n",
       "    };\n",
       "\n",
       "    function maybeLoadScript(lib, version) {\n",
       "      var key = `${lib.replace(\"-\", \"\")}_version`;\n",
       "      return (VEGA_DEBUG[key] == version) ?\n",
       "        Promise.resolve(paths[lib]) :\n",
       "        new Promise(function(resolve, reject) {\n",
       "          var s = document.createElement('script');\n",
       "          document.getElementsByTagName(\"head\")[0].appendChild(s);\n",
       "          s.async = true;\n",
       "          s.onload = () => {\n",
       "            VEGA_DEBUG[key] = version;\n",
       "            return resolve(paths[lib]);\n",
       "          };\n",
       "          s.onerror = () => reject(`Error loading script: ${paths[lib]}`);\n",
       "          s.src = paths[lib];\n",
       "        });\n",
       "    }\n",
       "\n",
       "    function showError(err) {\n",
       "      outputDiv.innerHTML = `<div class=\"error\" style=\"color:red;\">${err}</div>`;\n",
       "      throw err;\n",
       "    }\n",
       "\n",
       "    function displayChart(vegaEmbed) {\n",
       "      vegaEmbed(outputDiv, spec, embedOpt)\n",
       "        .catch(err => showError(`Javascript Error: ${err.message}<br>This usually means there's a typo in your chart specification. See the javascript console for the full traceback.`));\n",
       "    }\n",
       "\n",
       "    if(typeof define === \"function\" && define.amd) {\n",
       "      requirejs.config({paths});\n",
       "      require([\"vega-embed\"], displayChart, err => showError(`Error loading script: ${err.message}`));\n",
       "    } else {\n",
       "      maybeLoadScript(\"vega\", \"5\")\n",
       "        .then(() => maybeLoadScript(\"vega-lite\", \"5.17.0\"))\n",
       "        .then(() => maybeLoadScript(\"vega-embed\", \"6\"))\n",
       "        .catch(showError)\n",
       "        .then(() => displayChart(vegaEmbed));\n",
       "    }\n",
       "  })({\"config\": {\"view\": {\"continuousWidth\": 300, \"continuousHeight\": 300}}, \"data\": {\"name\": \"data-d8afff0ccf24bcfc689847ffb7ab57b2\"}, \"mark\": {\"type\": \"bar\"}, \"encoding\": {\"x\": {\"field\": \"fund amount\", \"type\": \"quantitative\"}, \"y\": {\"field\": \"fund source\", \"type\": \"nominal\"}}, \"$schema\": \"https://vega.github.io/schema/vega-lite/v5.17.0.json\", \"datasets\": {\"data-d8afff0ccf24bcfc689847ffb7ab57b2\": [{\"fund source\": \"5307\", \"fund amount\": 400000, \"rtpa\": 1}, {\"fund source\": \"5339\", \"fund amount\": 600000, \"rtpa\": 1}, {\"fund source\": \"CMAQ\", \"fund amount\": 2300000, \"rtpa\": 1}, {\"fund source\": \"Farebox\", \"fund amount\": 400000, \"rtpa\": 1}, {\"fund source\": \"Measure V\", \"fund amount\": 500000, \"rtpa\": 1}, {\"fund source\": \"SGR\", \"fund amount\": 620000, \"rtpa\": 1}, {\"fund source\": \"TIRCP\", \"fund amount\": 1564557904, \"rtpa\": 24}, {\"fund source\": \"ZETCP\", \"fund amount\": 47255104, \"rtpa\": 2}, {\"fund source\": \"ZETCP (GGRF)\", \"fund amount\": 205870265, \"rtpa\": 21}, {\"fund source\": \"ZETCP (PTA)\", \"fund amount\": 12999229, \"rtpa\": 18}]}}, {\"mode\": \"vega-lite\"});\n",
       "</script>"
      ],
      "text/plain": [
       "alt.Chart(...)"
      ]
     },
     "execution_count": 44,
     "metadata": {},
     "output_type": "execute_result"
    }
   ],
   "source": [
    "by_source = melt.groupby([\"fund source\"]).agg({\n",
    "    \"fund amount\": \"sum\",\n",
    "        \"rtpa\": \"nunique\"\n",
    "}).reset_index()\n",
    "\n",
    "make_bar(by_source, y_axis = \"fund source\", x_axis = \"fund amount\")"
   ]
  },
  {
   "cell_type": "code",
   "execution_count": 40,
   "id": "7807c175-4728-4614-a4f6-95ffe6460e29",
   "metadata": {},
   "outputs": [
    {
     "data": {
      "text/html": [
       "\n",
       "<style>\n",
       "  #altair-viz-b294de5d79544194bd4592cf492472e9.vega-embed {\n",
       "    width: 100%;\n",
       "    display: flex;\n",
       "  }\n",
       "\n",
       "  #altair-viz-b294de5d79544194bd4592cf492472e9.vega-embed details,\n",
       "  #altair-viz-b294de5d79544194bd4592cf492472e9.vega-embed details summary {\n",
       "    position: relative;\n",
       "  }\n",
       "</style>\n",
       "<div id=\"altair-viz-b294de5d79544194bd4592cf492472e9\"></div>\n",
       "<script type=\"text/javascript\">\n",
       "  var VEGA_DEBUG = (typeof VEGA_DEBUG == \"undefined\") ? {} : VEGA_DEBUG;\n",
       "  (function(spec, embedOpt){\n",
       "    let outputDiv = document.currentScript.previousElementSibling;\n",
       "    if (outputDiv.id !== \"altair-viz-b294de5d79544194bd4592cf492472e9\") {\n",
       "      outputDiv = document.getElementById(\"altair-viz-b294de5d79544194bd4592cf492472e9\");\n",
       "    }\n",
       "    const paths = {\n",
       "      \"vega\": \"https://cdn.jsdelivr.net/npm/vega@5?noext\",\n",
       "      \"vega-lib\": \"https://cdn.jsdelivr.net/npm/vega-lib?noext\",\n",
       "      \"vega-lite\": \"https://cdn.jsdelivr.net/npm/vega-lite@5.17.0?noext\",\n",
       "      \"vega-embed\": \"https://cdn.jsdelivr.net/npm/vega-embed@6?noext\",\n",
       "    };\n",
       "\n",
       "    function maybeLoadScript(lib, version) {\n",
       "      var key = `${lib.replace(\"-\", \"\")}_version`;\n",
       "      return (VEGA_DEBUG[key] == version) ?\n",
       "        Promise.resolve(paths[lib]) :\n",
       "        new Promise(function(resolve, reject) {\n",
       "          var s = document.createElement('script');\n",
       "          document.getElementsByTagName(\"head\")[0].appendChild(s);\n",
       "          s.async = true;\n",
       "          s.onload = () => {\n",
       "            VEGA_DEBUG[key] = version;\n",
       "            return resolve(paths[lib]);\n",
       "          };\n",
       "          s.onerror = () => reject(`Error loading script: ${paths[lib]}`);\n",
       "          s.src = paths[lib];\n",
       "        });\n",
       "    }\n",
       "\n",
       "    function showError(err) {\n",
       "      outputDiv.innerHTML = `<div class=\"error\" style=\"color:red;\">${err}</div>`;\n",
       "      throw err;\n",
       "    }\n",
       "\n",
       "    function displayChart(vegaEmbed) {\n",
       "      vegaEmbed(outputDiv, spec, embedOpt)\n",
       "        .catch(err => showError(`Javascript Error: ${err.message}<br>This usually means there's a typo in your chart specification. See the javascript console for the full traceback.`));\n",
       "    }\n",
       "\n",
       "    if(typeof define === \"function\" && define.amd) {\n",
       "      requirejs.config({paths});\n",
       "      require([\"vega-embed\"], displayChart, err => showError(`Error loading script: ${err.message}`));\n",
       "    } else {\n",
       "      maybeLoadScript(\"vega\", \"5\")\n",
       "        .then(() => maybeLoadScript(\"vega-lite\", \"5.17.0\"))\n",
       "        .then(() => maybeLoadScript(\"vega-embed\", \"6\"))\n",
       "        .catch(showError)\n",
       "        .then(() => displayChart(vegaEmbed));\n",
       "    }\n",
       "  })({\"config\": {\"view\": {\"continuousWidth\": 300, \"continuousHeight\": 300}}, \"data\": {\"name\": \"data-e9f3e5028f92c8836900c7cc5c226b47\"}, \"mark\": {\"type\": \"bar\"}, \"encoding\": {\"x\": {\"field\": \"rtpa\", \"type\": \"nominal\"}, \"y\": {\"field\": \"fund amount\", \"type\": \"quantitative\"}}, \"$schema\": \"https://vega.github.io/schema/vega-lite/v5.17.0.json\", \"datasets\": {\"data-e9f3e5028f92c8836900c7cc5c226b47\": [{\"rtpa\": \"Alpine County Transportation Commission\", \"fund amount\": 739517, \"project\": 1}, {\"rtpa\": \"Amador County Transportation Commission\", \"fund amount\": 175000, \"project\": 0}, {\"rtpa\": \"Calaveras County Council of Goverments\", \"fund amount\": 5798936, \"project\": 1}, {\"rtpa\": \"DNLTC\", \"fund amount\": 3756248, \"project\": 2}, {\"rtpa\": \"El Dorado County Transportation Commission\", \"fund amount\": 10057638, \"project\": 2}, {\"rtpa\": \"Humboldt County Association of Governments\", \"fund amount\": 16492428, \"project\": 3}, {\"rtpa\": \"Kings County Association of Governments\", \"fund amount\": 18204049, \"project\": 9}, {\"rtpa\": \"Lake County/City Council of Governments\", \"fund amount\": 4077103, \"project\": 2}, {\"rtpa\": \"Los Angeles County Metropolitan Transportation Authority\", \"fund amount\": 1173924082, \"project\": 3}, {\"rtpa\": \"Madera County Transportation Commission\", \"fund amount\": 18811247, \"project\": 5}, {\"rtpa\": \"Mariposa County Local Transportation Commission\", \"fund amount\": 2571256, \"project\": 1}, {\"rtpa\": \"Mendocino Council of Governments\", \"fund amount\": 5353525, \"project\": 2}, {\"rtpa\": \"Merced County Association of Governments (MCAG)\", \"fund amount\": 38377592, \"project\": 12}, {\"rtpa\": \"NCTC\", \"fund amount\": 2722336, \"project\": 3}, {\"rtpa\": \"Placer County Transportation Planning Agency (PCTPA)\", \"fund amount\": 37851991, \"project\": 9}, {\"rtpa\": \"Plumas County Transportation Commission\", \"fund amount\": 2824039, \"project\": 5}, {\"rtpa\": \"RCTC\", \"fund amount\": 138210990, \"project\": 3}, {\"rtpa\": \"SLOCOG\", \"fund amount\": 32217200, \"project\": 24}, {\"rtpa\": \"San Benito Council of Governments \", \"fund amount\": 8160164, \"project\": 4}, {\"rtpa\": \"San Diego Metropolitan Transit System\", \"fund amount\": 283651605, \"project\": 12}, {\"rtpa\": \"Shasta Regional Transportation Agency\", \"fund amount\": 15375548, \"project\": 5}, {\"rtpa\": \"Sierra County Transportation Commission\", \"fund amount\": 973816, \"project\": 4}, {\"rtpa\": \"Tehama County Transportation Commission \", \"fund amount\": 8115138, \"project\": 3}, {\"rtpa\": \"Tuolumne County Transportation Council\", \"fund amount\": 7061054, \"project\": 4}]}}, {\"mode\": \"vega-lite\"});\n",
       "</script>"
      ],
      "text/plain": [
       "alt.Chart(...)"
      ]
     },
     "execution_count": 40,
     "metadata": {},
     "output_type": "execute_result"
    }
   ],
   "source": [
    "by_rtpa = melt.groupby([\"rtpa\"]).agg({\n",
    "    \"fund amount\": \"sum\",\n",
    "    \"project\": \"nunique\"\n",
    "}).reset_index()\n",
    "\n",
    "make_bar(by_rtpa, \"rtpa\", \"fund amount\")"
   ]
  },
  {
   "cell_type": "code",
   "execution_count": null,
   "id": "04e8f0d3-e85f-4275-8227-2d486c105cc2",
   "metadata": {},
   "outputs": [],
   "source": []
  }
 ],
 "metadata": {
  "kernelspec": {
   "display_name": "Python 3 (ipykernel)",
   "language": "python",
   "name": "python3"
  },
  "language_info": {
   "codemirror_mode": {
    "name": "ipython",
    "version": 3
   },
   "file_extension": ".py",
   "mimetype": "text/x-python",
   "name": "python",
   "nbconvert_exporter": "python",
   "pygments_lexer": "ipython3",
   "version": "3.9.13"
  }
 },
 "nbformat": 4,
 "nbformat_minor": 5
}
