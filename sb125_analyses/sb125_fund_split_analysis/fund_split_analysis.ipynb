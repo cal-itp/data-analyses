{
 "cells": [
  {
   "cell_type": "code",
   "execution_count": 1,
   "id": "18bf8d66-e8cf-45bd-8d51-f316ad5eb588",
   "metadata": {},
   "outputs": [],
   "source": [
    "import altair as alt\n",
    "import pandas as pd\n",
    "from IPython.display import Markdown, display, HTML\n",
    "\n",
    "pd.set_option(\"display.max_columns\", None)\n",
    "pd.set_option(\"display.max_rows\", None)\n",
    "\n",
    "GCS_PATH = \"gs://calitp-analytics-data/data-analyses/sb125/fund_split/\""
   ]
  },
  {
   "cell_type": "markdown",
   "id": "b7df6d2c-ad3e-4630-8690-975e48049278",
   "metadata": {},
   "source": [
    "# SB125 Fund Split Analysis"
   ]
  },
  {
   "cell_type": "markdown",
   "id": "42fdef6f-d9ca-419f-861e-54e94098b951",
   "metadata": {},
   "source": [
    "## Question:\n",
    "- How did RTAs split SB125 funds between operations and capital?"
   ]
  },
  {
   "cell_type": "markdown",
   "id": "56b377e1-5f8e-481b-af19-2a6ba2ff92e0",
   "metadata": {},
   "source": [
    "## Methodology:\n",
    "- upload all avilable `SB125 fund request template` files to gcs\n",
    "- examine all files for consistencies:\n",
    "    - come with cleaning plan for inconsistent examples (files withot capital/operating columns)\n",
    "- concat all rows across all files\n"
   ]
  },
  {
   "cell_type": "markdown",
   "id": "ed15b993-c361-4cd0-b1b6-facf2efbba1f",
   "metadata": {},
   "source": [
    "## Notes:\n",
    "- Some RTPAs did not submit a `SB125 fund request template.xlsx` file, but instead included an equivilent file their allocation package\n",
    "- There are ~30 files to analyze, most of which need to be uniquely cleaned. All cleaning steps are done in the `fund_split.py` script and saved to GCS"
   ]
  },
  {
   "cell_type": "markdown",
   "id": "081bd92f-5114-4678-87aa-500ea78f85ed",
   "metadata": {},
   "source": [
    "# Read in Melt DF parquet from GCS"
   ]
  },
  {
   "cell_type": "code",
   "execution_count": 2,
   "id": "c041c6eb-cda1-47fd-aecf-7dd04b6f52e7",
   "metadata": {},
   "outputs": [],
   "source": [
    "all_melt = pd.read_parquet(f\"{GCS_PATH}all_fund_requests_melt.parquet\")"
   ]
  },
  {
   "cell_type": "code",
   "execution_count": 10,
   "id": "6460a800-8204-46ed-9cbc-4861f1114791",
   "metadata": {},
   "outputs": [
    {
     "data": {
      "text/plain": [
       "(2296, 8)"
      ]
     },
     "metadata": {},
     "output_type": "display_data"
    },
    {
     "data": {
      "text/plain": [
       "['rtpa',\n",
       " 'implementing agenc-y/-ies',\n",
       " 'project',\n",
       " 'fund source',\n",
       " 'capital/operation fy',\n",
       " 'fund amount',\n",
       " 'project type',\n",
       " 'fiscal year']"
      ]
     },
     "metadata": {},
     "output_type": "display_data"
    }
   ],
   "source": [
    "display(all_melt.shape, list(all_melt.columns))"
   ]
  },
  {
   "cell_type": "code",
   "execution_count": 4,
   "id": "c0ffa614-96db-46a0-9b53-b67c481dcf4e",
   "metadata": {},
   "outputs": [],
   "source": [
    "by_source = all_melt.groupby([\"fund source\"]).agg({\"fund amount\": \"sum\", \"rtpa\": \"nunique\"}).reset_index()\n",
    "by_type = all_melt.groupby([\"project type\"]).agg({\"fund amount\": \"sum\",}).reset_index()\n",
    "by_year = all_melt.groupby([\"fiscal year\", \"project type\"]).agg({\"fund amount\": \"sum\"}).reset_index()\n",
    "by_rtpa = all_melt.groupby([\"rtpa\"]).agg({\"fund amount\": \"sum\", \"project\": \"nunique\"}).reset_index()\n"
   ]
  },
  {
   "cell_type": "code",
   "execution_count": 14,
   "id": "49edcfaf-c5b4-4a2c-af8c-34ba75555cca",
   "metadata": {},
   "outputs": [
    {
     "data": {
      "text/html": [
       "<div>\n",
       "<style scoped>\n",
       "    .dataframe tbody tr th:only-of-type {\n",
       "        vertical-align: middle;\n",
       "    }\n",
       "\n",
       "    .dataframe tbody tr th {\n",
       "        vertical-align: top;\n",
       "    }\n",
       "\n",
       "    .dataframe thead th {\n",
       "        text-align: right;\n",
       "    }\n",
       "</style>\n",
       "<table border=\"1\" class=\"dataframe\">\n",
       "  <thead>\n",
       "    <tr style=\"text-align: right;\">\n",
       "      <th></th>\n",
       "      <th>fund source</th>\n",
       "      <th>fund amount</th>\n",
       "      <th>rtpa</th>\n",
       "    </tr>\n",
       "  </thead>\n",
       "  <tbody>\n",
       "    <tr>\n",
       "      <th>0</th>\n",
       "      <td>CMAQ</td>\n",
       "      <td>2300000</td>\n",
       "      <td>1</td>\n",
       "    </tr>\n",
       "    <tr>\n",
       "      <th>1</th>\n",
       "      <td>Farebox</td>\n",
       "      <td>400000</td>\n",
       "      <td>1</td>\n",
       "    </tr>\n",
       "    <tr>\n",
       "      <th>2</th>\n",
       "      <td>Measure V</td>\n",
       "      <td>500000</td>\n",
       "      <td>1</td>\n",
       "    </tr>\n",
       "    <tr>\n",
       "      <th>3</th>\n",
       "      <td>SGR</td>\n",
       "      <td>620000</td>\n",
       "      <td>1</td>\n",
       "    </tr>\n",
       "    <tr>\n",
       "      <th>4</th>\n",
       "      <td>TIRCP</td>\n",
       "      <td>2114010519</td>\n",
       "      <td>30</td>\n",
       "    </tr>\n",
       "    <tr>\n",
       "      <th>5</th>\n",
       "      <td>ZETCP</td>\n",
       "      <td>58874499</td>\n",
       "      <td>3</td>\n",
       "    </tr>\n",
       "    <tr>\n",
       "      <th>6</th>\n",
       "      <td>ZETCP (GGRF)</td>\n",
       "      <td>275714380</td>\n",
       "      <td>26</td>\n",
       "    </tr>\n",
       "    <tr>\n",
       "      <th>7</th>\n",
       "      <td>ZETCP (PTA)</td>\n",
       "      <td>27584170</td>\n",
       "      <td>23</td>\n",
       "    </tr>\n",
       "    <tr>\n",
       "      <th>8</th>\n",
       "      <td>`5307</td>\n",
       "      <td>400000</td>\n",
       "      <td>1</td>\n",
       "    </tr>\n",
       "    <tr>\n",
       "      <th>9</th>\n",
       "      <td>`5339</td>\n",
       "      <td>600000</td>\n",
       "      <td>1</td>\n",
       "    </tr>\n",
       "  </tbody>\n",
       "</table>\n",
       "</div>"
      ],
      "text/plain": [
       "    fund source  fund amount  rtpa\n",
       "0          CMAQ      2300000     1\n",
       "1       Farebox       400000     1\n",
       "2     Measure V       500000     1\n",
       "3           SGR       620000     1\n",
       "4         TIRCP   2114010519    30\n",
       "5         ZETCP     58874499     3\n",
       "6  ZETCP (GGRF)    275714380    26\n",
       "7   ZETCP (PTA)     27584170    23\n",
       "8         `5307       400000     1\n",
       "9         `5339       600000     1"
      ]
     },
     "execution_count": 14,
     "metadata": {},
     "output_type": "execute_result"
    }
   ],
   "source": [
    "by_source"
   ]
  },
  {
   "cell_type": "markdown",
   "id": "a7180b38-ce35-456d-9060-7d5cb940a36a",
   "metadata": {},
   "source": [
    "# Charts"
   ]
  },
  {
   "cell_type": "code",
   "execution_count": 18,
   "id": "572c255d-0ae5-4588-a0b1-5c9cfbef4870",
   "metadata": {
    "tags": []
   },
   "outputs": [
    {
     "data": {
      "text/markdown": [
       "## Overall split of SB125 allocation funds by capital/operating expenses"
      ],
      "text/plain": [
       "<IPython.core.display.Markdown object>"
      ]
     },
     "metadata": {},
     "output_type": "display_data"
    },
    {
     "data": {
      "text/html": [
       "\n",
       "<style>\n",
       "  #altair-viz-ae983b64388e49ce951d91981f90065c.vega-embed {\n",
       "    width: 100%;\n",
       "    display: flex;\n",
       "  }\n",
       "\n",
       "  #altair-viz-ae983b64388e49ce951d91981f90065c.vega-embed details,\n",
       "  #altair-viz-ae983b64388e49ce951d91981f90065c.vega-embed details summary {\n",
       "    position: relative;\n",
       "  }\n",
       "</style>\n",
       "<div id=\"altair-viz-ae983b64388e49ce951d91981f90065c\"></div>\n",
       "<script type=\"text/javascript\">\n",
       "  var VEGA_DEBUG = (typeof VEGA_DEBUG == \"undefined\") ? {} : VEGA_DEBUG;\n",
       "  (function(spec, embedOpt){\n",
       "    let outputDiv = document.currentScript.previousElementSibling;\n",
       "    if (outputDiv.id !== \"altair-viz-ae983b64388e49ce951d91981f90065c\") {\n",
       "      outputDiv = document.getElementById(\"altair-viz-ae983b64388e49ce951d91981f90065c\");\n",
       "    }\n",
       "    const paths = {\n",
       "      \"vega\": \"https://cdn.jsdelivr.net/npm/vega@5?noext\",\n",
       "      \"vega-lib\": \"https://cdn.jsdelivr.net/npm/vega-lib?noext\",\n",
       "      \"vega-lite\": \"https://cdn.jsdelivr.net/npm/vega-lite@5.17.0?noext\",\n",
       "      \"vega-embed\": \"https://cdn.jsdelivr.net/npm/vega-embed@6?noext\",\n",
       "    };\n",
       "\n",
       "    function maybeLoadScript(lib, version) {\n",
       "      var key = `${lib.replace(\"-\", \"\")}_version`;\n",
       "      return (VEGA_DEBUG[key] == version) ?\n",
       "        Promise.resolve(paths[lib]) :\n",
       "        new Promise(function(resolve, reject) {\n",
       "          var s = document.createElement('script');\n",
       "          document.getElementsByTagName(\"head\")[0].appendChild(s);\n",
       "          s.async = true;\n",
       "          s.onload = () => {\n",
       "            VEGA_DEBUG[key] = version;\n",
       "            return resolve(paths[lib]);\n",
       "          };\n",
       "          s.onerror = () => reject(`Error loading script: ${paths[lib]}`);\n",
       "          s.src = paths[lib];\n",
       "        });\n",
       "    }\n",
       "\n",
       "    function showError(err) {\n",
       "      outputDiv.innerHTML = `<div class=\"error\" style=\"color:red;\">${err}</div>`;\n",
       "      throw err;\n",
       "    }\n",
       "\n",
       "    function displayChart(vegaEmbed) {\n",
       "      vegaEmbed(outputDiv, spec, embedOpt)\n",
       "        .catch(err => showError(`Javascript Error: ${err.message}<br>This usually means there's a typo in your chart specification. See the javascript console for the full traceback.`));\n",
       "    }\n",
       "\n",
       "    if(typeof define === \"function\" && define.amd) {\n",
       "      requirejs.config({paths});\n",
       "      require([\"vega-embed\"], displayChart, err => showError(`Error loading script: ${err.message}`));\n",
       "    } else {\n",
       "      maybeLoadScript(\"vega\", \"5\")\n",
       "        .then(() => maybeLoadScript(\"vega-lite\", \"5.17.0\"))\n",
       "        .then(() => maybeLoadScript(\"vega-embed\", \"6\"))\n",
       "        .catch(showError)\n",
       "        .then(() => displayChart(vegaEmbed));\n",
       "    }\n",
       "  })({\"config\": {\"view\": {\"continuousWidth\": 300, \"continuousHeight\": 300}}, \"data\": {\"name\": \"data-1b093f4fd754b12a94a60701a45260f5\"}, \"mark\": {\"type\": \"bar\", \"point\": true}, \"encoding\": {\"color\": {\"field\": \"project type\", \"type\": \"nominal\"}, \"tooltip\": [{\"field\": \"project type\", \"type\": \"nominal\"}, {\"field\": \"fund amount\", \"type\": \"quantitative\"}], \"x\": {\"field\": \"project type\", \"type\": \"nominal\"}, \"y\": {\"field\": \"fund amount\", \"type\": \"quantitative\"}}, \"height\": 400, \"width\": 600, \"$schema\": \"https://vega.github.io/schema/vega-lite/v5.17.0.json\", \"datasets\": {\"data-1b093f4fd754b12a94a60701a45260f5\": [{\"project type\": \"capital\", \"fund amount\": 1855348721}, {\"project type\": \"operating\", \"fund amount\": 625654847}]}}, {\"mode\": \"vega-lite\"});\n",
       "</script>"
      ],
      "text/plain": [
       "alt.Chart(...)"
      ]
     },
     "metadata": {},
     "output_type": "display_data"
    },
    {
     "data": {
      "text/html": [
       "<div>\n",
       "<style scoped>\n",
       "    .dataframe tbody tr th:only-of-type {\n",
       "        vertical-align: middle;\n",
       "    }\n",
       "\n",
       "    .dataframe tbody tr th {\n",
       "        vertical-align: top;\n",
       "    }\n",
       "\n",
       "    .dataframe thead th {\n",
       "        text-align: right;\n",
       "    }\n",
       "</style>\n",
       "<table border=\"1\" class=\"dataframe\">\n",
       "  <thead>\n",
       "    <tr style=\"text-align: right;\">\n",
       "      <th></th>\n",
       "      <th>project type</th>\n",
       "      <th>fund amount</th>\n",
       "    </tr>\n",
       "  </thead>\n",
       "  <tbody>\n",
       "    <tr>\n",
       "      <th>0</th>\n",
       "      <td>capital</td>\n",
       "      <td>1855348721</td>\n",
       "    </tr>\n",
       "    <tr>\n",
       "      <th>1</th>\n",
       "      <td>operating</td>\n",
       "      <td>625654847</td>\n",
       "    </tr>\n",
       "  </tbody>\n",
       "</table>\n",
       "</div>"
      ],
      "text/plain": [
       "  project type  fund amount\n",
       "0      capital   1855348721\n",
       "1    operating    625654847"
      ]
     },
     "metadata": {},
     "output_type": "display_data"
    },
    {
     "data": {
      "text/markdown": [
       "## SB125 allocation funds by capital/operating expenses, by fiscal year"
      ],
      "text/plain": [
       "<IPython.core.display.Markdown object>"
      ]
     },
     "metadata": {},
     "output_type": "display_data"
    },
    {
     "data": {
      "text/html": [
       "\n",
       "<style>\n",
       "  #altair-viz-8c35039c7ecf47788ae250442b0c6e5b.vega-embed {\n",
       "    width: 100%;\n",
       "    display: flex;\n",
       "  }\n",
       "\n",
       "  #altair-viz-8c35039c7ecf47788ae250442b0c6e5b.vega-embed details,\n",
       "  #altair-viz-8c35039c7ecf47788ae250442b0c6e5b.vega-embed details summary {\n",
       "    position: relative;\n",
       "  }\n",
       "</style>\n",
       "<div id=\"altair-viz-8c35039c7ecf47788ae250442b0c6e5b\"></div>\n",
       "<script type=\"text/javascript\">\n",
       "  var VEGA_DEBUG = (typeof VEGA_DEBUG == \"undefined\") ? {} : VEGA_DEBUG;\n",
       "  (function(spec, embedOpt){\n",
       "    let outputDiv = document.currentScript.previousElementSibling;\n",
       "    if (outputDiv.id !== \"altair-viz-8c35039c7ecf47788ae250442b0c6e5b\") {\n",
       "      outputDiv = document.getElementById(\"altair-viz-8c35039c7ecf47788ae250442b0c6e5b\");\n",
       "    }\n",
       "    const paths = {\n",
       "      \"vega\": \"https://cdn.jsdelivr.net/npm/vega@5?noext\",\n",
       "      \"vega-lib\": \"https://cdn.jsdelivr.net/npm/vega-lib?noext\",\n",
       "      \"vega-lite\": \"https://cdn.jsdelivr.net/npm/vega-lite@5.17.0?noext\",\n",
       "      \"vega-embed\": \"https://cdn.jsdelivr.net/npm/vega-embed@6?noext\",\n",
       "    };\n",
       "\n",
       "    function maybeLoadScript(lib, version) {\n",
       "      var key = `${lib.replace(\"-\", \"\")}_version`;\n",
       "      return (VEGA_DEBUG[key] == version) ?\n",
       "        Promise.resolve(paths[lib]) :\n",
       "        new Promise(function(resolve, reject) {\n",
       "          var s = document.createElement('script');\n",
       "          document.getElementsByTagName(\"head\")[0].appendChild(s);\n",
       "          s.async = true;\n",
       "          s.onload = () => {\n",
       "            VEGA_DEBUG[key] = version;\n",
       "            return resolve(paths[lib]);\n",
       "          };\n",
       "          s.onerror = () => reject(`Error loading script: ${paths[lib]}`);\n",
       "          s.src = paths[lib];\n",
       "        });\n",
       "    }\n",
       "\n",
       "    function showError(err) {\n",
       "      outputDiv.innerHTML = `<div class=\"error\" style=\"color:red;\">${err}</div>`;\n",
       "      throw err;\n",
       "    }\n",
       "\n",
       "    function displayChart(vegaEmbed) {\n",
       "      vegaEmbed(outputDiv, spec, embedOpt)\n",
       "        .catch(err => showError(`Javascript Error: ${err.message}<br>This usually means there's a typo in your chart specification. See the javascript console for the full traceback.`));\n",
       "    }\n",
       "\n",
       "    if(typeof define === \"function\" && define.amd) {\n",
       "      requirejs.config({paths});\n",
       "      require([\"vega-embed\"], displayChart, err => showError(`Error loading script: ${err.message}`));\n",
       "    } else {\n",
       "      maybeLoadScript(\"vega\", \"5\")\n",
       "        .then(() => maybeLoadScript(\"vega-lite\", \"5.17.0\"))\n",
       "        .then(() => maybeLoadScript(\"vega-embed\", \"6\"))\n",
       "        .catch(showError)\n",
       "        .then(() => displayChart(vegaEmbed));\n",
       "    }\n",
       "  })({\"config\": {\"view\": {\"continuousWidth\": 300, \"continuousHeight\": 300}}, \"data\": {\"name\": \"data-a7e1deb4b2d7757328984cb1370701fb\"}, \"mark\": {\"type\": \"bar\", \"point\": true}, \"encoding\": {\"color\": {\"field\": \"project type\", \"type\": \"nominal\"}, \"tooltip\": [{\"field\": \"project type\", \"type\": \"nominal\"}, {\"field\": \"fund amount\", \"type\": \"quantitative\"}], \"x\": {\"field\": \"fiscal year\", \"type\": \"nominal\"}, \"y\": {\"field\": \"fund amount\", \"type\": \"quantitative\"}}, \"height\": 400, \"width\": 600, \"$schema\": \"https://vega.github.io/schema/vega-lite/v5.17.0.json\", \"datasets\": {\"data-a7e1deb4b2d7757328984cb1370701fb\": [{\"fiscal year\": \"23-24\", \"project type\": \"capital\", \"fund amount\": 945242943}, {\"fiscal year\": \"23-24\", \"project type\": \"operating\", \"fund amount\": 230807266}, {\"fiscal year\": \"24-25\", \"project type\": \"capital\", \"fund amount\": 812480147}, {\"fiscal year\": \"24-25\", \"project type\": \"operating\", \"fund amount\": 169494114}, {\"fiscal year\": \"25-26\", \"project type\": \"capital\", \"fund amount\": 49092309}, {\"fiscal year\": \"25-26\", \"project type\": \"operating\", \"fund amount\": 96177774}, {\"fiscal year\": \"26-27\", \"project type\": \"capital\", \"fund amount\": 48533322}, {\"fiscal year\": \"26-27\", \"project type\": \"operating\", \"fund amount\": 129175693}]}}, {\"mode\": \"vega-lite\"});\n",
       "</script>"
      ],
      "text/plain": [
       "alt.Chart(...)"
      ]
     },
     "metadata": {},
     "output_type": "display_data"
    },
    {
     "data": {
      "text/html": [
       "<div>\n",
       "<style scoped>\n",
       "    .dataframe tbody tr th:only-of-type {\n",
       "        vertical-align: middle;\n",
       "    }\n",
       "\n",
       "    .dataframe tbody tr th {\n",
       "        vertical-align: top;\n",
       "    }\n",
       "\n",
       "    .dataframe thead th {\n",
       "        text-align: right;\n",
       "    }\n",
       "</style>\n",
       "<table border=\"1\" class=\"dataframe\">\n",
       "  <thead>\n",
       "    <tr style=\"text-align: right;\">\n",
       "      <th></th>\n",
       "      <th>fiscal year</th>\n",
       "      <th>project type</th>\n",
       "      <th>fund amount</th>\n",
       "    </tr>\n",
       "  </thead>\n",
       "  <tbody>\n",
       "    <tr>\n",
       "      <th>0</th>\n",
       "      <td>23-24</td>\n",
       "      <td>capital</td>\n",
       "      <td>945242943</td>\n",
       "    </tr>\n",
       "    <tr>\n",
       "      <th>2</th>\n",
       "      <td>24-25</td>\n",
       "      <td>capital</td>\n",
       "      <td>812480147</td>\n",
       "    </tr>\n",
       "    <tr>\n",
       "      <th>4</th>\n",
       "      <td>25-26</td>\n",
       "      <td>capital</td>\n",
       "      <td>49092309</td>\n",
       "    </tr>\n",
       "    <tr>\n",
       "      <th>6</th>\n",
       "      <td>26-27</td>\n",
       "      <td>capital</td>\n",
       "      <td>48533322</td>\n",
       "    </tr>\n",
       "    <tr>\n",
       "      <th>1</th>\n",
       "      <td>23-24</td>\n",
       "      <td>operating</td>\n",
       "      <td>230807266</td>\n",
       "    </tr>\n",
       "    <tr>\n",
       "      <th>3</th>\n",
       "      <td>24-25</td>\n",
       "      <td>operating</td>\n",
       "      <td>169494114</td>\n",
       "    </tr>\n",
       "    <tr>\n",
       "      <th>5</th>\n",
       "      <td>25-26</td>\n",
       "      <td>operating</td>\n",
       "      <td>96177774</td>\n",
       "    </tr>\n",
       "    <tr>\n",
       "      <th>7</th>\n",
       "      <td>26-27</td>\n",
       "      <td>operating</td>\n",
       "      <td>129175693</td>\n",
       "    </tr>\n",
       "  </tbody>\n",
       "</table>\n",
       "</div>"
      ],
      "text/plain": [
       "  fiscal year project type  fund amount\n",
       "0       23-24      capital    945242943\n",
       "2       24-25      capital    812480147\n",
       "4       25-26      capital     49092309\n",
       "6       26-27      capital     48533322\n",
       "1       23-24    operating    230807266\n",
       "3       24-25    operating    169494114\n",
       "5       25-26    operating     96177774\n",
       "7       26-27    operating    129175693"
      ]
     },
     "metadata": {},
     "output_type": "display_data"
    },
    {
     "data": {
      "text/markdown": [
       "## Allocation funds by funding source"
      ],
      "text/plain": [
       "<IPython.core.display.Markdown object>"
      ]
     },
     "metadata": {},
     "output_type": "display_data"
    },
    {
     "data": {
      "text/html": [
       "\n",
       "<style>\n",
       "  #altair-viz-aa0f7083875c44ce9bb606da2b4c7626.vega-embed {\n",
       "    width: 100%;\n",
       "    display: flex;\n",
       "  }\n",
       "\n",
       "  #altair-viz-aa0f7083875c44ce9bb606da2b4c7626.vega-embed details,\n",
       "  #altair-viz-aa0f7083875c44ce9bb606da2b4c7626.vega-embed details summary {\n",
       "    position: relative;\n",
       "  }\n",
       "</style>\n",
       "<div id=\"altair-viz-aa0f7083875c44ce9bb606da2b4c7626\"></div>\n",
       "<script type=\"text/javascript\">\n",
       "  var VEGA_DEBUG = (typeof VEGA_DEBUG == \"undefined\") ? {} : VEGA_DEBUG;\n",
       "  (function(spec, embedOpt){\n",
       "    let outputDiv = document.currentScript.previousElementSibling;\n",
       "    if (outputDiv.id !== \"altair-viz-aa0f7083875c44ce9bb606da2b4c7626\") {\n",
       "      outputDiv = document.getElementById(\"altair-viz-aa0f7083875c44ce9bb606da2b4c7626\");\n",
       "    }\n",
       "    const paths = {\n",
       "      \"vega\": \"https://cdn.jsdelivr.net/npm/vega@5?noext\",\n",
       "      \"vega-lib\": \"https://cdn.jsdelivr.net/npm/vega-lib?noext\",\n",
       "      \"vega-lite\": \"https://cdn.jsdelivr.net/npm/vega-lite@5.17.0?noext\",\n",
       "      \"vega-embed\": \"https://cdn.jsdelivr.net/npm/vega-embed@6?noext\",\n",
       "    };\n",
       "\n",
       "    function maybeLoadScript(lib, version) {\n",
       "      var key = `${lib.replace(\"-\", \"\")}_version`;\n",
       "      return (VEGA_DEBUG[key] == version) ?\n",
       "        Promise.resolve(paths[lib]) :\n",
       "        new Promise(function(resolve, reject) {\n",
       "          var s = document.createElement('script');\n",
       "          document.getElementsByTagName(\"head\")[0].appendChild(s);\n",
       "          s.async = true;\n",
       "          s.onload = () => {\n",
       "            VEGA_DEBUG[key] = version;\n",
       "            return resolve(paths[lib]);\n",
       "          };\n",
       "          s.onerror = () => reject(`Error loading script: ${paths[lib]}`);\n",
       "          s.src = paths[lib];\n",
       "        });\n",
       "    }\n",
       "\n",
       "    function showError(err) {\n",
       "      outputDiv.innerHTML = `<div class=\"error\" style=\"color:red;\">${err}</div>`;\n",
       "      throw err;\n",
       "    }\n",
       "\n",
       "    function displayChart(vegaEmbed) {\n",
       "      vegaEmbed(outputDiv, spec, embedOpt)\n",
       "        .catch(err => showError(`Javascript Error: ${err.message}<br>This usually means there's a typo in your chart specification. See the javascript console for the full traceback.`));\n",
       "    }\n",
       "\n",
       "    if(typeof define === \"function\" && define.amd) {\n",
       "      requirejs.config({paths});\n",
       "      require([\"vega-embed\"], displayChart, err => showError(`Error loading script: ${err.message}`));\n",
       "    } else {\n",
       "      maybeLoadScript(\"vega\", \"5\")\n",
       "        .then(() => maybeLoadScript(\"vega-lite\", \"5.17.0\"))\n",
       "        .then(() => maybeLoadScript(\"vega-embed\", \"6\"))\n",
       "        .catch(showError)\n",
       "        .then(() => displayChart(vegaEmbed));\n",
       "    }\n",
       "  })({\"config\": {\"view\": {\"continuousWidth\": 300, \"continuousHeight\": 300}}, \"data\": {\"name\": \"data-7bf9c430f850755e275907cef1f095c7\"}, \"mark\": {\"type\": \"bar\", \"point\": true}, \"encoding\": {\"tooltip\": [{\"field\": \"fund source\", \"type\": \"nominal\"}, {\"field\": \"fund amount\", \"type\": \"quantitative\"}], \"x\": {\"field\": \"fund source\", \"type\": \"nominal\"}, \"y\": {\"field\": \"fund amount\", \"type\": \"quantitative\"}}, \"height\": 400, \"width\": 600, \"$schema\": \"https://vega.github.io/schema/vega-lite/v5.17.0.json\", \"datasets\": {\"data-7bf9c430f850755e275907cef1f095c7\": [{\"fund source\": \"CMAQ\", \"fund amount\": 2300000, \"rtpa\": 1}, {\"fund source\": \"Farebox\", \"fund amount\": 400000, \"rtpa\": 1}, {\"fund source\": \"Measure V\", \"fund amount\": 500000, \"rtpa\": 1}, {\"fund source\": \"SGR\", \"fund amount\": 620000, \"rtpa\": 1}, {\"fund source\": \"TIRCP\", \"fund amount\": 2114010519, \"rtpa\": 30}, {\"fund source\": \"ZETCP\", \"fund amount\": 58874499, \"rtpa\": 3}, {\"fund source\": \"ZETCP (GGRF)\", \"fund amount\": 275714380, \"rtpa\": 26}, {\"fund source\": \"ZETCP (PTA)\", \"fund amount\": 27584170, \"rtpa\": 23}, {\"fund source\": \"`5307\", \"fund amount\": 400000, \"rtpa\": 1}, {\"fund source\": \"`5339\", \"fund amount\": 600000, \"rtpa\": 1}]}}, {\"mode\": \"vega-lite\"});\n",
       "</script>"
      ],
      "text/plain": [
       "alt.Chart(...)"
      ]
     },
     "metadata": {},
     "output_type": "display_data"
    }
   ],
   "source": [
    "stack_chart = alt.Chart(by_year).mark_bar(point=True).encode(\n",
    "    x=\"fiscal year\", \n",
    "    y=\"fund amount\", \n",
    "    color=\"project type\",\n",
    "    tooltip=[\"project type\", \"fund amount\"],\n",
    ").properties(width=600, height=400)\n",
    "\n",
    "\n",
    "overall_chart = alt.Chart(by_type).mark_bar(point=True).encode(\n",
    "    x=\"project type\", \n",
    "    y=\"fund amount\", \n",
    "    color=\"project type\",\n",
    "    tooltip=[\"project type\", \"fund amount\"],\n",
    ").properties(width=600, height=400)\n",
    "\n",
    "source_chart = alt.Chart(by_source).mark_bar(point=True).encode(\n",
    "    x=\"fund source\", \n",
    "    y=\"fund amount\", \n",
    "    #color=\"project type\",\n",
    "    tooltip=[\"fund source\", \"fund amount\"],\n",
    ").properties(width=600, height=400)\n",
    "\n",
    "\n",
    "display(\n",
    "    Markdown(\"## Overall split of SB125 allocation funds by capital/operating expenses\"),\n",
    "    overall_chart,\n",
    "    by_type,\n",
    "    Markdown(\"## SB125 allocation funds by capital/operating expenses, by fiscal year\"),\n",
    "    stack_chart,\n",
    "    by_year.sort_values(by=\"project type\"),\n",
    "    Markdown(\"## Allocation funds by funding source\"),\n",
    "    source_chart\n",
    ")"
   ]
  },
  {
   "cell_type": "markdown",
   "id": "7e6fc118-6ad7-4832-9c03-f32e18ce4cfe",
   "metadata": {
    "tags": []
   },
   "source": [
    "# Draft Aggregations"
   ]
  },
  {
   "cell_type": "code",
   "execution_count": 7,
   "id": "28ffc2ba-9d8e-4c5d-8be5-30e718906099",
   "metadata": {},
   "outputs": [],
   "source": [
    "def make_bar(data, x_axis, y_axis):\n",
    "    chart = (\n",
    "        alt.Chart(data)\n",
    "        .mark_bar()\n",
    "        .encode(\n",
    "            x=x_axis,\n",
    "            y=y_axis,\n",
    "            #color= color_val,\n",
    "        )\n",
    "        .properties(width=\"container\", height=400)\n",
    "    )\n",
    "    text = chart.mark_text(align=\"left\", baseline=\"middle\", dx=3).encode(\n",
    "            text=\"fund amount\"\n",
    "    )\n",
    "    return chart + text"
   ]
  },
  {
   "cell_type": "code",
   "execution_count": 8,
   "id": "d6371a85-059d-4c5d-903f-5525ab9dd8df",
   "metadata": {},
   "outputs": [
    {
     "data": {
      "text/html": [
       "\n",
       "<style>\n",
       "  #altair-viz-5557ee5320654822bca4379f05238483.vega-embed {\n",
       "    width: 100%;\n",
       "    display: flex;\n",
       "  }\n",
       "\n",
       "  #altair-viz-5557ee5320654822bca4379f05238483.vega-embed details,\n",
       "  #altair-viz-5557ee5320654822bca4379f05238483.vega-embed details summary {\n",
       "    position: relative;\n",
       "  }\n",
       "</style>\n",
       "<div id=\"altair-viz-5557ee5320654822bca4379f05238483\"></div>\n",
       "<script type=\"text/javascript\">\n",
       "  var VEGA_DEBUG = (typeof VEGA_DEBUG == \"undefined\") ? {} : VEGA_DEBUG;\n",
       "  (function(spec, embedOpt){\n",
       "    let outputDiv = document.currentScript.previousElementSibling;\n",
       "    if (outputDiv.id !== \"altair-viz-5557ee5320654822bca4379f05238483\") {\n",
       "      outputDiv = document.getElementById(\"altair-viz-5557ee5320654822bca4379f05238483\");\n",
       "    }\n",
       "    const paths = {\n",
       "      \"vega\": \"https://cdn.jsdelivr.net/npm/vega@5?noext\",\n",
       "      \"vega-lib\": \"https://cdn.jsdelivr.net/npm/vega-lib?noext\",\n",
       "      \"vega-lite\": \"https://cdn.jsdelivr.net/npm/vega-lite@5.17.0?noext\",\n",
       "      \"vega-embed\": \"https://cdn.jsdelivr.net/npm/vega-embed@6?noext\",\n",
       "    };\n",
       "\n",
       "    function maybeLoadScript(lib, version) {\n",
       "      var key = `${lib.replace(\"-\", \"\")}_version`;\n",
       "      return (VEGA_DEBUG[key] == version) ?\n",
       "        Promise.resolve(paths[lib]) :\n",
       "        new Promise(function(resolve, reject) {\n",
       "          var s = document.createElement('script');\n",
       "          document.getElementsByTagName(\"head\")[0].appendChild(s);\n",
       "          s.async = true;\n",
       "          s.onload = () => {\n",
       "            VEGA_DEBUG[key] = version;\n",
       "            return resolve(paths[lib]);\n",
       "          };\n",
       "          s.onerror = () => reject(`Error loading script: ${paths[lib]}`);\n",
       "          s.src = paths[lib];\n",
       "        });\n",
       "    }\n",
       "\n",
       "    function showError(err) {\n",
       "      outputDiv.innerHTML = `<div class=\"error\" style=\"color:red;\">${err}</div>`;\n",
       "      throw err;\n",
       "    }\n",
       "\n",
       "    function displayChart(vegaEmbed) {\n",
       "      vegaEmbed(outputDiv, spec, embedOpt)\n",
       "        .catch(err => showError(`Javascript Error: ${err.message}<br>This usually means there's a typo in your chart specification. See the javascript console for the full traceback.`));\n",
       "    }\n",
       "\n",
       "    if(typeof define === \"function\" && define.amd) {\n",
       "      requirejs.config({paths});\n",
       "      require([\"vega-embed\"], displayChart, err => showError(`Error loading script: ${err.message}`));\n",
       "    } else {\n",
       "      maybeLoadScript(\"vega\", \"5\")\n",
       "        .then(() => maybeLoadScript(\"vega-lite\", \"5.17.0\"))\n",
       "        .then(() => maybeLoadScript(\"vega-embed\", \"6\"))\n",
       "        .catch(showError)\n",
       "        .then(() => displayChart(vegaEmbed));\n",
       "    }\n",
       "  })({\"config\": {\"view\": {\"continuousWidth\": 300, \"continuousHeight\": 300}}, \"layer\": [{\"mark\": {\"type\": \"bar\"}, \"encoding\": {\"x\": {\"field\": \"fund source\", \"type\": \"nominal\"}, \"y\": {\"field\": \"fund amount\", \"type\": \"quantitative\"}}}, {\"mark\": {\"type\": \"text\", \"align\": \"left\", \"baseline\": \"middle\", \"dx\": 3}, \"encoding\": {\"text\": {\"field\": \"fund amount\", \"type\": \"quantitative\"}, \"x\": {\"field\": \"fund source\", \"type\": \"nominal\"}, \"y\": {\"field\": \"fund amount\", \"type\": \"quantitative\"}}}], \"data\": {\"name\": \"data-821c618b6202146cf5a5c4cb24c27031\"}, \"height\": 400, \"width\": \"container\", \"$schema\": \"https://vega.github.io/schema/vega-lite/v5.17.0.json\", \"datasets\": {\"data-821c618b6202146cf5a5c4cb24c27031\": [{\"fund source\": \"TIRCP\", \"fund amount\": 2114010519, \"rtpa\": 30}, {\"fund source\": \"ZETCP\", \"fund amount\": 58874499, \"rtpa\": 3}, {\"fund source\": \"ZETCP (GGRF)\", \"fund amount\": 275714380, \"rtpa\": 26}, {\"fund source\": \"ZETCP (PTA)\", \"fund amount\": 27584170, \"rtpa\": 23}]}}, {\"mode\": \"vega-lite\"});\n",
       "</script>"
      ],
      "text/plain": [
       "alt.LayerChart(...)"
      ]
     },
     "execution_count": 8,
     "metadata": {},
     "output_type": "execute_result"
    }
   ],
   "source": [
    "make_bar(by_source[by_source[\"fund source\"].isin(\n",
    "    [\"TIRCP\", \"ZETCP\", \"ZETCP (GGRF)\", \"ZETCP (PTA)\"]\n",
    ")], y_axis=\"fund amount\", x_axis=\"fund source\")"
   ]
  },
  {
   "cell_type": "code",
   "execution_count": null,
   "id": "df6fc947-a341-417f-98aa-65b400548c66",
   "metadata": {},
   "outputs": [],
   "source": []
  }
 ],
 "metadata": {
  "kernelspec": {
   "display_name": "Python 3 (ipykernel)",
   "language": "python",
   "name": "python3"
  },
  "language_info": {
   "codemirror_mode": {
    "name": "ipython",
    "version": 3
   },
   "file_extension": ".py",
   "mimetype": "text/x-python",
   "name": "python",
   "nbconvert_exporter": "python",
   "pygments_lexer": "ipython3",
   "version": "3.9.13"
  }
 },
 "nbformat": 4,
 "nbformat_minor": 5
}
