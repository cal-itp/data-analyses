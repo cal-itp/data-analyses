{
 "cells": [
  {
   "cell_type": "markdown",
   "id": "b7df6d2c-ad3e-4630-8690-975e48049278",
   "metadata": {},
   "source": [
    "# SB125 Fund Split Analysis"
   ]
  },
  {
   "cell_type": "markdown",
   "id": "42fdef6f-d9ca-419f-861e-54e94098b951",
   "metadata": {},
   "source": [
    "## Question:\n",
    "- How did RTAs split SB125 funds between operations and capital?"
   ]
  },
  {
   "cell_type": "markdown",
   "id": "56b377e1-5f8e-481b-af19-2a6ba2ff92e0",
   "metadata": {},
   "source": [
    "## Methodology:\n",
    "- upload all avilable `SB125 fund request template` files to gcs\n",
    "- examine all files for consistencies:\n",
    "    - come with cleaning plan for inconsistent examples (files withot capital/operating columns)\n",
    "- concat all rows across all files\n"
   ]
  },
  {
   "cell_type": "markdown",
   "id": "ed15b993-c361-4cd0-b1b6-facf2efbba1f",
   "metadata": {},
   "source": [
    "## Notes:\n",
    "- some RTPAs did not submit a `SB125 fund request template.xlsx` file, but instead included an quivilent file their allocation package"
   ]
  },
  {
   "cell_type": "code",
   "execution_count": 1,
   "id": "18bf8d66-e8cf-45bd-8d51-f316ad5eb588",
   "metadata": {},
   "outputs": [],
   "source": [
    "import pandas as pd\n",
    "import os\n",
    "\n",
    "GCS_PATH = \"gs://calitp-analytics-data/data-analyses/sb125/fund_split/\""
   ]
  },
  {
   "cell_type": "code",
   "execution_count": 8,
   "id": "1919aba4-aa2d-4c33-a5ba-db72b74de71d",
   "metadata": {},
   "outputs": [],
   "source": [
    "file_list = [\n",
    "    \"sierra_fund_request.xlsx\",\n",
    "    \"slocog_fund_request.xlsx\",\n",
    "    \"tehema_fund_request.xlsx\",\n",
    "    \"tuolumne_fund_request.xlsx\",\n",
    "    \"ventura_fund_request.xlsx\",\n",
    "    \"alpine_fund_request.xlsx\",\n",
    "    \"amador_fund_request.xlsx\",\n",
    "    \"butte_fund_request.xlsx\",\n",
    "    \"calaveras_fund_request.xlsx\",\n",
    "    \"del_norte_fund_request.xlsx\",\n",
    "    \"el_dorado_fund_request.xlsx\",\n",
    "    \"humboldt_fund_request.xlsx\",\n",
    "    \"kern_fund_request.xlsx\",\n",
    "    \"kings_fund_request.xlsx\",\n",
    "    \"la_metro_fund_request.xlsx\",\n",
    "    \"lake_fund_request.xlsx\",\n",
    "    \"lassen_fund_request.xlsx\",\n",
    "    \"madera_fund_request.xlsx\",\n",
    "    \"mariposa_fund_request.xlsx\",\n",
    "    \"mendocino_fund_request.xlsx\",\n",
    "    \"merced_fund_request.xlsx\",\n",
    "    \"mtc_fund_request.xlsx\",\n",
    "    \"nevada_fund_request.xlsx\",\n",
    "    \"orange_fund_request.xlsx\",\n",
    "    \"placer_fund_request.xlsx\",\n",
    "    \"plumas_fund_request.xlsx\",\n",
    "    \"riverside_fund_request.xlsx\",\n",
    "    \"san_benito_fund_request.xlsx\",\n",
    "    \"san_diego_mts_fund_request.xlsx\",\n",
    "    \"santa_cruz_fund_request.xlsx\",\n",
    "    \"shasta_fund_request.xlsx\",\n",
    "]\n",
    "\n",
    "file_list.sort()"
   ]
  },
  {
   "cell_type": "code",
   "execution_count": 10,
   "id": "10c226b2-24a9-4058-bc76-3b149b749b75",
   "metadata": {},
   "outputs": [
    {
     "data": {
      "text/plain": [
       "['alpine_fund_request.xlsx',\n",
       " 'amador_fund_request.xlsx',\n",
       " 'butte_fund_request.xlsx',\n",
       " 'calaveras_fund_request.xlsx',\n",
       " 'del_norte_fund_request.xlsx',\n",
       " 'el_dorado_fund_request.xlsx',\n",
       " 'humboldt_fund_request.xlsx',\n",
       " 'kern_fund_request.xlsx',\n",
       " 'kings_fund_request.xlsx',\n",
       " 'la_metro_fund_request.xlsx',\n",
       " 'lake_fund_request.xlsx',\n",
       " 'lassen_fund_request.xlsx',\n",
       " 'madera_fund_request.xlsx',\n",
       " 'mariposa_fund_request.xlsx',\n",
       " 'mendocino_fund_request.xlsx',\n",
       " 'merced_fund_request.xlsx',\n",
       " 'mtc_fund_request.xlsx',\n",
       " 'nevada_fund_request.xlsx',\n",
       " 'orange_fund_request.xlsx',\n",
       " 'placer_fund_request.xlsx',\n",
       " 'plumas_fund_request.xlsx',\n",
       " 'riverside_fund_request.xlsx',\n",
       " 'san_benito_fund_request.xlsx',\n",
       " 'san_diego_mts_fund_request.xlsx',\n",
       " 'santa_cruz_fund_request.xlsx',\n",
       " 'shasta_fund_request.xlsx',\n",
       " 'sierra_fund_request.xlsx',\n",
       " 'slocog_fund_request.xlsx',\n",
       " 'tehema_fund_request.xlsx',\n",
       " 'tuolumne_fund_request.xlsx',\n",
       " 'ventura_fund_request.xlsx']"
      ]
     },
     "execution_count": 10,
     "metadata": {},
     "output_type": "execute_result"
    }
   ],
   "source": [
    "file_list"
   ]
  },
  {
   "cell_type": "code",
   "execution_count": null,
   "id": "418128f9-daae-4436-95a7-9db9d1d2d26d",
   "metadata": {},
   "outputs": [],
   "source": [
    "# loop to extract basename of files\n",
    "file_name = []\n",
    "\n",
    "for file in file_list:\n",
    "    name_extract = os.path.splitext(os.path.basename(file))[0]\n",
    "    file_name.append(name_extract)"
   ]
  },
  {
   "cell_type": "code",
   "execution_count": null,
   "id": "9b1d628c-2a97-45b2-b591-460679d30d3b",
   "metadata": {},
   "outputs": [],
   "source": [
    "file_name"
   ]
  },
  {
   "cell_type": "code",
   "execution_count": 18,
   "id": "a553a440-29f0-4e86-8dc2-1efd1947d775",
   "metadata": {},
   "outputs": [],
   "source": [
    "def clean_fund_request(file:str) -> pd.DataFrame:\n",
    "    col_names = [\n",
    "    \"RTPA\",\n",
    "    \"Implementing Agenc-y/-ies\",\n",
    "    \"Project\",\n",
    "    \"Fund Source\",\n",
    "    \"capital_FY23-24\",\n",
    "    \"capital_FY24-25\",\n",
    "    \"capital_FY25-26\",\n",
    "    \"capital_FY26-27\",\n",
    "    \"operating_FY23-24\",\n",
    "    \"operating_FY24-25\",\n",
    "    \"operating_FY25-26\",\n",
    "    \"operating_FY26-27\",\n",
    "    \"total\",\n",
    "]\n",
    "    df = pd.read_excel(f\"{GCS_PATH}{file}\", header=2, nrows=40, names=col_names).drop(columns=\"total\")\n",
    "    df = df.dropna(how= \"all\")\n",
    "    return df\n"
   ]
  },
  {
   "cell_type": "code",
   "execution_count": 26,
   "id": "b03954f6-d455-4163-9a07-dd2391bd4941",
   "metadata": {},
   "outputs": [],
   "source": [
    "def read_in(file:str) -> pd.DataFrame:\n",
    "    df = pd.read_excel(f\"{GCS_PATH}{file}\", nrows=40)\n",
    "    df = df.dropna(how= \"all\")\n",
    "    \n",
    "    if len(df.columns) == 13:\n",
    "        print(f\"{file} can use clean_fund_request func.\")\n",
    "    else: \n",
    "        print(f\"needs manual check, {file}\")\n",
    "       "
   ]
  },
  {
   "cell_type": "code",
   "execution_count": 36,
   "id": "74bf8d9c-d108-440b-9817-8f1da18484a7",
   "metadata": {},
   "outputs": [],
   "source": [
    "def fund_request_checker(file_list:list) -> pd.DataFrame:\n",
    "\n",
    "    for file in file_list:\n",
    "    \n",
    "        df = pd.read_excel(f\"{GCS_PATH}{file}\", nrows=40)\n",
    "        df = df.dropna(how= \"all\")\n",
    "    \n",
    "        if len(df.columns) == 13:\n",
    "            print(f\"{file} can use clean_fund_request func.\")\n",
    "        else: \n",
    "            print(f\"needs manual check, {file}\")\n",
    "       "
   ]
  },
  {
   "cell_type": "code",
   "execution_count": 51,
   "id": "fcb5cae6-9fa1-4d92-b4ad-5f5a935704c9",
   "metadata": {},
   "outputs": [],
   "source": [
    "def fund_request_checker_v2(file_list:list):\n",
    "    gtg_files = []\n",
    "    manual_review = []\n",
    "    for file in file_list:\n",
    "    \n",
    "        df = pd.read_excel(f\"{GCS_PATH}{file}\", nrows=40)\n",
    "        df = df.dropna(how= \"all\")\n",
    "    \n",
    "        if len(df.columns) == 13:\n",
    "            gtg_files.append(f\"{file}\")\n",
    "        else: \n",
    "            manual_review.append(f\"{file}\")\n",
    "    return display(\n",
    "        \"good to go files\",\n",
    "        list(gtg_files), \n",
    "        \"needs manual check\", \n",
    "        list(manual_review)\n",
    "    )"
   ]
  },
  {
   "cell_type": "code",
   "execution_count": 52,
   "id": "344d5b2f-f08c-45c1-a7b3-5e2b858c0cb6",
   "metadata": {},
   "outputs": [],
   "source": [
    "def fund_request_checker_v3(file_list:list) -> tuple:\n",
    "    gtg_files = []\n",
    "    manual_review = []\n",
    "    for file in file_list:\n",
    "    \n",
    "        df = pd.read_excel(f\"{GCS_PATH}{file}\", nrows=40)\n",
    "        df = df.dropna(how= \"all\")\n",
    "    \n",
    "        if len(df.columns) == 13:\n",
    "            gtg_files.append(f\"{file}\")\n",
    "        else: \n",
    "            manual_review.append(f\"{file}\")\n",
    "    return gtg_files, manual_review"
   ]
  },
  {
   "cell_type": "code",
   "execution_count": 13,
   "id": "dc8bbace-8253-4058-8614-818c34080aac",
   "metadata": {},
   "outputs": [],
   "source": [
    "alpine = data(\"alpine_fund_request.xlsx\")"
   ]
  },
  {
   "cell_type": "code",
   "execution_count": 22,
   "id": "53cd8adf-9827-4d62-8c23-dcfd1e69b2db",
   "metadata": {},
   "outputs": [
    {
     "data": {
      "text/plain": [
       "12"
      ]
     },
     "execution_count": 22,
     "metadata": {},
     "output_type": "execute_result"
    }
   ],
   "source": [
    "len(alpine.columns)"
   ]
  },
  {
   "cell_type": "code",
   "execution_count": 14,
   "id": "3ea4b613-ae57-45c5-a4d8-a76364e8ac62",
   "metadata": {},
   "outputs": [],
   "source": [
    "amador = data(\"amador_fund_request.xlsx\")"
   ]
  },
  {
   "cell_type": "code",
   "execution_count": 15,
   "id": "7f156cdd-4587-4abc-ba30-315600bc6413",
   "metadata": {},
   "outputs": [
    {
     "data": {
      "text/plain": [
       "RTPA                          object\n",
       "Implementing Agenc-y/-ies     object\n",
       "Project                       object\n",
       "Fund Source                   object\n",
       "capital_FY23-24              float64\n",
       "capital_FY24-25              float64\n",
       "capital_FY25-26              float64\n",
       "capital_FY26-27              float64\n",
       "operating_FY23-24            float64\n",
       "operating_FY24-25            float64\n",
       "operating_FY25-26            float64\n",
       "operating_FY26-27            float64\n",
       "dtype: object"
      ]
     },
     "metadata": {},
     "output_type": "display_data"
    },
    {
     "data": {
      "text/html": [
       "<div>\n",
       "<style scoped>\n",
       "    .dataframe tbody tr th:only-of-type {\n",
       "        vertical-align: middle;\n",
       "    }\n",
       "\n",
       "    .dataframe tbody tr th {\n",
       "        vertical-align: top;\n",
       "    }\n",
       "\n",
       "    .dataframe thead th {\n",
       "        text-align: right;\n",
       "    }\n",
       "</style>\n",
       "<table border=\"1\" class=\"dataframe\">\n",
       "  <thead>\n",
       "    <tr style=\"text-align: right;\">\n",
       "      <th></th>\n",
       "      <th>RTPA</th>\n",
       "      <th>Implementing Agenc-y/-ies</th>\n",
       "      <th>Project</th>\n",
       "      <th>Fund Source</th>\n",
       "      <th>capital_FY23-24</th>\n",
       "      <th>capital_FY24-25</th>\n",
       "      <th>capital_FY25-26</th>\n",
       "      <th>capital_FY26-27</th>\n",
       "      <th>operating_FY23-24</th>\n",
       "      <th>operating_FY24-25</th>\n",
       "      <th>operating_FY25-26</th>\n",
       "      <th>operating_FY26-27</th>\n",
       "    </tr>\n",
       "  </thead>\n",
       "  <tbody>\n",
       "    <tr>\n",
       "      <th>0</th>\n",
       "      <td>Alpine County Transportation Commission</td>\n",
       "      <td>Alpine County Transportation Commission</td>\n",
       "      <td>Transit Facility Conversion Project</td>\n",
       "      <td>TIRCP</td>\n",
       "      <td>360641.000</td>\n",
       "      <td>NaN</td>\n",
       "      <td>NaN</td>\n",
       "      <td>NaN</td>\n",
       "      <td>NaN</td>\n",
       "      <td>NaN</td>\n",
       "      <td>NaN</td>\n",
       "      <td>NaN</td>\n",
       "    </tr>\n",
       "    <tr>\n",
       "      <th>1</th>\n",
       "      <td>Alpine County Transportation Commission</td>\n",
       "      <td>Alpine County Transportation Commission</td>\n",
       "      <td>Transit Facility Conversion Project</td>\n",
       "      <td>TIRCP</td>\n",
       "      <td>NaN</td>\n",
       "      <td>360794.0</td>\n",
       "      <td>NaN</td>\n",
       "      <td>NaN</td>\n",
       "      <td>NaN</td>\n",
       "      <td>NaN</td>\n",
       "      <td>NaN</td>\n",
       "      <td>NaN</td>\n",
       "    </tr>\n",
       "    <tr>\n",
       "      <th>2</th>\n",
       "      <td>Alpine County Transportation Commission</td>\n",
       "      <td>Alpine County Transportation Commission</td>\n",
       "      <td>Transit Facility Conversion Project</td>\n",
       "      <td>ZETCP (GGRF)</td>\n",
       "      <td>3616.684</td>\n",
       "      <td>3781.0</td>\n",
       "      <td>3781.0</td>\n",
       "      <td>3781.0</td>\n",
       "      <td>NaN</td>\n",
       "      <td>NaN</td>\n",
       "      <td>NaN</td>\n",
       "      <td>NaN</td>\n",
       "    </tr>\n",
       "    <tr>\n",
       "      <th>3</th>\n",
       "      <td>Alpine County Transportation Commission</td>\n",
       "      <td>Alpine County Transportation Commission</td>\n",
       "      <td>Transit Facility Conversion Project</td>\n",
       "      <td>ZETCP (PTA)</td>\n",
       "      <td>3123.316</td>\n",
       "      <td>NaN</td>\n",
       "      <td>NaN</td>\n",
       "      <td>NaN</td>\n",
       "      <td>NaN</td>\n",
       "      <td>NaN</td>\n",
       "      <td>NaN</td>\n",
       "      <td>NaN</td>\n",
       "    </tr>\n",
       "    <tr>\n",
       "      <th>22</th>\n",
       "      <td>Grand Total</td>\n",
       "      <td>NaN</td>\n",
       "      <td>NaN</td>\n",
       "      <td>NaN</td>\n",
       "      <td>367381.000</td>\n",
       "      <td>364575.0</td>\n",
       "      <td>3781.0</td>\n",
       "      <td>3781.0</td>\n",
       "      <td>0.0</td>\n",
       "      <td>0.0</td>\n",
       "      <td>0.0</td>\n",
       "      <td>0.0</td>\n",
       "    </tr>\n",
       "  </tbody>\n",
       "</table>\n",
       "</div>"
      ],
      "text/plain": [
       "                                       RTPA  \\\n",
       "0   Alpine County Transportation Commission   \n",
       "1   Alpine County Transportation Commission   \n",
       "2   Alpine County Transportation Commission   \n",
       "3   Alpine County Transportation Commission   \n",
       "22                              Grand Total   \n",
       "\n",
       "                  Implementing Agenc-y/-ies  \\\n",
       "0   Alpine County Transportation Commission   \n",
       "1   Alpine County Transportation Commission   \n",
       "2   Alpine County Transportation Commission   \n",
       "3   Alpine County Transportation Commission   \n",
       "22                                      NaN   \n",
       "\n",
       "                                Project   Fund Source  capital_FY23-24  \\\n",
       "0   Transit Facility Conversion Project         TIRCP       360641.000   \n",
       "1   Transit Facility Conversion Project         TIRCP              NaN   \n",
       "2   Transit Facility Conversion Project  ZETCP (GGRF)         3616.684   \n",
       "3   Transit Facility Conversion Project   ZETCP (PTA)         3123.316   \n",
       "22                                  NaN           NaN       367381.000   \n",
       "\n",
       "    capital_FY24-25  capital_FY25-26  capital_FY26-27  operating_FY23-24  \\\n",
       "0               NaN              NaN              NaN                NaN   \n",
       "1          360794.0              NaN              NaN                NaN   \n",
       "2            3781.0           3781.0           3781.0                NaN   \n",
       "3               NaN              NaN              NaN                NaN   \n",
       "22         364575.0           3781.0           3781.0                0.0   \n",
       "\n",
       "    operating_FY24-25  operating_FY25-26  operating_FY26-27  \n",
       "0                 NaN                NaN                NaN  \n",
       "1                 NaN                NaN                NaN  \n",
       "2                 NaN                NaN                NaN  \n",
       "3                 NaN                NaN                NaN  \n",
       "22                0.0                0.0                0.0  "
      ]
     },
     "metadata": {},
     "output_type": "display_data"
    },
    {
     "data": {
      "text/plain": [
       "RTPA                          object\n",
       "Implementing Agenc-y/-ies     object\n",
       "Project                      float64\n",
       "Fund Source                   object\n",
       "capital_FY23-24              float64\n",
       "capital_FY24-25              float64\n",
       "capital_FY25-26              float64\n",
       "capital_FY26-27              float64\n",
       "operating_FY23-24            float64\n",
       "operating_FY24-25            float64\n",
       "operating_FY25-26            float64\n",
       "operating_FY26-27            float64\n",
       "dtype: object"
      ]
     },
     "metadata": {},
     "output_type": "display_data"
    },
    {
     "data": {
      "text/html": [
       "<div>\n",
       "<style scoped>\n",
       "    .dataframe tbody tr th:only-of-type {\n",
       "        vertical-align: middle;\n",
       "    }\n",
       "\n",
       "    .dataframe tbody tr th {\n",
       "        vertical-align: top;\n",
       "    }\n",
       "\n",
       "    .dataframe thead th {\n",
       "        text-align: right;\n",
       "    }\n",
       "</style>\n",
       "<table border=\"1\" class=\"dataframe\">\n",
       "  <thead>\n",
       "    <tr style=\"text-align: right;\">\n",
       "      <th></th>\n",
       "      <th>RTPA</th>\n",
       "      <th>Implementing Agenc-y/-ies</th>\n",
       "      <th>Project</th>\n",
       "      <th>Fund Source</th>\n",
       "      <th>capital_FY23-24</th>\n",
       "      <th>capital_FY24-25</th>\n",
       "      <th>capital_FY25-26</th>\n",
       "      <th>capital_FY26-27</th>\n",
       "      <th>operating_FY23-24</th>\n",
       "      <th>operating_FY24-25</th>\n",
       "      <th>operating_FY25-26</th>\n",
       "      <th>operating_FY26-27</th>\n",
       "    </tr>\n",
       "  </thead>\n",
       "  <tbody>\n",
       "    <tr>\n",
       "      <th>2</th>\n",
       "      <td>Amador County Transportation Commission</td>\n",
       "      <td>Amador County Transportation Commission</td>\n",
       "      <td>NaN</td>\n",
       "      <td>NaN</td>\n",
       "      <td>NaN</td>\n",
       "      <td>NaN</td>\n",
       "      <td>NaN</td>\n",
       "      <td>NaN</td>\n",
       "      <td>NaN</td>\n",
       "      <td>NaN</td>\n",
       "      <td>NaN</td>\n",
       "      <td>NaN</td>\n",
       "    </tr>\n",
       "    <tr>\n",
       "      <th>3</th>\n",
       "      <td>NaN</td>\n",
       "      <td>Amador Transit</td>\n",
       "      <td>NaN</td>\n",
       "      <td>TIRCP</td>\n",
       "      <td>100000.0</td>\n",
       "      <td>75000.0</td>\n",
       "      <td>NaN</td>\n",
       "      <td>NaN</td>\n",
       "      <td>NaN</td>\n",
       "      <td>NaN</td>\n",
       "      <td>NaN</td>\n",
       "      <td>NaN</td>\n",
       "    </tr>\n",
       "    <tr>\n",
       "      <th>20</th>\n",
       "      <td>Grand Total</td>\n",
       "      <td>NaN</td>\n",
       "      <td>NaN</td>\n",
       "      <td>NaN</td>\n",
       "      <td>100000.0</td>\n",
       "      <td>75000.0</td>\n",
       "      <td>0.0</td>\n",
       "      <td>0.0</td>\n",
       "      <td>0.0</td>\n",
       "      <td>0.0</td>\n",
       "      <td>0.0</td>\n",
       "      <td>0.0</td>\n",
       "    </tr>\n",
       "  </tbody>\n",
       "</table>\n",
       "</div>"
      ],
      "text/plain": [
       "                                       RTPA  \\\n",
       "2   Amador County Transportation Commission   \n",
       "3                                       NaN   \n",
       "20                              Grand Total   \n",
       "\n",
       "                  Implementing Agenc-y/-ies  Project Fund Source  \\\n",
       "2   Amador County Transportation Commission      NaN         NaN   \n",
       "3                            Amador Transit      NaN       TIRCP   \n",
       "20                                      NaN      NaN         NaN   \n",
       "\n",
       "    capital_FY23-24  capital_FY24-25  capital_FY25-26  capital_FY26-27  \\\n",
       "2               NaN              NaN              NaN              NaN   \n",
       "3          100000.0          75000.0              NaN              NaN   \n",
       "20         100000.0          75000.0              0.0              0.0   \n",
       "\n",
       "    operating_FY23-24  operating_FY24-25  operating_FY25-26  operating_FY26-27  \n",
       "2                 NaN                NaN                NaN                NaN  \n",
       "3                 NaN                NaN                NaN                NaN  \n",
       "20                0.0                0.0                0.0                0.0  "
      ]
     },
     "metadata": {},
     "output_type": "display_data"
    }
   ],
   "source": [
    "display(alpine.dtypes, \n",
    "        alpine,\n",
    "        amador.dtypes,\n",
    "    amador)"
   ]
  },
  {
   "cell_type": "code",
   "execution_count": null,
   "id": "537e168b-b782-4d3c-9ec1-86b9d2a64bc5",
   "metadata": {},
   "outputs": [],
   "source": [
    "fund_request_checker(file_list)"
   ]
  },
  {
   "cell_type": "code",
   "execution_count": null,
   "id": "b1965f54-be4f-4e3b-827e-3d90c0bd90f1",
   "metadata": {},
   "outputs": [],
   "source": [
    "fund_request_checker_v2(file_list)"
   ]
  },
  {
   "cell_type": "code",
   "execution_count": 53,
   "id": "431e7ffe-4f25-4942-a5fd-fd20ed5269f7",
   "metadata": {},
   "outputs": [],
   "source": [
    "good_list, review_list = fund_request_checker_v3(file_list)"
   ]
  },
  {
   "cell_type": "code",
   "execution_count": 55,
   "id": "91f570e9-a439-4ff6-a3c9-afad60b004c3",
   "metadata": {},
   "outputs": [
    {
     "data": {
      "text/plain": [
       "24"
      ]
     },
     "metadata": {},
     "output_type": "display_data"
    },
    {
     "data": {
      "text/plain": [
       "7"
      ]
     },
     "metadata": {},
     "output_type": "display_data"
    }
   ],
   "source": [
    "display(\n",
    "    len(good_list),\n",
    "    len(review_list)\n",
    ")"
   ]
  },
  {
   "cell_type": "code",
   "execution_count": null,
   "id": "40bbf779-2caf-43c2-87d4-33403090696b",
   "metadata": {},
   "outputs": [],
   "source": []
  }
 ],
 "metadata": {
  "kernelspec": {
   "display_name": "Python 3 (ipykernel)",
   "language": "python",
   "name": "python3"
  },
  "language_info": {
   "codemirror_mode": {
    "name": "ipython",
    "version": 3
   },
   "file_extension": ".py",
   "mimetype": "text/x-python",
   "name": "python",
   "nbconvert_exporter": "python",
   "pygments_lexer": "ipython3",
   "version": "3.9.13"
  }
 },
 "nbformat": 4,
 "nbformat_minor": 5
}
