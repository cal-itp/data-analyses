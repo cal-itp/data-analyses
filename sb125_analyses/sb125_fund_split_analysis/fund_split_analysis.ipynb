{
 "cells": [
  {
   "cell_type": "markdown",
   "id": "b7df6d2c-ad3e-4630-8690-975e48049278",
   "metadata": {},
   "source": [
    "# SB125 Fund Split Analysis"
   ]
  },
  {
   "cell_type": "markdown",
   "id": "42fdef6f-d9ca-419f-861e-54e94098b951",
   "metadata": {},
   "source": [
    "## Question:\n",
    "- How did RTAs split SB125 funds between operations and capital?"
   ]
  },
  {
   "cell_type": "markdown",
   "id": "56b377e1-5f8e-481b-af19-2a6ba2ff92e0",
   "metadata": {},
   "source": [
    "## Methodology:\n",
    "- upload all avilable `SB125 fund request template` files to gcs\n",
    "- examine all files for consistencies:\n",
    "    - come with cleaning plan for inconsistent examples (files withot capital/operating columns)\n",
    "- concat all rows across all files\n"
   ]
  },
  {
   "cell_type": "markdown",
   "id": "ed15b993-c361-4cd0-b1b6-facf2efbba1f",
   "metadata": {},
   "source": [
    "## Notes:\n",
    "- some RTPAs did not submit a `SB125 fund request template.xlsx` file, but instead included an quivilent file their allocation package"
   ]
  },
  {
   "cell_type": "code",
   "execution_count": 1,
   "id": "18bf8d66-e8cf-45bd-8d51-f316ad5eb588",
   "metadata": {},
   "outputs": [],
   "source": [
    "import altair as alt\n",
    "import pandas as pd\n",
    "\n",
    "pd.set_option(\"display.max_columns\", None)\n",
    "pd.set_option(\"display.max_rows\", None)\n",
    "\n",
    "GCS_PATH = \"gs://calitp-analytics-data/data-analyses/sb125/fund_split/\""
   ]
  },
  {
   "cell_type": "code",
   "execution_count": 2,
   "id": "1919aba4-aa2d-4c33-a5ba-db72b74de71d",
   "metadata": {},
   "outputs": [],
   "source": [
    "file_list = [\n",
    "    \"sierra_fund_request.xlsx\",\n",
    "    \"slocog_fund_request.xlsx\",\n",
    "    \"tehema_fund_request.xlsx\",\n",
    "    \"tuolumne_fund_request.xlsx\",\n",
    "    \"ventura_fund_request.xlsx\",\n",
    "    \"alpine_fund_request.xlsx\",\n",
    "    \"amador_fund_request.xlsx\",\n",
    "    \"butte_fund_request.xlsx\",\n",
    "    \"calaveras_fund_request.xlsx\",\n",
    "    \"del_norte_fund_request.xlsx\",\n",
    "    \"el_dorado_fund_request.xlsx\",\n",
    "    \"humboldt_fund_request.xlsx\",\n",
    "    \"kern_fund_request.xlsx\",\n",
    "    \"kings_fund_request.xlsx\",\n",
    "    \"la_metro_fund_request.xlsx\",\n",
    "    \"lake_fund_request.xlsx\",\n",
    "    \"lassen_fund_request.xlsx\",\n",
    "    \"madera_fund_request.xlsx\",\n",
    "    \"mariposa_fund_request.xlsx\",\n",
    "    \"mendocino_fund_request.xlsx\",\n",
    "    \"merced_fund_request.xlsx\",\n",
    "    \"mtc_fund_request.xlsx\",\n",
    "    \"nevada_fund_request.xlsx\",\n",
    "    \"orange_fund_request.xlsx\",\n",
    "    \"placer_fund_request.xlsx\",\n",
    "    \"plumas_fund_request.xlsx\",\n",
    "    \"riverside_fund_request.xlsx\",\n",
    "    \"san_benito_fund_request.xlsx\",\n",
    "    \"san_diego_mts_fund_request.xlsx\",\n",
    "    \"santa_cruz_fund_request.xlsx\",\n",
    "    \"shasta_fund_request.xlsx\",\n",
    "]\n",
    "\n",
    "file_list.sort()"
   ]
  },
  {
   "cell_type": "code",
   "execution_count": 3,
   "id": "a553a440-29f0-4e86-8dc2-1efd1947d775",
   "metadata": {},
   "outputs": [],
   "source": [
    "def clean_fund_request(file: str) -> pd.DataFrame:\n",
    "    \"\"\"\n",
    "    reads in the file from GCS, maps col_names list to df columns, drops all the blank rows.\n",
    "    returns df.\n",
    "    \"\"\"\n",
    "    col_names = [\n",
    "        \"rtpa\",\n",
    "        \"implementing agenc-y/-ies\",\n",
    "        \"project\",\n",
    "        \"fund source\",\n",
    "        \"capital_FY23-24\",\n",
    "        \"capital_FY24-25\",\n",
    "        \"capital_FY25-26\",\n",
    "        \"capital_FY26-27\",\n",
    "        \"operating_FY23-24\",\n",
    "        \"operating_FY24-25\",\n",
    "        \"operating_FY25-26\",\n",
    "        \"operating_FY26-27\",\n",
    "        \"total\",\n",
    "    ]\n",
    "\n",
    "    df = pd.read_excel(f\"{GCS_PATH}{file}\", header=2, nrows=40, names=col_names).drop(\n",
    "        columns=\"total\"\n",
    "    )\n",
    "    row_drop = df[\"rtpa\"].isin([\"Grand Total\", \"RTPA\"])\n",
    "    df = df.drop(df[row_drop].index)\n",
    "    df = df.dropna(how=\"all\")\n",
    "    df[[\"rtpa\", \"implementing agenc-y/-ies\", \"project\"]] = df[\n",
    "        [\"rtpa\", \"implementing agenc-y/-ies\", \"project\"]\n",
    "    ].ffill()\n",
    "\n",
    "    return df"
   ]
  },
  {
   "cell_type": "markdown",
   "id": "7ae32134-236e-47e7-bd79-73a016c53ad9",
   "metadata": {},
   "source": [
    "first iteration of fund_request_checker func.\n",
    ">def read_in(file:str) -> pd.DataFrame:\n",
    ">    df = pd.read_excel(f\"{GCS_PATH}{file}\", nrows=40)\n",
    ">    df = df.dropna(how= \"all\")\n",
    ">   \n",
    ">    if len(df.columns) == 13:\n",
    ">        print(f\"{file} can use clean_fund_request func.\")\n",
    ">    else: \n",
    ">        print(f\"needs manual check, {file}\")\n",
    "       "
   ]
  },
  {
   "cell_type": "markdown",
   "id": "af0d2867-2378-4098-ab7f-daa2b24dd5bb",
   "metadata": {},
   "source": [
    "old iteration\n",
    ">def fund_request_checker(file_list:list) -> pd.DataFrame:\n",
    ">\n",
    ">    for file in file_list:\n",
    ">    \n",
    ">        df = pd.read_excel(f\"{GCS_PATH}{file}\", nrows=40)\n",
    ">        df = df.dropna(how= \"all\")\n",
    ">    \n",
    ">        if len(df.columns) == 13:\n",
    ">            print(f\"{file} can use clean_fund_request func.\")\n",
    ">        else: \n",
    ">            print(f\"needs manual check, {file}\")\n",
    "       "
   ]
  },
  {
   "cell_type": "code",
   "execution_count": 4,
   "id": "537e168b-b782-4d3c-9ec1-86b9d2a64bc5",
   "metadata": {},
   "outputs": [],
   "source": [
    "# fund_request_checker(file_list)"
   ]
  },
  {
   "cell_type": "markdown",
   "id": "af620f61-c99f-48a6-9566-41fb4e3fc87e",
   "metadata": {},
   "source": [
    "old iteration\n",
    ">def fund_request_checker_v2(file_list:list):\n",
    ">    gtg_files = []\n",
    ">    manual_review = []\n",
    ">    for file in file_list:\n",
    ">    \n",
    ">        df = pd.read_excel(f\"{GCS_PATH}{file}\", nrows=40)\n",
    ">        df = df.dropna(how= \"all\")\n",
    ">    \n",
    ">        if len(df.columns) == 13:\n",
    ">            gtg_files.append(f\"{file}\")\n",
    ">        else: \n",
    ">            manual_review.append(f\"{file}\")\n",
    ">    return display(\n",
    ">        \"good to go files\",\n",
    ">        list(gtg_files), \n",
    ">        \"needs manual check\", \n",
    ">        list(manual_review)\n",
    ">    )"
   ]
  },
  {
   "cell_type": "code",
   "execution_count": 5,
   "id": "b1965f54-be4f-4e3b-827e-3d90c0bd90f1",
   "metadata": {},
   "outputs": [],
   "source": [
    "# fund_request_checker_v2(file_list)"
   ]
  },
  {
   "cell_type": "markdown",
   "id": "03cd7d54-6464-4e57-a268-e704de1f4719",
   "metadata": {},
   "source": [
    "# Cleaning the easy DFs"
   ]
  },
  {
   "cell_type": "code",
   "execution_count": 6,
   "id": "344d5b2f-f08c-45c1-a7b3-5e2b858c0cb6",
   "metadata": {},
   "outputs": [],
   "source": [
    "def fund_request_checker_v3(file_list: list) -> tuple:\n",
    "    \"\"\"takes in list of fund_request excel file name. reads in each file, checks if DF has 13 columns.\n",
    "    if yes, appends do good-to-go list. else, appends to needs-manual-review.\n",
    "    output is a tuple of the 2 list.\n",
    "    assign 2 variables to use this func.\n",
    "    \"\"\"\n",
    "    gtg_files = []\n",
    "    manual_review = []\n",
    "    for file in file_list:\n",
    "\n",
    "        df = pd.read_excel(f\"{GCS_PATH}{file}\", nrows=40)\n",
    "        df = df.dropna(how=\"all\")\n",
    "\n",
    "        if len(df.columns) == 13:\n",
    "            gtg_files.append(f\"{file}\")\n",
    "        else:\n",
    "            manual_review.append(f\"{file}\")\n",
    "    return gtg_files, manual_review"
   ]
  },
  {
   "cell_type": "code",
   "execution_count": 7,
   "id": "431e7ffe-4f25-4942-a5fd-fd20ed5269f7",
   "metadata": {},
   "outputs": [],
   "source": [
    "good_list, review_list = fund_request_checker_v3(file_list)"
   ]
  },
  {
   "cell_type": "code",
   "execution_count": 8,
   "id": "91f570e9-a439-4ff6-a3c9-afad60b004c3",
   "metadata": {},
   "outputs": [
    {
     "data": {
      "text/plain": [
       "24"
      ]
     },
     "metadata": {},
     "output_type": "display_data"
    },
    {
     "data": {
      "text/plain": [
       "7"
      ]
     },
     "metadata": {},
     "output_type": "display_data"
    }
   ],
   "source": [
    "display(len(good_list), len(review_list))"
   ]
  },
  {
   "cell_type": "code",
   "execution_count": 9,
   "id": "6030a8e8-b5e8-4645-852f-1284c37a1191",
   "metadata": {},
   "outputs": [],
   "source": [
    "def cleaner_loop(gtg_list: list) -> dict:\n",
    "    \"\"\"\n",
    "    takes in good-to-go list from fund_request_checker.\n",
    "    applies the clean_fund_request function to each item on the list, then appends to dictionary.\n",
    "    key is name of the file, value is the cleaned dataframe.\n",
    "    output is dictionary.\n",
    "    \"\"\"\n",
    "    cleaned_df = {}\n",
    "\n",
    "    for name in gtg_list:\n",
    "        cleaned_df[name] = clean_fund_request(name)\n",
    "    return cleaned_df"
   ]
  },
  {
   "cell_type": "code",
   "execution_count": 10,
   "id": "8841bb0a-9994-455a-abc8-d8670ed9f8c1",
   "metadata": {},
   "outputs": [],
   "source": [
    "cleaned_fund_request = cleaner_loop(good_list)"
   ]
  },
  {
   "cell_type": "code",
   "execution_count": 11,
   "id": "711f1a32-7cb2-4482-b322-913535a7c822",
   "metadata": {},
   "outputs": [
    {
     "data": {
      "text/plain": [
       "dict"
      ]
     },
     "metadata": {},
     "output_type": "display_data"
    },
    {
     "data": {
      "text/plain": [
       "24"
      ]
     },
     "metadata": {},
     "output_type": "display_data"
    },
    {
     "data": {
      "text/plain": [
       "['alpine_fund_request.xlsx',\n",
       " 'amador_fund_request.xlsx',\n",
       " 'calaveras_fund_request.xlsx',\n",
       " 'del_norte_fund_request.xlsx',\n",
       " 'el_dorado_fund_request.xlsx',\n",
       " 'humboldt_fund_request.xlsx',\n",
       " 'kings_fund_request.xlsx',\n",
       " 'la_metro_fund_request.xlsx',\n",
       " 'lake_fund_request.xlsx',\n",
       " 'madera_fund_request.xlsx',\n",
       " 'mariposa_fund_request.xlsx',\n",
       " 'mendocino_fund_request.xlsx',\n",
       " 'merced_fund_request.xlsx',\n",
       " 'nevada_fund_request.xlsx',\n",
       " 'placer_fund_request.xlsx',\n",
       " 'plumas_fund_request.xlsx',\n",
       " 'riverside_fund_request.xlsx',\n",
       " 'san_benito_fund_request.xlsx',\n",
       " 'san_diego_mts_fund_request.xlsx',\n",
       " 'shasta_fund_request.xlsx',\n",
       " 'sierra_fund_request.xlsx',\n",
       " 'slocog_fund_request.xlsx',\n",
       " 'tehema_fund_request.xlsx',\n",
       " 'tuolumne_fund_request.xlsx']"
      ]
     },
     "metadata": {},
     "output_type": "display_data"
    }
   ],
   "source": [
    "display(\n",
    "    type(cleaned_fund_request),\n",
    "    len(cleaned_fund_request),\n",
    "    list(cleaned_fund_request.keys()),\n",
    ")"
   ]
  },
  {
   "cell_type": "code",
   "execution_count": 12,
   "id": "57bca52a-e8f8-4064-99ab-5d1c950b76c4",
   "metadata": {},
   "outputs": [
    {
     "name": "stdout",
     "output_type": "stream",
     "text": [
      "DataFrame: alpine_fund_request.xlsx\n",
      "DataFrame: amador_fund_request.xlsx\n",
      "DataFrame: calaveras_fund_request.xlsx\n",
      "DataFrame: del_norte_fund_request.xlsx\n",
      "DataFrame: el_dorado_fund_request.xlsx\n",
      "DataFrame: humboldt_fund_request.xlsx\n",
      "DataFrame: kings_fund_request.xlsx\n",
      "DataFrame: la_metro_fund_request.xlsx\n",
      "DataFrame: lake_fund_request.xlsx\n",
      "DataFrame: madera_fund_request.xlsx\n",
      "DataFrame: mariposa_fund_request.xlsx\n",
      "DataFrame: mendocino_fund_request.xlsx\n",
      "DataFrame: merced_fund_request.xlsx\n",
      "DataFrame: nevada_fund_request.xlsx\n",
      "DataFrame: placer_fund_request.xlsx\n",
      "DataFrame: plumas_fund_request.xlsx\n",
      "DataFrame: riverside_fund_request.xlsx\n",
      "DataFrame: san_benito_fund_request.xlsx\n",
      "DataFrame: san_diego_mts_fund_request.xlsx\n",
      "DataFrame: shasta_fund_request.xlsx\n",
      "DataFrame: sierra_fund_request.xlsx\n",
      "DataFrame: slocog_fund_request.xlsx\n",
      "DataFrame: tehema_fund_request.xlsx\n",
      "DataFrame: tuolumne_fund_request.xlsx\n"
     ]
    }
   ],
   "source": [
    "# view all the good-to-go df\n",
    "\n",
    "from IPython.display import display\n",
    "\n",
    "# .items() creates tuples of each element in the dict. key:value maps to key:df\n",
    "\n",
    "for key, df in cleaned_fund_request.items():\n",
    "    print(f\"DataFrame: {key}\")\n",
    "    # display(df)"
   ]
  },
  {
   "cell_type": "markdown",
   "id": "0b9ad819-c321-45e7-9839-50c0fb0fb5c6",
   "metadata": {
    "tags": []
   },
   "source": [
    "# Cleaning individual good DFs"
   ]
  },
  {
   "cell_type": "markdown",
   "id": "cd0da154-f912-4cb4-b037-412e3d1b4a45",
   "metadata": {},
   "source": [
    "## DONE Humboldt "
   ]
  },
  {
   "cell_type": "code",
   "execution_count": 13,
   "id": "71de3eaf-be5b-467b-8795-239439e789b9",
   "metadata": {},
   "outputs": [],
   "source": [
    "def clean_humboldt():\n",
    "    cleaned_fund_request[\"humboldt_fund_request.xlsx\"][\n",
    "    [\"operating_FY24-25\", \"operating_FY25-26\", \"operating_FY26-27\"]\n",
    "] = cleaned_fund_request[\"humboldt_fund_request.xlsx\"][\n",
    "    [\"operating_FY24-25\", \"operating_FY25-26\", \"operating_FY26-27\"]\n",
    "].replace(\n",
    "    \"-\", 0\n",
    ")\n",
    "    return"
   ]
  },
  {
   "cell_type": "code",
   "execution_count": 14,
   "id": "c76bad8f-0a58-4c3a-aacf-9e572394aaec",
   "metadata": {},
   "outputs": [],
   "source": [
    "clean_humboldt()"
   ]
  },
  {
   "cell_type": "markdown",
   "id": "5d708176-469c-4579-9ad5-4e20ffcabba9",
   "metadata": {},
   "source": [
    "## DONE Amador"
   ]
  },
  {
   "cell_type": "code",
   "execution_count": 15,
   "id": "23289d3b-d640-4853-928c-3f0d43c6e3d2",
   "metadata": {},
   "outputs": [],
   "source": [
    "def clean_amador():\n",
    "    cleaned_fund_request[\"amador_fund_request.xlsx\"] = cleaned_fund_request[\n",
    "    \"amador_fund_request.xlsx\"\n",
    "    ][cleaned_fund_request[\"amador_fund_request.xlsx\"][\"fund source\"].notna()\n",
    "     ]\n",
    "    return"
   ]
  },
  {
   "cell_type": "code",
   "execution_count": 16,
   "id": "9900cf51-185f-45ce-abb6-f070cbedffe7",
   "metadata": {},
   "outputs": [],
   "source": [
    "clean_amador()"
   ]
  },
  {
   "cell_type": "markdown",
   "id": "09de511b-222f-4bb6-81aa-e6ed4175751b",
   "metadata": {},
   "source": [
    "## DONE Merced"
   ]
  },
  {
   "cell_type": "code",
   "execution_count": 17,
   "id": "ff1d3d1d-029f-4124-9c1b-e876c8c0a785",
   "metadata": {},
   "outputs": [],
   "source": [
    "def clean_merced():\n",
    "    cleaned_fund_request[\"merced_fund_request.xlsx\"]= cleaned_fund_request[\n",
    "    \"merced_fund_request.xlsx\"][cleaned_fund_request[\"merced_fund_request.xlsx\"][\"project\"].notna()].drop([34, 36, 37])\n",
    "    \n",
    "    # is there another way to update these values that doesnt include using the number index\n",
    "    cleaned_fund_request[\"merced_fund_request.xlsx\"].at[13, \"fund source\"] = \"`5339\"\n",
    "    cleaned_fund_request[\"merced_fund_request.xlsx\"].at[19, \"fund source\"] = \"`5307\"\n",
    "    \n",
    "    return"
   ]
  },
  {
   "cell_type": "code",
   "execution_count": 18,
   "id": "dd7ef0e9-c655-49a5-b5e6-b5a7ae06ad61",
   "metadata": {},
   "outputs": [],
   "source": [
    "clean_merced()"
   ]
  },
  {
   "cell_type": "markdown",
   "id": "391a6e0b-0421-424f-8f91-1b67914fc184",
   "metadata": {},
   "source": [
    "## DONE San Benito"
   ]
  },
  {
   "cell_type": "code",
   "execution_count": 19,
   "id": "57454f22-62d6-4479-b7d0-667ff1fffdf7",
   "metadata": {},
   "outputs": [],
   "source": [
    "def clean_san_benito():\n",
    "    cleaned_fund_request[\"san_benito_fund_request.xlsx\"] = cleaned_fund_request[\"san_benito_fund_request.xlsx\"][\n",
    "    cleaned_fund_request[\"san_benito_fund_request.xlsx\"][\"fund source\"].notna()]\n",
    "    \n",
    "    return"
   ]
  },
  {
   "cell_type": "code",
   "execution_count": 20,
   "id": "dc8295fd-8f60-4bbd-a2f9-606c89f27610",
   "metadata": {},
   "outputs": [],
   "source": [
    "clean_san_benito()"
   ]
  },
  {
   "cell_type": "markdown",
   "id": "158072aa-f51b-430d-8608-48eb96b8826f",
   "metadata": {},
   "source": [
    "## DONE San Diego MTS"
   ]
  },
  {
   "cell_type": "code",
   "execution_count": 21,
   "id": "a4624876-8648-4204-b792-f6e1d79ed0b2",
   "metadata": {},
   "outputs": [],
   "source": [
    "def clean_mts():\n",
    "    cleaned_fund_request[\"san_diego_mts_fund_request.xlsx\"] = cleaned_fund_request[\"san_diego_mts_fund_request.xlsx\"].iloc[7:]\n",
    "    \n",
    "    return"
   ]
  },
  {
   "cell_type": "code",
   "execution_count": 22,
   "id": "c7f21cfa-2bc5-42f9-80f9-5de78064a32b",
   "metadata": {},
   "outputs": [],
   "source": [
    "clean_mts()"
   ]
  },
  {
   "cell_type": "markdown",
   "id": "006c02d9-2fc5-4c45-9566-d5d43947df56",
   "metadata": {},
   "source": [
    "## DONE Sierra"
   ]
  },
  {
   "cell_type": "code",
   "execution_count": 23,
   "id": "25d5d8c7-f100-418a-8b80-e16dae728220",
   "metadata": {},
   "outputs": [],
   "source": [
    "def clean_sierra():\n",
    "    cleaned_fund_request[\"sierra_fund_request.xlsx\"] = cleaned_fund_request[\"sierra_fund_request.xlsx\"].iloc[:-8]\n",
    "    \n",
    "    return"
   ]
  },
  {
   "cell_type": "code",
   "execution_count": 24,
   "id": "28956db4-1d0f-476c-be76-e7b087c6e5dd",
   "metadata": {},
   "outputs": [],
   "source": [
    "clean_sierra()"
   ]
  },
  {
   "cell_type": "markdown",
   "id": "641a3a67-a3df-4ebd-872c-3e67c8894fa2",
   "metadata": {},
   "source": [
    "## DONE Nevada"
   ]
  },
  {
   "cell_type": "code",
   "execution_count": 25,
   "id": "e544353c-3d19-4794-9aff-2a5529b00379",
   "metadata": {},
   "outputs": [],
   "source": [
    "def clean_nevada():\n",
    "    cleaned_fund_request[\"nevada_fund_request.xlsx\"]=cleaned_fund_request[\"nevada_fund_request.xlsx\"][\n",
    "    cleaned_fund_request[\"nevada_fund_request.xlsx\"][\"fund source\"].notna()]\n",
    "    \n",
    "    return"
   ]
  },
  {
   "cell_type": "code",
   "execution_count": 26,
   "id": "497d7c02-6737-43ad-a2bf-cb34ef97f6a3",
   "metadata": {},
   "outputs": [],
   "source": [
    "clean_nevada()"
   ]
  },
  {
   "cell_type": "markdown",
   "id": "41b0d60b-94e4-4e3f-a70c-0a6487fb542c",
   "metadata": {},
   "source": [
    "## DONE Plumas"
   ]
  },
  {
   "cell_type": "code",
   "execution_count": 27,
   "id": "428fc358-b4de-4670-9b86-6733d3165573",
   "metadata": {},
   "outputs": [],
   "source": [
    "def clean_plumas():\n",
    "    cleaned_fund_request[\"plumas_fund_request.xlsx\"]=cleaned_fund_request[\"plumas_fund_request.xlsx\"][cleaned_fund_request[\"plumas_fund_request.xlsx\"][\n",
    "    \"fund source\"].notna()]\n",
    "    \n",
    "    return"
   ]
  },
  {
   "cell_type": "code",
   "execution_count": 28,
   "id": "c635c5b1-f53c-41ae-913d-ad0774d302d0",
   "metadata": {},
   "outputs": [],
   "source": [
    "clean_plumas()"
   ]
  },
  {
   "cell_type": "markdown",
   "id": "564513c3-d29e-4daa-883b-2ed02c5464e7",
   "metadata": {
    "tags": []
   },
   "source": [
    "# Attempt to clean bad DFs"
   ]
  },
  {
   "cell_type": "code",
   "execution_count": 29,
   "id": "a0cfb8aa-004e-4df2-b855-408bb100b77f",
   "metadata": {},
   "outputs": [],
   "source": [
    "col_names = [\n",
    "    \"rtpa\",\n",
    "    \"implementing agenc-y/-ies\",\n",
    "    \"project\",\n",
    "    \"fund source\",\n",
    "    \"capital_FY23-24\",\n",
    "    \"capital_FY24-25\",\n",
    "    \"capital_FY25-26\",\n",
    "    \"capital_FY26-27\",\n",
    "    \"operating_FY23-24\",\n",
    "    \"operating_FY24-25\",\n",
    "    \"operating_FY25-26\",\n",
    "    \"operating_FY26-27\",\n",
    "    \"total\",\n",
    "]"
   ]
  },
  {
   "cell_type": "markdown",
   "id": "008521fc-549c-456f-85b0-606c4a52d8d4",
   "metadata": {},
   "source": [
    "## DONE Lassen"
   ]
  },
  {
   "cell_type": "code",
   "execution_count": 30,
   "id": "98ddef3b-2916-4e42-ab34-478cead498fb",
   "metadata": {},
   "outputs": [],
   "source": [
    "def clean_lassen():\n",
    "    lassen = pd.read_excel(\n",
    "        f\"{GCS_PATH}lassen_fund_request.xlsx\",\n",
    "        sheet_name=\"D.2. Detailed Fund Request\",\n",
    "        skiprows=6,\n",
    "        header=0,\n",
    "        skipfooter=12,\n",
    "    ).drop(columns=[\"Unnamed: 0\", \"Project Type\", \"Operator\"])\n",
    "\n",
    "    # can work with this. may be able to remove the top rows then use cleaner loop\n",
    "    lassen.columns = col_names\n",
    "    lassen_cleaned = lassen.drop(columns=\"total\")\n",
    "    \n",
    "    return lassen_cleaned\n"
   ]
  },
  {
   "cell_type": "code",
   "execution_count": 31,
   "id": "6bcedb83-ebad-4ab8-9e48-4302141a2be0",
   "metadata": {},
   "outputs": [],
   "source": [
    "lassen_cleaned = clean_lassen()"
   ]
  },
  {
   "cell_type": "markdown",
   "id": "5127c489-051a-42ec-bccd-fcdce21d9a53",
   "metadata": {
    "tags": []
   },
   "source": [
    "## DONE Butte"
   ]
  },
  {
   "cell_type": "code",
   "execution_count": 32,
   "id": "f7e66f48-3cab-41ab-91a4-08a4e5dfefe5",
   "metadata": {
    "tags": []
   },
   "outputs": [],
   "source": [
    "# CLEANED COMPLETE\n",
    "def clean_butte():\n",
    "    butte = pd.read_excel(\n",
    "        f\"{GCS_PATH}butte_fund_request.xlsx\",\n",
    "        skiprows=2,\n",
    "        header=0,\n",
    "        skipfooter=17,\n",
    "    )\n",
    "\n",
    "    butte_cleaned = butte.copy()\n",
    "\n",
    "    butte_cleaned[[\"RTPA\", \"Implementing Agenc-y/-ies\", \"Project\"]] = butte_cleaned[\n",
    "        [\"RTPA\", \"Implementing Agenc-y/-ies\", \"Project\"]\n",
    "    ].ffill()\n",
    "\n",
    "    butte_cleaned.insert(6, \"operations FY25-26\", 0)\n",
    "    butte_cleaned.insert(7, \"operations FY26-27\", 0)\n",
    "    butte_cleaned.columns = [\n",
    "        \"rtpa\",\n",
    "        \"implementing agenc-y/-ies\",\n",
    "        \"project\",\n",
    "        \"fund source\",\n",
    "        \"operating_FY23-24\",\n",
    "        \"operating_FY24-25\",\n",
    "        \"operating_FY25-26\",\n",
    "        \"operating_FY26-27\",\n",
    "        \"capital_FY23-24\",\n",
    "        \"capital_FY24-25\",\n",
    "        \"capital_FY25-26\",\n",
    "        \"capital_FY26-27\",\n",
    "        \"total\",\n",
    "    ]\n",
    "    butte_cleaned = butte_cleaned.drop(columns=\"total\")\n",
    "\n",
    "    return butte_cleaned"
   ]
  },
  {
   "cell_type": "code",
   "execution_count": 33,
   "id": "9b5f3a98-1ab5-4795-b90d-008c209a335f",
   "metadata": {},
   "outputs": [],
   "source": [
    "butte_cleaned = clean_butte()"
   ]
  },
  {
   "cell_type": "markdown",
   "id": "3795f7c5-a6d1-4ec4-ae42-edc0cf629773",
   "metadata": {},
   "source": [
    "## DONE MTC"
   ]
  },
  {
   "cell_type": "code",
   "execution_count": 71,
   "id": "4f1de9b2-9288-4fd1-8249-e437f373cea1",
   "metadata": {},
   "outputs": [],
   "source": [
    "# CLEANED COMPLETE\n",
    "\n",
    "def clean_mtc():\n",
    "    mtc = pd.read_excel(\n",
    "        f\"{GCS_PATH}mtc_fund_request.xlsx\", skiprows=2, header=0, skipfooter=21\n",
    "    ).drop(columns=[\"Unnamed: 13\", \"Unnamed: 14\", \"Unnamed: 15\"])\n",
    "\n",
    "    mtc_cleaned = mtc.copy()\n",
    "    mtc_cleaned.columns = col_names\n",
    "    mtc_cleaned = mtc_cleaned.drop(columns=\"total\")\n",
    "    \n",
    "    return mtc_cleaned"
   ]
  },
  {
   "cell_type": "code",
   "execution_count": 74,
   "id": "4f81fa17-2e8e-46b7-9377-8aeee074d611",
   "metadata": {},
   "outputs": [
    {
     "data": {
      "text/plain": [
       "(16, 12)"
      ]
     },
     "metadata": {},
     "output_type": "display_data"
    },
    {
     "data": {
      "text/plain": [
       "Index(['rtpa', 'implementing agenc-y/-ies', 'project', 'fund source',\n",
       "       'capital_FY23-24', 'capital_FY24-25', 'capital_FY25-26',\n",
       "       'capital_FY26-27', 'operating_FY23-24', 'operating_FY24-25',\n",
       "       'operating_FY25-26', 'operating_FY26-27'],\n",
       "      dtype='object')"
      ]
     },
     "metadata": {},
     "output_type": "display_data"
    }
   ],
   "source": [
    "mtc_cleaned = clean_mtc()\n",
    "\n",
    "display(\n",
    "    mtc_cleaned.shape,\n",
    "    mtc_cleaned.columns,\n",
    "    #mtc_cleaned\n",
    ")"
   ]
  },
  {
   "cell_type": "markdown",
   "id": "6a861ff9-eb34-4dd2-bbf6-fd83eb1d835d",
   "metadata": {},
   "source": [
    "## DONE Orange"
   ]
  },
  {
   "cell_type": "code",
   "execution_count": 75,
   "id": "0ef6725b-8db5-4398-b861-41a8e256d01d",
   "metadata": {},
   "outputs": [],
   "source": [
    "# CLEANED COMPLETE\n",
    "def clean_orange():\n",
    "    orange = pd.read_excel(\n",
    "        f\"{GCS_PATH}orange_fund_request.xlsx\", skiprows=3, header=0, skipfooter=1\n",
    "    )\n",
    "\n",
    "    orange_cleaned = orange.copy()\n",
    "\n",
    "    orange_cleaned.rename(columns={\"Unnamed: 0\": \"RTPA\"}, inplace=True)\n",
    "    orange_cleaned[\"RTPA\"] = \"OCTA\"\n",
    "    orange_cleaned = orange_cleaned.drop(\n",
    "        columns=[\"FY27-28\", \"FY28-29\", \"FY27-28.1\", \"FY28-29.1\"]\n",
    "    )\n",
    "\n",
    "    orange_cleaned.columns = col_names\n",
    "    orange_cleaned = orange_cleaned.drop(columns=\"total\")\n",
    "    \n",
    "    return orange_cleaned"
   ]
  },
  {
   "cell_type": "code",
   "execution_count": 78,
   "id": "2fdd2e1a-b365-469e-acbf-f9ee577e0720",
   "metadata": {},
   "outputs": [
    {
     "data": {
      "text/plain": [
       "(15, 12)"
      ]
     },
     "metadata": {},
     "output_type": "display_data"
    }
   ],
   "source": [
    "orange_cleaned = clean_orange()\n",
    "\n",
    "display(\n",
    "    orange_cleaned.shape,\n",
    "    #orange_cleaned\n",
    ")"
   ]
  },
  {
   "cell_type": "markdown",
   "id": "ba097039-6724-4540-bf19-402fe5609a91",
   "metadata": {},
   "source": [
    "## DONE Santa Cruz"
   ]
  },
  {
   "cell_type": "code",
   "execution_count": 79,
   "id": "ddfd019d-3a2d-4b11-bc51-74f03a87c11f",
   "metadata": {},
   "outputs": [],
   "source": [
    "# CLEANED COMPLETE\n",
    "def clean_santa_cruz():\n",
    "    santa_cruz = pd.read_excel(\n",
    "        f\"{GCS_PATH}santa_cruz_fund_request.xlsx\", skiprows=4, header=0, skipfooter=5\n",
    "    ).iloc[:, 0:13]\n",
    "\n",
    "    santa_cruz_cleaned = santa_cruz.copy()\n",
    "\n",
    "    santa_cruz_cleaned.columns = col_names\n",
    "    santa_cruz_cleaned.drop(columns=\"total\", inplace=True)\n",
    "    \n",
    "    return santa_cruz_cleaned"
   ]
  },
  {
   "cell_type": "code",
   "execution_count": 82,
   "id": "4b4ddea2-a597-47e7-9542-6292c13e5e73",
   "metadata": {},
   "outputs": [
    {
     "data": {
      "text/plain": [
       "(8, 12)"
      ]
     },
     "metadata": {},
     "output_type": "display_data"
    }
   ],
   "source": [
    "santa_cruz_cleaned = clean_santa_cruz()\n",
    "\n",
    "display(\n",
    "    santa_cruz_cleaned.shape,\n",
    "    #santa_cruz_cleaned\n",
    ")"
   ]
  },
  {
   "cell_type": "markdown",
   "id": "ee90cda1-8fe7-495c-9033-74bf95bc9759",
   "metadata": {},
   "source": [
    "## DONE Ventura"
   ]
  },
  {
   "cell_type": "code",
   "execution_count": 92,
   "id": "d13d495c-56e9-4945-93da-a449d77ae8e1",
   "metadata": {},
   "outputs": [],
   "source": [
    "def clean_ventura():\n",
    "    #clean TIRCP sections\n",
    "    ventura_tircp_capital = pd.read_excel(\n",
    "    f\"{GCS_PATH}ventura_fund_request.xlsx\",\n",
    "    sheet_name=\"Project Breakdown\",\n",
    "    skiprows=2,\n",
    "    header=0,\n",
    "    skipfooter=40,\n",
    "    )\n",
    "    \n",
    "    ventura_tircp_operating = pd.read_excel(\n",
    "        f\"{GCS_PATH}ventura_fund_request.xlsx\",\n",
    "        sheet_name=\"Project Breakdown\",\n",
    "        skiprows=51,\n",
    "        header=0,\n",
    "        skipfooter=1,\n",
    "    )\n",
    "    \n",
    "    ventura_tircp_merge = ventura_tircp_capital.merge(\n",
    "        ventura_tircp_operating,\n",
    "        how=\"outer\",\n",
    "        on=[\"Implementing Agenc-y/-ies\", \"Project Category\", \"Project\"],\n",
    "        suffixes=[\"_capital\", \"_operating\"],\n",
    "    ).drop(\n",
    "        columns=[\n",
    "            \"Year Requested\",\n",
    "            \"Unnamed: 8_capital\",\n",
    "            \"Unnamed: 8_operating\",\n",
    "            \"Project Category\",\n",
    "        ]\n",
    "    )\n",
    "    \n",
    "    #merging TIRCP sections\n",
    "    ventura_tircp_merge[\"rtpa\"] = \"VCTC\"\n",
    "    ventura_tircp_merge[\"Fund Source\"] = \"TIRCP\"\n",
    "\n",
    "    ventura_col_dict = {\n",
    "        \"Implementing Agenc-y/-ies\": \"implementing agenc-y/-ies\",\n",
    "        \"Project\": \"project\",\n",
    "        \"Fund Source\": \"fund source\",\n",
    "        \"FY23-24_capital\": \"capital_FY23-24\",\n",
    "        \"FY24-25_capital\": \"capital_FY24-25\",\n",
    "        \"FY25-26_capital\": \"capital_FY25-26\",\n",
    "        \"FY26-27_capital\": \"capital_FY26-27\",\n",
    "        \"FY23-24_operating\": \"operating_FY23-24\",\n",
    "        \"FY24-25_operating\": \"operating_FY24-25\",\n",
    "        \"FY25-26_operating\": \"operating_FY25-26\",\n",
    "        \"FY26-27_operating\": \"operating_FY26-27\",\n",
    "    }\n",
    "\n",
    "    col_order = [\n",
    "        \"rtpa\",\n",
    "        \"implementing agenc-y/-ies\",\n",
    "        \"project\",\n",
    "        \"fund source\",\n",
    "        \"capital_FY23-24\",\n",
    "        \"capital_FY24-25\",\n",
    "        \"capital_FY25-26\",\n",
    "        \"capital_FY26-27\",\n",
    "        \"operating_FY23-24\",\n",
    "        \"operating_FY24-25\",\n",
    "        \"operating_FY25-26\",\n",
    "        \"operating_FY26-27\",\n",
    "    ]\n",
    "\n",
    "    ventura_tircp_merge.rename(columns=ventura_col_dict, inplace=True)\n",
    "\n",
    "    ventura_tircp_merge = ventura_tircp_merge[col_order]\n",
    "    \n",
    "    # clean zetcp sections\n",
    "    ventura_zetcp_capital = pd.read_excel(\n",
    "        f\"{GCS_PATH}ventura_fund_request.xlsx\",\n",
    "        sheet_name=\"Project Breakdown\",\n",
    "        skiprows=32,\n",
    "        header=0,\n",
    "        skipfooter=21,\n",
    "    ).drop(columns=[\"Unnamed: 7\", \"Unnamed: 8\"])\n",
    "    fund_dict = {\n",
    "        \"GGRF Y1\": \"ZETCP (GGRF)\",\n",
    "        \"GGRF Y2\": \"ZETCP (GGRF)\",\n",
    "        \"GGRF Y3\": \"ZETCP (GGRF)\",\n",
    "        \"GGRF Y4\": \"ZETCP (GGRF)\",\n",
    "        \"PTA\": \"ZETCP (PTA)\",\n",
    "    }\n",
    "\n",
    "    ven_col = {\n",
    "        \"Implementing Agenc-y/-ies\": \"implementing agenc-y/-ies\",\n",
    "        \"Project\": \"project\",\n",
    "        \"Fund Source\": \"fund source\",\n",
    "        \"FY23-24\": \"capital_FY23-24\",\n",
    "        \"FY24-25\": \"capital_FY24-25\",\n",
    "        \"FY25-26\": \"capital_FY25-26\",\n",
    "        \"FY26-27\": \"capital_FY26-27\",\n",
    "    }\n",
    "\n",
    "    ventura_zetcp_capital[\"Fund Source\"] = ventura_zetcp_capital[\"Fund Source\"].replace(\n",
    "        fund_dict\n",
    "    )\n",
    "\n",
    "    ventura_zetcp_capital[\"rtpa\"] = \"VCTC\"\n",
    "\n",
    "    ventura_zetcp_capital.rename(columns=ven_col, inplace=True)\n",
    "\n",
    "    ventura_zetcp_capital = ventura_zetcp_capital[col_order[0:8]]\n",
    "    \n",
    "    #final merge\n",
    "    ventura_big_merge = ventura_tircp_merge.merge(\n",
    "        ventura_zetcp_capital,\n",
    "        how=\"outer\",\n",
    "        on=[\n",
    "            \"implementing agenc-y/-ies\",\n",
    "            \"project\",\n",
    "            \"fund source\",\n",
    "            \"capital_FY23-24\",\n",
    "            \"capital_FY24-25\",\n",
    "            \"capital_FY25-26\",\n",
    "            \"capital_FY26-27\",\n",
    "            \"rtpa\",\n",
    "        ],\n",
    "        suffixes=(\"_zetcp_cap\", \"_tircp\"),\n",
    "    )\n",
    "    return ventura_big_merge\n",
    "    "
   ]
  },
  {
   "cell_type": "code",
   "execution_count": 95,
   "id": "b72cea66-345d-4282-ac20-c5adef39f695",
   "metadata": {},
   "outputs": [
    {
     "data": {
      "text/plain": [
       "(57, 12)"
      ]
     },
     "metadata": {},
     "output_type": "display_data"
    }
   ],
   "source": [
    "# should see 57 rows total\n",
    "ventura_cleaned = clean_ventura()\n",
    "\n",
    "display(\n",
    "    ventura_cleaned.shape,\n",
    "    #ventura_cleaned.sort_values(by=\"implementing agenc-y/-ies\"),\n",
    ")"
   ]
  },
  {
   "cell_type": "markdown",
   "id": "8949aed0-891a-4691-bacb-c3935c44ac43",
   "metadata": {},
   "source": [
    "## DONE Kern"
   ]
  },
  {
   "cell_type": "code",
   "execution_count": 44,
   "id": "3464e253-94bd-4672-abca-a4907cbfaa51",
   "metadata": {},
   "outputs": [],
   "source": [
    "def get_kern_data(head_count: int, foot_count: int, agency: str, proj_title: str):\n",
    "\n",
    "    kern_cols = {\n",
    "        \"Unnamed: 0\": \"fund source\",\n",
    "        \"Unnamed: 1\": \"capital_FY23-24\",\n",
    "        \"Unnamed: 2\": \"operating_FY23-24\",\n",
    "        \"Unnamed: 3\": \"capital_FY24-25\",\n",
    "        \"Unnamed: 4\": \"operating_FY24-25\",\n",
    "        \"Unnamed: 5\": \"capital_FY25-26\",\n",
    "        \"Unnamed: 6\": \"operating_FY25-26\",\n",
    "        \"Unnamed: 7\": \"capital_FY26-27\",\n",
    "        \"Unnamed: 8\": \"operating_FY26-27\",\n",
    "    }\n",
    "    df = (\n",
    "        pd.read_excel(\n",
    "            f\"{GCS_PATH}kern_fund_request.xlsx\",\n",
    "            header=head_count,\n",
    "            skipfooter=foot_count,\n",
    "        )\n",
    "        .rename(columns=kern_cols)\n",
    "        .assign(implementing_agency=agency, rtpa=\"Kern COG\", project=proj_title)\n",
    "    )\n",
    "    return df"
   ]
  },
  {
   "cell_type": "code",
   "execution_count": 98,
   "id": "7a716897-65fe-4f93-97d7-30c9bae83624",
   "metadata": {},
   "outputs": [],
   "source": [
    "#kern = pd.read_excel(f\"{GCS_PATH}kern_fund_request.xlsx\")\n",
    "\n",
    "# this is so bad, may need to do this in excel to make it work.\n",
    "# the agency name and fund soruce are on the same column\n",
    "\n",
    "def clean_kern():\n",
    "    \n",
    "    col_order = [\n",
    "        \"rtpa\",\n",
    "        \"implementing agenc-y/-ies\",\n",
    "        \"project\",\n",
    "        \"fund source\",\n",
    "        \"capital_FY23-24\",\n",
    "        \"capital_FY24-25\",\n",
    "        \"capital_FY25-26\",\n",
    "        \"capital_FY26-27\",\n",
    "        \"operating_FY23-24\",\n",
    "        \"operating_FY24-25\",\n",
    "        \"operating_FY25-26\",\n",
    "        \"operating_FY26-27\",\n",
    "    ]\n",
    "    \n",
    "    kern_cols = {\n",
    "        \"Unnamed: 0\": \"fund source\",\n",
    "        \"Unnamed: 1\": \"capital_FY23-24\",\n",
    "        \"Unnamed: 2\": \"operating_FY23-24\",\n",
    "        \"Unnamed: 3\": \"capital_FY24-25\",\n",
    "        \"Unnamed: 4\": \"operating_FY24-25\",\n",
    "        \"Unnamed: 5\": \"capital_FY25-26\",\n",
    "        \"Unnamed: 6\": \"operating_FY25-26\",\n",
    "        \"Unnamed: 7\": \"capital_FY26-27\",\n",
    "        \"Unnamed: 8\": \"operating_FY26-27\",\n",
    "    }\n",
    "\n",
    "    arvin = get_kern_data(\n",
    "        3,\n",
    "        43,\n",
    "        \"arvin\",\n",
    "        \"Purcahse and install EV mirco-grid Purcahse and install EV mirco-grid\",\n",
    "    )\n",
    "\n",
    "    california_city = get_kern_data(\n",
    "        7,\n",
    "        39,\n",
    "        \"california city\",\n",
    "        \"Purchase and construct transit building to house EV vans and solar charging stations\",\n",
    "    )\n",
    "\n",
    "    delano = get_kern_data(11, 35, \"delano\", \"Construct transit Facility\")\n",
    "\n",
    "    get = get_kern_data(\n",
    "        15,\n",
    "        31,\n",
    "        \"get\",\n",
    "        \"Golden Empire Transit Free or near free transit fares Back up hydrogent fuel plant\",\n",
    "    )\n",
    "\n",
    "    kern_transit = get_kern_data(\n",
    "        19,\n",
    "        27,\n",
    "        \"kern transit\",\n",
    "        \"Transition to Zero-Emission Vehicles and supporting infrastructure\",\n",
    "    )\n",
    "\n",
    "    mcfarland = get_kern_data(\n",
    "        23,\n",
    "        23,\n",
    "        \"mcfarland\",\n",
    "        \"Design and construct a transit station providing a transit office , waitning area, restrooms and EV charging stations\",\n",
    "    )\n",
    "\n",
    "    ridgecrest = get_kern_data(\n",
    "        27,\n",
    "        19,\n",
    "        \"ridgecrest\",\n",
    "        \"Replacement of Cutaway Buses with Electric Vans and Construction of Bus Stop at North Norma Street and West Felspar Avenue\",\n",
    "    )\n",
    "\n",
    "    shafter = get_kern_data(\n",
    "        31, 15, \"shafter\", \"bus storage, new transit vehicles, free ridership fare program\"\n",
    "    )\n",
    "\n",
    "    taft = get_kern_data(\n",
    "        35,\n",
    "        11,\n",
    "        \"taft\",\n",
    "        \"convert the City’s gasoline powered fleet of on-demand transit vehicles to plug-in electric vans compatible with the solar-powered charging infrastructure being completed now.\",\n",
    "    )\n",
    "\n",
    "    tehahapi = get_kern_data(\n",
    "        39,\n",
    "        9,\n",
    "        \"tehahapi\",\n",
    "        \"Improvements to Downtown Transit Center and Installation of EV Charging Infrastructure\",\n",
    "    )\n",
    "\n",
    "    wasco = get_kern_data(\n",
    "        43, \n",
    "        3, \n",
    "        \"wasco\", \"New Transit Operating and Maintenance Facility\"\n",
    "    )\n",
    "\n",
    "    kern_concat = pd.concat(\n",
    "        [\n",
    "            wasco,\n",
    "            tehahapi,\n",
    "            taft,\n",
    "            shafter,\n",
    "            ridgecrest,\n",
    "            mcfarland,\n",
    "            kern_transit,\n",
    "            get,\n",
    "            arvin,\n",
    "            california_city,\n",
    "            delano,\n",
    "        ],\n",
    "        ignore_index=True,\n",
    "    )\n",
    "\n",
    "    kern_clean = kern_concat[kern_concat[\"fund source\"].isin([\"TIRCP\", \"ZETCP\"])].rename(\n",
    "        columns={\"implementing_agency\": \"implementing agenc-y/-ies\"}\n",
    "    )\n",
    "\n",
    "    kern_clean = kern_clean[col_order]\n",
    "    \n",
    "    return kern_clean\n"
   ]
  },
  {
   "cell_type": "code",
   "execution_count": 100,
   "id": "a5575418-d35e-43cc-aa11-355cd631aaae",
   "metadata": {},
   "outputs": [
    {
     "data": {
      "text/plain": [
       "(20, 12)"
      ]
     },
     "metadata": {},
     "output_type": "display_data"
    },
    {
     "data": {
      "text/html": [
       "<div>\n",
       "<style scoped>\n",
       "    .dataframe tbody tr th:only-of-type {\n",
       "        vertical-align: middle;\n",
       "    }\n",
       "\n",
       "    .dataframe tbody tr th {\n",
       "        vertical-align: top;\n",
       "    }\n",
       "\n",
       "    .dataframe thead th {\n",
       "        text-align: right;\n",
       "    }\n",
       "</style>\n",
       "<table border=\"1\" class=\"dataframe\">\n",
       "  <thead>\n",
       "    <tr style=\"text-align: right;\">\n",
       "      <th></th>\n",
       "      <th>rtpa</th>\n",
       "      <th>implementing agenc-y/-ies</th>\n",
       "      <th>project</th>\n",
       "      <th>fund source</th>\n",
       "      <th>capital_FY23-24</th>\n",
       "      <th>capital_FY24-25</th>\n",
       "      <th>capital_FY25-26</th>\n",
       "      <th>capital_FY26-27</th>\n",
       "      <th>operating_FY23-24</th>\n",
       "      <th>operating_FY24-25</th>\n",
       "      <th>operating_FY25-26</th>\n",
       "      <th>operating_FY26-27</th>\n",
       "    </tr>\n",
       "  </thead>\n",
       "  <tbody>\n",
       "    <tr>\n",
       "      <th>1</th>\n",
       "      <td>Kern COG</td>\n",
       "      <td>wasco</td>\n",
       "      <td>New Transit Operating and Maintenance Facility</td>\n",
       "      <td>TIRCP</td>\n",
       "      <td>1350328.0</td>\n",
       "      <td>1362548.0</td>\n",
       "      <td>0.0</td>\n",
       "      <td>0.0</td>\n",
       "      <td>0.0</td>\n",
       "      <td>0.0</td>\n",
       "      <td>0.0</td>\n",
       "      <td>0.0</td>\n",
       "    </tr>\n",
       "    <tr>\n",
       "      <th>2</th>\n",
       "      <td>Kern COG</td>\n",
       "      <td>wasco</td>\n",
       "      <td>New Transit Operating and Maintenance Facility</td>\n",
       "      <td>ZETCP</td>\n",
       "      <td>146871.0</td>\n",
       "      <td>83215.0</td>\n",
       "      <td>83215.0</td>\n",
       "      <td>83215.0</td>\n",
       "      <td>0.0</td>\n",
       "      <td>0.0</td>\n",
       "      <td>0.0</td>\n",
       "      <td>0.0</td>\n",
       "    </tr>\n",
       "    <tr>\n",
       "      <th>5</th>\n",
       "      <td>Kern COG</td>\n",
       "      <td>taft</td>\n",
       "      <td>convert the City’s gasoline powered fleet of o...</td>\n",
       "      <td>TIRCP</td>\n",
       "      <td>359651.0</td>\n",
       "      <td>362907.0</td>\n",
       "      <td>0.0</td>\n",
       "      <td>0.0</td>\n",
       "      <td>0.0</td>\n",
       "      <td>0.0</td>\n",
       "      <td>0.0</td>\n",
       "      <td>0.0</td>\n",
       "    </tr>\n",
       "    <tr>\n",
       "      <th>6</th>\n",
       "      <td>Kern COG</td>\n",
       "      <td>taft</td>\n",
       "      <td>convert the City’s gasoline powered fleet of o...</td>\n",
       "      <td>ZETCP</td>\n",
       "      <td>39119.0</td>\n",
       "      <td>22164.0</td>\n",
       "      <td>22164.0</td>\n",
       "      <td>22164.0</td>\n",
       "      <td>0.0</td>\n",
       "      <td>0.0</td>\n",
       "      <td>0.0</td>\n",
       "      <td>0.0</td>\n",
       "    </tr>\n",
       "    <tr>\n",
       "      <th>8</th>\n",
       "      <td>Kern COG</td>\n",
       "      <td>shafter</td>\n",
       "      <td>bus storage, new transit vehicles, free riders...</td>\n",
       "      <td>TIRCP</td>\n",
       "      <td>1029704.0</td>\n",
       "      <td>1503605.0</td>\n",
       "      <td>0.0</td>\n",
       "      <td>0.0</td>\n",
       "      <td>0.0</td>\n",
       "      <td>0.0</td>\n",
       "      <td>0.0</td>\n",
       "      <td>0.0</td>\n",
       "    </tr>\n",
       "    <tr>\n",
       "      <th>9</th>\n",
       "      <td>Kern COG</td>\n",
       "      <td>shafter</td>\n",
       "      <td>bus storage, new transit vehicles, free riders...</td>\n",
       "      <td>ZETCP</td>\n",
       "      <td>111998.0</td>\n",
       "      <td>0.0</td>\n",
       "      <td>0.0</td>\n",
       "      <td>63456.0</td>\n",
       "      <td>0.0</td>\n",
       "      <td>63456.0</td>\n",
       "      <td>63456.0</td>\n",
       "      <td>0.0</td>\n",
       "    </tr>\n",
       "    <tr>\n",
       "      <th>11</th>\n",
       "      <td>Kern COG</td>\n",
       "      <td>ridgecrest</td>\n",
       "      <td>Replacement of Cutaway Buses with Electric Van...</td>\n",
       "      <td>TIRCP</td>\n",
       "      <td>1490120.0</td>\n",
       "      <td>1503605.0</td>\n",
       "      <td>0.0</td>\n",
       "      <td>0.0</td>\n",
       "      <td>0.0</td>\n",
       "      <td>0.0</td>\n",
       "      <td>0.0</td>\n",
       "      <td>0.0</td>\n",
       "    </tr>\n",
       "    <tr>\n",
       "      <th>12</th>\n",
       "      <td>Kern COG</td>\n",
       "      <td>ridgecrest</td>\n",
       "      <td>Replacement of Cutaway Buses with Electric Van...</td>\n",
       "      <td>ZETCP</td>\n",
       "      <td>162076.0</td>\n",
       "      <td>91830.0</td>\n",
       "      <td>91830.0</td>\n",
       "      <td>91830.0</td>\n",
       "      <td>0.0</td>\n",
       "      <td>0.0</td>\n",
       "      <td>0.0</td>\n",
       "      <td>0.0</td>\n",
       "    </tr>\n",
       "    <tr>\n",
       "      <th>14</th>\n",
       "      <td>Kern COG</td>\n",
       "      <td>mcfarland</td>\n",
       "      <td>Design and construct a transit station providi...</td>\n",
       "      <td>TIRCP</td>\n",
       "      <td>707216.0</td>\n",
       "      <td>713606.0</td>\n",
       "      <td>0.0</td>\n",
       "      <td>0.0</td>\n",
       "      <td>0.0</td>\n",
       "      <td>0.0</td>\n",
       "      <td>0.0</td>\n",
       "      <td>0.0</td>\n",
       "    </tr>\n",
       "    <tr>\n",
       "      <th>15</th>\n",
       "      <td>Kern COG</td>\n",
       "      <td>mcfarland</td>\n",
       "      <td>Design and construct a transit station providi...</td>\n",
       "      <td>ZETCP</td>\n",
       "      <td>76922.0</td>\n",
       "      <td>43583.0</td>\n",
       "      <td>43583.0</td>\n",
       "      <td>43583.0</td>\n",
       "      <td>0.0</td>\n",
       "      <td>0.0</td>\n",
       "      <td>0.0</td>\n",
       "      <td>0.0</td>\n",
       "    </tr>\n",
       "    <tr>\n",
       "      <th>17</th>\n",
       "      <td>Kern COG</td>\n",
       "      <td>kern transit</td>\n",
       "      <td>Transition to Zero-Emission Vehicles and suppo...</td>\n",
       "      <td>TIRCP</td>\n",
       "      <td>8210741.0</td>\n",
       "      <td>8285045.0</td>\n",
       "      <td>0.0</td>\n",
       "      <td>0.0</td>\n",
       "      <td>0.0</td>\n",
       "      <td>0.0</td>\n",
       "      <td>0.0</td>\n",
       "      <td>0.0</td>\n",
       "    </tr>\n",
       "    <tr>\n",
       "      <th>18</th>\n",
       "      <td>Kern COG</td>\n",
       "      <td>kern transit</td>\n",
       "      <td>Transition to Zero-Emission Vehicles and suppo...</td>\n",
       "      <td>ZETCP</td>\n",
       "      <td>903971.0</td>\n",
       "      <td>505993.0</td>\n",
       "      <td>505993.0</td>\n",
       "      <td>505993.0</td>\n",
       "      <td>0.0</td>\n",
       "      <td>0.0</td>\n",
       "      <td>0.0</td>\n",
       "      <td>0.0</td>\n",
       "    </tr>\n",
       "    <tr>\n",
       "      <th>20</th>\n",
       "      <td>Kern COG</td>\n",
       "      <td>get</td>\n",
       "      <td>Golden Empire Transit Free or near free transi...</td>\n",
       "      <td>TIRCP</td>\n",
       "      <td>0.0</td>\n",
       "      <td>0.0</td>\n",
       "      <td>0.0</td>\n",
       "      <td>0.0</td>\n",
       "      <td>0.0</td>\n",
       "      <td>27834889.0</td>\n",
       "      <td>28086784.0</td>\n",
       "      <td>0.0</td>\n",
       "    </tr>\n",
       "    <tr>\n",
       "      <th>21</th>\n",
       "      <td>Kern COG</td>\n",
       "      <td>get</td>\n",
       "      <td>Golden Empire Transit Free or near free transi...</td>\n",
       "      <td>ZETCP</td>\n",
       "      <td>0.0</td>\n",
       "      <td>3027524.0</td>\n",
       "      <td>1715347.0</td>\n",
       "      <td>1715347.0</td>\n",
       "      <td>0.0</td>\n",
       "      <td>0.0</td>\n",
       "      <td>0.0</td>\n",
       "      <td>0.0</td>\n",
       "    </tr>\n",
       "    <tr>\n",
       "      <th>23</th>\n",
       "      <td>Kern COG</td>\n",
       "      <td>arvin</td>\n",
       "      <td>Purcahse and install EV mirco-grid Purcahse an...</td>\n",
       "      <td>TIRCP</td>\n",
       "      <td>1108563.0</td>\n",
       "      <td>1118595.0</td>\n",
       "      <td>0.0</td>\n",
       "      <td>0.0</td>\n",
       "      <td>0.0</td>\n",
       "      <td>0.0</td>\n",
       "      <td>0.0</td>\n",
       "      <td>0.0</td>\n",
       "    </tr>\n",
       "    <tr>\n",
       "      <th>24</th>\n",
       "      <td>Kern COG</td>\n",
       "      <td>arvin</td>\n",
       "      <td>Purcahse and install EV mirco-grid Purcahse an...</td>\n",
       "      <td>ZETCP</td>\n",
       "      <td>120575.0</td>\n",
       "      <td>68316.0</td>\n",
       "      <td>68316.0</td>\n",
       "      <td>68316.0</td>\n",
       "      <td>0.0</td>\n",
       "      <td>0.0</td>\n",
       "      <td>0.0</td>\n",
       "      <td>0.0</td>\n",
       "    </tr>\n",
       "    <tr>\n",
       "      <th>26</th>\n",
       "      <td>Kern COG</td>\n",
       "      <td>california city</td>\n",
       "      <td>Purchase and construct transit building to hou...</td>\n",
       "      <td>TIRCP</td>\n",
       "      <td>711044.0</td>\n",
       "      <td>717478.0</td>\n",
       "      <td>0.0</td>\n",
       "      <td>0.0</td>\n",
       "      <td>0.0</td>\n",
       "      <td>0.0</td>\n",
       "      <td>0.0</td>\n",
       "      <td>0.0</td>\n",
       "    </tr>\n",
       "    <tr>\n",
       "      <th>27</th>\n",
       "      <td>Kern COG</td>\n",
       "      <td>california city</td>\n",
       "      <td>Purchase and construct transit building to hou...</td>\n",
       "      <td>ZETCP</td>\n",
       "      <td>77338.0</td>\n",
       "      <td>43819.0</td>\n",
       "      <td>43819.0</td>\n",
       "      <td>43819.0</td>\n",
       "      <td>0.0</td>\n",
       "      <td>0.0</td>\n",
       "      <td>0.0</td>\n",
       "      <td>0.0</td>\n",
       "    </tr>\n",
       "    <tr>\n",
       "      <th>29</th>\n",
       "      <td>Kern COG</td>\n",
       "      <td>delano</td>\n",
       "      <td>Construct transit Facility</td>\n",
       "      <td>TIRCP</td>\n",
       "      <td>2571742.0</td>\n",
       "      <td>2595015.0</td>\n",
       "      <td>0.0</td>\n",
       "      <td>0.0</td>\n",
       "      <td>0.0</td>\n",
       "      <td>0.0</td>\n",
       "      <td>0.0</td>\n",
       "      <td>0.0</td>\n",
       "    </tr>\n",
       "    <tr>\n",
       "      <th>30</th>\n",
       "      <td>Kern COG</td>\n",
       "      <td>delano</td>\n",
       "      <td>Construct transit Facility</td>\n",
       "      <td>ZETCP</td>\n",
       "      <td>279721.0</td>\n",
       "      <td>158486.0</td>\n",
       "      <td>158486.0</td>\n",
       "      <td>158486.0</td>\n",
       "      <td>0.0</td>\n",
       "      <td>0.0</td>\n",
       "      <td>0.0</td>\n",
       "      <td>0.0</td>\n",
       "    </tr>\n",
       "  </tbody>\n",
       "</table>\n",
       "</div>"
      ],
      "text/plain": [
       "        rtpa implementing agenc-y/-ies  \\\n",
       "1   Kern COG                     wasco   \n",
       "2   Kern COG                     wasco   \n",
       "5   Kern COG                      taft   \n",
       "6   Kern COG                      taft   \n",
       "8   Kern COG                   shafter   \n",
       "9   Kern COG                   shafter   \n",
       "11  Kern COG                ridgecrest   \n",
       "12  Kern COG                ridgecrest   \n",
       "14  Kern COG                 mcfarland   \n",
       "15  Kern COG                 mcfarland   \n",
       "17  Kern COG              kern transit   \n",
       "18  Kern COG              kern transit   \n",
       "20  Kern COG                       get   \n",
       "21  Kern COG                       get   \n",
       "23  Kern COG                     arvin   \n",
       "24  Kern COG                     arvin   \n",
       "26  Kern COG           california city   \n",
       "27  Kern COG           california city   \n",
       "29  Kern COG                    delano   \n",
       "30  Kern COG                    delano   \n",
       "\n",
       "                                              project fund source  \\\n",
       "1      New Transit Operating and Maintenance Facility       TIRCP   \n",
       "2      New Transit Operating and Maintenance Facility       ZETCP   \n",
       "5   convert the City’s gasoline powered fleet of o...       TIRCP   \n",
       "6   convert the City’s gasoline powered fleet of o...       ZETCP   \n",
       "8   bus storage, new transit vehicles, free riders...       TIRCP   \n",
       "9   bus storage, new transit vehicles, free riders...       ZETCP   \n",
       "11  Replacement of Cutaway Buses with Electric Van...       TIRCP   \n",
       "12  Replacement of Cutaway Buses with Electric Van...       ZETCP   \n",
       "14  Design and construct a transit station providi...       TIRCP   \n",
       "15  Design and construct a transit station providi...       ZETCP   \n",
       "17  Transition to Zero-Emission Vehicles and suppo...       TIRCP   \n",
       "18  Transition to Zero-Emission Vehicles and suppo...       ZETCP   \n",
       "20  Golden Empire Transit Free or near free transi...       TIRCP   \n",
       "21  Golden Empire Transit Free or near free transi...       ZETCP   \n",
       "23  Purcahse and install EV mirco-grid Purcahse an...       TIRCP   \n",
       "24  Purcahse and install EV mirco-grid Purcahse an...       ZETCP   \n",
       "26  Purchase and construct transit building to hou...       TIRCP   \n",
       "27  Purchase and construct transit building to hou...       ZETCP   \n",
       "29                         Construct transit Facility       TIRCP   \n",
       "30                         Construct transit Facility       ZETCP   \n",
       "\n",
       "    capital_FY23-24  capital_FY24-25  capital_FY25-26  capital_FY26-27  \\\n",
       "1         1350328.0        1362548.0              0.0              0.0   \n",
       "2          146871.0          83215.0          83215.0          83215.0   \n",
       "5          359651.0         362907.0              0.0              0.0   \n",
       "6           39119.0          22164.0          22164.0          22164.0   \n",
       "8         1029704.0        1503605.0              0.0              0.0   \n",
       "9          111998.0              0.0              0.0          63456.0   \n",
       "11        1490120.0        1503605.0              0.0              0.0   \n",
       "12         162076.0          91830.0          91830.0          91830.0   \n",
       "14         707216.0         713606.0              0.0              0.0   \n",
       "15          76922.0          43583.0          43583.0          43583.0   \n",
       "17        8210741.0        8285045.0              0.0              0.0   \n",
       "18         903971.0         505993.0         505993.0         505993.0   \n",
       "20              0.0              0.0              0.0              0.0   \n",
       "21              0.0        3027524.0        1715347.0        1715347.0   \n",
       "23        1108563.0        1118595.0              0.0              0.0   \n",
       "24         120575.0          68316.0          68316.0          68316.0   \n",
       "26         711044.0         717478.0              0.0              0.0   \n",
       "27          77338.0          43819.0          43819.0          43819.0   \n",
       "29        2571742.0        2595015.0              0.0              0.0   \n",
       "30         279721.0         158486.0         158486.0         158486.0   \n",
       "\n",
       "    operating_FY23-24  operating_FY24-25  operating_FY25-26  operating_FY26-27  \n",
       "1                 0.0                0.0                0.0                0.0  \n",
       "2                 0.0                0.0                0.0                0.0  \n",
       "5                 0.0                0.0                0.0                0.0  \n",
       "6                 0.0                0.0                0.0                0.0  \n",
       "8                 0.0                0.0                0.0                0.0  \n",
       "9                 0.0            63456.0            63456.0                0.0  \n",
       "11                0.0                0.0                0.0                0.0  \n",
       "12                0.0                0.0                0.0                0.0  \n",
       "14                0.0                0.0                0.0                0.0  \n",
       "15                0.0                0.0                0.0                0.0  \n",
       "17                0.0                0.0                0.0                0.0  \n",
       "18                0.0                0.0                0.0                0.0  \n",
       "20                0.0         27834889.0         28086784.0                0.0  \n",
       "21                0.0                0.0                0.0                0.0  \n",
       "23                0.0                0.0                0.0                0.0  \n",
       "24                0.0                0.0                0.0                0.0  \n",
       "26                0.0                0.0                0.0                0.0  \n",
       "27                0.0                0.0                0.0                0.0  \n",
       "29                0.0                0.0                0.0                0.0  \n",
       "30                0.0                0.0                0.0                0.0  "
      ]
     },
     "metadata": {},
     "output_type": "display_data"
    }
   ],
   "source": [
    "# CLEANING COMPLETE\n",
    "kern_cleaned = clean_kern()\n",
    "\n",
    "display(\n",
    "    \n",
    "    kern_cleaned.shape,\n",
    "    kern_cleaned\n",
    ")"
   ]
  },
  {
   "cell_type": "markdown",
   "id": "da8e3785-b974-415c-8e48-a1b57e6ba380",
   "metadata": {},
   "source": [
    "# DONE concat_everything \n",
    "Test of concat all the dictionary dataframe vales"
   ]
  },
  {
   "cell_type": "code",
   "execution_count": 105,
   "id": "da5b8b89-b4db-4edd-aa81-f90bb600e772",
   "metadata": {},
   "outputs": [],
   "source": [
    "def concat_everything():\n",
    "    all_fund_requests = pd.concat(cleaned_fund_request.values(), ignore_index=True)\n",
    "    \n",
    "    all_fund_requests = pd.concat(\n",
    "    [\n",
    "        all_fund_requests,\n",
    "        santa_cruz_cleaned,\n",
    "        orange_cleaned,\n",
    "        butte_cleaned,\n",
    "        lassen_cleaned,\n",
    "        ventura_big_merge,\n",
    "        kern_clean,\n",
    "    ],\n",
    "    ignore_index=True,\n",
    "    )\n",
    "    \n",
    "    all_fund_requests[\"fund source\"] = all_fund_requests[\"fund source\"].astype(str)\n",
    "    \n",
    "    return all_fund_requests"
   ]
  },
  {
   "cell_type": "code",
   "execution_count": 106,
   "id": "587a5774-dec1-4143-8130-8f0d05131b72",
   "metadata": {},
   "outputs": [
    {
     "data": {
      "text/plain": [
       "(287, 12)"
      ]
     },
     "metadata": {},
     "output_type": "display_data"
    }
   ],
   "source": [
    "test_all_df = concat_everything()\n",
    "\n",
    "display(\n",
    "    test_all_df.shape\n",
    ")"
   ]
  },
  {
   "cell_type": "code",
   "execution_count": 102,
   "id": "5284e051-fcad-438b-8a62-b10c286a26ae",
   "metadata": {},
   "outputs": [
    {
     "data": {
      "text/plain": [
       "dict_values"
      ]
     },
     "execution_count": 102,
     "metadata": {},
     "output_type": "execute_result"
    }
   ],
   "source": [
    "fund_request_df = cleaned_fund_request.values()\n",
    "\n",
    "type(fund_request_df)"
   ]
  },
  {
   "cell_type": "code",
   "execution_count": 112,
   "id": "2b26e076-3b0b-4181-a3ba-ce7a55dac7bc",
   "metadata": {},
   "outputs": [],
   "source": [
    "all_fund_requests = pd.concat(cleaned_fund_request.values(), ignore_index=True)"
   ]
  },
  {
   "cell_type": "code",
   "execution_count": 113,
   "id": "899fa4b8-45b2-414e-9587-27792ce3ab72",
   "metadata": {},
   "outputs": [],
   "source": [
    "all_fund_requests = pd.concat(\n",
    "    [\n",
    "        all_fund_requests,\n",
    "        santa_cruz_cleaned,\n",
    "        orange_cleaned,\n",
    "        butte_cleaned,\n",
    "        lassen_cleaned,\n",
    "        ventura_big_merge,\n",
    "        kern_clean,\n",
    "    ],\n",
    "    ignore_index=True,\n",
    ")"
   ]
  },
  {
   "cell_type": "code",
   "execution_count": 114,
   "id": "3c464192-d1f6-46f1-b307-6dc9581081f1",
   "metadata": {},
   "outputs": [],
   "source": [
    "all_fund_requests[\"fund source\"] = all_fund_requests[\"fund source\"].astype(str)"
   ]
  },
  {
   "cell_type": "code",
   "execution_count": 115,
   "id": "b2b680d3-2f24-4edf-99e0-b0a83aeffa3a",
   "metadata": {},
   "outputs": [
    {
     "data": {
      "text/plain": [
       "(287, 12)"
      ]
     },
     "metadata": {},
     "output_type": "display_data"
    },
    {
     "data": {
      "text/plain": [
       "pandas.core.frame.DataFrame"
      ]
     },
     "metadata": {},
     "output_type": "display_data"
    },
    {
     "data": {
      "text/plain": [
       "rtpa                         object\n",
       "implementing agenc-y/-ies    object\n",
       "project                      object\n",
       "fund source                  object\n",
       "capital_FY23-24              object\n",
       "capital_FY24-25              object\n",
       "capital_FY25-26              object\n",
       "capital_FY26-27              object\n",
       "operating_FY23-24            object\n",
       "operating_FY24-25            object\n",
       "operating_FY25-26            object\n",
       "operating_FY26-27            object\n",
       "dtype: object"
      ]
     },
     "metadata": {},
     "output_type": "display_data"
    }
   ],
   "source": [
    "display(\n",
    "    all_fund_requests.shape,\n",
    "    type(all_fund_requests),\n",
    "    all_fund_requests.dtypes,\n",
    ")"
   ]
  },
  {
   "cell_type": "markdown",
   "id": "bcbf733e-f811-4eca-8643-e4e9ada8f7ac",
   "metadata": {},
   "source": [
    "# Save Concat DF Parquet to GCS"
   ]
  },
  {
   "cell_type": "code",
   "execution_count": 53,
   "id": "a3a2c476-013a-4d08-963f-67d07a9860b1",
   "metadata": {},
   "outputs": [],
   "source": [
    "# SAVING TO GCS!\n",
    "all_fund_requests.to_parquet(f\"{GCS_PATH}all_fund_requests_concat.parquet\")"
   ]
  },
  {
   "cell_type": "code",
   "execution_count": 108,
   "id": "2c4acc84-42a2-4fe6-9d61-861c4aee5b14",
   "metadata": {},
   "outputs": [],
   "source": [
    "test_all_df.to_parquet(f\"{GCS_PATH}test_DELETE_LATER.parquet\")"
   ]
  },
  {
   "cell_type": "markdown",
   "id": "0f9d5ebb-d41d-419c-8908-dc795bda7b6e",
   "metadata": {},
   "source": [
    "# DONE fund_requet_melt"
   ]
  },
  {
   "cell_type": "code",
   "execution_count": 126,
   "id": "be7d2552-be4f-491f-b3e7-fb12e78130a7",
   "metadata": {},
   "outputs": [],
   "source": [
    "\n",
    "def fund_request_melt(df):\n",
    "    id_vars = [\n",
    "        \"rtpa\",\n",
    "        \"implementing agenc-y/-ies\",\n",
    "        \"project\",\n",
    "        \"fund source\",\n",
    "    ]\n",
    "    val_vars = [\n",
    "        \"capital_FY23-24\",\n",
    "        \"capital_FY24-25\",\n",
    "        \"capital_FY25-26\",\n",
    "        \"capital_FY26-27\",\n",
    "        \"operating_FY23-24\",\n",
    "        \"operating_FY24-25\",\n",
    "        \"operating_FY25-26\",\n",
    "        \"operating_FY26-27\",\n",
    "    ]\n",
    "\n",
    "    melt = df.melt(\n",
    "        id_vars=id_vars,\n",
    "        value_vars=val_vars,\n",
    "        var_name=\"capital/operation fy\",\n",
    "        value_name=\"fund amount\",\n",
    "        ignore_index=True,\n",
    "    )\n",
    "    \n",
    "    # splitting the cap/operations columns\n",
    "\n",
    "    melt[[\"project type\", \"fiscal year\"]] = melt[\"capital/operation fy\"].str.split(\n",
    "        \"_FY\", expand=True\n",
    "    )\n",
    "\n",
    "    melt[\"fund amount\"] = melt[\"fund amount\"].fillna(0).astype(\"int64\")\n",
    "    melt[\"fund source\"] = melt[\"fund source\"].astype(\"str\")\n",
    "    \n",
    "    return melt"
   ]
  },
  {
   "cell_type": "code",
   "execution_count": 130,
   "id": "8dd88e0f-78aa-457a-b47b-8253e310a7f3",
   "metadata": {},
   "outputs": [],
   "source": [
    "all_melt = fund_request_melt(all_fund_requests)"
   ]
  },
  {
   "cell_type": "code",
   "execution_count": 123,
   "id": "29d71849-601d-4d21-a2f0-8ca414406a17",
   "metadata": {},
   "outputs": [
    {
     "data": {
      "text/plain": [
       "pandas.core.frame.DataFrame"
      ]
     },
     "metadata": {},
     "output_type": "display_data"
    },
    {
     "data": {
      "text/plain": [
       "(2296, 8)"
      ]
     },
     "metadata": {},
     "output_type": "display_data"
    },
    {
     "data": {
      "text/plain": [
       "rtpa                         object\n",
       "implementing agenc-y/-ies    object\n",
       "project                      object\n",
       "fund source                  object\n",
       "capital/operation fy         object\n",
       "fund amount                   int64\n",
       "project type                 object\n",
       "fiscal year                  object\n",
       "dtype: object"
      ]
     },
     "metadata": {},
     "output_type": "display_data"
    },
    {
     "data": {
      "text/html": [
       "<div>\n",
       "<style scoped>\n",
       "    .dataframe tbody tr th:only-of-type {\n",
       "        vertical-align: middle;\n",
       "    }\n",
       "\n",
       "    .dataframe tbody tr th {\n",
       "        vertical-align: top;\n",
       "    }\n",
       "\n",
       "    .dataframe thead th {\n",
       "        text-align: right;\n",
       "    }\n",
       "</style>\n",
       "<table border=\"1\" class=\"dataframe\">\n",
       "  <thead>\n",
       "    <tr style=\"text-align: right;\">\n",
       "      <th></th>\n",
       "      <th>rtpa</th>\n",
       "      <th>implementing agenc-y/-ies</th>\n",
       "      <th>project</th>\n",
       "      <th>fund source</th>\n",
       "      <th>capital/operation fy</th>\n",
       "      <th>fund amount</th>\n",
       "      <th>project type</th>\n",
       "      <th>fiscal year</th>\n",
       "    </tr>\n",
       "  </thead>\n",
       "  <tbody>\n",
       "    <tr>\n",
       "      <th>0</th>\n",
       "      <td>Alpine County Transportation Commission</td>\n",
       "      <td>Alpine County Transportation Commission</td>\n",
       "      <td>Transit Facility Conversion Project</td>\n",
       "      <td>TIRCP</td>\n",
       "      <td>capital_FY23-24</td>\n",
       "      <td>360641</td>\n",
       "      <td>capital</td>\n",
       "      <td>23-24</td>\n",
       "    </tr>\n",
       "    <tr>\n",
       "      <th>1</th>\n",
       "      <td>Alpine County Transportation Commission</td>\n",
       "      <td>Alpine County Transportation Commission</td>\n",
       "      <td>Transit Facility Conversion Project</td>\n",
       "      <td>TIRCP</td>\n",
       "      <td>capital_FY23-24</td>\n",
       "      <td>0</td>\n",
       "      <td>capital</td>\n",
       "      <td>23-24</td>\n",
       "    </tr>\n",
       "    <tr>\n",
       "      <th>2</th>\n",
       "      <td>Alpine County Transportation Commission</td>\n",
       "      <td>Alpine County Transportation Commission</td>\n",
       "      <td>Transit Facility Conversion Project</td>\n",
       "      <td>ZETCP (GGRF)</td>\n",
       "      <td>capital_FY23-24</td>\n",
       "      <td>3616</td>\n",
       "      <td>capital</td>\n",
       "      <td>23-24</td>\n",
       "    </tr>\n",
       "    <tr>\n",
       "      <th>3</th>\n",
       "      <td>Alpine County Transportation Commission</td>\n",
       "      <td>Alpine County Transportation Commission</td>\n",
       "      <td>Transit Facility Conversion Project</td>\n",
       "      <td>ZETCP (PTA)</td>\n",
       "      <td>capital_FY23-24</td>\n",
       "      <td>3123</td>\n",
       "      <td>capital</td>\n",
       "      <td>23-24</td>\n",
       "    </tr>\n",
       "    <tr>\n",
       "      <th>4</th>\n",
       "      <td>Amador County Transportation Commission</td>\n",
       "      <td>Amador Transit</td>\n",
       "      <td>NaN</td>\n",
       "      <td>TIRCP</td>\n",
       "      <td>capital_FY23-24</td>\n",
       "      <td>100000</td>\n",
       "      <td>capital</td>\n",
       "      <td>23-24</td>\n",
       "    </tr>\n",
       "  </tbody>\n",
       "</table>\n",
       "</div>"
      ],
      "text/plain": [
       "                                      rtpa  \\\n",
       "0  Alpine County Transportation Commission   \n",
       "1  Alpine County Transportation Commission   \n",
       "2  Alpine County Transportation Commission   \n",
       "3  Alpine County Transportation Commission   \n",
       "4  Amador County Transportation Commission   \n",
       "\n",
       "                 implementing agenc-y/-ies  \\\n",
       "0  Alpine County Transportation Commission   \n",
       "1  Alpine County Transportation Commission   \n",
       "2  Alpine County Transportation Commission   \n",
       "3  Alpine County Transportation Commission   \n",
       "4                           Amador Transit   \n",
       "\n",
       "                               project   fund source capital/operation fy  \\\n",
       "0  Transit Facility Conversion Project         TIRCP      capital_FY23-24   \n",
       "1  Transit Facility Conversion Project         TIRCP      capital_FY23-24   \n",
       "2  Transit Facility Conversion Project  ZETCP (GGRF)      capital_FY23-24   \n",
       "3  Transit Facility Conversion Project   ZETCP (PTA)      capital_FY23-24   \n",
       "4                                  NaN         TIRCP      capital_FY23-24   \n",
       "\n",
       "   fund amount project type fiscal year  \n",
       "0       360641      capital       23-24  \n",
       "1            0      capital       23-24  \n",
       "2         3616      capital       23-24  \n",
       "3         3123      capital       23-24  \n",
       "4       100000      capital       23-24  "
      ]
     },
     "metadata": {},
     "output_type": "display_data"
    }
   ],
   "source": [
    "display(type(all_melt), all_melt.shape, all_melt.dtypes, all_melt.head())"
   ]
  },
  {
   "cell_type": "code",
   "execution_count": 131,
   "id": "a6b36880-f563-4af3-96e7-bdcf41b2947e",
   "metadata": {
    "tags": []
   },
   "outputs": [
    {
     "data": {
      "text/plain": [
       "0"
      ]
     },
     "execution_count": 131,
     "metadata": {},
     "output_type": "execute_result"
    }
   ],
   "source": [
    "# check for NaNs\n",
    "all_melt[\"fund amount\"].isna().sum()"
   ]
  },
  {
   "cell_type": "code",
   "execution_count": 132,
   "id": "22af8755-80c2-4213-8f1f-819ccbc51113",
   "metadata": {},
   "outputs": [
    {
     "data": {
      "text/plain": [
       "array([   360641,         0,      3616,      3123,    100000,   2576611,\n",
       "          238532,    500000,   1175501,     69395,     80357,   9085857,\n",
       "          242312,    521458,   6849293,    329561,    295818,   1133408,\n",
       "          101796, 498650905, 119494973,   3706510,     87574,    198860,\n",
       "           84159,   8254231,    108201,     42539,     49259,   4848229,\n",
       "          123518,    271142,    110636,    104561,    696393,    722403,\n",
       "          836515,   1000000,   2080000,   6400000,    200000,    370000,\n",
       "         1486685,    297576,    133646,  10000000,    400000,     92109,\n",
       "          501942,   1019544,   3354086,   2510740,    614200,    250000,\n",
       "          100520,     61421,     53042,  63382700,   4003053,   7956643,\n",
       "         2868594,  60000000,   2328990,    348002,  10126000,   5434000,\n",
       "         1705263,  26000000,    943316,   2050000,      9408,      8124,\n",
       "          124000,    280000,    395000,   1778000,   1400000,   4000000,\n",
       "          387000,    375000,    600000,    422000,   1553000,   1787000,\n",
       "         2000000,    166100,     81151,    300000,   3287498,     79798,\n",
       "          186373,    218366,    137711,     14219,     12279,  17000000,\n",
       "          315836,    597319,    885000,     65103,     11339,     88660,\n",
       "         1590000,   1350328,    146871,    359651,     39119,   1029704,\n",
       "          111998,   1490120,    162076,    707216,     76922,   8210741,\n",
       "          903971,   1108563,    120575,    711044,     77338,   2571742,\n",
       "          279721,    360794,      3781,     75000,   2582360,    133811,\n",
       "         1556248,    122726,     84007,    398955,    436080,   5629856,\n",
       "           65070,   1136162, 299349095, 200560082,  55869027,   3745769,\n",
       "         1440000,    895350,    671000,   1023503,     51497,    104562,\n",
       "         1070173,    874515,    800000,   3530970,    120000,   4100000,\n",
       "          311093,    507891,   1610740,  13162598,   1065857,   1116250,\n",
       "           64211,   2337345,    195221,   9685392,    109354,    505726,\n",
       "            9836,    260684,    130000,    750000,   3275000,    877000,\n",
       "          550000,    163000,   1947000,   2611000,   3595798,    194840,\n",
       "          955441,    208000,    138052,     14865,  86454000,   5850000,\n",
       "         9607247,   5802814,   1673362,    958737,     81552,   1124000,\n",
       "          651953,     15000,    146000,    227000,   5550000,   2348047,\n",
       "          666953,     51998,   1800000,     42463,   1362548,     83215,\n",
       "          362907,     22164,   1503605,     91830,    713606,     43583,\n",
       "         8285045,    505993,   3027524,   1118595,     68316,    717478,\n",
       "           43819,   2595015,    158486,   1193263,   1500000,   4842696,\n",
       "         1238400,    504181,   2633000,   4974247,   5000000,     87619,\n",
       "           33543,    468504,      1000,     50000,    273000,     47500,\n",
       "          150000,   1715347,   1315761,    699239,    139725,    902800,\n",
       "          496423,    843000,   7407247,   5200000,     51000,   1234074,\n",
       "         6920000,   1342463,    243000,    441926,    157537,     63456,\n",
       "          208011,    772834,    342326,    391693,    204188,     51028,\n",
       "           40000,    188112,   2188470,    123336,    378520,    292543,\n",
       "          239281,     40801,   8700000,   6000000,   7000000,    595000,\n",
       "           63017,    375165,     25000,    439857,     34955,     10389,\n",
       "        13633476,   1215715,   1407753, 116608526,  11059106,  10414682,\n",
       "        26500000,  10488545,    334937,     10000,    350000,     30000,\n",
       "         1910431,    432746,    413152,     30084,    862060,   2200000,\n",
       "         1200000,   1259680,   3500000,  11000000,  12000000,   2075000,\n",
       "           51500,    202910,    704157,    140378,      2091,   7667149,\n",
       "         1471701,  19136022,  37900000,   6072000,   5100000,   4511455,\n",
       "          665063,     11067,   4871741,     31350,     65000,   1100000,\n",
       "         1643995,  27834889,   2971955,    291131,  13418000,     53045,\n",
       "          147471,      5000,   7790198,   1300000,     20000,   1350000,\n",
       "        28086784,   7415199,    432747,  70712166,     60803,    704224,\n",
       "          155639,   9520904,    825180])"
      ]
     },
     "execution_count": 132,
     "metadata": {},
     "output_type": "execute_result"
    }
   ],
   "source": [
    "# checking fund amounts for any non-int values\n",
    "all_melt[\"fund amount\"].unique()"
   ]
  },
  {
   "cell_type": "code",
   "execution_count": 134,
   "id": "1be6fe7a-729b-4df3-bd2b-345b951a3ddf",
   "metadata": {},
   "outputs": [
    {
     "data": {
      "text/plain": [
       "TIRCP           1352\n",
       "ZETCP (GGRF)     464\n",
       "ZETCP (PTA)      304\n",
       "ZETCP            120\n",
       "CMAQ              16\n",
       "Measure V          8\n",
       "`5339              8\n",
       "SGR                8\n",
       "Farebox            8\n",
       "`5307              8\n",
       "Name: fund source, dtype: int64"
      ]
     },
     "metadata": {},
     "output_type": "display_data"
    }
   ],
   "source": [
    "display(all_melt[\"fund source\"].value_counts())"
   ]
  },
  {
   "cell_type": "markdown",
   "id": "1a785436-aa30-44d7-82bf-6b91f387caac",
   "metadata": {},
   "source": [
    "# Save Melt DF Parquet to GCS"
   ]
  },
  {
   "cell_type": "code",
   "execution_count": 63,
   "id": "9b747237-1ffe-4910-9cad-7c23e6c9d6bb",
   "metadata": {},
   "outputs": [],
   "source": [
    "all_melt.to_parquet(f\"{GCS_PATH}all_fund_requests_melt.parquet\")"
   ]
  },
  {
   "cell_type": "markdown",
   "id": "7e6fc118-6ad7-4832-9c03-f32e18ce4cfe",
   "metadata": {},
   "source": [
    "# Draft Aggregations"
   ]
  },
  {
   "cell_type": "code",
   "execution_count": 135,
   "id": "28ffc2ba-9d8e-4c5d-8be5-30e718906099",
   "metadata": {},
   "outputs": [],
   "source": [
    "def make_bar(data, x_axis, y_axis):\n",
    "    chart = (\n",
    "        alt.Chart(data)\n",
    "        .mark_bar()\n",
    "        .encode(\n",
    "            x=x_axis,\n",
    "            y=y_axis,\n",
    "        )\n",
    "    )\n",
    "    return chart"
   ]
  },
  {
   "cell_type": "code",
   "execution_count": 136,
   "id": "a4f528b2-4de2-4835-8620-14a528e68a9a",
   "metadata": {},
   "outputs": [
    {
     "data": {
      "text/html": [
       "<div>\n",
       "<style scoped>\n",
       "    .dataframe tbody tr th:only-of-type {\n",
       "        vertical-align: middle;\n",
       "    }\n",
       "\n",
       "    .dataframe tbody tr th {\n",
       "        vertical-align: top;\n",
       "    }\n",
       "\n",
       "    .dataframe thead th {\n",
       "        text-align: right;\n",
       "    }\n",
       "</style>\n",
       "<table border=\"1\" class=\"dataframe\">\n",
       "  <thead>\n",
       "    <tr style=\"text-align: right;\">\n",
       "      <th></th>\n",
       "      <th>project type</th>\n",
       "      <th>fund amount</th>\n",
       "    </tr>\n",
       "  </thead>\n",
       "  <tbody>\n",
       "    <tr>\n",
       "      <th>0</th>\n",
       "      <td>capital</td>\n",
       "      <td>1855348721</td>\n",
       "    </tr>\n",
       "    <tr>\n",
       "      <th>1</th>\n",
       "      <td>operating</td>\n",
       "      <td>625654847</td>\n",
       "    </tr>\n",
       "  </tbody>\n",
       "</table>\n",
       "</div>"
      ],
      "text/plain": [
       "  project type  fund amount\n",
       "0      capital   1855348721\n",
       "1    operating    625654847"
      ]
     },
     "metadata": {},
     "output_type": "display_data"
    },
    {
     "data": {
      "text/html": [
       "\n",
       "<style>\n",
       "  #altair-viz-2b4e9780a9584b5e98ed8a1128a6c10e.vega-embed {\n",
       "    width: 100%;\n",
       "    display: flex;\n",
       "  }\n",
       "\n",
       "  #altair-viz-2b4e9780a9584b5e98ed8a1128a6c10e.vega-embed details,\n",
       "  #altair-viz-2b4e9780a9584b5e98ed8a1128a6c10e.vega-embed details summary {\n",
       "    position: relative;\n",
       "  }\n",
       "</style>\n",
       "<div id=\"altair-viz-2b4e9780a9584b5e98ed8a1128a6c10e\"></div>\n",
       "<script type=\"text/javascript\">\n",
       "  var VEGA_DEBUG = (typeof VEGA_DEBUG == \"undefined\") ? {} : VEGA_DEBUG;\n",
       "  (function(spec, embedOpt){\n",
       "    let outputDiv = document.currentScript.previousElementSibling;\n",
       "    if (outputDiv.id !== \"altair-viz-2b4e9780a9584b5e98ed8a1128a6c10e\") {\n",
       "      outputDiv = document.getElementById(\"altair-viz-2b4e9780a9584b5e98ed8a1128a6c10e\");\n",
       "    }\n",
       "    const paths = {\n",
       "      \"vega\": \"https://cdn.jsdelivr.net/npm/vega@5?noext\",\n",
       "      \"vega-lib\": \"https://cdn.jsdelivr.net/npm/vega-lib?noext\",\n",
       "      \"vega-lite\": \"https://cdn.jsdelivr.net/npm/vega-lite@5.17.0?noext\",\n",
       "      \"vega-embed\": \"https://cdn.jsdelivr.net/npm/vega-embed@6?noext\",\n",
       "    };\n",
       "\n",
       "    function maybeLoadScript(lib, version) {\n",
       "      var key = `${lib.replace(\"-\", \"\")}_version`;\n",
       "      return (VEGA_DEBUG[key] == version) ?\n",
       "        Promise.resolve(paths[lib]) :\n",
       "        new Promise(function(resolve, reject) {\n",
       "          var s = document.createElement('script');\n",
       "          document.getElementsByTagName(\"head\")[0].appendChild(s);\n",
       "          s.async = true;\n",
       "          s.onload = () => {\n",
       "            VEGA_DEBUG[key] = version;\n",
       "            return resolve(paths[lib]);\n",
       "          };\n",
       "          s.onerror = () => reject(`Error loading script: ${paths[lib]}`);\n",
       "          s.src = paths[lib];\n",
       "        });\n",
       "    }\n",
       "\n",
       "    function showError(err) {\n",
       "      outputDiv.innerHTML = `<div class=\"error\" style=\"color:red;\">${err}</div>`;\n",
       "      throw err;\n",
       "    }\n",
       "\n",
       "    function displayChart(vegaEmbed) {\n",
       "      vegaEmbed(outputDiv, spec, embedOpt)\n",
       "        .catch(err => showError(`Javascript Error: ${err.message}<br>This usually means there's a typo in your chart specification. See the javascript console for the full traceback.`));\n",
       "    }\n",
       "\n",
       "    if(typeof define === \"function\" && define.amd) {\n",
       "      requirejs.config({paths});\n",
       "      require([\"vega-embed\"], displayChart, err => showError(`Error loading script: ${err.message}`));\n",
       "    } else {\n",
       "      maybeLoadScript(\"vega\", \"5\")\n",
       "        .then(() => maybeLoadScript(\"vega-lite\", \"5.17.0\"))\n",
       "        .then(() => maybeLoadScript(\"vega-embed\", \"6\"))\n",
       "        .catch(showError)\n",
       "        .then(() => displayChart(vegaEmbed));\n",
       "    }\n",
       "  })({\"config\": {\"view\": {\"continuousWidth\": 300, \"continuousHeight\": 300}}, \"data\": {\"name\": \"data-1b093f4fd754b12a94a60701a45260f5\"}, \"mark\": {\"type\": \"bar\"}, \"encoding\": {\"x\": {\"field\": \"fund amount\", \"type\": \"quantitative\"}, \"y\": {\"field\": \"project type\", \"type\": \"nominal\"}}, \"$schema\": \"https://vega.github.io/schema/vega-lite/v5.17.0.json\", \"datasets\": {\"data-1b093f4fd754b12a94a60701a45260f5\": [{\"project type\": \"capital\", \"fund amount\": 1855348721}, {\"project type\": \"operating\", \"fund amount\": 625654847}]}}, {\"mode\": \"vega-lite\"});\n",
       "</script>"
      ],
      "text/plain": [
       "alt.Chart(...)"
      ]
     },
     "execution_count": 136,
     "metadata": {},
     "output_type": "execute_result"
    }
   ],
   "source": [
    "by_type = (\n",
    "    all_melt.groupby([\"project type\"])\n",
    "    .agg(\n",
    "        {\n",
    "            \"fund amount\": \"sum\",\n",
    "        }\n",
    "    )\n",
    "    .reset_index()\n",
    ")\n",
    "\n",
    "display(by_type)\n",
    "make_bar(by_type, y_axis=\"project type\", x_axis=\"fund amount\")"
   ]
  },
  {
   "cell_type": "code",
   "execution_count": 137,
   "id": "b7ce8b24-f16e-4045-9f83-347442b16cd1",
   "metadata": {},
   "outputs": [
    {
     "data": {
      "text/html": [
       "<div>\n",
       "<style scoped>\n",
       "    .dataframe tbody tr th:only-of-type {\n",
       "        vertical-align: middle;\n",
       "    }\n",
       "\n",
       "    .dataframe tbody tr th {\n",
       "        vertical-align: top;\n",
       "    }\n",
       "\n",
       "    .dataframe thead th {\n",
       "        text-align: right;\n",
       "    }\n",
       "</style>\n",
       "<table border=\"1\" class=\"dataframe\">\n",
       "  <thead>\n",
       "    <tr style=\"text-align: right;\">\n",
       "      <th></th>\n",
       "      <th>fiscal year</th>\n",
       "      <th>project type</th>\n",
       "      <th>fund amount</th>\n",
       "    </tr>\n",
       "  </thead>\n",
       "  <tbody>\n",
       "    <tr>\n",
       "      <th>0</th>\n",
       "      <td>23-24</td>\n",
       "      <td>capital</td>\n",
       "      <td>945242943</td>\n",
       "    </tr>\n",
       "    <tr>\n",
       "      <th>1</th>\n",
       "      <td>23-24</td>\n",
       "      <td>operating</td>\n",
       "      <td>230807266</td>\n",
       "    </tr>\n",
       "    <tr>\n",
       "      <th>2</th>\n",
       "      <td>24-25</td>\n",
       "      <td>capital</td>\n",
       "      <td>812480147</td>\n",
       "    </tr>\n",
       "    <tr>\n",
       "      <th>3</th>\n",
       "      <td>24-25</td>\n",
       "      <td>operating</td>\n",
       "      <td>169494114</td>\n",
       "    </tr>\n",
       "    <tr>\n",
       "      <th>4</th>\n",
       "      <td>25-26</td>\n",
       "      <td>capital</td>\n",
       "      <td>49092309</td>\n",
       "    </tr>\n",
       "    <tr>\n",
       "      <th>5</th>\n",
       "      <td>25-26</td>\n",
       "      <td>operating</td>\n",
       "      <td>96177774</td>\n",
       "    </tr>\n",
       "    <tr>\n",
       "      <th>6</th>\n",
       "      <td>26-27</td>\n",
       "      <td>capital</td>\n",
       "      <td>48533322</td>\n",
       "    </tr>\n",
       "    <tr>\n",
       "      <th>7</th>\n",
       "      <td>26-27</td>\n",
       "      <td>operating</td>\n",
       "      <td>129175693</td>\n",
       "    </tr>\n",
       "  </tbody>\n",
       "</table>\n",
       "</div>"
      ],
      "text/plain": [
       "  fiscal year project type  fund amount\n",
       "0       23-24      capital    945242943\n",
       "1       23-24    operating    230807266\n",
       "2       24-25      capital    812480147\n",
       "3       24-25    operating    169494114\n",
       "4       25-26      capital     49092309\n",
       "5       25-26    operating     96177774\n",
       "6       26-27      capital     48533322\n",
       "7       26-27    operating    129175693"
      ]
     },
     "metadata": {},
     "output_type": "display_data"
    },
    {
     "data": {
      "text/html": [
       "\n",
       "<style>\n",
       "  #altair-viz-204a451f213745888cc146e6acce09ca.vega-embed {\n",
       "    width: 100%;\n",
       "    display: flex;\n",
       "  }\n",
       "\n",
       "  #altair-viz-204a451f213745888cc146e6acce09ca.vega-embed details,\n",
       "  #altair-viz-204a451f213745888cc146e6acce09ca.vega-embed details summary {\n",
       "    position: relative;\n",
       "  }\n",
       "</style>\n",
       "<div id=\"altair-viz-204a451f213745888cc146e6acce09ca\"></div>\n",
       "<script type=\"text/javascript\">\n",
       "  var VEGA_DEBUG = (typeof VEGA_DEBUG == \"undefined\") ? {} : VEGA_DEBUG;\n",
       "  (function(spec, embedOpt){\n",
       "    let outputDiv = document.currentScript.previousElementSibling;\n",
       "    if (outputDiv.id !== \"altair-viz-204a451f213745888cc146e6acce09ca\") {\n",
       "      outputDiv = document.getElementById(\"altair-viz-204a451f213745888cc146e6acce09ca\");\n",
       "    }\n",
       "    const paths = {\n",
       "      \"vega\": \"https://cdn.jsdelivr.net/npm/vega@5?noext\",\n",
       "      \"vega-lib\": \"https://cdn.jsdelivr.net/npm/vega-lib?noext\",\n",
       "      \"vega-lite\": \"https://cdn.jsdelivr.net/npm/vega-lite@5.17.0?noext\",\n",
       "      \"vega-embed\": \"https://cdn.jsdelivr.net/npm/vega-embed@6?noext\",\n",
       "    };\n",
       "\n",
       "    function maybeLoadScript(lib, version) {\n",
       "      var key = `${lib.replace(\"-\", \"\")}_version`;\n",
       "      return (VEGA_DEBUG[key] == version) ?\n",
       "        Promise.resolve(paths[lib]) :\n",
       "        new Promise(function(resolve, reject) {\n",
       "          var s = document.createElement('script');\n",
       "          document.getElementsByTagName(\"head\")[0].appendChild(s);\n",
       "          s.async = true;\n",
       "          s.onload = () => {\n",
       "            VEGA_DEBUG[key] = version;\n",
       "            return resolve(paths[lib]);\n",
       "          };\n",
       "          s.onerror = () => reject(`Error loading script: ${paths[lib]}`);\n",
       "          s.src = paths[lib];\n",
       "        });\n",
       "    }\n",
       "\n",
       "    function showError(err) {\n",
       "      outputDiv.innerHTML = `<div class=\"error\" style=\"color:red;\">${err}</div>`;\n",
       "      throw err;\n",
       "    }\n",
       "\n",
       "    function displayChart(vegaEmbed) {\n",
       "      vegaEmbed(outputDiv, spec, embedOpt)\n",
       "        .catch(err => showError(`Javascript Error: ${err.message}<br>This usually means there's a typo in your chart specification. See the javascript console for the full traceback.`));\n",
       "    }\n",
       "\n",
       "    if(typeof define === \"function\" && define.amd) {\n",
       "      requirejs.config({paths});\n",
       "      require([\"vega-embed\"], displayChart, err => showError(`Error loading script: ${err.message}`));\n",
       "    } else {\n",
       "      maybeLoadScript(\"vega\", \"5\")\n",
       "        .then(() => maybeLoadScript(\"vega-lite\", \"5.17.0\"))\n",
       "        .then(() => maybeLoadScript(\"vega-embed\", \"6\"))\n",
       "        .catch(showError)\n",
       "        .then(() => displayChart(vegaEmbed));\n",
       "    }\n",
       "  })({\"config\": {\"view\": {\"continuousWidth\": 300, \"continuousHeight\": 300}}, \"data\": {\"name\": \"data-a7e1deb4b2d7757328984cb1370701fb\"}, \"mark\": {\"type\": \"bar\"}, \"encoding\": {\"x\": {\"field\": \"fund amount\", \"type\": \"quantitative\"}, \"y\": {\"field\": \"fiscal year\", \"type\": \"nominal\"}}, \"$schema\": \"https://vega.github.io/schema/vega-lite/v5.17.0.json\", \"datasets\": {\"data-a7e1deb4b2d7757328984cb1370701fb\": [{\"fiscal year\": \"23-24\", \"project type\": \"capital\", \"fund amount\": 945242943}, {\"fiscal year\": \"23-24\", \"project type\": \"operating\", \"fund amount\": 230807266}, {\"fiscal year\": \"24-25\", \"project type\": \"capital\", \"fund amount\": 812480147}, {\"fiscal year\": \"24-25\", \"project type\": \"operating\", \"fund amount\": 169494114}, {\"fiscal year\": \"25-26\", \"project type\": \"capital\", \"fund amount\": 49092309}, {\"fiscal year\": \"25-26\", \"project type\": \"operating\", \"fund amount\": 96177774}, {\"fiscal year\": \"26-27\", \"project type\": \"capital\", \"fund amount\": 48533322}, {\"fiscal year\": \"26-27\", \"project type\": \"operating\", \"fund amount\": 129175693}]}}, {\"mode\": \"vega-lite\"});\n",
       "</script>"
      ],
      "text/plain": [
       "alt.Chart(...)"
      ]
     },
     "execution_count": 137,
     "metadata": {},
     "output_type": "execute_result"
    }
   ],
   "source": [
    "by_year = (\n",
    "    all_melt.groupby([\"fiscal year\", \"project type\"])\n",
    "    .agg(\n",
    "        {\n",
    "            \"fund amount\": \"sum\",\n",
    "        }\n",
    "    )\n",
    "    .reset_index()\n",
    ")\n",
    "\n",
    "display(by_year)\n",
    "make_bar(\n",
    "    by_year,\n",
    "    y_axis=\"fiscal year\",\n",
    "    x_axis=\"fund amount\",\n",
    ")"
   ]
  },
  {
   "cell_type": "code",
   "execution_count": 138,
   "id": "2fdc75f3-f1bc-4b4b-bd12-4af88ce25128",
   "metadata": {},
   "outputs": [
    {
     "data": {
      "text/html": [
       "\n",
       "<style>\n",
       "  #altair-viz-6d6d1b86b37149009bf5df65b66e1a94.vega-embed {\n",
       "    width: 100%;\n",
       "    display: flex;\n",
       "  }\n",
       "\n",
       "  #altair-viz-6d6d1b86b37149009bf5df65b66e1a94.vega-embed details,\n",
       "  #altair-viz-6d6d1b86b37149009bf5df65b66e1a94.vega-embed details summary {\n",
       "    position: relative;\n",
       "  }\n",
       "</style>\n",
       "<div id=\"altair-viz-6d6d1b86b37149009bf5df65b66e1a94\"></div>\n",
       "<script type=\"text/javascript\">\n",
       "  var VEGA_DEBUG = (typeof VEGA_DEBUG == \"undefined\") ? {} : VEGA_DEBUG;\n",
       "  (function(spec, embedOpt){\n",
       "    let outputDiv = document.currentScript.previousElementSibling;\n",
       "    if (outputDiv.id !== \"altair-viz-6d6d1b86b37149009bf5df65b66e1a94\") {\n",
       "      outputDiv = document.getElementById(\"altair-viz-6d6d1b86b37149009bf5df65b66e1a94\");\n",
       "    }\n",
       "    const paths = {\n",
       "      \"vega\": \"https://cdn.jsdelivr.net/npm/vega@5?noext\",\n",
       "      \"vega-lib\": \"https://cdn.jsdelivr.net/npm/vega-lib?noext\",\n",
       "      \"vega-lite\": \"https://cdn.jsdelivr.net/npm/vega-lite@5.17.0?noext\",\n",
       "      \"vega-embed\": \"https://cdn.jsdelivr.net/npm/vega-embed@6?noext\",\n",
       "    };\n",
       "\n",
       "    function maybeLoadScript(lib, version) {\n",
       "      var key = `${lib.replace(\"-\", \"\")}_version`;\n",
       "      return (VEGA_DEBUG[key] == version) ?\n",
       "        Promise.resolve(paths[lib]) :\n",
       "        new Promise(function(resolve, reject) {\n",
       "          var s = document.createElement('script');\n",
       "          document.getElementsByTagName(\"head\")[0].appendChild(s);\n",
       "          s.async = true;\n",
       "          s.onload = () => {\n",
       "            VEGA_DEBUG[key] = version;\n",
       "            return resolve(paths[lib]);\n",
       "          };\n",
       "          s.onerror = () => reject(`Error loading script: ${paths[lib]}`);\n",
       "          s.src = paths[lib];\n",
       "        });\n",
       "    }\n",
       "\n",
       "    function showError(err) {\n",
       "      outputDiv.innerHTML = `<div class=\"error\" style=\"color:red;\">${err}</div>`;\n",
       "      throw err;\n",
       "    }\n",
       "\n",
       "    function displayChart(vegaEmbed) {\n",
       "      vegaEmbed(outputDiv, spec, embedOpt)\n",
       "        .catch(err => showError(`Javascript Error: ${err.message}<br>This usually means there's a typo in your chart specification. See the javascript console for the full traceback.`));\n",
       "    }\n",
       "\n",
       "    if(typeof define === \"function\" && define.amd) {\n",
       "      requirejs.config({paths});\n",
       "      require([\"vega-embed\"], displayChart, err => showError(`Error loading script: ${err.message}`));\n",
       "    } else {\n",
       "      maybeLoadScript(\"vega\", \"5\")\n",
       "        .then(() => maybeLoadScript(\"vega-lite\", \"5.17.0\"))\n",
       "        .then(() => maybeLoadScript(\"vega-embed\", \"6\"))\n",
       "        .catch(showError)\n",
       "        .then(() => displayChart(vegaEmbed));\n",
       "    }\n",
       "  })({\"config\": {\"view\": {\"continuousWidth\": 300, \"continuousHeight\": 300}}, \"data\": {\"name\": \"data-a7e1deb4b2d7757328984cb1370701fb\"}, \"mark\": {\"type\": \"line\", \"point\": true}, \"encoding\": {\"color\": {\"field\": \"project type\", \"type\": \"nominal\"}, \"x\": {\"field\": \"fiscal year\", \"type\": \"nominal\"}, \"y\": {\"field\": \"fund amount\", \"type\": \"quantitative\"}}, \"$schema\": \"https://vega.github.io/schema/vega-lite/v5.17.0.json\", \"datasets\": {\"data-a7e1deb4b2d7757328984cb1370701fb\": [{\"fiscal year\": \"23-24\", \"project type\": \"capital\", \"fund amount\": 945242943}, {\"fiscal year\": \"23-24\", \"project type\": \"operating\", \"fund amount\": 230807266}, {\"fiscal year\": \"24-25\", \"project type\": \"capital\", \"fund amount\": 812480147}, {\"fiscal year\": \"24-25\", \"project type\": \"operating\", \"fund amount\": 169494114}, {\"fiscal year\": \"25-26\", \"project type\": \"capital\", \"fund amount\": 49092309}, {\"fiscal year\": \"25-26\", \"project type\": \"operating\", \"fund amount\": 96177774}, {\"fiscal year\": \"26-27\", \"project type\": \"capital\", \"fund amount\": 48533322}, {\"fiscal year\": \"26-27\", \"project type\": \"operating\", \"fund amount\": 129175693}]}}, {\"mode\": \"vega-lite\"});\n",
       "</script>"
      ],
      "text/plain": [
       "alt.Chart(...)"
      ]
     },
     "execution_count": 138,
     "metadata": {},
     "output_type": "execute_result"
    }
   ],
   "source": [
    "alt.Chart(by_year).mark_line(point=True).encode(\n",
    "    x=\"fiscal year\", y=\"fund amount\", color=\"project type\"\n",
    ")"
   ]
  },
  {
   "cell_type": "code",
   "execution_count": 139,
   "id": "572c255d-0ae5-4588-a0b1-5c9cfbef4870",
   "metadata": {},
   "outputs": [
    {
     "data": {
      "text/html": [
       "\n",
       "<style>\n",
       "  #altair-viz-b166ed06133248079ada3d0c808fdcf1.vega-embed {\n",
       "    width: 100%;\n",
       "    display: flex;\n",
       "  }\n",
       "\n",
       "  #altair-viz-b166ed06133248079ada3d0c808fdcf1.vega-embed details,\n",
       "  #altair-viz-b166ed06133248079ada3d0c808fdcf1.vega-embed details summary {\n",
       "    position: relative;\n",
       "  }\n",
       "</style>\n",
       "<div id=\"altair-viz-b166ed06133248079ada3d0c808fdcf1\"></div>\n",
       "<script type=\"text/javascript\">\n",
       "  var VEGA_DEBUG = (typeof VEGA_DEBUG == \"undefined\") ? {} : VEGA_DEBUG;\n",
       "  (function(spec, embedOpt){\n",
       "    let outputDiv = document.currentScript.previousElementSibling;\n",
       "    if (outputDiv.id !== \"altair-viz-b166ed06133248079ada3d0c808fdcf1\") {\n",
       "      outputDiv = document.getElementById(\"altair-viz-b166ed06133248079ada3d0c808fdcf1\");\n",
       "    }\n",
       "    const paths = {\n",
       "      \"vega\": \"https://cdn.jsdelivr.net/npm/vega@5?noext\",\n",
       "      \"vega-lib\": \"https://cdn.jsdelivr.net/npm/vega-lib?noext\",\n",
       "      \"vega-lite\": \"https://cdn.jsdelivr.net/npm/vega-lite@5.17.0?noext\",\n",
       "      \"vega-embed\": \"https://cdn.jsdelivr.net/npm/vega-embed@6?noext\",\n",
       "    };\n",
       "\n",
       "    function maybeLoadScript(lib, version) {\n",
       "      var key = `${lib.replace(\"-\", \"\")}_version`;\n",
       "      return (VEGA_DEBUG[key] == version) ?\n",
       "        Promise.resolve(paths[lib]) :\n",
       "        new Promise(function(resolve, reject) {\n",
       "          var s = document.createElement('script');\n",
       "          document.getElementsByTagName(\"head\")[0].appendChild(s);\n",
       "          s.async = true;\n",
       "          s.onload = () => {\n",
       "            VEGA_DEBUG[key] = version;\n",
       "            return resolve(paths[lib]);\n",
       "          };\n",
       "          s.onerror = () => reject(`Error loading script: ${paths[lib]}`);\n",
       "          s.src = paths[lib];\n",
       "        });\n",
       "    }\n",
       "\n",
       "    function showError(err) {\n",
       "      outputDiv.innerHTML = `<div class=\"error\" style=\"color:red;\">${err}</div>`;\n",
       "      throw err;\n",
       "    }\n",
       "\n",
       "    function displayChart(vegaEmbed) {\n",
       "      vegaEmbed(outputDiv, spec, embedOpt)\n",
       "        .catch(err => showError(`Javascript Error: ${err.message}<br>This usually means there's a typo in your chart specification. See the javascript console for the full traceback.`));\n",
       "    }\n",
       "\n",
       "    if(typeof define === \"function\" && define.amd) {\n",
       "      requirejs.config({paths});\n",
       "      require([\"vega-embed\"], displayChart, err => showError(`Error loading script: ${err.message}`));\n",
       "    } else {\n",
       "      maybeLoadScript(\"vega\", \"5\")\n",
       "        .then(() => maybeLoadScript(\"vega-lite\", \"5.17.0\"))\n",
       "        .then(() => maybeLoadScript(\"vega-embed\", \"6\"))\n",
       "        .catch(showError)\n",
       "        .then(() => displayChart(vegaEmbed));\n",
       "    }\n",
       "  })({\"config\": {\"view\": {\"continuousWidth\": 300, \"continuousHeight\": 300}}, \"data\": {\"name\": \"data-a7e1deb4b2d7757328984cb1370701fb\"}, \"mark\": {\"type\": \"bar\", \"point\": true}, \"encoding\": {\"color\": {\"field\": \"project type\", \"type\": \"nominal\"}, \"x\": {\"field\": \"fiscal year\", \"type\": \"nominal\"}, \"y\": {\"field\": \"fund amount\", \"type\": \"quantitative\"}}, \"$schema\": \"https://vega.github.io/schema/vega-lite/v5.17.0.json\", \"datasets\": {\"data-a7e1deb4b2d7757328984cb1370701fb\": [{\"fiscal year\": \"23-24\", \"project type\": \"capital\", \"fund amount\": 945242943}, {\"fiscal year\": \"23-24\", \"project type\": \"operating\", \"fund amount\": 230807266}, {\"fiscal year\": \"24-25\", \"project type\": \"capital\", \"fund amount\": 812480147}, {\"fiscal year\": \"24-25\", \"project type\": \"operating\", \"fund amount\": 169494114}, {\"fiscal year\": \"25-26\", \"project type\": \"capital\", \"fund amount\": 49092309}, {\"fiscal year\": \"25-26\", \"project type\": \"operating\", \"fund amount\": 96177774}, {\"fiscal year\": \"26-27\", \"project type\": \"capital\", \"fund amount\": 48533322}, {\"fiscal year\": \"26-27\", \"project type\": \"operating\", \"fund amount\": 129175693}]}}, {\"mode\": \"vega-lite\"});\n",
       "</script>"
      ],
      "text/plain": [
       "alt.Chart(...)"
      ]
     },
     "execution_count": 139,
     "metadata": {},
     "output_type": "execute_result"
    }
   ],
   "source": [
    "alt.Chart(by_year).mark_bar(point=True).encode(\n",
    "    x=\"fiscal year\", y=\"fund amount\", color=\"project type\"\n",
    ")"
   ]
  },
  {
   "cell_type": "code",
   "execution_count": 140,
   "id": "d6371a85-059d-4c5d-903f-5525ab9dd8df",
   "metadata": {},
   "outputs": [
    {
     "data": {
      "text/html": [
       "\n",
       "<style>\n",
       "  #altair-viz-043b4d04a3b9439cb99925bdbe18eb87.vega-embed {\n",
       "    width: 100%;\n",
       "    display: flex;\n",
       "  }\n",
       "\n",
       "  #altair-viz-043b4d04a3b9439cb99925bdbe18eb87.vega-embed details,\n",
       "  #altair-viz-043b4d04a3b9439cb99925bdbe18eb87.vega-embed details summary {\n",
       "    position: relative;\n",
       "  }\n",
       "</style>\n",
       "<div id=\"altair-viz-043b4d04a3b9439cb99925bdbe18eb87\"></div>\n",
       "<script type=\"text/javascript\">\n",
       "  var VEGA_DEBUG = (typeof VEGA_DEBUG == \"undefined\") ? {} : VEGA_DEBUG;\n",
       "  (function(spec, embedOpt){\n",
       "    let outputDiv = document.currentScript.previousElementSibling;\n",
       "    if (outputDiv.id !== \"altair-viz-043b4d04a3b9439cb99925bdbe18eb87\") {\n",
       "      outputDiv = document.getElementById(\"altair-viz-043b4d04a3b9439cb99925bdbe18eb87\");\n",
       "    }\n",
       "    const paths = {\n",
       "      \"vega\": \"https://cdn.jsdelivr.net/npm/vega@5?noext\",\n",
       "      \"vega-lib\": \"https://cdn.jsdelivr.net/npm/vega-lib?noext\",\n",
       "      \"vega-lite\": \"https://cdn.jsdelivr.net/npm/vega-lite@5.17.0?noext\",\n",
       "      \"vega-embed\": \"https://cdn.jsdelivr.net/npm/vega-embed@6?noext\",\n",
       "    };\n",
       "\n",
       "    function maybeLoadScript(lib, version) {\n",
       "      var key = `${lib.replace(\"-\", \"\")}_version`;\n",
       "      return (VEGA_DEBUG[key] == version) ?\n",
       "        Promise.resolve(paths[lib]) :\n",
       "        new Promise(function(resolve, reject) {\n",
       "          var s = document.createElement('script');\n",
       "          document.getElementsByTagName(\"head\")[0].appendChild(s);\n",
       "          s.async = true;\n",
       "          s.onload = () => {\n",
       "            VEGA_DEBUG[key] = version;\n",
       "            return resolve(paths[lib]);\n",
       "          };\n",
       "          s.onerror = () => reject(`Error loading script: ${paths[lib]}`);\n",
       "          s.src = paths[lib];\n",
       "        });\n",
       "    }\n",
       "\n",
       "    function showError(err) {\n",
       "      outputDiv.innerHTML = `<div class=\"error\" style=\"color:red;\">${err}</div>`;\n",
       "      throw err;\n",
       "    }\n",
       "\n",
       "    function displayChart(vegaEmbed) {\n",
       "      vegaEmbed(outputDiv, spec, embedOpt)\n",
       "        .catch(err => showError(`Javascript Error: ${err.message}<br>This usually means there's a typo in your chart specification. See the javascript console for the full traceback.`));\n",
       "    }\n",
       "\n",
       "    if(typeof define === \"function\" && define.amd) {\n",
       "      requirejs.config({paths});\n",
       "      require([\"vega-embed\"], displayChart, err => showError(`Error loading script: ${err.message}`));\n",
       "    } else {\n",
       "      maybeLoadScript(\"vega\", \"5\")\n",
       "        .then(() => maybeLoadScript(\"vega-lite\", \"5.17.0\"))\n",
       "        .then(() => maybeLoadScript(\"vega-embed\", \"6\"))\n",
       "        .catch(showError)\n",
       "        .then(() => displayChart(vegaEmbed));\n",
       "    }\n",
       "  })({\"config\": {\"view\": {\"continuousWidth\": 300, \"continuousHeight\": 300}}, \"data\": {\"name\": \"data-7bf9c430f850755e275907cef1f095c7\"}, \"mark\": {\"type\": \"bar\"}, \"encoding\": {\"x\": {\"field\": \"fund amount\", \"type\": \"quantitative\"}, \"y\": {\"field\": \"fund source\", \"type\": \"nominal\"}}, \"$schema\": \"https://vega.github.io/schema/vega-lite/v5.17.0.json\", \"datasets\": {\"data-7bf9c430f850755e275907cef1f095c7\": [{\"fund source\": \"CMAQ\", \"fund amount\": 2300000, \"rtpa\": 1}, {\"fund source\": \"Farebox\", \"fund amount\": 400000, \"rtpa\": 1}, {\"fund source\": \"Measure V\", \"fund amount\": 500000, \"rtpa\": 1}, {\"fund source\": \"SGR\", \"fund amount\": 620000, \"rtpa\": 1}, {\"fund source\": \"TIRCP\", \"fund amount\": 2114010519, \"rtpa\": 30}, {\"fund source\": \"ZETCP\", \"fund amount\": 58874499, \"rtpa\": 3}, {\"fund source\": \"ZETCP (GGRF)\", \"fund amount\": 275714380, \"rtpa\": 26}, {\"fund source\": \"ZETCP (PTA)\", \"fund amount\": 27584170, \"rtpa\": 23}, {\"fund source\": \"`5307\", \"fund amount\": 400000, \"rtpa\": 1}, {\"fund source\": \"`5339\", \"fund amount\": 600000, \"rtpa\": 1}]}}, {\"mode\": \"vega-lite\"});\n",
       "</script>"
      ],
      "text/plain": [
       "alt.Chart(...)"
      ]
     },
     "execution_count": 140,
     "metadata": {},
     "output_type": "execute_result"
    }
   ],
   "source": [
    "by_source = (\n",
    "    all_melt.groupby([\"fund source\"])\n",
    "    .agg({\"fund amount\": \"sum\", \"rtpa\": \"nunique\"})\n",
    "    .reset_index()\n",
    ")\n",
    "\n",
    "make_bar(by_source, y_axis=\"fund source\", x_axis=\"fund amount\")"
   ]
  },
  {
   "cell_type": "code",
   "execution_count": 141,
   "id": "7807c175-4728-4614-a4f6-95ffe6460e29",
   "metadata": {},
   "outputs": [
    {
     "data": {
      "text/html": [
       "\n",
       "<style>\n",
       "  #altair-viz-aa7465dcd99041acb0d680f2eb5662a7.vega-embed {\n",
       "    width: 100%;\n",
       "    display: flex;\n",
       "  }\n",
       "\n",
       "  #altair-viz-aa7465dcd99041acb0d680f2eb5662a7.vega-embed details,\n",
       "  #altair-viz-aa7465dcd99041acb0d680f2eb5662a7.vega-embed details summary {\n",
       "    position: relative;\n",
       "  }\n",
       "</style>\n",
       "<div id=\"altair-viz-aa7465dcd99041acb0d680f2eb5662a7\"></div>\n",
       "<script type=\"text/javascript\">\n",
       "  var VEGA_DEBUG = (typeof VEGA_DEBUG == \"undefined\") ? {} : VEGA_DEBUG;\n",
       "  (function(spec, embedOpt){\n",
       "    let outputDiv = document.currentScript.previousElementSibling;\n",
       "    if (outputDiv.id !== \"altair-viz-aa7465dcd99041acb0d680f2eb5662a7\") {\n",
       "      outputDiv = document.getElementById(\"altair-viz-aa7465dcd99041acb0d680f2eb5662a7\");\n",
       "    }\n",
       "    const paths = {\n",
       "      \"vega\": \"https://cdn.jsdelivr.net/npm/vega@5?noext\",\n",
       "      \"vega-lib\": \"https://cdn.jsdelivr.net/npm/vega-lib?noext\",\n",
       "      \"vega-lite\": \"https://cdn.jsdelivr.net/npm/vega-lite@5.17.0?noext\",\n",
       "      \"vega-embed\": \"https://cdn.jsdelivr.net/npm/vega-embed@6?noext\",\n",
       "    };\n",
       "\n",
       "    function maybeLoadScript(lib, version) {\n",
       "      var key = `${lib.replace(\"-\", \"\")}_version`;\n",
       "      return (VEGA_DEBUG[key] == version) ?\n",
       "        Promise.resolve(paths[lib]) :\n",
       "        new Promise(function(resolve, reject) {\n",
       "          var s = document.createElement('script');\n",
       "          document.getElementsByTagName(\"head\")[0].appendChild(s);\n",
       "          s.async = true;\n",
       "          s.onload = () => {\n",
       "            VEGA_DEBUG[key] = version;\n",
       "            return resolve(paths[lib]);\n",
       "          };\n",
       "          s.onerror = () => reject(`Error loading script: ${paths[lib]}`);\n",
       "          s.src = paths[lib];\n",
       "        });\n",
       "    }\n",
       "\n",
       "    function showError(err) {\n",
       "      outputDiv.innerHTML = `<div class=\"error\" style=\"color:red;\">${err}</div>`;\n",
       "      throw err;\n",
       "    }\n",
       "\n",
       "    function displayChart(vegaEmbed) {\n",
       "      vegaEmbed(outputDiv, spec, embedOpt)\n",
       "        .catch(err => showError(`Javascript Error: ${err.message}<br>This usually means there's a typo in your chart specification. See the javascript console for the full traceback.`));\n",
       "    }\n",
       "\n",
       "    if(typeof define === \"function\" && define.amd) {\n",
       "      requirejs.config({paths});\n",
       "      require([\"vega-embed\"], displayChart, err => showError(`Error loading script: ${err.message}`));\n",
       "    } else {\n",
       "      maybeLoadScript(\"vega\", \"5\")\n",
       "        .then(() => maybeLoadScript(\"vega-lite\", \"5.17.0\"))\n",
       "        .then(() => maybeLoadScript(\"vega-embed\", \"6\"))\n",
       "        .catch(showError)\n",
       "        .then(() => displayChart(vegaEmbed));\n",
       "    }\n",
       "  })({\"config\": {\"view\": {\"continuousWidth\": 300, \"continuousHeight\": 300}}, \"data\": {\"name\": \"data-03d63601aa33965086abe87f6fbd3f73\"}, \"mark\": {\"type\": \"bar\"}, \"encoding\": {\"x\": {\"field\": \"rtpa\", \"type\": \"nominal\"}, \"y\": {\"field\": \"fund amount\", \"type\": \"quantitative\"}}, \"$schema\": \"https://vega.github.io/schema/vega-lite/v5.17.0.json\", \"datasets\": {\"data-03d63601aa33965086abe87f6fbd3f73\": [{\"rtpa\": \"Alpine County Transportation Commission\", \"fund amount\": 739517, \"project\": 1}, {\"rtpa\": \"Amador County Transportation Commission\", \"fund amount\": 175000, \"project\": 0}, {\"rtpa\": \"Butte County Association of Governments\", \"fund amount\": 23989331, \"project\": 2}, {\"rtpa\": \"Calaveras County Council of Goverments\", \"fund amount\": 5798936, \"project\": 1}, {\"rtpa\": \"DNLTC\", \"fund amount\": 3756248, \"project\": 2}, {\"rtpa\": \"El Dorado County Transportation Commission\", \"fund amount\": 10057638, \"project\": 2}, {\"rtpa\": \"Humboldt County Association of Governments\", \"fund amount\": 16492428, \"project\": 3}, {\"rtpa\": \"Kern COG\", \"fund amount\": 103242581, \"project\": 10}, {\"rtpa\": \"Kings County Association of Governments\", \"fund amount\": 18204049, \"project\": 9}, {\"rtpa\": \"LCTC\", \"fund amount\": 4106696, \"project\": 6}, {\"rtpa\": \"Lake County/City Council of Governments\", \"fund amount\": 4077103, \"project\": 2}, {\"rtpa\": \"Los Angeles County Metropolitan Transportation Authority\", \"fund amount\": 1173924082, \"project\": 3}, {\"rtpa\": \"Madera County Transportation Commission\", \"fund amount\": 18811247, \"project\": 5}, {\"rtpa\": \"Mariposa County Local Transportation Commission\", \"fund amount\": 2571256, \"project\": 1}, {\"rtpa\": \"Mendocino Council of Governments\", \"fund amount\": 5353525, \"project\": 2}, {\"rtpa\": \"Merced County Association of Governments (MCAG)\", \"fund amount\": 38377592, \"project\": 12}, {\"rtpa\": \"NCTC\", \"fund amount\": 2722336, \"project\": 3}, {\"rtpa\": \"OCTA\", \"fund amount\": 380916077, \"project\": 14}, {\"rtpa\": \"Placer County Transportation Planning Agency (PCTPA)\", \"fund amount\": 37851991, \"project\": 9}, {\"rtpa\": \"Plumas County Transportation Commission\", \"fund amount\": 2824039, \"project\": 5}, {\"rtpa\": \"RCTC\", \"fund amount\": 138210990, \"project\": 3}, {\"rtpa\": \"SCCRTC\", \"fund amount\": 34686052, \"project\": 4}, {\"rtpa\": \"SLOCOG\", \"fund amount\": 32217200, \"project\": 24}, {\"rtpa\": \"San Benito Council of Governments \", \"fund amount\": 8160164, \"project\": 4}, {\"rtpa\": \"San Diego Metropolitan Transit System\", \"fund amount\": 283651605, \"project\": 12}, {\"rtpa\": \"Shasta Regional Transportation Agency\", \"fund amount\": 15375548, \"project\": 5}, {\"rtpa\": \"Sierra County Transportation Commission\", \"fund amount\": 973816, \"project\": 4}, {\"rtpa\": \"Tehama County Transportation Commission \", \"fund amount\": 8115138, \"project\": 3}, {\"rtpa\": \"Tuolumne County Transportation Council\", \"fund amount\": 7061054, \"project\": 4}, {\"rtpa\": \"VCTC\", \"fund amount\": 98560329, \"project\": 24}]}}, {\"mode\": \"vega-lite\"});\n",
       "</script>"
      ],
      "text/plain": [
       "alt.Chart(...)"
      ]
     },
     "execution_count": 141,
     "metadata": {},
     "output_type": "execute_result"
    }
   ],
   "source": [
    "by_rtpa = (\n",
    "    all_melt.groupby([\"rtpa\"])\n",
    "    .agg({\"fund amount\": \"sum\", \"project\": \"nunique\"})\n",
    "    .reset_index()\n",
    ")\n",
    "\n",
    "make_bar(by_rtpa, \"rtpa\", \"fund amount\")"
   ]
  },
  {
   "cell_type": "code",
   "execution_count": null,
   "id": "04e8f0d3-e85f-4275-8227-2d486c105cc2",
   "metadata": {},
   "outputs": [],
   "source": []
  }
 ],
 "metadata": {
  "kernelspec": {
   "display_name": "Python 3 (ipykernel)",
   "language": "python",
   "name": "python3"
  },
  "language_info": {
   "codemirror_mode": {
    "name": "ipython",
    "version": 3
   },
   "file_extension": ".py",
   "mimetype": "text/x-python",
   "name": "python",
   "nbconvert_exporter": "python",
   "pygments_lexer": "ipython3",
   "version": "3.9.13"
  }
 },
 "nbformat": 4,
 "nbformat_minor": 5
}
