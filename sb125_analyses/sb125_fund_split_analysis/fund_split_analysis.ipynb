{
 "cells": [
  {
   "cell_type": "code",
   "execution_count": 1,
   "id": "18bf8d66-e8cf-45bd-8d51-f316ad5eb588",
   "metadata": {},
   "outputs": [],
   "source": [
    "import altair as alt\n",
    "import pandas as pd\n",
    "from IPython.display import Markdown, display, HTML\n",
    "\n",
    "pd.set_option(\"display.max_columns\", None)\n",
    "pd.set_option(\"display.max_rows\", None)\n",
    "\n",
    "GCS_PATH = \"gs://calitp-analytics-data/data-analyses/sb125/fund_split/\""
   ]
  },
  {
   "cell_type": "markdown",
   "id": "b7df6d2c-ad3e-4630-8690-975e48049278",
   "metadata": {},
   "source": [
    "# SB125 Fund Split Analysis"
   ]
  },
  {
   "cell_type": "markdown",
   "id": "42fdef6f-d9ca-419f-861e-54e94098b951",
   "metadata": {},
   "source": [
    "## Question:\n",
    "- How did RTAs split SB125 funds between operations and capital?"
   ]
  },
  {
   "cell_type": "markdown",
   "id": "56b377e1-5f8e-481b-af19-2a6ba2ff92e0",
   "metadata": {},
   "source": [
    "## Methodology:\n",
    "- upload all avilable `SB125 fund request template` files to gcs\n",
    "- examine all files for consistencies:\n",
    "    - come with cleaning plan for inconsistent examples (files withot capital/operating columns)\n",
    "- concat all rows across all files\n"
   ]
  },
  {
   "cell_type": "markdown",
   "id": "ed15b993-c361-4cd0-b1b6-facf2efbba1f",
   "metadata": {},
   "source": [
    "## Notes:\n",
    "- Some RTPAs did not submit a `SB125 fund request template.xlsx` file, but instead included an equivilent file their allocation package\n",
    "- There are ~30 files to analyze, most of which need to be uniquely cleaned. All cleaning steps are done in the `fund_split.py` script and saved to GCS"
   ]
  },
  {
   "cell_type": "markdown",
   "id": "081bd92f-5114-4678-87aa-500ea78f85ed",
   "metadata": {},
   "source": [
    "# Read in Melt DF parquet from GCS"
   ]
  },
  {
   "cell_type": "code",
   "execution_count": 2,
   "id": "c041c6eb-cda1-47fd-aecf-7dd04b6f52e7",
   "metadata": {},
   "outputs": [],
   "source": [
    "all_melt = pd.read_parquet(f\"{GCS_PATH}all_fund_requests_melt.parquet\")"
   ]
  },
  {
   "cell_type": "code",
   "execution_count": 3,
   "id": "6460a800-8204-46ed-9cbc-4861f1114791",
   "metadata": {},
   "outputs": [
    {
     "data": {
      "text/plain": [
       "(2296, 8)"
      ]
     },
     "metadata": {},
     "output_type": "display_data"
    },
    {
     "data": {
      "text/plain": [
       "Index(['rtpa', 'implementing agenc-y/-ies', 'project', 'fund source',\n",
       "       'capital/operation fy', 'fund amount', 'project type', 'fiscal year'],\n",
       "      dtype='object')"
      ]
     },
     "metadata": {},
     "output_type": "display_data"
    },
    {
     "data": {
      "text/html": [
       "<div>\n",
       "<style scoped>\n",
       "    .dataframe tbody tr th:only-of-type {\n",
       "        vertical-align: middle;\n",
       "    }\n",
       "\n",
       "    .dataframe tbody tr th {\n",
       "        vertical-align: top;\n",
       "    }\n",
       "\n",
       "    .dataframe thead th {\n",
       "        text-align: right;\n",
       "    }\n",
       "</style>\n",
       "<table border=\"1\" class=\"dataframe\">\n",
       "  <thead>\n",
       "    <tr style=\"text-align: right;\">\n",
       "      <th></th>\n",
       "      <th>rtpa</th>\n",
       "      <th>implementing agenc-y/-ies</th>\n",
       "      <th>project</th>\n",
       "      <th>fund source</th>\n",
       "      <th>capital/operation fy</th>\n",
       "      <th>fund amount</th>\n",
       "      <th>project type</th>\n",
       "      <th>fiscal year</th>\n",
       "    </tr>\n",
       "  </thead>\n",
       "  <tbody>\n",
       "    <tr>\n",
       "      <th>1507</th>\n",
       "      <td>Merced County Association of Governments (MCAG)</td>\n",
       "      <td>The Bus, TJPA</td>\n",
       "      <td>Microtransit Services Expansion (Vehicles)</td>\n",
       "      <td>TIRCP</td>\n",
       "      <td>operating_FY24-25</td>\n",
       "      <td>0</td>\n",
       "      <td>operating</td>\n",
       "      <td>24-25</td>\n",
       "    </tr>\n",
       "    <tr>\n",
       "      <th>99</th>\n",
       "      <td>Plumas County Transportation Commission</td>\n",
       "      <td>Plumas County Transportation Commission</td>\n",
       "      <td>Operating Expenses and Free Fares</td>\n",
       "      <td>TIRCP</td>\n",
       "      <td>capital_FY23-24</td>\n",
       "      <td>0</td>\n",
       "      <td>capital</td>\n",
       "      <td>23-24</td>\n",
       "    </tr>\n",
       "    <tr>\n",
       "      <th>941</th>\n",
       "      <td>NCTC</td>\n",
       "      <td>Town of Truckee</td>\n",
       "      <td>Keep Truckee Moving: Expansion and Electrifica...</td>\n",
       "      <td>TIRCP</td>\n",
       "      <td>capital_FY26-27</td>\n",
       "      <td>0</td>\n",
       "      <td>capital</td>\n",
       "      <td>26-27</td>\n",
       "    </tr>\n",
       "  </tbody>\n",
       "</table>\n",
       "</div>"
      ],
      "text/plain": [
       "                                                 rtpa  \\\n",
       "1507  Merced County Association of Governments (MCAG)   \n",
       "99            Plumas County Transportation Commission   \n",
       "941                                              NCTC   \n",
       "\n",
       "                    implementing agenc-y/-ies  \\\n",
       "1507                            The Bus, TJPA   \n",
       "99    Plumas County Transportation Commission   \n",
       "941                           Town of Truckee   \n",
       "\n",
       "                                                project fund source  \\\n",
       "1507         Microtransit Services Expansion (Vehicles)       TIRCP   \n",
       "99                    Operating Expenses and Free Fares       TIRCP   \n",
       "941   Keep Truckee Moving: Expansion and Electrifica...       TIRCP   \n",
       "\n",
       "     capital/operation fy  fund amount project type fiscal year  \n",
       "1507    operating_FY24-25            0    operating       24-25  \n",
       "99        capital_FY23-24            0      capital       23-24  \n",
       "941       capital_FY26-27            0      capital       26-27  "
      ]
     },
     "metadata": {},
     "output_type": "display_data"
    }
   ],
   "source": [
    "display(all_melt.shape, all_melt.columns, all_melt.sample(3))"
   ]
  },
  {
   "cell_type": "code",
   "execution_count": 4,
   "id": "c0ffa614-96db-46a0-9b53-b67c481dcf4e",
   "metadata": {},
   "outputs": [],
   "source": [
    "by_source = all_melt.groupby([\"fund source\"]).agg({\"fund amount\": \"sum\", \"rtpa\": \"nunique\"}).reset_index()\n",
    "by_type = all_melt.groupby([\"project type\"]).agg({\"fund amount\": \"sum\",}).reset_index()\n",
    "by_year = all_melt.groupby([\"fiscal year\", \"project type\"]).agg({\"fund amount\": \"sum\"}).reset_index()\n",
    "by_rtpa = all_melt.groupby([\"rtpa\"]).agg({\"fund amount\": \"sum\", \"project\": \"nunique\"}).reset_index()\n"
   ]
  },
  {
   "cell_type": "code",
   "execution_count": 19,
   "id": "f7701cee-4145-41d5-be7d-0cf0ea39349e",
   "metadata": {},
   "outputs": [
    {
     "data": {
      "text/plain": [
       "Index(['project type', 'fund amount'], dtype='object')"
      ]
     },
     "execution_count": 19,
     "metadata": {},
     "output_type": "execute_result"
    }
   ],
   "source": [
    "by_type.columns"
   ]
  },
  {
   "cell_type": "markdown",
   "id": "a7180b38-ce35-456d-9060-7d5cb940a36a",
   "metadata": {},
   "source": [
    "# Charts"
   ]
  },
  {
   "cell_type": "code",
   "execution_count": 23,
   "id": "572c255d-0ae5-4588-a0b1-5c9cfbef4870",
   "metadata": {
    "tags": []
   },
   "outputs": [
    {
     "data": {
      "text/markdown": [
       "## Overall split of SB125 allocations funds by capital/operating expenses"
      ],
      "text/plain": [
       "<IPython.core.display.Markdown object>"
      ]
     },
     "metadata": {},
     "output_type": "display_data"
    },
    {
     "data": {
      "text/html": [
       "\n",
       "<style>\n",
       "  #altair-viz-6d65c84ee77842658ae7eda348fa717b.vega-embed {\n",
       "    width: 100%;\n",
       "    display: flex;\n",
       "  }\n",
       "\n",
       "  #altair-viz-6d65c84ee77842658ae7eda348fa717b.vega-embed details,\n",
       "  #altair-viz-6d65c84ee77842658ae7eda348fa717b.vega-embed details summary {\n",
       "    position: relative;\n",
       "  }\n",
       "</style>\n",
       "<div id=\"altair-viz-6d65c84ee77842658ae7eda348fa717b\"></div>\n",
       "<script type=\"text/javascript\">\n",
       "  var VEGA_DEBUG = (typeof VEGA_DEBUG == \"undefined\") ? {} : VEGA_DEBUG;\n",
       "  (function(spec, embedOpt){\n",
       "    let outputDiv = document.currentScript.previousElementSibling;\n",
       "    if (outputDiv.id !== \"altair-viz-6d65c84ee77842658ae7eda348fa717b\") {\n",
       "      outputDiv = document.getElementById(\"altair-viz-6d65c84ee77842658ae7eda348fa717b\");\n",
       "    }\n",
       "    const paths = {\n",
       "      \"vega\": \"https://cdn.jsdelivr.net/npm/vega@5?noext\",\n",
       "      \"vega-lib\": \"https://cdn.jsdelivr.net/npm/vega-lib?noext\",\n",
       "      \"vega-lite\": \"https://cdn.jsdelivr.net/npm/vega-lite@5.17.0?noext\",\n",
       "      \"vega-embed\": \"https://cdn.jsdelivr.net/npm/vega-embed@6?noext\",\n",
       "    };\n",
       "\n",
       "    function maybeLoadScript(lib, version) {\n",
       "      var key = `${lib.replace(\"-\", \"\")}_version`;\n",
       "      return (VEGA_DEBUG[key] == version) ?\n",
       "        Promise.resolve(paths[lib]) :\n",
       "        new Promise(function(resolve, reject) {\n",
       "          var s = document.createElement('script');\n",
       "          document.getElementsByTagName(\"head\")[0].appendChild(s);\n",
       "          s.async = true;\n",
       "          s.onload = () => {\n",
       "            VEGA_DEBUG[key] = version;\n",
       "            return resolve(paths[lib]);\n",
       "          };\n",
       "          s.onerror = () => reject(`Error loading script: ${paths[lib]}`);\n",
       "          s.src = paths[lib];\n",
       "        });\n",
       "    }\n",
       "\n",
       "    function showError(err) {\n",
       "      outputDiv.innerHTML = `<div class=\"error\" style=\"color:red;\">${err}</div>`;\n",
       "      throw err;\n",
       "    }\n",
       "\n",
       "    function displayChart(vegaEmbed) {\n",
       "      vegaEmbed(outputDiv, spec, embedOpt)\n",
       "        .catch(err => showError(`Javascript Error: ${err.message}<br>This usually means there's a typo in your chart specification. See the javascript console for the full traceback.`));\n",
       "    }\n",
       "\n",
       "    if(typeof define === \"function\" && define.amd) {\n",
       "      requirejs.config({paths});\n",
       "      require([\"vega-embed\"], displayChart, err => showError(`Error loading script: ${err.message}`));\n",
       "    } else {\n",
       "      maybeLoadScript(\"vega\", \"5\")\n",
       "        .then(() => maybeLoadScript(\"vega-lite\", \"5.17.0\"))\n",
       "        .then(() => maybeLoadScript(\"vega-embed\", \"6\"))\n",
       "        .catch(showError)\n",
       "        .then(() => displayChart(vegaEmbed));\n",
       "    }\n",
       "  })({\"config\": {\"view\": {\"continuousWidth\": 300, \"continuousHeight\": 300}}, \"data\": {\"name\": \"data-1b093f4fd754b12a94a60701a45260f5\"}, \"mark\": {\"type\": \"bar\", \"point\": true}, \"encoding\": {\"color\": {\"field\": \"project type\", \"type\": \"nominal\"}, \"tooltip\": [{\"field\": \"project type\", \"type\": \"nominal\"}, {\"field\": \"fund amount\", \"type\": \"quantitative\"}], \"x\": {\"field\": \"project type\", \"type\": \"nominal\"}, \"y\": {\"field\": \"fund amount\", \"type\": \"quantitative\"}}, \"height\": 400, \"width\": 600, \"$schema\": \"https://vega.github.io/schema/vega-lite/v5.17.0.json\", \"datasets\": {\"data-1b093f4fd754b12a94a60701a45260f5\": [{\"project type\": \"capital\", \"fund amount\": 1855348721}, {\"project type\": \"operating\", \"fund amount\": 625654847}]}}, {\"mode\": \"vega-lite\"});\n",
       "</script>"
      ],
      "text/plain": [
       "alt.Chart(...)"
      ]
     },
     "metadata": {},
     "output_type": "display_data"
    },
    {
     "data": {
      "text/markdown": [
       "## SB125 allocations funds by capital/operating expenses, by fiscal year"
      ],
      "text/plain": [
       "<IPython.core.display.Markdown object>"
      ]
     },
     "metadata": {},
     "output_type": "display_data"
    },
    {
     "data": {
      "text/html": [
       "\n",
       "<style>\n",
       "  #altair-viz-60b38fa472264c4ab5ee69f1e0046fbb.vega-embed {\n",
       "    width: 100%;\n",
       "    display: flex;\n",
       "  }\n",
       "\n",
       "  #altair-viz-60b38fa472264c4ab5ee69f1e0046fbb.vega-embed details,\n",
       "  #altair-viz-60b38fa472264c4ab5ee69f1e0046fbb.vega-embed details summary {\n",
       "    position: relative;\n",
       "  }\n",
       "</style>\n",
       "<div id=\"altair-viz-60b38fa472264c4ab5ee69f1e0046fbb\"></div>\n",
       "<script type=\"text/javascript\">\n",
       "  var VEGA_DEBUG = (typeof VEGA_DEBUG == \"undefined\") ? {} : VEGA_DEBUG;\n",
       "  (function(spec, embedOpt){\n",
       "    let outputDiv = document.currentScript.previousElementSibling;\n",
       "    if (outputDiv.id !== \"altair-viz-60b38fa472264c4ab5ee69f1e0046fbb\") {\n",
       "      outputDiv = document.getElementById(\"altair-viz-60b38fa472264c4ab5ee69f1e0046fbb\");\n",
       "    }\n",
       "    const paths = {\n",
       "      \"vega\": \"https://cdn.jsdelivr.net/npm/vega@5?noext\",\n",
       "      \"vega-lib\": \"https://cdn.jsdelivr.net/npm/vega-lib?noext\",\n",
       "      \"vega-lite\": \"https://cdn.jsdelivr.net/npm/vega-lite@5.17.0?noext\",\n",
       "      \"vega-embed\": \"https://cdn.jsdelivr.net/npm/vega-embed@6?noext\",\n",
       "    };\n",
       "\n",
       "    function maybeLoadScript(lib, version) {\n",
       "      var key = `${lib.replace(\"-\", \"\")}_version`;\n",
       "      return (VEGA_DEBUG[key] == version) ?\n",
       "        Promise.resolve(paths[lib]) :\n",
       "        new Promise(function(resolve, reject) {\n",
       "          var s = document.createElement('script');\n",
       "          document.getElementsByTagName(\"head\")[0].appendChild(s);\n",
       "          s.async = true;\n",
       "          s.onload = () => {\n",
       "            VEGA_DEBUG[key] = version;\n",
       "            return resolve(paths[lib]);\n",
       "          };\n",
       "          s.onerror = () => reject(`Error loading script: ${paths[lib]}`);\n",
       "          s.src = paths[lib];\n",
       "        });\n",
       "    }\n",
       "\n",
       "    function showError(err) {\n",
       "      outputDiv.innerHTML = `<div class=\"error\" style=\"color:red;\">${err}</div>`;\n",
       "      throw err;\n",
       "    }\n",
       "\n",
       "    function displayChart(vegaEmbed) {\n",
       "      vegaEmbed(outputDiv, spec, embedOpt)\n",
       "        .catch(err => showError(`Javascript Error: ${err.message}<br>This usually means there's a typo in your chart specification. See the javascript console for the full traceback.`));\n",
       "    }\n",
       "\n",
       "    if(typeof define === \"function\" && define.amd) {\n",
       "      requirejs.config({paths});\n",
       "      require([\"vega-embed\"], displayChart, err => showError(`Error loading script: ${err.message}`));\n",
       "    } else {\n",
       "      maybeLoadScript(\"vega\", \"5\")\n",
       "        .then(() => maybeLoadScript(\"vega-lite\", \"5.17.0\"))\n",
       "        .then(() => maybeLoadScript(\"vega-embed\", \"6\"))\n",
       "        .catch(showError)\n",
       "        .then(() => displayChart(vegaEmbed));\n",
       "    }\n",
       "  })({\"config\": {\"view\": {\"continuousWidth\": 300, \"continuousHeight\": 300}}, \"data\": {\"name\": \"data-a7e1deb4b2d7757328984cb1370701fb\"}, \"mark\": {\"type\": \"bar\", \"point\": true}, \"encoding\": {\"color\": {\"field\": \"project type\", \"type\": \"nominal\"}, \"tooltip\": [{\"field\": \"project type\", \"type\": \"nominal\"}, {\"field\": \"fund amount\", \"type\": \"quantitative\"}], \"x\": {\"field\": \"fiscal year\", \"type\": \"nominal\"}, \"y\": {\"field\": \"fund amount\", \"type\": \"quantitative\"}}, \"height\": 400, \"width\": 600, \"$schema\": \"https://vega.github.io/schema/vega-lite/v5.17.0.json\", \"datasets\": {\"data-a7e1deb4b2d7757328984cb1370701fb\": [{\"fiscal year\": \"23-24\", \"project type\": \"capital\", \"fund amount\": 945242943}, {\"fiscal year\": \"23-24\", \"project type\": \"operating\", \"fund amount\": 230807266}, {\"fiscal year\": \"24-25\", \"project type\": \"capital\", \"fund amount\": 812480147}, {\"fiscal year\": \"24-25\", \"project type\": \"operating\", \"fund amount\": 169494114}, {\"fiscal year\": \"25-26\", \"project type\": \"capital\", \"fund amount\": 49092309}, {\"fiscal year\": \"25-26\", \"project type\": \"operating\", \"fund amount\": 96177774}, {\"fiscal year\": \"26-27\", \"project type\": \"capital\", \"fund amount\": 48533322}, {\"fiscal year\": \"26-27\", \"project type\": \"operating\", \"fund amount\": 129175693}]}}, {\"mode\": \"vega-lite\"});\n",
       "</script>"
      ],
      "text/plain": [
       "alt.Chart(...)"
      ]
     },
     "metadata": {},
     "output_type": "display_data"
    }
   ],
   "source": [
    "stack_chart = alt.Chart(by_year).mark_bar(point=True).encode(\n",
    "    x=\"fiscal year\", \n",
    "    y=\"fund amount\", \n",
    "    color=\"project type\",\n",
    "    tooltip=[\"project type\", \"fund amount\"],\n",
    ").properties(width=600, height=400)\n",
    "\n",
    "\n",
    "overall_chart = alt.Chart(by_type).mark_bar(point=True).encode(\n",
    "    x=\"project type\", \n",
    "    y=\"fund amount\", \n",
    "    color=\"project type\",\n",
    "    tooltip=[\"project type\", \"fund amount\"],\n",
    ").properties(width=600, height=400)\n",
    "\n",
    "display(\n",
    "    Markdown(\"## Overall split of SB125 allocations funds by capital/operating expenses\"),\n",
    "    overall_chart,\n",
    "    Markdown(\"## SB125 allocations funds by capital/operating expenses, by fiscal year\"),\n",
    "    stack_chart,\n",
    "    #by_year.sort_values(by=\"project type\")\n",
    ")"
   ]
  },
  {
   "cell_type": "markdown",
   "id": "7e6fc118-6ad7-4832-9c03-f32e18ce4cfe",
   "metadata": {
    "tags": []
   },
   "source": [
    "# Draft Aggregations"
   ]
  },
  {
   "cell_type": "code",
   "execution_count": 12,
   "id": "28ffc2ba-9d8e-4c5d-8be5-30e718906099",
   "metadata": {},
   "outputs": [],
   "source": [
    "def make_bar(data, x_axis, y_axis):\n",
    "    chart = (\n",
    "        alt.Chart(data)\n",
    "        .mark_bar()\n",
    "        .encode(\n",
    "            x=x_axis,\n",
    "            y=y_axis,\n",
    "            #color= color_val,\n",
    "        )\n",
    "        .properties(width=\"container\", height=400)\n",
    "    )\n",
    "    text = chart.mark_text(align=\"left\", baseline=\"middle\", dx=3).encode(\n",
    "            text=\"fund amount\"\n",
    "    )\n",
    "    return chart + text"
   ]
  },
  {
   "cell_type": "code",
   "execution_count": 13,
   "id": "a4f528b2-4de2-4835-8620-14a528e68a9a",
   "metadata": {},
   "outputs": [
    {
     "data": {
      "text/html": [
       "<div>\n",
       "<style scoped>\n",
       "    .dataframe tbody tr th:only-of-type {\n",
       "        vertical-align: middle;\n",
       "    }\n",
       "\n",
       "    .dataframe tbody tr th {\n",
       "        vertical-align: top;\n",
       "    }\n",
       "\n",
       "    .dataframe thead th {\n",
       "        text-align: right;\n",
       "    }\n",
       "</style>\n",
       "<table border=\"1\" class=\"dataframe\">\n",
       "  <thead>\n",
       "    <tr style=\"text-align: right;\">\n",
       "      <th></th>\n",
       "      <th>project type</th>\n",
       "      <th>fund amount</th>\n",
       "    </tr>\n",
       "  </thead>\n",
       "  <tbody>\n",
       "    <tr>\n",
       "      <th>0</th>\n",
       "      <td>capital</td>\n",
       "      <td>1855348721</td>\n",
       "    </tr>\n",
       "    <tr>\n",
       "      <th>1</th>\n",
       "      <td>operating</td>\n",
       "      <td>625654847</td>\n",
       "    </tr>\n",
       "  </tbody>\n",
       "</table>\n",
       "</div>"
      ],
      "text/plain": [
       "  project type  fund amount\n",
       "0      capital   1855348721\n",
       "1    operating    625654847"
      ]
     },
     "metadata": {},
     "output_type": "display_data"
    },
    {
     "data": {
      "text/html": [
       "\n",
       "<style>\n",
       "  #altair-viz-00b58d7d7f184728bafa5e6263a41655.vega-embed {\n",
       "    width: 100%;\n",
       "    display: flex;\n",
       "  }\n",
       "\n",
       "  #altair-viz-00b58d7d7f184728bafa5e6263a41655.vega-embed details,\n",
       "  #altair-viz-00b58d7d7f184728bafa5e6263a41655.vega-embed details summary {\n",
       "    position: relative;\n",
       "  }\n",
       "</style>\n",
       "<div id=\"altair-viz-00b58d7d7f184728bafa5e6263a41655\"></div>\n",
       "<script type=\"text/javascript\">\n",
       "  var VEGA_DEBUG = (typeof VEGA_DEBUG == \"undefined\") ? {} : VEGA_DEBUG;\n",
       "  (function(spec, embedOpt){\n",
       "    let outputDiv = document.currentScript.previousElementSibling;\n",
       "    if (outputDiv.id !== \"altair-viz-00b58d7d7f184728bafa5e6263a41655\") {\n",
       "      outputDiv = document.getElementById(\"altair-viz-00b58d7d7f184728bafa5e6263a41655\");\n",
       "    }\n",
       "    const paths = {\n",
       "      \"vega\": \"https://cdn.jsdelivr.net/npm/vega@5?noext\",\n",
       "      \"vega-lib\": \"https://cdn.jsdelivr.net/npm/vega-lib?noext\",\n",
       "      \"vega-lite\": \"https://cdn.jsdelivr.net/npm/vega-lite@5.17.0?noext\",\n",
       "      \"vega-embed\": \"https://cdn.jsdelivr.net/npm/vega-embed@6?noext\",\n",
       "    };\n",
       "\n",
       "    function maybeLoadScript(lib, version) {\n",
       "      var key = `${lib.replace(\"-\", \"\")}_version`;\n",
       "      return (VEGA_DEBUG[key] == version) ?\n",
       "        Promise.resolve(paths[lib]) :\n",
       "        new Promise(function(resolve, reject) {\n",
       "          var s = document.createElement('script');\n",
       "          document.getElementsByTagName(\"head\")[0].appendChild(s);\n",
       "          s.async = true;\n",
       "          s.onload = () => {\n",
       "            VEGA_DEBUG[key] = version;\n",
       "            return resolve(paths[lib]);\n",
       "          };\n",
       "          s.onerror = () => reject(`Error loading script: ${paths[lib]}`);\n",
       "          s.src = paths[lib];\n",
       "        });\n",
       "    }\n",
       "\n",
       "    function showError(err) {\n",
       "      outputDiv.innerHTML = `<div class=\"error\" style=\"color:red;\">${err}</div>`;\n",
       "      throw err;\n",
       "    }\n",
       "\n",
       "    function displayChart(vegaEmbed) {\n",
       "      vegaEmbed(outputDiv, spec, embedOpt)\n",
       "        .catch(err => showError(`Javascript Error: ${err.message}<br>This usually means there's a typo in your chart specification. See the javascript console for the full traceback.`));\n",
       "    }\n",
       "\n",
       "    if(typeof define === \"function\" && define.amd) {\n",
       "      requirejs.config({paths});\n",
       "      require([\"vega-embed\"], displayChart, err => showError(`Error loading script: ${err.message}`));\n",
       "    } else {\n",
       "      maybeLoadScript(\"vega\", \"5\")\n",
       "        .then(() => maybeLoadScript(\"vega-lite\", \"5.17.0\"))\n",
       "        .then(() => maybeLoadScript(\"vega-embed\", \"6\"))\n",
       "        .catch(showError)\n",
       "        .then(() => displayChart(vegaEmbed));\n",
       "    }\n",
       "  })({\"config\": {\"view\": {\"continuousWidth\": 300, \"continuousHeight\": 300}}, \"layer\": [{\"mark\": {\"type\": \"bar\"}, \"encoding\": {\"x\": {\"field\": \"fund amount\", \"type\": \"quantitative\"}, \"y\": {\"field\": \"project type\", \"type\": \"nominal\"}}}, {\"mark\": {\"type\": \"text\", \"align\": \"left\", \"baseline\": \"middle\", \"dx\": 3}, \"encoding\": {\"text\": {\"field\": \"fund amount\", \"type\": \"quantitative\"}, \"x\": {\"field\": \"fund amount\", \"type\": \"quantitative\"}, \"y\": {\"field\": \"project type\", \"type\": \"nominal\"}}}], \"data\": {\"name\": \"data-1b093f4fd754b12a94a60701a45260f5\"}, \"height\": 400, \"width\": \"container\", \"$schema\": \"https://vega.github.io/schema/vega-lite/v5.17.0.json\", \"datasets\": {\"data-1b093f4fd754b12a94a60701a45260f5\": [{\"project type\": \"capital\", \"fund amount\": 1855348721}, {\"project type\": \"operating\", \"fund amount\": 625654847}]}}, {\"mode\": \"vega-lite\"});\n",
       "</script>"
      ],
      "text/plain": [
       "alt.LayerChart(...)"
      ]
     },
     "execution_count": 13,
     "metadata": {},
     "output_type": "execute_result"
    }
   ],
   "source": [
    "display(by_type)\n",
    "make_bar(by_type, y_axis=\"project type\", x_axis=\"fund amount\")"
   ]
  },
  {
   "cell_type": "code",
   "execution_count": 14,
   "id": "b7ce8b24-f16e-4045-9f83-347442b16cd1",
   "metadata": {},
   "outputs": [
    {
     "data": {
      "text/html": [
       "<div>\n",
       "<style scoped>\n",
       "    .dataframe tbody tr th:only-of-type {\n",
       "        vertical-align: middle;\n",
       "    }\n",
       "\n",
       "    .dataframe tbody tr th {\n",
       "        vertical-align: top;\n",
       "    }\n",
       "\n",
       "    .dataframe thead th {\n",
       "        text-align: right;\n",
       "    }\n",
       "</style>\n",
       "<table border=\"1\" class=\"dataframe\">\n",
       "  <thead>\n",
       "    <tr style=\"text-align: right;\">\n",
       "      <th></th>\n",
       "      <th>fiscal year</th>\n",
       "      <th>project type</th>\n",
       "      <th>fund amount</th>\n",
       "    </tr>\n",
       "  </thead>\n",
       "  <tbody>\n",
       "    <tr>\n",
       "      <th>0</th>\n",
       "      <td>23-24</td>\n",
       "      <td>capital</td>\n",
       "      <td>945242943</td>\n",
       "    </tr>\n",
       "    <tr>\n",
       "      <th>1</th>\n",
       "      <td>23-24</td>\n",
       "      <td>operating</td>\n",
       "      <td>230807266</td>\n",
       "    </tr>\n",
       "    <tr>\n",
       "      <th>2</th>\n",
       "      <td>24-25</td>\n",
       "      <td>capital</td>\n",
       "      <td>812480147</td>\n",
       "    </tr>\n",
       "    <tr>\n",
       "      <th>3</th>\n",
       "      <td>24-25</td>\n",
       "      <td>operating</td>\n",
       "      <td>169494114</td>\n",
       "    </tr>\n",
       "    <tr>\n",
       "      <th>4</th>\n",
       "      <td>25-26</td>\n",
       "      <td>capital</td>\n",
       "      <td>49092309</td>\n",
       "    </tr>\n",
       "    <tr>\n",
       "      <th>5</th>\n",
       "      <td>25-26</td>\n",
       "      <td>operating</td>\n",
       "      <td>96177774</td>\n",
       "    </tr>\n",
       "    <tr>\n",
       "      <th>6</th>\n",
       "      <td>26-27</td>\n",
       "      <td>capital</td>\n",
       "      <td>48533322</td>\n",
       "    </tr>\n",
       "    <tr>\n",
       "      <th>7</th>\n",
       "      <td>26-27</td>\n",
       "      <td>operating</td>\n",
       "      <td>129175693</td>\n",
       "    </tr>\n",
       "  </tbody>\n",
       "</table>\n",
       "</div>"
      ],
      "text/plain": [
       "  fiscal year project type  fund amount\n",
       "0       23-24      capital    945242943\n",
       "1       23-24    operating    230807266\n",
       "2       24-25      capital    812480147\n",
       "3       24-25    operating    169494114\n",
       "4       25-26      capital     49092309\n",
       "5       25-26    operating     96177774\n",
       "6       26-27      capital     48533322\n",
       "7       26-27    operating    129175693"
      ]
     },
     "metadata": {},
     "output_type": "display_data"
    },
    {
     "data": {
      "text/html": [
       "\n",
       "<style>\n",
       "  #altair-viz-b82ab1c90a274bb09ac31d703976e4ff.vega-embed {\n",
       "    width: 100%;\n",
       "    display: flex;\n",
       "  }\n",
       "\n",
       "  #altair-viz-b82ab1c90a274bb09ac31d703976e4ff.vega-embed details,\n",
       "  #altair-viz-b82ab1c90a274bb09ac31d703976e4ff.vega-embed details summary {\n",
       "    position: relative;\n",
       "  }\n",
       "</style>\n",
       "<div id=\"altair-viz-b82ab1c90a274bb09ac31d703976e4ff\"></div>\n",
       "<script type=\"text/javascript\">\n",
       "  var VEGA_DEBUG = (typeof VEGA_DEBUG == \"undefined\") ? {} : VEGA_DEBUG;\n",
       "  (function(spec, embedOpt){\n",
       "    let outputDiv = document.currentScript.previousElementSibling;\n",
       "    if (outputDiv.id !== \"altair-viz-b82ab1c90a274bb09ac31d703976e4ff\") {\n",
       "      outputDiv = document.getElementById(\"altair-viz-b82ab1c90a274bb09ac31d703976e4ff\");\n",
       "    }\n",
       "    const paths = {\n",
       "      \"vega\": \"https://cdn.jsdelivr.net/npm/vega@5?noext\",\n",
       "      \"vega-lib\": \"https://cdn.jsdelivr.net/npm/vega-lib?noext\",\n",
       "      \"vega-lite\": \"https://cdn.jsdelivr.net/npm/vega-lite@5.17.0?noext\",\n",
       "      \"vega-embed\": \"https://cdn.jsdelivr.net/npm/vega-embed@6?noext\",\n",
       "    };\n",
       "\n",
       "    function maybeLoadScript(lib, version) {\n",
       "      var key = `${lib.replace(\"-\", \"\")}_version`;\n",
       "      return (VEGA_DEBUG[key] == version) ?\n",
       "        Promise.resolve(paths[lib]) :\n",
       "        new Promise(function(resolve, reject) {\n",
       "          var s = document.createElement('script');\n",
       "          document.getElementsByTagName(\"head\")[0].appendChild(s);\n",
       "          s.async = true;\n",
       "          s.onload = () => {\n",
       "            VEGA_DEBUG[key] = version;\n",
       "            return resolve(paths[lib]);\n",
       "          };\n",
       "          s.onerror = () => reject(`Error loading script: ${paths[lib]}`);\n",
       "          s.src = paths[lib];\n",
       "        });\n",
       "    }\n",
       "\n",
       "    function showError(err) {\n",
       "      outputDiv.innerHTML = `<div class=\"error\" style=\"color:red;\">${err}</div>`;\n",
       "      throw err;\n",
       "    }\n",
       "\n",
       "    function displayChart(vegaEmbed) {\n",
       "      vegaEmbed(outputDiv, spec, embedOpt)\n",
       "        .catch(err => showError(`Javascript Error: ${err.message}<br>This usually means there's a typo in your chart specification. See the javascript console for the full traceback.`));\n",
       "    }\n",
       "\n",
       "    if(typeof define === \"function\" && define.amd) {\n",
       "      requirejs.config({paths});\n",
       "      require([\"vega-embed\"], displayChart, err => showError(`Error loading script: ${err.message}`));\n",
       "    } else {\n",
       "      maybeLoadScript(\"vega\", \"5\")\n",
       "        .then(() => maybeLoadScript(\"vega-lite\", \"5.17.0\"))\n",
       "        .then(() => maybeLoadScript(\"vega-embed\", \"6\"))\n",
       "        .catch(showError)\n",
       "        .then(() => displayChart(vegaEmbed));\n",
       "    }\n",
       "  })({\"config\": {\"view\": {\"continuousWidth\": 300, \"continuousHeight\": 300}}, \"layer\": [{\"mark\": {\"type\": \"bar\"}, \"encoding\": {\"x\": {\"field\": \"fund amount\", \"type\": \"quantitative\"}, \"y\": {\"field\": \"fiscal year\", \"type\": \"nominal\"}}}, {\"mark\": {\"type\": \"text\", \"align\": \"left\", \"baseline\": \"middle\", \"dx\": 3}, \"encoding\": {\"text\": {\"field\": \"fund amount\", \"type\": \"quantitative\"}, \"x\": {\"field\": \"fund amount\", \"type\": \"quantitative\"}, \"y\": {\"field\": \"fiscal year\", \"type\": \"nominal\"}}}], \"data\": {\"name\": \"data-a7e1deb4b2d7757328984cb1370701fb\"}, \"height\": 400, \"width\": \"container\", \"$schema\": \"https://vega.github.io/schema/vega-lite/v5.17.0.json\", \"datasets\": {\"data-a7e1deb4b2d7757328984cb1370701fb\": [{\"fiscal year\": \"23-24\", \"project type\": \"capital\", \"fund amount\": 945242943}, {\"fiscal year\": \"23-24\", \"project type\": \"operating\", \"fund amount\": 230807266}, {\"fiscal year\": \"24-25\", \"project type\": \"capital\", \"fund amount\": 812480147}, {\"fiscal year\": \"24-25\", \"project type\": \"operating\", \"fund amount\": 169494114}, {\"fiscal year\": \"25-26\", \"project type\": \"capital\", \"fund amount\": 49092309}, {\"fiscal year\": \"25-26\", \"project type\": \"operating\", \"fund amount\": 96177774}, {\"fiscal year\": \"26-27\", \"project type\": \"capital\", \"fund amount\": 48533322}, {\"fiscal year\": \"26-27\", \"project type\": \"operating\", \"fund amount\": 129175693}]}}, {\"mode\": \"vega-lite\"});\n",
       "</script>"
      ],
      "text/plain": [
       "alt.LayerChart(...)"
      ]
     },
     "execution_count": 14,
     "metadata": {},
     "output_type": "execute_result"
    }
   ],
   "source": [
    "display(by_year)\n",
    "make_bar(\n",
    "    by_year,\n",
    "    y_axis=\"fiscal year\",\n",
    "    x_axis=\"fund amount\",\n",
    ")"
   ]
  },
  {
   "cell_type": "code",
   "execution_count": 15,
   "id": "2fdc75f3-f1bc-4b4b-bd12-4af88ce25128",
   "metadata": {},
   "outputs": [
    {
     "data": {
      "text/html": [
       "\n",
       "<style>\n",
       "  #altair-viz-7af8dd2636fa4d15ac287c00d799fdee.vega-embed {\n",
       "    width: 100%;\n",
       "    display: flex;\n",
       "  }\n",
       "\n",
       "  #altair-viz-7af8dd2636fa4d15ac287c00d799fdee.vega-embed details,\n",
       "  #altair-viz-7af8dd2636fa4d15ac287c00d799fdee.vega-embed details summary {\n",
       "    position: relative;\n",
       "  }\n",
       "</style>\n",
       "<div id=\"altair-viz-7af8dd2636fa4d15ac287c00d799fdee\"></div>\n",
       "<script type=\"text/javascript\">\n",
       "  var VEGA_DEBUG = (typeof VEGA_DEBUG == \"undefined\") ? {} : VEGA_DEBUG;\n",
       "  (function(spec, embedOpt){\n",
       "    let outputDiv = document.currentScript.previousElementSibling;\n",
       "    if (outputDiv.id !== \"altair-viz-7af8dd2636fa4d15ac287c00d799fdee\") {\n",
       "      outputDiv = document.getElementById(\"altair-viz-7af8dd2636fa4d15ac287c00d799fdee\");\n",
       "    }\n",
       "    const paths = {\n",
       "      \"vega\": \"https://cdn.jsdelivr.net/npm/vega@5?noext\",\n",
       "      \"vega-lib\": \"https://cdn.jsdelivr.net/npm/vega-lib?noext\",\n",
       "      \"vega-lite\": \"https://cdn.jsdelivr.net/npm/vega-lite@5.17.0?noext\",\n",
       "      \"vega-embed\": \"https://cdn.jsdelivr.net/npm/vega-embed@6?noext\",\n",
       "    };\n",
       "\n",
       "    function maybeLoadScript(lib, version) {\n",
       "      var key = `${lib.replace(\"-\", \"\")}_version`;\n",
       "      return (VEGA_DEBUG[key] == version) ?\n",
       "        Promise.resolve(paths[lib]) :\n",
       "        new Promise(function(resolve, reject) {\n",
       "          var s = document.createElement('script');\n",
       "          document.getElementsByTagName(\"head\")[0].appendChild(s);\n",
       "          s.async = true;\n",
       "          s.onload = () => {\n",
       "            VEGA_DEBUG[key] = version;\n",
       "            return resolve(paths[lib]);\n",
       "          };\n",
       "          s.onerror = () => reject(`Error loading script: ${paths[lib]}`);\n",
       "          s.src = paths[lib];\n",
       "        });\n",
       "    }\n",
       "\n",
       "    function showError(err) {\n",
       "      outputDiv.innerHTML = `<div class=\"error\" style=\"color:red;\">${err}</div>`;\n",
       "      throw err;\n",
       "    }\n",
       "\n",
       "    function displayChart(vegaEmbed) {\n",
       "      vegaEmbed(outputDiv, spec, embedOpt)\n",
       "        .catch(err => showError(`Javascript Error: ${err.message}<br>This usually means there's a typo in your chart specification. See the javascript console for the full traceback.`));\n",
       "    }\n",
       "\n",
       "    if(typeof define === \"function\" && define.amd) {\n",
       "      requirejs.config({paths});\n",
       "      require([\"vega-embed\"], displayChart, err => showError(`Error loading script: ${err.message}`));\n",
       "    } else {\n",
       "      maybeLoadScript(\"vega\", \"5\")\n",
       "        .then(() => maybeLoadScript(\"vega-lite\", \"5.17.0\"))\n",
       "        .then(() => maybeLoadScript(\"vega-embed\", \"6\"))\n",
       "        .catch(showError)\n",
       "        .then(() => displayChart(vegaEmbed));\n",
       "    }\n",
       "  })({\"config\": {\"view\": {\"continuousWidth\": 300, \"continuousHeight\": 300}}, \"data\": {\"name\": \"data-a7e1deb4b2d7757328984cb1370701fb\"}, \"mark\": {\"type\": \"line\", \"point\": true}, \"encoding\": {\"color\": {\"field\": \"project type\", \"type\": \"nominal\"}, \"x\": {\"field\": \"fiscal year\", \"type\": \"nominal\"}, \"y\": {\"field\": \"fund amount\", \"type\": \"quantitative\"}}, \"height\": 400, \"width\": 600, \"$schema\": \"https://vega.github.io/schema/vega-lite/v5.17.0.json\", \"datasets\": {\"data-a7e1deb4b2d7757328984cb1370701fb\": [{\"fiscal year\": \"23-24\", \"project type\": \"capital\", \"fund amount\": 945242943}, {\"fiscal year\": \"23-24\", \"project type\": \"operating\", \"fund amount\": 230807266}, {\"fiscal year\": \"24-25\", \"project type\": \"capital\", \"fund amount\": 812480147}, {\"fiscal year\": \"24-25\", \"project type\": \"operating\", \"fund amount\": 169494114}, {\"fiscal year\": \"25-26\", \"project type\": \"capital\", \"fund amount\": 49092309}, {\"fiscal year\": \"25-26\", \"project type\": \"operating\", \"fund amount\": 96177774}, {\"fiscal year\": \"26-27\", \"project type\": \"capital\", \"fund amount\": 48533322}, {\"fiscal year\": \"26-27\", \"project type\": \"operating\", \"fund amount\": 129175693}]}}, {\"mode\": \"vega-lite\"});\n",
       "</script>"
      ],
      "text/plain": [
       "alt.Chart(...)"
      ]
     },
     "execution_count": 15,
     "metadata": {},
     "output_type": "execute_result"
    }
   ],
   "source": [
    "alt.Chart(by_year).mark_line(point=True).encode(\n",
    "    x=\"fiscal year\", y=\"fund amount\", color=\"project type\"\n",
    ").properties(width=600, height=400)"
   ]
  },
  {
   "cell_type": "code",
   "execution_count": 16,
   "id": "d6371a85-059d-4c5d-903f-5525ab9dd8df",
   "metadata": {},
   "outputs": [
    {
     "data": {
      "text/html": [
       "\n",
       "<style>\n",
       "  #altair-viz-cc9bed1d826f47349084f3a7e35b971b.vega-embed {\n",
       "    width: 100%;\n",
       "    display: flex;\n",
       "  }\n",
       "\n",
       "  #altair-viz-cc9bed1d826f47349084f3a7e35b971b.vega-embed details,\n",
       "  #altair-viz-cc9bed1d826f47349084f3a7e35b971b.vega-embed details summary {\n",
       "    position: relative;\n",
       "  }\n",
       "</style>\n",
       "<div id=\"altair-viz-cc9bed1d826f47349084f3a7e35b971b\"></div>\n",
       "<script type=\"text/javascript\">\n",
       "  var VEGA_DEBUG = (typeof VEGA_DEBUG == \"undefined\") ? {} : VEGA_DEBUG;\n",
       "  (function(spec, embedOpt){\n",
       "    let outputDiv = document.currentScript.previousElementSibling;\n",
       "    if (outputDiv.id !== \"altair-viz-cc9bed1d826f47349084f3a7e35b971b\") {\n",
       "      outputDiv = document.getElementById(\"altair-viz-cc9bed1d826f47349084f3a7e35b971b\");\n",
       "    }\n",
       "    const paths = {\n",
       "      \"vega\": \"https://cdn.jsdelivr.net/npm/vega@5?noext\",\n",
       "      \"vega-lib\": \"https://cdn.jsdelivr.net/npm/vega-lib?noext\",\n",
       "      \"vega-lite\": \"https://cdn.jsdelivr.net/npm/vega-lite@5.17.0?noext\",\n",
       "      \"vega-embed\": \"https://cdn.jsdelivr.net/npm/vega-embed@6?noext\",\n",
       "    };\n",
       "\n",
       "    function maybeLoadScript(lib, version) {\n",
       "      var key = `${lib.replace(\"-\", \"\")}_version`;\n",
       "      return (VEGA_DEBUG[key] == version) ?\n",
       "        Promise.resolve(paths[lib]) :\n",
       "        new Promise(function(resolve, reject) {\n",
       "          var s = document.createElement('script');\n",
       "          document.getElementsByTagName(\"head\")[0].appendChild(s);\n",
       "          s.async = true;\n",
       "          s.onload = () => {\n",
       "            VEGA_DEBUG[key] = version;\n",
       "            return resolve(paths[lib]);\n",
       "          };\n",
       "          s.onerror = () => reject(`Error loading script: ${paths[lib]}`);\n",
       "          s.src = paths[lib];\n",
       "        });\n",
       "    }\n",
       "\n",
       "    function showError(err) {\n",
       "      outputDiv.innerHTML = `<div class=\"error\" style=\"color:red;\">${err}</div>`;\n",
       "      throw err;\n",
       "    }\n",
       "\n",
       "    function displayChart(vegaEmbed) {\n",
       "      vegaEmbed(outputDiv, spec, embedOpt)\n",
       "        .catch(err => showError(`Javascript Error: ${err.message}<br>This usually means there's a typo in your chart specification. See the javascript console for the full traceback.`));\n",
       "    }\n",
       "\n",
       "    if(typeof define === \"function\" && define.amd) {\n",
       "      requirejs.config({paths});\n",
       "      require([\"vega-embed\"], displayChart, err => showError(`Error loading script: ${err.message}`));\n",
       "    } else {\n",
       "      maybeLoadScript(\"vega\", \"5\")\n",
       "        .then(() => maybeLoadScript(\"vega-lite\", \"5.17.0\"))\n",
       "        .then(() => maybeLoadScript(\"vega-embed\", \"6\"))\n",
       "        .catch(showError)\n",
       "        .then(() => displayChart(vegaEmbed));\n",
       "    }\n",
       "  })({\"config\": {\"view\": {\"continuousWidth\": 300, \"continuousHeight\": 300}}, \"layer\": [{\"mark\": {\"type\": \"bar\"}, \"encoding\": {\"x\": {\"field\": \"fund amount\", \"type\": \"quantitative\"}, \"y\": {\"field\": \"fund source\", \"type\": \"nominal\"}}}, {\"mark\": {\"type\": \"text\", \"align\": \"left\", \"baseline\": \"middle\", \"dx\": 3}, \"encoding\": {\"text\": {\"field\": \"fund amount\", \"type\": \"quantitative\"}, \"x\": {\"field\": \"fund amount\", \"type\": \"quantitative\"}, \"y\": {\"field\": \"fund source\", \"type\": \"nominal\"}}}], \"data\": {\"name\": \"data-7bf9c430f850755e275907cef1f095c7\"}, \"height\": 400, \"width\": \"container\", \"$schema\": \"https://vega.github.io/schema/vega-lite/v5.17.0.json\", \"datasets\": {\"data-7bf9c430f850755e275907cef1f095c7\": [{\"fund source\": \"CMAQ\", \"fund amount\": 2300000, \"rtpa\": 1}, {\"fund source\": \"Farebox\", \"fund amount\": 400000, \"rtpa\": 1}, {\"fund source\": \"Measure V\", \"fund amount\": 500000, \"rtpa\": 1}, {\"fund source\": \"SGR\", \"fund amount\": 620000, \"rtpa\": 1}, {\"fund source\": \"TIRCP\", \"fund amount\": 2114010519, \"rtpa\": 30}, {\"fund source\": \"ZETCP\", \"fund amount\": 58874499, \"rtpa\": 3}, {\"fund source\": \"ZETCP (GGRF)\", \"fund amount\": 275714380, \"rtpa\": 26}, {\"fund source\": \"ZETCP (PTA)\", \"fund amount\": 27584170, \"rtpa\": 23}, {\"fund source\": \"`5307\", \"fund amount\": 400000, \"rtpa\": 1}, {\"fund source\": \"`5339\", \"fund amount\": 600000, \"rtpa\": 1}]}}, {\"mode\": \"vega-lite\"});\n",
       "</script>"
      ],
      "text/plain": [
       "alt.LayerChart(...)"
      ]
     },
     "execution_count": 16,
     "metadata": {},
     "output_type": "execute_result"
    }
   ],
   "source": [
    "make_bar(by_source, y_axis=\"fund source\", x_axis=\"fund amount\")"
   ]
  },
  {
   "cell_type": "code",
   "execution_count": 17,
   "id": "7807c175-4728-4614-a4f6-95ffe6460e29",
   "metadata": {},
   "outputs": [
    {
     "data": {
      "text/html": [
       "\n",
       "<style>\n",
       "  #altair-viz-f23b173c15bb460f9cdd93ba2fb97176.vega-embed {\n",
       "    width: 100%;\n",
       "    display: flex;\n",
       "  }\n",
       "\n",
       "  #altair-viz-f23b173c15bb460f9cdd93ba2fb97176.vega-embed details,\n",
       "  #altair-viz-f23b173c15bb460f9cdd93ba2fb97176.vega-embed details summary {\n",
       "    position: relative;\n",
       "  }\n",
       "</style>\n",
       "<div id=\"altair-viz-f23b173c15bb460f9cdd93ba2fb97176\"></div>\n",
       "<script type=\"text/javascript\">\n",
       "  var VEGA_DEBUG = (typeof VEGA_DEBUG == \"undefined\") ? {} : VEGA_DEBUG;\n",
       "  (function(spec, embedOpt){\n",
       "    let outputDiv = document.currentScript.previousElementSibling;\n",
       "    if (outputDiv.id !== \"altair-viz-f23b173c15bb460f9cdd93ba2fb97176\") {\n",
       "      outputDiv = document.getElementById(\"altair-viz-f23b173c15bb460f9cdd93ba2fb97176\");\n",
       "    }\n",
       "    const paths = {\n",
       "      \"vega\": \"https://cdn.jsdelivr.net/npm/vega@5?noext\",\n",
       "      \"vega-lib\": \"https://cdn.jsdelivr.net/npm/vega-lib?noext\",\n",
       "      \"vega-lite\": \"https://cdn.jsdelivr.net/npm/vega-lite@5.17.0?noext\",\n",
       "      \"vega-embed\": \"https://cdn.jsdelivr.net/npm/vega-embed@6?noext\",\n",
       "    };\n",
       "\n",
       "    function maybeLoadScript(lib, version) {\n",
       "      var key = `${lib.replace(\"-\", \"\")}_version`;\n",
       "      return (VEGA_DEBUG[key] == version) ?\n",
       "        Promise.resolve(paths[lib]) :\n",
       "        new Promise(function(resolve, reject) {\n",
       "          var s = document.createElement('script');\n",
       "          document.getElementsByTagName(\"head\")[0].appendChild(s);\n",
       "          s.async = true;\n",
       "          s.onload = () => {\n",
       "            VEGA_DEBUG[key] = version;\n",
       "            return resolve(paths[lib]);\n",
       "          };\n",
       "          s.onerror = () => reject(`Error loading script: ${paths[lib]}`);\n",
       "          s.src = paths[lib];\n",
       "        });\n",
       "    }\n",
       "\n",
       "    function showError(err) {\n",
       "      outputDiv.innerHTML = `<div class=\"error\" style=\"color:red;\">${err}</div>`;\n",
       "      throw err;\n",
       "    }\n",
       "\n",
       "    function displayChart(vegaEmbed) {\n",
       "      vegaEmbed(outputDiv, spec, embedOpt)\n",
       "        .catch(err => showError(`Javascript Error: ${err.message}<br>This usually means there's a typo in your chart specification. See the javascript console for the full traceback.`));\n",
       "    }\n",
       "\n",
       "    if(typeof define === \"function\" && define.amd) {\n",
       "      requirejs.config({paths});\n",
       "      require([\"vega-embed\"], displayChart, err => showError(`Error loading script: ${err.message}`));\n",
       "    } else {\n",
       "      maybeLoadScript(\"vega\", \"5\")\n",
       "        .then(() => maybeLoadScript(\"vega-lite\", \"5.17.0\"))\n",
       "        .then(() => maybeLoadScript(\"vega-embed\", \"6\"))\n",
       "        .catch(showError)\n",
       "        .then(() => displayChart(vegaEmbed));\n",
       "    }\n",
       "  })({\"config\": {\"view\": {\"continuousWidth\": 300, \"continuousHeight\": 300}}, \"layer\": [{\"mark\": {\"type\": \"bar\"}, \"encoding\": {\"x\": {\"field\": \"rtpa\", \"type\": \"nominal\"}, \"y\": {\"field\": \"fund amount\", \"type\": \"quantitative\"}}}, {\"mark\": {\"type\": \"text\", \"align\": \"left\", \"baseline\": \"middle\", \"dx\": 3}, \"encoding\": {\"text\": {\"field\": \"fund amount\", \"type\": \"quantitative\"}, \"x\": {\"field\": \"rtpa\", \"type\": \"nominal\"}, \"y\": {\"field\": \"fund amount\", \"type\": \"quantitative\"}}}], \"data\": {\"name\": \"data-03d63601aa33965086abe87f6fbd3f73\"}, \"height\": 400, \"width\": \"container\", \"$schema\": \"https://vega.github.io/schema/vega-lite/v5.17.0.json\", \"datasets\": {\"data-03d63601aa33965086abe87f6fbd3f73\": [{\"rtpa\": \"Alpine County Transportation Commission\", \"fund amount\": 739517, \"project\": 1}, {\"rtpa\": \"Amador County Transportation Commission\", \"fund amount\": 175000, \"project\": 0}, {\"rtpa\": \"Butte County Association of Governments\", \"fund amount\": 23989331, \"project\": 2}, {\"rtpa\": \"Calaveras County Council of Goverments\", \"fund amount\": 5798936, \"project\": 1}, {\"rtpa\": \"DNLTC\", \"fund amount\": 3756248, \"project\": 2}, {\"rtpa\": \"El Dorado County Transportation Commission\", \"fund amount\": 10057638, \"project\": 2}, {\"rtpa\": \"Humboldt County Association of Governments\", \"fund amount\": 16492428, \"project\": 3}, {\"rtpa\": \"Kern COG\", \"fund amount\": 103242581, \"project\": 10}, {\"rtpa\": \"Kings County Association of Governments\", \"fund amount\": 18204049, \"project\": 9}, {\"rtpa\": \"LCTC\", \"fund amount\": 4106696, \"project\": 6}, {\"rtpa\": \"Lake County/City Council of Governments\", \"fund amount\": 4077103, \"project\": 2}, {\"rtpa\": \"Los Angeles County Metropolitan Transportation Authority\", \"fund amount\": 1173924082, \"project\": 3}, {\"rtpa\": \"Madera County Transportation Commission\", \"fund amount\": 18811247, \"project\": 5}, {\"rtpa\": \"Mariposa County Local Transportation Commission\", \"fund amount\": 2571256, \"project\": 1}, {\"rtpa\": \"Mendocino Council of Governments\", \"fund amount\": 5353525, \"project\": 2}, {\"rtpa\": \"Merced County Association of Governments (MCAG)\", \"fund amount\": 38377592, \"project\": 12}, {\"rtpa\": \"NCTC\", \"fund amount\": 2722336, \"project\": 3}, {\"rtpa\": \"OCTA\", \"fund amount\": 380916077, \"project\": 14}, {\"rtpa\": \"Placer County Transportation Planning Agency (PCTPA)\", \"fund amount\": 37851991, \"project\": 9}, {\"rtpa\": \"Plumas County Transportation Commission\", \"fund amount\": 2824039, \"project\": 5}, {\"rtpa\": \"RCTC\", \"fund amount\": 138210990, \"project\": 3}, {\"rtpa\": \"SCCRTC\", \"fund amount\": 34686052, \"project\": 4}, {\"rtpa\": \"SLOCOG\", \"fund amount\": 32217200, \"project\": 24}, {\"rtpa\": \"San Benito Council of Governments \", \"fund amount\": 8160164, \"project\": 4}, {\"rtpa\": \"San Diego Metropolitan Transit System\", \"fund amount\": 283651605, \"project\": 12}, {\"rtpa\": \"Shasta Regional Transportation Agency\", \"fund amount\": 15375548, \"project\": 5}, {\"rtpa\": \"Sierra County Transportation Commission\", \"fund amount\": 973816, \"project\": 4}, {\"rtpa\": \"Tehama County Transportation Commission \", \"fund amount\": 8115138, \"project\": 3}, {\"rtpa\": \"Tuolumne County Transportation Council\", \"fund amount\": 7061054, \"project\": 4}, {\"rtpa\": \"VCTC\", \"fund amount\": 98560329, \"project\": 24}]}}, {\"mode\": \"vega-lite\"});\n",
       "</script>"
      ],
      "text/plain": [
       "alt.LayerChart(...)"
      ]
     },
     "execution_count": 17,
     "metadata": {},
     "output_type": "execute_result"
    }
   ],
   "source": [
    "make_bar(by_rtpa, \"rtpa\", \"fund amount\")"
   ]
  }
 ],
 "metadata": {
  "kernelspec": {
   "display_name": "Python 3 (ipykernel)",
   "language": "python",
   "name": "python3"
  },
  "language_info": {
   "codemirror_mode": {
    "name": "ipython",
    "version": 3
   },
   "file_extension": ".py",
   "mimetype": "text/x-python",
   "name": "python",
   "nbconvert_exporter": "python",
   "pygments_lexer": "ipython3",
   "version": "3.9.13"
  }
 },
 "nbformat": 4,
 "nbformat_minor": 5
}
