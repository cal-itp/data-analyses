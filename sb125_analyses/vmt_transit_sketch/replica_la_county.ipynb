{
 "cells": [
  {
   "cell_type": "code",
   "execution_count": 2,
   "id": "1f8bcf0d-3662-4302-a1c2-5a45be405cfa",
   "metadata": {},
   "outputs": [],
   "source": [
    "import geopandas as gpd\n",
    "import pandas as pd\n",
    "from siuba import *\n",
    "\n",
    "from calitp_data_analysis import geography_utils"
   ]
  },
  {
   "cell_type": "markdown",
   "id": "3544df1f-5942-4fe1-8a53-ada5dfa1e553",
   "metadata": {},
   "source": [
    "# Custom Geographies to faciliate download"
   ]
  },
  {
   "cell_type": "code",
   "execution_count": 3,
   "id": "5f10e298-958f-46ad-876c-02b8f9a4d2fc",
   "metadata": {},
   "outputs": [],
   "source": [
    "URL = \"https://opendata.arcgis.com/datasets/\" \"8713ced9b78a4abb97dc130a691a8695_0.geojson\"\n",
    "\n",
    "gdf = gpd.read_file(URL).to_crs(geography_utils.CA_StatePlane)"
   ]
  },
  {
   "cell_type": "code",
   "execution_count": 9,
   "id": "da33f24a-1074-49c9-85d5-dfd641e80cd7",
   "metadata": {},
   "outputs": [],
   "source": [
    "#  exclude islands for now\n",
    "gdf = gdf >> filter(_.ISLAND.isna())"
   ]
  },
  {
   "cell_type": "code",
   "execution_count": 12,
   "id": "5625d1b2-80c2-47d6-925d-ebc99f4a2ddb",
   "metadata": {},
   "outputs": [],
   "source": [
    "# gdf.explore()"
   ]
  },
  {
   "cell_type": "code",
   "execution_count": 15,
   "id": "085d86ed-2046-42a1-805b-a1a7937e6c6f",
   "metadata": {},
   "outputs": [],
   "source": [
    "la = gdf >> filter(_.COUNTY_NAME == 'Los Angeles')"
   ]
  },
  {
   "cell_type": "code",
   "execution_count": 13,
   "id": "3b22101a-53b4-4516-be76-045217bb5ce0",
   "metadata": {},
   "outputs": [],
   "source": [
    "la_mask = gpd.read_file('./la_mask.geojson').to_crs(geography_utils.CA_StatePlane)"
   ]
  },
  {
   "cell_type": "code",
   "execution_count": 19,
   "id": "02356776-51da-41ab-8811-35bd9f689ee8",
   "metadata": {},
   "outputs": [],
   "source": [
    "southbay = la.clip(la_mask)"
   ]
  },
  {
   "cell_type": "code",
   "execution_count": 21,
   "id": "31725fa3-a220-4b9f-83b1-a1b1874775d4",
   "metadata": {},
   "outputs": [],
   "source": [
    "southbay['zone'] = 'la_southbay'\n",
    "\n",
    "southbay = southbay[['zone', 'geometry']]"
   ]
  },
  {
   "cell_type": "code",
   "execution_count": 22,
   "id": "12fcedb0-079d-4786-a9c3-5251b389787b",
   "metadata": {},
   "outputs": [],
   "source": [
    "non_southbay = la.overlay(la_mask, how='difference')"
   ]
  },
  {
   "cell_type": "code",
   "execution_count": 23,
   "id": "3b002399-7999-46d0-9575-a27b193bcdbe",
   "metadata": {},
   "outputs": [],
   "source": [
    "non_southbay['zone'] = 'la_other'\n",
    "\n",
    "non_southbay = non_southbay[['zone', 'geometry']]"
   ]
  },
  {
   "cell_type": "code",
   "execution_count": 24,
   "id": "76e015a6-b8fb-482a-8bf2-2c793741433e",
   "metadata": {},
   "outputs": [],
   "source": [
    "pd.concat([southbay, non_southbay]).to_file('la.geojson')"
   ]
  },
  {
   "cell_type": "code",
   "execution_count": null,
   "id": "5334bb35-9395-4f0c-8f9d-5d2bbdba0131",
   "metadata": {},
   "outputs": [],
   "source": []
  }
 ],
 "metadata": {
  "kernelspec": {
   "display_name": "Python 3 (ipykernel)",
   "language": "python",
   "name": "python3"
  },
  "language_info": {
   "codemirror_mode": {
    "name": "ipython",
    "version": 3
   },
   "file_extension": ".py",
   "mimetype": "text/x-python",
   "name": "python",
   "nbconvert_exporter": "python",
   "pygments_lexer": "ipython3",
   "version": "3.9.13"
  },
  "widgets": {
   "application/vnd.jupyter.widget-state+json": {
    "state": {},
    "version_major": 2,
    "version_minor": 0
   }
  }
 },
 "nbformat": 4,
 "nbformat_minor": 5
}
