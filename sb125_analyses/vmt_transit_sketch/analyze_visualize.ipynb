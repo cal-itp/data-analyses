{
 "cells": [
  {
   "cell_type": "code",
   "execution_count": null,
   "id": "9e8158c2-a7f9-4b3c-a518-037132adf0c3",
   "metadata": {},
   "outputs": [],
   "source": [
    "import pandas as pd\n",
    "import geopandas as gpd\n",
    "from siuba import *"
   ]
  },
  {
   "cell_type": "code",
   "execution_count": null,
   "id": "81cddca7-bea4-494d-b0cb-02508d52b380",
   "metadata": {},
   "outputs": [],
   "source": [
    "import zipfile"
   ]
  },
  {
   "cell_type": "code",
   "execution_count": null,
   "id": "15475e21-db2a-4f64-a2bc-38f2b76b9a4f",
   "metadata": {
    "tags": []
   },
   "outputs": [],
   "source": [
    "# ! pip install pygris"
   ]
  },
  {
   "cell_type": "code",
   "execution_count": null,
   "id": "682268e8-78fc-4609-afc5-294f3c650b5e",
   "metadata": {},
   "outputs": [],
   "source": [
    "import _utils\n",
    "import importlib\n",
    "importlib.reload(_utils)"
   ]
  },
  {
   "cell_type": "markdown",
   "id": "019d1eaf-c3a7-4b71-a0b9-f9b041a04280",
   "metadata": {},
   "source": [
    "# \"What if VMT decreased by 25% per the CARB target, and all those trips were on (existing) transit instead?\"\n",
    "\n",
    "## VMT is a spatial phenomenon, our analysis should be spatial too\n",
    "\n",
    "* Start with \"big data\" weekday residential VMT per Census tract via Replica\n",
    "* Per target, future VMT should be 25% less\n",
    "* Assume tripmaking remains constant, and that transit entirely replaces that VMT\n",
    "    * optional: find tracts with no transit service, hold their VMT constant and redistribute missed target among remaining tracts (30% reduction instead of 25% perhaps?)\n",
    "    \n",
    "## From reduced VMT to transit trips\n",
    "\n",
    "* Replica gives transit trip lengths but it may not be reliable (\"good for auto, less so for transit\")\n",
    "    * It's generally showing the median transit trip as longer than the median auto trip, which seems questionable\n",
    "    * We have plenty of good spatial data on transit service _provision_, but not ridership (generally agency-level only)\n",
    "    * May need to refer to research/default to a fixed \"median transit trip\" length based on population density\n",
    "* Regardless, get a rough estimate by dividing reduced VMT in each tract by median transit trip distance, or median auto trip if transit data not available"
   ]
  },
  {
   "cell_type": "code",
   "execution_count": null,
   "id": "7f72b03d-f2b6-48ab-a4d0-cc9c6841b6c7",
   "metadata": {},
   "outputs": [],
   "source": [
    "gdf = gpd.read_parquet('outputs/new_trips_with_uza.parquet')"
   ]
  },
  {
   "cell_type": "code",
   "execution_count": null,
   "id": "949de2fb-46b5-4fdc-9982-6f2a2968748e",
   "metadata": {},
   "outputs": [],
   "source": [
    "#  filtered test\n",
    "gdf = gdf >> filter(_.NAME10.str.contains('Seaside'))"
   ]
  },
  {
   "cell_type": "markdown",
   "id": "345b6bfd-f569-442f-9641-4f5f5dd4c40c",
   "metadata": {},
   "source": [
    "## Mapping..."
   ]
  },
  {
   "cell_type": "code",
   "execution_count": null,
   "id": "b84ee354-9bc8-4808-b89e-39de27d24b71",
   "metadata": {
    "tags": []
   },
   "outputs": [],
   "source": [
    "# gdf.explore(column = 'total_mi_transit', scheme = 'NaturalBreaks')"
   ]
  },
  {
   "cell_type": "code",
   "execution_count": null,
   "id": "2bde07bb-30d9-48b7-86ae-1055c15c4aac",
   "metadata": {},
   "outputs": [],
   "source": [
    "gdf.explore(column = 'total_mi_auto', scheme = 'NaturalBreaks')"
   ]
  },
  {
   "cell_type": "markdown",
   "id": "76a258eb-cd26-4d2e-8e0c-8ac50c5c1449",
   "metadata": {},
   "source": [
    "## New transit trips"
   ]
  },
  {
   "cell_type": "code",
   "execution_count": null,
   "id": "bc798bcd-ac53-4240-9246-ab18723fa09f",
   "metadata": {},
   "outputs": [],
   "source": [
    "def map_per_capita(gdf):\n",
    "    gdf = gdf >> filter(_.total_pop != 0) # remove tracts where nobody lives\n",
    "    return gdf.explore(column = 'new_trips_per_capita', scheme = 'NaturalBreaks')"
   ]
  },
  {
   "cell_type": "code",
   "execution_count": null,
   "id": "50a3c08a-30c7-45c5-89d7-4b90c71c3d6b",
   "metadata": {},
   "outputs": [],
   "source": [
    "map_per_capita(gdf)"
   ]
  },
  {
   "cell_type": "code",
   "execution_count": null,
   "id": "8fb69137-fb4e-4140-9600-1155712585fc",
   "metadata": {},
   "outputs": [],
   "source": [
    "gdf.explore(column = 'projected_new_transit_trips', scheme = 'NaturalBreaks')"
   ]
  },
  {
   "cell_type": "code",
   "execution_count": null,
   "id": "718a534e-e8f5-4a2f-8698-f87c298d7ba0",
   "metadata": {},
   "outputs": [],
   "source": [
    "gdf.projected_new_transit_trips.sum()"
   ]
  },
  {
   "cell_type": "markdown",
   "id": "6b708ffd-6d83-45e3-86c1-39d30ec2f5a8",
   "metadata": {
    "tags": []
   },
   "source": [
    "## Next Steps\n",
    "\n",
    "* caveat: other strategies (land use, active modes...)\n",
    "* caveat: induced travel\n",
    "* stratify into \"good transit, not riding\", \"bad transit\"\n",
    "* LODES o/d data? Replica? -> Conveyal transit o/d find that \"good transit but not riding it\"\n",
    "   * find what doesn't show up in aggregate accessibility...\n",
    "* https://walker-data.com/pygris/"
   ]
  },
  {
   "cell_type": "code",
   "execution_count": null,
   "id": "e269a698-e8bf-4af7-a53c-45265ca7e5ad",
   "metadata": {},
   "outputs": [],
   "source": [
    "import shared_utils"
   ]
  },
  {
   "cell_type": "code",
   "execution_count": null,
   "id": "684770aa-d035-45d3-a3a4-ada6c51c2692",
   "metadata": {},
   "outputs": [],
   "source": [
    "analysis_date = '2023-04-15'"
   ]
  },
  {
   "cell_type": "code",
   "execution_count": null,
   "id": "b1424118-5e7c-4e00-9eee-1630d251cb14",
   "metadata": {},
   "outputs": [],
   "source": [
    "feeds = shared_utils.gtfs_utils_v2.schedule_daily_feed_to_gtfs_dataset_name(selected_date=analysis_date)"
   ]
  },
  {
   "cell_type": "code",
   "execution_count": null,
   "id": "5f958167-a291-4aba-8566-111c5e713be9",
   "metadata": {},
   "outputs": [],
   "source": [
    "mst = feeds >> filter(_.name.str.contains('Monterey'))\n",
    "mst"
   ]
  },
  {
   "cell_type": "code",
   "execution_count": null,
   "id": "d68764b0-476a-4af8-8560-b931a8afba51",
   "metadata": {},
   "outputs": [],
   "source": [
    "stops = shared_utils.gtfs_utils_v2.get_stops(analysis_date, mst.feed_key)"
   ]
  },
  {
   "cell_type": "code",
   "execution_count": null,
   "id": "3bbf4ee7-7bd2-4ae2-968b-b17a5ef2514d",
   "metadata": {},
   "outputs": [],
   "source": [
    "stops.columns"
   ]
  },
  {
   "cell_type": "code",
   "execution_count": null,
   "id": "f07ef246-b92d-4e00-989b-b1800744a694",
   "metadata": {},
   "outputs": [],
   "source": [
    "trips = shared_utils.gtfs_utils_v2.get_trips(analysis_date, mst.feed_key)"
   ]
  },
  {
   "cell_type": "code",
   "execution_count": null,
   "id": "2fd8b773-d935-4c13-8f9e-84a8cba153c9",
   "metadata": {
    "tags": []
   },
   "outputs": [],
   "source": [
    "trips.columns"
   ]
  },
  {
   "cell_type": "code",
   "execution_count": null,
   "id": "8fe0c258-f084-4030-94e6-b0a44f5f5498",
   "metadata": {},
   "outputs": [],
   "source": [
    "trips.route_short_name.unique()"
   ]
  },
  {
   "cell_type": "code",
   "execution_count": null,
   "id": "a6763fd7-c9cc-44e1-b7e9-8c8c919e3f91",
   "metadata": {},
   "outputs": [],
   "source": [
    "ab_trips = trips >> filter(_.route_short_name.isin(['A', 'B']), _.direction_id == 0)"
   ]
  },
  {
   "cell_type": "code",
   "execution_count": null,
   "id": "f9151728-3f87-45b0-a799-eb2b126ea434",
   "metadata": {},
   "outputs": [],
   "source": [
    "trips_20 = trips >> filter(_.route_short_name == '20', _.direction_id == 0)"
   ]
  },
  {
   "cell_type": "code",
   "execution_count": null,
   "id": "44c2f67b-74b7-4551-82b9-167f2744081b",
   "metadata": {},
   "outputs": [],
   "source": [
    "st_20 = shared_utils.gtfs_utils_v2.get_stop_times(analysis_date, mst.feed_key, trip_df=trips_20)"
   ]
  },
  {
   "cell_type": "code",
   "execution_count": null,
   "id": "fc5f463c-b3c6-4f80-86d4-9835c650eebb",
   "metadata": {},
   "outputs": [],
   "source": [
    "st_20 = st_20 >> distinct(_.stop_id, _.stop_sequence) >> collect()"
   ]
  },
  {
   "cell_type": "code",
   "execution_count": null,
   "id": "23f3a7b3-cd32-480f-ab1f-cc616c02e77a",
   "metadata": {},
   "outputs": [],
   "source": [
    "st_20 = stops >> select(_.stop_id, _.geometry) >> inner_join(_, st_20, on='stop_id')"
   ]
  },
  {
   "cell_type": "code",
   "execution_count": null,
   "id": "53cb95cd-7e8c-455d-ab47-fe3968582541",
   "metadata": {},
   "outputs": [],
   "source": [
    "def trips_to_stops(trip_df, feed_list):\n",
    "    st = shared_utils.gtfs_utils_v2.get_stop_times(analysis_date, feed_list, trip_df=trip_df)\n",
    "    st = st >> distinct(_.stop_id, _.stop_sequence) >> collect()\n",
    "    st = stops >> select(_.stop_id, _.geometry) >> inner_join(_, st, on='stop_id')\n",
    "    return st"
   ]
  },
  {
   "cell_type": "code",
   "execution_count": null,
   "id": "8b71bbe9-26d0-42ec-8b30-a7cfdee2236e",
   "metadata": {
    "tags": []
   },
   "outputs": [],
   "source": [
    "st_20 = trips_to_stops(trips_20)"
   ]
  },
  {
   "cell_type": "code",
   "execution_count": null,
   "id": "99b2afea-3280-422c-b3b7-6e1c5ff54b5d",
   "metadata": {},
   "outputs": [],
   "source": [
    "#  SURF BRT area for joins...\n",
    "st_20 = st_20 >> filter(_.stop_sequence <= 27)"
   ]
  },
  {
   "cell_type": "code",
   "execution_count": null,
   "id": "c3da388c-807d-424b-9e69-51588401ef2a",
   "metadata": {},
   "outputs": [],
   "source": [
    "# st_20.explore()"
   ]
  },
  {
   "cell_type": "code",
   "execution_count": null,
   "id": "0bfacea0-f958-4a65-90f3-2fec0ab04fd6",
   "metadata": {},
   "outputs": [],
   "source": [
    "st_ab = trips_to_stops(ab_trips)"
   ]
  },
  {
   "cell_type": "code",
   "execution_count": null,
   "id": "25ab4e55-c0cf-4919-b9ef-41e665c9a136",
   "metadata": {},
   "outputs": [],
   "source": [
    "# st_ab.explore()"
   ]
  },
  {
   "cell_type": "code",
   "execution_count": null,
   "id": "27a834eb-34b0-46a4-9f0d-75534812a336",
   "metadata": {},
   "outputs": [],
   "source": [
    "surf_corridor = pd.concat([st_20, st_ab])"
   ]
  },
  {
   "cell_type": "code",
   "execution_count": null,
   "id": "72671c73-1331-4888-a6e4-5a8cc3a34a16",
   "metadata": {},
   "outputs": [],
   "source": [
    "surf_corridor.explore()"
   ]
  },
  {
   "cell_type": "markdown",
   "id": "1ca1517e-876d-49ae-82c1-973e02116745",
   "metadata": {},
   "source": [
    "## Wilshire"
   ]
  },
  {
   "cell_type": "code",
   "execution_count": null,
   "id": "d52788d4-e9f1-4ddc-9687-01dcfc957bde",
   "metadata": {},
   "outputs": [],
   "source": [
    "feeds = shared_utils.gtfs_utils_v2.schedule_daily_feed_to_gtfs_dataset_name(selected_date=analysis_date)"
   ]
  },
  {
   "cell_type": "code",
   "execution_count": null,
   "id": "ed2d3a3a-3473-4174-91b7-56c4e6759e9d",
   "metadata": {},
   "outputs": [],
   "source": [
    "metro = feeds >> filter(_.name.str.contains('LA Metro Bus'))\n",
    "metro"
   ]
  },
  {
   "cell_type": "code",
   "execution_count": null,
   "id": "030ebc15-6824-47a6-b781-11628b74d848",
   "metadata": {},
   "outputs": [],
   "source": [
    "stops = shared_utils.gtfs_utils_v2.get_stops(analysis_date, metro.feed_key)"
   ]
  },
  {
   "cell_type": "code",
   "execution_count": null,
   "id": "c1e324d3-7891-40f2-bd7b-2389fa36ee26",
   "metadata": {},
   "outputs": [],
   "source": [
    "trips = shared_utils.gtfs_utils_v2.get_trips(analysis_date, metro.feed_key)"
   ]
  },
  {
   "cell_type": "code",
   "execution_count": null,
   "id": "384bc785-79ed-4ca8-be5d-14a0480e98cf",
   "metadata": {},
   "outputs": [],
   "source": [
    "trips.route_short_name.unique()"
   ]
  },
  {
   "cell_type": "code",
   "execution_count": null,
   "id": "1b6fde5e-1394-4350-b483-1c1e6ad1dabb",
   "metadata": {},
   "outputs": [],
   "source": [
    "trips_720 = trips >> filter(_.route_short_name.isin(['720']), _.direction_id == 0)"
   ]
  },
  {
   "cell_type": "code",
   "execution_count": null,
   "id": "fed54ea9-8157-425a-889a-1069d77265ca",
   "metadata": {
    "tags": []
   },
   "outputs": [],
   "source": [
    "st_720 = trips_to_stops(trips_720, metro.feed_key)"
   ]
  },
  {
   "cell_type": "code",
   "execution_count": null,
   "id": "38b16a39-5d16-45bd-a9e4-71c22cacdb7f",
   "metadata": {},
   "outputs": [],
   "source": [
    "#  only keep W of Wil/Wstn\n",
    "st_720 = st_720 >> filter(_.stop_sequence <= 11)"
   ]
  },
  {
   "cell_type": "code",
   "execution_count": null,
   "id": "3e04bc76-99c8-4930-a754-fc4c2c0f3597",
   "metadata": {},
   "outputs": [],
   "source": [
    "st_720.explore()"
   ]
  },
  {
   "cell_type": "markdown",
   "id": "c5d6a929-e7e4-4074-9467-2e7aaed57ddb",
   "metadata": {},
   "source": [
    "## Sjoin and calculate"
   ]
  },
  {
   "cell_type": "code",
   "execution_count": null,
   "id": "123fa697-8a27-4572-b144-66e0f9d6df25",
   "metadata": {},
   "outputs": [],
   "source": [
    "gdf = gpd.read_parquet('outputs/new_trips_with_uza.parquet')"
   ]
  },
  {
   "cell_type": "code",
   "execution_count": null,
   "id": "a3551c17-c263-41b6-9f81-632afc134988",
   "metadata": {},
   "outputs": [],
   "source": [
    "surf_corridor = surf_corridor.to_crs(shared_utils.geography_utils.CA_NAD83Albers)\n",
    "st_720 = st_720.to_crs(shared_utils.geography_utils.CA_NAD83Albers)"
   ]
  },
  {
   "cell_type": "code",
   "execution_count": null,
   "id": "2e3caf3a-42b1-4520-be55-1f5c59655607",
   "metadata": {},
   "outputs": [],
   "source": [
    "#  half-mile buffer stop areas, corridors should be broader...\n",
    "surf_corridor.geometry = surf_corridor.buffer(804) \n",
    "st_720.geometry = st_720.buffer(804)"
   ]
  },
  {
   "cell_type": "code",
   "execution_count": null,
   "id": "52860ef0-afdf-478a-98c8-6a2eed4d44f1",
   "metadata": {},
   "outputs": [],
   "source": [
    "gdf = gdf >> select(-_.index_left, -_.index_right)"
   ]
  },
  {
   "cell_type": "code",
   "execution_count": null,
   "id": "1e6c6cbc-c388-43c3-8340-25d7b1519152",
   "metadata": {},
   "outputs": [],
   "source": [
    "surf = gpd.sjoin(gdf, surf_corridor) >> distinct(_.GEOID, _keep_all=True)"
   ]
  },
  {
   "cell_type": "code",
   "execution_count": null,
   "id": "884d4536-874d-432b-8e0e-fbe71c9160fb",
   "metadata": {},
   "outputs": [],
   "source": [
    "surf.explore(column = 'projected_new_transit_trips', scheme = 'NaturalBreaks')"
   ]
  },
  {
   "cell_type": "code",
   "execution_count": null,
   "id": "8821c382-1d27-4dd3-994b-6d73e9b384b1",
   "metadata": {},
   "outputs": [],
   "source": [
    "wilshire = gpd.sjoin(gdf, st_720) >> distinct(_.GEOID, _keep_all=True)"
   ]
  },
  {
   "cell_type": "code",
   "execution_count": null,
   "id": "b6541ddd-66b0-4462-abc0-d9542bf1e082",
   "metadata": {},
   "outputs": [],
   "source": [
    "wilshire.explore(column = 'projected_new_transit_trips', scheme = 'NaturalBreaks')"
   ]
  },
  {
   "cell_type": "code",
   "execution_count": null,
   "id": "4088fd65-a36c-4a54-a859-4bb954c5ce4c",
   "metadata": {},
   "outputs": [],
   "source": [
    "surf.describe()"
   ]
  },
  {
   "cell_type": "code",
   "execution_count": null,
   "id": "a2169877-c50e-48f1-9729-7d37a7841e85",
   "metadata": {},
   "outputs": [],
   "source": [
    "wilshire.describe()"
   ]
  },
  {
   "cell_type": "code",
   "execution_count": null,
   "id": "00959a08-aa6f-4a64-8f38-f90636a84d8a",
   "metadata": {},
   "outputs": [],
   "source": [
    "surf.sum()"
   ]
  },
  {
   "cell_type": "code",
   "execution_count": null,
   "id": "481d4803-9e48-4cee-9fe9-181e3caa33f9",
   "metadata": {},
   "outputs": [],
   "source": [
    "wilshire.sum()"
   ]
  },
  {
   "cell_type": "code",
   "execution_count": null,
   "id": "b693889c-093a-46b4-8160-1c58f5512551",
   "metadata": {},
   "outputs": [],
   "source": []
  }
 ],
 "metadata": {
  "kernelspec": {
   "display_name": "Python 3 (ipykernel)",
   "language": "python",
   "name": "python3"
  },
  "language_info": {
   "codemirror_mode": {
    "name": "ipython",
    "version": 3
   },
   "file_extension": ".py",
   "mimetype": "text/x-python",
   "name": "python",
   "nbconvert_exporter": "python",
   "pygments_lexer": "ipython3",
   "version": "3.9.13"
  },
  "widgets": {
   "application/vnd.jupyter.widget-state+json": {
    "state": {},
    "version_major": 2,
    "version_minor": 0
   }
  }
 },
 "nbformat": 4,
 "nbformat_minor": 5
}
