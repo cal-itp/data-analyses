{
 "cells": [
  {
   "cell_type": "code",
   "execution_count": null,
   "id": "9e8158c2-a7f9-4b3c-a518-037132adf0c3",
   "metadata": {},
   "outputs": [],
   "source": [
    "import pandas as pd\n",
    "import geopandas as gpd\n",
    "from siuba import *"
   ]
  },
  {
   "cell_type": "code",
   "execution_count": null,
   "id": "81cddca7-bea4-494d-b0cb-02508d52b380",
   "metadata": {},
   "outputs": [],
   "source": [
    "import zipfile"
   ]
  },
  {
   "cell_type": "code",
   "execution_count": null,
   "id": "15475e21-db2a-4f64-a2bc-38f2b76b9a4f",
   "metadata": {
    "tags": []
   },
   "outputs": [],
   "source": [
    "! pip install pygris"
   ]
  },
  {
   "cell_type": "code",
   "execution_count": null,
   "id": "682268e8-78fc-4609-afc5-294f3c650b5e",
   "metadata": {},
   "outputs": [],
   "source": [
    "import _utils\n",
    "import importlib\n",
    "importlib.reload(_utils)"
   ]
  },
  {
   "cell_type": "code",
   "execution_count": null,
   "id": "cc8592ca-b5f0-4df1-a1b8-b31e51df9c28",
   "metadata": {},
   "outputs": [],
   "source": [
    "from _utils import GCS_PATH\n",
    "from calitp_data_analysis import geography_utils"
   ]
  },
  {
   "cell_type": "markdown",
   "id": "019d1eaf-c3a7-4b71-a0b9-f9b041a04280",
   "metadata": {},
   "source": [
    "# \"What if VMT decreased by 25% per the CARB target, and all those trips were on (existing) transit instead?\"\n",
    "\n",
    "## VMT is a spatial phenomenon, our analysis should be spatial too\n",
    "\n",
    "* Start with \"big data\" weekday residential VMT per Census tract via Replica\n",
    "* Per target, future VMT should be 25% less\n",
    "* Assume tripmaking remains constant, and that transit entirely replaces that VMT\n",
    "    * optional: find tracts with no transit service, hold their VMT constant and redistribute missed target among remaining tracts (30% reduction instead of 25% perhaps?)\n",
    "    \n",
    "## From reduced VMT to transit trips\n",
    "\n",
    "* Replica gives transit trip lengths but it may not be reliable (\"good for auto, less so for transit\")\n",
    "    * It's generally showing the median transit trip as longer than the median auto trip, which seems questionable\n",
    "    * We have plenty of good spatial data on transit service _provision_, but not ridership (generally agency-level only)\n",
    "    * May need to refer to research/default to a fixed \"median transit trip\" length based on population density\n",
    "* Regardless, get a rough estimate by dividing reduced VMT in each tract by median transit trip distance, or median auto trip if transit data not available"
   ]
  },
  {
   "cell_type": "code",
   "execution_count": null,
   "id": "7f72b03d-f2b6-48ab-a4d0-cc9c6841b6c7",
   "metadata": {},
   "outputs": [],
   "source": [
    "gdf = gpd.read_parquet(f'{GCS_PATH}outputs/new_trips_with_uza.parquet')"
   ]
  },
  {
   "cell_type": "markdown",
   "id": "f77a4426-5986-4df6-aaa0-d7cd249dd021",
   "metadata": {},
   "source": [
    "## This gdf has model results for whole state, filter then map..."
   ]
  },
  {
   "cell_type": "code",
   "execution_count": null,
   "id": "949de2fb-46b5-4fdc-9982-6f2a2968748e",
   "metadata": {},
   "outputs": [],
   "source": [
    "#  filtered test\n",
    "gdf = gdf >> filter(_.NAME10.str.contains('Seaside'))"
   ]
  },
  {
   "cell_type": "markdown",
   "id": "345b6bfd-f569-442f-9641-4f5f5dd4c40c",
   "metadata": {},
   "source": [
    "## Mapping..."
   ]
  },
  {
   "cell_type": "code",
   "execution_count": null,
   "id": "b84ee354-9bc8-4808-b89e-39de27d24b71",
   "metadata": {
    "tags": []
   },
   "outputs": [],
   "source": [
    "# gdf.explore(column = 'total_mi_transit', scheme = 'NaturalBreaks')"
   ]
  },
  {
   "cell_type": "code",
   "execution_count": null,
   "id": "2bde07bb-30d9-48b7-86ae-1055c15c4aac",
   "metadata": {},
   "outputs": [],
   "source": [
    "gdf.explore(column = 'total_mi_auto', scheme = 'NaturalBreaks')"
   ]
  },
  {
   "cell_type": "markdown",
   "id": "76a258eb-cd26-4d2e-8e0c-8ac50c5c1449",
   "metadata": {},
   "source": [
    "## New transit trips"
   ]
  },
  {
   "cell_type": "code",
   "execution_count": null,
   "id": "bc798bcd-ac53-4240-9246-ab18723fa09f",
   "metadata": {},
   "outputs": [],
   "source": [
    "def map_per_capita(gdf):\n",
    "    gdf = gdf >> filter(_.total_pop != 0) # remove tracts where nobody lives\n",
    "    return gdf.explore(column = 'new_trips_per_capita', scheme = 'NaturalBreaks')"
   ]
  },
  {
   "cell_type": "code",
   "execution_count": null,
   "id": "50a3c08a-30c7-45c5-89d7-4b90c71c3d6b",
   "metadata": {},
   "outputs": [],
   "source": [
    "map_per_capita(gdf)"
   ]
  },
  {
   "cell_type": "code",
   "execution_count": null,
   "id": "8fb69137-fb4e-4140-9600-1155712585fc",
   "metadata": {},
   "outputs": [],
   "source": [
    "gdf.explore(column = 'projected_new_transit_trips', scheme = 'NaturalBreaks')"
   ]
  },
  {
   "cell_type": "code",
   "execution_count": null,
   "id": "718a534e-e8f5-4a2f-8698-f87c298d7ba0",
   "metadata": {},
   "outputs": [],
   "source": [
    "gdf.projected_new_transit_trips.sum()"
   ]
  },
  {
   "cell_type": "markdown",
   "id": "6b708ffd-6d83-45e3-86c1-39d30ec2f5a8",
   "metadata": {
    "tags": []
   },
   "source": [
    "## Next Steps\n",
    "\n",
    "* caveat: other strategies (land use, active modes...)\n",
    "* caveat: induced travel\n",
    "* stratify into \"good transit, not riding\", \"bad transit\"\n",
    "* LODES o/d data? Replica? -> Conveyal transit o/d find that \"good transit but not riding it\"\n",
    "   * find what doesn't show up in aggregate accessibility...\n",
    "* https://walker-data.com/pygris/"
   ]
  }
 ],
 "metadata": {
  "kernelspec": {
   "display_name": "Python 3 (ipykernel)",
   "language": "python",
   "name": "python3"
  },
  "language_info": {
   "codemirror_mode": {
    "name": "ipython",
    "version": 3
   },
   "file_extension": ".py",
   "mimetype": "text/x-python",
   "name": "python",
   "nbconvert_exporter": "python",
   "pygments_lexer": "ipython3",
   "version": "3.9.13"
  },
  "widgets": {
   "application/vnd.jupyter.widget-state+json": {
    "state": {},
    "version_major": 2,
    "version_minor": 0
   }
  }
 },
 "nbformat": 4,
 "nbformat_minor": 5
}
