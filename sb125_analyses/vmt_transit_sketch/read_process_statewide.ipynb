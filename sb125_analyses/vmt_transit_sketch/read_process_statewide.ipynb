{
 "cells": [
  {
   "cell_type": "code",
   "execution_count": 1,
   "id": "9e8158c2-a7f9-4b3c-a518-037132adf0c3",
   "metadata": {},
   "outputs": [],
   "source": [
    "import pandas as pd\n",
    "import geopandas as gpd\n",
    "from siuba import *\n",
    "import numpy as np"
   ]
  },
  {
   "cell_type": "code",
   "execution_count": 2,
   "id": "81cddca7-bea4-494d-b0cb-02508d52b380",
   "metadata": {},
   "outputs": [],
   "source": [
    "import zipfile"
   ]
  },
  {
   "cell_type": "code",
   "execution_count": 3,
   "id": "37b679d4-f8bd-4450-bf9f-50b68e8570b4",
   "metadata": {},
   "outputs": [],
   "source": [
    "from calitp_data_analysis import get_fs"
   ]
  },
  {
   "cell_type": "code",
   "execution_count": 4,
   "id": "80324d88-ea3a-45a6-9362-933a2395ed31",
   "metadata": {},
   "outputs": [],
   "source": [
    "fs = get_fs()"
   ]
  },
  {
   "cell_type": "code",
   "execution_count": 5,
   "id": "3dcaf650-43fe-4532-9060-442b067ef173",
   "metadata": {
    "tags": []
   },
   "outputs": [],
   "source": [
    "# ! pip install pygris"
   ]
  },
  {
   "cell_type": "code",
   "execution_count": 6,
   "id": "682268e8-78fc-4609-afc5-294f3c650b5e",
   "metadata": {},
   "outputs": [],
   "source": [
    "import _utils\n",
    "# import importlib\n",
    "# importlib.reload(_utils)"
   ]
  },
  {
   "cell_type": "code",
   "execution_count": 7,
   "id": "5aeca438-6285-4cca-b375-ab8aa3849e42",
   "metadata": {},
   "outputs": [],
   "source": [
    "GCS_PATH = _utils.GCS_PATH"
   ]
  },
  {
   "cell_type": "markdown",
   "id": "b076a21f-5a53-4b75-b140-0e4947099e42",
   "metadata": {
    "tags": []
   },
   "source": [
    "# Table of statewide trip counts and VMT by distance bucket\n",
    "\n",
    "* Replica fall 2023 data, must download in several regions since Replica has a 25M row download limit"
   ]
  },
  {
   "cell_type": "code",
   "execution_count": 8,
   "id": "85a89737-f90d-488f-9310-ca83557e476c",
   "metadata": {
    "tags": []
   },
   "outputs": [],
   "source": [
    "def read_group_replica(zip_path):\n",
    "    '''\n",
    "    zip_path: path to zip file containing a Replica trips export csv    \n",
    "    '''\n",
    "    def parse_csv(zipfile):\n",
    "        csvs = [f for f in z.namelist() if f[-3:] == 'csv']\n",
    "        assert len(csvs) == 1\n",
    "        with z.open(csvs[0]) as f:\n",
    "            df = pd.read_csv(f)\n",
    "        return df\n",
    "    \n",
    "    if zip_path[:3] == 'gs:':\n",
    "        with fs.open(zip_path) as f:\n",
    "            with zipfile.ZipFile(f) as z:\n",
    "                df = parse_csv(z)\n",
    "    else:\n",
    "        with zipfile.ZipFile(f) as z:\n",
    "            df = parse_csv(z)\n",
    "            \n",
    "\n",
    "    df = (df >> filter(_.primary_mode.isin(['private_auto', 'auto_passenger', 'on_demand_auto', 'public_transit']))\n",
    "     >> select(_.origin_cty_2020, _.primary_mode, _.trip_distance_miles)\n",
    "         )\n",
    "    return df"
   ]
  },
  {
   "cell_type": "code",
   "execution_count": 9,
   "id": "57383e55-dd8e-474c-b354-9c83ca57b34d",
   "metadata": {},
   "outputs": [],
   "source": [
    "download_zones = ['socalexlaoc', 'midcal', 'norcal', 'la', 'oc']"
   ]
  },
  {
   "cell_type": "code",
   "execution_count": 10,
   "id": "f0df73e2-7ebe-431f-b533-6139cc9b79c0",
   "metadata": {},
   "outputs": [],
   "source": [
    "paths = [f'{GCS_PATH}replica_raw/fall2023/replica-mode_split_test-10_28_24-trips_dataset_{zone}.zip' for zone in download_zones]"
   ]
  },
  {
   "cell_type": "code",
   "execution_count": 11,
   "id": "0a19dec0-76c0-4afd-b90d-f402b428e7fe",
   "metadata": {},
   "outputs": [
    {
     "data": {
      "text/plain": [
       "['gs://calitp-analytics-data/data-analyses/sb125/vmt_transit_sketch/replica_raw/fall2023/replica-mode_split_test-10_28_24-trips_dataset_socalexlaoc.zip',\n",
       " 'gs://calitp-analytics-data/data-analyses/sb125/vmt_transit_sketch/replica_raw/fall2023/replica-mode_split_test-10_28_24-trips_dataset_midcal.zip',\n",
       " 'gs://calitp-analytics-data/data-analyses/sb125/vmt_transit_sketch/replica_raw/fall2023/replica-mode_split_test-10_28_24-trips_dataset_norcal.zip',\n",
       " 'gs://calitp-analytics-data/data-analyses/sb125/vmt_transit_sketch/replica_raw/fall2023/replica-mode_split_test-10_28_24-trips_dataset_la.zip',\n",
       " 'gs://calitp-analytics-data/data-analyses/sb125/vmt_transit_sketch/replica_raw/fall2023/replica-mode_split_test-10_28_24-trips_dataset_oc.zip']"
      ]
     },
     "execution_count": 11,
     "metadata": {},
     "output_type": "execute_result"
    }
   ],
   "source": [
    "paths"
   ]
  },
  {
   "cell_type": "code",
   "execution_count": 12,
   "id": "a2c0d3af-68d1-4da6-b104-13b95933ce14",
   "metadata": {},
   "outputs": [
    {
     "name": "stdout",
     "output_type": "stream",
     "text": [
      "gs://calitp-analytics-data/data-analyses/sb125/vmt_transit_sketch/replica_raw/fall2023/replica-mode_split_test-10_28_24-trips_dataset_socalexlaoc.zip\n",
      "gs://calitp-analytics-data/data-analyses/sb125/vmt_transit_sketch/replica_raw/fall2023/replica-mode_split_test-10_28_24-trips_dataset_midcal.zip\n",
      "gs://calitp-analytics-data/data-analyses/sb125/vmt_transit_sketch/replica_raw/fall2023/replica-mode_split_test-10_28_24-trips_dataset_norcal.zip\n",
      "gs://calitp-analytics-data/data-analyses/sb125/vmt_transit_sketch/replica_raw/fall2023/replica-mode_split_test-10_28_24-trips_dataset_la.zip\n",
      "gs://calitp-analytics-data/data-analyses/sb125/vmt_transit_sketch/replica_raw/fall2023/replica-mode_split_test-10_28_24-trips_dataset_oc.zip\n"
     ]
    }
   ],
   "source": [
    "all_regions = pd.DataFrame()\n",
    "for path in paths:\n",
    "    print(path)\n",
    "    all_regions = pd.concat([all_regions, read_group_replica(path)])"
   ]
  },
  {
   "cell_type": "code",
   "execution_count": 13,
   "id": "08e405d7-e4af-4816-90ac-f9efadd89042",
   "metadata": {},
   "outputs": [],
   "source": [
    "# all_regions >> distinct(_.origin_cty_2020) #  all 58 counties check"
   ]
  },
  {
   "cell_type": "code",
   "execution_count": 14,
   "id": "a3233cb5-8e64-4826-87f2-0acb84ec5bd9",
   "metadata": {},
   "outputs": [
    {
     "data": {
      "text/html": [
       "<div>\n",
       "<style scoped>\n",
       "    .dataframe tbody tr th:only-of-type {\n",
       "        vertical-align: middle;\n",
       "    }\n",
       "\n",
       "    .dataframe tbody tr th {\n",
       "        vertical-align: top;\n",
       "    }\n",
       "\n",
       "    .dataframe thead th {\n",
       "        text-align: right;\n",
       "    }\n",
       "</style>\n",
       "<table border=\"1\" class=\"dataframe\">\n",
       "  <thead>\n",
       "    <tr style=\"text-align: right;\">\n",
       "      <th></th>\n",
       "      <th>origin_cty_2020</th>\n",
       "      <th>primary_mode</th>\n",
       "      <th>trip_distance_miles</th>\n",
       "    </tr>\n",
       "  </thead>\n",
       "  <tbody>\n",
       "    <tr>\n",
       "      <th>0</th>\n",
       "      <td>Imperial County, CA</td>\n",
       "      <td>private_auto</td>\n",
       "      <td>170.9</td>\n",
       "    </tr>\n",
       "    <tr>\n",
       "      <th>1</th>\n",
       "      <td>Imperial County, CA</td>\n",
       "      <td>private_auto</td>\n",
       "      <td>163.5</td>\n",
       "    </tr>\n",
       "    <tr>\n",
       "      <th>2</th>\n",
       "      <td>Imperial County, CA</td>\n",
       "      <td>private_auto</td>\n",
       "      <td>165.3</td>\n",
       "    </tr>\n",
       "  </tbody>\n",
       "</table>\n",
       "</div>"
      ],
      "text/plain": [
       "       origin_cty_2020  primary_mode  trip_distance_miles\n",
       "0  Imperial County, CA  private_auto                170.9\n",
       "1  Imperial County, CA  private_auto                163.5\n",
       "2  Imperial County, CA  private_auto                165.3"
      ]
     },
     "execution_count": 14,
     "metadata": {},
     "output_type": "execute_result"
    }
   ],
   "source": [
    "all_regions >> head(3)"
   ]
  },
  {
   "cell_type": "code",
   "execution_count": 15,
   "id": "cc2fd7b8-05fe-41dd-82ab-2b1029b5edcc",
   "metadata": {},
   "outputs": [],
   "source": [
    "f = lambda x: '<1mi' if x < 1 else '1-3mi' if x < 3 else '3-10mi' if x < 10 else '10-50mi' if x < 50 else '50+mi' if x >= 50 else '?mi'"
   ]
  },
  {
   "cell_type": "code",
   "execution_count": 32,
   "id": "71a2e4f3-efb8-4555-ba69-ed04f435dbac",
   "metadata": {},
   "outputs": [],
   "source": [
    "# #  double-check logic\n",
    "\n",
    "# f(200)\n",
    "\n",
    "# f(.9)\n",
    "\n",
    "# f(1)\n",
    "\n",
    "# f(3)\n",
    "\n",
    "# f(10)"
   ]
  },
  {
   "cell_type": "code",
   "execution_count": 21,
   "id": "a17c82bf-2dc1-4730-90fa-49dbf0186f97",
   "metadata": {},
   "outputs": [],
   "source": [
    "all_regions['trip_group'] = all_regions.trip_distance_miles.map(f)"
   ]
  },
  {
   "cell_type": "code",
   "execution_count": 22,
   "id": "3cad8ebb-d2e9-4ef1-8338-43613ece455d",
   "metadata": {},
   "outputs": [],
   "source": [
    "all_regions = all_regions >> select(_.trip_distance_miles, _.trip_group)"
   ]
  },
  {
   "cell_type": "code",
   "execution_count": 23,
   "id": "3b071356-f419-4a2c-a0b1-85cd6baada3c",
   "metadata": {},
   "outputs": [],
   "source": [
    "all_regions.to_parquet('working.parquet')"
   ]
  },
  {
   "cell_type": "code",
   "execution_count": 25,
   "id": "ce0fcb01-c485-4356-89a5-2d03f0cc6ec6",
   "metadata": {},
   "outputs": [],
   "source": [
    "all_regions = pd.read_parquet('working.parquet')"
   ]
  },
  {
   "cell_type": "code",
   "execution_count": 26,
   "id": "25a7de9b-418d-4823-bd6e-be58c9f37e2b",
   "metadata": {},
   "outputs": [],
   "source": [
    "by_group = all_regions >> group_by(_.trip_group) >> summarize(n = _.shape[0], total_vmt = _.trip_distance_miles.sum())"
   ]
  },
  {
   "cell_type": "code",
   "execution_count": 27,
   "id": "876893d1-7df4-4bbc-a764-80c8bb8b49b4",
   "metadata": {},
   "outputs": [],
   "source": [
    "by_group = (by_group >> mutate(avg_trip = _.total_vmt / _.n))"
   ]
  },
  {
   "cell_type": "code",
   "execution_count": 28,
   "id": "0ff560e5-5860-4eed-a1a1-473823747683",
   "metadata": {},
   "outputs": [],
   "source": [
    "by_group['pct_trips'] = by_group.apply(lambda x: x.n / by_group.n.sum(), axis = 1)"
   ]
  },
  {
   "cell_type": "code",
   "execution_count": 29,
   "id": "8b9a0cd3-9584-419e-8c29-17858757c230",
   "metadata": {},
   "outputs": [],
   "source": [
    "by_group['pct_vmt'] = by_group.apply(lambda x: x.total_vmt / by_group.total_vmt.sum(), axis = 1)"
   ]
  },
  {
   "cell_type": "code",
   "execution_count": 30,
   "id": "e4ec333c-0d30-4cb5-8fe5-23f095eec681",
   "metadata": {},
   "outputs": [
    {
     "data": {
      "text/html": [
       "<div>\n",
       "<style scoped>\n",
       "    .dataframe tbody tr th:only-of-type {\n",
       "        vertical-align: middle;\n",
       "    }\n",
       "\n",
       "    .dataframe tbody tr th {\n",
       "        vertical-align: top;\n",
       "    }\n",
       "\n",
       "    .dataframe thead th {\n",
       "        text-align: right;\n",
       "    }\n",
       "</style>\n",
       "<table border=\"1\" class=\"dataframe\">\n",
       "  <thead>\n",
       "    <tr style=\"text-align: right;\">\n",
       "      <th></th>\n",
       "      <th>trip_group</th>\n",
       "      <th>n</th>\n",
       "      <th>total_vmt</th>\n",
       "      <th>avg_trip</th>\n",
       "      <th>pct_trips</th>\n",
       "      <th>pct_vmt</th>\n",
       "    </tr>\n",
       "  </thead>\n",
       "  <tbody>\n",
       "    <tr>\n",
       "      <th>0</th>\n",
       "      <td>1-3mi</td>\n",
       "      <td>21799435</td>\n",
       "      <td>40338742.5</td>\n",
       "      <td>1.850</td>\n",
       "      <td>0.256</td>\n",
       "      <td>0.047</td>\n",
       "    </tr>\n",
       "    <tr>\n",
       "      <th>1</th>\n",
       "      <td>10-50mi</td>\n",
       "      <td>21803532</td>\n",
       "      <td>427804094.8</td>\n",
       "      <td>19.621</td>\n",
       "      <td>0.256</td>\n",
       "      <td>0.501</td>\n",
       "    </tr>\n",
       "    <tr>\n",
       "      <th>2</th>\n",
       "      <td>3-10mi</td>\n",
       "      <td>30381506</td>\n",
       "      <td>176981746.9</td>\n",
       "      <td>5.825</td>\n",
       "      <td>0.357</td>\n",
       "      <td>0.207</td>\n",
       "    </tr>\n",
       "    <tr>\n",
       "      <th>3</th>\n",
       "      <td>50+mi</td>\n",
       "      <td>2013390</td>\n",
       "      <td>203540905.6</td>\n",
       "      <td>101.094</td>\n",
       "      <td>0.024</td>\n",
       "      <td>0.238</td>\n",
       "    </tr>\n",
       "    <tr>\n",
       "      <th>4</th>\n",
       "      <td>&lt;1mi</td>\n",
       "      <td>9175520</td>\n",
       "      <td>5511572.0</td>\n",
       "      <td>0.601</td>\n",
       "      <td>0.108</td>\n",
       "      <td>0.006</td>\n",
       "    </tr>\n",
       "  </tbody>\n",
       "</table>\n",
       "</div>"
      ],
      "text/plain": [
       "  trip_group         n    total_vmt  avg_trip  pct_trips  pct_vmt\n",
       "0      1-3mi  21799435   40338742.5     1.850      0.256    0.047\n",
       "1    10-50mi  21803532  427804094.8    19.621      0.256    0.501\n",
       "2     3-10mi  30381506  176981746.9     5.825      0.357    0.207\n",
       "3      50+mi   2013390  203540905.6   101.094      0.024    0.238\n",
       "4       <1mi   9175520    5511572.0     0.601      0.108    0.006"
      ]
     },
     "execution_count": 30,
     "metadata": {},
     "output_type": "execute_result"
    }
   ],
   "source": [
    "by_group.round(3)"
   ]
  },
  {
   "cell_type": "code",
   "execution_count": 31,
   "id": "a132f237-ccbf-4f4d-a6f4-1e3d29abf896",
   "metadata": {},
   "outputs": [],
   "source": [
    "by_group.round(3).to_csv('vmt_by_distance_group_replica_fall2023_statewide.csv')"
   ]
  }
 ],
 "metadata": {
  "kernelspec": {
   "display_name": "Python 3 (ipykernel)",
   "language": "python",
   "name": "python3"
  },
  "language_info": {
   "codemirror_mode": {
    "name": "ipython",
    "version": 3
   },
   "file_extension": ".py",
   "mimetype": "text/x-python",
   "name": "python",
   "nbconvert_exporter": "python",
   "pygments_lexer": "ipython3",
   "version": "3.9.13"
  },
  "widgets": {
   "application/vnd.jupyter.widget-state+json": {
    "state": {},
    "version_major": 2,
    "version_minor": 0
   }
  }
 },
 "nbformat": 4,
 "nbformat_minor": 5
}
