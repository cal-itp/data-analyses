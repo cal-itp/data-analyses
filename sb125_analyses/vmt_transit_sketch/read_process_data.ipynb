{
 "cells": [
  {
   "cell_type": "code",
   "execution_count": 1,
   "id": "9e8158c2-a7f9-4b3c-a518-037132adf0c3",
   "metadata": {},
   "outputs": [],
   "source": [
    "import pandas as pd\n",
    "import geopandas as gpd\n",
    "from siuba import *\n",
    "import numpy as np"
   ]
  },
  {
   "cell_type": "code",
   "execution_count": 2,
   "id": "81cddca7-bea4-494d-b0cb-02508d52b380",
   "metadata": {},
   "outputs": [],
   "source": [
    "import zipfile"
   ]
  },
  {
   "cell_type": "code",
   "execution_count": 3,
   "id": "37b679d4-f8bd-4450-bf9f-50b68e8570b4",
   "metadata": {},
   "outputs": [],
   "source": [
    "from calitp_data_analysis import get_fs"
   ]
  },
  {
   "cell_type": "code",
   "execution_count": 4,
   "id": "80324d88-ea3a-45a6-9362-933a2395ed31",
   "metadata": {},
   "outputs": [],
   "source": [
    "fs = get_fs()"
   ]
  },
  {
   "cell_type": "code",
   "execution_count": 5,
   "id": "3dcaf650-43fe-4532-9060-442b067ef173",
   "metadata": {
    "tags": []
   },
   "outputs": [],
   "source": [
    "# ! pip install pygris"
   ]
  },
  {
   "cell_type": "code",
   "execution_count": 6,
   "id": "682268e8-78fc-4609-afc5-294f3c650b5e",
   "metadata": {},
   "outputs": [],
   "source": [
    "import _utils\n",
    "# import importlib\n",
    "# importlib.reload(_utils)"
   ]
  },
  {
   "cell_type": "code",
   "execution_count": 7,
   "id": "5aeca438-6285-4cca-b375-ab8aa3849e42",
   "metadata": {},
   "outputs": [],
   "source": [
    "GCS_PATH = 'gs://calitp-analytics-data/data-analyses/sb125/vmt_transit_sketch/'"
   ]
  },
  {
   "cell_type": "markdown",
   "id": "b076a21f-5a53-4b75-b140-0e4947099e42",
   "metadata": {
    "tags": []
   },
   "source": [
    "# Read and group Replica data"
   ]
  },
  {
   "cell_type": "code",
   "execution_count": 8,
   "id": "85a89737-f90d-488f-9310-ca83557e476c",
   "metadata": {
    "tags": []
   },
   "outputs": [],
   "source": [
    "def read_group_replica(zip_path):\n",
    "    '''\n",
    "    zip_path: path to zip file containing a Replica trips export csv    \n",
    "    '''\n",
    "    def parse_csv(zipfile):\n",
    "        csvs = [f for f in z.namelist() if f[-3:] == 'csv']\n",
    "        assert len(csvs) == 1\n",
    "        with z.open(csvs[0]) as f:\n",
    "            df = pd.read_csv(f)\n",
    "        return df\n",
    "    \n",
    "    if zip_path[:3] == 'gs:':\n",
    "        with fs.open(zip_path) as f:\n",
    "            with zipfile.ZipFile(f) as z:\n",
    "                df = parse_csv(z)\n",
    "    else:\n",
    "        with zipfile.ZipFile(f) as z:\n",
    "            df = parse_csv(z)\n",
    "            \n",
    "\n",
    "    df = (df >> filter(_.primary_mode.isin(['private_auto', 'auto_passenger', 'on_demand_auto', 'public_transit']))\n",
    "     >> select(-_.origin_trct_2020, -_.activity_id)\n",
    "         )\n",
    "    df['is_auto'] = df.primary_mode.str.contains('auto')\n",
    "    return df\n",
    "    grouped = (df >> group_by(_.origin_trct_fips_2020, _.is_auto)\n",
    "                  >> summarize(n = _.shape[0], p50_distance = _.trip_distance_miles.quantile(.5),\n",
    "                               p75_distance = _.trip_distance_miles.quantile(.75),\n",
    "                               p90_distance = _.trip_distance_miles.quantile(.9),\n",
    "                               total_miles = _.trip_distance_miles.sum(),                               \n",
    "                              )\n",
    "        )\n",
    "\n",
    "    return grouped"
   ]
  },
  {
   "cell_type": "code",
   "execution_count": 9,
   "id": "f0df73e2-7ebe-431f-b533-6139cc9b79c0",
   "metadata": {},
   "outputs": [
    {
     "data": {
      "text/plain": [
       "'gs://calitp-analytics-data/data-analyses/sb125/vmt_transit_sketch/replica_raw/corridors/replica-fresno-trips_dataset.zip'"
      ]
     },
     "execution_count": 9,
     "metadata": {},
     "output_type": "execute_result"
    }
   ],
   "source": [
    "f'{GCS_PATH}replica_raw/corridors/replica-fresno-trips_dataset.zip'"
   ]
  },
  {
   "cell_type": "code",
   "execution_count": 10,
   "id": "c506f859-1ffc-4e36-ba03-1c4393ba4d9e",
   "metadata": {},
   "outputs": [],
   "source": [
    "fresno_raw = read_group_replica(f'{GCS_PATH}replica_raw/corridors/replica-fresno-trips_dataset.zip')"
   ]
  },
  {
   "cell_type": "code",
   "execution_count": 11,
   "id": "51c4c2e4-91d8-47ef-b2a2-ca30c6e2b84f",
   "metadata": {},
   "outputs": [
    {
     "data": {
      "text/html": [
       "<div>\n",
       "<style scoped>\n",
       "    .dataframe tbody tr th:only-of-type {\n",
       "        vertical-align: middle;\n",
       "    }\n",
       "\n",
       "    .dataframe tbody tr th {\n",
       "        vertical-align: top;\n",
       "    }\n",
       "\n",
       "    .dataframe thead th {\n",
       "        text-align: right;\n",
       "    }\n",
       "</style>\n",
       "<table border=\"1\" class=\"dataframe\">\n",
       "  <thead>\n",
       "    <tr style=\"text-align: right;\">\n",
       "      <th></th>\n",
       "      <th>trip_duration_minutes</th>\n",
       "      <th>trip_distance_miles</th>\n",
       "      <th>origin_trct_fips_2020</th>\n",
       "    </tr>\n",
       "  </thead>\n",
       "  <tbody>\n",
       "    <tr>\n",
       "      <th>count</th>\n",
       "      <td>156196.000000</td>\n",
       "      <td>156196.000000</td>\n",
       "      <td>1.561960e+05</td>\n",
       "    </tr>\n",
       "    <tr>\n",
       "      <th>mean</th>\n",
       "      <td>8.027331</td>\n",
       "      <td>2.489494</td>\n",
       "      <td>6.019003e+09</td>\n",
       "    </tr>\n",
       "    <tr>\n",
       "      <th>std</th>\n",
       "      <td>6.041116</td>\n",
       "      <td>2.305581</td>\n",
       "      <td>1.731910e+03</td>\n",
       "    </tr>\n",
       "    <tr>\n",
       "      <th>min</th>\n",
       "      <td>0.000000</td>\n",
       "      <td>0.100000</td>\n",
       "      <td>6.019000e+09</td>\n",
       "    </tr>\n",
       "    <tr>\n",
       "      <th>25%</th>\n",
       "      <td>3.000000</td>\n",
       "      <td>0.800000</td>\n",
       "      <td>6.019002e+09</td>\n",
       "    </tr>\n",
       "    <tr>\n",
       "      <th>50%</th>\n",
       "      <td>7.000000</td>\n",
       "      <td>1.600000</td>\n",
       "      <td>6.019004e+09</td>\n",
       "    </tr>\n",
       "    <tr>\n",
       "      <th>75%</th>\n",
       "      <td>11.000000</td>\n",
       "      <td>3.500000</td>\n",
       "      <td>6.019005e+09</td>\n",
       "    </tr>\n",
       "    <tr>\n",
       "      <th>max</th>\n",
       "      <td>93.000000</td>\n",
       "      <td>17.800000</td>\n",
       "      <td>6.019005e+09</td>\n",
       "    </tr>\n",
       "  </tbody>\n",
       "</table>\n",
       "</div>"
      ],
      "text/plain": [
       "       trip_duration_minutes  trip_distance_miles  origin_trct_fips_2020\n",
       "count          156196.000000        156196.000000           1.561960e+05\n",
       "mean                8.027331             2.489494           6.019003e+09\n",
       "std                 6.041116             2.305581           1.731910e+03\n",
       "min                 0.000000             0.100000           6.019000e+09\n",
       "25%                 3.000000             0.800000           6.019002e+09\n",
       "50%                 7.000000             1.600000           6.019004e+09\n",
       "75%                11.000000             3.500000           6.019005e+09\n",
       "max                93.000000            17.800000           6.019005e+09"
      ]
     },
     "execution_count": 11,
     "metadata": {},
     "output_type": "execute_result"
    }
   ],
   "source": [
    "fresno_raw.describe()"
   ]
  },
  {
   "cell_type": "code",
   "execution_count": 12,
   "id": "7122b15b-574a-4cf1-84ab-0af08f703e57",
   "metadata": {},
   "outputs": [],
   "source": [
    "# (wilshire_raw >> filter(_.is_auto)).trip_distance_miles.hist()"
   ]
  },
  {
   "cell_type": "code",
   "execution_count": 13,
   "id": "9423782c-0b5a-474a-bf5a-99ae2e6812b3",
   "metadata": {},
   "outputs": [],
   "source": [
    "# (wilshire_raw >> filter(_.is_auto, _.trip_distance_miles < 4)).trip_distance_miles.hist()"
   ]
  },
  {
   "cell_type": "markdown",
   "id": "412218ad-4f25-49de-92df-a00cc6becc70",
   "metadata": {},
   "source": [
    "## grouping"
   ]
  },
  {
   "cell_type": "code",
   "execution_count": 14,
   "id": "dae2c9bb-5121-4966-85ed-111bd525c924",
   "metadata": {},
   "outputs": [],
   "source": [
    "all_regions = ['central_a', 'central_b', 'north', 'la_north',\n",
    "              'la_south', 'sandiego', 'socal_a', 'socal_b']"
   ]
  },
  {
   "cell_type": "code",
   "execution_count": 15,
   "id": "15544ecf-1140-426f-be93-5ce53e2b5f7e",
   "metadata": {},
   "outputs": [],
   "source": [
    "# grouped = pd.DataFrame()\n",
    "# for region in ['eureka']:\n",
    "#     print(region)\n",
    "#     #  note replica filename includes date of download...\n",
    "#     df = read_group_replica(f'replica_raw/corridors/replica-{region}-trips_dataset.zip')\n",
    "#     grouped = pd.concat([grouped, df])"
   ]
  },
  {
   "cell_type": "code",
   "execution_count": 16,
   "id": "1878b238-eec9-450c-bf3e-359016485495",
   "metadata": {},
   "outputs": [],
   "source": [
    "# grouped.to_parquet('intermediate/eureka_grouped.parquet')"
   ]
  },
  {
   "cell_type": "code",
   "execution_count": 17,
   "id": "9fb929ae-0c66-4dfb-9a0e-604bfedef078",
   "metadata": {
    "tags": []
   },
   "outputs": [],
   "source": [
    "# grouped = pd.DataFrame()\n",
    "# for region in all_regions:\n",
    "#     print(region)\n",
    "#     df = read_group_replica(f'replica_raw/replica-{region}-trips_dataset.zip')\n",
    "#     grouped = pd.concat([grouped, df])\n",
    "\n",
    "# grouped.to_parquet('intermediate/replica_grouped.parquet')"
   ]
  },
  {
   "cell_type": "markdown",
   "id": "6e86832b-46f0-4977-96c2-7ca458dcfd89",
   "metadata": {},
   "source": [
    "# Read back in grouped data\n",
    "\n",
    "* number of trips, median distance, and total miles travelled by auto yes/no and Census tract\n",
    "* TODO non-manual regions :)"
   ]
  },
  {
   "cell_type": "code",
   "execution_count": 18,
   "id": "240ddd8f-6a36-44e1-a1c0-32e6f50c3cac",
   "metadata": {},
   "outputs": [],
   "source": [
    "# grouped = pd.DataFrame()\n",
    "# for region in all_regions:\n",
    "#     grouped = pd.concat([grouped, pd.read_parquet(f'{GCS_PATH}intermediate/replica-{region}-trips_dataset.parquet')])"
   ]
  },
  {
   "cell_type": "code",
   "execution_count": 19,
   "id": "0de2a7b3-f1f1-43df-8e7e-2cf4b416378c",
   "metadata": {},
   "outputs": [],
   "source": [
    "# grouped"
   ]
  },
  {
   "cell_type": "code",
   "execution_count": 20,
   "id": "f1867025-ad72-4ff5-931c-30982a65f0af",
   "metadata": {},
   "outputs": [],
   "source": [
    "from calitp_data_analysis import utils"
   ]
  },
  {
   "cell_type": "code",
   "execution_count": 21,
   "id": "79dafb24-bebd-4ae6-91d4-8d8e80983c76",
   "metadata": {},
   "outputs": [],
   "source": [
    "# utils.geoparquet_gcs_export?"
   ]
  },
  {
   "cell_type": "code",
   "execution_count": 22,
   "id": "56e5f48c-649f-4e8f-8ef2-49ce8521cf2c",
   "metadata": {},
   "outputs": [],
   "source": [
    "# utils.geoparquet_gcs_export(grouped, f'{GCS_PATH}intermediate/', 'replica_grouped')"
   ]
  },
  {
   "cell_type": "code",
   "execution_count": 23,
   "id": "7596b001-2c1c-488f-b089-c375c0ddff4f",
   "metadata": {},
   "outputs": [],
   "source": [
    "replica_grouped = pd.read_parquet(f'{GCS_PATH}intermediate/replica_grouped.parquet')"
   ]
  },
  {
   "cell_type": "code",
   "execution_count": 24,
   "id": "23b9ae5b-bd02-4978-b7d1-3e4b49de53b5",
   "metadata": {},
   "outputs": [],
   "source": [
    "tracts_feeds = gpd.read_parquet(f'{GCS_PATH}intermediate/feeds_tract_geo.parquet')"
   ]
  },
  {
   "cell_type": "code",
   "execution_count": 25,
   "id": "73088513-9710-4c9a-a205-d531c3807345",
   "metadata": {},
   "outputs": [],
   "source": [
    "tracts_feeds.GEOID = tracts_feeds.GEOID.astype('int64')"
   ]
  },
  {
   "cell_type": "code",
   "execution_count": 26,
   "id": "61ce4f74-45e9-4c85-ad34-d2ac9c5cfc32",
   "metadata": {},
   "outputs": [],
   "source": [
    "tracts_feeds = tracts_feeds >> distinct(_.GEOID, _.geometry)"
   ]
  },
  {
   "cell_type": "code",
   "execution_count": 27,
   "id": "3f9512da-00e9-4768-a79c-8570c4a0bec2",
   "metadata": {},
   "outputs": [],
   "source": [
    "# replica_grouped = pd.read_parquet(f'intermediate/wilshire_grouped.parquet')"
   ]
  },
  {
   "cell_type": "code",
   "execution_count": 28,
   "id": "240b6b96-ea68-49f2-8509-883af8f0c36b",
   "metadata": {},
   "outputs": [
    {
     "data": {
      "text/plain": [
       "11288.75"
      ]
     },
     "execution_count": 28,
     "metadata": {},
     "output_type": "execute_result"
    }
   ],
   "source": [
    "18062 / 1.6"
   ]
  },
  {
   "cell_type": "code",
   "execution_count": 29,
   "id": "fa0e75af-11d9-4051-8b0f-3a8d95c166be",
   "metadata": {},
   "outputs": [],
   "source": [
    "# (replica_grouped >> filter(_.is_auto))"
   ]
  },
  {
   "cell_type": "code",
   "execution_count": 30,
   "id": "06f007da-ad8d-4801-8595-85c5d44fe921",
   "metadata": {},
   "outputs": [],
   "source": [
    "def process_grouped_data(replica_df, tracts_feeds_df):\n",
    "    '''\n",
    "    replica_df: df from read_group_replica\n",
    "    tracts_feeds_df: gdf from stops_by_tract_agency\n",
    "    '''\n",
    "    auto_trip_counts = (replica_df >> filter(_.is_auto)\n",
    "                        >> group_by(_.origin_trct_fips_2020)\n",
    "                        >> summarize(auto_trips = _.n.sum())\n",
    "                       )\n",
    "    replica_df.is_auto = replica_df.is_auto.map(lambda x: 'yes' if x else 'no')\n",
    "    \n",
    "    df2 = replica_df >> spread('is_auto', 'p50_distance') >> select(-_.n, -_.total_miles)\n",
    "    df2 = df2.rename(columns={'no': 'p50_mi_transit', 'yes': 'p50_mi_auto'})\n",
    "    df3 = replica_df >> spread('is_auto', 'total_miles') >> select(-_.n, -_.p50_distance)\n",
    "    df3 = df3.rename(columns={'no': 'total_mi_transit', 'yes': 'total_mi_auto'})\n",
    "    df2 = df2 >> inner_join(_, df3, on = 'origin_trct_fips_2020')\n",
    "    df2 = df2 >> inner_join(_, auto_trip_counts, on = 'origin_trct_fips_2020')\n",
    "    \n",
    "    if 'p50_mi_transit' not in df2.columns:\n",
    "        df2['p50_mi_transit'] = np.nan\n",
    "        df2['total_mi_transit'] = np.nan\n",
    "    df2 = (df2 >> group_by(_.origin_trct_fips_2020)\n",
    "           >> summarize(p50_mi_transit = _.p50_mi_transit.max(), p50_mi_auto = _.p50_mi_auto.max(),\n",
    "                        total_mi_transit = _.total_mi_transit.max(),\n",
    "                        total_mi_auto = _.total_mi_auto.max(),\n",
    "                        total_trips_auto = _.auto_trips.sum()\n",
    "                       )\n",
    "          )\n",
    "    \n",
    "    df2['p50_transit_longer'] = df2['p50_mi_transit'] > df2['p50_mi_auto']\n",
    "    # df2['total_transit_higher'] = df2['total_mi_transit'] > df2['total_mi_auto'] #  useless\n",
    "    tracts_with_stops = tracts_feeds_df.GEOID\n",
    "    df2['no_transit_replica'] = df2.total_mi_transit.isna()\n",
    "    df2['no_transit'] = ~df2.origin_trct_fips_2020.isin(tracts_with_stops)\n",
    "    df2['total_mi'] = df2.total_mi_transit + df2.total_mi_auto\n",
    "    no_transit = df2 >> group_by(_.no_transit) >> summarize(total_mi_auto = _.total_mi_auto.sum())\n",
    "    total_reduction = df2.total_mi_auto.sum() * .25 #  CARB 25% VMT Decrease\n",
    "    \n",
    "    # rescaling after no transit tracts\n",
    "    actual_reduction = total_reduction / no_transit.iloc[0, 1]\n",
    "    print(actual_reduction)\n",
    "    df2.p50_mi_transit = df2.p50_mi_transit.fillna(df2.p50_mi_auto)\n",
    "    df2['new_transit_mi'] = df2.total_mi_auto * actual_reduction\n",
    "    df2['projected_new_transit_trips'] = df2.new_transit_mi // df2.p50_mi_transit\n",
    "    \n",
    "    return df2"
   ]
  },
  {
   "cell_type": "code",
   "execution_count": 31,
   "id": "d661657b-cac7-4e9a-806d-48579c0516f9",
   "metadata": {
    "tags": []
   },
   "outputs": [
    {
     "name": "stdout",
     "output_type": "stream",
     "text": [
      "0.2778337212327877\n"
     ]
    }
   ],
   "source": [
    "processed_df = process_grouped_data(replica_grouped, tracts_feeds)"
   ]
  },
  {
   "cell_type": "code",
   "execution_count": 32,
   "id": "50f04f86-6f13-4654-952e-58dc07a23faa",
   "metadata": {},
   "outputs": [
    {
     "data": {
      "text/html": [
       "<div>\n",
       "<style scoped>\n",
       "    .dataframe tbody tr th:only-of-type {\n",
       "        vertical-align: middle;\n",
       "    }\n",
       "\n",
       "    .dataframe tbody tr th {\n",
       "        vertical-align: top;\n",
       "    }\n",
       "\n",
       "    .dataframe thead th {\n",
       "        text-align: right;\n",
       "    }\n",
       "</style>\n",
       "<table border=\"1\" class=\"dataframe\">\n",
       "  <thead>\n",
       "    <tr style=\"text-align: right;\">\n",
       "      <th></th>\n",
       "      <th>origin_trct_fips_2020</th>\n",
       "      <th>p50_mi_transit</th>\n",
       "      <th>p50_mi_auto</th>\n",
       "      <th>total_mi_transit</th>\n",
       "      <th>total_mi_auto</th>\n",
       "      <th>total_trips_auto</th>\n",
       "      <th>p50_transit_longer</th>\n",
       "      <th>no_transit_replica</th>\n",
       "      <th>no_transit</th>\n",
       "      <th>total_mi</th>\n",
       "      <th>new_transit_mi</th>\n",
       "      <th>projected_new_transit_trips</th>\n",
       "    </tr>\n",
       "  </thead>\n",
       "  <tbody>\n",
       "    <tr>\n",
       "      <th>0</th>\n",
       "      <td>6001400100</td>\n",
       "      <td>4.2</td>\n",
       "      <td>6.9</td>\n",
       "      <td>5185.3</td>\n",
       "      <td>165410.8</td>\n",
       "      <td>53636</td>\n",
       "      <td>False</td>\n",
       "      <td>False</td>\n",
       "      <td>False</td>\n",
       "      <td>170596.1</td>\n",
       "      <td>45956.698096</td>\n",
       "      <td>10942.0</td>\n",
       "    </tr>\n",
       "    <tr>\n",
       "      <th>1</th>\n",
       "      <td>6001400200</td>\n",
       "      <td>4.1</td>\n",
       "      <td>3.4</td>\n",
       "      <td>3638.1</td>\n",
       "      <td>58763.4</td>\n",
       "      <td>28600</td>\n",
       "      <td>True</td>\n",
       "      <td>False</td>\n",
       "      <td>False</td>\n",
       "      <td>62401.5</td>\n",
       "      <td>16326.454094</td>\n",
       "      <td>3982.0</td>\n",
       "    </tr>\n",
       "    <tr>\n",
       "      <th>2</th>\n",
       "      <td>6001400300</td>\n",
       "      <td>4.7</td>\n",
       "      <td>3.7</td>\n",
       "      <td>6130.7</td>\n",
       "      <td>122736.5</td>\n",
       "      <td>57740</td>\n",
       "      <td>True</td>\n",
       "      <td>False</td>\n",
       "      <td>False</td>\n",
       "      <td>128867.2</td>\n",
       "      <td>34100.338526</td>\n",
       "      <td>7255.0</td>\n",
       "    </tr>\n",
       "  </tbody>\n",
       "</table>\n",
       "</div>"
      ],
      "text/plain": [
       "   origin_trct_fips_2020  p50_mi_transit  p50_mi_auto  total_mi_transit  \\\n",
       "0             6001400100             4.2          6.9            5185.3   \n",
       "1             6001400200             4.1          3.4            3638.1   \n",
       "2             6001400300             4.7          3.7            6130.7   \n",
       "\n",
       "   total_mi_auto  total_trips_auto  p50_transit_longer  no_transit_replica  \\\n",
       "0       165410.8             53636               False               False   \n",
       "1        58763.4             28600                True               False   \n",
       "2       122736.5             57740                True               False   \n",
       "\n",
       "   no_transit  total_mi  new_transit_mi  projected_new_transit_trips  \n",
       "0       False  170596.1    45956.698096                      10942.0  \n",
       "1       False   62401.5    16326.454094                       3982.0  \n",
       "2       False  128867.2    34100.338526                       7255.0  "
      ]
     },
     "execution_count": 32,
     "metadata": {},
     "output_type": "execute_result"
    }
   ],
   "source": [
    "processed_df >> head(3)"
   ]
  },
  {
   "cell_type": "code",
   "execution_count": 33,
   "id": "8169ca83-e540-48f4-af93-076a535f00c6",
   "metadata": {},
   "outputs": [
    {
     "data": {
      "text/html": [
       "<div>\n",
       "<style scoped>\n",
       "    .dataframe tbody tr th:only-of-type {\n",
       "        vertical-align: middle;\n",
       "    }\n",
       "\n",
       "    .dataframe tbody tr th {\n",
       "        vertical-align: top;\n",
       "    }\n",
       "\n",
       "    .dataframe thead th {\n",
       "        text-align: right;\n",
       "    }\n",
       "</style>\n",
       "<table border=\"1\" class=\"dataframe\">\n",
       "  <thead>\n",
       "    <tr style=\"text-align: right;\">\n",
       "      <th></th>\n",
       "      <th>no_transit</th>\n",
       "      <th>total_mi_auto</th>\n",
       "    </tr>\n",
       "  </thead>\n",
       "  <tbody>\n",
       "    <tr>\n",
       "      <th>0</th>\n",
       "      <td>False</td>\n",
       "      <td>1.162508e+09</td>\n",
       "    </tr>\n",
       "    <tr>\n",
       "      <th>1</th>\n",
       "      <td>True</td>\n",
       "      <td>1.294277e+08</td>\n",
       "    </tr>\n",
       "  </tbody>\n",
       "</table>\n",
       "</div>"
      ],
      "text/plain": [
       "   no_transit  total_mi_auto\n",
       "0       False   1.162508e+09\n",
       "1        True   1.294277e+08"
      ]
     },
     "execution_count": 33,
     "metadata": {},
     "output_type": "execute_result"
    }
   ],
   "source": [
    "no_transit = processed_df >> group_by(_.no_transit) >> summarize(total_mi_auto = _.total_mi_auto.sum())\n",
    "no_transit"
   ]
  },
  {
   "cell_type": "code",
   "execution_count": 34,
   "id": "c7175031-a66c-4f90-8dca-193198b9d932",
   "metadata": {},
   "outputs": [],
   "source": [
    "# no_transit_pct = no_transit.iloc[1, 1] / no_transit.iloc[0, 1]\n",
    "# f'{round(no_transit_pct*100, 0)} percent of VMT in tracts with no transit per GTFS Warehouse stops'"
   ]
  },
  {
   "cell_type": "code",
   "execution_count": 35,
   "id": "6476da44-36ac-4604-89d5-76966eb9411d",
   "metadata": {},
   "outputs": [
    {
     "data": {
      "text/plain": [
       "True     6571\n",
       "False    2534\n",
       "Name: p50_transit_longer, dtype: int64"
      ]
     },
     "execution_count": 35,
     "metadata": {},
     "output_type": "execute_result"
    }
   ],
   "source": [
    "processed_df.p50_transit_longer.value_counts()"
   ]
  },
  {
   "cell_type": "code",
   "execution_count": 36,
   "id": "70bdaf9e-397b-46d4-bc0a-a73722cf8591",
   "metadata": {},
   "outputs": [
    {
     "name": "stdout",
     "output_type": "stream",
     "text": [
      "Using FIPS code '06' for input 'CA'\n"
     ]
    }
   ],
   "source": [
    "tract_geo = _utils.get_tract_geoms()"
   ]
  },
  {
   "cell_type": "code",
   "execution_count": 37,
   "id": "c10b8a4f-b3de-4494-81b7-942c2b230c30",
   "metadata": {},
   "outputs": [],
   "source": [
    "ca_uzas = gpd.read_parquet(f'{GCS_PATH}intermediate/ca_uza.parquet')"
   ]
  },
  {
   "cell_type": "code",
   "execution_count": 59,
   "id": "8d2f3dec-892d-4ffc-85fb-8e8866a51f42",
   "metadata": {},
   "outputs": [],
   "source": [
    "# census_pop = gpd.read_file(f'./census_ntd/DECENNIALPL2020.P1_2024-02-01T163251.zip')\n",
    "\n",
    "# census_cleaned = census_pop.iloc[2:,:][['GEO_ID', 'P1_001N']]\n",
    "\n",
    "# census_cleaned.to_parquet(f'{GCS_PATH}census_ntd/DECENNIALPL2020.parquet')"
   ]
  },
  {
   "cell_type": "code",
   "execution_count": 60,
   "id": "d7b17b29-29b2-40f3-9038-c3b0b75f39f8",
   "metadata": {},
   "outputs": [],
   "source": [
    "census_cleaned = pd.read_parquet(f'{GCS_PATH}census_ntd/DECENNIALPL2020.parquet')"
   ]
  },
  {
   "cell_type": "code",
   "execution_count": 61,
   "id": "8995132b-5eba-48e8-bfdb-585f1ff1e9d8",
   "metadata": {},
   "outputs": [],
   "source": [
    "def attach_tracts_pop(processed_df, tract_geo, ca_uzas, census_cleaned):\n",
    "    \n",
    "    tract_geo.GEOID = tract_geo.GEOID.astype('int64')\n",
    "    gdf = (tract_geo >> inner_join(_, processed_df, on = {'GEOID': 'origin_trct_fips_2020'})\n",
    "                     >> select(-_.origin_trct_fips_2020))\n",
    "    uza_joined = gpd.sjoin(gdf, ca_uzas, how = 'left')\n",
    "    \n",
    "    tract_pop = census_cleaned\n",
    "    tract_pop.GEO_ID = tract_pop.GEO_ID.map(lambda x: x.split('US')[1])\n",
    "    tract_pop.GEO_ID = tract_pop.GEO_ID.astype('int64')\n",
    "    tract_pop = tract_pop >> select(_.total_pop == _.P1_001N, _.GEOID == _.GEO_ID)\n",
    "    uza_joined = uza_joined >> inner_join(_, tract_pop, on = 'GEOID')\n",
    "    uza_joined.total_pop = uza_joined.total_pop.astype('int64')\n",
    "    uza_joined['new_trips_per_capita'] = uza_joined.projected_new_transit_trips / uza_joined.total_pop\n",
    "    \n",
    "    return uza_joined"
   ]
  },
  {
   "cell_type": "code",
   "execution_count": 63,
   "id": "81f381a4-bb80-4fb7-97fa-853111914712",
   "metadata": {},
   "outputs": [],
   "source": [
    "uza_joined = attach_tracts_pop(processed_df, tract_geo, ca_uzas, census_cleaned)"
   ]
  },
  {
   "cell_type": "code",
   "execution_count": null,
   "id": "e0740b97-48ce-4543-a560-9936c559e4df",
   "metadata": {
    "tags": []
   },
   "outputs": [],
   "source": [
    "# for region in ['sanpablo', 'eureka', 'fresno', 'wilshire']:\n",
    "#     replica_grouped = pd.read_parquet(f'intermediate/{region}_grouped.parquet')\n",
    "#     processed_df = process_grouped_data(replica_grouped, tracts_feeds)\n",
    "#     uza_joined = attach_tracts_pop(processed_df)\n",
    "#     display(uza_joined >> head(3))\n",
    "#     uza_joined.to_parquet(f'outputs/{region}_trips_with_uza.parquet')"
   ]
  },
  {
   "cell_type": "code",
   "execution_count": null,
   "id": "666ebaa0-7d29-4f56-a3fd-5ad7391b15c8",
   "metadata": {},
   "outputs": [],
   "source": [
    "# uza_joined = uza_joined >> filter(_.P1_001N != 0) # remove tracts where nobody lives"
   ]
  },
  {
   "cell_type": "code",
   "execution_count": 68,
   "id": "6ed72b61-2c14-4eb2-a188-00384f52082a",
   "metadata": {},
   "outputs": [],
   "source": [
    "uza_joined = (uza_joined\n",
    "              >> select(-_.index_right)\n",
    "              )"
   ]
  },
  {
   "cell_type": "code",
   "execution_count": 71,
   "id": "029334e4-be41-4f93-b95d-67687bd2d70e",
   "metadata": {},
   "outputs": [],
   "source": [
    "uza_joined['vmt_quantile'] = pd.qcut(uza_joined.total_mi_auto, 4, labels = ['p25', 'p50', 'p75', 'p100'])"
   ]
  },
  {
   "cell_type": "code",
   "execution_count": 72,
   "id": "8f1b132b-8f81-4923-9efe-92f3162ee64c",
   "metadata": {},
   "outputs": [],
   "source": [
    "!mkdir export"
   ]
  },
  {
   "cell_type": "code",
   "execution_count": 75,
   "id": "ec2cc1b4-002b-498a-b1f0-055f5252fb70",
   "metadata": {},
   "outputs": [],
   "source": [
    "uza_joined.vmt_quantile = uza_joined.vmt_quantile.astype(str)"
   ]
  },
  {
   "cell_type": "code",
   "execution_count": 79,
   "id": "354a6bea-fbc5-49d7-b531-2597f240510e",
   "metadata": {},
   "outputs": [],
   "source": [
    "utils.geoparquet_gcs_export(uza_joined, f'{GCS_PATH}outputs/', 'new_trips_with_uza')"
   ]
  },
  {
   "cell_type": "code",
   "execution_count": 77,
   "id": "30983d03-5c50-4480-85db-ed6666e34bd8",
   "metadata": {},
   "outputs": [
    {
     "name": "stderr",
     "output_type": "stream",
     "text": [
      "/tmp/ipykernel_532/1657757500.py:1: UserWarning: Column names longer than 10 characters will be truncated when saved to ESRI Shapefile.\n",
      "  uza_joined.to_file('./export/vmt_with_quantiles.shp')\n"
     ]
    }
   ],
   "source": [
    "uza_joined.to_file('./export/vmt_with_quantiles.shp')"
   ]
  }
 ],
 "metadata": {
  "kernelspec": {
   "display_name": "Python 3 (ipykernel)",
   "language": "python",
   "name": "python3"
  },
  "language_info": {
   "codemirror_mode": {
    "name": "ipython",
    "version": 3
   },
   "file_extension": ".py",
   "mimetype": "text/x-python",
   "name": "python",
   "nbconvert_exporter": "python",
   "pygments_lexer": "ipython3",
   "version": "3.9.13"
  },
  "widgets": {
   "application/vnd.jupyter.widget-state+json": {
    "state": {},
    "version_major": 2,
    "version_minor": 0
   }
  }
 },
 "nbformat": 4,
 "nbformat_minor": 5
}
