{
 "cells": [
  {
   "cell_type": "code",
   "execution_count": 1,
   "id": "9e8158c2-a7f9-4b3c-a518-037132adf0c3",
   "metadata": {},
   "outputs": [],
   "source": [
    "import pandas as pd\n",
    "import geopandas as gpd\n",
    "from siuba import *"
   ]
  },
  {
   "cell_type": "code",
   "execution_count": 2,
   "id": "81cddca7-bea4-494d-b0cb-02508d52b380",
   "metadata": {},
   "outputs": [],
   "source": [
    "import zipfile"
   ]
  },
  {
   "cell_type": "markdown",
   "id": "b076a21f-5a53-4b75-b140-0e4947099e42",
   "metadata": {
    "tags": []
   },
   "source": [
    "# Read and group Replica data"
   ]
  },
  {
   "cell_type": "code",
   "execution_count": 3,
   "id": "85a89737-f90d-488f-9310-ca83557e476c",
   "metadata": {},
   "outputs": [],
   "source": [
    "def read_group_replica(zip_path):\n",
    "    '''\n",
    "    zip_path: path to zip file containing a Replica trips export\n",
    "    '''\n",
    "    replica_filename = 'replica-mode_split_test-02_01_24-trips_dataset.csv'\n",
    "    with zipfile.ZipFile(zip_path) as z:\n",
    "        with z.open(replica_filename) as f:\n",
    "            df = pd.read_csv(f)\n",
    "    df = (df >> filter(_.primary_mode.isin(['private_auto', 'auto_passenger', 'on_demand_auto', 'public_transit']))\n",
    "     >> select(-_.origin_trct_2020, -_.activity_id)\n",
    "         )\n",
    "    df['is_auto'] = df.primary_mode.str.contains('auto')\n",
    "    grouped = (df >> group_by(_.origin_trct_fips_2020, _.is_auto)\n",
    "                  >> summarize(n = _.shape[0], p50_distance = _.trip_distance_miles.quantile(.5),\n",
    "                               total_miles = _.trip_distance_miles.sum())\n",
    "        )\n",
    "    parquet_path = f'./intermediate/{zip_path.split(\".zip\")[0]}.parquet'\n",
    "    grouped.to_parquet(parquet_path)\n",
    "    print(f'grouped data -> {parquet_path}')\n",
    "    return grouped"
   ]
  },
  {
   "cell_type": "code",
   "execution_count": 13,
   "id": "6c80cc92-a452-4d92-bf2f-d1f40a83442d",
   "metadata": {},
   "outputs": [],
   "source": [
    "# zip_path = 'replica-la_north-trips_dataset.zip'\n",
    "\n",
    "# replica_filename = 'replica-mode_split_test-02_01_24-trips_dataset.csv'\n",
    "# with zipfile.ZipFile(zip_path) as z:\n",
    "#     with z.open(replica_filename) as f:\n",
    "#         df = pd.read_csv(f)"
   ]
  },
  {
   "cell_type": "code",
   "execution_count": null,
   "id": "0b50f321-feee-4789-8f17-eee4f4a59f3f",
   "metadata": {},
   "outputs": [],
   "source": [
    "df >> head(10)"
   ]
  },
  {
   "cell_type": "code",
   "execution_count": 40,
   "id": "dae2c9bb-5121-4966-85ed-111bd525c924",
   "metadata": {},
   "outputs": [],
   "source": [
    "all_regions = ['central_a', 'central_b', 'north', 'la_north',\n",
    "              'la_south', 'sandiego', 'socal_a', 'socal_b']"
   ]
  },
  {
   "cell_type": "code",
   "execution_count": 4,
   "id": "69713ea3-67c5-4fe0-848a-174b65de1348",
   "metadata": {},
   "outputs": [],
   "source": [
    "remaining = ['central_b', 'north',\n",
    "            'la_south']\n",
    "#  TODO redo central_a\n",
    "remaining = ['central_a']"
   ]
  },
  {
   "cell_type": "code",
   "execution_count": 5,
   "id": "9fb929ae-0c66-4dfb-9a0e-604bfedef078",
   "metadata": {},
   "outputs": [
    {
     "name": "stdout",
     "output_type": "stream",
     "text": [
      "replica-central_a-trips_dataset.zip\n"
     ]
    },
    {
     "name": "stderr",
     "output_type": "stream",
     "text": [
      "/tmp/ipykernel_506/3740676149.py:8: DtypeWarning: Columns (6,7,8) have mixed types. Specify dtype option on import or set low_memory=False.\n",
      "  df = pd.read_csv(f)\n"
     ]
    },
    {
     "name": "stdout",
     "output_type": "stream",
     "text": [
      "grouped data -> ./intermediate/replica-central_a-trips_dataset.parquet\n"
     ]
    }
   ],
   "source": [
    "for region in remaining:\n",
    "    print(f'replica-{region}-trips_dataset.zip')\n",
    "    read_group_replica(f'replica-{region}-trips_dataset.zip')"
   ]
  },
  {
   "cell_type": "markdown",
   "id": "6e86832b-46f0-4977-96c2-7ca458dcfd89",
   "metadata": {},
   "source": [
    "# Read back in grouped data\n",
    "\n",
    "* number of trips, median distance, and total miles travelled by auto yes/no and Census tract"
   ]
  },
  {
   "cell_type": "code",
   "execution_count": null,
   "id": "2e0d25de-4d96-4f0e-81ea-53ad1e4cabe4",
   "metadata": {},
   "outputs": [],
   "source": [
    "grouped = pd.read_parquet('intermediate/replica-la_north-trips_dataset.parquet')"
   ]
  },
  {
   "cell_type": "code",
   "execution_count": 56,
   "id": "240ddd8f-6a36-44e1-a1c0-32e6f50c3cac",
   "metadata": {},
   "outputs": [],
   "source": [
    "grouped = pd.DataFrame()\n",
    "for region in all_regions:\n",
    "    grouped = pd.concat([grouped, pd.read_parquet(f'intermediate/replica-{region}-trips_dataset.parquet')])"
   ]
  },
  {
   "cell_type": "code",
   "execution_count": 57,
   "id": "06f007da-ad8d-4801-8595-85c5d44fe921",
   "metadata": {},
   "outputs": [],
   "source": [
    "def process_grouped_data(df):\n",
    "    '''\n",
    "    parquet_path: path to parquet exported via read_group_replica\n",
    "    '''\n",
    "    df.is_auto = df.is_auto.map(lambda x: 'yes' if x else 'no')\n",
    "    \n",
    "    df2 = df >> spread('is_auto', 'p50_distance') >> select(-_.n, -_.total_miles)\n",
    "    df2 = df2.rename(columns={'no': 'p50_mi_transit', 'yes': 'p50_mi_auto'})\n",
    "    \n",
    "    df3 = df >> spread('is_auto', 'total_miles') >> select(-_.p50_distance, -_.n)\n",
    "    df3 = df3.rename(columns={'no': 'total_mi_transit', 'yes': 'total_mi_auto'})\n",
    "    \n",
    "    df2 = df2 >> inner_join(_, df3, on = 'origin_trct_fips_2020')\n",
    "    \n",
    "    df2 = (df2 >> group_by(_.origin_trct_fips_2020)\n",
    "           >> summarize(p50_mi_transit = _.p50_mi_transit.max(), p50_mi_auto = _.p50_mi_auto.max(),\n",
    "                        total_mi_transit = _.total_mi_transit.max(),\n",
    "                        total_mi_auto = _.total_mi_auto.max()\n",
    "                       )\n",
    "          )\n",
    "    \n",
    "    df2['p50_transit_longer'] = df2['p50_mi_transit'] > df2['p50_mi_auto']\n",
    "    # df2['total_transit_higher'] = df2['total_mi_transit'] > df2['total_mi_auto'] #  useless\n",
    "\n",
    "    df2['no_transit'] = df2.total_mi_transit.isna()\n",
    "    df2['total_mi'] = df2.total_mi_transit + df2.total_mi_auto\n",
    "    no_transit = df2 >> group_by(_.no_transit) >> summarize(total_mi_auto = _.total_mi_auto.sum())\n",
    "    total_reduction = df2.total_mi_auto.sum() * .25 #  CARB 25% VMT Decrease\n",
    "    \n",
    "    # rescaling after no transit tracts\n",
    "    actual_reduction = total_reduction / no_transit.iloc[0, 1]\n",
    "    df2['new_transit_mi'] = df2.total_mi_auto * actual_reduction\n",
    "    df2['questionable_new_transit_trips'] = df2.new_transit_mi // df2.p50_mi_transit\n",
    "    \n",
    "    return df2"
   ]
  },
  {
   "cell_type": "code",
   "execution_count": null,
   "id": "d661657b-cac7-4e9a-806d-48579c0516f9",
   "metadata": {},
   "outputs": [],
   "source": [
    "df2 = process_grouped_data(grouped)"
   ]
  },
  {
   "cell_type": "code",
   "execution_count": 60,
   "id": "50f04f86-6f13-4654-952e-58dc07a23faa",
   "metadata": {},
   "outputs": [
    {
     "data": {
      "text/html": [
       "<div>\n",
       "<style scoped>\n",
       "    .dataframe tbody tr th:only-of-type {\n",
       "        vertical-align: middle;\n",
       "    }\n",
       "\n",
       "    .dataframe tbody tr th {\n",
       "        vertical-align: top;\n",
       "    }\n",
       "\n",
       "    .dataframe thead th {\n",
       "        text-align: right;\n",
       "    }\n",
       "</style>\n",
       "<table border=\"1\" class=\"dataframe\">\n",
       "  <thead>\n",
       "    <tr style=\"text-align: right;\">\n",
       "      <th></th>\n",
       "      <th>origin_trct_fips_2020</th>\n",
       "      <th>p50_mi_transit</th>\n",
       "      <th>p50_mi_auto</th>\n",
       "      <th>total_mi_transit</th>\n",
       "      <th>total_mi_auto</th>\n",
       "      <th>p50_transit_longer</th>\n",
       "      <th>no_transit</th>\n",
       "      <th>total_mi</th>\n",
       "      <th>new_transit_mi</th>\n",
       "      <th>questionable_new_transit_trips</th>\n",
       "    </tr>\n",
       "  </thead>\n",
       "  <tbody>\n",
       "    <tr>\n",
       "      <th>0</th>\n",
       "      <td>6001400100</td>\n",
       "      <td>4.2</td>\n",
       "      <td>6.9</td>\n",
       "      <td>5185.3</td>\n",
       "      <td>165410.8</td>\n",
       "      <td>False</td>\n",
       "      <td>False</td>\n",
       "      <td>170596.1</td>\n",
       "      <td>50089.097385</td>\n",
       "      <td>11925.0</td>\n",
       "    </tr>\n",
       "    <tr>\n",
       "      <th>1</th>\n",
       "      <td>6001400200</td>\n",
       "      <td>4.1</td>\n",
       "      <td>3.4</td>\n",
       "      <td>3638.1</td>\n",
       "      <td>58763.4</td>\n",
       "      <td>True</td>\n",
       "      <td>False</td>\n",
       "      <td>62401.5</td>\n",
       "      <td>17794.519253</td>\n",
       "      <td>4340.0</td>\n",
       "    </tr>\n",
       "    <tr>\n",
       "      <th>2</th>\n",
       "      <td>6001400300</td>\n",
       "      <td>4.7</td>\n",
       "      <td>3.7</td>\n",
       "      <td>6130.7</td>\n",
       "      <td>122736.5</td>\n",
       "      <td>True</td>\n",
       "      <td>False</td>\n",
       "      <td>128867.2</td>\n",
       "      <td>37166.620929</td>\n",
       "      <td>7907.0</td>\n",
       "    </tr>\n",
       "  </tbody>\n",
       "</table>\n",
       "</div>"
      ],
      "text/plain": [
       "   origin_trct_fips_2020  p50_mi_transit  p50_mi_auto  total_mi_transit  \\\n",
       "0             6001400100             4.2          6.9            5185.3   \n",
       "1             6001400200             4.1          3.4            3638.1   \n",
       "2             6001400300             4.7          3.7            6130.7   \n",
       "\n",
       "   total_mi_auto  p50_transit_longer  no_transit  total_mi  new_transit_mi  \\\n",
       "0       165410.8               False       False  170596.1    50089.097385   \n",
       "1        58763.4                True       False   62401.5    17794.519253   \n",
       "2       122736.5                True       False  128867.2    37166.620929   \n",
       "\n",
       "   questionable_new_transit_trips  \n",
       "0                         11925.0  \n",
       "1                          4340.0  \n",
       "2                          7907.0  "
      ]
     },
     "execution_count": 60,
     "metadata": {},
     "output_type": "execute_result"
    }
   ],
   "source": [
    "df2 >> head(3)"
   ]
  },
  {
   "cell_type": "code",
   "execution_count": 45,
   "id": "8169ca83-e540-48f4-af93-076a535f00c6",
   "metadata": {},
   "outputs": [
    {
     "data": {
      "text/html": [
       "<div>\n",
       "<style scoped>\n",
       "    .dataframe tbody tr th:only-of-type {\n",
       "        vertical-align: middle;\n",
       "    }\n",
       "\n",
       "    .dataframe tbody tr th {\n",
       "        vertical-align: top;\n",
       "    }\n",
       "\n",
       "    .dataframe thead th {\n",
       "        text-align: right;\n",
       "    }\n",
       "</style>\n",
       "<table border=\"1\" class=\"dataframe\">\n",
       "  <thead>\n",
       "    <tr style=\"text-align: right;\">\n",
       "      <th></th>\n",
       "      <th>no_transit</th>\n",
       "      <th>total_mi_auto</th>\n",
       "    </tr>\n",
       "  </thead>\n",
       "  <tbody>\n",
       "    <tr>\n",
       "      <th>0</th>\n",
       "      <td>False</td>\n",
       "      <td>1.066600e+09</td>\n",
       "    </tr>\n",
       "    <tr>\n",
       "      <th>1</th>\n",
       "      <td>True</td>\n",
       "      <td>2.253357e+08</td>\n",
       "    </tr>\n",
       "  </tbody>\n",
       "</table>\n",
       "</div>"
      ],
      "text/plain": [
       "   no_transit  total_mi_auto\n",
       "0       False   1.066600e+09\n",
       "1        True   2.253357e+08"
      ]
     },
     "execution_count": 45,
     "metadata": {},
     "output_type": "execute_result"
    }
   ],
   "source": [
    "no_transit = df2 >> group_by(_.no_transit) >> summarize(total_mi_auto = _.total_mi_auto.sum())\n",
    "no_transit"
   ]
  },
  {
   "cell_type": "code",
   "execution_count": 46,
   "id": "c7175031-a66c-4f90-8dca-193198b9d932",
   "metadata": {},
   "outputs": [
    {
     "data": {
      "text/plain": [
       "'21.0 percent of VMT in tracts with no transit per Replica'"
      ]
     },
     "execution_count": 46,
     "metadata": {},
     "output_type": "execute_result"
    }
   ],
   "source": [
    "no_transit_pct = no_transit.iloc[1, 1] / no_transit.iloc[0, 1]\n",
    "f'{round(no_transit_pct*100, 0)} percent of VMT in tracts with no transit per Replica'"
   ]
  },
  {
   "cell_type": "code",
   "execution_count": 61,
   "id": "6476da44-36ac-4604-89d5-76966eb9411d",
   "metadata": {},
   "outputs": [
    {
     "data": {
      "text/plain": [
       "True     6571\n",
       "False    2534\n",
       "Name: p50_transit_longer, dtype: int64"
      ]
     },
     "execution_count": 61,
     "metadata": {},
     "output_type": "execute_result"
    }
   ],
   "source": [
    "df2.p50_transit_longer.value_counts()"
   ]
  },
  {
   "cell_type": "code",
   "execution_count": 101,
   "id": "682268e8-78fc-4609-afc5-294f3c650b5e",
   "metadata": {},
   "outputs": [
    {
     "data": {
      "text/plain": [
       "<module '_utils' from '/home/jovyan/data-analyses/finding_transfers/vmt_transit_sketch/_utils.py'>"
      ]
     },
     "execution_count": 101,
     "metadata": {},
     "output_type": "execute_result"
    }
   ],
   "source": [
    "import _utils\n",
    "import importlib\n",
    "importlib.reload(_utils)"
   ]
  },
  {
   "cell_type": "code",
   "execution_count": 66,
   "id": "e83400ec-c295-40b3-91d6-3c3bd1ffb5f4",
   "metadata": {},
   "outputs": [
    {
     "name": "stdout",
     "output_type": "stream",
     "text": [
      "Using FIPS code '06' for input 'CA'\n"
     ]
    }
   ],
   "source": [
    "tract_geo = _utils.get_tract_geoms()"
   ]
  },
  {
   "cell_type": "code",
   "execution_count": 8,
   "id": "76766b3c-efc1-4ad7-9d47-3f465c616abf",
   "metadata": {},
   "outputs": [],
   "source": [
    "# tract_geo = gpd.read_file('./tl_2020_06_tract.zip') >> select(_.GEOID, _.geometry)"
   ]
  },
  {
   "cell_type": "code",
   "execution_count": 67,
   "id": "876be135-baf9-41bb-880f-22cf9df2c4a9",
   "metadata": {},
   "outputs": [],
   "source": [
    "tract_geo.GEOID = tract_geo.GEOID.astype('int64')"
   ]
  },
  {
   "cell_type": "code",
   "execution_count": 69,
   "id": "03ecd820-d9e5-4c08-82ae-0929638e3af4",
   "metadata": {},
   "outputs": [],
   "source": [
    "gdf = tract_geo >> inner_join(_, df2, on = {'GEOID': 'origin_trct_fips_2020'}) >> select(-_.origin_trct_fips_2020)"
   ]
  },
  {
   "cell_type": "code",
   "execution_count": 74,
   "id": "3a830524-3c8f-4915-8768-3062ddbf7db0",
   "metadata": {},
   "outputs": [],
   "source": [
    "ca_uzas = gpd.read_parquet('intermediate/ca_uza.parquet')"
   ]
  },
  {
   "cell_type": "code",
   "execution_count": 76,
   "id": "d00b301f-ec03-4525-b415-53f9f65a77c2",
   "metadata": {},
   "outputs": [],
   "source": [
    "uza_joined = gpd.sjoin(gdf, ca_uzas, how = 'left')"
   ]
  },
  {
   "cell_type": "code",
   "execution_count": 93,
   "id": "4cb23dd6-94b8-4b36-952b-054a06c04192",
   "metadata": {},
   "outputs": [],
   "source": [
    "#  TODO to util, other source?\n",
    "\n",
    "census_pop = gpd.read_file('DECENNIALPL2020.P1_2024-02-01T163251.zip')\n",
    "\n",
    "tract_pop = census_pop[['GEO_ID', 'P1_001N']].iloc[2:,:]\n",
    "\n",
    "tract_pop.GEO_ID = tract_pop.GEO_ID.map(lambda x: x.split('US')[1])\n",
    "\n",
    "tract_pop.GEO_ID = tract_pop.GEO_ID.astype('int64')\n",
    "\n",
    "tract_pop = tract_pop >> select(_.total_pop == _.P1_001N, _.GEOID == _.GEO_ID)"
   ]
  },
  {
   "cell_type": "code",
   "execution_count": 95,
   "id": "31623fcf-efd7-4863-8f12-71a04ac45410",
   "metadata": {},
   "outputs": [],
   "source": [
    "uza_joined = uza_joined >> inner_join(_, tract_pop, on = 'GEOID')"
   ]
  },
  {
   "cell_type": "code",
   "execution_count": 96,
   "id": "fb733ab6-007a-4747-91dd-ec40688a066f",
   "metadata": {},
   "outputs": [],
   "source": [
    "uza_joined.total_pop = uza_joined.total_pop.astype('int64')\n",
    "uza_joined['new_trips_per_capita'] = uza_joined.questionable_new_transit_trips / uza_joined.total_pop"
   ]
  },
  {
   "cell_type": "code",
   "execution_count": 98,
   "id": "addb6ac5-5f4d-41dc-9a7a-0d6644bb699c",
   "metadata": {},
   "outputs": [],
   "source": [
    "uza_joined.to_parquet('outputs/new_trips_with_uza.parquet')"
   ]
  },
  {
   "cell_type": "code",
   "execution_count": 34,
   "id": "666ebaa0-7d29-4f56-a3fd-5ad7391b15c8",
   "metadata": {},
   "outputs": [],
   "source": [
    "# uza_joined = uza_joined >> filter(_.P1_001N != 0) # remove tracts where nobody lives"
   ]
  },
  {
   "cell_type": "markdown",
   "id": "019d1eaf-c3a7-4b71-a0b9-f9b041a04280",
   "metadata": {},
   "source": [
    "# \"What if VMT decreased by 25% per the CARB target, and all those trips were on (existing) transit instead?\"\n",
    "\n",
    "## VMT is a spatial phenomenon, our analysis should be spatial too\n",
    "\n",
    "* Start with \"big data\" weekday residential VMT per Census tract via Replica\n",
    "* Per target, future VMT should be 25% less\n",
    "* Assume tripmaking remains constant, and that transit entirely replaces that VMT\n",
    "    * optional: find tracts with no transit service, hold their VMT constant and redistribute missed target among remaining tracts (30% reduction instead of 25% perhaps?)\n",
    "    \n",
    "## From reduced VMT to transit trips\n",
    "\n",
    "* Replica gives transit trip lengths but it may not be reliable (\"good for auto, less so for transit\")\n",
    "    * It's generally showing the median transit trip as longer than the median auto trip, which seems questionable\n",
    "    * We have plenty of good spatial data on transit service _provision_, but not ridership (generally agency-level only)\n",
    "    * May need to refer to research/default to a fixed \"median transit trip\" length based on population density\n",
    "* Regardless, get a rough estimate by dividing reduced VMT in each tract by median transit trip distance\n",
    "* Reality check using derived modeshare number?\n",
    "\n",
    "## Connecting our estimate to California's transit provider landscape\n",
    "\n",
    "* Proportionally assign new trips per census tract to transit operators\n",
    "    * ~By number of stops in tract? OK for bus but will dramatically undercount rail~\n",
    "    * By each operator's proportion of regional ridership (from NTD)? Will overcount in tracts on the edge of large operator service areas, but perhaps preferable\n",
    "* Can then create operator-level estimates of increased ridership and service hour provision\n",
    "    * This is where we have the best estimates of existing ridership..."
   ]
  },
  {
   "cell_type": "code",
   "execution_count": 11,
   "id": "2db21010-14d2-47d1-b8be-9fd270cca949",
   "metadata": {},
   "outputs": [],
   "source": [
    "import geopandas as gpd"
   ]
  },
  {
   "cell_type": "markdown",
   "id": "345b6bfd-f569-442f-9641-4f5f5dd4c40c",
   "metadata": {},
   "source": [
    "## Mapping..."
   ]
  },
  {
   "cell_type": "code",
   "execution_count": null,
   "id": "b84ee354-9bc8-4808-b89e-39de27d24b71",
   "metadata": {},
   "outputs": [],
   "source": [
    "gdf.explore(column = 'total_mi_transit', scheme = 'NaturalBreaks')"
   ]
  },
  {
   "cell_type": "code",
   "execution_count": null,
   "id": "2bde07bb-30d9-48b7-86ae-1055c15c4aac",
   "metadata": {},
   "outputs": [],
   "source": [
    "gdf.explore(column = 'total_mi_auto', scheme = 'NaturalBreaks')"
   ]
  },
  {
   "cell_type": "code",
   "execution_count": null,
   "id": "0a9c55c5-b17e-4e4f-b0ec-198d2cd89b14",
   "metadata": {},
   "outputs": [],
   "source": [
    "(gdf >> filter(_.no_transit)).explore()"
   ]
  },
  {
   "cell_type": "markdown",
   "id": "76a258eb-cd26-4d2e-8e0c-8ac50c5c1449",
   "metadata": {},
   "source": [
    "## New transit trips"
   ]
  },
  {
   "cell_type": "code",
   "execution_count": null,
   "id": "ea9768db-f59e-4d73-a21c-c903736b4421",
   "metadata": {},
   "outputs": [],
   "source": [
    "# gdf.explore(column = 'new_transit_mi', scheme = 'NaturalBreaks')"
   ]
  },
  {
   "cell_type": "code",
   "execution_count": null,
   "id": "a6d4647f-d6a3-4935-ab1f-613738ffecc5",
   "metadata": {},
   "outputs": [],
   "source": [
    "gdf = gdf >> filter(_.new_trips_per_capita < _.new_trips_per_capita.quantile(.99))"
   ]
  },
  {
   "cell_type": "code",
   "execution_count": null,
   "id": "d560c555-ced9-43e5-bfb7-923a2c6a65ca",
   "metadata": {},
   "outputs": [],
   "source": [
    "gdf.explore(column = 'new_trips_per_capita', scheme = 'Quantiles')"
   ]
  },
  {
   "cell_type": "code",
   "execution_count": null,
   "id": "8fb69137-fb4e-4140-9600-1155712585fc",
   "metadata": {},
   "outputs": [],
   "source": [
    "gdf.explore(column = 'questionable_new_transit_trips', scheme = 'NaturalBreaks')"
   ]
  },
  {
   "cell_type": "code",
   "execution_count": 32,
   "id": "718a534e-e8f5-4a2f-8698-f87c298d7ba0",
   "metadata": {},
   "outputs": [
    {
     "data": {
      "text/plain": [
       "17797968.0"
      ]
     },
     "execution_count": 32,
     "metadata": {},
     "output_type": "execute_result"
    }
   ],
   "source": [
    "gdf.questionable_new_transit_trips.sum()"
   ]
  },
  {
   "cell_type": "markdown",
   "id": "db1e79d4-2958-4483-bee9-7ea58ecd4406",
   "metadata": {},
   "source": [
    "About 18 million new daily trips across LA/Orange/San Diego/Imperial Counties. For reference, LA Metro's daily ridership is around 1 million. Current regional transit modeshare is only about 5%..."
   ]
  },
  {
   "cell_type": "markdown",
   "id": "6b708ffd-6d83-45e3-86c1-39d30ec2f5a8",
   "metadata": {},
   "source": [
    "## Next Steps\n",
    "\n",
    "* caveat: other strategies (land use, active modes...)\n",
    "* caveat: induced travel\n",
    "* stratify into \"good transit, not riding\", \"bad transit\"\n",
    "* LODES o/d data? Replica? -> Conveyal transit o/d find that \"good transit but not riding it\"\n",
    "   * find what doesn't show up in aggregate accessibility...\n",
    "* https://walker-data.com/pygris/"
   ]
  },
  {
   "cell_type": "code",
   "execution_count": 99,
   "id": "37b679d4-f8bd-4450-bf9f-50b68e8570b4",
   "metadata": {},
   "outputs": [],
   "source": [
    "from calitp_data_analysis import get_fs"
   ]
  },
  {
   "cell_type": "code",
   "execution_count": 100,
   "id": "b0572b17-a9c2-4128-ab67-fa650c87fda0",
   "metadata": {},
   "outputs": [],
   "source": [
    "fs = get_fs()"
   ]
  },
  {
   "cell_type": "code",
   "execution_count": 102,
   "id": "76539b31-f757-4703-9f7a-2eea60834d06",
   "metadata": {},
   "outputs": [
    {
     "data": {
      "text/plain": [
       "'gs://calitp-analytics-data/data-analyses/sb125/vmt_transit_sketch/'"
      ]
     },
     "execution_count": 102,
     "metadata": {},
     "output_type": "execute_result"
    }
   ],
   "source": [
    "_utils.GCS_PATH"
   ]
  },
  {
   "cell_type": "code",
   "execution_count": 111,
   "id": "1518eea5-d2f1-4807-b392-4a4f2624439d",
   "metadata": {},
   "outputs": [],
   "source": [
    "lpath = 'replica_raw/'"
   ]
  },
  {
   "cell_type": "code",
   "execution_count": 112,
   "id": "e0048f15-f124-431d-9fae-35aa7ef3dd72",
   "metadata": {},
   "outputs": [
    {
     "data": {
      "text/plain": [
       "[None, None, None, None, None, None, None, None, None, None]"
      ]
     },
     "execution_count": 112,
     "metadata": {},
     "output_type": "execute_result"
    }
   ],
   "source": [
    "fs.put(lpath, _utils.GCS_PATH + lpath, recursive=True)"
   ]
  }
 ],
 "metadata": {
  "kernelspec": {
   "display_name": "Python 3 (ipykernel)",
   "language": "python",
   "name": "python3"
  },
  "language_info": {
   "codemirror_mode": {
    "name": "ipython",
    "version": 3
   },
   "file_extension": ".py",
   "mimetype": "text/x-python",
   "name": "python",
   "nbconvert_exporter": "python",
   "pygments_lexer": "ipython3",
   "version": "3.9.13"
  },
  "widgets": {
   "application/vnd.jupyter.widget-state+json": {
    "state": {},
    "version_major": 2,
    "version_minor": 0
   }
  }
 },
 "nbformat": 4,
 "nbformat_minor": 5
}
