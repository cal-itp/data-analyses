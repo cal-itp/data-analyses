{
 "cells": [
  {
   "cell_type": "code",
   "execution_count": null,
   "id": "9e8158c2-a7f9-4b3c-a518-037132adf0c3",
   "metadata": {},
   "outputs": [],
   "source": [
    "import pandas as pd\n",
    "import geopandas as gpd\n",
    "from siuba import *"
   ]
  },
  {
   "cell_type": "code",
   "execution_count": null,
   "id": "81cddca7-bea4-494d-b0cb-02508d52b380",
   "metadata": {},
   "outputs": [],
   "source": [
    "import zipfile"
   ]
  },
  {
   "cell_type": "code",
   "execution_count": null,
   "id": "37b679d4-f8bd-4450-bf9f-50b68e8570b4",
   "metadata": {},
   "outputs": [],
   "source": [
    "from calitp_data_analysis import get_fs"
   ]
  },
  {
   "cell_type": "code",
   "execution_count": null,
   "id": "682268e8-78fc-4609-afc5-294f3c650b5e",
   "metadata": {},
   "outputs": [],
   "source": [
    "import _utils\n",
    "# import importlib\n",
    "# importlib.reload(_utils)"
   ]
  },
  {
   "cell_type": "markdown",
   "id": "b076a21f-5a53-4b75-b140-0e4947099e42",
   "metadata": {
    "tags": []
   },
   "source": [
    "# Read and group Replica data"
   ]
  },
  {
   "cell_type": "code",
   "execution_count": null,
   "id": "85a89737-f90d-488f-9310-ca83557e476c",
   "metadata": {
    "tags": []
   },
   "outputs": [],
   "source": [
    "def read_group_replica(zip_path, replica_filename = 'replica-mode_split_test-02_01_24-trips_dataset.csv'):\n",
    "    '''\n",
    "    zip_path: path to zip file containing a Replica trips export\n",
    "    '''\n",
    "    with zipfile.ZipFile(zip_path) as z:\n",
    "        with z.open(replica_filename) as f:\n",
    "            df = pd.read_csv(f)\n",
    "    df = (df >> filter(_.primary_mode.isin(['private_auto', 'auto_passenger', 'on_demand_auto', 'public_transit']))\n",
    "     >> select(-_.origin_trct_2020, -_.activity_id)\n",
    "         )\n",
    "    df['is_auto'] = df.primary_mode.str.contains('auto')\n",
    "    grouped = (df >> group_by(_.origin_trct_fips_2020, _.is_auto)\n",
    "                  >> summarize(n = _.shape[0], p50_distance = _.trip_distance_miles.quantile(.5),\n",
    "                               p75_distance = _.trip_distance_miles.quantile(.75),\n",
    "                               p90_distance = _.trip_distance_miles.quantile(.9),\n",
    "                               total_miles = _.trip_distance_miles.sum(),\n",
    "                              )\n",
    "        )\n",
    "    # parquet_path = f'./intermediate/{zip_path.split(\".zip\")[0]}.parquet'\n",
    "    # grouped.to_parquet(parquet_path)\n",
    "    # print(f'grouped data -> {parquet_path}')\n",
    "    return grouped"
   ]
  },
  {
   "cell_type": "markdown",
   "id": "a48da885-0c7c-41a6-be13-8364e7fdc48c",
   "metadata": {
    "jp-MarkdownHeadingCollapsed": true,
    "tags": []
   },
   "source": [
    "## quick vmt"
   ]
  },
  {
   "cell_type": "code",
   "execution_count": null,
   "id": "ec3470ac-5f0e-49a0-9000-f371f952bc74",
   "metadata": {},
   "outputs": [],
   "source": [
    "zip_path = f'replica_raw/replica-la_north-trips_dataset.zip'"
   ]
  },
  {
   "cell_type": "code",
   "execution_count": null,
   "id": "868a0ae4-b076-4775-beba-fdc9ba764b27",
   "metadata": {},
   "outputs": [],
   "source": [
    "replica_filename = 'replica-mode_split_test-02_01_24-trips_dataset.csv'"
   ]
  },
  {
   "cell_type": "code",
   "execution_count": null,
   "id": "b4c08637-9bbc-4727-af6d-14dc1c66b4a1",
   "metadata": {},
   "outputs": [],
   "source": [
    "with zipfile.ZipFile(zip_path) as z:\n",
    "    with z.open(replica_filename) as f:\n",
    "        df = pd.read_csv(f)"
   ]
  },
  {
   "cell_type": "code",
   "execution_count": null,
   "id": "5875f7f5-2c1f-40f6-95fa-0a8d106b1e7a",
   "metadata": {},
   "outputs": [],
   "source": [
    "miles_all = df.trip_distance_miles.sum()"
   ]
  },
  {
   "cell_type": "code",
   "execution_count": null,
   "id": "01a823a1-de52-4d08-8b80-a024c1397f95",
   "metadata": {},
   "outputs": [],
   "source": [
    "shorter = (df >> filter(_.trip_distance_miles < _.trip_distance_miles.quantile(.95))).trip_distance_miles.sum()"
   ]
  },
  {
   "cell_type": "code",
   "execution_count": null,
   "id": "132b4a03-9f73-4978-8a35-ae5c130f7f73",
   "metadata": {},
   "outputs": [],
   "source": [
    "shorter / miles_all"
   ]
  },
  {
   "cell_type": "markdown",
   "id": "412218ad-4f25-49de-92df-a00cc6becc70",
   "metadata": {},
   "source": [
    "## grouping"
   ]
  },
  {
   "cell_type": "code",
   "execution_count": null,
   "id": "dae2c9bb-5121-4966-85ed-111bd525c924",
   "metadata": {},
   "outputs": [],
   "source": [
    "all_regions = ['central_a', 'central_b', 'north', 'la_north',\n",
    "              'la_south', 'sandiego', 'socal_a', 'socal_b']"
   ]
  },
  {
   "cell_type": "code",
   "execution_count": null,
   "id": "15544ecf-1140-426f-be93-5ce53e2b5f7e",
   "metadata": {},
   "outputs": [],
   "source": [
    "grouped = pd.DataFrame()\n",
    "for region in ['fresno']:\n",
    "    print(region)\n",
    "    #  note replica filename includes date of download...\n",
    "    df = read_group_replica(f'replica_raw/corridors/replica-{region}-trips_dataset.zip',\n",
    "                           replica_filename='replica-mode_split_test-02_20_24-trips_dataset.csv')\n",
    "    grouped = pd.concat([grouped, df])"
   ]
  },
  {
   "cell_type": "code",
   "execution_count": null,
   "id": "1878b238-eec9-450c-bf3e-359016485495",
   "metadata": {},
   "outputs": [],
   "source": [
    "grouped.to_parquet('intermediate/fresno_grouped.parquet')"
   ]
  },
  {
   "cell_type": "code",
   "execution_count": null,
   "id": "9fb929ae-0c66-4dfb-9a0e-604bfedef078",
   "metadata": {
    "tags": []
   },
   "outputs": [],
   "source": [
    "# grouped = pd.DataFrame()\n",
    "# for region in all_regions:\n",
    "#     print(region)\n",
    "#     df = read_group_replica(f'replica_raw/replica-{region}-trips_dataset.zip')\n",
    "#     grouped = pd.concat([grouped, df])\n",
    "\n",
    "# grouped.to_parquet('intermediate/replica_grouped.parquet')"
   ]
  },
  {
   "cell_type": "markdown",
   "id": "6e86832b-46f0-4977-96c2-7ca458dcfd89",
   "metadata": {},
   "source": [
    "# Read back in grouped data\n",
    "\n",
    "* number of trips, median distance, and total miles travelled by auto yes/no and Census tract\n",
    "* TODO non-manual regions :)"
   ]
  },
  {
   "cell_type": "code",
   "execution_count": null,
   "id": "240ddd8f-6a36-44e1-a1c0-32e6f50c3cac",
   "metadata": {},
   "outputs": [],
   "source": [
    "# grouped = pd.DataFrame()\n",
    "# for region in all_regions:\n",
    "#     grouped = pd.concat([grouped, pd.read_parquet(f'intermediate/replica-{region}-trips_dataset.parquet')])"
   ]
  },
  {
   "cell_type": "code",
   "execution_count": null,
   "id": "7596b001-2c1c-488f-b089-c375c0ddff4f",
   "metadata": {},
   "outputs": [],
   "source": [
    "# replica_grouped = pd.read_parquet('intermediate/replica_grouped.parquet')"
   ]
  },
  {
   "cell_type": "code",
   "execution_count": null,
   "id": "f4b313d7-62e5-46b4-ab93-6b25d176bdeb",
   "metadata": {},
   "outputs": [],
   "source": [
    "replica_grouped = pd.read_parquet('intermediate/fresno_grouped.parquet')"
   ]
  },
  {
   "cell_type": "code",
   "execution_count": null,
   "id": "23b9ae5b-bd02-4978-b7d1-3e4b49de53b5",
   "metadata": {},
   "outputs": [],
   "source": [
    "tracts_feeds = gpd.read_parquet('intermediate/feeds_tract_geo.parquet')"
   ]
  },
  {
   "cell_type": "code",
   "execution_count": null,
   "id": "73088513-9710-4c9a-a205-d531c3807345",
   "metadata": {},
   "outputs": [],
   "source": [
    "tracts_feeds.GEOID = tracts_feeds.GEOID.astype('int64')"
   ]
  },
  {
   "cell_type": "code",
   "execution_count": null,
   "id": "61ce4f74-45e9-4c85-ad34-d2ac9c5cfc32",
   "metadata": {},
   "outputs": [],
   "source": [
    "tracts_feeds = tracts_feeds >> distinct(_.GEOID, _.geometry)"
   ]
  },
  {
   "cell_type": "code",
   "execution_count": null,
   "id": "06f007da-ad8d-4801-8595-85c5d44fe921",
   "metadata": {},
   "outputs": [],
   "source": [
    "def process_grouped_data(replica_df, tracts_feeds_df):\n",
    "    '''\n",
    "    replica_df: df from read_group_replica\n",
    "    tracts_feeds_df: gdf from stops_by_tract_agency\n",
    "    '''\n",
    "    replica_df.is_auto = replica_df.is_auto.map(lambda x: 'yes' if x else 'no')\n",
    "    \n",
    "    df2 = replica_df >> spread('is_auto', 'p50_distance') >> select(-_.n, -_.total_miles)\n",
    "    df2 = df2.rename(columns={'no': 'p50_mi_transit', 'yes': 'p50_mi_auto'})\n",
    "    \n",
    "    df3 = replica_df >> spread('is_auto', 'total_miles') >> select(-_.p50_distance, -_.n)\n",
    "    df3 = df3.rename(columns={'no': 'total_mi_transit', 'yes': 'total_mi_auto'})\n",
    "    \n",
    "    df2 = df2 >> inner_join(_, df3, on = 'origin_trct_fips_2020')\n",
    "    \n",
    "    df2 = (df2 >> group_by(_.origin_trct_fips_2020)\n",
    "           >> summarize(p50_mi_transit = _.p50_mi_transit.max(), p50_mi_auto = _.p50_mi_auto.max(),\n",
    "                        total_mi_transit = _.total_mi_transit.max(),\n",
    "                        total_mi_auto = _.total_mi_auto.max()\n",
    "                       )\n",
    "          )\n",
    "    \n",
    "    df2['p50_transit_longer'] = df2['p50_mi_transit'] > df2['p50_mi_auto']\n",
    "    # df2['total_transit_higher'] = df2['total_mi_transit'] > df2['total_mi_auto'] #  useless\n",
    "    tracts_with_stops = tracts_feeds_df.GEOID\n",
    "    df2['no_transit_replica'] = df2.total_mi_transit.isna()\n",
    "    df2['no_transit'] = ~df2.origin_trct_fips_2020.isin(tracts_with_stops)\n",
    "    df2['total_mi'] = df2.total_mi_transit + df2.total_mi_auto\n",
    "    no_transit = df2 >> group_by(_.no_transit) >> summarize(total_mi_auto = _.total_mi_auto.sum())\n",
    "    total_reduction = df2.total_mi_auto.sum() * .25 #  CARB 25% VMT Decrease\n",
    "    \n",
    "    # rescaling after no transit tracts\n",
    "    actual_reduction = total_reduction / no_transit.iloc[0, 1]\n",
    "    print(actual_reduction)\n",
    "    df2.p50_mi_transit = df2.p50_mi_transit.fillna(df2.p50_mi_auto)\n",
    "    df2['new_transit_mi'] = df2.total_mi_auto * actual_reduction\n",
    "    df2['projected_new_transit_trips'] = df2.new_transit_mi // df2.p50_mi_transit\n",
    "    \n",
    "    return df2"
   ]
  },
  {
   "cell_type": "code",
   "execution_count": null,
   "id": "d661657b-cac7-4e9a-806d-48579c0516f9",
   "metadata": {
    "tags": []
   },
   "outputs": [],
   "source": [
    "processed_df = process_grouped_data(replica_grouped, tracts_feeds)"
   ]
  },
  {
   "cell_type": "code",
   "execution_count": null,
   "id": "50f04f86-6f13-4654-952e-58dc07a23faa",
   "metadata": {},
   "outputs": [],
   "source": [
    "processed_df >> head(3)"
   ]
  },
  {
   "cell_type": "code",
   "execution_count": null,
   "id": "8169ca83-e540-48f4-af93-076a535f00c6",
   "metadata": {},
   "outputs": [],
   "source": [
    "no_transit = processed_df >> group_by(_.no_transit) >> summarize(total_mi_auto = _.total_mi_auto.sum())\n",
    "no_transit"
   ]
  },
  {
   "cell_type": "code",
   "execution_count": null,
   "id": "c7175031-a66c-4f90-8dca-193198b9d932",
   "metadata": {},
   "outputs": [],
   "source": [
    "no_transit_pct = no_transit.iloc[1, 1] / no_transit.iloc[0, 1]\n",
    "f'{round(no_transit_pct*100, 0)} percent of VMT in tracts with no transit per GTFS Warehouse stops'"
   ]
  },
  {
   "cell_type": "code",
   "execution_count": null,
   "id": "6476da44-36ac-4604-89d5-76966eb9411d",
   "metadata": {},
   "outputs": [],
   "source": [
    "processed_df.p50_transit_longer.value_counts()"
   ]
  },
  {
   "cell_type": "code",
   "execution_count": null,
   "id": "8995132b-5eba-48e8-bfdb-585f1ff1e9d8",
   "metadata": {},
   "outputs": [],
   "source": [
    "def attach_tracts_pop(processed_df):\n",
    "    \n",
    "    tract_geo = _utils.get_tract_geoms()\n",
    "    tract_geo.GEOID = tract_geo.GEOID.astype('int64')\n",
    "    gdf = (tract_geo >> inner_join(_, processed_df, on = {'GEOID': 'origin_trct_fips_2020'})\n",
    "                     >> select(-_.origin_trct_fips_2020))\n",
    "    ca_uzas = gpd.read_parquet('intermediate/ca_uza.parquet')\n",
    "    uza_joined = gpd.sjoin(gdf, ca_uzas, how = 'left')\n",
    "    \n",
    "    census_pop = gpd.read_file('census_ntd/DECENNIALPL2020.P1_2024-02-01T163251.zip')\n",
    "    tract_pop = census_pop[['GEO_ID', 'P1_001N']].iloc[2:,:]\n",
    "    tract_pop.GEO_ID = tract_pop.GEO_ID.map(lambda x: x.split('US')[1])\n",
    "    tract_pop.GEO_ID = tract_pop.GEO_ID.astype('int64')\n",
    "    tract_pop = tract_pop >> select(_.total_pop == _.P1_001N, _.GEOID == _.GEO_ID)\n",
    "    uza_joined = uza_joined >> inner_join(_, tract_pop, on = 'GEOID')\n",
    "    uza_joined.total_pop = uza_joined.total_pop.astype('int64')\n",
    "    uza_joined['new_trips_per_capita'] = uza_joined.projected_new_transit_trips / uza_joined.total_pop\n",
    "    \n",
    "    return uza_joined"
   ]
  },
  {
   "cell_type": "code",
   "execution_count": null,
   "id": "81f381a4-bb80-4fb7-97fa-853111914712",
   "metadata": {},
   "outputs": [],
   "source": [
    "uza_joined = attach_tracts_pop(processed_df)"
   ]
  },
  {
   "cell_type": "code",
   "execution_count": null,
   "id": "10cb6149-4676-4b64-9ae7-b53f621f815b",
   "metadata": {},
   "outputs": [],
   "source": [
    "uza_joined.to_parquet('outputs/fresno_trips_with_uza.parquet')"
   ]
  },
  {
   "cell_type": "code",
   "execution_count": null,
   "id": "addb6ac5-5f4d-41dc-9a7a-0d6644bb699c",
   "metadata": {},
   "outputs": [],
   "source": [
    "# uza_joined.to_parquet('outputs/new_trips_with_uza.parquet')"
   ]
  },
  {
   "cell_type": "code",
   "execution_count": null,
   "id": "666ebaa0-7d29-4f56-a3fd-5ad7391b15c8",
   "metadata": {},
   "outputs": [],
   "source": [
    "# uza_joined = uza_joined >> filter(_.P1_001N != 0) # remove tracts where nobody lives"
   ]
  },
  {
   "cell_type": "markdown",
   "id": "63e712e1-900d-430e-962e-72ed8dd30bbf",
   "metadata": {},
   "source": [
    "## Quick GCS Upload"
   ]
  },
  {
   "cell_type": "code",
   "execution_count": null,
   "id": "b0572b17-a9c2-4128-ab67-fa650c87fda0",
   "metadata": {},
   "outputs": [],
   "source": [
    "fs = get_fs()"
   ]
  },
  {
   "cell_type": "code",
   "execution_count": null,
   "id": "76539b31-f757-4703-9f7a-2eea60834d06",
   "metadata": {},
   "outputs": [],
   "source": [
    "_utils.GCS_PATH"
   ]
  },
  {
   "cell_type": "code",
   "execution_count": null,
   "id": "1518eea5-d2f1-4807-b392-4a4f2624439d",
   "metadata": {},
   "outputs": [],
   "source": [
    "lpath = 'replica_raw/'"
   ]
  },
  {
   "cell_type": "code",
   "execution_count": null,
   "id": "e0048f15-f124-431d-9fae-35aa7ef3dd72",
   "metadata": {},
   "outputs": [],
   "source": [
    "fs.put(lpath, _utils.GCS_PATH + lpath, recursive=True)"
   ]
  },
  {
   "cell_type": "markdown",
   "id": "b27a8e5c-9d03-435c-bd5c-8a5de83a6d88",
   "metadata": {},
   "source": [
    "## Pulling _corridor_ level data\n",
    "\n",
    "* First, get corridor geoms"
   ]
  },
  {
   "cell_type": "code",
   "execution_count": null,
   "id": "1a5d9b48-6f90-4e85-87e8-aa4c94d01aa3",
   "metadata": {},
   "outputs": [],
   "source": []
  }
 ],
 "metadata": {
  "kernelspec": {
   "display_name": "Python 3 (ipykernel)",
   "language": "python",
   "name": "python3"
  },
  "language_info": {
   "codemirror_mode": {
    "name": "ipython",
    "version": 3
   },
   "file_extension": ".py",
   "mimetype": "text/x-python",
   "name": "python",
   "nbconvert_exporter": "python",
   "pygments_lexer": "ipython3",
   "version": "3.9.13"
  },
  "widgets": {
   "application/vnd.jupyter.widget-state+json": {
    "state": {},
    "version_major": 2,
    "version_minor": 0
   }
  }
 },
 "nbformat": 4,
 "nbformat_minor": 5
}
