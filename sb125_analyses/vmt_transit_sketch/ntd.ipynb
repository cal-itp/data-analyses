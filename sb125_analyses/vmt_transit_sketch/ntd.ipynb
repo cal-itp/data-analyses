{
 "cells": [
  {
   "cell_type": "code",
   "execution_count": null,
   "id": "58257aa9-ddca-49c4-81fb-a764cf200207",
   "metadata": {},
   "outputs": [],
   "source": [
    "import pandas as pd\n",
    "from siuba import *"
   ]
  },
  {
   "cell_type": "code",
   "execution_count": null,
   "id": "790725e8-0a30-4fa6-b194-f67c5254189f",
   "metadata": {},
   "outputs": [],
   "source": [
    "import sys\n",
    "sys.path.append('../../ntd/')\n",
    "from update_vars import GCS_FILE_PATH, PUBLIC_FILENAME, YEAR, MONTH"
   ]
  },
  {
   "cell_type": "markdown",
   "id": "4e894afc-083a-45b1-b6c5-b7cd27321a66",
   "metadata": {},
   "source": [
    "## Read NTD using Tiffany's functions from `ntd/`"
   ]
  },
  {
   "cell_type": "code",
   "execution_count": null,
   "id": "5b919f13-c18f-4e39-a92d-559b0fe64f5f",
   "metadata": {},
   "outputs": [],
   "source": [
    "df = pd.read_parquet(\n",
    "    f\"{GCS_FILE_PATH}ca_monthly_ridership_{YEAR}_{MONTH}.parquet\"\n",
    ").drop(\n",
    "    columns = [\"Mode\", \"TOS\"]\n",
    ").rename(columns = {\"Mode_full\": \"Mode\", \"TOS_full\": \"TOS\"})"
   ]
  },
  {
   "cell_type": "code",
   "execution_count": null,
   "id": "dba7857e-9853-421c-8400-22502b7d252d",
   "metadata": {},
   "outputs": [],
   "source": [
    "# find columns that are recent enough to plot\n",
    "MIN_YEAR = 2018\n",
    "\n",
    "not_id_cols = [c for c in df.columns if \"/\" in c]\n",
    "\n",
    "recent_years = [\n",
    "    c for c in not_id_cols if int(c.split(\"/\")[1]) >= MIN_YEAR and \n",
    "    \"pct\" not in c\n",
    "]\n",
    "\n",
    "upt_cols = [\n",
    "    c for c in recent_years if \"change\" not in c\n",
    "]\n",
    "\n",
    "change_cols = [c for c in recent_years if \"change\" in c]"
   ]
  },
  {
   "cell_type": "code",
   "execution_count": null,
   "id": "0a0751e2-c696-4306-9c91-c8f0a65c6062",
   "metadata": {},
   "outputs": [],
   "source": [
    "def sum_by_group(df: pd.DataFrame, group_cols: list) -> pd.DataFrame:\n",
    "    \"\"\"\n",
    "    Since df is wide, use pivot_table() to sum up all\n",
    "    the columns that show UPT.\n",
    "    \"\"\"\n",
    "    grouped_df = df.pivot_table(\n",
    "        index = group_cols, \n",
    "        values = recent_years, \n",
    "        aggfunc=\"sum\"\n",
    "    ).reset_index().reindex(columns = group_cols + recent_years)\n",
    "    \n",
    "    return grouped_df\n",
    "\n",
    "def make_long(df: pd.DataFrame, group_cols: list, value_cols: list):\n",
    "    df_long = df[group_cols + value_cols].melt(\n",
    "        id_vars = group_cols, \n",
    "        value_vars = value_cols,\n",
    "    )\n",
    "    \n",
    "    df_long = df_long.assign(\n",
    "        variable = df_long.variable.str.replace(\"change_1yr_\", \"\")\n",
    "    )\n",
    "    \n",
    "    return df_long"
   ]
  },
  {
   "cell_type": "code",
   "execution_count": null,
   "id": "9383fd25-bad7-44e7-ba45-59ca81572a49",
   "metadata": {},
   "outputs": [],
   "source": [
    "agency_cols = [\"NTD ID\", \"Agency\", \"RTPA\"]\n",
    "mode_cols = [\"Mode\", \"RTPA\"]\n",
    "tos_cols = [\"TOS\", \"RTPA\"]\n",
    "\n",
    "by_agency = sum_by_group(df, agency_cols)\n",
    "by_mode = sum_by_group(df, mode_cols)\n",
    "by_tos = sum_by_group(df, tos_cols)"
   ]
  },
  {
   "cell_type": "code",
   "execution_count": null,
   "id": "0e57f73a-267d-4b99-92c2-bae890422111",
   "metadata": {},
   "outputs": [],
   "source": [
    "by_agency.columns"
   ]
  },
  {
   "cell_type": "code",
   "execution_count": null,
   "id": "6e155b61-0e74-4b11-aab7-50dc1985fbc3",
   "metadata": {},
   "outputs": [],
   "source": [
    "sep_agency = by_agency[['NTD ID', 'Agency', 'RTPA', '9/2023']].rename(columns={'9/2023': 'upt_sep_2023'})"
   ]
  },
  {
   "cell_type": "code",
   "execution_count": null,
   "id": "5defec1d-4ad7-40c4-bd18-4b423b6f5766",
   "metadata": {},
   "outputs": [],
   "source": [
    "sep_agency >> head(3)"
   ]
  },
  {
   "cell_type": "code",
   "execution_count": null,
   "id": "da16ba16-4251-41ec-bc2c-05d56dec9b99",
   "metadata": {},
   "outputs": [],
   "source": [
    "from calitp_data_analysis.tables import tbls"
   ]
  },
  {
   "cell_type": "code",
   "execution_count": null,
   "id": "e5eb26a3-c5c2-4dac-a333-3f7fc30a527e",
   "metadata": {},
   "outputs": [],
   "source": [
    "ntd_organziations = (tbls.mart_transit_database.dim_organizations()\n",
    "                        >> filter(_._is_current)\n",
    "                        >> select(_.source_record_id, _.name, _.ntd_id)\n",
    "                        >> collect()\n",
    "                    )"
   ]
  },
  {
   "cell_type": "code",
   "execution_count": null,
   "id": "3bc30f47-e89d-42a1-9036-492a86fccd3a",
   "metadata": {},
   "outputs": [],
   "source": [
    "ntd_organziations = ntd_organziations >> inner_join(_, sep_agency, on = {'ntd_id': 'NTD ID'})"
   ]
  },
  {
   "cell_type": "code",
   "execution_count": null,
   "id": "d937ab43-b631-4110-8351-4916e4fe3dc3",
   "metadata": {},
   "outputs": [],
   "source": [
    "ntd_organziations >> head(3)"
   ]
  },
  {
   "cell_type": "code",
   "execution_count": null,
   "id": "2beb0ac9-7b96-4cac-a23f-ccbc1f5e85ac",
   "metadata": {},
   "outputs": [],
   "source": [
    "service = pd.read_excel('./2022 Service.xlsx')"
   ]
  },
  {
   "cell_type": "code",
   "execution_count": null,
   "id": "970b138a-f0f3-4aa1-af61-85c51c571b17",
   "metadata": {},
   "outputs": [],
   "source": [
    "from calitp_data_analysis.sql import to_snakecase"
   ]
  },
  {
   "cell_type": "code",
   "execution_count": null,
   "id": "74fc111a-a528-411c-aa6e-b2d23e50db51",
   "metadata": {},
   "outputs": [],
   "source": [
    "service = to_snakecase(service)\n",
    "service = service >> filter(_.time_period == 'Average Typical Weekday')"
   ]
  },
  {
   "cell_type": "code",
   "execution_count": null,
   "id": "ca379b13-e38c-406d-87da-e597eb82f8b6",
   "metadata": {},
   "outputs": [],
   "source": [
    "service.columns"
   ]
  },
  {
   "cell_type": "code",
   "execution_count": null,
   "id": "fd77a899-e835-40f5-8983-1e1f61d49f3c",
   "metadata": {},
   "outputs": [],
   "source": [
    "service_grouped = service >> group_by('ntd_id') >> summarize(weekday_vrh = _.actual_vehicle_passenger_car_revenue_hours.sum(),\n",
    "                                                            weekday_vrm = _.actual_vehicles_passenger_car_revenue_miles.sum())"
   ]
  },
  {
   "cell_type": "code",
   "execution_count": null,
   "id": "94eb705e-8aeb-4f1d-bd0d-1b9730fb958f",
   "metadata": {},
   "outputs": [],
   "source": [
    "service_grouped.dtypes"
   ]
  },
  {
   "cell_type": "code",
   "execution_count": null,
   "id": "cf5a3101-9137-4ee2-b58d-f2e2638bc3cc",
   "metadata": {},
   "outputs": [],
   "source": [
    "service_grouped.ntd_id = service_grouped.ntd_id.astype(str)\n",
    "service_grouped.ntd_id = service_grouped.ntd_id.str.zfill(5)"
   ]
  },
  {
   "cell_type": "code",
   "execution_count": null,
   "id": "abdc16ec-e940-49a8-9c12-bb12b119745d",
   "metadata": {},
   "outputs": [],
   "source": [
    "ntd_organziations['weekday_ridership'] = ntd_organziations.upt_sep_2023 // 21 #  rough estimate"
   ]
  },
  {
   "cell_type": "code",
   "execution_count": null,
   "id": "aa37246b-0181-427e-915e-8323cd810c59",
   "metadata": {},
   "outputs": [],
   "source": [
    "with_service = ntd_organziations >> inner_join(_, service_grouped, on = 'ntd_id')"
   ]
  },
  {
   "cell_type": "code",
   "execution_count": null,
   "id": "ddcf9b25-b77c-4d56-af3b-51a5f370f833",
   "metadata": {},
   "outputs": [],
   "source": [
    "with_service"
   ]
  },
  {
   "cell_type": "markdown",
   "id": "1fd53ccf-7378-47d3-8d34-5723aed62202",
   "metadata": {},
   "source": [
    "## add uza"
   ]
  },
  {
   "cell_type": "code",
   "execution_count": null,
   "id": "51b89b92-c18c-4e73-9d9a-5c47bc9e74c4",
   "metadata": {},
   "outputs": [],
   "source": [
    "info = pd.read_excel('2022 Agency Information.xlsx')\n",
    "info = to_snakecase(info)"
   ]
  },
  {
   "cell_type": "code",
   "execution_count": null,
   "id": "e9afc41f-7bb1-487b-912e-e2ffc8dfdff8",
   "metadata": {},
   "outputs": [],
   "source": [
    "info.columns"
   ]
  },
  {
   "cell_type": "code",
   "execution_count": null,
   "id": "5dd8c457-d6e7-4673-96eb-5fbdd49009f3",
   "metadata": {},
   "outputs": [],
   "source": [
    "info = info >> filter(_.state == 'CA') >> select(_.ntd_id, _.agency_name, _.primary_uza_uace_code,\n",
    "                                          _.uza_name)"
   ]
  },
  {
   "cell_type": "code",
   "execution_count": null,
   "id": "668cc6ad-29e8-42ec-ad6c-532f5a7f5be4",
   "metadata": {},
   "outputs": [],
   "source": [
    "info"
   ]
  },
  {
   "cell_type": "code",
   "execution_count": null,
   "id": "f56d8ef4-336c-4216-bfbc-caf4e0c31644",
   "metadata": {},
   "outputs": [],
   "source": [
    "info.ntd_id = info.ntd_id.astype(str)\n",
    "info.ntd_id = info.ntd_id.str.zfill(5)"
   ]
  },
  {
   "cell_type": "code",
   "execution_count": null,
   "id": "c9a53d84-6e4f-4e31-9b9b-d0e3c693f29c",
   "metadata": {},
   "outputs": [],
   "source": [
    "with_info = with_service >> inner_join(_, info, on = 'ntd_id')"
   ]
  },
  {
   "cell_type": "code",
   "execution_count": null,
   "id": "99445321-3705-4e7f-b37d-a2f04d7aea03",
   "metadata": {},
   "outputs": [],
   "source": [
    "uza_totals = with_info >> group_by(_.primary_uza_uace_code, _.uza_name) >> summarize(uza_ridership = _.weekday_ridership.sum())"
   ]
  },
  {
   "cell_type": "code",
   "execution_count": null,
   "id": "c932c9de-ffe5-41e3-8e07-9de441897554",
   "metadata": {},
   "outputs": [],
   "source": [
    "market_shares = (with_info >> inner_join(_, uza_totals, on = ['uza_name', 'primary_uza_uace_code'])\n",
    "           >> mutate(uza_share = _.weekday_ridership / _.uza_ridership)\n",
    ")"
   ]
  },
  {
   "cell_type": "code",
   "execution_count": null,
   "id": "508230aa-8a15-4db5-8697-a4acddf647c4",
   "metadata": {},
   "outputs": [],
   "source": [
    "market_shares >> filter(_.uza_name.str.contains('Los Angeles')) >> arrange(-_.uza_share)"
   ]
  },
  {
   "cell_type": "code",
   "execution_count": null,
   "id": "742309f4-1f1a-458f-9edc-413f23b021d0",
   "metadata": {},
   "outputs": [],
   "source": [
    "market_shares.to_parquet('intermediate/draft_ntd_market_shares.parquet')"
   ]
  },
  {
   "cell_type": "code",
   "execution_count": null,
   "id": "d6e7436e-0b8a-4673-8a90-b1fabb27b936",
   "metadata": {},
   "outputs": [],
   "source": []
  }
 ],
 "metadata": {
  "kernelspec": {
   "display_name": "Python 3 (ipykernel)",
   "language": "python",
   "name": "python3"
  },
  "language_info": {
   "codemirror_mode": {
    "name": "ipython",
    "version": 3
   },
   "file_extension": ".py",
   "mimetype": "text/x-python",
   "name": "python",
   "nbconvert_exporter": "python",
   "pygments_lexer": "ipython3",
   "version": "3.9.13"
  },
  "widgets": {
   "application/vnd.jupyter.widget-state+json": {
    "state": {},
    "version_major": 2,
    "version_minor": 0
   }
  }
 },
 "nbformat": 4,
 "nbformat_minor": 5
}
