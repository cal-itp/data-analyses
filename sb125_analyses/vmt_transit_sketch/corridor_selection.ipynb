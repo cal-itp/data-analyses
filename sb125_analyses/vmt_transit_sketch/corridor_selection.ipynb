{
 "cells": [
  {
   "cell_type": "code",
   "execution_count": 3,
   "id": "9e8158c2-a7f9-4b3c-a518-037132adf0c3",
   "metadata": {},
   "outputs": [],
   "source": [
    "import pandas as pd\n",
    "import geopandas as gpd\n",
    "from siuba import *"
   ]
  },
  {
   "cell_type": "code",
   "execution_count": 4,
   "id": "81cddca7-bea4-494d-b0cb-02508d52b380",
   "metadata": {},
   "outputs": [],
   "source": [
    "import zipfile"
   ]
  },
  {
   "cell_type": "code",
   "execution_count": 5,
   "id": "15475e21-db2a-4f64-a2bc-38f2b76b9a4f",
   "metadata": {
    "tags": []
   },
   "outputs": [],
   "source": [
    "# ! pip install pygris"
   ]
  },
  {
   "cell_type": "code",
   "execution_count": 6,
   "id": "682268e8-78fc-4609-afc5-294f3c650b5e",
   "metadata": {},
   "outputs": [
    {
     "data": {
      "text/plain": [
       "<module '_utils' from '/home/jovyan/data-analyses/sb125_analyses/vmt_transit_sketch/_utils.py'>"
      ]
     },
     "execution_count": 6,
     "metadata": {},
     "output_type": "execute_result"
    }
   ],
   "source": [
    "import _utils\n",
    "import importlib\n",
    "importlib.reload(_utils)"
   ]
  },
  {
   "cell_type": "code",
   "execution_count": 10,
   "id": "e269a698-e8bf-4af7-a53c-45265ca7e5ad",
   "metadata": {},
   "outputs": [],
   "source": [
    "import shared_utils\n",
    "from calitp_data_analysis import geography_utils"
   ]
  },
  {
   "cell_type": "markdown",
   "id": "0664b67b-b63d-4357-b855-20a33bc8d6d7",
   "metadata": {},
   "source": [
    "# Selecting Corridors"
   ]
  },
  {
   "cell_type": "code",
   "execution_count": 8,
   "id": "684770aa-d035-45d3-a3a4-ada6c51c2692",
   "metadata": {},
   "outputs": [],
   "source": [
    "analysis_date = '2023-04-15'"
   ]
  },
  {
   "cell_type": "code",
   "execution_count": null,
   "id": "b1424118-5e7c-4e00-9eee-1630d251cb14",
   "metadata": {},
   "outputs": [],
   "source": [
    "feeds = shared_utils.gtfs_utils_v2.schedule_daily_feed_to_gtfs_dataset_name(selected_date=analysis_date)"
   ]
  },
  {
   "cell_type": "code",
   "execution_count": 9,
   "id": "081ae78d-9f96-4bca-b181-c6c40f3f8e76",
   "metadata": {},
   "outputs": [
    {
     "name": "stdout",
     "output_type": "stream",
     "text": [
      "Using FIPS code '06' for input 'CA'\n"
     ]
    }
   ],
   "source": [
    "tracts = _utils.get_tract_geoms()"
   ]
  },
  {
   "cell_type": "code",
   "execution_count": null,
   "id": "53cb95cd-7e8c-455d-ab47-fe3968582541",
   "metadata": {},
   "outputs": [],
   "source": [
    "def trips_to_stops(trip_df, feed_list):\n",
    "    st = shared_utils.gtfs_utils_v2.get_stop_times(analysis_date, feed_list, trip_df=trip_df)\n",
    "    st = st >> distinct(_.stop_id, _.stop_sequence) >> collect()\n",
    "    st = stops >> select(_.stop_id, _.geometry) >> inner_join(_, st, on='stop_id')\n",
    "    return st"
   ]
  },
  {
   "cell_type": "code",
   "execution_count": null,
   "id": "1ed8886d-6403-438e-b5c6-b8dee2c61290",
   "metadata": {},
   "outputs": [],
   "source": [
    "def sjoin_tracts(stops_gdf, tracts_gdf, buffer_m):\n",
    "    \n",
    "    stops_gdf = stops_gdf.to_crs(geography_utils.CA_NAD83Albers)\n",
    "    assert stops_gdf.crs == tracts_gdf.crs\n",
    "    \n",
    "    stops_gdf.geometry = stops_gdf.buffer(buffer_m)\n",
    "    tracts_sjoined = gpd.sjoin(tracts_gdf, stops_gdf) >> distinct(_.GEOID, _keep_all=True)\n",
    "    \n",
    "    return tracts_sjoined"
   ]
  },
  {
   "cell_type": "markdown",
   "id": "086c18f7-c7cf-41a2-9147-727740f781e5",
   "metadata": {
    "jp-MarkdownHeadingCollapsed": true,
    "tags": []
   },
   "source": [
    "## MST (table)"
   ]
  },
  {
   "cell_type": "code",
   "execution_count": null,
   "id": "5f958167-a291-4aba-8566-111c5e713be9",
   "metadata": {},
   "outputs": [],
   "source": [
    "mst = feeds >> filter(_.name.str.contains('Monterey'))\n",
    "mst"
   ]
  },
  {
   "cell_type": "code",
   "execution_count": null,
   "id": "d68764b0-476a-4af8-8560-b931a8afba51",
   "metadata": {},
   "outputs": [],
   "source": [
    "stops = shared_utils.gtfs_utils_v2.get_stops(analysis_date, mst.feed_key)"
   ]
  },
  {
   "cell_type": "code",
   "execution_count": null,
   "id": "3bbf4ee7-7bd2-4ae2-968b-b17a5ef2514d",
   "metadata": {},
   "outputs": [],
   "source": [
    "stops.columns"
   ]
  },
  {
   "cell_type": "code",
   "execution_count": null,
   "id": "f07ef246-b92d-4e00-989b-b1800744a694",
   "metadata": {},
   "outputs": [],
   "source": [
    "trips = shared_utils.gtfs_utils_v2.get_trips(analysis_date, mst.feed_key)"
   ]
  },
  {
   "cell_type": "code",
   "execution_count": null,
   "id": "2fd8b773-d935-4c13-8f9e-84a8cba153c9",
   "metadata": {
    "tags": []
   },
   "outputs": [],
   "source": [
    "trips.columns"
   ]
  },
  {
   "cell_type": "code",
   "execution_count": null,
   "id": "8fe0c258-f084-4030-94e6-b0a44f5f5498",
   "metadata": {},
   "outputs": [],
   "source": [
    "trips.route_short_name.unique()"
   ]
  },
  {
   "cell_type": "code",
   "execution_count": null,
   "id": "a6763fd7-c9cc-44e1-b7e9-8c8c919e3f91",
   "metadata": {},
   "outputs": [],
   "source": [
    "ab_trips = trips >> filter(_.route_short_name.isin(['A', 'B']), _.direction_id == 0)"
   ]
  },
  {
   "cell_type": "code",
   "execution_count": null,
   "id": "f9151728-3f87-45b0-a799-eb2b126ea434",
   "metadata": {},
   "outputs": [],
   "source": [
    "trips_20 = trips >> filter(_.route_short_name == '20', _.direction_id == 0)"
   ]
  },
  {
   "cell_type": "code",
   "execution_count": null,
   "id": "44c2f67b-74b7-4551-82b9-167f2744081b",
   "metadata": {},
   "outputs": [],
   "source": [
    "st_20 = shared_utils.gtfs_utils_v2.get_stop_times(analysis_date, mst.feed_key, trip_df=trips_20)"
   ]
  },
  {
   "cell_type": "code",
   "execution_count": null,
   "id": "fc5f463c-b3c6-4f80-86d4-9835c650eebb",
   "metadata": {},
   "outputs": [],
   "source": [
    "st_20 = st_20 >> distinct(_.stop_id, _.stop_sequence) >> collect()"
   ]
  },
  {
   "cell_type": "code",
   "execution_count": null,
   "id": "23f3a7b3-cd32-480f-ab1f-cc616c02e77a",
   "metadata": {},
   "outputs": [],
   "source": [
    "st_20 = stops >> select(_.stop_id, _.geometry) >> inner_join(_, st_20, on='stop_id')"
   ]
  },
  {
   "cell_type": "code",
   "execution_count": null,
   "id": "8b71bbe9-26d0-42ec-8b30-a7cfdee2236e",
   "metadata": {
    "tags": []
   },
   "outputs": [],
   "source": [
    "st_20 = trips_to_stops(trips_20)"
   ]
  },
  {
   "cell_type": "code",
   "execution_count": null,
   "id": "99b2afea-3280-422c-b3b7-6e1c5ff54b5d",
   "metadata": {},
   "outputs": [],
   "source": [
    "#  SURF BRT area for joins...\n",
    "st_20 = st_20 >> filter(_.stop_sequence <= 27)"
   ]
  },
  {
   "cell_type": "code",
   "execution_count": null,
   "id": "c3da388c-807d-424b-9e69-51588401ef2a",
   "metadata": {},
   "outputs": [],
   "source": [
    "# st_20.explore()"
   ]
  },
  {
   "cell_type": "code",
   "execution_count": null,
   "id": "0bfacea0-f958-4a65-90f3-2fec0ab04fd6",
   "metadata": {},
   "outputs": [],
   "source": [
    "st_ab = trips_to_stops(ab_trips)"
   ]
  },
  {
   "cell_type": "code",
   "execution_count": null,
   "id": "25ab4e55-c0cf-4919-b9ef-41e665c9a136",
   "metadata": {},
   "outputs": [],
   "source": [
    "# st_ab.explore()"
   ]
  },
  {
   "cell_type": "code",
   "execution_count": null,
   "id": "27a834eb-34b0-46a4-9f0d-75534812a336",
   "metadata": {},
   "outputs": [],
   "source": [
    "surf_corridor = pd.concat([st_20, st_ab])"
   ]
  },
  {
   "cell_type": "code",
   "execution_count": null,
   "id": "72671c73-1331-4888-a6e4-5a8cc3a34a16",
   "metadata": {},
   "outputs": [],
   "source": [
    "surf_corridor.explore()"
   ]
  },
  {
   "cell_type": "markdown",
   "id": "1ca1517e-876d-49ae-82c1-973e02116745",
   "metadata": {},
   "source": [
    "## Wilshire"
   ]
  },
  {
   "cell_type": "code",
   "execution_count": null,
   "id": "ed2d3a3a-3473-4174-91b7-56c4e6759e9d",
   "metadata": {},
   "outputs": [],
   "source": [
    "metro = feeds >> filter(_.name.str.contains('LA Metro Bus'))\n",
    "metro"
   ]
  },
  {
   "cell_type": "code",
   "execution_count": null,
   "id": "030ebc15-6824-47a6-b781-11628b74d848",
   "metadata": {},
   "outputs": [],
   "source": [
    "stops = shared_utils.gtfs_utils_v2.get_stops(analysis_date, metro.feed_key)"
   ]
  },
  {
   "cell_type": "code",
   "execution_count": null,
   "id": "c1e324d3-7891-40f2-bd7b-2389fa36ee26",
   "metadata": {},
   "outputs": [],
   "source": [
    "trips = shared_utils.gtfs_utils_v2.get_trips(analysis_date, metro.feed_key)"
   ]
  },
  {
   "cell_type": "code",
   "execution_count": null,
   "id": "384bc785-79ed-4ca8-be5d-14a0480e98cf",
   "metadata": {},
   "outputs": [],
   "source": [
    "trips.route_short_name.unique()"
   ]
  },
  {
   "cell_type": "code",
   "execution_count": null,
   "id": "1b6fde5e-1394-4350-b483-1c1e6ad1dabb",
   "metadata": {},
   "outputs": [],
   "source": [
    "trips_720 = trips >> filter(_.route_short_name.isin(['720']), _.direction_id == 0)"
   ]
  },
  {
   "cell_type": "code",
   "execution_count": null,
   "id": "fed54ea9-8157-425a-889a-1069d77265ca",
   "metadata": {
    "tags": []
   },
   "outputs": [],
   "source": [
    "st_720 = trips_to_stops(trips_720, metro.feed_key)"
   ]
  },
  {
   "cell_type": "code",
   "execution_count": null,
   "id": "38b16a39-5d16-45bd-a9e4-71c22cacdb7f",
   "metadata": {},
   "outputs": [],
   "source": [
    "#  only keep W of Wil/Wstn\n",
    "st_720 = st_720 >> filter(_.stop_sequence <= 11)"
   ]
  },
  {
   "cell_type": "code",
   "execution_count": null,
   "id": "3e04bc76-99c8-4930-a754-fc4c2c0f3597",
   "metadata": {},
   "outputs": [],
   "source": [
    "st_720.explore()"
   ]
  },
  {
   "cell_type": "markdown",
   "id": "5cf215ef-e257-4405-b4a6-c1c0eab26116",
   "metadata": {},
   "source": [
    "## Fresno Route 1"
   ]
  },
  {
   "cell_type": "markdown",
   "id": "0378b6eb-ab6c-40f3-94a4-3aec913d6a3d",
   "metadata": {},
   "source": [
    "## San Pablo Ave"
   ]
  },
  {
   "cell_type": "markdown",
   "id": "3a01d280-a612-4e72-8b06-e98aae3426d6",
   "metadata": {},
   "source": [
    "## Eureka Route TBD"
   ]
  },
  {
   "cell_type": "markdown",
   "id": "c5d6a929-e7e4-4074-9467-2e7aaed57ddb",
   "metadata": {
    "jp-MarkdownHeadingCollapsed": true,
    "tags": []
   },
   "source": [
    "## Sjoin and calculate"
   ]
  },
  {
   "cell_type": "code",
   "execution_count": null,
   "id": "a3551c17-c263-41b6-9f81-632afc134988",
   "metadata": {},
   "outputs": [],
   "source": [
    "surf_corridor = surf_corridor.to_crs(geography_utils.CA_NAD83Albers)\n",
    "st_720 = st_720.to_crs(geography_utils.CA_NAD83Albers)"
   ]
  },
  {
   "cell_type": "code",
   "execution_count": null,
   "id": "2e3caf3a-42b1-4520-be55-1f5c59655607",
   "metadata": {},
   "outputs": [],
   "source": [
    "#  half-mile buffer stop areas, corridors should be broader...\n",
    "surf_corridor.geometry = surf_corridor.buffer(804) \n",
    "st_720.geometry = st_720.buffer(804)"
   ]
  },
  {
   "cell_type": "code",
   "execution_count": null,
   "id": "52860ef0-afdf-478a-98c8-6a2eed4d44f1",
   "metadata": {},
   "outputs": [],
   "source": [
    "gdf = gdf >> select(-_.index_left, -_.index_right)"
   ]
  },
  {
   "cell_type": "code",
   "execution_count": null,
   "id": "1e6c6cbc-c388-43c3-8340-25d7b1519152",
   "metadata": {},
   "outputs": [],
   "source": [
    "surf = gpd.sjoin(gdf, surf_corridor) >> distinct(_.GEOID, _keep_all=True)"
   ]
  },
  {
   "cell_type": "code",
   "execution_count": null,
   "id": "884d4536-874d-432b-8e0e-fbe71c9160fb",
   "metadata": {},
   "outputs": [],
   "source": [
    "surf.explore(column = 'projected_new_transit_trips', scheme = 'NaturalBreaks')"
   ]
  },
  {
   "cell_type": "code",
   "execution_count": null,
   "id": "8821c382-1d27-4dd3-994b-6d73e9b384b1",
   "metadata": {},
   "outputs": [],
   "source": [
    "wilshire = gpd.sjoin(gdf, st_720) >> distinct(_.GEOID, _keep_all=True)"
   ]
  },
  {
   "cell_type": "code",
   "execution_count": null,
   "id": "b6541ddd-66b0-4462-abc0-d9542bf1e082",
   "metadata": {},
   "outputs": [],
   "source": [
    "wilshire.explore(column = 'projected_new_transit_trips', scheme = 'NaturalBreaks')"
   ]
  },
  {
   "cell_type": "code",
   "execution_count": null,
   "id": "4088fd65-a36c-4a54-a859-4bb954c5ce4c",
   "metadata": {},
   "outputs": [],
   "source": [
    "surf.describe()"
   ]
  },
  {
   "cell_type": "code",
   "execution_count": null,
   "id": "a2169877-c50e-48f1-9729-7d37a7841e85",
   "metadata": {},
   "outputs": [],
   "source": [
    "wilshire.describe()"
   ]
  },
  {
   "cell_type": "code",
   "execution_count": null,
   "id": "00959a08-aa6f-4a64-8f38-f90636a84d8a",
   "metadata": {},
   "outputs": [],
   "source": [
    "surf.sum()"
   ]
  },
  {
   "cell_type": "code",
   "execution_count": null,
   "id": "481d4803-9e48-4cee-9fe9-181e3caa33f9",
   "metadata": {},
   "outputs": [],
   "source": [
    "wilshire.sum()"
   ]
  },
  {
   "cell_type": "code",
   "execution_count": null,
   "id": "b693889c-093a-46b4-8160-1c58f5512551",
   "metadata": {},
   "outputs": [],
   "source": []
  }
 ],
 "metadata": {
  "kernelspec": {
   "display_name": "Python 3 (ipykernel)",
   "language": "python",
   "name": "python3"
  },
  "language_info": {
   "codemirror_mode": {
    "name": "ipython",
    "version": 3
   },
   "file_extension": ".py",
   "mimetype": "text/x-python",
   "name": "python",
   "nbconvert_exporter": "python",
   "pygments_lexer": "ipython3",
   "version": "3.9.13"
  },
  "widgets": {
   "application/vnd.jupyter.widget-state+json": {
    "state": {},
    "version_major": 2,
    "version_minor": 0
   }
  }
 },
 "nbformat": 4,
 "nbformat_minor": 5
}
