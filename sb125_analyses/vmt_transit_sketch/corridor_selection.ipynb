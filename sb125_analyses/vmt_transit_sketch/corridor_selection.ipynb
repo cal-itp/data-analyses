{
 "cells": [
  {
   "cell_type": "code",
   "execution_count": null,
   "id": "9e8158c2-a7f9-4b3c-a518-037132adf0c3",
   "metadata": {},
   "outputs": [],
   "source": [
    "import pandas as pd\n",
    "import geopandas as gpd\n",
    "from calitp_data_analysis.gcs_geopandas import GCSGeoPandas\n",
    "gcsgp = GCSGeoPandas()"
   ]
  },
  {
   "cell_type": "code",
   "execution_count": null,
   "id": "81cddca7-bea4-494d-b0cb-02508d52b380",
   "metadata": {},
   "outputs": [],
   "source": [
    "import zipfile"
   ]
  },
  {
   "cell_type": "code",
   "execution_count": null,
   "id": "15475e21-db2a-4f64-a2bc-38f2b76b9a4f",
   "metadata": {
    "tags": []
   },
   "outputs": [],
   "source": [
    "! pip install pygris"
   ]
  },
  {
   "cell_type": "code",
   "execution_count": null,
   "id": "96ade11c-7663-47bb-9414-f649c2f40c06",
   "metadata": {},
   "outputs": [],
   "source": [
    "from _utils import GCS_PATH"
   ]
  },
  {
   "cell_type": "code",
   "execution_count": null,
   "id": "682268e8-78fc-4609-afc5-294f3c650b5e",
   "metadata": {},
   "outputs": [],
   "source": [
    "import _utils\n",
    "import importlib\n",
    "importlib.reload(_utils)"
   ]
  },
  {
   "cell_type": "code",
   "execution_count": null,
   "id": "e269a698-e8bf-4af7-a53c-45265ca7e5ad",
   "metadata": {},
   "outputs": [],
   "source": [
    "import shared_utils\n",
    "from calitp_data_analysis import geography_utils, utils"
   ]
  },
  {
   "cell_type": "markdown",
   "id": "0664b67b-b63d-4357-b855-20a33bc8d6d7",
   "metadata": {},
   "source": [
    "# Selecting Corridors\n",
    "\n",
    "* also map and get per-corridor VMT-ridership results"
   ]
  },
  {
   "cell_type": "code",
   "execution_count": null,
   "id": "684770aa-d035-45d3-a3a4-ada6c51c2692",
   "metadata": {},
   "outputs": [],
   "source": [
    "analysis_date = '2023-04-15'"
   ]
  },
  {
   "cell_type": "code",
   "execution_count": null,
   "id": "b1424118-5e7c-4e00-9eee-1630d251cb14",
   "metadata": {},
   "outputs": [],
   "source": [
    "feeds = shared_utils.gtfs_utils_v2.schedule_daily_feed_to_gtfs_dataset_name(selected_date=analysis_date)"
   ]
  },
  {
   "cell_type": "code",
   "execution_count": null,
   "id": "081ae78d-9f96-4bca-b181-c6c40f3f8e76",
   "metadata": {},
   "outputs": [],
   "source": [
    "tracts = _utils.get_tract_geoms()"
   ]
  },
  {
   "cell_type": "code",
   "execution_count": null,
   "id": "17b9a0ff-d695-4b87-9aa1-6ee51ba9fd42",
   "metadata": {},
   "outputs": [],
   "source": [
    "tracts.GEOID = tracts.GEOID.astype('int64')"
   ]
  },
  {
   "cell_type": "code",
   "execution_count": null,
   "id": "e4c60ddb-cae7-42fa-86ef-a4dbab331640",
   "metadata": {},
   "outputs": [],
   "source": [
    "trips_all = gcsgp.read_parquet(f'{GCS_PATH}outputs/new_trips_with_uza.parquet')"
   ]
  },
  {
   "cell_type": "code",
   "execution_count": null,
   "id": "53cb95cd-7e8c-455d-ab47-fe3968582541",
   "metadata": {},
   "outputs": [],
   "source": [
    "def trips_to_stops(trip_df, feed_list):\n",
    "    st = shared_utils.gtfs_utils_v2.get_stop_times(analysis_date, feed_list, trip_df=trip_df,\n",
    "                                                  get_df=True)\n",
    "    st = st[['stop_id', 'stop_sequence']].drop_duplicates()\n",
    "    st = stops[['stop_id', 'geometry']].merge(st, on='stop_id')\n",
    "    return st"
   ]
  },
  {
   "cell_type": "code",
   "execution_count": null,
   "id": "1ed8886d-6403-438e-b5c6-b8dee2c61290",
   "metadata": {},
   "outputs": [],
   "source": [
    "def sjoin_tracts(stops_gdf, tracts_gdf, buffer_m):\n",
    "    \n",
    "    stops_gdf = stops_gdf.to_crs(geography_utils.CA_NAD83Albers_m)\n",
    "    assert stops_gdf.crs == tracts_gdf.crs\n",
    "    \n",
    "    stops_gdf.geometry = stops_gdf.buffer(buffer_m)\n",
    "    tracts_sjoined = gpd.sjoin(tracts_gdf, stops_gdf).drop_duplicates(subset=['GEOID'])\n",
    "    \n",
    "    return tracts_sjoined"
   ]
  },
  {
   "cell_type": "markdown",
   "id": "1ca1517e-876d-49ae-82c1-973e02116745",
   "metadata": {
    "tags": []
   },
   "source": [
    "## Wilshire"
   ]
  },
  {
   "cell_type": "code",
   "execution_count": null,
   "id": "ed2d3a3a-3473-4174-91b7-56c4e6759e9d",
   "metadata": {},
   "outputs": [],
   "source": [
    "metro = feeds.query(\"name.str.contains('LA Metro Bus')\")\n",
    "metro"
   ]
  },
  {
   "cell_type": "code",
   "execution_count": null,
   "id": "030ebc15-6824-47a6-b781-11628b74d848",
   "metadata": {},
   "outputs": [],
   "source": [
    "stops = shared_utils.gtfs_utils_v2.get_stops(analysis_date, metro.feed_key)"
   ]
  },
  {
   "cell_type": "code",
   "execution_count": null,
   "id": "c1e324d3-7891-40f2-bd7b-2389fa36ee26",
   "metadata": {},
   "outputs": [],
   "source": [
    "trips = shared_utils.gtfs_utils_v2.get_trips(analysis_date, metro.feed_key)"
   ]
  },
  {
   "cell_type": "code",
   "execution_count": null,
   "id": "384bc785-79ed-4ca8-be5d-14a0480e98cf",
   "metadata": {},
   "outputs": [],
   "source": [
    "trips.route_short_name.unique()"
   ]
  },
  {
   "cell_type": "code",
   "execution_count": null,
   "id": "1b6fde5e-1394-4350-b483-1c1e6ad1dabb",
   "metadata": {},
   "outputs": [],
   "source": [
    "trips_720 = trips.query('route_short_name.isin([\"720\"]) & direction_id == 0')"
   ]
  },
  {
   "cell_type": "code",
   "execution_count": null,
   "id": "fed54ea9-8157-425a-889a-1069d77265ca",
   "metadata": {
    "tags": []
   },
   "outputs": [],
   "source": [
    "st_720 = trips_to_stops(trips_720, metro.feed_key)"
   ]
  },
  {
   "cell_type": "code",
   "execution_count": null,
   "id": "38b16a39-5d16-45bd-a9e4-71c22cacdb7f",
   "metadata": {},
   "outputs": [],
   "source": [
    "#  only keep W of Wil/Wstn\n",
    "st_720 = st_720.query('stop_sequence <= 11')"
   ]
  },
  {
   "cell_type": "code",
   "execution_count": null,
   "id": "3e04bc76-99c8-4930-a754-fc4c2c0f3597",
   "metadata": {},
   "outputs": [],
   "source": [
    "# st_720.explore()"
   ]
  },
  {
   "cell_type": "code",
   "execution_count": null,
   "id": "cfb4f847-c5a0-43e2-b8d9-c11c4469c954",
   "metadata": {},
   "outputs": [],
   "source": [
    "wilshire = sjoin_tracts(st_720, tracts, 804)"
   ]
  },
  {
   "cell_type": "code",
   "execution_count": null,
   "id": "600ff9a4-5bbe-4078-9829-721842084f89",
   "metadata": {
    "tags": []
   },
   "outputs": [],
   "source": [
    "# wilshire.explore()"
   ]
  },
  {
   "cell_type": "code",
   "execution_count": null,
   "id": "9b786ecb-1a51-42b0-8fc8-7bad9c972c2e",
   "metadata": {},
   "outputs": [],
   "source": [
    "utils.geojson_gcs_export(wilshire, f'{GCS_PATH}intermediate/', 'wilshire')"
   ]
  },
  {
   "cell_type": "code",
   "execution_count": null,
   "id": "18a68442-9ab6-4973-868f-b22ace3ea90d",
   "metadata": {},
   "outputs": [],
   "source": [
    "# includes non-corridor vmt...\n",
    "wilshire_results = trips_all.query('GEOID.isin(@wilshire.GEOID)')"
   ]
  },
  {
   "cell_type": "code",
   "execution_count": null,
   "id": "0db59945-15cc-4800-8cd6-0efd01a21bfa",
   "metadata": {},
   "outputs": [],
   "source": [
    "# utils.make_zipped_shapefile(wilshire_results, 'wilsh')"
   ]
  },
  {
   "cell_type": "code",
   "execution_count": null,
   "id": "611272a6-9add-4218-90c9-ea3004d5e829",
   "metadata": {},
   "outputs": [],
   "source": [
    "wilshire_results.explore(column = 'projected_new_transit_trips', scheme = 'NaturalBreaks')"
   ]
  },
  {
   "cell_type": "code",
   "execution_count": null,
   "id": "3e882b73-446a-4b31-8a5d-e569fa4016ac",
   "metadata": {},
   "outputs": [],
   "source": [
    "wilshire_results.sum()"
   ]
  },
  {
   "cell_type": "code",
   "execution_count": null,
   "id": "645f8132-8062-4a3f-8b97-df79483b44df",
   "metadata": {},
   "outputs": [],
   "source": [
    "wilshire_results.describe()"
   ]
  },
  {
   "cell_type": "markdown",
   "id": "5cf215ef-e257-4405-b4a6-c1c0eab26116",
   "metadata": {
    "tags": []
   },
   "source": [
    "## Fresno Route 1"
   ]
  },
  {
   "cell_type": "code",
   "execution_count": null,
   "id": "7ac39af3-5a44-44b5-a084-ce24fb115874",
   "metadata": {},
   "outputs": [],
   "source": [
    "fresno = feeds.query(\"name.str.contains('Fresno Sch')\")\n",
    "fresno"
   ]
  },
  {
   "cell_type": "code",
   "execution_count": null,
   "id": "b1bde719-a199-41c9-b152-487c95a43732",
   "metadata": {},
   "outputs": [],
   "source": [
    "stops = shared_utils.gtfs_utils_v2.get_stops(analysis_date, fresno.feed_key)"
   ]
  },
  {
   "cell_type": "code",
   "execution_count": null,
   "id": "38f2c41e-88d5-4e2e-a3ee-7857746f6b78",
   "metadata": {},
   "outputs": [],
   "source": [
    "trips = shared_utils.gtfs_utils_v2.get_trips(analysis_date, fresno.feed_key)"
   ]
  },
  {
   "cell_type": "code",
   "execution_count": null,
   "id": "b3d2981b-4b1e-439d-b9bc-748e76e1db6b",
   "metadata": {},
   "outputs": [],
   "source": [
    "trips.route_short_name.unique()"
   ]
  },
  {
   "cell_type": "code",
   "execution_count": null,
   "id": "7128fd7b-ab96-47bf-999e-33d7cd586546",
   "metadata": {},
   "outputs": [],
   "source": [
    "trips_1 = trips.query(\"route_short_name.isin(['01']) & direction_id == 0 & trip_instance_key == 'db65a5adda0fc0a2744580354516ac68'\")"
   ]
  },
  {
   "cell_type": "code",
   "execution_count": null,
   "id": "a9d4ad6d-7a4a-48f2-91e1-7559c621015a",
   "metadata": {},
   "outputs": [],
   "source": [
    "st_1 = trips_to_stops(trips_1, fresno.feed_key)"
   ]
  },
  {
   "cell_type": "code",
   "execution_count": null,
   "id": "2431c3e0-9338-4693-a02b-93a17962e196",
   "metadata": {},
   "outputs": [],
   "source": [
    "st_1 = st_1.query('stop_sequence < 20') #  vertical portion only"
   ]
  },
  {
   "cell_type": "code",
   "execution_count": null,
   "id": "31156153-36c0-4d32-b834-553e8f8a95c6",
   "metadata": {},
   "outputs": [],
   "source": [
    "# st_1.explore()"
   ]
  },
  {
   "cell_type": "code",
   "execution_count": null,
   "id": "35393a07-ba6e-4c67-a427-a8bc07fa0345",
   "metadata": {},
   "outputs": [],
   "source": [
    "fresno = sjoin_tracts(st_1, tracts, 804) #  half-mile"
   ]
  },
  {
   "cell_type": "code",
   "execution_count": null,
   "id": "ea4f36ad-72f2-4959-846b-21baeab21a83",
   "metadata": {},
   "outputs": [],
   "source": [
    "# fresno.explore()"
   ]
  },
  {
   "cell_type": "code",
   "execution_count": null,
   "id": "bd46897a-2e88-4f7a-8d78-f950949fd4f1",
   "metadata": {},
   "outputs": [],
   "source": [
    "utils.geojson_gcs_export(fresno, f'{GCS_PATH}intermediate/', 'fresno')"
   ]
  },
  {
   "cell_type": "code",
   "execution_count": null,
   "id": "7e103935-97f3-4e5c-a11d-48f66a6331d3",
   "metadata": {},
   "outputs": [],
   "source": [
    "# includes non-corridor vmt...\n",
    "fresno_results = trips_all.query('GEOID.isin(@fresno.GEOID)')"
   ]
  },
  {
   "cell_type": "code",
   "execution_count": null,
   "id": "9e2a3a9c-5b72-47da-bfcb-73bf05b955b4",
   "metadata": {},
   "outputs": [],
   "source": [
    "fresno_results.explore(column = 'projected_new_transit_trips', scheme = 'NaturalBreaks')"
   ]
  },
  {
   "cell_type": "code",
   "execution_count": null,
   "id": "294f0011-d722-4cd1-b3e4-88c3de380b21",
   "metadata": {},
   "outputs": [],
   "source": [
    "fresno_results.sum()"
   ]
  },
  {
   "cell_type": "code",
   "execution_count": null,
   "id": "ef648be9-0c5a-40fa-8351-591175802794",
   "metadata": {},
   "outputs": [],
   "source": [
    "fresno_results.describe()"
   ]
  },
  {
   "cell_type": "markdown",
   "id": "0378b6eb-ab6c-40f3-94a4-3aec913d6a3d",
   "metadata": {
    "tags": []
   },
   "source": [
    "## San Pablo Ave"
   ]
  },
  {
   "cell_type": "code",
   "execution_count": null,
   "id": "8e8a3159-40a9-4763-afa2-a325679d9ff2",
   "metadata": {},
   "outputs": [],
   "source": [
    "ac = feeds.query(\"name.str.contains('AC Transit')\")\n",
    "ac"
   ]
  },
  {
   "cell_type": "code",
   "execution_count": null,
   "id": "6aec2329-d7f7-463e-86f0-12b609048529",
   "metadata": {},
   "outputs": [],
   "source": [
    "stops = shared_utils.gtfs_utils_v2.get_stops(analysis_date, ac.feed_key)"
   ]
  },
  {
   "cell_type": "code",
   "execution_count": null,
   "id": "5c960435-da71-4074-aaea-15a8f12b18ca",
   "metadata": {},
   "outputs": [],
   "source": [
    "trips = shared_utils.gtfs_utils_v2.get_trips(analysis_date, ac.feed_key)"
   ]
  },
  {
   "cell_type": "code",
   "execution_count": null,
   "id": "85ba91ca-e882-47b8-a343-ac5eab3b0a4e",
   "metadata": {},
   "outputs": [],
   "source": [
    "trips.route_short_name.unique()"
   ]
  },
  {
   "cell_type": "code",
   "execution_count": null,
   "id": "fcbd0633-395a-4bea-8c64-b21cb5ecd64f",
   "metadata": {},
   "outputs": [],
   "source": [
    "trips_72r = trips.query(\"route_short_name.isin(['72R']) & direction_id == 0\")"
   ]
  },
  {
   "cell_type": "code",
   "execution_count": null,
   "id": "e1359516-eddf-4cde-ba35-32dd8f7e5535",
   "metadata": {
    "tags": []
   },
   "outputs": [],
   "source": [
    "st_72r = trips_to_stops(trips_72r, ac.feed_key)"
   ]
  },
  {
   "cell_type": "code",
   "execution_count": null,
   "id": "3f7cee73-690e-45bd-9d09-203f031e53e4",
   "metadata": {},
   "outputs": [],
   "source": [
    "# st_72r.explore()"
   ]
  },
  {
   "cell_type": "code",
   "execution_count": null,
   "id": "71962307-67d1-4670-b3e2-14dea1c0770f",
   "metadata": {},
   "outputs": [],
   "source": [
    "san_pablo = sjoin_tracts(st_72r, tracts, 804) #  half-mile"
   ]
  },
  {
   "cell_type": "code",
   "execution_count": null,
   "id": "27970e7d-d3a2-44c9-9c5b-aa839cf6c4dc",
   "metadata": {},
   "outputs": [],
   "source": [
    "# san_pablo.explore()"
   ]
  },
  {
   "cell_type": "code",
   "execution_count": null,
   "id": "84d3e178-0f8b-4f1a-9180-8b75c85376f2",
   "metadata": {},
   "outputs": [],
   "source": [
    "utils.geojson_gcs_export(san_pablo, f'{GCS_PATH}intermediate/', 'san_pablo')"
   ]
  },
  {
   "cell_type": "code",
   "execution_count": null,
   "id": "4b582ebe-abff-45b9-9a50-59aa8b5919c3",
   "metadata": {},
   "outputs": [],
   "source": [
    "# includes non-corridor vmt...\n",
    "san_pablo_results = trips_all.query('GEOID.isin(@san_pablo.GEOID)')"
   ]
  },
  {
   "cell_type": "code",
   "execution_count": null,
   "id": "a2eb977c-6779-4916-8576-385c6808e21a",
   "metadata": {},
   "outputs": [],
   "source": [
    "san_pablo_results.explore(column = 'projected_new_transit_trips', scheme = 'NaturalBreaks')"
   ]
  },
  {
   "cell_type": "code",
   "execution_count": null,
   "id": "d5dea582-473e-4157-98bb-5a3572631b42",
   "metadata": {},
   "outputs": [],
   "source": [
    "san_pablo_results.sum()"
   ]
  },
  {
   "cell_type": "code",
   "execution_count": null,
   "id": "369166fe-baf8-4bc2-86f8-c637b86c23bd",
   "metadata": {},
   "outputs": [],
   "source": [
    "san_pablo_results.describe()"
   ]
  },
  {
   "cell_type": "markdown",
   "id": "73b906dd-19e4-496e-b468-bd47fb3082be",
   "metadata": {
    "tags": []
   },
   "source": [
    "## Eureka H Street/Purple Route"
   ]
  },
  {
   "cell_type": "code",
   "execution_count": null,
   "id": "7b248c72-9b00-4451-9843-02cb2c80c39a",
   "metadata": {},
   "outputs": [],
   "source": [
    "eureka = feeds.query(\"name.str.contains('Humboldt Schedule')\")\n",
    "eureka"
   ]
  },
  {
   "cell_type": "code",
   "execution_count": null,
   "id": "2136f99f-3c01-406e-8c60-9b3bba2f9920",
   "metadata": {},
   "outputs": [],
   "source": [
    "stops = shared_utils.gtfs_utils_v2.get_stops(analysis_date, eureka.feed_key)"
   ]
  },
  {
   "cell_type": "code",
   "execution_count": null,
   "id": "3b75f1b9-184c-4667-81a4-261b1105249e",
   "metadata": {},
   "outputs": [],
   "source": [
    "trips = shared_utils.gtfs_utils_v2.get_trips(analysis_date, eureka.feed_key)"
   ]
  },
  {
   "cell_type": "code",
   "execution_count": null,
   "id": "3030e4cc-b573-4083-9e2c-ee8c947160ef",
   "metadata": {},
   "outputs": [],
   "source": [
    "trips.route_short_name.unique()"
   ]
  },
  {
   "cell_type": "code",
   "execution_count": null,
   "id": "4750a733-a639-4b7f-a78f-da1683c6a594",
   "metadata": {},
   "outputs": [],
   "source": [
    "trips.route_long_name.unique()"
   ]
  },
  {
   "cell_type": "code",
   "execution_count": null,
   "id": "19722dc1-21ad-4186-93d3-36b6522ba246",
   "metadata": {},
   "outputs": [],
   "source": [
    "trips_rainbow = trips.query(\"route_long_name.isin(['Rainbow Route']) & direction_id == 0\")"
   ]
  },
  {
   "cell_type": "code",
   "execution_count": null,
   "id": "93a000d8-6e6b-47aa-9a82-98932989ba7b",
   "metadata": {
    "tags": []
   },
   "outputs": [],
   "source": [
    "st_rainbow = trips_to_stops(trips_rainbow, eureka.feed_key)"
   ]
  },
  {
   "cell_type": "code",
   "execution_count": null,
   "id": "eeaeaafc-819c-4727-9768-2a904a6437df",
   "metadata": {},
   "outputs": [],
   "source": [
    "st_rainbow = st_rainbow.query('stop_sequence >= 35')"
   ]
  },
  {
   "cell_type": "code",
   "execution_count": null,
   "id": "eb39f64d-adaf-4391-b205-1b12ef6a1760",
   "metadata": {},
   "outputs": [],
   "source": [
    "# st_rainbow.explore()"
   ]
  },
  {
   "cell_type": "code",
   "execution_count": null,
   "id": "370fca77-e994-471f-8888-010b52738bec",
   "metadata": {},
   "outputs": [],
   "source": [
    "eureka = sjoin_tracts(st_rainbow, tracts, 804) #  half-mile"
   ]
  },
  {
   "cell_type": "code",
   "execution_count": null,
   "id": "8e887ff3-1332-4836-9842-7087ac93140a",
   "metadata": {},
   "outputs": [],
   "source": [
    "utils.geojson_gcs_export(eureka, f'{GCS_PATH}intermediate/', 'eureka')"
   ]
  },
  {
   "cell_type": "code",
   "execution_count": null,
   "id": "1fc10aac-0bf0-4d6b-9e8f-0156eb2df1d9",
   "metadata": {},
   "outputs": [],
   "source": [
    "# includes non-corridor vmt...\n",
    "eureka_results = trips_all.query('GEOID.isin(@eureka.GEOID)')"
   ]
  },
  {
   "cell_type": "code",
   "execution_count": null,
   "id": "6ff25cc5-b2aa-4e71-a5dc-2d70396c3805",
   "metadata": {},
   "outputs": [],
   "source": [
    "eureka_results.explore(column = 'projected_new_transit_trips', scheme = 'NaturalBreaks')"
   ]
  },
  {
   "cell_type": "code",
   "execution_count": null,
   "id": "3020e29d-a035-4248-b990-efc0947d02dd",
   "metadata": {},
   "outputs": [],
   "source": [
    "eureka_results.sum()"
   ]
  },
  {
   "cell_type": "code",
   "execution_count": null,
   "id": "3a4e5ef0-f5d0-43ba-9895-d5542989383c",
   "metadata": {},
   "outputs": [],
   "source": [
    "eureka_results.describe()"
   ]
  },
  {
   "cell_type": "markdown",
   "id": "6d4fdb29-2b3b-4055-ada9-b5b149db9f6c",
   "metadata": {},
   "source": [
    "# All Corridors Summary"
   ]
  },
  {
   "cell_type": "code",
   "execution_count": null,
   "id": "98680b32-440f-4fc2-867c-ede1a1967393",
   "metadata": {},
   "outputs": [],
   "source": [
    "fresno_results['corridor'] = 'Fresno'\n",
    "san_pablo_results['corridor'] = 'San Pablo Ave'\n",
    "wilshire_results['corridor'] = 'Wilshire'\n",
    "eureka_results['corridor'] = 'Eureka'"
   ]
  },
  {
   "cell_type": "code",
   "execution_count": null,
   "id": "263af4e4-07fe-4f74-ba78-b54829905a40",
   "metadata": {},
   "outputs": [],
   "source": [
    "all_results = pd.concat([fresno_results, san_pablo_results, wilshire_results, eureka_results])"
   ]
  },
  {
   "cell_type": "code",
   "execution_count": null,
   "id": "6db13711-21a4-4c23-9a29-b39aaf14a7a8",
   "metadata": {
    "tags": []
   },
   "outputs": [],
   "source": [
    "grouped = all_results.groupby('corridor').agg(\n",
    "    total_new_transit_trips = ('projected_new_transit_trips', 'sum'),\n",
    "    total_population = ('total_pop', 'sum'),\n",
    "    total_vmt = ('total_mi_auto', 'sum'),\n",
    "    p50_auto_trip_mi =('p50_mi_auto', 'median'),\n",
    "    total_auto_trips = ('total_trips_auto', 'sum')\n",
    ").reset_index()\n",
    "grouped"
   ]
  },
  {
   "cell_type": "code",
   "execution_count": null,
   "id": "ec1c335e-0a92-49d4-a2ca-89b654f46935",
   "metadata": {},
   "outputs": [],
   "source": [
    "# grouped.to_csv(f'vmt_transit_corridors.csv')"
   ]
  }
 ],
 "metadata": {
  "kernelspec": {
   "display_name": "Python 3 (ipykernel)",
   "language": "python",
   "name": "python3"
  },
  "language_info": {
   "codemirror_mode": {
    "name": "ipython",
    "version": 3
   },
   "file_extension": ".py",
   "mimetype": "text/x-python",
   "name": "python",
   "nbconvert_exporter": "python",
   "pygments_lexer": "ipython3",
   "version": "3.11.10"
  },
  "widgets": {
   "application/vnd.jupyter.widget-state+json": {
    "state": {},
    "version_major": 2,
    "version_minor": 0
   }
  }
 },
 "nbformat": 4,
 "nbformat_minor": 5
}
