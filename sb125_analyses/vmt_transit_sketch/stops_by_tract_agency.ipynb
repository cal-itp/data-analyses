{
 "cells": [
  {
   "cell_type": "code",
   "execution_count": 10,
   "id": "fb2a05d3-43f5-4f43-aeb8-c99154742cf3",
   "metadata": {},
   "outputs": [],
   "source": [
    "import os\n",
    "os.environ[\"CALITP_BQ_MAX_BYTES\"] = str(800_000_000_000)\n",
    "\n",
    "from calitp_data_analysis.tables import tbls\n",
    "\n",
    "import pandas as pd\n",
    "import geopandas as gpd\n",
    "from siuba import *\n",
    "\n",
    "import shared_utils"
   ]
  },
  {
   "cell_type": "code",
   "execution_count": 17,
   "id": "87cd3826-9ffa-4967-a7b9-f4e0a13f8fea",
   "metadata": {},
   "outputs": [
    {
     "name": "stderr",
     "output_type": "stream",
     "text": [
      "/opt/conda/lib/python3.9/site-packages/sqlalchemy_bigquery/_types.py:101: SAWarning: Did not recognize type 'GEOGRAPHY' of column 'pt_geom'\n",
      "  sqlalchemy.util.warn(\n"
     ]
    }
   ],
   "source": [
    "stops = (tbls.mart_gtfs.fct_daily_scheduled_stops()\n",
    "    >> filter(_.service_date == '2023-09-13')\n",
    "    >> select(_.service_date, _.feed_key, _.stop_id,\n",
    "              _.pt_geom)\n",
    "    >> collect()\n",
    ")"
   ]
  },
  {
   "cell_type": "code",
   "execution_count": 18,
   "id": "bfedf45a-4432-48ce-93e4-e7bd9ca52c88",
   "metadata": {},
   "outputs": [],
   "source": [
    "stops = gpd.GeoDataFrame(stops,\n",
    "                         geometry=gpd.geoseries.from_wkt(stops['pt_geom'].to_numpy()),\n",
    "                         crs='EPSG:4326') >> select(-_.pt_geom)"
   ]
  },
  {
   "cell_type": "code",
   "execution_count": 19,
   "id": "020d6db2-3db1-4236-bef3-b1d7cb6b5e76",
   "metadata": {},
   "outputs": [
    {
     "data": {
      "text/html": [
       "<div>\n",
       "<style scoped>\n",
       "    .dataframe tbody tr th:only-of-type {\n",
       "        vertical-align: middle;\n",
       "    }\n",
       "\n",
       "    .dataframe tbody tr th {\n",
       "        vertical-align: top;\n",
       "    }\n",
       "\n",
       "    .dataframe thead th {\n",
       "        text-align: right;\n",
       "    }\n",
       "</style>\n",
       "<table border=\"1\" class=\"dataframe\">\n",
       "  <thead>\n",
       "    <tr style=\"text-align: right;\">\n",
       "      <th></th>\n",
       "      <th>service_date</th>\n",
       "      <th>feed_key</th>\n",
       "      <th>stop_id</th>\n",
       "      <th>geometry</th>\n",
       "    </tr>\n",
       "  </thead>\n",
       "  <tbody>\n",
       "    <tr>\n",
       "      <th>0</th>\n",
       "      <td>2023-09-13</td>\n",
       "      <td>b45b85ee42cd6a4311beab4aaf7e09d8</td>\n",
       "      <td>29340</td>\n",
       "      <td>POINT (-120.46339 36.86854)</td>\n",
       "    </tr>\n",
       "    <tr>\n",
       "      <th>1</th>\n",
       "      <td>2023-09-13</td>\n",
       "      <td>b45b85ee42cd6a4311beab4aaf7e09d8</td>\n",
       "      <td>29343</td>\n",
       "      <td>POINT (-120.45270 36.85343)</td>\n",
       "    </tr>\n",
       "    <tr>\n",
       "      <th>2</th>\n",
       "      <td>2023-09-13</td>\n",
       "      <td>b45b85ee42cd6a4311beab4aaf7e09d8</td>\n",
       "      <td>29344</td>\n",
       "      <td>POINT (-120.45195 36.85275)</td>\n",
       "    </tr>\n",
       "  </tbody>\n",
       "</table>\n",
       "</div>"
      ],
      "text/plain": [
       "  service_date                          feed_key stop_id  \\\n",
       "0   2023-09-13  b45b85ee42cd6a4311beab4aaf7e09d8   29340   \n",
       "1   2023-09-13  b45b85ee42cd6a4311beab4aaf7e09d8   29343   \n",
       "2   2023-09-13  b45b85ee42cd6a4311beab4aaf7e09d8   29344   \n",
       "\n",
       "                      geometry  \n",
       "0  POINT (-120.46339 36.86854)  \n",
       "1  POINT (-120.45270 36.85343)  \n",
       "2  POINT (-120.45195 36.85275)  "
      ]
     },
     "execution_count": 19,
     "metadata": {},
     "output_type": "execute_result"
    }
   ],
   "source": [
    "stops >> head(3)"
   ]
  },
  {
   "cell_type": "code",
   "execution_count": 12,
   "id": "01ea2314-0a85-4763-8d75-b88d58316dc7",
   "metadata": {},
   "outputs": [
    {
     "data": {
      "text/plain": [
       "(119150, 4)"
      ]
     },
     "execution_count": 12,
     "metadata": {},
     "output_type": "execute_result"
    }
   ],
   "source": [
    "stops.shape"
   ]
  },
  {
   "cell_type": "code",
   "execution_count": 13,
   "id": "44720400-e450-45aa-910e-8bbe35a4bea3",
   "metadata": {},
   "outputs": [],
   "source": [
    "# (stops >> head(1000) >> select(-_.service_date)).explore()"
   ]
  },
  {
   "cell_type": "code",
   "execution_count": 1,
   "id": "0aeb9be7-4fec-4c1a-94f4-53ba0ffaf5cc",
   "metadata": {
    "collapsed": true,
    "jupyter": {
     "outputs_hidden": true
    },
    "tags": []
   },
   "outputs": [
    {
     "name": "stdout",
     "output_type": "stream",
     "text": [
      "Collecting pygris\n",
      "  Downloading pygris-0.1.6-py3-none-any.whl (55 kB)\n",
      "\u001b[2K     \u001b[90m━━━━━━━━━━━━━━━━━━━━━━━━━━━━━━━━━━━━━━━\u001b[0m \u001b[32m55.7/55.7 kB\u001b[0m \u001b[31m873.6 kB/s\u001b[0m eta \u001b[36m0:00:00\u001b[0m \u001b[36m0:00:01\u001b[0m\n",
      "\u001b[?25hRequirement already satisfied: requests in /opt/conda/lib/python3.9/site-packages (from pygris) (2.31.0)\n",
      "Requirement already satisfied: shapely in /opt/conda/lib/python3.9/site-packages (from pygris) (2.0.1)\n",
      "Requirement already satisfied: fiona in /opt/conda/lib/python3.9/site-packages (from pygris) (1.9.4.post1)\n",
      "Requirement already satisfied: rtree in /opt/conda/lib/python3.9/site-packages (from pygris) (0.9.7)\n",
      "Requirement already satisfied: pandas in /opt/conda/lib/python3.9/site-packages (from pygris) (1.5.3)\n",
      "Requirement already satisfied: appdirs in /opt/conda/lib/python3.9/site-packages (from pygris) (1.4.4)\n",
      "Requirement already satisfied: geopandas>=0.9 in /opt/conda/lib/python3.9/site-packages (from pygris) (0.14.0)\n",
      "Requirement already satisfied: numpy in /opt/conda/lib/python3.9/site-packages (from pygris) (1.23.5)\n",
      "Requirement already satisfied: pip in /opt/conda/lib/python3.9/site-packages (from pygris) (22.2.2)\n",
      "Requirement already satisfied: packaging in /opt/conda/lib/python3.9/site-packages (from geopandas>=0.9->pygris) (23.1)\n",
      "Requirement already satisfied: pyproj>=3.3.0 in /opt/conda/lib/python3.9/site-packages (from geopandas>=0.9->pygris) (3.6.0)\n",
      "Requirement already satisfied: cligj>=0.5 in /opt/conda/lib/python3.9/site-packages (from fiona->pygris) (0.7.2)\n",
      "Requirement already satisfied: click~=8.0 in /opt/conda/lib/python3.9/site-packages (from fiona->pygris) (8.1.6)\n",
      "Requirement already satisfied: certifi in /opt/conda/lib/python3.9/site-packages (from fiona->pygris) (2023.7.22)\n",
      "Requirement already satisfied: six in /opt/conda/lib/python3.9/site-packages (from fiona->pygris) (1.16.0)\n",
      "Requirement already satisfied: attrs>=19.2.0 in /opt/conda/lib/python3.9/site-packages (from fiona->pygris) (21.4.0)\n",
      "Requirement already satisfied: click-plugins>=1.0 in /opt/conda/lib/python3.9/site-packages (from fiona->pygris) (1.1.1)\n",
      "Requirement already satisfied: importlib-metadata in /opt/conda/lib/python3.9/site-packages (from fiona->pygris) (6.8.0)\n",
      "Requirement already satisfied: python-dateutil>=2.8.1 in /opt/conda/lib/python3.9/site-packages (from pandas->pygris) (2.8.2)\n",
      "Requirement already satisfied: pytz>=2020.1 in /opt/conda/lib/python3.9/site-packages (from pandas->pygris) (2023.3)\n",
      "Requirement already satisfied: urllib3<3,>=1.21.1 in /opt/conda/lib/python3.9/site-packages (from requests->pygris) (1.26.18)\n",
      "Requirement already satisfied: idna<4,>=2.5 in /opt/conda/lib/python3.9/site-packages (from requests->pygris) (3.4)\n",
      "Requirement already satisfied: charset-normalizer<4,>=2 in /opt/conda/lib/python3.9/site-packages (from requests->pygris) (3.2.0)\n",
      "Requirement already satisfied: zipp>=0.5 in /opt/conda/lib/python3.9/site-packages (from importlib-metadata->fiona->pygris) (3.16.2)\n",
      "Installing collected packages: pygris\n",
      "Successfully installed pygris-0.1.6\n"
     ]
    }
   ],
   "source": [
    "! pip install pygris"
   ]
  },
  {
   "cell_type": "code",
   "execution_count": 2,
   "id": "fd4da62d-b1ab-41fa-b778-0ac7afeda451",
   "metadata": {},
   "outputs": [],
   "source": [
    "import pygris"
   ]
  },
  {
   "cell_type": "code",
   "execution_count": 7,
   "id": "9ea24b20-6069-4453-a30f-78a0d74f7a85",
   "metadata": {},
   "outputs": [
    {
     "name": "stdout",
     "output_type": "stream",
     "text": [
      "Using the default year of 2021\n"
     ]
    }
   ],
   "source": [
    "uza = pygris.urban_areas()"
   ]
  },
  {
   "cell_type": "code",
   "execution_count": 31,
   "id": "d03c436a-cb22-416c-acc7-c2dd70f838b6",
   "metadata": {},
   "outputs": [],
   "source": [
    "ca_uza = uza >> filter(_.NAME10.str.contains('CA'))"
   ]
  },
  {
   "cell_type": "code",
   "execution_count": 13,
   "id": "541bfaa1-328e-45be-8bb8-5dfa6d84a098",
   "metadata": {},
   "outputs": [],
   "source": [
    "ca_tracts = pygris.tracts(state='CA', year=2020)\n",
    "\n",
    "ca_tracts = ca_tracts >> select(_.GEOID, _.geometry)\n",
    "\n",
    "ca_tracts = ca_tracts.to_crs(shared_utils.geography_utils.CA_NAD83Albers)"
   ]
  },
  {
   "cell_type": "code",
   "execution_count": 20,
   "id": "0dad5f52-2b6d-4329-82ad-bfd4b88292b1",
   "metadata": {},
   "outputs": [],
   "source": [
    "stops = stops.to_crs(shared_utils.geography_utils.CA_NAD83Albers)"
   ]
  },
  {
   "cell_type": "code",
   "execution_count": 21,
   "id": "4b060f23-b35d-49ee-a630-4e17537866d9",
   "metadata": {},
   "outputs": [
    {
     "data": {
      "text/html": [
       "<div>\n",
       "<style scoped>\n",
       "    .dataframe tbody tr th:only-of-type {\n",
       "        vertical-align: middle;\n",
       "    }\n",
       "\n",
       "    .dataframe tbody tr th {\n",
       "        vertical-align: top;\n",
       "    }\n",
       "\n",
       "    .dataframe thead th {\n",
       "        text-align: right;\n",
       "    }\n",
       "</style>\n",
       "<table border=\"1\" class=\"dataframe\">\n",
       "  <thead>\n",
       "    <tr style=\"text-align: right;\">\n",
       "      <th></th>\n",
       "      <th>service_date</th>\n",
       "      <th>feed_key</th>\n",
       "      <th>stop_id</th>\n",
       "      <th>geometry</th>\n",
       "    </tr>\n",
       "  </thead>\n",
       "  <tbody>\n",
       "    <tr>\n",
       "      <th>0</th>\n",
       "      <td>2023-09-13</td>\n",
       "      <td>b45b85ee42cd6a4311beab4aaf7e09d8</td>\n",
       "      <td>29340</td>\n",
       "      <td>POINT (-41252.686 -127493.402)</td>\n",
       "    </tr>\n",
       "    <tr>\n",
       "      <th>1</th>\n",
       "      <td>2023-09-13</td>\n",
       "      <td>b45b85ee42cd6a4311beab4aaf7e09d8</td>\n",
       "      <td>29343</td>\n",
       "      <td>POINT (-40309.757 -129177.891)</td>\n",
       "    </tr>\n",
       "    <tr>\n",
       "      <th>2</th>\n",
       "      <td>2023-09-13</td>\n",
       "      <td>b45b85ee42cd6a4311beab4aaf7e09d8</td>\n",
       "      <td>29344</td>\n",
       "      <td>POINT (-40242.891 -129253.681)</td>\n",
       "    </tr>\n",
       "    <tr>\n",
       "      <th>3</th>\n",
       "      <td>2023-09-13</td>\n",
       "      <td>b45b85ee42cd6a4311beab4aaf7e09d8</td>\n",
       "      <td>29347</td>\n",
       "      <td>POINT (-34017.110 -140003.552)</td>\n",
       "    </tr>\n",
       "    <tr>\n",
       "      <th>4</th>\n",
       "      <td>2023-09-13</td>\n",
       "      <td>b45b85ee42cd6a4311beab4aaf7e09d8</td>\n",
       "      <td>29348</td>\n",
       "      <td>POINT (-34004.854 -139993.376)</td>\n",
       "    </tr>\n",
       "    <tr>\n",
       "      <th>...</th>\n",
       "      <td>...</td>\n",
       "      <td>...</td>\n",
       "      <td>...</td>\n",
       "      <td>...</td>\n",
       "    </tr>\n",
       "    <tr>\n",
       "      <th>119145</th>\n",
       "      <td>2023-09-13</td>\n",
       "      <td>7519b1626b959b0fc517692b19431065</td>\n",
       "      <td>2611973</td>\n",
       "      <td>POINT (-83917.665 72237.829)</td>\n",
       "    </tr>\n",
       "    <tr>\n",
       "      <th>119146</th>\n",
       "      <td>2023-09-13</td>\n",
       "      <td>7519b1626b959b0fc517692b19431065</td>\n",
       "      <td>782799</td>\n",
       "      <td>POINT (-92741.321 70695.418)</td>\n",
       "    </tr>\n",
       "    <tr>\n",
       "      <th>119147</th>\n",
       "      <td>2023-09-13</td>\n",
       "      <td>7519b1626b959b0fc517692b19431065</td>\n",
       "      <td>782761</td>\n",
       "      <td>POINT (-72120.851 76963.261)</td>\n",
       "    </tr>\n",
       "    <tr>\n",
       "      <th>119148</th>\n",
       "      <td>2023-09-13</td>\n",
       "      <td>7519b1626b959b0fc517692b19431065</td>\n",
       "      <td>782795</td>\n",
       "      <td>POINT (-86800.440 71821.263)</td>\n",
       "    </tr>\n",
       "    <tr>\n",
       "      <th>119149</th>\n",
       "      <td>2023-09-13</td>\n",
       "      <td>7519b1626b959b0fc517692b19431065</td>\n",
       "      <td>782729</td>\n",
       "      <td>POINT (-68556.244 79949.100)</td>\n",
       "    </tr>\n",
       "  </tbody>\n",
       "</table>\n",
       "<p>119150 rows × 4 columns</p>\n",
       "</div>"
      ],
      "text/plain": [
       "       service_date                          feed_key  stop_id  \\\n",
       "0        2023-09-13  b45b85ee42cd6a4311beab4aaf7e09d8    29340   \n",
       "1        2023-09-13  b45b85ee42cd6a4311beab4aaf7e09d8    29343   \n",
       "2        2023-09-13  b45b85ee42cd6a4311beab4aaf7e09d8    29344   \n",
       "3        2023-09-13  b45b85ee42cd6a4311beab4aaf7e09d8    29347   \n",
       "4        2023-09-13  b45b85ee42cd6a4311beab4aaf7e09d8    29348   \n",
       "...             ...                               ...      ...   \n",
       "119145   2023-09-13  7519b1626b959b0fc517692b19431065  2611973   \n",
       "119146   2023-09-13  7519b1626b959b0fc517692b19431065   782799   \n",
       "119147   2023-09-13  7519b1626b959b0fc517692b19431065   782761   \n",
       "119148   2023-09-13  7519b1626b959b0fc517692b19431065   782795   \n",
       "119149   2023-09-13  7519b1626b959b0fc517692b19431065   782729   \n",
       "\n",
       "                              geometry  \n",
       "0       POINT (-41252.686 -127493.402)  \n",
       "1       POINT (-40309.757 -129177.891)  \n",
       "2       POINT (-40242.891 -129253.681)  \n",
       "3       POINT (-34017.110 -140003.552)  \n",
       "4       POINT (-34004.854 -139993.376)  \n",
       "...                                ...  \n",
       "119145    POINT (-83917.665 72237.829)  \n",
       "119146    POINT (-92741.321 70695.418)  \n",
       "119147    POINT (-72120.851 76963.261)  \n",
       "119148    POINT (-86800.440 71821.263)  \n",
       "119149    POINT (-68556.244 79949.100)  \n",
       "\n",
       "[119150 rows x 4 columns]"
      ]
     },
     "execution_count": 21,
     "metadata": {},
     "output_type": "execute_result"
    }
   ],
   "source": [
    "stops"
   ]
  },
  {
   "cell_type": "code",
   "execution_count": 23,
   "id": "3c503592-c647-494c-8a93-5ed966401d1b",
   "metadata": {},
   "outputs": [],
   "source": [
    "stops_in_tract = gpd.sjoin(ca_tracts, stops)"
   ]
  },
  {
   "cell_type": "code",
   "execution_count": 24,
   "id": "b4c8ec4e-fe36-42fe-9723-9787ba6ac167",
   "metadata": {},
   "outputs": [],
   "source": [
    "tracts_and_feeds = stops_in_tract >> distinct(_.GEOID, _.geometry, _.feed_key)"
   ]
  },
  {
   "cell_type": "code",
   "execution_count": 25,
   "id": "f78ab658-cd50-45a1-8a0b-bdf5b19d22ca",
   "metadata": {},
   "outputs": [
    {
     "data": {
      "text/html": [
       "<div>\n",
       "<style scoped>\n",
       "    .dataframe tbody tr th:only-of-type {\n",
       "        vertical-align: middle;\n",
       "    }\n",
       "\n",
       "    .dataframe tbody tr th {\n",
       "        vertical-align: top;\n",
       "    }\n",
       "\n",
       "    .dataframe thead th {\n",
       "        text-align: right;\n",
       "    }\n",
       "</style>\n",
       "<table border=\"1\" class=\"dataframe\">\n",
       "  <thead>\n",
       "    <tr style=\"text-align: right;\">\n",
       "      <th></th>\n",
       "      <th>GEOID</th>\n",
       "      <th>geometry</th>\n",
       "      <th>feed_key</th>\n",
       "    </tr>\n",
       "  </thead>\n",
       "  <tbody>\n",
       "    <tr>\n",
       "      <th>0</th>\n",
       "      <td>06029004402</td>\n",
       "      <td>POLYGON ((59906.842 -270407.558, 59906.948 -27...</td>\n",
       "      <td>88fde0226aecc4b91a3900f52214f03b</td>\n",
       "    </tr>\n",
       "    <tr>\n",
       "      <th>1</th>\n",
       "      <td>06029004402</td>\n",
       "      <td>POLYGON ((59906.842 -270407.558, 59906.948 -27...</td>\n",
       "      <td>c13333e968e573c9decd68bc7fc2555d</td>\n",
       "    </tr>\n",
       "    <tr>\n",
       "      <th>2</th>\n",
       "      <td>06047000802</td>\n",
       "      <td>POLYGON ((-52727.332 -74888.681, -52723.908 -7...</td>\n",
       "      <td>7a4bf0aaccd7aa130db46358ebdb5c26</td>\n",
       "    </tr>\n",
       "    <tr>\n",
       "      <th>3</th>\n",
       "      <td>06085501402</td>\n",
       "      <td>POLYGON ((-165759.786 -73091.934, -165741.347 ...</td>\n",
       "      <td>371141abbbf8d5e3a42694a3a3959747</td>\n",
       "    </tr>\n",
       "    <tr>\n",
       "      <th>4</th>\n",
       "      <td>06085501402</td>\n",
       "      <td>POLYGON ((-165759.786 -73091.934, -165741.347 ...</td>\n",
       "      <td>eb9f5e395e946e3e6b8ed4b43c820e72</td>\n",
       "    </tr>\n",
       "    <tr>\n",
       "      <th>...</th>\n",
       "      <td>...</td>\n",
       "      <td>...</td>\n",
       "      <td>...</td>\n",
       "    </tr>\n",
       "    <tr>\n",
       "      <th>14807</th>\n",
       "      <td>06013338101</td>\n",
       "      <td>POLYGON ((-180031.401 -5698.046, -179998.229 -...</td>\n",
       "      <td>fbf82b1f92575cb511fd97db46a0562a</td>\n",
       "    </tr>\n",
       "    <tr>\n",
       "      <th>14808</th>\n",
       "      <td>06013338101</td>\n",
       "      <td>POLYGON ((-180031.401 -5698.046, -179998.229 -...</td>\n",
       "      <td>a80da65523070e82301e8990873fd9c4</td>\n",
       "    </tr>\n",
       "    <tr>\n",
       "      <th>14809</th>\n",
       "      <td>06013338102</td>\n",
       "      <td>POLYGON ((-180162.918 -6902.976, -180150.812 -...</td>\n",
       "      <td>fbf82b1f92575cb511fd97db46a0562a</td>\n",
       "    </tr>\n",
       "    <tr>\n",
       "      <th>14810</th>\n",
       "      <td>06013338102</td>\n",
       "      <td>POLYGON ((-180162.918 -6902.976, -180150.812 -...</td>\n",
       "      <td>a80da65523070e82301e8990873fd9c4</td>\n",
       "    </tr>\n",
       "    <tr>\n",
       "      <th>14811</th>\n",
       "      <td>06013338102</td>\n",
       "      <td>POLYGON ((-180162.918 -6902.976, -180150.812 -...</td>\n",
       "      <td>eb9f5e395e946e3e6b8ed4b43c820e72</td>\n",
       "    </tr>\n",
       "  </tbody>\n",
       "</table>\n",
       "<p>14812 rows × 3 columns</p>\n",
       "</div>"
      ],
      "text/plain": [
       "             GEOID                                           geometry  \\\n",
       "0      06029004402  POLYGON ((59906.842 -270407.558, 59906.948 -27...   \n",
       "1      06029004402  POLYGON ((59906.842 -270407.558, 59906.948 -27...   \n",
       "2      06047000802  POLYGON ((-52727.332 -74888.681, -52723.908 -7...   \n",
       "3      06085501402  POLYGON ((-165759.786 -73091.934, -165741.347 ...   \n",
       "4      06085501402  POLYGON ((-165759.786 -73091.934, -165741.347 ...   \n",
       "...            ...                                                ...   \n",
       "14807  06013338101  POLYGON ((-180031.401 -5698.046, -179998.229 -...   \n",
       "14808  06013338101  POLYGON ((-180031.401 -5698.046, -179998.229 -...   \n",
       "14809  06013338102  POLYGON ((-180162.918 -6902.976, -180150.812 -...   \n",
       "14810  06013338102  POLYGON ((-180162.918 -6902.976, -180150.812 -...   \n",
       "14811  06013338102  POLYGON ((-180162.918 -6902.976, -180150.812 -...   \n",
       "\n",
       "                               feed_key  \n",
       "0      88fde0226aecc4b91a3900f52214f03b  \n",
       "1      c13333e968e573c9decd68bc7fc2555d  \n",
       "2      7a4bf0aaccd7aa130db46358ebdb5c26  \n",
       "3      371141abbbf8d5e3a42694a3a3959747  \n",
       "4      eb9f5e395e946e3e6b8ed4b43c820e72  \n",
       "...                                 ...  \n",
       "14807  fbf82b1f92575cb511fd97db46a0562a  \n",
       "14808  a80da65523070e82301e8990873fd9c4  \n",
       "14809  fbf82b1f92575cb511fd97db46a0562a  \n",
       "14810  a80da65523070e82301e8990873fd9c4  \n",
       "14811  eb9f5e395e946e3e6b8ed4b43c820e72  \n",
       "\n",
       "[14812 rows x 3 columns]"
      ]
     },
     "execution_count": 25,
     "metadata": {},
     "output_type": "execute_result"
    }
   ],
   "source": [
    "tracts_and_feeds"
   ]
  },
  {
   "cell_type": "code",
   "execution_count": 28,
   "id": "8b8ded78-3f6e-4418-b938-b32d1bc04b14",
   "metadata": {},
   "outputs": [],
   "source": [
    "# (tracts_and_feeds >> distinct(_.geometry)).explore()"
   ]
  },
  {
   "cell_type": "code",
   "execution_count": 26,
   "id": "a878d2ae-1c58-4e80-b094-c6348cc48a4a",
   "metadata": {},
   "outputs": [],
   "source": [
    "tracts_and_feeds.to_parquet('intermediate/feeds_tract_geo.parquet')"
   ]
  },
  {
   "cell_type": "code",
   "execution_count": 34,
   "id": "fb0b7039-7b07-493e-b4f9-40a53114dd84",
   "metadata": {},
   "outputs": [],
   "source": [
    "ca_uza = ca_uza >> select(_.UACE10, _.NAME10, _.geometry)\n",
    "ca_uza = ca_uza.to_crs(shared_utils.geography_utils.CA_NAD83Albers)"
   ]
  },
  {
   "cell_type": "code",
   "execution_count": 35,
   "id": "9bfb62a2-8909-4df4-92a5-8dd52c2f9d74",
   "metadata": {},
   "outputs": [],
   "source": [
    "ca_uza.to_parquet('intermediate/ca_uza.parquet')"
   ]
  },
  {
   "cell_type": "code",
   "execution_count": null,
   "id": "1c4982b2-c195-4acd-8877-9352f44568aa",
   "metadata": {},
   "outputs": [],
   "source": []
  }
 ],
 "metadata": {
  "kernelspec": {
   "display_name": "Python 3 (ipykernel)",
   "language": "python",
   "name": "python3"
  },
  "language_info": {
   "codemirror_mode": {
    "name": "ipython",
    "version": 3
   },
   "file_extension": ".py",
   "mimetype": "text/x-python",
   "name": "python",
   "nbconvert_exporter": "python",
   "pygments_lexer": "ipython3",
   "version": "3.9.13"
  },
  "widgets": {
   "application/vnd.jupyter.widget-state+json": {
    "state": {},
    "version_major": 2,
    "version_minor": 0
   }
  }
 },
 "nbformat": 4,
 "nbformat_minor": 5
}
