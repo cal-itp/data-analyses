{
 "cells": [
  {
   "cell_type": "code",
   "execution_count": 1,
   "id": "b5070d76-8c1c-40e0-a709-026e45ebf958",
   "metadata": {
    "tags": []
   },
   "outputs": [],
   "source": [
    "import intake\n",
    "import pandas as pd\n",
    "import geopandas as gpd\n",
    "\n",
    "from calitp_data_analysis.geography_utils import CA_NAD83Albers_m\n",
    "from shared_utils import rt_utils, rt_dates\n",
    "\n",
    "import google.auth\n",
    "credentials, project = google.auth.default()"
   ]
  },
  {
   "cell_type": "code",
   "execution_count": 2,
   "id": "608f614c-29bc-4cae-ae4e-a75821f9059e",
   "metadata": {
    "tags": []
   },
   "outputs": [],
   "source": [
    "import sys\n",
    "sys.path.append('../open_data/')"
   ]
  },
  {
   "cell_type": "code",
   "execution_count": 3,
   "id": "5e3c56fb-6738-4f08-9274-2233f284cf02",
   "metadata": {
    "tags": []
   },
   "outputs": [],
   "source": [
    "import open_data_utils"
   ]
  },
  {
   "cell_type": "code",
   "execution_count": 4,
   "id": "2ad31675-ac91-4ab5-83b7-4605e167d2e7",
   "metadata": {
    "tags": []
   },
   "outputs": [],
   "source": [
    "from calitp_data_analysis.gcs_geopandas import GCSGeoPandas\n",
    "gcsgp = GCSGeoPandas()"
   ]
  },
  {
   "cell_type": "markdown",
   "id": "4537e4b5-6237-4075-bdb6-f5a96d8e442d",
   "metadata": {},
   "source": [
    "# GTFS-based stats for section 1e\n",
    "\n",
    "## Methodology\n",
    "\n",
    "### Route Mileage and Number of Routes\n",
    "\n",
    "First, we spatially overlay GTFS-derived routes with Metropolitan Planning Organization boundaries. If a route crosses an MPO boundary, it will be counted in both regions. However, mileage counts will include only the portion of the route's mileage within that MPO region to avoid double counting.\n",
    "\n",
    "For this analysis, we've added a deduplication step to only keep unique `route_id` and `shape_id` for each GTFS feed. In some cases, multiple agencies share a GTFS feed. This avoids double counting routes, but in those cases agency metadata from this analysis may not be accurate.\n",
    "\n",
    "Our methodology aims to count mileage in each direction of a route. This is implemented by keeping the two longest GTFS shapes for each route, which generally correspond to the longest service pattern in each direction. Where multiple routes interline, we count mileage of each route separately.\n",
    "\n",
    "To count the number of routes, we count the number of unique GTFS `route_id`.\n",
    "\n",
    "### Number of Stops"
   ]
  },
  {
   "cell_type": "code",
   "execution_count": 53,
   "id": "b0e62192-3ce8-4f1d-82a7-9e98312359ef",
   "metadata": {
    "tags": []
   },
   "outputs": [],
   "source": [
    "catalog = intake.open_catalog(\"../_shared_utils/shared_utils/shared_data_catalog.yml\")"
   ]
  },
  {
   "cell_type": "code",
   "execution_count": 54,
   "id": "2001d826-44d0-4f91-9684-6def51f72c86",
   "metadata": {
    "tags": []
   },
   "outputs": [],
   "source": [
    "mpos = catalog.metropolitan_planning_orgs.read()[['MPO', 'geometry']].to_crs(CA_NAD83Albers_m).rename(columns={\"MPO\":\"mpo\"})"
   ]
  },
  {
   "cell_type": "code",
   "execution_count": 55,
   "id": "a9d66530-1029-4dd9-b6ff-1d4950092cd7",
   "metadata": {
    "tags": []
   },
   "outputs": [],
   "source": [
    "ct_dist = catalog.caltrans_districts.read().to_crs(CA_NAD83Albers_m)"
   ]
  },
  {
   "cell_type": "code",
   "execution_count": 56,
   "id": "75998499-7cc3-4d20-a895-7fc97621fd7f",
   "metadata": {
    "tags": []
   },
   "outputs": [],
   "source": [
    "analysis_date = rt_dates.DATES['jun2025']"
   ]
  },
  {
   "cell_type": "code",
   "execution_count": 57,
   "id": "0a92fff7-ace2-493b-bf42-fdf827708fa5",
   "metadata": {
    "tags": []
   },
   "outputs": [],
   "source": [
    "# stops = catalog.ca_transit_stops.read()\n",
    "stops = gcsgp.read_parquet('gs://calitp-analytics-data/data-analyses/traffic_ops/export/ca_transit_stops_2025-06-11.parquet')"
   ]
  },
  {
   "cell_type": "code",
   "execution_count": 58,
   "id": "9cca7f96-f766-44cc-b0f2-c35ef29b027d",
   "metadata": {
    "tags": []
   },
   "outputs": [],
   "source": [
    "stops = stops.to_crs(CA_NAD83Albers_m).clip(ct_dist)"
   ]
  },
  {
   "cell_type": "code",
   "execution_count": 59,
   "id": "83ccf0c3-7bd9-4f2e-9e00-2f7cb0cc1810",
   "metadata": {
    "tags": []
   },
   "outputs": [],
   "source": [
    "# routes = catalog.ca_transit_routes.read()\n",
    "routes_raw = gcsgp.read_parquet('gs://calitp-analytics-data/data-analyses/traffic_ops/export/ca_transit_routes_2025-06-11.parquet')"
   ]
  },
  {
   "cell_type": "code",
   "execution_count": 60,
   "id": "0d5125c6-b7e6-4374-ac65-76597d8a21d9",
   "metadata": {
    "tags": []
   },
   "outputs": [],
   "source": [
    "routes = (routes_raw\n",
    "          .drop_duplicates(subset=['route_id', 'shape_id', 'base64_url'])  # deduplicate identical routes where agencies share a feed...\n",
    "          .to_crs(CA_NAD83Albers_m)\n",
    "          .clip(ct_dist)\n",
    "         )"
   ]
  },
  {
   "cell_type": "code",
   "execution_count": 78,
   "id": "73162c8d-d0e3-4657-95b2-e07e2d33f9ea",
   "metadata": {
    "tags": []
   },
   "outputs": [],
   "source": [
    "# routes.to_file('routes_2025-06-11.geojson')"
   ]
  },
  {
   "cell_type": "code",
   "execution_count": 62,
   "id": "cd6605e3-776c-4604-806b-cd278581db98",
   "metadata": {
    "tags": []
   },
   "outputs": [],
   "source": [
    "# hqta = catalog.hqta_areas.read().to_crs(CA_NAD83Albers_m).clip(ct_dist)"
   ]
  },
  {
   "cell_type": "code",
   "execution_count": 63,
   "id": "51af9d33-cdd7-4e1e-9f05-a547b25a8978",
   "metadata": {
    "tags": []
   },
   "outputs": [],
   "source": [
    "routes['length'] = routes.geometry.map(lambda x: x.length)"
   ]
  },
  {
   "cell_type": "code",
   "execution_count": 64,
   "id": "bb825aea-55e5-43f0-a694-a4688150e792",
   "metadata": {
    "tags": []
   },
   "outputs": [],
   "source": [
    "routes_top2 = routes.sort_values(['agency', 'route_id', 'length'],\n",
    "                  ascending=False).groupby(['agency', 'route_id']).head(2)\n",
    "routes_top2 = routes_top2.assign(miles = routes_top2.length / rt_utils.METERS_PER_MILE)"
   ]
  },
  {
   "cell_type": "code",
   "execution_count": 65,
   "id": "d45007b8-cbd0-46a3-9840-0cf65bf0e1cb",
   "metadata": {
    "tags": []
   },
   "outputs": [],
   "source": [
    "def overlay_to_routes(mpo_gdf, routes_gdf = routes_top2):\n",
    "    \n",
    "    overlaid = mpo_gdf.overlay(routes_gdf, keep_geom_type=False)\n",
    "    return overlaid"
   ]
  },
  {
   "cell_type": "code",
   "execution_count": 66,
   "id": "3a05dd21-e5c0-43b0-ae5d-bdcd8a9a4426",
   "metadata": {
    "tags": []
   },
   "outputs": [],
   "source": [
    "mpo_routes = mpos.groupby('mpo').apply(overlay_to_routes, routes_gdf = routes_top2)\n",
    "mpo_routes = mpo_routes.reset_index(drop=True)"
   ]
  },
  {
   "cell_type": "code",
   "execution_count": 67,
   "id": "c503226b-ce71-478c-b750-d6b3b1f155a1",
   "metadata": {
    "tags": []
   },
   "outputs": [],
   "source": [
    "# routes.query('agency.str.contains(\"San Fran\") & route_id == \"1\"')"
   ]
  },
  {
   "cell_type": "code",
   "execution_count": 80,
   "id": "dfb096f0-b4f6-4da2-ba9c-585f4027bf86",
   "metadata": {
    "tags": []
   },
   "outputs": [
    {
     "data": {
      "text/html": [
       "<div>\n",
       "<style scoped>\n",
       "    .dataframe tbody tr th:only-of-type {\n",
       "        vertical-align: middle;\n",
       "    }\n",
       "\n",
       "    .dataframe tbody tr th {\n",
       "        vertical-align: top;\n",
       "    }\n",
       "\n",
       "    .dataframe thead th {\n",
       "        text-align: right;\n",
       "    }\n",
       "</style>\n",
       "<table border=\"1\" class=\"dataframe\">\n",
       "  <thead>\n",
       "    <tr style=\"text-align: right;\">\n",
       "      <th></th>\n",
       "      <th>mpo</th>\n",
       "      <th>org_id</th>\n",
       "      <th>agency</th>\n",
       "      <th>route_id</th>\n",
       "      <th>route_type</th>\n",
       "      <th>route_name</th>\n",
       "      <th>shape_id</th>\n",
       "      <th>n_trips</th>\n",
       "      <th>base64_url</th>\n",
       "      <th>length</th>\n",
       "      <th>miles</th>\n",
       "      <th>geometry</th>\n",
       "    </tr>\n",
       "  </thead>\n",
       "  <tbody>\n",
       "    <tr>\n",
       "      <th>1264</th>\n",
       "      <td>Metropolitan Transportation Commission</td>\n",
       "      <td>rechaapWbeffO33OX</td>\n",
       "      <td>City and County of San Francisco</td>\n",
       "      <td>1</td>\n",
       "      <td>3</td>\n",
       "      <td>1</td>\n",
       "      <td>102</td>\n",
       "      <td>108</td>\n",
       "      <td>aHR0cHM6Ly9hcGkuNTExLm9yZy90cmFuc2l0L2RhdGFmZW...</td>\n",
       "      <td>9255.124666</td>\n",
       "      <td>5.750882</td>\n",
       "      <td>LINESTRING (-210761.771 -21895.630, -210745.49...</td>\n",
       "    </tr>\n",
       "    <tr>\n",
       "      <th>1265</th>\n",
       "      <td>Metropolitan Transportation Commission</td>\n",
       "      <td>rechaapWbeffO33OX</td>\n",
       "      <td>City and County of San Francisco</td>\n",
       "      <td>1</td>\n",
       "      <td>3</td>\n",
       "      <td>1</td>\n",
       "      <td>152</td>\n",
       "      <td>105</td>\n",
       "      <td>aHR0cHM6Ly9hcGkuNTExLm9yZy90cmFuc2l0L2RhdGFmZW...</td>\n",
       "      <td>9248.132498</td>\n",
       "      <td>5.746537</td>\n",
       "      <td>LINESTRING (-219262.706 -23425.359, -219277.08...</td>\n",
       "    </tr>\n",
       "  </tbody>\n",
       "</table>\n",
       "</div>"
      ],
      "text/plain": [
       "                                         mpo             org_id  \\\n",
       "1264  Metropolitan Transportation Commission  rechaapWbeffO33OX   \n",
       "1265  Metropolitan Transportation Commission  rechaapWbeffO33OX   \n",
       "\n",
       "                                agency route_id route_type route_name  \\\n",
       "1264  City and County of San Francisco        1          3          1   \n",
       "1265  City and County of San Francisco        1          3          1   \n",
       "\n",
       "     shape_id  n_trips                                         base64_url  \\\n",
       "1264      102      108  aHR0cHM6Ly9hcGkuNTExLm9yZy90cmFuc2l0L2RhdGFmZW...   \n",
       "1265      152      105  aHR0cHM6Ly9hcGkuNTExLm9yZy90cmFuc2l0L2RhdGFmZW...   \n",
       "\n",
       "           length     miles                                           geometry  \n",
       "1264  9255.124666  5.750882  LINESTRING (-210761.771 -21895.630, -210745.49...  \n",
       "1265  9248.132498  5.746537  LINESTRING (-219262.706 -23425.359, -219277.08...  "
      ]
     },
     "execution_count": 80,
     "metadata": {},
     "output_type": "execute_result"
    }
   ],
   "source": [
    "mpo_routes.query('agency.str.contains(\"San Fran\") & route_name == \"1\"')"
   ]
  },
  {
   "cell_type": "code",
   "execution_count": 79,
   "id": "8d44cd91-8fb0-454c-95b2-aa791575c0fe",
   "metadata": {
    "tags": []
   },
   "outputs": [],
   "source": [
    "mpo_routes.query('mpo == \"Metropolitan Transportation Commission\"').to_file('mtc_routes_top2_2025-06-11.geojson')"
   ]
  },
  {
   "cell_type": "code",
   "execution_count": 84,
   "id": "a929ba5a-4295-4dde-bbf2-169a551e4db9",
   "metadata": {
    "tags": []
   },
   "outputs": [],
   "source": [
    "# mpo_routes.query('mpo == \"Metropolitan Transportation Commission\" & agency.str.contains(\"Lake\")').explore()"
   ]
  },
  {
   "cell_type": "code",
   "execution_count": 83,
   "id": "dc964992-cc35-4bc3-b12e-070326fe60ae",
   "metadata": {
    "tags": []
   },
   "outputs": [],
   "source": [
    "# mpo_routes.query('mpo == \"Metropolitan Transportation Commission\"').explore()"
   ]
  },
  {
   "cell_type": "markdown",
   "id": "59af1994-c712-45e3-8cfb-eb9fc4994825",
   "metadata": {},
   "source": [
    "## routes\n",
    "\n",
    "* keep longest 2 shapes per route -- imperfect but ok for a general estimate"
   ]
  },
  {
   "cell_type": "code",
   "execution_count": 70,
   "id": "933417a9-ccd3-4655-a6b2-f6fabc41e92a",
   "metadata": {
    "tags": []
   },
   "outputs": [
    {
     "data": {
      "text/plain": [
       "Index(['mpo', 'org_id', 'agency', 'route_id', 'route_type', 'route_name',\n",
       "       'shape_id', 'n_trips', 'base64_url', 'length', 'miles', 'geometry'],\n",
       "      dtype='object')"
      ]
     },
     "execution_count": 70,
     "metadata": {},
     "output_type": "execute_result"
    }
   ],
   "source": [
    "mpo_routes.columns"
   ]
  },
  {
   "cell_type": "code",
   "execution_count": 71,
   "id": "c38d2f87-cbb2-4e65-9456-30a337f5abd2",
   "metadata": {
    "tags": []
   },
   "outputs": [],
   "source": [
    "countable = mpo_routes.drop_duplicates(subset=['mpo', 'agency', 'route_id']).drop(columns=['miles', 'geometry'])"
   ]
  },
  {
   "cell_type": "code",
   "execution_count": 72,
   "id": "4c03ce25-8e8e-4998-bdc3-cee580eed1f9",
   "metadata": {
    "tags": []
   },
   "outputs": [
    {
     "data": {
      "text/html": [
       "<div>\n",
       "<style scoped>\n",
       "    .dataframe tbody tr th:only-of-type {\n",
       "        vertical-align: middle;\n",
       "    }\n",
       "\n",
       "    .dataframe tbody tr th {\n",
       "        vertical-align: top;\n",
       "    }\n",
       "\n",
       "    .dataframe thead th {\n",
       "        text-align: right;\n",
       "    }\n",
       "</style>\n",
       "<table border=\"1\" class=\"dataframe\">\n",
       "  <thead>\n",
       "    <tr style=\"text-align: right;\">\n",
       "      <th></th>\n",
       "      <th>mpo</th>\n",
       "      <th>route_id</th>\n",
       "    </tr>\n",
       "  </thead>\n",
       "  <tbody>\n",
       "    <tr>\n",
       "      <th>0</th>\n",
       "      <td>Association of Monterey Bay Area Governments</td>\n",
       "      <td>64</td>\n",
       "    </tr>\n",
       "    <tr>\n",
       "      <th>1</th>\n",
       "      <td>Butte County Association of Governments</td>\n",
       "      <td>23</td>\n",
       "    </tr>\n",
       "    <tr>\n",
       "      <th>2</th>\n",
       "      <td>Fresno Council of Governments</td>\n",
       "      <td>35</td>\n",
       "    </tr>\n",
       "    <tr>\n",
       "      <th>3</th>\n",
       "      <td>Kern Council of Governments</td>\n",
       "      <td>41</td>\n",
       "    </tr>\n",
       "    <tr>\n",
       "      <th>4</th>\n",
       "      <td>Kings County Association of Governments</td>\n",
       "      <td>15</td>\n",
       "    </tr>\n",
       "    <tr>\n",
       "      <th>5</th>\n",
       "      <td>Madera County Transportation Commission</td>\n",
       "      <td>15</td>\n",
       "    </tr>\n",
       "    <tr>\n",
       "      <th>6</th>\n",
       "      <td>Merced County Association of Governments</td>\n",
       "      <td>34</td>\n",
       "    </tr>\n",
       "    <tr>\n",
       "      <th>7</th>\n",
       "      <td>Metropolitan Transportation Commission</td>\n",
       "      <td>585</td>\n",
       "    </tr>\n",
       "    <tr>\n",
       "      <th>8</th>\n",
       "      <td>Sacramento Area Council of Governments</td>\n",
       "      <td>217</td>\n",
       "    </tr>\n",
       "    <tr>\n",
       "      <th>9</th>\n",
       "      <td>San Diego Association of Governments</td>\n",
       "      <td>159</td>\n",
       "    </tr>\n",
       "    <tr>\n",
       "      <th>10</th>\n",
       "      <td>San Joaquin Council of Governments</td>\n",
       "      <td>69</td>\n",
       "    </tr>\n",
       "    <tr>\n",
       "      <th>11</th>\n",
       "      <td>San Luis Obispo Council of Governments</td>\n",
       "      <td>37</td>\n",
       "    </tr>\n",
       "    <tr>\n",
       "      <th>12</th>\n",
       "      <td>Santa Barbara County Association of Governments</td>\n",
       "      <td>82</td>\n",
       "    </tr>\n",
       "    <tr>\n",
       "      <th>13</th>\n",
       "      <td>Shasta Regional Transportation Agency</td>\n",
       "      <td>18</td>\n",
       "    </tr>\n",
       "    <tr>\n",
       "      <th>14</th>\n",
       "      <td>Southern California Association of Governments</td>\n",
       "      <td>933</td>\n",
       "    </tr>\n",
       "    <tr>\n",
       "      <th>15</th>\n",
       "      <td>Stanislaus Council of Governments</td>\n",
       "      <td>41</td>\n",
       "    </tr>\n",
       "    <tr>\n",
       "      <th>16</th>\n",
       "      <td>Tahoe Regional Planning Agency</td>\n",
       "      <td>6</td>\n",
       "    </tr>\n",
       "    <tr>\n",
       "      <th>17</th>\n",
       "      <td>Tulare County Association of Governments</td>\n",
       "      <td>49</td>\n",
       "    </tr>\n",
       "  </tbody>\n",
       "</table>\n",
       "</div>"
      ],
      "text/plain": [
       "                                                mpo  route_id\n",
       "0      Association of Monterey Bay Area Governments        64\n",
       "1           Butte County Association of Governments        23\n",
       "2                     Fresno Council of Governments        35\n",
       "3                       Kern Council of Governments        41\n",
       "4           Kings County Association of Governments        15\n",
       "5           Madera County Transportation Commission        15\n",
       "6          Merced County Association of Governments        34\n",
       "7            Metropolitan Transportation Commission       585\n",
       "8            Sacramento Area Council of Governments       217\n",
       "9              San Diego Association of Governments       159\n",
       "10               San Joaquin Council of Governments        69\n",
       "11           San Luis Obispo Council of Governments        37\n",
       "12  Santa Barbara County Association of Governments        82\n",
       "13            Shasta Regional Transportation Agency        18\n",
       "14   Southern California Association of Governments       933\n",
       "15                Stanislaus Council of Governments        41\n",
       "16                   Tahoe Regional Planning Agency         6\n",
       "17         Tulare County Association of Governments        49"
      ]
     },
     "execution_count": 72,
     "metadata": {},
     "output_type": "execute_result"
    }
   ],
   "source": [
    "countable.groupby('mpo').count().reset_index()[['mpo', 'route_id']]"
   ]
  },
  {
   "cell_type": "code",
   "execution_count": 73,
   "id": "47f2a98c-1882-4757-b9b9-ab7ce30432b2",
   "metadata": {
    "tags": []
   },
   "outputs": [],
   "source": [
    "mpo_route_count = countable.groupby('mpo').count().reset_index()[['mpo', 'route_id']].rename(columns={\"route_id\":\"n_routes\"})"
   ]
  },
  {
   "cell_type": "code",
   "execution_count": 74,
   "id": "5c85640a-d4ad-46d5-b5e7-b5354af73bfe",
   "metadata": {
    "tags": []
   },
   "outputs": [],
   "source": [
    "mpo_route_mi = mpo_routes.groupby('mpo')[['miles']].sum().reset_index().rename(columns={\"miles\":\"total_route_miles\"})"
   ]
  },
  {
   "cell_type": "code",
   "execution_count": 75,
   "id": "ae49b595-e37d-4461-9b7f-aad0489e800e",
   "metadata": {
    "tags": []
   },
   "outputs": [],
   "source": [
    "mpo_route_info = mpo_route_count.merge(mpo_route_mi, on='mpo')"
   ]
  },
  {
   "cell_type": "code",
   "execution_count": 76,
   "id": "018f4d4a-0d2c-4efd-848c-8e66365a2519",
   "metadata": {
    "tags": []
   },
   "outputs": [
    {
     "data": {
      "text/plain": [
       "4301"
      ]
     },
     "execution_count": 76,
     "metadata": {},
     "output_type": "execute_result"
    }
   ],
   "source": [
    "routes_top2.route_id.count()"
   ]
  },
  {
   "cell_type": "code",
   "execution_count": 77,
   "id": "465dc741-d952-40ac-875f-342e8bf32a13",
   "metadata": {
    "tags": []
   },
   "outputs": [
    {
     "data": {
      "text/plain": [
       "79738.2298365877"
      ]
     },
     "execution_count": 77,
     "metadata": {},
     "output_type": "execute_result"
    }
   ],
   "source": [
    "routes_top2.miles.sum()"
   ]
  },
  {
   "cell_type": "code",
   "execution_count": 35,
   "id": "648e0382-5714-4535-9b74-9301a6e9f2f8",
   "metadata": {
    "tags": []
   },
   "outputs": [
    {
     "data": {
      "text/html": [
       "<div>\n",
       "<style scoped>\n",
       "    .dataframe tbody tr th:only-of-type {\n",
       "        vertical-align: middle;\n",
       "    }\n",
       "\n",
       "    .dataframe tbody tr th {\n",
       "        vertical-align: top;\n",
       "    }\n",
       "\n",
       "    .dataframe thead th {\n",
       "        text-align: right;\n",
       "    }\n",
       "</style>\n",
       "<table border=\"1\" class=\"dataframe\">\n",
       "  <thead>\n",
       "    <tr style=\"text-align: right;\">\n",
       "      <th></th>\n",
       "      <th>mpo</th>\n",
       "      <th>n_routes</th>\n",
       "      <th>total_route_miles</th>\n",
       "    </tr>\n",
       "  </thead>\n",
       "  <tbody>\n",
       "    <tr>\n",
       "      <th>14</th>\n",
       "      <td>Southern California Association of Governments</td>\n",
       "      <td>933</td>\n",
       "      <td>37069.5</td>\n",
       "    </tr>\n",
       "    <tr>\n",
       "      <th>7</th>\n",
       "      <td>Metropolitan Transportation Commission</td>\n",
       "      <td>585</td>\n",
       "      <td>18039.6</td>\n",
       "    </tr>\n",
       "    <tr>\n",
       "      <th>8</th>\n",
       "      <td>Sacramento Area Council of Governments</td>\n",
       "      <td>217</td>\n",
       "      <td>11114.0</td>\n",
       "    </tr>\n",
       "    <tr>\n",
       "      <th>9</th>\n",
       "      <td>San Diego Association of Governments</td>\n",
       "      <td>159</td>\n",
       "      <td>5630.0</td>\n",
       "    </tr>\n",
       "    <tr>\n",
       "      <th>12</th>\n",
       "      <td>Santa Barbara County Association of Governments</td>\n",
       "      <td>82</td>\n",
       "      <td>5174.9</td>\n",
       "    </tr>\n",
       "    <tr>\n",
       "      <th>3</th>\n",
       "      <td>Kern Council of Governments</td>\n",
       "      <td>41</td>\n",
       "      <td>5150.2</td>\n",
       "    </tr>\n",
       "    <tr>\n",
       "      <th>10</th>\n",
       "      <td>San Joaquin Council of Governments</td>\n",
       "      <td>69</td>\n",
       "      <td>4584.5</td>\n",
       "    </tr>\n",
       "    <tr>\n",
       "      <th>2</th>\n",
       "      <td>Fresno Council of Governments</td>\n",
       "      <td>35</td>\n",
       "      <td>4375.9</td>\n",
       "    </tr>\n",
       "    <tr>\n",
       "      <th>6</th>\n",
       "      <td>Merced County Association of Governments</td>\n",
       "      <td>34</td>\n",
       "      <td>4011.5</td>\n",
       "    </tr>\n",
       "    <tr>\n",
       "      <th>17</th>\n",
       "      <td>Tulare County Association of Governments</td>\n",
       "      <td>49</td>\n",
       "      <td>3964.9</td>\n",
       "    </tr>\n",
       "    <tr>\n",
       "      <th>15</th>\n",
       "      <td>Stanislaus Council of Governments</td>\n",
       "      <td>41</td>\n",
       "      <td>3884.4</td>\n",
       "    </tr>\n",
       "    <tr>\n",
       "      <th>5</th>\n",
       "      <td>Madera County Transportation Commission</td>\n",
       "      <td>15</td>\n",
       "      <td>3557.3</td>\n",
       "    </tr>\n",
       "    <tr>\n",
       "      <th>11</th>\n",
       "      <td>San Luis Obispo Council of Governments</td>\n",
       "      <td>37</td>\n",
       "      <td>3282.6</td>\n",
       "    </tr>\n",
       "    <tr>\n",
       "      <th>0</th>\n",
       "      <td>Association of Monterey Bay Area Governments</td>\n",
       "      <td>64</td>\n",
       "      <td>3166.5</td>\n",
       "    </tr>\n",
       "    <tr>\n",
       "      <th>13</th>\n",
       "      <td>Shasta Regional Transportation Agency</td>\n",
       "      <td>18</td>\n",
       "      <td>3085.6</td>\n",
       "    </tr>\n",
       "    <tr>\n",
       "      <th>1</th>\n",
       "      <td>Butte County Association of Governments</td>\n",
       "      <td>23</td>\n",
       "      <td>2956.8</td>\n",
       "    </tr>\n",
       "    <tr>\n",
       "      <th>4</th>\n",
       "      <td>Kings County Association of Governments</td>\n",
       "      <td>15</td>\n",
       "      <td>662.2</td>\n",
       "    </tr>\n",
       "    <tr>\n",
       "      <th>16</th>\n",
       "      <td>Tahoe Regional Planning Agency</td>\n",
       "      <td>6</td>\n",
       "      <td>155.1</td>\n",
       "    </tr>\n",
       "  </tbody>\n",
       "</table>\n",
       "</div>"
      ],
      "text/plain": [
       "                                                mpo  n_routes  \\\n",
       "14   Southern California Association of Governments       933   \n",
       "7            Metropolitan Transportation Commission       585   \n",
       "8            Sacramento Area Council of Governments       217   \n",
       "9              San Diego Association of Governments       159   \n",
       "12  Santa Barbara County Association of Governments        82   \n",
       "3                       Kern Council of Governments        41   \n",
       "10               San Joaquin Council of Governments        69   \n",
       "2                     Fresno Council of Governments        35   \n",
       "6          Merced County Association of Governments        34   \n",
       "17         Tulare County Association of Governments        49   \n",
       "15                Stanislaus Council of Governments        41   \n",
       "5           Madera County Transportation Commission        15   \n",
       "11           San Luis Obispo Council of Governments        37   \n",
       "0      Association of Monterey Bay Area Governments        64   \n",
       "13            Shasta Regional Transportation Agency        18   \n",
       "1           Butte County Association of Governments        23   \n",
       "4           Kings County Association of Governments        15   \n",
       "16                   Tahoe Regional Planning Agency         6   \n",
       "\n",
       "    total_route_miles  \n",
       "14            37069.5  \n",
       "7             18039.6  \n",
       "8             11114.0  \n",
       "9              5630.0  \n",
       "12             5174.9  \n",
       "3              5150.2  \n",
       "10             4584.5  \n",
       "2              4375.9  \n",
       "6              4011.5  \n",
       "17             3964.9  \n",
       "15             3884.4  \n",
       "5              3557.3  \n",
       "11             3282.6  \n",
       "0              3166.5  \n",
       "13             3085.6  \n",
       "1              2956.8  \n",
       "4               662.2  \n",
       "16              155.1  "
      ]
     },
     "execution_count": 35,
     "metadata": {},
     "output_type": "execute_result"
    }
   ],
   "source": [
    "mpo_route_info.round(1).sort_values('total_route_miles', ascending=False)"
   ]
  },
  {
   "cell_type": "code",
   "execution_count": 71,
   "id": "4cce939d-d4d7-4ea4-9d91-99e92f6febbd",
   "metadata": {
    "tags": []
   },
   "outputs": [],
   "source": [
    "mpo_route_info.round(1).to_csv('routes_by_mpo.csv')"
   ]
  },
  {
   "cell_type": "markdown",
   "id": "e1862c9b-be27-4c89-91ac-b25c3752535a",
   "metadata": {},
   "source": [
    "## stops"
   ]
  },
  {
   "cell_type": "code",
   "execution_count": 25,
   "id": "4dae76a8-3fdb-4e5c-9847-7316704dc3d5",
   "metadata": {
    "tags": []
   },
   "outputs": [],
   "source": [
    "def overlay_to_stops(mpo_gdf, stops_gdf = stops):\n",
    "    \n",
    "    overlaid = mpo_gdf.overlay(stops_gdf, keep_geom_type=False)\n",
    "    return overlaid"
   ]
  },
  {
   "cell_type": "code",
   "execution_count": 26,
   "id": "366061c8-494e-4906-b568-5799d3cd4bd0",
   "metadata": {
    "tags": []
   },
   "outputs": [],
   "source": [
    "mpo_stops = mpos.groupby('mpo').apply(overlay_to_stops)"
   ]
  },
  {
   "cell_type": "code",
   "execution_count": 27,
   "id": "2fdcd73f-10ba-41c0-991b-9d658914a682",
   "metadata": {
    "tags": []
   },
   "outputs": [],
   "source": [
    "mpo_stops = mpo_stops.reset_index(drop=True)"
   ]
  },
  {
   "cell_type": "code",
   "execution_count": 28,
   "id": "0bc1eac0-48c5-4955-a32c-cf4608c51d7c",
   "metadata": {
    "tags": []
   },
   "outputs": [],
   "source": [
    "mpo_stop_count = mpo_stops.groupby(['mpo', 'routetypes'])[['stop_id']].count().reset_index().rename(columns={'stop_id':'stop_count'})"
   ]
  },
  {
   "cell_type": "code",
   "execution_count": 29,
   "id": "8346fe7a-19b6-4738-8376-5f924311e2ed",
   "metadata": {
    "tags": []
   },
   "outputs": [],
   "source": [
    "def route_types_to_name(route_types):\n",
    "    rttype_list = [x.strip() for x in route_types.split(',')]\n",
    "    name_list = [rt_utils.route_type_names[rttype] for rttype in rttype_list]\n",
    "    return \" and \".join(name_list)"
   ]
  },
  {
   "cell_type": "code",
   "execution_count": 30,
   "id": "1da80c71-a29c-4b9e-9071-58a9c783c2c0",
   "metadata": {
    "tags": []
   },
   "outputs": [],
   "source": [
    "mpo_stop_count = mpo_stop_count.assign(\n",
    "    route_type_names = mpo_stop_count.routetypes.map(lambda x: route_types_to_name(x)))"
   ]
  },
  {
   "cell_type": "code",
   "execution_count": 31,
   "id": "3d32ce00-7d0a-43bd-9b6b-2d1d8d05ac59",
   "metadata": {
    "tags": []
   },
   "outputs": [
    {
     "data": {
      "text/html": [
       "<div>\n",
       "<style scoped>\n",
       "    .dataframe tbody tr th:only-of-type {\n",
       "        vertical-align: middle;\n",
       "    }\n",
       "\n",
       "    .dataframe tbody tr th {\n",
       "        vertical-align: top;\n",
       "    }\n",
       "\n",
       "    .dataframe thead th {\n",
       "        text-align: right;\n",
       "    }\n",
       "</style>\n",
       "<table border=\"1\" class=\"dataframe\">\n",
       "  <thead>\n",
       "    <tr style=\"text-align: right;\">\n",
       "      <th></th>\n",
       "      <th>mpo</th>\n",
       "      <th>routetypes</th>\n",
       "      <th>stop_count</th>\n",
       "      <th>route_type_names</th>\n",
       "    </tr>\n",
       "  </thead>\n",
       "  <tbody>\n",
       "    <tr>\n",
       "      <th>0</th>\n",
       "      <td>Association of Monterey Bay Area Governments</td>\n",
       "      <td>2, 3</td>\n",
       "      <td>3</td>\n",
       "      <td>Rail and Bus</td>\n",
       "    </tr>\n",
       "    <tr>\n",
       "      <th>1</th>\n",
       "      <td>Association of Monterey Bay Area Governments</td>\n",
       "      <td>3</td>\n",
       "      <td>1795</td>\n",
       "      <td>Bus</td>\n",
       "    </tr>\n",
       "  </tbody>\n",
       "</table>\n",
       "</div>"
      ],
      "text/plain": [
       "                                            mpo routetypes  stop_count  \\\n",
       "0  Association of Monterey Bay Area Governments       2, 3           3   \n",
       "1  Association of Monterey Bay Area Governments          3        1795   \n",
       "\n",
       "  route_type_names  \n",
       "0     Rail and Bus  \n",
       "1              Bus  "
      ]
     },
     "execution_count": 31,
     "metadata": {},
     "output_type": "execute_result"
    }
   ],
   "source": [
    "mpo_stop_count.head(2)"
   ]
  },
  {
   "cell_type": "code",
   "execution_count": 32,
   "id": "8583d2c7-db5d-4c1f-a5a5-6232f486a049",
   "metadata": {
    "tags": []
   },
   "outputs": [],
   "source": [
    "mpo_stop_count.to_csv('stops_by_mpo.csv')"
   ]
  },
  {
   "cell_type": "code",
   "execution_count": 33,
   "id": "b5908d90-3b21-48ad-98ca-799780464b35",
   "metadata": {
    "tags": []
   },
   "outputs": [],
   "source": [
    "all_stop_count = stops[['routetypes', 'stop_id']].groupby(['routetypes'])[['stop_id']].count().reset_index().rename(columns={'stop_id':'stop_count'})"
   ]
  },
  {
   "cell_type": "code",
   "execution_count": 34,
   "id": "2990f444-a50e-48d7-a79b-bd77aa86b806",
   "metadata": {
    "tags": []
   },
   "outputs": [],
   "source": [
    "all_stop_count = all_stop_count.assign(\n",
    "    route_type_names = all_stop_count.routetypes.map(lambda x: route_types_to_name(x)))"
   ]
  },
  {
   "cell_type": "code",
   "execution_count": 35,
   "id": "a45ba348-5f85-458b-bccc-0cb502356d94",
   "metadata": {
    "tags": []
   },
   "outputs": [],
   "source": [
    "all_stop_count.to_csv('all_stops.csv')"
   ]
  },
  {
   "cell_type": "code",
   "execution_count": 36,
   "id": "b9431707-0ec5-452c-8f6f-2af2329da48c",
   "metadata": {
    "tags": []
   },
   "outputs": [
    {
     "data": {
      "text/html": [
       "<div>\n",
       "<style scoped>\n",
       "    .dataframe tbody tr th:only-of-type {\n",
       "        vertical-align: middle;\n",
       "    }\n",
       "\n",
       "    .dataframe tbody tr th {\n",
       "        vertical-align: top;\n",
       "    }\n",
       "\n",
       "    .dataframe thead th {\n",
       "        text-align: right;\n",
       "    }\n",
       "</style>\n",
       "<table border=\"1\" class=\"dataframe\">\n",
       "  <thead>\n",
       "    <tr style=\"text-align: right;\">\n",
       "      <th></th>\n",
       "      <th>routetypes</th>\n",
       "      <th>stop_count</th>\n",
       "      <th>route_type_names</th>\n",
       "    </tr>\n",
       "  </thead>\n",
       "  <tbody>\n",
       "    <tr>\n",
       "      <th>0</th>\n",
       "      <td>0</td>\n",
       "      <td>1482</td>\n",
       "      <td>Tram, Streetcar, Light rail</td>\n",
       "    </tr>\n",
       "    <tr>\n",
       "      <th>1</th>\n",
       "      <td>0, 3</td>\n",
       "      <td>286</td>\n",
       "      <td>Tram, Streetcar, Light rail and Bus</td>\n",
       "    </tr>\n",
       "    <tr>\n",
       "      <th>2</th>\n",
       "      <td>1</td>\n",
       "      <td>119</td>\n",
       "      <td>Subway, Metro</td>\n",
       "    </tr>\n",
       "    <tr>\n",
       "      <th>3</th>\n",
       "      <td>2</td>\n",
       "      <td>351</td>\n",
       "      <td>Rail</td>\n",
       "    </tr>\n",
       "    <tr>\n",
       "      <th>4</th>\n",
       "      <td>2, 3</td>\n",
       "      <td>113</td>\n",
       "      <td>Rail and Bus</td>\n",
       "    </tr>\n",
       "    <tr>\n",
       "      <th>5</th>\n",
       "      <td>3</td>\n",
       "      <td>124416</td>\n",
       "      <td>Bus</td>\n",
       "    </tr>\n",
       "    <tr>\n",
       "      <th>6</th>\n",
       "      <td>3, 5</td>\n",
       "      <td>2</td>\n",
       "      <td>Bus and Cable tram</td>\n",
       "    </tr>\n",
       "    <tr>\n",
       "      <th>7</th>\n",
       "      <td>4</td>\n",
       "      <td>49</td>\n",
       "      <td>Ferry</td>\n",
       "    </tr>\n",
       "    <tr>\n",
       "      <th>8</th>\n",
       "      <td>5</td>\n",
       "      <td>230</td>\n",
       "      <td>Cable tram</td>\n",
       "    </tr>\n",
       "  </tbody>\n",
       "</table>\n",
       "</div>"
      ],
      "text/plain": [
       "  routetypes  stop_count                     route_type_names\n",
       "0          0        1482          Tram, Streetcar, Light rail\n",
       "1       0, 3         286  Tram, Streetcar, Light rail and Bus\n",
       "2          1         119                        Subway, Metro\n",
       "3          2         351                                 Rail\n",
       "4       2, 3         113                         Rail and Bus\n",
       "5          3      124416                                  Bus\n",
       "6       3, 5           2                   Bus and Cable tram\n",
       "7          4          49                                Ferry\n",
       "8          5         230                           Cable tram"
      ]
     },
     "execution_count": 36,
     "metadata": {},
     "output_type": "execute_result"
    }
   ],
   "source": [
    "all_stop_count"
   ]
  },
  {
   "cell_type": "markdown",
   "id": "05e62e2f-0460-4cc5-bacc-cafc98f49f4f",
   "metadata": {
    "jp-MarkdownHeadingCollapsed": true,
    "tags": []
   },
   "source": [
    "## hqta\n",
    "\n",
    "* MTS areas, dissolve\n",
    "* HQTC outside MTS areas, dissolve"
   ]
  },
  {
   "cell_type": "code",
   "execution_count": 37,
   "id": "66e25068-baa2-41bd-a550-c43a7609a689",
   "metadata": {
    "tags": []
   },
   "outputs": [],
   "source": [
    "mts = hqta[hqta.hqta_type.str.contains('major')]"
   ]
  },
  {
   "cell_type": "code",
   "execution_count": 38,
   "id": "b86c19d5-ae23-45f7-8414-15842fb25e2d",
   "metadata": {
    "tags": []
   },
   "outputs": [],
   "source": [
    "mts_dissolved = mts.dissolve()"
   ]
  },
  {
   "cell_type": "code",
   "execution_count": 39,
   "id": "190c031d-bfad-4a53-903f-f2f92196091c",
   "metadata": {
    "tags": []
   },
   "outputs": [],
   "source": [
    "SQ_M_TO_SQ_MI = 1/2.59e6"
   ]
  },
  {
   "cell_type": "code",
   "execution_count": 40,
   "id": "f0339771-e524-466e-93b1-c99c88335bd0",
   "metadata": {
    "tags": []
   },
   "outputs": [
    {
     "data": {
      "text/plain": [
       "1306.6461206834435"
      ]
     },
     "execution_count": 40,
     "metadata": {},
     "output_type": "execute_result"
    }
   ],
   "source": [
    "mts_dissolved.geometry.area.iloc[0] * SQ_M_TO_SQ_MI"
   ]
  },
  {
   "cell_type": "code",
   "execution_count": 41,
   "id": "83314858-34a0-424e-a8c3-5476f047a3ce",
   "metadata": {
    "tags": []
   },
   "outputs": [],
   "source": [
    "hqtc = hqta[~hqta.hqta_type.str.contains('major')]\n",
    "hqtc_dissolved = hqtc.dissolve()"
   ]
  },
  {
   "cell_type": "code",
   "execution_count": 42,
   "id": "913be8e7-9c43-45ee-8ff7-55b87c5a6bbe",
   "metadata": {
    "tags": []
   },
   "outputs": [],
   "source": [
    "hqtc_outside_mts = hqtc_dissolved.overlay(mts_dissolved, how='difference')"
   ]
  },
  {
   "cell_type": "code",
   "execution_count": 43,
   "id": "bf557486-54a2-46ee-9711-3ce992d43c85",
   "metadata": {
    "tags": []
   },
   "outputs": [
    {
     "data": {
      "text/plain": [
       "419.3658103979564"
      ]
     },
     "execution_count": 43,
     "metadata": {},
     "output_type": "execute_result"
    }
   ],
   "source": [
    "hqtc_outside_mts.geometry.area.iloc[0] * SQ_M_TO_SQ_MI"
   ]
  },
  {
   "cell_type": "code",
   "execution_count": 44,
   "id": "d38fb465-50d8-411d-88d8-089c2e831a1a",
   "metadata": {
    "tags": []
   },
   "outputs": [],
   "source": [
    "import shapely"
   ]
  },
  {
   "cell_type": "code",
   "execution_count": 45,
   "id": "54eca7eb-f2e0-4339-abbf-282f10d08a77",
   "metadata": {
    "tags": []
   },
   "outputs": [],
   "source": [
    "def overlay_to_mts_hqtc(mpo_gdf):\n",
    "    mpo_mts = mts_dissolved.overlay(mpo_gdf)\n",
    "    # print(mpo_mts.geometry)\n",
    "    if not mpo_mts.geometry.empty:\n",
    "        mpo_gdf['major_transit_stop_sq_mi'] = mpo_mts.geometry.area.iloc[0] * SQ_M_TO_SQ_MI\n",
    "    mpo_hqtc = hqtc_outside_mts.overlay(mpo_gdf)\n",
    "    # print(mpo_hqtc.geometry)\n",
    "    if not mpo_hqtc.geometry.empty:\n",
    "        mpo_gdf['additional_hq_corridor_sq_mi'] = mpo_hqtc.geometry.area.iloc[0] * SQ_M_TO_SQ_MI\n",
    "    \n",
    "    return mpo_gdf"
   ]
  },
  {
   "cell_type": "code",
   "execution_count": 46,
   "id": "68b2eb71-3e82-495b-a449-92f74d4bd533",
   "metadata": {
    "tags": []
   },
   "outputs": [
    {
     "name": "stderr",
     "output_type": "stream",
     "text": [
      "/tmp/ipykernel_878/3242399462.py:1: FutureWarning: Not prepending group keys to the result index of transform-like apply. In the future, the group keys will be included in the index, regardless of whether the applied function returns a like-indexed object.\n",
      "To preserve the previous behavior, use\n",
      "\n",
      "\t>>> .groupby(..., group_keys=False)\n",
      "\n",
      "To adopt the future behavior and silence this warning, use \n",
      "\n",
      "\t>>> .groupby(..., group_keys=True)\n",
      "  mpo_mts_hqtc = mpos.groupby('mpo').apply(overlay_to_mts_hqtc)\n"
     ]
    }
   ],
   "source": [
    "mpo_mts_hqtc = mpos.groupby('mpo').apply(overlay_to_mts_hqtc)"
   ]
  },
  {
   "cell_type": "code",
   "execution_count": 47,
   "id": "68cb20a1-c5f9-4673-a5ed-a2f1e1b9815d",
   "metadata": {
    "tags": []
   },
   "outputs": [],
   "source": [
    "mpo_mts_hqtc.round(1).drop(columns=['geometry']).to_csv('mts_hq_corr_by_mpo.csv')"
   ]
  },
  {
   "cell_type": "markdown",
   "id": "6df9ca9c-3909-4dd1-a371-b030251e5fee",
   "metadata": {},
   "source": [
    "## MTC questions"
   ]
  },
  {
   "cell_type": "code",
   "execution_count": 48,
   "id": "952db07e-c754-4c83-bd55-0634ef923a32",
   "metadata": {
    "scrolled": true,
    "tags": []
   },
   "outputs": [],
   "source": [
    "mtc = mpo_routes.query('mpo==\"Metropolitan Transportation Commission\"')"
   ]
  },
  {
   "cell_type": "code",
   "execution_count": 49,
   "id": "c14afc71-f05e-4958-a943-0eeb4c5330f8",
   "metadata": {
    "tags": []
   },
   "outputs": [
    {
     "name": "stderr",
     "output_type": "stream",
     "text": [
      "/tmp/ipykernel_878/3983738707.py:1: FutureWarning: The default value of numeric_only in DataFrameGroupBy.sum is deprecated. In a future version, numeric_only will default to False. Either specify numeric_only or select only columns which should be valid for the function.\n",
      "  mtc.groupby('agency').sum().sort_values('miles', ascending=False)\n"
     ]
    },
    {
     "data": {
      "text/html": [
       "<div>\n",
       "<style scoped>\n",
       "    .dataframe tbody tr th:only-of-type {\n",
       "        vertical-align: middle;\n",
       "    }\n",
       "\n",
       "    .dataframe tbody tr th {\n",
       "        vertical-align: top;\n",
       "    }\n",
       "\n",
       "    .dataframe thead th {\n",
       "        text-align: right;\n",
       "    }\n",
       "</style>\n",
       "<table border=\"1\" class=\"dataframe\">\n",
       "  <thead>\n",
       "    <tr style=\"text-align: right;\">\n",
       "      <th></th>\n",
       "      <th>n_trips</th>\n",
       "      <th>length</th>\n",
       "      <th>miles</th>\n",
       "    </tr>\n",
       "    <tr>\n",
       "      <th>agency</th>\n",
       "      <th></th>\n",
       "      <th></th>\n",
       "      <th></th>\n",
       "    </tr>\n",
       "  </thead>\n",
       "  <tbody>\n",
       "    <tr>\n",
       "      <th>Alameda-Contra Costa Transit District</th>\n",
       "      <td>4730</td>\n",
       "      <td>3.485935e+06</td>\n",
       "      <td>2166.065200</td>\n",
       "    </tr>\n",
       "    <tr>\n",
       "      <th>Amtrak</th>\n",
       "      <td>4</td>\n",
       "      <td>8.819057e+05</td>\n",
       "      <td>2051.210219</td>\n",
       "    </tr>\n",
       "    <tr>\n",
       "      <th>Santa Clara Valley Transportation Authority</th>\n",
       "      <td>3081</td>\n",
       "      <td>2.698753e+06</td>\n",
       "      <td>1676.931505</td>\n",
       "    </tr>\n",
       "    <tr>\n",
       "      <th>Greyhound</th>\n",
       "      <td>4</td>\n",
       "      <td>4.470306e+05</td>\n",
       "      <td>1289.211954</td>\n",
       "    </tr>\n",
       "    <tr>\n",
       "      <th>City and County of San Francisco</th>\n",
       "      <td>6991</td>\n",
       "      <td>1.591804e+06</td>\n",
       "      <td>989.103576</td>\n",
       "    </tr>\n",
       "    <tr>\n",
       "      <th>San Mateo County Transit District</th>\n",
       "      <td>1431</td>\n",
       "      <td>1.311802e+06</td>\n",
       "      <td>815.118035</td>\n",
       "    </tr>\n",
       "    <tr>\n",
       "      <th>Cloverdale Transit</th>\n",
       "      <td>201</td>\n",
       "      <td>1.289374e+06</td>\n",
       "      <td>801.181541</td>\n",
       "    </tr>\n",
       "    <tr>\n",
       "      <th>Golden Gate Bridge, Highway and Transportation District</th>\n",
       "      <td>177</td>\n",
       "      <td>1.227361e+06</td>\n",
       "      <td>762.648936</td>\n",
       "    </tr>\n",
       "    <tr>\n",
       "      <th>San Francisco Bay Area Rapid Transit District</th>\n",
       "      <td>942</td>\n",
       "      <td>1.151523e+06</td>\n",
       "      <td>715.525038</td>\n",
       "    </tr>\n",
       "    <tr>\n",
       "      <th>Mendocino Transit Authority</th>\n",
       "      <td>5</td>\n",
       "      <td>3.993320e+05</td>\n",
       "      <td>570.579868</td>\n",
       "    </tr>\n",
       "    <tr>\n",
       "      <th>Solano Transportation Authority</th>\n",
       "      <td>299</td>\n",
       "      <td>8.835374e+05</td>\n",
       "      <td>550.429411</td>\n",
       "    </tr>\n",
       "    <tr>\n",
       "      <th>Central Contra Costa Transit Authority</th>\n",
       "      <td>756</td>\n",
       "      <td>8.538256e+05</td>\n",
       "      <td>530.543921</td>\n",
       "    </tr>\n",
       "    <tr>\n",
       "      <th>Marin County Transit District</th>\n",
       "      <td>441</td>\n",
       "      <td>7.504618e+05</td>\n",
       "      <td>466.316523</td>\n",
       "    </tr>\n",
       "    <tr>\n",
       "      <th>Livermore-Amador Valley Transit Authority</th>\n",
       "      <td>379</td>\n",
       "      <td>6.741705e+05</td>\n",
       "      <td>418.911164</td>\n",
       "    </tr>\n",
       "    <tr>\n",
       "      <th>Eastern Contra Costa Transit Authority</th>\n",
       "      <td>324</td>\n",
       "      <td>6.333822e+05</td>\n",
       "      <td>393.566431</td>\n",
       "    </tr>\n",
       "    <tr>\n",
       "      <th>Commute.org</th>\n",
       "      <td>250</td>\n",
       "      <td>5.843226e+05</td>\n",
       "      <td>363.082146</td>\n",
       "    </tr>\n",
       "    <tr>\n",
       "      <th>Capitol Corridor Joint Powers Authority</th>\n",
       "      <td>28</td>\n",
       "      <td>4.117839e+05</td>\n",
       "      <td>354.452361</td>\n",
       "    </tr>\n",
       "    <tr>\n",
       "      <th>Peninsula Corridor Joint Powers Board</th>\n",
       "      <td>56</td>\n",
       "      <td>5.547295e+05</td>\n",
       "      <td>344.693760</td>\n",
       "    </tr>\n",
       "    <tr>\n",
       "      <th>Napa Valley Transportation Authority</th>\n",
       "      <td>250</td>\n",
       "      <td>5.253627e+05</td>\n",
       "      <td>326.446069</td>\n",
       "    </tr>\n",
       "    <tr>\n",
       "      <th>City of Santa Rosa</th>\n",
       "      <td>353</td>\n",
       "      <td>3.584204e+05</td>\n",
       "      <td>222.712654</td>\n",
       "    </tr>\n",
       "    <tr>\n",
       "      <th>Western Contra Costa Transit Authority</th>\n",
       "      <td>300</td>\n",
       "      <td>3.547193e+05</td>\n",
       "      <td>220.412909</td>\n",
       "    </tr>\n",
       "    <tr>\n",
       "      <th>San Joaquin Regional Rail Commission</th>\n",
       "      <td>8</td>\n",
       "      <td>1.776857e+05</td>\n",
       "      <td>171.115994</td>\n",
       "    </tr>\n",
       "    <tr>\n",
       "      <th>City of Alameda</th>\n",
       "      <td>94</td>\n",
       "      <td>2.437316e+05</td>\n",
       "      <td>151.448192</td>\n",
       "    </tr>\n",
       "    <tr>\n",
       "      <th>Stanford University</th>\n",
       "      <td>652</td>\n",
       "      <td>2.254214e+05</td>\n",
       "      <td>140.070722</td>\n",
       "    </tr>\n",
       "    <tr>\n",
       "      <th>Stanislaus Regional Transit Authority</th>\n",
       "      <td>2</td>\n",
       "      <td>6.480405e+04</td>\n",
       "      <td>120.288805</td>\n",
       "    </tr>\n",
       "    <tr>\n",
       "      <th>San Joaquin Regional Transit District</th>\n",
       "      <td>7</td>\n",
       "      <td>6.506288e+04</td>\n",
       "      <td>113.245340</td>\n",
       "    </tr>\n",
       "    <tr>\n",
       "      <th>City of Petaluma</th>\n",
       "      <td>216</td>\n",
       "      <td>1.695049e+05</td>\n",
       "      <td>105.325700</td>\n",
       "    </tr>\n",
       "    <tr>\n",
       "      <th>Sonoma-Marin Area Rail Transit District</th>\n",
       "      <td>42</td>\n",
       "      <td>1.551574e+05</td>\n",
       "      <td>96.410553</td>\n",
       "    </tr>\n",
       "    <tr>\n",
       "      <th>Lake Transit Authority</th>\n",
       "      <td>4</td>\n",
       "      <td>6.646264e+04</td>\n",
       "      <td>90.854124</td>\n",
       "    </tr>\n",
       "    <tr>\n",
       "      <th>Yolo County Transportation District</th>\n",
       "      <td>20</td>\n",
       "      <td>1.386114e+04</td>\n",
       "      <td>89.693686</td>\n",
       "    </tr>\n",
       "    <tr>\n",
       "      <th>Mountain View Transportation Management Association</th>\n",
       "      <td>70</td>\n",
       "      <td>1.326112e+05</td>\n",
       "      <td>82.400985</td>\n",
       "    </tr>\n",
       "    <tr>\n",
       "      <th>Dumbarton Bridge Regional Operations Consortium</th>\n",
       "      <td>60</td>\n",
       "      <td>1.189025e+05</td>\n",
       "      <td>73.882797</td>\n",
       "    </tr>\n",
       "    <tr>\n",
       "      <th>Santa Cruz Metropolitan Transit District</th>\n",
       "      <td>4</td>\n",
       "      <td>6.021433e+04</td>\n",
       "      <td>68.834174</td>\n",
       "    </tr>\n",
       "    <tr>\n",
       "      <th>City of Union City</th>\n",
       "      <td>312</td>\n",
       "      <td>9.803564e+04</td>\n",
       "      <td>60.916676</td>\n",
       "    </tr>\n",
       "    <tr>\n",
       "      <th>City of Vacaville</th>\n",
       "      <td>150</td>\n",
       "      <td>9.756872e+04</td>\n",
       "      <td>60.626542</td>\n",
       "    </tr>\n",
       "    <tr>\n",
       "      <th>Monterey-Salinas Transit</th>\n",
       "      <td>8</td>\n",
       "      <td>2.054592e+04</td>\n",
       "      <td>58.501605</td>\n",
       "    </tr>\n",
       "    <tr>\n",
       "      <th>San Benito County Local Transportation Authority</th>\n",
       "      <td>30</td>\n",
       "      <td>2.990480e+04</td>\n",
       "      <td>52.584241</td>\n",
       "    </tr>\n",
       "    <tr>\n",
       "      <th>City of South San Francisco</th>\n",
       "      <td>92</td>\n",
       "      <td>8.203484e+04</td>\n",
       "      <td>50.974210</td>\n",
       "    </tr>\n",
       "    <tr>\n",
       "      <th>City of Fairfield</th>\n",
       "      <td>178</td>\n",
       "      <td>7.707782e+04</td>\n",
       "      <td>47.894054</td>\n",
       "    </tr>\n",
       "    <tr>\n",
       "      <th>City of Mountain View</th>\n",
       "      <td>88</td>\n",
       "      <td>7.407089e+04</td>\n",
       "      <td>46.025631</td>\n",
       "    </tr>\n",
       "    <tr>\n",
       "      <th>Mission Bay Transportation Management Agency</th>\n",
       "      <td>100</td>\n",
       "      <td>4.859140e+04</td>\n",
       "      <td>30.193373</td>\n",
       "    </tr>\n",
       "    <tr>\n",
       "      <th>University of California, Berkeley</th>\n",
       "      <td>174</td>\n",
       "      <td>4.443623e+04</td>\n",
       "      <td>27.611462</td>\n",
       "    </tr>\n",
       "    <tr>\n",
       "      <th>Emeryville Transportation Management Agency</th>\n",
       "      <td>132</td>\n",
       "      <td>3.463765e+04</td>\n",
       "      <td>21.522891</td>\n",
       "    </tr>\n",
       "    <tr>\n",
       "      <th>Presidio Trust</th>\n",
       "      <td>56</td>\n",
       "      <td>2.463962e+04</td>\n",
       "      <td>15.310385</td>\n",
       "    </tr>\n",
       "    <tr>\n",
       "      <th>San Francisco International Airport</th>\n",
       "      <td>403</td>\n",
       "      <td>2.318043e+04</td>\n",
       "      <td>14.403685</td>\n",
       "    </tr>\n",
       "    <tr>\n",
       "      <th>Treasure Island Community Development</th>\n",
       "      <td>28</td>\n",
       "      <td>5.696254e+03</td>\n",
       "      <td>3.539497</td>\n",
       "    </tr>\n",
       "    <tr>\n",
       "      <th>Angel Island-Tiburon Ferry Company</th>\n",
       "      <td>8</td>\n",
       "      <td>3.746671e+03</td>\n",
       "      <td>2.328079</td>\n",
       "    </tr>\n",
       "  </tbody>\n",
       "</table>\n",
       "</div>"
      ],
      "text/plain": [
       "                                                    n_trips        length  \\\n",
       "agency                                                                      \n",
       "Alameda-Contra Costa Transit District                  4730  3.485935e+06   \n",
       "Amtrak                                                    4  8.819057e+05   \n",
       "Santa Clara Valley Transportation Authority            3081  2.698753e+06   \n",
       "Greyhound                                                 4  4.470306e+05   \n",
       "City and County of San Francisco                       6991  1.591804e+06   \n",
       "San Mateo County Transit District                      1431  1.311802e+06   \n",
       "Cloverdale Transit                                      201  1.289374e+06   \n",
       "Golden Gate Bridge, Highway and Transportation ...      177  1.227361e+06   \n",
       "San Francisco Bay Area Rapid Transit District           942  1.151523e+06   \n",
       "Mendocino Transit Authority                               5  3.993320e+05   \n",
       "Solano Transportation Authority                         299  8.835374e+05   \n",
       "Central Contra Costa Transit Authority                  756  8.538256e+05   \n",
       "Marin County Transit District                           441  7.504618e+05   \n",
       "Livermore-Amador Valley Transit Authority               379  6.741705e+05   \n",
       "Eastern Contra Costa Transit Authority                  324  6.333822e+05   \n",
       "Commute.org                                             250  5.843226e+05   \n",
       "Capitol Corridor Joint Powers Authority                  28  4.117839e+05   \n",
       "Peninsula Corridor Joint Powers Board                    56  5.547295e+05   \n",
       "Napa Valley Transportation Authority                    250  5.253627e+05   \n",
       "City of Santa Rosa                                      353  3.584204e+05   \n",
       "Western Contra Costa Transit Authority                  300  3.547193e+05   \n",
       "San Joaquin Regional Rail Commission                      8  1.776857e+05   \n",
       "City of Alameda                                          94  2.437316e+05   \n",
       "Stanford University                                     652  2.254214e+05   \n",
       "Stanislaus Regional Transit Authority                     2  6.480405e+04   \n",
       "San Joaquin Regional Transit District                     7  6.506288e+04   \n",
       "City of Petaluma                                        216  1.695049e+05   \n",
       "Sonoma-Marin Area Rail Transit District                  42  1.551574e+05   \n",
       "Lake Transit Authority                                    4  6.646264e+04   \n",
       "Yolo County Transportation District                      20  1.386114e+04   \n",
       "Mountain View Transportation Management Associa...       70  1.326112e+05   \n",
       "Dumbarton Bridge Regional Operations Consortium          60  1.189025e+05   \n",
       "Santa Cruz Metropolitan Transit District                  4  6.021433e+04   \n",
       "City of Union City                                      312  9.803564e+04   \n",
       "City of Vacaville                                       150  9.756872e+04   \n",
       "Monterey-Salinas Transit                                  8  2.054592e+04   \n",
       "San Benito County Local Transportation Authority         30  2.990480e+04   \n",
       "City of South San Francisco                              92  8.203484e+04   \n",
       "City of Fairfield                                       178  7.707782e+04   \n",
       "City of Mountain View                                    88  7.407089e+04   \n",
       "Mission Bay Transportation Management Agency            100  4.859140e+04   \n",
       "University of California, Berkeley                      174  4.443623e+04   \n",
       "Emeryville Transportation Management Agency             132  3.463765e+04   \n",
       "Presidio Trust                                           56  2.463962e+04   \n",
       "San Francisco International Airport                     403  2.318043e+04   \n",
       "Treasure Island Community Development                    28  5.696254e+03   \n",
       "Angel Island-Tiburon Ferry Company                        8  3.746671e+03   \n",
       "\n",
       "                                                          miles  \n",
       "agency                                                           \n",
       "Alameda-Contra Costa Transit District               2166.065200  \n",
       "Amtrak                                              2051.210219  \n",
       "Santa Clara Valley Transportation Authority         1676.931505  \n",
       "Greyhound                                           1289.211954  \n",
       "City and County of San Francisco                     989.103576  \n",
       "San Mateo County Transit District                    815.118035  \n",
       "Cloverdale Transit                                   801.181541  \n",
       "Golden Gate Bridge, Highway and Transportation ...   762.648936  \n",
       "San Francisco Bay Area Rapid Transit District        715.525038  \n",
       "Mendocino Transit Authority                          570.579868  \n",
       "Solano Transportation Authority                      550.429411  \n",
       "Central Contra Costa Transit Authority               530.543921  \n",
       "Marin County Transit District                        466.316523  \n",
       "Livermore-Amador Valley Transit Authority            418.911164  \n",
       "Eastern Contra Costa Transit Authority               393.566431  \n",
       "Commute.org                                          363.082146  \n",
       "Capitol Corridor Joint Powers Authority              354.452361  \n",
       "Peninsula Corridor Joint Powers Board                344.693760  \n",
       "Napa Valley Transportation Authority                 326.446069  \n",
       "City of Santa Rosa                                   222.712654  \n",
       "Western Contra Costa Transit Authority               220.412909  \n",
       "San Joaquin Regional Rail Commission                 171.115994  \n",
       "City of Alameda                                      151.448192  \n",
       "Stanford University                                  140.070722  \n",
       "Stanislaus Regional Transit Authority                120.288805  \n",
       "San Joaquin Regional Transit District                113.245340  \n",
       "City of Petaluma                                     105.325700  \n",
       "Sonoma-Marin Area Rail Transit District               96.410553  \n",
       "Lake Transit Authority                                90.854124  \n",
       "Yolo County Transportation District                   89.693686  \n",
       "Mountain View Transportation Management Associa...    82.400985  \n",
       "Dumbarton Bridge Regional Operations Consortium       73.882797  \n",
       "Santa Cruz Metropolitan Transit District              68.834174  \n",
       "City of Union City                                    60.916676  \n",
       "City of Vacaville                                     60.626542  \n",
       "Monterey-Salinas Transit                              58.501605  \n",
       "San Benito County Local Transportation Authority      52.584241  \n",
       "City of South San Francisco                           50.974210  \n",
       "City of Fairfield                                     47.894054  \n",
       "City of Mountain View                                 46.025631  \n",
       "Mission Bay Transportation Management Agency          30.193373  \n",
       "University of California, Berkeley                    27.611462  \n",
       "Emeryville Transportation Management Agency           21.522891  \n",
       "Presidio Trust                                        15.310385  \n",
       "San Francisco International Airport                   14.403685  \n",
       "Treasure Island Community Development                  3.539497  \n",
       "Angel Island-Tiburon Ferry Company                     2.328079  "
      ]
     },
     "execution_count": 49,
     "metadata": {},
     "output_type": "execute_result"
    }
   ],
   "source": [
    "mtc.groupby('agency').sum().sort_values('miles', ascending=False)"
   ]
  },
  {
   "cell_type": "code",
   "execution_count": 59,
   "id": "0759c13d-a0e5-4582-8cbf-b2ecb8919e4b",
   "metadata": {
    "tags": []
   },
   "outputs": [],
   "source": [
    "# mtc.explore()"
   ]
  },
  {
   "cell_type": "code",
   "execution_count": 51,
   "id": "91733905-c17a-4c04-91fd-98085d50cfba",
   "metadata": {
    "tags": []
   },
   "outputs": [],
   "source": [
    "countable_mtc = countable.query('mpo==\"Metropolitan Transportation Commission\"')"
   ]
  },
  {
   "cell_type": "code",
   "execution_count": 52,
   "id": "d3e316d4-1cde-40b8-990d-14e12c7f9220",
   "metadata": {
    "tags": []
   },
   "outputs": [
    {
     "data": {
      "text/html": [
       "<div>\n",
       "<style scoped>\n",
       "    .dataframe tbody tr th:only-of-type {\n",
       "        vertical-align: middle;\n",
       "    }\n",
       "\n",
       "    .dataframe tbody tr th {\n",
       "        vertical-align: top;\n",
       "    }\n",
       "\n",
       "    .dataframe thead th {\n",
       "        text-align: right;\n",
       "    }\n",
       "</style>\n",
       "<table border=\"1\" class=\"dataframe\">\n",
       "  <thead>\n",
       "    <tr style=\"text-align: right;\">\n",
       "      <th></th>\n",
       "      <th>mpo</th>\n",
       "      <th>org_id</th>\n",
       "      <th>agency</th>\n",
       "      <th>route_id</th>\n",
       "      <th>route_type</th>\n",
       "      <th>route_name</th>\n",
       "      <th>shape_id</th>\n",
       "      <th>n_trips</th>\n",
       "      <th>base64_url</th>\n",
       "    </tr>\n",
       "  </thead>\n",
       "  <tbody>\n",
       "    <tr>\n",
       "      <th>401</th>\n",
       "      <td>Metropolitan Transportation Commission</td>\n",
       "      <td>recH2FdHvrL7nIpHA</td>\n",
       "      <td>Yolo County Transportation District</td>\n",
       "      <td>230</td>\n",
       "      <td>3</td>\n",
       "      <td>230</td>\n",
       "      <td>0da28263-d4c3-4b19-ac9f-c212d25750bd</td>\n",
       "      <td>3</td>\n",
       "      <td>aHR0cHM6Ly93d3cueW9sb2J1cy5jb20vR1RGUy9nb29nbG...</td>\n",
       "    </tr>\n",
       "    <tr>\n",
       "      <th>403</th>\n",
       "      <td>Metropolitan Transportation Commission</td>\n",
       "      <td>recH2FdHvrL7nIpHA</td>\n",
       "      <td>Yolo County Transportation District</td>\n",
       "      <td>138</td>\n",
       "      <td>3</td>\n",
       "      <td>138</td>\n",
       "      <td>0a364e0e-4501-49fd-825f-a0edd62c6c34</td>\n",
       "      <td>7</td>\n",
       "      <td>aHR0cHM6Ly93d3cueW9sb2J1cy5jb20vR1RGUy9nb29nbG...</td>\n",
       "    </tr>\n",
       "    <tr>\n",
       "      <th>405</th>\n",
       "      <td>Metropolitan Transportation Commission</td>\n",
       "      <td>recIKnsnTdKQ0vsiv</td>\n",
       "      <td>Western Contra Costa Transit Authority</td>\n",
       "      <td>Lynx</td>\n",
       "      <td>3</td>\n",
       "      <td>Lynx</td>\n",
       "      <td>p_5178</td>\n",
       "      <td>11</td>\n",
       "      <td>aHR0cHM6Ly9hcGkuNTExLm9yZy90cmFuc2l0L2RhdGFmZW...</td>\n",
       "    </tr>\n",
       "    <tr>\n",
       "      <th>407</th>\n",
       "      <td>Metropolitan Transportation Commission</td>\n",
       "      <td>recIKnsnTdKQ0vsiv</td>\n",
       "      <td>Western Contra Costa Transit Authority</td>\n",
       "      <td>JX</td>\n",
       "      <td>3</td>\n",
       "      <td>JX</td>\n",
       "      <td>p_898753</td>\n",
       "      <td>13</td>\n",
       "      <td>aHR0cHM6Ly9hcGkuNTExLm9yZy90cmFuc2l0L2RhdGFmZW...</td>\n",
       "    </tr>\n",
       "    <tr>\n",
       "      <th>409</th>\n",
       "      <td>Metropolitan Transportation Commission</td>\n",
       "      <td>recIKnsnTdKQ0vsiv</td>\n",
       "      <td>Western Contra Costa Transit Authority</td>\n",
       "      <td>JPX</td>\n",
       "      <td>3</td>\n",
       "      <td>JPX</td>\n",
       "      <td>p_5197</td>\n",
       "      <td>9</td>\n",
       "      <td>aHR0cHM6Ly9hcGkuNTExLm9yZy90cmFuc2l0L2RhdGFmZW...</td>\n",
       "    </tr>\n",
       "    <tr>\n",
       "      <th>...</th>\n",
       "      <td>...</td>\n",
       "      <td>...</td>\n",
       "      <td>...</td>\n",
       "      <td>...</td>\n",
       "      <td>...</td>\n",
       "      <td>...</td>\n",
       "      <td>...</td>\n",
       "      <td>...</td>\n",
       "      <td>...</td>\n",
       "    </tr>\n",
       "    <tr>\n",
       "      <th>1469</th>\n",
       "      <td>Metropolitan Transportation Commission</td>\n",
       "      <td>recOZgevYf7Jimm9L</td>\n",
       "      <td>Alameda-Contra Costa Transit District</td>\n",
       "      <td>19</td>\n",
       "      <td>3</td>\n",
       "      <td>19</td>\n",
       "      <td>shp-19-03</td>\n",
       "      <td>16</td>\n",
       "      <td>aHR0cHM6Ly9hcGkuNTExLm9yZy90cmFuc2l0L2RhdGFmZW...</td>\n",
       "    </tr>\n",
       "    <tr>\n",
       "      <th>1471</th>\n",
       "      <td>Metropolitan Transportation Commission</td>\n",
       "      <td>recOZgevYf7Jimm9L</td>\n",
       "      <td>Alameda-Contra Costa Transit District</td>\n",
       "      <td>18</td>\n",
       "      <td>3</td>\n",
       "      <td>18</td>\n",
       "      <td>shp-18-52</td>\n",
       "      <td>69</td>\n",
       "      <td>aHR0cHM6Ly9hcGkuNTExLm9yZy90cmFuc2l0L2RhdGFmZW...</td>\n",
       "    </tr>\n",
       "    <tr>\n",
       "      <th>1473</th>\n",
       "      <td>Metropolitan Transportation Commission</td>\n",
       "      <td>recOZgevYf7Jimm9L</td>\n",
       "      <td>Alameda-Contra Costa Transit District</td>\n",
       "      <td>14</td>\n",
       "      <td>3</td>\n",
       "      <td>14</td>\n",
       "      <td>shp-14-53</td>\n",
       "      <td>62</td>\n",
       "      <td>aHR0cHM6Ly9hcGkuNTExLm9yZy90cmFuc2l0L2RhdGFmZW...</td>\n",
       "    </tr>\n",
       "    <tr>\n",
       "      <th>1475</th>\n",
       "      <td>Metropolitan Transportation Commission</td>\n",
       "      <td>recOZgevYf7Jimm9L</td>\n",
       "      <td>Alameda-Contra Costa Transit District</td>\n",
       "      <td>12</td>\n",
       "      <td>3</td>\n",
       "      <td>12</td>\n",
       "      <td>shp-12-52</td>\n",
       "      <td>46</td>\n",
       "      <td>aHR0cHM6Ly9hcGkuNTExLm9yZy90cmFuc2l0L2RhdGFmZW...</td>\n",
       "    </tr>\n",
       "    <tr>\n",
       "      <th>1477</th>\n",
       "      <td>Metropolitan Transportation Commission</td>\n",
       "      <td>recOZgevYf7Jimm9L</td>\n",
       "      <td>Alameda-Contra Costa Transit District</td>\n",
       "      <td>10</td>\n",
       "      <td>3</td>\n",
       "      <td>10</td>\n",
       "      <td>shp-10-01</td>\n",
       "      <td>66</td>\n",
       "      <td>aHR0cHM6Ly9hcGkuNTExLm9yZy90cmFuc2l0L2RhdGFmZW...</td>\n",
       "    </tr>\n",
       "  </tbody>\n",
       "</table>\n",
       "<p>573 rows × 9 columns</p>\n",
       "</div>"
      ],
      "text/plain": [
       "                                         mpo             org_id  \\\n",
       "401   Metropolitan Transportation Commission  recH2FdHvrL7nIpHA   \n",
       "403   Metropolitan Transportation Commission  recH2FdHvrL7nIpHA   \n",
       "405   Metropolitan Transportation Commission  recIKnsnTdKQ0vsiv   \n",
       "407   Metropolitan Transportation Commission  recIKnsnTdKQ0vsiv   \n",
       "409   Metropolitan Transportation Commission  recIKnsnTdKQ0vsiv   \n",
       "...                                      ...                ...   \n",
       "1469  Metropolitan Transportation Commission  recOZgevYf7Jimm9L   \n",
       "1471  Metropolitan Transportation Commission  recOZgevYf7Jimm9L   \n",
       "1473  Metropolitan Transportation Commission  recOZgevYf7Jimm9L   \n",
       "1475  Metropolitan Transportation Commission  recOZgevYf7Jimm9L   \n",
       "1477  Metropolitan Transportation Commission  recOZgevYf7Jimm9L   \n",
       "\n",
       "                                      agency route_id route_type route_name  \\\n",
       "401      Yolo County Transportation District      230          3        230   \n",
       "403      Yolo County Transportation District      138          3        138   \n",
       "405   Western Contra Costa Transit Authority     Lynx          3       Lynx   \n",
       "407   Western Contra Costa Transit Authority       JX          3         JX   \n",
       "409   Western Contra Costa Transit Authority      JPX          3        JPX   \n",
       "...                                      ...      ...        ...        ...   \n",
       "1469   Alameda-Contra Costa Transit District       19          3         19   \n",
       "1471   Alameda-Contra Costa Transit District       18          3         18   \n",
       "1473   Alameda-Contra Costa Transit District       14          3         14   \n",
       "1475   Alameda-Contra Costa Transit District       12          3         12   \n",
       "1477   Alameda-Contra Costa Transit District       10          3         10   \n",
       "\n",
       "                                  shape_id  n_trips  \\\n",
       "401   0da28263-d4c3-4b19-ac9f-c212d25750bd        3   \n",
       "403   0a364e0e-4501-49fd-825f-a0edd62c6c34        7   \n",
       "405                                 p_5178       11   \n",
       "407                               p_898753       13   \n",
       "409                                 p_5197        9   \n",
       "...                                    ...      ...   \n",
       "1469                             shp-19-03       16   \n",
       "1471                             shp-18-52       69   \n",
       "1473                             shp-14-53       62   \n",
       "1475                             shp-12-52       46   \n",
       "1477                             shp-10-01       66   \n",
       "\n",
       "                                             base64_url  \n",
       "401   aHR0cHM6Ly93d3cueW9sb2J1cy5jb20vR1RGUy9nb29nbG...  \n",
       "403   aHR0cHM6Ly93d3cueW9sb2J1cy5jb20vR1RGUy9nb29nbG...  \n",
       "405   aHR0cHM6Ly9hcGkuNTExLm9yZy90cmFuc2l0L2RhdGFmZW...  \n",
       "407   aHR0cHM6Ly9hcGkuNTExLm9yZy90cmFuc2l0L2RhdGFmZW...  \n",
       "409   aHR0cHM6Ly9hcGkuNTExLm9yZy90cmFuc2l0L2RhdGFmZW...  \n",
       "...                                                 ...  \n",
       "1469  aHR0cHM6Ly9hcGkuNTExLm9yZy90cmFuc2l0L2RhdGFmZW...  \n",
       "1471  aHR0cHM6Ly9hcGkuNTExLm9yZy90cmFuc2l0L2RhdGFmZW...  \n",
       "1473  aHR0cHM6Ly9hcGkuNTExLm9yZy90cmFuc2l0L2RhdGFmZW...  \n",
       "1475  aHR0cHM6Ly9hcGkuNTExLm9yZy90cmFuc2l0L2RhdGFmZW...  \n",
       "1477  aHR0cHM6Ly9hcGkuNTExLm9yZy90cmFuc2l0L2RhdGFmZW...  \n",
       "\n",
       "[573 rows x 9 columns]"
      ]
     },
     "execution_count": 52,
     "metadata": {},
     "output_type": "execute_result"
    }
   ],
   "source": [
    "countable_mtc"
   ]
  },
  {
   "cell_type": "markdown",
   "id": "6588c675-e244-4618-9cdd-f864ce5b574d",
   "metadata": {},
   "source": [
    "### santa barbara?"
   ]
  },
  {
   "cell_type": "code",
   "execution_count": 53,
   "id": "39c7f9b6-82ff-4aa0-a90e-ef36edc2bdfc",
   "metadata": {
    "tags": []
   },
   "outputs": [],
   "source": [
    "sb = mpo_routes.query('mpo.str.contains(\"Santa Barbara\")')"
   ]
  },
  {
   "cell_type": "code",
   "execution_count": 60,
   "id": "7b2cc59d-b53e-41e4-a368-b7203358cbc7",
   "metadata": {
    "tags": []
   },
   "outputs": [],
   "source": [
    "# sb.explore()"
   ]
  },
  {
   "cell_type": "code",
   "execution_count": 61,
   "id": "ff0bd57e-6d65-486e-b67e-e4c814ca8822",
   "metadata": {
    "tags": []
   },
   "outputs": [],
   "source": [
    "# sb.query('agency.str.contains(\"Ventura\")').explore()"
   ]
  },
  {
   "cell_type": "code",
   "execution_count": 56,
   "id": "98aad021-5c63-4808-8321-6b280d70d87f",
   "metadata": {
    "tags": []
   },
   "outputs": [],
   "source": [
    "sb_ct = countable.query('mpo.str.contains(\"Santa Barbara\")')"
   ]
  },
  {
   "cell_type": "code",
   "execution_count": 57,
   "id": "a298b63b-1bb3-46a2-bbbf-c6ab42ba5088",
   "metadata": {
    "tags": []
   },
   "outputs": [
    {
     "data": {
      "text/html": [
       "<div>\n",
       "<style scoped>\n",
       "    .dataframe tbody tr th:only-of-type {\n",
       "        vertical-align: middle;\n",
       "    }\n",
       "\n",
       "    .dataframe tbody tr th {\n",
       "        vertical-align: top;\n",
       "    }\n",
       "\n",
       "    .dataframe thead th {\n",
       "        text-align: right;\n",
       "    }\n",
       "</style>\n",
       "<table border=\"1\" class=\"dataframe\">\n",
       "  <thead>\n",
       "    <tr style=\"text-align: right;\">\n",
       "      <th></th>\n",
       "      <th>mpo</th>\n",
       "      <th>org_id</th>\n",
       "      <th>route_id</th>\n",
       "      <th>route_type</th>\n",
       "      <th>route_name</th>\n",
       "      <th>shape_id</th>\n",
       "      <th>n_trips</th>\n",
       "      <th>base64_url</th>\n",
       "    </tr>\n",
       "    <tr>\n",
       "      <th>agency</th>\n",
       "      <th></th>\n",
       "      <th></th>\n",
       "      <th></th>\n",
       "      <th></th>\n",
       "      <th></th>\n",
       "      <th></th>\n",
       "      <th></th>\n",
       "      <th></th>\n",
       "    </tr>\n",
       "  </thead>\n",
       "  <tbody>\n",
       "    <tr>\n",
       "      <th>Amtrak</th>\n",
       "      <td>2</td>\n",
       "      <td>2</td>\n",
       "      <td>2</td>\n",
       "      <td>2</td>\n",
       "      <td>2</td>\n",
       "      <td>2</td>\n",
       "      <td>2</td>\n",
       "      <td>2</td>\n",
       "    </tr>\n",
       "    <tr>\n",
       "      <th>City of Guadalupe</th>\n",
       "      <td>2</td>\n",
       "      <td>2</td>\n",
       "      <td>2</td>\n",
       "      <td>2</td>\n",
       "      <td>2</td>\n",
       "      <td>2</td>\n",
       "      <td>2</td>\n",
       "      <td>2</td>\n",
       "    </tr>\n",
       "    <tr>\n",
       "      <th>City of Lompoc</th>\n",
       "      <td>5</td>\n",
       "      <td>5</td>\n",
       "      <td>5</td>\n",
       "      <td>5</td>\n",
       "      <td>5</td>\n",
       "      <td>5</td>\n",
       "      <td>5</td>\n",
       "      <td>5</td>\n",
       "    </tr>\n",
       "    <tr>\n",
       "      <th>City of Santa Maria</th>\n",
       "      <td>16</td>\n",
       "      <td>16</td>\n",
       "      <td>16</td>\n",
       "      <td>16</td>\n",
       "      <td>16</td>\n",
       "      <td>16</td>\n",
       "      <td>16</td>\n",
       "      <td>16</td>\n",
       "    </tr>\n",
       "    <tr>\n",
       "      <th>City of Solvang</th>\n",
       "      <td>2</td>\n",
       "      <td>2</td>\n",
       "      <td>2</td>\n",
       "      <td>2</td>\n",
       "      <td>2</td>\n",
       "      <td>2</td>\n",
       "      <td>2</td>\n",
       "      <td>2</td>\n",
       "    </tr>\n",
       "    <tr>\n",
       "      <th>San Luis Obispo Regional Transit Authority</th>\n",
       "      <td>2</td>\n",
       "      <td>2</td>\n",
       "      <td>2</td>\n",
       "      <td>2</td>\n",
       "      <td>2</td>\n",
       "      <td>2</td>\n",
       "      <td>2</td>\n",
       "      <td>2</td>\n",
       "    </tr>\n",
       "    <tr>\n",
       "      <th>Santa Barbara County Association of Governments</th>\n",
       "      <td>5</td>\n",
       "      <td>5</td>\n",
       "      <td>5</td>\n",
       "      <td>5</td>\n",
       "      <td>5</td>\n",
       "      <td>5</td>\n",
       "      <td>5</td>\n",
       "      <td>5</td>\n",
       "    </tr>\n",
       "    <tr>\n",
       "      <th>Ventura County Transportation Commission</th>\n",
       "      <td>12</td>\n",
       "      <td>12</td>\n",
       "      <td>12</td>\n",
       "      <td>12</td>\n",
       "      <td>12</td>\n",
       "      <td>12</td>\n",
       "      <td>12</td>\n",
       "      <td>12</td>\n",
       "    </tr>\n",
       "  </tbody>\n",
       "</table>\n",
       "</div>"
      ],
      "text/plain": [
       "                                                 mpo  org_id  route_id  \\\n",
       "agency                                                                   \n",
       "Amtrak                                             2       2         2   \n",
       "City of Guadalupe                                  2       2         2   \n",
       "City of Lompoc                                     5       5         5   \n",
       "City of Santa Maria                               16      16        16   \n",
       "City of Solvang                                    2       2         2   \n",
       "San Luis Obispo Regional Transit Authority         2       2         2   \n",
       "Santa Barbara County Association of Governments    5       5         5   \n",
       "Ventura County Transportation Commission          12      12        12   \n",
       "\n",
       "                                                 route_type  route_name  \\\n",
       "agency                                                                    \n",
       "Amtrak                                                    2           2   \n",
       "City of Guadalupe                                         2           2   \n",
       "City of Lompoc                                            5           5   \n",
       "City of Santa Maria                                      16          16   \n",
       "City of Solvang                                           2           2   \n",
       "San Luis Obispo Regional Transit Authority                2           2   \n",
       "Santa Barbara County Association of Governments           5           5   \n",
       "Ventura County Transportation Commission                 12          12   \n",
       "\n",
       "                                                 shape_id  n_trips  base64_url  \n",
       "agency                                                                          \n",
       "Amtrak                                                  2        2           2  \n",
       "City of Guadalupe                                       2        2           2  \n",
       "City of Lompoc                                          5        5           5  \n",
       "City of Santa Maria                                    16       16          16  \n",
       "City of Solvang                                         2        2           2  \n",
       "San Luis Obispo Regional Transit Authority              2        2           2  \n",
       "Santa Barbara County Association of Governments         5        5           5  \n",
       "Ventura County Transportation Commission               12       12          12  "
      ]
     },
     "execution_count": 57,
     "metadata": {},
     "output_type": "execute_result"
    }
   ],
   "source": [
    "sb_ct.groupby('agency').count() #  exclude VCTC duplicates, otherwise OK"
   ]
  },
  {
   "cell_type": "code",
   "execution_count": 58,
   "id": "50f0a18f-b9c3-4444-a6c1-48ee3d18acf0",
   "metadata": {
    "tags": []
   },
   "outputs": [
    {
     "data": {
      "text/html": [
       "<div>\n",
       "<style scoped>\n",
       "    .dataframe tbody tr th:only-of-type {\n",
       "        vertical-align: middle;\n",
       "    }\n",
       "\n",
       "    .dataframe tbody tr th {\n",
       "        vertical-align: top;\n",
       "    }\n",
       "\n",
       "    .dataframe thead th {\n",
       "        text-align: right;\n",
       "    }\n",
       "</style>\n",
       "<table border=\"1\" class=\"dataframe\">\n",
       "  <thead>\n",
       "    <tr style=\"text-align: right;\">\n",
       "      <th></th>\n",
       "      <th>mpo</th>\n",
       "      <th>org_id</th>\n",
       "      <th>agency</th>\n",
       "      <th>route_id</th>\n",
       "      <th>route_type</th>\n",
       "      <th>route_name</th>\n",
       "      <th>shape_id</th>\n",
       "      <th>n_trips</th>\n",
       "      <th>base64_url</th>\n",
       "    </tr>\n",
       "  </thead>\n",
       "  <tbody>\n",
       "  </tbody>\n",
       "</table>\n",
       "</div>"
      ],
      "text/plain": [
       "Empty DataFrame\n",
       "Columns: [mpo, org_id, agency, route_id, route_type, route_name, shape_id, n_trips, base64_url]\n",
       "Index: []"
      ]
     },
     "execution_count": 58,
     "metadata": {},
     "output_type": "execute_result"
    }
   ],
   "source": [
    "sb_ct.query('agency.str.contains(\"Metro\")')"
   ]
  }
 ],
 "metadata": {
  "kernelspec": {
   "display_name": "Python 3 (ipykernel)",
   "language": "python",
   "name": "python3"
  },
  "language_info": {
   "codemirror_mode": {
    "name": "ipython",
    "version": 3
   },
   "file_extension": ".py",
   "mimetype": "text/x-python",
   "name": "python",
   "nbconvert_exporter": "python",
   "pygments_lexer": "ipython3",
   "version": "3.11.10"
  },
  "widgets": {
   "application/vnd.jupyter.widget-state+json": {
    "state": {},
    "version_major": 2,
    "version_minor": 0
   }
  }
 },
 "nbformat": 4,
 "nbformat_minor": 5
}
