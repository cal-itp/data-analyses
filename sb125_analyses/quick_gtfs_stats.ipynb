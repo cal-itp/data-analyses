{
 "cells": [
  {
   "cell_type": "code",
   "execution_count": 1,
   "id": "b5070d76-8c1c-40e0-a709-026e45ebf958",
   "metadata": {
    "tags": []
   },
   "outputs": [],
   "source": [
    "import intake\n",
    "import pandas as pd\n",
    "import geopandas as gpd\n",
    "\n",
    "from calitp_data_analysis.geography_utils import CA_NAD83Albers_m"
   ]
  },
  {
   "cell_type": "markdown",
   "id": "4537e4b5-6237-4075-bdb6-f5a96d8e442d",
   "metadata": {},
   "source": [
    "# quick GTFS-based stats for section 1e"
   ]
  },
  {
   "cell_type": "code",
   "execution_count": 2,
   "id": "b0e62192-3ce8-4f1d-82a7-9e98312359ef",
   "metadata": {
    "tags": []
   },
   "outputs": [],
   "source": [
    "catalog = intake.open_catalog(\"../_shared_utils/shared_utils/shared_data_catalog.yml\")"
   ]
  },
  {
   "cell_type": "code",
   "execution_count": 20,
   "id": "2001d826-44d0-4f91-9684-6def51f72c86",
   "metadata": {
    "tags": []
   },
   "outputs": [],
   "source": [
    "mpos = catalog.metropolitan_planning_orgs.read()[['MPO', 'geometry']].to_crs(CA_NAD83Albers_m).rename(columns={\"MPO\":\"mpo\"})"
   ]
  },
  {
   "cell_type": "code",
   "execution_count": 5,
   "id": "a9d66530-1029-4dd9-b6ff-1d4950092cd7",
   "metadata": {
    "tags": []
   },
   "outputs": [],
   "source": [
    "ct_dist = catalog.caltrans_districts.read().to_crs(CA_NAD83Albers_m)"
   ]
  },
  {
   "cell_type": "code",
   "execution_count": 7,
   "id": "9cca7f96-f766-44cc-b0f2-c35ef29b027d",
   "metadata": {
    "tags": []
   },
   "outputs": [],
   "source": [
    "stops = catalog.ca_transit_stops.read().to_crs(CA_NAD83Albers_m).clip(ct_dist)"
   ]
  },
  {
   "cell_type": "code",
   "execution_count": 8,
   "id": "0d5125c6-b7e6-4374-ac65-76597d8a21d9",
   "metadata": {
    "tags": []
   },
   "outputs": [],
   "source": [
    "routes = catalog.ca_transit_routes.read().to_crs(CA_NAD83Albers_m).clip(ct_dist)"
   ]
  },
  {
   "cell_type": "code",
   "execution_count": 9,
   "id": "cd6605e3-776c-4604-806b-cd278581db98",
   "metadata": {
    "tags": []
   },
   "outputs": [],
   "source": [
    "hqta = catalog.hqta_areas.read().to_crs(CA_NAD83Albers_m).clip(ct_dist)"
   ]
  },
  {
   "cell_type": "code",
   "execution_count": 10,
   "id": "51af9d33-cdd7-4e1e-9f05-a547b25a8978",
   "metadata": {
    "tags": []
   },
   "outputs": [],
   "source": [
    "routes['length'] = routes.geometry.map(lambda x: x.length)"
   ]
  },
  {
   "cell_type": "code",
   "execution_count": 101,
   "id": "bb825aea-55e5-43f0-a694-a4688150e792",
   "metadata": {
    "tags": []
   },
   "outputs": [],
   "source": [
    "routes_top2 = routes.sort_values(['agency', 'route_id', 'length'],\n",
    "                  ascending=False).groupby(['agency', 'route_id']).head(2)\n",
    "routes_top2 = routes_top2.assign(miles = routes_top2.length / rt_utils.METERS_PER_MILE)"
   ]
  },
  {
   "cell_type": "code",
   "execution_count": 168,
   "id": "d45007b8-cbd0-46a3-9840-0cf65bf0e1cb",
   "metadata": {
    "tags": []
   },
   "outputs": [],
   "source": [
    "def overlay_to_routes(mpo_gdf, routes_gdf = routes_top2):\n",
    "    \n",
    "    overlaid = mpo_gdf.overlay(routes_gdf, keep_geom_type=False)\n",
    "    overlaid.length = overlaid.geometry.map(lambda x: x.length)\n",
    "    return overlaid"
   ]
  },
  {
   "cell_type": "code",
   "execution_count": 169,
   "id": "de89e51e-a875-40d2-8fce-5b5b54daa2b1",
   "metadata": {
    "tags": []
   },
   "outputs": [],
   "source": [
    "mpo_routes = mpos.groupby('mpo').apply(overlay_to_routes)"
   ]
  },
  {
   "cell_type": "code",
   "execution_count": 170,
   "id": "533a62c2-1c62-489d-ab1f-b8b0b160f63c",
   "metadata": {
    "tags": []
   },
   "outputs": [],
   "source": [
    "from shared_utils import rt_utils"
   ]
  },
  {
   "cell_type": "markdown",
   "id": "59af1994-c712-45e3-8cfb-eb9fc4994825",
   "metadata": {},
   "source": [
    "## routes\n",
    "\n",
    "* keep longest 2 shapes per route -- imperfect but ok for a general estimate"
   ]
  },
  {
   "cell_type": "code",
   "execution_count": 171,
   "id": "7e797020-0a65-4694-8945-3b532ca1419c",
   "metadata": {
    "tags": []
   },
   "outputs": [],
   "source": [
    "mpo_routes = mpo_routes.reset_index(drop=True)"
   ]
  },
  {
   "cell_type": "code",
   "execution_count": 172,
   "id": "f918d62b-a340-4b5b-a930-c6fe0dc54bd0",
   "metadata": {
    "tags": []
   },
   "outputs": [],
   "source": [
    "countable = mpo_routes.drop_duplicates(subset=['mpo', 'agency', 'route_id'])"
   ]
  },
  {
   "cell_type": "code",
   "execution_count": 173,
   "id": "47f2a98c-1882-4757-b9b9-ab7ce30432b2",
   "metadata": {
    "tags": []
   },
   "outputs": [],
   "source": [
    "mpo_route_count = countable.groupby('mpo').count().reset_index()[['mpo', 'route_id']].rename(columns={\"route_id\":\"n_routes\"})"
   ]
  },
  {
   "cell_type": "code",
   "execution_count": 174,
   "id": "5c85640a-d4ad-46d5-b5e7-b5354af73bfe",
   "metadata": {
    "tags": []
   },
   "outputs": [],
   "source": [
    "mpo_route_mi = mpo_routes.groupby('mpo')[['miles']].sum().reset_index().rename(columns={\"miles\":\"total_route_miles\"})"
   ]
  },
  {
   "cell_type": "code",
   "execution_count": 175,
   "id": "ae49b595-e37d-4461-9b7f-aad0489e800e",
   "metadata": {
    "tags": []
   },
   "outputs": [],
   "source": [
    "mpo_route_info = mpo_route_count.merge(mpo_route_mi, on='mpo')"
   ]
  },
  {
   "cell_type": "code",
   "execution_count": 176,
   "id": "018f4d4a-0d2c-4efd-848c-8e66365a2519",
   "metadata": {
    "tags": []
   },
   "outputs": [
    {
     "data": {
      "text/plain": [
       "5769"
      ]
     },
     "execution_count": 176,
     "metadata": {},
     "output_type": "execute_result"
    }
   ],
   "source": [
    "routes_top2.route_id.count()"
   ]
  },
  {
   "cell_type": "code",
   "execution_count": 177,
   "id": "465dc741-d952-40ac-875f-342e8bf32a13",
   "metadata": {
    "tags": []
   },
   "outputs": [
    {
     "data": {
      "text/plain": [
       "98560.05838177583"
      ]
     },
     "execution_count": 177,
     "metadata": {},
     "output_type": "execute_result"
    }
   ],
   "source": [
    "routes_top2.miles.sum()"
   ]
  },
  {
   "cell_type": "code",
   "execution_count": 178,
   "id": "4cce939d-d4d7-4ea4-9d91-99e92f6febbd",
   "metadata": {
    "tags": []
   },
   "outputs": [],
   "source": [
    "mpo_route_info.round(1).to_csv('routes_by_mpo.csv')"
   ]
  },
  {
   "cell_type": "markdown",
   "id": "e1862c9b-be27-4c89-91ac-b25c3752535a",
   "metadata": {},
   "source": [
    "## stops"
   ]
  },
  {
   "cell_type": "code",
   "execution_count": 60,
   "id": "4dae76a8-3fdb-4e5c-9847-7316704dc3d5",
   "metadata": {
    "tags": []
   },
   "outputs": [],
   "source": [
    "def overlay_to_stops(mpo_gdf, stops_gdf = stops):\n",
    "    \n",
    "    overlaid = mpo_gdf.overlay(stops_gdf, keep_geom_type=False)\n",
    "    return overlaid"
   ]
  },
  {
   "cell_type": "code",
   "execution_count": 65,
   "id": "366061c8-494e-4906-b568-5799d3cd4bd0",
   "metadata": {
    "tags": []
   },
   "outputs": [],
   "source": [
    "mpo_stops = mpos.groupby('mpo').apply(overlay_to_stops)"
   ]
  },
  {
   "cell_type": "code",
   "execution_count": 68,
   "id": "2fdcd73f-10ba-41c0-991b-9d658914a682",
   "metadata": {
    "tags": []
   },
   "outputs": [],
   "source": [
    "mpo_stops = mpo_stops.reset_index(drop=True)"
   ]
  },
  {
   "cell_type": "code",
   "execution_count": 93,
   "id": "0bc1eac0-48c5-4955-a32c-cf4608c51d7c",
   "metadata": {
    "tags": []
   },
   "outputs": [],
   "source": [
    "mpo_stop_count = mpo_stops.groupby(['mpo', 'routetypes'])[['stop_id']].count().reset_index().rename(columns={'stop_id':'stop_count'})"
   ]
  },
  {
   "cell_type": "code",
   "execution_count": 94,
   "id": "8346fe7a-19b6-4738-8376-5f924311e2ed",
   "metadata": {
    "tags": []
   },
   "outputs": [],
   "source": [
    "def route_types_to_name(route_types):\n",
    "    rttype_list = [x.strip() for x in route_types.split(',')]\n",
    "    name_list = [rt_utils.route_type_names[rttype] for rttype in rttype_list]\n",
    "    return \" and \".join(name_list)"
   ]
  },
  {
   "cell_type": "code",
   "execution_count": 95,
   "id": "1da80c71-a29c-4b9e-9071-58a9c783c2c0",
   "metadata": {
    "tags": []
   },
   "outputs": [],
   "source": [
    "mpo_stop_count = mpo_stop_count.assign(\n",
    "    route_type_names = mpo_stop_count.routetypes.map(lambda x: route_types_to_name(x)))"
   ]
  },
  {
   "cell_type": "code",
   "execution_count": 97,
   "id": "3d32ce00-7d0a-43bd-9b6b-2d1d8d05ac59",
   "metadata": {
    "tags": []
   },
   "outputs": [
    {
     "data": {
      "text/html": [
       "<div>\n",
       "<style scoped>\n",
       "    .dataframe tbody tr th:only-of-type {\n",
       "        vertical-align: middle;\n",
       "    }\n",
       "\n",
       "    .dataframe tbody tr th {\n",
       "        vertical-align: top;\n",
       "    }\n",
       "\n",
       "    .dataframe thead th {\n",
       "        text-align: right;\n",
       "    }\n",
       "</style>\n",
       "<table border=\"1\" class=\"dataframe\">\n",
       "  <thead>\n",
       "    <tr style=\"text-align: right;\">\n",
       "      <th></th>\n",
       "      <th>mpo</th>\n",
       "      <th>routetypes</th>\n",
       "      <th>stop_count</th>\n",
       "      <th>route_type_names</th>\n",
       "    </tr>\n",
       "  </thead>\n",
       "  <tbody>\n",
       "    <tr>\n",
       "      <th>0</th>\n",
       "      <td>Association of Monterey Bay Area Governments</td>\n",
       "      <td>2, 3</td>\n",
       "      <td>3</td>\n",
       "      <td>Rail and Bus</td>\n",
       "    </tr>\n",
       "    <tr>\n",
       "      <th>1</th>\n",
       "      <td>Association of Monterey Bay Area Governments</td>\n",
       "      <td>3</td>\n",
       "      <td>1802</td>\n",
       "      <td>Bus</td>\n",
       "    </tr>\n",
       "  </tbody>\n",
       "</table>\n",
       "</div>"
      ],
      "text/plain": [
       "                                            mpo routetypes  stop_count  \\\n",
       "0  Association of Monterey Bay Area Governments       2, 3           3   \n",
       "1  Association of Monterey Bay Area Governments          3        1802   \n",
       "\n",
       "  route_type_names  \n",
       "0     Rail and Bus  \n",
       "1              Bus  "
      ]
     },
     "execution_count": 97,
     "metadata": {},
     "output_type": "execute_result"
    }
   ],
   "source": [
    "mpo_stop_count.head(2)"
   ]
  },
  {
   "cell_type": "code",
   "execution_count": 158,
   "id": "8583d2c7-db5d-4c1f-a5a5-6232f486a049",
   "metadata": {
    "tags": []
   },
   "outputs": [],
   "source": [
    "mpo_stop_count.to_csv('stops_by_mpo.csv')"
   ]
  },
  {
   "cell_type": "code",
   "execution_count": 112,
   "id": "b5908d90-3b21-48ad-98ca-799780464b35",
   "metadata": {
    "tags": []
   },
   "outputs": [],
   "source": [
    "all_stop_count = stops[['routetypes', 'stop_id']].groupby(['routetypes'])[['stop_id']].count().reset_index().rename(columns={'stop_id':'stop_count'})"
   ]
  },
  {
   "cell_type": "code",
   "execution_count": 114,
   "id": "2990f444-a50e-48d7-a79b-bd77aa86b806",
   "metadata": {
    "tags": []
   },
   "outputs": [],
   "source": [
    "all_stop_count = all_stop_count.assign(\n",
    "    route_type_names = all_stop_count.routetypes.map(lambda x: route_types_to_name(x)))"
   ]
  },
  {
   "cell_type": "code",
   "execution_count": 159,
   "id": "a45ba348-5f85-458b-bccc-0cb502356d94",
   "metadata": {
    "tags": []
   },
   "outputs": [],
   "source": [
    "all_stop_count.to_csv('all_stops.csv')"
   ]
  },
  {
   "cell_type": "code",
   "execution_count": 115,
   "id": "b9431707-0ec5-452c-8f6f-2af2329da48c",
   "metadata": {
    "tags": []
   },
   "outputs": [
    {
     "data": {
      "text/html": [
       "<div>\n",
       "<style scoped>\n",
       "    .dataframe tbody tr th:only-of-type {\n",
       "        vertical-align: middle;\n",
       "    }\n",
       "\n",
       "    .dataframe tbody tr th {\n",
       "        vertical-align: top;\n",
       "    }\n",
       "\n",
       "    .dataframe thead th {\n",
       "        text-align: right;\n",
       "    }\n",
       "</style>\n",
       "<table border=\"1\" class=\"dataframe\">\n",
       "  <thead>\n",
       "    <tr style=\"text-align: right;\">\n",
       "      <th></th>\n",
       "      <th>routetypes</th>\n",
       "      <th>stop_count</th>\n",
       "      <th>route_type_names</th>\n",
       "    </tr>\n",
       "  </thead>\n",
       "  <tbody>\n",
       "    <tr>\n",
       "      <th>0</th>\n",
       "      <td>0</td>\n",
       "      <td>1481</td>\n",
       "      <td>Tram, Streetcar, Light rail</td>\n",
       "    </tr>\n",
       "    <tr>\n",
       "      <th>1</th>\n",
       "      <td>0, 3</td>\n",
       "      <td>286</td>\n",
       "      <td>Tram, Streetcar, Light rail and Bus</td>\n",
       "    </tr>\n",
       "    <tr>\n",
       "      <th>2</th>\n",
       "      <td>1</td>\n",
       "      <td>121</td>\n",
       "      <td>Subway, Metro</td>\n",
       "    </tr>\n",
       "    <tr>\n",
       "      <th>3</th>\n",
       "      <td>2</td>\n",
       "      <td>340</td>\n",
       "      <td>Rail</td>\n",
       "    </tr>\n",
       "    <tr>\n",
       "      <th>4</th>\n",
       "      <td>2, 3</td>\n",
       "      <td>113</td>\n",
       "      <td>Rail and Bus</td>\n",
       "    </tr>\n",
       "    <tr>\n",
       "      <th>5</th>\n",
       "      <td>3</td>\n",
       "      <td>126391</td>\n",
       "      <td>Bus</td>\n",
       "    </tr>\n",
       "    <tr>\n",
       "      <th>6</th>\n",
       "      <td>3, 5</td>\n",
       "      <td>2</td>\n",
       "      <td>Bus and Cable tram</td>\n",
       "    </tr>\n",
       "    <tr>\n",
       "      <th>7</th>\n",
       "      <td>4</td>\n",
       "      <td>49</td>\n",
       "      <td>Ferry</td>\n",
       "    </tr>\n",
       "    <tr>\n",
       "      <th>8</th>\n",
       "      <td>5</td>\n",
       "      <td>230</td>\n",
       "      <td>Cable tram</td>\n",
       "    </tr>\n",
       "  </tbody>\n",
       "</table>\n",
       "</div>"
      ],
      "text/plain": [
       "  routetypes  stop_count                     route_type_names\n",
       "0          0        1481          Tram, Streetcar, Light rail\n",
       "1       0, 3         286  Tram, Streetcar, Light rail and Bus\n",
       "2          1         121                        Subway, Metro\n",
       "3          2         340                                 Rail\n",
       "4       2, 3         113                         Rail and Bus\n",
       "5          3      126391                                  Bus\n",
       "6       3, 5           2                   Bus and Cable tram\n",
       "7          4          49                                Ferry\n",
       "8          5         230                           Cable tram"
      ]
     },
     "execution_count": 115,
     "metadata": {},
     "output_type": "execute_result"
    }
   ],
   "source": [
    "all_stop_count"
   ]
  },
  {
   "cell_type": "markdown",
   "id": "05e62e2f-0460-4cc5-bacc-cafc98f49f4f",
   "metadata": {},
   "source": [
    "## hqta\n",
    "\n",
    "* MTS areas, dissolve\n",
    "* HQTC outside MTS areas, dissolve"
   ]
  },
  {
   "cell_type": "code",
   "execution_count": 118,
   "id": "66e25068-baa2-41bd-a550-c43a7609a689",
   "metadata": {
    "tags": []
   },
   "outputs": [],
   "source": [
    "mts = hqta[hqta.hqta_type.str.contains('major')]"
   ]
  },
  {
   "cell_type": "code",
   "execution_count": 123,
   "id": "b86c19d5-ae23-45f7-8414-15842fb25e2d",
   "metadata": {
    "tags": []
   },
   "outputs": [],
   "source": [
    "mts_dissolved = mts.dissolve()"
   ]
  },
  {
   "cell_type": "code",
   "execution_count": 134,
   "id": "190c031d-bfad-4a53-903f-f2f92196091c",
   "metadata": {
    "tags": []
   },
   "outputs": [],
   "source": [
    "SQ_M_TO_SQ_MI = 1/2.59e6"
   ]
  },
  {
   "cell_type": "code",
   "execution_count": 135,
   "id": "f0339771-e524-466e-93b1-c99c88335bd0",
   "metadata": {
    "tags": []
   },
   "outputs": [
    {
     "data": {
      "text/plain": [
       "910.7258667381161"
      ]
     },
     "execution_count": 135,
     "metadata": {},
     "output_type": "execute_result"
    }
   ],
   "source": [
    "mts_dissolved.geometry.area.iloc[0] * SQ_M_TO_SQ_MI"
   ]
  },
  {
   "cell_type": "code",
   "execution_count": 128,
   "id": "83314858-34a0-424e-a8c3-5476f047a3ce",
   "metadata": {
    "tags": []
   },
   "outputs": [],
   "source": [
    "hqtc = hqta[~hqta.hqta_type.str.contains('major')]\n",
    "hqtc_dissolved = hqtc.dissolve()"
   ]
  },
  {
   "cell_type": "code",
   "execution_count": 131,
   "id": "913be8e7-9c43-45ee-8ff7-55b87c5a6bbe",
   "metadata": {
    "tags": []
   },
   "outputs": [],
   "source": [
    "hqtc_outside_mts = hqtc_dissolved.overlay(mts_dissolved, how='difference')"
   ]
  },
  {
   "cell_type": "code",
   "execution_count": 136,
   "id": "bf557486-54a2-46ee-9711-3ce992d43c85",
   "metadata": {
    "tags": []
   },
   "outputs": [
    {
     "data": {
      "text/plain": [
       "534.2202002565607"
      ]
     },
     "execution_count": 136,
     "metadata": {},
     "output_type": "execute_result"
    }
   ],
   "source": [
    "hqtc_outside_mts.geometry.area.iloc[0] * SQ_M_TO_SQ_MI"
   ]
  },
  {
   "cell_type": "code",
   "execution_count": 144,
   "id": "d38fb465-50d8-411d-88d8-089c2e831a1a",
   "metadata": {
    "tags": []
   },
   "outputs": [],
   "source": [
    "import shapely"
   ]
  },
  {
   "cell_type": "code",
   "execution_count": 150,
   "id": "54eca7eb-f2e0-4339-abbf-282f10d08a77",
   "metadata": {
    "tags": []
   },
   "outputs": [],
   "source": [
    "def overlay_to_mts_hqtc(mpo_gdf):\n",
    "    mpo_mts = mts_dissolved.overlay(mpo_gdf)\n",
    "    # print(mpo_mts.geometry)\n",
    "    if not mpo_mts.geometry.empty:\n",
    "        mpo_gdf['major_transit_stop_sq_mi'] = mpo_mts.geometry.area.iloc[0] * SQ_M_TO_SQ_MI\n",
    "    mpo_hqtc = hqtc_outside_mts.overlay(mpo_gdf)\n",
    "    # print(mpo_hqtc.geometry)\n",
    "    if not mpo_hqtc.geometry.empty:\n",
    "        mpo_gdf['additional_hq_corridor_sq_mi'] = mpo_hqtc.geometry.area.iloc[0] * SQ_M_TO_SQ_MI\n",
    "    \n",
    "    return mpo_gdf"
   ]
  },
  {
   "cell_type": "code",
   "execution_count": 151,
   "id": "68b2eb71-3e82-495b-a449-92f74d4bd533",
   "metadata": {
    "tags": []
   },
   "outputs": [
    {
     "name": "stderr",
     "output_type": "stream",
     "text": [
      "/tmp/ipykernel_762/3242399462.py:1: FutureWarning: Not prepending group keys to the result index of transform-like apply. In the future, the group keys will be included in the index, regardless of whether the applied function returns a like-indexed object.\n",
      "To preserve the previous behavior, use\n",
      "\n",
      "\t>>> .groupby(..., group_keys=False)\n",
      "\n",
      "To adopt the future behavior and silence this warning, use \n",
      "\n",
      "\t>>> .groupby(..., group_keys=True)\n",
      "  mpo_mts_hqtc = mpos.groupby('mpo').apply(overlay_to_mts_hqtc)\n"
     ]
    }
   ],
   "source": [
    "mpo_mts_hqtc = mpos.groupby('mpo').apply(overlay_to_mts_hqtc)"
   ]
  },
  {
   "cell_type": "code",
   "execution_count": 161,
   "id": "68cb20a1-c5f9-4673-a5ed-a2f1e1b9815d",
   "metadata": {
    "tags": []
   },
   "outputs": [],
   "source": [
    "mpo_mts_hqtc.round(1).drop(columns=['geometry']).to_csv('mts_hq_corr_by_mpo.csv')"
   ]
  }
 ],
 "metadata": {
  "kernelspec": {
   "display_name": "Python 3 (ipykernel)",
   "language": "python",
   "name": "python3"
  },
  "language_info": {
   "codemirror_mode": {
    "name": "ipython",
    "version": 3
   },
   "file_extension": ".py",
   "mimetype": "text/x-python",
   "name": "python",
   "nbconvert_exporter": "python",
   "pygments_lexer": "ipython3",
   "version": "3.11.10"
  },
  "widgets": {
   "application/vnd.jupyter.widget-state+json": {
    "state": {},
    "version_major": 2,
    "version_minor": 0
   }
  }
 },
 "nbformat": 4,
 "nbformat_minor": 5
}
