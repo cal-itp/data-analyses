{
 "cells": [
  {
   "cell_type": "code",
   "execution_count": null,
   "id": "b5070d76-8c1c-40e0-a709-026e45ebf958",
   "metadata": {
    "tags": []
   },
   "outputs": [],
   "source": [
    "import intake\n",
    "import pandas as pd\n",
    "import geopandas as gpd\n",
    "\n",
    "from calitp_data_analysis.geography_utils import CA_NAD83Albers_m\n",
    "from shared_utils import rt_utils\n",
    "\n",
    "import google.auth\n",
    "credentials, project = google.auth.default()"
   ]
  },
  {
   "cell_type": "code",
   "execution_count": null,
   "id": "608f614c-29bc-4cae-ae4e-a75821f9059e",
   "metadata": {
    "tags": []
   },
   "outputs": [],
   "source": [
    "import sys\n",
    "sys.path.append('../open_data/')"
   ]
  },
  {
   "cell_type": "code",
   "execution_count": null,
   "id": "5e3c56fb-6738-4f08-9274-2233f284cf02",
   "metadata": {
    "tags": []
   },
   "outputs": [],
   "source": [
    "import open_data_utils"
   ]
  },
  {
   "cell_type": "markdown",
   "id": "4537e4b5-6237-4075-bdb6-f5a96d8e442d",
   "metadata": {},
   "source": [
    "# quick GTFS-based stats for section 1e"
   ]
  },
  {
   "cell_type": "code",
   "execution_count": null,
   "id": "b0e62192-3ce8-4f1d-82a7-9e98312359ef",
   "metadata": {
    "tags": []
   },
   "outputs": [],
   "source": [
    "catalog = intake.open_catalog(\"../_shared_utils/shared_utils/shared_data_catalog.yml\")"
   ]
  },
  {
   "cell_type": "code",
   "execution_count": null,
   "id": "2001d826-44d0-4f91-9684-6def51f72c86",
   "metadata": {
    "tags": []
   },
   "outputs": [],
   "source": [
    "mpos = catalog.metropolitan_planning_orgs.read()[['MPO', 'geometry']].to_crs(CA_NAD83Albers_m).rename(columns={\"MPO\":\"mpo\"})"
   ]
  },
  {
   "cell_type": "code",
   "execution_count": null,
   "id": "a9d66530-1029-4dd9-b6ff-1d4950092cd7",
   "metadata": {
    "tags": []
   },
   "outputs": [],
   "source": [
    "ct_dist = catalog.caltrans_districts.read().to_crs(CA_NAD83Albers_m)"
   ]
  },
  {
   "cell_type": "code",
   "execution_count": null,
   "id": "9cca7f96-f766-44cc-b0f2-c35ef29b027d",
   "metadata": {
    "tags": []
   },
   "outputs": [],
   "source": [
    "stops = catalog.ca_transit_stops.read().to_crs(CA_NAD83Albers_m).clip(ct_dist)"
   ]
  },
  {
   "cell_type": "code",
   "execution_count": null,
   "id": "0d5125c6-b7e6-4374-ac65-76597d8a21d9",
   "metadata": {
    "tags": []
   },
   "outputs": [],
   "source": [
    "routes = (catalog.ca_transit_routes.read()\n",
    "          .drop_duplicates(subset=['route_id', 'shape_id', 'base64_url'])  # deduplicate identical routes where agencies share a feed...\n",
    "          .to_crs(CA_NAD83Albers_m)\n",
    "          .clip(ct_dist)\n",
    "         )"
   ]
  },
  {
   "cell_type": "code",
   "execution_count": null,
   "id": "cd6605e3-776c-4604-806b-cd278581db98",
   "metadata": {
    "tags": []
   },
   "outputs": [],
   "source": [
    "hqta = catalog.hqta_areas.read().to_crs(CA_NAD83Albers_m).clip(ct_dist)"
   ]
  },
  {
   "cell_type": "code",
   "execution_count": null,
   "id": "51af9d33-cdd7-4e1e-9f05-a547b25a8978",
   "metadata": {
    "tags": []
   },
   "outputs": [],
   "source": [
    "routes['length'] = routes.geometry.map(lambda x: x.length)"
   ]
  },
  {
   "cell_type": "code",
   "execution_count": null,
   "id": "bb825aea-55e5-43f0-a694-a4688150e792",
   "metadata": {
    "tags": []
   },
   "outputs": [],
   "source": [
    "routes_top2 = routes.sort_values(['agency', 'route_id', 'length'],\n",
    "                  ascending=False).groupby(['agency', 'route_id']).head(2)\n",
    "routes_top2 = routes_top2.assign(miles = routes_top2.length / rt_utils.METERS_PER_MILE)"
   ]
  },
  {
   "cell_type": "code",
   "execution_count": null,
   "id": "d45007b8-cbd0-46a3-9840-0cf65bf0e1cb",
   "metadata": {
    "tags": []
   },
   "outputs": [],
   "source": [
    "def overlay_to_routes(mpo_gdf, routes_gdf = routes_top2):\n",
    "    \n",
    "    overlaid = mpo_gdf.overlay(routes_gdf, keep_geom_type=False)\n",
    "    overlaid.length = overlaid.geometry.map(lambda x: x.length)\n",
    "    return overlaid"
   ]
  },
  {
   "cell_type": "code",
   "execution_count": null,
   "id": "de89e51e-a875-40d2-8fce-5b5b54daa2b1",
   "metadata": {
    "tags": []
   },
   "outputs": [],
   "source": [
    "mpo_routes = mpos.groupby('mpo').apply(overlay_to_routes)"
   ]
  },
  {
   "cell_type": "markdown",
   "id": "59af1994-c712-45e3-8cfb-eb9fc4994825",
   "metadata": {},
   "source": [
    "## routes\n",
    "\n",
    "* keep longest 2 shapes per route -- imperfect but ok for a general estimate"
   ]
  },
  {
   "cell_type": "code",
   "execution_count": null,
   "id": "7e797020-0a65-4694-8945-3b532ca1419c",
   "metadata": {
    "tags": []
   },
   "outputs": [],
   "source": [
    "mpo_routes = mpo_routes.reset_index(drop=True)"
   ]
  },
  {
   "cell_type": "code",
   "execution_count": null,
   "id": "933417a9-ccd3-4655-a6b2-f6fabc41e92a",
   "metadata": {
    "tags": []
   },
   "outputs": [],
   "source": [
    "mpo_routes.columns"
   ]
  },
  {
   "cell_type": "code",
   "execution_count": null,
   "id": "c38d2f87-cbb2-4e65-9456-30a337f5abd2",
   "metadata": {
    "tags": []
   },
   "outputs": [],
   "source": [
    "countable = mpo_routes.drop_duplicates(subset=['mpo', 'agency', 'route_id']).drop(columns=['length', 'miles', 'geometry'])"
   ]
  },
  {
   "cell_type": "code",
   "execution_count": null,
   "id": "4c03ce25-8e8e-4998-bdc3-cee580eed1f9",
   "metadata": {
    "tags": []
   },
   "outputs": [],
   "source": [
    "countable.groupby('mpo').count().reset_index()[['mpo', 'route_id']]"
   ]
  },
  {
   "cell_type": "code",
   "execution_count": null,
   "id": "47f2a98c-1882-4757-b9b9-ab7ce30432b2",
   "metadata": {
    "tags": []
   },
   "outputs": [],
   "source": [
    "mpo_route_count = countable.groupby('mpo').count().reset_index()[['mpo', 'route_id']].rename(columns={\"route_id\":\"n_routes\"})"
   ]
  },
  {
   "cell_type": "code",
   "execution_count": null,
   "id": "5c85640a-d4ad-46d5-b5e7-b5354af73bfe",
   "metadata": {
    "tags": []
   },
   "outputs": [],
   "source": [
    "mpo_route_mi = mpo_routes.groupby('mpo')[['miles']].sum().reset_index().rename(columns={\"miles\":\"total_route_miles\"})"
   ]
  },
  {
   "cell_type": "code",
   "execution_count": null,
   "id": "ae49b595-e37d-4461-9b7f-aad0489e800e",
   "metadata": {
    "tags": []
   },
   "outputs": [],
   "source": [
    "mpo_route_info = mpo_route_count.merge(mpo_route_mi, on='mpo')"
   ]
  },
  {
   "cell_type": "code",
   "execution_count": null,
   "id": "018f4d4a-0d2c-4efd-848c-8e66365a2519",
   "metadata": {
    "tags": []
   },
   "outputs": [],
   "source": [
    "routes_top2.route_id.count()"
   ]
  },
  {
   "cell_type": "code",
   "execution_count": null,
   "id": "465dc741-d952-40ac-875f-342e8bf32a13",
   "metadata": {
    "tags": []
   },
   "outputs": [],
   "source": [
    "routes_top2.miles.sum()"
   ]
  },
  {
   "cell_type": "code",
   "execution_count": null,
   "id": "648e0382-5714-4535-9b74-9301a6e9f2f8",
   "metadata": {
    "tags": []
   },
   "outputs": [],
   "source": [
    "mpo_route_info.round(1)"
   ]
  },
  {
   "cell_type": "code",
   "execution_count": null,
   "id": "4cce939d-d4d7-4ea4-9d91-99e92f6febbd",
   "metadata": {
    "tags": []
   },
   "outputs": [],
   "source": [
    "mpo_route_info.round(1).to_csv('routes_by_mpo.csv')"
   ]
  },
  {
   "cell_type": "markdown",
   "id": "e1862c9b-be27-4c89-91ac-b25c3752535a",
   "metadata": {},
   "source": [
    "## stops"
   ]
  },
  {
   "cell_type": "code",
   "execution_count": null,
   "id": "4dae76a8-3fdb-4e5c-9847-7316704dc3d5",
   "metadata": {
    "tags": []
   },
   "outputs": [],
   "source": [
    "def overlay_to_stops(mpo_gdf, stops_gdf = stops):\n",
    "    \n",
    "    overlaid = mpo_gdf.overlay(stops_gdf, keep_geom_type=False)\n",
    "    return overlaid"
   ]
  },
  {
   "cell_type": "code",
   "execution_count": null,
   "id": "366061c8-494e-4906-b568-5799d3cd4bd0",
   "metadata": {
    "tags": []
   },
   "outputs": [],
   "source": [
    "mpo_stops = mpos.groupby('mpo').apply(overlay_to_stops)"
   ]
  },
  {
   "cell_type": "code",
   "execution_count": null,
   "id": "2fdcd73f-10ba-41c0-991b-9d658914a682",
   "metadata": {
    "tags": []
   },
   "outputs": [],
   "source": [
    "mpo_stops = mpo_stops.reset_index(drop=True)"
   ]
  },
  {
   "cell_type": "code",
   "execution_count": null,
   "id": "0bc1eac0-48c5-4955-a32c-cf4608c51d7c",
   "metadata": {
    "tags": []
   },
   "outputs": [],
   "source": [
    "mpo_stop_count = mpo_stops.groupby(['mpo', 'routetypes'])[['stop_id']].count().reset_index().rename(columns={'stop_id':'stop_count'})"
   ]
  },
  {
   "cell_type": "code",
   "execution_count": null,
   "id": "8346fe7a-19b6-4738-8376-5f924311e2ed",
   "metadata": {
    "tags": []
   },
   "outputs": [],
   "source": [
    "def route_types_to_name(route_types):\n",
    "    rttype_list = [x.strip() for x in route_types.split(',')]\n",
    "    name_list = [rt_utils.route_type_names[rttype] for rttype in rttype_list]\n",
    "    return \" and \".join(name_list)"
   ]
  },
  {
   "cell_type": "code",
   "execution_count": null,
   "id": "1da80c71-a29c-4b9e-9071-58a9c783c2c0",
   "metadata": {
    "tags": []
   },
   "outputs": [],
   "source": [
    "mpo_stop_count = mpo_stop_count.assign(\n",
    "    route_type_names = mpo_stop_count.routetypes.map(lambda x: route_types_to_name(x)))"
   ]
  },
  {
   "cell_type": "code",
   "execution_count": null,
   "id": "3d32ce00-7d0a-43bd-9b6b-2d1d8d05ac59",
   "metadata": {
    "tags": []
   },
   "outputs": [],
   "source": [
    "mpo_stop_count.head(2)"
   ]
  },
  {
   "cell_type": "code",
   "execution_count": null,
   "id": "8583d2c7-db5d-4c1f-a5a5-6232f486a049",
   "metadata": {
    "tags": []
   },
   "outputs": [],
   "source": [
    "mpo_stop_count.to_csv('stops_by_mpo.csv')"
   ]
  },
  {
   "cell_type": "code",
   "execution_count": null,
   "id": "b5908d90-3b21-48ad-98ca-799780464b35",
   "metadata": {
    "tags": []
   },
   "outputs": [],
   "source": [
    "all_stop_count = stops[['routetypes', 'stop_id']].groupby(['routetypes'])[['stop_id']].count().reset_index().rename(columns={'stop_id':'stop_count'})"
   ]
  },
  {
   "cell_type": "code",
   "execution_count": null,
   "id": "2990f444-a50e-48d7-a79b-bd77aa86b806",
   "metadata": {
    "tags": []
   },
   "outputs": [],
   "source": [
    "all_stop_count = all_stop_count.assign(\n",
    "    route_type_names = all_stop_count.routetypes.map(lambda x: route_types_to_name(x)))"
   ]
  },
  {
   "cell_type": "code",
   "execution_count": null,
   "id": "a45ba348-5f85-458b-bccc-0cb502356d94",
   "metadata": {
    "tags": []
   },
   "outputs": [],
   "source": [
    "all_stop_count.to_csv('all_stops.csv')"
   ]
  },
  {
   "cell_type": "code",
   "execution_count": null,
   "id": "b9431707-0ec5-452c-8f6f-2af2329da48c",
   "metadata": {
    "tags": []
   },
   "outputs": [],
   "source": [
    "all_stop_count"
   ]
  },
  {
   "cell_type": "markdown",
   "id": "05e62e2f-0460-4cc5-bacc-cafc98f49f4f",
   "metadata": {},
   "source": [
    "## hqta\n",
    "\n",
    "* MTS areas, dissolve\n",
    "* HQTC outside MTS areas, dissolve"
   ]
  },
  {
   "cell_type": "code",
   "execution_count": null,
   "id": "66e25068-baa2-41bd-a550-c43a7609a689",
   "metadata": {
    "tags": []
   },
   "outputs": [],
   "source": [
    "mts = hqta[hqta.hqta_type.str.contains('major')]"
   ]
  },
  {
   "cell_type": "code",
   "execution_count": null,
   "id": "b86c19d5-ae23-45f7-8414-15842fb25e2d",
   "metadata": {
    "tags": []
   },
   "outputs": [],
   "source": [
    "mts_dissolved = mts.dissolve()"
   ]
  },
  {
   "cell_type": "code",
   "execution_count": null,
   "id": "190c031d-bfad-4a53-903f-f2f92196091c",
   "metadata": {
    "tags": []
   },
   "outputs": [],
   "source": [
    "SQ_M_TO_SQ_MI = 1/2.59e6"
   ]
  },
  {
   "cell_type": "code",
   "execution_count": null,
   "id": "f0339771-e524-466e-93b1-c99c88335bd0",
   "metadata": {
    "tags": []
   },
   "outputs": [],
   "source": [
    "mts_dissolved.geometry.area.iloc[0] * SQ_M_TO_SQ_MI"
   ]
  },
  {
   "cell_type": "code",
   "execution_count": null,
   "id": "83314858-34a0-424e-a8c3-5476f047a3ce",
   "metadata": {
    "tags": []
   },
   "outputs": [],
   "source": [
    "hqtc = hqta[~hqta.hqta_type.str.contains('major')]\n",
    "hqtc_dissolved = hqtc.dissolve()"
   ]
  },
  {
   "cell_type": "code",
   "execution_count": null,
   "id": "913be8e7-9c43-45ee-8ff7-55b87c5a6bbe",
   "metadata": {
    "tags": []
   },
   "outputs": [],
   "source": [
    "hqtc_outside_mts = hqtc_dissolved.overlay(mts_dissolved, how='difference')"
   ]
  },
  {
   "cell_type": "code",
   "execution_count": null,
   "id": "bf557486-54a2-46ee-9711-3ce992d43c85",
   "metadata": {
    "tags": []
   },
   "outputs": [],
   "source": [
    "hqtc_outside_mts.geometry.area.iloc[0] * SQ_M_TO_SQ_MI"
   ]
  },
  {
   "cell_type": "code",
   "execution_count": null,
   "id": "d38fb465-50d8-411d-88d8-089c2e831a1a",
   "metadata": {
    "tags": []
   },
   "outputs": [],
   "source": [
    "import shapely"
   ]
  },
  {
   "cell_type": "code",
   "execution_count": null,
   "id": "54eca7eb-f2e0-4339-abbf-282f10d08a77",
   "metadata": {
    "tags": []
   },
   "outputs": [],
   "source": [
    "def overlay_to_mts_hqtc(mpo_gdf):\n",
    "    mpo_mts = mts_dissolved.overlay(mpo_gdf)\n",
    "    # print(mpo_mts.geometry)\n",
    "    if not mpo_mts.geometry.empty:\n",
    "        mpo_gdf['major_transit_stop_sq_mi'] = mpo_mts.geometry.area.iloc[0] * SQ_M_TO_SQ_MI\n",
    "    mpo_hqtc = hqtc_outside_mts.overlay(mpo_gdf)\n",
    "    # print(mpo_hqtc.geometry)\n",
    "    if not mpo_hqtc.geometry.empty:\n",
    "        mpo_gdf['additional_hq_corridor_sq_mi'] = mpo_hqtc.geometry.area.iloc[0] * SQ_M_TO_SQ_MI\n",
    "    \n",
    "    return mpo_gdf"
   ]
  },
  {
   "cell_type": "code",
   "execution_count": null,
   "id": "68b2eb71-3e82-495b-a449-92f74d4bd533",
   "metadata": {
    "tags": []
   },
   "outputs": [],
   "source": [
    "mpo_mts_hqtc = mpos.groupby('mpo').apply(overlay_to_mts_hqtc)"
   ]
  },
  {
   "cell_type": "code",
   "execution_count": null,
   "id": "68cb20a1-c5f9-4673-a5ed-a2f1e1b9815d",
   "metadata": {
    "tags": []
   },
   "outputs": [],
   "source": [
    "mpo_mts_hqtc.round(1).drop(columns=['geometry']).to_csv('mts_hq_corr_by_mpo.csv')"
   ]
  },
  {
   "cell_type": "markdown",
   "id": "6df9ca9c-3909-4dd1-a371-b030251e5fee",
   "metadata": {},
   "source": [
    "## MTC questions"
   ]
  },
  {
   "cell_type": "code",
   "execution_count": null,
   "id": "952db07e-c754-4c83-bd55-0634ef923a32",
   "metadata": {
    "scrolled": true,
    "tags": []
   },
   "outputs": [],
   "source": [
    "mtc = mpo_routes.query('mpo==\"Metropolitan Transportation Commission\"')"
   ]
  },
  {
   "cell_type": "code",
   "execution_count": null,
   "id": "c14afc71-f05e-4958-a943-0eeb4c5330f8",
   "metadata": {
    "tags": []
   },
   "outputs": [],
   "source": [
    "mtc.groupby('agency').sum().sort_values('miles', ascending=False)"
   ]
  },
  {
   "cell_type": "code",
   "execution_count": null,
   "id": "0759c13d-a0e5-4582-8cbf-b2ecb8919e4b",
   "metadata": {
    "tags": []
   },
   "outputs": [],
   "source": [
    "mtc.explore()"
   ]
  },
  {
   "cell_type": "code",
   "execution_count": null,
   "id": "91733905-c17a-4c04-91fd-98085d50cfba",
   "metadata": {
    "tags": []
   },
   "outputs": [],
   "source": [
    "countable_mtc = countable.query('mpo==\"Metropolitan Transportation Commission\"')"
   ]
  },
  {
   "cell_type": "code",
   "execution_count": null,
   "id": "d3e316d4-1cde-40b8-990d-14e12c7f9220",
   "metadata": {
    "tags": []
   },
   "outputs": [],
   "source": [
    "countable_mtc"
   ]
  },
  {
   "cell_type": "markdown",
   "id": "6588c675-e244-4618-9cdd-f864ce5b574d",
   "metadata": {},
   "source": [
    "### santa barbara?"
   ]
  },
  {
   "cell_type": "code",
   "execution_count": null,
   "id": "39c7f9b6-82ff-4aa0-a90e-ef36edc2bdfc",
   "metadata": {
    "tags": []
   },
   "outputs": [],
   "source": [
    "sb = mpo_routes.query('mpo.str.contains(\"Santa Barbara\")')"
   ]
  },
  {
   "cell_type": "code",
   "execution_count": null,
   "id": "7b2cc59d-b53e-41e4-a368-b7203358cbc7",
   "metadata": {
    "tags": []
   },
   "outputs": [],
   "source": [
    "sb.explore()"
   ]
  },
  {
   "cell_type": "code",
   "execution_count": null,
   "id": "ff0bd57e-6d65-486e-b67e-e4c814ca8822",
   "metadata": {
    "tags": []
   },
   "outputs": [],
   "source": [
    "sb.query('agency.str.contains(\"Ventura\")').explore()"
   ]
  },
  {
   "cell_type": "code",
   "execution_count": null,
   "id": "98aad021-5c63-4808-8321-6b280d70d87f",
   "metadata": {
    "tags": []
   },
   "outputs": [],
   "source": [
    "sb_ct = countable.query('mpo.str.contains(\"Santa Barbara\")')"
   ]
  },
  {
   "cell_type": "code",
   "execution_count": null,
   "id": "a298b63b-1bb3-46a2-bbbf-c6ab42ba5088",
   "metadata": {
    "tags": []
   },
   "outputs": [],
   "source": [
    "sb_ct.groupby('agency').count() #  exclude VCTC duplicates, otherwise OK"
   ]
  },
  {
   "cell_type": "code",
   "execution_count": null,
   "id": "50f0a18f-b9c3-4444-a6c1-48ee3d18acf0",
   "metadata": {
    "tags": []
   },
   "outputs": [],
   "source": [
    "sb_ct.query('agency.str.contains(\"Metro\")')"
   ]
  }
 ],
 "metadata": {
  "kernelspec": {
   "display_name": "Python 3 (ipykernel)",
   "language": "python",
   "name": "python3"
  },
  "language_info": {
   "codemirror_mode": {
    "name": "ipython",
    "version": 3
   },
   "file_extension": ".py",
   "mimetype": "text/x-python",
   "name": "python",
   "nbconvert_exporter": "python",
   "pygments_lexer": "ipython3",
   "version": "3.11.10"
  },
  "widgets": {
   "application/vnd.jupyter.widget-state+json": {
    "state": {},
    "version_major": 2,
    "version_minor": 0
   }
  }
 },
 "nbformat": 4,
 "nbformat_minor": 5
}
