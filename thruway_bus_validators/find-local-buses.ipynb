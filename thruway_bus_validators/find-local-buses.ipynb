{
 "cells": [
  {
   "cell_type": "markdown",
   "id": "e5a125b3-6690-402c-ab64-56b65aa39a89",
   "metadata": {},
   "source": [
    "# Find local bus routes with same origin / destination"
   ]
  },
  {
   "cell_type": "code",
   "execution_count": null,
   "id": "81be503a-5f54-48a7-89c4-9f5d4f882d4d",
   "metadata": {},
   "outputs": [],
   "source": [
    "import dask.dataframe as dd\n",
    "import dask_geopandas as dg\n",
    "import intake\n",
    "import geopandas as gpd\n",
    "import pandas as pd\n",
    "\n",
    "from shapely.geometry import Point\n",
    "\n",
    "import _utils\n",
    "from _utils import GCS_FILE_PATH, SELECTED_DATE, COMPILED_CACHED_VIEWS\n",
    "from shared_utils import geography_utils\n",
    "from bus_service_utils import gtfs_build\n",
    "\n",
    "catalog = intake.open_catalog(\"*.yml\")"
   ]
  },
  {
   "cell_type": "code",
   "execution_count": null,
   "id": "950eca6e-f7d3-47c7-92cf-35c2e20bfce5",
   "metadata": {},
   "outputs": [],
   "source": [
    "amtrak_routes = catalog.amtrak_thruway_routes_with_od.read()\n",
    "\n",
    "amtrak_routes = (amtrak_routes[amtrak_routes.route_type=='3']\n",
    "                 .reset_index(drop=True)\n",
    "                )"
   ]
  },
  {
   "cell_type": "code",
   "execution_count": null,
   "id": "2ea78229-079b-41c9-a74b-d72d4cdc9f4e",
   "metadata": {},
   "outputs": [],
   "source": [
    "trips = dd.read_parquet(\n",
    "    f\"{COMPILED_CACHED_VIEWS}trips_{SELECTED_DATE}.parquet\"\n",
    ")\n",
    "\n",
    "routelines = dg.read_parquet(\n",
    "    f\"{COMPILED_CACHED_VIEWS}routelines_{SELECTED_DATE}.parquet\")"
   ]
  },
  {
   "cell_type": "code",
   "execution_count": null,
   "id": "b1b9a31a-d8cd-4a81-918c-747349760300",
   "metadata": {},
   "outputs": [],
   "source": [
    "def keep_longest_route(routelines: gpd.GeoDataFrame | dg.GeoDataFrame, \n",
    "                       trips: pd.DataFrame | dd.DataFrame\n",
    "                      ):\n",
    "\n",
    "    m1 = gtfs_build.merge_routes_trips(\n",
    "        routelines,\n",
    "        trips,\n",
    "        crs = f\"EPSG: {routelines.crs.to_epsg()}\"\n",
    "    ).to_crs(geography_utils.CA_StatePlane)\n",
    "    \n",
    "    # Let's keep only full info and only buses\n",
    "    m2 = m1[(m1._merge==\"both\") & (m1.route_type=='3')]\n",
    "\n",
    "    m3 = m2.assign(\n",
    "        route_length = m2.geometry.length\n",
    "    )\n",
    "    \n",
    "    keep_cols = [\"calitp_itp_id\", \"route_id\", \"route_length\", \n",
    "                 \"route_short_name\", \"route_long_name\", \n",
    "                 \"route_type\", \"shape_id\", \n",
    "                 \"geometry\"\n",
    "                ]\n",
    "    \n",
    "    longest_route = (m3.sort_values([\"calitp_itp_id\", \"route_id\", \"route_length\"],\n",
    "                                  ascending = [True, True, False])\n",
    "                     .drop_duplicates(subset = [\"calitp_itp_id\", \"route_id\"])\n",
    "                     .reset_index(drop=True)\n",
    "                      [keep_cols]\n",
    "                    )\n",
    "    \n",
    "    # Add the route's origin and destination\n",
    "    longest_route = longest_route.assign(\n",
    "        origin = longest_route.geometry.apply(lambda x: Point(x.coords[0])),\n",
    "        destination = longest_route.geometry.apply(lambda x: Point(x.coords[-1])),\n",
    "    )\n",
    "\n",
    "    return longest_route"
   ]
  },
  {
   "cell_type": "code",
   "execution_count": null,
   "id": "654301f1-c178-45d1-8b39-594ed5bf131a",
   "metadata": {},
   "outputs": [],
   "source": [
    "longest_route = keep_longest_route(routelines, trips)"
   ]
  },
  {
   "cell_type": "code",
   "execution_count": null,
   "id": "cd5ed3f0-6f9a-49cb-9470-18fb4f00d0e7",
   "metadata": {},
   "outputs": [],
   "source": [
    "# Draw buffer around origin and buffer (let's cast a ___ mile buffer)\n",
    "def buffer_around_origin_destination(gdf: gpd.GeoDataFrame, \n",
    "                                     buffer_feet: int = 0):\n",
    "    \n",
    "    # Project to CA State Plane (feet)\n",
    "    gdf = (gdf.to_crs(geography_utils.CA_StatePlane)\n",
    "           #.drop_duplicates(subset=\"origin_destination\")\n",
    "          )\n",
    "\n",
    "    gdf = gdf.assign(\n",
    "        origin_buffer = (gdf.origin.to_crs(geography_utils.CA_StatePlane)\n",
    "                         .buffer(buffer_feet)\n",
    "                        ),\n",
    "        destination_buffer = (gdf.destination.to_crs(geography_utils.CA_StatePlane)\n",
    "                              .buffer(buffer_feet)\n",
    "                             )\n",
    "    )\n",
    "    \n",
    "    return gdf"
   ]
  },
  {
   "cell_type": "code",
   "execution_count": null,
   "id": "28c7e143-9b44-4177-9a23-6078c2f849eb",
   "metadata": {},
   "outputs": [],
   "source": [
    "amtrak_routes2 = buffer_around_origin_destination(\n",
    "    amtrak_routes, buffer_feet = geography_utils.FEET_PER_MI * 5)"
   ]
  },
  {
   "cell_type": "code",
   "execution_count": null,
   "id": "a1915497-be9d-448b-853b-7c7787220a72",
   "metadata": {},
   "outputs": [],
   "source": [
    "intersect_origin = gpd.sjoin(\n",
    "    longest_route.set_geometry(\"origin\"), \n",
    "    amtrak_routes2[[\"destination_buffer\"]].set_geometry(\"destination_buffer\"), \n",
    "    how = \"inner\",\n",
    "    predicate = \"intersects\"\n",
    ")[[\"calitp_itp_id\", \"route_id\", \"geometry\"]].drop_duplicates().set_geometry(\"geometry\")"
   ]
  },
  {
   "cell_type": "code",
   "execution_count": null,
   "id": "122deea6-5e1b-4621-918f-f34c8bf93d99",
   "metadata": {},
   "outputs": [],
   "source": [
    "intersect_destination = gpd.sjoin(\n",
    "    intersect_origin.set_geometry(\"destination\"), \n",
    "    amtrak_routes2[[\"destination_buffer\"]].set_geometry(\"destination_buffer\"), \n",
    "    how = \"inner\",\n",
    "    predicate = \"intersects\"\n",
    ")[[\"calitp_itp_id\", \"route_id\", \"geometry\"]].drop_duplicates().set_geometry(\"geometry\")"
   ]
  },
  {
   "cell_type": "code",
   "execution_count": null,
   "id": "66d2c63b-a6c7-482d-b667-01e5aa738a54",
   "metadata": {},
   "outputs": [],
   "source": [
    "intersect_destination.head()"
   ]
  },
  {
   "cell_type": "code",
   "execution_count": null,
   "id": "6ab154d0-cc60-4981-8c9d-68b9047bbac9",
   "metadata": {},
   "outputs": [],
   "source": [
    "test = intersect_destination[(intersect_destination.calitp_itp_id==182) & \n",
    "                             (intersect_destination.route_id.str.contains(\"720\"))\n",
    "                            ]"
   ]
  },
  {
   "cell_type": "code",
   "execution_count": null,
   "id": "4da03b49-2f8a-4748-8d89-754238fd06a9",
   "metadata": {},
   "outputs": [],
   "source": [
    "test = longest_route[(longest_route.calitp_itp_id==182) &\n",
    "                     (longest_route.route_id.str.contains(\"720\"))\n",
    "                    ]"
   ]
  },
  {
   "cell_type": "code",
   "execution_count": null,
   "id": "9f852ea8-8c29-4242-b3c6-c2f355f81a21",
   "metadata": {},
   "outputs": [],
   "source": [
    "intersect_origin = gpd.sjoin(\n",
    "    test.set_geometry(\"origin\"), \n",
    "    amtrak_routes2[[\"route_id\", \"origin_buffer\"]].set_geometry(\"origin_buffer\"), \n",
    "    how = \"inner\",\n",
    "    predicate = \"intersects\"\n",
    ")\n",
    "\n",
    "intersect_origin"
   ]
  },
  {
   "cell_type": "code",
   "execution_count": null,
   "id": "22b14d55-6275-4fa9-8e88-83d86cde9e17",
   "metadata": {},
   "outputs": [],
   "source": [
    "intersect_destination = gpd.sjoin(\n",
    "    test.set_geometry(\"destination\"), \n",
    "    amtrak_routes2[[\"route_id\", \"destination_buffer\"]].set_geometry(\"destination_buffer\"), \n",
    "    how = \"inner\",\n",
    "    predicate = \"intersects\"\n",
    ")\n",
    "\n",
    "intersect_destination"
   ]
  },
  {
   "cell_type": "code",
   "execution_count": null,
   "id": "47f7dd96-b76a-47a7-9d28-23384727f057",
   "metadata": {},
   "outputs": [],
   "source": [
    "this_amtrak_route=\"37329\"\n",
    "\n",
    "intersect_origin[intersect_origin.route_id_right==this_amtrak_route].plot()"
   ]
  },
  {
   "cell_type": "code",
   "execution_count": null,
   "id": "4e2d3a0f-f581-4a44-a767-abcb837679c7",
   "metadata": {},
   "outputs": [],
   "source": [
    "intersect_destination[intersect_destination.route_id_right==this_amtrak_route].plot()"
   ]
  },
  {
   "cell_type": "code",
   "execution_count": null,
   "id": "04cb13bd-c402-4b8a-abae-63968c768b4e",
   "metadata": {},
   "outputs": [],
   "source": [
    "amtrak_routes2[amtrak_routes2.route_id==this_amtrak_route][\n",
    "    [\"origin_stop_name\", \"destination_stop_name\"]].drop_duplicates()"
   ]
  },
  {
   "cell_type": "markdown",
   "id": "e7fbc584-cf46-42fa-b128-ee5800789d5d",
   "metadata": {},
   "source": []
  }
 ],
 "metadata": {
  "kernelspec": {
   "display_name": "Python 3 (ipykernel)",
   "language": "python",
   "name": "python3"
  },
  "language_info": {
   "codemirror_mode": {
    "name": "ipython",
    "version": 3
   },
   "file_extension": ".py",
   "mimetype": "text/x-python",
   "name": "python",
   "nbconvert_exporter": "python",
   "pygments_lexer": "ipython3",
   "version": "3.10.5"
  }
 },
 "nbformat": 4,
 "nbformat_minor": 5
}
