{
 "cells": [
  {
   "cell_type": "markdown",
   "id": "da6fc8ab-d1b9-4026-99c9-1d8df0e10028",
   "metadata": {},
   "source": [
    "# Amtrak Thruway Buses\n",
    "\n",
    "Amtrak Thruway Buses do not have a `shape_id`, which means can't get `route` line geom associated with it.\n",
    "\n",
    "We can get those trips in `stops` and `stop_times`."
   ]
  },
  {
   "cell_type": "code",
   "execution_count": null,
   "id": "c1b671ec-b040-4ee2-b424-e759c89cdcf2",
   "metadata": {},
   "outputs": [],
   "source": [
    "import dask_geopandas as dg\n",
    "import dask.dataframe as dd\n",
    "import geopandas as gpd\n",
    "import intake\n",
    "import pandas as pd\n",
    "\n",
    "from shared_utils import geography_utils, rt_dates, rt_utils\n",
    "\n",
    "catalog = intake.open_catalog(\"../high_quality_transit_areas/*.yml\")\n",
    "\n",
    "SELECTED_DATE = rt_dates.DATES[\"sep2022\"]\n",
    "COMPILED_CACHED_VIEWS = f\"{rt_utils.GCS_FILE_PATH}compiled_cached_views/\"\n",
    "ITP_ID = 13"
   ]
  },
  {
   "cell_type": "code",
   "execution_count": null,
   "id": "653190f0-8a0a-4033-8489-703cd560b73a",
   "metadata": {},
   "outputs": [],
   "source": [
    "trips = dd.read_parquet(\n",
    "    f\"{COMPILED_CACHED_VIEWS}trips_{SELECTED_DATE}_all.parquet\")\n",
    "\n",
    "amtrak_trips = trips[trips.calitp_itp_id == ITP_ID].compute()\n",
    "\n",
    "thruway_bus = \"Amtrak Thruway Connecting Service\"\n",
    "\n",
    "amtrak_thruway = amtrak_trips[amtrak_trips.route_long_name==thruway_bus]"
   ]
  },
  {
   "cell_type": "code",
   "execution_count": null,
   "id": "3afa374b-8fec-4456-b3c7-89f6d4a097ad",
   "metadata": {},
   "outputs": [],
   "source": [
    "amtrak_thruway.head(2)"
   ]
  },
  {
   "cell_type": "code",
   "execution_count": null,
   "id": "3bc520c6-c860-41fd-93df-2431eafc1c2b",
   "metadata": {},
   "outputs": [],
   "source": [
    "routelines = dg.read_parquet(\n",
    "        f\"{COMPILED_CACHED_VIEWS}routelines_{SELECTED_DATE}_all.parquet\")\n",
    "\n",
    "amtrak_routes = routelines[routelines.calitp_itp_id==ITP_ID].compute()\n",
    "\n",
    "for col in [\"trip_id\", \"trip_key\", \"route_id\"]:\n",
    "    print(f\"column: {col}\")\n",
    "    subset = amtrak_routes[amtrak_routes[col].isin(amtrak_thruway[col])]\n",
    "    display(subset)"
   ]
  },
  {
   "cell_type": "code",
   "execution_count": null,
   "id": "258b90cb-9c74-4fc0-a9da-c6f0ffb06825",
   "metadata": {},
   "outputs": [],
   "source": [
    "stop_times = dd.read_parquet(\n",
    "        f\"{COMPILED_CACHED_VIEWS}st_{SELECTED_DATE}_all.parquet\")\n",
    "\n",
    "amtrak_stop_times = stop_times[stop_times.calitp_itp_id==ITP_ID].compute()"
   ]
  },
  {
   "cell_type": "code",
   "execution_count": null,
   "id": "2a1aff92-bd67-4e6f-9a77-69b817c13e8f",
   "metadata": {},
   "outputs": [],
   "source": [
    "stops = dg.read_parquet(\n",
    "        f\"{COMPILED_CACHED_VIEWS}stops_{SELECTED_DATE}_all.parquet\")\n",
    "\n",
    "amtrak_stops = stops[stops.calitp_itp_id==ITP_ID].compute()"
   ]
  },
  {
   "cell_type": "code",
   "execution_count": null,
   "id": "9eb81a21-4c7c-4441-9de5-f75a7fae25dc",
   "metadata": {},
   "outputs": [],
   "source": [
    "ca = catalog.ca_boundary.read()\n",
    "\n",
    "ca_stops = amtrak_stops.clip(ca)"
   ]
  },
  {
   "cell_type": "code",
   "execution_count": null,
   "id": "ffba5935-f4ee-4904-95b4-f0764f33e927",
   "metadata": {},
   "outputs": [],
   "source": [
    "amtrak_thruway_stop_times = amtrak_stop_times[\n",
    "    (amtrak_stop_times.trip_id.isin(amtrak_thruway.trip_id)) & \n",
    "    (amtrak_stop_times.stop_id.isin(ca_stops.stop_id))\n",
    "]"
   ]
  },
  {
   "cell_type": "code",
   "execution_count": null,
   "id": "fea6ccd4-9035-4189-a6c6-9f7eaa7095b5",
   "metadata": {},
   "outputs": [],
   "source": [
    "amtrak_thruway_stop_times.head(2)"
   ]
  },
  {
   "cell_type": "code",
   "execution_count": null,
   "id": "d86ae30d-6549-4f4c-ad2b-fc1abb0b3468",
   "metadata": {},
   "outputs": [],
   "source": []
  }
 ],
 "metadata": {
  "kernelspec": {
   "display_name": "Python 3 (ipykernel)",
   "language": "python",
   "name": "python3"
  },
  "language_info": {
   "codemirror_mode": {
    "name": "ipython",
    "version": 3
   },
   "file_extension": ".py",
   "mimetype": "text/x-python",
   "name": "python",
   "nbconvert_exporter": "python",
   "pygments_lexer": "ipython3",
   "version": "3.10.5"
  }
 },
 "nbformat": 4,
 "nbformat_minor": 5
}
