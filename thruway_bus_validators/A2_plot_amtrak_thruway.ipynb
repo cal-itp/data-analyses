{
 "cells": [
  {
   "cell_type": "markdown",
   "id": "7c505c61-a5fd-439b-864f-c7fd93acc423",
   "metadata": {},
   "source": [
    "# Plot the Amtrak Thruway routes\n",
    "\n",
    "Do these make sense?\n",
    "\n",
    "Think about how to grab local buses that also travel the same origin / destination."
   ]
  },
  {
   "cell_type": "code",
   "execution_count": null,
   "id": "aa136f4e-8e18-4fae-a9f0-8aafff2a3801",
   "metadata": {},
   "outputs": [],
   "source": [
    "import geopandas as gpd\n",
    "import pandas as pd\n",
    "\n",
    "import _utils\n",
    "from _utils import GCS_FILE_PATH, SELECTED_DATE"
   ]
  },
  {
   "cell_type": "code",
   "execution_count": null,
   "id": "d584b185-f239-4e88-b486-c201e7920eab",
   "metadata": {},
   "outputs": [],
   "source": [
    "trip_gdf = gpd.read_parquet(\n",
    "    f\"{GCS_FILE_PATH}amtrak_thruway_trips_{SELECTED_DATE}.parquet\")\n",
    "\n",
    "gdf = _utils.aggregate_to_route(trip_gdf)"
   ]
  },
  {
   "cell_type": "code",
   "execution_count": null,
   "id": "4bc9269d-62c4-4a13-983e-32d7f6c4d893",
   "metadata": {},
   "outputs": [],
   "source": [
    "gdf = gdf.assign(\n",
    "    route_length = gdf.geometry.to_crs(\"EPSG:2229\").length / 5280\n",
    ")"
   ]
  },
  {
   "cell_type": "code",
   "execution_count": null,
   "id": "2135bef8-6131-485f-82d6-51e53a1625a5",
   "metadata": {},
   "outputs": [],
   "source": [
    "# Use a cut-off and filter down CA transit routes of at least 50 mi long\n",
    "gdf.route_length.describe()"
   ]
  },
  {
   "cell_type": "code",
   "execution_count": null,
   "id": "a5b4d4aa-3ac5-4333-9426-065ae6e59b48",
   "metadata": {},
   "outputs": [],
   "source": [
    "print(gdf.route_type.value_counts())\n",
    "print(gdf.route_id.value_counts())"
   ]
  },
  {
   "cell_type": "code",
   "execution_count": null,
   "id": "95341abb-8c19-4de0-8fe3-45f03092c577",
   "metadata": {},
   "outputs": [],
   "source": [
    "def make_map(gdf: gpd.GeoDataFrame, route: str): \n",
    "    \n",
    "    subset = gdf[gdf.route_id==route].reset_index(drop=True)\n",
    "    \n",
    "    print(f\"Route: {route}    Route Type: {subset.route_type.iloc[0]}\")\n",
    "\n",
    "    display(subset[[\"origin_stop_name\", \"destination_stop_name\"]].drop_duplicates())\n",
    "    \n",
    "    m = subset.explore(\"trip_id_nunique\", categorical = False)\n",
    "    display(m)\n",
    "    \n",
    "    display(subset)\n"
   ]
  },
  {
   "cell_type": "code",
   "execution_count": null,
   "id": "5a4aa64b-a646-4de6-976c-6b6b2267d3e4",
   "metadata": {},
   "outputs": [],
   "source": [
    "amtrak_routes = gdf[gdf.route_type=='3'].route_id.unique().tolist()\n",
    "\n",
    "for r in amtrak_routes:\n",
    "    make_map(gdf, r)"
   ]
  },
  {
   "cell_type": "code",
   "execution_count": null,
   "id": "92a5957d-5618-4c6d-a446-a42d5304ba82",
   "metadata": {},
   "outputs": [],
   "source": [
    "amtrak_rail_routes = gdf[gdf.route_type=='2'].route_id.unique().tolist()\n",
    "\n",
    "for r in amtrak_rail_routes:\n",
    "    make_map(gdf, r)"
   ]
  },
  {
   "cell_type": "code",
   "execution_count": null,
   "id": "c908aa49-0a20-490c-9d59-db1f46299615",
   "metadata": {},
   "outputs": [],
   "source": [
    "# https://www.rome2rio.com/map/San-Jose/Stockton#r/Train/s/0"
   ]
  },
  {
   "cell_type": "markdown",
   "id": "2d8eaa0f-6988-4ab9-b012-6f373a01da18",
   "metadata": {},
   "source": [
    "* MST runs longer routes\n",
    "* Eastern Sierra Transit (Lancaster to Reno)\n",
    "* Sonoma County Transit...or is it Golden Gate Transit \n",
    "* SolTrans\n",
    "\n",
    "Also maybe grab a full week to get all the unique OD pairs\n",
    "\n",
    "1. Follow Amtrak thruway (or same OD)\n",
    "2. Don't follow Amtrak thruway but go longer distance\n",
    "Longer route (> certain distance) get at Eastern Sierra\n",
    "3. Long routes that travel on SHN on extended period of time\n",
    "\n",
    "\n",
    "Use `pd.get_dummies` to find OD pairs\n",
    "\n",
    "Also, wrangle df to be long, and then you can do the dissolve for OD buffers.\n",
    "\n",
    "\n",
    "Draw buffer around rail lines, see which bus routes have significant overlay "
   ]
  },
  {
   "cell_type": "code",
   "execution_count": null,
   "id": "e82fdad3-7918-43ac-a3b3-2b875e978a65",
   "metadata": {},
   "outputs": [],
   "source": []
  }
 ],
 "metadata": {
  "kernelspec": {
   "display_name": "Python 3 (ipykernel)",
   "language": "python",
   "name": "python3"
  },
  "language_info": {
   "codemirror_mode": {
    "name": "ipython",
    "version": 3
   },
   "file_extension": ".py",
   "mimetype": "text/x-python",
   "name": "python",
   "nbconvert_exporter": "python",
   "pygments_lexer": "ipython3",
   "version": "3.10.5"
  }
 },
 "nbformat": 4,
 "nbformat_minor": 5
}
