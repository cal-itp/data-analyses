{
 "cells": [
  {
   "cell_type": "markdown",
   "id": "7c505c61-a5fd-439b-864f-c7fd93acc423",
   "metadata": {},
   "source": [
    "# Plot the Amtrak Thruway routes\n",
    "\n",
    "Do these make sense?\n",
    "\n",
    "Think about how to grab local buses that also travel the same origin / destination."
   ]
  },
  {
   "cell_type": "code",
   "execution_count": 1,
   "id": "aa136f4e-8e18-4fae-a9f0-8aafff2a3801",
   "metadata": {},
   "outputs": [
    {
     "name": "stderr",
     "output_type": "stream",
     "text": [
      "/opt/conda/lib/python3.10/site-packages/geopandas/_compat.py:112: UserWarning: The Shapely GEOS version (3.10.3-CAPI-1.16.1) is incompatible with the GEOS version PyGEOS was compiled with (3.10.1-CAPI-1.16.0). Conversions between both will be slow.\n",
      "  warnings.warn(\n"
     ]
    }
   ],
   "source": [
    "import geopandas as gpd\n",
    "import intake\n",
    "import pandas as pd\n",
    "\n",
    "import _utils\n",
    "from _utils import GCS_FILE_PATH, SELECTED_DATE\n",
    "from shared_utils import geography_utils\n",
    "\n",
    "catalog = intake.open_catalog(\"*.yml\")"
   ]
  },
  {
   "cell_type": "code",
   "execution_count": 2,
   "id": "d584b185-f239-4e88-b486-c201e7920eab",
   "metadata": {},
   "outputs": [],
   "source": [
    "trip_gdf = gpd.read_parquet(\n",
    "    f\"{GCS_FILE_PATH}amtrak_thruway_trips_{SELECTED_DATE}.parquet\")\n",
    "\n",
    "gdf = _utils.aggregate_to_route(trip_gdf)"
   ]
  },
  {
   "cell_type": "markdown",
   "id": "e8559b77-f141-4a53-80f1-40a56b1428af",
   "metadata": {},
   "source": [
    "## Maps for Amtrak routes - see what OD pairs jump out"
   ]
  },
  {
   "cell_type": "code",
   "execution_count": null,
   "id": "95341abb-8c19-4de0-8fe3-45f03092c577",
   "metadata": {},
   "outputs": [],
   "source": [
    "def make_map(gdf: gpd.GeoDataFrame, route: str): \n",
    "    \n",
    "    subset = gdf[gdf.route_id==route].reset_index(drop=True)\n",
    "    \n",
    "    print(f\"Route: {route}    Route Type: {subset.route_type.iloc[0]}\")\n",
    "\n",
    "    display(subset[[\"origin_stop_name\", \"destination_stop_name\"]].drop_duplicates())\n",
    "    \n",
    "    m = subset.explore(\"trip_id_nunique\", categorical = False)\n",
    "    display(m)\n",
    "    \n",
    "    display(subset)\n"
   ]
  },
  {
   "cell_type": "code",
   "execution_count": null,
   "id": "5a4aa64b-a646-4de6-976c-6b6b2267d3e4",
   "metadata": {},
   "outputs": [],
   "source": [
    "amtrak_routes = gdf[gdf.route_type=='3'].route_id.unique().tolist()\n",
    "\n",
    "for r in amtrak_routes:\n",
    "    make_map(gdf, r)"
   ]
  },
  {
   "cell_type": "code",
   "execution_count": null,
   "id": "92a5957d-5618-4c6d-a446-a42d5304ba82",
   "metadata": {},
   "outputs": [],
   "source": [
    "amtrak_rail_routes = gdf[gdf.route_type=='2'].route_id.unique().tolist()\n",
    "\n",
    "for r in amtrak_rail_routes:\n",
    "    make_map(gdf, r)"
   ]
  },
  {
   "cell_type": "markdown",
   "id": "6d4607bc-399a-42f1-8f92-304f491c89c5",
   "metadata": {},
   "source": [
    "## Typical Distance of Amtrak Thruway\n",
    "\n",
    "There are some short distance ones. Where are these?\n",
    "\n",
    "Note: These distances, because they're drawn by arraying points in a row, are \"as the crow flies\", and not actual driving distance. Distance on road network would be longer.\n",
    "\n",
    "Very few < 10 miles, even < 20 miles. \n",
    "\n",
    "Can use higher distance cut-offs, then later go back and look for the trips that go from Emeryville - San Francisco."
   ]
  },
  {
   "cell_type": "code",
   "execution_count": 3,
   "id": "d184020a-c18e-43f9-9fb0-f29a4e5a8a3d",
   "metadata": {},
   "outputs": [],
   "source": [
    "gdf = gdf.assign(\n",
    "    route_mi = ((gdf.geometry.to_crs(geography_utils.CA_StatePlane)\n",
    "                 .length).divide(geography_utils.FEET_PER_MI)).round(2)\n",
    ")"
   ]
  },
  {
   "cell_type": "code",
   "execution_count": 4,
   "id": "6d570c22-013e-43b3-99fb-9960b8c7f736",
   "metadata": {},
   "outputs": [
    {
     "name": "stdout",
     "output_type": "stream",
     "text": [
      "Routes shorter than 10 mi long\n"
     ]
    },
    {
     "data": {
      "text/html": [
       "<div>\n",
       "<style scoped>\n",
       "    .dataframe tbody tr th:only-of-type {\n",
       "        vertical-align: middle;\n",
       "    }\n",
       "\n",
       "    .dataframe tbody tr th {\n",
       "        vertical-align: top;\n",
       "    }\n",
       "\n",
       "    .dataframe thead th {\n",
       "        text-align: right;\n",
       "    }\n",
       "</style>\n",
       "<table border=\"1\" class=\"dataframe\">\n",
       "  <thead>\n",
       "    <tr style=\"text-align: right;\">\n",
       "      <th></th>\n",
       "      <th>origin_stop_name</th>\n",
       "      <th>destination_stop_name</th>\n",
       "      <th>trip_id_nunique</th>\n",
       "    </tr>\n",
       "  </thead>\n",
       "  <tbody>\n",
       "    <tr>\n",
       "      <th>24</th>\n",
       "      <td>Stockton</td>\n",
       "      <td>Stockton</td>\n",
       "      <td>1</td>\n",
       "    </tr>\n",
       "    <tr>\n",
       "      <th>42</th>\n",
       "      <td>Emeryville</td>\n",
       "      <td>San Francisco</td>\n",
       "      <td>18</td>\n",
       "    </tr>\n",
       "    <tr>\n",
       "      <th>43</th>\n",
       "      <td>San Francisco</td>\n",
       "      <td>Emeryville</td>\n",
       "      <td>17</td>\n",
       "    </tr>\n",
       "  </tbody>\n",
       "</table>\n",
       "</div>"
      ],
      "text/plain": [
       "   origin_stop_name destination_stop_name  trip_id_nunique\n",
       "24         Stockton              Stockton                1\n",
       "42       Emeryville         San Francisco               18\n",
       "43    San Francisco            Emeryville               17"
      ]
     },
     "metadata": {},
     "output_type": "display_data"
    },
    {
     "name": "stdout",
     "output_type": "stream",
     "text": [
      "Routes shorter than 20 mi long\n"
     ]
    },
    {
     "data": {
      "text/html": [
       "<div>\n",
       "<style scoped>\n",
       "    .dataframe tbody tr th:only-of-type {\n",
       "        vertical-align: middle;\n",
       "    }\n",
       "\n",
       "    .dataframe tbody tr th {\n",
       "        vertical-align: top;\n",
       "    }\n",
       "\n",
       "    .dataframe thead th {\n",
       "        text-align: right;\n",
       "    }\n",
       "</style>\n",
       "<table border=\"1\" class=\"dataframe\">\n",
       "  <thead>\n",
       "    <tr style=\"text-align: right;\">\n",
       "      <th></th>\n",
       "      <th>origin_stop_name</th>\n",
       "      <th>destination_stop_name</th>\n",
       "      <th>trip_id_nunique</th>\n",
       "    </tr>\n",
       "  </thead>\n",
       "  <tbody>\n",
       "    <tr>\n",
       "      <th>9</th>\n",
       "      <td>Roseville Amtrak</td>\n",
       "      <td>Sacramento</td>\n",
       "      <td>2</td>\n",
       "    </tr>\n",
       "    <tr>\n",
       "      <th>17</th>\n",
       "      <td>Davis</td>\n",
       "      <td>Sacramento</td>\n",
       "      <td>1</td>\n",
       "    </tr>\n",
       "    <tr>\n",
       "      <th>24</th>\n",
       "      <td>Stockton</td>\n",
       "      <td>Stockton</td>\n",
       "      <td>1</td>\n",
       "    </tr>\n",
       "    <tr>\n",
       "      <th>42</th>\n",
       "      <td>Emeryville</td>\n",
       "      <td>San Francisco</td>\n",
       "      <td>18</td>\n",
       "    </tr>\n",
       "    <tr>\n",
       "      <th>43</th>\n",
       "      <td>San Francisco</td>\n",
       "      <td>Emeryville</td>\n",
       "      <td>17</td>\n",
       "    </tr>\n",
       "  </tbody>\n",
       "</table>\n",
       "</div>"
      ],
      "text/plain": [
       "    origin_stop_name destination_stop_name  trip_id_nunique\n",
       "9   Roseville Amtrak            Sacramento                2\n",
       "17             Davis            Sacramento                1\n",
       "24          Stockton              Stockton                1\n",
       "42        Emeryville         San Francisco               18\n",
       "43     San Francisco            Emeryville               17"
      ]
     },
     "metadata": {},
     "output_type": "display_data"
    },
    {
     "name": "stdout",
     "output_type": "stream",
     "text": [
      "Routes shorter than 30 mi long\n"
     ]
    },
    {
     "data": {
      "text/html": [
       "<div>\n",
       "<style scoped>\n",
       "    .dataframe tbody tr th:only-of-type {\n",
       "        vertical-align: middle;\n",
       "    }\n",
       "\n",
       "    .dataframe tbody tr th {\n",
       "        vertical-align: top;\n",
       "    }\n",
       "\n",
       "    .dataframe thead th {\n",
       "        text-align: right;\n",
       "    }\n",
       "</style>\n",
       "<table border=\"1\" class=\"dataframe\">\n",
       "  <thead>\n",
       "    <tr style=\"text-align: right;\">\n",
       "      <th></th>\n",
       "      <th>origin_stop_name</th>\n",
       "      <th>destination_stop_name</th>\n",
       "      <th>trip_id_nunique</th>\n",
       "    </tr>\n",
       "  </thead>\n",
       "  <tbody>\n",
       "    <tr>\n",
       "      <th>2</th>\n",
       "      <td>Carmel Amtrak Bus Stop</td>\n",
       "      <td>Salinas</td>\n",
       "      <td>2</td>\n",
       "    </tr>\n",
       "    <tr>\n",
       "      <th>8</th>\n",
       "      <td>Salinas</td>\n",
       "      <td>Carmel Amtrak Bus Stop</td>\n",
       "      <td>2</td>\n",
       "    </tr>\n",
       "    <tr>\n",
       "      <th>9</th>\n",
       "      <td>Roseville Amtrak</td>\n",
       "      <td>Sacramento</td>\n",
       "      <td>2</td>\n",
       "    </tr>\n",
       "    <tr>\n",
       "      <th>17</th>\n",
       "      <td>Davis</td>\n",
       "      <td>Sacramento</td>\n",
       "      <td>1</td>\n",
       "    </tr>\n",
       "    <tr>\n",
       "      <th>24</th>\n",
       "      <td>Stockton</td>\n",
       "      <td>Stockton</td>\n",
       "      <td>1</td>\n",
       "    </tr>\n",
       "    <tr>\n",
       "      <th>42</th>\n",
       "      <td>Emeryville</td>\n",
       "      <td>San Francisco</td>\n",
       "      <td>18</td>\n",
       "    </tr>\n",
       "    <tr>\n",
       "      <th>43</th>\n",
       "      <td>San Francisco</td>\n",
       "      <td>Emeryville</td>\n",
       "      <td>17</td>\n",
       "    </tr>\n",
       "    <tr>\n",
       "      <th>67</th>\n",
       "      <td>Martinez</td>\n",
       "      <td>Napa Amtrak Bus Stop</td>\n",
       "      <td>1</td>\n",
       "    </tr>\n",
       "    <tr>\n",
       "      <th>70</th>\n",
       "      <td>Napa Amtrak Bus Stop</td>\n",
       "      <td>Martinez</td>\n",
       "      <td>1</td>\n",
       "    </tr>\n",
       "  </tbody>\n",
       "</table>\n",
       "</div>"
      ],
      "text/plain": [
       "          origin_stop_name   destination_stop_name  trip_id_nunique\n",
       "2   Carmel Amtrak Bus Stop                 Salinas                2\n",
       "8                  Salinas  Carmel Amtrak Bus Stop                2\n",
       "9         Roseville Amtrak              Sacramento                2\n",
       "17                   Davis              Sacramento                1\n",
       "24                Stockton                Stockton                1\n",
       "42              Emeryville           San Francisco               18\n",
       "43           San Francisco              Emeryville               17\n",
       "67                Martinez    Napa Amtrak Bus Stop                1\n",
       "70    Napa Amtrak Bus Stop                Martinez                1"
      ]
     },
     "metadata": {},
     "output_type": "display_data"
    }
   ],
   "source": [
    "# What routes are the ones that have short distances?\n",
    "# Most of them look long distance\n",
    "for mile in [10, 20, 30]:\n",
    "    subset = gdf[gdf.route_mi <= mile]\n",
    "    \n",
    "    print(f\"Routes shorter than {mile} mi long\")\n",
    "    \n",
    "    keep_cols = [\"origin_stop_name\", \"destination_stop_name\", \"trip_id_nunique\"]\n",
    "    display(subset[keep_cols].drop_duplicates())"
   ]
  },
  {
   "cell_type": "code",
   "execution_count": null,
   "id": "fb9bd1e6-d3e3-45de-9842-15f0a621912d",
   "metadata": {},
   "outputs": [],
   "source": []
  },
  {
   "cell_type": "code",
   "execution_count": null,
   "id": "c908aa49-0a20-490c-9d59-db1f46299615",
   "metadata": {},
   "outputs": [],
   "source": [
    "# https://www.rome2rio.com/map/San-Jose/Stockton#r/Train/s/0"
   ]
  },
  {
   "cell_type": "markdown",
   "id": "2d8eaa0f-6988-4ab9-b012-6f373a01da18",
   "metadata": {},
   "source": [
    "* MST runs longer routes\n",
    "* Eastern Sierra Transit (Lancaster to Reno)\n",
    "* Sonoma County Transit...or is it Golden Gate Transit \n",
    "* SolTrans\n",
    "\n",
    "Also maybe grab a full week to get all the unique OD pairs\n",
    "\n",
    "1. Follow Amtrak thruway (or same OD)\n",
    "2. Don't follow Amtrak thruway but go longer distance\n",
    "Longer route (> certain distance) get at Eastern Sierra\n",
    "3. Long routes that travel on SHN on extended period of time"
   ]
  },
  {
   "cell_type": "code",
   "execution_count": null,
   "id": "e82fdad3-7918-43ac-a3b3-2b875e978a65",
   "metadata": {},
   "outputs": [],
   "source": []
  }
 ],
 "metadata": {
  "kernelspec": {
   "display_name": "Python 3 (ipykernel)",
   "language": "python",
   "name": "python3"
  },
  "language_info": {
   "codemirror_mode": {
    "name": "ipython",
    "version": 3
   },
   "file_extension": ".py",
   "mimetype": "text/x-python",
   "name": "python",
   "nbconvert_exporter": "python",
   "pygments_lexer": "ipython3",
   "version": "3.10.5"
  }
 },
 "nbformat": 4,
 "nbformat_minor": 5
}
