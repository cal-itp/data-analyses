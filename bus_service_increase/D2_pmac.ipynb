{
 "cells": [
  {
   "cell_type": "markdown",
   "id": "aba3b0aa-73bf-4a8d-b4ee-64ecc98196fc",
   "metadata": {},
   "source": [
    "# PMAC presentation\n",
    "\n",
    "**MT.PO.01: increase total amount of service on the SHN and reliability of that service by 2024**\n",
    "\n",
    "1. Routes on SHN\n",
    "a. parallel routes (1 mi corridor) - how many routes, agencies, share of all CA transit agency-routes?\n",
    "b. intersecting routes (everything not parallel) - how many routes, agencies, share of all CA transit agency-routes?\n",
    "c. intersecting routes (not parallel, but actually travel on SHN (50 ft buffer) for some portion of that route) - subset of above, how many routes, agencies, share of all CA agency-routes?\n",
    "\n",
    "2. How many routes on SHN, breakdown by district\n",
    "3. How many service hours are scheduled for a typical weekday for (1)?\n",
    "4. How many of these agencies that have parallel routes on SHN also have GTFS RT?\n",
    "Use `isin` and find `itp_id`, not route-specific, because most agencies that provide GTFS RT do it for the majority of their routes."
   ]
  },
  {
   "cell_type": "code",
   "execution_count": 1,
   "id": "792ee3df-ebcb-4bf7-a7f2-f7f903efe126",
   "metadata": {},
   "outputs": [
    {
     "name": "stderr",
     "output_type": "stream",
     "text": [
      "/opt/conda/lib/python3.10/site-packages/geopandas/_compat.py:112: UserWarning: The Shapely GEOS version (3.10.3-CAPI-1.16.1) is incompatible with the GEOS version PyGEOS was compiled with (3.10.1-CAPI-1.16.0). Conversions between both will be slow.\n",
      "  warnings.warn(\n"
     ]
    }
   ],
   "source": [
    "import altair as alt\n",
    "import pandas as pd\n",
    "\n",
    "import pmac_utils\n",
    "#from D1_pmac_routes import ANALYSIS_DATE\n",
    "ANALYSIS_DATE = \"2022-02-08\"\n",
    "from utils import IMG_PATH\n",
    "from shared_utils import geography_utils, styleguide\n",
    "from shared_utils import calitp_color_palette as cp"
   ]
  },
  {
   "cell_type": "code",
   "execution_count": 2,
   "id": "add13293-3d9d-40e0-b1fb-c50b89fe84de",
   "metadata": {},
   "outputs": [],
   "source": [
    "df = pmac_utils.flag_parallel_intersecting_routes(ANALYSIS_DATE)"
   ]
  },
  {
   "cell_type": "code",
   "execution_count": 3,
   "id": "715e1f45-47a9-42d8-8f64-351d3d4baba9",
   "metadata": {},
   "outputs": [
    {
     "data": {
      "text/plain": [
       "both          2632\n",
       "right_only     139\n",
       "left_only        3\n",
       "Name: _merge, dtype: int64"
      ]
     },
     "execution_count": 3,
     "metadata": {},
     "output_type": "execute_result"
    }
   ],
   "source": [
    "df._merge.value_counts()"
   ]
  },
  {
   "cell_type": "code",
   "execution_count": 4,
   "id": "f2c2c819-b221-4a5c-9f76-7b4631c74916",
   "metadata": {},
   "outputs": [
    {
     "data": {
      "text/plain": [
       "282    47\n",
       "13     43\n",
       "203    22\n",
       "290    15\n",
       "93      5\n",
       "314     3\n",
       "127     2\n",
       "194     2\n",
       "Name: itp_id, dtype: int64"
      ]
     },
     "execution_count": 4,
     "metadata": {},
     "output_type": "execute_result"
    }
   ],
   "source": [
    "df[df._merge==\"right_only\"].itp_id.value_counts()"
   ]
  },
  {
   "cell_type": "code",
   "execution_count": 5,
   "id": "e022a8a3-9fc4-4e27-8e4e-e66c16df8e21",
   "metadata": {},
   "outputs": [],
   "source": [
    "# Should I subset to df[df._merge==\"both\"]?\n",
    "# both means that it found a corresponding match in itp_id-route_id \n",
    "# since it's been aggregated up to route_id level (shape_id can mismatch more easily)\n",
    "# Decide here, this is the subset of data I will use for rest of notebook\n",
    "plot_df = df[df._merge==\"both\"]"
   ]
  },
  {
   "cell_type": "code",
   "execution_count": 6,
   "id": "4695f1ed-7ee3-4adf-a1fb-62fe49a42946",
   "metadata": {},
   "outputs": [
    {
     "data": {
      "text/html": [
       "<div>\n",
       "<style scoped>\n",
       "    .dataframe tbody tr th:only-of-type {\n",
       "        vertical-align: middle;\n",
       "    }\n",
       "\n",
       "    .dataframe tbody tr th {\n",
       "        vertical-align: top;\n",
       "    }\n",
       "\n",
       "    .dataframe thead th {\n",
       "        text-align: right;\n",
       "    }\n",
       "</style>\n",
       "<table border=\"1\" class=\"dataframe\">\n",
       "  <thead>\n",
       "    <tr style=\"text-align: right;\">\n",
       "      <th></th>\n",
       "      <th>category</th>\n",
       "      <th>unique_route</th>\n",
       "      <th>pct_unique_route</th>\n",
       "      <th>total_service_hours</th>\n",
       "      <th>pct_total_service_hours</th>\n",
       "    </tr>\n",
       "  </thead>\n",
       "  <tbody>\n",
       "    <tr>\n",
       "      <th>0</th>\n",
       "      <td>parallel</td>\n",
       "      <td>1977</td>\n",
       "      <td>75.1</td>\n",
       "      <td>69435</td>\n",
       "      <td>76.1</td>\n",
       "    </tr>\n",
       "    <tr>\n",
       "      <th>2</th>\n",
       "      <td>on_shn</td>\n",
       "      <td>59</td>\n",
       "      <td>2.2</td>\n",
       "      <td>1229</td>\n",
       "      <td>1.3</td>\n",
       "    </tr>\n",
       "    <tr>\n",
       "      <th>1</th>\n",
       "      <td>other</td>\n",
       "      <td>596</td>\n",
       "      <td>22.6</td>\n",
       "      <td>20607</td>\n",
       "      <td>22.6</td>\n",
       "    </tr>\n",
       "  </tbody>\n",
       "</table>\n",
       "</div>"
      ],
      "text/plain": [
       "   category  unique_route  pct_unique_route  total_service_hours  \\\n",
       "0  parallel          1977              75.1                69435   \n",
       "2    on_shn            59               2.2                 1229   \n",
       "1     other           596              22.6                20607   \n",
       "\n",
       "   pct_total_service_hours  \n",
       "0                     76.1  \n",
       "2                      1.3  \n",
       "1                     22.6  "
      ]
     },
     "execution_count": 6,
     "metadata": {},
     "output_type": "execute_result"
    }
   ],
   "source": [
    "# route_id....well, unique route_id is not exactly the same as is_parallel,\n",
    "# is_on_shn, is_other\n",
    "# Maybe stick with that to be consistent\n",
    "summary = pmac_utils.get_summary_table(plot_df)\n",
    "\n",
    "col_order = ['category', 'unique_route', 'pct_unique_route',\n",
    "             'total_service_hours', 'pct_total_service_hours'\n",
    "            ]\n",
    "\n",
    "summary[col_order]"
   ]
  },
  {
   "cell_type": "code",
   "execution_count": 7,
   "id": "30f3ccbf-b9e6-49a8-9cf7-ec03e34524e4",
   "metadata": {},
   "outputs": [
    {
     "data": {
      "text/html": [
       "<div>\n",
       "<style scoped>\n",
       "    .dataframe tbody tr th:only-of-type {\n",
       "        vertical-align: middle;\n",
       "    }\n",
       "\n",
       "    .dataframe tbody tr th {\n",
       "        vertical-align: top;\n",
       "    }\n",
       "\n",
       "    .dataframe thead th {\n",
       "        text-align: right;\n",
       "    }\n",
       "</style>\n",
       "<table border=\"1\" class=\"dataframe\">\n",
       "  <thead>\n",
       "    <tr style=\"text-align: right;\">\n",
       "      <th></th>\n",
       "      <th>category</th>\n",
       "      <th>total_service_hours</th>\n",
       "      <th>unique_route</th>\n",
       "    </tr>\n",
       "  </thead>\n",
       "  <tbody>\n",
       "    <tr>\n",
       "      <th>0</th>\n",
       "      <td>All</td>\n",
       "      <td>91271</td>\n",
       "      <td>2632</td>\n",
       "    </tr>\n",
       "  </tbody>\n",
       "</table>\n",
       "</div>"
      ],
      "text/plain": [
       "  category  total_service_hours  unique_route\n",
       "0      All                91271          2632"
      ]
     },
     "execution_count": 7,
     "metadata": {},
     "output_type": "execute_result"
    }
   ],
   "source": [
    "geography_utils.aggregate_by_geography(\n",
    "    summary.assign(category=\"All\"),\n",
    "    group_cols = [\"category\"],\n",
    "    sum_cols = [\"unique_route\", \"total_service_hours\"]\n",
    ")"
   ]
  },
  {
   "cell_type": "code",
   "execution_count": 8,
   "id": "c3e135dd-c034-4dcc-ad82-09c77aab21d5",
   "metadata": {},
   "outputs": [
    {
     "data": {
      "text/plain": [
       "other    48\n",
       "Name: category, dtype: int64"
      ]
     },
     "execution_count": 8,
     "metadata": {},
     "output_type": "execute_result"
    }
   ],
   "source": [
    "# Where district is missing, it's not parallel routes\n",
    "# So let's ignore those sections and focus on just parallel and do breakdown\n",
    "plot_df[(plot_df.District.isna())].category.value_counts()"
   ]
  },
  {
   "cell_type": "code",
   "execution_count": 9,
   "id": "2a9769a3-9186-450a-a710-6033f6ee6229",
   "metadata": {},
   "outputs": [],
   "source": [
    "def by_district_parallel_breakdown(df: pd.DataFrame) -> pd.DataFrame:\n",
    "    by_district = geography_utils.aggregate_by_geography(\n",
    "        df[df.category==\"parallel\"],\n",
    "        group_cols = [\"District\"],\n",
    "        sum_cols = [\"total_service_hours\", \"unique_route\"]\n",
    "    ).astype({\"total_service_hours\": int})\n",
    "\n",
    "    by_district = (pmac_utils.add_percent(\n",
    "        by_district, \n",
    "        [\"total_service_hours\", \"unique_route\"])\n",
    "        .sort_values(\"District\")\n",
    "    )\n",
    "\n",
    "    for c in [\"pct_total_service_hours\", \"pct_unique_route\"]:\n",
    "        by_district[c] = by_district[c].round(1)\n",
    "    \n",
    "    return by_district"
   ]
  },
  {
   "cell_type": "code",
   "execution_count": 10,
   "id": "c55917d7-09c4-41e9-8b2b-a21cb8529fbf",
   "metadata": {},
   "outputs": [
    {
     "data": {
      "text/html": [
       "<div>\n",
       "<style scoped>\n",
       "    .dataframe tbody tr th:only-of-type {\n",
       "        vertical-align: middle;\n",
       "    }\n",
       "\n",
       "    .dataframe tbody tr th {\n",
       "        vertical-align: top;\n",
       "    }\n",
       "\n",
       "    .dataframe thead th {\n",
       "        text-align: right;\n",
       "    }\n",
       "</style>\n",
       "<table border=\"1\" class=\"dataframe\">\n",
       "  <thead>\n",
       "    <tr style=\"text-align: right;\">\n",
       "      <th></th>\n",
       "      <th>District</th>\n",
       "      <th>total_service_hours</th>\n",
       "      <th>unique_route</th>\n",
       "      <th>pct_total_service_hours</th>\n",
       "      <th>pct_unique_route</th>\n",
       "    </tr>\n",
       "  </thead>\n",
       "  <tbody>\n",
       "    <tr>\n",
       "      <th>5</th>\n",
       "      <td>1.0</td>\n",
       "      <td>704</td>\n",
       "      <td>59</td>\n",
       "      <td>1.0</td>\n",
       "      <td>3.0</td>\n",
       "    </tr>\n",
       "    <tr>\n",
       "      <th>8</th>\n",
       "      <td>2.0</td>\n",
       "      <td>452</td>\n",
       "      <td>48</td>\n",
       "      <td>0.7</td>\n",
       "      <td>2.4</td>\n",
       "    </tr>\n",
       "    <tr>\n",
       "      <th>2</th>\n",
       "      <td>3.0</td>\n",
       "      <td>2423</td>\n",
       "      <td>157</td>\n",
       "      <td>3.5</td>\n",
       "      <td>7.9</td>\n",
       "    </tr>\n",
       "    <tr>\n",
       "      <th>0</th>\n",
       "      <td>4.0</td>\n",
       "      <td>27397</td>\n",
       "      <td>724</td>\n",
       "      <td>39.5</td>\n",
       "      <td>36.6</td>\n",
       "    </tr>\n",
       "    <tr>\n",
       "      <th>9</th>\n",
       "      <td>5.0</td>\n",
       "      <td>1539</td>\n",
       "      <td>94</td>\n",
       "      <td>2.2</td>\n",
       "      <td>4.8</td>\n",
       "    </tr>\n",
       "    <tr>\n",
       "      <th>7</th>\n",
       "      <td>6.0</td>\n",
       "      <td>1869</td>\n",
       "      <td>77</td>\n",
       "      <td>2.7</td>\n",
       "      <td>3.9</td>\n",
       "    </tr>\n",
       "    <tr>\n",
       "      <th>1</th>\n",
       "      <td>7.0</td>\n",
       "      <td>21068</td>\n",
       "      <td>479</td>\n",
       "      <td>30.3</td>\n",
       "      <td>24.2</td>\n",
       "    </tr>\n",
       "    <tr>\n",
       "      <th>6</th>\n",
       "      <td>8.0</td>\n",
       "      <td>2244</td>\n",
       "      <td>79</td>\n",
       "      <td>3.2</td>\n",
       "      <td>4.0</td>\n",
       "    </tr>\n",
       "    <tr>\n",
       "      <th>4</th>\n",
       "      <td>9.0</td>\n",
       "      <td>250</td>\n",
       "      <td>24</td>\n",
       "      <td>0.4</td>\n",
       "      <td>1.2</td>\n",
       "    </tr>\n",
       "    <tr>\n",
       "      <th>3</th>\n",
       "      <td>10.0</td>\n",
       "      <td>727</td>\n",
       "      <td>64</td>\n",
       "      <td>1.0</td>\n",
       "      <td>3.2</td>\n",
       "    </tr>\n",
       "    <tr>\n",
       "      <th>11</th>\n",
       "      <td>11.0</td>\n",
       "      <td>4890</td>\n",
       "      <td>97</td>\n",
       "      <td>7.0</td>\n",
       "      <td>4.9</td>\n",
       "    </tr>\n",
       "    <tr>\n",
       "      <th>10</th>\n",
       "      <td>12.0</td>\n",
       "      <td>5867</td>\n",
       "      <td>75</td>\n",
       "      <td>8.5</td>\n",
       "      <td>3.8</td>\n",
       "    </tr>\n",
       "  </tbody>\n",
       "</table>\n",
       "</div>"
      ],
      "text/plain": [
       "    District  total_service_hours  unique_route  pct_total_service_hours  \\\n",
       "5        1.0                  704            59                      1.0   \n",
       "8        2.0                  452            48                      0.7   \n",
       "2        3.0                 2423           157                      3.5   \n",
       "0        4.0                27397           724                     39.5   \n",
       "9        5.0                 1539            94                      2.2   \n",
       "7        6.0                 1869            77                      2.7   \n",
       "1        7.0                21068           479                     30.3   \n",
       "6        8.0                 2244            79                      3.2   \n",
       "4        9.0                  250            24                      0.4   \n",
       "3       10.0                  727            64                      1.0   \n",
       "11      11.0                 4890            97                      7.0   \n",
       "10      12.0                 5867            75                      8.5   \n",
       "\n",
       "    pct_unique_route  \n",
       "5                3.0  \n",
       "8                2.4  \n",
       "2                7.9  \n",
       "0               36.6  \n",
       "9                4.8  \n",
       "7                3.9  \n",
       "1               24.2  \n",
       "6                4.0  \n",
       "4                1.2  \n",
       "3                3.2  \n",
       "11               4.9  \n",
       "10               3.8  "
      ]
     },
     "execution_count": 10,
     "metadata": {},
     "output_type": "execute_result"
    }
   ],
   "source": [
    "by_district = by_district_parallel_breakdown(plot_df)\n",
    "by_district"
   ]
  },
  {
   "cell_type": "code",
   "execution_count": 11,
   "id": "7faed671-aa09-4c22-b9b3-da1eeddb4fa7",
   "metadata": {},
   "outputs": [
    {
     "data": {
      "text/html": [
       "<style>\n",
       "@import url('https://fonts.googleapis.com/css?family=Raleway');\n",
       "@import url('https://fonts.googleapis.com/css?family=Nunito+Sans');\n",
       "@import url('https://fonts.googleapis.com/css?family=Bitter');\n",
       "</style>\n"
      ],
      "text/plain": [
       "<IPython.core.display.HTML object>"
      ]
     },
     "metadata": {},
     "output_type": "display_data"
    }
   ],
   "source": [
    "%%html\n",
    "<style>\n",
    "@import url('https://fonts.googleapis.com/css?family=Raleway');\n",
    "@import url('https://fonts.googleapis.com/css?family=Nunito+Sans');\n",
    "@import url('https://fonts.googleapis.com/css?family=Bitter');\n",
    "</style>"
   ]
  },
  {
   "cell_type": "code",
   "execution_count": 12,
   "id": "1985fa95-1916-4ec7-95c9-e5df27477d6b",
   "metadata": {},
   "outputs": [],
   "source": [
    "def base_bar(df: pd.DataFrame) -> alt.Chart:\n",
    "    chart = (alt.Chart(df)\n",
    "             .mark_bar()\n",
    "             .encode(\n",
    "                 x=alt.X(\"District:N\", title=\"District\")\n",
    "             )\n",
    "            )\n",
    "    return chart\n",
    "\n",
    "\n",
    "def make_bar(df: pd.DataFrame, y_col: str) -> alt.Chart:\n",
    "    \"\"\"\n",
    "    Make bar chart that's total service hours or \n",
    "    average service hours by district.\n",
    "    \"\"\"\n",
    "    y_title = f\"{y_col.replace('_', ' ').title()}\"\n",
    "    \n",
    "    if y_col == \"total_service_hours\":\n",
    "        value_format = \",.0f\"\n",
    "        y_buffer = 1_200\n",
    "    else:\n",
    "        value_format = \",.1f\"\n",
    "        y_buffer = 10\n",
    "    \n",
    "    Y_MAX = df[y_col].max() + y_buffer\n",
    "    \n",
    "    bar = base_bar(df)\n",
    "    \n",
    "    bar = (bar.encode(\n",
    "        y=alt.Y(f\"{y_col}:Q\", title=f\"{y_title}\", \n",
    "                scale=alt.Scale(domain=[0, Y_MAX])\n",
    "               ),\n",
    "        color=alt.Color(\"District:N\", \n",
    "                        scale=alt.Scale(\n",
    "                            range=cp.CALITP_CATEGORY_BRIGHT_COLORS\n",
    "                        )\n",
    "                )\n",
    "             )\n",
    "            )\n",
    "    #https://stackoverflow.com/questions/54015250/altair-setting-constant-label-color-for-bar-chart\n",
    "    text = (bar\n",
    "            .mark_text(align=\"center\", baseline=\"bottom\",\n",
    "                       color=\"black\", dy=-5  \n",
    "                      )\n",
    "            .encode(text=alt.Text(y_col, format=value_format), \n",
    "                    # Set color here, because encoding for mark_text gets \n",
    "                    # superseded by alt.Color\n",
    "                   color=alt.value(\"black\"))\n",
    "    )\n",
    "      \n",
    "    chart = (bar+text)\n",
    "    \n",
    "    chart = (styleguide.preset_chart_config(chart)\n",
    "             .properties(title= {\n",
    "                 \"text\": f\"{y_title} by District\",\n",
    "                 \"subtitle\": \"Parallel Routes\"\n",
    "            }).configure_axis(grid=False)\n",
    "            )\n",
    "    \n",
    "    chart.save(f\"{IMG_PATH}pmac_{y_col}.png\")\n",
    "    \n",
    "    display(chart)"
   ]
  },
  {
   "cell_type": "code",
   "execution_count": 13,
   "id": "6f0c0de9-1344-4169-9ca5-aaf551b6e679",
   "metadata": {},
   "outputs": [],
   "source": [
    "by_district = by_district.assign(\n",
    "    avg_service_hours = by_district.total_service_hours.divide(\n",
    "        by_district.unique_route).round(1)\n",
    ")"
   ]
  },
  {
   "cell_type": "code",
   "execution_count": 14,
   "id": "378a7f37-3a7a-4ad0-a228-89b21408b5d8",
   "metadata": {},
   "outputs": [
    {
     "data": {
      "text/html": [
       "\n",
       "<div id=\"altair-viz-b800964fbdf74db29381ea19851e3bea\"></div>\n",
       "<script type=\"text/javascript\">\n",
       "  var VEGA_DEBUG = (typeof VEGA_DEBUG == \"undefined\") ? {} : VEGA_DEBUG;\n",
       "  (function(spec, embedOpt){\n",
       "    let outputDiv = document.currentScript.previousElementSibling;\n",
       "    if (outputDiv.id !== \"altair-viz-b800964fbdf74db29381ea19851e3bea\") {\n",
       "      outputDiv = document.getElementById(\"altair-viz-b800964fbdf74db29381ea19851e3bea\");\n",
       "    }\n",
       "    const paths = {\n",
       "      \"vega\": \"https://cdn.jsdelivr.net/npm//vega@5?noext\",\n",
       "      \"vega-lib\": \"https://cdn.jsdelivr.net/npm//vega-lib?noext\",\n",
       "      \"vega-lite\": \"https://cdn.jsdelivr.net/npm//vega-lite@4.17.0?noext\",\n",
       "      \"vega-embed\": \"https://cdn.jsdelivr.net/npm//vega-embed@6?noext\",\n",
       "    };\n",
       "\n",
       "    function maybeLoadScript(lib, version) {\n",
       "      var key = `${lib.replace(\"-\", \"\")}_version`;\n",
       "      return (VEGA_DEBUG[key] == version) ?\n",
       "        Promise.resolve(paths[lib]) :\n",
       "        new Promise(function(resolve, reject) {\n",
       "          var s = document.createElement('script');\n",
       "          document.getElementsByTagName(\"head\")[0].appendChild(s);\n",
       "          s.async = true;\n",
       "          s.onload = () => {\n",
       "            VEGA_DEBUG[key] = version;\n",
       "            return resolve(paths[lib]);\n",
       "          };\n",
       "          s.onerror = () => reject(`Error loading script: ${paths[lib]}`);\n",
       "          s.src = paths[lib];\n",
       "        });\n",
       "    }\n",
       "\n",
       "    function showError(err) {\n",
       "      outputDiv.innerHTML = `<div class=\"error\" style=\"color:red;\">${err}</div>`;\n",
       "      throw err;\n",
       "    }\n",
       "\n",
       "    function displayChart(vegaEmbed) {\n",
       "      vegaEmbed(outputDiv, spec, embedOpt)\n",
       "        .catch(err => showError(`Javascript Error: ${err.message}<br>This usually means there's a typo in your chart specification. See the javascript console for the full traceback.`));\n",
       "    }\n",
       "\n",
       "    if(typeof define === \"function\" && define.amd) {\n",
       "      requirejs.config({paths});\n",
       "      require([\"vega-embed\"], displayChart, err => showError(`Error loading script: ${err.message}`));\n",
       "    } else {\n",
       "      maybeLoadScript(\"vega\", \"5\")\n",
       "        .then(() => maybeLoadScript(\"vega-lite\", \"4.17.0\"))\n",
       "        .then(() => maybeLoadScript(\"vega-embed\", \"6\"))\n",
       "        .catch(showError)\n",
       "        .then(() => displayChart(vegaEmbed));\n",
       "    }\n",
       "  })({\"config\": {\"view\": {\"continuousWidth\": 400, \"continuousHeight\": 300}, \"axis\": {\"grid\": false}, \"axisBand\": {\"grid\": false}, \"background\": \"white\", \"font\": \"Raleway\", \"header\": {\"labelFont\": \"Nunito Sans\", \"titleFont\": \"Raleway\"}, \"legend\": {\"labelColor\": \"#333\", \"labelFont\": \"Nunito Sans\", \"labelFontSize\": 11, \"labelLimit\": 0, \"padding\": 1, \"symbolSize\": 30, \"symbolType\": \"square\", \"titleColor\": \"#333\", \"titleFont\": \"Raleway\", \"titleFontSize\": 14, \"titlePadding\": 10}, \"title\": {\"anchor\": \"middle\", \"font\": \"Raleway\", \"fontSize\": 18, \"fontWeight\": 300, \"offset\": 20}}, \"layer\": [{\"mark\": \"bar\", \"encoding\": {\"color\": {\"field\": \"District\", \"scale\": {\"range\": [\"#2EA8CE\", \"#EB9F3C\", \"#F4D837\", \"#51BF9D\", \"#8CBCCB\", \"#9487C0\"]}, \"type\": \"nominal\"}, \"x\": {\"field\": \"District\", \"title\": \"District\", \"type\": \"nominal\"}, \"y\": {\"field\": \"total_service_hours\", \"scale\": {\"domain\": [0, 28597]}, \"title\": \"Total Service Hours\", \"type\": \"quantitative\"}}}, {\"mark\": {\"type\": \"text\", \"align\": \"center\", \"baseline\": \"bottom\", \"color\": \"black\", \"dy\": -5}, \"encoding\": {\"color\": {\"value\": \"black\"}, \"text\": {\"field\": \"total_service_hours\", \"format\": \",.0f\", \"type\": \"quantitative\"}, \"x\": {\"field\": \"District\", \"title\": \"District\", \"type\": \"nominal\"}, \"y\": {\"field\": \"total_service_hours\", \"scale\": {\"domain\": [0, 28597]}, \"title\": \"Total Service Hours\", \"type\": \"quantitative\"}}}], \"data\": {\"name\": \"data-7947ddc0b0e59c5491d12143d298fa1f\"}, \"height\": 250, \"title\": {\"text\": \"Total Service Hours by District\", \"subtitle\": \"Parallel Routes\"}, \"width\": 400, \"$schema\": \"https://vega.github.io/schema/vega-lite/v4.17.0.json\", \"datasets\": {\"data-7947ddc0b0e59c5491d12143d298fa1f\": [{\"District\": 1.0, \"total_service_hours\": 704, \"unique_route\": 59, \"pct_total_service_hours\": 1.0, \"pct_unique_route\": 3.0, \"avg_service_hours\": 11.9}, {\"District\": 2.0, \"total_service_hours\": 452, \"unique_route\": 48, \"pct_total_service_hours\": 0.7, \"pct_unique_route\": 2.4, \"avg_service_hours\": 9.4}, {\"District\": 3.0, \"total_service_hours\": 2423, \"unique_route\": 157, \"pct_total_service_hours\": 3.5, \"pct_unique_route\": 7.9, \"avg_service_hours\": 15.4}, {\"District\": 4.0, \"total_service_hours\": 27397, \"unique_route\": 724, \"pct_total_service_hours\": 39.5, \"pct_unique_route\": 36.6, \"avg_service_hours\": 37.8}, {\"District\": 5.0, \"total_service_hours\": 1539, \"unique_route\": 94, \"pct_total_service_hours\": 2.2, \"pct_unique_route\": 4.8, \"avg_service_hours\": 16.4}, {\"District\": 6.0, \"total_service_hours\": 1869, \"unique_route\": 77, \"pct_total_service_hours\": 2.7, \"pct_unique_route\": 3.9, \"avg_service_hours\": 24.3}, {\"District\": 7.0, \"total_service_hours\": 21068, \"unique_route\": 479, \"pct_total_service_hours\": 30.3, \"pct_unique_route\": 24.2, \"avg_service_hours\": 44.0}, {\"District\": 8.0, \"total_service_hours\": 2244, \"unique_route\": 79, \"pct_total_service_hours\": 3.2, \"pct_unique_route\": 4.0, \"avg_service_hours\": 28.4}, {\"District\": 9.0, \"total_service_hours\": 250, \"unique_route\": 24, \"pct_total_service_hours\": 0.4, \"pct_unique_route\": 1.2, \"avg_service_hours\": 10.4}, {\"District\": 10.0, \"total_service_hours\": 727, \"unique_route\": 64, \"pct_total_service_hours\": 1.0, \"pct_unique_route\": 3.2, \"avg_service_hours\": 11.4}, {\"District\": 11.0, \"total_service_hours\": 4890, \"unique_route\": 97, \"pct_total_service_hours\": 7.0, \"pct_unique_route\": 4.9, \"avg_service_hours\": 50.4}, {\"District\": 12.0, \"total_service_hours\": 5867, \"unique_route\": 75, \"pct_total_service_hours\": 8.5, \"pct_unique_route\": 3.8, \"avg_service_hours\": 78.2}]}}, {\"mode\": \"vega-lite\"});\n",
       "</script>"
      ],
      "text/plain": [
       "alt.LayerChart(...)"
      ]
     },
     "metadata": {},
     "output_type": "display_data"
    },
    {
     "data": {
      "text/html": [
       "\n",
       "<div id=\"altair-viz-06b9b94c9ae0453aa94f7e78131548b9\"></div>\n",
       "<script type=\"text/javascript\">\n",
       "  var VEGA_DEBUG = (typeof VEGA_DEBUG == \"undefined\") ? {} : VEGA_DEBUG;\n",
       "  (function(spec, embedOpt){\n",
       "    let outputDiv = document.currentScript.previousElementSibling;\n",
       "    if (outputDiv.id !== \"altair-viz-06b9b94c9ae0453aa94f7e78131548b9\") {\n",
       "      outputDiv = document.getElementById(\"altair-viz-06b9b94c9ae0453aa94f7e78131548b9\");\n",
       "    }\n",
       "    const paths = {\n",
       "      \"vega\": \"https://cdn.jsdelivr.net/npm//vega@5?noext\",\n",
       "      \"vega-lib\": \"https://cdn.jsdelivr.net/npm//vega-lib?noext\",\n",
       "      \"vega-lite\": \"https://cdn.jsdelivr.net/npm//vega-lite@4.17.0?noext\",\n",
       "      \"vega-embed\": \"https://cdn.jsdelivr.net/npm//vega-embed@6?noext\",\n",
       "    };\n",
       "\n",
       "    function maybeLoadScript(lib, version) {\n",
       "      var key = `${lib.replace(\"-\", \"\")}_version`;\n",
       "      return (VEGA_DEBUG[key] == version) ?\n",
       "        Promise.resolve(paths[lib]) :\n",
       "        new Promise(function(resolve, reject) {\n",
       "          var s = document.createElement('script');\n",
       "          document.getElementsByTagName(\"head\")[0].appendChild(s);\n",
       "          s.async = true;\n",
       "          s.onload = () => {\n",
       "            VEGA_DEBUG[key] = version;\n",
       "            return resolve(paths[lib]);\n",
       "          };\n",
       "          s.onerror = () => reject(`Error loading script: ${paths[lib]}`);\n",
       "          s.src = paths[lib];\n",
       "        });\n",
       "    }\n",
       "\n",
       "    function showError(err) {\n",
       "      outputDiv.innerHTML = `<div class=\"error\" style=\"color:red;\">${err}</div>`;\n",
       "      throw err;\n",
       "    }\n",
       "\n",
       "    function displayChart(vegaEmbed) {\n",
       "      vegaEmbed(outputDiv, spec, embedOpt)\n",
       "        .catch(err => showError(`Javascript Error: ${err.message}<br>This usually means there's a typo in your chart specification. See the javascript console for the full traceback.`));\n",
       "    }\n",
       "\n",
       "    if(typeof define === \"function\" && define.amd) {\n",
       "      requirejs.config({paths});\n",
       "      require([\"vega-embed\"], displayChart, err => showError(`Error loading script: ${err.message}`));\n",
       "    } else {\n",
       "      maybeLoadScript(\"vega\", \"5\")\n",
       "        .then(() => maybeLoadScript(\"vega-lite\", \"4.17.0\"))\n",
       "        .then(() => maybeLoadScript(\"vega-embed\", \"6\"))\n",
       "        .catch(showError)\n",
       "        .then(() => displayChart(vegaEmbed));\n",
       "    }\n",
       "  })({\"config\": {\"view\": {\"continuousWidth\": 400, \"continuousHeight\": 300}, \"axis\": {\"grid\": false}, \"axisBand\": {\"grid\": false}, \"background\": \"white\", \"font\": \"Raleway\", \"header\": {\"labelFont\": \"Nunito Sans\", \"titleFont\": \"Raleway\"}, \"legend\": {\"labelColor\": \"#333\", \"labelFont\": \"Nunito Sans\", \"labelFontSize\": 11, \"labelLimit\": 0, \"padding\": 1, \"symbolSize\": 30, \"symbolType\": \"square\", \"titleColor\": \"#333\", \"titleFont\": \"Raleway\", \"titleFontSize\": 14, \"titlePadding\": 10}, \"title\": {\"anchor\": \"middle\", \"font\": \"Raleway\", \"fontSize\": 18, \"fontWeight\": 300, \"offset\": 20}}, \"layer\": [{\"mark\": \"bar\", \"encoding\": {\"color\": {\"field\": \"District\", \"scale\": {\"range\": [\"#2EA8CE\", \"#EB9F3C\", \"#F4D837\", \"#51BF9D\", \"#8CBCCB\", \"#9487C0\"]}, \"type\": \"nominal\"}, \"x\": {\"field\": \"District\", \"title\": \"District\", \"type\": \"nominal\"}, \"y\": {\"field\": \"avg_service_hours\", \"scale\": {\"domain\": [0, 88.2]}, \"title\": \"Avg Service Hours\", \"type\": \"quantitative\"}}}, {\"mark\": {\"type\": \"text\", \"align\": \"center\", \"baseline\": \"bottom\", \"color\": \"black\", \"dy\": -5}, \"encoding\": {\"color\": {\"value\": \"black\"}, \"text\": {\"field\": \"avg_service_hours\", \"format\": \",.1f\", \"type\": \"quantitative\"}, \"x\": {\"field\": \"District\", \"title\": \"District\", \"type\": \"nominal\"}, \"y\": {\"field\": \"avg_service_hours\", \"scale\": {\"domain\": [0, 88.2]}, \"title\": \"Avg Service Hours\", \"type\": \"quantitative\"}}}], \"data\": {\"name\": \"data-7947ddc0b0e59c5491d12143d298fa1f\"}, \"height\": 250, \"title\": {\"text\": \"Avg Service Hours by District\", \"subtitle\": \"Parallel Routes\"}, \"width\": 400, \"$schema\": \"https://vega.github.io/schema/vega-lite/v4.17.0.json\", \"datasets\": {\"data-7947ddc0b0e59c5491d12143d298fa1f\": [{\"District\": 1.0, \"total_service_hours\": 704, \"unique_route\": 59, \"pct_total_service_hours\": 1.0, \"pct_unique_route\": 3.0, \"avg_service_hours\": 11.9}, {\"District\": 2.0, \"total_service_hours\": 452, \"unique_route\": 48, \"pct_total_service_hours\": 0.7, \"pct_unique_route\": 2.4, \"avg_service_hours\": 9.4}, {\"District\": 3.0, \"total_service_hours\": 2423, \"unique_route\": 157, \"pct_total_service_hours\": 3.5, \"pct_unique_route\": 7.9, \"avg_service_hours\": 15.4}, {\"District\": 4.0, \"total_service_hours\": 27397, \"unique_route\": 724, \"pct_total_service_hours\": 39.5, \"pct_unique_route\": 36.6, \"avg_service_hours\": 37.8}, {\"District\": 5.0, \"total_service_hours\": 1539, \"unique_route\": 94, \"pct_total_service_hours\": 2.2, \"pct_unique_route\": 4.8, \"avg_service_hours\": 16.4}, {\"District\": 6.0, \"total_service_hours\": 1869, \"unique_route\": 77, \"pct_total_service_hours\": 2.7, \"pct_unique_route\": 3.9, \"avg_service_hours\": 24.3}, {\"District\": 7.0, \"total_service_hours\": 21068, \"unique_route\": 479, \"pct_total_service_hours\": 30.3, \"pct_unique_route\": 24.2, \"avg_service_hours\": 44.0}, {\"District\": 8.0, \"total_service_hours\": 2244, \"unique_route\": 79, \"pct_total_service_hours\": 3.2, \"pct_unique_route\": 4.0, \"avg_service_hours\": 28.4}, {\"District\": 9.0, \"total_service_hours\": 250, \"unique_route\": 24, \"pct_total_service_hours\": 0.4, \"pct_unique_route\": 1.2, \"avg_service_hours\": 10.4}, {\"District\": 10.0, \"total_service_hours\": 727, \"unique_route\": 64, \"pct_total_service_hours\": 1.0, \"pct_unique_route\": 3.2, \"avg_service_hours\": 11.4}, {\"District\": 11.0, \"total_service_hours\": 4890, \"unique_route\": 97, \"pct_total_service_hours\": 7.0, \"pct_unique_route\": 4.9, \"avg_service_hours\": 50.4}, {\"District\": 12.0, \"total_service_hours\": 5867, \"unique_route\": 75, \"pct_total_service_hours\": 8.5, \"pct_unique_route\": 3.8, \"avg_service_hours\": 78.2}]}}, {\"mode\": \"vega-lite\"});\n",
       "</script>"
      ],
      "text/plain": [
       "alt.LayerChart(...)"
      ]
     },
     "metadata": {},
     "output_type": "display_data"
    }
   ],
   "source": [
    "metrics = [\n",
    "    \"total_service_hours\", \n",
    "    \"avg_service_hours\"\n",
    "]\n",
    "\n",
    "for m in metrics:\n",
    "    make_bar(by_district, m)"
   ]
  },
  {
   "cell_type": "code",
   "execution_count": null,
   "id": "757b8e06-e076-450e-859f-4d3a32e98a18",
   "metadata": {},
   "outputs": [],
   "source": []
  }
 ],
 "metadata": {
  "kernelspec": {
   "display_name": "Python 3 (ipykernel)",
   "language": "python",
   "name": "python3"
  },
  "language_info": {
   "codemirror_mode": {
    "name": "ipython",
    "version": 3
   },
   "file_extension": ".py",
   "mimetype": "text/x-python",
   "name": "python",
   "nbconvert_exporter": "python",
   "pygments_lexer": "ipython3",
   "version": "3.10.5"
  }
 },
 "nbformat": 4,
 "nbformat_minor": 5
}
