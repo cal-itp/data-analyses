{
 "cells": [
  {
   "cell_type": "markdown",
   "id": "aba3b0aa-73bf-4a8d-b4ee-64ecc98196fc",
   "metadata": {},
   "source": [
    "# PMAC presentation\n",
    "\n",
    "**MT.PO.01: increase total amount of service on the SHN and reliability of that service by 2024**\n",
    "\n",
    "1. Routes on SHN\n",
    "<br>**a. parallel routes (1 mi corridor)** - how many routes, service hours (n, %)\n",
    "<br>**b. on shn routes** - travel for some portion on SHN, but doesn't meet threshold above (50 ft buffer), how many routes, service hours (n, %)\n",
    "<br>**c. other routes** (everything not parallel), how many routes, service hours (n, %)\n",
    "\n",
    "2. How many routes on SHN, breakdown by district\n",
    "3. How many service hours are scheduled for a typical weekday for (1)?\n",
    "4. How many of these agencies that have parallel routes on SHN also have GTFS RT?\n",
    "Use `isin` and find `itp_id`, not route-specific, because most agencies that provide GTFS RT do it for the majority of their routes."
   ]
  },
  {
   "cell_type": "code",
   "execution_count": null,
   "id": "792ee3df-ebcb-4bf7-a7f2-f7f903efe126",
   "metadata": {},
   "outputs": [],
   "source": [
    "import altair as alt\n",
    "import branca\n",
    "import geopandas as gpd\n",
    "import intake\n",
    "import pandas as pd\n",
    "\n",
    "import pmac_utils\n",
    "from D1_pmac_routes import ANALYSIS_DATE, add_route_geom\n",
    "from utils import IMG_PATH\n",
    "from shared_utils import geography_utils, styleguide, map_utils\n",
    "from shared_utils import calitp_color_palette as cp\n",
    "\n",
    "hq_catalog = intake.open_catalog(\"../high_quality_transit_areas/*.yml\")"
   ]
  },
  {
   "cell_type": "code",
   "execution_count": null,
   "id": "add13293-3d9d-40e0-b1fb-c50b89fe84de",
   "metadata": {},
   "outputs": [],
   "source": [
    "df = pmac_utils.flag_parallel_intersecting_routes(ANALYSIS_DATE)"
   ]
  },
  {
   "cell_type": "code",
   "execution_count": null,
   "id": "715e1f45-47a9-42d8-8f64-351d3d4baba9",
   "metadata": {},
   "outputs": [],
   "source": [
    "df._merge.value_counts()"
   ]
  },
  {
   "cell_type": "code",
   "execution_count": null,
   "id": "f2c2c819-b221-4a5c-9f76-7b4631c74916",
   "metadata": {},
   "outputs": [],
   "source": [
    "df[df._merge==\"right_only\"].itp_id.value_counts()"
   ]
  },
  {
   "cell_type": "code",
   "execution_count": null,
   "id": "e022a8a3-9fc4-4e27-8e4e-e66c16df8e21",
   "metadata": {},
   "outputs": [],
   "source": [
    "# Should I subset to df[df._merge==\"both\"]?\n",
    "# both means that it found a corresponding match in itp_id-route_id \n",
    "# since it's been aggregated up to route_id level (shape_id can mismatch more easily)\n",
    "# Decide here, this is the subset of data I will use for rest of notebook\n",
    "plot_df = df[df._merge==\"both\"]"
   ]
  },
  {
   "cell_type": "code",
   "execution_count": null,
   "id": "4695f1ed-7ee3-4adf-a1fb-62fe49a42946",
   "metadata": {},
   "outputs": [],
   "source": [
    "# route_id....well, unique route_id is not exactly the same as is_parallel,\n",
    "# is_on_shn, is_other\n",
    "# Maybe stick with that to be consistent\n",
    "summary = pmac_utils.get_summary_table(plot_df)\n",
    "\n",
    "col_order = ['category', 'unique_route', 'pct_unique_route',\n",
    "             'total_service_hours', 'pct_total_service_hours'\n",
    "            ]\n",
    "\n",
    "summary[col_order]"
   ]
  },
  {
   "cell_type": "code",
   "execution_count": null,
   "id": "30f3ccbf-b9e6-49a8-9cf7-ec03e34524e4",
   "metadata": {},
   "outputs": [],
   "source": [
    "all_hours = geography_utils.aggregate_by_geography(\n",
    "    summary.assign(category=\"All\"),\n",
    "    group_cols = [\"category\"],\n",
    "    sum_cols = [\"unique_route\", \"total_service_hours\"]\n",
    ")\n",
    "\n",
    "#all_hours"
   ]
  },
  {
   "cell_type": "code",
   "execution_count": null,
   "id": "c3e135dd-c034-4dcc-ad82-09c77aab21d5",
   "metadata": {},
   "outputs": [],
   "source": [
    "# Where district is missing, it's not parallel routes\n",
    "# So let's ignore those sections and focus on just parallel and do breakdown\n",
    "#plot_df[(plot_df.District.isna())].category.value_counts()"
   ]
  },
  {
   "cell_type": "code",
   "execution_count": null,
   "id": "2a9769a3-9186-450a-a710-6033f6ee6229",
   "metadata": {},
   "outputs": [],
   "source": [
    "def by_district_parallel_breakdown(df: pd.DataFrame) -> pd.DataFrame:\n",
    "    by_district = geography_utils.aggregate_by_geography(\n",
    "        df[df.category==\"parallel\"],\n",
    "        group_cols = [\"District\"],\n",
    "        sum_cols = [\"total_service_hours\", \"unique_route\"]\n",
    "    ).astype({\"total_service_hours\": int})\n",
    "\n",
    "    by_district = (pmac_utils.add_percent(\n",
    "        by_district, \n",
    "        [\"total_service_hours\", \"unique_route\"])\n",
    "        .sort_values(\"District\")\n",
    "    )\n",
    "\n",
    "    for c in [\"pct_total_service_hours\", \"pct_unique_route\"]:\n",
    "        by_district[c] = by_district[c].round(1)\n",
    "    \n",
    "    return by_district"
   ]
  },
  {
   "cell_type": "code",
   "execution_count": null,
   "id": "c55917d7-09c4-41e9-8b2b-a21cb8529fbf",
   "metadata": {},
   "outputs": [],
   "source": [
    "by_district = by_district_parallel_breakdown(plot_df)\n",
    "#by_district"
   ]
  },
  {
   "cell_type": "code",
   "execution_count": null,
   "id": "7faed671-aa09-4c22-b9b3-da1eeddb4fa7",
   "metadata": {},
   "outputs": [],
   "source": [
    "%%html\n",
    "<style>\n",
    "@import url('https://fonts.googleapis.com/css?family=Raleway');\n",
    "@import url('https://fonts.googleapis.com/css?family=Nunito+Sans');\n",
    "@import url('https://fonts.googleapis.com/css?family=Bitter');\n",
    "</style>"
   ]
  },
  {
   "cell_type": "code",
   "execution_count": null,
   "id": "1985fa95-1916-4ec7-95c9-e5df27477d6b",
   "metadata": {},
   "outputs": [],
   "source": [
    "def base_bar(df: pd.DataFrame) -> alt.Chart:\n",
    "    chart = (alt.Chart(df)\n",
    "             .mark_bar()\n",
    "             .encode(\n",
    "                 x=alt.X(\"District:N\", title=\"District\")\n",
    "             )\n",
    "            )\n",
    "    return chart\n",
    "\n",
    "\n",
    "def make_bar(df: pd.DataFrame, y_col: str) -> alt.Chart:\n",
    "    \"\"\"\n",
    "    Make bar chart that's total service hours or \n",
    "    average service hours by district.\n",
    "    \"\"\"\n",
    "    y_title = f\"{y_col.replace('_', ' ').title()}\"\n",
    "    \n",
    "    if y_col == \"total_service_hours\":\n",
    "        value_format = \",.0f\"\n",
    "        y_buffer = 1_400\n",
    "    else:\n",
    "        value_format = \",.1f\"\n",
    "        y_buffer = 10\n",
    "    \n",
    "    Y_MAX = df[y_col].max() + y_buffer\n",
    "    \n",
    "    bar = base_bar(df)\n",
    "    \n",
    "    bar = (bar.encode(\n",
    "        y=alt.Y(f\"{y_col}:Q\", title=f\"{y_title}\", \n",
    "                scale=alt.Scale(domain=[0, Y_MAX]),\n",
    "                axis=None\n",
    "               ),\n",
    "        color=alt.Color(\"District:N\", \n",
    "                        scale=alt.Scale(\n",
    "                            range=cp.CALITP_CATEGORY_BRIGHT_COLORS\n",
    "                        ), legend=None\n",
    "                )\n",
    "             )\n",
    "            )\n",
    "    #https://stackoverflow.com/questions/54015250/altair-setting-constant-label-color-for-bar-chart\n",
    "    text = (bar\n",
    "            .mark_text(align=\"center\", baseline=\"bottom\",\n",
    "                       color=\"black\", dy=-5  \n",
    "                      )\n",
    "            .encode(text=alt.Text(y_col, format=value_format), \n",
    "                    # Set color here, because encoding for mark_text gets \n",
    "                    # superseded by alt.Color\n",
    "                   color=alt.value(\"black\"), \n",
    "                   tooltip=[\"District:N\", \n",
    "                            alt.Tooltip(f\"{y_col}:Q\", \n",
    "                                        title=f'{y_col.replace(\"_\", \" \")}')] \n",
    "                   )\n",
    "    )\n",
    "      \n",
    "    chart = (bar+text)\n",
    "    \n",
    "    chart = (styleguide.preset_chart_config(chart)\n",
    "             .properties(title= {\n",
    "                 \"text\": f\"{y_title} by District\",\n",
    "                 \"subtitle\": \"Parallel Routes\"\n",
    "            }).configure_axis(grid=False)\n",
    "             .configure_view(strokeWidth=0)\n",
    "             .interactive()\n",
    "            )\n",
    "    \n",
    "    #chart.save(f\"{IMG_PATH}pmac_{y_col}.png\")\n",
    "    \n",
    "    display(chart)"
   ]
  },
  {
   "cell_type": "code",
   "execution_count": null,
   "id": "378a7f37-3a7a-4ad0-a228-89b21408b5d8",
   "metadata": {},
   "outputs": [],
   "source": [
    "by_district = by_district.assign(\n",
    "    avg_service_hours = by_district.total_service_hours.divide(\n",
    "        by_district.unique_route).round(1)\n",
    ")\n",
    "\n",
    "metrics = [\n",
    "    \"total_service_hours\", \n",
    "    \"avg_service_hours\"\n",
    "]\n",
    "\n",
    "for m in metrics:\n",
    "    make_bar(by_district, m)"
   ]
  },
  {
   "cell_type": "markdown",
   "id": "aee65310-bd12-4dfe-9fb4-237d43d0a163",
   "metadata": {},
   "source": [
    "## Map of Parallel / On SHN / Other Routes"
   ]
  },
  {
   "cell_type": "code",
   "execution_count": null,
   "id": "058dd099-90e2-490e-8a26-5858e00022fb",
   "metadata": {},
   "outputs": [],
   "source": [
    "def prep_data_for_viz():\n",
    "    # This categorized_routes_with_geom pulls from merge_routelines_trips\n",
    "    # and adds route's line geom\n",
    "    categorized_routes_with_geom = add_route_geom(ANALYSIS_DATE)\n",
    "    \n",
    "    category_labeling = {\n",
    "        \"parallel\": 0,\n",
    "        \"on_shn\": 1,\n",
    "        \"other\": 2,\n",
    "    }\n",
    "    \n",
    "    gdf = categorized_routes_with_geom.assign(\n",
    "        category2 = categorized_routes_with_geom.category.map(category_labeling),\n",
    "    ) \n",
    "    \n",
    "    # line must fall within CA\n",
    "    ca = hq_catalog.ca_boundary.read().to_crs(f\"EPSG: {gdf.crs.to_epsg()}\")\n",
    "\n",
    "    gdf = gpd.sjoin(\n",
    "        gdf,\n",
    "        ca,\n",
    "        how = \"inner\",\n",
    "        predicate = \"within\",\n",
    "    ).drop(columns= [\"index_right\"])\n",
    "\n",
    "    # Buffer to style the line, project to WGS84 for folium\n",
    "    gdf = gdf.assign(\n",
    "        geometry = gdf.geometry.simplify(tolerance=100).buffer(300)\n",
    "    ).to_crs(geography_utils.WGS84)\n",
    "    \n",
    "    return gdf\n",
    "\n",
    "\n",
    "gdf = prep_data_for_viz()"
   ]
  },
  {
   "cell_type": "code",
   "execution_count": null,
   "id": "d5605be4-b014-4673-8af5-061ba5fb6ee9",
   "metadata": {},
   "outputs": [],
   "source": [
    "MIN_VALUE = gdf.category2.min()\n",
    "MAX_VALUE = gdf.category2.max()\n",
    "\n",
    "#CAT_VALUES = sorted(gdf.category2.unique().tolist())\n",
    "\n",
    "colorscale = branca.colormap.StepColormap(\n",
    "    colors = [cp.CALITP_CATEGORY_BRIGHT_COLORS[0], \n",
    "              cp.CALITP_CATEGORY_BRIGHT_COLORS[1],\n",
    "              cp.CALITP_CATEGORY_BRIGHT_COLORS[2]\n",
    "             ],\n",
    "    # play with these thresholds to get all 3 colors displayed\n",
    "    # have to add an additional value beyond max_value so max_value displayed\n",
    "    # don't put index=CAT_VALUES\n",
    "    vmin = MIN_VALUE, vmax = MAX_VALUE, \n",
    ")\n",
    "\n",
    "POPUP_DICT = {\n",
    "    \"itp_id\": \"ITP ID\", \n",
    "    \"category\": \"Category\",\n",
    "    \"route_id\": \"Route ID\", \n",
    "    \"total_service_hours\": \"Daily Service Hours\",\n",
    "    \"route_length_mi\": \"Route Length (mi)\",\n",
    "    \"District\": \"District\",\n",
    "}\n",
    "\n",
    "m = map_utils.make_folium_choropleth_map(\n",
    "    gdf,\n",
    "    plot_col = \"category2\",\n",
    "    popup_dict = POPUP_DICT, tooltip_dict = POPUP_DICT,\n",
    "    fig_width = 500, fig_height = 600,\n",
    "    colorscale = colorscale,\n",
    "    title = \"Parallel / On SHN / Other Transit Routes\",\n",
    ")\n",
    "\n",
    "m"
   ]
  },
  {
   "cell_type": "code",
   "execution_count": null,
   "id": "77b85f72-029e-4b18-8f62-7df75f1a1f31",
   "metadata": {},
   "outputs": [],
   "source": []
  }
 ],
 "metadata": {
  "kernelspec": {
   "display_name": "Python 3 (ipykernel)",
   "language": "python",
   "name": "python3"
  },
  "language_info": {
   "codemirror_mode": {
    "name": "ipython",
    "version": 3
   },
   "file_extension": ".py",
   "mimetype": "text/x-python",
   "name": "python",
   "nbconvert_exporter": "python",
   "pygments_lexer": "ipython3",
   "version": "3.10.5"
  }
 },
 "nbformat": 4,
 "nbformat_minor": 5
}
