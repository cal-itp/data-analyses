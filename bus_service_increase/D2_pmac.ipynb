{
 "cells": [
  {
   "cell_type": "markdown",
   "id": "aba3b0aa-73bf-4a8d-b4ee-64ecc98196fc",
   "metadata": {},
   "source": [
    "# PMAC presentation\n",
    "\n",
    "**MT.PO.01: increase total amount of service on the SHN and reliability of that service by 2024**\n",
    "\n",
    "#### Selected Dates\n",
    "* Q1: 2/8/22\n",
    "* Q2: 5/4/22\n",
    "\n",
    "1. Routes on SHN\n",
    "a. parallel routes (1 mi corridor) - how many routes, agencies, share of all CA transit agency-routes?\n",
    "b. intersecting routes (everything not parallel) - how many routes, agencies, share of all CA transit agency-routes?\n",
    "c. intersecting routes (not parallel, but actually travel on SHN (50 ft buffer) for some portion of that route) - subset of above, how many routes, agencies, share of all CA agency-routes?\n",
    "\n",
    "2. How many routes on SHN, breakdown by district\n",
    "3. How many service hours are scheduled for a typical weekday for (1)?\n",
    "4. How many of these agencies that have parallel routes on SHN also have GTFS RT?\n",
    "Use `isin` and find `itp_id`, not route-specific, because most agencies that provide GTFS RT do it for the majority of their routes."
   ]
  },
  {
   "cell_type": "code",
   "execution_count": 1,
   "id": "792ee3df-ebcb-4bf7-a7f2-f7f903efe126",
   "metadata": {},
   "outputs": [
    {
     "name": "stderr",
     "output_type": "stream",
     "text": [
      "/opt/conda/lib/python3.10/site-packages/geopandas/_compat.py:111: UserWarning: The Shapely GEOS version (3.10.2-CAPI-1.16.0) is incompatible with the GEOS version PyGEOS was compiled with (3.10.1-CAPI-1.16.0). Conversions between both will be slow.\n",
      "  warnings.warn(\n"
     ]
    }
   ],
   "source": [
    "import altair as alt\n",
    "import pandas as pd\n",
    "\n",
    "import pmac_utils\n",
    "from D1_pmac_routes import ANALYSIS_DATE\n",
    "#ANALYSIS_DATE = \"2022-02-08\"\n",
    "from utils import IMG_PATH\n",
    "from shared_utils import geography_utils, styleguide\n",
    "from shared_utils import calitp_color_palette as cp"
   ]
  },
  {
   "cell_type": "code",
   "execution_count": 2,
   "id": "add13293-3d9d-40e0-b1fb-c50b89fe84de",
   "metadata": {},
   "outputs": [],
   "source": [
    "df = pmac_utils.flag_parallel_intersecting_routes(ANALYSIS_DATE)"
   ]
  },
  {
   "cell_type": "code",
   "execution_count": 3,
   "id": "715e1f45-47a9-42d8-8f64-351d3d4baba9",
   "metadata": {},
   "outputs": [
    {
     "data": {
      "text/plain": [
       "both          2949\n",
       "right_only      32\n",
       "left_only        0\n",
       "Name: _merge, dtype: int64"
      ]
     },
     "execution_count": 3,
     "metadata": {},
     "output_type": "execute_result"
    }
   ],
   "source": [
    "df._merge.value_counts()"
   ]
  },
  {
   "cell_type": "code",
   "execution_count": 4,
   "id": "f2c2c819-b221-4a5c-9f76-7b4631c74916",
   "metadata": {},
   "outputs": [
    {
     "data": {
      "text/plain": [
       "105    17\n",
       "294     5\n",
       "314     3\n",
       "194     3\n",
       "127     2\n",
       "282     1\n",
       "246     1\n",
       "Name: itp_id, dtype: int64"
      ]
     },
     "execution_count": 4,
     "metadata": {},
     "output_type": "execute_result"
    }
   ],
   "source": [
    "df[df._merge==\"right_only\"].itp_id.value_counts()"
   ]
  },
  {
   "cell_type": "code",
   "execution_count": 5,
   "id": "4695f1ed-7ee3-4adf-a1fb-62fe49a42946",
   "metadata": {},
   "outputs": [
    {
     "data": {
      "text/html": [
       "<div>\n",
       "<style scoped>\n",
       "    .dataframe tbody tr th:only-of-type {\n",
       "        vertical-align: middle;\n",
       "    }\n",
       "\n",
       "    .dataframe tbody tr th {\n",
       "        vertical-align: top;\n",
       "    }\n",
       "\n",
       "    .dataframe thead th {\n",
       "        text-align: right;\n",
       "    }\n",
       "</style>\n",
       "<table border=\"1\" class=\"dataframe\">\n",
       "  <thead>\n",
       "    <tr style=\"text-align: right;\">\n",
       "      <th></th>\n",
       "      <th>category</th>\n",
       "      <th>unique_route</th>\n",
       "      <th>pct_unique_route</th>\n",
       "      <th>total_service_hours</th>\n",
       "      <th>pct_total_service_hours</th>\n",
       "    </tr>\n",
       "  </thead>\n",
       "  <tbody>\n",
       "    <tr>\n",
       "      <th>0</th>\n",
       "      <td>parallel</td>\n",
       "      <td>1667</td>\n",
       "      <td>56.5</td>\n",
       "      <td>59465</td>\n",
       "      <td>54.4</td>\n",
       "    </tr>\n",
       "    <tr>\n",
       "      <th>1</th>\n",
       "      <td>other</td>\n",
       "      <td>721</td>\n",
       "      <td>24.4</td>\n",
       "      <td>30399</td>\n",
       "      <td>27.8</td>\n",
       "    </tr>\n",
       "    <tr>\n",
       "      <th>2</th>\n",
       "      <td>on_shn</td>\n",
       "      <td>561</td>\n",
       "      <td>19.0</td>\n",
       "      <td>19527</td>\n",
       "      <td>17.9</td>\n",
       "    </tr>\n",
       "  </tbody>\n",
       "</table>\n",
       "</div>"
      ],
      "text/plain": [
       "   category  unique_route  pct_unique_route  total_service_hours  \\\n",
       "0  parallel          1667              56.5                59465   \n",
       "1     other           721              24.4                30399   \n",
       "2    on_shn           561              19.0                19527   \n",
       "\n",
       "   pct_total_service_hours  \n",
       "0                     54.4  \n",
       "1                     27.8  \n",
       "2                     17.9  "
      ]
     },
     "execution_count": 5,
     "metadata": {},
     "output_type": "execute_result"
    }
   ],
   "source": [
    "# route_id....well, unique route_id is not exactly the same as is_parallel,\n",
    "# is_on_shn, is_other\n",
    "# Maybe stick with that to be consistent\n",
    "summary = pmac_utils.get_summary_table(df[df._merge==\"both\"])\n",
    "\n",
    "col_order = ['category', 'unique_route', 'pct_unique_route',\n",
    "             'total_service_hours', 'pct_total_service_hours'\n",
    "            ]\n",
    "\n",
    "summary[col_order]"
   ]
  },
  {
   "cell_type": "code",
   "execution_count": 7,
   "id": "30f3ccbf-b9e6-49a8-9cf7-ec03e34524e4",
   "metadata": {},
   "outputs": [
    {
     "data": {
      "text/html": [
       "<div>\n",
       "<style scoped>\n",
       "    .dataframe tbody tr th:only-of-type {\n",
       "        vertical-align: middle;\n",
       "    }\n",
       "\n",
       "    .dataframe tbody tr th {\n",
       "        vertical-align: top;\n",
       "    }\n",
       "\n",
       "    .dataframe thead th {\n",
       "        text-align: right;\n",
       "    }\n",
       "</style>\n",
       "<table border=\"1\" class=\"dataframe\">\n",
       "  <thead>\n",
       "    <tr style=\"text-align: right;\">\n",
       "      <th></th>\n",
       "      <th>category</th>\n",
       "      <th>total_service_hours</th>\n",
       "      <th>unique_route</th>\n",
       "    </tr>\n",
       "  </thead>\n",
       "  <tbody>\n",
       "    <tr>\n",
       "      <th>0</th>\n",
       "      <td>All</td>\n",
       "      <td>109391</td>\n",
       "      <td>2949</td>\n",
       "    </tr>\n",
       "  </tbody>\n",
       "</table>\n",
       "</div>"
      ],
      "text/plain": [
       "  category  total_service_hours  unique_route\n",
       "0      All               109391          2949"
      ]
     },
     "execution_count": 7,
     "metadata": {},
     "output_type": "execute_result"
    }
   ],
   "source": [
    "geography_utils.aggregate_by_geography(\n",
    "    summary.assign(category=\"All\"),\n",
    "    group_cols = [\"category\"],\n",
    "    sum_cols = [\"unique_route\", \"total_service_hours\"]\n",
    ")"
   ]
  },
  {
   "cell_type": "code",
   "execution_count": 8,
   "id": "c3e135dd-c034-4dcc-ad82-09c77aab21d5",
   "metadata": {},
   "outputs": [
    {
     "data": {
      "text/plain": [
       "other     733\n",
       "on_shn    564\n",
       "Name: category, dtype: int64"
      ]
     },
     "execution_count": 8,
     "metadata": {},
     "output_type": "execute_result"
    }
   ],
   "source": [
    "# Where district is missing, it's not parallel routes\n",
    "# So let's ignore those sections and focus on just parallel and do breakdown\n",
    "df[(df.District.isna())].category.value_counts()"
   ]
  },
  {
   "cell_type": "code",
   "execution_count": 9,
   "id": "2a9769a3-9186-450a-a710-6033f6ee6229",
   "metadata": {},
   "outputs": [],
   "source": [
    "def by_district_parallel_breakdown(df: pd.DataFrame) -> pd.DataFrame:\n",
    "    by_district = geography_utils.aggregate_by_geography(\n",
    "        df[df.category==\"parallel\"],\n",
    "        group_cols = [\"District\"],\n",
    "        sum_cols = [\"total_service_hours\", \"unique_route\"]\n",
    "    ).astype({\"total_service_hours\": int})\n",
    "\n",
    "    by_district = (pmac_utils.add_percent(\n",
    "        by_district, \n",
    "        [\"total_service_hours\", \"unique_route\"])\n",
    "        .sort_values(\"District\")\n",
    "    )\n",
    "\n",
    "    for c in [\"pct_total_service_hours\", \"pct_unique_route\"]:\n",
    "        by_district[c] = by_district[c].round(1)\n",
    "    \n",
    "    return by_district"
   ]
  },
  {
   "cell_type": "code",
   "execution_count": 10,
   "id": "c55917d7-09c4-41e9-8b2b-a21cb8529fbf",
   "metadata": {},
   "outputs": [
    {
     "data": {
      "text/html": [
       "<div>\n",
       "<style scoped>\n",
       "    .dataframe tbody tr th:only-of-type {\n",
       "        vertical-align: middle;\n",
       "    }\n",
       "\n",
       "    .dataframe tbody tr th {\n",
       "        vertical-align: top;\n",
       "    }\n",
       "\n",
       "    .dataframe thead th {\n",
       "        text-align: right;\n",
       "    }\n",
       "</style>\n",
       "<table border=\"1\" class=\"dataframe\">\n",
       "  <thead>\n",
       "    <tr style=\"text-align: right;\">\n",
       "      <th></th>\n",
       "      <th>District</th>\n",
       "      <th>total_service_hours</th>\n",
       "      <th>unique_route</th>\n",
       "      <th>pct_total_service_hours</th>\n",
       "      <th>pct_unique_route</th>\n",
       "    </tr>\n",
       "  </thead>\n",
       "  <tbody>\n",
       "    <tr>\n",
       "      <th>4</th>\n",
       "      <td>1.0</td>\n",
       "      <td>662</td>\n",
       "      <td>53</td>\n",
       "      <td>1.1</td>\n",
       "      <td>3.1</td>\n",
       "    </tr>\n",
       "    <tr>\n",
       "      <th>7</th>\n",
       "      <td>2.0</td>\n",
       "      <td>474</td>\n",
       "      <td>52</td>\n",
       "      <td>0.8</td>\n",
       "      <td>3.1</td>\n",
       "    </tr>\n",
       "    <tr>\n",
       "      <th>3</th>\n",
       "      <td>3.0</td>\n",
       "      <td>2153</td>\n",
       "      <td>124</td>\n",
       "      <td>3.6</td>\n",
       "      <td>7.4</td>\n",
       "    </tr>\n",
       "    <tr>\n",
       "      <th>0</th>\n",
       "      <td>4.0</td>\n",
       "      <td>27451</td>\n",
       "      <td>537</td>\n",
       "      <td>46.1</td>\n",
       "      <td>31.9</td>\n",
       "    </tr>\n",
       "    <tr>\n",
       "      <th>9</th>\n",
       "      <td>5.0</td>\n",
       "      <td>1472</td>\n",
       "      <td>98</td>\n",
       "      <td>2.5</td>\n",
       "      <td>5.8</td>\n",
       "    </tr>\n",
       "    <tr>\n",
       "      <th>6</th>\n",
       "      <td>6.0</td>\n",
       "      <td>1343</td>\n",
       "      <td>74</td>\n",
       "      <td>2.3</td>\n",
       "      <td>4.4</td>\n",
       "    </tr>\n",
       "    <tr>\n",
       "      <th>1</th>\n",
       "      <td>7.0</td>\n",
       "      <td>11023</td>\n",
       "      <td>397</td>\n",
       "      <td>18.5</td>\n",
       "      <td>23.6</td>\n",
       "    </tr>\n",
       "    <tr>\n",
       "      <th>5</th>\n",
       "      <td>8.0</td>\n",
       "      <td>2193</td>\n",
       "      <td>68</td>\n",
       "      <td>3.7</td>\n",
       "      <td>4.0</td>\n",
       "    </tr>\n",
       "    <tr>\n",
       "      <th>8</th>\n",
       "      <td>9.0</td>\n",
       "      <td>182</td>\n",
       "      <td>18</td>\n",
       "      <td>0.3</td>\n",
       "      <td>1.1</td>\n",
       "    </tr>\n",
       "    <tr>\n",
       "      <th>2</th>\n",
       "      <td>10.0</td>\n",
       "      <td>1558</td>\n",
       "      <td>91</td>\n",
       "      <td>2.6</td>\n",
       "      <td>5.4</td>\n",
       "    </tr>\n",
       "    <tr>\n",
       "      <th>11</th>\n",
       "      <td>11.0</td>\n",
       "      <td>4793</td>\n",
       "      <td>98</td>\n",
       "      <td>8.0</td>\n",
       "      <td>5.8</td>\n",
       "    </tr>\n",
       "    <tr>\n",
       "      <th>10</th>\n",
       "      <td>12.0</td>\n",
       "      <td>6277</td>\n",
       "      <td>74</td>\n",
       "      <td>10.5</td>\n",
       "      <td>4.4</td>\n",
       "    </tr>\n",
       "  </tbody>\n",
       "</table>\n",
       "</div>"
      ],
      "text/plain": [
       "    District  total_service_hours  unique_route  pct_total_service_hours  \\\n",
       "4        1.0                  662            53                      1.1   \n",
       "7        2.0                  474            52                      0.8   \n",
       "3        3.0                 2153           124                      3.6   \n",
       "0        4.0                27451           537                     46.1   \n",
       "9        5.0                 1472            98                      2.5   \n",
       "6        6.0                 1343            74                      2.3   \n",
       "1        7.0                11023           397                     18.5   \n",
       "5        8.0                 2193            68                      3.7   \n",
       "8        9.0                  182            18                      0.3   \n",
       "2       10.0                 1558            91                      2.6   \n",
       "11      11.0                 4793            98                      8.0   \n",
       "10      12.0                 6277            74                     10.5   \n",
       "\n",
       "    pct_unique_route  \n",
       "4                3.1  \n",
       "7                3.1  \n",
       "3                7.4  \n",
       "0               31.9  \n",
       "9                5.8  \n",
       "6                4.4  \n",
       "1               23.6  \n",
       "5                4.0  \n",
       "8                1.1  \n",
       "2                5.4  \n",
       "11               5.8  \n",
       "10               4.4  "
      ]
     },
     "execution_count": 10,
     "metadata": {},
     "output_type": "execute_result"
    }
   ],
   "source": [
    "by_district = by_district_parallel_breakdown(df)\n",
    "by_district"
   ]
  },
  {
   "cell_type": "code",
   "execution_count": 11,
   "id": "7faed671-aa09-4c22-b9b3-da1eeddb4fa7",
   "metadata": {},
   "outputs": [
    {
     "data": {
      "text/html": [
       "<style>\n",
       "@import url('https://fonts.googleapis.com/css?family=Raleway');\n",
       "@import url('https://fonts.googleapis.com/css?family=Nunito+Sans');\n",
       "@import url('https://fonts.googleapis.com/css?family=Bitter');\n",
       "</style>\n"
      ],
      "text/plain": [
       "<IPython.core.display.HTML object>"
      ]
     },
     "metadata": {},
     "output_type": "display_data"
    }
   ],
   "source": [
    "%%html\n",
    "<style>\n",
    "@import url('https://fonts.googleapis.com/css?family=Raleway');\n",
    "@import url('https://fonts.googleapis.com/css?family=Nunito+Sans');\n",
    "@import url('https://fonts.googleapis.com/css?family=Bitter');\n",
    "</style>"
   ]
  },
  {
   "cell_type": "code",
   "execution_count": 12,
   "id": "1985fa95-1916-4ec7-95c9-e5df27477d6b",
   "metadata": {},
   "outputs": [],
   "source": [
    "def base_bar(df: pd.DataFrame) -> alt.Chart:\n",
    "    chart = (alt.Chart(df)\n",
    "             .mark_bar()\n",
    "             .encode(\n",
    "                 x=alt.X(\"District:N\", title=\"District\")\n",
    "             )\n",
    "            )\n",
    "    return chart\n",
    "\n",
    "\n",
    "def make_bar(df: pd.DataFrame, y_col: str) -> alt.Chart:\n",
    "    \"\"\"\n",
    "    Make bar chart that's total service hours or \n",
    "    average service hours by district.\n",
    "    \"\"\"\n",
    "    y_title = f\"{y_col.replace('_', ' ').title()}\"\n",
    "    \n",
    "    if y_col == \"total_service_hours\":\n",
    "        value_format = \",.0f\"\n",
    "        y_buffer = 1_000\n",
    "    else:\n",
    "        value_format = \",.1f\"\n",
    "        y_buffer = 5\n",
    "    \n",
    "    Y_MAX = df[y_col].max() + y_buffer\n",
    "    \n",
    "    bar = base_bar(df)\n",
    "    \n",
    "    bar = (bar.encode(\n",
    "        y=alt.Y(f\"{y_col}:Q\", title=f\"{y_title}\", \n",
    "                scale=alt.Scale(domain=[0, Y_MAX])\n",
    "               ),\n",
    "        color=alt.Color(\"District:N\", \n",
    "                        scale=alt.Scale(\n",
    "                            range=cp.CALITP_CATEGORY_BRIGHT_COLORS\n",
    "                        )\n",
    "                )\n",
    "             )\n",
    "            )\n",
    "    #https://stackoverflow.com/questions/54015250/altair-setting-constant-label-color-for-bar-chart\n",
    "    text = (bar\n",
    "            .mark_text(align=\"center\", baseline=\"bottom\",\n",
    "                       color=\"black\", dy=-5  \n",
    "                      )\n",
    "            .encode(text=alt.Text(y_col, format=value_format), \n",
    "                    # Set color here, because encoding for mark_text gets \n",
    "                    # superseded by alt.Color\n",
    "                   color=alt.value(\"black\"))\n",
    "    )\n",
    "      \n",
    "    chart = (bar+text)\n",
    "    \n",
    "    chart = (styleguide.preset_chart_config(chart)\n",
    "             .properties(title= {\n",
    "                 \"text\": f\"{y_title} by District\",\n",
    "                 \"subtitle\": \"Parallel Routes\"\n",
    "            }).configure_axis(grid=False)\n",
    "            )\n",
    "    \n",
    "    chart.save(f\"{IMG_PATH}pmac_{y_col}.png\")\n",
    "    \n",
    "    display(chart)"
   ]
  },
  {
   "cell_type": "code",
   "execution_count": 13,
   "id": "6f0c0de9-1344-4169-9ca5-aaf551b6e679",
   "metadata": {},
   "outputs": [],
   "source": [
    "by_district = by_district.assign(\n",
    "    avg_service_hours = by_district.total_service_hours.divide(\n",
    "        by_district.unique_route).round(1)\n",
    ")"
   ]
  },
  {
   "cell_type": "code",
   "execution_count": 14,
   "id": "378a7f37-3a7a-4ad0-a228-89b21408b5d8",
   "metadata": {},
   "outputs": [
    {
     "data": {
      "text/html": [
       "\n",
       "<div id=\"altair-viz-e610dc06e8634effa790473b853ebc84\"></div>\n",
       "<script type=\"text/javascript\">\n",
       "  var VEGA_DEBUG = (typeof VEGA_DEBUG == \"undefined\") ? {} : VEGA_DEBUG;\n",
       "  (function(spec, embedOpt){\n",
       "    let outputDiv = document.currentScript.previousElementSibling;\n",
       "    if (outputDiv.id !== \"altair-viz-e610dc06e8634effa790473b853ebc84\") {\n",
       "      outputDiv = document.getElementById(\"altair-viz-e610dc06e8634effa790473b853ebc84\");\n",
       "    }\n",
       "    const paths = {\n",
       "      \"vega\": \"https://cdn.jsdelivr.net/npm//vega@5?noext\",\n",
       "      \"vega-lib\": \"https://cdn.jsdelivr.net/npm//vega-lib?noext\",\n",
       "      \"vega-lite\": \"https://cdn.jsdelivr.net/npm//vega-lite@4.17.0?noext\",\n",
       "      \"vega-embed\": \"https://cdn.jsdelivr.net/npm//vega-embed@6?noext\",\n",
       "    };\n",
       "\n",
       "    function maybeLoadScript(lib, version) {\n",
       "      var key = `${lib.replace(\"-\", \"\")}_version`;\n",
       "      return (VEGA_DEBUG[key] == version) ?\n",
       "        Promise.resolve(paths[lib]) :\n",
       "        new Promise(function(resolve, reject) {\n",
       "          var s = document.createElement('script');\n",
       "          document.getElementsByTagName(\"head\")[0].appendChild(s);\n",
       "          s.async = true;\n",
       "          s.onload = () => {\n",
       "            VEGA_DEBUG[key] = version;\n",
       "            return resolve(paths[lib]);\n",
       "          };\n",
       "          s.onerror = () => reject(`Error loading script: ${paths[lib]}`);\n",
       "          s.src = paths[lib];\n",
       "        });\n",
       "    }\n",
       "\n",
       "    function showError(err) {\n",
       "      outputDiv.innerHTML = `<div class=\"error\" style=\"color:red;\">${err}</div>`;\n",
       "      throw err;\n",
       "    }\n",
       "\n",
       "    function displayChart(vegaEmbed) {\n",
       "      vegaEmbed(outputDiv, spec, embedOpt)\n",
       "        .catch(err => showError(`Javascript Error: ${err.message}<br>This usually means there's a typo in your chart specification. See the javascript console for the full traceback.`));\n",
       "    }\n",
       "\n",
       "    if(typeof define === \"function\" && define.amd) {\n",
       "      requirejs.config({paths});\n",
       "      require([\"vega-embed\"], displayChart, err => showError(`Error loading script: ${err.message}`));\n",
       "    } else {\n",
       "      maybeLoadScript(\"vega\", \"5\")\n",
       "        .then(() => maybeLoadScript(\"vega-lite\", \"4.17.0\"))\n",
       "        .then(() => maybeLoadScript(\"vega-embed\", \"6\"))\n",
       "        .catch(showError)\n",
       "        .then(() => displayChart(vegaEmbed));\n",
       "    }\n",
       "  })({\"config\": {\"view\": {\"continuousWidth\": 400, \"continuousHeight\": 300}, \"axis\": {\"grid\": false}, \"axisBand\": {\"grid\": false}, \"background\": \"white\", \"font\": \"Raleway\", \"header\": {\"labelFont\": \"Nunito Sans\", \"titleFont\": \"Raleway\"}, \"legend\": {\"labelColor\": \"#333\", \"labelFont\": \"Nunito Sans\", \"labelFontSize\": 11, \"labelLimit\": 0, \"padding\": 1, \"symbolSize\": 30, \"symbolType\": \"square\", \"titleColor\": \"#333\", \"titleFont\": \"Raleway\", \"titleFontSize\": 14, \"titlePadding\": 10}, \"title\": {\"anchor\": \"middle\", \"font\": \"Raleway\", \"fontSize\": 18, \"fontWeight\": 300, \"offset\": 20}}, \"layer\": [{\"mark\": \"bar\", \"encoding\": {\"color\": {\"field\": \"District\", \"scale\": {\"range\": [\"#2EA8CE\", \"#EB9F3C\", \"#F4D837\", \"#51BF9D\", \"#8CBCCB\", \"#9487C0\"]}, \"type\": \"nominal\"}, \"x\": {\"field\": \"District\", \"title\": \"District\", \"type\": \"nominal\"}, \"y\": {\"field\": \"total_service_hours\", \"scale\": {\"domain\": [0, 28451]}, \"title\": \"Total Service Hours\", \"type\": \"quantitative\"}}}, {\"mark\": {\"type\": \"text\", \"align\": \"center\", \"baseline\": \"bottom\", \"color\": \"black\", \"dy\": -5}, \"encoding\": {\"color\": {\"value\": \"black\"}, \"text\": {\"field\": \"total_service_hours\", \"format\": \",.0f\", \"type\": \"quantitative\"}, \"x\": {\"field\": \"District\", \"title\": \"District\", \"type\": \"nominal\"}, \"y\": {\"field\": \"total_service_hours\", \"scale\": {\"domain\": [0, 28451]}, \"title\": \"Total Service Hours\", \"type\": \"quantitative\"}}}], \"data\": {\"name\": \"data-e7f070f1d83a2c9e9be72d3748afbca8\"}, \"height\": 250, \"title\": {\"text\": \"Total Service Hours by District\", \"subtitle\": \"Parallel Routes\"}, \"width\": 400, \"$schema\": \"https://vega.github.io/schema/vega-lite/v4.17.0.json\", \"datasets\": {\"data-e7f070f1d83a2c9e9be72d3748afbca8\": [{\"District\": 1.0, \"total_service_hours\": 662, \"unique_route\": 53, \"pct_total_service_hours\": 1.1, \"pct_unique_route\": 3.1, \"avg_service_hours\": 12.5}, {\"District\": 2.0, \"total_service_hours\": 474, \"unique_route\": 52, \"pct_total_service_hours\": 0.8, \"pct_unique_route\": 3.1, \"avg_service_hours\": 9.1}, {\"District\": 3.0, \"total_service_hours\": 2153, \"unique_route\": 124, \"pct_total_service_hours\": 3.6, \"pct_unique_route\": 7.4, \"avg_service_hours\": 17.4}, {\"District\": 4.0, \"total_service_hours\": 27451, \"unique_route\": 537, \"pct_total_service_hours\": 46.1, \"pct_unique_route\": 31.9, \"avg_service_hours\": 51.1}, {\"District\": 5.0, \"total_service_hours\": 1472, \"unique_route\": 98, \"pct_total_service_hours\": 2.5, \"pct_unique_route\": 5.8, \"avg_service_hours\": 15.0}, {\"District\": 6.0, \"total_service_hours\": 1343, \"unique_route\": 74, \"pct_total_service_hours\": 2.3, \"pct_unique_route\": 4.4, \"avg_service_hours\": 18.1}, {\"District\": 7.0, \"total_service_hours\": 11023, \"unique_route\": 397, \"pct_total_service_hours\": 18.5, \"pct_unique_route\": 23.6, \"avg_service_hours\": 27.8}, {\"District\": 8.0, \"total_service_hours\": 2193, \"unique_route\": 68, \"pct_total_service_hours\": 3.7, \"pct_unique_route\": 4.0, \"avg_service_hours\": 32.2}, {\"District\": 9.0, \"total_service_hours\": 182, \"unique_route\": 18, \"pct_total_service_hours\": 0.3, \"pct_unique_route\": 1.1, \"avg_service_hours\": 10.1}, {\"District\": 10.0, \"total_service_hours\": 1558, \"unique_route\": 91, \"pct_total_service_hours\": 2.6, \"pct_unique_route\": 5.4, \"avg_service_hours\": 17.1}, {\"District\": 11.0, \"total_service_hours\": 4793, \"unique_route\": 98, \"pct_total_service_hours\": 8.0, \"pct_unique_route\": 5.8, \"avg_service_hours\": 48.9}, {\"District\": 12.0, \"total_service_hours\": 6277, \"unique_route\": 74, \"pct_total_service_hours\": 10.5, \"pct_unique_route\": 4.4, \"avg_service_hours\": 84.8}]}}, {\"mode\": \"vega-lite\"});\n",
       "</script>"
      ],
      "text/plain": [
       "alt.LayerChart(...)"
      ]
     },
     "metadata": {},
     "output_type": "display_data"
    },
    {
     "data": {
      "text/html": [
       "\n",
       "<div id=\"altair-viz-961e419ba1d74c82a2ac18f781b2f8c9\"></div>\n",
       "<script type=\"text/javascript\">\n",
       "  var VEGA_DEBUG = (typeof VEGA_DEBUG == \"undefined\") ? {} : VEGA_DEBUG;\n",
       "  (function(spec, embedOpt){\n",
       "    let outputDiv = document.currentScript.previousElementSibling;\n",
       "    if (outputDiv.id !== \"altair-viz-961e419ba1d74c82a2ac18f781b2f8c9\") {\n",
       "      outputDiv = document.getElementById(\"altair-viz-961e419ba1d74c82a2ac18f781b2f8c9\");\n",
       "    }\n",
       "    const paths = {\n",
       "      \"vega\": \"https://cdn.jsdelivr.net/npm//vega@5?noext\",\n",
       "      \"vega-lib\": \"https://cdn.jsdelivr.net/npm//vega-lib?noext\",\n",
       "      \"vega-lite\": \"https://cdn.jsdelivr.net/npm//vega-lite@4.17.0?noext\",\n",
       "      \"vega-embed\": \"https://cdn.jsdelivr.net/npm//vega-embed@6?noext\",\n",
       "    };\n",
       "\n",
       "    function maybeLoadScript(lib, version) {\n",
       "      var key = `${lib.replace(\"-\", \"\")}_version`;\n",
       "      return (VEGA_DEBUG[key] == version) ?\n",
       "        Promise.resolve(paths[lib]) :\n",
       "        new Promise(function(resolve, reject) {\n",
       "          var s = document.createElement('script');\n",
       "          document.getElementsByTagName(\"head\")[0].appendChild(s);\n",
       "          s.async = true;\n",
       "          s.onload = () => {\n",
       "            VEGA_DEBUG[key] = version;\n",
       "            return resolve(paths[lib]);\n",
       "          };\n",
       "          s.onerror = () => reject(`Error loading script: ${paths[lib]}`);\n",
       "          s.src = paths[lib];\n",
       "        });\n",
       "    }\n",
       "\n",
       "    function showError(err) {\n",
       "      outputDiv.innerHTML = `<div class=\"error\" style=\"color:red;\">${err}</div>`;\n",
       "      throw err;\n",
       "    }\n",
       "\n",
       "    function displayChart(vegaEmbed) {\n",
       "      vegaEmbed(outputDiv, spec, embedOpt)\n",
       "        .catch(err => showError(`Javascript Error: ${err.message}<br>This usually means there's a typo in your chart specification. See the javascript console for the full traceback.`));\n",
       "    }\n",
       "\n",
       "    if(typeof define === \"function\" && define.amd) {\n",
       "      requirejs.config({paths});\n",
       "      require([\"vega-embed\"], displayChart, err => showError(`Error loading script: ${err.message}`));\n",
       "    } else {\n",
       "      maybeLoadScript(\"vega\", \"5\")\n",
       "        .then(() => maybeLoadScript(\"vega-lite\", \"4.17.0\"))\n",
       "        .then(() => maybeLoadScript(\"vega-embed\", \"6\"))\n",
       "        .catch(showError)\n",
       "        .then(() => displayChart(vegaEmbed));\n",
       "    }\n",
       "  })({\"config\": {\"view\": {\"continuousWidth\": 400, \"continuousHeight\": 300}, \"axis\": {\"grid\": false}, \"axisBand\": {\"grid\": false}, \"background\": \"white\", \"font\": \"Raleway\", \"header\": {\"labelFont\": \"Nunito Sans\", \"titleFont\": \"Raleway\"}, \"legend\": {\"labelColor\": \"#333\", \"labelFont\": \"Nunito Sans\", \"labelFontSize\": 11, \"labelLimit\": 0, \"padding\": 1, \"symbolSize\": 30, \"symbolType\": \"square\", \"titleColor\": \"#333\", \"titleFont\": \"Raleway\", \"titleFontSize\": 14, \"titlePadding\": 10}, \"title\": {\"anchor\": \"middle\", \"font\": \"Raleway\", \"fontSize\": 18, \"fontWeight\": 300, \"offset\": 20}}, \"layer\": [{\"mark\": \"bar\", \"encoding\": {\"color\": {\"field\": \"District\", \"scale\": {\"range\": [\"#2EA8CE\", \"#EB9F3C\", \"#F4D837\", \"#51BF9D\", \"#8CBCCB\", \"#9487C0\"]}, \"type\": \"nominal\"}, \"x\": {\"field\": \"District\", \"title\": \"District\", \"type\": \"nominal\"}, \"y\": {\"field\": \"avg_service_hours\", \"scale\": {\"domain\": [0, 89.8]}, \"title\": \"Avg Service Hours\", \"type\": \"quantitative\"}}}, {\"mark\": {\"type\": \"text\", \"align\": \"center\", \"baseline\": \"bottom\", \"color\": \"black\", \"dy\": -5}, \"encoding\": {\"color\": {\"value\": \"black\"}, \"text\": {\"field\": \"avg_service_hours\", \"format\": \",.1f\", \"type\": \"quantitative\"}, \"x\": {\"field\": \"District\", \"title\": \"District\", \"type\": \"nominal\"}, \"y\": {\"field\": \"avg_service_hours\", \"scale\": {\"domain\": [0, 89.8]}, \"title\": \"Avg Service Hours\", \"type\": \"quantitative\"}}}], \"data\": {\"name\": \"data-e7f070f1d83a2c9e9be72d3748afbca8\"}, \"height\": 250, \"title\": {\"text\": \"Avg Service Hours by District\", \"subtitle\": \"Parallel Routes\"}, \"width\": 400, \"$schema\": \"https://vega.github.io/schema/vega-lite/v4.17.0.json\", \"datasets\": {\"data-e7f070f1d83a2c9e9be72d3748afbca8\": [{\"District\": 1.0, \"total_service_hours\": 662, \"unique_route\": 53, \"pct_total_service_hours\": 1.1, \"pct_unique_route\": 3.1, \"avg_service_hours\": 12.5}, {\"District\": 2.0, \"total_service_hours\": 474, \"unique_route\": 52, \"pct_total_service_hours\": 0.8, \"pct_unique_route\": 3.1, \"avg_service_hours\": 9.1}, {\"District\": 3.0, \"total_service_hours\": 2153, \"unique_route\": 124, \"pct_total_service_hours\": 3.6, \"pct_unique_route\": 7.4, \"avg_service_hours\": 17.4}, {\"District\": 4.0, \"total_service_hours\": 27451, \"unique_route\": 537, \"pct_total_service_hours\": 46.1, \"pct_unique_route\": 31.9, \"avg_service_hours\": 51.1}, {\"District\": 5.0, \"total_service_hours\": 1472, \"unique_route\": 98, \"pct_total_service_hours\": 2.5, \"pct_unique_route\": 5.8, \"avg_service_hours\": 15.0}, {\"District\": 6.0, \"total_service_hours\": 1343, \"unique_route\": 74, \"pct_total_service_hours\": 2.3, \"pct_unique_route\": 4.4, \"avg_service_hours\": 18.1}, {\"District\": 7.0, \"total_service_hours\": 11023, \"unique_route\": 397, \"pct_total_service_hours\": 18.5, \"pct_unique_route\": 23.6, \"avg_service_hours\": 27.8}, {\"District\": 8.0, \"total_service_hours\": 2193, \"unique_route\": 68, \"pct_total_service_hours\": 3.7, \"pct_unique_route\": 4.0, \"avg_service_hours\": 32.2}, {\"District\": 9.0, \"total_service_hours\": 182, \"unique_route\": 18, \"pct_total_service_hours\": 0.3, \"pct_unique_route\": 1.1, \"avg_service_hours\": 10.1}, {\"District\": 10.0, \"total_service_hours\": 1558, \"unique_route\": 91, \"pct_total_service_hours\": 2.6, \"pct_unique_route\": 5.4, \"avg_service_hours\": 17.1}, {\"District\": 11.0, \"total_service_hours\": 4793, \"unique_route\": 98, \"pct_total_service_hours\": 8.0, \"pct_unique_route\": 5.8, \"avg_service_hours\": 48.9}, {\"District\": 12.0, \"total_service_hours\": 6277, \"unique_route\": 74, \"pct_total_service_hours\": 10.5, \"pct_unique_route\": 4.4, \"avg_service_hours\": 84.8}]}}, {\"mode\": \"vega-lite\"});\n",
       "</script>"
      ],
      "text/plain": [
       "alt.LayerChart(...)"
      ]
     },
     "metadata": {},
     "output_type": "display_data"
    }
   ],
   "source": [
    "metrics = [\n",
    "    \"total_service_hours\", \n",
    "    \"avg_service_hours\"\n",
    "]\n",
    "\n",
    "for m in metrics:\n",
    "    make_bar(by_district, m)"
   ]
  },
  {
   "cell_type": "code",
   "execution_count": null,
   "id": "757b8e06-e076-450e-859f-4d3a32e98a18",
   "metadata": {},
   "outputs": [],
   "source": []
  }
 ],
 "metadata": {
  "kernelspec": {
   "display_name": "Python 3 (ipykernel)",
   "language": "python",
   "name": "python3"
  },
  "language_info": {
   "codemirror_mode": {
    "name": "ipython",
    "version": 3
   },
   "file_extension": ".py",
   "mimetype": "text/x-python",
   "name": "python",
   "nbconvert_exporter": "python",
   "pygments_lexer": "ipython3",
   "version": "3.10.4"
  }
 },
 "nbformat": 4,
 "nbformat_minor": 5
}
