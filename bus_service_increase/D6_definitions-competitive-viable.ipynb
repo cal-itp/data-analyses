{
 "cells": [
  {
   "cell_type": "markdown",
   "id": "27e89aee-ba56-4a82-8268-754ec013fecc",
   "metadata": {},
   "source": [
    "# Choose cut-offs for competitive or viable competitive\n",
    "\n",
    "* What threshold to use for `pct_trips_competitive` to count a route as competitive (based on `bus_multiplier` only)?"
   ]
  },
  {
   "cell_type": "code",
   "execution_count": 1,
   "id": "f931a75c-f2d5-4c29-8f3b-e6a0905d9afc",
   "metadata": {},
   "outputs": [
    {
     "name": "stderr",
     "output_type": "stream",
     "text": [
      "/opt/conda/lib/python3.10/site-packages/geopandas/_compat.py:112: UserWarning: The Shapely GEOS version (3.10.3-CAPI-1.16.1) is incompatible with the GEOS version PyGEOS was compiled with (3.10.1-CAPI-1.16.0). Conversions between both will be slow.\n",
      "  warnings.warn(\n"
     ]
    }
   ],
   "source": [
    "import geopandas as gpd\n",
    "import intake\n",
    "import pandas as pd\n",
    "\n",
    "import E2_aggregated_route_stats as aggregated_route_stats \n",
    "\n",
    "catalog = intake.open_catalog(\"./*.yml\")"
   ]
  },
  {
   "cell_type": "code",
   "execution_count": 2,
   "id": "abb003d7-6b53-4443-9a88-ca950ba6112a",
   "metadata": {},
   "outputs": [],
   "source": [
    "df = catalog.competitive_route_variability.read()"
   ]
  },
  {
   "cell_type": "code",
   "execution_count": 8,
   "id": "d91a411a-9bf5-43c5-b0cf-67e77288e186",
   "metadata": {},
   "outputs": [],
   "source": [
    "mean_speed_by_route = aggregated_route_stats.calculate_mean_speed_by_route(\n",
    "    [\"calitp_itp_id\", \"route_id\"])"
   ]
  },
  {
   "cell_type": "code",
   "execution_count": 11,
   "id": "2519d716-25aa-4701-ac7c-0326c16ff9c9",
   "metadata": {},
   "outputs": [],
   "source": [
    "m1 = pd.merge(\n",
    "    df, \n",
    "    mean_speed_by_route,\n",
    "    on = [\"calitp_itp_id\", \"route_id\"],\n",
    "    how = \"outer\",\n",
    "    validate = \"m:1\",\n",
    "    indicator=\"merge_speed\"\n",
    ")"
   ]
  },
  {
   "cell_type": "code",
   "execution_count": 12,
   "id": "ac27eaf3-43f2-4840-a941-72974fcabaa4",
   "metadata": {},
   "outputs": [
    {
     "data": {
      "text/plain": [
       "both          52006\n",
       "left_only     32250\n",
       "right_only      279\n",
       "Name: merge_speed, dtype: int64"
      ]
     },
     "execution_count": 12,
     "metadata": {},
     "output_type": "execute_result"
    }
   ],
   "source": [
    "m1.merge_speed.value_counts()"
   ]
  },
  {
   "cell_type": "code",
   "execution_count": 3,
   "id": "06eb0cbf-b490-4591-9700-45a1cd81b4b5",
   "metadata": {},
   "outputs": [],
   "source": [
    "route_cols = [\"calitp_itp_id\", \"route_id\", \"route_group\"]\n",
    "route_groups = df.route_group.unique().tolist()"
   ]
  },
  {
   "cell_type": "code",
   "execution_count": 5,
   "id": "656c349f-94fb-459b-83bd-b1ef2fc9fb82",
   "metadata": {},
   "outputs": [
    {
     "name": "stdout",
     "output_type": "stream",
     "text": [
      "Overall\n",
      "count    2152.000000\n",
      "mean        0.319165\n",
      "std         0.400511\n",
      "min         0.000000\n",
      "25%         0.000000\n",
      "50%         0.071000\n",
      "75%         0.664000\n",
      "max         1.000000\n",
      "Name: pct_trips_competitive, dtype: float64\n",
      "Route Group: short\n",
      "count    1452.000000\n",
      "mean        0.323390\n",
      "std         0.407897\n",
      "min         0.000000\n",
      "25%         0.000000\n",
      "50%         0.047500\n",
      "60%         0.243200\n",
      "70%         0.500000\n",
      "75%         0.695500\n",
      "80%         1.000000\n",
      "max         1.000000\n",
      "Name: pct_trips_competitive, dtype: float64\n",
      "Route Group: long\n",
      "count    272.000000\n",
      "mean       0.347555\n",
      "std        0.394540\n",
      "min        0.000000\n",
      "25%        0.000000\n",
      "50%        0.162500\n",
      "60%        0.313800\n",
      "70%        0.500000\n",
      "75%        0.702750\n",
      "80%        0.946000\n",
      "max        1.000000\n",
      "Name: pct_trips_competitive, dtype: float64\n",
      "Route Group: medium\n",
      "count    428.000000\n",
      "mean       0.286787\n",
      "std        0.377171\n",
      "min        0.000000\n",
      "25%        0.000000\n",
      "50%        0.074500\n",
      "60%        0.167000\n",
      "70%        0.380700\n",
      "75%        0.502500\n",
      "80%        0.706600\n",
      "max        1.000000\n",
      "Name: pct_trips_competitive, dtype: float64\n"
     ]
    }
   ],
   "source": [
    "print(\"Overall\")\n",
    "df2 = df[route_cols + [\"pct_trips_competitive\"]].drop_duplicates()\n",
    "print(df2.pct_trips_competitive.describe())\n",
    "\n",
    "for i in route_groups:\n",
    "    subset = df2[df2.route_group==i]\n",
    "    print(f\"Route Group: {i}\")\n",
    "    print(subset.pct_trips_competitive.describe(\n",
    "        percentiles = [0.25, 0.5, 0.6, 0.7, 0.75, 0.8]))"
   ]
  },
  {
   "cell_type": "markdown",
   "id": "d5d99240-bfa1-45f7-a8c2-63e51ae261a3",
   "metadata": {},
   "source": [
    "* For short routes, it's 70th percentile for `pct_trips_commpetitive = 0.5`\n",
    "* For medium routes, it's 75th percentile \n",
    "* For long routes, it's 70th percentile "
   ]
  },
  {
   "cell_type": "code",
   "execution_count": null,
   "id": "53913c76-c231-494b-a4a3-d278bf42b8ad",
   "metadata": {},
   "outputs": [],
   "source": []
  }
 ],
 "metadata": {
  "kernelspec": {
   "display_name": "Python 3 (ipykernel)",
   "language": "python",
   "name": "python3"
  },
  "language_info": {
   "codemirror_mode": {
    "name": "ipython",
    "version": 3
   },
   "file_extension": ".py",
   "mimetype": "text/x-python",
   "name": "python",
   "nbconvert_exporter": "python",
   "pygments_lexer": "ipython3",
   "version": "3.10.5"
  }
 },
 "nbformat": 4,
 "nbformat_minor": 5
}
