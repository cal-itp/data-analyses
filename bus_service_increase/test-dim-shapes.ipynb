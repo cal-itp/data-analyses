{
 "cells": [
  {
   "cell_type": "markdown",
   "id": "1e004623-b834-4f9c-9ca9-17d90ed95500",
   "metadata": {},
   "source": [
    "# New dim_shapes"
   ]
  },
  {
   "cell_type": "code",
   "execution_count": null,
   "id": "0c5b5092-eeed-4c46-99d2-26e78d3d6eaa",
   "metadata": {},
   "outputs": [
    {
     "name": "stderr",
     "output_type": "stream",
     "text": [
      "/opt/conda/lib/python3.9/site-packages/geopandas/_compat.py:111: UserWarning: The Shapely GEOS version (3.10.2-CAPI-1.16.0) is incompatible with the GEOS version PyGEOS was compiled with (3.10.1-CAPI-1.16.0). Conversions between both will be slow.\n",
      "  warnings.warn(\n"
     ]
    }
   ],
   "source": [
    "import datetime\n",
    "import geopandas as gpd\n",
    "import os\n",
    "import pandas as pd\n",
    "\n",
    "os.environ[\"CALITP_BQ_MAX_BYTES\"] = str(130_000_000_000)\n",
    "\n",
    "from calitp.tables import tbl\n",
    "from calitp import query_sql\n",
    "from siuba import *\n",
    "\n",
    "#import shared_utils"
   ]
  },
  {
   "cell_type": "markdown",
   "id": "d9adcd7b-b70d-418a-b1c8-00ad12fca6a0",
   "metadata": {},
   "source": [
    "## With string as date"
   ]
  },
  {
   "cell_type": "code",
   "execution_count": null,
   "id": "23a6f4a7-da3f-46ac-a8a7-335771320516",
   "metadata": {},
   "outputs": [
    {
     "name": "stdout",
     "output_type": "stream",
     "text": [
      "0:00:00.392964\n"
     ]
    },
    {
     "name": "stderr",
     "output_type": "stream",
     "text": [
      "/opt/conda/lib/python3.9/site-packages/pybigquery/sqlalchemy_bigquery.py:879: SAWarning: Did not recognize type 'GEOGRAPHY' of column 'pt_array'\n",
      "  util.warn(\n"
     ]
    }
   ],
   "source": [
    "SELECTED_DATE = \"2022-1-1\"\n",
    "\n",
    "start = datetime.datetime.now()\n",
    "\n",
    "df = (tbl.views.gtfs_schedule_dim_shapes()\n",
    "      >> filter(_.calitp_extracted_at <= SELECTED_DATE, \n",
    "                _.calitp_deleted_at > SELECTED_DATE\n",
    "               )\n",
    "      >> filter((_.calitp_itp_id==17) | (_.calitp_itp_id==4))\n",
    "      >> select(_.calitp_itp_id, _.calitp_url_number, _.shape_id)\n",
    "      >> inner_join(_, \n",
    "                    tbl.views.gtfs_schedule_dim_shapes_geo(),\n",
    "                    [\"calitp_itp_id\", \"calitp_url_number\", \"shape_id\"])\n",
    "      #>> show_query()\n",
    "     )\n",
    "end = datetime.datetime.now()\n",
    "print(end - start)"
   ]
  },
  {
   "cell_type": "code",
   "execution_count": null,
   "id": "fd038e06-c946-4e5b-88bc-a5d2a07d3290",
   "metadata": {},
   "outputs": [],
   "source": [
    "query = ('''\n",
    "SELECT `anon_1`.`calitp_itp_id`, `anon_1`.`calitp_url_number`, `anon_1`.`shape_id`, `anon_2`.`calitp_extracted_at`, `anon_2`.`pt_array`, `anon_2`.`calitp_deleted_at` \n",
    "FROM (SELECT `anon_3`.`calitp_itp_id` AS `calitp_itp_id`, `anon_3`.`calitp_url_number` AS `calitp_url_number`, `anon_3`.`shape_id` AS `shape_id` \n",
    "FROM (SELECT `anon_4`.`calitp_itp_id` AS `calitp_itp_id`, `anon_4`.`calitp_url_number` AS `calitp_url_number`, `anon_4`.`shape_id` AS `shape_id`, `anon_4`.`shape_pt_lat` AS `shape_pt_lat`, `anon_4`.`shape_pt_lon` AS `shape_pt_lon`, `anon_4`.`shape_pt_sequence` AS `shape_pt_sequence`, `anon_4`.`shape_dist_traveled` AS `shape_dist_traveled`, `anon_4`.`calitp_extracted_at` AS `calitp_extracted_at`, `anon_4`.`calitp_hash` AS `calitp_hash`, `anon_4`.`shape_key` AS `shape_key`, `anon_4`.`calitp_deleted_at` AS `calitp_deleted_at` \n",
    "FROM (SELECT `views.gtfs_schedule_dim_shapes`.`calitp_itp_id` AS `calitp_itp_id`, `views.gtfs_schedule_dim_shapes`.`calitp_url_number` AS `calitp_url_number`, `views.gtfs_schedule_dim_shapes`.`shape_id` AS `shape_id`, `views.gtfs_schedule_dim_shapes`.`shape_pt_lat` AS `shape_pt_lat`, `views.gtfs_schedule_dim_shapes`.`shape_pt_lon` AS `shape_pt_lon`, `views.gtfs_schedule_dim_shapes`.`shape_pt_sequence` AS `shape_pt_sequence`, `views.gtfs_schedule_dim_shapes`.`shape_dist_traveled` AS `shape_dist_traveled`, `views.gtfs_schedule_dim_shapes`.`calitp_extracted_at` AS `calitp_extracted_at`, `views.gtfs_schedule_dim_shapes`.`calitp_hash` AS `calitp_hash`, `views.gtfs_schedule_dim_shapes`.`shape_key` AS `shape_key`, `views.gtfs_schedule_dim_shapes`.`calitp_deleted_at` AS `calitp_deleted_at` \n",
    "FROM `views.gtfs_schedule_dim_shapes`) AS `anon_4` \n",
    "WHERE `anon_4`.`calitp_extracted_at` <= '2022-1-1' AND `anon_4`.`calitp_deleted_at` > '2022-1-1') AS `anon_3` \n",
    "WHERE `anon_3`.`calitp_itp_id` IN (4, 17) AS `anon_1` JOIN (SELECT `views.gtfs_schedule_dim_shapes_geo`.`calitp_itp_id` AS `calitp_itp_id`, `views.gtfs_schedule_dim_shapes_geo`.`calitp_url_number` AS `calitp_url_number`, `views.gtfs_schedule_dim_shapes_geo`.`shape_id` AS `shape_id`, `views.gtfs_schedule_dim_shapes_geo`.`calitp_extracted_at` AS `calitp_extracted_at`, `views.gtfs_schedule_dim_shapes_geo`.`calitp_deleted_at` AS `calitp_deleted_at`, `views.gtfs_schedule_dim_shapes_geo`.`pt_array` AS `pt_array` \n",
    "FROM `views.gtfs_schedule_dim_shapes_geo`) AS `anon_2` ON `anon_1`.`calitp_itp_id` = `anon_2`.`calitp_itp_id` AND `anon_1`.`calitp_url_number` = `anon_2`.`calitp_url_number` AND `anon_1`.`shape_id` = `anon_2`.`shape_id`\n",
    "'''\n",
    ")"
   ]
  },
  {
   "cell_type": "code",
   "execution_count": null,
   "id": "c1d3c6e6-a7e0-4d38-a8b2-4824bcdff5b6",
   "metadata": {},
   "outputs": [],
   "source": [
    "\"\"\"\n",
    "INCLUDE_ITP_LIST = [17, 4]\n",
    "\n",
    "def unpack_list_make_or_statement(INCLUDE_ITP_LIST):\n",
    "    new_cond = \"\"\n",
    "\n",
    "    for i in range(0, len(INCLUDE_ITP_LIST)):\n",
    "        cond = f\"`anon_3`.`calitp_itp_id` = {INCLUDE_ITP_LIST[i]}\"\n",
    "        if i==0:\n",
    "            new_cond = cond\n",
    "        else:\n",
    "            new_cond = new_cond + \" OR \" + cond\n",
    "    return new_cond\n",
    "\n",
    "\n",
    "or_condition = unpack_list_make_or_statement(INCLUDE_ITP_LIST)\n",
    "\n",
    "query = (\n",
    "    f'''\n",
    "SELECT \n",
    "  `anon_1`.`calitp_itp_id`, \n",
    "  `anon_1`.`calitp_url_number`, \n",
    "  `anon_1`.`shape_id`, \n",
    "  `anon_2`.`calitp_deleted_at`, \n",
    "  `anon_2`.`pt_array`, \n",
    "  `anon_2`.`calitp_extracted_at` \n",
    "FROM \n",
    "  (\n",
    "    SELECT \n",
    "      `anon_3`.`calitp_itp_id` AS `calitp_itp_id`, \n",
    "      `anon_3`.`calitp_url_number` AS `calitp_url_number`, \n",
    "      `anon_3`.`shape_id` AS `shape_id` \n",
    "    FROM \n",
    "      (\n",
    "        SELECT \n",
    "          `anon_4`.`calitp_itp_id` AS `calitp_itp_id`, \n",
    "          `anon_4`.`calitp_url_number` AS `calitp_url_number`, \n",
    "          `anon_4`.`shape_id` AS `shape_id`, \n",
    "          `anon_4`.`shape_pt_lat` AS `shape_pt_lat`, \n",
    "          `anon_4`.`shape_pt_lon` AS `shape_pt_lon`, \n",
    "          `anon_4`.`shape_pt_sequence` AS `shape_pt_sequence`, \n",
    "          `anon_4`.`shape_dist_traveled` AS `shape_dist_traveled`, \n",
    "          `anon_4`.`calitp_extracted_at` AS `calitp_extracted_at`, \n",
    "          `anon_4`.`calitp_hash` AS `calitp_hash`, \n",
    "          `anon_4`.`shape_key` AS `shape_key`, \n",
    "          `anon_4`.`calitp_deleted_at` AS `calitp_deleted_at` \n",
    "        FROM \n",
    "          (\n",
    "            SELECT \n",
    "              `views.gtfs_schedule_dim_shapes`.`calitp_itp_id` AS `calitp_itp_id`, \n",
    "              `views.gtfs_schedule_dim_shapes`.`calitp_url_number` AS `calitp_url_number`, \n",
    "              `views.gtfs_schedule_dim_shapes`.`shape_id` AS `shape_id`, \n",
    "              `views.gtfs_schedule_dim_shapes`.`shape_pt_lat` AS `shape_pt_lat`, \n",
    "              `views.gtfs_schedule_dim_shapes`.`shape_pt_lon` AS `shape_pt_lon`, \n",
    "              `views.gtfs_schedule_dim_shapes`.`shape_pt_sequence` AS `shape_pt_sequence`, \n",
    "              `views.gtfs_schedule_dim_shapes`.`shape_dist_traveled` AS `shape_dist_traveled`, \n",
    "              `views.gtfs_schedule_dim_shapes`.`calitp_extracted_at` AS `calitp_extracted_at`, \n",
    "              `views.gtfs_schedule_dim_shapes`.`calitp_hash` AS `calitp_hash`, \n",
    "              `views.gtfs_schedule_dim_shapes`.`shape_key` AS `shape_key`, \n",
    "              `views.gtfs_schedule_dim_shapes`.`calitp_deleted_at` AS `calitp_deleted_at` \n",
    "            FROM \n",
    "              `views.gtfs_schedule_dim_shapes`\n",
    "          ) AS `anon_4` \n",
    "        WHERE \n",
    "          `anon_4`.`calitp_extracted_at` <= '2022-1-1' \n",
    "          AND `anon_4`.`calitp_deleted_at` > '2022-1-1'\n",
    "      ) AS `anon_3` \n",
    "    WHERE \n",
    "    {or_condition}\n",
    "  ) AS `anon_1` \n",
    "  JOIN (\n",
    "    SELECT \n",
    "      `views.gtfs_schedule_dim_shapes_geo`.`calitp_itp_id` AS `calitp_itp_id`, \n",
    "      `views.gtfs_schedule_dim_shapes_geo`.`calitp_url_number` AS `calitp_url_number`, \n",
    "      `views.gtfs_schedule_dim_shapes_geo`.`shape_id` AS `shape_id`, \n",
    "      `views.gtfs_schedule_dim_shapes_geo`.`calitp_extracted_at` AS `calitp_extracted_at`, \n",
    "      `views.gtfs_schedule_dim_shapes_geo`.`calitp_deleted_at` AS `calitp_deleted_at`, \n",
    "      `views.gtfs_schedule_dim_shapes_geo`.`pt_array` AS `pt_array` \n",
    "    FROM \n",
    "      `views.gtfs_schedule_dim_shapes_geo`\n",
    "  ) AS `anon_2` ON `anon_1`.`calitp_itp_id` = `anon_2`.`calitp_itp_id` \n",
    "  AND `anon_1`.`calitp_url_number` = `anon_2`.`calitp_url_number` \n",
    "  AND `anon_1`.`shape_id` = `anon_2`.`shape_id`\n",
    "'''\n",
    ")\n",
    "\"\"\""
   ]
  },
  {
   "cell_type": "code",
   "execution_count": 4,
   "id": "94999ae1-ed63-48f6-ad25-21e12c7d55d1",
   "metadata": {},
   "outputs": [],
   "source": [
    "def unpack_list_make_or_statement(INCLUDE_ITP_LIST):\n",
    "    new_cond = \"\"\n",
    "\n",
    "    for i in range(0, len(INCLUDE_ITP_LIST)):\n",
    "        cond = f\"calitp_itp_id = {INCLUDE_ITP_LIST[i]}\"\n",
    "        if i==0:\n",
    "            new_cond = \"(\" + cond\n",
    "        elif (i > 0) and (i != len(INCLUDE_ITP_LIST)-1):\n",
    "            new_cond = new_cond + \" OR \" + cond\n",
    "        elif i == len(INCLUDE_ITP_LIST) - 1:\n",
    "            new_cond = new_cond + \" OR \" + cond + \")\"\n",
    "    return new_cond"
   ]
  },
  {
   "cell_type": "code",
   "execution_count": 5,
   "id": "0336d74f-0996-4ed2-9af7-e28b188e4133",
   "metadata": {},
   "outputs": [
    {
     "data": {
      "text/plain": [
       "'(calitp_itp_id = 17 OR calitp_itp_id = 4 OR calitp_itp_id = 100)'"
      ]
     },
     "execution_count": 5,
     "metadata": {},
     "output_type": "execute_result"
    }
   ],
   "source": [
    "INCLUDE_ME = [17, 4, 100]\n",
    "itp_id_or_statement = unpack_list_make_or_statement(INCLUDE_ME)\n",
    "itp_id_or_statement"
   ]
  },
  {
   "cell_type": "code",
   "execution_count": 6,
   "id": "7d4ba943-0e5f-415b-ad07-fa170dddcfad",
   "metadata": {},
   "outputs": [],
   "source": [
    "SELECTED_DATE = '2022-1-1'\n",
    "date_condition = f'(calitp_extracted_at <= {SELECTED_DATE} AND calitp_deleted_at > {SELECTED_DATE})'"
   ]
  },
  {
   "cell_type": "code",
   "execution_count": 7,
   "id": "59e9de2c-a3ce-4015-96ce-e52e81c12e59",
   "metadata": {},
   "outputs": [
    {
     "data": {
      "text/plain": [
       "'(calitp_itp_id = 17 OR calitp_itp_id = 4 OR calitp_itp_id = 100) AND (calitp_extracted_at <= 2022-1-1 AND calitp_deleted_at > 2022-1-1)'"
      ]
     },
     "execution_count": 7,
     "metadata": {},
     "output_type": "execute_result"
    }
   ],
   "source": [
    "condition = itp_id_or_statement + \" AND \" + date_condition\n",
    "condition"
   ]
  },
  {
   "cell_type": "code",
   "execution_count": 8,
   "id": "9a9ee5dd-ab83-4744-ae35-250d79b933fb",
   "metadata": {},
   "outputs": [],
   "source": [
    "sql_statement = (\n",
    "f'''\n",
    "SELECT\n",
    "    calitp_itp_id,               \n",
    "    calitp_url_number,\n",
    "    shape_id,\n",
    "    pt_array\n",
    "\n",
    "FROM `views.gtfs_schedule_dim_shapes`\n",
    "\n",
    "INNER JOIN `views.gtfs_schedule_dim_shapes_geo` \n",
    "    USING (calitp_itp_id, calitp_url_number, shape_id)\n",
    "\n",
    "WHERE {condition}\n",
    "LIMIT 10\n",
    "'''\n",
    ")"
   ]
  },
  {
   "cell_type": "code",
   "execution_count": 9,
   "id": "61bc522d-7be5-4e41-bece-0b6f6623a0c8",
   "metadata": {},
   "outputs": [
    {
     "ename": "DatabaseError",
     "evalue": "(google.cloud.bigquery.dbapi.exceptions.DatabaseError) 400 Column name calitp_extracted_at is ambiguous at [13:77]\n\nLocation: us-west2\nJob ID: e1befb49-0cf9-4662-ab73-1f35557c139b\n\n[SQL: \nSELECT\n    calitp_itp_id,               \n    calitp_url_number,\n    shape_id,\n    pt_array\n\nFROM `views.gtfs_schedule_dim_shapes`\n\nINNER JOIN `views.gtfs_schedule_dim_shapes_geo` \n    USING (calitp_itp_id, calitp_url_number, shape_id)\n\nWHERE (calitp_itp_id = 17 OR calitp_itp_id = 4 OR calitp_itp_id = 100) AND (calitp_extracted_at <= 2022-1-1 AND calitp_deleted_at > 2022-1-1)\nLIMIT 10]\n(Background on this error at: https://sqlalche.me/e/14/4xp6)",
     "output_type": "error",
     "traceback": [
      "\u001b[0;31m---------------------------------------------------------------------------\u001b[0m",
      "\u001b[0;31mBadRequest\u001b[0m                                Traceback (most recent call last)",
      "File \u001b[0;32m/opt/conda/lib/python3.9/site-packages/google/cloud/bigquery/dbapi/cursor.py:203\u001b[0m, in \u001b[0;36mCursor._execute\u001b[0;34m(self, formatted_operation, parameters, job_id, job_config, parameter_types)\u001b[0m\n\u001b[1;32m    202\u001b[0m \u001b[38;5;28;01mtry\u001b[39;00m:\n\u001b[0;32m--> 203\u001b[0m     \u001b[38;5;28;43mself\u001b[39;49m\u001b[38;5;241;43m.\u001b[39;49m\u001b[43m_query_job\u001b[49m\u001b[38;5;241;43m.\u001b[39;49m\u001b[43mresult\u001b[49m\u001b[43m(\u001b[49m\u001b[43m)\u001b[49m\n\u001b[1;32m    204\u001b[0m \u001b[38;5;28;01mexcept\u001b[39;00m google\u001b[38;5;241m.\u001b[39mcloud\u001b[38;5;241m.\u001b[39mexceptions\u001b[38;5;241m.\u001b[39mGoogleCloudError \u001b[38;5;28;01mas\u001b[39;00m exc:\n",
      "File \u001b[0;32m/opt/conda/lib/python3.9/site-packages/google/cloud/bigquery/job/query.py:1498\u001b[0m, in \u001b[0;36mQueryJob.result\u001b[0;34m(self, page_size, max_results, retry, timeout, start_index, job_retry)\u001b[0m\n\u001b[1;32m   1496\u001b[0m         do_get_result \u001b[38;5;241m=\u001b[39m job_retry(do_get_result)\n\u001b[0;32m-> 1498\u001b[0m     \u001b[43mdo_get_result\u001b[49m\u001b[43m(\u001b[49m\u001b[43m)\u001b[49m\n\u001b[1;32m   1500\u001b[0m \u001b[38;5;28;01mexcept\u001b[39;00m exceptions\u001b[38;5;241m.\u001b[39mGoogleAPICallError \u001b[38;5;28;01mas\u001b[39;00m exc:\n",
      "File \u001b[0;32m/opt/conda/lib/python3.9/site-packages/google/api_core/retry.py:283\u001b[0m, in \u001b[0;36mRetry.__call__.<locals>.retry_wrapped_func\u001b[0;34m(*args, **kwargs)\u001b[0m\n\u001b[1;32m    280\u001b[0m sleep_generator \u001b[38;5;241m=\u001b[39m exponential_sleep_generator(\n\u001b[1;32m    281\u001b[0m     \u001b[38;5;28mself\u001b[39m\u001b[38;5;241m.\u001b[39m_initial, \u001b[38;5;28mself\u001b[39m\u001b[38;5;241m.\u001b[39m_maximum, multiplier\u001b[38;5;241m=\u001b[39m\u001b[38;5;28mself\u001b[39m\u001b[38;5;241m.\u001b[39m_multiplier\n\u001b[1;32m    282\u001b[0m )\n\u001b[0;32m--> 283\u001b[0m \u001b[38;5;28;01mreturn\u001b[39;00m \u001b[43mretry_target\u001b[49m\u001b[43m(\u001b[49m\n\u001b[1;32m    284\u001b[0m \u001b[43m    \u001b[49m\u001b[43mtarget\u001b[49m\u001b[43m,\u001b[49m\n\u001b[1;32m    285\u001b[0m \u001b[43m    \u001b[49m\u001b[38;5;28;43mself\u001b[39;49m\u001b[38;5;241;43m.\u001b[39;49m\u001b[43m_predicate\u001b[49m\u001b[43m,\u001b[49m\n\u001b[1;32m    286\u001b[0m \u001b[43m    \u001b[49m\u001b[43msleep_generator\u001b[49m\u001b[43m,\u001b[49m\n\u001b[1;32m    287\u001b[0m \u001b[43m    \u001b[49m\u001b[38;5;28;43mself\u001b[39;49m\u001b[38;5;241;43m.\u001b[39;49m\u001b[43m_deadline\u001b[49m\u001b[43m,\u001b[49m\n\u001b[1;32m    288\u001b[0m \u001b[43m    \u001b[49m\u001b[43mon_error\u001b[49m\u001b[38;5;241;43m=\u001b[39;49m\u001b[43mon_error\u001b[49m\u001b[43m,\u001b[49m\n\u001b[1;32m    289\u001b[0m \u001b[43m\u001b[49m\u001b[43m)\u001b[49m\n",
      "File \u001b[0;32m/opt/conda/lib/python3.9/site-packages/google/api_core/retry.py:190\u001b[0m, in \u001b[0;36mretry_target\u001b[0;34m(target, predicate, sleep_generator, deadline, on_error)\u001b[0m\n\u001b[1;32m    189\u001b[0m \u001b[38;5;28;01mtry\u001b[39;00m:\n\u001b[0;32m--> 190\u001b[0m     \u001b[38;5;28;01mreturn\u001b[39;00m \u001b[43mtarget\u001b[49m\u001b[43m(\u001b[49m\u001b[43m)\u001b[49m\n\u001b[1;32m    192\u001b[0m \u001b[38;5;66;03m# pylint: disable=broad-except\u001b[39;00m\n\u001b[1;32m    193\u001b[0m \u001b[38;5;66;03m# This function explicitly must deal with broad exceptions.\u001b[39;00m\n",
      "File \u001b[0;32m/opt/conda/lib/python3.9/site-packages/google/cloud/bigquery/job/query.py:1488\u001b[0m, in \u001b[0;36mQueryJob.result.<locals>.do_get_result\u001b[0;34m()\u001b[0m\n\u001b[1;32m   1486\u001b[0m     \u001b[38;5;28mself\u001b[39m\u001b[38;5;241m.\u001b[39m_job_retry \u001b[38;5;241m=\u001b[39m job_retry\n\u001b[0;32m-> 1488\u001b[0m \u001b[38;5;28;43msuper\u001b[39;49m\u001b[43m(\u001b[49m\u001b[43mQueryJob\u001b[49m\u001b[43m,\u001b[49m\u001b[43m \u001b[49m\u001b[38;5;28;43mself\u001b[39;49m\u001b[43m)\u001b[49m\u001b[38;5;241;43m.\u001b[39;49m\u001b[43mresult\u001b[49m\u001b[43m(\u001b[49m\u001b[43mretry\u001b[49m\u001b[38;5;241;43m=\u001b[39;49m\u001b[43mretry\u001b[49m\u001b[43m,\u001b[49m\u001b[43m \u001b[49m\u001b[43mtimeout\u001b[49m\u001b[38;5;241;43m=\u001b[39;49m\u001b[43mtimeout\u001b[49m\u001b[43m)\u001b[49m\n\u001b[1;32m   1490\u001b[0m \u001b[38;5;66;03m# Since the job could already be \"done\" (e.g. got a finished job\u001b[39;00m\n\u001b[1;32m   1491\u001b[0m \u001b[38;5;66;03m# via client.get_job), the superclass call to done() might not\u001b[39;00m\n\u001b[1;32m   1492\u001b[0m \u001b[38;5;66;03m# set the self._query_results cache.\u001b[39;00m\n",
      "File \u001b[0;32m/opt/conda/lib/python3.9/site-packages/google/cloud/bigquery/job/base.py:728\u001b[0m, in \u001b[0;36m_AsyncJob.result\u001b[0;34m(self, retry, timeout)\u001b[0m\n\u001b[1;32m    727\u001b[0m kwargs \u001b[38;5;241m=\u001b[39m {} \u001b[38;5;28;01mif\u001b[39;00m retry \u001b[38;5;129;01mis\u001b[39;00m DEFAULT_RETRY \u001b[38;5;28;01melse\u001b[39;00m {\u001b[38;5;124m\"\u001b[39m\u001b[38;5;124mretry\u001b[39m\u001b[38;5;124m\"\u001b[39m: retry}\n\u001b[0;32m--> 728\u001b[0m \u001b[38;5;28;01mreturn\u001b[39;00m \u001b[38;5;28;43msuper\u001b[39;49m\u001b[43m(\u001b[49m\u001b[43m_AsyncJob\u001b[49m\u001b[43m,\u001b[49m\u001b[43m \u001b[49m\u001b[38;5;28;43mself\u001b[39;49m\u001b[43m)\u001b[49m\u001b[38;5;241;43m.\u001b[39;49m\u001b[43mresult\u001b[49m\u001b[43m(\u001b[49m\u001b[43mtimeout\u001b[49m\u001b[38;5;241;43m=\u001b[39;49m\u001b[43mtimeout\u001b[49m\u001b[43m,\u001b[49m\u001b[43m \u001b[49m\u001b[38;5;241;43m*\u001b[39;49m\u001b[38;5;241;43m*\u001b[39;49m\u001b[43mkwargs\u001b[49m\u001b[43m)\u001b[49m\n",
      "File \u001b[0;32m/opt/conda/lib/python3.9/site-packages/google/api_core/future/polling.py:137\u001b[0m, in \u001b[0;36mPollingFuture.result\u001b[0;34m(self, timeout, retry)\u001b[0m\n\u001b[1;32m    134\u001b[0m \u001b[38;5;28;01mif\u001b[39;00m \u001b[38;5;28mself\u001b[39m\u001b[38;5;241m.\u001b[39m_exception \u001b[38;5;129;01mis\u001b[39;00m \u001b[38;5;129;01mnot\u001b[39;00m \u001b[38;5;28;01mNone\u001b[39;00m:\n\u001b[1;32m    135\u001b[0m     \u001b[38;5;66;03m# pylint: disable=raising-bad-type\u001b[39;00m\n\u001b[1;32m    136\u001b[0m     \u001b[38;5;66;03m# Pylint doesn't recognize that this is valid in this case.\u001b[39;00m\n\u001b[0;32m--> 137\u001b[0m     \u001b[38;5;28;01mraise\u001b[39;00m \u001b[38;5;28mself\u001b[39m\u001b[38;5;241m.\u001b[39m_exception\n\u001b[1;32m    139\u001b[0m \u001b[38;5;28;01mreturn\u001b[39;00m \u001b[38;5;28mself\u001b[39m\u001b[38;5;241m.\u001b[39m_result\n",
      "\u001b[0;31mBadRequest\u001b[0m: 400 Column name calitp_extracted_at is ambiguous at [13:77]\n\nLocation: us-west2\nJob ID: e1befb49-0cf9-4662-ab73-1f35557c139b\n",
      "\nDuring handling of the above exception, another exception occurred:\n",
      "\u001b[0;31mDatabaseError\u001b[0m                             Traceback (most recent call last)",
      "File \u001b[0;32m/opt/conda/lib/python3.9/site-packages/sqlalchemy/engine/base.py:1808\u001b[0m, in \u001b[0;36mConnection._execute_context\u001b[0;34m(self, dialect, constructor, statement, parameters, execution_options, *args, **kw)\u001b[0m\n\u001b[1;32m   1807\u001b[0m     \u001b[38;5;28;01mif\u001b[39;00m \u001b[38;5;129;01mnot\u001b[39;00m evt_handled:\n\u001b[0;32m-> 1808\u001b[0m         \u001b[38;5;28;43mself\u001b[39;49m\u001b[38;5;241;43m.\u001b[39;49m\u001b[43mdialect\u001b[49m\u001b[38;5;241;43m.\u001b[39;49m\u001b[43mdo_execute\u001b[49m\u001b[43m(\u001b[49m\n\u001b[1;32m   1809\u001b[0m \u001b[43m            \u001b[49m\u001b[43mcursor\u001b[49m\u001b[43m,\u001b[49m\u001b[43m \u001b[49m\u001b[43mstatement\u001b[49m\u001b[43m,\u001b[49m\u001b[43m \u001b[49m\u001b[43mparameters\u001b[49m\u001b[43m,\u001b[49m\u001b[43m \u001b[49m\u001b[43mcontext\u001b[49m\n\u001b[1;32m   1810\u001b[0m \u001b[43m        \u001b[49m\u001b[43m)\u001b[49m\n\u001b[1;32m   1812\u001b[0m \u001b[38;5;28;01mif\u001b[39;00m \u001b[38;5;28mself\u001b[39m\u001b[38;5;241m.\u001b[39m_has_events \u001b[38;5;129;01mor\u001b[39;00m \u001b[38;5;28mself\u001b[39m\u001b[38;5;241m.\u001b[39mengine\u001b[38;5;241m.\u001b[39m_has_events:\n",
      "File \u001b[0;32m/opt/conda/lib/python3.9/site-packages/sqlalchemy/engine/default.py:732\u001b[0m, in \u001b[0;36mDefaultDialect.do_execute\u001b[0;34m(self, cursor, statement, parameters, context)\u001b[0m\n\u001b[1;32m    731\u001b[0m \u001b[38;5;28;01mdef\u001b[39;00m \u001b[38;5;21mdo_execute\u001b[39m(\u001b[38;5;28mself\u001b[39m, cursor, statement, parameters, context\u001b[38;5;241m=\u001b[39m\u001b[38;5;28;01mNone\u001b[39;00m):\n\u001b[0;32m--> 732\u001b[0m     \u001b[43mcursor\u001b[49m\u001b[38;5;241;43m.\u001b[39;49m\u001b[43mexecute\u001b[49m\u001b[43m(\u001b[49m\u001b[43mstatement\u001b[49m\u001b[43m,\u001b[49m\u001b[43m \u001b[49m\u001b[43mparameters\u001b[49m\u001b[43m)\u001b[49m\n",
      "File \u001b[0;32m/opt/conda/lib/python3.9/site-packages/google/cloud/bigquery/dbapi/_helpers.py:495\u001b[0m, in \u001b[0;36mraise_on_closed.<locals>._raise_on_closed.<locals>.with_closed_check\u001b[0;34m(self, *args, **kwargs)\u001b[0m\n\u001b[1;32m    494\u001b[0m     \u001b[38;5;28;01mraise\u001b[39;00m exc_class(exc_msg)\n\u001b[0;32m--> 495\u001b[0m \u001b[38;5;28;01mreturn\u001b[39;00m \u001b[43mmethod\u001b[49m\u001b[43m(\u001b[49m\u001b[38;5;28;43mself\u001b[39;49m\u001b[43m,\u001b[49m\u001b[43m \u001b[49m\u001b[38;5;241;43m*\u001b[39;49m\u001b[43margs\u001b[49m\u001b[43m,\u001b[49m\u001b[43m \u001b[49m\u001b[38;5;241;43m*\u001b[39;49m\u001b[38;5;241;43m*\u001b[39;49m\u001b[43mkwargs\u001b[49m\u001b[43m)\u001b[49m\n",
      "File \u001b[0;32m/opt/conda/lib/python3.9/site-packages/google/cloud/bigquery/dbapi/cursor.py:166\u001b[0m, in \u001b[0;36mCursor.execute\u001b[0;34m(self, operation, parameters, job_id, job_config)\u001b[0m\n\u001b[1;32m    165\u001b[0m formatted_operation, parameter_types \u001b[38;5;241m=\u001b[39m _format_operation(operation, parameters)\n\u001b[0;32m--> 166\u001b[0m \u001b[38;5;28;43mself\u001b[39;49m\u001b[38;5;241;43m.\u001b[39;49m\u001b[43m_execute\u001b[49m\u001b[43m(\u001b[49m\n\u001b[1;32m    167\u001b[0m \u001b[43m    \u001b[49m\u001b[43mformatted_operation\u001b[49m\u001b[43m,\u001b[49m\u001b[43m \u001b[49m\u001b[43mparameters\u001b[49m\u001b[43m,\u001b[49m\u001b[43m \u001b[49m\u001b[43mjob_id\u001b[49m\u001b[43m,\u001b[49m\u001b[43m \u001b[49m\u001b[43mjob_config\u001b[49m\u001b[43m,\u001b[49m\u001b[43m \u001b[49m\u001b[43mparameter_types\u001b[49m\n\u001b[1;32m    168\u001b[0m \u001b[43m\u001b[49m\u001b[43m)\u001b[49m\n",
      "File \u001b[0;32m/opt/conda/lib/python3.9/site-packages/google/cloud/bigquery/dbapi/cursor.py:205\u001b[0m, in \u001b[0;36mCursor._execute\u001b[0;34m(self, formatted_operation, parameters, job_id, job_config, parameter_types)\u001b[0m\n\u001b[1;32m    204\u001b[0m \u001b[38;5;28;01mexcept\u001b[39;00m google\u001b[38;5;241m.\u001b[39mcloud\u001b[38;5;241m.\u001b[39mexceptions\u001b[38;5;241m.\u001b[39mGoogleCloudError \u001b[38;5;28;01mas\u001b[39;00m exc:\n\u001b[0;32m--> 205\u001b[0m     \u001b[38;5;28;01mraise\u001b[39;00m exceptions\u001b[38;5;241m.\u001b[39mDatabaseError(exc)\n\u001b[1;32m    207\u001b[0m query_results \u001b[38;5;241m=\u001b[39m \u001b[38;5;28mself\u001b[39m\u001b[38;5;241m.\u001b[39m_query_job\u001b[38;5;241m.\u001b[39m_query_results\n",
      "\u001b[0;31mDatabaseError\u001b[0m: 400 Column name calitp_extracted_at is ambiguous at [13:77]\n\nLocation: us-west2\nJob ID: e1befb49-0cf9-4662-ab73-1f35557c139b\n",
      "\nThe above exception was the direct cause of the following exception:\n",
      "\u001b[0;31mDatabaseError\u001b[0m                             Traceback (most recent call last)",
      "Input \u001b[0;32mIn [9]\u001b[0m, in \u001b[0;36m<cell line: 1>\u001b[0;34m()\u001b[0m\n\u001b[0;32m----> 1\u001b[0m \u001b[43mquery_sql\u001b[49m\u001b[43m(\u001b[49m\u001b[43msql_statement\u001b[49m\u001b[43m)\u001b[49m\n",
      "File \u001b[0;32m/opt/conda/lib/python3.9/site-packages/calitp/sql.py:148\u001b[0m, in \u001b[0;36mquery_sql\u001b[0;34m(fname, write_as, replace, dry_run, as_df)\u001b[0m\n\u001b[1;32m    145\u001b[0m engine \u001b[38;5;241m=\u001b[39m get_engine()\n\u001b[1;32m    147\u001b[0m \u001b[38;5;28;01mif\u001b[39;00m as_df:\n\u001b[0;32m--> 148\u001b[0m     \u001b[38;5;28;01mreturn\u001b[39;00m \u001b[43mpd\u001b[49m\u001b[38;5;241;43m.\u001b[39;49m\u001b[43mread_sql_query\u001b[49m\u001b[43m(\u001b[49m\u001b[43msql_code\u001b[49m\u001b[43m,\u001b[49m\u001b[43m \u001b[49m\u001b[43mengine\u001b[49m\u001b[43m)\u001b[49m\n\u001b[1;32m    150\u001b[0m \u001b[38;5;28;01mreturn\u001b[39;00m engine\u001b[38;5;241m.\u001b[39mexecute(sql_code)\n",
      "File \u001b[0;32m/opt/conda/lib/python3.9/site-packages/pandas/io/sql.py:399\u001b[0m, in \u001b[0;36mread_sql_query\u001b[0;34m(sql, con, index_col, coerce_float, params, parse_dates, chunksize, dtype)\u001b[0m\n\u001b[1;32m    341\u001b[0m \u001b[38;5;124;03m\"\"\"\u001b[39;00m\n\u001b[1;32m    342\u001b[0m \u001b[38;5;124;03mRead SQL query into a DataFrame.\u001b[39;00m\n\u001b[1;32m    343\u001b[0m \n\u001b[0;32m   (...)\u001b[0m\n\u001b[1;32m    396\u001b[0m \u001b[38;5;124;03mparameter will be converted to UTC.\u001b[39;00m\n\u001b[1;32m    397\u001b[0m \u001b[38;5;124;03m\"\"\"\u001b[39;00m\n\u001b[1;32m    398\u001b[0m pandas_sql \u001b[38;5;241m=\u001b[39m pandasSQL_builder(con)\n\u001b[0;32m--> 399\u001b[0m \u001b[38;5;28;01mreturn\u001b[39;00m \u001b[43mpandas_sql\u001b[49m\u001b[38;5;241;43m.\u001b[39;49m\u001b[43mread_query\u001b[49m\u001b[43m(\u001b[49m\n\u001b[1;32m    400\u001b[0m \u001b[43m    \u001b[49m\u001b[43msql\u001b[49m\u001b[43m,\u001b[49m\n\u001b[1;32m    401\u001b[0m \u001b[43m    \u001b[49m\u001b[43mindex_col\u001b[49m\u001b[38;5;241;43m=\u001b[39;49m\u001b[43mindex_col\u001b[49m\u001b[43m,\u001b[49m\n\u001b[1;32m    402\u001b[0m \u001b[43m    \u001b[49m\u001b[43mparams\u001b[49m\u001b[38;5;241;43m=\u001b[39;49m\u001b[43mparams\u001b[49m\u001b[43m,\u001b[49m\n\u001b[1;32m    403\u001b[0m \u001b[43m    \u001b[49m\u001b[43mcoerce_float\u001b[49m\u001b[38;5;241;43m=\u001b[39;49m\u001b[43mcoerce_float\u001b[49m\u001b[43m,\u001b[49m\n\u001b[1;32m    404\u001b[0m \u001b[43m    \u001b[49m\u001b[43mparse_dates\u001b[49m\u001b[38;5;241;43m=\u001b[39;49m\u001b[43mparse_dates\u001b[49m\u001b[43m,\u001b[49m\n\u001b[1;32m    405\u001b[0m \u001b[43m    \u001b[49m\u001b[43mchunksize\u001b[49m\u001b[38;5;241;43m=\u001b[39;49m\u001b[43mchunksize\u001b[49m\u001b[43m,\u001b[49m\n\u001b[1;32m    406\u001b[0m \u001b[43m    \u001b[49m\u001b[43mdtype\u001b[49m\u001b[38;5;241;43m=\u001b[39;49m\u001b[43mdtype\u001b[49m\u001b[43m,\u001b[49m\n\u001b[1;32m    407\u001b[0m \u001b[43m\u001b[49m\u001b[43m)\u001b[49m\n",
      "File \u001b[0;32m/opt/conda/lib/python3.9/site-packages/pandas/io/sql.py:1557\u001b[0m, in \u001b[0;36mSQLDatabase.read_query\u001b[0;34m(self, sql, index_col, coerce_float, parse_dates, params, chunksize, dtype)\u001b[0m\n\u001b[1;32m   1509\u001b[0m \u001b[38;5;124;03m\"\"\"\u001b[39;00m\n\u001b[1;32m   1510\u001b[0m \u001b[38;5;124;03mRead SQL query into a DataFrame.\u001b[39;00m\n\u001b[1;32m   1511\u001b[0m \n\u001b[0;32m   (...)\u001b[0m\n\u001b[1;32m   1553\u001b[0m \n\u001b[1;32m   1554\u001b[0m \u001b[38;5;124;03m\"\"\"\u001b[39;00m\n\u001b[1;32m   1555\u001b[0m args \u001b[38;5;241m=\u001b[39m _convert_params(sql, params)\n\u001b[0;32m-> 1557\u001b[0m result \u001b[38;5;241m=\u001b[39m \u001b[38;5;28;43mself\u001b[39;49m\u001b[38;5;241;43m.\u001b[39;49m\u001b[43mexecute\u001b[49m\u001b[43m(\u001b[49m\u001b[38;5;241;43m*\u001b[39;49m\u001b[43margs\u001b[49m\u001b[43m)\u001b[49m\n\u001b[1;32m   1558\u001b[0m columns \u001b[38;5;241m=\u001b[39m result\u001b[38;5;241m.\u001b[39mkeys()\n\u001b[1;32m   1560\u001b[0m \u001b[38;5;28;01mif\u001b[39;00m chunksize \u001b[38;5;129;01mis\u001b[39;00m \u001b[38;5;129;01mnot\u001b[39;00m \u001b[38;5;28;01mNone\u001b[39;00m:\n",
      "File \u001b[0;32m/opt/conda/lib/python3.9/site-packages/pandas/io/sql.py:1402\u001b[0m, in \u001b[0;36mSQLDatabase.execute\u001b[0;34m(self, *args, **kwargs)\u001b[0m\n\u001b[1;32m   1400\u001b[0m \u001b[38;5;28;01mdef\u001b[39;00m \u001b[38;5;21mexecute\u001b[39m(\u001b[38;5;28mself\u001b[39m, \u001b[38;5;241m*\u001b[39margs, \u001b[38;5;241m*\u001b[39m\u001b[38;5;241m*\u001b[39mkwargs):\n\u001b[1;32m   1401\u001b[0m     \u001b[38;5;124;03m\"\"\"Simple passthrough to SQLAlchemy connectable\"\"\"\u001b[39;00m\n\u001b[0;32m-> 1402\u001b[0m     \u001b[38;5;28;01mreturn\u001b[39;00m \u001b[38;5;28;43mself\u001b[39;49m\u001b[38;5;241;43m.\u001b[39;49m\u001b[43mconnectable\u001b[49m\u001b[38;5;241;43m.\u001b[39;49m\u001b[43mexecution_options\u001b[49m\u001b[43m(\u001b[49m\u001b[43m)\u001b[49m\u001b[38;5;241;43m.\u001b[39;49m\u001b[43mexecute\u001b[49m\u001b[43m(\u001b[49m\u001b[38;5;241;43m*\u001b[39;49m\u001b[43margs\u001b[49m\u001b[43m,\u001b[49m\u001b[43m \u001b[49m\u001b[38;5;241;43m*\u001b[39;49m\u001b[38;5;241;43m*\u001b[39;49m\u001b[43mkwargs\u001b[49m\u001b[43m)\u001b[49m\n",
      "File \u001b[0;32m<string>:2\u001b[0m, in \u001b[0;36mexecute\u001b[0;34m(self, statement, *multiparams, **params)\u001b[0m\n",
      "File \u001b[0;32m/opt/conda/lib/python3.9/site-packages/sqlalchemy/util/deprecations.py:401\u001b[0m, in \u001b[0;36m_decorate_with_warning.<locals>.warned\u001b[0;34m(fn, *args, **kwargs)\u001b[0m\n\u001b[1;32m    399\u001b[0m \u001b[38;5;28;01mif\u001b[39;00m \u001b[38;5;129;01mnot\u001b[39;00m skip_warning:\n\u001b[1;32m    400\u001b[0m     _warn_with_version(message, version, wtype, stacklevel\u001b[38;5;241m=\u001b[39m\u001b[38;5;241m3\u001b[39m)\n\u001b[0;32m--> 401\u001b[0m \u001b[38;5;28;01mreturn\u001b[39;00m \u001b[43mfn\u001b[49m\u001b[43m(\u001b[49m\u001b[38;5;241;43m*\u001b[39;49m\u001b[43margs\u001b[49m\u001b[43m,\u001b[49m\u001b[43m \u001b[49m\u001b[38;5;241;43m*\u001b[39;49m\u001b[38;5;241;43m*\u001b[39;49m\u001b[43mkwargs\u001b[49m\u001b[43m)\u001b[49m\n",
      "File \u001b[0;32m/opt/conda/lib/python3.9/site-packages/sqlalchemy/engine/base.py:3152\u001b[0m, in \u001b[0;36mEngine.execute\u001b[0;34m(self, statement, *multiparams, **params)\u001b[0m\n\u001b[1;32m   3134\u001b[0m \u001b[38;5;124;03m\"\"\"Executes the given construct and returns a\u001b[39;00m\n\u001b[1;32m   3135\u001b[0m \u001b[38;5;124;03m:class:`_engine.CursorResult`.\u001b[39;00m\n\u001b[1;32m   3136\u001b[0m \n\u001b[0;32m   (...)\u001b[0m\n\u001b[1;32m   3149\u001b[0m \n\u001b[1;32m   3150\u001b[0m \u001b[38;5;124;03m\"\"\"\u001b[39;00m\n\u001b[1;32m   3151\u001b[0m connection \u001b[38;5;241m=\u001b[39m \u001b[38;5;28mself\u001b[39m\u001b[38;5;241m.\u001b[39mconnect(close_with_result\u001b[38;5;241m=\u001b[39m\u001b[38;5;28;01mTrue\u001b[39;00m)\n\u001b[0;32m-> 3152\u001b[0m \u001b[38;5;28;01mreturn\u001b[39;00m \u001b[43mconnection\u001b[49m\u001b[38;5;241;43m.\u001b[39;49m\u001b[43mexecute\u001b[49m\u001b[43m(\u001b[49m\u001b[43mstatement\u001b[49m\u001b[43m,\u001b[49m\u001b[43m \u001b[49m\u001b[38;5;241;43m*\u001b[39;49m\u001b[43mmultiparams\u001b[49m\u001b[43m,\u001b[49m\u001b[43m \u001b[49m\u001b[38;5;241;43m*\u001b[39;49m\u001b[38;5;241;43m*\u001b[39;49m\u001b[43mparams\u001b[49m\u001b[43m)\u001b[49m\n",
      "File \u001b[0;32m/opt/conda/lib/python3.9/site-packages/sqlalchemy/engine/base.py:1280\u001b[0m, in \u001b[0;36mConnection.execute\u001b[0;34m(self, statement, *multiparams, **params)\u001b[0m\n\u001b[1;32m   1271\u001b[0m \u001b[38;5;28;01mif\u001b[39;00m \u001b[38;5;28misinstance\u001b[39m(statement, util\u001b[38;5;241m.\u001b[39mstring_types):\n\u001b[1;32m   1272\u001b[0m     util\u001b[38;5;241m.\u001b[39mwarn_deprecated_20(\n\u001b[1;32m   1273\u001b[0m         \u001b[38;5;124m\"\u001b[39m\u001b[38;5;124mPassing a string to Connection.execute() is \u001b[39m\u001b[38;5;124m\"\u001b[39m\n\u001b[1;32m   1274\u001b[0m         \u001b[38;5;124m\"\u001b[39m\u001b[38;5;124mdeprecated and will be removed in version 2.0.  Use the \u001b[39m\u001b[38;5;124m\"\u001b[39m\n\u001b[0;32m   (...)\u001b[0m\n\u001b[1;32m   1277\u001b[0m         \u001b[38;5;124m\"\u001b[39m\u001b[38;5;124mdriver-level SQL string.\u001b[39m\u001b[38;5;124m\"\u001b[39m\n\u001b[1;32m   1278\u001b[0m     )\n\u001b[0;32m-> 1280\u001b[0m     \u001b[38;5;28;01mreturn\u001b[39;00m \u001b[38;5;28;43mself\u001b[39;49m\u001b[38;5;241;43m.\u001b[39;49m\u001b[43m_exec_driver_sql\u001b[49m\u001b[43m(\u001b[49m\n\u001b[1;32m   1281\u001b[0m \u001b[43m        \u001b[49m\u001b[43mstatement\u001b[49m\u001b[43m,\u001b[49m\n\u001b[1;32m   1282\u001b[0m \u001b[43m        \u001b[49m\u001b[43mmultiparams\u001b[49m\u001b[43m,\u001b[49m\n\u001b[1;32m   1283\u001b[0m \u001b[43m        \u001b[49m\u001b[43mparams\u001b[49m\u001b[43m,\u001b[49m\n\u001b[1;32m   1284\u001b[0m \u001b[43m        \u001b[49m\u001b[43m_EMPTY_EXECUTION_OPTS\u001b[49m\u001b[43m,\u001b[49m\n\u001b[1;32m   1285\u001b[0m \u001b[43m        \u001b[49m\u001b[43mfuture\u001b[49m\u001b[38;5;241;43m=\u001b[39;49m\u001b[38;5;28;43;01mFalse\u001b[39;49;00m\u001b[43m,\u001b[49m\n\u001b[1;32m   1286\u001b[0m \u001b[43m    \u001b[49m\u001b[43m)\u001b[49m\n\u001b[1;32m   1288\u001b[0m \u001b[38;5;28;01mtry\u001b[39;00m:\n\u001b[1;32m   1289\u001b[0m     meth \u001b[38;5;241m=\u001b[39m statement\u001b[38;5;241m.\u001b[39m_execute_on_connection\n",
      "File \u001b[0;32m/opt/conda/lib/python3.9/site-packages/sqlalchemy/engine/base.py:1584\u001b[0m, in \u001b[0;36mConnection._exec_driver_sql\u001b[0;34m(self, statement, multiparams, params, execution_options, future)\u001b[0m\n\u001b[1;32m   1574\u001b[0m         (\n\u001b[1;32m   1575\u001b[0m             statement,\n\u001b[1;32m   1576\u001b[0m             distilled_params,\n\u001b[0;32m   (...)\u001b[0m\n\u001b[1;32m   1580\u001b[0m             statement, distilled_parameters, execution_options\n\u001b[1;32m   1581\u001b[0m         )\n\u001b[1;32m   1583\u001b[0m dialect \u001b[38;5;241m=\u001b[39m \u001b[38;5;28mself\u001b[39m\u001b[38;5;241m.\u001b[39mdialect\n\u001b[0;32m-> 1584\u001b[0m ret \u001b[38;5;241m=\u001b[39m \u001b[38;5;28;43mself\u001b[39;49m\u001b[38;5;241;43m.\u001b[39;49m\u001b[43m_execute_context\u001b[49m\u001b[43m(\u001b[49m\n\u001b[1;32m   1585\u001b[0m \u001b[43m    \u001b[49m\u001b[43mdialect\u001b[49m\u001b[43m,\u001b[49m\n\u001b[1;32m   1586\u001b[0m \u001b[43m    \u001b[49m\u001b[43mdialect\u001b[49m\u001b[38;5;241;43m.\u001b[39;49m\u001b[43mexecution_ctx_cls\u001b[49m\u001b[38;5;241;43m.\u001b[39;49m\u001b[43m_init_statement\u001b[49m\u001b[43m,\u001b[49m\n\u001b[1;32m   1587\u001b[0m \u001b[43m    \u001b[49m\u001b[43mstatement\u001b[49m\u001b[43m,\u001b[49m\n\u001b[1;32m   1588\u001b[0m \u001b[43m    \u001b[49m\u001b[43mdistilled_parameters\u001b[49m\u001b[43m,\u001b[49m\n\u001b[1;32m   1589\u001b[0m \u001b[43m    \u001b[49m\u001b[43mexecution_options\u001b[49m\u001b[43m,\u001b[49m\n\u001b[1;32m   1590\u001b[0m \u001b[43m    \u001b[49m\u001b[43mstatement\u001b[49m\u001b[43m,\u001b[49m\n\u001b[1;32m   1591\u001b[0m \u001b[43m    \u001b[49m\u001b[43mdistilled_parameters\u001b[49m\u001b[43m,\u001b[49m\n\u001b[1;32m   1592\u001b[0m \u001b[43m\u001b[49m\u001b[43m)\u001b[49m\n\u001b[1;32m   1594\u001b[0m \u001b[38;5;28;01mif\u001b[39;00m \u001b[38;5;129;01mnot\u001b[39;00m future:\n\u001b[1;32m   1595\u001b[0m     \u001b[38;5;28;01mif\u001b[39;00m \u001b[38;5;28mself\u001b[39m\u001b[38;5;241m.\u001b[39m_has_events \u001b[38;5;129;01mor\u001b[39;00m \u001b[38;5;28mself\u001b[39m\u001b[38;5;241m.\u001b[39mengine\u001b[38;5;241m.\u001b[39m_has_events:\n",
      "File \u001b[0;32m/opt/conda/lib/python3.9/site-packages/sqlalchemy/engine/base.py:1851\u001b[0m, in \u001b[0;36mConnection._execute_context\u001b[0;34m(self, dialect, constructor, statement, parameters, execution_options, *args, **kw)\u001b[0m\n\u001b[1;32m   1848\u001b[0m             branched\u001b[38;5;241m.\u001b[39mclose()\n\u001b[1;32m   1850\u001b[0m \u001b[38;5;28;01mexcept\u001b[39;00m \u001b[38;5;167;01mBaseException\u001b[39;00m \u001b[38;5;28;01mas\u001b[39;00m e:\n\u001b[0;32m-> 1851\u001b[0m     \u001b[38;5;28;43mself\u001b[39;49m\u001b[38;5;241;43m.\u001b[39;49m\u001b[43m_handle_dbapi_exception\u001b[49m\u001b[43m(\u001b[49m\n\u001b[1;32m   1852\u001b[0m \u001b[43m        \u001b[49m\u001b[43me\u001b[49m\u001b[43m,\u001b[49m\u001b[43m \u001b[49m\u001b[43mstatement\u001b[49m\u001b[43m,\u001b[49m\u001b[43m \u001b[49m\u001b[43mparameters\u001b[49m\u001b[43m,\u001b[49m\u001b[43m \u001b[49m\u001b[43mcursor\u001b[49m\u001b[43m,\u001b[49m\u001b[43m \u001b[49m\u001b[43mcontext\u001b[49m\n\u001b[1;32m   1853\u001b[0m \u001b[43m    \u001b[49m\u001b[43m)\u001b[49m\n\u001b[1;32m   1855\u001b[0m \u001b[38;5;28;01mreturn\u001b[39;00m result\n",
      "File \u001b[0;32m/opt/conda/lib/python3.9/site-packages/sqlalchemy/engine/base.py:2032\u001b[0m, in \u001b[0;36mConnection._handle_dbapi_exception\u001b[0;34m(self, e, statement, parameters, cursor, context)\u001b[0m\n\u001b[1;32m   2030\u001b[0m     util\u001b[38;5;241m.\u001b[39mraise_(newraise, with_traceback\u001b[38;5;241m=\u001b[39mexc_info[\u001b[38;5;241m2\u001b[39m], from_\u001b[38;5;241m=\u001b[39me)\n\u001b[1;32m   2031\u001b[0m \u001b[38;5;28;01melif\u001b[39;00m should_wrap:\n\u001b[0;32m-> 2032\u001b[0m     \u001b[43mutil\u001b[49m\u001b[38;5;241;43m.\u001b[39;49m\u001b[43mraise_\u001b[49m\u001b[43m(\u001b[49m\n\u001b[1;32m   2033\u001b[0m \u001b[43m        \u001b[49m\u001b[43msqlalchemy_exception\u001b[49m\u001b[43m,\u001b[49m\u001b[43m \u001b[49m\u001b[43mwith_traceback\u001b[49m\u001b[38;5;241;43m=\u001b[39;49m\u001b[43mexc_info\u001b[49m\u001b[43m[\u001b[49m\u001b[38;5;241;43m2\u001b[39;49m\u001b[43m]\u001b[49m\u001b[43m,\u001b[49m\u001b[43m \u001b[49m\u001b[43mfrom_\u001b[49m\u001b[38;5;241;43m=\u001b[39;49m\u001b[43me\u001b[49m\n\u001b[1;32m   2034\u001b[0m \u001b[43m    \u001b[49m\u001b[43m)\u001b[49m\n\u001b[1;32m   2035\u001b[0m \u001b[38;5;28;01melse\u001b[39;00m:\n\u001b[1;32m   2036\u001b[0m     util\u001b[38;5;241m.\u001b[39mraise_(exc_info[\u001b[38;5;241m1\u001b[39m], with_traceback\u001b[38;5;241m=\u001b[39mexc_info[\u001b[38;5;241m2\u001b[39m])\n",
      "File \u001b[0;32m/opt/conda/lib/python3.9/site-packages/sqlalchemy/util/compat.py:207\u001b[0m, in \u001b[0;36mraise_\u001b[0;34m(***failed resolving arguments***)\u001b[0m\n\u001b[1;32m    204\u001b[0m     exception\u001b[38;5;241m.\u001b[39m__cause__ \u001b[38;5;241m=\u001b[39m replace_context\n\u001b[1;32m    206\u001b[0m \u001b[38;5;28;01mtry\u001b[39;00m:\n\u001b[0;32m--> 207\u001b[0m     \u001b[38;5;28;01mraise\u001b[39;00m exception\n\u001b[1;32m    208\u001b[0m \u001b[38;5;28;01mfinally\u001b[39;00m:\n\u001b[1;32m    209\u001b[0m     \u001b[38;5;66;03m# credit to\u001b[39;00m\n\u001b[1;32m    210\u001b[0m     \u001b[38;5;66;03m# https://cosmicpercolator.com/2016/01/13/exception-leaks-in-python-2-and-3/\u001b[39;00m\n\u001b[1;32m    211\u001b[0m     \u001b[38;5;66;03m# as the __traceback__ object creates a cycle\u001b[39;00m\n\u001b[1;32m    212\u001b[0m     \u001b[38;5;28;01mdel\u001b[39;00m exception, replace_context, from_, with_traceback\n",
      "File \u001b[0;32m/opt/conda/lib/python3.9/site-packages/sqlalchemy/engine/base.py:1808\u001b[0m, in \u001b[0;36mConnection._execute_context\u001b[0;34m(self, dialect, constructor, statement, parameters, execution_options, *args, **kw)\u001b[0m\n\u001b[1;32m   1806\u001b[0m                 \u001b[38;5;28;01mbreak\u001b[39;00m\n\u001b[1;32m   1807\u001b[0m     \u001b[38;5;28;01mif\u001b[39;00m \u001b[38;5;129;01mnot\u001b[39;00m evt_handled:\n\u001b[0;32m-> 1808\u001b[0m         \u001b[38;5;28;43mself\u001b[39;49m\u001b[38;5;241;43m.\u001b[39;49m\u001b[43mdialect\u001b[49m\u001b[38;5;241;43m.\u001b[39;49m\u001b[43mdo_execute\u001b[49m\u001b[43m(\u001b[49m\n\u001b[1;32m   1809\u001b[0m \u001b[43m            \u001b[49m\u001b[43mcursor\u001b[49m\u001b[43m,\u001b[49m\u001b[43m \u001b[49m\u001b[43mstatement\u001b[49m\u001b[43m,\u001b[49m\u001b[43m \u001b[49m\u001b[43mparameters\u001b[49m\u001b[43m,\u001b[49m\u001b[43m \u001b[49m\u001b[43mcontext\u001b[49m\n\u001b[1;32m   1810\u001b[0m \u001b[43m        \u001b[49m\u001b[43m)\u001b[49m\n\u001b[1;32m   1812\u001b[0m \u001b[38;5;28;01mif\u001b[39;00m \u001b[38;5;28mself\u001b[39m\u001b[38;5;241m.\u001b[39m_has_events \u001b[38;5;129;01mor\u001b[39;00m \u001b[38;5;28mself\u001b[39m\u001b[38;5;241m.\u001b[39mengine\u001b[38;5;241m.\u001b[39m_has_events:\n\u001b[1;32m   1813\u001b[0m     \u001b[38;5;28mself\u001b[39m\u001b[38;5;241m.\u001b[39mdispatch\u001b[38;5;241m.\u001b[39mafter_cursor_execute(\n\u001b[1;32m   1814\u001b[0m         \u001b[38;5;28mself\u001b[39m,\n\u001b[1;32m   1815\u001b[0m         cursor,\n\u001b[0;32m   (...)\u001b[0m\n\u001b[1;32m   1819\u001b[0m         context\u001b[38;5;241m.\u001b[39mexecutemany,\n\u001b[1;32m   1820\u001b[0m     )\n",
      "File \u001b[0;32m/opt/conda/lib/python3.9/site-packages/sqlalchemy/engine/default.py:732\u001b[0m, in \u001b[0;36mDefaultDialect.do_execute\u001b[0;34m(self, cursor, statement, parameters, context)\u001b[0m\n\u001b[1;32m    731\u001b[0m \u001b[38;5;28;01mdef\u001b[39;00m \u001b[38;5;21mdo_execute\u001b[39m(\u001b[38;5;28mself\u001b[39m, cursor, statement, parameters, context\u001b[38;5;241m=\u001b[39m\u001b[38;5;28;01mNone\u001b[39;00m):\n\u001b[0;32m--> 732\u001b[0m     \u001b[43mcursor\u001b[49m\u001b[38;5;241;43m.\u001b[39;49m\u001b[43mexecute\u001b[49m\u001b[43m(\u001b[49m\u001b[43mstatement\u001b[49m\u001b[43m,\u001b[49m\u001b[43m \u001b[49m\u001b[43mparameters\u001b[49m\u001b[43m)\u001b[49m\n",
      "File \u001b[0;32m/opt/conda/lib/python3.9/site-packages/google/cloud/bigquery/dbapi/_helpers.py:495\u001b[0m, in \u001b[0;36mraise_on_closed.<locals>._raise_on_closed.<locals>.with_closed_check\u001b[0;34m(self, *args, **kwargs)\u001b[0m\n\u001b[1;32m    493\u001b[0m \u001b[38;5;28;01mif\u001b[39;00m \u001b[38;5;28mgetattr\u001b[39m(\u001b[38;5;28mself\u001b[39m, closed_attr_name):\n\u001b[1;32m    494\u001b[0m     \u001b[38;5;28;01mraise\u001b[39;00m exc_class(exc_msg)\n\u001b[0;32m--> 495\u001b[0m \u001b[38;5;28;01mreturn\u001b[39;00m \u001b[43mmethod\u001b[49m\u001b[43m(\u001b[49m\u001b[38;5;28;43mself\u001b[39;49m\u001b[43m,\u001b[49m\u001b[43m \u001b[49m\u001b[38;5;241;43m*\u001b[39;49m\u001b[43margs\u001b[49m\u001b[43m,\u001b[49m\u001b[43m \u001b[49m\u001b[38;5;241;43m*\u001b[39;49m\u001b[38;5;241;43m*\u001b[39;49m\u001b[43mkwargs\u001b[49m\u001b[43m)\u001b[49m\n",
      "File \u001b[0;32m/opt/conda/lib/python3.9/site-packages/google/cloud/bigquery/dbapi/cursor.py:166\u001b[0m, in \u001b[0;36mCursor.execute\u001b[0;34m(self, operation, parameters, job_id, job_config)\u001b[0m\n\u001b[1;32m    131\u001b[0m \u001b[38;5;124;03m\"\"\"Prepare and execute a database operation.\u001b[39;00m\n\u001b[1;32m    132\u001b[0m \n\u001b[1;32m    133\u001b[0m \u001b[38;5;124;03m.. note::\u001b[39;00m\n\u001b[0;32m   (...)\u001b[0m\n\u001b[1;32m    163\u001b[0m \u001b[38;5;124;03m        (Optional) Extra configuration options for the query job.\u001b[39;00m\n\u001b[1;32m    164\u001b[0m \u001b[38;5;124;03m\"\"\"\u001b[39;00m\n\u001b[1;32m    165\u001b[0m formatted_operation, parameter_types \u001b[38;5;241m=\u001b[39m _format_operation(operation, parameters)\n\u001b[0;32m--> 166\u001b[0m \u001b[38;5;28;43mself\u001b[39;49m\u001b[38;5;241;43m.\u001b[39;49m\u001b[43m_execute\u001b[49m\u001b[43m(\u001b[49m\n\u001b[1;32m    167\u001b[0m \u001b[43m    \u001b[49m\u001b[43mformatted_operation\u001b[49m\u001b[43m,\u001b[49m\u001b[43m \u001b[49m\u001b[43mparameters\u001b[49m\u001b[43m,\u001b[49m\u001b[43m \u001b[49m\u001b[43mjob_id\u001b[49m\u001b[43m,\u001b[49m\u001b[43m \u001b[49m\u001b[43mjob_config\u001b[49m\u001b[43m,\u001b[49m\u001b[43m \u001b[49m\u001b[43mparameter_types\u001b[49m\n\u001b[1;32m    168\u001b[0m \u001b[43m\u001b[49m\u001b[43m)\u001b[49m\n",
      "File \u001b[0;32m/opt/conda/lib/python3.9/site-packages/google/cloud/bigquery/dbapi/cursor.py:205\u001b[0m, in \u001b[0;36mCursor._execute\u001b[0;34m(self, formatted_operation, parameters, job_id, job_config, parameter_types)\u001b[0m\n\u001b[1;32m    203\u001b[0m     \u001b[38;5;28mself\u001b[39m\u001b[38;5;241m.\u001b[39m_query_job\u001b[38;5;241m.\u001b[39mresult()\n\u001b[1;32m    204\u001b[0m \u001b[38;5;28;01mexcept\u001b[39;00m google\u001b[38;5;241m.\u001b[39mcloud\u001b[38;5;241m.\u001b[39mexceptions\u001b[38;5;241m.\u001b[39mGoogleCloudError \u001b[38;5;28;01mas\u001b[39;00m exc:\n\u001b[0;32m--> 205\u001b[0m     \u001b[38;5;28;01mraise\u001b[39;00m exceptions\u001b[38;5;241m.\u001b[39mDatabaseError(exc)\n\u001b[1;32m    207\u001b[0m query_results \u001b[38;5;241m=\u001b[39m \u001b[38;5;28mself\u001b[39m\u001b[38;5;241m.\u001b[39m_query_job\u001b[38;5;241m.\u001b[39m_query_results\n\u001b[1;32m    208\u001b[0m \u001b[38;5;28mself\u001b[39m\u001b[38;5;241m.\u001b[39m_set_rowcount(query_results)\n",
      "\u001b[0;31mDatabaseError\u001b[0m: (google.cloud.bigquery.dbapi.exceptions.DatabaseError) 400 Column name calitp_extracted_at is ambiguous at [13:77]\n\nLocation: us-west2\nJob ID: e1befb49-0cf9-4662-ab73-1f35557c139b\n\n[SQL: \nSELECT\n    calitp_itp_id,               \n    calitp_url_number,\n    shape_id,\n    pt_array\n\nFROM `views.gtfs_schedule_dim_shapes`\n\nINNER JOIN `views.gtfs_schedule_dim_shapes_geo` \n    USING (calitp_itp_id, calitp_url_number, shape_id)\n\nWHERE (calitp_itp_id = 17 OR calitp_itp_id = 4 OR calitp_itp_id = 100) AND (calitp_extracted_at <= 2022-1-1 AND calitp_deleted_at > 2022-1-1)\nLIMIT 10]\n(Background on this error at: https://sqlalche.me/e/14/4xp6)"
     ]
    }
   ],
   "source": [
    "query_sql(sql_statement)"
   ]
  },
  {
   "cell_type": "markdown",
   "id": "d2d808fe-86c2-41e2-a926-70bc5d169d54",
   "metadata": {},
   "source": [
    "## With datetime as date"
   ]
  },
  {
   "cell_type": "code",
   "execution_count": null,
   "id": "eff3577b-889e-410a-a544-2064f494fd9c",
   "metadata": {},
   "outputs": [],
   "source": [
    "SELECTED_DATE = datetime.date(2022, 1, 1)\n",
    "\n",
    "start = datetime.datetime.now()\n",
    "\n",
    "df = (tbl.views.gtfs_schedule_dim_shapes()\n",
    "      >> filter(_.calitp_extracted_at <= SELECTED_DATE, \n",
    "                _.calitp_deleted_at > SELECTED_DATE\n",
    "               )\n",
    "      >> filter(_.calitp_itp_id == 182)\n",
    "      >> select(_.calitp_itp_id, _.calitp_url_number, _.shape_id)\n",
    "      >> inner_join(_, \n",
    "                    tbl.views.gtfs_schedule_dim_shapes_geo(),\n",
    "                    [\"calitp_itp_id\", \"calitp_url_number\", \"shape_id\"])\n",
    "     )\n",
    "end = datetime.datetime.now()\n",
    "print(end - start)"
   ]
  },
  {
   "cell_type": "markdown",
   "id": "5b842b1d-bd28-4c70-83b4-654c42054399",
   "metadata": {},
   "source": [
    "## Handle subsets of operators \n",
    "\n",
    "* By default, exclude `ITP_ID==200`, but what if we just want 5 operators?\n",
    "* Instead of `collect` + `isin`, can we construct `or` statement?"
   ]
  },
  {
   "cell_type": "code",
   "execution_count": null,
   "id": "12d55aac-0d1d-44fb-83b4-c8d590d4a92e",
   "metadata": {},
   "outputs": [],
   "source": [
    "def unpack_list_and_use_or_statement(col, my_list):\n",
    "    new_or_statement = \"\"\n",
    "    \n",
    "    for i in range(0, len(my_list)):\n",
    "        add_me = f\"(_[{col}]=={my_list[i]})\"\n",
    "        \n",
    "        if i==0:\n",
    "            new_or_statement = add_me\n",
    "        else:\n",
    "            new_or_statement = new_or_statement + \" or \" + add_me\n",
    "\n",
    "    return new_or_statement"
   ]
  },
  {
   "cell_type": "code",
   "execution_count": null,
   "id": "c904058b-30e6-494f-a116-bebffec8dc26",
   "metadata": {},
   "outputs": [],
   "source": [
    "INCLUDE_ITP_ID = [17, 100]\n",
    "\n",
    "sentence = unpack_list_and_use_or_statement(\"calitp_itp_id\", INCLUDE_ITP_ID)\n",
    "sentence"
   ]
  },
  {
   "cell_type": "code",
   "execution_count": null,
   "id": "5a3452b5-b816-4d31-a583-f8529ca16978",
   "metadata": {},
   "outputs": [],
   "source": [
    "from inspect import cleandoc\n",
    "\n",
    "cleandoc(sentence)"
   ]
  },
  {
   "cell_type": "code",
   "execution_count": null,
   "id": "4f4411a3-f758-40c8-bd91-973e62776cef",
   "metadata": {},
   "outputs": [],
   "source": [
    "# Without collect(), which takes awhile\n",
    "\n",
    "start = datetime.datetime.now()\n",
    "\n",
    "df = (tbl.views.gtfs_schedule_dim_shapes()\n",
    "      >> filter(_.calitp_extracted_at <= SELECTED_DATE, \n",
    "                _.calitp_deleted_at > SELECTED_DATE\n",
    "               )\n",
    "      >> filter(cleandoc(\n",
    "          unpack_list_and_use_or_statement(\n",
    "              \"calitp_itp_id\", INCLUDE_ITP_ID\n",
    "          )\n",
    "      ))\n",
    "      >> select(_.calitp_itp_id, _.calitp_url_number, _.shape_id)\n",
    "      >> inner_join(_, \n",
    "                    tbl.views.gtfs_schedule_dim_shapes_geo(),\n",
    "                    [\"calitp_itp_id\", \"calitp_url_number\", \"shape_id\"])\n",
    "     )\n",
    "\n",
    "\n",
    "end = datetime.datetime.now()\n",
    "print(end - start) "
   ]
  },
  {
   "cell_type": "code",
   "execution_count": null,
   "id": "5c332217-d8d4-436c-9f02-eb5b84c550fa",
   "metadata": {},
   "outputs": [],
   "source": [
    "start = datetime.datetime.now()\n",
    "\n",
    "df = (tbl.views.gtfs_schedule_dim_shapes()\n",
    "      >> filter(_.calitp_extracted_at <= SELECTED_DATE, \n",
    "                _.calitp_deleted_at > SELECTED_DATE\n",
    "               )\n",
    "      >> filter(_.calitp_itp_id==17)\n",
    "      >> select(_.calitp_itp_id, _.calitp_url_number, _.shape_id)\n",
    "      >> inner_join(_, \n",
    "                    tbl.views.gtfs_schedule_dim_shapes_geo(),\n",
    "                    [\"calitp_itp_id\", \"calitp_url_number\", \"shape_id\"])\n",
    "     )\n",
    "\n",
    "df2 = (tbl.views.gtfs_schedule_dim_shapes()\n",
    "      >> filter(_.calitp_extracted_at <= SELECTED_DATE, \n",
    "                _.calitp_deleted_at > SELECTED_DATE\n",
    "               )\n",
    "      >> filter(_.calitp_itp_id==4)\n",
    "      >> select(_.calitp_itp_id, _.calitp_url_number, _.shape_id)\n",
    "      >> inner_join(_, \n",
    "                    tbl.views.gtfs_schedule_dim_shapes_geo(),\n",
    "                    [\"calitp_itp_id\", \"calitp_url_number\", \"shape_id\"])\n",
    "     )\n",
    "\n",
    "\n",
    "end = datetime.datetime.now()\n",
    "print(end - start)      "
   ]
  },
  {
   "cell_type": "code",
   "execution_count": null,
   "id": "8f4dd25d-1536-4fbf-8b9b-748becb4f4cf",
   "metadata": {},
   "outputs": [],
   "source": [
    "query_sql('''\n",
    "df \n",
    "UNION\n",
    "df2\n",
    "'''\n",
    ")"
   ]
  },
  {
   "cell_type": "code",
   "execution_count": null,
   "id": "3417725d-850c-4b55-8366-2af2adb6fce0",
   "metadata": {},
   "outputs": [],
   "source": [
    "start = datetime.datetime.now()\n",
    "\n",
    "df = (tbl.views.gtfs_schedule_dim_shapes()\n",
    "      >> filter(_.calitp_extracted_at <= SELECTED_DATE, \n",
    "                _.calitp_deleted_at > SELECTED_DATE\n",
    "               )\n",
    "      >> select(_.calitp_itp_id, _.calitp_url_number, _.shape_id)\n",
    "      >> collect()\n",
    "      >> filter(_.calitp_itp_id.isin(INCLUDE_ITP_ID))\n",
    "     )\n",
    "\n",
    "end = datetime.datetime.now()\n",
    "print(end - start)  "
   ]
  },
  {
   "cell_type": "code",
   "execution_count": null,
   "id": "01ea73d6-bbe9-4f48-bf68-60749a8e75fa",
   "metadata": {},
   "outputs": [],
   "source": [
    "(tbl.views.gtfs_schedule_dim_shapes() \n",
    " >> filter(_.calitp_itp_id.isin([100, 17])\n",
    "          )\n",
    ")"
   ]
  },
  {
   "cell_type": "code",
   "execution_count": null,
   "id": "8bc9a666-fdc2-47f5-8954-97a322dd1a27",
   "metadata": {},
   "outputs": [],
   "source": [
    "start = datetime.datetime.now()\n",
    "\n",
    "def make_linestring(x):\n",
    "\n",
    "    # shapely errors if the array contains only one point\n",
    "    if len(x) > 1:\n",
    "        # each point in the array is wkt\n",
    "        # so convert them to shapely points via list comprehension\n",
    "        as_wkt = [shapely.wkt.loads(i) for i in x]\n",
    "        return shapely.geometry.LineString(as_wkt)\n",
    "\n",
    "# apply the function\n",
    "df['geometry'] = df.pt_array.apply(make_linestring)\n",
    "\n",
    "# convert to geopandas; geometry column contains the linestring\n",
    "gdf = gpd.GeoDataFrame(df, geometry = 'geometry', crs=WGS84)\n",
    "\n",
    "end = datetime.datetime.now()\n",
    "print(end - start)"
   ]
  },
  {
   "cell_type": "code",
   "execution_count": null,
   "id": "8a61b5d7-159e-4788-90db-1b4881361e93",
   "metadata": {},
   "outputs": [],
   "source": []
  }
 ],
 "metadata": {
  "kernelspec": {
   "display_name": "Python 3 (ipykernel)",
   "language": "python",
   "name": "python3"
  },
  "language_info": {
   "codemirror_mode": {
    "name": "ipython",
    "version": 3
   },
   "file_extension": ".py",
   "mimetype": "text/x-python",
   "name": "python",
   "nbconvert_exporter": "python",
   "pygments_lexer": "ipython3",
   "version": "3.9.10"
  }
 },
 "nbformat": 4,
 "nbformat_minor": 5
}
