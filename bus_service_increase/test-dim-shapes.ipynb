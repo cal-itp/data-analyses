{
 "cells": [
  {
   "cell_type": "markdown",
   "id": "1e004623-b834-4f9c-9ca9-17d90ed95500",
   "metadata": {},
   "source": [
    "# New dim_shapes"
   ]
  },
  {
   "cell_type": "code",
   "execution_count": 1,
   "id": "0c5b5092-eeed-4c46-99d2-26e78d3d6eaa",
   "metadata": {},
   "outputs": [
    {
     "name": "stderr",
     "output_type": "stream",
     "text": [
      "/opt/conda/lib/python3.9/site-packages/geopandas/_compat.py:111: UserWarning: The Shapely GEOS version (3.10.2-CAPI-1.16.0) is incompatible with the GEOS version PyGEOS was compiled with (3.10.1-CAPI-1.16.0). Conversions between both will be slow.\n",
      "  warnings.warn(\n",
      "E0326 23:09:12.918019963     948 fork_posix.cc:70]           Fork support is only compatible with the epoll1 and poll polling strategies\n",
      "E0326 23:09:16.503696946     948 fork_posix.cc:70]           Fork support is only compatible with the epoll1 and poll polling strategies\n"
     ]
    }
   ],
   "source": [
    "import datetime\n",
    "import geopandas as gpd\n",
    "import os\n",
    "import pandas as pd\n",
    "\n",
    "os.environ[\"CALITP_BQ_MAX_BYTES\"] = str(130_000_000_000)\n",
    "\n",
    "from calitp.tables import tbl\n",
    "from calitp import query_sql\n",
    "from siuba import *\n",
    "\n",
    "import shared_utils"
   ]
  },
  {
   "cell_type": "markdown",
   "id": "d9adcd7b-b70d-418a-b1c8-00ad12fca6a0",
   "metadata": {},
   "source": [
    "## With string as date"
   ]
  },
  {
   "cell_type": "code",
   "execution_count": 4,
   "id": "23a6f4a7-da3f-46ac-a8a7-335771320516",
   "metadata": {},
   "outputs": [
    {
     "name": "stdout",
     "output_type": "stream",
     "text": [
      "0:00:00.284413\n"
     ]
    },
    {
     "name": "stderr",
     "output_type": "stream",
     "text": [
      "/opt/conda/lib/python3.9/site-packages/pybigquery/sqlalchemy_bigquery.py:879: SAWarning: Did not recognize type 'GEOGRAPHY' of column 'pt_array'\n"
     ]
    }
   ],
   "source": [
    "SELECTED_DATE = \"2022-1-1\"\n",
    "\n",
    "start = datetime.datetime.now()\n",
    "\n",
    "df = (tbl.views.gtfs_schedule_dim_shapes_geo()\n",
    "      >> filter(_.calitp_extracted_at <= SELECTED_DATE, \n",
    "                _.calitp_deleted_at > SELECTED_DATE\n",
    "               )\n",
    "      >> filter((_.calitp_itp_id==17) | (_.calitp_itp_id==4))\n",
    "      >> select(_.calitp_itp_id, _.calitp_url_number, _.shape_id, _.pt_array)\n",
    "     )\n",
    "\n",
    "end = datetime.datetime.now()\n",
    "print(end - start)"
   ]
  },
  {
   "cell_type": "markdown",
   "id": "84768c0c-6763-4886-8c9f-7484a0a92fa0",
   "metadata": {},
   "source": [
    "## With datetime as date"
   ]
  },
  {
   "cell_type": "code",
   "execution_count": 5,
   "id": "5d3f429b-5e77-4544-8d70-54f6af4bc960",
   "metadata": {},
   "outputs": [
    {
     "name": "stdout",
     "output_type": "stream",
     "text": [
      "0:00:00.247681\n"
     ]
    }
   ],
   "source": [
    "SELECTED_DATE = datetime.date(2022, 1, 1)\n",
    "\n",
    "start = datetime.datetime.now()\n",
    "\n",
    "df = (tbl.views.gtfs_schedule_dim_shapes_geo()\n",
    "      >> filter(_.calitp_extracted_at <= SELECTED_DATE, \n",
    "                _.calitp_deleted_at > SELECTED_DATE\n",
    "               )\n",
    "      >> filter((_.calitp_itp_id==17) | (_.calitp_itp_id==4))\n",
    "      >> select(_.calitp_itp_id, _.calitp_url_number, _.shape_id, _.pt_array)\n",
    "     )\n",
    "\n",
    "end = datetime.datetime.now()\n",
    "print(end - start)"
   ]
  },
  {
   "cell_type": "markdown",
   "id": "844debb1-4cb7-47e3-9041-0354c2a2170f",
   "metadata": {},
   "source": [
    "## Handle subsets of operators \n",
    "\n",
    "* By default, exclude `ITP_ID==200`, but what if we just want 5 operators?\n",
    "* Instead of `collect` + `isin`, can we construct `or` statement?"
   ]
  },
  {
   "cell_type": "code",
   "execution_count": 2,
   "id": "1429234e-c080-419b-8a15-5524d683fca0",
   "metadata": {},
   "outputs": [
    {
     "data": {
      "text/html": [
       "<div>\n",
       "<style scoped>\n",
       "    .dataframe tbody tr th:only-of-type {\n",
       "        vertical-align: middle;\n",
       "    }\n",
       "\n",
       "    .dataframe tbody tr th {\n",
       "        vertical-align: top;\n",
       "    }\n",
       "\n",
       "    .dataframe thead th {\n",
       "        text-align: right;\n",
       "    }\n",
       "</style>\n",
       "<table border=\"1\" class=\"dataframe\">\n",
       "  <thead>\n",
       "    <tr style=\"text-align: right;\">\n",
       "      <th></th>\n",
       "      <th>calitp_itp_id</th>\n",
       "      <th>calitp_url_number</th>\n",
       "      <th>shape_id</th>\n",
       "      <th>pt_array</th>\n",
       "      <th>geometry</th>\n",
       "    </tr>\n",
       "  </thead>\n",
       "  <tbody>\n",
       "    <tr>\n",
       "      <th>0</th>\n",
       "      <td>182</td>\n",
       "      <td>0</td>\n",
       "      <td>1660113_DEC21</td>\n",
       "      <td>[POINT(-118.5022048368 34.2357544125), POINT(-...</td>\n",
       "      <td>LINESTRING (6409877.000 1908556.800, 6411051.0...</td>\n",
       "    </tr>\n",
       "    <tr>\n",
       "      <th>1</th>\n",
       "      <td>182</td>\n",
       "      <td>0</td>\n",
       "      <td>200782_DEC21</td>\n",
       "      <td>[POINT(-118.4471901193 34.0570734142), POINT(-...</td>\n",
       "      <td>LINESTRING (6426215.600 1843453.600, 6426275.0...</td>\n",
       "    </tr>\n",
       "    <tr>\n",
       "      <th>2</th>\n",
       "      <td>182</td>\n",
       "      <td>0</td>\n",
       "      <td>530227_DEC21</td>\n",
       "      <td>[POINT(-118.2571788337 33.8672496709), POINT(-...</td>\n",
       "      <td>LINESTRING (6483591.900 1774171.200, 6484150.0...</td>\n",
       "    </tr>\n",
       "    <tr>\n",
       "      <th>3</th>\n",
       "      <td>182</td>\n",
       "      <td>0</td>\n",
       "      <td>2330148_DEC21</td>\n",
       "      <td>[POINT(-118.4468335137 34.151641553), POINT(-1...</td>\n",
       "      <td>LINESTRING (6426476.600 1877867.900, 6426471.0...</td>\n",
       "    </tr>\n",
       "    <tr>\n",
       "      <th>4</th>\n",
       "      <td>182</td>\n",
       "      <td>0</td>\n",
       "      <td>1170072_DEC21</td>\n",
       "      <td>[POINT(-118.1407682647 33.9130132985), POINT(-...</td>\n",
       "      <td>LINESTRING (6518955.300 1790755.700, 6518944.0...</td>\n",
       "    </tr>\n",
       "  </tbody>\n",
       "</table>\n",
       "</div>"
      ],
      "text/plain": [
       "   calitp_itp_id  calitp_url_number       shape_id  \\\n",
       "0            182                  0  1660113_DEC21   \n",
       "1            182                  0   200782_DEC21   \n",
       "2            182                  0   530227_DEC21   \n",
       "3            182                  0  2330148_DEC21   \n",
       "4            182                  0  1170072_DEC21   \n",
       "\n",
       "                                            pt_array  \\\n",
       "0  [POINT(-118.5022048368 34.2357544125), POINT(-...   \n",
       "1  [POINT(-118.4471901193 34.0570734142), POINT(-...   \n",
       "2  [POINT(-118.2571788337 33.8672496709), POINT(-...   \n",
       "3  [POINT(-118.4468335137 34.151641553), POINT(-1...   \n",
       "4  [POINT(-118.1407682647 33.9130132985), POINT(-...   \n",
       "\n",
       "                                            geometry  \n",
       "0  LINESTRING (6409877.000 1908556.800, 6411051.0...  \n",
       "1  LINESTRING (6426215.600 1843453.600, 6426275.0...  \n",
       "2  LINESTRING (6483591.900 1774171.200, 6484150.0...  \n",
       "3  LINESTRING (6426476.600 1877867.900, 6426471.0...  \n",
       "4  LINESTRING (6518955.300 1790755.700, 6518944.0...  "
      ]
     },
     "metadata": {},
     "output_type": "display_data"
    },
    {
     "name": "stdout",
     "output_type": "stream",
     "text": [
      "0:00:24.140429\n"
     ]
    }
   ],
   "source": [
    "start = datetime.datetime.now()\n",
    "\n",
    "SELECTED_DATE = datetime.date(2022, 2, 8)\n",
    "\n",
    "gdf = shared_utils.geography_utils.make_routes_gdf(\n",
    "    SELECTED_DATE, CRS = \"EPSG:2229\", ITP_ID_LIST = [100, 182])\n",
    "display(gdf.head())\n",
    "\n",
    "end = datetime.datetime.now()\n",
    "print(end - start)"
   ]
  },
  {
   "cell_type": "code",
   "execution_count": 3,
   "id": "8a61b5d7-159e-4788-90db-1b4881361e93",
   "metadata": {},
   "outputs": [
    {
     "name": "stderr",
     "output_type": "stream",
     "text": [
      "/opt/conda/lib/python3.9/site-packages/pybigquery/sqlalchemy_bigquery.py:879: SAWarning: Did not recognize type 'GEOGRAPHY' of column 'pt_array'\n",
      "/opt/conda/lib/python3.9/site-packages/siuba/sql/utils.py:52: SAWarning: Dialect bigquery:bigquery will not make use of SQL compilation caching as it does not set the 'supports_statement_cache' attribute to ``True``.  This can have significant performance implications including some performance degradations in comparison to prior SQLAlchemy versions.  Dialect maintainers should seek to set this attribute to True after appropriate development and testing for SQLAlchemy 1.4 caching support.   Alternatively, this attribute may be set to False which will disable this warning. (Background on this error at: https://sqlalche.me/e/14/cprf)\n"
     ]
    },
    {
     "data": {
      "text/html": [
       "<div>\n",
       "<style scoped>\n",
       "    .dataframe tbody tr th:only-of-type {\n",
       "        vertical-align: middle;\n",
       "    }\n",
       "\n",
       "    .dataframe tbody tr th {\n",
       "        vertical-align: top;\n",
       "    }\n",
       "\n",
       "    .dataframe thead th {\n",
       "        text-align: right;\n",
       "    }\n",
       "</style>\n",
       "<table border=\"1\" class=\"dataframe\">\n",
       "  <thead>\n",
       "    <tr style=\"text-align: right;\">\n",
       "      <th></th>\n",
       "      <th>calitp_itp_id</th>\n",
       "      <th>calitp_url_number</th>\n",
       "      <th>shape_id</th>\n",
       "      <th>pt_array</th>\n",
       "      <th>geometry</th>\n",
       "    </tr>\n",
       "  </thead>\n",
       "  <tbody>\n",
       "    <tr>\n",
       "      <th>0</th>\n",
       "      <td>282</td>\n",
       "      <td>0</td>\n",
       "      <td>195174</td>\n",
       "      <td>[POINT(-122.452613 37.723656), POINT(-122.4523...</td>\n",
       "      <td>LINESTRING (-215859.874 -29747.369, -215835.75...</td>\n",
       "    </tr>\n",
       "    <tr>\n",
       "      <th>1</th>\n",
       "      <td>235</td>\n",
       "      <td>0</td>\n",
       "      <td>2604</td>\n",
       "      <td>[POINT(-117.979775 33.85842), POINT(-117.98122...</td>\n",
       "      <td>LINESTRING (186958.516 -459878.144, 186824.025...</td>\n",
       "    </tr>\n",
       "    <tr>\n",
       "      <th>2</th>\n",
       "      <td>290</td>\n",
       "      <td>1</td>\n",
       "      <td>SFO0024</td>\n",
       "      <td>[POINT(-122.386624 37.599452), POINT(-122.3867...</td>\n",
       "      <td>LINESTRING (-210400.815 -43698.495, -210411.25...</td>\n",
       "    </tr>\n",
       "    <tr>\n",
       "      <th>3</th>\n",
       "      <td>120</td>\n",
       "      <td>0</td>\n",
       "      <td>5sb</td>\n",
       "      <td>[POINT(-118.2696925 34.16519183), POINT(-118.2...</td>\n",
       "      <td>LINESTRING (159510.789 -426386.226, 159484.409...</td>\n",
       "    </tr>\n",
       "    <tr>\n",
       "      <th>4</th>\n",
       "      <td>61</td>\n",
       "      <td>0</td>\n",
       "      <td>43994</td>\n",
       "      <td>[POINT(-121.96038 37.77031), POINT(-121.9608 3...</td>\n",
       "      <td>LINESTRING (-172437.080 -25570.382, -172473.42...</td>\n",
       "    </tr>\n",
       "  </tbody>\n",
       "</table>\n",
       "</div>"
      ],
      "text/plain": [
       "   calitp_itp_id  calitp_url_number shape_id  \\\n",
       "0            282                  0   195174   \n",
       "1            235                  0     2604   \n",
       "2            290                  1  SFO0024   \n",
       "3            120                  0      5sb   \n",
       "4             61                  0    43994   \n",
       "\n",
       "                                            pt_array  \\\n",
       "0  [POINT(-122.452613 37.723656), POINT(-122.4523...   \n",
       "1  [POINT(-117.979775 33.85842), POINT(-117.98122...   \n",
       "2  [POINT(-122.386624 37.599452), POINT(-122.3867...   \n",
       "3  [POINT(-118.2696925 34.16519183), POINT(-118.2...   \n",
       "4  [POINT(-121.96038 37.77031), POINT(-121.9608 3...   \n",
       "\n",
       "                                            geometry  \n",
       "0  LINESTRING (-215859.874 -29747.369, -215835.75...  \n",
       "1  LINESTRING (186958.516 -459878.144, 186824.025...  \n",
       "2  LINESTRING (-210400.815 -43698.495, -210411.25...  \n",
       "3  LINESTRING (159510.789 -426386.226, 159484.409...  \n",
       "4  LINESTRING (-172437.080 -25570.382, -172473.42...  "
      ]
     },
     "metadata": {},
     "output_type": "display_data"
    },
    {
     "name": "stdout",
     "output_type": "stream",
     "text": [
      "0:10:33.561946\n"
     ]
    }
   ],
   "source": [
    "start = datetime.datetime.now()\n",
    "\n",
    "SELECTED_DATE = datetime.date(2022, 3, 15)\n",
    "\n",
    "gdf = shared_utils.geography_utils.make_routes_gdf(\n",
    "    SELECTED_DATE, CRS = \"EPSG:3310\", ITP_ID_LIST = None)\n",
    "display(gdf.head())\n",
    "\n",
    "end = datetime.datetime.now()\n",
    "print(end - start)"
   ]
  },
  {
   "cell_type": "code",
   "execution_count": 6,
   "id": "681060b0-5e2a-4096-87b6-67d8d9707a7d",
   "metadata": {},
   "outputs": [
    {
     "data": {
      "text/html": [
       "<div>\n",
       "<style scoped>\n",
       "    .dataframe tbody tr th:only-of-type {\n",
       "        vertical-align: middle;\n",
       "    }\n",
       "\n",
       "    .dataframe tbody tr th {\n",
       "        vertical-align: top;\n",
       "    }\n",
       "\n",
       "    .dataframe thead th {\n",
       "        text-align: right;\n",
       "    }\n",
       "</style>\n",
       "<table border=\"1\" class=\"dataframe\">\n",
       "  <thead>\n",
       "    <tr style=\"text-align: right;\">\n",
       "      <th></th>\n",
       "      <th>calitp_itp_id</th>\n",
       "      <th>calitp_url_number</th>\n",
       "      <th>shape_id</th>\n",
       "      <th>pt_array</th>\n",
       "      <th>geometry</th>\n",
       "    </tr>\n",
       "  </thead>\n",
       "  <tbody>\n",
       "    <tr>\n",
       "      <th>0</th>\n",
       "      <td>4</td>\n",
       "      <td>0</td>\n",
       "      <td>shp-232-58</td>\n",
       "      <td>[POINT(-122.023722 37.580733), POINT(-122.0236...</td>\n",
       "      <td>LINESTRING (5394574.734 3149550.553, 5394588.6...</td>\n",
       "    </tr>\n",
       "    <tr>\n",
       "      <th>1</th>\n",
       "      <td>4</td>\n",
       "      <td>0</td>\n",
       "      <td>shp-649-58</td>\n",
       "      <td>[POINT(-122.125981 37.753012), POINT(-122.1257...</td>\n",
       "      <td>LINESTRING (5367508.189 3213510.856, 5367572.7...</td>\n",
       "    </tr>\n",
       "    <tr>\n",
       "      <th>2</th>\n",
       "      <td>4</td>\n",
       "      <td>0</td>\n",
       "      <td>shp-215-67</td>\n",
       "      <td>[POINT(-121.97561 37.557912), POINT(-121.97574...</td>\n",
       "      <td>LINESTRING (5408193.474 3140682.377, 5408152.5...</td>\n",
       "    </tr>\n",
       "    <tr>\n",
       "      <th>3</th>\n",
       "      <td>4</td>\n",
       "      <td>0</td>\n",
       "      <td>shp-669-04</td>\n",
       "      <td>[POINT(-122.340413 37.970909), POINT(-122.3403...</td>\n",
       "      <td>LINESTRING (5308914.097 3295510.119, 5308933.5...</td>\n",
       "    </tr>\n",
       "    <tr>\n",
       "      <th>4</th>\n",
       "      <td>4</td>\n",
       "      <td>0</td>\n",
       "      <td>shp-OX-53</td>\n",
       "      <td>[POINT(-122.24383 37.762955), POINT(-122.24374...</td>\n",
       "      <td>LINESTRING (5333572.853 3218553.129, 5333599.8...</td>\n",
       "    </tr>\n",
       "  </tbody>\n",
       "</table>\n",
       "</div>"
      ],
      "text/plain": [
       "   calitp_itp_id  calitp_url_number    shape_id  \\\n",
       "0              4                  0  shp-232-58   \n",
       "1              4                  0  shp-649-58   \n",
       "2              4                  0  shp-215-67   \n",
       "3              4                  0  shp-669-04   \n",
       "4              4                  0   shp-OX-53   \n",
       "\n",
       "                                            pt_array  \\\n",
       "0  [POINT(-122.023722 37.580733), POINT(-122.0236...   \n",
       "1  [POINT(-122.125981 37.753012), POINT(-122.1257...   \n",
       "2  [POINT(-121.97561 37.557912), POINT(-121.97574...   \n",
       "3  [POINT(-122.340413 37.970909), POINT(-122.3403...   \n",
       "4  [POINT(-122.24383 37.762955), POINT(-122.24374...   \n",
       "\n",
       "                                            geometry  \n",
       "0  LINESTRING (5394574.734 3149550.553, 5394588.6...  \n",
       "1  LINESTRING (5367508.189 3213510.856, 5367572.7...  \n",
       "2  LINESTRING (5408193.474 3140682.377, 5408152.5...  \n",
       "3  LINESTRING (5308914.097 3295510.119, 5308933.5...  \n",
       "4  LINESTRING (5333572.853 3218553.129, 5333599.8...  "
      ]
     },
     "metadata": {},
     "output_type": "display_data"
    },
    {
     "name": "stdout",
     "output_type": "stream",
     "text": [
      "0:00:47.867253\n"
     ]
    }
   ],
   "source": [
    "start = datetime.datetime.now()\n",
    "\n",
    "SELECTED_DATE = \"2021-10-15\"\n",
    "INCLUDE_ITP = [4, 300, 182]\n",
    "\n",
    "gdf = shared_utils.geography_utils.make_routes_gdf(SELECTED_DATE, \n",
    "                                                   CRS = \"EPSG:2229\", \n",
    "                                                   ITP_ID_LIST = INCLUDE_ITP)\n",
    "display(gdf.head())\n",
    "\n",
    "end = datetime.datetime.now()\n",
    "print(end - start)"
   ]
  },
  {
   "cell_type": "code",
   "execution_count": null,
   "id": "6b81a2d8-9ead-429d-9b51-8260f3da28b7",
   "metadata": {},
   "outputs": [],
   "source": []
  }
 ],
 "metadata": {
  "kernelspec": {
   "display_name": "Python 3 (ipykernel)",
   "language": "python",
   "name": "python3"
  },
  "language_info": {
   "codemirror_mode": {
    "name": "ipython",
    "version": 3
   },
   "file_extension": ".py",
   "mimetype": "text/x-python",
   "name": "python",
   "nbconvert_exporter": "python",
   "pygments_lexer": "ipython3",
   "version": "3.9.10"
  }
 },
 "nbformat": 4,
 "nbformat_minor": 5
}
