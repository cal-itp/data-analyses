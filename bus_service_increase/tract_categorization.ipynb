{
 "cells": [
  {
   "cell_type": "code",
   "execution_count": null,
   "id": "fda96150-e931-4346-a85a-95741bd1c06e",
   "metadata": {},
   "outputs": [],
   "source": [
    "import calitp\n",
    "from calitp.tables import tbl\n",
    "from siuba import *\n",
    "\n",
    "import pandas as pd\n",
    "ix = pd.IndexSlice\n",
    "import numpy as np\n",
    "import geopandas as gpd\n",
    "\n",
    "from calenviroscreen_utils import *\n",
    "from utils import *\n",
    "import prep_data\n",
    "import shared_utils\n",
    "\n",
    "import shapely\n",
    "from shapely.geometry import LineString\n",
    "\n",
    "import os\n",
    "from calitp.storage import get_fs\n",
    "fs = get_fs()"
   ]
  },
  {
   "cell_type": "code",
   "execution_count": null,
   "id": "675c695e-898f-44b5-a5aa-496941cd4f6d",
   "metadata": {},
   "outputs": [],
   "source": [
    "ces_df = prep_data.generate_calenviroscreen_lehd_data(prep_data.datasets)"
   ]
  },
  {
   "cell_type": "code",
   "execution_count": null,
   "id": "2553a59e-dc0c-4018-a3ca-85dcf3d636a7",
   "metadata": {},
   "outputs": [],
   "source": [
    "ces_df['tract_type'] = ces_df['pop_sq_mi'].apply(lambda x: 'urban' if x > 2400 else 'suburban' if x > 800 else 'rural')"
   ]
  },
  {
   "cell_type": "code",
   "execution_count": null,
   "id": "1923e674-cccb-415c-a12e-c2284041af14",
   "metadata": {},
   "outputs": [],
   "source": [
    "service_funding_joined = pd.read_parquet(f\"{GCS_FILE_PATH}shape_frequency_funding.parquet\")"
   ]
  },
  {
   "cell_type": "code",
   "execution_count": null,
   "id": "b90f2d08-b02a-4cc1-b857-d5af7dff663e",
   "metadata": {},
   "outputs": [],
   "source": [
    "service_funding_joined.head(3)"
   ]
  },
  {
   "cell_type": "code",
   "execution_count": null,
   "id": "70be0cc7-1527-49b7-9340-d8c0f7e19a2c",
   "metadata": {},
   "outputs": [],
   "source": [
    "dates = get_recent_dates()\n",
    "min_date = min(dates.values())\n",
    "max_date = max(dates.values())"
   ]
  },
  {
   "cell_type": "code",
   "execution_count": null,
   "id": "dfd37e81-2b3c-432e-bd80-0e1b990ec7d2",
   "metadata": {
    "tags": []
   },
   "outputs": [],
   "source": [
    "def line_from_shape(df):\n",
    "    '''\n",
    "    Convert a sequence of shape points for a single gtfs shape into a linestring geometry.\n",
    "    '''\n",
    "    try:\n",
    "        assert df.size > 1, f'no geometry for shape {df.shape_id.iloc[0]}'\n",
    "        df.shape_pt_sequence = df.shape_pt_sequence.astype('int64')\n",
    "        df.sort_values(by='shape_pt_sequence', inplace=True) ##arrange, then convert to line to preserve order...\n",
    "        route_line = LineString(list(df['geometry']))\n",
    "        df['route_line'] = route_line\n",
    "        return df\n",
    "    except AssertionError as err:\n",
    "        print(err)\n",
    "        return df"
   ]
  },
  {
   "cell_type": "code",
   "execution_count": null,
   "id": "7b362d3a-48e6-4419-8097-bdbe34dff568",
   "metadata": {
    "tags": []
   },
   "outputs": [],
   "source": [
    "def get_process_shapes():\n",
    "    all_shapes = gpd.GeoDataFrame()\n",
    "    for operator in service_funding_joined.calitp_itp_id.unique():\n",
    "\n",
    "        print(operator)\n",
    "        try:\n",
    "\n",
    "            shapes = (tbl.gtfs_schedule.shapes()\n",
    "                      >> select(_.calitp_itp_id, _.shape_id, _.shape_pt_lat, _.shape_pt_lon,\n",
    "                               _.shape_pt_sequence)\n",
    "                      >> filter(_.calitp_itp_id == int(operator))\n",
    "                      >> collect()\n",
    "                     )\n",
    "            shapes_geo = gpd.GeoDataFrame(shapes, \n",
    "                                  geometry = gpd.points_from_xy(shapes.shape_pt_lon, shapes.shape_pt_lat),\n",
    "                                  crs = 'EPSG:4326').to_crs('EPSG:3310') ## https://epsg.io/3310 (meters)\n",
    "            shape_lined = shapes_geo.groupby(['calitp_itp_id', 'shape_id']).apply(line_from_shape).reset_index(drop=True)\n",
    "            shape_lined = shape_lined.drop_duplicates(subset=['shape_id'])\n",
    "            shape_lined = shape_lined[['calitp_itp_id', 'shape_id', 'route_line']]\n",
    "            shape_lined = gpd.GeoDataFrame(shape_lined, geometry=shape_lined['route_line'], crs='EPSG:3310')\n",
    "            shape_lined = shape_lined.drop(columns=['route_line'])\n",
    "            all_shapes = all_shapes.append(shape_lined)\n",
    "        except:\n",
    "            print(f'failed for operator {operator}')\n",
    "    return all_shapes"
   ]
  },
  {
   "cell_type": "code",
   "execution_count": null,
   "id": "c5aa5ab7-210b-442b-a09b-e7bb0b92e632",
   "metadata": {},
   "outputs": [],
   "source": [
    "# all_shapes = get_process_shapes()"
   ]
  },
  {
   "cell_type": "code",
   "execution_count": null,
   "id": "c3033048-07ca-4aa4-9ca1-08e4bcd4dad0",
   "metadata": {},
   "outputs": [],
   "source": [
    "# shared_utils.utils.geoparquet_gcs_export(all_shapes, GCS_FILE_PATH, 'shapes_initial')"
   ]
  },
  {
   "cell_type": "code",
   "execution_count": null,
   "id": "ed426836-ef12-42da-9147-29a25781145f",
   "metadata": {},
   "outputs": [],
   "source": [
    "# all_shapes.to_parquet('./working_shapes.parquet')\n",
    "all_shapes = gpd.read_parquet(f'{GCS_FILE_PATH}shapes_initial.parquet')"
   ]
  },
  {
   "cell_type": "code",
   "execution_count": null,
   "id": "eea30800-7299-433d-9d59-7f9ad1c238db",
   "metadata": {},
   "outputs": [],
   "source": [
    "all_shapes.head(3)"
   ]
  },
  {
   "cell_type": "markdown",
   "id": "5190b43a-11e6-44a7-8977-381e8a966bbd",
   "metadata": {},
   "source": [
    "### Categorize and intersect"
   ]
  },
  {
   "cell_type": "code",
   "execution_count": null,
   "id": "4151e559-6eae-46aa-ac8a-6200f5b53ad6",
   "metadata": {},
   "outputs": [],
   "source": [
    "## quick fix for invalid geometries?\n",
    "ces_df.geometry = ces_df.geometry.buffer(0)"
   ]
  },
  {
   "cell_type": "code",
   "execution_count": null,
   "id": "e1591713-7e6a-4e66-97c0-8b74f1a671d8",
   "metadata": {},
   "outputs": [],
   "source": [
    "category_dissolved = ces_df.dissolve(by='tract_type')"
   ]
  },
  {
   "cell_type": "code",
   "execution_count": null,
   "id": "e6c7477d-9c04-4586-9afb-f3773d113442",
   "metadata": {},
   "outputs": [],
   "source": [
    "def generate_shape_categories(shapes_df):\n",
    "    shapes_df = shapes_df.reset_index(drop=True)\n",
    "\n",
    "    urban = shapes_df.clip(category_dissolved.loc[['urban']])\n",
    "    suburban = shapes_df.clip(category_dissolved.loc[['suburban']])\n",
    "    rural = shapes_df.clip(category_dissolved.loc[['rural']])\n",
    "\n",
    "    shapes_df['pct_urban'] = urban.geometry.length / shapes_df.geometry.length\n",
    "    shapes_df['pct_suburban'] = suburban.geometry.length / shapes_df.geometry.length\n",
    "    shapes_df['pct_rural'] = rural.geometry.length / shapes_df.geometry.length\n",
    "\n",
    "    shapes_df['pct_max'] = shapes_df[['pct_urban', 'pct_suburban', 'pct_rural']].max(axis=1)\n",
    "    \n",
    "    return shapes_df"
   ]
  },
  {
   "cell_type": "code",
   "execution_count": null,
   "id": "94f1d6d3-e48f-4f2c-9efe-d36148776882",
   "metadata": {},
   "outputs": [],
   "source": [
    "def categorize_shape(row):\n",
    "    if row.pct_urban == row.pct_max:\n",
    "        row['tract_type'] = 'urban'\n",
    "    elif row.pct_suburban == row.pct_max:\n",
    "        row['tract_type'] = 'suburban'\n",
    "    elif row.pct_rural == row.pct_max:\n",
    "        row['tract_type'] = 'rural'\n",
    "    else:\n",
    "        row['tract_type'] = np.nan\n",
    "    return row"
   ]
  },
  {
   "cell_type": "code",
   "execution_count": null,
   "id": "4cc2b49f-fbd5-4184-9fae-9c3e81db1155",
   "metadata": {},
   "outputs": [],
   "source": [
    "# processed_shapes = generate_shape_categories(all_shapes)\n",
    "\n",
    "# processed_shapes = processed_shapes.apply(categorize_shape, axis=1)\n",
    "\n",
    "# shared_utils.utils.geoparquet_gcs_export(processed_shapes, GCS_FILE_PATH, 'shapes_processed')"
   ]
  },
  {
   "cell_type": "code",
   "execution_count": null,
   "id": "4118280b-a981-4215-bc13-40b27b09e4ea",
   "metadata": {},
   "outputs": [],
   "source": [
    "processed_shapes = gpd.read_parquet(f'{GCS_FILE_PATH}shapes_processed.parquet')"
   ]
  },
  {
   "cell_type": "code",
   "execution_count": null,
   "id": "73830c74-4f20-44f1-a7d1-e9b2d56fd8df",
   "metadata": {},
   "outputs": [],
   "source": [
    "processed_shapes.head(3)"
   ]
  },
  {
   "cell_type": "code",
   "execution_count": null,
   "id": "dade04a4-80fc-4439-8b8d-b8706a01998a",
   "metadata": {},
   "outputs": [],
   "source": [
    "processed_shapes = processed_shapes.set_index(['calitp_itp_id', 'shape_id'])"
   ]
  },
  {
   "cell_type": "code",
   "execution_count": null,
   "id": "c66f8267-6cce-4699-b852-9836abd65476",
   "metadata": {},
   "outputs": [],
   "source": [
    "service_funding_joined = service_funding_joined.set_index(['calitp_itp_id', 'shape_id'])"
   ]
  },
  {
   "cell_type": "code",
   "execution_count": null,
   "id": "faa1317a-aaa7-4dbe-91e6-f26ef4906d37",
   "metadata": {},
   "outputs": [],
   "source": [
    "frequency_funds_tracts = processed_shapes.join(service_funding_joined, how='inner').reset_index()"
   ]
  },
  {
   "cell_type": "code",
   "execution_count": null,
   "id": "958f6f4d-7dd0-47a5-9ab0-3c564c5e8fb9",
   "metadata": {},
   "outputs": [],
   "source": [
    "frequency_funds_tracts.head(3)"
   ]
  },
  {
   "cell_type": "markdown",
   "id": "f69eb5d6-c845-4f90-8ed5-6a0eff0d677a",
   "metadata": {},
   "source": [
    "### Refactored"
   ]
  },
  {
   "cell_type": "code",
   "execution_count": null,
   "id": "b6dada01-925f-4fb0-9716-f38933d671af",
   "metadata": {},
   "outputs": [],
   "source": [
    "## Filter 5AM to 9PM (best done here for performance)\n",
    "frequency_funds_tracts = frequency_funds_tracts >> filter(_.departure_hour > 4, _.departure_hour < 21)"
   ]
  },
  {
   "cell_type": "code",
   "execution_count": null,
   "id": "abe4059b-e7fd-4e5f-ac8b-1b5f3b6b93f4",
   "metadata": {},
   "outputs": [],
   "source": [
    "frequency_funds_tracts.departure_hour.unique()"
   ]
  },
  {
   "cell_type": "code",
   "execution_count": null,
   "id": "f0c88c4e-4b7b-454a-8a5b-3e61b07c9b39",
   "metadata": {},
   "outputs": [],
   "source": [
    "min_runtimes = frequency_funds_tracts.groupby(['calitp_itp_id', 'shape_id'])[['mean_runtime_min']].min()\n",
    "min_runtimes"
   ]
  },
  {
   "cell_type": "code",
   "execution_count": null,
   "id": "6a27d77f-c77a-4c1f-8512-35ede23c679b",
   "metadata": {},
   "outputs": [],
   "source": [
    "def fill_na_runtimes(row):\n",
    "    '''\n",
    "    If no service runs within an hour, assume runtime is minimum runtime for that service.\n",
    "    '''\n",
    "    if pd.isna(row.mean_runtime_min):\n",
    "        row['mean_runtime_min'] = min_runtimes.loc[ix[row.calitp_itp_id, row.shape_id]][0]\n",
    "    return row"
   ]
  },
  {
   "cell_type": "code",
   "execution_count": null,
   "id": "d9d6dfa3-1a81-45cf-aebd-4eb9d34f8619",
   "metadata": {},
   "outputs": [],
   "source": [
    "frequency_funds_tracts = frequency_funds_tracts.apply(fill_na_runtimes, axis = 1)"
   ]
  },
  {
   "cell_type": "code",
   "execution_count": null,
   "id": "e6dbcb40-792b-4f5d-8691-c43c5c90c80c",
   "metadata": {},
   "outputs": [],
   "source": [
    "frequency_funds_tracts.head(2)"
   ]
  },
  {
   "cell_type": "markdown",
   "id": "819c793a-1d97-48dc-824f-a54609bfb08e",
   "metadata": {},
   "source": [
    "## Single Function Difference"
   ]
  },
  {
   "cell_type": "code",
   "execution_count": null,
   "id": "c40bb284-e0c7-4572-8866-9c818c76045c",
   "metadata": {},
   "outputs": [],
   "source": [
    "target_frequencies = {'urban': 4, 'suburban': 2, 'rural': 1} ## {tract type: target trips per hour}"
   ]
  },
  {
   "cell_type": "code",
   "execution_count": null,
   "id": "06c7af3b-2161-486c-97ae-6827971af20d",
   "metadata": {},
   "outputs": [],
   "source": [
    "frequency_funds_tracts = frequency_funds_tracts.dropna(subset=['tract_type']) ## very few na"
   ]
  },
  {
   "cell_type": "code",
   "execution_count": null,
   "id": "c9ffacae-e65d-4568-8f16-c572a918d2b8",
   "metadata": {},
   "outputs": [],
   "source": [
    "def calculate_additonal_trips(row, target_frequencies):\n",
    "    if row.trips_per_hour < target_frequencies[row.tract_type]:\n",
    "        additional_trips = (target_frequencies[row.tract_type]\n",
    "                            - row.trips_per_hour)\n",
    "    else:\n",
    "        additional_trips = 0\n",
    "    row['additional_trips'] = additional_trips\n",
    "    return row"
   ]
  },
  {
   "cell_type": "code",
   "execution_count": null,
   "id": "43dba7dc-0afb-4153-b0a8-c803b1bd43be",
   "metadata": {},
   "outputs": [],
   "source": [
    "with_new_trips = frequency_funds_tracts.apply(calculate_additonal_trips, axis=1, args=(target_frequencies,))"
   ]
  },
  {
   "cell_type": "code",
   "execution_count": null,
   "id": "36066f92-65a3-4df7-b202-1e05dff6c482",
   "metadata": {},
   "outputs": [],
   "source": [
    "with_new_trips.head(3)"
   ]
  },
  {
   "cell_type": "code",
   "execution_count": null,
   "id": "db7a3fc1-d7c3-400c-a389-236e5b461f55",
   "metadata": {},
   "outputs": [],
   "source": [
    "def annualize(row, cols):\n",
    "    for col in cols:\n",
    "        if row.day_name == 'Thursday':\n",
    "            col_annualized = row[f'{col}'] * 260 ## weekdays in year\n",
    "        else:\n",
    "            col_annualized = row[f'{col}'] * 52 ## saturdays or sundays in year\n",
    "        row[f'{col}_annualized'] = col_annualized\n",
    "    return row"
   ]
  },
  {
   "cell_type": "code",
   "execution_count": null,
   "id": "5a88a0e6-652f-4efb-b8ac-31127a9a8c02",
   "metadata": {},
   "outputs": [],
   "source": [
    "with_new_trips['service_hrs'] = (with_new_trips['mean_runtime_min'] * with_new_trips['trips_per_hour']) / 60 ## divide minutes to hours\n",
    "with_new_trips['additional_service_hrs'] = (with_new_trips['mean_runtime_min'] * with_new_trips['additional_trips']) / 60"
   ]
  },
  {
   "cell_type": "code",
   "execution_count": null,
   "id": "d4ae2f1e-0dd0-41b5-baf0-08a2d47a3d02",
   "metadata": {},
   "outputs": [],
   "source": [
    "with_new_trips.shape"
   ]
  },
  {
   "cell_type": "code",
   "execution_count": null,
   "id": "89307134-0d5b-4aef-bab2-4739001f4cec",
   "metadata": {},
   "outputs": [],
   "source": [
    "with_new_trips = with_new_trips.apply(annualize, axis=1,\n",
    "                                      args=(['trips_per_hour', 'service_hrs',\n",
    "                                             'additional_trips', 'additional_service_hrs'],)) ## bit slow; ~10min to run"
   ]
  },
  {
   "cell_type": "code",
   "execution_count": null,
   "id": "4162c35e-46a1-4fa3-90eb-a3f09c9c2feb",
   "metadata": {},
   "outputs": [],
   "source": [
    "with_new_trips.head(3)"
   ]
  },
  {
   "cell_type": "code",
   "execution_count": null,
   "id": "fc3cd291-b87f-4420-9711-acf9b42825d1",
   "metadata": {},
   "outputs": [],
   "source": [
    "hours_by_operator = with_new_trips.groupby(['calitp_itp_id', 'tract_type'])[['additional_service_hrs_annualized']].sum()"
   ]
  },
  {
   "cell_type": "code",
   "execution_count": null,
   "id": "e4be6b59-b04c-431f-94e7-7044c805b5df",
   "metadata": {},
   "outputs": [],
   "source": [
    "hours_by_operator = hours_by_operator >> arrange(-_.additional_service_hrs_annualized)\n",
    "hours_by_operator['annual_service_cost'] = hours_by_operator['additional_service_hrs_annualized'] * 150 ## 85%ile for CA agencies in 2019 NTD"
   ]
  },
  {
   "cell_type": "code",
   "execution_count": null,
   "id": "8aaa5785-e4cf-4304-98b2-565ac56ea6ce",
   "metadata": {},
   "outputs": [],
   "source": [
    "hours_by_operator.groupby('tract_type')[['annual_service_cost', 'additional_service_hrs_annualized']].sum()"
   ]
  },
  {
   "cell_type": "code",
   "execution_count": null,
   "id": "a5cffda9-229f-49d2-b865-1179f2881271",
   "metadata": {},
   "outputs": [],
   "source": [
    "hours_by_operator['annual_service_cost'].sum() / 1e9"
   ]
  },
  {
   "cell_type": "code",
   "execution_count": null,
   "id": "1614d93a-51b2-49dd-a721-73cc37c3577d",
   "metadata": {},
   "outputs": [],
   "source": [
    "# opex_df = service_funding_joined.reset_index().drop_duplicates(['calitp_itp_id', 'operating_expenses_total_2019'])"
   ]
  },
  {
   "cell_type": "code",
   "execution_count": null,
   "id": "abc4d795-9278-4c54-9916-678179a74add",
   "metadata": {},
   "outputs": [],
   "source": [
    "## note these are existing hours for 5am-9pm span only\n",
    "existing_hours = with_new_trips.groupby(['calitp_itp_id', 'transit_provider'])[['service_hrs_annualized']].sum()\n",
    "existing_hours >> arrange(-_.service_hrs_annualized)"
   ]
  },
  {
   "cell_type": "code",
   "execution_count": null,
   "id": "30d2aff3-3d89-443c-83c4-a52b733d41e0",
   "metadata": {},
   "outputs": [],
   "source": [
    "## oh, we've filtered out a lot of overnight service! (hence the hour undercount and oddly high cost...)\n",
    "## OK for now since 85%ile cost seems fine, otherwise could re-run and group above..."
   ]
  },
  {
   "cell_type": "code",
   "execution_count": null,
   "id": "a9a1dae9-d0b5-4703-a98e-135093bda772",
   "metadata": {},
   "outputs": [],
   "source": [
    "# opex_joined = opex_df.set_index('calitp_itp_id').join(existing_hours)\n",
    "# opex_joined['cost_per_service_hr'] = opex_joined['operating_expenses_total_2019'] / opex_joined['service_hrs_annualized']\n",
    "# opex_joined"
   ]
  },
  {
   "cell_type": "markdown",
   "id": "b7284bd4-bd3d-4682-a7ea-cdc8cc3d47e0",
   "metadata": {},
   "source": [
    "### Bus Capital Expenditures"
   ]
  },
  {
   "cell_type": "code",
   "execution_count": null,
   "id": "3572e62d-61ab-4af1-85ec-5ee34ef8407d",
   "metadata": {},
   "outputs": [],
   "source": [
    "ntd_metrics_2019 = pd.read_csv(f\"{GCS_FILE_PATH}ntd_metrics_2019.csv\") >> filter(_.State == 'CA')"
   ]
  },
  {
   "cell_type": "code",
   "execution_count": null,
   "id": "613e4a1a-c109-4ac6-b9f8-eed10f4b16fe",
   "metadata": {},
   "outputs": [],
   "source": [
    "# ntd_metrics_2019.columns"
   ]
  },
  {
   "cell_type": "code",
   "execution_count": null,
   "id": "a8827891-7680-45c2-8b53-94f04d8706ec",
   "metadata": {
    "tags": []
   },
   "outputs": [],
   "source": [
    "ntd_metrics_2019 = ntd_metrics_2019[['Agency', 'NTD ID','Mode', 'Vehicle Revenue Hours']]\n",
    "ntd_metrics_2019.rename(columns={'NTD ID': 'ntd_id', 'Vehicle Revenue Hours': 'vrh'}, inplace=True)"
   ]
  },
  {
   "cell_type": "code",
   "execution_count": null,
   "id": "1205852a-ea3c-4bd6-a0a8-e609879c7d1b",
   "metadata": {},
   "outputs": [],
   "source": [
    "def fix_vrh(value):\n",
    "    if type(value) != str:\n",
    "        return None\n",
    "    else:\n",
    "        return value.replace(',', '').strip()"
   ]
  },
  {
   "cell_type": "code",
   "execution_count": null,
   "id": "556ed520-ea5b-4b37-95bf-1d1d5ea20dca",
   "metadata": {},
   "outputs": [],
   "source": [
    "ntd_metrics_2019['vrh'] = ntd_metrics_2019['vrh'].apply(fix_vrh).astype('int64')"
   ]
  },
  {
   "cell_type": "code",
   "execution_count": null,
   "id": "0069b473-e46a-43d6-9e3c-436a6af1978d",
   "metadata": {},
   "outputs": [],
   "source": [
    "ntd_metrics_2019"
   ]
  },
  {
   "cell_type": "code",
   "execution_count": null,
   "id": "833360e3-ffac-4f96-9b1e-10229ee11207",
   "metadata": {},
   "outputs": [],
   "source": [
    "bus_modes = ['CB', 'MB', 'RB', 'TB']"
   ]
  },
  {
   "cell_type": "code",
   "execution_count": null,
   "id": "1c7aca7e-6be5-4cb1-8250-6218bb3f5120",
   "metadata": {},
   "outputs": [],
   "source": [
    "total_vrh = ntd_metrics_2019 >> filter(_.Mode.isin(bus_modes)) >> group_by('Agency', 'ntd_id') >> summarize(total_vrh = _.vrh.sum())"
   ]
  },
  {
   "cell_type": "code",
   "execution_count": null,
   "id": "4bc1e2ee-6b86-4b71-ba8c-a4f9dced87cb",
   "metadata": {},
   "outputs": [],
   "source": [
    "total_vrh.head(3)"
   ]
  },
  {
   "cell_type": "code",
   "execution_count": null,
   "id": "74c9e44e-845f-4fa2-b82c-451317d6f51a",
   "metadata": {},
   "outputs": [],
   "source": [
    "ntd_vehicles_2019 = pd.read_csv(f\"{GCS_FILE_PATH}ntd_vehicles_2019.csv\") >> filter(_.State == 'CA')"
   ]
  },
  {
   "cell_type": "code",
   "execution_count": null,
   "id": "a56bd449-135f-4397-adc0-049be016ab5e",
   "metadata": {},
   "outputs": [],
   "source": [
    "ntd_vehicles = ntd_vehicles_2019[['NTD ID', 'Bus', 'Articulated Bus', 'Over-The-Road Bus',\n",
    "                                 'Double Decker Bus', 'Trolleybus']]\n",
    "ntd_vehicles.rename(columns={'NTD ID': 'ntd_id', 'Bus': 'bus', 'Articulated Bus': 'artic_bus',\n",
    "                            'Over-The-Road Bus': 'otr_bus', 'Double Decker Bus':'dbl_deck_bus',\n",
    "                            'Trolleybus': 'trolleybus'}, inplace=True)\n",
    "ntd_vehicles['bus'] = ntd_vehicles['bus'].str.replace(',', '')\n",
    "ntd_vehicles = ntd_vehicles.astype({'bus': 'int64', 'artic_bus': 'int64', 'otr_bus': 'int64',\n",
    "                                   'dbl_deck_bus': 'int64', 'trolleybus': 'int64'})"
   ]
  },
  {
   "cell_type": "code",
   "execution_count": null,
   "id": "6de231f7-2811-45fd-ba78-c11ab7390680",
   "metadata": {},
   "outputs": [],
   "source": [
    "ntd_joined = ntd_vehicles >> inner_join(_, total_vrh, on='ntd_id')"
   ]
  },
  {
   "cell_type": "code",
   "execution_count": null,
   "id": "79ac1719-5b5b-4f33-bccb-74d35037a735",
   "metadata": {},
   "outputs": [],
   "source": [
    "ntd_joined['total_buses'] = ntd_joined[['bus', 'artic_bus', 'otr_bus', 'dbl_deck_bus', 'trolleybus']].sum(axis=1)"
   ]
  },
  {
   "cell_type": "code",
   "execution_count": null,
   "id": "3f8529da-2cc8-4479-b4cf-2e507e5d537c",
   "metadata": {},
   "outputs": [],
   "source": [
    "ntd_joined = ntd_joined[ntd_joined['total_buses'] > 5] ## filter outliers with very small fleets"
   ]
  },
  {
   "cell_type": "code",
   "execution_count": null,
   "id": "3b618120-748c-4fd9-9d0d-5c6cc93ec3ab",
   "metadata": {},
   "outputs": [],
   "source": [
    "ntd_joined['vrh_per_bus'] = ntd_joined['total_vrh'] / ntd_joined['total_buses']"
   ]
  },
  {
   "cell_type": "code",
   "execution_count": null,
   "id": "3fc4253f-7a7a-4ee4-afd1-858d4c1e27a9",
   "metadata": {},
   "outputs": [],
   "source": [
    "ntd_joined['vrh_per_bus'].median()"
   ]
  },
  {
   "cell_type": "code",
   "execution_count": null,
   "id": "c6176e6a-fa28-44a9-a92a-7b93366d1e37",
   "metadata": {},
   "outputs": [],
   "source": [
    "ntd_joined[['total_vrh', 'vrh_per_bus']].plot(x='total_vrh', y='vrh_per_bus', kind='scatter')"
   ]
  },
  {
   "cell_type": "code",
   "execution_count": null,
   "id": "8ce1a60e-d0e3-4f89-8524-d12e2fc8ac76",
   "metadata": {},
   "outputs": [],
   "source": [
    "ntd_joined >> arrange(-_.vrh_per_bus)"
   ]
  },
  {
   "cell_type": "markdown",
   "id": "062c5ea9-1cbe-4232-bc06-e990f72fc030",
   "metadata": {},
   "source": [
    "### Methodology notes\n",
    "\n",
    "* filtered to buses\n",
    "* all 2019 NTD data\n",
    "* using 12 year useful life\n",
    "* bus cost:\n",
    "    * based on CARB Innovative Clean Transit cost model for a 40', 550kWh electric bus in 2022\n",
    "    * Inclusive of charger and maintenance infrastructure upgrades, but not potential land aquisition costs for expanded facilities."
   ]
  },
  {
   "cell_type": "code",
   "execution_count": null,
   "id": "b2eae10d-21db-4742-90a8-56c70216196d",
   "metadata": {},
   "outputs": [],
   "source": [
    "hours_by_operator"
   ]
  },
  {
   "cell_type": "code",
   "execution_count": null,
   "id": "0130b5a5-80c3-4970-af35-699cd95b89dc",
   "metadata": {},
   "outputs": [],
   "source": [
    "bus_cost = 776941 ## https://ww2.arb.ca.gov/resources/documents/transit-fleet-cost-model"
   ]
  },
  {
   "cell_type": "code",
   "execution_count": null,
   "id": "2e72a55c-3604-4d2f-82ed-2d9fe0746663",
   "metadata": {},
   "outputs": [],
   "source": [
    "median_vrh_per_bus = ntd_joined['vrh_per_bus'].median()"
   ]
  },
  {
   "cell_type": "code",
   "execution_count": null,
   "id": "67dbbf3a-9554-470e-a7ec-6e0c42ff0ba0",
   "metadata": {},
   "outputs": [],
   "source": [
    "hours_by_operator['additional_buses'] = hours_by_operator['additional_service_hrs_annualized'] / median_vrh_per_bus"
   ]
  },
  {
   "cell_type": "code",
   "execution_count": null,
   "id": "00c42596-7331-451c-96b8-f4e5f66a6e06",
   "metadata": {},
   "outputs": [],
   "source": [
    "hours_by_operator['bus_capex'] = hours_by_operator['additional_buses'] * bus_cost"
   ]
  },
  {
   "cell_type": "code",
   "execution_count": null,
   "id": "3f77b96f-82bf-46a2-bea9-327c7c28740c",
   "metadata": {},
   "outputs": [],
   "source": [
    "hours_by_operator['bus_capex_annualized'] = hours_by_operator['bus_capex'] / 14 ## 14 year service life"
   ]
  },
  {
   "cell_type": "code",
   "execution_count": null,
   "id": "46b39a08-8857-4725-8f75-e300e453ca04",
   "metadata": {},
   "outputs": [],
   "source": [
    "hours_by_operator"
   ]
  },
  {
   "cell_type": "code",
   "execution_count": null,
   "id": "db35ca89-4ae6-413a-8704-d612d5c9f531",
   "metadata": {},
   "outputs": [],
   "source": [
    "hours_by_operator.groupby('tract_type').sum()"
   ]
  },
  {
   "cell_type": "code",
   "execution_count": null,
   "id": "2086d777-52a0-4197-887d-8e63642fe8a8",
   "metadata": {},
   "outputs": [],
   "source": [
    "hours_by_operator.sum()"
   ]
  },
  {
   "cell_type": "markdown",
   "id": "327820e6-19b3-4ec6-b600-ea426d94c0fd",
   "metadata": {},
   "source": [
    "### Sandbox"
   ]
  },
  {
   "cell_type": "code",
   "execution_count": null,
   "id": "baa3272e-0927-409d-b89c-5d776c6fadee",
   "metadata": {},
   "outputs": [],
   "source": [
    "# tbl.transitstacks.provider_info() >> select(_.calitp_itp_id == _.itp_id, _.ntd_id) >> collect() >> inner_join(_, ntd_joined, on='ntd_id')"
   ]
  }
 ],
 "metadata": {
  "kernelspec": {
   "display_name": "Python 3 (ipykernel)",
   "language": "python",
   "name": "python3"
  },
  "language_info": {
   "codemirror_mode": {
    "name": "ipython",
    "version": 3
   },
   "file_extension": ".py",
   "mimetype": "text/x-python",
   "name": "python",
   "nbconvert_exporter": "python",
   "pygments_lexer": "ipython3",
   "version": "3.9.7"
  }
 },
 "nbformat": 4,
 "nbformat_minor": 5
}
