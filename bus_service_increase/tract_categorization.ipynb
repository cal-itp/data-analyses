{
 "cells": [
  {
   "cell_type": "code",
   "execution_count": 1,
   "id": "fda96150-e931-4346-a85a-95741bd1c06e",
   "metadata": {},
   "outputs": [
    {
     "name": "stderr",
     "output_type": "stream",
     "text": [
      "/opt/conda/lib/python3.9/site-packages/geopandas/_compat.py:111: UserWarning: The Shapely GEOS version (3.9.1-CAPI-1.14.2) is incompatible with the GEOS version PyGEOS was compiled with (3.10.1-CAPI-1.16.0). Conversions between both will be slow.\n",
      "  warnings.warn(\n"
     ]
    }
   ],
   "source": [
    "import calitp\n",
    "from calitp.tables import tbl\n",
    "from siuba import *\n",
    "\n",
    "import pandas as pd\n",
    "ix = pd.IndexSlice\n",
    "import numpy as np\n",
    "import geopandas as gpd\n",
    "\n",
    "from calenviroscreen_utils import *\n",
    "from utils import *\n",
    "import prep_data\n",
    "import shared_utils\n",
    "\n",
    "import shapely\n",
    "from shapely.geometry import LineString\n",
    "\n",
    "import os\n",
    "from calitp.storage import get_fs\n",
    "fs = get_fs()"
   ]
  },
  {
   "cell_type": "code",
   "execution_count": 2,
   "id": "675c695e-898f-44b5-a5aa-496941cd4f6d",
   "metadata": {},
   "outputs": [],
   "source": [
    "ces_df = prep_data.generate_calenviroscreen_lehd_data(prep_data.datasets)"
   ]
  },
  {
   "cell_type": "code",
   "execution_count": 3,
   "id": "2553a59e-dc0c-4018-a3ca-85dcf3d636a7",
   "metadata": {},
   "outputs": [],
   "source": [
    "ces_df['tract_type'] = ces_df['pop_sq_mi'].apply(lambda x: 'urban' if x > 2400 else 'suburban' if x > 800 else 'rural')"
   ]
  },
  {
   "cell_type": "code",
   "execution_count": 4,
   "id": "1923e674-cccb-415c-a12e-c2284041af14",
   "metadata": {},
   "outputs": [],
   "source": [
    "service_funding_joined = pd.read_parquet(f\"{GCS_FILE_PATH}shape_frequency_funding.parquet\")"
   ]
  },
  {
   "cell_type": "code",
   "execution_count": 5,
   "id": "b90f2d08-b02a-4cc1-b857-d5af7dff663e",
   "metadata": {},
   "outputs": [
    {
     "data": {
      "text/html": [
       "<div>\n",
       "<style scoped>\n",
       "    .dataframe tbody tr th:only-of-type {\n",
       "        vertical-align: middle;\n",
       "    }\n",
       "\n",
       "    .dataframe tbody tr th {\n",
       "        vertical-align: top;\n",
       "    }\n",
       "\n",
       "    .dataframe thead th {\n",
       "        text-align: right;\n",
       "    }\n",
       "</style>\n",
       "<table border=\"1\" class=\"dataframe\">\n",
       "  <thead>\n",
       "    <tr style=\"text-align: right;\">\n",
       "      <th></th>\n",
       "      <th>calitp_itp_id</th>\n",
       "      <th>ntd_id</th>\n",
       "      <th>transit_provider</th>\n",
       "      <th>_5307_funds</th>\n",
       "      <th>_5311_funds</th>\n",
       "      <th>operating_expenses_total_2019</th>\n",
       "      <th>shape_id</th>\n",
       "      <th>day_name</th>\n",
       "      <th>departure_hour</th>\n",
       "      <th>route_id</th>\n",
       "      <th>trips_per_hour</th>\n",
       "      <th>mean_runtime_min</th>\n",
       "    </tr>\n",
       "  </thead>\n",
       "  <tbody>\n",
       "    <tr>\n",
       "      <th>0</th>\n",
       "      <td>257</td>\n",
       "      <td>None</td>\n",
       "      <td>PresidioGo Shuttle</td>\n",
       "      <td>0.0</td>\n",
       "      <td>NaN</td>\n",
       "      <td>0.0</td>\n",
       "      <td>13737</td>\n",
       "      <td>Thursday</td>\n",
       "      <td>0</td>\n",
       "      <td>66</td>\n",
       "      <td>0</td>\n",
       "      <td>NaN</td>\n",
       "    </tr>\n",
       "    <tr>\n",
       "      <th>1</th>\n",
       "      <td>257</td>\n",
       "      <td>None</td>\n",
       "      <td>PresidioGo Shuttle</td>\n",
       "      <td>0.0</td>\n",
       "      <td>NaN</td>\n",
       "      <td>0.0</td>\n",
       "      <td>13737</td>\n",
       "      <td>Thursday</td>\n",
       "      <td>1</td>\n",
       "      <td>66</td>\n",
       "      <td>0</td>\n",
       "      <td>NaN</td>\n",
       "    </tr>\n",
       "    <tr>\n",
       "      <th>2</th>\n",
       "      <td>257</td>\n",
       "      <td>None</td>\n",
       "      <td>PresidioGo Shuttle</td>\n",
       "      <td>0.0</td>\n",
       "      <td>NaN</td>\n",
       "      <td>0.0</td>\n",
       "      <td>13737</td>\n",
       "      <td>Thursday</td>\n",
       "      <td>2</td>\n",
       "      <td>66</td>\n",
       "      <td>0</td>\n",
       "      <td>NaN</td>\n",
       "    </tr>\n",
       "  </tbody>\n",
       "</table>\n",
       "</div>"
      ],
      "text/plain": [
       "   calitp_itp_id ntd_id    transit_provider  _5307_funds  _5311_funds  \\\n",
       "0            257   None  PresidioGo Shuttle          0.0          NaN   \n",
       "1            257   None  PresidioGo Shuttle          0.0          NaN   \n",
       "2            257   None  PresidioGo Shuttle          0.0          NaN   \n",
       "\n",
       "   operating_expenses_total_2019 shape_id  day_name  departure_hour route_id  \\\n",
       "0                            0.0    13737  Thursday               0       66   \n",
       "1                            0.0    13737  Thursday               1       66   \n",
       "2                            0.0    13737  Thursday               2       66   \n",
       "\n",
       "   trips_per_hour  mean_runtime_min  \n",
       "0               0               NaN  \n",
       "1               0               NaN  \n",
       "2               0               NaN  "
      ]
     },
     "execution_count": 5,
     "metadata": {},
     "output_type": "execute_result"
    }
   ],
   "source": [
    "service_funding_joined.head(3)"
   ]
  },
  {
   "cell_type": "code",
   "execution_count": 6,
   "id": "70be0cc7-1527-49b7-9340-d8c0f7e19a2c",
   "metadata": {},
   "outputs": [],
   "source": [
    "dates = get_recent_dates()\n",
    "min_date = min(dates.values())\n",
    "max_date = max(dates.values())"
   ]
  },
  {
   "cell_type": "code",
   "execution_count": 7,
   "id": "dfd37e81-2b3c-432e-bd80-0e1b990ec7d2",
   "metadata": {
    "tags": []
   },
   "outputs": [],
   "source": [
    "def line_from_shape(df):\n",
    "    '''\n",
    "    Convert a sequence of shape points for a single gtfs shape into a linestring geometry.\n",
    "    '''\n",
    "    try:\n",
    "        assert df.size > 1, f'no geometry for shape {df.shape_id.iloc[0]}'\n",
    "        df.shape_pt_sequence = df.shape_pt_sequence.astype('int64')\n",
    "        df.sort_values(by='shape_pt_sequence', inplace=True) ##arrange, then convert to line to preserve order...\n",
    "        route_line = LineString(list(df['geometry']))\n",
    "        df['route_line'] = route_line\n",
    "        return df\n",
    "    except AssertionError as err:\n",
    "        print(err)\n",
    "        return df"
   ]
  },
  {
   "cell_type": "code",
   "execution_count": 8,
   "id": "7b362d3a-48e6-4419-8097-bdbe34dff568",
   "metadata": {
    "tags": []
   },
   "outputs": [],
   "source": [
    "def get_process_shapes():\n",
    "    all_shapes = gpd.GeoDataFrame()\n",
    "    for operator in service_funding_joined.calitp_itp_id.unique():\n",
    "\n",
    "        print(operator)\n",
    "        try:\n",
    "\n",
    "            shapes = (tbl.gtfs_schedule.shapes()\n",
    "                      >> select(_.calitp_itp_id, _.shape_id, _.shape_pt_lat, _.shape_pt_lon,\n",
    "                               _.shape_pt_sequence)\n",
    "                      >> filter(_.calitp_itp_id == int(operator))\n",
    "                      >> collect()\n",
    "                     )\n",
    "            shapes_geo = gpd.GeoDataFrame(shapes, \n",
    "                                  geometry = gpd.points_from_xy(shapes.shape_pt_lon, shapes.shape_pt_lat),\n",
    "                                  crs = 'EPSG:4326').to_crs('EPSG:3310') ## https://epsg.io/3310 (meters)\n",
    "            shape_lined = shapes_geo.groupby(['calitp_itp_id', 'shape_id']).apply(line_from_shape).reset_index(drop=True)\n",
    "            shape_lined = shape_lined.drop_duplicates(subset=['shape_id'])\n",
    "            shape_lined = shape_lined[['calitp_itp_id', 'shape_id', 'route_line']]\n",
    "            shape_lined = gpd.GeoDataFrame(shape_lined, geometry=shape_lined['route_line'], crs='EPSG:3310')\n",
    "            shape_lined = shape_lined.drop(columns=['route_line'])\n",
    "            all_shapes = all_shapes.append(shape_lined)\n",
    "        except:\n",
    "            print(f'failed for operator {operator}')\n",
    "    return all_shapes"
   ]
  },
  {
   "cell_type": "code",
   "execution_count": 9,
   "id": "c5aa5ab7-210b-442b-a09b-e7bb0b92e632",
   "metadata": {},
   "outputs": [],
   "source": [
    "# all_shapes = get_process_shapes()"
   ]
  },
  {
   "cell_type": "code",
   "execution_count": 10,
   "id": "c3033048-07ca-4aa4-9ca1-08e4bcd4dad0",
   "metadata": {},
   "outputs": [],
   "source": [
    "# shared_utils.utils.geoparquet_gcs_export(all_shapes, GCS_FILE_PATH, 'shapes_initial')"
   ]
  },
  {
   "cell_type": "code",
   "execution_count": 11,
   "id": "ed426836-ef12-42da-9147-29a25781145f",
   "metadata": {},
   "outputs": [],
   "source": [
    "# all_shapes.to_parquet('./working_shapes.parquet')\n",
    "all_shapes = gpd.read_parquet(f'{GCS_FILE_PATH}shapes_initial.parquet')"
   ]
  },
  {
   "cell_type": "code",
   "execution_count": 12,
   "id": "eea30800-7299-433d-9d59-7f9ad1c238db",
   "metadata": {},
   "outputs": [
    {
     "data": {
      "text/html": [
       "<div>\n",
       "<style scoped>\n",
       "    .dataframe tbody tr th:only-of-type {\n",
       "        vertical-align: middle;\n",
       "    }\n",
       "\n",
       "    .dataframe tbody tr th {\n",
       "        vertical-align: top;\n",
       "    }\n",
       "\n",
       "    .dataframe thead th {\n",
       "        text-align: right;\n",
       "    }\n",
       "</style>\n",
       "<table border=\"1\" class=\"dataframe\">\n",
       "  <thead>\n",
       "    <tr style=\"text-align: right;\">\n",
       "      <th></th>\n",
       "      <th>calitp_itp_id</th>\n",
       "      <th>shape_id</th>\n",
       "      <th>geometry</th>\n",
       "    </tr>\n",
       "  </thead>\n",
       "  <tbody>\n",
       "    <tr>\n",
       "      <th>0</th>\n",
       "      <td>257</td>\n",
       "      <td>13737</td>\n",
       "      <td>LINESTRING (-216058.966 -21114.229, -216058.96...</td>\n",
       "    </tr>\n",
       "    <tr>\n",
       "      <th>344</th>\n",
       "      <td>257</td>\n",
       "      <td>13738</td>\n",
       "      <td>LINESTRING (-216058.966 -21114.229, -216058.96...</td>\n",
       "    </tr>\n",
       "    <tr>\n",
       "      <th>0</th>\n",
       "      <td>259</td>\n",
       "      <td>p_110998</td>\n",
       "      <td>LINESTRING (-194070.739 270848.067, -194110.74...</td>\n",
       "    </tr>\n",
       "  </tbody>\n",
       "</table>\n",
       "</div>"
      ],
      "text/plain": [
       "     calitp_itp_id  shape_id  \\\n",
       "0              257     13737   \n",
       "344            257     13738   \n",
       "0              259  p_110998   \n",
       "\n",
       "                                              geometry  \n",
       "0    LINESTRING (-216058.966 -21114.229, -216058.96...  \n",
       "344  LINESTRING (-216058.966 -21114.229, -216058.96...  \n",
       "0    LINESTRING (-194070.739 270848.067, -194110.74...  "
      ]
     },
     "execution_count": 12,
     "metadata": {},
     "output_type": "execute_result"
    }
   ],
   "source": [
    "all_shapes.head(3)"
   ]
  },
  {
   "cell_type": "markdown",
   "id": "5190b43a-11e6-44a7-8977-381e8a966bbd",
   "metadata": {},
   "source": [
    "### Categorize and intersect"
   ]
  },
  {
   "cell_type": "code",
   "execution_count": 13,
   "id": "4151e559-6eae-46aa-ac8a-6200f5b53ad6",
   "metadata": {},
   "outputs": [],
   "source": [
    "## quick fix for invalid geometries?\n",
    "ces_df.geometry = ces_df.geometry.buffer(0)"
   ]
  },
  {
   "cell_type": "code",
   "execution_count": 14,
   "id": "e1591713-7e6a-4e66-97c0-8b74f1a671d8",
   "metadata": {},
   "outputs": [],
   "source": [
    "category_dissolved = ces_df.dissolve(by='tract_type')"
   ]
  },
  {
   "cell_type": "code",
   "execution_count": 15,
   "id": "e6c7477d-9c04-4586-9afb-f3773d113442",
   "metadata": {},
   "outputs": [],
   "source": [
    "def generate_shape_categories(shapes_df):\n",
    "    shapes_df = shapes_df.reset_index(drop=True)\n",
    "\n",
    "    urban = shapes_df.clip(category_dissolved.loc[['urban']])\n",
    "    suburban = shapes_df.clip(category_dissolved.loc[['suburban']])\n",
    "    rural = shapes_df.clip(category_dissolved.loc[['rural']])\n",
    "\n",
    "    shapes_df['pct_urban'] = urban.geometry.length / shapes_df.geometry.length\n",
    "    shapes_df['pct_suburban'] = suburban.geometry.length / shapes_df.geometry.length\n",
    "    shapes_df['pct_rural'] = rural.geometry.length / shapes_df.geometry.length\n",
    "\n",
    "    shapes_df['pct_max'] = shapes_df[['pct_urban', 'pct_suburban', 'pct_rural']].max(axis=1)\n",
    "    \n",
    "    return shapes_df"
   ]
  },
  {
   "cell_type": "code",
   "execution_count": 16,
   "id": "94f1d6d3-e48f-4f2c-9efe-d36148776882",
   "metadata": {},
   "outputs": [],
   "source": [
    "def categorize_shape(row):\n",
    "    if row.pct_urban == row.pct_max:\n",
    "        row['tract_type'] = 'urban'\n",
    "    elif row.pct_suburban == row.pct_max:\n",
    "        row['tract_type'] = 'suburban'\n",
    "    elif row.pct_rural == row.pct_max:\n",
    "        row['tract_type'] = 'rural'\n",
    "    else:\n",
    "        row['tract_type'] = np.nan\n",
    "    return row"
   ]
  },
  {
   "cell_type": "code",
   "execution_count": 17,
   "id": "4cc2b49f-fbd5-4184-9fae-9c3e81db1155",
   "metadata": {},
   "outputs": [],
   "source": [
    "# processed_shapes = generate_shape_categories(all_shapes)\n",
    "\n",
    "# processed_shapes = processed_shapes.apply(categorize_shape, axis=1)\n",
    "\n",
    "# shared_utils.utils.geoparquet_gcs_export(processed_shapes, GCS_FILE_PATH, 'shapes_processed')"
   ]
  },
  {
   "cell_type": "code",
   "execution_count": 18,
   "id": "4118280b-a981-4215-bc13-40b27b09e4ea",
   "metadata": {},
   "outputs": [],
   "source": [
    "processed_shapes = gpd.read_parquet(f'{GCS_FILE_PATH}shapes_processed.parquet')"
   ]
  },
  {
   "cell_type": "code",
   "execution_count": 19,
   "id": "73830c74-4f20-44f1-a7d1-e9b2d56fd8df",
   "metadata": {},
   "outputs": [
    {
     "data": {
      "text/html": [
       "<div>\n",
       "<style scoped>\n",
       "    .dataframe tbody tr th:only-of-type {\n",
       "        vertical-align: middle;\n",
       "    }\n",
       "\n",
       "    .dataframe tbody tr th {\n",
       "        vertical-align: top;\n",
       "    }\n",
       "\n",
       "    .dataframe thead th {\n",
       "        text-align: right;\n",
       "    }\n",
       "</style>\n",
       "<table border=\"1\" class=\"dataframe\">\n",
       "  <thead>\n",
       "    <tr style=\"text-align: right;\">\n",
       "      <th></th>\n",
       "      <th>calitp_itp_id</th>\n",
       "      <th>shape_id</th>\n",
       "      <th>geometry</th>\n",
       "      <th>pct_urban</th>\n",
       "      <th>pct_suburban</th>\n",
       "      <th>pct_rural</th>\n",
       "      <th>pct_max</th>\n",
       "      <th>tract_type</th>\n",
       "    </tr>\n",
       "  </thead>\n",
       "  <tbody>\n",
       "    <tr>\n",
       "      <th>0</th>\n",
       "      <td>257</td>\n",
       "      <td>13737</td>\n",
       "      <td>LINESTRING (-216058.966 -21114.229, -216058.96...</td>\n",
       "      <td>0.799793</td>\n",
       "      <td>0.165513</td>\n",
       "      <td>NaN</td>\n",
       "      <td>0.799793</td>\n",
       "      <td>urban</td>\n",
       "    </tr>\n",
       "    <tr>\n",
       "      <th>1</th>\n",
       "      <td>257</td>\n",
       "      <td>13738</td>\n",
       "      <td>LINESTRING (-216058.966 -21114.229, -216058.96...</td>\n",
       "      <td>NaN</td>\n",
       "      <td>1.000000</td>\n",
       "      <td>NaN</td>\n",
       "      <td>1.000000</td>\n",
       "      <td>suburban</td>\n",
       "    </tr>\n",
       "    <tr>\n",
       "      <th>2</th>\n",
       "      <td>259</td>\n",
       "      <td>p_110998</td>\n",
       "      <td>LINESTRING (-194070.739 270848.067, -194110.74...</td>\n",
       "      <td>NaN</td>\n",
       "      <td>0.591538</td>\n",
       "      <td>0.40818</td>\n",
       "      <td>0.591538</td>\n",
       "      <td>suburban</td>\n",
       "    </tr>\n",
       "  </tbody>\n",
       "</table>\n",
       "</div>"
      ],
      "text/plain": [
       "   calitp_itp_id  shape_id                                           geometry  \\\n",
       "0            257     13737  LINESTRING (-216058.966 -21114.229, -216058.96...   \n",
       "1            257     13738  LINESTRING (-216058.966 -21114.229, -216058.96...   \n",
       "2            259  p_110998  LINESTRING (-194070.739 270848.067, -194110.74...   \n",
       "\n",
       "   pct_urban  pct_suburban  pct_rural   pct_max tract_type  \n",
       "0   0.799793      0.165513        NaN  0.799793      urban  \n",
       "1        NaN      1.000000        NaN  1.000000   suburban  \n",
       "2        NaN      0.591538    0.40818  0.591538   suburban  "
      ]
     },
     "execution_count": 19,
     "metadata": {},
     "output_type": "execute_result"
    }
   ],
   "source": [
    "processed_shapes.head(3)"
   ]
  }
 ],
 "metadata": {
  "kernelspec": {
   "display_name": "Python 3 (ipykernel)",
   "language": "python",
   "name": "python3"
  },
  "language_info": {
   "codemirror_mode": {
    "name": "ipython",
    "version": 3
   },
   "file_extension": ".py",
   "mimetype": "text/x-python",
   "name": "python",
   "nbconvert_exporter": "python",
   "pygments_lexer": "ipython3",
   "version": "3.9.7"
  }
 },
 "nbformat": 4,
 "nbformat_minor": 5
}
