{
 "cells": [
  {
   "cell_type": "code",
   "execution_count": 1,
   "id": "fda96150-e931-4346-a85a-95741bd1c06e",
   "metadata": {},
   "outputs": [],
   "source": [
    "import calitp\n",
    "from calitp.tables import tbl\n",
    "from siuba import *\n",
    "\n",
    "import pandas as pd\n",
    "import numpy as np\n",
    "import geopandas as gpd"
   ]
  },
  {
   "cell_type": "code",
   "execution_count": 15,
   "id": "8b029634-c056-46c5-bed1-2ccb62164b93",
   "metadata": {},
   "outputs": [],
   "source": [
    "calenviroscreen = gpd.read_file('./calenviroscreen40shp_F_2021/CES4_final.shp')"
   ]
  },
  {
   "cell_type": "code",
   "execution_count": 16,
   "id": "9a112241-9858-45b0-9055-e644d13e80a5",
   "metadata": {},
   "outputs": [],
   "source": [
    "calenviroscreen['Tract'] = calenviroscreen['Tract'].apply(lambda x: '0' + str(x)[:-2]) ##fix tract id"
   ]
  },
  {
   "cell_type": "code",
   "execution_count": 19,
   "id": "16182814-8c67-4500-98ca-681cb0d22a62",
   "metadata": {},
   "outputs": [
    {
     "data": {
      "text/plain": [
       "<Projected CRS: EPSG:3310>\n",
       "Name: NAD83 / California Albers\n",
       "Axis Info [cartesian]:\n",
       "- X[east]: Easting (metre)\n",
       "- Y[north]: Northing (metre)\n",
       "Area of Use:\n",
       "- name: United States (USA) - California.\n",
       "- bounds: (-124.45, 32.53, -114.12, 42.01)\n",
       "Coordinate Operation:\n",
       "- name: California Albers\n",
       "- method: Albers Equal Area\n",
       "Datum: North American Datum 1983\n",
       "- Ellipsoid: GRS 1980\n",
       "- Prime Meridian: Greenwich"
      ]
     },
     "execution_count": 19,
     "metadata": {},
     "output_type": "execute_result"
    }
   ],
   "source": [
    "calenviroscreen.crs"
   ]
  },
  {
   "cell_type": "code",
   "execution_count": 17,
   "id": "db870620-053b-4537-96e6-975e5f00e3c2",
   "metadata": {},
   "outputs": [],
   "source": [
    "sq_mi_per_sq_m = 3.86 * 10**-7\n",
    "calenviroscreen['sq_mi'] = calenviroscreen['geometry'].area * sq_mi_per_sq_m\n",
    "calenviroscreen['pop_sq_mi'] = calenviroscreen['Population'] / calenviroscreen['sq_mi']"
   ]
  },
  {
   "cell_type": "code",
   "execution_count": null,
   "id": "25ecfc53-2cdc-47fd-a8de-c20ef2799a38",
   "metadata": {},
   "outputs": [],
   "source": []
  }
 ],
 "metadata": {
  "kernelspec": {
   "display_name": "Python 3 (ipykernel)",
   "language": "python",
   "name": "python3"
  },
  "language_info": {
   "codemirror_mode": {
    "name": "ipython",
    "version": 3
   },
   "file_extension": ".py",
   "mimetype": "text/x-python",
   "name": "python",
   "nbconvert_exporter": "python",
   "pygments_lexer": "ipython3",
   "version": "3.9.7"
  }
 },
 "nbformat": 4,
 "nbformat_minor": 5
}
