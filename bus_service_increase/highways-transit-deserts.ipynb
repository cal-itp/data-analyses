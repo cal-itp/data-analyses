{
 "cells": [
  {
   "cell_type": "markdown",
   "id": "c9f8e859-3ef4-4716-845a-9c6176ca3700",
   "metadata": {
    "papermill": {
     "duration": 0.008223,
     "end_time": "2022-05-16T14:46:42.585735",
     "exception": false,
     "start_time": "2022-05-16T14:46:42.577512",
     "status": "completed"
    },
    "tags": []
   },
   "source": [
    "# Highways that are Transit Deserts\n",
    "\n",
    "These highway corridors have a dearth of bus transit service. \n",
    "\n",
    "## Criteria\n",
    "* 10-mile corridors \n",
    "* No transit routes are found within 2 miles of the highway."
   ]
  },
  {
   "cell_type": "code",
   "execution_count": null,
   "id": "7b0944d0-759a-4fd3-b05a-548ce16471a4",
   "metadata": {
    "papermill": {
     "duration": 6.726985,
     "end_time": "2022-05-16T14:46:49.340632",
     "exception": false,
     "start_time": "2022-05-16T14:46:42.613647",
     "status": "completed"
    },
    "tags": []
   },
   "outputs": [],
   "source": [
    "%%capture\n",
    "import warnings\n",
    "warnings.filterwarnings('ignore')\n",
    "\n",
    "import branca\n",
    "import geopandas as gpd\n",
    "import intake\n",
    "import pandas as pd\n",
    "\n",
    "from IPython.display import Markdown, HTML\n",
    "\n",
    "from shared_utils import geography_utils\n",
    "\n",
    "import E1_get_buses_on_shn as get_buses_on_shn\n",
    "import E4_highway_segments_stats as highway_utils\n",
    "\n",
    "catalog = intake.open_catalog(\"./*.yml\")"
   ]
  },
  {
   "cell_type": "code",
   "execution_count": null,
   "id": "76e7feb0-cd5a-44d1-86d9-53083dc9f27c",
   "metadata": {},
   "outputs": [],
   "source": [
    "def find_hwy_segments_no_buses(bus_routes: gpd.GeoDataFrame, \n",
    "                               segment_distance: int) -> gpd.GeoDataFrame: \n",
    "\n",
    "    highway_segments = get_buses_on_shn.cut_highway_segments(segment_distance)\n",
    "\n",
    "    # Get a 2 mile buffer around highway 10 mi segments\n",
    "    highway_polygon = highway_utils.draw_buffer(\n",
    "        highway_segments, \n",
    "        geography_utils.FEET_PER_MI * 2)\n",
    "\n",
    "    # Find which highway segments have buses\n",
    "    hwys_with_buses = highway_utils.sjoin_bus_routes_to_hwy_segments(\n",
    "        highway_polygon, bus_routes\n",
    "    )\n",
    "    \n",
    "    # Now, get the converse of that. Find highways without buses.\n",
    "    # Do a merge this way and keep left_only to be safe\n",
    "    highway_segments2 = pd.merge(\n",
    "        highway_segments,\n",
    "        hwys_with_buses[[\"hwy_segment_id\"]].drop_duplicates(),\n",
    "        how = \"left\",\n",
    "        validate = \"1:1\",\n",
    "        indicator=True\n",
    "    )\n",
    "    \n",
    "    no_buses = (highway_segments2[highway_segments2._merge==\"left_only\"]\n",
    "                .drop(columns = \"_merge\")\n",
    "               )\n",
    "\n",
    "    no_buses2 = highway_utils.remove_too_short_segments(no_buses, segment_distance)\n",
    "                                                                           \n",
    "    return no_buses2\n"
   ]
  },
  {
   "cell_type": "code",
   "execution_count": null,
   "id": "690bcb98-8e8a-4076-b6d3-cfdc0831344c",
   "metadata": {},
   "outputs": [],
   "source": [
    "# Use bus routes with 1.5x competitive cutoff\n",
    "bus_routes = catalog.bus_routes_all_aggregated_stats.read().to_crs(\n",
    "    geography_utils.CA_StatePlane)\n",
    "\n",
    "# Draw 10 mile corridors\n",
    "SEGMENT_DISTANCE = geography_utils.FEET_PER_MI * 10\n",
    "\n",
    "# Find which highway segments have uncompetitive transit routes\n",
    "# that intersect\n",
    "gdf = find_hwy_segments_no_buses(bus_routes, SEGMENT_DISTANCE)\n",
    "\n",
    "gdf = gdf.assign(\n",
    "    geometry = gdf.geometry.buffer(300)\n",
    ").to_crs(geography_utils.WGS84)"
   ]
  },
  {
   "cell_type": "code",
   "execution_count": null,
   "id": "6b986ec9-7aea-4b54-a9e2-f18c430c7163",
   "metadata": {},
   "outputs": [],
   "source": [
    "def make_district_map(gdf: gpd.GeoDataFrame, district: int): \n",
    "    gdf2 = gdf[gdf.District==district].drop(\n",
    "        columns = [\"hwy_segment_id\", \"segment_sequence\"])\n",
    "    \n",
    "    m = gdf2.explore(\"Route\", \n",
    "                     categorical = True, tiles = \"CartoDB Positron\"\n",
    "                    )\n",
    "    \n",
    "    display(m)"
   ]
  },
  {
   "cell_type": "markdown",
   "id": "fb3183ec-035b-4b8f-805e-4cf4a6e598b7",
   "metadata": {},
   "source": [
    "## District Maps"
   ]
  },
  {
   "cell_type": "code",
   "execution_count": null,
   "id": "ae63d391-235c-4266-a38b-7ab2abd9e37b",
   "metadata": {},
   "outputs": [],
   "source": [
    "districts = gdf.District.unique().tolist()\n",
    "\n",
    "for i in sorted(districts):\n",
    "    display(HTML(f\"<h3>District {i}</h3>\"))\n",
    "    \n",
    "    make_district_map(gdf, i)"
   ]
  },
  {
   "cell_type": "markdown",
   "id": "ca9df781-d324-452c-8deb-364515f8fbaa",
   "metadata": {
    "papermill": {
     "duration": 0.012355,
     "end_time": "2022-05-16T14:47:07.707386",
     "exception": false,
     "start_time": "2022-05-16T14:47:07.695031",
     "status": "completed"
    },
    "tags": []
   },
   "source": [
    "<a id=\"top\"></a>       "
   ]
  },
  {
   "cell_type": "code",
   "execution_count": null,
   "id": "8a003eb8-9de0-4ef3-bf9e-87f460648f55",
   "metadata": {},
   "outputs": [],
   "source": []
  }
 ],
 "metadata": {
  "kernelspec": {
   "display_name": "Python 3 (ipykernel)",
   "language": "python",
   "name": "python3"
  },
  "language_info": {
   "codemirror_mode": {
    "name": "ipython",
    "version": 3
   },
   "file_extension": ".py",
   "mimetype": "text/x-python",
   "name": "python",
   "nbconvert_exporter": "python",
   "pygments_lexer": "ipython3",
   "version": "3.10.5"
  },
  "papermill": {
   "default_parameters": {},
   "duration": 33.766969,
   "end_time": "2022-05-16T14:47:15.022890",
   "environment_variables": {},
   "exception": null,
   "input_path": "ca-highways-no-parallel-routes2.ipynb",
   "output_path": "./ca-highways-no-parallel-routes2.ipynb",
   "parameters": {},
   "start_time": "2022-05-16T14:46:41.255921",
   "version": "2.3.4"
  }
 },
 "nbformat": 4,
 "nbformat_minor": 5
}
