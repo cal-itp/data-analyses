{
 "cells": [
  {
   "cell_type": "markdown",
   "id": "173f73ba-ab77-48fc-933d-b2f0be8c0915",
   "metadata": {},
   "source": [
    "# Existing Transit on the SHN\n",
    "\n",
    "## Criteria\n",
    "* Transit routes that run at least 20% of their route on the State Highway Network (SHN).\n",
    "* slower than **25 mph**) **OR** \n",
    "* have **at least 5 trips per mile**"
   ]
  },
  {
   "cell_type": "code",
   "execution_count": null,
   "id": "79b8f71e-9b43-4774-80c3-6defdb58a708",
   "metadata": {},
   "outputs": [],
   "source": [
    "import branca\n",
    "import geopandas as gpd\n",
    "import intake\n",
    "import pandas as pd\n",
    "\n",
    "from IPython.display import Markdown\n",
    "\n",
    "from shared_utils import geography_utils \n",
    "from shared_utils import calitp_color_palette as cp\n",
    "from bus_service_utils import recs_utils\n",
    "\n",
    "catalog = intake.open_catalog(\"*.yml\")\n",
    "\n",
    "# Modify rt_utils.ZERO_THIRTY_COLORSCALE to go up to 65 mph\n",
    "ZERO_SIXTY_COLORSCALE = branca.colormap.step.RdYlGn_11.scale(vmin=0, vmax=65)\n",
    "ZERO_SIXTY_COLORSCALE.caption = \"Speed (miles per hour)\"\n",
    "\n",
    "# Map args\n",
    "TILES = \"CartoDB positron\"\n",
    "\n",
    "CUSTOM_CATEGORICAL = [\n",
    "    cp.CALITP_CATEGORY_BRIGHT_COLORS[2], # yellow\n",
    "    cp.CALITP_CATEGORY_BRIGHT_COLORS[1], # orange\n",
    "    cp.CALITP_CATEGORY_BRIGHT_COLORS[0], # blue\n",
    "    cp.CALITP_CATEGORY_BRIGHT_COLORS[5], # purple  \n",
    "    cp.CALITP_CATEGORY_BRIGHT_COLORS[3], # green\n",
    "]"
   ]
  },
  {
   "cell_type": "code",
   "execution_count": null,
   "id": "d257d170-cef6-4f96-a212-1f11e3607221",
   "metadata": {},
   "outputs": [],
   "source": [
    "gdf = catalog.highway_segment_stats.read()\n",
    "\n",
    "gdf = gdf.assign(\n",
    "    geometry = gdf.geometry.to_crs(\n",
    "        geography_utils.CA_StatePlane).buffer(300).to_crs(geography_utils.WGS84)\n",
    ")\n",
    "\n",
    "districts = sorted(gdf.District.unique().tolist())"
   ]
  },
  {
   "cell_type": "code",
   "execution_count": null,
   "id": "0e08e639-e223-4eb3-ab81-ab72f5b35d2a",
   "metadata": {},
   "outputs": [],
   "source": [
    "stats_cols = [\n",
    "    \"trips_all_day_per_mi\", \n",
    "    \"mean_speed_mph_trip_weighted\",\n",
    "]\n",
    "\n",
    "gdf = recs_utils.get_quartiles_by_district(\n",
    "    gdf, \"District\", stats_cols, num_groups = 4)"
   ]
  },
  {
   "cell_type": "code",
   "execution_count": null,
   "id": "716d6077-4fb9-4731-bd10-fa7c6498d124",
   "metadata": {},
   "outputs": [],
   "source": [
    "speed = 25\n",
    "trips = 5\n",
    "plot_df = recs_utils.select_highway_corridors_100recs(\n",
    "    gdf, \n",
    "    speed_dict = {\"mean_speed_mph_trip_weighted\": speed},\n",
    "    trip_dict = {\"trips_all_day_per_mi\": trips})\n",
    "\n",
    "plot_df = plot_df[plot_df.route_length >= geography_utils.FEET_PER_MI * 0.5]"
   ]
  },
  {
   "cell_type": "code",
   "execution_count": null,
   "id": "66a353ea-0802-4c0c-b2f4-eb6100dd98e7",
   "metadata": {},
   "outputs": [],
   "source": [
    "display(\n",
    "    Markdown(\n",
    "        f\"There are **{len(gdf)}** five-mile corridors in the state. \"\n",
    "        f\"<br>Of these, **{len(plot_df)}** corridors meet the criteria of being \"\n",
    "        f\"less than {speed} mph **or** having at least {trips} daily trips per mile. \"\n",
    "    )\n",
    ")"
   ]
  },
  {
   "cell_type": "code",
   "execution_count": null,
   "id": "8b9d1420-b44f-4b85-b9f5-45694fde6627",
   "metadata": {},
   "outputs": [],
   "source": [
    "def plot_highway_corridor(gdf: gpd.GeoDataFrame, \n",
    "                          district: int):\n",
    "    \"\"\"\n",
    "    Returns a folium.Map using geopandas.explore()\n",
    "    \"\"\"\n",
    "    \n",
    "    keep_cols = ['Route', 'County', 'District', 'RouteType',\n",
    "                 'trips_peak', 'trips_all_day', \n",
    "                 'trips_all_day_per_mi', \n",
    "                 'mean_speed_mph_trip_weighted', \n",
    "                 'geometry'\n",
    "    ]\n",
    "    \n",
    "    \n",
    "    plot_df = (gdf[(gdf.District == district)]\n",
    "               [keep_cols].reindex(columns = keep_cols)\n",
    "              )\n",
    "        \n",
    "    if len(plot_df) > 0:\n",
    "        display(Markdown(f\"#### Average Speed\"))\n",
    "\n",
    "        m1 = plot_df.explore(\n",
    "            \"mean_speed_mph_trip_weighted\", \n",
    "            # switch out colormap to allow higher speeds\n",
    "            cmap = ZERO_SIXTY_COLORSCALE, \n",
    "            categorical=False, tiles = TILES)\n",
    "\n",
    "        display(m1)\n",
    "     \n",
    "        display(Markdown(f\"#### Daily Trips\"))\n",
    "        \n",
    "        m2 = plot_df.rename(columns = {\"trips_all_day_per_mi\": \"Daily Trips per Mile\"}).explore(\n",
    "            \"Daily Trips per Mile\", \n",
    "            cmap = \"viridis_r\", #branca.colormap.linear.GnBu_09.scale(\n",
    "            categorical=False, tiles = TILES)\n",
    "    \n",
    "        display(m2)\n",
    "    else:\n",
    "        print(\"No highway corridors meet this criteria.\")\n",
    "        "
   ]
  },
  {
   "cell_type": "code",
   "execution_count": null,
   "id": "4cd1ce82-522f-4ef5-850f-c02d2260aa42",
   "metadata": {},
   "outputs": [],
   "source": [
    "for i in districts:\n",
    "    display(Markdown(f\"## District {i}\"))\n",
    "    \n",
    "    plot_highway_corridor(plot_df, i)"
   ]
  },
  {
   "cell_type": "code",
   "execution_count": null,
   "id": "20141bb9-6ceb-4017-8195-38139f6154a7",
   "metadata": {},
   "outputs": [],
   "source": []
  }
 ],
 "metadata": {
  "kernelspec": {
   "display_name": "Python 3 (ipykernel)",
   "language": "python",
   "name": "python3"
  },
  "language_info": {
   "codemirror_mode": {
    "name": "ipython",
    "version": 3
   },
   "file_extension": ".py",
   "mimetype": "text/x-python",
   "name": "python",
   "nbconvert_exporter": "python",
   "pygments_lexer": "ipython3",
   "version": "3.10.5"
  }
 },
 "nbformat": 4,
 "nbformat_minor": 5
}
