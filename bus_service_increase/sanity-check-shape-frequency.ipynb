{
 "cells": [
  {
   "cell_type": "code",
   "execution_count": 1,
   "id": "8ecdefb3-5554-453d-bdcf-73f087e865a9",
   "metadata": {},
   "outputs": [
    {
     "name": "stderr",
     "output_type": "stream",
     "text": [
      "/opt/conda/lib/python3.9/site-packages/geopandas/_compat.py:111: UserWarning: The Shapely GEOS version (3.9.1-CAPI-1.14.2) is incompatible with the GEOS version PyGEOS was compiled with (3.10.1-CAPI-1.16.0). Conversions between both will be slow.\n",
      "  warnings.warn(\n"
     ]
    }
   ],
   "source": [
    "import datetime as dt\n",
    "import geopandas as gpd\n",
    "import pandas as pd\n",
    "\n",
    "#import create_calenviroscreen_lehd_data\n",
    "import utils\n",
    "import shared_utils\n",
    "\n",
    "from siuba import *"
   ]
  },
  {
   "cell_type": "markdown",
   "id": "222433ae-d007-4194-b074-7c3fa7c3d3b1",
   "metadata": {},
   "source": [
    "## Compare `shape_frequency`\n",
    "\n",
    "Break down each step and figure out why going into `shape_frequency_funding` the observations differ so much."
   ]
  },
  {
   "cell_type": "code",
   "execution_count": 2,
   "id": "55ad9568-a62b-4c37-9474-0b83d8d7c6c4",
   "metadata": {},
   "outputs": [],
   "source": [
    "DATA_PATH = \"./data/test/\""
   ]
  },
  {
   "cell_type": "code",
   "execution_count": 3,
   "id": "2a6e4e4a-84b5-4ef6-8c40-a0673dd0f2e6",
   "metadata": {},
   "outputs": [],
   "source": [
    "def compare_shape_frequency(DATA_PATH):\n",
    "    df = pd.read_parquet(f\"{DATA_PATH}shape_frequency.parquet\")\n",
    "    print(f\"# obs: {len(df)}\")\n",
    "    \n",
    "    group_cols = [\"calitp_itp_id\", \"day_name\"]\n",
    "    df2 = df.groupby(group_cols).agg({\"shape_id\": \"nunique\"}).reset_index()\n",
    "    print(f\"# unique id-shape_id-day-name: {len(df2)}\")\n",
    "    \n",
    "    group_cols = [\"calitp_itp_id\", \"day_name\"]\n",
    "    df3 = df.groupby(group_cols).agg({\"route_id\": \"nunique\"}).reset_index()\n",
    "    print(f\"# unique id-route-id-day-name: {len(df2)}\")\n",
    "\n",
    "    check_ids = [182, 4, 279]\n",
    "    print(f\"check specific ids: {check_ids}\")\n",
    "    print(\"Unique shape_id-day_name\")\n",
    "    \n",
    "    display(df2[df2.calitp_itp_id.isin(check_ids)])\n",
    "    print(\"Unique route_id-day_name\")\n",
    "    display(df3[df3.calitp_itp_id.isin(check_ids)])\n",
    "    \n",
    "    return df2, df3"
   ]
  },
  {
   "cell_type": "code",
   "execution_count": 4,
   "id": "ef29174d-70fc-4d6b-96f4-6fd9397b3e44",
   "metadata": {},
   "outputs": [
    {
     "name": "stdout",
     "output_type": "stream",
     "text": [
      "# obs: 95933\n",
      "# unique id-shape_id-day-name: 363\n",
      "# unique id-route-id-day-name: 363\n",
      "check specific ids: [182, 4, 279]\n",
      "Unique shape_id-day_name\n"
     ]
    },
    {
     "data": {
      "text/html": [
       "<div>\n",
       "<style scoped>\n",
       "    .dataframe tbody tr th:only-of-type {\n",
       "        vertical-align: middle;\n",
       "    }\n",
       "\n",
       "    .dataframe tbody tr th {\n",
       "        vertical-align: top;\n",
       "    }\n",
       "\n",
       "    .dataframe thead th {\n",
       "        text-align: right;\n",
       "    }\n",
       "</style>\n",
       "<table border=\"1\" class=\"dataframe\">\n",
       "  <thead>\n",
       "    <tr style=\"text-align: right;\">\n",
       "      <th></th>\n",
       "      <th>calitp_itp_id</th>\n",
       "      <th>day_name</th>\n",
       "      <th>shape_id</th>\n",
       "    </tr>\n",
       "  </thead>\n",
       "  <tbody>\n",
       "    <tr>\n",
       "      <th>0</th>\n",
       "      <td>4</td>\n",
       "      <td>Saturday</td>\n",
       "      <td>150</td>\n",
       "    </tr>\n",
       "    <tr>\n",
       "      <th>1</th>\n",
       "      <td>4</td>\n",
       "      <td>Sunday</td>\n",
       "      <td>150</td>\n",
       "    </tr>\n",
       "    <tr>\n",
       "      <th>2</th>\n",
       "      <td>4</td>\n",
       "      <td>Thursday</td>\n",
       "      <td>323</td>\n",
       "    </tr>\n",
       "    <tr>\n",
       "      <th>171</th>\n",
       "      <td>182</td>\n",
       "      <td>Saturday</td>\n",
       "      <td>590</td>\n",
       "    </tr>\n",
       "    <tr>\n",
       "      <th>172</th>\n",
       "      <td>182</td>\n",
       "      <td>Sunday</td>\n",
       "      <td>590</td>\n",
       "    </tr>\n",
       "    <tr>\n",
       "      <th>173</th>\n",
       "      <td>182</td>\n",
       "      <td>Thursday</td>\n",
       "      <td>683</td>\n",
       "    </tr>\n",
       "    <tr>\n",
       "      <th>258</th>\n",
       "      <td>279</td>\n",
       "      <td>Saturday</td>\n",
       "      <td>21</td>\n",
       "    </tr>\n",
       "    <tr>\n",
       "      <th>259</th>\n",
       "      <td>279</td>\n",
       "      <td>Sunday</td>\n",
       "      <td>13</td>\n",
       "    </tr>\n",
       "    <tr>\n",
       "      <th>260</th>\n",
       "      <td>279</td>\n",
       "      <td>Thursday</td>\n",
       "      <td>24</td>\n",
       "    </tr>\n",
       "  </tbody>\n",
       "</table>\n",
       "</div>"
      ],
      "text/plain": [
       "     calitp_itp_id  day_name  shape_id\n",
       "0                4  Saturday       150\n",
       "1                4    Sunday       150\n",
       "2                4  Thursday       323\n",
       "171            182  Saturday       590\n",
       "172            182    Sunday       590\n",
       "173            182  Thursday       683\n",
       "258            279  Saturday        21\n",
       "259            279    Sunday        13\n",
       "260            279  Thursday        24"
      ]
     },
     "metadata": {},
     "output_type": "display_data"
    },
    {
     "name": "stdout",
     "output_type": "stream",
     "text": [
      "Unique route_id-day_name\n"
     ]
    },
    {
     "data": {
      "text/html": [
       "<div>\n",
       "<style scoped>\n",
       "    .dataframe tbody tr th:only-of-type {\n",
       "        vertical-align: middle;\n",
       "    }\n",
       "\n",
       "    .dataframe tbody tr th {\n",
       "        vertical-align: top;\n",
       "    }\n",
       "\n",
       "    .dataframe thead th {\n",
       "        text-align: right;\n",
       "    }\n",
       "</style>\n",
       "<table border=\"1\" class=\"dataframe\">\n",
       "  <thead>\n",
       "    <tr style=\"text-align: right;\">\n",
       "      <th></th>\n",
       "      <th>calitp_itp_id</th>\n",
       "      <th>day_name</th>\n",
       "      <th>route_id</th>\n",
       "    </tr>\n",
       "  </thead>\n",
       "  <tbody>\n",
       "    <tr>\n",
       "      <th>0</th>\n",
       "      <td>4</td>\n",
       "      <td>Saturday</td>\n",
       "      <td>59</td>\n",
       "    </tr>\n",
       "    <tr>\n",
       "      <th>1</th>\n",
       "      <td>4</td>\n",
       "      <td>Sunday</td>\n",
       "      <td>59</td>\n",
       "    </tr>\n",
       "    <tr>\n",
       "      <th>2</th>\n",
       "      <td>4</td>\n",
       "      <td>Thursday</td>\n",
       "      <td>128</td>\n",
       "    </tr>\n",
       "    <tr>\n",
       "      <th>171</th>\n",
       "      <td>182</td>\n",
       "      <td>Saturday</td>\n",
       "      <td>113</td>\n",
       "    </tr>\n",
       "    <tr>\n",
       "      <th>172</th>\n",
       "      <td>182</td>\n",
       "      <td>Sunday</td>\n",
       "      <td>111</td>\n",
       "    </tr>\n",
       "    <tr>\n",
       "      <th>173</th>\n",
       "      <td>182</td>\n",
       "      <td>Thursday</td>\n",
       "      <td>112</td>\n",
       "    </tr>\n",
       "    <tr>\n",
       "      <th>258</th>\n",
       "      <td>279</td>\n",
       "      <td>Saturday</td>\n",
       "      <td>10</td>\n",
       "    </tr>\n",
       "    <tr>\n",
       "      <th>259</th>\n",
       "      <td>279</td>\n",
       "      <td>Sunday</td>\n",
       "      <td>6</td>\n",
       "    </tr>\n",
       "    <tr>\n",
       "      <th>260</th>\n",
       "      <td>279</td>\n",
       "      <td>Thursday</td>\n",
       "      <td>10</td>\n",
       "    </tr>\n",
       "  </tbody>\n",
       "</table>\n",
       "</div>"
      ],
      "text/plain": [
       "     calitp_itp_id  day_name  route_id\n",
       "0                4  Saturday        59\n",
       "1                4    Sunday        59\n",
       "2                4  Thursday       128\n",
       "171            182  Saturday       113\n",
       "172            182    Sunday       111\n",
       "173            182  Thursday       112\n",
       "258            279  Saturday        10\n",
       "259            279    Sunday         6\n",
       "260            279  Thursday        10"
      ]
     },
     "metadata": {},
     "output_type": "display_data"
    }
   ],
   "source": [
    "tiff_shape, tiff_route = compare_shape_frequency(\"./data/test/\")"
   ]
  },
  {
   "cell_type": "code",
   "execution_count": 5,
   "id": "4435307f-1fe9-4a47-87ae-83f350b11567",
   "metadata": {},
   "outputs": [
    {
     "name": "stdout",
     "output_type": "stream",
     "text": [
      "# obs: 423216\n",
      "# unique id-shape_id-day-name: 441\n",
      "# unique id-route-id-day-name: 441\n",
      "check specific ids: [182, 4, 279]\n",
      "Unique shape_id-day_name\n"
     ]
    },
    {
     "data": {
      "text/html": [
       "<div>\n",
       "<style scoped>\n",
       "    .dataframe tbody tr th:only-of-type {\n",
       "        vertical-align: middle;\n",
       "    }\n",
       "\n",
       "    .dataframe tbody tr th {\n",
       "        vertical-align: top;\n",
       "    }\n",
       "\n",
       "    .dataframe thead th {\n",
       "        text-align: right;\n",
       "    }\n",
       "</style>\n",
       "<table border=\"1\" class=\"dataframe\">\n",
       "  <thead>\n",
       "    <tr style=\"text-align: right;\">\n",
       "      <th></th>\n",
       "      <th>calitp_itp_id</th>\n",
       "      <th>day_name</th>\n",
       "      <th>shape_id</th>\n",
       "    </tr>\n",
       "  </thead>\n",
       "  <tbody>\n",
       "    <tr>\n",
       "      <th>0</th>\n",
       "      <td>4</td>\n",
       "      <td>Saturday</td>\n",
       "      <td>330</td>\n",
       "    </tr>\n",
       "    <tr>\n",
       "      <th>1</th>\n",
       "      <td>4</td>\n",
       "      <td>Sunday</td>\n",
       "      <td>330</td>\n",
       "    </tr>\n",
       "    <tr>\n",
       "      <th>2</th>\n",
       "      <td>4</td>\n",
       "      <td>Thursday</td>\n",
       "      <td>330</td>\n",
       "    </tr>\n",
       "    <tr>\n",
       "      <th>207</th>\n",
       "      <td>182</td>\n",
       "      <td>Saturday</td>\n",
       "      <td>734</td>\n",
       "    </tr>\n",
       "    <tr>\n",
       "      <th>208</th>\n",
       "      <td>182</td>\n",
       "      <td>Sunday</td>\n",
       "      <td>734</td>\n",
       "    </tr>\n",
       "    <tr>\n",
       "      <th>209</th>\n",
       "      <td>182</td>\n",
       "      <td>Thursday</td>\n",
       "      <td>734</td>\n",
       "    </tr>\n",
       "    <tr>\n",
       "      <th>327</th>\n",
       "      <td>279</td>\n",
       "      <td>Saturday</td>\n",
       "      <td>28</td>\n",
       "    </tr>\n",
       "    <tr>\n",
       "      <th>328</th>\n",
       "      <td>279</td>\n",
       "      <td>Sunday</td>\n",
       "      <td>28</td>\n",
       "    </tr>\n",
       "    <tr>\n",
       "      <th>329</th>\n",
       "      <td>279</td>\n",
       "      <td>Thursday</td>\n",
       "      <td>28</td>\n",
       "    </tr>\n",
       "  </tbody>\n",
       "</table>\n",
       "</div>"
      ],
      "text/plain": [
       "     calitp_itp_id  day_name  shape_id\n",
       "0                4  Saturday       330\n",
       "1                4    Sunday       330\n",
       "2                4  Thursday       330\n",
       "207            182  Saturday       734\n",
       "208            182    Sunday       734\n",
       "209            182  Thursday       734\n",
       "327            279  Saturday        28\n",
       "328            279    Sunday        28\n",
       "329            279  Thursday        28"
      ]
     },
     "metadata": {},
     "output_type": "display_data"
    },
    {
     "name": "stdout",
     "output_type": "stream",
     "text": [
      "Unique route_id-day_name\n"
     ]
    },
    {
     "data": {
      "text/html": [
       "<div>\n",
       "<style scoped>\n",
       "    .dataframe tbody tr th:only-of-type {\n",
       "        vertical-align: middle;\n",
       "    }\n",
       "\n",
       "    .dataframe tbody tr th {\n",
       "        vertical-align: top;\n",
       "    }\n",
       "\n",
       "    .dataframe thead th {\n",
       "        text-align: right;\n",
       "    }\n",
       "</style>\n",
       "<table border=\"1\" class=\"dataframe\">\n",
       "  <thead>\n",
       "    <tr style=\"text-align: right;\">\n",
       "      <th></th>\n",
       "      <th>calitp_itp_id</th>\n",
       "      <th>day_name</th>\n",
       "      <th>route_id</th>\n",
       "    </tr>\n",
       "  </thead>\n",
       "  <tbody>\n",
       "    <tr>\n",
       "      <th>0</th>\n",
       "      <td>4</td>\n",
       "      <td>Saturday</td>\n",
       "      <td>128</td>\n",
       "    </tr>\n",
       "    <tr>\n",
       "      <th>1</th>\n",
       "      <td>4</td>\n",
       "      <td>Sunday</td>\n",
       "      <td>128</td>\n",
       "    </tr>\n",
       "    <tr>\n",
       "      <th>2</th>\n",
       "      <td>4</td>\n",
       "      <td>Thursday</td>\n",
       "      <td>128</td>\n",
       "    </tr>\n",
       "    <tr>\n",
       "      <th>207</th>\n",
       "      <td>182</td>\n",
       "      <td>Saturday</td>\n",
       "      <td>118</td>\n",
       "    </tr>\n",
       "    <tr>\n",
       "      <th>208</th>\n",
       "      <td>182</td>\n",
       "      <td>Sunday</td>\n",
       "      <td>118</td>\n",
       "    </tr>\n",
       "    <tr>\n",
       "      <th>209</th>\n",
       "      <td>182</td>\n",
       "      <td>Thursday</td>\n",
       "      <td>118</td>\n",
       "    </tr>\n",
       "    <tr>\n",
       "      <th>327</th>\n",
       "      <td>279</td>\n",
       "      <td>Saturday</td>\n",
       "      <td>10</td>\n",
       "    </tr>\n",
       "    <tr>\n",
       "      <th>328</th>\n",
       "      <td>279</td>\n",
       "      <td>Sunday</td>\n",
       "      <td>10</td>\n",
       "    </tr>\n",
       "    <tr>\n",
       "      <th>329</th>\n",
       "      <td>279</td>\n",
       "      <td>Thursday</td>\n",
       "      <td>10</td>\n",
       "    </tr>\n",
       "  </tbody>\n",
       "</table>\n",
       "</div>"
      ],
      "text/plain": [
       "     calitp_itp_id  day_name  route_id\n",
       "0                4  Saturday       128\n",
       "1                4    Sunday       128\n",
       "2                4  Thursday       128\n",
       "207            182  Saturday       118\n",
       "208            182    Sunday       118\n",
       "209            182  Thursday       118\n",
       "327            279  Saturday        10\n",
       "328            279    Sunday        10\n",
       "329            279  Thursday        10"
      ]
     },
     "metadata": {},
     "output_type": "display_data"
    }
   ],
   "source": [
    "eric_shape, eric_route = compare_shape_frequency(f\"{utils.GCS_FILE_PATH}\")"
   ]
  },
  {
   "cell_type": "markdown",
   "id": "99e224e0-2568-467a-8a09-868aae4cb5b5",
   "metadata": {},
   "source": [
    "Interestingly, Eric pulls same number of route_ids for each day_name, but mine fluctuates.\n",
    "\n",
    "Check which line in the code does that...must be something like `groupby.agg` that includes a `day_name` in there and counts or finds nunique `route_id` or a `drop_duplicates` that gives this."
   ]
  },
  {
   "cell_type": "code",
   "execution_count": 6,
   "id": "99ccab90-c150-461d-99dd-b6213ca5de97",
   "metadata": {},
   "outputs": [],
   "source": [
    "tiff_shape = pd.read_parquet(f\"{DATA_PATH}shape_frequency.parquet\")\n",
    "eric_shape = pd.read_parquet(f\"{utils.GCS_FILE_PATH}shape_frequency.parquet\")"
   ]
  },
  {
   "cell_type": "code",
   "execution_count": 7,
   "id": "c72c5752-1ee0-46ae-9e20-20e136fcdbe9",
   "metadata": {},
   "outputs": [
    {
     "data": {
      "text/plain": [
       "95933"
      ]
     },
     "execution_count": 7,
     "metadata": {},
     "output_type": "execute_result"
    }
   ],
   "source": [
    "len(tiff_shape)"
   ]
  },
  {
   "cell_type": "code",
   "execution_count": 8,
   "id": "86d8826c-55ee-44bb-a2e2-b7bc24fabea7",
   "metadata": {},
   "outputs": [
    {
     "data": {
      "text/plain": [
       "(95933, 7)"
      ]
     },
     "execution_count": 8,
     "metadata": {},
     "output_type": "execute_result"
    }
   ],
   "source": [
    "tiff_shape[tiff_shape.mean_runtime_min.notna()].shape"
   ]
  },
  {
   "cell_type": "code",
   "execution_count": 9,
   "id": "c18ab8ba-e212-4dee-93b8-3760c91046e6",
   "metadata": {},
   "outputs": [
    {
     "data": {
      "text/plain": [
       "423216"
      ]
     },
     "execution_count": 9,
     "metadata": {},
     "output_type": "execute_result"
    }
   ],
   "source": [
    "len(eric_shape)"
   ]
  },
  {
   "cell_type": "code",
   "execution_count": 10,
   "id": "b53deda1-4355-417c-9aa1-f4eaaabc5848",
   "metadata": {},
   "outputs": [
    {
     "data": {
      "text/plain": [
       "(94453, 7)"
      ]
     },
     "execution_count": 10,
     "metadata": {},
     "output_type": "execute_result"
    }
   ],
   "source": [
    "eric_shape[eric_shape.mean_runtime_min.notna()].shape"
   ]
  },
  {
   "cell_type": "markdown",
   "id": "d9f7a343-175a-496c-adfa-1bd2ca99a306",
   "metadata": {},
   "source": [
    "### Go up to time calculations.\n",
    "\n",
    "Look at LA Metro on Thurs."
   ]
  },
  {
   "cell_type": "code",
   "execution_count": 11,
   "id": "6502adfb-1c73-42f4-a1cd-c39941462e45",
   "metadata": {},
   "outputs": [],
   "source": [
    "# Run the query from warehouse_queries to get just LA Metro on Thurs\n",
    "DATA_PATH = \"./data/test/\"\n",
    "\n",
    "eric = pd.read_parquet(f\"{DATA_PATH}eric_trips_joined_thurs.parquet\")\n",
    "tiff = pd.read_parquet(f\"{DATA_PATH}trips_thurs.parquet\")\n",
    "tiff = tiff[tiff.calitp_itp_id==182].reset_index(drop=True)"
   ]
  },
  {
   "cell_type": "code",
   "execution_count": 12,
   "id": "2cbfbd88-5ca5-464c-ab0e-fc00befd088c",
   "metadata": {},
   "outputs": [
    {
     "data": {
      "text/plain": [
       "both          14118\n",
       "left_only         0\n",
       "right_only        0\n",
       "Name: _merge, dtype: int64"
      ]
     },
     "execution_count": 12,
     "metadata": {},
     "output_type": "execute_result"
    }
   ],
   "source": [
    "# Check if trip keys are the same...they really should be\n",
    "# --> So we have the same trip_keys\n",
    "\n",
    "trip_merge = pd.merge(eric[[\"trip_key\"]].drop_duplicates(),\n",
    "                      tiff[[\"trip_key\"]].drop_duplicates(),\n",
    "                      on = \"trip_key\",\n",
    "                      how = \"outer\",\n",
    "                      validate = \"1:1\",\n",
    "                      indicator=True)\n",
    "\n",
    "trip_merge._merge.value_counts()"
   ]
  },
  {
   "cell_type": "code",
   "execution_count": 13,
   "id": "8b2a2820-c4d3-44ab-8490-d5f857ef69ba",
   "metadata": {},
   "outputs": [],
   "source": [
    "def get_time_calculations(df):\n",
    "    ## time calculations\n",
    "    df = df.assign(\n",
    "        date = pd.to_datetime(df.date),\n",
    "        departure_time = df.departure_time.dropna().apply(utils.fix_gtfs_time),\n",
    "    )\n",
    "\n",
    "    # Something weird comes up trying to generate departure_dt\n",
    "    # pd.to_datetime() gives today's date\n",
    "    # datetime.strptime gives year 1900\n",
    "    # Either way, we have the service date, and later subsetting between 5am-9pm will address this\n",
    "    df = df.assign(\n",
    "        departure_time = pd.to_datetime(df.departure_time),\n",
    "        departure_hour = pd.to_datetime(df.departure_time).dt.hour,\n",
    "    )\n",
    "    \n",
    "    # Any observation with NaTs for departure time get dropped\n",
    "    # Will create issue later when grouping is done with departure hour\n",
    "    df = df[df.departure_time.notna()].reset_index(drop=True)\n",
    "    \n",
    "    return df\n"
   ]
  },
  {
   "cell_type": "code",
   "execution_count": 14,
   "id": "3331487d-22e3-464c-ad85-537fc40f8553",
   "metadata": {},
   "outputs": [],
   "source": [
    "eric2 = get_time_calculations(eric)\n",
    "tiff2 = get_time_calculations(tiff)"
   ]
  },
  {
   "cell_type": "code",
   "execution_count": 15,
   "id": "dc5f3577-1986-47cc-ada0-aab45690abb9",
   "metadata": {},
   "outputs": [],
   "source": [
    "from shared_utils import geography_utils\n",
    "\n",
    "# Aggregate by departure hour, these results should also be the same\n",
    "eric_hour = geography_utils.aggregate_by_geography(eric2,\n",
    "                                       group_cols = [\"departure_hour\"],\n",
    "                                       nunique_cols = [\"route_id\", \"trip_key\"]\n",
    "                                      )\n",
    "\n",
    "tiff_hour = geography_utils.aggregate_by_geography(tiff2,\n",
    "                                       group_cols = [\"departure_hour\"],\n",
    "                                       nunique_cols = [\"route_id\", \"trip_key\"]\n",
    "                                      )"
   ]
  },
  {
   "cell_type": "code",
   "execution_count": 16,
   "id": "597d56f7-8bfc-4022-8463-87695a1ac19b",
   "metadata": {},
   "outputs": [
    {
     "data": {
      "text/plain": [
       "both          24\n",
       "left_only      0\n",
       "right_only     0\n",
       "Name: _merge, dtype: int64"
      ]
     },
     "execution_count": 16,
     "metadata": {},
     "output_type": "execute_result"
    }
   ],
   "source": [
    "hour_merge = pd.merge(eric_hour,\n",
    "                      tiff_hour,\n",
    "                      on = \"departure_hour\",\n",
    "                      how = \"outer\",\n",
    "                      validate = \"1:1\",\n",
    "                      indicator=True\n",
    "                     )\n",
    "\n",
    "hour_merge._merge.value_counts()"
   ]
  },
  {
   "cell_type": "code",
   "execution_count": 17,
   "id": "e985d282-b5d5-49e7-ab41-8849952579fe",
   "metadata": {},
   "outputs": [],
   "source": [
    "# These assert statements pass, as they should\n",
    "assert (hour_merge.route_id_x == hour_merge.route_id_y).all()"
   ]
  },
  {
   "cell_type": "code",
   "execution_count": 18,
   "id": "4651fcb4-5396-4ddb-8c6e-c539de93c4d0",
   "metadata": {},
   "outputs": [],
   "source": [
    "assert (hour_merge.trip_key_x == hour_merge.trip_key_y).all()"
   ]
  },
  {
   "cell_type": "markdown",
   "id": "729d9f90-82c3-45d5-98d6-693ff3ad200f",
   "metadata": {},
   "source": [
    "### Check calculation of runtimes \n",
    "\n",
    "Probably somewhere in this code is where the datasets differ\n",
    "\n",
    "Break out each step and double check"
   ]
  },
  {
   "cell_type": "code",
   "execution_count": 19,
   "id": "1657fd0f-d6b3-4373-98d0-bbd3bcbb2db8",
   "metadata": {},
   "outputs": [],
   "source": [
    "## Eric's code\n",
    "\n",
    "# Don't think swapping this out will have affected anything\n",
    "# But just leave this intermediate step in anyway,\n",
    "# just to get the find_runtime function to run, then double check results\n",
    "\n",
    "def beginning_time_cleaning(df):\n",
    "    df = df.dropna(subset=['departure_time'])\n",
    "    # _st_trips_joined = st_trips_joined\n",
    "    df.departure_time = df.departure_time.apply(utils.fix_gtfs_time)\n",
    "    df['departure_dt'] = (df['departure_time']\n",
    "                                 .apply(lambda x:\n",
    "                                        dt.datetime.strptime(x, '%H:%M:%S'))\n",
    "                                      )\n",
    "    df['departure_hour'] = df['departure_dt'].apply(lambda x: x.hour)\n",
    "    \n",
    "    return df\n",
    "\n",
    "eric_time = beginning_time_cleaning(eric)"
   ]
  },
  {
   "cell_type": "code",
   "execution_count": 20,
   "id": "d3aa0ca4-69fd-4f36-a04e-8e43ade73bcb",
   "metadata": {},
   "outputs": [],
   "source": [
    "def find_runtime(df):\n",
    "    mindt = df[df.stop_sequence == df.stop_sequence.min()].departure_dt.iloc[0]\n",
    "    maxdt = df[df.stop_sequence == df.stop_sequence.max()].departure_dt.iloc[0]\n",
    "    td = (maxdt - mindt)\n",
    "    df['runtime_seconds'] = td.seconds\n",
    "    return df\n",
    "    \n",
    "# try:\n",
    "st_with_runtimes = eric_time.groupby(['trip_key', 'day_name']).apply(find_runtime)\n",
    "eric3 = st_with_runtimes >> select(_.trip_key, _.day_name, _.runtime_seconds)"
   ]
  },
  {
   "cell_type": "code",
   "execution_count": null,
   "id": "e8e54a65-7b54-4d04-9c7c-374e073f7cee",
   "metadata": {},
   "outputs": [],
   "source": []
  },
  {
   "cell_type": "code",
   "execution_count": 21,
   "id": "3b7e6a23-8521-45c1-8b46-2f01269c1e65",
   "metadata": {},
   "outputs": [],
   "source": [
    "## Tiff's code\n",
    "\n",
    "def calculate_runtime_hourlytrips_part1(df):\n",
    "    # Calculate run time for a trip\n",
    "    # Find the median stop (keep that observation)\n",
    "    group_cols = ['trip_key', 'day_name']\n",
    "    df = df.assign(\n",
    "        mindt = df.groupby(group_cols)[\"departure_time\"].transform(\"min\"),\n",
    "        maxdt = df.groupby(group_cols)[\"departure_time\"].transform(\"max\"),\n",
    "        middle_stop = df.groupby([\"trip_key\", \"day_name\"])[\"stop_sequence\"].transform(\"median\"),\n",
    "    ).astype({\"middle_stop\": \"int64\"})\n",
    "\n",
    "    df = df.assign(\n",
    "        runtime_seconds = (df.maxdt - df.mindt).dt.seconds\n",
    "    ).drop(columns = [\"mindt\", \"maxdt\"])\n",
    "    \n",
    "    # Drop any trips with runtime of NaN calculated\n",
    "    df = df[df.runtime_seconds.notna()].reset_index(drop=True)\n",
    "    \n",
    "    return df"
   ]
  },
  {
   "cell_type": "code",
   "execution_count": 22,
   "id": "5e2b9474-fb02-4edc-ae7c-d6acaf5dae4a",
   "metadata": {},
   "outputs": [],
   "source": [
    "tiff3 = calculate_runtime_hourlytrips_part1(tiff2)\n",
    "tiff3  = tiff3 >> select(_.trip_key, _.day_name, _.runtime_seconds) "
   ]
  },
  {
   "cell_type": "code",
   "execution_count": 23,
   "id": "5fc9c215-7d39-460c-9eb0-fb24f382bac6",
   "metadata": {},
   "outputs": [
    {
     "data": {
      "text/plain": [
       "both          14118\n",
       "left_only         0\n",
       "right_only        0\n",
       "Name: _merge, dtype: int64"
      ]
     },
     "execution_count": 23,
     "metadata": {},
     "output_type": "execute_result"
    }
   ],
   "source": [
    "runtime_merge = pd.merge(eric3.drop_duplicates(), \n",
    "                         tiff3.drop_duplicates(), \n",
    "                         on = [\"trip_key\", \"day_name\"],\n",
    "                         how = \"outer\",\n",
    "                         validate = \"1:1\",\n",
    "                         indicator=True\n",
    "                        )\n",
    "\n",
    "runtime_merge._merge.value_counts()"
   ]
  },
  {
   "cell_type": "code",
   "execution_count": 24,
   "id": "1b766681-2869-418b-85b4-d67a6060a5d2",
   "metadata": {},
   "outputs": [
    {
     "ename": "AssertionError",
     "evalue": "",
     "output_type": "error",
     "traceback": [
      "\u001b[0;31m---------------------------------------------------------------------------\u001b[0m",
      "\u001b[0;31mAssertionError\u001b[0m                            Traceback (most recent call last)",
      "\u001b[0;32m/tmp/ipykernel_1380/3091274325.py\u001b[0m in \u001b[0;36m<module>\u001b[0;34m\u001b[0m\n\u001b[1;32m      2\u001b[0m \u001b[0;31m# This would be due to the fact that we have different approaches\u001b[0m\u001b[0;34m\u001b[0m\u001b[0;34m\u001b[0m\u001b[0m\n\u001b[1;32m      3\u001b[0m \u001b[0;31m# Dig into this\u001b[0m\u001b[0;34m\u001b[0m\u001b[0;34m\u001b[0m\u001b[0m\n\u001b[0;32m----> 4\u001b[0;31m \u001b[0;32massert\u001b[0m \u001b[0;34m(\u001b[0m\u001b[0mruntime_merge\u001b[0m\u001b[0;34m.\u001b[0m\u001b[0mruntime_seconds_x\u001b[0m \u001b[0;34m==\u001b[0m \u001b[0mruntime_merge\u001b[0m\u001b[0;34m.\u001b[0m\u001b[0mruntime_seconds_y\u001b[0m\u001b[0;34m)\u001b[0m\u001b[0;34m.\u001b[0m\u001b[0mall\u001b[0m\u001b[0;34m(\u001b[0m\u001b[0;34m)\u001b[0m\u001b[0;34m\u001b[0m\u001b[0;34m\u001b[0m\u001b[0m\n\u001b[0m",
      "\u001b[0;31mAssertionError\u001b[0m: "
     ]
    }
   ],
   "source": [
    "# This assert statement does not pass\n",
    "# This would be due to the fact that we have different approaches\n",
    "# Dig into this\n",
    "assert (runtime_merge.runtime_seconds_x == runtime_merge.runtime_seconds_y).all()"
   ]
  },
  {
   "cell_type": "code",
   "execution_count": 25,
   "id": "3bcd7f3f-7026-4b3c-bba2-9054c69555ce",
   "metadata": {},
   "outputs": [
    {
     "name": "stdout",
     "output_type": "stream",
     "text": [
      "# obs that differ: 166\n",
      "% obs that differ: 0.011758039382348774\n"
     ]
    }
   ],
   "source": [
    "runtime_debug = runtime_merge[runtime_merge.runtime_seconds_x != \n",
    "                              runtime_merge.runtime_seconds_y\n",
    "                             ]\n",
    "\n",
    "print(f\"# obs that differ: {len(runtime_debug)}\")\n",
    "print(f\"% obs that differ: {len(runtime_debug) / len(runtime_merge)}\")"
   ]
  },
  {
   "cell_type": "code",
   "execution_count": 26,
   "id": "8a495017-6e28-4c20-bf1b-072c26c3410c",
   "metadata": {},
   "outputs": [],
   "source": [
    "# 1.2% of the observations differ...that's not a big deal at all\n",
    "# BUT, why are my runtime_seconds SO HUGE\n",
    "# Pull out these trip_keys"
   ]
  },
  {
   "cell_type": "code",
   "execution_count": 27,
   "id": "765a0f7d-2813-4ca8-9f49-3a859b4b3852",
   "metadata": {},
   "outputs": [
    {
     "data": {
      "text/html": [
       "<div>\n",
       "<style scoped>\n",
       "    .dataframe tbody tr th:only-of-type {\n",
       "        vertical-align: middle;\n",
       "    }\n",
       "\n",
       "    .dataframe tbody tr th {\n",
       "        vertical-align: top;\n",
       "    }\n",
       "\n",
       "    .dataframe thead th {\n",
       "        text-align: right;\n",
       "    }\n",
       "</style>\n",
       "<table border=\"1\" class=\"dataframe\">\n",
       "  <thead>\n",
       "    <tr style=\"text-align: right;\">\n",
       "      <th></th>\n",
       "      <th>trip_key</th>\n",
       "      <th>day_name</th>\n",
       "      <th>runtime_seconds_x</th>\n",
       "      <th>runtime_seconds_y</th>\n",
       "      <th>_merge</th>\n",
       "    </tr>\n",
       "  </thead>\n",
       "  <tbody>\n",
       "    <tr>\n",
       "      <th>28</th>\n",
       "      <td>-5414324691387759528</td>\n",
       "      <td>Thursday</td>\n",
       "      <td>2340</td>\n",
       "      <td>86220</td>\n",
       "      <td>both</td>\n",
       "    </tr>\n",
       "    <tr>\n",
       "      <th>334</th>\n",
       "      <td>3410421768507213757</td>\n",
       "      <td>Thursday</td>\n",
       "      <td>480</td>\n",
       "      <td>86340</td>\n",
       "      <td>both</td>\n",
       "    </tr>\n",
       "    <tr>\n",
       "      <th>656</th>\n",
       "      <td>450205548115823018</td>\n",
       "      <td>Thursday</td>\n",
       "      <td>1560</td>\n",
       "      <td>86160</td>\n",
       "      <td>both</td>\n",
       "    </tr>\n",
       "    <tr>\n",
       "      <th>870</th>\n",
       "      <td>-927572044940070085</td>\n",
       "      <td>Thursday</td>\n",
       "      <td>2580</td>\n",
       "      <td>86340</td>\n",
       "      <td>both</td>\n",
       "    </tr>\n",
       "    <tr>\n",
       "      <th>886</th>\n",
       "      <td>-1095567724896778272</td>\n",
       "      <td>Thursday</td>\n",
       "      <td>900</td>\n",
       "      <td>85980</td>\n",
       "      <td>both</td>\n",
       "    </tr>\n",
       "  </tbody>\n",
       "</table>\n",
       "</div>"
      ],
      "text/plain": [
       "                trip_key  day_name  runtime_seconds_x  runtime_seconds_y  \\\n",
       "28  -5414324691387759528  Thursday               2340              86220   \n",
       "334  3410421768507213757  Thursday                480              86340   \n",
       "656   450205548115823018  Thursday               1560              86160   \n",
       "870  -927572044940070085  Thursday               2580              86340   \n",
       "886 -1095567724896778272  Thursday                900              85980   \n",
       "\n",
       "    _merge  \n",
       "28    both  \n",
       "334   both  \n",
       "656   both  \n",
       "870   both  \n",
       "886   both  "
      ]
     },
     "execution_count": 27,
     "metadata": {},
     "output_type": "execute_result"
    }
   ],
   "source": [
    "runtime_debug.head()"
   ]
  },
  {
   "cell_type": "code",
   "execution_count": 28,
   "id": "5b784fc8-7498-445a-bb1c-8445ca0de95b",
   "metadata": {},
   "outputs": [
    {
     "data": {
      "text/plain": [
       "23    5895\n",
       "0     4844\n",
       "22     221\n",
       "1      117\n",
       "Name: departure_hour, dtype: int64"
      ]
     },
     "execution_count": 28,
     "metadata": {},
     "output_type": "execute_result"
    }
   ],
   "source": [
    "# Ahh, this has to do with crossing over the midnight hour\n",
    "# So, it's not correctly deriving the time\n",
    "tiff2[tiff2.trip_key.isin(runtime_debug.trip_key)].departure_hour.value_counts()"
   ]
  },
  {
   "cell_type": "code",
   "execution_count": 29,
   "id": "c5c92f8b-380d-4565-ad22-1c2437e2a638",
   "metadata": {},
   "outputs": [
    {
     "data": {
      "text/html": [
       "<div>\n",
       "<style scoped>\n",
       "    .dataframe tbody tr th:only-of-type {\n",
       "        vertical-align: middle;\n",
       "    }\n",
       "\n",
       "    .dataframe tbody tr th {\n",
       "        vertical-align: top;\n",
       "    }\n",
       "\n",
       "    .dataframe thead th {\n",
       "        text-align: right;\n",
       "    }\n",
       "</style>\n",
       "<table border=\"1\" class=\"dataframe\">\n",
       "  <thead>\n",
       "    <tr style=\"text-align: right;\">\n",
       "      <th></th>\n",
       "      <th>calitp_itp_id</th>\n",
       "      <th>date</th>\n",
       "      <th>trip_key</th>\n",
       "      <th>trip_id</th>\n",
       "      <th>is_in_service</th>\n",
       "      <th>day_name</th>\n",
       "      <th>stop_sequence</th>\n",
       "      <th>departure_time</th>\n",
       "      <th>stop_id</th>\n",
       "      <th>shape_id</th>\n",
       "      <th>route_id</th>\n",
       "      <th>departure_hour</th>\n",
       "    </tr>\n",
       "  </thead>\n",
       "  <tbody>\n",
       "    <tr>\n",
       "      <th>596732</th>\n",
       "      <td>182</td>\n",
       "      <td>2021-10-07</td>\n",
       "      <td>-5414324691387759528</td>\n",
       "      <td>53917413-SEPT21-D07CAR-1_Weekday</td>\n",
       "      <td>True</td>\n",
       "      <td>Thursday</td>\n",
       "      <td>54</td>\n",
       "      <td>2022-02-03 00:02:00</td>\n",
       "      <td>16770</td>\n",
       "      <td>6020010_SEPT21</td>\n",
       "      <td>602-13149</td>\n",
       "      <td>0</td>\n",
       "    </tr>\n",
       "    <tr>\n",
       "      <th>605400</th>\n",
       "      <td>182</td>\n",
       "      <td>2021-10-07</td>\n",
       "      <td>-5414324691387759528</td>\n",
       "      <td>53917413-SEPT21-D07CAR-1_Weekday</td>\n",
       "      <td>True</td>\n",
       "      <td>Thursday</td>\n",
       "      <td>1</td>\n",
       "      <td>2022-02-03 23:23:00</td>\n",
       "      <td>6428</td>\n",
       "      <td>6020010_SEPT21</td>\n",
       "      <td>602-13149</td>\n",
       "      <td>23</td>\n",
       "    </tr>\n",
       "  </tbody>\n",
       "</table>\n",
       "</div>"
      ],
      "text/plain": [
       "        calitp_itp_id       date             trip_key  \\\n",
       "596732            182 2021-10-07 -5414324691387759528   \n",
       "605400            182 2021-10-07 -5414324691387759528   \n",
       "\n",
       "                                 trip_id  is_in_service  day_name  \\\n",
       "596732  53917413-SEPT21-D07CAR-1_Weekday           True  Thursday   \n",
       "605400  53917413-SEPT21-D07CAR-1_Weekday           True  Thursday   \n",
       "\n",
       "        stop_sequence      departure_time stop_id        shape_id   route_id  \\\n",
       "596732             54 2022-02-03 00:02:00   16770  6020010_SEPT21  602-13149   \n",
       "605400              1 2022-02-03 23:23:00    6428  6020010_SEPT21  602-13149   \n",
       "\n",
       "        departure_hour  \n",
       "596732               0  \n",
       "605400              23  "
      ]
     },
     "execution_count": 29,
     "metadata": {},
     "output_type": "execute_result"
    }
   ],
   "source": [
    "keep_trip = [-5414324691387759528]\n",
    "one_trip = tiff2[tiff2.trip_key.isin(keep_trip)]\n",
    "\n",
    "one_trip[(one_trip.stop_sequence==one_trip.stop_sequence.max()) |\n",
    "         (one_trip.stop_sequence==one_trip.stop_sequence.min())\n",
    "        ]"
   ]
  },
  {
   "cell_type": "code",
   "execution_count": 30,
   "id": "9af1f9a5-2abe-44a8-8e51-bab877eea358",
   "metadata": {},
   "outputs": [],
   "source": [
    "def find_runtime_modified(df):\n",
    "    mindt = df[df.stop_sequence == df.stop_sequence.min()].departure_time.iloc[0]\n",
    "    maxdt = df[df.stop_sequence == df.stop_sequence.max()].departure_time.iloc[0]\n",
    "    td = (maxdt - mindt)\n",
    "    df['runtime_seconds'] = td.seconds\n",
    "    return df\n",
    "    "
   ]
  },
  {
   "cell_type": "code",
   "execution_count": 31,
   "id": "0fadce43-5c63-4d37-8925-06a039a1f8c7",
   "metadata": {},
   "outputs": [
    {
     "name": "stderr",
     "output_type": "stream",
     "text": [
      "/tmp/ipykernel_1380/233058166.py:5: SettingWithCopyWarning: \n",
      "A value is trying to be set on a copy of a slice from a DataFrame.\n",
      "Try using .loc[row_indexer,col_indexer] = value instead\n",
      "\n",
      "See the caveats in the documentation: https://pandas.pydata.org/pandas-docs/stable/user_guide/indexing.html#returning-a-view-versus-a-copy\n"
     ]
    },
    {
     "data": {
      "text/html": [
       "<div>\n",
       "<style scoped>\n",
       "    .dataframe tbody tr th:only-of-type {\n",
       "        vertical-align: middle;\n",
       "    }\n",
       "\n",
       "    .dataframe tbody tr th {\n",
       "        vertical-align: top;\n",
       "    }\n",
       "\n",
       "    .dataframe thead th {\n",
       "        text-align: right;\n",
       "    }\n",
       "</style>\n",
       "<table border=\"1\" class=\"dataframe\">\n",
       "  <thead>\n",
       "    <tr style=\"text-align: right;\">\n",
       "      <th></th>\n",
       "      <th>calitp_itp_id</th>\n",
       "      <th>date</th>\n",
       "      <th>trip_key</th>\n",
       "      <th>trip_id</th>\n",
       "      <th>is_in_service</th>\n",
       "      <th>day_name</th>\n",
       "      <th>stop_sequence</th>\n",
       "      <th>departure_time</th>\n",
       "      <th>stop_id</th>\n",
       "      <th>shape_id</th>\n",
       "      <th>route_id</th>\n",
       "      <th>departure_hour</th>\n",
       "      <th>runtime_seconds</th>\n",
       "    </tr>\n",
       "  </thead>\n",
       "  <tbody>\n",
       "    <tr>\n",
       "      <th>596732</th>\n",
       "      <td>182</td>\n",
       "      <td>2021-10-07</td>\n",
       "      <td>-5414324691387759528</td>\n",
       "      <td>53917413-SEPT21-D07CAR-1_Weekday</td>\n",
       "      <td>True</td>\n",
       "      <td>Thursday</td>\n",
       "      <td>54</td>\n",
       "      <td>2022-02-03 00:02:00</td>\n",
       "      <td>16770</td>\n",
       "      <td>6020010_SEPT21</td>\n",
       "      <td>602-13149</td>\n",
       "      <td>0</td>\n",
       "      <td>2340</td>\n",
       "    </tr>\n",
       "    <tr>\n",
       "      <th>605400</th>\n",
       "      <td>182</td>\n",
       "      <td>2021-10-07</td>\n",
       "      <td>-5414324691387759528</td>\n",
       "      <td>53917413-SEPT21-D07CAR-1_Weekday</td>\n",
       "      <td>True</td>\n",
       "      <td>Thursday</td>\n",
       "      <td>1</td>\n",
       "      <td>2022-02-03 23:23:00</td>\n",
       "      <td>6428</td>\n",
       "      <td>6020010_SEPT21</td>\n",
       "      <td>602-13149</td>\n",
       "      <td>23</td>\n",
       "      <td>2340</td>\n",
       "    </tr>\n",
       "  </tbody>\n",
       "</table>\n",
       "</div>"
      ],
      "text/plain": [
       "        calitp_itp_id       date             trip_key  \\\n",
       "596732            182 2021-10-07 -5414324691387759528   \n",
       "605400            182 2021-10-07 -5414324691387759528   \n",
       "\n",
       "                                 trip_id  is_in_service  day_name  \\\n",
       "596732  53917413-SEPT21-D07CAR-1_Weekday           True  Thursday   \n",
       "605400  53917413-SEPT21-D07CAR-1_Weekday           True  Thursday   \n",
       "\n",
       "        stop_sequence      departure_time stop_id        shape_id   route_id  \\\n",
       "596732             54 2022-02-03 00:02:00   16770  6020010_SEPT21  602-13149   \n",
       "605400              1 2022-02-03 23:23:00    6428  6020010_SEPT21  602-13149   \n",
       "\n",
       "        departure_hour  runtime_seconds  \n",
       "596732               0             2340  \n",
       "605400              23             2340  "
      ]
     },
     "execution_count": 31,
     "metadata": {},
     "output_type": "execute_result"
    }
   ],
   "source": [
    "# Go back to this method, because this correctly deals with crossing midnight\n",
    "one_trip2 = find_runtime_modified(one_trip)\n",
    "one_trip2[(one_trip2.stop_sequence==one_trip2.stop_sequence.max()) |\n",
    "         (one_trip2.stop_sequence==one_trip2.stop_sequence.min())\n",
    "        ]"
   ]
  },
  {
   "cell_type": "code",
   "execution_count": 32,
   "id": "abeafbe6-aa44-49d6-ba77-e2d34f7167df",
   "metadata": {},
   "outputs": [],
   "source": [
    "def calculate_runtime_hourlytrips_part1_modified(df):\n",
    "    # Calculate run time for a trip\n",
    "    # Find the median stop (keep that observation)\n",
    "    \n",
    "    def find_runtime(df):\n",
    "        mindt = df[df.stop_sequence == df.stop_sequence.min()].departure_time.iloc[0]\n",
    "        maxdt = df[df.stop_sequence == df.stop_sequence.max()].departure_time.iloc[0]\n",
    "        td = (maxdt - mindt)\n",
    "        df['runtime_seconds'] = td.seconds\n",
    "        return df\n",
    "\n",
    "    group_cols = ['trip_key', 'day_name']\n",
    "    df = df.groupby(group_cols).apply(find_runtime)\n",
    "\n",
    "    df = df.assign(\n",
    "        middle_stop = df.groupby(group_cols)[\"stop_sequence\"].transform(\"median\"),\n",
    "    ).astype({\"middle_stop\": \"int64\"})\n",
    "    \n",
    "    return df"
   ]
  },
  {
   "cell_type": "code",
   "execution_count": 33,
   "id": "e8bd3425-d5d4-4a53-852a-f5c0d45477d9",
   "metadata": {},
   "outputs": [],
   "source": [
    "tiff3 = calculate_runtime_hourlytrips_part1_modified(tiff2)\n",
    "tiff3  = tiff3 >> select(_.trip_key, _.day_name, _.runtime_seconds) "
   ]
  },
  {
   "cell_type": "code",
   "execution_count": 34,
   "id": "19c7638a-fd91-41b9-b7eb-5ad4e925baf8",
   "metadata": {},
   "outputs": [
    {
     "data": {
      "text/plain": [
       "both          14118\n",
       "left_only         0\n",
       "right_only        0\n",
       "Name: _merge, dtype: int64"
      ]
     },
     "execution_count": 34,
     "metadata": {},
     "output_type": "execute_result"
    }
   ],
   "source": [
    "runtime_merge = pd.merge(eric3.drop_duplicates(), \n",
    "                         tiff3.drop_duplicates(), \n",
    "                         on = [\"trip_key\", \"day_name\"],\n",
    "                         how = \"outer\",\n",
    "                         validate = \"1:1\",\n",
    "                         indicator=True\n",
    "                        )\n",
    "\n",
    "runtime_merge._merge.value_counts()"
   ]
  },
  {
   "cell_type": "code",
   "execution_count": 35,
   "id": "453aa21e-7fe0-4157-85c3-8d2a809db809",
   "metadata": {},
   "outputs": [],
   "source": [
    "# Now the assert passes\n",
    "assert (runtime_merge.runtime_seconds_x == runtime_merge.runtime_seconds_y).all()"
   ]
  },
  {
   "cell_type": "markdown",
   "id": "cad06ee5-a671-432c-86ca-a335c8f9b698",
   "metadata": {},
   "source": [
    "### Go onto middle stops\n",
    "\n",
    "Make sure the `mean(runtime)` is the same"
   ]
  },
  {
   "cell_type": "code",
   "execution_count": 36,
   "id": "95db8518-2ad2-43b6-b3ec-a38a6805b936",
   "metadata": {},
   "outputs": [],
   "source": [
    "## Tiffany's code\n",
    "def calculate_runtime_hourlytrips_part2(df):\n",
    "    \n",
    "    # Incorporate part 1 from above\n",
    "    \n",
    "    # Calculate run time for a trip\n",
    "    # Find the median stop (keep that observation)\n",
    "    \n",
    "    def find_runtime(df):\n",
    "        \n",
    "        mindt = df[df.stop_sequence == df.stop_sequence.min()].departure_time.iloc[0]\n",
    "        maxdt = df[df.stop_sequence == df.stop_sequence.max()].departure_time.iloc[0]\n",
    "        td = (maxdt - mindt)\n",
    "        df['runtime_seconds'] = td.seconds\n",
    "        return df\n",
    "\n",
    "    group_cols = ['trip_key', 'day_name']\n",
    "    df = df.groupby(group_cols).apply(find_runtime)\n",
    "\n",
    "    df = df.assign(\n",
    "        middle_stop = df.groupby(group_cols)[\"stop_sequence\"].transform(\"median\"),\n",
    "    ).astype({\"middle_stop\": \"int64\"})\n",
    "    \n",
    "    df = df[df.runtime_seconds.notna()].reset_index(drop=True)\n",
    "\n",
    "    # Still want to use this to merge on the mean runtime info\n",
    "    middle_stops = df >> filter(_.stop_sequence == _.middle_stop)\n",
    "\n",
    "    middle_stops = middle_stops.assign(\n",
    "        mean_runtime_min = (middle_stops.groupby([\"calitp_itp_id\", \n",
    "                                                  \"route_id\", \"shape_id\", \n",
    "                                                  \"departure_hour\", \"day_name\"])\n",
    "                            [\"runtime_seconds\"].transform(\"mean\")\n",
    "                           )\n",
    "    )\n",
    "    \n",
    "    return middle_stops    "
   ]
  },
  {
   "cell_type": "code",
   "execution_count": 37,
   "id": "2a598956-ee0c-4169-97dd-9e7295fe1c35",
   "metadata": {},
   "outputs": [
    {
     "ename": "TypeError",
     "evalue": "unsupported operand type(s) for -: 'str' and 'str'",
     "output_type": "error",
     "traceback": [
      "\u001b[0;31m---------------------------------------------------------------------------\u001b[0m",
      "\u001b[0;31mTypeError\u001b[0m                                 Traceback (most recent call last)",
      "\u001b[0;32m/opt/conda/lib/python3.9/site-packages/pandas/core/groupby/groupby.py\u001b[0m in \u001b[0;36mapply\u001b[0;34m(self, func, *args, **kwargs)\u001b[0m\n\u001b[1;32m   1413\u001b[0m             \u001b[0;32mtry\u001b[0m\u001b[0;34m:\u001b[0m\u001b[0;34m\u001b[0m\u001b[0;34m\u001b[0m\u001b[0m\n\u001b[0;32m-> 1414\u001b[0;31m                 \u001b[0mresult\u001b[0m \u001b[0;34m=\u001b[0m \u001b[0mself\u001b[0m\u001b[0;34m.\u001b[0m\u001b[0m_python_apply_general\u001b[0m\u001b[0;34m(\u001b[0m\u001b[0mf\u001b[0m\u001b[0;34m,\u001b[0m \u001b[0mself\u001b[0m\u001b[0;34m.\u001b[0m\u001b[0m_selected_obj\u001b[0m\u001b[0;34m)\u001b[0m\u001b[0;34m\u001b[0m\u001b[0;34m\u001b[0m\u001b[0m\n\u001b[0m\u001b[1;32m   1415\u001b[0m             \u001b[0;32mexcept\u001b[0m \u001b[0mTypeError\u001b[0m\u001b[0;34m:\u001b[0m\u001b[0;34m\u001b[0m\u001b[0;34m\u001b[0m\u001b[0m\n",
      "\u001b[0;32m/opt/conda/lib/python3.9/site-packages/pandas/core/groupby/groupby.py\u001b[0m in \u001b[0;36m_python_apply_general\u001b[0;34m(self, f, data, not_indexed_same)\u001b[0m\n\u001b[1;32m   1454\u001b[0m         \"\"\"\n\u001b[0;32m-> 1455\u001b[0;31m         \u001b[0mvalues\u001b[0m\u001b[0;34m,\u001b[0m \u001b[0mmutated\u001b[0m \u001b[0;34m=\u001b[0m \u001b[0mself\u001b[0m\u001b[0;34m.\u001b[0m\u001b[0mgrouper\u001b[0m\u001b[0;34m.\u001b[0m\u001b[0mapply\u001b[0m\u001b[0;34m(\u001b[0m\u001b[0mf\u001b[0m\u001b[0;34m,\u001b[0m \u001b[0mdata\u001b[0m\u001b[0;34m,\u001b[0m \u001b[0mself\u001b[0m\u001b[0;34m.\u001b[0m\u001b[0maxis\u001b[0m\u001b[0;34m)\u001b[0m\u001b[0;34m\u001b[0m\u001b[0;34m\u001b[0m\u001b[0m\n\u001b[0m\u001b[1;32m   1456\u001b[0m \u001b[0;34m\u001b[0m\u001b[0m\n",
      "\u001b[0;32m/opt/conda/lib/python3.9/site-packages/pandas/core/groupby/ops.py\u001b[0m in \u001b[0;36mapply\u001b[0;34m(self, f, data, axis)\u001b[0m\n\u001b[1;32m    760\u001b[0m             \u001b[0mgroup_axes\u001b[0m \u001b[0;34m=\u001b[0m \u001b[0mgroup\u001b[0m\u001b[0;34m.\u001b[0m\u001b[0maxes\u001b[0m\u001b[0;34m\u001b[0m\u001b[0;34m\u001b[0m\u001b[0m\n\u001b[0;32m--> 761\u001b[0;31m             \u001b[0mres\u001b[0m \u001b[0;34m=\u001b[0m \u001b[0mf\u001b[0m\u001b[0;34m(\u001b[0m\u001b[0mgroup\u001b[0m\u001b[0;34m)\u001b[0m\u001b[0;34m\u001b[0m\u001b[0;34m\u001b[0m\u001b[0m\n\u001b[0m\u001b[1;32m    762\u001b[0m             \u001b[0;32mif\u001b[0m \u001b[0;32mnot\u001b[0m \u001b[0mmutated\u001b[0m \u001b[0;32mand\u001b[0m \u001b[0;32mnot\u001b[0m \u001b[0m_is_indexed_like\u001b[0m\u001b[0;34m(\u001b[0m\u001b[0mres\u001b[0m\u001b[0;34m,\u001b[0m \u001b[0mgroup_axes\u001b[0m\u001b[0;34m,\u001b[0m \u001b[0maxis\u001b[0m\u001b[0;34m)\u001b[0m\u001b[0;34m:\u001b[0m\u001b[0;34m\u001b[0m\u001b[0;34m\u001b[0m\u001b[0m\n",
      "\u001b[0;32m/tmp/ipykernel_1380/3214089015.py\u001b[0m in \u001b[0;36mfind_runtime\u001b[0;34m(df)\u001b[0m\n\u001b[1;32m     11\u001b[0m         \u001b[0mmaxdt\u001b[0m \u001b[0;34m=\u001b[0m \u001b[0mdf\u001b[0m\u001b[0;34m[\u001b[0m\u001b[0mdf\u001b[0m\u001b[0;34m.\u001b[0m\u001b[0mstop_sequence\u001b[0m \u001b[0;34m==\u001b[0m \u001b[0mdf\u001b[0m\u001b[0;34m.\u001b[0m\u001b[0mstop_sequence\u001b[0m\u001b[0;34m.\u001b[0m\u001b[0mmax\u001b[0m\u001b[0;34m(\u001b[0m\u001b[0;34m)\u001b[0m\u001b[0;34m]\u001b[0m\u001b[0;34m.\u001b[0m\u001b[0mdeparture_time\u001b[0m\u001b[0;34m.\u001b[0m\u001b[0miloc\u001b[0m\u001b[0;34m[\u001b[0m\u001b[0;36m0\u001b[0m\u001b[0;34m]\u001b[0m\u001b[0;34m\u001b[0m\u001b[0;34m\u001b[0m\u001b[0m\n\u001b[0;32m---> 12\u001b[0;31m         \u001b[0mtd\u001b[0m \u001b[0;34m=\u001b[0m \u001b[0;34m(\u001b[0m\u001b[0mmaxdt\u001b[0m \u001b[0;34m-\u001b[0m \u001b[0mmindt\u001b[0m\u001b[0;34m)\u001b[0m\u001b[0;34m\u001b[0m\u001b[0;34m\u001b[0m\u001b[0m\n\u001b[0m\u001b[1;32m     13\u001b[0m         \u001b[0mdf\u001b[0m\u001b[0;34m[\u001b[0m\u001b[0;34m'runtime_seconds'\u001b[0m\u001b[0;34m]\u001b[0m \u001b[0;34m=\u001b[0m \u001b[0mtd\u001b[0m\u001b[0;34m.\u001b[0m\u001b[0mseconds\u001b[0m\u001b[0;34m\u001b[0m\u001b[0;34m\u001b[0m\u001b[0m\n",
      "\u001b[0;31mTypeError\u001b[0m: unsupported operand type(s) for -: 'str' and 'str'",
      "\nDuring handling of the above exception, another exception occurred:\n",
      "\u001b[0;31mTypeError\u001b[0m                                 Traceback (most recent call last)",
      "\u001b[0;32m/tmp/ipykernel_1380/1606621541.py\u001b[0m in \u001b[0;36m<module>\u001b[0;34m\u001b[0m\n\u001b[0;32m----> 1\u001b[0;31m \u001b[0mtiff4\u001b[0m \u001b[0;34m=\u001b[0m \u001b[0mcalculate_runtime_hourlytrips_part2\u001b[0m\u001b[0;34m(\u001b[0m\u001b[0mtiff\u001b[0m\u001b[0;34m)\u001b[0m\u001b[0;34m\u001b[0m\u001b[0;34m\u001b[0m\u001b[0m\n\u001b[0m\u001b[1;32m      2\u001b[0m \u001b[0mtiff4\u001b[0m\u001b[0;34m.\u001b[0m\u001b[0mhead\u001b[0m\u001b[0;34m(\u001b[0m\u001b[0;34m)\u001b[0m\u001b[0;34m\u001b[0m\u001b[0;34m\u001b[0m\u001b[0m\n",
      "\u001b[0;32m/tmp/ipykernel_1380/3214089015.py\u001b[0m in \u001b[0;36mcalculate_runtime_hourlytrips_part2\u001b[0;34m(df)\u001b[0m\n\u001b[1;32m     15\u001b[0m \u001b[0;34m\u001b[0m\u001b[0m\n\u001b[1;32m     16\u001b[0m     \u001b[0mgroup_cols\u001b[0m \u001b[0;34m=\u001b[0m \u001b[0;34m[\u001b[0m\u001b[0;34m'trip_key'\u001b[0m\u001b[0;34m,\u001b[0m \u001b[0;34m'day_name'\u001b[0m\u001b[0;34m]\u001b[0m\u001b[0;34m\u001b[0m\u001b[0;34m\u001b[0m\u001b[0m\n\u001b[0;32m---> 17\u001b[0;31m     \u001b[0mdf\u001b[0m \u001b[0;34m=\u001b[0m \u001b[0mdf\u001b[0m\u001b[0;34m.\u001b[0m\u001b[0mgroupby\u001b[0m\u001b[0;34m(\u001b[0m\u001b[0mgroup_cols\u001b[0m\u001b[0;34m)\u001b[0m\u001b[0;34m.\u001b[0m\u001b[0mapply\u001b[0m\u001b[0;34m(\u001b[0m\u001b[0mfind_runtime\u001b[0m\u001b[0;34m)\u001b[0m\u001b[0;34m\u001b[0m\u001b[0;34m\u001b[0m\u001b[0m\n\u001b[0m\u001b[1;32m     18\u001b[0m \u001b[0;34m\u001b[0m\u001b[0m\n\u001b[1;32m     19\u001b[0m     df = df.assign(\n",
      "\u001b[0;32m/opt/conda/lib/python3.9/site-packages/pandas/core/groupby/groupby.py\u001b[0m in \u001b[0;36mapply\u001b[0;34m(self, func, *args, **kwargs)\u001b[0m\n\u001b[1;32m   1423\u001b[0m \u001b[0;34m\u001b[0m\u001b[0m\n\u001b[1;32m   1424\u001b[0m                 \u001b[0;32mwith\u001b[0m \u001b[0mself\u001b[0m\u001b[0;34m.\u001b[0m\u001b[0m_group_selection_context\u001b[0m\u001b[0;34m(\u001b[0m\u001b[0;34m)\u001b[0m\u001b[0;34m:\u001b[0m\u001b[0;34m\u001b[0m\u001b[0;34m\u001b[0m\u001b[0m\n\u001b[0;32m-> 1425\u001b[0;31m                     \u001b[0;32mreturn\u001b[0m \u001b[0mself\u001b[0m\u001b[0;34m.\u001b[0m\u001b[0m_python_apply_general\u001b[0m\u001b[0;34m(\u001b[0m\u001b[0mf\u001b[0m\u001b[0;34m,\u001b[0m \u001b[0mself\u001b[0m\u001b[0;34m.\u001b[0m\u001b[0m_selected_obj\u001b[0m\u001b[0;34m)\u001b[0m\u001b[0;34m\u001b[0m\u001b[0;34m\u001b[0m\u001b[0m\n\u001b[0m\u001b[1;32m   1426\u001b[0m \u001b[0;34m\u001b[0m\u001b[0m\n\u001b[1;32m   1427\u001b[0m         \u001b[0;32mreturn\u001b[0m \u001b[0mresult\u001b[0m\u001b[0;34m\u001b[0m\u001b[0;34m\u001b[0m\u001b[0m\n",
      "\u001b[0;32m/opt/conda/lib/python3.9/site-packages/pandas/core/groupby/groupby.py\u001b[0m in \u001b[0;36m_python_apply_general\u001b[0;34m(self, f, data, not_indexed_same)\u001b[0m\n\u001b[1;32m   1453\u001b[0m             \u001b[0mdata\u001b[0m \u001b[0mafter\u001b[0m \u001b[0mapplying\u001b[0m \u001b[0mf\u001b[0m\u001b[0;34m\u001b[0m\u001b[0;34m\u001b[0m\u001b[0m\n\u001b[1;32m   1454\u001b[0m         \"\"\"\n\u001b[0;32m-> 1455\u001b[0;31m         \u001b[0mvalues\u001b[0m\u001b[0;34m,\u001b[0m \u001b[0mmutated\u001b[0m \u001b[0;34m=\u001b[0m \u001b[0mself\u001b[0m\u001b[0;34m.\u001b[0m\u001b[0mgrouper\u001b[0m\u001b[0;34m.\u001b[0m\u001b[0mapply\u001b[0m\u001b[0;34m(\u001b[0m\u001b[0mf\u001b[0m\u001b[0;34m,\u001b[0m \u001b[0mdata\u001b[0m\u001b[0;34m,\u001b[0m \u001b[0mself\u001b[0m\u001b[0;34m.\u001b[0m\u001b[0maxis\u001b[0m\u001b[0;34m)\u001b[0m\u001b[0;34m\u001b[0m\u001b[0;34m\u001b[0m\u001b[0m\n\u001b[0m\u001b[1;32m   1456\u001b[0m \u001b[0;34m\u001b[0m\u001b[0m\n\u001b[1;32m   1457\u001b[0m         \u001b[0;32mif\u001b[0m \u001b[0mnot_indexed_same\u001b[0m \u001b[0;32mis\u001b[0m \u001b[0;32mNone\u001b[0m\u001b[0;34m:\u001b[0m\u001b[0;34m\u001b[0m\u001b[0;34m\u001b[0m\u001b[0m\n",
      "\u001b[0;32m/opt/conda/lib/python3.9/site-packages/pandas/core/groupby/ops.py\u001b[0m in \u001b[0;36mapply\u001b[0;34m(self, f, data, axis)\u001b[0m\n\u001b[1;32m    759\u001b[0m             \u001b[0;31m# group might be modified\u001b[0m\u001b[0;34m\u001b[0m\u001b[0;34m\u001b[0m\u001b[0m\n\u001b[1;32m    760\u001b[0m             \u001b[0mgroup_axes\u001b[0m \u001b[0;34m=\u001b[0m \u001b[0mgroup\u001b[0m\u001b[0;34m.\u001b[0m\u001b[0maxes\u001b[0m\u001b[0;34m\u001b[0m\u001b[0;34m\u001b[0m\u001b[0m\n\u001b[0;32m--> 761\u001b[0;31m             \u001b[0mres\u001b[0m \u001b[0;34m=\u001b[0m \u001b[0mf\u001b[0m\u001b[0;34m(\u001b[0m\u001b[0mgroup\u001b[0m\u001b[0;34m)\u001b[0m\u001b[0;34m\u001b[0m\u001b[0;34m\u001b[0m\u001b[0m\n\u001b[0m\u001b[1;32m    762\u001b[0m             \u001b[0;32mif\u001b[0m \u001b[0;32mnot\u001b[0m \u001b[0mmutated\u001b[0m \u001b[0;32mand\u001b[0m \u001b[0;32mnot\u001b[0m \u001b[0m_is_indexed_like\u001b[0m\u001b[0;34m(\u001b[0m\u001b[0mres\u001b[0m\u001b[0;34m,\u001b[0m \u001b[0mgroup_axes\u001b[0m\u001b[0;34m,\u001b[0m \u001b[0maxis\u001b[0m\u001b[0;34m)\u001b[0m\u001b[0;34m:\u001b[0m\u001b[0;34m\u001b[0m\u001b[0;34m\u001b[0m\u001b[0m\n\u001b[1;32m    763\u001b[0m                 \u001b[0mmutated\u001b[0m \u001b[0;34m=\u001b[0m \u001b[0;32mTrue\u001b[0m\u001b[0;34m\u001b[0m\u001b[0;34m\u001b[0m\u001b[0m\n",
      "\u001b[0;32m/tmp/ipykernel_1380/3214089015.py\u001b[0m in \u001b[0;36mfind_runtime\u001b[0;34m(df)\u001b[0m\n\u001b[1;32m     10\u001b[0m         \u001b[0mmindt\u001b[0m \u001b[0;34m=\u001b[0m \u001b[0mdf\u001b[0m\u001b[0;34m[\u001b[0m\u001b[0mdf\u001b[0m\u001b[0;34m.\u001b[0m\u001b[0mstop_sequence\u001b[0m \u001b[0;34m==\u001b[0m \u001b[0mdf\u001b[0m\u001b[0;34m.\u001b[0m\u001b[0mstop_sequence\u001b[0m\u001b[0;34m.\u001b[0m\u001b[0mmin\u001b[0m\u001b[0;34m(\u001b[0m\u001b[0;34m)\u001b[0m\u001b[0;34m]\u001b[0m\u001b[0;34m.\u001b[0m\u001b[0mdeparture_time\u001b[0m\u001b[0;34m.\u001b[0m\u001b[0miloc\u001b[0m\u001b[0;34m[\u001b[0m\u001b[0;36m0\u001b[0m\u001b[0;34m]\u001b[0m\u001b[0;34m\u001b[0m\u001b[0;34m\u001b[0m\u001b[0m\n\u001b[1;32m     11\u001b[0m         \u001b[0mmaxdt\u001b[0m \u001b[0;34m=\u001b[0m \u001b[0mdf\u001b[0m\u001b[0;34m[\u001b[0m\u001b[0mdf\u001b[0m\u001b[0;34m.\u001b[0m\u001b[0mstop_sequence\u001b[0m \u001b[0;34m==\u001b[0m \u001b[0mdf\u001b[0m\u001b[0;34m.\u001b[0m\u001b[0mstop_sequence\u001b[0m\u001b[0;34m.\u001b[0m\u001b[0mmax\u001b[0m\u001b[0;34m(\u001b[0m\u001b[0;34m)\u001b[0m\u001b[0;34m]\u001b[0m\u001b[0;34m.\u001b[0m\u001b[0mdeparture_time\u001b[0m\u001b[0;34m.\u001b[0m\u001b[0miloc\u001b[0m\u001b[0;34m[\u001b[0m\u001b[0;36m0\u001b[0m\u001b[0;34m]\u001b[0m\u001b[0;34m\u001b[0m\u001b[0;34m\u001b[0m\u001b[0m\n\u001b[0;32m---> 12\u001b[0;31m         \u001b[0mtd\u001b[0m \u001b[0;34m=\u001b[0m \u001b[0;34m(\u001b[0m\u001b[0mmaxdt\u001b[0m \u001b[0;34m-\u001b[0m \u001b[0mmindt\u001b[0m\u001b[0;34m)\u001b[0m\u001b[0;34m\u001b[0m\u001b[0;34m\u001b[0m\u001b[0m\n\u001b[0m\u001b[1;32m     13\u001b[0m         \u001b[0mdf\u001b[0m\u001b[0;34m[\u001b[0m\u001b[0;34m'runtime_seconds'\u001b[0m\u001b[0;34m]\u001b[0m \u001b[0;34m=\u001b[0m \u001b[0mtd\u001b[0m\u001b[0;34m.\u001b[0m\u001b[0mseconds\u001b[0m\u001b[0;34m\u001b[0m\u001b[0;34m\u001b[0m\u001b[0m\n\u001b[1;32m     14\u001b[0m         \u001b[0;32mreturn\u001b[0m \u001b[0mdf\u001b[0m\u001b[0;34m\u001b[0m\u001b[0;34m\u001b[0m\u001b[0m\n",
      "\u001b[0;31mTypeError\u001b[0m: unsupported operand type(s) for -: 'str' and 'str'"
     ]
    }
   ],
   "source": [
    "tiff4 = calculate_runtime_hourlytrips_part2(tiff)\n",
    "tiff4.head()"
   ]
  },
  {
   "cell_type": "code",
   "execution_count": null,
   "id": "d9c43596-2773-4db4-9500-74293c74a8d5",
   "metadata": {},
   "outputs": [],
   "source": [
    "## Eric's code\n",
    "\n",
    "def eric_part2(st_trips_joined):\n",
    "    st_trips_joined = st_trips_joined.dropna(subset=['departure_time'])\n",
    "    # _st_trips_joined = st_trips_joined\n",
    "    st_trips_joined.departure_time = st_trips_joined.departure_time.apply(utils.fix_gtfs_time)\n",
    "    st_trips_joined['departure_dt'] = (st_trips_joined['departure_time']\n",
    "                                 .apply(lambda x:\n",
    "                                        dt.datetime.strptime(x, '%H:%M:%S'))\n",
    "                                      )\n",
    "    st_trips_joined['departure_hour'] = st_trips_joined['departure_dt'].apply(lambda x: x.hour)\n",
    "    \n",
    "    ## calculate runtimes for each trip, if possible\n",
    "    def find_runtime(df):\n",
    "        mindt = df[df.stop_sequence == df.stop_sequence.min()].departure_dt.iloc[0]\n",
    "        maxdt = df[df.stop_sequence == df.stop_sequence.max()].departure_dt.iloc[0]\n",
    "        td = (maxdt - mindt)\n",
    "        df['runtime_seconds'] = td.seconds\n",
    "        return df\n",
    "    \n",
    "    st_with_runtimes = st_trips_joined.groupby(['trip_key', 'day_name']).apply(find_runtime)\n",
    "    st_with_runtimes = st_with_runtimes >> select(_.trip_key, _.day_name, _.runtime_seconds)\n",
    "    \n",
    "    \n",
    "    ## find middle stop for each trip to calculate frequencies\n",
    "    middle_stops = (st_trips_joined\n",
    "                    >> group_by(_.calitp_itp_id, _.shape_id)\n",
    "                    >> summarize(middle_stop = _.stop_sequence.median())\n",
    "                   )\n",
    "\n",
    "\n",
    "    middle_stops.middle_stop = middle_stops.middle_stop.astype('int64')\n",
    "    \n",
    "    \n",
    "    ## this logic here is confusing, with middle_st and middle_st_runtimes both having inner joins with st_trips_joined\n",
    "    # When this is abstracted to all operators, creates more issues\n",
    "    # probably need more groupby columns\n",
    "    # error is because cal_itp_id_x, date_x, etc exist, so can't call the columns directly\n",
    "    # probably works fine for individual operator, \n",
    "    # but across all, need to throw more columns in the on=[] for the join and in groupby?\n",
    "    \n",
    "    # try:\n",
    "    middle_st = (middle_stops\n",
    "                 >> select(_.stop_sequence == _.middle_stop, _.shape_id)\n",
    "                 >> inner_join(_, st_trips_joined, on=['shape_id', 'stop_sequence'])\n",
    "                )\n",
    "    \n",
    "    \n",
    "    ## if multiple trips within the hour, calculate mean runtime\n",
    "    middle_st_runtimes = (middle_stops\n",
    "         >> inner_join(_, st_trips_joined, on=['trip_key', 'day_name'\n",
    "                                              ])\n",
    "         >> group_by(_.calitp_itp_id, _.route_id, _.shape_id, \n",
    "                     _.departure_hour, _.day_name)\n",
    "         >> summarize(mean_runtime_sec = _.runtime_seconds.mean())\n",
    "         )\n",
    "\n",
    "    middle_st_runtimes['mean_runtime_min'] = (middle_st_runtimes.mean_runtime_sec\n",
    "                                              .apply(lambda x: int(round(x) / 60))\n",
    "                                             )\n",
    "    \n",
    "    return middle_st_runtimes\n",
    "    "
   ]
  },
  {
   "cell_type": "code",
   "execution_count": null,
   "id": "acccd812-41ab-4f95-8042-ad3316ce42b4",
   "metadata": {},
   "outputs": [],
   "source": [
    "eric4 = eric_part2(eric)"
   ]
  },
  {
   "cell_type": "code",
   "execution_count": null,
   "id": "cd5489b7-557e-450f-83c9-b38cdfdc6285",
   "metadata": {},
   "outputs": [],
   "source": [
    "eric4.head()"
   ]
  },
  {
   "cell_type": "code",
   "execution_count": null,
   "id": "090922b7-f1d3-4cf9-bbc4-909ca11417b8",
   "metadata": {},
   "outputs": [],
   "source": []
  },
  {
   "cell_type": "code",
   "execution_count": null,
   "id": "c883026d-cad7-4b45-ac7c-a66b97eff212",
   "metadata": {},
   "outputs": [],
   "source": []
  },
  {
   "cell_type": "code",
   "execution_count": null,
   "id": "01806de9-ce63-498f-829a-301c230a58f5",
   "metadata": {},
   "outputs": [],
   "source": []
  },
  {
   "cell_type": "code",
   "execution_count": null,
   "id": "0812fbf8-b753-4442-aa6a-8caa7964df5f",
   "metadata": {},
   "outputs": [],
   "source": []
  },
  {
   "cell_type": "code",
   "execution_count": null,
   "id": "bb6643ac-8a6f-40bd-8cb8-d1555f37c3c3",
   "metadata": {},
   "outputs": [],
   "source": []
  },
  {
   "cell_type": "code",
   "execution_count": null,
   "id": "b9445f49-045b-498d-8aa2-39aa16892c7e",
   "metadata": {},
   "outputs": [],
   "source": []
  },
  {
   "cell_type": "code",
   "execution_count": null,
   "id": "d32767d9-090d-4a1f-bc92-f1a42673cc35",
   "metadata": {},
   "outputs": [],
   "source": []
  },
  {
   "cell_type": "code",
   "execution_count": null,
   "id": "108e3941-d861-408b-a559-d9a91211bae4",
   "metadata": {},
   "outputs": [],
   "source": [
    "# Modify this as you find errors\n",
    "\n",
    "def calculate_runtime_hourlytrips_NEW(df):\n",
    "    # Calculate run time for a trip\n",
    "    # Find the median stop (keep that observation)\n",
    "    \n",
    "    def find_runtime(df):\n",
    "        mindt = df[df.stop_sequence == df.stop_sequence.min()].departure_time.iloc[0]\n",
    "        maxdt = df[df.stop_sequence == df.stop_sequence.max()].departure_time.iloc[0]\n",
    "        td = (maxdt - mindt)\n",
    "        df['runtime_seconds'] = td.seconds\n",
    "        return df\n",
    "\n",
    "    group_cols = ['trip_key', 'day_name']\n",
    "    df = df.groupby(group_cols).apply(find_runtime)\n",
    "\n",
    "    df = df.assign(\n",
    "        middle_stop = df.groupby(group_cols)[\"stop_sequence\"].transform(\"median\"),\n",
    "    ).astype({\"middle_stop\": \"int64\"})\n",
    "    \n",
    "    ## Left off here\n",
    "    \n",
    "    \n",
    "    # Drop any trips with runtime of NaN calculated\n",
    "    df = df[df.runtime_seconds.notna()].reset_index(drop=True)\n",
    "\n",
    "    # Still want to use this to merge on the mean runtime info\n",
    "    middle_stops = df >> filter(_.stop_sequence == _.middle_stop)\n",
    "    \n",
    "    middle_stops = middle_stops.assign(\n",
    "        mean_runtime_min = (middle_stops.groupby([\"calitp_itp_id\", \n",
    "                                                  \"route_id\", \"shape_id\", \n",
    "                                                  \"departure_hour\", \"day_name\"])\n",
    "                            [\"runtime_seconds\"].transform(\"mean\")\n",
    "                           )\n",
    "    )\n",
    "    \n",
    "    debug_me = middle_stops[middle_stops.mean_runtime_min.isna()][\n",
    "        [\"calitp_itp_id\", \"shape_id\", \"trip_key\"]]\n",
    "    print(\"Debug errors for NaN mean runtimes\")\n",
    "    print(debug_me.head())\n",
    "    # Why are there some NaNs from this, when NaNs were dropped before?\n",
    "    # Some are due to no departure_time (handle it above by dropping NaTs)\n",
    "    \n",
    "    middle_stops = middle_stops.assign(\n",
    "        mean_runtime_min = (middle_stops.mean_runtime_min.dropna()     \n",
    "                            .apply(lambda x: int(round(x) / 60))\n",
    "                           )\n",
    "    )   \n",
    "    \n",
    "    # Add trips per hour column\n",
    "    shape_frequency = (\n",
    "        middle_stops\n",
    "        >> count(_.calitp_itp_id, _.route_id,\n",
    "                 _.shape_id, _.departure_hour, _.day_name, sort = True)\n",
    "        >> rename(trips_per_hour = \"n\")\n",
    "        >> inner_join(_, middle_stops, \n",
    "                      on = [\"calitp_itp_id\", \"day_name\", \n",
    "                            \"shape_id\", \"departure_hour\", \"route_id\"])\n",
    "    )\n",
    "    \n",
    "    # Now, data is at the trip-level (trip_key) still present\n",
    "    # Drop duplicates, but no aggregation because trips_per_hour and mean_runtime \n",
    "    # are already correctly generated at the route-level, across trips in that departure hour\n",
    "    shape_frequency = shape_frequency.drop_duplicates(subset=[\n",
    "        \"calitp_itp_id\", \"shape_id\", \"departure_hour\",\n",
    "        \"day_name\", \"route_id\"])\n",
    "    \n",
    "    # There's an aggregation to deal with multiple route_ids that share same shape_id\n",
    "    # If there are still multiple route_ids, then aggregate and sum / mean\n",
    "    # Modify this to include itp_id into the groupby\n",
    "    shape_frequency2 = (shape_frequency.groupby(\n",
    "        [\"calitp_itp_id\", \"shape_id\", \"departure_hour\", \"day_name\"])\n",
    "                        .agg({\"route_id\": \"max\", \n",
    "                              \"trips_per_hour\": \"sum\", \n",
    "                              \"mean_runtime_min\": \"mean\"\n",
    "                             }).reset_index()\n",
    "                       )\n",
    "    \n",
    "    # Now, drop ITP_ID==200 to use individual operator feeds\n",
    "    shape_frequency3 = shape_frequency2 >> filter(_.calitp_itp_id != 200)\n",
    "    \n",
    "    return shape_frequency3\n",
    "\n",
    "\n",
    "def attach_funding(all_operators_df):\n",
    "    # This is a small query, can leave it here\n",
    "    with_funding = (tbl.views.transitstacks()\n",
    "                    >> select(_.calitp_itp_id == _.itp_id, _.ntd_id, \n",
    "                              _.transit_provider, _._5307_funds, _._5311_funds,\n",
    "                              _.operating_expenses_total_2019)\n",
    "                    >> collect()\n",
    "                    >> right_join(_, all_operators_df, on = 'calitp_itp_id')\n",
    "                   )\n",
    "    \n",
    "    def fix_funds(value):\n",
    "        if type(value) != str:\n",
    "            return None\n",
    "        else:\n",
    "            return int(value.replace('$', '').replace(',', ''))\n",
    "        \n",
    "    funding_cols = [\"_5307_funds\", \"_5311_funds\", \"operating_expenses_total_2019\"] \n",
    "    for c in funding_cols:\n",
    "        with_funding[c] = with_funding[c].apply(fix_funds)\n",
    "    \n",
    "    return with_funding\n"
   ]
  },
  {
   "cell_type": "code",
   "execution_count": null,
   "id": "8a9baabb-8da6-44b6-ba00-d713c5c8dc5f",
   "metadata": {},
   "outputs": [],
   "source": []
  },
  {
   "cell_type": "code",
   "execution_count": null,
   "id": "e3f8962f-0c31-4a10-9ee9-225c989193a7",
   "metadata": {},
   "outputs": [],
   "source": []
  },
  {
   "cell_type": "code",
   "execution_count": null,
   "id": "0a05c1ab-c339-4153-b06c-8c6acb1a08e1",
   "metadata": {},
   "outputs": [],
   "source": []
  }
 ],
 "metadata": {
  "kernelspec": {
   "display_name": "Python 3 (ipykernel)",
   "language": "python",
   "name": "python3"
  },
  "language_info": {
   "codemirror_mode": {
    "name": "ipython",
    "version": 3
   },
   "file_extension": ".py",
   "mimetype": "text/x-python",
   "name": "python",
   "nbconvert_exporter": "python",
   "pygments_lexer": "ipython3",
   "version": "3.9.7"
  }
 },
 "nbformat": 4,
 "nbformat_minor": 5
}
