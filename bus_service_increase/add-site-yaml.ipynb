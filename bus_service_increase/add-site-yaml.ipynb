{
 "cells": [
  {
   "cell_type": "markdown",
   "id": "1acdb21c-a4dd-4427-9a0d-44efe603909f",
   "metadata": {},
   "source": [
    "# Create YAML file to pull the operators for parameterization "
   ]
  },
  {
   "cell_type": "code",
   "execution_count": null,
   "id": "f2dd126d-a2e8-4684-b723-bce937faf4f4",
   "metadata": {},
   "outputs": [],
   "source": [
    "import geopandas as gpd\n",
    "import intake\n",
    "import pandas as pd\n",
    "\n",
    "catalog = intake.open_catalog(\"./*.yml\")"
   ]
  },
  {
   "cell_type": "code",
   "execution_count": null,
   "id": "5b1619c7-74cf-4587-8124-868144b1d720",
   "metadata": {},
   "outputs": [],
   "source": [
    "import yaml"
   ]
  },
  {
   "cell_type": "code",
   "execution_count": null,
   "id": "d23fac4d-0940-4276-9ff2-ca249b07ba54",
   "metadata": {},
   "outputs": [],
   "source": [
    "def overwrite_yaml(PORTFOLIO_SITE_YAML, SITE_NAME):\n",
    "    \"\"\"\n",
    "    PORTFOLIO_SITE_YAML: str\n",
    "                        relative path to where the yaml is for portfolio\n",
    "                        '../portfolio/analyses.yml' or '../portfolio/sites.yml'\n",
    "    SITE_NAME: str\n",
    "                name given to this analysis \n",
    "                'parallel_corridors', 'rt', 'dla'\n",
    "    \"\"\"\n",
    "    df = catalog.competitive_route_variability.read()\n",
    "    \n",
    "    districts = sorted(list(df[df.caltrans_district.notna()].caltrans_district.unique()))\n",
    "\n",
    "    # Eric's example\n",
    "    # https://github.com/cal-itp/data-analyses/blob/main/rt_delay/04_generate_all.ipynb\n",
    "\n",
    "    with open(PORTFOLIO_SITE_YAML) as analyses:\n",
    "        analyses_data = yaml.load(analyses, yaml.Loader)\n",
    "    \n",
    "    # https://stackoverflow.com/questions/2170900/get-first-list-index-containing-sub-string\n",
    "    # Find the index for where parallel_corridors analysis is located\n",
    "    site_index = [idx for idx, s in enumerate(analyses_data[\"sites\"]) if \n",
    "              SITE_NAME in s['name']][0]\n",
    "    \n",
    "    # list any ITP IDs to be excluded, either because of invalid data or just too few results\n",
    "    exclude_ids = [0]\n",
    "\n",
    "    # Loop through each district, grab the valid itp_ids\n",
    "    # populate each dict key (caption, params, sections) needed to go into analyses.yml\n",
    "    chapters_list = []\n",
    "    for district in districts:\n",
    "        chapter_dict = {}\n",
    "        subset = df[(df.caltrans_district == district) & \n",
    "                    (df.route_group.notna()) & \n",
    "                    (~df.calitp_itp_id.isin(exclude_ids))\n",
    "                   ]\n",
    "        chapter_dict['caption'] = f'District {district}'\n",
    "        chapter_dict['params'] = {'district': district}\n",
    "        chapter_dict['sections'] = [{'itp_id': itp_id} for itp_id in \n",
    "                                    subset.calitp_itp_id.unique().tolist()]\n",
    "        chapters_list += [chapter_dict]\n",
    "\n",
    "    # Make this into a list item\n",
    "    parts_list = [{'chapters': chapters_list}]\n",
    "\n",
    "\n",
    "    analyses_data['sites'][site_index]['parts'] = parts_list\n",
    "    \n",
    "    output = yaml.dump(analyses_data)\n",
    "\n",
    "    with open(PORTFOLIO_SITE_YAML, 'w') as analyses:\n",
    "        analyses.write(output)\n",
    "    \n",
    "    print(\"YAML for site generated\")\n",
    "    \n",
    "    return chapters_list"
   ]
  },
  {
   "cell_type": "code",
   "execution_count": null,
   "id": "07e4808d-17e7-46d3-ae0c-334e52ebb38a",
   "metadata": {},
   "outputs": [],
   "source": [
    "PORTFOLIO_SITE_YAML = \"../portfolio/analyses.yml\"\n",
    "SITE_NAME = \"parallel_corridors\""
   ]
  },
  {
   "cell_type": "code",
   "execution_count": null,
   "id": "cd2f82a3-e9b5-48d1-9be1-3b031338847b",
   "metadata": {},
   "outputs": [],
   "source": [
    "# Use my YAML to grab RT ones\n",
    "itp_dict = overwrite_yaml(PORTFOLIO_SITE_YAML, SITE_NAME)"
   ]
  },
  {
   "cell_type": "code",
   "execution_count": null,
   "id": "8b3d05d0-544a-47af-b74a-244cd70f0d2b",
   "metadata": {},
   "outputs": [],
   "source": [
    "parallel_corridors_itp_ids = []\n",
    "rt_itp_ids = []"
   ]
  },
  {
   "cell_type": "code",
   "execution_count": null,
   "id": "326d382d-042d-4f7d-bcfe-9adcc520fb01",
   "metadata": {},
   "outputs": [],
   "source": []
  },
  {
   "cell_type": "code",
   "execution_count": null,
   "id": "ea83c599-d163-4138-8b8b-09104f1f0116",
   "metadata": {},
   "outputs": [],
   "source": [
    "with open(PORTFOLIO_SITE_YAML) as analyses:\n",
    "    analyses_data = yaml.load(analyses, yaml.Loader)\n",
    "    \n",
    "RT_SITE = \"rt\"\n",
    "rt_site_index = [idx for idx, s in enumerate(analyses_data[\"sites\"]) if \n",
    "                 RT_SITE in s['name']][0]"
   ]
  },
  {
   "cell_type": "code",
   "execution_count": null,
   "id": "51bd2657-8f37-4a3f-84cc-c40da39d7225",
   "metadata": {},
   "outputs": [],
   "source": [
    "\n"
   ]
  },
  {
   "cell_type": "code",
   "execution_count": null,
   "id": "e629a72c-a8da-466f-bbcc-a81ee009b95f",
   "metadata": {},
   "outputs": [],
   "source": [
    "rt_chapters = analyses_data['sites'][rt_site_index]['parts'][0][\"chapters\"]\n",
    "\n",
    "rt_itp_ids = []\n",
    "\n",
    "for x, chapter in enumerate(rt_chapters):\n",
    "    section_dict = chapter[\"sections\"]\n",
    "    for i, list_item in enumerate(section_dict):\n",
    "        rt_itp_ids.append(list_item['itp_id'])\n"
   ]
  },
  {
   "cell_type": "code",
   "execution_count": null,
   "id": "d4a55d9e-db9e-4b30-a7d1-602c1d350da7",
   "metadata": {},
   "outputs": [],
   "source": []
  }
 ],
 "metadata": {
  "kernelspec": {
   "display_name": "Python 3 (ipykernel)",
   "language": "python",
   "name": "python3"
  },
  "language_info": {
   "codemirror_mode": {
    "name": "ipython",
    "version": 3
   },
   "file_extension": ".py",
   "mimetype": "text/x-python",
   "name": "python",
   "nbconvert_exporter": "python",
   "pygments_lexer": "ipython3",
   "version": "3.9.12"
  }
 },
 "nbformat": 4,
 "nbformat_minor": 5
}
