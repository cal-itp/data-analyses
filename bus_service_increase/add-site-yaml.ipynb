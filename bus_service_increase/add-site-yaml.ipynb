{
 "cells": [
  {
   "cell_type": "markdown",
   "id": "1acdb21c-a4dd-4427-9a0d-44efe603909f",
   "metadata": {},
   "source": [
    "# Create YAML file to pull the operators for parameterization "
   ]
  },
  {
   "cell_type": "code",
   "execution_count": null,
   "id": "f2dd126d-a2e8-4684-b723-bce937faf4f4",
   "metadata": {},
   "outputs": [],
   "source": [
    "import geopandas as gpd\n",
    "import intake\n",
    "import pandas as pd\n",
    "\n",
    "catalog = intake.open_catalog(\"./*.yml\")"
   ]
  },
  {
   "cell_type": "code",
   "execution_count": null,
   "id": "f3e051dd-25ea-4876-97d9-ba5c7172eaed",
   "metadata": {},
   "outputs": [],
   "source": [
    "df = catalog.competitive_route_variability.read()"
   ]
  },
  {
   "cell_type": "code",
   "execution_count": null,
   "id": "c847e15e-460c-4f76-8beb-54fb1c64093a",
   "metadata": {},
   "outputs": [],
   "source": [
    "# Every district is represented\n",
    "districts = sorted(list(df[df.caltrans_district.notna()].caltrans_district.unique()))\n",
    "for i in districts:\n",
    "    subset = df[(df.caltrans_district == i) & (df.route_group.notna())]\n",
    "    print(f\"{i}, # operators: {subset.calitp_itp_id.nunique()}, # obs: {len(subset)}\")"
   ]
  },
  {
   "cell_type": "code",
   "execution_count": null,
   "id": "6a968ca5-1449-4bb3-ae6e-7d910b41bf51",
   "metadata": {},
   "outputs": [],
   "source": [
    "#https://github.com/cal-itp/data-analyses/blob/main/rt_delay/04_generate_all.ipynb"
   ]
  },
  {
   "cell_type": "code",
   "execution_count": null,
   "id": "244998bc-625b-4e72-8a3e-5feed8a5b973",
   "metadata": {},
   "outputs": [],
   "source": [
    "import yaml\n",
    "\n",
    "with open('../portfolio/analyses.yml') as analyses:\n",
    "    analyses_data = yaml.load(analyses, yaml.Loader)\n"
   ]
  },
  {
   "cell_type": "code",
   "execution_count": null,
   "id": "a54793d0-a7b3-4014-9de6-90b7fcd53a42",
   "metadata": {},
   "outputs": [],
   "source": [
    "#https://stackoverflow.com/questions/2170900/get-first-list-index-containing-sub-string\n",
    "# Find the index for where parallel_corridors analysis is located\n",
    "site_index = [idx for idx, s in enumerate(analyses_data[\"sites\"]) if \n",
    "              'parallel_corridors' in s['name']][0]"
   ]
  },
  {
   "cell_type": "code",
   "execution_count": null,
   "id": "41ef6030-41cb-45b8-89bd-403602cecb62",
   "metadata": {},
   "outputs": [],
   "source": [
    "exclude_ids = [0]\n",
    "\n",
    "# Loop through each district, grab the valid itp_ids\n",
    "# populate each dict key (caption, params, sections) needed to go into analyses.yml\n",
    "chapters_list = []\n",
    "for district in districts:\n",
    "    chapter_dict = {}\n",
    "    subset = df[(df.caltrans_district == district) & \n",
    "                (df.route_group.notna()) & \n",
    "                (~df.calitp_itp_id.isin(exclude_ids))\n",
    "               ]\n",
    "    chapter_dict['caption'] = f'District {district}'\n",
    "    chapter_dict['params'] = {'district': district}\n",
    "    chapter_dict['sections'] = [{'itp_id': itp_id} for itp_id in \n",
    "                                subset.calitp_itp_id.unique().tolist()]\n",
    "    chapters_list += [chapter_dict]\n",
    "    \n",
    "# Make this into a list item\n",
    "parts_list = [{'chapters': chapters_list}]"
   ]
  },
  {
   "cell_type": "code",
   "execution_count": null,
   "id": "e7a16213-ddd1-4f23-acb4-4ac5faf53c22",
   "metadata": {},
   "outputs": [],
   "source": [
    "analyses_data['sites'][site_index]['parts'] = parts_list"
   ]
  },
  {
   "cell_type": "code",
   "execution_count": null,
   "id": "ee286b94-3758-4c4d-bd40-3588f686a54e",
   "metadata": {},
   "outputs": [],
   "source": [
    "output = yaml.dump(analyses_data)"
   ]
  },
  {
   "cell_type": "code",
   "execution_count": null,
   "id": "948a30ac-739a-48f3-8979-5a0c145385c1",
   "metadata": {},
   "outputs": [],
   "source": [
    "with open('../portfolio/analyses.yml', 'w') as analyses:\n",
    "    analyses.write(output)"
   ]
  },
  {
   "cell_type": "code",
   "execution_count": null,
   "id": "84e3df36-9ad3-48b7-9ec4-4a7d63c1ccb7",
   "metadata": {},
   "outputs": [],
   "source": []
  }
 ],
 "metadata": {
  "kernelspec": {
   "display_name": "Python 3 (ipykernel)",
   "language": "python",
   "name": "python3"
  },
  "language_info": {
   "codemirror_mode": {
    "name": "ipython",
    "version": 3
   },
   "file_extension": ".py",
   "mimetype": "text/x-python",
   "name": "python",
   "nbconvert_exporter": "python",
   "pygments_lexer": "ipython3",
   "version": "3.9.12"
  }
 },
 "nbformat": 4,
 "nbformat_minor": 5
}
