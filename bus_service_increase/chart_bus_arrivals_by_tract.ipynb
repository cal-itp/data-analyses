{
 "cells": [
  {
   "cell_type": "markdown",
   "id": "31e7d93d-fced-420b-9572-e5db216c6ca1",
   "metadata": {},
   "source": [
    "# Charts for bus service opportunities by tract and CalEnviroScreen / Density Scores\n",
    "\n",
    "* Density and CalEnviroScreen both grouped as low/med/high\n",
    "* Provide some charts to accompany maps\n",
    "* Heatmaps to show distribution?\n",
    "* Scatterplot of pop density vs service density"
   ]
  },
  {
   "cell_type": "code",
   "execution_count": 1,
   "id": "bb501312-0387-436a-8d0a-82ff87baf8a5",
   "metadata": {},
   "outputs": [],
   "source": [
    "# -- DO ONCE in terminal\n",
    "# !conda install --yes -c conda-forge --file conda-requirements.txt\n",
    "\n",
    "# npm worked a bit, but now has error using altair_saver\n",
    "# https://stackoverflow.com/questions/62601904/altair-saver-valueerror-unsupported-format-png\n",
    "#!npm install vega-lite vega-cli canvas"
   ]
  },
  {
   "cell_type": "code",
   "execution_count": 1,
   "id": "935eda03-c8b0-4a87-95b6-4782af177d11",
   "metadata": {},
   "outputs": [],
   "source": [
    "import altair as alt\n",
    "import altair_saver\n",
    "import geopandas as gpd\n",
    "import matplotlib.pyplot as plt\n",
    "import pandas as pd\n",
    "import seaborn as sns\n",
    "\n",
    "import prep_data\n",
    "import map_utils\n",
    "import tract_utils\n",
    "\n",
    "from IPython.display import display, SVG\n",
    "\n",
    "alt.themes.enable(\"fivethirtyeight\")\n",
    "alt.data_transformers.enable('default', max_rows=10_000)\n",
    "alt.renderers.enable('altair_saver', fmts=['vega-lite'])\n",
    "\n",
    "pd.set_option(\"display.max_rows\", 20)        "
   ]
  },
  {
   "cell_type": "code",
   "execution_count": 2,
   "id": "76964bd1-a03b-4637-b125-cc32f29fccdf",
   "metadata": {},
   "outputs": [],
   "source": [
    "df = prep_data.generate_stop_times_tract_data()\n",
    "\n",
    "# Address small numbers issue\n",
    "df = df[df.Population > 10].reset_index(drop=True)"
   ]
  },
  {
   "cell_type": "markdown",
   "id": "7eb9ab76-da0d-4039-a206-2dfd2c5dd4a1",
   "metadata": {},
   "source": [
    "## Heatmap by Equity and Density Groups"
   ]
  },
  {
   "cell_type": "code",
   "execution_count": 3,
   "id": "06ef05e5-2768-4738-bb52-aebcb1344d72",
   "metadata": {},
   "outputs": [
    {
     "data": {
      "text/html": [
       "<div>\n",
       "<style scoped>\n",
       "    .dataframe tbody tr th:only-of-type {\n",
       "        vertical-align: middle;\n",
       "    }\n",
       "\n",
       "    .dataframe tbody tr th {\n",
       "        vertical-align: top;\n",
       "    }\n",
       "\n",
       "    .dataframe thead th {\n",
       "        text-align: right;\n",
       "    }\n",
       "</style>\n",
       "<table border=\"1\" class=\"dataframe\">\n",
       "  <thead>\n",
       "    <tr style=\"text-align: right;\">\n",
       "      <th></th>\n",
       "      <th>avg_density_score</th>\n",
       "      <th>equity_group</th>\n",
       "      <th>Population</th>\n",
       "      <th>itp_id</th>\n",
       "      <th>num_arrivals</th>\n",
       "      <th>stop_id</th>\n",
       "      <th>Tract</th>\n",
       "      <th>arrivals_per_1k</th>\n",
       "      <th>stops_per_1k</th>\n",
       "    </tr>\n",
       "  </thead>\n",
       "  <tbody>\n",
       "    <tr>\n",
       "      <th>0</th>\n",
       "      <td>Low</td>\n",
       "      <td>1</td>\n",
       "      <td>4822184</td>\n",
       "      <td>888</td>\n",
       "      <td>94101</td>\n",
       "      <td>5842</td>\n",
       "      <td>1044</td>\n",
       "      <td>19.514187</td>\n",
       "      <td>1.211484</td>\n",
       "    </tr>\n",
       "    <tr>\n",
       "      <th>1</th>\n",
       "      <td>Med</td>\n",
       "      <td>1</td>\n",
       "      <td>6876798</td>\n",
       "      <td>1555</td>\n",
       "      <td>361820</td>\n",
       "      <td>12828</td>\n",
       "      <td>1431</td>\n",
       "      <td>52.614603</td>\n",
       "      <td>1.865403</td>\n",
       "    </tr>\n",
       "    <tr>\n",
       "      <th>2</th>\n",
       "      <td>High</td>\n",
       "      <td>1</td>\n",
       "      <td>1126230</td>\n",
       "      <td>309</td>\n",
       "      <td>176160</td>\n",
       "      <td>2756</td>\n",
       "      <td>240</td>\n",
       "      <td>156.415652</td>\n",
       "      <td>2.447102</td>\n",
       "    </tr>\n",
       "    <tr>\n",
       "      <th>3</th>\n",
       "      <td>High</td>\n",
       "      <td>2</td>\n",
       "      <td>2134481</td>\n",
       "      <td>675</td>\n",
       "      <td>316683</td>\n",
       "      <td>5281</td>\n",
       "      <td>434</td>\n",
       "      <td>148.365340</td>\n",
       "      <td>2.474138</td>\n",
       "    </tr>\n",
       "    <tr>\n",
       "      <th>4</th>\n",
       "      <td>High</td>\n",
       "      <td>3</td>\n",
       "      <td>3407655</td>\n",
       "      <td>1520</td>\n",
       "      <td>548751</td>\n",
       "      <td>10045</td>\n",
       "      <td>741</td>\n",
       "      <td>161.034788</td>\n",
       "      <td>2.947775</td>\n",
       "    </tr>\n",
       "  </tbody>\n",
       "</table>\n",
       "</div>"
      ],
      "text/plain": [
       "  avg_density_score  equity_group  Population  itp_id  num_arrivals  stop_id  \\\n",
       "0               Low             1     4822184     888         94101     5842   \n",
       "1               Med             1     6876798    1555        361820    12828   \n",
       "2              High             1     1126230     309        176160     2756   \n",
       "3              High             2     2134481     675        316683     5281   \n",
       "4              High             3     3407655    1520        548751    10045   \n",
       "\n",
       "   Tract  arrivals_per_1k  stops_per_1k  \n",
       "0   1044        19.514187      1.211484  \n",
       "1   1431        52.614603      1.865403  \n",
       "2    240       156.415652      2.447102  \n",
       "3    434       148.365340      2.474138  \n",
       "4    741       161.034788      2.947775  "
      ]
     },
     "execution_count": 3,
     "metadata": {},
     "output_type": "execute_result"
    }
   ],
   "source": [
    "sum_cols = [\"stop_id\", \"itp_id\", \"Population\", \"num_arrivals\"]\n",
    "count_cols = [\"Tract\"]\n",
    "nunique_cols = []\n",
    "\n",
    "t1 = tract_utils.aggregate_by_tract (df, \n",
    "                                     group_cols = [\"avg_density_score\", \"equity_group\"], \n",
    "                                     sum_cols = sum_cols, \n",
    "                                     count_cols = count_cols, \n",
    "                                     nunique_cols = nunique_cols\n",
    "                                    ).astype(\"int\")\n",
    "\n",
    "LEGEND_LABELS = {\n",
    "    1: \"Low\",\n",
    "    2: \"Med\",\n",
    "    3: \"High\"\n",
    "}\n",
    "\n",
    "LEGEND_ORDER = list(LEGEND_LABELS.values())\n",
    "\n",
    "DENOM = 1_000\n",
    "t1 = t1[t1.avg_density_score > 0].assign(\n",
    "    arrivals_per_1k = (t1.num_arrivals / t1.Population) * DENOM,\n",
    "    stops_per_1k = (t1.stop_id / t1.Population) * DENOM,\n",
    "    #equity_group = t1.equity_group.map(LEGEND_LABELS),\n",
    "    avg_density_score = t1.avg_density_score.map(LEGEND_LABELS),\n",
    ")   \n",
    "\n",
    "\n",
    "t1.head()"
   ]
  },
  {
   "cell_type": "code",
   "execution_count": 12,
   "id": "92e39646-d9ce-49a3-a4b0-cc2e057bda29",
   "metadata": {},
   "outputs": [
    {
     "data": {
      "text/html": [
       "<div>\n",
       "<style scoped>\n",
       "    .dataframe tbody tr th:only-of-type {\n",
       "        vertical-align: middle;\n",
       "    }\n",
       "\n",
       "    .dataframe tbody tr th {\n",
       "        vertical-align: top;\n",
       "    }\n",
       "\n",
       "    .dataframe thead th {\n",
       "        text-align: right;\n",
       "    }\n",
       "</style>\n",
       "<table border=\"1\" class=\"dataframe\">\n",
       "  <thead>\n",
       "    <tr style=\"text-align: right;\">\n",
       "      <th></th>\n",
       "      <th>avg_density_score</th>\n",
       "      <th>equity_group</th>\n",
       "      <th>Tract</th>\n",
       "      <th>arrivals_per_1k</th>\n",
       "    </tr>\n",
       "  </thead>\n",
       "  <tbody>\n",
       "    <tr>\n",
       "      <th>2</th>\n",
       "      <td>High</td>\n",
       "      <td>1</td>\n",
       "      <td>240</td>\n",
       "      <td>156.415652</td>\n",
       "    </tr>\n",
       "    <tr>\n",
       "      <th>0</th>\n",
       "      <td>Low</td>\n",
       "      <td>1</td>\n",
       "      <td>1044</td>\n",
       "      <td>19.514187</td>\n",
       "    </tr>\n",
       "    <tr>\n",
       "      <th>1</th>\n",
       "      <td>Med</td>\n",
       "      <td>1</td>\n",
       "      <td>1431</td>\n",
       "      <td>52.614603</td>\n",
       "    </tr>\n",
       "    <tr>\n",
       "      <th>3</th>\n",
       "      <td>High</td>\n",
       "      <td>2</td>\n",
       "      <td>434</td>\n",
       "      <td>148.365340</td>\n",
       "    </tr>\n",
       "    <tr>\n",
       "      <th>7</th>\n",
       "      <td>Low</td>\n",
       "      <td>2</td>\n",
       "      <td>549</td>\n",
       "      <td>19.524353</td>\n",
       "    </tr>\n",
       "    <tr>\n",
       "      <th>6</th>\n",
       "      <td>Med</td>\n",
       "      <td>2</td>\n",
       "      <td>1660</td>\n",
       "      <td>68.255807</td>\n",
       "    </tr>\n",
       "    <tr>\n",
       "      <th>4</th>\n",
       "      <td>High</td>\n",
       "      <td>3</td>\n",
       "      <td>741</td>\n",
       "      <td>161.034788</td>\n",
       "    </tr>\n",
       "    <tr>\n",
       "      <th>8</th>\n",
       "      <td>Low</td>\n",
       "      <td>3</td>\n",
       "      <td>284</td>\n",
       "      <td>16.404449</td>\n",
       "    </tr>\n",
       "    <tr>\n",
       "      <th>5</th>\n",
       "      <td>Med</td>\n",
       "      <td>3</td>\n",
       "      <td>1620</td>\n",
       "      <td>97.880119</td>\n",
       "    </tr>\n",
       "  </tbody>\n",
       "</table>\n",
       "</div>"
      ],
      "text/plain": [
       "  avg_density_score  equity_group  Tract  arrivals_per_1k\n",
       "2              High             1    240       156.415652\n",
       "0               Low             1   1044        19.514187\n",
       "1               Med             1   1431        52.614603\n",
       "3              High             2    434       148.365340\n",
       "7               Low             2    549        19.524353\n",
       "6               Med             2   1660        68.255807\n",
       "4              High             3    741       161.034788\n",
       "8               Low             3    284        16.404449\n",
       "5               Med             3   1620        97.880119"
      ]
     },
     "execution_count": 12,
     "metadata": {},
     "output_type": "execute_result"
    }
   ],
   "source": [
    "t1.sort_values([\"equity_group\", \"avg_density_score\"])[[\"avg_density_score\", \"equity_group\", \"Tract\", \"arrivals_per_1k\"]]"
   ]
  },
  {
   "cell_type": "code",
   "execution_count": 11,
   "id": "982a6f8f-dc7d-4c98-a609-0b05a82e2829",
   "metadata": {},
   "outputs": [
    {
     "data": {
      "application/vnd.vegalite.v4+json": {
       "$schema": "https://vega.github.io/schema/vega-lite/v4.8.1.json",
       "config": {
        "axis": {
         "domainColor": "#cbcbcb",
         "grid": true,
         "gridColor": "#cbcbcb",
         "gridWidth": 1,
         "labelColor": "#999",
         "labelFont": "Arial",
         "labelFontSize": 10,
         "labelPadding": 4,
         "tickColor": "#cbcbcb",
         "tickSize": 10,
         "titleColor": "#333",
         "titleFont": "Arial",
         "titleFontSize": 14,
         "titlePadding": 10
        },
        "axisBand": {
         "grid": false
        },
        "background": "white",
        "font": "Arial",
        "header": {
         "labelFont": "Arial",
         "titleFont": "Arial"
        },
        "legend": {
         "labelColor": "#333",
         "labelFont": "Arial",
         "labelFontSize": 11,
         "padding": 1,
         "symbolSize": 30,
         "symbolType": "square",
         "titleColor": "#333",
         "titleFont": "Arial",
         "titleFontSize": 14,
         "titlePadding": 10
        },
        "title": {
         "anchor": "middle",
         "font": "Arial",
         "fontSize": 16,
         "fontWeight": 300,
         "offset": 20
        },
        "view": {
         "continuousHeight": 300,
         "continuousWidth": 400
        }
       },
       "data": {
        "name": "data-5ab53320c7f6970e5952fe0a0d690bd7"
       },
       "datasets": {
        "data-5ab53320c7f6970e5952fe0a0d690bd7": [
         {
          "Population": 4822184,
          "Tract": 1044,
          "arrivals_per_1k": 19.514186932725917,
          "avg_density_score": "Low",
          "equity_group": 1,
          "itp_id": 888,
          "num_arrivals": 94101,
          "stop_id": 5842,
          "stops_per_1k": 1.2114842569259074
         },
         {
          "Population": 6876798,
          "Tract": 1431,
          "arrivals_per_1k": 52.614603482609205,
          "avg_density_score": "Med",
          "equity_group": 1,
          "itp_id": 1555,
          "num_arrivals": 361820,
          "stop_id": 12828,
          "stops_per_1k": 1.8654030553173149
         },
         {
          "Population": 1126230,
          "Tract": 240,
          "arrivals_per_1k": 156.4156522202392,
          "avg_density_score": "High",
          "equity_group": 1,
          "itp_id": 309,
          "num_arrivals": 176160,
          "stop_id": 2756,
          "stops_per_1k": 2.4471022792857586
         },
         {
          "Population": 2134481,
          "Tract": 434,
          "arrivals_per_1k": 148.36534033331756,
          "avg_density_score": "High",
          "equity_group": 2,
          "itp_id": 675,
          "num_arrivals": 316683,
          "stop_id": 5281,
          "stops_per_1k": 2.4741377412120324
         },
         {
          "Population": 3407655,
          "Tract": 741,
          "arrivals_per_1k": 161.03478785264352,
          "avg_density_score": "High",
          "equity_group": 3,
          "itp_id": 1520,
          "num_arrivals": 548751,
          "stop_id": 10045,
          "stops_per_1k": 2.9477749361364336
         },
         {
          "Population": 7965448,
          "Tract": 1620,
          "arrivals_per_1k": 97.88011923497587,
          "avg_density_score": "Med",
          "equity_group": 3,
          "itp_id": 2949,
          "num_arrivals": 779659,
          "stop_id": 23612,
          "stops_per_1k": 2.9643028238964084
         },
         {
          "Population": 8303191,
          "Tract": 1660,
          "arrivals_per_1k": 68.25580671334671,
          "avg_density_score": "Med",
          "equity_group": 2,
          "itp_id": 2276,
          "num_arrivals": 566741,
          "stop_id": 18572,
          "stops_per_1k": 2.236730432914286
         },
         {
          "Population": 2975822,
          "Tract": 549,
          "arrivals_per_1k": 19.524353271129794,
          "avg_density_score": "Low",
          "equity_group": 2,
          "itp_id": 470,
          "num_arrivals": 58101,
          "stop_id": 3369,
          "stops_per_1k": 1.1321241660287475
         },
         {
          "Population": 1665280,
          "Tract": 284,
          "arrivals_per_1k": 16.40444850115296,
          "avg_density_score": "Low",
          "equity_group": 3,
          "itp_id": 223,
          "num_arrivals": 27318,
          "stop_id": 1586,
          "stops_per_1k": 0.95239239046887
         }
        ]
       },
       "encoding": {
        "color": {
         "field": "avg_density_score",
         "scale": {
          "domain": [
           "Low",
           "Med",
           "High"
          ],
          "range": [
           "#30a2da",
           "#fc4f30",
           "#e5ae38",
           "#6d904f",
           "#8b8b8b",
           "#b96db8",
           "#ff9e27",
           "#56cc60",
           "#52d2ca",
           "#52689e",
           "#545454",
           "#9fe4f8"
          ]
         },
         "title": "Density Level",
         "type": "nominal"
        },
        "column": {
         "field": "equity_group",
         "title": "CalEnviroScreen",
         "type": "nominal"
        },
        "x": {
         "axis": {
          "title": ""
         },
         "field": "avg_density_score",
         "scale": {
          "domain": [
           "Low",
           "Med",
           "High"
          ]
         },
         "type": "nominal"
        },
        "y": {
         "axis": {
          "title": "Arrivals per 1k"
         },
         "field": "arrivals_per_1k",
         "type": "quantitative"
        }
       },
       "height": 250,
       "mark": "bar",
       "title": "Arrivals per 1k by CalEnviroScreen / Density Levels",
       "usermeta": {
        "embedOptions": {
         "theme": "fivethirtyeight"
        }
       },
       "width": 100
      },
      "image/png": "[encoded data removed]",
      "text/plain": [
       "alt.Chart(...)"
      ]
     },
     "execution_count": 11,
     "metadata": {},
     "output_type": "execute_result"
    }
   ],
   "source": [
    "bar = (alt.Chart(t1)\n",
    " .mark_bar()\n",
    " .encode(\n",
    "     x=alt.X(\"avg_density_score:N\", \n",
    "             axis=alt.Axis(title=\"\"), \n",
    "             scale=alt.Scale(domain=LEGEND_ORDER)\n",
    "            ),\n",
    "     y=alt.Y(\"arrivals_per_1k:Q\",\n",
    "             axis=alt.Axis(title=\"Arrivals per 1k\")\n",
    "            ),\n",
    "     column=alt.Column(\"equity_group:N\", title=\"CalEnviroScreen\", \n",
    "                      ),\n",
    "     color=alt.Color(\"avg_density_score:N\", title=\"Density Level\", \n",
    "                    scale=alt.Scale(domain=LEGEND_ORDER, \n",
    "                                    range=map_utils.FIVETHIRTYEIGHT_CATEGORY_COLORS\n",
    "                                   )\n",
    "                    )\n",
    " )\n",
    ")\n",
    "\n",
    "\n",
    "bar = (map_utils.preset_chart_config(bar)\n",
    "       .properties(title=\"Arrivals per 1k by CalEnviroScreen / Density Levels\", \n",
    "                  width = map_utils.chart_width*0.25)\n",
    ")\n",
    "\n",
    "bar\n",
    "#bar.save(\"./img/arrivals_per_1k_bar.png\")"
   ]
  },
  {
   "cell_type": "code",
   "execution_count": 6,
   "id": "6129318a-eb7c-4734-8286-adcf5e6f3eb1",
   "metadata": {},
   "outputs": [],
   "source": [
    "def pivot_get_counts(df, index_col, group_col, value_col):\n",
    "    df2 = df.pivot(index = index_col, \n",
    "                   columns = group_col, \n",
    "                   values = value_col)\n",
    "    return df2\n",
    "\n",
    "index_col = \"avg_density_score\"\n",
    "group_col = \"equity_group\"\n",
    "\n",
    "\n",
    "def make_heatmap(df, cmap, chart_title, xtitle, ytitle):\n",
    "    chart = (sns.heatmap(df, cmap=cmap)\n",
    "             .set(title=chart_title, xlabel=xtitle, ylabel=ytitle,\n",
    "                 )\n",
    "    )\n",
    "\n",
    "    return chart"
   ]
  },
  {
   "cell_type": "code",
   "execution_count": 7,
   "id": "1f2645ec-abb6-4233-bc66-069865670396",
   "metadata": {},
   "outputs": [
    {
     "name": "stdout",
     "output_type": "stream",
     "text": [
      "Tract\n"
     ]
    },
    {
     "data": {
      "text/html": [
       "<div>\n",
       "<style scoped>\n",
       "    .dataframe tbody tr th:only-of-type {\n",
       "        vertical-align: middle;\n",
       "    }\n",
       "\n",
       "    .dataframe tbody tr th {\n",
       "        vertical-align: top;\n",
       "    }\n",
       "\n",
       "    .dataframe thead th {\n",
       "        text-align: right;\n",
       "    }\n",
       "</style>\n",
       "<table border=\"1\" class=\"dataframe\">\n",
       "  <thead>\n",
       "    <tr style=\"text-align: right;\">\n",
       "      <th>equity_group</th>\n",
       "      <th>1</th>\n",
       "      <th>2</th>\n",
       "      <th>3</th>\n",
       "    </tr>\n",
       "    <tr>\n",
       "      <th>avg_density_score</th>\n",
       "      <th></th>\n",
       "      <th></th>\n",
       "      <th></th>\n",
       "    </tr>\n",
       "  </thead>\n",
       "  <tbody>\n",
       "    <tr>\n",
       "      <th>Low</th>\n",
       "      <td>1044</td>\n",
       "      <td>549</td>\n",
       "      <td>284</td>\n",
       "    </tr>\n",
       "    <tr>\n",
       "      <th>Med</th>\n",
       "      <td>1431</td>\n",
       "      <td>1660</td>\n",
       "      <td>1620</td>\n",
       "    </tr>\n",
       "    <tr>\n",
       "      <th>High</th>\n",
       "      <td>240</td>\n",
       "      <td>434</td>\n",
       "      <td>741</td>\n",
       "    </tr>\n",
       "  </tbody>\n",
       "</table>\n",
       "</div>"
      ],
      "text/plain": [
       "equity_group          1     2     3\n",
       "avg_density_score                  \n",
       "Low                1044   549   284\n",
       "Med                1431  1660  1620\n",
       "High                240   434   741"
      ]
     },
     "metadata": {},
     "output_type": "display_data"
    },
    {
     "name": "stderr",
     "output_type": "stream",
     "text": [
      "/tmp/ipykernel_5901/867900099.py:26: MatplotlibDeprecationWarning: savefig() got unexpected keyword argument \"figsize\" which is no longer supported as of 3.3 and will become an error two minor releases later\n",
      "  plt.savefig(f'./img/{key}.png', figsize=(4, 4), dpi=300)\n"
     ]
    },
    {
     "name": "stdout",
     "output_type": "stream",
     "text": [
      "stop_id\n"
     ]
    },
    {
     "data": {
      "text/html": [
       "<div>\n",
       "<style scoped>\n",
       "    .dataframe tbody tr th:only-of-type {\n",
       "        vertical-align: middle;\n",
       "    }\n",
       "\n",
       "    .dataframe tbody tr th {\n",
       "        vertical-align: top;\n",
       "    }\n",
       "\n",
       "    .dataframe thead th {\n",
       "        text-align: right;\n",
       "    }\n",
       "</style>\n",
       "<table border=\"1\" class=\"dataframe\">\n",
       "  <thead>\n",
       "    <tr style=\"text-align: right;\">\n",
       "      <th>equity_group</th>\n",
       "      <th>1</th>\n",
       "      <th>2</th>\n",
       "      <th>3</th>\n",
       "    </tr>\n",
       "    <tr>\n",
       "      <th>avg_density_score</th>\n",
       "      <th></th>\n",
       "      <th></th>\n",
       "      <th></th>\n",
       "    </tr>\n",
       "  </thead>\n",
       "  <tbody>\n",
       "    <tr>\n",
       "      <th>Low</th>\n",
       "      <td>5842</td>\n",
       "      <td>3369</td>\n",
       "      <td>1586</td>\n",
       "    </tr>\n",
       "    <tr>\n",
       "      <th>Med</th>\n",
       "      <td>12828</td>\n",
       "      <td>18572</td>\n",
       "      <td>23612</td>\n",
       "    </tr>\n",
       "    <tr>\n",
       "      <th>High</th>\n",
       "      <td>2756</td>\n",
       "      <td>5281</td>\n",
       "      <td>10045</td>\n",
       "    </tr>\n",
       "  </tbody>\n",
       "</table>\n",
       "</div>"
      ],
      "text/plain": [
       "equity_group           1      2      3\n",
       "avg_density_score                     \n",
       "Low                 5842   3369   1586\n",
       "Med                12828  18572  23612\n",
       "High                2756   5281  10045"
      ]
     },
     "metadata": {},
     "output_type": "display_data"
    },
    {
     "name": "stderr",
     "output_type": "stream",
     "text": [
      "/tmp/ipykernel_5901/867900099.py:26: MatplotlibDeprecationWarning: savefig() got unexpected keyword argument \"figsize\" which is no longer supported as of 3.3 and will become an error two minor releases later\n",
      "  plt.savefig(f'./img/{key}.png', figsize=(4, 4), dpi=300)\n"
     ]
    },
    {
     "name": "stdout",
     "output_type": "stream",
     "text": [
      "itp_id\n"
     ]
    },
    {
     "data": {
      "text/html": [
       "<div>\n",
       "<style scoped>\n",
       "    .dataframe tbody tr th:only-of-type {\n",
       "        vertical-align: middle;\n",
       "    }\n",
       "\n",
       "    .dataframe tbody tr th {\n",
       "        vertical-align: top;\n",
       "    }\n",
       "\n",
       "    .dataframe thead th {\n",
       "        text-align: right;\n",
       "    }\n",
       "</style>\n",
       "<table border=\"1\" class=\"dataframe\">\n",
       "  <thead>\n",
       "    <tr style=\"text-align: right;\">\n",
       "      <th>equity_group</th>\n",
       "      <th>1</th>\n",
       "      <th>2</th>\n",
       "      <th>3</th>\n",
       "    </tr>\n",
       "    <tr>\n",
       "      <th>avg_density_score</th>\n",
       "      <th></th>\n",
       "      <th></th>\n",
       "      <th></th>\n",
       "    </tr>\n",
       "  </thead>\n",
       "  <tbody>\n",
       "    <tr>\n",
       "      <th>Low</th>\n",
       "      <td>888</td>\n",
       "      <td>470</td>\n",
       "      <td>223</td>\n",
       "    </tr>\n",
       "    <tr>\n",
       "      <th>Med</th>\n",
       "      <td>1555</td>\n",
       "      <td>2276</td>\n",
       "      <td>2949</td>\n",
       "    </tr>\n",
       "    <tr>\n",
       "      <th>High</th>\n",
       "      <td>309</td>\n",
       "      <td>675</td>\n",
       "      <td>1520</td>\n",
       "    </tr>\n",
       "  </tbody>\n",
       "</table>\n",
       "</div>"
      ],
      "text/plain": [
       "equity_group          1     2     3\n",
       "avg_density_score                  \n",
       "Low                 888   470   223\n",
       "Med                1555  2276  2949\n",
       "High                309   675  1520"
      ]
     },
     "metadata": {},
     "output_type": "display_data"
    },
    {
     "name": "stderr",
     "output_type": "stream",
     "text": [
      "/tmp/ipykernel_5901/867900099.py:26: MatplotlibDeprecationWarning: savefig() got unexpected keyword argument \"figsize\" which is no longer supported as of 3.3 and will become an error two minor releases later\n",
      "  plt.savefig(f'./img/{key}.png', figsize=(4, 4), dpi=300)\n"
     ]
    },
    {
     "name": "stdout",
     "output_type": "stream",
     "text": [
      "arrivals_per_1k\n"
     ]
    },
    {
     "data": {
      "text/html": [
       "<div>\n",
       "<style scoped>\n",
       "    .dataframe tbody tr th:only-of-type {\n",
       "        vertical-align: middle;\n",
       "    }\n",
       "\n",
       "    .dataframe tbody tr th {\n",
       "        vertical-align: top;\n",
       "    }\n",
       "\n",
       "    .dataframe thead th {\n",
       "        text-align: right;\n",
       "    }\n",
       "</style>\n",
       "<table border=\"1\" class=\"dataframe\">\n",
       "  <thead>\n",
       "    <tr style=\"text-align: right;\">\n",
       "      <th>equity_group</th>\n",
       "      <th>1</th>\n",
       "      <th>2</th>\n",
       "      <th>3</th>\n",
       "    </tr>\n",
       "    <tr>\n",
       "      <th>avg_density_score</th>\n",
       "      <th></th>\n",
       "      <th></th>\n",
       "      <th></th>\n",
       "    </tr>\n",
       "  </thead>\n",
       "  <tbody>\n",
       "    <tr>\n",
       "      <th>Low</th>\n",
       "      <td>19.514187</td>\n",
       "      <td>19.524353</td>\n",
       "      <td>16.404449</td>\n",
       "    </tr>\n",
       "    <tr>\n",
       "      <th>Med</th>\n",
       "      <td>52.614603</td>\n",
       "      <td>68.255807</td>\n",
       "      <td>97.880119</td>\n",
       "    </tr>\n",
       "    <tr>\n",
       "      <th>High</th>\n",
       "      <td>156.415652</td>\n",
       "      <td>148.365340</td>\n",
       "      <td>161.034788</td>\n",
       "    </tr>\n",
       "  </tbody>\n",
       "</table>\n",
       "</div>"
      ],
      "text/plain": [
       "equity_group                1           2           3\n",
       "avg_density_score                                    \n",
       "Low                 19.514187   19.524353   16.404449\n",
       "Med                 52.614603   68.255807   97.880119\n",
       "High               156.415652  148.365340  161.034788"
      ]
     },
     "metadata": {},
     "output_type": "display_data"
    },
    {
     "name": "stderr",
     "output_type": "stream",
     "text": [
      "/tmp/ipykernel_5901/867900099.py:26: MatplotlibDeprecationWarning: savefig() got unexpected keyword argument \"figsize\" which is no longer supported as of 3.3 and will become an error two minor releases later\n",
      "  plt.savefig(f'./img/{key}.png', figsize=(4, 4), dpi=300)\n"
     ]
    },
    {
     "name": "stdout",
     "output_type": "stream",
     "text": [
      "stops_per_1k\n"
     ]
    },
    {
     "data": {
      "text/html": [
       "<div>\n",
       "<style scoped>\n",
       "    .dataframe tbody tr th:only-of-type {\n",
       "        vertical-align: middle;\n",
       "    }\n",
       "\n",
       "    .dataframe tbody tr th {\n",
       "        vertical-align: top;\n",
       "    }\n",
       "\n",
       "    .dataframe thead th {\n",
       "        text-align: right;\n",
       "    }\n",
       "</style>\n",
       "<table border=\"1\" class=\"dataframe\">\n",
       "  <thead>\n",
       "    <tr style=\"text-align: right;\">\n",
       "      <th>equity_group</th>\n",
       "      <th>1</th>\n",
       "      <th>2</th>\n",
       "      <th>3</th>\n",
       "    </tr>\n",
       "    <tr>\n",
       "      <th>avg_density_score</th>\n",
       "      <th></th>\n",
       "      <th></th>\n",
       "      <th></th>\n",
       "    </tr>\n",
       "  </thead>\n",
       "  <tbody>\n",
       "    <tr>\n",
       "      <th>Low</th>\n",
       "      <td>1.211484</td>\n",
       "      <td>1.132124</td>\n",
       "      <td>0.952392</td>\n",
       "    </tr>\n",
       "    <tr>\n",
       "      <th>Med</th>\n",
       "      <td>1.865403</td>\n",
       "      <td>2.236730</td>\n",
       "      <td>2.964303</td>\n",
       "    </tr>\n",
       "    <tr>\n",
       "      <th>High</th>\n",
       "      <td>2.447102</td>\n",
       "      <td>2.474138</td>\n",
       "      <td>2.947775</td>\n",
       "    </tr>\n",
       "  </tbody>\n",
       "</table>\n",
       "</div>"
      ],
      "text/plain": [
       "equity_group              1         2         3\n",
       "avg_density_score                              \n",
       "Low                1.211484  1.132124  0.952392\n",
       "Med                1.865403  2.236730  2.964303\n",
       "High               2.447102  2.474138  2.947775"
      ]
     },
     "metadata": {},
     "output_type": "display_data"
    },
    {
     "name": "stderr",
     "output_type": "stream",
     "text": [
      "/tmp/ipykernel_5901/867900099.py:26: MatplotlibDeprecationWarning: savefig() got unexpected keyword argument \"figsize\" which is no longer supported as of 3.3 and will become an error two minor releases later\n",
      "  plt.savefig(f'./img/{key}.png', figsize=(4, 4), dpi=300)\n"
     ]
    }
   ],
   "source": [
    "LOOP_DICT = {\n",
    "    \"Tract\": \"Tracts\",\n",
    "    \"stop_id\": \"Bus Stops\",\n",
    "    \"itp_id\": \"Operators\",\n",
    "    \"arrivals_per_1k\": \"Arrivals per 1k\",\n",
    "    \"stops_per_1k\": \"Stops per 1k\",\n",
    "} \n",
    "\n",
    "#plt.gcf().set_size_inches(1, 1)\n",
    "\n",
    "for key, value in LOOP_DICT.items():\n",
    "    subset_df = t1\n",
    "    pivot_df = pivot_get_counts(subset_df, index_col, group_col, key)\n",
    "    pivot_df = pivot_df.reindex(index=LEGEND_ORDER)\n",
    "    \n",
    "    print(key)\n",
    "    display(pivot_df)\n",
    "    #display(pivot_df.sort_index(axis=0, ascending=True))\n",
    "    #display(pivot_df.reindex(index=LEGEND_ORDER))\n",
    "    \n",
    "    chart = make_heatmap(pivot_df, cmap=\"Blues\", \n",
    "                 chart_title=(f\"{value} by CalEnviroScreen\" \"\\n and Density Levels\"),\n",
    "                 xtitle=\"CalEnviroScreen\", ytitle=\"Job/Pop Density\"   \n",
    "                 )\n",
    "\n",
    "    plt.savefig(f'./img/{key}.png', figsize=(4, 4), dpi=300)\n",
    "    plt.close()\n",
    "    \n"
   ]
  },
  {
   "cell_type": "markdown",
   "id": "59c505bf-52c3-4084-8454-2fcd9e65c5cb",
   "metadata": {},
   "source": [
    "## Scatterplot of pop density vs service density"
   ]
  },
  {
   "cell_type": "code",
   "execution_count": 8,
   "id": "cbe7d66b-415f-4e15-a921-74a7725d3056",
   "metadata": {},
   "outputs": [],
   "source": [
    "y_col = \"arrivals_per_1k:Q\"\n",
    "group_col = \"equity_group:N\"\n",
    "tooltip=['Tract', 'ZIP', 'County', 'City', \n",
    "                 'pop_sq_mi', 'arrivals_per_1k', 'equity_group']\n",
    "\n",
    "def make_scatterplot(df, x_col, y_col, group_col, tooltip_list, chart_title):\n",
    "    \n",
    "    # Interactive chart should be centered near where 95th percentile data is\n",
    "    # There are outliers...but let's not have it so zoomed out\n",
    "    \n",
    "    def colname_label(col):\n",
    "        colname = col.split(\":\")[0]\n",
    "        coltitle = colname.replace('_', ' ')\n",
    "        return colname, coltitle\n",
    "    \n",
    "    x_colname, x_title = colname_label(x_col)\n",
    "    y_colname, y_title = colname_label(y_col)\n",
    "    \n",
    "    MAX_X = df[x_colname].quantile(q=0.95)\n",
    "    MAX_Y = df[y_colname].quantile(q=0.95)\n",
    "    \n",
    "    chart = (\n",
    "        alt.Chart(df[((df[x_colname] > 0) & (df[y_colname] > 0))])\n",
    "        .mark_point(size=30, fillOpacity=0.8)\n",
    "        .encode(\n",
    "            x=alt.X(x_col, \n",
    "                    scale=alt.Scale(domain=(0, MAX_X)), \n",
    "                    axis=alt.Axis(title=f\"{x_title}\")\n",
    "                   ),\n",
    "            y=alt.Y(y_col, \n",
    "                    scale=alt.Scale(domain=(0, MAX_Y)),\n",
    "                    axis=alt.Axis(title=f\"{y_title}\")\n",
    "                   ),\n",
    "            color=group_col,\n",
    "            tooltip=tooltip_list\n",
    "        )\n",
    "    )\n",
    "    \n",
    "    chart = (map_utils.preset_chart_config(chart)\n",
    "             .properties(title=f\"{chart_title}\")\n",
    "             .interactive()\n",
    "            )\n",
    "    \n",
    "    return chart"
   ]
  },
  {
   "cell_type": "code",
   "execution_count": 9,
   "id": "753d6f67-23c4-40d0-a68d-d2232ecfa3db",
   "metadata": {},
   "outputs": [],
   "source": [
    "x_col = \"pop_sq_mi:Q\"\n",
    "\n",
    "# Scatterplot of pop density vs service density\n",
    "c = make_scatterplot(df[(df.avg_density_score > 0)], \n",
    "                     x_col, y_col, group_col, tooltip, \n",
    "                     chart_title=\"Pop Density vs Service Density\")\n",
    "c.save(\"./img/scatter_popdensity_servicedensity.html\")"
   ]
  },
  {
   "cell_type": "code",
   "execution_count": 10,
   "id": "87164a43-0c71-455e-9f97-882da22b2795",
   "metadata": {},
   "outputs": [],
   "source": [
    "x_col = \"jobs_sq_mi:Q\"\n",
    "# Scatterplot of pop density vs service density\n",
    "c = make_scatterplot(df[(df.avg_density_score > 0)], \n",
    "                     x_col, y_col, group_col, tooltip, \n",
    "                     chart_title = \"Job Density vs Service Density\")\n",
    "c.save(\"./img/scatter_jobdensity_servicedensity.html\")"
   ]
  },
  {
   "cell_type": "code",
   "execution_count": null,
   "id": "a0aedce7-9774-4920-ac04-9b1977199b28",
   "metadata": {},
   "outputs": [],
   "source": []
  }
 ],
 "metadata": {
  "kernelspec": {
   "display_name": "Python 3 (ipykernel)",
   "language": "python",
   "name": "python3"
  },
  "language_info": {
   "codemirror_mode": {
    "name": "ipython",
    "version": 3
   },
   "file_extension": ".py",
   "mimetype": "text/x-python",
   "name": "python",
   "nbconvert_exporter": "python",
   "pygments_lexer": "ipython3",
   "version": "3.9.7"
  }
 },
 "nbformat": 4,
 "nbformat_minor": 5
}
