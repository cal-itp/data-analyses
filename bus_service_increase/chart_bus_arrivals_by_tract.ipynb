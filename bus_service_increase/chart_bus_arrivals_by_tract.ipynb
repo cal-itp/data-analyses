{
 "cells": [
  {
   "cell_type": "markdown",
   "id": "31e7d93d-fced-420b-9572-e5db216c6ca1",
   "metadata": {},
   "source": [
    "# Charts for bus service opportunities by tract and CalEnviroScreen / Density Scores\n",
    "\n",
    "* Density and CalEnviroScreen both grouped as low/med/high\n",
    "* Provide some charts to accompany maps\n",
    "* Heatmaps to show distribution?\n",
    "* Scatterplot of pop density vs service density"
   ]
  },
  {
   "cell_type": "code",
   "execution_count": 1,
   "id": "bb501312-0387-436a-8d0a-82ff87baf8a5",
   "metadata": {},
   "outputs": [],
   "source": [
    "# -- DO ONCE in terminal\n",
    "# !conda install --yes -c conda-forge --file conda-requirements.txt\n",
    "\n",
    "# npm worked a bit, but now has error using altair_saver\n",
    "# https://stackoverflow.com/questions/62601904/altair-saver-valueerror-unsupported-format-png\n",
    "#!npm install vega-lite vega-cli canvas"
   ]
  },
  {
   "cell_type": "code",
   "execution_count": 2,
   "id": "935eda03-c8b0-4a87-95b6-4782af177d11",
   "metadata": {},
   "outputs": [],
   "source": [
    "import altair as alt\n",
    "import altair_saver\n",
    "import geopandas as gpd\n",
    "import matplotlib.pyplot as plt\n",
    "import pandas as pd\n",
    "import seaborn as sns\n",
    "\n",
    "import prep_data\n",
    "import map_utils\n",
    "import tract_utils\n",
    "\n",
    "from IPython.display import display, SVG\n",
    "\n",
    "alt.themes.enable(\"fivethirtyeight\")\n",
    "alt.data_transformers.enable('default', max_rows=10_000)\n",
    "alt.renderers.enable('altair_saver', fmts=['vega-lite'])\n",
    "\n",
    "pd.set_option(\"display.max_rows\", 20)        "
   ]
  },
  {
   "cell_type": "code",
   "execution_count": 3,
   "id": "76964bd1-a03b-4637-b125-cc32f29fccdf",
   "metadata": {},
   "outputs": [],
   "source": [
    "df = prep_data.generate_stop_times_tract_data()\n",
    "\n",
    "# Address small numbers issue\n",
    "df = df[df.Population > 10].reset_index(drop=True)"
   ]
  },
  {
   "cell_type": "markdown",
   "id": "7eb9ab76-da0d-4039-a206-2dfd2c5dd4a1",
   "metadata": {},
   "source": [
    "## Heatmap by Equity and Density Groups"
   ]
  },
  {
   "cell_type": "code",
   "execution_count": 4,
   "id": "48a6e461-748d-4f4b-b5b3-ae886f2a7e50",
   "metadata": {},
   "outputs": [],
   "source": [
    "def aggregate_generate_stats(df, group_cols, aggregate_dict):\n",
    "    t1 = tract_utils.aggregate_by_tract(\n",
    "        df, \n",
    "        group_cols = group_cols, \n",
    "        sum_cols = aggregate_dict[\"sum_cols\"], \n",
    "        mean_cols = aggregate_dict[\"mean_cols\"],\n",
    "        count_cols = aggregate_dict[\"count_cols\"], \n",
    "        nunique_cols = aggregate_dict[\"nunique_cols\"]\n",
    "    ).astype(\"int\").sort_values(group_cols)\n",
    "    \n",
    "    DENOM = 1_000\n",
    "    t1 = t1.assign(\n",
    "        arrivals_per_1k_pj = (t1.num_arrivals / t1.num_pop_jobs) * DENOM,\n",
    "        stops_per_1k_pj = (t1.stop_id / t1.num_pop_jobs) * DENOM,\n",
    "    )  \n",
    "    \n",
    "    return t1"
   ]
  },
  {
   "cell_type": "code",
   "execution_count": 5,
   "id": "b0c1cf8c-a679-4e3d-b6d7-3d9fe027c2b6",
   "metadata": {},
   "outputs": [
    {
     "data": {
      "text/html": [
       "<div>\n",
       "<style scoped>\n",
       "    .dataframe tbody tr th:only-of-type {\n",
       "        vertical-align: middle;\n",
       "    }\n",
       "\n",
       "    .dataframe tbody tr th {\n",
       "        vertical-align: top;\n",
       "    }\n",
       "\n",
       "    .dataframe thead th {\n",
       "        text-align: right;\n",
       "    }\n",
       "</style>\n",
       "<table border=\"1\" class=\"dataframe\">\n",
       "  <thead>\n",
       "    <tr style=\"text-align: right;\">\n",
       "      <th></th>\n",
       "      <th>popjobdensity_group</th>\n",
       "      <th>equity_group</th>\n",
       "      <th>Population</th>\n",
       "      <th>itp_id</th>\n",
       "      <th>num_arrivals</th>\n",
       "      <th>num_jobs</th>\n",
       "      <th>num_pop_jobs</th>\n",
       "      <th>stop_id</th>\n",
       "      <th>Tract</th>\n",
       "      <th>arrivals_per_1k_pj</th>\n",
       "      <th>stops_per_1k_pj</th>\n",
       "    </tr>\n",
       "  </thead>\n",
       "  <tbody>\n",
       "    <tr>\n",
       "      <th>10</th>\n",
       "      <td>Low</td>\n",
       "      <td>0</td>\n",
       "      <td>70331</td>\n",
       "      <td>38</td>\n",
       "      <td>12021</td>\n",
       "      <td>82354</td>\n",
       "      <td>152685</td>\n",
       "      <td>246</td>\n",
       "      <td>51</td>\n",
       "      <td>78.730720</td>\n",
       "      <td>1.611160</td>\n",
       "    </tr>\n",
       "    <tr>\n",
       "      <th>0</th>\n",
       "      <td>Low</td>\n",
       "      <td>1</td>\n",
       "      <td>6483574</td>\n",
       "      <td>1257</td>\n",
       "      <td>164076</td>\n",
       "      <td>1611989</td>\n",
       "      <td>8095563</td>\n",
       "      <td>8933</td>\n",
       "      <td>1369</td>\n",
       "      <td>20.267398</td>\n",
       "      <td>1.103444</td>\n",
       "    </tr>\n",
       "    <tr>\n",
       "      <th>8</th>\n",
       "      <td>Low</td>\n",
       "      <td>2</td>\n",
       "      <td>4044223</td>\n",
       "      <td>731</td>\n",
       "      <td>109502</td>\n",
       "      <td>1527032</td>\n",
       "      <td>5571255</td>\n",
       "      <td>5635</td>\n",
       "      <td>776</td>\n",
       "      <td>19.654817</td>\n",
       "      <td>1.011442</td>\n",
       "    </tr>\n",
       "    <tr>\n",
       "      <th>4</th>\n",
       "      <td>Low</td>\n",
       "      <td>3</td>\n",
       "      <td>2637676</td>\n",
       "      <td>434</td>\n",
       "      <td>81780</td>\n",
       "      <td>1308515</td>\n",
       "      <td>3946191</td>\n",
       "      <td>3895</td>\n",
       "      <td>461</td>\n",
       "      <td>20.723781</td>\n",
       "      <td>0.987028</td>\n",
       "    </tr>\n",
       "    <tr>\n",
       "      <th>11</th>\n",
       "      <td>Med</td>\n",
       "      <td>0</td>\n",
       "      <td>55740</td>\n",
       "      <td>10</td>\n",
       "      <td>11365</td>\n",
       "      <td>74090</td>\n",
       "      <td>129830</td>\n",
       "      <td>156</td>\n",
       "      <td>14</td>\n",
       "      <td>87.537549</td>\n",
       "      <td>1.201571</td>\n",
       "    </tr>\n",
       "    <tr>\n",
       "      <th>6</th>\n",
       "      <td>Med</td>\n",
       "      <td>1</td>\n",
       "      <td>4192427</td>\n",
       "      <td>909</td>\n",
       "      <td>174996</td>\n",
       "      <td>1324761</td>\n",
       "      <td>5517188</td>\n",
       "      <td>7196</td>\n",
       "      <td>857</td>\n",
       "      <td>31.718332</td>\n",
       "      <td>1.304288</td>\n",
       "    </tr>\n",
       "    <tr>\n",
       "      <th>7</th>\n",
       "      <td>Med</td>\n",
       "      <td>2</td>\n",
       "      <td>5069081</td>\n",
       "      <td>1381</td>\n",
       "      <td>287081</td>\n",
       "      <td>1762718</td>\n",
       "      <td>6831799</td>\n",
       "      <td>10517</td>\n",
       "      <td>1005</td>\n",
       "      <td>42.021289</td>\n",
       "      <td>1.539419</td>\n",
       "    </tr>\n",
       "    <tr>\n",
       "      <th>5</th>\n",
       "      <td>Med</td>\n",
       "      <td>3</td>\n",
       "      <td>3935454</td>\n",
       "      <td>1200</td>\n",
       "      <td>325439</td>\n",
       "      <td>1778113</td>\n",
       "      <td>5713567</td>\n",
       "      <td>10774</td>\n",
       "      <td>798</td>\n",
       "      <td>56.958989</td>\n",
       "      <td>1.885687</td>\n",
       "    </tr>\n",
       "    <tr>\n",
       "      <th>9</th>\n",
       "      <td>High</td>\n",
       "      <td>0</td>\n",
       "      <td>34118</td>\n",
       "      <td>23</td>\n",
       "      <td>10520</td>\n",
       "      <td>84203</td>\n",
       "      <td>118321</td>\n",
       "      <td>190</td>\n",
       "      <td>10</td>\n",
       "      <td>88.910675</td>\n",
       "      <td>1.605801</td>\n",
       "    </tr>\n",
       "    <tr>\n",
       "      <th>1</th>\n",
       "      <td>High</td>\n",
       "      <td>1</td>\n",
       "      <td>1995393</td>\n",
       "      <td>516</td>\n",
       "      <td>259200</td>\n",
       "      <td>1274857</td>\n",
       "      <td>3270250</td>\n",
       "      <td>4706</td>\n",
       "      <td>418</td>\n",
       "      <td>79.259995</td>\n",
       "      <td>1.439034</td>\n",
       "    </tr>\n",
       "    <tr>\n",
       "      <th>2</th>\n",
       "      <td>High</td>\n",
       "      <td>2</td>\n",
       "      <td>4305526</td>\n",
       "      <td>1309</td>\n",
       "      <td>544942</td>\n",
       "      <td>3054002</td>\n",
       "      <td>7359528</td>\n",
       "      <td>11070</td>\n",
       "      <td>863</td>\n",
       "      <td>74.045781</td>\n",
       "      <td>1.504173</td>\n",
       "    </tr>\n",
       "    <tr>\n",
       "      <th>3</th>\n",
       "      <td>High</td>\n",
       "      <td>3</td>\n",
       "      <td>6459917</td>\n",
       "      <td>3058</td>\n",
       "      <td>948509</td>\n",
       "      <td>3020193</td>\n",
       "      <td>9480110</td>\n",
       "      <td>20574</td>\n",
       "      <td>1385</td>\n",
       "      <td>100.052531</td>\n",
       "      <td>2.170228</td>\n",
       "    </tr>\n",
       "  </tbody>\n",
       "</table>\n",
       "</div>"
      ],
      "text/plain": [
       "   popjobdensity_group  equity_group  Population  itp_id  num_arrivals  \\\n",
       "10                 Low             0       70331      38         12021   \n",
       "0                  Low             1     6483574    1257        164076   \n",
       "8                  Low             2     4044223     731        109502   \n",
       "4                  Low             3     2637676     434         81780   \n",
       "11                 Med             0       55740      10         11365   \n",
       "6                  Med             1     4192427     909        174996   \n",
       "7                  Med             2     5069081    1381        287081   \n",
       "5                  Med             3     3935454    1200        325439   \n",
       "9                 High             0       34118      23         10520   \n",
       "1                 High             1     1995393     516        259200   \n",
       "2                 High             2     4305526    1309        544942   \n",
       "3                 High             3     6459917    3058        948509   \n",
       "\n",
       "    num_jobs  num_pop_jobs  stop_id  Tract  arrivals_per_1k_pj  \\\n",
       "10     82354        152685      246     51           78.730720   \n",
       "0    1611989       8095563     8933   1369           20.267398   \n",
       "8    1527032       5571255     5635    776           19.654817   \n",
       "4    1308515       3946191     3895    461           20.723781   \n",
       "11     74090        129830      156     14           87.537549   \n",
       "6    1324761       5517188     7196    857           31.718332   \n",
       "7    1762718       6831799    10517   1005           42.021289   \n",
       "5    1778113       5713567    10774    798           56.958989   \n",
       "9      84203        118321      190     10           88.910675   \n",
       "1    1274857       3270250     4706    418           79.259995   \n",
       "2    3054002       7359528    11070    863           74.045781   \n",
       "3    3020193       9480110    20574   1385          100.052531   \n",
       "\n",
       "    stops_per_1k_pj  \n",
       "10         1.611160  \n",
       "0          1.103444  \n",
       "8          1.011442  \n",
       "4          0.987028  \n",
       "11         1.201571  \n",
       "6          1.304288  \n",
       "7          1.539419  \n",
       "5          1.885687  \n",
       "9          1.605801  \n",
       "1          1.439034  \n",
       "2          1.504173  \n",
       "3          2.170228  "
      ]
     },
     "execution_count": 5,
     "metadata": {},
     "output_type": "execute_result"
    }
   ],
   "source": [
    "aggregate_dict = {\n",
    "    \"sum_cols\": [\"stop_id\", \"itp_id\", \"Population\", \n",
    "                 \"num_jobs\", \"num_pop_jobs\", \"num_arrivals\"],\n",
    "    \"mean_cols\": [],\n",
    "    \"count_cols\": [\"Tract\"],\n",
    "    \"nunique_cols\": [],\n",
    "}\n",
    "\n",
    "\n",
    "LEGEND_LABELS = {\n",
    "    1: \"Low\",\n",
    "    2: \"Med\",\n",
    "    3: \"High\"\n",
    "}\n",
    "\n",
    "LEGEND_ORDER = list(LEGEND_LABELS.values())\n",
    "\n",
    "by_density_equity = aggregate_generate_stats(df, \n",
    "                              group_cols = [\"popjobdensity_group\", \"equity_group\"],\n",
    "                              aggregate_dict = aggregate_dict)\n",
    "\n",
    "by_density_equity = by_density_equity.assign(\n",
    "    popjobdensity_group = by_density_equity.popjobdensity_group.map(LEGEND_LABELS)\n",
    ")\n",
    "\n",
    "by_density_equity"
   ]
  },
  {
   "cell_type": "code",
   "execution_count": 6,
   "id": "eda6ddc9-b133-4345-9983-ad6d56907293",
   "metadata": {},
   "outputs": [
    {
     "data": {
      "text/html": [
       "<div>\n",
       "<style scoped>\n",
       "    .dataframe tbody tr th:only-of-type {\n",
       "        vertical-align: middle;\n",
       "    }\n",
       "\n",
       "    .dataframe tbody tr th {\n",
       "        vertical-align: top;\n",
       "    }\n",
       "\n",
       "    .dataframe thead th {\n",
       "        text-align: right;\n",
       "    }\n",
       "</style>\n",
       "<table border=\"1\" class=\"dataframe\">\n",
       "  <thead>\n",
       "    <tr style=\"text-align: right;\">\n",
       "      <th></th>\n",
       "      <th>popjobdensity_group</th>\n",
       "      <th>Population</th>\n",
       "      <th>itp_id</th>\n",
       "      <th>num_arrivals</th>\n",
       "      <th>num_jobs</th>\n",
       "      <th>num_pop_jobs</th>\n",
       "      <th>stop_id</th>\n",
       "      <th>Tract</th>\n",
       "      <th>arrivals_per_1k_pj</th>\n",
       "      <th>stops_per_1k_pj</th>\n",
       "    </tr>\n",
       "  </thead>\n",
       "  <tbody>\n",
       "    <tr>\n",
       "      <th>0</th>\n",
       "      <td>1</td>\n",
       "      <td>13235804</td>\n",
       "      <td>2460</td>\n",
       "      <td>367379</td>\n",
       "      <td>4529890</td>\n",
       "      <td>17765694</td>\n",
       "      <td>18709</td>\n",
       "      <td>2657</td>\n",
       "      <td>20.679125</td>\n",
       "      <td>1.053097</td>\n",
       "    </tr>\n",
       "    <tr>\n",
       "      <th>2</th>\n",
       "      <td>2</td>\n",
       "      <td>13252702</td>\n",
       "      <td>3500</td>\n",
       "      <td>798881</td>\n",
       "      <td>4939682</td>\n",
       "      <td>18192384</td>\n",
       "      <td>28643</td>\n",
       "      <td>2674</td>\n",
       "      <td>43.912936</td>\n",
       "      <td>1.574450</td>\n",
       "    </tr>\n",
       "    <tr>\n",
       "      <th>1</th>\n",
       "      <td>3</td>\n",
       "      <td>12794954</td>\n",
       "      <td>4906</td>\n",
       "      <td>1763171</td>\n",
       "      <td>7433255</td>\n",
       "      <td>20228209</td>\n",
       "      <td>36540</td>\n",
       "      <td>2676</td>\n",
       "      <td>87.163970</td>\n",
       "      <td>1.806388</td>\n",
       "    </tr>\n",
       "  </tbody>\n",
       "</table>\n",
       "</div>"
      ],
      "text/plain": [
       "   popjobdensity_group  Population  itp_id  num_arrivals  num_jobs  \\\n",
       "0                    1    13235804    2460        367379   4529890   \n",
       "2                    2    13252702    3500        798881   4939682   \n",
       "1                    3    12794954    4906       1763171   7433255   \n",
       "\n",
       "   num_pop_jobs  stop_id  Tract  arrivals_per_1k_pj  stops_per_1k_pj  \n",
       "0      17765694    18709   2657           20.679125         1.053097  \n",
       "2      18192384    28643   2674           43.912936         1.574450  \n",
       "1      20228209    36540   2676           87.163970         1.806388  "
      ]
     },
     "execution_count": 6,
     "metadata": {},
     "output_type": "execute_result"
    }
   ],
   "source": [
    "by_density = aggregate_generate_stats(df, \n",
    "                              group_cols = [\"popjobdensity_group\"],\n",
    "                              aggregate_dict = aggregate_dict)\n",
    "\n",
    "by_density"
   ]
  },
  {
   "cell_type": "code",
   "execution_count": 7,
   "id": "21b2e149-a06d-42bd-aa83-4fa3729c475f",
   "metadata": {},
   "outputs": [
    {
     "data": {
      "text/html": [
       "<div>\n",
       "<style scoped>\n",
       "    .dataframe tbody tr th:only-of-type {\n",
       "        vertical-align: middle;\n",
       "    }\n",
       "\n",
       "    .dataframe tbody tr th {\n",
       "        vertical-align: top;\n",
       "    }\n",
       "\n",
       "    .dataframe thead th {\n",
       "        text-align: right;\n",
       "    }\n",
       "</style>\n",
       "<table border=\"1\" class=\"dataframe\">\n",
       "  <thead>\n",
       "    <tr style=\"text-align: right;\">\n",
       "      <th></th>\n",
       "      <th>equity_group</th>\n",
       "      <th>Population</th>\n",
       "      <th>itp_id</th>\n",
       "      <th>num_arrivals</th>\n",
       "      <th>num_jobs</th>\n",
       "      <th>num_pop_jobs</th>\n",
       "      <th>stop_id</th>\n",
       "      <th>Tract</th>\n",
       "      <th>arrivals_per_1k_pj</th>\n",
       "      <th>stops_per_1k_pj</th>\n",
       "    </tr>\n",
       "  </thead>\n",
       "  <tbody>\n",
       "    <tr>\n",
       "      <th>3</th>\n",
       "      <td>0</td>\n",
       "      <td>160189</td>\n",
       "      <td>71</td>\n",
       "      <td>33906</td>\n",
       "      <td>240647</td>\n",
       "      <td>400836</td>\n",
       "      <td>592</td>\n",
       "      <td>75</td>\n",
       "      <td>84.588211</td>\n",
       "      <td>1.476913</td>\n",
       "    </tr>\n",
       "    <tr>\n",
       "      <th>0</th>\n",
       "      <td>1</td>\n",
       "      <td>12671394</td>\n",
       "      <td>2682</td>\n",
       "      <td>598272</td>\n",
       "      <td>4211607</td>\n",
       "      <td>16883001</td>\n",
       "      <td>20835</td>\n",
       "      <td>2644</td>\n",
       "      <td>35.436354</td>\n",
       "      <td>1.234082</td>\n",
       "    </tr>\n",
       "    <tr>\n",
       "      <th>1</th>\n",
       "      <td>2</td>\n",
       "      <td>13418830</td>\n",
       "      <td>3421</td>\n",
       "      <td>941525</td>\n",
       "      <td>6343752</td>\n",
       "      <td>19762582</td>\n",
       "      <td>27222</td>\n",
       "      <td>2644</td>\n",
       "      <td>47.641801</td>\n",
       "      <td>1.377452</td>\n",
       "    </tr>\n",
       "    <tr>\n",
       "      <th>2</th>\n",
       "      <td>3</td>\n",
       "      <td>13033047</td>\n",
       "      <td>4692</td>\n",
       "      <td>1355728</td>\n",
       "      <td>6106821</td>\n",
       "      <td>19139868</td>\n",
       "      <td>35243</td>\n",
       "      <td>2644</td>\n",
       "      <td>70.832672</td>\n",
       "      <td>1.841340</td>\n",
       "    </tr>\n",
       "  </tbody>\n",
       "</table>\n",
       "</div>"
      ],
      "text/plain": [
       "   equity_group  Population  itp_id  num_arrivals  num_jobs  num_pop_jobs  \\\n",
       "3             0      160189      71         33906    240647        400836   \n",
       "0             1    12671394    2682        598272   4211607      16883001   \n",
       "1             2    13418830    3421        941525   6343752      19762582   \n",
       "2             3    13033047    4692       1355728   6106821      19139868   \n",
       "\n",
       "   stop_id  Tract  arrivals_per_1k_pj  stops_per_1k_pj  \n",
       "3      592     75           84.588211         1.476913  \n",
       "0    20835   2644           35.436354         1.234082  \n",
       "1    27222   2644           47.641801         1.377452  \n",
       "2    35243   2644           70.832672         1.841340  "
      ]
     },
     "execution_count": 7,
     "metadata": {},
     "output_type": "execute_result"
    }
   ],
   "source": [
    "by_equity = aggregate_generate_stats(df, \n",
    "                              group_cols = [\"equity_group\"],\n",
    "                              aggregate_dict = aggregate_dict)\n",
    "\n",
    "by_equity"
   ]
  },
  {
   "cell_type": "code",
   "execution_count": 8,
   "id": "92e39646-d9ce-49a3-a4b0-cc2e057bda29",
   "metadata": {},
   "outputs": [
    {
     "data": {
      "text/html": [
       "<div>\n",
       "<style scoped>\n",
       "    .dataframe tbody tr th:only-of-type {\n",
       "        vertical-align: middle;\n",
       "    }\n",
       "\n",
       "    .dataframe tbody tr th {\n",
       "        vertical-align: top;\n",
       "    }\n",
       "\n",
       "    .dataframe thead th {\n",
       "        text-align: right;\n",
       "    }\n",
       "</style>\n",
       "<table border=\"1\" class=\"dataframe\">\n",
       "  <thead>\n",
       "    <tr style=\"text-align: right;\">\n",
       "      <th></th>\n",
       "      <th>popjobdensity_group</th>\n",
       "      <th>equity_group</th>\n",
       "      <th>Tract</th>\n",
       "      <th>arrivals_per_1k_pj</th>\n",
       "    </tr>\n",
       "  </thead>\n",
       "  <tbody>\n",
       "    <tr>\n",
       "      <th>9</th>\n",
       "      <td>High</td>\n",
       "      <td>0</td>\n",
       "      <td>10</td>\n",
       "      <td>88.910675</td>\n",
       "    </tr>\n",
       "    <tr>\n",
       "      <th>10</th>\n",
       "      <td>Low</td>\n",
       "      <td>0</td>\n",
       "      <td>51</td>\n",
       "      <td>78.730720</td>\n",
       "    </tr>\n",
       "    <tr>\n",
       "      <th>11</th>\n",
       "      <td>Med</td>\n",
       "      <td>0</td>\n",
       "      <td>14</td>\n",
       "      <td>87.537549</td>\n",
       "    </tr>\n",
       "    <tr>\n",
       "      <th>1</th>\n",
       "      <td>High</td>\n",
       "      <td>1</td>\n",
       "      <td>418</td>\n",
       "      <td>79.259995</td>\n",
       "    </tr>\n",
       "    <tr>\n",
       "      <th>0</th>\n",
       "      <td>Low</td>\n",
       "      <td>1</td>\n",
       "      <td>1369</td>\n",
       "      <td>20.267398</td>\n",
       "    </tr>\n",
       "    <tr>\n",
       "      <th>6</th>\n",
       "      <td>Med</td>\n",
       "      <td>1</td>\n",
       "      <td>857</td>\n",
       "      <td>31.718332</td>\n",
       "    </tr>\n",
       "    <tr>\n",
       "      <th>2</th>\n",
       "      <td>High</td>\n",
       "      <td>2</td>\n",
       "      <td>863</td>\n",
       "      <td>74.045781</td>\n",
       "    </tr>\n",
       "    <tr>\n",
       "      <th>8</th>\n",
       "      <td>Low</td>\n",
       "      <td>2</td>\n",
       "      <td>776</td>\n",
       "      <td>19.654817</td>\n",
       "    </tr>\n",
       "    <tr>\n",
       "      <th>7</th>\n",
       "      <td>Med</td>\n",
       "      <td>2</td>\n",
       "      <td>1005</td>\n",
       "      <td>42.021289</td>\n",
       "    </tr>\n",
       "    <tr>\n",
       "      <th>3</th>\n",
       "      <td>High</td>\n",
       "      <td>3</td>\n",
       "      <td>1385</td>\n",
       "      <td>100.052531</td>\n",
       "    </tr>\n",
       "    <tr>\n",
       "      <th>4</th>\n",
       "      <td>Low</td>\n",
       "      <td>3</td>\n",
       "      <td>461</td>\n",
       "      <td>20.723781</td>\n",
       "    </tr>\n",
       "    <tr>\n",
       "      <th>5</th>\n",
       "      <td>Med</td>\n",
       "      <td>3</td>\n",
       "      <td>798</td>\n",
       "      <td>56.958989</td>\n",
       "    </tr>\n",
       "  </tbody>\n",
       "</table>\n",
       "</div>"
      ],
      "text/plain": [
       "   popjobdensity_group  equity_group  Tract  arrivals_per_1k_pj\n",
       "9                 High             0     10           88.910675\n",
       "10                 Low             0     51           78.730720\n",
       "11                 Med             0     14           87.537549\n",
       "1                 High             1    418           79.259995\n",
       "0                  Low             1   1369           20.267398\n",
       "6                  Med             1    857           31.718332\n",
       "2                 High             2    863           74.045781\n",
       "8                  Low             2    776           19.654817\n",
       "7                  Med             2   1005           42.021289\n",
       "3                 High             3   1385          100.052531\n",
       "4                  Low             3    461           20.723781\n",
       "5                  Med             3    798           56.958989"
      ]
     },
     "execution_count": 8,
     "metadata": {},
     "output_type": "execute_result"
    }
   ],
   "source": [
    "by_density_equity.sort_values([\"equity_group\", \"popjobdensity_group\"])[\n",
    "    [\"popjobdensity_group\", \"equity_group\", \"Tract\", \"arrivals_per_1k_pj\"]]"
   ]
  },
  {
   "cell_type": "code",
   "execution_count": 9,
   "id": "3b9067a3-5ae0-4123-8bd0-c12830f90289",
   "metadata": {},
   "outputs": [
    {
     "data": {
      "application/vnd.vegalite.v4+json": {
       "$schema": "https://vega.github.io/schema/vega-lite/v4.8.1.json",
       "config": {
        "axis": {
         "domainColor": "#cbcbcb",
         "grid": true,
         "gridColor": "#cbcbcb",
         "gridWidth": 1,
         "labelColor": "#999",
         "labelFont": "Arial",
         "labelFontSize": 10,
         "labelPadding": 4,
         "tickColor": "#cbcbcb",
         "tickSize": 10,
         "titleColor": "#333",
         "titleFont": "Arial",
         "titleFontSize": 14,
         "titlePadding": 10
        },
        "axisBand": {
         "grid": false
        },
        "background": "white",
        "font": "Arial",
        "header": {
         "labelFont": "Arial",
         "titleFont": "Arial"
        },
        "legend": {
         "labelColor": "#333",
         "labelFont": "Arial",
         "labelFontSize": 11,
         "padding": 1,
         "symbolSize": 30,
         "symbolType": "square",
         "titleColor": "#333",
         "titleFont": "Arial",
         "titleFontSize": 14,
         "titlePadding": 10
        },
        "title": {
         "anchor": "middle",
         "font": "Arial",
         "fontSize": 16,
         "fontWeight": 300,
         "offset": 20
        },
        "view": {
         "continuousHeight": 300,
         "continuousWidth": 400
        }
       },
       "data": {
        "name": "data-6aa58cef74e9e31f17e640f4ef326e0a"
       },
       "datasets": {
        "data-6aa58cef74e9e31f17e640f4ef326e0a": [
         {
          "Population": 13235804,
          "Tract": 2657,
          "arrivals_per_1k_pj": 20.679124609486124,
          "itp_id": 2460,
          "num_arrivals": 367379,
          "num_jobs": 4529890,
          "num_pop_jobs": 17765694,
          "popjobdensity_group": "Low",
          "stop_id": 18709,
          "stops_per_1k_pj": 1.0530970532307942
         },
         {
          "Population": 13252702,
          "Tract": 2674,
          "arrivals_per_1k_pj": 43.91293631444895,
          "itp_id": 3500,
          "num_arrivals": 798881,
          "num_jobs": 4939682,
          "num_pop_jobs": 18192384,
          "popjobdensity_group": "Med",
          "stop_id": 28643,
          "stops_per_1k_pj": 1.574450055583699
         },
         {
          "Population": 12794954,
          "Tract": 2676,
          "arrivals_per_1k_pj": 87.16396987988408,
          "itp_id": 4906,
          "num_arrivals": 1763171,
          "num_jobs": 7433255,
          "num_pop_jobs": 20228209,
          "popjobdensity_group": "High",
          "stop_id": 36540,
          "stops_per_1k_pj": 1.8063882966603717
         }
        ]
       },
       "encoding": {
        "color": {
         "field": "popjobdensity_group",
         "scale": {
          "domain": [
           "Low",
           "Med",
           "High"
          ],
          "range": [
           "#30a2da",
           "#fc4f30",
           "#e5ae38",
           "#6d904f",
           "#8b8b8b",
           "#b96db8",
           "#ff9e27",
           "#56cc60",
           "#52d2ca",
           "#52689e",
           "#545454",
           "#9fe4f8"
          ]
         },
         "title": "Pop / Job Density",
         "type": "nominal"
        },
        "x": {
         "axis": {
          "title": ""
         },
         "field": "popjobdensity_group",
         "scale": {
          "domain": [
           "Low",
           "Med",
           "High"
          ]
         },
         "type": "nominal"
        },
        "y": {
         "axis": {
          "title": "Arrivals per 1k"
         },
         "field": "arrivals_per_1k_pj",
         "scale": {
          "domain": [
           0,
           87.16396987988408
          ]
         },
         "type": "quantitative"
        }
       },
       "height": 250,
       "mark": "bar",
       "title": "Arrivals per 1k by Pop / Job Density",
       "usermeta": {
        "embedOptions": {
         "theme": "fivethirtyeight"
        }
       },
       "width": 100
      },
      "image/png": "[encoded data removed]",
      "text/plain": [
       "alt.Chart(...)"
      ]
     },
     "metadata": {},
     "output_type": "display_data"
    }
   ],
   "source": [
    "# Set the y-axis to be the same when comparing \n",
    "# bar charts by density or equity\n",
    "DENSITY_MAX = by_density.arrivals_per_1k_pj.max()\n",
    "EQUITY_MAX = by_equity.arrivals_per_1k_pj.max()\n",
    "Y_MAX = max(DENSITY_MAX, EQUITY_MAX)\n",
    "\n",
    "bar = (alt.Chart(\n",
    "    by_density.assign(\n",
    "        popjobdensity_group = by_density.popjobdensity_group.map(LEGEND_LABELS)\n",
    "    )\n",
    " )\n",
    " .mark_bar()\n",
    " .encode(\n",
    "     x=alt.X(\"popjobdensity_group:N\", \n",
    "             axis=alt.Axis(title=\"\"), \n",
    "             scale=alt.Scale(domain=LEGEND_ORDER)\n",
    "            ),\n",
    "     y=alt.Y(\"arrivals_per_1k_pj:Q\",\n",
    "             axis=alt.Axis(title=\"Arrivals per 1k\"),\n",
    "             scale=alt.Scale(domain=[0, Y_MAX])\n",
    "            ),\n",
    "     color=alt.Color(\"popjobdensity_group:N\", title=\"Pop / Job Density\", \n",
    "                    scale=alt.Scale(domain=LEGEND_ORDER, \n",
    "                                    range=map_utils.FIVETHIRTYEIGHT_CATEGORY_COLORS\n",
    "                                   )\n",
    "                    )\n",
    " )\n",
    ")\n",
    "\n",
    "bar = (map_utils.preset_chart_config(bar)\n",
    "       .properties(title=\"Arrivals per 1k by Pop / Job Density\", \n",
    "                  width = map_utils.chart_width*0.25)\n",
    ")\n",
    "\n",
    "display(bar)\n",
    "bar.save(\"./img/arrivals_per_1k_popjobdensity.png\")"
   ]
  },
  {
   "cell_type": "code",
   "execution_count": 10,
   "id": "3ccecdd1-0eca-4ec8-84d0-6be5b456bef1",
   "metadata": {},
   "outputs": [
    {
     "data": {
      "application/vnd.vegalite.v4+json": {
       "$schema": "https://vega.github.io/schema/vega-lite/v4.8.1.json",
       "config": {
        "axis": {
         "domainColor": "#cbcbcb",
         "grid": true,
         "gridColor": "#cbcbcb",
         "gridWidth": 1,
         "labelColor": "#999",
         "labelFont": "Arial",
         "labelFontSize": 10,
         "labelPadding": 4,
         "tickColor": "#cbcbcb",
         "tickSize": 10,
         "titleColor": "#333",
         "titleFont": "Arial",
         "titleFontSize": 14,
         "titlePadding": 10
        },
        "axisBand": {
         "grid": false
        },
        "background": "white",
        "font": "Arial",
        "header": {
         "labelFont": "Arial",
         "titleFont": "Arial"
        },
        "legend": {
         "labelColor": "#333",
         "labelFont": "Arial",
         "labelFontSize": 11,
         "padding": 1,
         "symbolSize": 30,
         "symbolType": "square",
         "titleColor": "#333",
         "titleFont": "Arial",
         "titleFontSize": 14,
         "titlePadding": 10
        },
        "title": {
         "anchor": "middle",
         "font": "Arial",
         "fontSize": 16,
         "fontWeight": 300,
         "offset": 20
        },
        "view": {
         "continuousHeight": 300,
         "continuousWidth": 400
        }
       },
       "data": {
        "name": "data-5978bff722d0dd0a61586106b52f2370"
       },
       "datasets": {
        "data-5978bff722d0dd0a61586106b52f2370": [
         {
          "Population": 160189,
          "Tract": 75,
          "arrivals_per_1k_pj": 84.58821063976289,
          "equity_group": null,
          "itp_id": 71,
          "num_arrivals": 33906,
          "num_jobs": 240647,
          "num_pop_jobs": 400836,
          "stop_id": 592,
          "stops_per_1k_pj": 1.4769132513047731
         },
         {
          "Population": 12671394,
          "Tract": 2644,
          "arrivals_per_1k_pj": 35.43635399891287,
          "equity_group": "Low",
          "itp_id": 2682,
          "num_arrivals": 598272,
          "num_jobs": 4211607,
          "num_pop_jobs": 16883001,
          "stop_id": 20835,
          "stops_per_1k_pj": 1.2340815474689601
         },
         {
          "Population": 13418830,
          "Tract": 2644,
          "arrivals_per_1k_pj": 47.64180105615754,
          "equity_group": "Med",
          "itp_id": 3421,
          "num_arrivals": 941525,
          "num_jobs": 6343752,
          "num_pop_jobs": 19762582,
          "stop_id": 27222,
          "stops_per_1k_pj": 1.3774515900806887
         },
         {
          "Population": 13033047,
          "Tract": 2644,
          "arrivals_per_1k_pj": 70.832672409235,
          "equity_group": "High",
          "itp_id": 4692,
          "num_arrivals": 1355728,
          "num_jobs": 6106821,
          "num_pop_jobs": 19139868,
          "stop_id": 35243,
          "stops_per_1k_pj": 1.8413397626357715
         }
        ]
       },
       "encoding": {
        "color": {
         "field": "equity_group",
         "scale": {
          "domain": [
           "Low",
           "Med",
           "High"
          ],
          "range": [
           "#30a2da",
           "#fc4f30",
           "#e5ae38",
           "#6d904f",
           "#8b8b8b",
           "#b96db8",
           "#ff9e27",
           "#56cc60",
           "#52d2ca",
           "#52689e",
           "#545454",
           "#9fe4f8"
          ]
         },
         "title": "CalEnviroScreen",
         "type": "nominal"
        },
        "x": {
         "axis": {
          "title": ""
         },
         "field": "equity_group",
         "scale": {
          "domain": [
           "Low",
           "Med",
           "High"
          ]
         },
         "type": "nominal"
        },
        "y": {
         "axis": {
          "title": "Arrivals per 1k"
         },
         "field": "arrivals_per_1k_pj",
         "scale": {
          "domain": [
           0,
           87.16396987988408
          ]
         },
         "type": "quantitative"
        }
       },
       "height": 250,
       "mark": "bar",
       "title": "Arrivals per 1k by CalEnviroScreen",
       "usermeta": {
        "embedOptions": {
         "theme": "fivethirtyeight"
        }
       },
       "width": 100
      },
      "image/png": "[encoded data removed]",
      "text/plain": [
       "alt.Chart(...)"
      ]
     },
     "metadata": {},
     "output_type": "display_data"
    }
   ],
   "source": [
    "bar = (alt.Chart((by_equity\n",
    "                  .assign(\n",
    "                      equity_group = by_equity.equity_group.map(LEGEND_LABELS)\n",
    "                  )))\n",
    " .mark_bar()\n",
    " .encode(\n",
    "     x=alt.X(\"equity_group:N\", \n",
    "             axis=alt.Axis(title=\"\"), \n",
    "             scale=alt.Scale(domain=LEGEND_ORDER)\n",
    "            ),\n",
    "     y=alt.Y(\"arrivals_per_1k_pj:Q\",\n",
    "             axis=alt.Axis(title=\"Arrivals per 1k\"),\n",
    "             scale=alt.Scale(domain=[0, Y_MAX])\n",
    "            ),\n",
    "     color=alt.Color(\"equity_group:N\", title=\"CalEnviroScreen\", \n",
    "                    scale=alt.Scale(domain=LEGEND_ORDER, \n",
    "                                    range=map_utils.FIVETHIRTYEIGHT_CATEGORY_COLORS\n",
    "                                   )\n",
    "                    )\n",
    " )\n",
    ")\n",
    "\n",
    "bar = (map_utils.preset_chart_config(bar)\n",
    "       .properties(title=\"Arrivals per 1k by CalEnviroScreen\", \n",
    "                  width = map_utils.chart_width*0.25)\n",
    ")\n",
    "\n",
    "display(bar)\n",
    "bar.save(\"./img/arrivals_per_1k_equity.png\")"
   ]
  },
  {
   "cell_type": "code",
   "execution_count": 11,
   "id": "982a6f8f-dc7d-4c98-a609-0b05a82e2829",
   "metadata": {},
   "outputs": [
    {
     "data": {
      "application/vnd.vegalite.v4+json": {
       "$schema": "https://vega.github.io/schema/vega-lite/v4.8.1.json",
       "config": {
        "axis": {
         "domainColor": "#cbcbcb",
         "grid": true,
         "gridColor": "#cbcbcb",
         "gridWidth": 1,
         "labelColor": "#999",
         "labelFont": "Arial",
         "labelFontSize": 10,
         "labelPadding": 4,
         "tickColor": "#cbcbcb",
         "tickSize": 10,
         "titleColor": "#333",
         "titleFont": "Arial",
         "titleFontSize": 14,
         "titlePadding": 10
        },
        "axisBand": {
         "grid": false
        },
        "background": "white",
        "font": "Arial",
        "header": {
         "labelFont": "Arial",
         "titleFont": "Arial"
        },
        "legend": {
         "labelColor": "#333",
         "labelFont": "Arial",
         "labelFontSize": 11,
         "padding": 1,
         "symbolSize": 30,
         "symbolType": "square",
         "titleColor": "#333",
         "titleFont": "Arial",
         "titleFontSize": 14,
         "titlePadding": 10
        },
        "title": {
         "anchor": "middle",
         "font": "Arial",
         "fontSize": 16,
         "fontWeight": 300,
         "offset": 20
        },
        "view": {
         "continuousHeight": 300,
         "continuousWidth": 400
        }
       },
       "data": {
        "name": "data-4958d47e4e6e61fe70a30eb15775422b"
       },
       "datasets": {
        "data-4958d47e4e6e61fe70a30eb15775422b": [
         {
          "Population": 6483574,
          "Tract": 1369,
          "arrivals_per_1k_pj": 20.267398326713042,
          "equity_group": 1,
          "itp_id": 1257,
          "num_arrivals": 164076,
          "num_jobs": 1611989,
          "num_pop_jobs": 8095563,
          "popjobdensity_group": "Low",
          "stop_id": 8933,
          "stops_per_1k_pj": 1.1034439482467124
         },
         {
          "Population": 4044223,
          "Tract": 776,
          "arrivals_per_1k_pj": 19.654817451364192,
          "equity_group": 2,
          "itp_id": 731,
          "num_arrivals": 109502,
          "num_jobs": 1527032,
          "num_pop_jobs": 5571255,
          "popjobdensity_group": "Low",
          "stop_id": 5635,
          "stops_per_1k_pj": 1.0114417667114501
         },
         {
          "Population": 2637676,
          "Tract": 461,
          "arrivals_per_1k_pj": 20.723781489542702,
          "equity_group": 3,
          "itp_id": 434,
          "num_arrivals": 81780,
          "num_jobs": 1308515,
          "num_pop_jobs": 3946191,
          "popjobdensity_group": "Low",
          "stop_id": 3895,
          "stops_per_1k_pj": 0.9870277439688044
         },
         {
          "Population": 4192427,
          "Tract": 857,
          "arrivals_per_1k_pj": 31.718331874860887,
          "equity_group": 1,
          "itp_id": 909,
          "num_arrivals": 174996,
          "num_jobs": 1324761,
          "num_pop_jobs": 5517188,
          "popjobdensity_group": "Med",
          "stop_id": 7196,
          "stops_per_1k_pj": 1.3042876189827137
         },
         {
          "Population": 5069081,
          "Tract": 1005,
          "arrivals_per_1k_pj": 42.021288975275766,
          "equity_group": 2,
          "itp_id": 1381,
          "num_arrivals": 287081,
          "num_jobs": 1762718,
          "num_pop_jobs": 6831799,
          "popjobdensity_group": "Med",
          "stop_id": 10517,
          "stops_per_1k_pj": 1.5394188265784752
         },
         {
          "Population": 3935454,
          "Tract": 798,
          "arrivals_per_1k_pj": 56.95898901684359,
          "equity_group": 3,
          "itp_id": 1200,
          "num_arrivals": 325439,
          "num_jobs": 1778113,
          "num_pop_jobs": 5713567,
          "popjobdensity_group": "Med",
          "stop_id": 10774,
          "stops_per_1k_pj": 1.8856871723040967
         },
         {
          "Population": 1995393,
          "Tract": 418,
          "arrivals_per_1k_pj": 79.25999541319472,
          "equity_group": 1,
          "itp_id": 516,
          "num_arrivals": 259200,
          "num_jobs": 1274857,
          "num_pop_jobs": 3270250,
          "popjobdensity_group": "High",
          "stop_id": 4706,
          "stops_per_1k_pj": 1.4390337130188824
         },
         {
          "Population": 4305526,
          "Tract": 863,
          "arrivals_per_1k_pj": 74.04578119683762,
          "equity_group": 2,
          "itp_id": 1309,
          "num_arrivals": 544942,
          "num_jobs": 3054002,
          "num_pop_jobs": 7359528,
          "popjobdensity_group": "High",
          "stop_id": 11070,
          "stops_per_1k_pj": 1.5041725501961538
         },
         {
          "Population": 6459917,
          "Tract": 1385,
          "arrivals_per_1k_pj": 100.05253103603229,
          "equity_group": 3,
          "itp_id": 3058,
          "num_arrivals": 948509,
          "num_jobs": 3020193,
          "num_pop_jobs": 9480110,
          "popjobdensity_group": "High",
          "stop_id": 20574,
          "stops_per_1k_pj": 2.1702279825866997
         }
        ]
       },
       "encoding": {
        "color": {
         "field": "popjobdensity_group",
         "scale": {
          "domain": [
           "Low",
           "Med",
           "High"
          ],
          "range": [
           "#30a2da",
           "#fc4f30",
           "#e5ae38",
           "#6d904f",
           "#8b8b8b",
           "#b96db8",
           "#ff9e27",
           "#56cc60",
           "#52d2ca",
           "#52689e",
           "#545454",
           "#9fe4f8"
          ]
         },
         "title": "Pop / Job Density",
         "type": "nominal"
        },
        "column": {
         "field": "equity_group",
         "title": "CalEnviroScreen",
         "type": "nominal"
        },
        "x": {
         "axis": {
          "title": ""
         },
         "field": "popjobdensity_group",
         "scale": {
          "domain": [
           "Low",
           "Med",
           "High"
          ]
         },
         "type": "nominal"
        },
        "y": {
         "axis": {
          "title": "Arrivals per 1k"
         },
         "field": "arrivals_per_1k_pj",
         "type": "quantitative"
        }
       },
       "height": 250,
       "mark": "bar",
       "title": "Arrivals per 1k by CalEnviroScreen & Density Levels",
       "usermeta": {
        "embedOptions": {
         "theme": "fivethirtyeight"
        }
       },
       "width": 100
      },
      "image/png": "[encoded data removed]",
      "text/plain": [
       "alt.Chart(...)"
      ]
     },
     "metadata": {},
     "output_type": "display_data"
    }
   ],
   "source": [
    "bar = (alt.Chart(by_density_equity[by_density_equity.equity_group > 0])\n",
    " .mark_bar()\n",
    " .encode(\n",
    "     x=alt.X(\"popjobdensity_group:N\", \n",
    "             axis=alt.Axis(title=\"\"), \n",
    "             scale=alt.Scale(domain=LEGEND_ORDER)\n",
    "            ),\n",
    "     y=alt.Y(\"arrivals_per_1k_pj:Q\",\n",
    "             axis=alt.Axis(title=\"Arrivals per 1k\")\n",
    "            ),\n",
    "     column=alt.Column(\"equity_group:N\", title=\"CalEnviroScreen\", \n",
    "                      ),\n",
    "     color=alt.Color(\"popjobdensity_group:N\", title=\"Pop / Job Density\", \n",
    "                    scale=alt.Scale(domain=LEGEND_ORDER, \n",
    "                                    range=map_utils.FIVETHIRTYEIGHT_CATEGORY_COLORS\n",
    "                                   )\n",
    "                  )\n",
    " )\n",
    ")\n",
    "\n",
    "\n",
    "bar = (map_utils.preset_chart_config(bar)\n",
    "       .properties(title=\"Arrivals per 1k by CalEnviroScreen & Density Levels\", \n",
    "                  width = map_utils.chart_width*0.25)\n",
    ")\n",
    "\n",
    "display(bar)\n",
    "bar.save(\"./img/arrivals_per_1k_bar.png\")"
   ]
  },
  {
   "cell_type": "code",
   "execution_count": 12,
   "id": "6129318a-eb7c-4734-8286-adcf5e6f3eb1",
   "metadata": {},
   "outputs": [],
   "source": [
    "def pivot_get_counts(df, index_col, group_col, value_col):\n",
    "    df2 = df.pivot(index = index_col, \n",
    "                   columns = group_col, \n",
    "                   values = value_col)\n",
    "    return df2\n",
    "\n",
    "index_col = \"popjobdensity_group\"\n",
    "group_col = \"equity_group\"\n",
    "\n",
    "\n",
    "def make_heatmap(df, cmap, chart_title, xtitle, ytitle):\n",
    "    chart = (sns.heatmap(df, cmap=cmap)\n",
    "             .set(title=chart_title, xlabel=xtitle, ylabel=ytitle,\n",
    "                 )\n",
    "    )\n",
    "\n",
    "    return chart"
   ]
  },
  {
   "cell_type": "code",
   "execution_count": 13,
   "id": "1f2645ec-abb6-4233-bc66-069865670396",
   "metadata": {},
   "outputs": [
    {
     "name": "stdout",
     "output_type": "stream",
     "text": [
      "Tract\n"
     ]
    },
    {
     "data": {
      "text/html": [
       "<div>\n",
       "<style scoped>\n",
       "    .dataframe tbody tr th:only-of-type {\n",
       "        vertical-align: middle;\n",
       "    }\n",
       "\n",
       "    .dataframe tbody tr th {\n",
       "        vertical-align: top;\n",
       "    }\n",
       "\n",
       "    .dataframe thead th {\n",
       "        text-align: right;\n",
       "    }\n",
       "</style>\n",
       "<table border=\"1\" class=\"dataframe\">\n",
       "  <thead>\n",
       "    <tr style=\"text-align: right;\">\n",
       "      <th>equity_group</th>\n",
       "      <th>1</th>\n",
       "      <th>2</th>\n",
       "      <th>3</th>\n",
       "    </tr>\n",
       "    <tr>\n",
       "      <th>popjobdensity_group</th>\n",
       "      <th></th>\n",
       "      <th></th>\n",
       "      <th></th>\n",
       "    </tr>\n",
       "  </thead>\n",
       "  <tbody>\n",
       "    <tr>\n",
       "      <th>Low</th>\n",
       "      <td>1369</td>\n",
       "      <td>776</td>\n",
       "      <td>461</td>\n",
       "    </tr>\n",
       "    <tr>\n",
       "      <th>Med</th>\n",
       "      <td>857</td>\n",
       "      <td>1005</td>\n",
       "      <td>798</td>\n",
       "    </tr>\n",
       "    <tr>\n",
       "      <th>High</th>\n",
       "      <td>418</td>\n",
       "      <td>863</td>\n",
       "      <td>1385</td>\n",
       "    </tr>\n",
       "  </tbody>\n",
       "</table>\n",
       "</div>"
      ],
      "text/plain": [
       "equity_group            1     2     3\n",
       "popjobdensity_group                  \n",
       "Low                  1369   776   461\n",
       "Med                   857  1005   798\n",
       "High                  418   863  1385"
      ]
     },
     "metadata": {},
     "output_type": "display_data"
    },
    {
     "name": "stderr",
     "output_type": "stream",
     "text": [
      "/tmp/ipykernel_1561/483646027.py:26: MatplotlibDeprecationWarning: savefig() got unexpected keyword argument \"figsize\" which is no longer supported as of 3.3 and will become an error two minor releases later\n",
      "  plt.savefig(f'./img/{key}.png', figsize=(4, 4), dpi=300)\n"
     ]
    },
    {
     "name": "stdout",
     "output_type": "stream",
     "text": [
      "stop_id\n"
     ]
    },
    {
     "data": {
      "text/html": [
       "<div>\n",
       "<style scoped>\n",
       "    .dataframe tbody tr th:only-of-type {\n",
       "        vertical-align: middle;\n",
       "    }\n",
       "\n",
       "    .dataframe tbody tr th {\n",
       "        vertical-align: top;\n",
       "    }\n",
       "\n",
       "    .dataframe thead th {\n",
       "        text-align: right;\n",
       "    }\n",
       "</style>\n",
       "<table border=\"1\" class=\"dataframe\">\n",
       "  <thead>\n",
       "    <tr style=\"text-align: right;\">\n",
       "      <th>equity_group</th>\n",
       "      <th>1</th>\n",
       "      <th>2</th>\n",
       "      <th>3</th>\n",
       "    </tr>\n",
       "    <tr>\n",
       "      <th>popjobdensity_group</th>\n",
       "      <th></th>\n",
       "      <th></th>\n",
       "      <th></th>\n",
       "    </tr>\n",
       "  </thead>\n",
       "  <tbody>\n",
       "    <tr>\n",
       "      <th>Low</th>\n",
       "      <td>8933</td>\n",
       "      <td>5635</td>\n",
       "      <td>3895</td>\n",
       "    </tr>\n",
       "    <tr>\n",
       "      <th>Med</th>\n",
       "      <td>7196</td>\n",
       "      <td>10517</td>\n",
       "      <td>10774</td>\n",
       "    </tr>\n",
       "    <tr>\n",
       "      <th>High</th>\n",
       "      <td>4706</td>\n",
       "      <td>11070</td>\n",
       "      <td>20574</td>\n",
       "    </tr>\n",
       "  </tbody>\n",
       "</table>\n",
       "</div>"
      ],
      "text/plain": [
       "equity_group            1      2      3\n",
       "popjobdensity_group                    \n",
       "Low                  8933   5635   3895\n",
       "Med                  7196  10517  10774\n",
       "High                 4706  11070  20574"
      ]
     },
     "metadata": {},
     "output_type": "display_data"
    },
    {
     "name": "stderr",
     "output_type": "stream",
     "text": [
      "/tmp/ipykernel_1561/483646027.py:26: MatplotlibDeprecationWarning: savefig() got unexpected keyword argument \"figsize\" which is no longer supported as of 3.3 and will become an error two minor releases later\n",
      "  plt.savefig(f'./img/{key}.png', figsize=(4, 4), dpi=300)\n"
     ]
    },
    {
     "name": "stdout",
     "output_type": "stream",
     "text": [
      "itp_id\n"
     ]
    },
    {
     "data": {
      "text/html": [
       "<div>\n",
       "<style scoped>\n",
       "    .dataframe tbody tr th:only-of-type {\n",
       "        vertical-align: middle;\n",
       "    }\n",
       "\n",
       "    .dataframe tbody tr th {\n",
       "        vertical-align: top;\n",
       "    }\n",
       "\n",
       "    .dataframe thead th {\n",
       "        text-align: right;\n",
       "    }\n",
       "</style>\n",
       "<table border=\"1\" class=\"dataframe\">\n",
       "  <thead>\n",
       "    <tr style=\"text-align: right;\">\n",
       "      <th>equity_group</th>\n",
       "      <th>1</th>\n",
       "      <th>2</th>\n",
       "      <th>3</th>\n",
       "    </tr>\n",
       "    <tr>\n",
       "      <th>popjobdensity_group</th>\n",
       "      <th></th>\n",
       "      <th></th>\n",
       "      <th></th>\n",
       "    </tr>\n",
       "  </thead>\n",
       "  <tbody>\n",
       "    <tr>\n",
       "      <th>Low</th>\n",
       "      <td>1257</td>\n",
       "      <td>731</td>\n",
       "      <td>434</td>\n",
       "    </tr>\n",
       "    <tr>\n",
       "      <th>Med</th>\n",
       "      <td>909</td>\n",
       "      <td>1381</td>\n",
       "      <td>1200</td>\n",
       "    </tr>\n",
       "    <tr>\n",
       "      <th>High</th>\n",
       "      <td>516</td>\n",
       "      <td>1309</td>\n",
       "      <td>3058</td>\n",
       "    </tr>\n",
       "  </tbody>\n",
       "</table>\n",
       "</div>"
      ],
      "text/plain": [
       "equity_group            1     2     3\n",
       "popjobdensity_group                  \n",
       "Low                  1257   731   434\n",
       "Med                   909  1381  1200\n",
       "High                  516  1309  3058"
      ]
     },
     "metadata": {},
     "output_type": "display_data"
    },
    {
     "name": "stderr",
     "output_type": "stream",
     "text": [
      "/tmp/ipykernel_1561/483646027.py:26: MatplotlibDeprecationWarning: savefig() got unexpected keyword argument \"figsize\" which is no longer supported as of 3.3 and will become an error two minor releases later\n",
      "  plt.savefig(f'./img/{key}.png', figsize=(4, 4), dpi=300)\n"
     ]
    },
    {
     "name": "stdout",
     "output_type": "stream",
     "text": [
      "arrivals_per_1k_pj\n"
     ]
    },
    {
     "data": {
      "text/html": [
       "<div>\n",
       "<style scoped>\n",
       "    .dataframe tbody tr th:only-of-type {\n",
       "        vertical-align: middle;\n",
       "    }\n",
       "\n",
       "    .dataframe tbody tr th {\n",
       "        vertical-align: top;\n",
       "    }\n",
       "\n",
       "    .dataframe thead th {\n",
       "        text-align: right;\n",
       "    }\n",
       "</style>\n",
       "<table border=\"1\" class=\"dataframe\">\n",
       "  <thead>\n",
       "    <tr style=\"text-align: right;\">\n",
       "      <th>equity_group</th>\n",
       "      <th>1</th>\n",
       "      <th>2</th>\n",
       "      <th>3</th>\n",
       "    </tr>\n",
       "    <tr>\n",
       "      <th>popjobdensity_group</th>\n",
       "      <th></th>\n",
       "      <th></th>\n",
       "      <th></th>\n",
       "    </tr>\n",
       "  </thead>\n",
       "  <tbody>\n",
       "    <tr>\n",
       "      <th>Low</th>\n",
       "      <td>20.267398</td>\n",
       "      <td>19.654817</td>\n",
       "      <td>20.723781</td>\n",
       "    </tr>\n",
       "    <tr>\n",
       "      <th>Med</th>\n",
       "      <td>31.718332</td>\n",
       "      <td>42.021289</td>\n",
       "      <td>56.958989</td>\n",
       "    </tr>\n",
       "    <tr>\n",
       "      <th>High</th>\n",
       "      <td>79.259995</td>\n",
       "      <td>74.045781</td>\n",
       "      <td>100.052531</td>\n",
       "    </tr>\n",
       "  </tbody>\n",
       "</table>\n",
       "</div>"
      ],
      "text/plain": [
       "equity_group                 1          2           3\n",
       "popjobdensity_group                                  \n",
       "Low                  20.267398  19.654817   20.723781\n",
       "Med                  31.718332  42.021289   56.958989\n",
       "High                 79.259995  74.045781  100.052531"
      ]
     },
     "metadata": {},
     "output_type": "display_data"
    },
    {
     "name": "stderr",
     "output_type": "stream",
     "text": [
      "/tmp/ipykernel_1561/483646027.py:26: MatplotlibDeprecationWarning: savefig() got unexpected keyword argument \"figsize\" which is no longer supported as of 3.3 and will become an error two minor releases later\n",
      "  plt.savefig(f'./img/{key}.png', figsize=(4, 4), dpi=300)\n"
     ]
    },
    {
     "name": "stdout",
     "output_type": "stream",
     "text": [
      "stops_per_1k_pj\n"
     ]
    },
    {
     "data": {
      "text/html": [
       "<div>\n",
       "<style scoped>\n",
       "    .dataframe tbody tr th:only-of-type {\n",
       "        vertical-align: middle;\n",
       "    }\n",
       "\n",
       "    .dataframe tbody tr th {\n",
       "        vertical-align: top;\n",
       "    }\n",
       "\n",
       "    .dataframe thead th {\n",
       "        text-align: right;\n",
       "    }\n",
       "</style>\n",
       "<table border=\"1\" class=\"dataframe\">\n",
       "  <thead>\n",
       "    <tr style=\"text-align: right;\">\n",
       "      <th>equity_group</th>\n",
       "      <th>1</th>\n",
       "      <th>2</th>\n",
       "      <th>3</th>\n",
       "    </tr>\n",
       "    <tr>\n",
       "      <th>popjobdensity_group</th>\n",
       "      <th></th>\n",
       "      <th></th>\n",
       "      <th></th>\n",
       "    </tr>\n",
       "  </thead>\n",
       "  <tbody>\n",
       "    <tr>\n",
       "      <th>Low</th>\n",
       "      <td>1.103444</td>\n",
       "      <td>1.011442</td>\n",
       "      <td>0.987028</td>\n",
       "    </tr>\n",
       "    <tr>\n",
       "      <th>Med</th>\n",
       "      <td>1.304288</td>\n",
       "      <td>1.539419</td>\n",
       "      <td>1.885687</td>\n",
       "    </tr>\n",
       "    <tr>\n",
       "      <th>High</th>\n",
       "      <td>1.439034</td>\n",
       "      <td>1.504173</td>\n",
       "      <td>2.170228</td>\n",
       "    </tr>\n",
       "  </tbody>\n",
       "</table>\n",
       "</div>"
      ],
      "text/plain": [
       "equity_group                1         2         3\n",
       "popjobdensity_group                              \n",
       "Low                  1.103444  1.011442  0.987028\n",
       "Med                  1.304288  1.539419  1.885687\n",
       "High                 1.439034  1.504173  2.170228"
      ]
     },
     "metadata": {},
     "output_type": "display_data"
    },
    {
     "name": "stderr",
     "output_type": "stream",
     "text": [
      "/tmp/ipykernel_1561/483646027.py:26: MatplotlibDeprecationWarning: savefig() got unexpected keyword argument \"figsize\" which is no longer supported as of 3.3 and will become an error two minor releases later\n",
      "  plt.savefig(f'./img/{key}.png', figsize=(4, 4), dpi=300)\n"
     ]
    }
   ],
   "source": [
    "LOOP_DICT = {\n",
    "    \"Tract\": \"Tracts\",\n",
    "    \"stop_id\": \"Bus Stops\",\n",
    "    \"itp_id\": \"Operators\",\n",
    "    \"arrivals_per_1k_pj\": \"Arrivals per 1k\",\n",
    "    \"stops_per_1k_pj\": \"Stops per 1k\",\n",
    "} \n",
    "\n",
    "#plt.gcf().set_size_inches(1, 1)\n",
    "\n",
    "for key, value in LOOP_DICT.items():\n",
    "    subset_df = by_density_equity[by_density_equity.equity_group > 0]\n",
    "    pivot_df = pivot_get_counts(subset_df, index_col, group_col, key)\n",
    "    pivot_df = pivot_df.reindex(index=LEGEND_ORDER)\n",
    "    \n",
    "    print(key)\n",
    "    display(pivot_df)\n",
    "    #display(pivot_df.sort_index(axis=0, ascending=True))\n",
    "    #display(pivot_df.reindex(index=LEGEND_ORDER))\n",
    "    \n",
    "    chart = make_heatmap(pivot_df, cmap=\"Blues\", \n",
    "                 chart_title=(f\"{value} by CalEnviroScreen\" \"\\n and Density Levels\"),\n",
    "                 xtitle=\"CalEnviroScreen\", ytitle=\"Pop / Job Density\"   \n",
    "                 )\n",
    "\n",
    "    plt.savefig(f'./img/{key}.png', figsize=(4, 4), dpi=300)\n",
    "    plt.close()\n",
    "    \n"
   ]
  },
  {
   "cell_type": "markdown",
   "id": "59c505bf-52c3-4084-8454-2fcd9e65c5cb",
   "metadata": {},
   "source": [
    "## Scatterplot of pop density vs service density"
   ]
  },
  {
   "cell_type": "code",
   "execution_count": 14,
   "id": "cbe7d66b-415f-4e15-a921-74a7725d3056",
   "metadata": {},
   "outputs": [],
   "source": [
    "y_col = \"arrivals_per_1k_pj:Q\"\n",
    "group_col = \"equity_group:N\"\n",
    "tooltip=['Tract', 'ZIP', 'County', 'City', \n",
    "         'pop_sq_mi', 'jobs_sq_mi', 'popjobs_sq_mi',\n",
    "         'arrivals_per_1k_pj', 'equity_group']\n",
    "\n",
    "def make_scatterplot(df, x_col, y_col, group_col, tooltip_list, chart_title):\n",
    "    \n",
    "    # Interactive chart should be centered near where 95th percentile data is\n",
    "    # There are outliers...but let's not have it so zoomed out\n",
    "    \n",
    "    def colname_label(col):\n",
    "        colname = col.split(\":\")[0]\n",
    "        coltitle = colname.replace('_', ' ')\n",
    "        return colname, coltitle\n",
    "    \n",
    "    x_colname, x_title = colname_label(x_col)\n",
    "    y_colname, y_title = colname_label(y_col)\n",
    "    \n",
    "    MAX_X = df[x_colname].quantile(q=0.95)\n",
    "    MAX_Y = df[y_colname].quantile(q=0.95)\n",
    "    MEDIAN_X = df[x_colname].quantile(q=0.5)\n",
    "    MEDIAN_Y = df[y_colname].quantile(q=0.5)\n",
    "    \n",
    "    subset_df = (df[((df[x_colname] > 0) \n",
    "                     & (df[y_colname] > 0))]\n",
    "                 .assign(\n",
    "                     median_x = MEDIAN_X,\n",
    "                     median_y = MEDIAN_Y\n",
    "                 )\n",
    "                )\n",
    "    \n",
    "    chart = (\n",
    "        alt.Chart(subset_df)\n",
    "        .mark_point(size=30, fillOpacity=0.8)\n",
    "        .encode(\n",
    "            x=alt.X(x_col, \n",
    "                    scale=alt.Scale(domain=(0, MAX_X)), \n",
    "                    axis=alt.Axis(title=f\"{x_title}\")\n",
    "                   ),\n",
    "            y=alt.Y(y_col, \n",
    "                    scale=alt.Scale(domain=(0, MAX_Y)),\n",
    "                    axis=alt.Axis(title=f\"{y_title}\")\n",
    "                   ),\n",
    "            color=group_col,\n",
    "            tooltip=tooltip_list\n",
    "        )\n",
    "    )\n",
    "    \n",
    "    ptile_base = (\n",
    "        alt.Chart(subset_df)\n",
    "        .mark_line(strokeDash=[2,4], clip=True)\n",
    "    )\n",
    "    \n",
    "    \n",
    "    fifty_x = (ptile_base.encode(\n",
    "            x=alt.X(\"median_x:Q\"),\n",
    "            y=alt.Y(y_col),\n",
    "            color=alt.value(\"black\")\n",
    "        )\n",
    "    )\n",
    "    \n",
    "    fifty_y = (ptile_base.encode(\n",
    "            x=alt.X(x_col),\n",
    "            y=alt.Y(\"median_y:Q\"),\n",
    "            color=alt.value(\"black\")\n",
    "        )\n",
    "    )\n",
    "    \n",
    "    full_chart = chart + fifty_x + fifty_y\n",
    "    full_chart = (map_utils.preset_chart_config(full_chart)\n",
    "             .properties(title=f\"{chart_title}\")\n",
    "             .interactive()\n",
    "            )\n",
    "    \n",
    "   \n",
    "    return full_chart"
   ]
  },
  {
   "cell_type": "code",
   "execution_count": 15,
   "id": "53032c31-d797-45d9-85d6-4446a52ff014",
   "metadata": {},
   "outputs": [],
   "source": [
    "x_col = \"popjobs_sq_mi:Q\"\n",
    "\n",
    "# Scatterplot of pop & job density vs service density\n",
    "c = make_scatterplot(df[(df.equity_group > 0)], \n",
    "                     x_col, y_col, group_col, tooltip, \n",
    "                     chart_title=\"Pop / Job Density vs Service Density\")\n",
    "c.save(\"./img/scatter_popjobdensity_servicedensity.html\")"
   ]
  },
  {
   "cell_type": "code",
   "execution_count": 16,
   "id": "69b436a6-27ae-4fe3-a255-019c53de0c28",
   "metadata": {},
   "outputs": [],
   "source": [
    "x_col = \"popjobs_sq_mi:Q\"\n",
    "\n",
    "# Scatterplot of pop & job density vs service density\n",
    "c = make_scatterplot(df[(df.equity_group > 0)], \n",
    "                     x_col, y_col, group_col, tooltip, \n",
    "                     chart_title=\"Pop / Job Density vs Service Density\")\n",
    "#c.save(\"./img/scatter_popjobdensity_servicedensity.html\")"
   ]
  },
  {
   "cell_type": "code",
   "execution_count": 17,
   "id": "753d6f67-23c4-40d0-a68d-d2232ecfa3db",
   "metadata": {},
   "outputs": [],
   "source": [
    "x_col = \"pop_sq_mi:Q\"\n",
    "\n",
    "# Scatterplot of pop density vs service density\n",
    "c = make_scatterplot(df[(df.equity_group > 0)], \n",
    "                     x_col, y_col, group_col, tooltip, \n",
    "                     chart_title=\"Pop Density vs Service Density\")\n",
    "c.save(\"./img/scatter_popdensity_servicedensity.html\")"
   ]
  },
  {
   "cell_type": "code",
   "execution_count": 18,
   "id": "87164a43-0c71-455e-9f97-882da22b2795",
   "metadata": {},
   "outputs": [],
   "source": [
    "x_col = \"jobs_sq_mi:Q\"\n",
    "# Scatterplot of pop density vs service density\n",
    "c = make_scatterplot(df[(df.equity_group > 0)], \n",
    "                     x_col, y_col, group_col, tooltip, \n",
    "                     chart_title = \"Job Density vs Service Density\")\n",
    "c.save(\"./img/scatter_jobdensity_servicedensity.html\")"
   ]
  },
  {
   "cell_type": "code",
   "execution_count": null,
   "id": "a0aedce7-9774-4920-ac04-9b1977199b28",
   "metadata": {},
   "outputs": [],
   "source": []
  }
 ],
 "metadata": {
  "kernelspec": {
   "display_name": "Python 3 (ipykernel)",
   "language": "python",
   "name": "python3"
  },
  "language_info": {
   "codemirror_mode": {
    "name": "ipython",
    "version": 3
   },
   "file_extension": ".py",
   "mimetype": "text/x-python",
   "name": "python",
   "nbconvert_exporter": "python",
   "pygments_lexer": "ipython3",
   "version": "3.9.7"
  }
 },
 "nbformat": 4,
 "nbformat_minor": 5
}
