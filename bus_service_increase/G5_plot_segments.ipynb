{
 "cells": [
  {
   "cell_type": "markdown",
   "id": "b7100acd-128a-4083-9e40-a33dee118238",
   "metadata": {},
   "source": [
    "# Plot routes on SHN\n",
    "\n",
    "See what highway corridors show up.\n",
    "\n",
    "Can span multiple operators. These corridors, if improved, would benefit all operators."
   ]
  },
  {
   "cell_type": "code",
   "execution_count": null,
   "id": "4142b039-4dad-444c-aed2-3e43ee4a88c5",
   "metadata": {},
   "outputs": [],
   "source": [
    "import branca\n",
    "import geopandas as gpd\n",
    "import intake\n",
    "import pandas as pd\n",
    "\n",
    "import create_calenviroscreen_lehd_data\n",
    "from shared_utils import geography_utils \n",
    "from shared_utils import calitp_color_palette as cp\n",
    "\n",
    "catalog = intake.open_catalog(\"*.yml\")\n",
    "\n",
    "# Modify rt_utils.ZERO_THIRTY_COLORSCALE to go up to 65 mph\n",
    "ZERO_SIXTY_COLORSCALE = branca.colormap.step.RdYlGn_11.scale(vmin=0, vmax=65)\n",
    "ZERO_SIXTY_COLORSCALE.caption = \"Speed (miles per hour)\"\n",
    "\n",
    "# Map args\n",
    "TILES = \"CartoDB positron\"\n",
    "\n",
    "CUSTOM_CATEGORICAL = [\n",
    "    cp.CALITP_CATEGORY_BRIGHT_COLORS[2], # yellow\n",
    "    cp.CALITP_CATEGORY_BRIGHT_COLORS[1], # orange\n",
    "    cp.CALITP_CATEGORY_BRIGHT_COLORS[0], # blue\n",
    "    cp.CALITP_CATEGORY_BRIGHT_COLORS[5], # purple    \n",
    "]"
   ]
  },
  {
   "cell_type": "code",
   "execution_count": null,
   "id": "51d19063-62e0-47a8-a431-7e322b626d7c",
   "metadata": {},
   "outputs": [],
   "source": [
    "gdf = catalog.highway_segment_stats.read()\n",
    "\n",
    "gdf = gdf.assign(\n",
    "    geometry = gdf.geometry.to_crs(\n",
    "        geography_utils.CA_StatePlane).buffer(300).to_crs(geography_utils.WGS84)\n",
    ")"
   ]
  },
  {
   "cell_type": "code",
   "execution_count": null,
   "id": "1eda11c7-95a1-471d-814c-dc2f5e75a519",
   "metadata": {},
   "outputs": [],
   "source": [
    "stats_cols = [\n",
    "    \"trips_peak\", \"trips_all_day\", \n",
    "    \"stop_arrivals_peak\", \"stop_arrivals_all_day\",\n",
    "    \"stops_peak\", \"stops_all_day\",\n",
    "    \"mean_speed_mph_trip_weighted\",\n",
    "]\n",
    "\n",
    "def get_quartiles_by_district(gdf: gpd.GeoDataFrame, \n",
    "                              plot_col: list) -> gpd.GeoDataFrame:\n",
    "    \n",
    "    gdf_with_quartiles = gpd.GeoDataFrame()\n",
    "    \n",
    "    for i in sorted(gdf.District.unique()):\n",
    "        district = gdf[gdf.District==i]\n",
    "        \n",
    "        quartiles = create_calenviroscreen_lehd_data.define_equity_groups(\n",
    "            district, percentile_col = plot_col, num_groups = 4\n",
    "        )\n",
    "        \n",
    "        gdf_with_quartiles = pd.concat(\n",
    "            [gdf_with_quartiles, quartiles], \n",
    "            axis=0, ignore_index=True)\n",
    "    \n",
    "    return gdf_with_quartiles\n",
    "\n",
    "\n",
    "gdf = get_quartiles_by_district(gdf, stats_cols)"
   ]
  },
  {
   "cell_type": "code",
   "execution_count": null,
   "id": "920ad16f-1e95-40b6-b879-90524a21e832",
   "metadata": {},
   "outputs": [],
   "source": [
    "def plot_highway_corridor(gdf: gpd.GeoDataFrame, \n",
    "                          hwy_route: int, plot_col: str):\n",
    "    \"\"\"\n",
    "    Returns a folium.Map using geopandas.explore()\n",
    "    \"\"\"\n",
    "    plot_df = gdf[gdf.Route==hwy_route]\n",
    "        \n",
    "    if plot_col == \"mean_speed_mph_trip_weighted\": \n",
    "        m = plot_df.explore(\n",
    "            plot_col, \n",
    "            # switch out colormap to allow higher speeds\n",
    "            cmap = ZERO_SIXTY_COLORSCALE, \n",
    "            categorical=False, tiles = TILES)\n",
    "    else:        \n",
    "        m = plot_df.explore(\n",
    "            f\"{plot_col}_group\", \n",
    "            cmap = CUSTOM_CATEGORICAL, \n",
    "            # quartiles....must be between 1-4\n",
    "            vmin = 1, vmax = 4, \n",
    "            # set to True or else it's continuous, can't distinguish colors \n",
    "            categorical=True, tiles = TILES)\n",
    "    \n",
    "    display(m)"
   ]
  },
  {
   "cell_type": "markdown",
   "id": "b8d88a4e-8e37-4910-a621-62b9a6c53883",
   "metadata": {},
   "source": [
    "Highway 1 in District 4, near Golden Gate Park.\n",
    "PCH (1) in District 7.\n",
    "Both are technically part of SHN, but have much slower speeds, or are more like arterial segments. \n",
    "\n",
    "Change colormap to go above 30 mph because that was more applicable to urban speeds.\n",
    "\n",
    "Maybe different scales by `RouteType`, because Interstate/US vs State is different speeds. See how speed limit can be brought in."
   ]
  },
  {
   "cell_type": "code",
   "execution_count": null,
   "id": "0e5d9042-a93d-40ec-ac5e-e93cd14f6117",
   "metadata": {},
   "outputs": [],
   "source": [
    "for stat in stats_cols:\n",
    "    if 'peak' in stat or 'speed' in stat:\n",
    "        print(f\"{stat.replace('_', ' ').title()}\")\n",
    "        plot_highway_corridor(gdf[gdf.District.isin([7, 12])], \n",
    "                              hwy_route=1, plot_col=stat)"
   ]
  },
  {
   "cell_type": "markdown",
   "id": "dcefc146-d20b-49f1-8453-0057e842d33c",
   "metadata": {},
   "source": [
    "## District Maps\n",
    "\n",
    "Stick with either `trips_all_day` or `trips_peak` for now."
   ]
  },
  {
   "cell_type": "code",
   "execution_count": null,
   "id": "c29690dd-c4e1-46d4-be9f-8fd94d6849a6",
   "metadata": {},
   "outputs": [],
   "source": [
    "def get_district_top_highways(district: int = 7, n: int = 5) -> tuple[int, list]:\n",
    "    top_highways = gdf[(gdf.District==district)].Route.value_counts()[:n].index\n",
    "    \n",
    "    return district, top_highways"
   ]
  },
  {
   "cell_type": "code",
   "execution_count": null,
   "id": "456291ce-64ed-4b51-a8a3-7d7dde4af140",
   "metadata": {},
   "outputs": [],
   "source": [
    "def plot_for_district(district: int, n: int = 5, stat: list = [\"trips_all_day\"]): \n",
    "    district, hwys_list = get_district_top_highways(district=district, n=n)\n",
    "    \n",
    "    for i in range(0, len(hwys_list)):\n",
    "        hwy_route = hwys_list[i]\n",
    "        \n",
    "        for s in stat:\n",
    "            print(f\"{s.replace('_', ' ').title()} on Hwy {hwy_route}\")\n",
    "            \n",
    "            plot_highway_corridor(gdf[gdf.District == district], \n",
    "                                  hwy_route=hwy_route, plot_col=s)"
   ]
  },
  {
   "cell_type": "code",
   "execution_count": null,
   "id": "bec8bce7-a47c-430f-85ef-3c7ba5ced93f",
   "metadata": {},
   "outputs": [],
   "source": [
    "plot_for_district(district = 4, n = 5, \n",
    "                  stat=[\"trips_all_day\", \"mean_speed_mph_trip_weighted\"])"
   ]
  },
  {
   "cell_type": "code",
   "execution_count": null,
   "id": "fb273e82-4de0-42d4-9d5e-0b23f29e1839",
   "metadata": {},
   "outputs": [],
   "source": [
    "plot_for_district(district = 7, n = 5, stat=[\"trips_all_day\", \n",
    "                                            \"mean_speed_mph_trip_weighted\"])"
   ]
  }
 ],
 "metadata": {
  "kernelspec": {
   "display_name": "Python 3 (ipykernel)",
   "language": "python",
   "name": "python3"
  },
  "language_info": {
   "codemirror_mode": {
    "name": "ipython",
    "version": 3
   },
   "file_extension": ".py",
   "mimetype": "text/x-python",
   "name": "python",
   "nbconvert_exporter": "python",
   "pygments_lexer": "ipython3",
   "version": "3.10.5"
  }
 },
 "nbformat": 4,
 "nbformat_minor": 5
}
