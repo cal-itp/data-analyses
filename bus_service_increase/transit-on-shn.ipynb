{
 "cells": [
  {
   "cell_type": "code",
   "execution_count": null,
   "id": "a6363386-0005-4a6f-b33c-395be4873b98",
   "metadata": {},
   "outputs": [],
   "source": [
    "%%capture\n",
    "import warnings\n",
    "warnings.filterwarnings('ignore')\n",
    "\n",
    "import branca\n",
    "import calitp_data_analysis.magics\n",
    "import geopandas as gpd\n",
    "import intake\n",
    "import pandas as pd\n",
    "\n",
    "from IPython.display import Markdown, HTML\n",
    "from typing import Literal\n",
    "\n",
    "from shared_utils import geography_utils, portfolio_utils\n",
    "from bus_service_utils import better_bus_utils\n",
    "\n",
    "catalog = intake.open_catalog(\"../bus_service_increase/*.yml\")"
   ]
  },
  {
   "cell_type": "code",
   "execution_count": null,
   "id": "3ea353dd-775a-4072-ba19-16822da49aec",
   "metadata": {
    "tags": [
     "parameters"
    ]
   },
   "outputs": [],
   "source": [
    "# parameters cell\n",
    "district = \"03 - Marysville\""
   ]
  },
  {
   "cell_type": "code",
   "execution_count": null,
   "id": "f243c9ad-39a6-4e31-ae32-32f07a3ad8b6",
   "metadata": {},
   "outputs": [],
   "source": [
    "def get_data(district: int):\n",
    "    speed = 25\n",
    "    trips = 5\n",
    "\n",
    "    gdf = better_bus_utils.select_highway_corridors(\n",
    "        speed_dict = {\"mean_speed_mph_trip_weighted\": speed},\n",
    "        trip_dict = {\"trips_all_day_per_mi\": trips}\n",
    "    )\n",
    "    \n",
    "    district_df = gdf[gdf.caltrans_district == district].reset_index(drop=True)\n",
    "    \n",
    "    if len(district_df) == 0:\n",
    "        gdf = better_bus_utils.get_sorted_highway_corridors()\n",
    "        district_df = gdf[gdf.caltrans_district == district].reset_index(drop=True)\n",
    "   \n",
    "    return district_df\n",
    "\n",
    "\n",
    "gdf = get_data(district)"
   ]
  },
  {
   "cell_type": "code",
   "execution_count": null,
   "id": "a665ab0c-ece9-471d-b9d2-7a3995f0f9dc",
   "metadata": {},
   "outputs": [],
   "source": [
    "%%capture_parameters\n",
    "district_num = str(gdf.District.iloc[0])\n",
    "district = gdf.caltrans_district.iloc[0]\n",
    "district_num, district"
   ]
  },
  {
   "cell_type": "code",
   "execution_count": null,
   "id": "c38ba3d2-933c-48c1-9d82-e92e0f6d23b4",
   "metadata": {},
   "outputs": [],
   "source": [
    "keep_cols = ['Route', 'County', 'RouteType',\n",
    "             'trips_peak', 'trips_all_day', \n",
    "             'trips_all_day_per_mi', \n",
    "             'mean_speed_mph_trip_weighted', \n",
    "             'geometry', 'District', 'caltrans_district',\n",
    "]\n",
    "\n",
    "plot_df = gdf[keep_cols].reindex(columns = keep_cols)"
   ]
  },
  {
   "cell_type": "markdown",
   "id": "c6a14c1e-a17f-45cd-97fe-160a70295000",
   "metadata": {},
   "source": [
    "# Existing Transit on the SHN"
   ]
  },
  {
   "cell_type": "code",
   "execution_count": null,
   "id": "788484cd-4a2b-4e67-87d1-cdd0d8d7527a",
   "metadata": {},
   "outputs": [],
   "source": [
    "# Modify rt_utils.ZERO_THIRTY_COLORSCALE to go up to 65 mph\n",
    "ZERO_SIXTY_COLORSCALE = branca.colormap.step.RdYlGn_11.scale(vmin=0, vmax=65)\n",
    "ZERO_SIXTY_COLORSCALE.caption = \"Speed (miles per hour)\"\n",
    "\n",
    "# Map args\n",
    "TILES = \"CartoDB positron\"\n",
    "\n",
    "def plot_highway_corridor(\n",
    "    gdf: gpd.GeoDataFrame, \n",
    "    metric: Literal[\"avg_speed\", \"daily_trips\"]):\n",
    "    \"\"\"\n",
    "    Returns a folium.Map using geopandas.explore()\n",
    "    \"\"\"\n",
    "    \n",
    "    keep_cols = ['Route', 'County', 'RouteType',\n",
    "                 'trips_peak', 'trips_all_day', \n",
    "                 'trips_all_day_per_mi', \n",
    "                 'mean_speed_mph_trip_weighted', \n",
    "                 'geometry', 'District', 'caltrans_district',\n",
    "    ]\n",
    "    \n",
    "    plot_df = gdf[keep_cols].reindex(columns = keep_cols)\n",
    "    \n",
    "    if metric == \"avg_speed\":\n",
    "        if not plot_df.mean_speed_mph_trip_weighted.isnull().all():\n",
    "            m = plot_df[plot_df.mean_speed_mph_trip_weighted.notna()].explore(\n",
    "                \"mean_speed_mph_trip_weighted\", \n",
    "                # switch out colormap to allow higher speeds\n",
    "                cmap = ZERO_SIXTY_COLORSCALE, \n",
    "                categorical=False, tiles = TILES\n",
    "            )\n",
    "        else:\n",
    "            print(f\"No trip data available for transit on highways in District {district_num}.\")\n",
    "            m = None\n",
    "    elif metric == \"daily_trips\":\n",
    "        if not (plot_df.trips_all_day_per_mi == 0).all():\n",
    "         \n",
    "            m = plot_df.rename(\n",
    "                columns = {\"trips_all_day_per_mi\": \"Daily Trips per Mile\"}\n",
    "            ).explore(\n",
    "                \"Daily Trips per Mile\", \n",
    "                cmap = \"viridis_r\", #branca.colormap.linear.GnBu_09.scale(\n",
    "                categorical=False, tiles = TILES)\n",
    "        else:\n",
    "            print(f\"No transit trips on highways in District {district_num}.\")\n",
    "            m = None\n",
    "\n",
    "    return m"
   ]
  },
  {
   "cell_type": "markdown",
   "id": "8ca1d3db-f9b1-4c72-beff-3f1b7619f349",
   "metadata": {},
   "source": [
    "## Average Speed on Highways"
   ]
  },
  {
   "cell_type": "code",
   "execution_count": null,
   "id": "6faf644e-74b4-420a-9ea5-211a5103f2f5",
   "metadata": {},
   "outputs": [],
   "source": [
    "m = plot_highway_corridor(gdf, \"avg_speed\")\n",
    "m"
   ]
  },
  {
   "cell_type": "markdown",
   "id": "cd27c654-affb-4961-aced-b315fa129761",
   "metadata": {},
   "source": [
    "## Daily Trips on Highways"
   ]
  },
  {
   "cell_type": "code",
   "execution_count": null,
   "id": "5efc1a3f-ef80-4d91-9e72-12e7f46fffed",
   "metadata": {},
   "outputs": [],
   "source": [
    "m = plot_highway_corridor(gdf, \"daily_trips\")\n",
    "m"
   ]
  },
  {
   "cell_type": "markdown",
   "id": "c10949c6-f8de-41b1-ad04-3d203a3f1349",
   "metadata": {},
   "source": [
    "## Highway Aggregated Stats "
   ]
  },
  {
   "cell_type": "code",
   "execution_count": null,
   "id": "7eef4f7d-7d80-41a6-90fa-2da8aef7c92c",
   "metadata": {},
   "outputs": [],
   "source": [
    "def aggregate_to_highway_across_segments(gdf: gpd.GeoDataFrame):\n",
    "    group_cols = ['Route', 'County', 'RouteType']\n",
    "    \n",
    "    if not gdf.mean_speed_mph_trip_weighted.isnull().all():\n",
    "        by_highway = geography_utils.aggregate_by_geography(\n",
    "            gdf,\n",
    "            group_cols,\n",
    "            sum_cols = [\"trips_all_day_per_mi\", \"trips_peak_per_mi\", \n",
    "                        \"stop_arrivals_all_day_per_mi\"],\n",
    "            # is this correct? I'm taking the mean across a trip-weighted avg by segment\n",
    "            # but, segment is equally sized\n",
    "            mean_cols = [\"mean_speed_mph_trip_weighted\"]\n",
    "        )\n",
    "    else:\n",
    "        by_highway = geography_utils.aggregate_by_geography(\n",
    "            gdf,\n",
    "            group_cols,\n",
    "            sum_cols = [\"trips_all_day_per_mi\", \"trips_peak_per_mi\", \n",
    "                        \"stop_arrivals_all_day_per_mi\"],\n",
    "        )    \n",
    "    return by_highway"
   ]
  },
  {
   "cell_type": "code",
   "execution_count": null,
   "id": "829155b0-59d9-4c31-a02b-4da97c9c725e",
   "metadata": {},
   "outputs": [],
   "source": [
    "highway_avg = aggregate_to_highway_across_segments(gdf)\n",
    "\n",
    "# Drop if row has all zeroes or NA\n",
    "if 'mean_speed_mph_trip_weighted' in highway_avg.columns:\n",
    "    highway_avg = highway_avg[\n",
    "        (highway_avg.mean_speed_mph_trip_weighted.notna()) & \n",
    "        (highway_avg.trips_all_day_per_mi > 0)\n",
    "    ]\n",
    "else:\n",
    "    highway_avg = highway_avg[\n",
    "        highway_avg.trips_all_day_per_mi > 0\n",
    "    ]"
   ]
  },
  {
   "cell_type": "code",
   "execution_count": null,
   "id": "08c55e6b-9aa9-427a-bbc0-319557b86758",
   "metadata": {},
   "outputs": [],
   "source": [
    "if (('mean_speed_mph_trip_weighted' in highway_avg.columns) and \n",
    "       not (highway_avg.trips_all_day_per_mi==0).all()):\n",
    "    \n",
    "    rename_cols_dict = {\n",
    "        'stop_arrivals_all_day_per_mi': \"Daily Stop Arrivals per Mi\",\n",
    "        'trips_all_day_per_mi': 'Daily Trips per Mi', \n",
    "        'trips_peak_per_mi': 'Peak Trips per Mi',\n",
    "        'mean_speed_mph_trip_weighted': 'Avg Speed (mph), trip-weighted'\n",
    "\n",
    "    }\n",
    "\n",
    "    table = portfolio_utils.style_table(\n",
    "        highway_avg, \n",
    "        rename_cols = rename_cols_dict,\n",
    "        one_decimal_cols = ['Daily Stop Arrivals per Mi', \n",
    "                            'Daily Trips per Mi', 'Peak Trips per Mi'],\n",
    "        two_decimal_cols = ['Avg Speed (mph), trip-weighted'],\n",
    "        display_table = True\n",
    "    )\n",
    "    \n",
    "    \n",
    "elif (('mean_speed_mph_trip_weighted' not in highway_avg.columns) and not\n",
    "        (highway_avg.trips_all_day_per_mi==0).all()):\n",
    "    \n",
    "    rename_cols_dict = {\n",
    "        'stop_arrivals_all_day_per_mi': \"Daily Stop Arrivals per Mi\",\n",
    "        'trips_all_day_per_mi': 'Daily Trips per Mi', \n",
    "        'trips_peak_per_mi': 'Peak Trips per Mi',\n",
    "    }\n",
    "    \n",
    "    table = portfolio_utils.style_table(\n",
    "        highway_avg, \n",
    "        rename_cols = rename_cols_dict,\n",
    "        one_decimal_cols = ['Daily Stop Arrivals per Mi', \n",
    "                            'Daily Trips per Mi', 'Peak Trips per Mi'],\n",
    "        display_table = True\n",
    "    )\n",
    "\n",
    "else:\n",
    "    display(\n",
    "        Markdown(\n",
    "            f\"No trips or speed data available for District {district_num}.\")\n",
    "        )"
   ]
  },
  {
   "cell_type": "code",
   "execution_count": null,
   "id": "7da00ac8-9793-4f78-a7fc-4bad90d3c73f",
   "metadata": {},
   "outputs": [],
   "source": []
  },
  {
   "cell_type": "code",
   "execution_count": null,
   "id": "aad3b948-2fbd-45ee-a673-af99cc97841f",
   "metadata": {},
   "outputs": [],
   "source": []
  }
 ],
 "metadata": {
  "kernelspec": {
   "display_name": "Python 3 (ipykernel)",
   "language": "python",
   "name": "python3"
  },
  "language_info": {
   "codemirror_mode": {
    "name": "ipython",
    "version": 3
   },
   "file_extension": ".py",
   "mimetype": "text/x-python",
   "name": "python",
   "nbconvert_exporter": "python",
   "pygments_lexer": "ipython3",
   "version": "3.9.13"
  }
 },
 "nbformat": 4,
 "nbformat_minor": 5
}
