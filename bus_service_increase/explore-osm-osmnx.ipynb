{
 "cells": [
  {
   "cell_type": "markdown",
   "id": "47ece1f7-7e90-45a6-913c-d10fe052d1e1",
   "metadata": {},
   "source": [
    "# Try `osm`, `osmnx` packages\n",
    "\n",
    "## Check if Open Street Map has good CA coverage (`osm`)\n",
    "\n",
    "Would be nice to use `maxspeed` parameter.\n",
    "\n",
    "Let's see where the waypoints and nodes are?\n",
    "\n",
    "* https://pyrosm.readthedocs.io/en/latest/installation.html"
   ]
  },
  {
   "cell_type": "code",
   "execution_count": null,
   "id": "f5369b4b-c693-4711-b10b-ad0efa718a63",
   "metadata": {},
   "outputs": [],
   "source": [
    "#!pip install osmium pyrosm ogr"
   ]
  },
  {
   "cell_type": "code",
   "execution_count": null,
   "id": "652667be-4ee7-482a-a680-6d1e89233479",
   "metadata": {},
   "outputs": [],
   "source": [
    "from pyrosm.data import sources\n",
    "\n",
    "# Print available source categories\n",
    "sources.available.keys()"
   ]
  },
  {
   "cell_type": "code",
   "execution_count": null,
   "id": "7d641182-023a-4167-b425-22edc6e06676",
   "metadata": {},
   "outputs": [],
   "source": [
    "from pyrosm import get_data, OSM\n",
    "\n",
    "# Pyrosm comes with a couple of test datasets \n",
    "# that can be used straight away without\n",
    "# downloading anything\n",
    "fp = get_data(\"seattle\")\n",
    "\n",
    "# Initialize the OSM parser object\n",
    "osm = OSM(fp)\n",
    "\n",
    "# Read all drivable roads\n",
    "# =======================\n",
    "#drive_net = osm.get_network(network_type=\"driving\")\n",
    "#drive_net.plot()"
   ]
  },
  {
   "cell_type": "code",
   "execution_count": null,
   "id": "2a5918b7-920b-4199-b289-94555ba90c1a",
   "metadata": {},
   "outputs": [],
   "source": [
    "print(sources.subregions.usa.available)"
   ]
  },
  {
   "cell_type": "code",
   "execution_count": null,
   "id": "3aa9532e-7539-496e-8bef-955ecef249b8",
   "metadata": {},
   "outputs": [],
   "source": [
    "from pyrosm import OSM\n",
    "osm_path ='../california-latest.osm.pbf' # downloaded from geofabrik\n",
    "osm = OSM(osm_path)"
   ]
  },
  {
   "cell_type": "code",
   "execution_count": null,
   "id": "edda2f83-9bc1-4aa7-8b22-cb30186b4a18",
   "metadata": {},
   "outputs": [],
   "source": [
    "drive_net = osm.get_network(network_type=\"driving\")\n",
    "drive_net.plot()"
   ]
  },
  {
   "cell_type": "code",
   "execution_count": null,
   "id": "31206e48-aed0-457b-9ecd-486b41fe2803",
   "metadata": {},
   "outputs": [],
   "source": [
    "import osmium as osm\n",
    "import pandas as pd"
   ]
  },
  {
   "cell_type": "code",
   "execution_count": null,
   "id": "f21d2755-ff1d-424e-a107-ea00f6835801",
   "metadata": {},
   "outputs": [],
   "source": [
    "#https://stackoverflow.com/questions/45771809/how-to-extract-and-visualize-data-from-osm-file-in-python\n",
    "#http://andrewgaidus.com/Convert_OSM_Data/\n",
    "#https://github.com/agaidus/Converting_OSM_Data/blob/master/Convert_OSM_Data.ipynb\n",
    "class OSMHandler(osm.SimpleHandler):\n",
    "    def __init__(self):\n",
    "        osm.SimpleHandler.__init__(self)\n",
    "        self.osm_data = []\n",
    "\n",
    "    def tag_inventory(self, elem, elem_type):\n",
    "        for tag in elem.tags:\n",
    "            self.osm_data.append([elem_type, \n",
    "                                   elem.id, \n",
    "                                   elem.version,\n",
    "                                   elem.visible,\n",
    "                                   pd.Timestamp(elem.timestamp),\n",
    "                                   elem.uid,\n",
    "                                   elem.user,\n",
    "                                   elem.changeset,\n",
    "                                   len(elem.tags),\n",
    "                                   tag.k, \n",
    "                                   tag.v])\n",
    "\n",
    "    def node(self, n):\n",
    "        self.tag_inventory(n, \"node\")\n",
    "\n",
    "    def way(self, w):\n",
    "        self.tag_inventory(w, \"way\")\n",
    "\n",
    "    def relation(self, r):\n",
    "        self.tag_inventory(r, \"relation\")"
   ]
  },
  {
   "cell_type": "code",
   "execution_count": null,
   "id": "80ddff05-d0c0-4e34-9186-368d0a42c106",
   "metadata": {},
   "outputs": [],
   "source": [
    "osmhandler = OSMHandler()\n",
    "\n",
    "#FILE = \"../california-latest.osm.pbf\"\n",
    "#FILE = \"/tmp/pyrosm/socal-latest.osm.pbf\"\n",
    "FILE = \"/tmp/pyrosm/Seattle.osm.pbf\"\n",
    "\n",
    "# scan the input file and fills the handler list accordingly\n",
    "osmhandler.apply_file(FILE)"
   ]
  },
  {
   "cell_type": "code",
   "execution_count": null,
   "id": "f8cfd5a5-89a8-4be5-87f0-48b2062cf509",
   "metadata": {},
   "outputs": [],
   "source": [
    "#https://techoverflow.net/2021/04/25/minimal-example-how-to-read-osm-pbf-file-using-python-osmium/\n",
    "print(f'Number of nodes: {osmhandler.node_count}')\n",
    "print(f'Number of way: {osmhandler.way_count}')\n",
    "print(f'Number of relations: {osmhandler.relation_count}')"
   ]
  },
  {
   "cell_type": "code",
   "execution_count": null,
   "id": "b914943c-4fc7-4c96-aa47-bc03c11706a1",
   "metadata": {},
   "outputs": [],
   "source": [
    "class StreamHandler(osm.SimpleHandler):\n",
    "    def __init__(self):\n",
    "        osm.SimpleHandler.__init__(self)\n",
    "        self.edge_and_nodes = [] \n",
    "    def way(self, w): \n",
    "        yield {'edge_id': w.id, \n",
    "               'nodes': [w.nodes[i].ref for i in range(len(w.nodes))]}\n",
    "h = StreamHandler()\n",
    "h.apply_file(FILE)\n",
    "#for row in h.way(w): \n",
    "#    print(row) \n",
    "\n",
    "for i in h.way(w):\n",
    "    print(i)"
   ]
  },
  {
   "cell_type": "code",
   "execution_count": null,
   "id": "a6dd334a-d145-4cea-b750-51d87982bbd6",
   "metadata": {},
   "outputs": [],
   "source": [
    "# transform the list into a pandas DataFrame\n",
    "data_colnames = ['type', 'id', 'version', 'visible', 'ts', 'uid',\n",
    "                 'user', 'chgset', 'ntags', 'tagkey', 'tagvalue']\n",
    "df_osm = pd.DataFrame(osmhandler.osm_data, columns=data_colnames)\n",
    "#df_osm = tag_genome.sort_values(by=['type', 'id', 'ts'])"
   ]
  },
  {
   "cell_type": "code",
   "execution_count": null,
   "id": "67b9560a-82a0-4595-b55e-74296c93155c",
   "metadata": {},
   "outputs": [],
   "source": [
    "df_osm.head()"
   ]
  },
  {
   "cell_type": "code",
   "execution_count": null,
   "id": "28a8bcff-c4f2-4904-ac06-e805890b9cf8",
   "metadata": {},
   "outputs": [],
   "source": [
    "# In terminal:\n",
    "# wget -c http://download.geofabrik.de/north-america/us/california-latest.osm.pbf\n",
    "\n",
    "# Tutorial: https://www.linuxbabe.com/linux-server/openstreetmap-tile-server-ubuntu-16-04\n",
    "# https://stackoverflow.com/questions/45771809/how-to-extract-and-visualize-data-from-osm-file-in-python"
   ]
  },
  {
   "cell_type": "markdown",
   "id": "27cf942c-3eb9-4f44-9963-1818f4439d6a",
   "metadata": {},
   "source": [
    "## `osmnx`\n",
    "\n",
    "Issue here is that bus stops get attached to the same nearest node, even every 5th bus stop. "
   ]
  },
  {
   "cell_type": "code",
   "execution_count": null,
   "id": "610a5ea7-8747-4670-97f6-4b4b69675479",
   "metadata": {},
   "outputs": [],
   "source": [
    "import networkx as nx\n",
    "import osmnx as ox\n",
    "import pandas as pd"
   ]
  },
  {
   "cell_type": "code",
   "execution_count": null,
   "id": "c1fea512-d4c2-424a-8e0a-e4cd7ccbfda3",
   "metadata": {},
   "outputs": [],
   "source": [
    "G = ox.graph_from_place(\"Piedmont, California, USA\", network_type=\"drive\")\n",
    "fig, ax = ox.plot_graph(G)"
   ]
  },
  {
   "cell_type": "code",
   "execution_count": null,
   "id": "39bb9eea-53a2-4e48-a805-848da2e93063",
   "metadata": {},
   "outputs": [],
   "source": [
    "def nearest_node(row):\n",
    "    node = ox.get_nearest_node(G, (row.geometry.y, row.geometry.x))\n",
    "    return node"
   ]
  },
  {
   "cell_type": "code",
   "execution_count": null,
   "id": "d2f8feee-7b4b-4c4a-98aa-cfd34d166996",
   "metadata": {},
   "outputs": [],
   "source": [
    "df[\"node\"] = df.apply(lambda x: nearest_node(x), axis=1) "
   ]
  },
  {
   "cell_type": "code",
   "execution_count": null,
   "id": "289863ab-7f6b-4056-a65e-0052e9d2687e",
   "metadata": {},
   "outputs": [],
   "source": [
    "gdf_nodes, gdf_edges = ox.graph_to_gdfs(G)\n",
    "gdf_nodes.head()"
   ]
  },
  {
   "cell_type": "code",
   "execution_count": null,
   "id": "952e8182-a33f-4d09-a22d-abfc63949a4e",
   "metadata": {},
   "outputs": [],
   "source": [
    "# get the nearest network node to each point\n",
    "orig_node = ox.get_nearest_node(G, (37.828903, -122.245846))\n",
    "dest_node = ox.get_nearest_node(G, (37.812303, -122.215006))\n",
    "\n",
    "# how long is our route in meters?\n",
    "#nx.shortest_path_length(G, orig_node, dest_node, weight='length')"
   ]
  },
  {
   "cell_type": "code",
   "execution_count": null,
   "id": "d201fe25-2a48-4b55-ab9f-dd39b5099bd6",
   "metadata": {},
   "outputs": [],
   "source": [
    "G = ox.add_edge_speeds(G)\n",
    "G = ox.add_edge_travel_times(G)\n",
    "#(G, orig, dest, weight=\"travel_time\")\n"
   ]
  },
  {
   "cell_type": "code",
   "execution_count": null,
   "id": "6ed5389a-8e90-4271-a5fc-28419f3c674b",
   "metadata": {},
   "outputs": [],
   "source": [
    "#https://github.com/gboeing/osmnx-examples/blob/main/notebooks/02-routing-speed-time.ipynb\n",
    "hwy_speeds = {\n",
    "    \"residential\": 35, #21 mph\n",
    "    \"secondary\": 50, #31 mph\n",
    "    \"tertiary\": 60, #37 mph\n",
    "}\n",
    "# What should speeds be set to for buses?\n",
    "# For now, hard-code, but probably can get some max speeds from Eric's RT\n",
    "# to ground-truth actual max speeds for buses\n",
    "G = ox.add_edge_speeds(G, hwy_speeds)\n",
    "G = ox.add_edge_travel_times(G)"
   ]
  },
  {
   "cell_type": "code",
   "execution_count": null,
   "id": "71a771ab-346d-4f5e-b6b6-d711de9bde06",
   "metadata": {},
   "outputs": [],
   "source": [
    "edges = ox.graph_to_gdfs(G, nodes=False)\n",
    "edges[\"highway\"] = edges[\"highway\"].astype(str)\n",
    "edges.groupby(\"highway\")[[\"length\", \"speed_kph\", \"travel_time\"]].mean().round(1)"
   ]
  }
 ],
 "metadata": {
  "kernelspec": {
   "display_name": "Python 3 (ipykernel)",
   "language": "python",
   "name": "python3"
  },
  "language_info": {
   "codemirror_mode": {
    "name": "ipython",
    "version": 3
   },
   "file_extension": ".py",
   "mimetype": "text/x-python",
   "name": "python",
   "nbconvert_exporter": "python",
   "pygments_lexer": "ipython3",
   "version": "3.9.10"
  }
 },
 "nbformat": 4,
 "nbformat_minor": 5
}
