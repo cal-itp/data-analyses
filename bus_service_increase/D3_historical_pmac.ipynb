{
 "cells": [
  {
   "cell_type": "markdown",
   "id": "0801efda-e075-4826-a167-a8e54a8167fb",
   "metadata": {},
   "source": [
    "# PMAC: Historical Comparisons"
   ]
  },
  {
   "cell_type": "code",
   "execution_count": 1,
   "id": "34d1396e-e0c7-4804-8647-4aae76cc300c",
   "metadata": {},
   "outputs": [
    {
     "name": "stderr",
     "output_type": "stream",
     "text": [
      "/opt/conda/lib/python3.10/site-packages/geopandas/_compat.py:111: UserWarning: The Shapely GEOS version (3.10.2-CAPI-1.16.0) is incompatible with the GEOS version PyGEOS was compiled with (3.10.1-CAPI-1.16.0). Conversions between both will be slow.\n",
      "  warnings.warn(\n"
     ]
    }
   ],
   "source": [
    "import pandas as pd\n",
    "\n",
    "from IPython.display import HTML\n",
    "\n",
    "import pmac_utils\n",
    "from shared_utils import rt_dates"
   ]
  },
  {
   "cell_type": "code",
   "execution_count": 2,
   "id": "6a32d35f-ccda-4d6c-91d7-9ac4f00cd1b0",
   "metadata": {},
   "outputs": [],
   "source": [
    "dfs = {}\n",
    "for key, date in rt_dates.PMAC.items():\n",
    "    df = pmac_utils.flag_parallel_intersecting_routes(date)\n",
    "    \n",
    "    # In D2_pmac, only keep subset where _merge==\"both\"\n",
    "    # If it's not able to merge correctly at itp_id-route_id level, let's drop those\n",
    "    plot_df = df[df._merge==\"both\"]\n",
    "    summary = pmac_utils.get_summary_table(plot_df) \n",
    "    dfs[key] = summary"
   ]
  },
  {
   "cell_type": "code",
   "execution_count": 4,
   "id": "2a4f3bb4-d1aa-4f72-acf0-a14dd233d6da",
   "metadata": {},
   "outputs": [
    {
     "name": "stdout",
     "output_type": "stream",
     "text": [
      "Q1_2022: 91329\n",
      "Q2_2022: 109391\n"
     ]
    }
   ],
   "source": [
    "for date, dataset in dfs.items():\n",
    "    print(f\"{date}: {dataset.total_service_hours.sum()}\")"
   ]
  },
  {
   "cell_type": "code",
   "execution_count": 5,
   "id": "a9be1e56-3364-4476-8e99-0a88e20f11ec",
   "metadata": {},
   "outputs": [],
   "source": [
    "def change_from_prior(current: pd.DataFrame, prior: pd.DataFrame, \n",
    "                      col: str) -> pd.DataFrame:\n",
    "    keep_cols = [\"category\", col]\n",
    "    \n",
    "    current2 = current[keep_cols].rename(columns={col: \"current\"})\n",
    "    prior2 = prior[keep_cols].rename(columns={col: \"prior\"})\n",
    "                  \n",
    "    df = pd.merge(current2, prior2, on = \"category\", how = \"inner\")\n",
    "    \n",
    "    df = df.assign(\n",
    "        change = df.current - df.prior,\n",
    "        pct_change = (df.current - df.prior).divide(df.prior)\n",
    "    )\n",
    "        \n",
    "    df_style = (pmac_utils.sort_by_column(df)\n",
    "           .style.format(\n",
    "               subset=['current', 'prior', 'change'], \n",
    "               **{'formatter': '{:,}'})\n",
    "                .format(\n",
    "                    subset=['pct_change'],\n",
    "                    **{'formatter': '{:,.3f}'}\n",
    "                )\n",
    "                .set_properties(\n",
    "                    subset=['current', 'prior', 'change', 'pct_change'], \n",
    "                    **{'text-align': 'center'})\n",
    "                .set_properties(\n",
    "                    subset='category',\n",
    "                    **{'text-align': 'left'}\n",
    "                )\n",
    "                .set_table_styles([dict(selector='th', \n",
    "                                        props=[('text-align', 'center')])\n",
    "                                        ])\n",
    "           .hide(axis=\"index\")\n",
    "           .to_html()\n",
    "          )\n",
    "    \n",
    "    display(HTML(df_style))"
   ]
  },
  {
   "cell_type": "code",
   "execution_count": 6,
   "id": "bab7f691-fec3-4c5e-9042-e9ff6d8246a6",
   "metadata": {},
   "outputs": [
    {
     "data": {
      "text/html": [
       "<style type=\"text/css\">\n",
       "#T_1c395 th {\n",
       "  text-align: center;\n",
       "}\n",
       "#T_1c395_row0_col0, #T_1c395_row1_col0, #T_1c395_row2_col0 {\n",
       "  text-align: left;\n",
       "}\n",
       "#T_1c395_row0_col1, #T_1c395_row0_col2, #T_1c395_row0_col3, #T_1c395_row0_col4, #T_1c395_row1_col1, #T_1c395_row1_col2, #T_1c395_row1_col3, #T_1c395_row1_col4, #T_1c395_row2_col1, #T_1c395_row2_col2, #T_1c395_row2_col3, #T_1c395_row2_col4 {\n",
       "  text-align: center;\n",
       "}\n",
       "</style>\n",
       "<table id=\"T_1c395\">\n",
       "  <thead>\n",
       "    <tr>\n",
       "      <th id=\"T_1c395_level0_col0\" class=\"col_heading level0 col0\" >category</th>\n",
       "      <th id=\"T_1c395_level0_col1\" class=\"col_heading level0 col1\" >current</th>\n",
       "      <th id=\"T_1c395_level0_col2\" class=\"col_heading level0 col2\" >prior</th>\n",
       "      <th id=\"T_1c395_level0_col3\" class=\"col_heading level0 col3\" >change</th>\n",
       "      <th id=\"T_1c395_level0_col4\" class=\"col_heading level0 col4\" >pct_change</th>\n",
       "    </tr>\n",
       "  </thead>\n",
       "  <tbody>\n",
       "    <tr>\n",
       "      <td id=\"T_1c395_row0_col0\" class=\"data row0 col0\" >parallel</td>\n",
       "      <td id=\"T_1c395_row0_col1\" class=\"data row0 col1\" >59,465</td>\n",
       "      <td id=\"T_1c395_row0_col2\" class=\"data row0 col2\" >45,860</td>\n",
       "      <td id=\"T_1c395_row0_col3\" class=\"data row0 col3\" >13,605</td>\n",
       "      <td id=\"T_1c395_row0_col4\" class=\"data row0 col4\" >0.297</td>\n",
       "    </tr>\n",
       "    <tr>\n",
       "      <td id=\"T_1c395_row1_col0\" class=\"data row1 col0\" >on_shn</td>\n",
       "      <td id=\"T_1c395_row1_col1\" class=\"data row1 col1\" >19,527</td>\n",
       "      <td id=\"T_1c395_row1_col2\" class=\"data row1 col2\" >13,644</td>\n",
       "      <td id=\"T_1c395_row1_col3\" class=\"data row1 col3\" >5,883</td>\n",
       "      <td id=\"T_1c395_row1_col4\" class=\"data row1 col4\" >0.431</td>\n",
       "    </tr>\n",
       "    <tr>\n",
       "      <td id=\"T_1c395_row2_col0\" class=\"data row2 col0\" >other</td>\n",
       "      <td id=\"T_1c395_row2_col1\" class=\"data row2 col1\" >30,399</td>\n",
       "      <td id=\"T_1c395_row2_col2\" class=\"data row2 col2\" >31,825</td>\n",
       "      <td id=\"T_1c395_row2_col3\" class=\"data row2 col3\" >-1,426</td>\n",
       "      <td id=\"T_1c395_row2_col4\" class=\"data row2 col4\" >-0.045</td>\n",
       "    </tr>\n",
       "  </tbody>\n",
       "</table>\n"
      ],
      "text/plain": [
       "<IPython.core.display.HTML object>"
      ]
     },
     "metadata": {},
     "output_type": "display_data"
    }
   ],
   "source": [
    "change_from_prior(dfs[\"Q2_2022\"], dfs[\"Q1_2022\"], \"total_service_hours\")"
   ]
  },
  {
   "cell_type": "code",
   "execution_count": null,
   "id": "24373ead-01da-4f97-afc1-77a780a16109",
   "metadata": {},
   "outputs": [],
   "source": []
  }
 ],
 "metadata": {
  "kernelspec": {
   "display_name": "Python 3 (ipykernel)",
   "language": "python",
   "name": "python3"
  },
  "language_info": {
   "codemirror_mode": {
    "name": "ipython",
    "version": 3
   },
   "file_extension": ".py",
   "mimetype": "text/x-python",
   "name": "python",
   "nbconvert_exporter": "python",
   "pygments_lexer": "ipython3",
   "version": "3.10.4"
  }
 },
 "nbformat": 4,
 "nbformat_minor": 5
}
