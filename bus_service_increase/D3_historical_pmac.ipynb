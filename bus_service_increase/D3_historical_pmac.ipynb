{
 "cells": [
  {
   "cell_type": "markdown",
   "id": "0801efda-e075-4826-a167-a8e54a8167fb",
   "metadata": {},
   "source": [
    "# PMAC: Historical Comparisons"
   ]
  },
  {
   "cell_type": "code",
   "execution_count": 1,
   "id": "34d1396e-e0c7-4804-8647-4aae76cc300c",
   "metadata": {},
   "outputs": [
    {
     "name": "stderr",
     "output_type": "stream",
     "text": [
      "/opt/conda/lib/python3.10/site-packages/geopandas/_compat.py:111: UserWarning: The Shapely GEOS version (3.10.2-CAPI-1.16.0) is incompatible with the GEOS version PyGEOS was compiled with (3.10.1-CAPI-1.16.0). Conversions between both will be slow.\n",
      "  warnings.warn(\n"
     ]
    }
   ],
   "source": [
    "import pandas as pd\n",
    "\n",
    "import pmac_utils\n",
    "from shared_utils import rt_dates"
   ]
  },
  {
   "cell_type": "code",
   "execution_count": 2,
   "id": "6a32d35f-ccda-4d6c-91d7-9ac4f00cd1b0",
   "metadata": {},
   "outputs": [],
   "source": [
    "dfs = {}\n",
    "for key, date in rt_dates.PMAC.items():\n",
    "    df = pmac_utils.flag_parallel_intersecting_routes(date)\n",
    "    summary = pmac_utils.get_summary_table(df) # df[df._merge==\"both\"]?\n",
    "    dfs[key] = summary"
   ]
  },
  {
   "cell_type": "code",
   "execution_count": 3,
   "id": "7b6cb4d4-8633-4303-9606-02f9b57e6666",
   "metadata": {},
   "outputs": [
    {
     "data": {
      "text/plain": [
       "dict_keys(['Q1_2022', 'Q2_2022'])"
      ]
     },
     "execution_count": 3,
     "metadata": {},
     "output_type": "execute_result"
    }
   ],
   "source": [
    "dfs.keys()"
   ]
  },
  {
   "cell_type": "code",
   "execution_count": 4,
   "id": "2a4f3bb4-d1aa-4f72-acf0-a14dd233d6da",
   "metadata": {},
   "outputs": [
    {
     "data": {
      "text/plain": [
       "106445"
      ]
     },
     "execution_count": 4,
     "metadata": {},
     "output_type": "execute_result"
    }
   ],
   "source": [
    "dfs[\"Q1_2022\"].total_service_hours.sum()"
   ]
  },
  {
   "cell_type": "code",
   "execution_count": 5,
   "id": "d3b5d99a-4392-4d59-b083-2eac26f7dc2e",
   "metadata": {},
   "outputs": [
    {
     "data": {
      "text/plain": [
       "109560"
      ]
     },
     "execution_count": 5,
     "metadata": {},
     "output_type": "execute_result"
    }
   ],
   "source": [
    "dfs[\"Q2_2022\"].total_service_hours.sum()"
   ]
  },
  {
   "cell_type": "code",
   "execution_count": 6,
   "id": "a9be1e56-3364-4476-8e99-0a88e20f11ec",
   "metadata": {},
   "outputs": [],
   "source": [
    "def change_from_prior(current: pd.DataFrame, prior: pd.DataFrame, \n",
    "                      col: str) -> pd.DataFrame:\n",
    "    keep_cols = [\"category\", col]\n",
    "    \n",
    "    current2 = current[keep_cols].rename(columns={col: \"current\"})\n",
    "    prior2 = prior[keep_cols].rename(columns={col: \"prior\"})\n",
    "                  \n",
    "    df = pd.merge(current2, prior2, on = \"category\", how = \"inner\")\n",
    "    \n",
    "    df = df.assign(\n",
    "        change = df.current - df.prior,\n",
    "        pct_change = (df.current - df.prior).divide(df.prior)\n",
    "    )\n",
    "    \n",
    "    return df"
   ]
  },
  {
   "cell_type": "code",
   "execution_count": 7,
   "id": "bab7f691-fec3-4c5e-9042-e9ff6d8246a6",
   "metadata": {},
   "outputs": [
    {
     "data": {
      "text/html": [
       "<div>\n",
       "<style scoped>\n",
       "    .dataframe tbody tr th:only-of-type {\n",
       "        vertical-align: middle;\n",
       "    }\n",
       "\n",
       "    .dataframe tbody tr th {\n",
       "        vertical-align: top;\n",
       "    }\n",
       "\n",
       "    .dataframe thead th {\n",
       "        text-align: right;\n",
       "    }\n",
       "</style>\n",
       "<table border=\"1\" class=\"dataframe\">\n",
       "  <thead>\n",
       "    <tr style=\"text-align: right;\">\n",
       "      <th></th>\n",
       "      <th>category</th>\n",
       "      <th>current</th>\n",
       "      <th>prior</th>\n",
       "      <th>change</th>\n",
       "      <th>pct_change</th>\n",
       "    </tr>\n",
       "  </thead>\n",
       "  <tbody>\n",
       "    <tr>\n",
       "      <th>0</th>\n",
       "      <td>parallel</td>\n",
       "      <td>59587</td>\n",
       "      <td>45860</td>\n",
       "      <td>13727</td>\n",
       "      <td>0.299324</td>\n",
       "    </tr>\n",
       "    <tr>\n",
       "      <th>1</th>\n",
       "      <td>other</td>\n",
       "      <td>30414</td>\n",
       "      <td>40757</td>\n",
       "      <td>-10343</td>\n",
       "      <td>-0.253772</td>\n",
       "    </tr>\n",
       "    <tr>\n",
       "      <th>2</th>\n",
       "      <td>on_shn</td>\n",
       "      <td>19559</td>\n",
       "      <td>19828</td>\n",
       "      <td>-269</td>\n",
       "      <td>-0.013567</td>\n",
       "    </tr>\n",
       "  </tbody>\n",
       "</table>\n",
       "</div>"
      ],
      "text/plain": [
       "   category  current  prior  change  pct_change\n",
       "0  parallel    59587  45860   13727    0.299324\n",
       "1     other    30414  40757  -10343   -0.253772\n",
       "2    on_shn    19559  19828    -269   -0.013567"
      ]
     },
     "execution_count": 7,
     "metadata": {},
     "output_type": "execute_result"
    }
   ],
   "source": [
    "change_from_prior(dfs[\"Q2_2022\"], dfs[\"Q1_2022\"], \"total_service_hours\")"
   ]
  },
  {
   "cell_type": "code",
   "execution_count": null,
   "id": "24373ead-01da-4f97-afc1-77a780a16109",
   "metadata": {},
   "outputs": [],
   "source": []
  }
 ],
 "metadata": {
  "kernelspec": {
   "display_name": "Python 3 (ipykernel)",
   "language": "python",
   "name": "python3"
  },
  "language_info": {
   "codemirror_mode": {
    "name": "ipython",
    "version": 3
   },
   "file_extension": ".py",
   "mimetype": "text/x-python",
   "name": "python",
   "nbconvert_exporter": "python",
   "pygments_lexer": "ipython3",
   "version": "3.10.4"
  }
 },
 "nbformat": 4,
 "nbformat_minor": 5
}
