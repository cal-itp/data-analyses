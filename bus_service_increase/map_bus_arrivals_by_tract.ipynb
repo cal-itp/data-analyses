{
 "cells": [
  {
   "cell_type": "markdown",
   "id": "4efab213-bb97-45bf-9c82-35c0a8ce2ad9",
   "metadata": {},
   "source": [
    "# Census tract map of number of daily bus arrivals by CalEnviroScreen level\n",
    "\n",
    "* 3 maps, one for each CalEnviroScreen level of low/medium/high\n",
    "* Each map plots number of bus arrivals per 1k (colored as low/medium/high)\n",
    "* One specific map for CalEnviroScreen high-need to show where there is zero service"
   ]
  },
  {
   "cell_type": "code",
   "execution_count": null,
   "id": "6dc55f14-202f-4668-a5a3-04a8913cd105",
   "metadata": {},
   "outputs": [],
   "source": [
    "import branca\n",
    "import geopandas as gpd\n",
    "import matplotlib\n",
    "import matplotlib.pyplot as plt\n",
    "import pandas as pd\n",
    "\n",
    "import prep_data\n",
    "import map_utils\n",
    "\n",
    "from IPython.display import Markdown\n",
    "\n",
    "pd.set_option(\"display.max_rows\", 20)"
   ]
  },
  {
   "cell_type": "code",
   "execution_count": null,
   "id": "d0439354-aa27-4b15-9097-d0c375e3c5ce",
   "metadata": {},
   "outputs": [],
   "source": [
    "df = prep_data.generate_stop_times_tract_data()\n",
    "\n",
    "# Address small \"numbers issue\n",
    "df = df[df.Population > 10].reset_index(drop=True)"
   ]
  },
  {
   "cell_type": "code",
   "execution_count": null,
   "id": "778117dc-8aac-40e1-ab3b-9694907527b2",
   "metadata": {},
   "outputs": [],
   "source": [
    "sample_tracts = [\"06001400100\", \"06001400600\", \"06001400700\", \"06001404501\"]\n",
    "#to_plot = df[df.Tract.isin(sample_tracts)]"
   ]
  },
  {
   "cell_type": "code",
   "execution_count": null,
   "id": "aa206958-ab52-46cb-8e05-3fbd4293b2ef",
   "metadata": {},
   "outputs": [],
   "source": [
    "# If equity_group==1, corresponds to lower CalEnviroScreen scores\n",
    "# If equity_group==3, corresponds to higher CalEnviroScreen scores (worse off) -- focus on these\n",
    "\n",
    "# Focus on high density areas, then map out low/med/high service\n",
    "# For calenviroscreen worst ones, low/med/high service"
   ]
  },
  {
   "cell_type": "code",
   "execution_count": null,
   "id": "e8b76989-f964-4f91-a70f-d28c264d9de4",
   "metadata": {},
   "outputs": [],
   "source": [
    "popup_dict = {\n",
    "    \"Tract\": \"Census Tract\",\n",
    "    \"ZIP\": \"Zip Code\",\n",
    "    \"County\": \"County\",\n",
    "    \"City\": \"City\",\n",
    "    \"equity_group\": \"CalEnviroScreen Group (3 is worst)\", \n",
    "    \"avg_density_score\": \"Job/Population Density Group (3 is densest)\",\n",
    "    \"num_arrivals\": \"# Daily Bus Arrivals\",\n",
    "    \"stop_id\": \"# Bus Stops\",\n",
    "    \"itp_id\": \"# Operators\",\n",
    "    \"arrivals_sq_mi\": \"Arrivals per Sq Mi\",\n",
    "    \"arrivals_per_1k\": \"Arrivals per 1k\",\n",
    "    \"arrivals_group\": \"Arrivals Group (3 is highest)\",\n",
    "}\n",
    "\n",
    "def grab_legend_thresholds(plot_col):\n",
    "    cut1 = df[(df.arrivals_group==1) & (df[plot_col] > 0)][plot_col].min()\n",
    "    cut2 = df[df.arrivals_group==2][plot_col].min()\n",
    "    cut3 = df[df.arrivals_group==3][plot_col].min()\n",
    "\n",
    "    MIN_VALUE = df[plot_col].min()\n",
    "    MAX_VALUE = df[plot_col].max()\n",
    "    \n",
    "    colormap_cutoff = [cut1, cut2, cut3]\n",
    "    \n",
    "    return colormap_cutoff, MIN_VALUE, MAX_VALUE\n",
    "    \n",
    "\n",
    "cmap = plt.cm.get_cmap('viridis', 4)  \n",
    "\n",
    "COLOR_LIST = []\n",
    "for i in range(cmap.N):\n",
    "    rgba = cmap(i)\n",
    "    # rgb2hex accepts rgb or rgba\n",
    "    hex_value = matplotlib.colors.rgb2hex(rgba)\n",
    "    COLOR_LIST.append(hex_value)\n",
    "\n",
    "COLOR_LIST.reverse()\n",
    "\n",
    "# Maybe set the colors more explicitly\n",
    "# Colors\n",
    "gray = \"#8D9191\" \n",
    "light_green = \"#6EB98F\"\n",
    "light_blue = \"#1282A2\"\n",
    "navy = \"#0A4C6A\"\n",
    "\n",
    "#colorscale = branca.colormap.linear.Blues_09"
   ]
  },
  {
   "cell_type": "code",
   "execution_count": null,
   "id": "4e68f981-de4b-4454-84eb-90ccd92f312d",
   "metadata": {},
   "outputs": [],
   "source": [
    "LOOP_GROUPS = {\n",
    "    1: \"Low\", \n",
    "    2: \"Medium\",\n",
    "    3: \"High\",\n",
    "}\n",
    "\n",
    "plot_col = \"arrivals_per_1k\"\n",
    "# For indexing cut-off, we need 1 less than the number of groups\n",
    "# It goes from [vmin, cut1], [cut1, cut2], [cut2, cut3]\n",
    "# Not sure where the open parantheses are [) or (]?\n",
    "colormap_cutoff, MIN_VALUE, MAX_VALUE = grab_legend_thresholds(plot_col)\n",
    "print(colormap_cutoff)\n",
    "\n",
    "colorscale = branca.colormap.LinearColormap(\n",
    "                #colors=COLOR_LIST,\n",
    "                colors=[gray, light_green, light_blue, navy], \n",
    "                index=colormap_cutoff,\n",
    "                vmin=MIN_VALUE, vmax=MAX_VALUE,\n",
    ")\n",
    "\n",
    "for i, group_name in LOOP_GROUPS.items():\n",
    "    to_plot = df[df.equity_group==i]\n",
    "    # May need to adjust colorscale, how it shows up on map...\n",
    "    display(colorscale)\n",
    "    fig = map_utils.make_choropleth_map(to_plot, \n",
    "                                    plot_col = plot_col, \n",
    "                                    popup_dict = popup_dict, \n",
    "                                    tooltip_dict = popup_dict, \n",
    "                                    colorscale = colorscale, \n",
    "                                    fig_width = 500, fig_height = 600, \n",
    "                                    zoom=6, centroid = [35.8, -119.4],\n",
    "                                    title=f\"Bus Service Levels for {group_name} CalEnviroScreen Tracts\",\n",
    "                                    #zoom=12, centroid = [37.84, -122.27]\n",
    "                                   )\n",
    "    fig.save(f\"./img/arrivals_pc_{group_name.lower()}.html\")\n",
    "    "
   ]
  },
  {
   "cell_type": "code",
   "execution_count": null,
   "id": "84a7f2a8-51c4-4a9d-b832-025453793b12",
   "metadata": {},
   "outputs": [],
   "source": [
    "plot_col = \"num_arrivals\"\n",
    "# For indexing cut-off, we need 1 less than the number of groups\n",
    "# It goes from [vmin, cut1], [cut1, cut2], [cut2, cut3]\n",
    "# Not sure where the open parantheses are [) or (]?\n",
    "colormap_cutoff, MIN_VALUE, MAX_VALUE = grab_legend_thresholds(plot_col)\n",
    "print(colormap_cutoff)\n",
    "\n",
    "colorscale = branca.colormap.LinearColormap(\n",
    "                #colors=COLOR_LIST,\n",
    "                colors=[gray, light_green, light_blue, navy], \n",
    "                index=colormap_cutoff,\n",
    "                vmin=MIN_VALUE, vmax=MAX_VALUE,\n",
    ")\n",
    "\n",
    "for i, group_name in LOOP_GROUPS.items():\n",
    "    to_plot = df[df.equity_group==i]\n",
    "    display(colorscale)\n",
    "    fig = map_utils.make_choropleth_map(to_plot, \n",
    "                                    plot_col = plot_col, \n",
    "                                    popup_dict = popup_dict, \n",
    "                                    tooltip_dict = popup_dict, \n",
    "                                    colorscale = colorscale, \n",
    "                                    fig_width = 500, fig_height = 600, \n",
    "                                    zoom=6, centroid = [35.8, -119.4],\n",
    "                                    title=f\"Bus Service Levels for {group_name} CalEnviroScreen Tracts\",\n",
    "                                    #zoom=12, centroid = [37.84, -122.27]\n",
    "                                   )\n",
    "    fig.save(f\"./img/arrivals_{group_name.lower()}.html\")\n",
    "    "
   ]
  },
  {
   "cell_type": "code",
   "execution_count": null,
   "id": "f89bb6f6-46ea-4740-8b69-2e84df8803b5",
   "metadata": {},
   "outputs": [],
   "source": [
    "to_plot = df[(df.equity_group==3) & (df.stop_id==0)]\n",
    "la = to_plot[(to_plot.County==\"Los Angeles\")]"
   ]
  },
  {
   "cell_type": "code",
   "execution_count": null,
   "id": "3ed9fbaf-8875-414a-804b-0f981fa21fc5",
   "metadata": {},
   "outputs": [],
   "source": [
    "la.head(2)"
   ]
  },
  {
   "cell_type": "code",
   "execution_count": null,
   "id": "efe81466-7acd-4f46-b4e7-168710d251b6",
   "metadata": {},
   "outputs": [],
   "source": [
    "# Map for where there is zero service\n",
    "#https://notebook.community/racu10/emapy/notebooks/Colormaps\n",
    "popup_dict = {\n",
    "    \"Tract\": \"Census Tract\",\n",
    "    \"ZIP\": \"Zip Code\",\n",
    "    \"County\": \"County\",\n",
    "    \"City\": \"City\",\n",
    "    \"equity_group\": \"CalEnviroScreen Group (3 is worst)\", \n",
    "    \"avg_density_score\": \"Job/Population Density Group (3 is densest)\",\n",
    "}\n",
    "\n",
    "to_plot = la\n",
    "plot_col = \"avg_density_score\"\n",
    "\n",
    "colorscale = branca.colormap.StepColormap(\n",
    "                colors=[\"orange\", \"green\", \"navy\"], \n",
    "                index=[1., 2., 3.],\n",
    "                vmin=1, vmax=4,\n",
    ")\n",
    "display(colorscale)\n",
    "\n",
    "fig = map_utils.make_choropleth_map(to_plot, \n",
    "                                plot_col = plot_col, \n",
    "                                popup_dict = popup_dict, \n",
    "                                tooltip_dict = popup_dict, \n",
    "                                colorscale = colorscale, \n",
    "                                fig_width = 500, fig_height = 600, \n",
    "                                #zoom=6, centroid = [35.8, -119.4],\n",
    "                                zoom=11, centroid = [34.00, -118.18],    \n",
    "                                title=f\"Zero Bus Service for High-Need CalEnviroScreen Tracts\",\n",
    "                                #zoom=12, centroid = [37.84, -122.27]\n",
    "                               )\n",
    "#fig.save(f\"./img/arrivals_{group_name.lower()}.html\")"
   ]
  },
  {
   "cell_type": "code",
   "execution_count": null,
   "id": "4801d24e-4b2a-444f-89cb-0f0d27aff38e",
   "metadata": {},
   "outputs": [],
   "source": [
    "fig"
   ]
  },
  {
   "cell_type": "code",
   "execution_count": null,
   "id": "ac10f593-35ea-4f17-9d61-fbf20b4992de",
   "metadata": {},
   "outputs": [],
   "source": []
  }
 ],
 "metadata": {
  "kernelspec": {
   "display_name": "Python 3 (ipykernel)",
   "language": "python",
   "name": "python3"
  },
  "language_info": {
   "codemirror_mode": {
    "name": "ipython",
    "version": 3
   },
   "file_extension": ".py",
   "mimetype": "text/x-python",
   "name": "python",
   "nbconvert_exporter": "python",
   "pygments_lexer": "ipython3",
   "version": "3.9.6"
  }
 },
 "nbformat": 4,
 "nbformat_minor": 5
}
