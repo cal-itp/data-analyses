{
 "cells": [
  {
   "cell_type": "markdown",
   "id": "4efab213-bb97-45bf-9c82-35c0a8ce2ad9",
   "metadata": {},
   "source": [
    "# Census tract map of number of daily bus arrivals by CalEnviroScreen score"
   ]
  },
  {
   "cell_type": "code",
   "execution_count": null,
   "id": "6dc55f14-202f-4668-a5a3-04a8913cd105",
   "metadata": {},
   "outputs": [],
   "source": [
    "import branca\n",
    "import geopandas as gpd\n",
    "import pandas as pd\n",
    "\n",
    "import map_utils\n",
    "\n",
    "from IPython.display import Markdown\n",
    "\n",
    "pd.set_option(\"display.max_rows\", 20)"
   ]
  },
  {
   "cell_type": "code",
   "execution_count": null,
   "id": "954328f7-2915-46fd-b1fd-bcabbc3e2d65",
   "metadata": {},
   "outputs": [],
   "source": [
    "df = gpd.read_parquet(\"./bus_stop_times_by_tract.parquet\")\n",
    "\n",
    "df = df.assign(\n",
    "    num_arrivals = df.num_arrivals.fillna(0),\n",
    "    popdensity_group = pd.qcut(df.pop_sq_mi, q=3, labels=False) + 1,\n",
    "    jobdensity_group = pd.qcut(df.jobs_sq_mi, q=3, labels=False) + 1,\n",
    "    arrivals_group = pd.qcut(df.num_arrivals.fillna(0), q=3, labels=False) + 1,\n",
    ")\n",
    "\n",
    "\n",
    "def categorize_low_med_high(df, cols_to_avg):\n",
    "    # Calculate average\n",
    "    denom = len(cols_to_avg)\n",
    "    \n",
    "    df = df.assign(\n",
    "        avg_density_score = round(df[cols_to_avg].sum(axis=1) / denom, 0)\n",
    "     )\n",
    "    \n",
    "    return df\n",
    "\n",
    "df = categorize_low_med_high(df, [\"popdensity_group\", \"jobdensity_group\"])"
   ]
  },
  {
   "cell_type": "code",
   "execution_count": null,
   "id": "778117dc-8aac-40e1-ab3b-9694907527b2",
   "metadata": {},
   "outputs": [],
   "source": [
    "sample_tracts = [\"06001400100\", \"06001400600\", \"06001400700\"]\n",
    "to_plot = df[df.Tract.isin(sample_tracts)]"
   ]
  },
  {
   "cell_type": "code",
   "execution_count": null,
   "id": "aa206958-ab52-46cb-8e05-3fbd4293b2ef",
   "metadata": {},
   "outputs": [],
   "source": [
    "# If equity_group==1, corresponds to lower CalEnviroScreen scores\n",
    "# If equity_group==3, corresponds to higher CalEnviroScreen scores (worse off)"
   ]
  },
  {
   "cell_type": "code",
   "execution_count": null,
   "id": "e8b76989-f964-4f91-a70f-d28c264d9de4",
   "metadata": {},
   "outputs": [],
   "source": [
    "popup_dict = {\n",
    "    \"Tract\": \"Census Tract\",\n",
    "    \"equity_group\": \"CalEnviroScreen Group\", \n",
    "    \"avg_density_score\": \"Job/Population Density Group\",\n",
    "    \"num_arrivals\": \"# Daily Bus Arrivals\",\n",
    "    \"arrivals_group\": \"Arrivals Group\",\n",
    "}\n",
    "\n",
    "tooltip_dict = {\n",
    "    \"Tract\": \"Census Tract\",\n",
    "    \"equity_group\": \"CalEnviroScreen Group\", \n",
    "    \"avg_density_score\": \"Job/Population Density Group\",\n",
    "    \"num_arrivals\": \"# Daily Bus Arrivals\",\n",
    "    \"arrivals_group\": \"Arrivals Group\",\n",
    "} \n",
    "\n",
    "plot_col = \"num_arrivals\"\n",
    "cut1 = df[df.arrivals_group==1][plot_col].max()\n",
    "cut2 = df[df.arrivals_group==2][plot_col].max()\n",
    "cut3 = df[df.arrivals_group==3][plot_col].max()\n",
    "\n",
    "MIN_VALUE = df[plot_col].min()\n",
    "MAX_VALUE = df[plot_col].max()\n",
    "\n",
    "colormap_cutoff = [cut1, cut2, cut3]\n",
    "\n",
    "#colorscale = branca.colormap.linear.Blues_09\n",
    "colorscale = branca.colormap.StepColormap(\n",
    "                colors=COLOR_LIST,\n",
    "                #colors=[blue1, blue2, blue3,], \n",
    "                index=colormap_cutoff,\n",
    "                vmin=MIN_VALUE, vmax=MAX_VALUE,\n",
    ")"
   ]
  },
  {
   "cell_type": "code",
   "execution_count": null,
   "id": "b4dffcee-dd8c-4737-a2e1-74e6fb499ae7",
   "metadata": {},
   "outputs": [],
   "source": [
    "#branca.colormap.ColorMap.\n",
    "#branca.colormap.LinearColormap.\n",
    "#branca.colormap.StepColormap.\n",
    "display(branca.colormap.linear.Accent_03)\n",
    "display(branca.colormap.step.Blues_03)"
   ]
  },
  {
   "cell_type": "code",
   "execution_count": null,
   "id": "98fd5c4a-52e3-48da-959c-30c5700f378b",
   "metadata": {},
   "outputs": [],
   "source": [
    "print(branca.colormap.step.Blues_03.colors[0])\n",
    "\n",
    "#https://matplotlib.org/stable/tutorials/colors/colormaps.html\n",
    "#https://stackoverflow.com/questions/33596491/extract-matplotlib-colormap-in-hex-format\n"
   ]
  },
  {
   "cell_type": "code",
   "execution_count": null,
   "id": "5d1909f5-c073-42f9-a154-c19bb938e5f9",
   "metadata": {},
   "outputs": [],
   "source": [
    "from pylab import *\n",
    "import matplotlib\n",
    "\n",
    "cmap = cm.get_cmap('Wistia', 3)    # PiYG\n",
    "\n",
    "COLOR_LIST = []\n",
    "for i in range(cmap.N):\n",
    "    rgba = cmap(i)\n",
    "    # rgb2hex accepts rgb or rgba\n",
    "    hex_value = matplotlib.colors.rgb2hex(rgba)\n",
    "    print(hex_value)\n",
    "    COLOR_LIST.append(hex_value)\n",
    "    \n",
    "    "
   ]
  },
  {
   "cell_type": "code",
   "execution_count": null,
   "id": "4b6a5c01-f716-4052-a0fc-46150e6aa5f3",
   "metadata": {},
   "outputs": [],
   "source": [
    "#https://stackoverflow.com/questions/61441415/python-folium-choropleth-map-legend-quantiles-overlap\n",
    "to_plot = df[df.equity_group==1]\n",
    "\n",
    "fig = map_utils.make_choropleth_map(to_plot, \n",
    "                                    plot_col = plot_col, \n",
    "                                    popup_dict = popup_dict, \n",
    "                                    tooltip_dict = tooltip_dict, \n",
    "                                    colorscale = colorscale, \n",
    "                                    fig_width = 500, fig_height = 600, \n",
    "                                    zoom=6, centroid = [35.8, -119.4])\n",
    "                                    #zoom=12, centroid = [37.84, -122.27])\n",
    "\n",
    "colorscale.add_to(fig)\n",
    "fig.save(\"./img/fig1.html\")"
   ]
  },
  {
   "cell_type": "code",
   "execution_count": null,
   "id": "3935cceb-796c-47c5-a824-27549eeb7b0e",
   "metadata": {},
   "outputs": [],
   "source": [
    "#https://stackoverflow.com/questions/61441415/python-folium-choropleth-map-legend-quantiles-overlap\n",
    "to_plot = df[df.equity_group==2]\n",
    "\n",
    "fig = map_utils.make_choropleth_map(to_plot, \n",
    "                                    plot_col = plot_col, \n",
    "                                    popup_dict = popup_dict, \n",
    "                                    tooltip_dict = tooltip_dict, \n",
    "                                    colorscale = colorscale, \n",
    "                                    fig_width = 500, fig_height = 600, \n",
    "                                    zoom=6, centroid = [35.8, -119.4])\n",
    "\n",
    "colorscale.add_to(fig)\n",
    "fig.save(\"./img/fig2.html\")"
   ]
  },
  {
   "cell_type": "code",
   "execution_count": null,
   "id": "c2086659-4d51-45be-a9e7-d0b84c5500be",
   "metadata": {},
   "outputs": [],
   "source": [
    "#https://stackoverflow.com/questions/61441415/python-folium-choropleth-map-legend-quantiles-overlap\n",
    "to_plot = df[df.equity_group==3]\n",
    "\n",
    "fig = map_utils.make_choropleth_map(to_plot, \n",
    "                                    plot_col = plot_col, \n",
    "                                    popup_dict = popup_dict, \n",
    "                                    tooltip_dict = tooltip_dict, \n",
    "                                    colorscale = colorscale, \n",
    "                                    fig_width = 500, fig_height = 600, \n",
    "                                    zoom=6, centroid = [35.8, -119.4])\n",
    "\n",
    "colorscale.add_to(fig)\n",
    "fig.save(\"./img/fig3.html\")"
   ]
  },
  {
   "cell_type": "code",
   "execution_count": null,
   "id": "d17cbfa7-9595-485b-9f18-6ed978c883cd",
   "metadata": {},
   "outputs": [],
   "source": [
    "# https://www.python-graph-gallery.com/292-choropleth-map-with-folium\n",
    "#https://stackoverflow.com/questions/37466683/create-a-legend-on-a-folium-map\n",
    "\n",
    "#https://stackoverflow.com/questions/47846744/create-an-asymmetric-colormap"
   ]
  },
  {
   "cell_type": "code",
   "execution_count": null,
   "id": "84a7f2a8-51c4-4a9d-b832-025453793b12",
   "metadata": {},
   "outputs": [],
   "source": [
    "# Focus on high density areas, then map out low/med/high service\n",
    "# For calenviroscreen worst ones, low/med/high service"
   ]
  },
  {
   "cell_type": "code",
   "execution_count": null,
   "id": "efe81466-7acd-4f46-b4e7-168710d251b6",
   "metadata": {},
   "outputs": [],
   "source": []
  }
 ],
 "metadata": {
  "kernelspec": {
   "display_name": "Python 3 (ipykernel)",
   "language": "python",
   "name": "python3"
  },
  "language_info": {
   "codemirror_mode": {
    "name": "ipython",
    "version": 3
   },
   "file_extension": ".py",
   "mimetype": "text/x-python",
   "name": "python",
   "nbconvert_exporter": "python",
   "pygments_lexer": "ipython3",
   "version": "3.9.6"
  }
 },
 "nbformat": 4,
 "nbformat_minor": 5
}
