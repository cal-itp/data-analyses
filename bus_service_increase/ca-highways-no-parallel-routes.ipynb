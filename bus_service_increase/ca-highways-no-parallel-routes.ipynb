{
 "cells": [
  {
   "cell_type": "markdown",
   "id": "c9f8e859-3ef4-4716-845a-9c6176ca3700",
   "metadata": {},
   "source": [
    "# {state} Highways with No Parallel Transit Routes to SHN \n",
    "\n",
    "Based off of `C7`. "
   ]
  },
  {
   "cell_type": "code",
   "execution_count": null,
   "id": "7b0944d0-759a-4fd3-b05a-548ce16471a4",
   "metadata": {},
   "outputs": [],
   "source": [
    "%%capture\n",
    "import warnings\n",
    "warnings.filterwarnings('ignore')\n",
    "\n",
    "import branca\n",
    "import calitp.magics\n",
    "import geopandas as gpd\n",
    "import intake\n",
    "import pandas as pd\n",
    "\n",
    "from IPython.display import Markdown, HTML\n",
    "\n",
    "import setup_corridors_stats\n",
    "from create_parallel_corridors import IMG_PATH, DATA_PATH\n",
    "from shared_utils import geography_utils, map_utils\n",
    "from shared_utils import calitp_color_palette as cp\n",
    "\n",
    "catalog = intake.open_catalog(\"./*.yml\")"
   ]
  },
  {
   "cell_type": "code",
   "execution_count": null,
   "id": "3449561d-5080-4378-96cb-438c66a0112a",
   "metadata": {},
   "outputs": [],
   "source": [
    "operator_stats, hwy_stats = setup_corridors_stats.aggregated_transit_hwy_stats()\n",
    "gdf = setup_corridors_stats.process_hwy_stats(hwy_stats).to_crs(geography_utils.WGS84)"
   ]
  },
  {
   "cell_type": "markdown",
   "id": "336847c1-81ae-42e2-a925-e953fcde26df",
   "metadata": {},
   "source": [
    "## Highways with Zero Parallel Routes\n",
    "\n",
    "These indicate a dearth of bus transit service.\n",
    "\n",
    "Sort in descending order where there are more bus routes, just that these aren't parallel bus routes, and then sort in decreasing length of highway corridor.\n",
    "\n",
    "Show top 25 and make district maps. (top 20 includes 9 districts, top 25 includes 11 districts, top 30 includes 11 districts, top 35 includes 12 districts). Stick with top 25 then."
   ]
  },
  {
   "cell_type": "code",
   "execution_count": null,
   "id": "a53b5c79-d831-4b32-b52b-f066c1fa4f10",
   "metadata": {},
   "outputs": [],
   "source": [
    "TOP_CUTOFF = 25\n",
    "zero_parallel = (gdf[gdf.pct_parallel==0]\n",
    "                 .sort_values([\"count_route_id\", \"highway_length_routetype\"], \n",
    "                              ascending = [False, False])\n",
    "                 .head(TOP_CUTOFF)\n",
    "                ).reset_index(drop=True)"
   ]
  },
  {
   "cell_type": "code",
   "execution_count": null,
   "id": "41671b07-bc0f-4e0a-b31f-6478df5dcef0",
   "metadata": {},
   "outputs": [],
   "source": [
    "def district_stats(gdf, district):\n",
    "    subset = gdf[gdf.District==district]\n",
    "        \n",
    "    display_cols = [\n",
    "            \"Route\", \"County\", \"RouteType\", \n",
    "            \"count_route_id\", \"highway_length_routetype\",\n",
    "        ]\n",
    "\n",
    "    # Format html table\n",
    "    subset_style = (\n",
    "        subset[display_cols]\n",
    "        .rename(columns = POPUP_DICT)\n",
    "        .style.format({'Hwy Length (mi)': '{:,.2f}'})\n",
    "        .set_properties(**{'text-align': 'center'})\n",
    "        .set_table_styles([dict(selector='th',props=[('text-align', 'center')])\n",
    "                          ])\n",
    "        .hide(axis=\"index\")\n",
    "        .to_html()\n",
    "    )\n",
    "    if len(subset) > 0:\n",
    "        display(HTML(subset_style))"
   ]
  },
  {
   "cell_type": "code",
   "execution_count": null,
   "id": "b933e60c-d1c0-46b1-bd97-121e31aab3a4",
   "metadata": {},
   "outputs": [],
   "source": [
    "FIG_HEIGHT = 320\n",
    "FIG_WIDTH = 300\n",
    "\n",
    "PLOT_COL = \"count_route_id\"\n",
    "POPUP_DICT = {\n",
    "    \"Route\": \"Hwy Route\",\n",
    "    \"County\": \"County\",\n",
    "    \"District\": \"District\",\n",
    "    \"RouteType\": \"Route Type\",\n",
    "    \"count_route_id\": \"# transit routes\",\n",
    "    \"highway_length_routetype\": \"Hwy Length (mi)\",\n",
    "}\n",
    "\n",
    "def make_map(gdf): \n",
    "    # Create unique colors for each highway in district\n",
    "    # Do it off of the index value\n",
    "    index = gdf.index\n",
    "    COLORSCALE = branca.colormap.StepColormap(\n",
    "        colors = (cp.CALITP_CATEGORY_BRIGHT_COLORS + cp.CALITP_CATEGORY_BOLD_COLORS)[index],\n",
    "    )\n",
    "    \n",
    "    m = map_utils.make_folium_choropleth_map(\n",
    "        gdf,\n",
    "        plot_col = PLOT_COL,\n",
    "        popup_dict = POPUP_DICT, tooltip_dict = POPUP_DICT,\n",
    "        colorscale = COLORSCALE,\n",
    "        fig_width = FIG_WIDTH,\n",
    "        fig_height = FIG_HEIGHT,\n",
    "        zoom = 10,\n",
    "        centroid = [gdf.geometry.centroid.y, \n",
    "                    gdf.geometry.centroid.x,\n",
    "                   ],\n",
    "        title = f\"{gdf.hwy_route_name.iloc[0]}\",\n",
    "        legend_name = \"\",\n",
    "    )\n",
    "    \n",
    "    return m"
   ]
  },
  {
   "cell_type": "code",
   "execution_count": null,
   "id": "723d8f95-9d65-4e66-ad01-defaae5e15c7",
   "metadata": {},
   "outputs": [],
   "source": [
    "def show_district_analysis(gdf, district):\n",
    "    subset = (gdf[gdf.District==district]\n",
    "              .sort_values(\n",
    "                  [\"count_route_id\", \"highway_length_routetype\"], \n",
    "                  ascending=[False, False])\n",
    "              .reset_index(drop=True)\n",
    "             )\n",
    "    \n",
    "    # Show a table of stats for entire district\n",
    "    district_stats(subset, district)\n",
    "    \n",
    "    for i in range(0, len(subset)):\n",
    "        m = make_map(subset[subset.index==i])\n",
    "        display(m)\n"
   ]
  },
  {
   "cell_type": "code",
   "execution_count": null,
   "id": "c3f1a81a-764b-4332-9ebe-9f59cd6c7dbf",
   "metadata": {},
   "outputs": [],
   "source": [
    "plot_df = zero_parallel.copy()\n",
    "\n",
    "def sentence_no_corridors(district):\n",
    "    sentence = (\n",
    "        f\"District {district} does not contain any of the \"\n",
    "        f\"top {TOP_CUTOFF} highway corridors with no \"\n",
    "        \"parallel bus routes to the SHN.\"\n",
    "    )\n",
    "    return sentence\n",
    "\n",
    "def district_output(gdf, district):\n",
    "    try:\n",
    "        show_district_analysis(gdf, district)\n",
    "    except:\n",
    "        print(sentence_no_corridors(district))"
   ]
  },
  {
   "cell_type": "markdown",
   "id": "75912297-fd37-4788-b1d6-d5a6766314cb",
   "metadata": {},
   "source": [
    "## District Maps\n",
    "### District 1"
   ]
  },
  {
   "cell_type": "code",
   "execution_count": null,
   "id": "3c867317-cf42-498e-9822-07676d7f7008",
   "metadata": {},
   "outputs": [],
   "source": [
    "district = 1\n",
    "district_output(plot_df, district)"
   ]
  },
  {
   "cell_type": "markdown",
   "id": "8d43bd80-e874-498a-8074-a5ab1ac29239",
   "metadata": {},
   "source": [
    "### District 2"
   ]
  },
  {
   "cell_type": "code",
   "execution_count": null,
   "id": "f4f7555f-d2df-45c4-b82c-4c9539bdd67a",
   "metadata": {},
   "outputs": [],
   "source": [
    "district = 2\n",
    "district_output(plot_df, district)"
   ]
  },
  {
   "cell_type": "markdown",
   "id": "fe1e823a-8131-488e-9d32-b445dac4ecab",
   "metadata": {},
   "source": [
    "### District 3"
   ]
  },
  {
   "cell_type": "code",
   "execution_count": null,
   "id": "c72b4245-9ea4-4860-bf34-5cbd31e98834",
   "metadata": {},
   "outputs": [],
   "source": [
    "district = 3\n",
    "district_output(plot_df, district)"
   ]
  },
  {
   "cell_type": "markdown",
   "id": "999c11f1-657b-4e50-9ef3-d3a3cbb7fa23",
   "metadata": {},
   "source": [
    "### District 4"
   ]
  },
  {
   "cell_type": "code",
   "execution_count": null,
   "id": "8ba6d4cb-b81e-41fd-bdc7-12736c27dfbf",
   "metadata": {},
   "outputs": [],
   "source": [
    "district = 4\n",
    "district_output(plot_df, district)"
   ]
  },
  {
   "cell_type": "markdown",
   "id": "c867dca7-5a4a-482b-8ce6-9c8f10f7afa1",
   "metadata": {},
   "source": [
    "### District 5"
   ]
  },
  {
   "cell_type": "code",
   "execution_count": null,
   "id": "48ed9a88-6e3c-4f31-9286-2a93da5b9229",
   "metadata": {},
   "outputs": [],
   "source": [
    "district = 5\n",
    "district_output(plot_df, district)"
   ]
  },
  {
   "cell_type": "markdown",
   "id": "d39a138f-9b6b-4b99-a70c-e69374b0aeea",
   "metadata": {},
   "source": [
    "### District 6"
   ]
  },
  {
   "cell_type": "code",
   "execution_count": null,
   "id": "813ff666-fb20-465b-8347-d8e6384864e1",
   "metadata": {},
   "outputs": [],
   "source": [
    "district = 6\n",
    "district_output(plot_df, district)"
   ]
  },
  {
   "cell_type": "markdown",
   "id": "afa51b9b-95cf-4c1b-8cd0-6c0b961b906d",
   "metadata": {},
   "source": [
    "### District 7"
   ]
  },
  {
   "cell_type": "code",
   "execution_count": null,
   "id": "85206d00-a9ec-485a-8c61-21e3598e0c0a",
   "metadata": {},
   "outputs": [],
   "source": [
    "district = 7\n",
    "district_output(plot_df, district)"
   ]
  },
  {
   "cell_type": "markdown",
   "id": "71c277e3-db6b-4be7-8e4e-9a94dec0e6c5",
   "metadata": {},
   "source": [
    "### District 8"
   ]
  },
  {
   "cell_type": "code",
   "execution_count": null,
   "id": "067350c8-28db-4b90-8b46-b2d2d902d41a",
   "metadata": {},
   "outputs": [],
   "source": [
    "district = 8\n",
    "district_output(plot_df, district)"
   ]
  },
  {
   "cell_type": "markdown",
   "id": "087f079d-11ef-48c6-bbb8-472443366a11",
   "metadata": {},
   "source": [
    "### District 9"
   ]
  },
  {
   "cell_type": "code",
   "execution_count": null,
   "id": "8a660592-fea9-43e6-aa1f-6494707f8f62",
   "metadata": {},
   "outputs": [],
   "source": [
    "district = 9\n",
    "district_output(plot_df, district)"
   ]
  },
  {
   "cell_type": "markdown",
   "id": "e467b468-28d9-49be-ad39-ac38753d391b",
   "metadata": {},
   "source": [
    "### District 10"
   ]
  },
  {
   "cell_type": "code",
   "execution_count": null,
   "id": "46b53fd8-f288-4948-8e5d-ef4299f12ab9",
   "metadata": {},
   "outputs": [],
   "source": [
    "district = 10\n",
    "district_output(plot_df, district)"
   ]
  },
  {
   "cell_type": "markdown",
   "id": "3a56bd01-4db3-4fea-b521-806a5a7cbd6b",
   "metadata": {},
   "source": [
    "### District 11"
   ]
  },
  {
   "cell_type": "code",
   "execution_count": null,
   "id": "6f1d3b59-da7c-43f6-949a-682360b6979b",
   "metadata": {},
   "outputs": [],
   "source": [
    "district = 11\n",
    "district_output(plot_df, district)"
   ]
  },
  {
   "cell_type": "markdown",
   "id": "63190ce4-552a-4780-8d8d-c25f13d42017",
   "metadata": {},
   "source": [
    "### District 12"
   ]
  },
  {
   "cell_type": "code",
   "execution_count": null,
   "id": "b3a64f1f-c1b1-4766-bc85-b0f651ad7ed9",
   "metadata": {},
   "outputs": [],
   "source": [
    "district = 12\n",
    "district_output(plot_df, district)"
   ]
  }
 ],
 "metadata": {
  "kernelspec": {
   "display_name": "Python 3 (ipykernel)",
   "language": "python",
   "name": "python3"
  },
  "language_info": {
   "codemirror_mode": {
    "name": "ipython",
    "version": 3
   },
   "file_extension": ".py",
   "mimetype": "text/x-python",
   "name": "python",
   "nbconvert_exporter": "python",
   "pygments_lexer": "ipython3",
   "version": "3.9.12"
  }
 },
 "nbformat": 4,
 "nbformat_minor": 5
}
