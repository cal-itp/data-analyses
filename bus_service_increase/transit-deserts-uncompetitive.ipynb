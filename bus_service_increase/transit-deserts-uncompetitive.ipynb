{
 "cells": [
  {
   "cell_type": "code",
   "execution_count": null,
   "id": "a6363386-0005-4a6f-b33c-395be4873b98",
   "metadata": {},
   "outputs": [],
   "source": [
    "%%capture\n",
    "import warnings\n",
    "warnings.filterwarnings('ignore')\n",
    "\n",
    "import calitp.magics\n",
    "import geopandas as gpd\n",
    "import intake\n",
    "import pandas as pd\n",
    "\n",
    "from typing import Literal\n",
    "\n",
    "from shared_utils import geography_utils\n",
    "from shared_utils import calitp_color_palette as cp\n",
    "\n",
    "catalog = intake.open_catalog(\"../bus_service_increase/*.yml\")"
   ]
  },
  {
   "cell_type": "code",
   "execution_count": null,
   "id": "3ea353dd-775a-4072-ba19-16822da49aec",
   "metadata": {
    "tags": [
     "parameters"
    ]
   },
   "outputs": [],
   "source": [
    "# parameters cell\n",
    "district = 7"
   ]
  },
  {
   "cell_type": "code",
   "execution_count": null,
   "id": "cdd6577c-c252-4652-8f39-76d2422a3448",
   "metadata": {},
   "outputs": [],
   "source": [
    "gdf = catalog.highway_uncompetitive_transit.read()\n",
    "gdf = gdf[gdf.District == district]"
   ]
  },
  {
   "cell_type": "code",
   "execution_count": null,
   "id": "af1da8f1-83dd-4747-b3a1-c1d451d6785b",
   "metadata": {},
   "outputs": [],
   "source": [
    "%%capture_parameters"
   ]
  },
  {
   "cell_type": "markdown",
   "id": "c6a14c1e-a17f-45cd-97fe-160a70295000",
   "metadata": {},
   "source": [
    "# Highways with Zero or Uncompetitive Transit"
   ]
  },
  {
   "cell_type": "code",
   "execution_count": null,
   "id": "788484cd-4a2b-4e67-87d1-cdd0d8d7527a",
   "metadata": {},
   "outputs": [],
   "source": [
    "# Map args\n",
    "TILES = \"CartoDB Positron\"\n",
    "\n",
    "def data_for_viz(gdf: gpd.GeoDataFrame) -> gpd.GeoDataFrame:\n",
    "    gdf2 = (gdf.drop(columns = [\"hwy_segment_id\", \n",
    "                                \"segment_sequence\", \"_merge\"])\n",
    "            .rename(columns = {\"competitive_category\": \"Category\"})\n",
    "           )\n",
    "    \n",
    "    return gdf2\n",
    "\n",
    "def make_transit_desert_or_uncompetitive_map(gdf: gpd.GeoDataFrame): \n",
    "    include = ['no transit', 'uncompetitive transit only']\n",
    "    gdf2 = data_for_viz(gdf[gdf.competitive_category.isin(include)])\n",
    "    \n",
    "    colors = (cp.CALITP_CATEGORY_BRIGHT_COLORS + \n",
    "              cp.CALITP_CATEGORY_BOLD_COLORS + \n",
    "              cp.CALITP_DIVERGING_COLORS\n",
    "             )\n",
    "    \n",
    "    m = gdf2.explore(\"Route\", \n",
    "                     categorical = True, \n",
    "                     cmap = colors, \n",
    "                     tiles = TILES\n",
    "                    )\n",
    "    \n",
    "    return m\n",
    "\n",
    "\n",
    "def make_competitive_category_transit_map(gdf: gpd.GeoDataFrame):\n",
    "    \n",
    "    gdf2 = data_for_viz(gdf)\n",
    "    \n",
    "    # Switch color ordering \n",
    "    colors = [\n",
    "        cp.CALITP_CATEGORY_BRIGHT_COLORS[3], # green\n",
    "        cp.CALITP_CATEGORY_BRIGHT_COLORS[2], # yellow\n",
    "        cp.CALITP_CATEGORY_BRIGHT_COLORS[1], # orange\n",
    "    ]\n",
    "            \n",
    "    m = gdf2.explore(\"Category\", \n",
    "                     categorical = True, tiles = TILES, \n",
    "                     cmap = colors\n",
    "                    )\n",
    "    \n",
    "    return m"
   ]
  },
  {
   "cell_type": "markdown",
   "id": "c4e1acdb-02fd-48fb-bcfd-cb28f4f56433",
   "metadata": {},
   "source": [
    "## Highways with Competitive / Uncompetitive / Zero Transit"
   ]
  },
  {
   "cell_type": "code",
   "execution_count": null,
   "id": "7843dfe7-3102-4a76-8153-389ebeb51319",
   "metadata": {},
   "outputs": [],
   "source": [
    "m = make_competitive_category_transit_map(gdf)\n",
    "m"
   ]
  },
  {
   "cell_type": "markdown",
   "id": "15497cb7-9187-44bf-a963-ccae823ae800",
   "metadata": {},
   "source": [
    "## Transit Deserts"
   ]
  },
  {
   "cell_type": "code",
   "execution_count": null,
   "id": "e8290e95-a190-4df4-8e22-e52e3450f360",
   "metadata": {},
   "outputs": [],
   "source": [
    "m = make_transit_desert_or_uncompetitive_map(gdf)\n",
    "m"
   ]
  },
  {
   "cell_type": "code",
   "execution_count": null,
   "id": "dd4ed406-eba9-4be0-9c14-e92e16df374d",
   "metadata": {},
   "outputs": [],
   "source": []
  }
 ],
 "metadata": {
  "kernelspec": {
   "display_name": "Python 3 (ipykernel)",
   "language": "python",
   "name": "python3"
  },
  "language_info": {
   "codemirror_mode": {
    "name": "ipython",
    "version": 3
   },
   "file_extension": ".py",
   "mimetype": "text/x-python",
   "name": "python",
   "nbconvert_exporter": "python",
   "pygments_lexer": "ipython3",
   "version": "3.10.6"
  }
 },
 "nbformat": 4,
 "nbformat_minor": 5
}
