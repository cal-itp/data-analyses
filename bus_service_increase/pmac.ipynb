{
 "cells": [
  {
   "cell_type": "markdown",
   "id": "aba3b0aa-73bf-4a8d-b4ee-64ecc98196fc",
   "metadata": {},
   "source": [
    "# PMAC presentation\n",
    "\n",
    "**PO-1: increase total amount of service on the SHN and reliability of that service by 2024**\n",
    "\n",
    "Typical weekday: 2/8/22\n",
    "\n",
    "1. Routes on SHN\n",
    "a. parallel routes (1 mi corridor) - how many routes, agencies, share of all CA transit agency-routes?\n",
    "b. intersecting routes (everything not parallel) - how many routes, agencies, share of all CA transit agency-routes?\n",
    "c. intersecting routes (not parallel, but actually travel on SHN (50 ft buffer) for some portion of that route) - subset of above, how many routes, agencies, share of all CA agency-routes?\n",
    "\n",
    "2. How many routes on SHN, breakdown by district\n",
    "3. How many service hours are scheduled for a typical weekday for (1)?\n",
    "4. How many of these agencies that have parallel routes on SHN also have GTFS RT?\n",
    "Use `isin` and find `itp_id`, not route-specific, because most agencies that provide GTFS RT do it for the majority of their routes."
   ]
  },
  {
   "cell_type": "code",
   "execution_count": 1,
   "id": "792ee3df-ebcb-4bf7-a7f2-f7f903efe126",
   "metadata": {},
   "outputs": [
    {
     "name": "stderr",
     "output_type": "stream",
     "text": [
      "/opt/conda/lib/python3.9/site-packages/geopandas/_compat.py:111: UserWarning: The Shapely GEOS version (3.9.1-CAPI-1.14.2) is incompatible with the GEOS version PyGEOS was compiled with (3.10.1-CAPI-1.16.0). Conversions between both will be slow.\n",
      "  warnings.warn(\n"
     ]
    }
   ],
   "source": [
    "#https://stackoverflow.com/questions/55162077/how-to-get-the-driving-distance-between-two-geographical-coordinates-using-pytho\n",
    "import geopandas as gpd\n",
    "import os\n",
    "import pandas as pd\n",
    "\n",
    "os.environ[\"CALITP_BQ_MAX_BYTES\"] = str(130_000_000_000)\n",
    "\n",
    "from calitp.tables import tbl\n",
    "from calitp import query_sql\n",
    "from siuba import *\n",
    "\n",
    "import shared_utils\n",
    "import utils\n",
    "\n",
    "pd.options.display.float_format = '{:,}'.format"
   ]
  },
  {
   "cell_type": "code",
   "execution_count": null,
   "id": "843592cb-29bf-4c69-8d49-cd4cdce96f16",
   "metadata": {},
   "outputs": [],
   "source": [
    "'''\n",
    "SELECTED_DATE = \"2022-2-8\"\n",
    "\n",
    "trip_cols = [\"calitp_itp_id\", \"calitp_url_number\", \"route_id\", \"shape_id\"]\n",
    "\n",
    "\n",
    "dim_trips = (tbl.views.gtfs_schedule_dim_trips()\n",
    "             >> select(*trip_cols, _.trip_key)\n",
    "             >> distinct()\n",
    "            )\n",
    "\n",
    "trips = (tbl.views.gtfs_schedule_fact_daily_trips()\n",
    "         >> filter(_.service_date == SELECTED_DATE, \n",
    "                   _.is_in_service==True)\n",
    "         >> select(_.trip_key, _.service_date, _.service_hours)\n",
    "         >> inner_join(_, dim_trips, on = \"trip_key\")\n",
    "         >> group_by(_.calitp_itp_id, _.calitp_url_number, _.shape_id, _.route_id)\n",
    "         >> mutate(total_service_hours = _.service_hours.sum())\n",
    "         >> select(*trip_cols, _.total_service_hours)\n",
    "         >> distinct()\n",
    "         >> rename(itp_id = \"calitp_itp_id\")\n",
    "         >> collect()\n",
    "        )\n",
    "'''"
   ]
  },
  {
   "cell_type": "code",
   "execution_count": 2,
   "id": "9b4769d1-f48d-452c-b90d-b6c3cb1b08fe",
   "metadata": {},
   "outputs": [
    {
     "data": {
      "text/html": [
       "<div>\n",
       "<style scoped>\n",
       "    .dataframe tbody tr th:only-of-type {\n",
       "        vertical-align: middle;\n",
       "    }\n",
       "\n",
       "    .dataframe tbody tr th {\n",
       "        vertical-align: top;\n",
       "    }\n",
       "\n",
       "    .dataframe thead th {\n",
       "        text-align: right;\n",
       "    }\n",
       "</style>\n",
       "<table border=\"1\" class=\"dataframe\">\n",
       "  <thead>\n",
       "    <tr style=\"text-align: right;\">\n",
       "      <th></th>\n",
       "      <th>itp_id</th>\n",
       "      <th>calitp_url_number</th>\n",
       "      <th>route_id</th>\n",
       "      <th>shape_id</th>\n",
       "      <th>total_service_hours</th>\n",
       "    </tr>\n",
       "  </thead>\n",
       "  <tbody>\n",
       "    <tr>\n",
       "      <th>0</th>\n",
       "      <td>4</td>\n",
       "      <td>1</td>\n",
       "      <td>650</td>\n",
       "      <td>shp-650-08</td>\n",
       "      <td>0.8166666666666667</td>\n",
       "    </tr>\n",
       "    <tr>\n",
       "      <th>1</th>\n",
       "      <td>16</td>\n",
       "      <td>0</td>\n",
       "      <td>50</td>\n",
       "      <td>5607_shp</td>\n",
       "      <td>7.3999999999999995</td>\n",
       "    </tr>\n",
       "  </tbody>\n",
       "</table>\n",
       "</div>"
      ],
      "text/plain": [
       "   itp_id  calitp_url_number route_id    shape_id  total_service_hours\n",
       "0       4                  1      650  shp-650-08   0.8166666666666667\n",
       "1      16                  0       50    5607_shp   7.3999999999999995"
      ]
     },
     "execution_count": 2,
     "metadata": {},
     "output_type": "execute_result"
    }
   ],
   "source": [
    "#trips.to_parquet(\"./data/trips_service_hours.parquet\")\n",
    "trips = pd.read_parquet(\"./data/trips_service_hours.parquet\")\n",
    "trips.head(2)"
   ]
  },
  {
   "cell_type": "code",
   "execution_count": 3,
   "id": "713607cb-3c8d-4d80-9a5f-8de2335087a8",
   "metadata": {},
   "outputs": [
    {
     "name": "stdout",
     "output_type": "stream",
     "text": [
      "# obs in original df: 10211\n",
      "# obs in new df: 7887\n",
      "These operators have multiple calitp_url_number values: [56, 61, 106, 110, 127, 167, 182, 194, 246, 247, 264, 279, 280, 282, 290, 294, 314, 315, 350, 356, 368]\n"
     ]
    }
   ],
   "source": [
    "trips2 = utils.include_exclude_multiple_feeds(trips, id_col = \"itp_id\",\n",
    "                                     include_ids = [182],\n",
    "                                     exclude_ids = [200]\n",
    "                                    )"
   ]
  },
  {
   "cell_type": "code",
   "execution_count": 5,
   "id": "69b1df49-3f69-428d-85b2-3c59df9fbd30",
   "metadata": {},
   "outputs": [],
   "source": [
    "df = shared_utils.geography_utils.aggregate_by_geography(\n",
    "    trips2,\n",
    "    group_cols = [\"itp_id\" , \"route_id\"],\n",
    "    # this is a choice to sum up service hours if they have same route_id\n",
    "    # but different shape_id\n",
    "    sum_cols = [\"total_service_hours\"]\n",
    ")"
   ]
  },
  {
   "cell_type": "code",
   "execution_count": 6,
   "id": "bff21f8d-255d-4365-b4a2-e30f3d082838",
   "metadata": {},
   "outputs": [],
   "source": [
    "def flag_parallel_intersecting_routes(df):\n",
    "    # If it is parallel, we want to flag as 1\n",
    "    parallel = gpd.read_parquet(\n",
    "        \"./data/parallel_or_intersecting_2022-03-02.parquet\")\n",
    "    \n",
    "    # Attach district info for routes, wherever possible\n",
    "    df = pd.merge(df,\n",
    "                  (parallel[[\"itp_id\", \"route_id\", \"District\"]]\n",
    "                   .astype({\"District\": \"Int64\"})\n",
    "                  .drop_duplicates(subset=[\"itp_id\", \"route_id\"])),\n",
    "                  on = [\"itp_id\", \"route_id\"],\n",
    "                  how = \"left\",\n",
    "                  validate = \"1:1\"\n",
    "                 )\n",
    "    \n",
    "    parallel = parallel[parallel.parallel==1]\n",
    "    \n",
    "    # These are routes that have some part on SHN\n",
    "    # BUT, there is overlap between the parallel\n",
    "    # Since the requirements here are less stringent than parallel\n",
    "    # So, remove those that are already parallel\n",
    "    on_shn = gpd.read_parquet(\n",
    "        \"./data/routes_on_shn_2022-03-02.parquet\"\n",
    "    )\n",
    "    \n",
    "    # Get it down to unique route (instead of with highway info)\n",
    "    def get_unique_routes(df):\n",
    "        # If there are multiple shape_ids for route_id,\n",
    "        # Keep the one where it's has higher overlap with SHN\n",
    "        df = (df.sort_values([\"itp_id\", \"route_id\", \"pct_route\", \"shape_id\"],\n",
    "                             ascending=[True, True, False, True],\n",
    "                            )\n",
    "                    .drop_duplicates(subset=[\"itp_id\", \"route_id\"])\n",
    "                    [[\"itp_id\", \"route_id\", \"parallel\"]]\n",
    "                    .reset_index(drop=True)\n",
    "                   )\n",
    "        return df\n",
    "    \n",
    "    parallel2 = get_unique_routes(parallel)\n",
    "    on_shn2 = get_unique_routes(on_shn)\n",
    "    on_shn2 = on_shn2.assign(\n",
    "        on_shn = 1,\n",
    "    ).drop(columns = \"parallel\")\n",
    "    \n",
    "    m1 = pd.merge(df, \n",
    "                  parallel2,\n",
    "                  on = [\"itp_id\", \"route_id\"],\n",
    "                  how = \"left\",\n",
    "                  validate = \"1:1\"\n",
    "    )\n",
    "    \n",
    "    m2 = pd.merge(m1,\n",
    "                  on_shn2,\n",
    "                  on = [\"itp_id\", \"route_id\"],\n",
    "                  how = \"left\",\n",
    "                  validate = \"1:1\"\n",
    "    )\n",
    "\n",
    "    return m2"
   ]
  },
  {
   "cell_type": "code",
   "execution_count": 7,
   "id": "905aca7d-df3d-422c-af29-369c6859b142",
   "metadata": {},
   "outputs": [],
   "source": [
    "def mutually_exclusive_groups(df):\n",
    "    # Now, force mutual exclusivity\n",
    "    def make_mutually_exclusive(row):\n",
    "        if row.parallel==1:\n",
    "            return \"parallel\"\n",
    "        elif row.on_shn==1:\n",
    "            return \"on_shn\"\n",
    "        else:\n",
    "            return \"other\"\n",
    "    \n",
    "    df[\"category\"] = df.apply(lambda x: make_mutually_exclusive(x), axis=1)\n",
    "    \n",
    "    df2 = df.assign(\n",
    "        is_parallel = df.apply(lambda x: \n",
    "                               1 if x.category == \"parallel\" else 0, axis=1),\n",
    "        is_on_shn = df.apply(lambda x: \n",
    "                             1 if x.category == \"on_shn\" else 0, axis=1),\n",
    "        is_other = df.apply(lambda x: \n",
    "                            1 if x.category == \"other\" else 0, axis=1),\n",
    "        # Create a column that can be summed across categories\n",
    "        # since group_col will include category, and nunique(route_id) double-counts\n",
    "        unique_route = 1\n",
    "    ).drop(columns = [\"parallel\", \"on_shn\"])\n",
    "    \n",
    "    return df2"
   ]
  },
  {
   "cell_type": "code",
   "execution_count": 8,
   "id": "b4a42281-b98d-4a96-8caa-ff8c9928ae14",
   "metadata": {},
   "outputs": [],
   "source": [
    "df = flag_parallel_intersecting_routes(df)\n",
    "df = mutually_exclusive_groups(df)"
   ]
  },
  {
   "cell_type": "markdown",
   "id": "666d6df3-2be7-459c-8a26-fb12bc6784c5",
   "metadata": {},
   "source": [
    "Do I want to keep `parallel` or `on_shn`?\n",
    "\n",
    "Once mutual exclusivity is formed, maybe dummies need to get dropped.\n",
    "There's some that are `parallel==1` and `on_shn==1`, which would get categorized as `parallel`. It makes sense that all the `on_shn` falls within `parallel`, but not all `parallel` is `on_shn`."
   ]
  },
  {
   "cell_type": "code",
   "execution_count": 9,
   "id": "dac200f3-d6b8-4fae-920e-79c061be8ba8",
   "metadata": {},
   "outputs": [],
   "source": [
    "# I think this is the initial table\n",
    "# Get it summarized to # and %\n",
    "summary = shared_utils.geography_utils.aggregate_by_geography(\n",
    "    df, \n",
    "    group_cols = [\"category\"],\n",
    "    sum_cols = [\"total_service_hours\", \"unique_route\"],\n",
    ")"
   ]
  },
  {
   "cell_type": "code",
   "execution_count": 10,
   "id": "34ff7b18-8fde-4d03-94cb-890d4c7e87a2",
   "metadata": {},
   "outputs": [],
   "source": [
    "# Add percents\n",
    "def add_percent(df, col_list):\n",
    "    for c in col_list:\n",
    "        new_col = f\"pct_{c}\"\n",
    "        df[new_col] = (df[c] / df[c].sum()).round(3) * 100\n",
    "        df[c] = df[c].round(0)\n",
    "        \n",
    "    return df\n",
    "\n",
    "# route_id....well, unique route_id is not exactlyy the same as is_parallel,\n",
    "# is_on_shn, is_other\n",
    "# Maybe stick with that to be consistent\n",
    "#add_percent(t1, \"route_id\")"
   ]
  },
  {
   "cell_type": "code",
   "execution_count": 11,
   "id": "4695f1ed-7ee3-4adf-a1fb-62fe49a42946",
   "metadata": {},
   "outputs": [
    {
     "data": {
      "text/html": [
       "<div>\n",
       "<style scoped>\n",
       "    .dataframe tbody tr th:only-of-type {\n",
       "        vertical-align: middle;\n",
       "    }\n",
       "\n",
       "    .dataframe tbody tr th {\n",
       "        vertical-align: top;\n",
       "    }\n",
       "\n",
       "    .dataframe thead th {\n",
       "        text-align: right;\n",
       "    }\n",
       "</style>\n",
       "<table border=\"1\" class=\"dataframe\">\n",
       "  <thead>\n",
       "    <tr style=\"text-align: right;\">\n",
       "      <th></th>\n",
       "      <th>category</th>\n",
       "      <th>unique_route</th>\n",
       "      <th>pct_unique_route</th>\n",
       "      <th>total_service_hours</th>\n",
       "      <th>pct_total_service_hours</th>\n",
       "    </tr>\n",
       "  </thead>\n",
       "  <tbody>\n",
       "    <tr>\n",
       "      <th>0</th>\n",
       "      <td>parallel</td>\n",
       "      <td>1873</td>\n",
       "      <td>66.9</td>\n",
       "      <td>54,480.0</td>\n",
       "      <td>55.1</td>\n",
       "    </tr>\n",
       "    <tr>\n",
       "      <th>1</th>\n",
       "      <td>on_shn</td>\n",
       "      <td>620</td>\n",
       "      <td>22.2</td>\n",
       "      <td>14,389.0</td>\n",
       "      <td>14.6</td>\n",
       "    </tr>\n",
       "    <tr>\n",
       "      <th>2</th>\n",
       "      <td>other</td>\n",
       "      <td>305</td>\n",
       "      <td>10.9</td>\n",
       "      <td>30,020.0</td>\n",
       "      <td>30.4</td>\n",
       "    </tr>\n",
       "  </tbody>\n",
       "</table>\n",
       "</div>"
      ],
      "text/plain": [
       "   category  unique_route  pct_unique_route  total_service_hours  \\\n",
       "0  parallel          1873              66.9             54,480.0   \n",
       "1    on_shn           620              22.2             14,389.0   \n",
       "2     other           305              10.9             30,020.0   \n",
       "\n",
       "   pct_total_service_hours  \n",
       "0                     55.1  \n",
       "1                     14.6  \n",
       "2                     30.4  "
      ]
     },
     "execution_count": 11,
     "metadata": {},
     "output_type": "execute_result"
    }
   ],
   "source": [
    "summary = add_percent(summary, [\"total_service_hours\", \"unique_route\"])\n",
    "\n",
    "col_order = ['category', 'unique_route', 'pct_unique_route',\n",
    "             'total_service_hours', 'pct_total_service_hours'\n",
    "            ]\n",
    "\n",
    "summary[col_order]"
   ]
  },
  {
   "cell_type": "code",
   "execution_count": 12,
   "id": "30f3ccbf-b9e6-49a8-9cf7-ec03e34524e4",
   "metadata": {},
   "outputs": [
    {
     "data": {
      "text/html": [
       "<div>\n",
       "<style scoped>\n",
       "    .dataframe tbody tr th:only-of-type {\n",
       "        vertical-align: middle;\n",
       "    }\n",
       "\n",
       "    .dataframe tbody tr th {\n",
       "        vertical-align: top;\n",
       "    }\n",
       "\n",
       "    .dataframe thead th {\n",
       "        text-align: right;\n",
       "    }\n",
       "</style>\n",
       "<table border=\"1\" class=\"dataframe\">\n",
       "  <thead>\n",
       "    <tr style=\"text-align: right;\">\n",
       "      <th></th>\n",
       "      <th>category</th>\n",
       "      <th>total_service_hours</th>\n",
       "      <th>unique_route</th>\n",
       "    </tr>\n",
       "  </thead>\n",
       "  <tbody>\n",
       "    <tr>\n",
       "      <th>0</th>\n",
       "      <td>All</td>\n",
       "      <td>98,889.0</td>\n",
       "      <td>2798</td>\n",
       "    </tr>\n",
       "  </tbody>\n",
       "</table>\n",
       "</div>"
      ],
      "text/plain": [
       "  category  total_service_hours  unique_route\n",
       "0      All             98,889.0          2798"
      ]
     },
     "execution_count": 12,
     "metadata": {},
     "output_type": "execute_result"
    }
   ],
   "source": [
    "shared_utils.geography_utils.aggregate_by_geography(\n",
    "    summary.assign(category=\"All\"),\n",
    "    group_cols = [\"category\"],\n",
    "    sum_cols = [\"unique_route\", \"total_service_hours\"]\n",
    ")"
   ]
  },
  {
   "cell_type": "code",
   "execution_count": 13,
   "id": "c3e135dd-c034-4dcc-ad82-09c77aab21d5",
   "metadata": {},
   "outputs": [
    {
     "data": {
      "text/plain": [
       "other     305\n",
       "on_shn     64\n",
       "Name: category, dtype: int64"
      ]
     },
     "execution_count": 13,
     "metadata": {},
     "output_type": "execute_result"
    }
   ],
   "source": [
    "# Where district is missing, it's not parallel routes\n",
    "# So let's ignore those sections and focus on just parallel and do breakdown\n",
    "df[(df.District.isna())].category.value_counts()"
   ]
  },
  {
   "cell_type": "code",
   "execution_count": 16,
   "id": "c55917d7-09c4-41e9-8b2b-a21cb8529fbf",
   "metadata": {},
   "outputs": [
    {
     "data": {
      "text/html": [
       "<div>\n",
       "<style scoped>\n",
       "    .dataframe tbody tr th:only-of-type {\n",
       "        vertical-align: middle;\n",
       "    }\n",
       "\n",
       "    .dataframe tbody tr th {\n",
       "        vertical-align: top;\n",
       "    }\n",
       "\n",
       "    .dataframe thead th {\n",
       "        text-align: right;\n",
       "    }\n",
       "</style>\n",
       "<table border=\"1\" class=\"dataframe\">\n",
       "  <thead>\n",
       "    <tr style=\"text-align: right;\">\n",
       "      <th></th>\n",
       "      <th>District</th>\n",
       "      <th>total_service_hours</th>\n",
       "      <th>unique_route</th>\n",
       "      <th>pct_total_service_hours</th>\n",
       "      <th>pct_unique_route</th>\n",
       "    </tr>\n",
       "  </thead>\n",
       "  <tbody>\n",
       "    <tr>\n",
       "      <th>4</th>\n",
       "      <td>1</td>\n",
       "      <td>685.0</td>\n",
       "      <td>57</td>\n",
       "      <td>1.3</td>\n",
       "      <td>3.0</td>\n",
       "    </tr>\n",
       "    <tr>\n",
       "      <th>7</th>\n",
       "      <td>2</td>\n",
       "      <td>417.0</td>\n",
       "      <td>45</td>\n",
       "      <td>0.8</td>\n",
       "      <td>2.4</td>\n",
       "    </tr>\n",
       "    <tr>\n",
       "      <th>2</th>\n",
       "      <td>3</td>\n",
       "      <td>2,215.0</td>\n",
       "      <td>142</td>\n",
       "      <td>4.1</td>\n",
       "      <td>7.6</td>\n",
       "    </tr>\n",
       "    <tr>\n",
       "      <th>0</th>\n",
       "      <td>4</td>\n",
       "      <td>25,825.0</td>\n",
       "      <td>708</td>\n",
       "      <td>47.4</td>\n",
       "      <td>37.8</td>\n",
       "    </tr>\n",
       "    <tr>\n",
       "      <th>9</th>\n",
       "      <td>5</td>\n",
       "      <td>1,419.0</td>\n",
       "      <td>89</td>\n",
       "      <td>2.6</td>\n",
       "      <td>4.8</td>\n",
       "    </tr>\n",
       "    <tr>\n",
       "      <th>6</th>\n",
       "      <td>6</td>\n",
       "      <td>1,296.0</td>\n",
       "      <td>70</td>\n",
       "      <td>2.4</td>\n",
       "      <td>3.7</td>\n",
       "    </tr>\n",
       "    <tr>\n",
       "      <th>1</th>\n",
       "      <td>7</td>\n",
       "      <td>10,187.0</td>\n",
       "      <td>404</td>\n",
       "      <td>18.7</td>\n",
       "      <td>21.6</td>\n",
       "    </tr>\n",
       "    <tr>\n",
       "      <th>5</th>\n",
       "      <td>8</td>\n",
       "      <td>2,032.0</td>\n",
       "      <td>76</td>\n",
       "      <td>3.7</td>\n",
       "      <td>4.1</td>\n",
       "    </tr>\n",
       "    <tr>\n",
       "      <th>8</th>\n",
       "      <td>9</td>\n",
       "      <td>208.0</td>\n",
       "      <td>20</td>\n",
       "      <td>0.4</td>\n",
       "      <td>1.1</td>\n",
       "    </tr>\n",
       "    <tr>\n",
       "      <th>3</th>\n",
       "      <td>10</td>\n",
       "      <td>1,193.0</td>\n",
       "      <td>82</td>\n",
       "      <td>2.2</td>\n",
       "      <td>4.4</td>\n",
       "    </tr>\n",
       "    <tr>\n",
       "      <th>11</th>\n",
       "      <td>11</td>\n",
       "      <td>4,891.0</td>\n",
       "      <td>97</td>\n",
       "      <td>9.0</td>\n",
       "      <td>5.2</td>\n",
       "    </tr>\n",
       "    <tr>\n",
       "      <th>10</th>\n",
       "      <td>12</td>\n",
       "      <td>4,112.0</td>\n",
       "      <td>83</td>\n",
       "      <td>7.5</td>\n",
       "      <td>4.4</td>\n",
       "    </tr>\n",
       "  </tbody>\n",
       "</table>\n",
       "</div>"
      ],
      "text/plain": [
       "    District  total_service_hours  unique_route  pct_total_service_hours  \\\n",
       "4          1                685.0            57                      1.3   \n",
       "7          2                417.0            45                      0.8   \n",
       "2          3              2,215.0           142                      4.1   \n",
       "0          4             25,825.0           708                     47.4   \n",
       "9          5              1,419.0            89                      2.6   \n",
       "6          6              1,296.0            70                      2.4   \n",
       "1          7             10,187.0           404                     18.7   \n",
       "5          8              2,032.0            76                      3.7   \n",
       "8          9                208.0            20                      0.4   \n",
       "3         10              1,193.0            82                      2.2   \n",
       "11        11              4,891.0            97                      9.0   \n",
       "10        12              4,112.0            83                      7.5   \n",
       "\n",
       "    pct_unique_route  \n",
       "4                3.0  \n",
       "7                2.4  \n",
       "2                7.6  \n",
       "0               37.8  \n",
       "9                4.8  \n",
       "6                3.7  \n",
       "1               21.6  \n",
       "5                4.1  \n",
       "8                1.1  \n",
       "3                4.4  \n",
       "11               5.2  \n",
       "10               4.4  "
      ]
     },
     "execution_count": 16,
     "metadata": {},
     "output_type": "execute_result"
    }
   ],
   "source": [
    "by_district = shared_utils.geography_utils.aggregate_by_geography(\n",
    "    df[df.category==\"parallel\"],\n",
    "    group_cols = [\"District\"],\n",
    "    sum_cols = [\"total_service_hours\", \"unique_route\"]\n",
    ")\n",
    "\n",
    "by_district = (add_percent(by_district, [\"total_service_hours\", \"unique_route\"])\n",
    "               .sort_values(\"District\")\n",
    "              )\n",
    "\n",
    "for c in [\"pct_total_service_hours\", \"pct_unique_route\"]:\n",
    "    by_district[c] = by_district[c].round(1)\n",
    "    \n",
    "by_district"
   ]
  },
  {
   "cell_type": "code",
   "execution_count": 17,
   "id": "7faed671-aa09-4c22-b9b3-da1eeddb4fa7",
   "metadata": {},
   "outputs": [
    {
     "data": {
      "text/html": [
       "\n",
       "<div id=\"altair-viz-c8e9ac47e5e24ea294e4d2ae2318ec78\"></div>\n",
       "<script type=\"text/javascript\">\n",
       "  var VEGA_DEBUG = (typeof VEGA_DEBUG == \"undefined\") ? {} : VEGA_DEBUG;\n",
       "  (function(spec, embedOpt){\n",
       "    let outputDiv = document.currentScript.previousElementSibling;\n",
       "    if (outputDiv.id !== \"altair-viz-c8e9ac47e5e24ea294e4d2ae2318ec78\") {\n",
       "      outputDiv = document.getElementById(\"altair-viz-c8e9ac47e5e24ea294e4d2ae2318ec78\");\n",
       "    }\n",
       "    const paths = {\n",
       "      \"vega\": \"https://cdn.jsdelivr.net/npm//vega@5?noext\",\n",
       "      \"vega-lib\": \"https://cdn.jsdelivr.net/npm//vega-lib?noext\",\n",
       "      \"vega-lite\": \"https://cdn.jsdelivr.net/npm//vega-lite@4.17.0?noext\",\n",
       "      \"vega-embed\": \"https://cdn.jsdelivr.net/npm//vega-embed@6?noext\",\n",
       "    };\n",
       "\n",
       "    function maybeLoadScript(lib, version) {\n",
       "      var key = `${lib.replace(\"-\", \"\")}_version`;\n",
       "      return (VEGA_DEBUG[key] == version) ?\n",
       "        Promise.resolve(paths[lib]) :\n",
       "        new Promise(function(resolve, reject) {\n",
       "          var s = document.createElement('script');\n",
       "          document.getElementsByTagName(\"head\")[0].appendChild(s);\n",
       "          s.async = true;\n",
       "          s.onload = () => {\n",
       "            VEGA_DEBUG[key] = version;\n",
       "            return resolve(paths[lib]);\n",
       "          };\n",
       "          s.onerror = () => reject(`Error loading script: ${paths[lib]}`);\n",
       "          s.src = paths[lib];\n",
       "        });\n",
       "    }\n",
       "\n",
       "    function showError(err) {\n",
       "      outputDiv.innerHTML = `<div class=\"error\" style=\"color:red;\">${err}</div>`;\n",
       "      throw err;\n",
       "    }\n",
       "\n",
       "    function displayChart(vegaEmbed) {\n",
       "      vegaEmbed(outputDiv, spec, embedOpt)\n",
       "        .catch(err => showError(`Javascript Error: ${err.message}<br>This usually means there's a typo in your chart specification. See the javascript console for the full traceback.`));\n",
       "    }\n",
       "\n",
       "    if(typeof define === \"function\" && define.amd) {\n",
       "      requirejs.config({paths});\n",
       "      require([\"vega-embed\"], displayChart, err => showError(`Error loading script: ${err.message}`));\n",
       "    } else {\n",
       "      maybeLoadScript(\"vega\", \"5\")\n",
       "        .then(() => maybeLoadScript(\"vega-lite\", \"4.17.0\"))\n",
       "        .then(() => maybeLoadScript(\"vega-embed\", \"6\"))\n",
       "        .catch(showError)\n",
       "        .then(() => displayChart(vegaEmbed));\n",
       "    }\n",
       "  })({\"config\": {\"view\": {\"continuousWidth\": 400, \"continuousHeight\": 300}}, \"data\": {\"name\": \"data-217939cc0de1cd7033ece75ebbe6d0d1\"}, \"mark\": \"bar\", \"encoding\": {\"x\": {\"field\": \"District\", \"type\": \"quantitative\"}, \"y\": {\"field\": \"total_service_hours\", \"type\": \"quantitative\"}}, \"$schema\": \"https://vega.github.io/schema/vega-lite/v4.17.0.json\", \"datasets\": {\"data-217939cc0de1cd7033ece75ebbe6d0d1\": [{\"District\": 1, \"total_service_hours\": 685.0, \"unique_route\": 57, \"pct_total_service_hours\": 1.3, \"pct_unique_route\": 3.0}, {\"District\": 2, \"total_service_hours\": 417.0, \"unique_route\": 45, \"pct_total_service_hours\": 0.8, \"pct_unique_route\": 2.4}, {\"District\": 3, \"total_service_hours\": 2215.0, \"unique_route\": 142, \"pct_total_service_hours\": 4.1, \"pct_unique_route\": 7.6}, {\"District\": 4, \"total_service_hours\": 25825.0, \"unique_route\": 708, \"pct_total_service_hours\": 47.4, \"pct_unique_route\": 37.8}, {\"District\": 5, \"total_service_hours\": 1419.0, \"unique_route\": 89, \"pct_total_service_hours\": 2.6, \"pct_unique_route\": 4.8}, {\"District\": 6, \"total_service_hours\": 1296.0, \"unique_route\": 70, \"pct_total_service_hours\": 2.4, \"pct_unique_route\": 3.7}, {\"District\": 7, \"total_service_hours\": 10187.0, \"unique_route\": 404, \"pct_total_service_hours\": 18.7, \"pct_unique_route\": 21.6}, {\"District\": 8, \"total_service_hours\": 2032.0, \"unique_route\": 76, \"pct_total_service_hours\": 3.7, \"pct_unique_route\": 4.1}, {\"District\": 9, \"total_service_hours\": 208.0, \"unique_route\": 20, \"pct_total_service_hours\": 0.4, \"pct_unique_route\": 1.1}, {\"District\": 10, \"total_service_hours\": 1193.0, \"unique_route\": 82, \"pct_total_service_hours\": 2.2, \"pct_unique_route\": 4.4}, {\"District\": 11, \"total_service_hours\": 4891.0, \"unique_route\": 97, \"pct_total_service_hours\": 9.0, \"pct_unique_route\": 5.2}, {\"District\": 12, \"total_service_hours\": 4112.0, \"unique_route\": 83, \"pct_total_service_hours\": 7.5, \"pct_unique_route\": 4.4}]}}, {\"mode\": \"vega-lite\"});\n",
       "</script>"
      ],
      "text/plain": [
       "alt.Chart(...)"
      ]
     },
     "execution_count": 17,
     "metadata": {},
     "output_type": "execute_result"
    }
   ],
   "source": [
    "import altair as alt\n",
    "\n",
    "(alt.Chart(by_district)\n",
    " .mark_bar()\n",
    " .encode(\n",
    "     x=\"District\",\n",
    "     y=\"total_service_hours\"\n",
    " )\n",
    ")"
   ]
  },
  {
   "cell_type": "code",
   "execution_count": null,
   "id": "f059b1ce-6ac1-42d8-a960-c651378abc42",
   "metadata": {},
   "outputs": [],
   "source": [
    "# From previous step, some itp_ids had multiple urls\n",
    "# But, there was some difference in shape_id, route_id, so it's ok\n",
    "# Keep all those obs\n",
    "stats = shared_utils.geography_utils.aggregate_by_geography(\n",
    "    trips2, \n",
    "    group_cols = [\"itp_id\", \"route_id\"],\n",
    "    sum_cols = [\"total_service_hours\"],\n",
    ")\n",
    "\n",
    "stats.head()"
   ]
  },
  {
   "cell_type": "code",
   "execution_count": null,
   "id": "4ae253c8-8fdd-408b-a42b-32bdadfce434",
   "metadata": {},
   "outputs": [],
   "source": [
    "stats.total_service_hours.sum()"
   ]
  },
  {
   "cell_type": "markdown",
   "id": "5892b133-d316-4893-9e37-92b97ef9bd30",
   "metadata": {},
   "source": [
    "Now pull out service hours for parallel routes using `shape_id`.\n",
    "\n",
    "Caveat:\n",
    "* There are probably some `shape_ids` we can't find in `routes_assembled`\n",
    "* Can either exclude and they are not parallel, just count as intersecting for the all intersecting.\n",
    "* Or, can go back to `gtfs_schedule.shapes` to see if it can be found, and determine whether it's parallel or not\n",
    "* Finding it in `gtfs_schedule.shapes` can be iffy because it's always current, and we are setting a typical weekday in the past. We still may not find all of it. It may be a closer estimate, but excluding them from being parallel maybe is a cleaner approach, and allows us to treat edge cases the same.\n",
    "\n",
    "\n",
    "### Rerun routes_assembled\n",
    "\n",
    "Do it with `gtfs_schedule.shapes` because we're losing quite a bit of routes, even when it's parallel. \n",
    "\n",
    "1. Make new `routes_assembled`\n",
    "1. Run the new `routes_assembled` through `create_parallel_corridors` to tag parallel\n",
    "routes with 1 mile buffer\n",
    "1. Run new `routes_assembled` through to tag parallel corridors with 50 ft buffer to grab intersecting subset\n",
    "1. Grab service hours for parallel, intersecting subset, other intersecting (not parallel). Together, this should be 100%"
   ]
  },
  {
   "cell_type": "code",
   "execution_count": null,
   "id": "89d65f16-06da-420e-857a-fd7bfa3fe138",
   "metadata": {},
   "outputs": [],
   "source": [
    "gdf = gpd.read_parquet(\n",
    "    \"./data/parallel_or_intersecting_2022-03-02.parquet\")"
   ]
  },
  {
   "cell_type": "code",
   "execution_count": null,
   "id": "6d9b779e-0efe-4938-8d01-02ebf7234643",
   "metadata": {},
   "outputs": [],
   "source": [
    "parallel = gdf[gdf.parallel==1].reset_index(drop=True)"
   ]
  },
  {
   "cell_type": "code",
   "execution_count": null,
   "id": "d555336a-9538-4491-80ae-b1cd54fa5e43",
   "metadata": {},
   "outputs": [],
   "source": [
    "parallel.head(2)"
   ]
  },
  {
   "cell_type": "code",
   "execution_count": null,
   "id": "37b40f40-c808-4071-84d2-9daa73650629",
   "metadata": {},
   "outputs": [],
   "source": [
    "trips2.head()"
   ]
  },
  {
   "cell_type": "code",
   "execution_count": null,
   "id": "e6da5f81-7b57-42e8-8b35-eddb62f2e92a",
   "metadata": {},
   "outputs": [],
   "source": [
    "trips3 = pd.merge(\n",
    "    parallel.drop(columns = \"shape_id\").drop_duplicates(),\n",
    "    stats,\n",
    "    on = [\"itp_id\", \"route_id\"],\n",
    "    how = \"left\", \n",
    "    # m:1 because the transit route can intersect with multiple highways\n",
    "    validate = \"m:1\",\n",
    ")"
   ]
  },
  {
   "cell_type": "code",
   "execution_count": null,
   "id": "58fd81e5-1240-4811-8a97-be3004849307",
   "metadata": {},
   "outputs": [],
   "source": [
    "keep_cols = [\"itp_id\", \"route_id\", \"total_service_hours\"]\n",
    "trips4 = trips3[keep_cols].drop_duplicates()\n",
    "\n",
    "shared_utils.geography_utils.aggregate_by_geography(\n",
    "    trips4,\n",
    "    group_cols = [\"itp_id\"],\n",
    "    sum_cols = [\"total_service_hours\"],\n",
    "    nunique_cols = [\"route_id\"]\n",
    ")"
   ]
  },
  {
   "cell_type": "code",
   "execution_count": null,
   "id": "fe7dc264-7e88-4ce7-a15b-735593b08bb2",
   "metadata": {},
   "outputs": [],
   "source": [
    "shared_utils.geography_utils.aggregate_by_geography(\n",
    "    trips4.assign(group=\"All\"),\n",
    "    group_cols = [\"group\"],\n",
    "    sum_cols = [\"total_service_hours\"],\n",
    "    nunique_cols = [\"route_id\", \"itp_id\"]\n",
    ")"
   ]
  },
  {
   "cell_type": "code",
   "execution_count": null,
   "id": "fb852f94-23ea-40e6-b553-22d4a53b928e",
   "metadata": {},
   "outputs": [],
   "source": [
    "# How many parallel routes for each district?\n",
    "shared_utils.geography_utils.aggregate_by_geography(\n",
    "    parallel,\n",
    "    group_cols = [\"District\"],\n",
    "    nunique_cols = [\"itp_id\", \"route_id\"]\n",
    ").sort_values(\"District\").astype(int)"
   ]
  },
  {
   "cell_type": "markdown",
   "id": "183e57c0-3cd7-4072-8582-f36152a68e59",
   "metadata": {},
   "source": [
    "Build a file that is all routes, and flags it if it is parallel, somewhat intersects SHN, and not parallel. 3 groups are mutually exclusive."
   ]
  },
  {
   "cell_type": "code",
   "execution_count": null,
   "id": "268b2de6-ac4a-4b0f-bb03-4a412f9ef864",
   "metadata": {},
   "outputs": [],
   "source": []
  },
  {
   "cell_type": "code",
   "execution_count": null,
   "id": "378a7f37-3a7a-4ad0-a228-89b21408b5d8",
   "metadata": {},
   "outputs": [],
   "source": []
  },
  {
   "cell_type": "code",
   "execution_count": null,
   "id": "2f7bec51-a7f0-492c-84b8-5a153a16798d",
   "metadata": {},
   "outputs": [],
   "source": []
  },
  {
   "cell_type": "code",
   "execution_count": null,
   "id": "6c579411-4f19-47b3-a599-a69c738bac68",
   "metadata": {},
   "outputs": [],
   "source": [
    "final2.head()"
   ]
  },
  {
   "cell_type": "code",
   "execution_count": null,
   "id": "e8945277-a9a2-486c-824b-a84de12e51cf",
   "metadata": {},
   "outputs": [],
   "source": [
    "final2[final2.District.isna()].route_id.nunique()"
   ]
  },
  {
   "cell_type": "code",
   "execution_count": null,
   "id": "aef71698-0808-46aa-b2c5-1baa1a2514ad",
   "metadata": {},
   "outputs": [],
   "source": [
    "final2.category.value_counts()"
   ]
  },
  {
   "cell_type": "code",
   "execution_count": null,
   "id": "27bf2a64-97d2-4e23-b3f5-f660048c1430",
   "metadata": {},
   "outputs": [],
   "source": [
    "shared_utils.geography_utils.aggregate_by_geography(\n",
    "    final2,\n",
    "    group_cols = [\"category\"],\n",
    "    sum_cols = [\"total_service_hours\"],\n",
    "    nunique_cols = [\"route_id\", \"itp_id\"]\n",
    ")"
   ]
  },
  {
   "cell_type": "code",
   "execution_count": null,
   "id": "fc8eeeb4-87f9-447a-a323-e45a8b691537",
   "metadata": {},
   "outputs": [],
   "source": [
    "# There are cases where we don't have shape_id, and so it go lost\n",
    "# when it was joined to highways (where we got district info)\n",
    "# Either way, the full table doesn't have shape?\n",
    "# Because these were joined to route_info, and obs fell off\n",
    "# Maybe this has to be a caveat then\n",
    "final2[final2.District.isna()].category.value_counts()"
   ]
  },
  {
   "cell_type": "code",
   "execution_count": null,
   "id": "657a51b4-d23a-4901-b192-d3de36ab4316",
   "metadata": {},
   "outputs": [],
   "source": [
    "'''\n",
    "SELECTED_DATE = \"2022-2-8\"\n",
    "\n",
    "tbl_stop_times = (\n",
    "    tbl.views.gtfs_schedule_dim_stop_times()\n",
    "    >> filter(_.calitp_extracted_at <= SELECTED_DATE, \n",
    "              _.calitp_deleted_at > SELECTED_DATE, \n",
    "             )\n",
    ")\n",
    "\n",
    "\n",
    "daily_trips = (\n",
    "    tbl.views.gtfs_schedule_fact_daily_trips()\n",
    "    >> filter(_.service_date == SELECTED_DATE, \n",
    "          _.is_in_service == True)\n",
    "    >> left_join(_, tbl_stop_times,\n",
    "              # also added url number to the join keys ----\n",
    "             [\"calitp_itp_id\", \"calitp_url_number\", \"trip_id\"])\n",
    "    >> select(_.calitp_itp_id,\n",
    "           _.trip_id, _.route_id,  \n",
    "           _.service_hours\n",
    "          )    \n",
    "    >> distinct()\n",
    "    >> collect()\n",
    ")\n",
    "'''"
   ]
  },
  {
   "cell_type": "code",
   "execution_count": null,
   "id": "50c55eea-91b9-446a-b062-405a38588dd5",
   "metadata": {},
   "outputs": [],
   "source": []
  },
  {
   "cell_type": "code",
   "execution_count": null,
   "id": "e0e2d656-16ec-4280-b74b-86844dcc490b",
   "metadata": {},
   "outputs": [],
   "source": []
  }
 ],
 "metadata": {
  "kernelspec": {
   "display_name": "Python 3 (ipykernel)",
   "language": "python",
   "name": "python3"
  },
  "language_info": {
   "codemirror_mode": {
    "name": "ipython",
    "version": 3
   },
   "file_extension": ".py",
   "mimetype": "text/x-python",
   "name": "python",
   "nbconvert_exporter": "python",
   "pygments_lexer": "ipython3",
   "version": "3.9.7"
  }
 },
 "nbformat": 4,
 "nbformat_minor": 5
}
