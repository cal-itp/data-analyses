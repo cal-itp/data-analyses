{
 "cells": [
  {
   "cell_type": "markdown",
   "id": "aba3b0aa-73bf-4a8d-b4ee-64ecc98196fc",
   "metadata": {},
   "source": [
    "# PMAC presentation\n",
    "\n",
    "**PO-1: increase total amount of service on the SHN and reliability of that service by 2024**\n",
    "\n",
    "Typical weekday: 2/8/22\n",
    "\n",
    "1. Routes on SHN\n",
    "a. parallel routes (1 mi corridor) - how many routes, agencies, share of all CA transit agency-routes?\n",
    "b. intersecting routes (everything not parallel) - how many routes, agencies, share of all CA transit agency-routes?\n",
    "c. intersecting routes (not parallel, but actually travel on SHN (50 ft buffer) for some portion of that route) - subset of above, how many routes, agencies, share of all CA agency-routes?\n",
    "\n",
    "2. How many routes on SHN, breakdown by district\n",
    "3. How many service hours are scheduled for a typical weekday for (1)?\n",
    "4. How many of these agencies that have parallel routes on SHN also have GTFS RT?\n",
    "Use `isin` and find `itp_id`, not route-specific, because most agencies that provide GTFS RT do it for the majority of their routes."
   ]
  },
  {
   "cell_type": "code",
   "execution_count": 1,
   "id": "792ee3df-ebcb-4bf7-a7f2-f7f903efe126",
   "metadata": {},
   "outputs": [
    {
     "name": "stderr",
     "output_type": "stream",
     "text": [
      "/opt/conda/lib/python3.9/site-packages/geopandas/_compat.py:111: UserWarning: The Shapely GEOS version (3.9.1-CAPI-1.14.2) is incompatible with the GEOS version PyGEOS was compiled with (3.10.1-CAPI-1.16.0). Conversions between both will be slow.\n",
      "  warnings.warn(\n"
     ]
    }
   ],
   "source": [
    "#https://stackoverflow.com/questions/55162077/how-to-get-the-driving-distance-between-two-geographical-coordinates-using-pytho\n",
    "import altair as alt\n",
    "import altair_saver\n",
    "import geopandas as gpd\n",
    "import os\n",
    "import pandas as pd\n",
    "\n",
    "os.environ[\"CALITP_BQ_MAX_BYTES\"] = str(130_000_000_000)\n",
    "\n",
    "from calitp.tables import tbl\n",
    "from calitp import query_sql\n",
    "from siuba import *\n",
    "\n",
    "from shared_utils import geography_utils, styleguide\n",
    "from shared_utils import calitp_color_palette as cp \n",
    "import utils\n",
    "\n",
    "alt.renderers.enable('altair_saver', fmts=['png'])\n",
    "pd.options.display.float_format = '{:,}'.format"
   ]
  },
  {
   "cell_type": "code",
   "execution_count": 2,
   "id": "843592cb-29bf-4c69-8d49-cd4cdce96f16",
   "metadata": {},
   "outputs": [
    {
     "data": {
      "text/plain": [
       "'\\nSELECTED_DATE = \"2022-2-8\"\\n\\ntrip_cols = [\"calitp_itp_id\", \"calitp_url_number\", \"route_id\", \"shape_id\"]\\n\\n\\ndim_trips = (tbl.views.gtfs_schedule_dim_trips()\\n             >> select(*trip_cols, _.trip_key)\\n             >> distinct()\\n            )\\n\\ntrips = (tbl.views.gtfs_schedule_fact_daily_trips()\\n         >> filter(_.service_date == SELECTED_DATE, \\n                   _.is_in_service==True)\\n         >> select(_.trip_key, _.service_date, _.service_hours)\\n         >> inner_join(_, dim_trips, on = \"trip_key\")\\n         >> group_by(_.calitp_itp_id, _.calitp_url_number, _.shape_id, _.route_id)\\n         >> mutate(total_service_hours = _.service_hours.sum())\\n         >> select(*trip_cols, _.total_service_hours)\\n         >> distinct()\\n         >> rename(itp_id = \"calitp_itp_id\")\\n         >> collect()\\n        )\\n'"
      ]
     },
     "execution_count": 2,
     "metadata": {},
     "output_type": "execute_result"
    }
   ],
   "source": [
    "'''\n",
    "SELECTED_DATE = \"2022-2-8\"\n",
    "\n",
    "trip_cols = [\"calitp_itp_id\", \"calitp_url_number\", \"route_id\", \"shape_id\"]\n",
    "\n",
    "\n",
    "dim_trips = (tbl.views.gtfs_schedule_dim_trips()\n",
    "             >> select(*trip_cols, _.trip_key)\n",
    "             >> distinct()\n",
    "            )\n",
    "\n",
    "trips = (tbl.views.gtfs_schedule_fact_daily_trips()\n",
    "         >> filter(_.service_date == SELECTED_DATE, \n",
    "                   _.is_in_service==True)\n",
    "         >> select(_.trip_key, _.service_date, _.service_hours)\n",
    "         >> inner_join(_, dim_trips, on = \"trip_key\")\n",
    "         >> group_by(_.calitp_itp_id, _.calitp_url_number, _.shape_id, _.route_id)\n",
    "         >> mutate(total_service_hours = _.service_hours.sum())\n",
    "         >> select(*trip_cols, _.total_service_hours)\n",
    "         >> distinct()\n",
    "         >> rename(itp_id = \"calitp_itp_id\")\n",
    "         >> collect()\n",
    "        )\n",
    "'''"
   ]
  },
  {
   "cell_type": "code",
   "execution_count": 3,
   "id": "9b4769d1-f48d-452c-b90d-b6c3cb1b08fe",
   "metadata": {},
   "outputs": [
    {
     "data": {
      "text/html": [
       "<div>\n",
       "<style scoped>\n",
       "    .dataframe tbody tr th:only-of-type {\n",
       "        vertical-align: middle;\n",
       "    }\n",
       "\n",
       "    .dataframe tbody tr th {\n",
       "        vertical-align: top;\n",
       "    }\n",
       "\n",
       "    .dataframe thead th {\n",
       "        text-align: right;\n",
       "    }\n",
       "</style>\n",
       "<table border=\"1\" class=\"dataframe\">\n",
       "  <thead>\n",
       "    <tr style=\"text-align: right;\">\n",
       "      <th></th>\n",
       "      <th>itp_id</th>\n",
       "      <th>calitp_url_number</th>\n",
       "      <th>route_id</th>\n",
       "      <th>shape_id</th>\n",
       "      <th>total_service_hours</th>\n",
       "    </tr>\n",
       "  </thead>\n",
       "  <tbody>\n",
       "    <tr>\n",
       "      <th>0</th>\n",
       "      <td>4</td>\n",
       "      <td>1</td>\n",
       "      <td>650</td>\n",
       "      <td>shp-650-08</td>\n",
       "      <td>0.8166666666666667</td>\n",
       "    </tr>\n",
       "    <tr>\n",
       "      <th>1</th>\n",
       "      <td>16</td>\n",
       "      <td>0</td>\n",
       "      <td>50</td>\n",
       "      <td>5607_shp</td>\n",
       "      <td>7.3999999999999995</td>\n",
       "    </tr>\n",
       "  </tbody>\n",
       "</table>\n",
       "</div>"
      ],
      "text/plain": [
       "   itp_id  calitp_url_number route_id    shape_id  total_service_hours\n",
       "0       4                  1      650  shp-650-08   0.8166666666666667\n",
       "1      16                  0       50    5607_shp   7.3999999999999995"
      ]
     },
     "execution_count": 3,
     "metadata": {},
     "output_type": "execute_result"
    }
   ],
   "source": [
    "#trips.to_parquet(\"./data/trips_service_hours.parquet\")\n",
    "trips = pd.read_parquet(f\"{utils.DATA_PATH}trips_service_hours.parquet\")\n",
    "trips.head(2)"
   ]
  },
  {
   "cell_type": "code",
   "execution_count": 4,
   "id": "713607cb-3c8d-4d80-9a5f-8de2335087a8",
   "metadata": {},
   "outputs": [
    {
     "name": "stdout",
     "output_type": "stream",
     "text": [
      "# obs in original df: 10211\n",
      "# obs in new df: 7887\n",
      "These operators have multiple calitp_url_number values: [56, 61, 106, 110, 127, 167, 182, 194, 246, 247, 264, 279, 280, 282, 290, 294, 314, 315, 350, 356, 368]\n"
     ]
    }
   ],
   "source": [
    "trips2 = utils.include_exclude_multiple_feeds(trips, id_col = \"itp_id\",\n",
    "                                     include_ids = [182],\n",
    "                                     exclude_ids = [200]\n",
    "                                    )"
   ]
  },
  {
   "cell_type": "markdown",
   "id": "6487cf09-4f13-4ed9-b11d-667c3bca25d7",
   "metadata": {},
   "source": [
    "Now pull out service hours for parallel routes using `shape_id`.\n",
    "\n",
    "Caveat:\n",
    "* There are probably some `shape_ids` we can't find in January `routes_assembled`\n",
    "* Can either exclude and they are not parallel, just count as intersecting for the all intersecting.\n",
    "* Or, can go back to `gtfs_schedule.shapes` to see if it can be found, and determine whether it's parallel or not\n",
    "* Finding it in `gtfs_schedule.shapes` can be iffy because it's always current, and we are setting a typical weekday in the past. We still may not find all of it. It may be a closer estimate, but excluding them from being parallel maybe is a cleaner approach, and allows us to treat edge cases the same.\n",
    "\n",
    "\n",
    "### Rerun routes_assembled\n",
    "\n",
    "Do it with `gtfs_schedule.shapes` because we're losing quite a bit of routes, even when it's parallel. \n",
    "\n",
    "1. Make new `routes_assembled`\n",
    "1. Run the new `routes_assembled` through `create_parallel_corridors` to tag parallel\n",
    "routes with 1 mile buffer\n",
    "1. Run new `routes_assembled` through to tag parallel corridors with 50 ft buffer to grab intersecting subset\n",
    "1. Grab service hours for parallel, intersecting subset, other intersecting (not parallel). Together, this should be 100%\n",
    "\n",
    "**Run routes assembled for 3/2/22** ..hope this matches better than Jan against the 2/8/22 service date. Conclusion: it doesn't, so let's just exclude `shape_id` and use `route_id`, because that's slightly more aggregate, and those should be way more consistent.\n",
    "\n",
    "Build a file that is all routes, and flags it if it is parallel, somewhat intersects SHN, and not parallel. 3 groups are mutually exclusive."
   ]
  },
  {
   "cell_type": "code",
   "execution_count": 5,
   "id": "69b1df49-3f69-428d-85b2-3c59df9fbd30",
   "metadata": {},
   "outputs": [],
   "source": [
    "df = geography_utils.aggregate_by_geography(\n",
    "    trips2,\n",
    "    group_cols = [\"itp_id\" , \"route_id\"],\n",
    "    # this is a choice to sum up service hours if they have same route_id\n",
    "    # but different shape_id\n",
    "    sum_cols = [\"total_service_hours\"]\n",
    ")"
   ]
  },
  {
   "cell_type": "code",
   "execution_count": 6,
   "id": "bff21f8d-255d-4365-b4a2-e30f3d082838",
   "metadata": {},
   "outputs": [],
   "source": [
    "def flag_parallel_intersecting_routes(df):\n",
    "    # If it is parallel, we want to flag as 1\n",
    "    parallel = gpd.read_parquet(\n",
    "        f\"{utils.DATA_PATH}parallel_or_intersecting_2022-03-02.parquet\")\n",
    "    \n",
    "    # Attach district info for routes, wherever possible\n",
    "    df = pd.merge(df,\n",
    "                  (parallel[[\"itp_id\", \"route_id\", \"District\"]]\n",
    "                   .astype({\"District\": \"Int64\"})\n",
    "                  .drop_duplicates(subset=[\"itp_id\", \"route_id\"])),\n",
    "                  on = [\"itp_id\", \"route_id\"],\n",
    "                  how = \"left\",\n",
    "                  validate = \"1:1\"\n",
    "                 )\n",
    "    \n",
    "    parallel = parallel[parallel.parallel==1]\n",
    "    \n",
    "    # These are routes that have some part on SHN\n",
    "    # BUT, there is overlap between the parallel\n",
    "    # Since the requirements here are less stringent than parallel\n",
    "    # So, remove those that are already parallel\n",
    "    on_shn = gpd.read_parquet(\n",
    "        f\"{utils.DATA_PATH}routes_on_shn_2022-03-02.parquet\"\n",
    "    )\n",
    "    \n",
    "    # Get it down to unique route (instead of with highway info)\n",
    "    def get_unique_routes(df):\n",
    "        # If there are multiple shape_ids for route_id,\n",
    "        # Keep the one where it's has higher overlap with SHN\n",
    "        df = (df.sort_values([\"itp_id\", \"route_id\", \"pct_route\", \"shape_id\"],\n",
    "                             ascending=[True, True, False, True],\n",
    "                            )\n",
    "                    .drop_duplicates(subset=[\"itp_id\", \"route_id\"])\n",
    "                    [[\"itp_id\", \"route_id\", \"parallel\"]]\n",
    "                    .reset_index(drop=True)\n",
    "                   )\n",
    "        return df\n",
    "    \n",
    "    parallel2 = get_unique_routes(parallel)\n",
    "    on_shn2 = get_unique_routes(on_shn)\n",
    "    on_shn2 = on_shn2.assign(\n",
    "        on_shn = 1,\n",
    "    ).drop(columns = \"parallel\")\n",
    "    \n",
    "    m1 = pd.merge(df, \n",
    "                  parallel2,\n",
    "                  on = [\"itp_id\", \"route_id\"],\n",
    "                  how = \"left\",\n",
    "                  validate = \"1:1\"\n",
    "    )\n",
    "    \n",
    "    m2 = pd.merge(m1,\n",
    "                  on_shn2,\n",
    "                  on = [\"itp_id\", \"route_id\"],\n",
    "                  how = \"left\",\n",
    "                  validate = \"1:1\"\n",
    "    )\n",
    "\n",
    "    return m2"
   ]
  },
  {
   "cell_type": "code",
   "execution_count": 7,
   "id": "905aca7d-df3d-422c-af29-369c6859b142",
   "metadata": {},
   "outputs": [],
   "source": [
    "def mutually_exclusive_groups(df):\n",
    "    # Now, force mutual exclusivity\n",
    "    def make_mutually_exclusive(row):\n",
    "        if row.parallel==1:\n",
    "            return \"parallel\"\n",
    "        elif row.on_shn==1:\n",
    "            return \"on_shn\"\n",
    "        else:\n",
    "            return \"other\"\n",
    "    \n",
    "    df[\"category\"] = df.apply(lambda x: make_mutually_exclusive(x), axis=1)\n",
    "    \n",
    "    df2 = df.assign(\n",
    "        is_parallel = df.apply(lambda x: \n",
    "                               1 if x.category == \"parallel\" else 0, axis=1),\n",
    "        is_on_shn = df.apply(lambda x: \n",
    "                             1 if x.category == \"on_shn\" else 0, axis=1),\n",
    "        is_other = df.apply(lambda x: \n",
    "                            1 if x.category == \"other\" else 0, axis=1),\n",
    "        # Create a column that can be summed across categories\n",
    "        # since group_col will include category, and nunique(route_id) double-counts\n",
    "        unique_route = 1\n",
    "    ).drop(columns = [\"parallel\", \"on_shn\"])\n",
    "    \n",
    "    return df2"
   ]
  },
  {
   "cell_type": "code",
   "execution_count": 8,
   "id": "b4a42281-b98d-4a96-8caa-ff8c9928ae14",
   "metadata": {},
   "outputs": [],
   "source": [
    "df = flag_parallel_intersecting_routes(df)\n",
    "df = mutually_exclusive_groups(df)"
   ]
  },
  {
   "cell_type": "code",
   "execution_count": 9,
   "id": "dac200f3-d6b8-4fae-920e-79c061be8ba8",
   "metadata": {},
   "outputs": [],
   "source": [
    "# I think this is the initial table\n",
    "# Get it summarized to # and %\n",
    "summary = geography_utils.aggregate_by_geography(\n",
    "    df, \n",
    "    group_cols = [\"category\"],\n",
    "    sum_cols = [\"total_service_hours\", \"unique_route\"],\n",
    ")"
   ]
  },
  {
   "cell_type": "code",
   "execution_count": 10,
   "id": "34ff7b18-8fde-4d03-94cb-890d4c7e87a2",
   "metadata": {},
   "outputs": [],
   "source": [
    "# Add percents\n",
    "def add_percent(df, col_list):\n",
    "    for c in col_list:\n",
    "        new_col = f\"pct_{c}\"\n",
    "        df[new_col] = (df[c] / df[c].sum()).round(3) * 100\n",
    "        df[c] = df[c].round(0)\n",
    "        \n",
    "    return df\n",
    "\n",
    "# route_id....well, unique route_id is not exactlyy the same as is_parallel,\n",
    "# is_on_shn, is_other\n",
    "# Maybe stick with that to be consistent\n",
    "#add_percent(t1, \"route_id\")"
   ]
  },
  {
   "cell_type": "code",
   "execution_count": 11,
   "id": "4695f1ed-7ee3-4adf-a1fb-62fe49a42946",
   "metadata": {},
   "outputs": [
    {
     "data": {
      "text/html": [
       "<div>\n",
       "<style scoped>\n",
       "    .dataframe tbody tr th:only-of-type {\n",
       "        vertical-align: middle;\n",
       "    }\n",
       "\n",
       "    .dataframe tbody tr th {\n",
       "        vertical-align: top;\n",
       "    }\n",
       "\n",
       "    .dataframe thead th {\n",
       "        text-align: right;\n",
       "    }\n",
       "</style>\n",
       "<table border=\"1\" class=\"dataframe\">\n",
       "  <thead>\n",
       "    <tr style=\"text-align: right;\">\n",
       "      <th></th>\n",
       "      <th>category</th>\n",
       "      <th>unique_route</th>\n",
       "      <th>pct_unique_route</th>\n",
       "      <th>total_service_hours</th>\n",
       "      <th>pct_total_service_hours</th>\n",
       "    </tr>\n",
       "  </thead>\n",
       "  <tbody>\n",
       "    <tr>\n",
       "      <th>0</th>\n",
       "      <td>parallel</td>\n",
       "      <td>1873</td>\n",
       "      <td>66.9</td>\n",
       "      <td>54,480.0</td>\n",
       "      <td>55.1</td>\n",
       "    </tr>\n",
       "    <tr>\n",
       "      <th>1</th>\n",
       "      <td>on_shn</td>\n",
       "      <td>620</td>\n",
       "      <td>22.2</td>\n",
       "      <td>14,389.0</td>\n",
       "      <td>14.6</td>\n",
       "    </tr>\n",
       "    <tr>\n",
       "      <th>2</th>\n",
       "      <td>other</td>\n",
       "      <td>305</td>\n",
       "      <td>10.9</td>\n",
       "      <td>30,020.0</td>\n",
       "      <td>30.4</td>\n",
       "    </tr>\n",
       "  </tbody>\n",
       "</table>\n",
       "</div>"
      ],
      "text/plain": [
       "   category  unique_route  pct_unique_route  total_service_hours  \\\n",
       "0  parallel          1873              66.9             54,480.0   \n",
       "1    on_shn           620              22.2             14,389.0   \n",
       "2     other           305              10.9             30,020.0   \n",
       "\n",
       "   pct_total_service_hours  \n",
       "0                     55.1  \n",
       "1                     14.6  \n",
       "2                     30.4  "
      ]
     },
     "execution_count": 11,
     "metadata": {},
     "output_type": "execute_result"
    }
   ],
   "source": [
    "summary = add_percent(summary, [\"total_service_hours\", \"unique_route\"])\n",
    "\n",
    "col_order = ['category', 'unique_route', 'pct_unique_route',\n",
    "             'total_service_hours', 'pct_total_service_hours'\n",
    "            ]\n",
    "\n",
    "summary[col_order]"
   ]
  },
  {
   "cell_type": "code",
   "execution_count": 12,
   "id": "30f3ccbf-b9e6-49a8-9cf7-ec03e34524e4",
   "metadata": {},
   "outputs": [
    {
     "data": {
      "text/html": [
       "<div>\n",
       "<style scoped>\n",
       "    .dataframe tbody tr th:only-of-type {\n",
       "        vertical-align: middle;\n",
       "    }\n",
       "\n",
       "    .dataframe tbody tr th {\n",
       "        vertical-align: top;\n",
       "    }\n",
       "\n",
       "    .dataframe thead th {\n",
       "        text-align: right;\n",
       "    }\n",
       "</style>\n",
       "<table border=\"1\" class=\"dataframe\">\n",
       "  <thead>\n",
       "    <tr style=\"text-align: right;\">\n",
       "      <th></th>\n",
       "      <th>category</th>\n",
       "      <th>total_service_hours</th>\n",
       "      <th>unique_route</th>\n",
       "    </tr>\n",
       "  </thead>\n",
       "  <tbody>\n",
       "    <tr>\n",
       "      <th>0</th>\n",
       "      <td>All</td>\n",
       "      <td>98,889.0</td>\n",
       "      <td>2798</td>\n",
       "    </tr>\n",
       "  </tbody>\n",
       "</table>\n",
       "</div>"
      ],
      "text/plain": [
       "  category  total_service_hours  unique_route\n",
       "0      All             98,889.0          2798"
      ]
     },
     "execution_count": 12,
     "metadata": {},
     "output_type": "execute_result"
    }
   ],
   "source": [
    "geography_utils.aggregate_by_geography(\n",
    "    summary.assign(category=\"All\"),\n",
    "    group_cols = [\"category\"],\n",
    "    sum_cols = [\"unique_route\", \"total_service_hours\"]\n",
    ")"
   ]
  },
  {
   "cell_type": "code",
   "execution_count": 13,
   "id": "c3e135dd-c034-4dcc-ad82-09c77aab21d5",
   "metadata": {},
   "outputs": [
    {
     "data": {
      "text/plain": [
       "other     305\n",
       "on_shn     64\n",
       "Name: category, dtype: int64"
      ]
     },
     "execution_count": 13,
     "metadata": {},
     "output_type": "execute_result"
    }
   ],
   "source": [
    "# Where district is missing, it's not parallel routes\n",
    "# So let's ignore those sections and focus on just parallel and do breakdown\n",
    "df[(df.District.isna())].category.value_counts()"
   ]
  },
  {
   "cell_type": "code",
   "execution_count": 14,
   "id": "c55917d7-09c4-41e9-8b2b-a21cb8529fbf",
   "metadata": {},
   "outputs": [
    {
     "data": {
      "text/html": [
       "<div>\n",
       "<style scoped>\n",
       "    .dataframe tbody tr th:only-of-type {\n",
       "        vertical-align: middle;\n",
       "    }\n",
       "\n",
       "    .dataframe tbody tr th {\n",
       "        vertical-align: top;\n",
       "    }\n",
       "\n",
       "    .dataframe thead th {\n",
       "        text-align: right;\n",
       "    }\n",
       "</style>\n",
       "<table border=\"1\" class=\"dataframe\">\n",
       "  <thead>\n",
       "    <tr style=\"text-align: right;\">\n",
       "      <th></th>\n",
       "      <th>District</th>\n",
       "      <th>total_service_hours</th>\n",
       "      <th>unique_route</th>\n",
       "      <th>pct_total_service_hours</th>\n",
       "      <th>pct_unique_route</th>\n",
       "    </tr>\n",
       "  </thead>\n",
       "  <tbody>\n",
       "    <tr>\n",
       "      <th>4</th>\n",
       "      <td>1</td>\n",
       "      <td>685.0</td>\n",
       "      <td>57</td>\n",
       "      <td>1.3</td>\n",
       "      <td>3.0</td>\n",
       "    </tr>\n",
       "    <tr>\n",
       "      <th>7</th>\n",
       "      <td>2</td>\n",
       "      <td>417.0</td>\n",
       "      <td>45</td>\n",
       "      <td>0.8</td>\n",
       "      <td>2.4</td>\n",
       "    </tr>\n",
       "    <tr>\n",
       "      <th>2</th>\n",
       "      <td>3</td>\n",
       "      <td>2,215.0</td>\n",
       "      <td>142</td>\n",
       "      <td>4.1</td>\n",
       "      <td>7.6</td>\n",
       "    </tr>\n",
       "    <tr>\n",
       "      <th>0</th>\n",
       "      <td>4</td>\n",
       "      <td>25,825.0</td>\n",
       "      <td>708</td>\n",
       "      <td>47.4</td>\n",
       "      <td>37.8</td>\n",
       "    </tr>\n",
       "    <tr>\n",
       "      <th>9</th>\n",
       "      <td>5</td>\n",
       "      <td>1,419.0</td>\n",
       "      <td>89</td>\n",
       "      <td>2.6</td>\n",
       "      <td>4.8</td>\n",
       "    </tr>\n",
       "    <tr>\n",
       "      <th>6</th>\n",
       "      <td>6</td>\n",
       "      <td>1,296.0</td>\n",
       "      <td>70</td>\n",
       "      <td>2.4</td>\n",
       "      <td>3.7</td>\n",
       "    </tr>\n",
       "    <tr>\n",
       "      <th>1</th>\n",
       "      <td>7</td>\n",
       "      <td>10,187.0</td>\n",
       "      <td>404</td>\n",
       "      <td>18.7</td>\n",
       "      <td>21.6</td>\n",
       "    </tr>\n",
       "    <tr>\n",
       "      <th>5</th>\n",
       "      <td>8</td>\n",
       "      <td>2,032.0</td>\n",
       "      <td>76</td>\n",
       "      <td>3.7</td>\n",
       "      <td>4.1</td>\n",
       "    </tr>\n",
       "    <tr>\n",
       "      <th>8</th>\n",
       "      <td>9</td>\n",
       "      <td>208.0</td>\n",
       "      <td>20</td>\n",
       "      <td>0.4</td>\n",
       "      <td>1.1</td>\n",
       "    </tr>\n",
       "    <tr>\n",
       "      <th>3</th>\n",
       "      <td>10</td>\n",
       "      <td>1,193.0</td>\n",
       "      <td>82</td>\n",
       "      <td>2.2</td>\n",
       "      <td>4.4</td>\n",
       "    </tr>\n",
       "    <tr>\n",
       "      <th>11</th>\n",
       "      <td>11</td>\n",
       "      <td>4,891.0</td>\n",
       "      <td>97</td>\n",
       "      <td>9.0</td>\n",
       "      <td>5.2</td>\n",
       "    </tr>\n",
       "    <tr>\n",
       "      <th>10</th>\n",
       "      <td>12</td>\n",
       "      <td>4,112.0</td>\n",
       "      <td>83</td>\n",
       "      <td>7.5</td>\n",
       "      <td>4.4</td>\n",
       "    </tr>\n",
       "  </tbody>\n",
       "</table>\n",
       "</div>"
      ],
      "text/plain": [
       "    District  total_service_hours  unique_route  pct_total_service_hours  \\\n",
       "4          1                685.0            57                      1.3   \n",
       "7          2                417.0            45                      0.8   \n",
       "2          3              2,215.0           142                      4.1   \n",
       "0          4             25,825.0           708                     47.4   \n",
       "9          5              1,419.0            89                      2.6   \n",
       "6          6              1,296.0            70                      2.4   \n",
       "1          7             10,187.0           404                     18.7   \n",
       "5          8              2,032.0            76                      3.7   \n",
       "8          9                208.0            20                      0.4   \n",
       "3         10              1,193.0            82                      2.2   \n",
       "11        11              4,891.0            97                      9.0   \n",
       "10        12              4,112.0            83                      7.5   \n",
       "\n",
       "    pct_unique_route  \n",
       "4                3.0  \n",
       "7                2.4  \n",
       "2                7.6  \n",
       "0               37.8  \n",
       "9                4.8  \n",
       "6                3.7  \n",
       "1               21.6  \n",
       "5                4.1  \n",
       "8                1.1  \n",
       "3                4.4  \n",
       "11               5.2  \n",
       "10               4.4  "
      ]
     },
     "execution_count": 14,
     "metadata": {},
     "output_type": "execute_result"
    }
   ],
   "source": [
    "by_district = geography_utils.aggregate_by_geography(\n",
    "    df[df.category==\"parallel\"],\n",
    "    group_cols = [\"District\"],\n",
    "    sum_cols = [\"total_service_hours\", \"unique_route\"]\n",
    ")\n",
    "\n",
    "by_district = (add_percent(by_district, [\"total_service_hours\", \"unique_route\"])\n",
    "               .sort_values(\"District\")\n",
    "              )\n",
    "\n",
    "for c in [\"pct_total_service_hours\", \"pct_unique_route\"]:\n",
    "    by_district[c] = by_district[c].round(1)\n",
    "    \n",
    "by_district"
   ]
  },
  {
   "cell_type": "code",
   "execution_count": 15,
   "id": "7faed671-aa09-4c22-b9b3-da1eeddb4fa7",
   "metadata": {},
   "outputs": [
    {
     "data": {
      "text/html": [
       "<style>\n",
       "@import url('https://fonts.googleapis.com/css?family=Raleway');\n",
       "@import url('https://fonts.googleapis.com/css?family=Nunito+Sans');\n",
       "@import url('https://fonts.googleapis.com/css?family=Bitter');\n",
       "</style>\n"
      ],
      "text/plain": [
       "<IPython.core.display.HTML object>"
      ]
     },
     "metadata": {},
     "output_type": "display_data"
    }
   ],
   "source": [
    "%%html\n",
    "<style>\n",
    "@import url('https://fonts.googleapis.com/css?family=Raleway');\n",
    "@import url('https://fonts.googleapis.com/css?family=Nunito+Sans');\n",
    "@import url('https://fonts.googleapis.com/css?family=Bitter');\n",
    "</style>"
   ]
  },
  {
   "cell_type": "code",
   "execution_count": 16,
   "id": "48a970c5-e644-4421-8aba-86e61f9b3f3a",
   "metadata": {},
   "outputs": [],
   "source": [
    "def base_bar(df):\n",
    "    chart = (alt.Chart(df)\n",
    "             .mark_bar()\n",
    "             .encode(\n",
    "                 x=alt.X(\"District:N\", title=\"District\")\n",
    "             )\n",
    "            )\n",
    "    return chart\n",
    "\n",
    "def make_bar(df, y_col):\n",
    "    \n",
    "    y_title = f\"{y_col.replace('_', ' ').title()}\"\n",
    "    \n",
    "    bar = base_bar(df)\n",
    "    \n",
    "    bar = (bar.encode(\n",
    "        y=alt.Y(f\"{y_col}:Q\", title=f\"{y_title}\"),\n",
    "        color=alt.Color(\"District:N\", \n",
    "                        scale=alt.Scale(\n",
    "                            range=cp.CALITP_CATEGORY_BRIGHT_COLORS\n",
    "                        )\n",
    "                )\n",
    "             )\n",
    "            )\n",
    "    #https://stackoverflow.com/questions/54015250/altair-setting-constant-label-color-for-bar-chart\n",
    "    text = (bar\n",
    "            .mark_text(align=\"center\", baseline=\"bottom\",\n",
    "                       color=\"black\", dy=-5  \n",
    "                      )\n",
    "            .encode(text=y_col, \n",
    "                    # Set color here, because encoding for mark_text gets \n",
    "                    # superseded by alt.Color\n",
    "                   color=alt.value(\"black\"))\n",
    "    )\n",
    "      \n",
    "    chart = (bar+text)\n",
    "    \n",
    "    chart = (styleguide.preset_chart_config(chart)\n",
    "             .properties(title= {\n",
    "                 \"text\": f\"{y_title} by District\",\n",
    "                 \"subtitle\": \"Parallel Routes\"\n",
    "            }).configure_axis(grid=False)\n",
    "            )\n",
    "    \n",
    "    chart.save(f\"{utils.IMG_PATH}pmac_{y_col}.png\")\n",
    "    \n",
    "    display(chart)"
   ]
  },
  {
   "cell_type": "code",
   "execution_count": 17,
   "id": "6f0c0de9-1344-4169-9ca5-aaf551b6e679",
   "metadata": {},
   "outputs": [],
   "source": [
    "by_district = by_district.assign(\n",
    "    avg_service_hours = by_district.total_service_hours.divide(\n",
    "        by_district.unique_route).round(1)\n",
    ")"
   ]
  },
  {
   "cell_type": "code",
   "execution_count": 18,
   "id": "378a7f37-3a7a-4ad0-a228-89b21408b5d8",
   "metadata": {},
   "outputs": [
    {
     "data": {
      "image/png": "[encoded data removed]",
      "text/plain": [
       "alt.LayerChart(...)"
      ]
     },
     "metadata": {},
     "output_type": "display_data"
    },
    {
     "data": {
      "image/png": "[encoded data removed]",
      "text/plain": [
       "alt.LayerChart(...)"
      ]
     },
     "metadata": {},
     "output_type": "display_data"
    }
   ],
   "source": [
    "metrics = [\n",
    "    \"total_service_hours\", \n",
    "    #\"unique_route\", \n",
    "    \"avg_service_hours\"\n",
    "]\n",
    "\n",
    "for m in metrics:\n",
    "    make_bar(by_district, m)"
   ]
  },
  {
   "cell_type": "code",
   "execution_count": null,
   "id": "991b100a-8572-4fa7-8968-9f22b1faf757",
   "metadata": {},
   "outputs": [],
   "source": []
  }
 ],
 "metadata": {
  "kernelspec": {
   "display_name": "Python 3 (ipykernel)",
   "language": "python",
   "name": "python3"
  },
  "language_info": {
   "codemirror_mode": {
    "name": "ipython",
    "version": 3
   },
   "file_extension": ".py",
   "mimetype": "text/x-python",
   "name": "python",
   "nbconvert_exporter": "python",
   "pygments_lexer": "ipython3",
   "version": "3.9.7"
  }
 },
 "nbformat": 4,
 "nbformat_minor": 5
}
