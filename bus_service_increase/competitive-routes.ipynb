{
 "cells": [
  {
   "cell_type": "code",
   "execution_count": null,
   "id": "95d00857-6a20-4529-a519-2cc7182928a9",
   "metadata": {},
   "outputs": [],
   "source": [
    "%%capture\n",
    "import warnings\n",
    "warnings.filterwarnings('ignore')\n",
    "\n",
    "import altair as alt\n",
    "import branca\n",
    "import calitp.magics\n",
    "import geopandas as gpd\n",
    "import intake\n",
    "import pandas as pd\n",
    "\n",
    "from IPython.display import display, Markdown, HTML\n",
    "\n",
    "import parallel_corridors_utils\n",
    "import deploy_portfolio_yaml\n",
    "from shared_utils import styleguide\n",
    "\n",
    "catalog = intake.open_catalog(\"./*.yml\")\n",
    "alt.renderers.enable(\"html\")\n",
    "alt.data_transformers.enable('default', max_rows=None)"
   ]
  },
  {
   "cell_type": "code",
   "execution_count": null,
   "id": "8af2a0c1-f3da-408d-9bea-11d9fbf8695d",
   "metadata": {
    "tags": [
     "parameters"
    ]
   },
   "outputs": [],
   "source": [
    "# parameters cell\n",
    "itp_id = 182"
   ]
  },
  {
   "cell_type": "code",
   "execution_count": null,
   "id": "9582aaf4-79ff-412a-b248-8d8d693ebd4f",
   "metadata": {},
   "outputs": [],
   "source": [
    "df = catalog.competitive_route_variability.read()\n",
    "\n",
    "df = (df[df.calitp_itp_id == itp_id]\n",
    "      .rename(columns = {\"route_name_used\": \"route_name\"})\n",
    "      .reset_index(drop=True)\n",
    "     )\n",
    "\n",
    "\n",
    "if itp_id == 182:\n",
    "    df = df.assign(\n",
    "        route_id = df.route_id.str.split('-131', expand=True)[0],\n",
    "    )\n",
    "\n",
    "# Use route_short_name instead\n",
    "# But where route_short_name is missing, use route_id\n",
    "df = df.assign(\n",
    "    route_id2 = df.apply(lambda x: x.route_short_name \n",
    "                         if x.route_short_name is not None \n",
    "                         else x.route_id, axis=1),\n",
    "    route_short_name = df.apply(lambda x: x.route_long_name\n",
    "                               if x.route_short_name is None\n",
    "                               else x.route_short_name, axis=1)\n",
    ")"
   ]
  },
  {
   "cell_type": "code",
   "execution_count": null,
   "id": "33ac4b06-f647-4dce-a625-8f2c1b37cc60",
   "metadata": {},
   "outputs": [],
   "source": [
    "%%capture_parameters\n",
    "operator_name = df.calitp_agency_name.iloc[0]\n",
    "district_number = f\"{df.caltrans_district.iloc[0].split('-')[0].strip()}\"\n",
    "district_name = f\"{df.caltrans_district.iloc[0].split('-')[1].strip().lower().replace(' ', '-')}\"\n",
    "\n",
    "itp_id, operator_name, district_number, district_name"
   ]
  },
  {
   "cell_type": "markdown",
   "id": "65bc6f5c-8348-42ee-b2dd-52057c406852",
   "metadata": {},
   "source": [
    "# {operator_name}"
   ]
  },
  {
   "cell_type": "code",
   "execution_count": null,
   "id": "a689c1ab-2c6c-4831-8d64-897f5986f571",
   "metadata": {},
   "outputs": [],
   "source": [
    "display(HTML(\"<h1>Competitive Routes near SHN</h1>\")) "
   ]
  },
  {
   "cell_type": "code",
   "execution_count": null,
   "id": "2cb4d8d5-4760-40e4-85b1-cb833d8bb648",
   "metadata": {
    "tags": []
   },
   "outputs": [],
   "source": [
    "# Grab parameters for narrative text - clean up formatting here \n",
    "district = df.caltrans_district.iloc[0]\n",
    "formatted_date = pd.to_datetime(\n",
    "    parallel_corridors_utils.ANALYSIS_DATE).strftime('%m-%d-%Y')\n",
    "\n",
    "PCT_COMPETITIVE_THRESHOLD = parallel_corridors_utils.PCT_COMPETITIVE_THRESHOLD\n",
    "\n",
    "stats = parallel_corridors_utils.operator_parallel_competitive_stats(\n",
    "    itp_id, PCT_COMPETITIVE_THRESHOLD)\n",
    "\n",
    "pct_parallel = round(\n",
    "    stats['on_shn_or_intersecting_routes'] / stats['num_routes'] * 100 , 1)\n",
    "pct_competitive =  round(\n",
    "    stats['competitive_routes'] / stats['num_routes'] * 100, 1)\n",
    "pct_competitive_and_parallel = round(\n",
    "    stats['competitive_routes_on_shn_or_intersecting'] / stats['num_routes'] * 100, 1)"
   ]
  },
  {
   "cell_type": "markdown",
   "id": "ab667928-5274-4490-82d9-4c39293209a4",
   "metadata": {},
   "source": [
    "## Quick Stats"
   ]
  },
  {
   "cell_type": "code",
   "execution_count": null,
   "id": "0416509d-dc62-4165-b62e-64f8b26e8b8e",
   "metadata": {},
   "outputs": [],
   "source": [
    "display(\n",
    "    Markdown(\n",
    "        f\"**Bus routes in service: {stats['num_routes']}**\"\n",
    "        \"<br>**Routes near** the State Highway Network (SHN): \"\n",
    "        f\"**{stats['on_shn_or_intersecting_routes']} routes ({pct_parallel}%)**\"\n",
    "        \"<br>**Competitive routes** against car travel \"\n",
    "        \"(within 1.5x car travel time): \"\n",
    "        f\"**{stats['competitive_routes']} routes ({pct_competitive}%)**\"\n",
    "        \"<br>**Near SHN and competitive routes** against car travel \"\n",
    "        \"(within 1.5x car travel time): \"\n",
    "        f\"**{stats['competitive_routes_on_shn_or_intersecting']} routes ({pct_competitive_and_parallel}%)**\"\n",
    "    )\n",
    ")"
   ]
  },
  {
   "cell_type": "code",
   "execution_count": null,
   "id": "f9d6ab58-f0ee-460c-b6de-657490e1f386",
   "metadata": {},
   "outputs": [],
   "source": [
    "def set_yaxis_range(df, y_col):\n",
    "    Y_MIN = df[y_col].min()\n",
    "    Y_MAX = df[y_col].max()\n",
    "    \n",
    "    return Y_MIN, Y_MAX\n",
    "\n",
    "# Rather than set it according to the operator, which can vary,\n",
    "# just use set thresholds for each group\n",
    "def top15_routes(df, route_group):\n",
    "    # grab top 15 routes where majority of trips are below that cut-off \n",
    "    # but show 15 max, otherwise, show less, since these won't be as interesting to operators\n",
    "    df2 = (df[(df.route_group==route_group) & \n",
    "              (df.category.isin([\"on_shn\", \"intersects_shn\"]))]\n",
    "           .sort_values([\"calitp_itp_id\", \n",
    "                         \"pct_trips_competitive\", \"route_id\"],\n",
    "                        ascending = [True, False, True]\n",
    "                       )\n",
    "           .drop_duplicates(subset=[\"calitp_itp_id\", \"route_id\"])\n",
    "          ).head(15)\n",
    "    \n",
    "    if len(df2) > 1:\n",
    "        return list(df2.route_id)"
   ]
  },
  {
   "cell_type": "code",
   "execution_count": null,
   "id": "cf36d559-3349-4144-8086-8ac9ce937a5a",
   "metadata": {},
   "outputs": [],
   "source": [
    "def remove_datetime_columns(df: gpd.GeoDataFrame) -> gpd.GeoDataFrame:\n",
    "    # These columns will throw JSON not serializable error\n",
    "    # in altair\n",
    "    # but can't use df.select_dtypes(exclude=\"datetime\") because\n",
    "    # some are stored as objects\n",
    "    remove_cols = [\"service_date\", \n",
    "                   \"trip_first_departure\", \n",
    "                   \"trip_departure\"]\n",
    "    \n",
    "    return df.drop(columns = remove_cols)\n",
    "\n",
    "def remove_datetime_and_geom_columns(df: gpd.GeoDataFrame) -> pd.DataFrame:\n",
    "    return remove_datetime_columns(df).drop(\n",
    "        columns = \"geometry\")"
   ]
  },
  {
   "cell_type": "code",
   "execution_count": null,
   "id": "e4306d58-6944-47e9-afef-5d5b524c751f",
   "metadata": {},
   "outputs": [],
   "source": [
    "def setup_charts(df: pd.DataFrame, route_group: str) -> list:\n",
    "    \n",
    "    # Set y-ranges to be the same across route_groups, \n",
    "    # otherwise charts fluctuate too much, even within operator\n",
    "    y_col1 = \"bus_multiplier\"\n",
    "    Y_MIN1, Y_MAX1 = set_yaxis_range(df, y_col1)\n",
    "\n",
    "    # Grab the routes to plot\n",
    "    subset_routes = top15_routes(df, route_group)\n",
    "    \n",
    "    if subset_routes is not None:\n",
    "        if len(subset_routes) > 1:\n",
    "        \n",
    "            # Display charts\n",
    "            multiplier_chart = parallel_corridors_utils.make_stripplot(\n",
    "                df[df.route_id.isin(subset_routes)], \n",
    "                y_col1, Y_MIN = Y_MIN1, Y_MAX = 2.5\n",
    "            )\n",
    "\n",
    "            return subset_routes, multiplier_chart \n",
    "\n",
    "    else: \n",
    "        return None\n"
   ]
  },
  {
   "cell_type": "code",
   "execution_count": null,
   "id": "ca91a117-de05-4dd3-bad1-f7f7630ad097",
   "metadata": {},
   "outputs": [],
   "source": [
    "# Display a table of route-level stats for each route_group\n",
    "# Displaying route_name makes chart too crowded    \n",
    "def style_route_stats(df):\n",
    "    df = df.assign(\n",
    "        route_short_name = df.apply(lambda x: \n",
    "                                    x.route_long_name if x.route_short_name is None\n",
    "                                    else x.route_short_name, axis=1)\n",
    "    )\n",
    "    \n",
    "    # Rename columns for display\n",
    "    rename_cols = {\n",
    "        \"route_id2\": \"Route ID\",\n",
    "        \"route_short_name\": \"Route Name\",\n",
    "        \"route_group\": \"Route Group\",\n",
    "        \"num_trips\": \"# trips\",\n",
    "        \"daily_avg_freq\": \"Daily Avg Freq (trips per hr)\",\n",
    "        \"pm_peak_freq\": \"PM Peak Avg Freq (trips per hr)\",\n",
    "        \"percentiles\": \"25th, 50th, 75th ptile (hrs)\",\n",
    "        \"mean_speed_mph\": \"Avg Daily Speed (mph)\",\n",
    "    }\n",
    "    \n",
    "    # Style it\n",
    "    drop_cols = [\n",
    "        \"calitp_itp_id\", \"route_id\", \"route_group\", \n",
    "        \"pct_trips_competitive\",\n",
    "        \"p25\", \"p50\", \"p75\",\n",
    "        \"category\"\n",
    "    ]\n",
    "    \n",
    "    # Change alignment for some columns\n",
    "    # https://stackoverflow.com/questions/59453091/left-align-the-first-column-and-center-align-the-other-columns-in-a-pandas-table\n",
    "    df_style = (df.sort_values(\n",
    "        [\"pct_trips_competitive\", \"route_id2\"], \n",
    "        ascending=[False , True])\n",
    "           .drop(columns = drop_cols)\n",
    "           .rename(columns = rename_cols)\n",
    "           .style.format(\n",
    "               subset=['Daily Avg Freq (trips per hr)', \n",
    "                       'PM Peak Avg Freq (trips per hr)', \n",
    "                       'Avg Daily Speed (mph)', \n",
    "                      ], \n",
    "               **{'formatter': '{:,.3}'})\n",
    "                .set_properties(subset=['Route ID', 'Route Name'], \n",
    "                                **{'text-align': 'left'})\n",
    "                .set_properties(subset=['# trips', 'Daily Avg Freq (trips per hr)', \n",
    "                                       'PM Peak Avg Freq (trips per hr)', \n",
    "                                        'Avg Daily Speed (mph)',\n",
    "                                       ], \n",
    "                               **{'text-align': 'center'})\n",
    "                .set_table_styles([dict(selector='th', \n",
    "                                        props=[('text-align', 'center')])\n",
    "                                        ])\n",
    "           .hide(axis=\"index\")\n",
    "           .to_html()\n",
    "          )\n",
    "    \n",
    "    display(HTML(\"<h4>Route Stats</h4>\"))\n",
    "    display(HTML(df_style))"
   ]
  },
  {
   "cell_type": "code",
   "execution_count": null,
   "id": "33a710e8-504c-4942-aa75-ff69f216956e",
   "metadata": {},
   "outputs": [],
   "source": [
    "# Allow for possibility that operator doesn't have routes that fall into certain route_groups\n",
    "# But, jupyterbook will not like markdown with f-string\n",
    "# separate out route_group and put in each cell, and use try/except + if to display...\n",
    "# but all 3 route groups must be displayed. \n",
    "# just add sentence about why no routes were returned at the end\n",
    "# Change to fewer than 2 routes, instead of no routes, because we don't want to show just 1 route\n",
    "\n",
    "SPEED_COLORSCALE = branca.colormap.step.RdYlGn_11.scale(vmin=0, vmax=40)\n",
    "\n",
    "def make_map(gdf: gpd.GeoDataFrame) -> gpd.GeoDataFrame:\n",
    "    keep_cols = [\"calitp_itp_id\", \"route_id\", \n",
    "                 \"route_short_name\", \"route_long_name\", \n",
    "                 \"bus_multiplier\", \n",
    "                 \"pct_trips_competitive\",\n",
    "                 \"mean_speed_mph\", \"geometry\"\n",
    "                ]\n",
    "    \n",
    "    gdf2 = gdf[keep_cols]\n",
    "    \n",
    "    if gdf2.mean_speed_mph.isnull().all():\n",
    "        plot_col = \"route_id\"\n",
    "        c = True\n",
    "        colorscale = \"tab20\"\n",
    "    else:\n",
    "        plot_col = \"mean_speed_mph\"\n",
    "        gdf2 = gdf2[gdf2.mean_speed_mph.notna()]\n",
    "        c = False\n",
    "        colorscale = SPEED_COLORSCALE\n",
    "    \n",
    "    m = gdf2.explore(plot_col, categorical = c, \n",
    "                     cmap = colorscale,\n",
    "                     tiles = \"CartoDB Positron\")\n",
    "    \n",
    "    display(m)\n",
    "\n",
    "    \n",
    "def display_charts_for_route_group(df, route_group):\n",
    "        \n",
    "    plot_me = remove_datetime_columns(\n",
    "        df[(df.pct_trips_competitive > PCT_COMPETITIVE_THRESHOLD) & \n",
    "           (df.category.isin([\"on_shn\", \"intersects_shn\"]))\n",
    "          ])\n",
    "    \n",
    "    \n",
    "    if setup_charts(plot_me, route_group) is not None:\n",
    "        \n",
    "        subset_routes, mult = setup_charts(plot_me.drop(columns = \"geometry\"), \n",
    "                                           route_group)\n",
    "        \n",
    "        display(mult)\n",
    "\n",
    "        # Display route stats for just plotted routes\n",
    "        route_stats = parallel_corridors_utils.competitive_route_level_stats(\n",
    "            plot_me[plot_me.route_id.isin(subset_routes)].drop(columns = \"geometry\"))\n",
    "\n",
    "        style_route_stats(route_stats)\n",
    "\n",
    "        make_map(plot_me[plot_me.route_id.isin(subset_routes)])\n",
    "        \n",
    "    else:\n",
    "        print(\"No routes meet this criteria.\")"
   ]
  },
  {
   "cell_type": "markdown",
   "id": "525f9b38-072b-46d1-96a8-1aa4b038357c",
   "metadata": {},
   "source": [
    "## Competitive Routes\n",
    "### Short Routes (< 1 hr)"
   ]
  },
  {
   "cell_type": "code",
   "execution_count": null,
   "id": "57f7084c-2cf7-45c6-ba08-1609e0bd6ca5",
   "metadata": {},
   "outputs": [],
   "source": [
    "route_group = \"short\"\n",
    "display_charts_for_route_group(df, route_group)"
   ]
  },
  {
   "cell_type": "markdown",
   "id": "c2931b6f-034d-4384-9e14-80b925e3b820",
   "metadata": {},
   "source": [
    "### Medium Routes (1-1.5 hrs)"
   ]
  },
  {
   "cell_type": "code",
   "execution_count": null,
   "id": "480edddc-4de0-48c2-ae4c-b0ceef8f28b5",
   "metadata": {},
   "outputs": [],
   "source": [
    "route_group = \"medium\"\n",
    "display_charts_for_route_group(df, route_group)"
   ]
  },
  {
   "cell_type": "markdown",
   "id": "124b76d0-886c-4d03-92ac-f1bda3cda182",
   "metadata": {},
   "source": [
    "### Long Routes (> 1.5 hrs)"
   ]
  },
  {
   "cell_type": "code",
   "execution_count": null,
   "id": "ddc81b19-4c45-4c81-8b7a-5e0f394aa7a3",
   "metadata": {},
   "outputs": [],
   "source": [
    "route_group = \"long\"\n",
    "display_charts_for_route_group(df, route_group)"
   ]
  },
  {
   "cell_type": "markdown",
   "id": "ace75b5f-0442-4fbe-aebd-6c3a13ae13a7",
   "metadata": {},
   "source": [
    "### GTFS Real-Time Speedmaps"
   ]
  },
  {
   "cell_type": "code",
   "execution_count": null,
   "id": "a0a114a1-e975-4027-9daf-50029f5ef59f",
   "metadata": {},
   "outputs": [],
   "source": [
    "RT_SITE_YAML = \"../portfolio/sites/rt.yml\"\n",
    "\n",
    "# Grab list of ITP IDs with GTFS RT speedmaps\n",
    "rt_itp_id_dict = deploy_portfolio_yaml.check_if_rt_data_available(RT_SITE_YAML)\n",
    "\n",
    "\n",
    "if itp_id in list(rt_itp_id_dict.keys()):\n",
    "\n",
    "    # Construct the URL \n",
    "    RT_URL = (\"https://analysis.calitp.org/rt/\"\n",
    "              f\"district_{district_number}-{district_name}/\"\n",
    "              f\"{rt_itp_id_dict[itp_id]}__speedmaps__\"\n",
    "              f\"district_{district_number}-{district_name}__\"\n",
    "              f\"itp_id_{itp_id}.html\"\n",
    "             ) \n",
    "\n",
    "    # If this ITP ID is found in RT analysis, give URL to that operator in analysis.calitp.org\n",
    "    display(HTML(f'''<a href={RT_URL}>GTFS RT speedmaps here.</a>'''))\n",
    "\n",
    "else:\n",
    "    display(HTML(\"No GTFS RT data available.\"))"
   ]
  },
  {
   "cell_type": "code",
   "execution_count": null,
   "id": "4167daf2-0c91-47c3-b2fc-2467451b09c1",
   "metadata": {},
   "outputs": [],
   "source": []
  }
 ],
 "metadata": {
  "kernelspec": {
   "display_name": "Python 3 (ipykernel)",
   "language": "python",
   "name": "python3"
  },
  "language_info": {
   "codemirror_mode": {
    "name": "ipython",
    "version": 3
   },
   "file_extension": ".py",
   "mimetype": "text/x-python",
   "name": "python",
   "nbconvert_exporter": "python",
   "pygments_lexer": "ipython3",
   "version": "3.10.5"
  }
 },
 "nbformat": 4,
 "nbformat_minor": 5
}
