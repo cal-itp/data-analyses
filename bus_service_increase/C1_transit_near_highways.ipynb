{
 "cells": [
  {
   "cell_type": "code",
   "execution_count": 1,
   "id": "8ca5f440-f961-4d22-b288-44a6eae5ea69",
   "metadata": {},
   "outputs": [
    {
     "name": "stderr",
     "output_type": "stream",
     "text": [
      "/opt/conda/lib/python3.9/site-packages/geopandas/_compat.py:111: UserWarning: The Shapely GEOS version (3.10.2-CAPI-1.16.0) is incompatible with the GEOS version PyGEOS was compiled with (3.10.1-CAPI-1.16.0). Conversions between both will be slow.\n",
      "  warnings.warn(\n",
      "E0414 18:52:50.461524330    1378 fork_posix.cc:70]           Fork support is only compatible with the epoll1 and poll polling strategies\n",
      "E0414 18:52:52.708019355    1378 fork_posix.cc:70]           Fork support is only compatible with the epoll1 and poll polling strategies\n"
     ]
    }
   ],
   "source": [
    "import geopandas as gpd\n",
    "import ipywidgets as widgets\n",
    "import pandas as pd\n",
    "\n",
    "from IPython.display import Markdown, HTML\n",
    "\n",
    "import setup_corridors_stats\n",
    "from create_parallel_corridors import IMG_PATH, DATA_PATH\n",
    "from shared_utils import map_utils, geography_utils\n",
    "from shared_utils import calitp_color_palette as cp"
   ]
  },
  {
   "cell_type": "code",
   "execution_count": 2,
   "id": "9c99f6e9-f1d9-4b14-b654-36676ce06431",
   "metadata": {},
   "outputs": [
    {
     "data": {
      "text/html": [
       "<h1>Parallel / Intersecting Bus Routes to the State Highway Network </h1>"
      ],
      "text/plain": [
       "<IPython.core.display.HTML object>"
      ]
     },
     "metadata": {},
     "output_type": "display_data"
    }
   ],
   "source": [
    "display(HTML(\"<h1>Parallel / Intersecting Bus Routes to the State Highway Network </h1>\"))"
   ]
  },
  {
   "cell_type": "code",
   "execution_count": 3,
   "id": "70969d59-3b04-419d-800b-faf74527866d",
   "metadata": {},
   "outputs": [],
   "source": [
    "gdf = gpd.read_parquet(f\"{DATA_PATH}parallel_or_intersecting.parquet\")\n",
    "highways= gpd.read_parquet(f\"{DATA_PATH}highways.parquet\")"
   ]
  },
  {
   "cell_type": "code",
   "execution_count": 4,
   "id": "6d5c938d-b664-4fd1-b240-aae94664238f",
   "metadata": {},
   "outputs": [],
   "source": [
    "operator_hwys = (gdf[[\"itp_id\", \"Route\"]][gdf.Route.notna()]\n",
    "                 .drop_duplicates()\n",
    "                 .astype(int)\n",
    "                )\n",
    "\n",
    "operator_hwys = (operator_hwys.groupby(\"itp_id\")[\"Route\"]\n",
    "                 .apply(lambda x: x.tolist())\n",
    "                 .reset_index()\n",
    "                 .rename(columns = {\"Route\": \"hwy_list\"})\n",
    "                )"
   ]
  },
  {
   "cell_type": "code",
   "execution_count": 5,
   "id": "971c3b46-6a67-4b1b-9cd2-2558835a9fef",
   "metadata": {},
   "outputs": [],
   "source": [
    "# Move aggregations to be done ahead of time, before dropdown\n",
    "rename_dict = {\n",
    "    \"itp_id\": \"ITP ID\",\n",
    "    \"pct_parallel\": \"% parallel\",\n",
    "    \"unique_route_id\": \"# Unique Bus Routes\",\n",
    "    \"num_parallel\": \"# Parallel Bus Routes\",\n",
    "}\n",
    "\n",
    "operator_stats = (setup_corridors_stats.aggregate(gdf, by=\"operator\")\n",
    "                  .sort_values(\"pct_parallel\", ascending=False)\n",
    "                  .reset_index(drop=True)\n",
    "                  .merge(operator_hwys, on = \"itp_id\")\n",
    "                 )\n",
    "\n",
    "hwy_stats = (setup_corridors_stats.aggregate(gdf, by=\"highway\")\n",
    "             .sort_values(\"pct_parallel\", ascending=False)\n",
    "             .reset_index(drop=True)\n",
    "            )    "
   ]
  },
  {
   "cell_type": "code",
   "execution_count": 6,
   "id": "02960fd7-878a-4c31-b3ce-3a3aedc2d65e",
   "metadata": {},
   "outputs": [],
   "source": [
    "def display_operator_stats(operator_stats, select_col = \"itp_id\", operator_name = 182, \n",
    "                           base_df = gdf):\n",
    "    # Style table\n",
    "    operator_stats = operator_stats[operator_stats[select_col]==operator_name]\n",
    "    \n",
    "    operator_table = (operator_stats.sort_values(\"pct_parallel\", ascending=False)\n",
    "                      .drop(columns = \"hwy_list\")\n",
    "                      .rename(columns = rename_dict)\n",
    "                      #.style({'% parallel': '{:,.1%}'.format,})\n",
    "    )\n",
    "    \n",
    "    hwy_df = highways[highways.Route.isin(operator_stats.hwy_list)]\n",
    "    \n",
    "    display(HTML(f\"<h2> Summary Stats for ITP ID: {operator_name}</h2>\"))\n",
    "    display(operator_table)\n",
    "    \n",
    "    # ugh, add gdf as additional arg? \n",
    "    make_transit_map(gdf[select_col]==operator_name, hwy_df)"
   ]
  },
  {
   "cell_type": "code",
   "execution_count": 7,
   "id": "0c2b14ff-c599-4797-a0a1-4af5832f8607",
   "metadata": {},
   "outputs": [],
   "source": [
    "def make_transit_map(operator_df, hwy_df):\n",
    "    ## Add a map to show the operator's routes and highways from C1\n",
    "    \n",
    "    def data_to_plot(df):\n",
    "        keep_cols = [\"itp_id\", \"route_id\", \n",
    "                     \"Route\", \"County\", \"District\", \"RouteType\",\n",
    "                     \"pct_route\", \"pct_highway\", \"parallel\",\n",
    "                     \"geometry\"\n",
    "                    ]\n",
    "        df = df[keep_cols].reset_index(drop=True)\n",
    "        df = df.assign(\n",
    "            geometry = df.geometry.buffer(200).simplify(tolerance=100),\n",
    "        )\n",
    "\n",
    "        # Use simplify to make gdf smaller\n",
    "        # folium map is creating too large of an HTML file to check in\n",
    "\n",
    "        return df\n",
    "\n",
    "    to_map = data_to_plot(operator_df)\n",
    "    \n",
    "    # Set various components for map\n",
    "    hwys_popup_dict = {\n",
    "        \"Route\": \"Highway Route\",\n",
    "        \"RouteType\": \"Route Type\",\n",
    "        \"County\": \"County\"   \n",
    "    }\n",
    "\n",
    "    transit_popup_dict = {\n",
    "        \"itp_id\": \"Operator ITP ID\",\n",
    "        \"route_id\": \"Route ID\",\n",
    "        \"pct_route\": \"% overlapping route\",\n",
    "        \"pct_highway\": \"% overlapping highway\",\n",
    "    }\n",
    "\n",
    "    hwys_color = branca.colormap.StepColormap(\n",
    "        colors=[\"black\", \"gray\"],\n",
    "    )\n",
    "\n",
    "    colorscale = branca.colormap.StepColormap(\n",
    "        colors=[\n",
    "            cp.CALITP_CATEGORY_BRIGHT_COLORS[0], #blue\n",
    "            cp.CALITP_CATEGORY_BRIGHT_COLORS[1] # orange\n",
    "        ],\n",
    "    )\n",
    "    \n",
    "    # Instead of using county centroid, calculate centroid from transit_df\n",
    "    # Otherwise, it's too zoomed out from where transit routes are\n",
    "    transit_centroid = (to_map\n",
    "                        .to_crs(geography_utils.WGS84).geometry.centroid\n",
    "                        .iloc[0]\n",
    "                       )\n",
    "\n",
    "    LAYERS_DICT = {\n",
    "        \"Highways\": {\"df\": hwy_df,\n",
    "            \"plot_col\": \"Route\",\n",
    "            \"popup_dict\": hwys_popup_dict, \n",
    "            \"tooltip_dict\": hwys_popup_dict,\n",
    "            \"colorscale\": hwys_color,\n",
    "        },\n",
    "        \"Transit Routes\": {\"df\": to_map,\n",
    "            \"plot_col\": \"parallel\",\n",
    "            \"popup_dict\": transit_popup_dict, \n",
    "            \"tooltip_dict\": transit_popup_dict,\n",
    "            \"colorscale\": colorscale,\n",
    "        },\n",
    "    }\n",
    "    \n",
    "    LEGEND_URL = (\n",
    "        \"https://github.com/cal-itp/data-analyses/raw/\"\n",
    "        \"main/bus_service_increase/\"\n",
    "        \"img/legend_intersecting_parallel.png\"\n",
    "    )\n",
    "    \n",
    "    LEGEND_DICT = {\n",
    "        \"legend_url\": LEGEND_URL,\n",
    "        \"legend_bottom\": 85,\n",
    "        \"legend_left\": 5,\n",
    "    }\n",
    "     \n",
    "    \n",
    "    fig = map_utils.make_folium_multiple_layers_map(\n",
    "        LAYERS_DICT,\n",
    "        fig_width = 700, fig_height = 700, \n",
    "        zoom=11, \n",
    "        centroid = [round(transit_centroid.y,2), \n",
    "                    round(transit_centroid.x, 2)], \n",
    "        title=f\"Parallel vs Intersecting Lines for {to_map.itp_id.iloc[0]}\",\n",
    "        legend_dict = LEGEND_DICT\n",
    "    )\n",
    "    \n",
    "    display(fig)\n",
    "    #fig.save(f\"{IMG_PATH}parallel_{operator_name}.html\")\n",
    "    #print(f\"{operator_name} map saved\")"
   ]
  },
  {
   "cell_type": "code",
   "execution_count": 8,
   "id": "e76d42f1-fae4-439f-8c30-59a6d2db5cd9",
   "metadata": {},
   "outputs": [],
   "source": [
    "def display_highway_stats(hwy_stats, select_col = \"Route\", hwy_name = 5, base_df = gdf):\n",
    "    # Subset for highways\n",
    "    hwy_stats = hwy_stats[hwy_stats[select_col]==hwy_name]\n",
    "    hwy_table = (hwy_stats.sort_values(\"pct_parallel\", ascending=False)\n",
    "                 .rename(columns = rename_dict)\n",
    "                 .reset_index(drop=True)\n",
    "                 #.style({'% parallel': '{:,.1%}'.format,})\n",
    "                )    \n",
    "    \n",
    "    display(HTML(f\"<h3>Summary Stats for Highway Route: {hwy_name} </h3>\"))\n",
    "    display(hwy_table)\n",
    "    "
   ]
  },
  {
   "cell_type": "code",
   "execution_count": 9,
   "id": "a42227e8-7b32-40ea-af07-20410a7ace3d",
   "metadata": {},
   "outputs": [],
   "source": [
    "## Think about how to wrap above interactive widget into a function\n",
    "# Be able to select agency, county, district, etc\n",
    "def interactive_widget(df, select_col):\n",
    "    dropdown_labels = {\n",
    "        \"itp_id\": \"ITP ID\",\n",
    "        \"Route\": \"Hwy Route\",\n",
    "    }\n",
    "    \n",
    "    dropdown = widgets.Dropdown(\n",
    "        description=f\"{dropdown_labels[select_col]}\",\n",
    "        options=df[select_col].sort_values().unique().tolist(),\n",
    "    )\n",
    "    output = widgets.Output()\n",
    "\n",
    "    display(dropdown)\n",
    "    display(output)\n",
    "\n",
    "    def on_selection(*args):\n",
    "        output.clear_output()\n",
    "        with output:\n",
    "            if select_col==\"Route\":\n",
    "                display_highway_stats(hwy_stats, select_col, dropdown.value)\n",
    "            elif select_col==\"itp_id\":\n",
    "                display_operator_stats(operator_stats, select_col, dropdown.value)\n",
    "\n",
    "    dropdown.observe(on_selection, names=\"value\")\n",
    "    on_selection()"
   ]
  },
  {
   "cell_type": "code",
   "execution_count": 10,
   "id": "b342df49-19fd-42c9-9ad8-06b2f6208fa8",
   "metadata": {},
   "outputs": [
    {
     "data": {
      "application/vnd.jupyter.widget-view+json": {
       "model_id": "b48d56703de048ffbe67082bde3b11e9",
       "version_major": 2,
       "version_minor": 0
      },
      "text/plain": [
       "Dropdown(description='ITP ID', options=(4, 6, 10, 11, 13, 14, 15, 16, 17, 18, 21, 23, 29, 30, 33, 34, 35, 36, …"
      ]
     },
     "metadata": {},
     "output_type": "display_data"
    },
    {
     "data": {
      "application/vnd.jupyter.widget-view+json": {
       "model_id": "64665fca398f460eb3377a0b22368b49",
       "version_major": 2,
       "version_minor": 0
      },
      "text/plain": [
       "Output()"
      ]
     },
     "metadata": {},
     "output_type": "display_data"
    }
   ],
   "source": [
    "interactive_widget(operator_stats, \"itp_id\")"
   ]
  },
  {
   "cell_type": "code",
   "execution_count": 11,
   "id": "7c649cc8-7737-440f-b197-6596bd0d7663",
   "metadata": {},
   "outputs": [
    {
     "data": {
      "application/vnd.jupyter.widget-view+json": {
       "model_id": "19b11bdf5765496e931e92cc98f35dfe",
       "version_major": 2,
       "version_minor": 0
      },
      "text/plain": [
       "Dropdown(description='Hwy Route', options=(1, 2, 3, 4, 5, 6, 7, 8, 9, 10, 11, 12, 13, 14, 15, 16, 17, 18, 20, …"
      ]
     },
     "metadata": {},
     "output_type": "display_data"
    },
    {
     "data": {
      "application/vnd.jupyter.widget-view+json": {
       "model_id": "6cf32857b7a74a4b99a1268b57f72858",
       "version_major": 2,
       "version_minor": 0
      },
      "text/plain": [
       "Output()"
      ]
     },
     "metadata": {},
     "output_type": "display_data"
    }
   ],
   "source": [
    "interactive_widget(hwy_stats, \"Route\")"
   ]
  },
  {
   "cell_type": "code",
   "execution_count": null,
   "id": "7bc92c41-8274-4886-bd95-5655692902ec",
   "metadata": {},
   "outputs": [],
   "source": []
  }
 ],
 "metadata": {
  "kernelspec": {
   "display_name": "Python 3 (ipykernel)",
   "language": "python",
   "name": "python3"
  },
  "language_info": {
   "codemirror_mode": {
    "name": "ipython",
    "version": 3
   },
   "file_extension": ".py",
   "mimetype": "text/x-python",
   "name": "python",
   "nbconvert_exporter": "python",
   "pygments_lexer": "ipython3",
   "version": "3.9.10"
  }
 },
 "nbformat": 4,
 "nbformat_minor": 5
}
