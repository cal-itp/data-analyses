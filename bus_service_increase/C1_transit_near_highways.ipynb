{
 "cells": [
  {
   "cell_type": "markdown",
   "id": "a1c88af3-6643-4915-afbe-c4abca271143",
   "metadata": {},
   "source": [
    "# Grab transit routes near the State Highway Network (SHN)\n",
    "\n",
    "Find transit routes within 1 mile of the SHN.\n",
    "\n",
    "Data Sources: \n",
    "* [SHN on Geoportal](https://opendata.arcgis.com/datasets/77f2d7ba94e040a78bfbe36feb6279da_0.geojson) > processed in `highway_transit_utils.py` > exported to GCS > saved in catalog.\n",
    "* Transit routes: all transit routes, those in `gtfs_schedule.shapes` and those not, but found in `stops`. Use `traffic_ops/export_shapefiles.py` created `routes_assembled.parquet` in GCS > saved in catalog."
   ]
  },
  {
   "cell_type": "code",
   "execution_count": null,
   "id": "8ca5f440-f961-4d22-b288-44a6eae5ea69",
   "metadata": {},
   "outputs": [],
   "source": [
    "import geopandas as gpd\n",
    "import intake\n",
    "import matplotlib.pyplot as plt\n",
    "import pandas as pd\n",
    "\n",
    "import highway_transit_utils\n",
    "from shared_utils import geography_utils\n",
    "\n",
    "catalog = intake.open_catalog(\"*.yml\")\n",
    "\n",
    "IMG_PATH = \"./img/\"\n",
    "DATA_PATH = \"./data/\""
   ]
  },
  {
   "cell_type": "code",
   "execution_count": null,
   "id": "39acda3a-4fe2-4c44-9856-e0a5f006e99c",
   "metadata": {},
   "outputs": [],
   "source": [
    "#overlay = highway_transit_utils.overlay_transit_to_highways()\n",
    "\n",
    "#highways.to_parquet(f\"{DATA_PATH}highways.parquet\")\n",
    "#transit_routes.to_parquet(f\"{DATA_PATH}transit_routes.parquet\")\n",
    "#overlay.to_parquet(f\"{DATA_PATH}overlay.parquet\")"
   ]
  },
  {
   "cell_type": "code",
   "execution_count": null,
   "id": "e27676ab-578e-4d02-8820-ce1fae59186f",
   "metadata": {},
   "outputs": [],
   "source": [
    "gdf = gpd.read_parquet(f\"{DATA_PATH}overlay.parquet\")\n",
    "transit_routes = gpd.read_parquet(f\"{DATA_PATH}transit_routes.parquet\")\n",
    "highways = gpd.read_parquet(f\"{DATA_PATH}highways.parquet\")\n",
    "\n",
    "gdf = gdf.assign(\n",
    "    pct_route = gdf.geometry.length / gdf.route_length,\n",
    "    pct_highway = gdf.geometry.length / gdf.highway_length,\n",
    ")\n",
    "\n",
    "gdf.head(2)"
   ]
  },
  {
   "cell_type": "code",
   "execution_count": null,
   "id": "3e60c24f-c894-4699-a88f-0caf447efb9a",
   "metadata": {},
   "outputs": [],
   "source": [
    "MAP_ME = {\n",
    "    182: \"LA Metro\", \n",
    "    294: \"SJ Valley Transportation Authority\", \n",
    "    279: \"BART\", \n",
    "    282: \"SF Muni\",\n",
    "    278: \"SD Metropolitan Transit System\", \n",
    "}\n",
    "\n",
    "for i, name in MAP_ME.items():\n",
    "    subset_df = gdf[gdf.itp_id==i]\n",
    "    print(f\"# routes originally for {i}: {transit_routes[transit_routes.itp_id==i].route_id.nunique()}\")\n",
    "    print(f\"# routes for {i}: {subset_df.route_id.nunique()}\")\n",
    "    \n",
    "    \n",
    "    fig, ax = plt.subplots(figsize  = (12, 8))\n",
    "    subset_df.plot(column=\"route_id\",  \n",
    "                         ax = ax)\n",
    "    ax.set_axis_off()\n",
    "    plt.title(f\"{name} (ITP ID: {i})\")\n",
    "    display(fig)\n",
    "    plt.close()"
   ]
  },
  {
   "cell_type": "code",
   "execution_count": null,
   "id": "c170c609-a854-44c9-a9dd-69d250a1333c",
   "metadata": {},
   "outputs": [],
   "source": [
    "gdf.pct_highway.describe()"
   ]
  },
  {
   "cell_type": "code",
   "execution_count": null,
   "id": "3153196c-3203-4ce7-bbdb-1bf8764e05e1",
   "metadata": {},
   "outputs": [],
   "source": [
    "gdf.pct_route.describe()"
   ]
  },
  {
   "cell_type": "code",
   "execution_count": null,
   "id": "9c4cd1ba-b5e6-4c95-993b-aa3c49c22712",
   "metadata": {},
   "outputs": [],
   "source": [
    "gdf[gdf.pct_highway > 1].pct_highway.describe()"
   ]
  },
  {
   "cell_type": "code",
   "execution_count": null,
   "id": "2e4efc09-d15b-4c7e-9dee-ca2487b438aa",
   "metadata": {},
   "outputs": [],
   "source": [
    "print(f\"# rows: {len(gdf)}\")\n",
    "print(f\"# rows with pct_highway > 1 (wrong?!): {len(gdf[gdf.pct_highway > 1])}\")\n",
    "print(f\"% rows with pct_highway > 1 (wrong?!): {len(gdf[gdf.pct_highway > 1]) / len(gdf)}\")"
   ]
  },
  {
   "cell_type": "markdown",
   "id": "7ea90c69-5b8a-47fb-8fdc-b8342ec567e9",
   "metadata": {},
   "source": [
    "There are some rows that have `pct_highway` > 1. `pct_route` falls between 0-1, and that's correct. `pct_highway` > 1 means that the transit route runs along that highway, most likely in both directions. \n",
    "\n",
    "LA Metro Line 910 (Silver Line) runs on the 110 freeway in both directions.\n",
    "\n",
    "Has to do with the fact that highway length was calculated only for 1 direction (similar to centerline). Can just set all `pct_highway` > 1 to be 1. The route runs the entirety of the highway segment, and once it hits the max, we can store that as 1. The length was calculated, then the 1 mile buffer drawn, then the dissolve (dissolve is computationally expensive)."
   ]
  },
  {
   "cell_type": "code",
   "execution_count": null,
   "id": "ab101c31-918c-495a-bca0-483e3fb787d6",
   "metadata": {},
   "outputs": [],
   "source": [
    "gdf[(gdf.pct_highway > 1) & (gdf.itp_id==182) & (gdf.County==\"LA\")\n",
    "   ][[\"route_id\", \"route_length\", \"Route\", \"highway_length\",\n",
    "      \"geometry\", \"pct_route\", \"pct_highway\"]]"
   ]
  },
  {
   "cell_type": "code",
   "execution_count": null,
   "id": "588dbb6d-0134-463b-bcda-9b617fbc11e4",
   "metadata": {},
   "outputs": [],
   "source": [
    "# Set pct_highway to have max of 1\n",
    "gdf = gdf.assign(\n",
    "    pct_highway = gdf.apply(lambda x: 1 if x.pct_highway > 1 \n",
    "                            else x.pct_highway, axis=1)\n",
    ")\n",
    "\n",
    "gdf.head(2)"
   ]
  },
  {
   "cell_type": "code",
   "execution_count": null,
   "id": "055cd036-19cd-496b-9ddd-cab1f381bd54",
   "metadata": {},
   "outputs": [],
   "source": [
    "def parallel_or_intersecting(df, pct_route_threshold=0.5, pct_highway_threshold=0.1):\n",
    "    df = df.assign(\n",
    "        parallel = df.apply(lambda x: \n",
    "                            1 if (\n",
    "                                (x.pct_route >= pct_route_threshold) and \n",
    "                                (x.pct_highway >= pct_highway_threshold)\n",
    "                            ) else 0, axis=1),\n",
    "    )\n",
    "    \n",
    "    return df"
   ]
  },
  {
   "cell_type": "code",
   "execution_count": null,
   "id": "135c2998-4ae8-4224-a853-be84daa32009",
   "metadata": {},
   "outputs": [],
   "source": [
    "orig_highways = (catalog.state_highway_network.read()\n",
    "                .to_crs(geography_utils.CA_StatePlane))\n",
    "    \n",
    "\n",
    "for i in [0, 0.05, 0.1, 0.15, 0.2]:\n",
    "    gdf2 = parallel_or_intersecting(gdf, pct_route_threshold=0.4, \n",
    "                                    pct_highway_threshold=i)\n",
    "    print(f\"highway threshold: {i}\")\n",
    "    print(\"------------------------------------\")\n",
    "    print(gdf2.parallel.value_counts())\n",
    "    print(f\"%: {len(gdf2[gdf2.parallel==1]) / len(gdf2)}\")\n",
    "    \n",
    "    for i, name in MAP_ME.items():\n",
    "        subset_df = gdf2[gdf2.itp_id==i]\n",
    "\n",
    "        print(f\"# routes for {i}: {subset_df.route_id.nunique()}\")\n",
    "        print(f\"# routes parallel: {len(subset_df[subset_df.parallel==1]) / len(subset_df)}\")\n",
    "    \n",
    "        fig, ax = plt.subplots(figsize  = (12, 8))\n",
    "        orig_highways[\n",
    "            (orig_highways.Route.isin(subset_df.Route)) & \n",
    "            (orig_highways.County.isin(subset_df.County))\n",
    "        ].drop_duplicates(subset=[\"Route\", \"County\"]).plot(ax=ax, color=\"gray\")\n",
    "        \n",
    "        subset_df.plot(column=\"parallel\", ax = ax, \n",
    "                       categorical=True, legend=True)\n",
    "        \n",
    "        ax.set_axis_off()\n",
    "        \n",
    "        plt.title(f\"{name} (ITP ID: {i}, parallel vs intersecting)\")\n",
    "        display(fig)\n",
    "        plt.close()"
   ]
  },
  {
   "cell_type": "code",
   "execution_count": null,
   "id": "c255c862-d896-40e9-a75d-4a81c3e6641f",
   "metadata": {},
   "outputs": [],
   "source": []
  }
 ],
 "metadata": {
  "kernelspec": {
   "display_name": "Python 3 (ipykernel)",
   "language": "python",
   "name": "python3"
  },
  "language_info": {
   "codemirror_mode": {
    "name": "ipython",
    "version": 3
   },
   "file_extension": ".py",
   "mimetype": "text/x-python",
   "name": "python",
   "nbconvert_exporter": "python",
   "pygments_lexer": "ipython3",
   "version": "3.9.7"
  }
 },
 "nbformat": 4,
 "nbformat_minor": 5
}
